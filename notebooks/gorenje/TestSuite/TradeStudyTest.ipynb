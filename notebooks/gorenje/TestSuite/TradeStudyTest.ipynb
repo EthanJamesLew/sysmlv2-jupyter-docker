{
 "cells": [
  {
   "cell_type": "markdown",
   "id": "787dd198",
   "metadata": {},
   "source": [
    "# SysML v2 Test Suite\n",
    "\n",
    "This can notebook can be cleared using menu `Edit --> Clear All Outputs` and then all cells can be\n",
    "run using menu `Run --> Run All Cells`.\n",
    "\n",
    "**WARNING**: This file is generated, all modifications here will be ignored.\n"
   ]
  },
  {
   "cell_type": "markdown",
   "id": "85d58a9a",
   "metadata": {},
   "source": [
    "## File: ../../sysml/src/examples/Simple Tests/TradeStudyTest.sysml"
   ]
  },
  {
   "cell_type": "code",
   "execution_count": 1,
   "id": "9dbde245",
   "metadata": {
    "execution": {
     "iopub.execute_input": "2021-11-13T13:01:37.037143Z",
     "iopub.status.busy": "2021-11-13T13:01:37.036021Z",
     "iopub.status.idle": "2021-11-13T13:01:37.444580Z",
     "shell.execute_reply": "2021-11-13T13:01:37.444766Z"
    }
   },
   "outputs": [
    {
     "data": {
      "text/plain": [
       "Package TradeStudyTest (d2890a82-7fe0-4a8b-b328-a36c2afc86e5)\n"
      ]
     },
     "execution_count": 1,
     "metadata": {},
     "output_type": "execute_result"
    }
   ],
   "source": [
    "package TradeStudyTest {\n",
    "\timport ScalarValues::Real;\n",
    "\timport TradeStudies::*;\n",
    "\t\n",
    "\tpart def Engine;\n",
    "\tpart engine1: Engine;\n",
    "\tpart engine2: Engine;\n",
    "\t\n",
    "\tanalysis engineTradeStudy : TradeStudy {\n",
    "\t\tsubject : Engine[1..*] = (engine1, engine2);\n",
    "\t\tobjective : MaximizeObjective;\n",
    "\n",
    "\t\tcalc :>> objectiveFunction {\n",
    "\t\t\tin part : Engine;\n",
    "\t\t\treturn : Real;\n",
    "\t\t}\n",
    "\t\t\n",
    "\t\treturn part : Engine;\n",
    "\t}\n",
    "\t\n",
    "}"
   ]
  },
  {
   "cell_type": "code",
   "execution_count": 2,
   "id": "ae90545f",
   "metadata": {
    "execution": {
     "iopub.execute_input": "2021-11-13T13:01:37.495660Z",
     "iopub.status.busy": "2021-11-13T13:01:37.495325Z",
     "iopub.status.idle": "2021-11-13T13:01:38.021441Z",
     "shell.execute_reply": "2021-11-13T13:01:38.019381Z"
    }
   },
   "outputs": [
    {
     "data": {
      "image/svg+xml": [
       "<?xml version=\"1.0\" encoding=\"UTF-8\" standalone=\"no\"?><svg xmlns=\"http://www.w3.org/2000/svg\" xmlns:xlink=\"http://www.w3.org/1999/xlink\" contentScriptType=\"application/ecmascript\" contentStyleType=\"text/css\" height=\"497px\" preserveAspectRatio=\"none\" style=\"width:568px;height:497px;\" version=\"1.1\" viewBox=\"0 0 568 497\" width=\"568px\" zoomAndPan=\"magnify\"><defs/><g><!--MD5=[fbc87193dbaf4d95561dea2c320d4a47]\n",
       "cluster E1--><a href=\"psysml:57f8a98c-5718-48d8-9b9a-5c4650640602\" target=\"_top\" title=\"psysml:57f8a98c-5718-48d8-9b9a-5c4650640602\" xlink:actuate=\"onRequest\" xlink:href=\"psysml:57f8a98c-5718-48d8-9b9a-5c4650640602\" xlink:show=\"new\" xlink:title=\"psysml:57f8a98c-5718-48d8-9b9a-5c4650640602\" xlink:type=\"simple\"><polygon fill=\"#FFFFFF\" points=\"18.75,6,134.75,6,141.75,28.2969,546.75,28.2969,546.75,485,18.75,485,18.75,6\" style=\"stroke: #000000; stroke-width: 1.5;\"/><line style=\"stroke: #000000; stroke-width: 1.5;\" x1=\"18.75\" x2=\"141.75\" y1=\"28.2969\" y2=\"28.2969\"/><text fill=\"#000000\" font-family=\"sans-serif\" font-size=\"14\" font-weight=\"bold\" lengthAdjust=\"spacingAndGlyphs\" textLength=\"110\" x=\"22.75\" y=\"20.9951\">TradeStudyTest</text></a><!--MD5=[b4997ac47864f28c2f74865a473b2911]\n",
       "class E2--><a href=\"psysml:6445380e-76a1-4d64-a2e6-1c63aec68392\" target=\"_top\" title=\"psysml:6445380e-76a1-4d64-a2e6-1c63aec68392\" xlink:actuate=\"onRequest\" xlink:href=\"psysml:6445380e-76a1-4d64-a2e6-1c63aec68392\" xlink:show=\"new\" xlink:title=\"psysml:6445380e-76a1-4d64-a2e6-1c63aec68392\" xlink:type=\"simple\"><rect fill=\"#FFFFFF\" height=\"45.9375\" id=\"E2\" style=\"stroke: #383838; stroke-width: 1.5;\" width=\"70\" x=\"200.75\" y=\"423\"/><text fill=\"#000000\" font-family=\"sans-serif\" font-size=\"12\" font-style=\"italic\" lengthAdjust=\"spacingAndGlyphs\" textLength=\"68\" x=\"201.75\" y=\"439.1387\">«part  def»</text><text fill=\"#000000\" font-family=\"sans-serif\" font-size=\"12\" lengthAdjust=\"spacingAndGlyphs\" textLength=\"43\" x=\"214.25\" y=\"453.1074\">Engine</text><line style=\"stroke: #383838; stroke-width: 1.5;\" x1=\"201.75\" x2=\"269.75\" y1=\"460.9375\" y2=\"460.9375\"/></a><!--MD5=[09b614a08d8cba4a07c9adeb5e0fee81]\n",
       "class E3--><a href=\"psysml:e07cfc3f-c273-4e94-9cbe-d128d50ec860\" target=\"_top\" title=\"psysml:e07cfc3f-c273-4e94-9cbe-d128d50ec860\" xlink:actuate=\"onRequest\" xlink:href=\"psysml:e07cfc3f-c273-4e94-9cbe-d128d50ec860\" xlink:show=\"new\" xlink:title=\"psysml:e07cfc3f-c273-4e94-9cbe-d128d50ec860\" xlink:type=\"simple\"><rect fill=\"#FFFFFF\" height=\"45.9375\" id=\"E3\" rx=\"10\" ry=\"10\" style=\"stroke: #383838; stroke-width: 1.5;\" width=\"112\" x=\"418.75\" y=\"316\"/><text fill=\"#000000\" font-family=\"sans-serif\" font-size=\"12\" font-style=\"italic\" lengthAdjust=\"spacingAndGlyphs\" textLength=\"40\" x=\"454.75\" y=\"332.1387\">«part»</text><text fill=\"#000000\" font-family=\"sans-serif\" font-size=\"12\" lengthAdjust=\"spacingAndGlyphs\" textLength=\"102\" x=\"421.75\" y=\"346.1074\">engine1: Engine</text><line style=\"stroke: #383838; stroke-width: 1.5;\" x1=\"419.75\" x2=\"529.75\" y1=\"353.9375\" y2=\"353.9375\"/></a><!--MD5=[ebbe1d658d1005bcc118a6aa81145e00]\n",
       "class E4--><a href=\"psysml:d9e10f1c-39bd-473d-af93-7c118d42db3b\" target=\"_top\" title=\"psysml:d9e10f1c-39bd-473d-af93-7c118d42db3b\" xlink:actuate=\"onRequest\" xlink:href=\"psysml:d9e10f1c-39bd-473d-af93-7c118d42db3b\" xlink:show=\"new\" xlink:title=\"psysml:d9e10f1c-39bd-473d-af93-7c118d42db3b\" xlink:type=\"simple\"><rect fill=\"#FFFFFF\" height=\"45.9375\" id=\"E4\" rx=\"10\" ry=\"10\" style=\"stroke: #383838; stroke-width: 1.5;\" width=\"112\" x=\"271.75\" y=\"316\"/><text fill=\"#000000\" font-family=\"sans-serif\" font-size=\"12\" font-style=\"italic\" lengthAdjust=\"spacingAndGlyphs\" textLength=\"40\" x=\"307.75\" y=\"332.1387\">«part»</text><text fill=\"#000000\" font-family=\"sans-serif\" font-size=\"12\" lengthAdjust=\"spacingAndGlyphs\" textLength=\"102\" x=\"274.75\" y=\"346.1074\">engine2: Engine</text><line style=\"stroke: #383838; stroke-width: 1.5;\" x1=\"272.75\" x2=\"382.75\" y1=\"353.9375\" y2=\"353.9375\"/></a><!--MD5=[270fce915f116d4de14055a7c1d9a0f3]\n",
       "class E5--><a href=\"psysml:f9c838ee-65e7-4043-9f07-1b30ef92e49c\" target=\"_top\" title=\"psysml:f9c838ee-65e7-4043-9f07-1b30ef92e49c\" xlink:actuate=\"onRequest\" xlink:href=\"psysml:f9c838ee-65e7-4043-9f07-1b30ef92e49c\" xlink:show=\"new\" xlink:title=\"psysml:f9c838ee-65e7-4043-9f07-1b30ef92e49c\" xlink:type=\"simple\"><rect fill=\"#FFFFFF\" height=\"45.9375\" id=\"E5\" rx=\"10\" ry=\"10\" style=\"stroke: #383838; stroke-width: 1.5;\" width=\"203\" x=\"248.25\" y=\"41\"/><text fill=\"#000000\" font-family=\"sans-serif\" font-size=\"12\" font-style=\"italic\" lengthAdjust=\"spacingAndGlyphs\" textLength=\"64\" x=\"317.75\" y=\"57.1387\">«analysis»</text><text fill=\"#000000\" font-family=\"sans-serif\" font-size=\"12\" lengthAdjust=\"spacingAndGlyphs\" textLength=\"193\" x=\"251.25\" y=\"71.1074\">engineTradeStudy: TradeStudy</text><line style=\"stroke: #383838; stroke-width: 1.5;\" x1=\"249.25\" x2=\"450.25\" y1=\"78.9375\" y2=\"78.9375\"/></a><!--MD5=[60a26617385b1d2d0262a64233df1f8d]\n",
       "class E6--><a href=\"psysml:38fbb285-8167-4e3f-bee3-2164ba524da7\" target=\"_top\" title=\"psysml:38fbb285-8167-4e3f-bee3-2164ba524da7\" xlink:actuate=\"onRequest\" xlink:href=\"psysml:38fbb285-8167-4e3f-bee3-2164ba524da7\" xlink:show=\"new\" xlink:title=\"psysml:38fbb285-8167-4e3f-bee3-2164ba524da7\" xlink:type=\"simple\"><rect fill=\"#FFFFFF\" height=\"45.9375\" id=\"E6\" rx=\"10\" ry=\"10\" style=\"stroke: #383838; stroke-width: 1.5;\" width=\"255\" x=\"87.25\" y=\"164\"/><text fill=\"#000000\" font-family=\"sans-serif\" font-size=\"12\" font-style=\"italic\" lengthAdjust=\"spacingAndGlyphs\" textLength=\"91\" x=\"169.25\" y=\"180.1387\">«requirement»</text><text fill=\"#000000\" font-family=\"sans-serif\" font-size=\"12\" lengthAdjust=\"spacingAndGlyphs\" textLength=\"245\" x=\"90.25\" y=\"194.1074\">tradeStudyObjective: MaximizeObjective</text><line style=\"stroke: #383838; stroke-width: 1.5;\" x1=\"88.25\" x2=\"341.25\" y1=\"201.9375\" y2=\"201.9375\"/></a><!--MD5=[2156ba9850f5573cc1fc38a6a4b2f02b]\n",
       "class E7--><a href=\"psysml:658dce09-b71c-4e6e-94c9-a3c46617ebc8\" target=\"_top\" title=\"psysml:658dce09-b71c-4e6e-94c9-a3c46617ebc8\" xlink:actuate=\"onRequest\" xlink:href=\"psysml:658dce09-b71c-4e6e-94c9-a3c46617ebc8\" xlink:show=\"new\" xlink:title=\"psysml:658dce09-b71c-4e6e-94c9-a3c46617ebc8\" xlink:type=\"simple\"><rect fill=\"#FFFFFF\" height=\"45.9375\" id=\"E7\" rx=\"10\" ry=\"10\" style=\"stroke: #383838; stroke-width: 1.5;\" width=\"116\" x=\"377.75\" y=\"164\"/><text fill=\"#000000\" font-family=\"sans-serif\" font-size=\"12\" font-style=\"italic\" lengthAdjust=\"spacingAndGlyphs\" textLength=\"82\" x=\"394.75\" y=\"180.1387\">«calculation»</text><text fill=\"#000000\" font-family=\"sans-serif\" font-size=\"12\" lengthAdjust=\"spacingAndGlyphs\" textLength=\"110\" x=\"380.75\" y=\"194.1074\">objectiveFunction</text><line style=\"stroke: #383838; stroke-width: 1.5;\" x1=\"378.75\" x2=\"492.75\" y1=\"201.9375\" y2=\"201.9375\"/></a><!--MD5=[b9389687b975829384b498ac4b7476b2]\n",
       "class E8--><a href=\"psysml:3dbf099d-922d-4ace-9ccd-679bba93319b\" target=\"_top\" title=\"psysml:3dbf099d-922d-4ace-9ccd-679bba93319b\" xlink:actuate=\"onRequest\" xlink:href=\"psysml:3dbf099d-922d-4ace-9ccd-679bba93319b\" xlink:show=\"new\" xlink:title=\"psysml:3dbf099d-922d-4ace-9ccd-679bba93319b\" xlink:type=\"simple\"><rect fill=\"#FFFFFF\" height=\"45.9375\" id=\"E8\" rx=\"10\" ry=\"10\" style=\"stroke: #383838; stroke-width: 1.5;\" width=\"128\" x=\"71.75\" y=\"316\"/><text fill=\"#000000\" font-family=\"sans-serif\" font-size=\"12\" font-style=\"italic\" lengthAdjust=\"spacingAndGlyphs\" textLength=\"40\" x=\"115.75\" y=\"332.1387\">«part»</text><text fill=\"#000000\" font-family=\"sans-serif\" font-size=\"12\" lengthAdjust=\"spacingAndGlyphs\" textLength=\"118\" x=\"74.75\" y=\"346.1074\">alternative: Engine</text><line style=\"stroke: #383838; stroke-width: 1.5;\" x1=\"72.75\" x2=\"198.75\" y1=\"353.9375\" y2=\"353.9375\"/></a><!--MD5=[fd4143e9d270a159db93a4ea2a975926]\n",
       "class E9--><a href=\"psysml:5fb9bd76-5535-468b-bb8f-88cd6f109fe8\" target=\"_top\" title=\"psysml:5fb9bd76-5535-468b-bb8f-88cd6f109fe8\" xlink:actuate=\"onRequest\" xlink:href=\"psysml:5fb9bd76-5535-468b-bb8f-88cd6f109fe8\" xlink:show=\"new\" xlink:title=\"psysml:5fb9bd76-5535-468b-bb8f-88cd6f109fe8\" xlink:type=\"simple\"><rect fill=\"#FFFFFF\" height=\"45.9375\" id=\"E9\" rx=\"10\" ry=\"10\" style=\"stroke: #383838; stroke-width: 1.5;\" width=\"182\" x=\"297.75\" y=\"240\"/><text fill=\"#000000\" font-family=\"sans-serif\" font-size=\"12\" font-style=\"italic\" lengthAdjust=\"spacingAndGlyphs\" textLength=\"40\" x=\"368.75\" y=\"256.1387\">«part»</text><text fill=\"#000000\" font-family=\"sans-serif\" font-size=\"12\" lengthAdjust=\"spacingAndGlyphs\" textLength=\"172\" x=\"300.75\" y=\"270.1074\">selectedAlternative: Engine</text><line style=\"stroke: #383838; stroke-width: 1.5;\" x1=\"298.75\" x2=\"478.75\" y1=\"277.9375\" y2=\"277.9375\"/></a><!--MD5=[05d275557350bfb9b23a4ef7222b4c39]\n",
       "link E3 to E2--><a href=\"psysml:8b560a74-32d8-45cc-8c0e-f8d7e14b884a\" target=\"_top\" title=\"psysml:8b560a74-32d8-45cc-8c0e-f8d7e14b884a\" xlink:actuate=\"onRequest\" xlink:href=\"psysml:8b560a74-32d8-45cc-8c0e-f8d7e14b884a\" xlink:show=\"new\" xlink:title=\"psysml:8b560a74-32d8-45cc-8c0e-f8d7e14b884a\" xlink:type=\"simple\"><path d=\"M424.65,362.01 C385.12,379.38 330.1,403.55 289.63,421.33 \" fill=\"none\" id=\"E3-&gt;E2\" style=\"stroke: #383838; stroke-width: 1.0;\"/><polygon fill=\"#FFFFFF\" points=\"271.06,429.49,285.6417,415.4411,291.271,428.2594,271.06,429.49\" style=\"stroke: #383838; stroke-width: 1.0;\"/><ellipse cx=\"291.6648\" cy=\"414.9803\" fill=\"#383838\" rx=\"2\" ry=\"2\" style=\"stroke: #383838; stroke-width: 1.0;\"/><ellipse cx=\"295.6858\" cy=\"424.1363\" fill=\"#383838\" rx=\"2\" ry=\"2\" style=\"stroke: #383838; stroke-width: 1.0;\"/></a><!--MD5=[185131fc0dcab0a4505a2ebe144e961b]\n",
       "link E4 to E2--><a href=\"psysml:7f518d85-a598-4692-a186-0ec59d25f08f\" target=\"_top\" title=\"psysml:7f518d85-a598-4692-a186-0ec59d25f08f\" xlink:actuate=\"onRequest\" xlink:href=\"psysml:7f518d85-a598-4692-a186-0ec59d25f08f\" xlink:show=\"new\" xlink:title=\"psysml:7f518d85-a598-4692-a186-0ec59d25f08f\" xlink:type=\"simple\"><path d=\"M308.46,362.01 C297.01,375.08 282.18,392.01 268.89,407.17 \" fill=\"none\" id=\"E4-&gt;E2\" style=\"stroke: #383838; stroke-width: 1.0;\"/><polygon fill=\"#FFFFFF\" points=\"255.33,422.66,262.5901,403.7578,273.1181,412.9861,255.33,422.66\" style=\"stroke: #383838; stroke-width: 1.0;\"/><ellipse cx=\"267.8513\" cy=\"400.7898\" fill=\"#383838\" rx=\"2\" ry=\"2\" style=\"stroke: #383838; stroke-width: 1.0;\"/><ellipse cx=\"275.3713\" cy=\"407.3814\" fill=\"#383838\" rx=\"2\" ry=\"2\" style=\"stroke: #383838; stroke-width: 1.0;\"/></a><!--MD5=[15ebcb19ae302d9b601edb458606d402]\n",
       "link E5 to E2--><a href=\"psysml:8e91b88f-f820-4b3f-bc7b-6a32144645a0\" target=\"_top\" title=\"psysml:8e91b88f-f820-4b3f-bc7b-6a32144645a0\" xlink:actuate=\"onRequest\" xlink:href=\"psysml:8e91b88f-f820-4b3f-bc7b-6a32144645a0\" xlink:show=\"new\" xlink:title=\"psysml:8e91b88f-f820-4b3f-bc7b-6a32144645a0\" xlink:type=\"simple\"><path d=\"M248.05,74.19 C186.69,85.36 112.38,109.96 69.75,164 C15.07,233.32 6,287.74 53.75,362 C84.89,410.42 152.01,430.93 195.46,439.38 \" fill=\"none\" id=\"E5-&gt;E2\" style=\"stroke: #383838; stroke-width: 1.0; stroke-dasharray: 7.0,7.0;\"/><polygon fill=\"#383838\" points=\"200.63,440.35,192.5135,434.7713,195.7143,439.4355,191.0502,442.6363,200.63,440.35\" style=\"stroke: #383838; stroke-width: 1.0;\"/><text fill=\"#000000\" font-family=\"sans-serif\" font-size=\"13\" lengthAdjust=\"spacingAndGlyphs\" textLength=\"62\" x=\"28.75\" y=\"267.5669\">«subject»</text></a><!--MD5=[9120cf2e5df3bff93db8f754bbbc09b4]\n",
       "link E5 to E6--><a href=\"psysml:a6ebdbd2-b0f8-4e64-baff-f91dc99eb3fc\" target=\"_top\" title=\"psysml:a6ebdbd2-b0f8-4e64-baff-f91dc99eb3fc\" xlink:actuate=\"onRequest\" xlink:href=\"psysml:a6ebdbd2-b0f8-4e64-baff-f91dc99eb3fc\" xlink:show=\"new\" xlink:title=\"psysml:a6ebdbd2-b0f8-4e64-baff-f91dc99eb3fc\" xlink:type=\"simple\"><path d=\"M324.99,87.19 C302.63,107.23 269.64,136.8 245.58,158.37 \" fill=\"none\" id=\"E5-&gt;E6\" style=\"stroke: #383838; stroke-width: 1.0;\"/><polygon fill=\"#383838\" points=\"239.35,163.95,247.3086,160.8419,243.3025,156.3752,239.35,163.95\" style=\"stroke: #383838; stroke-width: 1.0;\"/><text fill=\"#000000\" font-family=\"sans-serif\" font-size=\"13\" lengthAdjust=\"spacingAndGlyphs\" textLength=\"73\" x=\"290.75\" y=\"130.0669\">«objective»</text></a><!--MD5=[452b418e7f8a40397a49b8c0a78acc5b]\n",
       "reverse link E5 to E7--><a href=\"psysml:1d968e51-2f45-472a-9c8d-b659e8169068\" target=\"_top\" title=\"psysml:1d968e51-2f45-472a-9c8d-b659e8169068\" xlink:actuate=\"onRequest\" xlink:href=\"psysml:1d968e51-2f45-472a-9c8d-b659e8169068\" xlink:show=\"new\" xlink:title=\"psysml:1d968e51-2f45-472a-9c8d-b659e8169068\" xlink:type=\"simple\"><path d=\"M373.12,97.88 C388.03,118.86 406.95,145.48 420.08,163.95 \" fill=\"none\" id=\"E5&lt;-E7\" style=\"stroke: #383838; stroke-width: 1.0;\"/><polygon fill=\"#383838\" points=\"365.52,87.19,365.7442,94.3976,372.4836,96.9628,372.2594,89.7552,365.52,87.19\" style=\"stroke: #383838; stroke-width: 1.0;\"/></a><!--MD5=[dc164f5e8a733ab456ef1add180e9e34]\n",
       "reverse link E7 to E8--><a href=\"psysml:762eee8a-df65-48ef-8994-f8166e9b75f6\" target=\"_top\" title=\"psysml:762eee8a-df65-48ef-8994-f8166e9b75f6\" xlink:actuate=\"onRequest\" xlink:href=\"psysml:762eee8a-df65-48ef-8994-f8166e9b75f6\" xlink:show=\"new\" xlink:title=\"psysml:762eee8a-df65-48ef-8994-f8166e9b75f6\" xlink:type=\"simple\"><path d=\"M365.14,209.66 C331.9,220.26 296.21,232.36 280.75,240 C237.3,261.47 191.71,294.23 163.51,315.88 \" fill=\"none\" id=\"E7&lt;-E8\" style=\"stroke: #383838; stroke-width: 1.0;\"/><polygon fill=\"#FFFFFF\" points=\"377.71,205.68,370.7821,203.6789,366.2704,209.3043,373.1983,211.3053,377.71,205.68\" style=\"stroke: #383838; stroke-width: 1.0;\"/><text fill=\"#000000\" font-family=\"sans-serif\" font-size=\"13\" lengthAdjust=\"spacingAndGlyphs\" textLength=\"8\" x=\"161.8955\" y=\"304.744\">1</text></a><!--MD5=[f1f3f9f2fc535e6147756cb86a7f2e32]\n",
       "link E8 to E2--><a href=\"psysml:b4a53d37-cc69-46b7-9c1e-d748cdbb7a31\" target=\"_top\" title=\"psysml:b4a53d37-cc69-46b7-9c1e-d748cdbb7a31\" xlink:actuate=\"onRequest\" xlink:href=\"psysml:b4a53d37-cc69-46b7-9c1e-d748cdbb7a31\" xlink:show=\"new\" xlink:title=\"psysml:b4a53d37-cc69-46b7-9c1e-d748cdbb7a31\" xlink:type=\"simple\"><path d=\"M156.71,362.01 C169.43,375.36 185.98,392.74 200.64,408.14 \" fill=\"none\" id=\"E8-&gt;E2\" style=\"stroke: #383838; stroke-width: 1.0;\"/><polygon fill=\"#FFFFFF\" points=\"214.47,422.66,196.3009,413.7223,206.4424,404.0708,214.47,422.66\" style=\"stroke: #383838; stroke-width: 1.0;\"/><ellipse cx=\"193.8202\" cy=\"408.2144\" fill=\"#383838\" rx=\"2\" ry=\"2\" style=\"stroke: #383838; stroke-width: 1.0;\"/><ellipse cx=\"201.0641\" cy=\"401.3206\" fill=\"#383838\" rx=\"2\" ry=\"2\" style=\"stroke: #383838; stroke-width: 1.0;\"/></a><!--MD5=[9ae28de373ca99bb8a1b38d63370ca7e]\n",
       "reverse link E5 to E9--><a href=\"psysml:b337f31d-c5a0-436f-953f-431d96e2f8f6\" target=\"_top\" title=\"psysml:b337f31d-c5a0-436f-953f-431d96e2f8f6\" xlink:actuate=\"onRequest\" xlink:href=\"psysml:b337f31d-c5a0-436f-953f-431d96e2f8f6\" xlink:show=\"new\" xlink:title=\"psysml:b337f31d-c5a0-436f-953f-431d96e2f8f6\" xlink:type=\"simple\"><path d=\"M427.82,92.73 C459.8,108.4 493.52,131.5 511.75,164 C521.75,181.83 523.05,192.96 511.75,210 C503.17,222.95 490.65,232.68 476.85,239.99 \" fill=\"none\" id=\"E5&lt;-E9\" style=\"stroke: #383838; stroke-width: 1.0;\"/><polygon fill=\"#FFFFFF\" points=\"415.69,87.08,419.4417,93.2383,426.5692,92.1438,422.8176,85.9855,415.69,87.08\" style=\"stroke: #383838; stroke-width: 1.0;\"/><text fill=\"#000000\" font-family=\"sans-serif\" font-size=\"13\" lengthAdjust=\"spacingAndGlyphs\" textLength=\"8\" x=\"487.2469\" y=\"230.4042\">1</text></a><!--MD5=[5c3bb36fe832a92c7f0e1807dd65209d]\n",
       "link E9 to E2--><a href=\"psysml:a6a00959-a343-466b-bcfe-643c8c056808\" target=\"_top\" title=\"psysml:a6a00959-a343-466b-bcfe-643c8c056808\" xlink:actuate=\"onRequest\" xlink:href=\"psysml:a6a00959-a343-466b-bcfe-643c8c056808\" xlink:show=\"new\" xlink:title=\"psysml:a6a00959-a343-466b-bcfe-643c8c056808\" xlink:type=\"simple\"><path d=\"M297.61,284.36 C281.24,291.84 265.88,302.05 254.75,316 C235.48,340.16 231.36,375.23 231.71,402.71 \" fill=\"none\" id=\"E9-&gt;E2\" style=\"stroke: #383838; stroke-width: 1.0;\"/><polygon fill=\"#FFFFFF\" points=\"232.74,422.77,224.772,404.1552,238.7535,403.4351,232.74,422.77\" style=\"stroke: #383838; stroke-width: 1.0;\"/><ellipse cx=\"226.4762\" cy=\"398.3599\" fill=\"#383838\" rx=\"2\" ry=\"2\" style=\"stroke: #383838; stroke-width: 1.0;\"/><ellipse cx=\"236.463\" cy=\"397.8455\" fill=\"#383838\" rx=\"2\" ry=\"2\" style=\"stroke: #383838; stroke-width: 1.0;\"/></a><!--MD5=[2b20a63dbccf08d8e14af0a5dfe26796]\n",
       "@startuml\r\n",
       " skinparam monochrome true\r\n",
       "skinparam classbackgroundcolor white\r\n",
       "skinparam shadowing false\r\n",
       "skinparam wrapWidth 300\r\n",
       "hide circle\r\n",
       "\r\n",
       "package \"TradeStudyTest\" as E1  [[psysml:57f8a98c-5718-48d8-9b9a-5c4650640602 ]]  {\r\n",
       "comp def \"Engine\" as E2  <<(T,blue) part  def>> [[psysml:6445380e-76a1-4d64-a2e6-1c63aec68392 ]] {\r\n",
       "}\r\n",
       "comp usage \"engine1: Engine \" as E3  <<(T,blue) part>> [[psysml:e07cfc3f-c273-4e94-9cbe-d128d50ec860 ]] {\r\n",
       "}\r\n",
       "comp usage \"engine2: Engine \" as E4  <<(T,blue) part>> [[psysml:d9e10f1c-39bd-473d-af93-7c118d42db3b ]] {\r\n",
       "}\r\n",
       "comp usage \"engineTradeStudy: TradeStudy \" as E5 << analysis>> [[psysml:f9c838ee-65e7-4043-9f07-1b30ef92e49c ]] {\r\n",
       "}\r\n",
       "comp usage \"tradeStudyObjective: MaximizeObjective \" as E6  <<(T,blue) requirement>> [[psysml:38fbb285-8167-4e3f-bee3-2164ba524da7 ]] {\r\n",
       "}\r\n",
       "comp usage \"objectiveFunction\" as E7  <<(T,blue) calculation>> [[psysml:658dce09-b71c-4e6e-94c9-a3c46617ebc8 ]] {\r\n",
       "}\r\n",
       "comp usage \"alternative: Engine \" as E8  <<(T,blue) part>> [[psysml:3dbf099d-922d-4ace-9ccd-679bba93319b ]] {\r\n",
       "}\r\n",
       "comp usage \"selectedAlternative: Engine \" as E9  <<(T,blue) part>> [[psysml:5fb9bd76-5535-468b-bb8f-88cd6f109fe8 ]] {\r\n",
       "}\r\n",
       "}\r\n",
       "E3 - -:|> E2 [[psysml:8b560a74-32d8-45cc-8c0e-f8d7e14b884a ]] \r\n",
       "E4 - -:|> E2 [[psysml:7f518d85-a598-4692-a186-0ec59d25f08f ]] \r\n",
       "E5 ..> E2 [[psysml:8e91b88f-f820-4b3f-bc7b-6a32144645a0 ]] : <<subject>>\r\n",
       "E5 - ->> E6 [[psysml:a6ebdbd2-b0f8-4e64-baff-f91dc99eb3fc ]] : <<objective>>\r\n",
       "E5 *- - E7 [[psysml:1d968e51-2f45-472a-9c8d-b659e8169068 ]] \r\n",
       "E7 o- - \"1\"E8 [[psysml:762eee8a-df65-48ef-8994-f8166e9b75f6 ]] \r\n",
       "E8 - -:|> E2 [[psysml:b4a53d37-cc69-46b7-9c1e-d748cdbb7a31 ]] \r\n",
       "E5 o- - \"1\"E9 [[psysml:b337f31d-c5a0-436f-953f-431d96e2f8f6 ]] \r\n",
       "E9 - -:|> E2 [[psysml:a6a00959-a343-466b-bcfe-643c8c056808 ]] \r\n",
       "@enduml\r\n",
       "\n",
       "PlantUML version 1.2020.13(Sat Jun 13 12:26:38 UTC 2020)\n",
       "(EPL source distribution)\n",
       "Java Runtime: OpenJDK Runtime Environment\n",
       "JVM: OpenJDK 64-Bit Server VM\n",
       "Default Encoding: UTF-8\n",
       "Language: en\n",
       "Country: null\n",
       "--></g></svg>"
      ]
     },
     "execution_count": 2,
     "metadata": {},
     "output_type": "execute_result"
    }
   ],
   "source": [
    "%viz --style=\"COMPTREE\" --view=\"Default\" \"TradeStudyTest\""
   ]
  },
  {
   "cell_type": "code",
   "execution_count": 3,
   "id": "c05c1920",
   "metadata": {
    "execution": {
     "iopub.execute_input": "2021-11-13T13:01:38.070348Z",
     "iopub.status.busy": "2021-11-13T13:01:38.069913Z",
     "iopub.status.idle": "2021-11-13T13:01:38.128723Z",
     "shell.execute_reply": "2021-11-13T13:01:38.129159Z"
    }
   },
   "outputs": [
    {
     "data": {
      "image/svg+xml": [
       "<?xml version=\"1.0\" encoding=\"UTF-8\" standalone=\"no\"?><svg xmlns=\"http://www.w3.org/2000/svg\" xmlns:xlink=\"http://www.w3.org/1999/xlink\" contentScriptType=\"application/ecmascript\" contentStyleType=\"text/css\" height=\"497px\" preserveAspectRatio=\"none\" style=\"width:568px;height:497px;\" version=\"1.1\" viewBox=\"0 0 568 497\" width=\"568px\" zoomAndPan=\"magnify\"><defs/><g><!--MD5=[fbc87193dbaf4d95561dea2c320d4a47]\n",
       "cluster E1--><a href=\"psysml:57f8a98c-5718-48d8-9b9a-5c4650640602\" target=\"_top\" title=\"psysml:57f8a98c-5718-48d8-9b9a-5c4650640602\" xlink:actuate=\"onRequest\" xlink:href=\"psysml:57f8a98c-5718-48d8-9b9a-5c4650640602\" xlink:show=\"new\" xlink:title=\"psysml:57f8a98c-5718-48d8-9b9a-5c4650640602\" xlink:type=\"simple\"><polygon fill=\"#FFFFFF\" points=\"18.75,6,134.75,6,141.75,28.2969,546.75,28.2969,546.75,485,18.75,485,18.75,6\" style=\"stroke: #000000; stroke-width: 1.5;\"/><line style=\"stroke: #000000; stroke-width: 1.5;\" x1=\"18.75\" x2=\"141.75\" y1=\"28.2969\" y2=\"28.2969\"/><text fill=\"#000000\" font-family=\"sans-serif\" font-size=\"14\" font-weight=\"bold\" lengthAdjust=\"spacingAndGlyphs\" textLength=\"110\" x=\"22.75\" y=\"20.9951\">TradeStudyTest</text></a><!--MD5=[b4997ac47864f28c2f74865a473b2911]\n",
       "class E2--><a href=\"psysml:6445380e-76a1-4d64-a2e6-1c63aec68392\" target=\"_top\" title=\"psysml:6445380e-76a1-4d64-a2e6-1c63aec68392\" xlink:actuate=\"onRequest\" xlink:href=\"psysml:6445380e-76a1-4d64-a2e6-1c63aec68392\" xlink:show=\"new\" xlink:title=\"psysml:6445380e-76a1-4d64-a2e6-1c63aec68392\" xlink:type=\"simple\"><rect fill=\"#FFFFFF\" height=\"45.9375\" id=\"E2\" style=\"stroke: #383838; stroke-width: 1.5;\" width=\"70\" x=\"200.75\" y=\"423\"/><text fill=\"#000000\" font-family=\"sans-serif\" font-size=\"12\" font-style=\"italic\" lengthAdjust=\"spacingAndGlyphs\" textLength=\"68\" x=\"201.75\" y=\"439.1387\">«part  def»</text><text fill=\"#000000\" font-family=\"sans-serif\" font-size=\"12\" lengthAdjust=\"spacingAndGlyphs\" textLength=\"43\" x=\"214.25\" y=\"453.1074\">Engine</text><line style=\"stroke: #383838; stroke-width: 1.5;\" x1=\"201.75\" x2=\"269.75\" y1=\"460.9375\" y2=\"460.9375\"/></a><!--MD5=[09b614a08d8cba4a07c9adeb5e0fee81]\n",
       "class E3--><a href=\"psysml:e07cfc3f-c273-4e94-9cbe-d128d50ec860\" target=\"_top\" title=\"psysml:e07cfc3f-c273-4e94-9cbe-d128d50ec860\" xlink:actuate=\"onRequest\" xlink:href=\"psysml:e07cfc3f-c273-4e94-9cbe-d128d50ec860\" xlink:show=\"new\" xlink:title=\"psysml:e07cfc3f-c273-4e94-9cbe-d128d50ec860\" xlink:type=\"simple\"><rect fill=\"#FFFFFF\" height=\"45.9375\" id=\"E3\" rx=\"10\" ry=\"10\" style=\"stroke: #383838; stroke-width: 1.5;\" width=\"112\" x=\"418.75\" y=\"316\"/><text fill=\"#000000\" font-family=\"sans-serif\" font-size=\"12\" font-style=\"italic\" lengthAdjust=\"spacingAndGlyphs\" textLength=\"40\" x=\"454.75\" y=\"332.1387\">«part»</text><text fill=\"#000000\" font-family=\"sans-serif\" font-size=\"12\" lengthAdjust=\"spacingAndGlyphs\" textLength=\"102\" x=\"421.75\" y=\"346.1074\">engine1: Engine</text><line style=\"stroke: #383838; stroke-width: 1.5;\" x1=\"419.75\" x2=\"529.75\" y1=\"353.9375\" y2=\"353.9375\"/></a><!--MD5=[ebbe1d658d1005bcc118a6aa81145e00]\n",
       "class E4--><a href=\"psysml:d9e10f1c-39bd-473d-af93-7c118d42db3b\" target=\"_top\" title=\"psysml:d9e10f1c-39bd-473d-af93-7c118d42db3b\" xlink:actuate=\"onRequest\" xlink:href=\"psysml:d9e10f1c-39bd-473d-af93-7c118d42db3b\" xlink:show=\"new\" xlink:title=\"psysml:d9e10f1c-39bd-473d-af93-7c118d42db3b\" xlink:type=\"simple\"><rect fill=\"#FFFFFF\" height=\"45.9375\" id=\"E4\" rx=\"10\" ry=\"10\" style=\"stroke: #383838; stroke-width: 1.5;\" width=\"112\" x=\"271.75\" y=\"316\"/><text fill=\"#000000\" font-family=\"sans-serif\" font-size=\"12\" font-style=\"italic\" lengthAdjust=\"spacingAndGlyphs\" textLength=\"40\" x=\"307.75\" y=\"332.1387\">«part»</text><text fill=\"#000000\" font-family=\"sans-serif\" font-size=\"12\" lengthAdjust=\"spacingAndGlyphs\" textLength=\"102\" x=\"274.75\" y=\"346.1074\">engine2: Engine</text><line style=\"stroke: #383838; stroke-width: 1.5;\" x1=\"272.75\" x2=\"382.75\" y1=\"353.9375\" y2=\"353.9375\"/></a><!--MD5=[270fce915f116d4de14055a7c1d9a0f3]\n",
       "class E5--><a href=\"psysml:f9c838ee-65e7-4043-9f07-1b30ef92e49c\" target=\"_top\" title=\"psysml:f9c838ee-65e7-4043-9f07-1b30ef92e49c\" xlink:actuate=\"onRequest\" xlink:href=\"psysml:f9c838ee-65e7-4043-9f07-1b30ef92e49c\" xlink:show=\"new\" xlink:title=\"psysml:f9c838ee-65e7-4043-9f07-1b30ef92e49c\" xlink:type=\"simple\"><rect fill=\"#FFFFFF\" height=\"45.9375\" id=\"E5\" rx=\"10\" ry=\"10\" style=\"stroke: #383838; stroke-width: 1.5;\" width=\"203\" x=\"248.25\" y=\"41\"/><text fill=\"#000000\" font-family=\"sans-serif\" font-size=\"12\" font-style=\"italic\" lengthAdjust=\"spacingAndGlyphs\" textLength=\"64\" x=\"317.75\" y=\"57.1387\">«analysis»</text><text fill=\"#000000\" font-family=\"sans-serif\" font-size=\"12\" lengthAdjust=\"spacingAndGlyphs\" textLength=\"193\" x=\"251.25\" y=\"71.1074\">engineTradeStudy: TradeStudy</text><line style=\"stroke: #383838; stroke-width: 1.5;\" x1=\"249.25\" x2=\"450.25\" y1=\"78.9375\" y2=\"78.9375\"/></a><!--MD5=[60a26617385b1d2d0262a64233df1f8d]\n",
       "class E6--><a href=\"psysml:38fbb285-8167-4e3f-bee3-2164ba524da7\" target=\"_top\" title=\"psysml:38fbb285-8167-4e3f-bee3-2164ba524da7\" xlink:actuate=\"onRequest\" xlink:href=\"psysml:38fbb285-8167-4e3f-bee3-2164ba524da7\" xlink:show=\"new\" xlink:title=\"psysml:38fbb285-8167-4e3f-bee3-2164ba524da7\" xlink:type=\"simple\"><rect fill=\"#FFFFFF\" height=\"45.9375\" id=\"E6\" rx=\"10\" ry=\"10\" style=\"stroke: #383838; stroke-width: 1.5;\" width=\"255\" x=\"87.25\" y=\"164\"/><text fill=\"#000000\" font-family=\"sans-serif\" font-size=\"12\" font-style=\"italic\" lengthAdjust=\"spacingAndGlyphs\" textLength=\"91\" x=\"169.25\" y=\"180.1387\">«requirement»</text><text fill=\"#000000\" font-family=\"sans-serif\" font-size=\"12\" lengthAdjust=\"spacingAndGlyphs\" textLength=\"245\" x=\"90.25\" y=\"194.1074\">tradeStudyObjective: MaximizeObjective</text><line style=\"stroke: #383838; stroke-width: 1.5;\" x1=\"88.25\" x2=\"341.25\" y1=\"201.9375\" y2=\"201.9375\"/></a><!--MD5=[2156ba9850f5573cc1fc38a6a4b2f02b]\n",
       "class E7--><a href=\"psysml:658dce09-b71c-4e6e-94c9-a3c46617ebc8\" target=\"_top\" title=\"psysml:658dce09-b71c-4e6e-94c9-a3c46617ebc8\" xlink:actuate=\"onRequest\" xlink:href=\"psysml:658dce09-b71c-4e6e-94c9-a3c46617ebc8\" xlink:show=\"new\" xlink:title=\"psysml:658dce09-b71c-4e6e-94c9-a3c46617ebc8\" xlink:type=\"simple\"><rect fill=\"#FFFFFF\" height=\"45.9375\" id=\"E7\" rx=\"10\" ry=\"10\" style=\"stroke: #383838; stroke-width: 1.5;\" width=\"116\" x=\"377.75\" y=\"164\"/><text fill=\"#000000\" font-family=\"sans-serif\" font-size=\"12\" font-style=\"italic\" lengthAdjust=\"spacingAndGlyphs\" textLength=\"82\" x=\"394.75\" y=\"180.1387\">«calculation»</text><text fill=\"#000000\" font-family=\"sans-serif\" font-size=\"12\" lengthAdjust=\"spacingAndGlyphs\" textLength=\"110\" x=\"380.75\" y=\"194.1074\">objectiveFunction</text><line style=\"stroke: #383838; stroke-width: 1.5;\" x1=\"378.75\" x2=\"492.75\" y1=\"201.9375\" y2=\"201.9375\"/></a><!--MD5=[b9389687b975829384b498ac4b7476b2]\n",
       "class E8--><a href=\"psysml:3dbf099d-922d-4ace-9ccd-679bba93319b\" target=\"_top\" title=\"psysml:3dbf099d-922d-4ace-9ccd-679bba93319b\" xlink:actuate=\"onRequest\" xlink:href=\"psysml:3dbf099d-922d-4ace-9ccd-679bba93319b\" xlink:show=\"new\" xlink:title=\"psysml:3dbf099d-922d-4ace-9ccd-679bba93319b\" xlink:type=\"simple\"><rect fill=\"#FFFFFF\" height=\"45.9375\" id=\"E8\" rx=\"10\" ry=\"10\" style=\"stroke: #383838; stroke-width: 1.5;\" width=\"128\" x=\"71.75\" y=\"316\"/><text fill=\"#000000\" font-family=\"sans-serif\" font-size=\"12\" font-style=\"italic\" lengthAdjust=\"spacingAndGlyphs\" textLength=\"40\" x=\"115.75\" y=\"332.1387\">«part»</text><text fill=\"#000000\" font-family=\"sans-serif\" font-size=\"12\" lengthAdjust=\"spacingAndGlyphs\" textLength=\"118\" x=\"74.75\" y=\"346.1074\">alternative: Engine</text><line style=\"stroke: #383838; stroke-width: 1.5;\" x1=\"72.75\" x2=\"198.75\" y1=\"353.9375\" y2=\"353.9375\"/></a><!--MD5=[fd4143e9d270a159db93a4ea2a975926]\n",
       "class E9--><a href=\"psysml:5fb9bd76-5535-468b-bb8f-88cd6f109fe8\" target=\"_top\" title=\"psysml:5fb9bd76-5535-468b-bb8f-88cd6f109fe8\" xlink:actuate=\"onRequest\" xlink:href=\"psysml:5fb9bd76-5535-468b-bb8f-88cd6f109fe8\" xlink:show=\"new\" xlink:title=\"psysml:5fb9bd76-5535-468b-bb8f-88cd6f109fe8\" xlink:type=\"simple\"><rect fill=\"#FFFFFF\" height=\"45.9375\" id=\"E9\" rx=\"10\" ry=\"10\" style=\"stroke: #383838; stroke-width: 1.5;\" width=\"182\" x=\"297.75\" y=\"240\"/><text fill=\"#000000\" font-family=\"sans-serif\" font-size=\"12\" font-style=\"italic\" lengthAdjust=\"spacingAndGlyphs\" textLength=\"40\" x=\"368.75\" y=\"256.1387\">«part»</text><text fill=\"#000000\" font-family=\"sans-serif\" font-size=\"12\" lengthAdjust=\"spacingAndGlyphs\" textLength=\"172\" x=\"300.75\" y=\"270.1074\">selectedAlternative: Engine</text><line style=\"stroke: #383838; stroke-width: 1.5;\" x1=\"298.75\" x2=\"478.75\" y1=\"277.9375\" y2=\"277.9375\"/></a><!--MD5=[05d275557350bfb9b23a4ef7222b4c39]\n",
       "link E3 to E2--><a href=\"psysml:8b560a74-32d8-45cc-8c0e-f8d7e14b884a\" target=\"_top\" title=\"psysml:8b560a74-32d8-45cc-8c0e-f8d7e14b884a\" xlink:actuate=\"onRequest\" xlink:href=\"psysml:8b560a74-32d8-45cc-8c0e-f8d7e14b884a\" xlink:show=\"new\" xlink:title=\"psysml:8b560a74-32d8-45cc-8c0e-f8d7e14b884a\" xlink:type=\"simple\"><path d=\"M424.65,362.01 C385.12,379.38 330.1,403.55 289.63,421.33 \" fill=\"none\" id=\"E3-&gt;E2\" style=\"stroke: #383838; stroke-width: 1.0;\"/><polygon fill=\"#FFFFFF\" points=\"271.06,429.49,285.6417,415.4411,291.271,428.2594,271.06,429.49\" style=\"stroke: #383838; stroke-width: 1.0;\"/><ellipse cx=\"291.6648\" cy=\"414.9803\" fill=\"#383838\" rx=\"2\" ry=\"2\" style=\"stroke: #383838; stroke-width: 1.0;\"/><ellipse cx=\"295.6858\" cy=\"424.1363\" fill=\"#383838\" rx=\"2\" ry=\"2\" style=\"stroke: #383838; stroke-width: 1.0;\"/></a><!--MD5=[185131fc0dcab0a4505a2ebe144e961b]\n",
       "link E4 to E2--><a href=\"psysml:7f518d85-a598-4692-a186-0ec59d25f08f\" target=\"_top\" title=\"psysml:7f518d85-a598-4692-a186-0ec59d25f08f\" xlink:actuate=\"onRequest\" xlink:href=\"psysml:7f518d85-a598-4692-a186-0ec59d25f08f\" xlink:show=\"new\" xlink:title=\"psysml:7f518d85-a598-4692-a186-0ec59d25f08f\" xlink:type=\"simple\"><path d=\"M308.46,362.01 C297.01,375.08 282.18,392.01 268.89,407.17 \" fill=\"none\" id=\"E4-&gt;E2\" style=\"stroke: #383838; stroke-width: 1.0;\"/><polygon fill=\"#FFFFFF\" points=\"255.33,422.66,262.5901,403.7578,273.1181,412.9861,255.33,422.66\" style=\"stroke: #383838; stroke-width: 1.0;\"/><ellipse cx=\"267.8513\" cy=\"400.7898\" fill=\"#383838\" rx=\"2\" ry=\"2\" style=\"stroke: #383838; stroke-width: 1.0;\"/><ellipse cx=\"275.3713\" cy=\"407.3814\" fill=\"#383838\" rx=\"2\" ry=\"2\" style=\"stroke: #383838; stroke-width: 1.0;\"/></a><!--MD5=[15ebcb19ae302d9b601edb458606d402]\n",
       "link E5 to E2--><a href=\"psysml:8e91b88f-f820-4b3f-bc7b-6a32144645a0\" target=\"_top\" title=\"psysml:8e91b88f-f820-4b3f-bc7b-6a32144645a0\" xlink:actuate=\"onRequest\" xlink:href=\"psysml:8e91b88f-f820-4b3f-bc7b-6a32144645a0\" xlink:show=\"new\" xlink:title=\"psysml:8e91b88f-f820-4b3f-bc7b-6a32144645a0\" xlink:type=\"simple\"><path d=\"M248.05,74.19 C186.69,85.36 112.38,109.96 69.75,164 C15.07,233.32 6,287.74 53.75,362 C84.89,410.42 152.01,430.93 195.46,439.38 \" fill=\"none\" id=\"E5-&gt;E2\" style=\"stroke: #383838; stroke-width: 1.0; stroke-dasharray: 7.0,7.0;\"/><polygon fill=\"#383838\" points=\"200.63,440.35,192.5135,434.7713,195.7143,439.4355,191.0502,442.6363,200.63,440.35\" style=\"stroke: #383838; stroke-width: 1.0;\"/><text fill=\"#000000\" font-family=\"sans-serif\" font-size=\"13\" lengthAdjust=\"spacingAndGlyphs\" textLength=\"62\" x=\"28.75\" y=\"267.5669\">«subject»</text></a><!--MD5=[9120cf2e5df3bff93db8f754bbbc09b4]\n",
       "link E5 to E6--><a href=\"psysml:a6ebdbd2-b0f8-4e64-baff-f91dc99eb3fc\" target=\"_top\" title=\"psysml:a6ebdbd2-b0f8-4e64-baff-f91dc99eb3fc\" xlink:actuate=\"onRequest\" xlink:href=\"psysml:a6ebdbd2-b0f8-4e64-baff-f91dc99eb3fc\" xlink:show=\"new\" xlink:title=\"psysml:a6ebdbd2-b0f8-4e64-baff-f91dc99eb3fc\" xlink:type=\"simple\"><path d=\"M324.99,87.19 C302.63,107.23 269.64,136.8 245.58,158.37 \" fill=\"none\" id=\"E5-&gt;E6\" style=\"stroke: #383838; stroke-width: 1.0;\"/><polygon fill=\"#383838\" points=\"239.35,163.95,247.3086,160.8419,243.3025,156.3752,239.35,163.95\" style=\"stroke: #383838; stroke-width: 1.0;\"/><text fill=\"#000000\" font-family=\"sans-serif\" font-size=\"13\" lengthAdjust=\"spacingAndGlyphs\" textLength=\"73\" x=\"290.75\" y=\"130.0669\">«objective»</text></a><!--MD5=[452b418e7f8a40397a49b8c0a78acc5b]\n",
       "reverse link E5 to E7--><a href=\"psysml:1d968e51-2f45-472a-9c8d-b659e8169068\" target=\"_top\" title=\"psysml:1d968e51-2f45-472a-9c8d-b659e8169068\" xlink:actuate=\"onRequest\" xlink:href=\"psysml:1d968e51-2f45-472a-9c8d-b659e8169068\" xlink:show=\"new\" xlink:title=\"psysml:1d968e51-2f45-472a-9c8d-b659e8169068\" xlink:type=\"simple\"><path d=\"M373.12,97.88 C388.03,118.86 406.95,145.48 420.08,163.95 \" fill=\"none\" id=\"E5&lt;-E7\" style=\"stroke: #383838; stroke-width: 1.0;\"/><polygon fill=\"#383838\" points=\"365.52,87.19,365.7442,94.3976,372.4836,96.9628,372.2594,89.7552,365.52,87.19\" style=\"stroke: #383838; stroke-width: 1.0;\"/></a><!--MD5=[dc164f5e8a733ab456ef1add180e9e34]\n",
       "reverse link E7 to E8--><a href=\"psysml:762eee8a-df65-48ef-8994-f8166e9b75f6\" target=\"_top\" title=\"psysml:762eee8a-df65-48ef-8994-f8166e9b75f6\" xlink:actuate=\"onRequest\" xlink:href=\"psysml:762eee8a-df65-48ef-8994-f8166e9b75f6\" xlink:show=\"new\" xlink:title=\"psysml:762eee8a-df65-48ef-8994-f8166e9b75f6\" xlink:type=\"simple\"><path d=\"M365.14,209.66 C331.9,220.26 296.21,232.36 280.75,240 C237.3,261.47 191.71,294.23 163.51,315.88 \" fill=\"none\" id=\"E7&lt;-E8\" style=\"stroke: #383838; stroke-width: 1.0;\"/><polygon fill=\"#FFFFFF\" points=\"377.71,205.68,370.7821,203.6789,366.2704,209.3043,373.1983,211.3053,377.71,205.68\" style=\"stroke: #383838; stroke-width: 1.0;\"/><text fill=\"#000000\" font-family=\"sans-serif\" font-size=\"13\" lengthAdjust=\"spacingAndGlyphs\" textLength=\"8\" x=\"161.8955\" y=\"304.744\">1</text></a><!--MD5=[f1f3f9f2fc535e6147756cb86a7f2e32]\n",
       "link E8 to E2--><a href=\"psysml:b4a53d37-cc69-46b7-9c1e-d748cdbb7a31\" target=\"_top\" title=\"psysml:b4a53d37-cc69-46b7-9c1e-d748cdbb7a31\" xlink:actuate=\"onRequest\" xlink:href=\"psysml:b4a53d37-cc69-46b7-9c1e-d748cdbb7a31\" xlink:show=\"new\" xlink:title=\"psysml:b4a53d37-cc69-46b7-9c1e-d748cdbb7a31\" xlink:type=\"simple\"><path d=\"M156.71,362.01 C169.43,375.36 185.98,392.74 200.64,408.14 \" fill=\"none\" id=\"E8-&gt;E2\" style=\"stroke: #383838; stroke-width: 1.0;\"/><polygon fill=\"#FFFFFF\" points=\"214.47,422.66,196.3009,413.7223,206.4424,404.0708,214.47,422.66\" style=\"stroke: #383838; stroke-width: 1.0;\"/><ellipse cx=\"193.8202\" cy=\"408.2144\" fill=\"#383838\" rx=\"2\" ry=\"2\" style=\"stroke: #383838; stroke-width: 1.0;\"/><ellipse cx=\"201.0641\" cy=\"401.3206\" fill=\"#383838\" rx=\"2\" ry=\"2\" style=\"stroke: #383838; stroke-width: 1.0;\"/></a><!--MD5=[9ae28de373ca99bb8a1b38d63370ca7e]\n",
       "reverse link E5 to E9--><a href=\"psysml:b337f31d-c5a0-436f-953f-431d96e2f8f6\" target=\"_top\" title=\"psysml:b337f31d-c5a0-436f-953f-431d96e2f8f6\" xlink:actuate=\"onRequest\" xlink:href=\"psysml:b337f31d-c5a0-436f-953f-431d96e2f8f6\" xlink:show=\"new\" xlink:title=\"psysml:b337f31d-c5a0-436f-953f-431d96e2f8f6\" xlink:type=\"simple\"><path d=\"M427.82,92.73 C459.8,108.4 493.52,131.5 511.75,164 C521.75,181.83 523.05,192.96 511.75,210 C503.17,222.95 490.65,232.68 476.85,239.99 \" fill=\"none\" id=\"E5&lt;-E9\" style=\"stroke: #383838; stroke-width: 1.0;\"/><polygon fill=\"#FFFFFF\" points=\"415.69,87.08,419.4417,93.2383,426.5692,92.1438,422.8176,85.9855,415.69,87.08\" style=\"stroke: #383838; stroke-width: 1.0;\"/><text fill=\"#000000\" font-family=\"sans-serif\" font-size=\"13\" lengthAdjust=\"spacingAndGlyphs\" textLength=\"8\" x=\"487.2469\" y=\"230.4042\">1</text></a><!--MD5=[5c3bb36fe832a92c7f0e1807dd65209d]\n",
       "link E9 to E2--><a href=\"psysml:a6a00959-a343-466b-bcfe-643c8c056808\" target=\"_top\" title=\"psysml:a6a00959-a343-466b-bcfe-643c8c056808\" xlink:actuate=\"onRequest\" xlink:href=\"psysml:a6a00959-a343-466b-bcfe-643c8c056808\" xlink:show=\"new\" xlink:title=\"psysml:a6a00959-a343-466b-bcfe-643c8c056808\" xlink:type=\"simple\"><path d=\"M297.61,284.36 C281.24,291.84 265.88,302.05 254.75,316 C235.48,340.16 231.36,375.23 231.71,402.71 \" fill=\"none\" id=\"E9-&gt;E2\" style=\"stroke: #383838; stroke-width: 1.0;\"/><polygon fill=\"#FFFFFF\" points=\"232.74,422.77,224.772,404.1552,238.7535,403.4351,232.74,422.77\" style=\"stroke: #383838; stroke-width: 1.0;\"/><ellipse cx=\"226.4762\" cy=\"398.3599\" fill=\"#383838\" rx=\"2\" ry=\"2\" style=\"stroke: #383838; stroke-width: 1.0;\"/><ellipse cx=\"236.463\" cy=\"397.8455\" fill=\"#383838\" rx=\"2\" ry=\"2\" style=\"stroke: #383838; stroke-width: 1.0;\"/></a><!--MD5=[2b20a63dbccf08d8e14af0a5dfe26796]\n",
       "@startuml\r\n",
       " skinparam monochrome true\r\n",
       "skinparam classbackgroundcolor white\r\n",
       "skinparam shadowing false\r\n",
       "skinparam wrapWidth 300\r\n",
       "hide circle\r\n",
       "\r\n",
       "package \"TradeStudyTest\" as E1  [[psysml:57f8a98c-5718-48d8-9b9a-5c4650640602 ]]  {\r\n",
       "comp def \"Engine\" as E2  <<(T,blue) part  def>> [[psysml:6445380e-76a1-4d64-a2e6-1c63aec68392 ]] {\r\n",
       "}\r\n",
       "comp usage \"engine1: Engine \" as E3  <<(T,blue) part>> [[psysml:e07cfc3f-c273-4e94-9cbe-d128d50ec860 ]] {\r\n",
       "}\r\n",
       "comp usage \"engine2: Engine \" as E4  <<(T,blue) part>> [[psysml:d9e10f1c-39bd-473d-af93-7c118d42db3b ]] {\r\n",
       "}\r\n",
       "comp usage \"engineTradeStudy: TradeStudy \" as E5 << analysis>> [[psysml:f9c838ee-65e7-4043-9f07-1b30ef92e49c ]] {\r\n",
       "}\r\n",
       "comp usage \"tradeStudyObjective: MaximizeObjective \" as E6  <<(T,blue) requirement>> [[psysml:38fbb285-8167-4e3f-bee3-2164ba524da7 ]] {\r\n",
       "}\r\n",
       "comp usage \"objectiveFunction\" as E7  <<(T,blue) calculation>> [[psysml:658dce09-b71c-4e6e-94c9-a3c46617ebc8 ]] {\r\n",
       "}\r\n",
       "comp usage \"alternative: Engine \" as E8  <<(T,blue) part>> [[psysml:3dbf099d-922d-4ace-9ccd-679bba93319b ]] {\r\n",
       "}\r\n",
       "comp usage \"selectedAlternative: Engine \" as E9  <<(T,blue) part>> [[psysml:5fb9bd76-5535-468b-bb8f-88cd6f109fe8 ]] {\r\n",
       "}\r\n",
       "}\r\n",
       "E3 - -:|> E2 [[psysml:8b560a74-32d8-45cc-8c0e-f8d7e14b884a ]] \r\n",
       "E4 - -:|> E2 [[psysml:7f518d85-a598-4692-a186-0ec59d25f08f ]] \r\n",
       "E5 ..> E2 [[psysml:8e91b88f-f820-4b3f-bc7b-6a32144645a0 ]] : <<subject>>\r\n",
       "E5 - ->> E6 [[psysml:a6ebdbd2-b0f8-4e64-baff-f91dc99eb3fc ]] : <<objective>>\r\n",
       "E5 *- - E7 [[psysml:1d968e51-2f45-472a-9c8d-b659e8169068 ]] \r\n",
       "E7 o- - \"1\"E8 [[psysml:762eee8a-df65-48ef-8994-f8166e9b75f6 ]] \r\n",
       "E8 - -:|> E2 [[psysml:b4a53d37-cc69-46b7-9c1e-d748cdbb7a31 ]] \r\n",
       "E5 o- - \"1\"E9 [[psysml:b337f31d-c5a0-436f-953f-431d96e2f8f6 ]] \r\n",
       "E9 - -:|> E2 [[psysml:a6a00959-a343-466b-bcfe-643c8c056808 ]] \r\n",
       "@enduml\r\n",
       "\n",
       "PlantUML version 1.2020.13(Sat Jun 13 12:26:38 UTC 2020)\n",
       "(EPL source distribution)\n",
       "Java Runtime: OpenJDK Runtime Environment\n",
       "JVM: OpenJDK 64-Bit Server VM\n",
       "Default Encoding: UTF-8\n",
       "Language: en\n",
       "Country: null\n",
       "--></g></svg>"
      ]
     },
     "execution_count": 3,
     "metadata": {},
     "output_type": "execute_result"
    }
   ],
   "source": [
    "%viz --style=\"COMPTREE\" --view=\"Tree\" \"TradeStudyTest\""
   ]
  },
  {
   "cell_type": "code",
   "execution_count": 4,
   "id": "6c14d095",
   "metadata": {
    "execution": {
     "iopub.execute_input": "2021-11-13T13:01:38.178565Z",
     "iopub.status.busy": "2021-11-13T13:01:38.177896Z",
     "iopub.status.idle": "2021-11-13T13:01:38.186990Z",
     "shell.execute_reply": "2021-11-13T13:01:38.187369Z"
    }
   },
   "outputs": [
    {
     "data": {
      "image/svg+xml": [
       "<?xml version=\"1.0\" encoding=\"UTF-8\" standalone=\"no\"?><svg xmlns=\"http://www.w3.org/2000/svg\" xmlns:xlink=\"http://www.w3.org/1999/xlink\" contentScriptType=\"application/ecmascript\" contentStyleType=\"text/css\" height=\"12px\" preserveAspectRatio=\"none\" style=\"width:12px;height:12px;\" version=\"1.1\" viewBox=\"0 0 12 12\" width=\"12px\" zoomAndPan=\"magnify\"><defs/><g><!--MD5=[f19188ef49e11757b5c46753f95d9edc]\n",
       "@startuml\r\n",
       " skinparam monochrome true\r\n",
       "skinparam classbackgroundcolor white\r\n",
       "skinparam shadowing false\r\n",
       "skinparam wrapWidth 300\r\n",
       "hide circle\r\n",
       "\r\n",
       "@enduml\r\n",
       "\n",
       "PlantUML version 1.2020.13(Sat Jun 13 12:26:38 UTC 2020)\n",
       "(EPL source distribution)\n",
       "Java Runtime: OpenJDK Runtime Environment\n",
       "JVM: OpenJDK 64-Bit Server VM\n",
       "Default Encoding: UTF-8\n",
       "Language: en\n",
       "Country: null\n",
       "--></g></svg>"
      ]
     },
     "execution_count": 4,
     "metadata": {},
     "output_type": "execute_result"
    }
   ],
   "source": [
    "%viz --style=\"COMPTREE\" --view=\"State\" \"TradeStudyTest\""
   ]
  },
  {
   "cell_type": "code",
   "execution_count": 5,
   "id": "9da7aa63",
   "metadata": {
    "execution": {
     "iopub.execute_input": "2021-11-13T13:01:38.237061Z",
     "iopub.status.busy": "2021-11-13T13:01:38.236652Z",
     "iopub.status.idle": "2021-11-13T13:01:38.321332Z",
     "shell.execute_reply": "2021-11-13T13:01:38.320773Z"
    }
   },
   "outputs": [
    {
     "data": {
      "image/svg+xml": [
       "<?xml version=\"1.0\" encoding=\"UTF-8\" standalone=\"no\"?><svg xmlns=\"http://www.w3.org/2000/svg\" xmlns:xlink=\"http://www.w3.org/1999/xlink\" contentScriptType=\"application/ecmascript\" contentStyleType=\"text/css\" height=\"334px\" preserveAspectRatio=\"none\" style=\"width:569px;height:334px;\" version=\"1.1\" viewBox=\"0 0 569 334\" width=\"569px\" zoomAndPan=\"magnify\"><defs/><g><!--MD5=[fbc87193dbaf4d95561dea2c320d4a47]\n",
       "cluster E1--><a href=\"psysml:57f8a98c-5718-48d8-9b9a-5c4650640602\" target=\"_top\" title=\"psysml:57f8a98c-5718-48d8-9b9a-5c4650640602\" xlink:actuate=\"onRequest\" xlink:href=\"psysml:57f8a98c-5718-48d8-9b9a-5c4650640602\" xlink:show=\"new\" xlink:title=\"psysml:57f8a98c-5718-48d8-9b9a-5c4650640602\" xlink:type=\"simple\"><polygon fill=\"#FFFFFF\" points=\"16,6,132,6,139,28.2969,547,28.2969,547,322,16,322,16,6\" style=\"stroke: #000000; stroke-width: 1.5;\"/><line style=\"stroke: #000000; stroke-width: 1.5;\" x1=\"16\" x2=\"139\" y1=\"28.2969\" y2=\"28.2969\"/><text fill=\"#000000\" font-family=\"sans-serif\" font-size=\"14\" font-weight=\"bold\" lengthAdjust=\"spacingAndGlyphs\" textLength=\"110\" x=\"20\" y=\"20.9951\">TradeStudyTest</text></a><!--MD5=[270fce915f116d4de14055a7c1d9a0f3]\n",
       "class E5--><a href=\"psysml:f9c838ee-65e7-4043-9f07-1b30ef92e49c\" target=\"_top\" title=\"psysml:f9c838ee-65e7-4043-9f07-1b30ef92e49c\" xlink:actuate=\"onRequest\" xlink:href=\"psysml:f9c838ee-65e7-4043-9f07-1b30ef92e49c\" xlink:show=\"new\" xlink:title=\"psysml:f9c838ee-65e7-4043-9f07-1b30ef92e49c\" xlink:type=\"simple\"><rect fill=\"#FFFFFF\" height=\"45.9375\" id=\"E5\" rx=\"10\" ry=\"10\" style=\"stroke: #383838; stroke-width: 1.5;\" width=\"203\" x=\"328.5\" y=\"41\"/><text fill=\"#000000\" font-family=\"sans-serif\" font-size=\"12\" font-style=\"italic\" lengthAdjust=\"spacingAndGlyphs\" textLength=\"64\" x=\"398\" y=\"57.1387\">«analysis»</text><text fill=\"#000000\" font-family=\"sans-serif\" font-size=\"12\" lengthAdjust=\"spacingAndGlyphs\" textLength=\"193\" x=\"331.5\" y=\"71.1074\">engineTradeStudy: TradeStudy</text><line style=\"stroke: #383838; stroke-width: 1.5;\" x1=\"329.5\" x2=\"530.5\" y1=\"78.9375\" y2=\"78.9375\"/></a><!--MD5=[60a26617385b1d2d0262a64233df1f8d]\n",
       "class E6--><a href=\"psysml:38fbb285-8167-4e3f-bee3-2164ba524da7\" target=\"_top\" title=\"psysml:38fbb285-8167-4e3f-bee3-2164ba524da7\" xlink:actuate=\"onRequest\" xlink:href=\"psysml:38fbb285-8167-4e3f-bee3-2164ba524da7\" xlink:show=\"new\" xlink:title=\"psysml:38fbb285-8167-4e3f-bee3-2164ba524da7\" xlink:type=\"simple\"><rect fill=\"#FFFFFF\" height=\"45.9375\" id=\"E6\" rx=\"10\" ry=\"10\" style=\"stroke: #383838; stroke-width: 1.5;\" width=\"255\" x=\"32.5\" y=\"120\"/><text fill=\"#000000\" font-family=\"sans-serif\" font-size=\"12\" font-style=\"italic\" lengthAdjust=\"spacingAndGlyphs\" textLength=\"91\" x=\"114.5\" y=\"136.1387\">«requirement»</text><text fill=\"#000000\" font-family=\"sans-serif\" font-size=\"12\" lengthAdjust=\"spacingAndGlyphs\" textLength=\"245\" x=\"35.5\" y=\"150.1074\">tradeStudyObjective: MaximizeObjective</text><line style=\"stroke: #383838; stroke-width: 1.5;\" x1=\"33.5\" x2=\"286.5\" y1=\"157.9375\" y2=\"157.9375\"/></a><!--MD5=[2156ba9850f5573cc1fc38a6a4b2f02b]\n",
       "class E7--><a href=\"psysml:658dce09-b71c-4e6e-94c9-a3c46617ebc8\" target=\"_top\" title=\"psysml:658dce09-b71c-4e6e-94c9-a3c46617ebc8\" xlink:actuate=\"onRequest\" xlink:href=\"psysml:658dce09-b71c-4e6e-94c9-a3c46617ebc8\" xlink:show=\"new\" xlink:title=\"psysml:658dce09-b71c-4e6e-94c9-a3c46617ebc8\" xlink:type=\"simple\"><rect fill=\"#FFFFFF\" height=\"45.9375\" id=\"E7\" rx=\"10\" ry=\"10\" style=\"stroke: #383838; stroke-width: 1.5;\" width=\"116\" x=\"323\" y=\"120\"/><text fill=\"#000000\" font-family=\"sans-serif\" font-size=\"12\" font-style=\"italic\" lengthAdjust=\"spacingAndGlyphs\" textLength=\"82\" x=\"340\" y=\"136.1387\">«calculation»</text><text fill=\"#000000\" font-family=\"sans-serif\" font-size=\"12\" lengthAdjust=\"spacingAndGlyphs\" textLength=\"110\" x=\"326\" y=\"150.1074\">objectiveFunction</text><line style=\"stroke: #383838; stroke-width: 1.5;\" x1=\"324\" x2=\"438\" y1=\"157.9375\" y2=\"157.9375\"/></a><!--MD5=[b9389687b975829384b498ac4b7476b2]\n",
       "class E8--><a href=\"psysml:3dbf099d-922d-4ace-9ccd-679bba93319b\" target=\"_top\" title=\"psysml:3dbf099d-922d-4ace-9ccd-679bba93319b\" xlink:actuate=\"onRequest\" xlink:href=\"psysml:3dbf099d-922d-4ace-9ccd-679bba93319b\" xlink:show=\"new\" xlink:title=\"psysml:3dbf099d-922d-4ace-9ccd-679bba93319b\" xlink:type=\"simple\"><rect fill=\"#FFFFFF\" height=\"31.9688\" id=\"E8\" rx=\"10\" ry=\"10\" style=\"stroke: #383838; stroke-width: 1.5;\" width=\"128\" x=\"175\" y=\"214\"/><text fill=\"#000000\" font-family=\"sans-serif\" font-size=\"12\" lengthAdjust=\"spacingAndGlyphs\" textLength=\"118\" x=\"178\" y=\"230.1387\">alternative: Engine</text><line style=\"stroke: #383838; stroke-width: 1.5;\" x1=\"176\" x2=\"302\" y1=\"237.9688\" y2=\"237.9688\"/></a><!--MD5=[fd4143e9d270a159db93a4ea2a975926]\n",
       "class E9--><a href=\"psysml:5fb9bd76-5535-468b-bb8f-88cd6f109fe8\" target=\"_top\" title=\"psysml:5fb9bd76-5535-468b-bb8f-88cd6f109fe8\" xlink:actuate=\"onRequest\" xlink:href=\"psysml:5fb9bd76-5535-468b-bb8f-88cd6f109fe8\" xlink:show=\"new\" xlink:title=\"psysml:5fb9bd76-5535-468b-bb8f-88cd6f109fe8\" xlink:type=\"simple\"><rect fill=\"#FFFFFF\" height=\"31.9688\" id=\"E9\" rx=\"10\" ry=\"10\" style=\"stroke: #383838; stroke-width: 1.5;\" width=\"182\" x=\"245\" y=\"174\"/><text fill=\"#000000\" font-family=\"sans-serif\" font-size=\"12\" lengthAdjust=\"spacingAndGlyphs\" textLength=\"172\" x=\"248\" y=\"190.1387\">selectedAlternative: Engine</text><line style=\"stroke: #383838; stroke-width: 1.5;\" x1=\"246\" x2=\"426\" y1=\"197.9688\" y2=\"197.9688\"/></a><g id=\"E1.E2\"><a href=\"psysml:6445380e-76a1-4d64-a2e6-1c63aec68392\" target=\"_top\" title=\"psysml:6445380e-76a1-4d64-a2e6-1c63aec68392\" xlink:actuate=\"onRequest\" xlink:href=\"psysml:6445380e-76a1-4d64-a2e6-1c63aec68392\" xlink:show=\"new\" xlink:title=\"psysml:6445380e-76a1-4d64-a2e6-1c63aec68392\" xlink:type=\"simple\"><rect fill=\"#FFFFFF\" height=\"42.9375\" id=\"E2\" style=\"stroke: #383838; stroke-width: 1.5;\" width=\"75\" x=\"301.5\" y=\"263\"/><rect fill=\"#F8F8F8\" height=\"37.9375\" style=\"stroke: #383838; stroke-width: 1.5;\" width=\"75\" x=\"301.5\" y=\"263\"/><text fill=\"#000000\" font-family=\"sans-serif\" font-size=\"12\" font-style=\"italic\" lengthAdjust=\"spacingAndGlyphs\" textLength=\"68\" x=\"305\" y=\"279.1387\">«part  def»</text><text fill=\"#000000\" font-family=\"sans-serif\" font-size=\"12\" lengthAdjust=\"spacingAndGlyphs\" textLength=\"43\" x=\"317.5\" y=\"293.1074\">Engine</text></a></g><g id=\"E1.E3\"><a href=\"psysml:e07cfc3f-c273-4e94-9cbe-d128d50ec860\" target=\"_top\" title=\"psysml:e07cfc3f-c273-4e94-9cbe-d128d50ec860\" xlink:actuate=\"onRequest\" xlink:href=\"psysml:e07cfc3f-c273-4e94-9cbe-d128d50ec860\" xlink:show=\"new\" xlink:title=\"psysml:e07cfc3f-c273-4e94-9cbe-d128d50ec860\" xlink:type=\"simple\"><rect fill=\"#FFFFFF\" height=\"40\" id=\"E3\" rx=\"10\" ry=\"10\" style=\"stroke: #383838; stroke-width: 1.5;\" width=\"113\" x=\"180.5\" y=\"44\"/><rect fill=\"#F8F8F8\" height=\"23.9688\" rx=\"10\" ry=\"10\" style=\"stroke: #F8F8F8; stroke-width: 1.5;\" width=\"113\" x=\"180.5\" y=\"44\"/><rect fill=\"#F8F8F8\" height=\"10\" style=\"stroke: #F8F8F8; stroke-width: 1.5;\" width=\"113\" x=\"180.5\" y=\"57.9688\"/><rect fill=\"none\" height=\"40\" id=\"E3\" rx=\"10\" ry=\"10\" style=\"stroke: #383838; stroke-width: 1.5;\" width=\"113\" x=\"180.5\" y=\"44\"/><text fill=\"#000000\" font-family=\"sans-serif\" font-size=\"12\" lengthAdjust=\"spacingAndGlyphs\" textLength=\"102\" x=\"186\" y=\"60.1387\">engine1: Engine</text></a></g><g id=\"E1.E4\"><a href=\"psysml:d9e10f1c-39bd-473d-af93-7c118d42db3b\" target=\"_top\" title=\"psysml:d9e10f1c-39bd-473d-af93-7c118d42db3b\" xlink:actuate=\"onRequest\" xlink:href=\"psysml:d9e10f1c-39bd-473d-af93-7c118d42db3b\" xlink:show=\"new\" xlink:title=\"psysml:d9e10f1c-39bd-473d-af93-7c118d42db3b\" xlink:type=\"simple\"><rect fill=\"#FFFFFF\" height=\"40\" id=\"E4\" rx=\"10\" ry=\"10\" style=\"stroke: #383838; stroke-width: 1.5;\" width=\"113\" x=\"32.5\" y=\"44\"/><rect fill=\"#F8F8F8\" height=\"23.9688\" rx=\"10\" ry=\"10\" style=\"stroke: #F8F8F8; stroke-width: 1.5;\" width=\"113\" x=\"32.5\" y=\"44\"/><rect fill=\"#F8F8F8\" height=\"10\" style=\"stroke: #F8F8F8; stroke-width: 1.5;\" width=\"113\" x=\"32.5\" y=\"57.9688\"/><rect fill=\"none\" height=\"40\" id=\"E4\" rx=\"10\" ry=\"10\" style=\"stroke: #383838; stroke-width: 1.5;\" width=\"113\" x=\"32.5\" y=\"44\"/><text fill=\"#000000\" font-family=\"sans-serif\" font-size=\"12\" lengthAdjust=\"spacingAndGlyphs\" textLength=\"102\" x=\"38\" y=\"60.1387\">engine2: Engine</text></a></g><!--MD5=[15ebcb19ae302d9b601edb458606d402]\n",
       "link E5 to E2--><a href=\"psysml:8e91b88f-f820-4b3f-bc7b-6a32144645a0\" target=\"_top\" title=\"psysml:8e91b88f-f820-4b3f-bc7b-6a32144645a0\" xlink:actuate=\"onRequest\" xlink:href=\"psysml:8e91b88f-f820-4b3f-bc7b-6a32144645a0\" xlink:show=\"new\" xlink:title=\"psysml:8e91b88f-f820-4b3f-bc7b-6a32144645a0\" xlink:type=\"simple\"><path d=\"M457.05,87.04 C459.26,89.57 461.29,92.23 463,95 C479.65,121.98 482.49,136.86 470,166 C452.34,207.22 411.86,239.8 380.54,260.09 \" fill=\"none\" id=\"E5-&gt;E2\" style=\"stroke: #383838; stroke-width: 1.0; stroke-dasharray: 7.0,7.0;\"/><polygon fill=\"#383838\" points=\"375.99,263,385.7259,261.5129,380.2001,260.3027,381.4103,254.7768,375.99,263\" style=\"stroke: #383838; stroke-width: 1.0;\"/><text fill=\"#000000\" font-family=\"sans-serif\" font-size=\"13\" lengthAdjust=\"spacingAndGlyphs\" textLength=\"62\" x=\"467\" y=\"194.5669\">«subject»</text></a><!--MD5=[9120cf2e5df3bff93db8f754bbbc09b4]\n",
       "link E5 to E6--><a href=\"psysml:a6ebdbd2-b0f8-4e64-baff-f91dc99eb3fc\" target=\"_top\" title=\"psysml:a6ebdbd2-b0f8-4e64-baff-f91dc99eb3fc\" xlink:actuate=\"onRequest\" xlink:href=\"psysml:a6ebdbd2-b0f8-4e64-baff-f91dc99eb3fc\" xlink:show=\"new\" xlink:title=\"psysml:a6ebdbd2-b0f8-4e64-baff-f91dc99eb3fc\" xlink:type=\"simple\"><path d=\"M346.75,87.03 C337.05,89.68 327.3,92.37 318,95 C292.78,102.13 265.38,110.17 240.59,117.56 \" fill=\"none\" id=\"E5-&gt;E6\" style=\"stroke: #383838; stroke-width: 1.0;\"/><polygon fill=\"#383838\" points=\"232.64,119.94,241.1649,120.5118,239.4388,114.7654,232.64,119.94\" style=\"stroke: #383838; stroke-width: 1.0;\"/><text fill=\"#000000\" font-family=\"sans-serif\" font-size=\"13\" lengthAdjust=\"spacingAndGlyphs\" textLength=\"73\" x=\"319\" y=\"108.0669\">«objective»</text></a><!--MD5=[452b418e7f8a40397a49b8c0a78acc5b]\n",
       "reverse link E5 to E7--><a href=\"psysml:1d968e51-2f45-472a-9c8d-b659e8169068\" target=\"_top\" title=\"psysml:1d968e51-2f45-472a-9c8d-b659e8169068\" xlink:actuate=\"onRequest\" xlink:href=\"psysml:1d968e51-2f45-472a-9c8d-b659e8169068\" xlink:show=\"new\" xlink:title=\"psysml:1d968e51-2f45-472a-9c8d-b659e8169068\" xlink:type=\"simple\"><path d=\"M408.8,98.32 C404.18,105.57 399.4,113.08 395.14,119.78 \" fill=\"none\" id=\"E5&lt;-E7\" style=\"stroke: #383838; stroke-width: 1.0;\"/><polygon fill=\"#383838\" points=\"415.83,87.27,409.2361,90.1889,409.3943,97.3983,415.9883,94.4794,415.83,87.27\" style=\"stroke: #383838; stroke-width: 1.0;\"/></a><!--MD5=[dc164f5e8a733ab456ef1add180e9e34]\n",
       "reverse link E7 to E8--><a href=\"psysml:762eee8a-df65-48ef-8994-f8166e9b75f6\" target=\"_top\" title=\"psysml:762eee8a-df65-48ef-8994-f8166e9b75f6\" xlink:actuate=\"onRequest\" xlink:href=\"psysml:762eee8a-df65-48ef-8994-f8166e9b75f6\" xlink:show=\"new\" xlink:title=\"psysml:762eee8a-df65-48ef-8994-f8166e9b75f6\" xlink:type=\"simple\"><path d=\"M309.92,164.93 C308.27,165.3 306.63,165.66 305,166 C291.62,168.8 253.47,164.14 244,174 C234.03,184.37 234.03,201.47 235.74,213.85 \" fill=\"none\" id=\"E7&lt;-E8\" style=\"stroke: #383838; stroke-width: 1.0;\"/><polygon fill=\"#FFFFFF\" points=\"322.72,161.84,315.9473,159.364,311.0569,164.6634,317.8296,167.1394,322.72,161.84\" style=\"stroke: #383838; stroke-width: 1.0;\"/><text fill=\"#000000\" font-family=\"sans-serif\" font-size=\"13\" lengthAdjust=\"spacingAndGlyphs\" textLength=\"8\" x=\"225.2444\" y=\"202.8154\">1</text></a><!--MD5=[f1f3f9f2fc535e6147756cb86a7f2e32]\n",
       "link E8 to E2--><a href=\"psysml:b4a53d37-cc69-46b7-9c1e-d748cdbb7a31\" target=\"_top\" title=\"psysml:b4a53d37-cc69-46b7-9c1e-d748cdbb7a31\" xlink:actuate=\"onRequest\" xlink:href=\"psysml:b4a53d37-cc69-46b7-9c1e-d748cdbb7a31\" xlink:show=\"new\" xlink:title=\"psysml:b4a53d37-cc69-46b7-9c1e-d748cdbb7a31\" xlink:type=\"simple\"><path d=\"M267.66,246.04 C272.66,248.67 278.02,251.48 283.46,254.34 \" fill=\"none\" id=\"E8-&gt;E2\" style=\"stroke: #383838; stroke-width: 1.0;\"/><polygon fill=\"#FFFFFF\" points=\"301.38,263.75,281.3045,261.1093,287.8163,248.7159,301.38,263.75\" style=\"stroke: #383838; stroke-width: 1.0;\"/><ellipse cx=\"277.1888\" cy=\"256.6876\" fill=\"#383838\" rx=\"2\" ry=\"2\" style=\"stroke: #383838; stroke-width: 1.0;\"/><ellipse cx=\"281.8401\" cy=\"247.8351\" fill=\"#383838\" rx=\"2\" ry=\"2\" style=\"stroke: #383838; stroke-width: 1.0;\"/></a><!--MD5=[9ae28de373ca99bb8a1b38d63370ca7e]\n",
       "reverse link E5 to E9--><a href=\"psysml:b337f31d-c5a0-436f-953f-431d96e2f8f6\" target=\"_top\" title=\"psysml:b337f31d-c5a0-436f-953f-431d96e2f8f6\" xlink:actuate=\"onRequest\" xlink:href=\"psysml:b337f31d-c5a0-436f-953f-431d96e2f8f6\" xlink:show=\"new\" xlink:title=\"psysml:b337f31d-c5a0-436f-953f-431d96e2f8f6\" xlink:type=\"simple\"><path d=\"M452.81,98.61 C464.24,119.98 472.65,147.1 457,166 C455.59,167.7 442.53,170.69 425.46,173.97 \" fill=\"none\" id=\"E5&lt;-E9\" style=\"stroke: #383838; stroke-width: 1.0;\"/><polygon fill=\"#FFFFFF\" points=\"446.09,87.1,445.6547,94.298,452.1315,97.4682,452.5668,90.2703,446.09,87.1\" style=\"stroke: #383838; stroke-width: 1.0;\"/><text fill=\"#000000\" font-family=\"sans-serif\" font-size=\"13\" lengthAdjust=\"spacingAndGlyphs\" textLength=\"8\" x=\"435.0981\" y=\"185.1657\">1</text></a><!--MD5=[5c3bb36fe832a92c7f0e1807dd65209d]\n",
       "link E9 to E2--><a href=\"psysml:a6a00959-a343-466b-bcfe-643c8c056808\" target=\"_top\" title=\"psysml:a6a00959-a343-466b-bcfe-643c8c056808\" xlink:actuate=\"onRequest\" xlink:href=\"psysml:a6a00959-a343-466b-bcfe-643c8c056808\" xlink:show=\"new\" xlink:title=\"psysml:a6a00959-a343-466b-bcfe-643c8c056808\" xlink:type=\"simple\"><path d=\"M336.5,206.27 C336.82,216.14 337.25,229.48 337.66,242.29 \" fill=\"none\" id=\"E9-&gt;E2\" style=\"stroke: #383838; stroke-width: 1.0;\"/><polygon fill=\"#FFFFFF\" points=\"338.32,262.66,330.7128,243.8949,344.7055,243.4448,338.32,262.66\" style=\"stroke: #383838; stroke-width: 1.0;\"/><ellipse cx=\"332.5285\" cy=\"238.1335\" fill=\"#383838\" rx=\"2\" ry=\"2\" style=\"stroke: #383838; stroke-width: 1.0;\"/><ellipse cx=\"342.5233\" cy=\"237.812\" fill=\"#383838\" rx=\"2\" ry=\"2\" style=\"stroke: #383838; stroke-width: 1.0;\"/></a><!--MD5=[30f46b18d0e04fd4f0cf013fc3b27415]\n",
       "@startuml\r\n",
       "skinparam ranksep 10\r\n",
       "skinparam rectangle {\r\n",
       " backgroundColor<<block>> LightGreen\r\n",
       "}\r\n",
       " skinparam monochrome true\r\n",
       "skinparam classbackgroundcolor white\r\n",
       "skinparam shadowing false\r\n",
       "skinparam wrapWidth 300\r\n",
       "hide circle\r\n",
       "\r\n",
       "package \"TradeStudyTest\" as E1  [[psysml:57f8a98c-5718-48d8-9b9a-5c4650640602 ]]  {\r\n",
       "rec def \"Engine\" as E2  <<(T,blue) part  def>> [[psysml:6445380e-76a1-4d64-a2e6-1c63aec68392 ]] {\r\n",
       "}\r\n",
       "rec usage \"engine1: Engine\" as E3  [[psysml:e07cfc3f-c273-4e94-9cbe-d128d50ec860 ]] {\r\n",
       "}\r\n",
       "rec usage \"engine2: Engine\" as E4  [[psysml:d9e10f1c-39bd-473d-af93-7c118d42db3b ]] {\r\n",
       "}\r\n",
       "comp usage \"engineTradeStudy: TradeStudy \" as E5 << analysis>> [[psysml:f9c838ee-65e7-4043-9f07-1b30ef92e49c ]] {\r\n",
       "}\r\n",
       "comp usage \"tradeStudyObjective: MaximizeObjective \" as E6  <<(T,blue) requirement>> [[psysml:38fbb285-8167-4e3f-bee3-2164ba524da7 ]] {\r\n",
       "}\r\n",
       "comp usage \"objectiveFunction\" as E7  <<(T,blue) calculation>> [[psysml:658dce09-b71c-4e6e-94c9-a3c46617ebc8 ]] {\r\n",
       "}\r\n",
       "comp usage \"alternative: Engine \" as E8  [[psysml:3dbf099d-922d-4ace-9ccd-679bba93319b ]] {\r\n",
       "}\r\n",
       "comp usage \"selectedAlternative: Engine \" as E9  [[psysml:5fb9bd76-5535-468b-bb8f-88cd6f109fe8 ]] {\r\n",
       "}\r\n",
       "}\r\n",
       "E5 ..> E2 [[psysml:8e91b88f-f820-4b3f-bc7b-6a32144645a0 ]] : <<subject>>\r\n",
       "E5 - ->> E6 [[psysml:a6ebdbd2-b0f8-4e64-baff-f91dc99eb3fc ]] : <<objective>>\r\n",
       "E5 *- - E7 [[psysml:1d968e51-2f45-472a-9c8d-b659e8169068 ]] \r\n",
       "E7 o- - \"1\"E8 [[psysml:762eee8a-df65-48ef-8994-f8166e9b75f6 ]] \r\n",
       "E8 - -:|> E2 [[psysml:b4a53d37-cc69-46b7-9c1e-d748cdbb7a31 ]] \r\n",
       "E5 o- - \"1\"E9 [[psysml:b337f31d-c5a0-436f-953f-431d96e2f8f6 ]] \r\n",
       "E9 - -:|> E2 [[psysml:a6a00959-a343-466b-bcfe-643c8c056808 ]] \r\n",
       "@enduml\r\n",
       "\n",
       "PlantUML version 1.2020.13(Sat Jun 13 12:26:38 UTC 2020)\n",
       "(EPL source distribution)\n",
       "Java Runtime: OpenJDK Runtime Environment\n",
       "JVM: OpenJDK 64-Bit Server VM\n",
       "Default Encoding: UTF-8\n",
       "Language: en\n",
       "Country: null\n",
       "--></g></svg>"
      ]
     },
     "execution_count": 5,
     "metadata": {},
     "output_type": "execute_result"
    }
   ],
   "source": [
    "%viz --style=\"COMPTREE\" --view=\"Interconnection\" \"TradeStudyTest\""
   ]
  },
  {
   "cell_type": "code",
   "execution_count": 6,
   "id": "8f897635",
   "metadata": {
    "execution": {
     "iopub.execute_input": "2021-11-13T13:01:38.369831Z",
     "iopub.status.busy": "2021-11-13T13:01:38.369263Z",
     "iopub.status.idle": "2021-11-13T13:01:38.407413Z",
     "shell.execute_reply": "2021-11-13T13:01:38.407226Z"
    }
   },
   "outputs": [
    {
     "data": {
      "image/svg+xml": [
       "<?xml version=\"1.0\" encoding=\"UTF-8\" standalone=\"no\"?><svg xmlns=\"http://www.w3.org/2000/svg\" xmlns:xlink=\"http://www.w3.org/1999/xlink\" contentScriptType=\"application/ecmascript\" contentStyleType=\"text/css\" height=\"178px\" preserveAspectRatio=\"none\" style=\"width:434px;height:178px;\" version=\"1.1\" viewBox=\"0 0 434 178\" width=\"434px\" zoomAndPan=\"magnify\"><defs/><g><!--MD5=[fbc87193dbaf4d95561dea2c320d4a47]\n",
       "cluster E1--><a href=\"psysml:f9c838ee-65e7-4043-9f07-1b30ef92e49c\" target=\"_top\" title=\"psysml:f9c838ee-65e7-4043-9f07-1b30ef92e49c\" xlink:actuate=\"onRequest\" xlink:href=\"psysml:f9c838ee-65e7-4043-9f07-1b30ef92e49c\" xlink:show=\"new\" xlink:title=\"psysml:f9c838ee-65e7-4043-9f07-1b30ef92e49c\" xlink:type=\"simple\"><rect fill=\"#FFFFFF\" height=\"103.72\" id=\"E1\" rx=\"10\" ry=\"10\" style=\"stroke: #383838; stroke-width: 1.5;\" width=\"327\" x=\"47\" y=\"42.0986\"/><rect fill=\"#F8F8F8\" height=\"37.9375\" rx=\"10\" ry=\"10\" style=\"stroke: #F8F8F8; stroke-width: 1.5;\" width=\"327\" x=\"47\" y=\"42.0986\"/><rect fill=\"#F8F8F8\" height=\"10\" style=\"stroke: #F8F8F8; stroke-width: 1.5;\" width=\"327\" x=\"47\" y=\"70.0361\"/><rect fill=\"none\" height=\"103.72\" id=\"E1\" rx=\"10\" ry=\"10\" style=\"stroke: #383838; stroke-width: 1.5;\" width=\"327\" x=\"47\" y=\"42.0986\"/><text fill=\"#000000\" font-family=\"sans-serif\" font-size=\"12\" font-style=\"italic\" lengthAdjust=\"spacingAndGlyphs\" textLength=\"64\" x=\"178.5\" y=\"58.2373\">«analysis»</text><text fill=\"#000000\" font-family=\"sans-serif\" font-size=\"12\" lengthAdjust=\"spacingAndGlyphs\" textLength=\"114\" x=\"153.5\" y=\"72.2061\">engineTradeStudy</text><line style=\"stroke: #383838; stroke-width: 1.0;\" x1=\"47\" x2=\"374\" y1=\"80.0361\" y2=\"80.0361\"/></a><!--MD5=[d5e69f78d87373223dbae638b30a9c99]\n",
       "cluster E3--><a href=\"psysml:658dce09-b71c-4e6e-94c9-a3c46617ebc8\" target=\"_top\" title=\"psysml:658dce09-b71c-4e6e-94c9-a3c46617ebc8\" xlink:actuate=\"onRequest\" xlink:href=\"psysml:658dce09-b71c-4e6e-94c9-a3c46617ebc8\" xlink:show=\"new\" xlink:title=\"psysml:658dce09-b71c-4e6e-94c9-a3c46617ebc8\" xlink:type=\"simple\"><rect fill=\"#FFFFFF\" height=\"81.72\" id=\"E3\" rx=\"10\" ry=\"10\" style=\"stroke: #383838; stroke-width: 1.5;\" width=\"132\" x=\"214.125\" y=\"64.0986\"/><rect fill=\"#F8F8F8\" height=\"37.9375\" rx=\"10\" ry=\"10\" style=\"stroke: #F8F8F8; stroke-width: 1.5;\" width=\"132\" x=\"214.125\" y=\"64.0986\"/><rect fill=\"#F8F8F8\" height=\"10\" style=\"stroke: #F8F8F8; stroke-width: 1.5;\" width=\"132\" x=\"214.125\" y=\"92.0361\"/><rect fill=\"none\" height=\"81.72\" id=\"E3\" rx=\"10\" ry=\"10\" style=\"stroke: #383838; stroke-width: 1.5;\" width=\"132\" x=\"214.125\" y=\"64.0986\"/><text fill=\"#000000\" font-family=\"sans-serif\" font-size=\"12\" font-style=\"italic\" lengthAdjust=\"spacingAndGlyphs\" textLength=\"82\" x=\"239.125\" y=\"80.2373\">«calculation»</text><text fill=\"#000000\" font-family=\"sans-serif\" font-size=\"12\" lengthAdjust=\"spacingAndGlyphs\" textLength=\"110\" x=\"225.125\" y=\"94.2061\">objectiveFunction</text><line style=\"stroke: #383838; stroke-width: 1.0;\" x1=\"214.125\" x2=\"346.125\" y1=\"102.0361\" y2=\"102.0361\"/></a><text fill=\"#000000\" font-family=\"sans-serif\" font-size=\"14\" lengthAdjust=\"spacingAndGlyphs\" textLength=\"118\" x=\"6\" y=\"20.7969\">studyAlternatives</text><rect fill=\"#383838\" height=\"12\" style=\"stroke: #F8F8F8; stroke-width: 1.5;\" width=\"12\" x=\"59\" y=\"36.0986\"/><text fill=\"#000000\" font-family=\"sans-serif\" font-size=\"14\" lengthAdjust=\"spacingAndGlyphs\" textLength=\"132\" x=\"290\" y=\"164.8138\">selectedAlternative</text><rect fill=\"#383838\" height=\"12\" style=\"stroke: #F8F8F8; stroke-width: 1.5;\" width=\"12\" x=\"350\" y=\"139.8186\"/><text fill=\"#000000\" font-family=\"sans-serif\" font-size=\"14\" lengthAdjust=\"spacingAndGlyphs\" textLength=\"39\" x=\"215.5\" y=\"164.8138\">result</text><rect fill=\"#383838\" height=\"12\" style=\"stroke: #F8F8F8; stroke-width: 1.5;\" width=\"12\" x=\"229\" y=\"139.8186\"/><!--MD5=[78668482cc083c5d99f59466f8c35e37]\n",
       "@startuml\r\n",
       "skinparam ranksep 8\r\n",
       " skinparam monochrome true\r\n",
       "skinparam classbackgroundcolor white\r\n",
       "skinparam shadowing false\r\n",
       "skinparam wrapWidth 300\r\n",
       "hide circle\r\n",
       "\r\n",
       "rec usage \"engineTradeStudy\" as E1 << analysis>> [[psysml:f9c838ee-65e7-4043-9f07-1b30ef92e49c ]] {\r\n",
       "portin \"studyAlternatives\" as E2  [[psysml:337fe316-4d2f-4990-8407-2b5473f7b0b9 ]] \r\n",
       "rec usage \"objectiveFunction\" as E3  <<(T,blue) calculation>> [[psysml:658dce09-b71c-4e6e-94c9-a3c46617ebc8 ]] {\r\n",
       "portout \"result\" as E4  [[psysml:1c0da6f6-5c1e-42af-93f0-451ad801a52e ]] \r\n",
       "}\r\n",
       "\r\n",
       "portout \"selectedAlternative\" as E5  [[psysml:5fb9bd76-5535-468b-bb8f-88cd6f109fe8 ]] \r\n",
       "}\r\n",
       "\r\n",
       "@enduml\r\n",
       "\n",
       "PlantUML version 1.2020.13(Sat Jun 13 12:26:38 UTC 2020)\n",
       "(EPL source distribution)\n",
       "Java Runtime: OpenJDK Runtime Environment\n",
       "JVM: OpenJDK 64-Bit Server VM\n",
       "Default Encoding: UTF-8\n",
       "Language: en\n",
       "Country: null\n",
       "--></g></svg>"
      ]
     },
     "execution_count": 6,
     "metadata": {},
     "output_type": "execute_result"
    }
   ],
   "source": [
    "%viz --style=\"COMPTREE\" --view=\"Action\" \"TradeStudyTest\""
   ]
  },
  {
   "cell_type": "code",
   "execution_count": 7,
   "id": "82dfdb8c",
   "metadata": {
    "execution": {
     "iopub.execute_input": "2021-11-13T13:01:38.458354Z",
     "iopub.status.busy": "2021-11-13T13:01:38.457885Z",
     "iopub.status.idle": "2021-11-13T13:01:38.469969Z",
     "shell.execute_reply": "2021-11-13T13:01:38.470286Z"
    }
   },
   "outputs": [
    {
     "data": {
      "image/svg+xml": [
       "<?xml version=\"1.0\" encoding=\"UTF-8\" standalone=\"no\"?><svg xmlns=\"http://www.w3.org/2000/svg\" xmlns:xlink=\"http://www.w3.org/1999/xlink\" contentScriptType=\"application/ecmascript\" contentStyleType=\"text/css\" height=\"12px\" preserveAspectRatio=\"none\" style=\"width:12px;height:12px;\" version=\"1.1\" viewBox=\"0 0 12 12\" width=\"12px\" zoomAndPan=\"magnify\"><defs/><g><!--MD5=[803fc46c337be7a5c8a9831e35356779]\n",
       "@startuml\r\n",
       "skinparam roundcorner 20\r\n",
       "skinparam BoxPadding 20\r\n",
       "skinparam SequenceBoxBackgroundColor #white\r\n",
       "skinparam style strictuml\r\n",
       "skinparam maxMessageSize 100\r\n",
       " skinparam monochrome true\r\n",
       "skinparam classbackgroundcolor white\r\n",
       "skinparam shadowing false\r\n",
       "skinparam wrapWidth 300\r\n",
       "hide circle\r\n",
       "\r\n",
       "@enduml\r\n",
       "\n",
       "PlantUML version 1.2020.13(Sat Jun 13 12:26:38 UTC 2020)\n",
       "(EPL source distribution)\n",
       "Java Runtime: OpenJDK Runtime Environment\n",
       "JVM: OpenJDK 64-Bit Server VM\n",
       "Default Encoding: UTF-8\n",
       "Language: en\n",
       "Country: null\n",
       "--></g></svg>"
      ]
     },
     "execution_count": 7,
     "metadata": {},
     "output_type": "execute_result"
    }
   ],
   "source": [
    "%viz --style=\"COMPTREE\" --view=\"Sequence\" \"TradeStudyTest\""
   ]
  },
  {
   "cell_type": "code",
   "execution_count": 8,
   "id": "aa6e06cc",
   "metadata": {
    "execution": {
     "iopub.execute_input": "2021-11-13T13:01:38.520234Z",
     "iopub.status.busy": "2021-11-13T13:01:38.519830Z",
     "iopub.status.idle": "2021-11-13T13:01:38.596082Z",
     "shell.execute_reply": "2021-11-13T13:01:38.596399Z"
    }
   },
   "outputs": [
    {
     "data": {
      "image/svg+xml": [
       "<?xml version=\"1.0\" encoding=\"UTF-8\" standalone=\"no\"?><svg xmlns=\"http://www.w3.org/2000/svg\" xmlns:xlink=\"http://www.w3.org/1999/xlink\" contentScriptType=\"application/ecmascript\" contentStyleType=\"text/css\" height=\"497px\" preserveAspectRatio=\"none\" style=\"width:568px;height:497px;\" version=\"1.1\" viewBox=\"0 0 568 497\" width=\"568px\" zoomAndPan=\"magnify\"><defs/><g><!--MD5=[fbc87193dbaf4d95561dea2c320d4a47]\n",
       "cluster E1--><a href=\"psysml:57f8a98c-5718-48d8-9b9a-5c4650640602\" target=\"_top\" title=\"psysml:57f8a98c-5718-48d8-9b9a-5c4650640602\" xlink:actuate=\"onRequest\" xlink:href=\"psysml:57f8a98c-5718-48d8-9b9a-5c4650640602\" xlink:show=\"new\" xlink:title=\"psysml:57f8a98c-5718-48d8-9b9a-5c4650640602\" xlink:type=\"simple\"><polygon fill=\"#FFFFFF\" points=\"18.75,6,134.75,6,141.75,28.2969,546.75,28.2969,546.75,485,18.75,485,18.75,6\" style=\"stroke: #000000; stroke-width: 1.5;\"/><line style=\"stroke: #000000; stroke-width: 1.5;\" x1=\"18.75\" x2=\"141.75\" y1=\"28.2969\" y2=\"28.2969\"/><text fill=\"#000000\" font-family=\"sans-serif\" font-size=\"14\" font-weight=\"bold\" lengthAdjust=\"spacingAndGlyphs\" textLength=\"110\" x=\"22.75\" y=\"20.9951\">TradeStudyTest</text></a><!--MD5=[b4997ac47864f28c2f74865a473b2911]\n",
       "class E2--><a href=\"psysml:6445380e-76a1-4d64-a2e6-1c63aec68392\" target=\"_top\" title=\"psysml:6445380e-76a1-4d64-a2e6-1c63aec68392\" xlink:actuate=\"onRequest\" xlink:href=\"psysml:6445380e-76a1-4d64-a2e6-1c63aec68392\" xlink:show=\"new\" xlink:title=\"psysml:6445380e-76a1-4d64-a2e6-1c63aec68392\" xlink:type=\"simple\"><rect fill=\"#FFFFFF\" height=\"45.9375\" id=\"E2\" style=\"stroke: #383838; stroke-width: 1.5;\" width=\"70\" x=\"200.75\" y=\"423\"/><text fill=\"#000000\" font-family=\"sans-serif\" font-size=\"12\" font-style=\"italic\" lengthAdjust=\"spacingAndGlyphs\" textLength=\"68\" x=\"201.75\" y=\"439.1387\">«part  def»</text><text fill=\"#000000\" font-family=\"sans-serif\" font-size=\"12\" lengthAdjust=\"spacingAndGlyphs\" textLength=\"43\" x=\"214.25\" y=\"453.1074\">Engine</text><line style=\"stroke: #383838; stroke-width: 1.5;\" x1=\"201.75\" x2=\"269.75\" y1=\"460.9375\" y2=\"460.9375\"/></a><!--MD5=[09b614a08d8cba4a07c9adeb5e0fee81]\n",
       "class E3--><a href=\"psysml:e07cfc3f-c273-4e94-9cbe-d128d50ec860\" target=\"_top\" title=\"psysml:e07cfc3f-c273-4e94-9cbe-d128d50ec860\" xlink:actuate=\"onRequest\" xlink:href=\"psysml:e07cfc3f-c273-4e94-9cbe-d128d50ec860\" xlink:show=\"new\" xlink:title=\"psysml:e07cfc3f-c273-4e94-9cbe-d128d50ec860\" xlink:type=\"simple\"><rect fill=\"#FFFFFF\" height=\"45.9375\" id=\"E3\" rx=\"10\" ry=\"10\" style=\"stroke: #383838; stroke-width: 1.5;\" width=\"112\" x=\"418.75\" y=\"316\"/><text fill=\"#000000\" font-family=\"sans-serif\" font-size=\"12\" font-style=\"italic\" lengthAdjust=\"spacingAndGlyphs\" textLength=\"40\" x=\"454.75\" y=\"332.1387\">«part»</text><text fill=\"#000000\" font-family=\"sans-serif\" font-size=\"12\" lengthAdjust=\"spacingAndGlyphs\" textLength=\"102\" x=\"421.75\" y=\"346.1074\">engine1: Engine</text><line style=\"stroke: #383838; stroke-width: 1.5;\" x1=\"419.75\" x2=\"529.75\" y1=\"353.9375\" y2=\"353.9375\"/></a><!--MD5=[ebbe1d658d1005bcc118a6aa81145e00]\n",
       "class E4--><a href=\"psysml:d9e10f1c-39bd-473d-af93-7c118d42db3b\" target=\"_top\" title=\"psysml:d9e10f1c-39bd-473d-af93-7c118d42db3b\" xlink:actuate=\"onRequest\" xlink:href=\"psysml:d9e10f1c-39bd-473d-af93-7c118d42db3b\" xlink:show=\"new\" xlink:title=\"psysml:d9e10f1c-39bd-473d-af93-7c118d42db3b\" xlink:type=\"simple\"><rect fill=\"#FFFFFF\" height=\"45.9375\" id=\"E4\" rx=\"10\" ry=\"10\" style=\"stroke: #383838; stroke-width: 1.5;\" width=\"112\" x=\"271.75\" y=\"316\"/><text fill=\"#000000\" font-family=\"sans-serif\" font-size=\"12\" font-style=\"italic\" lengthAdjust=\"spacingAndGlyphs\" textLength=\"40\" x=\"307.75\" y=\"332.1387\">«part»</text><text fill=\"#000000\" font-family=\"sans-serif\" font-size=\"12\" lengthAdjust=\"spacingAndGlyphs\" textLength=\"102\" x=\"274.75\" y=\"346.1074\">engine2: Engine</text><line style=\"stroke: #383838; stroke-width: 1.5;\" x1=\"272.75\" x2=\"382.75\" y1=\"353.9375\" y2=\"353.9375\"/></a><!--MD5=[270fce915f116d4de14055a7c1d9a0f3]\n",
       "class E5--><a href=\"psysml:f9c838ee-65e7-4043-9f07-1b30ef92e49c\" target=\"_top\" title=\"psysml:f9c838ee-65e7-4043-9f07-1b30ef92e49c\" xlink:actuate=\"onRequest\" xlink:href=\"psysml:f9c838ee-65e7-4043-9f07-1b30ef92e49c\" xlink:show=\"new\" xlink:title=\"psysml:f9c838ee-65e7-4043-9f07-1b30ef92e49c\" xlink:type=\"simple\"><rect fill=\"#FFFFFF\" height=\"45.9375\" id=\"E5\" rx=\"10\" ry=\"10\" style=\"stroke: #383838; stroke-width: 1.5;\" width=\"203\" x=\"248.25\" y=\"41\"/><text fill=\"#000000\" font-family=\"sans-serif\" font-size=\"12\" font-style=\"italic\" lengthAdjust=\"spacingAndGlyphs\" textLength=\"64\" x=\"317.75\" y=\"57.1387\">«analysis»</text><text fill=\"#000000\" font-family=\"sans-serif\" font-size=\"12\" lengthAdjust=\"spacingAndGlyphs\" textLength=\"193\" x=\"251.25\" y=\"71.1074\">engineTradeStudy: TradeStudy</text><line style=\"stroke: #383838; stroke-width: 1.5;\" x1=\"249.25\" x2=\"450.25\" y1=\"78.9375\" y2=\"78.9375\"/></a><!--MD5=[60a26617385b1d2d0262a64233df1f8d]\n",
       "class E6--><a href=\"psysml:38fbb285-8167-4e3f-bee3-2164ba524da7\" target=\"_top\" title=\"psysml:38fbb285-8167-4e3f-bee3-2164ba524da7\" xlink:actuate=\"onRequest\" xlink:href=\"psysml:38fbb285-8167-4e3f-bee3-2164ba524da7\" xlink:show=\"new\" xlink:title=\"psysml:38fbb285-8167-4e3f-bee3-2164ba524da7\" xlink:type=\"simple\"><rect fill=\"#FFFFFF\" height=\"45.9375\" id=\"E6\" rx=\"10\" ry=\"10\" style=\"stroke: #383838; stroke-width: 1.5;\" width=\"255\" x=\"87.25\" y=\"164\"/><text fill=\"#000000\" font-family=\"sans-serif\" font-size=\"12\" font-style=\"italic\" lengthAdjust=\"spacingAndGlyphs\" textLength=\"91\" x=\"169.25\" y=\"180.1387\">«requirement»</text><text fill=\"#000000\" font-family=\"sans-serif\" font-size=\"12\" lengthAdjust=\"spacingAndGlyphs\" textLength=\"245\" x=\"90.25\" y=\"194.1074\">tradeStudyObjective: MaximizeObjective</text><line style=\"stroke: #383838; stroke-width: 1.5;\" x1=\"88.25\" x2=\"341.25\" y1=\"201.9375\" y2=\"201.9375\"/></a><!--MD5=[2156ba9850f5573cc1fc38a6a4b2f02b]\n",
       "class E7--><a href=\"psysml:658dce09-b71c-4e6e-94c9-a3c46617ebc8\" target=\"_top\" title=\"psysml:658dce09-b71c-4e6e-94c9-a3c46617ebc8\" xlink:actuate=\"onRequest\" xlink:href=\"psysml:658dce09-b71c-4e6e-94c9-a3c46617ebc8\" xlink:show=\"new\" xlink:title=\"psysml:658dce09-b71c-4e6e-94c9-a3c46617ebc8\" xlink:type=\"simple\"><rect fill=\"#FFFFFF\" height=\"45.9375\" id=\"E7\" rx=\"10\" ry=\"10\" style=\"stroke: #383838; stroke-width: 1.5;\" width=\"116\" x=\"377.75\" y=\"164\"/><text fill=\"#000000\" font-family=\"sans-serif\" font-size=\"12\" font-style=\"italic\" lengthAdjust=\"spacingAndGlyphs\" textLength=\"82\" x=\"394.75\" y=\"180.1387\">«calculation»</text><text fill=\"#000000\" font-family=\"sans-serif\" font-size=\"12\" lengthAdjust=\"spacingAndGlyphs\" textLength=\"110\" x=\"380.75\" y=\"194.1074\">objectiveFunction</text><line style=\"stroke: #383838; stroke-width: 1.5;\" x1=\"378.75\" x2=\"492.75\" y1=\"201.9375\" y2=\"201.9375\"/></a><!--MD5=[b9389687b975829384b498ac4b7476b2]\n",
       "class E8--><a href=\"psysml:3dbf099d-922d-4ace-9ccd-679bba93319b\" target=\"_top\" title=\"psysml:3dbf099d-922d-4ace-9ccd-679bba93319b\" xlink:actuate=\"onRequest\" xlink:href=\"psysml:3dbf099d-922d-4ace-9ccd-679bba93319b\" xlink:show=\"new\" xlink:title=\"psysml:3dbf099d-922d-4ace-9ccd-679bba93319b\" xlink:type=\"simple\"><rect fill=\"#FFFFFF\" height=\"45.9375\" id=\"E8\" rx=\"10\" ry=\"10\" style=\"stroke: #383838; stroke-width: 1.5;\" width=\"128\" x=\"71.75\" y=\"316\"/><text fill=\"#000000\" font-family=\"sans-serif\" font-size=\"12\" font-style=\"italic\" lengthAdjust=\"spacingAndGlyphs\" textLength=\"40\" x=\"115.75\" y=\"332.1387\">«part»</text><text fill=\"#000000\" font-family=\"sans-serif\" font-size=\"12\" lengthAdjust=\"spacingAndGlyphs\" textLength=\"118\" x=\"74.75\" y=\"346.1074\">alternative: Engine</text><line style=\"stroke: #383838; stroke-width: 1.5;\" x1=\"72.75\" x2=\"198.75\" y1=\"353.9375\" y2=\"353.9375\"/></a><!--MD5=[fd4143e9d270a159db93a4ea2a975926]\n",
       "class E9--><a href=\"psysml:5fb9bd76-5535-468b-bb8f-88cd6f109fe8\" target=\"_top\" title=\"psysml:5fb9bd76-5535-468b-bb8f-88cd6f109fe8\" xlink:actuate=\"onRequest\" xlink:href=\"psysml:5fb9bd76-5535-468b-bb8f-88cd6f109fe8\" xlink:show=\"new\" xlink:title=\"psysml:5fb9bd76-5535-468b-bb8f-88cd6f109fe8\" xlink:type=\"simple\"><rect fill=\"#FFFFFF\" height=\"45.9375\" id=\"E9\" rx=\"10\" ry=\"10\" style=\"stroke: #383838; stroke-width: 1.5;\" width=\"182\" x=\"297.75\" y=\"240\"/><text fill=\"#000000\" font-family=\"sans-serif\" font-size=\"12\" font-style=\"italic\" lengthAdjust=\"spacingAndGlyphs\" textLength=\"40\" x=\"368.75\" y=\"256.1387\">«part»</text><text fill=\"#000000\" font-family=\"sans-serif\" font-size=\"12\" lengthAdjust=\"spacingAndGlyphs\" textLength=\"172\" x=\"300.75\" y=\"270.1074\">selectedAlternative: Engine</text><line style=\"stroke: #383838; stroke-width: 1.5;\" x1=\"298.75\" x2=\"478.75\" y1=\"277.9375\" y2=\"277.9375\"/></a><!--MD5=[05d275557350bfb9b23a4ef7222b4c39]\n",
       "link E3 to E2--><a href=\"psysml:8b560a74-32d8-45cc-8c0e-f8d7e14b884a\" target=\"_top\" title=\"psysml:8b560a74-32d8-45cc-8c0e-f8d7e14b884a\" xlink:actuate=\"onRequest\" xlink:href=\"psysml:8b560a74-32d8-45cc-8c0e-f8d7e14b884a\" xlink:show=\"new\" xlink:title=\"psysml:8b560a74-32d8-45cc-8c0e-f8d7e14b884a\" xlink:type=\"simple\"><path d=\"M424.65,362.01 C385.12,379.38 330.1,403.55 289.63,421.33 \" fill=\"none\" id=\"E3-&gt;E2\" style=\"stroke: #383838; stroke-width: 1.0;\"/><polygon fill=\"#FFFFFF\" points=\"271.06,429.49,285.6417,415.4411,291.271,428.2594,271.06,429.49\" style=\"stroke: #383838; stroke-width: 1.0;\"/><ellipse cx=\"291.6648\" cy=\"414.9803\" fill=\"#383838\" rx=\"2\" ry=\"2\" style=\"stroke: #383838; stroke-width: 1.0;\"/><ellipse cx=\"295.6858\" cy=\"424.1363\" fill=\"#383838\" rx=\"2\" ry=\"2\" style=\"stroke: #383838; stroke-width: 1.0;\"/></a><!--MD5=[185131fc0dcab0a4505a2ebe144e961b]\n",
       "link E4 to E2--><a href=\"psysml:7f518d85-a598-4692-a186-0ec59d25f08f\" target=\"_top\" title=\"psysml:7f518d85-a598-4692-a186-0ec59d25f08f\" xlink:actuate=\"onRequest\" xlink:href=\"psysml:7f518d85-a598-4692-a186-0ec59d25f08f\" xlink:show=\"new\" xlink:title=\"psysml:7f518d85-a598-4692-a186-0ec59d25f08f\" xlink:type=\"simple\"><path d=\"M308.46,362.01 C297.01,375.08 282.18,392.01 268.89,407.17 \" fill=\"none\" id=\"E4-&gt;E2\" style=\"stroke: #383838; stroke-width: 1.0;\"/><polygon fill=\"#FFFFFF\" points=\"255.33,422.66,262.5901,403.7578,273.1181,412.9861,255.33,422.66\" style=\"stroke: #383838; stroke-width: 1.0;\"/><ellipse cx=\"267.8513\" cy=\"400.7898\" fill=\"#383838\" rx=\"2\" ry=\"2\" style=\"stroke: #383838; stroke-width: 1.0;\"/><ellipse cx=\"275.3713\" cy=\"407.3814\" fill=\"#383838\" rx=\"2\" ry=\"2\" style=\"stroke: #383838; stroke-width: 1.0;\"/></a><!--MD5=[15ebcb19ae302d9b601edb458606d402]\n",
       "link E5 to E2--><a href=\"psysml:8e91b88f-f820-4b3f-bc7b-6a32144645a0\" target=\"_top\" title=\"psysml:8e91b88f-f820-4b3f-bc7b-6a32144645a0\" xlink:actuate=\"onRequest\" xlink:href=\"psysml:8e91b88f-f820-4b3f-bc7b-6a32144645a0\" xlink:show=\"new\" xlink:title=\"psysml:8e91b88f-f820-4b3f-bc7b-6a32144645a0\" xlink:type=\"simple\"><path d=\"M248.05,74.19 C186.69,85.36 112.38,109.96 69.75,164 C15.07,233.32 6,287.74 53.75,362 C84.89,410.42 152.01,430.93 195.46,439.38 \" fill=\"none\" id=\"E5-&gt;E2\" style=\"stroke: #383838; stroke-width: 1.0; stroke-dasharray: 7.0,7.0;\"/><polygon fill=\"#383838\" points=\"200.63,440.35,192.5135,434.7713,195.7143,439.4355,191.0502,442.6363,200.63,440.35\" style=\"stroke: #383838; stroke-width: 1.0;\"/><text fill=\"#000000\" font-family=\"sans-serif\" font-size=\"13\" lengthAdjust=\"spacingAndGlyphs\" textLength=\"62\" x=\"28.75\" y=\"267.5669\">«subject»</text></a><!--MD5=[9120cf2e5df3bff93db8f754bbbc09b4]\n",
       "link E5 to E6--><a href=\"psysml:a6ebdbd2-b0f8-4e64-baff-f91dc99eb3fc\" target=\"_top\" title=\"psysml:a6ebdbd2-b0f8-4e64-baff-f91dc99eb3fc\" xlink:actuate=\"onRequest\" xlink:href=\"psysml:a6ebdbd2-b0f8-4e64-baff-f91dc99eb3fc\" xlink:show=\"new\" xlink:title=\"psysml:a6ebdbd2-b0f8-4e64-baff-f91dc99eb3fc\" xlink:type=\"simple\"><path d=\"M324.99,87.19 C302.63,107.23 269.64,136.8 245.58,158.37 \" fill=\"none\" id=\"E5-&gt;E6\" style=\"stroke: #383838; stroke-width: 1.0;\"/><polygon fill=\"#383838\" points=\"239.35,163.95,247.3086,160.8419,243.3025,156.3752,239.35,163.95\" style=\"stroke: #383838; stroke-width: 1.0;\"/><text fill=\"#000000\" font-family=\"sans-serif\" font-size=\"13\" lengthAdjust=\"spacingAndGlyphs\" textLength=\"73\" x=\"290.75\" y=\"130.0669\">«objective»</text></a><!--MD5=[452b418e7f8a40397a49b8c0a78acc5b]\n",
       "reverse link E5 to E7--><a href=\"psysml:1d968e51-2f45-472a-9c8d-b659e8169068\" target=\"_top\" title=\"psysml:1d968e51-2f45-472a-9c8d-b659e8169068\" xlink:actuate=\"onRequest\" xlink:href=\"psysml:1d968e51-2f45-472a-9c8d-b659e8169068\" xlink:show=\"new\" xlink:title=\"psysml:1d968e51-2f45-472a-9c8d-b659e8169068\" xlink:type=\"simple\"><path d=\"M373.12,97.88 C388.03,118.86 406.95,145.48 420.08,163.95 \" fill=\"none\" id=\"E5&lt;-E7\" style=\"stroke: #383838; stroke-width: 1.0;\"/><polygon fill=\"#383838\" points=\"365.52,87.19,365.7442,94.3976,372.4836,96.9628,372.2594,89.7552,365.52,87.19\" style=\"stroke: #383838; stroke-width: 1.0;\"/></a><!--MD5=[dc164f5e8a733ab456ef1add180e9e34]\n",
       "reverse link E7 to E8--><a href=\"psysml:762eee8a-df65-48ef-8994-f8166e9b75f6\" target=\"_top\" title=\"psysml:762eee8a-df65-48ef-8994-f8166e9b75f6\" xlink:actuate=\"onRequest\" xlink:href=\"psysml:762eee8a-df65-48ef-8994-f8166e9b75f6\" xlink:show=\"new\" xlink:title=\"psysml:762eee8a-df65-48ef-8994-f8166e9b75f6\" xlink:type=\"simple\"><path d=\"M365.14,209.66 C331.9,220.26 296.21,232.36 280.75,240 C237.3,261.47 191.71,294.23 163.51,315.88 \" fill=\"none\" id=\"E7&lt;-E8\" style=\"stroke: #383838; stroke-width: 1.0;\"/><polygon fill=\"#FFFFFF\" points=\"377.71,205.68,370.7821,203.6789,366.2704,209.3043,373.1983,211.3053,377.71,205.68\" style=\"stroke: #383838; stroke-width: 1.0;\"/><text fill=\"#000000\" font-family=\"sans-serif\" font-size=\"13\" lengthAdjust=\"spacingAndGlyphs\" textLength=\"8\" x=\"161.8955\" y=\"304.744\">1</text></a><!--MD5=[f1f3f9f2fc535e6147756cb86a7f2e32]\n",
       "link E8 to E2--><a href=\"psysml:b4a53d37-cc69-46b7-9c1e-d748cdbb7a31\" target=\"_top\" title=\"psysml:b4a53d37-cc69-46b7-9c1e-d748cdbb7a31\" xlink:actuate=\"onRequest\" xlink:href=\"psysml:b4a53d37-cc69-46b7-9c1e-d748cdbb7a31\" xlink:show=\"new\" xlink:title=\"psysml:b4a53d37-cc69-46b7-9c1e-d748cdbb7a31\" xlink:type=\"simple\"><path d=\"M156.71,362.01 C169.43,375.36 185.98,392.74 200.64,408.14 \" fill=\"none\" id=\"E8-&gt;E2\" style=\"stroke: #383838; stroke-width: 1.0;\"/><polygon fill=\"#FFFFFF\" points=\"214.47,422.66,196.3009,413.7223,206.4424,404.0708,214.47,422.66\" style=\"stroke: #383838; stroke-width: 1.0;\"/><ellipse cx=\"193.8202\" cy=\"408.2144\" fill=\"#383838\" rx=\"2\" ry=\"2\" style=\"stroke: #383838; stroke-width: 1.0;\"/><ellipse cx=\"201.0641\" cy=\"401.3206\" fill=\"#383838\" rx=\"2\" ry=\"2\" style=\"stroke: #383838; stroke-width: 1.0;\"/></a><!--MD5=[9ae28de373ca99bb8a1b38d63370ca7e]\n",
       "reverse link E5 to E9--><a href=\"psysml:b337f31d-c5a0-436f-953f-431d96e2f8f6\" target=\"_top\" title=\"psysml:b337f31d-c5a0-436f-953f-431d96e2f8f6\" xlink:actuate=\"onRequest\" xlink:href=\"psysml:b337f31d-c5a0-436f-953f-431d96e2f8f6\" xlink:show=\"new\" xlink:title=\"psysml:b337f31d-c5a0-436f-953f-431d96e2f8f6\" xlink:type=\"simple\"><path d=\"M427.82,92.73 C459.8,108.4 493.52,131.5 511.75,164 C521.75,181.83 523.05,192.96 511.75,210 C503.17,222.95 490.65,232.68 476.85,239.99 \" fill=\"none\" id=\"E5&lt;-E9\" style=\"stroke: #383838; stroke-width: 1.0;\"/><polygon fill=\"#FFFFFF\" points=\"415.69,87.08,419.4417,93.2383,426.5692,92.1438,422.8176,85.9855,415.69,87.08\" style=\"stroke: #383838; stroke-width: 1.0;\"/><text fill=\"#000000\" font-family=\"sans-serif\" font-size=\"13\" lengthAdjust=\"spacingAndGlyphs\" textLength=\"8\" x=\"487.2469\" y=\"230.4042\">1</text></a><!--MD5=[5c3bb36fe832a92c7f0e1807dd65209d]\n",
       "link E9 to E2--><a href=\"psysml:a6a00959-a343-466b-bcfe-643c8c056808\" target=\"_top\" title=\"psysml:a6a00959-a343-466b-bcfe-643c8c056808\" xlink:actuate=\"onRequest\" xlink:href=\"psysml:a6a00959-a343-466b-bcfe-643c8c056808\" xlink:show=\"new\" xlink:title=\"psysml:a6a00959-a343-466b-bcfe-643c8c056808\" xlink:type=\"simple\"><path d=\"M297.61,284.36 C281.24,291.84 265.88,302.05 254.75,316 C235.48,340.16 231.36,375.23 231.71,402.71 \" fill=\"none\" id=\"E9-&gt;E2\" style=\"stroke: #383838; stroke-width: 1.0;\"/><polygon fill=\"#FFFFFF\" points=\"232.74,422.77,224.772,404.1552,238.7535,403.4351,232.74,422.77\" style=\"stroke: #383838; stroke-width: 1.0;\"/><ellipse cx=\"226.4762\" cy=\"398.3599\" fill=\"#383838\" rx=\"2\" ry=\"2\" style=\"stroke: #383838; stroke-width: 1.0;\"/><ellipse cx=\"236.463\" cy=\"397.8455\" fill=\"#383838\" rx=\"2\" ry=\"2\" style=\"stroke: #383838; stroke-width: 1.0;\"/></a><!--MD5=[2b20a63dbccf08d8e14af0a5dfe26796]\n",
       "@startuml\r\n",
       " skinparam monochrome true\r\n",
       "skinparam classbackgroundcolor white\r\n",
       "skinparam shadowing false\r\n",
       "skinparam wrapWidth 300\r\n",
       "hide circle\r\n",
       "\r\n",
       "package \"TradeStudyTest\" as E1  [[psysml:57f8a98c-5718-48d8-9b9a-5c4650640602 ]]  {\r\n",
       "comp def \"Engine\" as E2  <<(T,blue) part  def>> [[psysml:6445380e-76a1-4d64-a2e6-1c63aec68392 ]] {\r\n",
       "}\r\n",
       "comp usage \"engine1: Engine \" as E3  <<(T,blue) part>> [[psysml:e07cfc3f-c273-4e94-9cbe-d128d50ec860 ]] {\r\n",
       "}\r\n",
       "comp usage \"engine2: Engine \" as E4  <<(T,blue) part>> [[psysml:d9e10f1c-39bd-473d-af93-7c118d42db3b ]] {\r\n",
       "}\r\n",
       "comp usage \"engineTradeStudy: TradeStudy \" as E5 << analysis>> [[psysml:f9c838ee-65e7-4043-9f07-1b30ef92e49c ]] {\r\n",
       "}\r\n",
       "comp usage \"tradeStudyObjective: MaximizeObjective \" as E6  <<(T,blue) requirement>> [[psysml:38fbb285-8167-4e3f-bee3-2164ba524da7 ]] {\r\n",
       "}\r\n",
       "comp usage \"objectiveFunction\" as E7  <<(T,blue) calculation>> [[psysml:658dce09-b71c-4e6e-94c9-a3c46617ebc8 ]] {\r\n",
       "}\r\n",
       "comp usage \"alternative: Engine \" as E8  <<(T,blue) part>> [[psysml:3dbf099d-922d-4ace-9ccd-679bba93319b ]] {\r\n",
       "}\r\n",
       "comp usage \"selectedAlternative: Engine \" as E9  <<(T,blue) part>> [[psysml:5fb9bd76-5535-468b-bb8f-88cd6f109fe8 ]] {\r\n",
       "}\r\n",
       "}\r\n",
       "E3 - -:|> E2 [[psysml:8b560a74-32d8-45cc-8c0e-f8d7e14b884a ]] \r\n",
       "E4 - -:|> E2 [[psysml:7f518d85-a598-4692-a186-0ec59d25f08f ]] \r\n",
       "E5 ..> E2 [[psysml:8e91b88f-f820-4b3f-bc7b-6a32144645a0 ]] : <<subject>>\r\n",
       "E5 - ->> E6 [[psysml:a6ebdbd2-b0f8-4e64-baff-f91dc99eb3fc ]] : <<objective>>\r\n",
       "E5 *- - E7 [[psysml:1d968e51-2f45-472a-9c8d-b659e8169068 ]] \r\n",
       "E7 o- - \"1\"E8 [[psysml:762eee8a-df65-48ef-8994-f8166e9b75f6 ]] \r\n",
       "E8 - -:|> E2 [[psysml:b4a53d37-cc69-46b7-9c1e-d748cdbb7a31 ]] \r\n",
       "E5 o- - \"1\"E9 [[psysml:b337f31d-c5a0-436f-953f-431d96e2f8f6 ]] \r\n",
       "E9 - -:|> E2 [[psysml:a6a00959-a343-466b-bcfe-643c8c056808 ]] \r\n",
       "@enduml\r\n",
       "\n",
       "PlantUML version 1.2020.13(Sat Jun 13 12:26:38 UTC 2020)\n",
       "(EPL source distribution)\n",
       "Java Runtime: OpenJDK Runtime Environment\n",
       "JVM: OpenJDK 64-Bit Server VM\n",
       "Default Encoding: UTF-8\n",
       "Language: en\n",
       "Country: null\n",
       "--></g></svg>"
      ]
     },
     "execution_count": 8,
     "metadata": {},
     "output_type": "execute_result"
    }
   ],
   "source": [
    "%viz --style=\"COMPTREE\" --view=\"MIXED\" \"TradeStudyTest\""
   ]
  },
  {
   "cell_type": "code",
   "execution_count": 9,
   "id": "02d08cee",
   "metadata": {
    "execution": {
     "iopub.execute_input": "2021-11-13T13:01:38.645969Z",
     "iopub.status.busy": "2021-11-13T13:01:38.645574Z",
     "iopub.status.idle": "2021-11-13T13:01:38.691866Z",
     "shell.execute_reply": "2021-11-13T13:01:38.691476Z"
    }
   },
   "outputs": [
    {
     "data": {
      "image/svg+xml": [
       "<?xml version=\"1.0\" encoding=\"UTF-8\" standalone=\"no\"?><svg xmlns=\"http://www.w3.org/2000/svg\" xmlns:xlink=\"http://www.w3.org/1999/xlink\" contentScriptType=\"application/ecmascript\" contentStyleType=\"text/css\" height=\"497px\" preserveAspectRatio=\"none\" style=\"width:566px;height:497px;\" version=\"1.1\" viewBox=\"0 0 566 497\" width=\"566px\" zoomAndPan=\"magnify\"><defs/><g><!--MD5=[fbc87193dbaf4d95561dea2c320d4a47]\n",
       "cluster E1--><a href=\"psysml:57f8a98c-5718-48d8-9b9a-5c4650640602\" target=\"_top\" title=\"psysml:57f8a98c-5718-48d8-9b9a-5c4650640602\" xlink:actuate=\"onRequest\" xlink:href=\"psysml:57f8a98c-5718-48d8-9b9a-5c4650640602\" xlink:show=\"new\" xlink:title=\"psysml:57f8a98c-5718-48d8-9b9a-5c4650640602\" xlink:type=\"simple\"><polygon fill=\"#FFFFFF\" points=\"16,6,132,6,139,28.2969,544,28.2969,544,485,16,485,16,6\" style=\"stroke: #000000; stroke-width: 1.5;\"/><line style=\"stroke: #000000; stroke-width: 1.5;\" x1=\"16\" x2=\"139\" y1=\"28.2969\" y2=\"28.2969\"/><text fill=\"#000000\" font-family=\"sans-serif\" font-size=\"14\" font-weight=\"bold\" lengthAdjust=\"spacingAndGlyphs\" textLength=\"110\" x=\"20\" y=\"20.9951\">TradeStudyTest</text></a><!--MD5=[b4997ac47864f28c2f74865a473b2911]\n",
       "class E2--><a href=\"psysml:6445380e-76a1-4d64-a2e6-1c63aec68392\" target=\"_top\" title=\"psysml:6445380e-76a1-4d64-a2e6-1c63aec68392\" xlink:actuate=\"onRequest\" xlink:href=\"psysml:6445380e-76a1-4d64-a2e6-1c63aec68392\" xlink:show=\"new\" xlink:title=\"psysml:6445380e-76a1-4d64-a2e6-1c63aec68392\" xlink:type=\"simple\"><rect fill=\"#FFFFFF\" height=\"45.9375\" id=\"E2\" style=\"stroke: #383838; stroke-width: 1.5;\" width=\"70\" x=\"198\" y=\"423\"/><text fill=\"#000000\" font-family=\"sans-serif\" font-size=\"12\" font-style=\"italic\" lengthAdjust=\"spacingAndGlyphs\" textLength=\"68\" x=\"199\" y=\"439.1387\">«part  def»</text><text fill=\"#000000\" font-family=\"sans-serif\" font-size=\"12\" lengthAdjust=\"spacingAndGlyphs\" textLength=\"43\" x=\"211.5\" y=\"453.1074\">Engine</text><line style=\"stroke: #383838; stroke-width: 1.5;\" x1=\"199\" x2=\"267\" y1=\"460.9375\" y2=\"460.9375\"/></a><!--MD5=[09b614a08d8cba4a07c9adeb5e0fee81]\n",
       "class E3--><a href=\"psysml:e07cfc3f-c273-4e94-9cbe-d128d50ec860\" target=\"_top\" title=\"psysml:e07cfc3f-c273-4e94-9cbe-d128d50ec860\" xlink:actuate=\"onRequest\" xlink:href=\"psysml:e07cfc3f-c273-4e94-9cbe-d128d50ec860\" xlink:show=\"new\" xlink:title=\"psysml:e07cfc3f-c273-4e94-9cbe-d128d50ec860\" xlink:type=\"simple\"><rect fill=\"#FFFFFF\" height=\"45.9375\" id=\"E3\" rx=\"10\" ry=\"10\" style=\"stroke: #383838; stroke-width: 1.5;\" width=\"112\" x=\"416\" y=\"316\"/><text fill=\"#000000\" font-family=\"sans-serif\" font-size=\"12\" font-style=\"italic\" lengthAdjust=\"spacingAndGlyphs\" textLength=\"40\" x=\"452\" y=\"332.1387\">«part»</text><text fill=\"#000000\" font-family=\"sans-serif\" font-size=\"12\" lengthAdjust=\"spacingAndGlyphs\" textLength=\"102\" x=\"419\" y=\"346.1074\">engine1: Engine</text><line style=\"stroke: #383838; stroke-width: 1.5;\" x1=\"417\" x2=\"527\" y1=\"353.9375\" y2=\"353.9375\"/></a><!--MD5=[ebbe1d658d1005bcc118a6aa81145e00]\n",
       "class E4--><a href=\"psysml:d9e10f1c-39bd-473d-af93-7c118d42db3b\" target=\"_top\" title=\"psysml:d9e10f1c-39bd-473d-af93-7c118d42db3b\" xlink:actuate=\"onRequest\" xlink:href=\"psysml:d9e10f1c-39bd-473d-af93-7c118d42db3b\" xlink:show=\"new\" xlink:title=\"psysml:d9e10f1c-39bd-473d-af93-7c118d42db3b\" xlink:type=\"simple\"><rect fill=\"#FFFFFF\" height=\"45.9375\" id=\"E4\" rx=\"10\" ry=\"10\" style=\"stroke: #383838; stroke-width: 1.5;\" width=\"112\" x=\"269\" y=\"316\"/><text fill=\"#000000\" font-family=\"sans-serif\" font-size=\"12\" font-style=\"italic\" lengthAdjust=\"spacingAndGlyphs\" textLength=\"40\" x=\"305\" y=\"332.1387\">«part»</text><text fill=\"#000000\" font-family=\"sans-serif\" font-size=\"12\" lengthAdjust=\"spacingAndGlyphs\" textLength=\"102\" x=\"272\" y=\"346.1074\">engine2: Engine</text><line style=\"stroke: #383838; stroke-width: 1.5;\" x1=\"270\" x2=\"380\" y1=\"353.9375\" y2=\"353.9375\"/></a><!--MD5=[270fce915f116d4de14055a7c1d9a0f3]\n",
       "class E5--><a href=\"psysml:f9c838ee-65e7-4043-9f07-1b30ef92e49c\" target=\"_top\" title=\"psysml:f9c838ee-65e7-4043-9f07-1b30ef92e49c\" xlink:actuate=\"onRequest\" xlink:href=\"psysml:f9c838ee-65e7-4043-9f07-1b30ef92e49c\" xlink:show=\"new\" xlink:title=\"psysml:f9c838ee-65e7-4043-9f07-1b30ef92e49c\" xlink:type=\"simple\"><rect fill=\"#FFFFFF\" height=\"45.9375\" id=\"E5\" rx=\"10\" ry=\"10\" style=\"stroke: #383838; stroke-width: 1.5;\" width=\"203\" x=\"245.5\" y=\"41\"/><text fill=\"#000000\" font-family=\"sans-serif\" font-size=\"12\" font-style=\"italic\" lengthAdjust=\"spacingAndGlyphs\" textLength=\"64\" x=\"315\" y=\"57.1387\">«analysis»</text><text fill=\"#000000\" font-family=\"sans-serif\" font-size=\"12\" lengthAdjust=\"spacingAndGlyphs\" textLength=\"193\" x=\"248.5\" y=\"71.1074\">engineTradeStudy: TradeStudy</text><line style=\"stroke: #383838; stroke-width: 1.5;\" x1=\"246.5\" x2=\"447.5\" y1=\"78.9375\" y2=\"78.9375\"/></a><!--MD5=[60a26617385b1d2d0262a64233df1f8d]\n",
       "class E6--><a href=\"psysml:38fbb285-8167-4e3f-bee3-2164ba524da7\" target=\"_top\" title=\"psysml:38fbb285-8167-4e3f-bee3-2164ba524da7\" xlink:actuate=\"onRequest\" xlink:href=\"psysml:38fbb285-8167-4e3f-bee3-2164ba524da7\" xlink:show=\"new\" xlink:title=\"psysml:38fbb285-8167-4e3f-bee3-2164ba524da7\" xlink:type=\"simple\"><rect fill=\"#FFFFFF\" height=\"45.9375\" id=\"E6\" rx=\"10\" ry=\"10\" style=\"stroke: #383838; stroke-width: 1.5;\" width=\"255\" x=\"84.5\" y=\"164\"/><text fill=\"#000000\" font-family=\"sans-serif\" font-size=\"12\" font-style=\"italic\" lengthAdjust=\"spacingAndGlyphs\" textLength=\"91\" x=\"166.5\" y=\"180.1387\">«requirement»</text><text fill=\"#000000\" font-family=\"sans-serif\" font-size=\"12\" lengthAdjust=\"spacingAndGlyphs\" textLength=\"245\" x=\"87.5\" y=\"194.1074\">tradeStudyObjective: MaximizeObjective</text><line style=\"stroke: #383838; stroke-width: 1.5;\" x1=\"85.5\" x2=\"338.5\" y1=\"201.9375\" y2=\"201.9375\"/></a><!--MD5=[2156ba9850f5573cc1fc38a6a4b2f02b]\n",
       "class E7--><a href=\"psysml:658dce09-b71c-4e6e-94c9-a3c46617ebc8\" target=\"_top\" title=\"psysml:658dce09-b71c-4e6e-94c9-a3c46617ebc8\" xlink:actuate=\"onRequest\" xlink:href=\"psysml:658dce09-b71c-4e6e-94c9-a3c46617ebc8\" xlink:show=\"new\" xlink:title=\"psysml:658dce09-b71c-4e6e-94c9-a3c46617ebc8\" xlink:type=\"simple\"><rect fill=\"#FFFFFF\" height=\"45.9375\" id=\"E7\" rx=\"10\" ry=\"10\" style=\"stroke: #383838; stroke-width: 1.5;\" width=\"116\" x=\"375\" y=\"164\"/><text fill=\"#000000\" font-family=\"sans-serif\" font-size=\"12\" font-style=\"italic\" lengthAdjust=\"spacingAndGlyphs\" textLength=\"82\" x=\"392\" y=\"180.1387\">«calculation»</text><text fill=\"#000000\" font-family=\"sans-serif\" font-size=\"12\" lengthAdjust=\"spacingAndGlyphs\" textLength=\"110\" x=\"378\" y=\"194.1074\">objectiveFunction</text><line style=\"stroke: #383838; stroke-width: 1.5;\" x1=\"376\" x2=\"490\" y1=\"201.9375\" y2=\"201.9375\"/></a><!--MD5=[b9389687b975829384b498ac4b7476b2]\n",
       "class E8--><a href=\"psysml:3dbf099d-922d-4ace-9ccd-679bba93319b\" target=\"_top\" title=\"psysml:3dbf099d-922d-4ace-9ccd-679bba93319b\" xlink:actuate=\"onRequest\" xlink:href=\"psysml:3dbf099d-922d-4ace-9ccd-679bba93319b\" xlink:show=\"new\" xlink:title=\"psysml:3dbf099d-922d-4ace-9ccd-679bba93319b\" xlink:type=\"simple\"><rect fill=\"#FFFFFF\" height=\"45.9375\" id=\"E8\" rx=\"10\" ry=\"10\" style=\"stroke: #383838; stroke-width: 1.5;\" width=\"128\" x=\"69\" y=\"316\"/><text fill=\"#000000\" font-family=\"sans-serif\" font-size=\"12\" font-style=\"italic\" lengthAdjust=\"spacingAndGlyphs\" textLength=\"40\" x=\"113\" y=\"332.1387\">«part»</text><text fill=\"#000000\" font-family=\"sans-serif\" font-size=\"12\" lengthAdjust=\"spacingAndGlyphs\" textLength=\"118\" x=\"72\" y=\"346.1074\">alternative: Engine</text><line style=\"stroke: #383838; stroke-width: 1.5;\" x1=\"70\" x2=\"196\" y1=\"353.9375\" y2=\"353.9375\"/></a><!--MD5=[fd4143e9d270a159db93a4ea2a975926]\n",
       "class E9--><a href=\"psysml:5fb9bd76-5535-468b-bb8f-88cd6f109fe8\" target=\"_top\" title=\"psysml:5fb9bd76-5535-468b-bb8f-88cd6f109fe8\" xlink:actuate=\"onRequest\" xlink:href=\"psysml:5fb9bd76-5535-468b-bb8f-88cd6f109fe8\" xlink:show=\"new\" xlink:title=\"psysml:5fb9bd76-5535-468b-bb8f-88cd6f109fe8\" xlink:type=\"simple\"><rect fill=\"#FFFFFF\" height=\"45.9375\" id=\"E9\" rx=\"10\" ry=\"10\" style=\"stroke: #383838; stroke-width: 1.5;\" width=\"182\" x=\"295\" y=\"240\"/><text fill=\"#000000\" font-family=\"sans-serif\" font-size=\"12\" font-style=\"italic\" lengthAdjust=\"spacingAndGlyphs\" textLength=\"40\" x=\"366\" y=\"256.1387\">«part»</text><text fill=\"#000000\" font-family=\"sans-serif\" font-size=\"12\" lengthAdjust=\"spacingAndGlyphs\" textLength=\"172\" x=\"298\" y=\"270.1074\">selectedAlternative: Engine</text><line style=\"stroke: #383838; stroke-width: 1.5;\" x1=\"296\" x2=\"476\" y1=\"277.9375\" y2=\"277.9375\"/></a><!--MD5=[05d275557350bfb9b23a4ef7222b4c39]\n",
       "link E3 to E2--><a href=\"psysml:8b560a74-32d8-45cc-8c0e-f8d7e14b884a\" target=\"_top\" title=\"psysml:8b560a74-32d8-45cc-8c0e-f8d7e14b884a\" xlink:actuate=\"onRequest\" xlink:href=\"psysml:8b560a74-32d8-45cc-8c0e-f8d7e14b884a\" xlink:show=\"new\" xlink:title=\"psysml:8b560a74-32d8-45cc-8c0e-f8d7e14b884a\" xlink:type=\"simple\"><path d=\"M421.9,362.01 C382.37,379.38 327.35,403.55 286.88,421.33 \" fill=\"none\" id=\"E3-&gt;E2\" style=\"stroke: #383838; stroke-width: 1.0;\"/><polygon fill=\"#FFFFFF\" points=\"268.31,429.49,282.8917,415.4411,288.521,428.2594,268.31,429.49\" style=\"stroke: #383838; stroke-width: 1.0;\"/><ellipse cx=\"288.9148\" cy=\"414.9803\" fill=\"#383838\" rx=\"2\" ry=\"2\" style=\"stroke: #383838; stroke-width: 1.0;\"/><ellipse cx=\"292.9358\" cy=\"424.1363\" fill=\"#383838\" rx=\"2\" ry=\"2\" style=\"stroke: #383838; stroke-width: 1.0;\"/></a><!--MD5=[185131fc0dcab0a4505a2ebe144e961b]\n",
       "link E4 to E2--><a href=\"psysml:7f518d85-a598-4692-a186-0ec59d25f08f\" target=\"_top\" title=\"psysml:7f518d85-a598-4692-a186-0ec59d25f08f\" xlink:actuate=\"onRequest\" xlink:href=\"psysml:7f518d85-a598-4692-a186-0ec59d25f08f\" xlink:show=\"new\" xlink:title=\"psysml:7f518d85-a598-4692-a186-0ec59d25f08f\" xlink:type=\"simple\"><path d=\"M305.71,362.01 C294.26,375.08 279.43,392.01 266.14,407.17 \" fill=\"none\" id=\"E4-&gt;E2\" style=\"stroke: #383838; stroke-width: 1.0;\"/><polygon fill=\"#FFFFFF\" points=\"252.58,422.66,259.8401,403.7578,270.3681,412.9861,252.58,422.66\" style=\"stroke: #383838; stroke-width: 1.0;\"/><ellipse cx=\"265.1013\" cy=\"400.7898\" fill=\"#383838\" rx=\"2\" ry=\"2\" style=\"stroke: #383838; stroke-width: 1.0;\"/><ellipse cx=\"272.6213\" cy=\"407.3814\" fill=\"#383838\" rx=\"2\" ry=\"2\" style=\"stroke: #383838; stroke-width: 1.0;\"/></a><!--MD5=[15ebcb19ae302d9b601edb458606d402]\n",
       "link E5 to E2--><a href=\"psysml:8e91b88f-f820-4b3f-bc7b-6a32144645a0\" target=\"_top\" title=\"psysml:8e91b88f-f820-4b3f-bc7b-6a32144645a0\" xlink:actuate=\"onRequest\" xlink:href=\"psysml:8e91b88f-f820-4b3f-bc7b-6a32144645a0\" xlink:show=\"new\" xlink:title=\"psysml:8e91b88f-f820-4b3f-bc7b-6a32144645a0\" xlink:type=\"simple\"><path d=\"M284.51,87.09 C201.99,116.27 67,164 67,164 C67,164 51,316 51,316 C51,316 51,362 51,362 C51,362 139.59,402.4 193.16,426.83 \" fill=\"none\" id=\"E5-&gt;E2\" style=\"stroke: #383838; stroke-width: 1.0; stroke-dasharray: 7.0,7.0;\"/><polygon fill=\"#383838\" points=\"197.91,429,191.3998,421.6096,193.366,426.9138,188.0619,428.88,197.91,429\" style=\"stroke: #383838; stroke-width: 1.0;\"/><text fill=\"#000000\" font-family=\"sans-serif\" font-size=\"13\" lengthAdjust=\"spacingAndGlyphs\" textLength=\"62\" x=\"60\" y=\"267.5669\">«subject»</text></a><!--MD5=[9120cf2e5df3bff93db8f754bbbc09b4]\n",
       "link E5 to E6--><a href=\"psysml:a6ebdbd2-b0f8-4e64-baff-f91dc99eb3fc\" target=\"_top\" title=\"psysml:a6ebdbd2-b0f8-4e64-baff-f91dc99eb3fc\" xlink:actuate=\"onRequest\" xlink:href=\"psysml:a6ebdbd2-b0f8-4e64-baff-f91dc99eb3fc\" xlink:show=\"new\" xlink:title=\"psysml:a6ebdbd2-b0f8-4e64-baff-f91dc99eb3fc\" xlink:type=\"simple\"><path d=\"M322.24,87.19 C299.88,107.23 266.89,136.8 242.83,158.37 \" fill=\"none\" id=\"E5-&gt;E6\" style=\"stroke: #383838; stroke-width: 1.0;\"/><polygon fill=\"#383838\" points=\"236.6,163.95,244.5586,160.8419,240.5525,156.3752,236.6,163.95\" style=\"stroke: #383838; stroke-width: 1.0;\"/><text fill=\"#000000\" font-family=\"sans-serif\" font-size=\"13\" lengthAdjust=\"spacingAndGlyphs\" textLength=\"73\" x=\"288\" y=\"130.0669\">«objective»</text></a><!--MD5=[452b418e7f8a40397a49b8c0a78acc5b]\n",
       "reverse link E5 to E7--><a href=\"psysml:1d968e51-2f45-472a-9c8d-b659e8169068\" target=\"_top\" title=\"psysml:1d968e51-2f45-472a-9c8d-b659e8169068\" xlink:actuate=\"onRequest\" xlink:href=\"psysml:1d968e51-2f45-472a-9c8d-b659e8169068\" xlink:show=\"new\" xlink:title=\"psysml:1d968e51-2f45-472a-9c8d-b659e8169068\" xlink:type=\"simple\"><path d=\"M370.37,97.88 C385.28,118.86 404.2,145.48 417.33,163.95 \" fill=\"none\" id=\"E5&lt;-E7\" style=\"stroke: #383838; stroke-width: 1.0;\"/><polygon fill=\"#383838\" points=\"362.77,87.19,362.9942,94.3976,369.7336,96.9628,369.5094,89.7552,362.77,87.19\" style=\"stroke: #383838; stroke-width: 1.0;\"/></a><!--MD5=[dc164f5e8a733ab456ef1add180e9e34]\n",
       "reverse link E7 to E8--><a href=\"psysml:762eee8a-df65-48ef-8994-f8166e9b75f6\" target=\"_top\" title=\"psysml:762eee8a-df65-48ef-8994-f8166e9b75f6\" xlink:actuate=\"onRequest\" xlink:href=\"psysml:762eee8a-df65-48ef-8994-f8166e9b75f6\" xlink:show=\"new\" xlink:title=\"psysml:762eee8a-df65-48ef-8994-f8166e9b75f6\" xlink:type=\"simple\"><path d=\"M362.29,211.72 C321.41,225.44 278,240 278,240 C278,240 208.68,286.85 165.9,315.76 \" fill=\"none\" id=\"E7&lt;-E8\" style=\"stroke: #383838; stroke-width: 1.0;\"/><polygon fill=\"#FFFFFF\" points=\"374.84,207.51,367.8784,205.6296,363.4651,211.3324,370.4267,213.2128,374.84,207.51\" style=\"stroke: #383838; stroke-width: 1.0;\"/><text fill=\"#000000\" font-family=\"sans-serif\" font-size=\"13\" lengthAdjust=\"spacingAndGlyphs\" textLength=\"8\" x=\"165.3056\" y=\"304.9748\">1</text></a><!--MD5=[f1f3f9f2fc535e6147756cb86a7f2e32]\n",
       "link E8 to E2--><a href=\"psysml:b4a53d37-cc69-46b7-9c1e-d748cdbb7a31\" target=\"_top\" title=\"psysml:b4a53d37-cc69-46b7-9c1e-d748cdbb7a31\" xlink:actuate=\"onRequest\" xlink:href=\"psysml:b4a53d37-cc69-46b7-9c1e-d748cdbb7a31\" xlink:show=\"new\" xlink:title=\"psysml:b4a53d37-cc69-46b7-9c1e-d748cdbb7a31\" xlink:type=\"simple\"><path d=\"M153.96,362.01 C166.68,375.36 183.23,392.74 197.89,408.14 \" fill=\"none\" id=\"E8-&gt;E2\" style=\"stroke: #383838; stroke-width: 1.0;\"/><polygon fill=\"#FFFFFF\" points=\"211.72,422.66,193.5509,413.7223,203.6924,404.0708,211.72,422.66\" style=\"stroke: #383838; stroke-width: 1.0;\"/><ellipse cx=\"191.0702\" cy=\"408.2144\" fill=\"#383838\" rx=\"2\" ry=\"2\" style=\"stroke: #383838; stroke-width: 1.0;\"/><ellipse cx=\"198.3141\" cy=\"401.3206\" fill=\"#383838\" rx=\"2\" ry=\"2\" style=\"stroke: #383838; stroke-width: 1.0;\"/></a><!--MD5=[9ae28de373ca99bb8a1b38d63370ca7e]\n",
       "reverse link E5 to E9--><a href=\"psysml:b337f31d-c5a0-436f-953f-431d96e2f8f6\" target=\"_top\" title=\"psysml:b337f31d-c5a0-436f-953f-431d96e2f8f6\" xlink:actuate=\"onRequest\" xlink:href=\"psysml:b337f31d-c5a0-436f-953f-431d96e2f8f6\" xlink:show=\"new\" xlink:title=\"psysml:b337f31d-c5a0-436f-953f-431d96e2f8f6\" xlink:type=\"simple\"><path d=\"M394.75,94.18 C442.53,123.38 509,164 509,164 C509,164 509,210 509,210 C509,210 471.69,225.77 438.16,239.95 \" fill=\"none\" id=\"E5&lt;-E9\" style=\"stroke: #383838; stroke-width: 1.0;\"/><polygon fill=\"#FFFFFF\" points=\"383.36,87.22,386.399,93.7595,393.6043,93.4694,390.5653,86.9299,383.36,87.22\" style=\"stroke: #383838; stroke-width: 1.0;\"/><text fill=\"#000000\" font-family=\"sans-serif\" font-size=\"13\" lengthAdjust=\"spacingAndGlyphs\" textLength=\"8\" x=\"443.103\" y=\"228.8328\">1</text></a><!--MD5=[5c3bb36fe832a92c7f0e1807dd65209d]\n",
       "link E9 to E2--><a href=\"psysml:a6a00959-a343-466b-bcfe-643c8c056808\" target=\"_top\" title=\"psysml:a6a00959-a343-466b-bcfe-643c8c056808\" xlink:actuate=\"onRequest\" xlink:href=\"psysml:a6a00959-a343-466b-bcfe-643c8c056808\" xlink:show=\"new\" xlink:title=\"psysml:a6a00959-a343-466b-bcfe-643c8c056808\" xlink:type=\"simple\"><path d=\"M329.17,286.05 C292.65,300.23 252,316 252,316 C252,316 244.73,365.33 239.19,402.98 \" fill=\"none\" id=\"E9-&gt;E2\" style=\"stroke: #383838; stroke-width: 1.0;\"/><polygon fill=\"#FFFFFF\" points=\"236.27,422.82,232.1134,403.0028,245.964,405.0429,236.27,422.82\" style=\"stroke: #383838; stroke-width: 1.0;\"/><ellipse cx=\"234.9227\" cy=\"397.6551\" fill=\"#383838\" rx=\"2\" ry=\"2\" style=\"stroke: #383838; stroke-width: 1.0;\"/><ellipse cx=\"244.8159\" cy=\"399.1123\" fill=\"#383838\" rx=\"2\" ry=\"2\" style=\"stroke: #383838; stroke-width: 1.0;\"/></a><!--MD5=[9d5a57988052e77308f0cc78ba3998bb]\n",
       "@startuml\r\n",
       "skinparam linetype polyline\r\n",
       "skinparam monochrome true\r\n",
       "skinparam classbackgroundcolor white\r\n",
       "skinparam shadowing false\r\n",
       "skinparam wrapWidth 300\r\n",
       "hide circle\r\n",
       "\r\n",
       "package \"TradeStudyTest\" as E1  [[psysml:57f8a98c-5718-48d8-9b9a-5c4650640602 ]]  {\r\n",
       "comp def \"Engine\" as E2  <<(T,blue) part  def>> [[psysml:6445380e-76a1-4d64-a2e6-1c63aec68392 ]] {\r\n",
       "}\r\n",
       "comp usage \"engine1: Engine \" as E3  <<(T,blue) part>> [[psysml:e07cfc3f-c273-4e94-9cbe-d128d50ec860 ]] {\r\n",
       "}\r\n",
       "comp usage \"engine2: Engine \" as E4  <<(T,blue) part>> [[psysml:d9e10f1c-39bd-473d-af93-7c118d42db3b ]] {\r\n",
       "}\r\n",
       "comp usage \"engineTradeStudy: TradeStudy \" as E5 << analysis>> [[psysml:f9c838ee-65e7-4043-9f07-1b30ef92e49c ]] {\r\n",
       "}\r\n",
       "comp usage \"tradeStudyObjective: MaximizeObjective \" as E6  <<(T,blue) requirement>> [[psysml:38fbb285-8167-4e3f-bee3-2164ba524da7 ]] {\r\n",
       "}\r\n",
       "comp usage \"objectiveFunction\" as E7  <<(T,blue) calculation>> [[psysml:658dce09-b71c-4e6e-94c9-a3c46617ebc8 ]] {\r\n",
       "}\r\n",
       "comp usage \"alternative: Engine \" as E8  <<(T,blue) part>> [[psysml:3dbf099d-922d-4ace-9ccd-679bba93319b ]] {\r\n",
       "}\r\n",
       "comp usage \"selectedAlternative: Engine \" as E9  <<(T,blue) part>> [[psysml:5fb9bd76-5535-468b-bb8f-88cd6f109fe8 ]] {\r\n",
       "}\r\n",
       "}\r\n",
       "E3 - -:|> E2 [[psysml:8b560a74-32d8-45cc-8c0e-f8d7e14b884a ]] \r\n",
       "E4 - -:|> E2 [[psysml:7f518d85-a598-4692-a186-0ec59d25f08f ]] \r\n",
       "E5 ..> E2 [[psysml:8e91b88f-f820-4b3f-bc7b-6a32144645a0 ]] : <<subject>>\r\n",
       "E5 - ->> E6 [[psysml:a6ebdbd2-b0f8-4e64-baff-f91dc99eb3fc ]] : <<objective>>\r\n",
       "E5 *- - E7 [[psysml:1d968e51-2f45-472a-9c8d-b659e8169068 ]] \r\n",
       "E7 o- - \"1\"E8 [[psysml:762eee8a-df65-48ef-8994-f8166e9b75f6 ]] \r\n",
       "E8 - -:|> E2 [[psysml:b4a53d37-cc69-46b7-9c1e-d748cdbb7a31 ]] \r\n",
       "E5 o- - \"1\"E9 [[psysml:b337f31d-c5a0-436f-953f-431d96e2f8f6 ]] \r\n",
       "E9 - -:|> E2 [[psysml:a6a00959-a343-466b-bcfe-643c8c056808 ]] \r\n",
       "@enduml\r\n",
       "\n",
       "PlantUML version 1.2020.13(Sat Jun 13 12:26:38 UTC 2020)\n",
       "(EPL source distribution)\n",
       "Java Runtime: OpenJDK Runtime Environment\n",
       "JVM: OpenJDK 64-Bit Server VM\n",
       "Default Encoding: UTF-8\n",
       "Language: en\n",
       "Country: null\n",
       "--></g></svg>"
      ]
     },
     "execution_count": 9,
     "metadata": {},
     "output_type": "execute_result"
    }
   ],
   "source": [
    "%viz --style=\"POLYLINE\" --view=\"Default\" \"TradeStudyTest\""
   ]
  },
  {
   "cell_type": "code",
   "execution_count": 10,
   "id": "4dd881df",
   "metadata": {
    "execution": {
     "iopub.execute_input": "2021-11-13T13:01:38.741202Z",
     "iopub.status.busy": "2021-11-13T13:01:38.740729Z",
     "iopub.status.idle": "2021-11-13T13:01:38.797095Z",
     "shell.execute_reply": "2021-11-13T13:01:38.797275Z"
    }
   },
   "outputs": [
    {
     "data": {
      "image/svg+xml": [
       "<?xml version=\"1.0\" encoding=\"UTF-8\" standalone=\"no\"?><svg xmlns=\"http://www.w3.org/2000/svg\" xmlns:xlink=\"http://www.w3.org/1999/xlink\" contentScriptType=\"application/ecmascript\" contentStyleType=\"text/css\" height=\"497px\" preserveAspectRatio=\"none\" style=\"width:566px;height:497px;\" version=\"1.1\" viewBox=\"0 0 566 497\" width=\"566px\" zoomAndPan=\"magnify\"><defs/><g><!--MD5=[fbc87193dbaf4d95561dea2c320d4a47]\n",
       "cluster E1--><a href=\"psysml:57f8a98c-5718-48d8-9b9a-5c4650640602\" target=\"_top\" title=\"psysml:57f8a98c-5718-48d8-9b9a-5c4650640602\" xlink:actuate=\"onRequest\" xlink:href=\"psysml:57f8a98c-5718-48d8-9b9a-5c4650640602\" xlink:show=\"new\" xlink:title=\"psysml:57f8a98c-5718-48d8-9b9a-5c4650640602\" xlink:type=\"simple\"><polygon fill=\"#FFFFFF\" points=\"16,6,132,6,139,28.2969,544,28.2969,544,485,16,485,16,6\" style=\"stroke: #000000; stroke-width: 1.5;\"/><line style=\"stroke: #000000; stroke-width: 1.5;\" x1=\"16\" x2=\"139\" y1=\"28.2969\" y2=\"28.2969\"/><text fill=\"#000000\" font-family=\"sans-serif\" font-size=\"14\" font-weight=\"bold\" lengthAdjust=\"spacingAndGlyphs\" textLength=\"110\" x=\"20\" y=\"20.9951\">TradeStudyTest</text></a><!--MD5=[b4997ac47864f28c2f74865a473b2911]\n",
       "class E2--><a href=\"psysml:6445380e-76a1-4d64-a2e6-1c63aec68392\" target=\"_top\" title=\"psysml:6445380e-76a1-4d64-a2e6-1c63aec68392\" xlink:actuate=\"onRequest\" xlink:href=\"psysml:6445380e-76a1-4d64-a2e6-1c63aec68392\" xlink:show=\"new\" xlink:title=\"psysml:6445380e-76a1-4d64-a2e6-1c63aec68392\" xlink:type=\"simple\"><rect fill=\"#FFFFFF\" height=\"45.9375\" id=\"E2\" style=\"stroke: #383838; stroke-width: 1.5;\" width=\"70\" x=\"198\" y=\"423\"/><text fill=\"#000000\" font-family=\"sans-serif\" font-size=\"12\" font-style=\"italic\" lengthAdjust=\"spacingAndGlyphs\" textLength=\"68\" x=\"199\" y=\"439.1387\">«part  def»</text><text fill=\"#000000\" font-family=\"sans-serif\" font-size=\"12\" lengthAdjust=\"spacingAndGlyphs\" textLength=\"43\" x=\"211.5\" y=\"453.1074\">Engine</text><line style=\"stroke: #383838; stroke-width: 1.5;\" x1=\"199\" x2=\"267\" y1=\"460.9375\" y2=\"460.9375\"/></a><!--MD5=[09b614a08d8cba4a07c9adeb5e0fee81]\n",
       "class E3--><a href=\"psysml:e07cfc3f-c273-4e94-9cbe-d128d50ec860\" target=\"_top\" title=\"psysml:e07cfc3f-c273-4e94-9cbe-d128d50ec860\" xlink:actuate=\"onRequest\" xlink:href=\"psysml:e07cfc3f-c273-4e94-9cbe-d128d50ec860\" xlink:show=\"new\" xlink:title=\"psysml:e07cfc3f-c273-4e94-9cbe-d128d50ec860\" xlink:type=\"simple\"><rect fill=\"#FFFFFF\" height=\"45.9375\" id=\"E3\" rx=\"10\" ry=\"10\" style=\"stroke: #383838; stroke-width: 1.5;\" width=\"112\" x=\"416\" y=\"316\"/><text fill=\"#000000\" font-family=\"sans-serif\" font-size=\"12\" font-style=\"italic\" lengthAdjust=\"spacingAndGlyphs\" textLength=\"40\" x=\"452\" y=\"332.1387\">«part»</text><text fill=\"#000000\" font-family=\"sans-serif\" font-size=\"12\" lengthAdjust=\"spacingAndGlyphs\" textLength=\"102\" x=\"419\" y=\"346.1074\">engine1: Engine</text><line style=\"stroke: #383838; stroke-width: 1.5;\" x1=\"417\" x2=\"527\" y1=\"353.9375\" y2=\"353.9375\"/></a><!--MD5=[ebbe1d658d1005bcc118a6aa81145e00]\n",
       "class E4--><a href=\"psysml:d9e10f1c-39bd-473d-af93-7c118d42db3b\" target=\"_top\" title=\"psysml:d9e10f1c-39bd-473d-af93-7c118d42db3b\" xlink:actuate=\"onRequest\" xlink:href=\"psysml:d9e10f1c-39bd-473d-af93-7c118d42db3b\" xlink:show=\"new\" xlink:title=\"psysml:d9e10f1c-39bd-473d-af93-7c118d42db3b\" xlink:type=\"simple\"><rect fill=\"#FFFFFF\" height=\"45.9375\" id=\"E4\" rx=\"10\" ry=\"10\" style=\"stroke: #383838; stroke-width: 1.5;\" width=\"112\" x=\"269\" y=\"316\"/><text fill=\"#000000\" font-family=\"sans-serif\" font-size=\"12\" font-style=\"italic\" lengthAdjust=\"spacingAndGlyphs\" textLength=\"40\" x=\"305\" y=\"332.1387\">«part»</text><text fill=\"#000000\" font-family=\"sans-serif\" font-size=\"12\" lengthAdjust=\"spacingAndGlyphs\" textLength=\"102\" x=\"272\" y=\"346.1074\">engine2: Engine</text><line style=\"stroke: #383838; stroke-width: 1.5;\" x1=\"270\" x2=\"380\" y1=\"353.9375\" y2=\"353.9375\"/></a><!--MD5=[270fce915f116d4de14055a7c1d9a0f3]\n",
       "class E5--><a href=\"psysml:f9c838ee-65e7-4043-9f07-1b30ef92e49c\" target=\"_top\" title=\"psysml:f9c838ee-65e7-4043-9f07-1b30ef92e49c\" xlink:actuate=\"onRequest\" xlink:href=\"psysml:f9c838ee-65e7-4043-9f07-1b30ef92e49c\" xlink:show=\"new\" xlink:title=\"psysml:f9c838ee-65e7-4043-9f07-1b30ef92e49c\" xlink:type=\"simple\"><rect fill=\"#FFFFFF\" height=\"45.9375\" id=\"E5\" rx=\"10\" ry=\"10\" style=\"stroke: #383838; stroke-width: 1.5;\" width=\"203\" x=\"245.5\" y=\"41\"/><text fill=\"#000000\" font-family=\"sans-serif\" font-size=\"12\" font-style=\"italic\" lengthAdjust=\"spacingAndGlyphs\" textLength=\"64\" x=\"315\" y=\"57.1387\">«analysis»</text><text fill=\"#000000\" font-family=\"sans-serif\" font-size=\"12\" lengthAdjust=\"spacingAndGlyphs\" textLength=\"193\" x=\"248.5\" y=\"71.1074\">engineTradeStudy: TradeStudy</text><line style=\"stroke: #383838; stroke-width: 1.5;\" x1=\"246.5\" x2=\"447.5\" y1=\"78.9375\" y2=\"78.9375\"/></a><!--MD5=[60a26617385b1d2d0262a64233df1f8d]\n",
       "class E6--><a href=\"psysml:38fbb285-8167-4e3f-bee3-2164ba524da7\" target=\"_top\" title=\"psysml:38fbb285-8167-4e3f-bee3-2164ba524da7\" xlink:actuate=\"onRequest\" xlink:href=\"psysml:38fbb285-8167-4e3f-bee3-2164ba524da7\" xlink:show=\"new\" xlink:title=\"psysml:38fbb285-8167-4e3f-bee3-2164ba524da7\" xlink:type=\"simple\"><rect fill=\"#FFFFFF\" height=\"45.9375\" id=\"E6\" rx=\"10\" ry=\"10\" style=\"stroke: #383838; stroke-width: 1.5;\" width=\"255\" x=\"84.5\" y=\"164\"/><text fill=\"#000000\" font-family=\"sans-serif\" font-size=\"12\" font-style=\"italic\" lengthAdjust=\"spacingAndGlyphs\" textLength=\"91\" x=\"166.5\" y=\"180.1387\">«requirement»</text><text fill=\"#000000\" font-family=\"sans-serif\" font-size=\"12\" lengthAdjust=\"spacingAndGlyphs\" textLength=\"245\" x=\"87.5\" y=\"194.1074\">tradeStudyObjective: MaximizeObjective</text><line style=\"stroke: #383838; stroke-width: 1.5;\" x1=\"85.5\" x2=\"338.5\" y1=\"201.9375\" y2=\"201.9375\"/></a><!--MD5=[2156ba9850f5573cc1fc38a6a4b2f02b]\n",
       "class E7--><a href=\"psysml:658dce09-b71c-4e6e-94c9-a3c46617ebc8\" target=\"_top\" title=\"psysml:658dce09-b71c-4e6e-94c9-a3c46617ebc8\" xlink:actuate=\"onRequest\" xlink:href=\"psysml:658dce09-b71c-4e6e-94c9-a3c46617ebc8\" xlink:show=\"new\" xlink:title=\"psysml:658dce09-b71c-4e6e-94c9-a3c46617ebc8\" xlink:type=\"simple\"><rect fill=\"#FFFFFF\" height=\"45.9375\" id=\"E7\" rx=\"10\" ry=\"10\" style=\"stroke: #383838; stroke-width: 1.5;\" width=\"116\" x=\"375\" y=\"164\"/><text fill=\"#000000\" font-family=\"sans-serif\" font-size=\"12\" font-style=\"italic\" lengthAdjust=\"spacingAndGlyphs\" textLength=\"82\" x=\"392\" y=\"180.1387\">«calculation»</text><text fill=\"#000000\" font-family=\"sans-serif\" font-size=\"12\" lengthAdjust=\"spacingAndGlyphs\" textLength=\"110\" x=\"378\" y=\"194.1074\">objectiveFunction</text><line style=\"stroke: #383838; stroke-width: 1.5;\" x1=\"376\" x2=\"490\" y1=\"201.9375\" y2=\"201.9375\"/></a><!--MD5=[b9389687b975829384b498ac4b7476b2]\n",
       "class E8--><a href=\"psysml:3dbf099d-922d-4ace-9ccd-679bba93319b\" target=\"_top\" title=\"psysml:3dbf099d-922d-4ace-9ccd-679bba93319b\" xlink:actuate=\"onRequest\" xlink:href=\"psysml:3dbf099d-922d-4ace-9ccd-679bba93319b\" xlink:show=\"new\" xlink:title=\"psysml:3dbf099d-922d-4ace-9ccd-679bba93319b\" xlink:type=\"simple\"><rect fill=\"#FFFFFF\" height=\"45.9375\" id=\"E8\" rx=\"10\" ry=\"10\" style=\"stroke: #383838; stroke-width: 1.5;\" width=\"128\" x=\"69\" y=\"316\"/><text fill=\"#000000\" font-family=\"sans-serif\" font-size=\"12\" font-style=\"italic\" lengthAdjust=\"spacingAndGlyphs\" textLength=\"40\" x=\"113\" y=\"332.1387\">«part»</text><text fill=\"#000000\" font-family=\"sans-serif\" font-size=\"12\" lengthAdjust=\"spacingAndGlyphs\" textLength=\"118\" x=\"72\" y=\"346.1074\">alternative: Engine</text><line style=\"stroke: #383838; stroke-width: 1.5;\" x1=\"70\" x2=\"196\" y1=\"353.9375\" y2=\"353.9375\"/></a><!--MD5=[fd4143e9d270a159db93a4ea2a975926]\n",
       "class E9--><a href=\"psysml:5fb9bd76-5535-468b-bb8f-88cd6f109fe8\" target=\"_top\" title=\"psysml:5fb9bd76-5535-468b-bb8f-88cd6f109fe8\" xlink:actuate=\"onRequest\" xlink:href=\"psysml:5fb9bd76-5535-468b-bb8f-88cd6f109fe8\" xlink:show=\"new\" xlink:title=\"psysml:5fb9bd76-5535-468b-bb8f-88cd6f109fe8\" xlink:type=\"simple\"><rect fill=\"#FFFFFF\" height=\"45.9375\" id=\"E9\" rx=\"10\" ry=\"10\" style=\"stroke: #383838; stroke-width: 1.5;\" width=\"182\" x=\"295\" y=\"240\"/><text fill=\"#000000\" font-family=\"sans-serif\" font-size=\"12\" font-style=\"italic\" lengthAdjust=\"spacingAndGlyphs\" textLength=\"40\" x=\"366\" y=\"256.1387\">«part»</text><text fill=\"#000000\" font-family=\"sans-serif\" font-size=\"12\" lengthAdjust=\"spacingAndGlyphs\" textLength=\"172\" x=\"298\" y=\"270.1074\">selectedAlternative: Engine</text><line style=\"stroke: #383838; stroke-width: 1.5;\" x1=\"296\" x2=\"476\" y1=\"277.9375\" y2=\"277.9375\"/></a><!--MD5=[05d275557350bfb9b23a4ef7222b4c39]\n",
       "link E3 to E2--><a href=\"psysml:8b560a74-32d8-45cc-8c0e-f8d7e14b884a\" target=\"_top\" title=\"psysml:8b560a74-32d8-45cc-8c0e-f8d7e14b884a\" xlink:actuate=\"onRequest\" xlink:href=\"psysml:8b560a74-32d8-45cc-8c0e-f8d7e14b884a\" xlink:show=\"new\" xlink:title=\"psysml:8b560a74-32d8-45cc-8c0e-f8d7e14b884a\" xlink:type=\"simple\"><path d=\"M421.9,362.01 C382.37,379.38 327.35,403.55 286.88,421.33 \" fill=\"none\" id=\"E3-&gt;E2\" style=\"stroke: #383838; stroke-width: 1.0;\"/><polygon fill=\"#FFFFFF\" points=\"268.31,429.49,282.8917,415.4411,288.521,428.2594,268.31,429.49\" style=\"stroke: #383838; stroke-width: 1.0;\"/><ellipse cx=\"288.9148\" cy=\"414.9803\" fill=\"#383838\" rx=\"2\" ry=\"2\" style=\"stroke: #383838; stroke-width: 1.0;\"/><ellipse cx=\"292.9358\" cy=\"424.1363\" fill=\"#383838\" rx=\"2\" ry=\"2\" style=\"stroke: #383838; stroke-width: 1.0;\"/></a><!--MD5=[185131fc0dcab0a4505a2ebe144e961b]\n",
       "link E4 to E2--><a href=\"psysml:7f518d85-a598-4692-a186-0ec59d25f08f\" target=\"_top\" title=\"psysml:7f518d85-a598-4692-a186-0ec59d25f08f\" xlink:actuate=\"onRequest\" xlink:href=\"psysml:7f518d85-a598-4692-a186-0ec59d25f08f\" xlink:show=\"new\" xlink:title=\"psysml:7f518d85-a598-4692-a186-0ec59d25f08f\" xlink:type=\"simple\"><path d=\"M305.71,362.01 C294.26,375.08 279.43,392.01 266.14,407.17 \" fill=\"none\" id=\"E4-&gt;E2\" style=\"stroke: #383838; stroke-width: 1.0;\"/><polygon fill=\"#FFFFFF\" points=\"252.58,422.66,259.8401,403.7578,270.3681,412.9861,252.58,422.66\" style=\"stroke: #383838; stroke-width: 1.0;\"/><ellipse cx=\"265.1013\" cy=\"400.7898\" fill=\"#383838\" rx=\"2\" ry=\"2\" style=\"stroke: #383838; stroke-width: 1.0;\"/><ellipse cx=\"272.6213\" cy=\"407.3814\" fill=\"#383838\" rx=\"2\" ry=\"2\" style=\"stroke: #383838; stroke-width: 1.0;\"/></a><!--MD5=[15ebcb19ae302d9b601edb458606d402]\n",
       "link E5 to E2--><a href=\"psysml:8e91b88f-f820-4b3f-bc7b-6a32144645a0\" target=\"_top\" title=\"psysml:8e91b88f-f820-4b3f-bc7b-6a32144645a0\" xlink:actuate=\"onRequest\" xlink:href=\"psysml:8e91b88f-f820-4b3f-bc7b-6a32144645a0\" xlink:show=\"new\" xlink:title=\"psysml:8e91b88f-f820-4b3f-bc7b-6a32144645a0\" xlink:type=\"simple\"><path d=\"M284.51,87.09 C201.99,116.27 67,164 67,164 C67,164 51,316 51,316 C51,316 51,362 51,362 C51,362 139.59,402.4 193.16,426.83 \" fill=\"none\" id=\"E5-&gt;E2\" style=\"stroke: #383838; stroke-width: 1.0; stroke-dasharray: 7.0,7.0;\"/><polygon fill=\"#383838\" points=\"197.91,429,191.3998,421.6096,193.366,426.9138,188.0619,428.88,197.91,429\" style=\"stroke: #383838; stroke-width: 1.0;\"/><text fill=\"#000000\" font-family=\"sans-serif\" font-size=\"13\" lengthAdjust=\"spacingAndGlyphs\" textLength=\"62\" x=\"60\" y=\"267.5669\">«subject»</text></a><!--MD5=[9120cf2e5df3bff93db8f754bbbc09b4]\n",
       "link E5 to E6--><a href=\"psysml:a6ebdbd2-b0f8-4e64-baff-f91dc99eb3fc\" target=\"_top\" title=\"psysml:a6ebdbd2-b0f8-4e64-baff-f91dc99eb3fc\" xlink:actuate=\"onRequest\" xlink:href=\"psysml:a6ebdbd2-b0f8-4e64-baff-f91dc99eb3fc\" xlink:show=\"new\" xlink:title=\"psysml:a6ebdbd2-b0f8-4e64-baff-f91dc99eb3fc\" xlink:type=\"simple\"><path d=\"M322.24,87.19 C299.88,107.23 266.89,136.8 242.83,158.37 \" fill=\"none\" id=\"E5-&gt;E6\" style=\"stroke: #383838; stroke-width: 1.0;\"/><polygon fill=\"#383838\" points=\"236.6,163.95,244.5586,160.8419,240.5525,156.3752,236.6,163.95\" style=\"stroke: #383838; stroke-width: 1.0;\"/><text fill=\"#000000\" font-family=\"sans-serif\" font-size=\"13\" lengthAdjust=\"spacingAndGlyphs\" textLength=\"73\" x=\"288\" y=\"130.0669\">«objective»</text></a><!--MD5=[452b418e7f8a40397a49b8c0a78acc5b]\n",
       "reverse link E5 to E7--><a href=\"psysml:1d968e51-2f45-472a-9c8d-b659e8169068\" target=\"_top\" title=\"psysml:1d968e51-2f45-472a-9c8d-b659e8169068\" xlink:actuate=\"onRequest\" xlink:href=\"psysml:1d968e51-2f45-472a-9c8d-b659e8169068\" xlink:show=\"new\" xlink:title=\"psysml:1d968e51-2f45-472a-9c8d-b659e8169068\" xlink:type=\"simple\"><path d=\"M370.37,97.88 C385.28,118.86 404.2,145.48 417.33,163.95 \" fill=\"none\" id=\"E5&lt;-E7\" style=\"stroke: #383838; stroke-width: 1.0;\"/><polygon fill=\"#383838\" points=\"362.77,87.19,362.9942,94.3976,369.7336,96.9628,369.5094,89.7552,362.77,87.19\" style=\"stroke: #383838; stroke-width: 1.0;\"/></a><!--MD5=[dc164f5e8a733ab456ef1add180e9e34]\n",
       "reverse link E7 to E8--><a href=\"psysml:762eee8a-df65-48ef-8994-f8166e9b75f6\" target=\"_top\" title=\"psysml:762eee8a-df65-48ef-8994-f8166e9b75f6\" xlink:actuate=\"onRequest\" xlink:href=\"psysml:762eee8a-df65-48ef-8994-f8166e9b75f6\" xlink:show=\"new\" xlink:title=\"psysml:762eee8a-df65-48ef-8994-f8166e9b75f6\" xlink:type=\"simple\"><path d=\"M362.29,211.72 C321.41,225.44 278,240 278,240 C278,240 208.68,286.85 165.9,315.76 \" fill=\"none\" id=\"E7&lt;-E8\" style=\"stroke: #383838; stroke-width: 1.0;\"/><polygon fill=\"#FFFFFF\" points=\"374.84,207.51,367.8784,205.6296,363.4651,211.3324,370.4267,213.2128,374.84,207.51\" style=\"stroke: #383838; stroke-width: 1.0;\"/><text fill=\"#000000\" font-family=\"sans-serif\" font-size=\"13\" lengthAdjust=\"spacingAndGlyphs\" textLength=\"8\" x=\"165.3056\" y=\"304.9748\">1</text></a><!--MD5=[f1f3f9f2fc535e6147756cb86a7f2e32]\n",
       "link E8 to E2--><a href=\"psysml:b4a53d37-cc69-46b7-9c1e-d748cdbb7a31\" target=\"_top\" title=\"psysml:b4a53d37-cc69-46b7-9c1e-d748cdbb7a31\" xlink:actuate=\"onRequest\" xlink:href=\"psysml:b4a53d37-cc69-46b7-9c1e-d748cdbb7a31\" xlink:show=\"new\" xlink:title=\"psysml:b4a53d37-cc69-46b7-9c1e-d748cdbb7a31\" xlink:type=\"simple\"><path d=\"M153.96,362.01 C166.68,375.36 183.23,392.74 197.89,408.14 \" fill=\"none\" id=\"E8-&gt;E2\" style=\"stroke: #383838; stroke-width: 1.0;\"/><polygon fill=\"#FFFFFF\" points=\"211.72,422.66,193.5509,413.7223,203.6924,404.0708,211.72,422.66\" style=\"stroke: #383838; stroke-width: 1.0;\"/><ellipse cx=\"191.0702\" cy=\"408.2144\" fill=\"#383838\" rx=\"2\" ry=\"2\" style=\"stroke: #383838; stroke-width: 1.0;\"/><ellipse cx=\"198.3141\" cy=\"401.3206\" fill=\"#383838\" rx=\"2\" ry=\"2\" style=\"stroke: #383838; stroke-width: 1.0;\"/></a><!--MD5=[9ae28de373ca99bb8a1b38d63370ca7e]\n",
       "reverse link E5 to E9--><a href=\"psysml:b337f31d-c5a0-436f-953f-431d96e2f8f6\" target=\"_top\" title=\"psysml:b337f31d-c5a0-436f-953f-431d96e2f8f6\" xlink:actuate=\"onRequest\" xlink:href=\"psysml:b337f31d-c5a0-436f-953f-431d96e2f8f6\" xlink:show=\"new\" xlink:title=\"psysml:b337f31d-c5a0-436f-953f-431d96e2f8f6\" xlink:type=\"simple\"><path d=\"M394.75,94.18 C442.53,123.38 509,164 509,164 C509,164 509,210 509,210 C509,210 471.69,225.77 438.16,239.95 \" fill=\"none\" id=\"E5&lt;-E9\" style=\"stroke: #383838; stroke-width: 1.0;\"/><polygon fill=\"#FFFFFF\" points=\"383.36,87.22,386.399,93.7595,393.6043,93.4694,390.5653,86.9299,383.36,87.22\" style=\"stroke: #383838; stroke-width: 1.0;\"/><text fill=\"#000000\" font-family=\"sans-serif\" font-size=\"13\" lengthAdjust=\"spacingAndGlyphs\" textLength=\"8\" x=\"443.103\" y=\"228.8328\">1</text></a><!--MD5=[5c3bb36fe832a92c7f0e1807dd65209d]\n",
       "link E9 to E2--><a href=\"psysml:a6a00959-a343-466b-bcfe-643c8c056808\" target=\"_top\" title=\"psysml:a6a00959-a343-466b-bcfe-643c8c056808\" xlink:actuate=\"onRequest\" xlink:href=\"psysml:a6a00959-a343-466b-bcfe-643c8c056808\" xlink:show=\"new\" xlink:title=\"psysml:a6a00959-a343-466b-bcfe-643c8c056808\" xlink:type=\"simple\"><path d=\"M329.17,286.05 C292.65,300.23 252,316 252,316 C252,316 244.73,365.33 239.19,402.98 \" fill=\"none\" id=\"E9-&gt;E2\" style=\"stroke: #383838; stroke-width: 1.0;\"/><polygon fill=\"#FFFFFF\" points=\"236.27,422.82,232.1134,403.0028,245.964,405.0429,236.27,422.82\" style=\"stroke: #383838; stroke-width: 1.0;\"/><ellipse cx=\"234.9227\" cy=\"397.6551\" fill=\"#383838\" rx=\"2\" ry=\"2\" style=\"stroke: #383838; stroke-width: 1.0;\"/><ellipse cx=\"244.8159\" cy=\"399.1123\" fill=\"#383838\" rx=\"2\" ry=\"2\" style=\"stroke: #383838; stroke-width: 1.0;\"/></a><!--MD5=[9d5a57988052e77308f0cc78ba3998bb]\n",
       "@startuml\r\n",
       "skinparam linetype polyline\r\n",
       "skinparam monochrome true\r\n",
       "skinparam classbackgroundcolor white\r\n",
       "skinparam shadowing false\r\n",
       "skinparam wrapWidth 300\r\n",
       "hide circle\r\n",
       "\r\n",
       "package \"TradeStudyTest\" as E1  [[psysml:57f8a98c-5718-48d8-9b9a-5c4650640602 ]]  {\r\n",
       "comp def \"Engine\" as E2  <<(T,blue) part  def>> [[psysml:6445380e-76a1-4d64-a2e6-1c63aec68392 ]] {\r\n",
       "}\r\n",
       "comp usage \"engine1: Engine \" as E3  <<(T,blue) part>> [[psysml:e07cfc3f-c273-4e94-9cbe-d128d50ec860 ]] {\r\n",
       "}\r\n",
       "comp usage \"engine2: Engine \" as E4  <<(T,blue) part>> [[psysml:d9e10f1c-39bd-473d-af93-7c118d42db3b ]] {\r\n",
       "}\r\n",
       "comp usage \"engineTradeStudy: TradeStudy \" as E5 << analysis>> [[psysml:f9c838ee-65e7-4043-9f07-1b30ef92e49c ]] {\r\n",
       "}\r\n",
       "comp usage \"tradeStudyObjective: MaximizeObjective \" as E6  <<(T,blue) requirement>> [[psysml:38fbb285-8167-4e3f-bee3-2164ba524da7 ]] {\r\n",
       "}\r\n",
       "comp usage \"objectiveFunction\" as E7  <<(T,blue) calculation>> [[psysml:658dce09-b71c-4e6e-94c9-a3c46617ebc8 ]] {\r\n",
       "}\r\n",
       "comp usage \"alternative: Engine \" as E8  <<(T,blue) part>> [[psysml:3dbf099d-922d-4ace-9ccd-679bba93319b ]] {\r\n",
       "}\r\n",
       "comp usage \"selectedAlternative: Engine \" as E9  <<(T,blue) part>> [[psysml:5fb9bd76-5535-468b-bb8f-88cd6f109fe8 ]] {\r\n",
       "}\r\n",
       "}\r\n",
       "E3 - -:|> E2 [[psysml:8b560a74-32d8-45cc-8c0e-f8d7e14b884a ]] \r\n",
       "E4 - -:|> E2 [[psysml:7f518d85-a598-4692-a186-0ec59d25f08f ]] \r\n",
       "E5 ..> E2 [[psysml:8e91b88f-f820-4b3f-bc7b-6a32144645a0 ]] : <<subject>>\r\n",
       "E5 - ->> E6 [[psysml:a6ebdbd2-b0f8-4e64-baff-f91dc99eb3fc ]] : <<objective>>\r\n",
       "E5 *- - E7 [[psysml:1d968e51-2f45-472a-9c8d-b659e8169068 ]] \r\n",
       "E7 o- - \"1\"E8 [[psysml:762eee8a-df65-48ef-8994-f8166e9b75f6 ]] \r\n",
       "E8 - -:|> E2 [[psysml:b4a53d37-cc69-46b7-9c1e-d748cdbb7a31 ]] \r\n",
       "E5 o- - \"1\"E9 [[psysml:b337f31d-c5a0-436f-953f-431d96e2f8f6 ]] \r\n",
       "E9 - -:|> E2 [[psysml:a6a00959-a343-466b-bcfe-643c8c056808 ]] \r\n",
       "@enduml\r\n",
       "\n",
       "PlantUML version 1.2020.13(Sat Jun 13 12:26:38 UTC 2020)\n",
       "(EPL source distribution)\n",
       "Java Runtime: OpenJDK Runtime Environment\n",
       "JVM: OpenJDK 64-Bit Server VM\n",
       "Default Encoding: UTF-8\n",
       "Language: en\n",
       "Country: null\n",
       "--></g></svg>"
      ]
     },
     "execution_count": 10,
     "metadata": {},
     "output_type": "execute_result"
    }
   ],
   "source": [
    "%viz --style=\"POLYLINE\" --view=\"Tree\" \"TradeStudyTest\""
   ]
  },
  {
   "cell_type": "code",
   "execution_count": 11,
   "id": "17d5fd4c",
   "metadata": {
    "execution": {
     "iopub.execute_input": "2021-11-13T13:01:38.847923Z",
     "iopub.status.busy": "2021-11-13T13:01:38.847459Z",
     "iopub.status.idle": "2021-11-13T13:01:38.854562Z",
     "shell.execute_reply": "2021-11-13T13:01:38.854891Z"
    }
   },
   "outputs": [
    {
     "data": {
      "image/svg+xml": [
       "<?xml version=\"1.0\" encoding=\"UTF-8\" standalone=\"no\"?><svg xmlns=\"http://www.w3.org/2000/svg\" xmlns:xlink=\"http://www.w3.org/1999/xlink\" contentScriptType=\"application/ecmascript\" contentStyleType=\"text/css\" height=\"12px\" preserveAspectRatio=\"none\" style=\"width:12px;height:12px;\" version=\"1.1\" viewBox=\"0 0 12 12\" width=\"12px\" zoomAndPan=\"magnify\"><defs/><g><!--MD5=[896ac0e7a515d8dd7765a661cb4ee08b]\n",
       "@startuml\r\n",
       "skinparam linetype polyline\r\n",
       "skinparam monochrome true\r\n",
       "skinparam classbackgroundcolor white\r\n",
       "skinparam shadowing false\r\n",
       "skinparam wrapWidth 300\r\n",
       "hide circle\r\n",
       "\r\n",
       "@enduml\r\n",
       "\n",
       "PlantUML version 1.2020.13(Sat Jun 13 12:26:38 UTC 2020)\n",
       "(EPL source distribution)\n",
       "Java Runtime: OpenJDK Runtime Environment\n",
       "JVM: OpenJDK 64-Bit Server VM\n",
       "Default Encoding: UTF-8\n",
       "Language: en\n",
       "Country: null\n",
       "--></g></svg>"
      ]
     },
     "execution_count": 11,
     "metadata": {},
     "output_type": "execute_result"
    }
   ],
   "source": [
    "%viz --style=\"POLYLINE\" --view=\"State\" \"TradeStudyTest\""
   ]
  },
  {
   "cell_type": "code",
   "execution_count": 12,
   "id": "430f223c",
   "metadata": {
    "execution": {
     "iopub.execute_input": "2021-11-13T13:01:38.904478Z",
     "iopub.status.busy": "2021-11-13T13:01:38.904143Z",
     "iopub.status.idle": "2021-11-13T13:01:38.960453Z",
     "shell.execute_reply": "2021-11-13T13:01:38.960155Z"
    }
   },
   "outputs": [
    {
     "data": {
      "image/svg+xml": [
       "<?xml version=\"1.0\" encoding=\"UTF-8\" standalone=\"no\"?><svg xmlns=\"http://www.w3.org/2000/svg\" xmlns:xlink=\"http://www.w3.org/1999/xlink\" contentScriptType=\"application/ecmascript\" contentStyleType=\"text/css\" height=\"334px\" preserveAspectRatio=\"none\" style=\"width:569px;height:334px;\" version=\"1.1\" viewBox=\"0 0 569 334\" width=\"569px\" zoomAndPan=\"magnify\"><defs/><g><!--MD5=[fbc87193dbaf4d95561dea2c320d4a47]\n",
       "cluster E1--><a href=\"psysml:57f8a98c-5718-48d8-9b9a-5c4650640602\" target=\"_top\" title=\"psysml:57f8a98c-5718-48d8-9b9a-5c4650640602\" xlink:actuate=\"onRequest\" xlink:href=\"psysml:57f8a98c-5718-48d8-9b9a-5c4650640602\" xlink:show=\"new\" xlink:title=\"psysml:57f8a98c-5718-48d8-9b9a-5c4650640602\" xlink:type=\"simple\"><polygon fill=\"#FFFFFF\" points=\"16,6,132,6,139,28.2969,547,28.2969,547,322,16,322,16,6\" style=\"stroke: #000000; stroke-width: 1.5;\"/><line style=\"stroke: #000000; stroke-width: 1.5;\" x1=\"16\" x2=\"139\" y1=\"28.2969\" y2=\"28.2969\"/><text fill=\"#000000\" font-family=\"sans-serif\" font-size=\"14\" font-weight=\"bold\" lengthAdjust=\"spacingAndGlyphs\" textLength=\"110\" x=\"20\" y=\"20.9951\">TradeStudyTest</text></a><!--MD5=[270fce915f116d4de14055a7c1d9a0f3]\n",
       "class E5--><a href=\"psysml:f9c838ee-65e7-4043-9f07-1b30ef92e49c\" target=\"_top\" title=\"psysml:f9c838ee-65e7-4043-9f07-1b30ef92e49c\" xlink:actuate=\"onRequest\" xlink:href=\"psysml:f9c838ee-65e7-4043-9f07-1b30ef92e49c\" xlink:show=\"new\" xlink:title=\"psysml:f9c838ee-65e7-4043-9f07-1b30ef92e49c\" xlink:type=\"simple\"><rect fill=\"#FFFFFF\" height=\"45.9375\" id=\"E5\" rx=\"10\" ry=\"10\" style=\"stroke: #383838; stroke-width: 1.5;\" width=\"203\" x=\"328.5\" y=\"41\"/><text fill=\"#000000\" font-family=\"sans-serif\" font-size=\"12\" font-style=\"italic\" lengthAdjust=\"spacingAndGlyphs\" textLength=\"64\" x=\"398\" y=\"57.1387\">«analysis»</text><text fill=\"#000000\" font-family=\"sans-serif\" font-size=\"12\" lengthAdjust=\"spacingAndGlyphs\" textLength=\"193\" x=\"331.5\" y=\"71.1074\">engineTradeStudy: TradeStudy</text><line style=\"stroke: #383838; stroke-width: 1.5;\" x1=\"329.5\" x2=\"530.5\" y1=\"78.9375\" y2=\"78.9375\"/></a><!--MD5=[60a26617385b1d2d0262a64233df1f8d]\n",
       "class E6--><a href=\"psysml:38fbb285-8167-4e3f-bee3-2164ba524da7\" target=\"_top\" title=\"psysml:38fbb285-8167-4e3f-bee3-2164ba524da7\" xlink:actuate=\"onRequest\" xlink:href=\"psysml:38fbb285-8167-4e3f-bee3-2164ba524da7\" xlink:show=\"new\" xlink:title=\"psysml:38fbb285-8167-4e3f-bee3-2164ba524da7\" xlink:type=\"simple\"><rect fill=\"#FFFFFF\" height=\"45.9375\" id=\"E6\" rx=\"10\" ry=\"10\" style=\"stroke: #383838; stroke-width: 1.5;\" width=\"255\" x=\"32.5\" y=\"120\"/><text fill=\"#000000\" font-family=\"sans-serif\" font-size=\"12\" font-style=\"italic\" lengthAdjust=\"spacingAndGlyphs\" textLength=\"91\" x=\"114.5\" y=\"136.1387\">«requirement»</text><text fill=\"#000000\" font-family=\"sans-serif\" font-size=\"12\" lengthAdjust=\"spacingAndGlyphs\" textLength=\"245\" x=\"35.5\" y=\"150.1074\">tradeStudyObjective: MaximizeObjective</text><line style=\"stroke: #383838; stroke-width: 1.5;\" x1=\"33.5\" x2=\"286.5\" y1=\"157.9375\" y2=\"157.9375\"/></a><!--MD5=[2156ba9850f5573cc1fc38a6a4b2f02b]\n",
       "class E7--><a href=\"psysml:658dce09-b71c-4e6e-94c9-a3c46617ebc8\" target=\"_top\" title=\"psysml:658dce09-b71c-4e6e-94c9-a3c46617ebc8\" xlink:actuate=\"onRequest\" xlink:href=\"psysml:658dce09-b71c-4e6e-94c9-a3c46617ebc8\" xlink:show=\"new\" xlink:title=\"psysml:658dce09-b71c-4e6e-94c9-a3c46617ebc8\" xlink:type=\"simple\"><rect fill=\"#FFFFFF\" height=\"45.9375\" id=\"E7\" rx=\"10\" ry=\"10\" style=\"stroke: #383838; stroke-width: 1.5;\" width=\"116\" x=\"323\" y=\"120\"/><text fill=\"#000000\" font-family=\"sans-serif\" font-size=\"12\" font-style=\"italic\" lengthAdjust=\"spacingAndGlyphs\" textLength=\"82\" x=\"340\" y=\"136.1387\">«calculation»</text><text fill=\"#000000\" font-family=\"sans-serif\" font-size=\"12\" lengthAdjust=\"spacingAndGlyphs\" textLength=\"110\" x=\"326\" y=\"150.1074\">objectiveFunction</text><line style=\"stroke: #383838; stroke-width: 1.5;\" x1=\"324\" x2=\"438\" y1=\"157.9375\" y2=\"157.9375\"/></a><!--MD5=[b9389687b975829384b498ac4b7476b2]\n",
       "class E8--><a href=\"psysml:3dbf099d-922d-4ace-9ccd-679bba93319b\" target=\"_top\" title=\"psysml:3dbf099d-922d-4ace-9ccd-679bba93319b\" xlink:actuate=\"onRequest\" xlink:href=\"psysml:3dbf099d-922d-4ace-9ccd-679bba93319b\" xlink:show=\"new\" xlink:title=\"psysml:3dbf099d-922d-4ace-9ccd-679bba93319b\" xlink:type=\"simple\"><rect fill=\"#FFFFFF\" height=\"31.9688\" id=\"E8\" rx=\"10\" ry=\"10\" style=\"stroke: #383838; stroke-width: 1.5;\" width=\"128\" x=\"175\" y=\"214\"/><text fill=\"#000000\" font-family=\"sans-serif\" font-size=\"12\" lengthAdjust=\"spacingAndGlyphs\" textLength=\"118\" x=\"178\" y=\"230.1387\">alternative: Engine</text><line style=\"stroke: #383838; stroke-width: 1.5;\" x1=\"176\" x2=\"302\" y1=\"237.9688\" y2=\"237.9688\"/></a><!--MD5=[fd4143e9d270a159db93a4ea2a975926]\n",
       "class E9--><a href=\"psysml:5fb9bd76-5535-468b-bb8f-88cd6f109fe8\" target=\"_top\" title=\"psysml:5fb9bd76-5535-468b-bb8f-88cd6f109fe8\" xlink:actuate=\"onRequest\" xlink:href=\"psysml:5fb9bd76-5535-468b-bb8f-88cd6f109fe8\" xlink:show=\"new\" xlink:title=\"psysml:5fb9bd76-5535-468b-bb8f-88cd6f109fe8\" xlink:type=\"simple\"><rect fill=\"#FFFFFF\" height=\"31.9688\" id=\"E9\" rx=\"10\" ry=\"10\" style=\"stroke: #383838; stroke-width: 1.5;\" width=\"182\" x=\"245\" y=\"174\"/><text fill=\"#000000\" font-family=\"sans-serif\" font-size=\"12\" lengthAdjust=\"spacingAndGlyphs\" textLength=\"172\" x=\"248\" y=\"190.1387\">selectedAlternative: Engine</text><line style=\"stroke: #383838; stroke-width: 1.5;\" x1=\"246\" x2=\"426\" y1=\"197.9688\" y2=\"197.9688\"/></a><g id=\"E1.E2\"><a href=\"psysml:6445380e-76a1-4d64-a2e6-1c63aec68392\" target=\"_top\" title=\"psysml:6445380e-76a1-4d64-a2e6-1c63aec68392\" xlink:actuate=\"onRequest\" xlink:href=\"psysml:6445380e-76a1-4d64-a2e6-1c63aec68392\" xlink:show=\"new\" xlink:title=\"psysml:6445380e-76a1-4d64-a2e6-1c63aec68392\" xlink:type=\"simple\"><rect fill=\"#FFFFFF\" height=\"42.9375\" id=\"E2\" style=\"stroke: #383838; stroke-width: 1.5;\" width=\"75\" x=\"301.5\" y=\"263\"/><rect fill=\"#F8F8F8\" height=\"37.9375\" style=\"stroke: #383838; stroke-width: 1.5;\" width=\"75\" x=\"301.5\" y=\"263\"/><text fill=\"#000000\" font-family=\"sans-serif\" font-size=\"12\" font-style=\"italic\" lengthAdjust=\"spacingAndGlyphs\" textLength=\"68\" x=\"305\" y=\"279.1387\">«part  def»</text><text fill=\"#000000\" font-family=\"sans-serif\" font-size=\"12\" lengthAdjust=\"spacingAndGlyphs\" textLength=\"43\" x=\"317.5\" y=\"293.1074\">Engine</text></a></g><g id=\"E1.E3\"><a href=\"psysml:e07cfc3f-c273-4e94-9cbe-d128d50ec860\" target=\"_top\" title=\"psysml:e07cfc3f-c273-4e94-9cbe-d128d50ec860\" xlink:actuate=\"onRequest\" xlink:href=\"psysml:e07cfc3f-c273-4e94-9cbe-d128d50ec860\" xlink:show=\"new\" xlink:title=\"psysml:e07cfc3f-c273-4e94-9cbe-d128d50ec860\" xlink:type=\"simple\"><rect fill=\"#FFFFFF\" height=\"40\" id=\"E3\" rx=\"10\" ry=\"10\" style=\"stroke: #383838; stroke-width: 1.5;\" width=\"113\" x=\"180.5\" y=\"44\"/><rect fill=\"#F8F8F8\" height=\"23.9688\" rx=\"10\" ry=\"10\" style=\"stroke: #F8F8F8; stroke-width: 1.5;\" width=\"113\" x=\"180.5\" y=\"44\"/><rect fill=\"#F8F8F8\" height=\"10\" style=\"stroke: #F8F8F8; stroke-width: 1.5;\" width=\"113\" x=\"180.5\" y=\"57.9688\"/><rect fill=\"none\" height=\"40\" id=\"E3\" rx=\"10\" ry=\"10\" style=\"stroke: #383838; stroke-width: 1.5;\" width=\"113\" x=\"180.5\" y=\"44\"/><text fill=\"#000000\" font-family=\"sans-serif\" font-size=\"12\" lengthAdjust=\"spacingAndGlyphs\" textLength=\"102\" x=\"186\" y=\"60.1387\">engine1: Engine</text></a></g><g id=\"E1.E4\"><a href=\"psysml:d9e10f1c-39bd-473d-af93-7c118d42db3b\" target=\"_top\" title=\"psysml:d9e10f1c-39bd-473d-af93-7c118d42db3b\" xlink:actuate=\"onRequest\" xlink:href=\"psysml:d9e10f1c-39bd-473d-af93-7c118d42db3b\" xlink:show=\"new\" xlink:title=\"psysml:d9e10f1c-39bd-473d-af93-7c118d42db3b\" xlink:type=\"simple\"><rect fill=\"#FFFFFF\" height=\"40\" id=\"E4\" rx=\"10\" ry=\"10\" style=\"stroke: #383838; stroke-width: 1.5;\" width=\"113\" x=\"32.5\" y=\"44\"/><rect fill=\"#F8F8F8\" height=\"23.9688\" rx=\"10\" ry=\"10\" style=\"stroke: #F8F8F8; stroke-width: 1.5;\" width=\"113\" x=\"32.5\" y=\"44\"/><rect fill=\"#F8F8F8\" height=\"10\" style=\"stroke: #F8F8F8; stroke-width: 1.5;\" width=\"113\" x=\"32.5\" y=\"57.9688\"/><rect fill=\"none\" height=\"40\" id=\"E4\" rx=\"10\" ry=\"10\" style=\"stroke: #383838; stroke-width: 1.5;\" width=\"113\" x=\"32.5\" y=\"44\"/><text fill=\"#000000\" font-family=\"sans-serif\" font-size=\"12\" lengthAdjust=\"spacingAndGlyphs\" textLength=\"102\" x=\"38\" y=\"60.1387\">engine2: Engine</text></a></g><!--MD5=[15ebcb19ae302d9b601edb458606d402]\n",
       "link E5 to E2--><a href=\"psysml:8e91b88f-f820-4b3f-bc7b-6a32144645a0\" target=\"_top\" title=\"psysml:8e91b88f-f820-4b3f-bc7b-6a32144645a0\" xlink:actuate=\"onRequest\" xlink:href=\"psysml:8e91b88f-f820-4b3f-bc7b-6a32144645a0\" xlink:show=\"new\" xlink:title=\"psysml:8e91b88f-f820-4b3f-bc7b-6a32144645a0\" xlink:type=\"simple\"><path d=\"M450.64,87.12 C454.84,91.61 458,95 458,95 C458,95 466,120 466,120 C466,120 466,166 466,166 C466,166 428,206 428,206 C428,206 392.76,236.68 366.63,259.44 \" fill=\"none\" id=\"E5-&gt;E2\" style=\"stroke: #383838; stroke-width: 1.0; stroke-dasharray: 7.0,7.0;\"/><polygon fill=\"#383838\" points=\"362.85,262.73,372.2635,259.834,366.62,259.4456,367.0084,253.8021,362.85,262.73\" style=\"stroke: #383838; stroke-width: 1.0;\"/><text fill=\"#000000\" font-family=\"sans-serif\" font-size=\"13\" lengthAdjust=\"spacingAndGlyphs\" textLength=\"62\" x=\"459\" y=\"194.5669\">«subject»</text></a><!--MD5=[9120cf2e5df3bff93db8f754bbbc09b4]\n",
       "link E5 to E6--><a href=\"psysml:a6ebdbd2-b0f8-4e64-baff-f91dc99eb3fc\" target=\"_top\" title=\"psysml:a6ebdbd2-b0f8-4e64-baff-f91dc99eb3fc\" xlink:actuate=\"onRequest\" xlink:href=\"psysml:a6ebdbd2-b0f8-4e64-baff-f91dc99eb3fc\" xlink:show=\"new\" xlink:title=\"psysml:a6ebdbd2-b0f8-4e64-baff-f91dc99eb3fc\" xlink:type=\"simple\"><path d=\"M347.72,87.04 C330.79,91.57 318,95 318,95 C318,95 280.52,106.15 242.07,117.59 \" fill=\"none\" id=\"E5-&gt;E6\" style=\"stroke: #383838; stroke-width: 1.0;\"/><polygon fill=\"#383838\" points=\"234.37,119.88,242.8936,120.4707,241.1803,114.7205,234.37,119.88\" style=\"stroke: #383838; stroke-width: 1.0;\"/><text fill=\"#000000\" font-family=\"sans-serif\" font-size=\"13\" lengthAdjust=\"spacingAndGlyphs\" textLength=\"73\" x=\"319\" y=\"108.0669\">«objective»</text></a><!--MD5=[452b418e7f8a40397a49b8c0a78acc5b]\n",
       "reverse link E5 to E7--><a href=\"psysml:1d968e51-2f45-472a-9c8d-b659e8169068\" target=\"_top\" title=\"psysml:1d968e51-2f45-472a-9c8d-b659e8169068\" xlink:actuate=\"onRequest\" xlink:href=\"psysml:1d968e51-2f45-472a-9c8d-b659e8169068\" xlink:show=\"new\" xlink:title=\"psysml:1d968e51-2f45-472a-9c8d-b659e8169068\" xlink:type=\"simple\"><path d=\"M408.8,98.32 C404.18,105.57 399.4,113.08 395.14,119.78 \" fill=\"none\" id=\"E5&lt;-E7\" style=\"stroke: #383838; stroke-width: 1.0;\"/><polygon fill=\"#383838\" points=\"415.83,87.27,409.2361,90.1889,409.3943,97.3983,415.9883,94.4794,415.83,87.27\" style=\"stroke: #383838; stroke-width: 1.0;\"/></a><!--MD5=[dc164f5e8a733ab456ef1add180e9e34]\n",
       "reverse link E7 to E8--><a href=\"psysml:762eee8a-df65-48ef-8994-f8166e9b75f6\" target=\"_top\" title=\"psysml:762eee8a-df65-48ef-8994-f8166e9b75f6\" xlink:actuate=\"onRequest\" xlink:href=\"psysml:762eee8a-df65-48ef-8994-f8166e9b75f6\" xlink:show=\"new\" xlink:title=\"psysml:762eee8a-df65-48ef-8994-f8166e9b75f6\" xlink:type=\"simple\"><path d=\"M309.99,164.56 C306.86,165.46 305,166 305,166 C305,166 244,174 244,174 C244,174 241.85,197.69 240.37,213.97 \" fill=\"none\" id=\"E7&lt;-E8\" style=\"stroke: #383838; stroke-width: 1.0;\"/><polygon fill=\"#FFFFFF\" points=\"322.63,160.9,315.7544,158.7261,311.1032,164.2367,317.9788,166.4106,322.63,160.9\" style=\"stroke: #383838; stroke-width: 1.0;\"/><text fill=\"#000000\" font-family=\"sans-serif\" font-size=\"13\" lengthAdjust=\"spacingAndGlyphs\" textLength=\"8\" x=\"229.1097\" y=\"203.1757\">1</text></a><!--MD5=[f1f3f9f2fc535e6147756cb86a7f2e32]\n",
       "link E8 to E2--><a href=\"psysml:b4a53d37-cc69-46b7-9c1e-d748cdbb7a31\" target=\"_top\" title=\"psysml:b4a53d37-cc69-46b7-9c1e-d748cdbb7a31\" xlink:actuate=\"onRequest\" xlink:href=\"psysml:b4a53d37-cc69-46b7-9c1e-d748cdbb7a31\" xlink:show=\"new\" xlink:title=\"psysml:b4a53d37-cc69-46b7-9c1e-d748cdbb7a31\" xlink:type=\"simple\"><path d=\"M267.66,246.04 C272.66,248.67 278.02,251.48 283.46,254.34 \" fill=\"none\" id=\"E8-&gt;E2\" style=\"stroke: #383838; stroke-width: 1.0;\"/><polygon fill=\"#FFFFFF\" points=\"301.38,263.75,281.3045,261.1093,287.8163,248.7159,301.38,263.75\" style=\"stroke: #383838; stroke-width: 1.0;\"/><ellipse cx=\"277.1888\" cy=\"256.6876\" fill=\"#383838\" rx=\"2\" ry=\"2\" style=\"stroke: #383838; stroke-width: 1.0;\"/><ellipse cx=\"281.8401\" cy=\"247.8351\" fill=\"#383838\" rx=\"2\" ry=\"2\" style=\"stroke: #383838; stroke-width: 1.0;\"/></a><!--MD5=[9ae28de373ca99bb8a1b38d63370ca7e]\n",
       "reverse link E5 to E9--><a href=\"psysml:b337f31d-c5a0-436f-953f-431d96e2f8f6\" target=\"_top\" title=\"psysml:b337f31d-c5a0-436f-953f-431d96e2f8f6\" xlink:actuate=\"onRequest\" xlink:href=\"psysml:b337f31d-c5a0-436f-953f-431d96e2f8f6\" xlink:show=\"new\" xlink:title=\"psysml:b337f31d-c5a0-436f-953f-431d96e2f8f6\" xlink:type=\"simple\"><path d=\"M446.7,99.01 C452.23,110.28 457,120 457,120 C457,120 457,166 457,166 C457,166 437.98,169.62 415.02,173.98 \" fill=\"none\" id=\"E5&lt;-E9\" style=\"stroke: #383838; stroke-width: 1.0;\"/><polygon fill=\"#FFFFFF\" points=\"440.83,87.05,439.8829,94.1986,446.1173,97.8224,447.0644,90.6738,440.83,87.05\" style=\"stroke: #383838; stroke-width: 1.0;\"/><text fill=\"#000000\" font-family=\"sans-serif\" font-size=\"13\" lengthAdjust=\"spacingAndGlyphs\" textLength=\"8\" x=\"435.1322\" y=\"185.2763\">1</text></a><!--MD5=[5c3bb36fe832a92c7f0e1807dd65209d]\n",
       "link E9 to E2--><a href=\"psysml:a6a00959-a343-466b-bcfe-643c8c056808\" target=\"_top\" title=\"psysml:a6a00959-a343-466b-bcfe-643c8c056808\" xlink:actuate=\"onRequest\" xlink:href=\"psysml:a6a00959-a343-466b-bcfe-643c8c056808\" xlink:show=\"new\" xlink:title=\"psysml:a6a00959-a343-466b-bcfe-643c8c056808\" xlink:type=\"simple\"><path d=\"M336.5,206.27 C336.82,216.14 337.25,229.48 337.66,242.29 \" fill=\"none\" id=\"E9-&gt;E2\" style=\"stroke: #383838; stroke-width: 1.0;\"/><polygon fill=\"#FFFFFF\" points=\"338.32,262.66,330.7128,243.8949,344.7055,243.4448,338.32,262.66\" style=\"stroke: #383838; stroke-width: 1.0;\"/><ellipse cx=\"332.5285\" cy=\"238.1335\" fill=\"#383838\" rx=\"2\" ry=\"2\" style=\"stroke: #383838; stroke-width: 1.0;\"/><ellipse cx=\"342.5233\" cy=\"237.812\" fill=\"#383838\" rx=\"2\" ry=\"2\" style=\"stroke: #383838; stroke-width: 1.0;\"/></a><!--MD5=[34879f67c85192bbe3673f42670247e1]\n",
       "@startuml\r\n",
       "skinparam ranksep 10\r\n",
       "skinparam rectangle {\r\n",
       " backgroundColor<<block>> LightGreen\r\n",
       "}\r\n",
       "skinparam linetype polyline\r\n",
       "skinparam monochrome true\r\n",
       "skinparam classbackgroundcolor white\r\n",
       "skinparam shadowing false\r\n",
       "skinparam wrapWidth 300\r\n",
       "hide circle\r\n",
       "\r\n",
       "package \"TradeStudyTest\" as E1  [[psysml:57f8a98c-5718-48d8-9b9a-5c4650640602 ]]  {\r\n",
       "rec def \"Engine\" as E2  <<(T,blue) part  def>> [[psysml:6445380e-76a1-4d64-a2e6-1c63aec68392 ]] {\r\n",
       "}\r\n",
       "rec usage \"engine1: Engine\" as E3  [[psysml:e07cfc3f-c273-4e94-9cbe-d128d50ec860 ]] {\r\n",
       "}\r\n",
       "rec usage \"engine2: Engine\" as E4  [[psysml:d9e10f1c-39bd-473d-af93-7c118d42db3b ]] {\r\n",
       "}\r\n",
       "comp usage \"engineTradeStudy: TradeStudy \" as E5 << analysis>> [[psysml:f9c838ee-65e7-4043-9f07-1b30ef92e49c ]] {\r\n",
       "}\r\n",
       "comp usage \"tradeStudyObjective: MaximizeObjective \" as E6  <<(T,blue) requirement>> [[psysml:38fbb285-8167-4e3f-bee3-2164ba524da7 ]] {\r\n",
       "}\r\n",
       "comp usage \"objectiveFunction\" as E7  <<(T,blue) calculation>> [[psysml:658dce09-b71c-4e6e-94c9-a3c46617ebc8 ]] {\r\n",
       "}\r\n",
       "comp usage \"alternative: Engine \" as E8  [[psysml:3dbf099d-922d-4ace-9ccd-679bba93319b ]] {\r\n",
       "}\r\n",
       "comp usage \"selectedAlternative: Engine \" as E9  [[psysml:5fb9bd76-5535-468b-bb8f-88cd6f109fe8 ]] {\r\n",
       "}\r\n",
       "}\r\n",
       "E5 ..> E2 [[psysml:8e91b88f-f820-4b3f-bc7b-6a32144645a0 ]] : <<subject>>\r\n",
       "E5 - ->> E6 [[psysml:a6ebdbd2-b0f8-4e64-baff-f91dc99eb3fc ]] : <<objective>>\r\n",
       "E5 *- - E7 [[psysml:1d968e51-2f45-472a-9c8d-b659e8169068 ]] \r\n",
       "E7 o- - \"1\"E8 [[psysml:762eee8a-df65-48ef-8994-f8166e9b75f6 ]] \r\n",
       "E8 - -:|> E2 [[psysml:b4a53d37-cc69-46b7-9c1e-d748cdbb7a31 ]] \r\n",
       "E5 o- - \"1\"E9 [[psysml:b337f31d-c5a0-436f-953f-431d96e2f8f6 ]] \r\n",
       "E9 - -:|> E2 [[psysml:a6a00959-a343-466b-bcfe-643c8c056808 ]] \r\n",
       "@enduml\r\n",
       "\n",
       "PlantUML version 1.2020.13(Sat Jun 13 12:26:38 UTC 2020)\n",
       "(EPL source distribution)\n",
       "Java Runtime: OpenJDK Runtime Environment\n",
       "JVM: OpenJDK 64-Bit Server VM\n",
       "Default Encoding: UTF-8\n",
       "Language: en\n",
       "Country: null\n",
       "--></g></svg>"
      ]
     },
     "execution_count": 12,
     "metadata": {},
     "output_type": "execute_result"
    }
   ],
   "source": [
    "%viz --style=\"POLYLINE\" --view=\"Interconnection\" \"TradeStudyTest\""
   ]
  },
  {
   "cell_type": "code",
   "execution_count": 13,
   "id": "47597640",
   "metadata": {
    "execution": {
     "iopub.execute_input": "2021-11-13T13:01:39.010294Z",
     "iopub.status.busy": "2021-11-13T13:01:39.010037Z",
     "iopub.status.idle": "2021-11-13T13:01:39.045357Z",
     "shell.execute_reply": "2021-11-13T13:01:39.045089Z"
    }
   },
   "outputs": [
    {
     "data": {
      "image/svg+xml": [
       "<?xml version=\"1.0\" encoding=\"UTF-8\" standalone=\"no\"?><svg xmlns=\"http://www.w3.org/2000/svg\" xmlns:xlink=\"http://www.w3.org/1999/xlink\" contentScriptType=\"application/ecmascript\" contentStyleType=\"text/css\" height=\"178px\" preserveAspectRatio=\"none\" style=\"width:434px;height:178px;\" version=\"1.1\" viewBox=\"0 0 434 178\" width=\"434px\" zoomAndPan=\"magnify\"><defs/><g><!--MD5=[fbc87193dbaf4d95561dea2c320d4a47]\n",
       "cluster E1--><a href=\"psysml:f9c838ee-65e7-4043-9f07-1b30ef92e49c\" target=\"_top\" title=\"psysml:f9c838ee-65e7-4043-9f07-1b30ef92e49c\" xlink:actuate=\"onRequest\" xlink:href=\"psysml:f9c838ee-65e7-4043-9f07-1b30ef92e49c\" xlink:show=\"new\" xlink:title=\"psysml:f9c838ee-65e7-4043-9f07-1b30ef92e49c\" xlink:type=\"simple\"><rect fill=\"#FFFFFF\" height=\"103.72\" id=\"E1\" rx=\"10\" ry=\"10\" style=\"stroke: #383838; stroke-width: 1.5;\" width=\"327\" x=\"47\" y=\"42.0986\"/><rect fill=\"#F8F8F8\" height=\"37.9375\" rx=\"10\" ry=\"10\" style=\"stroke: #F8F8F8; stroke-width: 1.5;\" width=\"327\" x=\"47\" y=\"42.0986\"/><rect fill=\"#F8F8F8\" height=\"10\" style=\"stroke: #F8F8F8; stroke-width: 1.5;\" width=\"327\" x=\"47\" y=\"70.0361\"/><rect fill=\"none\" height=\"103.72\" id=\"E1\" rx=\"10\" ry=\"10\" style=\"stroke: #383838; stroke-width: 1.5;\" width=\"327\" x=\"47\" y=\"42.0986\"/><text fill=\"#000000\" font-family=\"sans-serif\" font-size=\"12\" font-style=\"italic\" lengthAdjust=\"spacingAndGlyphs\" textLength=\"64\" x=\"178.5\" y=\"58.2373\">«analysis»</text><text fill=\"#000000\" font-family=\"sans-serif\" font-size=\"12\" lengthAdjust=\"spacingAndGlyphs\" textLength=\"114\" x=\"153.5\" y=\"72.2061\">engineTradeStudy</text><line style=\"stroke: #383838; stroke-width: 1.0;\" x1=\"47\" x2=\"374\" y1=\"80.0361\" y2=\"80.0361\"/></a><!--MD5=[d5e69f78d87373223dbae638b30a9c99]\n",
       "cluster E3--><a href=\"psysml:658dce09-b71c-4e6e-94c9-a3c46617ebc8\" target=\"_top\" title=\"psysml:658dce09-b71c-4e6e-94c9-a3c46617ebc8\" xlink:actuate=\"onRequest\" xlink:href=\"psysml:658dce09-b71c-4e6e-94c9-a3c46617ebc8\" xlink:show=\"new\" xlink:title=\"psysml:658dce09-b71c-4e6e-94c9-a3c46617ebc8\" xlink:type=\"simple\"><rect fill=\"#FFFFFF\" height=\"81.72\" id=\"E3\" rx=\"10\" ry=\"10\" style=\"stroke: #383838; stroke-width: 1.5;\" width=\"132\" x=\"214.125\" y=\"64.0986\"/><rect fill=\"#F8F8F8\" height=\"37.9375\" rx=\"10\" ry=\"10\" style=\"stroke: #F8F8F8; stroke-width: 1.5;\" width=\"132\" x=\"214.125\" y=\"64.0986\"/><rect fill=\"#F8F8F8\" height=\"10\" style=\"stroke: #F8F8F8; stroke-width: 1.5;\" width=\"132\" x=\"214.125\" y=\"92.0361\"/><rect fill=\"none\" height=\"81.72\" id=\"E3\" rx=\"10\" ry=\"10\" style=\"stroke: #383838; stroke-width: 1.5;\" width=\"132\" x=\"214.125\" y=\"64.0986\"/><text fill=\"#000000\" font-family=\"sans-serif\" font-size=\"12\" font-style=\"italic\" lengthAdjust=\"spacingAndGlyphs\" textLength=\"82\" x=\"239.125\" y=\"80.2373\">«calculation»</text><text fill=\"#000000\" font-family=\"sans-serif\" font-size=\"12\" lengthAdjust=\"spacingAndGlyphs\" textLength=\"110\" x=\"225.125\" y=\"94.2061\">objectiveFunction</text><line style=\"stroke: #383838; stroke-width: 1.0;\" x1=\"214.125\" x2=\"346.125\" y1=\"102.0361\" y2=\"102.0361\"/></a><text fill=\"#000000\" font-family=\"sans-serif\" font-size=\"14\" lengthAdjust=\"spacingAndGlyphs\" textLength=\"118\" x=\"6\" y=\"20.7969\">studyAlternatives</text><rect fill=\"#383838\" height=\"12\" style=\"stroke: #F8F8F8; stroke-width: 1.5;\" width=\"12\" x=\"59\" y=\"36.0986\"/><text fill=\"#000000\" font-family=\"sans-serif\" font-size=\"14\" lengthAdjust=\"spacingAndGlyphs\" textLength=\"132\" x=\"290\" y=\"164.8138\">selectedAlternative</text><rect fill=\"#383838\" height=\"12\" style=\"stroke: #F8F8F8; stroke-width: 1.5;\" width=\"12\" x=\"350\" y=\"139.8186\"/><text fill=\"#000000\" font-family=\"sans-serif\" font-size=\"14\" lengthAdjust=\"spacingAndGlyphs\" textLength=\"39\" x=\"215.5\" y=\"164.8138\">result</text><rect fill=\"#383838\" height=\"12\" style=\"stroke: #F8F8F8; stroke-width: 1.5;\" width=\"12\" x=\"229\" y=\"139.8186\"/><!--MD5=[04d807523536cf64c27408ef8b5a3924]\n",
       "@startuml\r\n",
       "skinparam ranksep 8\r\n",
       "skinparam linetype polyline\r\n",
       "skinparam monochrome true\r\n",
       "skinparam classbackgroundcolor white\r\n",
       "skinparam shadowing false\r\n",
       "skinparam wrapWidth 300\r\n",
       "hide circle\r\n",
       "\r\n",
       "rec usage \"engineTradeStudy\" as E1 << analysis>> [[psysml:f9c838ee-65e7-4043-9f07-1b30ef92e49c ]] {\r\n",
       "portin \"studyAlternatives\" as E2  [[psysml:337fe316-4d2f-4990-8407-2b5473f7b0b9 ]] \r\n",
       "rec usage \"objectiveFunction\" as E3  <<(T,blue) calculation>> [[psysml:658dce09-b71c-4e6e-94c9-a3c46617ebc8 ]] {\r\n",
       "portout \"result\" as E4  [[psysml:1c0da6f6-5c1e-42af-93f0-451ad801a52e ]] \r\n",
       "}\r\n",
       "\r\n",
       "portout \"selectedAlternative\" as E5  [[psysml:5fb9bd76-5535-468b-bb8f-88cd6f109fe8 ]] \r\n",
       "}\r\n",
       "\r\n",
       "@enduml\r\n",
       "\n",
       "PlantUML version 1.2020.13(Sat Jun 13 12:26:38 UTC 2020)\n",
       "(EPL source distribution)\n",
       "Java Runtime: OpenJDK Runtime Environment\n",
       "JVM: OpenJDK 64-Bit Server VM\n",
       "Default Encoding: UTF-8\n",
       "Language: en\n",
       "Country: null\n",
       "--></g></svg>"
      ]
     },
     "execution_count": 13,
     "metadata": {},
     "output_type": "execute_result"
    }
   ],
   "source": [
    "%viz --style=\"POLYLINE\" --view=\"Action\" \"TradeStudyTest\""
   ]
  },
  {
   "cell_type": "code",
   "execution_count": 14,
   "id": "ea12967a",
   "metadata": {
    "execution": {
     "iopub.execute_input": "2021-11-13T13:01:39.095313Z",
     "iopub.status.busy": "2021-11-13T13:01:39.095072Z",
     "iopub.status.idle": "2021-11-13T13:01:39.102480Z",
     "shell.execute_reply": "2021-11-13T13:01:39.102127Z"
    }
   },
   "outputs": [
    {
     "data": {
      "image/svg+xml": [
       "<?xml version=\"1.0\" encoding=\"UTF-8\" standalone=\"no\"?><svg xmlns=\"http://www.w3.org/2000/svg\" xmlns:xlink=\"http://www.w3.org/1999/xlink\" contentScriptType=\"application/ecmascript\" contentStyleType=\"text/css\" height=\"12px\" preserveAspectRatio=\"none\" style=\"width:12px;height:12px;\" version=\"1.1\" viewBox=\"0 0 12 12\" width=\"12px\" zoomAndPan=\"magnify\"><defs/><g><!--MD5=[dc938048236c351797870c36b62f92ad]\n",
       "@startuml\r\n",
       "skinparam roundcorner 20\r\n",
       "skinparam BoxPadding 20\r\n",
       "skinparam SequenceBoxBackgroundColor #white\r\n",
       "skinparam style strictuml\r\n",
       "skinparam maxMessageSize 100\r\n",
       "skinparam linetype polyline\r\n",
       "skinparam monochrome true\r\n",
       "skinparam classbackgroundcolor white\r\n",
       "skinparam shadowing false\r\n",
       "skinparam wrapWidth 300\r\n",
       "hide circle\r\n",
       "\r\n",
       "@enduml\r\n",
       "\n",
       "PlantUML version 1.2020.13(Sat Jun 13 12:26:38 UTC 2020)\n",
       "(EPL source distribution)\n",
       "Java Runtime: OpenJDK Runtime Environment\n",
       "JVM: OpenJDK 64-Bit Server VM\n",
       "Default Encoding: UTF-8\n",
       "Language: en\n",
       "Country: null\n",
       "--></g></svg>"
      ]
     },
     "execution_count": 14,
     "metadata": {},
     "output_type": "execute_result"
    }
   ],
   "source": [
    "%viz --style=\"POLYLINE\" --view=\"Sequence\" \"TradeStudyTest\""
   ]
  },
  {
   "cell_type": "code",
   "execution_count": 15,
   "id": "246820ec",
   "metadata": {
    "execution": {
     "iopub.execute_input": "2021-11-13T13:01:39.152485Z",
     "iopub.status.busy": "2021-11-13T13:01:39.152016Z",
     "iopub.status.idle": "2021-11-13T13:01:39.205131Z",
     "shell.execute_reply": "2021-11-13T13:01:39.204833Z"
    }
   },
   "outputs": [
    {
     "data": {
      "image/svg+xml": [
       "<?xml version=\"1.0\" encoding=\"UTF-8\" standalone=\"no\"?><svg xmlns=\"http://www.w3.org/2000/svg\" xmlns:xlink=\"http://www.w3.org/1999/xlink\" contentScriptType=\"application/ecmascript\" contentStyleType=\"text/css\" height=\"497px\" preserveAspectRatio=\"none\" style=\"width:566px;height:497px;\" version=\"1.1\" viewBox=\"0 0 566 497\" width=\"566px\" zoomAndPan=\"magnify\"><defs/><g><!--MD5=[fbc87193dbaf4d95561dea2c320d4a47]\n",
       "cluster E1--><a href=\"psysml:57f8a98c-5718-48d8-9b9a-5c4650640602\" target=\"_top\" title=\"psysml:57f8a98c-5718-48d8-9b9a-5c4650640602\" xlink:actuate=\"onRequest\" xlink:href=\"psysml:57f8a98c-5718-48d8-9b9a-5c4650640602\" xlink:show=\"new\" xlink:title=\"psysml:57f8a98c-5718-48d8-9b9a-5c4650640602\" xlink:type=\"simple\"><polygon fill=\"#FFFFFF\" points=\"16,6,132,6,139,28.2969,544,28.2969,544,485,16,485,16,6\" style=\"stroke: #000000; stroke-width: 1.5;\"/><line style=\"stroke: #000000; stroke-width: 1.5;\" x1=\"16\" x2=\"139\" y1=\"28.2969\" y2=\"28.2969\"/><text fill=\"#000000\" font-family=\"sans-serif\" font-size=\"14\" font-weight=\"bold\" lengthAdjust=\"spacingAndGlyphs\" textLength=\"110\" x=\"20\" y=\"20.9951\">TradeStudyTest</text></a><!--MD5=[b4997ac47864f28c2f74865a473b2911]\n",
       "class E2--><a href=\"psysml:6445380e-76a1-4d64-a2e6-1c63aec68392\" target=\"_top\" title=\"psysml:6445380e-76a1-4d64-a2e6-1c63aec68392\" xlink:actuate=\"onRequest\" xlink:href=\"psysml:6445380e-76a1-4d64-a2e6-1c63aec68392\" xlink:show=\"new\" xlink:title=\"psysml:6445380e-76a1-4d64-a2e6-1c63aec68392\" xlink:type=\"simple\"><rect fill=\"#FFFFFF\" height=\"45.9375\" id=\"E2\" style=\"stroke: #383838; stroke-width: 1.5;\" width=\"70\" x=\"198\" y=\"423\"/><text fill=\"#000000\" font-family=\"sans-serif\" font-size=\"12\" font-style=\"italic\" lengthAdjust=\"spacingAndGlyphs\" textLength=\"68\" x=\"199\" y=\"439.1387\">«part  def»</text><text fill=\"#000000\" font-family=\"sans-serif\" font-size=\"12\" lengthAdjust=\"spacingAndGlyphs\" textLength=\"43\" x=\"211.5\" y=\"453.1074\">Engine</text><line style=\"stroke: #383838; stroke-width: 1.5;\" x1=\"199\" x2=\"267\" y1=\"460.9375\" y2=\"460.9375\"/></a><!--MD5=[09b614a08d8cba4a07c9adeb5e0fee81]\n",
       "class E3--><a href=\"psysml:e07cfc3f-c273-4e94-9cbe-d128d50ec860\" target=\"_top\" title=\"psysml:e07cfc3f-c273-4e94-9cbe-d128d50ec860\" xlink:actuate=\"onRequest\" xlink:href=\"psysml:e07cfc3f-c273-4e94-9cbe-d128d50ec860\" xlink:show=\"new\" xlink:title=\"psysml:e07cfc3f-c273-4e94-9cbe-d128d50ec860\" xlink:type=\"simple\"><rect fill=\"#FFFFFF\" height=\"45.9375\" id=\"E3\" rx=\"10\" ry=\"10\" style=\"stroke: #383838; stroke-width: 1.5;\" width=\"112\" x=\"416\" y=\"316\"/><text fill=\"#000000\" font-family=\"sans-serif\" font-size=\"12\" font-style=\"italic\" lengthAdjust=\"spacingAndGlyphs\" textLength=\"40\" x=\"452\" y=\"332.1387\">«part»</text><text fill=\"#000000\" font-family=\"sans-serif\" font-size=\"12\" lengthAdjust=\"spacingAndGlyphs\" textLength=\"102\" x=\"419\" y=\"346.1074\">engine1: Engine</text><line style=\"stroke: #383838; stroke-width: 1.5;\" x1=\"417\" x2=\"527\" y1=\"353.9375\" y2=\"353.9375\"/></a><!--MD5=[ebbe1d658d1005bcc118a6aa81145e00]\n",
       "class E4--><a href=\"psysml:d9e10f1c-39bd-473d-af93-7c118d42db3b\" target=\"_top\" title=\"psysml:d9e10f1c-39bd-473d-af93-7c118d42db3b\" xlink:actuate=\"onRequest\" xlink:href=\"psysml:d9e10f1c-39bd-473d-af93-7c118d42db3b\" xlink:show=\"new\" xlink:title=\"psysml:d9e10f1c-39bd-473d-af93-7c118d42db3b\" xlink:type=\"simple\"><rect fill=\"#FFFFFF\" height=\"45.9375\" id=\"E4\" rx=\"10\" ry=\"10\" style=\"stroke: #383838; stroke-width: 1.5;\" width=\"112\" x=\"269\" y=\"316\"/><text fill=\"#000000\" font-family=\"sans-serif\" font-size=\"12\" font-style=\"italic\" lengthAdjust=\"spacingAndGlyphs\" textLength=\"40\" x=\"305\" y=\"332.1387\">«part»</text><text fill=\"#000000\" font-family=\"sans-serif\" font-size=\"12\" lengthAdjust=\"spacingAndGlyphs\" textLength=\"102\" x=\"272\" y=\"346.1074\">engine2: Engine</text><line style=\"stroke: #383838; stroke-width: 1.5;\" x1=\"270\" x2=\"380\" y1=\"353.9375\" y2=\"353.9375\"/></a><!--MD5=[270fce915f116d4de14055a7c1d9a0f3]\n",
       "class E5--><a href=\"psysml:f9c838ee-65e7-4043-9f07-1b30ef92e49c\" target=\"_top\" title=\"psysml:f9c838ee-65e7-4043-9f07-1b30ef92e49c\" xlink:actuate=\"onRequest\" xlink:href=\"psysml:f9c838ee-65e7-4043-9f07-1b30ef92e49c\" xlink:show=\"new\" xlink:title=\"psysml:f9c838ee-65e7-4043-9f07-1b30ef92e49c\" xlink:type=\"simple\"><rect fill=\"#FFFFFF\" height=\"45.9375\" id=\"E5\" rx=\"10\" ry=\"10\" style=\"stroke: #383838; stroke-width: 1.5;\" width=\"203\" x=\"245.5\" y=\"41\"/><text fill=\"#000000\" font-family=\"sans-serif\" font-size=\"12\" font-style=\"italic\" lengthAdjust=\"spacingAndGlyphs\" textLength=\"64\" x=\"315\" y=\"57.1387\">«analysis»</text><text fill=\"#000000\" font-family=\"sans-serif\" font-size=\"12\" lengthAdjust=\"spacingAndGlyphs\" textLength=\"193\" x=\"248.5\" y=\"71.1074\">engineTradeStudy: TradeStudy</text><line style=\"stroke: #383838; stroke-width: 1.5;\" x1=\"246.5\" x2=\"447.5\" y1=\"78.9375\" y2=\"78.9375\"/></a><!--MD5=[60a26617385b1d2d0262a64233df1f8d]\n",
       "class E6--><a href=\"psysml:38fbb285-8167-4e3f-bee3-2164ba524da7\" target=\"_top\" title=\"psysml:38fbb285-8167-4e3f-bee3-2164ba524da7\" xlink:actuate=\"onRequest\" xlink:href=\"psysml:38fbb285-8167-4e3f-bee3-2164ba524da7\" xlink:show=\"new\" xlink:title=\"psysml:38fbb285-8167-4e3f-bee3-2164ba524da7\" xlink:type=\"simple\"><rect fill=\"#FFFFFF\" height=\"45.9375\" id=\"E6\" rx=\"10\" ry=\"10\" style=\"stroke: #383838; stroke-width: 1.5;\" width=\"255\" x=\"84.5\" y=\"164\"/><text fill=\"#000000\" font-family=\"sans-serif\" font-size=\"12\" font-style=\"italic\" lengthAdjust=\"spacingAndGlyphs\" textLength=\"91\" x=\"166.5\" y=\"180.1387\">«requirement»</text><text fill=\"#000000\" font-family=\"sans-serif\" font-size=\"12\" lengthAdjust=\"spacingAndGlyphs\" textLength=\"245\" x=\"87.5\" y=\"194.1074\">tradeStudyObjective: MaximizeObjective</text><line style=\"stroke: #383838; stroke-width: 1.5;\" x1=\"85.5\" x2=\"338.5\" y1=\"201.9375\" y2=\"201.9375\"/></a><!--MD5=[2156ba9850f5573cc1fc38a6a4b2f02b]\n",
       "class E7--><a href=\"psysml:658dce09-b71c-4e6e-94c9-a3c46617ebc8\" target=\"_top\" title=\"psysml:658dce09-b71c-4e6e-94c9-a3c46617ebc8\" xlink:actuate=\"onRequest\" xlink:href=\"psysml:658dce09-b71c-4e6e-94c9-a3c46617ebc8\" xlink:show=\"new\" xlink:title=\"psysml:658dce09-b71c-4e6e-94c9-a3c46617ebc8\" xlink:type=\"simple\"><rect fill=\"#FFFFFF\" height=\"45.9375\" id=\"E7\" rx=\"10\" ry=\"10\" style=\"stroke: #383838; stroke-width: 1.5;\" width=\"116\" x=\"375\" y=\"164\"/><text fill=\"#000000\" font-family=\"sans-serif\" font-size=\"12\" font-style=\"italic\" lengthAdjust=\"spacingAndGlyphs\" textLength=\"82\" x=\"392\" y=\"180.1387\">«calculation»</text><text fill=\"#000000\" font-family=\"sans-serif\" font-size=\"12\" lengthAdjust=\"spacingAndGlyphs\" textLength=\"110\" x=\"378\" y=\"194.1074\">objectiveFunction</text><line style=\"stroke: #383838; stroke-width: 1.5;\" x1=\"376\" x2=\"490\" y1=\"201.9375\" y2=\"201.9375\"/></a><!--MD5=[b9389687b975829384b498ac4b7476b2]\n",
       "class E8--><a href=\"psysml:3dbf099d-922d-4ace-9ccd-679bba93319b\" target=\"_top\" title=\"psysml:3dbf099d-922d-4ace-9ccd-679bba93319b\" xlink:actuate=\"onRequest\" xlink:href=\"psysml:3dbf099d-922d-4ace-9ccd-679bba93319b\" xlink:show=\"new\" xlink:title=\"psysml:3dbf099d-922d-4ace-9ccd-679bba93319b\" xlink:type=\"simple\"><rect fill=\"#FFFFFF\" height=\"45.9375\" id=\"E8\" rx=\"10\" ry=\"10\" style=\"stroke: #383838; stroke-width: 1.5;\" width=\"128\" x=\"69\" y=\"316\"/><text fill=\"#000000\" font-family=\"sans-serif\" font-size=\"12\" font-style=\"italic\" lengthAdjust=\"spacingAndGlyphs\" textLength=\"40\" x=\"113\" y=\"332.1387\">«part»</text><text fill=\"#000000\" font-family=\"sans-serif\" font-size=\"12\" lengthAdjust=\"spacingAndGlyphs\" textLength=\"118\" x=\"72\" y=\"346.1074\">alternative: Engine</text><line style=\"stroke: #383838; stroke-width: 1.5;\" x1=\"70\" x2=\"196\" y1=\"353.9375\" y2=\"353.9375\"/></a><!--MD5=[fd4143e9d270a159db93a4ea2a975926]\n",
       "class E9--><a href=\"psysml:5fb9bd76-5535-468b-bb8f-88cd6f109fe8\" target=\"_top\" title=\"psysml:5fb9bd76-5535-468b-bb8f-88cd6f109fe8\" xlink:actuate=\"onRequest\" xlink:href=\"psysml:5fb9bd76-5535-468b-bb8f-88cd6f109fe8\" xlink:show=\"new\" xlink:title=\"psysml:5fb9bd76-5535-468b-bb8f-88cd6f109fe8\" xlink:type=\"simple\"><rect fill=\"#FFFFFF\" height=\"45.9375\" id=\"E9\" rx=\"10\" ry=\"10\" style=\"stroke: #383838; stroke-width: 1.5;\" width=\"182\" x=\"295\" y=\"240\"/><text fill=\"#000000\" font-family=\"sans-serif\" font-size=\"12\" font-style=\"italic\" lengthAdjust=\"spacingAndGlyphs\" textLength=\"40\" x=\"366\" y=\"256.1387\">«part»</text><text fill=\"#000000\" font-family=\"sans-serif\" font-size=\"12\" lengthAdjust=\"spacingAndGlyphs\" textLength=\"172\" x=\"298\" y=\"270.1074\">selectedAlternative: Engine</text><line style=\"stroke: #383838; stroke-width: 1.5;\" x1=\"296\" x2=\"476\" y1=\"277.9375\" y2=\"277.9375\"/></a><!--MD5=[05d275557350bfb9b23a4ef7222b4c39]\n",
       "link E3 to E2--><a href=\"psysml:8b560a74-32d8-45cc-8c0e-f8d7e14b884a\" target=\"_top\" title=\"psysml:8b560a74-32d8-45cc-8c0e-f8d7e14b884a\" xlink:actuate=\"onRequest\" xlink:href=\"psysml:8b560a74-32d8-45cc-8c0e-f8d7e14b884a\" xlink:show=\"new\" xlink:title=\"psysml:8b560a74-32d8-45cc-8c0e-f8d7e14b884a\" xlink:type=\"simple\"><path d=\"M421.9,362.01 C382.37,379.38 327.35,403.55 286.88,421.33 \" fill=\"none\" id=\"E3-&gt;E2\" style=\"stroke: #383838; stroke-width: 1.0;\"/><polygon fill=\"#FFFFFF\" points=\"268.31,429.49,282.8917,415.4411,288.521,428.2594,268.31,429.49\" style=\"stroke: #383838; stroke-width: 1.0;\"/><ellipse cx=\"288.9148\" cy=\"414.9803\" fill=\"#383838\" rx=\"2\" ry=\"2\" style=\"stroke: #383838; stroke-width: 1.0;\"/><ellipse cx=\"292.9358\" cy=\"424.1363\" fill=\"#383838\" rx=\"2\" ry=\"2\" style=\"stroke: #383838; stroke-width: 1.0;\"/></a><!--MD5=[185131fc0dcab0a4505a2ebe144e961b]\n",
       "link E4 to E2--><a href=\"psysml:7f518d85-a598-4692-a186-0ec59d25f08f\" target=\"_top\" title=\"psysml:7f518d85-a598-4692-a186-0ec59d25f08f\" xlink:actuate=\"onRequest\" xlink:href=\"psysml:7f518d85-a598-4692-a186-0ec59d25f08f\" xlink:show=\"new\" xlink:title=\"psysml:7f518d85-a598-4692-a186-0ec59d25f08f\" xlink:type=\"simple\"><path d=\"M305.71,362.01 C294.26,375.08 279.43,392.01 266.14,407.17 \" fill=\"none\" id=\"E4-&gt;E2\" style=\"stroke: #383838; stroke-width: 1.0;\"/><polygon fill=\"#FFFFFF\" points=\"252.58,422.66,259.8401,403.7578,270.3681,412.9861,252.58,422.66\" style=\"stroke: #383838; stroke-width: 1.0;\"/><ellipse cx=\"265.1013\" cy=\"400.7898\" fill=\"#383838\" rx=\"2\" ry=\"2\" style=\"stroke: #383838; stroke-width: 1.0;\"/><ellipse cx=\"272.6213\" cy=\"407.3814\" fill=\"#383838\" rx=\"2\" ry=\"2\" style=\"stroke: #383838; stroke-width: 1.0;\"/></a><!--MD5=[15ebcb19ae302d9b601edb458606d402]\n",
       "link E5 to E2--><a href=\"psysml:8e91b88f-f820-4b3f-bc7b-6a32144645a0\" target=\"_top\" title=\"psysml:8e91b88f-f820-4b3f-bc7b-6a32144645a0\" xlink:actuate=\"onRequest\" xlink:href=\"psysml:8e91b88f-f820-4b3f-bc7b-6a32144645a0\" xlink:show=\"new\" xlink:title=\"psysml:8e91b88f-f820-4b3f-bc7b-6a32144645a0\" xlink:type=\"simple\"><path d=\"M284.51,87.09 C201.99,116.27 67,164 67,164 C67,164 51,316 51,316 C51,316 51,362 51,362 C51,362 139.59,402.4 193.16,426.83 \" fill=\"none\" id=\"E5-&gt;E2\" style=\"stroke: #383838; stroke-width: 1.0; stroke-dasharray: 7.0,7.0;\"/><polygon fill=\"#383838\" points=\"197.91,429,191.3998,421.6096,193.366,426.9138,188.0619,428.88,197.91,429\" style=\"stroke: #383838; stroke-width: 1.0;\"/><text fill=\"#000000\" font-family=\"sans-serif\" font-size=\"13\" lengthAdjust=\"spacingAndGlyphs\" textLength=\"62\" x=\"60\" y=\"267.5669\">«subject»</text></a><!--MD5=[9120cf2e5df3bff93db8f754bbbc09b4]\n",
       "link E5 to E6--><a href=\"psysml:a6ebdbd2-b0f8-4e64-baff-f91dc99eb3fc\" target=\"_top\" title=\"psysml:a6ebdbd2-b0f8-4e64-baff-f91dc99eb3fc\" xlink:actuate=\"onRequest\" xlink:href=\"psysml:a6ebdbd2-b0f8-4e64-baff-f91dc99eb3fc\" xlink:show=\"new\" xlink:title=\"psysml:a6ebdbd2-b0f8-4e64-baff-f91dc99eb3fc\" xlink:type=\"simple\"><path d=\"M322.24,87.19 C299.88,107.23 266.89,136.8 242.83,158.37 \" fill=\"none\" id=\"E5-&gt;E6\" style=\"stroke: #383838; stroke-width: 1.0;\"/><polygon fill=\"#383838\" points=\"236.6,163.95,244.5586,160.8419,240.5525,156.3752,236.6,163.95\" style=\"stroke: #383838; stroke-width: 1.0;\"/><text fill=\"#000000\" font-family=\"sans-serif\" font-size=\"13\" lengthAdjust=\"spacingAndGlyphs\" textLength=\"73\" x=\"288\" y=\"130.0669\">«objective»</text></a><!--MD5=[452b418e7f8a40397a49b8c0a78acc5b]\n",
       "reverse link E5 to E7--><a href=\"psysml:1d968e51-2f45-472a-9c8d-b659e8169068\" target=\"_top\" title=\"psysml:1d968e51-2f45-472a-9c8d-b659e8169068\" xlink:actuate=\"onRequest\" xlink:href=\"psysml:1d968e51-2f45-472a-9c8d-b659e8169068\" xlink:show=\"new\" xlink:title=\"psysml:1d968e51-2f45-472a-9c8d-b659e8169068\" xlink:type=\"simple\"><path d=\"M370.37,97.88 C385.28,118.86 404.2,145.48 417.33,163.95 \" fill=\"none\" id=\"E5&lt;-E7\" style=\"stroke: #383838; stroke-width: 1.0;\"/><polygon fill=\"#383838\" points=\"362.77,87.19,362.9942,94.3976,369.7336,96.9628,369.5094,89.7552,362.77,87.19\" style=\"stroke: #383838; stroke-width: 1.0;\"/></a><!--MD5=[dc164f5e8a733ab456ef1add180e9e34]\n",
       "reverse link E7 to E8--><a href=\"psysml:762eee8a-df65-48ef-8994-f8166e9b75f6\" target=\"_top\" title=\"psysml:762eee8a-df65-48ef-8994-f8166e9b75f6\" xlink:actuate=\"onRequest\" xlink:href=\"psysml:762eee8a-df65-48ef-8994-f8166e9b75f6\" xlink:show=\"new\" xlink:title=\"psysml:762eee8a-df65-48ef-8994-f8166e9b75f6\" xlink:type=\"simple\"><path d=\"M362.29,211.72 C321.41,225.44 278,240 278,240 C278,240 208.68,286.85 165.9,315.76 \" fill=\"none\" id=\"E7&lt;-E8\" style=\"stroke: #383838; stroke-width: 1.0;\"/><polygon fill=\"#FFFFFF\" points=\"374.84,207.51,367.8784,205.6296,363.4651,211.3324,370.4267,213.2128,374.84,207.51\" style=\"stroke: #383838; stroke-width: 1.0;\"/><text fill=\"#000000\" font-family=\"sans-serif\" font-size=\"13\" lengthAdjust=\"spacingAndGlyphs\" textLength=\"8\" x=\"165.3056\" y=\"304.9748\">1</text></a><!--MD5=[f1f3f9f2fc535e6147756cb86a7f2e32]\n",
       "link E8 to E2--><a href=\"psysml:b4a53d37-cc69-46b7-9c1e-d748cdbb7a31\" target=\"_top\" title=\"psysml:b4a53d37-cc69-46b7-9c1e-d748cdbb7a31\" xlink:actuate=\"onRequest\" xlink:href=\"psysml:b4a53d37-cc69-46b7-9c1e-d748cdbb7a31\" xlink:show=\"new\" xlink:title=\"psysml:b4a53d37-cc69-46b7-9c1e-d748cdbb7a31\" xlink:type=\"simple\"><path d=\"M153.96,362.01 C166.68,375.36 183.23,392.74 197.89,408.14 \" fill=\"none\" id=\"E8-&gt;E2\" style=\"stroke: #383838; stroke-width: 1.0;\"/><polygon fill=\"#FFFFFF\" points=\"211.72,422.66,193.5509,413.7223,203.6924,404.0708,211.72,422.66\" style=\"stroke: #383838; stroke-width: 1.0;\"/><ellipse cx=\"191.0702\" cy=\"408.2144\" fill=\"#383838\" rx=\"2\" ry=\"2\" style=\"stroke: #383838; stroke-width: 1.0;\"/><ellipse cx=\"198.3141\" cy=\"401.3206\" fill=\"#383838\" rx=\"2\" ry=\"2\" style=\"stroke: #383838; stroke-width: 1.0;\"/></a><!--MD5=[9ae28de373ca99bb8a1b38d63370ca7e]\n",
       "reverse link E5 to E9--><a href=\"psysml:b337f31d-c5a0-436f-953f-431d96e2f8f6\" target=\"_top\" title=\"psysml:b337f31d-c5a0-436f-953f-431d96e2f8f6\" xlink:actuate=\"onRequest\" xlink:href=\"psysml:b337f31d-c5a0-436f-953f-431d96e2f8f6\" xlink:show=\"new\" xlink:title=\"psysml:b337f31d-c5a0-436f-953f-431d96e2f8f6\" xlink:type=\"simple\"><path d=\"M394.75,94.18 C442.53,123.38 509,164 509,164 C509,164 509,210 509,210 C509,210 471.69,225.77 438.16,239.95 \" fill=\"none\" id=\"E5&lt;-E9\" style=\"stroke: #383838; stroke-width: 1.0;\"/><polygon fill=\"#FFFFFF\" points=\"383.36,87.22,386.399,93.7595,393.6043,93.4694,390.5653,86.9299,383.36,87.22\" style=\"stroke: #383838; stroke-width: 1.0;\"/><text fill=\"#000000\" font-family=\"sans-serif\" font-size=\"13\" lengthAdjust=\"spacingAndGlyphs\" textLength=\"8\" x=\"443.103\" y=\"228.8328\">1</text></a><!--MD5=[5c3bb36fe832a92c7f0e1807dd65209d]\n",
       "link E9 to E2--><a href=\"psysml:a6a00959-a343-466b-bcfe-643c8c056808\" target=\"_top\" title=\"psysml:a6a00959-a343-466b-bcfe-643c8c056808\" xlink:actuate=\"onRequest\" xlink:href=\"psysml:a6a00959-a343-466b-bcfe-643c8c056808\" xlink:show=\"new\" xlink:title=\"psysml:a6a00959-a343-466b-bcfe-643c8c056808\" xlink:type=\"simple\"><path d=\"M329.17,286.05 C292.65,300.23 252,316 252,316 C252,316 244.73,365.33 239.19,402.98 \" fill=\"none\" id=\"E9-&gt;E2\" style=\"stroke: #383838; stroke-width: 1.0;\"/><polygon fill=\"#FFFFFF\" points=\"236.27,422.82,232.1134,403.0028,245.964,405.0429,236.27,422.82\" style=\"stroke: #383838; stroke-width: 1.0;\"/><ellipse cx=\"234.9227\" cy=\"397.6551\" fill=\"#383838\" rx=\"2\" ry=\"2\" style=\"stroke: #383838; stroke-width: 1.0;\"/><ellipse cx=\"244.8159\" cy=\"399.1123\" fill=\"#383838\" rx=\"2\" ry=\"2\" style=\"stroke: #383838; stroke-width: 1.0;\"/></a><!--MD5=[9d5a57988052e77308f0cc78ba3998bb]\n",
       "@startuml\r\n",
       "skinparam linetype polyline\r\n",
       "skinparam monochrome true\r\n",
       "skinparam classbackgroundcolor white\r\n",
       "skinparam shadowing false\r\n",
       "skinparam wrapWidth 300\r\n",
       "hide circle\r\n",
       "\r\n",
       "package \"TradeStudyTest\" as E1  [[psysml:57f8a98c-5718-48d8-9b9a-5c4650640602 ]]  {\r\n",
       "comp def \"Engine\" as E2  <<(T,blue) part  def>> [[psysml:6445380e-76a1-4d64-a2e6-1c63aec68392 ]] {\r\n",
       "}\r\n",
       "comp usage \"engine1: Engine \" as E3  <<(T,blue) part>> [[psysml:e07cfc3f-c273-4e94-9cbe-d128d50ec860 ]] {\r\n",
       "}\r\n",
       "comp usage \"engine2: Engine \" as E4  <<(T,blue) part>> [[psysml:d9e10f1c-39bd-473d-af93-7c118d42db3b ]] {\r\n",
       "}\r\n",
       "comp usage \"engineTradeStudy: TradeStudy \" as E5 << analysis>> [[psysml:f9c838ee-65e7-4043-9f07-1b30ef92e49c ]] {\r\n",
       "}\r\n",
       "comp usage \"tradeStudyObjective: MaximizeObjective \" as E6  <<(T,blue) requirement>> [[psysml:38fbb285-8167-4e3f-bee3-2164ba524da7 ]] {\r\n",
       "}\r\n",
       "comp usage \"objectiveFunction\" as E7  <<(T,blue) calculation>> [[psysml:658dce09-b71c-4e6e-94c9-a3c46617ebc8 ]] {\r\n",
       "}\r\n",
       "comp usage \"alternative: Engine \" as E8  <<(T,blue) part>> [[psysml:3dbf099d-922d-4ace-9ccd-679bba93319b ]] {\r\n",
       "}\r\n",
       "comp usage \"selectedAlternative: Engine \" as E9  <<(T,blue) part>> [[psysml:5fb9bd76-5535-468b-bb8f-88cd6f109fe8 ]] {\r\n",
       "}\r\n",
       "}\r\n",
       "E3 - -:|> E2 [[psysml:8b560a74-32d8-45cc-8c0e-f8d7e14b884a ]] \r\n",
       "E4 - -:|> E2 [[psysml:7f518d85-a598-4692-a186-0ec59d25f08f ]] \r\n",
       "E5 ..> E2 [[psysml:8e91b88f-f820-4b3f-bc7b-6a32144645a0 ]] : <<subject>>\r\n",
       "E5 - ->> E6 [[psysml:a6ebdbd2-b0f8-4e64-baff-f91dc99eb3fc ]] : <<objective>>\r\n",
       "E5 *- - E7 [[psysml:1d968e51-2f45-472a-9c8d-b659e8169068 ]] \r\n",
       "E7 o- - \"1\"E8 [[psysml:762eee8a-df65-48ef-8994-f8166e9b75f6 ]] \r\n",
       "E8 - -:|> E2 [[psysml:b4a53d37-cc69-46b7-9c1e-d748cdbb7a31 ]] \r\n",
       "E5 o- - \"1\"E9 [[psysml:b337f31d-c5a0-436f-953f-431d96e2f8f6 ]] \r\n",
       "E9 - -:|> E2 [[psysml:a6a00959-a343-466b-bcfe-643c8c056808 ]] \r\n",
       "@enduml\r\n",
       "\n",
       "PlantUML version 1.2020.13(Sat Jun 13 12:26:38 UTC 2020)\n",
       "(EPL source distribution)\n",
       "Java Runtime: OpenJDK Runtime Environment\n",
       "JVM: OpenJDK 64-Bit Server VM\n",
       "Default Encoding: UTF-8\n",
       "Language: en\n",
       "Country: null\n",
       "--></g></svg>"
      ]
     },
     "execution_count": 15,
     "metadata": {},
     "output_type": "execute_result"
    }
   ],
   "source": [
    "%viz --style=\"POLYLINE\" --view=\"MIXED\" \"TradeStudyTest\""
   ]
  },
  {
   "cell_type": "code",
   "execution_count": 16,
   "id": "34dc9ad4",
   "metadata": {
    "execution": {
     "iopub.execute_input": "2021-11-13T13:01:39.255058Z",
     "iopub.status.busy": "2021-11-13T13:01:39.254634Z",
     "iopub.status.idle": "2021-11-13T13:01:39.304056Z",
     "shell.execute_reply": "2021-11-13T13:01:39.303865Z"
    }
   },
   "outputs": [
    {
     "data": {
      "image/svg+xml": [
       "<?xml version=\"1.0\" encoding=\"UTF-8\" standalone=\"no\"?><svg xmlns=\"http://www.w3.org/2000/svg\" xmlns:xlink=\"http://www.w3.org/1999/xlink\" contentScriptType=\"application/ecmascript\" contentStyleType=\"text/css\" height=\"351px\" preserveAspectRatio=\"none\" style=\"width:1164px;height:351px;\" version=\"1.1\" viewBox=\"0 0 1164 351\" width=\"1164px\" zoomAndPan=\"magnify\"><defs/><g><!--MD5=[fbc87193dbaf4d95561dea2c320d4a47]\n",
       "cluster E1--><a href=\"psysml:57f8a98c-5718-48d8-9b9a-5c4650640602\" target=\"_top\" title=\"psysml:57f8a98c-5718-48d8-9b9a-5c4650640602\" xlink:actuate=\"onRequest\" xlink:href=\"psysml:57f8a98c-5718-48d8-9b9a-5c4650640602\" xlink:show=\"new\" xlink:title=\"psysml:57f8a98c-5718-48d8-9b9a-5c4650640602\" xlink:type=\"simple\"><polygon fill=\"#FFFFFF\" points=\"16,6,132,6,139,28.2969,1142,28.2969,1142,339,16,339,16,6\" style=\"stroke: #000000; stroke-width: 1.5;\"/><line style=\"stroke: #000000; stroke-width: 1.5;\" x1=\"16\" x2=\"139\" y1=\"28.2969\" y2=\"28.2969\"/><text fill=\"#000000\" font-family=\"sans-serif\" font-size=\"14\" font-weight=\"bold\" lengthAdjust=\"spacingAndGlyphs\" textLength=\"110\" x=\"20\" y=\"20.9951\">TradeStudyTest</text></a><!--MD5=[b4997ac47864f28c2f74865a473b2911]\n",
       "class E2--><a href=\"psysml:6445380e-76a1-4d64-a2e6-1c63aec68392\" target=\"_top\" title=\"psysml:6445380e-76a1-4d64-a2e6-1c63aec68392\" xlink:actuate=\"onRequest\" xlink:href=\"psysml:6445380e-76a1-4d64-a2e6-1c63aec68392\" xlink:show=\"new\" xlink:title=\"psysml:6445380e-76a1-4d64-a2e6-1c63aec68392\" xlink:type=\"simple\"><rect fill=\"#FFFFFF\" height=\"45.9375\" id=\"E2\" style=\"stroke: #383838; stroke-width: 1.5;\" width=\"70\" x=\"1056\" y=\"181\"/><text fill=\"#000000\" font-family=\"sans-serif\" font-size=\"12\" font-style=\"italic\" lengthAdjust=\"spacingAndGlyphs\" textLength=\"68\" x=\"1057\" y=\"197.1387\">«part  def»</text><text fill=\"#000000\" font-family=\"sans-serif\" font-size=\"12\" lengthAdjust=\"spacingAndGlyphs\" textLength=\"43\" x=\"1069.5\" y=\"211.1074\">Engine</text><line style=\"stroke: #383838; stroke-width: 1.5;\" x1=\"1057\" x2=\"1125\" y1=\"218.9375\" y2=\"218.9375\"/></a><!--MD5=[09b614a08d8cba4a07c9adeb5e0fee81]\n",
       "class E3--><a href=\"psysml:e07cfc3f-c273-4e94-9cbe-d128d50ec860\" target=\"_top\" title=\"psysml:e07cfc3f-c273-4e94-9cbe-d128d50ec860\" xlink:actuate=\"onRequest\" xlink:href=\"psysml:e07cfc3f-c273-4e94-9cbe-d128d50ec860\" xlink:show=\"new\" xlink:title=\"psysml:e07cfc3f-c273-4e94-9cbe-d128d50ec860\" xlink:type=\"simple\"><rect fill=\"#FFFFFF\" height=\"45.9375\" id=\"E3\" rx=\"10\" ry=\"10\" style=\"stroke: #383838; stroke-width: 1.5;\" width=\"112\" x=\"875\" y=\"41\"/><text fill=\"#000000\" font-family=\"sans-serif\" font-size=\"12\" font-style=\"italic\" lengthAdjust=\"spacingAndGlyphs\" textLength=\"40\" x=\"911\" y=\"57.1387\">«part»</text><text fill=\"#000000\" font-family=\"sans-serif\" font-size=\"12\" lengthAdjust=\"spacingAndGlyphs\" textLength=\"102\" x=\"878\" y=\"71.1074\">engine1: Engine</text><line style=\"stroke: #383838; stroke-width: 1.5;\" x1=\"876\" x2=\"986\" y1=\"78.9375\" y2=\"78.9375\"/></a><!--MD5=[ebbe1d658d1005bcc118a6aa81145e00]\n",
       "class E4--><a href=\"psysml:d9e10f1c-39bd-473d-af93-7c118d42db3b\" target=\"_top\" title=\"psysml:d9e10f1c-39bd-473d-af93-7c118d42db3b\" xlink:actuate=\"onRequest\" xlink:href=\"psysml:d9e10f1c-39bd-473d-af93-7c118d42db3b\" xlink:show=\"new\" xlink:title=\"psysml:d9e10f1c-39bd-473d-af93-7c118d42db3b\" xlink:type=\"simple\"><rect fill=\"#FFFFFF\" height=\"45.9375\" id=\"E4\" rx=\"10\" ry=\"10\" style=\"stroke: #383838; stroke-width: 1.5;\" width=\"112\" x=\"875\" y=\"122\"/><text fill=\"#000000\" font-family=\"sans-serif\" font-size=\"12\" font-style=\"italic\" lengthAdjust=\"spacingAndGlyphs\" textLength=\"40\" x=\"911\" y=\"138.1387\">«part»</text><text fill=\"#000000\" font-family=\"sans-serif\" font-size=\"12\" lengthAdjust=\"spacingAndGlyphs\" textLength=\"102\" x=\"878\" y=\"152.1074\">engine2: Engine</text><line style=\"stroke: #383838; stroke-width: 1.5;\" x1=\"876\" x2=\"986\" y1=\"159.9375\" y2=\"159.9375\"/></a><!--MD5=[270fce915f116d4de14055a7c1d9a0f3]\n",
       "class E5--><a href=\"psysml:f9c838ee-65e7-4043-9f07-1b30ef92e49c\" target=\"_top\" title=\"psysml:f9c838ee-65e7-4043-9f07-1b30ef92e49c\" xlink:actuate=\"onRequest\" xlink:href=\"psysml:f9c838ee-65e7-4043-9f07-1b30ef92e49c\" xlink:show=\"new\" xlink:title=\"psysml:f9c838ee-65e7-4043-9f07-1b30ef92e49c\" xlink:type=\"simple\"><rect fill=\"#FFFFFF\" height=\"45.9375\" id=\"E5\" rx=\"10\" ry=\"10\" style=\"stroke: #383838; stroke-width: 1.5;\" width=\"203\" x=\"32\" y=\"173\"/><text fill=\"#000000\" font-family=\"sans-serif\" font-size=\"12\" font-style=\"italic\" lengthAdjust=\"spacingAndGlyphs\" textLength=\"64\" x=\"101.5\" y=\"189.1387\">«analysis»</text><text fill=\"#000000\" font-family=\"sans-serif\" font-size=\"12\" lengthAdjust=\"spacingAndGlyphs\" textLength=\"193\" x=\"35\" y=\"203.1074\">engineTradeStudy: TradeStudy</text><line style=\"stroke: #383838; stroke-width: 1.5;\" x1=\"33\" x2=\"234\" y1=\"210.9375\" y2=\"210.9375\"/></a><!--MD5=[60a26617385b1d2d0262a64233df1f8d]\n",
       "class E6--><a href=\"psysml:38fbb285-8167-4e3f-bee3-2164ba524da7\" target=\"_top\" title=\"psysml:38fbb285-8167-4e3f-bee3-2164ba524da7\" xlink:actuate=\"onRequest\" xlink:href=\"psysml:38fbb285-8167-4e3f-bee3-2164ba524da7\" xlink:show=\"new\" xlink:title=\"psysml:38fbb285-8167-4e3f-bee3-2164ba524da7\" xlink:type=\"simple\"><rect fill=\"#FFFFFF\" height=\"45.9375\" id=\"E6\" rx=\"10\" ry=\"10\" style=\"stroke: #383838; stroke-width: 1.5;\" width=\"255\" x=\"370\" y=\"206\"/><text fill=\"#000000\" font-family=\"sans-serif\" font-size=\"12\" font-style=\"italic\" lengthAdjust=\"spacingAndGlyphs\" textLength=\"91\" x=\"452\" y=\"222.1387\">«requirement»</text><text fill=\"#000000\" font-family=\"sans-serif\" font-size=\"12\" lengthAdjust=\"spacingAndGlyphs\" textLength=\"245\" x=\"373\" y=\"236.1074\">tradeStudyObjective: MaximizeObjective</text><line style=\"stroke: #383838; stroke-width: 1.5;\" x1=\"371\" x2=\"624\" y1=\"243.9375\" y2=\"243.9375\"/></a><!--MD5=[2156ba9850f5573cc1fc38a6a4b2f02b]\n",
       "class E7--><a href=\"psysml:658dce09-b71c-4e6e-94c9-a3c46617ebc8\" target=\"_top\" title=\"psysml:658dce09-b71c-4e6e-94c9-a3c46617ebc8\" xlink:actuate=\"onRequest\" xlink:href=\"psysml:658dce09-b71c-4e6e-94c9-a3c46617ebc8\" xlink:show=\"new\" xlink:title=\"psysml:658dce09-b71c-4e6e-94c9-a3c46617ebc8\" xlink:type=\"simple\"><rect fill=\"#FFFFFF\" height=\"45.9375\" id=\"E7\" rx=\"10\" ry=\"10\" style=\"stroke: #383838; stroke-width: 1.5;\" width=\"116\" x=\"439.5\" y=\"125\"/><text fill=\"#000000\" font-family=\"sans-serif\" font-size=\"12\" font-style=\"italic\" lengthAdjust=\"spacingAndGlyphs\" textLength=\"82\" x=\"456.5\" y=\"141.1387\">«calculation»</text><text fill=\"#000000\" font-family=\"sans-serif\" font-size=\"12\" lengthAdjust=\"spacingAndGlyphs\" textLength=\"110\" x=\"442.5\" y=\"155.1074\">objectiveFunction</text><line style=\"stroke: #383838; stroke-width: 1.5;\" x1=\"440.5\" x2=\"554.5\" y1=\"162.9375\" y2=\"162.9375\"/></a><!--MD5=[b9389687b975829384b498ac4b7476b2]\n",
       "class E8--><a href=\"psysml:3dbf099d-922d-4ace-9ccd-679bba93319b\" target=\"_top\" title=\"psysml:3dbf099d-922d-4ace-9ccd-679bba93319b\" xlink:actuate=\"onRequest\" xlink:href=\"psysml:3dbf099d-922d-4ace-9ccd-679bba93319b\" xlink:show=\"new\" xlink:title=\"psysml:3dbf099d-922d-4ace-9ccd-679bba93319b\" xlink:type=\"simple\"><rect fill=\"#FFFFFF\" height=\"45.9375\" id=\"E8\" rx=\"10\" ry=\"10\" style=\"stroke: #383838; stroke-width: 1.5;\" width=\"128\" x=\"867\" y=\"240\"/><text fill=\"#000000\" font-family=\"sans-serif\" font-size=\"12\" font-style=\"italic\" lengthAdjust=\"spacingAndGlyphs\" textLength=\"40\" x=\"911\" y=\"256.1387\">«part»</text><text fill=\"#000000\" font-family=\"sans-serif\" font-size=\"12\" lengthAdjust=\"spacingAndGlyphs\" textLength=\"118\" x=\"870\" y=\"270.1074\">alternative: Engine</text><line style=\"stroke: #383838; stroke-width: 1.5;\" x1=\"868\" x2=\"994\" y1=\"277.9375\" y2=\"277.9375\"/></a><!--MD5=[fd4143e9d270a159db93a4ea2a975926]\n",
       "class E9--><a href=\"psysml:5fb9bd76-5535-468b-bb8f-88cd6f109fe8\" target=\"_top\" title=\"psysml:5fb9bd76-5535-468b-bb8f-88cd6f109fe8\" xlink:actuate=\"onRequest\" xlink:href=\"psysml:5fb9bd76-5535-468b-bb8f-88cd6f109fe8\" xlink:show=\"new\" xlink:title=\"psysml:5fb9bd76-5535-468b-bb8f-88cd6f109fe8\" xlink:type=\"simple\"><rect fill=\"#FFFFFF\" height=\"45.9375\" id=\"E9\" rx=\"10\" ry=\"10\" style=\"stroke: #383838; stroke-width: 1.5;\" width=\"182\" x=\"655\" y=\"124\"/><text fill=\"#000000\" font-family=\"sans-serif\" font-size=\"12\" font-style=\"italic\" lengthAdjust=\"spacingAndGlyphs\" textLength=\"40\" x=\"726\" y=\"140.1387\">«part»</text><text fill=\"#000000\" font-family=\"sans-serif\" font-size=\"12\" lengthAdjust=\"spacingAndGlyphs\" textLength=\"172\" x=\"658\" y=\"154.1074\">selectedAlternative: Engine</text><line style=\"stroke: #383838; stroke-width: 1.5;\" x1=\"656\" x2=\"836\" y1=\"161.9375\" y2=\"161.9375\"/></a><!--MD5=[05d275557350bfb9b23a4ef7222b4c39]\n",
       "link E3 to E2--><a href=\"psysml:8b560a74-32d8-45cc-8c0e-f8d7e14b884a\" target=\"_top\" title=\"psysml:8b560a74-32d8-45cc-8c0e-f8d7e14b884a\" xlink:actuate=\"onRequest\" xlink:href=\"psysml:8b560a74-32d8-45cc-8c0e-f8d7e14b884a\" xlink:show=\"new\" xlink:title=\"psysml:8b560a74-32d8-45cc-8c0e-f8d7e14b884a\" xlink:type=\"simple\"><path d=\"M971.69,87.1 C979.66,92.32 987.8,98.07 995,104 C1017.39,122.42 1039.86,145.79 1057.32,165.3 \" fill=\"none\" id=\"E3-&gt;E2\" style=\"stroke: #383838; stroke-width: 1.0;\"/><polygon fill=\"#FFFFFF\" points=\"1070.69,180.6,1052.9071,170.9166,1063.4401,161.6939,1070.69,180.6\" style=\"stroke: #383838; stroke-width: 1.0;\"/><ellipse cx=\"1050.6569\" cy=\"165.3106\" fill=\"#383838\" rx=\"2\" ry=\"2\" style=\"stroke: #383838; stroke-width: 1.0;\"/><ellipse cx=\"1058.1805\" cy=\"158.723\" fill=\"#383838\" rx=\"2\" ry=\"2\" style=\"stroke: #383838; stroke-width: 1.0;\"/></a><!--MD5=[185131fc0dcab0a4505a2ebe144e961b]\n",
       "link E4 to E2--><a href=\"psysml:7f518d85-a598-4692-a186-0ec59d25f08f\" target=\"_top\" title=\"psysml:7f518d85-a598-4692-a186-0ec59d25f08f\" xlink:actuate=\"onRequest\" xlink:href=\"psysml:7f518d85-a598-4692-a186-0ec59d25f08f\" xlink:show=\"new\" xlink:title=\"psysml:7f518d85-a598-4692-a186-0ec59d25f08f\" xlink:type=\"simple\"><path d=\"M987.26,165.64 C1003.37,171.65 1020.93,178.21 1036.9,184.17 \" fill=\"none\" id=\"E4-&gt;E2\" style=\"stroke: #383838; stroke-width: 1.0;\"/><polygon fill=\"#FFFFFF\" points=\"1055.72,191.2,1035.4717,191.11,1040.3699,177.9949,1055.72,191.2\" style=\"stroke: #383838; stroke-width: 1.0;\"/><ellipse cx=\"1030.8317\" cy=\"187.2422\" fill=\"#383838\" rx=\"2\" ry=\"2\" style=\"stroke: #383838; stroke-width: 1.0;\"/><ellipse cx=\"1034.3304\" cy=\"177.8742\" fill=\"#383838\" rx=\"2\" ry=\"2\" style=\"stroke: #383838; stroke-width: 1.0;\"/></a><!--MD5=[15ebcb19ae302d9b601edb458606d402]\n",
       "link E5 to E2--><a href=\"psysml:8e91b88f-f820-4b3f-bc7b-6a32144645a0\" target=\"_top\" title=\"psysml:8e91b88f-f820-4b3f-bc7b-6a32144645a0\" xlink:actuate=\"onRequest\" xlink:href=\"psysml:8e91b88f-f820-4b3f-bc7b-6a32144645a0\" xlink:show=\"new\" xlink:title=\"psysml:8e91b88f-f820-4b3f-bc7b-6a32144645a0\" xlink:type=\"simple\"><path d=\"M195.5,219.17 C242.48,235.96 309.42,257.63 370,269 C587.64,309.83 645.7,296.22 867,304 C923.85,306 942.72,326.44 995,304 C1029.18,289.33 1056.86,255.64 1073.34,231.42 \" fill=\"none\" id=\"E5-&gt;E2\" style=\"stroke: #383838; stroke-width: 1.0; stroke-dasharray: 7.0,7.0;\"/><polygon fill=\"#383838\" points=\"1076.29,227.02,1067.9695,232.2897,1073.5165,231.1803,1074.6259,236.7273,1076.29,227.02\" style=\"stroke: #383838; stroke-width: 1.0;\"/><text fill=\"#000000\" font-family=\"sans-serif\" font-size=\"13\" lengthAdjust=\"spacingAndGlyphs\" textLength=\"62\" x=\"715\" y=\"297.0669\">«subject»</text></a><!--MD5=[9120cf2e5df3bff93db8f754bbbc09b4]\n",
       "link E5 to E6--><a href=\"psysml:a6ebdbd2-b0f8-4e64-baff-f91dc99eb3fc\" target=\"_top\" title=\"psysml:a6ebdbd2-b0f8-4e64-baff-f91dc99eb3fc\" xlink:actuate=\"onRequest\" xlink:href=\"psysml:a6ebdbd2-b0f8-4e64-baff-f91dc99eb3fc\" xlink:show=\"new\" xlink:title=\"psysml:a6ebdbd2-b0f8-4e64-baff-f91dc99eb3fc\" xlink:type=\"simple\"><path d=\"M235.34,205.19 C274.45,208.76 319.82,212.89 361.66,216.71 \" fill=\"none\" id=\"E5-&gt;E6\" style=\"stroke: #383838; stroke-width: 1.0;\"/><polygon fill=\"#383838\" points=\"369.7,217.44,362.0069,213.7231,361.4598,219.6981,369.7,217.44\" style=\"stroke: #383838; stroke-width: 1.0;\"/><text fill=\"#000000\" font-family=\"sans-serif\" font-size=\"13\" lengthAdjust=\"spacingAndGlyphs\" textLength=\"73\" x=\"266\" y=\"205.0669\">«objective»</text></a><!--MD5=[452b418e7f8a40397a49b8c0a78acc5b]\n",
       "reverse link E5 to E7--><a href=\"psysml:1d968e51-2f45-472a-9c8d-b659e8169068\" target=\"_top\" title=\"psysml:1d968e51-2f45-472a-9c8d-b659e8169068\" xlink:actuate=\"onRequest\" xlink:href=\"psysml:1d968e51-2f45-472a-9c8d-b659e8169068\" xlink:show=\"new\" xlink:title=\"psysml:1d968e51-2f45-472a-9c8d-b659e8169068\" xlink:type=\"simple\"><path d=\"M248.27,180.91 C311.78,172.49 388.16,162.37 439.27,155.59 \" fill=\"none\" id=\"E5&lt;-E7\" style=\"stroke: #383838; stroke-width: 1.0;\"/><polygon fill=\"#383838\" points=\"235.34,182.63,241.8116,185.8109,247.2369,181.0605,240.7653,177.8796,235.34,182.63\" style=\"stroke: #383838; stroke-width: 1.0;\"/></a><!--MD5=[dc164f5e8a733ab456ef1add180e9e34]\n",
       "reverse link E7 to E8--><a href=\"psysml:762eee8a-df65-48ef-8994-f8166e9b75f6\" target=\"_top\" title=\"psysml:762eee8a-df65-48ef-8994-f8166e9b75f6\" xlink:actuate=\"onRequest\" xlink:href=\"psysml:762eee8a-df65-48ef-8994-f8166e9b75f6\" xlink:show=\"new\" xlink:title=\"psysml:762eee8a-df65-48ef-8994-f8166e9b75f6\" xlink:type=\"simple\"><path d=\"M568.59,166.68 C651.22,188.7 787.36,224.98 866.85,246.17 \" fill=\"none\" id=\"E7&lt;-E8\" style=\"stroke: #383838; stroke-width: 1.0;\"/><polygon fill=\"#FFFFFF\" points=\"555.8,163.27,560.5706,168.6775,567.397,166.3537,562.6264,160.9462,555.8,163.27\" style=\"stroke: #383838; stroke-width: 1.0;\"/><text fill=\"#000000\" font-family=\"sans-serif\" font-size=\"13\" lengthAdjust=\"spacingAndGlyphs\" textLength=\"8\" x=\"850.9702\" y=\"257.1694\">1</text></a><!--MD5=[f1f3f9f2fc535e6147756cb86a7f2e32]\n",
       "link E8 to E2--><a href=\"psysml:b4a53d37-cc69-46b7-9c1e-d748cdbb7a31\" target=\"_top\" title=\"psysml:b4a53d37-cc69-46b7-9c1e-d748cdbb7a31\" xlink:actuate=\"onRequest\" xlink:href=\"psysml:b4a53d37-cc69-46b7-9c1e-d748cdbb7a31\" xlink:show=\"new\" xlink:title=\"psysml:b4a53d37-cc69-46b7-9c1e-d748cdbb7a31\" xlink:type=\"simple\"><path d=\"M993.99,239.85 C1008.17,234.56 1023.11,228.98 1036.87,223.84 \" fill=\"none\" id=\"E8-&gt;E2\" style=\"stroke: #383838; stroke-width: 1.0;\"/><polygon fill=\"#FFFFFF\" points=\"1055.96,216.71,1040.6044,229.9087,1035.7117,216.7915,1055.96,216.71\" style=\"stroke: #383838; stroke-width: 1.0;\"/><ellipse cx=\"1034.5649\" cy=\"230.0268\" fill=\"#383838\" rx=\"2\" ry=\"2\" style=\"stroke: #383838; stroke-width: 1.0;\"/><ellipse cx=\"1031.0701\" cy=\"220.6574\" fill=\"#383838\" rx=\"2\" ry=\"2\" style=\"stroke: #383838; stroke-width: 1.0;\"/></a><!--MD5=[9ae28de373ca99bb8a1b38d63370ca7e]\n",
       "reverse link E5 to E9--><a href=\"psysml:b337f31d-c5a0-436f-953f-431d96e2f8f6\" target=\"_top\" title=\"psysml:b337f31d-c5a0-436f-953f-431d96e2f8f6\" xlink:actuate=\"onRequest\" xlink:href=\"psysml:b337f31d-c5a0-436f-953f-431d96e2f8f6\" xlink:show=\"new\" xlink:title=\"psysml:b337f31d-c5a0-436f-953f-431d96e2f8f6\" xlink:type=\"simple\"><path d=\"M192.41,167.36 C239.07,145.96 307.05,118.5 370,107 C481.49,86.64 513.13,88.85 625,107 C646.13,110.43 668.58,117.05 688.27,123.93 \" fill=\"none\" id=\"E5&lt;-E9\" style=\"stroke: #383838; stroke-width: 1.0;\"/><polygon fill=\"#FFFFFF\" points=\"180.43,172.93,187.5576,174.0245,191.3092,167.8662,184.1817,166.7717,180.43,172.93\" style=\"stroke: #383838; stroke-width: 1.0;\"/><text fill=\"#000000\" font-family=\"sans-serif\" font-size=\"13\" lengthAdjust=\"spacingAndGlyphs\" textLength=\"8\" x=\"663.6801\" y=\"112.8075\">1</text></a><!--MD5=[5c3bb36fe832a92c7f0e1807dd65209d]\n",
       "link E9 to E2--><a href=\"psysml:a6a00959-a343-466b-bcfe-643c8c056808\" target=\"_top\" title=\"psysml:a6a00959-a343-466b-bcfe-643c8c056808\" xlink:actuate=\"onRequest\" xlink:href=\"psysml:a6a00959-a343-466b-bcfe-643c8c056808\" xlink:show=\"new\" xlink:title=\"psysml:a6a00959-a343-466b-bcfe-643c8c056808\" xlink:type=\"simple\"><path d=\"M810.77,170.08 C828.75,175.79 848.46,181.32 867,185 C923.79,196.27 990.02,200.85 1035.46,202.72 \" fill=\"none\" id=\"E9-&gt;E2\" style=\"stroke: #383838; stroke-width: 1.0;\"/><polygon fill=\"#FFFFFF\" points=\"1055.67,203.43,1036.4366,209.7606,1036.9267,195.7692,1055.67,203.43\" style=\"stroke: #383838; stroke-width: 1.0;\"/><ellipse cx=\"1030.8101\" cy=\"207.5623\" fill=\"#383838\" rx=\"2\" ry=\"2\" style=\"stroke: #383838; stroke-width: 1.0;\"/><ellipse cx=\"1031.1602\" cy=\"197.5685\" fill=\"#383838\" rx=\"2\" ry=\"2\" style=\"stroke: #383838; stroke-width: 1.0;\"/></a><!--MD5=[49285a7437f8f913b921be9a0a3b4377]\n",
       "@startuml\r\n",
       "left to right direction\r\n",
       "skinparam monochrome true\r\n",
       "skinparam classbackgroundcolor white\r\n",
       "skinparam shadowing false\r\n",
       "skinparam wrapWidth 300\r\n",
       "hide circle\r\n",
       "\r\n",
       "package \"TradeStudyTest\" as E1  [[psysml:57f8a98c-5718-48d8-9b9a-5c4650640602 ]]  {\r\n",
       "comp def \"Engine\" as E2  <<(T,blue) part  def>> [[psysml:6445380e-76a1-4d64-a2e6-1c63aec68392 ]] {\r\n",
       "}\r\n",
       "comp usage \"engine1: Engine \" as E3  <<(T,blue) part>> [[psysml:e07cfc3f-c273-4e94-9cbe-d128d50ec860 ]] {\r\n",
       "}\r\n",
       "comp usage \"engine2: Engine \" as E4  <<(T,blue) part>> [[psysml:d9e10f1c-39bd-473d-af93-7c118d42db3b ]] {\r\n",
       "}\r\n",
       "comp usage \"engineTradeStudy: TradeStudy \" as E5 << analysis>> [[psysml:f9c838ee-65e7-4043-9f07-1b30ef92e49c ]] {\r\n",
       "}\r\n",
       "comp usage \"tradeStudyObjective: MaximizeObjective \" as E6  <<(T,blue) requirement>> [[psysml:38fbb285-8167-4e3f-bee3-2164ba524da7 ]] {\r\n",
       "}\r\n",
       "comp usage \"objectiveFunction\" as E7  <<(T,blue) calculation>> [[psysml:658dce09-b71c-4e6e-94c9-a3c46617ebc8 ]] {\r\n",
       "}\r\n",
       "comp usage \"alternative: Engine \" as E8  <<(T,blue) part>> [[psysml:3dbf099d-922d-4ace-9ccd-679bba93319b ]] {\r\n",
       "}\r\n",
       "comp usage \"selectedAlternative: Engine \" as E9  <<(T,blue) part>> [[psysml:5fb9bd76-5535-468b-bb8f-88cd6f109fe8 ]] {\r\n",
       "}\r\n",
       "}\r\n",
       "E3 - -:|> E2 [[psysml:8b560a74-32d8-45cc-8c0e-f8d7e14b884a ]] \r\n",
       "E4 - -:|> E2 [[psysml:7f518d85-a598-4692-a186-0ec59d25f08f ]] \r\n",
       "E5 ..> E2 [[psysml:8e91b88f-f820-4b3f-bc7b-6a32144645a0 ]] : <<subject>>\r\n",
       "E5 - ->> E6 [[psysml:a6ebdbd2-b0f8-4e64-baff-f91dc99eb3fc ]] : <<objective>>\r\n",
       "E5 *- - E7 [[psysml:1d968e51-2f45-472a-9c8d-b659e8169068 ]] \r\n",
       "E7 o- - \"1\"E8 [[psysml:762eee8a-df65-48ef-8994-f8166e9b75f6 ]] \r\n",
       "E8 - -:|> E2 [[psysml:b4a53d37-cc69-46b7-9c1e-d748cdbb7a31 ]] \r\n",
       "E5 o- - \"1\"E9 [[psysml:b337f31d-c5a0-436f-953f-431d96e2f8f6 ]] \r\n",
       "E9 - -:|> E2 [[psysml:a6a00959-a343-466b-bcfe-643c8c056808 ]] \r\n",
       "@enduml\r\n",
       "\n",
       "PlantUML version 1.2020.13(Sat Jun 13 12:26:38 UTC 2020)\n",
       "(EPL source distribution)\n",
       "Java Runtime: OpenJDK Runtime Environment\n",
       "JVM: OpenJDK 64-Bit Server VM\n",
       "Default Encoding: UTF-8\n",
       "Language: en\n",
       "Country: null\n",
       "--></g></svg>"
      ]
     },
     "execution_count": 16,
     "metadata": {},
     "output_type": "execute_result"
    }
   ],
   "source": [
    "%viz --style=\"LR\" --view=\"Default\" \"TradeStudyTest\""
   ]
  },
  {
   "cell_type": "code",
   "execution_count": 17,
   "id": "5dfdd656",
   "metadata": {
    "execution": {
     "iopub.execute_input": "2021-11-13T13:01:39.354247Z",
     "iopub.status.busy": "2021-11-13T13:01:39.353832Z",
     "iopub.status.idle": "2021-11-13T13:01:39.402682Z",
     "shell.execute_reply": "2021-11-13T13:01:39.402482Z"
    }
   },
   "outputs": [
    {
     "data": {
      "image/svg+xml": [
       "<?xml version=\"1.0\" encoding=\"UTF-8\" standalone=\"no\"?><svg xmlns=\"http://www.w3.org/2000/svg\" xmlns:xlink=\"http://www.w3.org/1999/xlink\" contentScriptType=\"application/ecmascript\" contentStyleType=\"text/css\" height=\"351px\" preserveAspectRatio=\"none\" style=\"width:1164px;height:351px;\" version=\"1.1\" viewBox=\"0 0 1164 351\" width=\"1164px\" zoomAndPan=\"magnify\"><defs/><g><!--MD5=[fbc87193dbaf4d95561dea2c320d4a47]\n",
       "cluster E1--><a href=\"psysml:57f8a98c-5718-48d8-9b9a-5c4650640602\" target=\"_top\" title=\"psysml:57f8a98c-5718-48d8-9b9a-5c4650640602\" xlink:actuate=\"onRequest\" xlink:href=\"psysml:57f8a98c-5718-48d8-9b9a-5c4650640602\" xlink:show=\"new\" xlink:title=\"psysml:57f8a98c-5718-48d8-9b9a-5c4650640602\" xlink:type=\"simple\"><polygon fill=\"#FFFFFF\" points=\"16,6,132,6,139,28.2969,1142,28.2969,1142,339,16,339,16,6\" style=\"stroke: #000000; stroke-width: 1.5;\"/><line style=\"stroke: #000000; stroke-width: 1.5;\" x1=\"16\" x2=\"139\" y1=\"28.2969\" y2=\"28.2969\"/><text fill=\"#000000\" font-family=\"sans-serif\" font-size=\"14\" font-weight=\"bold\" lengthAdjust=\"spacingAndGlyphs\" textLength=\"110\" x=\"20\" y=\"20.9951\">TradeStudyTest</text></a><!--MD5=[b4997ac47864f28c2f74865a473b2911]\n",
       "class E2--><a href=\"psysml:6445380e-76a1-4d64-a2e6-1c63aec68392\" target=\"_top\" title=\"psysml:6445380e-76a1-4d64-a2e6-1c63aec68392\" xlink:actuate=\"onRequest\" xlink:href=\"psysml:6445380e-76a1-4d64-a2e6-1c63aec68392\" xlink:show=\"new\" xlink:title=\"psysml:6445380e-76a1-4d64-a2e6-1c63aec68392\" xlink:type=\"simple\"><rect fill=\"#FFFFFF\" height=\"45.9375\" id=\"E2\" style=\"stroke: #383838; stroke-width: 1.5;\" width=\"70\" x=\"1056\" y=\"181\"/><text fill=\"#000000\" font-family=\"sans-serif\" font-size=\"12\" font-style=\"italic\" lengthAdjust=\"spacingAndGlyphs\" textLength=\"68\" x=\"1057\" y=\"197.1387\">«part  def»</text><text fill=\"#000000\" font-family=\"sans-serif\" font-size=\"12\" lengthAdjust=\"spacingAndGlyphs\" textLength=\"43\" x=\"1069.5\" y=\"211.1074\">Engine</text><line style=\"stroke: #383838; stroke-width: 1.5;\" x1=\"1057\" x2=\"1125\" y1=\"218.9375\" y2=\"218.9375\"/></a><!--MD5=[09b614a08d8cba4a07c9adeb5e0fee81]\n",
       "class E3--><a href=\"psysml:e07cfc3f-c273-4e94-9cbe-d128d50ec860\" target=\"_top\" title=\"psysml:e07cfc3f-c273-4e94-9cbe-d128d50ec860\" xlink:actuate=\"onRequest\" xlink:href=\"psysml:e07cfc3f-c273-4e94-9cbe-d128d50ec860\" xlink:show=\"new\" xlink:title=\"psysml:e07cfc3f-c273-4e94-9cbe-d128d50ec860\" xlink:type=\"simple\"><rect fill=\"#FFFFFF\" height=\"45.9375\" id=\"E3\" rx=\"10\" ry=\"10\" style=\"stroke: #383838; stroke-width: 1.5;\" width=\"112\" x=\"875\" y=\"41\"/><text fill=\"#000000\" font-family=\"sans-serif\" font-size=\"12\" font-style=\"italic\" lengthAdjust=\"spacingAndGlyphs\" textLength=\"40\" x=\"911\" y=\"57.1387\">«part»</text><text fill=\"#000000\" font-family=\"sans-serif\" font-size=\"12\" lengthAdjust=\"spacingAndGlyphs\" textLength=\"102\" x=\"878\" y=\"71.1074\">engine1: Engine</text><line style=\"stroke: #383838; stroke-width: 1.5;\" x1=\"876\" x2=\"986\" y1=\"78.9375\" y2=\"78.9375\"/></a><!--MD5=[ebbe1d658d1005bcc118a6aa81145e00]\n",
       "class E4--><a href=\"psysml:d9e10f1c-39bd-473d-af93-7c118d42db3b\" target=\"_top\" title=\"psysml:d9e10f1c-39bd-473d-af93-7c118d42db3b\" xlink:actuate=\"onRequest\" xlink:href=\"psysml:d9e10f1c-39bd-473d-af93-7c118d42db3b\" xlink:show=\"new\" xlink:title=\"psysml:d9e10f1c-39bd-473d-af93-7c118d42db3b\" xlink:type=\"simple\"><rect fill=\"#FFFFFF\" height=\"45.9375\" id=\"E4\" rx=\"10\" ry=\"10\" style=\"stroke: #383838; stroke-width: 1.5;\" width=\"112\" x=\"875\" y=\"122\"/><text fill=\"#000000\" font-family=\"sans-serif\" font-size=\"12\" font-style=\"italic\" lengthAdjust=\"spacingAndGlyphs\" textLength=\"40\" x=\"911\" y=\"138.1387\">«part»</text><text fill=\"#000000\" font-family=\"sans-serif\" font-size=\"12\" lengthAdjust=\"spacingAndGlyphs\" textLength=\"102\" x=\"878\" y=\"152.1074\">engine2: Engine</text><line style=\"stroke: #383838; stroke-width: 1.5;\" x1=\"876\" x2=\"986\" y1=\"159.9375\" y2=\"159.9375\"/></a><!--MD5=[270fce915f116d4de14055a7c1d9a0f3]\n",
       "class E5--><a href=\"psysml:f9c838ee-65e7-4043-9f07-1b30ef92e49c\" target=\"_top\" title=\"psysml:f9c838ee-65e7-4043-9f07-1b30ef92e49c\" xlink:actuate=\"onRequest\" xlink:href=\"psysml:f9c838ee-65e7-4043-9f07-1b30ef92e49c\" xlink:show=\"new\" xlink:title=\"psysml:f9c838ee-65e7-4043-9f07-1b30ef92e49c\" xlink:type=\"simple\"><rect fill=\"#FFFFFF\" height=\"45.9375\" id=\"E5\" rx=\"10\" ry=\"10\" style=\"stroke: #383838; stroke-width: 1.5;\" width=\"203\" x=\"32\" y=\"173\"/><text fill=\"#000000\" font-family=\"sans-serif\" font-size=\"12\" font-style=\"italic\" lengthAdjust=\"spacingAndGlyphs\" textLength=\"64\" x=\"101.5\" y=\"189.1387\">«analysis»</text><text fill=\"#000000\" font-family=\"sans-serif\" font-size=\"12\" lengthAdjust=\"spacingAndGlyphs\" textLength=\"193\" x=\"35\" y=\"203.1074\">engineTradeStudy: TradeStudy</text><line style=\"stroke: #383838; stroke-width: 1.5;\" x1=\"33\" x2=\"234\" y1=\"210.9375\" y2=\"210.9375\"/></a><!--MD5=[60a26617385b1d2d0262a64233df1f8d]\n",
       "class E6--><a href=\"psysml:38fbb285-8167-4e3f-bee3-2164ba524da7\" target=\"_top\" title=\"psysml:38fbb285-8167-4e3f-bee3-2164ba524da7\" xlink:actuate=\"onRequest\" xlink:href=\"psysml:38fbb285-8167-4e3f-bee3-2164ba524da7\" xlink:show=\"new\" xlink:title=\"psysml:38fbb285-8167-4e3f-bee3-2164ba524da7\" xlink:type=\"simple\"><rect fill=\"#FFFFFF\" height=\"45.9375\" id=\"E6\" rx=\"10\" ry=\"10\" style=\"stroke: #383838; stroke-width: 1.5;\" width=\"255\" x=\"370\" y=\"206\"/><text fill=\"#000000\" font-family=\"sans-serif\" font-size=\"12\" font-style=\"italic\" lengthAdjust=\"spacingAndGlyphs\" textLength=\"91\" x=\"452\" y=\"222.1387\">«requirement»</text><text fill=\"#000000\" font-family=\"sans-serif\" font-size=\"12\" lengthAdjust=\"spacingAndGlyphs\" textLength=\"245\" x=\"373\" y=\"236.1074\">tradeStudyObjective: MaximizeObjective</text><line style=\"stroke: #383838; stroke-width: 1.5;\" x1=\"371\" x2=\"624\" y1=\"243.9375\" y2=\"243.9375\"/></a><!--MD5=[2156ba9850f5573cc1fc38a6a4b2f02b]\n",
       "class E7--><a href=\"psysml:658dce09-b71c-4e6e-94c9-a3c46617ebc8\" target=\"_top\" title=\"psysml:658dce09-b71c-4e6e-94c9-a3c46617ebc8\" xlink:actuate=\"onRequest\" xlink:href=\"psysml:658dce09-b71c-4e6e-94c9-a3c46617ebc8\" xlink:show=\"new\" xlink:title=\"psysml:658dce09-b71c-4e6e-94c9-a3c46617ebc8\" xlink:type=\"simple\"><rect fill=\"#FFFFFF\" height=\"45.9375\" id=\"E7\" rx=\"10\" ry=\"10\" style=\"stroke: #383838; stroke-width: 1.5;\" width=\"116\" x=\"439.5\" y=\"125\"/><text fill=\"#000000\" font-family=\"sans-serif\" font-size=\"12\" font-style=\"italic\" lengthAdjust=\"spacingAndGlyphs\" textLength=\"82\" x=\"456.5\" y=\"141.1387\">«calculation»</text><text fill=\"#000000\" font-family=\"sans-serif\" font-size=\"12\" lengthAdjust=\"spacingAndGlyphs\" textLength=\"110\" x=\"442.5\" y=\"155.1074\">objectiveFunction</text><line style=\"stroke: #383838; stroke-width: 1.5;\" x1=\"440.5\" x2=\"554.5\" y1=\"162.9375\" y2=\"162.9375\"/></a><!--MD5=[b9389687b975829384b498ac4b7476b2]\n",
       "class E8--><a href=\"psysml:3dbf099d-922d-4ace-9ccd-679bba93319b\" target=\"_top\" title=\"psysml:3dbf099d-922d-4ace-9ccd-679bba93319b\" xlink:actuate=\"onRequest\" xlink:href=\"psysml:3dbf099d-922d-4ace-9ccd-679bba93319b\" xlink:show=\"new\" xlink:title=\"psysml:3dbf099d-922d-4ace-9ccd-679bba93319b\" xlink:type=\"simple\"><rect fill=\"#FFFFFF\" height=\"45.9375\" id=\"E8\" rx=\"10\" ry=\"10\" style=\"stroke: #383838; stroke-width: 1.5;\" width=\"128\" x=\"867\" y=\"240\"/><text fill=\"#000000\" font-family=\"sans-serif\" font-size=\"12\" font-style=\"italic\" lengthAdjust=\"spacingAndGlyphs\" textLength=\"40\" x=\"911\" y=\"256.1387\">«part»</text><text fill=\"#000000\" font-family=\"sans-serif\" font-size=\"12\" lengthAdjust=\"spacingAndGlyphs\" textLength=\"118\" x=\"870\" y=\"270.1074\">alternative: Engine</text><line style=\"stroke: #383838; stroke-width: 1.5;\" x1=\"868\" x2=\"994\" y1=\"277.9375\" y2=\"277.9375\"/></a><!--MD5=[fd4143e9d270a159db93a4ea2a975926]\n",
       "class E9--><a href=\"psysml:5fb9bd76-5535-468b-bb8f-88cd6f109fe8\" target=\"_top\" title=\"psysml:5fb9bd76-5535-468b-bb8f-88cd6f109fe8\" xlink:actuate=\"onRequest\" xlink:href=\"psysml:5fb9bd76-5535-468b-bb8f-88cd6f109fe8\" xlink:show=\"new\" xlink:title=\"psysml:5fb9bd76-5535-468b-bb8f-88cd6f109fe8\" xlink:type=\"simple\"><rect fill=\"#FFFFFF\" height=\"45.9375\" id=\"E9\" rx=\"10\" ry=\"10\" style=\"stroke: #383838; stroke-width: 1.5;\" width=\"182\" x=\"655\" y=\"124\"/><text fill=\"#000000\" font-family=\"sans-serif\" font-size=\"12\" font-style=\"italic\" lengthAdjust=\"spacingAndGlyphs\" textLength=\"40\" x=\"726\" y=\"140.1387\">«part»</text><text fill=\"#000000\" font-family=\"sans-serif\" font-size=\"12\" lengthAdjust=\"spacingAndGlyphs\" textLength=\"172\" x=\"658\" y=\"154.1074\">selectedAlternative: Engine</text><line style=\"stroke: #383838; stroke-width: 1.5;\" x1=\"656\" x2=\"836\" y1=\"161.9375\" y2=\"161.9375\"/></a><!--MD5=[05d275557350bfb9b23a4ef7222b4c39]\n",
       "link E3 to E2--><a href=\"psysml:8b560a74-32d8-45cc-8c0e-f8d7e14b884a\" target=\"_top\" title=\"psysml:8b560a74-32d8-45cc-8c0e-f8d7e14b884a\" xlink:actuate=\"onRequest\" xlink:href=\"psysml:8b560a74-32d8-45cc-8c0e-f8d7e14b884a\" xlink:show=\"new\" xlink:title=\"psysml:8b560a74-32d8-45cc-8c0e-f8d7e14b884a\" xlink:type=\"simple\"><path d=\"M971.69,87.1 C979.66,92.32 987.8,98.07 995,104 C1017.39,122.42 1039.86,145.79 1057.32,165.3 \" fill=\"none\" id=\"E3-&gt;E2\" style=\"stroke: #383838; stroke-width: 1.0;\"/><polygon fill=\"#FFFFFF\" points=\"1070.69,180.6,1052.9071,170.9166,1063.4401,161.6939,1070.69,180.6\" style=\"stroke: #383838; stroke-width: 1.0;\"/><ellipse cx=\"1050.6569\" cy=\"165.3106\" fill=\"#383838\" rx=\"2\" ry=\"2\" style=\"stroke: #383838; stroke-width: 1.0;\"/><ellipse cx=\"1058.1805\" cy=\"158.723\" fill=\"#383838\" rx=\"2\" ry=\"2\" style=\"stroke: #383838; stroke-width: 1.0;\"/></a><!--MD5=[185131fc0dcab0a4505a2ebe144e961b]\n",
       "link E4 to E2--><a href=\"psysml:7f518d85-a598-4692-a186-0ec59d25f08f\" target=\"_top\" title=\"psysml:7f518d85-a598-4692-a186-0ec59d25f08f\" xlink:actuate=\"onRequest\" xlink:href=\"psysml:7f518d85-a598-4692-a186-0ec59d25f08f\" xlink:show=\"new\" xlink:title=\"psysml:7f518d85-a598-4692-a186-0ec59d25f08f\" xlink:type=\"simple\"><path d=\"M987.26,165.64 C1003.37,171.65 1020.93,178.21 1036.9,184.17 \" fill=\"none\" id=\"E4-&gt;E2\" style=\"stroke: #383838; stroke-width: 1.0;\"/><polygon fill=\"#FFFFFF\" points=\"1055.72,191.2,1035.4717,191.11,1040.3699,177.9949,1055.72,191.2\" style=\"stroke: #383838; stroke-width: 1.0;\"/><ellipse cx=\"1030.8317\" cy=\"187.2422\" fill=\"#383838\" rx=\"2\" ry=\"2\" style=\"stroke: #383838; stroke-width: 1.0;\"/><ellipse cx=\"1034.3304\" cy=\"177.8742\" fill=\"#383838\" rx=\"2\" ry=\"2\" style=\"stroke: #383838; stroke-width: 1.0;\"/></a><!--MD5=[15ebcb19ae302d9b601edb458606d402]\n",
       "link E5 to E2--><a href=\"psysml:8e91b88f-f820-4b3f-bc7b-6a32144645a0\" target=\"_top\" title=\"psysml:8e91b88f-f820-4b3f-bc7b-6a32144645a0\" xlink:actuate=\"onRequest\" xlink:href=\"psysml:8e91b88f-f820-4b3f-bc7b-6a32144645a0\" xlink:show=\"new\" xlink:title=\"psysml:8e91b88f-f820-4b3f-bc7b-6a32144645a0\" xlink:type=\"simple\"><path d=\"M195.5,219.17 C242.48,235.96 309.42,257.63 370,269 C587.64,309.83 645.7,296.22 867,304 C923.85,306 942.72,326.44 995,304 C1029.18,289.33 1056.86,255.64 1073.34,231.42 \" fill=\"none\" id=\"E5-&gt;E2\" style=\"stroke: #383838; stroke-width: 1.0; stroke-dasharray: 7.0,7.0;\"/><polygon fill=\"#383838\" points=\"1076.29,227.02,1067.9695,232.2897,1073.5165,231.1803,1074.6259,236.7273,1076.29,227.02\" style=\"stroke: #383838; stroke-width: 1.0;\"/><text fill=\"#000000\" font-family=\"sans-serif\" font-size=\"13\" lengthAdjust=\"spacingAndGlyphs\" textLength=\"62\" x=\"715\" y=\"297.0669\">«subject»</text></a><!--MD5=[9120cf2e5df3bff93db8f754bbbc09b4]\n",
       "link E5 to E6--><a href=\"psysml:a6ebdbd2-b0f8-4e64-baff-f91dc99eb3fc\" target=\"_top\" title=\"psysml:a6ebdbd2-b0f8-4e64-baff-f91dc99eb3fc\" xlink:actuate=\"onRequest\" xlink:href=\"psysml:a6ebdbd2-b0f8-4e64-baff-f91dc99eb3fc\" xlink:show=\"new\" xlink:title=\"psysml:a6ebdbd2-b0f8-4e64-baff-f91dc99eb3fc\" xlink:type=\"simple\"><path d=\"M235.34,205.19 C274.45,208.76 319.82,212.89 361.66,216.71 \" fill=\"none\" id=\"E5-&gt;E6\" style=\"stroke: #383838; stroke-width: 1.0;\"/><polygon fill=\"#383838\" points=\"369.7,217.44,362.0069,213.7231,361.4598,219.6981,369.7,217.44\" style=\"stroke: #383838; stroke-width: 1.0;\"/><text fill=\"#000000\" font-family=\"sans-serif\" font-size=\"13\" lengthAdjust=\"spacingAndGlyphs\" textLength=\"73\" x=\"266\" y=\"205.0669\">«objective»</text></a><!--MD5=[452b418e7f8a40397a49b8c0a78acc5b]\n",
       "reverse link E5 to E7--><a href=\"psysml:1d968e51-2f45-472a-9c8d-b659e8169068\" target=\"_top\" title=\"psysml:1d968e51-2f45-472a-9c8d-b659e8169068\" xlink:actuate=\"onRequest\" xlink:href=\"psysml:1d968e51-2f45-472a-9c8d-b659e8169068\" xlink:show=\"new\" xlink:title=\"psysml:1d968e51-2f45-472a-9c8d-b659e8169068\" xlink:type=\"simple\"><path d=\"M248.27,180.91 C311.78,172.49 388.16,162.37 439.27,155.59 \" fill=\"none\" id=\"E5&lt;-E7\" style=\"stroke: #383838; stroke-width: 1.0;\"/><polygon fill=\"#383838\" points=\"235.34,182.63,241.8116,185.8109,247.2369,181.0605,240.7653,177.8796,235.34,182.63\" style=\"stroke: #383838; stroke-width: 1.0;\"/></a><!--MD5=[dc164f5e8a733ab456ef1add180e9e34]\n",
       "reverse link E7 to E8--><a href=\"psysml:762eee8a-df65-48ef-8994-f8166e9b75f6\" target=\"_top\" title=\"psysml:762eee8a-df65-48ef-8994-f8166e9b75f6\" xlink:actuate=\"onRequest\" xlink:href=\"psysml:762eee8a-df65-48ef-8994-f8166e9b75f6\" xlink:show=\"new\" xlink:title=\"psysml:762eee8a-df65-48ef-8994-f8166e9b75f6\" xlink:type=\"simple\"><path d=\"M568.59,166.68 C651.22,188.7 787.36,224.98 866.85,246.17 \" fill=\"none\" id=\"E7&lt;-E8\" style=\"stroke: #383838; stroke-width: 1.0;\"/><polygon fill=\"#FFFFFF\" points=\"555.8,163.27,560.5706,168.6775,567.397,166.3537,562.6264,160.9462,555.8,163.27\" style=\"stroke: #383838; stroke-width: 1.0;\"/><text fill=\"#000000\" font-family=\"sans-serif\" font-size=\"13\" lengthAdjust=\"spacingAndGlyphs\" textLength=\"8\" x=\"850.9702\" y=\"257.1694\">1</text></a><!--MD5=[f1f3f9f2fc535e6147756cb86a7f2e32]\n",
       "link E8 to E2--><a href=\"psysml:b4a53d37-cc69-46b7-9c1e-d748cdbb7a31\" target=\"_top\" title=\"psysml:b4a53d37-cc69-46b7-9c1e-d748cdbb7a31\" xlink:actuate=\"onRequest\" xlink:href=\"psysml:b4a53d37-cc69-46b7-9c1e-d748cdbb7a31\" xlink:show=\"new\" xlink:title=\"psysml:b4a53d37-cc69-46b7-9c1e-d748cdbb7a31\" xlink:type=\"simple\"><path d=\"M993.99,239.85 C1008.17,234.56 1023.11,228.98 1036.87,223.84 \" fill=\"none\" id=\"E8-&gt;E2\" style=\"stroke: #383838; stroke-width: 1.0;\"/><polygon fill=\"#FFFFFF\" points=\"1055.96,216.71,1040.6044,229.9087,1035.7117,216.7915,1055.96,216.71\" style=\"stroke: #383838; stroke-width: 1.0;\"/><ellipse cx=\"1034.5649\" cy=\"230.0268\" fill=\"#383838\" rx=\"2\" ry=\"2\" style=\"stroke: #383838; stroke-width: 1.0;\"/><ellipse cx=\"1031.0701\" cy=\"220.6574\" fill=\"#383838\" rx=\"2\" ry=\"2\" style=\"stroke: #383838; stroke-width: 1.0;\"/></a><!--MD5=[9ae28de373ca99bb8a1b38d63370ca7e]\n",
       "reverse link E5 to E9--><a href=\"psysml:b337f31d-c5a0-436f-953f-431d96e2f8f6\" target=\"_top\" title=\"psysml:b337f31d-c5a0-436f-953f-431d96e2f8f6\" xlink:actuate=\"onRequest\" xlink:href=\"psysml:b337f31d-c5a0-436f-953f-431d96e2f8f6\" xlink:show=\"new\" xlink:title=\"psysml:b337f31d-c5a0-436f-953f-431d96e2f8f6\" xlink:type=\"simple\"><path d=\"M192.41,167.36 C239.07,145.96 307.05,118.5 370,107 C481.49,86.64 513.13,88.85 625,107 C646.13,110.43 668.58,117.05 688.27,123.93 \" fill=\"none\" id=\"E5&lt;-E9\" style=\"stroke: #383838; stroke-width: 1.0;\"/><polygon fill=\"#FFFFFF\" points=\"180.43,172.93,187.5576,174.0245,191.3092,167.8662,184.1817,166.7717,180.43,172.93\" style=\"stroke: #383838; stroke-width: 1.0;\"/><text fill=\"#000000\" font-family=\"sans-serif\" font-size=\"13\" lengthAdjust=\"spacingAndGlyphs\" textLength=\"8\" x=\"663.6801\" y=\"112.8075\">1</text></a><!--MD5=[5c3bb36fe832a92c7f0e1807dd65209d]\n",
       "link E9 to E2--><a href=\"psysml:a6a00959-a343-466b-bcfe-643c8c056808\" target=\"_top\" title=\"psysml:a6a00959-a343-466b-bcfe-643c8c056808\" xlink:actuate=\"onRequest\" xlink:href=\"psysml:a6a00959-a343-466b-bcfe-643c8c056808\" xlink:show=\"new\" xlink:title=\"psysml:a6a00959-a343-466b-bcfe-643c8c056808\" xlink:type=\"simple\"><path d=\"M810.77,170.08 C828.75,175.79 848.46,181.32 867,185 C923.79,196.27 990.02,200.85 1035.46,202.72 \" fill=\"none\" id=\"E9-&gt;E2\" style=\"stroke: #383838; stroke-width: 1.0;\"/><polygon fill=\"#FFFFFF\" points=\"1055.67,203.43,1036.4366,209.7606,1036.9267,195.7692,1055.67,203.43\" style=\"stroke: #383838; stroke-width: 1.0;\"/><ellipse cx=\"1030.8101\" cy=\"207.5623\" fill=\"#383838\" rx=\"2\" ry=\"2\" style=\"stroke: #383838; stroke-width: 1.0;\"/><ellipse cx=\"1031.1602\" cy=\"197.5685\" fill=\"#383838\" rx=\"2\" ry=\"2\" style=\"stroke: #383838; stroke-width: 1.0;\"/></a><!--MD5=[49285a7437f8f913b921be9a0a3b4377]\n",
       "@startuml\r\n",
       "left to right direction\r\n",
       "skinparam monochrome true\r\n",
       "skinparam classbackgroundcolor white\r\n",
       "skinparam shadowing false\r\n",
       "skinparam wrapWidth 300\r\n",
       "hide circle\r\n",
       "\r\n",
       "package \"TradeStudyTest\" as E1  [[psysml:57f8a98c-5718-48d8-9b9a-5c4650640602 ]]  {\r\n",
       "comp def \"Engine\" as E2  <<(T,blue) part  def>> [[psysml:6445380e-76a1-4d64-a2e6-1c63aec68392 ]] {\r\n",
       "}\r\n",
       "comp usage \"engine1: Engine \" as E3  <<(T,blue) part>> [[psysml:e07cfc3f-c273-4e94-9cbe-d128d50ec860 ]] {\r\n",
       "}\r\n",
       "comp usage \"engine2: Engine \" as E4  <<(T,blue) part>> [[psysml:d9e10f1c-39bd-473d-af93-7c118d42db3b ]] {\r\n",
       "}\r\n",
       "comp usage \"engineTradeStudy: TradeStudy \" as E5 << analysis>> [[psysml:f9c838ee-65e7-4043-9f07-1b30ef92e49c ]] {\r\n",
       "}\r\n",
       "comp usage \"tradeStudyObjective: MaximizeObjective \" as E6  <<(T,blue) requirement>> [[psysml:38fbb285-8167-4e3f-bee3-2164ba524da7 ]] {\r\n",
       "}\r\n",
       "comp usage \"objectiveFunction\" as E7  <<(T,blue) calculation>> [[psysml:658dce09-b71c-4e6e-94c9-a3c46617ebc8 ]] {\r\n",
       "}\r\n",
       "comp usage \"alternative: Engine \" as E8  <<(T,blue) part>> [[psysml:3dbf099d-922d-4ace-9ccd-679bba93319b ]] {\r\n",
       "}\r\n",
       "comp usage \"selectedAlternative: Engine \" as E9  <<(T,blue) part>> [[psysml:5fb9bd76-5535-468b-bb8f-88cd6f109fe8 ]] {\r\n",
       "}\r\n",
       "}\r\n",
       "E3 - -:|> E2 [[psysml:8b560a74-32d8-45cc-8c0e-f8d7e14b884a ]] \r\n",
       "E4 - -:|> E2 [[psysml:7f518d85-a598-4692-a186-0ec59d25f08f ]] \r\n",
       "E5 ..> E2 [[psysml:8e91b88f-f820-4b3f-bc7b-6a32144645a0 ]] : <<subject>>\r\n",
       "E5 - ->> E6 [[psysml:a6ebdbd2-b0f8-4e64-baff-f91dc99eb3fc ]] : <<objective>>\r\n",
       "E5 *- - E7 [[psysml:1d968e51-2f45-472a-9c8d-b659e8169068 ]] \r\n",
       "E7 o- - \"1\"E8 [[psysml:762eee8a-df65-48ef-8994-f8166e9b75f6 ]] \r\n",
       "E8 - -:|> E2 [[psysml:b4a53d37-cc69-46b7-9c1e-d748cdbb7a31 ]] \r\n",
       "E5 o- - \"1\"E9 [[psysml:b337f31d-c5a0-436f-953f-431d96e2f8f6 ]] \r\n",
       "E9 - -:|> E2 [[psysml:a6a00959-a343-466b-bcfe-643c8c056808 ]] \r\n",
       "@enduml\r\n",
       "\n",
       "PlantUML version 1.2020.13(Sat Jun 13 12:26:38 UTC 2020)\n",
       "(EPL source distribution)\n",
       "Java Runtime: OpenJDK Runtime Environment\n",
       "JVM: OpenJDK 64-Bit Server VM\n",
       "Default Encoding: UTF-8\n",
       "Language: en\n",
       "Country: null\n",
       "--></g></svg>"
      ]
     },
     "execution_count": 17,
     "metadata": {},
     "output_type": "execute_result"
    }
   ],
   "source": [
    "%viz --style=\"LR\" --view=\"Tree\" \"TradeStudyTest\""
   ]
  },
  {
   "cell_type": "code",
   "execution_count": 18,
   "id": "524cbadc",
   "metadata": {
    "execution": {
     "iopub.execute_input": "2021-11-13T13:01:39.453414Z",
     "iopub.status.busy": "2021-11-13T13:01:39.452830Z",
     "iopub.status.idle": "2021-11-13T13:01:39.459254Z",
     "shell.execute_reply": "2021-11-13T13:01:39.459787Z"
    }
   },
   "outputs": [
    {
     "data": {
      "image/svg+xml": [
       "<?xml version=\"1.0\" encoding=\"UTF-8\" standalone=\"no\"?><svg xmlns=\"http://www.w3.org/2000/svg\" xmlns:xlink=\"http://www.w3.org/1999/xlink\" contentScriptType=\"application/ecmascript\" contentStyleType=\"text/css\" height=\"12px\" preserveAspectRatio=\"none\" style=\"width:12px;height:12px;\" version=\"1.1\" viewBox=\"0 0 12 12\" width=\"12px\" zoomAndPan=\"magnify\"><defs/><g><!--MD5=[19d285c9d72a204eba4e2cd117d745e8]\n",
       "@startuml\r\n",
       "left to right direction\r\n",
       "skinparam monochrome true\r\n",
       "skinparam classbackgroundcolor white\r\n",
       "skinparam shadowing false\r\n",
       "skinparam wrapWidth 300\r\n",
       "hide circle\r\n",
       "\r\n",
       "@enduml\r\n",
       "\n",
       "PlantUML version 1.2020.13(Sat Jun 13 12:26:38 UTC 2020)\n",
       "(EPL source distribution)\n",
       "Java Runtime: OpenJDK Runtime Environment\n",
       "JVM: OpenJDK 64-Bit Server VM\n",
       "Default Encoding: UTF-8\n",
       "Language: en\n",
       "Country: null\n",
       "--></g></svg>"
      ]
     },
     "execution_count": 18,
     "metadata": {},
     "output_type": "execute_result"
    }
   ],
   "source": [
    "%viz --style=\"LR\" --view=\"State\" \"TradeStudyTest\""
   ]
  },
  {
   "cell_type": "code",
   "execution_count": 19,
   "id": "4dd9f5e0",
   "metadata": {
    "execution": {
     "iopub.execute_input": "2021-11-13T13:01:39.508455Z",
     "iopub.status.busy": "2021-11-13T13:01:39.508094Z",
     "iopub.status.idle": "2021-11-13T13:01:39.554774Z",
     "shell.execute_reply": "2021-11-13T13:01:39.554343Z"
    }
   },
   "outputs": [
    {
     "data": {
      "image/svg+xml": [
       "<?xml version=\"1.0\" encoding=\"UTF-8\" standalone=\"no\"?><svg xmlns=\"http://www.w3.org/2000/svg\" xmlns:xlink=\"http://www.w3.org/1999/xlink\" contentScriptType=\"application/ecmascript\" contentStyleType=\"text/css\" height=\"270px\" preserveAspectRatio=\"none\" style=\"width:1037px;height:270px;\" version=\"1.1\" viewBox=\"0 0 1037 270\" width=\"1037px\" zoomAndPan=\"magnify\"><defs/><g><!--MD5=[fbc87193dbaf4d95561dea2c320d4a47]\n",
       "cluster E1--><a href=\"psysml:57f8a98c-5718-48d8-9b9a-5c4650640602\" target=\"_top\" title=\"psysml:57f8a98c-5718-48d8-9b9a-5c4650640602\" xlink:actuate=\"onRequest\" xlink:href=\"psysml:57f8a98c-5718-48d8-9b9a-5c4650640602\" xlink:show=\"new\" xlink:title=\"psysml:57f8a98c-5718-48d8-9b9a-5c4650640602\" xlink:type=\"simple\"><polygon fill=\"#FFFFFF\" points=\"16,6,132,6,139,28.2969,1015,28.2969,1015,258,16,258,16,6\" style=\"stroke: #000000; stroke-width: 1.5;\"/><line style=\"stroke: #000000; stroke-width: 1.5;\" x1=\"16\" x2=\"139\" y1=\"28.2969\" y2=\"28.2969\"/><text fill=\"#000000\" font-family=\"sans-serif\" font-size=\"14\" font-weight=\"bold\" lengthAdjust=\"spacingAndGlyphs\" textLength=\"110\" x=\"20\" y=\"20.9951\">TradeStudyTest</text></a><!--MD5=[270fce915f116d4de14055a7c1d9a0f3]\n",
       "class E5--><a href=\"psysml:f9c838ee-65e7-4043-9f07-1b30ef92e49c\" target=\"_top\" title=\"psysml:f9c838ee-65e7-4043-9f07-1b30ef92e49c\" xlink:actuate=\"onRequest\" xlink:href=\"psysml:f9c838ee-65e7-4043-9f07-1b30ef92e49c\" xlink:show=\"new\" xlink:title=\"psysml:f9c838ee-65e7-4043-9f07-1b30ef92e49c\" xlink:type=\"simple\"><rect fill=\"#FFFFFF\" height=\"45.9375\" id=\"E5\" rx=\"10\" ry=\"10\" style=\"stroke: #383838; stroke-width: 1.5;\" width=\"203\" x=\"32\" y=\"46\"/><text fill=\"#000000\" font-family=\"sans-serif\" font-size=\"12\" font-style=\"italic\" lengthAdjust=\"spacingAndGlyphs\" textLength=\"64\" x=\"101.5\" y=\"62.1387\">«analysis»</text><text fill=\"#000000\" font-family=\"sans-serif\" font-size=\"12\" lengthAdjust=\"spacingAndGlyphs\" textLength=\"193\" x=\"35\" y=\"76.1074\">engineTradeStudy: TradeStudy</text><line style=\"stroke: #383838; stroke-width: 1.5;\" x1=\"33\" x2=\"234\" y1=\"83.9375\" y2=\"83.9375\"/></a><!--MD5=[60a26617385b1d2d0262a64233df1f8d]\n",
       "class E6--><a href=\"psysml:38fbb285-8167-4e3f-bee3-2164ba524da7\" target=\"_top\" title=\"psysml:38fbb285-8167-4e3f-bee3-2164ba524da7\" xlink:actuate=\"onRequest\" xlink:href=\"psysml:38fbb285-8167-4e3f-bee3-2164ba524da7\" xlink:show=\"new\" xlink:title=\"psysml:38fbb285-8167-4e3f-bee3-2164ba524da7\" xlink:type=\"simple\"><rect fill=\"#FFFFFF\" height=\"45.9375\" id=\"E6\" rx=\"10\" ry=\"10\" style=\"stroke: #383838; stroke-width: 1.5;\" width=\"255\" x=\"326\" y=\"196\"/><text fill=\"#000000\" font-family=\"sans-serif\" font-size=\"12\" font-style=\"italic\" lengthAdjust=\"spacingAndGlyphs\" textLength=\"91\" x=\"408\" y=\"212.1387\">«requirement»</text><text fill=\"#000000\" font-family=\"sans-serif\" font-size=\"12\" lengthAdjust=\"spacingAndGlyphs\" textLength=\"245\" x=\"329\" y=\"226.1074\">tradeStudyObjective: MaximizeObjective</text><line style=\"stroke: #383838; stroke-width: 1.5;\" x1=\"327\" x2=\"580\" y1=\"233.9375\" y2=\"233.9375\"/></a><!--MD5=[2156ba9850f5573cc1fc38a6a4b2f02b]\n",
       "class E7--><a href=\"psysml:658dce09-b71c-4e6e-94c9-a3c46617ebc8\" target=\"_top\" title=\"psysml:658dce09-b71c-4e6e-94c9-a3c46617ebc8\" xlink:actuate=\"onRequest\" xlink:href=\"psysml:658dce09-b71c-4e6e-94c9-a3c46617ebc8\" xlink:show=\"new\" xlink:title=\"psysml:658dce09-b71c-4e6e-94c9-a3c46617ebc8\" xlink:type=\"simple\"><rect fill=\"#FFFFFF\" height=\"45.9375\" id=\"E7\" rx=\"10\" ry=\"10\" style=\"stroke: #383838; stroke-width: 1.5;\" width=\"116\" x=\"395.5\" y=\"115\"/><text fill=\"#000000\" font-family=\"sans-serif\" font-size=\"12\" font-style=\"italic\" lengthAdjust=\"spacingAndGlyphs\" textLength=\"82\" x=\"412.5\" y=\"131.1387\">«calculation»</text><text fill=\"#000000\" font-family=\"sans-serif\" font-size=\"12\" lengthAdjust=\"spacingAndGlyphs\" textLength=\"110\" x=\"398.5\" y=\"145.1074\">objectiveFunction</text><line style=\"stroke: #383838; stroke-width: 1.5;\" x1=\"396.5\" x2=\"510.5\" y1=\"152.9375\" y2=\"152.9375\"/></a><!--MD5=[b9389687b975829384b498ac4b7476b2]\n",
       "class E8--><a href=\"psysml:3dbf099d-922d-4ace-9ccd-679bba93319b\" target=\"_top\" title=\"psysml:3dbf099d-922d-4ace-9ccd-679bba93319b\" xlink:actuate=\"onRequest\" xlink:href=\"psysml:3dbf099d-922d-4ace-9ccd-679bba93319b\" xlink:show=\"new\" xlink:title=\"psysml:3dbf099d-922d-4ace-9ccd-679bba93319b\" xlink:type=\"simple\"><rect fill=\"#FFFFFF\" height=\"31.9688\" id=\"E8\" rx=\"10\" ry=\"10\" style=\"stroke: #383838; stroke-width: 1.5;\" width=\"128\" x=\"779\" y=\"131\"/><text fill=\"#000000\" font-family=\"sans-serif\" font-size=\"12\" lengthAdjust=\"spacingAndGlyphs\" textLength=\"118\" x=\"782\" y=\"147.1387\">alternative: Engine</text><line style=\"stroke: #383838; stroke-width: 1.5;\" x1=\"780\" x2=\"906\" y1=\"154.9688\" y2=\"154.9688\"/></a><!--MD5=[fd4143e9d270a159db93a4ea2a975926]\n",
       "class E9--><a href=\"psysml:5fb9bd76-5535-468b-bb8f-88cd6f109fe8\" target=\"_top\" title=\"psysml:5fb9bd76-5535-468b-bb8f-88cd6f109fe8\" xlink:actuate=\"onRequest\" xlink:href=\"psysml:5fb9bd76-5535-468b-bb8f-88cd6f109fe8\" xlink:show=\"new\" xlink:title=\"psysml:5fb9bd76-5535-468b-bb8f-88cd6f109fe8\" xlink:type=\"simple\"><rect fill=\"#FFFFFF\" height=\"31.9688\" id=\"E9\" rx=\"10\" ry=\"10\" style=\"stroke: #383838; stroke-width: 1.5;\" width=\"182\" x=\"589\" y=\"98\"/><text fill=\"#000000\" font-family=\"sans-serif\" font-size=\"12\" lengthAdjust=\"spacingAndGlyphs\" textLength=\"172\" x=\"592\" y=\"114.1387\">selectedAlternative: Engine</text><line style=\"stroke: #383838; stroke-width: 1.5;\" x1=\"590\" x2=\"770\" y1=\"121.9688\" y2=\"121.9688\"/></a><g id=\"E1.E2\"><a href=\"psysml:6445380e-76a1-4d64-a2e6-1c63aec68392\" target=\"_top\" title=\"psysml:6445380e-76a1-4d64-a2e6-1c63aec68392\" xlink:actuate=\"onRequest\" xlink:href=\"psysml:6445380e-76a1-4d64-a2e6-1c63aec68392\" xlink:show=\"new\" xlink:title=\"psysml:6445380e-76a1-4d64-a2e6-1c63aec68392\" xlink:type=\"simple\"><rect fill=\"#FFFFFF\" height=\"42.9375\" id=\"E2\" style=\"stroke: #383838; stroke-width: 1.5;\" width=\"75\" x=\"924\" y=\"73.5\"/><rect fill=\"#F8F8F8\" height=\"37.9375\" style=\"stroke: #383838; stroke-width: 1.5;\" width=\"75\" x=\"924\" y=\"73.5\"/><text fill=\"#000000\" font-family=\"sans-serif\" font-size=\"12\" font-style=\"italic\" lengthAdjust=\"spacingAndGlyphs\" textLength=\"68\" x=\"927.5\" y=\"89.6387\">«part  def»</text><text fill=\"#000000\" font-family=\"sans-serif\" font-size=\"12\" lengthAdjust=\"spacingAndGlyphs\" textLength=\"43\" x=\"940\" y=\"103.6074\">Engine</text></a></g><g id=\"E1.E3\"><a href=\"psysml:e07cfc3f-c273-4e94-9cbe-d128d50ec860\" target=\"_top\" title=\"psysml:e07cfc3f-c273-4e94-9cbe-d128d50ec860\" xlink:actuate=\"onRequest\" xlink:href=\"psysml:e07cfc3f-c273-4e94-9cbe-d128d50ec860\" xlink:show=\"new\" xlink:title=\"psysml:e07cfc3f-c273-4e94-9cbe-d128d50ec860\" xlink:type=\"simple\"><rect fill=\"#FFFFFF\" height=\"40\" id=\"E3\" rx=\"10\" ry=\"10\" style=\"stroke: #383838; stroke-width: 1.5;\" width=\"113\" x=\"77\" y=\"127\"/><rect fill=\"#F8F8F8\" height=\"23.9688\" rx=\"10\" ry=\"10\" style=\"stroke: #F8F8F8; stroke-width: 1.5;\" width=\"113\" x=\"77\" y=\"127\"/><rect fill=\"#F8F8F8\" height=\"10\" style=\"stroke: #F8F8F8; stroke-width: 1.5;\" width=\"113\" x=\"77\" y=\"140.9688\"/><rect fill=\"none\" height=\"40\" id=\"E3\" rx=\"10\" ry=\"10\" style=\"stroke: #383838; stroke-width: 1.5;\" width=\"113\" x=\"77\" y=\"127\"/><text fill=\"#000000\" font-family=\"sans-serif\" font-size=\"12\" lengthAdjust=\"spacingAndGlyphs\" textLength=\"102\" x=\"82.5\" y=\"143.1387\">engine1: Engine</text></a></g><g id=\"E1.E4\"><a href=\"psysml:d9e10f1c-39bd-473d-af93-7c118d42db3b\" target=\"_top\" title=\"psysml:d9e10f1c-39bd-473d-af93-7c118d42db3b\" xlink:actuate=\"onRequest\" xlink:href=\"psysml:d9e10f1c-39bd-473d-af93-7c118d42db3b\" xlink:show=\"new\" xlink:title=\"psysml:d9e10f1c-39bd-473d-af93-7c118d42db3b\" xlink:type=\"simple\"><rect fill=\"#FFFFFF\" height=\"40\" id=\"E4\" rx=\"10\" ry=\"10\" style=\"stroke: #383838; stroke-width: 1.5;\" width=\"113\" x=\"77\" y=\"202\"/><rect fill=\"#F8F8F8\" height=\"23.9688\" rx=\"10\" ry=\"10\" style=\"stroke: #F8F8F8; stroke-width: 1.5;\" width=\"113\" x=\"77\" y=\"202\"/><rect fill=\"#F8F8F8\" height=\"10\" style=\"stroke: #F8F8F8; stroke-width: 1.5;\" width=\"113\" x=\"77\" y=\"215.9688\"/><rect fill=\"none\" height=\"40\" id=\"E4\" rx=\"10\" ry=\"10\" style=\"stroke: #383838; stroke-width: 1.5;\" width=\"113\" x=\"77\" y=\"202\"/><text fill=\"#000000\" font-family=\"sans-serif\" font-size=\"12\" lengthAdjust=\"spacingAndGlyphs\" textLength=\"102\" x=\"82.5\" y=\"218.1387\">engine2: Engine</text></a></g><!--MD5=[15ebcb19ae302d9b601edb458606d402]\n",
       "link E5 to E2--><a href=\"psysml:8e91b88f-f820-4b3f-bc7b-6a32144645a0\" target=\"_top\" title=\"psysml:8e91b88f-f820-4b3f-bc7b-6a32144645a0\" xlink:actuate=\"onRequest\" xlink:href=\"psysml:8e91b88f-f820-4b3f-bc7b-6a32144645a0\" xlink:show=\"new\" xlink:title=\"psysml:8e91b88f-f820-4b3f-bc7b-6a32144645a0\" xlink:type=\"simple\"><path d=\"M235.46,66.03 C262.29,65.6 291.24,65.46 318,66 C583.94,71.33 650.78,69.8 916,90 C916.78,90.06 917.56,90.12 918.35,90.19 \" fill=\"none\" id=\"E5-&gt;E2\" style=\"stroke: #383838; stroke-width: 1.0; stroke-dasharray: 7.0,7.0;\"/><polygon fill=\"#383838\" points=\"923.61,90.65,914.9868,85.8918,918.6285,90.2206,914.2997,93.8622,923.61,90.65\" style=\"stroke: #383838; stroke-width: 1.0;\"/><text fill=\"#000000\" font-family=\"sans-serif\" font-size=\"13\" lengthAdjust=\"spacingAndGlyphs\" textLength=\"62\" x=\"649\" y=\"68.0669\">«subject»</text></a><!--MD5=[9120cf2e5df3bff93db8f754bbbc09b4]\n",
       "link E5 to E6--><a href=\"psysml:a6ebdbd2-b0f8-4e64-baff-f91dc99eb3fc\" target=\"_top\" title=\"psysml:a6ebdbd2-b0f8-4e64-baff-f91dc99eb3fc\" xlink:actuate=\"onRequest\" xlink:href=\"psysml:a6ebdbd2-b0f8-4e64-baff-f91dc99eb3fc\" xlink:show=\"new\" xlink:title=\"psysml:a6ebdbd2-b0f8-4e64-baff-f91dc99eb3fc\" xlink:type=\"simple\"><path d=\"M212.97,92.04 C221.1,96.72 228.68,102.31 235,109 C242.72,117.17 235.81,124.35 243,133 C269.95,165.44 287.26,162.34 326,179 C337.92,184.12 350.71,188.93 363.42,193.31 \" fill=\"none\" id=\"E5-&gt;E6\" style=\"stroke: #383838; stroke-width: 1.0;\"/><polygon fill=\"#383838\" points=\"371.31,195.98,364.6875,190.5817,362.7708,196.2673,371.31,195.98\" style=\"stroke: #383838; stroke-width: 1.0;\"/><text fill=\"#000000\" font-family=\"sans-serif\" font-size=\"13\" lengthAdjust=\"spacingAndGlyphs\" textLength=\"73\" x=\"244\" y=\"129.0669\">«objective»</text></a><!--MD5=[452b418e7f8a40397a49b8c0a78acc5b]\n",
       "reverse link E5 to E7--><a href=\"psysml:1d968e51-2f45-472a-9c8d-b659e8169068\" target=\"_top\" title=\"psysml:1d968e51-2f45-472a-9c8d-b659e8169068\" xlink:actuate=\"onRequest\" xlink:href=\"psysml:1d968e51-2f45-472a-9c8d-b659e8169068\" xlink:show=\"new\" xlink:title=\"psysml:1d968e51-2f45-472a-9c8d-b659e8169068\" xlink:type=\"simple\"><path d=\"M247.97,93.62 C297.82,104.44 354.18,116.67 395.1,125.54 \" fill=\"none\" id=\"E5&lt;-E7\" style=\"stroke: #383838; stroke-width: 1.0;\"/><polygon fill=\"#383838\" points=\"235.12,90.83,240.136,96.0107,246.8474,93.3731,241.8314,88.1924,235.12,90.83\" style=\"stroke: #383838; stroke-width: 1.0;\"/></a><!--MD5=[dc164f5e8a733ab456ef1add180e9e34]\n",
       "reverse link E7 to E8--><a href=\"psysml:762eee8a-df65-48ef-8994-f8166e9b75f6\" target=\"_top\" title=\"psysml:762eee8a-df65-48ef-8994-f8166e9b75f6\" xlink:actuate=\"onRequest\" xlink:href=\"psysml:762eee8a-df65-48ef-8994-f8166e9b75f6\" xlink:show=\"new\" xlink:title=\"psysml:762eee8a-df65-48ef-8994-f8166e9b75f6\" xlink:type=\"simple\"><path d=\"M524.72,139.63 C597.14,141.31 709.06,143.91 778.79,145.53 \" fill=\"none\" id=\"E7&lt;-E8\" style=\"stroke: #383838; stroke-width: 1.0;\"/><polygon fill=\"#FFFFFF\" points=\"511.68,139.33,517.5861,143.4674,523.6768,139.6068,517.7707,135.4695,511.68,139.33\" style=\"stroke: #383838; stroke-width: 1.0;\"/><text fill=\"#000000\" font-family=\"sans-serif\" font-size=\"13\" lengthAdjust=\"spacingAndGlyphs\" textLength=\"8\" x=\"762.9032\" y=\"158.3036\">1</text></a><!--MD5=[f1f3f9f2fc535e6147756cb86a7f2e32]\n",
       "link E8 to E2--><a href=\"psysml:b4a53d37-cc69-46b7-9c1e-d748cdbb7a31\" target=\"_top\" title=\"psysml:b4a53d37-cc69-46b7-9c1e-d748cdbb7a31\" xlink:actuate=\"onRequest\" xlink:href=\"psysml:b4a53d37-cc69-46b7-9c1e-d748cdbb7a31\" xlink:show=\"new\" xlink:title=\"psysml:b4a53d37-cc69-46b7-9c1e-d748cdbb7a31\" xlink:type=\"simple\"><path d=\"M879.9,130.97 C887.94,127.39 896.65,123.5 905.27,119.65 \" fill=\"none\" id=\"E8-&gt;E2\" style=\"stroke: #383838; stroke-width: 1.0;\"/><polygon fill=\"#FFFFFF\" points=\"923.71,111.42,909.2141,125.5575,903.5068,112.7736,923.71,111.42\" style=\"stroke: #383838; stroke-width: 1.0;\"/><ellipse cx=\"903.1939\" cy=\"126.0549\" fill=\"#383838\" rx=\"2\" ry=\"2\" style=\"stroke: #383838; stroke-width: 1.0;\"/><ellipse cx=\"899.1173\" cy=\"116.9236\" fill=\"#383838\" rx=\"2\" ry=\"2\" style=\"stroke: #383838; stroke-width: 1.0;\"/></a><!--MD5=[9ae28de373ca99bb8a1b38d63370ca7e]\n",
       "reverse link E5 to E9--><a href=\"psysml:b337f31d-c5a0-436f-953f-431d96e2f8f6\" target=\"_top\" title=\"psysml:b337f31d-c5a0-436f-953f-431d96e2f8f6\" xlink:actuate=\"onRequest\" xlink:href=\"psysml:b337f31d-c5a0-436f-953f-431d96e2f8f6\" xlink:show=\"new\" xlink:title=\"psysml:b337f31d-c5a0-436f-953f-431d96e2f8f6\" xlink:type=\"simple\"><path d=\"M248.47,72.72 C338.87,76.49 468.33,83.73 581,97 C583.57,97.3 586.18,97.63 588.81,97.97 \" fill=\"none\" id=\"E5&lt;-E9\" style=\"stroke: #383838; stroke-width: 1.0;\"/><polygon fill=\"#FFFFFF\" points=\"235.42,72.18,241.2524,76.4207,247.4101,72.668,241.5777,68.4273,235.42,72.18\" style=\"stroke: #383838; stroke-width: 1.0;\"/><text fill=\"#000000\" font-family=\"sans-serif\" font-size=\"13\" lengthAdjust=\"spacingAndGlyphs\" textLength=\"8\" x=\"572.9271\" y=\"109.3373\">1</text></a><!--MD5=[5c3bb36fe832a92c7f0e1807dd65209d]\n",
       "link E9 to E2--><a href=\"psysml:a6a00959-a343-466b-bcfe-643c8c056808\" target=\"_top\" title=\"psysml:a6a00959-a343-466b-bcfe-643c8c056808\" xlink:actuate=\"onRequest\" xlink:href=\"psysml:a6a00959-a343-466b-bcfe-643c8c056808\" xlink:show=\"new\" xlink:title=\"psysml:a6a00959-a343-466b-bcfe-643c8c056808\" xlink:type=\"simple\"><path d=\"M771.36,107.86 C814.89,104.9 865.76,101.44 903.78,98.86 \" fill=\"none\" id=\"E9-&gt;E2\" style=\"stroke: #383838; stroke-width: 1.0;\"/><polygon fill=\"#FFFFFF\" points=\"923.98,97.48,905.4991,105.7538,904.5486,91.7861,923.98,97.48\" style=\"stroke: #383838; stroke-width: 1.0;\"/><ellipse cx=\"899.6765\" cy=\"104.1455\" fill=\"#383838\" rx=\"2\" ry=\"2\" style=\"stroke: #383838; stroke-width: 1.0;\"/><ellipse cx=\"898.9975\" cy=\"94.1685\" fill=\"#383838\" rx=\"2\" ry=\"2\" style=\"stroke: #383838; stroke-width: 1.0;\"/></a><!--MD5=[d43d7f4a1a8382b43aa735955e01551a]\n",
       "@startuml\r\n",
       "skinparam ranksep 10\r\n",
       "skinparam rectangle {\r\n",
       " backgroundColor<<block>> LightGreen\r\n",
       "}\r\n",
       "left to right direction\r\n",
       "skinparam monochrome true\r\n",
       "skinparam classbackgroundcolor white\r\n",
       "skinparam shadowing false\r\n",
       "skinparam wrapWidth 300\r\n",
       "hide circle\r\n",
       "\r\n",
       "package \"TradeStudyTest\" as E1  [[psysml:57f8a98c-5718-48d8-9b9a-5c4650640602 ]]  {\r\n",
       "rec def \"Engine\" as E2  <<(T,blue) part  def>> [[psysml:6445380e-76a1-4d64-a2e6-1c63aec68392 ]] {\r\n",
       "}\r\n",
       "rec usage \"engine1: Engine\" as E3  [[psysml:e07cfc3f-c273-4e94-9cbe-d128d50ec860 ]] {\r\n",
       "}\r\n",
       "rec usage \"engine2: Engine\" as E4  [[psysml:d9e10f1c-39bd-473d-af93-7c118d42db3b ]] {\r\n",
       "}\r\n",
       "comp usage \"engineTradeStudy: TradeStudy \" as E5 << analysis>> [[psysml:f9c838ee-65e7-4043-9f07-1b30ef92e49c ]] {\r\n",
       "}\r\n",
       "comp usage \"tradeStudyObjective: MaximizeObjective \" as E6  <<(T,blue) requirement>> [[psysml:38fbb285-8167-4e3f-bee3-2164ba524da7 ]] {\r\n",
       "}\r\n",
       "comp usage \"objectiveFunction\" as E7  <<(T,blue) calculation>> [[psysml:658dce09-b71c-4e6e-94c9-a3c46617ebc8 ]] {\r\n",
       "}\r\n",
       "comp usage \"alternative: Engine \" as E8  [[psysml:3dbf099d-922d-4ace-9ccd-679bba93319b ]] {\r\n",
       "}\r\n",
       "comp usage \"selectedAlternative: Engine \" as E9  [[psysml:5fb9bd76-5535-468b-bb8f-88cd6f109fe8 ]] {\r\n",
       "}\r\n",
       "}\r\n",
       "E5 ..> E2 [[psysml:8e91b88f-f820-4b3f-bc7b-6a32144645a0 ]] : <<subject>>\r\n",
       "E5 - ->> E6 [[psysml:a6ebdbd2-b0f8-4e64-baff-f91dc99eb3fc ]] : <<objective>>\r\n",
       "E5 *- - E7 [[psysml:1d968e51-2f45-472a-9c8d-b659e8169068 ]] \r\n",
       "E7 o- - \"1\"E8 [[psysml:762eee8a-df65-48ef-8994-f8166e9b75f6 ]] \r\n",
       "E8 - -:|> E2 [[psysml:b4a53d37-cc69-46b7-9c1e-d748cdbb7a31 ]] \r\n",
       "E5 o- - \"1\"E9 [[psysml:b337f31d-c5a0-436f-953f-431d96e2f8f6 ]] \r\n",
       "E9 - -:|> E2 [[psysml:a6a00959-a343-466b-bcfe-643c8c056808 ]] \r\n",
       "@enduml\r\n",
       "\n",
       "PlantUML version 1.2020.13(Sat Jun 13 12:26:38 UTC 2020)\n",
       "(EPL source distribution)\n",
       "Java Runtime: OpenJDK Runtime Environment\n",
       "JVM: OpenJDK 64-Bit Server VM\n",
       "Default Encoding: UTF-8\n",
       "Language: en\n",
       "Country: null\n",
       "--></g></svg>"
      ]
     },
     "execution_count": 19,
     "metadata": {},
     "output_type": "execute_result"
    }
   ],
   "source": [
    "%viz --style=\"LR\" --view=\"Interconnection\" \"TradeStudyTest\""
   ]
  },
  {
   "cell_type": "code",
   "execution_count": 20,
   "id": "9754b9c1",
   "metadata": {
    "execution": {
     "iopub.execute_input": "2021-11-13T13:01:39.603467Z",
     "iopub.status.busy": "2021-11-13T13:01:39.603053Z",
     "iopub.status.idle": "2021-11-13T13:01:39.636551Z",
     "shell.execute_reply": "2021-11-13T13:01:39.636183Z"
    }
   },
   "outputs": [
    {
     "data": {
      "image/svg+xml": [
       "<?xml version=\"1.0\" encoding=\"UTF-8\" standalone=\"no\"?><svg xmlns=\"http://www.w3.org/2000/svg\" xmlns:xlink=\"http://www.w3.org/1999/xlink\" contentScriptType=\"application/ecmascript\" contentStyleType=\"text/css\" height=\"208px\" preserveAspectRatio=\"none\" style=\"width:352px;height:208px;\" version=\"1.1\" viewBox=\"0 0 352 208\" width=\"352px\" zoomAndPan=\"magnify\"><defs/><g><!--MD5=[fbc87193dbaf4d95561dea2c320d4a47]\n",
       "cluster E1--><a href=\"psysml:f9c838ee-65e7-4043-9f07-1b30ef92e49c\" target=\"_top\" title=\"psysml:f9c838ee-65e7-4043-9f07-1b30ef92e49c\" xlink:actuate=\"onRequest\" xlink:href=\"psysml:f9c838ee-65e7-4043-9f07-1b30ef92e49c\" xlink:show=\"new\" xlink:title=\"psysml:f9c838ee-65e7-4043-9f07-1b30ef92e49c\" xlink:type=\"simple\"><rect fill=\"#FFFFFF\" height=\"134\" id=\"E1\" rx=\"10\" ry=\"10\" style=\"stroke: #383838; stroke-width: 1.5;\" width=\"257.22\" x=\"47\" y=\"42.0986\"/><rect fill=\"#F8F8F8\" height=\"37.9375\" rx=\"10\" ry=\"10\" style=\"stroke: #F8F8F8; stroke-width: 1.5;\" width=\"257.22\" x=\"47\" y=\"42.0986\"/><rect fill=\"#F8F8F8\" height=\"10\" style=\"stroke: #F8F8F8; stroke-width: 1.5;\" width=\"257.22\" x=\"47\" y=\"70.0361\"/><rect fill=\"none\" height=\"134\" id=\"E1\" rx=\"10\" ry=\"10\" style=\"stroke: #383838; stroke-width: 1.5;\" width=\"257.22\" x=\"47\" y=\"42.0986\"/><text fill=\"#000000\" font-family=\"sans-serif\" font-size=\"12\" font-style=\"italic\" lengthAdjust=\"spacingAndGlyphs\" textLength=\"64\" x=\"143.61\" y=\"58.2373\">«analysis»</text><text fill=\"#000000\" font-family=\"sans-serif\" font-size=\"12\" lengthAdjust=\"spacingAndGlyphs\" textLength=\"114\" x=\"118.61\" y=\"72.2061\">engineTradeStudy</text><line style=\"stroke: #383838; stroke-width: 1.0;\" x1=\"47\" x2=\"304.22\" y1=\"80.0361\" y2=\"80.0361\"/></a><!--MD5=[d5e69f78d87373223dbae638b30a9c99]\n",
       "cluster E3--><a href=\"psysml:658dce09-b71c-4e6e-94c9-a3c46617ebc8\" target=\"_top\" title=\"psysml:658dce09-b71c-4e6e-94c9-a3c46617ebc8\" xlink:actuate=\"onRequest\" xlink:href=\"psysml:658dce09-b71c-4e6e-94c9-a3c46617ebc8\" xlink:show=\"new\" xlink:title=\"psysml:658dce09-b71c-4e6e-94c9-a3c46617ebc8\" xlink:type=\"simple\"><rect fill=\"#FFFFFF\" height=\"40\" id=\"E3\" rx=\"10\" ry=\"10\" style=\"stroke: #383838; stroke-width: 1.5;\" width=\"205.22\" x=\"87\" y=\"72.0986\"/><rect fill=\"#F8F8F8\" height=\"37.9375\" rx=\"10\" ry=\"10\" style=\"stroke: #F8F8F8; stroke-width: 1.5;\" width=\"205.22\" x=\"87\" y=\"72.0986\"/><rect fill=\"#F8F8F8\" height=\"10\" style=\"stroke: #F8F8F8; stroke-width: 1.5;\" width=\"205.22\" x=\"87\" y=\"100.0361\"/><rect fill=\"none\" height=\"40\" id=\"E3\" rx=\"10\" ry=\"10\" style=\"stroke: #383838; stroke-width: 1.5;\" width=\"205.22\" x=\"87\" y=\"72.0986\"/><text fill=\"#000000\" font-family=\"sans-serif\" font-size=\"12\" font-style=\"italic\" lengthAdjust=\"spacingAndGlyphs\" textLength=\"82\" x=\"148.61\" y=\"88.2373\">«calculation»</text><text fill=\"#000000\" font-family=\"sans-serif\" font-size=\"12\" lengthAdjust=\"spacingAndGlyphs\" textLength=\"110\" x=\"134.61\" y=\"102.2061\">objectiveFunction</text><line style=\"stroke: #383838; stroke-width: 1.0;\" x1=\"87\" x2=\"292.22\" y1=\"110.0361\" y2=\"110.0361\"/></a><text fill=\"#000000\" font-family=\"sans-serif\" font-size=\"14\" lengthAdjust=\"spacingAndGlyphs\" textLength=\"118\" x=\"6\" y=\"195.0938\">studyAlternatives</text><rect fill=\"#383838\" height=\"12\" style=\"stroke: #F8F8F8; stroke-width: 1.5;\" width=\"12\" x=\"59\" y=\"170.0986\"/><text fill=\"#000000\" font-family=\"sans-serif\" font-size=\"14\" lengthAdjust=\"spacingAndGlyphs\" textLength=\"132\" x=\"208.22\" y=\"20.7969\">selectedAlternative</text><rect fill=\"#383838\" height=\"12\" style=\"stroke: #F8F8F8; stroke-width: 1.5;\" width=\"12\" x=\"268.22\" y=\"36.0986\"/><text fill=\"#000000\" font-family=\"sans-serif\" font-size=\"14\" lengthAdjust=\"spacingAndGlyphs\" textLength=\"39\" x=\"254.72\" y=\"131.0938\">result</text><rect fill=\"#383838\" height=\"12\" style=\"stroke: #F8F8F8; stroke-width: 1.5;\" width=\"12\" x=\"268.22\" y=\"106.0986\"/><!--MD5=[e98757a3431b242838efd8e8ea6f92a2]\n",
       "@startuml\r\n",
       "skinparam ranksep 8\r\n",
       "left to right direction\r\n",
       "skinparam monochrome true\r\n",
       "skinparam classbackgroundcolor white\r\n",
       "skinparam shadowing false\r\n",
       "skinparam wrapWidth 300\r\n",
       "hide circle\r\n",
       "\r\n",
       "rec usage \"engineTradeStudy\" as E1 << analysis>> [[psysml:f9c838ee-65e7-4043-9f07-1b30ef92e49c ]] {\r\n",
       "portin \"studyAlternatives\" as E2  [[psysml:337fe316-4d2f-4990-8407-2b5473f7b0b9 ]] \r\n",
       "rec usage \"objectiveFunction\" as E3  <<(T,blue) calculation>> [[psysml:658dce09-b71c-4e6e-94c9-a3c46617ebc8 ]] {\r\n",
       "portout \"result\" as E4  [[psysml:1c0da6f6-5c1e-42af-93f0-451ad801a52e ]] \r\n",
       "}\r\n",
       "\r\n",
       "portout \"selectedAlternative\" as E5  [[psysml:5fb9bd76-5535-468b-bb8f-88cd6f109fe8 ]] \r\n",
       "}\r\n",
       "\r\n",
       "@enduml\r\n",
       "\n",
       "PlantUML version 1.2020.13(Sat Jun 13 12:26:38 UTC 2020)\n",
       "(EPL source distribution)\n",
       "Java Runtime: OpenJDK Runtime Environment\n",
       "JVM: OpenJDK 64-Bit Server VM\n",
       "Default Encoding: UTF-8\n",
       "Language: en\n",
       "Country: null\n",
       "--></g></svg>"
      ]
     },
     "execution_count": 20,
     "metadata": {},
     "output_type": "execute_result"
    }
   ],
   "source": [
    "%viz --style=\"LR\" --view=\"Action\" \"TradeStudyTest\""
   ]
  },
  {
   "cell_type": "code",
   "execution_count": 21,
   "id": "d08fb81f",
   "metadata": {
    "execution": {
     "iopub.execute_input": "2021-11-13T13:01:39.685763Z",
     "iopub.status.busy": "2021-11-13T13:01:39.685343Z",
     "iopub.status.idle": "2021-11-13T13:01:39.690956Z",
     "shell.execute_reply": "2021-11-13T13:01:39.691275Z"
    }
   },
   "outputs": [
    {
     "data": {
      "image/svg+xml": [
       "<?xml version=\"1.0\" encoding=\"UTF-8\" standalone=\"no\"?><svg xmlns=\"http://www.w3.org/2000/svg\" xmlns:xlink=\"http://www.w3.org/1999/xlink\" contentScriptType=\"application/ecmascript\" contentStyleType=\"text/css\" height=\"12px\" preserveAspectRatio=\"none\" style=\"width:12px;height:12px;\" version=\"1.1\" viewBox=\"0 0 12 12\" width=\"12px\" zoomAndPan=\"magnify\"><defs/><g><!--MD5=[238c11ea2002f03115ad6b49a457d50e]\n",
       "@startuml\r\n",
       "skinparam roundcorner 20\r\n",
       "skinparam BoxPadding 20\r\n",
       "skinparam SequenceBoxBackgroundColor #white\r\n",
       "skinparam style strictuml\r\n",
       "skinparam maxMessageSize 100\r\n",
       "left to right direction\r\n",
       "skinparam monochrome true\r\n",
       "skinparam classbackgroundcolor white\r\n",
       "skinparam shadowing false\r\n",
       "skinparam wrapWidth 300\r\n",
       "hide circle\r\n",
       "\r\n",
       "@enduml\r\n",
       "\n",
       "PlantUML version 1.2020.13(Sat Jun 13 12:26:38 UTC 2020)\n",
       "(EPL source distribution)\n",
       "Java Runtime: OpenJDK Runtime Environment\n",
       "JVM: OpenJDK 64-Bit Server VM\n",
       "Default Encoding: UTF-8\n",
       "Language: en\n",
       "Country: null\n",
       "--></g></svg>"
      ]
     },
     "execution_count": 21,
     "metadata": {},
     "output_type": "execute_result"
    }
   ],
   "source": [
    "%viz --style=\"LR\" --view=\"Sequence\" \"TradeStudyTest\""
   ]
  },
  {
   "cell_type": "code",
   "execution_count": 22,
   "id": "58037c88",
   "metadata": {
    "execution": {
     "iopub.execute_input": "2021-11-13T13:01:39.741190Z",
     "iopub.status.busy": "2021-11-13T13:01:39.740624Z",
     "iopub.status.idle": "2021-11-13T13:01:39.786523Z",
     "shell.execute_reply": "2021-11-13T13:01:39.786136Z"
    }
   },
   "outputs": [
    {
     "data": {
      "image/svg+xml": [
       "<?xml version=\"1.0\" encoding=\"UTF-8\" standalone=\"no\"?><svg xmlns=\"http://www.w3.org/2000/svg\" xmlns:xlink=\"http://www.w3.org/1999/xlink\" contentScriptType=\"application/ecmascript\" contentStyleType=\"text/css\" height=\"351px\" preserveAspectRatio=\"none\" style=\"width:1164px;height:351px;\" version=\"1.1\" viewBox=\"0 0 1164 351\" width=\"1164px\" zoomAndPan=\"magnify\"><defs/><g><!--MD5=[fbc87193dbaf4d95561dea2c320d4a47]\n",
       "cluster E1--><a href=\"psysml:57f8a98c-5718-48d8-9b9a-5c4650640602\" target=\"_top\" title=\"psysml:57f8a98c-5718-48d8-9b9a-5c4650640602\" xlink:actuate=\"onRequest\" xlink:href=\"psysml:57f8a98c-5718-48d8-9b9a-5c4650640602\" xlink:show=\"new\" xlink:title=\"psysml:57f8a98c-5718-48d8-9b9a-5c4650640602\" xlink:type=\"simple\"><polygon fill=\"#FFFFFF\" points=\"16,6,132,6,139,28.2969,1142,28.2969,1142,339,16,339,16,6\" style=\"stroke: #000000; stroke-width: 1.5;\"/><line style=\"stroke: #000000; stroke-width: 1.5;\" x1=\"16\" x2=\"139\" y1=\"28.2969\" y2=\"28.2969\"/><text fill=\"#000000\" font-family=\"sans-serif\" font-size=\"14\" font-weight=\"bold\" lengthAdjust=\"spacingAndGlyphs\" textLength=\"110\" x=\"20\" y=\"20.9951\">TradeStudyTest</text></a><!--MD5=[b4997ac47864f28c2f74865a473b2911]\n",
       "class E2--><a href=\"psysml:6445380e-76a1-4d64-a2e6-1c63aec68392\" target=\"_top\" title=\"psysml:6445380e-76a1-4d64-a2e6-1c63aec68392\" xlink:actuate=\"onRequest\" xlink:href=\"psysml:6445380e-76a1-4d64-a2e6-1c63aec68392\" xlink:show=\"new\" xlink:title=\"psysml:6445380e-76a1-4d64-a2e6-1c63aec68392\" xlink:type=\"simple\"><rect fill=\"#FFFFFF\" height=\"45.9375\" id=\"E2\" style=\"stroke: #383838; stroke-width: 1.5;\" width=\"70\" x=\"1056\" y=\"181\"/><text fill=\"#000000\" font-family=\"sans-serif\" font-size=\"12\" font-style=\"italic\" lengthAdjust=\"spacingAndGlyphs\" textLength=\"68\" x=\"1057\" y=\"197.1387\">«part  def»</text><text fill=\"#000000\" font-family=\"sans-serif\" font-size=\"12\" lengthAdjust=\"spacingAndGlyphs\" textLength=\"43\" x=\"1069.5\" y=\"211.1074\">Engine</text><line style=\"stroke: #383838; stroke-width: 1.5;\" x1=\"1057\" x2=\"1125\" y1=\"218.9375\" y2=\"218.9375\"/></a><!--MD5=[09b614a08d8cba4a07c9adeb5e0fee81]\n",
       "class E3--><a href=\"psysml:e07cfc3f-c273-4e94-9cbe-d128d50ec860\" target=\"_top\" title=\"psysml:e07cfc3f-c273-4e94-9cbe-d128d50ec860\" xlink:actuate=\"onRequest\" xlink:href=\"psysml:e07cfc3f-c273-4e94-9cbe-d128d50ec860\" xlink:show=\"new\" xlink:title=\"psysml:e07cfc3f-c273-4e94-9cbe-d128d50ec860\" xlink:type=\"simple\"><rect fill=\"#FFFFFF\" height=\"45.9375\" id=\"E3\" rx=\"10\" ry=\"10\" style=\"stroke: #383838; stroke-width: 1.5;\" width=\"112\" x=\"875\" y=\"41\"/><text fill=\"#000000\" font-family=\"sans-serif\" font-size=\"12\" font-style=\"italic\" lengthAdjust=\"spacingAndGlyphs\" textLength=\"40\" x=\"911\" y=\"57.1387\">«part»</text><text fill=\"#000000\" font-family=\"sans-serif\" font-size=\"12\" lengthAdjust=\"spacingAndGlyphs\" textLength=\"102\" x=\"878\" y=\"71.1074\">engine1: Engine</text><line style=\"stroke: #383838; stroke-width: 1.5;\" x1=\"876\" x2=\"986\" y1=\"78.9375\" y2=\"78.9375\"/></a><!--MD5=[ebbe1d658d1005bcc118a6aa81145e00]\n",
       "class E4--><a href=\"psysml:d9e10f1c-39bd-473d-af93-7c118d42db3b\" target=\"_top\" title=\"psysml:d9e10f1c-39bd-473d-af93-7c118d42db3b\" xlink:actuate=\"onRequest\" xlink:href=\"psysml:d9e10f1c-39bd-473d-af93-7c118d42db3b\" xlink:show=\"new\" xlink:title=\"psysml:d9e10f1c-39bd-473d-af93-7c118d42db3b\" xlink:type=\"simple\"><rect fill=\"#FFFFFF\" height=\"45.9375\" id=\"E4\" rx=\"10\" ry=\"10\" style=\"stroke: #383838; stroke-width: 1.5;\" width=\"112\" x=\"875\" y=\"122\"/><text fill=\"#000000\" font-family=\"sans-serif\" font-size=\"12\" font-style=\"italic\" lengthAdjust=\"spacingAndGlyphs\" textLength=\"40\" x=\"911\" y=\"138.1387\">«part»</text><text fill=\"#000000\" font-family=\"sans-serif\" font-size=\"12\" lengthAdjust=\"spacingAndGlyphs\" textLength=\"102\" x=\"878\" y=\"152.1074\">engine2: Engine</text><line style=\"stroke: #383838; stroke-width: 1.5;\" x1=\"876\" x2=\"986\" y1=\"159.9375\" y2=\"159.9375\"/></a><!--MD5=[270fce915f116d4de14055a7c1d9a0f3]\n",
       "class E5--><a href=\"psysml:f9c838ee-65e7-4043-9f07-1b30ef92e49c\" target=\"_top\" title=\"psysml:f9c838ee-65e7-4043-9f07-1b30ef92e49c\" xlink:actuate=\"onRequest\" xlink:href=\"psysml:f9c838ee-65e7-4043-9f07-1b30ef92e49c\" xlink:show=\"new\" xlink:title=\"psysml:f9c838ee-65e7-4043-9f07-1b30ef92e49c\" xlink:type=\"simple\"><rect fill=\"#FFFFFF\" height=\"45.9375\" id=\"E5\" rx=\"10\" ry=\"10\" style=\"stroke: #383838; stroke-width: 1.5;\" width=\"203\" x=\"32\" y=\"173\"/><text fill=\"#000000\" font-family=\"sans-serif\" font-size=\"12\" font-style=\"italic\" lengthAdjust=\"spacingAndGlyphs\" textLength=\"64\" x=\"101.5\" y=\"189.1387\">«analysis»</text><text fill=\"#000000\" font-family=\"sans-serif\" font-size=\"12\" lengthAdjust=\"spacingAndGlyphs\" textLength=\"193\" x=\"35\" y=\"203.1074\">engineTradeStudy: TradeStudy</text><line style=\"stroke: #383838; stroke-width: 1.5;\" x1=\"33\" x2=\"234\" y1=\"210.9375\" y2=\"210.9375\"/></a><!--MD5=[60a26617385b1d2d0262a64233df1f8d]\n",
       "class E6--><a href=\"psysml:38fbb285-8167-4e3f-bee3-2164ba524da7\" target=\"_top\" title=\"psysml:38fbb285-8167-4e3f-bee3-2164ba524da7\" xlink:actuate=\"onRequest\" xlink:href=\"psysml:38fbb285-8167-4e3f-bee3-2164ba524da7\" xlink:show=\"new\" xlink:title=\"psysml:38fbb285-8167-4e3f-bee3-2164ba524da7\" xlink:type=\"simple\"><rect fill=\"#FFFFFF\" height=\"45.9375\" id=\"E6\" rx=\"10\" ry=\"10\" style=\"stroke: #383838; stroke-width: 1.5;\" width=\"255\" x=\"370\" y=\"206\"/><text fill=\"#000000\" font-family=\"sans-serif\" font-size=\"12\" font-style=\"italic\" lengthAdjust=\"spacingAndGlyphs\" textLength=\"91\" x=\"452\" y=\"222.1387\">«requirement»</text><text fill=\"#000000\" font-family=\"sans-serif\" font-size=\"12\" lengthAdjust=\"spacingAndGlyphs\" textLength=\"245\" x=\"373\" y=\"236.1074\">tradeStudyObjective: MaximizeObjective</text><line style=\"stroke: #383838; stroke-width: 1.5;\" x1=\"371\" x2=\"624\" y1=\"243.9375\" y2=\"243.9375\"/></a><!--MD5=[2156ba9850f5573cc1fc38a6a4b2f02b]\n",
       "class E7--><a href=\"psysml:658dce09-b71c-4e6e-94c9-a3c46617ebc8\" target=\"_top\" title=\"psysml:658dce09-b71c-4e6e-94c9-a3c46617ebc8\" xlink:actuate=\"onRequest\" xlink:href=\"psysml:658dce09-b71c-4e6e-94c9-a3c46617ebc8\" xlink:show=\"new\" xlink:title=\"psysml:658dce09-b71c-4e6e-94c9-a3c46617ebc8\" xlink:type=\"simple\"><rect fill=\"#FFFFFF\" height=\"45.9375\" id=\"E7\" rx=\"10\" ry=\"10\" style=\"stroke: #383838; stroke-width: 1.5;\" width=\"116\" x=\"439.5\" y=\"125\"/><text fill=\"#000000\" font-family=\"sans-serif\" font-size=\"12\" font-style=\"italic\" lengthAdjust=\"spacingAndGlyphs\" textLength=\"82\" x=\"456.5\" y=\"141.1387\">«calculation»</text><text fill=\"#000000\" font-family=\"sans-serif\" font-size=\"12\" lengthAdjust=\"spacingAndGlyphs\" textLength=\"110\" x=\"442.5\" y=\"155.1074\">objectiveFunction</text><line style=\"stroke: #383838; stroke-width: 1.5;\" x1=\"440.5\" x2=\"554.5\" y1=\"162.9375\" y2=\"162.9375\"/></a><!--MD5=[b9389687b975829384b498ac4b7476b2]\n",
       "class E8--><a href=\"psysml:3dbf099d-922d-4ace-9ccd-679bba93319b\" target=\"_top\" title=\"psysml:3dbf099d-922d-4ace-9ccd-679bba93319b\" xlink:actuate=\"onRequest\" xlink:href=\"psysml:3dbf099d-922d-4ace-9ccd-679bba93319b\" xlink:show=\"new\" xlink:title=\"psysml:3dbf099d-922d-4ace-9ccd-679bba93319b\" xlink:type=\"simple\"><rect fill=\"#FFFFFF\" height=\"45.9375\" id=\"E8\" rx=\"10\" ry=\"10\" style=\"stroke: #383838; stroke-width: 1.5;\" width=\"128\" x=\"867\" y=\"240\"/><text fill=\"#000000\" font-family=\"sans-serif\" font-size=\"12\" font-style=\"italic\" lengthAdjust=\"spacingAndGlyphs\" textLength=\"40\" x=\"911\" y=\"256.1387\">«part»</text><text fill=\"#000000\" font-family=\"sans-serif\" font-size=\"12\" lengthAdjust=\"spacingAndGlyphs\" textLength=\"118\" x=\"870\" y=\"270.1074\">alternative: Engine</text><line style=\"stroke: #383838; stroke-width: 1.5;\" x1=\"868\" x2=\"994\" y1=\"277.9375\" y2=\"277.9375\"/></a><!--MD5=[fd4143e9d270a159db93a4ea2a975926]\n",
       "class E9--><a href=\"psysml:5fb9bd76-5535-468b-bb8f-88cd6f109fe8\" target=\"_top\" title=\"psysml:5fb9bd76-5535-468b-bb8f-88cd6f109fe8\" xlink:actuate=\"onRequest\" xlink:href=\"psysml:5fb9bd76-5535-468b-bb8f-88cd6f109fe8\" xlink:show=\"new\" xlink:title=\"psysml:5fb9bd76-5535-468b-bb8f-88cd6f109fe8\" xlink:type=\"simple\"><rect fill=\"#FFFFFF\" height=\"45.9375\" id=\"E9\" rx=\"10\" ry=\"10\" style=\"stroke: #383838; stroke-width: 1.5;\" width=\"182\" x=\"655\" y=\"124\"/><text fill=\"#000000\" font-family=\"sans-serif\" font-size=\"12\" font-style=\"italic\" lengthAdjust=\"spacingAndGlyphs\" textLength=\"40\" x=\"726\" y=\"140.1387\">«part»</text><text fill=\"#000000\" font-family=\"sans-serif\" font-size=\"12\" lengthAdjust=\"spacingAndGlyphs\" textLength=\"172\" x=\"658\" y=\"154.1074\">selectedAlternative: Engine</text><line style=\"stroke: #383838; stroke-width: 1.5;\" x1=\"656\" x2=\"836\" y1=\"161.9375\" y2=\"161.9375\"/></a><!--MD5=[05d275557350bfb9b23a4ef7222b4c39]\n",
       "link E3 to E2--><a href=\"psysml:8b560a74-32d8-45cc-8c0e-f8d7e14b884a\" target=\"_top\" title=\"psysml:8b560a74-32d8-45cc-8c0e-f8d7e14b884a\" xlink:actuate=\"onRequest\" xlink:href=\"psysml:8b560a74-32d8-45cc-8c0e-f8d7e14b884a\" xlink:show=\"new\" xlink:title=\"psysml:8b560a74-32d8-45cc-8c0e-f8d7e14b884a\" xlink:type=\"simple\"><path d=\"M971.69,87.1 C979.66,92.32 987.8,98.07 995,104 C1017.39,122.42 1039.86,145.79 1057.32,165.3 \" fill=\"none\" id=\"E3-&gt;E2\" style=\"stroke: #383838; stroke-width: 1.0;\"/><polygon fill=\"#FFFFFF\" points=\"1070.69,180.6,1052.9071,170.9166,1063.4401,161.6939,1070.69,180.6\" style=\"stroke: #383838; stroke-width: 1.0;\"/><ellipse cx=\"1050.6569\" cy=\"165.3106\" fill=\"#383838\" rx=\"2\" ry=\"2\" style=\"stroke: #383838; stroke-width: 1.0;\"/><ellipse cx=\"1058.1805\" cy=\"158.723\" fill=\"#383838\" rx=\"2\" ry=\"2\" style=\"stroke: #383838; stroke-width: 1.0;\"/></a><!--MD5=[185131fc0dcab0a4505a2ebe144e961b]\n",
       "link E4 to E2--><a href=\"psysml:7f518d85-a598-4692-a186-0ec59d25f08f\" target=\"_top\" title=\"psysml:7f518d85-a598-4692-a186-0ec59d25f08f\" xlink:actuate=\"onRequest\" xlink:href=\"psysml:7f518d85-a598-4692-a186-0ec59d25f08f\" xlink:show=\"new\" xlink:title=\"psysml:7f518d85-a598-4692-a186-0ec59d25f08f\" xlink:type=\"simple\"><path d=\"M987.26,165.64 C1003.37,171.65 1020.93,178.21 1036.9,184.17 \" fill=\"none\" id=\"E4-&gt;E2\" style=\"stroke: #383838; stroke-width: 1.0;\"/><polygon fill=\"#FFFFFF\" points=\"1055.72,191.2,1035.4717,191.11,1040.3699,177.9949,1055.72,191.2\" style=\"stroke: #383838; stroke-width: 1.0;\"/><ellipse cx=\"1030.8317\" cy=\"187.2422\" fill=\"#383838\" rx=\"2\" ry=\"2\" style=\"stroke: #383838; stroke-width: 1.0;\"/><ellipse cx=\"1034.3304\" cy=\"177.8742\" fill=\"#383838\" rx=\"2\" ry=\"2\" style=\"stroke: #383838; stroke-width: 1.0;\"/></a><!--MD5=[15ebcb19ae302d9b601edb458606d402]\n",
       "link E5 to E2--><a href=\"psysml:8e91b88f-f820-4b3f-bc7b-6a32144645a0\" target=\"_top\" title=\"psysml:8e91b88f-f820-4b3f-bc7b-6a32144645a0\" xlink:actuate=\"onRequest\" xlink:href=\"psysml:8e91b88f-f820-4b3f-bc7b-6a32144645a0\" xlink:show=\"new\" xlink:title=\"psysml:8e91b88f-f820-4b3f-bc7b-6a32144645a0\" xlink:type=\"simple\"><path d=\"M195.5,219.17 C242.48,235.96 309.42,257.63 370,269 C587.64,309.83 645.7,296.22 867,304 C923.85,306 942.72,326.44 995,304 C1029.18,289.33 1056.86,255.64 1073.34,231.42 \" fill=\"none\" id=\"E5-&gt;E2\" style=\"stroke: #383838; stroke-width: 1.0; stroke-dasharray: 7.0,7.0;\"/><polygon fill=\"#383838\" points=\"1076.29,227.02,1067.9695,232.2897,1073.5165,231.1803,1074.6259,236.7273,1076.29,227.02\" style=\"stroke: #383838; stroke-width: 1.0;\"/><text fill=\"#000000\" font-family=\"sans-serif\" font-size=\"13\" lengthAdjust=\"spacingAndGlyphs\" textLength=\"62\" x=\"715\" y=\"297.0669\">«subject»</text></a><!--MD5=[9120cf2e5df3bff93db8f754bbbc09b4]\n",
       "link E5 to E6--><a href=\"psysml:a6ebdbd2-b0f8-4e64-baff-f91dc99eb3fc\" target=\"_top\" title=\"psysml:a6ebdbd2-b0f8-4e64-baff-f91dc99eb3fc\" xlink:actuate=\"onRequest\" xlink:href=\"psysml:a6ebdbd2-b0f8-4e64-baff-f91dc99eb3fc\" xlink:show=\"new\" xlink:title=\"psysml:a6ebdbd2-b0f8-4e64-baff-f91dc99eb3fc\" xlink:type=\"simple\"><path d=\"M235.34,205.19 C274.45,208.76 319.82,212.89 361.66,216.71 \" fill=\"none\" id=\"E5-&gt;E6\" style=\"stroke: #383838; stroke-width: 1.0;\"/><polygon fill=\"#383838\" points=\"369.7,217.44,362.0069,213.7231,361.4598,219.6981,369.7,217.44\" style=\"stroke: #383838; stroke-width: 1.0;\"/><text fill=\"#000000\" font-family=\"sans-serif\" font-size=\"13\" lengthAdjust=\"spacingAndGlyphs\" textLength=\"73\" x=\"266\" y=\"205.0669\">«objective»</text></a><!--MD5=[452b418e7f8a40397a49b8c0a78acc5b]\n",
       "reverse link E5 to E7--><a href=\"psysml:1d968e51-2f45-472a-9c8d-b659e8169068\" target=\"_top\" title=\"psysml:1d968e51-2f45-472a-9c8d-b659e8169068\" xlink:actuate=\"onRequest\" xlink:href=\"psysml:1d968e51-2f45-472a-9c8d-b659e8169068\" xlink:show=\"new\" xlink:title=\"psysml:1d968e51-2f45-472a-9c8d-b659e8169068\" xlink:type=\"simple\"><path d=\"M248.27,180.91 C311.78,172.49 388.16,162.37 439.27,155.59 \" fill=\"none\" id=\"E5&lt;-E7\" style=\"stroke: #383838; stroke-width: 1.0;\"/><polygon fill=\"#383838\" points=\"235.34,182.63,241.8116,185.8109,247.2369,181.0605,240.7653,177.8796,235.34,182.63\" style=\"stroke: #383838; stroke-width: 1.0;\"/></a><!--MD5=[dc164f5e8a733ab456ef1add180e9e34]\n",
       "reverse link E7 to E8--><a href=\"psysml:762eee8a-df65-48ef-8994-f8166e9b75f6\" target=\"_top\" title=\"psysml:762eee8a-df65-48ef-8994-f8166e9b75f6\" xlink:actuate=\"onRequest\" xlink:href=\"psysml:762eee8a-df65-48ef-8994-f8166e9b75f6\" xlink:show=\"new\" xlink:title=\"psysml:762eee8a-df65-48ef-8994-f8166e9b75f6\" xlink:type=\"simple\"><path d=\"M568.59,166.68 C651.22,188.7 787.36,224.98 866.85,246.17 \" fill=\"none\" id=\"E7&lt;-E8\" style=\"stroke: #383838; stroke-width: 1.0;\"/><polygon fill=\"#FFFFFF\" points=\"555.8,163.27,560.5706,168.6775,567.397,166.3537,562.6264,160.9462,555.8,163.27\" style=\"stroke: #383838; stroke-width: 1.0;\"/><text fill=\"#000000\" font-family=\"sans-serif\" font-size=\"13\" lengthAdjust=\"spacingAndGlyphs\" textLength=\"8\" x=\"850.9702\" y=\"257.1694\">1</text></a><!--MD5=[f1f3f9f2fc535e6147756cb86a7f2e32]\n",
       "link E8 to E2--><a href=\"psysml:b4a53d37-cc69-46b7-9c1e-d748cdbb7a31\" target=\"_top\" title=\"psysml:b4a53d37-cc69-46b7-9c1e-d748cdbb7a31\" xlink:actuate=\"onRequest\" xlink:href=\"psysml:b4a53d37-cc69-46b7-9c1e-d748cdbb7a31\" xlink:show=\"new\" xlink:title=\"psysml:b4a53d37-cc69-46b7-9c1e-d748cdbb7a31\" xlink:type=\"simple\"><path d=\"M993.99,239.85 C1008.17,234.56 1023.11,228.98 1036.87,223.84 \" fill=\"none\" id=\"E8-&gt;E2\" style=\"stroke: #383838; stroke-width: 1.0;\"/><polygon fill=\"#FFFFFF\" points=\"1055.96,216.71,1040.6044,229.9087,1035.7117,216.7915,1055.96,216.71\" style=\"stroke: #383838; stroke-width: 1.0;\"/><ellipse cx=\"1034.5649\" cy=\"230.0268\" fill=\"#383838\" rx=\"2\" ry=\"2\" style=\"stroke: #383838; stroke-width: 1.0;\"/><ellipse cx=\"1031.0701\" cy=\"220.6574\" fill=\"#383838\" rx=\"2\" ry=\"2\" style=\"stroke: #383838; stroke-width: 1.0;\"/></a><!--MD5=[9ae28de373ca99bb8a1b38d63370ca7e]\n",
       "reverse link E5 to E9--><a href=\"psysml:b337f31d-c5a0-436f-953f-431d96e2f8f6\" target=\"_top\" title=\"psysml:b337f31d-c5a0-436f-953f-431d96e2f8f6\" xlink:actuate=\"onRequest\" xlink:href=\"psysml:b337f31d-c5a0-436f-953f-431d96e2f8f6\" xlink:show=\"new\" xlink:title=\"psysml:b337f31d-c5a0-436f-953f-431d96e2f8f6\" xlink:type=\"simple\"><path d=\"M192.41,167.36 C239.07,145.96 307.05,118.5 370,107 C481.49,86.64 513.13,88.85 625,107 C646.13,110.43 668.58,117.05 688.27,123.93 \" fill=\"none\" id=\"E5&lt;-E9\" style=\"stroke: #383838; stroke-width: 1.0;\"/><polygon fill=\"#FFFFFF\" points=\"180.43,172.93,187.5576,174.0245,191.3092,167.8662,184.1817,166.7717,180.43,172.93\" style=\"stroke: #383838; stroke-width: 1.0;\"/><text fill=\"#000000\" font-family=\"sans-serif\" font-size=\"13\" lengthAdjust=\"spacingAndGlyphs\" textLength=\"8\" x=\"663.6801\" y=\"112.8075\">1</text></a><!--MD5=[5c3bb36fe832a92c7f0e1807dd65209d]\n",
       "link E9 to E2--><a href=\"psysml:a6a00959-a343-466b-bcfe-643c8c056808\" target=\"_top\" title=\"psysml:a6a00959-a343-466b-bcfe-643c8c056808\" xlink:actuate=\"onRequest\" xlink:href=\"psysml:a6a00959-a343-466b-bcfe-643c8c056808\" xlink:show=\"new\" xlink:title=\"psysml:a6a00959-a343-466b-bcfe-643c8c056808\" xlink:type=\"simple\"><path d=\"M810.77,170.08 C828.75,175.79 848.46,181.32 867,185 C923.79,196.27 990.02,200.85 1035.46,202.72 \" fill=\"none\" id=\"E9-&gt;E2\" style=\"stroke: #383838; stroke-width: 1.0;\"/><polygon fill=\"#FFFFFF\" points=\"1055.67,203.43,1036.4366,209.7606,1036.9267,195.7692,1055.67,203.43\" style=\"stroke: #383838; stroke-width: 1.0;\"/><ellipse cx=\"1030.8101\" cy=\"207.5623\" fill=\"#383838\" rx=\"2\" ry=\"2\" style=\"stroke: #383838; stroke-width: 1.0;\"/><ellipse cx=\"1031.1602\" cy=\"197.5685\" fill=\"#383838\" rx=\"2\" ry=\"2\" style=\"stroke: #383838; stroke-width: 1.0;\"/></a><!--MD5=[49285a7437f8f913b921be9a0a3b4377]\n",
       "@startuml\r\n",
       "left to right direction\r\n",
       "skinparam monochrome true\r\n",
       "skinparam classbackgroundcolor white\r\n",
       "skinparam shadowing false\r\n",
       "skinparam wrapWidth 300\r\n",
       "hide circle\r\n",
       "\r\n",
       "package \"TradeStudyTest\" as E1  [[psysml:57f8a98c-5718-48d8-9b9a-5c4650640602 ]]  {\r\n",
       "comp def \"Engine\" as E2  <<(T,blue) part  def>> [[psysml:6445380e-76a1-4d64-a2e6-1c63aec68392 ]] {\r\n",
       "}\r\n",
       "comp usage \"engine1: Engine \" as E3  <<(T,blue) part>> [[psysml:e07cfc3f-c273-4e94-9cbe-d128d50ec860 ]] {\r\n",
       "}\r\n",
       "comp usage \"engine2: Engine \" as E4  <<(T,blue) part>> [[psysml:d9e10f1c-39bd-473d-af93-7c118d42db3b ]] {\r\n",
       "}\r\n",
       "comp usage \"engineTradeStudy: TradeStudy \" as E5 << analysis>> [[psysml:f9c838ee-65e7-4043-9f07-1b30ef92e49c ]] {\r\n",
       "}\r\n",
       "comp usage \"tradeStudyObjective: MaximizeObjective \" as E6  <<(T,blue) requirement>> [[psysml:38fbb285-8167-4e3f-bee3-2164ba524da7 ]] {\r\n",
       "}\r\n",
       "comp usage \"objectiveFunction\" as E7  <<(T,blue) calculation>> [[psysml:658dce09-b71c-4e6e-94c9-a3c46617ebc8 ]] {\r\n",
       "}\r\n",
       "comp usage \"alternative: Engine \" as E8  <<(T,blue) part>> [[psysml:3dbf099d-922d-4ace-9ccd-679bba93319b ]] {\r\n",
       "}\r\n",
       "comp usage \"selectedAlternative: Engine \" as E9  <<(T,blue) part>> [[psysml:5fb9bd76-5535-468b-bb8f-88cd6f109fe8 ]] {\r\n",
       "}\r\n",
       "}\r\n",
       "E3 - -:|> E2 [[psysml:8b560a74-32d8-45cc-8c0e-f8d7e14b884a ]] \r\n",
       "E4 - -:|> E2 [[psysml:7f518d85-a598-4692-a186-0ec59d25f08f ]] \r\n",
       "E5 ..> E2 [[psysml:8e91b88f-f820-4b3f-bc7b-6a32144645a0 ]] : <<subject>>\r\n",
       "E5 - ->> E6 [[psysml:a6ebdbd2-b0f8-4e64-baff-f91dc99eb3fc ]] : <<objective>>\r\n",
       "E5 *- - E7 [[psysml:1d968e51-2f45-472a-9c8d-b659e8169068 ]] \r\n",
       "E7 o- - \"1\"E8 [[psysml:762eee8a-df65-48ef-8994-f8166e9b75f6 ]] \r\n",
       "E8 - -:|> E2 [[psysml:b4a53d37-cc69-46b7-9c1e-d748cdbb7a31 ]] \r\n",
       "E5 o- - \"1\"E9 [[psysml:b337f31d-c5a0-436f-953f-431d96e2f8f6 ]] \r\n",
       "E9 - -:|> E2 [[psysml:a6a00959-a343-466b-bcfe-643c8c056808 ]] \r\n",
       "@enduml\r\n",
       "\n",
       "PlantUML version 1.2020.13(Sat Jun 13 12:26:38 UTC 2020)\n",
       "(EPL source distribution)\n",
       "Java Runtime: OpenJDK Runtime Environment\n",
       "JVM: OpenJDK 64-Bit Server VM\n",
       "Default Encoding: UTF-8\n",
       "Language: en\n",
       "Country: null\n",
       "--></g></svg>"
      ]
     },
     "execution_count": 22,
     "metadata": {},
     "output_type": "execute_result"
    }
   ],
   "source": [
    "%viz --style=\"LR\" --view=\"MIXED\" \"TradeStudyTest\""
   ]
  },
  {
   "cell_type": "code",
   "execution_count": 23,
   "id": "10f2d108",
   "metadata": {
    "execution": {
     "iopub.execute_input": "2021-11-13T13:01:39.835398Z",
     "iopub.status.busy": "2021-11-13T13:01:39.834981Z",
     "iopub.status.idle": "2021-11-13T13:01:39.879319Z",
     "shell.execute_reply": "2021-11-13T13:01:39.879025Z"
    }
   },
   "outputs": [
    {
     "data": {
      "image/svg+xml": [
       "<?xml version=\"1.0\" encoding=\"UTF-8\" standalone=\"no\"?><svg xmlns=\"http://www.w3.org/2000/svg\" xmlns:xlink=\"http://www.w3.org/1999/xlink\" contentScriptType=\"application/ecmascript\" contentStyleType=\"text/css\" height=\"497px\" preserveAspectRatio=\"none\" style=\"width:568px;height:497px;\" version=\"1.1\" viewBox=\"0 0 568 497\" width=\"568px\" zoomAndPan=\"magnify\"><defs><filter height=\"300%\" id=\"f1hn1vho5y0jyo\" width=\"300%\" x=\"-1\" y=\"-1\"><feGaussianBlur result=\"blurOut\" stdDeviation=\"2.0\"/><feColorMatrix in=\"blurOut\" result=\"blurOut2\" type=\"matrix\" values=\"0 0 0 0 0 0 0 0 0 0 0 0 0 0 0 0 0 0 .4 0\"/><feOffset dx=\"4.0\" dy=\"4.0\" in=\"blurOut2\" result=\"blurOut3\"/><feBlend in=\"SourceGraphic\" in2=\"blurOut3\" mode=\"normal\"/></filter></defs><g><!--MD5=[fbc87193dbaf4d95561dea2c320d4a47]\n",
       "cluster E1--><a href=\"psysml:57f8a98c-5718-48d8-9b9a-5c4650640602\" target=\"_top\" title=\"psysml:57f8a98c-5718-48d8-9b9a-5c4650640602\" xlink:actuate=\"onRequest\" xlink:href=\"psysml:57f8a98c-5718-48d8-9b9a-5c4650640602\" xlink:show=\"new\" xlink:title=\"psysml:57f8a98c-5718-48d8-9b9a-5c4650640602\" xlink:type=\"simple\"><polygon fill=\"#FFFFFF\" filter=\"url(#f1hn1vho5y0jyo)\" points=\"18.75,6,134.75,6,141.75,28.2969,546.75,28.2969,546.75,485,18.75,485,18.75,6\" style=\"stroke: #000000; stroke-width: 1.5;\"/><line style=\"stroke: #000000; stroke-width: 1.5;\" x1=\"18.75\" x2=\"141.75\" y1=\"28.2969\" y2=\"28.2969\"/><text fill=\"#000000\" font-family=\"sans-serif\" font-size=\"14\" font-weight=\"bold\" lengthAdjust=\"spacingAndGlyphs\" textLength=\"110\" x=\"22.75\" y=\"20.9951\">TradeStudyTest</text></a><!--MD5=[b4997ac47864f28c2f74865a473b2911]\n",
       "class E2--><a href=\"psysml:6445380e-76a1-4d64-a2e6-1c63aec68392\" target=\"_top\" title=\"psysml:6445380e-76a1-4d64-a2e6-1c63aec68392\" xlink:actuate=\"onRequest\" xlink:href=\"psysml:6445380e-76a1-4d64-a2e6-1c63aec68392\" xlink:show=\"new\" xlink:title=\"psysml:6445380e-76a1-4d64-a2e6-1c63aec68392\" xlink:type=\"simple\"><rect fill=\"#FEFECE\" filter=\"url(#f1hn1vho5y0jyo)\" height=\"45.9375\" id=\"E2\" style=\"stroke: #A80036; stroke-width: 1.5;\" width=\"70\" x=\"200.75\" y=\"423\"/><text fill=\"#000000\" font-family=\"sans-serif\" font-size=\"12\" font-style=\"italic\" lengthAdjust=\"spacingAndGlyphs\" textLength=\"68\" x=\"201.75\" y=\"439.1387\">«part  def»</text><text fill=\"#000000\" font-family=\"sans-serif\" font-size=\"12\" lengthAdjust=\"spacingAndGlyphs\" textLength=\"43\" x=\"214.25\" y=\"453.1074\">Engine</text><line style=\"stroke: #A80036; stroke-width: 1.5;\" x1=\"201.75\" x2=\"269.75\" y1=\"460.9375\" y2=\"460.9375\"/></a><!--MD5=[09b614a08d8cba4a07c9adeb5e0fee81]\n",
       "class E3--><a href=\"psysml:e07cfc3f-c273-4e94-9cbe-d128d50ec860\" target=\"_top\" title=\"psysml:e07cfc3f-c273-4e94-9cbe-d128d50ec860\" xlink:actuate=\"onRequest\" xlink:href=\"psysml:e07cfc3f-c273-4e94-9cbe-d128d50ec860\" xlink:show=\"new\" xlink:title=\"psysml:e07cfc3f-c273-4e94-9cbe-d128d50ec860\" xlink:type=\"simple\"><rect fill=\"#FEFECE\" filter=\"url(#f1hn1vho5y0jyo)\" height=\"45.9375\" id=\"E3\" rx=\"10\" ry=\"10\" style=\"stroke: #A80036; stroke-width: 1.5;\" width=\"112\" x=\"418.75\" y=\"316\"/><text fill=\"#000000\" font-family=\"sans-serif\" font-size=\"12\" font-style=\"italic\" lengthAdjust=\"spacingAndGlyphs\" textLength=\"40\" x=\"454.75\" y=\"332.1387\">«part»</text><text fill=\"#000000\" font-family=\"sans-serif\" font-size=\"12\" lengthAdjust=\"spacingAndGlyphs\" textLength=\"102\" x=\"421.75\" y=\"346.1074\">engine1: Engine</text><line style=\"stroke: #A80036; stroke-width: 1.5;\" x1=\"419.75\" x2=\"529.75\" y1=\"353.9375\" y2=\"353.9375\"/></a><!--MD5=[ebbe1d658d1005bcc118a6aa81145e00]\n",
       "class E4--><a href=\"psysml:d9e10f1c-39bd-473d-af93-7c118d42db3b\" target=\"_top\" title=\"psysml:d9e10f1c-39bd-473d-af93-7c118d42db3b\" xlink:actuate=\"onRequest\" xlink:href=\"psysml:d9e10f1c-39bd-473d-af93-7c118d42db3b\" xlink:show=\"new\" xlink:title=\"psysml:d9e10f1c-39bd-473d-af93-7c118d42db3b\" xlink:type=\"simple\"><rect fill=\"#FEFECE\" filter=\"url(#f1hn1vho5y0jyo)\" height=\"45.9375\" id=\"E4\" rx=\"10\" ry=\"10\" style=\"stroke: #A80036; stroke-width: 1.5;\" width=\"112\" x=\"271.75\" y=\"316\"/><text fill=\"#000000\" font-family=\"sans-serif\" font-size=\"12\" font-style=\"italic\" lengthAdjust=\"spacingAndGlyphs\" textLength=\"40\" x=\"307.75\" y=\"332.1387\">«part»</text><text fill=\"#000000\" font-family=\"sans-serif\" font-size=\"12\" lengthAdjust=\"spacingAndGlyphs\" textLength=\"102\" x=\"274.75\" y=\"346.1074\">engine2: Engine</text><line style=\"stroke: #A80036; stroke-width: 1.5;\" x1=\"272.75\" x2=\"382.75\" y1=\"353.9375\" y2=\"353.9375\"/></a><!--MD5=[270fce915f116d4de14055a7c1d9a0f3]\n",
       "class E5--><a href=\"psysml:f9c838ee-65e7-4043-9f07-1b30ef92e49c\" target=\"_top\" title=\"psysml:f9c838ee-65e7-4043-9f07-1b30ef92e49c\" xlink:actuate=\"onRequest\" xlink:href=\"psysml:f9c838ee-65e7-4043-9f07-1b30ef92e49c\" xlink:show=\"new\" xlink:title=\"psysml:f9c838ee-65e7-4043-9f07-1b30ef92e49c\" xlink:type=\"simple\"><rect fill=\"#FEFECE\" filter=\"url(#f1hn1vho5y0jyo)\" height=\"45.9375\" id=\"E5\" rx=\"10\" ry=\"10\" style=\"stroke: #A80036; stroke-width: 1.5;\" width=\"203\" x=\"248.25\" y=\"41\"/><text fill=\"#000000\" font-family=\"sans-serif\" font-size=\"12\" font-style=\"italic\" lengthAdjust=\"spacingAndGlyphs\" textLength=\"64\" x=\"317.75\" y=\"57.1387\">«analysis»</text><text fill=\"#000000\" font-family=\"sans-serif\" font-size=\"12\" lengthAdjust=\"spacingAndGlyphs\" textLength=\"193\" x=\"251.25\" y=\"71.1074\">engineTradeStudy: TradeStudy</text><line style=\"stroke: #A80036; stroke-width: 1.5;\" x1=\"249.25\" x2=\"450.25\" y1=\"78.9375\" y2=\"78.9375\"/></a><!--MD5=[60a26617385b1d2d0262a64233df1f8d]\n",
       "class E6--><a href=\"psysml:38fbb285-8167-4e3f-bee3-2164ba524da7\" target=\"_top\" title=\"psysml:38fbb285-8167-4e3f-bee3-2164ba524da7\" xlink:actuate=\"onRequest\" xlink:href=\"psysml:38fbb285-8167-4e3f-bee3-2164ba524da7\" xlink:show=\"new\" xlink:title=\"psysml:38fbb285-8167-4e3f-bee3-2164ba524da7\" xlink:type=\"simple\"><rect fill=\"#FEFECE\" filter=\"url(#f1hn1vho5y0jyo)\" height=\"45.9375\" id=\"E6\" rx=\"10\" ry=\"10\" style=\"stroke: #A80036; stroke-width: 1.5;\" width=\"255\" x=\"87.25\" y=\"164\"/><text fill=\"#000000\" font-family=\"sans-serif\" font-size=\"12\" font-style=\"italic\" lengthAdjust=\"spacingAndGlyphs\" textLength=\"91\" x=\"169.25\" y=\"180.1387\">«requirement»</text><text fill=\"#000000\" font-family=\"sans-serif\" font-size=\"12\" lengthAdjust=\"spacingAndGlyphs\" textLength=\"245\" x=\"90.25\" y=\"194.1074\">tradeStudyObjective: MaximizeObjective</text><line style=\"stroke: #A80036; stroke-width: 1.5;\" x1=\"88.25\" x2=\"341.25\" y1=\"201.9375\" y2=\"201.9375\"/></a><!--MD5=[2156ba9850f5573cc1fc38a6a4b2f02b]\n",
       "class E7--><a href=\"psysml:658dce09-b71c-4e6e-94c9-a3c46617ebc8\" target=\"_top\" title=\"psysml:658dce09-b71c-4e6e-94c9-a3c46617ebc8\" xlink:actuate=\"onRequest\" xlink:href=\"psysml:658dce09-b71c-4e6e-94c9-a3c46617ebc8\" xlink:show=\"new\" xlink:title=\"psysml:658dce09-b71c-4e6e-94c9-a3c46617ebc8\" xlink:type=\"simple\"><rect fill=\"#FEFECE\" filter=\"url(#f1hn1vho5y0jyo)\" height=\"45.9375\" id=\"E7\" rx=\"10\" ry=\"10\" style=\"stroke: #A80036; stroke-width: 1.5;\" width=\"116\" x=\"377.75\" y=\"164\"/><text fill=\"#000000\" font-family=\"sans-serif\" font-size=\"12\" font-style=\"italic\" lengthAdjust=\"spacingAndGlyphs\" textLength=\"82\" x=\"394.75\" y=\"180.1387\">«calculation»</text><text fill=\"#000000\" font-family=\"sans-serif\" font-size=\"12\" lengthAdjust=\"spacingAndGlyphs\" textLength=\"110\" x=\"380.75\" y=\"194.1074\">objectiveFunction</text><line style=\"stroke: #A80036; stroke-width: 1.5;\" x1=\"378.75\" x2=\"492.75\" y1=\"201.9375\" y2=\"201.9375\"/></a><!--MD5=[b9389687b975829384b498ac4b7476b2]\n",
       "class E8--><a href=\"psysml:3dbf099d-922d-4ace-9ccd-679bba93319b\" target=\"_top\" title=\"psysml:3dbf099d-922d-4ace-9ccd-679bba93319b\" xlink:actuate=\"onRequest\" xlink:href=\"psysml:3dbf099d-922d-4ace-9ccd-679bba93319b\" xlink:show=\"new\" xlink:title=\"psysml:3dbf099d-922d-4ace-9ccd-679bba93319b\" xlink:type=\"simple\"><rect fill=\"#FEFECE\" filter=\"url(#f1hn1vho5y0jyo)\" height=\"45.9375\" id=\"E8\" rx=\"10\" ry=\"10\" style=\"stroke: #A80036; stroke-width: 1.5;\" width=\"128\" x=\"71.75\" y=\"316\"/><text fill=\"#000000\" font-family=\"sans-serif\" font-size=\"12\" font-style=\"italic\" lengthAdjust=\"spacingAndGlyphs\" textLength=\"40\" x=\"115.75\" y=\"332.1387\">«part»</text><text fill=\"#000000\" font-family=\"sans-serif\" font-size=\"12\" lengthAdjust=\"spacingAndGlyphs\" textLength=\"118\" x=\"74.75\" y=\"346.1074\">alternative: Engine</text><line style=\"stroke: #A80036; stroke-width: 1.5;\" x1=\"72.75\" x2=\"198.75\" y1=\"353.9375\" y2=\"353.9375\"/></a><!--MD5=[fd4143e9d270a159db93a4ea2a975926]\n",
       "class E9--><a href=\"psysml:5fb9bd76-5535-468b-bb8f-88cd6f109fe8\" target=\"_top\" title=\"psysml:5fb9bd76-5535-468b-bb8f-88cd6f109fe8\" xlink:actuate=\"onRequest\" xlink:href=\"psysml:5fb9bd76-5535-468b-bb8f-88cd6f109fe8\" xlink:show=\"new\" xlink:title=\"psysml:5fb9bd76-5535-468b-bb8f-88cd6f109fe8\" xlink:type=\"simple\"><rect fill=\"#FEFECE\" filter=\"url(#f1hn1vho5y0jyo)\" height=\"45.9375\" id=\"E9\" rx=\"10\" ry=\"10\" style=\"stroke: #A80036; stroke-width: 1.5;\" width=\"182\" x=\"297.75\" y=\"240\"/><text fill=\"#000000\" font-family=\"sans-serif\" font-size=\"12\" font-style=\"italic\" lengthAdjust=\"spacingAndGlyphs\" textLength=\"40\" x=\"368.75\" y=\"256.1387\">«part»</text><text fill=\"#000000\" font-family=\"sans-serif\" font-size=\"12\" lengthAdjust=\"spacingAndGlyphs\" textLength=\"172\" x=\"300.75\" y=\"270.1074\">selectedAlternative: Engine</text><line style=\"stroke: #A80036; stroke-width: 1.5;\" x1=\"298.75\" x2=\"478.75\" y1=\"277.9375\" y2=\"277.9375\"/></a><!--MD5=[05d275557350bfb9b23a4ef7222b4c39]\n",
       "link E3 to E2--><a href=\"psysml:8b560a74-32d8-45cc-8c0e-f8d7e14b884a\" target=\"_top\" title=\"psysml:8b560a74-32d8-45cc-8c0e-f8d7e14b884a\" xlink:actuate=\"onRequest\" xlink:href=\"psysml:8b560a74-32d8-45cc-8c0e-f8d7e14b884a\" xlink:show=\"new\" xlink:title=\"psysml:8b560a74-32d8-45cc-8c0e-f8d7e14b884a\" xlink:type=\"simple\"><path d=\"M424.65,362.01 C385.12,379.38 330.1,403.55 289.63,421.33 \" fill=\"none\" id=\"E3-&gt;E2\" style=\"stroke: #A80036; stroke-width: 1.0;\"/><polygon fill=\"#FFFFFF\" points=\"271.06,429.49,285.6417,415.4411,291.271,428.2594,271.06,429.49\" style=\"stroke: #A80036; stroke-width: 1.0;\"/><ellipse cx=\"291.6648\" cy=\"414.9803\" fill=\"#A80036\" rx=\"2\" ry=\"2\" style=\"stroke: #A80036; stroke-width: 1.0;\"/><ellipse cx=\"295.6858\" cy=\"424.1363\" fill=\"#A80036\" rx=\"2\" ry=\"2\" style=\"stroke: #A80036; stroke-width: 1.0;\"/></a><!--MD5=[185131fc0dcab0a4505a2ebe144e961b]\n",
       "link E4 to E2--><a href=\"psysml:7f518d85-a598-4692-a186-0ec59d25f08f\" target=\"_top\" title=\"psysml:7f518d85-a598-4692-a186-0ec59d25f08f\" xlink:actuate=\"onRequest\" xlink:href=\"psysml:7f518d85-a598-4692-a186-0ec59d25f08f\" xlink:show=\"new\" xlink:title=\"psysml:7f518d85-a598-4692-a186-0ec59d25f08f\" xlink:type=\"simple\"><path d=\"M308.46,362.01 C297.01,375.08 282.18,392.01 268.89,407.17 \" fill=\"none\" id=\"E4-&gt;E2\" style=\"stroke: #A80036; stroke-width: 1.0;\"/><polygon fill=\"#FFFFFF\" points=\"255.33,422.66,262.5901,403.7578,273.1181,412.9861,255.33,422.66\" style=\"stroke: #A80036; stroke-width: 1.0;\"/><ellipse cx=\"267.8513\" cy=\"400.7898\" fill=\"#A80036\" rx=\"2\" ry=\"2\" style=\"stroke: #A80036; stroke-width: 1.0;\"/><ellipse cx=\"275.3713\" cy=\"407.3814\" fill=\"#A80036\" rx=\"2\" ry=\"2\" style=\"stroke: #A80036; stroke-width: 1.0;\"/></a><!--MD5=[15ebcb19ae302d9b601edb458606d402]\n",
       "link E5 to E2--><a href=\"psysml:8e91b88f-f820-4b3f-bc7b-6a32144645a0\" target=\"_top\" title=\"psysml:8e91b88f-f820-4b3f-bc7b-6a32144645a0\" xlink:actuate=\"onRequest\" xlink:href=\"psysml:8e91b88f-f820-4b3f-bc7b-6a32144645a0\" xlink:show=\"new\" xlink:title=\"psysml:8e91b88f-f820-4b3f-bc7b-6a32144645a0\" xlink:type=\"simple\"><path d=\"M248.05,74.19 C186.69,85.36 112.38,109.96 69.75,164 C15.07,233.32 6,287.74 53.75,362 C84.89,410.42 152.01,430.93 195.46,439.38 \" fill=\"none\" id=\"E5-&gt;E2\" style=\"stroke: #A80036; stroke-width: 1.0; stroke-dasharray: 7.0,7.0;\"/><polygon fill=\"#A80036\" points=\"200.63,440.35,192.5135,434.7713,195.7143,439.4355,191.0502,442.6363,200.63,440.35\" style=\"stroke: #A80036; stroke-width: 1.0;\"/><text fill=\"#000000\" font-family=\"sans-serif\" font-size=\"13\" lengthAdjust=\"spacingAndGlyphs\" textLength=\"62\" x=\"28.75\" y=\"267.5669\">«subject»</text></a><!--MD5=[9120cf2e5df3bff93db8f754bbbc09b4]\n",
       "link E5 to E6--><a href=\"psysml:a6ebdbd2-b0f8-4e64-baff-f91dc99eb3fc\" target=\"_top\" title=\"psysml:a6ebdbd2-b0f8-4e64-baff-f91dc99eb3fc\" xlink:actuate=\"onRequest\" xlink:href=\"psysml:a6ebdbd2-b0f8-4e64-baff-f91dc99eb3fc\" xlink:show=\"new\" xlink:title=\"psysml:a6ebdbd2-b0f8-4e64-baff-f91dc99eb3fc\" xlink:type=\"simple\"><path d=\"M324.99,87.19 C302.63,107.23 269.64,136.8 245.58,158.37 \" fill=\"none\" id=\"E5-&gt;E6\" style=\"stroke: #A80036; stroke-width: 1.0;\"/><polygon fill=\"#A80036\" points=\"239.35,163.95,247.3086,160.8419,243.3025,156.3752,239.35,163.95\" style=\"stroke: #A80036; stroke-width: 1.0;\"/><text fill=\"#000000\" font-family=\"sans-serif\" font-size=\"13\" lengthAdjust=\"spacingAndGlyphs\" textLength=\"73\" x=\"290.75\" y=\"130.0669\">«objective»</text></a><!--MD5=[452b418e7f8a40397a49b8c0a78acc5b]\n",
       "reverse link E5 to E7--><a href=\"psysml:1d968e51-2f45-472a-9c8d-b659e8169068\" target=\"_top\" title=\"psysml:1d968e51-2f45-472a-9c8d-b659e8169068\" xlink:actuate=\"onRequest\" xlink:href=\"psysml:1d968e51-2f45-472a-9c8d-b659e8169068\" xlink:show=\"new\" xlink:title=\"psysml:1d968e51-2f45-472a-9c8d-b659e8169068\" xlink:type=\"simple\"><path d=\"M373.12,97.88 C388.03,118.86 406.95,145.48 420.08,163.95 \" fill=\"none\" id=\"E5&lt;-E7\" style=\"stroke: #A80036; stroke-width: 1.0;\"/><polygon fill=\"#A80036\" points=\"365.52,87.19,365.7442,94.3976,372.4836,96.9628,372.2594,89.7552,365.52,87.19\" style=\"stroke: #A80036; stroke-width: 1.0;\"/></a><!--MD5=[dc164f5e8a733ab456ef1add180e9e34]\n",
       "reverse link E7 to E8--><a href=\"psysml:762eee8a-df65-48ef-8994-f8166e9b75f6\" target=\"_top\" title=\"psysml:762eee8a-df65-48ef-8994-f8166e9b75f6\" xlink:actuate=\"onRequest\" xlink:href=\"psysml:762eee8a-df65-48ef-8994-f8166e9b75f6\" xlink:show=\"new\" xlink:title=\"psysml:762eee8a-df65-48ef-8994-f8166e9b75f6\" xlink:type=\"simple\"><path d=\"M365.14,209.66 C331.9,220.26 296.21,232.36 280.75,240 C237.3,261.47 191.71,294.23 163.51,315.88 \" fill=\"none\" id=\"E7&lt;-E8\" style=\"stroke: #A80036; stroke-width: 1.0;\"/><polygon fill=\"#FFFFFF\" points=\"377.71,205.68,370.7821,203.6789,366.2704,209.3043,373.1983,211.3053,377.71,205.68\" style=\"stroke: #A80036; stroke-width: 1.0;\"/><text fill=\"#000000\" font-family=\"sans-serif\" font-size=\"13\" lengthAdjust=\"spacingAndGlyphs\" textLength=\"8\" x=\"161.8955\" y=\"304.744\">1</text></a><!--MD5=[f1f3f9f2fc535e6147756cb86a7f2e32]\n",
       "link E8 to E2--><a href=\"psysml:b4a53d37-cc69-46b7-9c1e-d748cdbb7a31\" target=\"_top\" title=\"psysml:b4a53d37-cc69-46b7-9c1e-d748cdbb7a31\" xlink:actuate=\"onRequest\" xlink:href=\"psysml:b4a53d37-cc69-46b7-9c1e-d748cdbb7a31\" xlink:show=\"new\" xlink:title=\"psysml:b4a53d37-cc69-46b7-9c1e-d748cdbb7a31\" xlink:type=\"simple\"><path d=\"M156.71,362.01 C169.43,375.36 185.98,392.74 200.64,408.14 \" fill=\"none\" id=\"E8-&gt;E2\" style=\"stroke: #A80036; stroke-width: 1.0;\"/><polygon fill=\"#FFFFFF\" points=\"214.47,422.66,196.3009,413.7223,206.4424,404.0708,214.47,422.66\" style=\"stroke: #A80036; stroke-width: 1.0;\"/><ellipse cx=\"193.8202\" cy=\"408.2144\" fill=\"#A80036\" rx=\"2\" ry=\"2\" style=\"stroke: #A80036; stroke-width: 1.0;\"/><ellipse cx=\"201.0641\" cy=\"401.3206\" fill=\"#A80036\" rx=\"2\" ry=\"2\" style=\"stroke: #A80036; stroke-width: 1.0;\"/></a><!--MD5=[9ae28de373ca99bb8a1b38d63370ca7e]\n",
       "reverse link E5 to E9--><a href=\"psysml:b337f31d-c5a0-436f-953f-431d96e2f8f6\" target=\"_top\" title=\"psysml:b337f31d-c5a0-436f-953f-431d96e2f8f6\" xlink:actuate=\"onRequest\" xlink:href=\"psysml:b337f31d-c5a0-436f-953f-431d96e2f8f6\" xlink:show=\"new\" xlink:title=\"psysml:b337f31d-c5a0-436f-953f-431d96e2f8f6\" xlink:type=\"simple\"><path d=\"M427.82,92.73 C459.8,108.4 493.52,131.5 511.75,164 C521.75,181.83 523.05,192.96 511.75,210 C503.17,222.95 490.65,232.68 476.85,239.99 \" fill=\"none\" id=\"E5&lt;-E9\" style=\"stroke: #A80036; stroke-width: 1.0;\"/><polygon fill=\"#FFFFFF\" points=\"415.69,87.08,419.4417,93.2383,426.5692,92.1438,422.8176,85.9855,415.69,87.08\" style=\"stroke: #A80036; stroke-width: 1.0;\"/><text fill=\"#000000\" font-family=\"sans-serif\" font-size=\"13\" lengthAdjust=\"spacingAndGlyphs\" textLength=\"8\" x=\"487.2469\" y=\"230.4042\">1</text></a><!--MD5=[5c3bb36fe832a92c7f0e1807dd65209d]\n",
       "link E9 to E2--><a href=\"psysml:a6a00959-a343-466b-bcfe-643c8c056808\" target=\"_top\" title=\"psysml:a6a00959-a343-466b-bcfe-643c8c056808\" xlink:actuate=\"onRequest\" xlink:href=\"psysml:a6a00959-a343-466b-bcfe-643c8c056808\" xlink:show=\"new\" xlink:title=\"psysml:a6a00959-a343-466b-bcfe-643c8c056808\" xlink:type=\"simple\"><path d=\"M297.61,284.36 C281.24,291.84 265.88,302.05 254.75,316 C235.48,340.16 231.36,375.23 231.71,402.71 \" fill=\"none\" id=\"E9-&gt;E2\" style=\"stroke: #A80036; stroke-width: 1.0;\"/><polygon fill=\"#FFFFFF\" points=\"232.74,422.77,224.772,404.1552,238.7535,403.4351,232.74,422.77\" style=\"stroke: #A80036; stroke-width: 1.0;\"/><ellipse cx=\"226.4762\" cy=\"398.3599\" fill=\"#A80036\" rx=\"2\" ry=\"2\" style=\"stroke: #A80036; stroke-width: 1.0;\"/><ellipse cx=\"236.463\" cy=\"397.8455\" fill=\"#A80036\" rx=\"2\" ry=\"2\" style=\"stroke: #A80036; stroke-width: 1.0;\"/></a><!--MD5=[eddef1cc981923eee9410b55d9ce7325]\n",
       "@startuml\r\n",
       "skinparam wrapWidth 300\r\n",
       "hide circle\r\n",
       "\r\n",
       "package \"TradeStudyTest\" as E1  [[psysml:57f8a98c-5718-48d8-9b9a-5c4650640602 ]]  {\r\n",
       "comp def \"Engine\" as E2  <<(T,blue) part  def>> [[psysml:6445380e-76a1-4d64-a2e6-1c63aec68392 ]] {\r\n",
       "}\r\n",
       "comp usage \"engine1: Engine \" as E3  <<(T,blue) part>> [[psysml:e07cfc3f-c273-4e94-9cbe-d128d50ec860 ]] {\r\n",
       "}\r\n",
       "comp usage \"engine2: Engine \" as E4  <<(T,blue) part>> [[psysml:d9e10f1c-39bd-473d-af93-7c118d42db3b ]] {\r\n",
       "}\r\n",
       "comp usage \"engineTradeStudy: TradeStudy \" as E5 << analysis>> [[psysml:f9c838ee-65e7-4043-9f07-1b30ef92e49c ]] {\r\n",
       "}\r\n",
       "comp usage \"tradeStudyObjective: MaximizeObjective \" as E6  <<(T,blue) requirement>> [[psysml:38fbb285-8167-4e3f-bee3-2164ba524da7 ]] {\r\n",
       "}\r\n",
       "comp usage \"objectiveFunction\" as E7  <<(T,blue) calculation>> [[psysml:658dce09-b71c-4e6e-94c9-a3c46617ebc8 ]] {\r\n",
       "}\r\n",
       "comp usage \"alternative: Engine \" as E8  <<(T,blue) part>> [[psysml:3dbf099d-922d-4ace-9ccd-679bba93319b ]] {\r\n",
       "}\r\n",
       "comp usage \"selectedAlternative: Engine \" as E9  <<(T,blue) part>> [[psysml:5fb9bd76-5535-468b-bb8f-88cd6f109fe8 ]] {\r\n",
       "}\r\n",
       "}\r\n",
       "E3 - -:|> E2 [[psysml:8b560a74-32d8-45cc-8c0e-f8d7e14b884a ]] \r\n",
       "E4 - -:|> E2 [[psysml:7f518d85-a598-4692-a186-0ec59d25f08f ]] \r\n",
       "E5 ..> E2 [[psysml:8e91b88f-f820-4b3f-bc7b-6a32144645a0 ]] : <<subject>>\r\n",
       "E5 - ->> E6 [[psysml:a6ebdbd2-b0f8-4e64-baff-f91dc99eb3fc ]] : <<objective>>\r\n",
       "E5 *- - E7 [[psysml:1d968e51-2f45-472a-9c8d-b659e8169068 ]] \r\n",
       "E7 o- - \"1\"E8 [[psysml:762eee8a-df65-48ef-8994-f8166e9b75f6 ]] \r\n",
       "E8 - -:|> E2 [[psysml:b4a53d37-cc69-46b7-9c1e-d748cdbb7a31 ]] \r\n",
       "E5 o- - \"1\"E9 [[psysml:b337f31d-c5a0-436f-953f-431d96e2f8f6 ]] \r\n",
       "E9 - -:|> E2 [[psysml:a6a00959-a343-466b-bcfe-643c8c056808 ]] \r\n",
       "@enduml\r\n",
       "\n",
       "PlantUML version 1.2020.13(Sat Jun 13 12:26:38 UTC 2020)\n",
       "(EPL source distribution)\n",
       "Java Runtime: OpenJDK Runtime Environment\n",
       "JVM: OpenJDK 64-Bit Server VM\n",
       "Default Encoding: UTF-8\n",
       "Language: en\n",
       "Country: null\n",
       "--></g></svg>"
      ]
     },
     "execution_count": 23,
     "metadata": {},
     "output_type": "execute_result"
    }
   ],
   "source": [
    "%viz --style=\"STDCOLOR\" --view=\"Default\" \"TradeStudyTest\""
   ]
  },
  {
   "cell_type": "code",
   "execution_count": 24,
   "id": "47e66672",
   "metadata": {
    "execution": {
     "iopub.execute_input": "2021-11-13T13:01:39.928909Z",
     "iopub.status.busy": "2021-11-13T13:01:39.928453Z",
     "iopub.status.idle": "2021-11-13T13:01:39.968479Z",
     "shell.execute_reply": "2021-11-13T13:01:39.968112Z"
    }
   },
   "outputs": [
    {
     "data": {
      "image/svg+xml": [
       "<?xml version=\"1.0\" encoding=\"UTF-8\" standalone=\"no\"?><svg xmlns=\"http://www.w3.org/2000/svg\" xmlns:xlink=\"http://www.w3.org/1999/xlink\" contentScriptType=\"application/ecmascript\" contentStyleType=\"text/css\" height=\"497px\" preserveAspectRatio=\"none\" style=\"width:568px;height:497px;\" version=\"1.1\" viewBox=\"0 0 568 497\" width=\"568px\" zoomAndPan=\"magnify\"><defs><filter height=\"300%\" id=\"f1hn1vho5y0jyo\" width=\"300%\" x=\"-1\" y=\"-1\"><feGaussianBlur result=\"blurOut\" stdDeviation=\"2.0\"/><feColorMatrix in=\"blurOut\" result=\"blurOut2\" type=\"matrix\" values=\"0 0 0 0 0 0 0 0 0 0 0 0 0 0 0 0 0 0 .4 0\"/><feOffset dx=\"4.0\" dy=\"4.0\" in=\"blurOut2\" result=\"blurOut3\"/><feBlend in=\"SourceGraphic\" in2=\"blurOut3\" mode=\"normal\"/></filter></defs><g><!--MD5=[fbc87193dbaf4d95561dea2c320d4a47]\n",
       "cluster E1--><a href=\"psysml:57f8a98c-5718-48d8-9b9a-5c4650640602\" target=\"_top\" title=\"psysml:57f8a98c-5718-48d8-9b9a-5c4650640602\" xlink:actuate=\"onRequest\" xlink:href=\"psysml:57f8a98c-5718-48d8-9b9a-5c4650640602\" xlink:show=\"new\" xlink:title=\"psysml:57f8a98c-5718-48d8-9b9a-5c4650640602\" xlink:type=\"simple\"><polygon fill=\"#FFFFFF\" filter=\"url(#f1hn1vho5y0jyo)\" points=\"18.75,6,134.75,6,141.75,28.2969,546.75,28.2969,546.75,485,18.75,485,18.75,6\" style=\"stroke: #000000; stroke-width: 1.5;\"/><line style=\"stroke: #000000; stroke-width: 1.5;\" x1=\"18.75\" x2=\"141.75\" y1=\"28.2969\" y2=\"28.2969\"/><text fill=\"#000000\" font-family=\"sans-serif\" font-size=\"14\" font-weight=\"bold\" lengthAdjust=\"spacingAndGlyphs\" textLength=\"110\" x=\"22.75\" y=\"20.9951\">TradeStudyTest</text></a><!--MD5=[b4997ac47864f28c2f74865a473b2911]\n",
       "class E2--><a href=\"psysml:6445380e-76a1-4d64-a2e6-1c63aec68392\" target=\"_top\" title=\"psysml:6445380e-76a1-4d64-a2e6-1c63aec68392\" xlink:actuate=\"onRequest\" xlink:href=\"psysml:6445380e-76a1-4d64-a2e6-1c63aec68392\" xlink:show=\"new\" xlink:title=\"psysml:6445380e-76a1-4d64-a2e6-1c63aec68392\" xlink:type=\"simple\"><rect fill=\"#FEFECE\" filter=\"url(#f1hn1vho5y0jyo)\" height=\"45.9375\" id=\"E2\" style=\"stroke: #A80036; stroke-width: 1.5;\" width=\"70\" x=\"200.75\" y=\"423\"/><text fill=\"#000000\" font-family=\"sans-serif\" font-size=\"12\" font-style=\"italic\" lengthAdjust=\"spacingAndGlyphs\" textLength=\"68\" x=\"201.75\" y=\"439.1387\">«part  def»</text><text fill=\"#000000\" font-family=\"sans-serif\" font-size=\"12\" lengthAdjust=\"spacingAndGlyphs\" textLength=\"43\" x=\"214.25\" y=\"453.1074\">Engine</text><line style=\"stroke: #A80036; stroke-width: 1.5;\" x1=\"201.75\" x2=\"269.75\" y1=\"460.9375\" y2=\"460.9375\"/></a><!--MD5=[09b614a08d8cba4a07c9adeb5e0fee81]\n",
       "class E3--><a href=\"psysml:e07cfc3f-c273-4e94-9cbe-d128d50ec860\" target=\"_top\" title=\"psysml:e07cfc3f-c273-4e94-9cbe-d128d50ec860\" xlink:actuate=\"onRequest\" xlink:href=\"psysml:e07cfc3f-c273-4e94-9cbe-d128d50ec860\" xlink:show=\"new\" xlink:title=\"psysml:e07cfc3f-c273-4e94-9cbe-d128d50ec860\" xlink:type=\"simple\"><rect fill=\"#FEFECE\" filter=\"url(#f1hn1vho5y0jyo)\" height=\"45.9375\" id=\"E3\" rx=\"10\" ry=\"10\" style=\"stroke: #A80036; stroke-width: 1.5;\" width=\"112\" x=\"418.75\" y=\"316\"/><text fill=\"#000000\" font-family=\"sans-serif\" font-size=\"12\" font-style=\"italic\" lengthAdjust=\"spacingAndGlyphs\" textLength=\"40\" x=\"454.75\" y=\"332.1387\">«part»</text><text fill=\"#000000\" font-family=\"sans-serif\" font-size=\"12\" lengthAdjust=\"spacingAndGlyphs\" textLength=\"102\" x=\"421.75\" y=\"346.1074\">engine1: Engine</text><line style=\"stroke: #A80036; stroke-width: 1.5;\" x1=\"419.75\" x2=\"529.75\" y1=\"353.9375\" y2=\"353.9375\"/></a><!--MD5=[ebbe1d658d1005bcc118a6aa81145e00]\n",
       "class E4--><a href=\"psysml:d9e10f1c-39bd-473d-af93-7c118d42db3b\" target=\"_top\" title=\"psysml:d9e10f1c-39bd-473d-af93-7c118d42db3b\" xlink:actuate=\"onRequest\" xlink:href=\"psysml:d9e10f1c-39bd-473d-af93-7c118d42db3b\" xlink:show=\"new\" xlink:title=\"psysml:d9e10f1c-39bd-473d-af93-7c118d42db3b\" xlink:type=\"simple\"><rect fill=\"#FEFECE\" filter=\"url(#f1hn1vho5y0jyo)\" height=\"45.9375\" id=\"E4\" rx=\"10\" ry=\"10\" style=\"stroke: #A80036; stroke-width: 1.5;\" width=\"112\" x=\"271.75\" y=\"316\"/><text fill=\"#000000\" font-family=\"sans-serif\" font-size=\"12\" font-style=\"italic\" lengthAdjust=\"spacingAndGlyphs\" textLength=\"40\" x=\"307.75\" y=\"332.1387\">«part»</text><text fill=\"#000000\" font-family=\"sans-serif\" font-size=\"12\" lengthAdjust=\"spacingAndGlyphs\" textLength=\"102\" x=\"274.75\" y=\"346.1074\">engine2: Engine</text><line style=\"stroke: #A80036; stroke-width: 1.5;\" x1=\"272.75\" x2=\"382.75\" y1=\"353.9375\" y2=\"353.9375\"/></a><!--MD5=[270fce915f116d4de14055a7c1d9a0f3]\n",
       "class E5--><a href=\"psysml:f9c838ee-65e7-4043-9f07-1b30ef92e49c\" target=\"_top\" title=\"psysml:f9c838ee-65e7-4043-9f07-1b30ef92e49c\" xlink:actuate=\"onRequest\" xlink:href=\"psysml:f9c838ee-65e7-4043-9f07-1b30ef92e49c\" xlink:show=\"new\" xlink:title=\"psysml:f9c838ee-65e7-4043-9f07-1b30ef92e49c\" xlink:type=\"simple\"><rect fill=\"#FEFECE\" filter=\"url(#f1hn1vho5y0jyo)\" height=\"45.9375\" id=\"E5\" rx=\"10\" ry=\"10\" style=\"stroke: #A80036; stroke-width: 1.5;\" width=\"203\" x=\"248.25\" y=\"41\"/><text fill=\"#000000\" font-family=\"sans-serif\" font-size=\"12\" font-style=\"italic\" lengthAdjust=\"spacingAndGlyphs\" textLength=\"64\" x=\"317.75\" y=\"57.1387\">«analysis»</text><text fill=\"#000000\" font-family=\"sans-serif\" font-size=\"12\" lengthAdjust=\"spacingAndGlyphs\" textLength=\"193\" x=\"251.25\" y=\"71.1074\">engineTradeStudy: TradeStudy</text><line style=\"stroke: #A80036; stroke-width: 1.5;\" x1=\"249.25\" x2=\"450.25\" y1=\"78.9375\" y2=\"78.9375\"/></a><!--MD5=[60a26617385b1d2d0262a64233df1f8d]\n",
       "class E6--><a href=\"psysml:38fbb285-8167-4e3f-bee3-2164ba524da7\" target=\"_top\" title=\"psysml:38fbb285-8167-4e3f-bee3-2164ba524da7\" xlink:actuate=\"onRequest\" xlink:href=\"psysml:38fbb285-8167-4e3f-bee3-2164ba524da7\" xlink:show=\"new\" xlink:title=\"psysml:38fbb285-8167-4e3f-bee3-2164ba524da7\" xlink:type=\"simple\"><rect fill=\"#FEFECE\" filter=\"url(#f1hn1vho5y0jyo)\" height=\"45.9375\" id=\"E6\" rx=\"10\" ry=\"10\" style=\"stroke: #A80036; stroke-width: 1.5;\" width=\"255\" x=\"87.25\" y=\"164\"/><text fill=\"#000000\" font-family=\"sans-serif\" font-size=\"12\" font-style=\"italic\" lengthAdjust=\"spacingAndGlyphs\" textLength=\"91\" x=\"169.25\" y=\"180.1387\">«requirement»</text><text fill=\"#000000\" font-family=\"sans-serif\" font-size=\"12\" lengthAdjust=\"spacingAndGlyphs\" textLength=\"245\" x=\"90.25\" y=\"194.1074\">tradeStudyObjective: MaximizeObjective</text><line style=\"stroke: #A80036; stroke-width: 1.5;\" x1=\"88.25\" x2=\"341.25\" y1=\"201.9375\" y2=\"201.9375\"/></a><!--MD5=[2156ba9850f5573cc1fc38a6a4b2f02b]\n",
       "class E7--><a href=\"psysml:658dce09-b71c-4e6e-94c9-a3c46617ebc8\" target=\"_top\" title=\"psysml:658dce09-b71c-4e6e-94c9-a3c46617ebc8\" xlink:actuate=\"onRequest\" xlink:href=\"psysml:658dce09-b71c-4e6e-94c9-a3c46617ebc8\" xlink:show=\"new\" xlink:title=\"psysml:658dce09-b71c-4e6e-94c9-a3c46617ebc8\" xlink:type=\"simple\"><rect fill=\"#FEFECE\" filter=\"url(#f1hn1vho5y0jyo)\" height=\"45.9375\" id=\"E7\" rx=\"10\" ry=\"10\" style=\"stroke: #A80036; stroke-width: 1.5;\" width=\"116\" x=\"377.75\" y=\"164\"/><text fill=\"#000000\" font-family=\"sans-serif\" font-size=\"12\" font-style=\"italic\" lengthAdjust=\"spacingAndGlyphs\" textLength=\"82\" x=\"394.75\" y=\"180.1387\">«calculation»</text><text fill=\"#000000\" font-family=\"sans-serif\" font-size=\"12\" lengthAdjust=\"spacingAndGlyphs\" textLength=\"110\" x=\"380.75\" y=\"194.1074\">objectiveFunction</text><line style=\"stroke: #A80036; stroke-width: 1.5;\" x1=\"378.75\" x2=\"492.75\" y1=\"201.9375\" y2=\"201.9375\"/></a><!--MD5=[b9389687b975829384b498ac4b7476b2]\n",
       "class E8--><a href=\"psysml:3dbf099d-922d-4ace-9ccd-679bba93319b\" target=\"_top\" title=\"psysml:3dbf099d-922d-4ace-9ccd-679bba93319b\" xlink:actuate=\"onRequest\" xlink:href=\"psysml:3dbf099d-922d-4ace-9ccd-679bba93319b\" xlink:show=\"new\" xlink:title=\"psysml:3dbf099d-922d-4ace-9ccd-679bba93319b\" xlink:type=\"simple\"><rect fill=\"#FEFECE\" filter=\"url(#f1hn1vho5y0jyo)\" height=\"45.9375\" id=\"E8\" rx=\"10\" ry=\"10\" style=\"stroke: #A80036; stroke-width: 1.5;\" width=\"128\" x=\"71.75\" y=\"316\"/><text fill=\"#000000\" font-family=\"sans-serif\" font-size=\"12\" font-style=\"italic\" lengthAdjust=\"spacingAndGlyphs\" textLength=\"40\" x=\"115.75\" y=\"332.1387\">«part»</text><text fill=\"#000000\" font-family=\"sans-serif\" font-size=\"12\" lengthAdjust=\"spacingAndGlyphs\" textLength=\"118\" x=\"74.75\" y=\"346.1074\">alternative: Engine</text><line style=\"stroke: #A80036; stroke-width: 1.5;\" x1=\"72.75\" x2=\"198.75\" y1=\"353.9375\" y2=\"353.9375\"/></a><!--MD5=[fd4143e9d270a159db93a4ea2a975926]\n",
       "class E9--><a href=\"psysml:5fb9bd76-5535-468b-bb8f-88cd6f109fe8\" target=\"_top\" title=\"psysml:5fb9bd76-5535-468b-bb8f-88cd6f109fe8\" xlink:actuate=\"onRequest\" xlink:href=\"psysml:5fb9bd76-5535-468b-bb8f-88cd6f109fe8\" xlink:show=\"new\" xlink:title=\"psysml:5fb9bd76-5535-468b-bb8f-88cd6f109fe8\" xlink:type=\"simple\"><rect fill=\"#FEFECE\" filter=\"url(#f1hn1vho5y0jyo)\" height=\"45.9375\" id=\"E9\" rx=\"10\" ry=\"10\" style=\"stroke: #A80036; stroke-width: 1.5;\" width=\"182\" x=\"297.75\" y=\"240\"/><text fill=\"#000000\" font-family=\"sans-serif\" font-size=\"12\" font-style=\"italic\" lengthAdjust=\"spacingAndGlyphs\" textLength=\"40\" x=\"368.75\" y=\"256.1387\">«part»</text><text fill=\"#000000\" font-family=\"sans-serif\" font-size=\"12\" lengthAdjust=\"spacingAndGlyphs\" textLength=\"172\" x=\"300.75\" y=\"270.1074\">selectedAlternative: Engine</text><line style=\"stroke: #A80036; stroke-width: 1.5;\" x1=\"298.75\" x2=\"478.75\" y1=\"277.9375\" y2=\"277.9375\"/></a><!--MD5=[05d275557350bfb9b23a4ef7222b4c39]\n",
       "link E3 to E2--><a href=\"psysml:8b560a74-32d8-45cc-8c0e-f8d7e14b884a\" target=\"_top\" title=\"psysml:8b560a74-32d8-45cc-8c0e-f8d7e14b884a\" xlink:actuate=\"onRequest\" xlink:href=\"psysml:8b560a74-32d8-45cc-8c0e-f8d7e14b884a\" xlink:show=\"new\" xlink:title=\"psysml:8b560a74-32d8-45cc-8c0e-f8d7e14b884a\" xlink:type=\"simple\"><path d=\"M424.65,362.01 C385.12,379.38 330.1,403.55 289.63,421.33 \" fill=\"none\" id=\"E3-&gt;E2\" style=\"stroke: #A80036; stroke-width: 1.0;\"/><polygon fill=\"#FFFFFF\" points=\"271.06,429.49,285.6417,415.4411,291.271,428.2594,271.06,429.49\" style=\"stroke: #A80036; stroke-width: 1.0;\"/><ellipse cx=\"291.6648\" cy=\"414.9803\" fill=\"#A80036\" rx=\"2\" ry=\"2\" style=\"stroke: #A80036; stroke-width: 1.0;\"/><ellipse cx=\"295.6858\" cy=\"424.1363\" fill=\"#A80036\" rx=\"2\" ry=\"2\" style=\"stroke: #A80036; stroke-width: 1.0;\"/></a><!--MD5=[185131fc0dcab0a4505a2ebe144e961b]\n",
       "link E4 to E2--><a href=\"psysml:7f518d85-a598-4692-a186-0ec59d25f08f\" target=\"_top\" title=\"psysml:7f518d85-a598-4692-a186-0ec59d25f08f\" xlink:actuate=\"onRequest\" xlink:href=\"psysml:7f518d85-a598-4692-a186-0ec59d25f08f\" xlink:show=\"new\" xlink:title=\"psysml:7f518d85-a598-4692-a186-0ec59d25f08f\" xlink:type=\"simple\"><path d=\"M308.46,362.01 C297.01,375.08 282.18,392.01 268.89,407.17 \" fill=\"none\" id=\"E4-&gt;E2\" style=\"stroke: #A80036; stroke-width: 1.0;\"/><polygon fill=\"#FFFFFF\" points=\"255.33,422.66,262.5901,403.7578,273.1181,412.9861,255.33,422.66\" style=\"stroke: #A80036; stroke-width: 1.0;\"/><ellipse cx=\"267.8513\" cy=\"400.7898\" fill=\"#A80036\" rx=\"2\" ry=\"2\" style=\"stroke: #A80036; stroke-width: 1.0;\"/><ellipse cx=\"275.3713\" cy=\"407.3814\" fill=\"#A80036\" rx=\"2\" ry=\"2\" style=\"stroke: #A80036; stroke-width: 1.0;\"/></a><!--MD5=[15ebcb19ae302d9b601edb458606d402]\n",
       "link E5 to E2--><a href=\"psysml:8e91b88f-f820-4b3f-bc7b-6a32144645a0\" target=\"_top\" title=\"psysml:8e91b88f-f820-4b3f-bc7b-6a32144645a0\" xlink:actuate=\"onRequest\" xlink:href=\"psysml:8e91b88f-f820-4b3f-bc7b-6a32144645a0\" xlink:show=\"new\" xlink:title=\"psysml:8e91b88f-f820-4b3f-bc7b-6a32144645a0\" xlink:type=\"simple\"><path d=\"M248.05,74.19 C186.69,85.36 112.38,109.96 69.75,164 C15.07,233.32 6,287.74 53.75,362 C84.89,410.42 152.01,430.93 195.46,439.38 \" fill=\"none\" id=\"E5-&gt;E2\" style=\"stroke: #A80036; stroke-width: 1.0; stroke-dasharray: 7.0,7.0;\"/><polygon fill=\"#A80036\" points=\"200.63,440.35,192.5135,434.7713,195.7143,439.4355,191.0502,442.6363,200.63,440.35\" style=\"stroke: #A80036; stroke-width: 1.0;\"/><text fill=\"#000000\" font-family=\"sans-serif\" font-size=\"13\" lengthAdjust=\"spacingAndGlyphs\" textLength=\"62\" x=\"28.75\" y=\"267.5669\">«subject»</text></a><!--MD5=[9120cf2e5df3bff93db8f754bbbc09b4]\n",
       "link E5 to E6--><a href=\"psysml:a6ebdbd2-b0f8-4e64-baff-f91dc99eb3fc\" target=\"_top\" title=\"psysml:a6ebdbd2-b0f8-4e64-baff-f91dc99eb3fc\" xlink:actuate=\"onRequest\" xlink:href=\"psysml:a6ebdbd2-b0f8-4e64-baff-f91dc99eb3fc\" xlink:show=\"new\" xlink:title=\"psysml:a6ebdbd2-b0f8-4e64-baff-f91dc99eb3fc\" xlink:type=\"simple\"><path d=\"M324.99,87.19 C302.63,107.23 269.64,136.8 245.58,158.37 \" fill=\"none\" id=\"E5-&gt;E6\" style=\"stroke: #A80036; stroke-width: 1.0;\"/><polygon fill=\"#A80036\" points=\"239.35,163.95,247.3086,160.8419,243.3025,156.3752,239.35,163.95\" style=\"stroke: #A80036; stroke-width: 1.0;\"/><text fill=\"#000000\" font-family=\"sans-serif\" font-size=\"13\" lengthAdjust=\"spacingAndGlyphs\" textLength=\"73\" x=\"290.75\" y=\"130.0669\">«objective»</text></a><!--MD5=[452b418e7f8a40397a49b8c0a78acc5b]\n",
       "reverse link E5 to E7--><a href=\"psysml:1d968e51-2f45-472a-9c8d-b659e8169068\" target=\"_top\" title=\"psysml:1d968e51-2f45-472a-9c8d-b659e8169068\" xlink:actuate=\"onRequest\" xlink:href=\"psysml:1d968e51-2f45-472a-9c8d-b659e8169068\" xlink:show=\"new\" xlink:title=\"psysml:1d968e51-2f45-472a-9c8d-b659e8169068\" xlink:type=\"simple\"><path d=\"M373.12,97.88 C388.03,118.86 406.95,145.48 420.08,163.95 \" fill=\"none\" id=\"E5&lt;-E7\" style=\"stroke: #A80036; stroke-width: 1.0;\"/><polygon fill=\"#A80036\" points=\"365.52,87.19,365.7442,94.3976,372.4836,96.9628,372.2594,89.7552,365.52,87.19\" style=\"stroke: #A80036; stroke-width: 1.0;\"/></a><!--MD5=[dc164f5e8a733ab456ef1add180e9e34]\n",
       "reverse link E7 to E8--><a href=\"psysml:762eee8a-df65-48ef-8994-f8166e9b75f6\" target=\"_top\" title=\"psysml:762eee8a-df65-48ef-8994-f8166e9b75f6\" xlink:actuate=\"onRequest\" xlink:href=\"psysml:762eee8a-df65-48ef-8994-f8166e9b75f6\" xlink:show=\"new\" xlink:title=\"psysml:762eee8a-df65-48ef-8994-f8166e9b75f6\" xlink:type=\"simple\"><path d=\"M365.14,209.66 C331.9,220.26 296.21,232.36 280.75,240 C237.3,261.47 191.71,294.23 163.51,315.88 \" fill=\"none\" id=\"E7&lt;-E8\" style=\"stroke: #A80036; stroke-width: 1.0;\"/><polygon fill=\"#FFFFFF\" points=\"377.71,205.68,370.7821,203.6789,366.2704,209.3043,373.1983,211.3053,377.71,205.68\" style=\"stroke: #A80036; stroke-width: 1.0;\"/><text fill=\"#000000\" font-family=\"sans-serif\" font-size=\"13\" lengthAdjust=\"spacingAndGlyphs\" textLength=\"8\" x=\"161.8955\" y=\"304.744\">1</text></a><!--MD5=[f1f3f9f2fc535e6147756cb86a7f2e32]\n",
       "link E8 to E2--><a href=\"psysml:b4a53d37-cc69-46b7-9c1e-d748cdbb7a31\" target=\"_top\" title=\"psysml:b4a53d37-cc69-46b7-9c1e-d748cdbb7a31\" xlink:actuate=\"onRequest\" xlink:href=\"psysml:b4a53d37-cc69-46b7-9c1e-d748cdbb7a31\" xlink:show=\"new\" xlink:title=\"psysml:b4a53d37-cc69-46b7-9c1e-d748cdbb7a31\" xlink:type=\"simple\"><path d=\"M156.71,362.01 C169.43,375.36 185.98,392.74 200.64,408.14 \" fill=\"none\" id=\"E8-&gt;E2\" style=\"stroke: #A80036; stroke-width: 1.0;\"/><polygon fill=\"#FFFFFF\" points=\"214.47,422.66,196.3009,413.7223,206.4424,404.0708,214.47,422.66\" style=\"stroke: #A80036; stroke-width: 1.0;\"/><ellipse cx=\"193.8202\" cy=\"408.2144\" fill=\"#A80036\" rx=\"2\" ry=\"2\" style=\"stroke: #A80036; stroke-width: 1.0;\"/><ellipse cx=\"201.0641\" cy=\"401.3206\" fill=\"#A80036\" rx=\"2\" ry=\"2\" style=\"stroke: #A80036; stroke-width: 1.0;\"/></a><!--MD5=[9ae28de373ca99bb8a1b38d63370ca7e]\n",
       "reverse link E5 to E9--><a href=\"psysml:b337f31d-c5a0-436f-953f-431d96e2f8f6\" target=\"_top\" title=\"psysml:b337f31d-c5a0-436f-953f-431d96e2f8f6\" xlink:actuate=\"onRequest\" xlink:href=\"psysml:b337f31d-c5a0-436f-953f-431d96e2f8f6\" xlink:show=\"new\" xlink:title=\"psysml:b337f31d-c5a0-436f-953f-431d96e2f8f6\" xlink:type=\"simple\"><path d=\"M427.82,92.73 C459.8,108.4 493.52,131.5 511.75,164 C521.75,181.83 523.05,192.96 511.75,210 C503.17,222.95 490.65,232.68 476.85,239.99 \" fill=\"none\" id=\"E5&lt;-E9\" style=\"stroke: #A80036; stroke-width: 1.0;\"/><polygon fill=\"#FFFFFF\" points=\"415.69,87.08,419.4417,93.2383,426.5692,92.1438,422.8176,85.9855,415.69,87.08\" style=\"stroke: #A80036; stroke-width: 1.0;\"/><text fill=\"#000000\" font-family=\"sans-serif\" font-size=\"13\" lengthAdjust=\"spacingAndGlyphs\" textLength=\"8\" x=\"487.2469\" y=\"230.4042\">1</text></a><!--MD5=[5c3bb36fe832a92c7f0e1807dd65209d]\n",
       "link E9 to E2--><a href=\"psysml:a6a00959-a343-466b-bcfe-643c8c056808\" target=\"_top\" title=\"psysml:a6a00959-a343-466b-bcfe-643c8c056808\" xlink:actuate=\"onRequest\" xlink:href=\"psysml:a6a00959-a343-466b-bcfe-643c8c056808\" xlink:show=\"new\" xlink:title=\"psysml:a6a00959-a343-466b-bcfe-643c8c056808\" xlink:type=\"simple\"><path d=\"M297.61,284.36 C281.24,291.84 265.88,302.05 254.75,316 C235.48,340.16 231.36,375.23 231.71,402.71 \" fill=\"none\" id=\"E9-&gt;E2\" style=\"stroke: #A80036; stroke-width: 1.0;\"/><polygon fill=\"#FFFFFF\" points=\"232.74,422.77,224.772,404.1552,238.7535,403.4351,232.74,422.77\" style=\"stroke: #A80036; stroke-width: 1.0;\"/><ellipse cx=\"226.4762\" cy=\"398.3599\" fill=\"#A80036\" rx=\"2\" ry=\"2\" style=\"stroke: #A80036; stroke-width: 1.0;\"/><ellipse cx=\"236.463\" cy=\"397.8455\" fill=\"#A80036\" rx=\"2\" ry=\"2\" style=\"stroke: #A80036; stroke-width: 1.0;\"/></a><!--MD5=[eddef1cc981923eee9410b55d9ce7325]\n",
       "@startuml\r\n",
       "skinparam wrapWidth 300\r\n",
       "hide circle\r\n",
       "\r\n",
       "package \"TradeStudyTest\" as E1  [[psysml:57f8a98c-5718-48d8-9b9a-5c4650640602 ]]  {\r\n",
       "comp def \"Engine\" as E2  <<(T,blue) part  def>> [[psysml:6445380e-76a1-4d64-a2e6-1c63aec68392 ]] {\r\n",
       "}\r\n",
       "comp usage \"engine1: Engine \" as E3  <<(T,blue) part>> [[psysml:e07cfc3f-c273-4e94-9cbe-d128d50ec860 ]] {\r\n",
       "}\r\n",
       "comp usage \"engine2: Engine \" as E4  <<(T,blue) part>> [[psysml:d9e10f1c-39bd-473d-af93-7c118d42db3b ]] {\r\n",
       "}\r\n",
       "comp usage \"engineTradeStudy: TradeStudy \" as E5 << analysis>> [[psysml:f9c838ee-65e7-4043-9f07-1b30ef92e49c ]] {\r\n",
       "}\r\n",
       "comp usage \"tradeStudyObjective: MaximizeObjective \" as E6  <<(T,blue) requirement>> [[psysml:38fbb285-8167-4e3f-bee3-2164ba524da7 ]] {\r\n",
       "}\r\n",
       "comp usage \"objectiveFunction\" as E7  <<(T,blue) calculation>> [[psysml:658dce09-b71c-4e6e-94c9-a3c46617ebc8 ]] {\r\n",
       "}\r\n",
       "comp usage \"alternative: Engine \" as E8  <<(T,blue) part>> [[psysml:3dbf099d-922d-4ace-9ccd-679bba93319b ]] {\r\n",
       "}\r\n",
       "comp usage \"selectedAlternative: Engine \" as E9  <<(T,blue) part>> [[psysml:5fb9bd76-5535-468b-bb8f-88cd6f109fe8 ]] {\r\n",
       "}\r\n",
       "}\r\n",
       "E3 - -:|> E2 [[psysml:8b560a74-32d8-45cc-8c0e-f8d7e14b884a ]] \r\n",
       "E4 - -:|> E2 [[psysml:7f518d85-a598-4692-a186-0ec59d25f08f ]] \r\n",
       "E5 ..> E2 [[psysml:8e91b88f-f820-4b3f-bc7b-6a32144645a0 ]] : <<subject>>\r\n",
       "E5 - ->> E6 [[psysml:a6ebdbd2-b0f8-4e64-baff-f91dc99eb3fc ]] : <<objective>>\r\n",
       "E5 *- - E7 [[psysml:1d968e51-2f45-472a-9c8d-b659e8169068 ]] \r\n",
       "E7 o- - \"1\"E8 [[psysml:762eee8a-df65-48ef-8994-f8166e9b75f6 ]] \r\n",
       "E8 - -:|> E2 [[psysml:b4a53d37-cc69-46b7-9c1e-d748cdbb7a31 ]] \r\n",
       "E5 o- - \"1\"E9 [[psysml:b337f31d-c5a0-436f-953f-431d96e2f8f6 ]] \r\n",
       "E9 - -:|> E2 [[psysml:a6a00959-a343-466b-bcfe-643c8c056808 ]] \r\n",
       "@enduml\r\n",
       "\n",
       "PlantUML version 1.2020.13(Sat Jun 13 12:26:38 UTC 2020)\n",
       "(EPL source distribution)\n",
       "Java Runtime: OpenJDK Runtime Environment\n",
       "JVM: OpenJDK 64-Bit Server VM\n",
       "Default Encoding: UTF-8\n",
       "Language: en\n",
       "Country: null\n",
       "--></g></svg>"
      ]
     },
     "execution_count": 24,
     "metadata": {},
     "output_type": "execute_result"
    }
   ],
   "source": [
    "%viz --style=\"STDCOLOR\" --view=\"Tree\" \"TradeStudyTest\""
   ]
  },
  {
   "cell_type": "code",
   "execution_count": 25,
   "id": "237c0162",
   "metadata": {
    "execution": {
     "iopub.execute_input": "2021-11-13T13:01:40.017828Z",
     "iopub.status.busy": "2021-11-13T13:01:40.017421Z",
     "iopub.status.idle": "2021-11-13T13:01:40.022881Z",
     "shell.execute_reply": "2021-11-13T13:01:40.023199Z"
    }
   },
   "outputs": [
    {
     "data": {
      "image/svg+xml": [
       "<?xml version=\"1.0\" encoding=\"UTF-8\" standalone=\"no\"?><svg xmlns=\"http://www.w3.org/2000/svg\" xmlns:xlink=\"http://www.w3.org/1999/xlink\" contentScriptType=\"application/ecmascript\" contentStyleType=\"text/css\" height=\"12px\" preserveAspectRatio=\"none\" style=\"width:12px;height:12px;\" version=\"1.1\" viewBox=\"0 0 12 12\" width=\"12px\" zoomAndPan=\"magnify\"><defs/><g><!--MD5=[aeeef50f102b80d730deb6443d14f702]\n",
       "@startuml\r\n",
       "skinparam wrapWidth 300\r\n",
       "hide circle\r\n",
       "\r\n",
       "@enduml\r\n",
       "\n",
       "PlantUML version 1.2020.13(Sat Jun 13 12:26:38 UTC 2020)\n",
       "(EPL source distribution)\n",
       "Java Runtime: OpenJDK Runtime Environment\n",
       "JVM: OpenJDK 64-Bit Server VM\n",
       "Default Encoding: UTF-8\n",
       "Language: en\n",
       "Country: null\n",
       "--></g></svg>"
      ]
     },
     "execution_count": 25,
     "metadata": {},
     "output_type": "execute_result"
    }
   ],
   "source": [
    "%viz --style=\"STDCOLOR\" --view=\"State\" \"TradeStudyTest\""
   ]
  },
  {
   "cell_type": "code",
   "execution_count": 26,
   "id": "5658b3b3",
   "metadata": {
    "execution": {
     "iopub.execute_input": "2021-11-13T13:01:40.072855Z",
     "iopub.status.busy": "2021-11-13T13:01:40.072451Z",
     "iopub.status.idle": "2021-11-13T13:01:40.113453Z",
     "shell.execute_reply": "2021-11-13T13:01:40.113101Z"
    }
   },
   "outputs": [
    {
     "data": {
      "image/svg+xml": [
       "<?xml version=\"1.0\" encoding=\"UTF-8\" standalone=\"no\"?><svg xmlns=\"http://www.w3.org/2000/svg\" xmlns:xlink=\"http://www.w3.org/1999/xlink\" contentScriptType=\"application/ecmascript\" contentStyleType=\"text/css\" height=\"334px\" preserveAspectRatio=\"none\" style=\"width:569px;height:334px;\" version=\"1.1\" viewBox=\"0 0 569 334\" width=\"569px\" zoomAndPan=\"magnify\"><defs><filter height=\"300%\" id=\"fgby9mvria8qp\" width=\"300%\" x=\"-1\" y=\"-1\"><feGaussianBlur result=\"blurOut\" stdDeviation=\"2.0\"/><feColorMatrix in=\"blurOut\" result=\"blurOut2\" type=\"matrix\" values=\"0 0 0 0 0 0 0 0 0 0 0 0 0 0 0 0 0 0 .4 0\"/><feOffset dx=\"4.0\" dy=\"4.0\" in=\"blurOut2\" result=\"blurOut3\"/><feBlend in=\"SourceGraphic\" in2=\"blurOut3\" mode=\"normal\"/></filter></defs><g><!--MD5=[fbc87193dbaf4d95561dea2c320d4a47]\n",
       "cluster E1--><a href=\"psysml:57f8a98c-5718-48d8-9b9a-5c4650640602\" target=\"_top\" title=\"psysml:57f8a98c-5718-48d8-9b9a-5c4650640602\" xlink:actuate=\"onRequest\" xlink:href=\"psysml:57f8a98c-5718-48d8-9b9a-5c4650640602\" xlink:show=\"new\" xlink:title=\"psysml:57f8a98c-5718-48d8-9b9a-5c4650640602\" xlink:type=\"simple\"><polygon fill=\"#FFFFFF\" filter=\"url(#fgby9mvria8qp)\" points=\"16,6,132,6,139,28.2969,547,28.2969,547,322,16,322,16,6\" style=\"stroke: #000000; stroke-width: 1.5;\"/><line style=\"stroke: #000000; stroke-width: 1.5;\" x1=\"16\" x2=\"139\" y1=\"28.2969\" y2=\"28.2969\"/><text fill=\"#000000\" font-family=\"sans-serif\" font-size=\"14\" font-weight=\"bold\" lengthAdjust=\"spacingAndGlyphs\" textLength=\"110\" x=\"20\" y=\"20.9951\">TradeStudyTest</text></a><!--MD5=[270fce915f116d4de14055a7c1d9a0f3]\n",
       "class E5--><a href=\"psysml:f9c838ee-65e7-4043-9f07-1b30ef92e49c\" target=\"_top\" title=\"psysml:f9c838ee-65e7-4043-9f07-1b30ef92e49c\" xlink:actuate=\"onRequest\" xlink:href=\"psysml:f9c838ee-65e7-4043-9f07-1b30ef92e49c\" xlink:show=\"new\" xlink:title=\"psysml:f9c838ee-65e7-4043-9f07-1b30ef92e49c\" xlink:type=\"simple\"><rect fill=\"#FEFECE\" filter=\"url(#fgby9mvria8qp)\" height=\"45.9375\" id=\"E5\" rx=\"10\" ry=\"10\" style=\"stroke: #A80036; stroke-width: 1.5;\" width=\"203\" x=\"328.5\" y=\"41\"/><text fill=\"#000000\" font-family=\"sans-serif\" font-size=\"12\" font-style=\"italic\" lengthAdjust=\"spacingAndGlyphs\" textLength=\"64\" x=\"398\" y=\"57.1387\">«analysis»</text><text fill=\"#000000\" font-family=\"sans-serif\" font-size=\"12\" lengthAdjust=\"spacingAndGlyphs\" textLength=\"193\" x=\"331.5\" y=\"71.1074\">engineTradeStudy: TradeStudy</text><line style=\"stroke: #A80036; stroke-width: 1.5;\" x1=\"329.5\" x2=\"530.5\" y1=\"78.9375\" y2=\"78.9375\"/></a><!--MD5=[60a26617385b1d2d0262a64233df1f8d]\n",
       "class E6--><a href=\"psysml:38fbb285-8167-4e3f-bee3-2164ba524da7\" target=\"_top\" title=\"psysml:38fbb285-8167-4e3f-bee3-2164ba524da7\" xlink:actuate=\"onRequest\" xlink:href=\"psysml:38fbb285-8167-4e3f-bee3-2164ba524da7\" xlink:show=\"new\" xlink:title=\"psysml:38fbb285-8167-4e3f-bee3-2164ba524da7\" xlink:type=\"simple\"><rect fill=\"#FEFECE\" filter=\"url(#fgby9mvria8qp)\" height=\"45.9375\" id=\"E6\" rx=\"10\" ry=\"10\" style=\"stroke: #A80036; stroke-width: 1.5;\" width=\"255\" x=\"32.5\" y=\"120\"/><text fill=\"#000000\" font-family=\"sans-serif\" font-size=\"12\" font-style=\"italic\" lengthAdjust=\"spacingAndGlyphs\" textLength=\"91\" x=\"114.5\" y=\"136.1387\">«requirement»</text><text fill=\"#000000\" font-family=\"sans-serif\" font-size=\"12\" lengthAdjust=\"spacingAndGlyphs\" textLength=\"245\" x=\"35.5\" y=\"150.1074\">tradeStudyObjective: MaximizeObjective</text><line style=\"stroke: #A80036; stroke-width: 1.5;\" x1=\"33.5\" x2=\"286.5\" y1=\"157.9375\" y2=\"157.9375\"/></a><!--MD5=[2156ba9850f5573cc1fc38a6a4b2f02b]\n",
       "class E7--><a href=\"psysml:658dce09-b71c-4e6e-94c9-a3c46617ebc8\" target=\"_top\" title=\"psysml:658dce09-b71c-4e6e-94c9-a3c46617ebc8\" xlink:actuate=\"onRequest\" xlink:href=\"psysml:658dce09-b71c-4e6e-94c9-a3c46617ebc8\" xlink:show=\"new\" xlink:title=\"psysml:658dce09-b71c-4e6e-94c9-a3c46617ebc8\" xlink:type=\"simple\"><rect fill=\"#FEFECE\" filter=\"url(#fgby9mvria8qp)\" height=\"45.9375\" id=\"E7\" rx=\"10\" ry=\"10\" style=\"stroke: #A80036; stroke-width: 1.5;\" width=\"116\" x=\"323\" y=\"120\"/><text fill=\"#000000\" font-family=\"sans-serif\" font-size=\"12\" font-style=\"italic\" lengthAdjust=\"spacingAndGlyphs\" textLength=\"82\" x=\"340\" y=\"136.1387\">«calculation»</text><text fill=\"#000000\" font-family=\"sans-serif\" font-size=\"12\" lengthAdjust=\"spacingAndGlyphs\" textLength=\"110\" x=\"326\" y=\"150.1074\">objectiveFunction</text><line style=\"stroke: #A80036; stroke-width: 1.5;\" x1=\"324\" x2=\"438\" y1=\"157.9375\" y2=\"157.9375\"/></a><!--MD5=[b9389687b975829384b498ac4b7476b2]\n",
       "class E8--><a href=\"psysml:3dbf099d-922d-4ace-9ccd-679bba93319b\" target=\"_top\" title=\"psysml:3dbf099d-922d-4ace-9ccd-679bba93319b\" xlink:actuate=\"onRequest\" xlink:href=\"psysml:3dbf099d-922d-4ace-9ccd-679bba93319b\" xlink:show=\"new\" xlink:title=\"psysml:3dbf099d-922d-4ace-9ccd-679bba93319b\" xlink:type=\"simple\"><rect fill=\"#FEFECE\" filter=\"url(#fgby9mvria8qp)\" height=\"31.9688\" id=\"E8\" rx=\"10\" ry=\"10\" style=\"stroke: #A80036; stroke-width: 1.5;\" width=\"128\" x=\"175\" y=\"214\"/><text fill=\"#000000\" font-family=\"sans-serif\" font-size=\"12\" lengthAdjust=\"spacingAndGlyphs\" textLength=\"118\" x=\"178\" y=\"230.1387\">alternative: Engine</text><line style=\"stroke: #A80036; stroke-width: 1.5;\" x1=\"176\" x2=\"302\" y1=\"237.9688\" y2=\"237.9688\"/></a><!--MD5=[fd4143e9d270a159db93a4ea2a975926]\n",
       "class E9--><a href=\"psysml:5fb9bd76-5535-468b-bb8f-88cd6f109fe8\" target=\"_top\" title=\"psysml:5fb9bd76-5535-468b-bb8f-88cd6f109fe8\" xlink:actuate=\"onRequest\" xlink:href=\"psysml:5fb9bd76-5535-468b-bb8f-88cd6f109fe8\" xlink:show=\"new\" xlink:title=\"psysml:5fb9bd76-5535-468b-bb8f-88cd6f109fe8\" xlink:type=\"simple\"><rect fill=\"#FEFECE\" filter=\"url(#fgby9mvria8qp)\" height=\"31.9688\" id=\"E9\" rx=\"10\" ry=\"10\" style=\"stroke: #A80036; stroke-width: 1.5;\" width=\"182\" x=\"245\" y=\"174\"/><text fill=\"#000000\" font-family=\"sans-serif\" font-size=\"12\" lengthAdjust=\"spacingAndGlyphs\" textLength=\"172\" x=\"248\" y=\"190.1387\">selectedAlternative: Engine</text><line style=\"stroke: #A80036; stroke-width: 1.5;\" x1=\"246\" x2=\"426\" y1=\"197.9688\" y2=\"197.9688\"/></a><g id=\"E1.E2\"><a href=\"psysml:6445380e-76a1-4d64-a2e6-1c63aec68392\" target=\"_top\" title=\"psysml:6445380e-76a1-4d64-a2e6-1c63aec68392\" xlink:actuate=\"onRequest\" xlink:href=\"psysml:6445380e-76a1-4d64-a2e6-1c63aec68392\" xlink:show=\"new\" xlink:title=\"psysml:6445380e-76a1-4d64-a2e6-1c63aec68392\" xlink:type=\"simple\"><rect fill=\"#FEFECE\" filter=\"url(#fgby9mvria8qp)\" height=\"42.9375\" id=\"E2\" style=\"stroke: #A80036; stroke-width: 1.5;\" width=\"75\" x=\"301.5\" y=\"263\"/><text fill=\"#000000\" font-family=\"sans-serif\" font-size=\"12\" font-style=\"italic\" lengthAdjust=\"spacingAndGlyphs\" textLength=\"68\" x=\"305\" y=\"279.1387\">«part  def»</text><text fill=\"#000000\" font-family=\"sans-serif\" font-size=\"12\" lengthAdjust=\"spacingAndGlyphs\" textLength=\"43\" x=\"317.5\" y=\"293.1074\">Engine</text></a></g><g id=\"E1.E3\"><a href=\"psysml:e07cfc3f-c273-4e94-9cbe-d128d50ec860\" target=\"_top\" title=\"psysml:e07cfc3f-c273-4e94-9cbe-d128d50ec860\" xlink:actuate=\"onRequest\" xlink:href=\"psysml:e07cfc3f-c273-4e94-9cbe-d128d50ec860\" xlink:show=\"new\" xlink:title=\"psysml:e07cfc3f-c273-4e94-9cbe-d128d50ec860\" xlink:type=\"simple\"><rect fill=\"#FEFECE\" filter=\"url(#fgby9mvria8qp)\" height=\"40\" id=\"E3\" rx=\"10\" ry=\"10\" style=\"stroke: #A80036; stroke-width: 1.5;\" width=\"113\" x=\"180.5\" y=\"44\"/><text fill=\"#000000\" font-family=\"sans-serif\" font-size=\"12\" lengthAdjust=\"spacingAndGlyphs\" textLength=\"102\" x=\"186\" y=\"60.1387\">engine1: Engine</text></a></g><g id=\"E1.E4\"><a href=\"psysml:d9e10f1c-39bd-473d-af93-7c118d42db3b\" target=\"_top\" title=\"psysml:d9e10f1c-39bd-473d-af93-7c118d42db3b\" xlink:actuate=\"onRequest\" xlink:href=\"psysml:d9e10f1c-39bd-473d-af93-7c118d42db3b\" xlink:show=\"new\" xlink:title=\"psysml:d9e10f1c-39bd-473d-af93-7c118d42db3b\" xlink:type=\"simple\"><rect fill=\"#FEFECE\" filter=\"url(#fgby9mvria8qp)\" height=\"40\" id=\"E4\" rx=\"10\" ry=\"10\" style=\"stroke: #A80036; stroke-width: 1.5;\" width=\"113\" x=\"32.5\" y=\"44\"/><text fill=\"#000000\" font-family=\"sans-serif\" font-size=\"12\" lengthAdjust=\"spacingAndGlyphs\" textLength=\"102\" x=\"38\" y=\"60.1387\">engine2: Engine</text></a></g><!--MD5=[15ebcb19ae302d9b601edb458606d402]\n",
       "link E5 to E2--><a href=\"psysml:8e91b88f-f820-4b3f-bc7b-6a32144645a0\" target=\"_top\" title=\"psysml:8e91b88f-f820-4b3f-bc7b-6a32144645a0\" xlink:actuate=\"onRequest\" xlink:href=\"psysml:8e91b88f-f820-4b3f-bc7b-6a32144645a0\" xlink:show=\"new\" xlink:title=\"psysml:8e91b88f-f820-4b3f-bc7b-6a32144645a0\" xlink:type=\"simple\"><path d=\"M457.05,87.04 C459.26,89.57 461.29,92.23 463,95 C479.65,121.98 482.49,136.86 470,166 C452.34,207.22 411.86,239.8 380.54,260.09 \" fill=\"none\" id=\"E5-&gt;E2\" style=\"stroke: #A80036; stroke-width: 1.0; stroke-dasharray: 7.0,7.0;\"/><polygon fill=\"#A80036\" points=\"375.99,263,385.7259,261.5129,380.2001,260.3027,381.4103,254.7768,375.99,263\" style=\"stroke: #A80036; stroke-width: 1.0;\"/><text fill=\"#000000\" font-family=\"sans-serif\" font-size=\"13\" lengthAdjust=\"spacingAndGlyphs\" textLength=\"62\" x=\"467\" y=\"194.5669\">«subject»</text></a><!--MD5=[9120cf2e5df3bff93db8f754bbbc09b4]\n",
       "link E5 to E6--><a href=\"psysml:a6ebdbd2-b0f8-4e64-baff-f91dc99eb3fc\" target=\"_top\" title=\"psysml:a6ebdbd2-b0f8-4e64-baff-f91dc99eb3fc\" xlink:actuate=\"onRequest\" xlink:href=\"psysml:a6ebdbd2-b0f8-4e64-baff-f91dc99eb3fc\" xlink:show=\"new\" xlink:title=\"psysml:a6ebdbd2-b0f8-4e64-baff-f91dc99eb3fc\" xlink:type=\"simple\"><path d=\"M346.75,87.03 C337.05,89.68 327.3,92.37 318,95 C292.78,102.13 265.38,110.17 240.59,117.56 \" fill=\"none\" id=\"E5-&gt;E6\" style=\"stroke: #A80036; stroke-width: 1.0;\"/><polygon fill=\"#A80036\" points=\"232.64,119.94,241.1649,120.5118,239.4388,114.7654,232.64,119.94\" style=\"stroke: #A80036; stroke-width: 1.0;\"/><text fill=\"#000000\" font-family=\"sans-serif\" font-size=\"13\" lengthAdjust=\"spacingAndGlyphs\" textLength=\"73\" x=\"319\" y=\"108.0669\">«objective»</text></a><!--MD5=[452b418e7f8a40397a49b8c0a78acc5b]\n",
       "reverse link E5 to E7--><a href=\"psysml:1d968e51-2f45-472a-9c8d-b659e8169068\" target=\"_top\" title=\"psysml:1d968e51-2f45-472a-9c8d-b659e8169068\" xlink:actuate=\"onRequest\" xlink:href=\"psysml:1d968e51-2f45-472a-9c8d-b659e8169068\" xlink:show=\"new\" xlink:title=\"psysml:1d968e51-2f45-472a-9c8d-b659e8169068\" xlink:type=\"simple\"><path d=\"M408.8,98.32 C404.18,105.57 399.4,113.08 395.14,119.78 \" fill=\"none\" id=\"E5&lt;-E7\" style=\"stroke: #A80036; stroke-width: 1.0;\"/><polygon fill=\"#A80036\" points=\"415.83,87.27,409.2361,90.1889,409.3943,97.3983,415.9883,94.4794,415.83,87.27\" style=\"stroke: #A80036; stroke-width: 1.0;\"/></a><!--MD5=[dc164f5e8a733ab456ef1add180e9e34]\n",
       "reverse link E7 to E8--><a href=\"psysml:762eee8a-df65-48ef-8994-f8166e9b75f6\" target=\"_top\" title=\"psysml:762eee8a-df65-48ef-8994-f8166e9b75f6\" xlink:actuate=\"onRequest\" xlink:href=\"psysml:762eee8a-df65-48ef-8994-f8166e9b75f6\" xlink:show=\"new\" xlink:title=\"psysml:762eee8a-df65-48ef-8994-f8166e9b75f6\" xlink:type=\"simple\"><path d=\"M309.92,164.93 C308.27,165.3 306.63,165.66 305,166 C291.62,168.8 253.47,164.14 244,174 C234.03,184.37 234.03,201.47 235.74,213.85 \" fill=\"none\" id=\"E7&lt;-E8\" style=\"stroke: #A80036; stroke-width: 1.0;\"/><polygon fill=\"#FFFFFF\" points=\"322.72,161.84,315.9473,159.364,311.0569,164.6634,317.8296,167.1394,322.72,161.84\" style=\"stroke: #A80036; stroke-width: 1.0;\"/><text fill=\"#000000\" font-family=\"sans-serif\" font-size=\"13\" lengthAdjust=\"spacingAndGlyphs\" textLength=\"8\" x=\"225.2444\" y=\"202.8154\">1</text></a><!--MD5=[f1f3f9f2fc535e6147756cb86a7f2e32]\n",
       "link E8 to E2--><a href=\"psysml:b4a53d37-cc69-46b7-9c1e-d748cdbb7a31\" target=\"_top\" title=\"psysml:b4a53d37-cc69-46b7-9c1e-d748cdbb7a31\" xlink:actuate=\"onRequest\" xlink:href=\"psysml:b4a53d37-cc69-46b7-9c1e-d748cdbb7a31\" xlink:show=\"new\" xlink:title=\"psysml:b4a53d37-cc69-46b7-9c1e-d748cdbb7a31\" xlink:type=\"simple\"><path d=\"M267.66,246.04 C272.66,248.67 278.02,251.48 283.46,254.34 \" fill=\"none\" id=\"E8-&gt;E2\" style=\"stroke: #A80036; stroke-width: 1.0;\"/><polygon fill=\"#FFFFFF\" points=\"301.38,263.75,281.3045,261.1093,287.8163,248.7159,301.38,263.75\" style=\"stroke: #A80036; stroke-width: 1.0;\"/><ellipse cx=\"277.1888\" cy=\"256.6876\" fill=\"#A80036\" rx=\"2\" ry=\"2\" style=\"stroke: #A80036; stroke-width: 1.0;\"/><ellipse cx=\"281.8401\" cy=\"247.8351\" fill=\"#A80036\" rx=\"2\" ry=\"2\" style=\"stroke: #A80036; stroke-width: 1.0;\"/></a><!--MD5=[9ae28de373ca99bb8a1b38d63370ca7e]\n",
       "reverse link E5 to E9--><a href=\"psysml:b337f31d-c5a0-436f-953f-431d96e2f8f6\" target=\"_top\" title=\"psysml:b337f31d-c5a0-436f-953f-431d96e2f8f6\" xlink:actuate=\"onRequest\" xlink:href=\"psysml:b337f31d-c5a0-436f-953f-431d96e2f8f6\" xlink:show=\"new\" xlink:title=\"psysml:b337f31d-c5a0-436f-953f-431d96e2f8f6\" xlink:type=\"simple\"><path d=\"M452.81,98.61 C464.24,119.98 472.65,147.1 457,166 C455.59,167.7 442.53,170.69 425.46,173.97 \" fill=\"none\" id=\"E5&lt;-E9\" style=\"stroke: #A80036; stroke-width: 1.0;\"/><polygon fill=\"#FFFFFF\" points=\"446.09,87.1,445.6547,94.298,452.1315,97.4682,452.5668,90.2703,446.09,87.1\" style=\"stroke: #A80036; stroke-width: 1.0;\"/><text fill=\"#000000\" font-family=\"sans-serif\" font-size=\"13\" lengthAdjust=\"spacingAndGlyphs\" textLength=\"8\" x=\"435.0981\" y=\"185.1657\">1</text></a><!--MD5=[5c3bb36fe832a92c7f0e1807dd65209d]\n",
       "link E9 to E2--><a href=\"psysml:a6a00959-a343-466b-bcfe-643c8c056808\" target=\"_top\" title=\"psysml:a6a00959-a343-466b-bcfe-643c8c056808\" xlink:actuate=\"onRequest\" xlink:href=\"psysml:a6a00959-a343-466b-bcfe-643c8c056808\" xlink:show=\"new\" xlink:title=\"psysml:a6a00959-a343-466b-bcfe-643c8c056808\" xlink:type=\"simple\"><path d=\"M336.5,206.27 C336.82,216.14 337.25,229.48 337.66,242.29 \" fill=\"none\" id=\"E9-&gt;E2\" style=\"stroke: #A80036; stroke-width: 1.0;\"/><polygon fill=\"#FFFFFF\" points=\"338.32,262.66,330.7128,243.8949,344.7055,243.4448,338.32,262.66\" style=\"stroke: #A80036; stroke-width: 1.0;\"/><ellipse cx=\"332.5285\" cy=\"238.1335\" fill=\"#A80036\" rx=\"2\" ry=\"2\" style=\"stroke: #A80036; stroke-width: 1.0;\"/><ellipse cx=\"342.5233\" cy=\"237.812\" fill=\"#A80036\" rx=\"2\" ry=\"2\" style=\"stroke: #A80036; stroke-width: 1.0;\"/></a><!--MD5=[5020874ee25874f317075869ded8d86e]\n",
       "@startuml\r\n",
       "skinparam ranksep 10\r\n",
       "skinparam rectangle {\r\n",
       " backgroundColor<<block>> LightGreen\r\n",
       "}\r\n",
       "skinparam wrapWidth 300\r\n",
       "hide circle\r\n",
       "\r\n",
       "package \"TradeStudyTest\" as E1  [[psysml:57f8a98c-5718-48d8-9b9a-5c4650640602 ]]  {\r\n",
       "rec def \"Engine\" as E2  <<(T,blue) part  def>> [[psysml:6445380e-76a1-4d64-a2e6-1c63aec68392 ]] {\r\n",
       "}\r\n",
       "rec usage \"engine1: Engine\" as E3  [[psysml:e07cfc3f-c273-4e94-9cbe-d128d50ec860 ]] {\r\n",
       "}\r\n",
       "rec usage \"engine2: Engine\" as E4  [[psysml:d9e10f1c-39bd-473d-af93-7c118d42db3b ]] {\r\n",
       "}\r\n",
       "comp usage \"engineTradeStudy: TradeStudy \" as E5 << analysis>> [[psysml:f9c838ee-65e7-4043-9f07-1b30ef92e49c ]] {\r\n",
       "}\r\n",
       "comp usage \"tradeStudyObjective: MaximizeObjective \" as E6  <<(T,blue) requirement>> [[psysml:38fbb285-8167-4e3f-bee3-2164ba524da7 ]] {\r\n",
       "}\r\n",
       "comp usage \"objectiveFunction\" as E7  <<(T,blue) calculation>> [[psysml:658dce09-b71c-4e6e-94c9-a3c46617ebc8 ]] {\r\n",
       "}\r\n",
       "comp usage \"alternative: Engine \" as E8  [[psysml:3dbf099d-922d-4ace-9ccd-679bba93319b ]] {\r\n",
       "}\r\n",
       "comp usage \"selectedAlternative: Engine \" as E9  [[psysml:5fb9bd76-5535-468b-bb8f-88cd6f109fe8 ]] {\r\n",
       "}\r\n",
       "}\r\n",
       "E5 ..> E2 [[psysml:8e91b88f-f820-4b3f-bc7b-6a32144645a0 ]] : <<subject>>\r\n",
       "E5 - ->> E6 [[psysml:a6ebdbd2-b0f8-4e64-baff-f91dc99eb3fc ]] : <<objective>>\r\n",
       "E5 *- - E7 [[psysml:1d968e51-2f45-472a-9c8d-b659e8169068 ]] \r\n",
       "E7 o- - \"1\"E8 [[psysml:762eee8a-df65-48ef-8994-f8166e9b75f6 ]] \r\n",
       "E8 - -:|> E2 [[psysml:b4a53d37-cc69-46b7-9c1e-d748cdbb7a31 ]] \r\n",
       "E5 o- - \"1\"E9 [[psysml:b337f31d-c5a0-436f-953f-431d96e2f8f6 ]] \r\n",
       "E9 - -:|> E2 [[psysml:a6a00959-a343-466b-bcfe-643c8c056808 ]] \r\n",
       "@enduml\r\n",
       "\n",
       "PlantUML version 1.2020.13(Sat Jun 13 12:26:38 UTC 2020)\n",
       "(EPL source distribution)\n",
       "Java Runtime: OpenJDK Runtime Environment\n",
       "JVM: OpenJDK 64-Bit Server VM\n",
       "Default Encoding: UTF-8\n",
       "Language: en\n",
       "Country: null\n",
       "--></g></svg>"
      ]
     },
     "execution_count": 26,
     "metadata": {},
     "output_type": "execute_result"
    }
   ],
   "source": [
    "%viz --style=\"STDCOLOR\" --view=\"Interconnection\" \"TradeStudyTest\""
   ]
  },
  {
   "cell_type": "code",
   "execution_count": 27,
   "id": "120b3e55",
   "metadata": {
    "execution": {
     "iopub.execute_input": "2021-11-13T13:01:40.162792Z",
     "iopub.status.busy": "2021-11-13T13:01:40.162474Z",
     "iopub.status.idle": "2021-11-13T13:01:40.193309Z",
     "shell.execute_reply": "2021-11-13T13:01:40.193558Z"
    }
   },
   "outputs": [
    {
     "data": {
      "image/svg+xml": [
       "<?xml version=\"1.0\" encoding=\"UTF-8\" standalone=\"no\"?><svg xmlns=\"http://www.w3.org/2000/svg\" xmlns:xlink=\"http://www.w3.org/1999/xlink\" contentScriptType=\"application/ecmascript\" contentStyleType=\"text/css\" height=\"178px\" preserveAspectRatio=\"none\" style=\"width:434px;height:178px;\" version=\"1.1\" viewBox=\"0 0 434 178\" width=\"434px\" zoomAndPan=\"magnify\"><defs><filter height=\"300%\" id=\"f11rij9qzqhg43\" width=\"300%\" x=\"-1\" y=\"-1\"><feGaussianBlur result=\"blurOut\" stdDeviation=\"2.0\"/><feColorMatrix in=\"blurOut\" result=\"blurOut2\" type=\"matrix\" values=\"0 0 0 0 0 0 0 0 0 0 0 0 0 0 0 0 0 0 .4 0\"/><feOffset dx=\"4.0\" dy=\"4.0\" in=\"blurOut2\" result=\"blurOut3\"/><feBlend in=\"SourceGraphic\" in2=\"blurOut3\" mode=\"normal\"/></filter></defs><g><!--MD5=[fbc87193dbaf4d95561dea2c320d4a47]\n",
       "cluster E1--><a href=\"psysml:f9c838ee-65e7-4043-9f07-1b30ef92e49c\" target=\"_top\" title=\"psysml:f9c838ee-65e7-4043-9f07-1b30ef92e49c\" xlink:actuate=\"onRequest\" xlink:href=\"psysml:f9c838ee-65e7-4043-9f07-1b30ef92e49c\" xlink:show=\"new\" xlink:title=\"psysml:f9c838ee-65e7-4043-9f07-1b30ef92e49c\" xlink:type=\"simple\"><rect fill=\"#FFFFFF\" filter=\"url(#f11rij9qzqhg43)\" height=\"103.72\" id=\"E1\" rx=\"10\" ry=\"10\" style=\"stroke: #A80036; stroke-width: 1.5;\" width=\"327\" x=\"47\" y=\"42.0986\"/><rect fill=\"#FEFECE\" height=\"37.9375\" rx=\"10\" ry=\"10\" style=\"stroke: #FEFECE; stroke-width: 1.5;\" width=\"327\" x=\"47\" y=\"42.0986\"/><rect fill=\"#FEFECE\" height=\"10\" style=\"stroke: #FEFECE; stroke-width: 1.5;\" width=\"327\" x=\"47\" y=\"70.0361\"/><rect fill=\"none\" height=\"103.72\" id=\"E1\" rx=\"10\" ry=\"10\" style=\"stroke: #A80036; stroke-width: 1.5;\" width=\"327\" x=\"47\" y=\"42.0986\"/><text fill=\"#000000\" font-family=\"sans-serif\" font-size=\"12\" font-style=\"italic\" lengthAdjust=\"spacingAndGlyphs\" textLength=\"64\" x=\"178.5\" y=\"58.2373\">«analysis»</text><text fill=\"#000000\" font-family=\"sans-serif\" font-size=\"12\" lengthAdjust=\"spacingAndGlyphs\" textLength=\"114\" x=\"153.5\" y=\"72.2061\">engineTradeStudy</text><line style=\"stroke: #A80036; stroke-width: 1.0;\" x1=\"47\" x2=\"374\" y1=\"80.0361\" y2=\"80.0361\"/></a><!--MD5=[d5e69f78d87373223dbae638b30a9c99]\n",
       "cluster E3--><a href=\"psysml:658dce09-b71c-4e6e-94c9-a3c46617ebc8\" target=\"_top\" title=\"psysml:658dce09-b71c-4e6e-94c9-a3c46617ebc8\" xlink:actuate=\"onRequest\" xlink:href=\"psysml:658dce09-b71c-4e6e-94c9-a3c46617ebc8\" xlink:show=\"new\" xlink:title=\"psysml:658dce09-b71c-4e6e-94c9-a3c46617ebc8\" xlink:type=\"simple\"><rect fill=\"#FFFFFF\" filter=\"url(#f11rij9qzqhg43)\" height=\"81.72\" id=\"E3\" rx=\"10\" ry=\"10\" style=\"stroke: #A80036; stroke-width: 1.5;\" width=\"132\" x=\"214.125\" y=\"64.0986\"/><rect fill=\"#FEFECE\" height=\"37.9375\" rx=\"10\" ry=\"10\" style=\"stroke: #FEFECE; stroke-width: 1.5;\" width=\"132\" x=\"214.125\" y=\"64.0986\"/><rect fill=\"#FEFECE\" height=\"10\" style=\"stroke: #FEFECE; stroke-width: 1.5;\" width=\"132\" x=\"214.125\" y=\"92.0361\"/><rect fill=\"none\" height=\"81.72\" id=\"E3\" rx=\"10\" ry=\"10\" style=\"stroke: #A80036; stroke-width: 1.5;\" width=\"132\" x=\"214.125\" y=\"64.0986\"/><text fill=\"#000000\" font-family=\"sans-serif\" font-size=\"12\" font-style=\"italic\" lengthAdjust=\"spacingAndGlyphs\" textLength=\"82\" x=\"239.125\" y=\"80.2373\">«calculation»</text><text fill=\"#000000\" font-family=\"sans-serif\" font-size=\"12\" lengthAdjust=\"spacingAndGlyphs\" textLength=\"110\" x=\"225.125\" y=\"94.2061\">objectiveFunction</text><line style=\"stroke: #A80036; stroke-width: 1.0;\" x1=\"214.125\" x2=\"346.125\" y1=\"102.0361\" y2=\"102.0361\"/></a><text fill=\"#000000\" font-family=\"sans-serif\" font-size=\"14\" lengthAdjust=\"spacingAndGlyphs\" textLength=\"118\" x=\"6\" y=\"20.7969\">studyAlternatives</text><rect fill=\"#A80036\" height=\"12\" style=\"stroke: #FEFECE; stroke-width: 1.5;\" width=\"12\" x=\"59\" y=\"36.0986\"/><text fill=\"#000000\" font-family=\"sans-serif\" font-size=\"14\" lengthAdjust=\"spacingAndGlyphs\" textLength=\"132\" x=\"290\" y=\"164.8138\">selectedAlternative</text><rect fill=\"#A80036\" height=\"12\" style=\"stroke: #FEFECE; stroke-width: 1.5;\" width=\"12\" x=\"350\" y=\"139.8186\"/><text fill=\"#000000\" font-family=\"sans-serif\" font-size=\"14\" lengthAdjust=\"spacingAndGlyphs\" textLength=\"39\" x=\"215.5\" y=\"164.8138\">result</text><rect fill=\"#A80036\" height=\"12\" style=\"stroke: #FEFECE; stroke-width: 1.5;\" width=\"12\" x=\"229\" y=\"139.8186\"/><!--MD5=[b97487c63597af7288ddaa57db134b53]\n",
       "@startuml\r\n",
       "skinparam ranksep 8\r\n",
       "skinparam wrapWidth 300\r\n",
       "hide circle\r\n",
       "\r\n",
       "rec usage \"engineTradeStudy\" as E1 << analysis>> [[psysml:f9c838ee-65e7-4043-9f07-1b30ef92e49c ]] {\r\n",
       "portin \"studyAlternatives\" as E2  [[psysml:337fe316-4d2f-4990-8407-2b5473f7b0b9 ]] \r\n",
       "rec usage \"objectiveFunction\" as E3  <<(T,blue) calculation>> [[psysml:658dce09-b71c-4e6e-94c9-a3c46617ebc8 ]] {\r\n",
       "portout \"result\" as E4  [[psysml:1c0da6f6-5c1e-42af-93f0-451ad801a52e ]] \r\n",
       "}\r\n",
       "\r\n",
       "portout \"selectedAlternative\" as E5  [[psysml:5fb9bd76-5535-468b-bb8f-88cd6f109fe8 ]] \r\n",
       "}\r\n",
       "\r\n",
       "@enduml\r\n",
       "\n",
       "PlantUML version 1.2020.13(Sat Jun 13 12:26:38 UTC 2020)\n",
       "(EPL source distribution)\n",
       "Java Runtime: OpenJDK Runtime Environment\n",
       "JVM: OpenJDK 64-Bit Server VM\n",
       "Default Encoding: UTF-8\n",
       "Language: en\n",
       "Country: null\n",
       "--></g></svg>"
      ]
     },
     "execution_count": 27,
     "metadata": {},
     "output_type": "execute_result"
    }
   ],
   "source": [
    "%viz --style=\"STDCOLOR\" --view=\"Action\" \"TradeStudyTest\""
   ]
  },
  {
   "cell_type": "code",
   "execution_count": 28,
   "id": "98cbc06d",
   "metadata": {
    "execution": {
     "iopub.execute_input": "2021-11-13T13:01:40.243187Z",
     "iopub.status.busy": "2021-11-13T13:01:40.242940Z",
     "iopub.status.idle": "2021-11-13T13:01:40.248487Z",
     "shell.execute_reply": "2021-11-13T13:01:40.248812Z"
    }
   },
   "outputs": [
    {
     "data": {
      "image/svg+xml": [
       "<?xml version=\"1.0\" encoding=\"UTF-8\" standalone=\"no\"?><svg xmlns=\"http://www.w3.org/2000/svg\" xmlns:xlink=\"http://www.w3.org/1999/xlink\" contentScriptType=\"application/ecmascript\" contentStyleType=\"text/css\" height=\"12px\" preserveAspectRatio=\"none\" style=\"width:12px;height:12px;\" version=\"1.1\" viewBox=\"0 0 12 12\" width=\"12px\" zoomAndPan=\"magnify\"><defs/><g><!--MD5=[6c4bca67b4d71758159a5a7f1f1e1fc2]\n",
       "@startuml\r\n",
       "skinparam roundcorner 20\r\n",
       "skinparam BoxPadding 20\r\n",
       "skinparam SequenceBoxBackgroundColor #white\r\n",
       "skinparam style strictuml\r\n",
       "skinparam maxMessageSize 100\r\n",
       "skinparam wrapWidth 300\r\n",
       "hide circle\r\n",
       "\r\n",
       "@enduml\r\n",
       "\n",
       "PlantUML version 1.2020.13(Sat Jun 13 12:26:38 UTC 2020)\n",
       "(EPL source distribution)\n",
       "Java Runtime: OpenJDK Runtime Environment\n",
       "JVM: OpenJDK 64-Bit Server VM\n",
       "Default Encoding: UTF-8\n",
       "Language: en\n",
       "Country: null\n",
       "--></g></svg>"
      ]
     },
     "execution_count": 28,
     "metadata": {},
     "output_type": "execute_result"
    }
   ],
   "source": [
    "%viz --style=\"STDCOLOR\" --view=\"Sequence\" \"TradeStudyTest\""
   ]
  },
  {
   "cell_type": "code",
   "execution_count": 29,
   "id": "1381d549",
   "metadata": {
    "execution": {
     "iopub.execute_input": "2021-11-13T13:01:40.298256Z",
     "iopub.status.busy": "2021-11-13T13:01:40.297942Z",
     "iopub.status.idle": "2021-11-13T13:01:40.342404Z",
     "shell.execute_reply": "2021-11-13T13:01:40.342065Z"
    }
   },
   "outputs": [
    {
     "data": {
      "image/svg+xml": [
       "<?xml version=\"1.0\" encoding=\"UTF-8\" standalone=\"no\"?><svg xmlns=\"http://www.w3.org/2000/svg\" xmlns:xlink=\"http://www.w3.org/1999/xlink\" contentScriptType=\"application/ecmascript\" contentStyleType=\"text/css\" height=\"497px\" preserveAspectRatio=\"none\" style=\"width:568px;height:497px;\" version=\"1.1\" viewBox=\"0 0 568 497\" width=\"568px\" zoomAndPan=\"magnify\"><defs><filter height=\"300%\" id=\"f1hn1vho5y0jyo\" width=\"300%\" x=\"-1\" y=\"-1\"><feGaussianBlur result=\"blurOut\" stdDeviation=\"2.0\"/><feColorMatrix in=\"blurOut\" result=\"blurOut2\" type=\"matrix\" values=\"0 0 0 0 0 0 0 0 0 0 0 0 0 0 0 0 0 0 .4 0\"/><feOffset dx=\"4.0\" dy=\"4.0\" in=\"blurOut2\" result=\"blurOut3\"/><feBlend in=\"SourceGraphic\" in2=\"blurOut3\" mode=\"normal\"/></filter></defs><g><!--MD5=[fbc87193dbaf4d95561dea2c320d4a47]\n",
       "cluster E1--><a href=\"psysml:57f8a98c-5718-48d8-9b9a-5c4650640602\" target=\"_top\" title=\"psysml:57f8a98c-5718-48d8-9b9a-5c4650640602\" xlink:actuate=\"onRequest\" xlink:href=\"psysml:57f8a98c-5718-48d8-9b9a-5c4650640602\" xlink:show=\"new\" xlink:title=\"psysml:57f8a98c-5718-48d8-9b9a-5c4650640602\" xlink:type=\"simple\"><polygon fill=\"#FFFFFF\" filter=\"url(#f1hn1vho5y0jyo)\" points=\"18.75,6,134.75,6,141.75,28.2969,546.75,28.2969,546.75,485,18.75,485,18.75,6\" style=\"stroke: #000000; stroke-width: 1.5;\"/><line style=\"stroke: #000000; stroke-width: 1.5;\" x1=\"18.75\" x2=\"141.75\" y1=\"28.2969\" y2=\"28.2969\"/><text fill=\"#000000\" font-family=\"sans-serif\" font-size=\"14\" font-weight=\"bold\" lengthAdjust=\"spacingAndGlyphs\" textLength=\"110\" x=\"22.75\" y=\"20.9951\">TradeStudyTest</text></a><!--MD5=[b4997ac47864f28c2f74865a473b2911]\n",
       "class E2--><a href=\"psysml:6445380e-76a1-4d64-a2e6-1c63aec68392\" target=\"_top\" title=\"psysml:6445380e-76a1-4d64-a2e6-1c63aec68392\" xlink:actuate=\"onRequest\" xlink:href=\"psysml:6445380e-76a1-4d64-a2e6-1c63aec68392\" xlink:show=\"new\" xlink:title=\"psysml:6445380e-76a1-4d64-a2e6-1c63aec68392\" xlink:type=\"simple\"><rect fill=\"#FEFECE\" filter=\"url(#f1hn1vho5y0jyo)\" height=\"45.9375\" id=\"E2\" style=\"stroke: #A80036; stroke-width: 1.5;\" width=\"70\" x=\"200.75\" y=\"423\"/><text fill=\"#000000\" font-family=\"sans-serif\" font-size=\"12\" font-style=\"italic\" lengthAdjust=\"spacingAndGlyphs\" textLength=\"68\" x=\"201.75\" y=\"439.1387\">«part  def»</text><text fill=\"#000000\" font-family=\"sans-serif\" font-size=\"12\" lengthAdjust=\"spacingAndGlyphs\" textLength=\"43\" x=\"214.25\" y=\"453.1074\">Engine</text><line style=\"stroke: #A80036; stroke-width: 1.5;\" x1=\"201.75\" x2=\"269.75\" y1=\"460.9375\" y2=\"460.9375\"/></a><!--MD5=[09b614a08d8cba4a07c9adeb5e0fee81]\n",
       "class E3--><a href=\"psysml:e07cfc3f-c273-4e94-9cbe-d128d50ec860\" target=\"_top\" title=\"psysml:e07cfc3f-c273-4e94-9cbe-d128d50ec860\" xlink:actuate=\"onRequest\" xlink:href=\"psysml:e07cfc3f-c273-4e94-9cbe-d128d50ec860\" xlink:show=\"new\" xlink:title=\"psysml:e07cfc3f-c273-4e94-9cbe-d128d50ec860\" xlink:type=\"simple\"><rect fill=\"#FEFECE\" filter=\"url(#f1hn1vho5y0jyo)\" height=\"45.9375\" id=\"E3\" rx=\"10\" ry=\"10\" style=\"stroke: #A80036; stroke-width: 1.5;\" width=\"112\" x=\"418.75\" y=\"316\"/><text fill=\"#000000\" font-family=\"sans-serif\" font-size=\"12\" font-style=\"italic\" lengthAdjust=\"spacingAndGlyphs\" textLength=\"40\" x=\"454.75\" y=\"332.1387\">«part»</text><text fill=\"#000000\" font-family=\"sans-serif\" font-size=\"12\" lengthAdjust=\"spacingAndGlyphs\" textLength=\"102\" x=\"421.75\" y=\"346.1074\">engine1: Engine</text><line style=\"stroke: #A80036; stroke-width: 1.5;\" x1=\"419.75\" x2=\"529.75\" y1=\"353.9375\" y2=\"353.9375\"/></a><!--MD5=[ebbe1d658d1005bcc118a6aa81145e00]\n",
       "class E4--><a href=\"psysml:d9e10f1c-39bd-473d-af93-7c118d42db3b\" target=\"_top\" title=\"psysml:d9e10f1c-39bd-473d-af93-7c118d42db3b\" xlink:actuate=\"onRequest\" xlink:href=\"psysml:d9e10f1c-39bd-473d-af93-7c118d42db3b\" xlink:show=\"new\" xlink:title=\"psysml:d9e10f1c-39bd-473d-af93-7c118d42db3b\" xlink:type=\"simple\"><rect fill=\"#FEFECE\" filter=\"url(#f1hn1vho5y0jyo)\" height=\"45.9375\" id=\"E4\" rx=\"10\" ry=\"10\" style=\"stroke: #A80036; stroke-width: 1.5;\" width=\"112\" x=\"271.75\" y=\"316\"/><text fill=\"#000000\" font-family=\"sans-serif\" font-size=\"12\" font-style=\"italic\" lengthAdjust=\"spacingAndGlyphs\" textLength=\"40\" x=\"307.75\" y=\"332.1387\">«part»</text><text fill=\"#000000\" font-family=\"sans-serif\" font-size=\"12\" lengthAdjust=\"spacingAndGlyphs\" textLength=\"102\" x=\"274.75\" y=\"346.1074\">engine2: Engine</text><line style=\"stroke: #A80036; stroke-width: 1.5;\" x1=\"272.75\" x2=\"382.75\" y1=\"353.9375\" y2=\"353.9375\"/></a><!--MD5=[270fce915f116d4de14055a7c1d9a0f3]\n",
       "class E5--><a href=\"psysml:f9c838ee-65e7-4043-9f07-1b30ef92e49c\" target=\"_top\" title=\"psysml:f9c838ee-65e7-4043-9f07-1b30ef92e49c\" xlink:actuate=\"onRequest\" xlink:href=\"psysml:f9c838ee-65e7-4043-9f07-1b30ef92e49c\" xlink:show=\"new\" xlink:title=\"psysml:f9c838ee-65e7-4043-9f07-1b30ef92e49c\" xlink:type=\"simple\"><rect fill=\"#FEFECE\" filter=\"url(#f1hn1vho5y0jyo)\" height=\"45.9375\" id=\"E5\" rx=\"10\" ry=\"10\" style=\"stroke: #A80036; stroke-width: 1.5;\" width=\"203\" x=\"248.25\" y=\"41\"/><text fill=\"#000000\" font-family=\"sans-serif\" font-size=\"12\" font-style=\"italic\" lengthAdjust=\"spacingAndGlyphs\" textLength=\"64\" x=\"317.75\" y=\"57.1387\">«analysis»</text><text fill=\"#000000\" font-family=\"sans-serif\" font-size=\"12\" lengthAdjust=\"spacingAndGlyphs\" textLength=\"193\" x=\"251.25\" y=\"71.1074\">engineTradeStudy: TradeStudy</text><line style=\"stroke: #A80036; stroke-width: 1.5;\" x1=\"249.25\" x2=\"450.25\" y1=\"78.9375\" y2=\"78.9375\"/></a><!--MD5=[60a26617385b1d2d0262a64233df1f8d]\n",
       "class E6--><a href=\"psysml:38fbb285-8167-4e3f-bee3-2164ba524da7\" target=\"_top\" title=\"psysml:38fbb285-8167-4e3f-bee3-2164ba524da7\" xlink:actuate=\"onRequest\" xlink:href=\"psysml:38fbb285-8167-4e3f-bee3-2164ba524da7\" xlink:show=\"new\" xlink:title=\"psysml:38fbb285-8167-4e3f-bee3-2164ba524da7\" xlink:type=\"simple\"><rect fill=\"#FEFECE\" filter=\"url(#f1hn1vho5y0jyo)\" height=\"45.9375\" id=\"E6\" rx=\"10\" ry=\"10\" style=\"stroke: #A80036; stroke-width: 1.5;\" width=\"255\" x=\"87.25\" y=\"164\"/><text fill=\"#000000\" font-family=\"sans-serif\" font-size=\"12\" font-style=\"italic\" lengthAdjust=\"spacingAndGlyphs\" textLength=\"91\" x=\"169.25\" y=\"180.1387\">«requirement»</text><text fill=\"#000000\" font-family=\"sans-serif\" font-size=\"12\" lengthAdjust=\"spacingAndGlyphs\" textLength=\"245\" x=\"90.25\" y=\"194.1074\">tradeStudyObjective: MaximizeObjective</text><line style=\"stroke: #A80036; stroke-width: 1.5;\" x1=\"88.25\" x2=\"341.25\" y1=\"201.9375\" y2=\"201.9375\"/></a><!--MD5=[2156ba9850f5573cc1fc38a6a4b2f02b]\n",
       "class E7--><a href=\"psysml:658dce09-b71c-4e6e-94c9-a3c46617ebc8\" target=\"_top\" title=\"psysml:658dce09-b71c-4e6e-94c9-a3c46617ebc8\" xlink:actuate=\"onRequest\" xlink:href=\"psysml:658dce09-b71c-4e6e-94c9-a3c46617ebc8\" xlink:show=\"new\" xlink:title=\"psysml:658dce09-b71c-4e6e-94c9-a3c46617ebc8\" xlink:type=\"simple\"><rect fill=\"#FEFECE\" filter=\"url(#f1hn1vho5y0jyo)\" height=\"45.9375\" id=\"E7\" rx=\"10\" ry=\"10\" style=\"stroke: #A80036; stroke-width: 1.5;\" width=\"116\" x=\"377.75\" y=\"164\"/><text fill=\"#000000\" font-family=\"sans-serif\" font-size=\"12\" font-style=\"italic\" lengthAdjust=\"spacingAndGlyphs\" textLength=\"82\" x=\"394.75\" y=\"180.1387\">«calculation»</text><text fill=\"#000000\" font-family=\"sans-serif\" font-size=\"12\" lengthAdjust=\"spacingAndGlyphs\" textLength=\"110\" x=\"380.75\" y=\"194.1074\">objectiveFunction</text><line style=\"stroke: #A80036; stroke-width: 1.5;\" x1=\"378.75\" x2=\"492.75\" y1=\"201.9375\" y2=\"201.9375\"/></a><!--MD5=[b9389687b975829384b498ac4b7476b2]\n",
       "class E8--><a href=\"psysml:3dbf099d-922d-4ace-9ccd-679bba93319b\" target=\"_top\" title=\"psysml:3dbf099d-922d-4ace-9ccd-679bba93319b\" xlink:actuate=\"onRequest\" xlink:href=\"psysml:3dbf099d-922d-4ace-9ccd-679bba93319b\" xlink:show=\"new\" xlink:title=\"psysml:3dbf099d-922d-4ace-9ccd-679bba93319b\" xlink:type=\"simple\"><rect fill=\"#FEFECE\" filter=\"url(#f1hn1vho5y0jyo)\" height=\"45.9375\" id=\"E8\" rx=\"10\" ry=\"10\" style=\"stroke: #A80036; stroke-width: 1.5;\" width=\"128\" x=\"71.75\" y=\"316\"/><text fill=\"#000000\" font-family=\"sans-serif\" font-size=\"12\" font-style=\"italic\" lengthAdjust=\"spacingAndGlyphs\" textLength=\"40\" x=\"115.75\" y=\"332.1387\">«part»</text><text fill=\"#000000\" font-family=\"sans-serif\" font-size=\"12\" lengthAdjust=\"spacingAndGlyphs\" textLength=\"118\" x=\"74.75\" y=\"346.1074\">alternative: Engine</text><line style=\"stroke: #A80036; stroke-width: 1.5;\" x1=\"72.75\" x2=\"198.75\" y1=\"353.9375\" y2=\"353.9375\"/></a><!--MD5=[fd4143e9d270a159db93a4ea2a975926]\n",
       "class E9--><a href=\"psysml:5fb9bd76-5535-468b-bb8f-88cd6f109fe8\" target=\"_top\" title=\"psysml:5fb9bd76-5535-468b-bb8f-88cd6f109fe8\" xlink:actuate=\"onRequest\" xlink:href=\"psysml:5fb9bd76-5535-468b-bb8f-88cd6f109fe8\" xlink:show=\"new\" xlink:title=\"psysml:5fb9bd76-5535-468b-bb8f-88cd6f109fe8\" xlink:type=\"simple\"><rect fill=\"#FEFECE\" filter=\"url(#f1hn1vho5y0jyo)\" height=\"45.9375\" id=\"E9\" rx=\"10\" ry=\"10\" style=\"stroke: #A80036; stroke-width: 1.5;\" width=\"182\" x=\"297.75\" y=\"240\"/><text fill=\"#000000\" font-family=\"sans-serif\" font-size=\"12\" font-style=\"italic\" lengthAdjust=\"spacingAndGlyphs\" textLength=\"40\" x=\"368.75\" y=\"256.1387\">«part»</text><text fill=\"#000000\" font-family=\"sans-serif\" font-size=\"12\" lengthAdjust=\"spacingAndGlyphs\" textLength=\"172\" x=\"300.75\" y=\"270.1074\">selectedAlternative: Engine</text><line style=\"stroke: #A80036; stroke-width: 1.5;\" x1=\"298.75\" x2=\"478.75\" y1=\"277.9375\" y2=\"277.9375\"/></a><!--MD5=[05d275557350bfb9b23a4ef7222b4c39]\n",
       "link E3 to E2--><a href=\"psysml:8b560a74-32d8-45cc-8c0e-f8d7e14b884a\" target=\"_top\" title=\"psysml:8b560a74-32d8-45cc-8c0e-f8d7e14b884a\" xlink:actuate=\"onRequest\" xlink:href=\"psysml:8b560a74-32d8-45cc-8c0e-f8d7e14b884a\" xlink:show=\"new\" xlink:title=\"psysml:8b560a74-32d8-45cc-8c0e-f8d7e14b884a\" xlink:type=\"simple\"><path d=\"M424.65,362.01 C385.12,379.38 330.1,403.55 289.63,421.33 \" fill=\"none\" id=\"E3-&gt;E2\" style=\"stroke: #A80036; stroke-width: 1.0;\"/><polygon fill=\"#FFFFFF\" points=\"271.06,429.49,285.6417,415.4411,291.271,428.2594,271.06,429.49\" style=\"stroke: #A80036; stroke-width: 1.0;\"/><ellipse cx=\"291.6648\" cy=\"414.9803\" fill=\"#A80036\" rx=\"2\" ry=\"2\" style=\"stroke: #A80036; stroke-width: 1.0;\"/><ellipse cx=\"295.6858\" cy=\"424.1363\" fill=\"#A80036\" rx=\"2\" ry=\"2\" style=\"stroke: #A80036; stroke-width: 1.0;\"/></a><!--MD5=[185131fc0dcab0a4505a2ebe144e961b]\n",
       "link E4 to E2--><a href=\"psysml:7f518d85-a598-4692-a186-0ec59d25f08f\" target=\"_top\" title=\"psysml:7f518d85-a598-4692-a186-0ec59d25f08f\" xlink:actuate=\"onRequest\" xlink:href=\"psysml:7f518d85-a598-4692-a186-0ec59d25f08f\" xlink:show=\"new\" xlink:title=\"psysml:7f518d85-a598-4692-a186-0ec59d25f08f\" xlink:type=\"simple\"><path d=\"M308.46,362.01 C297.01,375.08 282.18,392.01 268.89,407.17 \" fill=\"none\" id=\"E4-&gt;E2\" style=\"stroke: #A80036; stroke-width: 1.0;\"/><polygon fill=\"#FFFFFF\" points=\"255.33,422.66,262.5901,403.7578,273.1181,412.9861,255.33,422.66\" style=\"stroke: #A80036; stroke-width: 1.0;\"/><ellipse cx=\"267.8513\" cy=\"400.7898\" fill=\"#A80036\" rx=\"2\" ry=\"2\" style=\"stroke: #A80036; stroke-width: 1.0;\"/><ellipse cx=\"275.3713\" cy=\"407.3814\" fill=\"#A80036\" rx=\"2\" ry=\"2\" style=\"stroke: #A80036; stroke-width: 1.0;\"/></a><!--MD5=[15ebcb19ae302d9b601edb458606d402]\n",
       "link E5 to E2--><a href=\"psysml:8e91b88f-f820-4b3f-bc7b-6a32144645a0\" target=\"_top\" title=\"psysml:8e91b88f-f820-4b3f-bc7b-6a32144645a0\" xlink:actuate=\"onRequest\" xlink:href=\"psysml:8e91b88f-f820-4b3f-bc7b-6a32144645a0\" xlink:show=\"new\" xlink:title=\"psysml:8e91b88f-f820-4b3f-bc7b-6a32144645a0\" xlink:type=\"simple\"><path d=\"M248.05,74.19 C186.69,85.36 112.38,109.96 69.75,164 C15.07,233.32 6,287.74 53.75,362 C84.89,410.42 152.01,430.93 195.46,439.38 \" fill=\"none\" id=\"E5-&gt;E2\" style=\"stroke: #A80036; stroke-width: 1.0; stroke-dasharray: 7.0,7.0;\"/><polygon fill=\"#A80036\" points=\"200.63,440.35,192.5135,434.7713,195.7143,439.4355,191.0502,442.6363,200.63,440.35\" style=\"stroke: #A80036; stroke-width: 1.0;\"/><text fill=\"#000000\" font-family=\"sans-serif\" font-size=\"13\" lengthAdjust=\"spacingAndGlyphs\" textLength=\"62\" x=\"28.75\" y=\"267.5669\">«subject»</text></a><!--MD5=[9120cf2e5df3bff93db8f754bbbc09b4]\n",
       "link E5 to E6--><a href=\"psysml:a6ebdbd2-b0f8-4e64-baff-f91dc99eb3fc\" target=\"_top\" title=\"psysml:a6ebdbd2-b0f8-4e64-baff-f91dc99eb3fc\" xlink:actuate=\"onRequest\" xlink:href=\"psysml:a6ebdbd2-b0f8-4e64-baff-f91dc99eb3fc\" xlink:show=\"new\" xlink:title=\"psysml:a6ebdbd2-b0f8-4e64-baff-f91dc99eb3fc\" xlink:type=\"simple\"><path d=\"M324.99,87.19 C302.63,107.23 269.64,136.8 245.58,158.37 \" fill=\"none\" id=\"E5-&gt;E6\" style=\"stroke: #A80036; stroke-width: 1.0;\"/><polygon fill=\"#A80036\" points=\"239.35,163.95,247.3086,160.8419,243.3025,156.3752,239.35,163.95\" style=\"stroke: #A80036; stroke-width: 1.0;\"/><text fill=\"#000000\" font-family=\"sans-serif\" font-size=\"13\" lengthAdjust=\"spacingAndGlyphs\" textLength=\"73\" x=\"290.75\" y=\"130.0669\">«objective»</text></a><!--MD5=[452b418e7f8a40397a49b8c0a78acc5b]\n",
       "reverse link E5 to E7--><a href=\"psysml:1d968e51-2f45-472a-9c8d-b659e8169068\" target=\"_top\" title=\"psysml:1d968e51-2f45-472a-9c8d-b659e8169068\" xlink:actuate=\"onRequest\" xlink:href=\"psysml:1d968e51-2f45-472a-9c8d-b659e8169068\" xlink:show=\"new\" xlink:title=\"psysml:1d968e51-2f45-472a-9c8d-b659e8169068\" xlink:type=\"simple\"><path d=\"M373.12,97.88 C388.03,118.86 406.95,145.48 420.08,163.95 \" fill=\"none\" id=\"E5&lt;-E7\" style=\"stroke: #A80036; stroke-width: 1.0;\"/><polygon fill=\"#A80036\" points=\"365.52,87.19,365.7442,94.3976,372.4836,96.9628,372.2594,89.7552,365.52,87.19\" style=\"stroke: #A80036; stroke-width: 1.0;\"/></a><!--MD5=[dc164f5e8a733ab456ef1add180e9e34]\n",
       "reverse link E7 to E8--><a href=\"psysml:762eee8a-df65-48ef-8994-f8166e9b75f6\" target=\"_top\" title=\"psysml:762eee8a-df65-48ef-8994-f8166e9b75f6\" xlink:actuate=\"onRequest\" xlink:href=\"psysml:762eee8a-df65-48ef-8994-f8166e9b75f6\" xlink:show=\"new\" xlink:title=\"psysml:762eee8a-df65-48ef-8994-f8166e9b75f6\" xlink:type=\"simple\"><path d=\"M365.14,209.66 C331.9,220.26 296.21,232.36 280.75,240 C237.3,261.47 191.71,294.23 163.51,315.88 \" fill=\"none\" id=\"E7&lt;-E8\" style=\"stroke: #A80036; stroke-width: 1.0;\"/><polygon fill=\"#FFFFFF\" points=\"377.71,205.68,370.7821,203.6789,366.2704,209.3043,373.1983,211.3053,377.71,205.68\" style=\"stroke: #A80036; stroke-width: 1.0;\"/><text fill=\"#000000\" font-family=\"sans-serif\" font-size=\"13\" lengthAdjust=\"spacingAndGlyphs\" textLength=\"8\" x=\"161.8955\" y=\"304.744\">1</text></a><!--MD5=[f1f3f9f2fc535e6147756cb86a7f2e32]\n",
       "link E8 to E2--><a href=\"psysml:b4a53d37-cc69-46b7-9c1e-d748cdbb7a31\" target=\"_top\" title=\"psysml:b4a53d37-cc69-46b7-9c1e-d748cdbb7a31\" xlink:actuate=\"onRequest\" xlink:href=\"psysml:b4a53d37-cc69-46b7-9c1e-d748cdbb7a31\" xlink:show=\"new\" xlink:title=\"psysml:b4a53d37-cc69-46b7-9c1e-d748cdbb7a31\" xlink:type=\"simple\"><path d=\"M156.71,362.01 C169.43,375.36 185.98,392.74 200.64,408.14 \" fill=\"none\" id=\"E8-&gt;E2\" style=\"stroke: #A80036; stroke-width: 1.0;\"/><polygon fill=\"#FFFFFF\" points=\"214.47,422.66,196.3009,413.7223,206.4424,404.0708,214.47,422.66\" style=\"stroke: #A80036; stroke-width: 1.0;\"/><ellipse cx=\"193.8202\" cy=\"408.2144\" fill=\"#A80036\" rx=\"2\" ry=\"2\" style=\"stroke: #A80036; stroke-width: 1.0;\"/><ellipse cx=\"201.0641\" cy=\"401.3206\" fill=\"#A80036\" rx=\"2\" ry=\"2\" style=\"stroke: #A80036; stroke-width: 1.0;\"/></a><!--MD5=[9ae28de373ca99bb8a1b38d63370ca7e]\n",
       "reverse link E5 to E9--><a href=\"psysml:b337f31d-c5a0-436f-953f-431d96e2f8f6\" target=\"_top\" title=\"psysml:b337f31d-c5a0-436f-953f-431d96e2f8f6\" xlink:actuate=\"onRequest\" xlink:href=\"psysml:b337f31d-c5a0-436f-953f-431d96e2f8f6\" xlink:show=\"new\" xlink:title=\"psysml:b337f31d-c5a0-436f-953f-431d96e2f8f6\" xlink:type=\"simple\"><path d=\"M427.82,92.73 C459.8,108.4 493.52,131.5 511.75,164 C521.75,181.83 523.05,192.96 511.75,210 C503.17,222.95 490.65,232.68 476.85,239.99 \" fill=\"none\" id=\"E5&lt;-E9\" style=\"stroke: #A80036; stroke-width: 1.0;\"/><polygon fill=\"#FFFFFF\" points=\"415.69,87.08,419.4417,93.2383,426.5692,92.1438,422.8176,85.9855,415.69,87.08\" style=\"stroke: #A80036; stroke-width: 1.0;\"/><text fill=\"#000000\" font-family=\"sans-serif\" font-size=\"13\" lengthAdjust=\"spacingAndGlyphs\" textLength=\"8\" x=\"487.2469\" y=\"230.4042\">1</text></a><!--MD5=[5c3bb36fe832a92c7f0e1807dd65209d]\n",
       "link E9 to E2--><a href=\"psysml:a6a00959-a343-466b-bcfe-643c8c056808\" target=\"_top\" title=\"psysml:a6a00959-a343-466b-bcfe-643c8c056808\" xlink:actuate=\"onRequest\" xlink:href=\"psysml:a6a00959-a343-466b-bcfe-643c8c056808\" xlink:show=\"new\" xlink:title=\"psysml:a6a00959-a343-466b-bcfe-643c8c056808\" xlink:type=\"simple\"><path d=\"M297.61,284.36 C281.24,291.84 265.88,302.05 254.75,316 C235.48,340.16 231.36,375.23 231.71,402.71 \" fill=\"none\" id=\"E9-&gt;E2\" style=\"stroke: #A80036; stroke-width: 1.0;\"/><polygon fill=\"#FFFFFF\" points=\"232.74,422.77,224.772,404.1552,238.7535,403.4351,232.74,422.77\" style=\"stroke: #A80036; stroke-width: 1.0;\"/><ellipse cx=\"226.4762\" cy=\"398.3599\" fill=\"#A80036\" rx=\"2\" ry=\"2\" style=\"stroke: #A80036; stroke-width: 1.0;\"/><ellipse cx=\"236.463\" cy=\"397.8455\" fill=\"#A80036\" rx=\"2\" ry=\"2\" style=\"stroke: #A80036; stroke-width: 1.0;\"/></a><!--MD5=[eddef1cc981923eee9410b55d9ce7325]\n",
       "@startuml\r\n",
       "skinparam wrapWidth 300\r\n",
       "hide circle\r\n",
       "\r\n",
       "package \"TradeStudyTest\" as E1  [[psysml:57f8a98c-5718-48d8-9b9a-5c4650640602 ]]  {\r\n",
       "comp def \"Engine\" as E2  <<(T,blue) part  def>> [[psysml:6445380e-76a1-4d64-a2e6-1c63aec68392 ]] {\r\n",
       "}\r\n",
       "comp usage \"engine1: Engine \" as E3  <<(T,blue) part>> [[psysml:e07cfc3f-c273-4e94-9cbe-d128d50ec860 ]] {\r\n",
       "}\r\n",
       "comp usage \"engine2: Engine \" as E4  <<(T,blue) part>> [[psysml:d9e10f1c-39bd-473d-af93-7c118d42db3b ]] {\r\n",
       "}\r\n",
       "comp usage \"engineTradeStudy: TradeStudy \" as E5 << analysis>> [[psysml:f9c838ee-65e7-4043-9f07-1b30ef92e49c ]] {\r\n",
       "}\r\n",
       "comp usage \"tradeStudyObjective: MaximizeObjective \" as E6  <<(T,blue) requirement>> [[psysml:38fbb285-8167-4e3f-bee3-2164ba524da7 ]] {\r\n",
       "}\r\n",
       "comp usage \"objectiveFunction\" as E7  <<(T,blue) calculation>> [[psysml:658dce09-b71c-4e6e-94c9-a3c46617ebc8 ]] {\r\n",
       "}\r\n",
       "comp usage \"alternative: Engine \" as E8  <<(T,blue) part>> [[psysml:3dbf099d-922d-4ace-9ccd-679bba93319b ]] {\r\n",
       "}\r\n",
       "comp usage \"selectedAlternative: Engine \" as E9  <<(T,blue) part>> [[psysml:5fb9bd76-5535-468b-bb8f-88cd6f109fe8 ]] {\r\n",
       "}\r\n",
       "}\r\n",
       "E3 - -:|> E2 [[psysml:8b560a74-32d8-45cc-8c0e-f8d7e14b884a ]] \r\n",
       "E4 - -:|> E2 [[psysml:7f518d85-a598-4692-a186-0ec59d25f08f ]] \r\n",
       "E5 ..> E2 [[psysml:8e91b88f-f820-4b3f-bc7b-6a32144645a0 ]] : <<subject>>\r\n",
       "E5 - ->> E6 [[psysml:a6ebdbd2-b0f8-4e64-baff-f91dc99eb3fc ]] : <<objective>>\r\n",
       "E5 *- - E7 [[psysml:1d968e51-2f45-472a-9c8d-b659e8169068 ]] \r\n",
       "E7 o- - \"1\"E8 [[psysml:762eee8a-df65-48ef-8994-f8166e9b75f6 ]] \r\n",
       "E8 - -:|> E2 [[psysml:b4a53d37-cc69-46b7-9c1e-d748cdbb7a31 ]] \r\n",
       "E5 o- - \"1\"E9 [[psysml:b337f31d-c5a0-436f-953f-431d96e2f8f6 ]] \r\n",
       "E9 - -:|> E2 [[psysml:a6a00959-a343-466b-bcfe-643c8c056808 ]] \r\n",
       "@enduml\r\n",
       "\n",
       "PlantUML version 1.2020.13(Sat Jun 13 12:26:38 UTC 2020)\n",
       "(EPL source distribution)\n",
       "Java Runtime: OpenJDK Runtime Environment\n",
       "JVM: OpenJDK 64-Bit Server VM\n",
       "Default Encoding: UTF-8\n",
       "Language: en\n",
       "Country: null\n",
       "--></g></svg>"
      ]
     },
     "execution_count": 29,
     "metadata": {},
     "output_type": "execute_result"
    }
   ],
   "source": [
    "%viz --style=\"STDCOLOR\" --view=\"MIXED\" \"TradeStudyTest\""
   ]
  },
  {
   "cell_type": "code",
   "execution_count": 30,
   "id": "57c0abde",
   "metadata": {
    "execution": {
     "iopub.execute_input": "2021-11-13T13:01:40.391564Z",
     "iopub.status.busy": "2021-11-13T13:01:40.391056Z",
     "iopub.status.idle": "2021-11-13T13:01:40.459101Z",
     "shell.execute_reply": "2021-11-13T13:01:40.458915Z"
    }
   },
   "outputs": [
    {
     "data": {
      "image/svg+xml": [
       "<?xml version=\"1.0\" encoding=\"UTF-8\" standalone=\"no\"?><svg xmlns=\"http://www.w3.org/2000/svg\" xmlns:xlink=\"http://www.w3.org/1999/xlink\" contentScriptType=\"application/ecmascript\" contentStyleType=\"text/css\" height=\"491px\" preserveAspectRatio=\"none\" style=\"width:649px;height:491px;\" version=\"1.1\" viewBox=\"0 0 649 491\" width=\"649px\" zoomAndPan=\"magnify\"><defs><filter height=\"300%\" id=\"f1290ujht3egyk\" width=\"300%\" x=\"-1\" y=\"-1\"><feGaussianBlur result=\"blurOut\" stdDeviation=\"2.0\"/><feColorMatrix in=\"blurOut\" result=\"blurOut2\" type=\"matrix\" values=\"0 0 0 0 0 0 0 0 0 0 0 0 0 0 0 0 0 0 .4 0\"/><feOffset dx=\"4.0\" dy=\"4.0\" in=\"blurOut2\" result=\"blurOut3\"/><feBlend in=\"SourceGraphic\" in2=\"blurOut3\" mode=\"normal\"/></filter></defs><g><!--MD5=[fbc87193dbaf4d95561dea2c320d4a47]\n",
       "cluster E1--><a href=\"psysml:57f8a98c-5718-48d8-9b9a-5c4650640602\" target=\"_top\" title=\"psysml:57f8a98c-5718-48d8-9b9a-5c4650640602\" xlink:actuate=\"onRequest\" xlink:href=\"psysml:57f8a98c-5718-48d8-9b9a-5c4650640602\" xlink:show=\"new\" xlink:title=\"psysml:57f8a98c-5718-48d8-9b9a-5c4650640602\" xlink:type=\"simple\"><polygon fill=\"#FFFFFF\" filter=\"url(#f1290ujht3egyk)\" points=\"21.59,6,137.59,6,144.59,28.2969,627.59,28.2969,627.59,479,21.59,479,21.59,6\" style=\"stroke: #000000; stroke-width: 1.5;\"/><line style=\"stroke: #000000; stroke-width: 1.5;\" x1=\"21.59\" x2=\"144.59\" y1=\"28.2969\" y2=\"28.2969\"/><text fill=\"#000000\" font-family=\"sans-serif\" font-size=\"14\" font-weight=\"bold\" lengthAdjust=\"spacingAndGlyphs\" textLength=\"110\" x=\"25.59\" y=\"20.9951\">TradeStudyTest</text></a><!--MD5=[b4997ac47864f28c2f74865a473b2911]\n",
       "class E2--><a href=\"psysml:6445380e-76a1-4d64-a2e6-1c63aec68392\" target=\"_top\" title=\"psysml:6445380e-76a1-4d64-a2e6-1c63aec68392\" xlink:actuate=\"onRequest\" xlink:href=\"psysml:6445380e-76a1-4d64-a2e6-1c63aec68392\" xlink:show=\"new\" xlink:title=\"psysml:6445380e-76a1-4d64-a2e6-1c63aec68392\" xlink:type=\"simple\"><rect fill=\"#FEFECE\" filter=\"url(#f1290ujht3egyk)\" height=\"40\" id=\"E2\" style=\"stroke: #A80036; stroke-width: 1.5;\" width=\"75\" x=\"227.09\" y=\"423\"/><ellipse cx=\"242.09\" cy=\"439\" fill=\"#008000\" rx=\"11\" ry=\"11\" style=\"stroke: #A80036; stroke-width: 1.0;\"/><path d=\"M238.965,444 L238.965,433.4063 L242.1994,433.4063 Q244.1056,433.4063 245.0119,434.1563 Q245.9338,434.9063 245.9338,436.0781 Q245.9338,436.7656 245.5431,437.4219 Q245.1681,438.0781 244.4494,438.375 Q245.3088,438.75 245.8244,439.4375 Q246.34,440.125 246.34,440.9375 Q246.34,442.3125 245.3088,443.1563 Q244.2931,444 242.1838,444 L238.965,444 Z M240.8869,437.6406 L242.0431,437.6406 Q243.1681,437.6406 243.5744,437.2656 Q243.9963,436.875 243.9963,436.25 Q243.9963,435.6719 243.5744,435.3125 Q243.1525,434.9531 242.215,434.9531 L240.8869,434.9531 L240.8869,437.6406 Z M240.8869,442.4219 L242.3869,442.4219 Q243.2931,442.4219 243.8244,442.0313 Q244.3556,441.6406 244.3556,440.8906 Q244.3556,440.125 243.8556,439.6563 Q243.3556,439.1719 242.09,439.1719 L240.8869,439.1719 L240.8869,442.4219 Z \"/><text fill=\"#000000\" font-family=\"sans-serif\" font-size=\"12\" lengthAdjust=\"spacingAndGlyphs\" textLength=\"43\" x=\"256.09\" y=\"443.1543\">Engine</text><line style=\"stroke: #A80036; stroke-width: 1.5;\" x1=\"228.09\" x2=\"301.09\" y1=\"455\" y2=\"455\"/></a><!--MD5=[09b614a08d8cba4a07c9adeb5e0fee81]\n",
       "class E3--><a href=\"psysml:e07cfc3f-c273-4e94-9cbe-d128d50ec860\" target=\"_top\" title=\"psysml:e07cfc3f-c273-4e94-9cbe-d128d50ec860\" xlink:actuate=\"onRequest\" xlink:href=\"psysml:e07cfc3f-c273-4e94-9cbe-d128d50ec860\" xlink:show=\"new\" xlink:title=\"psysml:e07cfc3f-c273-4e94-9cbe-d128d50ec860\" xlink:type=\"simple\"><rect fill=\"#FEFECE\" filter=\"url(#f1290ujht3egyk)\" height=\"45.9375\" id=\"E3\" rx=\"10\" ry=\"10\" style=\"stroke: #A80036; stroke-width: 1.5;\" width=\"138\" x=\"473.59\" y=\"316\"/><ellipse cx=\"488.59\" cy=\"334.9688\" fill=\"#32CD32\" rx=\"11\" ry=\"11\" style=\"stroke: #A80036; stroke-width: 1.0;\"/><path d=\"M485.4025,339.9688 L485.4025,329.375 L489.0119,329.375 Q490.2306,329.375 491.0275,329.8125 Q491.8244,330.2344 492.1994,330.9375 Q492.59,331.6406 492.59,332.4844 Q492.59,333.3281 492.215,334.0156 Q491.8556,334.7031 491.0588,335.125 Q490.2775,335.5313 489.09,335.5313 L487.3556,335.5313 L487.3556,339.9688 L485.4025,339.9688 Z M487.3556,333.9375 L488.965,333.9375 Q489.7775,333.9375 490.1994,333.5313 Q490.6213,333.125 490.6213,332.4844 Q490.6213,331.8594 490.1994,331.4531 Q489.7775,331.0469 488.9806,331.0469 L487.3556,331.0469 L487.3556,333.9375 Z \"/><text fill=\"#000000\" font-family=\"sans-serif\" font-size=\"12\" font-style=\"italic\" lengthAdjust=\"spacingAndGlyphs\" textLength=\"40\" x=\"535.59\" y=\"332.1387\">«part»</text><text fill=\"#000000\" font-family=\"sans-serif\" font-size=\"12\" lengthAdjust=\"spacingAndGlyphs\" textLength=\"102\" x=\"502.59\" y=\"346.1074\">engine1: Engine</text><line style=\"stroke: #A80036; stroke-width: 1.5;\" x1=\"474.59\" x2=\"610.59\" y1=\"353.9375\" y2=\"353.9375\"/></a><!--MD5=[ebbe1d658d1005bcc118a6aa81145e00]\n",
       "class E4--><a href=\"psysml:d9e10f1c-39bd-473d-af93-7c118d42db3b\" target=\"_top\" title=\"psysml:d9e10f1c-39bd-473d-af93-7c118d42db3b\" xlink:actuate=\"onRequest\" xlink:href=\"psysml:d9e10f1c-39bd-473d-af93-7c118d42db3b\" xlink:show=\"new\" xlink:title=\"psysml:d9e10f1c-39bd-473d-af93-7c118d42db3b\" xlink:type=\"simple\"><rect fill=\"#FEFECE\" filter=\"url(#f1290ujht3egyk)\" height=\"45.9375\" id=\"E4\" rx=\"10\" ry=\"10\" style=\"stroke: #A80036; stroke-width: 1.5;\" width=\"138\" x=\"300.59\" y=\"316\"/><ellipse cx=\"315.59\" cy=\"334.9688\" fill=\"#32CD32\" rx=\"11\" ry=\"11\" style=\"stroke: #A80036; stroke-width: 1.0;\"/><path d=\"M312.4025,339.9688 L312.4025,329.375 L316.0119,329.375 Q317.2306,329.375 318.0275,329.8125 Q318.8244,330.2344 319.1994,330.9375 Q319.59,331.6406 319.59,332.4844 Q319.59,333.3281 319.215,334.0156 Q318.8556,334.7031 318.0588,335.125 Q317.2775,335.5313 316.09,335.5313 L314.3556,335.5313 L314.3556,339.9688 L312.4025,339.9688 Z M314.3556,333.9375 L315.965,333.9375 Q316.7775,333.9375 317.1994,333.5313 Q317.6213,333.125 317.6213,332.4844 Q317.6213,331.8594 317.1994,331.4531 Q316.7775,331.0469 315.9806,331.0469 L314.3556,331.0469 L314.3556,333.9375 Z \"/><text fill=\"#000000\" font-family=\"sans-serif\" font-size=\"12\" font-style=\"italic\" lengthAdjust=\"spacingAndGlyphs\" textLength=\"40\" x=\"362.59\" y=\"332.1387\">«part»</text><text fill=\"#000000\" font-family=\"sans-serif\" font-size=\"12\" lengthAdjust=\"spacingAndGlyphs\" textLength=\"102\" x=\"329.59\" y=\"346.1074\">engine2: Engine</text><line style=\"stroke: #A80036; stroke-width: 1.5;\" x1=\"301.59\" x2=\"437.59\" y1=\"353.9375\" y2=\"353.9375\"/></a><!--MD5=[270fce915f116d4de14055a7c1d9a0f3]\n",
       "class E5--><a href=\"psysml:f9c838ee-65e7-4043-9f07-1b30ef92e49c\" target=\"_top\" title=\"psysml:f9c838ee-65e7-4043-9f07-1b30ef92e49c\" xlink:actuate=\"onRequest\" xlink:href=\"psysml:f9c838ee-65e7-4043-9f07-1b30ef92e49c\" xlink:show=\"new\" xlink:title=\"psysml:f9c838ee-65e7-4043-9f07-1b30ef92e49c\" xlink:type=\"simple\"><rect fill=\"#FEFECE\" filter=\"url(#f1290ujht3egyk)\" height=\"45.9375\" id=\"E5\" rx=\"10\" ry=\"10\" style=\"stroke: #A80036; stroke-width: 1.5;\" width=\"229\" x=\"289.09\" y=\"41\"/><ellipse cx=\"304.09\" cy=\"59.9688\" fill=\"#B6DBBB\" rx=\"11\" ry=\"11\" style=\"stroke: #A80036; stroke-width: 1.0;\"/><path d=\"M303.84,65.4375 Q302.09,65.4375 301.1369,64.4063 Q300.1994,63.3594 300.1994,61.5156 L300.1994,54.625 L302.2619,54.625 L302.2619,54.7813 Q302.1681,54.875 302.1369,55.0156 Q302.1213,55.1406 302.1213,55.4063 L302.1213,61.5313 Q302.1213,62.625 302.4963,63.25 Q302.8713,63.875 303.8556,63.875 Q304.84,63.875 305.2306,63.25 Q305.6213,62.625 305.6213,61.4844 L305.6213,54.625 L307.4963,54.625 L307.4963,61.4688 Q307.4963,63.5 306.465,64.4688 Q305.4494,65.4375 303.84,65.4375 Z \"/><text fill=\"#000000\" font-family=\"sans-serif\" font-size=\"12\" font-style=\"italic\" lengthAdjust=\"spacingAndGlyphs\" textLength=\"64\" x=\"384.59\" y=\"57.1387\">«analysis»</text><text fill=\"#000000\" font-family=\"sans-serif\" font-size=\"12\" lengthAdjust=\"spacingAndGlyphs\" textLength=\"193\" x=\"318.09\" y=\"71.1074\">engineTradeStudy: TradeStudy</text><line style=\"stroke: #A80036; stroke-width: 1.5;\" x1=\"290.09\" x2=\"517.09\" y1=\"78.9375\" y2=\"78.9375\"/></a><!--MD5=[60a26617385b1d2d0262a64233df1f8d]\n",
       "class E6--><a href=\"psysml:38fbb285-8167-4e3f-bee3-2164ba524da7\" target=\"_top\" title=\"psysml:38fbb285-8167-4e3f-bee3-2164ba524da7\" xlink:actuate=\"onRequest\" xlink:href=\"psysml:38fbb285-8167-4e3f-bee3-2164ba524da7\" xlink:show=\"new\" xlink:title=\"psysml:38fbb285-8167-4e3f-bee3-2164ba524da7\" xlink:type=\"simple\"><rect fill=\"#FEFECE\" filter=\"url(#f1290ujht3egyk)\" height=\"45.9375\" id=\"E6\" rx=\"10\" ry=\"10\" style=\"stroke: #A80036; stroke-width: 1.5;\" width=\"281\" x=\"109.09\" y=\"164\"/><ellipse cx=\"124.09\" cy=\"182.9688\" fill=\"#FFA500\" rx=\"11\" ry=\"11\" style=\"stroke: #A80036; stroke-width: 1.0;\"/><path d=\"M123.84,188.4375 Q122.09,188.4375 121.1369,187.4063 Q120.1994,186.3594 120.1994,184.5156 L120.1994,177.625 L122.2619,177.625 L122.2619,177.7813 Q122.1681,177.875 122.1369,178.0156 Q122.1213,178.1406 122.1213,178.4063 L122.1213,184.5313 Q122.1213,185.625 122.4963,186.25 Q122.8713,186.875 123.8556,186.875 Q124.84,186.875 125.2306,186.25 Q125.6213,185.625 125.6213,184.4844 L125.6213,177.625 L127.4963,177.625 L127.4963,184.4688 Q127.4963,186.5 126.465,187.4688 Q125.4494,188.4375 123.84,188.4375 Z \"/><text fill=\"#000000\" font-family=\"sans-serif\" font-size=\"12\" font-style=\"italic\" lengthAdjust=\"spacingAndGlyphs\" textLength=\"91\" x=\"217.09\" y=\"180.1387\">«requirement»</text><text fill=\"#000000\" font-family=\"sans-serif\" font-size=\"12\" lengthAdjust=\"spacingAndGlyphs\" textLength=\"245\" x=\"138.09\" y=\"194.1074\">tradeStudyObjective: MaximizeObjective</text><line style=\"stroke: #A80036; stroke-width: 1.5;\" x1=\"110.09\" x2=\"389.09\" y1=\"201.9375\" y2=\"201.9375\"/></a><!--MD5=[2156ba9850f5573cc1fc38a6a4b2f02b]\n",
       "class E7--><a href=\"psysml:658dce09-b71c-4e6e-94c9-a3c46617ebc8\" target=\"_top\" title=\"psysml:658dce09-b71c-4e6e-94c9-a3c46617ebc8\" xlink:actuate=\"onRequest\" xlink:href=\"psysml:658dce09-b71c-4e6e-94c9-a3c46617ebc8\" xlink:show=\"new\" xlink:title=\"psysml:658dce09-b71c-4e6e-94c9-a3c46617ebc8\" xlink:type=\"simple\"><rect fill=\"#FEFECE\" filter=\"url(#f1290ujht3egyk)\" height=\"45.9375\" id=\"E7\" rx=\"10\" ry=\"10\" style=\"stroke: #A80036; stroke-width: 1.5;\" width=\"142\" x=\"425.59\" y=\"164\"/><ellipse cx=\"440.59\" cy=\"182.9688\" fill=\"#FFA500\" rx=\"11\" ry=\"11\" style=\"stroke: #A80036; stroke-width: 1.0;\"/><path d=\"M440.34,188.4375 Q438.59,188.4375 437.6369,187.4063 Q436.6994,186.3594 436.6994,184.5156 L436.6994,177.625 L438.7619,177.625 L438.7619,177.7813 Q438.6681,177.875 438.6369,178.0156 Q438.6213,178.1406 438.6213,178.4063 L438.6213,184.5313 Q438.6213,185.625 438.9963,186.25 Q439.3713,186.875 440.3556,186.875 Q441.34,186.875 441.7306,186.25 Q442.1213,185.625 442.1213,184.4844 L442.1213,177.625 L443.9963,177.625 L443.9963,184.4688 Q443.9963,186.5 442.965,187.4688 Q441.9494,188.4375 440.34,188.4375 Z \"/><text fill=\"#000000\" font-family=\"sans-serif\" font-size=\"12\" font-style=\"italic\" lengthAdjust=\"spacingAndGlyphs\" textLength=\"82\" x=\"468.59\" y=\"180.1387\">«calculation»</text><text fill=\"#000000\" font-family=\"sans-serif\" font-size=\"12\" lengthAdjust=\"spacingAndGlyphs\" textLength=\"110\" x=\"454.59\" y=\"194.1074\">objectiveFunction</text><line style=\"stroke: #A80036; stroke-width: 1.5;\" x1=\"426.59\" x2=\"566.59\" y1=\"201.9375\" y2=\"201.9375\"/></a><!--MD5=[b9389687b975829384b498ac4b7476b2]\n",
       "class E8--><a href=\"psysml:3dbf099d-922d-4ace-9ccd-679bba93319b\" target=\"_top\" title=\"psysml:3dbf099d-922d-4ace-9ccd-679bba93319b\" xlink:actuate=\"onRequest\" xlink:href=\"psysml:3dbf099d-922d-4ace-9ccd-679bba93319b\" xlink:show=\"new\" xlink:title=\"psysml:3dbf099d-922d-4ace-9ccd-679bba93319b\" xlink:type=\"simple\"><rect fill=\"#FEFECE\" filter=\"url(#f1290ujht3egyk)\" height=\"45.9375\" id=\"E8\" rx=\"10\" ry=\"10\" style=\"stroke: #A80036; stroke-width: 1.5;\" width=\"154\" x=\"74.59\" y=\"316\"/><ellipse cx=\"89.59\" cy=\"334.9688\" fill=\"#32CD32\" rx=\"11\" ry=\"11\" style=\"stroke: #A80036; stroke-width: 1.0;\"/><path d=\"M86.4025,339.9688 L86.4025,329.375 L90.0119,329.375 Q91.2306,329.375 92.0275,329.8125 Q92.8244,330.2344 93.1994,330.9375 Q93.59,331.6406 93.59,332.4844 Q93.59,333.3281 93.215,334.0156 Q92.8556,334.7031 92.0588,335.125 Q91.2775,335.5313 90.09,335.5313 L88.3556,335.5313 L88.3556,339.9688 L86.4025,339.9688 Z M88.3556,333.9375 L89.965,333.9375 Q90.7775,333.9375 91.1994,333.5313 Q91.6213,333.125 91.6213,332.4844 Q91.6213,331.8594 91.1994,331.4531 Q90.7775,331.0469 89.9806,331.0469 L88.3556,331.0469 L88.3556,333.9375 Z \"/><text fill=\"#000000\" font-family=\"sans-serif\" font-size=\"12\" font-style=\"italic\" lengthAdjust=\"spacingAndGlyphs\" textLength=\"40\" x=\"144.59\" y=\"332.1387\">«part»</text><text fill=\"#000000\" font-family=\"sans-serif\" font-size=\"12\" lengthAdjust=\"spacingAndGlyphs\" textLength=\"118\" x=\"103.59\" y=\"346.1074\">alternative: Engine</text><line style=\"stroke: #A80036; stroke-width: 1.5;\" x1=\"75.59\" x2=\"227.59\" y1=\"353.9375\" y2=\"353.9375\"/></a><!--MD5=[fd4143e9d270a159db93a4ea2a975926]\n",
       "class E9--><a href=\"psysml:5fb9bd76-5535-468b-bb8f-88cd6f109fe8\" target=\"_top\" title=\"psysml:5fb9bd76-5535-468b-bb8f-88cd6f109fe8\" xlink:actuate=\"onRequest\" xlink:href=\"psysml:5fb9bd76-5535-468b-bb8f-88cd6f109fe8\" xlink:show=\"new\" xlink:title=\"psysml:5fb9bd76-5535-468b-bb8f-88cd6f109fe8\" xlink:type=\"simple\"><rect fill=\"#FEFECE\" filter=\"url(#f1290ujht3egyk)\" height=\"45.9375\" id=\"E9\" rx=\"10\" ry=\"10\" style=\"stroke: #A80036; stroke-width: 1.5;\" width=\"208\" x=\"281.59\" y=\"240\"/><ellipse cx=\"296.59\" cy=\"258.9688\" fill=\"#32CD32\" rx=\"11\" ry=\"11\" style=\"stroke: #A80036; stroke-width: 1.0;\"/><path d=\"M293.4025,263.9688 L293.4025,253.375 L297.0119,253.375 Q298.2306,253.375 299.0275,253.8125 Q299.8244,254.2344 300.1994,254.9375 Q300.59,255.6406 300.59,256.4844 Q300.59,257.3281 300.215,258.0156 Q299.8556,258.7031 299.0588,259.125 Q298.2775,259.5313 297.09,259.5313 L295.3556,259.5313 L295.3556,263.9688 L293.4025,263.9688 Z M295.3556,257.9375 L296.965,257.9375 Q297.7775,257.9375 298.1994,257.5313 Q298.6213,257.125 298.6213,256.4844 Q298.6213,255.8594 298.1994,255.4531 Q297.7775,255.0469 296.9806,255.0469 L295.3556,255.0469 L295.3556,257.9375 Z \"/><text fill=\"#000000\" font-family=\"sans-serif\" font-size=\"12\" font-style=\"italic\" lengthAdjust=\"spacingAndGlyphs\" textLength=\"40\" x=\"378.59\" y=\"256.1387\">«part»</text><text fill=\"#000000\" font-family=\"sans-serif\" font-size=\"12\" lengthAdjust=\"spacingAndGlyphs\" textLength=\"172\" x=\"310.59\" y=\"270.1074\">selectedAlternative: Engine</text><line style=\"stroke: #A80036; stroke-width: 1.5;\" x1=\"282.59\" x2=\"488.59\" y1=\"277.9375\" y2=\"277.9375\"/></a><!--MD5=[05d275557350bfb9b23a4ef7222b4c39]\n",
       "link E3 to E2--><a href=\"psysml:8b560a74-32d8-45cc-8c0e-f8d7e14b884a\" target=\"_top\" title=\"psysml:8b560a74-32d8-45cc-8c0e-f8d7e14b884a\" xlink:actuate=\"onRequest\" xlink:href=\"psysml:8b560a74-32d8-45cc-8c0e-f8d7e14b884a\" xlink:show=\"new\" xlink:title=\"psysml:8b560a74-32d8-45cc-8c0e-f8d7e14b884a\" xlink:type=\"simple\"><path d=\"M482.61,362.01 C434.71,379.58 368.05,404.04 321.08,421.27 \" fill=\"none\" id=\"E3-&gt;E2\" style=\"stroke: #A80036; stroke-width: 1.0;\"/><polygon fill=\"#FFFFFF\" points=\"302.27,428.17,317.7003,415.0588,322.5184,428.2036,302.27,428.17\" style=\"stroke: #A80036; stroke-width: 1.0;\"/><ellipse cx=\"323.7404\" cy=\"414.9749\" fill=\"#A80036\" rx=\"2\" ry=\"2\" style=\"stroke: #A80036; stroke-width: 1.0;\"/><ellipse cx=\"327.1819\" cy=\"424.3641\" fill=\"#A80036\" rx=\"2\" ry=\"2\" style=\"stroke: #A80036; stroke-width: 1.0;\"/></a><!--MD5=[185131fc0dcab0a4505a2ebe144e961b]\n",
       "link E4 to E2--><a href=\"psysml:7f518d85-a598-4692-a186-0ec59d25f08f\" target=\"_top\" title=\"psysml:7f518d85-a598-4692-a186-0ec59d25f08f\" xlink:actuate=\"onRequest\" xlink:href=\"psysml:7f518d85-a598-4692-a186-0ec59d25f08f\" xlink:show=\"new\" xlink:title=\"psysml:7f518d85-a598-4692-a186-0ec59d25f08f\" xlink:type=\"simple\"><path d=\"M346.81,362.13 C332.78,375.76 314.54,393.47 298.81,408.76 \" fill=\"none\" id=\"E4-&gt;E2\" style=\"stroke: #A80036; stroke-width: 1.0;\"/><polygon fill=\"#FFFFFF\" points=\"284.15,423,292.8944,404.737,302.6529,414.7755,284.15,423\" style=\"stroke: #A80036; stroke-width: 1.0;\"/><ellipse cx=\"298.3756\" cy=\"402.198\" fill=\"#A80036\" rx=\"2\" ry=\"2\" style=\"stroke: #A80036; stroke-width: 1.0;\"/><ellipse cx=\"305.3459\" cy=\"409.3683\" fill=\"#A80036\" rx=\"2\" ry=\"2\" style=\"stroke: #A80036; stroke-width: 1.0;\"/></a><!--MD5=[15ebcb19ae302d9b601edb458606d402]\n",
       "link E5 to E2--><a href=\"psysml:8e91b88f-f820-4b3f-bc7b-6a32144645a0\" target=\"_top\" title=\"psysml:8e91b88f-f820-4b3f-bc7b-6a32144645a0\" xlink:actuate=\"onRequest\" xlink:href=\"psysml:8e91b88f-f820-4b3f-bc7b-6a32144645a0\" xlink:show=\"new\" xlink:title=\"psysml:8e91b88f-f820-4b3f-bc7b-6a32144645a0\" xlink:type=\"simple\"><path d=\"M288.79,73.68 C222.27,84.73 141.96,109.38 91.59,164 C31.01,229.69 6,288.34 56.59,362 C93.57,415.85 172.26,433.47 221.54,439.22 \" fill=\"none\" id=\"E5-&gt;E2\" style=\"stroke: #A80036; stroke-width: 1.0; stroke-dasharray: 7.0,7.0;\"/><polygon fill=\"#A80036\" points=\"226.81,439.8,218.2974,434.8467,221.8395,439.2572,217.429,442.7994,226.81,439.8\" style=\"stroke: #A80036; stroke-width: 1.0;\"/><text fill=\"#000000\" font-family=\"sans-serif\" font-size=\"13\" lengthAdjust=\"spacingAndGlyphs\" textLength=\"62\" x=\"39.59\" y=\"267.5669\">«subject»</text></a><!--MD5=[9120cf2e5df3bff93db8f754bbbc09b4]\n",
       "link E5 to E6--><a href=\"psysml:a6ebdbd2-b0f8-4e64-baff-f91dc99eb3fc\" target=\"_top\" title=\"psysml:a6ebdbd2-b0f8-4e64-baff-f91dc99eb3fc\" xlink:actuate=\"onRequest\" xlink:href=\"psysml:a6ebdbd2-b0f8-4e64-baff-f91dc99eb3fc\" xlink:show=\"new\" xlink:title=\"psysml:a6ebdbd2-b0f8-4e64-baff-f91dc99eb3fc\" xlink:type=\"simple\"><path d=\"M375.34,87.19 C349.62,107.41 311.56,137.31 284.06,158.92 \" fill=\"none\" id=\"E5-&gt;E6\" style=\"stroke: #A80036; stroke-width: 1.0;\"/><polygon fill=\"#A80036\" points=\"277.66,163.95,285.8058,161.3721,282.1022,156.6516,277.66,163.95\" style=\"stroke: #A80036; stroke-width: 1.0;\"/><text fill=\"#000000\" font-family=\"sans-serif\" font-size=\"13\" lengthAdjust=\"spacingAndGlyphs\" textLength=\"73\" x=\"336.59\" y=\"130.0669\">«objective»</text></a><!--MD5=[452b418e7f8a40397a49b8c0a78acc5b]\n",
       "reverse link E5 to E7--><a href=\"psysml:1d968e51-2f45-472a-9c8d-b659e8169068\" target=\"_top\" title=\"psysml:1d968e51-2f45-472a-9c8d-b659e8169068\" xlink:actuate=\"onRequest\" xlink:href=\"psysml:1d968e51-2f45-472a-9c8d-b659e8169068\" xlink:show=\"new\" xlink:title=\"psysml:1d968e51-2f45-472a-9c8d-b659e8169068\" xlink:type=\"simple\"><path d=\"M428.64,97.59 C444.8,118.61 465.38,145.4 479.64,163.95 \" fill=\"none\" id=\"E5&lt;-E7\" style=\"stroke: #A80036; stroke-width: 1.0;\"/><polygon fill=\"#A80036\" points=\"420.65,87.19,421.1291,94.3852,427.9551,96.7103,427.476,89.5151,420.65,87.19\" style=\"stroke: #A80036; stroke-width: 1.0;\"/></a><!--MD5=[dc164f5e8a733ab456ef1add180e9e34]\n",
       "reverse link E7 to E8--><a href=\"psysml:762eee8a-df65-48ef-8994-f8166e9b75f6\" target=\"_top\" title=\"psysml:762eee8a-df65-48ef-8994-f8166e9b75f6\" xlink:actuate=\"onRequest\" xlink:href=\"psysml:762eee8a-df65-48ef-8994-f8166e9b75f6\" xlink:show=\"new\" xlink:title=\"psysml:762eee8a-df65-48ef-8994-f8166e9b75f6\" xlink:type=\"simple\"><path d=\"M412.48,208.88 C410.84,209.26 409.2,209.63 407.59,210 C344.28,224.46 322.76,211.13 264.59,240 C226.91,258.7 191.66,292.98 170.87,315.63 \" fill=\"none\" id=\"E7&lt;-E8\" style=\"stroke: #A80036; stroke-width: 1.0;\"/><polygon fill=\"#FFFFFF\" points=\"425.23,205.88,418.4746,203.3572,413.5476,208.6226,420.303,211.1454,425.23,205.88\" style=\"stroke: #A80036; stroke-width: 1.0;\"/><text fill=\"#000000\" font-family=\"sans-serif\" font-size=\"13\" lengthAdjust=\"spacingAndGlyphs\" textLength=\"8\" x=\"166.7855\" y=\"304.8115\">1</text></a><!--MD5=[f1f3f9f2fc535e6147756cb86a7f2e32]\n",
       "link E8 to E2--><a href=\"psysml:b4a53d37-cc69-46b7-9c1e-d748cdbb7a31\" target=\"_top\" title=\"psysml:b4a53d37-cc69-46b7-9c1e-d748cdbb7a31\" xlink:actuate=\"onRequest\" xlink:href=\"psysml:b4a53d37-cc69-46b7-9c1e-d748cdbb7a31\" xlink:show=\"new\" xlink:title=\"psysml:b4a53d37-cc69-46b7-9c1e-d748cdbb7a31\" xlink:type=\"simple\"><path d=\"M176.11,362.13 C191.44,375.97 211.45,394.03 228.56,409.48 \" fill=\"none\" id=\"E8-&gt;E2\" style=\"stroke: #A80036; stroke-width: 1.0;\"/><polygon fill=\"#FFFFFF\" points=\"243.54,423,224.7462,415.4638,234.1278,405.0721,243.54,423\" style=\"stroke: #A80036; stroke-width: 1.0;\"/><ellipse cx=\"221.8556\" cy=\"410.1596\" fill=\"#A80036\" rx=\"2\" ry=\"2\" style=\"stroke: #A80036; stroke-width: 1.0;\"/><ellipse cx=\"228.5566\" cy=\"402.737\" fill=\"#A80036\" rx=\"2\" ry=\"2\" style=\"stroke: #A80036; stroke-width: 1.0;\"/></a><!--MD5=[9ae28de373ca99bb8a1b38d63370ca7e]\n",
       "reverse link E5 to E9--><a href=\"psysml:b337f31d-c5a0-436f-953f-431d96e2f8f6\" target=\"_top\" title=\"psysml:b337f31d-c5a0-436f-953f-431d96e2f8f6\" xlink:actuate=\"onRequest\" xlink:href=\"psysml:b337f31d-c5a0-436f-953f-431d96e2f8f6\" xlink:show=\"new\" xlink:title=\"psysml:b337f31d-c5a0-436f-953f-431d96e2f8f6\" xlink:type=\"simple\"><path d=\"M484.39,91.88 C549.31,117.88 623.84,160.54 585.59,210 C573.03,226.25 531.69,238.36 489.84,246.79 \" fill=\"none\" id=\"E5&lt;-E9\" style=\"stroke: #A80036; stroke-width: 1.0;\"/><polygon fill=\"#FFFFFF\" points=\"471.99,87.07,476.1369,92.9694,483.1775,91.4104,479.0306,85.511,471.99,87.07\" style=\"stroke: #A80036; stroke-width: 1.0;\"/><text fill=\"#000000\" font-family=\"sans-serif\" font-size=\"13\" lengthAdjust=\"spacingAndGlyphs\" textLength=\"8\" x=\"497.4513\" y=\"242.1967\">1</text></a><!--MD5=[5c3bb36fe832a92c7f0e1807dd65209d]\n",
       "link E9 to E2--><a href=\"psysml:a6a00959-a343-466b-bcfe-643c8c056808\" target=\"_top\" title=\"psysml:a6a00959-a343-466b-bcfe-643c8c056808\" xlink:actuate=\"onRequest\" xlink:href=\"psysml:a6a00959-a343-466b-bcfe-643c8c056808\" xlink:show=\"new\" xlink:title=\"psysml:a6a00959-a343-466b-bcfe-643c8c056808\" xlink:type=\"simple\"><path d=\"M319.64,286.07 C305.83,293.56 292.71,303.34 283.59,316 C265.6,340.96 261.55,375.98 261.6,402.77 \" fill=\"none\" id=\"E9-&gt;E2\" style=\"stroke: #A80036; stroke-width: 1.0;\"/><polygon fill=\"#FFFFFF\" points=\"262.39,422.93,254.649,404.2197,268.6382,403.6697,262.39,422.93\" style=\"stroke: #A80036; stroke-width: 1.0;\"/><ellipse cx=\"256.4236\" cy=\"398.4455\" fill=\"#A80036\" rx=\"2\" ry=\"2\" style=\"stroke: #A80036; stroke-width: 1.0;\"/><ellipse cx=\"266.4158\" cy=\"398.0526\" fill=\"#A80036\" rx=\"2\" ry=\"2\" style=\"stroke: #A80036; stroke-width: 1.0;\"/></a><!--MD5=[cb4ebfa436ef990d1d45cdf39ac7acda]\n",
       "@startuml\r\n",
       " \r\n",
       "package \"TradeStudyTest\" as E1  [[psysml:57f8a98c-5718-48d8-9b9a-5c4650640602 ]]  {\r\n",
       "comp def \"Engine\" as E2 << << (B,green) >> [[psysml:6445380e-76a1-4d64-a2e6-1c63aec68392 ]] {\r\n",
       "}\r\n",
       "comp usage \"engine1: Engine \" as E3 << << (P,limegreen) part>> [[psysml:e07cfc3f-c273-4e94-9cbe-d128d50ec860 ]] {\r\n",
       "}\r\n",
       "comp usage \"engine2: Engine \" as E4 << << (P,limegreen) part>> [[psysml:d9e10f1c-39bd-473d-af93-7c118d42db3b ]] {\r\n",
       "}\r\n",
       "comp usage \"engineTradeStudy: TradeStudy \" as E5 << analysis>> [[psysml:f9c838ee-65e7-4043-9f07-1b30ef92e49c ]] {\r\n",
       "}\r\n",
       "comp usage \"tradeStudyObjective: MaximizeObjective \" as E6 << <<(U,orange) requirement>> [[psysml:38fbb285-8167-4e3f-bee3-2164ba524da7 ]] {\r\n",
       "}\r\n",
       "comp usage \"objectiveFunction\" as E7 << <<(U,orange) calculation>> [[psysml:658dce09-b71c-4e6e-94c9-a3c46617ebc8 ]] {\r\n",
       "}\r\n",
       "comp usage \"alternative: Engine \" as E8 << << (P,limegreen) part>> [[psysml:3dbf099d-922d-4ace-9ccd-679bba93319b ]] {\r\n",
       "}\r\n",
       "comp usage \"selectedAlternative: Engine \" as E9 << << (P,limegreen) part>> [[psysml:5fb9bd76-5535-468b-bb8f-88cd6f109fe8 ]] {\r\n",
       "}\r\n",
       "}\r\n",
       "E3 - -:|> E2 [[psysml:8b560a74-32d8-45cc-8c0e-f8d7e14b884a ]] \r\n",
       "E4 - -:|> E2 [[psysml:7f518d85-a598-4692-a186-0ec59d25f08f ]] \r\n",
       "E5 ..> E2 [[psysml:8e91b88f-f820-4b3f-bc7b-6a32144645a0 ]] : <<subject>>\r\n",
       "E5 - ->> E6 [[psysml:a6ebdbd2-b0f8-4e64-baff-f91dc99eb3fc ]] : <<objective>>\r\n",
       "E5 *- - E7 [[psysml:1d968e51-2f45-472a-9c8d-b659e8169068 ]] \r\n",
       "E7 o- - \"1\"E8 [[psysml:762eee8a-df65-48ef-8994-f8166e9b75f6 ]] \r\n",
       "E8 - -:|> E2 [[psysml:b4a53d37-cc69-46b7-9c1e-d748cdbb7a31 ]] \r\n",
       "E5 o- - \"1\"E9 [[psysml:b337f31d-c5a0-436f-953f-431d96e2f8f6 ]] \r\n",
       "E9 - -:|> E2 [[psysml:a6a00959-a343-466b-bcfe-643c8c056808 ]] \r\n",
       "@enduml\r\n",
       "\n",
       "PlantUML version 1.2020.13(Sat Jun 13 12:26:38 UTC 2020)\n",
       "(EPL source distribution)\n",
       "Java Runtime: OpenJDK Runtime Environment\n",
       "JVM: OpenJDK 64-Bit Server VM\n",
       "Default Encoding: UTF-8\n",
       "Language: en\n",
       "Country: null\n",
       "--></g></svg>"
      ]
     },
     "execution_count": 30,
     "metadata": {},
     "output_type": "execute_result"
    }
   ],
   "source": [
    "%viz --style=\"PLANTUML\" --view=\"Default\" \"TradeStudyTest\""
   ]
  },
  {
   "cell_type": "code",
   "execution_count": 31,
   "id": "4cf8fe3f",
   "metadata": {
    "execution": {
     "iopub.execute_input": "2021-11-13T13:01:40.509027Z",
     "iopub.status.busy": "2021-11-13T13:01:40.508577Z",
     "iopub.status.idle": "2021-11-13T13:01:40.551601Z",
     "shell.execute_reply": "2021-11-13T13:01:40.551174Z"
    }
   },
   "outputs": [
    {
     "data": {
      "image/svg+xml": [
       "<?xml version=\"1.0\" encoding=\"UTF-8\" standalone=\"no\"?><svg xmlns=\"http://www.w3.org/2000/svg\" xmlns:xlink=\"http://www.w3.org/1999/xlink\" contentScriptType=\"application/ecmascript\" contentStyleType=\"text/css\" height=\"491px\" preserveAspectRatio=\"none\" style=\"width:649px;height:491px;\" version=\"1.1\" viewBox=\"0 0 649 491\" width=\"649px\" zoomAndPan=\"magnify\"><defs><filter height=\"300%\" id=\"f1290ujht3egyk\" width=\"300%\" x=\"-1\" y=\"-1\"><feGaussianBlur result=\"blurOut\" stdDeviation=\"2.0\"/><feColorMatrix in=\"blurOut\" result=\"blurOut2\" type=\"matrix\" values=\"0 0 0 0 0 0 0 0 0 0 0 0 0 0 0 0 0 0 .4 0\"/><feOffset dx=\"4.0\" dy=\"4.0\" in=\"blurOut2\" result=\"blurOut3\"/><feBlend in=\"SourceGraphic\" in2=\"blurOut3\" mode=\"normal\"/></filter></defs><g><!--MD5=[fbc87193dbaf4d95561dea2c320d4a47]\n",
       "cluster E1--><a href=\"psysml:57f8a98c-5718-48d8-9b9a-5c4650640602\" target=\"_top\" title=\"psysml:57f8a98c-5718-48d8-9b9a-5c4650640602\" xlink:actuate=\"onRequest\" xlink:href=\"psysml:57f8a98c-5718-48d8-9b9a-5c4650640602\" xlink:show=\"new\" xlink:title=\"psysml:57f8a98c-5718-48d8-9b9a-5c4650640602\" xlink:type=\"simple\"><polygon fill=\"#FFFFFF\" filter=\"url(#f1290ujht3egyk)\" points=\"21.59,6,137.59,6,144.59,28.2969,627.59,28.2969,627.59,479,21.59,479,21.59,6\" style=\"stroke: #000000; stroke-width: 1.5;\"/><line style=\"stroke: #000000; stroke-width: 1.5;\" x1=\"21.59\" x2=\"144.59\" y1=\"28.2969\" y2=\"28.2969\"/><text fill=\"#000000\" font-family=\"sans-serif\" font-size=\"14\" font-weight=\"bold\" lengthAdjust=\"spacingAndGlyphs\" textLength=\"110\" x=\"25.59\" y=\"20.9951\">TradeStudyTest</text></a><!--MD5=[b4997ac47864f28c2f74865a473b2911]\n",
       "class E2--><a href=\"psysml:6445380e-76a1-4d64-a2e6-1c63aec68392\" target=\"_top\" title=\"psysml:6445380e-76a1-4d64-a2e6-1c63aec68392\" xlink:actuate=\"onRequest\" xlink:href=\"psysml:6445380e-76a1-4d64-a2e6-1c63aec68392\" xlink:show=\"new\" xlink:title=\"psysml:6445380e-76a1-4d64-a2e6-1c63aec68392\" xlink:type=\"simple\"><rect fill=\"#FEFECE\" filter=\"url(#f1290ujht3egyk)\" height=\"40\" id=\"E2\" style=\"stroke: #A80036; stroke-width: 1.5;\" width=\"75\" x=\"227.09\" y=\"423\"/><ellipse cx=\"242.09\" cy=\"439\" fill=\"#008000\" rx=\"11\" ry=\"11\" style=\"stroke: #A80036; stroke-width: 1.0;\"/><path d=\"M238.965,444 L238.965,433.4063 L242.1994,433.4063 Q244.1056,433.4063 245.0119,434.1563 Q245.9338,434.9063 245.9338,436.0781 Q245.9338,436.7656 245.5431,437.4219 Q245.1681,438.0781 244.4494,438.375 Q245.3088,438.75 245.8244,439.4375 Q246.34,440.125 246.34,440.9375 Q246.34,442.3125 245.3088,443.1563 Q244.2931,444 242.1838,444 L238.965,444 Z M240.8869,437.6406 L242.0431,437.6406 Q243.1681,437.6406 243.5744,437.2656 Q243.9963,436.875 243.9963,436.25 Q243.9963,435.6719 243.5744,435.3125 Q243.1525,434.9531 242.215,434.9531 L240.8869,434.9531 L240.8869,437.6406 Z M240.8869,442.4219 L242.3869,442.4219 Q243.2931,442.4219 243.8244,442.0313 Q244.3556,441.6406 244.3556,440.8906 Q244.3556,440.125 243.8556,439.6563 Q243.3556,439.1719 242.09,439.1719 L240.8869,439.1719 L240.8869,442.4219 Z \"/><text fill=\"#000000\" font-family=\"sans-serif\" font-size=\"12\" lengthAdjust=\"spacingAndGlyphs\" textLength=\"43\" x=\"256.09\" y=\"443.1543\">Engine</text><line style=\"stroke: #A80036; stroke-width: 1.5;\" x1=\"228.09\" x2=\"301.09\" y1=\"455\" y2=\"455\"/></a><!--MD5=[09b614a08d8cba4a07c9adeb5e0fee81]\n",
       "class E3--><a href=\"psysml:e07cfc3f-c273-4e94-9cbe-d128d50ec860\" target=\"_top\" title=\"psysml:e07cfc3f-c273-4e94-9cbe-d128d50ec860\" xlink:actuate=\"onRequest\" xlink:href=\"psysml:e07cfc3f-c273-4e94-9cbe-d128d50ec860\" xlink:show=\"new\" xlink:title=\"psysml:e07cfc3f-c273-4e94-9cbe-d128d50ec860\" xlink:type=\"simple\"><rect fill=\"#FEFECE\" filter=\"url(#f1290ujht3egyk)\" height=\"45.9375\" id=\"E3\" rx=\"10\" ry=\"10\" style=\"stroke: #A80036; stroke-width: 1.5;\" width=\"138\" x=\"473.59\" y=\"316\"/><ellipse cx=\"488.59\" cy=\"334.9688\" fill=\"#32CD32\" rx=\"11\" ry=\"11\" style=\"stroke: #A80036; stroke-width: 1.0;\"/><path d=\"M485.4025,339.9688 L485.4025,329.375 L489.0119,329.375 Q490.2306,329.375 491.0275,329.8125 Q491.8244,330.2344 492.1994,330.9375 Q492.59,331.6406 492.59,332.4844 Q492.59,333.3281 492.215,334.0156 Q491.8556,334.7031 491.0588,335.125 Q490.2775,335.5313 489.09,335.5313 L487.3556,335.5313 L487.3556,339.9688 L485.4025,339.9688 Z M487.3556,333.9375 L488.965,333.9375 Q489.7775,333.9375 490.1994,333.5313 Q490.6213,333.125 490.6213,332.4844 Q490.6213,331.8594 490.1994,331.4531 Q489.7775,331.0469 488.9806,331.0469 L487.3556,331.0469 L487.3556,333.9375 Z \"/><text fill=\"#000000\" font-family=\"sans-serif\" font-size=\"12\" font-style=\"italic\" lengthAdjust=\"spacingAndGlyphs\" textLength=\"40\" x=\"535.59\" y=\"332.1387\">«part»</text><text fill=\"#000000\" font-family=\"sans-serif\" font-size=\"12\" lengthAdjust=\"spacingAndGlyphs\" textLength=\"102\" x=\"502.59\" y=\"346.1074\">engine1: Engine</text><line style=\"stroke: #A80036; stroke-width: 1.5;\" x1=\"474.59\" x2=\"610.59\" y1=\"353.9375\" y2=\"353.9375\"/></a><!--MD5=[ebbe1d658d1005bcc118a6aa81145e00]\n",
       "class E4--><a href=\"psysml:d9e10f1c-39bd-473d-af93-7c118d42db3b\" target=\"_top\" title=\"psysml:d9e10f1c-39bd-473d-af93-7c118d42db3b\" xlink:actuate=\"onRequest\" xlink:href=\"psysml:d9e10f1c-39bd-473d-af93-7c118d42db3b\" xlink:show=\"new\" xlink:title=\"psysml:d9e10f1c-39bd-473d-af93-7c118d42db3b\" xlink:type=\"simple\"><rect fill=\"#FEFECE\" filter=\"url(#f1290ujht3egyk)\" height=\"45.9375\" id=\"E4\" rx=\"10\" ry=\"10\" style=\"stroke: #A80036; stroke-width: 1.5;\" width=\"138\" x=\"300.59\" y=\"316\"/><ellipse cx=\"315.59\" cy=\"334.9688\" fill=\"#32CD32\" rx=\"11\" ry=\"11\" style=\"stroke: #A80036; stroke-width: 1.0;\"/><path d=\"M312.4025,339.9688 L312.4025,329.375 L316.0119,329.375 Q317.2306,329.375 318.0275,329.8125 Q318.8244,330.2344 319.1994,330.9375 Q319.59,331.6406 319.59,332.4844 Q319.59,333.3281 319.215,334.0156 Q318.8556,334.7031 318.0588,335.125 Q317.2775,335.5313 316.09,335.5313 L314.3556,335.5313 L314.3556,339.9688 L312.4025,339.9688 Z M314.3556,333.9375 L315.965,333.9375 Q316.7775,333.9375 317.1994,333.5313 Q317.6213,333.125 317.6213,332.4844 Q317.6213,331.8594 317.1994,331.4531 Q316.7775,331.0469 315.9806,331.0469 L314.3556,331.0469 L314.3556,333.9375 Z \"/><text fill=\"#000000\" font-family=\"sans-serif\" font-size=\"12\" font-style=\"italic\" lengthAdjust=\"spacingAndGlyphs\" textLength=\"40\" x=\"362.59\" y=\"332.1387\">«part»</text><text fill=\"#000000\" font-family=\"sans-serif\" font-size=\"12\" lengthAdjust=\"spacingAndGlyphs\" textLength=\"102\" x=\"329.59\" y=\"346.1074\">engine2: Engine</text><line style=\"stroke: #A80036; stroke-width: 1.5;\" x1=\"301.59\" x2=\"437.59\" y1=\"353.9375\" y2=\"353.9375\"/></a><!--MD5=[270fce915f116d4de14055a7c1d9a0f3]\n",
       "class E5--><a href=\"psysml:f9c838ee-65e7-4043-9f07-1b30ef92e49c\" target=\"_top\" title=\"psysml:f9c838ee-65e7-4043-9f07-1b30ef92e49c\" xlink:actuate=\"onRequest\" xlink:href=\"psysml:f9c838ee-65e7-4043-9f07-1b30ef92e49c\" xlink:show=\"new\" xlink:title=\"psysml:f9c838ee-65e7-4043-9f07-1b30ef92e49c\" xlink:type=\"simple\"><rect fill=\"#FEFECE\" filter=\"url(#f1290ujht3egyk)\" height=\"45.9375\" id=\"E5\" rx=\"10\" ry=\"10\" style=\"stroke: #A80036; stroke-width: 1.5;\" width=\"229\" x=\"289.09\" y=\"41\"/><ellipse cx=\"304.09\" cy=\"59.9688\" fill=\"#B6DBBB\" rx=\"11\" ry=\"11\" style=\"stroke: #A80036; stroke-width: 1.0;\"/><path d=\"M303.84,65.4375 Q302.09,65.4375 301.1369,64.4063 Q300.1994,63.3594 300.1994,61.5156 L300.1994,54.625 L302.2619,54.625 L302.2619,54.7813 Q302.1681,54.875 302.1369,55.0156 Q302.1213,55.1406 302.1213,55.4063 L302.1213,61.5313 Q302.1213,62.625 302.4963,63.25 Q302.8713,63.875 303.8556,63.875 Q304.84,63.875 305.2306,63.25 Q305.6213,62.625 305.6213,61.4844 L305.6213,54.625 L307.4963,54.625 L307.4963,61.4688 Q307.4963,63.5 306.465,64.4688 Q305.4494,65.4375 303.84,65.4375 Z \"/><text fill=\"#000000\" font-family=\"sans-serif\" font-size=\"12\" font-style=\"italic\" lengthAdjust=\"spacingAndGlyphs\" textLength=\"64\" x=\"384.59\" y=\"57.1387\">«analysis»</text><text fill=\"#000000\" font-family=\"sans-serif\" font-size=\"12\" lengthAdjust=\"spacingAndGlyphs\" textLength=\"193\" x=\"318.09\" y=\"71.1074\">engineTradeStudy: TradeStudy</text><line style=\"stroke: #A80036; stroke-width: 1.5;\" x1=\"290.09\" x2=\"517.09\" y1=\"78.9375\" y2=\"78.9375\"/></a><!--MD5=[60a26617385b1d2d0262a64233df1f8d]\n",
       "class E6--><a href=\"psysml:38fbb285-8167-4e3f-bee3-2164ba524da7\" target=\"_top\" title=\"psysml:38fbb285-8167-4e3f-bee3-2164ba524da7\" xlink:actuate=\"onRequest\" xlink:href=\"psysml:38fbb285-8167-4e3f-bee3-2164ba524da7\" xlink:show=\"new\" xlink:title=\"psysml:38fbb285-8167-4e3f-bee3-2164ba524da7\" xlink:type=\"simple\"><rect fill=\"#FEFECE\" filter=\"url(#f1290ujht3egyk)\" height=\"45.9375\" id=\"E6\" rx=\"10\" ry=\"10\" style=\"stroke: #A80036; stroke-width: 1.5;\" width=\"281\" x=\"109.09\" y=\"164\"/><ellipse cx=\"124.09\" cy=\"182.9688\" fill=\"#FFA500\" rx=\"11\" ry=\"11\" style=\"stroke: #A80036; stroke-width: 1.0;\"/><path d=\"M123.84,188.4375 Q122.09,188.4375 121.1369,187.4063 Q120.1994,186.3594 120.1994,184.5156 L120.1994,177.625 L122.2619,177.625 L122.2619,177.7813 Q122.1681,177.875 122.1369,178.0156 Q122.1213,178.1406 122.1213,178.4063 L122.1213,184.5313 Q122.1213,185.625 122.4963,186.25 Q122.8713,186.875 123.8556,186.875 Q124.84,186.875 125.2306,186.25 Q125.6213,185.625 125.6213,184.4844 L125.6213,177.625 L127.4963,177.625 L127.4963,184.4688 Q127.4963,186.5 126.465,187.4688 Q125.4494,188.4375 123.84,188.4375 Z \"/><text fill=\"#000000\" font-family=\"sans-serif\" font-size=\"12\" font-style=\"italic\" lengthAdjust=\"spacingAndGlyphs\" textLength=\"91\" x=\"217.09\" y=\"180.1387\">«requirement»</text><text fill=\"#000000\" font-family=\"sans-serif\" font-size=\"12\" lengthAdjust=\"spacingAndGlyphs\" textLength=\"245\" x=\"138.09\" y=\"194.1074\">tradeStudyObjective: MaximizeObjective</text><line style=\"stroke: #A80036; stroke-width: 1.5;\" x1=\"110.09\" x2=\"389.09\" y1=\"201.9375\" y2=\"201.9375\"/></a><!--MD5=[2156ba9850f5573cc1fc38a6a4b2f02b]\n",
       "class E7--><a href=\"psysml:658dce09-b71c-4e6e-94c9-a3c46617ebc8\" target=\"_top\" title=\"psysml:658dce09-b71c-4e6e-94c9-a3c46617ebc8\" xlink:actuate=\"onRequest\" xlink:href=\"psysml:658dce09-b71c-4e6e-94c9-a3c46617ebc8\" xlink:show=\"new\" xlink:title=\"psysml:658dce09-b71c-4e6e-94c9-a3c46617ebc8\" xlink:type=\"simple\"><rect fill=\"#FEFECE\" filter=\"url(#f1290ujht3egyk)\" height=\"45.9375\" id=\"E7\" rx=\"10\" ry=\"10\" style=\"stroke: #A80036; stroke-width: 1.5;\" width=\"142\" x=\"425.59\" y=\"164\"/><ellipse cx=\"440.59\" cy=\"182.9688\" fill=\"#FFA500\" rx=\"11\" ry=\"11\" style=\"stroke: #A80036; stroke-width: 1.0;\"/><path d=\"M440.34,188.4375 Q438.59,188.4375 437.6369,187.4063 Q436.6994,186.3594 436.6994,184.5156 L436.6994,177.625 L438.7619,177.625 L438.7619,177.7813 Q438.6681,177.875 438.6369,178.0156 Q438.6213,178.1406 438.6213,178.4063 L438.6213,184.5313 Q438.6213,185.625 438.9963,186.25 Q439.3713,186.875 440.3556,186.875 Q441.34,186.875 441.7306,186.25 Q442.1213,185.625 442.1213,184.4844 L442.1213,177.625 L443.9963,177.625 L443.9963,184.4688 Q443.9963,186.5 442.965,187.4688 Q441.9494,188.4375 440.34,188.4375 Z \"/><text fill=\"#000000\" font-family=\"sans-serif\" font-size=\"12\" font-style=\"italic\" lengthAdjust=\"spacingAndGlyphs\" textLength=\"82\" x=\"468.59\" y=\"180.1387\">«calculation»</text><text fill=\"#000000\" font-family=\"sans-serif\" font-size=\"12\" lengthAdjust=\"spacingAndGlyphs\" textLength=\"110\" x=\"454.59\" y=\"194.1074\">objectiveFunction</text><line style=\"stroke: #A80036; stroke-width: 1.5;\" x1=\"426.59\" x2=\"566.59\" y1=\"201.9375\" y2=\"201.9375\"/></a><!--MD5=[b9389687b975829384b498ac4b7476b2]\n",
       "class E8--><a href=\"psysml:3dbf099d-922d-4ace-9ccd-679bba93319b\" target=\"_top\" title=\"psysml:3dbf099d-922d-4ace-9ccd-679bba93319b\" xlink:actuate=\"onRequest\" xlink:href=\"psysml:3dbf099d-922d-4ace-9ccd-679bba93319b\" xlink:show=\"new\" xlink:title=\"psysml:3dbf099d-922d-4ace-9ccd-679bba93319b\" xlink:type=\"simple\"><rect fill=\"#FEFECE\" filter=\"url(#f1290ujht3egyk)\" height=\"45.9375\" id=\"E8\" rx=\"10\" ry=\"10\" style=\"stroke: #A80036; stroke-width: 1.5;\" width=\"154\" x=\"74.59\" y=\"316\"/><ellipse cx=\"89.59\" cy=\"334.9688\" fill=\"#32CD32\" rx=\"11\" ry=\"11\" style=\"stroke: #A80036; stroke-width: 1.0;\"/><path d=\"M86.4025,339.9688 L86.4025,329.375 L90.0119,329.375 Q91.2306,329.375 92.0275,329.8125 Q92.8244,330.2344 93.1994,330.9375 Q93.59,331.6406 93.59,332.4844 Q93.59,333.3281 93.215,334.0156 Q92.8556,334.7031 92.0588,335.125 Q91.2775,335.5313 90.09,335.5313 L88.3556,335.5313 L88.3556,339.9688 L86.4025,339.9688 Z M88.3556,333.9375 L89.965,333.9375 Q90.7775,333.9375 91.1994,333.5313 Q91.6213,333.125 91.6213,332.4844 Q91.6213,331.8594 91.1994,331.4531 Q90.7775,331.0469 89.9806,331.0469 L88.3556,331.0469 L88.3556,333.9375 Z \"/><text fill=\"#000000\" font-family=\"sans-serif\" font-size=\"12\" font-style=\"italic\" lengthAdjust=\"spacingAndGlyphs\" textLength=\"40\" x=\"144.59\" y=\"332.1387\">«part»</text><text fill=\"#000000\" font-family=\"sans-serif\" font-size=\"12\" lengthAdjust=\"spacingAndGlyphs\" textLength=\"118\" x=\"103.59\" y=\"346.1074\">alternative: Engine</text><line style=\"stroke: #A80036; stroke-width: 1.5;\" x1=\"75.59\" x2=\"227.59\" y1=\"353.9375\" y2=\"353.9375\"/></a><!--MD5=[fd4143e9d270a159db93a4ea2a975926]\n",
       "class E9--><a href=\"psysml:5fb9bd76-5535-468b-bb8f-88cd6f109fe8\" target=\"_top\" title=\"psysml:5fb9bd76-5535-468b-bb8f-88cd6f109fe8\" xlink:actuate=\"onRequest\" xlink:href=\"psysml:5fb9bd76-5535-468b-bb8f-88cd6f109fe8\" xlink:show=\"new\" xlink:title=\"psysml:5fb9bd76-5535-468b-bb8f-88cd6f109fe8\" xlink:type=\"simple\"><rect fill=\"#FEFECE\" filter=\"url(#f1290ujht3egyk)\" height=\"45.9375\" id=\"E9\" rx=\"10\" ry=\"10\" style=\"stroke: #A80036; stroke-width: 1.5;\" width=\"208\" x=\"281.59\" y=\"240\"/><ellipse cx=\"296.59\" cy=\"258.9688\" fill=\"#32CD32\" rx=\"11\" ry=\"11\" style=\"stroke: #A80036; stroke-width: 1.0;\"/><path d=\"M293.4025,263.9688 L293.4025,253.375 L297.0119,253.375 Q298.2306,253.375 299.0275,253.8125 Q299.8244,254.2344 300.1994,254.9375 Q300.59,255.6406 300.59,256.4844 Q300.59,257.3281 300.215,258.0156 Q299.8556,258.7031 299.0588,259.125 Q298.2775,259.5313 297.09,259.5313 L295.3556,259.5313 L295.3556,263.9688 L293.4025,263.9688 Z M295.3556,257.9375 L296.965,257.9375 Q297.7775,257.9375 298.1994,257.5313 Q298.6213,257.125 298.6213,256.4844 Q298.6213,255.8594 298.1994,255.4531 Q297.7775,255.0469 296.9806,255.0469 L295.3556,255.0469 L295.3556,257.9375 Z \"/><text fill=\"#000000\" font-family=\"sans-serif\" font-size=\"12\" font-style=\"italic\" lengthAdjust=\"spacingAndGlyphs\" textLength=\"40\" x=\"378.59\" y=\"256.1387\">«part»</text><text fill=\"#000000\" font-family=\"sans-serif\" font-size=\"12\" lengthAdjust=\"spacingAndGlyphs\" textLength=\"172\" x=\"310.59\" y=\"270.1074\">selectedAlternative: Engine</text><line style=\"stroke: #A80036; stroke-width: 1.5;\" x1=\"282.59\" x2=\"488.59\" y1=\"277.9375\" y2=\"277.9375\"/></a><!--MD5=[05d275557350bfb9b23a4ef7222b4c39]\n",
       "link E3 to E2--><a href=\"psysml:8b560a74-32d8-45cc-8c0e-f8d7e14b884a\" target=\"_top\" title=\"psysml:8b560a74-32d8-45cc-8c0e-f8d7e14b884a\" xlink:actuate=\"onRequest\" xlink:href=\"psysml:8b560a74-32d8-45cc-8c0e-f8d7e14b884a\" xlink:show=\"new\" xlink:title=\"psysml:8b560a74-32d8-45cc-8c0e-f8d7e14b884a\" xlink:type=\"simple\"><path d=\"M482.61,362.01 C434.71,379.58 368.05,404.04 321.08,421.27 \" fill=\"none\" id=\"E3-&gt;E2\" style=\"stroke: #A80036; stroke-width: 1.0;\"/><polygon fill=\"#FFFFFF\" points=\"302.27,428.17,317.7003,415.0588,322.5184,428.2036,302.27,428.17\" style=\"stroke: #A80036; stroke-width: 1.0;\"/><ellipse cx=\"323.7404\" cy=\"414.9749\" fill=\"#A80036\" rx=\"2\" ry=\"2\" style=\"stroke: #A80036; stroke-width: 1.0;\"/><ellipse cx=\"327.1819\" cy=\"424.3641\" fill=\"#A80036\" rx=\"2\" ry=\"2\" style=\"stroke: #A80036; stroke-width: 1.0;\"/></a><!--MD5=[185131fc0dcab0a4505a2ebe144e961b]\n",
       "link E4 to E2--><a href=\"psysml:7f518d85-a598-4692-a186-0ec59d25f08f\" target=\"_top\" title=\"psysml:7f518d85-a598-4692-a186-0ec59d25f08f\" xlink:actuate=\"onRequest\" xlink:href=\"psysml:7f518d85-a598-4692-a186-0ec59d25f08f\" xlink:show=\"new\" xlink:title=\"psysml:7f518d85-a598-4692-a186-0ec59d25f08f\" xlink:type=\"simple\"><path d=\"M346.81,362.13 C332.78,375.76 314.54,393.47 298.81,408.76 \" fill=\"none\" id=\"E4-&gt;E2\" style=\"stroke: #A80036; stroke-width: 1.0;\"/><polygon fill=\"#FFFFFF\" points=\"284.15,423,292.8944,404.737,302.6529,414.7755,284.15,423\" style=\"stroke: #A80036; stroke-width: 1.0;\"/><ellipse cx=\"298.3756\" cy=\"402.198\" fill=\"#A80036\" rx=\"2\" ry=\"2\" style=\"stroke: #A80036; stroke-width: 1.0;\"/><ellipse cx=\"305.3459\" cy=\"409.3683\" fill=\"#A80036\" rx=\"2\" ry=\"2\" style=\"stroke: #A80036; stroke-width: 1.0;\"/></a><!--MD5=[15ebcb19ae302d9b601edb458606d402]\n",
       "link E5 to E2--><a href=\"psysml:8e91b88f-f820-4b3f-bc7b-6a32144645a0\" target=\"_top\" title=\"psysml:8e91b88f-f820-4b3f-bc7b-6a32144645a0\" xlink:actuate=\"onRequest\" xlink:href=\"psysml:8e91b88f-f820-4b3f-bc7b-6a32144645a0\" xlink:show=\"new\" xlink:title=\"psysml:8e91b88f-f820-4b3f-bc7b-6a32144645a0\" xlink:type=\"simple\"><path d=\"M288.79,73.68 C222.27,84.73 141.96,109.38 91.59,164 C31.01,229.69 6,288.34 56.59,362 C93.57,415.85 172.26,433.47 221.54,439.22 \" fill=\"none\" id=\"E5-&gt;E2\" style=\"stroke: #A80036; stroke-width: 1.0; stroke-dasharray: 7.0,7.0;\"/><polygon fill=\"#A80036\" points=\"226.81,439.8,218.2974,434.8467,221.8395,439.2572,217.429,442.7994,226.81,439.8\" style=\"stroke: #A80036; stroke-width: 1.0;\"/><text fill=\"#000000\" font-family=\"sans-serif\" font-size=\"13\" lengthAdjust=\"spacingAndGlyphs\" textLength=\"62\" x=\"39.59\" y=\"267.5669\">«subject»</text></a><!--MD5=[9120cf2e5df3bff93db8f754bbbc09b4]\n",
       "link E5 to E6--><a href=\"psysml:a6ebdbd2-b0f8-4e64-baff-f91dc99eb3fc\" target=\"_top\" title=\"psysml:a6ebdbd2-b0f8-4e64-baff-f91dc99eb3fc\" xlink:actuate=\"onRequest\" xlink:href=\"psysml:a6ebdbd2-b0f8-4e64-baff-f91dc99eb3fc\" xlink:show=\"new\" xlink:title=\"psysml:a6ebdbd2-b0f8-4e64-baff-f91dc99eb3fc\" xlink:type=\"simple\"><path d=\"M375.34,87.19 C349.62,107.41 311.56,137.31 284.06,158.92 \" fill=\"none\" id=\"E5-&gt;E6\" style=\"stroke: #A80036; stroke-width: 1.0;\"/><polygon fill=\"#A80036\" points=\"277.66,163.95,285.8058,161.3721,282.1022,156.6516,277.66,163.95\" style=\"stroke: #A80036; stroke-width: 1.0;\"/><text fill=\"#000000\" font-family=\"sans-serif\" font-size=\"13\" lengthAdjust=\"spacingAndGlyphs\" textLength=\"73\" x=\"336.59\" y=\"130.0669\">«objective»</text></a><!--MD5=[452b418e7f8a40397a49b8c0a78acc5b]\n",
       "reverse link E5 to E7--><a href=\"psysml:1d968e51-2f45-472a-9c8d-b659e8169068\" target=\"_top\" title=\"psysml:1d968e51-2f45-472a-9c8d-b659e8169068\" xlink:actuate=\"onRequest\" xlink:href=\"psysml:1d968e51-2f45-472a-9c8d-b659e8169068\" xlink:show=\"new\" xlink:title=\"psysml:1d968e51-2f45-472a-9c8d-b659e8169068\" xlink:type=\"simple\"><path d=\"M428.64,97.59 C444.8,118.61 465.38,145.4 479.64,163.95 \" fill=\"none\" id=\"E5&lt;-E7\" style=\"stroke: #A80036; stroke-width: 1.0;\"/><polygon fill=\"#A80036\" points=\"420.65,87.19,421.1291,94.3852,427.9551,96.7103,427.476,89.5151,420.65,87.19\" style=\"stroke: #A80036; stroke-width: 1.0;\"/></a><!--MD5=[dc164f5e8a733ab456ef1add180e9e34]\n",
       "reverse link E7 to E8--><a href=\"psysml:762eee8a-df65-48ef-8994-f8166e9b75f6\" target=\"_top\" title=\"psysml:762eee8a-df65-48ef-8994-f8166e9b75f6\" xlink:actuate=\"onRequest\" xlink:href=\"psysml:762eee8a-df65-48ef-8994-f8166e9b75f6\" xlink:show=\"new\" xlink:title=\"psysml:762eee8a-df65-48ef-8994-f8166e9b75f6\" xlink:type=\"simple\"><path d=\"M412.48,208.88 C410.84,209.26 409.2,209.63 407.59,210 C344.28,224.46 322.76,211.13 264.59,240 C226.91,258.7 191.66,292.98 170.87,315.63 \" fill=\"none\" id=\"E7&lt;-E8\" style=\"stroke: #A80036; stroke-width: 1.0;\"/><polygon fill=\"#FFFFFF\" points=\"425.23,205.88,418.4746,203.3572,413.5476,208.6226,420.303,211.1454,425.23,205.88\" style=\"stroke: #A80036; stroke-width: 1.0;\"/><text fill=\"#000000\" font-family=\"sans-serif\" font-size=\"13\" lengthAdjust=\"spacingAndGlyphs\" textLength=\"8\" x=\"166.7855\" y=\"304.8115\">1</text></a><!--MD5=[f1f3f9f2fc535e6147756cb86a7f2e32]\n",
       "link E8 to E2--><a href=\"psysml:b4a53d37-cc69-46b7-9c1e-d748cdbb7a31\" target=\"_top\" title=\"psysml:b4a53d37-cc69-46b7-9c1e-d748cdbb7a31\" xlink:actuate=\"onRequest\" xlink:href=\"psysml:b4a53d37-cc69-46b7-9c1e-d748cdbb7a31\" xlink:show=\"new\" xlink:title=\"psysml:b4a53d37-cc69-46b7-9c1e-d748cdbb7a31\" xlink:type=\"simple\"><path d=\"M176.11,362.13 C191.44,375.97 211.45,394.03 228.56,409.48 \" fill=\"none\" id=\"E8-&gt;E2\" style=\"stroke: #A80036; stroke-width: 1.0;\"/><polygon fill=\"#FFFFFF\" points=\"243.54,423,224.7462,415.4638,234.1278,405.0721,243.54,423\" style=\"stroke: #A80036; stroke-width: 1.0;\"/><ellipse cx=\"221.8556\" cy=\"410.1596\" fill=\"#A80036\" rx=\"2\" ry=\"2\" style=\"stroke: #A80036; stroke-width: 1.0;\"/><ellipse cx=\"228.5566\" cy=\"402.737\" fill=\"#A80036\" rx=\"2\" ry=\"2\" style=\"stroke: #A80036; stroke-width: 1.0;\"/></a><!--MD5=[9ae28de373ca99bb8a1b38d63370ca7e]\n",
       "reverse link E5 to E9--><a href=\"psysml:b337f31d-c5a0-436f-953f-431d96e2f8f6\" target=\"_top\" title=\"psysml:b337f31d-c5a0-436f-953f-431d96e2f8f6\" xlink:actuate=\"onRequest\" xlink:href=\"psysml:b337f31d-c5a0-436f-953f-431d96e2f8f6\" xlink:show=\"new\" xlink:title=\"psysml:b337f31d-c5a0-436f-953f-431d96e2f8f6\" xlink:type=\"simple\"><path d=\"M484.39,91.88 C549.31,117.88 623.84,160.54 585.59,210 C573.03,226.25 531.69,238.36 489.84,246.79 \" fill=\"none\" id=\"E5&lt;-E9\" style=\"stroke: #A80036; stroke-width: 1.0;\"/><polygon fill=\"#FFFFFF\" points=\"471.99,87.07,476.1369,92.9694,483.1775,91.4104,479.0306,85.511,471.99,87.07\" style=\"stroke: #A80036; stroke-width: 1.0;\"/><text fill=\"#000000\" font-family=\"sans-serif\" font-size=\"13\" lengthAdjust=\"spacingAndGlyphs\" textLength=\"8\" x=\"497.4513\" y=\"242.1967\">1</text></a><!--MD5=[5c3bb36fe832a92c7f0e1807dd65209d]\n",
       "link E9 to E2--><a href=\"psysml:a6a00959-a343-466b-bcfe-643c8c056808\" target=\"_top\" title=\"psysml:a6a00959-a343-466b-bcfe-643c8c056808\" xlink:actuate=\"onRequest\" xlink:href=\"psysml:a6a00959-a343-466b-bcfe-643c8c056808\" xlink:show=\"new\" xlink:title=\"psysml:a6a00959-a343-466b-bcfe-643c8c056808\" xlink:type=\"simple\"><path d=\"M319.64,286.07 C305.83,293.56 292.71,303.34 283.59,316 C265.6,340.96 261.55,375.98 261.6,402.77 \" fill=\"none\" id=\"E9-&gt;E2\" style=\"stroke: #A80036; stroke-width: 1.0;\"/><polygon fill=\"#FFFFFF\" points=\"262.39,422.93,254.649,404.2197,268.6382,403.6697,262.39,422.93\" style=\"stroke: #A80036; stroke-width: 1.0;\"/><ellipse cx=\"256.4236\" cy=\"398.4455\" fill=\"#A80036\" rx=\"2\" ry=\"2\" style=\"stroke: #A80036; stroke-width: 1.0;\"/><ellipse cx=\"266.4158\" cy=\"398.0526\" fill=\"#A80036\" rx=\"2\" ry=\"2\" style=\"stroke: #A80036; stroke-width: 1.0;\"/></a><!--MD5=[cb4ebfa436ef990d1d45cdf39ac7acda]\n",
       "@startuml\r\n",
       " \r\n",
       "package \"TradeStudyTest\" as E1  [[psysml:57f8a98c-5718-48d8-9b9a-5c4650640602 ]]  {\r\n",
       "comp def \"Engine\" as E2 << << (B,green) >> [[psysml:6445380e-76a1-4d64-a2e6-1c63aec68392 ]] {\r\n",
       "}\r\n",
       "comp usage \"engine1: Engine \" as E3 << << (P,limegreen) part>> [[psysml:e07cfc3f-c273-4e94-9cbe-d128d50ec860 ]] {\r\n",
       "}\r\n",
       "comp usage \"engine2: Engine \" as E4 << << (P,limegreen) part>> [[psysml:d9e10f1c-39bd-473d-af93-7c118d42db3b ]] {\r\n",
       "}\r\n",
       "comp usage \"engineTradeStudy: TradeStudy \" as E5 << analysis>> [[psysml:f9c838ee-65e7-4043-9f07-1b30ef92e49c ]] {\r\n",
       "}\r\n",
       "comp usage \"tradeStudyObjective: MaximizeObjective \" as E6 << <<(U,orange) requirement>> [[psysml:38fbb285-8167-4e3f-bee3-2164ba524da7 ]] {\r\n",
       "}\r\n",
       "comp usage \"objectiveFunction\" as E7 << <<(U,orange) calculation>> [[psysml:658dce09-b71c-4e6e-94c9-a3c46617ebc8 ]] {\r\n",
       "}\r\n",
       "comp usage \"alternative: Engine \" as E8 << << (P,limegreen) part>> [[psysml:3dbf099d-922d-4ace-9ccd-679bba93319b ]] {\r\n",
       "}\r\n",
       "comp usage \"selectedAlternative: Engine \" as E9 << << (P,limegreen) part>> [[psysml:5fb9bd76-5535-468b-bb8f-88cd6f109fe8 ]] {\r\n",
       "}\r\n",
       "}\r\n",
       "E3 - -:|> E2 [[psysml:8b560a74-32d8-45cc-8c0e-f8d7e14b884a ]] \r\n",
       "E4 - -:|> E2 [[psysml:7f518d85-a598-4692-a186-0ec59d25f08f ]] \r\n",
       "E5 ..> E2 [[psysml:8e91b88f-f820-4b3f-bc7b-6a32144645a0 ]] : <<subject>>\r\n",
       "E5 - ->> E6 [[psysml:a6ebdbd2-b0f8-4e64-baff-f91dc99eb3fc ]] : <<objective>>\r\n",
       "E5 *- - E7 [[psysml:1d968e51-2f45-472a-9c8d-b659e8169068 ]] \r\n",
       "E7 o- - \"1\"E8 [[psysml:762eee8a-df65-48ef-8994-f8166e9b75f6 ]] \r\n",
       "E8 - -:|> E2 [[psysml:b4a53d37-cc69-46b7-9c1e-d748cdbb7a31 ]] \r\n",
       "E5 o- - \"1\"E9 [[psysml:b337f31d-c5a0-436f-953f-431d96e2f8f6 ]] \r\n",
       "E9 - -:|> E2 [[psysml:a6a00959-a343-466b-bcfe-643c8c056808 ]] \r\n",
       "@enduml\r\n",
       "\n",
       "PlantUML version 1.2020.13(Sat Jun 13 12:26:38 UTC 2020)\n",
       "(EPL source distribution)\n",
       "Java Runtime: OpenJDK Runtime Environment\n",
       "JVM: OpenJDK 64-Bit Server VM\n",
       "Default Encoding: UTF-8\n",
       "Language: en\n",
       "Country: null\n",
       "--></g></svg>"
      ]
     },
     "execution_count": 31,
     "metadata": {},
     "output_type": "execute_result"
    }
   ],
   "source": [
    "%viz --style=\"PLANTUML\" --view=\"Tree\" \"TradeStudyTest\""
   ]
  },
  {
   "cell_type": "code",
   "execution_count": 32,
   "id": "41066857",
   "metadata": {
    "execution": {
     "iopub.execute_input": "2021-11-13T13:01:40.600313Z",
     "iopub.status.busy": "2021-11-13T13:01:40.599874Z",
     "iopub.status.idle": "2021-11-13T13:01:40.737993Z",
     "shell.execute_reply": "2021-11-13T13:01:40.735339Z"
    }
   },
   "outputs": [
    {
     "data": {
      "image/svg+xml": [
       "<?xml version=\"1.0\" encoding=\"UTF-8\" standalone=\"no\"?><svg xmlns=\"http://www.w3.org/2000/svg\" xmlns:xlink=\"http://www.w3.org/1999/xlink\" contentScriptType=\"application/ecmascript\" contentStyleType=\"text/css\" height=\"407px\" preserveAspectRatio=\"none\" style=\"width:603px;height:407px;background:#000000;\" version=\"1.1\" viewBox=\"0 0 603 407\" width=\"603px\" zoomAndPan=\"magnify\"><defs/><g><rect fill=\"#000C18\" height=\"1\" style=\"stroke: #000C18; stroke-width: 1.0;\" width=\"1\" x=\"0\" y=\"0\"/><rect fill=\"#FFFFFF\" height=\"53\" style=\"stroke: #FFFFFF; stroke-width: 1.0;\" width=\"602\" x=\"0\" y=\"0\"/><image height=\"53\" width=\"450\" x=\"1\" xlink:href=\"data:image/png;base64,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\" y=\"1\"/><rect fill=\"#FFFFFF\" height=\"202.8012\" style=\"stroke: #FFFFFF; stroke-width: 1.0;\" width=\"602\" x=\"0\" y=\"53\"/><text fill=\"#000000\" font-family=\"sans-serif\" font-size=\"12\" font-weight=\"bold\" lengthAdjust=\"spacingAndGlyphs\" textLength=\"139\" x=\"5\" y=\"69.1387\">Welcome to PlantUML!</text><text fill=\"#000000\" font-family=\"sans-serif\" font-size=\"12\" lengthAdjust=\"spacingAndGlyphs\" textLength=\"0\" x=\"9\" y=\"83.1074\"/><text fill=\"#000000\" font-family=\"sans-serif\" font-size=\"12\" lengthAdjust=\"spacingAndGlyphs\" textLength=\"293\" x=\"5\" y=\"97.0762\">If you use this software, you accept its license.</text><text fill=\"#000000\" font-family=\"sans-serif\" font-size=\"12\" lengthAdjust=\"spacingAndGlyphs\" textLength=\"107\" x=\"5\" y=\"111.0449\">(details by typing</text><text fill=\"#000000\" font-family=\"monospace\" font-size=\"12\" lengthAdjust=\"spacingAndGlyphs\" textLength=\"42\" x=\"116\" y=\"111.595\">license</text><text fill=\"#000000\" font-family=\"sans-serif\" font-size=\"12\" lengthAdjust=\"spacingAndGlyphs\" textLength=\"56\" x=\"162\" y=\"111.0449\">keyword)</text><text fill=\"#000000\" font-family=\"sans-serif\" font-size=\"12\" lengthAdjust=\"spacingAndGlyphs\" textLength=\"0\" x=\"9\" y=\"125.0137\"/><text fill=\"#000000\" font-family=\"sans-serif\" font-size=\"12\" lengthAdjust=\"spacingAndGlyphs\" textLength=\"283\" x=\"5\" y=\"138.9824\">You can start with a simple UML Diagram like:</text><text fill=\"#000000\" font-family=\"sans-serif\" font-size=\"12\" lengthAdjust=\"spacingAndGlyphs\" textLength=\"0\" x=\"9\" y=\"152.9512\"/><text fill=\"#000000\" font-family=\"monospace\" font-size=\"12\" lengthAdjust=\"spacingAndGlyphs\" textLength=\"102\" x=\"5\" y=\"166.0893\">Bob-&gt;Alice: Hello</text><text fill=\"#000000\" font-family=\"sans-serif\" font-size=\"12\" lengthAdjust=\"spacingAndGlyphs\" textLength=\"0\" x=\"9\" y=\"179.508\"/><text fill=\"#000000\" font-family=\"sans-serif\" font-size=\"12\" lengthAdjust=\"spacingAndGlyphs\" textLength=\"14\" x=\"5\" y=\"193.4768\">Or</text><text fill=\"#000000\" font-family=\"sans-serif\" font-size=\"12\" lengthAdjust=\"spacingAndGlyphs\" textLength=\"0\" x=\"9\" y=\"207.4455\"/><text fill=\"#000000\" font-family=\"monospace\" font-size=\"12\" lengthAdjust=\"spacingAndGlyphs\" textLength=\"78\" x=\"5\" y=\"220.5837\">class Example</text><text fill=\"#000000\" font-family=\"sans-serif\" font-size=\"12\" lengthAdjust=\"spacingAndGlyphs\" textLength=\"0\" x=\"9\" y=\"234.0023\"/><text fill=\"#000000\" font-family=\"sans-serif\" font-size=\"12\" lengthAdjust=\"spacingAndGlyphs\" textLength=\"349\" x=\"5\" y=\"247.9711\">You will find more information about PlantUML syntax on</text><text fill=\"#000000\" font-family=\"sans-serif\" font-size=\"12\" lengthAdjust=\"spacingAndGlyphs\" text-decoration=\"underline\" textLength=\"129\" x=\"358\" y=\"247.9711\">https://plantuml.com</text><image height=\"71\" width=\"80\" x=\"516\" xlink:href=\"data:image/png;base64,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\" y=\"59\"/><rect fill=\"#000000\" height=\"96.4844\" style=\"stroke: #000000; stroke-width: 1.0;\" width=\"602\" x=\"0\" y=\"255.8012\"/><rect fill=\"#33FF02\" height=\"21.2969\" style=\"stroke: #33FF02; stroke-width: 1.0;\" width=\"145\" x=\"5\" y=\"260.8012\"/><text fill=\"#000000\" font-family=\"sans-serif\" font-size=\"14\" font-weight=\"bold\" lengthAdjust=\"spacingAndGlyphs\" textLength=\"143\" x=\"6\" y=\"275.8012\">[From string (line 2) ]</text><text fill=\"#33FF02\" font-family=\"sans-serif\" font-size=\"14\" font-weight=\"bold\" lengthAdjust=\"spacingAndGlyphs\" textLength=\"0\" x=\"9\" y=\"296.0981\"/><text fill=\"#33FF02\" font-family=\"sans-serif\" font-size=\"14\" font-weight=\"bold\" lengthAdjust=\"spacingAndGlyphs\" textLength=\"70\" x=\"5\" y=\"312.3949\">@startuml</text><text fill=\"#33FF02\" font-family=\"sans-serif\" font-size=\"14\" font-weight=\"bold\" lengthAdjust=\"spacingAndGlyphs\" textLength=\"0\" x=\"9\" y=\"328.6918\"/><text fill=\"#FF0000\" font-family=\"sans-serif\" font-size=\"14\" font-weight=\"bold\" lengthAdjust=\"spacingAndGlyphs\" textLength=\"124\" x=\"9\" y=\"344.9887\">Empty description</text><rect fill=\"#FFFFFF\" height=\"53\" style=\"stroke: #FFFFFF; stroke-width: 1.0;\" width=\"602\" x=\"0\" y=\"352.2856\"/><image height=\"53\" width=\"450\" x=\"1\" xlink:href=\"data:image/png;base64,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\" y=\"353.2856\"/><!--MD5=[f59edd8218d337f74d0c332fc6737304]\n",
       "@startuml\r\n",
       " \r\n",
       "@enduml\r\n",
       "\n",
       "PlantUML version 1.2020.13(Sat Jun 13 12:26:38 UTC 2020)\n",
       "(EPL source distribution)\n",
       "Java Runtime: OpenJDK Runtime Environment\n",
       "JVM: OpenJDK 64-Bit Server VM\n",
       "Default Encoding: UTF-8\n",
       "Language: en\n",
       "Country: null\n",
       "--></g></svg>"
      ]
     },
     "execution_count": 32,
     "metadata": {},
     "output_type": "execute_result"
    }
   ],
   "source": [
    "%viz --style=\"PLANTUML\" --view=\"State\" \"TradeStudyTest\""
   ]
  },
  {
   "cell_type": "code",
   "execution_count": 33,
   "id": "53e69e0b",
   "metadata": {
    "execution": {
     "iopub.execute_input": "2021-11-13T13:01:40.786005Z",
     "iopub.status.busy": "2021-11-13T13:01:40.785679Z",
     "iopub.status.idle": "2021-11-13T13:01:40.819333Z",
     "shell.execute_reply": "2021-11-13T13:01:40.817915Z"
    }
   },
   "outputs": [
    {
     "data": {
      "image/svg+xml": [
       "<?xml version=\"1.0\" encoding=\"UTF-8\" standalone=\"no\"?><svg xmlns=\"http://www.w3.org/2000/svg\" xmlns:xlink=\"http://www.w3.org/1999/xlink\" contentScriptType=\"application/ecmascript\" contentStyleType=\"text/css\" height=\"347px\" preserveAspectRatio=\"none\" style=\"width:648px;height:347px;\" version=\"1.1\" viewBox=\"0 0 648 347\" width=\"648px\" zoomAndPan=\"magnify\"><defs><filter height=\"300%\" id=\"fqfexfwyyp11h\" width=\"300%\" x=\"-1\" y=\"-1\"><feGaussianBlur result=\"blurOut\" stdDeviation=\"2.0\"/><feColorMatrix in=\"blurOut\" result=\"blurOut2\" type=\"matrix\" values=\"0 0 0 0 0 0 0 0 0 0 0 0 0 0 0 0 0 0 .4 0\"/><feOffset dx=\"4.0\" dy=\"4.0\" in=\"blurOut2\" result=\"blurOut3\"/><feBlend in=\"SourceGraphic\" in2=\"blurOut3\" mode=\"normal\"/></filter></defs><g><!--MD5=[fbc87193dbaf4d95561dea2c320d4a47]\n",
       "cluster E1--><a href=\"psysml:57f8a98c-5718-48d8-9b9a-5c4650640602\" target=\"_top\" title=\"psysml:57f8a98c-5718-48d8-9b9a-5c4650640602\" xlink:actuate=\"onRequest\" xlink:href=\"psysml:57f8a98c-5718-48d8-9b9a-5c4650640602\" xlink:show=\"new\" xlink:title=\"psysml:57f8a98c-5718-48d8-9b9a-5c4650640602\" xlink:type=\"simple\"><polygon fill=\"#FFFFFF\" filter=\"url(#fqfexfwyyp11h)\" points=\"16,6,132,6,139,28.2969,626,28.2969,626,335,16,335,16,6\" style=\"stroke: #000000; stroke-width: 1.5;\"/><line style=\"stroke: #000000; stroke-width: 1.5;\" x1=\"16\" x2=\"139\" y1=\"28.2969\" y2=\"28.2969\"/><text fill=\"#000000\" font-family=\"sans-serif\" font-size=\"14\" font-weight=\"bold\" lengthAdjust=\"spacingAndGlyphs\" textLength=\"110\" x=\"20\" y=\"20.9951\">TradeStudyTest</text></a><!--MD5=[270fce915f116d4de14055a7c1d9a0f3]\n",
       "class E5--><a href=\"psysml:f9c838ee-65e7-4043-9f07-1b30ef92e49c\" target=\"_top\" title=\"psysml:f9c838ee-65e7-4043-9f07-1b30ef92e49c\" xlink:actuate=\"onRequest\" xlink:href=\"psysml:f9c838ee-65e7-4043-9f07-1b30ef92e49c\" xlink:show=\"new\" xlink:title=\"psysml:f9c838ee-65e7-4043-9f07-1b30ef92e49c\" xlink:type=\"simple\"><rect fill=\"#FEFECE\" filter=\"url(#fqfexfwyyp11h)\" height=\"45.9375\" id=\"E5\" rx=\"10\" ry=\"10\" style=\"stroke: #A80036; stroke-width: 1.5;\" width=\"229\" x=\"380.5\" y=\"41\"/><ellipse cx=\"395.5\" cy=\"59.9688\" fill=\"#B6DBBB\" rx=\"11\" ry=\"11\" style=\"stroke: #A80036; stroke-width: 1.0;\"/><path d=\"M395.25,65.4375 Q393.5,65.4375 392.5469,64.4063 Q391.6094,63.3594 391.6094,61.5156 L391.6094,54.625 L393.6719,54.625 L393.6719,54.7813 Q393.5781,54.875 393.5469,55.0156 Q393.5313,55.1406 393.5313,55.4063 L393.5313,61.5313 Q393.5313,62.625 393.9063,63.25 Q394.2813,63.875 395.2656,63.875 Q396.25,63.875 396.6406,63.25 Q397.0313,62.625 397.0313,61.4844 L397.0313,54.625 L398.9063,54.625 L398.9063,61.4688 Q398.9063,63.5 397.875,64.4688 Q396.8594,65.4375 395.25,65.4375 Z \"/><text fill=\"#000000\" font-family=\"sans-serif\" font-size=\"12\" font-style=\"italic\" lengthAdjust=\"spacingAndGlyphs\" textLength=\"64\" x=\"476\" y=\"57.1387\">«analysis»</text><text fill=\"#000000\" font-family=\"sans-serif\" font-size=\"12\" lengthAdjust=\"spacingAndGlyphs\" textLength=\"193\" x=\"409.5\" y=\"71.1074\">engineTradeStudy: TradeStudy</text><line style=\"stroke: #A80036; stroke-width: 1.5;\" x1=\"381.5\" x2=\"608.5\" y1=\"78.9375\" y2=\"78.9375\"/></a><!--MD5=[60a26617385b1d2d0262a64233df1f8d]\n",
       "class E6--><a href=\"psysml:38fbb285-8167-4e3f-bee3-2164ba524da7\" target=\"_top\" title=\"psysml:38fbb285-8167-4e3f-bee3-2164ba524da7\" xlink:actuate=\"onRequest\" xlink:href=\"psysml:38fbb285-8167-4e3f-bee3-2164ba524da7\" xlink:show=\"new\" xlink:title=\"psysml:38fbb285-8167-4e3f-bee3-2164ba524da7\" xlink:type=\"simple\"><rect fill=\"#FEFECE\" filter=\"url(#fqfexfwyyp11h)\" height=\"45.9375\" id=\"E6\" rx=\"10\" ry=\"10\" style=\"stroke: #A80036; stroke-width: 1.5;\" width=\"281\" x=\"32.5\" y=\"120\"/><ellipse cx=\"47.5\" cy=\"138.9688\" fill=\"#FFA500\" rx=\"11\" ry=\"11\" style=\"stroke: #A80036; stroke-width: 1.0;\"/><path d=\"M47.25,144.4375 Q45.5,144.4375 44.5469,143.4063 Q43.6094,142.3594 43.6094,140.5156 L43.6094,133.625 L45.6719,133.625 L45.6719,133.7813 Q45.5781,133.875 45.5469,134.0156 Q45.5313,134.1406 45.5313,134.4063 L45.5313,140.5313 Q45.5313,141.625 45.9063,142.25 Q46.2813,142.875 47.2656,142.875 Q48.25,142.875 48.6406,142.25 Q49.0313,141.625 49.0313,140.4844 L49.0313,133.625 L50.9063,133.625 L50.9063,140.4688 Q50.9063,142.5 49.875,143.4688 Q48.8594,144.4375 47.25,144.4375 Z \"/><text fill=\"#000000\" font-family=\"sans-serif\" font-size=\"12\" font-style=\"italic\" lengthAdjust=\"spacingAndGlyphs\" textLength=\"91\" x=\"140.5\" y=\"136.1387\">«requirement»</text><text fill=\"#000000\" font-family=\"sans-serif\" font-size=\"12\" lengthAdjust=\"spacingAndGlyphs\" textLength=\"245\" x=\"61.5\" y=\"150.1074\">tradeStudyObjective: MaximizeObjective</text><line style=\"stroke: #A80036; stroke-width: 1.5;\" x1=\"33.5\" x2=\"312.5\" y1=\"157.9375\" y2=\"157.9375\"/></a><!--MD5=[2156ba9850f5573cc1fc38a6a4b2f02b]\n",
       "class E7--><a href=\"psysml:658dce09-b71c-4e6e-94c9-a3c46617ebc8\" target=\"_top\" title=\"psysml:658dce09-b71c-4e6e-94c9-a3c46617ebc8\" xlink:actuate=\"onRequest\" xlink:href=\"psysml:658dce09-b71c-4e6e-94c9-a3c46617ebc8\" xlink:show=\"new\" xlink:title=\"psysml:658dce09-b71c-4e6e-94c9-a3c46617ebc8\" xlink:type=\"simple\"><rect fill=\"#FEFECE\" filter=\"url(#fqfexfwyyp11h)\" height=\"45.9375\" id=\"E7\" rx=\"10\" ry=\"10\" style=\"stroke: #A80036; stroke-width: 1.5;\" width=\"142\" x=\"349\" y=\"120\"/><ellipse cx=\"364\" cy=\"138.9688\" fill=\"#FFA500\" rx=\"11\" ry=\"11\" style=\"stroke: #A80036; stroke-width: 1.0;\"/><path d=\"M363.75,144.4375 Q362,144.4375 361.0469,143.4063 Q360.1094,142.3594 360.1094,140.5156 L360.1094,133.625 L362.1719,133.625 L362.1719,133.7813 Q362.0781,133.875 362.0469,134.0156 Q362.0313,134.1406 362.0313,134.4063 L362.0313,140.5313 Q362.0313,141.625 362.4063,142.25 Q362.7813,142.875 363.7656,142.875 Q364.75,142.875 365.1406,142.25 Q365.5313,141.625 365.5313,140.4844 L365.5313,133.625 L367.4063,133.625 L367.4063,140.4688 Q367.4063,142.5 366.375,143.4688 Q365.3594,144.4375 363.75,144.4375 Z \"/><text fill=\"#000000\" font-family=\"sans-serif\" font-size=\"12\" font-style=\"italic\" lengthAdjust=\"spacingAndGlyphs\" textLength=\"82\" x=\"392\" y=\"136.1387\">«calculation»</text><text fill=\"#000000\" font-family=\"sans-serif\" font-size=\"12\" lengthAdjust=\"spacingAndGlyphs\" textLength=\"110\" x=\"378\" y=\"150.1074\">objectiveFunction</text><line style=\"stroke: #A80036; stroke-width: 1.5;\" x1=\"350\" x2=\"490\" y1=\"157.9375\" y2=\"157.9375\"/></a><!--MD5=[b9389687b975829384b498ac4b7476b2]\n",
       "class E8--><a href=\"psysml:3dbf099d-922d-4ace-9ccd-679bba93319b\" target=\"_top\" title=\"psysml:3dbf099d-922d-4ace-9ccd-679bba93319b\" xlink:actuate=\"onRequest\" xlink:href=\"psysml:3dbf099d-922d-4ace-9ccd-679bba93319b\" xlink:show=\"new\" xlink:title=\"psysml:3dbf099d-922d-4ace-9ccd-679bba93319b\" xlink:type=\"simple\"><rect fill=\"#FEFECE\" filter=\"url(#fqfexfwyyp11h)\" height=\"40\" id=\"E8\" rx=\"10\" ry=\"10\" style=\"stroke: #A80036; stroke-width: 1.5;\" width=\"154\" x=\"215\" y=\"222\"/><ellipse cx=\"230\" cy=\"238\" fill=\"#B6DBBB\" rx=\"11\" ry=\"11\" style=\"stroke: #A80036; stroke-width: 1.0;\"/><path d=\"M229.75,243.4688 Q228,243.4688 227.0469,242.4375 Q226.1094,241.3906 226.1094,239.5469 L226.1094,232.6563 L228.1719,232.6563 L228.1719,232.8125 Q228.0781,232.9063 228.0469,233.0469 Q228.0313,233.1719 228.0313,233.4375 L228.0313,239.5625 Q228.0313,240.6563 228.4063,241.2813 Q228.7813,241.9063 229.7656,241.9063 Q230.75,241.9063 231.1406,241.2813 Q231.5313,240.6563 231.5313,239.5156 L231.5313,232.6563 L233.4063,232.6563 L233.4063,239.5 Q233.4063,241.5313 232.375,242.5 Q231.3594,243.4688 229.75,243.4688 Z \"/><text fill=\"#000000\" font-family=\"sans-serif\" font-size=\"12\" lengthAdjust=\"spacingAndGlyphs\" textLength=\"118\" x=\"244\" y=\"242.1543\">alternative: Engine</text><line style=\"stroke: #A80036; stroke-width: 1.5;\" x1=\"216\" x2=\"368\" y1=\"254\" y2=\"254\"/></a><!--MD5=[fd4143e9d270a159db93a4ea2a975926]\n",
       "class E9--><a href=\"psysml:5fb9bd76-5535-468b-bb8f-88cd6f109fe8\" target=\"_top\" title=\"psysml:5fb9bd76-5535-468b-bb8f-88cd6f109fe8\" xlink:actuate=\"onRequest\" xlink:href=\"psysml:5fb9bd76-5535-468b-bb8f-88cd6f109fe8\" xlink:show=\"new\" xlink:title=\"psysml:5fb9bd76-5535-468b-bb8f-88cd6f109fe8\" xlink:type=\"simple\"><rect fill=\"#FEFECE\" filter=\"url(#fqfexfwyyp11h)\" height=\"40\" id=\"E9\" rx=\"10\" ry=\"10\" style=\"stroke: #A80036; stroke-width: 1.5;\" width=\"208\" x=\"298\" y=\"174\"/><ellipse cx=\"313\" cy=\"190\" fill=\"#B6DBBB\" rx=\"11\" ry=\"11\" style=\"stroke: #A80036; stroke-width: 1.0;\"/><path d=\"M312.75,195.4688 Q311,195.4688 310.0469,194.4375 Q309.1094,193.3906 309.1094,191.5469 L309.1094,184.6563 L311.1719,184.6563 L311.1719,184.8125 Q311.0781,184.9063 311.0469,185.0469 Q311.0313,185.1719 311.0313,185.4375 L311.0313,191.5625 Q311.0313,192.6563 311.4063,193.2813 Q311.7813,193.9063 312.7656,193.9063 Q313.75,193.9063 314.1406,193.2813 Q314.5313,192.6563 314.5313,191.5156 L314.5313,184.6563 L316.4063,184.6563 L316.4063,191.5 Q316.4063,193.5313 315.375,194.5 Q314.3594,195.4688 312.75,195.4688 Z \"/><text fill=\"#000000\" font-family=\"sans-serif\" font-size=\"12\" lengthAdjust=\"spacingAndGlyphs\" textLength=\"172\" x=\"327\" y=\"194.1543\">selectedAlternative: Engine</text><line style=\"stroke: #A80036; stroke-width: 1.5;\" x1=\"299\" x2=\"505\" y1=\"206\" y2=\"206\"/></a><g id=\"E1.E2\"><a href=\"psysml:6445380e-76a1-4d64-a2e6-1c63aec68392\" target=\"_top\" title=\"psysml:6445380e-76a1-4d64-a2e6-1c63aec68392\" xlink:actuate=\"onRequest\" xlink:href=\"psysml:6445380e-76a1-4d64-a2e6-1c63aec68392\" xlink:show=\"new\" xlink:title=\"psysml:6445380e-76a1-4d64-a2e6-1c63aec68392\" xlink:type=\"simple\"><rect fill=\"#FEFECE\" filter=\"url(#fqfexfwyyp11h)\" height=\"40\" id=\"E2\" style=\"stroke: #A80036; stroke-width: 1.5;\" width=\"80\" x=\"365\" y=\"279\"/><ellipse cx=\"382.25\" cy=\"295\" fill=\"#008000\" rx=\"11\" ry=\"11\" style=\"stroke: #A80036; stroke-width: 1.0;\"/><path d=\"M379.125,300 L379.125,289.4063 L382.3594,289.4063 Q384.2656,289.4063 385.1719,290.1563 Q386.0938,290.9063 386.0938,292.0781 Q386.0938,292.7656 385.7031,293.4219 Q385.3281,294.0781 384.6094,294.375 Q385.4688,294.75 385.9844,295.4375 Q386.5,296.125 386.5,296.9375 Q386.5,298.3125 385.4688,299.1563 Q384.4531,300 382.3438,300 L379.125,300 Z M381.0469,293.6406 L382.2031,293.6406 Q383.3281,293.6406 383.7344,293.2656 Q384.1563,292.875 384.1563,292.25 Q384.1563,291.6719 383.7344,291.3125 Q383.3125,290.9531 382.375,290.9531 L381.0469,290.9531 L381.0469,293.6406 Z M381.0469,298.4219 L382.5469,298.4219 Q383.4531,298.4219 383.9844,298.0313 Q384.5156,297.6406 384.5156,296.8906 Q384.5156,296.125 384.0156,295.6563 Q383.5156,295.1719 382.25,295.1719 L381.0469,295.1719 L381.0469,298.4219 Z \"/><text fill=\"#000000\" font-family=\"sans-serif\" font-size=\"12\" lengthAdjust=\"spacingAndGlyphs\" textLength=\"43\" x=\"396.75\" y=\"299.1543\">Engine</text></a></g><g id=\"E1.E3\"><a href=\"psysml:e07cfc3f-c273-4e94-9cbe-d128d50ec860\" target=\"_top\" title=\"psysml:e07cfc3f-c273-4e94-9cbe-d128d50ec860\" xlink:actuate=\"onRequest\" xlink:href=\"psysml:e07cfc3f-c273-4e94-9cbe-d128d50ec860\" xlink:show=\"new\" xlink:title=\"psysml:e07cfc3f-c273-4e94-9cbe-d128d50ec860\" xlink:type=\"simple\"><rect fill=\"#FEFECE\" filter=\"url(#fqfexfwyyp11h)\" height=\"40\" id=\"E3\" rx=\"10\" ry=\"10\" style=\"stroke: #A80036; stroke-width: 1.5;\" width=\"139\" x=\"206.5\" y=\"44\"/><ellipse cx=\"223.75\" cy=\"60\" fill=\"#B6DBBB\" rx=\"11\" ry=\"11\" style=\"stroke: #A80036; stroke-width: 1.0;\"/><path d=\"M223.5,65.4688 Q221.75,65.4688 220.7969,64.4375 Q219.8594,63.3906 219.8594,61.5469 L219.8594,54.6563 L221.9219,54.6563 L221.9219,54.8125 Q221.8281,54.9063 221.7969,55.0469 Q221.7813,55.1719 221.7813,55.4375 L221.7813,61.5625 Q221.7813,62.6563 222.1563,63.2813 Q222.5313,63.9063 223.5156,63.9063 Q224.5,63.9063 224.8906,63.2813 Q225.2813,62.6563 225.2813,61.5156 L225.2813,54.6563 L227.1563,54.6563 L227.1563,61.5 Q227.1563,63.5313 226.125,64.5 Q225.1094,65.4688 223.5,65.4688 Z \"/><text fill=\"#000000\" font-family=\"sans-serif\" font-size=\"12\" lengthAdjust=\"spacingAndGlyphs\" textLength=\"102\" x=\"238.25\" y=\"64.1543\">engine1: Engine</text></a></g><g id=\"E1.E4\"><a href=\"psysml:d9e10f1c-39bd-473d-af93-7c118d42db3b\" target=\"_top\" title=\"psysml:d9e10f1c-39bd-473d-af93-7c118d42db3b\" xlink:actuate=\"onRequest\" xlink:href=\"psysml:d9e10f1c-39bd-473d-af93-7c118d42db3b\" xlink:show=\"new\" xlink:title=\"psysml:d9e10f1c-39bd-473d-af93-7c118d42db3b\" xlink:type=\"simple\"><rect fill=\"#FEFECE\" filter=\"url(#fqfexfwyyp11h)\" height=\"40\" id=\"E4\" rx=\"10\" ry=\"10\" style=\"stroke: #A80036; stroke-width: 1.5;\" width=\"139\" x=\"32.5\" y=\"44\"/><ellipse cx=\"49.75\" cy=\"60\" fill=\"#B6DBBB\" rx=\"11\" ry=\"11\" style=\"stroke: #A80036; stroke-width: 1.0;\"/><path d=\"M49.5,65.4688 Q47.75,65.4688 46.7969,64.4375 Q45.8594,63.3906 45.8594,61.5469 L45.8594,54.6563 L47.9219,54.6563 L47.9219,54.8125 Q47.8281,54.9063 47.7969,55.0469 Q47.7813,55.1719 47.7813,55.4375 L47.7813,61.5625 Q47.7813,62.6563 48.1563,63.2813 Q48.5313,63.9063 49.5156,63.9063 Q50.5,63.9063 50.8906,63.2813 Q51.2813,62.6563 51.2813,61.5156 L51.2813,54.6563 L53.1563,54.6563 L53.1563,61.5 Q53.1563,63.5313 52.125,64.5 Q51.1094,65.4688 49.5,65.4688 Z \"/><text fill=\"#000000\" font-family=\"sans-serif\" font-size=\"12\" lengthAdjust=\"spacingAndGlyphs\" textLength=\"102\" x=\"64.25\" y=\"64.1543\">engine2: Engine</text></a></g><!--MD5=[15ebcb19ae302d9b601edb458606d402]\n",
       "link E5 to E2--><a href=\"psysml:8e91b88f-f820-4b3f-bc7b-6a32144645a0\" target=\"_top\" title=\"psysml:8e91b88f-f820-4b3f-bc7b-6a32144645a0\" xlink:actuate=\"onRequest\" xlink:href=\"psysml:8e91b88f-f820-4b3f-bc7b-6a32144645a0\" xlink:show=\"new\" xlink:title=\"psysml:8e91b88f-f820-4b3f-bc7b-6a32144645a0\" xlink:type=\"simple\"><path d=\"M516.9,87.2 C518.52,89.69 519.93,92.31 521,95 C540.61,144.51 536.73,169.82 507,214 C489.95,239.34 463.05,261.04 441.15,276.03 \" fill=\"none\" id=\"E5-&gt;E2\" style=\"stroke: #A80036; stroke-width: 1.0; stroke-dasharray: 7.0,7.0;\"/><polygon fill=\"#A80036\" points=\"436.85,278.94,446.5465,277.2144,440.9926,276.1402,442.0668,270.5863,436.85,278.94\" style=\"stroke: #A80036; stroke-width: 1.0;\"/><text fill=\"#000000\" font-family=\"sans-serif\" font-size=\"13\" lengthAdjust=\"spacingAndGlyphs\" textLength=\"62\" x=\"529\" y=\"198.5669\">«subject»</text></a><!--MD5=[9120cf2e5df3bff93db8f754bbbc09b4]\n",
       "link E5 to E6--><a href=\"psysml:a6ebdbd2-b0f8-4e64-baff-f91dc99eb3fc\" target=\"_top\" title=\"psysml:a6ebdbd2-b0f8-4e64-baff-f91dc99eb3fc\" xlink:actuate=\"onRequest\" xlink:href=\"psysml:a6ebdbd2-b0f8-4e64-baff-f91dc99eb3fc\" xlink:show=\"new\" xlink:title=\"psysml:a6ebdbd2-b0f8-4e64-baff-f91dc99eb3fc\" xlink:type=\"simple\"><path d=\"M400.61,87.04 C389.28,89.71 377.88,92.41 367,95 C335.9,102.41 302.02,110.59 271.4,118.01 \" fill=\"none\" id=\"E5-&gt;E6\" style=\"stroke: #A80036; stroke-width: 1.0;\"/><polygon fill=\"#A80036\" points=\"263.28,119.98,271.7614,121.0125,270.349,115.1811,263.28,119.98\" style=\"stroke: #A80036; stroke-width: 1.0;\"/><text fill=\"#000000\" font-family=\"sans-serif\" font-size=\"13\" lengthAdjust=\"spacingAndGlyphs\" textLength=\"73\" x=\"368\" y=\"108.0669\">«objective»</text></a><!--MD5=[452b418e7f8a40397a49b8c0a78acc5b]\n",
       "reverse link E5 to E7--><a href=\"psysml:1d968e51-2f45-472a-9c8d-b659e8169068\" target=\"_top\" title=\"psysml:1d968e51-2f45-472a-9c8d-b659e8169068\" xlink:actuate=\"onRequest\" xlink:href=\"psysml:1d968e51-2f45-472a-9c8d-b659e8169068\" xlink:show=\"new\" xlink:title=\"psysml:1d968e51-2f45-472a-9c8d-b659e8169068\" xlink:type=\"simple\"><path d=\"M464.06,96.77 C456.53,104.5 448.64,112.6 441.64,119.78 \" fill=\"none\" id=\"E5&lt;-E7\" style=\"stroke: #A80036; stroke-width: 1.0;\"/><polygon fill=\"#A80036\" points=\"473.31,87.27,466.2582,88.7775,464.9375,95.8666,471.9893,94.3591,473.31,87.27\" style=\"stroke: #A80036; stroke-width: 1.0;\"/></a><!--MD5=[dc164f5e8a733ab456ef1add180e9e34]\n",
       "reverse link E7 to E8--><a href=\"psysml:762eee8a-df65-48ef-8994-f8166e9b75f6\" target=\"_top\" title=\"psysml:762eee8a-df65-48ef-8994-f8166e9b75f6\" xlink:actuate=\"onRequest\" xlink:href=\"psysml:762eee8a-df65-48ef-8994-f8166e9b75f6\" xlink:show=\"new\" xlink:title=\"psysml:762eee8a-df65-48ef-8994-f8166e9b75f6\" xlink:type=\"simple\"><path d=\"M335.87,164.82 C334.24,165.22 332.61,165.61 331,166 C315.91,169.64 307.08,162.2 297,174 C285.86,187.04 285.87,207.19 287.89,221.99 \" fill=\"none\" id=\"E7&lt;-E8\" style=\"stroke: #A80036; stroke-width: 1.0;\"/><polygon fill=\"#FFFFFF\" points=\"348.61,161.72,341.8347,159.2512,336.9499,164.5559,343.7252,167.0246,348.61,161.72\" style=\"stroke: #A80036; stroke-width: 1.0;\"/><text fill=\"#000000\" font-family=\"sans-serif\" font-size=\"13\" lengthAdjust=\"spacingAndGlyphs\" textLength=\"8\" x=\"277.5077\" y=\"210.9953\">1</text></a><!--MD5=[f1f3f9f2fc535e6147756cb86a7f2e32]\n",
       "link E8 to E2--><a href=\"psysml:b4a53d37-cc69-46b7-9c1e-d748cdbb7a31\" target=\"_top\" title=\"psysml:b4a53d37-cc69-46b7-9c1e-d748cdbb7a31\" xlink:actuate=\"onRequest\" xlink:href=\"psysml:b4a53d37-cc69-46b7-9c1e-d748cdbb7a31\" xlink:show=\"new\" xlink:title=\"psysml:b4a53d37-cc69-46b7-9c1e-d748cdbb7a31\" xlink:type=\"simple\"><path d=\"M331.2,262.08 C336.55,264.68 342.13,267.4 347.71,270.12 \" fill=\"none\" id=\"E8-&gt;E2\" style=\"stroke: #A80036; stroke-width: 1.0;\"/><polygon fill=\"#FFFFFF\" points=\"365.86,278.95,345.7116,276.9391,351.8322,264.3479,365.86,278.95\" style=\"stroke: #A80036; stroke-width: 1.0;\"/><ellipse cx=\"341.4596\" cy=\"272.6484\" fill=\"#A80036\" rx=\"2\" ry=\"2\" style=\"stroke: #A80036; stroke-width: 1.0;\"/><ellipse cx=\"345.8314\" cy=\"263.6547\" fill=\"#A80036\" rx=\"2\" ry=\"2\" style=\"stroke: #A80036; stroke-width: 1.0;\"/></a><!--MD5=[9ae28de373ca99bb8a1b38d63370ca7e]\n",
       "reverse link E5 to E9--><a href=\"psysml:b337f31d-c5a0-436f-953f-431d96e2f8f6\" target=\"_top\" title=\"psysml:b337f31d-c5a0-436f-953f-431d96e2f8f6\" xlink:actuate=\"onRequest\" xlink:href=\"psysml:b337f31d-c5a0-436f-953f-431d96e2f8f6\" xlink:show=\"new\" xlink:title=\"psysml:b337f31d-c5a0-436f-953f-431d96e2f8f6\" xlink:type=\"simple\"><path d=\"M511.45,99.22 C519.06,120.51 523.57,147.29 509,166 C506.76,168.87 502.83,171.49 497.76,173.86 \" fill=\"none\" id=\"E5&lt;-E9\" style=\"stroke: #A80036; stroke-width: 1.0;\"/><polygon fill=\"#FFFFFF\" points=\"506.59,87.11,505.1145,94.1685,511.0626,98.2453,512.5381,91.1868,506.59,87.11\" style=\"stroke: #A80036; stroke-width: 1.0;\"/><text fill=\"#000000\" font-family=\"sans-serif\" font-size=\"13\" lengthAdjust=\"spacingAndGlyphs\" textLength=\"8\" x=\"513.7309\" y=\"167.2553\">1</text></a><!--MD5=[5c3bb36fe832a92c7f0e1807dd65209d]\n",
       "link E9 to E2--><a href=\"psysml:a6a00959-a343-466b-bcfe-643c8c056808\" target=\"_top\" title=\"psysml:a6a00959-a343-466b-bcfe-643c8c056808\" xlink:actuate=\"onRequest\" xlink:href=\"psysml:a6a00959-a343-466b-bcfe-643c8c056808\" xlink:show=\"new\" xlink:title=\"psysml:a6a00959-a343-466b-bcfe-643c8c056808\" xlink:type=\"simple\"><path d=\"M402.56,214.37 C402.93,226.82 403.41,243.43 403.85,258.57 \" fill=\"none\" id=\"E9-&gt;E2\" style=\"stroke: #A80036; stroke-width: 1.0;\"/><polygon fill=\"#FFFFFF\" points=\"404.44,278.71,396.8864,259.9232,410.8804,259.5131,404.44,278.71\" style=\"stroke: #A80036; stroke-width: 1.0;\"/><ellipse cx=\"398.7186\" cy=\"254.1671\" fill=\"#A80036\" rx=\"2\" ry=\"2\" style=\"stroke: #A80036; stroke-width: 1.0;\"/><ellipse cx=\"408.7143\" cy=\"253.8741\" fill=\"#A80036\" rx=\"2\" ry=\"2\" style=\"stroke: #A80036; stroke-width: 1.0;\"/></a><!--MD5=[24aaa760f958b7617f766b8e2b58e8b4]\n",
       "@startuml\r\n",
       "skinparam ranksep 10\r\n",
       "skinparam rectangle {\r\n",
       " backgroundColor<<block>> LightGreen\r\n",
       "}\r\n",
       " \r\n",
       "package \"TradeStudyTest\" as E1  [[psysml:57f8a98c-5718-48d8-9b9a-5c4650640602 ]]  {\r\n",
       "rec def \"Engine\" as E2 << << (B,green) >> [[psysml:6445380e-76a1-4d64-a2e6-1c63aec68392 ]] {\r\n",
       "}\r\n",
       "rec usage \"engine1: Engine\" as E3  [[psysml:e07cfc3f-c273-4e94-9cbe-d128d50ec860 ]] {\r\n",
       "}\r\n",
       "rec usage \"engine2: Engine\" as E4  [[psysml:d9e10f1c-39bd-473d-af93-7c118d42db3b ]] {\r\n",
       "}\r\n",
       "comp usage \"engineTradeStudy: TradeStudy \" as E5 << analysis>> [[psysml:f9c838ee-65e7-4043-9f07-1b30ef92e49c ]] {\r\n",
       "}\r\n",
       "comp usage \"tradeStudyObjective: MaximizeObjective \" as E6 << <<(U,orange) requirement>> [[psysml:38fbb285-8167-4e3f-bee3-2164ba524da7 ]] {\r\n",
       "}\r\n",
       "comp usage \"objectiveFunction\" as E7 << <<(U,orange) calculation>> [[psysml:658dce09-b71c-4e6e-94c9-a3c46617ebc8 ]] {\r\n",
       "}\r\n",
       "comp usage \"alternative: Engine \" as E8  [[psysml:3dbf099d-922d-4ace-9ccd-679bba93319b ]] {\r\n",
       "}\r\n",
       "comp usage \"selectedAlternative: Engine \" as E9  [[psysml:5fb9bd76-5535-468b-bb8f-88cd6f109fe8 ]] {\r\n",
       "}\r\n",
       "}\r\n",
       "E5 ..> E2 [[psysml:8e91b88f-f820-4b3f-bc7b-6a32144645a0 ]] : <<subject>>\r\n",
       "E5 - ->> E6 [[psysml:a6ebdbd2-b0f8-4e64-baff-f91dc99eb3fc ]] : <<objective>>\r\n",
       "E5 *- - E7 [[psysml:1d968e51-2f45-472a-9c8d-b659e8169068 ]] \r\n",
       "E7 o- - \"1\"E8 [[psysml:762eee8a-df65-48ef-8994-f8166e9b75f6 ]] \r\n",
       "E8 - -:|> E2 [[psysml:b4a53d37-cc69-46b7-9c1e-d748cdbb7a31 ]] \r\n",
       "E5 o- - \"1\"E9 [[psysml:b337f31d-c5a0-436f-953f-431d96e2f8f6 ]] \r\n",
       "E9 - -:|> E2 [[psysml:a6a00959-a343-466b-bcfe-643c8c056808 ]] \r\n",
       "@enduml\r\n",
       "\n",
       "PlantUML version 1.2020.13(Sat Jun 13 12:26:38 UTC 2020)\n",
       "(EPL source distribution)\n",
       "Java Runtime: OpenJDK Runtime Environment\n",
       "JVM: OpenJDK 64-Bit Server VM\n",
       "Default Encoding: UTF-8\n",
       "Language: en\n",
       "Country: null\n",
       "--></g></svg>"
      ]
     },
     "execution_count": 33,
     "metadata": {},
     "output_type": "execute_result"
    }
   ],
   "source": [
    "%viz --style=\"PLANTUML\" --view=\"Interconnection\" \"TradeStudyTest\""
   ]
  },
  {
   "cell_type": "code",
   "execution_count": 34,
   "id": "86b75b22",
   "metadata": {
    "execution": {
     "iopub.execute_input": "2021-11-13T13:01:40.869050Z",
     "iopub.status.busy": "2021-11-13T13:01:40.868712Z",
     "iopub.status.idle": "2021-11-13T13:01:40.896726Z",
     "shell.execute_reply": "2021-11-13T13:01:40.896453Z"
    }
   },
   "outputs": [
    {
     "data": {
      "image/svg+xml": [
       "<?xml version=\"1.0\" encoding=\"UTF-8\" standalone=\"no\"?><svg xmlns=\"http://www.w3.org/2000/svg\" xmlns:xlink=\"http://www.w3.org/1999/xlink\" contentScriptType=\"application/ecmascript\" contentStyleType=\"text/css\" height=\"178px\" preserveAspectRatio=\"none\" style=\"width:434px;height:178px;\" version=\"1.1\" viewBox=\"0 0 434 178\" width=\"434px\" zoomAndPan=\"magnify\"><defs><filter height=\"300%\" id=\"f1i1vpp1c3dwsd\" width=\"300%\" x=\"-1\" y=\"-1\"><feGaussianBlur result=\"blurOut\" stdDeviation=\"2.0\"/><feColorMatrix in=\"blurOut\" result=\"blurOut2\" type=\"matrix\" values=\"0 0 0 0 0 0 0 0 0 0 0 0 0 0 0 0 0 0 .4 0\"/><feOffset dx=\"4.0\" dy=\"4.0\" in=\"blurOut2\" result=\"blurOut3\"/><feBlend in=\"SourceGraphic\" in2=\"blurOut3\" mode=\"normal\"/></filter></defs><g><!--MD5=[fbc87193dbaf4d95561dea2c320d4a47]\n",
       "cluster E1--><a href=\"psysml:f9c838ee-65e7-4043-9f07-1b30ef92e49c\" target=\"_top\" title=\"psysml:f9c838ee-65e7-4043-9f07-1b30ef92e49c\" xlink:actuate=\"onRequest\" xlink:href=\"psysml:f9c838ee-65e7-4043-9f07-1b30ef92e49c\" xlink:show=\"new\" xlink:title=\"psysml:f9c838ee-65e7-4043-9f07-1b30ef92e49c\" xlink:type=\"simple\"><rect fill=\"#FFFFFF\" filter=\"url(#f1i1vpp1c3dwsd)\" height=\"103.72\" id=\"E1\" rx=\"10\" ry=\"10\" style=\"stroke: #A80036; stroke-width: 1.5;\" width=\"327\" x=\"47\" y=\"42.0986\"/><rect fill=\"#FEFECE\" height=\"37.9375\" rx=\"10\" ry=\"10\" style=\"stroke: #FEFECE; stroke-width: 1.5;\" width=\"327\" x=\"47\" y=\"42.0986\"/><rect fill=\"#FEFECE\" height=\"10\" style=\"stroke: #FEFECE; stroke-width: 1.5;\" width=\"327\" x=\"47\" y=\"70.0361\"/><rect fill=\"none\" height=\"103.72\" id=\"E1\" rx=\"10\" ry=\"10\" style=\"stroke: #A80036; stroke-width: 1.5;\" width=\"327\" x=\"47\" y=\"42.0986\"/><text fill=\"#000000\" font-family=\"sans-serif\" font-size=\"12\" font-style=\"italic\" lengthAdjust=\"spacingAndGlyphs\" textLength=\"64\" x=\"178.5\" y=\"58.2373\">«analysis»</text><text fill=\"#000000\" font-family=\"sans-serif\" font-size=\"12\" lengthAdjust=\"spacingAndGlyphs\" textLength=\"114\" x=\"153.5\" y=\"72.2061\">engineTradeStudy</text><line style=\"stroke: #A80036; stroke-width: 1.0;\" x1=\"47\" x2=\"374\" y1=\"80.0361\" y2=\"80.0361\"/></a><!--MD5=[d5e69f78d87373223dbae638b30a9c99]\n",
       "cluster E3--><a href=\"psysml:658dce09-b71c-4e6e-94c9-a3c46617ebc8\" target=\"_top\" title=\"psysml:658dce09-b71c-4e6e-94c9-a3c46617ebc8\" xlink:actuate=\"onRequest\" xlink:href=\"psysml:658dce09-b71c-4e6e-94c9-a3c46617ebc8\" xlink:show=\"new\" xlink:title=\"psysml:658dce09-b71c-4e6e-94c9-a3c46617ebc8\" xlink:type=\"simple\"><rect fill=\"#FFFFFF\" filter=\"url(#f1i1vpp1c3dwsd)\" height=\"81.72\" id=\"E3\" rx=\"10\" ry=\"10\" style=\"stroke: #A80036; stroke-width: 1.5;\" width=\"132\" x=\"214.125\" y=\"64.0986\"/><rect fill=\"#FEFECE\" height=\"37.9375\" rx=\"10\" ry=\"10\" style=\"stroke: #FEFECE; stroke-width: 1.5;\" width=\"132\" x=\"214.125\" y=\"64.0986\"/><rect fill=\"#FEFECE\" height=\"10\" style=\"stroke: #FEFECE; stroke-width: 1.5;\" width=\"132\" x=\"214.125\" y=\"92.0361\"/><rect fill=\"none\" height=\"81.72\" id=\"E3\" rx=\"10\" ry=\"10\" style=\"stroke: #A80036; stroke-width: 1.5;\" width=\"132\" x=\"214.125\" y=\"64.0986\"/><text fill=\"#000000\" font-family=\"sans-serif\" font-size=\"12\" font-style=\"italic\" lengthAdjust=\"spacingAndGlyphs\" textLength=\"82\" x=\"239.125\" y=\"80.2373\">«calculation»</text><text fill=\"#000000\" font-family=\"sans-serif\" font-size=\"12\" lengthAdjust=\"spacingAndGlyphs\" textLength=\"110\" x=\"225.125\" y=\"94.2061\">objectiveFunction</text><line style=\"stroke: #A80036; stroke-width: 1.0;\" x1=\"214.125\" x2=\"346.125\" y1=\"102.0361\" y2=\"102.0361\"/></a><text fill=\"#000000\" font-family=\"sans-serif\" font-size=\"14\" lengthAdjust=\"spacingAndGlyphs\" textLength=\"118\" x=\"6\" y=\"20.7969\">studyAlternatives</text><rect fill=\"#A80036\" height=\"12\" style=\"stroke: #FEFECE; stroke-width: 1.5;\" width=\"12\" x=\"59\" y=\"36.0986\"/><text fill=\"#000000\" font-family=\"sans-serif\" font-size=\"14\" lengthAdjust=\"spacingAndGlyphs\" textLength=\"132\" x=\"290\" y=\"164.8138\">selectedAlternative</text><rect fill=\"#A80036\" height=\"12\" style=\"stroke: #FEFECE; stroke-width: 1.5;\" width=\"12\" x=\"350\" y=\"139.8186\"/><text fill=\"#000000\" font-family=\"sans-serif\" font-size=\"14\" lengthAdjust=\"spacingAndGlyphs\" textLength=\"39\" x=\"215.5\" y=\"164.8138\">result</text><rect fill=\"#A80036\" height=\"12\" style=\"stroke: #FEFECE; stroke-width: 1.5;\" width=\"12\" x=\"229\" y=\"139.8186\"/><!--MD5=[b7dd8fd6245159c12386947e08a05c86]\n",
       "@startuml\r\n",
       "skinparam ranksep 8\r\n",
       " \r\n",
       "rec usage \"engineTradeStudy\" as E1 << analysis>> [[psysml:f9c838ee-65e7-4043-9f07-1b30ef92e49c ]] {\r\n",
       "portin \"studyAlternatives\" as E2  [[psysml:337fe316-4d2f-4990-8407-2b5473f7b0b9 ]] \r\n",
       "rec usage \"objectiveFunction\" as E3 << <<(U,orange) calculation>> [[psysml:658dce09-b71c-4e6e-94c9-a3c46617ebc8 ]] {\r\n",
       "portout \"result\" as E4  [[psysml:1c0da6f6-5c1e-42af-93f0-451ad801a52e ]] \r\n",
       "}\r\n",
       "\r\n",
       "portout \"selectedAlternative\" as E5  [[psysml:5fb9bd76-5535-468b-bb8f-88cd6f109fe8 ]] \r\n",
       "}\r\n",
       "\r\n",
       "@enduml\r\n",
       "\n",
       "PlantUML version 1.2020.13(Sat Jun 13 12:26:38 UTC 2020)\n",
       "(EPL source distribution)\n",
       "Java Runtime: OpenJDK Runtime Environment\n",
       "JVM: OpenJDK 64-Bit Server VM\n",
       "Default Encoding: UTF-8\n",
       "Language: en\n",
       "Country: null\n",
       "--></g></svg>"
      ]
     },
     "execution_count": 34,
     "metadata": {},
     "output_type": "execute_result"
    }
   ],
   "source": [
    "%viz --style=\"PLANTUML\" --view=\"Action\" \"TradeStudyTest\""
   ]
  },
  {
   "cell_type": "code",
   "execution_count": 35,
   "id": "e5ff81d5",
   "metadata": {
    "execution": {
     "iopub.execute_input": "2021-11-13T13:01:40.946094Z",
     "iopub.status.busy": "2021-11-13T13:01:40.945847Z",
     "iopub.status.idle": "2021-11-13T13:01:40.949887Z",
     "shell.execute_reply": "2021-11-13T13:01:40.950054Z"
    }
   },
   "outputs": [
    {
     "data": {
      "image/svg+xml": [
       "<?xml version=\"1.0\" encoding=\"UTF-8\" standalone=\"no\"?><svg xmlns=\"http://www.w3.org/2000/svg\" xmlns:xlink=\"http://www.w3.org/1999/xlink\" contentScriptType=\"application/ecmascript\" contentStyleType=\"text/css\" height=\"12px\" preserveAspectRatio=\"none\" style=\"width:12px;height:12px;\" version=\"1.1\" viewBox=\"0 0 12 12\" width=\"12px\" zoomAndPan=\"magnify\"><defs/><g><!--MD5=[ca4faa0b02def275ea33c14ea7a1a98d]\n",
       "@startuml\r\n",
       "skinparam roundcorner 20\r\n",
       "skinparam BoxPadding 20\r\n",
       "skinparam SequenceBoxBackgroundColor #white\r\n",
       "skinparam style strictuml\r\n",
       "skinparam maxMessageSize 100\r\n",
       " \r\n",
       "@enduml\r\n",
       "\n",
       "PlantUML version 1.2020.13(Sat Jun 13 12:26:38 UTC 2020)\n",
       "(EPL source distribution)\n",
       "Java Runtime: OpenJDK Runtime Environment\n",
       "JVM: OpenJDK 64-Bit Server VM\n",
       "Default Encoding: UTF-8\n",
       "Language: en\n",
       "Country: null\n",
       "--></g></svg>"
      ]
     },
     "execution_count": 35,
     "metadata": {},
     "output_type": "execute_result"
    }
   ],
   "source": [
    "%viz --style=\"PLANTUML\" --view=\"Sequence\" \"TradeStudyTest\""
   ]
  },
  {
   "cell_type": "code",
   "execution_count": 36,
   "id": "3cbfcf76",
   "metadata": {
    "execution": {
     "iopub.execute_input": "2021-11-13T13:01:41.000076Z",
     "iopub.status.busy": "2021-11-13T13:01:40.999826Z",
     "iopub.status.idle": "2021-11-13T13:01:41.041062Z",
     "shell.execute_reply": "2021-11-13T13:01:41.038711Z"
    }
   },
   "outputs": [
    {
     "data": {
      "image/svg+xml": [
       "<?xml version=\"1.0\" encoding=\"UTF-8\" standalone=\"no\"?><svg xmlns=\"http://www.w3.org/2000/svg\" xmlns:xlink=\"http://www.w3.org/1999/xlink\" contentScriptType=\"application/ecmascript\" contentStyleType=\"text/css\" height=\"491px\" preserveAspectRatio=\"none\" style=\"width:649px;height:491px;\" version=\"1.1\" viewBox=\"0 0 649 491\" width=\"649px\" zoomAndPan=\"magnify\"><defs><filter height=\"300%\" id=\"f1290ujht3egyk\" width=\"300%\" x=\"-1\" y=\"-1\"><feGaussianBlur result=\"blurOut\" stdDeviation=\"2.0\"/><feColorMatrix in=\"blurOut\" result=\"blurOut2\" type=\"matrix\" values=\"0 0 0 0 0 0 0 0 0 0 0 0 0 0 0 0 0 0 .4 0\"/><feOffset dx=\"4.0\" dy=\"4.0\" in=\"blurOut2\" result=\"blurOut3\"/><feBlend in=\"SourceGraphic\" in2=\"blurOut3\" mode=\"normal\"/></filter></defs><g><!--MD5=[fbc87193dbaf4d95561dea2c320d4a47]\n",
       "cluster E1--><a href=\"psysml:57f8a98c-5718-48d8-9b9a-5c4650640602\" target=\"_top\" title=\"psysml:57f8a98c-5718-48d8-9b9a-5c4650640602\" xlink:actuate=\"onRequest\" xlink:href=\"psysml:57f8a98c-5718-48d8-9b9a-5c4650640602\" xlink:show=\"new\" xlink:title=\"psysml:57f8a98c-5718-48d8-9b9a-5c4650640602\" xlink:type=\"simple\"><polygon fill=\"#FFFFFF\" filter=\"url(#f1290ujht3egyk)\" points=\"21.59,6,137.59,6,144.59,28.2969,627.59,28.2969,627.59,479,21.59,479,21.59,6\" style=\"stroke: #000000; stroke-width: 1.5;\"/><line style=\"stroke: #000000; stroke-width: 1.5;\" x1=\"21.59\" x2=\"144.59\" y1=\"28.2969\" y2=\"28.2969\"/><text fill=\"#000000\" font-family=\"sans-serif\" font-size=\"14\" font-weight=\"bold\" lengthAdjust=\"spacingAndGlyphs\" textLength=\"110\" x=\"25.59\" y=\"20.9951\">TradeStudyTest</text></a><!--MD5=[b4997ac47864f28c2f74865a473b2911]\n",
       "class E2--><a href=\"psysml:6445380e-76a1-4d64-a2e6-1c63aec68392\" target=\"_top\" title=\"psysml:6445380e-76a1-4d64-a2e6-1c63aec68392\" xlink:actuate=\"onRequest\" xlink:href=\"psysml:6445380e-76a1-4d64-a2e6-1c63aec68392\" xlink:show=\"new\" xlink:title=\"psysml:6445380e-76a1-4d64-a2e6-1c63aec68392\" xlink:type=\"simple\"><rect fill=\"#FEFECE\" filter=\"url(#f1290ujht3egyk)\" height=\"40\" id=\"E2\" style=\"stroke: #A80036; stroke-width: 1.5;\" width=\"75\" x=\"227.09\" y=\"423\"/><ellipse cx=\"242.09\" cy=\"439\" fill=\"#008000\" rx=\"11\" ry=\"11\" style=\"stroke: #A80036; stroke-width: 1.0;\"/><path d=\"M238.965,444 L238.965,433.4063 L242.1994,433.4063 Q244.1056,433.4063 245.0119,434.1563 Q245.9338,434.9063 245.9338,436.0781 Q245.9338,436.7656 245.5431,437.4219 Q245.1681,438.0781 244.4494,438.375 Q245.3088,438.75 245.8244,439.4375 Q246.34,440.125 246.34,440.9375 Q246.34,442.3125 245.3088,443.1563 Q244.2931,444 242.1838,444 L238.965,444 Z M240.8869,437.6406 L242.0431,437.6406 Q243.1681,437.6406 243.5744,437.2656 Q243.9963,436.875 243.9963,436.25 Q243.9963,435.6719 243.5744,435.3125 Q243.1525,434.9531 242.215,434.9531 L240.8869,434.9531 L240.8869,437.6406 Z M240.8869,442.4219 L242.3869,442.4219 Q243.2931,442.4219 243.8244,442.0313 Q244.3556,441.6406 244.3556,440.8906 Q244.3556,440.125 243.8556,439.6563 Q243.3556,439.1719 242.09,439.1719 L240.8869,439.1719 L240.8869,442.4219 Z \"/><text fill=\"#000000\" font-family=\"sans-serif\" font-size=\"12\" lengthAdjust=\"spacingAndGlyphs\" textLength=\"43\" x=\"256.09\" y=\"443.1543\">Engine</text><line style=\"stroke: #A80036; stroke-width: 1.5;\" x1=\"228.09\" x2=\"301.09\" y1=\"455\" y2=\"455\"/></a><!--MD5=[09b614a08d8cba4a07c9adeb5e0fee81]\n",
       "class E3--><a href=\"psysml:e07cfc3f-c273-4e94-9cbe-d128d50ec860\" target=\"_top\" title=\"psysml:e07cfc3f-c273-4e94-9cbe-d128d50ec860\" xlink:actuate=\"onRequest\" xlink:href=\"psysml:e07cfc3f-c273-4e94-9cbe-d128d50ec860\" xlink:show=\"new\" xlink:title=\"psysml:e07cfc3f-c273-4e94-9cbe-d128d50ec860\" xlink:type=\"simple\"><rect fill=\"#FEFECE\" filter=\"url(#f1290ujht3egyk)\" height=\"45.9375\" id=\"E3\" rx=\"10\" ry=\"10\" style=\"stroke: #A80036; stroke-width: 1.5;\" width=\"138\" x=\"473.59\" y=\"316\"/><ellipse cx=\"488.59\" cy=\"334.9688\" fill=\"#32CD32\" rx=\"11\" ry=\"11\" style=\"stroke: #A80036; stroke-width: 1.0;\"/><path d=\"M485.4025,339.9688 L485.4025,329.375 L489.0119,329.375 Q490.2306,329.375 491.0275,329.8125 Q491.8244,330.2344 492.1994,330.9375 Q492.59,331.6406 492.59,332.4844 Q492.59,333.3281 492.215,334.0156 Q491.8556,334.7031 491.0588,335.125 Q490.2775,335.5313 489.09,335.5313 L487.3556,335.5313 L487.3556,339.9688 L485.4025,339.9688 Z M487.3556,333.9375 L488.965,333.9375 Q489.7775,333.9375 490.1994,333.5313 Q490.6213,333.125 490.6213,332.4844 Q490.6213,331.8594 490.1994,331.4531 Q489.7775,331.0469 488.9806,331.0469 L487.3556,331.0469 L487.3556,333.9375 Z \"/><text fill=\"#000000\" font-family=\"sans-serif\" font-size=\"12\" font-style=\"italic\" lengthAdjust=\"spacingAndGlyphs\" textLength=\"40\" x=\"535.59\" y=\"332.1387\">«part»</text><text fill=\"#000000\" font-family=\"sans-serif\" font-size=\"12\" lengthAdjust=\"spacingAndGlyphs\" textLength=\"102\" x=\"502.59\" y=\"346.1074\">engine1: Engine</text><line style=\"stroke: #A80036; stroke-width: 1.5;\" x1=\"474.59\" x2=\"610.59\" y1=\"353.9375\" y2=\"353.9375\"/></a><!--MD5=[ebbe1d658d1005bcc118a6aa81145e00]\n",
       "class E4--><a href=\"psysml:d9e10f1c-39bd-473d-af93-7c118d42db3b\" target=\"_top\" title=\"psysml:d9e10f1c-39bd-473d-af93-7c118d42db3b\" xlink:actuate=\"onRequest\" xlink:href=\"psysml:d9e10f1c-39bd-473d-af93-7c118d42db3b\" xlink:show=\"new\" xlink:title=\"psysml:d9e10f1c-39bd-473d-af93-7c118d42db3b\" xlink:type=\"simple\"><rect fill=\"#FEFECE\" filter=\"url(#f1290ujht3egyk)\" height=\"45.9375\" id=\"E4\" rx=\"10\" ry=\"10\" style=\"stroke: #A80036; stroke-width: 1.5;\" width=\"138\" x=\"300.59\" y=\"316\"/><ellipse cx=\"315.59\" cy=\"334.9688\" fill=\"#32CD32\" rx=\"11\" ry=\"11\" style=\"stroke: #A80036; stroke-width: 1.0;\"/><path d=\"M312.4025,339.9688 L312.4025,329.375 L316.0119,329.375 Q317.2306,329.375 318.0275,329.8125 Q318.8244,330.2344 319.1994,330.9375 Q319.59,331.6406 319.59,332.4844 Q319.59,333.3281 319.215,334.0156 Q318.8556,334.7031 318.0588,335.125 Q317.2775,335.5313 316.09,335.5313 L314.3556,335.5313 L314.3556,339.9688 L312.4025,339.9688 Z M314.3556,333.9375 L315.965,333.9375 Q316.7775,333.9375 317.1994,333.5313 Q317.6213,333.125 317.6213,332.4844 Q317.6213,331.8594 317.1994,331.4531 Q316.7775,331.0469 315.9806,331.0469 L314.3556,331.0469 L314.3556,333.9375 Z \"/><text fill=\"#000000\" font-family=\"sans-serif\" font-size=\"12\" font-style=\"italic\" lengthAdjust=\"spacingAndGlyphs\" textLength=\"40\" x=\"362.59\" y=\"332.1387\">«part»</text><text fill=\"#000000\" font-family=\"sans-serif\" font-size=\"12\" lengthAdjust=\"spacingAndGlyphs\" textLength=\"102\" x=\"329.59\" y=\"346.1074\">engine2: Engine</text><line style=\"stroke: #A80036; stroke-width: 1.5;\" x1=\"301.59\" x2=\"437.59\" y1=\"353.9375\" y2=\"353.9375\"/></a><!--MD5=[270fce915f116d4de14055a7c1d9a0f3]\n",
       "class E5--><a href=\"psysml:f9c838ee-65e7-4043-9f07-1b30ef92e49c\" target=\"_top\" title=\"psysml:f9c838ee-65e7-4043-9f07-1b30ef92e49c\" xlink:actuate=\"onRequest\" xlink:href=\"psysml:f9c838ee-65e7-4043-9f07-1b30ef92e49c\" xlink:show=\"new\" xlink:title=\"psysml:f9c838ee-65e7-4043-9f07-1b30ef92e49c\" xlink:type=\"simple\"><rect fill=\"#FEFECE\" filter=\"url(#f1290ujht3egyk)\" height=\"45.9375\" id=\"E5\" rx=\"10\" ry=\"10\" style=\"stroke: #A80036; stroke-width: 1.5;\" width=\"229\" x=\"289.09\" y=\"41\"/><ellipse cx=\"304.09\" cy=\"59.9688\" fill=\"#B6DBBB\" rx=\"11\" ry=\"11\" style=\"stroke: #A80036; stroke-width: 1.0;\"/><path d=\"M303.84,65.4375 Q302.09,65.4375 301.1369,64.4063 Q300.1994,63.3594 300.1994,61.5156 L300.1994,54.625 L302.2619,54.625 L302.2619,54.7813 Q302.1681,54.875 302.1369,55.0156 Q302.1213,55.1406 302.1213,55.4063 L302.1213,61.5313 Q302.1213,62.625 302.4963,63.25 Q302.8713,63.875 303.8556,63.875 Q304.84,63.875 305.2306,63.25 Q305.6213,62.625 305.6213,61.4844 L305.6213,54.625 L307.4963,54.625 L307.4963,61.4688 Q307.4963,63.5 306.465,64.4688 Q305.4494,65.4375 303.84,65.4375 Z \"/><text fill=\"#000000\" font-family=\"sans-serif\" font-size=\"12\" font-style=\"italic\" lengthAdjust=\"spacingAndGlyphs\" textLength=\"64\" x=\"384.59\" y=\"57.1387\">«analysis»</text><text fill=\"#000000\" font-family=\"sans-serif\" font-size=\"12\" lengthAdjust=\"spacingAndGlyphs\" textLength=\"193\" x=\"318.09\" y=\"71.1074\">engineTradeStudy: TradeStudy</text><line style=\"stroke: #A80036; stroke-width: 1.5;\" x1=\"290.09\" x2=\"517.09\" y1=\"78.9375\" y2=\"78.9375\"/></a><!--MD5=[60a26617385b1d2d0262a64233df1f8d]\n",
       "class E6--><a href=\"psysml:38fbb285-8167-4e3f-bee3-2164ba524da7\" target=\"_top\" title=\"psysml:38fbb285-8167-4e3f-bee3-2164ba524da7\" xlink:actuate=\"onRequest\" xlink:href=\"psysml:38fbb285-8167-4e3f-bee3-2164ba524da7\" xlink:show=\"new\" xlink:title=\"psysml:38fbb285-8167-4e3f-bee3-2164ba524da7\" xlink:type=\"simple\"><rect fill=\"#FEFECE\" filter=\"url(#f1290ujht3egyk)\" height=\"45.9375\" id=\"E6\" rx=\"10\" ry=\"10\" style=\"stroke: #A80036; stroke-width: 1.5;\" width=\"281\" x=\"109.09\" y=\"164\"/><ellipse cx=\"124.09\" cy=\"182.9688\" fill=\"#FFA500\" rx=\"11\" ry=\"11\" style=\"stroke: #A80036; stroke-width: 1.0;\"/><path d=\"M123.84,188.4375 Q122.09,188.4375 121.1369,187.4063 Q120.1994,186.3594 120.1994,184.5156 L120.1994,177.625 L122.2619,177.625 L122.2619,177.7813 Q122.1681,177.875 122.1369,178.0156 Q122.1213,178.1406 122.1213,178.4063 L122.1213,184.5313 Q122.1213,185.625 122.4963,186.25 Q122.8713,186.875 123.8556,186.875 Q124.84,186.875 125.2306,186.25 Q125.6213,185.625 125.6213,184.4844 L125.6213,177.625 L127.4963,177.625 L127.4963,184.4688 Q127.4963,186.5 126.465,187.4688 Q125.4494,188.4375 123.84,188.4375 Z \"/><text fill=\"#000000\" font-family=\"sans-serif\" font-size=\"12\" font-style=\"italic\" lengthAdjust=\"spacingAndGlyphs\" textLength=\"91\" x=\"217.09\" y=\"180.1387\">«requirement»</text><text fill=\"#000000\" font-family=\"sans-serif\" font-size=\"12\" lengthAdjust=\"spacingAndGlyphs\" textLength=\"245\" x=\"138.09\" y=\"194.1074\">tradeStudyObjective: MaximizeObjective</text><line style=\"stroke: #A80036; stroke-width: 1.5;\" x1=\"110.09\" x2=\"389.09\" y1=\"201.9375\" y2=\"201.9375\"/></a><!--MD5=[2156ba9850f5573cc1fc38a6a4b2f02b]\n",
       "class E7--><a href=\"psysml:658dce09-b71c-4e6e-94c9-a3c46617ebc8\" target=\"_top\" title=\"psysml:658dce09-b71c-4e6e-94c9-a3c46617ebc8\" xlink:actuate=\"onRequest\" xlink:href=\"psysml:658dce09-b71c-4e6e-94c9-a3c46617ebc8\" xlink:show=\"new\" xlink:title=\"psysml:658dce09-b71c-4e6e-94c9-a3c46617ebc8\" xlink:type=\"simple\"><rect fill=\"#FEFECE\" filter=\"url(#f1290ujht3egyk)\" height=\"45.9375\" id=\"E7\" rx=\"10\" ry=\"10\" style=\"stroke: #A80036; stroke-width: 1.5;\" width=\"142\" x=\"425.59\" y=\"164\"/><ellipse cx=\"440.59\" cy=\"182.9688\" fill=\"#FFA500\" rx=\"11\" ry=\"11\" style=\"stroke: #A80036; stroke-width: 1.0;\"/><path d=\"M440.34,188.4375 Q438.59,188.4375 437.6369,187.4063 Q436.6994,186.3594 436.6994,184.5156 L436.6994,177.625 L438.7619,177.625 L438.7619,177.7813 Q438.6681,177.875 438.6369,178.0156 Q438.6213,178.1406 438.6213,178.4063 L438.6213,184.5313 Q438.6213,185.625 438.9963,186.25 Q439.3713,186.875 440.3556,186.875 Q441.34,186.875 441.7306,186.25 Q442.1213,185.625 442.1213,184.4844 L442.1213,177.625 L443.9963,177.625 L443.9963,184.4688 Q443.9963,186.5 442.965,187.4688 Q441.9494,188.4375 440.34,188.4375 Z \"/><text fill=\"#000000\" font-family=\"sans-serif\" font-size=\"12\" font-style=\"italic\" lengthAdjust=\"spacingAndGlyphs\" textLength=\"82\" x=\"468.59\" y=\"180.1387\">«calculation»</text><text fill=\"#000000\" font-family=\"sans-serif\" font-size=\"12\" lengthAdjust=\"spacingAndGlyphs\" textLength=\"110\" x=\"454.59\" y=\"194.1074\">objectiveFunction</text><line style=\"stroke: #A80036; stroke-width: 1.5;\" x1=\"426.59\" x2=\"566.59\" y1=\"201.9375\" y2=\"201.9375\"/></a><!--MD5=[b9389687b975829384b498ac4b7476b2]\n",
       "class E8--><a href=\"psysml:3dbf099d-922d-4ace-9ccd-679bba93319b\" target=\"_top\" title=\"psysml:3dbf099d-922d-4ace-9ccd-679bba93319b\" xlink:actuate=\"onRequest\" xlink:href=\"psysml:3dbf099d-922d-4ace-9ccd-679bba93319b\" xlink:show=\"new\" xlink:title=\"psysml:3dbf099d-922d-4ace-9ccd-679bba93319b\" xlink:type=\"simple\"><rect fill=\"#FEFECE\" filter=\"url(#f1290ujht3egyk)\" height=\"45.9375\" id=\"E8\" rx=\"10\" ry=\"10\" style=\"stroke: #A80036; stroke-width: 1.5;\" width=\"154\" x=\"74.59\" y=\"316\"/><ellipse cx=\"89.59\" cy=\"334.9688\" fill=\"#32CD32\" rx=\"11\" ry=\"11\" style=\"stroke: #A80036; stroke-width: 1.0;\"/><path d=\"M86.4025,339.9688 L86.4025,329.375 L90.0119,329.375 Q91.2306,329.375 92.0275,329.8125 Q92.8244,330.2344 93.1994,330.9375 Q93.59,331.6406 93.59,332.4844 Q93.59,333.3281 93.215,334.0156 Q92.8556,334.7031 92.0588,335.125 Q91.2775,335.5313 90.09,335.5313 L88.3556,335.5313 L88.3556,339.9688 L86.4025,339.9688 Z M88.3556,333.9375 L89.965,333.9375 Q90.7775,333.9375 91.1994,333.5313 Q91.6213,333.125 91.6213,332.4844 Q91.6213,331.8594 91.1994,331.4531 Q90.7775,331.0469 89.9806,331.0469 L88.3556,331.0469 L88.3556,333.9375 Z \"/><text fill=\"#000000\" font-family=\"sans-serif\" font-size=\"12\" font-style=\"italic\" lengthAdjust=\"spacingAndGlyphs\" textLength=\"40\" x=\"144.59\" y=\"332.1387\">«part»</text><text fill=\"#000000\" font-family=\"sans-serif\" font-size=\"12\" lengthAdjust=\"spacingAndGlyphs\" textLength=\"118\" x=\"103.59\" y=\"346.1074\">alternative: Engine</text><line style=\"stroke: #A80036; stroke-width: 1.5;\" x1=\"75.59\" x2=\"227.59\" y1=\"353.9375\" y2=\"353.9375\"/></a><!--MD5=[fd4143e9d270a159db93a4ea2a975926]\n",
       "class E9--><a href=\"psysml:5fb9bd76-5535-468b-bb8f-88cd6f109fe8\" target=\"_top\" title=\"psysml:5fb9bd76-5535-468b-bb8f-88cd6f109fe8\" xlink:actuate=\"onRequest\" xlink:href=\"psysml:5fb9bd76-5535-468b-bb8f-88cd6f109fe8\" xlink:show=\"new\" xlink:title=\"psysml:5fb9bd76-5535-468b-bb8f-88cd6f109fe8\" xlink:type=\"simple\"><rect fill=\"#FEFECE\" filter=\"url(#f1290ujht3egyk)\" height=\"45.9375\" id=\"E9\" rx=\"10\" ry=\"10\" style=\"stroke: #A80036; stroke-width: 1.5;\" width=\"208\" x=\"281.59\" y=\"240\"/><ellipse cx=\"296.59\" cy=\"258.9688\" fill=\"#32CD32\" rx=\"11\" ry=\"11\" style=\"stroke: #A80036; stroke-width: 1.0;\"/><path d=\"M293.4025,263.9688 L293.4025,253.375 L297.0119,253.375 Q298.2306,253.375 299.0275,253.8125 Q299.8244,254.2344 300.1994,254.9375 Q300.59,255.6406 300.59,256.4844 Q300.59,257.3281 300.215,258.0156 Q299.8556,258.7031 299.0588,259.125 Q298.2775,259.5313 297.09,259.5313 L295.3556,259.5313 L295.3556,263.9688 L293.4025,263.9688 Z M295.3556,257.9375 L296.965,257.9375 Q297.7775,257.9375 298.1994,257.5313 Q298.6213,257.125 298.6213,256.4844 Q298.6213,255.8594 298.1994,255.4531 Q297.7775,255.0469 296.9806,255.0469 L295.3556,255.0469 L295.3556,257.9375 Z \"/><text fill=\"#000000\" font-family=\"sans-serif\" font-size=\"12\" font-style=\"italic\" lengthAdjust=\"spacingAndGlyphs\" textLength=\"40\" x=\"378.59\" y=\"256.1387\">«part»</text><text fill=\"#000000\" font-family=\"sans-serif\" font-size=\"12\" lengthAdjust=\"spacingAndGlyphs\" textLength=\"172\" x=\"310.59\" y=\"270.1074\">selectedAlternative: Engine</text><line style=\"stroke: #A80036; stroke-width: 1.5;\" x1=\"282.59\" x2=\"488.59\" y1=\"277.9375\" y2=\"277.9375\"/></a><!--MD5=[05d275557350bfb9b23a4ef7222b4c39]\n",
       "link E3 to E2--><a href=\"psysml:8b560a74-32d8-45cc-8c0e-f8d7e14b884a\" target=\"_top\" title=\"psysml:8b560a74-32d8-45cc-8c0e-f8d7e14b884a\" xlink:actuate=\"onRequest\" xlink:href=\"psysml:8b560a74-32d8-45cc-8c0e-f8d7e14b884a\" xlink:show=\"new\" xlink:title=\"psysml:8b560a74-32d8-45cc-8c0e-f8d7e14b884a\" xlink:type=\"simple\"><path d=\"M482.61,362.01 C434.71,379.58 368.05,404.04 321.08,421.27 \" fill=\"none\" id=\"E3-&gt;E2\" style=\"stroke: #A80036; stroke-width: 1.0;\"/><polygon fill=\"#FFFFFF\" points=\"302.27,428.17,317.7003,415.0588,322.5184,428.2036,302.27,428.17\" style=\"stroke: #A80036; stroke-width: 1.0;\"/><ellipse cx=\"323.7404\" cy=\"414.9749\" fill=\"#A80036\" rx=\"2\" ry=\"2\" style=\"stroke: #A80036; stroke-width: 1.0;\"/><ellipse cx=\"327.1819\" cy=\"424.3641\" fill=\"#A80036\" rx=\"2\" ry=\"2\" style=\"stroke: #A80036; stroke-width: 1.0;\"/></a><!--MD5=[185131fc0dcab0a4505a2ebe144e961b]\n",
       "link E4 to E2--><a href=\"psysml:7f518d85-a598-4692-a186-0ec59d25f08f\" target=\"_top\" title=\"psysml:7f518d85-a598-4692-a186-0ec59d25f08f\" xlink:actuate=\"onRequest\" xlink:href=\"psysml:7f518d85-a598-4692-a186-0ec59d25f08f\" xlink:show=\"new\" xlink:title=\"psysml:7f518d85-a598-4692-a186-0ec59d25f08f\" xlink:type=\"simple\"><path d=\"M346.81,362.13 C332.78,375.76 314.54,393.47 298.81,408.76 \" fill=\"none\" id=\"E4-&gt;E2\" style=\"stroke: #A80036; stroke-width: 1.0;\"/><polygon fill=\"#FFFFFF\" points=\"284.15,423,292.8944,404.737,302.6529,414.7755,284.15,423\" style=\"stroke: #A80036; stroke-width: 1.0;\"/><ellipse cx=\"298.3756\" cy=\"402.198\" fill=\"#A80036\" rx=\"2\" ry=\"2\" style=\"stroke: #A80036; stroke-width: 1.0;\"/><ellipse cx=\"305.3459\" cy=\"409.3683\" fill=\"#A80036\" rx=\"2\" ry=\"2\" style=\"stroke: #A80036; stroke-width: 1.0;\"/></a><!--MD5=[15ebcb19ae302d9b601edb458606d402]\n",
       "link E5 to E2--><a href=\"psysml:8e91b88f-f820-4b3f-bc7b-6a32144645a0\" target=\"_top\" title=\"psysml:8e91b88f-f820-4b3f-bc7b-6a32144645a0\" xlink:actuate=\"onRequest\" xlink:href=\"psysml:8e91b88f-f820-4b3f-bc7b-6a32144645a0\" xlink:show=\"new\" xlink:title=\"psysml:8e91b88f-f820-4b3f-bc7b-6a32144645a0\" xlink:type=\"simple\"><path d=\"M288.79,73.68 C222.27,84.73 141.96,109.38 91.59,164 C31.01,229.69 6,288.34 56.59,362 C93.57,415.85 172.26,433.47 221.54,439.22 \" fill=\"none\" id=\"E5-&gt;E2\" style=\"stroke: #A80036; stroke-width: 1.0; stroke-dasharray: 7.0,7.0;\"/><polygon fill=\"#A80036\" points=\"226.81,439.8,218.2974,434.8467,221.8395,439.2572,217.429,442.7994,226.81,439.8\" style=\"stroke: #A80036; stroke-width: 1.0;\"/><text fill=\"#000000\" font-family=\"sans-serif\" font-size=\"13\" lengthAdjust=\"spacingAndGlyphs\" textLength=\"62\" x=\"39.59\" y=\"267.5669\">«subject»</text></a><!--MD5=[9120cf2e5df3bff93db8f754bbbc09b4]\n",
       "link E5 to E6--><a href=\"psysml:a6ebdbd2-b0f8-4e64-baff-f91dc99eb3fc\" target=\"_top\" title=\"psysml:a6ebdbd2-b0f8-4e64-baff-f91dc99eb3fc\" xlink:actuate=\"onRequest\" xlink:href=\"psysml:a6ebdbd2-b0f8-4e64-baff-f91dc99eb3fc\" xlink:show=\"new\" xlink:title=\"psysml:a6ebdbd2-b0f8-4e64-baff-f91dc99eb3fc\" xlink:type=\"simple\"><path d=\"M375.34,87.19 C349.62,107.41 311.56,137.31 284.06,158.92 \" fill=\"none\" id=\"E5-&gt;E6\" style=\"stroke: #A80036; stroke-width: 1.0;\"/><polygon fill=\"#A80036\" points=\"277.66,163.95,285.8058,161.3721,282.1022,156.6516,277.66,163.95\" style=\"stroke: #A80036; stroke-width: 1.0;\"/><text fill=\"#000000\" font-family=\"sans-serif\" font-size=\"13\" lengthAdjust=\"spacingAndGlyphs\" textLength=\"73\" x=\"336.59\" y=\"130.0669\">«objective»</text></a><!--MD5=[452b418e7f8a40397a49b8c0a78acc5b]\n",
       "reverse link E5 to E7--><a href=\"psysml:1d968e51-2f45-472a-9c8d-b659e8169068\" target=\"_top\" title=\"psysml:1d968e51-2f45-472a-9c8d-b659e8169068\" xlink:actuate=\"onRequest\" xlink:href=\"psysml:1d968e51-2f45-472a-9c8d-b659e8169068\" xlink:show=\"new\" xlink:title=\"psysml:1d968e51-2f45-472a-9c8d-b659e8169068\" xlink:type=\"simple\"><path d=\"M428.64,97.59 C444.8,118.61 465.38,145.4 479.64,163.95 \" fill=\"none\" id=\"E5&lt;-E7\" style=\"stroke: #A80036; stroke-width: 1.0;\"/><polygon fill=\"#A80036\" points=\"420.65,87.19,421.1291,94.3852,427.9551,96.7103,427.476,89.5151,420.65,87.19\" style=\"stroke: #A80036; stroke-width: 1.0;\"/></a><!--MD5=[dc164f5e8a733ab456ef1add180e9e34]\n",
       "reverse link E7 to E8--><a href=\"psysml:762eee8a-df65-48ef-8994-f8166e9b75f6\" target=\"_top\" title=\"psysml:762eee8a-df65-48ef-8994-f8166e9b75f6\" xlink:actuate=\"onRequest\" xlink:href=\"psysml:762eee8a-df65-48ef-8994-f8166e9b75f6\" xlink:show=\"new\" xlink:title=\"psysml:762eee8a-df65-48ef-8994-f8166e9b75f6\" xlink:type=\"simple\"><path d=\"M412.48,208.88 C410.84,209.26 409.2,209.63 407.59,210 C344.28,224.46 322.76,211.13 264.59,240 C226.91,258.7 191.66,292.98 170.87,315.63 \" fill=\"none\" id=\"E7&lt;-E8\" style=\"stroke: #A80036; stroke-width: 1.0;\"/><polygon fill=\"#FFFFFF\" points=\"425.23,205.88,418.4746,203.3572,413.5476,208.6226,420.303,211.1454,425.23,205.88\" style=\"stroke: #A80036; stroke-width: 1.0;\"/><text fill=\"#000000\" font-family=\"sans-serif\" font-size=\"13\" lengthAdjust=\"spacingAndGlyphs\" textLength=\"8\" x=\"166.7855\" y=\"304.8115\">1</text></a><!--MD5=[f1f3f9f2fc535e6147756cb86a7f2e32]\n",
       "link E8 to E2--><a href=\"psysml:b4a53d37-cc69-46b7-9c1e-d748cdbb7a31\" target=\"_top\" title=\"psysml:b4a53d37-cc69-46b7-9c1e-d748cdbb7a31\" xlink:actuate=\"onRequest\" xlink:href=\"psysml:b4a53d37-cc69-46b7-9c1e-d748cdbb7a31\" xlink:show=\"new\" xlink:title=\"psysml:b4a53d37-cc69-46b7-9c1e-d748cdbb7a31\" xlink:type=\"simple\"><path d=\"M176.11,362.13 C191.44,375.97 211.45,394.03 228.56,409.48 \" fill=\"none\" id=\"E8-&gt;E2\" style=\"stroke: #A80036; stroke-width: 1.0;\"/><polygon fill=\"#FFFFFF\" points=\"243.54,423,224.7462,415.4638,234.1278,405.0721,243.54,423\" style=\"stroke: #A80036; stroke-width: 1.0;\"/><ellipse cx=\"221.8556\" cy=\"410.1596\" fill=\"#A80036\" rx=\"2\" ry=\"2\" style=\"stroke: #A80036; stroke-width: 1.0;\"/><ellipse cx=\"228.5566\" cy=\"402.737\" fill=\"#A80036\" rx=\"2\" ry=\"2\" style=\"stroke: #A80036; stroke-width: 1.0;\"/></a><!--MD5=[9ae28de373ca99bb8a1b38d63370ca7e]\n",
       "reverse link E5 to E9--><a href=\"psysml:b337f31d-c5a0-436f-953f-431d96e2f8f6\" target=\"_top\" title=\"psysml:b337f31d-c5a0-436f-953f-431d96e2f8f6\" xlink:actuate=\"onRequest\" xlink:href=\"psysml:b337f31d-c5a0-436f-953f-431d96e2f8f6\" xlink:show=\"new\" xlink:title=\"psysml:b337f31d-c5a0-436f-953f-431d96e2f8f6\" xlink:type=\"simple\"><path d=\"M484.39,91.88 C549.31,117.88 623.84,160.54 585.59,210 C573.03,226.25 531.69,238.36 489.84,246.79 \" fill=\"none\" id=\"E5&lt;-E9\" style=\"stroke: #A80036; stroke-width: 1.0;\"/><polygon fill=\"#FFFFFF\" points=\"471.99,87.07,476.1369,92.9694,483.1775,91.4104,479.0306,85.511,471.99,87.07\" style=\"stroke: #A80036; stroke-width: 1.0;\"/><text fill=\"#000000\" font-family=\"sans-serif\" font-size=\"13\" lengthAdjust=\"spacingAndGlyphs\" textLength=\"8\" x=\"497.4513\" y=\"242.1967\">1</text></a><!--MD5=[5c3bb36fe832a92c7f0e1807dd65209d]\n",
       "link E9 to E2--><a href=\"psysml:a6a00959-a343-466b-bcfe-643c8c056808\" target=\"_top\" title=\"psysml:a6a00959-a343-466b-bcfe-643c8c056808\" xlink:actuate=\"onRequest\" xlink:href=\"psysml:a6a00959-a343-466b-bcfe-643c8c056808\" xlink:show=\"new\" xlink:title=\"psysml:a6a00959-a343-466b-bcfe-643c8c056808\" xlink:type=\"simple\"><path d=\"M319.64,286.07 C305.83,293.56 292.71,303.34 283.59,316 C265.6,340.96 261.55,375.98 261.6,402.77 \" fill=\"none\" id=\"E9-&gt;E2\" style=\"stroke: #A80036; stroke-width: 1.0;\"/><polygon fill=\"#FFFFFF\" points=\"262.39,422.93,254.649,404.2197,268.6382,403.6697,262.39,422.93\" style=\"stroke: #A80036; stroke-width: 1.0;\"/><ellipse cx=\"256.4236\" cy=\"398.4455\" fill=\"#A80036\" rx=\"2\" ry=\"2\" style=\"stroke: #A80036; stroke-width: 1.0;\"/><ellipse cx=\"266.4158\" cy=\"398.0526\" fill=\"#A80036\" rx=\"2\" ry=\"2\" style=\"stroke: #A80036; stroke-width: 1.0;\"/></a><!--MD5=[cb4ebfa436ef990d1d45cdf39ac7acda]\n",
       "@startuml\r\n",
       " \r\n",
       "package \"TradeStudyTest\" as E1  [[psysml:57f8a98c-5718-48d8-9b9a-5c4650640602 ]]  {\r\n",
       "comp def \"Engine\" as E2 << << (B,green) >> [[psysml:6445380e-76a1-4d64-a2e6-1c63aec68392 ]] {\r\n",
       "}\r\n",
       "comp usage \"engine1: Engine \" as E3 << << (P,limegreen) part>> [[psysml:e07cfc3f-c273-4e94-9cbe-d128d50ec860 ]] {\r\n",
       "}\r\n",
       "comp usage \"engine2: Engine \" as E4 << << (P,limegreen) part>> [[psysml:d9e10f1c-39bd-473d-af93-7c118d42db3b ]] {\r\n",
       "}\r\n",
       "comp usage \"engineTradeStudy: TradeStudy \" as E5 << analysis>> [[psysml:f9c838ee-65e7-4043-9f07-1b30ef92e49c ]] {\r\n",
       "}\r\n",
       "comp usage \"tradeStudyObjective: MaximizeObjective \" as E6 << <<(U,orange) requirement>> [[psysml:38fbb285-8167-4e3f-bee3-2164ba524da7 ]] {\r\n",
       "}\r\n",
       "comp usage \"objectiveFunction\" as E7 << <<(U,orange) calculation>> [[psysml:658dce09-b71c-4e6e-94c9-a3c46617ebc8 ]] {\r\n",
       "}\r\n",
       "comp usage \"alternative: Engine \" as E8 << << (P,limegreen) part>> [[psysml:3dbf099d-922d-4ace-9ccd-679bba93319b ]] {\r\n",
       "}\r\n",
       "comp usage \"selectedAlternative: Engine \" as E9 << << (P,limegreen) part>> [[psysml:5fb9bd76-5535-468b-bb8f-88cd6f109fe8 ]] {\r\n",
       "}\r\n",
       "}\r\n",
       "E3 - -:|> E2 [[psysml:8b560a74-32d8-45cc-8c0e-f8d7e14b884a ]] \r\n",
       "E4 - -:|> E2 [[psysml:7f518d85-a598-4692-a186-0ec59d25f08f ]] \r\n",
       "E5 ..> E2 [[psysml:8e91b88f-f820-4b3f-bc7b-6a32144645a0 ]] : <<subject>>\r\n",
       "E5 - ->> E6 [[psysml:a6ebdbd2-b0f8-4e64-baff-f91dc99eb3fc ]] : <<objective>>\r\n",
       "E5 *- - E7 [[psysml:1d968e51-2f45-472a-9c8d-b659e8169068 ]] \r\n",
       "E7 o- - \"1\"E8 [[psysml:762eee8a-df65-48ef-8994-f8166e9b75f6 ]] \r\n",
       "E8 - -:|> E2 [[psysml:b4a53d37-cc69-46b7-9c1e-d748cdbb7a31 ]] \r\n",
       "E5 o- - \"1\"E9 [[psysml:b337f31d-c5a0-436f-953f-431d96e2f8f6 ]] \r\n",
       "E9 - -:|> E2 [[psysml:a6a00959-a343-466b-bcfe-643c8c056808 ]] \r\n",
       "@enduml\r\n",
       "\n",
       "PlantUML version 1.2020.13(Sat Jun 13 12:26:38 UTC 2020)\n",
       "(EPL source distribution)\n",
       "Java Runtime: OpenJDK Runtime Environment\n",
       "JVM: OpenJDK 64-Bit Server VM\n",
       "Default Encoding: UTF-8\n",
       "Language: en\n",
       "Country: null\n",
       "--></g></svg>"
      ]
     },
     "execution_count": 36,
     "metadata": {},
     "output_type": "execute_result"
    }
   ],
   "source": [
    "%viz --style=\"PLANTUML\" --view=\"MIXED\" \"TradeStudyTest\""
   ]
  },
  {
   "cell_type": "code",
   "execution_count": 37,
   "id": "186fcd09",
   "metadata": {
    "execution": {
     "iopub.execute_input": "2021-11-13T13:01:41.089463Z",
     "iopub.status.busy": "2021-11-13T13:01:41.089061Z",
     "iopub.status.idle": "2021-11-13T13:01:41.129819Z",
     "shell.execute_reply": "2021-11-13T13:01:41.127870Z"
    }
   },
   "outputs": [
    {
     "data": {
      "image/svg+xml": [
       "<?xml version=\"1.0\" encoding=\"UTF-8\" standalone=\"no\"?><svg xmlns=\"http://www.w3.org/2000/svg\" xmlns:xlink=\"http://www.w3.org/1999/xlink\" contentScriptType=\"application/ecmascript\" contentStyleType=\"text/css\" height=\"497px\" preserveAspectRatio=\"none\" style=\"width:568px;height:497px;\" version=\"1.1\" viewBox=\"0 0 568 497\" width=\"568px\" zoomAndPan=\"magnify\"><defs/><g><!--MD5=[fbc87193dbaf4d95561dea2c320d4a47]\n",
       "cluster E1--><a href=\"psysml:57f8a98c-5718-48d8-9b9a-5c4650640602\" target=\"_top\" title=\"psysml:57f8a98c-5718-48d8-9b9a-5c4650640602\" xlink:actuate=\"onRequest\" xlink:href=\"psysml:57f8a98c-5718-48d8-9b9a-5c4650640602\" xlink:show=\"new\" xlink:title=\"psysml:57f8a98c-5718-48d8-9b9a-5c4650640602\" xlink:type=\"simple\"><polygon fill=\"#FFFFFF\" points=\"18.75,6,134.75,6,141.75,28.2969,546.75,28.2969,546.75,485,18.75,485,18.75,6\" style=\"stroke: #000000; stroke-width: 1.5;\"/><line style=\"stroke: #000000; stroke-width: 1.5;\" x1=\"18.75\" x2=\"141.75\" y1=\"28.2969\" y2=\"28.2969\"/><text fill=\"#000000\" font-family=\"sans-serif\" font-size=\"14\" font-weight=\"bold\" lengthAdjust=\"spacingAndGlyphs\" textLength=\"110\" x=\"22.75\" y=\"20.9951\">TradeStudyTest</text></a><!--MD5=[b4997ac47864f28c2f74865a473b2911]\n",
       "class E2--><a href=\"psysml:6445380e-76a1-4d64-a2e6-1c63aec68392\" target=\"_top\" title=\"psysml:6445380e-76a1-4d64-a2e6-1c63aec68392\" xlink:actuate=\"onRequest\" xlink:href=\"psysml:6445380e-76a1-4d64-a2e6-1c63aec68392\" xlink:show=\"new\" xlink:title=\"psysml:6445380e-76a1-4d64-a2e6-1c63aec68392\" xlink:type=\"simple\"><rect fill=\"#FFFFFF\" height=\"45.9375\" id=\"E2\" style=\"stroke: #383838; stroke-width: 1.5;\" width=\"70\" x=\"200.75\" y=\"423\"/><text fill=\"#000000\" font-family=\"sans-serif\" font-size=\"12\" font-style=\"italic\" lengthAdjust=\"spacingAndGlyphs\" textLength=\"68\" x=\"201.75\" y=\"439.1387\">«part  def»</text><text fill=\"#000000\" font-family=\"sans-serif\" font-size=\"12\" lengthAdjust=\"spacingAndGlyphs\" textLength=\"43\" x=\"214.25\" y=\"453.1074\">Engine</text><line style=\"stroke: #383838; stroke-width: 1.5;\" x1=\"201.75\" x2=\"269.75\" y1=\"460.9375\" y2=\"460.9375\"/></a><!--MD5=[09b614a08d8cba4a07c9adeb5e0fee81]\n",
       "class E3--><a href=\"psysml:e07cfc3f-c273-4e94-9cbe-d128d50ec860\" target=\"_top\" title=\"psysml:e07cfc3f-c273-4e94-9cbe-d128d50ec860\" xlink:actuate=\"onRequest\" xlink:href=\"psysml:e07cfc3f-c273-4e94-9cbe-d128d50ec860\" xlink:show=\"new\" xlink:title=\"psysml:e07cfc3f-c273-4e94-9cbe-d128d50ec860\" xlink:type=\"simple\"><rect fill=\"#FFFFFF\" height=\"45.9375\" id=\"E3\" rx=\"10\" ry=\"10\" style=\"stroke: #383838; stroke-width: 1.5;\" width=\"112\" x=\"418.75\" y=\"316\"/><text fill=\"#000000\" font-family=\"sans-serif\" font-size=\"12\" font-style=\"italic\" lengthAdjust=\"spacingAndGlyphs\" textLength=\"40\" x=\"454.75\" y=\"332.1387\">«part»</text><text fill=\"#000000\" font-family=\"sans-serif\" font-size=\"12\" lengthAdjust=\"spacingAndGlyphs\" textLength=\"102\" x=\"421.75\" y=\"346.1074\">engine1: Engine</text><line style=\"stroke: #383838; stroke-width: 1.5;\" x1=\"419.75\" x2=\"529.75\" y1=\"353.9375\" y2=\"353.9375\"/></a><!--MD5=[ebbe1d658d1005bcc118a6aa81145e00]\n",
       "class E4--><a href=\"psysml:d9e10f1c-39bd-473d-af93-7c118d42db3b\" target=\"_top\" title=\"psysml:d9e10f1c-39bd-473d-af93-7c118d42db3b\" xlink:actuate=\"onRequest\" xlink:href=\"psysml:d9e10f1c-39bd-473d-af93-7c118d42db3b\" xlink:show=\"new\" xlink:title=\"psysml:d9e10f1c-39bd-473d-af93-7c118d42db3b\" xlink:type=\"simple\"><rect fill=\"#FFFFFF\" height=\"45.9375\" id=\"E4\" rx=\"10\" ry=\"10\" style=\"stroke: #383838; stroke-width: 1.5;\" width=\"112\" x=\"271.75\" y=\"316\"/><text fill=\"#000000\" font-family=\"sans-serif\" font-size=\"12\" font-style=\"italic\" lengthAdjust=\"spacingAndGlyphs\" textLength=\"40\" x=\"307.75\" y=\"332.1387\">«part»</text><text fill=\"#000000\" font-family=\"sans-serif\" font-size=\"12\" lengthAdjust=\"spacingAndGlyphs\" textLength=\"102\" x=\"274.75\" y=\"346.1074\">engine2: Engine</text><line style=\"stroke: #383838; stroke-width: 1.5;\" x1=\"272.75\" x2=\"382.75\" y1=\"353.9375\" y2=\"353.9375\"/></a><!--MD5=[270fce915f116d4de14055a7c1d9a0f3]\n",
       "class E5--><a href=\"psysml:f9c838ee-65e7-4043-9f07-1b30ef92e49c\" target=\"_top\" title=\"psysml:f9c838ee-65e7-4043-9f07-1b30ef92e49c\" xlink:actuate=\"onRequest\" xlink:href=\"psysml:f9c838ee-65e7-4043-9f07-1b30ef92e49c\" xlink:show=\"new\" xlink:title=\"psysml:f9c838ee-65e7-4043-9f07-1b30ef92e49c\" xlink:type=\"simple\"><rect fill=\"#FFFFFF\" height=\"45.9375\" id=\"E5\" rx=\"10\" ry=\"10\" style=\"stroke: #383838; stroke-width: 1.5;\" width=\"203\" x=\"248.25\" y=\"41\"/><text fill=\"#000000\" font-family=\"sans-serif\" font-size=\"12\" font-style=\"italic\" lengthAdjust=\"spacingAndGlyphs\" textLength=\"64\" x=\"317.75\" y=\"57.1387\">«analysis»</text><text fill=\"#000000\" font-family=\"sans-serif\" font-size=\"12\" lengthAdjust=\"spacingAndGlyphs\" textLength=\"193\" x=\"251.25\" y=\"71.1074\">engineTradeStudy: TradeStudy</text><line style=\"stroke: #383838; stroke-width: 1.5;\" x1=\"249.25\" x2=\"450.25\" y1=\"78.9375\" y2=\"78.9375\"/></a><!--MD5=[60a26617385b1d2d0262a64233df1f8d]\n",
       "class E6--><a href=\"psysml:38fbb285-8167-4e3f-bee3-2164ba524da7\" target=\"_top\" title=\"psysml:38fbb285-8167-4e3f-bee3-2164ba524da7\" xlink:actuate=\"onRequest\" xlink:href=\"psysml:38fbb285-8167-4e3f-bee3-2164ba524da7\" xlink:show=\"new\" xlink:title=\"psysml:38fbb285-8167-4e3f-bee3-2164ba524da7\" xlink:type=\"simple\"><rect fill=\"#FFFFFF\" height=\"45.9375\" id=\"E6\" rx=\"10\" ry=\"10\" style=\"stroke: #383838; stroke-width: 1.5;\" width=\"255\" x=\"87.25\" y=\"164\"/><text fill=\"#000000\" font-family=\"sans-serif\" font-size=\"12\" font-style=\"italic\" lengthAdjust=\"spacingAndGlyphs\" textLength=\"91\" x=\"169.25\" y=\"180.1387\">«requirement»</text><text fill=\"#000000\" font-family=\"sans-serif\" font-size=\"12\" lengthAdjust=\"spacingAndGlyphs\" textLength=\"245\" x=\"90.25\" y=\"194.1074\">tradeStudyObjective: MaximizeObjective</text><line style=\"stroke: #383838; stroke-width: 1.5;\" x1=\"88.25\" x2=\"341.25\" y1=\"201.9375\" y2=\"201.9375\"/></a><!--MD5=[2156ba9850f5573cc1fc38a6a4b2f02b]\n",
       "class E7--><a href=\"psysml:658dce09-b71c-4e6e-94c9-a3c46617ebc8\" target=\"_top\" title=\"psysml:658dce09-b71c-4e6e-94c9-a3c46617ebc8\" xlink:actuate=\"onRequest\" xlink:href=\"psysml:658dce09-b71c-4e6e-94c9-a3c46617ebc8\" xlink:show=\"new\" xlink:title=\"psysml:658dce09-b71c-4e6e-94c9-a3c46617ebc8\" xlink:type=\"simple\"><rect fill=\"#FFFFFF\" height=\"45.9375\" id=\"E7\" rx=\"10\" ry=\"10\" style=\"stroke: #383838; stroke-width: 1.5;\" width=\"116\" x=\"377.75\" y=\"164\"/><text fill=\"#000000\" font-family=\"sans-serif\" font-size=\"12\" font-style=\"italic\" lengthAdjust=\"spacingAndGlyphs\" textLength=\"82\" x=\"394.75\" y=\"180.1387\">«calculation»</text><text fill=\"#000000\" font-family=\"sans-serif\" font-size=\"12\" lengthAdjust=\"spacingAndGlyphs\" textLength=\"110\" x=\"380.75\" y=\"194.1074\">objectiveFunction</text><line style=\"stroke: #383838; stroke-width: 1.5;\" x1=\"378.75\" x2=\"492.75\" y1=\"201.9375\" y2=\"201.9375\"/></a><!--MD5=[b9389687b975829384b498ac4b7476b2]\n",
       "class E8--><a href=\"psysml:3dbf099d-922d-4ace-9ccd-679bba93319b\" target=\"_top\" title=\"psysml:3dbf099d-922d-4ace-9ccd-679bba93319b\" xlink:actuate=\"onRequest\" xlink:href=\"psysml:3dbf099d-922d-4ace-9ccd-679bba93319b\" xlink:show=\"new\" xlink:title=\"psysml:3dbf099d-922d-4ace-9ccd-679bba93319b\" xlink:type=\"simple\"><rect fill=\"#FFFFFF\" height=\"45.9375\" id=\"E8\" rx=\"10\" ry=\"10\" style=\"stroke: #383838; stroke-width: 1.5;\" width=\"128\" x=\"71.75\" y=\"316\"/><text fill=\"#000000\" font-family=\"sans-serif\" font-size=\"12\" font-style=\"italic\" lengthAdjust=\"spacingAndGlyphs\" textLength=\"40\" x=\"115.75\" y=\"332.1387\">«part»</text><text fill=\"#000000\" font-family=\"sans-serif\" font-size=\"12\" lengthAdjust=\"spacingAndGlyphs\" textLength=\"118\" x=\"74.75\" y=\"346.1074\">alternative: Engine</text><line style=\"stroke: #383838; stroke-width: 1.5;\" x1=\"72.75\" x2=\"198.75\" y1=\"353.9375\" y2=\"353.9375\"/></a><!--MD5=[fd4143e9d270a159db93a4ea2a975926]\n",
       "class E9--><a href=\"psysml:5fb9bd76-5535-468b-bb8f-88cd6f109fe8\" target=\"_top\" title=\"psysml:5fb9bd76-5535-468b-bb8f-88cd6f109fe8\" xlink:actuate=\"onRequest\" xlink:href=\"psysml:5fb9bd76-5535-468b-bb8f-88cd6f109fe8\" xlink:show=\"new\" xlink:title=\"psysml:5fb9bd76-5535-468b-bb8f-88cd6f109fe8\" xlink:type=\"simple\"><rect fill=\"#FFFFFF\" height=\"45.9375\" id=\"E9\" rx=\"10\" ry=\"10\" style=\"stroke: #383838; stroke-width: 1.5;\" width=\"182\" x=\"297.75\" y=\"240\"/><text fill=\"#000000\" font-family=\"sans-serif\" font-size=\"12\" font-style=\"italic\" lengthAdjust=\"spacingAndGlyphs\" textLength=\"40\" x=\"368.75\" y=\"256.1387\">«part»</text><text fill=\"#000000\" font-family=\"sans-serif\" font-size=\"12\" lengthAdjust=\"spacingAndGlyphs\" textLength=\"172\" x=\"300.75\" y=\"270.1074\">selectedAlternative: Engine</text><line style=\"stroke: #383838; stroke-width: 1.5;\" x1=\"298.75\" x2=\"478.75\" y1=\"277.9375\" y2=\"277.9375\"/></a><!--MD5=[05d275557350bfb9b23a4ef7222b4c39]\n",
       "link E3 to E2--><a href=\"psysml:8b560a74-32d8-45cc-8c0e-f8d7e14b884a\" target=\"_top\" title=\"psysml:8b560a74-32d8-45cc-8c0e-f8d7e14b884a\" xlink:actuate=\"onRequest\" xlink:href=\"psysml:8b560a74-32d8-45cc-8c0e-f8d7e14b884a\" xlink:show=\"new\" xlink:title=\"psysml:8b560a74-32d8-45cc-8c0e-f8d7e14b884a\" xlink:type=\"simple\"><path d=\"M424.65,362.01 C385.12,379.38 330.1,403.55 289.63,421.33 \" fill=\"none\" id=\"E3-&gt;E2\" style=\"stroke: #383838; stroke-width: 1.0;\"/><polygon fill=\"#FFFFFF\" points=\"271.06,429.49,285.6417,415.4411,291.271,428.2594,271.06,429.49\" style=\"stroke: #383838; stroke-width: 1.0;\"/><ellipse cx=\"291.6648\" cy=\"414.9803\" fill=\"#383838\" rx=\"2\" ry=\"2\" style=\"stroke: #383838; stroke-width: 1.0;\"/><ellipse cx=\"295.6858\" cy=\"424.1363\" fill=\"#383838\" rx=\"2\" ry=\"2\" style=\"stroke: #383838; stroke-width: 1.0;\"/></a><!--MD5=[185131fc0dcab0a4505a2ebe144e961b]\n",
       "link E4 to E2--><a href=\"psysml:7f518d85-a598-4692-a186-0ec59d25f08f\" target=\"_top\" title=\"psysml:7f518d85-a598-4692-a186-0ec59d25f08f\" xlink:actuate=\"onRequest\" xlink:href=\"psysml:7f518d85-a598-4692-a186-0ec59d25f08f\" xlink:show=\"new\" xlink:title=\"psysml:7f518d85-a598-4692-a186-0ec59d25f08f\" xlink:type=\"simple\"><path d=\"M308.46,362.01 C297.01,375.08 282.18,392.01 268.89,407.17 \" fill=\"none\" id=\"E4-&gt;E2\" style=\"stroke: #383838; stroke-width: 1.0;\"/><polygon fill=\"#FFFFFF\" points=\"255.33,422.66,262.5901,403.7578,273.1181,412.9861,255.33,422.66\" style=\"stroke: #383838; stroke-width: 1.0;\"/><ellipse cx=\"267.8513\" cy=\"400.7898\" fill=\"#383838\" rx=\"2\" ry=\"2\" style=\"stroke: #383838; stroke-width: 1.0;\"/><ellipse cx=\"275.3713\" cy=\"407.3814\" fill=\"#383838\" rx=\"2\" ry=\"2\" style=\"stroke: #383838; stroke-width: 1.0;\"/></a><!--MD5=[15ebcb19ae302d9b601edb458606d402]\n",
       "link E5 to E2--><a href=\"psysml:8e91b88f-f820-4b3f-bc7b-6a32144645a0\" target=\"_top\" title=\"psysml:8e91b88f-f820-4b3f-bc7b-6a32144645a0\" xlink:actuate=\"onRequest\" xlink:href=\"psysml:8e91b88f-f820-4b3f-bc7b-6a32144645a0\" xlink:show=\"new\" xlink:title=\"psysml:8e91b88f-f820-4b3f-bc7b-6a32144645a0\" xlink:type=\"simple\"><path d=\"M248.05,74.19 C186.69,85.36 112.38,109.96 69.75,164 C15.07,233.32 6,287.74 53.75,362 C84.89,410.42 152.01,430.93 195.46,439.38 \" fill=\"none\" id=\"E5-&gt;E2\" style=\"stroke: #383838; stroke-width: 1.0; stroke-dasharray: 7.0,7.0;\"/><polygon fill=\"#383838\" points=\"200.63,440.35,192.5135,434.7713,195.7143,439.4355,191.0502,442.6363,200.63,440.35\" style=\"stroke: #383838; stroke-width: 1.0;\"/><text fill=\"#000000\" font-family=\"sans-serif\" font-size=\"13\" lengthAdjust=\"spacingAndGlyphs\" textLength=\"62\" x=\"28.75\" y=\"267.5669\">«subject»</text></a><!--MD5=[9120cf2e5df3bff93db8f754bbbc09b4]\n",
       "link E5 to E6--><a href=\"psysml:a6ebdbd2-b0f8-4e64-baff-f91dc99eb3fc\" target=\"_top\" title=\"psysml:a6ebdbd2-b0f8-4e64-baff-f91dc99eb3fc\" xlink:actuate=\"onRequest\" xlink:href=\"psysml:a6ebdbd2-b0f8-4e64-baff-f91dc99eb3fc\" xlink:show=\"new\" xlink:title=\"psysml:a6ebdbd2-b0f8-4e64-baff-f91dc99eb3fc\" xlink:type=\"simple\"><path d=\"M324.99,87.19 C302.63,107.23 269.64,136.8 245.58,158.37 \" fill=\"none\" id=\"E5-&gt;E6\" style=\"stroke: #383838; stroke-width: 1.0;\"/><polygon fill=\"#383838\" points=\"239.35,163.95,247.3086,160.8419,243.3025,156.3752,239.35,163.95\" style=\"stroke: #383838; stroke-width: 1.0;\"/><text fill=\"#000000\" font-family=\"sans-serif\" font-size=\"13\" lengthAdjust=\"spacingAndGlyphs\" textLength=\"73\" x=\"290.75\" y=\"130.0669\">«objective»</text></a><!--MD5=[452b418e7f8a40397a49b8c0a78acc5b]\n",
       "reverse link E5 to E7--><a href=\"psysml:1d968e51-2f45-472a-9c8d-b659e8169068\" target=\"_top\" title=\"psysml:1d968e51-2f45-472a-9c8d-b659e8169068\" xlink:actuate=\"onRequest\" xlink:href=\"psysml:1d968e51-2f45-472a-9c8d-b659e8169068\" xlink:show=\"new\" xlink:title=\"psysml:1d968e51-2f45-472a-9c8d-b659e8169068\" xlink:type=\"simple\"><path d=\"M373.12,97.88 C388.03,118.86 406.95,145.48 420.08,163.95 \" fill=\"none\" id=\"E5&lt;-E7\" style=\"stroke: #383838; stroke-width: 1.0;\"/><polygon fill=\"#383838\" points=\"365.52,87.19,365.7442,94.3976,372.4836,96.9628,372.2594,89.7552,365.52,87.19\" style=\"stroke: #383838; stroke-width: 1.0;\"/></a><!--MD5=[dc164f5e8a733ab456ef1add180e9e34]\n",
       "reverse link E7 to E8--><a href=\"psysml:762eee8a-df65-48ef-8994-f8166e9b75f6\" target=\"_top\" title=\"psysml:762eee8a-df65-48ef-8994-f8166e9b75f6\" xlink:actuate=\"onRequest\" xlink:href=\"psysml:762eee8a-df65-48ef-8994-f8166e9b75f6\" xlink:show=\"new\" xlink:title=\"psysml:762eee8a-df65-48ef-8994-f8166e9b75f6\" xlink:type=\"simple\"><path d=\"M365.14,209.66 C331.9,220.26 296.21,232.36 280.75,240 C237.3,261.47 191.71,294.23 163.51,315.88 \" fill=\"none\" id=\"E7&lt;-E8\" style=\"stroke: #383838; stroke-width: 1.0;\"/><polygon fill=\"#FFFFFF\" points=\"377.71,205.68,370.7821,203.6789,366.2704,209.3043,373.1983,211.3053,377.71,205.68\" style=\"stroke: #383838; stroke-width: 1.0;\"/><text fill=\"#000000\" font-family=\"sans-serif\" font-size=\"13\" lengthAdjust=\"spacingAndGlyphs\" textLength=\"8\" x=\"161.8955\" y=\"304.744\">1</text></a><!--MD5=[f1f3f9f2fc535e6147756cb86a7f2e32]\n",
       "link E8 to E2--><a href=\"psysml:b4a53d37-cc69-46b7-9c1e-d748cdbb7a31\" target=\"_top\" title=\"psysml:b4a53d37-cc69-46b7-9c1e-d748cdbb7a31\" xlink:actuate=\"onRequest\" xlink:href=\"psysml:b4a53d37-cc69-46b7-9c1e-d748cdbb7a31\" xlink:show=\"new\" xlink:title=\"psysml:b4a53d37-cc69-46b7-9c1e-d748cdbb7a31\" xlink:type=\"simple\"><path d=\"M156.71,362.01 C169.43,375.36 185.98,392.74 200.64,408.14 \" fill=\"none\" id=\"E8-&gt;E2\" style=\"stroke: #383838; stroke-width: 1.0;\"/><polygon fill=\"#FFFFFF\" points=\"214.47,422.66,196.3009,413.7223,206.4424,404.0708,214.47,422.66\" style=\"stroke: #383838; stroke-width: 1.0;\"/><ellipse cx=\"193.8202\" cy=\"408.2144\" fill=\"#383838\" rx=\"2\" ry=\"2\" style=\"stroke: #383838; stroke-width: 1.0;\"/><ellipse cx=\"201.0641\" cy=\"401.3206\" fill=\"#383838\" rx=\"2\" ry=\"2\" style=\"stroke: #383838; stroke-width: 1.0;\"/></a><!--MD5=[9ae28de373ca99bb8a1b38d63370ca7e]\n",
       "reverse link E5 to E9--><a href=\"psysml:b337f31d-c5a0-436f-953f-431d96e2f8f6\" target=\"_top\" title=\"psysml:b337f31d-c5a0-436f-953f-431d96e2f8f6\" xlink:actuate=\"onRequest\" xlink:href=\"psysml:b337f31d-c5a0-436f-953f-431d96e2f8f6\" xlink:show=\"new\" xlink:title=\"psysml:b337f31d-c5a0-436f-953f-431d96e2f8f6\" xlink:type=\"simple\"><path d=\"M427.82,92.73 C459.8,108.4 493.52,131.5 511.75,164 C521.75,181.83 523.05,192.96 511.75,210 C503.17,222.95 490.65,232.68 476.85,239.99 \" fill=\"none\" id=\"E5&lt;-E9\" style=\"stroke: #383838; stroke-width: 1.0;\"/><polygon fill=\"#FFFFFF\" points=\"415.69,87.08,419.4417,93.2383,426.5692,92.1438,422.8176,85.9855,415.69,87.08\" style=\"stroke: #383838; stroke-width: 1.0;\"/><text fill=\"#000000\" font-family=\"sans-serif\" font-size=\"13\" lengthAdjust=\"spacingAndGlyphs\" textLength=\"8\" x=\"487.2469\" y=\"230.4042\">1</text></a><!--MD5=[5c3bb36fe832a92c7f0e1807dd65209d]\n",
       "link E9 to E2--><a href=\"psysml:a6a00959-a343-466b-bcfe-643c8c056808\" target=\"_top\" title=\"psysml:a6a00959-a343-466b-bcfe-643c8c056808\" xlink:actuate=\"onRequest\" xlink:href=\"psysml:a6a00959-a343-466b-bcfe-643c8c056808\" xlink:show=\"new\" xlink:title=\"psysml:a6a00959-a343-466b-bcfe-643c8c056808\" xlink:type=\"simple\"><path d=\"M297.61,284.36 C281.24,291.84 265.88,302.05 254.75,316 C235.48,340.16 231.36,375.23 231.71,402.71 \" fill=\"none\" id=\"E9-&gt;E2\" style=\"stroke: #383838; stroke-width: 1.0;\"/><polygon fill=\"#FFFFFF\" points=\"232.74,422.77,224.772,404.1552,238.7535,403.4351,232.74,422.77\" style=\"stroke: #383838; stroke-width: 1.0;\"/><ellipse cx=\"226.4762\" cy=\"398.3599\" fill=\"#383838\" rx=\"2\" ry=\"2\" style=\"stroke: #383838; stroke-width: 1.0;\"/><ellipse cx=\"236.463\" cy=\"397.8455\" fill=\"#383838\" rx=\"2\" ry=\"2\" style=\"stroke: #383838; stroke-width: 1.0;\"/></a><!--MD5=[6f12d1faeca19af4f8cd7513ec3e2c2f]\n",
       "@startuml\r\n",
       "skinparam monochrome true\r\n",
       "skinparam classbackgroundcolor white\r\n",
       "skinparam shadowing false\r\n",
       "skinparam wrapWidth 300\r\n",
       "hide circle\r\n",
       "\r\n",
       "package \"TradeStudyTest\" as E1  [[psysml:57f8a98c-5718-48d8-9b9a-5c4650640602 ]]  {\r\n",
       "comp def \"Engine\" as E2  <<(T,blue) part  def>> [[psysml:6445380e-76a1-4d64-a2e6-1c63aec68392 ]] {\r\n",
       "}\r\n",
       "comp usage \"engine1: Engine \" as E3  <<(T,blue) part>> [[psysml:e07cfc3f-c273-4e94-9cbe-d128d50ec860 ]] {\r\n",
       "}\r\n",
       "comp usage \"engine2: Engine \" as E4  <<(T,blue) part>> [[psysml:d9e10f1c-39bd-473d-af93-7c118d42db3b ]] {\r\n",
       "}\r\n",
       "comp usage \"engineTradeStudy: TradeStudy \" as E5 << analysis>> [[psysml:f9c838ee-65e7-4043-9f07-1b30ef92e49c ]] {\r\n",
       "}\r\n",
       "comp usage \"tradeStudyObjective: MaximizeObjective \" as E6  <<(T,blue) requirement>> [[psysml:38fbb285-8167-4e3f-bee3-2164ba524da7 ]] {\r\n",
       "}\r\n",
       "comp usage \"objectiveFunction\" as E7  <<(T,blue) calculation>> [[psysml:658dce09-b71c-4e6e-94c9-a3c46617ebc8 ]] {\r\n",
       "}\r\n",
       "comp usage \"alternative: Engine \" as E8  <<(T,blue) part>> [[psysml:3dbf099d-922d-4ace-9ccd-679bba93319b ]] {\r\n",
       "}\r\n",
       "comp usage \"selectedAlternative: Engine \" as E9  <<(T,blue) part>> [[psysml:5fb9bd76-5535-468b-bb8f-88cd6f109fe8 ]] {\r\n",
       "}\r\n",
       "}\r\n",
       "E3 - -:|> E2 [[psysml:8b560a74-32d8-45cc-8c0e-f8d7e14b884a ]] \r\n",
       "E4 - -:|> E2 [[psysml:7f518d85-a598-4692-a186-0ec59d25f08f ]] \r\n",
       "E5 ..> E2 [[psysml:8e91b88f-f820-4b3f-bc7b-6a32144645a0 ]] : <<subject>>\r\n",
       "E5 - ->> E6 [[psysml:a6ebdbd2-b0f8-4e64-baff-f91dc99eb3fc ]] : <<objective>>\r\n",
       "E5 *- - E7 [[psysml:1d968e51-2f45-472a-9c8d-b659e8169068 ]] \r\n",
       "E7 o- - \"1\"E8 [[psysml:762eee8a-df65-48ef-8994-f8166e9b75f6 ]] \r\n",
       "E8 - -:|> E2 [[psysml:b4a53d37-cc69-46b7-9c1e-d748cdbb7a31 ]] \r\n",
       "E5 o- - \"1\"E9 [[psysml:b337f31d-c5a0-436f-953f-431d96e2f8f6 ]] \r\n",
       "E9 - -:|> E2 [[psysml:a6a00959-a343-466b-bcfe-643c8c056808 ]] \r\n",
       "@enduml\r\n",
       "\n",
       "PlantUML version 1.2020.13(Sat Jun 13 12:26:38 UTC 2020)\n",
       "(EPL source distribution)\n",
       "Java Runtime: OpenJDK Runtime Environment\n",
       "JVM: OpenJDK 64-Bit Server VM\n",
       "Default Encoding: UTF-8\n",
       "Language: en\n",
       "Country: null\n",
       "--></g></svg>"
      ]
     },
     "execution_count": 37,
     "metadata": {},
     "output_type": "execute_result"
    }
   ],
   "source": [
    "%viz --style=\"DEFAULT\" --view=\"Default\" \"TradeStudyTest\""
   ]
  },
  {
   "cell_type": "code",
   "execution_count": 38,
   "id": "cf69a1f9",
   "metadata": {
    "execution": {
     "iopub.execute_input": "2021-11-13T13:01:41.178409Z",
     "iopub.status.busy": "2021-11-13T13:01:41.177989Z",
     "iopub.status.idle": "2021-11-13T13:01:41.216964Z",
     "shell.execute_reply": "2021-11-13T13:01:41.216597Z"
    }
   },
   "outputs": [
    {
     "data": {
      "image/svg+xml": [
       "<?xml version=\"1.0\" encoding=\"UTF-8\" standalone=\"no\"?><svg xmlns=\"http://www.w3.org/2000/svg\" xmlns:xlink=\"http://www.w3.org/1999/xlink\" contentScriptType=\"application/ecmascript\" contentStyleType=\"text/css\" height=\"497px\" preserveAspectRatio=\"none\" style=\"width:568px;height:497px;\" version=\"1.1\" viewBox=\"0 0 568 497\" width=\"568px\" zoomAndPan=\"magnify\"><defs/><g><!--MD5=[fbc87193dbaf4d95561dea2c320d4a47]\n",
       "cluster E1--><a href=\"psysml:57f8a98c-5718-48d8-9b9a-5c4650640602\" target=\"_top\" title=\"psysml:57f8a98c-5718-48d8-9b9a-5c4650640602\" xlink:actuate=\"onRequest\" xlink:href=\"psysml:57f8a98c-5718-48d8-9b9a-5c4650640602\" xlink:show=\"new\" xlink:title=\"psysml:57f8a98c-5718-48d8-9b9a-5c4650640602\" xlink:type=\"simple\"><polygon fill=\"#FFFFFF\" points=\"18.75,6,134.75,6,141.75,28.2969,546.75,28.2969,546.75,485,18.75,485,18.75,6\" style=\"stroke: #000000; stroke-width: 1.5;\"/><line style=\"stroke: #000000; stroke-width: 1.5;\" x1=\"18.75\" x2=\"141.75\" y1=\"28.2969\" y2=\"28.2969\"/><text fill=\"#000000\" font-family=\"sans-serif\" font-size=\"14\" font-weight=\"bold\" lengthAdjust=\"spacingAndGlyphs\" textLength=\"110\" x=\"22.75\" y=\"20.9951\">TradeStudyTest</text></a><!--MD5=[b4997ac47864f28c2f74865a473b2911]\n",
       "class E2--><a href=\"psysml:6445380e-76a1-4d64-a2e6-1c63aec68392\" target=\"_top\" title=\"psysml:6445380e-76a1-4d64-a2e6-1c63aec68392\" xlink:actuate=\"onRequest\" xlink:href=\"psysml:6445380e-76a1-4d64-a2e6-1c63aec68392\" xlink:show=\"new\" xlink:title=\"psysml:6445380e-76a1-4d64-a2e6-1c63aec68392\" xlink:type=\"simple\"><rect fill=\"#FFFFFF\" height=\"45.9375\" id=\"E2\" style=\"stroke: #383838; stroke-width: 1.5;\" width=\"70\" x=\"200.75\" y=\"423\"/><text fill=\"#000000\" font-family=\"sans-serif\" font-size=\"12\" font-style=\"italic\" lengthAdjust=\"spacingAndGlyphs\" textLength=\"68\" x=\"201.75\" y=\"439.1387\">«part  def»</text><text fill=\"#000000\" font-family=\"sans-serif\" font-size=\"12\" lengthAdjust=\"spacingAndGlyphs\" textLength=\"43\" x=\"214.25\" y=\"453.1074\">Engine</text><line style=\"stroke: #383838; stroke-width: 1.5;\" x1=\"201.75\" x2=\"269.75\" y1=\"460.9375\" y2=\"460.9375\"/></a><!--MD5=[09b614a08d8cba4a07c9adeb5e0fee81]\n",
       "class E3--><a href=\"psysml:e07cfc3f-c273-4e94-9cbe-d128d50ec860\" target=\"_top\" title=\"psysml:e07cfc3f-c273-4e94-9cbe-d128d50ec860\" xlink:actuate=\"onRequest\" xlink:href=\"psysml:e07cfc3f-c273-4e94-9cbe-d128d50ec860\" xlink:show=\"new\" xlink:title=\"psysml:e07cfc3f-c273-4e94-9cbe-d128d50ec860\" xlink:type=\"simple\"><rect fill=\"#FFFFFF\" height=\"45.9375\" id=\"E3\" rx=\"10\" ry=\"10\" style=\"stroke: #383838; stroke-width: 1.5;\" width=\"112\" x=\"418.75\" y=\"316\"/><text fill=\"#000000\" font-family=\"sans-serif\" font-size=\"12\" font-style=\"italic\" lengthAdjust=\"spacingAndGlyphs\" textLength=\"40\" x=\"454.75\" y=\"332.1387\">«part»</text><text fill=\"#000000\" font-family=\"sans-serif\" font-size=\"12\" lengthAdjust=\"spacingAndGlyphs\" textLength=\"102\" x=\"421.75\" y=\"346.1074\">engine1: Engine</text><line style=\"stroke: #383838; stroke-width: 1.5;\" x1=\"419.75\" x2=\"529.75\" y1=\"353.9375\" y2=\"353.9375\"/></a><!--MD5=[ebbe1d658d1005bcc118a6aa81145e00]\n",
       "class E4--><a href=\"psysml:d9e10f1c-39bd-473d-af93-7c118d42db3b\" target=\"_top\" title=\"psysml:d9e10f1c-39bd-473d-af93-7c118d42db3b\" xlink:actuate=\"onRequest\" xlink:href=\"psysml:d9e10f1c-39bd-473d-af93-7c118d42db3b\" xlink:show=\"new\" xlink:title=\"psysml:d9e10f1c-39bd-473d-af93-7c118d42db3b\" xlink:type=\"simple\"><rect fill=\"#FFFFFF\" height=\"45.9375\" id=\"E4\" rx=\"10\" ry=\"10\" style=\"stroke: #383838; stroke-width: 1.5;\" width=\"112\" x=\"271.75\" y=\"316\"/><text fill=\"#000000\" font-family=\"sans-serif\" font-size=\"12\" font-style=\"italic\" lengthAdjust=\"spacingAndGlyphs\" textLength=\"40\" x=\"307.75\" y=\"332.1387\">«part»</text><text fill=\"#000000\" font-family=\"sans-serif\" font-size=\"12\" lengthAdjust=\"spacingAndGlyphs\" textLength=\"102\" x=\"274.75\" y=\"346.1074\">engine2: Engine</text><line style=\"stroke: #383838; stroke-width: 1.5;\" x1=\"272.75\" x2=\"382.75\" y1=\"353.9375\" y2=\"353.9375\"/></a><!--MD5=[270fce915f116d4de14055a7c1d9a0f3]\n",
       "class E5--><a href=\"psysml:f9c838ee-65e7-4043-9f07-1b30ef92e49c\" target=\"_top\" title=\"psysml:f9c838ee-65e7-4043-9f07-1b30ef92e49c\" xlink:actuate=\"onRequest\" xlink:href=\"psysml:f9c838ee-65e7-4043-9f07-1b30ef92e49c\" xlink:show=\"new\" xlink:title=\"psysml:f9c838ee-65e7-4043-9f07-1b30ef92e49c\" xlink:type=\"simple\"><rect fill=\"#FFFFFF\" height=\"45.9375\" id=\"E5\" rx=\"10\" ry=\"10\" style=\"stroke: #383838; stroke-width: 1.5;\" width=\"203\" x=\"248.25\" y=\"41\"/><text fill=\"#000000\" font-family=\"sans-serif\" font-size=\"12\" font-style=\"italic\" lengthAdjust=\"spacingAndGlyphs\" textLength=\"64\" x=\"317.75\" y=\"57.1387\">«analysis»</text><text fill=\"#000000\" font-family=\"sans-serif\" font-size=\"12\" lengthAdjust=\"spacingAndGlyphs\" textLength=\"193\" x=\"251.25\" y=\"71.1074\">engineTradeStudy: TradeStudy</text><line style=\"stroke: #383838; stroke-width: 1.5;\" x1=\"249.25\" x2=\"450.25\" y1=\"78.9375\" y2=\"78.9375\"/></a><!--MD5=[60a26617385b1d2d0262a64233df1f8d]\n",
       "class E6--><a href=\"psysml:38fbb285-8167-4e3f-bee3-2164ba524da7\" target=\"_top\" title=\"psysml:38fbb285-8167-4e3f-bee3-2164ba524da7\" xlink:actuate=\"onRequest\" xlink:href=\"psysml:38fbb285-8167-4e3f-bee3-2164ba524da7\" xlink:show=\"new\" xlink:title=\"psysml:38fbb285-8167-4e3f-bee3-2164ba524da7\" xlink:type=\"simple\"><rect fill=\"#FFFFFF\" height=\"45.9375\" id=\"E6\" rx=\"10\" ry=\"10\" style=\"stroke: #383838; stroke-width: 1.5;\" width=\"255\" x=\"87.25\" y=\"164\"/><text fill=\"#000000\" font-family=\"sans-serif\" font-size=\"12\" font-style=\"italic\" lengthAdjust=\"spacingAndGlyphs\" textLength=\"91\" x=\"169.25\" y=\"180.1387\">«requirement»</text><text fill=\"#000000\" font-family=\"sans-serif\" font-size=\"12\" lengthAdjust=\"spacingAndGlyphs\" textLength=\"245\" x=\"90.25\" y=\"194.1074\">tradeStudyObjective: MaximizeObjective</text><line style=\"stroke: #383838; stroke-width: 1.5;\" x1=\"88.25\" x2=\"341.25\" y1=\"201.9375\" y2=\"201.9375\"/></a><!--MD5=[2156ba9850f5573cc1fc38a6a4b2f02b]\n",
       "class E7--><a href=\"psysml:658dce09-b71c-4e6e-94c9-a3c46617ebc8\" target=\"_top\" title=\"psysml:658dce09-b71c-4e6e-94c9-a3c46617ebc8\" xlink:actuate=\"onRequest\" xlink:href=\"psysml:658dce09-b71c-4e6e-94c9-a3c46617ebc8\" xlink:show=\"new\" xlink:title=\"psysml:658dce09-b71c-4e6e-94c9-a3c46617ebc8\" xlink:type=\"simple\"><rect fill=\"#FFFFFF\" height=\"45.9375\" id=\"E7\" rx=\"10\" ry=\"10\" style=\"stroke: #383838; stroke-width: 1.5;\" width=\"116\" x=\"377.75\" y=\"164\"/><text fill=\"#000000\" font-family=\"sans-serif\" font-size=\"12\" font-style=\"italic\" lengthAdjust=\"spacingAndGlyphs\" textLength=\"82\" x=\"394.75\" y=\"180.1387\">«calculation»</text><text fill=\"#000000\" font-family=\"sans-serif\" font-size=\"12\" lengthAdjust=\"spacingAndGlyphs\" textLength=\"110\" x=\"380.75\" y=\"194.1074\">objectiveFunction</text><line style=\"stroke: #383838; stroke-width: 1.5;\" x1=\"378.75\" x2=\"492.75\" y1=\"201.9375\" y2=\"201.9375\"/></a><!--MD5=[b9389687b975829384b498ac4b7476b2]\n",
       "class E8--><a href=\"psysml:3dbf099d-922d-4ace-9ccd-679bba93319b\" target=\"_top\" title=\"psysml:3dbf099d-922d-4ace-9ccd-679bba93319b\" xlink:actuate=\"onRequest\" xlink:href=\"psysml:3dbf099d-922d-4ace-9ccd-679bba93319b\" xlink:show=\"new\" xlink:title=\"psysml:3dbf099d-922d-4ace-9ccd-679bba93319b\" xlink:type=\"simple\"><rect fill=\"#FFFFFF\" height=\"45.9375\" id=\"E8\" rx=\"10\" ry=\"10\" style=\"stroke: #383838; stroke-width: 1.5;\" width=\"128\" x=\"71.75\" y=\"316\"/><text fill=\"#000000\" font-family=\"sans-serif\" font-size=\"12\" font-style=\"italic\" lengthAdjust=\"spacingAndGlyphs\" textLength=\"40\" x=\"115.75\" y=\"332.1387\">«part»</text><text fill=\"#000000\" font-family=\"sans-serif\" font-size=\"12\" lengthAdjust=\"spacingAndGlyphs\" textLength=\"118\" x=\"74.75\" y=\"346.1074\">alternative: Engine</text><line style=\"stroke: #383838; stroke-width: 1.5;\" x1=\"72.75\" x2=\"198.75\" y1=\"353.9375\" y2=\"353.9375\"/></a><!--MD5=[fd4143e9d270a159db93a4ea2a975926]\n",
       "class E9--><a href=\"psysml:5fb9bd76-5535-468b-bb8f-88cd6f109fe8\" target=\"_top\" title=\"psysml:5fb9bd76-5535-468b-bb8f-88cd6f109fe8\" xlink:actuate=\"onRequest\" xlink:href=\"psysml:5fb9bd76-5535-468b-bb8f-88cd6f109fe8\" xlink:show=\"new\" xlink:title=\"psysml:5fb9bd76-5535-468b-bb8f-88cd6f109fe8\" xlink:type=\"simple\"><rect fill=\"#FFFFFF\" height=\"45.9375\" id=\"E9\" rx=\"10\" ry=\"10\" style=\"stroke: #383838; stroke-width: 1.5;\" width=\"182\" x=\"297.75\" y=\"240\"/><text fill=\"#000000\" font-family=\"sans-serif\" font-size=\"12\" font-style=\"italic\" lengthAdjust=\"spacingAndGlyphs\" textLength=\"40\" x=\"368.75\" y=\"256.1387\">«part»</text><text fill=\"#000000\" font-family=\"sans-serif\" font-size=\"12\" lengthAdjust=\"spacingAndGlyphs\" textLength=\"172\" x=\"300.75\" y=\"270.1074\">selectedAlternative: Engine</text><line style=\"stroke: #383838; stroke-width: 1.5;\" x1=\"298.75\" x2=\"478.75\" y1=\"277.9375\" y2=\"277.9375\"/></a><!--MD5=[05d275557350bfb9b23a4ef7222b4c39]\n",
       "link E3 to E2--><a href=\"psysml:8b560a74-32d8-45cc-8c0e-f8d7e14b884a\" target=\"_top\" title=\"psysml:8b560a74-32d8-45cc-8c0e-f8d7e14b884a\" xlink:actuate=\"onRequest\" xlink:href=\"psysml:8b560a74-32d8-45cc-8c0e-f8d7e14b884a\" xlink:show=\"new\" xlink:title=\"psysml:8b560a74-32d8-45cc-8c0e-f8d7e14b884a\" xlink:type=\"simple\"><path d=\"M424.65,362.01 C385.12,379.38 330.1,403.55 289.63,421.33 \" fill=\"none\" id=\"E3-&gt;E2\" style=\"stroke: #383838; stroke-width: 1.0;\"/><polygon fill=\"#FFFFFF\" points=\"271.06,429.49,285.6417,415.4411,291.271,428.2594,271.06,429.49\" style=\"stroke: #383838; stroke-width: 1.0;\"/><ellipse cx=\"291.6648\" cy=\"414.9803\" fill=\"#383838\" rx=\"2\" ry=\"2\" style=\"stroke: #383838; stroke-width: 1.0;\"/><ellipse cx=\"295.6858\" cy=\"424.1363\" fill=\"#383838\" rx=\"2\" ry=\"2\" style=\"stroke: #383838; stroke-width: 1.0;\"/></a><!--MD5=[185131fc0dcab0a4505a2ebe144e961b]\n",
       "link E4 to E2--><a href=\"psysml:7f518d85-a598-4692-a186-0ec59d25f08f\" target=\"_top\" title=\"psysml:7f518d85-a598-4692-a186-0ec59d25f08f\" xlink:actuate=\"onRequest\" xlink:href=\"psysml:7f518d85-a598-4692-a186-0ec59d25f08f\" xlink:show=\"new\" xlink:title=\"psysml:7f518d85-a598-4692-a186-0ec59d25f08f\" xlink:type=\"simple\"><path d=\"M308.46,362.01 C297.01,375.08 282.18,392.01 268.89,407.17 \" fill=\"none\" id=\"E4-&gt;E2\" style=\"stroke: #383838; stroke-width: 1.0;\"/><polygon fill=\"#FFFFFF\" points=\"255.33,422.66,262.5901,403.7578,273.1181,412.9861,255.33,422.66\" style=\"stroke: #383838; stroke-width: 1.0;\"/><ellipse cx=\"267.8513\" cy=\"400.7898\" fill=\"#383838\" rx=\"2\" ry=\"2\" style=\"stroke: #383838; stroke-width: 1.0;\"/><ellipse cx=\"275.3713\" cy=\"407.3814\" fill=\"#383838\" rx=\"2\" ry=\"2\" style=\"stroke: #383838; stroke-width: 1.0;\"/></a><!--MD5=[15ebcb19ae302d9b601edb458606d402]\n",
       "link E5 to E2--><a href=\"psysml:8e91b88f-f820-4b3f-bc7b-6a32144645a0\" target=\"_top\" title=\"psysml:8e91b88f-f820-4b3f-bc7b-6a32144645a0\" xlink:actuate=\"onRequest\" xlink:href=\"psysml:8e91b88f-f820-4b3f-bc7b-6a32144645a0\" xlink:show=\"new\" xlink:title=\"psysml:8e91b88f-f820-4b3f-bc7b-6a32144645a0\" xlink:type=\"simple\"><path d=\"M248.05,74.19 C186.69,85.36 112.38,109.96 69.75,164 C15.07,233.32 6,287.74 53.75,362 C84.89,410.42 152.01,430.93 195.46,439.38 \" fill=\"none\" id=\"E5-&gt;E2\" style=\"stroke: #383838; stroke-width: 1.0; stroke-dasharray: 7.0,7.0;\"/><polygon fill=\"#383838\" points=\"200.63,440.35,192.5135,434.7713,195.7143,439.4355,191.0502,442.6363,200.63,440.35\" style=\"stroke: #383838; stroke-width: 1.0;\"/><text fill=\"#000000\" font-family=\"sans-serif\" font-size=\"13\" lengthAdjust=\"spacingAndGlyphs\" textLength=\"62\" x=\"28.75\" y=\"267.5669\">«subject»</text></a><!--MD5=[9120cf2e5df3bff93db8f754bbbc09b4]\n",
       "link E5 to E6--><a href=\"psysml:a6ebdbd2-b0f8-4e64-baff-f91dc99eb3fc\" target=\"_top\" title=\"psysml:a6ebdbd2-b0f8-4e64-baff-f91dc99eb3fc\" xlink:actuate=\"onRequest\" xlink:href=\"psysml:a6ebdbd2-b0f8-4e64-baff-f91dc99eb3fc\" xlink:show=\"new\" xlink:title=\"psysml:a6ebdbd2-b0f8-4e64-baff-f91dc99eb3fc\" xlink:type=\"simple\"><path d=\"M324.99,87.19 C302.63,107.23 269.64,136.8 245.58,158.37 \" fill=\"none\" id=\"E5-&gt;E6\" style=\"stroke: #383838; stroke-width: 1.0;\"/><polygon fill=\"#383838\" points=\"239.35,163.95,247.3086,160.8419,243.3025,156.3752,239.35,163.95\" style=\"stroke: #383838; stroke-width: 1.0;\"/><text fill=\"#000000\" font-family=\"sans-serif\" font-size=\"13\" lengthAdjust=\"spacingAndGlyphs\" textLength=\"73\" x=\"290.75\" y=\"130.0669\">«objective»</text></a><!--MD5=[452b418e7f8a40397a49b8c0a78acc5b]\n",
       "reverse link E5 to E7--><a href=\"psysml:1d968e51-2f45-472a-9c8d-b659e8169068\" target=\"_top\" title=\"psysml:1d968e51-2f45-472a-9c8d-b659e8169068\" xlink:actuate=\"onRequest\" xlink:href=\"psysml:1d968e51-2f45-472a-9c8d-b659e8169068\" xlink:show=\"new\" xlink:title=\"psysml:1d968e51-2f45-472a-9c8d-b659e8169068\" xlink:type=\"simple\"><path d=\"M373.12,97.88 C388.03,118.86 406.95,145.48 420.08,163.95 \" fill=\"none\" id=\"E5&lt;-E7\" style=\"stroke: #383838; stroke-width: 1.0;\"/><polygon fill=\"#383838\" points=\"365.52,87.19,365.7442,94.3976,372.4836,96.9628,372.2594,89.7552,365.52,87.19\" style=\"stroke: #383838; stroke-width: 1.0;\"/></a><!--MD5=[dc164f5e8a733ab456ef1add180e9e34]\n",
       "reverse link E7 to E8--><a href=\"psysml:762eee8a-df65-48ef-8994-f8166e9b75f6\" target=\"_top\" title=\"psysml:762eee8a-df65-48ef-8994-f8166e9b75f6\" xlink:actuate=\"onRequest\" xlink:href=\"psysml:762eee8a-df65-48ef-8994-f8166e9b75f6\" xlink:show=\"new\" xlink:title=\"psysml:762eee8a-df65-48ef-8994-f8166e9b75f6\" xlink:type=\"simple\"><path d=\"M365.14,209.66 C331.9,220.26 296.21,232.36 280.75,240 C237.3,261.47 191.71,294.23 163.51,315.88 \" fill=\"none\" id=\"E7&lt;-E8\" style=\"stroke: #383838; stroke-width: 1.0;\"/><polygon fill=\"#FFFFFF\" points=\"377.71,205.68,370.7821,203.6789,366.2704,209.3043,373.1983,211.3053,377.71,205.68\" style=\"stroke: #383838; stroke-width: 1.0;\"/><text fill=\"#000000\" font-family=\"sans-serif\" font-size=\"13\" lengthAdjust=\"spacingAndGlyphs\" textLength=\"8\" x=\"161.8955\" y=\"304.744\">1</text></a><!--MD5=[f1f3f9f2fc535e6147756cb86a7f2e32]\n",
       "link E8 to E2--><a href=\"psysml:b4a53d37-cc69-46b7-9c1e-d748cdbb7a31\" target=\"_top\" title=\"psysml:b4a53d37-cc69-46b7-9c1e-d748cdbb7a31\" xlink:actuate=\"onRequest\" xlink:href=\"psysml:b4a53d37-cc69-46b7-9c1e-d748cdbb7a31\" xlink:show=\"new\" xlink:title=\"psysml:b4a53d37-cc69-46b7-9c1e-d748cdbb7a31\" xlink:type=\"simple\"><path d=\"M156.71,362.01 C169.43,375.36 185.98,392.74 200.64,408.14 \" fill=\"none\" id=\"E8-&gt;E2\" style=\"stroke: #383838; stroke-width: 1.0;\"/><polygon fill=\"#FFFFFF\" points=\"214.47,422.66,196.3009,413.7223,206.4424,404.0708,214.47,422.66\" style=\"stroke: #383838; stroke-width: 1.0;\"/><ellipse cx=\"193.8202\" cy=\"408.2144\" fill=\"#383838\" rx=\"2\" ry=\"2\" style=\"stroke: #383838; stroke-width: 1.0;\"/><ellipse cx=\"201.0641\" cy=\"401.3206\" fill=\"#383838\" rx=\"2\" ry=\"2\" style=\"stroke: #383838; stroke-width: 1.0;\"/></a><!--MD5=[9ae28de373ca99bb8a1b38d63370ca7e]\n",
       "reverse link E5 to E9--><a href=\"psysml:b337f31d-c5a0-436f-953f-431d96e2f8f6\" target=\"_top\" title=\"psysml:b337f31d-c5a0-436f-953f-431d96e2f8f6\" xlink:actuate=\"onRequest\" xlink:href=\"psysml:b337f31d-c5a0-436f-953f-431d96e2f8f6\" xlink:show=\"new\" xlink:title=\"psysml:b337f31d-c5a0-436f-953f-431d96e2f8f6\" xlink:type=\"simple\"><path d=\"M427.82,92.73 C459.8,108.4 493.52,131.5 511.75,164 C521.75,181.83 523.05,192.96 511.75,210 C503.17,222.95 490.65,232.68 476.85,239.99 \" fill=\"none\" id=\"E5&lt;-E9\" style=\"stroke: #383838; stroke-width: 1.0;\"/><polygon fill=\"#FFFFFF\" points=\"415.69,87.08,419.4417,93.2383,426.5692,92.1438,422.8176,85.9855,415.69,87.08\" style=\"stroke: #383838; stroke-width: 1.0;\"/><text fill=\"#000000\" font-family=\"sans-serif\" font-size=\"13\" lengthAdjust=\"spacingAndGlyphs\" textLength=\"8\" x=\"487.2469\" y=\"230.4042\">1</text></a><!--MD5=[5c3bb36fe832a92c7f0e1807dd65209d]\n",
       "link E9 to E2--><a href=\"psysml:a6a00959-a343-466b-bcfe-643c8c056808\" target=\"_top\" title=\"psysml:a6a00959-a343-466b-bcfe-643c8c056808\" xlink:actuate=\"onRequest\" xlink:href=\"psysml:a6a00959-a343-466b-bcfe-643c8c056808\" xlink:show=\"new\" xlink:title=\"psysml:a6a00959-a343-466b-bcfe-643c8c056808\" xlink:type=\"simple\"><path d=\"M297.61,284.36 C281.24,291.84 265.88,302.05 254.75,316 C235.48,340.16 231.36,375.23 231.71,402.71 \" fill=\"none\" id=\"E9-&gt;E2\" style=\"stroke: #383838; stroke-width: 1.0;\"/><polygon fill=\"#FFFFFF\" points=\"232.74,422.77,224.772,404.1552,238.7535,403.4351,232.74,422.77\" style=\"stroke: #383838; stroke-width: 1.0;\"/><ellipse cx=\"226.4762\" cy=\"398.3599\" fill=\"#383838\" rx=\"2\" ry=\"2\" style=\"stroke: #383838; stroke-width: 1.0;\"/><ellipse cx=\"236.463\" cy=\"397.8455\" fill=\"#383838\" rx=\"2\" ry=\"2\" style=\"stroke: #383838; stroke-width: 1.0;\"/></a><!--MD5=[6f12d1faeca19af4f8cd7513ec3e2c2f]\n",
       "@startuml\r\n",
       "skinparam monochrome true\r\n",
       "skinparam classbackgroundcolor white\r\n",
       "skinparam shadowing false\r\n",
       "skinparam wrapWidth 300\r\n",
       "hide circle\r\n",
       "\r\n",
       "package \"TradeStudyTest\" as E1  [[psysml:57f8a98c-5718-48d8-9b9a-5c4650640602 ]]  {\r\n",
       "comp def \"Engine\" as E2  <<(T,blue) part  def>> [[psysml:6445380e-76a1-4d64-a2e6-1c63aec68392 ]] {\r\n",
       "}\r\n",
       "comp usage \"engine1: Engine \" as E3  <<(T,blue) part>> [[psysml:e07cfc3f-c273-4e94-9cbe-d128d50ec860 ]] {\r\n",
       "}\r\n",
       "comp usage \"engine2: Engine \" as E4  <<(T,blue) part>> [[psysml:d9e10f1c-39bd-473d-af93-7c118d42db3b ]] {\r\n",
       "}\r\n",
       "comp usage \"engineTradeStudy: TradeStudy \" as E5 << analysis>> [[psysml:f9c838ee-65e7-4043-9f07-1b30ef92e49c ]] {\r\n",
       "}\r\n",
       "comp usage \"tradeStudyObjective: MaximizeObjective \" as E6  <<(T,blue) requirement>> [[psysml:38fbb285-8167-4e3f-bee3-2164ba524da7 ]] {\r\n",
       "}\r\n",
       "comp usage \"objectiveFunction\" as E7  <<(T,blue) calculation>> [[psysml:658dce09-b71c-4e6e-94c9-a3c46617ebc8 ]] {\r\n",
       "}\r\n",
       "comp usage \"alternative: Engine \" as E8  <<(T,blue) part>> [[psysml:3dbf099d-922d-4ace-9ccd-679bba93319b ]] {\r\n",
       "}\r\n",
       "comp usage \"selectedAlternative: Engine \" as E9  <<(T,blue) part>> [[psysml:5fb9bd76-5535-468b-bb8f-88cd6f109fe8 ]] {\r\n",
       "}\r\n",
       "}\r\n",
       "E3 - -:|> E2 [[psysml:8b560a74-32d8-45cc-8c0e-f8d7e14b884a ]] \r\n",
       "E4 - -:|> E2 [[psysml:7f518d85-a598-4692-a186-0ec59d25f08f ]] \r\n",
       "E5 ..> E2 [[psysml:8e91b88f-f820-4b3f-bc7b-6a32144645a0 ]] : <<subject>>\r\n",
       "E5 - ->> E6 [[psysml:a6ebdbd2-b0f8-4e64-baff-f91dc99eb3fc ]] : <<objective>>\r\n",
       "E5 *- - E7 [[psysml:1d968e51-2f45-472a-9c8d-b659e8169068 ]] \r\n",
       "E7 o- - \"1\"E8 [[psysml:762eee8a-df65-48ef-8994-f8166e9b75f6 ]] \r\n",
       "E8 - -:|> E2 [[psysml:b4a53d37-cc69-46b7-9c1e-d748cdbb7a31 ]] \r\n",
       "E5 o- - \"1\"E9 [[psysml:b337f31d-c5a0-436f-953f-431d96e2f8f6 ]] \r\n",
       "E9 - -:|> E2 [[psysml:a6a00959-a343-466b-bcfe-643c8c056808 ]] \r\n",
       "@enduml\r\n",
       "\n",
       "PlantUML version 1.2020.13(Sat Jun 13 12:26:38 UTC 2020)\n",
       "(EPL source distribution)\n",
       "Java Runtime: OpenJDK Runtime Environment\n",
       "JVM: OpenJDK 64-Bit Server VM\n",
       "Default Encoding: UTF-8\n",
       "Language: en\n",
       "Country: null\n",
       "--></g></svg>"
      ]
     },
     "execution_count": 38,
     "metadata": {},
     "output_type": "execute_result"
    }
   ],
   "source": [
    "%viz --style=\"DEFAULT\" --view=\"Tree\" \"TradeStudyTest\""
   ]
  },
  {
   "cell_type": "code",
   "execution_count": 39,
   "id": "293941bf",
   "metadata": {
    "execution": {
     "iopub.execute_input": "2021-11-13T13:01:41.265794Z",
     "iopub.status.busy": "2021-11-13T13:01:41.265393Z",
     "iopub.status.idle": "2021-11-13T13:01:41.270461Z",
     "shell.execute_reply": "2021-11-13T13:01:41.270054Z"
    }
   },
   "outputs": [
    {
     "data": {
      "image/svg+xml": [
       "<?xml version=\"1.0\" encoding=\"UTF-8\" standalone=\"no\"?><svg xmlns=\"http://www.w3.org/2000/svg\" xmlns:xlink=\"http://www.w3.org/1999/xlink\" contentScriptType=\"application/ecmascript\" contentStyleType=\"text/css\" height=\"12px\" preserveAspectRatio=\"none\" style=\"width:12px;height:12px;\" version=\"1.1\" viewBox=\"0 0 12 12\" width=\"12px\" zoomAndPan=\"magnify\"><defs/><g><!--MD5=[c5f280e076d0d61ccf4b0f27871bda1d]\n",
       "@startuml\r\n",
       "skinparam monochrome true\r\n",
       "skinparam classbackgroundcolor white\r\n",
       "skinparam shadowing false\r\n",
       "skinparam wrapWidth 300\r\n",
       "hide circle\r\n",
       "\r\n",
       "@enduml\r\n",
       "\n",
       "PlantUML version 1.2020.13(Sat Jun 13 12:26:38 UTC 2020)\n",
       "(EPL source distribution)\n",
       "Java Runtime: OpenJDK Runtime Environment\n",
       "JVM: OpenJDK 64-Bit Server VM\n",
       "Default Encoding: UTF-8\n",
       "Language: en\n",
       "Country: null\n",
       "--></g></svg>"
      ]
     },
     "execution_count": 39,
     "metadata": {},
     "output_type": "execute_result"
    }
   ],
   "source": [
    "%viz --style=\"DEFAULT\" --view=\"State\" \"TradeStudyTest\""
   ]
  },
  {
   "cell_type": "code",
   "execution_count": 40,
   "id": "19b01ba0",
   "metadata": {
    "execution": {
     "iopub.execute_input": "2021-11-13T13:01:41.319741Z",
     "iopub.status.busy": "2021-11-13T13:01:41.319332Z",
     "iopub.status.idle": "2021-11-13T13:01:41.357299Z",
     "shell.execute_reply": "2021-11-13T13:01:41.356945Z"
    }
   },
   "outputs": [
    {
     "data": {
      "image/svg+xml": [
       "<?xml version=\"1.0\" encoding=\"UTF-8\" standalone=\"no\"?><svg xmlns=\"http://www.w3.org/2000/svg\" xmlns:xlink=\"http://www.w3.org/1999/xlink\" contentScriptType=\"application/ecmascript\" contentStyleType=\"text/css\" height=\"334px\" preserveAspectRatio=\"none\" style=\"width:569px;height:334px;\" version=\"1.1\" viewBox=\"0 0 569 334\" width=\"569px\" zoomAndPan=\"magnify\"><defs/><g><!--MD5=[fbc87193dbaf4d95561dea2c320d4a47]\n",
       "cluster E1--><a href=\"psysml:57f8a98c-5718-48d8-9b9a-5c4650640602\" target=\"_top\" title=\"psysml:57f8a98c-5718-48d8-9b9a-5c4650640602\" xlink:actuate=\"onRequest\" xlink:href=\"psysml:57f8a98c-5718-48d8-9b9a-5c4650640602\" xlink:show=\"new\" xlink:title=\"psysml:57f8a98c-5718-48d8-9b9a-5c4650640602\" xlink:type=\"simple\"><polygon fill=\"#FFFFFF\" points=\"16,6,132,6,139,28.2969,547,28.2969,547,322,16,322,16,6\" style=\"stroke: #000000; stroke-width: 1.5;\"/><line style=\"stroke: #000000; stroke-width: 1.5;\" x1=\"16\" x2=\"139\" y1=\"28.2969\" y2=\"28.2969\"/><text fill=\"#000000\" font-family=\"sans-serif\" font-size=\"14\" font-weight=\"bold\" lengthAdjust=\"spacingAndGlyphs\" textLength=\"110\" x=\"20\" y=\"20.9951\">TradeStudyTest</text></a><!--MD5=[270fce915f116d4de14055a7c1d9a0f3]\n",
       "class E5--><a href=\"psysml:f9c838ee-65e7-4043-9f07-1b30ef92e49c\" target=\"_top\" title=\"psysml:f9c838ee-65e7-4043-9f07-1b30ef92e49c\" xlink:actuate=\"onRequest\" xlink:href=\"psysml:f9c838ee-65e7-4043-9f07-1b30ef92e49c\" xlink:show=\"new\" xlink:title=\"psysml:f9c838ee-65e7-4043-9f07-1b30ef92e49c\" xlink:type=\"simple\"><rect fill=\"#FFFFFF\" height=\"45.9375\" id=\"E5\" rx=\"10\" ry=\"10\" style=\"stroke: #383838; stroke-width: 1.5;\" width=\"203\" x=\"328.5\" y=\"41\"/><text fill=\"#000000\" font-family=\"sans-serif\" font-size=\"12\" font-style=\"italic\" lengthAdjust=\"spacingAndGlyphs\" textLength=\"64\" x=\"398\" y=\"57.1387\">«analysis»</text><text fill=\"#000000\" font-family=\"sans-serif\" font-size=\"12\" lengthAdjust=\"spacingAndGlyphs\" textLength=\"193\" x=\"331.5\" y=\"71.1074\">engineTradeStudy: TradeStudy</text><line style=\"stroke: #383838; stroke-width: 1.5;\" x1=\"329.5\" x2=\"530.5\" y1=\"78.9375\" y2=\"78.9375\"/></a><!--MD5=[60a26617385b1d2d0262a64233df1f8d]\n",
       "class E6--><a href=\"psysml:38fbb285-8167-4e3f-bee3-2164ba524da7\" target=\"_top\" title=\"psysml:38fbb285-8167-4e3f-bee3-2164ba524da7\" xlink:actuate=\"onRequest\" xlink:href=\"psysml:38fbb285-8167-4e3f-bee3-2164ba524da7\" xlink:show=\"new\" xlink:title=\"psysml:38fbb285-8167-4e3f-bee3-2164ba524da7\" xlink:type=\"simple\"><rect fill=\"#FFFFFF\" height=\"45.9375\" id=\"E6\" rx=\"10\" ry=\"10\" style=\"stroke: #383838; stroke-width: 1.5;\" width=\"255\" x=\"32.5\" y=\"120\"/><text fill=\"#000000\" font-family=\"sans-serif\" font-size=\"12\" font-style=\"italic\" lengthAdjust=\"spacingAndGlyphs\" textLength=\"91\" x=\"114.5\" y=\"136.1387\">«requirement»</text><text fill=\"#000000\" font-family=\"sans-serif\" font-size=\"12\" lengthAdjust=\"spacingAndGlyphs\" textLength=\"245\" x=\"35.5\" y=\"150.1074\">tradeStudyObjective: MaximizeObjective</text><line style=\"stroke: #383838; stroke-width: 1.5;\" x1=\"33.5\" x2=\"286.5\" y1=\"157.9375\" y2=\"157.9375\"/></a><!--MD5=[2156ba9850f5573cc1fc38a6a4b2f02b]\n",
       "class E7--><a href=\"psysml:658dce09-b71c-4e6e-94c9-a3c46617ebc8\" target=\"_top\" title=\"psysml:658dce09-b71c-4e6e-94c9-a3c46617ebc8\" xlink:actuate=\"onRequest\" xlink:href=\"psysml:658dce09-b71c-4e6e-94c9-a3c46617ebc8\" xlink:show=\"new\" xlink:title=\"psysml:658dce09-b71c-4e6e-94c9-a3c46617ebc8\" xlink:type=\"simple\"><rect fill=\"#FFFFFF\" height=\"45.9375\" id=\"E7\" rx=\"10\" ry=\"10\" style=\"stroke: #383838; stroke-width: 1.5;\" width=\"116\" x=\"323\" y=\"120\"/><text fill=\"#000000\" font-family=\"sans-serif\" font-size=\"12\" font-style=\"italic\" lengthAdjust=\"spacingAndGlyphs\" textLength=\"82\" x=\"340\" y=\"136.1387\">«calculation»</text><text fill=\"#000000\" font-family=\"sans-serif\" font-size=\"12\" lengthAdjust=\"spacingAndGlyphs\" textLength=\"110\" x=\"326\" y=\"150.1074\">objectiveFunction</text><line style=\"stroke: #383838; stroke-width: 1.5;\" x1=\"324\" x2=\"438\" y1=\"157.9375\" y2=\"157.9375\"/></a><!--MD5=[b9389687b975829384b498ac4b7476b2]\n",
       "class E8--><a href=\"psysml:3dbf099d-922d-4ace-9ccd-679bba93319b\" target=\"_top\" title=\"psysml:3dbf099d-922d-4ace-9ccd-679bba93319b\" xlink:actuate=\"onRequest\" xlink:href=\"psysml:3dbf099d-922d-4ace-9ccd-679bba93319b\" xlink:show=\"new\" xlink:title=\"psysml:3dbf099d-922d-4ace-9ccd-679bba93319b\" xlink:type=\"simple\"><rect fill=\"#FFFFFF\" height=\"31.9688\" id=\"E8\" rx=\"10\" ry=\"10\" style=\"stroke: #383838; stroke-width: 1.5;\" width=\"128\" x=\"175\" y=\"214\"/><text fill=\"#000000\" font-family=\"sans-serif\" font-size=\"12\" lengthAdjust=\"spacingAndGlyphs\" textLength=\"118\" x=\"178\" y=\"230.1387\">alternative: Engine</text><line style=\"stroke: #383838; stroke-width: 1.5;\" x1=\"176\" x2=\"302\" y1=\"237.9688\" y2=\"237.9688\"/></a><!--MD5=[fd4143e9d270a159db93a4ea2a975926]\n",
       "class E9--><a href=\"psysml:5fb9bd76-5535-468b-bb8f-88cd6f109fe8\" target=\"_top\" title=\"psysml:5fb9bd76-5535-468b-bb8f-88cd6f109fe8\" xlink:actuate=\"onRequest\" xlink:href=\"psysml:5fb9bd76-5535-468b-bb8f-88cd6f109fe8\" xlink:show=\"new\" xlink:title=\"psysml:5fb9bd76-5535-468b-bb8f-88cd6f109fe8\" xlink:type=\"simple\"><rect fill=\"#FFFFFF\" height=\"31.9688\" id=\"E9\" rx=\"10\" ry=\"10\" style=\"stroke: #383838; stroke-width: 1.5;\" width=\"182\" x=\"245\" y=\"174\"/><text fill=\"#000000\" font-family=\"sans-serif\" font-size=\"12\" lengthAdjust=\"spacingAndGlyphs\" textLength=\"172\" x=\"248\" y=\"190.1387\">selectedAlternative: Engine</text><line style=\"stroke: #383838; stroke-width: 1.5;\" x1=\"246\" x2=\"426\" y1=\"197.9688\" y2=\"197.9688\"/></a><g id=\"E1.E2\"><a href=\"psysml:6445380e-76a1-4d64-a2e6-1c63aec68392\" target=\"_top\" title=\"psysml:6445380e-76a1-4d64-a2e6-1c63aec68392\" xlink:actuate=\"onRequest\" xlink:href=\"psysml:6445380e-76a1-4d64-a2e6-1c63aec68392\" xlink:show=\"new\" xlink:title=\"psysml:6445380e-76a1-4d64-a2e6-1c63aec68392\" xlink:type=\"simple\"><rect fill=\"#FFFFFF\" height=\"42.9375\" id=\"E2\" style=\"stroke: #383838; stroke-width: 1.5;\" width=\"75\" x=\"301.5\" y=\"263\"/><rect fill=\"#F8F8F8\" height=\"37.9375\" style=\"stroke: #383838; stroke-width: 1.5;\" width=\"75\" x=\"301.5\" y=\"263\"/><text fill=\"#000000\" font-family=\"sans-serif\" font-size=\"12\" font-style=\"italic\" lengthAdjust=\"spacingAndGlyphs\" textLength=\"68\" x=\"305\" y=\"279.1387\">«part  def»</text><text fill=\"#000000\" font-family=\"sans-serif\" font-size=\"12\" lengthAdjust=\"spacingAndGlyphs\" textLength=\"43\" x=\"317.5\" y=\"293.1074\">Engine</text></a></g><g id=\"E1.E3\"><a href=\"psysml:e07cfc3f-c273-4e94-9cbe-d128d50ec860\" target=\"_top\" title=\"psysml:e07cfc3f-c273-4e94-9cbe-d128d50ec860\" xlink:actuate=\"onRequest\" xlink:href=\"psysml:e07cfc3f-c273-4e94-9cbe-d128d50ec860\" xlink:show=\"new\" xlink:title=\"psysml:e07cfc3f-c273-4e94-9cbe-d128d50ec860\" xlink:type=\"simple\"><rect fill=\"#FFFFFF\" height=\"40\" id=\"E3\" rx=\"10\" ry=\"10\" style=\"stroke: #383838; stroke-width: 1.5;\" width=\"113\" x=\"180.5\" y=\"44\"/><rect fill=\"#F8F8F8\" height=\"23.9688\" rx=\"10\" ry=\"10\" style=\"stroke: #F8F8F8; stroke-width: 1.5;\" width=\"113\" x=\"180.5\" y=\"44\"/><rect fill=\"#F8F8F8\" height=\"10\" style=\"stroke: #F8F8F8; stroke-width: 1.5;\" width=\"113\" x=\"180.5\" y=\"57.9688\"/><rect fill=\"none\" height=\"40\" id=\"E3\" rx=\"10\" ry=\"10\" style=\"stroke: #383838; stroke-width: 1.5;\" width=\"113\" x=\"180.5\" y=\"44\"/><text fill=\"#000000\" font-family=\"sans-serif\" font-size=\"12\" lengthAdjust=\"spacingAndGlyphs\" textLength=\"102\" x=\"186\" y=\"60.1387\">engine1: Engine</text></a></g><g id=\"E1.E4\"><a href=\"psysml:d9e10f1c-39bd-473d-af93-7c118d42db3b\" target=\"_top\" title=\"psysml:d9e10f1c-39bd-473d-af93-7c118d42db3b\" xlink:actuate=\"onRequest\" xlink:href=\"psysml:d9e10f1c-39bd-473d-af93-7c118d42db3b\" xlink:show=\"new\" xlink:title=\"psysml:d9e10f1c-39bd-473d-af93-7c118d42db3b\" xlink:type=\"simple\"><rect fill=\"#FFFFFF\" height=\"40\" id=\"E4\" rx=\"10\" ry=\"10\" style=\"stroke: #383838; stroke-width: 1.5;\" width=\"113\" x=\"32.5\" y=\"44\"/><rect fill=\"#F8F8F8\" height=\"23.9688\" rx=\"10\" ry=\"10\" style=\"stroke: #F8F8F8; stroke-width: 1.5;\" width=\"113\" x=\"32.5\" y=\"44\"/><rect fill=\"#F8F8F8\" height=\"10\" style=\"stroke: #F8F8F8; stroke-width: 1.5;\" width=\"113\" x=\"32.5\" y=\"57.9688\"/><rect fill=\"none\" height=\"40\" id=\"E4\" rx=\"10\" ry=\"10\" style=\"stroke: #383838; stroke-width: 1.5;\" width=\"113\" x=\"32.5\" y=\"44\"/><text fill=\"#000000\" font-family=\"sans-serif\" font-size=\"12\" lengthAdjust=\"spacingAndGlyphs\" textLength=\"102\" x=\"38\" y=\"60.1387\">engine2: Engine</text></a></g><!--MD5=[15ebcb19ae302d9b601edb458606d402]\n",
       "link E5 to E2--><a href=\"psysml:8e91b88f-f820-4b3f-bc7b-6a32144645a0\" target=\"_top\" title=\"psysml:8e91b88f-f820-4b3f-bc7b-6a32144645a0\" xlink:actuate=\"onRequest\" xlink:href=\"psysml:8e91b88f-f820-4b3f-bc7b-6a32144645a0\" xlink:show=\"new\" xlink:title=\"psysml:8e91b88f-f820-4b3f-bc7b-6a32144645a0\" xlink:type=\"simple\"><path d=\"M457.05,87.04 C459.26,89.57 461.29,92.23 463,95 C479.65,121.98 482.49,136.86 470,166 C452.34,207.22 411.86,239.8 380.54,260.09 \" fill=\"none\" id=\"E5-&gt;E2\" style=\"stroke: #383838; stroke-width: 1.0; stroke-dasharray: 7.0,7.0;\"/><polygon fill=\"#383838\" points=\"375.99,263,385.7259,261.5129,380.2001,260.3027,381.4103,254.7768,375.99,263\" style=\"stroke: #383838; stroke-width: 1.0;\"/><text fill=\"#000000\" font-family=\"sans-serif\" font-size=\"13\" lengthAdjust=\"spacingAndGlyphs\" textLength=\"62\" x=\"467\" y=\"194.5669\">«subject»</text></a><!--MD5=[9120cf2e5df3bff93db8f754bbbc09b4]\n",
       "link E5 to E6--><a href=\"psysml:a6ebdbd2-b0f8-4e64-baff-f91dc99eb3fc\" target=\"_top\" title=\"psysml:a6ebdbd2-b0f8-4e64-baff-f91dc99eb3fc\" xlink:actuate=\"onRequest\" xlink:href=\"psysml:a6ebdbd2-b0f8-4e64-baff-f91dc99eb3fc\" xlink:show=\"new\" xlink:title=\"psysml:a6ebdbd2-b0f8-4e64-baff-f91dc99eb3fc\" xlink:type=\"simple\"><path d=\"M346.75,87.03 C337.05,89.68 327.3,92.37 318,95 C292.78,102.13 265.38,110.17 240.59,117.56 \" fill=\"none\" id=\"E5-&gt;E6\" style=\"stroke: #383838; stroke-width: 1.0;\"/><polygon fill=\"#383838\" points=\"232.64,119.94,241.1649,120.5118,239.4388,114.7654,232.64,119.94\" style=\"stroke: #383838; stroke-width: 1.0;\"/><text fill=\"#000000\" font-family=\"sans-serif\" font-size=\"13\" lengthAdjust=\"spacingAndGlyphs\" textLength=\"73\" x=\"319\" y=\"108.0669\">«objective»</text></a><!--MD5=[452b418e7f8a40397a49b8c0a78acc5b]\n",
       "reverse link E5 to E7--><a href=\"psysml:1d968e51-2f45-472a-9c8d-b659e8169068\" target=\"_top\" title=\"psysml:1d968e51-2f45-472a-9c8d-b659e8169068\" xlink:actuate=\"onRequest\" xlink:href=\"psysml:1d968e51-2f45-472a-9c8d-b659e8169068\" xlink:show=\"new\" xlink:title=\"psysml:1d968e51-2f45-472a-9c8d-b659e8169068\" xlink:type=\"simple\"><path d=\"M408.8,98.32 C404.18,105.57 399.4,113.08 395.14,119.78 \" fill=\"none\" id=\"E5&lt;-E7\" style=\"stroke: #383838; stroke-width: 1.0;\"/><polygon fill=\"#383838\" points=\"415.83,87.27,409.2361,90.1889,409.3943,97.3983,415.9883,94.4794,415.83,87.27\" style=\"stroke: #383838; stroke-width: 1.0;\"/></a><!--MD5=[dc164f5e8a733ab456ef1add180e9e34]\n",
       "reverse link E7 to E8--><a href=\"psysml:762eee8a-df65-48ef-8994-f8166e9b75f6\" target=\"_top\" title=\"psysml:762eee8a-df65-48ef-8994-f8166e9b75f6\" xlink:actuate=\"onRequest\" xlink:href=\"psysml:762eee8a-df65-48ef-8994-f8166e9b75f6\" xlink:show=\"new\" xlink:title=\"psysml:762eee8a-df65-48ef-8994-f8166e9b75f6\" xlink:type=\"simple\"><path d=\"M309.92,164.93 C308.27,165.3 306.63,165.66 305,166 C291.62,168.8 253.47,164.14 244,174 C234.03,184.37 234.03,201.47 235.74,213.85 \" fill=\"none\" id=\"E7&lt;-E8\" style=\"stroke: #383838; stroke-width: 1.0;\"/><polygon fill=\"#FFFFFF\" points=\"322.72,161.84,315.9473,159.364,311.0569,164.6634,317.8296,167.1394,322.72,161.84\" style=\"stroke: #383838; stroke-width: 1.0;\"/><text fill=\"#000000\" font-family=\"sans-serif\" font-size=\"13\" lengthAdjust=\"spacingAndGlyphs\" textLength=\"8\" x=\"225.2444\" y=\"202.8154\">1</text></a><!--MD5=[f1f3f9f2fc535e6147756cb86a7f2e32]\n",
       "link E8 to E2--><a href=\"psysml:b4a53d37-cc69-46b7-9c1e-d748cdbb7a31\" target=\"_top\" title=\"psysml:b4a53d37-cc69-46b7-9c1e-d748cdbb7a31\" xlink:actuate=\"onRequest\" xlink:href=\"psysml:b4a53d37-cc69-46b7-9c1e-d748cdbb7a31\" xlink:show=\"new\" xlink:title=\"psysml:b4a53d37-cc69-46b7-9c1e-d748cdbb7a31\" xlink:type=\"simple\"><path d=\"M267.66,246.04 C272.66,248.67 278.02,251.48 283.46,254.34 \" fill=\"none\" id=\"E8-&gt;E2\" style=\"stroke: #383838; stroke-width: 1.0;\"/><polygon fill=\"#FFFFFF\" points=\"301.38,263.75,281.3045,261.1093,287.8163,248.7159,301.38,263.75\" style=\"stroke: #383838; stroke-width: 1.0;\"/><ellipse cx=\"277.1888\" cy=\"256.6876\" fill=\"#383838\" rx=\"2\" ry=\"2\" style=\"stroke: #383838; stroke-width: 1.0;\"/><ellipse cx=\"281.8401\" cy=\"247.8351\" fill=\"#383838\" rx=\"2\" ry=\"2\" style=\"stroke: #383838; stroke-width: 1.0;\"/></a><!--MD5=[9ae28de373ca99bb8a1b38d63370ca7e]\n",
       "reverse link E5 to E9--><a href=\"psysml:b337f31d-c5a0-436f-953f-431d96e2f8f6\" target=\"_top\" title=\"psysml:b337f31d-c5a0-436f-953f-431d96e2f8f6\" xlink:actuate=\"onRequest\" xlink:href=\"psysml:b337f31d-c5a0-436f-953f-431d96e2f8f6\" xlink:show=\"new\" xlink:title=\"psysml:b337f31d-c5a0-436f-953f-431d96e2f8f6\" xlink:type=\"simple\"><path d=\"M452.81,98.61 C464.24,119.98 472.65,147.1 457,166 C455.59,167.7 442.53,170.69 425.46,173.97 \" fill=\"none\" id=\"E5&lt;-E9\" style=\"stroke: #383838; stroke-width: 1.0;\"/><polygon fill=\"#FFFFFF\" points=\"446.09,87.1,445.6547,94.298,452.1315,97.4682,452.5668,90.2703,446.09,87.1\" style=\"stroke: #383838; stroke-width: 1.0;\"/><text fill=\"#000000\" font-family=\"sans-serif\" font-size=\"13\" lengthAdjust=\"spacingAndGlyphs\" textLength=\"8\" x=\"435.0981\" y=\"185.1657\">1</text></a><!--MD5=[5c3bb36fe832a92c7f0e1807dd65209d]\n",
       "link E9 to E2--><a href=\"psysml:a6a00959-a343-466b-bcfe-643c8c056808\" target=\"_top\" title=\"psysml:a6a00959-a343-466b-bcfe-643c8c056808\" xlink:actuate=\"onRequest\" xlink:href=\"psysml:a6a00959-a343-466b-bcfe-643c8c056808\" xlink:show=\"new\" xlink:title=\"psysml:a6a00959-a343-466b-bcfe-643c8c056808\" xlink:type=\"simple\"><path d=\"M336.5,206.27 C336.82,216.14 337.25,229.48 337.66,242.29 \" fill=\"none\" id=\"E9-&gt;E2\" style=\"stroke: #383838; stroke-width: 1.0;\"/><polygon fill=\"#FFFFFF\" points=\"338.32,262.66,330.7128,243.8949,344.7055,243.4448,338.32,262.66\" style=\"stroke: #383838; stroke-width: 1.0;\"/><ellipse cx=\"332.5285\" cy=\"238.1335\" fill=\"#383838\" rx=\"2\" ry=\"2\" style=\"stroke: #383838; stroke-width: 1.0;\"/><ellipse cx=\"342.5233\" cy=\"237.812\" fill=\"#383838\" rx=\"2\" ry=\"2\" style=\"stroke: #383838; stroke-width: 1.0;\"/></a><!--MD5=[a0f6b837d1b41bc084b5d91931742f98]\n",
       "@startuml\r\n",
       "skinparam ranksep 10\r\n",
       "skinparam rectangle {\r\n",
       " backgroundColor<<block>> LightGreen\r\n",
       "}\r\n",
       "skinparam monochrome true\r\n",
       "skinparam classbackgroundcolor white\r\n",
       "skinparam shadowing false\r\n",
       "skinparam wrapWidth 300\r\n",
       "hide circle\r\n",
       "\r\n",
       "package \"TradeStudyTest\" as E1  [[psysml:57f8a98c-5718-48d8-9b9a-5c4650640602 ]]  {\r\n",
       "rec def \"Engine\" as E2  <<(T,blue) part  def>> [[psysml:6445380e-76a1-4d64-a2e6-1c63aec68392 ]] {\r\n",
       "}\r\n",
       "rec usage \"engine1: Engine\" as E3  [[psysml:e07cfc3f-c273-4e94-9cbe-d128d50ec860 ]] {\r\n",
       "}\r\n",
       "rec usage \"engine2: Engine\" as E4  [[psysml:d9e10f1c-39bd-473d-af93-7c118d42db3b ]] {\r\n",
       "}\r\n",
       "comp usage \"engineTradeStudy: TradeStudy \" as E5 << analysis>> [[psysml:f9c838ee-65e7-4043-9f07-1b30ef92e49c ]] {\r\n",
       "}\r\n",
       "comp usage \"tradeStudyObjective: MaximizeObjective \" as E6  <<(T,blue) requirement>> [[psysml:38fbb285-8167-4e3f-bee3-2164ba524da7 ]] {\r\n",
       "}\r\n",
       "comp usage \"objectiveFunction\" as E7  <<(T,blue) calculation>> [[psysml:658dce09-b71c-4e6e-94c9-a3c46617ebc8 ]] {\r\n",
       "}\r\n",
       "comp usage \"alternative: Engine \" as E8  [[psysml:3dbf099d-922d-4ace-9ccd-679bba93319b ]] {\r\n",
       "}\r\n",
       "comp usage \"selectedAlternative: Engine \" as E9  [[psysml:5fb9bd76-5535-468b-bb8f-88cd6f109fe8 ]] {\r\n",
       "}\r\n",
       "}\r\n",
       "E5 ..> E2 [[psysml:8e91b88f-f820-4b3f-bc7b-6a32144645a0 ]] : <<subject>>\r\n",
       "E5 - ->> E6 [[psysml:a6ebdbd2-b0f8-4e64-baff-f91dc99eb3fc ]] : <<objective>>\r\n",
       "E5 *- - E7 [[psysml:1d968e51-2f45-472a-9c8d-b659e8169068 ]] \r\n",
       "E7 o- - \"1\"E8 [[psysml:762eee8a-df65-48ef-8994-f8166e9b75f6 ]] \r\n",
       "E8 - -:|> E2 [[psysml:b4a53d37-cc69-46b7-9c1e-d748cdbb7a31 ]] \r\n",
       "E5 o- - \"1\"E9 [[psysml:b337f31d-c5a0-436f-953f-431d96e2f8f6 ]] \r\n",
       "E9 - -:|> E2 [[psysml:a6a00959-a343-466b-bcfe-643c8c056808 ]] \r\n",
       "@enduml\r\n",
       "\n",
       "PlantUML version 1.2020.13(Sat Jun 13 12:26:38 UTC 2020)\n",
       "(EPL source distribution)\n",
       "Java Runtime: OpenJDK Runtime Environment\n",
       "JVM: OpenJDK 64-Bit Server VM\n",
       "Default Encoding: UTF-8\n",
       "Language: en\n",
       "Country: null\n",
       "--></g></svg>"
      ]
     },
     "execution_count": 40,
     "metadata": {},
     "output_type": "execute_result"
    }
   ],
   "source": [
    "%viz --style=\"DEFAULT\" --view=\"Interconnection\" \"TradeStudyTest\""
   ]
  },
  {
   "cell_type": "code",
   "execution_count": 41,
   "id": "ce4b6de6",
   "metadata": {
    "execution": {
     "iopub.execute_input": "2021-11-13T13:01:41.406551Z",
     "iopub.status.busy": "2021-11-13T13:01:41.406150Z",
     "iopub.status.idle": "2021-11-13T13:01:41.435423Z",
     "shell.execute_reply": "2021-11-13T13:01:41.435722Z"
    }
   },
   "outputs": [
    {
     "data": {
      "image/svg+xml": [
       "<?xml version=\"1.0\" encoding=\"UTF-8\" standalone=\"no\"?><svg xmlns=\"http://www.w3.org/2000/svg\" xmlns:xlink=\"http://www.w3.org/1999/xlink\" contentScriptType=\"application/ecmascript\" contentStyleType=\"text/css\" height=\"178px\" preserveAspectRatio=\"none\" style=\"width:434px;height:178px;\" version=\"1.1\" viewBox=\"0 0 434 178\" width=\"434px\" zoomAndPan=\"magnify\"><defs/><g><!--MD5=[fbc87193dbaf4d95561dea2c320d4a47]\n",
       "cluster E1--><a href=\"psysml:f9c838ee-65e7-4043-9f07-1b30ef92e49c\" target=\"_top\" title=\"psysml:f9c838ee-65e7-4043-9f07-1b30ef92e49c\" xlink:actuate=\"onRequest\" xlink:href=\"psysml:f9c838ee-65e7-4043-9f07-1b30ef92e49c\" xlink:show=\"new\" xlink:title=\"psysml:f9c838ee-65e7-4043-9f07-1b30ef92e49c\" xlink:type=\"simple\"><rect fill=\"#FFFFFF\" height=\"103.72\" id=\"E1\" rx=\"10\" ry=\"10\" style=\"stroke: #383838; stroke-width: 1.5;\" width=\"327\" x=\"47\" y=\"42.0986\"/><rect fill=\"#F8F8F8\" height=\"37.9375\" rx=\"10\" ry=\"10\" style=\"stroke: #F8F8F8; stroke-width: 1.5;\" width=\"327\" x=\"47\" y=\"42.0986\"/><rect fill=\"#F8F8F8\" height=\"10\" style=\"stroke: #F8F8F8; stroke-width: 1.5;\" width=\"327\" x=\"47\" y=\"70.0361\"/><rect fill=\"none\" height=\"103.72\" id=\"E1\" rx=\"10\" ry=\"10\" style=\"stroke: #383838; stroke-width: 1.5;\" width=\"327\" x=\"47\" y=\"42.0986\"/><text fill=\"#000000\" font-family=\"sans-serif\" font-size=\"12\" font-style=\"italic\" lengthAdjust=\"spacingAndGlyphs\" textLength=\"64\" x=\"178.5\" y=\"58.2373\">«analysis»</text><text fill=\"#000000\" font-family=\"sans-serif\" font-size=\"12\" lengthAdjust=\"spacingAndGlyphs\" textLength=\"114\" x=\"153.5\" y=\"72.2061\">engineTradeStudy</text><line style=\"stroke: #383838; stroke-width: 1.0;\" x1=\"47\" x2=\"374\" y1=\"80.0361\" y2=\"80.0361\"/></a><!--MD5=[d5e69f78d87373223dbae638b30a9c99]\n",
       "cluster E3--><a href=\"psysml:658dce09-b71c-4e6e-94c9-a3c46617ebc8\" target=\"_top\" title=\"psysml:658dce09-b71c-4e6e-94c9-a3c46617ebc8\" xlink:actuate=\"onRequest\" xlink:href=\"psysml:658dce09-b71c-4e6e-94c9-a3c46617ebc8\" xlink:show=\"new\" xlink:title=\"psysml:658dce09-b71c-4e6e-94c9-a3c46617ebc8\" xlink:type=\"simple\"><rect fill=\"#FFFFFF\" height=\"81.72\" id=\"E3\" rx=\"10\" ry=\"10\" style=\"stroke: #383838; stroke-width: 1.5;\" width=\"132\" x=\"214.125\" y=\"64.0986\"/><rect fill=\"#F8F8F8\" height=\"37.9375\" rx=\"10\" ry=\"10\" style=\"stroke: #F8F8F8; stroke-width: 1.5;\" width=\"132\" x=\"214.125\" y=\"64.0986\"/><rect fill=\"#F8F8F8\" height=\"10\" style=\"stroke: #F8F8F8; stroke-width: 1.5;\" width=\"132\" x=\"214.125\" y=\"92.0361\"/><rect fill=\"none\" height=\"81.72\" id=\"E3\" rx=\"10\" ry=\"10\" style=\"stroke: #383838; stroke-width: 1.5;\" width=\"132\" x=\"214.125\" y=\"64.0986\"/><text fill=\"#000000\" font-family=\"sans-serif\" font-size=\"12\" font-style=\"italic\" lengthAdjust=\"spacingAndGlyphs\" textLength=\"82\" x=\"239.125\" y=\"80.2373\">«calculation»</text><text fill=\"#000000\" font-family=\"sans-serif\" font-size=\"12\" lengthAdjust=\"spacingAndGlyphs\" textLength=\"110\" x=\"225.125\" y=\"94.2061\">objectiveFunction</text><line style=\"stroke: #383838; stroke-width: 1.0;\" x1=\"214.125\" x2=\"346.125\" y1=\"102.0361\" y2=\"102.0361\"/></a><text fill=\"#000000\" font-family=\"sans-serif\" font-size=\"14\" lengthAdjust=\"spacingAndGlyphs\" textLength=\"118\" x=\"6\" y=\"20.7969\">studyAlternatives</text><rect fill=\"#383838\" height=\"12\" style=\"stroke: #F8F8F8; stroke-width: 1.5;\" width=\"12\" x=\"59\" y=\"36.0986\"/><text fill=\"#000000\" font-family=\"sans-serif\" font-size=\"14\" lengthAdjust=\"spacingAndGlyphs\" textLength=\"132\" x=\"290\" y=\"164.8138\">selectedAlternative</text><rect fill=\"#383838\" height=\"12\" style=\"stroke: #F8F8F8; stroke-width: 1.5;\" width=\"12\" x=\"350\" y=\"139.8186\"/><text fill=\"#000000\" font-family=\"sans-serif\" font-size=\"14\" lengthAdjust=\"spacingAndGlyphs\" textLength=\"39\" x=\"215.5\" y=\"164.8138\">result</text><rect fill=\"#383838\" height=\"12\" style=\"stroke: #F8F8F8; stroke-width: 1.5;\" width=\"12\" x=\"229\" y=\"139.8186\"/><!--MD5=[d228c7cd2ae565dc9b0563114e9b2bb1]\n",
       "@startuml\r\n",
       "skinparam ranksep 8\r\n",
       "skinparam monochrome true\r\n",
       "skinparam classbackgroundcolor white\r\n",
       "skinparam shadowing false\r\n",
       "skinparam wrapWidth 300\r\n",
       "hide circle\r\n",
       "\r\n",
       "rec usage \"engineTradeStudy\" as E1 << analysis>> [[psysml:f9c838ee-65e7-4043-9f07-1b30ef92e49c ]] {\r\n",
       "portin \"studyAlternatives\" as E2  [[psysml:337fe316-4d2f-4990-8407-2b5473f7b0b9 ]] \r\n",
       "rec usage \"objectiveFunction\" as E3  <<(T,blue) calculation>> [[psysml:658dce09-b71c-4e6e-94c9-a3c46617ebc8 ]] {\r\n",
       "portout \"result\" as E4  [[psysml:1c0da6f6-5c1e-42af-93f0-451ad801a52e ]] \r\n",
       "}\r\n",
       "\r\n",
       "portout \"selectedAlternative\" as E5  [[psysml:5fb9bd76-5535-468b-bb8f-88cd6f109fe8 ]] \r\n",
       "}\r\n",
       "\r\n",
       "@enduml\r\n",
       "\n",
       "PlantUML version 1.2020.13(Sat Jun 13 12:26:38 UTC 2020)\n",
       "(EPL source distribution)\n",
       "Java Runtime: OpenJDK Runtime Environment\n",
       "JVM: OpenJDK 64-Bit Server VM\n",
       "Default Encoding: UTF-8\n",
       "Language: en\n",
       "Country: null\n",
       "--></g></svg>"
      ]
     },
     "execution_count": 41,
     "metadata": {},
     "output_type": "execute_result"
    }
   ],
   "source": [
    "%viz --style=\"DEFAULT\" --view=\"Action\" \"TradeStudyTest\""
   ]
  },
  {
   "cell_type": "code",
   "execution_count": 42,
   "id": "c5638e56",
   "metadata": {
    "execution": {
     "iopub.execute_input": "2021-11-13T13:01:41.485096Z",
     "iopub.status.busy": "2021-11-13T13:01:41.484695Z",
     "iopub.status.idle": "2021-11-13T13:01:41.489808Z",
     "shell.execute_reply": "2021-11-13T13:01:41.490119Z"
    }
   },
   "outputs": [
    {
     "data": {
      "image/svg+xml": [
       "<?xml version=\"1.0\" encoding=\"UTF-8\" standalone=\"no\"?><svg xmlns=\"http://www.w3.org/2000/svg\" xmlns:xlink=\"http://www.w3.org/1999/xlink\" contentScriptType=\"application/ecmascript\" contentStyleType=\"text/css\" height=\"12px\" preserveAspectRatio=\"none\" style=\"width:12px;height:12px;\" version=\"1.1\" viewBox=\"0 0 12 12\" width=\"12px\" zoomAndPan=\"magnify\"><defs/><g><!--MD5=[0b72472770326784bf6c2b53246e1e64]\n",
       "@startuml\r\n",
       "skinparam roundcorner 20\r\n",
       "skinparam BoxPadding 20\r\n",
       "skinparam SequenceBoxBackgroundColor #white\r\n",
       "skinparam style strictuml\r\n",
       "skinparam maxMessageSize 100\r\n",
       "skinparam monochrome true\r\n",
       "skinparam classbackgroundcolor white\r\n",
       "skinparam shadowing false\r\n",
       "skinparam wrapWidth 300\r\n",
       "hide circle\r\n",
       "\r\n",
       "@enduml\r\n",
       "\n",
       "PlantUML version 1.2020.13(Sat Jun 13 12:26:38 UTC 2020)\n",
       "(EPL source distribution)\n",
       "Java Runtime: OpenJDK Runtime Environment\n",
       "JVM: OpenJDK 64-Bit Server VM\n",
       "Default Encoding: UTF-8\n",
       "Language: en\n",
       "Country: null\n",
       "--></g></svg>"
      ]
     },
     "execution_count": 42,
     "metadata": {},
     "output_type": "execute_result"
    }
   ],
   "source": [
    "%viz --style=\"DEFAULT\" --view=\"Sequence\" \"TradeStudyTest\""
   ]
  },
  {
   "cell_type": "code",
   "execution_count": 43,
   "id": "7ab9ea88",
   "metadata": {
    "execution": {
     "iopub.execute_input": "2021-11-13T13:01:41.539646Z",
     "iopub.status.busy": "2021-11-13T13:01:41.539252Z",
     "iopub.status.idle": "2021-11-13T13:01:41.584721Z",
     "shell.execute_reply": "2021-11-13T13:01:41.584336Z"
    }
   },
   "outputs": [
    {
     "data": {
      "image/svg+xml": [
       "<?xml version=\"1.0\" encoding=\"UTF-8\" standalone=\"no\"?><svg xmlns=\"http://www.w3.org/2000/svg\" xmlns:xlink=\"http://www.w3.org/1999/xlink\" contentScriptType=\"application/ecmascript\" contentStyleType=\"text/css\" height=\"497px\" preserveAspectRatio=\"none\" style=\"width:568px;height:497px;\" version=\"1.1\" viewBox=\"0 0 568 497\" width=\"568px\" zoomAndPan=\"magnify\"><defs/><g><!--MD5=[fbc87193dbaf4d95561dea2c320d4a47]\n",
       "cluster E1--><a href=\"psysml:57f8a98c-5718-48d8-9b9a-5c4650640602\" target=\"_top\" title=\"psysml:57f8a98c-5718-48d8-9b9a-5c4650640602\" xlink:actuate=\"onRequest\" xlink:href=\"psysml:57f8a98c-5718-48d8-9b9a-5c4650640602\" xlink:show=\"new\" xlink:title=\"psysml:57f8a98c-5718-48d8-9b9a-5c4650640602\" xlink:type=\"simple\"><polygon fill=\"#FFFFFF\" points=\"18.75,6,134.75,6,141.75,28.2969,546.75,28.2969,546.75,485,18.75,485,18.75,6\" style=\"stroke: #000000; stroke-width: 1.5;\"/><line style=\"stroke: #000000; stroke-width: 1.5;\" x1=\"18.75\" x2=\"141.75\" y1=\"28.2969\" y2=\"28.2969\"/><text fill=\"#000000\" font-family=\"sans-serif\" font-size=\"14\" font-weight=\"bold\" lengthAdjust=\"spacingAndGlyphs\" textLength=\"110\" x=\"22.75\" y=\"20.9951\">TradeStudyTest</text></a><!--MD5=[b4997ac47864f28c2f74865a473b2911]\n",
       "class E2--><a href=\"psysml:6445380e-76a1-4d64-a2e6-1c63aec68392\" target=\"_top\" title=\"psysml:6445380e-76a1-4d64-a2e6-1c63aec68392\" xlink:actuate=\"onRequest\" xlink:href=\"psysml:6445380e-76a1-4d64-a2e6-1c63aec68392\" xlink:show=\"new\" xlink:title=\"psysml:6445380e-76a1-4d64-a2e6-1c63aec68392\" xlink:type=\"simple\"><rect fill=\"#FFFFFF\" height=\"45.9375\" id=\"E2\" style=\"stroke: #383838; stroke-width: 1.5;\" width=\"70\" x=\"200.75\" y=\"423\"/><text fill=\"#000000\" font-family=\"sans-serif\" font-size=\"12\" font-style=\"italic\" lengthAdjust=\"spacingAndGlyphs\" textLength=\"68\" x=\"201.75\" y=\"439.1387\">«part  def»</text><text fill=\"#000000\" font-family=\"sans-serif\" font-size=\"12\" lengthAdjust=\"spacingAndGlyphs\" textLength=\"43\" x=\"214.25\" y=\"453.1074\">Engine</text><line style=\"stroke: #383838; stroke-width: 1.5;\" x1=\"201.75\" x2=\"269.75\" y1=\"460.9375\" y2=\"460.9375\"/></a><!--MD5=[09b614a08d8cba4a07c9adeb5e0fee81]\n",
       "class E3--><a href=\"psysml:e07cfc3f-c273-4e94-9cbe-d128d50ec860\" target=\"_top\" title=\"psysml:e07cfc3f-c273-4e94-9cbe-d128d50ec860\" xlink:actuate=\"onRequest\" xlink:href=\"psysml:e07cfc3f-c273-4e94-9cbe-d128d50ec860\" xlink:show=\"new\" xlink:title=\"psysml:e07cfc3f-c273-4e94-9cbe-d128d50ec860\" xlink:type=\"simple\"><rect fill=\"#FFFFFF\" height=\"45.9375\" id=\"E3\" rx=\"10\" ry=\"10\" style=\"stroke: #383838; stroke-width: 1.5;\" width=\"112\" x=\"418.75\" y=\"316\"/><text fill=\"#000000\" font-family=\"sans-serif\" font-size=\"12\" font-style=\"italic\" lengthAdjust=\"spacingAndGlyphs\" textLength=\"40\" x=\"454.75\" y=\"332.1387\">«part»</text><text fill=\"#000000\" font-family=\"sans-serif\" font-size=\"12\" lengthAdjust=\"spacingAndGlyphs\" textLength=\"102\" x=\"421.75\" y=\"346.1074\">engine1: Engine</text><line style=\"stroke: #383838; stroke-width: 1.5;\" x1=\"419.75\" x2=\"529.75\" y1=\"353.9375\" y2=\"353.9375\"/></a><!--MD5=[ebbe1d658d1005bcc118a6aa81145e00]\n",
       "class E4--><a href=\"psysml:d9e10f1c-39bd-473d-af93-7c118d42db3b\" target=\"_top\" title=\"psysml:d9e10f1c-39bd-473d-af93-7c118d42db3b\" xlink:actuate=\"onRequest\" xlink:href=\"psysml:d9e10f1c-39bd-473d-af93-7c118d42db3b\" xlink:show=\"new\" xlink:title=\"psysml:d9e10f1c-39bd-473d-af93-7c118d42db3b\" xlink:type=\"simple\"><rect fill=\"#FFFFFF\" height=\"45.9375\" id=\"E4\" rx=\"10\" ry=\"10\" style=\"stroke: #383838; stroke-width: 1.5;\" width=\"112\" x=\"271.75\" y=\"316\"/><text fill=\"#000000\" font-family=\"sans-serif\" font-size=\"12\" font-style=\"italic\" lengthAdjust=\"spacingAndGlyphs\" textLength=\"40\" x=\"307.75\" y=\"332.1387\">«part»</text><text fill=\"#000000\" font-family=\"sans-serif\" font-size=\"12\" lengthAdjust=\"spacingAndGlyphs\" textLength=\"102\" x=\"274.75\" y=\"346.1074\">engine2: Engine</text><line style=\"stroke: #383838; stroke-width: 1.5;\" x1=\"272.75\" x2=\"382.75\" y1=\"353.9375\" y2=\"353.9375\"/></a><!--MD5=[270fce915f116d4de14055a7c1d9a0f3]\n",
       "class E5--><a href=\"psysml:f9c838ee-65e7-4043-9f07-1b30ef92e49c\" target=\"_top\" title=\"psysml:f9c838ee-65e7-4043-9f07-1b30ef92e49c\" xlink:actuate=\"onRequest\" xlink:href=\"psysml:f9c838ee-65e7-4043-9f07-1b30ef92e49c\" xlink:show=\"new\" xlink:title=\"psysml:f9c838ee-65e7-4043-9f07-1b30ef92e49c\" xlink:type=\"simple\"><rect fill=\"#FFFFFF\" height=\"45.9375\" id=\"E5\" rx=\"10\" ry=\"10\" style=\"stroke: #383838; stroke-width: 1.5;\" width=\"203\" x=\"248.25\" y=\"41\"/><text fill=\"#000000\" font-family=\"sans-serif\" font-size=\"12\" font-style=\"italic\" lengthAdjust=\"spacingAndGlyphs\" textLength=\"64\" x=\"317.75\" y=\"57.1387\">«analysis»</text><text fill=\"#000000\" font-family=\"sans-serif\" font-size=\"12\" lengthAdjust=\"spacingAndGlyphs\" textLength=\"193\" x=\"251.25\" y=\"71.1074\">engineTradeStudy: TradeStudy</text><line style=\"stroke: #383838; stroke-width: 1.5;\" x1=\"249.25\" x2=\"450.25\" y1=\"78.9375\" y2=\"78.9375\"/></a><!--MD5=[60a26617385b1d2d0262a64233df1f8d]\n",
       "class E6--><a href=\"psysml:38fbb285-8167-4e3f-bee3-2164ba524da7\" target=\"_top\" title=\"psysml:38fbb285-8167-4e3f-bee3-2164ba524da7\" xlink:actuate=\"onRequest\" xlink:href=\"psysml:38fbb285-8167-4e3f-bee3-2164ba524da7\" xlink:show=\"new\" xlink:title=\"psysml:38fbb285-8167-4e3f-bee3-2164ba524da7\" xlink:type=\"simple\"><rect fill=\"#FFFFFF\" height=\"45.9375\" id=\"E6\" rx=\"10\" ry=\"10\" style=\"stroke: #383838; stroke-width: 1.5;\" width=\"255\" x=\"87.25\" y=\"164\"/><text fill=\"#000000\" font-family=\"sans-serif\" font-size=\"12\" font-style=\"italic\" lengthAdjust=\"spacingAndGlyphs\" textLength=\"91\" x=\"169.25\" y=\"180.1387\">«requirement»</text><text fill=\"#000000\" font-family=\"sans-serif\" font-size=\"12\" lengthAdjust=\"spacingAndGlyphs\" textLength=\"245\" x=\"90.25\" y=\"194.1074\">tradeStudyObjective: MaximizeObjective</text><line style=\"stroke: #383838; stroke-width: 1.5;\" x1=\"88.25\" x2=\"341.25\" y1=\"201.9375\" y2=\"201.9375\"/></a><!--MD5=[2156ba9850f5573cc1fc38a6a4b2f02b]\n",
       "class E7--><a href=\"psysml:658dce09-b71c-4e6e-94c9-a3c46617ebc8\" target=\"_top\" title=\"psysml:658dce09-b71c-4e6e-94c9-a3c46617ebc8\" xlink:actuate=\"onRequest\" xlink:href=\"psysml:658dce09-b71c-4e6e-94c9-a3c46617ebc8\" xlink:show=\"new\" xlink:title=\"psysml:658dce09-b71c-4e6e-94c9-a3c46617ebc8\" xlink:type=\"simple\"><rect fill=\"#FFFFFF\" height=\"45.9375\" id=\"E7\" rx=\"10\" ry=\"10\" style=\"stroke: #383838; stroke-width: 1.5;\" width=\"116\" x=\"377.75\" y=\"164\"/><text fill=\"#000000\" font-family=\"sans-serif\" font-size=\"12\" font-style=\"italic\" lengthAdjust=\"spacingAndGlyphs\" textLength=\"82\" x=\"394.75\" y=\"180.1387\">«calculation»</text><text fill=\"#000000\" font-family=\"sans-serif\" font-size=\"12\" lengthAdjust=\"spacingAndGlyphs\" textLength=\"110\" x=\"380.75\" y=\"194.1074\">objectiveFunction</text><line style=\"stroke: #383838; stroke-width: 1.5;\" x1=\"378.75\" x2=\"492.75\" y1=\"201.9375\" y2=\"201.9375\"/></a><!--MD5=[b9389687b975829384b498ac4b7476b2]\n",
       "class E8--><a href=\"psysml:3dbf099d-922d-4ace-9ccd-679bba93319b\" target=\"_top\" title=\"psysml:3dbf099d-922d-4ace-9ccd-679bba93319b\" xlink:actuate=\"onRequest\" xlink:href=\"psysml:3dbf099d-922d-4ace-9ccd-679bba93319b\" xlink:show=\"new\" xlink:title=\"psysml:3dbf099d-922d-4ace-9ccd-679bba93319b\" xlink:type=\"simple\"><rect fill=\"#FFFFFF\" height=\"45.9375\" id=\"E8\" rx=\"10\" ry=\"10\" style=\"stroke: #383838; stroke-width: 1.5;\" width=\"128\" x=\"71.75\" y=\"316\"/><text fill=\"#000000\" font-family=\"sans-serif\" font-size=\"12\" font-style=\"italic\" lengthAdjust=\"spacingAndGlyphs\" textLength=\"40\" x=\"115.75\" y=\"332.1387\">«part»</text><text fill=\"#000000\" font-family=\"sans-serif\" font-size=\"12\" lengthAdjust=\"spacingAndGlyphs\" textLength=\"118\" x=\"74.75\" y=\"346.1074\">alternative: Engine</text><line style=\"stroke: #383838; stroke-width: 1.5;\" x1=\"72.75\" x2=\"198.75\" y1=\"353.9375\" y2=\"353.9375\"/></a><!--MD5=[fd4143e9d270a159db93a4ea2a975926]\n",
       "class E9--><a href=\"psysml:5fb9bd76-5535-468b-bb8f-88cd6f109fe8\" target=\"_top\" title=\"psysml:5fb9bd76-5535-468b-bb8f-88cd6f109fe8\" xlink:actuate=\"onRequest\" xlink:href=\"psysml:5fb9bd76-5535-468b-bb8f-88cd6f109fe8\" xlink:show=\"new\" xlink:title=\"psysml:5fb9bd76-5535-468b-bb8f-88cd6f109fe8\" xlink:type=\"simple\"><rect fill=\"#FFFFFF\" height=\"45.9375\" id=\"E9\" rx=\"10\" ry=\"10\" style=\"stroke: #383838; stroke-width: 1.5;\" width=\"182\" x=\"297.75\" y=\"240\"/><text fill=\"#000000\" font-family=\"sans-serif\" font-size=\"12\" font-style=\"italic\" lengthAdjust=\"spacingAndGlyphs\" textLength=\"40\" x=\"368.75\" y=\"256.1387\">«part»</text><text fill=\"#000000\" font-family=\"sans-serif\" font-size=\"12\" lengthAdjust=\"spacingAndGlyphs\" textLength=\"172\" x=\"300.75\" y=\"270.1074\">selectedAlternative: Engine</text><line style=\"stroke: #383838; stroke-width: 1.5;\" x1=\"298.75\" x2=\"478.75\" y1=\"277.9375\" y2=\"277.9375\"/></a><!--MD5=[05d275557350bfb9b23a4ef7222b4c39]\n",
       "link E3 to E2--><a href=\"psysml:8b560a74-32d8-45cc-8c0e-f8d7e14b884a\" target=\"_top\" title=\"psysml:8b560a74-32d8-45cc-8c0e-f8d7e14b884a\" xlink:actuate=\"onRequest\" xlink:href=\"psysml:8b560a74-32d8-45cc-8c0e-f8d7e14b884a\" xlink:show=\"new\" xlink:title=\"psysml:8b560a74-32d8-45cc-8c0e-f8d7e14b884a\" xlink:type=\"simple\"><path d=\"M424.65,362.01 C385.12,379.38 330.1,403.55 289.63,421.33 \" fill=\"none\" id=\"E3-&gt;E2\" style=\"stroke: #383838; stroke-width: 1.0;\"/><polygon fill=\"#FFFFFF\" points=\"271.06,429.49,285.6417,415.4411,291.271,428.2594,271.06,429.49\" style=\"stroke: #383838; stroke-width: 1.0;\"/><ellipse cx=\"291.6648\" cy=\"414.9803\" fill=\"#383838\" rx=\"2\" ry=\"2\" style=\"stroke: #383838; stroke-width: 1.0;\"/><ellipse cx=\"295.6858\" cy=\"424.1363\" fill=\"#383838\" rx=\"2\" ry=\"2\" style=\"stroke: #383838; stroke-width: 1.0;\"/></a><!--MD5=[185131fc0dcab0a4505a2ebe144e961b]\n",
       "link E4 to E2--><a href=\"psysml:7f518d85-a598-4692-a186-0ec59d25f08f\" target=\"_top\" title=\"psysml:7f518d85-a598-4692-a186-0ec59d25f08f\" xlink:actuate=\"onRequest\" xlink:href=\"psysml:7f518d85-a598-4692-a186-0ec59d25f08f\" xlink:show=\"new\" xlink:title=\"psysml:7f518d85-a598-4692-a186-0ec59d25f08f\" xlink:type=\"simple\"><path d=\"M308.46,362.01 C297.01,375.08 282.18,392.01 268.89,407.17 \" fill=\"none\" id=\"E4-&gt;E2\" style=\"stroke: #383838; stroke-width: 1.0;\"/><polygon fill=\"#FFFFFF\" points=\"255.33,422.66,262.5901,403.7578,273.1181,412.9861,255.33,422.66\" style=\"stroke: #383838; stroke-width: 1.0;\"/><ellipse cx=\"267.8513\" cy=\"400.7898\" fill=\"#383838\" rx=\"2\" ry=\"2\" style=\"stroke: #383838; stroke-width: 1.0;\"/><ellipse cx=\"275.3713\" cy=\"407.3814\" fill=\"#383838\" rx=\"2\" ry=\"2\" style=\"stroke: #383838; stroke-width: 1.0;\"/></a><!--MD5=[15ebcb19ae302d9b601edb458606d402]\n",
       "link E5 to E2--><a href=\"psysml:8e91b88f-f820-4b3f-bc7b-6a32144645a0\" target=\"_top\" title=\"psysml:8e91b88f-f820-4b3f-bc7b-6a32144645a0\" xlink:actuate=\"onRequest\" xlink:href=\"psysml:8e91b88f-f820-4b3f-bc7b-6a32144645a0\" xlink:show=\"new\" xlink:title=\"psysml:8e91b88f-f820-4b3f-bc7b-6a32144645a0\" xlink:type=\"simple\"><path d=\"M248.05,74.19 C186.69,85.36 112.38,109.96 69.75,164 C15.07,233.32 6,287.74 53.75,362 C84.89,410.42 152.01,430.93 195.46,439.38 \" fill=\"none\" id=\"E5-&gt;E2\" style=\"stroke: #383838; stroke-width: 1.0; stroke-dasharray: 7.0,7.0;\"/><polygon fill=\"#383838\" points=\"200.63,440.35,192.5135,434.7713,195.7143,439.4355,191.0502,442.6363,200.63,440.35\" style=\"stroke: #383838; stroke-width: 1.0;\"/><text fill=\"#000000\" font-family=\"sans-serif\" font-size=\"13\" lengthAdjust=\"spacingAndGlyphs\" textLength=\"62\" x=\"28.75\" y=\"267.5669\">«subject»</text></a><!--MD5=[9120cf2e5df3bff93db8f754bbbc09b4]\n",
       "link E5 to E6--><a href=\"psysml:a6ebdbd2-b0f8-4e64-baff-f91dc99eb3fc\" target=\"_top\" title=\"psysml:a6ebdbd2-b0f8-4e64-baff-f91dc99eb3fc\" xlink:actuate=\"onRequest\" xlink:href=\"psysml:a6ebdbd2-b0f8-4e64-baff-f91dc99eb3fc\" xlink:show=\"new\" xlink:title=\"psysml:a6ebdbd2-b0f8-4e64-baff-f91dc99eb3fc\" xlink:type=\"simple\"><path d=\"M324.99,87.19 C302.63,107.23 269.64,136.8 245.58,158.37 \" fill=\"none\" id=\"E5-&gt;E6\" style=\"stroke: #383838; stroke-width: 1.0;\"/><polygon fill=\"#383838\" points=\"239.35,163.95,247.3086,160.8419,243.3025,156.3752,239.35,163.95\" style=\"stroke: #383838; stroke-width: 1.0;\"/><text fill=\"#000000\" font-family=\"sans-serif\" font-size=\"13\" lengthAdjust=\"spacingAndGlyphs\" textLength=\"73\" x=\"290.75\" y=\"130.0669\">«objective»</text></a><!--MD5=[452b418e7f8a40397a49b8c0a78acc5b]\n",
       "reverse link E5 to E7--><a href=\"psysml:1d968e51-2f45-472a-9c8d-b659e8169068\" target=\"_top\" title=\"psysml:1d968e51-2f45-472a-9c8d-b659e8169068\" xlink:actuate=\"onRequest\" xlink:href=\"psysml:1d968e51-2f45-472a-9c8d-b659e8169068\" xlink:show=\"new\" xlink:title=\"psysml:1d968e51-2f45-472a-9c8d-b659e8169068\" xlink:type=\"simple\"><path d=\"M373.12,97.88 C388.03,118.86 406.95,145.48 420.08,163.95 \" fill=\"none\" id=\"E5&lt;-E7\" style=\"stroke: #383838; stroke-width: 1.0;\"/><polygon fill=\"#383838\" points=\"365.52,87.19,365.7442,94.3976,372.4836,96.9628,372.2594,89.7552,365.52,87.19\" style=\"stroke: #383838; stroke-width: 1.0;\"/></a><!--MD5=[dc164f5e8a733ab456ef1add180e9e34]\n",
       "reverse link E7 to E8--><a href=\"psysml:762eee8a-df65-48ef-8994-f8166e9b75f6\" target=\"_top\" title=\"psysml:762eee8a-df65-48ef-8994-f8166e9b75f6\" xlink:actuate=\"onRequest\" xlink:href=\"psysml:762eee8a-df65-48ef-8994-f8166e9b75f6\" xlink:show=\"new\" xlink:title=\"psysml:762eee8a-df65-48ef-8994-f8166e9b75f6\" xlink:type=\"simple\"><path d=\"M365.14,209.66 C331.9,220.26 296.21,232.36 280.75,240 C237.3,261.47 191.71,294.23 163.51,315.88 \" fill=\"none\" id=\"E7&lt;-E8\" style=\"stroke: #383838; stroke-width: 1.0;\"/><polygon fill=\"#FFFFFF\" points=\"377.71,205.68,370.7821,203.6789,366.2704,209.3043,373.1983,211.3053,377.71,205.68\" style=\"stroke: #383838; stroke-width: 1.0;\"/><text fill=\"#000000\" font-family=\"sans-serif\" font-size=\"13\" lengthAdjust=\"spacingAndGlyphs\" textLength=\"8\" x=\"161.8955\" y=\"304.744\">1</text></a><!--MD5=[f1f3f9f2fc535e6147756cb86a7f2e32]\n",
       "link E8 to E2--><a href=\"psysml:b4a53d37-cc69-46b7-9c1e-d748cdbb7a31\" target=\"_top\" title=\"psysml:b4a53d37-cc69-46b7-9c1e-d748cdbb7a31\" xlink:actuate=\"onRequest\" xlink:href=\"psysml:b4a53d37-cc69-46b7-9c1e-d748cdbb7a31\" xlink:show=\"new\" xlink:title=\"psysml:b4a53d37-cc69-46b7-9c1e-d748cdbb7a31\" xlink:type=\"simple\"><path d=\"M156.71,362.01 C169.43,375.36 185.98,392.74 200.64,408.14 \" fill=\"none\" id=\"E8-&gt;E2\" style=\"stroke: #383838; stroke-width: 1.0;\"/><polygon fill=\"#FFFFFF\" points=\"214.47,422.66,196.3009,413.7223,206.4424,404.0708,214.47,422.66\" style=\"stroke: #383838; stroke-width: 1.0;\"/><ellipse cx=\"193.8202\" cy=\"408.2144\" fill=\"#383838\" rx=\"2\" ry=\"2\" style=\"stroke: #383838; stroke-width: 1.0;\"/><ellipse cx=\"201.0641\" cy=\"401.3206\" fill=\"#383838\" rx=\"2\" ry=\"2\" style=\"stroke: #383838; stroke-width: 1.0;\"/></a><!--MD5=[9ae28de373ca99bb8a1b38d63370ca7e]\n",
       "reverse link E5 to E9--><a href=\"psysml:b337f31d-c5a0-436f-953f-431d96e2f8f6\" target=\"_top\" title=\"psysml:b337f31d-c5a0-436f-953f-431d96e2f8f6\" xlink:actuate=\"onRequest\" xlink:href=\"psysml:b337f31d-c5a0-436f-953f-431d96e2f8f6\" xlink:show=\"new\" xlink:title=\"psysml:b337f31d-c5a0-436f-953f-431d96e2f8f6\" xlink:type=\"simple\"><path d=\"M427.82,92.73 C459.8,108.4 493.52,131.5 511.75,164 C521.75,181.83 523.05,192.96 511.75,210 C503.17,222.95 490.65,232.68 476.85,239.99 \" fill=\"none\" id=\"E5&lt;-E9\" style=\"stroke: #383838; stroke-width: 1.0;\"/><polygon fill=\"#FFFFFF\" points=\"415.69,87.08,419.4417,93.2383,426.5692,92.1438,422.8176,85.9855,415.69,87.08\" style=\"stroke: #383838; stroke-width: 1.0;\"/><text fill=\"#000000\" font-family=\"sans-serif\" font-size=\"13\" lengthAdjust=\"spacingAndGlyphs\" textLength=\"8\" x=\"487.2469\" y=\"230.4042\">1</text></a><!--MD5=[5c3bb36fe832a92c7f0e1807dd65209d]\n",
       "link E9 to E2--><a href=\"psysml:a6a00959-a343-466b-bcfe-643c8c056808\" target=\"_top\" title=\"psysml:a6a00959-a343-466b-bcfe-643c8c056808\" xlink:actuate=\"onRequest\" xlink:href=\"psysml:a6a00959-a343-466b-bcfe-643c8c056808\" xlink:show=\"new\" xlink:title=\"psysml:a6a00959-a343-466b-bcfe-643c8c056808\" xlink:type=\"simple\"><path d=\"M297.61,284.36 C281.24,291.84 265.88,302.05 254.75,316 C235.48,340.16 231.36,375.23 231.71,402.71 \" fill=\"none\" id=\"E9-&gt;E2\" style=\"stroke: #383838; stroke-width: 1.0;\"/><polygon fill=\"#FFFFFF\" points=\"232.74,422.77,224.772,404.1552,238.7535,403.4351,232.74,422.77\" style=\"stroke: #383838; stroke-width: 1.0;\"/><ellipse cx=\"226.4762\" cy=\"398.3599\" fill=\"#383838\" rx=\"2\" ry=\"2\" style=\"stroke: #383838; stroke-width: 1.0;\"/><ellipse cx=\"236.463\" cy=\"397.8455\" fill=\"#383838\" rx=\"2\" ry=\"2\" style=\"stroke: #383838; stroke-width: 1.0;\"/></a><!--MD5=[6f12d1faeca19af4f8cd7513ec3e2c2f]\n",
       "@startuml\r\n",
       "skinparam monochrome true\r\n",
       "skinparam classbackgroundcolor white\r\n",
       "skinparam shadowing false\r\n",
       "skinparam wrapWidth 300\r\n",
       "hide circle\r\n",
       "\r\n",
       "package \"TradeStudyTest\" as E1  [[psysml:57f8a98c-5718-48d8-9b9a-5c4650640602 ]]  {\r\n",
       "comp def \"Engine\" as E2  <<(T,blue) part  def>> [[psysml:6445380e-76a1-4d64-a2e6-1c63aec68392 ]] {\r\n",
       "}\r\n",
       "comp usage \"engine1: Engine \" as E3  <<(T,blue) part>> [[psysml:e07cfc3f-c273-4e94-9cbe-d128d50ec860 ]] {\r\n",
       "}\r\n",
       "comp usage \"engine2: Engine \" as E4  <<(T,blue) part>> [[psysml:d9e10f1c-39bd-473d-af93-7c118d42db3b ]] {\r\n",
       "}\r\n",
       "comp usage \"engineTradeStudy: TradeStudy \" as E5 << analysis>> [[psysml:f9c838ee-65e7-4043-9f07-1b30ef92e49c ]] {\r\n",
       "}\r\n",
       "comp usage \"tradeStudyObjective: MaximizeObjective \" as E6  <<(T,blue) requirement>> [[psysml:38fbb285-8167-4e3f-bee3-2164ba524da7 ]] {\r\n",
       "}\r\n",
       "comp usage \"objectiveFunction\" as E7  <<(T,blue) calculation>> [[psysml:658dce09-b71c-4e6e-94c9-a3c46617ebc8 ]] {\r\n",
       "}\r\n",
       "comp usage \"alternative: Engine \" as E8  <<(T,blue) part>> [[psysml:3dbf099d-922d-4ace-9ccd-679bba93319b ]] {\r\n",
       "}\r\n",
       "comp usage \"selectedAlternative: Engine \" as E9  <<(T,blue) part>> [[psysml:5fb9bd76-5535-468b-bb8f-88cd6f109fe8 ]] {\r\n",
       "}\r\n",
       "}\r\n",
       "E3 - -:|> E2 [[psysml:8b560a74-32d8-45cc-8c0e-f8d7e14b884a ]] \r\n",
       "E4 - -:|> E2 [[psysml:7f518d85-a598-4692-a186-0ec59d25f08f ]] \r\n",
       "E5 ..> E2 [[psysml:8e91b88f-f820-4b3f-bc7b-6a32144645a0 ]] : <<subject>>\r\n",
       "E5 - ->> E6 [[psysml:a6ebdbd2-b0f8-4e64-baff-f91dc99eb3fc ]] : <<objective>>\r\n",
       "E5 *- - E7 [[psysml:1d968e51-2f45-472a-9c8d-b659e8169068 ]] \r\n",
       "E7 o- - \"1\"E8 [[psysml:762eee8a-df65-48ef-8994-f8166e9b75f6 ]] \r\n",
       "E8 - -:|> E2 [[psysml:b4a53d37-cc69-46b7-9c1e-d748cdbb7a31 ]] \r\n",
       "E5 o- - \"1\"E9 [[psysml:b337f31d-c5a0-436f-953f-431d96e2f8f6 ]] \r\n",
       "E9 - -:|> E2 [[psysml:a6a00959-a343-466b-bcfe-643c8c056808 ]] \r\n",
       "@enduml\r\n",
       "\n",
       "PlantUML version 1.2020.13(Sat Jun 13 12:26:38 UTC 2020)\n",
       "(EPL source distribution)\n",
       "Java Runtime: OpenJDK Runtime Environment\n",
       "JVM: OpenJDK 64-Bit Server VM\n",
       "Default Encoding: UTF-8\n",
       "Language: en\n",
       "Country: null\n",
       "--></g></svg>"
      ]
     },
     "execution_count": 43,
     "metadata": {},
     "output_type": "execute_result"
    }
   ],
   "source": [
    "%viz --style=\"DEFAULT\" --view=\"MIXED\" \"TradeStudyTest\""
   ]
  },
  {
   "cell_type": "code",
   "execution_count": 44,
   "id": "441bc2d0",
   "metadata": {
    "execution": {
     "iopub.execute_input": "2021-11-13T13:01:41.633380Z",
     "iopub.status.busy": "2021-11-13T13:01:41.632988Z",
     "iopub.status.idle": "2021-11-13T13:01:41.671564Z",
     "shell.execute_reply": "2021-11-13T13:01:41.671889Z"
    }
   },
   "outputs": [
    {
     "data": {
      "image/svg+xml": [
       "<?xml version=\"1.0\" encoding=\"UTF-8\" standalone=\"no\"?><svg xmlns=\"http://www.w3.org/2000/svg\" xmlns:xlink=\"http://www.w3.org/1999/xlink\" contentScriptType=\"application/ecmascript\" contentStyleType=\"text/css\" height=\"497px\" preserveAspectRatio=\"none\" style=\"width:568px;height:497px;\" version=\"1.1\" viewBox=\"0 0 568 497\" width=\"568px\" zoomAndPan=\"magnify\"><defs/><g><!--MD5=[fbc87193dbaf4d95561dea2c320d4a47]\n",
       "cluster E1--><a href=\"psysml:57f8a98c-5718-48d8-9b9a-5c4650640602\" target=\"_top\" title=\"psysml:57f8a98c-5718-48d8-9b9a-5c4650640602\" xlink:actuate=\"onRequest\" xlink:href=\"psysml:57f8a98c-5718-48d8-9b9a-5c4650640602\" xlink:show=\"new\" xlink:title=\"psysml:57f8a98c-5718-48d8-9b9a-5c4650640602\" xlink:type=\"simple\"><polygon fill=\"#FFFFFF\" points=\"18.75,6,134.75,6,141.75,28.2969,546.75,28.2969,546.75,485,18.75,485,18.75,6\" style=\"stroke: #000000; stroke-width: 1.5;\"/><line style=\"stroke: #000000; stroke-width: 1.5;\" x1=\"18.75\" x2=\"141.75\" y1=\"28.2969\" y2=\"28.2969\"/><text fill=\"#000000\" font-family=\"sans-serif\" font-size=\"14\" font-weight=\"bold\" lengthAdjust=\"spacingAndGlyphs\" textLength=\"110\" x=\"22.75\" y=\"20.9951\">TradeStudyTest</text></a><!--MD5=[b4997ac47864f28c2f74865a473b2911]\n",
       "class E2--><a href=\"psysml:6445380e-76a1-4d64-a2e6-1c63aec68392\" target=\"_top\" title=\"psysml:6445380e-76a1-4d64-a2e6-1c63aec68392\" xlink:actuate=\"onRequest\" xlink:href=\"psysml:6445380e-76a1-4d64-a2e6-1c63aec68392\" xlink:show=\"new\" xlink:title=\"psysml:6445380e-76a1-4d64-a2e6-1c63aec68392\" xlink:type=\"simple\"><rect fill=\"#FFFFFF\" height=\"45.9375\" id=\"E2\" style=\"stroke: #383838; stroke-width: 1.5;\" width=\"70\" x=\"200.75\" y=\"423\"/><text fill=\"#000000\" font-family=\"sans-serif\" font-size=\"12\" font-style=\"italic\" lengthAdjust=\"spacingAndGlyphs\" textLength=\"68\" x=\"201.75\" y=\"439.1387\">«part  def»</text><text fill=\"#000000\" font-family=\"sans-serif\" font-size=\"12\" lengthAdjust=\"spacingAndGlyphs\" textLength=\"43\" x=\"214.25\" y=\"453.1074\">Engine</text><line style=\"stroke: #383838; stroke-width: 1.5;\" x1=\"201.75\" x2=\"269.75\" y1=\"460.9375\" y2=\"460.9375\"/></a><!--MD5=[09b614a08d8cba4a07c9adeb5e0fee81]\n",
       "class E3--><a href=\"psysml:e07cfc3f-c273-4e94-9cbe-d128d50ec860\" target=\"_top\" title=\"psysml:e07cfc3f-c273-4e94-9cbe-d128d50ec860\" xlink:actuate=\"onRequest\" xlink:href=\"psysml:e07cfc3f-c273-4e94-9cbe-d128d50ec860\" xlink:show=\"new\" xlink:title=\"psysml:e07cfc3f-c273-4e94-9cbe-d128d50ec860\" xlink:type=\"simple\"><rect fill=\"#FFFFFF\" height=\"45.9375\" id=\"E3\" rx=\"10\" ry=\"10\" style=\"stroke: #383838; stroke-width: 1.5;\" width=\"112\" x=\"418.75\" y=\"316\"/><text fill=\"#000000\" font-family=\"sans-serif\" font-size=\"12\" font-style=\"italic\" lengthAdjust=\"spacingAndGlyphs\" textLength=\"40\" x=\"454.75\" y=\"332.1387\">«part»</text><text fill=\"#000000\" font-family=\"sans-serif\" font-size=\"12\" lengthAdjust=\"spacingAndGlyphs\" textLength=\"102\" x=\"421.75\" y=\"346.1074\">engine1: Engine</text><line style=\"stroke: #383838; stroke-width: 1.5;\" x1=\"419.75\" x2=\"529.75\" y1=\"353.9375\" y2=\"353.9375\"/></a><!--MD5=[ebbe1d658d1005bcc118a6aa81145e00]\n",
       "class E4--><a href=\"psysml:d9e10f1c-39bd-473d-af93-7c118d42db3b\" target=\"_top\" title=\"psysml:d9e10f1c-39bd-473d-af93-7c118d42db3b\" xlink:actuate=\"onRequest\" xlink:href=\"psysml:d9e10f1c-39bd-473d-af93-7c118d42db3b\" xlink:show=\"new\" xlink:title=\"psysml:d9e10f1c-39bd-473d-af93-7c118d42db3b\" xlink:type=\"simple\"><rect fill=\"#FFFFFF\" height=\"45.9375\" id=\"E4\" rx=\"10\" ry=\"10\" style=\"stroke: #383838; stroke-width: 1.5;\" width=\"112\" x=\"271.75\" y=\"316\"/><text fill=\"#000000\" font-family=\"sans-serif\" font-size=\"12\" font-style=\"italic\" lengthAdjust=\"spacingAndGlyphs\" textLength=\"40\" x=\"307.75\" y=\"332.1387\">«part»</text><text fill=\"#000000\" font-family=\"sans-serif\" font-size=\"12\" lengthAdjust=\"spacingAndGlyphs\" textLength=\"102\" x=\"274.75\" y=\"346.1074\">engine2: Engine</text><line style=\"stroke: #383838; stroke-width: 1.5;\" x1=\"272.75\" x2=\"382.75\" y1=\"353.9375\" y2=\"353.9375\"/></a><!--MD5=[270fce915f116d4de14055a7c1d9a0f3]\n",
       "class E5--><a href=\"psysml:f9c838ee-65e7-4043-9f07-1b30ef92e49c\" target=\"_top\" title=\"psysml:f9c838ee-65e7-4043-9f07-1b30ef92e49c\" xlink:actuate=\"onRequest\" xlink:href=\"psysml:f9c838ee-65e7-4043-9f07-1b30ef92e49c\" xlink:show=\"new\" xlink:title=\"psysml:f9c838ee-65e7-4043-9f07-1b30ef92e49c\" xlink:type=\"simple\"><rect fill=\"#FFFFFF\" height=\"45.9375\" id=\"E5\" rx=\"10\" ry=\"10\" style=\"stroke: #383838; stroke-width: 1.5;\" width=\"203\" x=\"248.25\" y=\"41\"/><text fill=\"#000000\" font-family=\"sans-serif\" font-size=\"12\" font-style=\"italic\" lengthAdjust=\"spacingAndGlyphs\" textLength=\"64\" x=\"317.75\" y=\"57.1387\">«analysis»</text><text fill=\"#000000\" font-family=\"sans-serif\" font-size=\"12\" lengthAdjust=\"spacingAndGlyphs\" textLength=\"193\" x=\"251.25\" y=\"71.1074\">engineTradeStudy: TradeStudy</text><line style=\"stroke: #383838; stroke-width: 1.5;\" x1=\"249.25\" x2=\"450.25\" y1=\"78.9375\" y2=\"78.9375\"/></a><!--MD5=[60a26617385b1d2d0262a64233df1f8d]\n",
       "class E6--><a href=\"psysml:38fbb285-8167-4e3f-bee3-2164ba524da7\" target=\"_top\" title=\"psysml:38fbb285-8167-4e3f-bee3-2164ba524da7\" xlink:actuate=\"onRequest\" xlink:href=\"psysml:38fbb285-8167-4e3f-bee3-2164ba524da7\" xlink:show=\"new\" xlink:title=\"psysml:38fbb285-8167-4e3f-bee3-2164ba524da7\" xlink:type=\"simple\"><rect fill=\"#FFFFFF\" height=\"45.9375\" id=\"E6\" rx=\"10\" ry=\"10\" style=\"stroke: #383838; stroke-width: 1.5;\" width=\"255\" x=\"87.25\" y=\"164\"/><text fill=\"#000000\" font-family=\"sans-serif\" font-size=\"12\" font-style=\"italic\" lengthAdjust=\"spacingAndGlyphs\" textLength=\"91\" x=\"169.25\" y=\"180.1387\">«requirement»</text><text fill=\"#000000\" font-family=\"sans-serif\" font-size=\"12\" lengthAdjust=\"spacingAndGlyphs\" textLength=\"245\" x=\"90.25\" y=\"194.1074\">tradeStudyObjective: MaximizeObjective</text><line style=\"stroke: #383838; stroke-width: 1.5;\" x1=\"88.25\" x2=\"341.25\" y1=\"201.9375\" y2=\"201.9375\"/></a><!--MD5=[2156ba9850f5573cc1fc38a6a4b2f02b]\n",
       "class E7--><a href=\"psysml:658dce09-b71c-4e6e-94c9-a3c46617ebc8\" target=\"_top\" title=\"psysml:658dce09-b71c-4e6e-94c9-a3c46617ebc8\" xlink:actuate=\"onRequest\" xlink:href=\"psysml:658dce09-b71c-4e6e-94c9-a3c46617ebc8\" xlink:show=\"new\" xlink:title=\"psysml:658dce09-b71c-4e6e-94c9-a3c46617ebc8\" xlink:type=\"simple\"><rect fill=\"#FFFFFF\" height=\"45.9375\" id=\"E7\" rx=\"10\" ry=\"10\" style=\"stroke: #383838; stroke-width: 1.5;\" width=\"116\" x=\"377.75\" y=\"164\"/><text fill=\"#000000\" font-family=\"sans-serif\" font-size=\"12\" font-style=\"italic\" lengthAdjust=\"spacingAndGlyphs\" textLength=\"82\" x=\"394.75\" y=\"180.1387\">«calculation»</text><text fill=\"#000000\" font-family=\"sans-serif\" font-size=\"12\" lengthAdjust=\"spacingAndGlyphs\" textLength=\"110\" x=\"380.75\" y=\"194.1074\">objectiveFunction</text><line style=\"stroke: #383838; stroke-width: 1.5;\" x1=\"378.75\" x2=\"492.75\" y1=\"201.9375\" y2=\"201.9375\"/></a><!--MD5=[b9389687b975829384b498ac4b7476b2]\n",
       "class E8--><a href=\"psysml:3dbf099d-922d-4ace-9ccd-679bba93319b\" target=\"_top\" title=\"psysml:3dbf099d-922d-4ace-9ccd-679bba93319b\" xlink:actuate=\"onRequest\" xlink:href=\"psysml:3dbf099d-922d-4ace-9ccd-679bba93319b\" xlink:show=\"new\" xlink:title=\"psysml:3dbf099d-922d-4ace-9ccd-679bba93319b\" xlink:type=\"simple\"><rect fill=\"#FFFFFF\" height=\"45.9375\" id=\"E8\" rx=\"10\" ry=\"10\" style=\"stroke: #383838; stroke-width: 1.5;\" width=\"128\" x=\"71.75\" y=\"316\"/><text fill=\"#000000\" font-family=\"sans-serif\" font-size=\"12\" font-style=\"italic\" lengthAdjust=\"spacingAndGlyphs\" textLength=\"40\" x=\"115.75\" y=\"332.1387\">«part»</text><text fill=\"#000000\" font-family=\"sans-serif\" font-size=\"12\" lengthAdjust=\"spacingAndGlyphs\" textLength=\"118\" x=\"74.75\" y=\"346.1074\">alternative: Engine</text><line style=\"stroke: #383838; stroke-width: 1.5;\" x1=\"72.75\" x2=\"198.75\" y1=\"353.9375\" y2=\"353.9375\"/></a><!--MD5=[fd4143e9d270a159db93a4ea2a975926]\n",
       "class E9--><a href=\"psysml:5fb9bd76-5535-468b-bb8f-88cd6f109fe8\" target=\"_top\" title=\"psysml:5fb9bd76-5535-468b-bb8f-88cd6f109fe8\" xlink:actuate=\"onRequest\" xlink:href=\"psysml:5fb9bd76-5535-468b-bb8f-88cd6f109fe8\" xlink:show=\"new\" xlink:title=\"psysml:5fb9bd76-5535-468b-bb8f-88cd6f109fe8\" xlink:type=\"simple\"><rect fill=\"#FFFFFF\" height=\"45.9375\" id=\"E9\" rx=\"10\" ry=\"10\" style=\"stroke: #383838; stroke-width: 1.5;\" width=\"182\" x=\"297.75\" y=\"240\"/><text fill=\"#000000\" font-family=\"sans-serif\" font-size=\"12\" font-style=\"italic\" lengthAdjust=\"spacingAndGlyphs\" textLength=\"40\" x=\"368.75\" y=\"256.1387\">«part»</text><text fill=\"#000000\" font-family=\"sans-serif\" font-size=\"12\" lengthAdjust=\"spacingAndGlyphs\" textLength=\"172\" x=\"300.75\" y=\"270.1074\">selectedAlternative: Engine</text><line style=\"stroke: #383838; stroke-width: 1.5;\" x1=\"298.75\" x2=\"478.75\" y1=\"277.9375\" y2=\"277.9375\"/></a><!--MD5=[05d275557350bfb9b23a4ef7222b4c39]\n",
       "link E3 to E2--><a href=\"psysml:8b560a74-32d8-45cc-8c0e-f8d7e14b884a\" target=\"_top\" title=\"psysml:8b560a74-32d8-45cc-8c0e-f8d7e14b884a\" xlink:actuate=\"onRequest\" xlink:href=\"psysml:8b560a74-32d8-45cc-8c0e-f8d7e14b884a\" xlink:show=\"new\" xlink:title=\"psysml:8b560a74-32d8-45cc-8c0e-f8d7e14b884a\" xlink:type=\"simple\"><path d=\"M424.65,362.01 C385.12,379.38 330.1,403.55 289.63,421.33 \" fill=\"none\" id=\"E3-&gt;E2\" style=\"stroke: #383838; stroke-width: 1.0;\"/><polygon fill=\"#FFFFFF\" points=\"271.06,429.49,285.6417,415.4411,291.271,428.2594,271.06,429.49\" style=\"stroke: #383838; stroke-width: 1.0;\"/><ellipse cx=\"291.6648\" cy=\"414.9803\" fill=\"#383838\" rx=\"2\" ry=\"2\" style=\"stroke: #383838; stroke-width: 1.0;\"/><ellipse cx=\"295.6858\" cy=\"424.1363\" fill=\"#383838\" rx=\"2\" ry=\"2\" style=\"stroke: #383838; stroke-width: 1.0;\"/></a><!--MD5=[185131fc0dcab0a4505a2ebe144e961b]\n",
       "link E4 to E2--><a href=\"psysml:7f518d85-a598-4692-a186-0ec59d25f08f\" target=\"_top\" title=\"psysml:7f518d85-a598-4692-a186-0ec59d25f08f\" xlink:actuate=\"onRequest\" xlink:href=\"psysml:7f518d85-a598-4692-a186-0ec59d25f08f\" xlink:show=\"new\" xlink:title=\"psysml:7f518d85-a598-4692-a186-0ec59d25f08f\" xlink:type=\"simple\"><path d=\"M308.46,362.01 C297.01,375.08 282.18,392.01 268.89,407.17 \" fill=\"none\" id=\"E4-&gt;E2\" style=\"stroke: #383838; stroke-width: 1.0;\"/><polygon fill=\"#FFFFFF\" points=\"255.33,422.66,262.5901,403.7578,273.1181,412.9861,255.33,422.66\" style=\"stroke: #383838; stroke-width: 1.0;\"/><ellipse cx=\"267.8513\" cy=\"400.7898\" fill=\"#383838\" rx=\"2\" ry=\"2\" style=\"stroke: #383838; stroke-width: 1.0;\"/><ellipse cx=\"275.3713\" cy=\"407.3814\" fill=\"#383838\" rx=\"2\" ry=\"2\" style=\"stroke: #383838; stroke-width: 1.0;\"/></a><!--MD5=[15ebcb19ae302d9b601edb458606d402]\n",
       "link E5 to E2--><a href=\"psysml:8e91b88f-f820-4b3f-bc7b-6a32144645a0\" target=\"_top\" title=\"psysml:8e91b88f-f820-4b3f-bc7b-6a32144645a0\" xlink:actuate=\"onRequest\" xlink:href=\"psysml:8e91b88f-f820-4b3f-bc7b-6a32144645a0\" xlink:show=\"new\" xlink:title=\"psysml:8e91b88f-f820-4b3f-bc7b-6a32144645a0\" xlink:type=\"simple\"><path d=\"M248.05,74.19 C186.69,85.36 112.38,109.96 69.75,164 C15.07,233.32 6,287.74 53.75,362 C84.89,410.42 152.01,430.93 195.46,439.38 \" fill=\"none\" id=\"E5-&gt;E2\" style=\"stroke: #383838; stroke-width: 1.0; stroke-dasharray: 7.0,7.0;\"/><polygon fill=\"#383838\" points=\"200.63,440.35,192.5135,434.7713,195.7143,439.4355,191.0502,442.6363,200.63,440.35\" style=\"stroke: #383838; stroke-width: 1.0;\"/><text fill=\"#000000\" font-family=\"sans-serif\" font-size=\"13\" lengthAdjust=\"spacingAndGlyphs\" textLength=\"62\" x=\"28.75\" y=\"267.5669\">«subject»</text></a><!--MD5=[9120cf2e5df3bff93db8f754bbbc09b4]\n",
       "link E5 to E6--><a href=\"psysml:a6ebdbd2-b0f8-4e64-baff-f91dc99eb3fc\" target=\"_top\" title=\"psysml:a6ebdbd2-b0f8-4e64-baff-f91dc99eb3fc\" xlink:actuate=\"onRequest\" xlink:href=\"psysml:a6ebdbd2-b0f8-4e64-baff-f91dc99eb3fc\" xlink:show=\"new\" xlink:title=\"psysml:a6ebdbd2-b0f8-4e64-baff-f91dc99eb3fc\" xlink:type=\"simple\"><path d=\"M324.99,87.19 C302.63,107.23 269.64,136.8 245.58,158.37 \" fill=\"none\" id=\"E5-&gt;E6\" style=\"stroke: #383838; stroke-width: 1.0;\"/><polygon fill=\"#383838\" points=\"239.35,163.95,247.3086,160.8419,243.3025,156.3752,239.35,163.95\" style=\"stroke: #383838; stroke-width: 1.0;\"/><text fill=\"#000000\" font-family=\"sans-serif\" font-size=\"13\" lengthAdjust=\"spacingAndGlyphs\" textLength=\"73\" x=\"290.75\" y=\"130.0669\">«objective»</text></a><!--MD5=[452b418e7f8a40397a49b8c0a78acc5b]\n",
       "reverse link E5 to E7--><a href=\"psysml:1d968e51-2f45-472a-9c8d-b659e8169068\" target=\"_top\" title=\"psysml:1d968e51-2f45-472a-9c8d-b659e8169068\" xlink:actuate=\"onRequest\" xlink:href=\"psysml:1d968e51-2f45-472a-9c8d-b659e8169068\" xlink:show=\"new\" xlink:title=\"psysml:1d968e51-2f45-472a-9c8d-b659e8169068\" xlink:type=\"simple\"><path d=\"M373.12,97.88 C388.03,118.86 406.95,145.48 420.08,163.95 \" fill=\"none\" id=\"E5&lt;-E7\" style=\"stroke: #383838; stroke-width: 1.0;\"/><polygon fill=\"#383838\" points=\"365.52,87.19,365.7442,94.3976,372.4836,96.9628,372.2594,89.7552,365.52,87.19\" style=\"stroke: #383838; stroke-width: 1.0;\"/></a><!--MD5=[dc164f5e8a733ab456ef1add180e9e34]\n",
       "reverse link E7 to E8--><a href=\"psysml:762eee8a-df65-48ef-8994-f8166e9b75f6\" target=\"_top\" title=\"psysml:762eee8a-df65-48ef-8994-f8166e9b75f6\" xlink:actuate=\"onRequest\" xlink:href=\"psysml:762eee8a-df65-48ef-8994-f8166e9b75f6\" xlink:show=\"new\" xlink:title=\"psysml:762eee8a-df65-48ef-8994-f8166e9b75f6\" xlink:type=\"simple\"><path d=\"M365.14,209.66 C331.9,220.26 296.21,232.36 280.75,240 C237.3,261.47 191.71,294.23 163.51,315.88 \" fill=\"none\" id=\"E7&lt;-E8\" style=\"stroke: #383838; stroke-width: 1.0;\"/><polygon fill=\"#FFFFFF\" points=\"377.71,205.68,370.7821,203.6789,366.2704,209.3043,373.1983,211.3053,377.71,205.68\" style=\"stroke: #383838; stroke-width: 1.0;\"/><text fill=\"#000000\" font-family=\"sans-serif\" font-size=\"13\" lengthAdjust=\"spacingAndGlyphs\" textLength=\"8\" x=\"161.8955\" y=\"304.744\">1</text></a><!--MD5=[f1f3f9f2fc535e6147756cb86a7f2e32]\n",
       "link E8 to E2--><a href=\"psysml:b4a53d37-cc69-46b7-9c1e-d748cdbb7a31\" target=\"_top\" title=\"psysml:b4a53d37-cc69-46b7-9c1e-d748cdbb7a31\" xlink:actuate=\"onRequest\" xlink:href=\"psysml:b4a53d37-cc69-46b7-9c1e-d748cdbb7a31\" xlink:show=\"new\" xlink:title=\"psysml:b4a53d37-cc69-46b7-9c1e-d748cdbb7a31\" xlink:type=\"simple\"><path d=\"M156.71,362.01 C169.43,375.36 185.98,392.74 200.64,408.14 \" fill=\"none\" id=\"E8-&gt;E2\" style=\"stroke: #383838; stroke-width: 1.0;\"/><polygon fill=\"#FFFFFF\" points=\"214.47,422.66,196.3009,413.7223,206.4424,404.0708,214.47,422.66\" style=\"stroke: #383838; stroke-width: 1.0;\"/><ellipse cx=\"193.8202\" cy=\"408.2144\" fill=\"#383838\" rx=\"2\" ry=\"2\" style=\"stroke: #383838; stroke-width: 1.0;\"/><ellipse cx=\"201.0641\" cy=\"401.3206\" fill=\"#383838\" rx=\"2\" ry=\"2\" style=\"stroke: #383838; stroke-width: 1.0;\"/></a><!--MD5=[9ae28de373ca99bb8a1b38d63370ca7e]\n",
       "reverse link E5 to E9--><a href=\"psysml:b337f31d-c5a0-436f-953f-431d96e2f8f6\" target=\"_top\" title=\"psysml:b337f31d-c5a0-436f-953f-431d96e2f8f6\" xlink:actuate=\"onRequest\" xlink:href=\"psysml:b337f31d-c5a0-436f-953f-431d96e2f8f6\" xlink:show=\"new\" xlink:title=\"psysml:b337f31d-c5a0-436f-953f-431d96e2f8f6\" xlink:type=\"simple\"><path d=\"M427.82,92.73 C459.8,108.4 493.52,131.5 511.75,164 C521.75,181.83 523.05,192.96 511.75,210 C503.17,222.95 490.65,232.68 476.85,239.99 \" fill=\"none\" id=\"E5&lt;-E9\" style=\"stroke: #383838; stroke-width: 1.0;\"/><polygon fill=\"#FFFFFF\" points=\"415.69,87.08,419.4417,93.2383,426.5692,92.1438,422.8176,85.9855,415.69,87.08\" style=\"stroke: #383838; stroke-width: 1.0;\"/><text fill=\"#000000\" font-family=\"sans-serif\" font-size=\"13\" lengthAdjust=\"spacingAndGlyphs\" textLength=\"8\" x=\"487.2469\" y=\"230.4042\">1</text></a><!--MD5=[5c3bb36fe832a92c7f0e1807dd65209d]\n",
       "link E9 to E2--><a href=\"psysml:a6a00959-a343-466b-bcfe-643c8c056808\" target=\"_top\" title=\"psysml:a6a00959-a343-466b-bcfe-643c8c056808\" xlink:actuate=\"onRequest\" xlink:href=\"psysml:a6a00959-a343-466b-bcfe-643c8c056808\" xlink:show=\"new\" xlink:title=\"psysml:a6a00959-a343-466b-bcfe-643c8c056808\" xlink:type=\"simple\"><path d=\"M297.61,284.36 C281.24,291.84 265.88,302.05 254.75,316 C235.48,340.16 231.36,375.23 231.71,402.71 \" fill=\"none\" id=\"E9-&gt;E2\" style=\"stroke: #383838; stroke-width: 1.0;\"/><polygon fill=\"#FFFFFF\" points=\"232.74,422.77,224.772,404.1552,238.7535,403.4351,232.74,422.77\" style=\"stroke: #383838; stroke-width: 1.0;\"/><ellipse cx=\"226.4762\" cy=\"398.3599\" fill=\"#383838\" rx=\"2\" ry=\"2\" style=\"stroke: #383838; stroke-width: 1.0;\"/><ellipse cx=\"236.463\" cy=\"397.8455\" fill=\"#383838\" rx=\"2\" ry=\"2\" style=\"stroke: #383838; stroke-width: 1.0;\"/></a><!--MD5=[440a5130097c9ec9f32a761a150f5131]\n",
       "@startuml\r\n",
       "top to bottom direction\r\n",
       "skinparam monochrome true\r\n",
       "skinparam classbackgroundcolor white\r\n",
       "skinparam shadowing false\r\n",
       "skinparam wrapWidth 300\r\n",
       "hide circle\r\n",
       "\r\n",
       "package \"TradeStudyTest\" as E1  [[psysml:57f8a98c-5718-48d8-9b9a-5c4650640602 ]]  {\r\n",
       "comp def \"Engine\" as E2  <<(T,blue) part  def>> [[psysml:6445380e-76a1-4d64-a2e6-1c63aec68392 ]] {\r\n",
       "}\r\n",
       "comp usage \"engine1: Engine \" as E3  <<(T,blue) part>> [[psysml:e07cfc3f-c273-4e94-9cbe-d128d50ec860 ]] {\r\n",
       "}\r\n",
       "comp usage \"engine2: Engine \" as E4  <<(T,blue) part>> [[psysml:d9e10f1c-39bd-473d-af93-7c118d42db3b ]] {\r\n",
       "}\r\n",
       "comp usage \"engineTradeStudy: TradeStudy \" as E5 << analysis>> [[psysml:f9c838ee-65e7-4043-9f07-1b30ef92e49c ]] {\r\n",
       "}\r\n",
       "comp usage \"tradeStudyObjective: MaximizeObjective \" as E6  <<(T,blue) requirement>> [[psysml:38fbb285-8167-4e3f-bee3-2164ba524da7 ]] {\r\n",
       "}\r\n",
       "comp usage \"objectiveFunction\" as E7  <<(T,blue) calculation>> [[psysml:658dce09-b71c-4e6e-94c9-a3c46617ebc8 ]] {\r\n",
       "}\r\n",
       "comp usage \"alternative: Engine \" as E8  <<(T,blue) part>> [[psysml:3dbf099d-922d-4ace-9ccd-679bba93319b ]] {\r\n",
       "}\r\n",
       "comp usage \"selectedAlternative: Engine \" as E9  <<(T,blue) part>> [[psysml:5fb9bd76-5535-468b-bb8f-88cd6f109fe8 ]] {\r\n",
       "}\r\n",
       "}\r\n",
       "E3 - -:|> E2 [[psysml:8b560a74-32d8-45cc-8c0e-f8d7e14b884a ]] \r\n",
       "E4 - -:|> E2 [[psysml:7f518d85-a598-4692-a186-0ec59d25f08f ]] \r\n",
       "E5 ..> E2 [[psysml:8e91b88f-f820-4b3f-bc7b-6a32144645a0 ]] : <<subject>>\r\n",
       "E5 - ->> E6 [[psysml:a6ebdbd2-b0f8-4e64-baff-f91dc99eb3fc ]] : <<objective>>\r\n",
       "E5 *- - E7 [[psysml:1d968e51-2f45-472a-9c8d-b659e8169068 ]] \r\n",
       "E7 o- - \"1\"E8 [[psysml:762eee8a-df65-48ef-8994-f8166e9b75f6 ]] \r\n",
       "E8 - -:|> E2 [[psysml:b4a53d37-cc69-46b7-9c1e-d748cdbb7a31 ]] \r\n",
       "E5 o- - \"1\"E9 [[psysml:b337f31d-c5a0-436f-953f-431d96e2f8f6 ]] \r\n",
       "E9 - -:|> E2 [[psysml:a6a00959-a343-466b-bcfe-643c8c056808 ]] \r\n",
       "@enduml\r\n",
       "\n",
       "PlantUML version 1.2020.13(Sat Jun 13 12:26:38 UTC 2020)\n",
       "(EPL source distribution)\n",
       "Java Runtime: OpenJDK Runtime Environment\n",
       "JVM: OpenJDK 64-Bit Server VM\n",
       "Default Encoding: UTF-8\n",
       "Language: en\n",
       "Country: null\n",
       "--></g></svg>"
      ]
     },
     "execution_count": 44,
     "metadata": {},
     "output_type": "execute_result"
    }
   ],
   "source": [
    "%viz --style=\"TB\" --view=\"Default\" \"TradeStudyTest\""
   ]
  },
  {
   "cell_type": "code",
   "execution_count": 45,
   "id": "6fed0bab",
   "metadata": {
    "execution": {
     "iopub.execute_input": "2021-11-13T13:01:41.721092Z",
     "iopub.status.busy": "2021-11-13T13:01:41.720703Z",
     "iopub.status.idle": "2021-11-13T13:01:41.760187Z",
     "shell.execute_reply": "2021-11-13T13:01:41.758155Z"
    }
   },
   "outputs": [
    {
     "data": {
      "image/svg+xml": [
       "<?xml version=\"1.0\" encoding=\"UTF-8\" standalone=\"no\"?><svg xmlns=\"http://www.w3.org/2000/svg\" xmlns:xlink=\"http://www.w3.org/1999/xlink\" contentScriptType=\"application/ecmascript\" contentStyleType=\"text/css\" height=\"497px\" preserveAspectRatio=\"none\" style=\"width:568px;height:497px;\" version=\"1.1\" viewBox=\"0 0 568 497\" width=\"568px\" zoomAndPan=\"magnify\"><defs/><g><!--MD5=[fbc87193dbaf4d95561dea2c320d4a47]\n",
       "cluster E1--><a href=\"psysml:57f8a98c-5718-48d8-9b9a-5c4650640602\" target=\"_top\" title=\"psysml:57f8a98c-5718-48d8-9b9a-5c4650640602\" xlink:actuate=\"onRequest\" xlink:href=\"psysml:57f8a98c-5718-48d8-9b9a-5c4650640602\" xlink:show=\"new\" xlink:title=\"psysml:57f8a98c-5718-48d8-9b9a-5c4650640602\" xlink:type=\"simple\"><polygon fill=\"#FFFFFF\" points=\"18.75,6,134.75,6,141.75,28.2969,546.75,28.2969,546.75,485,18.75,485,18.75,6\" style=\"stroke: #000000; stroke-width: 1.5;\"/><line style=\"stroke: #000000; stroke-width: 1.5;\" x1=\"18.75\" x2=\"141.75\" y1=\"28.2969\" y2=\"28.2969\"/><text fill=\"#000000\" font-family=\"sans-serif\" font-size=\"14\" font-weight=\"bold\" lengthAdjust=\"spacingAndGlyphs\" textLength=\"110\" x=\"22.75\" y=\"20.9951\">TradeStudyTest</text></a><!--MD5=[b4997ac47864f28c2f74865a473b2911]\n",
       "class E2--><a href=\"psysml:6445380e-76a1-4d64-a2e6-1c63aec68392\" target=\"_top\" title=\"psysml:6445380e-76a1-4d64-a2e6-1c63aec68392\" xlink:actuate=\"onRequest\" xlink:href=\"psysml:6445380e-76a1-4d64-a2e6-1c63aec68392\" xlink:show=\"new\" xlink:title=\"psysml:6445380e-76a1-4d64-a2e6-1c63aec68392\" xlink:type=\"simple\"><rect fill=\"#FFFFFF\" height=\"45.9375\" id=\"E2\" style=\"stroke: #383838; stroke-width: 1.5;\" width=\"70\" x=\"200.75\" y=\"423\"/><text fill=\"#000000\" font-family=\"sans-serif\" font-size=\"12\" font-style=\"italic\" lengthAdjust=\"spacingAndGlyphs\" textLength=\"68\" x=\"201.75\" y=\"439.1387\">«part  def»</text><text fill=\"#000000\" font-family=\"sans-serif\" font-size=\"12\" lengthAdjust=\"spacingAndGlyphs\" textLength=\"43\" x=\"214.25\" y=\"453.1074\">Engine</text><line style=\"stroke: #383838; stroke-width: 1.5;\" x1=\"201.75\" x2=\"269.75\" y1=\"460.9375\" y2=\"460.9375\"/></a><!--MD5=[09b614a08d8cba4a07c9adeb5e0fee81]\n",
       "class E3--><a href=\"psysml:e07cfc3f-c273-4e94-9cbe-d128d50ec860\" target=\"_top\" title=\"psysml:e07cfc3f-c273-4e94-9cbe-d128d50ec860\" xlink:actuate=\"onRequest\" xlink:href=\"psysml:e07cfc3f-c273-4e94-9cbe-d128d50ec860\" xlink:show=\"new\" xlink:title=\"psysml:e07cfc3f-c273-4e94-9cbe-d128d50ec860\" xlink:type=\"simple\"><rect fill=\"#FFFFFF\" height=\"45.9375\" id=\"E3\" rx=\"10\" ry=\"10\" style=\"stroke: #383838; stroke-width: 1.5;\" width=\"112\" x=\"418.75\" y=\"316\"/><text fill=\"#000000\" font-family=\"sans-serif\" font-size=\"12\" font-style=\"italic\" lengthAdjust=\"spacingAndGlyphs\" textLength=\"40\" x=\"454.75\" y=\"332.1387\">«part»</text><text fill=\"#000000\" font-family=\"sans-serif\" font-size=\"12\" lengthAdjust=\"spacingAndGlyphs\" textLength=\"102\" x=\"421.75\" y=\"346.1074\">engine1: Engine</text><line style=\"stroke: #383838; stroke-width: 1.5;\" x1=\"419.75\" x2=\"529.75\" y1=\"353.9375\" y2=\"353.9375\"/></a><!--MD5=[ebbe1d658d1005bcc118a6aa81145e00]\n",
       "class E4--><a href=\"psysml:d9e10f1c-39bd-473d-af93-7c118d42db3b\" target=\"_top\" title=\"psysml:d9e10f1c-39bd-473d-af93-7c118d42db3b\" xlink:actuate=\"onRequest\" xlink:href=\"psysml:d9e10f1c-39bd-473d-af93-7c118d42db3b\" xlink:show=\"new\" xlink:title=\"psysml:d9e10f1c-39bd-473d-af93-7c118d42db3b\" xlink:type=\"simple\"><rect fill=\"#FFFFFF\" height=\"45.9375\" id=\"E4\" rx=\"10\" ry=\"10\" style=\"stroke: #383838; stroke-width: 1.5;\" width=\"112\" x=\"271.75\" y=\"316\"/><text fill=\"#000000\" font-family=\"sans-serif\" font-size=\"12\" font-style=\"italic\" lengthAdjust=\"spacingAndGlyphs\" textLength=\"40\" x=\"307.75\" y=\"332.1387\">«part»</text><text fill=\"#000000\" font-family=\"sans-serif\" font-size=\"12\" lengthAdjust=\"spacingAndGlyphs\" textLength=\"102\" x=\"274.75\" y=\"346.1074\">engine2: Engine</text><line style=\"stroke: #383838; stroke-width: 1.5;\" x1=\"272.75\" x2=\"382.75\" y1=\"353.9375\" y2=\"353.9375\"/></a><!--MD5=[270fce915f116d4de14055a7c1d9a0f3]\n",
       "class E5--><a href=\"psysml:f9c838ee-65e7-4043-9f07-1b30ef92e49c\" target=\"_top\" title=\"psysml:f9c838ee-65e7-4043-9f07-1b30ef92e49c\" xlink:actuate=\"onRequest\" xlink:href=\"psysml:f9c838ee-65e7-4043-9f07-1b30ef92e49c\" xlink:show=\"new\" xlink:title=\"psysml:f9c838ee-65e7-4043-9f07-1b30ef92e49c\" xlink:type=\"simple\"><rect fill=\"#FFFFFF\" height=\"45.9375\" id=\"E5\" rx=\"10\" ry=\"10\" style=\"stroke: #383838; stroke-width: 1.5;\" width=\"203\" x=\"248.25\" y=\"41\"/><text fill=\"#000000\" font-family=\"sans-serif\" font-size=\"12\" font-style=\"italic\" lengthAdjust=\"spacingAndGlyphs\" textLength=\"64\" x=\"317.75\" y=\"57.1387\">«analysis»</text><text fill=\"#000000\" font-family=\"sans-serif\" font-size=\"12\" lengthAdjust=\"spacingAndGlyphs\" textLength=\"193\" x=\"251.25\" y=\"71.1074\">engineTradeStudy: TradeStudy</text><line style=\"stroke: #383838; stroke-width: 1.5;\" x1=\"249.25\" x2=\"450.25\" y1=\"78.9375\" y2=\"78.9375\"/></a><!--MD5=[60a26617385b1d2d0262a64233df1f8d]\n",
       "class E6--><a href=\"psysml:38fbb285-8167-4e3f-bee3-2164ba524da7\" target=\"_top\" title=\"psysml:38fbb285-8167-4e3f-bee3-2164ba524da7\" xlink:actuate=\"onRequest\" xlink:href=\"psysml:38fbb285-8167-4e3f-bee3-2164ba524da7\" xlink:show=\"new\" xlink:title=\"psysml:38fbb285-8167-4e3f-bee3-2164ba524da7\" xlink:type=\"simple\"><rect fill=\"#FFFFFF\" height=\"45.9375\" id=\"E6\" rx=\"10\" ry=\"10\" style=\"stroke: #383838; stroke-width: 1.5;\" width=\"255\" x=\"87.25\" y=\"164\"/><text fill=\"#000000\" font-family=\"sans-serif\" font-size=\"12\" font-style=\"italic\" lengthAdjust=\"spacingAndGlyphs\" textLength=\"91\" x=\"169.25\" y=\"180.1387\">«requirement»</text><text fill=\"#000000\" font-family=\"sans-serif\" font-size=\"12\" lengthAdjust=\"spacingAndGlyphs\" textLength=\"245\" x=\"90.25\" y=\"194.1074\">tradeStudyObjective: MaximizeObjective</text><line style=\"stroke: #383838; stroke-width: 1.5;\" x1=\"88.25\" x2=\"341.25\" y1=\"201.9375\" y2=\"201.9375\"/></a><!--MD5=[2156ba9850f5573cc1fc38a6a4b2f02b]\n",
       "class E7--><a href=\"psysml:658dce09-b71c-4e6e-94c9-a3c46617ebc8\" target=\"_top\" title=\"psysml:658dce09-b71c-4e6e-94c9-a3c46617ebc8\" xlink:actuate=\"onRequest\" xlink:href=\"psysml:658dce09-b71c-4e6e-94c9-a3c46617ebc8\" xlink:show=\"new\" xlink:title=\"psysml:658dce09-b71c-4e6e-94c9-a3c46617ebc8\" xlink:type=\"simple\"><rect fill=\"#FFFFFF\" height=\"45.9375\" id=\"E7\" rx=\"10\" ry=\"10\" style=\"stroke: #383838; stroke-width: 1.5;\" width=\"116\" x=\"377.75\" y=\"164\"/><text fill=\"#000000\" font-family=\"sans-serif\" font-size=\"12\" font-style=\"italic\" lengthAdjust=\"spacingAndGlyphs\" textLength=\"82\" x=\"394.75\" y=\"180.1387\">«calculation»</text><text fill=\"#000000\" font-family=\"sans-serif\" font-size=\"12\" lengthAdjust=\"spacingAndGlyphs\" textLength=\"110\" x=\"380.75\" y=\"194.1074\">objectiveFunction</text><line style=\"stroke: #383838; stroke-width: 1.5;\" x1=\"378.75\" x2=\"492.75\" y1=\"201.9375\" y2=\"201.9375\"/></a><!--MD5=[b9389687b975829384b498ac4b7476b2]\n",
       "class E8--><a href=\"psysml:3dbf099d-922d-4ace-9ccd-679bba93319b\" target=\"_top\" title=\"psysml:3dbf099d-922d-4ace-9ccd-679bba93319b\" xlink:actuate=\"onRequest\" xlink:href=\"psysml:3dbf099d-922d-4ace-9ccd-679bba93319b\" xlink:show=\"new\" xlink:title=\"psysml:3dbf099d-922d-4ace-9ccd-679bba93319b\" xlink:type=\"simple\"><rect fill=\"#FFFFFF\" height=\"45.9375\" id=\"E8\" rx=\"10\" ry=\"10\" style=\"stroke: #383838; stroke-width: 1.5;\" width=\"128\" x=\"71.75\" y=\"316\"/><text fill=\"#000000\" font-family=\"sans-serif\" font-size=\"12\" font-style=\"italic\" lengthAdjust=\"spacingAndGlyphs\" textLength=\"40\" x=\"115.75\" y=\"332.1387\">«part»</text><text fill=\"#000000\" font-family=\"sans-serif\" font-size=\"12\" lengthAdjust=\"spacingAndGlyphs\" textLength=\"118\" x=\"74.75\" y=\"346.1074\">alternative: Engine</text><line style=\"stroke: #383838; stroke-width: 1.5;\" x1=\"72.75\" x2=\"198.75\" y1=\"353.9375\" y2=\"353.9375\"/></a><!--MD5=[fd4143e9d270a159db93a4ea2a975926]\n",
       "class E9--><a href=\"psysml:5fb9bd76-5535-468b-bb8f-88cd6f109fe8\" target=\"_top\" title=\"psysml:5fb9bd76-5535-468b-bb8f-88cd6f109fe8\" xlink:actuate=\"onRequest\" xlink:href=\"psysml:5fb9bd76-5535-468b-bb8f-88cd6f109fe8\" xlink:show=\"new\" xlink:title=\"psysml:5fb9bd76-5535-468b-bb8f-88cd6f109fe8\" xlink:type=\"simple\"><rect fill=\"#FFFFFF\" height=\"45.9375\" id=\"E9\" rx=\"10\" ry=\"10\" style=\"stroke: #383838; stroke-width: 1.5;\" width=\"182\" x=\"297.75\" y=\"240\"/><text fill=\"#000000\" font-family=\"sans-serif\" font-size=\"12\" font-style=\"italic\" lengthAdjust=\"spacingAndGlyphs\" textLength=\"40\" x=\"368.75\" y=\"256.1387\">«part»</text><text fill=\"#000000\" font-family=\"sans-serif\" font-size=\"12\" lengthAdjust=\"spacingAndGlyphs\" textLength=\"172\" x=\"300.75\" y=\"270.1074\">selectedAlternative: Engine</text><line style=\"stroke: #383838; stroke-width: 1.5;\" x1=\"298.75\" x2=\"478.75\" y1=\"277.9375\" y2=\"277.9375\"/></a><!--MD5=[05d275557350bfb9b23a4ef7222b4c39]\n",
       "link E3 to E2--><a href=\"psysml:8b560a74-32d8-45cc-8c0e-f8d7e14b884a\" target=\"_top\" title=\"psysml:8b560a74-32d8-45cc-8c0e-f8d7e14b884a\" xlink:actuate=\"onRequest\" xlink:href=\"psysml:8b560a74-32d8-45cc-8c0e-f8d7e14b884a\" xlink:show=\"new\" xlink:title=\"psysml:8b560a74-32d8-45cc-8c0e-f8d7e14b884a\" xlink:type=\"simple\"><path d=\"M424.65,362.01 C385.12,379.38 330.1,403.55 289.63,421.33 \" fill=\"none\" id=\"E3-&gt;E2\" style=\"stroke: #383838; stroke-width: 1.0;\"/><polygon fill=\"#FFFFFF\" points=\"271.06,429.49,285.6417,415.4411,291.271,428.2594,271.06,429.49\" style=\"stroke: #383838; stroke-width: 1.0;\"/><ellipse cx=\"291.6648\" cy=\"414.9803\" fill=\"#383838\" rx=\"2\" ry=\"2\" style=\"stroke: #383838; stroke-width: 1.0;\"/><ellipse cx=\"295.6858\" cy=\"424.1363\" fill=\"#383838\" rx=\"2\" ry=\"2\" style=\"stroke: #383838; stroke-width: 1.0;\"/></a><!--MD5=[185131fc0dcab0a4505a2ebe144e961b]\n",
       "link E4 to E2--><a href=\"psysml:7f518d85-a598-4692-a186-0ec59d25f08f\" target=\"_top\" title=\"psysml:7f518d85-a598-4692-a186-0ec59d25f08f\" xlink:actuate=\"onRequest\" xlink:href=\"psysml:7f518d85-a598-4692-a186-0ec59d25f08f\" xlink:show=\"new\" xlink:title=\"psysml:7f518d85-a598-4692-a186-0ec59d25f08f\" xlink:type=\"simple\"><path d=\"M308.46,362.01 C297.01,375.08 282.18,392.01 268.89,407.17 \" fill=\"none\" id=\"E4-&gt;E2\" style=\"stroke: #383838; stroke-width: 1.0;\"/><polygon fill=\"#FFFFFF\" points=\"255.33,422.66,262.5901,403.7578,273.1181,412.9861,255.33,422.66\" style=\"stroke: #383838; stroke-width: 1.0;\"/><ellipse cx=\"267.8513\" cy=\"400.7898\" fill=\"#383838\" rx=\"2\" ry=\"2\" style=\"stroke: #383838; stroke-width: 1.0;\"/><ellipse cx=\"275.3713\" cy=\"407.3814\" fill=\"#383838\" rx=\"2\" ry=\"2\" style=\"stroke: #383838; stroke-width: 1.0;\"/></a><!--MD5=[15ebcb19ae302d9b601edb458606d402]\n",
       "link E5 to E2--><a href=\"psysml:8e91b88f-f820-4b3f-bc7b-6a32144645a0\" target=\"_top\" title=\"psysml:8e91b88f-f820-4b3f-bc7b-6a32144645a0\" xlink:actuate=\"onRequest\" xlink:href=\"psysml:8e91b88f-f820-4b3f-bc7b-6a32144645a0\" xlink:show=\"new\" xlink:title=\"psysml:8e91b88f-f820-4b3f-bc7b-6a32144645a0\" xlink:type=\"simple\"><path d=\"M248.05,74.19 C186.69,85.36 112.38,109.96 69.75,164 C15.07,233.32 6,287.74 53.75,362 C84.89,410.42 152.01,430.93 195.46,439.38 \" fill=\"none\" id=\"E5-&gt;E2\" style=\"stroke: #383838; stroke-width: 1.0; stroke-dasharray: 7.0,7.0;\"/><polygon fill=\"#383838\" points=\"200.63,440.35,192.5135,434.7713,195.7143,439.4355,191.0502,442.6363,200.63,440.35\" style=\"stroke: #383838; stroke-width: 1.0;\"/><text fill=\"#000000\" font-family=\"sans-serif\" font-size=\"13\" lengthAdjust=\"spacingAndGlyphs\" textLength=\"62\" x=\"28.75\" y=\"267.5669\">«subject»</text></a><!--MD5=[9120cf2e5df3bff93db8f754bbbc09b4]\n",
       "link E5 to E6--><a href=\"psysml:a6ebdbd2-b0f8-4e64-baff-f91dc99eb3fc\" target=\"_top\" title=\"psysml:a6ebdbd2-b0f8-4e64-baff-f91dc99eb3fc\" xlink:actuate=\"onRequest\" xlink:href=\"psysml:a6ebdbd2-b0f8-4e64-baff-f91dc99eb3fc\" xlink:show=\"new\" xlink:title=\"psysml:a6ebdbd2-b0f8-4e64-baff-f91dc99eb3fc\" xlink:type=\"simple\"><path d=\"M324.99,87.19 C302.63,107.23 269.64,136.8 245.58,158.37 \" fill=\"none\" id=\"E5-&gt;E6\" style=\"stroke: #383838; stroke-width: 1.0;\"/><polygon fill=\"#383838\" points=\"239.35,163.95,247.3086,160.8419,243.3025,156.3752,239.35,163.95\" style=\"stroke: #383838; stroke-width: 1.0;\"/><text fill=\"#000000\" font-family=\"sans-serif\" font-size=\"13\" lengthAdjust=\"spacingAndGlyphs\" textLength=\"73\" x=\"290.75\" y=\"130.0669\">«objective»</text></a><!--MD5=[452b418e7f8a40397a49b8c0a78acc5b]\n",
       "reverse link E5 to E7--><a href=\"psysml:1d968e51-2f45-472a-9c8d-b659e8169068\" target=\"_top\" title=\"psysml:1d968e51-2f45-472a-9c8d-b659e8169068\" xlink:actuate=\"onRequest\" xlink:href=\"psysml:1d968e51-2f45-472a-9c8d-b659e8169068\" xlink:show=\"new\" xlink:title=\"psysml:1d968e51-2f45-472a-9c8d-b659e8169068\" xlink:type=\"simple\"><path d=\"M373.12,97.88 C388.03,118.86 406.95,145.48 420.08,163.95 \" fill=\"none\" id=\"E5&lt;-E7\" style=\"stroke: #383838; stroke-width: 1.0;\"/><polygon fill=\"#383838\" points=\"365.52,87.19,365.7442,94.3976,372.4836,96.9628,372.2594,89.7552,365.52,87.19\" style=\"stroke: #383838; stroke-width: 1.0;\"/></a><!--MD5=[dc164f5e8a733ab456ef1add180e9e34]\n",
       "reverse link E7 to E8--><a href=\"psysml:762eee8a-df65-48ef-8994-f8166e9b75f6\" target=\"_top\" title=\"psysml:762eee8a-df65-48ef-8994-f8166e9b75f6\" xlink:actuate=\"onRequest\" xlink:href=\"psysml:762eee8a-df65-48ef-8994-f8166e9b75f6\" xlink:show=\"new\" xlink:title=\"psysml:762eee8a-df65-48ef-8994-f8166e9b75f6\" xlink:type=\"simple\"><path d=\"M365.14,209.66 C331.9,220.26 296.21,232.36 280.75,240 C237.3,261.47 191.71,294.23 163.51,315.88 \" fill=\"none\" id=\"E7&lt;-E8\" style=\"stroke: #383838; stroke-width: 1.0;\"/><polygon fill=\"#FFFFFF\" points=\"377.71,205.68,370.7821,203.6789,366.2704,209.3043,373.1983,211.3053,377.71,205.68\" style=\"stroke: #383838; stroke-width: 1.0;\"/><text fill=\"#000000\" font-family=\"sans-serif\" font-size=\"13\" lengthAdjust=\"spacingAndGlyphs\" textLength=\"8\" x=\"161.8955\" y=\"304.744\">1</text></a><!--MD5=[f1f3f9f2fc535e6147756cb86a7f2e32]\n",
       "link E8 to E2--><a href=\"psysml:b4a53d37-cc69-46b7-9c1e-d748cdbb7a31\" target=\"_top\" title=\"psysml:b4a53d37-cc69-46b7-9c1e-d748cdbb7a31\" xlink:actuate=\"onRequest\" xlink:href=\"psysml:b4a53d37-cc69-46b7-9c1e-d748cdbb7a31\" xlink:show=\"new\" xlink:title=\"psysml:b4a53d37-cc69-46b7-9c1e-d748cdbb7a31\" xlink:type=\"simple\"><path d=\"M156.71,362.01 C169.43,375.36 185.98,392.74 200.64,408.14 \" fill=\"none\" id=\"E8-&gt;E2\" style=\"stroke: #383838; stroke-width: 1.0;\"/><polygon fill=\"#FFFFFF\" points=\"214.47,422.66,196.3009,413.7223,206.4424,404.0708,214.47,422.66\" style=\"stroke: #383838; stroke-width: 1.0;\"/><ellipse cx=\"193.8202\" cy=\"408.2144\" fill=\"#383838\" rx=\"2\" ry=\"2\" style=\"stroke: #383838; stroke-width: 1.0;\"/><ellipse cx=\"201.0641\" cy=\"401.3206\" fill=\"#383838\" rx=\"2\" ry=\"2\" style=\"stroke: #383838; stroke-width: 1.0;\"/></a><!--MD5=[9ae28de373ca99bb8a1b38d63370ca7e]\n",
       "reverse link E5 to E9--><a href=\"psysml:b337f31d-c5a0-436f-953f-431d96e2f8f6\" target=\"_top\" title=\"psysml:b337f31d-c5a0-436f-953f-431d96e2f8f6\" xlink:actuate=\"onRequest\" xlink:href=\"psysml:b337f31d-c5a0-436f-953f-431d96e2f8f6\" xlink:show=\"new\" xlink:title=\"psysml:b337f31d-c5a0-436f-953f-431d96e2f8f6\" xlink:type=\"simple\"><path d=\"M427.82,92.73 C459.8,108.4 493.52,131.5 511.75,164 C521.75,181.83 523.05,192.96 511.75,210 C503.17,222.95 490.65,232.68 476.85,239.99 \" fill=\"none\" id=\"E5&lt;-E9\" style=\"stroke: #383838; stroke-width: 1.0;\"/><polygon fill=\"#FFFFFF\" points=\"415.69,87.08,419.4417,93.2383,426.5692,92.1438,422.8176,85.9855,415.69,87.08\" style=\"stroke: #383838; stroke-width: 1.0;\"/><text fill=\"#000000\" font-family=\"sans-serif\" font-size=\"13\" lengthAdjust=\"spacingAndGlyphs\" textLength=\"8\" x=\"487.2469\" y=\"230.4042\">1</text></a><!--MD5=[5c3bb36fe832a92c7f0e1807dd65209d]\n",
       "link E9 to E2--><a href=\"psysml:a6a00959-a343-466b-bcfe-643c8c056808\" target=\"_top\" title=\"psysml:a6a00959-a343-466b-bcfe-643c8c056808\" xlink:actuate=\"onRequest\" xlink:href=\"psysml:a6a00959-a343-466b-bcfe-643c8c056808\" xlink:show=\"new\" xlink:title=\"psysml:a6a00959-a343-466b-bcfe-643c8c056808\" xlink:type=\"simple\"><path d=\"M297.61,284.36 C281.24,291.84 265.88,302.05 254.75,316 C235.48,340.16 231.36,375.23 231.71,402.71 \" fill=\"none\" id=\"E9-&gt;E2\" style=\"stroke: #383838; stroke-width: 1.0;\"/><polygon fill=\"#FFFFFF\" points=\"232.74,422.77,224.772,404.1552,238.7535,403.4351,232.74,422.77\" style=\"stroke: #383838; stroke-width: 1.0;\"/><ellipse cx=\"226.4762\" cy=\"398.3599\" fill=\"#383838\" rx=\"2\" ry=\"2\" style=\"stroke: #383838; stroke-width: 1.0;\"/><ellipse cx=\"236.463\" cy=\"397.8455\" fill=\"#383838\" rx=\"2\" ry=\"2\" style=\"stroke: #383838; stroke-width: 1.0;\"/></a><!--MD5=[440a5130097c9ec9f32a761a150f5131]\n",
       "@startuml\r\n",
       "top to bottom direction\r\n",
       "skinparam monochrome true\r\n",
       "skinparam classbackgroundcolor white\r\n",
       "skinparam shadowing false\r\n",
       "skinparam wrapWidth 300\r\n",
       "hide circle\r\n",
       "\r\n",
       "package \"TradeStudyTest\" as E1  [[psysml:57f8a98c-5718-48d8-9b9a-5c4650640602 ]]  {\r\n",
       "comp def \"Engine\" as E2  <<(T,blue) part  def>> [[psysml:6445380e-76a1-4d64-a2e6-1c63aec68392 ]] {\r\n",
       "}\r\n",
       "comp usage \"engine1: Engine \" as E3  <<(T,blue) part>> [[psysml:e07cfc3f-c273-4e94-9cbe-d128d50ec860 ]] {\r\n",
       "}\r\n",
       "comp usage \"engine2: Engine \" as E4  <<(T,blue) part>> [[psysml:d9e10f1c-39bd-473d-af93-7c118d42db3b ]] {\r\n",
       "}\r\n",
       "comp usage \"engineTradeStudy: TradeStudy \" as E5 << analysis>> [[psysml:f9c838ee-65e7-4043-9f07-1b30ef92e49c ]] {\r\n",
       "}\r\n",
       "comp usage \"tradeStudyObjective: MaximizeObjective \" as E6  <<(T,blue) requirement>> [[psysml:38fbb285-8167-4e3f-bee3-2164ba524da7 ]] {\r\n",
       "}\r\n",
       "comp usage \"objectiveFunction\" as E7  <<(T,blue) calculation>> [[psysml:658dce09-b71c-4e6e-94c9-a3c46617ebc8 ]] {\r\n",
       "}\r\n",
       "comp usage \"alternative: Engine \" as E8  <<(T,blue) part>> [[psysml:3dbf099d-922d-4ace-9ccd-679bba93319b ]] {\r\n",
       "}\r\n",
       "comp usage \"selectedAlternative: Engine \" as E9  <<(T,blue) part>> [[psysml:5fb9bd76-5535-468b-bb8f-88cd6f109fe8 ]] {\r\n",
       "}\r\n",
       "}\r\n",
       "E3 - -:|> E2 [[psysml:8b560a74-32d8-45cc-8c0e-f8d7e14b884a ]] \r\n",
       "E4 - -:|> E2 [[psysml:7f518d85-a598-4692-a186-0ec59d25f08f ]] \r\n",
       "E5 ..> E2 [[psysml:8e91b88f-f820-4b3f-bc7b-6a32144645a0 ]] : <<subject>>\r\n",
       "E5 - ->> E6 [[psysml:a6ebdbd2-b0f8-4e64-baff-f91dc99eb3fc ]] : <<objective>>\r\n",
       "E5 *- - E7 [[psysml:1d968e51-2f45-472a-9c8d-b659e8169068 ]] \r\n",
       "E7 o- - \"1\"E8 [[psysml:762eee8a-df65-48ef-8994-f8166e9b75f6 ]] \r\n",
       "E8 - -:|> E2 [[psysml:b4a53d37-cc69-46b7-9c1e-d748cdbb7a31 ]] \r\n",
       "E5 o- - \"1\"E9 [[psysml:b337f31d-c5a0-436f-953f-431d96e2f8f6 ]] \r\n",
       "E9 - -:|> E2 [[psysml:a6a00959-a343-466b-bcfe-643c8c056808 ]] \r\n",
       "@enduml\r\n",
       "\n",
       "PlantUML version 1.2020.13(Sat Jun 13 12:26:38 UTC 2020)\n",
       "(EPL source distribution)\n",
       "Java Runtime: OpenJDK Runtime Environment\n",
       "JVM: OpenJDK 64-Bit Server VM\n",
       "Default Encoding: UTF-8\n",
       "Language: en\n",
       "Country: null\n",
       "--></g></svg>"
      ]
     },
     "execution_count": 45,
     "metadata": {},
     "output_type": "execute_result"
    }
   ],
   "source": [
    "%viz --style=\"TB\" --view=\"Tree\" \"TradeStudyTest\""
   ]
  },
  {
   "cell_type": "code",
   "execution_count": 46,
   "id": "c21dc673",
   "metadata": {
    "execution": {
     "iopub.execute_input": "2021-11-13T13:01:41.808891Z",
     "iopub.status.busy": "2021-11-13T13:01:41.808474Z",
     "iopub.status.idle": "2021-11-13T13:01:41.813601Z",
     "shell.execute_reply": "2021-11-13T13:01:41.813201Z"
    }
   },
   "outputs": [
    {
     "data": {
      "image/svg+xml": [
       "<?xml version=\"1.0\" encoding=\"UTF-8\" standalone=\"no\"?><svg xmlns=\"http://www.w3.org/2000/svg\" xmlns:xlink=\"http://www.w3.org/1999/xlink\" contentScriptType=\"application/ecmascript\" contentStyleType=\"text/css\" height=\"12px\" preserveAspectRatio=\"none\" style=\"width:12px;height:12px;\" version=\"1.1\" viewBox=\"0 0 12 12\" width=\"12px\" zoomAndPan=\"magnify\"><defs/><g><!--MD5=[f4ee21bc66e489b5061b7c3e9601fdef]\n",
       "@startuml\r\n",
       "top to bottom direction\r\n",
       "skinparam monochrome true\r\n",
       "skinparam classbackgroundcolor white\r\n",
       "skinparam shadowing false\r\n",
       "skinparam wrapWidth 300\r\n",
       "hide circle\r\n",
       "\r\n",
       "@enduml\r\n",
       "\n",
       "PlantUML version 1.2020.13(Sat Jun 13 12:26:38 UTC 2020)\n",
       "(EPL source distribution)\n",
       "Java Runtime: OpenJDK Runtime Environment\n",
       "JVM: OpenJDK 64-Bit Server VM\n",
       "Default Encoding: UTF-8\n",
       "Language: en\n",
       "Country: null\n",
       "--></g></svg>"
      ]
     },
     "execution_count": 46,
     "metadata": {},
     "output_type": "execute_result"
    }
   ],
   "source": [
    "%viz --style=\"TB\" --view=\"State\" \"TradeStudyTest\""
   ]
  },
  {
   "cell_type": "code",
   "execution_count": 47,
   "id": "363f2648",
   "metadata": {
    "execution": {
     "iopub.execute_input": "2021-11-13T13:01:41.862825Z",
     "iopub.status.busy": "2021-11-13T13:01:41.862366Z",
     "iopub.status.idle": "2021-11-13T13:01:41.899752Z",
     "shell.execute_reply": "2021-11-13T13:01:41.897633Z"
    }
   },
   "outputs": [
    {
     "data": {
      "image/svg+xml": [
       "<?xml version=\"1.0\" encoding=\"UTF-8\" standalone=\"no\"?><svg xmlns=\"http://www.w3.org/2000/svg\" xmlns:xlink=\"http://www.w3.org/1999/xlink\" contentScriptType=\"application/ecmascript\" contentStyleType=\"text/css\" height=\"334px\" preserveAspectRatio=\"none\" style=\"width:569px;height:334px;\" version=\"1.1\" viewBox=\"0 0 569 334\" width=\"569px\" zoomAndPan=\"magnify\"><defs/><g><!--MD5=[fbc87193dbaf4d95561dea2c320d4a47]\n",
       "cluster E1--><a href=\"psysml:57f8a98c-5718-48d8-9b9a-5c4650640602\" target=\"_top\" title=\"psysml:57f8a98c-5718-48d8-9b9a-5c4650640602\" xlink:actuate=\"onRequest\" xlink:href=\"psysml:57f8a98c-5718-48d8-9b9a-5c4650640602\" xlink:show=\"new\" xlink:title=\"psysml:57f8a98c-5718-48d8-9b9a-5c4650640602\" xlink:type=\"simple\"><polygon fill=\"#FFFFFF\" points=\"16,6,132,6,139,28.2969,547,28.2969,547,322,16,322,16,6\" style=\"stroke: #000000; stroke-width: 1.5;\"/><line style=\"stroke: #000000; stroke-width: 1.5;\" x1=\"16\" x2=\"139\" y1=\"28.2969\" y2=\"28.2969\"/><text fill=\"#000000\" font-family=\"sans-serif\" font-size=\"14\" font-weight=\"bold\" lengthAdjust=\"spacingAndGlyphs\" textLength=\"110\" x=\"20\" y=\"20.9951\">TradeStudyTest</text></a><!--MD5=[270fce915f116d4de14055a7c1d9a0f3]\n",
       "class E5--><a href=\"psysml:f9c838ee-65e7-4043-9f07-1b30ef92e49c\" target=\"_top\" title=\"psysml:f9c838ee-65e7-4043-9f07-1b30ef92e49c\" xlink:actuate=\"onRequest\" xlink:href=\"psysml:f9c838ee-65e7-4043-9f07-1b30ef92e49c\" xlink:show=\"new\" xlink:title=\"psysml:f9c838ee-65e7-4043-9f07-1b30ef92e49c\" xlink:type=\"simple\"><rect fill=\"#FFFFFF\" height=\"45.9375\" id=\"E5\" rx=\"10\" ry=\"10\" style=\"stroke: #383838; stroke-width: 1.5;\" width=\"203\" x=\"328.5\" y=\"41\"/><text fill=\"#000000\" font-family=\"sans-serif\" font-size=\"12\" font-style=\"italic\" lengthAdjust=\"spacingAndGlyphs\" textLength=\"64\" x=\"398\" y=\"57.1387\">«analysis»</text><text fill=\"#000000\" font-family=\"sans-serif\" font-size=\"12\" lengthAdjust=\"spacingAndGlyphs\" textLength=\"193\" x=\"331.5\" y=\"71.1074\">engineTradeStudy: TradeStudy</text><line style=\"stroke: #383838; stroke-width: 1.5;\" x1=\"329.5\" x2=\"530.5\" y1=\"78.9375\" y2=\"78.9375\"/></a><!--MD5=[60a26617385b1d2d0262a64233df1f8d]\n",
       "class E6--><a href=\"psysml:38fbb285-8167-4e3f-bee3-2164ba524da7\" target=\"_top\" title=\"psysml:38fbb285-8167-4e3f-bee3-2164ba524da7\" xlink:actuate=\"onRequest\" xlink:href=\"psysml:38fbb285-8167-4e3f-bee3-2164ba524da7\" xlink:show=\"new\" xlink:title=\"psysml:38fbb285-8167-4e3f-bee3-2164ba524da7\" xlink:type=\"simple\"><rect fill=\"#FFFFFF\" height=\"45.9375\" id=\"E6\" rx=\"10\" ry=\"10\" style=\"stroke: #383838; stroke-width: 1.5;\" width=\"255\" x=\"32.5\" y=\"120\"/><text fill=\"#000000\" font-family=\"sans-serif\" font-size=\"12\" font-style=\"italic\" lengthAdjust=\"spacingAndGlyphs\" textLength=\"91\" x=\"114.5\" y=\"136.1387\">«requirement»</text><text fill=\"#000000\" font-family=\"sans-serif\" font-size=\"12\" lengthAdjust=\"spacingAndGlyphs\" textLength=\"245\" x=\"35.5\" y=\"150.1074\">tradeStudyObjective: MaximizeObjective</text><line style=\"stroke: #383838; stroke-width: 1.5;\" x1=\"33.5\" x2=\"286.5\" y1=\"157.9375\" y2=\"157.9375\"/></a><!--MD5=[2156ba9850f5573cc1fc38a6a4b2f02b]\n",
       "class E7--><a href=\"psysml:658dce09-b71c-4e6e-94c9-a3c46617ebc8\" target=\"_top\" title=\"psysml:658dce09-b71c-4e6e-94c9-a3c46617ebc8\" xlink:actuate=\"onRequest\" xlink:href=\"psysml:658dce09-b71c-4e6e-94c9-a3c46617ebc8\" xlink:show=\"new\" xlink:title=\"psysml:658dce09-b71c-4e6e-94c9-a3c46617ebc8\" xlink:type=\"simple\"><rect fill=\"#FFFFFF\" height=\"45.9375\" id=\"E7\" rx=\"10\" ry=\"10\" style=\"stroke: #383838; stroke-width: 1.5;\" width=\"116\" x=\"323\" y=\"120\"/><text fill=\"#000000\" font-family=\"sans-serif\" font-size=\"12\" font-style=\"italic\" lengthAdjust=\"spacingAndGlyphs\" textLength=\"82\" x=\"340\" y=\"136.1387\">«calculation»</text><text fill=\"#000000\" font-family=\"sans-serif\" font-size=\"12\" lengthAdjust=\"spacingAndGlyphs\" textLength=\"110\" x=\"326\" y=\"150.1074\">objectiveFunction</text><line style=\"stroke: #383838; stroke-width: 1.5;\" x1=\"324\" x2=\"438\" y1=\"157.9375\" y2=\"157.9375\"/></a><!--MD5=[b9389687b975829384b498ac4b7476b2]\n",
       "class E8--><a href=\"psysml:3dbf099d-922d-4ace-9ccd-679bba93319b\" target=\"_top\" title=\"psysml:3dbf099d-922d-4ace-9ccd-679bba93319b\" xlink:actuate=\"onRequest\" xlink:href=\"psysml:3dbf099d-922d-4ace-9ccd-679bba93319b\" xlink:show=\"new\" xlink:title=\"psysml:3dbf099d-922d-4ace-9ccd-679bba93319b\" xlink:type=\"simple\"><rect fill=\"#FFFFFF\" height=\"31.9688\" id=\"E8\" rx=\"10\" ry=\"10\" style=\"stroke: #383838; stroke-width: 1.5;\" width=\"128\" x=\"175\" y=\"214\"/><text fill=\"#000000\" font-family=\"sans-serif\" font-size=\"12\" lengthAdjust=\"spacingAndGlyphs\" textLength=\"118\" x=\"178\" y=\"230.1387\">alternative: Engine</text><line style=\"stroke: #383838; stroke-width: 1.5;\" x1=\"176\" x2=\"302\" y1=\"237.9688\" y2=\"237.9688\"/></a><!--MD5=[fd4143e9d270a159db93a4ea2a975926]\n",
       "class E9--><a href=\"psysml:5fb9bd76-5535-468b-bb8f-88cd6f109fe8\" target=\"_top\" title=\"psysml:5fb9bd76-5535-468b-bb8f-88cd6f109fe8\" xlink:actuate=\"onRequest\" xlink:href=\"psysml:5fb9bd76-5535-468b-bb8f-88cd6f109fe8\" xlink:show=\"new\" xlink:title=\"psysml:5fb9bd76-5535-468b-bb8f-88cd6f109fe8\" xlink:type=\"simple\"><rect fill=\"#FFFFFF\" height=\"31.9688\" id=\"E9\" rx=\"10\" ry=\"10\" style=\"stroke: #383838; stroke-width: 1.5;\" width=\"182\" x=\"245\" y=\"174\"/><text fill=\"#000000\" font-family=\"sans-serif\" font-size=\"12\" lengthAdjust=\"spacingAndGlyphs\" textLength=\"172\" x=\"248\" y=\"190.1387\">selectedAlternative: Engine</text><line style=\"stroke: #383838; stroke-width: 1.5;\" x1=\"246\" x2=\"426\" y1=\"197.9688\" y2=\"197.9688\"/></a><g id=\"E1.E2\"><a href=\"psysml:6445380e-76a1-4d64-a2e6-1c63aec68392\" target=\"_top\" title=\"psysml:6445380e-76a1-4d64-a2e6-1c63aec68392\" xlink:actuate=\"onRequest\" xlink:href=\"psysml:6445380e-76a1-4d64-a2e6-1c63aec68392\" xlink:show=\"new\" xlink:title=\"psysml:6445380e-76a1-4d64-a2e6-1c63aec68392\" xlink:type=\"simple\"><rect fill=\"#FFFFFF\" height=\"42.9375\" id=\"E2\" style=\"stroke: #383838; stroke-width: 1.5;\" width=\"75\" x=\"301.5\" y=\"263\"/><rect fill=\"#F8F8F8\" height=\"37.9375\" style=\"stroke: #383838; stroke-width: 1.5;\" width=\"75\" x=\"301.5\" y=\"263\"/><text fill=\"#000000\" font-family=\"sans-serif\" font-size=\"12\" font-style=\"italic\" lengthAdjust=\"spacingAndGlyphs\" textLength=\"68\" x=\"305\" y=\"279.1387\">«part  def»</text><text fill=\"#000000\" font-family=\"sans-serif\" font-size=\"12\" lengthAdjust=\"spacingAndGlyphs\" textLength=\"43\" x=\"317.5\" y=\"293.1074\">Engine</text></a></g><g id=\"E1.E3\"><a href=\"psysml:e07cfc3f-c273-4e94-9cbe-d128d50ec860\" target=\"_top\" title=\"psysml:e07cfc3f-c273-4e94-9cbe-d128d50ec860\" xlink:actuate=\"onRequest\" xlink:href=\"psysml:e07cfc3f-c273-4e94-9cbe-d128d50ec860\" xlink:show=\"new\" xlink:title=\"psysml:e07cfc3f-c273-4e94-9cbe-d128d50ec860\" xlink:type=\"simple\"><rect fill=\"#FFFFFF\" height=\"40\" id=\"E3\" rx=\"10\" ry=\"10\" style=\"stroke: #383838; stroke-width: 1.5;\" width=\"113\" x=\"180.5\" y=\"44\"/><rect fill=\"#F8F8F8\" height=\"23.9688\" rx=\"10\" ry=\"10\" style=\"stroke: #F8F8F8; stroke-width: 1.5;\" width=\"113\" x=\"180.5\" y=\"44\"/><rect fill=\"#F8F8F8\" height=\"10\" style=\"stroke: #F8F8F8; stroke-width: 1.5;\" width=\"113\" x=\"180.5\" y=\"57.9688\"/><rect fill=\"none\" height=\"40\" id=\"E3\" rx=\"10\" ry=\"10\" style=\"stroke: #383838; stroke-width: 1.5;\" width=\"113\" x=\"180.5\" y=\"44\"/><text fill=\"#000000\" font-family=\"sans-serif\" font-size=\"12\" lengthAdjust=\"spacingAndGlyphs\" textLength=\"102\" x=\"186\" y=\"60.1387\">engine1: Engine</text></a></g><g id=\"E1.E4\"><a href=\"psysml:d9e10f1c-39bd-473d-af93-7c118d42db3b\" target=\"_top\" title=\"psysml:d9e10f1c-39bd-473d-af93-7c118d42db3b\" xlink:actuate=\"onRequest\" xlink:href=\"psysml:d9e10f1c-39bd-473d-af93-7c118d42db3b\" xlink:show=\"new\" xlink:title=\"psysml:d9e10f1c-39bd-473d-af93-7c118d42db3b\" xlink:type=\"simple\"><rect fill=\"#FFFFFF\" height=\"40\" id=\"E4\" rx=\"10\" ry=\"10\" style=\"stroke: #383838; stroke-width: 1.5;\" width=\"113\" x=\"32.5\" y=\"44\"/><rect fill=\"#F8F8F8\" height=\"23.9688\" rx=\"10\" ry=\"10\" style=\"stroke: #F8F8F8; stroke-width: 1.5;\" width=\"113\" x=\"32.5\" y=\"44\"/><rect fill=\"#F8F8F8\" height=\"10\" style=\"stroke: #F8F8F8; stroke-width: 1.5;\" width=\"113\" x=\"32.5\" y=\"57.9688\"/><rect fill=\"none\" height=\"40\" id=\"E4\" rx=\"10\" ry=\"10\" style=\"stroke: #383838; stroke-width: 1.5;\" width=\"113\" x=\"32.5\" y=\"44\"/><text fill=\"#000000\" font-family=\"sans-serif\" font-size=\"12\" lengthAdjust=\"spacingAndGlyphs\" textLength=\"102\" x=\"38\" y=\"60.1387\">engine2: Engine</text></a></g><!--MD5=[15ebcb19ae302d9b601edb458606d402]\n",
       "link E5 to E2--><a href=\"psysml:8e91b88f-f820-4b3f-bc7b-6a32144645a0\" target=\"_top\" title=\"psysml:8e91b88f-f820-4b3f-bc7b-6a32144645a0\" xlink:actuate=\"onRequest\" xlink:href=\"psysml:8e91b88f-f820-4b3f-bc7b-6a32144645a0\" xlink:show=\"new\" xlink:title=\"psysml:8e91b88f-f820-4b3f-bc7b-6a32144645a0\" xlink:type=\"simple\"><path d=\"M457.05,87.04 C459.26,89.57 461.29,92.23 463,95 C479.65,121.98 482.49,136.86 470,166 C452.34,207.22 411.86,239.8 380.54,260.09 \" fill=\"none\" id=\"E5-&gt;E2\" style=\"stroke: #383838; stroke-width: 1.0; stroke-dasharray: 7.0,7.0;\"/><polygon fill=\"#383838\" points=\"375.99,263,385.7259,261.5129,380.2001,260.3027,381.4103,254.7768,375.99,263\" style=\"stroke: #383838; stroke-width: 1.0;\"/><text fill=\"#000000\" font-family=\"sans-serif\" font-size=\"13\" lengthAdjust=\"spacingAndGlyphs\" textLength=\"62\" x=\"467\" y=\"194.5669\">«subject»</text></a><!--MD5=[9120cf2e5df3bff93db8f754bbbc09b4]\n",
       "link E5 to E6--><a href=\"psysml:a6ebdbd2-b0f8-4e64-baff-f91dc99eb3fc\" target=\"_top\" title=\"psysml:a6ebdbd2-b0f8-4e64-baff-f91dc99eb3fc\" xlink:actuate=\"onRequest\" xlink:href=\"psysml:a6ebdbd2-b0f8-4e64-baff-f91dc99eb3fc\" xlink:show=\"new\" xlink:title=\"psysml:a6ebdbd2-b0f8-4e64-baff-f91dc99eb3fc\" xlink:type=\"simple\"><path d=\"M346.75,87.03 C337.05,89.68 327.3,92.37 318,95 C292.78,102.13 265.38,110.17 240.59,117.56 \" fill=\"none\" id=\"E5-&gt;E6\" style=\"stroke: #383838; stroke-width: 1.0;\"/><polygon fill=\"#383838\" points=\"232.64,119.94,241.1649,120.5118,239.4388,114.7654,232.64,119.94\" style=\"stroke: #383838; stroke-width: 1.0;\"/><text fill=\"#000000\" font-family=\"sans-serif\" font-size=\"13\" lengthAdjust=\"spacingAndGlyphs\" textLength=\"73\" x=\"319\" y=\"108.0669\">«objective»</text></a><!--MD5=[452b418e7f8a40397a49b8c0a78acc5b]\n",
       "reverse link E5 to E7--><a href=\"psysml:1d968e51-2f45-472a-9c8d-b659e8169068\" target=\"_top\" title=\"psysml:1d968e51-2f45-472a-9c8d-b659e8169068\" xlink:actuate=\"onRequest\" xlink:href=\"psysml:1d968e51-2f45-472a-9c8d-b659e8169068\" xlink:show=\"new\" xlink:title=\"psysml:1d968e51-2f45-472a-9c8d-b659e8169068\" xlink:type=\"simple\"><path d=\"M408.8,98.32 C404.18,105.57 399.4,113.08 395.14,119.78 \" fill=\"none\" id=\"E5&lt;-E7\" style=\"stroke: #383838; stroke-width: 1.0;\"/><polygon fill=\"#383838\" points=\"415.83,87.27,409.2361,90.1889,409.3943,97.3983,415.9883,94.4794,415.83,87.27\" style=\"stroke: #383838; stroke-width: 1.0;\"/></a><!--MD5=[dc164f5e8a733ab456ef1add180e9e34]\n",
       "reverse link E7 to E8--><a href=\"psysml:762eee8a-df65-48ef-8994-f8166e9b75f6\" target=\"_top\" title=\"psysml:762eee8a-df65-48ef-8994-f8166e9b75f6\" xlink:actuate=\"onRequest\" xlink:href=\"psysml:762eee8a-df65-48ef-8994-f8166e9b75f6\" xlink:show=\"new\" xlink:title=\"psysml:762eee8a-df65-48ef-8994-f8166e9b75f6\" xlink:type=\"simple\"><path d=\"M309.92,164.93 C308.27,165.3 306.63,165.66 305,166 C291.62,168.8 253.47,164.14 244,174 C234.03,184.37 234.03,201.47 235.74,213.85 \" fill=\"none\" id=\"E7&lt;-E8\" style=\"stroke: #383838; stroke-width: 1.0;\"/><polygon fill=\"#FFFFFF\" points=\"322.72,161.84,315.9473,159.364,311.0569,164.6634,317.8296,167.1394,322.72,161.84\" style=\"stroke: #383838; stroke-width: 1.0;\"/><text fill=\"#000000\" font-family=\"sans-serif\" font-size=\"13\" lengthAdjust=\"spacingAndGlyphs\" textLength=\"8\" x=\"225.2444\" y=\"202.8154\">1</text></a><!--MD5=[f1f3f9f2fc535e6147756cb86a7f2e32]\n",
       "link E8 to E2--><a href=\"psysml:b4a53d37-cc69-46b7-9c1e-d748cdbb7a31\" target=\"_top\" title=\"psysml:b4a53d37-cc69-46b7-9c1e-d748cdbb7a31\" xlink:actuate=\"onRequest\" xlink:href=\"psysml:b4a53d37-cc69-46b7-9c1e-d748cdbb7a31\" xlink:show=\"new\" xlink:title=\"psysml:b4a53d37-cc69-46b7-9c1e-d748cdbb7a31\" xlink:type=\"simple\"><path d=\"M267.66,246.04 C272.66,248.67 278.02,251.48 283.46,254.34 \" fill=\"none\" id=\"E8-&gt;E2\" style=\"stroke: #383838; stroke-width: 1.0;\"/><polygon fill=\"#FFFFFF\" points=\"301.38,263.75,281.3045,261.1093,287.8163,248.7159,301.38,263.75\" style=\"stroke: #383838; stroke-width: 1.0;\"/><ellipse cx=\"277.1888\" cy=\"256.6876\" fill=\"#383838\" rx=\"2\" ry=\"2\" style=\"stroke: #383838; stroke-width: 1.0;\"/><ellipse cx=\"281.8401\" cy=\"247.8351\" fill=\"#383838\" rx=\"2\" ry=\"2\" style=\"stroke: #383838; stroke-width: 1.0;\"/></a><!--MD5=[9ae28de373ca99bb8a1b38d63370ca7e]\n",
       "reverse link E5 to E9--><a href=\"psysml:b337f31d-c5a0-436f-953f-431d96e2f8f6\" target=\"_top\" title=\"psysml:b337f31d-c5a0-436f-953f-431d96e2f8f6\" xlink:actuate=\"onRequest\" xlink:href=\"psysml:b337f31d-c5a0-436f-953f-431d96e2f8f6\" xlink:show=\"new\" xlink:title=\"psysml:b337f31d-c5a0-436f-953f-431d96e2f8f6\" xlink:type=\"simple\"><path d=\"M452.81,98.61 C464.24,119.98 472.65,147.1 457,166 C455.59,167.7 442.53,170.69 425.46,173.97 \" fill=\"none\" id=\"E5&lt;-E9\" style=\"stroke: #383838; stroke-width: 1.0;\"/><polygon fill=\"#FFFFFF\" points=\"446.09,87.1,445.6547,94.298,452.1315,97.4682,452.5668,90.2703,446.09,87.1\" style=\"stroke: #383838; stroke-width: 1.0;\"/><text fill=\"#000000\" font-family=\"sans-serif\" font-size=\"13\" lengthAdjust=\"spacingAndGlyphs\" textLength=\"8\" x=\"435.0981\" y=\"185.1657\">1</text></a><!--MD5=[5c3bb36fe832a92c7f0e1807dd65209d]\n",
       "link E9 to E2--><a href=\"psysml:a6a00959-a343-466b-bcfe-643c8c056808\" target=\"_top\" title=\"psysml:a6a00959-a343-466b-bcfe-643c8c056808\" xlink:actuate=\"onRequest\" xlink:href=\"psysml:a6a00959-a343-466b-bcfe-643c8c056808\" xlink:show=\"new\" xlink:title=\"psysml:a6a00959-a343-466b-bcfe-643c8c056808\" xlink:type=\"simple\"><path d=\"M336.5,206.27 C336.82,216.14 337.25,229.48 337.66,242.29 \" fill=\"none\" id=\"E9-&gt;E2\" style=\"stroke: #383838; stroke-width: 1.0;\"/><polygon fill=\"#FFFFFF\" points=\"338.32,262.66,330.7128,243.8949,344.7055,243.4448,338.32,262.66\" style=\"stroke: #383838; stroke-width: 1.0;\"/><ellipse cx=\"332.5285\" cy=\"238.1335\" fill=\"#383838\" rx=\"2\" ry=\"2\" style=\"stroke: #383838; stroke-width: 1.0;\"/><ellipse cx=\"342.5233\" cy=\"237.812\" fill=\"#383838\" rx=\"2\" ry=\"2\" style=\"stroke: #383838; stroke-width: 1.0;\"/></a><!--MD5=[61f3f25fe13cf5c244d5689d92c4035e]\n",
       "@startuml\r\n",
       "skinparam ranksep 10\r\n",
       "skinparam rectangle {\r\n",
       " backgroundColor<<block>> LightGreen\r\n",
       "}\r\n",
       "top to bottom direction\r\n",
       "skinparam monochrome true\r\n",
       "skinparam classbackgroundcolor white\r\n",
       "skinparam shadowing false\r\n",
       "skinparam wrapWidth 300\r\n",
       "hide circle\r\n",
       "\r\n",
       "package \"TradeStudyTest\" as E1  [[psysml:57f8a98c-5718-48d8-9b9a-5c4650640602 ]]  {\r\n",
       "rec def \"Engine\" as E2  <<(T,blue) part  def>> [[psysml:6445380e-76a1-4d64-a2e6-1c63aec68392 ]] {\r\n",
       "}\r\n",
       "rec usage \"engine1: Engine\" as E3  [[psysml:e07cfc3f-c273-4e94-9cbe-d128d50ec860 ]] {\r\n",
       "}\r\n",
       "rec usage \"engine2: Engine\" as E4  [[psysml:d9e10f1c-39bd-473d-af93-7c118d42db3b ]] {\r\n",
       "}\r\n",
       "comp usage \"engineTradeStudy: TradeStudy \" as E5 << analysis>> [[psysml:f9c838ee-65e7-4043-9f07-1b30ef92e49c ]] {\r\n",
       "}\r\n",
       "comp usage \"tradeStudyObjective: MaximizeObjective \" as E6  <<(T,blue) requirement>> [[psysml:38fbb285-8167-4e3f-bee3-2164ba524da7 ]] {\r\n",
       "}\r\n",
       "comp usage \"objectiveFunction\" as E7  <<(T,blue) calculation>> [[psysml:658dce09-b71c-4e6e-94c9-a3c46617ebc8 ]] {\r\n",
       "}\r\n",
       "comp usage \"alternative: Engine \" as E8  [[psysml:3dbf099d-922d-4ace-9ccd-679bba93319b ]] {\r\n",
       "}\r\n",
       "comp usage \"selectedAlternative: Engine \" as E9  [[psysml:5fb9bd76-5535-468b-bb8f-88cd6f109fe8 ]] {\r\n",
       "}\r\n",
       "}\r\n",
       "E5 ..> E2 [[psysml:8e91b88f-f820-4b3f-bc7b-6a32144645a0 ]] : <<subject>>\r\n",
       "E5 - ->> E6 [[psysml:a6ebdbd2-b0f8-4e64-baff-f91dc99eb3fc ]] : <<objective>>\r\n",
       "E5 *- - E7 [[psysml:1d968e51-2f45-472a-9c8d-b659e8169068 ]] \r\n",
       "E7 o- - \"1\"E8 [[psysml:762eee8a-df65-48ef-8994-f8166e9b75f6 ]] \r\n",
       "E8 - -:|> E2 [[psysml:b4a53d37-cc69-46b7-9c1e-d748cdbb7a31 ]] \r\n",
       "E5 o- - \"1\"E9 [[psysml:b337f31d-c5a0-436f-953f-431d96e2f8f6 ]] \r\n",
       "E9 - -:|> E2 [[psysml:a6a00959-a343-466b-bcfe-643c8c056808 ]] \r\n",
       "@enduml\r\n",
       "\n",
       "PlantUML version 1.2020.13(Sat Jun 13 12:26:38 UTC 2020)\n",
       "(EPL source distribution)\n",
       "Java Runtime: OpenJDK Runtime Environment\n",
       "JVM: OpenJDK 64-Bit Server VM\n",
       "Default Encoding: UTF-8\n",
       "Language: en\n",
       "Country: null\n",
       "--></g></svg>"
      ]
     },
     "execution_count": 47,
     "metadata": {},
     "output_type": "execute_result"
    }
   ],
   "source": [
    "%viz --style=\"TB\" --view=\"Interconnection\" \"TradeStudyTest\""
   ]
  },
  {
   "cell_type": "code",
   "execution_count": 48,
   "id": "2aaeb563",
   "metadata": {
    "execution": {
     "iopub.execute_input": "2021-11-13T13:01:41.948654Z",
     "iopub.status.busy": "2021-11-13T13:01:41.948249Z",
     "iopub.status.idle": "2021-11-13T13:01:41.977024Z",
     "shell.execute_reply": "2021-11-13T13:01:41.977388Z"
    }
   },
   "outputs": [
    {
     "data": {
      "image/svg+xml": [
       "<?xml version=\"1.0\" encoding=\"UTF-8\" standalone=\"no\"?><svg xmlns=\"http://www.w3.org/2000/svg\" xmlns:xlink=\"http://www.w3.org/1999/xlink\" contentScriptType=\"application/ecmascript\" contentStyleType=\"text/css\" height=\"178px\" preserveAspectRatio=\"none\" style=\"width:434px;height:178px;\" version=\"1.1\" viewBox=\"0 0 434 178\" width=\"434px\" zoomAndPan=\"magnify\"><defs/><g><!--MD5=[fbc87193dbaf4d95561dea2c320d4a47]\n",
       "cluster E1--><a href=\"psysml:f9c838ee-65e7-4043-9f07-1b30ef92e49c\" target=\"_top\" title=\"psysml:f9c838ee-65e7-4043-9f07-1b30ef92e49c\" xlink:actuate=\"onRequest\" xlink:href=\"psysml:f9c838ee-65e7-4043-9f07-1b30ef92e49c\" xlink:show=\"new\" xlink:title=\"psysml:f9c838ee-65e7-4043-9f07-1b30ef92e49c\" xlink:type=\"simple\"><rect fill=\"#FFFFFF\" height=\"103.72\" id=\"E1\" rx=\"10\" ry=\"10\" style=\"stroke: #383838; stroke-width: 1.5;\" width=\"327\" x=\"47\" y=\"42.0986\"/><rect fill=\"#F8F8F8\" height=\"37.9375\" rx=\"10\" ry=\"10\" style=\"stroke: #F8F8F8; stroke-width: 1.5;\" width=\"327\" x=\"47\" y=\"42.0986\"/><rect fill=\"#F8F8F8\" height=\"10\" style=\"stroke: #F8F8F8; stroke-width: 1.5;\" width=\"327\" x=\"47\" y=\"70.0361\"/><rect fill=\"none\" height=\"103.72\" id=\"E1\" rx=\"10\" ry=\"10\" style=\"stroke: #383838; stroke-width: 1.5;\" width=\"327\" x=\"47\" y=\"42.0986\"/><text fill=\"#000000\" font-family=\"sans-serif\" font-size=\"12\" font-style=\"italic\" lengthAdjust=\"spacingAndGlyphs\" textLength=\"64\" x=\"178.5\" y=\"58.2373\">«analysis»</text><text fill=\"#000000\" font-family=\"sans-serif\" font-size=\"12\" lengthAdjust=\"spacingAndGlyphs\" textLength=\"114\" x=\"153.5\" y=\"72.2061\">engineTradeStudy</text><line style=\"stroke: #383838; stroke-width: 1.0;\" x1=\"47\" x2=\"374\" y1=\"80.0361\" y2=\"80.0361\"/></a><!--MD5=[d5e69f78d87373223dbae638b30a9c99]\n",
       "cluster E3--><a href=\"psysml:658dce09-b71c-4e6e-94c9-a3c46617ebc8\" target=\"_top\" title=\"psysml:658dce09-b71c-4e6e-94c9-a3c46617ebc8\" xlink:actuate=\"onRequest\" xlink:href=\"psysml:658dce09-b71c-4e6e-94c9-a3c46617ebc8\" xlink:show=\"new\" xlink:title=\"psysml:658dce09-b71c-4e6e-94c9-a3c46617ebc8\" xlink:type=\"simple\"><rect fill=\"#FFFFFF\" height=\"81.72\" id=\"E3\" rx=\"10\" ry=\"10\" style=\"stroke: #383838; stroke-width: 1.5;\" width=\"132\" x=\"214.125\" y=\"64.0986\"/><rect fill=\"#F8F8F8\" height=\"37.9375\" rx=\"10\" ry=\"10\" style=\"stroke: #F8F8F8; stroke-width: 1.5;\" width=\"132\" x=\"214.125\" y=\"64.0986\"/><rect fill=\"#F8F8F8\" height=\"10\" style=\"stroke: #F8F8F8; stroke-width: 1.5;\" width=\"132\" x=\"214.125\" y=\"92.0361\"/><rect fill=\"none\" height=\"81.72\" id=\"E3\" rx=\"10\" ry=\"10\" style=\"stroke: #383838; stroke-width: 1.5;\" width=\"132\" x=\"214.125\" y=\"64.0986\"/><text fill=\"#000000\" font-family=\"sans-serif\" font-size=\"12\" font-style=\"italic\" lengthAdjust=\"spacingAndGlyphs\" textLength=\"82\" x=\"239.125\" y=\"80.2373\">«calculation»</text><text fill=\"#000000\" font-family=\"sans-serif\" font-size=\"12\" lengthAdjust=\"spacingAndGlyphs\" textLength=\"110\" x=\"225.125\" y=\"94.2061\">objectiveFunction</text><line style=\"stroke: #383838; stroke-width: 1.0;\" x1=\"214.125\" x2=\"346.125\" y1=\"102.0361\" y2=\"102.0361\"/></a><text fill=\"#000000\" font-family=\"sans-serif\" font-size=\"14\" lengthAdjust=\"spacingAndGlyphs\" textLength=\"118\" x=\"6\" y=\"20.7969\">studyAlternatives</text><rect fill=\"#383838\" height=\"12\" style=\"stroke: #F8F8F8; stroke-width: 1.5;\" width=\"12\" x=\"59\" y=\"36.0986\"/><text fill=\"#000000\" font-family=\"sans-serif\" font-size=\"14\" lengthAdjust=\"spacingAndGlyphs\" textLength=\"132\" x=\"290\" y=\"164.8138\">selectedAlternative</text><rect fill=\"#383838\" height=\"12\" style=\"stroke: #F8F8F8; stroke-width: 1.5;\" width=\"12\" x=\"350\" y=\"139.8186\"/><text fill=\"#000000\" font-family=\"sans-serif\" font-size=\"14\" lengthAdjust=\"spacingAndGlyphs\" textLength=\"39\" x=\"215.5\" y=\"164.8138\">result</text><rect fill=\"#383838\" height=\"12\" style=\"stroke: #F8F8F8; stroke-width: 1.5;\" width=\"12\" x=\"229\" y=\"139.8186\"/><!--MD5=[c16870370431b660b7a01fdb0e47dd0d]\n",
       "@startuml\r\n",
       "skinparam ranksep 8\r\n",
       "top to bottom direction\r\n",
       "skinparam monochrome true\r\n",
       "skinparam classbackgroundcolor white\r\n",
       "skinparam shadowing false\r\n",
       "skinparam wrapWidth 300\r\n",
       "hide circle\r\n",
       "\r\n",
       "rec usage \"engineTradeStudy\" as E1 << analysis>> [[psysml:f9c838ee-65e7-4043-9f07-1b30ef92e49c ]] {\r\n",
       "portin \"studyAlternatives\" as E2  [[psysml:337fe316-4d2f-4990-8407-2b5473f7b0b9 ]] \r\n",
       "rec usage \"objectiveFunction\" as E3  <<(T,blue) calculation>> [[psysml:658dce09-b71c-4e6e-94c9-a3c46617ebc8 ]] {\r\n",
       "portout \"result\" as E4  [[psysml:1c0da6f6-5c1e-42af-93f0-451ad801a52e ]] \r\n",
       "}\r\n",
       "\r\n",
       "portout \"selectedAlternative\" as E5  [[psysml:5fb9bd76-5535-468b-bb8f-88cd6f109fe8 ]] \r\n",
       "}\r\n",
       "\r\n",
       "@enduml\r\n",
       "\n",
       "PlantUML version 1.2020.13(Sat Jun 13 12:26:38 UTC 2020)\n",
       "(EPL source distribution)\n",
       "Java Runtime: OpenJDK Runtime Environment\n",
       "JVM: OpenJDK 64-Bit Server VM\n",
       "Default Encoding: UTF-8\n",
       "Language: en\n",
       "Country: null\n",
       "--></g></svg>"
      ]
     },
     "execution_count": 48,
     "metadata": {},
     "output_type": "execute_result"
    }
   ],
   "source": [
    "%viz --style=\"TB\" --view=\"Action\" \"TradeStudyTest\""
   ]
  },
  {
   "cell_type": "code",
   "execution_count": 49,
   "id": "da42ef47",
   "metadata": {
    "execution": {
     "iopub.execute_input": "2021-11-13T13:01:42.026702Z",
     "iopub.status.busy": "2021-11-13T13:01:42.026241Z",
     "iopub.status.idle": "2021-11-13T13:01:42.032072Z",
     "shell.execute_reply": "2021-11-13T13:01:42.031665Z"
    }
   },
   "outputs": [
    {
     "data": {
      "image/svg+xml": [
       "<?xml version=\"1.0\" encoding=\"UTF-8\" standalone=\"no\"?><svg xmlns=\"http://www.w3.org/2000/svg\" xmlns:xlink=\"http://www.w3.org/1999/xlink\" contentScriptType=\"application/ecmascript\" contentStyleType=\"text/css\" height=\"12px\" preserveAspectRatio=\"none\" style=\"width:12px;height:12px;\" version=\"1.1\" viewBox=\"0 0 12 12\" width=\"12px\" zoomAndPan=\"magnify\"><defs/><g><!--MD5=[e1ab0c84c44d2fef8bf5f140f2689906]\n",
       "@startuml\r\n",
       "skinparam roundcorner 20\r\n",
       "skinparam BoxPadding 20\r\n",
       "skinparam SequenceBoxBackgroundColor #white\r\n",
       "skinparam style strictuml\r\n",
       "skinparam maxMessageSize 100\r\n",
       "top to bottom direction\r\n",
       "skinparam monochrome true\r\n",
       "skinparam classbackgroundcolor white\r\n",
       "skinparam shadowing false\r\n",
       "skinparam wrapWidth 300\r\n",
       "hide circle\r\n",
       "\r\n",
       "@enduml\r\n",
       "\n",
       "PlantUML version 1.2020.13(Sat Jun 13 12:26:38 UTC 2020)\n",
       "(EPL source distribution)\n",
       "Java Runtime: OpenJDK Runtime Environment\n",
       "JVM: OpenJDK 64-Bit Server VM\n",
       "Default Encoding: UTF-8\n",
       "Language: en\n",
       "Country: null\n",
       "--></g></svg>"
      ]
     },
     "execution_count": 49,
     "metadata": {},
     "output_type": "execute_result"
    }
   ],
   "source": [
    "%viz --style=\"TB\" --view=\"Sequence\" \"TradeStudyTest\""
   ]
  },
  {
   "cell_type": "code",
   "execution_count": 50,
   "id": "32b122a5",
   "metadata": {
    "execution": {
     "iopub.execute_input": "2021-11-13T13:01:42.081527Z",
     "iopub.status.busy": "2021-11-13T13:01:42.081070Z",
     "iopub.status.idle": "2021-11-13T13:01:42.119744Z",
     "shell.execute_reply": "2021-11-13T13:01:42.119355Z"
    }
   },
   "outputs": [
    {
     "data": {
      "image/svg+xml": [
       "<?xml version=\"1.0\" encoding=\"UTF-8\" standalone=\"no\"?><svg xmlns=\"http://www.w3.org/2000/svg\" xmlns:xlink=\"http://www.w3.org/1999/xlink\" contentScriptType=\"application/ecmascript\" contentStyleType=\"text/css\" height=\"497px\" preserveAspectRatio=\"none\" style=\"width:568px;height:497px;\" version=\"1.1\" viewBox=\"0 0 568 497\" width=\"568px\" zoomAndPan=\"magnify\"><defs/><g><!--MD5=[fbc87193dbaf4d95561dea2c320d4a47]\n",
       "cluster E1--><a href=\"psysml:57f8a98c-5718-48d8-9b9a-5c4650640602\" target=\"_top\" title=\"psysml:57f8a98c-5718-48d8-9b9a-5c4650640602\" xlink:actuate=\"onRequest\" xlink:href=\"psysml:57f8a98c-5718-48d8-9b9a-5c4650640602\" xlink:show=\"new\" xlink:title=\"psysml:57f8a98c-5718-48d8-9b9a-5c4650640602\" xlink:type=\"simple\"><polygon fill=\"#FFFFFF\" points=\"18.75,6,134.75,6,141.75,28.2969,546.75,28.2969,546.75,485,18.75,485,18.75,6\" style=\"stroke: #000000; stroke-width: 1.5;\"/><line style=\"stroke: #000000; stroke-width: 1.5;\" x1=\"18.75\" x2=\"141.75\" y1=\"28.2969\" y2=\"28.2969\"/><text fill=\"#000000\" font-family=\"sans-serif\" font-size=\"14\" font-weight=\"bold\" lengthAdjust=\"spacingAndGlyphs\" textLength=\"110\" x=\"22.75\" y=\"20.9951\">TradeStudyTest</text></a><!--MD5=[b4997ac47864f28c2f74865a473b2911]\n",
       "class E2--><a href=\"psysml:6445380e-76a1-4d64-a2e6-1c63aec68392\" target=\"_top\" title=\"psysml:6445380e-76a1-4d64-a2e6-1c63aec68392\" xlink:actuate=\"onRequest\" xlink:href=\"psysml:6445380e-76a1-4d64-a2e6-1c63aec68392\" xlink:show=\"new\" xlink:title=\"psysml:6445380e-76a1-4d64-a2e6-1c63aec68392\" xlink:type=\"simple\"><rect fill=\"#FFFFFF\" height=\"45.9375\" id=\"E2\" style=\"stroke: #383838; stroke-width: 1.5;\" width=\"70\" x=\"200.75\" y=\"423\"/><text fill=\"#000000\" font-family=\"sans-serif\" font-size=\"12\" font-style=\"italic\" lengthAdjust=\"spacingAndGlyphs\" textLength=\"68\" x=\"201.75\" y=\"439.1387\">«part  def»</text><text fill=\"#000000\" font-family=\"sans-serif\" font-size=\"12\" lengthAdjust=\"spacingAndGlyphs\" textLength=\"43\" x=\"214.25\" y=\"453.1074\">Engine</text><line style=\"stroke: #383838; stroke-width: 1.5;\" x1=\"201.75\" x2=\"269.75\" y1=\"460.9375\" y2=\"460.9375\"/></a><!--MD5=[09b614a08d8cba4a07c9adeb5e0fee81]\n",
       "class E3--><a href=\"psysml:e07cfc3f-c273-4e94-9cbe-d128d50ec860\" target=\"_top\" title=\"psysml:e07cfc3f-c273-4e94-9cbe-d128d50ec860\" xlink:actuate=\"onRequest\" xlink:href=\"psysml:e07cfc3f-c273-4e94-9cbe-d128d50ec860\" xlink:show=\"new\" xlink:title=\"psysml:e07cfc3f-c273-4e94-9cbe-d128d50ec860\" xlink:type=\"simple\"><rect fill=\"#FFFFFF\" height=\"45.9375\" id=\"E3\" rx=\"10\" ry=\"10\" style=\"stroke: #383838; stroke-width: 1.5;\" width=\"112\" x=\"418.75\" y=\"316\"/><text fill=\"#000000\" font-family=\"sans-serif\" font-size=\"12\" font-style=\"italic\" lengthAdjust=\"spacingAndGlyphs\" textLength=\"40\" x=\"454.75\" y=\"332.1387\">«part»</text><text fill=\"#000000\" font-family=\"sans-serif\" font-size=\"12\" lengthAdjust=\"spacingAndGlyphs\" textLength=\"102\" x=\"421.75\" y=\"346.1074\">engine1: Engine</text><line style=\"stroke: #383838; stroke-width: 1.5;\" x1=\"419.75\" x2=\"529.75\" y1=\"353.9375\" y2=\"353.9375\"/></a><!--MD5=[ebbe1d658d1005bcc118a6aa81145e00]\n",
       "class E4--><a href=\"psysml:d9e10f1c-39bd-473d-af93-7c118d42db3b\" target=\"_top\" title=\"psysml:d9e10f1c-39bd-473d-af93-7c118d42db3b\" xlink:actuate=\"onRequest\" xlink:href=\"psysml:d9e10f1c-39bd-473d-af93-7c118d42db3b\" xlink:show=\"new\" xlink:title=\"psysml:d9e10f1c-39bd-473d-af93-7c118d42db3b\" xlink:type=\"simple\"><rect fill=\"#FFFFFF\" height=\"45.9375\" id=\"E4\" rx=\"10\" ry=\"10\" style=\"stroke: #383838; stroke-width: 1.5;\" width=\"112\" x=\"271.75\" y=\"316\"/><text fill=\"#000000\" font-family=\"sans-serif\" font-size=\"12\" font-style=\"italic\" lengthAdjust=\"spacingAndGlyphs\" textLength=\"40\" x=\"307.75\" y=\"332.1387\">«part»</text><text fill=\"#000000\" font-family=\"sans-serif\" font-size=\"12\" lengthAdjust=\"spacingAndGlyphs\" textLength=\"102\" x=\"274.75\" y=\"346.1074\">engine2: Engine</text><line style=\"stroke: #383838; stroke-width: 1.5;\" x1=\"272.75\" x2=\"382.75\" y1=\"353.9375\" y2=\"353.9375\"/></a><!--MD5=[270fce915f116d4de14055a7c1d9a0f3]\n",
       "class E5--><a href=\"psysml:f9c838ee-65e7-4043-9f07-1b30ef92e49c\" target=\"_top\" title=\"psysml:f9c838ee-65e7-4043-9f07-1b30ef92e49c\" xlink:actuate=\"onRequest\" xlink:href=\"psysml:f9c838ee-65e7-4043-9f07-1b30ef92e49c\" xlink:show=\"new\" xlink:title=\"psysml:f9c838ee-65e7-4043-9f07-1b30ef92e49c\" xlink:type=\"simple\"><rect fill=\"#FFFFFF\" height=\"45.9375\" id=\"E5\" rx=\"10\" ry=\"10\" style=\"stroke: #383838; stroke-width: 1.5;\" width=\"203\" x=\"248.25\" y=\"41\"/><text fill=\"#000000\" font-family=\"sans-serif\" font-size=\"12\" font-style=\"italic\" lengthAdjust=\"spacingAndGlyphs\" textLength=\"64\" x=\"317.75\" y=\"57.1387\">«analysis»</text><text fill=\"#000000\" font-family=\"sans-serif\" font-size=\"12\" lengthAdjust=\"spacingAndGlyphs\" textLength=\"193\" x=\"251.25\" y=\"71.1074\">engineTradeStudy: TradeStudy</text><line style=\"stroke: #383838; stroke-width: 1.5;\" x1=\"249.25\" x2=\"450.25\" y1=\"78.9375\" y2=\"78.9375\"/></a><!--MD5=[60a26617385b1d2d0262a64233df1f8d]\n",
       "class E6--><a href=\"psysml:38fbb285-8167-4e3f-bee3-2164ba524da7\" target=\"_top\" title=\"psysml:38fbb285-8167-4e3f-bee3-2164ba524da7\" xlink:actuate=\"onRequest\" xlink:href=\"psysml:38fbb285-8167-4e3f-bee3-2164ba524da7\" xlink:show=\"new\" xlink:title=\"psysml:38fbb285-8167-4e3f-bee3-2164ba524da7\" xlink:type=\"simple\"><rect fill=\"#FFFFFF\" height=\"45.9375\" id=\"E6\" rx=\"10\" ry=\"10\" style=\"stroke: #383838; stroke-width: 1.5;\" width=\"255\" x=\"87.25\" y=\"164\"/><text fill=\"#000000\" font-family=\"sans-serif\" font-size=\"12\" font-style=\"italic\" lengthAdjust=\"spacingAndGlyphs\" textLength=\"91\" x=\"169.25\" y=\"180.1387\">«requirement»</text><text fill=\"#000000\" font-family=\"sans-serif\" font-size=\"12\" lengthAdjust=\"spacingAndGlyphs\" textLength=\"245\" x=\"90.25\" y=\"194.1074\">tradeStudyObjective: MaximizeObjective</text><line style=\"stroke: #383838; stroke-width: 1.5;\" x1=\"88.25\" x2=\"341.25\" y1=\"201.9375\" y2=\"201.9375\"/></a><!--MD5=[2156ba9850f5573cc1fc38a6a4b2f02b]\n",
       "class E7--><a href=\"psysml:658dce09-b71c-4e6e-94c9-a3c46617ebc8\" target=\"_top\" title=\"psysml:658dce09-b71c-4e6e-94c9-a3c46617ebc8\" xlink:actuate=\"onRequest\" xlink:href=\"psysml:658dce09-b71c-4e6e-94c9-a3c46617ebc8\" xlink:show=\"new\" xlink:title=\"psysml:658dce09-b71c-4e6e-94c9-a3c46617ebc8\" xlink:type=\"simple\"><rect fill=\"#FFFFFF\" height=\"45.9375\" id=\"E7\" rx=\"10\" ry=\"10\" style=\"stroke: #383838; stroke-width: 1.5;\" width=\"116\" x=\"377.75\" y=\"164\"/><text fill=\"#000000\" font-family=\"sans-serif\" font-size=\"12\" font-style=\"italic\" lengthAdjust=\"spacingAndGlyphs\" textLength=\"82\" x=\"394.75\" y=\"180.1387\">«calculation»</text><text fill=\"#000000\" font-family=\"sans-serif\" font-size=\"12\" lengthAdjust=\"spacingAndGlyphs\" textLength=\"110\" x=\"380.75\" y=\"194.1074\">objectiveFunction</text><line style=\"stroke: #383838; stroke-width: 1.5;\" x1=\"378.75\" x2=\"492.75\" y1=\"201.9375\" y2=\"201.9375\"/></a><!--MD5=[b9389687b975829384b498ac4b7476b2]\n",
       "class E8--><a href=\"psysml:3dbf099d-922d-4ace-9ccd-679bba93319b\" target=\"_top\" title=\"psysml:3dbf099d-922d-4ace-9ccd-679bba93319b\" xlink:actuate=\"onRequest\" xlink:href=\"psysml:3dbf099d-922d-4ace-9ccd-679bba93319b\" xlink:show=\"new\" xlink:title=\"psysml:3dbf099d-922d-4ace-9ccd-679bba93319b\" xlink:type=\"simple\"><rect fill=\"#FFFFFF\" height=\"45.9375\" id=\"E8\" rx=\"10\" ry=\"10\" style=\"stroke: #383838; stroke-width: 1.5;\" width=\"128\" x=\"71.75\" y=\"316\"/><text fill=\"#000000\" font-family=\"sans-serif\" font-size=\"12\" font-style=\"italic\" lengthAdjust=\"spacingAndGlyphs\" textLength=\"40\" x=\"115.75\" y=\"332.1387\">«part»</text><text fill=\"#000000\" font-family=\"sans-serif\" font-size=\"12\" lengthAdjust=\"spacingAndGlyphs\" textLength=\"118\" x=\"74.75\" y=\"346.1074\">alternative: Engine</text><line style=\"stroke: #383838; stroke-width: 1.5;\" x1=\"72.75\" x2=\"198.75\" y1=\"353.9375\" y2=\"353.9375\"/></a><!--MD5=[fd4143e9d270a159db93a4ea2a975926]\n",
       "class E9--><a href=\"psysml:5fb9bd76-5535-468b-bb8f-88cd6f109fe8\" target=\"_top\" title=\"psysml:5fb9bd76-5535-468b-bb8f-88cd6f109fe8\" xlink:actuate=\"onRequest\" xlink:href=\"psysml:5fb9bd76-5535-468b-bb8f-88cd6f109fe8\" xlink:show=\"new\" xlink:title=\"psysml:5fb9bd76-5535-468b-bb8f-88cd6f109fe8\" xlink:type=\"simple\"><rect fill=\"#FFFFFF\" height=\"45.9375\" id=\"E9\" rx=\"10\" ry=\"10\" style=\"stroke: #383838; stroke-width: 1.5;\" width=\"182\" x=\"297.75\" y=\"240\"/><text fill=\"#000000\" font-family=\"sans-serif\" font-size=\"12\" font-style=\"italic\" lengthAdjust=\"spacingAndGlyphs\" textLength=\"40\" x=\"368.75\" y=\"256.1387\">«part»</text><text fill=\"#000000\" font-family=\"sans-serif\" font-size=\"12\" lengthAdjust=\"spacingAndGlyphs\" textLength=\"172\" x=\"300.75\" y=\"270.1074\">selectedAlternative: Engine</text><line style=\"stroke: #383838; stroke-width: 1.5;\" x1=\"298.75\" x2=\"478.75\" y1=\"277.9375\" y2=\"277.9375\"/></a><!--MD5=[05d275557350bfb9b23a4ef7222b4c39]\n",
       "link E3 to E2--><a href=\"psysml:8b560a74-32d8-45cc-8c0e-f8d7e14b884a\" target=\"_top\" title=\"psysml:8b560a74-32d8-45cc-8c0e-f8d7e14b884a\" xlink:actuate=\"onRequest\" xlink:href=\"psysml:8b560a74-32d8-45cc-8c0e-f8d7e14b884a\" xlink:show=\"new\" xlink:title=\"psysml:8b560a74-32d8-45cc-8c0e-f8d7e14b884a\" xlink:type=\"simple\"><path d=\"M424.65,362.01 C385.12,379.38 330.1,403.55 289.63,421.33 \" fill=\"none\" id=\"E3-&gt;E2\" style=\"stroke: #383838; stroke-width: 1.0;\"/><polygon fill=\"#FFFFFF\" points=\"271.06,429.49,285.6417,415.4411,291.271,428.2594,271.06,429.49\" style=\"stroke: #383838; stroke-width: 1.0;\"/><ellipse cx=\"291.6648\" cy=\"414.9803\" fill=\"#383838\" rx=\"2\" ry=\"2\" style=\"stroke: #383838; stroke-width: 1.0;\"/><ellipse cx=\"295.6858\" cy=\"424.1363\" fill=\"#383838\" rx=\"2\" ry=\"2\" style=\"stroke: #383838; stroke-width: 1.0;\"/></a><!--MD5=[185131fc0dcab0a4505a2ebe144e961b]\n",
       "link E4 to E2--><a href=\"psysml:7f518d85-a598-4692-a186-0ec59d25f08f\" target=\"_top\" title=\"psysml:7f518d85-a598-4692-a186-0ec59d25f08f\" xlink:actuate=\"onRequest\" xlink:href=\"psysml:7f518d85-a598-4692-a186-0ec59d25f08f\" xlink:show=\"new\" xlink:title=\"psysml:7f518d85-a598-4692-a186-0ec59d25f08f\" xlink:type=\"simple\"><path d=\"M308.46,362.01 C297.01,375.08 282.18,392.01 268.89,407.17 \" fill=\"none\" id=\"E4-&gt;E2\" style=\"stroke: #383838; stroke-width: 1.0;\"/><polygon fill=\"#FFFFFF\" points=\"255.33,422.66,262.5901,403.7578,273.1181,412.9861,255.33,422.66\" style=\"stroke: #383838; stroke-width: 1.0;\"/><ellipse cx=\"267.8513\" cy=\"400.7898\" fill=\"#383838\" rx=\"2\" ry=\"2\" style=\"stroke: #383838; stroke-width: 1.0;\"/><ellipse cx=\"275.3713\" cy=\"407.3814\" fill=\"#383838\" rx=\"2\" ry=\"2\" style=\"stroke: #383838; stroke-width: 1.0;\"/></a><!--MD5=[15ebcb19ae302d9b601edb458606d402]\n",
       "link E5 to E2--><a href=\"psysml:8e91b88f-f820-4b3f-bc7b-6a32144645a0\" target=\"_top\" title=\"psysml:8e91b88f-f820-4b3f-bc7b-6a32144645a0\" xlink:actuate=\"onRequest\" xlink:href=\"psysml:8e91b88f-f820-4b3f-bc7b-6a32144645a0\" xlink:show=\"new\" xlink:title=\"psysml:8e91b88f-f820-4b3f-bc7b-6a32144645a0\" xlink:type=\"simple\"><path d=\"M248.05,74.19 C186.69,85.36 112.38,109.96 69.75,164 C15.07,233.32 6,287.74 53.75,362 C84.89,410.42 152.01,430.93 195.46,439.38 \" fill=\"none\" id=\"E5-&gt;E2\" style=\"stroke: #383838; stroke-width: 1.0; stroke-dasharray: 7.0,7.0;\"/><polygon fill=\"#383838\" points=\"200.63,440.35,192.5135,434.7713,195.7143,439.4355,191.0502,442.6363,200.63,440.35\" style=\"stroke: #383838; stroke-width: 1.0;\"/><text fill=\"#000000\" font-family=\"sans-serif\" font-size=\"13\" lengthAdjust=\"spacingAndGlyphs\" textLength=\"62\" x=\"28.75\" y=\"267.5669\">«subject»</text></a><!--MD5=[9120cf2e5df3bff93db8f754bbbc09b4]\n",
       "link E5 to E6--><a href=\"psysml:a6ebdbd2-b0f8-4e64-baff-f91dc99eb3fc\" target=\"_top\" title=\"psysml:a6ebdbd2-b0f8-4e64-baff-f91dc99eb3fc\" xlink:actuate=\"onRequest\" xlink:href=\"psysml:a6ebdbd2-b0f8-4e64-baff-f91dc99eb3fc\" xlink:show=\"new\" xlink:title=\"psysml:a6ebdbd2-b0f8-4e64-baff-f91dc99eb3fc\" xlink:type=\"simple\"><path d=\"M324.99,87.19 C302.63,107.23 269.64,136.8 245.58,158.37 \" fill=\"none\" id=\"E5-&gt;E6\" style=\"stroke: #383838; stroke-width: 1.0;\"/><polygon fill=\"#383838\" points=\"239.35,163.95,247.3086,160.8419,243.3025,156.3752,239.35,163.95\" style=\"stroke: #383838; stroke-width: 1.0;\"/><text fill=\"#000000\" font-family=\"sans-serif\" font-size=\"13\" lengthAdjust=\"spacingAndGlyphs\" textLength=\"73\" x=\"290.75\" y=\"130.0669\">«objective»</text></a><!--MD5=[452b418e7f8a40397a49b8c0a78acc5b]\n",
       "reverse link E5 to E7--><a href=\"psysml:1d968e51-2f45-472a-9c8d-b659e8169068\" target=\"_top\" title=\"psysml:1d968e51-2f45-472a-9c8d-b659e8169068\" xlink:actuate=\"onRequest\" xlink:href=\"psysml:1d968e51-2f45-472a-9c8d-b659e8169068\" xlink:show=\"new\" xlink:title=\"psysml:1d968e51-2f45-472a-9c8d-b659e8169068\" xlink:type=\"simple\"><path d=\"M373.12,97.88 C388.03,118.86 406.95,145.48 420.08,163.95 \" fill=\"none\" id=\"E5&lt;-E7\" style=\"stroke: #383838; stroke-width: 1.0;\"/><polygon fill=\"#383838\" points=\"365.52,87.19,365.7442,94.3976,372.4836,96.9628,372.2594,89.7552,365.52,87.19\" style=\"stroke: #383838; stroke-width: 1.0;\"/></a><!--MD5=[dc164f5e8a733ab456ef1add180e9e34]\n",
       "reverse link E7 to E8--><a href=\"psysml:762eee8a-df65-48ef-8994-f8166e9b75f6\" target=\"_top\" title=\"psysml:762eee8a-df65-48ef-8994-f8166e9b75f6\" xlink:actuate=\"onRequest\" xlink:href=\"psysml:762eee8a-df65-48ef-8994-f8166e9b75f6\" xlink:show=\"new\" xlink:title=\"psysml:762eee8a-df65-48ef-8994-f8166e9b75f6\" xlink:type=\"simple\"><path d=\"M365.14,209.66 C331.9,220.26 296.21,232.36 280.75,240 C237.3,261.47 191.71,294.23 163.51,315.88 \" fill=\"none\" id=\"E7&lt;-E8\" style=\"stroke: #383838; stroke-width: 1.0;\"/><polygon fill=\"#FFFFFF\" points=\"377.71,205.68,370.7821,203.6789,366.2704,209.3043,373.1983,211.3053,377.71,205.68\" style=\"stroke: #383838; stroke-width: 1.0;\"/><text fill=\"#000000\" font-family=\"sans-serif\" font-size=\"13\" lengthAdjust=\"spacingAndGlyphs\" textLength=\"8\" x=\"161.8955\" y=\"304.744\">1</text></a><!--MD5=[f1f3f9f2fc535e6147756cb86a7f2e32]\n",
       "link E8 to E2--><a href=\"psysml:b4a53d37-cc69-46b7-9c1e-d748cdbb7a31\" target=\"_top\" title=\"psysml:b4a53d37-cc69-46b7-9c1e-d748cdbb7a31\" xlink:actuate=\"onRequest\" xlink:href=\"psysml:b4a53d37-cc69-46b7-9c1e-d748cdbb7a31\" xlink:show=\"new\" xlink:title=\"psysml:b4a53d37-cc69-46b7-9c1e-d748cdbb7a31\" xlink:type=\"simple\"><path d=\"M156.71,362.01 C169.43,375.36 185.98,392.74 200.64,408.14 \" fill=\"none\" id=\"E8-&gt;E2\" style=\"stroke: #383838; stroke-width: 1.0;\"/><polygon fill=\"#FFFFFF\" points=\"214.47,422.66,196.3009,413.7223,206.4424,404.0708,214.47,422.66\" style=\"stroke: #383838; stroke-width: 1.0;\"/><ellipse cx=\"193.8202\" cy=\"408.2144\" fill=\"#383838\" rx=\"2\" ry=\"2\" style=\"stroke: #383838; stroke-width: 1.0;\"/><ellipse cx=\"201.0641\" cy=\"401.3206\" fill=\"#383838\" rx=\"2\" ry=\"2\" style=\"stroke: #383838; stroke-width: 1.0;\"/></a><!--MD5=[9ae28de373ca99bb8a1b38d63370ca7e]\n",
       "reverse link E5 to E9--><a href=\"psysml:b337f31d-c5a0-436f-953f-431d96e2f8f6\" target=\"_top\" title=\"psysml:b337f31d-c5a0-436f-953f-431d96e2f8f6\" xlink:actuate=\"onRequest\" xlink:href=\"psysml:b337f31d-c5a0-436f-953f-431d96e2f8f6\" xlink:show=\"new\" xlink:title=\"psysml:b337f31d-c5a0-436f-953f-431d96e2f8f6\" xlink:type=\"simple\"><path d=\"M427.82,92.73 C459.8,108.4 493.52,131.5 511.75,164 C521.75,181.83 523.05,192.96 511.75,210 C503.17,222.95 490.65,232.68 476.85,239.99 \" fill=\"none\" id=\"E5&lt;-E9\" style=\"stroke: #383838; stroke-width: 1.0;\"/><polygon fill=\"#FFFFFF\" points=\"415.69,87.08,419.4417,93.2383,426.5692,92.1438,422.8176,85.9855,415.69,87.08\" style=\"stroke: #383838; stroke-width: 1.0;\"/><text fill=\"#000000\" font-family=\"sans-serif\" font-size=\"13\" lengthAdjust=\"spacingAndGlyphs\" textLength=\"8\" x=\"487.2469\" y=\"230.4042\">1</text></a><!--MD5=[5c3bb36fe832a92c7f0e1807dd65209d]\n",
       "link E9 to E2--><a href=\"psysml:a6a00959-a343-466b-bcfe-643c8c056808\" target=\"_top\" title=\"psysml:a6a00959-a343-466b-bcfe-643c8c056808\" xlink:actuate=\"onRequest\" xlink:href=\"psysml:a6a00959-a343-466b-bcfe-643c8c056808\" xlink:show=\"new\" xlink:title=\"psysml:a6a00959-a343-466b-bcfe-643c8c056808\" xlink:type=\"simple\"><path d=\"M297.61,284.36 C281.24,291.84 265.88,302.05 254.75,316 C235.48,340.16 231.36,375.23 231.71,402.71 \" fill=\"none\" id=\"E9-&gt;E2\" style=\"stroke: #383838; stroke-width: 1.0;\"/><polygon fill=\"#FFFFFF\" points=\"232.74,422.77,224.772,404.1552,238.7535,403.4351,232.74,422.77\" style=\"stroke: #383838; stroke-width: 1.0;\"/><ellipse cx=\"226.4762\" cy=\"398.3599\" fill=\"#383838\" rx=\"2\" ry=\"2\" style=\"stroke: #383838; stroke-width: 1.0;\"/><ellipse cx=\"236.463\" cy=\"397.8455\" fill=\"#383838\" rx=\"2\" ry=\"2\" style=\"stroke: #383838; stroke-width: 1.0;\"/></a><!--MD5=[440a5130097c9ec9f32a761a150f5131]\n",
       "@startuml\r\n",
       "top to bottom direction\r\n",
       "skinparam monochrome true\r\n",
       "skinparam classbackgroundcolor white\r\n",
       "skinparam shadowing false\r\n",
       "skinparam wrapWidth 300\r\n",
       "hide circle\r\n",
       "\r\n",
       "package \"TradeStudyTest\" as E1  [[psysml:57f8a98c-5718-48d8-9b9a-5c4650640602 ]]  {\r\n",
       "comp def \"Engine\" as E2  <<(T,blue) part  def>> [[psysml:6445380e-76a1-4d64-a2e6-1c63aec68392 ]] {\r\n",
       "}\r\n",
       "comp usage \"engine1: Engine \" as E3  <<(T,blue) part>> [[psysml:e07cfc3f-c273-4e94-9cbe-d128d50ec860 ]] {\r\n",
       "}\r\n",
       "comp usage \"engine2: Engine \" as E4  <<(T,blue) part>> [[psysml:d9e10f1c-39bd-473d-af93-7c118d42db3b ]] {\r\n",
       "}\r\n",
       "comp usage \"engineTradeStudy: TradeStudy \" as E5 << analysis>> [[psysml:f9c838ee-65e7-4043-9f07-1b30ef92e49c ]] {\r\n",
       "}\r\n",
       "comp usage \"tradeStudyObjective: MaximizeObjective \" as E6  <<(T,blue) requirement>> [[psysml:38fbb285-8167-4e3f-bee3-2164ba524da7 ]] {\r\n",
       "}\r\n",
       "comp usage \"objectiveFunction\" as E7  <<(T,blue) calculation>> [[psysml:658dce09-b71c-4e6e-94c9-a3c46617ebc8 ]] {\r\n",
       "}\r\n",
       "comp usage \"alternative: Engine \" as E8  <<(T,blue) part>> [[psysml:3dbf099d-922d-4ace-9ccd-679bba93319b ]] {\r\n",
       "}\r\n",
       "comp usage \"selectedAlternative: Engine \" as E9  <<(T,blue) part>> [[psysml:5fb9bd76-5535-468b-bb8f-88cd6f109fe8 ]] {\r\n",
       "}\r\n",
       "}\r\n",
       "E3 - -:|> E2 [[psysml:8b560a74-32d8-45cc-8c0e-f8d7e14b884a ]] \r\n",
       "E4 - -:|> E2 [[psysml:7f518d85-a598-4692-a186-0ec59d25f08f ]] \r\n",
       "E5 ..> E2 [[psysml:8e91b88f-f820-4b3f-bc7b-6a32144645a0 ]] : <<subject>>\r\n",
       "E5 - ->> E6 [[psysml:a6ebdbd2-b0f8-4e64-baff-f91dc99eb3fc ]] : <<objective>>\r\n",
       "E5 *- - E7 [[psysml:1d968e51-2f45-472a-9c8d-b659e8169068 ]] \r\n",
       "E7 o- - \"1\"E8 [[psysml:762eee8a-df65-48ef-8994-f8166e9b75f6 ]] \r\n",
       "E8 - -:|> E2 [[psysml:b4a53d37-cc69-46b7-9c1e-d748cdbb7a31 ]] \r\n",
       "E5 o- - \"1\"E9 [[psysml:b337f31d-c5a0-436f-953f-431d96e2f8f6 ]] \r\n",
       "E9 - -:|> E2 [[psysml:a6a00959-a343-466b-bcfe-643c8c056808 ]] \r\n",
       "@enduml\r\n",
       "\n",
       "PlantUML version 1.2020.13(Sat Jun 13 12:26:38 UTC 2020)\n",
       "(EPL source distribution)\n",
       "Java Runtime: OpenJDK Runtime Environment\n",
       "JVM: OpenJDK 64-Bit Server VM\n",
       "Default Encoding: UTF-8\n",
       "Language: en\n",
       "Country: null\n",
       "--></g></svg>"
      ]
     },
     "execution_count": 50,
     "metadata": {},
     "output_type": "execute_result"
    }
   ],
   "source": [
    "%viz --style=\"TB\" --view=\"MIXED\" \"TradeStudyTest\""
   ]
  },
  {
   "cell_type": "code",
   "execution_count": 51,
   "id": "61a9bb43",
   "metadata": {
    "execution": {
     "iopub.execute_input": "2021-11-13T13:01:42.168988Z",
     "iopub.status.busy": "2021-11-13T13:01:42.168583Z",
     "iopub.status.idle": "2021-11-13T13:01:42.215430Z",
     "shell.execute_reply": "2021-11-13T13:01:42.215161Z"
    }
   },
   "outputs": [
    {
     "data": {
      "image/svg+xml": [
       "<?xml version=\"1.0\" encoding=\"UTF-8\" standalone=\"no\"?><svg xmlns=\"http://www.w3.org/2000/svg\" xmlns:xlink=\"http://www.w3.org/1999/xlink\" contentScriptType=\"application/ecmascript\" contentStyleType=\"text/css\" height=\"497px\" preserveAspectRatio=\"none\" style=\"width:566px;height:497px;\" version=\"1.1\" viewBox=\"0 0 566 497\" width=\"566px\" zoomAndPan=\"magnify\"><defs/><g><!--MD5=[fbc87193dbaf4d95561dea2c320d4a47]\n",
       "cluster E1--><a href=\"psysml:57f8a98c-5718-48d8-9b9a-5c4650640602\" target=\"_top\" title=\"psysml:57f8a98c-5718-48d8-9b9a-5c4650640602\" xlink:actuate=\"onRequest\" xlink:href=\"psysml:57f8a98c-5718-48d8-9b9a-5c4650640602\" xlink:show=\"new\" xlink:title=\"psysml:57f8a98c-5718-48d8-9b9a-5c4650640602\" xlink:type=\"simple\"><polygon fill=\"#FFFFFF\" points=\"16,6,132,6,139,28.2969,544,28.2969,544,485,16,485,16,6\" style=\"stroke: #000000; stroke-width: 1.5;\"/><line style=\"stroke: #000000; stroke-width: 1.5;\" x1=\"16\" x2=\"139\" y1=\"28.2969\" y2=\"28.2969\"/><text fill=\"#000000\" font-family=\"sans-serif\" font-size=\"14\" font-weight=\"bold\" lengthAdjust=\"spacingAndGlyphs\" textLength=\"110\" x=\"20\" y=\"20.9951\">TradeStudyTest</text></a><!--MD5=[b4997ac47864f28c2f74865a473b2911]\n",
       "class E2--><a href=\"psysml:6445380e-76a1-4d64-a2e6-1c63aec68392\" target=\"_top\" title=\"psysml:6445380e-76a1-4d64-a2e6-1c63aec68392\" xlink:actuate=\"onRequest\" xlink:href=\"psysml:6445380e-76a1-4d64-a2e6-1c63aec68392\" xlink:show=\"new\" xlink:title=\"psysml:6445380e-76a1-4d64-a2e6-1c63aec68392\" xlink:type=\"simple\"><rect fill=\"#FFFFFF\" height=\"45.9375\" id=\"E2\" style=\"stroke: #383838; stroke-width: 1.5;\" width=\"70\" x=\"198\" y=\"423\"/><text fill=\"#000000\" font-family=\"sans-serif\" font-size=\"12\" font-style=\"italic\" lengthAdjust=\"spacingAndGlyphs\" textLength=\"68\" x=\"199\" y=\"439.1387\">«part  def»</text><text fill=\"#000000\" font-family=\"sans-serif\" font-size=\"12\" lengthAdjust=\"spacingAndGlyphs\" textLength=\"43\" x=\"211.5\" y=\"453.1074\">Engine</text><line style=\"stroke: #383838; stroke-width: 1.5;\" x1=\"199\" x2=\"267\" y1=\"460.9375\" y2=\"460.9375\"/></a><!--MD5=[09b614a08d8cba4a07c9adeb5e0fee81]\n",
       "class E3--><a href=\"psysml:e07cfc3f-c273-4e94-9cbe-d128d50ec860\" target=\"_top\" title=\"psysml:e07cfc3f-c273-4e94-9cbe-d128d50ec860\" xlink:actuate=\"onRequest\" xlink:href=\"psysml:e07cfc3f-c273-4e94-9cbe-d128d50ec860\" xlink:show=\"new\" xlink:title=\"psysml:e07cfc3f-c273-4e94-9cbe-d128d50ec860\" xlink:type=\"simple\"><rect fill=\"#FFFFFF\" height=\"45.9375\" id=\"E3\" rx=\"10\" ry=\"10\" style=\"stroke: #383838; stroke-width: 1.5;\" width=\"112\" x=\"416\" y=\"316\"/><text fill=\"#000000\" font-family=\"sans-serif\" font-size=\"12\" font-style=\"italic\" lengthAdjust=\"spacingAndGlyphs\" textLength=\"40\" x=\"452\" y=\"332.1387\">«part»</text><text fill=\"#000000\" font-family=\"sans-serif\" font-size=\"12\" lengthAdjust=\"spacingAndGlyphs\" textLength=\"102\" x=\"419\" y=\"346.1074\">engine1: Engine</text><line style=\"stroke: #383838; stroke-width: 1.5;\" x1=\"417\" x2=\"527\" y1=\"353.9375\" y2=\"353.9375\"/></a><!--MD5=[ebbe1d658d1005bcc118a6aa81145e00]\n",
       "class E4--><a href=\"psysml:d9e10f1c-39bd-473d-af93-7c118d42db3b\" target=\"_top\" title=\"psysml:d9e10f1c-39bd-473d-af93-7c118d42db3b\" xlink:actuate=\"onRequest\" xlink:href=\"psysml:d9e10f1c-39bd-473d-af93-7c118d42db3b\" xlink:show=\"new\" xlink:title=\"psysml:d9e10f1c-39bd-473d-af93-7c118d42db3b\" xlink:type=\"simple\"><rect fill=\"#FFFFFF\" height=\"45.9375\" id=\"E4\" rx=\"10\" ry=\"10\" style=\"stroke: #383838; stroke-width: 1.5;\" width=\"112\" x=\"269\" y=\"316\"/><text fill=\"#000000\" font-family=\"sans-serif\" font-size=\"12\" font-style=\"italic\" lengthAdjust=\"spacingAndGlyphs\" textLength=\"40\" x=\"305\" y=\"332.1387\">«part»</text><text fill=\"#000000\" font-family=\"sans-serif\" font-size=\"12\" lengthAdjust=\"spacingAndGlyphs\" textLength=\"102\" x=\"272\" y=\"346.1074\">engine2: Engine</text><line style=\"stroke: #383838; stroke-width: 1.5;\" x1=\"270\" x2=\"380\" y1=\"353.9375\" y2=\"353.9375\"/></a><!--MD5=[270fce915f116d4de14055a7c1d9a0f3]\n",
       "class E5--><a href=\"psysml:f9c838ee-65e7-4043-9f07-1b30ef92e49c\" target=\"_top\" title=\"psysml:f9c838ee-65e7-4043-9f07-1b30ef92e49c\" xlink:actuate=\"onRequest\" xlink:href=\"psysml:f9c838ee-65e7-4043-9f07-1b30ef92e49c\" xlink:show=\"new\" xlink:title=\"psysml:f9c838ee-65e7-4043-9f07-1b30ef92e49c\" xlink:type=\"simple\"><rect fill=\"#FFFFFF\" height=\"45.9375\" id=\"E5\" rx=\"10\" ry=\"10\" style=\"stroke: #383838; stroke-width: 1.5;\" width=\"203\" x=\"245.5\" y=\"41\"/><text fill=\"#000000\" font-family=\"sans-serif\" font-size=\"12\" font-style=\"italic\" lengthAdjust=\"spacingAndGlyphs\" textLength=\"64\" x=\"315\" y=\"57.1387\">«analysis»</text><text fill=\"#000000\" font-family=\"sans-serif\" font-size=\"12\" lengthAdjust=\"spacingAndGlyphs\" textLength=\"193\" x=\"248.5\" y=\"71.1074\">engineTradeStudy: TradeStudy</text><line style=\"stroke: #383838; stroke-width: 1.5;\" x1=\"246.5\" x2=\"447.5\" y1=\"78.9375\" y2=\"78.9375\"/></a><!--MD5=[60a26617385b1d2d0262a64233df1f8d]\n",
       "class E6--><a href=\"psysml:38fbb285-8167-4e3f-bee3-2164ba524da7\" target=\"_top\" title=\"psysml:38fbb285-8167-4e3f-bee3-2164ba524da7\" xlink:actuate=\"onRequest\" xlink:href=\"psysml:38fbb285-8167-4e3f-bee3-2164ba524da7\" xlink:show=\"new\" xlink:title=\"psysml:38fbb285-8167-4e3f-bee3-2164ba524da7\" xlink:type=\"simple\"><rect fill=\"#FFFFFF\" height=\"45.9375\" id=\"E6\" rx=\"10\" ry=\"10\" style=\"stroke: #383838; stroke-width: 1.5;\" width=\"255\" x=\"84.5\" y=\"164\"/><text fill=\"#000000\" font-family=\"sans-serif\" font-size=\"12\" font-style=\"italic\" lengthAdjust=\"spacingAndGlyphs\" textLength=\"91\" x=\"166.5\" y=\"180.1387\">«requirement»</text><text fill=\"#000000\" font-family=\"sans-serif\" font-size=\"12\" lengthAdjust=\"spacingAndGlyphs\" textLength=\"245\" x=\"87.5\" y=\"194.1074\">tradeStudyObjective: MaximizeObjective</text><line style=\"stroke: #383838; stroke-width: 1.5;\" x1=\"85.5\" x2=\"338.5\" y1=\"201.9375\" y2=\"201.9375\"/></a><!--MD5=[2156ba9850f5573cc1fc38a6a4b2f02b]\n",
       "class E7--><a href=\"psysml:658dce09-b71c-4e6e-94c9-a3c46617ebc8\" target=\"_top\" title=\"psysml:658dce09-b71c-4e6e-94c9-a3c46617ebc8\" xlink:actuate=\"onRequest\" xlink:href=\"psysml:658dce09-b71c-4e6e-94c9-a3c46617ebc8\" xlink:show=\"new\" xlink:title=\"psysml:658dce09-b71c-4e6e-94c9-a3c46617ebc8\" xlink:type=\"simple\"><rect fill=\"#FFFFFF\" height=\"45.9375\" id=\"E7\" rx=\"10\" ry=\"10\" style=\"stroke: #383838; stroke-width: 1.5;\" width=\"116\" x=\"375\" y=\"164\"/><text fill=\"#000000\" font-family=\"sans-serif\" font-size=\"12\" font-style=\"italic\" lengthAdjust=\"spacingAndGlyphs\" textLength=\"82\" x=\"392\" y=\"180.1387\">«calculation»</text><text fill=\"#000000\" font-family=\"sans-serif\" font-size=\"12\" lengthAdjust=\"spacingAndGlyphs\" textLength=\"110\" x=\"378\" y=\"194.1074\">objectiveFunction</text><line style=\"stroke: #383838; stroke-width: 1.5;\" x1=\"376\" x2=\"490\" y1=\"201.9375\" y2=\"201.9375\"/></a><!--MD5=[b9389687b975829384b498ac4b7476b2]\n",
       "class E8--><a href=\"psysml:3dbf099d-922d-4ace-9ccd-679bba93319b\" target=\"_top\" title=\"psysml:3dbf099d-922d-4ace-9ccd-679bba93319b\" xlink:actuate=\"onRequest\" xlink:href=\"psysml:3dbf099d-922d-4ace-9ccd-679bba93319b\" xlink:show=\"new\" xlink:title=\"psysml:3dbf099d-922d-4ace-9ccd-679bba93319b\" xlink:type=\"simple\"><rect fill=\"#FFFFFF\" height=\"45.9375\" id=\"E8\" rx=\"10\" ry=\"10\" style=\"stroke: #383838; stroke-width: 1.5;\" width=\"128\" x=\"69\" y=\"316\"/><text fill=\"#000000\" font-family=\"sans-serif\" font-size=\"12\" font-style=\"italic\" lengthAdjust=\"spacingAndGlyphs\" textLength=\"40\" x=\"113\" y=\"332.1387\">«part»</text><text fill=\"#000000\" font-family=\"sans-serif\" font-size=\"12\" lengthAdjust=\"spacingAndGlyphs\" textLength=\"118\" x=\"72\" y=\"346.1074\">alternative: Engine</text><line style=\"stroke: #383838; stroke-width: 1.5;\" x1=\"70\" x2=\"196\" y1=\"353.9375\" y2=\"353.9375\"/></a><!--MD5=[fd4143e9d270a159db93a4ea2a975926]\n",
       "class E9--><a href=\"psysml:5fb9bd76-5535-468b-bb8f-88cd6f109fe8\" target=\"_top\" title=\"psysml:5fb9bd76-5535-468b-bb8f-88cd6f109fe8\" xlink:actuate=\"onRequest\" xlink:href=\"psysml:5fb9bd76-5535-468b-bb8f-88cd6f109fe8\" xlink:show=\"new\" xlink:title=\"psysml:5fb9bd76-5535-468b-bb8f-88cd6f109fe8\" xlink:type=\"simple\"><rect fill=\"#FFFFFF\" height=\"45.9375\" id=\"E9\" rx=\"10\" ry=\"10\" style=\"stroke: #383838; stroke-width: 1.5;\" width=\"182\" x=\"295\" y=\"240\"/><text fill=\"#000000\" font-family=\"sans-serif\" font-size=\"12\" font-style=\"italic\" lengthAdjust=\"spacingAndGlyphs\" textLength=\"40\" x=\"366\" y=\"256.1387\">«part»</text><text fill=\"#000000\" font-family=\"sans-serif\" font-size=\"12\" lengthAdjust=\"spacingAndGlyphs\" textLength=\"172\" x=\"298\" y=\"270.1074\">selectedAlternative: Engine</text><line style=\"stroke: #383838; stroke-width: 1.5;\" x1=\"296\" x2=\"476\" y1=\"277.9375\" y2=\"277.9375\"/></a><!--MD5=[05d275557350bfb9b23a4ef7222b4c39]\n",
       "link E3 to E2--><a href=\"psysml:8b560a74-32d8-45cc-8c0e-f8d7e14b884a\" target=\"_top\" title=\"psysml:8b560a74-32d8-45cc-8c0e-f8d7e14b884a\" xlink:actuate=\"onRequest\" xlink:href=\"psysml:8b560a74-32d8-45cc-8c0e-f8d7e14b884a\" xlink:show=\"new\" xlink:title=\"psysml:8b560a74-32d8-45cc-8c0e-f8d7e14b884a\" xlink:type=\"simple\"><path d=\"M472,362.22 C472,393.69 472,446 472,446 C472,446 288.01,446 288.01,446 \" fill=\"none\" id=\"E3-&gt;E2\" style=\"stroke: #383838; stroke-width: 1.0;\"/><polygon fill=\"#FFFFFF\" points=\"268.01,446,287.01,439,287.01,453,268.01,446\" style=\"stroke: #383838; stroke-width: 1.0;\"/><ellipse cx=\"292.71\" cy=\"441\" fill=\"#383838\" rx=\"2\" ry=\"2\" style=\"stroke: #383838; stroke-width: 1.0;\"/><ellipse cx=\"292.71\" cy=\"451\" fill=\"#383838\" rx=\"2\" ry=\"2\" style=\"stroke: #383838; stroke-width: 1.0;\"/></a><!--MD5=[185131fc0dcab0a4505a2ebe144e961b]\n",
       "link E4 to E2--><a href=\"psysml:7f518d85-a598-4692-a186-0ec59d25f08f\" target=\"_top\" title=\"psysml:7f518d85-a598-4692-a186-0ec59d25f08f\" xlink:actuate=\"onRequest\" xlink:href=\"psysml:7f518d85-a598-4692-a186-0ec59d25f08f\" xlink:show=\"new\" xlink:title=\"psysml:7f518d85-a598-4692-a186-0ec59d25f08f\" xlink:type=\"simple\"><path d=\"M268.71,347 C260.09,347 254,347 254,347 C254,347 254,402.79 254,402.79 \" fill=\"none\" id=\"E4-&gt;E2\" style=\"stroke: #383838; stroke-width: 1.0;\"/><polygon fill=\"#FFFFFF\" points=\"254,422.79,247,403.79,261,403.79,254,422.79\" style=\"stroke: #383838; stroke-width: 1.0;\"/><ellipse cx=\"249\" cy=\"398.09\" fill=\"#383838\" rx=\"2\" ry=\"2\" style=\"stroke: #383838; stroke-width: 1.0;\"/><ellipse cx=\"259\" cy=\"398.09\" fill=\"#383838\" rx=\"2\" ry=\"2\" style=\"stroke: #383838; stroke-width: 1.0;\"/></a><!--MD5=[15ebcb19ae302d9b601edb458606d402]\n",
       "link E5 to E2--><a href=\"psysml:8e91b88f-f820-4b3f-bc7b-6a32144645a0\" target=\"_top\" title=\"psysml:8e91b88f-f820-4b3f-bc7b-6a32144645a0\" xlink:actuate=\"onRequest\" xlink:href=\"psysml:8e91b88f-f820-4b3f-bc7b-6a32144645a0\" xlink:show=\"new\" xlink:title=\"psysml:8e91b88f-f820-4b3f-bc7b-6a32144645a0\" xlink:type=\"simple\"><path d=\"M351.33,87.02 C351.33,130.41 351.33,220 351.33,220 C351.33,220 226,220 226,220 C226,220 226,417.67 226,417.67 \" fill=\"none\" id=\"E5-&gt;E2\" style=\"stroke: #383838; stroke-width: 1.0; stroke-dasharray: 7.0,7.0;\"/><polygon fill=\"#383838\" points=\"226,422.67,230,413.67,226,417.67,222,413.67,226,422.67\" style=\"stroke: #383838; stroke-width: 1.0;\"/><text fill=\"#000000\" font-family=\"sans-serif\" font-size=\"13\" lengthAdjust=\"spacingAndGlyphs\" textLength=\"62\" x=\"68\" y=\"267.5669\">«subject»</text></a><!--MD5=[9120cf2e5df3bff93db8f754bbbc09b4]\n",
       "link E5 to E6--><a href=\"psysml:a6ebdbd2-b0f8-4e64-baff-f91dc99eb3fc\" target=\"_top\" title=\"psysml:a6ebdbd2-b0f8-4e64-baff-f91dc99eb3fc\" xlink:actuate=\"onRequest\" xlink:href=\"psysml:a6ebdbd2-b0f8-4e64-baff-f91dc99eb3fc\" xlink:show=\"new\" xlink:title=\"psysml:a6ebdbd2-b0f8-4e64-baff-f91dc99eb3fc\" xlink:type=\"simple\"><path d=\"M292.5,87.14 C292.5,87.14 292.5,155.97 292.5,155.97 \" fill=\"none\" id=\"E5-&gt;E6\" style=\"stroke: #383838; stroke-width: 1.0;\"/><polygon fill=\"#383838\" points=\"292.5,163.97,295.5,155.97,289.5,155.97,292.5,163.97\" style=\"stroke: #383838; stroke-width: 1.0;\"/><text fill=\"#000000\" font-family=\"sans-serif\" font-size=\"13\" lengthAdjust=\"spacingAndGlyphs\" textLength=\"73\" x=\"241\" y=\"130.0669\">«objective»</text></a><!--MD5=[452b418e7f8a40397a49b8c0a78acc5b]\n",
       "reverse link E5 to E7--><a href=\"psysml:1d968e51-2f45-472a-9c8d-b659e8169068\" target=\"_top\" title=\"psysml:1d968e51-2f45-472a-9c8d-b659e8169068\" xlink:actuate=\"onRequest\" xlink:href=\"psysml:1d968e51-2f45-472a-9c8d-b659e8169068\" xlink:show=\"new\" xlink:title=\"psysml:1d968e51-2f45-472a-9c8d-b659e8169068\" xlink:type=\"simple\"><path d=\"M411.75,100.14 C411.75,100.14 411.75,163.97 411.75,163.97 \" fill=\"none\" id=\"E5&lt;-E7\" style=\"stroke: #383838; stroke-width: 1.0;\"/><polygon fill=\"#383838\" points=\"411.75,87.14,407.75,93.14,411.75,99.14,415.75,93.14,411.75,87.14\" style=\"stroke: #383838; stroke-width: 1.0;\"/></a><!--MD5=[dc164f5e8a733ab456ef1add180e9e34]\n",
       "reverse link E7 to E8--><a href=\"psysml:762eee8a-df65-48ef-8994-f8166e9b75f6\" target=\"_top\" title=\"psysml:762eee8a-df65-48ef-8994-f8166e9b75f6\" xlink:actuate=\"onRequest\" xlink:href=\"psysml:762eee8a-df65-48ef-8994-f8166e9b75f6\" xlink:show=\"new\" xlink:title=\"psysml:762eee8a-df65-48ef-8994-f8166e9b75f6\" xlink:type=\"simple\"><path d=\"M426,223.01 C426,223.01 426,230 426,230 C426,230 140.75,230 140.75,230 C140.75,230 140.75,283.89 140.75,315.88 \" fill=\"none\" id=\"E7&lt;-E8\" style=\"stroke: #383838; stroke-width: 1.0;\"/><polygon fill=\"#FFFFFF\" points=\"426,210.01,422,216.01,426,222.01,430,216.01,426,210.01\" style=\"stroke: #383838; stroke-width: 1.0;\"/><text fill=\"#000000\" font-family=\"sans-serif\" font-size=\"13\" lengthAdjust=\"spacingAndGlyphs\" textLength=\"8\" x=\"133.7578\" y=\"304.744\">1</text></a><!--MD5=[f1f3f9f2fc535e6147756cb86a7f2e32]\n",
       "link E8 to E2--><a href=\"psysml:b4a53d37-cc69-46b7-9c1e-d748cdbb7a31\" target=\"_top\" title=\"psysml:b4a53d37-cc69-46b7-9c1e-d748cdbb7a31\" xlink:actuate=\"onRequest\" xlink:href=\"psysml:b4a53d37-cc69-46b7-9c1e-d748cdbb7a31\" xlink:show=\"new\" xlink:title=\"psysml:b4a53d37-cc69-46b7-9c1e-d748cdbb7a31\" xlink:type=\"simple\"><path d=\"M197.14,332 C205.92,332 212,332 212,332 C212,332 212,402.93 212,402.93 \" fill=\"none\" id=\"E8-&gt;E2\" style=\"stroke: #383838; stroke-width: 1.0;\"/><polygon fill=\"#FFFFFF\" points=\"212,422.93,205,403.93,219,403.93,212,422.93\" style=\"stroke: #383838; stroke-width: 1.0;\"/><ellipse cx=\"207\" cy=\"398.23\" fill=\"#383838\" rx=\"2\" ry=\"2\" style=\"stroke: #383838; stroke-width: 1.0;\"/><ellipse cx=\"217\" cy=\"398.23\" fill=\"#383838\" rx=\"2\" ry=\"2\" style=\"stroke: #383838; stroke-width: 1.0;\"/></a><!--MD5=[9ae28de373ca99bb8a1b38d63370ca7e]\n",
       "reverse link E5 to E9--><a href=\"psysml:b337f31d-c5a0-436f-953f-431d96e2f8f6\" target=\"_top\" title=\"psysml:b337f31d-c5a0-436f-953f-431d96e2f8f6\" xlink:actuate=\"onRequest\" xlink:href=\"psysml:b337f31d-c5a0-436f-953f-431d96e2f8f6\" xlink:show=\"new\" xlink:title=\"psysml:b337f31d-c5a0-436f-953f-431d96e2f8f6\" xlink:type=\"simple\"><path d=\"M363.17,100.22 C363.17,100.22 363.17,239.93 363.17,239.93 \" fill=\"none\" id=\"E5&lt;-E9\" style=\"stroke: #383838; stroke-width: 1.0;\"/><polygon fill=\"#FFFFFF\" points=\"363.17,87.22,359.17,93.22,363.17,99.22,367.17,93.22,363.17,87.22\" style=\"stroke: #383838; stroke-width: 1.0;\"/><text fill=\"#000000\" font-family=\"sans-serif\" font-size=\"13\" lengthAdjust=\"spacingAndGlyphs\" textLength=\"8\" x=\"347.9594\" y=\"228.8075\">1</text></a><!--MD5=[5c3bb36fe832a92c7f0e1807dd65209d]\n",
       "link E9 to E2--><a href=\"psysml:a6a00959-a343-466b-bcfe-643c8c056808\" target=\"_top\" title=\"psysml:a6a00959-a343-466b-bcfe-643c8c056808\" xlink:actuate=\"onRequest\" xlink:href=\"psysml:a6a00959-a343-466b-bcfe-643c8c056808\" xlink:show=\"new\" xlink:title=\"psysml:a6a00959-a343-466b-bcfe-643c8c056808\" xlink:type=\"simple\"><path d=\"M294.78,263 C265.27,263 240,263 240,263 C240,263 240,402.82 240,402.82 \" fill=\"none\" id=\"E9-&gt;E2\" style=\"stroke: #383838; stroke-width: 1.0;\"/><polygon fill=\"#FFFFFF\" points=\"240,422.82,233,403.82,247,403.82,240,422.82\" style=\"stroke: #383838; stroke-width: 1.0;\"/><ellipse cx=\"235\" cy=\"398.12\" fill=\"#383838\" rx=\"2\" ry=\"2\" style=\"stroke: #383838; stroke-width: 1.0;\"/><ellipse cx=\"245\" cy=\"398.12\" fill=\"#383838\" rx=\"2\" ry=\"2\" style=\"stroke: #383838; stroke-width: 1.0;\"/></a><!--MD5=[c5915b40f09b60938a8ce12426f662e3]\n",
       "@startuml\r\n",
       "skinparam linetype ortho\r\n",
       "skinparam monochrome true\r\n",
       "skinparam classbackgroundcolor white\r\n",
       "skinparam shadowing false\r\n",
       "skinparam wrapWidth 300\r\n",
       "hide circle\r\n",
       "\r\n",
       "package \"TradeStudyTest\" as E1  [[psysml:57f8a98c-5718-48d8-9b9a-5c4650640602 ]]  {\r\n",
       "comp def \"Engine\" as E2  <<(T,blue) part  def>> [[psysml:6445380e-76a1-4d64-a2e6-1c63aec68392 ]] {\r\n",
       "}\r\n",
       "comp usage \"engine1: Engine \" as E3  <<(T,blue) part>> [[psysml:e07cfc3f-c273-4e94-9cbe-d128d50ec860 ]] {\r\n",
       "}\r\n",
       "comp usage \"engine2: Engine \" as E4  <<(T,blue) part>> [[psysml:d9e10f1c-39bd-473d-af93-7c118d42db3b ]] {\r\n",
       "}\r\n",
       "comp usage \"engineTradeStudy: TradeStudy \" as E5 << analysis>> [[psysml:f9c838ee-65e7-4043-9f07-1b30ef92e49c ]] {\r\n",
       "}\r\n",
       "comp usage \"tradeStudyObjective: MaximizeObjective \" as E6  <<(T,blue) requirement>> [[psysml:38fbb285-8167-4e3f-bee3-2164ba524da7 ]] {\r\n",
       "}\r\n",
       "comp usage \"objectiveFunction\" as E7  <<(T,blue) calculation>> [[psysml:658dce09-b71c-4e6e-94c9-a3c46617ebc8 ]] {\r\n",
       "}\r\n",
       "comp usage \"alternative: Engine \" as E8  <<(T,blue) part>> [[psysml:3dbf099d-922d-4ace-9ccd-679bba93319b ]] {\r\n",
       "}\r\n",
       "comp usage \"selectedAlternative: Engine \" as E9  <<(T,blue) part>> [[psysml:5fb9bd76-5535-468b-bb8f-88cd6f109fe8 ]] {\r\n",
       "}\r\n",
       "}\r\n",
       "E3 - -:|> E2 [[psysml:8b560a74-32d8-45cc-8c0e-f8d7e14b884a ]] \r\n",
       "E4 - -:|> E2 [[psysml:7f518d85-a598-4692-a186-0ec59d25f08f ]] \r\n",
       "E5 ..> E2 [[psysml:8e91b88f-f820-4b3f-bc7b-6a32144645a0 ]] : <<subject>>\r\n",
       "E5 - ->> E6 [[psysml:a6ebdbd2-b0f8-4e64-baff-f91dc99eb3fc ]] : <<objective>>\r\n",
       "E5 *- - E7 [[psysml:1d968e51-2f45-472a-9c8d-b659e8169068 ]] \r\n",
       "E7 o- - \"1\"E8 [[psysml:762eee8a-df65-48ef-8994-f8166e9b75f6 ]] \r\n",
       "E8 - -:|> E2 [[psysml:b4a53d37-cc69-46b7-9c1e-d748cdbb7a31 ]] \r\n",
       "E5 o- - \"1\"E9 [[psysml:b337f31d-c5a0-436f-953f-431d96e2f8f6 ]] \r\n",
       "E9 - -:|> E2 [[psysml:a6a00959-a343-466b-bcfe-643c8c056808 ]] \r\n",
       "@enduml\r\n",
       "\n",
       "PlantUML version 1.2020.13(Sat Jun 13 12:26:38 UTC 2020)\n",
       "(EPL source distribution)\n",
       "Java Runtime: OpenJDK Runtime Environment\n",
       "JVM: OpenJDK 64-Bit Server VM\n",
       "Default Encoding: UTF-8\n",
       "Language: en\n",
       "Country: null\n",
       "--></g></svg>"
      ]
     },
     "execution_count": 51,
     "metadata": {},
     "output_type": "execute_result"
    }
   ],
   "source": [
    "%viz --style=\"ORTHOLINE\" --view=\"Default\" \"TradeStudyTest\""
   ]
  },
  {
   "cell_type": "code",
   "execution_count": 52,
   "id": "2b477999",
   "metadata": {
    "execution": {
     "iopub.execute_input": "2021-11-13T13:01:42.265007Z",
     "iopub.status.busy": "2021-11-13T13:01:42.264613Z",
     "iopub.status.idle": "2021-11-13T13:01:42.310856Z",
     "shell.execute_reply": "2021-11-13T13:01:42.310452Z"
    }
   },
   "outputs": [
    {
     "data": {
      "image/svg+xml": [
       "<?xml version=\"1.0\" encoding=\"UTF-8\" standalone=\"no\"?><svg xmlns=\"http://www.w3.org/2000/svg\" xmlns:xlink=\"http://www.w3.org/1999/xlink\" contentScriptType=\"application/ecmascript\" contentStyleType=\"text/css\" height=\"497px\" preserveAspectRatio=\"none\" style=\"width:566px;height:497px;\" version=\"1.1\" viewBox=\"0 0 566 497\" width=\"566px\" zoomAndPan=\"magnify\"><defs/><g><!--MD5=[fbc87193dbaf4d95561dea2c320d4a47]\n",
       "cluster E1--><a href=\"psysml:57f8a98c-5718-48d8-9b9a-5c4650640602\" target=\"_top\" title=\"psysml:57f8a98c-5718-48d8-9b9a-5c4650640602\" xlink:actuate=\"onRequest\" xlink:href=\"psysml:57f8a98c-5718-48d8-9b9a-5c4650640602\" xlink:show=\"new\" xlink:title=\"psysml:57f8a98c-5718-48d8-9b9a-5c4650640602\" xlink:type=\"simple\"><polygon fill=\"#FFFFFF\" points=\"16,6,132,6,139,28.2969,544,28.2969,544,485,16,485,16,6\" style=\"stroke: #000000; stroke-width: 1.5;\"/><line style=\"stroke: #000000; stroke-width: 1.5;\" x1=\"16\" x2=\"139\" y1=\"28.2969\" y2=\"28.2969\"/><text fill=\"#000000\" font-family=\"sans-serif\" font-size=\"14\" font-weight=\"bold\" lengthAdjust=\"spacingAndGlyphs\" textLength=\"110\" x=\"20\" y=\"20.9951\">TradeStudyTest</text></a><!--MD5=[b4997ac47864f28c2f74865a473b2911]\n",
       "class E2--><a href=\"psysml:6445380e-76a1-4d64-a2e6-1c63aec68392\" target=\"_top\" title=\"psysml:6445380e-76a1-4d64-a2e6-1c63aec68392\" xlink:actuate=\"onRequest\" xlink:href=\"psysml:6445380e-76a1-4d64-a2e6-1c63aec68392\" xlink:show=\"new\" xlink:title=\"psysml:6445380e-76a1-4d64-a2e6-1c63aec68392\" xlink:type=\"simple\"><rect fill=\"#FFFFFF\" height=\"45.9375\" id=\"E2\" style=\"stroke: #383838; stroke-width: 1.5;\" width=\"70\" x=\"198\" y=\"423\"/><text fill=\"#000000\" font-family=\"sans-serif\" font-size=\"12\" font-style=\"italic\" lengthAdjust=\"spacingAndGlyphs\" textLength=\"68\" x=\"199\" y=\"439.1387\">«part  def»</text><text fill=\"#000000\" font-family=\"sans-serif\" font-size=\"12\" lengthAdjust=\"spacingAndGlyphs\" textLength=\"43\" x=\"211.5\" y=\"453.1074\">Engine</text><line style=\"stroke: #383838; stroke-width: 1.5;\" x1=\"199\" x2=\"267\" y1=\"460.9375\" y2=\"460.9375\"/></a><!--MD5=[09b614a08d8cba4a07c9adeb5e0fee81]\n",
       "class E3--><a href=\"psysml:e07cfc3f-c273-4e94-9cbe-d128d50ec860\" target=\"_top\" title=\"psysml:e07cfc3f-c273-4e94-9cbe-d128d50ec860\" xlink:actuate=\"onRequest\" xlink:href=\"psysml:e07cfc3f-c273-4e94-9cbe-d128d50ec860\" xlink:show=\"new\" xlink:title=\"psysml:e07cfc3f-c273-4e94-9cbe-d128d50ec860\" xlink:type=\"simple\"><rect fill=\"#FFFFFF\" height=\"45.9375\" id=\"E3\" rx=\"10\" ry=\"10\" style=\"stroke: #383838; stroke-width: 1.5;\" width=\"112\" x=\"416\" y=\"316\"/><text fill=\"#000000\" font-family=\"sans-serif\" font-size=\"12\" font-style=\"italic\" lengthAdjust=\"spacingAndGlyphs\" textLength=\"40\" x=\"452\" y=\"332.1387\">«part»</text><text fill=\"#000000\" font-family=\"sans-serif\" font-size=\"12\" lengthAdjust=\"spacingAndGlyphs\" textLength=\"102\" x=\"419\" y=\"346.1074\">engine1: Engine</text><line style=\"stroke: #383838; stroke-width: 1.5;\" x1=\"417\" x2=\"527\" y1=\"353.9375\" y2=\"353.9375\"/></a><!--MD5=[ebbe1d658d1005bcc118a6aa81145e00]\n",
       "class E4--><a href=\"psysml:d9e10f1c-39bd-473d-af93-7c118d42db3b\" target=\"_top\" title=\"psysml:d9e10f1c-39bd-473d-af93-7c118d42db3b\" xlink:actuate=\"onRequest\" xlink:href=\"psysml:d9e10f1c-39bd-473d-af93-7c118d42db3b\" xlink:show=\"new\" xlink:title=\"psysml:d9e10f1c-39bd-473d-af93-7c118d42db3b\" xlink:type=\"simple\"><rect fill=\"#FFFFFF\" height=\"45.9375\" id=\"E4\" rx=\"10\" ry=\"10\" style=\"stroke: #383838; stroke-width: 1.5;\" width=\"112\" x=\"269\" y=\"316\"/><text fill=\"#000000\" font-family=\"sans-serif\" font-size=\"12\" font-style=\"italic\" lengthAdjust=\"spacingAndGlyphs\" textLength=\"40\" x=\"305\" y=\"332.1387\">«part»</text><text fill=\"#000000\" font-family=\"sans-serif\" font-size=\"12\" lengthAdjust=\"spacingAndGlyphs\" textLength=\"102\" x=\"272\" y=\"346.1074\">engine2: Engine</text><line style=\"stroke: #383838; stroke-width: 1.5;\" x1=\"270\" x2=\"380\" y1=\"353.9375\" y2=\"353.9375\"/></a><!--MD5=[270fce915f116d4de14055a7c1d9a0f3]\n",
       "class E5--><a href=\"psysml:f9c838ee-65e7-4043-9f07-1b30ef92e49c\" target=\"_top\" title=\"psysml:f9c838ee-65e7-4043-9f07-1b30ef92e49c\" xlink:actuate=\"onRequest\" xlink:href=\"psysml:f9c838ee-65e7-4043-9f07-1b30ef92e49c\" xlink:show=\"new\" xlink:title=\"psysml:f9c838ee-65e7-4043-9f07-1b30ef92e49c\" xlink:type=\"simple\"><rect fill=\"#FFFFFF\" height=\"45.9375\" id=\"E5\" rx=\"10\" ry=\"10\" style=\"stroke: #383838; stroke-width: 1.5;\" width=\"203\" x=\"245.5\" y=\"41\"/><text fill=\"#000000\" font-family=\"sans-serif\" font-size=\"12\" font-style=\"italic\" lengthAdjust=\"spacingAndGlyphs\" textLength=\"64\" x=\"315\" y=\"57.1387\">«analysis»</text><text fill=\"#000000\" font-family=\"sans-serif\" font-size=\"12\" lengthAdjust=\"spacingAndGlyphs\" textLength=\"193\" x=\"248.5\" y=\"71.1074\">engineTradeStudy: TradeStudy</text><line style=\"stroke: #383838; stroke-width: 1.5;\" x1=\"246.5\" x2=\"447.5\" y1=\"78.9375\" y2=\"78.9375\"/></a><!--MD5=[60a26617385b1d2d0262a64233df1f8d]\n",
       "class E6--><a href=\"psysml:38fbb285-8167-4e3f-bee3-2164ba524da7\" target=\"_top\" title=\"psysml:38fbb285-8167-4e3f-bee3-2164ba524da7\" xlink:actuate=\"onRequest\" xlink:href=\"psysml:38fbb285-8167-4e3f-bee3-2164ba524da7\" xlink:show=\"new\" xlink:title=\"psysml:38fbb285-8167-4e3f-bee3-2164ba524da7\" xlink:type=\"simple\"><rect fill=\"#FFFFFF\" height=\"45.9375\" id=\"E6\" rx=\"10\" ry=\"10\" style=\"stroke: #383838; stroke-width: 1.5;\" width=\"255\" x=\"84.5\" y=\"164\"/><text fill=\"#000000\" font-family=\"sans-serif\" font-size=\"12\" font-style=\"italic\" lengthAdjust=\"spacingAndGlyphs\" textLength=\"91\" x=\"166.5\" y=\"180.1387\">«requirement»</text><text fill=\"#000000\" font-family=\"sans-serif\" font-size=\"12\" lengthAdjust=\"spacingAndGlyphs\" textLength=\"245\" x=\"87.5\" y=\"194.1074\">tradeStudyObjective: MaximizeObjective</text><line style=\"stroke: #383838; stroke-width: 1.5;\" x1=\"85.5\" x2=\"338.5\" y1=\"201.9375\" y2=\"201.9375\"/></a><!--MD5=[2156ba9850f5573cc1fc38a6a4b2f02b]\n",
       "class E7--><a href=\"psysml:658dce09-b71c-4e6e-94c9-a3c46617ebc8\" target=\"_top\" title=\"psysml:658dce09-b71c-4e6e-94c9-a3c46617ebc8\" xlink:actuate=\"onRequest\" xlink:href=\"psysml:658dce09-b71c-4e6e-94c9-a3c46617ebc8\" xlink:show=\"new\" xlink:title=\"psysml:658dce09-b71c-4e6e-94c9-a3c46617ebc8\" xlink:type=\"simple\"><rect fill=\"#FFFFFF\" height=\"45.9375\" id=\"E7\" rx=\"10\" ry=\"10\" style=\"stroke: #383838; stroke-width: 1.5;\" width=\"116\" x=\"375\" y=\"164\"/><text fill=\"#000000\" font-family=\"sans-serif\" font-size=\"12\" font-style=\"italic\" lengthAdjust=\"spacingAndGlyphs\" textLength=\"82\" x=\"392\" y=\"180.1387\">«calculation»</text><text fill=\"#000000\" font-family=\"sans-serif\" font-size=\"12\" lengthAdjust=\"spacingAndGlyphs\" textLength=\"110\" x=\"378\" y=\"194.1074\">objectiveFunction</text><line style=\"stroke: #383838; stroke-width: 1.5;\" x1=\"376\" x2=\"490\" y1=\"201.9375\" y2=\"201.9375\"/></a><!--MD5=[b9389687b975829384b498ac4b7476b2]\n",
       "class E8--><a href=\"psysml:3dbf099d-922d-4ace-9ccd-679bba93319b\" target=\"_top\" title=\"psysml:3dbf099d-922d-4ace-9ccd-679bba93319b\" xlink:actuate=\"onRequest\" xlink:href=\"psysml:3dbf099d-922d-4ace-9ccd-679bba93319b\" xlink:show=\"new\" xlink:title=\"psysml:3dbf099d-922d-4ace-9ccd-679bba93319b\" xlink:type=\"simple\"><rect fill=\"#FFFFFF\" height=\"45.9375\" id=\"E8\" rx=\"10\" ry=\"10\" style=\"stroke: #383838; stroke-width: 1.5;\" width=\"128\" x=\"69\" y=\"316\"/><text fill=\"#000000\" font-family=\"sans-serif\" font-size=\"12\" font-style=\"italic\" lengthAdjust=\"spacingAndGlyphs\" textLength=\"40\" x=\"113\" y=\"332.1387\">«part»</text><text fill=\"#000000\" font-family=\"sans-serif\" font-size=\"12\" lengthAdjust=\"spacingAndGlyphs\" textLength=\"118\" x=\"72\" y=\"346.1074\">alternative: Engine</text><line style=\"stroke: #383838; stroke-width: 1.5;\" x1=\"70\" x2=\"196\" y1=\"353.9375\" y2=\"353.9375\"/></a><!--MD5=[fd4143e9d270a159db93a4ea2a975926]\n",
       "class E9--><a href=\"psysml:5fb9bd76-5535-468b-bb8f-88cd6f109fe8\" target=\"_top\" title=\"psysml:5fb9bd76-5535-468b-bb8f-88cd6f109fe8\" xlink:actuate=\"onRequest\" xlink:href=\"psysml:5fb9bd76-5535-468b-bb8f-88cd6f109fe8\" xlink:show=\"new\" xlink:title=\"psysml:5fb9bd76-5535-468b-bb8f-88cd6f109fe8\" xlink:type=\"simple\"><rect fill=\"#FFFFFF\" height=\"45.9375\" id=\"E9\" rx=\"10\" ry=\"10\" style=\"stroke: #383838; stroke-width: 1.5;\" width=\"182\" x=\"295\" y=\"240\"/><text fill=\"#000000\" font-family=\"sans-serif\" font-size=\"12\" font-style=\"italic\" lengthAdjust=\"spacingAndGlyphs\" textLength=\"40\" x=\"366\" y=\"256.1387\">«part»</text><text fill=\"#000000\" font-family=\"sans-serif\" font-size=\"12\" lengthAdjust=\"spacingAndGlyphs\" textLength=\"172\" x=\"298\" y=\"270.1074\">selectedAlternative: Engine</text><line style=\"stroke: #383838; stroke-width: 1.5;\" x1=\"296\" x2=\"476\" y1=\"277.9375\" y2=\"277.9375\"/></a><!--MD5=[05d275557350bfb9b23a4ef7222b4c39]\n",
       "link E3 to E2--><a href=\"psysml:8b560a74-32d8-45cc-8c0e-f8d7e14b884a\" target=\"_top\" title=\"psysml:8b560a74-32d8-45cc-8c0e-f8d7e14b884a\" xlink:actuate=\"onRequest\" xlink:href=\"psysml:8b560a74-32d8-45cc-8c0e-f8d7e14b884a\" xlink:show=\"new\" xlink:title=\"psysml:8b560a74-32d8-45cc-8c0e-f8d7e14b884a\" xlink:type=\"simple\"><path d=\"M472,362.22 C472,393.69 472,446 472,446 C472,446 288.01,446 288.01,446 \" fill=\"none\" id=\"E3-&gt;E2\" style=\"stroke: #383838; stroke-width: 1.0;\"/><polygon fill=\"#FFFFFF\" points=\"268.01,446,287.01,439,287.01,453,268.01,446\" style=\"stroke: #383838; stroke-width: 1.0;\"/><ellipse cx=\"292.71\" cy=\"441\" fill=\"#383838\" rx=\"2\" ry=\"2\" style=\"stroke: #383838; stroke-width: 1.0;\"/><ellipse cx=\"292.71\" cy=\"451\" fill=\"#383838\" rx=\"2\" ry=\"2\" style=\"stroke: #383838; stroke-width: 1.0;\"/></a><!--MD5=[185131fc0dcab0a4505a2ebe144e961b]\n",
       "link E4 to E2--><a href=\"psysml:7f518d85-a598-4692-a186-0ec59d25f08f\" target=\"_top\" title=\"psysml:7f518d85-a598-4692-a186-0ec59d25f08f\" xlink:actuate=\"onRequest\" xlink:href=\"psysml:7f518d85-a598-4692-a186-0ec59d25f08f\" xlink:show=\"new\" xlink:title=\"psysml:7f518d85-a598-4692-a186-0ec59d25f08f\" xlink:type=\"simple\"><path d=\"M268.71,347 C260.09,347 254,347 254,347 C254,347 254,402.79 254,402.79 \" fill=\"none\" id=\"E4-&gt;E2\" style=\"stroke: #383838; stroke-width: 1.0;\"/><polygon fill=\"#FFFFFF\" points=\"254,422.79,247,403.79,261,403.79,254,422.79\" style=\"stroke: #383838; stroke-width: 1.0;\"/><ellipse cx=\"249\" cy=\"398.09\" fill=\"#383838\" rx=\"2\" ry=\"2\" style=\"stroke: #383838; stroke-width: 1.0;\"/><ellipse cx=\"259\" cy=\"398.09\" fill=\"#383838\" rx=\"2\" ry=\"2\" style=\"stroke: #383838; stroke-width: 1.0;\"/></a><!--MD5=[15ebcb19ae302d9b601edb458606d402]\n",
       "link E5 to E2--><a href=\"psysml:8e91b88f-f820-4b3f-bc7b-6a32144645a0\" target=\"_top\" title=\"psysml:8e91b88f-f820-4b3f-bc7b-6a32144645a0\" xlink:actuate=\"onRequest\" xlink:href=\"psysml:8e91b88f-f820-4b3f-bc7b-6a32144645a0\" xlink:show=\"new\" xlink:title=\"psysml:8e91b88f-f820-4b3f-bc7b-6a32144645a0\" xlink:type=\"simple\"><path d=\"M351.33,87.02 C351.33,130.41 351.33,220 351.33,220 C351.33,220 226,220 226,220 C226,220 226,417.67 226,417.67 \" fill=\"none\" id=\"E5-&gt;E2\" style=\"stroke: #383838; stroke-width: 1.0; stroke-dasharray: 7.0,7.0;\"/><polygon fill=\"#383838\" points=\"226,422.67,230,413.67,226,417.67,222,413.67,226,422.67\" style=\"stroke: #383838; stroke-width: 1.0;\"/><text fill=\"#000000\" font-family=\"sans-serif\" font-size=\"13\" lengthAdjust=\"spacingAndGlyphs\" textLength=\"62\" x=\"68\" y=\"267.5669\">«subject»</text></a><!--MD5=[9120cf2e5df3bff93db8f754bbbc09b4]\n",
       "link E5 to E6--><a href=\"psysml:a6ebdbd2-b0f8-4e64-baff-f91dc99eb3fc\" target=\"_top\" title=\"psysml:a6ebdbd2-b0f8-4e64-baff-f91dc99eb3fc\" xlink:actuate=\"onRequest\" xlink:href=\"psysml:a6ebdbd2-b0f8-4e64-baff-f91dc99eb3fc\" xlink:show=\"new\" xlink:title=\"psysml:a6ebdbd2-b0f8-4e64-baff-f91dc99eb3fc\" xlink:type=\"simple\"><path d=\"M292.5,87.14 C292.5,87.14 292.5,155.97 292.5,155.97 \" fill=\"none\" id=\"E5-&gt;E6\" style=\"stroke: #383838; stroke-width: 1.0;\"/><polygon fill=\"#383838\" points=\"292.5,163.97,295.5,155.97,289.5,155.97,292.5,163.97\" style=\"stroke: #383838; stroke-width: 1.0;\"/><text fill=\"#000000\" font-family=\"sans-serif\" font-size=\"13\" lengthAdjust=\"spacingAndGlyphs\" textLength=\"73\" x=\"241\" y=\"130.0669\">«objective»</text></a><!--MD5=[452b418e7f8a40397a49b8c0a78acc5b]\n",
       "reverse link E5 to E7--><a href=\"psysml:1d968e51-2f45-472a-9c8d-b659e8169068\" target=\"_top\" title=\"psysml:1d968e51-2f45-472a-9c8d-b659e8169068\" xlink:actuate=\"onRequest\" xlink:href=\"psysml:1d968e51-2f45-472a-9c8d-b659e8169068\" xlink:show=\"new\" xlink:title=\"psysml:1d968e51-2f45-472a-9c8d-b659e8169068\" xlink:type=\"simple\"><path d=\"M411.75,100.14 C411.75,100.14 411.75,163.97 411.75,163.97 \" fill=\"none\" id=\"E5&lt;-E7\" style=\"stroke: #383838; stroke-width: 1.0;\"/><polygon fill=\"#383838\" points=\"411.75,87.14,407.75,93.14,411.75,99.14,415.75,93.14,411.75,87.14\" style=\"stroke: #383838; stroke-width: 1.0;\"/></a><!--MD5=[dc164f5e8a733ab456ef1add180e9e34]\n",
       "reverse link E7 to E8--><a href=\"psysml:762eee8a-df65-48ef-8994-f8166e9b75f6\" target=\"_top\" title=\"psysml:762eee8a-df65-48ef-8994-f8166e9b75f6\" xlink:actuate=\"onRequest\" xlink:href=\"psysml:762eee8a-df65-48ef-8994-f8166e9b75f6\" xlink:show=\"new\" xlink:title=\"psysml:762eee8a-df65-48ef-8994-f8166e9b75f6\" xlink:type=\"simple\"><path d=\"M426,223.01 C426,223.01 426,230 426,230 C426,230 140.75,230 140.75,230 C140.75,230 140.75,283.89 140.75,315.88 \" fill=\"none\" id=\"E7&lt;-E8\" style=\"stroke: #383838; stroke-width: 1.0;\"/><polygon fill=\"#FFFFFF\" points=\"426,210.01,422,216.01,426,222.01,430,216.01,426,210.01\" style=\"stroke: #383838; stroke-width: 1.0;\"/><text fill=\"#000000\" font-family=\"sans-serif\" font-size=\"13\" lengthAdjust=\"spacingAndGlyphs\" textLength=\"8\" x=\"133.7578\" y=\"304.744\">1</text></a><!--MD5=[f1f3f9f2fc535e6147756cb86a7f2e32]\n",
       "link E8 to E2--><a href=\"psysml:b4a53d37-cc69-46b7-9c1e-d748cdbb7a31\" target=\"_top\" title=\"psysml:b4a53d37-cc69-46b7-9c1e-d748cdbb7a31\" xlink:actuate=\"onRequest\" xlink:href=\"psysml:b4a53d37-cc69-46b7-9c1e-d748cdbb7a31\" xlink:show=\"new\" xlink:title=\"psysml:b4a53d37-cc69-46b7-9c1e-d748cdbb7a31\" xlink:type=\"simple\"><path d=\"M197.14,332 C205.92,332 212,332 212,332 C212,332 212,402.93 212,402.93 \" fill=\"none\" id=\"E8-&gt;E2\" style=\"stroke: #383838; stroke-width: 1.0;\"/><polygon fill=\"#FFFFFF\" points=\"212,422.93,205,403.93,219,403.93,212,422.93\" style=\"stroke: #383838; stroke-width: 1.0;\"/><ellipse cx=\"207\" cy=\"398.23\" fill=\"#383838\" rx=\"2\" ry=\"2\" style=\"stroke: #383838; stroke-width: 1.0;\"/><ellipse cx=\"217\" cy=\"398.23\" fill=\"#383838\" rx=\"2\" ry=\"2\" style=\"stroke: #383838; stroke-width: 1.0;\"/></a><!--MD5=[9ae28de373ca99bb8a1b38d63370ca7e]\n",
       "reverse link E5 to E9--><a href=\"psysml:b337f31d-c5a0-436f-953f-431d96e2f8f6\" target=\"_top\" title=\"psysml:b337f31d-c5a0-436f-953f-431d96e2f8f6\" xlink:actuate=\"onRequest\" xlink:href=\"psysml:b337f31d-c5a0-436f-953f-431d96e2f8f6\" xlink:show=\"new\" xlink:title=\"psysml:b337f31d-c5a0-436f-953f-431d96e2f8f6\" xlink:type=\"simple\"><path d=\"M363.17,100.22 C363.17,100.22 363.17,239.93 363.17,239.93 \" fill=\"none\" id=\"E5&lt;-E9\" style=\"stroke: #383838; stroke-width: 1.0;\"/><polygon fill=\"#FFFFFF\" points=\"363.17,87.22,359.17,93.22,363.17,99.22,367.17,93.22,363.17,87.22\" style=\"stroke: #383838; stroke-width: 1.0;\"/><text fill=\"#000000\" font-family=\"sans-serif\" font-size=\"13\" lengthAdjust=\"spacingAndGlyphs\" textLength=\"8\" x=\"347.9594\" y=\"228.8075\">1</text></a><!--MD5=[5c3bb36fe832a92c7f0e1807dd65209d]\n",
       "link E9 to E2--><a href=\"psysml:a6a00959-a343-466b-bcfe-643c8c056808\" target=\"_top\" title=\"psysml:a6a00959-a343-466b-bcfe-643c8c056808\" xlink:actuate=\"onRequest\" xlink:href=\"psysml:a6a00959-a343-466b-bcfe-643c8c056808\" xlink:show=\"new\" xlink:title=\"psysml:a6a00959-a343-466b-bcfe-643c8c056808\" xlink:type=\"simple\"><path d=\"M294.78,263 C265.27,263 240,263 240,263 C240,263 240,402.82 240,402.82 \" fill=\"none\" id=\"E9-&gt;E2\" style=\"stroke: #383838; stroke-width: 1.0;\"/><polygon fill=\"#FFFFFF\" points=\"240,422.82,233,403.82,247,403.82,240,422.82\" style=\"stroke: #383838; stroke-width: 1.0;\"/><ellipse cx=\"235\" cy=\"398.12\" fill=\"#383838\" rx=\"2\" ry=\"2\" style=\"stroke: #383838; stroke-width: 1.0;\"/><ellipse cx=\"245\" cy=\"398.12\" fill=\"#383838\" rx=\"2\" ry=\"2\" style=\"stroke: #383838; stroke-width: 1.0;\"/></a><!--MD5=[c5915b40f09b60938a8ce12426f662e3]\n",
       "@startuml\r\n",
       "skinparam linetype ortho\r\n",
       "skinparam monochrome true\r\n",
       "skinparam classbackgroundcolor white\r\n",
       "skinparam shadowing false\r\n",
       "skinparam wrapWidth 300\r\n",
       "hide circle\r\n",
       "\r\n",
       "package \"TradeStudyTest\" as E1  [[psysml:57f8a98c-5718-48d8-9b9a-5c4650640602 ]]  {\r\n",
       "comp def \"Engine\" as E2  <<(T,blue) part  def>> [[psysml:6445380e-76a1-4d64-a2e6-1c63aec68392 ]] {\r\n",
       "}\r\n",
       "comp usage \"engine1: Engine \" as E3  <<(T,blue) part>> [[psysml:e07cfc3f-c273-4e94-9cbe-d128d50ec860 ]] {\r\n",
       "}\r\n",
       "comp usage \"engine2: Engine \" as E4  <<(T,blue) part>> [[psysml:d9e10f1c-39bd-473d-af93-7c118d42db3b ]] {\r\n",
       "}\r\n",
       "comp usage \"engineTradeStudy: TradeStudy \" as E5 << analysis>> [[psysml:f9c838ee-65e7-4043-9f07-1b30ef92e49c ]] {\r\n",
       "}\r\n",
       "comp usage \"tradeStudyObjective: MaximizeObjective \" as E6  <<(T,blue) requirement>> [[psysml:38fbb285-8167-4e3f-bee3-2164ba524da7 ]] {\r\n",
       "}\r\n",
       "comp usage \"objectiveFunction\" as E7  <<(T,blue) calculation>> [[psysml:658dce09-b71c-4e6e-94c9-a3c46617ebc8 ]] {\r\n",
       "}\r\n",
       "comp usage \"alternative: Engine \" as E8  <<(T,blue) part>> [[psysml:3dbf099d-922d-4ace-9ccd-679bba93319b ]] {\r\n",
       "}\r\n",
       "comp usage \"selectedAlternative: Engine \" as E9  <<(T,blue) part>> [[psysml:5fb9bd76-5535-468b-bb8f-88cd6f109fe8 ]] {\r\n",
       "}\r\n",
       "}\r\n",
       "E3 - -:|> E2 [[psysml:8b560a74-32d8-45cc-8c0e-f8d7e14b884a ]] \r\n",
       "E4 - -:|> E2 [[psysml:7f518d85-a598-4692-a186-0ec59d25f08f ]] \r\n",
       "E5 ..> E2 [[psysml:8e91b88f-f820-4b3f-bc7b-6a32144645a0 ]] : <<subject>>\r\n",
       "E5 - ->> E6 [[psysml:a6ebdbd2-b0f8-4e64-baff-f91dc99eb3fc ]] : <<objective>>\r\n",
       "E5 *- - E7 [[psysml:1d968e51-2f45-472a-9c8d-b659e8169068 ]] \r\n",
       "E7 o- - \"1\"E8 [[psysml:762eee8a-df65-48ef-8994-f8166e9b75f6 ]] \r\n",
       "E8 - -:|> E2 [[psysml:b4a53d37-cc69-46b7-9c1e-d748cdbb7a31 ]] \r\n",
       "E5 o- - \"1\"E9 [[psysml:b337f31d-c5a0-436f-953f-431d96e2f8f6 ]] \r\n",
       "E9 - -:|> E2 [[psysml:a6a00959-a343-466b-bcfe-643c8c056808 ]] \r\n",
       "@enduml\r\n",
       "\n",
       "PlantUML version 1.2020.13(Sat Jun 13 12:26:38 UTC 2020)\n",
       "(EPL source distribution)\n",
       "Java Runtime: OpenJDK Runtime Environment\n",
       "JVM: OpenJDK 64-Bit Server VM\n",
       "Default Encoding: UTF-8\n",
       "Language: en\n",
       "Country: null\n",
       "--></g></svg>"
      ]
     },
     "execution_count": 52,
     "metadata": {},
     "output_type": "execute_result"
    }
   ],
   "source": [
    "%viz --style=\"ORTHOLINE\" --view=\"Tree\" \"TradeStudyTest\""
   ]
  },
  {
   "cell_type": "code",
   "execution_count": 53,
   "id": "e907d60f",
   "metadata": {
    "execution": {
     "iopub.execute_input": "2021-11-13T13:01:42.359934Z",
     "iopub.status.busy": "2021-11-13T13:01:42.359521Z",
     "iopub.status.idle": "2021-11-13T13:01:42.365060Z",
     "shell.execute_reply": "2021-11-13T13:01:42.364713Z"
    }
   },
   "outputs": [
    {
     "data": {
      "image/svg+xml": [
       "<?xml version=\"1.0\" encoding=\"UTF-8\" standalone=\"no\"?><svg xmlns=\"http://www.w3.org/2000/svg\" xmlns:xlink=\"http://www.w3.org/1999/xlink\" contentScriptType=\"application/ecmascript\" contentStyleType=\"text/css\" height=\"12px\" preserveAspectRatio=\"none\" style=\"width:12px;height:12px;\" version=\"1.1\" viewBox=\"0 0 12 12\" width=\"12px\" zoomAndPan=\"magnify\"><defs/><g><!--MD5=[97d6f38768b311333d388e66b2b27985]\n",
       "@startuml\r\n",
       "skinparam linetype ortho\r\n",
       "skinparam monochrome true\r\n",
       "skinparam classbackgroundcolor white\r\n",
       "skinparam shadowing false\r\n",
       "skinparam wrapWidth 300\r\n",
       "hide circle\r\n",
       "\r\n",
       "@enduml\r\n",
       "\n",
       "PlantUML version 1.2020.13(Sat Jun 13 12:26:38 UTC 2020)\n",
       "(EPL source distribution)\n",
       "Java Runtime: OpenJDK Runtime Environment\n",
       "JVM: OpenJDK 64-Bit Server VM\n",
       "Default Encoding: UTF-8\n",
       "Language: en\n",
       "Country: null\n",
       "--></g></svg>"
      ]
     },
     "execution_count": 53,
     "metadata": {},
     "output_type": "execute_result"
    }
   ],
   "source": [
    "%viz --style=\"ORTHOLINE\" --view=\"State\" \"TradeStudyTest\""
   ]
  },
  {
   "cell_type": "code",
   "execution_count": 54,
   "id": "27ea4d94",
   "metadata": {
    "execution": {
     "iopub.execute_input": "2021-11-13T13:01:42.414350Z",
     "iopub.status.busy": "2021-11-13T13:01:42.413885Z",
     "iopub.status.idle": "2021-11-13T13:01:42.454638Z",
     "shell.execute_reply": "2021-11-13T13:01:42.454282Z"
    }
   },
   "outputs": [
    {
     "data": {
      "image/svg+xml": [
       "<?xml version=\"1.0\" encoding=\"UTF-8\" standalone=\"no\"?><svg xmlns=\"http://www.w3.org/2000/svg\" xmlns:xlink=\"http://www.w3.org/1999/xlink\" contentScriptType=\"application/ecmascript\" contentStyleType=\"text/css\" height=\"334px\" preserveAspectRatio=\"none\" style=\"width:569px;height:334px;\" version=\"1.1\" viewBox=\"0 0 569 334\" width=\"569px\" zoomAndPan=\"magnify\"><defs/><g><!--MD5=[fbc87193dbaf4d95561dea2c320d4a47]\n",
       "cluster E1--><a href=\"psysml:57f8a98c-5718-48d8-9b9a-5c4650640602\" target=\"_top\" title=\"psysml:57f8a98c-5718-48d8-9b9a-5c4650640602\" xlink:actuate=\"onRequest\" xlink:href=\"psysml:57f8a98c-5718-48d8-9b9a-5c4650640602\" xlink:show=\"new\" xlink:title=\"psysml:57f8a98c-5718-48d8-9b9a-5c4650640602\" xlink:type=\"simple\"><polygon fill=\"#FFFFFF\" points=\"16,6,132,6,139,28.2969,547,28.2969,547,322,16,322,16,6\" style=\"stroke: #000000; stroke-width: 1.5;\"/><line style=\"stroke: #000000; stroke-width: 1.5;\" x1=\"16\" x2=\"139\" y1=\"28.2969\" y2=\"28.2969\"/><text fill=\"#000000\" font-family=\"sans-serif\" font-size=\"14\" font-weight=\"bold\" lengthAdjust=\"spacingAndGlyphs\" textLength=\"110\" x=\"20\" y=\"20.9951\">TradeStudyTest</text></a><!--MD5=[270fce915f116d4de14055a7c1d9a0f3]\n",
       "class E5--><a href=\"psysml:f9c838ee-65e7-4043-9f07-1b30ef92e49c\" target=\"_top\" title=\"psysml:f9c838ee-65e7-4043-9f07-1b30ef92e49c\" xlink:actuate=\"onRequest\" xlink:href=\"psysml:f9c838ee-65e7-4043-9f07-1b30ef92e49c\" xlink:show=\"new\" xlink:title=\"psysml:f9c838ee-65e7-4043-9f07-1b30ef92e49c\" xlink:type=\"simple\"><rect fill=\"#FFFFFF\" height=\"45.9375\" id=\"E5\" rx=\"10\" ry=\"10\" style=\"stroke: #383838; stroke-width: 1.5;\" width=\"203\" x=\"328.5\" y=\"41\"/><text fill=\"#000000\" font-family=\"sans-serif\" font-size=\"12\" font-style=\"italic\" lengthAdjust=\"spacingAndGlyphs\" textLength=\"64\" x=\"398\" y=\"57.1387\">«analysis»</text><text fill=\"#000000\" font-family=\"sans-serif\" font-size=\"12\" lengthAdjust=\"spacingAndGlyphs\" textLength=\"193\" x=\"331.5\" y=\"71.1074\">engineTradeStudy: TradeStudy</text><line style=\"stroke: #383838; stroke-width: 1.5;\" x1=\"329.5\" x2=\"530.5\" y1=\"78.9375\" y2=\"78.9375\"/></a><!--MD5=[60a26617385b1d2d0262a64233df1f8d]\n",
       "class E6--><a href=\"psysml:38fbb285-8167-4e3f-bee3-2164ba524da7\" target=\"_top\" title=\"psysml:38fbb285-8167-4e3f-bee3-2164ba524da7\" xlink:actuate=\"onRequest\" xlink:href=\"psysml:38fbb285-8167-4e3f-bee3-2164ba524da7\" xlink:show=\"new\" xlink:title=\"psysml:38fbb285-8167-4e3f-bee3-2164ba524da7\" xlink:type=\"simple\"><rect fill=\"#FFFFFF\" height=\"45.9375\" id=\"E6\" rx=\"10\" ry=\"10\" style=\"stroke: #383838; stroke-width: 1.5;\" width=\"255\" x=\"32.5\" y=\"120\"/><text fill=\"#000000\" font-family=\"sans-serif\" font-size=\"12\" font-style=\"italic\" lengthAdjust=\"spacingAndGlyphs\" textLength=\"91\" x=\"114.5\" y=\"136.1387\">«requirement»</text><text fill=\"#000000\" font-family=\"sans-serif\" font-size=\"12\" lengthAdjust=\"spacingAndGlyphs\" textLength=\"245\" x=\"35.5\" y=\"150.1074\">tradeStudyObjective: MaximizeObjective</text><line style=\"stroke: #383838; stroke-width: 1.5;\" x1=\"33.5\" x2=\"286.5\" y1=\"157.9375\" y2=\"157.9375\"/></a><!--MD5=[2156ba9850f5573cc1fc38a6a4b2f02b]\n",
       "class E7--><a href=\"psysml:658dce09-b71c-4e6e-94c9-a3c46617ebc8\" target=\"_top\" title=\"psysml:658dce09-b71c-4e6e-94c9-a3c46617ebc8\" xlink:actuate=\"onRequest\" xlink:href=\"psysml:658dce09-b71c-4e6e-94c9-a3c46617ebc8\" xlink:show=\"new\" xlink:title=\"psysml:658dce09-b71c-4e6e-94c9-a3c46617ebc8\" xlink:type=\"simple\"><rect fill=\"#FFFFFF\" height=\"45.9375\" id=\"E7\" rx=\"10\" ry=\"10\" style=\"stroke: #383838; stroke-width: 1.5;\" width=\"116\" x=\"323\" y=\"120\"/><text fill=\"#000000\" font-family=\"sans-serif\" font-size=\"12\" font-style=\"italic\" lengthAdjust=\"spacingAndGlyphs\" textLength=\"82\" x=\"340\" y=\"136.1387\">«calculation»</text><text fill=\"#000000\" font-family=\"sans-serif\" font-size=\"12\" lengthAdjust=\"spacingAndGlyphs\" textLength=\"110\" x=\"326\" y=\"150.1074\">objectiveFunction</text><line style=\"stroke: #383838; stroke-width: 1.5;\" x1=\"324\" x2=\"438\" y1=\"157.9375\" y2=\"157.9375\"/></a><!--MD5=[b9389687b975829384b498ac4b7476b2]\n",
       "class E8--><a href=\"psysml:3dbf099d-922d-4ace-9ccd-679bba93319b\" target=\"_top\" title=\"psysml:3dbf099d-922d-4ace-9ccd-679bba93319b\" xlink:actuate=\"onRequest\" xlink:href=\"psysml:3dbf099d-922d-4ace-9ccd-679bba93319b\" xlink:show=\"new\" xlink:title=\"psysml:3dbf099d-922d-4ace-9ccd-679bba93319b\" xlink:type=\"simple\"><rect fill=\"#FFFFFF\" height=\"31.9688\" id=\"E8\" rx=\"10\" ry=\"10\" style=\"stroke: #383838; stroke-width: 1.5;\" width=\"128\" x=\"175\" y=\"214\"/><text fill=\"#000000\" font-family=\"sans-serif\" font-size=\"12\" lengthAdjust=\"spacingAndGlyphs\" textLength=\"118\" x=\"178\" y=\"230.1387\">alternative: Engine</text><line style=\"stroke: #383838; stroke-width: 1.5;\" x1=\"176\" x2=\"302\" y1=\"237.9688\" y2=\"237.9688\"/></a><!--MD5=[fd4143e9d270a159db93a4ea2a975926]\n",
       "class E9--><a href=\"psysml:5fb9bd76-5535-468b-bb8f-88cd6f109fe8\" target=\"_top\" title=\"psysml:5fb9bd76-5535-468b-bb8f-88cd6f109fe8\" xlink:actuate=\"onRequest\" xlink:href=\"psysml:5fb9bd76-5535-468b-bb8f-88cd6f109fe8\" xlink:show=\"new\" xlink:title=\"psysml:5fb9bd76-5535-468b-bb8f-88cd6f109fe8\" xlink:type=\"simple\"><rect fill=\"#FFFFFF\" height=\"31.9688\" id=\"E9\" rx=\"10\" ry=\"10\" style=\"stroke: #383838; stroke-width: 1.5;\" width=\"182\" x=\"245\" y=\"174\"/><text fill=\"#000000\" font-family=\"sans-serif\" font-size=\"12\" lengthAdjust=\"spacingAndGlyphs\" textLength=\"172\" x=\"248\" y=\"190.1387\">selectedAlternative: Engine</text><line style=\"stroke: #383838; stroke-width: 1.5;\" x1=\"246\" x2=\"426\" y1=\"197.9688\" y2=\"197.9688\"/></a><g id=\"E1.E2\"><a href=\"psysml:6445380e-76a1-4d64-a2e6-1c63aec68392\" target=\"_top\" title=\"psysml:6445380e-76a1-4d64-a2e6-1c63aec68392\" xlink:actuate=\"onRequest\" xlink:href=\"psysml:6445380e-76a1-4d64-a2e6-1c63aec68392\" xlink:show=\"new\" xlink:title=\"psysml:6445380e-76a1-4d64-a2e6-1c63aec68392\" xlink:type=\"simple\"><rect fill=\"#FFFFFF\" height=\"42.9375\" id=\"E2\" style=\"stroke: #383838; stroke-width: 1.5;\" width=\"75\" x=\"301.5\" y=\"263\"/><rect fill=\"#F8F8F8\" height=\"37.9375\" style=\"stroke: #383838; stroke-width: 1.5;\" width=\"75\" x=\"301.5\" y=\"263\"/><text fill=\"#000000\" font-family=\"sans-serif\" font-size=\"12\" font-style=\"italic\" lengthAdjust=\"spacingAndGlyphs\" textLength=\"68\" x=\"305\" y=\"279.1387\">«part  def»</text><text fill=\"#000000\" font-family=\"sans-serif\" font-size=\"12\" lengthAdjust=\"spacingAndGlyphs\" textLength=\"43\" x=\"317.5\" y=\"293.1074\">Engine</text></a></g><g id=\"E1.E3\"><a href=\"psysml:e07cfc3f-c273-4e94-9cbe-d128d50ec860\" target=\"_top\" title=\"psysml:e07cfc3f-c273-4e94-9cbe-d128d50ec860\" xlink:actuate=\"onRequest\" xlink:href=\"psysml:e07cfc3f-c273-4e94-9cbe-d128d50ec860\" xlink:show=\"new\" xlink:title=\"psysml:e07cfc3f-c273-4e94-9cbe-d128d50ec860\" xlink:type=\"simple\"><rect fill=\"#FFFFFF\" height=\"40\" id=\"E3\" rx=\"10\" ry=\"10\" style=\"stroke: #383838; stroke-width: 1.5;\" width=\"113\" x=\"180.5\" y=\"44\"/><rect fill=\"#F8F8F8\" height=\"23.9688\" rx=\"10\" ry=\"10\" style=\"stroke: #F8F8F8; stroke-width: 1.5;\" width=\"113\" x=\"180.5\" y=\"44\"/><rect fill=\"#F8F8F8\" height=\"10\" style=\"stroke: #F8F8F8; stroke-width: 1.5;\" width=\"113\" x=\"180.5\" y=\"57.9688\"/><rect fill=\"none\" height=\"40\" id=\"E3\" rx=\"10\" ry=\"10\" style=\"stroke: #383838; stroke-width: 1.5;\" width=\"113\" x=\"180.5\" y=\"44\"/><text fill=\"#000000\" font-family=\"sans-serif\" font-size=\"12\" lengthAdjust=\"spacingAndGlyphs\" textLength=\"102\" x=\"186\" y=\"60.1387\">engine1: Engine</text></a></g><g id=\"E1.E4\"><a href=\"psysml:d9e10f1c-39bd-473d-af93-7c118d42db3b\" target=\"_top\" title=\"psysml:d9e10f1c-39bd-473d-af93-7c118d42db3b\" xlink:actuate=\"onRequest\" xlink:href=\"psysml:d9e10f1c-39bd-473d-af93-7c118d42db3b\" xlink:show=\"new\" xlink:title=\"psysml:d9e10f1c-39bd-473d-af93-7c118d42db3b\" xlink:type=\"simple\"><rect fill=\"#FFFFFF\" height=\"40\" id=\"E4\" rx=\"10\" ry=\"10\" style=\"stroke: #383838; stroke-width: 1.5;\" width=\"113\" x=\"32.5\" y=\"44\"/><rect fill=\"#F8F8F8\" height=\"23.9688\" rx=\"10\" ry=\"10\" style=\"stroke: #F8F8F8; stroke-width: 1.5;\" width=\"113\" x=\"32.5\" y=\"44\"/><rect fill=\"#F8F8F8\" height=\"10\" style=\"stroke: #F8F8F8; stroke-width: 1.5;\" width=\"113\" x=\"32.5\" y=\"57.9688\"/><rect fill=\"none\" height=\"40\" id=\"E4\" rx=\"10\" ry=\"10\" style=\"stroke: #383838; stroke-width: 1.5;\" width=\"113\" x=\"32.5\" y=\"44\"/><text fill=\"#000000\" font-family=\"sans-serif\" font-size=\"12\" lengthAdjust=\"spacingAndGlyphs\" textLength=\"102\" x=\"38\" y=\"60.1387\">engine2: Engine</text></a></g><!--MD5=[15ebcb19ae302d9b601edb458606d402]\n",
       "link E5 to E2--><a href=\"psysml:8e91b88f-f820-4b3f-bc7b-6a32144645a0\" target=\"_top\" title=\"psysml:8e91b88f-f820-4b3f-bc7b-6a32144645a0\" xlink:actuate=\"onRequest\" xlink:href=\"psysml:8e91b88f-f820-4b3f-bc7b-6a32144645a0\" xlink:show=\"new\" xlink:title=\"psysml:8e91b88f-f820-4b3f-bc7b-6a32144645a0\" xlink:type=\"simple\"><path d=\"M485.25,87.23 C485.25,143.97 485.25,285 485.25,285 C485.25,285 381.66,285 381.66,285 \" fill=\"none\" id=\"E5-&gt;E2\" style=\"stroke: #383838; stroke-width: 1.0; stroke-dasharray: 7.0,7.0;\"/><polygon fill=\"#383838\" points=\"376.66,285,385.66,289,381.66,285,385.66,281,376.66,285\" style=\"stroke: #383838; stroke-width: 1.0;\"/><text fill=\"#000000\" font-family=\"sans-serif\" font-size=\"13\" lengthAdjust=\"spacingAndGlyphs\" textLength=\"62\" x=\"468\" y=\"194.5669\">«subject»</text></a><!--MD5=[9120cf2e5df3bff93db8f754bbbc09b4]\n",
       "link E5 to E6--><a href=\"psysml:a6ebdbd2-b0f8-4e64-baff-f91dc99eb3fc\" target=\"_top\" title=\"psysml:a6ebdbd2-b0f8-4e64-baff-f91dc99eb3fc\" xlink:actuate=\"onRequest\" xlink:href=\"psysml:a6ebdbd2-b0f8-4e64-baff-f91dc99eb3fc\" xlink:show=\"new\" xlink:title=\"psysml:a6ebdbd2-b0f8-4e64-baff-f91dc99eb3fc\" xlink:type=\"simple\"><path d=\"M328.36,58 C313.63,58 303.33,58 303.33,58 C303.33,58 303.33,143 303.33,143 C303.33,143 295.72,143 295.72,143 \" fill=\"none\" id=\"E5-&gt;E6\" style=\"stroke: #383838; stroke-width: 1.0;\"/><polygon fill=\"#383838\" points=\"287.72,143,295.72,146,295.72,140,287.72,143\" style=\"stroke: #383838; stroke-width: 1.0;\"/><text fill=\"#000000\" font-family=\"sans-serif\" font-size=\"13\" lengthAdjust=\"spacingAndGlyphs\" textLength=\"73\" x=\"231\" y=\"108.0669\">«objective»</text></a><!--MD5=[452b418e7f8a40397a49b8c0a78acc5b]\n",
       "reverse link E5 to E7--><a href=\"psysml:1d968e51-2f45-472a-9c8d-b659e8169068\" target=\"_top\" title=\"psysml:1d968e51-2f45-472a-9c8d-b659e8169068\" xlink:actuate=\"onRequest\" xlink:href=\"psysml:1d968e51-2f45-472a-9c8d-b659e8169068\" xlink:show=\"new\" xlink:title=\"psysml:1d968e51-2f45-472a-9c8d-b659e8169068\" xlink:type=\"simple\"><path d=\"M383.75,100.28 C383.75,100.28 383.75,119.89 383.75,119.89 \" fill=\"none\" id=\"E5&lt;-E7\" style=\"stroke: #383838; stroke-width: 1.0;\"/><polygon fill=\"#383838\" points=\"383.75,87.28,379.75,93.28,383.75,99.28,387.75,93.28,383.75,87.28\" style=\"stroke: #383838; stroke-width: 1.0;\"/></a><!--MD5=[dc164f5e8a733ab456ef1add180e9e34]\n",
       "reverse link E7 to E8--><a href=\"psysml:762eee8a-df65-48ef-8994-f8166e9b75f6\" target=\"_top\" title=\"psysml:762eee8a-df65-48ef-8994-f8166e9b75f6\" xlink:actuate=\"onRequest\" xlink:href=\"psysml:762eee8a-df65-48ef-8994-f8166e9b75f6\" xlink:show=\"new\" xlink:title=\"psysml:762eee8a-df65-48ef-8994-f8166e9b75f6\" xlink:type=\"simple\"><path d=\"M433,179.28 C433,179.28 433,225 433,225 C433,225 359.57,225 303.06,225 \" fill=\"none\" id=\"E7&lt;-E8\" style=\"stroke: #383838; stroke-width: 1.0;\"/><polygon fill=\"#FFFFFF\" points=\"433,166.28,429,172.28,433,178.28,437,172.28,433,166.28\" style=\"stroke: #383838; stroke-width: 1.0;\"/><text fill=\"#000000\" font-family=\"sans-serif\" font-size=\"13\" lengthAdjust=\"spacingAndGlyphs\" textLength=\"8\" x=\"306.5836\" y=\"226.0237\">1</text></a><!--MD5=[f1f3f9f2fc535e6147756cb86a7f2e32]\n",
       "link E8 to E2--><a href=\"psysml:b4a53d37-cc69-46b7-9c1e-d748cdbb7a31\" target=\"_top\" title=\"psysml:b4a53d37-cc69-46b7-9c1e-d748cdbb7a31\" xlink:actuate=\"onRequest\" xlink:href=\"psysml:b4a53d37-cc69-46b7-9c1e-d748cdbb7a31\" xlink:show=\"new\" xlink:title=\"psysml:b4a53d37-cc69-46b7-9c1e-d748cdbb7a31\" xlink:type=\"simple\"><path d=\"M303.32,236 C317.04,236 327.5,236 327.5,236 C327.5,236 327.5,242.8 327.5,242.8 \" fill=\"none\" id=\"E8-&gt;E2\" style=\"stroke: #383838; stroke-width: 1.0;\"/><polygon fill=\"#FFFFFF\" points=\"327.5,262.8,320.5,243.8,334.5,243.8,327.5,262.8\" style=\"stroke: #383838; stroke-width: 1.0;\"/><ellipse cx=\"322.5\" cy=\"238.1\" fill=\"#383838\" rx=\"2\" ry=\"2\" style=\"stroke: #383838; stroke-width: 1.0;\"/><ellipse cx=\"332.5\" cy=\"238.1\" fill=\"#383838\" rx=\"2\" ry=\"2\" style=\"stroke: #383838; stroke-width: 1.0;\"/></a><!--MD5=[9ae28de373ca99bb8a1b38d63370ca7e]\n",
       "reverse link E5 to E9--><a href=\"psysml:b337f31d-c5a0-436f-953f-431d96e2f8f6\" target=\"_top\" title=\"psysml:b337f31d-c5a0-436f-953f-431d96e2f8f6\" xlink:actuate=\"onRequest\" xlink:href=\"psysml:b337f31d-c5a0-436f-953f-431d96e2f8f6\" xlink:show=\"new\" xlink:title=\"psysml:b337f31d-c5a0-436f-953f-431d96e2f8f6\" xlink:type=\"simple\"><path d=\"M315.44,71 C315.44,71 313.17,71 313.17,71 C313.17,71 313.17,141.47 313.17,173.95 \" fill=\"none\" id=\"E5&lt;-E9\" style=\"stroke: #383838; stroke-width: 1.0;\"/><polygon fill=\"#FFFFFF\" points=\"328.44,71,322.44,67,316.44,71,322.44,75,328.44,71\" style=\"stroke: #383838; stroke-width: 1.0;\"/><text fill=\"#000000\" font-family=\"sans-serif\" font-size=\"13\" lengthAdjust=\"spacingAndGlyphs\" textLength=\"8\" x=\"295.9472\" y=\"162.9498\">1</text></a><!--MD5=[5c3bb36fe832a92c7f0e1807dd65209d]\n",
       "link E9 to E2--><a href=\"psysml:a6a00959-a343-466b-bcfe-643c8c056808\" target=\"_top\" title=\"psysml:a6a00959-a343-466b-bcfe-643c8c056808\" xlink:actuate=\"onRequest\" xlink:href=\"psysml:a6a00959-a343-466b-bcfe-643c8c056808\" xlink:show=\"new\" xlink:title=\"psysml:a6a00959-a343-466b-bcfe-643c8c056808\" xlink:type=\"simple\"><path d=\"M352,206.03 C352,206.03 352,242.71 352,242.71 \" fill=\"none\" id=\"E9-&gt;E2\" style=\"stroke: #383838; stroke-width: 1.0;\"/><polygon fill=\"#FFFFFF\" points=\"352,262.71,345,243.71,359,243.71,352,262.71\" style=\"stroke: #383838; stroke-width: 1.0;\"/><ellipse cx=\"347\" cy=\"238.01\" fill=\"#383838\" rx=\"2\" ry=\"2\" style=\"stroke: #383838; stroke-width: 1.0;\"/><ellipse cx=\"357\" cy=\"238.01\" fill=\"#383838\" rx=\"2\" ry=\"2\" style=\"stroke: #383838; stroke-width: 1.0;\"/></a><!--MD5=[738a9b770e3c09144108020079a5178c]\n",
       "@startuml\r\n",
       "skinparam ranksep 10\r\n",
       "skinparam rectangle {\r\n",
       " backgroundColor<<block>> LightGreen\r\n",
       "}\r\n",
       "skinparam linetype ortho\r\n",
       "skinparam monochrome true\r\n",
       "skinparam classbackgroundcolor white\r\n",
       "skinparam shadowing false\r\n",
       "skinparam wrapWidth 300\r\n",
       "hide circle\r\n",
       "\r\n",
       "package \"TradeStudyTest\" as E1  [[psysml:57f8a98c-5718-48d8-9b9a-5c4650640602 ]]  {\r\n",
       "rec def \"Engine\" as E2  <<(T,blue) part  def>> [[psysml:6445380e-76a1-4d64-a2e6-1c63aec68392 ]] {\r\n",
       "}\r\n",
       "rec usage \"engine1: Engine\" as E3  [[psysml:e07cfc3f-c273-4e94-9cbe-d128d50ec860 ]] {\r\n",
       "}\r\n",
       "rec usage \"engine2: Engine\" as E4  [[psysml:d9e10f1c-39bd-473d-af93-7c118d42db3b ]] {\r\n",
       "}\r\n",
       "comp usage \"engineTradeStudy: TradeStudy \" as E5 << analysis>> [[psysml:f9c838ee-65e7-4043-9f07-1b30ef92e49c ]] {\r\n",
       "}\r\n",
       "comp usage \"tradeStudyObjective: MaximizeObjective \" as E6  <<(T,blue) requirement>> [[psysml:38fbb285-8167-4e3f-bee3-2164ba524da7 ]] {\r\n",
       "}\r\n",
       "comp usage \"objectiveFunction\" as E7  <<(T,blue) calculation>> [[psysml:658dce09-b71c-4e6e-94c9-a3c46617ebc8 ]] {\r\n",
       "}\r\n",
       "comp usage \"alternative: Engine \" as E8  [[psysml:3dbf099d-922d-4ace-9ccd-679bba93319b ]] {\r\n",
       "}\r\n",
       "comp usage \"selectedAlternative: Engine \" as E9  [[psysml:5fb9bd76-5535-468b-bb8f-88cd6f109fe8 ]] {\r\n",
       "}\r\n",
       "}\r\n",
       "E5 ..> E2 [[psysml:8e91b88f-f820-4b3f-bc7b-6a32144645a0 ]] : <<subject>>\r\n",
       "E5 - ->> E6 [[psysml:a6ebdbd2-b0f8-4e64-baff-f91dc99eb3fc ]] : <<objective>>\r\n",
       "E5 *- - E7 [[psysml:1d968e51-2f45-472a-9c8d-b659e8169068 ]] \r\n",
       "E7 o- - \"1\"E8 [[psysml:762eee8a-df65-48ef-8994-f8166e9b75f6 ]] \r\n",
       "E8 - -:|> E2 [[psysml:b4a53d37-cc69-46b7-9c1e-d748cdbb7a31 ]] \r\n",
       "E5 o- - \"1\"E9 [[psysml:b337f31d-c5a0-436f-953f-431d96e2f8f6 ]] \r\n",
       "E9 - -:|> E2 [[psysml:a6a00959-a343-466b-bcfe-643c8c056808 ]] \r\n",
       "@enduml\r\n",
       "\n",
       "PlantUML version 1.2020.13(Sat Jun 13 12:26:38 UTC 2020)\n",
       "(EPL source distribution)\n",
       "Java Runtime: OpenJDK Runtime Environment\n",
       "JVM: OpenJDK 64-Bit Server VM\n",
       "Default Encoding: UTF-8\n",
       "Language: en\n",
       "Country: null\n",
       "--></g></svg>"
      ]
     },
     "execution_count": 54,
     "metadata": {},
     "output_type": "execute_result"
    }
   ],
   "source": [
    "%viz --style=\"ORTHOLINE\" --view=\"Interconnection\" \"TradeStudyTest\""
   ]
  },
  {
   "cell_type": "code",
   "execution_count": 55,
   "id": "6bdc6e9d",
   "metadata": {
    "execution": {
     "iopub.execute_input": "2021-11-13T13:01:42.503471Z",
     "iopub.status.busy": "2021-11-13T13:01:42.503077Z",
     "iopub.status.idle": "2021-11-13T13:01:42.534180Z",
     "shell.execute_reply": "2021-11-13T13:01:42.533777Z"
    }
   },
   "outputs": [
    {
     "data": {
      "image/svg+xml": [
       "<?xml version=\"1.0\" encoding=\"UTF-8\" standalone=\"no\"?><svg xmlns=\"http://www.w3.org/2000/svg\" xmlns:xlink=\"http://www.w3.org/1999/xlink\" contentScriptType=\"application/ecmascript\" contentStyleType=\"text/css\" height=\"178px\" preserveAspectRatio=\"none\" style=\"width:434px;height:178px;\" version=\"1.1\" viewBox=\"0 0 434 178\" width=\"434px\" zoomAndPan=\"magnify\"><defs/><g><!--MD5=[fbc87193dbaf4d95561dea2c320d4a47]\n",
       "cluster E1--><a href=\"psysml:f9c838ee-65e7-4043-9f07-1b30ef92e49c\" target=\"_top\" title=\"psysml:f9c838ee-65e7-4043-9f07-1b30ef92e49c\" xlink:actuate=\"onRequest\" xlink:href=\"psysml:f9c838ee-65e7-4043-9f07-1b30ef92e49c\" xlink:show=\"new\" xlink:title=\"psysml:f9c838ee-65e7-4043-9f07-1b30ef92e49c\" xlink:type=\"simple\"><rect fill=\"#FFFFFF\" height=\"103.72\" id=\"E1\" rx=\"10\" ry=\"10\" style=\"stroke: #383838; stroke-width: 1.5;\" width=\"327\" x=\"47\" y=\"42.0986\"/><rect fill=\"#F8F8F8\" height=\"37.9375\" rx=\"10\" ry=\"10\" style=\"stroke: #F8F8F8; stroke-width: 1.5;\" width=\"327\" x=\"47\" y=\"42.0986\"/><rect fill=\"#F8F8F8\" height=\"10\" style=\"stroke: #F8F8F8; stroke-width: 1.5;\" width=\"327\" x=\"47\" y=\"70.0361\"/><rect fill=\"none\" height=\"103.72\" id=\"E1\" rx=\"10\" ry=\"10\" style=\"stroke: #383838; stroke-width: 1.5;\" width=\"327\" x=\"47\" y=\"42.0986\"/><text fill=\"#000000\" font-family=\"sans-serif\" font-size=\"12\" font-style=\"italic\" lengthAdjust=\"spacingAndGlyphs\" textLength=\"64\" x=\"178.5\" y=\"58.2373\">«analysis»</text><text fill=\"#000000\" font-family=\"sans-serif\" font-size=\"12\" lengthAdjust=\"spacingAndGlyphs\" textLength=\"114\" x=\"153.5\" y=\"72.2061\">engineTradeStudy</text><line style=\"stroke: #383838; stroke-width: 1.0;\" x1=\"47\" x2=\"374\" y1=\"80.0361\" y2=\"80.0361\"/></a><!--MD5=[d5e69f78d87373223dbae638b30a9c99]\n",
       "cluster E3--><a href=\"psysml:658dce09-b71c-4e6e-94c9-a3c46617ebc8\" target=\"_top\" title=\"psysml:658dce09-b71c-4e6e-94c9-a3c46617ebc8\" xlink:actuate=\"onRequest\" xlink:href=\"psysml:658dce09-b71c-4e6e-94c9-a3c46617ebc8\" xlink:show=\"new\" xlink:title=\"psysml:658dce09-b71c-4e6e-94c9-a3c46617ebc8\" xlink:type=\"simple\"><rect fill=\"#FFFFFF\" height=\"81.72\" id=\"E3\" rx=\"10\" ry=\"10\" style=\"stroke: #383838; stroke-width: 1.5;\" width=\"132\" x=\"214.125\" y=\"64.0986\"/><rect fill=\"#F8F8F8\" height=\"37.9375\" rx=\"10\" ry=\"10\" style=\"stroke: #F8F8F8; stroke-width: 1.5;\" width=\"132\" x=\"214.125\" y=\"64.0986\"/><rect fill=\"#F8F8F8\" height=\"10\" style=\"stroke: #F8F8F8; stroke-width: 1.5;\" width=\"132\" x=\"214.125\" y=\"92.0361\"/><rect fill=\"none\" height=\"81.72\" id=\"E3\" rx=\"10\" ry=\"10\" style=\"stroke: #383838; stroke-width: 1.5;\" width=\"132\" x=\"214.125\" y=\"64.0986\"/><text fill=\"#000000\" font-family=\"sans-serif\" font-size=\"12\" font-style=\"italic\" lengthAdjust=\"spacingAndGlyphs\" textLength=\"82\" x=\"239.125\" y=\"80.2373\">«calculation»</text><text fill=\"#000000\" font-family=\"sans-serif\" font-size=\"12\" lengthAdjust=\"spacingAndGlyphs\" textLength=\"110\" x=\"225.125\" y=\"94.2061\">objectiveFunction</text><line style=\"stroke: #383838; stroke-width: 1.0;\" x1=\"214.125\" x2=\"346.125\" y1=\"102.0361\" y2=\"102.0361\"/></a><text fill=\"#000000\" font-family=\"sans-serif\" font-size=\"14\" lengthAdjust=\"spacingAndGlyphs\" textLength=\"118\" x=\"6\" y=\"20.7969\">studyAlternatives</text><rect fill=\"#383838\" height=\"12\" style=\"stroke: #F8F8F8; stroke-width: 1.5;\" width=\"12\" x=\"59\" y=\"36.0986\"/><text fill=\"#000000\" font-family=\"sans-serif\" font-size=\"14\" lengthAdjust=\"spacingAndGlyphs\" textLength=\"132\" x=\"290\" y=\"164.8138\">selectedAlternative</text><rect fill=\"#383838\" height=\"12\" style=\"stroke: #F8F8F8; stroke-width: 1.5;\" width=\"12\" x=\"350\" y=\"139.8186\"/><text fill=\"#000000\" font-family=\"sans-serif\" font-size=\"14\" lengthAdjust=\"spacingAndGlyphs\" textLength=\"39\" x=\"215.5\" y=\"164.8138\">result</text><rect fill=\"#383838\" height=\"12\" style=\"stroke: #F8F8F8; stroke-width: 1.5;\" width=\"12\" x=\"229\" y=\"139.8186\"/><!--MD5=[35c3f00dc1b701d697f8d381cf377858]\n",
       "@startuml\r\n",
       "skinparam ranksep 8\r\n",
       "skinparam linetype ortho\r\n",
       "skinparam monochrome true\r\n",
       "skinparam classbackgroundcolor white\r\n",
       "skinparam shadowing false\r\n",
       "skinparam wrapWidth 300\r\n",
       "hide circle\r\n",
       "\r\n",
       "rec usage \"engineTradeStudy\" as E1 << analysis>> [[psysml:f9c838ee-65e7-4043-9f07-1b30ef92e49c ]] {\r\n",
       "portin \"studyAlternatives\" as E2  [[psysml:337fe316-4d2f-4990-8407-2b5473f7b0b9 ]] \r\n",
       "rec usage \"objectiveFunction\" as E3  <<(T,blue) calculation>> [[psysml:658dce09-b71c-4e6e-94c9-a3c46617ebc8 ]] {\r\n",
       "portout \"result\" as E4  [[psysml:1c0da6f6-5c1e-42af-93f0-451ad801a52e ]] \r\n",
       "}\r\n",
       "\r\n",
       "portout \"selectedAlternative\" as E5  [[psysml:5fb9bd76-5535-468b-bb8f-88cd6f109fe8 ]] \r\n",
       "}\r\n",
       "\r\n",
       "@enduml\r\n",
       "\n",
       "PlantUML version 1.2020.13(Sat Jun 13 12:26:38 UTC 2020)\n",
       "(EPL source distribution)\n",
       "Java Runtime: OpenJDK Runtime Environment\n",
       "JVM: OpenJDK 64-Bit Server VM\n",
       "Default Encoding: UTF-8\n",
       "Language: en\n",
       "Country: null\n",
       "--></g></svg>"
      ]
     },
     "execution_count": 55,
     "metadata": {},
     "output_type": "execute_result"
    }
   ],
   "source": [
    "%viz --style=\"ORTHOLINE\" --view=\"Action\" \"TradeStudyTest\""
   ]
  },
  {
   "cell_type": "code",
   "execution_count": 56,
   "id": "b7e5339f",
   "metadata": {
    "execution": {
     "iopub.execute_input": "2021-11-13T13:01:42.583273Z",
     "iopub.status.busy": "2021-11-13T13:01:42.582858Z",
     "iopub.status.idle": "2021-11-13T13:01:42.587742Z",
     "shell.execute_reply": "2021-11-13T13:01:42.587352Z"
    }
   },
   "outputs": [
    {
     "data": {
      "image/svg+xml": [
       "<?xml version=\"1.0\" encoding=\"UTF-8\" standalone=\"no\"?><svg xmlns=\"http://www.w3.org/2000/svg\" xmlns:xlink=\"http://www.w3.org/1999/xlink\" contentScriptType=\"application/ecmascript\" contentStyleType=\"text/css\" height=\"12px\" preserveAspectRatio=\"none\" style=\"width:12px;height:12px;\" version=\"1.1\" viewBox=\"0 0 12 12\" width=\"12px\" zoomAndPan=\"magnify\"><defs/><g><!--MD5=[30fc1de5121c5abddedd55b44417fde8]\n",
       "@startuml\r\n",
       "skinparam roundcorner 20\r\n",
       "skinparam BoxPadding 20\r\n",
       "skinparam SequenceBoxBackgroundColor #white\r\n",
       "skinparam style strictuml\r\n",
       "skinparam maxMessageSize 100\r\n",
       "skinparam linetype ortho\r\n",
       "skinparam monochrome true\r\n",
       "skinparam classbackgroundcolor white\r\n",
       "skinparam shadowing false\r\n",
       "skinparam wrapWidth 300\r\n",
       "hide circle\r\n",
       "\r\n",
       "@enduml\r\n",
       "\n",
       "PlantUML version 1.2020.13(Sat Jun 13 12:26:38 UTC 2020)\n",
       "(EPL source distribution)\n",
       "Java Runtime: OpenJDK Runtime Environment\n",
       "JVM: OpenJDK 64-Bit Server VM\n",
       "Default Encoding: UTF-8\n",
       "Language: en\n",
       "Country: null\n",
       "--></g></svg>"
      ]
     },
     "execution_count": 56,
     "metadata": {},
     "output_type": "execute_result"
    }
   ],
   "source": [
    "%viz --style=\"ORTHOLINE\" --view=\"Sequence\" \"TradeStudyTest\""
   ]
  },
  {
   "cell_type": "code",
   "execution_count": 57,
   "id": "0f514334",
   "metadata": {
    "execution": {
     "iopub.execute_input": "2021-11-13T13:01:42.637304Z",
     "iopub.status.busy": "2021-11-13T13:01:42.636850Z",
     "iopub.status.idle": "2021-11-13T13:01:42.668015Z",
     "shell.execute_reply": "2021-11-13T13:01:42.665868Z"
    }
   },
   "outputs": [
    {
     "data": {
      "image/svg+xml": [
       "<?xml version=\"1.0\" encoding=\"UTF-8\" standalone=\"no\"?><svg xmlns=\"http://www.w3.org/2000/svg\" xmlns:xlink=\"http://www.w3.org/1999/xlink\" contentScriptType=\"application/ecmascript\" contentStyleType=\"text/css\" height=\"497px\" preserveAspectRatio=\"none\" style=\"width:566px;height:497px;\" version=\"1.1\" viewBox=\"0 0 566 497\" width=\"566px\" zoomAndPan=\"magnify\"><defs/><g><!--MD5=[fbc87193dbaf4d95561dea2c320d4a47]\n",
       "cluster E1--><a href=\"psysml:57f8a98c-5718-48d8-9b9a-5c4650640602\" target=\"_top\" title=\"psysml:57f8a98c-5718-48d8-9b9a-5c4650640602\" xlink:actuate=\"onRequest\" xlink:href=\"psysml:57f8a98c-5718-48d8-9b9a-5c4650640602\" xlink:show=\"new\" xlink:title=\"psysml:57f8a98c-5718-48d8-9b9a-5c4650640602\" xlink:type=\"simple\"><polygon fill=\"#FFFFFF\" points=\"16,6,132,6,139,28.2969,544,28.2969,544,485,16,485,16,6\" style=\"stroke: #000000; stroke-width: 1.5;\"/><line style=\"stroke: #000000; stroke-width: 1.5;\" x1=\"16\" x2=\"139\" y1=\"28.2969\" y2=\"28.2969\"/><text fill=\"#000000\" font-family=\"sans-serif\" font-size=\"14\" font-weight=\"bold\" lengthAdjust=\"spacingAndGlyphs\" textLength=\"110\" x=\"20\" y=\"20.9951\">TradeStudyTest</text></a><!--MD5=[b4997ac47864f28c2f74865a473b2911]\n",
       "class E2--><a href=\"psysml:6445380e-76a1-4d64-a2e6-1c63aec68392\" target=\"_top\" title=\"psysml:6445380e-76a1-4d64-a2e6-1c63aec68392\" xlink:actuate=\"onRequest\" xlink:href=\"psysml:6445380e-76a1-4d64-a2e6-1c63aec68392\" xlink:show=\"new\" xlink:title=\"psysml:6445380e-76a1-4d64-a2e6-1c63aec68392\" xlink:type=\"simple\"><rect fill=\"#FFFFFF\" height=\"45.9375\" id=\"E2\" style=\"stroke: #383838; stroke-width: 1.5;\" width=\"70\" x=\"198\" y=\"423\"/><text fill=\"#000000\" font-family=\"sans-serif\" font-size=\"12\" font-style=\"italic\" lengthAdjust=\"spacingAndGlyphs\" textLength=\"68\" x=\"199\" y=\"439.1387\">«part  def»</text><text fill=\"#000000\" font-family=\"sans-serif\" font-size=\"12\" lengthAdjust=\"spacingAndGlyphs\" textLength=\"43\" x=\"211.5\" y=\"453.1074\">Engine</text><line style=\"stroke: #383838; stroke-width: 1.5;\" x1=\"199\" x2=\"267\" y1=\"460.9375\" y2=\"460.9375\"/></a><!--MD5=[09b614a08d8cba4a07c9adeb5e0fee81]\n",
       "class E3--><a href=\"psysml:e07cfc3f-c273-4e94-9cbe-d128d50ec860\" target=\"_top\" title=\"psysml:e07cfc3f-c273-4e94-9cbe-d128d50ec860\" xlink:actuate=\"onRequest\" xlink:href=\"psysml:e07cfc3f-c273-4e94-9cbe-d128d50ec860\" xlink:show=\"new\" xlink:title=\"psysml:e07cfc3f-c273-4e94-9cbe-d128d50ec860\" xlink:type=\"simple\"><rect fill=\"#FFFFFF\" height=\"45.9375\" id=\"E3\" rx=\"10\" ry=\"10\" style=\"stroke: #383838; stroke-width: 1.5;\" width=\"112\" x=\"416\" y=\"316\"/><text fill=\"#000000\" font-family=\"sans-serif\" font-size=\"12\" font-style=\"italic\" lengthAdjust=\"spacingAndGlyphs\" textLength=\"40\" x=\"452\" y=\"332.1387\">«part»</text><text fill=\"#000000\" font-family=\"sans-serif\" font-size=\"12\" lengthAdjust=\"spacingAndGlyphs\" textLength=\"102\" x=\"419\" y=\"346.1074\">engine1: Engine</text><line style=\"stroke: #383838; stroke-width: 1.5;\" x1=\"417\" x2=\"527\" y1=\"353.9375\" y2=\"353.9375\"/></a><!--MD5=[ebbe1d658d1005bcc118a6aa81145e00]\n",
       "class E4--><a href=\"psysml:d9e10f1c-39bd-473d-af93-7c118d42db3b\" target=\"_top\" title=\"psysml:d9e10f1c-39bd-473d-af93-7c118d42db3b\" xlink:actuate=\"onRequest\" xlink:href=\"psysml:d9e10f1c-39bd-473d-af93-7c118d42db3b\" xlink:show=\"new\" xlink:title=\"psysml:d9e10f1c-39bd-473d-af93-7c118d42db3b\" xlink:type=\"simple\"><rect fill=\"#FFFFFF\" height=\"45.9375\" id=\"E4\" rx=\"10\" ry=\"10\" style=\"stroke: #383838; stroke-width: 1.5;\" width=\"112\" x=\"269\" y=\"316\"/><text fill=\"#000000\" font-family=\"sans-serif\" font-size=\"12\" font-style=\"italic\" lengthAdjust=\"spacingAndGlyphs\" textLength=\"40\" x=\"305\" y=\"332.1387\">«part»</text><text fill=\"#000000\" font-family=\"sans-serif\" font-size=\"12\" lengthAdjust=\"spacingAndGlyphs\" textLength=\"102\" x=\"272\" y=\"346.1074\">engine2: Engine</text><line style=\"stroke: #383838; stroke-width: 1.5;\" x1=\"270\" x2=\"380\" y1=\"353.9375\" y2=\"353.9375\"/></a><!--MD5=[270fce915f116d4de14055a7c1d9a0f3]\n",
       "class E5--><a href=\"psysml:f9c838ee-65e7-4043-9f07-1b30ef92e49c\" target=\"_top\" title=\"psysml:f9c838ee-65e7-4043-9f07-1b30ef92e49c\" xlink:actuate=\"onRequest\" xlink:href=\"psysml:f9c838ee-65e7-4043-9f07-1b30ef92e49c\" xlink:show=\"new\" xlink:title=\"psysml:f9c838ee-65e7-4043-9f07-1b30ef92e49c\" xlink:type=\"simple\"><rect fill=\"#FFFFFF\" height=\"45.9375\" id=\"E5\" rx=\"10\" ry=\"10\" style=\"stroke: #383838; stroke-width: 1.5;\" width=\"203\" x=\"245.5\" y=\"41\"/><text fill=\"#000000\" font-family=\"sans-serif\" font-size=\"12\" font-style=\"italic\" lengthAdjust=\"spacingAndGlyphs\" textLength=\"64\" x=\"315\" y=\"57.1387\">«analysis»</text><text fill=\"#000000\" font-family=\"sans-serif\" font-size=\"12\" lengthAdjust=\"spacingAndGlyphs\" textLength=\"193\" x=\"248.5\" y=\"71.1074\">engineTradeStudy: TradeStudy</text><line style=\"stroke: #383838; stroke-width: 1.5;\" x1=\"246.5\" x2=\"447.5\" y1=\"78.9375\" y2=\"78.9375\"/></a><!--MD5=[60a26617385b1d2d0262a64233df1f8d]\n",
       "class E6--><a href=\"psysml:38fbb285-8167-4e3f-bee3-2164ba524da7\" target=\"_top\" title=\"psysml:38fbb285-8167-4e3f-bee3-2164ba524da7\" xlink:actuate=\"onRequest\" xlink:href=\"psysml:38fbb285-8167-4e3f-bee3-2164ba524da7\" xlink:show=\"new\" xlink:title=\"psysml:38fbb285-8167-4e3f-bee3-2164ba524da7\" xlink:type=\"simple\"><rect fill=\"#FFFFFF\" height=\"45.9375\" id=\"E6\" rx=\"10\" ry=\"10\" style=\"stroke: #383838; stroke-width: 1.5;\" width=\"255\" x=\"84.5\" y=\"164\"/><text fill=\"#000000\" font-family=\"sans-serif\" font-size=\"12\" font-style=\"italic\" lengthAdjust=\"spacingAndGlyphs\" textLength=\"91\" x=\"166.5\" y=\"180.1387\">«requirement»</text><text fill=\"#000000\" font-family=\"sans-serif\" font-size=\"12\" lengthAdjust=\"spacingAndGlyphs\" textLength=\"245\" x=\"87.5\" y=\"194.1074\">tradeStudyObjective: MaximizeObjective</text><line style=\"stroke: #383838; stroke-width: 1.5;\" x1=\"85.5\" x2=\"338.5\" y1=\"201.9375\" y2=\"201.9375\"/></a><!--MD5=[2156ba9850f5573cc1fc38a6a4b2f02b]\n",
       "class E7--><a href=\"psysml:658dce09-b71c-4e6e-94c9-a3c46617ebc8\" target=\"_top\" title=\"psysml:658dce09-b71c-4e6e-94c9-a3c46617ebc8\" xlink:actuate=\"onRequest\" xlink:href=\"psysml:658dce09-b71c-4e6e-94c9-a3c46617ebc8\" xlink:show=\"new\" xlink:title=\"psysml:658dce09-b71c-4e6e-94c9-a3c46617ebc8\" xlink:type=\"simple\"><rect fill=\"#FFFFFF\" height=\"45.9375\" id=\"E7\" rx=\"10\" ry=\"10\" style=\"stroke: #383838; stroke-width: 1.5;\" width=\"116\" x=\"375\" y=\"164\"/><text fill=\"#000000\" font-family=\"sans-serif\" font-size=\"12\" font-style=\"italic\" lengthAdjust=\"spacingAndGlyphs\" textLength=\"82\" x=\"392\" y=\"180.1387\">«calculation»</text><text fill=\"#000000\" font-family=\"sans-serif\" font-size=\"12\" lengthAdjust=\"spacingAndGlyphs\" textLength=\"110\" x=\"378\" y=\"194.1074\">objectiveFunction</text><line style=\"stroke: #383838; stroke-width: 1.5;\" x1=\"376\" x2=\"490\" y1=\"201.9375\" y2=\"201.9375\"/></a><!--MD5=[b9389687b975829384b498ac4b7476b2]\n",
       "class E8--><a href=\"psysml:3dbf099d-922d-4ace-9ccd-679bba93319b\" target=\"_top\" title=\"psysml:3dbf099d-922d-4ace-9ccd-679bba93319b\" xlink:actuate=\"onRequest\" xlink:href=\"psysml:3dbf099d-922d-4ace-9ccd-679bba93319b\" xlink:show=\"new\" xlink:title=\"psysml:3dbf099d-922d-4ace-9ccd-679bba93319b\" xlink:type=\"simple\"><rect fill=\"#FFFFFF\" height=\"45.9375\" id=\"E8\" rx=\"10\" ry=\"10\" style=\"stroke: #383838; stroke-width: 1.5;\" width=\"128\" x=\"69\" y=\"316\"/><text fill=\"#000000\" font-family=\"sans-serif\" font-size=\"12\" font-style=\"italic\" lengthAdjust=\"spacingAndGlyphs\" textLength=\"40\" x=\"113\" y=\"332.1387\">«part»</text><text fill=\"#000000\" font-family=\"sans-serif\" font-size=\"12\" lengthAdjust=\"spacingAndGlyphs\" textLength=\"118\" x=\"72\" y=\"346.1074\">alternative: Engine</text><line style=\"stroke: #383838; stroke-width: 1.5;\" x1=\"70\" x2=\"196\" y1=\"353.9375\" y2=\"353.9375\"/></a><!--MD5=[fd4143e9d270a159db93a4ea2a975926]\n",
       "class E9--><a href=\"psysml:5fb9bd76-5535-468b-bb8f-88cd6f109fe8\" target=\"_top\" title=\"psysml:5fb9bd76-5535-468b-bb8f-88cd6f109fe8\" xlink:actuate=\"onRequest\" xlink:href=\"psysml:5fb9bd76-5535-468b-bb8f-88cd6f109fe8\" xlink:show=\"new\" xlink:title=\"psysml:5fb9bd76-5535-468b-bb8f-88cd6f109fe8\" xlink:type=\"simple\"><rect fill=\"#FFFFFF\" height=\"45.9375\" id=\"E9\" rx=\"10\" ry=\"10\" style=\"stroke: #383838; stroke-width: 1.5;\" width=\"182\" x=\"295\" y=\"240\"/><text fill=\"#000000\" font-family=\"sans-serif\" font-size=\"12\" font-style=\"italic\" lengthAdjust=\"spacingAndGlyphs\" textLength=\"40\" x=\"366\" y=\"256.1387\">«part»</text><text fill=\"#000000\" font-family=\"sans-serif\" font-size=\"12\" lengthAdjust=\"spacingAndGlyphs\" textLength=\"172\" x=\"298\" y=\"270.1074\">selectedAlternative: Engine</text><line style=\"stroke: #383838; stroke-width: 1.5;\" x1=\"296\" x2=\"476\" y1=\"277.9375\" y2=\"277.9375\"/></a><!--MD5=[05d275557350bfb9b23a4ef7222b4c39]\n",
       "link E3 to E2--><a href=\"psysml:8b560a74-32d8-45cc-8c0e-f8d7e14b884a\" target=\"_top\" title=\"psysml:8b560a74-32d8-45cc-8c0e-f8d7e14b884a\" xlink:actuate=\"onRequest\" xlink:href=\"psysml:8b560a74-32d8-45cc-8c0e-f8d7e14b884a\" xlink:show=\"new\" xlink:title=\"psysml:8b560a74-32d8-45cc-8c0e-f8d7e14b884a\" xlink:type=\"simple\"><path d=\"M472,362.22 C472,393.69 472,446 472,446 C472,446 288.01,446 288.01,446 \" fill=\"none\" id=\"E3-&gt;E2\" style=\"stroke: #383838; stroke-width: 1.0;\"/><polygon fill=\"#FFFFFF\" points=\"268.01,446,287.01,439,287.01,453,268.01,446\" style=\"stroke: #383838; stroke-width: 1.0;\"/><ellipse cx=\"292.71\" cy=\"441\" fill=\"#383838\" rx=\"2\" ry=\"2\" style=\"stroke: #383838; stroke-width: 1.0;\"/><ellipse cx=\"292.71\" cy=\"451\" fill=\"#383838\" rx=\"2\" ry=\"2\" style=\"stroke: #383838; stroke-width: 1.0;\"/></a><!--MD5=[185131fc0dcab0a4505a2ebe144e961b]\n",
       "link E4 to E2--><a href=\"psysml:7f518d85-a598-4692-a186-0ec59d25f08f\" target=\"_top\" title=\"psysml:7f518d85-a598-4692-a186-0ec59d25f08f\" xlink:actuate=\"onRequest\" xlink:href=\"psysml:7f518d85-a598-4692-a186-0ec59d25f08f\" xlink:show=\"new\" xlink:title=\"psysml:7f518d85-a598-4692-a186-0ec59d25f08f\" xlink:type=\"simple\"><path d=\"M268.71,347 C260.09,347 254,347 254,347 C254,347 254,402.79 254,402.79 \" fill=\"none\" id=\"E4-&gt;E2\" style=\"stroke: #383838; stroke-width: 1.0;\"/><polygon fill=\"#FFFFFF\" points=\"254,422.79,247,403.79,261,403.79,254,422.79\" style=\"stroke: #383838; stroke-width: 1.0;\"/><ellipse cx=\"249\" cy=\"398.09\" fill=\"#383838\" rx=\"2\" ry=\"2\" style=\"stroke: #383838; stroke-width: 1.0;\"/><ellipse cx=\"259\" cy=\"398.09\" fill=\"#383838\" rx=\"2\" ry=\"2\" style=\"stroke: #383838; stroke-width: 1.0;\"/></a><!--MD5=[15ebcb19ae302d9b601edb458606d402]\n",
       "link E5 to E2--><a href=\"psysml:8e91b88f-f820-4b3f-bc7b-6a32144645a0\" target=\"_top\" title=\"psysml:8e91b88f-f820-4b3f-bc7b-6a32144645a0\" xlink:actuate=\"onRequest\" xlink:href=\"psysml:8e91b88f-f820-4b3f-bc7b-6a32144645a0\" xlink:show=\"new\" xlink:title=\"psysml:8e91b88f-f820-4b3f-bc7b-6a32144645a0\" xlink:type=\"simple\"><path d=\"M351.33,87.02 C351.33,130.41 351.33,220 351.33,220 C351.33,220 226,220 226,220 C226,220 226,417.67 226,417.67 \" fill=\"none\" id=\"E5-&gt;E2\" style=\"stroke: #383838; stroke-width: 1.0; stroke-dasharray: 7.0,7.0;\"/><polygon fill=\"#383838\" points=\"226,422.67,230,413.67,226,417.67,222,413.67,226,422.67\" style=\"stroke: #383838; stroke-width: 1.0;\"/><text fill=\"#000000\" font-family=\"sans-serif\" font-size=\"13\" lengthAdjust=\"spacingAndGlyphs\" textLength=\"62\" x=\"68\" y=\"267.5669\">«subject»</text></a><!--MD5=[9120cf2e5df3bff93db8f754bbbc09b4]\n",
       "link E5 to E6--><a href=\"psysml:a6ebdbd2-b0f8-4e64-baff-f91dc99eb3fc\" target=\"_top\" title=\"psysml:a6ebdbd2-b0f8-4e64-baff-f91dc99eb3fc\" xlink:actuate=\"onRequest\" xlink:href=\"psysml:a6ebdbd2-b0f8-4e64-baff-f91dc99eb3fc\" xlink:show=\"new\" xlink:title=\"psysml:a6ebdbd2-b0f8-4e64-baff-f91dc99eb3fc\" xlink:type=\"simple\"><path d=\"M292.5,87.14 C292.5,87.14 292.5,155.97 292.5,155.97 \" fill=\"none\" id=\"E5-&gt;E6\" style=\"stroke: #383838; stroke-width: 1.0;\"/><polygon fill=\"#383838\" points=\"292.5,163.97,295.5,155.97,289.5,155.97,292.5,163.97\" style=\"stroke: #383838; stroke-width: 1.0;\"/><text fill=\"#000000\" font-family=\"sans-serif\" font-size=\"13\" lengthAdjust=\"spacingAndGlyphs\" textLength=\"73\" x=\"241\" y=\"130.0669\">«objective»</text></a><!--MD5=[452b418e7f8a40397a49b8c0a78acc5b]\n",
       "reverse link E5 to E7--><a href=\"psysml:1d968e51-2f45-472a-9c8d-b659e8169068\" target=\"_top\" title=\"psysml:1d968e51-2f45-472a-9c8d-b659e8169068\" xlink:actuate=\"onRequest\" xlink:href=\"psysml:1d968e51-2f45-472a-9c8d-b659e8169068\" xlink:show=\"new\" xlink:title=\"psysml:1d968e51-2f45-472a-9c8d-b659e8169068\" xlink:type=\"simple\"><path d=\"M411.75,100.14 C411.75,100.14 411.75,163.97 411.75,163.97 \" fill=\"none\" id=\"E5&lt;-E7\" style=\"stroke: #383838; stroke-width: 1.0;\"/><polygon fill=\"#383838\" points=\"411.75,87.14,407.75,93.14,411.75,99.14,415.75,93.14,411.75,87.14\" style=\"stroke: #383838; stroke-width: 1.0;\"/></a><!--MD5=[dc164f5e8a733ab456ef1add180e9e34]\n",
       "reverse link E7 to E8--><a href=\"psysml:762eee8a-df65-48ef-8994-f8166e9b75f6\" target=\"_top\" title=\"psysml:762eee8a-df65-48ef-8994-f8166e9b75f6\" xlink:actuate=\"onRequest\" xlink:href=\"psysml:762eee8a-df65-48ef-8994-f8166e9b75f6\" xlink:show=\"new\" xlink:title=\"psysml:762eee8a-df65-48ef-8994-f8166e9b75f6\" xlink:type=\"simple\"><path d=\"M426,223.01 C426,223.01 426,230 426,230 C426,230 140.75,230 140.75,230 C140.75,230 140.75,283.89 140.75,315.88 \" fill=\"none\" id=\"E7&lt;-E8\" style=\"stroke: #383838; stroke-width: 1.0;\"/><polygon fill=\"#FFFFFF\" points=\"426,210.01,422,216.01,426,222.01,430,216.01,426,210.01\" style=\"stroke: #383838; stroke-width: 1.0;\"/><text fill=\"#000000\" font-family=\"sans-serif\" font-size=\"13\" lengthAdjust=\"spacingAndGlyphs\" textLength=\"8\" x=\"133.7578\" y=\"304.744\">1</text></a><!--MD5=[f1f3f9f2fc535e6147756cb86a7f2e32]\n",
       "link E8 to E2--><a href=\"psysml:b4a53d37-cc69-46b7-9c1e-d748cdbb7a31\" target=\"_top\" title=\"psysml:b4a53d37-cc69-46b7-9c1e-d748cdbb7a31\" xlink:actuate=\"onRequest\" xlink:href=\"psysml:b4a53d37-cc69-46b7-9c1e-d748cdbb7a31\" xlink:show=\"new\" xlink:title=\"psysml:b4a53d37-cc69-46b7-9c1e-d748cdbb7a31\" xlink:type=\"simple\"><path d=\"M197.14,332 C205.92,332 212,332 212,332 C212,332 212,402.93 212,402.93 \" fill=\"none\" id=\"E8-&gt;E2\" style=\"stroke: #383838; stroke-width: 1.0;\"/><polygon fill=\"#FFFFFF\" points=\"212,422.93,205,403.93,219,403.93,212,422.93\" style=\"stroke: #383838; stroke-width: 1.0;\"/><ellipse cx=\"207\" cy=\"398.23\" fill=\"#383838\" rx=\"2\" ry=\"2\" style=\"stroke: #383838; stroke-width: 1.0;\"/><ellipse cx=\"217\" cy=\"398.23\" fill=\"#383838\" rx=\"2\" ry=\"2\" style=\"stroke: #383838; stroke-width: 1.0;\"/></a><!--MD5=[9ae28de373ca99bb8a1b38d63370ca7e]\n",
       "reverse link E5 to E9--><a href=\"psysml:b337f31d-c5a0-436f-953f-431d96e2f8f6\" target=\"_top\" title=\"psysml:b337f31d-c5a0-436f-953f-431d96e2f8f6\" xlink:actuate=\"onRequest\" xlink:href=\"psysml:b337f31d-c5a0-436f-953f-431d96e2f8f6\" xlink:show=\"new\" xlink:title=\"psysml:b337f31d-c5a0-436f-953f-431d96e2f8f6\" xlink:type=\"simple\"><path d=\"M363.17,100.22 C363.17,100.22 363.17,239.93 363.17,239.93 \" fill=\"none\" id=\"E5&lt;-E9\" style=\"stroke: #383838; stroke-width: 1.0;\"/><polygon fill=\"#FFFFFF\" points=\"363.17,87.22,359.17,93.22,363.17,99.22,367.17,93.22,363.17,87.22\" style=\"stroke: #383838; stroke-width: 1.0;\"/><text fill=\"#000000\" font-family=\"sans-serif\" font-size=\"13\" lengthAdjust=\"spacingAndGlyphs\" textLength=\"8\" x=\"347.9594\" y=\"228.8075\">1</text></a><!--MD5=[5c3bb36fe832a92c7f0e1807dd65209d]\n",
       "link E9 to E2--><a href=\"psysml:a6a00959-a343-466b-bcfe-643c8c056808\" target=\"_top\" title=\"psysml:a6a00959-a343-466b-bcfe-643c8c056808\" xlink:actuate=\"onRequest\" xlink:href=\"psysml:a6a00959-a343-466b-bcfe-643c8c056808\" xlink:show=\"new\" xlink:title=\"psysml:a6a00959-a343-466b-bcfe-643c8c056808\" xlink:type=\"simple\"><path d=\"M294.78,263 C265.27,263 240,263 240,263 C240,263 240,402.82 240,402.82 \" fill=\"none\" id=\"E9-&gt;E2\" style=\"stroke: #383838; stroke-width: 1.0;\"/><polygon fill=\"#FFFFFF\" points=\"240,422.82,233,403.82,247,403.82,240,422.82\" style=\"stroke: #383838; stroke-width: 1.0;\"/><ellipse cx=\"235\" cy=\"398.12\" fill=\"#383838\" rx=\"2\" ry=\"2\" style=\"stroke: #383838; stroke-width: 1.0;\"/><ellipse cx=\"245\" cy=\"398.12\" fill=\"#383838\" rx=\"2\" ry=\"2\" style=\"stroke: #383838; stroke-width: 1.0;\"/></a><!--MD5=[c5915b40f09b60938a8ce12426f662e3]\n",
       "@startuml\r\n",
       "skinparam linetype ortho\r\n",
       "skinparam monochrome true\r\n",
       "skinparam classbackgroundcolor white\r\n",
       "skinparam shadowing false\r\n",
       "skinparam wrapWidth 300\r\n",
       "hide circle\r\n",
       "\r\n",
       "package \"TradeStudyTest\" as E1  [[psysml:57f8a98c-5718-48d8-9b9a-5c4650640602 ]]  {\r\n",
       "comp def \"Engine\" as E2  <<(T,blue) part  def>> [[psysml:6445380e-76a1-4d64-a2e6-1c63aec68392 ]] {\r\n",
       "}\r\n",
       "comp usage \"engine1: Engine \" as E3  <<(T,blue) part>> [[psysml:e07cfc3f-c273-4e94-9cbe-d128d50ec860 ]] {\r\n",
       "}\r\n",
       "comp usage \"engine2: Engine \" as E4  <<(T,blue) part>> [[psysml:d9e10f1c-39bd-473d-af93-7c118d42db3b ]] {\r\n",
       "}\r\n",
       "comp usage \"engineTradeStudy: TradeStudy \" as E5 << analysis>> [[psysml:f9c838ee-65e7-4043-9f07-1b30ef92e49c ]] {\r\n",
       "}\r\n",
       "comp usage \"tradeStudyObjective: MaximizeObjective \" as E6  <<(T,blue) requirement>> [[psysml:38fbb285-8167-4e3f-bee3-2164ba524da7 ]] {\r\n",
       "}\r\n",
       "comp usage \"objectiveFunction\" as E7  <<(T,blue) calculation>> [[psysml:658dce09-b71c-4e6e-94c9-a3c46617ebc8 ]] {\r\n",
       "}\r\n",
       "comp usage \"alternative: Engine \" as E8  <<(T,blue) part>> [[psysml:3dbf099d-922d-4ace-9ccd-679bba93319b ]] {\r\n",
       "}\r\n",
       "comp usage \"selectedAlternative: Engine \" as E9  <<(T,blue) part>> [[psysml:5fb9bd76-5535-468b-bb8f-88cd6f109fe8 ]] {\r\n",
       "}\r\n",
       "}\r\n",
       "E3 - -:|> E2 [[psysml:8b560a74-32d8-45cc-8c0e-f8d7e14b884a ]] \r\n",
       "E4 - -:|> E2 [[psysml:7f518d85-a598-4692-a186-0ec59d25f08f ]] \r\n",
       "E5 ..> E2 [[psysml:8e91b88f-f820-4b3f-bc7b-6a32144645a0 ]] : <<subject>>\r\n",
       "E5 - ->> E6 [[psysml:a6ebdbd2-b0f8-4e64-baff-f91dc99eb3fc ]] : <<objective>>\r\n",
       "E5 *- - E7 [[psysml:1d968e51-2f45-472a-9c8d-b659e8169068 ]] \r\n",
       "E7 o- - \"1\"E8 [[psysml:762eee8a-df65-48ef-8994-f8166e9b75f6 ]] \r\n",
       "E8 - -:|> E2 [[psysml:b4a53d37-cc69-46b7-9c1e-d748cdbb7a31 ]] \r\n",
       "E5 o- - \"1\"E9 [[psysml:b337f31d-c5a0-436f-953f-431d96e2f8f6 ]] \r\n",
       "E9 - -:|> E2 [[psysml:a6a00959-a343-466b-bcfe-643c8c056808 ]] \r\n",
       "@enduml\r\n",
       "\n",
       "PlantUML version 1.2020.13(Sat Jun 13 12:26:38 UTC 2020)\n",
       "(EPL source distribution)\n",
       "Java Runtime: OpenJDK Runtime Environment\n",
       "JVM: OpenJDK 64-Bit Server VM\n",
       "Default Encoding: UTF-8\n",
       "Language: en\n",
       "Country: null\n",
       "--></g></svg>"
      ]
     },
     "execution_count": 57,
     "metadata": {},
     "output_type": "execute_result"
    }
   ],
   "source": [
    "%viz --style=\"ORTHOLINE\" --view=\"MIXED\" \"TradeStudyTest\""
   ]
  }
 ],
 "metadata": {
  "kernelspec": {
   "display_name": "SysML",
   "language": "sysml",
   "name": "sysml"
  },
  "language_info": {
   "codemirror_mode": "sysml",
   "file_extension": ".sysml",
   "mimetype": "text/x-sysml",
   "name": "SysML",
   "pygments_lexer": "java",
   "version": "1.0.0"
  }
 },
 "nbformat": 4,
 "nbformat_minor": 5
}
