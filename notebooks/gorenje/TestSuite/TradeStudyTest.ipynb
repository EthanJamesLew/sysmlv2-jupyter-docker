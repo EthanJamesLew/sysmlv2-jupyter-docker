{
 "cells": [
  {
   "cell_type": "markdown",
   "id": "22c36037",
   "metadata": {},
   "source": [
    "# SysML v2 Test Suite\n",
    "\n",
    "This can notebook can be cleared using menu `Edit --> Clear All Outputs` and then all cells can be\n",
    "run using menu `Run --> Run All Cells`.\n",
    "\n",
    "**WARNING**: This file is generated, all modifications here will be ignored.\n"
   ]
  },
  {
   "cell_type": "markdown",
   "id": "6bc18f4e",
   "metadata": {},
   "source": [
    "## File: ../../sysml/src/examples/Simple Tests/TradeStudyTest.sysml"
   ]
  },
  {
   "cell_type": "code",
   "execution_count": 1,
   "id": "e16c89fe",
   "metadata": {
    "execution": {
     "iopub.execute_input": "2021-08-04T06:27:36.932688Z",
     "iopub.status.busy": "2021-08-04T06:27:36.931593Z",
     "iopub.status.idle": "2021-08-04T06:27:37.322856Z",
     "shell.execute_reply": "2021-08-04T06:27:37.323242Z"
    }
   },
   "outputs": [
    {
     "data": {
      "text/plain": [
       "Package TradeStudyTest (e6945591-7d28-4a10-8d8c-e149574c924a)\n"
      ]
     },
     "execution_count": 1,
     "metadata": {},
     "output_type": "execute_result"
    }
   ],
   "source": [
    "package TradeStudyTest {\n",
    "\timport ScalarValues::Real;\n",
    "\timport TradeStudies::*;\n",
    "\t\n",
    "\tpart def Engine;\n",
    "\tpart engine1: Engine;\n",
    "\tpart engine2: Engine;\n",
    "\t\n",
    "\tanalysis engineTradeStudy : TradeStudy {\n",
    "\t\tsubject : Engine[1..*] = (engine1, engine2);\n",
    "\t\tobjective : MaximizeObjective;\n",
    "\n",
    "\t\tcalc :>> objectiveFunction {\n",
    "\t\t\tin part : Engine;\n",
    "\t\t\treturn : Real;\n",
    "\t\t}\n",
    "\t\t\n",
    "\t\treturn part : Engine;\n",
    "\t}\n",
    "\t\n",
    "}"
   ]
  },
  {
   "cell_type": "code",
   "execution_count": 2,
   "id": "0ced35c6",
   "metadata": {
    "execution": {
     "iopub.execute_input": "2021-08-04T06:27:37.373663Z",
     "iopub.status.busy": "2021-08-04T06:27:37.373237Z",
     "iopub.status.idle": "2021-08-04T06:27:37.742316Z",
     "shell.execute_reply": "2021-08-04T06:27:37.740919Z"
    }
   },
   "outputs": [
    {
     "data": {
      "image/svg+xml": [
       "<?xml version=\"1.0\" encoding=\"UTF-8\" standalone=\"no\"?><svg xmlns=\"http://www.w3.org/2000/svg\" xmlns:xlink=\"http://www.w3.org/1999/xlink\" contentScriptType=\"application/ecmascript\" contentStyleType=\"text/css\" height=\"497px\" preserveAspectRatio=\"none\" style=\"width:556px;height:497px;\" version=\"1.1\" viewBox=\"0 0 556 497\" width=\"556px\" zoomAndPan=\"magnify\"><defs/><g><!--MD5=[fbc87193dbaf4d95561dea2c320d4a47]\n",
       "cluster E1--><a href=\"psysml:0d92d0af-a8c4-487d-a88b-e96d8d162758\" target=\"_top\" title=\"psysml:0d92d0af-a8c4-487d-a88b-e96d8d162758\" xlink:actuate=\"onRequest\" xlink:href=\"psysml:0d92d0af-a8c4-487d-a88b-e96d8d162758\" xlink:show=\"new\" xlink:title=\"psysml:0d92d0af-a8c4-487d-a88b-e96d8d162758\" xlink:type=\"simple\"><polygon fill=\"#FFFFFF\" points=\"18.32,6,150.32,6,157.32,28.2969,534.32,28.2969,534.32,485,18.32,485,18.32,6\" style=\"stroke: #000000; stroke-width: 1.5;\"/><line style=\"stroke: #000000; stroke-width: 1.5;\" x1=\"18.32\" x2=\"157.32\" y1=\"28.2969\" y2=\"28.2969\"/><text fill=\"#000000\" font-family=\"sans-serif\" font-size=\"14\" font-weight=\"bold\" lengthAdjust=\"spacingAndGlyphs\" textLength=\"126\" x=\"22.32\" y=\"20.9951\">TradeStudyTest</text></a><!--MD5=[b4997ac47864f28c2f74865a473b2911]\n",
       "class E2--><a href=\"psysml:90b379af-84e4-4b51-bcba-9b20024a2d1f\" target=\"_top\" title=\"psysml:90b379af-84e4-4b51-bcba-9b20024a2d1f\" xlink:actuate=\"onRequest\" xlink:href=\"psysml:90b379af-84e4-4b51-bcba-9b20024a2d1f\" xlink:show=\"new\" xlink:title=\"psysml:90b379af-84e4-4b51-bcba-9b20024a2d1f\" xlink:type=\"simple\"><rect fill=\"#FFFFFF\" height=\"45.9375\" id=\"E2\" style=\"stroke: #383838; stroke-width: 1.5;\" width=\"66\" x=\"198.32\" y=\"423\"/><text fill=\"#000000\" font-family=\"sans-serif\" font-size=\"12\" font-style=\"italic\" lengthAdjust=\"spacingAndGlyphs\" textLength=\"64\" x=\"199.32\" y=\"439.1387\">«part def»</text><text fill=\"#000000\" font-family=\"sans-serif\" font-size=\"12\" lengthAdjust=\"spacingAndGlyphs\" textLength=\"43\" x=\"209.82\" y=\"453.1074\">Engine</text><line style=\"stroke: #383838; stroke-width: 1.5;\" x1=\"199.32\" x2=\"263.32\" y1=\"460.9375\" y2=\"460.9375\"/></a><!--MD5=[09b614a08d8cba4a07c9adeb5e0fee81]\n",
       "class E3--><a href=\"psysml:1fe04244-3a7b-4d3a-93e0-0fd9f61a7cea\" target=\"_top\" title=\"psysml:1fe04244-3a7b-4d3a-93e0-0fd9f61a7cea\" xlink:actuate=\"onRequest\" xlink:href=\"psysml:1fe04244-3a7b-4d3a-93e0-0fd9f61a7cea\" xlink:show=\"new\" xlink:title=\"psysml:1fe04244-3a7b-4d3a-93e0-0fd9f61a7cea\" xlink:type=\"simple\"><rect fill=\"#FFFFFF\" height=\"45.9375\" id=\"E3\" rx=\"10\" ry=\"10\" style=\"stroke: #383838; stroke-width: 1.5;\" width=\"108\" x=\"410.32\" y=\"316\"/><text fill=\"#000000\" font-family=\"sans-serif\" font-size=\"12\" font-style=\"italic\" lengthAdjust=\"spacingAndGlyphs\" textLength=\"40\" x=\"444.32\" y=\"332.1387\">«part»</text><text fill=\"#000000\" font-family=\"sans-serif\" font-size=\"12\" lengthAdjust=\"spacingAndGlyphs\" textLength=\"102\" x=\"413.32\" y=\"346.1074\">engine1: Engine</text><line style=\"stroke: #383838; stroke-width: 1.5;\" x1=\"411.32\" x2=\"517.32\" y1=\"353.9375\" y2=\"353.9375\"/></a><!--MD5=[ebbe1d658d1005bcc118a6aa81145e00]\n",
       "class E4--><a href=\"psysml:07207da4-9c20-4091-a953-293a54d08950\" target=\"_top\" title=\"psysml:07207da4-9c20-4091-a953-293a54d08950\" xlink:actuate=\"onRequest\" xlink:href=\"psysml:07207da4-9c20-4091-a953-293a54d08950\" xlink:show=\"new\" xlink:title=\"psysml:07207da4-9c20-4091-a953-293a54d08950\" xlink:type=\"simple\"><rect fill=\"#FFFFFF\" height=\"45.9375\" id=\"E4\" rx=\"10\" ry=\"10\" style=\"stroke: #383838; stroke-width: 1.5;\" width=\"108\" x=\"267.32\" y=\"316\"/><text fill=\"#000000\" font-family=\"sans-serif\" font-size=\"12\" font-style=\"italic\" lengthAdjust=\"spacingAndGlyphs\" textLength=\"40\" x=\"301.32\" y=\"332.1387\">«part»</text><text fill=\"#000000\" font-family=\"sans-serif\" font-size=\"12\" lengthAdjust=\"spacingAndGlyphs\" textLength=\"102\" x=\"270.32\" y=\"346.1074\">engine2: Engine</text><line style=\"stroke: #383838; stroke-width: 1.5;\" x1=\"268.32\" x2=\"374.32\" y1=\"353.9375\" y2=\"353.9375\"/></a><!--MD5=[270fce915f116d4de14055a7c1d9a0f3]\n",
       "class E5--><a href=\"psysml:c0123459-da5a-4fa7-ba13-511d4e5fcdf0\" target=\"_top\" title=\"psysml:c0123459-da5a-4fa7-ba13-511d4e5fcdf0\" xlink:actuate=\"onRequest\" xlink:href=\"psysml:c0123459-da5a-4fa7-ba13-511d4e5fcdf0\" xlink:show=\"new\" xlink:title=\"psysml:c0123459-da5a-4fa7-ba13-511d4e5fcdf0\" xlink:type=\"simple\"><rect fill=\"#FFFFFF\" height=\"45.9375\" id=\"E5\" rx=\"10\" ry=\"10\" style=\"stroke: #383838; stroke-width: 1.5;\" width=\"199\" x=\"239.82\" y=\"41\"/><text fill=\"#000000\" font-family=\"sans-serif\" font-size=\"12\" font-style=\"italic\" lengthAdjust=\"spacingAndGlyphs\" textLength=\"64\" x=\"307.32\" y=\"57.1387\">«analysis»</text><text fill=\"#000000\" font-family=\"sans-serif\" font-size=\"12\" lengthAdjust=\"spacingAndGlyphs\" textLength=\"193\" x=\"242.82\" y=\"71.1074\">engineTradeStudy: TradeStudy</text><line style=\"stroke: #383838; stroke-width: 1.5;\" x1=\"240.82\" x2=\"437.82\" y1=\"78.9375\" y2=\"78.9375\"/></a><!--MD5=[60a26617385b1d2d0262a64233df1f8d]\n",
       "class E6--><a href=\"psysml:d3ca6a29-f1f6-48ae-8677-7ec75b0f5c21\" target=\"_top\" title=\"psysml:d3ca6a29-f1f6-48ae-8677-7ec75b0f5c21\" xlink:actuate=\"onRequest\" xlink:href=\"psysml:d3ca6a29-f1f6-48ae-8677-7ec75b0f5c21\" xlink:show=\"new\" xlink:title=\"psysml:d3ca6a29-f1f6-48ae-8677-7ec75b0f5c21\" xlink:type=\"simple\"><rect fill=\"#FFFFFF\" height=\"45.9375\" id=\"E6\" rx=\"10\" ry=\"10\" style=\"stroke: #383838; stroke-width: 1.5;\" width=\"251\" x=\"78.82\" y=\"164\"/><text fill=\"#000000\" font-family=\"sans-serif\" font-size=\"12\" font-style=\"italic\" lengthAdjust=\"spacingAndGlyphs\" textLength=\"91\" x=\"158.82\" y=\"180.1387\">«requirement»</text><text fill=\"#000000\" font-family=\"sans-serif\" font-size=\"12\" lengthAdjust=\"spacingAndGlyphs\" textLength=\"245\" x=\"81.82\" y=\"194.1074\">tradeStudyObjective: MaximizeObjective</text><line style=\"stroke: #383838; stroke-width: 1.5;\" x1=\"79.82\" x2=\"328.82\" y1=\"201.9375\" y2=\"201.9375\"/></a><!--MD5=[2156ba9850f5573cc1fc38a6a4b2f02b]\n",
       "class E7--><a href=\"psysml:f099413c-f817-477f-a757-2c07f6450928\" target=\"_top\" title=\"psysml:f099413c-f817-477f-a757-2c07f6450928\" xlink:actuate=\"onRequest\" xlink:href=\"psysml:f099413c-f817-477f-a757-2c07f6450928\" xlink:show=\"new\" xlink:title=\"psysml:f099413c-f817-477f-a757-2c07f6450928\" xlink:type=\"simple\"><rect fill=\"#FFFFFF\" height=\"45.9375\" id=\"E7\" rx=\"10\" ry=\"10\" style=\"stroke: #383838; stroke-width: 1.5;\" width=\"116\" x=\"365.32\" y=\"164\"/><text fill=\"#000000\" font-family=\"sans-serif\" font-size=\"12\" font-style=\"italic\" lengthAdjust=\"spacingAndGlyphs\" textLength=\"82\" x=\"382.32\" y=\"180.1387\">«calculation»</text><text fill=\"#000000\" font-family=\"sans-serif\" font-size=\"12\" lengthAdjust=\"spacingAndGlyphs\" textLength=\"110\" x=\"368.32\" y=\"194.1074\">objectiveFunction</text><line style=\"stroke: #383838; stroke-width: 1.5;\" x1=\"366.32\" x2=\"480.32\" y1=\"201.9375\" y2=\"201.9375\"/></a><!--MD5=[b9389687b975829384b498ac4b7476b2]\n",
       "class E8--><a href=\"psysml:26f566d1-080d-4e4d-ba32-38c38fdc0bde\" target=\"_top\" title=\"psysml:26f566d1-080d-4e4d-ba32-38c38fdc0bde\" xlink:actuate=\"onRequest\" xlink:href=\"psysml:26f566d1-080d-4e4d-ba32-38c38fdc0bde\" xlink:show=\"new\" xlink:title=\"psysml:26f566d1-080d-4e4d-ba32-38c38fdc0bde\" xlink:type=\"simple\"><rect fill=\"#FFFFFF\" height=\"45.9375\" id=\"E8\" rx=\"10\" ry=\"10\" style=\"stroke: #383838; stroke-width: 1.5;\" width=\"124\" x=\"71.32\" y=\"316\"/><text fill=\"#000000\" font-family=\"sans-serif\" font-size=\"12\" font-style=\"italic\" lengthAdjust=\"spacingAndGlyphs\" textLength=\"40\" x=\"113.32\" y=\"332.1387\">«part»</text><text fill=\"#000000\" font-family=\"sans-serif\" font-size=\"12\" lengthAdjust=\"spacingAndGlyphs\" textLength=\"118\" x=\"74.32\" y=\"346.1074\">alternative: Engine</text><line style=\"stroke: #383838; stroke-width: 1.5;\" x1=\"72.32\" x2=\"194.32\" y1=\"353.9375\" y2=\"353.9375\"/></a><!--MD5=[fd4143e9d270a159db93a4ea2a975926]\n",
       "class E9--><a href=\"psysml:7894e875-c3b4-453b-9dc9-b899c04487e6\" target=\"_top\" title=\"psysml:7894e875-c3b4-453b-9dc9-b899c04487e6\" xlink:actuate=\"onRequest\" xlink:href=\"psysml:7894e875-c3b4-453b-9dc9-b899c04487e6\" xlink:show=\"new\" xlink:title=\"psysml:7894e875-c3b4-453b-9dc9-b899c04487e6\" xlink:type=\"simple\"><rect fill=\"#FFFFFF\" height=\"45.9375\" id=\"E9\" rx=\"10\" ry=\"10\" style=\"stroke: #383838; stroke-width: 1.5;\" width=\"178\" x=\"291.32\" y=\"240\"/><text fill=\"#000000\" font-family=\"sans-serif\" font-size=\"12\" font-style=\"italic\" lengthAdjust=\"spacingAndGlyphs\" textLength=\"40\" x=\"360.32\" y=\"256.1387\">«part»</text><text fill=\"#000000\" font-family=\"sans-serif\" font-size=\"12\" lengthAdjust=\"spacingAndGlyphs\" textLength=\"172\" x=\"294.32\" y=\"270.1074\">selectedAlternative: Engine</text><line style=\"stroke: #383838; stroke-width: 1.5;\" x1=\"292.32\" x2=\"468.32\" y1=\"277.9375\" y2=\"277.9375\"/></a><!--MD5=[05d275557350bfb9b23a4ef7222b4c39]\n",
       "link E3 to E2--><a href=\"psysml:8801a447-7348-4a45-a550-3876c92a8627\" target=\"_top\" title=\"psysml:8801a447-7348-4a45-a550-3876c92a8627\" xlink:actuate=\"onRequest\" xlink:href=\"psysml:8801a447-7348-4a45-a550-3876c92a8627\" xlink:show=\"new\" xlink:title=\"psysml:8801a447-7348-4a45-a550-3876c92a8627\" xlink:type=\"simple\"><path d=\"M415.48,362.01 C376.57,379.54 322.27,404.01 282.71,421.84 \" fill=\"none\" id=\"E3-&gt;E2\" style=\"stroke: #383838; stroke-width: 1.0;\"/><polygon fill=\"#FFFFFF\" points=\"264.34,430.12,278.7866,415.9321,284.5383,428.696,264.34,430.12\" style=\"stroke: #383838; stroke-width: 1.0;\"/><ellipse cx=\"284.805\" cy=\"415.4137\" fill=\"#383838\" rx=\"2\" ry=\"2\" style=\"stroke: #383838; stroke-width: 1.0;\"/><ellipse cx=\"288.9134\" cy=\"424.5308\" fill=\"#383838\" rx=\"2\" ry=\"2\" style=\"stroke: #383838; stroke-width: 1.0;\"/></a><!--MD5=[185131fc0dcab0a4505a2ebe144e961b]\n",
       "link E4 to E2--><a href=\"psysml:b9350b5a-5d8f-4ac9-a55f-8ba2d0a1e030\" target=\"_top\" title=\"psysml:b9350b5a-5d8f-4ac9-a55f-8ba2d0a1e030\" xlink:actuate=\"onRequest\" xlink:href=\"psysml:b9350b5a-5d8f-4ac9-a55f-8ba2d0a1e030\" xlink:show=\"new\" xlink:title=\"psysml:b9350b5a-5d8f-4ac9-a55f-8ba2d0a1e030\" xlink:type=\"simple\"><path d=\"M302.45,362.01 C291.25,375.08 276.74,392.01 263.74,407.17 \" fill=\"none\" id=\"E4-&gt;E2\" style=\"stroke: #383838; stroke-width: 1.0;\"/><polygon fill=\"#FFFFFF\" points=\"250.47,422.66,257.5188,403.678,268.1491,412.7883,250.47,422.66\" style=\"stroke: #383838; stroke-width: 1.0;\"/><ellipse cx=\"262.7466\" cy=\"400.6515\" fill=\"#383838\" rx=\"2\" ry=\"2\" style=\"stroke: #383838; stroke-width: 1.0;\"/><ellipse cx=\"270.3396\" cy=\"407.1588\" fill=\"#383838\" rx=\"2\" ry=\"2\" style=\"stroke: #383838; stroke-width: 1.0;\"/></a><!--MD5=[15ebcb19ae302d9b601edb458606d402]\n",
       "link E5 to E2--><a href=\"psysml:ecc21de6-0c62-41d5-be03-95573cca647a\" target=\"_top\" title=\"psysml:ecc21de6-0c62-41d5-be03-95573cca647a\" xlink:actuate=\"onRequest\" xlink:href=\"psysml:ecc21de6-0c62-41d5-be03-95573cca647a\" xlink:show=\"new\" xlink:title=\"psysml:ecc21de6-0c62-41d5-be03-95573cca647a\" xlink:type=\"simple\"><path d=\"M239.76,73.22 C177.99,83.96 102.74,108.45 61.32,164 C8.68,234.61 6,287.72 53.32,362 C83.95,410.08 150.5,430.76 192.99,439.32 \" fill=\"none\" id=\"E5-&gt;E2\" style=\"stroke: #383838; stroke-width: 1.0; stroke-dasharray: 7.0,7.0;\"/><polygon fill=\"#383838\" points=\"198.04,440.31,189.9738,434.6588,193.1327,439.3514,188.4401,442.5104,198.04,440.31\" style=\"stroke: #383838; stroke-width: 1.0;\"/><text fill=\"#000000\" font-family=\"sans-serif\" font-size=\"13\" lengthAdjust=\"spacingAndGlyphs\" textLength=\"62\" x=\"24.32\" y=\"267.5669\">«subject»</text></a><!--MD5=[9120cf2e5df3bff93db8f754bbbc09b4]\n",
       "link E5 to E6--><a href=\"psysml:fcf6c150-3866-4336-9e66-2e65ffb041aa\" target=\"_top\" title=\"psysml:fcf6c150-3866-4336-9e66-2e65ffb041aa\" xlink:actuate=\"onRequest\" xlink:href=\"psysml:fcf6c150-3866-4336-9e66-2e65ffb041aa\" xlink:show=\"new\" xlink:title=\"psysml:fcf6c150-3866-4336-9e66-2e65ffb041aa\" xlink:type=\"simple\"><path d=\"M314.56,87.19 C292.2,107.23 259.21,136.8 235.15,158.37 \" fill=\"none\" id=\"E5-&gt;E6\" style=\"stroke: #383838; stroke-width: 1.0;\"/><polygon fill=\"#383838\" points=\"228.92,163.95,236.8786,160.8419,232.8725,156.3752,228.92,163.95\" style=\"stroke: #383838; stroke-width: 1.0;\"/><text fill=\"#000000\" font-family=\"sans-serif\" font-size=\"13\" lengthAdjust=\"spacingAndGlyphs\" textLength=\"73\" x=\"280.32\" y=\"130.0669\">«objective»</text></a><!--MD5=[452b418e7f8a40397a49b8c0a78acc5b]\n",
       "reverse link E5 to E7--><a href=\"psysml:a988c065-f70c-4bb4-ab6a-fca08357bc4a\" target=\"_top\" title=\"psysml:a988c065-f70c-4bb4-ab6a-fca08357bc4a\" xlink:actuate=\"onRequest\" xlink:href=\"psysml:a988c065-f70c-4bb4-ab6a-fca08357bc4a\" xlink:show=\"new\" xlink:title=\"psysml:a988c065-f70c-4bb4-ab6a-fca08357bc4a\" xlink:type=\"simple\"><path d=\"M362.14,97.88 C376.71,118.86 395.19,145.48 408.01,163.95 \" fill=\"none\" id=\"E5&lt;-E7\" style=\"stroke: #383838; stroke-width: 1.0;\"/><polygon fill=\"#383838\" points=\"354.73,87.19,354.864,94.3999,361.5708,97.0492,361.4368,89.8393,354.73,87.19\" style=\"stroke: #383838; stroke-width: 1.0;\"/></a><!--MD5=[dc164f5e8a733ab456ef1add180e9e34]\n",
       "reverse link E7 to E8--><a href=\"psysml:4295af6e-acd7-489b-9191-c25409e1351b\" target=\"_top\" title=\"psysml:4295af6e-acd7-489b-9191-c25409e1351b\" xlink:actuate=\"onRequest\" xlink:href=\"psysml:4295af6e-acd7-489b-9191-c25409e1351b\" xlink:show=\"new\" xlink:title=\"psysml:4295af6e-acd7-489b-9191-c25409e1351b\" xlink:type=\"simple\"><path d=\"M352.67,208.29 C327.33,216.69 298.96,227.44 274.32,240 C231.96,261.6 187.65,294.33 160.26,315.93 \" fill=\"none\" id=\"E7&lt;-E8\" style=\"stroke: #383838; stroke-width: 1.0;\"/><polygon fill=\"#FFFFFF\" points=\"365.22,204.24,358.2818,202.2749,353.7994,207.9236,360.7376,209.8887,365.22,204.24\" style=\"stroke: #383838; stroke-width: 1.0;\"/><text fill=\"#000000\" font-family=\"sans-serif\" font-size=\"13\" lengthAdjust=\"spacingAndGlyphs\" textLength=\"8\" x=\"158.4251\" y=\"304.8075\">1</text></a><!--MD5=[f1f3f9f2fc535e6147756cb86a7f2e32]\n",
       "link E8 to E2--><a href=\"psysml:aed7fba6-fc0e-4a29-a473-c7d943b57344\" target=\"_top\" title=\"psysml:aed7fba6-fc0e-4a29-a473-c7d943b57344\" xlink:actuate=\"onRequest\" xlink:href=\"psysml:aed7fba6-fc0e-4a29-a473-c7d943b57344\" xlink:show=\"new\" xlink:title=\"psysml:aed7fba6-fc0e-4a29-a473-c7d943b57344\" xlink:type=\"simple\"><path d=\"M153.86,362.01 C166.19,375.22 182.2,392.38 196.46,407.65 \" fill=\"none\" id=\"E8-&gt;E2\" style=\"stroke: #383838; stroke-width: 1.0;\"/><polygon fill=\"#FFFFFF\" points=\"210.47,422.66,192.3921,413.5393,202.6305,403.9907,210.47,422.66\" style=\"stroke: #383838; stroke-width: 1.0;\"/><ellipse cx=\"189.9671\" cy=\"408.0067\" fill=\"#383838\" rx=\"2\" ry=\"2\" style=\"stroke: #383838; stroke-width: 1.0;\"/><ellipse cx=\"197.2802\" cy=\"401.1863\" fill=\"#383838\" rx=\"2\" ry=\"2\" style=\"stroke: #383838; stroke-width: 1.0;\"/></a><!--MD5=[9ae28de373ca99bb8a1b38d63370ca7e]\n",
       "reverse link E5 to E9--><a href=\"psysml:afcc773f-3f6f-47e3-9b17-c2b1fd7bbdc3\" target=\"_top\" title=\"psysml:afcc773f-3f6f-47e3-9b17-c2b1fd7bbdc3\" xlink:actuate=\"onRequest\" xlink:href=\"psysml:afcc773f-3f6f-47e3-9b17-c2b1fd7bbdc3\" xlink:show=\"new\" xlink:title=\"psysml:afcc773f-3f6f-47e3-9b17-c2b1fd7bbdc3\" xlink:type=\"simple\"><path d=\"M416.08,92.77 C447.78,108.48 481.27,131.61 499.32,164 C509.27,181.86 510.51,192.89 499.32,210 C490.86,222.92 478.41,232.65 464.71,239.97 \" fill=\"none\" id=\"E5&lt;-E9\" style=\"stroke: #383838; stroke-width: 1.0;\"/><polygon fill=\"#FFFFFF\" points=\"404.06,87.11,407.7814,93.2867,414.9142,92.2272,411.1928,86.0505,404.06,87.11\" style=\"stroke: #383838; stroke-width: 1.0;\"/><text fill=\"#000000\" font-family=\"sans-serif\" font-size=\"13\" lengthAdjust=\"spacingAndGlyphs\" textLength=\"8\" x=\"477.3099\" y=\"229.2386\">1</text></a><!--MD5=[5c3bb36fe832a92c7f0e1807dd65209d]\n",
       "link E9 to E2--><a href=\"psysml:09d901e9-14a1-4a34-80ae-448f8674b33c\" target=\"_top\" title=\"psysml:09d901e9-14a1-4a34-80ae-448f8674b33c\" xlink:actuate=\"onRequest\" xlink:href=\"psysml:09d901e9-14a1-4a34-80ae-448f8674b33c\" xlink:show=\"new\" xlink:title=\"psysml:09d901e9-14a1-4a34-80ae-448f8674b33c\" xlink:type=\"simple\"><path d=\"M291.19,285.15 C275.57,292.56 260.94,302.55 250.32,316 C231.17,340.25 227.04,375.32 227.36,402.77 \" fill=\"none\" id=\"E9-&gt;E2\" style=\"stroke: #383838; stroke-width: 1.0;\"/><polygon fill=\"#FFFFFF\" points=\"228.36,422.81,220.4186,404.1838,234.4011,403.4837,228.36,422.81\" style=\"stroke: #383838; stroke-width: 1.0;\"/><ellipse cx=\"222.131\" cy=\"398.3909\" fill=\"#383838\" rx=\"2\" ry=\"2\" style=\"stroke: #383838; stroke-width: 1.0;\"/><ellipse cx=\"232.1185\" cy=\"397.8909\" fill=\"#383838\" rx=\"2\" ry=\"2\" style=\"stroke: #383838; stroke-width: 1.0;\"/></a><!--MD5=[7f12fe59bde0f8763241159557fd0a12]\n",
       "@startuml\r\n",
       " skinparam monochrome true\r\n",
       "skinparam classbackgroundcolor white\r\n",
       "skinparam shadowing false\r\n",
       "skinparam wrapWidth 300\r\n",
       "hide circle\r\n",
       "\r\n",
       "package \"TradeStudyTest\" as E1  [[psysml:0d92d0af-a8c4-487d-a88b-e96d8d162758 ]]  {\r\n",
       "comp def \"Engine\" as E2  <<(T,blue) part def>> [[psysml:90b379af-84e4-4b51-bcba-9b20024a2d1f ]] {\r\n",
       "}\r\n",
       "comp usage \"engine1: Engine\" as E3  <<(T,blue) part>> [[psysml:1fe04244-3a7b-4d3a-93e0-0fd9f61a7cea ]] {\r\n",
       "}\r\n",
       "comp usage \"engine2: Engine\" as E4  <<(T,blue) part>> [[psysml:07207da4-9c20-4091-a953-293a54d08950 ]] {\r\n",
       "}\r\n",
       "comp usage \"engineTradeStudy: TradeStudy\" as E5 << analysis>> [[psysml:c0123459-da5a-4fa7-ba13-511d4e5fcdf0 ]] {\r\n",
       "}\r\n",
       "comp usage \"tradeStudyObjective: MaximizeObjective\" as E6  <<(T,blue) requirement>> [[psysml:d3ca6a29-f1f6-48ae-8677-7ec75b0f5c21 ]] {\r\n",
       "}\r\n",
       "comp usage \"objectiveFunction\" as E7  <<(T,blue) calculation>> [[psysml:f099413c-f817-477f-a757-2c07f6450928 ]] {\r\n",
       "}\r\n",
       "comp usage \"alternative: Engine\" as E8  <<(T,blue) part>> [[psysml:26f566d1-080d-4e4d-ba32-38c38fdc0bde ]] {\r\n",
       "}\r\n",
       "comp usage \"selectedAlternative: Engine\" as E9  <<(T,blue) part>> [[psysml:7894e875-c3b4-453b-9dc9-b899c04487e6 ]] {\r\n",
       "}\r\n",
       "E3 - -:|> E2 [[psysml:8801a447-7348-4a45-a550-3876c92a8627 ]] \r\n",
       "E4 - -:|> E2 [[psysml:b9350b5a-5d8f-4ac9-a55f-8ba2d0a1e030 ]] \r\n",
       "E5 ..> E2 [[psysml:ecc21de6-0c62-41d5-be03-95573cca647a ]] : <<subject>>\r\n",
       "E5 - ->> E6 [[psysml:fcf6c150-3866-4336-9e66-2e65ffb041aa ]] : <<objective>>\r\n",
       "E5 *- - E7 [[psysml:a988c065-f70c-4bb4-ab6a-fca08357bc4a ]] \r\n",
       "E7 o- - \"1\"E8 [[psysml:4295af6e-acd7-489b-9191-c25409e1351b ]] \r\n",
       "E8 - -:|> E2 [[psysml:aed7fba6-fc0e-4a29-a473-c7d943b57344 ]] \r\n",
       "E5 o- - \"1\"E9 [[psysml:afcc773f-3f6f-47e3-9b17-c2b1fd7bbdc3 ]] \r\n",
       "E9 - -:|> E2 [[psysml:09d901e9-14a1-4a34-80ae-448f8674b33c ]] \r\n",
       "}\r\n",
       "@enduml\r\n",
       "\n",
       "PlantUML version 1.2020.13(Sat Jun 13 12:26:38 UTC 2020)\n",
       "(EPL source distribution)\n",
       "Java Runtime: OpenJDK Runtime Environment\n",
       "JVM: OpenJDK 64-Bit Server VM\n",
       "Default Encoding: UTF-8\n",
       "Language: en\n",
       "Country: null\n",
       "--></g></svg>"
      ]
     },
     "execution_count": 2,
     "metadata": {},
     "output_type": "execute_result"
    }
   ],
   "source": [
    "%viz --style=\"COMPTREE\" --view=\"Default\" \"TradeStudyTest\""
   ]
  },
  {
   "cell_type": "code",
   "execution_count": 3,
   "id": "5499bf3b",
   "metadata": {
    "execution": {
     "iopub.execute_input": "2021-08-04T06:27:37.792309Z",
     "iopub.status.busy": "2021-08-04T06:27:37.791952Z",
     "iopub.status.idle": "2021-08-04T06:27:37.841250Z",
     "shell.execute_reply": "2021-08-04T06:27:37.840819Z"
    }
   },
   "outputs": [
    {
     "data": {
      "image/svg+xml": [
       "<?xml version=\"1.0\" encoding=\"UTF-8\" standalone=\"no\"?><svg xmlns=\"http://www.w3.org/2000/svg\" xmlns:xlink=\"http://www.w3.org/1999/xlink\" contentScriptType=\"application/ecmascript\" contentStyleType=\"text/css\" height=\"345px\" preserveAspectRatio=\"none\" style=\"width:955px;height:345px;\" version=\"1.1\" viewBox=\"0 0 955 345\" width=\"955px\" zoomAndPan=\"magnify\"><defs/><g><!--MD5=[fbc87193dbaf4d95561dea2c320d4a47]\n",
       "cluster E1--><a href=\"psysml:0d92d0af-a8c4-487d-a88b-e96d8d162758\" target=\"_top\" title=\"psysml:0d92d0af-a8c4-487d-a88b-e96d8d162758\" xlink:actuate=\"onRequest\" xlink:href=\"psysml:0d92d0af-a8c4-487d-a88b-e96d8d162758\" xlink:show=\"new\" xlink:title=\"psysml:0d92d0af-a8c4-487d-a88b-e96d8d162758\" xlink:type=\"simple\"><polygon fill=\"#FFFFFF\" points=\"16,6,148,6,155,28.2969,933,28.2969,933,333,16,333,16,6\" style=\"stroke: #000000; stroke-width: 1.5;\"/><line style=\"stroke: #000000; stroke-width: 1.5;\" x1=\"16\" x2=\"155\" y1=\"28.2969\" y2=\"28.2969\"/><text fill=\"#000000\" font-family=\"sans-serif\" font-size=\"14\" font-weight=\"bold\" lengthAdjust=\"spacingAndGlyphs\" textLength=\"126\" x=\"20\" y=\"20.9951\">TradeStudyTest</text></a><!--MD5=[b4997ac47864f28c2f74865a473b2911]\n",
       "class E2--><a href=\"psysml:90b379af-84e4-4b51-bcba-9b20024a2d1f\" target=\"_top\" title=\"psysml:90b379af-84e4-4b51-bcba-9b20024a2d1f\" xlink:actuate=\"onRequest\" xlink:href=\"psysml:90b379af-84e4-4b51-bcba-9b20024a2d1f\" xlink:show=\"new\" xlink:title=\"psysml:90b379af-84e4-4b51-bcba-9b20024a2d1f\" xlink:type=\"simple\"><rect fill=\"#FFFFFF\" height=\"45.9375\" id=\"E2\" style=\"stroke: #383838; stroke-width: 1.5;\" width=\"66\" x=\"598\" y=\"271\"/><text fill=\"#000000\" font-family=\"sans-serif\" font-size=\"12\" font-style=\"italic\" lengthAdjust=\"spacingAndGlyphs\" textLength=\"64\" x=\"599\" y=\"287.1387\">«part def»</text><text fill=\"#000000\" font-family=\"sans-serif\" font-size=\"12\" lengthAdjust=\"spacingAndGlyphs\" textLength=\"43\" x=\"609.5\" y=\"301.1074\">Engine</text><line style=\"stroke: #383838; stroke-width: 1.5;\" x1=\"599\" x2=\"663\" y1=\"308.9375\" y2=\"308.9375\"/></a><!--MD5=[09b614a08d8cba4a07c9adeb5e0fee81]\n",
       "class E3--><a href=\"psysml:1fe04244-3a7b-4d3a-93e0-0fd9f61a7cea\" target=\"_top\" title=\"psysml:1fe04244-3a7b-4d3a-93e0-0fd9f61a7cea\" xlink:actuate=\"onRequest\" xlink:href=\"psysml:1fe04244-3a7b-4d3a-93e0-0fd9f61a7cea\" xlink:show=\"new\" xlink:title=\"psysml:1fe04244-3a7b-4d3a-93e0-0fd9f61a7cea\" xlink:type=\"simple\"><rect fill=\"#FFFFFF\" height=\"45.9375\" id=\"E3\" rx=\"10\" ry=\"10\" style=\"stroke: #383838; stroke-width: 1.5;\" width=\"108\" x=\"809\" y=\"164\"/><text fill=\"#000000\" font-family=\"sans-serif\" font-size=\"12\" font-style=\"italic\" lengthAdjust=\"spacingAndGlyphs\" textLength=\"40\" x=\"843\" y=\"180.1387\">«part»</text><text fill=\"#000000\" font-family=\"sans-serif\" font-size=\"12\" lengthAdjust=\"spacingAndGlyphs\" textLength=\"102\" x=\"812\" y=\"194.1074\">engine1: Engine</text><line style=\"stroke: #383838; stroke-width: 1.5;\" x1=\"810\" x2=\"916\" y1=\"201.9375\" y2=\"201.9375\"/></a><!--MD5=[ebbe1d658d1005bcc118a6aa81145e00]\n",
       "class E4--><a href=\"psysml:07207da4-9c20-4091-a953-293a54d08950\" target=\"_top\" title=\"psysml:07207da4-9c20-4091-a953-293a54d08950\" xlink:actuate=\"onRequest\" xlink:href=\"psysml:07207da4-9c20-4091-a953-293a54d08950\" xlink:show=\"new\" xlink:title=\"psysml:07207da4-9c20-4091-a953-293a54d08950\" xlink:type=\"simple\"><rect fill=\"#FFFFFF\" height=\"45.9375\" id=\"E4\" rx=\"10\" ry=\"10\" style=\"stroke: #383838; stroke-width: 1.5;\" width=\"108\" x=\"666\" y=\"164\"/><text fill=\"#000000\" font-family=\"sans-serif\" font-size=\"12\" font-style=\"italic\" lengthAdjust=\"spacingAndGlyphs\" textLength=\"40\" x=\"700\" y=\"180.1387\">«part»</text><text fill=\"#000000\" font-family=\"sans-serif\" font-size=\"12\" lengthAdjust=\"spacingAndGlyphs\" textLength=\"102\" x=\"669\" y=\"194.1074\">engine2: Engine</text><line style=\"stroke: #383838; stroke-width: 1.5;\" x1=\"667\" x2=\"773\" y1=\"201.9375\" y2=\"201.9375\"/></a><!--MD5=[270fce915f116d4de14055a7c1d9a0f3]\n",
       "class E5--><a href=\"psysml:c0123459-da5a-4fa7-ba13-511d4e5fcdf0\" target=\"_top\" title=\"psysml:c0123459-da5a-4fa7-ba13-511d4e5fcdf0\" xlink:actuate=\"onRequest\" xlink:href=\"psysml:c0123459-da5a-4fa7-ba13-511d4e5fcdf0\" xlink:show=\"new\" xlink:title=\"psysml:c0123459-da5a-4fa7-ba13-511d4e5fcdf0\" xlink:type=\"simple\"><rect fill=\"#FFFFFF\" height=\"45.9375\" id=\"E5\" rx=\"10\" ry=\"10\" style=\"stroke: #383838; stroke-width: 1.5;\" width=\"199\" x=\"192.5\" y=\"41\"/><text fill=\"#000000\" font-family=\"sans-serif\" font-size=\"12\" font-style=\"italic\" lengthAdjust=\"spacingAndGlyphs\" textLength=\"64\" x=\"260\" y=\"57.1387\">«analysis»</text><text fill=\"#000000\" font-family=\"sans-serif\" font-size=\"12\" lengthAdjust=\"spacingAndGlyphs\" textLength=\"193\" x=\"195.5\" y=\"71.1074\">engineTradeStudy: TradeStudy</text><line style=\"stroke: #383838; stroke-width: 1.5;\" x1=\"193.5\" x2=\"390.5\" y1=\"78.9375\" y2=\"78.9375\"/></a><!--MD5=[60a26617385b1d2d0262a64233df1f8d]\n",
       "class E6--><a href=\"psysml:d3ca6a29-f1f6-48ae-8677-7ec75b0f5c21\" target=\"_top\" title=\"psysml:d3ca6a29-f1f6-48ae-8677-7ec75b0f5c21\" xlink:actuate=\"onRequest\" xlink:href=\"psysml:d3ca6a29-f1f6-48ae-8677-7ec75b0f5c21\" xlink:show=\"new\" xlink:title=\"psysml:d3ca6a29-f1f6-48ae-8677-7ec75b0f5c21\" xlink:type=\"simple\"><rect fill=\"#FFFFFF\" height=\"45.9375\" id=\"E6\" rx=\"10\" ry=\"10\" style=\"stroke: #383838; stroke-width: 1.5;\" width=\"251\" x=\"166.5\" y=\"164\"/><text fill=\"#000000\" font-family=\"sans-serif\" font-size=\"12\" font-style=\"italic\" lengthAdjust=\"spacingAndGlyphs\" textLength=\"91\" x=\"246.5\" y=\"180.1387\">«requirement»</text><text fill=\"#000000\" font-family=\"sans-serif\" font-size=\"12\" lengthAdjust=\"spacingAndGlyphs\" textLength=\"245\" x=\"169.5\" y=\"194.1074\">tradeStudyObjective: MaximizeObjective</text><line style=\"stroke: #383838; stroke-width: 1.5;\" x1=\"167.5\" x2=\"416.5\" y1=\"201.9375\" y2=\"201.9375\"/></a><!--MD5=[2156ba9850f5573cc1fc38a6a4b2f02b]\n",
       "class E7--><a href=\"psysml:7894e875-c3b4-453b-9dc9-b899c04487e6\" target=\"_top\" title=\"psysml:7894e875-c3b4-453b-9dc9-b899c04487e6\" xlink:actuate=\"onRequest\" xlink:href=\"psysml:7894e875-c3b4-453b-9dc9-b899c04487e6\" xlink:show=\"new\" xlink:title=\"psysml:7894e875-c3b4-453b-9dc9-b899c04487e6\" xlink:type=\"simple\"><rect fill=\"#FFFFFF\" height=\"45.9375\" id=\"E7\" rx=\"10\" ry=\"10\" style=\"stroke: #383838; stroke-width: 1.5;\" width=\"178\" x=\"453\" y=\"164\"/><text fill=\"#000000\" font-family=\"sans-serif\" font-size=\"12\" font-style=\"italic\" lengthAdjust=\"spacingAndGlyphs\" textLength=\"40\" x=\"522\" y=\"180.1387\">«part»</text><text fill=\"#000000\" font-family=\"sans-serif\" font-size=\"12\" lengthAdjust=\"spacingAndGlyphs\" textLength=\"172\" x=\"456\" y=\"194.1074\">selectedAlternative: Engine</text><line style=\"stroke: #383838; stroke-width: 1.5;\" x1=\"454\" x2=\"630\" y1=\"201.9375\" y2=\"201.9375\"/></a><!--MD5=[05d275557350bfb9b23a4ef7222b4c39]\n",
       "link E3 to E2--><a href=\"psysml:8801a447-7348-4a45-a550-3876c92a8627\" target=\"_top\" title=\"psysml:8801a447-7348-4a45-a550-3876c92a8627\" xlink:actuate=\"onRequest\" xlink:href=\"psysml:8801a447-7348-4a45-a550-3876c92a8627\" xlink:show=\"new\" xlink:title=\"psysml:8801a447-7348-4a45-a550-3876c92a8627\" xlink:type=\"simple\"><path d=\"M814.37,210.01 C775.74,227.49 721.88,251.87 682.52,269.68 \" fill=\"none\" id=\"E3-&gt;E2\" style=\"stroke: #383838; stroke-width: 1.0;\"/><polygon fill=\"#FFFFFF\" points=\"664.23,277.96,678.6446,263.7397,684.4251,276.4906,664.23,277.96\" style=\"stroke: #383838; stroke-width: 1.0;\"/><ellipse cx=\"684.6619\" cy=\"263.2078\" fill=\"#383838\" rx=\"2\" ry=\"2\" style=\"stroke: #383838; stroke-width: 1.0;\"/><ellipse cx=\"688.7908\" cy=\"272.3156\" fill=\"#383838\" rx=\"2\" ry=\"2\" style=\"stroke: #383838; stroke-width: 1.0;\"/></a><!--MD5=[185131fc0dcab0a4505a2ebe144e961b]\n",
       "link E4 to E2--><a href=\"psysml:b9350b5a-5d8f-4ac9-a55f-8ba2d0a1e030\" target=\"_top\" title=\"psysml:b9350b5a-5d8f-4ac9-a55f-8ba2d0a1e030\" xlink:actuate=\"onRequest\" xlink:href=\"psysml:b9350b5a-5d8f-4ac9-a55f-8ba2d0a1e030\" xlink:show=\"new\" xlink:title=\"psysml:b9350b5a-5d8f-4ac9-a55f-8ba2d0a1e030\" xlink:type=\"simple\"><path d=\"M701.34,210.01 C690.26,223.08 675.91,240.01 663.06,255.17 \" fill=\"none\" id=\"E4-&gt;E2\" style=\"stroke: #383838; stroke-width: 1.0;\"/><polygon fill=\"#FFFFFF\" points=\"649.94,270.66,656.8931,251.6428,667.5691,260.6994,649.94,270.66\" style=\"stroke: #383838; stroke-width: 1.0;\"/><ellipse cx=\"662.1056\" cy=\"248.5899\" fill=\"#383838\" rx=\"2\" ry=\"2\" style=\"stroke: #383838; stroke-width: 1.0;\"/><ellipse cx=\"669.7313\" cy=\"255.059\" fill=\"#383838\" rx=\"2\" ry=\"2\" style=\"stroke: #383838; stroke-width: 1.0;\"/></a><!--MD5=[15ebcb19ae302d9b601edb458606d402]\n",
       "link E5 to E2--><a href=\"psysml:ecc21de6-0c62-41d5-be03-95573cca647a\" target=\"_top\" title=\"psysml:ecc21de6-0c62-41d5-be03-95573cca647a\" xlink:actuate=\"onRequest\" xlink:href=\"psysml:ecc21de6-0c62-41d5-be03-95573cca647a\" xlink:show=\"new\" xlink:title=\"psysml:ecc21de6-0c62-41d5-be03-95573cca647a\" xlink:type=\"simple\"><path d=\"M211.44,87.03 C135.05,111.81 38.38,155.76 85,210 C150.98,286.77 479.56,293.36 592.67,293.32 \" fill=\"none\" id=\"E5-&gt;E2\" style=\"stroke: #383838; stroke-width: 1.0; stroke-dasharray: 7.0,7.0;\"/><polygon fill=\"#383838\" points=\"597.89,293.31,588.89,289.31,592.89,293.31,588.89,297.31,597.89,293.31\" style=\"stroke: #383838; stroke-width: 1.0;\"/><text fill=\"#000000\" font-family=\"sans-serif\" font-size=\"13\" lengthAdjust=\"spacingAndGlyphs\" textLength=\"62\" x=\"86\" y=\"191.5669\">«subject»</text></a><!--MD5=[9120cf2e5df3bff93db8f754bbbc09b4]\n",
       "link E5 to E6--><a href=\"psysml:fcf6c150-3866-4336-9e66-2e65ffb041aa\" target=\"_top\" title=\"psysml:fcf6c150-3866-4336-9e66-2e65ffb041aa\" xlink:actuate=\"onRequest\" xlink:href=\"psysml:fcf6c150-3866-4336-9e66-2e65ffb041aa\" xlink:show=\"new\" xlink:title=\"psysml:fcf6c150-3866-4336-9e66-2e65ffb041aa\" xlink:type=\"simple\"><path d=\"M292,87.19 C292,106.47 292,134.55 292,155.86 \" fill=\"none\" id=\"E5-&gt;E6\" style=\"stroke: #383838; stroke-width: 1.0;\"/><polygon fill=\"#383838\" points=\"292,163.95,295,155.95,289,155.95,292,163.95\" style=\"stroke: #383838; stroke-width: 1.0;\"/><text fill=\"#000000\" font-family=\"sans-serif\" font-size=\"13\" lengthAdjust=\"spacingAndGlyphs\" textLength=\"73\" x=\"293\" y=\"130.0669\">«objective»</text></a><!--MD5=[452b418e7f8a40397a49b8c0a78acc5b]\n",
       "reverse link E5 to E7--><a href=\"psysml:afcc773f-3f6f-47e3-9b17-c2b1fd7bbdc3\" target=\"_top\" title=\"psysml:afcc773f-3f6f-47e3-9b17-c2b1fd7bbdc3\" xlink:actuate=\"onRequest\" xlink:href=\"psysml:afcc773f-3f6f-47e3-9b17-c2b1fd7bbdc3\" xlink:show=\"new\" xlink:title=\"psysml:afcc773f-3f6f-47e3-9b17-c2b1fd7bbdc3\" xlink:type=\"simple\"><path d=\"M349.39,92.78 C393.99,114.36 455.01,143.9 496.33,163.89 \" fill=\"none\" id=\"E5&lt;-E7\" style=\"stroke: #383838; stroke-width: 1.0;\"/><polygon fill=\"#FFFFFF\" points=\"337.56,87.05,341.2143,93.2666,348.3582,92.2843,344.7039,86.0677,337.56,87.05\" style=\"stroke: #383838; stroke-width: 1.0;\"/><text fill=\"#000000\" font-family=\"sans-serif\" font-size=\"13\" lengthAdjust=\"spacingAndGlyphs\" textLength=\"8\" x=\"474.9812\" y=\"152.7567\">1</text></a><!--MD5=[583832df87f4419a098336a29a52fa00]\n",
       "link E7 to E2--><a href=\"psysml:09d901e9-14a1-4a34-80ae-448f8674b33c\" target=\"_top\" title=\"psysml:09d901e9-14a1-4a34-80ae-448f8674b33c\" xlink:actuate=\"onRequest\" xlink:href=\"psysml:09d901e9-14a1-4a34-80ae-448f8674b33c\" xlink:show=\"new\" xlink:title=\"psysml:09d901e9-14a1-4a34-80ae-448f8674b33c\" xlink:type=\"simple\"><path d=\"M560.66,210.01 C571.74,223.08 586.09,240.01 598.94,255.17 \" fill=\"none\" id=\"E7-&gt;E2\" style=\"stroke: #383838; stroke-width: 1.0;\"/><polygon fill=\"#FFFFFF\" points=\"612.06,270.66,594.4309,260.6994,605.1069,251.6428,612.06,270.66\" style=\"stroke: #383838; stroke-width: 1.0;\"/><ellipse cx=\"592.2687\" cy=\"255.059\" fill=\"#383838\" rx=\"2\" ry=\"2\" style=\"stroke: #383838; stroke-width: 1.0;\"/><ellipse cx=\"599.8944\" cy=\"248.5899\" fill=\"#383838\" rx=\"2\" ry=\"2\" style=\"stroke: #383838; stroke-width: 1.0;\"/></a><!--MD5=[5dad052c0d642f4d751d1bcc20848f3c]\n",
       "@startuml\r\n",
       " skinparam monochrome true\r\n",
       "skinparam classbackgroundcolor white\r\n",
       "skinparam shadowing false\r\n",
       "skinparam wrapWidth 300\r\n",
       "hide circle\r\n",
       "\r\n",
       "package \"TradeStudyTest\" as E1  [[psysml:0d92d0af-a8c4-487d-a88b-e96d8d162758 ]]  {\r\n",
       "comp def \"Engine\" as E2  <<(T,blue) part def>> [[psysml:90b379af-84e4-4b51-bcba-9b20024a2d1f ]] {\r\n",
       "}\r\n",
       "comp usage \"engine1: Engine\" as E3  <<(T,blue) part>> [[psysml:1fe04244-3a7b-4d3a-93e0-0fd9f61a7cea ]] {\r\n",
       "}\r\n",
       "comp usage \"engine2: Engine\" as E4  <<(T,blue) part>> [[psysml:07207da4-9c20-4091-a953-293a54d08950 ]] {\r\n",
       "}\r\n",
       "comp usage \"engineTradeStudy: TradeStudy\" as E5 << analysis>> [[psysml:c0123459-da5a-4fa7-ba13-511d4e5fcdf0 ]] {\r\n",
       "}\r\n",
       "comp usage \"tradeStudyObjective: MaximizeObjective\" as E6  <<(T,blue) requirement>> [[psysml:d3ca6a29-f1f6-48ae-8677-7ec75b0f5c21 ]] {\r\n",
       "}\r\n",
       "comp usage \"selectedAlternative: Engine\" as E7  <<(T,blue) part>> [[psysml:7894e875-c3b4-453b-9dc9-b899c04487e6 ]] {\r\n",
       "}\r\n",
       "E3 - -:|> E2 [[psysml:8801a447-7348-4a45-a550-3876c92a8627 ]] \r\n",
       "E4 - -:|> E2 [[psysml:b9350b5a-5d8f-4ac9-a55f-8ba2d0a1e030 ]] \r\n",
       "E5 ..> E2 [[psysml:ecc21de6-0c62-41d5-be03-95573cca647a ]] : <<subject>>\r\n",
       "E5 - ->> E6 [[psysml:fcf6c150-3866-4336-9e66-2e65ffb041aa ]] : <<objective>>\r\n",
       "E5 o- - \"1\"E7 [[psysml:afcc773f-3f6f-47e3-9b17-c2b1fd7bbdc3 ]] \r\n",
       "E7 - -:|> E2 [[psysml:09d901e9-14a1-4a34-80ae-448f8674b33c ]] \r\n",
       "}\r\n",
       "@enduml\r\n",
       "\n",
       "PlantUML version 1.2020.13(Sat Jun 13 12:26:38 UTC 2020)\n",
       "(EPL source distribution)\n",
       "Java Runtime: OpenJDK Runtime Environment\n",
       "JVM: OpenJDK 64-Bit Server VM\n",
       "Default Encoding: UTF-8\n",
       "Language: en\n",
       "Country: null\n",
       "--></g></svg>"
      ]
     },
     "execution_count": 3,
     "metadata": {},
     "output_type": "execute_result"
    }
   ],
   "source": [
    "%viz --style=\"COMPTREE\" --view=\"Tree\" \"TradeStudyTest\""
   ]
  },
  {
   "cell_type": "code",
   "execution_count": 4,
   "id": "da7aa547",
   "metadata": {
    "execution": {
     "iopub.execute_input": "2021-08-04T06:27:37.890481Z",
     "iopub.status.busy": "2021-08-04T06:27:37.890230Z",
     "iopub.status.idle": "2021-08-04T06:27:37.897168Z",
     "shell.execute_reply": "2021-08-04T06:27:37.897497Z"
    }
   },
   "outputs": [
    {
     "data": {
      "image/svg+xml": [
       "<?xml version=\"1.0\" encoding=\"UTF-8\" standalone=\"no\"?><svg xmlns=\"http://www.w3.org/2000/svg\" xmlns:xlink=\"http://www.w3.org/1999/xlink\" contentScriptType=\"application/ecmascript\" contentStyleType=\"text/css\" height=\"12px\" preserveAspectRatio=\"none\" style=\"width:12px;height:12px;\" version=\"1.1\" viewBox=\"0 0 12 12\" width=\"12px\" zoomAndPan=\"magnify\"><defs/><g><!--MD5=[f19188ef49e11757b5c46753f95d9edc]\n",
       "@startuml\r\n",
       " skinparam monochrome true\r\n",
       "skinparam classbackgroundcolor white\r\n",
       "skinparam shadowing false\r\n",
       "skinparam wrapWidth 300\r\n",
       "hide circle\r\n",
       "\r\n",
       "@enduml\r\n",
       "\n",
       "PlantUML version 1.2020.13(Sat Jun 13 12:26:38 UTC 2020)\n",
       "(EPL source distribution)\n",
       "Java Runtime: OpenJDK Runtime Environment\n",
       "JVM: OpenJDK 64-Bit Server VM\n",
       "Default Encoding: UTF-8\n",
       "Language: en\n",
       "Country: null\n",
       "--></g></svg>"
      ]
     },
     "execution_count": 4,
     "metadata": {},
     "output_type": "execute_result"
    }
   ],
   "source": [
    "%viz --style=\"COMPTREE\" --view=\"State\" \"TradeStudyTest\""
   ]
  },
  {
   "cell_type": "code",
   "execution_count": 5,
   "id": "7f418fff",
   "metadata": {
    "execution": {
     "iopub.execute_input": "2021-08-04T06:27:37.947915Z",
     "iopub.status.busy": "2021-08-04T06:27:37.947485Z",
     "iopub.status.idle": "2021-08-04T06:27:38.009839Z",
     "shell.execute_reply": "2021-08-04T06:27:38.009469Z"
    }
   },
   "outputs": [
    {
     "data": {
      "image/svg+xml": [
       "<?xml version=\"1.0\" encoding=\"UTF-8\" standalone=\"no\"?><svg xmlns=\"http://www.w3.org/2000/svg\" xmlns:xlink=\"http://www.w3.org/1999/xlink\" contentScriptType=\"application/ecmascript\" contentStyleType=\"text/css\" height=\"334px\" preserveAspectRatio=\"none\" style=\"width:566px;height:334px;\" version=\"1.1\" viewBox=\"0 0 566 334\" width=\"566px\" zoomAndPan=\"magnify\"><defs/><g><!--MD5=[fbc87193dbaf4d95561dea2c320d4a47]\n",
       "cluster E1--><a href=\"psysml:0d92d0af-a8c4-487d-a88b-e96d8d162758\" target=\"_top\" title=\"psysml:0d92d0af-a8c4-487d-a88b-e96d8d162758\" xlink:actuate=\"onRequest\" xlink:href=\"psysml:0d92d0af-a8c4-487d-a88b-e96d8d162758\" xlink:show=\"new\" xlink:title=\"psysml:0d92d0af-a8c4-487d-a88b-e96d8d162758\" xlink:type=\"simple\"><polygon fill=\"#FFFFFF\" points=\"16,6,148,6,155,28.2969,544,28.2969,544,322,16,322,16,6\" style=\"stroke: #000000; stroke-width: 1.5;\"/><line style=\"stroke: #000000; stroke-width: 1.5;\" x1=\"16\" x2=\"155\" y1=\"28.2969\" y2=\"28.2969\"/><text fill=\"#000000\" font-family=\"sans-serif\" font-size=\"14\" font-weight=\"bold\" lengthAdjust=\"spacingAndGlyphs\" textLength=\"126\" x=\"20\" y=\"20.9951\">TradeStudyTest</text></a><!--MD5=[270fce915f116d4de14055a7c1d9a0f3]\n",
       "class E5--><a href=\"psysml:c0123459-da5a-4fa7-ba13-511d4e5fcdf0\" target=\"_top\" title=\"psysml:c0123459-da5a-4fa7-ba13-511d4e5fcdf0\" xlink:actuate=\"onRequest\" xlink:href=\"psysml:c0123459-da5a-4fa7-ba13-511d4e5fcdf0\" xlink:show=\"new\" xlink:title=\"psysml:c0123459-da5a-4fa7-ba13-511d4e5fcdf0\" xlink:type=\"simple\"><rect fill=\"#FFFFFF\" height=\"45.9375\" id=\"E5\" rx=\"10\" ry=\"10\" style=\"stroke: #383838; stroke-width: 1.5;\" width=\"199\" x=\"328.5\" y=\"41\"/><text fill=\"#000000\" font-family=\"sans-serif\" font-size=\"12\" font-style=\"italic\" lengthAdjust=\"spacingAndGlyphs\" textLength=\"64\" x=\"396\" y=\"57.1387\">«analysis»</text><text fill=\"#000000\" font-family=\"sans-serif\" font-size=\"12\" lengthAdjust=\"spacingAndGlyphs\" textLength=\"193\" x=\"331.5\" y=\"71.1074\">engineTradeStudy: TradeStudy</text><line style=\"stroke: #383838; stroke-width: 1.5;\" x1=\"329.5\" x2=\"526.5\" y1=\"78.9375\" y2=\"78.9375\"/></a><!--MD5=[60a26617385b1d2d0262a64233df1f8d]\n",
       "class E6--><a href=\"psysml:d3ca6a29-f1f6-48ae-8677-7ec75b0f5c21\" target=\"_top\" title=\"psysml:d3ca6a29-f1f6-48ae-8677-7ec75b0f5c21\" xlink:actuate=\"onRequest\" xlink:href=\"psysml:d3ca6a29-f1f6-48ae-8677-7ec75b0f5c21\" xlink:show=\"new\" xlink:title=\"psysml:d3ca6a29-f1f6-48ae-8677-7ec75b0f5c21\" xlink:type=\"simple\"><rect fill=\"#FFFFFF\" height=\"45.9375\" id=\"E6\" rx=\"10\" ry=\"10\" style=\"stroke: #383838; stroke-width: 1.5;\" width=\"251\" x=\"32.5\" y=\"120\"/><text fill=\"#000000\" font-family=\"sans-serif\" font-size=\"12\" font-style=\"italic\" lengthAdjust=\"spacingAndGlyphs\" textLength=\"91\" x=\"112.5\" y=\"136.1387\">«requirement»</text><text fill=\"#000000\" font-family=\"sans-serif\" font-size=\"12\" lengthAdjust=\"spacingAndGlyphs\" textLength=\"245\" x=\"35.5\" y=\"150.1074\">tradeStudyObjective: MaximizeObjective</text><line style=\"stroke: #383838; stroke-width: 1.5;\" x1=\"33.5\" x2=\"282.5\" y1=\"157.9375\" y2=\"157.9375\"/></a><!--MD5=[2156ba9850f5573cc1fc38a6a4b2f02b]\n",
       "class E7--><a href=\"psysml:f099413c-f817-477f-a757-2c07f6450928\" target=\"_top\" title=\"psysml:f099413c-f817-477f-a757-2c07f6450928\" xlink:actuate=\"onRequest\" xlink:href=\"psysml:f099413c-f817-477f-a757-2c07f6450928\" xlink:show=\"new\" xlink:title=\"psysml:f099413c-f817-477f-a757-2c07f6450928\" xlink:type=\"simple\"><rect fill=\"#FFFFFF\" height=\"45.9375\" id=\"E7\" rx=\"10\" ry=\"10\" style=\"stroke: #383838; stroke-width: 1.5;\" width=\"116\" x=\"319\" y=\"120\"/><text fill=\"#000000\" font-family=\"sans-serif\" font-size=\"12\" font-style=\"italic\" lengthAdjust=\"spacingAndGlyphs\" textLength=\"82\" x=\"336\" y=\"136.1387\">«calculation»</text><text fill=\"#000000\" font-family=\"sans-serif\" font-size=\"12\" lengthAdjust=\"spacingAndGlyphs\" textLength=\"110\" x=\"322\" y=\"150.1074\">objectiveFunction</text><line style=\"stroke: #383838; stroke-width: 1.5;\" x1=\"320\" x2=\"434\" y1=\"157.9375\" y2=\"157.9375\"/></a><!--MD5=[b9389687b975829384b498ac4b7476b2]\n",
       "class E8--><a href=\"psysml:26f566d1-080d-4e4d-ba32-38c38fdc0bde\" target=\"_top\" title=\"psysml:26f566d1-080d-4e4d-ba32-38c38fdc0bde\" xlink:actuate=\"onRequest\" xlink:href=\"psysml:26f566d1-080d-4e4d-ba32-38c38fdc0bde\" xlink:show=\"new\" xlink:title=\"psysml:26f566d1-080d-4e4d-ba32-38c38fdc0bde\" xlink:type=\"simple\"><rect fill=\"#FFFFFF\" height=\"31.9688\" id=\"E8\" rx=\"10\" ry=\"10\" style=\"stroke: #383838; stroke-width: 1.5;\" width=\"124\" x=\"178\" y=\"214\"/><text fill=\"#000000\" font-family=\"sans-serif\" font-size=\"12\" lengthAdjust=\"spacingAndGlyphs\" textLength=\"118\" x=\"181\" y=\"230.1387\">alternative: Engine</text><line style=\"stroke: #383838; stroke-width: 1.5;\" x1=\"179\" x2=\"301\" y1=\"237.9688\" y2=\"237.9688\"/></a><!--MD5=[fd4143e9d270a159db93a4ea2a975926]\n",
       "class E9--><a href=\"psysml:7894e875-c3b4-453b-9dc9-b899c04487e6\" target=\"_top\" title=\"psysml:7894e875-c3b4-453b-9dc9-b899c04487e6\" xlink:actuate=\"onRequest\" xlink:href=\"psysml:7894e875-c3b4-453b-9dc9-b899c04487e6\" xlink:show=\"new\" xlink:title=\"psysml:7894e875-c3b4-453b-9dc9-b899c04487e6\" xlink:type=\"simple\"><rect fill=\"#FFFFFF\" height=\"31.9688\" id=\"E9\" rx=\"10\" ry=\"10\" style=\"stroke: #383838; stroke-width: 1.5;\" width=\"178\" x=\"246\" y=\"174\"/><text fill=\"#000000\" font-family=\"sans-serif\" font-size=\"12\" lengthAdjust=\"spacingAndGlyphs\" textLength=\"172\" x=\"249\" y=\"190.1387\">selectedAlternative: Engine</text><line style=\"stroke: #383838; stroke-width: 1.5;\" x1=\"247\" x2=\"423\" y1=\"197.9688\" y2=\"197.9688\"/></a><g id=\"E1.E2\"><a href=\"psysml:90b379af-84e4-4b51-bcba-9b20024a2d1f\" target=\"_top\" title=\"psysml:90b379af-84e4-4b51-bcba-9b20024a2d1f\" xlink:actuate=\"onRequest\" xlink:href=\"psysml:90b379af-84e4-4b51-bcba-9b20024a2d1f\" xlink:show=\"new\" xlink:title=\"psysml:90b379af-84e4-4b51-bcba-9b20024a2d1f\" xlink:type=\"simple\"><rect fill=\"#FFFFFF\" height=\"42.9375\" id=\"E2\" style=\"stroke: #383838; stroke-width: 1.5;\" width=\"71\" x=\"302.5\" y=\"263\"/><rect fill=\"#F8F8F8\" height=\"37.9375\" style=\"stroke: #383838; stroke-width: 1.5;\" width=\"71\" x=\"302.5\" y=\"263\"/><text fill=\"#000000\" font-family=\"sans-serif\" font-size=\"12\" font-style=\"italic\" lengthAdjust=\"spacingAndGlyphs\" textLength=\"64\" x=\"306\" y=\"279.1387\">«part def»</text><text fill=\"#000000\" font-family=\"sans-serif\" font-size=\"12\" lengthAdjust=\"spacingAndGlyphs\" textLength=\"43\" x=\"316.5\" y=\"293.1074\">Engine</text></a></g><g id=\"E1.E3\"><a href=\"psysml:1fe04244-3a7b-4d3a-93e0-0fd9f61a7cea\" target=\"_top\" title=\"psysml:1fe04244-3a7b-4d3a-93e0-0fd9f61a7cea\" xlink:actuate=\"onRequest\" xlink:href=\"psysml:1fe04244-3a7b-4d3a-93e0-0fd9f61a7cea\" xlink:show=\"new\" xlink:title=\"psysml:1fe04244-3a7b-4d3a-93e0-0fd9f61a7cea\" xlink:type=\"simple\"><rect fill=\"#FFFFFF\" height=\"40\" id=\"E3\" rx=\"10\" ry=\"10\" style=\"stroke: #383838; stroke-width: 1.5;\" width=\"113\" x=\"180.5\" y=\"44\"/><rect fill=\"#F8F8F8\" height=\"23.9688\" rx=\"10\" ry=\"10\" style=\"stroke: #F8F8F8; stroke-width: 1.5;\" width=\"113\" x=\"180.5\" y=\"44\"/><rect fill=\"#F8F8F8\" height=\"10\" style=\"stroke: #F8F8F8; stroke-width: 1.5;\" width=\"113\" x=\"180.5\" y=\"57.9688\"/><rect fill=\"none\" height=\"40\" id=\"E3\" rx=\"10\" ry=\"10\" style=\"stroke: #383838; stroke-width: 1.5;\" width=\"113\" x=\"180.5\" y=\"44\"/><text fill=\"#000000\" font-family=\"sans-serif\" font-size=\"12\" lengthAdjust=\"spacingAndGlyphs\" textLength=\"102\" x=\"186\" y=\"60.1387\">engine1: Engine</text></a></g><g id=\"E1.E4\"><a href=\"psysml:07207da4-9c20-4091-a953-293a54d08950\" target=\"_top\" title=\"psysml:07207da4-9c20-4091-a953-293a54d08950\" xlink:actuate=\"onRequest\" xlink:href=\"psysml:07207da4-9c20-4091-a953-293a54d08950\" xlink:show=\"new\" xlink:title=\"psysml:07207da4-9c20-4091-a953-293a54d08950\" xlink:type=\"simple\"><rect fill=\"#FFFFFF\" height=\"40\" id=\"E4\" rx=\"10\" ry=\"10\" style=\"stroke: #383838; stroke-width: 1.5;\" width=\"113\" x=\"32.5\" y=\"44\"/><rect fill=\"#F8F8F8\" height=\"23.9688\" rx=\"10\" ry=\"10\" style=\"stroke: #F8F8F8; stroke-width: 1.5;\" width=\"113\" x=\"32.5\" y=\"44\"/><rect fill=\"#F8F8F8\" height=\"10\" style=\"stroke: #F8F8F8; stroke-width: 1.5;\" width=\"113\" x=\"32.5\" y=\"57.9688\"/><rect fill=\"none\" height=\"40\" id=\"E4\" rx=\"10\" ry=\"10\" style=\"stroke: #383838; stroke-width: 1.5;\" width=\"113\" x=\"32.5\" y=\"44\"/><text fill=\"#000000\" font-family=\"sans-serif\" font-size=\"12\" lengthAdjust=\"spacingAndGlyphs\" textLength=\"102\" x=\"38\" y=\"60.1387\">engine2: Engine</text></a></g><!--MD5=[15ebcb19ae302d9b601edb458606d402]\n",
       "link E5 to E2--><a href=\"psysml:ecc21de6-0c62-41d5-be03-95573cca647a\" target=\"_top\" title=\"psysml:ecc21de6-0c62-41d5-be03-95573cca647a\" xlink:actuate=\"onRequest\" xlink:href=\"psysml:ecc21de6-0c62-41d5-be03-95573cca647a\" xlink:show=\"new\" xlink:title=\"psysml:ecc21de6-0c62-41d5-be03-95573cca647a\" xlink:type=\"simple\"><path d=\"M454.33,87.05 C456.45,89.57 458.39,92.23 460,95 C475.92,122.38 478.3,136.82 466,166 C448.69,207.07 408.73,239.87 378.03,260.26 \" fill=\"none\" id=\"E5-&gt;E2\" style=\"stroke: #383838; stroke-width: 1.0; stroke-dasharray: 7.0,7.0;\"/><polygon fill=\"#383838\" points=\"373.57,263.18,383.2939,261.6161,377.7586,260.4495,378.9251,254.9143,373.57,263.18\" style=\"stroke: #383838; stroke-width: 1.0;\"/><text fill=\"#000000\" font-family=\"sans-serif\" font-size=\"13\" lengthAdjust=\"spacingAndGlyphs\" textLength=\"62\" x=\"463\" y=\"194.5669\">«subject»</text></a><!--MD5=[9120cf2e5df3bff93db8f754bbbc09b4]\n",
       "link E5 to E6--><a href=\"psysml:fcf6c150-3866-4336-9e66-2e65ffb041aa\" target=\"_top\" title=\"psysml:fcf6c150-3866-4336-9e66-2e65ffb041aa\" xlink:actuate=\"onRequest\" xlink:href=\"psysml:fcf6c150-3866-4336-9e66-2e65ffb041aa\" xlink:show=\"new\" xlink:title=\"psysml:fcf6c150-3866-4336-9e66-2e65ffb041aa\" xlink:type=\"simple\"><path d=\"M342.94,87.03 C333.16,89.67 323.36,92.36 314,95 C288.94,102.07 261.74,110.13 237.17,117.56 \" fill=\"none\" id=\"E5-&gt;E6\" style=\"stroke: #383838; stroke-width: 1.0;\"/><polygon fill=\"#383838\" points=\"229.29,119.94,237.8158,120.4972,236.0799,114.7538,229.29,119.94\" style=\"stroke: #383838; stroke-width: 1.0;\"/><text fill=\"#000000\" font-family=\"sans-serif\" font-size=\"13\" lengthAdjust=\"spacingAndGlyphs\" textLength=\"73\" x=\"315\" y=\"108.0669\">«objective»</text></a><!--MD5=[452b418e7f8a40397a49b8c0a78acc5b]\n",
       "reverse link E5 to E7--><a href=\"psysml:a988c065-f70c-4bb4-ab6a-fca08357bc4a\" target=\"_top\" title=\"psysml:a988c065-f70c-4bb4-ab6a-fca08357bc4a\" xlink:actuate=\"onRequest\" xlink:href=\"psysml:a988c065-f70c-4bb4-ab6a-fca08357bc4a\" xlink:show=\"new\" xlink:title=\"psysml:a988c065-f70c-4bb4-ab6a-fca08357bc4a\" xlink:type=\"simple\"><path d=\"M405.93,98.32 C401.13,105.57 396.16,113.08 391.72,119.78 \" fill=\"none\" id=\"E5&lt;-E7\" style=\"stroke: #383838; stroke-width: 1.0;\"/><polygon fill=\"#383838\" points=\"413.25,87.27,406.6021,90.0638,406.6241,97.2749,413.272,94.4811,413.25,87.27\" style=\"stroke: #383838; stroke-width: 1.0;\"/></a><!--MD5=[dc164f5e8a733ab456ef1add180e9e34]\n",
       "reverse link E7 to E8--><a href=\"psysml:4295af6e-acd7-489b-9191-c25409e1351b\" target=\"_top\" title=\"psysml:4295af6e-acd7-489b-9191-c25409e1351b\" xlink:actuate=\"onRequest\" xlink:href=\"psysml:4295af6e-acd7-489b-9191-c25409e1351b\" xlink:show=\"new\" xlink:title=\"psysml:4295af6e-acd7-489b-9191-c25409e1351b\" xlink:type=\"simple\"><path d=\"M305.92,164.91 C304.26,165.29 302.62,165.65 301,166 C288.71,168.64 253.66,164.89 245,174 C235.09,184.43 235.08,201.52 236.77,213.88 \" fill=\"none\" id=\"E7&lt;-E8\" style=\"stroke: #383838; stroke-width: 1.0;\"/><polygon fill=\"#FFFFFF\" points=\"318.71,161.77,311.9314,159.3102,307.0537,164.6214,313.8323,167.0811,318.71,161.77\" style=\"stroke: #383838; stroke-width: 1.0;\"/><text fill=\"#000000\" font-family=\"sans-serif\" font-size=\"13\" lengthAdjust=\"spacingAndGlyphs\" textLength=\"8\" x=\"226.2847\" y=\"202.8557\">1</text></a><!--MD5=[f1f3f9f2fc535e6147756cb86a7f2e32]\n",
       "link E8 to E2--><a href=\"psysml:aed7fba6-fc0e-4a29-a473-c7d943b57344\" target=\"_top\" title=\"psysml:aed7fba6-fc0e-4a29-a473-c7d943b57344\" xlink:actuate=\"onRequest\" xlink:href=\"psysml:aed7fba6-fc0e-4a29-a473-c7d943b57344\" xlink:show=\"new\" xlink:title=\"psysml:aed7fba6-fc0e-4a29-a473-c7d943b57344\" xlink:type=\"simple\"><path d=\"M268.08,246.04 C273.23,248.8 278.76,251.77 284.38,254.77 \" fill=\"none\" id=\"E8-&gt;E2\" style=\"stroke: #383838; stroke-width: 1.0;\"/><polygon fill=\"#FFFFFF\" points=\"302.21,264.33,282.1553,261.5358,288.7616,249.1926,302.21,264.33\" style=\"stroke: #383838; stroke-width: 1.0;\"/><ellipse cx=\"278.0736\" cy=\"257.0828\" fill=\"#383838\" rx=\"2\" ry=\"2\" style=\"stroke: #383838; stroke-width: 1.0;\"/><ellipse cx=\"282.7924\" cy=\"248.2661\" fill=\"#383838\" rx=\"2\" ry=\"2\" style=\"stroke: #383838; stroke-width: 1.0;\"/></a><!--MD5=[9ae28de373ca99bb8a1b38d63370ca7e]\n",
       "reverse link E5 to E9--><a href=\"psysml:afcc773f-3f6f-47e3-9b17-c2b1fd7bbdc3\" target=\"_top\" title=\"psysml:afcc773f-3f6f-47e3-9b17-c2b1fd7bbdc3\" xlink:actuate=\"onRequest\" xlink:href=\"psysml:afcc773f-3f6f-47e3-9b17-c2b1fd7bbdc3\" xlink:show=\"new\" xlink:title=\"psysml:afcc773f-3f6f-47e3-9b17-c2b1fd7bbdc3\" xlink:type=\"simple\"><path d=\"M449.82,98.65 C460.68,120.03 468.53,147.15 453,166 C451.62,167.67 438.74,170.68 421.94,173.98 \" fill=\"none\" id=\"E5&lt;-E9\" style=\"stroke: #383838; stroke-width: 1.0;\"/><polygon fill=\"#FFFFFF\" points=\"443.41,87.13,442.8257,94.3174,449.2355,97.6211,449.8198,90.4337,443.41,87.13\" style=\"stroke: #383838; stroke-width: 1.0;\"/><text fill=\"#000000\" font-family=\"sans-serif\" font-size=\"13\" lengthAdjust=\"spacingAndGlyphs\" textLength=\"8\" x=\"431.8866\" y=\"185.124\">1</text></a><!--MD5=[5c3bb36fe832a92c7f0e1807dd65209d]\n",
       "link E9 to E2--><a href=\"psysml:09d901e9-14a1-4a34-80ae-448f8674b33c\" target=\"_top\" title=\"psysml:09d901e9-14a1-4a34-80ae-448f8674b33c\" xlink:actuate=\"onRequest\" xlink:href=\"psysml:09d901e9-14a1-4a34-80ae-448f8674b33c\" xlink:show=\"new\" xlink:title=\"psysml:09d901e9-14a1-4a34-80ae-448f8674b33c\" xlink:type=\"simple\"><path d=\"M335.5,206.27 C335.82,216.14 336.25,229.48 336.66,242.29 \" fill=\"none\" id=\"E9-&gt;E2\" style=\"stroke: #383838; stroke-width: 1.0;\"/><polygon fill=\"#FFFFFF\" points=\"337.32,262.66,329.7128,243.8949,343.7055,243.4448,337.32,262.66\" style=\"stroke: #383838; stroke-width: 1.0;\"/><ellipse cx=\"331.5285\" cy=\"238.1335\" fill=\"#383838\" rx=\"2\" ry=\"2\" style=\"stroke: #383838; stroke-width: 1.0;\"/><ellipse cx=\"341.5233\" cy=\"237.812\" fill=\"#383838\" rx=\"2\" ry=\"2\" style=\"stroke: #383838; stroke-width: 1.0;\"/></a><!--MD5=[63e2d2a517644751f951e6ae2b02511b]\n",
       "@startuml\r\n",
       "skinparam ranksep 10\r\n",
       "skinparam rectangle {\r\n",
       " backgroundColor<<block>> LightGreen\r\n",
       "}\r\n",
       " skinparam monochrome true\r\n",
       "skinparam classbackgroundcolor white\r\n",
       "skinparam shadowing false\r\n",
       "skinparam wrapWidth 300\r\n",
       "hide circle\r\n",
       "\r\n",
       "package \"TradeStudyTest\" as E1  [[psysml:0d92d0af-a8c4-487d-a88b-e96d8d162758 ]]  {\r\n",
       "rec def \"Engine\" as E2  <<(T,blue) part def>> [[psysml:90b379af-84e4-4b51-bcba-9b20024a2d1f ]] {\r\n",
       "}\r\n",
       "rec usage \"engine1: Engine\" as E3  [[psysml:1fe04244-3a7b-4d3a-93e0-0fd9f61a7cea ]] {\r\n",
       "}\r\n",
       "rec usage \"engine2: Engine\" as E4  [[psysml:07207da4-9c20-4091-a953-293a54d08950 ]] {\r\n",
       "}\r\n",
       "comp usage \"engineTradeStudy: TradeStudy\" as E5 << analysis>> [[psysml:c0123459-da5a-4fa7-ba13-511d4e5fcdf0 ]] {\r\n",
       "}\r\n",
       "comp usage \"tradeStudyObjective: MaximizeObjective\" as E6  <<(T,blue) requirement>> [[psysml:d3ca6a29-f1f6-48ae-8677-7ec75b0f5c21 ]] {\r\n",
       "}\r\n",
       "comp usage \"objectiveFunction\" as E7  <<(T,blue) calculation>> [[psysml:f099413c-f817-477f-a757-2c07f6450928 ]] {\r\n",
       "}\r\n",
       "comp usage \"alternative: Engine\" as E8  [[psysml:26f566d1-080d-4e4d-ba32-38c38fdc0bde ]] {\r\n",
       "}\r\n",
       "comp usage \"selectedAlternative: Engine\" as E9  [[psysml:7894e875-c3b4-453b-9dc9-b899c04487e6 ]] {\r\n",
       "}\r\n",
       "E5 ..> E2 [[psysml:ecc21de6-0c62-41d5-be03-95573cca647a ]] : <<subject>>\r\n",
       "E5 - ->> E6 [[psysml:fcf6c150-3866-4336-9e66-2e65ffb041aa ]] : <<objective>>\r\n",
       "E5 *- - E7 [[psysml:a988c065-f70c-4bb4-ab6a-fca08357bc4a ]] \r\n",
       "E7 o- - \"1\"E8 [[psysml:4295af6e-acd7-489b-9191-c25409e1351b ]] \r\n",
       "E8 - -:|> E2 [[psysml:aed7fba6-fc0e-4a29-a473-c7d943b57344 ]] \r\n",
       "E5 o- - \"1\"E9 [[psysml:afcc773f-3f6f-47e3-9b17-c2b1fd7bbdc3 ]] \r\n",
       "E9 - -:|> E2 [[psysml:09d901e9-14a1-4a34-80ae-448f8674b33c ]] \r\n",
       "}\r\n",
       "@enduml\r\n",
       "\n",
       "PlantUML version 1.2020.13(Sat Jun 13 12:26:38 UTC 2020)\n",
       "(EPL source distribution)\n",
       "Java Runtime: OpenJDK Runtime Environment\n",
       "JVM: OpenJDK 64-Bit Server VM\n",
       "Default Encoding: UTF-8\n",
       "Language: en\n",
       "Country: null\n",
       "--></g></svg>"
      ]
     },
     "execution_count": 5,
     "metadata": {},
     "output_type": "execute_result"
    }
   ],
   "source": [
    "%viz --style=\"COMPTREE\" --view=\"Interconnection\" \"TradeStudyTest\""
   ]
  },
  {
   "cell_type": "code",
   "execution_count": 6,
   "id": "a189eb5d",
   "metadata": {
    "execution": {
     "iopub.execute_input": "2021-08-04T06:27:38.059588Z",
     "iopub.status.busy": "2021-08-04T06:27:38.059176Z",
     "iopub.status.idle": "2021-08-04T06:27:38.103190Z",
     "shell.execute_reply": "2021-08-04T06:27:38.103510Z"
    }
   },
   "outputs": [
    {
     "data": {
      "image/svg+xml": [
       "<?xml version=\"1.0\" encoding=\"UTF-8\" standalone=\"no\"?><svg xmlns=\"http://www.w3.org/2000/svg\" xmlns:xlink=\"http://www.w3.org/1999/xlink\" contentScriptType=\"application/ecmascript\" contentStyleType=\"text/css\" height=\"178px\" preserveAspectRatio=\"none\" style=\"width:393px;height:178px;\" version=\"1.1\" viewBox=\"0 0 393 178\" width=\"393px\" zoomAndPan=\"magnify\"><defs/><g><!--MD5=[fbc87193dbaf4d95561dea2c320d4a47]\n",
       "cluster E1--><a href=\"psysml:c0123459-da5a-4fa7-ba13-511d4e5fcdf0\" target=\"_top\" title=\"psysml:c0123459-da5a-4fa7-ba13-511d4e5fcdf0\" xlink:actuate=\"onRequest\" xlink:href=\"psysml:c0123459-da5a-4fa7-ba13-511d4e5fcdf0\" xlink:show=\"new\" xlink:title=\"psysml:c0123459-da5a-4fa7-ba13-511d4e5fcdf0\" xlink:type=\"simple\"><rect fill=\"#FFFFFF\" height=\"103.72\" id=\"E1\" rx=\"10\" ry=\"10\" style=\"stroke: #383838; stroke-width: 1.5;\" width=\"354\" x=\"16.5\" y=\"42.0986\"/><rect fill=\"#F8F8F8\" height=\"37.9375\" rx=\"10\" ry=\"10\" style=\"stroke: #F8F8F8; stroke-width: 1.5;\" width=\"354\" x=\"16.5\" y=\"42.0986\"/><rect fill=\"#F8F8F8\" height=\"10\" style=\"stroke: #F8F8F8; stroke-width: 1.5;\" width=\"354\" x=\"16.5\" y=\"70.0361\"/><rect fill=\"none\" height=\"103.72\" id=\"E1\" rx=\"10\" ry=\"10\" style=\"stroke: #383838; stroke-width: 1.5;\" width=\"354\" x=\"16.5\" y=\"42.0986\"/><text fill=\"#000000\" font-family=\"sans-serif\" font-size=\"12\" font-style=\"italic\" lengthAdjust=\"spacingAndGlyphs\" textLength=\"64\" x=\"161.5\" y=\"58.2373\">«analysis»</text><text fill=\"#000000\" font-family=\"sans-serif\" font-size=\"12\" lengthAdjust=\"spacingAndGlyphs\" textLength=\"114\" x=\"136.5\" y=\"72.2061\">engineTradeStudy</text><line style=\"stroke: #383838; stroke-width: 1.0;\" x1=\"16.5\" x2=\"370.5\" y1=\"80.0361\" y2=\"80.0361\"/></a><!--MD5=[d5e69f78d87373223dbae638b30a9c99]\n",
       "cluster E3--><a href=\"psysml:f099413c-f817-477f-a757-2c07f6450928\" target=\"_top\" title=\"psysml:f099413c-f817-477f-a757-2c07f6450928\" xlink:actuate=\"onRequest\" xlink:href=\"psysml:f099413c-f817-477f-a757-2c07f6450928\" xlink:show=\"new\" xlink:title=\"psysml:f099413c-f817-477f-a757-2c07f6450928\" xlink:type=\"simple\"><rect fill=\"#FFFFFF\" height=\"81.72\" id=\"E3\" rx=\"10\" ry=\"10\" style=\"stroke: #383838; stroke-width: 1.5;\" width=\"150\" x=\"200.5\" y=\"64.0986\"/><rect fill=\"#F8F8F8\" height=\"37.9375\" rx=\"10\" ry=\"10\" style=\"stroke: #F8F8F8; stroke-width: 1.5;\" width=\"150\" x=\"200.5\" y=\"64.0986\"/><rect fill=\"#F8F8F8\" height=\"10\" style=\"stroke: #F8F8F8; stroke-width: 1.5;\" width=\"150\" x=\"200.5\" y=\"92.0361\"/><rect fill=\"none\" height=\"81.72\" id=\"E3\" rx=\"10\" ry=\"10\" style=\"stroke: #383838; stroke-width: 1.5;\" width=\"150\" x=\"200.5\" y=\"64.0986\"/><text fill=\"#000000\" font-family=\"sans-serif\" font-size=\"12\" font-style=\"italic\" lengthAdjust=\"spacingAndGlyphs\" textLength=\"82\" x=\"234.5\" y=\"80.2373\">«calculation»</text><text fill=\"#000000\" font-family=\"sans-serif\" font-size=\"12\" lengthAdjust=\"spacingAndGlyphs\" textLength=\"110\" x=\"220.5\" y=\"94.2061\">objectiveFunction</text><line style=\"stroke: #383838; stroke-width: 1.0;\" x1=\"200.5\" x2=\"350.5\" y1=\"102.0361\" y2=\"102.0361\"/></a><text fill=\"#000000\" font-family=\"sans-serif\" font-size=\"14\" lengthAdjust=\"spacingAndGlyphs\" textLength=\"57\" x=\"6\" y=\"20.7969\">noname</text><rect fill=\"#383838\" height=\"12\" style=\"stroke: #F8F8F8; stroke-width: 1.5;\" width=\"12\" x=\"28.5\" y=\"36.0986\"/><text fill=\"#000000\" font-family=\"sans-serif\" font-size=\"14\" lengthAdjust=\"spacingAndGlyphs\" textLength=\"57\" x=\"324\" y=\"164.8138\">noname</text><rect fill=\"#383838\" height=\"12\" style=\"stroke: #F8F8F8; stroke-width: 1.5;\" width=\"12\" x=\"346.5\" y=\"139.8186\"/><text fill=\"#000000\" font-family=\"sans-serif\" font-size=\"14\" lengthAdjust=\"spacingAndGlyphs\" textLength=\"57\" x=\"194\" y=\"164.8138\">noname</text><rect fill=\"#383838\" height=\"12\" style=\"stroke: #F8F8F8; stroke-width: 1.5;\" width=\"12\" x=\"216.5\" y=\"139.8186\"/><!--MD5=[0549b7cfc3f79970bbb9d2e7981d6266]\n",
       "@startuml\r\n",
       "skinparam ranksep 8\r\n",
       " skinparam monochrome true\r\n",
       "skinparam classbackgroundcolor white\r\n",
       "skinparam shadowing false\r\n",
       "skinparam wrapWidth 300\r\n",
       "hide circle\r\n",
       "\r\n",
       "rec usage \"engineTradeStudy\" as E1 << analysis>> [[psysml:c0123459-da5a-4fa7-ba13-511d4e5fcdf0 ]] {\r\n",
       "portin \"noname\" as E2  [[psysml:210e0914-9352-49ef-884c-3efb23c87d05 ]] \r\n",
       "rec usage \"objectiveFunction\" as E3  <<(T,blue) calculation>> [[psysml:f099413c-f817-477f-a757-2c07f6450928 ]] {\r\n",
       "portout \"noname\" as E4  [[psysml:cddfcd13-7814-4ab4-947c-703e6331ff4e ]] \r\n",
       "}\r\n",
       "\r\n",
       "portout \"noname\" as E5  [[psysml:7894e875-c3b4-453b-9dc9-b899c04487e6 ]] \r\n",
       "}\r\n",
       "\r\n",
       "@enduml\r\n",
       "\n",
       "PlantUML version 1.2020.13(Sat Jun 13 12:26:38 UTC 2020)\n",
       "(EPL source distribution)\n",
       "Java Runtime: OpenJDK Runtime Environment\n",
       "JVM: OpenJDK 64-Bit Server VM\n",
       "Default Encoding: UTF-8\n",
       "Language: en\n",
       "Country: null\n",
       "--></g></svg>"
      ]
     },
     "execution_count": 6,
     "metadata": {},
     "output_type": "execute_result"
    }
   ],
   "source": [
    "%viz --style=\"COMPTREE\" --view=\"Action\" \"TradeStudyTest\""
   ]
  },
  {
   "cell_type": "code",
   "execution_count": 7,
   "id": "5f67a53a",
   "metadata": {
    "execution": {
     "iopub.execute_input": "2021-08-04T06:27:38.154035Z",
     "iopub.status.busy": "2021-08-04T06:27:38.153626Z",
     "iopub.status.idle": "2021-08-04T06:27:38.201412Z",
     "shell.execute_reply": "2021-08-04T06:27:38.200126Z"
    }
   },
   "outputs": [
    {
     "data": {
      "image/svg+xml": [
       "<?xml version=\"1.0\" encoding=\"UTF-8\" standalone=\"no\"?><svg xmlns=\"http://www.w3.org/2000/svg\" xmlns:xlink=\"http://www.w3.org/1999/xlink\" contentScriptType=\"application/ecmascript\" contentStyleType=\"text/css\" height=\"345px\" preserveAspectRatio=\"none\" style=\"width:955px;height:345px;\" version=\"1.1\" viewBox=\"0 0 955 345\" width=\"955px\" zoomAndPan=\"magnify\"><defs/><g><!--MD5=[fbc87193dbaf4d95561dea2c320d4a47]\n",
       "cluster E1--><a href=\"psysml:0d92d0af-a8c4-487d-a88b-e96d8d162758\" target=\"_top\" title=\"psysml:0d92d0af-a8c4-487d-a88b-e96d8d162758\" xlink:actuate=\"onRequest\" xlink:href=\"psysml:0d92d0af-a8c4-487d-a88b-e96d8d162758\" xlink:show=\"new\" xlink:title=\"psysml:0d92d0af-a8c4-487d-a88b-e96d8d162758\" xlink:type=\"simple\"><polygon fill=\"#FFFFFF\" points=\"16,6,148,6,155,28.2969,933,28.2969,933,333,16,333,16,6\" style=\"stroke: #000000; stroke-width: 1.5;\"/><line style=\"stroke: #000000; stroke-width: 1.5;\" x1=\"16\" x2=\"155\" y1=\"28.2969\" y2=\"28.2969\"/><text fill=\"#000000\" font-family=\"sans-serif\" font-size=\"14\" font-weight=\"bold\" lengthAdjust=\"spacingAndGlyphs\" textLength=\"126\" x=\"20\" y=\"20.9951\">TradeStudyTest</text></a><!--MD5=[b4997ac47864f28c2f74865a473b2911]\n",
       "class E2--><a href=\"psysml:90b379af-84e4-4b51-bcba-9b20024a2d1f\" target=\"_top\" title=\"psysml:90b379af-84e4-4b51-bcba-9b20024a2d1f\" xlink:actuate=\"onRequest\" xlink:href=\"psysml:90b379af-84e4-4b51-bcba-9b20024a2d1f\" xlink:show=\"new\" xlink:title=\"psysml:90b379af-84e4-4b51-bcba-9b20024a2d1f\" xlink:type=\"simple\"><rect fill=\"#FFFFFF\" height=\"45.9375\" id=\"E2\" style=\"stroke: #383838; stroke-width: 1.5;\" width=\"66\" x=\"598\" y=\"271\"/><text fill=\"#000000\" font-family=\"sans-serif\" font-size=\"12\" font-style=\"italic\" lengthAdjust=\"spacingAndGlyphs\" textLength=\"64\" x=\"599\" y=\"287.1387\">«part def»</text><text fill=\"#000000\" font-family=\"sans-serif\" font-size=\"12\" lengthAdjust=\"spacingAndGlyphs\" textLength=\"43\" x=\"609.5\" y=\"301.1074\">Engine</text><line style=\"stroke: #383838; stroke-width: 1.5;\" x1=\"599\" x2=\"663\" y1=\"308.9375\" y2=\"308.9375\"/></a><!--MD5=[09b614a08d8cba4a07c9adeb5e0fee81]\n",
       "class E3--><a href=\"psysml:1fe04244-3a7b-4d3a-93e0-0fd9f61a7cea\" target=\"_top\" title=\"psysml:1fe04244-3a7b-4d3a-93e0-0fd9f61a7cea\" xlink:actuate=\"onRequest\" xlink:href=\"psysml:1fe04244-3a7b-4d3a-93e0-0fd9f61a7cea\" xlink:show=\"new\" xlink:title=\"psysml:1fe04244-3a7b-4d3a-93e0-0fd9f61a7cea\" xlink:type=\"simple\"><rect fill=\"#FFFFFF\" height=\"45.9375\" id=\"E3\" rx=\"10\" ry=\"10\" style=\"stroke: #383838; stroke-width: 1.5;\" width=\"108\" x=\"809\" y=\"164\"/><text fill=\"#000000\" font-family=\"sans-serif\" font-size=\"12\" font-style=\"italic\" lengthAdjust=\"spacingAndGlyphs\" textLength=\"40\" x=\"843\" y=\"180.1387\">«part»</text><text fill=\"#000000\" font-family=\"sans-serif\" font-size=\"12\" lengthAdjust=\"spacingAndGlyphs\" textLength=\"102\" x=\"812\" y=\"194.1074\">engine1: Engine</text><line style=\"stroke: #383838; stroke-width: 1.5;\" x1=\"810\" x2=\"916\" y1=\"201.9375\" y2=\"201.9375\"/></a><!--MD5=[ebbe1d658d1005bcc118a6aa81145e00]\n",
       "class E4--><a href=\"psysml:07207da4-9c20-4091-a953-293a54d08950\" target=\"_top\" title=\"psysml:07207da4-9c20-4091-a953-293a54d08950\" xlink:actuate=\"onRequest\" xlink:href=\"psysml:07207da4-9c20-4091-a953-293a54d08950\" xlink:show=\"new\" xlink:title=\"psysml:07207da4-9c20-4091-a953-293a54d08950\" xlink:type=\"simple\"><rect fill=\"#FFFFFF\" height=\"45.9375\" id=\"E4\" rx=\"10\" ry=\"10\" style=\"stroke: #383838; stroke-width: 1.5;\" width=\"108\" x=\"666\" y=\"164\"/><text fill=\"#000000\" font-family=\"sans-serif\" font-size=\"12\" font-style=\"italic\" lengthAdjust=\"spacingAndGlyphs\" textLength=\"40\" x=\"700\" y=\"180.1387\">«part»</text><text fill=\"#000000\" font-family=\"sans-serif\" font-size=\"12\" lengthAdjust=\"spacingAndGlyphs\" textLength=\"102\" x=\"669\" y=\"194.1074\">engine2: Engine</text><line style=\"stroke: #383838; stroke-width: 1.5;\" x1=\"667\" x2=\"773\" y1=\"201.9375\" y2=\"201.9375\"/></a><!--MD5=[270fce915f116d4de14055a7c1d9a0f3]\n",
       "class E5--><a href=\"psysml:c0123459-da5a-4fa7-ba13-511d4e5fcdf0\" target=\"_top\" title=\"psysml:c0123459-da5a-4fa7-ba13-511d4e5fcdf0\" xlink:actuate=\"onRequest\" xlink:href=\"psysml:c0123459-da5a-4fa7-ba13-511d4e5fcdf0\" xlink:show=\"new\" xlink:title=\"psysml:c0123459-da5a-4fa7-ba13-511d4e5fcdf0\" xlink:type=\"simple\"><rect fill=\"#FFFFFF\" height=\"45.9375\" id=\"E5\" rx=\"10\" ry=\"10\" style=\"stroke: #383838; stroke-width: 1.5;\" width=\"199\" x=\"192.5\" y=\"41\"/><text fill=\"#000000\" font-family=\"sans-serif\" font-size=\"12\" font-style=\"italic\" lengthAdjust=\"spacingAndGlyphs\" textLength=\"64\" x=\"260\" y=\"57.1387\">«analysis»</text><text fill=\"#000000\" font-family=\"sans-serif\" font-size=\"12\" lengthAdjust=\"spacingAndGlyphs\" textLength=\"193\" x=\"195.5\" y=\"71.1074\">engineTradeStudy: TradeStudy</text><line style=\"stroke: #383838; stroke-width: 1.5;\" x1=\"193.5\" x2=\"390.5\" y1=\"78.9375\" y2=\"78.9375\"/></a><!--MD5=[60a26617385b1d2d0262a64233df1f8d]\n",
       "class E6--><a href=\"psysml:d3ca6a29-f1f6-48ae-8677-7ec75b0f5c21\" target=\"_top\" title=\"psysml:d3ca6a29-f1f6-48ae-8677-7ec75b0f5c21\" xlink:actuate=\"onRequest\" xlink:href=\"psysml:d3ca6a29-f1f6-48ae-8677-7ec75b0f5c21\" xlink:show=\"new\" xlink:title=\"psysml:d3ca6a29-f1f6-48ae-8677-7ec75b0f5c21\" xlink:type=\"simple\"><rect fill=\"#FFFFFF\" height=\"45.9375\" id=\"E6\" rx=\"10\" ry=\"10\" style=\"stroke: #383838; stroke-width: 1.5;\" width=\"251\" x=\"166.5\" y=\"164\"/><text fill=\"#000000\" font-family=\"sans-serif\" font-size=\"12\" font-style=\"italic\" lengthAdjust=\"spacingAndGlyphs\" textLength=\"91\" x=\"246.5\" y=\"180.1387\">«requirement»</text><text fill=\"#000000\" font-family=\"sans-serif\" font-size=\"12\" lengthAdjust=\"spacingAndGlyphs\" textLength=\"245\" x=\"169.5\" y=\"194.1074\">tradeStudyObjective: MaximizeObjective</text><line style=\"stroke: #383838; stroke-width: 1.5;\" x1=\"167.5\" x2=\"416.5\" y1=\"201.9375\" y2=\"201.9375\"/></a><!--MD5=[2156ba9850f5573cc1fc38a6a4b2f02b]\n",
       "class E7--><a href=\"psysml:7894e875-c3b4-453b-9dc9-b899c04487e6\" target=\"_top\" title=\"psysml:7894e875-c3b4-453b-9dc9-b899c04487e6\" xlink:actuate=\"onRequest\" xlink:href=\"psysml:7894e875-c3b4-453b-9dc9-b899c04487e6\" xlink:show=\"new\" xlink:title=\"psysml:7894e875-c3b4-453b-9dc9-b899c04487e6\" xlink:type=\"simple\"><rect fill=\"#FFFFFF\" height=\"45.9375\" id=\"E7\" rx=\"10\" ry=\"10\" style=\"stroke: #383838; stroke-width: 1.5;\" width=\"178\" x=\"453\" y=\"164\"/><text fill=\"#000000\" font-family=\"sans-serif\" font-size=\"12\" font-style=\"italic\" lengthAdjust=\"spacingAndGlyphs\" textLength=\"40\" x=\"522\" y=\"180.1387\">«part»</text><text fill=\"#000000\" font-family=\"sans-serif\" font-size=\"12\" lengthAdjust=\"spacingAndGlyphs\" textLength=\"172\" x=\"456\" y=\"194.1074\">selectedAlternative: Engine</text><line style=\"stroke: #383838; stroke-width: 1.5;\" x1=\"454\" x2=\"630\" y1=\"201.9375\" y2=\"201.9375\"/></a><!--MD5=[05d275557350bfb9b23a4ef7222b4c39]\n",
       "link E3 to E2--><a href=\"psysml:8801a447-7348-4a45-a550-3876c92a8627\" target=\"_top\" title=\"psysml:8801a447-7348-4a45-a550-3876c92a8627\" xlink:actuate=\"onRequest\" xlink:href=\"psysml:8801a447-7348-4a45-a550-3876c92a8627\" xlink:show=\"new\" xlink:title=\"psysml:8801a447-7348-4a45-a550-3876c92a8627\" xlink:type=\"simple\"><path d=\"M814.37,210.01 C775.74,227.49 721.88,251.87 682.52,269.68 \" fill=\"none\" id=\"E3-&gt;E2\" style=\"stroke: #383838; stroke-width: 1.0;\"/><polygon fill=\"#FFFFFF\" points=\"664.23,277.96,678.6446,263.7397,684.4251,276.4906,664.23,277.96\" style=\"stroke: #383838; stroke-width: 1.0;\"/><ellipse cx=\"684.6619\" cy=\"263.2078\" fill=\"#383838\" rx=\"2\" ry=\"2\" style=\"stroke: #383838; stroke-width: 1.0;\"/><ellipse cx=\"688.7908\" cy=\"272.3156\" fill=\"#383838\" rx=\"2\" ry=\"2\" style=\"stroke: #383838; stroke-width: 1.0;\"/></a><!--MD5=[185131fc0dcab0a4505a2ebe144e961b]\n",
       "link E4 to E2--><a href=\"psysml:b9350b5a-5d8f-4ac9-a55f-8ba2d0a1e030\" target=\"_top\" title=\"psysml:b9350b5a-5d8f-4ac9-a55f-8ba2d0a1e030\" xlink:actuate=\"onRequest\" xlink:href=\"psysml:b9350b5a-5d8f-4ac9-a55f-8ba2d0a1e030\" xlink:show=\"new\" xlink:title=\"psysml:b9350b5a-5d8f-4ac9-a55f-8ba2d0a1e030\" xlink:type=\"simple\"><path d=\"M701.34,210.01 C690.26,223.08 675.91,240.01 663.06,255.17 \" fill=\"none\" id=\"E4-&gt;E2\" style=\"stroke: #383838; stroke-width: 1.0;\"/><polygon fill=\"#FFFFFF\" points=\"649.94,270.66,656.8931,251.6428,667.5691,260.6994,649.94,270.66\" style=\"stroke: #383838; stroke-width: 1.0;\"/><ellipse cx=\"662.1056\" cy=\"248.5899\" fill=\"#383838\" rx=\"2\" ry=\"2\" style=\"stroke: #383838; stroke-width: 1.0;\"/><ellipse cx=\"669.7313\" cy=\"255.059\" fill=\"#383838\" rx=\"2\" ry=\"2\" style=\"stroke: #383838; stroke-width: 1.0;\"/></a><!--MD5=[15ebcb19ae302d9b601edb458606d402]\n",
       "link E5 to E2--><a href=\"psysml:ecc21de6-0c62-41d5-be03-95573cca647a\" target=\"_top\" title=\"psysml:ecc21de6-0c62-41d5-be03-95573cca647a\" xlink:actuate=\"onRequest\" xlink:href=\"psysml:ecc21de6-0c62-41d5-be03-95573cca647a\" xlink:show=\"new\" xlink:title=\"psysml:ecc21de6-0c62-41d5-be03-95573cca647a\" xlink:type=\"simple\"><path d=\"M211.44,87.03 C135.05,111.81 38.38,155.76 85,210 C150.98,286.77 479.56,293.36 592.67,293.32 \" fill=\"none\" id=\"E5-&gt;E2\" style=\"stroke: #383838; stroke-width: 1.0; stroke-dasharray: 7.0,7.0;\"/><polygon fill=\"#383838\" points=\"597.89,293.31,588.89,289.31,592.89,293.31,588.89,297.31,597.89,293.31\" style=\"stroke: #383838; stroke-width: 1.0;\"/><text fill=\"#000000\" font-family=\"sans-serif\" font-size=\"13\" lengthAdjust=\"spacingAndGlyphs\" textLength=\"62\" x=\"86\" y=\"191.5669\">«subject»</text></a><!--MD5=[9120cf2e5df3bff93db8f754bbbc09b4]\n",
       "link E5 to E6--><a href=\"psysml:fcf6c150-3866-4336-9e66-2e65ffb041aa\" target=\"_top\" title=\"psysml:fcf6c150-3866-4336-9e66-2e65ffb041aa\" xlink:actuate=\"onRequest\" xlink:href=\"psysml:fcf6c150-3866-4336-9e66-2e65ffb041aa\" xlink:show=\"new\" xlink:title=\"psysml:fcf6c150-3866-4336-9e66-2e65ffb041aa\" xlink:type=\"simple\"><path d=\"M292,87.19 C292,106.47 292,134.55 292,155.86 \" fill=\"none\" id=\"E5-&gt;E6\" style=\"stroke: #383838; stroke-width: 1.0;\"/><polygon fill=\"#383838\" points=\"292,163.95,295,155.95,289,155.95,292,163.95\" style=\"stroke: #383838; stroke-width: 1.0;\"/><text fill=\"#000000\" font-family=\"sans-serif\" font-size=\"13\" lengthAdjust=\"spacingAndGlyphs\" textLength=\"73\" x=\"293\" y=\"130.0669\">«objective»</text></a><!--MD5=[452b418e7f8a40397a49b8c0a78acc5b]\n",
       "reverse link E5 to E7--><a href=\"psysml:afcc773f-3f6f-47e3-9b17-c2b1fd7bbdc3\" target=\"_top\" title=\"psysml:afcc773f-3f6f-47e3-9b17-c2b1fd7bbdc3\" xlink:actuate=\"onRequest\" xlink:href=\"psysml:afcc773f-3f6f-47e3-9b17-c2b1fd7bbdc3\" xlink:show=\"new\" xlink:title=\"psysml:afcc773f-3f6f-47e3-9b17-c2b1fd7bbdc3\" xlink:type=\"simple\"><path d=\"M349.39,92.78 C393.99,114.36 455.01,143.9 496.33,163.89 \" fill=\"none\" id=\"E5&lt;-E7\" style=\"stroke: #383838; stroke-width: 1.0;\"/><polygon fill=\"#FFFFFF\" points=\"337.56,87.05,341.2143,93.2666,348.3582,92.2843,344.7039,86.0677,337.56,87.05\" style=\"stroke: #383838; stroke-width: 1.0;\"/><text fill=\"#000000\" font-family=\"sans-serif\" font-size=\"13\" lengthAdjust=\"spacingAndGlyphs\" textLength=\"8\" x=\"474.9812\" y=\"152.7567\">1</text></a><!--MD5=[583832df87f4419a098336a29a52fa00]\n",
       "link E7 to E2--><a href=\"psysml:09d901e9-14a1-4a34-80ae-448f8674b33c\" target=\"_top\" title=\"psysml:09d901e9-14a1-4a34-80ae-448f8674b33c\" xlink:actuate=\"onRequest\" xlink:href=\"psysml:09d901e9-14a1-4a34-80ae-448f8674b33c\" xlink:show=\"new\" xlink:title=\"psysml:09d901e9-14a1-4a34-80ae-448f8674b33c\" xlink:type=\"simple\"><path d=\"M560.66,210.01 C571.74,223.08 586.09,240.01 598.94,255.17 \" fill=\"none\" id=\"E7-&gt;E2\" style=\"stroke: #383838; stroke-width: 1.0;\"/><polygon fill=\"#FFFFFF\" points=\"612.06,270.66,594.4309,260.6994,605.1069,251.6428,612.06,270.66\" style=\"stroke: #383838; stroke-width: 1.0;\"/><ellipse cx=\"592.2687\" cy=\"255.059\" fill=\"#383838\" rx=\"2\" ry=\"2\" style=\"stroke: #383838; stroke-width: 1.0;\"/><ellipse cx=\"599.8944\" cy=\"248.5899\" fill=\"#383838\" rx=\"2\" ry=\"2\" style=\"stroke: #383838; stroke-width: 1.0;\"/></a><!--MD5=[5dad052c0d642f4d751d1bcc20848f3c]\n",
       "@startuml\r\n",
       " skinparam monochrome true\r\n",
       "skinparam classbackgroundcolor white\r\n",
       "skinparam shadowing false\r\n",
       "skinparam wrapWidth 300\r\n",
       "hide circle\r\n",
       "\r\n",
       "package \"TradeStudyTest\" as E1  [[psysml:0d92d0af-a8c4-487d-a88b-e96d8d162758 ]]  {\r\n",
       "comp def \"Engine\" as E2  <<(T,blue) part def>> [[psysml:90b379af-84e4-4b51-bcba-9b20024a2d1f ]] {\r\n",
       "}\r\n",
       "comp usage \"engine1: Engine\" as E3  <<(T,blue) part>> [[psysml:1fe04244-3a7b-4d3a-93e0-0fd9f61a7cea ]] {\r\n",
       "}\r\n",
       "comp usage \"engine2: Engine\" as E4  <<(T,blue) part>> [[psysml:07207da4-9c20-4091-a953-293a54d08950 ]] {\r\n",
       "}\r\n",
       "comp usage \"engineTradeStudy: TradeStudy\" as E5 << analysis>> [[psysml:c0123459-da5a-4fa7-ba13-511d4e5fcdf0 ]] {\r\n",
       "}\r\n",
       "comp usage \"tradeStudyObjective: MaximizeObjective\" as E6  <<(T,blue) requirement>> [[psysml:d3ca6a29-f1f6-48ae-8677-7ec75b0f5c21 ]] {\r\n",
       "}\r\n",
       "comp usage \"selectedAlternative: Engine\" as E7  <<(T,blue) part>> [[psysml:7894e875-c3b4-453b-9dc9-b899c04487e6 ]] {\r\n",
       "}\r\n",
       "E3 - -:|> E2 [[psysml:8801a447-7348-4a45-a550-3876c92a8627 ]] \r\n",
       "E4 - -:|> E2 [[psysml:b9350b5a-5d8f-4ac9-a55f-8ba2d0a1e030 ]] \r\n",
       "E5 ..> E2 [[psysml:ecc21de6-0c62-41d5-be03-95573cca647a ]] : <<subject>>\r\n",
       "E5 - ->> E6 [[psysml:fcf6c150-3866-4336-9e66-2e65ffb041aa ]] : <<objective>>\r\n",
       "E5 o- - \"1\"E7 [[psysml:afcc773f-3f6f-47e3-9b17-c2b1fd7bbdc3 ]] \r\n",
       "E7 - -:|> E2 [[psysml:09d901e9-14a1-4a34-80ae-448f8674b33c ]] \r\n",
       "}\r\n",
       "@enduml\r\n",
       "\n",
       "PlantUML version 1.2020.13(Sat Jun 13 12:26:38 UTC 2020)\n",
       "(EPL source distribution)\n",
       "Java Runtime: OpenJDK Runtime Environment\n",
       "JVM: OpenJDK 64-Bit Server VM\n",
       "Default Encoding: UTF-8\n",
       "Language: en\n",
       "Country: null\n",
       "--></g></svg>"
      ]
     },
     "execution_count": 7,
     "metadata": {},
     "output_type": "execute_result"
    }
   ],
   "source": [
    "%viz --style=\"COMPTREE\" --view=\"Sequence\" \"TradeStudyTest\""
   ]
  },
  {
   "cell_type": "code",
   "execution_count": 8,
   "id": "cbd9ddf9",
   "metadata": {
    "execution": {
     "iopub.execute_input": "2021-08-04T06:27:38.251008Z",
     "iopub.status.busy": "2021-08-04T06:27:38.250597Z",
     "iopub.status.idle": "2021-08-04T06:27:38.302504Z",
     "shell.execute_reply": "2021-08-04T06:27:38.301146Z"
    }
   },
   "outputs": [
    {
     "data": {
      "image/svg+xml": [
       "<?xml version=\"1.0\" encoding=\"UTF-8\" standalone=\"no\"?><svg xmlns=\"http://www.w3.org/2000/svg\" xmlns:xlink=\"http://www.w3.org/1999/xlink\" contentScriptType=\"application/ecmascript\" contentStyleType=\"text/css\" height=\"497px\" preserveAspectRatio=\"none\" style=\"width:556px;height:497px;\" version=\"1.1\" viewBox=\"0 0 556 497\" width=\"556px\" zoomAndPan=\"magnify\"><defs/><g><!--MD5=[fbc87193dbaf4d95561dea2c320d4a47]\n",
       "cluster E1--><a href=\"psysml:0d92d0af-a8c4-487d-a88b-e96d8d162758\" target=\"_top\" title=\"psysml:0d92d0af-a8c4-487d-a88b-e96d8d162758\" xlink:actuate=\"onRequest\" xlink:href=\"psysml:0d92d0af-a8c4-487d-a88b-e96d8d162758\" xlink:show=\"new\" xlink:title=\"psysml:0d92d0af-a8c4-487d-a88b-e96d8d162758\" xlink:type=\"simple\"><polygon fill=\"#FFFFFF\" points=\"18.32,6,150.32,6,157.32,28.2969,534.32,28.2969,534.32,485,18.32,485,18.32,6\" style=\"stroke: #000000; stroke-width: 1.5;\"/><line style=\"stroke: #000000; stroke-width: 1.5;\" x1=\"18.32\" x2=\"157.32\" y1=\"28.2969\" y2=\"28.2969\"/><text fill=\"#000000\" font-family=\"sans-serif\" font-size=\"14\" font-weight=\"bold\" lengthAdjust=\"spacingAndGlyphs\" textLength=\"126\" x=\"22.32\" y=\"20.9951\">TradeStudyTest</text></a><!--MD5=[b4997ac47864f28c2f74865a473b2911]\n",
       "class E2--><a href=\"psysml:90b379af-84e4-4b51-bcba-9b20024a2d1f\" target=\"_top\" title=\"psysml:90b379af-84e4-4b51-bcba-9b20024a2d1f\" xlink:actuate=\"onRequest\" xlink:href=\"psysml:90b379af-84e4-4b51-bcba-9b20024a2d1f\" xlink:show=\"new\" xlink:title=\"psysml:90b379af-84e4-4b51-bcba-9b20024a2d1f\" xlink:type=\"simple\"><rect fill=\"#FFFFFF\" height=\"45.9375\" id=\"E2\" style=\"stroke: #383838; stroke-width: 1.5;\" width=\"66\" x=\"198.32\" y=\"423\"/><text fill=\"#000000\" font-family=\"sans-serif\" font-size=\"12\" font-style=\"italic\" lengthAdjust=\"spacingAndGlyphs\" textLength=\"64\" x=\"199.32\" y=\"439.1387\">«part def»</text><text fill=\"#000000\" font-family=\"sans-serif\" font-size=\"12\" lengthAdjust=\"spacingAndGlyphs\" textLength=\"43\" x=\"209.82\" y=\"453.1074\">Engine</text><line style=\"stroke: #383838; stroke-width: 1.5;\" x1=\"199.32\" x2=\"263.32\" y1=\"460.9375\" y2=\"460.9375\"/></a><!--MD5=[09b614a08d8cba4a07c9adeb5e0fee81]\n",
       "class E3--><a href=\"psysml:1fe04244-3a7b-4d3a-93e0-0fd9f61a7cea\" target=\"_top\" title=\"psysml:1fe04244-3a7b-4d3a-93e0-0fd9f61a7cea\" xlink:actuate=\"onRequest\" xlink:href=\"psysml:1fe04244-3a7b-4d3a-93e0-0fd9f61a7cea\" xlink:show=\"new\" xlink:title=\"psysml:1fe04244-3a7b-4d3a-93e0-0fd9f61a7cea\" xlink:type=\"simple\"><rect fill=\"#FFFFFF\" height=\"45.9375\" id=\"E3\" rx=\"10\" ry=\"10\" style=\"stroke: #383838; stroke-width: 1.5;\" width=\"108\" x=\"410.32\" y=\"316\"/><text fill=\"#000000\" font-family=\"sans-serif\" font-size=\"12\" font-style=\"italic\" lengthAdjust=\"spacingAndGlyphs\" textLength=\"40\" x=\"444.32\" y=\"332.1387\">«part»</text><text fill=\"#000000\" font-family=\"sans-serif\" font-size=\"12\" lengthAdjust=\"spacingAndGlyphs\" textLength=\"102\" x=\"413.32\" y=\"346.1074\">engine1: Engine</text><line style=\"stroke: #383838; stroke-width: 1.5;\" x1=\"411.32\" x2=\"517.32\" y1=\"353.9375\" y2=\"353.9375\"/></a><!--MD5=[ebbe1d658d1005bcc118a6aa81145e00]\n",
       "class E4--><a href=\"psysml:07207da4-9c20-4091-a953-293a54d08950\" target=\"_top\" title=\"psysml:07207da4-9c20-4091-a953-293a54d08950\" xlink:actuate=\"onRequest\" xlink:href=\"psysml:07207da4-9c20-4091-a953-293a54d08950\" xlink:show=\"new\" xlink:title=\"psysml:07207da4-9c20-4091-a953-293a54d08950\" xlink:type=\"simple\"><rect fill=\"#FFFFFF\" height=\"45.9375\" id=\"E4\" rx=\"10\" ry=\"10\" style=\"stroke: #383838; stroke-width: 1.5;\" width=\"108\" x=\"267.32\" y=\"316\"/><text fill=\"#000000\" font-family=\"sans-serif\" font-size=\"12\" font-style=\"italic\" lengthAdjust=\"spacingAndGlyphs\" textLength=\"40\" x=\"301.32\" y=\"332.1387\">«part»</text><text fill=\"#000000\" font-family=\"sans-serif\" font-size=\"12\" lengthAdjust=\"spacingAndGlyphs\" textLength=\"102\" x=\"270.32\" y=\"346.1074\">engine2: Engine</text><line style=\"stroke: #383838; stroke-width: 1.5;\" x1=\"268.32\" x2=\"374.32\" y1=\"353.9375\" y2=\"353.9375\"/></a><!--MD5=[270fce915f116d4de14055a7c1d9a0f3]\n",
       "class E5--><a href=\"psysml:c0123459-da5a-4fa7-ba13-511d4e5fcdf0\" target=\"_top\" title=\"psysml:c0123459-da5a-4fa7-ba13-511d4e5fcdf0\" xlink:actuate=\"onRequest\" xlink:href=\"psysml:c0123459-da5a-4fa7-ba13-511d4e5fcdf0\" xlink:show=\"new\" xlink:title=\"psysml:c0123459-da5a-4fa7-ba13-511d4e5fcdf0\" xlink:type=\"simple\"><rect fill=\"#FFFFFF\" height=\"45.9375\" id=\"E5\" rx=\"10\" ry=\"10\" style=\"stroke: #383838; stroke-width: 1.5;\" width=\"199\" x=\"239.82\" y=\"41\"/><text fill=\"#000000\" font-family=\"sans-serif\" font-size=\"12\" font-style=\"italic\" lengthAdjust=\"spacingAndGlyphs\" textLength=\"64\" x=\"307.32\" y=\"57.1387\">«analysis»</text><text fill=\"#000000\" font-family=\"sans-serif\" font-size=\"12\" lengthAdjust=\"spacingAndGlyphs\" textLength=\"193\" x=\"242.82\" y=\"71.1074\">engineTradeStudy: TradeStudy</text><line style=\"stroke: #383838; stroke-width: 1.5;\" x1=\"240.82\" x2=\"437.82\" y1=\"78.9375\" y2=\"78.9375\"/></a><!--MD5=[60a26617385b1d2d0262a64233df1f8d]\n",
       "class E6--><a href=\"psysml:d3ca6a29-f1f6-48ae-8677-7ec75b0f5c21\" target=\"_top\" title=\"psysml:d3ca6a29-f1f6-48ae-8677-7ec75b0f5c21\" xlink:actuate=\"onRequest\" xlink:href=\"psysml:d3ca6a29-f1f6-48ae-8677-7ec75b0f5c21\" xlink:show=\"new\" xlink:title=\"psysml:d3ca6a29-f1f6-48ae-8677-7ec75b0f5c21\" xlink:type=\"simple\"><rect fill=\"#FFFFFF\" height=\"45.9375\" id=\"E6\" rx=\"10\" ry=\"10\" style=\"stroke: #383838; stroke-width: 1.5;\" width=\"251\" x=\"78.82\" y=\"164\"/><text fill=\"#000000\" font-family=\"sans-serif\" font-size=\"12\" font-style=\"italic\" lengthAdjust=\"spacingAndGlyphs\" textLength=\"91\" x=\"158.82\" y=\"180.1387\">«requirement»</text><text fill=\"#000000\" font-family=\"sans-serif\" font-size=\"12\" lengthAdjust=\"spacingAndGlyphs\" textLength=\"245\" x=\"81.82\" y=\"194.1074\">tradeStudyObjective: MaximizeObjective</text><line style=\"stroke: #383838; stroke-width: 1.5;\" x1=\"79.82\" x2=\"328.82\" y1=\"201.9375\" y2=\"201.9375\"/></a><!--MD5=[2156ba9850f5573cc1fc38a6a4b2f02b]\n",
       "class E7--><a href=\"psysml:f099413c-f817-477f-a757-2c07f6450928\" target=\"_top\" title=\"psysml:f099413c-f817-477f-a757-2c07f6450928\" xlink:actuate=\"onRequest\" xlink:href=\"psysml:f099413c-f817-477f-a757-2c07f6450928\" xlink:show=\"new\" xlink:title=\"psysml:f099413c-f817-477f-a757-2c07f6450928\" xlink:type=\"simple\"><rect fill=\"#FFFFFF\" height=\"45.9375\" id=\"E7\" rx=\"10\" ry=\"10\" style=\"stroke: #383838; stroke-width: 1.5;\" width=\"116\" x=\"365.32\" y=\"164\"/><text fill=\"#000000\" font-family=\"sans-serif\" font-size=\"12\" font-style=\"italic\" lengthAdjust=\"spacingAndGlyphs\" textLength=\"82\" x=\"382.32\" y=\"180.1387\">«calculation»</text><text fill=\"#000000\" font-family=\"sans-serif\" font-size=\"12\" lengthAdjust=\"spacingAndGlyphs\" textLength=\"110\" x=\"368.32\" y=\"194.1074\">objectiveFunction</text><line style=\"stroke: #383838; stroke-width: 1.5;\" x1=\"366.32\" x2=\"480.32\" y1=\"201.9375\" y2=\"201.9375\"/></a><!--MD5=[b9389687b975829384b498ac4b7476b2]\n",
       "class E8--><a href=\"psysml:26f566d1-080d-4e4d-ba32-38c38fdc0bde\" target=\"_top\" title=\"psysml:26f566d1-080d-4e4d-ba32-38c38fdc0bde\" xlink:actuate=\"onRequest\" xlink:href=\"psysml:26f566d1-080d-4e4d-ba32-38c38fdc0bde\" xlink:show=\"new\" xlink:title=\"psysml:26f566d1-080d-4e4d-ba32-38c38fdc0bde\" xlink:type=\"simple\"><rect fill=\"#FFFFFF\" height=\"45.9375\" id=\"E8\" rx=\"10\" ry=\"10\" style=\"stroke: #383838; stroke-width: 1.5;\" width=\"124\" x=\"71.32\" y=\"316\"/><text fill=\"#000000\" font-family=\"sans-serif\" font-size=\"12\" font-style=\"italic\" lengthAdjust=\"spacingAndGlyphs\" textLength=\"40\" x=\"113.32\" y=\"332.1387\">«part»</text><text fill=\"#000000\" font-family=\"sans-serif\" font-size=\"12\" lengthAdjust=\"spacingAndGlyphs\" textLength=\"118\" x=\"74.32\" y=\"346.1074\">alternative: Engine</text><line style=\"stroke: #383838; stroke-width: 1.5;\" x1=\"72.32\" x2=\"194.32\" y1=\"353.9375\" y2=\"353.9375\"/></a><!--MD5=[fd4143e9d270a159db93a4ea2a975926]\n",
       "class E9--><a href=\"psysml:7894e875-c3b4-453b-9dc9-b899c04487e6\" target=\"_top\" title=\"psysml:7894e875-c3b4-453b-9dc9-b899c04487e6\" xlink:actuate=\"onRequest\" xlink:href=\"psysml:7894e875-c3b4-453b-9dc9-b899c04487e6\" xlink:show=\"new\" xlink:title=\"psysml:7894e875-c3b4-453b-9dc9-b899c04487e6\" xlink:type=\"simple\"><rect fill=\"#FFFFFF\" height=\"45.9375\" id=\"E9\" rx=\"10\" ry=\"10\" style=\"stroke: #383838; stroke-width: 1.5;\" width=\"178\" x=\"291.32\" y=\"240\"/><text fill=\"#000000\" font-family=\"sans-serif\" font-size=\"12\" font-style=\"italic\" lengthAdjust=\"spacingAndGlyphs\" textLength=\"40\" x=\"360.32\" y=\"256.1387\">«part»</text><text fill=\"#000000\" font-family=\"sans-serif\" font-size=\"12\" lengthAdjust=\"spacingAndGlyphs\" textLength=\"172\" x=\"294.32\" y=\"270.1074\">selectedAlternative: Engine</text><line style=\"stroke: #383838; stroke-width: 1.5;\" x1=\"292.32\" x2=\"468.32\" y1=\"277.9375\" y2=\"277.9375\"/></a><!--MD5=[05d275557350bfb9b23a4ef7222b4c39]\n",
       "link E3 to E2--><a href=\"psysml:8801a447-7348-4a45-a550-3876c92a8627\" target=\"_top\" title=\"psysml:8801a447-7348-4a45-a550-3876c92a8627\" xlink:actuate=\"onRequest\" xlink:href=\"psysml:8801a447-7348-4a45-a550-3876c92a8627\" xlink:show=\"new\" xlink:title=\"psysml:8801a447-7348-4a45-a550-3876c92a8627\" xlink:type=\"simple\"><path d=\"M415.48,362.01 C376.57,379.54 322.27,404.01 282.71,421.84 \" fill=\"none\" id=\"E3-&gt;E2\" style=\"stroke: #383838; stroke-width: 1.0;\"/><polygon fill=\"#FFFFFF\" points=\"264.34,430.12,278.7866,415.9321,284.5383,428.696,264.34,430.12\" style=\"stroke: #383838; stroke-width: 1.0;\"/><ellipse cx=\"284.805\" cy=\"415.4137\" fill=\"#383838\" rx=\"2\" ry=\"2\" style=\"stroke: #383838; stroke-width: 1.0;\"/><ellipse cx=\"288.9134\" cy=\"424.5308\" fill=\"#383838\" rx=\"2\" ry=\"2\" style=\"stroke: #383838; stroke-width: 1.0;\"/></a><!--MD5=[185131fc0dcab0a4505a2ebe144e961b]\n",
       "link E4 to E2--><a href=\"psysml:b9350b5a-5d8f-4ac9-a55f-8ba2d0a1e030\" target=\"_top\" title=\"psysml:b9350b5a-5d8f-4ac9-a55f-8ba2d0a1e030\" xlink:actuate=\"onRequest\" xlink:href=\"psysml:b9350b5a-5d8f-4ac9-a55f-8ba2d0a1e030\" xlink:show=\"new\" xlink:title=\"psysml:b9350b5a-5d8f-4ac9-a55f-8ba2d0a1e030\" xlink:type=\"simple\"><path d=\"M302.45,362.01 C291.25,375.08 276.74,392.01 263.74,407.17 \" fill=\"none\" id=\"E4-&gt;E2\" style=\"stroke: #383838; stroke-width: 1.0;\"/><polygon fill=\"#FFFFFF\" points=\"250.47,422.66,257.5188,403.678,268.1491,412.7883,250.47,422.66\" style=\"stroke: #383838; stroke-width: 1.0;\"/><ellipse cx=\"262.7466\" cy=\"400.6515\" fill=\"#383838\" rx=\"2\" ry=\"2\" style=\"stroke: #383838; stroke-width: 1.0;\"/><ellipse cx=\"270.3396\" cy=\"407.1588\" fill=\"#383838\" rx=\"2\" ry=\"2\" style=\"stroke: #383838; stroke-width: 1.0;\"/></a><!--MD5=[15ebcb19ae302d9b601edb458606d402]\n",
       "link E5 to E2--><a href=\"psysml:ecc21de6-0c62-41d5-be03-95573cca647a\" target=\"_top\" title=\"psysml:ecc21de6-0c62-41d5-be03-95573cca647a\" xlink:actuate=\"onRequest\" xlink:href=\"psysml:ecc21de6-0c62-41d5-be03-95573cca647a\" xlink:show=\"new\" xlink:title=\"psysml:ecc21de6-0c62-41d5-be03-95573cca647a\" xlink:type=\"simple\"><path d=\"M239.76,73.22 C177.99,83.96 102.74,108.45 61.32,164 C8.68,234.61 6,287.72 53.32,362 C83.95,410.08 150.5,430.76 192.99,439.32 \" fill=\"none\" id=\"E5-&gt;E2\" style=\"stroke: #383838; stroke-width: 1.0; stroke-dasharray: 7.0,7.0;\"/><polygon fill=\"#383838\" points=\"198.04,440.31,189.9738,434.6588,193.1327,439.3514,188.4401,442.5104,198.04,440.31\" style=\"stroke: #383838; stroke-width: 1.0;\"/><text fill=\"#000000\" font-family=\"sans-serif\" font-size=\"13\" lengthAdjust=\"spacingAndGlyphs\" textLength=\"62\" x=\"24.32\" y=\"267.5669\">«subject»</text></a><!--MD5=[9120cf2e5df3bff93db8f754bbbc09b4]\n",
       "link E5 to E6--><a href=\"psysml:fcf6c150-3866-4336-9e66-2e65ffb041aa\" target=\"_top\" title=\"psysml:fcf6c150-3866-4336-9e66-2e65ffb041aa\" xlink:actuate=\"onRequest\" xlink:href=\"psysml:fcf6c150-3866-4336-9e66-2e65ffb041aa\" xlink:show=\"new\" xlink:title=\"psysml:fcf6c150-3866-4336-9e66-2e65ffb041aa\" xlink:type=\"simple\"><path d=\"M314.56,87.19 C292.2,107.23 259.21,136.8 235.15,158.37 \" fill=\"none\" id=\"E5-&gt;E6\" style=\"stroke: #383838; stroke-width: 1.0;\"/><polygon fill=\"#383838\" points=\"228.92,163.95,236.8786,160.8419,232.8725,156.3752,228.92,163.95\" style=\"stroke: #383838; stroke-width: 1.0;\"/><text fill=\"#000000\" font-family=\"sans-serif\" font-size=\"13\" lengthAdjust=\"spacingAndGlyphs\" textLength=\"73\" x=\"280.32\" y=\"130.0669\">«objective»</text></a><!--MD5=[452b418e7f8a40397a49b8c0a78acc5b]\n",
       "reverse link E5 to E7--><a href=\"psysml:a988c065-f70c-4bb4-ab6a-fca08357bc4a\" target=\"_top\" title=\"psysml:a988c065-f70c-4bb4-ab6a-fca08357bc4a\" xlink:actuate=\"onRequest\" xlink:href=\"psysml:a988c065-f70c-4bb4-ab6a-fca08357bc4a\" xlink:show=\"new\" xlink:title=\"psysml:a988c065-f70c-4bb4-ab6a-fca08357bc4a\" xlink:type=\"simple\"><path d=\"M362.14,97.88 C376.71,118.86 395.19,145.48 408.01,163.95 \" fill=\"none\" id=\"E5&lt;-E7\" style=\"stroke: #383838; stroke-width: 1.0;\"/><polygon fill=\"#383838\" points=\"354.73,87.19,354.864,94.3999,361.5708,97.0492,361.4368,89.8393,354.73,87.19\" style=\"stroke: #383838; stroke-width: 1.0;\"/></a><!--MD5=[dc164f5e8a733ab456ef1add180e9e34]\n",
       "reverse link E7 to E8--><a href=\"psysml:4295af6e-acd7-489b-9191-c25409e1351b\" target=\"_top\" title=\"psysml:4295af6e-acd7-489b-9191-c25409e1351b\" xlink:actuate=\"onRequest\" xlink:href=\"psysml:4295af6e-acd7-489b-9191-c25409e1351b\" xlink:show=\"new\" xlink:title=\"psysml:4295af6e-acd7-489b-9191-c25409e1351b\" xlink:type=\"simple\"><path d=\"M352.67,208.29 C327.33,216.69 298.96,227.44 274.32,240 C231.96,261.6 187.65,294.33 160.26,315.93 \" fill=\"none\" id=\"E7&lt;-E8\" style=\"stroke: #383838; stroke-width: 1.0;\"/><polygon fill=\"#FFFFFF\" points=\"365.22,204.24,358.2818,202.2749,353.7994,207.9236,360.7376,209.8887,365.22,204.24\" style=\"stroke: #383838; stroke-width: 1.0;\"/><text fill=\"#000000\" font-family=\"sans-serif\" font-size=\"13\" lengthAdjust=\"spacingAndGlyphs\" textLength=\"8\" x=\"158.4251\" y=\"304.8075\">1</text></a><!--MD5=[f1f3f9f2fc535e6147756cb86a7f2e32]\n",
       "link E8 to E2--><a href=\"psysml:aed7fba6-fc0e-4a29-a473-c7d943b57344\" target=\"_top\" title=\"psysml:aed7fba6-fc0e-4a29-a473-c7d943b57344\" xlink:actuate=\"onRequest\" xlink:href=\"psysml:aed7fba6-fc0e-4a29-a473-c7d943b57344\" xlink:show=\"new\" xlink:title=\"psysml:aed7fba6-fc0e-4a29-a473-c7d943b57344\" xlink:type=\"simple\"><path d=\"M153.86,362.01 C166.19,375.22 182.2,392.38 196.46,407.65 \" fill=\"none\" id=\"E8-&gt;E2\" style=\"stroke: #383838; stroke-width: 1.0;\"/><polygon fill=\"#FFFFFF\" points=\"210.47,422.66,192.3921,413.5393,202.6305,403.9907,210.47,422.66\" style=\"stroke: #383838; stroke-width: 1.0;\"/><ellipse cx=\"189.9671\" cy=\"408.0067\" fill=\"#383838\" rx=\"2\" ry=\"2\" style=\"stroke: #383838; stroke-width: 1.0;\"/><ellipse cx=\"197.2802\" cy=\"401.1863\" fill=\"#383838\" rx=\"2\" ry=\"2\" style=\"stroke: #383838; stroke-width: 1.0;\"/></a><!--MD5=[9ae28de373ca99bb8a1b38d63370ca7e]\n",
       "reverse link E5 to E9--><a href=\"psysml:afcc773f-3f6f-47e3-9b17-c2b1fd7bbdc3\" target=\"_top\" title=\"psysml:afcc773f-3f6f-47e3-9b17-c2b1fd7bbdc3\" xlink:actuate=\"onRequest\" xlink:href=\"psysml:afcc773f-3f6f-47e3-9b17-c2b1fd7bbdc3\" xlink:show=\"new\" xlink:title=\"psysml:afcc773f-3f6f-47e3-9b17-c2b1fd7bbdc3\" xlink:type=\"simple\"><path d=\"M416.08,92.77 C447.78,108.48 481.27,131.61 499.32,164 C509.27,181.86 510.51,192.89 499.32,210 C490.86,222.92 478.41,232.65 464.71,239.97 \" fill=\"none\" id=\"E5&lt;-E9\" style=\"stroke: #383838; stroke-width: 1.0;\"/><polygon fill=\"#FFFFFF\" points=\"404.06,87.11,407.7814,93.2867,414.9142,92.2272,411.1928,86.0505,404.06,87.11\" style=\"stroke: #383838; stroke-width: 1.0;\"/><text fill=\"#000000\" font-family=\"sans-serif\" font-size=\"13\" lengthAdjust=\"spacingAndGlyphs\" textLength=\"8\" x=\"477.3099\" y=\"229.2386\">1</text></a><!--MD5=[5c3bb36fe832a92c7f0e1807dd65209d]\n",
       "link E9 to E2--><a href=\"psysml:09d901e9-14a1-4a34-80ae-448f8674b33c\" target=\"_top\" title=\"psysml:09d901e9-14a1-4a34-80ae-448f8674b33c\" xlink:actuate=\"onRequest\" xlink:href=\"psysml:09d901e9-14a1-4a34-80ae-448f8674b33c\" xlink:show=\"new\" xlink:title=\"psysml:09d901e9-14a1-4a34-80ae-448f8674b33c\" xlink:type=\"simple\"><path d=\"M291.19,285.15 C275.57,292.56 260.94,302.55 250.32,316 C231.17,340.25 227.04,375.32 227.36,402.77 \" fill=\"none\" id=\"E9-&gt;E2\" style=\"stroke: #383838; stroke-width: 1.0;\"/><polygon fill=\"#FFFFFF\" points=\"228.36,422.81,220.4186,404.1838,234.4011,403.4837,228.36,422.81\" style=\"stroke: #383838; stroke-width: 1.0;\"/><ellipse cx=\"222.131\" cy=\"398.3909\" fill=\"#383838\" rx=\"2\" ry=\"2\" style=\"stroke: #383838; stroke-width: 1.0;\"/><ellipse cx=\"232.1185\" cy=\"397.8909\" fill=\"#383838\" rx=\"2\" ry=\"2\" style=\"stroke: #383838; stroke-width: 1.0;\"/></a><!--MD5=[7f12fe59bde0f8763241159557fd0a12]\n",
       "@startuml\r\n",
       " skinparam monochrome true\r\n",
       "skinparam classbackgroundcolor white\r\n",
       "skinparam shadowing false\r\n",
       "skinparam wrapWidth 300\r\n",
       "hide circle\r\n",
       "\r\n",
       "package \"TradeStudyTest\" as E1  [[psysml:0d92d0af-a8c4-487d-a88b-e96d8d162758 ]]  {\r\n",
       "comp def \"Engine\" as E2  <<(T,blue) part def>> [[psysml:90b379af-84e4-4b51-bcba-9b20024a2d1f ]] {\r\n",
       "}\r\n",
       "comp usage \"engine1: Engine\" as E3  <<(T,blue) part>> [[psysml:1fe04244-3a7b-4d3a-93e0-0fd9f61a7cea ]] {\r\n",
       "}\r\n",
       "comp usage \"engine2: Engine\" as E4  <<(T,blue) part>> [[psysml:07207da4-9c20-4091-a953-293a54d08950 ]] {\r\n",
       "}\r\n",
       "comp usage \"engineTradeStudy: TradeStudy\" as E5 << analysis>> [[psysml:c0123459-da5a-4fa7-ba13-511d4e5fcdf0 ]] {\r\n",
       "}\r\n",
       "comp usage \"tradeStudyObjective: MaximizeObjective\" as E6  <<(T,blue) requirement>> [[psysml:d3ca6a29-f1f6-48ae-8677-7ec75b0f5c21 ]] {\r\n",
       "}\r\n",
       "comp usage \"objectiveFunction\" as E7  <<(T,blue) calculation>> [[psysml:f099413c-f817-477f-a757-2c07f6450928 ]] {\r\n",
       "}\r\n",
       "comp usage \"alternative: Engine\" as E8  <<(T,blue) part>> [[psysml:26f566d1-080d-4e4d-ba32-38c38fdc0bde ]] {\r\n",
       "}\r\n",
       "comp usage \"selectedAlternative: Engine\" as E9  <<(T,blue) part>> [[psysml:7894e875-c3b4-453b-9dc9-b899c04487e6 ]] {\r\n",
       "}\r\n",
       "E3 - -:|> E2 [[psysml:8801a447-7348-4a45-a550-3876c92a8627 ]] \r\n",
       "E4 - -:|> E2 [[psysml:b9350b5a-5d8f-4ac9-a55f-8ba2d0a1e030 ]] \r\n",
       "E5 ..> E2 [[psysml:ecc21de6-0c62-41d5-be03-95573cca647a ]] : <<subject>>\r\n",
       "E5 - ->> E6 [[psysml:fcf6c150-3866-4336-9e66-2e65ffb041aa ]] : <<objective>>\r\n",
       "E5 *- - E7 [[psysml:a988c065-f70c-4bb4-ab6a-fca08357bc4a ]] \r\n",
       "E7 o- - \"1\"E8 [[psysml:4295af6e-acd7-489b-9191-c25409e1351b ]] \r\n",
       "E8 - -:|> E2 [[psysml:aed7fba6-fc0e-4a29-a473-c7d943b57344 ]] \r\n",
       "E5 o- - \"1\"E9 [[psysml:afcc773f-3f6f-47e3-9b17-c2b1fd7bbdc3 ]] \r\n",
       "E9 - -:|> E2 [[psysml:09d901e9-14a1-4a34-80ae-448f8674b33c ]] \r\n",
       "}\r\n",
       "@enduml\r\n",
       "\n",
       "PlantUML version 1.2020.13(Sat Jun 13 12:26:38 UTC 2020)\n",
       "(EPL source distribution)\n",
       "Java Runtime: OpenJDK Runtime Environment\n",
       "JVM: OpenJDK 64-Bit Server VM\n",
       "Default Encoding: UTF-8\n",
       "Language: en\n",
       "Country: null\n",
       "--></g></svg>"
      ]
     },
     "execution_count": 8,
     "metadata": {},
     "output_type": "execute_result"
    }
   ],
   "source": [
    "%viz --style=\"COMPTREE\" --view=\"MIXED\" \"TradeStudyTest\""
   ]
  },
  {
   "cell_type": "code",
   "execution_count": 9,
   "id": "cceee33c",
   "metadata": {
    "execution": {
     "iopub.execute_input": "2021-08-04T06:27:38.352056Z",
     "iopub.status.busy": "2021-08-04T06:27:38.351589Z",
     "iopub.status.idle": "2021-08-04T06:27:38.400752Z",
     "shell.execute_reply": "2021-08-04T06:27:38.399330Z"
    }
   },
   "outputs": [
    {
     "data": {
      "image/svg+xml": [
       "<?xml version=\"1.0\" encoding=\"UTF-8\" standalone=\"no\"?><svg xmlns=\"http://www.w3.org/2000/svg\" xmlns:xlink=\"http://www.w3.org/1999/xlink\" contentScriptType=\"application/ecmascript\" contentStyleType=\"text/css\" height=\"497px\" preserveAspectRatio=\"none\" style=\"width:554px;height:497px;\" version=\"1.1\" viewBox=\"0 0 554 497\" width=\"554px\" zoomAndPan=\"magnify\"><defs/><g><!--MD5=[fbc87193dbaf4d95561dea2c320d4a47]\n",
       "cluster E1--><a href=\"psysml:0d92d0af-a8c4-487d-a88b-e96d8d162758\" target=\"_top\" title=\"psysml:0d92d0af-a8c4-487d-a88b-e96d8d162758\" xlink:actuate=\"onRequest\" xlink:href=\"psysml:0d92d0af-a8c4-487d-a88b-e96d8d162758\" xlink:show=\"new\" xlink:title=\"psysml:0d92d0af-a8c4-487d-a88b-e96d8d162758\" xlink:type=\"simple\"><polygon fill=\"#FFFFFF\" points=\"16,6,148,6,155,28.2969,532,28.2969,532,485,16,485,16,6\" style=\"stroke: #000000; stroke-width: 1.5;\"/><line style=\"stroke: #000000; stroke-width: 1.5;\" x1=\"16\" x2=\"155\" y1=\"28.2969\" y2=\"28.2969\"/><text fill=\"#000000\" font-family=\"sans-serif\" font-size=\"14\" font-weight=\"bold\" lengthAdjust=\"spacingAndGlyphs\" textLength=\"126\" x=\"20\" y=\"20.9951\">TradeStudyTest</text></a><!--MD5=[b4997ac47864f28c2f74865a473b2911]\n",
       "class E2--><a href=\"psysml:90b379af-84e4-4b51-bcba-9b20024a2d1f\" target=\"_top\" title=\"psysml:90b379af-84e4-4b51-bcba-9b20024a2d1f\" xlink:actuate=\"onRequest\" xlink:href=\"psysml:90b379af-84e4-4b51-bcba-9b20024a2d1f\" xlink:show=\"new\" xlink:title=\"psysml:90b379af-84e4-4b51-bcba-9b20024a2d1f\" xlink:type=\"simple\"><rect fill=\"#FFFFFF\" height=\"45.9375\" id=\"E2\" style=\"stroke: #383838; stroke-width: 1.5;\" width=\"66\" x=\"196\" y=\"423\"/><text fill=\"#000000\" font-family=\"sans-serif\" font-size=\"12\" font-style=\"italic\" lengthAdjust=\"spacingAndGlyphs\" textLength=\"64\" x=\"197\" y=\"439.1387\">«part def»</text><text fill=\"#000000\" font-family=\"sans-serif\" font-size=\"12\" lengthAdjust=\"spacingAndGlyphs\" textLength=\"43\" x=\"207.5\" y=\"453.1074\">Engine</text><line style=\"stroke: #383838; stroke-width: 1.5;\" x1=\"197\" x2=\"261\" y1=\"460.9375\" y2=\"460.9375\"/></a><!--MD5=[09b614a08d8cba4a07c9adeb5e0fee81]\n",
       "class E3--><a href=\"psysml:1fe04244-3a7b-4d3a-93e0-0fd9f61a7cea\" target=\"_top\" title=\"psysml:1fe04244-3a7b-4d3a-93e0-0fd9f61a7cea\" xlink:actuate=\"onRequest\" xlink:href=\"psysml:1fe04244-3a7b-4d3a-93e0-0fd9f61a7cea\" xlink:show=\"new\" xlink:title=\"psysml:1fe04244-3a7b-4d3a-93e0-0fd9f61a7cea\" xlink:type=\"simple\"><rect fill=\"#FFFFFF\" height=\"45.9375\" id=\"E3\" rx=\"10\" ry=\"10\" style=\"stroke: #383838; stroke-width: 1.5;\" width=\"108\" x=\"408\" y=\"316\"/><text fill=\"#000000\" font-family=\"sans-serif\" font-size=\"12\" font-style=\"italic\" lengthAdjust=\"spacingAndGlyphs\" textLength=\"40\" x=\"442\" y=\"332.1387\">«part»</text><text fill=\"#000000\" font-family=\"sans-serif\" font-size=\"12\" lengthAdjust=\"spacingAndGlyphs\" textLength=\"102\" x=\"411\" y=\"346.1074\">engine1: Engine</text><line style=\"stroke: #383838; stroke-width: 1.5;\" x1=\"409\" x2=\"515\" y1=\"353.9375\" y2=\"353.9375\"/></a><!--MD5=[ebbe1d658d1005bcc118a6aa81145e00]\n",
       "class E4--><a href=\"psysml:07207da4-9c20-4091-a953-293a54d08950\" target=\"_top\" title=\"psysml:07207da4-9c20-4091-a953-293a54d08950\" xlink:actuate=\"onRequest\" xlink:href=\"psysml:07207da4-9c20-4091-a953-293a54d08950\" xlink:show=\"new\" xlink:title=\"psysml:07207da4-9c20-4091-a953-293a54d08950\" xlink:type=\"simple\"><rect fill=\"#FFFFFF\" height=\"45.9375\" id=\"E4\" rx=\"10\" ry=\"10\" style=\"stroke: #383838; stroke-width: 1.5;\" width=\"108\" x=\"265\" y=\"316\"/><text fill=\"#000000\" font-family=\"sans-serif\" font-size=\"12\" font-style=\"italic\" lengthAdjust=\"spacingAndGlyphs\" textLength=\"40\" x=\"299\" y=\"332.1387\">«part»</text><text fill=\"#000000\" font-family=\"sans-serif\" font-size=\"12\" lengthAdjust=\"spacingAndGlyphs\" textLength=\"102\" x=\"268\" y=\"346.1074\">engine2: Engine</text><line style=\"stroke: #383838; stroke-width: 1.5;\" x1=\"266\" x2=\"372\" y1=\"353.9375\" y2=\"353.9375\"/></a><!--MD5=[270fce915f116d4de14055a7c1d9a0f3]\n",
       "class E5--><a href=\"psysml:c0123459-da5a-4fa7-ba13-511d4e5fcdf0\" target=\"_top\" title=\"psysml:c0123459-da5a-4fa7-ba13-511d4e5fcdf0\" xlink:actuate=\"onRequest\" xlink:href=\"psysml:c0123459-da5a-4fa7-ba13-511d4e5fcdf0\" xlink:show=\"new\" xlink:title=\"psysml:c0123459-da5a-4fa7-ba13-511d4e5fcdf0\" xlink:type=\"simple\"><rect fill=\"#FFFFFF\" height=\"45.9375\" id=\"E5\" rx=\"10\" ry=\"10\" style=\"stroke: #383838; stroke-width: 1.5;\" width=\"199\" x=\"237.5\" y=\"41\"/><text fill=\"#000000\" font-family=\"sans-serif\" font-size=\"12\" font-style=\"italic\" lengthAdjust=\"spacingAndGlyphs\" textLength=\"64\" x=\"305\" y=\"57.1387\">«analysis»</text><text fill=\"#000000\" font-family=\"sans-serif\" font-size=\"12\" lengthAdjust=\"spacingAndGlyphs\" textLength=\"193\" x=\"240.5\" y=\"71.1074\">engineTradeStudy: TradeStudy</text><line style=\"stroke: #383838; stroke-width: 1.5;\" x1=\"238.5\" x2=\"435.5\" y1=\"78.9375\" y2=\"78.9375\"/></a><!--MD5=[60a26617385b1d2d0262a64233df1f8d]\n",
       "class E6--><a href=\"psysml:d3ca6a29-f1f6-48ae-8677-7ec75b0f5c21\" target=\"_top\" title=\"psysml:d3ca6a29-f1f6-48ae-8677-7ec75b0f5c21\" xlink:actuate=\"onRequest\" xlink:href=\"psysml:d3ca6a29-f1f6-48ae-8677-7ec75b0f5c21\" xlink:show=\"new\" xlink:title=\"psysml:d3ca6a29-f1f6-48ae-8677-7ec75b0f5c21\" xlink:type=\"simple\"><rect fill=\"#FFFFFF\" height=\"45.9375\" id=\"E6\" rx=\"10\" ry=\"10\" style=\"stroke: #383838; stroke-width: 1.5;\" width=\"251\" x=\"76.5\" y=\"164\"/><text fill=\"#000000\" font-family=\"sans-serif\" font-size=\"12\" font-style=\"italic\" lengthAdjust=\"spacingAndGlyphs\" textLength=\"91\" x=\"156.5\" y=\"180.1387\">«requirement»</text><text fill=\"#000000\" font-family=\"sans-serif\" font-size=\"12\" lengthAdjust=\"spacingAndGlyphs\" textLength=\"245\" x=\"79.5\" y=\"194.1074\">tradeStudyObjective: MaximizeObjective</text><line style=\"stroke: #383838; stroke-width: 1.5;\" x1=\"77.5\" x2=\"326.5\" y1=\"201.9375\" y2=\"201.9375\"/></a><!--MD5=[2156ba9850f5573cc1fc38a6a4b2f02b]\n",
       "class E7--><a href=\"psysml:f099413c-f817-477f-a757-2c07f6450928\" target=\"_top\" title=\"psysml:f099413c-f817-477f-a757-2c07f6450928\" xlink:actuate=\"onRequest\" xlink:href=\"psysml:f099413c-f817-477f-a757-2c07f6450928\" xlink:show=\"new\" xlink:title=\"psysml:f099413c-f817-477f-a757-2c07f6450928\" xlink:type=\"simple\"><rect fill=\"#FFFFFF\" height=\"45.9375\" id=\"E7\" rx=\"10\" ry=\"10\" style=\"stroke: #383838; stroke-width: 1.5;\" width=\"116\" x=\"363\" y=\"164\"/><text fill=\"#000000\" font-family=\"sans-serif\" font-size=\"12\" font-style=\"italic\" lengthAdjust=\"spacingAndGlyphs\" textLength=\"82\" x=\"380\" y=\"180.1387\">«calculation»</text><text fill=\"#000000\" font-family=\"sans-serif\" font-size=\"12\" lengthAdjust=\"spacingAndGlyphs\" textLength=\"110\" x=\"366\" y=\"194.1074\">objectiveFunction</text><line style=\"stroke: #383838; stroke-width: 1.5;\" x1=\"364\" x2=\"478\" y1=\"201.9375\" y2=\"201.9375\"/></a><!--MD5=[b9389687b975829384b498ac4b7476b2]\n",
       "class E8--><a href=\"psysml:26f566d1-080d-4e4d-ba32-38c38fdc0bde\" target=\"_top\" title=\"psysml:26f566d1-080d-4e4d-ba32-38c38fdc0bde\" xlink:actuate=\"onRequest\" xlink:href=\"psysml:26f566d1-080d-4e4d-ba32-38c38fdc0bde\" xlink:show=\"new\" xlink:title=\"psysml:26f566d1-080d-4e4d-ba32-38c38fdc0bde\" xlink:type=\"simple\"><rect fill=\"#FFFFFF\" height=\"45.9375\" id=\"E8\" rx=\"10\" ry=\"10\" style=\"stroke: #383838; stroke-width: 1.5;\" width=\"124\" x=\"69\" y=\"316\"/><text fill=\"#000000\" font-family=\"sans-serif\" font-size=\"12\" font-style=\"italic\" lengthAdjust=\"spacingAndGlyphs\" textLength=\"40\" x=\"111\" y=\"332.1387\">«part»</text><text fill=\"#000000\" font-family=\"sans-serif\" font-size=\"12\" lengthAdjust=\"spacingAndGlyphs\" textLength=\"118\" x=\"72\" y=\"346.1074\">alternative: Engine</text><line style=\"stroke: #383838; stroke-width: 1.5;\" x1=\"70\" x2=\"192\" y1=\"353.9375\" y2=\"353.9375\"/></a><!--MD5=[fd4143e9d270a159db93a4ea2a975926]\n",
       "class E9--><a href=\"psysml:7894e875-c3b4-453b-9dc9-b899c04487e6\" target=\"_top\" title=\"psysml:7894e875-c3b4-453b-9dc9-b899c04487e6\" xlink:actuate=\"onRequest\" xlink:href=\"psysml:7894e875-c3b4-453b-9dc9-b899c04487e6\" xlink:show=\"new\" xlink:title=\"psysml:7894e875-c3b4-453b-9dc9-b899c04487e6\" xlink:type=\"simple\"><rect fill=\"#FFFFFF\" height=\"45.9375\" id=\"E9\" rx=\"10\" ry=\"10\" style=\"stroke: #383838; stroke-width: 1.5;\" width=\"178\" x=\"289\" y=\"240\"/><text fill=\"#000000\" font-family=\"sans-serif\" font-size=\"12\" font-style=\"italic\" lengthAdjust=\"spacingAndGlyphs\" textLength=\"40\" x=\"358\" y=\"256.1387\">«part»</text><text fill=\"#000000\" font-family=\"sans-serif\" font-size=\"12\" lengthAdjust=\"spacingAndGlyphs\" textLength=\"172\" x=\"292\" y=\"270.1074\">selectedAlternative: Engine</text><line style=\"stroke: #383838; stroke-width: 1.5;\" x1=\"290\" x2=\"466\" y1=\"277.9375\" y2=\"277.9375\"/></a><!--MD5=[05d275557350bfb9b23a4ef7222b4c39]\n",
       "link E3 to E2--><a href=\"psysml:8801a447-7348-4a45-a550-3876c92a8627\" target=\"_top\" title=\"psysml:8801a447-7348-4a45-a550-3876c92a8627\" xlink:actuate=\"onRequest\" xlink:href=\"psysml:8801a447-7348-4a45-a550-3876c92a8627\" xlink:show=\"new\" xlink:title=\"psysml:8801a447-7348-4a45-a550-3876c92a8627\" xlink:type=\"simple\"><path d=\"M413.16,362.01 C374.25,379.54 319.95,404.01 280.39,421.84 \" fill=\"none\" id=\"E3-&gt;E2\" style=\"stroke: #383838; stroke-width: 1.0;\"/><polygon fill=\"#FFFFFF\" points=\"262.02,430.12,276.4666,415.9321,282.2183,428.696,262.02,430.12\" style=\"stroke: #383838; stroke-width: 1.0;\"/><ellipse cx=\"282.485\" cy=\"415.4137\" fill=\"#383838\" rx=\"2\" ry=\"2\" style=\"stroke: #383838; stroke-width: 1.0;\"/><ellipse cx=\"286.5934\" cy=\"424.5308\" fill=\"#383838\" rx=\"2\" ry=\"2\" style=\"stroke: #383838; stroke-width: 1.0;\"/></a><!--MD5=[185131fc0dcab0a4505a2ebe144e961b]\n",
       "link E4 to E2--><a href=\"psysml:b9350b5a-5d8f-4ac9-a55f-8ba2d0a1e030\" target=\"_top\" title=\"psysml:b9350b5a-5d8f-4ac9-a55f-8ba2d0a1e030\" xlink:actuate=\"onRequest\" xlink:href=\"psysml:b9350b5a-5d8f-4ac9-a55f-8ba2d0a1e030\" xlink:show=\"new\" xlink:title=\"psysml:b9350b5a-5d8f-4ac9-a55f-8ba2d0a1e030\" xlink:type=\"simple\"><path d=\"M300.13,362.01 C288.93,375.08 274.42,392.01 261.42,407.17 \" fill=\"none\" id=\"E4-&gt;E2\" style=\"stroke: #383838; stroke-width: 1.0;\"/><polygon fill=\"#FFFFFF\" points=\"248.15,422.66,255.1988,403.678,265.8291,412.7883,248.15,422.66\" style=\"stroke: #383838; stroke-width: 1.0;\"/><ellipse cx=\"260.4266\" cy=\"400.6515\" fill=\"#383838\" rx=\"2\" ry=\"2\" style=\"stroke: #383838; stroke-width: 1.0;\"/><ellipse cx=\"268.0196\" cy=\"407.1588\" fill=\"#383838\" rx=\"2\" ry=\"2\" style=\"stroke: #383838; stroke-width: 1.0;\"/></a><!--MD5=[15ebcb19ae302d9b601edb458606d402]\n",
       "link E5 to E2--><a href=\"psysml:ecc21de6-0c62-41d5-be03-95573cca647a\" target=\"_top\" title=\"psysml:ecc21de6-0c62-41d5-be03-95573cca647a\" xlink:actuate=\"onRequest\" xlink:href=\"psysml:ecc21de6-0c62-41d5-be03-95573cca647a\" xlink:show=\"new\" xlink:title=\"psysml:ecc21de6-0c62-41d5-be03-95573cca647a\" xlink:type=\"simple\"><path d=\"M274.96,87.09 C193.02,116.27 59,164 59,164 C59,164 51,316 51,316 C51,316 51,362 51,362 C51,362 139.06,403.06 191.31,427.42 \" fill=\"none\" id=\"E5-&gt;E2\" style=\"stroke: #383838; stroke-width: 1.0; stroke-dasharray: 7.0,7.0;\"/><polygon fill=\"#383838\" points=\"195.94,429.58,189.449,422.1728,191.4015,427.482,186.0922,429.4344,195.94,429.58\" style=\"stroke: #383838; stroke-width: 1.0;\"/><text fill=\"#000000\" font-family=\"sans-serif\" font-size=\"13\" lengthAdjust=\"spacingAndGlyphs\" textLength=\"62\" x=\"56\" y=\"267.5669\">«subject»</text></a><!--MD5=[9120cf2e5df3bff93db8f754bbbc09b4]\n",
       "link E5 to E6--><a href=\"psysml:fcf6c150-3866-4336-9e66-2e65ffb041aa\" target=\"_top\" title=\"psysml:fcf6c150-3866-4336-9e66-2e65ffb041aa\" xlink:actuate=\"onRequest\" xlink:href=\"psysml:fcf6c150-3866-4336-9e66-2e65ffb041aa\" xlink:show=\"new\" xlink:title=\"psysml:fcf6c150-3866-4336-9e66-2e65ffb041aa\" xlink:type=\"simple\"><path d=\"M312.24,87.19 C289.88,107.23 256.89,136.8 232.83,158.37 \" fill=\"none\" id=\"E5-&gt;E6\" style=\"stroke: #383838; stroke-width: 1.0;\"/><polygon fill=\"#383838\" points=\"226.6,163.95,234.5586,160.8419,230.5525,156.3752,226.6,163.95\" style=\"stroke: #383838; stroke-width: 1.0;\"/><text fill=\"#000000\" font-family=\"sans-serif\" font-size=\"13\" lengthAdjust=\"spacingAndGlyphs\" textLength=\"73\" x=\"278\" y=\"130.0669\">«objective»</text></a><!--MD5=[452b418e7f8a40397a49b8c0a78acc5b]\n",
       "reverse link E5 to E7--><a href=\"psysml:a988c065-f70c-4bb4-ab6a-fca08357bc4a\" target=\"_top\" title=\"psysml:a988c065-f70c-4bb4-ab6a-fca08357bc4a\" xlink:actuate=\"onRequest\" xlink:href=\"psysml:a988c065-f70c-4bb4-ab6a-fca08357bc4a\" xlink:show=\"new\" xlink:title=\"psysml:a988c065-f70c-4bb4-ab6a-fca08357bc4a\" xlink:type=\"simple\"><path d=\"M359.82,97.88 C374.39,118.86 392.87,145.48 405.69,163.95 \" fill=\"none\" id=\"E5&lt;-E7\" style=\"stroke: #383838; stroke-width: 1.0;\"/><polygon fill=\"#383838\" points=\"352.41,87.19,352.544,94.3999,359.2508,97.0492,359.1168,89.8393,352.41,87.19\" style=\"stroke: #383838; stroke-width: 1.0;\"/></a><!--MD5=[dc164f5e8a733ab456ef1add180e9e34]\n",
       "reverse link E7 to E8--><a href=\"psysml:4295af6e-acd7-489b-9191-c25409e1351b\" target=\"_top\" title=\"psysml:4295af6e-acd7-489b-9191-c25409e1351b\" xlink:actuate=\"onRequest\" xlink:href=\"psysml:4295af6e-acd7-489b-9191-c25409e1351b\" xlink:show=\"new\" xlink:title=\"psysml:4295af6e-acd7-489b-9191-c25409e1351b\" xlink:type=\"simple\"><path d=\"M350.55,212.59 C312,226.04 272,240 272,240 C272,240 204.6,286.85 163,315.76 \" fill=\"none\" id=\"E7&lt;-E8\" style=\"stroke: #383838; stroke-width: 1.0;\"/><polygon fill=\"#FFFFFF\" points=\"362.97,208.25,355.9867,206.452,351.641,212.2066,358.6244,214.0046,362.97,208.25\" style=\"stroke: #383838; stroke-width: 1.0;\"/><text fill=\"#000000\" font-family=\"sans-serif\" font-size=\"13\" lengthAdjust=\"spacingAndGlyphs\" textLength=\"8\" x=\"162.175\" y=\"304.9748\">1</text></a><!--MD5=[f1f3f9f2fc535e6147756cb86a7f2e32]\n",
       "link E8 to E2--><a href=\"psysml:aed7fba6-fc0e-4a29-a473-c7d943b57344\" target=\"_top\" title=\"psysml:aed7fba6-fc0e-4a29-a473-c7d943b57344\" xlink:actuate=\"onRequest\" xlink:href=\"psysml:aed7fba6-fc0e-4a29-a473-c7d943b57344\" xlink:show=\"new\" xlink:title=\"psysml:aed7fba6-fc0e-4a29-a473-c7d943b57344\" xlink:type=\"simple\"><path d=\"M151.54,362.01 C163.87,375.22 179.88,392.38 194.14,407.65 \" fill=\"none\" id=\"E8-&gt;E2\" style=\"stroke: #383838; stroke-width: 1.0;\"/><polygon fill=\"#FFFFFF\" points=\"208.15,422.66,190.0721,413.5393,200.3105,403.9907,208.15,422.66\" style=\"stroke: #383838; stroke-width: 1.0;\"/><ellipse cx=\"187.6471\" cy=\"408.0067\" fill=\"#383838\" rx=\"2\" ry=\"2\" style=\"stroke: #383838; stroke-width: 1.0;\"/><ellipse cx=\"194.9602\" cy=\"401.1863\" fill=\"#383838\" rx=\"2\" ry=\"2\" style=\"stroke: #383838; stroke-width: 1.0;\"/></a><!--MD5=[9ae28de373ca99bb8a1b38d63370ca7e]\n",
       "reverse link E5 to E9--><a href=\"psysml:afcc773f-3f6f-47e3-9b17-c2b1fd7bbdc3\" target=\"_top\" title=\"psysml:afcc773f-3f6f-47e3-9b17-c2b1fd7bbdc3\" xlink:actuate=\"onRequest\" xlink:href=\"psysml:afcc773f-3f6f-47e3-9b17-c2b1fd7bbdc3\" xlink:show=\"new\" xlink:title=\"psysml:afcc773f-3f6f-47e3-9b17-c2b1fd7bbdc3\" xlink:type=\"simple\"><path d=\"M384.16,94.18 C431.35,123.38 497,164 497,164 C497,164 497,210 497,210 C497,210 460.9,225.77 428.47,239.95 \" fill=\"none\" id=\"E5&lt;-E9\" style=\"stroke: #383838; stroke-width: 1.0;\"/><polygon fill=\"#FFFFFF\" points=\"372.91,87.22,375.907,93.7788,383.114,93.5349,380.117,86.9761,372.91,87.22\" style=\"stroke: #383838; stroke-width: 1.0;\"/><text fill=\"#000000\" font-family=\"sans-serif\" font-size=\"13\" lengthAdjust=\"spacingAndGlyphs\" textLength=\"8\" x=\"432.9588\" y=\"228.8328\">1</text></a><!--MD5=[5c3bb36fe832a92c7f0e1807dd65209d]\n",
       "link E9 to E2--><a href=\"psysml:09d901e9-14a1-4a34-80ae-448f8674b33c\" target=\"_top\" title=\"psysml:09d901e9-14a1-4a34-80ae-448f8674b33c\" xlink:actuate=\"onRequest\" xlink:href=\"psysml:09d901e9-14a1-4a34-80ae-448f8674b33c\" xlink:show=\"new\" xlink:title=\"psysml:09d901e9-14a1-4a34-80ae-448f8674b33c\" xlink:type=\"simple\"><path d=\"M322.87,286.05 C287.44,300.23 248,316 248,316 C248,316 240.73,365.33 235.19,402.98 \" fill=\"none\" id=\"E9-&gt;E2\" style=\"stroke: #383838; stroke-width: 1.0;\"/><polygon fill=\"#FFFFFF\" points=\"232.27,422.82,228.1134,403.0028,241.964,405.0429,232.27,422.82\" style=\"stroke: #383838; stroke-width: 1.0;\"/><ellipse cx=\"230.9227\" cy=\"397.6551\" fill=\"#383838\" rx=\"2\" ry=\"2\" style=\"stroke: #383838; stroke-width: 1.0;\"/><ellipse cx=\"240.8159\" cy=\"399.1123\" fill=\"#383838\" rx=\"2\" ry=\"2\" style=\"stroke: #383838; stroke-width: 1.0;\"/></a><!--MD5=[72c76681bd1efb88f18765ae96ef52bc]\n",
       "@startuml\r\n",
       "skinparam linetype polyline\r\n",
       "skinparam monochrome true\r\n",
       "skinparam classbackgroundcolor white\r\n",
       "skinparam shadowing false\r\n",
       "skinparam wrapWidth 300\r\n",
       "hide circle\r\n",
       "\r\n",
       "package \"TradeStudyTest\" as E1  [[psysml:0d92d0af-a8c4-487d-a88b-e96d8d162758 ]]  {\r\n",
       "comp def \"Engine\" as E2  <<(T,blue) part def>> [[psysml:90b379af-84e4-4b51-bcba-9b20024a2d1f ]] {\r\n",
       "}\r\n",
       "comp usage \"engine1: Engine\" as E3  <<(T,blue) part>> [[psysml:1fe04244-3a7b-4d3a-93e0-0fd9f61a7cea ]] {\r\n",
       "}\r\n",
       "comp usage \"engine2: Engine\" as E4  <<(T,blue) part>> [[psysml:07207da4-9c20-4091-a953-293a54d08950 ]] {\r\n",
       "}\r\n",
       "comp usage \"engineTradeStudy: TradeStudy\" as E5 << analysis>> [[psysml:c0123459-da5a-4fa7-ba13-511d4e5fcdf0 ]] {\r\n",
       "}\r\n",
       "comp usage \"tradeStudyObjective: MaximizeObjective\" as E6  <<(T,blue) requirement>> [[psysml:d3ca6a29-f1f6-48ae-8677-7ec75b0f5c21 ]] {\r\n",
       "}\r\n",
       "comp usage \"objectiveFunction\" as E7  <<(T,blue) calculation>> [[psysml:f099413c-f817-477f-a757-2c07f6450928 ]] {\r\n",
       "}\r\n",
       "comp usage \"alternative: Engine\" as E8  <<(T,blue) part>> [[psysml:26f566d1-080d-4e4d-ba32-38c38fdc0bde ]] {\r\n",
       "}\r\n",
       "comp usage \"selectedAlternative: Engine\" as E9  <<(T,blue) part>> [[psysml:7894e875-c3b4-453b-9dc9-b899c04487e6 ]] {\r\n",
       "}\r\n",
       "E3 - -:|> E2 [[psysml:8801a447-7348-4a45-a550-3876c92a8627 ]] \r\n",
       "E4 - -:|> E2 [[psysml:b9350b5a-5d8f-4ac9-a55f-8ba2d0a1e030 ]] \r\n",
       "E5 ..> E2 [[psysml:ecc21de6-0c62-41d5-be03-95573cca647a ]] : <<subject>>\r\n",
       "E5 - ->> E6 [[psysml:fcf6c150-3866-4336-9e66-2e65ffb041aa ]] : <<objective>>\r\n",
       "E5 *- - E7 [[psysml:a988c065-f70c-4bb4-ab6a-fca08357bc4a ]] \r\n",
       "E7 o- - \"1\"E8 [[psysml:4295af6e-acd7-489b-9191-c25409e1351b ]] \r\n",
       "E8 - -:|> E2 [[psysml:aed7fba6-fc0e-4a29-a473-c7d943b57344 ]] \r\n",
       "E5 o- - \"1\"E9 [[psysml:afcc773f-3f6f-47e3-9b17-c2b1fd7bbdc3 ]] \r\n",
       "E9 - -:|> E2 [[psysml:09d901e9-14a1-4a34-80ae-448f8674b33c ]] \r\n",
       "}\r\n",
       "@enduml\r\n",
       "\n",
       "PlantUML version 1.2020.13(Sat Jun 13 12:26:38 UTC 2020)\n",
       "(EPL source distribution)\n",
       "Java Runtime: OpenJDK Runtime Environment\n",
       "JVM: OpenJDK 64-Bit Server VM\n",
       "Default Encoding: UTF-8\n",
       "Language: en\n",
       "Country: null\n",
       "--></g></svg>"
      ]
     },
     "execution_count": 9,
     "metadata": {},
     "output_type": "execute_result"
    }
   ],
   "source": [
    "%viz --style=\"POLYLINE\" --view=\"Default\" \"TradeStudyTest\""
   ]
  },
  {
   "cell_type": "code",
   "execution_count": 10,
   "id": "3bde9fa2",
   "metadata": {
    "execution": {
     "iopub.execute_input": "2021-08-04T06:27:38.450116Z",
     "iopub.status.busy": "2021-08-04T06:27:38.449695Z",
     "iopub.status.idle": "2021-08-04T06:27:38.481267Z",
     "shell.execute_reply": "2021-08-04T06:27:38.479983Z"
    }
   },
   "outputs": [
    {
     "data": {
      "image/svg+xml": [
       "<?xml version=\"1.0\" encoding=\"UTF-8\" standalone=\"no\"?><svg xmlns=\"http://www.w3.org/2000/svg\" xmlns:xlink=\"http://www.w3.org/1999/xlink\" contentScriptType=\"application/ecmascript\" contentStyleType=\"text/css\" height=\"345px\" preserveAspectRatio=\"none\" style=\"width:955px;height:345px;\" version=\"1.1\" viewBox=\"0 0 955 345\" width=\"955px\" zoomAndPan=\"magnify\"><defs/><g><!--MD5=[fbc87193dbaf4d95561dea2c320d4a47]\n",
       "cluster E1--><a href=\"psysml:0d92d0af-a8c4-487d-a88b-e96d8d162758\" target=\"_top\" title=\"psysml:0d92d0af-a8c4-487d-a88b-e96d8d162758\" xlink:actuate=\"onRequest\" xlink:href=\"psysml:0d92d0af-a8c4-487d-a88b-e96d8d162758\" xlink:show=\"new\" xlink:title=\"psysml:0d92d0af-a8c4-487d-a88b-e96d8d162758\" xlink:type=\"simple\"><polygon fill=\"#FFFFFF\" points=\"16,6,148,6,155,28.2969,933,28.2969,933,333,16,333,16,6\" style=\"stroke: #000000; stroke-width: 1.5;\"/><line style=\"stroke: #000000; stroke-width: 1.5;\" x1=\"16\" x2=\"155\" y1=\"28.2969\" y2=\"28.2969\"/><text fill=\"#000000\" font-family=\"sans-serif\" font-size=\"14\" font-weight=\"bold\" lengthAdjust=\"spacingAndGlyphs\" textLength=\"126\" x=\"20\" y=\"20.9951\">TradeStudyTest</text></a><!--MD5=[b4997ac47864f28c2f74865a473b2911]\n",
       "class E2--><a href=\"psysml:90b379af-84e4-4b51-bcba-9b20024a2d1f\" target=\"_top\" title=\"psysml:90b379af-84e4-4b51-bcba-9b20024a2d1f\" xlink:actuate=\"onRequest\" xlink:href=\"psysml:90b379af-84e4-4b51-bcba-9b20024a2d1f\" xlink:show=\"new\" xlink:title=\"psysml:90b379af-84e4-4b51-bcba-9b20024a2d1f\" xlink:type=\"simple\"><rect fill=\"#FFFFFF\" height=\"45.9375\" id=\"E2\" style=\"stroke: #383838; stroke-width: 1.5;\" width=\"66\" x=\"598\" y=\"271\"/><text fill=\"#000000\" font-family=\"sans-serif\" font-size=\"12\" font-style=\"italic\" lengthAdjust=\"spacingAndGlyphs\" textLength=\"64\" x=\"599\" y=\"287.1387\">«part def»</text><text fill=\"#000000\" font-family=\"sans-serif\" font-size=\"12\" lengthAdjust=\"spacingAndGlyphs\" textLength=\"43\" x=\"609.5\" y=\"301.1074\">Engine</text><line style=\"stroke: #383838; stroke-width: 1.5;\" x1=\"599\" x2=\"663\" y1=\"308.9375\" y2=\"308.9375\"/></a><!--MD5=[09b614a08d8cba4a07c9adeb5e0fee81]\n",
       "class E3--><a href=\"psysml:1fe04244-3a7b-4d3a-93e0-0fd9f61a7cea\" target=\"_top\" title=\"psysml:1fe04244-3a7b-4d3a-93e0-0fd9f61a7cea\" xlink:actuate=\"onRequest\" xlink:href=\"psysml:1fe04244-3a7b-4d3a-93e0-0fd9f61a7cea\" xlink:show=\"new\" xlink:title=\"psysml:1fe04244-3a7b-4d3a-93e0-0fd9f61a7cea\" xlink:type=\"simple\"><rect fill=\"#FFFFFF\" height=\"45.9375\" id=\"E3\" rx=\"10\" ry=\"10\" style=\"stroke: #383838; stroke-width: 1.5;\" width=\"108\" x=\"809\" y=\"164\"/><text fill=\"#000000\" font-family=\"sans-serif\" font-size=\"12\" font-style=\"italic\" lengthAdjust=\"spacingAndGlyphs\" textLength=\"40\" x=\"843\" y=\"180.1387\">«part»</text><text fill=\"#000000\" font-family=\"sans-serif\" font-size=\"12\" lengthAdjust=\"spacingAndGlyphs\" textLength=\"102\" x=\"812\" y=\"194.1074\">engine1: Engine</text><line style=\"stroke: #383838; stroke-width: 1.5;\" x1=\"810\" x2=\"916\" y1=\"201.9375\" y2=\"201.9375\"/></a><!--MD5=[ebbe1d658d1005bcc118a6aa81145e00]\n",
       "class E4--><a href=\"psysml:07207da4-9c20-4091-a953-293a54d08950\" target=\"_top\" title=\"psysml:07207da4-9c20-4091-a953-293a54d08950\" xlink:actuate=\"onRequest\" xlink:href=\"psysml:07207da4-9c20-4091-a953-293a54d08950\" xlink:show=\"new\" xlink:title=\"psysml:07207da4-9c20-4091-a953-293a54d08950\" xlink:type=\"simple\"><rect fill=\"#FFFFFF\" height=\"45.9375\" id=\"E4\" rx=\"10\" ry=\"10\" style=\"stroke: #383838; stroke-width: 1.5;\" width=\"108\" x=\"666\" y=\"164\"/><text fill=\"#000000\" font-family=\"sans-serif\" font-size=\"12\" font-style=\"italic\" lengthAdjust=\"spacingAndGlyphs\" textLength=\"40\" x=\"700\" y=\"180.1387\">«part»</text><text fill=\"#000000\" font-family=\"sans-serif\" font-size=\"12\" lengthAdjust=\"spacingAndGlyphs\" textLength=\"102\" x=\"669\" y=\"194.1074\">engine2: Engine</text><line style=\"stroke: #383838; stroke-width: 1.5;\" x1=\"667\" x2=\"773\" y1=\"201.9375\" y2=\"201.9375\"/></a><!--MD5=[270fce915f116d4de14055a7c1d9a0f3]\n",
       "class E5--><a href=\"psysml:c0123459-da5a-4fa7-ba13-511d4e5fcdf0\" target=\"_top\" title=\"psysml:c0123459-da5a-4fa7-ba13-511d4e5fcdf0\" xlink:actuate=\"onRequest\" xlink:href=\"psysml:c0123459-da5a-4fa7-ba13-511d4e5fcdf0\" xlink:show=\"new\" xlink:title=\"psysml:c0123459-da5a-4fa7-ba13-511d4e5fcdf0\" xlink:type=\"simple\"><rect fill=\"#FFFFFF\" height=\"45.9375\" id=\"E5\" rx=\"10\" ry=\"10\" style=\"stroke: #383838; stroke-width: 1.5;\" width=\"199\" x=\"192.5\" y=\"41\"/><text fill=\"#000000\" font-family=\"sans-serif\" font-size=\"12\" font-style=\"italic\" lengthAdjust=\"spacingAndGlyphs\" textLength=\"64\" x=\"260\" y=\"57.1387\">«analysis»</text><text fill=\"#000000\" font-family=\"sans-serif\" font-size=\"12\" lengthAdjust=\"spacingAndGlyphs\" textLength=\"193\" x=\"195.5\" y=\"71.1074\">engineTradeStudy: TradeStudy</text><line style=\"stroke: #383838; stroke-width: 1.5;\" x1=\"193.5\" x2=\"390.5\" y1=\"78.9375\" y2=\"78.9375\"/></a><!--MD5=[60a26617385b1d2d0262a64233df1f8d]\n",
       "class E6--><a href=\"psysml:d3ca6a29-f1f6-48ae-8677-7ec75b0f5c21\" target=\"_top\" title=\"psysml:d3ca6a29-f1f6-48ae-8677-7ec75b0f5c21\" xlink:actuate=\"onRequest\" xlink:href=\"psysml:d3ca6a29-f1f6-48ae-8677-7ec75b0f5c21\" xlink:show=\"new\" xlink:title=\"psysml:d3ca6a29-f1f6-48ae-8677-7ec75b0f5c21\" xlink:type=\"simple\"><rect fill=\"#FFFFFF\" height=\"45.9375\" id=\"E6\" rx=\"10\" ry=\"10\" style=\"stroke: #383838; stroke-width: 1.5;\" width=\"251\" x=\"166.5\" y=\"164\"/><text fill=\"#000000\" font-family=\"sans-serif\" font-size=\"12\" font-style=\"italic\" lengthAdjust=\"spacingAndGlyphs\" textLength=\"91\" x=\"246.5\" y=\"180.1387\">«requirement»</text><text fill=\"#000000\" font-family=\"sans-serif\" font-size=\"12\" lengthAdjust=\"spacingAndGlyphs\" textLength=\"245\" x=\"169.5\" y=\"194.1074\">tradeStudyObjective: MaximizeObjective</text><line style=\"stroke: #383838; stroke-width: 1.5;\" x1=\"167.5\" x2=\"416.5\" y1=\"201.9375\" y2=\"201.9375\"/></a><!--MD5=[2156ba9850f5573cc1fc38a6a4b2f02b]\n",
       "class E7--><a href=\"psysml:7894e875-c3b4-453b-9dc9-b899c04487e6\" target=\"_top\" title=\"psysml:7894e875-c3b4-453b-9dc9-b899c04487e6\" xlink:actuate=\"onRequest\" xlink:href=\"psysml:7894e875-c3b4-453b-9dc9-b899c04487e6\" xlink:show=\"new\" xlink:title=\"psysml:7894e875-c3b4-453b-9dc9-b899c04487e6\" xlink:type=\"simple\"><rect fill=\"#FFFFFF\" height=\"45.9375\" id=\"E7\" rx=\"10\" ry=\"10\" style=\"stroke: #383838; stroke-width: 1.5;\" width=\"178\" x=\"453\" y=\"164\"/><text fill=\"#000000\" font-family=\"sans-serif\" font-size=\"12\" font-style=\"italic\" lengthAdjust=\"spacingAndGlyphs\" textLength=\"40\" x=\"522\" y=\"180.1387\">«part»</text><text fill=\"#000000\" font-family=\"sans-serif\" font-size=\"12\" lengthAdjust=\"spacingAndGlyphs\" textLength=\"172\" x=\"456\" y=\"194.1074\">selectedAlternative: Engine</text><line style=\"stroke: #383838; stroke-width: 1.5;\" x1=\"454\" x2=\"630\" y1=\"201.9375\" y2=\"201.9375\"/></a><!--MD5=[05d275557350bfb9b23a4ef7222b4c39]\n",
       "link E3 to E2--><a href=\"psysml:8801a447-7348-4a45-a550-3876c92a8627\" target=\"_top\" title=\"psysml:8801a447-7348-4a45-a550-3876c92a8627\" xlink:actuate=\"onRequest\" xlink:href=\"psysml:8801a447-7348-4a45-a550-3876c92a8627\" xlink:show=\"new\" xlink:title=\"psysml:8801a447-7348-4a45-a550-3876c92a8627\" xlink:type=\"simple\"><path d=\"M814.37,210.01 C775.74,227.49 721.88,251.87 682.52,269.68 \" fill=\"none\" id=\"E3-&gt;E2\" style=\"stroke: #383838; stroke-width: 1.0;\"/><polygon fill=\"#FFFFFF\" points=\"664.23,277.96,678.6446,263.7397,684.4251,276.4906,664.23,277.96\" style=\"stroke: #383838; stroke-width: 1.0;\"/><ellipse cx=\"684.6619\" cy=\"263.2078\" fill=\"#383838\" rx=\"2\" ry=\"2\" style=\"stroke: #383838; stroke-width: 1.0;\"/><ellipse cx=\"688.7908\" cy=\"272.3156\" fill=\"#383838\" rx=\"2\" ry=\"2\" style=\"stroke: #383838; stroke-width: 1.0;\"/></a><!--MD5=[185131fc0dcab0a4505a2ebe144e961b]\n",
       "link E4 to E2--><a href=\"psysml:b9350b5a-5d8f-4ac9-a55f-8ba2d0a1e030\" target=\"_top\" title=\"psysml:b9350b5a-5d8f-4ac9-a55f-8ba2d0a1e030\" xlink:actuate=\"onRequest\" xlink:href=\"psysml:b9350b5a-5d8f-4ac9-a55f-8ba2d0a1e030\" xlink:show=\"new\" xlink:title=\"psysml:b9350b5a-5d8f-4ac9-a55f-8ba2d0a1e030\" xlink:type=\"simple\"><path d=\"M701.34,210.01 C690.26,223.08 675.91,240.01 663.06,255.17 \" fill=\"none\" id=\"E4-&gt;E2\" style=\"stroke: #383838; stroke-width: 1.0;\"/><polygon fill=\"#FFFFFF\" points=\"649.94,270.66,656.8931,251.6428,667.5691,260.6994,649.94,270.66\" style=\"stroke: #383838; stroke-width: 1.0;\"/><ellipse cx=\"662.1056\" cy=\"248.5899\" fill=\"#383838\" rx=\"2\" ry=\"2\" style=\"stroke: #383838; stroke-width: 1.0;\"/><ellipse cx=\"669.7313\" cy=\"255.059\" fill=\"#383838\" rx=\"2\" ry=\"2\" style=\"stroke: #383838; stroke-width: 1.0;\"/></a><!--MD5=[15ebcb19ae302d9b601edb458606d402]\n",
       "link E5 to E2--><a href=\"psysml:ecc21de6-0c62-41d5-be03-95573cca647a\" target=\"_top\" title=\"psysml:ecc21de6-0c62-41d5-be03-95573cca647a\" xlink:actuate=\"onRequest\" xlink:href=\"psysml:ecc21de6-0c62-41d5-be03-95573cca647a\" xlink:show=\"new\" xlink:title=\"psysml:ecc21de6-0c62-41d5-be03-95573cca647a\" xlink:type=\"simple\"><path d=\"M245.8,87.09 C184.8,116.27 85,164 85,164 C85,164 85,210 85,210 C85,210 468.42,268.29 592.65,287.17 \" fill=\"none\" id=\"E5-&gt;E2\" style=\"stroke: #383838; stroke-width: 1.0; stroke-dasharray: 7.0,7.0;\"/><polygon fill=\"#383838\" points=\"597.67,287.93,589.3794,282.6134,592.7276,287.1729,588.1681,290.5212,597.67,287.93\" style=\"stroke: #383838; stroke-width: 1.0;\"/><text fill=\"#000000\" font-family=\"sans-serif\" font-size=\"13\" lengthAdjust=\"spacingAndGlyphs\" textLength=\"62\" x=\"86\" y=\"191.5669\">«subject»</text></a><!--MD5=[9120cf2e5df3bff93db8f754bbbc09b4]\n",
       "link E5 to E6--><a href=\"psysml:fcf6c150-3866-4336-9e66-2e65ffb041aa\" target=\"_top\" title=\"psysml:fcf6c150-3866-4336-9e66-2e65ffb041aa\" xlink:actuate=\"onRequest\" xlink:href=\"psysml:fcf6c150-3866-4336-9e66-2e65ffb041aa\" xlink:show=\"new\" xlink:title=\"psysml:fcf6c150-3866-4336-9e66-2e65ffb041aa\" xlink:type=\"simple\"><path d=\"M292,87.19 C292,106.47 292,134.55 292,155.86 \" fill=\"none\" id=\"E5-&gt;E6\" style=\"stroke: #383838; stroke-width: 1.0;\"/><polygon fill=\"#383838\" points=\"292,163.95,295,155.95,289,155.95,292,163.95\" style=\"stroke: #383838; stroke-width: 1.0;\"/><text fill=\"#000000\" font-family=\"sans-serif\" font-size=\"13\" lengthAdjust=\"spacingAndGlyphs\" textLength=\"73\" x=\"293\" y=\"130.0669\">«objective»</text></a><!--MD5=[452b418e7f8a40397a49b8c0a78acc5b]\n",
       "reverse link E5 to E7--><a href=\"psysml:afcc773f-3f6f-47e3-9b17-c2b1fd7bbdc3\" target=\"_top\" title=\"psysml:afcc773f-3f6f-47e3-9b17-c2b1fd7bbdc3\" xlink:actuate=\"onRequest\" xlink:href=\"psysml:afcc773f-3f6f-47e3-9b17-c2b1fd7bbdc3\" xlink:show=\"new\" xlink:title=\"psysml:afcc773f-3f6f-47e3-9b17-c2b1fd7bbdc3\" xlink:type=\"simple\"><path d=\"M349.39,92.78 C393.99,114.36 455.01,143.9 496.33,163.89 \" fill=\"none\" id=\"E5&lt;-E7\" style=\"stroke: #383838; stroke-width: 1.0;\"/><polygon fill=\"#FFFFFF\" points=\"337.56,87.05,341.2143,93.2666,348.3582,92.2843,344.7039,86.0677,337.56,87.05\" style=\"stroke: #383838; stroke-width: 1.0;\"/><text fill=\"#000000\" font-family=\"sans-serif\" font-size=\"13\" lengthAdjust=\"spacingAndGlyphs\" textLength=\"8\" x=\"474.9812\" y=\"152.7567\">1</text></a><!--MD5=[583832df87f4419a098336a29a52fa00]\n",
       "link E7 to E2--><a href=\"psysml:09d901e9-14a1-4a34-80ae-448f8674b33c\" target=\"_top\" title=\"psysml:09d901e9-14a1-4a34-80ae-448f8674b33c\" xlink:actuate=\"onRequest\" xlink:href=\"psysml:09d901e9-14a1-4a34-80ae-448f8674b33c\" xlink:show=\"new\" xlink:title=\"psysml:09d901e9-14a1-4a34-80ae-448f8674b33c\" xlink:type=\"simple\"><path d=\"M560.66,210.01 C571.74,223.08 586.09,240.01 598.94,255.17 \" fill=\"none\" id=\"E7-&gt;E2\" style=\"stroke: #383838; stroke-width: 1.0;\"/><polygon fill=\"#FFFFFF\" points=\"612.06,270.66,594.4309,260.6994,605.1069,251.6428,612.06,270.66\" style=\"stroke: #383838; stroke-width: 1.0;\"/><ellipse cx=\"592.2687\" cy=\"255.059\" fill=\"#383838\" rx=\"2\" ry=\"2\" style=\"stroke: #383838; stroke-width: 1.0;\"/><ellipse cx=\"599.8944\" cy=\"248.5899\" fill=\"#383838\" rx=\"2\" ry=\"2\" style=\"stroke: #383838; stroke-width: 1.0;\"/></a><!--MD5=[a6eb3d02b085ac585375a9b3be642d3b]\n",
       "@startuml\r\n",
       "skinparam linetype polyline\r\n",
       "skinparam monochrome true\r\n",
       "skinparam classbackgroundcolor white\r\n",
       "skinparam shadowing false\r\n",
       "skinparam wrapWidth 300\r\n",
       "hide circle\r\n",
       "\r\n",
       "package \"TradeStudyTest\" as E1  [[psysml:0d92d0af-a8c4-487d-a88b-e96d8d162758 ]]  {\r\n",
       "comp def \"Engine\" as E2  <<(T,blue) part def>> [[psysml:90b379af-84e4-4b51-bcba-9b20024a2d1f ]] {\r\n",
       "}\r\n",
       "comp usage \"engine1: Engine\" as E3  <<(T,blue) part>> [[psysml:1fe04244-3a7b-4d3a-93e0-0fd9f61a7cea ]] {\r\n",
       "}\r\n",
       "comp usage \"engine2: Engine\" as E4  <<(T,blue) part>> [[psysml:07207da4-9c20-4091-a953-293a54d08950 ]] {\r\n",
       "}\r\n",
       "comp usage \"engineTradeStudy: TradeStudy\" as E5 << analysis>> [[psysml:c0123459-da5a-4fa7-ba13-511d4e5fcdf0 ]] {\r\n",
       "}\r\n",
       "comp usage \"tradeStudyObjective: MaximizeObjective\" as E6  <<(T,blue) requirement>> [[psysml:d3ca6a29-f1f6-48ae-8677-7ec75b0f5c21 ]] {\r\n",
       "}\r\n",
       "comp usage \"selectedAlternative: Engine\" as E7  <<(T,blue) part>> [[psysml:7894e875-c3b4-453b-9dc9-b899c04487e6 ]] {\r\n",
       "}\r\n",
       "E3 - -:|> E2 [[psysml:8801a447-7348-4a45-a550-3876c92a8627 ]] \r\n",
       "E4 - -:|> E2 [[psysml:b9350b5a-5d8f-4ac9-a55f-8ba2d0a1e030 ]] \r\n",
       "E5 ..> E2 [[psysml:ecc21de6-0c62-41d5-be03-95573cca647a ]] : <<subject>>\r\n",
       "E5 - ->> E6 [[psysml:fcf6c150-3866-4336-9e66-2e65ffb041aa ]] : <<objective>>\r\n",
       "E5 o- - \"1\"E7 [[psysml:afcc773f-3f6f-47e3-9b17-c2b1fd7bbdc3 ]] \r\n",
       "E7 - -:|> E2 [[psysml:09d901e9-14a1-4a34-80ae-448f8674b33c ]] \r\n",
       "}\r\n",
       "@enduml\r\n",
       "\n",
       "PlantUML version 1.2020.13(Sat Jun 13 12:26:38 UTC 2020)\n",
       "(EPL source distribution)\n",
       "Java Runtime: OpenJDK Runtime Environment\n",
       "JVM: OpenJDK 64-Bit Server VM\n",
       "Default Encoding: UTF-8\n",
       "Language: en\n",
       "Country: null\n",
       "--></g></svg>"
      ]
     },
     "execution_count": 10,
     "metadata": {},
     "output_type": "execute_result"
    }
   ],
   "source": [
    "%viz --style=\"POLYLINE\" --view=\"Tree\" \"TradeStudyTest\""
   ]
  },
  {
   "cell_type": "code",
   "execution_count": 11,
   "id": "654f2c35",
   "metadata": {
    "execution": {
     "iopub.execute_input": "2021-08-04T06:27:38.530711Z",
     "iopub.status.busy": "2021-08-04T06:27:38.530306Z",
     "iopub.status.idle": "2021-08-04T06:27:38.534288Z",
     "shell.execute_reply": "2021-08-04T06:27:38.534601Z"
    }
   },
   "outputs": [
    {
     "data": {
      "image/svg+xml": [
       "<?xml version=\"1.0\" encoding=\"UTF-8\" standalone=\"no\"?><svg xmlns=\"http://www.w3.org/2000/svg\" xmlns:xlink=\"http://www.w3.org/1999/xlink\" contentScriptType=\"application/ecmascript\" contentStyleType=\"text/css\" height=\"12px\" preserveAspectRatio=\"none\" style=\"width:12px;height:12px;\" version=\"1.1\" viewBox=\"0 0 12 12\" width=\"12px\" zoomAndPan=\"magnify\"><defs/><g><!--MD5=[896ac0e7a515d8dd7765a661cb4ee08b]\n",
       "@startuml\r\n",
       "skinparam linetype polyline\r\n",
       "skinparam monochrome true\r\n",
       "skinparam classbackgroundcolor white\r\n",
       "skinparam shadowing false\r\n",
       "skinparam wrapWidth 300\r\n",
       "hide circle\r\n",
       "\r\n",
       "@enduml\r\n",
       "\n",
       "PlantUML version 1.2020.13(Sat Jun 13 12:26:38 UTC 2020)\n",
       "(EPL source distribution)\n",
       "Java Runtime: OpenJDK Runtime Environment\n",
       "JVM: OpenJDK 64-Bit Server VM\n",
       "Default Encoding: UTF-8\n",
       "Language: en\n",
       "Country: null\n",
       "--></g></svg>"
      ]
     },
     "execution_count": 11,
     "metadata": {},
     "output_type": "execute_result"
    }
   ],
   "source": [
    "%viz --style=\"POLYLINE\" --view=\"State\" \"TradeStudyTest\""
   ]
  },
  {
   "cell_type": "code",
   "execution_count": 12,
   "id": "f035657a",
   "metadata": {
    "execution": {
     "iopub.execute_input": "2021-08-04T06:27:38.584697Z",
     "iopub.status.busy": "2021-08-04T06:27:38.584282Z",
     "iopub.status.idle": "2021-08-04T06:27:38.611699Z",
     "shell.execute_reply": "2021-08-04T06:27:38.610429Z"
    }
   },
   "outputs": [
    {
     "data": {
      "image/svg+xml": [
       "<?xml version=\"1.0\" encoding=\"UTF-8\" standalone=\"no\"?><svg xmlns=\"http://www.w3.org/2000/svg\" xmlns:xlink=\"http://www.w3.org/1999/xlink\" contentScriptType=\"application/ecmascript\" contentStyleType=\"text/css\" height=\"334px\" preserveAspectRatio=\"none\" style=\"width:566px;height:334px;\" version=\"1.1\" viewBox=\"0 0 566 334\" width=\"566px\" zoomAndPan=\"magnify\"><defs/><g><!--MD5=[fbc87193dbaf4d95561dea2c320d4a47]\n",
       "cluster E1--><a href=\"psysml:0d92d0af-a8c4-487d-a88b-e96d8d162758\" target=\"_top\" title=\"psysml:0d92d0af-a8c4-487d-a88b-e96d8d162758\" xlink:actuate=\"onRequest\" xlink:href=\"psysml:0d92d0af-a8c4-487d-a88b-e96d8d162758\" xlink:show=\"new\" xlink:title=\"psysml:0d92d0af-a8c4-487d-a88b-e96d8d162758\" xlink:type=\"simple\"><polygon fill=\"#FFFFFF\" points=\"16,6,148,6,155,28.2969,544,28.2969,544,322,16,322,16,6\" style=\"stroke: #000000; stroke-width: 1.5;\"/><line style=\"stroke: #000000; stroke-width: 1.5;\" x1=\"16\" x2=\"155\" y1=\"28.2969\" y2=\"28.2969\"/><text fill=\"#000000\" font-family=\"sans-serif\" font-size=\"14\" font-weight=\"bold\" lengthAdjust=\"spacingAndGlyphs\" textLength=\"126\" x=\"20\" y=\"20.9951\">TradeStudyTest</text></a><!--MD5=[270fce915f116d4de14055a7c1d9a0f3]\n",
       "class E5--><a href=\"psysml:c0123459-da5a-4fa7-ba13-511d4e5fcdf0\" target=\"_top\" title=\"psysml:c0123459-da5a-4fa7-ba13-511d4e5fcdf0\" xlink:actuate=\"onRequest\" xlink:href=\"psysml:c0123459-da5a-4fa7-ba13-511d4e5fcdf0\" xlink:show=\"new\" xlink:title=\"psysml:c0123459-da5a-4fa7-ba13-511d4e5fcdf0\" xlink:type=\"simple\"><rect fill=\"#FFFFFF\" height=\"45.9375\" id=\"E5\" rx=\"10\" ry=\"10\" style=\"stroke: #383838; stroke-width: 1.5;\" width=\"199\" x=\"328.5\" y=\"41\"/><text fill=\"#000000\" font-family=\"sans-serif\" font-size=\"12\" font-style=\"italic\" lengthAdjust=\"spacingAndGlyphs\" textLength=\"64\" x=\"396\" y=\"57.1387\">«analysis»</text><text fill=\"#000000\" font-family=\"sans-serif\" font-size=\"12\" lengthAdjust=\"spacingAndGlyphs\" textLength=\"193\" x=\"331.5\" y=\"71.1074\">engineTradeStudy: TradeStudy</text><line style=\"stroke: #383838; stroke-width: 1.5;\" x1=\"329.5\" x2=\"526.5\" y1=\"78.9375\" y2=\"78.9375\"/></a><!--MD5=[60a26617385b1d2d0262a64233df1f8d]\n",
       "class E6--><a href=\"psysml:d3ca6a29-f1f6-48ae-8677-7ec75b0f5c21\" target=\"_top\" title=\"psysml:d3ca6a29-f1f6-48ae-8677-7ec75b0f5c21\" xlink:actuate=\"onRequest\" xlink:href=\"psysml:d3ca6a29-f1f6-48ae-8677-7ec75b0f5c21\" xlink:show=\"new\" xlink:title=\"psysml:d3ca6a29-f1f6-48ae-8677-7ec75b0f5c21\" xlink:type=\"simple\"><rect fill=\"#FFFFFF\" height=\"45.9375\" id=\"E6\" rx=\"10\" ry=\"10\" style=\"stroke: #383838; stroke-width: 1.5;\" width=\"251\" x=\"32.5\" y=\"120\"/><text fill=\"#000000\" font-family=\"sans-serif\" font-size=\"12\" font-style=\"italic\" lengthAdjust=\"spacingAndGlyphs\" textLength=\"91\" x=\"112.5\" y=\"136.1387\">«requirement»</text><text fill=\"#000000\" font-family=\"sans-serif\" font-size=\"12\" lengthAdjust=\"spacingAndGlyphs\" textLength=\"245\" x=\"35.5\" y=\"150.1074\">tradeStudyObjective: MaximizeObjective</text><line style=\"stroke: #383838; stroke-width: 1.5;\" x1=\"33.5\" x2=\"282.5\" y1=\"157.9375\" y2=\"157.9375\"/></a><!--MD5=[2156ba9850f5573cc1fc38a6a4b2f02b]\n",
       "class E7--><a href=\"psysml:f099413c-f817-477f-a757-2c07f6450928\" target=\"_top\" title=\"psysml:f099413c-f817-477f-a757-2c07f6450928\" xlink:actuate=\"onRequest\" xlink:href=\"psysml:f099413c-f817-477f-a757-2c07f6450928\" xlink:show=\"new\" xlink:title=\"psysml:f099413c-f817-477f-a757-2c07f6450928\" xlink:type=\"simple\"><rect fill=\"#FFFFFF\" height=\"45.9375\" id=\"E7\" rx=\"10\" ry=\"10\" style=\"stroke: #383838; stroke-width: 1.5;\" width=\"116\" x=\"319\" y=\"120\"/><text fill=\"#000000\" font-family=\"sans-serif\" font-size=\"12\" font-style=\"italic\" lengthAdjust=\"spacingAndGlyphs\" textLength=\"82\" x=\"336\" y=\"136.1387\">«calculation»</text><text fill=\"#000000\" font-family=\"sans-serif\" font-size=\"12\" lengthAdjust=\"spacingAndGlyphs\" textLength=\"110\" x=\"322\" y=\"150.1074\">objectiveFunction</text><line style=\"stroke: #383838; stroke-width: 1.5;\" x1=\"320\" x2=\"434\" y1=\"157.9375\" y2=\"157.9375\"/></a><!--MD5=[b9389687b975829384b498ac4b7476b2]\n",
       "class E8--><a href=\"psysml:26f566d1-080d-4e4d-ba32-38c38fdc0bde\" target=\"_top\" title=\"psysml:26f566d1-080d-4e4d-ba32-38c38fdc0bde\" xlink:actuate=\"onRequest\" xlink:href=\"psysml:26f566d1-080d-4e4d-ba32-38c38fdc0bde\" xlink:show=\"new\" xlink:title=\"psysml:26f566d1-080d-4e4d-ba32-38c38fdc0bde\" xlink:type=\"simple\"><rect fill=\"#FFFFFF\" height=\"31.9688\" id=\"E8\" rx=\"10\" ry=\"10\" style=\"stroke: #383838; stroke-width: 1.5;\" width=\"124\" x=\"178\" y=\"214\"/><text fill=\"#000000\" font-family=\"sans-serif\" font-size=\"12\" lengthAdjust=\"spacingAndGlyphs\" textLength=\"118\" x=\"181\" y=\"230.1387\">alternative: Engine</text><line style=\"stroke: #383838; stroke-width: 1.5;\" x1=\"179\" x2=\"301\" y1=\"237.9688\" y2=\"237.9688\"/></a><!--MD5=[fd4143e9d270a159db93a4ea2a975926]\n",
       "class E9--><a href=\"psysml:7894e875-c3b4-453b-9dc9-b899c04487e6\" target=\"_top\" title=\"psysml:7894e875-c3b4-453b-9dc9-b899c04487e6\" xlink:actuate=\"onRequest\" xlink:href=\"psysml:7894e875-c3b4-453b-9dc9-b899c04487e6\" xlink:show=\"new\" xlink:title=\"psysml:7894e875-c3b4-453b-9dc9-b899c04487e6\" xlink:type=\"simple\"><rect fill=\"#FFFFFF\" height=\"31.9688\" id=\"E9\" rx=\"10\" ry=\"10\" style=\"stroke: #383838; stroke-width: 1.5;\" width=\"178\" x=\"246\" y=\"174\"/><text fill=\"#000000\" font-family=\"sans-serif\" font-size=\"12\" lengthAdjust=\"spacingAndGlyphs\" textLength=\"172\" x=\"249\" y=\"190.1387\">selectedAlternative: Engine</text><line style=\"stroke: #383838; stroke-width: 1.5;\" x1=\"247\" x2=\"423\" y1=\"197.9688\" y2=\"197.9688\"/></a><g id=\"E1.E2\"><a href=\"psysml:90b379af-84e4-4b51-bcba-9b20024a2d1f\" target=\"_top\" title=\"psysml:90b379af-84e4-4b51-bcba-9b20024a2d1f\" xlink:actuate=\"onRequest\" xlink:href=\"psysml:90b379af-84e4-4b51-bcba-9b20024a2d1f\" xlink:show=\"new\" xlink:title=\"psysml:90b379af-84e4-4b51-bcba-9b20024a2d1f\" xlink:type=\"simple\"><rect fill=\"#FFFFFF\" height=\"42.9375\" id=\"E2\" style=\"stroke: #383838; stroke-width: 1.5;\" width=\"71\" x=\"302.5\" y=\"263\"/><rect fill=\"#F8F8F8\" height=\"37.9375\" style=\"stroke: #383838; stroke-width: 1.5;\" width=\"71\" x=\"302.5\" y=\"263\"/><text fill=\"#000000\" font-family=\"sans-serif\" font-size=\"12\" font-style=\"italic\" lengthAdjust=\"spacingAndGlyphs\" textLength=\"64\" x=\"306\" y=\"279.1387\">«part def»</text><text fill=\"#000000\" font-family=\"sans-serif\" font-size=\"12\" lengthAdjust=\"spacingAndGlyphs\" textLength=\"43\" x=\"316.5\" y=\"293.1074\">Engine</text></a></g><g id=\"E1.E3\"><a href=\"psysml:1fe04244-3a7b-4d3a-93e0-0fd9f61a7cea\" target=\"_top\" title=\"psysml:1fe04244-3a7b-4d3a-93e0-0fd9f61a7cea\" xlink:actuate=\"onRequest\" xlink:href=\"psysml:1fe04244-3a7b-4d3a-93e0-0fd9f61a7cea\" xlink:show=\"new\" xlink:title=\"psysml:1fe04244-3a7b-4d3a-93e0-0fd9f61a7cea\" xlink:type=\"simple\"><rect fill=\"#FFFFFF\" height=\"40\" id=\"E3\" rx=\"10\" ry=\"10\" style=\"stroke: #383838; stroke-width: 1.5;\" width=\"113\" x=\"180.5\" y=\"44\"/><rect fill=\"#F8F8F8\" height=\"23.9688\" rx=\"10\" ry=\"10\" style=\"stroke: #F8F8F8; stroke-width: 1.5;\" width=\"113\" x=\"180.5\" y=\"44\"/><rect fill=\"#F8F8F8\" height=\"10\" style=\"stroke: #F8F8F8; stroke-width: 1.5;\" width=\"113\" x=\"180.5\" y=\"57.9688\"/><rect fill=\"none\" height=\"40\" id=\"E3\" rx=\"10\" ry=\"10\" style=\"stroke: #383838; stroke-width: 1.5;\" width=\"113\" x=\"180.5\" y=\"44\"/><text fill=\"#000000\" font-family=\"sans-serif\" font-size=\"12\" lengthAdjust=\"spacingAndGlyphs\" textLength=\"102\" x=\"186\" y=\"60.1387\">engine1: Engine</text></a></g><g id=\"E1.E4\"><a href=\"psysml:07207da4-9c20-4091-a953-293a54d08950\" target=\"_top\" title=\"psysml:07207da4-9c20-4091-a953-293a54d08950\" xlink:actuate=\"onRequest\" xlink:href=\"psysml:07207da4-9c20-4091-a953-293a54d08950\" xlink:show=\"new\" xlink:title=\"psysml:07207da4-9c20-4091-a953-293a54d08950\" xlink:type=\"simple\"><rect fill=\"#FFFFFF\" height=\"40\" id=\"E4\" rx=\"10\" ry=\"10\" style=\"stroke: #383838; stroke-width: 1.5;\" width=\"113\" x=\"32.5\" y=\"44\"/><rect fill=\"#F8F8F8\" height=\"23.9688\" rx=\"10\" ry=\"10\" style=\"stroke: #F8F8F8; stroke-width: 1.5;\" width=\"113\" x=\"32.5\" y=\"44\"/><rect fill=\"#F8F8F8\" height=\"10\" style=\"stroke: #F8F8F8; stroke-width: 1.5;\" width=\"113\" x=\"32.5\" y=\"57.9688\"/><rect fill=\"none\" height=\"40\" id=\"E4\" rx=\"10\" ry=\"10\" style=\"stroke: #383838; stroke-width: 1.5;\" width=\"113\" x=\"32.5\" y=\"44\"/><text fill=\"#000000\" font-family=\"sans-serif\" font-size=\"12\" lengthAdjust=\"spacingAndGlyphs\" textLength=\"102\" x=\"38\" y=\"60.1387\">engine2: Engine</text></a></g><!--MD5=[15ebcb19ae302d9b601edb458606d402]\n",
       "link E5 to E2--><a href=\"psysml:ecc21de6-0c62-41d5-be03-95573cca647a\" target=\"_top\" title=\"psysml:ecc21de6-0c62-41d5-be03-95573cca647a\" xlink:actuate=\"onRequest\" xlink:href=\"psysml:ecc21de6-0c62-41d5-be03-95573cca647a\" xlink:show=\"new\" xlink:title=\"psysml:ecc21de6-0c62-41d5-be03-95573cca647a\" xlink:type=\"simple\"><path d=\"M447.17,87.12 C451.07,91.61 454,95 454,95 C454,95 462,120 462,120 C462,120 462,166 462,166 C462,166 425,206 425,206 C425,206 390.84,236.43 365.33,259.16 \" fill=\"none\" id=\"E5-&gt;E2\" style=\"stroke: #383838; stroke-width: 1.0; stroke-dasharray: 7.0,7.0;\"/><polygon fill=\"#383838\" points=\"361.31,262.73,370.6877,259.7203,365.0399,259.4002,365.3601,253.7524,361.31,262.73\" style=\"stroke: #383838; stroke-width: 1.0;\"/><text fill=\"#000000\" font-family=\"sans-serif\" font-size=\"13\" lengthAdjust=\"spacingAndGlyphs\" textLength=\"62\" x=\"455\" y=\"194.5669\">«subject»</text></a><!--MD5=[9120cf2e5df3bff93db8f754bbbc09b4]\n",
       "link E5 to E6--><a href=\"psysml:fcf6c150-3866-4336-9e66-2e65ffb041aa\" target=\"_top\" title=\"psysml:fcf6c150-3866-4336-9e66-2e65ffb041aa\" xlink:actuate=\"onRequest\" xlink:href=\"psysml:fcf6c150-3866-4336-9e66-2e65ffb041aa\" xlink:show=\"new\" xlink:title=\"psysml:fcf6c150-3866-4336-9e66-2e65ffb041aa\" xlink:type=\"simple\"><path d=\"M344.25,87.04 C327.02,91.57 314,95 314,95 C314,95 277.3,106.06 239.5,117.45 \" fill=\"none\" id=\"E5-&gt;E6\" style=\"stroke: #383838; stroke-width: 1.0;\"/><polygon fill=\"#383838\" points=\"231.43,119.88,239.9558,120.4372,238.2199,114.6938,231.43,119.88\" style=\"stroke: #383838; stroke-width: 1.0;\"/><text fill=\"#000000\" font-family=\"sans-serif\" font-size=\"13\" lengthAdjust=\"spacingAndGlyphs\" textLength=\"73\" x=\"315\" y=\"108.0669\">«objective»</text></a><!--MD5=[452b418e7f8a40397a49b8c0a78acc5b]\n",
       "reverse link E5 to E7--><a href=\"psysml:a988c065-f70c-4bb4-ab6a-fca08357bc4a\" target=\"_top\" title=\"psysml:a988c065-f70c-4bb4-ab6a-fca08357bc4a\" xlink:actuate=\"onRequest\" xlink:href=\"psysml:a988c065-f70c-4bb4-ab6a-fca08357bc4a\" xlink:show=\"new\" xlink:title=\"psysml:a988c065-f70c-4bb4-ab6a-fca08357bc4a\" xlink:type=\"simple\"><path d=\"M405.93,98.32 C401.13,105.57 396.16,113.08 391.72,119.78 \" fill=\"none\" id=\"E5&lt;-E7\" style=\"stroke: #383838; stroke-width: 1.0;\"/><polygon fill=\"#383838\" points=\"413.25,87.27,406.6021,90.0638,406.6241,97.2749,413.272,94.4811,413.25,87.27\" style=\"stroke: #383838; stroke-width: 1.0;\"/></a><!--MD5=[dc164f5e8a733ab456ef1add180e9e34]\n",
       "reverse link E7 to E8--><a href=\"psysml:4295af6e-acd7-489b-9191-c25409e1351b\" target=\"_top\" title=\"psysml:4295af6e-acd7-489b-9191-c25409e1351b\" xlink:actuate=\"onRequest\" xlink:href=\"psysml:4295af6e-acd7-489b-9191-c25409e1351b\" xlink:show=\"new\" xlink:title=\"psysml:4295af6e-acd7-489b-9191-c25409e1351b\" xlink:type=\"simple\"><path d=\"M305.99,164.56 C302.86,165.46 301,166 301,166 C301,166 245,174 245,174 C245,174 242.85,197.69 241.37,213.97 \" fill=\"none\" id=\"E7&lt;-E8\" style=\"stroke: #383838; stroke-width: 1.0;\"/><polygon fill=\"#FFFFFF\" points=\"318.63,160.9,311.7544,158.7261,307.1032,164.2367,313.9788,166.4106,318.63,160.9\" style=\"stroke: #383838; stroke-width: 1.0;\"/><text fill=\"#000000\" font-family=\"sans-serif\" font-size=\"13\" lengthAdjust=\"spacingAndGlyphs\" textLength=\"8\" x=\"229.8486\" y=\"203.2022\">1</text></a><!--MD5=[f1f3f9f2fc535e6147756cb86a7f2e32]\n",
       "link E8 to E2--><a href=\"psysml:aed7fba6-fc0e-4a29-a473-c7d943b57344\" target=\"_top\" title=\"psysml:aed7fba6-fc0e-4a29-a473-c7d943b57344\" xlink:actuate=\"onRequest\" xlink:href=\"psysml:aed7fba6-fc0e-4a29-a473-c7d943b57344\" xlink:show=\"new\" xlink:title=\"psysml:aed7fba6-fc0e-4a29-a473-c7d943b57344\" xlink:type=\"simple\"><path d=\"M268.08,246.04 C273.23,248.8 278.76,251.77 284.38,254.77 \" fill=\"none\" id=\"E8-&gt;E2\" style=\"stroke: #383838; stroke-width: 1.0;\"/><polygon fill=\"#FFFFFF\" points=\"302.21,264.33,282.1553,261.5358,288.7616,249.1926,302.21,264.33\" style=\"stroke: #383838; stroke-width: 1.0;\"/><ellipse cx=\"278.0736\" cy=\"257.0828\" fill=\"#383838\" rx=\"2\" ry=\"2\" style=\"stroke: #383838; stroke-width: 1.0;\"/><ellipse cx=\"282.7924\" cy=\"248.2661\" fill=\"#383838\" rx=\"2\" ry=\"2\" style=\"stroke: #383838; stroke-width: 1.0;\"/></a><!--MD5=[9ae28de373ca99bb8a1b38d63370ca7e]\n",
       "reverse link E5 to E9--><a href=\"psysml:afcc773f-3f6f-47e3-9b17-c2b1fd7bbdc3\" target=\"_top\" title=\"psysml:afcc773f-3f6f-47e3-9b17-c2b1fd7bbdc3\" xlink:actuate=\"onRequest\" xlink:href=\"psysml:afcc773f-3f6f-47e3-9b17-c2b1fd7bbdc3\" xlink:show=\"new\" xlink:title=\"psysml:afcc773f-3f6f-47e3-9b17-c2b1fd7bbdc3\" xlink:type=\"simple\"><path d=\"M443.46,99.01 C448.58,110.28 453,120 453,120 C453,120 453,166 453,166 C453,166 434.45,169.62 412.06,173.98 \" fill=\"none\" id=\"E5&lt;-E9\" style=\"stroke: #383838; stroke-width: 1.0;\"/><polygon fill=\"#FFFFFF\" points=\"438.02,87.05,436.8555,94.1665,442.9767,97.9785,444.1412,90.862,438.02,87.05\" style=\"stroke: #383838; stroke-width: 1.0;\"/><text fill=\"#000000\" font-family=\"sans-serif\" font-size=\"13\" lengthAdjust=\"spacingAndGlyphs\" textLength=\"8\" x=\"432.1312\" y=\"185.3289\">1</text></a><!--MD5=[5c3bb36fe832a92c7f0e1807dd65209d]\n",
       "link E9 to E2--><a href=\"psysml:09d901e9-14a1-4a34-80ae-448f8674b33c\" target=\"_top\" title=\"psysml:09d901e9-14a1-4a34-80ae-448f8674b33c\" xlink:actuate=\"onRequest\" xlink:href=\"psysml:09d901e9-14a1-4a34-80ae-448f8674b33c\" xlink:show=\"new\" xlink:title=\"psysml:09d901e9-14a1-4a34-80ae-448f8674b33c\" xlink:type=\"simple\"><path d=\"M335.5,206.27 C335.82,216.14 336.25,229.48 336.66,242.29 \" fill=\"none\" id=\"E9-&gt;E2\" style=\"stroke: #383838; stroke-width: 1.0;\"/><polygon fill=\"#FFFFFF\" points=\"337.32,262.66,329.7128,243.8949,343.7055,243.4448,337.32,262.66\" style=\"stroke: #383838; stroke-width: 1.0;\"/><ellipse cx=\"331.5285\" cy=\"238.1335\" fill=\"#383838\" rx=\"2\" ry=\"2\" style=\"stroke: #383838; stroke-width: 1.0;\"/><ellipse cx=\"341.5233\" cy=\"237.812\" fill=\"#383838\" rx=\"2\" ry=\"2\" style=\"stroke: #383838; stroke-width: 1.0;\"/></a><!--MD5=[8cbc892e762110ffc62c828969b680cd]\n",
       "@startuml\r\n",
       "skinparam ranksep 10\r\n",
       "skinparam rectangle {\r\n",
       " backgroundColor<<block>> LightGreen\r\n",
       "}\r\n",
       "skinparam linetype polyline\r\n",
       "skinparam monochrome true\r\n",
       "skinparam classbackgroundcolor white\r\n",
       "skinparam shadowing false\r\n",
       "skinparam wrapWidth 300\r\n",
       "hide circle\r\n",
       "\r\n",
       "package \"TradeStudyTest\" as E1  [[psysml:0d92d0af-a8c4-487d-a88b-e96d8d162758 ]]  {\r\n",
       "rec def \"Engine\" as E2  <<(T,blue) part def>> [[psysml:90b379af-84e4-4b51-bcba-9b20024a2d1f ]] {\r\n",
       "}\r\n",
       "rec usage \"engine1: Engine\" as E3  [[psysml:1fe04244-3a7b-4d3a-93e0-0fd9f61a7cea ]] {\r\n",
       "}\r\n",
       "rec usage \"engine2: Engine\" as E4  [[psysml:07207da4-9c20-4091-a953-293a54d08950 ]] {\r\n",
       "}\r\n",
       "comp usage \"engineTradeStudy: TradeStudy\" as E5 << analysis>> [[psysml:c0123459-da5a-4fa7-ba13-511d4e5fcdf0 ]] {\r\n",
       "}\r\n",
       "comp usage \"tradeStudyObjective: MaximizeObjective\" as E6  <<(T,blue) requirement>> [[psysml:d3ca6a29-f1f6-48ae-8677-7ec75b0f5c21 ]] {\r\n",
       "}\r\n",
       "comp usage \"objectiveFunction\" as E7  <<(T,blue) calculation>> [[psysml:f099413c-f817-477f-a757-2c07f6450928 ]] {\r\n",
       "}\r\n",
       "comp usage \"alternative: Engine\" as E8  [[psysml:26f566d1-080d-4e4d-ba32-38c38fdc0bde ]] {\r\n",
       "}\r\n",
       "comp usage \"selectedAlternative: Engine\" as E9  [[psysml:7894e875-c3b4-453b-9dc9-b899c04487e6 ]] {\r\n",
       "}\r\n",
       "E5 ..> E2 [[psysml:ecc21de6-0c62-41d5-be03-95573cca647a ]] : <<subject>>\r\n",
       "E5 - ->> E6 [[psysml:fcf6c150-3866-4336-9e66-2e65ffb041aa ]] : <<objective>>\r\n",
       "E5 *- - E7 [[psysml:a988c065-f70c-4bb4-ab6a-fca08357bc4a ]] \r\n",
       "E7 o- - \"1\"E8 [[psysml:4295af6e-acd7-489b-9191-c25409e1351b ]] \r\n",
       "E8 - -:|> E2 [[psysml:aed7fba6-fc0e-4a29-a473-c7d943b57344 ]] \r\n",
       "E5 o- - \"1\"E9 [[psysml:afcc773f-3f6f-47e3-9b17-c2b1fd7bbdc3 ]] \r\n",
       "E9 - -:|> E2 [[psysml:09d901e9-14a1-4a34-80ae-448f8674b33c ]] \r\n",
       "}\r\n",
       "@enduml\r\n",
       "\n",
       "PlantUML version 1.2020.13(Sat Jun 13 12:26:38 UTC 2020)\n",
       "(EPL source distribution)\n",
       "Java Runtime: OpenJDK Runtime Environment\n",
       "JVM: OpenJDK 64-Bit Server VM\n",
       "Default Encoding: UTF-8\n",
       "Language: en\n",
       "Country: null\n",
       "--></g></svg>"
      ]
     },
     "execution_count": 12,
     "metadata": {},
     "output_type": "execute_result"
    }
   ],
   "source": [
    "%viz --style=\"POLYLINE\" --view=\"Interconnection\" \"TradeStudyTest\""
   ]
  },
  {
   "cell_type": "code",
   "execution_count": 13,
   "id": "5e894fdb",
   "metadata": {
    "execution": {
     "iopub.execute_input": "2021-08-04T06:27:38.661498Z",
     "iopub.status.busy": "2021-08-04T06:27:38.661048Z",
     "iopub.status.idle": "2021-08-04T06:27:38.681750Z",
     "shell.execute_reply": "2021-08-04T06:27:38.681389Z"
    }
   },
   "outputs": [
    {
     "data": {
      "image/svg+xml": [
       "<?xml version=\"1.0\" encoding=\"UTF-8\" standalone=\"no\"?><svg xmlns=\"http://www.w3.org/2000/svg\" xmlns:xlink=\"http://www.w3.org/1999/xlink\" contentScriptType=\"application/ecmascript\" contentStyleType=\"text/css\" height=\"178px\" preserveAspectRatio=\"none\" style=\"width:393px;height:178px;\" version=\"1.1\" viewBox=\"0 0 393 178\" width=\"393px\" zoomAndPan=\"magnify\"><defs/><g><!--MD5=[fbc87193dbaf4d95561dea2c320d4a47]\n",
       "cluster E1--><a href=\"psysml:c0123459-da5a-4fa7-ba13-511d4e5fcdf0\" target=\"_top\" title=\"psysml:c0123459-da5a-4fa7-ba13-511d4e5fcdf0\" xlink:actuate=\"onRequest\" xlink:href=\"psysml:c0123459-da5a-4fa7-ba13-511d4e5fcdf0\" xlink:show=\"new\" xlink:title=\"psysml:c0123459-da5a-4fa7-ba13-511d4e5fcdf0\" xlink:type=\"simple\"><rect fill=\"#FFFFFF\" height=\"103.72\" id=\"E1\" rx=\"10\" ry=\"10\" style=\"stroke: #383838; stroke-width: 1.5;\" width=\"354\" x=\"16.5\" y=\"42.0986\"/><rect fill=\"#F8F8F8\" height=\"37.9375\" rx=\"10\" ry=\"10\" style=\"stroke: #F8F8F8; stroke-width: 1.5;\" width=\"354\" x=\"16.5\" y=\"42.0986\"/><rect fill=\"#F8F8F8\" height=\"10\" style=\"stroke: #F8F8F8; stroke-width: 1.5;\" width=\"354\" x=\"16.5\" y=\"70.0361\"/><rect fill=\"none\" height=\"103.72\" id=\"E1\" rx=\"10\" ry=\"10\" style=\"stroke: #383838; stroke-width: 1.5;\" width=\"354\" x=\"16.5\" y=\"42.0986\"/><text fill=\"#000000\" font-family=\"sans-serif\" font-size=\"12\" font-style=\"italic\" lengthAdjust=\"spacingAndGlyphs\" textLength=\"64\" x=\"161.5\" y=\"58.2373\">«analysis»</text><text fill=\"#000000\" font-family=\"sans-serif\" font-size=\"12\" lengthAdjust=\"spacingAndGlyphs\" textLength=\"114\" x=\"136.5\" y=\"72.2061\">engineTradeStudy</text><line style=\"stroke: #383838; stroke-width: 1.0;\" x1=\"16.5\" x2=\"370.5\" y1=\"80.0361\" y2=\"80.0361\"/></a><!--MD5=[d5e69f78d87373223dbae638b30a9c99]\n",
       "cluster E3--><a href=\"psysml:f099413c-f817-477f-a757-2c07f6450928\" target=\"_top\" title=\"psysml:f099413c-f817-477f-a757-2c07f6450928\" xlink:actuate=\"onRequest\" xlink:href=\"psysml:f099413c-f817-477f-a757-2c07f6450928\" xlink:show=\"new\" xlink:title=\"psysml:f099413c-f817-477f-a757-2c07f6450928\" xlink:type=\"simple\"><rect fill=\"#FFFFFF\" height=\"81.72\" id=\"E3\" rx=\"10\" ry=\"10\" style=\"stroke: #383838; stroke-width: 1.5;\" width=\"150\" x=\"200.5\" y=\"64.0986\"/><rect fill=\"#F8F8F8\" height=\"37.9375\" rx=\"10\" ry=\"10\" style=\"stroke: #F8F8F8; stroke-width: 1.5;\" width=\"150\" x=\"200.5\" y=\"64.0986\"/><rect fill=\"#F8F8F8\" height=\"10\" style=\"stroke: #F8F8F8; stroke-width: 1.5;\" width=\"150\" x=\"200.5\" y=\"92.0361\"/><rect fill=\"none\" height=\"81.72\" id=\"E3\" rx=\"10\" ry=\"10\" style=\"stroke: #383838; stroke-width: 1.5;\" width=\"150\" x=\"200.5\" y=\"64.0986\"/><text fill=\"#000000\" font-family=\"sans-serif\" font-size=\"12\" font-style=\"italic\" lengthAdjust=\"spacingAndGlyphs\" textLength=\"82\" x=\"234.5\" y=\"80.2373\">«calculation»</text><text fill=\"#000000\" font-family=\"sans-serif\" font-size=\"12\" lengthAdjust=\"spacingAndGlyphs\" textLength=\"110\" x=\"220.5\" y=\"94.2061\">objectiveFunction</text><line style=\"stroke: #383838; stroke-width: 1.0;\" x1=\"200.5\" x2=\"350.5\" y1=\"102.0361\" y2=\"102.0361\"/></a><text fill=\"#000000\" font-family=\"sans-serif\" font-size=\"14\" lengthAdjust=\"spacingAndGlyphs\" textLength=\"57\" x=\"6\" y=\"20.7969\">noname</text><rect fill=\"#383838\" height=\"12\" style=\"stroke: #F8F8F8; stroke-width: 1.5;\" width=\"12\" x=\"28.5\" y=\"36.0986\"/><text fill=\"#000000\" font-family=\"sans-serif\" font-size=\"14\" lengthAdjust=\"spacingAndGlyphs\" textLength=\"57\" x=\"324\" y=\"164.8138\">noname</text><rect fill=\"#383838\" height=\"12\" style=\"stroke: #F8F8F8; stroke-width: 1.5;\" width=\"12\" x=\"346.5\" y=\"139.8186\"/><text fill=\"#000000\" font-family=\"sans-serif\" font-size=\"14\" lengthAdjust=\"spacingAndGlyphs\" textLength=\"57\" x=\"194\" y=\"164.8138\">noname</text><rect fill=\"#383838\" height=\"12\" style=\"stroke: #F8F8F8; stroke-width: 1.5;\" width=\"12\" x=\"216.5\" y=\"139.8186\"/><!--MD5=[7f955f699a4e1bf5dc37f57d040f4937]\n",
       "@startuml\r\n",
       "skinparam ranksep 8\r\n",
       "skinparam linetype polyline\r\n",
       "skinparam monochrome true\r\n",
       "skinparam classbackgroundcolor white\r\n",
       "skinparam shadowing false\r\n",
       "skinparam wrapWidth 300\r\n",
       "hide circle\r\n",
       "\r\n",
       "rec usage \"engineTradeStudy\" as E1 << analysis>> [[psysml:c0123459-da5a-4fa7-ba13-511d4e5fcdf0 ]] {\r\n",
       "portin \"noname\" as E2  [[psysml:210e0914-9352-49ef-884c-3efb23c87d05 ]] \r\n",
       "rec usage \"objectiveFunction\" as E3  <<(T,blue) calculation>> [[psysml:f099413c-f817-477f-a757-2c07f6450928 ]] {\r\n",
       "portout \"noname\" as E4  [[psysml:cddfcd13-7814-4ab4-947c-703e6331ff4e ]] \r\n",
       "}\r\n",
       "\r\n",
       "portout \"noname\" as E5  [[psysml:7894e875-c3b4-453b-9dc9-b899c04487e6 ]] \r\n",
       "}\r\n",
       "\r\n",
       "@enduml\r\n",
       "\n",
       "PlantUML version 1.2020.13(Sat Jun 13 12:26:38 UTC 2020)\n",
       "(EPL source distribution)\n",
       "Java Runtime: OpenJDK Runtime Environment\n",
       "JVM: OpenJDK 64-Bit Server VM\n",
       "Default Encoding: UTF-8\n",
       "Language: en\n",
       "Country: null\n",
       "--></g></svg>"
      ]
     },
     "execution_count": 13,
     "metadata": {},
     "output_type": "execute_result"
    }
   ],
   "source": [
    "%viz --style=\"POLYLINE\" --view=\"Action\" \"TradeStudyTest\""
   ]
  },
  {
   "cell_type": "code",
   "execution_count": 14,
   "id": "6c5d6b5c",
   "metadata": {
    "execution": {
     "iopub.execute_input": "2021-08-04T06:27:38.731612Z",
     "iopub.status.busy": "2021-08-04T06:27:38.731183Z",
     "iopub.status.idle": "2021-08-04T06:27:38.774605Z",
     "shell.execute_reply": "2021-08-04T06:27:38.774238Z"
    }
   },
   "outputs": [
    {
     "data": {
      "image/svg+xml": [
       "<?xml version=\"1.0\" encoding=\"UTF-8\" standalone=\"no\"?><svg xmlns=\"http://www.w3.org/2000/svg\" xmlns:xlink=\"http://www.w3.org/1999/xlink\" contentScriptType=\"application/ecmascript\" contentStyleType=\"text/css\" height=\"345px\" preserveAspectRatio=\"none\" style=\"width:955px;height:345px;\" version=\"1.1\" viewBox=\"0 0 955 345\" width=\"955px\" zoomAndPan=\"magnify\"><defs/><g><!--MD5=[fbc87193dbaf4d95561dea2c320d4a47]\n",
       "cluster E1--><a href=\"psysml:0d92d0af-a8c4-487d-a88b-e96d8d162758\" target=\"_top\" title=\"psysml:0d92d0af-a8c4-487d-a88b-e96d8d162758\" xlink:actuate=\"onRequest\" xlink:href=\"psysml:0d92d0af-a8c4-487d-a88b-e96d8d162758\" xlink:show=\"new\" xlink:title=\"psysml:0d92d0af-a8c4-487d-a88b-e96d8d162758\" xlink:type=\"simple\"><polygon fill=\"#FFFFFF\" points=\"16,6,148,6,155,28.2969,933,28.2969,933,333,16,333,16,6\" style=\"stroke: #000000; stroke-width: 1.5;\"/><line style=\"stroke: #000000; stroke-width: 1.5;\" x1=\"16\" x2=\"155\" y1=\"28.2969\" y2=\"28.2969\"/><text fill=\"#000000\" font-family=\"sans-serif\" font-size=\"14\" font-weight=\"bold\" lengthAdjust=\"spacingAndGlyphs\" textLength=\"126\" x=\"20\" y=\"20.9951\">TradeStudyTest</text></a><!--MD5=[b4997ac47864f28c2f74865a473b2911]\n",
       "class E2--><a href=\"psysml:90b379af-84e4-4b51-bcba-9b20024a2d1f\" target=\"_top\" title=\"psysml:90b379af-84e4-4b51-bcba-9b20024a2d1f\" xlink:actuate=\"onRequest\" xlink:href=\"psysml:90b379af-84e4-4b51-bcba-9b20024a2d1f\" xlink:show=\"new\" xlink:title=\"psysml:90b379af-84e4-4b51-bcba-9b20024a2d1f\" xlink:type=\"simple\"><rect fill=\"#FFFFFF\" height=\"45.9375\" id=\"E2\" style=\"stroke: #383838; stroke-width: 1.5;\" width=\"66\" x=\"598\" y=\"271\"/><text fill=\"#000000\" font-family=\"sans-serif\" font-size=\"12\" font-style=\"italic\" lengthAdjust=\"spacingAndGlyphs\" textLength=\"64\" x=\"599\" y=\"287.1387\">«part def»</text><text fill=\"#000000\" font-family=\"sans-serif\" font-size=\"12\" lengthAdjust=\"spacingAndGlyphs\" textLength=\"43\" x=\"609.5\" y=\"301.1074\">Engine</text><line style=\"stroke: #383838; stroke-width: 1.5;\" x1=\"599\" x2=\"663\" y1=\"308.9375\" y2=\"308.9375\"/></a><!--MD5=[09b614a08d8cba4a07c9adeb5e0fee81]\n",
       "class E3--><a href=\"psysml:1fe04244-3a7b-4d3a-93e0-0fd9f61a7cea\" target=\"_top\" title=\"psysml:1fe04244-3a7b-4d3a-93e0-0fd9f61a7cea\" xlink:actuate=\"onRequest\" xlink:href=\"psysml:1fe04244-3a7b-4d3a-93e0-0fd9f61a7cea\" xlink:show=\"new\" xlink:title=\"psysml:1fe04244-3a7b-4d3a-93e0-0fd9f61a7cea\" xlink:type=\"simple\"><rect fill=\"#FFFFFF\" height=\"45.9375\" id=\"E3\" rx=\"10\" ry=\"10\" style=\"stroke: #383838; stroke-width: 1.5;\" width=\"108\" x=\"809\" y=\"164\"/><text fill=\"#000000\" font-family=\"sans-serif\" font-size=\"12\" font-style=\"italic\" lengthAdjust=\"spacingAndGlyphs\" textLength=\"40\" x=\"843\" y=\"180.1387\">«part»</text><text fill=\"#000000\" font-family=\"sans-serif\" font-size=\"12\" lengthAdjust=\"spacingAndGlyphs\" textLength=\"102\" x=\"812\" y=\"194.1074\">engine1: Engine</text><line style=\"stroke: #383838; stroke-width: 1.5;\" x1=\"810\" x2=\"916\" y1=\"201.9375\" y2=\"201.9375\"/></a><!--MD5=[ebbe1d658d1005bcc118a6aa81145e00]\n",
       "class E4--><a href=\"psysml:07207da4-9c20-4091-a953-293a54d08950\" target=\"_top\" title=\"psysml:07207da4-9c20-4091-a953-293a54d08950\" xlink:actuate=\"onRequest\" xlink:href=\"psysml:07207da4-9c20-4091-a953-293a54d08950\" xlink:show=\"new\" xlink:title=\"psysml:07207da4-9c20-4091-a953-293a54d08950\" xlink:type=\"simple\"><rect fill=\"#FFFFFF\" height=\"45.9375\" id=\"E4\" rx=\"10\" ry=\"10\" style=\"stroke: #383838; stroke-width: 1.5;\" width=\"108\" x=\"666\" y=\"164\"/><text fill=\"#000000\" font-family=\"sans-serif\" font-size=\"12\" font-style=\"italic\" lengthAdjust=\"spacingAndGlyphs\" textLength=\"40\" x=\"700\" y=\"180.1387\">«part»</text><text fill=\"#000000\" font-family=\"sans-serif\" font-size=\"12\" lengthAdjust=\"spacingAndGlyphs\" textLength=\"102\" x=\"669\" y=\"194.1074\">engine2: Engine</text><line style=\"stroke: #383838; stroke-width: 1.5;\" x1=\"667\" x2=\"773\" y1=\"201.9375\" y2=\"201.9375\"/></a><!--MD5=[270fce915f116d4de14055a7c1d9a0f3]\n",
       "class E5--><a href=\"psysml:c0123459-da5a-4fa7-ba13-511d4e5fcdf0\" target=\"_top\" title=\"psysml:c0123459-da5a-4fa7-ba13-511d4e5fcdf0\" xlink:actuate=\"onRequest\" xlink:href=\"psysml:c0123459-da5a-4fa7-ba13-511d4e5fcdf0\" xlink:show=\"new\" xlink:title=\"psysml:c0123459-da5a-4fa7-ba13-511d4e5fcdf0\" xlink:type=\"simple\"><rect fill=\"#FFFFFF\" height=\"45.9375\" id=\"E5\" rx=\"10\" ry=\"10\" style=\"stroke: #383838; stroke-width: 1.5;\" width=\"199\" x=\"192.5\" y=\"41\"/><text fill=\"#000000\" font-family=\"sans-serif\" font-size=\"12\" font-style=\"italic\" lengthAdjust=\"spacingAndGlyphs\" textLength=\"64\" x=\"260\" y=\"57.1387\">«analysis»</text><text fill=\"#000000\" font-family=\"sans-serif\" font-size=\"12\" lengthAdjust=\"spacingAndGlyphs\" textLength=\"193\" x=\"195.5\" y=\"71.1074\">engineTradeStudy: TradeStudy</text><line style=\"stroke: #383838; stroke-width: 1.5;\" x1=\"193.5\" x2=\"390.5\" y1=\"78.9375\" y2=\"78.9375\"/></a><!--MD5=[60a26617385b1d2d0262a64233df1f8d]\n",
       "class E6--><a href=\"psysml:d3ca6a29-f1f6-48ae-8677-7ec75b0f5c21\" target=\"_top\" title=\"psysml:d3ca6a29-f1f6-48ae-8677-7ec75b0f5c21\" xlink:actuate=\"onRequest\" xlink:href=\"psysml:d3ca6a29-f1f6-48ae-8677-7ec75b0f5c21\" xlink:show=\"new\" xlink:title=\"psysml:d3ca6a29-f1f6-48ae-8677-7ec75b0f5c21\" xlink:type=\"simple\"><rect fill=\"#FFFFFF\" height=\"45.9375\" id=\"E6\" rx=\"10\" ry=\"10\" style=\"stroke: #383838; stroke-width: 1.5;\" width=\"251\" x=\"166.5\" y=\"164\"/><text fill=\"#000000\" font-family=\"sans-serif\" font-size=\"12\" font-style=\"italic\" lengthAdjust=\"spacingAndGlyphs\" textLength=\"91\" x=\"246.5\" y=\"180.1387\">«requirement»</text><text fill=\"#000000\" font-family=\"sans-serif\" font-size=\"12\" lengthAdjust=\"spacingAndGlyphs\" textLength=\"245\" x=\"169.5\" y=\"194.1074\">tradeStudyObjective: MaximizeObjective</text><line style=\"stroke: #383838; stroke-width: 1.5;\" x1=\"167.5\" x2=\"416.5\" y1=\"201.9375\" y2=\"201.9375\"/></a><!--MD5=[2156ba9850f5573cc1fc38a6a4b2f02b]\n",
       "class E7--><a href=\"psysml:7894e875-c3b4-453b-9dc9-b899c04487e6\" target=\"_top\" title=\"psysml:7894e875-c3b4-453b-9dc9-b899c04487e6\" xlink:actuate=\"onRequest\" xlink:href=\"psysml:7894e875-c3b4-453b-9dc9-b899c04487e6\" xlink:show=\"new\" xlink:title=\"psysml:7894e875-c3b4-453b-9dc9-b899c04487e6\" xlink:type=\"simple\"><rect fill=\"#FFFFFF\" height=\"45.9375\" id=\"E7\" rx=\"10\" ry=\"10\" style=\"stroke: #383838; stroke-width: 1.5;\" width=\"178\" x=\"453\" y=\"164\"/><text fill=\"#000000\" font-family=\"sans-serif\" font-size=\"12\" font-style=\"italic\" lengthAdjust=\"spacingAndGlyphs\" textLength=\"40\" x=\"522\" y=\"180.1387\">«part»</text><text fill=\"#000000\" font-family=\"sans-serif\" font-size=\"12\" lengthAdjust=\"spacingAndGlyphs\" textLength=\"172\" x=\"456\" y=\"194.1074\">selectedAlternative: Engine</text><line style=\"stroke: #383838; stroke-width: 1.5;\" x1=\"454\" x2=\"630\" y1=\"201.9375\" y2=\"201.9375\"/></a><!--MD5=[05d275557350bfb9b23a4ef7222b4c39]\n",
       "link E3 to E2--><a href=\"psysml:8801a447-7348-4a45-a550-3876c92a8627\" target=\"_top\" title=\"psysml:8801a447-7348-4a45-a550-3876c92a8627\" xlink:actuate=\"onRequest\" xlink:href=\"psysml:8801a447-7348-4a45-a550-3876c92a8627\" xlink:show=\"new\" xlink:title=\"psysml:8801a447-7348-4a45-a550-3876c92a8627\" xlink:type=\"simple\"><path d=\"M814.37,210.01 C775.74,227.49 721.88,251.87 682.52,269.68 \" fill=\"none\" id=\"E3-&gt;E2\" style=\"stroke: #383838; stroke-width: 1.0;\"/><polygon fill=\"#FFFFFF\" points=\"664.23,277.96,678.6446,263.7397,684.4251,276.4906,664.23,277.96\" style=\"stroke: #383838; stroke-width: 1.0;\"/><ellipse cx=\"684.6619\" cy=\"263.2078\" fill=\"#383838\" rx=\"2\" ry=\"2\" style=\"stroke: #383838; stroke-width: 1.0;\"/><ellipse cx=\"688.7908\" cy=\"272.3156\" fill=\"#383838\" rx=\"2\" ry=\"2\" style=\"stroke: #383838; stroke-width: 1.0;\"/></a><!--MD5=[185131fc0dcab0a4505a2ebe144e961b]\n",
       "link E4 to E2--><a href=\"psysml:b9350b5a-5d8f-4ac9-a55f-8ba2d0a1e030\" target=\"_top\" title=\"psysml:b9350b5a-5d8f-4ac9-a55f-8ba2d0a1e030\" xlink:actuate=\"onRequest\" xlink:href=\"psysml:b9350b5a-5d8f-4ac9-a55f-8ba2d0a1e030\" xlink:show=\"new\" xlink:title=\"psysml:b9350b5a-5d8f-4ac9-a55f-8ba2d0a1e030\" xlink:type=\"simple\"><path d=\"M701.34,210.01 C690.26,223.08 675.91,240.01 663.06,255.17 \" fill=\"none\" id=\"E4-&gt;E2\" style=\"stroke: #383838; stroke-width: 1.0;\"/><polygon fill=\"#FFFFFF\" points=\"649.94,270.66,656.8931,251.6428,667.5691,260.6994,649.94,270.66\" style=\"stroke: #383838; stroke-width: 1.0;\"/><ellipse cx=\"662.1056\" cy=\"248.5899\" fill=\"#383838\" rx=\"2\" ry=\"2\" style=\"stroke: #383838; stroke-width: 1.0;\"/><ellipse cx=\"669.7313\" cy=\"255.059\" fill=\"#383838\" rx=\"2\" ry=\"2\" style=\"stroke: #383838; stroke-width: 1.0;\"/></a><!--MD5=[15ebcb19ae302d9b601edb458606d402]\n",
       "link E5 to E2--><a href=\"psysml:ecc21de6-0c62-41d5-be03-95573cca647a\" target=\"_top\" title=\"psysml:ecc21de6-0c62-41d5-be03-95573cca647a\" xlink:actuate=\"onRequest\" xlink:href=\"psysml:ecc21de6-0c62-41d5-be03-95573cca647a\" xlink:show=\"new\" xlink:title=\"psysml:ecc21de6-0c62-41d5-be03-95573cca647a\" xlink:type=\"simple\"><path d=\"M245.8,87.09 C184.8,116.27 85,164 85,164 C85,164 85,210 85,210 C85,210 468.42,268.29 592.65,287.17 \" fill=\"none\" id=\"E5-&gt;E2\" style=\"stroke: #383838; stroke-width: 1.0; stroke-dasharray: 7.0,7.0;\"/><polygon fill=\"#383838\" points=\"597.67,287.93,589.3794,282.6134,592.7276,287.1729,588.1681,290.5212,597.67,287.93\" style=\"stroke: #383838; stroke-width: 1.0;\"/><text fill=\"#000000\" font-family=\"sans-serif\" font-size=\"13\" lengthAdjust=\"spacingAndGlyphs\" textLength=\"62\" x=\"86\" y=\"191.5669\">«subject»</text></a><!--MD5=[9120cf2e5df3bff93db8f754bbbc09b4]\n",
       "link E5 to E6--><a href=\"psysml:fcf6c150-3866-4336-9e66-2e65ffb041aa\" target=\"_top\" title=\"psysml:fcf6c150-3866-4336-9e66-2e65ffb041aa\" xlink:actuate=\"onRequest\" xlink:href=\"psysml:fcf6c150-3866-4336-9e66-2e65ffb041aa\" xlink:show=\"new\" xlink:title=\"psysml:fcf6c150-3866-4336-9e66-2e65ffb041aa\" xlink:type=\"simple\"><path d=\"M292,87.19 C292,106.47 292,134.55 292,155.86 \" fill=\"none\" id=\"E5-&gt;E6\" style=\"stroke: #383838; stroke-width: 1.0;\"/><polygon fill=\"#383838\" points=\"292,163.95,295,155.95,289,155.95,292,163.95\" style=\"stroke: #383838; stroke-width: 1.0;\"/><text fill=\"#000000\" font-family=\"sans-serif\" font-size=\"13\" lengthAdjust=\"spacingAndGlyphs\" textLength=\"73\" x=\"293\" y=\"130.0669\">«objective»</text></a><!--MD5=[452b418e7f8a40397a49b8c0a78acc5b]\n",
       "reverse link E5 to E7--><a href=\"psysml:afcc773f-3f6f-47e3-9b17-c2b1fd7bbdc3\" target=\"_top\" title=\"psysml:afcc773f-3f6f-47e3-9b17-c2b1fd7bbdc3\" xlink:actuate=\"onRequest\" xlink:href=\"psysml:afcc773f-3f6f-47e3-9b17-c2b1fd7bbdc3\" xlink:show=\"new\" xlink:title=\"psysml:afcc773f-3f6f-47e3-9b17-c2b1fd7bbdc3\" xlink:type=\"simple\"><path d=\"M349.39,92.78 C393.99,114.36 455.01,143.9 496.33,163.89 \" fill=\"none\" id=\"E5&lt;-E7\" style=\"stroke: #383838; stroke-width: 1.0;\"/><polygon fill=\"#FFFFFF\" points=\"337.56,87.05,341.2143,93.2666,348.3582,92.2843,344.7039,86.0677,337.56,87.05\" style=\"stroke: #383838; stroke-width: 1.0;\"/><text fill=\"#000000\" font-family=\"sans-serif\" font-size=\"13\" lengthAdjust=\"spacingAndGlyphs\" textLength=\"8\" x=\"474.9812\" y=\"152.7567\">1</text></a><!--MD5=[583832df87f4419a098336a29a52fa00]\n",
       "link E7 to E2--><a href=\"psysml:09d901e9-14a1-4a34-80ae-448f8674b33c\" target=\"_top\" title=\"psysml:09d901e9-14a1-4a34-80ae-448f8674b33c\" xlink:actuate=\"onRequest\" xlink:href=\"psysml:09d901e9-14a1-4a34-80ae-448f8674b33c\" xlink:show=\"new\" xlink:title=\"psysml:09d901e9-14a1-4a34-80ae-448f8674b33c\" xlink:type=\"simple\"><path d=\"M560.66,210.01 C571.74,223.08 586.09,240.01 598.94,255.17 \" fill=\"none\" id=\"E7-&gt;E2\" style=\"stroke: #383838; stroke-width: 1.0;\"/><polygon fill=\"#FFFFFF\" points=\"612.06,270.66,594.4309,260.6994,605.1069,251.6428,612.06,270.66\" style=\"stroke: #383838; stroke-width: 1.0;\"/><ellipse cx=\"592.2687\" cy=\"255.059\" fill=\"#383838\" rx=\"2\" ry=\"2\" style=\"stroke: #383838; stroke-width: 1.0;\"/><ellipse cx=\"599.8944\" cy=\"248.5899\" fill=\"#383838\" rx=\"2\" ry=\"2\" style=\"stroke: #383838; stroke-width: 1.0;\"/></a><!--MD5=[a6eb3d02b085ac585375a9b3be642d3b]\n",
       "@startuml\r\n",
       "skinparam linetype polyline\r\n",
       "skinparam monochrome true\r\n",
       "skinparam classbackgroundcolor white\r\n",
       "skinparam shadowing false\r\n",
       "skinparam wrapWidth 300\r\n",
       "hide circle\r\n",
       "\r\n",
       "package \"TradeStudyTest\" as E1  [[psysml:0d92d0af-a8c4-487d-a88b-e96d8d162758 ]]  {\r\n",
       "comp def \"Engine\" as E2  <<(T,blue) part def>> [[psysml:90b379af-84e4-4b51-bcba-9b20024a2d1f ]] {\r\n",
       "}\r\n",
       "comp usage \"engine1: Engine\" as E3  <<(T,blue) part>> [[psysml:1fe04244-3a7b-4d3a-93e0-0fd9f61a7cea ]] {\r\n",
       "}\r\n",
       "comp usage \"engine2: Engine\" as E4  <<(T,blue) part>> [[psysml:07207da4-9c20-4091-a953-293a54d08950 ]] {\r\n",
       "}\r\n",
       "comp usage \"engineTradeStudy: TradeStudy\" as E5 << analysis>> [[psysml:c0123459-da5a-4fa7-ba13-511d4e5fcdf0 ]] {\r\n",
       "}\r\n",
       "comp usage \"tradeStudyObjective: MaximizeObjective\" as E6  <<(T,blue) requirement>> [[psysml:d3ca6a29-f1f6-48ae-8677-7ec75b0f5c21 ]] {\r\n",
       "}\r\n",
       "comp usage \"selectedAlternative: Engine\" as E7  <<(T,blue) part>> [[psysml:7894e875-c3b4-453b-9dc9-b899c04487e6 ]] {\r\n",
       "}\r\n",
       "E3 - -:|> E2 [[psysml:8801a447-7348-4a45-a550-3876c92a8627 ]] \r\n",
       "E4 - -:|> E2 [[psysml:b9350b5a-5d8f-4ac9-a55f-8ba2d0a1e030 ]] \r\n",
       "E5 ..> E2 [[psysml:ecc21de6-0c62-41d5-be03-95573cca647a ]] : <<subject>>\r\n",
       "E5 - ->> E6 [[psysml:fcf6c150-3866-4336-9e66-2e65ffb041aa ]] : <<objective>>\r\n",
       "E5 o- - \"1\"E7 [[psysml:afcc773f-3f6f-47e3-9b17-c2b1fd7bbdc3 ]] \r\n",
       "E7 - -:|> E2 [[psysml:09d901e9-14a1-4a34-80ae-448f8674b33c ]] \r\n",
       "}\r\n",
       "@enduml\r\n",
       "\n",
       "PlantUML version 1.2020.13(Sat Jun 13 12:26:38 UTC 2020)\n",
       "(EPL source distribution)\n",
       "Java Runtime: OpenJDK Runtime Environment\n",
       "JVM: OpenJDK 64-Bit Server VM\n",
       "Default Encoding: UTF-8\n",
       "Language: en\n",
       "Country: null\n",
       "--></g></svg>"
      ]
     },
     "execution_count": 14,
     "metadata": {},
     "output_type": "execute_result"
    }
   ],
   "source": [
    "%viz --style=\"POLYLINE\" --view=\"Sequence\" \"TradeStudyTest\""
   ]
  },
  {
   "cell_type": "code",
   "execution_count": 15,
   "id": "db2a29cf",
   "metadata": {
    "execution": {
     "iopub.execute_input": "2021-08-04T06:27:38.824641Z",
     "iopub.status.busy": "2021-08-04T06:27:38.824140Z",
     "iopub.status.idle": "2021-08-04T06:27:38.866231Z",
     "shell.execute_reply": "2021-08-04T06:27:38.865849Z"
    }
   },
   "outputs": [
    {
     "data": {
      "image/svg+xml": [
       "<?xml version=\"1.0\" encoding=\"UTF-8\" standalone=\"no\"?><svg xmlns=\"http://www.w3.org/2000/svg\" xmlns:xlink=\"http://www.w3.org/1999/xlink\" contentScriptType=\"application/ecmascript\" contentStyleType=\"text/css\" height=\"497px\" preserveAspectRatio=\"none\" style=\"width:554px;height:497px;\" version=\"1.1\" viewBox=\"0 0 554 497\" width=\"554px\" zoomAndPan=\"magnify\"><defs/><g><!--MD5=[fbc87193dbaf4d95561dea2c320d4a47]\n",
       "cluster E1--><a href=\"psysml:0d92d0af-a8c4-487d-a88b-e96d8d162758\" target=\"_top\" title=\"psysml:0d92d0af-a8c4-487d-a88b-e96d8d162758\" xlink:actuate=\"onRequest\" xlink:href=\"psysml:0d92d0af-a8c4-487d-a88b-e96d8d162758\" xlink:show=\"new\" xlink:title=\"psysml:0d92d0af-a8c4-487d-a88b-e96d8d162758\" xlink:type=\"simple\"><polygon fill=\"#FFFFFF\" points=\"16,6,148,6,155,28.2969,532,28.2969,532,485,16,485,16,6\" style=\"stroke: #000000; stroke-width: 1.5;\"/><line style=\"stroke: #000000; stroke-width: 1.5;\" x1=\"16\" x2=\"155\" y1=\"28.2969\" y2=\"28.2969\"/><text fill=\"#000000\" font-family=\"sans-serif\" font-size=\"14\" font-weight=\"bold\" lengthAdjust=\"spacingAndGlyphs\" textLength=\"126\" x=\"20\" y=\"20.9951\">TradeStudyTest</text></a><!--MD5=[b4997ac47864f28c2f74865a473b2911]\n",
       "class E2--><a href=\"psysml:90b379af-84e4-4b51-bcba-9b20024a2d1f\" target=\"_top\" title=\"psysml:90b379af-84e4-4b51-bcba-9b20024a2d1f\" xlink:actuate=\"onRequest\" xlink:href=\"psysml:90b379af-84e4-4b51-bcba-9b20024a2d1f\" xlink:show=\"new\" xlink:title=\"psysml:90b379af-84e4-4b51-bcba-9b20024a2d1f\" xlink:type=\"simple\"><rect fill=\"#FFFFFF\" height=\"45.9375\" id=\"E2\" style=\"stroke: #383838; stroke-width: 1.5;\" width=\"66\" x=\"196\" y=\"423\"/><text fill=\"#000000\" font-family=\"sans-serif\" font-size=\"12\" font-style=\"italic\" lengthAdjust=\"spacingAndGlyphs\" textLength=\"64\" x=\"197\" y=\"439.1387\">«part def»</text><text fill=\"#000000\" font-family=\"sans-serif\" font-size=\"12\" lengthAdjust=\"spacingAndGlyphs\" textLength=\"43\" x=\"207.5\" y=\"453.1074\">Engine</text><line style=\"stroke: #383838; stroke-width: 1.5;\" x1=\"197\" x2=\"261\" y1=\"460.9375\" y2=\"460.9375\"/></a><!--MD5=[09b614a08d8cba4a07c9adeb5e0fee81]\n",
       "class E3--><a href=\"psysml:1fe04244-3a7b-4d3a-93e0-0fd9f61a7cea\" target=\"_top\" title=\"psysml:1fe04244-3a7b-4d3a-93e0-0fd9f61a7cea\" xlink:actuate=\"onRequest\" xlink:href=\"psysml:1fe04244-3a7b-4d3a-93e0-0fd9f61a7cea\" xlink:show=\"new\" xlink:title=\"psysml:1fe04244-3a7b-4d3a-93e0-0fd9f61a7cea\" xlink:type=\"simple\"><rect fill=\"#FFFFFF\" height=\"45.9375\" id=\"E3\" rx=\"10\" ry=\"10\" style=\"stroke: #383838; stroke-width: 1.5;\" width=\"108\" x=\"408\" y=\"316\"/><text fill=\"#000000\" font-family=\"sans-serif\" font-size=\"12\" font-style=\"italic\" lengthAdjust=\"spacingAndGlyphs\" textLength=\"40\" x=\"442\" y=\"332.1387\">«part»</text><text fill=\"#000000\" font-family=\"sans-serif\" font-size=\"12\" lengthAdjust=\"spacingAndGlyphs\" textLength=\"102\" x=\"411\" y=\"346.1074\">engine1: Engine</text><line style=\"stroke: #383838; stroke-width: 1.5;\" x1=\"409\" x2=\"515\" y1=\"353.9375\" y2=\"353.9375\"/></a><!--MD5=[ebbe1d658d1005bcc118a6aa81145e00]\n",
       "class E4--><a href=\"psysml:07207da4-9c20-4091-a953-293a54d08950\" target=\"_top\" title=\"psysml:07207da4-9c20-4091-a953-293a54d08950\" xlink:actuate=\"onRequest\" xlink:href=\"psysml:07207da4-9c20-4091-a953-293a54d08950\" xlink:show=\"new\" xlink:title=\"psysml:07207da4-9c20-4091-a953-293a54d08950\" xlink:type=\"simple\"><rect fill=\"#FFFFFF\" height=\"45.9375\" id=\"E4\" rx=\"10\" ry=\"10\" style=\"stroke: #383838; stroke-width: 1.5;\" width=\"108\" x=\"265\" y=\"316\"/><text fill=\"#000000\" font-family=\"sans-serif\" font-size=\"12\" font-style=\"italic\" lengthAdjust=\"spacingAndGlyphs\" textLength=\"40\" x=\"299\" y=\"332.1387\">«part»</text><text fill=\"#000000\" font-family=\"sans-serif\" font-size=\"12\" lengthAdjust=\"spacingAndGlyphs\" textLength=\"102\" x=\"268\" y=\"346.1074\">engine2: Engine</text><line style=\"stroke: #383838; stroke-width: 1.5;\" x1=\"266\" x2=\"372\" y1=\"353.9375\" y2=\"353.9375\"/></a><!--MD5=[270fce915f116d4de14055a7c1d9a0f3]\n",
       "class E5--><a href=\"psysml:c0123459-da5a-4fa7-ba13-511d4e5fcdf0\" target=\"_top\" title=\"psysml:c0123459-da5a-4fa7-ba13-511d4e5fcdf0\" xlink:actuate=\"onRequest\" xlink:href=\"psysml:c0123459-da5a-4fa7-ba13-511d4e5fcdf0\" xlink:show=\"new\" xlink:title=\"psysml:c0123459-da5a-4fa7-ba13-511d4e5fcdf0\" xlink:type=\"simple\"><rect fill=\"#FFFFFF\" height=\"45.9375\" id=\"E5\" rx=\"10\" ry=\"10\" style=\"stroke: #383838; stroke-width: 1.5;\" width=\"199\" x=\"237.5\" y=\"41\"/><text fill=\"#000000\" font-family=\"sans-serif\" font-size=\"12\" font-style=\"italic\" lengthAdjust=\"spacingAndGlyphs\" textLength=\"64\" x=\"305\" y=\"57.1387\">«analysis»</text><text fill=\"#000000\" font-family=\"sans-serif\" font-size=\"12\" lengthAdjust=\"spacingAndGlyphs\" textLength=\"193\" x=\"240.5\" y=\"71.1074\">engineTradeStudy: TradeStudy</text><line style=\"stroke: #383838; stroke-width: 1.5;\" x1=\"238.5\" x2=\"435.5\" y1=\"78.9375\" y2=\"78.9375\"/></a><!--MD5=[60a26617385b1d2d0262a64233df1f8d]\n",
       "class E6--><a href=\"psysml:d3ca6a29-f1f6-48ae-8677-7ec75b0f5c21\" target=\"_top\" title=\"psysml:d3ca6a29-f1f6-48ae-8677-7ec75b0f5c21\" xlink:actuate=\"onRequest\" xlink:href=\"psysml:d3ca6a29-f1f6-48ae-8677-7ec75b0f5c21\" xlink:show=\"new\" xlink:title=\"psysml:d3ca6a29-f1f6-48ae-8677-7ec75b0f5c21\" xlink:type=\"simple\"><rect fill=\"#FFFFFF\" height=\"45.9375\" id=\"E6\" rx=\"10\" ry=\"10\" style=\"stroke: #383838; stroke-width: 1.5;\" width=\"251\" x=\"76.5\" y=\"164\"/><text fill=\"#000000\" font-family=\"sans-serif\" font-size=\"12\" font-style=\"italic\" lengthAdjust=\"spacingAndGlyphs\" textLength=\"91\" x=\"156.5\" y=\"180.1387\">«requirement»</text><text fill=\"#000000\" font-family=\"sans-serif\" font-size=\"12\" lengthAdjust=\"spacingAndGlyphs\" textLength=\"245\" x=\"79.5\" y=\"194.1074\">tradeStudyObjective: MaximizeObjective</text><line style=\"stroke: #383838; stroke-width: 1.5;\" x1=\"77.5\" x2=\"326.5\" y1=\"201.9375\" y2=\"201.9375\"/></a><!--MD5=[2156ba9850f5573cc1fc38a6a4b2f02b]\n",
       "class E7--><a href=\"psysml:f099413c-f817-477f-a757-2c07f6450928\" target=\"_top\" title=\"psysml:f099413c-f817-477f-a757-2c07f6450928\" xlink:actuate=\"onRequest\" xlink:href=\"psysml:f099413c-f817-477f-a757-2c07f6450928\" xlink:show=\"new\" xlink:title=\"psysml:f099413c-f817-477f-a757-2c07f6450928\" xlink:type=\"simple\"><rect fill=\"#FFFFFF\" height=\"45.9375\" id=\"E7\" rx=\"10\" ry=\"10\" style=\"stroke: #383838; stroke-width: 1.5;\" width=\"116\" x=\"363\" y=\"164\"/><text fill=\"#000000\" font-family=\"sans-serif\" font-size=\"12\" font-style=\"italic\" lengthAdjust=\"spacingAndGlyphs\" textLength=\"82\" x=\"380\" y=\"180.1387\">«calculation»</text><text fill=\"#000000\" font-family=\"sans-serif\" font-size=\"12\" lengthAdjust=\"spacingAndGlyphs\" textLength=\"110\" x=\"366\" y=\"194.1074\">objectiveFunction</text><line style=\"stroke: #383838; stroke-width: 1.5;\" x1=\"364\" x2=\"478\" y1=\"201.9375\" y2=\"201.9375\"/></a><!--MD5=[b9389687b975829384b498ac4b7476b2]\n",
       "class E8--><a href=\"psysml:26f566d1-080d-4e4d-ba32-38c38fdc0bde\" target=\"_top\" title=\"psysml:26f566d1-080d-4e4d-ba32-38c38fdc0bde\" xlink:actuate=\"onRequest\" xlink:href=\"psysml:26f566d1-080d-4e4d-ba32-38c38fdc0bde\" xlink:show=\"new\" xlink:title=\"psysml:26f566d1-080d-4e4d-ba32-38c38fdc0bde\" xlink:type=\"simple\"><rect fill=\"#FFFFFF\" height=\"45.9375\" id=\"E8\" rx=\"10\" ry=\"10\" style=\"stroke: #383838; stroke-width: 1.5;\" width=\"124\" x=\"69\" y=\"316\"/><text fill=\"#000000\" font-family=\"sans-serif\" font-size=\"12\" font-style=\"italic\" lengthAdjust=\"spacingAndGlyphs\" textLength=\"40\" x=\"111\" y=\"332.1387\">«part»</text><text fill=\"#000000\" font-family=\"sans-serif\" font-size=\"12\" lengthAdjust=\"spacingAndGlyphs\" textLength=\"118\" x=\"72\" y=\"346.1074\">alternative: Engine</text><line style=\"stroke: #383838; stroke-width: 1.5;\" x1=\"70\" x2=\"192\" y1=\"353.9375\" y2=\"353.9375\"/></a><!--MD5=[fd4143e9d270a159db93a4ea2a975926]\n",
       "class E9--><a href=\"psysml:7894e875-c3b4-453b-9dc9-b899c04487e6\" target=\"_top\" title=\"psysml:7894e875-c3b4-453b-9dc9-b899c04487e6\" xlink:actuate=\"onRequest\" xlink:href=\"psysml:7894e875-c3b4-453b-9dc9-b899c04487e6\" xlink:show=\"new\" xlink:title=\"psysml:7894e875-c3b4-453b-9dc9-b899c04487e6\" xlink:type=\"simple\"><rect fill=\"#FFFFFF\" height=\"45.9375\" id=\"E9\" rx=\"10\" ry=\"10\" style=\"stroke: #383838; stroke-width: 1.5;\" width=\"178\" x=\"289\" y=\"240\"/><text fill=\"#000000\" font-family=\"sans-serif\" font-size=\"12\" font-style=\"italic\" lengthAdjust=\"spacingAndGlyphs\" textLength=\"40\" x=\"358\" y=\"256.1387\">«part»</text><text fill=\"#000000\" font-family=\"sans-serif\" font-size=\"12\" lengthAdjust=\"spacingAndGlyphs\" textLength=\"172\" x=\"292\" y=\"270.1074\">selectedAlternative: Engine</text><line style=\"stroke: #383838; stroke-width: 1.5;\" x1=\"290\" x2=\"466\" y1=\"277.9375\" y2=\"277.9375\"/></a><!--MD5=[05d275557350bfb9b23a4ef7222b4c39]\n",
       "link E3 to E2--><a href=\"psysml:8801a447-7348-4a45-a550-3876c92a8627\" target=\"_top\" title=\"psysml:8801a447-7348-4a45-a550-3876c92a8627\" xlink:actuate=\"onRequest\" xlink:href=\"psysml:8801a447-7348-4a45-a550-3876c92a8627\" xlink:show=\"new\" xlink:title=\"psysml:8801a447-7348-4a45-a550-3876c92a8627\" xlink:type=\"simple\"><path d=\"M413.16,362.01 C374.25,379.54 319.95,404.01 280.39,421.84 \" fill=\"none\" id=\"E3-&gt;E2\" style=\"stroke: #383838; stroke-width: 1.0;\"/><polygon fill=\"#FFFFFF\" points=\"262.02,430.12,276.4666,415.9321,282.2183,428.696,262.02,430.12\" style=\"stroke: #383838; stroke-width: 1.0;\"/><ellipse cx=\"282.485\" cy=\"415.4137\" fill=\"#383838\" rx=\"2\" ry=\"2\" style=\"stroke: #383838; stroke-width: 1.0;\"/><ellipse cx=\"286.5934\" cy=\"424.5308\" fill=\"#383838\" rx=\"2\" ry=\"2\" style=\"stroke: #383838; stroke-width: 1.0;\"/></a><!--MD5=[185131fc0dcab0a4505a2ebe144e961b]\n",
       "link E4 to E2--><a href=\"psysml:b9350b5a-5d8f-4ac9-a55f-8ba2d0a1e030\" target=\"_top\" title=\"psysml:b9350b5a-5d8f-4ac9-a55f-8ba2d0a1e030\" xlink:actuate=\"onRequest\" xlink:href=\"psysml:b9350b5a-5d8f-4ac9-a55f-8ba2d0a1e030\" xlink:show=\"new\" xlink:title=\"psysml:b9350b5a-5d8f-4ac9-a55f-8ba2d0a1e030\" xlink:type=\"simple\"><path d=\"M300.13,362.01 C288.93,375.08 274.42,392.01 261.42,407.17 \" fill=\"none\" id=\"E4-&gt;E2\" style=\"stroke: #383838; stroke-width: 1.0;\"/><polygon fill=\"#FFFFFF\" points=\"248.15,422.66,255.1988,403.678,265.8291,412.7883,248.15,422.66\" style=\"stroke: #383838; stroke-width: 1.0;\"/><ellipse cx=\"260.4266\" cy=\"400.6515\" fill=\"#383838\" rx=\"2\" ry=\"2\" style=\"stroke: #383838; stroke-width: 1.0;\"/><ellipse cx=\"268.0196\" cy=\"407.1588\" fill=\"#383838\" rx=\"2\" ry=\"2\" style=\"stroke: #383838; stroke-width: 1.0;\"/></a><!--MD5=[15ebcb19ae302d9b601edb458606d402]\n",
       "link E5 to E2--><a href=\"psysml:ecc21de6-0c62-41d5-be03-95573cca647a\" target=\"_top\" title=\"psysml:ecc21de6-0c62-41d5-be03-95573cca647a\" xlink:actuate=\"onRequest\" xlink:href=\"psysml:ecc21de6-0c62-41d5-be03-95573cca647a\" xlink:show=\"new\" xlink:title=\"psysml:ecc21de6-0c62-41d5-be03-95573cca647a\" xlink:type=\"simple\"><path d=\"M274.96,87.09 C193.02,116.27 59,164 59,164 C59,164 51,316 51,316 C51,316 51,362 51,362 C51,362 139.06,403.06 191.31,427.42 \" fill=\"none\" id=\"E5-&gt;E2\" style=\"stroke: #383838; stroke-width: 1.0; stroke-dasharray: 7.0,7.0;\"/><polygon fill=\"#383838\" points=\"195.94,429.58,189.449,422.1728,191.4015,427.482,186.0922,429.4344,195.94,429.58\" style=\"stroke: #383838; stroke-width: 1.0;\"/><text fill=\"#000000\" font-family=\"sans-serif\" font-size=\"13\" lengthAdjust=\"spacingAndGlyphs\" textLength=\"62\" x=\"56\" y=\"267.5669\">«subject»</text></a><!--MD5=[9120cf2e5df3bff93db8f754bbbc09b4]\n",
       "link E5 to E6--><a href=\"psysml:fcf6c150-3866-4336-9e66-2e65ffb041aa\" target=\"_top\" title=\"psysml:fcf6c150-3866-4336-9e66-2e65ffb041aa\" xlink:actuate=\"onRequest\" xlink:href=\"psysml:fcf6c150-3866-4336-9e66-2e65ffb041aa\" xlink:show=\"new\" xlink:title=\"psysml:fcf6c150-3866-4336-9e66-2e65ffb041aa\" xlink:type=\"simple\"><path d=\"M312.24,87.19 C289.88,107.23 256.89,136.8 232.83,158.37 \" fill=\"none\" id=\"E5-&gt;E6\" style=\"stroke: #383838; stroke-width: 1.0;\"/><polygon fill=\"#383838\" points=\"226.6,163.95,234.5586,160.8419,230.5525,156.3752,226.6,163.95\" style=\"stroke: #383838; stroke-width: 1.0;\"/><text fill=\"#000000\" font-family=\"sans-serif\" font-size=\"13\" lengthAdjust=\"spacingAndGlyphs\" textLength=\"73\" x=\"278\" y=\"130.0669\">«objective»</text></a><!--MD5=[452b418e7f8a40397a49b8c0a78acc5b]\n",
       "reverse link E5 to E7--><a href=\"psysml:a988c065-f70c-4bb4-ab6a-fca08357bc4a\" target=\"_top\" title=\"psysml:a988c065-f70c-4bb4-ab6a-fca08357bc4a\" xlink:actuate=\"onRequest\" xlink:href=\"psysml:a988c065-f70c-4bb4-ab6a-fca08357bc4a\" xlink:show=\"new\" xlink:title=\"psysml:a988c065-f70c-4bb4-ab6a-fca08357bc4a\" xlink:type=\"simple\"><path d=\"M359.82,97.88 C374.39,118.86 392.87,145.48 405.69,163.95 \" fill=\"none\" id=\"E5&lt;-E7\" style=\"stroke: #383838; stroke-width: 1.0;\"/><polygon fill=\"#383838\" points=\"352.41,87.19,352.544,94.3999,359.2508,97.0492,359.1168,89.8393,352.41,87.19\" style=\"stroke: #383838; stroke-width: 1.0;\"/></a><!--MD5=[dc164f5e8a733ab456ef1add180e9e34]\n",
       "reverse link E7 to E8--><a href=\"psysml:4295af6e-acd7-489b-9191-c25409e1351b\" target=\"_top\" title=\"psysml:4295af6e-acd7-489b-9191-c25409e1351b\" xlink:actuate=\"onRequest\" xlink:href=\"psysml:4295af6e-acd7-489b-9191-c25409e1351b\" xlink:show=\"new\" xlink:title=\"psysml:4295af6e-acd7-489b-9191-c25409e1351b\" xlink:type=\"simple\"><path d=\"M350.55,212.59 C312,226.04 272,240 272,240 C272,240 204.6,286.85 163,315.76 \" fill=\"none\" id=\"E7&lt;-E8\" style=\"stroke: #383838; stroke-width: 1.0;\"/><polygon fill=\"#FFFFFF\" points=\"362.97,208.25,355.9867,206.452,351.641,212.2066,358.6244,214.0046,362.97,208.25\" style=\"stroke: #383838; stroke-width: 1.0;\"/><text fill=\"#000000\" font-family=\"sans-serif\" font-size=\"13\" lengthAdjust=\"spacingAndGlyphs\" textLength=\"8\" x=\"162.175\" y=\"304.9748\">1</text></a><!--MD5=[f1f3f9f2fc535e6147756cb86a7f2e32]\n",
       "link E8 to E2--><a href=\"psysml:aed7fba6-fc0e-4a29-a473-c7d943b57344\" target=\"_top\" title=\"psysml:aed7fba6-fc0e-4a29-a473-c7d943b57344\" xlink:actuate=\"onRequest\" xlink:href=\"psysml:aed7fba6-fc0e-4a29-a473-c7d943b57344\" xlink:show=\"new\" xlink:title=\"psysml:aed7fba6-fc0e-4a29-a473-c7d943b57344\" xlink:type=\"simple\"><path d=\"M151.54,362.01 C163.87,375.22 179.88,392.38 194.14,407.65 \" fill=\"none\" id=\"E8-&gt;E2\" style=\"stroke: #383838; stroke-width: 1.0;\"/><polygon fill=\"#FFFFFF\" points=\"208.15,422.66,190.0721,413.5393,200.3105,403.9907,208.15,422.66\" style=\"stroke: #383838; stroke-width: 1.0;\"/><ellipse cx=\"187.6471\" cy=\"408.0067\" fill=\"#383838\" rx=\"2\" ry=\"2\" style=\"stroke: #383838; stroke-width: 1.0;\"/><ellipse cx=\"194.9602\" cy=\"401.1863\" fill=\"#383838\" rx=\"2\" ry=\"2\" style=\"stroke: #383838; stroke-width: 1.0;\"/></a><!--MD5=[9ae28de373ca99bb8a1b38d63370ca7e]\n",
       "reverse link E5 to E9--><a href=\"psysml:afcc773f-3f6f-47e3-9b17-c2b1fd7bbdc3\" target=\"_top\" title=\"psysml:afcc773f-3f6f-47e3-9b17-c2b1fd7bbdc3\" xlink:actuate=\"onRequest\" xlink:href=\"psysml:afcc773f-3f6f-47e3-9b17-c2b1fd7bbdc3\" xlink:show=\"new\" xlink:title=\"psysml:afcc773f-3f6f-47e3-9b17-c2b1fd7bbdc3\" xlink:type=\"simple\"><path d=\"M384.16,94.18 C431.35,123.38 497,164 497,164 C497,164 497,210 497,210 C497,210 460.9,225.77 428.47,239.95 \" fill=\"none\" id=\"E5&lt;-E9\" style=\"stroke: #383838; stroke-width: 1.0;\"/><polygon fill=\"#FFFFFF\" points=\"372.91,87.22,375.907,93.7788,383.114,93.5349,380.117,86.9761,372.91,87.22\" style=\"stroke: #383838; stroke-width: 1.0;\"/><text fill=\"#000000\" font-family=\"sans-serif\" font-size=\"13\" lengthAdjust=\"spacingAndGlyphs\" textLength=\"8\" x=\"432.9588\" y=\"228.8328\">1</text></a><!--MD5=[5c3bb36fe832a92c7f0e1807dd65209d]\n",
       "link E9 to E2--><a href=\"psysml:09d901e9-14a1-4a34-80ae-448f8674b33c\" target=\"_top\" title=\"psysml:09d901e9-14a1-4a34-80ae-448f8674b33c\" xlink:actuate=\"onRequest\" xlink:href=\"psysml:09d901e9-14a1-4a34-80ae-448f8674b33c\" xlink:show=\"new\" xlink:title=\"psysml:09d901e9-14a1-4a34-80ae-448f8674b33c\" xlink:type=\"simple\"><path d=\"M322.87,286.05 C287.44,300.23 248,316 248,316 C248,316 240.73,365.33 235.19,402.98 \" fill=\"none\" id=\"E9-&gt;E2\" style=\"stroke: #383838; stroke-width: 1.0;\"/><polygon fill=\"#FFFFFF\" points=\"232.27,422.82,228.1134,403.0028,241.964,405.0429,232.27,422.82\" style=\"stroke: #383838; stroke-width: 1.0;\"/><ellipse cx=\"230.9227\" cy=\"397.6551\" fill=\"#383838\" rx=\"2\" ry=\"2\" style=\"stroke: #383838; stroke-width: 1.0;\"/><ellipse cx=\"240.8159\" cy=\"399.1123\" fill=\"#383838\" rx=\"2\" ry=\"2\" style=\"stroke: #383838; stroke-width: 1.0;\"/></a><!--MD5=[72c76681bd1efb88f18765ae96ef52bc]\n",
       "@startuml\r\n",
       "skinparam linetype polyline\r\n",
       "skinparam monochrome true\r\n",
       "skinparam classbackgroundcolor white\r\n",
       "skinparam shadowing false\r\n",
       "skinparam wrapWidth 300\r\n",
       "hide circle\r\n",
       "\r\n",
       "package \"TradeStudyTest\" as E1  [[psysml:0d92d0af-a8c4-487d-a88b-e96d8d162758 ]]  {\r\n",
       "comp def \"Engine\" as E2  <<(T,blue) part def>> [[psysml:90b379af-84e4-4b51-bcba-9b20024a2d1f ]] {\r\n",
       "}\r\n",
       "comp usage \"engine1: Engine\" as E3  <<(T,blue) part>> [[psysml:1fe04244-3a7b-4d3a-93e0-0fd9f61a7cea ]] {\r\n",
       "}\r\n",
       "comp usage \"engine2: Engine\" as E4  <<(T,blue) part>> [[psysml:07207da4-9c20-4091-a953-293a54d08950 ]] {\r\n",
       "}\r\n",
       "comp usage \"engineTradeStudy: TradeStudy\" as E5 << analysis>> [[psysml:c0123459-da5a-4fa7-ba13-511d4e5fcdf0 ]] {\r\n",
       "}\r\n",
       "comp usage \"tradeStudyObjective: MaximizeObjective\" as E6  <<(T,blue) requirement>> [[psysml:d3ca6a29-f1f6-48ae-8677-7ec75b0f5c21 ]] {\r\n",
       "}\r\n",
       "comp usage \"objectiveFunction\" as E7  <<(T,blue) calculation>> [[psysml:f099413c-f817-477f-a757-2c07f6450928 ]] {\r\n",
       "}\r\n",
       "comp usage \"alternative: Engine\" as E8  <<(T,blue) part>> [[psysml:26f566d1-080d-4e4d-ba32-38c38fdc0bde ]] {\r\n",
       "}\r\n",
       "comp usage \"selectedAlternative: Engine\" as E9  <<(T,blue) part>> [[psysml:7894e875-c3b4-453b-9dc9-b899c04487e6 ]] {\r\n",
       "}\r\n",
       "E3 - -:|> E2 [[psysml:8801a447-7348-4a45-a550-3876c92a8627 ]] \r\n",
       "E4 - -:|> E2 [[psysml:b9350b5a-5d8f-4ac9-a55f-8ba2d0a1e030 ]] \r\n",
       "E5 ..> E2 [[psysml:ecc21de6-0c62-41d5-be03-95573cca647a ]] : <<subject>>\r\n",
       "E5 - ->> E6 [[psysml:fcf6c150-3866-4336-9e66-2e65ffb041aa ]] : <<objective>>\r\n",
       "E5 *- - E7 [[psysml:a988c065-f70c-4bb4-ab6a-fca08357bc4a ]] \r\n",
       "E7 o- - \"1\"E8 [[psysml:4295af6e-acd7-489b-9191-c25409e1351b ]] \r\n",
       "E8 - -:|> E2 [[psysml:aed7fba6-fc0e-4a29-a473-c7d943b57344 ]] \r\n",
       "E5 o- - \"1\"E9 [[psysml:afcc773f-3f6f-47e3-9b17-c2b1fd7bbdc3 ]] \r\n",
       "E9 - -:|> E2 [[psysml:09d901e9-14a1-4a34-80ae-448f8674b33c ]] \r\n",
       "}\r\n",
       "@enduml\r\n",
       "\n",
       "PlantUML version 1.2020.13(Sat Jun 13 12:26:38 UTC 2020)\n",
       "(EPL source distribution)\n",
       "Java Runtime: OpenJDK Runtime Environment\n",
       "JVM: OpenJDK 64-Bit Server VM\n",
       "Default Encoding: UTF-8\n",
       "Language: en\n",
       "Country: null\n",
       "--></g></svg>"
      ]
     },
     "execution_count": 15,
     "metadata": {},
     "output_type": "execute_result"
    }
   ],
   "source": [
    "%viz --style=\"POLYLINE\" --view=\"MIXED\" \"TradeStudyTest\""
   ]
  },
  {
   "cell_type": "code",
   "execution_count": 16,
   "id": "2584ecb6",
   "metadata": {
    "execution": {
     "iopub.execute_input": "2021-08-04T06:27:38.915836Z",
     "iopub.status.busy": "2021-08-04T06:27:38.915419Z",
     "iopub.status.idle": "2021-08-04T06:27:38.943107Z",
     "shell.execute_reply": "2021-08-04T06:27:38.941483Z"
    }
   },
   "outputs": [
    {
     "data": {
      "image/svg+xml": [
       "<?xml version=\"1.0\" encoding=\"UTF-8\" standalone=\"no\"?><svg xmlns=\"http://www.w3.org/2000/svg\" xmlns:xlink=\"http://www.w3.org/1999/xlink\" contentScriptType=\"application/ecmascript\" contentStyleType=\"text/css\" height=\"351px\" preserveAspectRatio=\"none\" style=\"width:1144px;height:351px;\" version=\"1.1\" viewBox=\"0 0 1144 351\" width=\"1144px\" zoomAndPan=\"magnify\"><defs/><g><!--MD5=[fbc87193dbaf4d95561dea2c320d4a47]\n",
       "cluster E1--><a href=\"psysml:0d92d0af-a8c4-487d-a88b-e96d8d162758\" target=\"_top\" title=\"psysml:0d92d0af-a8c4-487d-a88b-e96d8d162758\" xlink:actuate=\"onRequest\" xlink:href=\"psysml:0d92d0af-a8c4-487d-a88b-e96d8d162758\" xlink:show=\"new\" xlink:title=\"psysml:0d92d0af-a8c4-487d-a88b-e96d8d162758\" xlink:type=\"simple\"><polygon fill=\"#FFFFFF\" points=\"16,6,148,6,155,28.2969,1122,28.2969,1122,339,16,339,16,6\" style=\"stroke: #000000; stroke-width: 1.5;\"/><line style=\"stroke: #000000; stroke-width: 1.5;\" x1=\"16\" x2=\"155\" y1=\"28.2969\" y2=\"28.2969\"/><text fill=\"#000000\" font-family=\"sans-serif\" font-size=\"14\" font-weight=\"bold\" lengthAdjust=\"spacingAndGlyphs\" textLength=\"126\" x=\"20\" y=\"20.9951\">TradeStudyTest</text></a><!--MD5=[b4997ac47864f28c2f74865a473b2911]\n",
       "class E2--><a href=\"psysml:90b379af-84e4-4b51-bcba-9b20024a2d1f\" target=\"_top\" title=\"psysml:90b379af-84e4-4b51-bcba-9b20024a2d1f\" xlink:actuate=\"onRequest\" xlink:href=\"psysml:90b379af-84e4-4b51-bcba-9b20024a2d1f\" xlink:show=\"new\" xlink:title=\"psysml:90b379af-84e4-4b51-bcba-9b20024a2d1f\" xlink:type=\"simple\"><rect fill=\"#FFFFFF\" height=\"45.9375\" id=\"E2\" style=\"stroke: #383838; stroke-width: 1.5;\" width=\"66\" x=\"1040\" y=\"181\"/><text fill=\"#000000\" font-family=\"sans-serif\" font-size=\"12\" font-style=\"italic\" lengthAdjust=\"spacingAndGlyphs\" textLength=\"64\" x=\"1041\" y=\"197.1387\">«part def»</text><text fill=\"#000000\" font-family=\"sans-serif\" font-size=\"12\" lengthAdjust=\"spacingAndGlyphs\" textLength=\"43\" x=\"1051.5\" y=\"211.1074\">Engine</text><line style=\"stroke: #383838; stroke-width: 1.5;\" x1=\"1041\" x2=\"1105\" y1=\"218.9375\" y2=\"218.9375\"/></a><!--MD5=[09b614a08d8cba4a07c9adeb5e0fee81]\n",
       "class E3--><a href=\"psysml:1fe04244-3a7b-4d3a-93e0-0fd9f61a7cea\" target=\"_top\" title=\"psysml:1fe04244-3a7b-4d3a-93e0-0fd9f61a7cea\" xlink:actuate=\"onRequest\" xlink:href=\"psysml:1fe04244-3a7b-4d3a-93e0-0fd9f61a7cea\" xlink:show=\"new\" xlink:title=\"psysml:1fe04244-3a7b-4d3a-93e0-0fd9f61a7cea\" xlink:type=\"simple\"><rect fill=\"#FFFFFF\" height=\"45.9375\" id=\"E3\" rx=\"10\" ry=\"10\" style=\"stroke: #383838; stroke-width: 1.5;\" width=\"108\" x=\"863\" y=\"41\"/><text fill=\"#000000\" font-family=\"sans-serif\" font-size=\"12\" font-style=\"italic\" lengthAdjust=\"spacingAndGlyphs\" textLength=\"40\" x=\"897\" y=\"57.1387\">«part»</text><text fill=\"#000000\" font-family=\"sans-serif\" font-size=\"12\" lengthAdjust=\"spacingAndGlyphs\" textLength=\"102\" x=\"866\" y=\"71.1074\">engine1: Engine</text><line style=\"stroke: #383838; stroke-width: 1.5;\" x1=\"864\" x2=\"970\" y1=\"78.9375\" y2=\"78.9375\"/></a><!--MD5=[ebbe1d658d1005bcc118a6aa81145e00]\n",
       "class E4--><a href=\"psysml:07207da4-9c20-4091-a953-293a54d08950\" target=\"_top\" title=\"psysml:07207da4-9c20-4091-a953-293a54d08950\" xlink:actuate=\"onRequest\" xlink:href=\"psysml:07207da4-9c20-4091-a953-293a54d08950\" xlink:show=\"new\" xlink:title=\"psysml:07207da4-9c20-4091-a953-293a54d08950\" xlink:type=\"simple\"><rect fill=\"#FFFFFF\" height=\"45.9375\" id=\"E4\" rx=\"10\" ry=\"10\" style=\"stroke: #383838; stroke-width: 1.5;\" width=\"108\" x=\"863\" y=\"122\"/><text fill=\"#000000\" font-family=\"sans-serif\" font-size=\"12\" font-style=\"italic\" lengthAdjust=\"spacingAndGlyphs\" textLength=\"40\" x=\"897\" y=\"138.1387\">«part»</text><text fill=\"#000000\" font-family=\"sans-serif\" font-size=\"12\" lengthAdjust=\"spacingAndGlyphs\" textLength=\"102\" x=\"866\" y=\"152.1074\">engine2: Engine</text><line style=\"stroke: #383838; stroke-width: 1.5;\" x1=\"864\" x2=\"970\" y1=\"159.9375\" y2=\"159.9375\"/></a><!--MD5=[270fce915f116d4de14055a7c1d9a0f3]\n",
       "class E5--><a href=\"psysml:c0123459-da5a-4fa7-ba13-511d4e5fcdf0\" target=\"_top\" title=\"psysml:c0123459-da5a-4fa7-ba13-511d4e5fcdf0\" xlink:actuate=\"onRequest\" xlink:href=\"psysml:c0123459-da5a-4fa7-ba13-511d4e5fcdf0\" xlink:show=\"new\" xlink:title=\"psysml:c0123459-da5a-4fa7-ba13-511d4e5fcdf0\" xlink:type=\"simple\"><rect fill=\"#FFFFFF\" height=\"45.9375\" id=\"E5\" rx=\"10\" ry=\"10\" style=\"stroke: #383838; stroke-width: 1.5;\" width=\"199\" x=\"32\" y=\"173\"/><text fill=\"#000000\" font-family=\"sans-serif\" font-size=\"12\" font-style=\"italic\" lengthAdjust=\"spacingAndGlyphs\" textLength=\"64\" x=\"99.5\" y=\"189.1387\">«analysis»</text><text fill=\"#000000\" font-family=\"sans-serif\" font-size=\"12\" lengthAdjust=\"spacingAndGlyphs\" textLength=\"193\" x=\"35\" y=\"203.1074\">engineTradeStudy: TradeStudy</text><line style=\"stroke: #383838; stroke-width: 1.5;\" x1=\"33\" x2=\"230\" y1=\"210.9375\" y2=\"210.9375\"/></a><!--MD5=[60a26617385b1d2d0262a64233df1f8d]\n",
       "class E6--><a href=\"psysml:d3ca6a29-f1f6-48ae-8677-7ec75b0f5c21\" target=\"_top\" title=\"psysml:d3ca6a29-f1f6-48ae-8677-7ec75b0f5c21\" xlink:actuate=\"onRequest\" xlink:href=\"psysml:d3ca6a29-f1f6-48ae-8677-7ec75b0f5c21\" xlink:show=\"new\" xlink:title=\"psysml:d3ca6a29-f1f6-48ae-8677-7ec75b0f5c21\" xlink:type=\"simple\"><rect fill=\"#FFFFFF\" height=\"45.9375\" id=\"E6\" rx=\"10\" ry=\"10\" style=\"stroke: #383838; stroke-width: 1.5;\" width=\"251\" x=\"366\" y=\"206\"/><text fill=\"#000000\" font-family=\"sans-serif\" font-size=\"12\" font-style=\"italic\" lengthAdjust=\"spacingAndGlyphs\" textLength=\"91\" x=\"446\" y=\"222.1387\">«requirement»</text><text fill=\"#000000\" font-family=\"sans-serif\" font-size=\"12\" lengthAdjust=\"spacingAndGlyphs\" textLength=\"245\" x=\"369\" y=\"236.1074\">tradeStudyObjective: MaximizeObjective</text><line style=\"stroke: #383838; stroke-width: 1.5;\" x1=\"367\" x2=\"616\" y1=\"243.9375\" y2=\"243.9375\"/></a><!--MD5=[2156ba9850f5573cc1fc38a6a4b2f02b]\n",
       "class E7--><a href=\"psysml:f099413c-f817-477f-a757-2c07f6450928\" target=\"_top\" title=\"psysml:f099413c-f817-477f-a757-2c07f6450928\" xlink:actuate=\"onRequest\" xlink:href=\"psysml:f099413c-f817-477f-a757-2c07f6450928\" xlink:show=\"new\" xlink:title=\"psysml:f099413c-f817-477f-a757-2c07f6450928\" xlink:type=\"simple\"><rect fill=\"#FFFFFF\" height=\"45.9375\" id=\"E7\" rx=\"10\" ry=\"10\" style=\"stroke: #383838; stroke-width: 1.5;\" width=\"116\" x=\"433.5\" y=\"125\"/><text fill=\"#000000\" font-family=\"sans-serif\" font-size=\"12\" font-style=\"italic\" lengthAdjust=\"spacingAndGlyphs\" textLength=\"82\" x=\"450.5\" y=\"141.1387\">«calculation»</text><text fill=\"#000000\" font-family=\"sans-serif\" font-size=\"12\" lengthAdjust=\"spacingAndGlyphs\" textLength=\"110\" x=\"436.5\" y=\"155.1074\">objectiveFunction</text><line style=\"stroke: #383838; stroke-width: 1.5;\" x1=\"434.5\" x2=\"548.5\" y1=\"162.9375\" y2=\"162.9375\"/></a><!--MD5=[b9389687b975829384b498ac4b7476b2]\n",
       "class E8--><a href=\"psysml:26f566d1-080d-4e4d-ba32-38c38fdc0bde\" target=\"_top\" title=\"psysml:26f566d1-080d-4e4d-ba32-38c38fdc0bde\" xlink:actuate=\"onRequest\" xlink:href=\"psysml:26f566d1-080d-4e4d-ba32-38c38fdc0bde\" xlink:show=\"new\" xlink:title=\"psysml:26f566d1-080d-4e4d-ba32-38c38fdc0bde\" xlink:type=\"simple\"><rect fill=\"#FFFFFF\" height=\"45.9375\" id=\"E8\" rx=\"10\" ry=\"10\" style=\"stroke: #383838; stroke-width: 1.5;\" width=\"124\" x=\"855\" y=\"240\"/><text fill=\"#000000\" font-family=\"sans-serif\" font-size=\"12\" font-style=\"italic\" lengthAdjust=\"spacingAndGlyphs\" textLength=\"40\" x=\"897\" y=\"256.1387\">«part»</text><text fill=\"#000000\" font-family=\"sans-serif\" font-size=\"12\" lengthAdjust=\"spacingAndGlyphs\" textLength=\"118\" x=\"858\" y=\"270.1074\">alternative: Engine</text><line style=\"stroke: #383838; stroke-width: 1.5;\" x1=\"856\" x2=\"978\" y1=\"277.9375\" y2=\"277.9375\"/></a><!--MD5=[fd4143e9d270a159db93a4ea2a975926]\n",
       "class E9--><a href=\"psysml:7894e875-c3b4-453b-9dc9-b899c04487e6\" target=\"_top\" title=\"psysml:7894e875-c3b4-453b-9dc9-b899c04487e6\" xlink:actuate=\"onRequest\" xlink:href=\"psysml:7894e875-c3b4-453b-9dc9-b899c04487e6\" xlink:show=\"new\" xlink:title=\"psysml:7894e875-c3b4-453b-9dc9-b899c04487e6\" xlink:type=\"simple\"><rect fill=\"#FFFFFF\" height=\"45.9375\" id=\"E9\" rx=\"10\" ry=\"10\" style=\"stroke: #383838; stroke-width: 1.5;\" width=\"178\" x=\"647\" y=\"124\"/><text fill=\"#000000\" font-family=\"sans-serif\" font-size=\"12\" font-style=\"italic\" lengthAdjust=\"spacingAndGlyphs\" textLength=\"40\" x=\"716\" y=\"140.1387\">«part»</text><text fill=\"#000000\" font-family=\"sans-serif\" font-size=\"12\" lengthAdjust=\"spacingAndGlyphs\" textLength=\"172\" x=\"650\" y=\"154.1074\">selectedAlternative: Engine</text><line style=\"stroke: #383838; stroke-width: 1.5;\" x1=\"648\" x2=\"824\" y1=\"161.9375\" y2=\"161.9375\"/></a><!--MD5=[05d275557350bfb9b23a4ef7222b4c39]\n",
       "link E3 to E2--><a href=\"psysml:8801a447-7348-4a45-a550-3876c92a8627\" target=\"_top\" title=\"psysml:8801a447-7348-4a45-a550-3876c92a8627\" xlink:actuate=\"onRequest\" xlink:href=\"psysml:8801a447-7348-4a45-a550-3876c92a8627\" xlink:show=\"new\" xlink:title=\"psysml:8801a447-7348-4a45-a550-3876c92a8627\" xlink:type=\"simple\"><path d=\"M956.44,87.17 C964.16,92.38 972.03,98.12 979,104 C1000.94,122.52 1022.93,145.89 1040.02,165.38 \" fill=\"none\" id=\"E3-&gt;E2\" style=\"stroke: #383838; stroke-width: 1.0;\"/><polygon fill=\"#FFFFFF\" points=\"1053.11,180.65,1035.4256,170.7879,1046.0509,161.6719,1053.11,180.65\" style=\"stroke: #383838; stroke-width: 1.0;\"/><ellipse cx=\"1033.232\" cy=\"165.1596\" fill=\"#383838\" rx=\"2\" ry=\"2\" style=\"stroke: #383838; stroke-width: 1.0;\"/><ellipse cx=\"1040.8215\" cy=\"158.6481\" fill=\"#383838\" rx=\"2\" ry=\"2\" style=\"stroke: #383838; stroke-width: 1.0;\"/></a><!--MD5=[185131fc0dcab0a4505a2ebe144e961b]\n",
       "link E4 to E2--><a href=\"psysml:b9350b5a-5d8f-4ac9-a55f-8ba2d0a1e030\" target=\"_top\" title=\"psysml:b9350b5a-5d8f-4ac9-a55f-8ba2d0a1e030\" xlink:actuate=\"onRequest\" xlink:href=\"psysml:b9350b5a-5d8f-4ac9-a55f-8ba2d0a1e030\" xlink:show=\"new\" xlink:title=\"psysml:b9350b5a-5d8f-4ac9-a55f-8ba2d0a1e030\" xlink:type=\"simple\"><path d=\"M971.43,165.47 C987.52,171.64 1005.13,178.38 1021.06,184.48 \" fill=\"none\" id=\"E4-&gt;E2\" style=\"stroke: #383838; stroke-width: 1.0;\"/><polygon fill=\"#FFFFFF\" points=\"1039.76,191.65,1019.5133,191.3857,1024.5242,178.3132,1039.76,191.65\" style=\"stroke: #383838; stroke-width: 1.0;\"/><ellipse cx=\"1014.9067\" cy=\"187.478\" fill=\"#383838\" rx=\"2\" ry=\"2\" style=\"stroke: #383838; stroke-width: 1.0;\"/><ellipse cx=\"1018.486\" cy=\"178.1405\" fill=\"#383838\" rx=\"2\" ry=\"2\" style=\"stroke: #383838; stroke-width: 1.0;\"/></a><!--MD5=[15ebcb19ae302d9b601edb458606d402]\n",
       "link E5 to E2--><a href=\"psysml:ecc21de6-0c62-41d5-be03-95573cca647a\" target=\"_top\" title=\"psysml:ecc21de6-0c62-41d5-be03-95573cca647a\" xlink:actuate=\"onRequest\" xlink:href=\"psysml:ecc21de6-0c62-41d5-be03-95573cca647a\" xlink:show=\"new\" xlink:title=\"psysml:ecc21de6-0c62-41d5-be03-95573cca647a\" xlink:type=\"simple\"><path d=\"M192.97,219.15 C239.54,235.94 305.91,257.62 366,269 C580.08,309.56 637.25,296.22 855,304 C910.08,305.97 928.47,326.01 979,304 C1012.76,289.29 1039.79,255.62 1055.83,231.41 \" fill=\"none\" id=\"E5-&gt;E2\" style=\"stroke: #383838; stroke-width: 1.0; stroke-dasharray: 7.0,7.0;\"/><polygon fill=\"#383838\" points=\"1058.7,227,1050.4426,232.368,1055.9761,231.1929,1057.1512,236.7263,1058.7,227\" style=\"stroke: #383838; stroke-width: 1.0;\"/><text fill=\"#000000\" font-family=\"sans-serif\" font-size=\"13\" lengthAdjust=\"spacingAndGlyphs\" textLength=\"62\" x=\"705\" y=\"296.0669\">«subject»</text></a><!--MD5=[9120cf2e5df3bff93db8f754bbbc09b4]\n",
       "link E5 to E6--><a href=\"psysml:fcf6c150-3866-4336-9e66-2e65ffb041aa\" target=\"_top\" title=\"psysml:fcf6c150-3866-4336-9e66-2e65ffb041aa\" xlink:actuate=\"onRequest\" xlink:href=\"psysml:fcf6c150-3866-4336-9e66-2e65ffb041aa\" xlink:show=\"new\" xlink:title=\"psysml:fcf6c150-3866-4336-9e66-2e65ffb041aa\" xlink:type=\"simple\"><path d=\"M231.27,205.1 C270.35,208.71 315.87,212.9 357.75,216.76 \" fill=\"none\" id=\"E5-&gt;E6\" style=\"stroke: #383838; stroke-width: 1.0;\"/><polygon fill=\"#383838\" points=\"365.81,217.51,358.1229,213.7806,357.5661,219.7548,365.81,217.51\" style=\"stroke: #383838; stroke-width: 1.0;\"/><text fill=\"#000000\" font-family=\"sans-serif\" font-size=\"13\" lengthAdjust=\"spacingAndGlyphs\" textLength=\"73\" x=\"262\" y=\"205.0669\">«objective»</text></a><!--MD5=[452b418e7f8a40397a49b8c0a78acc5b]\n",
       "reverse link E5 to E7--><a href=\"psysml:a988c065-f70c-4bb4-ab6a-fca08357bc4a\" target=\"_top\" title=\"psysml:a988c065-f70c-4bb4-ab6a-fca08357bc4a\" xlink:actuate=\"onRequest\" xlink:href=\"psysml:a988c065-f70c-4bb4-ab6a-fca08357bc4a\" xlink:show=\"new\" xlink:title=\"psysml:a988c065-f70c-4bb4-ab6a-fca08357bc4a\" xlink:type=\"simple\"><path d=\"M244.44,180.99 C307.13,172.59 382.64,162.46 433.34,155.66 \" fill=\"none\" id=\"E5&lt;-E7\" style=\"stroke: #383838; stroke-width: 1.0;\"/><polygon fill=\"#383838\" points=\"231.27,182.76,237.7486,185.9268,243.1635,181.1645,236.6849,177.9978,231.27,182.76\" style=\"stroke: #383838; stroke-width: 1.0;\"/></a><!--MD5=[dc164f5e8a733ab456ef1add180e9e34]\n",
       "reverse link E7 to E8--><a href=\"psysml:4295af6e-acd7-489b-9191-c25409e1351b\" target=\"_top\" title=\"psysml:4295af6e-acd7-489b-9191-c25409e1351b\" xlink:actuate=\"onRequest\" xlink:href=\"psysml:4295af6e-acd7-489b-9191-c25409e1351b\" xlink:show=\"new\" xlink:title=\"psysml:4295af6e-acd7-489b-9191-c25409e1351b\" xlink:type=\"simple\"><path d=\"M562.22,166.93 C643.63,189.04 777.02,225.26 854.65,246.34 \" fill=\"none\" id=\"E7&lt;-E8\" style=\"stroke: #383838; stroke-width: 1.0;\"/><polygon fill=\"#FFFFFF\" points=\"549.62,163.51,554.3645,168.9404,561.202,166.6495,556.4575,161.2191,549.62,163.51\" style=\"stroke: #383838; stroke-width: 1.0;\"/><text fill=\"#000000\" font-family=\"sans-serif\" font-size=\"13\" lengthAdjust=\"spacingAndGlyphs\" textLength=\"8\" x=\"838.9783\" y=\"257.3591\">1</text></a><!--MD5=[f1f3f9f2fc535e6147756cb86a7f2e32]\n",
       "link E8 to E2--><a href=\"psysml:aed7fba6-fc0e-4a29-a473-c7d943b57344\" target=\"_top\" title=\"psysml:aed7fba6-fc0e-4a29-a473-c7d943b57344\" xlink:actuate=\"onRequest\" xlink:href=\"psysml:aed7fba6-fc0e-4a29-a473-c7d943b57344\" xlink:show=\"new\" xlink:title=\"psysml:aed7fba6-fc0e-4a29-a473-c7d943b57344\" xlink:type=\"simple\"><path d=\"M978.42,239.85 C992.46,234.47 1007.28,228.8 1020.87,223.59 \" fill=\"none\" id=\"E8-&gt;E2\" style=\"stroke: #383838; stroke-width: 1.0;\"/><polygon fill=\"#FFFFFF\" points=\"1039.69,216.38,1024.4542,229.7168,1019.4433,216.6443,1039.69,216.38\" style=\"stroke: #383838; stroke-width: 1.0;\"/><ellipse cx=\"1018.416\" cy=\"229.8895\" fill=\"#383838\" rx=\"2\" ry=\"2\" style=\"stroke: #383838; stroke-width: 1.0;\"/><ellipse cx=\"1014.8367\" cy=\"220.552\" fill=\"#383838\" rx=\"2\" ry=\"2\" style=\"stroke: #383838; stroke-width: 1.0;\"/></a><!--MD5=[9ae28de373ca99bb8a1b38d63370ca7e]\n",
       "reverse link E5 to E9--><a href=\"psysml:afcc773f-3f6f-47e3-9b17-c2b1fd7bbdc3\" target=\"_top\" title=\"psysml:afcc773f-3f6f-47e3-9b17-c2b1fd7bbdc3\" xlink:actuate=\"onRequest\" xlink:href=\"psysml:afcc773f-3f6f-47e3-9b17-c2b1fd7bbdc3\" xlink:show=\"new\" xlink:title=\"psysml:afcc773f-3f6f-47e3-9b17-c2b1fd7bbdc3\" xlink:type=\"simple\"><path d=\"M189.89,167.36 C236.14,145.96 303.53,118.5 366,107 C475.71,86.8 506.93,88.85 617,107 C637.81,110.43 659.88,117.05 679.24,123.93 \" fill=\"none\" id=\"E5&lt;-E9\" style=\"stroke: #383838; stroke-width: 1.0;\"/><polygon fill=\"#FFFFFF\" points=\"178.01,172.94,185.1402,174.017,188.8768,167.8495,181.7466,166.7725,178.01,172.94\" style=\"stroke: #383838; stroke-width: 1.0;\"/><text fill=\"#000000\" font-family=\"sans-serif\" font-size=\"13\" lengthAdjust=\"spacingAndGlyphs\" textLength=\"8\" x=\"654.9108\" y=\"112.8075\">1</text></a><!--MD5=[5c3bb36fe832a92c7f0e1807dd65209d]\n",
       "link E9 to E2--><a href=\"psysml:09d901e9-14a1-4a34-80ae-448f8674b33c\" target=\"_top\" title=\"psysml:09d901e9-14a1-4a34-80ae-448f8674b33c\" xlink:actuate=\"onRequest\" xlink:href=\"psysml:09d901e9-14a1-4a34-80ae-448f8674b33c\" xlink:show=\"new\" xlink:title=\"psysml:09d901e9-14a1-4a34-80ae-448f8674b33c\" xlink:type=\"simple\"><path d=\"M799.69,170.07 C817.36,175.78 836.75,181.31 855,185 C910.46,196.21 975.22,200.81 1019.46,202.69 \" fill=\"none\" id=\"E9-&gt;E2\" style=\"stroke: #383838; stroke-width: 1.0;\"/><polygon fill=\"#FFFFFF\" points=\"1039.69,203.42,1020.4478,209.7237,1020.9574,195.733,1039.69,203.42\" style=\"stroke: #383838; stroke-width: 1.0;\"/><ellipse cx=\"1014.8244\" cy=\"207.5175\" fill=\"#383838\" rx=\"2\" ry=\"2\" style=\"stroke: #383838; stroke-width: 1.0;\"/><ellipse cx=\"1015.1884\" cy=\"197.5241\" fill=\"#383838\" rx=\"2\" ry=\"2\" style=\"stroke: #383838; stroke-width: 1.0;\"/></a><!--MD5=[7a1795146be1053e4ddf80f76246a649]\n",
       "@startuml\r\n",
       "left to right direction\r\n",
       "skinparam monochrome true\r\n",
       "skinparam classbackgroundcolor white\r\n",
       "skinparam shadowing false\r\n",
       "skinparam wrapWidth 300\r\n",
       "hide circle\r\n",
       "\r\n",
       "package \"TradeStudyTest\" as E1  [[psysml:0d92d0af-a8c4-487d-a88b-e96d8d162758 ]]  {\r\n",
       "comp def \"Engine\" as E2  <<(T,blue) part def>> [[psysml:90b379af-84e4-4b51-bcba-9b20024a2d1f ]] {\r\n",
       "}\r\n",
       "comp usage \"engine1: Engine\" as E3  <<(T,blue) part>> [[psysml:1fe04244-3a7b-4d3a-93e0-0fd9f61a7cea ]] {\r\n",
       "}\r\n",
       "comp usage \"engine2: Engine\" as E4  <<(T,blue) part>> [[psysml:07207da4-9c20-4091-a953-293a54d08950 ]] {\r\n",
       "}\r\n",
       "comp usage \"engineTradeStudy: TradeStudy\" as E5 << analysis>> [[psysml:c0123459-da5a-4fa7-ba13-511d4e5fcdf0 ]] {\r\n",
       "}\r\n",
       "comp usage \"tradeStudyObjective: MaximizeObjective\" as E6  <<(T,blue) requirement>> [[psysml:d3ca6a29-f1f6-48ae-8677-7ec75b0f5c21 ]] {\r\n",
       "}\r\n",
       "comp usage \"objectiveFunction\" as E7  <<(T,blue) calculation>> [[psysml:f099413c-f817-477f-a757-2c07f6450928 ]] {\r\n",
       "}\r\n",
       "comp usage \"alternative: Engine\" as E8  <<(T,blue) part>> [[psysml:26f566d1-080d-4e4d-ba32-38c38fdc0bde ]] {\r\n",
       "}\r\n",
       "comp usage \"selectedAlternative: Engine\" as E9  <<(T,blue) part>> [[psysml:7894e875-c3b4-453b-9dc9-b899c04487e6 ]] {\r\n",
       "}\r\n",
       "E3 - -:|> E2 [[psysml:8801a447-7348-4a45-a550-3876c92a8627 ]] \r\n",
       "E4 - -:|> E2 [[psysml:b9350b5a-5d8f-4ac9-a55f-8ba2d0a1e030 ]] \r\n",
       "E5 ..> E2 [[psysml:ecc21de6-0c62-41d5-be03-95573cca647a ]] : <<subject>>\r\n",
       "E5 - ->> E6 [[psysml:fcf6c150-3866-4336-9e66-2e65ffb041aa ]] : <<objective>>\r\n",
       "E5 *- - E7 [[psysml:a988c065-f70c-4bb4-ab6a-fca08357bc4a ]] \r\n",
       "E7 o- - \"1\"E8 [[psysml:4295af6e-acd7-489b-9191-c25409e1351b ]] \r\n",
       "E8 - -:|> E2 [[psysml:aed7fba6-fc0e-4a29-a473-c7d943b57344 ]] \r\n",
       "E5 o- - \"1\"E9 [[psysml:afcc773f-3f6f-47e3-9b17-c2b1fd7bbdc3 ]] \r\n",
       "E9 - -:|> E2 [[psysml:09d901e9-14a1-4a34-80ae-448f8674b33c ]] \r\n",
       "}\r\n",
       "@enduml\r\n",
       "\n",
       "PlantUML version 1.2020.13(Sat Jun 13 12:26:38 UTC 2020)\n",
       "(EPL source distribution)\n",
       "Java Runtime: OpenJDK Runtime Environment\n",
       "JVM: OpenJDK 64-Bit Server VM\n",
       "Default Encoding: UTF-8\n",
       "Language: en\n",
       "Country: null\n",
       "--></g></svg>"
      ]
     },
     "execution_count": 16,
     "metadata": {},
     "output_type": "execute_result"
    }
   ],
   "source": [
    "%viz --style=\"LR\" --view=\"Default\" \"TradeStudyTest\""
   ]
  },
  {
   "cell_type": "code",
   "execution_count": 17,
   "id": "12d34762",
   "metadata": {
    "execution": {
     "iopub.execute_input": "2021-08-04T06:27:38.992462Z",
     "iopub.status.busy": "2021-08-04T06:27:38.991995Z",
     "iopub.status.idle": "2021-08-04T06:27:39.016011Z",
     "shell.execute_reply": "2021-08-04T06:27:39.015648Z"
    }
   },
   "outputs": [
    {
     "data": {
      "image/svg+xml": [
       "<?xml version=\"1.0\" encoding=\"UTF-8\" standalone=\"no\"?><svg xmlns=\"http://www.w3.org/2000/svg\" xmlns:xlink=\"http://www.w3.org/1999/xlink\" contentScriptType=\"application/ecmascript\" contentStyleType=\"text/css\" height=\"461px\" preserveAspectRatio=\"none\" style=\"width:782px;height:461px;\" version=\"1.1\" viewBox=\"0 0 782 461\" width=\"782px\" zoomAndPan=\"magnify\"><defs/><g><!--MD5=[fbc87193dbaf4d95561dea2c320d4a47]\n",
       "cluster E1--><a href=\"psysml:0d92d0af-a8c4-487d-a88b-e96d8d162758\" target=\"_top\" title=\"psysml:0d92d0af-a8c4-487d-a88b-e96d8d162758\" xlink:actuate=\"onRequest\" xlink:href=\"psysml:0d92d0af-a8c4-487d-a88b-e96d8d162758\" xlink:show=\"new\" xlink:title=\"psysml:0d92d0af-a8c4-487d-a88b-e96d8d162758\" xlink:type=\"simple\"><polygon fill=\"#FFFFFF\" points=\"16,6,148,6,155,28.2969,760,28.2969,760,433,16,433,16,6\" style=\"stroke: #000000; stroke-width: 1.5;\"/><line style=\"stroke: #000000; stroke-width: 1.5;\" x1=\"16\" x2=\"155\" y1=\"28.2969\" y2=\"28.2969\"/><text fill=\"#000000\" font-family=\"sans-serif\" font-size=\"14\" font-weight=\"bold\" lengthAdjust=\"spacingAndGlyphs\" textLength=\"126\" x=\"20\" y=\"20.9951\">TradeStudyTest</text></a><!--MD5=[b4997ac47864f28c2f74865a473b2911]\n",
       "class E2--><a href=\"psysml:90b379af-84e4-4b51-bcba-9b20024a2d1f\" target=\"_top\" title=\"psysml:90b379af-84e4-4b51-bcba-9b20024a2d1f\" xlink:actuate=\"onRequest\" xlink:href=\"psysml:90b379af-84e4-4b51-bcba-9b20024a2d1f\" xlink:show=\"new\" xlink:title=\"psysml:90b379af-84e4-4b51-bcba-9b20024a2d1f\" xlink:type=\"simple\"><rect fill=\"#FFFFFF\" height=\"45.9375\" id=\"E2\" style=\"stroke: #383838; stroke-width: 1.5;\" width=\"66\" x=\"678\" y=\"163\"/><text fill=\"#000000\" font-family=\"sans-serif\" font-size=\"12\" font-style=\"italic\" lengthAdjust=\"spacingAndGlyphs\" textLength=\"64\" x=\"679\" y=\"179.1387\">«part def»</text><text fill=\"#000000\" font-family=\"sans-serif\" font-size=\"12\" lengthAdjust=\"spacingAndGlyphs\" textLength=\"43\" x=\"689.5\" y=\"193.1074\">Engine</text><line style=\"stroke: #383838; stroke-width: 1.5;\" x1=\"679\" x2=\"743\" y1=\"200.9375\" y2=\"200.9375\"/></a><!--MD5=[09b614a08d8cba4a07c9adeb5e0fee81]\n",
       "class E3--><a href=\"psysml:1fe04244-3a7b-4d3a-93e0-0fd9f61a7cea\" target=\"_top\" title=\"psysml:1fe04244-3a7b-4d3a-93e0-0fd9f61a7cea\" xlink:actuate=\"onRequest\" xlink:href=\"psysml:1fe04244-3a7b-4d3a-93e0-0fd9f61a7cea\" xlink:show=\"new\" xlink:title=\"psysml:1fe04244-3a7b-4d3a-93e0-0fd9f61a7cea\" xlink:type=\"simple\"><rect fill=\"#FFFFFF\" height=\"45.9375\" id=\"E3\" rx=\"10\" ry=\"10\" style=\"stroke: #383838; stroke-width: 1.5;\" width=\"108\" x=\"437.5\" y=\"41\"/><text fill=\"#000000\" font-family=\"sans-serif\" font-size=\"12\" font-style=\"italic\" lengthAdjust=\"spacingAndGlyphs\" textLength=\"40\" x=\"471.5\" y=\"57.1387\">«part»</text><text fill=\"#000000\" font-family=\"sans-serif\" font-size=\"12\" lengthAdjust=\"spacingAndGlyphs\" textLength=\"102\" x=\"440.5\" y=\"71.1074\">engine1: Engine</text><line style=\"stroke: #383838; stroke-width: 1.5;\" x1=\"438.5\" x2=\"544.5\" y1=\"78.9375\" y2=\"78.9375\"/></a><!--MD5=[ebbe1d658d1005bcc118a6aa81145e00]\n",
       "class E4--><a href=\"psysml:07207da4-9c20-4091-a953-293a54d08950\" target=\"_top\" title=\"psysml:07207da4-9c20-4091-a953-293a54d08950\" xlink:actuate=\"onRequest\" xlink:href=\"psysml:07207da4-9c20-4091-a953-293a54d08950\" xlink:show=\"new\" xlink:title=\"psysml:07207da4-9c20-4091-a953-293a54d08950\" xlink:type=\"simple\"><rect fill=\"#FFFFFF\" height=\"45.9375\" id=\"E4\" rx=\"10\" ry=\"10\" style=\"stroke: #383838; stroke-width: 1.5;\" width=\"108\" x=\"437.5\" y=\"122\"/><text fill=\"#000000\" font-family=\"sans-serif\" font-size=\"12\" font-style=\"italic\" lengthAdjust=\"spacingAndGlyphs\" textLength=\"40\" x=\"471.5\" y=\"138.1387\">«part»</text><text fill=\"#000000\" font-family=\"sans-serif\" font-size=\"12\" lengthAdjust=\"spacingAndGlyphs\" textLength=\"102\" x=\"440.5\" y=\"152.1074\">engine2: Engine</text><line style=\"stroke: #383838; stroke-width: 1.5;\" x1=\"438.5\" x2=\"544.5\" y1=\"159.9375\" y2=\"159.9375\"/></a><!--MD5=[270fce915f116d4de14055a7c1d9a0f3]\n",
       "class E5--><a href=\"psysml:c0123459-da5a-4fa7-ba13-511d4e5fcdf0\" target=\"_top\" title=\"psysml:c0123459-da5a-4fa7-ba13-511d4e5fcdf0\" xlink:actuate=\"onRequest\" xlink:href=\"psysml:c0123459-da5a-4fa7-ba13-511d4e5fcdf0\" xlink:show=\"new\" xlink:title=\"psysml:c0123459-da5a-4fa7-ba13-511d4e5fcdf0\" xlink:type=\"simple\"><rect fill=\"#FFFFFF\" height=\"45.9375\" id=\"E5\" rx=\"10\" ry=\"10\" style=\"stroke: #383838; stroke-width: 1.5;\" width=\"199\" x=\"32\" y=\"284\"/><text fill=\"#000000\" font-family=\"sans-serif\" font-size=\"12\" font-style=\"italic\" lengthAdjust=\"spacingAndGlyphs\" textLength=\"64\" x=\"99.5\" y=\"300.1387\">«analysis»</text><text fill=\"#000000\" font-family=\"sans-serif\" font-size=\"12\" lengthAdjust=\"spacingAndGlyphs\" textLength=\"193\" x=\"35\" y=\"314.1074\">engineTradeStudy: TradeStudy</text><line style=\"stroke: #383838; stroke-width: 1.5;\" x1=\"33\" x2=\"230\" y1=\"321.9375\" y2=\"321.9375\"/></a><!--MD5=[60a26617385b1d2d0262a64233df1f8d]\n",
       "class E6--><a href=\"psysml:d3ca6a29-f1f6-48ae-8677-7ec75b0f5c21\" target=\"_top\" title=\"psysml:d3ca6a29-f1f6-48ae-8677-7ec75b0f5c21\" xlink:actuate=\"onRequest\" xlink:href=\"psysml:d3ca6a29-f1f6-48ae-8677-7ec75b0f5c21\" xlink:show=\"new\" xlink:title=\"psysml:d3ca6a29-f1f6-48ae-8677-7ec75b0f5c21\" xlink:type=\"simple\"><rect fill=\"#FFFFFF\" height=\"45.9375\" id=\"E6\" rx=\"10\" ry=\"10\" style=\"stroke: #383838; stroke-width: 1.5;\" width=\"251\" x=\"366\" y=\"284\"/><text fill=\"#000000\" font-family=\"sans-serif\" font-size=\"12\" font-style=\"italic\" lengthAdjust=\"spacingAndGlyphs\" textLength=\"91\" x=\"446\" y=\"300.1387\">«requirement»</text><text fill=\"#000000\" font-family=\"sans-serif\" font-size=\"12\" lengthAdjust=\"spacingAndGlyphs\" textLength=\"245\" x=\"369\" y=\"314.1074\">tradeStudyObjective: MaximizeObjective</text><line style=\"stroke: #383838; stroke-width: 1.5;\" x1=\"367\" x2=\"616\" y1=\"321.9375\" y2=\"321.9375\"/></a><!--MD5=[2156ba9850f5573cc1fc38a6a4b2f02b]\n",
       "class E7--><a href=\"psysml:7894e875-c3b4-453b-9dc9-b899c04487e6\" target=\"_top\" title=\"psysml:7894e875-c3b4-453b-9dc9-b899c04487e6\" xlink:actuate=\"onRequest\" xlink:href=\"psysml:7894e875-c3b4-453b-9dc9-b899c04487e6\" xlink:show=\"new\" xlink:title=\"psysml:7894e875-c3b4-453b-9dc9-b899c04487e6\" xlink:type=\"simple\"><rect fill=\"#FFFFFF\" height=\"45.9375\" id=\"E7\" rx=\"10\" ry=\"10\" style=\"stroke: #383838; stroke-width: 1.5;\" width=\"178\" x=\"402.5\" y=\"203\"/><text fill=\"#000000\" font-family=\"sans-serif\" font-size=\"12\" font-style=\"italic\" lengthAdjust=\"spacingAndGlyphs\" textLength=\"40\" x=\"471.5\" y=\"219.1387\">«part»</text><text fill=\"#000000\" font-family=\"sans-serif\" font-size=\"12\" lengthAdjust=\"spacingAndGlyphs\" textLength=\"172\" x=\"405.5\" y=\"233.1074\">selectedAlternative: Engine</text><line style=\"stroke: #383838; stroke-width: 1.5;\" x1=\"403.5\" x2=\"579.5\" y1=\"240.9375\" y2=\"240.9375\"/></a><!--MD5=[05d275557350bfb9b23a4ef7222b4c39]\n",
       "link E3 to E2--><a href=\"psysml:8801a447-7348-4a45-a550-3876c92a8627\" target=\"_top\" title=\"psysml:8801a447-7348-4a45-a550-3876c92a8627\" xlink:actuate=\"onRequest\" xlink:href=\"psysml:8801a447-7348-4a45-a550-3876c92a8627\" xlink:show=\"new\" xlink:title=\"psysml:8801a447-7348-4a45-a550-3876c92a8627\" xlink:type=\"simple\"><path d=\"M545.68,75.89 C568.54,82.29 594.99,91.49 617,104 C637.99,115.93 658.44,133.14 674.79,148.72 \" fill=\"none\" id=\"E3-&gt;E2\" style=\"stroke: #383838; stroke-width: 1.0;\"/><polygon fill=\"#FFFFFF\" points=\"689.1,162.94,670.6811,154.5291,680.5405,144.5897,689.1,162.94\" style=\"stroke: #383838; stroke-width: 1.0;\"/><ellipse cx=\"668.0428\" cy=\"149.095\" fill=\"#383838\" rx=\"2\" ry=\"2\" style=\"stroke: #383838; stroke-width: 1.0;\"/><ellipse cx=\"675.0853\" cy=\"141.9954\" fill=\"#383838\" rx=\"2\" ry=\"2\" style=\"stroke: #383838; stroke-width: 1.0;\"/></a><!--MD5=[185131fc0dcab0a4505a2ebe144e961b]\n",
       "link E4 to E2--><a href=\"psysml:b9350b5a-5d8f-4ac9-a55f-8ba2d0a1e030\" target=\"_top\" title=\"psysml:b9350b5a-5d8f-4ac9-a55f-8ba2d0a1e030\" xlink:actuate=\"onRequest\" xlink:href=\"psysml:b9350b5a-5d8f-4ac9-a55f-8ba2d0a1e030\" xlink:show=\"new\" xlink:title=\"psysml:b9350b5a-5d8f-4ac9-a55f-8ba2d0a1e030\" xlink:type=\"simple\"><path d=\"M545.71,155.03 C579.81,161.46 623.87,169.76 657.78,176.16 \" fill=\"none\" id=\"E4-&gt;E2\" style=\"stroke: #383838; stroke-width: 1.0;\"/><polygon fill=\"#FFFFFF\" points=\"677.9,179.95,657.9307,183.3006,660.53,169.544,677.9,179.95\" style=\"stroke: #383838; stroke-width: 1.0;\"/><ellipse cx=\"652.7011\" cy=\"180.2771\" fill=\"#383838\" rx=\"2\" ry=\"2\" style=\"stroke: #383838; stroke-width: 1.0;\"/><ellipse cx=\"654.5578\" cy=\"170.4509\" fill=\"#383838\" rx=\"2\" ry=\"2\" style=\"stroke: #383838; stroke-width: 1.0;\"/></a><!--MD5=[15ebcb19ae302d9b601edb458606d402]\n",
       "link E5 to E2--><a href=\"psysml:ecc21de6-0c62-41d5-be03-95573cca647a\" target=\"_top\" title=\"psysml:ecc21de6-0c62-41d5-be03-95573cca647a\" xlink:actuate=\"onRequest\" xlink:href=\"psysml:ecc21de6-0c62-41d5-be03-95573cca647a\" xlink:show=\"new\" xlink:title=\"psysml:ecc21de6-0c62-41d5-be03-95573cca647a\" xlink:type=\"simple\"><path d=\"M178.56,330.07 C269.63,372.11 476.11,449.35 617,364 C671.05,331.26 695.18,255.65 704.67,214.29 \" fill=\"none\" id=\"E5-&gt;E2\" style=\"stroke: #383838; stroke-width: 1.0; stroke-dasharray: 7.0,7.0;\"/><polygon fill=\"#383838\" points=\"705.81,209.18,699.9529,217.098,704.7253,214.0609,707.7624,218.8334,705.81,209.18\" style=\"stroke: #383838; stroke-width: 1.0;\"/><text fill=\"#000000\" font-family=\"sans-serif\" font-size=\"13\" lengthAdjust=\"spacingAndGlyphs\" textLength=\"62\" x=\"460.5\" y=\"360.0669\">«subject»</text></a><!--MD5=[9120cf2e5df3bff93db8f754bbbc09b4]\n",
       "link E5 to E6--><a href=\"psysml:fcf6c150-3866-4336-9e66-2e65ffb041aa\" target=\"_top\" title=\"psysml:fcf6c150-3866-4336-9e66-2e65ffb041aa\" xlink:actuate=\"onRequest\" xlink:href=\"psysml:fcf6c150-3866-4336-9e66-2e65ffb041aa\" xlink:show=\"new\" xlink:title=\"psysml:fcf6c150-3866-4336-9e66-2e65ffb041aa\" xlink:type=\"simple\"><path d=\"M231.27,307 C270.35,307 315.87,307 357.75,307 \" fill=\"none\" id=\"E5-&gt;E6\" style=\"stroke: #383838; stroke-width: 1.0;\"/><polygon fill=\"#383838\" points=\"365.81,307,357.81,304,357.81,310,365.81,307\" style=\"stroke: #383838; stroke-width: 1.0;\"/><text fill=\"#000000\" font-family=\"sans-serif\" font-size=\"13\" lengthAdjust=\"spacingAndGlyphs\" textLength=\"73\" x=\"262\" y=\"303.0669\">«objective»</text></a><!--MD5=[452b418e7f8a40397a49b8c0a78acc5b]\n",
       "reverse link E5 to E7--><a href=\"psysml:afcc773f-3f6f-47e3-9b17-c2b1fd7bbdc3\" target=\"_top\" title=\"psysml:afcc773f-3f6f-47e3-9b17-c2b1fd7bbdc3\" xlink:actuate=\"onRequest\" xlink:href=\"psysml:afcc773f-3f6f-47e3-9b17-c2b1fd7bbdc3\" xlink:show=\"new\" xlink:title=\"psysml:afcc773f-3f6f-47e3-9b17-c2b1fd7bbdc3\" xlink:type=\"simple\"><path d=\"M244.05,281.76 C295.06,270.22 354.63,256.74 402.43,245.93 \" fill=\"none\" id=\"E5&lt;-E7\" style=\"stroke: #383838; stroke-width: 1.0;\"/><polygon fill=\"#FFFFFF\" points=\"231.27,284.65,238.0057,287.2251,242.9733,281.998,236.2376,279.4229,231.27,284.65\" style=\"stroke: #383838; stroke-width: 1.0;\"/><text fill=\"#000000\" font-family=\"sans-serif\" font-size=\"13\" lengthAdjust=\"spacingAndGlyphs\" textLength=\"8\" x=\"386.4318\" y=\"260.3626\">1</text></a><!--MD5=[583832df87f4419a098336a29a52fa00]\n",
       "link E7 to E2--><a href=\"psysml:09d901e9-14a1-4a34-80ae-448f8674b33c\" target=\"_top\" title=\"psysml:09d901e9-14a1-4a34-80ae-448f8674b33c\" xlink:actuate=\"onRequest\" xlink:href=\"psysml:09d901e9-14a1-4a34-80ae-448f8674b33c\" xlink:show=\"new\" xlink:title=\"psysml:09d901e9-14a1-4a34-80ae-448f8674b33c\" xlink:type=\"simple\"><path d=\"M580.65,209.79 C606.98,204.95 634.97,199.8 658.16,195.53 \" fill=\"none\" id=\"E7-&gt;E2\" style=\"stroke: #383838; stroke-width: 1.0;\"/><polygon fill=\"#FFFFFF\" points=\"677.92,191.9,660.4978,202.2182,657.9678,188.4487,677.92,191.9\" style=\"stroke: #383838; stroke-width: 1.0;\"/><ellipse cx=\"654.5302\" cy=\"201.2812\" fill=\"#383838\" rx=\"2\" ry=\"2\" style=\"stroke: #383838; stroke-width: 1.0;\"/><ellipse cx=\"652.7231\" cy=\"191.4458\" fill=\"#383838\" rx=\"2\" ry=\"2\" style=\"stroke: #383838; stroke-width: 1.0;\"/></a><!--MD5=[a1b528c8863fd5a233a794931f22718e]\n",
       "@startuml\r\n",
       "left to right direction\r\n",
       "skinparam monochrome true\r\n",
       "skinparam classbackgroundcolor white\r\n",
       "skinparam shadowing false\r\n",
       "skinparam wrapWidth 300\r\n",
       "hide circle\r\n",
       "\r\n",
       "package \"TradeStudyTest\" as E1  [[psysml:0d92d0af-a8c4-487d-a88b-e96d8d162758 ]]  {\r\n",
       "comp def \"Engine\" as E2  <<(T,blue) part def>> [[psysml:90b379af-84e4-4b51-bcba-9b20024a2d1f ]] {\r\n",
       "}\r\n",
       "comp usage \"engine1: Engine\" as E3  <<(T,blue) part>> [[psysml:1fe04244-3a7b-4d3a-93e0-0fd9f61a7cea ]] {\r\n",
       "}\r\n",
       "comp usage \"engine2: Engine\" as E4  <<(T,blue) part>> [[psysml:07207da4-9c20-4091-a953-293a54d08950 ]] {\r\n",
       "}\r\n",
       "comp usage \"engineTradeStudy: TradeStudy\" as E5 << analysis>> [[psysml:c0123459-da5a-4fa7-ba13-511d4e5fcdf0 ]] {\r\n",
       "}\r\n",
       "comp usage \"tradeStudyObjective: MaximizeObjective\" as E6  <<(T,blue) requirement>> [[psysml:d3ca6a29-f1f6-48ae-8677-7ec75b0f5c21 ]] {\r\n",
       "}\r\n",
       "comp usage \"selectedAlternative: Engine\" as E7  <<(T,blue) part>> [[psysml:7894e875-c3b4-453b-9dc9-b899c04487e6 ]] {\r\n",
       "}\r\n",
       "E3 - -:|> E2 [[psysml:8801a447-7348-4a45-a550-3876c92a8627 ]] \r\n",
       "E4 - -:|> E2 [[psysml:b9350b5a-5d8f-4ac9-a55f-8ba2d0a1e030 ]] \r\n",
       "E5 ..> E2 [[psysml:ecc21de6-0c62-41d5-be03-95573cca647a ]] : <<subject>>\r\n",
       "E5 - ->> E6 [[psysml:fcf6c150-3866-4336-9e66-2e65ffb041aa ]] : <<objective>>\r\n",
       "E5 o- - \"1\"E7 [[psysml:afcc773f-3f6f-47e3-9b17-c2b1fd7bbdc3 ]] \r\n",
       "E7 - -:|> E2 [[psysml:09d901e9-14a1-4a34-80ae-448f8674b33c ]] \r\n",
       "}\r\n",
       "@enduml\r\n",
       "\n",
       "PlantUML version 1.2020.13(Sat Jun 13 12:26:38 UTC 2020)\n",
       "(EPL source distribution)\n",
       "Java Runtime: OpenJDK Runtime Environment\n",
       "JVM: OpenJDK 64-Bit Server VM\n",
       "Default Encoding: UTF-8\n",
       "Language: en\n",
       "Country: null\n",
       "--></g></svg>"
      ]
     },
     "execution_count": 17,
     "metadata": {},
     "output_type": "execute_result"
    }
   ],
   "source": [
    "%viz --style=\"LR\" --view=\"Tree\" \"TradeStudyTest\""
   ]
  },
  {
   "cell_type": "code",
   "execution_count": 18,
   "id": "184bd0fa",
   "metadata": {
    "execution": {
     "iopub.execute_input": "2021-08-04T06:27:39.065826Z",
     "iopub.status.busy": "2021-08-04T06:27:39.065428Z",
     "iopub.status.idle": "2021-08-04T06:27:39.069229Z",
     "shell.execute_reply": "2021-08-04T06:27:39.068900Z"
    }
   },
   "outputs": [
    {
     "data": {
      "image/svg+xml": [
       "<?xml version=\"1.0\" encoding=\"UTF-8\" standalone=\"no\"?><svg xmlns=\"http://www.w3.org/2000/svg\" xmlns:xlink=\"http://www.w3.org/1999/xlink\" contentScriptType=\"application/ecmascript\" contentStyleType=\"text/css\" height=\"12px\" preserveAspectRatio=\"none\" style=\"width:12px;height:12px;\" version=\"1.1\" viewBox=\"0 0 12 12\" width=\"12px\" zoomAndPan=\"magnify\"><defs/><g><!--MD5=[19d285c9d72a204eba4e2cd117d745e8]\n",
       "@startuml\r\n",
       "left to right direction\r\n",
       "skinparam monochrome true\r\n",
       "skinparam classbackgroundcolor white\r\n",
       "skinparam shadowing false\r\n",
       "skinparam wrapWidth 300\r\n",
       "hide circle\r\n",
       "\r\n",
       "@enduml\r\n",
       "\n",
       "PlantUML version 1.2020.13(Sat Jun 13 12:26:38 UTC 2020)\n",
       "(EPL source distribution)\n",
       "Java Runtime: OpenJDK Runtime Environment\n",
       "JVM: OpenJDK 64-Bit Server VM\n",
       "Default Encoding: UTF-8\n",
       "Language: en\n",
       "Country: null\n",
       "--></g></svg>"
      ]
     },
     "execution_count": 18,
     "metadata": {},
     "output_type": "execute_result"
    }
   ],
   "source": [
    "%viz --style=\"LR\" --view=\"State\" \"TradeStudyTest\""
   ]
  },
  {
   "cell_type": "code",
   "execution_count": 19,
   "id": "61af8500",
   "metadata": {
    "execution": {
     "iopub.execute_input": "2021-08-04T06:27:39.119138Z",
     "iopub.status.busy": "2021-08-04T06:27:39.118742Z",
     "iopub.status.idle": "2021-08-04T06:27:39.143984Z",
     "shell.execute_reply": "2021-08-04T06:27:39.142981Z"
    }
   },
   "outputs": [
    {
     "data": {
      "image/svg+xml": [
       "<?xml version=\"1.0\" encoding=\"UTF-8\" standalone=\"no\"?><svg xmlns=\"http://www.w3.org/2000/svg\" xmlns:xlink=\"http://www.w3.org/1999/xlink\" contentScriptType=\"application/ecmascript\" contentStyleType=\"text/css\" height=\"270px\" preserveAspectRatio=\"none\" style=\"width:1017px;height:270px;\" version=\"1.1\" viewBox=\"0 0 1017 270\" width=\"1017px\" zoomAndPan=\"magnify\"><defs/><g><!--MD5=[fbc87193dbaf4d95561dea2c320d4a47]\n",
       "cluster E1--><a href=\"psysml:0d92d0af-a8c4-487d-a88b-e96d8d162758\" target=\"_top\" title=\"psysml:0d92d0af-a8c4-487d-a88b-e96d8d162758\" xlink:actuate=\"onRequest\" xlink:href=\"psysml:0d92d0af-a8c4-487d-a88b-e96d8d162758\" xlink:show=\"new\" xlink:title=\"psysml:0d92d0af-a8c4-487d-a88b-e96d8d162758\" xlink:type=\"simple\"><polygon fill=\"#FFFFFF\" points=\"16,6,148,6,155,28.2969,995,28.2969,995,258,16,258,16,6\" style=\"stroke: #000000; stroke-width: 1.5;\"/><line style=\"stroke: #000000; stroke-width: 1.5;\" x1=\"16\" x2=\"155\" y1=\"28.2969\" y2=\"28.2969\"/><text fill=\"#000000\" font-family=\"sans-serif\" font-size=\"14\" font-weight=\"bold\" lengthAdjust=\"spacingAndGlyphs\" textLength=\"126\" x=\"20\" y=\"20.9951\">TradeStudyTest</text></a><!--MD5=[270fce915f116d4de14055a7c1d9a0f3]\n",
       "class E5--><a href=\"psysml:c0123459-da5a-4fa7-ba13-511d4e5fcdf0\" target=\"_top\" title=\"psysml:c0123459-da5a-4fa7-ba13-511d4e5fcdf0\" xlink:actuate=\"onRequest\" xlink:href=\"psysml:c0123459-da5a-4fa7-ba13-511d4e5fcdf0\" xlink:show=\"new\" xlink:title=\"psysml:c0123459-da5a-4fa7-ba13-511d4e5fcdf0\" xlink:type=\"simple\"><rect fill=\"#FFFFFF\" height=\"45.9375\" id=\"E5\" rx=\"10\" ry=\"10\" style=\"stroke: #383838; stroke-width: 1.5;\" width=\"199\" x=\"32\" y=\"46\"/><text fill=\"#000000\" font-family=\"sans-serif\" font-size=\"12\" font-style=\"italic\" lengthAdjust=\"spacingAndGlyphs\" textLength=\"64\" x=\"99.5\" y=\"62.1387\">«analysis»</text><text fill=\"#000000\" font-family=\"sans-serif\" font-size=\"12\" lengthAdjust=\"spacingAndGlyphs\" textLength=\"193\" x=\"35\" y=\"76.1074\">engineTradeStudy: TradeStudy</text><line style=\"stroke: #383838; stroke-width: 1.5;\" x1=\"33\" x2=\"230\" y1=\"83.9375\" y2=\"83.9375\"/></a><!--MD5=[60a26617385b1d2d0262a64233df1f8d]\n",
       "class E6--><a href=\"psysml:d3ca6a29-f1f6-48ae-8677-7ec75b0f5c21\" target=\"_top\" title=\"psysml:d3ca6a29-f1f6-48ae-8677-7ec75b0f5c21\" xlink:actuate=\"onRequest\" xlink:href=\"psysml:d3ca6a29-f1f6-48ae-8677-7ec75b0f5c21\" xlink:show=\"new\" xlink:title=\"psysml:d3ca6a29-f1f6-48ae-8677-7ec75b0f5c21\" xlink:type=\"simple\"><rect fill=\"#FFFFFF\" height=\"45.9375\" id=\"E6\" rx=\"10\" ry=\"10\" style=\"stroke: #383838; stroke-width: 1.5;\" width=\"251\" x=\"322\" y=\"196\"/><text fill=\"#000000\" font-family=\"sans-serif\" font-size=\"12\" font-style=\"italic\" lengthAdjust=\"spacingAndGlyphs\" textLength=\"91\" x=\"402\" y=\"212.1387\">«requirement»</text><text fill=\"#000000\" font-family=\"sans-serif\" font-size=\"12\" lengthAdjust=\"spacingAndGlyphs\" textLength=\"245\" x=\"325\" y=\"226.1074\">tradeStudyObjective: MaximizeObjective</text><line style=\"stroke: #383838; stroke-width: 1.5;\" x1=\"323\" x2=\"572\" y1=\"233.9375\" y2=\"233.9375\"/></a><!--MD5=[2156ba9850f5573cc1fc38a6a4b2f02b]\n",
       "class E7--><a href=\"psysml:f099413c-f817-477f-a757-2c07f6450928\" target=\"_top\" title=\"psysml:f099413c-f817-477f-a757-2c07f6450928\" xlink:actuate=\"onRequest\" xlink:href=\"psysml:f099413c-f817-477f-a757-2c07f6450928\" xlink:show=\"new\" xlink:title=\"psysml:f099413c-f817-477f-a757-2c07f6450928\" xlink:type=\"simple\"><rect fill=\"#FFFFFF\" height=\"45.9375\" id=\"E7\" rx=\"10\" ry=\"10\" style=\"stroke: #383838; stroke-width: 1.5;\" width=\"116\" x=\"389.5\" y=\"115\"/><text fill=\"#000000\" font-family=\"sans-serif\" font-size=\"12\" font-style=\"italic\" lengthAdjust=\"spacingAndGlyphs\" textLength=\"82\" x=\"406.5\" y=\"131.1387\">«calculation»</text><text fill=\"#000000\" font-family=\"sans-serif\" font-size=\"12\" lengthAdjust=\"spacingAndGlyphs\" textLength=\"110\" x=\"392.5\" y=\"145.1074\">objectiveFunction</text><line style=\"stroke: #383838; stroke-width: 1.5;\" x1=\"390.5\" x2=\"504.5\" y1=\"152.9375\" y2=\"152.9375\"/></a><!--MD5=[b9389687b975829384b498ac4b7476b2]\n",
       "class E8--><a href=\"psysml:26f566d1-080d-4e4d-ba32-38c38fdc0bde\" target=\"_top\" title=\"psysml:26f566d1-080d-4e4d-ba32-38c38fdc0bde\" xlink:actuate=\"onRequest\" xlink:href=\"psysml:26f566d1-080d-4e4d-ba32-38c38fdc0bde\" xlink:show=\"new\" xlink:title=\"psysml:26f566d1-080d-4e4d-ba32-38c38fdc0bde\" xlink:type=\"simple\"><rect fill=\"#FFFFFF\" height=\"31.9688\" id=\"E8\" rx=\"10\" ry=\"10\" style=\"stroke: #383838; stroke-width: 1.5;\" width=\"124\" x=\"767\" y=\"131\"/><text fill=\"#000000\" font-family=\"sans-serif\" font-size=\"12\" lengthAdjust=\"spacingAndGlyphs\" textLength=\"118\" x=\"770\" y=\"147.1387\">alternative: Engine</text><line style=\"stroke: #383838; stroke-width: 1.5;\" x1=\"768\" x2=\"890\" y1=\"154.9688\" y2=\"154.9688\"/></a><!--MD5=[fd4143e9d270a159db93a4ea2a975926]\n",
       "class E9--><a href=\"psysml:7894e875-c3b4-453b-9dc9-b899c04487e6\" target=\"_top\" title=\"psysml:7894e875-c3b4-453b-9dc9-b899c04487e6\" xlink:actuate=\"onRequest\" xlink:href=\"psysml:7894e875-c3b4-453b-9dc9-b899c04487e6\" xlink:show=\"new\" xlink:title=\"psysml:7894e875-c3b4-453b-9dc9-b899c04487e6\" xlink:type=\"simple\"><rect fill=\"#FFFFFF\" height=\"31.9688\" id=\"E9\" rx=\"10\" ry=\"10\" style=\"stroke: #383838; stroke-width: 1.5;\" width=\"178\" x=\"581\" y=\"98\"/><text fill=\"#000000\" font-family=\"sans-serif\" font-size=\"12\" lengthAdjust=\"spacingAndGlyphs\" textLength=\"172\" x=\"584\" y=\"114.1387\">selectedAlternative: Engine</text><line style=\"stroke: #383838; stroke-width: 1.5;\" x1=\"582\" x2=\"758\" y1=\"121.9688\" y2=\"121.9688\"/></a><g id=\"E1.E2\"><a href=\"psysml:90b379af-84e4-4b51-bcba-9b20024a2d1f\" target=\"_top\" title=\"psysml:90b379af-84e4-4b51-bcba-9b20024a2d1f\" xlink:actuate=\"onRequest\" xlink:href=\"psysml:90b379af-84e4-4b51-bcba-9b20024a2d1f\" xlink:show=\"new\" xlink:title=\"psysml:90b379af-84e4-4b51-bcba-9b20024a2d1f\" xlink:type=\"simple\"><rect fill=\"#FFFFFF\" height=\"42.9375\" id=\"E2\" style=\"stroke: #383838; stroke-width: 1.5;\" width=\"71\" x=\"908\" y=\"73.5\"/><rect fill=\"#F8F8F8\" height=\"37.9375\" style=\"stroke: #383838; stroke-width: 1.5;\" width=\"71\" x=\"908\" y=\"73.5\"/><text fill=\"#000000\" font-family=\"sans-serif\" font-size=\"12\" font-style=\"italic\" lengthAdjust=\"spacingAndGlyphs\" textLength=\"64\" x=\"911.5\" y=\"89.6387\">«part def»</text><text fill=\"#000000\" font-family=\"sans-serif\" font-size=\"12\" lengthAdjust=\"spacingAndGlyphs\" textLength=\"43\" x=\"922\" y=\"103.6074\">Engine</text></a></g><g id=\"E1.E3\"><a href=\"psysml:1fe04244-3a7b-4d3a-93e0-0fd9f61a7cea\" target=\"_top\" title=\"psysml:1fe04244-3a7b-4d3a-93e0-0fd9f61a7cea\" xlink:actuate=\"onRequest\" xlink:href=\"psysml:1fe04244-3a7b-4d3a-93e0-0fd9f61a7cea\" xlink:show=\"new\" xlink:title=\"psysml:1fe04244-3a7b-4d3a-93e0-0fd9f61a7cea\" xlink:type=\"simple\"><rect fill=\"#FFFFFF\" height=\"40\" id=\"E3\" rx=\"10\" ry=\"10\" style=\"stroke: #383838; stroke-width: 1.5;\" width=\"113\" x=\"75\" y=\"127\"/><rect fill=\"#F8F8F8\" height=\"23.9688\" rx=\"10\" ry=\"10\" style=\"stroke: #F8F8F8; stroke-width: 1.5;\" width=\"113\" x=\"75\" y=\"127\"/><rect fill=\"#F8F8F8\" height=\"10\" style=\"stroke: #F8F8F8; stroke-width: 1.5;\" width=\"113\" x=\"75\" y=\"140.9688\"/><rect fill=\"none\" height=\"40\" id=\"E3\" rx=\"10\" ry=\"10\" style=\"stroke: #383838; stroke-width: 1.5;\" width=\"113\" x=\"75\" y=\"127\"/><text fill=\"#000000\" font-family=\"sans-serif\" font-size=\"12\" lengthAdjust=\"spacingAndGlyphs\" textLength=\"102\" x=\"80.5\" y=\"143.1387\">engine1: Engine</text></a></g><g id=\"E1.E4\"><a href=\"psysml:07207da4-9c20-4091-a953-293a54d08950\" target=\"_top\" title=\"psysml:07207da4-9c20-4091-a953-293a54d08950\" xlink:actuate=\"onRequest\" xlink:href=\"psysml:07207da4-9c20-4091-a953-293a54d08950\" xlink:show=\"new\" xlink:title=\"psysml:07207da4-9c20-4091-a953-293a54d08950\" xlink:type=\"simple\"><rect fill=\"#FFFFFF\" height=\"40\" id=\"E4\" rx=\"10\" ry=\"10\" style=\"stroke: #383838; stroke-width: 1.5;\" width=\"113\" x=\"75\" y=\"202\"/><rect fill=\"#F8F8F8\" height=\"23.9688\" rx=\"10\" ry=\"10\" style=\"stroke: #F8F8F8; stroke-width: 1.5;\" width=\"113\" x=\"75\" y=\"202\"/><rect fill=\"#F8F8F8\" height=\"10\" style=\"stroke: #F8F8F8; stroke-width: 1.5;\" width=\"113\" x=\"75\" y=\"215.9688\"/><rect fill=\"none\" height=\"40\" id=\"E4\" rx=\"10\" ry=\"10\" style=\"stroke: #383838; stroke-width: 1.5;\" width=\"113\" x=\"75\" y=\"202\"/><text fill=\"#000000\" font-family=\"sans-serif\" font-size=\"12\" lengthAdjust=\"spacingAndGlyphs\" textLength=\"102\" x=\"80.5\" y=\"218.1387\">engine2: Engine</text></a></g><!--MD5=[15ebcb19ae302d9b601edb458606d402]\n",
       "link E5 to E2--><a href=\"psysml:ecc21de6-0c62-41d5-be03-95573cca647a\" target=\"_top\" title=\"psysml:ecc21de6-0c62-41d5-be03-95573cca647a\" xlink:actuate=\"onRequest\" xlink:href=\"psysml:ecc21de6-0c62-41d5-be03-95573cca647a\" xlink:show=\"new\" xlink:title=\"psysml:ecc21de6-0c62-41d5-be03-95573cca647a\" xlink:type=\"simple\"><path d=\"M231.41,66.04 C258.21,65.6 287.22,65.45 314,66 C574.61,71.33 640.15,69.42 900,90 C900.79,90.06 901.58,90.13 902.38,90.2 \" fill=\"none\" id=\"E5-&gt;E2\" style=\"stroke: #383838; stroke-width: 1.0; stroke-dasharray: 7.0,7.0;\"/><polygon fill=\"#383838\" points=\"907.73,90.69,899.1341,85.8827,902.751,90.2322,898.4015,93.8491,907.73,90.69\" style=\"stroke: #383838; stroke-width: 1.0;\"/><text fill=\"#000000\" font-family=\"sans-serif\" font-size=\"13\" lengthAdjust=\"spacingAndGlyphs\" textLength=\"62\" x=\"639\" y=\"68.0669\">«subject»</text></a><!--MD5=[9120cf2e5df3bff93db8f754bbbc09b4]\n",
       "link E5 to E6--><a href=\"psysml:fcf6c150-3866-4336-9e66-2e65ffb041aa\" target=\"_top\" title=\"psysml:fcf6c150-3866-4336-9e66-2e65ffb041aa\" xlink:actuate=\"onRequest\" xlink:href=\"psysml:fcf6c150-3866-4336-9e66-2e65ffb041aa\" xlink:show=\"new\" xlink:title=\"psysml:fcf6c150-3866-4336-9e66-2e65ffb041aa\" xlink:type=\"simple\"><path d=\"M209.42,92.23 C217.39,96.87 224.81,102.4 231,109 C238.69,117.2 231.81,124.35 239,133 C265.95,165.44 283.29,162.25 322,179 C333.73,184.08 346.33,188.86 358.84,193.22 \" fill=\"none\" id=\"E5-&gt;E6\" style=\"stroke: #383838; stroke-width: 1.0;\"/><polygon fill=\"#383838\" points=\"366.61,195.89,360.0212,190.4506,358.0692,196.1242,366.61,195.89\" style=\"stroke: #383838; stroke-width: 1.0;\"/><text fill=\"#000000\" font-family=\"sans-serif\" font-size=\"13\" lengthAdjust=\"spacingAndGlyphs\" textLength=\"73\" x=\"240\" y=\"129.0669\">«objective»</text></a><!--MD5=[452b418e7f8a40397a49b8c0a78acc5b]\n",
       "reverse link E5 to E7--><a href=\"psysml:a988c065-f70c-4bb4-ab6a-fca08357bc4a\" target=\"_top\" title=\"psysml:a988c065-f70c-4bb4-ab6a-fca08357bc4a\" xlink:actuate=\"onRequest\" xlink:href=\"psysml:a988c065-f70c-4bb4-ab6a-fca08357bc4a\" xlink:show=\"new\" xlink:title=\"psysml:a988c065-f70c-4bb4-ab6a-fca08357bc4a\" xlink:type=\"simple\"><path d=\"M244.39,93.59 C293.4,104.36 348.81,116.53 389.2,125.41 \" fill=\"none\" id=\"E5&lt;-E7\" style=\"stroke: #383838; stroke-width: 1.0;\"/><polygon fill=\"#383838\" points=\"231.42,90.74,236.4237,95.9326,243.1413,93.311,238.1377,88.1184,231.42,90.74\" style=\"stroke: #383838; stroke-width: 1.0;\"/></a><!--MD5=[dc164f5e8a733ab456ef1add180e9e34]\n",
       "reverse link E7 to E8--><a href=\"psysml:4295af6e-acd7-489b-9191-c25409e1351b\" target=\"_top\" title=\"psysml:4295af6e-acd7-489b-9191-c25409e1351b\" xlink:actuate=\"onRequest\" xlink:href=\"psysml:4295af6e-acd7-489b-9191-c25409e1351b\" xlink:show=\"new\" xlink:title=\"psysml:4295af6e-acd7-489b-9191-c25409e1351b\" xlink:type=\"simple\"><path d=\"M519.01,139.67 C590.24,141.36 699.16,143.94 766.84,145.55 \" fill=\"none\" id=\"E7&lt;-E8\" style=\"stroke: #383838; stroke-width: 1.0;\"/><polygon fill=\"#FFFFFF\" points=\"505.73,139.36,511.6315,143.504,517.7265,139.6503,511.825,135.5063,505.73,139.36\" style=\"stroke: #383838; stroke-width: 1.0;\"/><text fill=\"#000000\" font-family=\"sans-serif\" font-size=\"13\" lengthAdjust=\"spacingAndGlyphs\" textLength=\"8\" x=\"751.1903\" y=\"158.3259\">1</text></a><!--MD5=[f1f3f9f2fc535e6147756cb86a7f2e32]\n",
       "link E8 to E2--><a href=\"psysml:aed7fba6-fc0e-4a29-a473-c7d943b57344\" target=\"_top\" title=\"psysml:aed7fba6-fc0e-4a29-a473-c7d943b57344\" xlink:actuate=\"onRequest\" xlink:href=\"psysml:aed7fba6-fc0e-4a29-a473-c7d943b57344\" xlink:show=\"new\" xlink:title=\"psysml:aed7fba6-fc0e-4a29-a473-c7d943b57344\" xlink:type=\"simple\"><path d=\"M864.67,130.97 C872.48,127.37 880.94,123.46 889.31,119.59 \" fill=\"none\" id=\"E8-&gt;E2\" style=\"stroke: #383838; stroke-width: 1.0;\"/><polygon fill=\"#FFFFFF\" points=\"907.75,111.06,893.4358,125.3814,887.5658,112.6714,907.75,111.06\" style=\"stroke: #383838; stroke-width: 1.0;\"/><ellipse cx=\"887.4224\" cy=\"125.9556\" fill=\"#383838\" rx=\"2\" ry=\"2\" style=\"stroke: #383838; stroke-width: 1.0;\"/><ellipse cx=\"883.2296\" cy=\"116.8771\" fill=\"#383838\" rx=\"2\" ry=\"2\" style=\"stroke: #383838; stroke-width: 1.0;\"/></a><!--MD5=[9ae28de373ca99bb8a1b38d63370ca7e]\n",
       "reverse link E5 to E9--><a href=\"psysml:afcc773f-3f6f-47e3-9b17-c2b1fd7bbdc3\" target=\"_top\" title=\"psysml:afcc773f-3f6f-47e3-9b17-c2b1fd7bbdc3\" xlink:actuate=\"onRequest\" xlink:href=\"psysml:afcc773f-3f6f-47e3-9b17-c2b1fd7bbdc3\" xlink:show=\"new\" xlink:title=\"psysml:afcc773f-3f6f-47e3-9b17-c2b1fd7bbdc3\" xlink:type=\"simple\"><path d=\"M244.35,72.66 C333.58,76.4 461.62,83.64 573,97 C575.6,97.31 578.25,97.65 580.91,98.01 \" fill=\"none\" id=\"E5&lt;-E9\" style=\"stroke: #383838; stroke-width: 1.0;\"/><polygon fill=\"#FFFFFF\" points=\"231.2,72.12,237.0325,76.3605,243.1901,72.6075,237.3575,68.3671,231.2,72.12\" style=\"stroke: #383838; stroke-width: 1.0;\"/><text fill=\"#000000\" font-family=\"sans-serif\" font-size=\"13\" lengthAdjust=\"spacingAndGlyphs\" textLength=\"8\" x=\"564.9101\" y=\"109.3543\">1</text></a><!--MD5=[5c3bb36fe832a92c7f0e1807dd65209d]\n",
       "link E9 to E2--><a href=\"psysml:09d901e9-14a1-4a34-80ae-448f8674b33c\" target=\"_top\" title=\"psysml:09d901e9-14a1-4a34-80ae-448f8674b33c\" xlink:actuate=\"onRequest\" xlink:href=\"psysml:09d901e9-14a1-4a34-80ae-448f8674b33c\" xlink:show=\"new\" xlink:title=\"psysml:09d901e9-14a1-4a34-80ae-448f8674b33c\" xlink:type=\"simple\"><path d=\"M759.15,107.83 C801.47,104.87 850.87,101.41 887.72,98.83 \" fill=\"none\" id=\"E9-&gt;E2\" style=\"stroke: #383838; stroke-width: 1.0;\"/><polygon fill=\"#FFFFFF\" points=\"907.82,97.43,889.3505,105.7293,888.3808,91.7629,907.82,97.43\" style=\"stroke: #383838; stroke-width: 1.0;\"/><ellipse cx=\"883.5257\" cy=\"104.1289\" fill=\"#383838\" rx=\"2\" ry=\"2\" style=\"stroke: #383838; stroke-width: 1.0;\"/><ellipse cx=\"882.833\" cy=\"94.1529\" fill=\"#383838\" rx=\"2\" ry=\"2\" style=\"stroke: #383838; stroke-width: 1.0;\"/></a><!--MD5=[7377037357455fb456843c44f2b6ebad]\n",
       "@startuml\r\n",
       "skinparam ranksep 10\r\n",
       "skinparam rectangle {\r\n",
       " backgroundColor<<block>> LightGreen\r\n",
       "}\r\n",
       "left to right direction\r\n",
       "skinparam monochrome true\r\n",
       "skinparam classbackgroundcolor white\r\n",
       "skinparam shadowing false\r\n",
       "skinparam wrapWidth 300\r\n",
       "hide circle\r\n",
       "\r\n",
       "package \"TradeStudyTest\" as E1  [[psysml:0d92d0af-a8c4-487d-a88b-e96d8d162758 ]]  {\r\n",
       "rec def \"Engine\" as E2  <<(T,blue) part def>> [[psysml:90b379af-84e4-4b51-bcba-9b20024a2d1f ]] {\r\n",
       "}\r\n",
       "rec usage \"engine1: Engine\" as E3  [[psysml:1fe04244-3a7b-4d3a-93e0-0fd9f61a7cea ]] {\r\n",
       "}\r\n",
       "rec usage \"engine2: Engine\" as E4  [[psysml:07207da4-9c20-4091-a953-293a54d08950 ]] {\r\n",
       "}\r\n",
       "comp usage \"engineTradeStudy: TradeStudy\" as E5 << analysis>> [[psysml:c0123459-da5a-4fa7-ba13-511d4e5fcdf0 ]] {\r\n",
       "}\r\n",
       "comp usage \"tradeStudyObjective: MaximizeObjective\" as E6  <<(T,blue) requirement>> [[psysml:d3ca6a29-f1f6-48ae-8677-7ec75b0f5c21 ]] {\r\n",
       "}\r\n",
       "comp usage \"objectiveFunction\" as E7  <<(T,blue) calculation>> [[psysml:f099413c-f817-477f-a757-2c07f6450928 ]] {\r\n",
       "}\r\n",
       "comp usage \"alternative: Engine\" as E8  [[psysml:26f566d1-080d-4e4d-ba32-38c38fdc0bde ]] {\r\n",
       "}\r\n",
       "comp usage \"selectedAlternative: Engine\" as E9  [[psysml:7894e875-c3b4-453b-9dc9-b899c04487e6 ]] {\r\n",
       "}\r\n",
       "E5 ..> E2 [[psysml:ecc21de6-0c62-41d5-be03-95573cca647a ]] : <<subject>>\r\n",
       "E5 - ->> E6 [[psysml:fcf6c150-3866-4336-9e66-2e65ffb041aa ]] : <<objective>>\r\n",
       "E5 *- - E7 [[psysml:a988c065-f70c-4bb4-ab6a-fca08357bc4a ]] \r\n",
       "E7 o- - \"1\"E8 [[psysml:4295af6e-acd7-489b-9191-c25409e1351b ]] \r\n",
       "E8 - -:|> E2 [[psysml:aed7fba6-fc0e-4a29-a473-c7d943b57344 ]] \r\n",
       "E5 o- - \"1\"E9 [[psysml:afcc773f-3f6f-47e3-9b17-c2b1fd7bbdc3 ]] \r\n",
       "E9 - -:|> E2 [[psysml:09d901e9-14a1-4a34-80ae-448f8674b33c ]] \r\n",
       "}\r\n",
       "@enduml\r\n",
       "\n",
       "PlantUML version 1.2020.13(Sat Jun 13 12:26:38 UTC 2020)\n",
       "(EPL source distribution)\n",
       "Java Runtime: OpenJDK Runtime Environment\n",
       "JVM: OpenJDK 64-Bit Server VM\n",
       "Default Encoding: UTF-8\n",
       "Language: en\n",
       "Country: null\n",
       "--></g></svg>"
      ]
     },
     "execution_count": 19,
     "metadata": {},
     "output_type": "execute_result"
    }
   ],
   "source": [
    "%viz --style=\"LR\" --view=\"Interconnection\" \"TradeStudyTest\""
   ]
  },
  {
   "cell_type": "code",
   "execution_count": 20,
   "id": "c8cb4cfd",
   "metadata": {
    "execution": {
     "iopub.execute_input": "2021-08-04T06:27:39.193536Z",
     "iopub.status.busy": "2021-08-04T06:27:39.193289Z",
     "iopub.status.idle": "2021-08-04T06:27:39.211832Z",
     "shell.execute_reply": "2021-08-04T06:27:39.212034Z"
    }
   },
   "outputs": [
    {
     "data": {
      "image/svg+xml": [
       "<?xml version=\"1.0\" encoding=\"UTF-8\" standalone=\"no\"?><svg xmlns=\"http://www.w3.org/2000/svg\" xmlns:xlink=\"http://www.w3.org/1999/xlink\" contentScriptType=\"application/ecmascript\" contentStyleType=\"text/css\" height=\"208px\" preserveAspectRatio=\"none\" style=\"width:303px;height:208px;\" version=\"1.1\" viewBox=\"0 0 303 208\" width=\"303px\" zoomAndPan=\"magnify\"><defs/><g><!--MD5=[fbc87193dbaf4d95561dea2c320d4a47]\n",
       "cluster E1--><a href=\"psysml:c0123459-da5a-4fa7-ba13-511d4e5fcdf0\" target=\"_top\" title=\"psysml:c0123459-da5a-4fa7-ba13-511d4e5fcdf0\" xlink:actuate=\"onRequest\" xlink:href=\"psysml:c0123459-da5a-4fa7-ba13-511d4e5fcdf0\" xlink:show=\"new\" xlink:title=\"psysml:c0123459-da5a-4fa7-ba13-511d4e5fcdf0\" xlink:type=\"simple\"><rect fill=\"#FFFFFF\" height=\"134\" id=\"E1\" rx=\"10\" ry=\"10\" style=\"stroke: #383838; stroke-width: 1.5;\" width=\"275.22\" x=\"16.5\" y=\"42.0986\"/><rect fill=\"#F8F8F8\" height=\"37.9375\" rx=\"10\" ry=\"10\" style=\"stroke: #F8F8F8; stroke-width: 1.5;\" width=\"275.22\" x=\"16.5\" y=\"42.0986\"/><rect fill=\"#F8F8F8\" height=\"10\" style=\"stroke: #F8F8F8; stroke-width: 1.5;\" width=\"275.22\" x=\"16.5\" y=\"70.0361\"/><rect fill=\"none\" height=\"134\" id=\"E1\" rx=\"10\" ry=\"10\" style=\"stroke: #383838; stroke-width: 1.5;\" width=\"275.22\" x=\"16.5\" y=\"42.0986\"/><text fill=\"#000000\" font-family=\"sans-serif\" font-size=\"12\" font-style=\"italic\" lengthAdjust=\"spacingAndGlyphs\" textLength=\"64\" x=\"122.11\" y=\"58.2373\">«analysis»</text><text fill=\"#000000\" font-family=\"sans-serif\" font-size=\"12\" lengthAdjust=\"spacingAndGlyphs\" textLength=\"114\" x=\"97.11\" y=\"72.2061\">engineTradeStudy</text><line style=\"stroke: #383838; stroke-width: 1.0;\" x1=\"16.5\" x2=\"291.72\" y1=\"80.0361\" y2=\"80.0361\"/></a><!--MD5=[d5e69f78d87373223dbae638b30a9c99]\n",
       "cluster E3--><a href=\"psysml:f099413c-f817-477f-a757-2c07f6450928\" target=\"_top\" title=\"psysml:f099413c-f817-477f-a757-2c07f6450928\" xlink:actuate=\"onRequest\" xlink:href=\"psysml:f099413c-f817-477f-a757-2c07f6450928\" xlink:show=\"new\" xlink:title=\"psysml:f099413c-f817-477f-a757-2c07f6450928\" xlink:type=\"simple\"><rect fill=\"#FFFFFF\" height=\"40\" id=\"E3\" rx=\"10\" ry=\"10\" style=\"stroke: #383838; stroke-width: 1.5;\" width=\"223.22\" x=\"56.5\" y=\"72.0986\"/><rect fill=\"#F8F8F8\" height=\"37.9375\" rx=\"10\" ry=\"10\" style=\"stroke: #F8F8F8; stroke-width: 1.5;\" width=\"223.22\" x=\"56.5\" y=\"72.0986\"/><rect fill=\"#F8F8F8\" height=\"10\" style=\"stroke: #F8F8F8; stroke-width: 1.5;\" width=\"223.22\" x=\"56.5\" y=\"100.0361\"/><rect fill=\"none\" height=\"40\" id=\"E3\" rx=\"10\" ry=\"10\" style=\"stroke: #383838; stroke-width: 1.5;\" width=\"223.22\" x=\"56.5\" y=\"72.0986\"/><text fill=\"#000000\" font-family=\"sans-serif\" font-size=\"12\" font-style=\"italic\" lengthAdjust=\"spacingAndGlyphs\" textLength=\"82\" x=\"127.11\" y=\"88.2373\">«calculation»</text><text fill=\"#000000\" font-family=\"sans-serif\" font-size=\"12\" lengthAdjust=\"spacingAndGlyphs\" textLength=\"110\" x=\"113.11\" y=\"102.2061\">objectiveFunction</text><line style=\"stroke: #383838; stroke-width: 1.0;\" x1=\"56.5\" x2=\"279.72\" y1=\"110.0361\" y2=\"110.0361\"/></a><text fill=\"#000000\" font-family=\"sans-serif\" font-size=\"14\" lengthAdjust=\"spacingAndGlyphs\" textLength=\"57\" x=\"6\" y=\"195.0938\">noname</text><rect fill=\"#383838\" height=\"12\" style=\"stroke: #F8F8F8; stroke-width: 1.5;\" width=\"12\" x=\"28.5\" y=\"170.0986\"/><text fill=\"#000000\" font-family=\"sans-serif\" font-size=\"14\" lengthAdjust=\"spacingAndGlyphs\" textLength=\"57\" x=\"233.22\" y=\"20.7969\">noname</text><rect fill=\"#383838\" height=\"12\" style=\"stroke: #F8F8F8; stroke-width: 1.5;\" width=\"12\" x=\"255.72\" y=\"36.0986\"/><text fill=\"#000000\" font-family=\"sans-serif\" font-size=\"14\" lengthAdjust=\"spacingAndGlyphs\" textLength=\"57\" x=\"233.22\" y=\"131.0938\">noname</text><rect fill=\"#383838\" height=\"12\" style=\"stroke: #F8F8F8; stroke-width: 1.5;\" width=\"12\" x=\"255.72\" y=\"106.0986\"/><!--MD5=[ef661b91f49673d7fc104ef9cbba9f74]\n",
       "@startuml\r\n",
       "skinparam ranksep 8\r\n",
       "left to right direction\r\n",
       "skinparam monochrome true\r\n",
       "skinparam classbackgroundcolor white\r\n",
       "skinparam shadowing false\r\n",
       "skinparam wrapWidth 300\r\n",
       "hide circle\r\n",
       "\r\n",
       "rec usage \"engineTradeStudy\" as E1 << analysis>> [[psysml:c0123459-da5a-4fa7-ba13-511d4e5fcdf0 ]] {\r\n",
       "portin \"noname\" as E2  [[psysml:210e0914-9352-49ef-884c-3efb23c87d05 ]] \r\n",
       "rec usage \"objectiveFunction\" as E3  <<(T,blue) calculation>> [[psysml:f099413c-f817-477f-a757-2c07f6450928 ]] {\r\n",
       "portout \"noname\" as E4  [[psysml:cddfcd13-7814-4ab4-947c-703e6331ff4e ]] \r\n",
       "}\r\n",
       "\r\n",
       "portout \"noname\" as E5  [[psysml:7894e875-c3b4-453b-9dc9-b899c04487e6 ]] \r\n",
       "}\r\n",
       "\r\n",
       "@enduml\r\n",
       "\n",
       "PlantUML version 1.2020.13(Sat Jun 13 12:26:38 UTC 2020)\n",
       "(EPL source distribution)\n",
       "Java Runtime: OpenJDK Runtime Environment\n",
       "JVM: OpenJDK 64-Bit Server VM\n",
       "Default Encoding: UTF-8\n",
       "Language: en\n",
       "Country: null\n",
       "--></g></svg>"
      ]
     },
     "execution_count": 20,
     "metadata": {},
     "output_type": "execute_result"
    }
   ],
   "source": [
    "%viz --style=\"LR\" --view=\"Action\" \"TradeStudyTest\""
   ]
  },
  {
   "cell_type": "code",
   "execution_count": 21,
   "id": "a0939ec4",
   "metadata": {
    "execution": {
     "iopub.execute_input": "2021-08-04T06:27:39.262150Z",
     "iopub.status.busy": "2021-08-04T06:27:39.261904Z",
     "iopub.status.idle": "2021-08-04T06:27:39.283580Z",
     "shell.execute_reply": "2021-08-04T06:27:39.282396Z"
    }
   },
   "outputs": [
    {
     "data": {
      "image/svg+xml": [
       "<?xml version=\"1.0\" encoding=\"UTF-8\" standalone=\"no\"?><svg xmlns=\"http://www.w3.org/2000/svg\" xmlns:xlink=\"http://www.w3.org/1999/xlink\" contentScriptType=\"application/ecmascript\" contentStyleType=\"text/css\" height=\"461px\" preserveAspectRatio=\"none\" style=\"width:782px;height:461px;\" version=\"1.1\" viewBox=\"0 0 782 461\" width=\"782px\" zoomAndPan=\"magnify\"><defs/><g><!--MD5=[fbc87193dbaf4d95561dea2c320d4a47]\n",
       "cluster E1--><a href=\"psysml:0d92d0af-a8c4-487d-a88b-e96d8d162758\" target=\"_top\" title=\"psysml:0d92d0af-a8c4-487d-a88b-e96d8d162758\" xlink:actuate=\"onRequest\" xlink:href=\"psysml:0d92d0af-a8c4-487d-a88b-e96d8d162758\" xlink:show=\"new\" xlink:title=\"psysml:0d92d0af-a8c4-487d-a88b-e96d8d162758\" xlink:type=\"simple\"><polygon fill=\"#FFFFFF\" points=\"16,6,148,6,155,28.2969,760,28.2969,760,433,16,433,16,6\" style=\"stroke: #000000; stroke-width: 1.5;\"/><line style=\"stroke: #000000; stroke-width: 1.5;\" x1=\"16\" x2=\"155\" y1=\"28.2969\" y2=\"28.2969\"/><text fill=\"#000000\" font-family=\"sans-serif\" font-size=\"14\" font-weight=\"bold\" lengthAdjust=\"spacingAndGlyphs\" textLength=\"126\" x=\"20\" y=\"20.9951\">TradeStudyTest</text></a><!--MD5=[b4997ac47864f28c2f74865a473b2911]\n",
       "class E2--><a href=\"psysml:90b379af-84e4-4b51-bcba-9b20024a2d1f\" target=\"_top\" title=\"psysml:90b379af-84e4-4b51-bcba-9b20024a2d1f\" xlink:actuate=\"onRequest\" xlink:href=\"psysml:90b379af-84e4-4b51-bcba-9b20024a2d1f\" xlink:show=\"new\" xlink:title=\"psysml:90b379af-84e4-4b51-bcba-9b20024a2d1f\" xlink:type=\"simple\"><rect fill=\"#FFFFFF\" height=\"45.9375\" id=\"E2\" style=\"stroke: #383838; stroke-width: 1.5;\" width=\"66\" x=\"678\" y=\"163\"/><text fill=\"#000000\" font-family=\"sans-serif\" font-size=\"12\" font-style=\"italic\" lengthAdjust=\"spacingAndGlyphs\" textLength=\"64\" x=\"679\" y=\"179.1387\">«part def»</text><text fill=\"#000000\" font-family=\"sans-serif\" font-size=\"12\" lengthAdjust=\"spacingAndGlyphs\" textLength=\"43\" x=\"689.5\" y=\"193.1074\">Engine</text><line style=\"stroke: #383838; stroke-width: 1.5;\" x1=\"679\" x2=\"743\" y1=\"200.9375\" y2=\"200.9375\"/></a><!--MD5=[09b614a08d8cba4a07c9adeb5e0fee81]\n",
       "class E3--><a href=\"psysml:1fe04244-3a7b-4d3a-93e0-0fd9f61a7cea\" target=\"_top\" title=\"psysml:1fe04244-3a7b-4d3a-93e0-0fd9f61a7cea\" xlink:actuate=\"onRequest\" xlink:href=\"psysml:1fe04244-3a7b-4d3a-93e0-0fd9f61a7cea\" xlink:show=\"new\" xlink:title=\"psysml:1fe04244-3a7b-4d3a-93e0-0fd9f61a7cea\" xlink:type=\"simple\"><rect fill=\"#FFFFFF\" height=\"45.9375\" id=\"E3\" rx=\"10\" ry=\"10\" style=\"stroke: #383838; stroke-width: 1.5;\" width=\"108\" x=\"437.5\" y=\"41\"/><text fill=\"#000000\" font-family=\"sans-serif\" font-size=\"12\" font-style=\"italic\" lengthAdjust=\"spacingAndGlyphs\" textLength=\"40\" x=\"471.5\" y=\"57.1387\">«part»</text><text fill=\"#000000\" font-family=\"sans-serif\" font-size=\"12\" lengthAdjust=\"spacingAndGlyphs\" textLength=\"102\" x=\"440.5\" y=\"71.1074\">engine1: Engine</text><line style=\"stroke: #383838; stroke-width: 1.5;\" x1=\"438.5\" x2=\"544.5\" y1=\"78.9375\" y2=\"78.9375\"/></a><!--MD5=[ebbe1d658d1005bcc118a6aa81145e00]\n",
       "class E4--><a href=\"psysml:07207da4-9c20-4091-a953-293a54d08950\" target=\"_top\" title=\"psysml:07207da4-9c20-4091-a953-293a54d08950\" xlink:actuate=\"onRequest\" xlink:href=\"psysml:07207da4-9c20-4091-a953-293a54d08950\" xlink:show=\"new\" xlink:title=\"psysml:07207da4-9c20-4091-a953-293a54d08950\" xlink:type=\"simple\"><rect fill=\"#FFFFFF\" height=\"45.9375\" id=\"E4\" rx=\"10\" ry=\"10\" style=\"stroke: #383838; stroke-width: 1.5;\" width=\"108\" x=\"437.5\" y=\"122\"/><text fill=\"#000000\" font-family=\"sans-serif\" font-size=\"12\" font-style=\"italic\" lengthAdjust=\"spacingAndGlyphs\" textLength=\"40\" x=\"471.5\" y=\"138.1387\">«part»</text><text fill=\"#000000\" font-family=\"sans-serif\" font-size=\"12\" lengthAdjust=\"spacingAndGlyphs\" textLength=\"102\" x=\"440.5\" y=\"152.1074\">engine2: Engine</text><line style=\"stroke: #383838; stroke-width: 1.5;\" x1=\"438.5\" x2=\"544.5\" y1=\"159.9375\" y2=\"159.9375\"/></a><!--MD5=[270fce915f116d4de14055a7c1d9a0f3]\n",
       "class E5--><a href=\"psysml:c0123459-da5a-4fa7-ba13-511d4e5fcdf0\" target=\"_top\" title=\"psysml:c0123459-da5a-4fa7-ba13-511d4e5fcdf0\" xlink:actuate=\"onRequest\" xlink:href=\"psysml:c0123459-da5a-4fa7-ba13-511d4e5fcdf0\" xlink:show=\"new\" xlink:title=\"psysml:c0123459-da5a-4fa7-ba13-511d4e5fcdf0\" xlink:type=\"simple\"><rect fill=\"#FFFFFF\" height=\"45.9375\" id=\"E5\" rx=\"10\" ry=\"10\" style=\"stroke: #383838; stroke-width: 1.5;\" width=\"199\" x=\"32\" y=\"284\"/><text fill=\"#000000\" font-family=\"sans-serif\" font-size=\"12\" font-style=\"italic\" lengthAdjust=\"spacingAndGlyphs\" textLength=\"64\" x=\"99.5\" y=\"300.1387\">«analysis»</text><text fill=\"#000000\" font-family=\"sans-serif\" font-size=\"12\" lengthAdjust=\"spacingAndGlyphs\" textLength=\"193\" x=\"35\" y=\"314.1074\">engineTradeStudy: TradeStudy</text><line style=\"stroke: #383838; stroke-width: 1.5;\" x1=\"33\" x2=\"230\" y1=\"321.9375\" y2=\"321.9375\"/></a><!--MD5=[60a26617385b1d2d0262a64233df1f8d]\n",
       "class E6--><a href=\"psysml:d3ca6a29-f1f6-48ae-8677-7ec75b0f5c21\" target=\"_top\" title=\"psysml:d3ca6a29-f1f6-48ae-8677-7ec75b0f5c21\" xlink:actuate=\"onRequest\" xlink:href=\"psysml:d3ca6a29-f1f6-48ae-8677-7ec75b0f5c21\" xlink:show=\"new\" xlink:title=\"psysml:d3ca6a29-f1f6-48ae-8677-7ec75b0f5c21\" xlink:type=\"simple\"><rect fill=\"#FFFFFF\" height=\"45.9375\" id=\"E6\" rx=\"10\" ry=\"10\" style=\"stroke: #383838; stroke-width: 1.5;\" width=\"251\" x=\"366\" y=\"284\"/><text fill=\"#000000\" font-family=\"sans-serif\" font-size=\"12\" font-style=\"italic\" lengthAdjust=\"spacingAndGlyphs\" textLength=\"91\" x=\"446\" y=\"300.1387\">«requirement»</text><text fill=\"#000000\" font-family=\"sans-serif\" font-size=\"12\" lengthAdjust=\"spacingAndGlyphs\" textLength=\"245\" x=\"369\" y=\"314.1074\">tradeStudyObjective: MaximizeObjective</text><line style=\"stroke: #383838; stroke-width: 1.5;\" x1=\"367\" x2=\"616\" y1=\"321.9375\" y2=\"321.9375\"/></a><!--MD5=[2156ba9850f5573cc1fc38a6a4b2f02b]\n",
       "class E7--><a href=\"psysml:7894e875-c3b4-453b-9dc9-b899c04487e6\" target=\"_top\" title=\"psysml:7894e875-c3b4-453b-9dc9-b899c04487e6\" xlink:actuate=\"onRequest\" xlink:href=\"psysml:7894e875-c3b4-453b-9dc9-b899c04487e6\" xlink:show=\"new\" xlink:title=\"psysml:7894e875-c3b4-453b-9dc9-b899c04487e6\" xlink:type=\"simple\"><rect fill=\"#FFFFFF\" height=\"45.9375\" id=\"E7\" rx=\"10\" ry=\"10\" style=\"stroke: #383838; stroke-width: 1.5;\" width=\"178\" x=\"402.5\" y=\"203\"/><text fill=\"#000000\" font-family=\"sans-serif\" font-size=\"12\" font-style=\"italic\" lengthAdjust=\"spacingAndGlyphs\" textLength=\"40\" x=\"471.5\" y=\"219.1387\">«part»</text><text fill=\"#000000\" font-family=\"sans-serif\" font-size=\"12\" lengthAdjust=\"spacingAndGlyphs\" textLength=\"172\" x=\"405.5\" y=\"233.1074\">selectedAlternative: Engine</text><line style=\"stroke: #383838; stroke-width: 1.5;\" x1=\"403.5\" x2=\"579.5\" y1=\"240.9375\" y2=\"240.9375\"/></a><!--MD5=[05d275557350bfb9b23a4ef7222b4c39]\n",
       "link E3 to E2--><a href=\"psysml:8801a447-7348-4a45-a550-3876c92a8627\" target=\"_top\" title=\"psysml:8801a447-7348-4a45-a550-3876c92a8627\" xlink:actuate=\"onRequest\" xlink:href=\"psysml:8801a447-7348-4a45-a550-3876c92a8627\" xlink:show=\"new\" xlink:title=\"psysml:8801a447-7348-4a45-a550-3876c92a8627\" xlink:type=\"simple\"><path d=\"M545.68,75.89 C568.54,82.29 594.99,91.49 617,104 C637.99,115.93 658.44,133.14 674.79,148.72 \" fill=\"none\" id=\"E3-&gt;E2\" style=\"stroke: #383838; stroke-width: 1.0;\"/><polygon fill=\"#FFFFFF\" points=\"689.1,162.94,670.6811,154.5291,680.5405,144.5897,689.1,162.94\" style=\"stroke: #383838; stroke-width: 1.0;\"/><ellipse cx=\"668.0428\" cy=\"149.095\" fill=\"#383838\" rx=\"2\" ry=\"2\" style=\"stroke: #383838; stroke-width: 1.0;\"/><ellipse cx=\"675.0853\" cy=\"141.9954\" fill=\"#383838\" rx=\"2\" ry=\"2\" style=\"stroke: #383838; stroke-width: 1.0;\"/></a><!--MD5=[185131fc0dcab0a4505a2ebe144e961b]\n",
       "link E4 to E2--><a href=\"psysml:b9350b5a-5d8f-4ac9-a55f-8ba2d0a1e030\" target=\"_top\" title=\"psysml:b9350b5a-5d8f-4ac9-a55f-8ba2d0a1e030\" xlink:actuate=\"onRequest\" xlink:href=\"psysml:b9350b5a-5d8f-4ac9-a55f-8ba2d0a1e030\" xlink:show=\"new\" xlink:title=\"psysml:b9350b5a-5d8f-4ac9-a55f-8ba2d0a1e030\" xlink:type=\"simple\"><path d=\"M545.71,155.03 C579.81,161.46 623.87,169.76 657.78,176.16 \" fill=\"none\" id=\"E4-&gt;E2\" style=\"stroke: #383838; stroke-width: 1.0;\"/><polygon fill=\"#FFFFFF\" points=\"677.9,179.95,657.9307,183.3006,660.53,169.544,677.9,179.95\" style=\"stroke: #383838; stroke-width: 1.0;\"/><ellipse cx=\"652.7011\" cy=\"180.2771\" fill=\"#383838\" rx=\"2\" ry=\"2\" style=\"stroke: #383838; stroke-width: 1.0;\"/><ellipse cx=\"654.5578\" cy=\"170.4509\" fill=\"#383838\" rx=\"2\" ry=\"2\" style=\"stroke: #383838; stroke-width: 1.0;\"/></a><!--MD5=[15ebcb19ae302d9b601edb458606d402]\n",
       "link E5 to E2--><a href=\"psysml:ecc21de6-0c62-41d5-be03-95573cca647a\" target=\"_top\" title=\"psysml:ecc21de6-0c62-41d5-be03-95573cca647a\" xlink:actuate=\"onRequest\" xlink:href=\"psysml:ecc21de6-0c62-41d5-be03-95573cca647a\" xlink:show=\"new\" xlink:title=\"psysml:ecc21de6-0c62-41d5-be03-95573cca647a\" xlink:type=\"simple\"><path d=\"M178.56,330.07 C269.63,372.11 476.11,449.35 617,364 C671.05,331.26 695.18,255.65 704.67,214.29 \" fill=\"none\" id=\"E5-&gt;E2\" style=\"stroke: #383838; stroke-width: 1.0; stroke-dasharray: 7.0,7.0;\"/><polygon fill=\"#383838\" points=\"705.81,209.18,699.9529,217.098,704.7253,214.0609,707.7624,218.8334,705.81,209.18\" style=\"stroke: #383838; stroke-width: 1.0;\"/><text fill=\"#000000\" font-family=\"sans-serif\" font-size=\"13\" lengthAdjust=\"spacingAndGlyphs\" textLength=\"62\" x=\"460.5\" y=\"360.0669\">«subject»</text></a><!--MD5=[9120cf2e5df3bff93db8f754bbbc09b4]\n",
       "link E5 to E6--><a href=\"psysml:fcf6c150-3866-4336-9e66-2e65ffb041aa\" target=\"_top\" title=\"psysml:fcf6c150-3866-4336-9e66-2e65ffb041aa\" xlink:actuate=\"onRequest\" xlink:href=\"psysml:fcf6c150-3866-4336-9e66-2e65ffb041aa\" xlink:show=\"new\" xlink:title=\"psysml:fcf6c150-3866-4336-9e66-2e65ffb041aa\" xlink:type=\"simple\"><path d=\"M231.27,307 C270.35,307 315.87,307 357.75,307 \" fill=\"none\" id=\"E5-&gt;E6\" style=\"stroke: #383838; stroke-width: 1.0;\"/><polygon fill=\"#383838\" points=\"365.81,307,357.81,304,357.81,310,365.81,307\" style=\"stroke: #383838; stroke-width: 1.0;\"/><text fill=\"#000000\" font-family=\"sans-serif\" font-size=\"13\" lengthAdjust=\"spacingAndGlyphs\" textLength=\"73\" x=\"262\" y=\"303.0669\">«objective»</text></a><!--MD5=[452b418e7f8a40397a49b8c0a78acc5b]\n",
       "reverse link E5 to E7--><a href=\"psysml:afcc773f-3f6f-47e3-9b17-c2b1fd7bbdc3\" target=\"_top\" title=\"psysml:afcc773f-3f6f-47e3-9b17-c2b1fd7bbdc3\" xlink:actuate=\"onRequest\" xlink:href=\"psysml:afcc773f-3f6f-47e3-9b17-c2b1fd7bbdc3\" xlink:show=\"new\" xlink:title=\"psysml:afcc773f-3f6f-47e3-9b17-c2b1fd7bbdc3\" xlink:type=\"simple\"><path d=\"M244.05,281.76 C295.06,270.22 354.63,256.74 402.43,245.93 \" fill=\"none\" id=\"E5&lt;-E7\" style=\"stroke: #383838; stroke-width: 1.0;\"/><polygon fill=\"#FFFFFF\" points=\"231.27,284.65,238.0057,287.2251,242.9733,281.998,236.2376,279.4229,231.27,284.65\" style=\"stroke: #383838; stroke-width: 1.0;\"/><text fill=\"#000000\" font-family=\"sans-serif\" font-size=\"13\" lengthAdjust=\"spacingAndGlyphs\" textLength=\"8\" x=\"386.4318\" y=\"260.3626\">1</text></a><!--MD5=[583832df87f4419a098336a29a52fa00]\n",
       "link E7 to E2--><a href=\"psysml:09d901e9-14a1-4a34-80ae-448f8674b33c\" target=\"_top\" title=\"psysml:09d901e9-14a1-4a34-80ae-448f8674b33c\" xlink:actuate=\"onRequest\" xlink:href=\"psysml:09d901e9-14a1-4a34-80ae-448f8674b33c\" xlink:show=\"new\" xlink:title=\"psysml:09d901e9-14a1-4a34-80ae-448f8674b33c\" xlink:type=\"simple\"><path d=\"M580.65,209.79 C606.98,204.95 634.97,199.8 658.16,195.53 \" fill=\"none\" id=\"E7-&gt;E2\" style=\"stroke: #383838; stroke-width: 1.0;\"/><polygon fill=\"#FFFFFF\" points=\"677.92,191.9,660.4978,202.2182,657.9678,188.4487,677.92,191.9\" style=\"stroke: #383838; stroke-width: 1.0;\"/><ellipse cx=\"654.5302\" cy=\"201.2812\" fill=\"#383838\" rx=\"2\" ry=\"2\" style=\"stroke: #383838; stroke-width: 1.0;\"/><ellipse cx=\"652.7231\" cy=\"191.4458\" fill=\"#383838\" rx=\"2\" ry=\"2\" style=\"stroke: #383838; stroke-width: 1.0;\"/></a><!--MD5=[a1b528c8863fd5a233a794931f22718e]\n",
       "@startuml\r\n",
       "left to right direction\r\n",
       "skinparam monochrome true\r\n",
       "skinparam classbackgroundcolor white\r\n",
       "skinparam shadowing false\r\n",
       "skinparam wrapWidth 300\r\n",
       "hide circle\r\n",
       "\r\n",
       "package \"TradeStudyTest\" as E1  [[psysml:0d92d0af-a8c4-487d-a88b-e96d8d162758 ]]  {\r\n",
       "comp def \"Engine\" as E2  <<(T,blue) part def>> [[psysml:90b379af-84e4-4b51-bcba-9b20024a2d1f ]] {\r\n",
       "}\r\n",
       "comp usage \"engine1: Engine\" as E3  <<(T,blue) part>> [[psysml:1fe04244-3a7b-4d3a-93e0-0fd9f61a7cea ]] {\r\n",
       "}\r\n",
       "comp usage \"engine2: Engine\" as E4  <<(T,blue) part>> [[psysml:07207da4-9c20-4091-a953-293a54d08950 ]] {\r\n",
       "}\r\n",
       "comp usage \"engineTradeStudy: TradeStudy\" as E5 << analysis>> [[psysml:c0123459-da5a-4fa7-ba13-511d4e5fcdf0 ]] {\r\n",
       "}\r\n",
       "comp usage \"tradeStudyObjective: MaximizeObjective\" as E6  <<(T,blue) requirement>> [[psysml:d3ca6a29-f1f6-48ae-8677-7ec75b0f5c21 ]] {\r\n",
       "}\r\n",
       "comp usage \"selectedAlternative: Engine\" as E7  <<(T,blue) part>> [[psysml:7894e875-c3b4-453b-9dc9-b899c04487e6 ]] {\r\n",
       "}\r\n",
       "E3 - -:|> E2 [[psysml:8801a447-7348-4a45-a550-3876c92a8627 ]] \r\n",
       "E4 - -:|> E2 [[psysml:b9350b5a-5d8f-4ac9-a55f-8ba2d0a1e030 ]] \r\n",
       "E5 ..> E2 [[psysml:ecc21de6-0c62-41d5-be03-95573cca647a ]] : <<subject>>\r\n",
       "E5 - ->> E6 [[psysml:fcf6c150-3866-4336-9e66-2e65ffb041aa ]] : <<objective>>\r\n",
       "E5 o- - \"1\"E7 [[psysml:afcc773f-3f6f-47e3-9b17-c2b1fd7bbdc3 ]] \r\n",
       "E7 - -:|> E2 [[psysml:09d901e9-14a1-4a34-80ae-448f8674b33c ]] \r\n",
       "}\r\n",
       "@enduml\r\n",
       "\n",
       "PlantUML version 1.2020.13(Sat Jun 13 12:26:38 UTC 2020)\n",
       "(EPL source distribution)\n",
       "Java Runtime: OpenJDK Runtime Environment\n",
       "JVM: OpenJDK 64-Bit Server VM\n",
       "Default Encoding: UTF-8\n",
       "Language: en\n",
       "Country: null\n",
       "--></g></svg>"
      ]
     },
     "execution_count": 21,
     "metadata": {},
     "output_type": "execute_result"
    }
   ],
   "source": [
    "%viz --style=\"LR\" --view=\"Sequence\" \"TradeStudyTest\""
   ]
  },
  {
   "cell_type": "code",
   "execution_count": 22,
   "id": "ba3f23db",
   "metadata": {
    "execution": {
     "iopub.execute_input": "2021-08-04T06:27:39.333163Z",
     "iopub.status.busy": "2021-08-04T06:27:39.332757Z",
     "iopub.status.idle": "2021-08-04T06:27:39.360341Z",
     "shell.execute_reply": "2021-08-04T06:27:39.359067Z"
    }
   },
   "outputs": [
    {
     "data": {
      "image/svg+xml": [
       "<?xml version=\"1.0\" encoding=\"UTF-8\" standalone=\"no\"?><svg xmlns=\"http://www.w3.org/2000/svg\" xmlns:xlink=\"http://www.w3.org/1999/xlink\" contentScriptType=\"application/ecmascript\" contentStyleType=\"text/css\" height=\"351px\" preserveAspectRatio=\"none\" style=\"width:1144px;height:351px;\" version=\"1.1\" viewBox=\"0 0 1144 351\" width=\"1144px\" zoomAndPan=\"magnify\"><defs/><g><!--MD5=[fbc87193dbaf4d95561dea2c320d4a47]\n",
       "cluster E1--><a href=\"psysml:0d92d0af-a8c4-487d-a88b-e96d8d162758\" target=\"_top\" title=\"psysml:0d92d0af-a8c4-487d-a88b-e96d8d162758\" xlink:actuate=\"onRequest\" xlink:href=\"psysml:0d92d0af-a8c4-487d-a88b-e96d8d162758\" xlink:show=\"new\" xlink:title=\"psysml:0d92d0af-a8c4-487d-a88b-e96d8d162758\" xlink:type=\"simple\"><polygon fill=\"#FFFFFF\" points=\"16,6,148,6,155,28.2969,1122,28.2969,1122,339,16,339,16,6\" style=\"stroke: #000000; stroke-width: 1.5;\"/><line style=\"stroke: #000000; stroke-width: 1.5;\" x1=\"16\" x2=\"155\" y1=\"28.2969\" y2=\"28.2969\"/><text fill=\"#000000\" font-family=\"sans-serif\" font-size=\"14\" font-weight=\"bold\" lengthAdjust=\"spacingAndGlyphs\" textLength=\"126\" x=\"20\" y=\"20.9951\">TradeStudyTest</text></a><!--MD5=[b4997ac47864f28c2f74865a473b2911]\n",
       "class E2--><a href=\"psysml:90b379af-84e4-4b51-bcba-9b20024a2d1f\" target=\"_top\" title=\"psysml:90b379af-84e4-4b51-bcba-9b20024a2d1f\" xlink:actuate=\"onRequest\" xlink:href=\"psysml:90b379af-84e4-4b51-bcba-9b20024a2d1f\" xlink:show=\"new\" xlink:title=\"psysml:90b379af-84e4-4b51-bcba-9b20024a2d1f\" xlink:type=\"simple\"><rect fill=\"#FFFFFF\" height=\"45.9375\" id=\"E2\" style=\"stroke: #383838; stroke-width: 1.5;\" width=\"66\" x=\"1040\" y=\"181\"/><text fill=\"#000000\" font-family=\"sans-serif\" font-size=\"12\" font-style=\"italic\" lengthAdjust=\"spacingAndGlyphs\" textLength=\"64\" x=\"1041\" y=\"197.1387\">«part def»</text><text fill=\"#000000\" font-family=\"sans-serif\" font-size=\"12\" lengthAdjust=\"spacingAndGlyphs\" textLength=\"43\" x=\"1051.5\" y=\"211.1074\">Engine</text><line style=\"stroke: #383838; stroke-width: 1.5;\" x1=\"1041\" x2=\"1105\" y1=\"218.9375\" y2=\"218.9375\"/></a><!--MD5=[09b614a08d8cba4a07c9adeb5e0fee81]\n",
       "class E3--><a href=\"psysml:1fe04244-3a7b-4d3a-93e0-0fd9f61a7cea\" target=\"_top\" title=\"psysml:1fe04244-3a7b-4d3a-93e0-0fd9f61a7cea\" xlink:actuate=\"onRequest\" xlink:href=\"psysml:1fe04244-3a7b-4d3a-93e0-0fd9f61a7cea\" xlink:show=\"new\" xlink:title=\"psysml:1fe04244-3a7b-4d3a-93e0-0fd9f61a7cea\" xlink:type=\"simple\"><rect fill=\"#FFFFFF\" height=\"45.9375\" id=\"E3\" rx=\"10\" ry=\"10\" style=\"stroke: #383838; stroke-width: 1.5;\" width=\"108\" x=\"863\" y=\"41\"/><text fill=\"#000000\" font-family=\"sans-serif\" font-size=\"12\" font-style=\"italic\" lengthAdjust=\"spacingAndGlyphs\" textLength=\"40\" x=\"897\" y=\"57.1387\">«part»</text><text fill=\"#000000\" font-family=\"sans-serif\" font-size=\"12\" lengthAdjust=\"spacingAndGlyphs\" textLength=\"102\" x=\"866\" y=\"71.1074\">engine1: Engine</text><line style=\"stroke: #383838; stroke-width: 1.5;\" x1=\"864\" x2=\"970\" y1=\"78.9375\" y2=\"78.9375\"/></a><!--MD5=[ebbe1d658d1005bcc118a6aa81145e00]\n",
       "class E4--><a href=\"psysml:07207da4-9c20-4091-a953-293a54d08950\" target=\"_top\" title=\"psysml:07207da4-9c20-4091-a953-293a54d08950\" xlink:actuate=\"onRequest\" xlink:href=\"psysml:07207da4-9c20-4091-a953-293a54d08950\" xlink:show=\"new\" xlink:title=\"psysml:07207da4-9c20-4091-a953-293a54d08950\" xlink:type=\"simple\"><rect fill=\"#FFFFFF\" height=\"45.9375\" id=\"E4\" rx=\"10\" ry=\"10\" style=\"stroke: #383838; stroke-width: 1.5;\" width=\"108\" x=\"863\" y=\"122\"/><text fill=\"#000000\" font-family=\"sans-serif\" font-size=\"12\" font-style=\"italic\" lengthAdjust=\"spacingAndGlyphs\" textLength=\"40\" x=\"897\" y=\"138.1387\">«part»</text><text fill=\"#000000\" font-family=\"sans-serif\" font-size=\"12\" lengthAdjust=\"spacingAndGlyphs\" textLength=\"102\" x=\"866\" y=\"152.1074\">engine2: Engine</text><line style=\"stroke: #383838; stroke-width: 1.5;\" x1=\"864\" x2=\"970\" y1=\"159.9375\" y2=\"159.9375\"/></a><!--MD5=[270fce915f116d4de14055a7c1d9a0f3]\n",
       "class E5--><a href=\"psysml:c0123459-da5a-4fa7-ba13-511d4e5fcdf0\" target=\"_top\" title=\"psysml:c0123459-da5a-4fa7-ba13-511d4e5fcdf0\" xlink:actuate=\"onRequest\" xlink:href=\"psysml:c0123459-da5a-4fa7-ba13-511d4e5fcdf0\" xlink:show=\"new\" xlink:title=\"psysml:c0123459-da5a-4fa7-ba13-511d4e5fcdf0\" xlink:type=\"simple\"><rect fill=\"#FFFFFF\" height=\"45.9375\" id=\"E5\" rx=\"10\" ry=\"10\" style=\"stroke: #383838; stroke-width: 1.5;\" width=\"199\" x=\"32\" y=\"173\"/><text fill=\"#000000\" font-family=\"sans-serif\" font-size=\"12\" font-style=\"italic\" lengthAdjust=\"spacingAndGlyphs\" textLength=\"64\" x=\"99.5\" y=\"189.1387\">«analysis»</text><text fill=\"#000000\" font-family=\"sans-serif\" font-size=\"12\" lengthAdjust=\"spacingAndGlyphs\" textLength=\"193\" x=\"35\" y=\"203.1074\">engineTradeStudy: TradeStudy</text><line style=\"stroke: #383838; stroke-width: 1.5;\" x1=\"33\" x2=\"230\" y1=\"210.9375\" y2=\"210.9375\"/></a><!--MD5=[60a26617385b1d2d0262a64233df1f8d]\n",
       "class E6--><a href=\"psysml:d3ca6a29-f1f6-48ae-8677-7ec75b0f5c21\" target=\"_top\" title=\"psysml:d3ca6a29-f1f6-48ae-8677-7ec75b0f5c21\" xlink:actuate=\"onRequest\" xlink:href=\"psysml:d3ca6a29-f1f6-48ae-8677-7ec75b0f5c21\" xlink:show=\"new\" xlink:title=\"psysml:d3ca6a29-f1f6-48ae-8677-7ec75b0f5c21\" xlink:type=\"simple\"><rect fill=\"#FFFFFF\" height=\"45.9375\" id=\"E6\" rx=\"10\" ry=\"10\" style=\"stroke: #383838; stroke-width: 1.5;\" width=\"251\" x=\"366\" y=\"206\"/><text fill=\"#000000\" font-family=\"sans-serif\" font-size=\"12\" font-style=\"italic\" lengthAdjust=\"spacingAndGlyphs\" textLength=\"91\" x=\"446\" y=\"222.1387\">«requirement»</text><text fill=\"#000000\" font-family=\"sans-serif\" font-size=\"12\" lengthAdjust=\"spacingAndGlyphs\" textLength=\"245\" x=\"369\" y=\"236.1074\">tradeStudyObjective: MaximizeObjective</text><line style=\"stroke: #383838; stroke-width: 1.5;\" x1=\"367\" x2=\"616\" y1=\"243.9375\" y2=\"243.9375\"/></a><!--MD5=[2156ba9850f5573cc1fc38a6a4b2f02b]\n",
       "class E7--><a href=\"psysml:f099413c-f817-477f-a757-2c07f6450928\" target=\"_top\" title=\"psysml:f099413c-f817-477f-a757-2c07f6450928\" xlink:actuate=\"onRequest\" xlink:href=\"psysml:f099413c-f817-477f-a757-2c07f6450928\" xlink:show=\"new\" xlink:title=\"psysml:f099413c-f817-477f-a757-2c07f6450928\" xlink:type=\"simple\"><rect fill=\"#FFFFFF\" height=\"45.9375\" id=\"E7\" rx=\"10\" ry=\"10\" style=\"stroke: #383838; stroke-width: 1.5;\" width=\"116\" x=\"433.5\" y=\"125\"/><text fill=\"#000000\" font-family=\"sans-serif\" font-size=\"12\" font-style=\"italic\" lengthAdjust=\"spacingAndGlyphs\" textLength=\"82\" x=\"450.5\" y=\"141.1387\">«calculation»</text><text fill=\"#000000\" font-family=\"sans-serif\" font-size=\"12\" lengthAdjust=\"spacingAndGlyphs\" textLength=\"110\" x=\"436.5\" y=\"155.1074\">objectiveFunction</text><line style=\"stroke: #383838; stroke-width: 1.5;\" x1=\"434.5\" x2=\"548.5\" y1=\"162.9375\" y2=\"162.9375\"/></a><!--MD5=[b9389687b975829384b498ac4b7476b2]\n",
       "class E8--><a href=\"psysml:26f566d1-080d-4e4d-ba32-38c38fdc0bde\" target=\"_top\" title=\"psysml:26f566d1-080d-4e4d-ba32-38c38fdc0bde\" xlink:actuate=\"onRequest\" xlink:href=\"psysml:26f566d1-080d-4e4d-ba32-38c38fdc0bde\" xlink:show=\"new\" xlink:title=\"psysml:26f566d1-080d-4e4d-ba32-38c38fdc0bde\" xlink:type=\"simple\"><rect fill=\"#FFFFFF\" height=\"45.9375\" id=\"E8\" rx=\"10\" ry=\"10\" style=\"stroke: #383838; stroke-width: 1.5;\" width=\"124\" x=\"855\" y=\"240\"/><text fill=\"#000000\" font-family=\"sans-serif\" font-size=\"12\" font-style=\"italic\" lengthAdjust=\"spacingAndGlyphs\" textLength=\"40\" x=\"897\" y=\"256.1387\">«part»</text><text fill=\"#000000\" font-family=\"sans-serif\" font-size=\"12\" lengthAdjust=\"spacingAndGlyphs\" textLength=\"118\" x=\"858\" y=\"270.1074\">alternative: Engine</text><line style=\"stroke: #383838; stroke-width: 1.5;\" x1=\"856\" x2=\"978\" y1=\"277.9375\" y2=\"277.9375\"/></a><!--MD5=[fd4143e9d270a159db93a4ea2a975926]\n",
       "class E9--><a href=\"psysml:7894e875-c3b4-453b-9dc9-b899c04487e6\" target=\"_top\" title=\"psysml:7894e875-c3b4-453b-9dc9-b899c04487e6\" xlink:actuate=\"onRequest\" xlink:href=\"psysml:7894e875-c3b4-453b-9dc9-b899c04487e6\" xlink:show=\"new\" xlink:title=\"psysml:7894e875-c3b4-453b-9dc9-b899c04487e6\" xlink:type=\"simple\"><rect fill=\"#FFFFFF\" height=\"45.9375\" id=\"E9\" rx=\"10\" ry=\"10\" style=\"stroke: #383838; stroke-width: 1.5;\" width=\"178\" x=\"647\" y=\"124\"/><text fill=\"#000000\" font-family=\"sans-serif\" font-size=\"12\" font-style=\"italic\" lengthAdjust=\"spacingAndGlyphs\" textLength=\"40\" x=\"716\" y=\"140.1387\">«part»</text><text fill=\"#000000\" font-family=\"sans-serif\" font-size=\"12\" lengthAdjust=\"spacingAndGlyphs\" textLength=\"172\" x=\"650\" y=\"154.1074\">selectedAlternative: Engine</text><line style=\"stroke: #383838; stroke-width: 1.5;\" x1=\"648\" x2=\"824\" y1=\"161.9375\" y2=\"161.9375\"/></a><!--MD5=[05d275557350bfb9b23a4ef7222b4c39]\n",
       "link E3 to E2--><a href=\"psysml:8801a447-7348-4a45-a550-3876c92a8627\" target=\"_top\" title=\"psysml:8801a447-7348-4a45-a550-3876c92a8627\" xlink:actuate=\"onRequest\" xlink:href=\"psysml:8801a447-7348-4a45-a550-3876c92a8627\" xlink:show=\"new\" xlink:title=\"psysml:8801a447-7348-4a45-a550-3876c92a8627\" xlink:type=\"simple\"><path d=\"M956.44,87.17 C964.16,92.38 972.03,98.12 979,104 C1000.94,122.52 1022.93,145.89 1040.02,165.38 \" fill=\"none\" id=\"E3-&gt;E2\" style=\"stroke: #383838; stroke-width: 1.0;\"/><polygon fill=\"#FFFFFF\" points=\"1053.11,180.65,1035.4256,170.7879,1046.0509,161.6719,1053.11,180.65\" style=\"stroke: #383838; stroke-width: 1.0;\"/><ellipse cx=\"1033.232\" cy=\"165.1596\" fill=\"#383838\" rx=\"2\" ry=\"2\" style=\"stroke: #383838; stroke-width: 1.0;\"/><ellipse cx=\"1040.8215\" cy=\"158.6481\" fill=\"#383838\" rx=\"2\" ry=\"2\" style=\"stroke: #383838; stroke-width: 1.0;\"/></a><!--MD5=[185131fc0dcab0a4505a2ebe144e961b]\n",
       "link E4 to E2--><a href=\"psysml:b9350b5a-5d8f-4ac9-a55f-8ba2d0a1e030\" target=\"_top\" title=\"psysml:b9350b5a-5d8f-4ac9-a55f-8ba2d0a1e030\" xlink:actuate=\"onRequest\" xlink:href=\"psysml:b9350b5a-5d8f-4ac9-a55f-8ba2d0a1e030\" xlink:show=\"new\" xlink:title=\"psysml:b9350b5a-5d8f-4ac9-a55f-8ba2d0a1e030\" xlink:type=\"simple\"><path d=\"M971.43,165.47 C987.52,171.64 1005.13,178.38 1021.06,184.48 \" fill=\"none\" id=\"E4-&gt;E2\" style=\"stroke: #383838; stroke-width: 1.0;\"/><polygon fill=\"#FFFFFF\" points=\"1039.76,191.65,1019.5133,191.3857,1024.5242,178.3132,1039.76,191.65\" style=\"stroke: #383838; stroke-width: 1.0;\"/><ellipse cx=\"1014.9067\" cy=\"187.478\" fill=\"#383838\" rx=\"2\" ry=\"2\" style=\"stroke: #383838; stroke-width: 1.0;\"/><ellipse cx=\"1018.486\" cy=\"178.1405\" fill=\"#383838\" rx=\"2\" ry=\"2\" style=\"stroke: #383838; stroke-width: 1.0;\"/></a><!--MD5=[15ebcb19ae302d9b601edb458606d402]\n",
       "link E5 to E2--><a href=\"psysml:ecc21de6-0c62-41d5-be03-95573cca647a\" target=\"_top\" title=\"psysml:ecc21de6-0c62-41d5-be03-95573cca647a\" xlink:actuate=\"onRequest\" xlink:href=\"psysml:ecc21de6-0c62-41d5-be03-95573cca647a\" xlink:show=\"new\" xlink:title=\"psysml:ecc21de6-0c62-41d5-be03-95573cca647a\" xlink:type=\"simple\"><path d=\"M192.97,219.15 C239.54,235.94 305.91,257.62 366,269 C580.08,309.56 637.25,296.22 855,304 C910.08,305.97 928.47,326.01 979,304 C1012.76,289.29 1039.79,255.62 1055.83,231.41 \" fill=\"none\" id=\"E5-&gt;E2\" style=\"stroke: #383838; stroke-width: 1.0; stroke-dasharray: 7.0,7.0;\"/><polygon fill=\"#383838\" points=\"1058.7,227,1050.4426,232.368,1055.9761,231.1929,1057.1512,236.7263,1058.7,227\" style=\"stroke: #383838; stroke-width: 1.0;\"/><text fill=\"#000000\" font-family=\"sans-serif\" font-size=\"13\" lengthAdjust=\"spacingAndGlyphs\" textLength=\"62\" x=\"705\" y=\"296.0669\">«subject»</text></a><!--MD5=[9120cf2e5df3bff93db8f754bbbc09b4]\n",
       "link E5 to E6--><a href=\"psysml:fcf6c150-3866-4336-9e66-2e65ffb041aa\" target=\"_top\" title=\"psysml:fcf6c150-3866-4336-9e66-2e65ffb041aa\" xlink:actuate=\"onRequest\" xlink:href=\"psysml:fcf6c150-3866-4336-9e66-2e65ffb041aa\" xlink:show=\"new\" xlink:title=\"psysml:fcf6c150-3866-4336-9e66-2e65ffb041aa\" xlink:type=\"simple\"><path d=\"M231.27,205.1 C270.35,208.71 315.87,212.9 357.75,216.76 \" fill=\"none\" id=\"E5-&gt;E6\" style=\"stroke: #383838; stroke-width: 1.0;\"/><polygon fill=\"#383838\" points=\"365.81,217.51,358.1229,213.7806,357.5661,219.7548,365.81,217.51\" style=\"stroke: #383838; stroke-width: 1.0;\"/><text fill=\"#000000\" font-family=\"sans-serif\" font-size=\"13\" lengthAdjust=\"spacingAndGlyphs\" textLength=\"73\" x=\"262\" y=\"205.0669\">«objective»</text></a><!--MD5=[452b418e7f8a40397a49b8c0a78acc5b]\n",
       "reverse link E5 to E7--><a href=\"psysml:a988c065-f70c-4bb4-ab6a-fca08357bc4a\" target=\"_top\" title=\"psysml:a988c065-f70c-4bb4-ab6a-fca08357bc4a\" xlink:actuate=\"onRequest\" xlink:href=\"psysml:a988c065-f70c-4bb4-ab6a-fca08357bc4a\" xlink:show=\"new\" xlink:title=\"psysml:a988c065-f70c-4bb4-ab6a-fca08357bc4a\" xlink:type=\"simple\"><path d=\"M244.44,180.99 C307.13,172.59 382.64,162.46 433.34,155.66 \" fill=\"none\" id=\"E5&lt;-E7\" style=\"stroke: #383838; stroke-width: 1.0;\"/><polygon fill=\"#383838\" points=\"231.27,182.76,237.7486,185.9268,243.1635,181.1645,236.6849,177.9978,231.27,182.76\" style=\"stroke: #383838; stroke-width: 1.0;\"/></a><!--MD5=[dc164f5e8a733ab456ef1add180e9e34]\n",
       "reverse link E7 to E8--><a href=\"psysml:4295af6e-acd7-489b-9191-c25409e1351b\" target=\"_top\" title=\"psysml:4295af6e-acd7-489b-9191-c25409e1351b\" xlink:actuate=\"onRequest\" xlink:href=\"psysml:4295af6e-acd7-489b-9191-c25409e1351b\" xlink:show=\"new\" xlink:title=\"psysml:4295af6e-acd7-489b-9191-c25409e1351b\" xlink:type=\"simple\"><path d=\"M562.22,166.93 C643.63,189.04 777.02,225.26 854.65,246.34 \" fill=\"none\" id=\"E7&lt;-E8\" style=\"stroke: #383838; stroke-width: 1.0;\"/><polygon fill=\"#FFFFFF\" points=\"549.62,163.51,554.3645,168.9404,561.202,166.6495,556.4575,161.2191,549.62,163.51\" style=\"stroke: #383838; stroke-width: 1.0;\"/><text fill=\"#000000\" font-family=\"sans-serif\" font-size=\"13\" lengthAdjust=\"spacingAndGlyphs\" textLength=\"8\" x=\"838.9783\" y=\"257.3591\">1</text></a><!--MD5=[f1f3f9f2fc535e6147756cb86a7f2e32]\n",
       "link E8 to E2--><a href=\"psysml:aed7fba6-fc0e-4a29-a473-c7d943b57344\" target=\"_top\" title=\"psysml:aed7fba6-fc0e-4a29-a473-c7d943b57344\" xlink:actuate=\"onRequest\" xlink:href=\"psysml:aed7fba6-fc0e-4a29-a473-c7d943b57344\" xlink:show=\"new\" xlink:title=\"psysml:aed7fba6-fc0e-4a29-a473-c7d943b57344\" xlink:type=\"simple\"><path d=\"M978.42,239.85 C992.46,234.47 1007.28,228.8 1020.87,223.59 \" fill=\"none\" id=\"E8-&gt;E2\" style=\"stroke: #383838; stroke-width: 1.0;\"/><polygon fill=\"#FFFFFF\" points=\"1039.69,216.38,1024.4542,229.7168,1019.4433,216.6443,1039.69,216.38\" style=\"stroke: #383838; stroke-width: 1.0;\"/><ellipse cx=\"1018.416\" cy=\"229.8895\" fill=\"#383838\" rx=\"2\" ry=\"2\" style=\"stroke: #383838; stroke-width: 1.0;\"/><ellipse cx=\"1014.8367\" cy=\"220.552\" fill=\"#383838\" rx=\"2\" ry=\"2\" style=\"stroke: #383838; stroke-width: 1.0;\"/></a><!--MD5=[9ae28de373ca99bb8a1b38d63370ca7e]\n",
       "reverse link E5 to E9--><a href=\"psysml:afcc773f-3f6f-47e3-9b17-c2b1fd7bbdc3\" target=\"_top\" title=\"psysml:afcc773f-3f6f-47e3-9b17-c2b1fd7bbdc3\" xlink:actuate=\"onRequest\" xlink:href=\"psysml:afcc773f-3f6f-47e3-9b17-c2b1fd7bbdc3\" xlink:show=\"new\" xlink:title=\"psysml:afcc773f-3f6f-47e3-9b17-c2b1fd7bbdc3\" xlink:type=\"simple\"><path d=\"M189.89,167.36 C236.14,145.96 303.53,118.5 366,107 C475.71,86.8 506.93,88.85 617,107 C637.81,110.43 659.88,117.05 679.24,123.93 \" fill=\"none\" id=\"E5&lt;-E9\" style=\"stroke: #383838; stroke-width: 1.0;\"/><polygon fill=\"#FFFFFF\" points=\"178.01,172.94,185.1402,174.017,188.8768,167.8495,181.7466,166.7725,178.01,172.94\" style=\"stroke: #383838; stroke-width: 1.0;\"/><text fill=\"#000000\" font-family=\"sans-serif\" font-size=\"13\" lengthAdjust=\"spacingAndGlyphs\" textLength=\"8\" x=\"654.9108\" y=\"112.8075\">1</text></a><!--MD5=[5c3bb36fe832a92c7f0e1807dd65209d]\n",
       "link E9 to E2--><a href=\"psysml:09d901e9-14a1-4a34-80ae-448f8674b33c\" target=\"_top\" title=\"psysml:09d901e9-14a1-4a34-80ae-448f8674b33c\" xlink:actuate=\"onRequest\" xlink:href=\"psysml:09d901e9-14a1-4a34-80ae-448f8674b33c\" xlink:show=\"new\" xlink:title=\"psysml:09d901e9-14a1-4a34-80ae-448f8674b33c\" xlink:type=\"simple\"><path d=\"M799.69,170.07 C817.36,175.78 836.75,181.31 855,185 C910.46,196.21 975.22,200.81 1019.46,202.69 \" fill=\"none\" id=\"E9-&gt;E2\" style=\"stroke: #383838; stroke-width: 1.0;\"/><polygon fill=\"#FFFFFF\" points=\"1039.69,203.42,1020.4478,209.7237,1020.9574,195.733,1039.69,203.42\" style=\"stroke: #383838; stroke-width: 1.0;\"/><ellipse cx=\"1014.8244\" cy=\"207.5175\" fill=\"#383838\" rx=\"2\" ry=\"2\" style=\"stroke: #383838; stroke-width: 1.0;\"/><ellipse cx=\"1015.1884\" cy=\"197.5241\" fill=\"#383838\" rx=\"2\" ry=\"2\" style=\"stroke: #383838; stroke-width: 1.0;\"/></a><!--MD5=[7a1795146be1053e4ddf80f76246a649]\n",
       "@startuml\r\n",
       "left to right direction\r\n",
       "skinparam monochrome true\r\n",
       "skinparam classbackgroundcolor white\r\n",
       "skinparam shadowing false\r\n",
       "skinparam wrapWidth 300\r\n",
       "hide circle\r\n",
       "\r\n",
       "package \"TradeStudyTest\" as E1  [[psysml:0d92d0af-a8c4-487d-a88b-e96d8d162758 ]]  {\r\n",
       "comp def \"Engine\" as E2  <<(T,blue) part def>> [[psysml:90b379af-84e4-4b51-bcba-9b20024a2d1f ]] {\r\n",
       "}\r\n",
       "comp usage \"engine1: Engine\" as E3  <<(T,blue) part>> [[psysml:1fe04244-3a7b-4d3a-93e0-0fd9f61a7cea ]] {\r\n",
       "}\r\n",
       "comp usage \"engine2: Engine\" as E4  <<(T,blue) part>> [[psysml:07207da4-9c20-4091-a953-293a54d08950 ]] {\r\n",
       "}\r\n",
       "comp usage \"engineTradeStudy: TradeStudy\" as E5 << analysis>> [[psysml:c0123459-da5a-4fa7-ba13-511d4e5fcdf0 ]] {\r\n",
       "}\r\n",
       "comp usage \"tradeStudyObjective: MaximizeObjective\" as E6  <<(T,blue) requirement>> [[psysml:d3ca6a29-f1f6-48ae-8677-7ec75b0f5c21 ]] {\r\n",
       "}\r\n",
       "comp usage \"objectiveFunction\" as E7  <<(T,blue) calculation>> [[psysml:f099413c-f817-477f-a757-2c07f6450928 ]] {\r\n",
       "}\r\n",
       "comp usage \"alternative: Engine\" as E8  <<(T,blue) part>> [[psysml:26f566d1-080d-4e4d-ba32-38c38fdc0bde ]] {\r\n",
       "}\r\n",
       "comp usage \"selectedAlternative: Engine\" as E9  <<(T,blue) part>> [[psysml:7894e875-c3b4-453b-9dc9-b899c04487e6 ]] {\r\n",
       "}\r\n",
       "E3 - -:|> E2 [[psysml:8801a447-7348-4a45-a550-3876c92a8627 ]] \r\n",
       "E4 - -:|> E2 [[psysml:b9350b5a-5d8f-4ac9-a55f-8ba2d0a1e030 ]] \r\n",
       "E5 ..> E2 [[psysml:ecc21de6-0c62-41d5-be03-95573cca647a ]] : <<subject>>\r\n",
       "E5 - ->> E6 [[psysml:fcf6c150-3866-4336-9e66-2e65ffb041aa ]] : <<objective>>\r\n",
       "E5 *- - E7 [[psysml:a988c065-f70c-4bb4-ab6a-fca08357bc4a ]] \r\n",
       "E7 o- - \"1\"E8 [[psysml:4295af6e-acd7-489b-9191-c25409e1351b ]] \r\n",
       "E8 - -:|> E2 [[psysml:aed7fba6-fc0e-4a29-a473-c7d943b57344 ]] \r\n",
       "E5 o- - \"1\"E9 [[psysml:afcc773f-3f6f-47e3-9b17-c2b1fd7bbdc3 ]] \r\n",
       "E9 - -:|> E2 [[psysml:09d901e9-14a1-4a34-80ae-448f8674b33c ]] \r\n",
       "}\r\n",
       "@enduml\r\n",
       "\n",
       "PlantUML version 1.2020.13(Sat Jun 13 12:26:38 UTC 2020)\n",
       "(EPL source distribution)\n",
       "Java Runtime: OpenJDK Runtime Environment\n",
       "JVM: OpenJDK 64-Bit Server VM\n",
       "Default Encoding: UTF-8\n",
       "Language: en\n",
       "Country: null\n",
       "--></g></svg>"
      ]
     },
     "execution_count": 22,
     "metadata": {},
     "output_type": "execute_result"
    }
   ],
   "source": [
    "%viz --style=\"LR\" --view=\"MIXED\" \"TradeStudyTest\""
   ]
  },
  {
   "cell_type": "code",
   "execution_count": 23,
   "id": "df221108",
   "metadata": {
    "execution": {
     "iopub.execute_input": "2021-08-04T06:27:39.410062Z",
     "iopub.status.busy": "2021-08-04T06:27:39.409665Z",
     "iopub.status.idle": "2021-08-04T06:27:39.434600Z",
     "shell.execute_reply": "2021-08-04T06:27:39.433261Z"
    }
   },
   "outputs": [
    {
     "data": {
      "image/svg+xml": [
       "<?xml version=\"1.0\" encoding=\"UTF-8\" standalone=\"no\"?><svg xmlns=\"http://www.w3.org/2000/svg\" xmlns:xlink=\"http://www.w3.org/1999/xlink\" contentScriptType=\"application/ecmascript\" contentStyleType=\"text/css\" height=\"497px\" preserveAspectRatio=\"none\" style=\"width:556px;height:497px;\" version=\"1.1\" viewBox=\"0 0 556 497\" width=\"556px\" zoomAndPan=\"magnify\"><defs><filter height=\"300%\" id=\"f1qdq759jq4g8i\" width=\"300%\" x=\"-1\" y=\"-1\"><feGaussianBlur result=\"blurOut\" stdDeviation=\"2.0\"/><feColorMatrix in=\"blurOut\" result=\"blurOut2\" type=\"matrix\" values=\"0 0 0 0 0 0 0 0 0 0 0 0 0 0 0 0 0 0 .4 0\"/><feOffset dx=\"4.0\" dy=\"4.0\" in=\"blurOut2\" result=\"blurOut3\"/><feBlend in=\"SourceGraphic\" in2=\"blurOut3\" mode=\"normal\"/></filter></defs><g><!--MD5=[fbc87193dbaf4d95561dea2c320d4a47]\n",
       "cluster E1--><a href=\"psysml:0d92d0af-a8c4-487d-a88b-e96d8d162758\" target=\"_top\" title=\"psysml:0d92d0af-a8c4-487d-a88b-e96d8d162758\" xlink:actuate=\"onRequest\" xlink:href=\"psysml:0d92d0af-a8c4-487d-a88b-e96d8d162758\" xlink:show=\"new\" xlink:title=\"psysml:0d92d0af-a8c4-487d-a88b-e96d8d162758\" xlink:type=\"simple\"><polygon fill=\"#FFFFFF\" filter=\"url(#f1qdq759jq4g8i)\" points=\"18.32,6,150.32,6,157.32,28.2969,534.32,28.2969,534.32,485,18.32,485,18.32,6\" style=\"stroke: #000000; stroke-width: 1.5;\"/><line style=\"stroke: #000000; stroke-width: 1.5;\" x1=\"18.32\" x2=\"157.32\" y1=\"28.2969\" y2=\"28.2969\"/><text fill=\"#000000\" font-family=\"sans-serif\" font-size=\"14\" font-weight=\"bold\" lengthAdjust=\"spacingAndGlyphs\" textLength=\"126\" x=\"22.32\" y=\"20.9951\">TradeStudyTest</text></a><!--MD5=[b4997ac47864f28c2f74865a473b2911]\n",
       "class E2--><a href=\"psysml:90b379af-84e4-4b51-bcba-9b20024a2d1f\" target=\"_top\" title=\"psysml:90b379af-84e4-4b51-bcba-9b20024a2d1f\" xlink:actuate=\"onRequest\" xlink:href=\"psysml:90b379af-84e4-4b51-bcba-9b20024a2d1f\" xlink:show=\"new\" xlink:title=\"psysml:90b379af-84e4-4b51-bcba-9b20024a2d1f\" xlink:type=\"simple\"><rect fill=\"#FEFECE\" filter=\"url(#f1qdq759jq4g8i)\" height=\"45.9375\" id=\"E2\" style=\"stroke: #A80036; stroke-width: 1.5;\" width=\"66\" x=\"198.32\" y=\"423\"/><text fill=\"#000000\" font-family=\"sans-serif\" font-size=\"12\" font-style=\"italic\" lengthAdjust=\"spacingAndGlyphs\" textLength=\"64\" x=\"199.32\" y=\"439.1387\">«part def»</text><text fill=\"#000000\" font-family=\"sans-serif\" font-size=\"12\" lengthAdjust=\"spacingAndGlyphs\" textLength=\"43\" x=\"209.82\" y=\"453.1074\">Engine</text><line style=\"stroke: #A80036; stroke-width: 1.5;\" x1=\"199.32\" x2=\"263.32\" y1=\"460.9375\" y2=\"460.9375\"/></a><!--MD5=[09b614a08d8cba4a07c9adeb5e0fee81]\n",
       "class E3--><a href=\"psysml:1fe04244-3a7b-4d3a-93e0-0fd9f61a7cea\" target=\"_top\" title=\"psysml:1fe04244-3a7b-4d3a-93e0-0fd9f61a7cea\" xlink:actuate=\"onRequest\" xlink:href=\"psysml:1fe04244-3a7b-4d3a-93e0-0fd9f61a7cea\" xlink:show=\"new\" xlink:title=\"psysml:1fe04244-3a7b-4d3a-93e0-0fd9f61a7cea\" xlink:type=\"simple\"><rect fill=\"#FEFECE\" filter=\"url(#f1qdq759jq4g8i)\" height=\"45.9375\" id=\"E3\" rx=\"10\" ry=\"10\" style=\"stroke: #A80036; stroke-width: 1.5;\" width=\"108\" x=\"410.32\" y=\"316\"/><text fill=\"#000000\" font-family=\"sans-serif\" font-size=\"12\" font-style=\"italic\" lengthAdjust=\"spacingAndGlyphs\" textLength=\"40\" x=\"444.32\" y=\"332.1387\">«part»</text><text fill=\"#000000\" font-family=\"sans-serif\" font-size=\"12\" lengthAdjust=\"spacingAndGlyphs\" textLength=\"102\" x=\"413.32\" y=\"346.1074\">engine1: Engine</text><line style=\"stroke: #A80036; stroke-width: 1.5;\" x1=\"411.32\" x2=\"517.32\" y1=\"353.9375\" y2=\"353.9375\"/></a><!--MD5=[ebbe1d658d1005bcc118a6aa81145e00]\n",
       "class E4--><a href=\"psysml:07207da4-9c20-4091-a953-293a54d08950\" target=\"_top\" title=\"psysml:07207da4-9c20-4091-a953-293a54d08950\" xlink:actuate=\"onRequest\" xlink:href=\"psysml:07207da4-9c20-4091-a953-293a54d08950\" xlink:show=\"new\" xlink:title=\"psysml:07207da4-9c20-4091-a953-293a54d08950\" xlink:type=\"simple\"><rect fill=\"#FEFECE\" filter=\"url(#f1qdq759jq4g8i)\" height=\"45.9375\" id=\"E4\" rx=\"10\" ry=\"10\" style=\"stroke: #A80036; stroke-width: 1.5;\" width=\"108\" x=\"267.32\" y=\"316\"/><text fill=\"#000000\" font-family=\"sans-serif\" font-size=\"12\" font-style=\"italic\" lengthAdjust=\"spacingAndGlyphs\" textLength=\"40\" x=\"301.32\" y=\"332.1387\">«part»</text><text fill=\"#000000\" font-family=\"sans-serif\" font-size=\"12\" lengthAdjust=\"spacingAndGlyphs\" textLength=\"102\" x=\"270.32\" y=\"346.1074\">engine2: Engine</text><line style=\"stroke: #A80036; stroke-width: 1.5;\" x1=\"268.32\" x2=\"374.32\" y1=\"353.9375\" y2=\"353.9375\"/></a><!--MD5=[270fce915f116d4de14055a7c1d9a0f3]\n",
       "class E5--><a href=\"psysml:c0123459-da5a-4fa7-ba13-511d4e5fcdf0\" target=\"_top\" title=\"psysml:c0123459-da5a-4fa7-ba13-511d4e5fcdf0\" xlink:actuate=\"onRequest\" xlink:href=\"psysml:c0123459-da5a-4fa7-ba13-511d4e5fcdf0\" xlink:show=\"new\" xlink:title=\"psysml:c0123459-da5a-4fa7-ba13-511d4e5fcdf0\" xlink:type=\"simple\"><rect fill=\"#FEFECE\" filter=\"url(#f1qdq759jq4g8i)\" height=\"45.9375\" id=\"E5\" rx=\"10\" ry=\"10\" style=\"stroke: #A80036; stroke-width: 1.5;\" width=\"199\" x=\"239.82\" y=\"41\"/><text fill=\"#000000\" font-family=\"sans-serif\" font-size=\"12\" font-style=\"italic\" lengthAdjust=\"spacingAndGlyphs\" textLength=\"64\" x=\"307.32\" y=\"57.1387\">«analysis»</text><text fill=\"#000000\" font-family=\"sans-serif\" font-size=\"12\" lengthAdjust=\"spacingAndGlyphs\" textLength=\"193\" x=\"242.82\" y=\"71.1074\">engineTradeStudy: TradeStudy</text><line style=\"stroke: #A80036; stroke-width: 1.5;\" x1=\"240.82\" x2=\"437.82\" y1=\"78.9375\" y2=\"78.9375\"/></a><!--MD5=[60a26617385b1d2d0262a64233df1f8d]\n",
       "class E6--><a href=\"psysml:d3ca6a29-f1f6-48ae-8677-7ec75b0f5c21\" target=\"_top\" title=\"psysml:d3ca6a29-f1f6-48ae-8677-7ec75b0f5c21\" xlink:actuate=\"onRequest\" xlink:href=\"psysml:d3ca6a29-f1f6-48ae-8677-7ec75b0f5c21\" xlink:show=\"new\" xlink:title=\"psysml:d3ca6a29-f1f6-48ae-8677-7ec75b0f5c21\" xlink:type=\"simple\"><rect fill=\"#FEFECE\" filter=\"url(#f1qdq759jq4g8i)\" height=\"45.9375\" id=\"E6\" rx=\"10\" ry=\"10\" style=\"stroke: #A80036; stroke-width: 1.5;\" width=\"251\" x=\"78.82\" y=\"164\"/><text fill=\"#000000\" font-family=\"sans-serif\" font-size=\"12\" font-style=\"italic\" lengthAdjust=\"spacingAndGlyphs\" textLength=\"91\" x=\"158.82\" y=\"180.1387\">«requirement»</text><text fill=\"#000000\" font-family=\"sans-serif\" font-size=\"12\" lengthAdjust=\"spacingAndGlyphs\" textLength=\"245\" x=\"81.82\" y=\"194.1074\">tradeStudyObjective: MaximizeObjective</text><line style=\"stroke: #A80036; stroke-width: 1.5;\" x1=\"79.82\" x2=\"328.82\" y1=\"201.9375\" y2=\"201.9375\"/></a><!--MD5=[2156ba9850f5573cc1fc38a6a4b2f02b]\n",
       "class E7--><a href=\"psysml:f099413c-f817-477f-a757-2c07f6450928\" target=\"_top\" title=\"psysml:f099413c-f817-477f-a757-2c07f6450928\" xlink:actuate=\"onRequest\" xlink:href=\"psysml:f099413c-f817-477f-a757-2c07f6450928\" xlink:show=\"new\" xlink:title=\"psysml:f099413c-f817-477f-a757-2c07f6450928\" xlink:type=\"simple\"><rect fill=\"#FEFECE\" filter=\"url(#f1qdq759jq4g8i)\" height=\"45.9375\" id=\"E7\" rx=\"10\" ry=\"10\" style=\"stroke: #A80036; stroke-width: 1.5;\" width=\"116\" x=\"365.32\" y=\"164\"/><text fill=\"#000000\" font-family=\"sans-serif\" font-size=\"12\" font-style=\"italic\" lengthAdjust=\"spacingAndGlyphs\" textLength=\"82\" x=\"382.32\" y=\"180.1387\">«calculation»</text><text fill=\"#000000\" font-family=\"sans-serif\" font-size=\"12\" lengthAdjust=\"spacingAndGlyphs\" textLength=\"110\" x=\"368.32\" y=\"194.1074\">objectiveFunction</text><line style=\"stroke: #A80036; stroke-width: 1.5;\" x1=\"366.32\" x2=\"480.32\" y1=\"201.9375\" y2=\"201.9375\"/></a><!--MD5=[b9389687b975829384b498ac4b7476b2]\n",
       "class E8--><a href=\"psysml:26f566d1-080d-4e4d-ba32-38c38fdc0bde\" target=\"_top\" title=\"psysml:26f566d1-080d-4e4d-ba32-38c38fdc0bde\" xlink:actuate=\"onRequest\" xlink:href=\"psysml:26f566d1-080d-4e4d-ba32-38c38fdc0bde\" xlink:show=\"new\" xlink:title=\"psysml:26f566d1-080d-4e4d-ba32-38c38fdc0bde\" xlink:type=\"simple\"><rect fill=\"#FEFECE\" filter=\"url(#f1qdq759jq4g8i)\" height=\"45.9375\" id=\"E8\" rx=\"10\" ry=\"10\" style=\"stroke: #A80036; stroke-width: 1.5;\" width=\"124\" x=\"71.32\" y=\"316\"/><text fill=\"#000000\" font-family=\"sans-serif\" font-size=\"12\" font-style=\"italic\" lengthAdjust=\"spacingAndGlyphs\" textLength=\"40\" x=\"113.32\" y=\"332.1387\">«part»</text><text fill=\"#000000\" font-family=\"sans-serif\" font-size=\"12\" lengthAdjust=\"spacingAndGlyphs\" textLength=\"118\" x=\"74.32\" y=\"346.1074\">alternative: Engine</text><line style=\"stroke: #A80036; stroke-width: 1.5;\" x1=\"72.32\" x2=\"194.32\" y1=\"353.9375\" y2=\"353.9375\"/></a><!--MD5=[fd4143e9d270a159db93a4ea2a975926]\n",
       "class E9--><a href=\"psysml:7894e875-c3b4-453b-9dc9-b899c04487e6\" target=\"_top\" title=\"psysml:7894e875-c3b4-453b-9dc9-b899c04487e6\" xlink:actuate=\"onRequest\" xlink:href=\"psysml:7894e875-c3b4-453b-9dc9-b899c04487e6\" xlink:show=\"new\" xlink:title=\"psysml:7894e875-c3b4-453b-9dc9-b899c04487e6\" xlink:type=\"simple\"><rect fill=\"#FEFECE\" filter=\"url(#f1qdq759jq4g8i)\" height=\"45.9375\" id=\"E9\" rx=\"10\" ry=\"10\" style=\"stroke: #A80036; stroke-width: 1.5;\" width=\"178\" x=\"291.32\" y=\"240\"/><text fill=\"#000000\" font-family=\"sans-serif\" font-size=\"12\" font-style=\"italic\" lengthAdjust=\"spacingAndGlyphs\" textLength=\"40\" x=\"360.32\" y=\"256.1387\">«part»</text><text fill=\"#000000\" font-family=\"sans-serif\" font-size=\"12\" lengthAdjust=\"spacingAndGlyphs\" textLength=\"172\" x=\"294.32\" y=\"270.1074\">selectedAlternative: Engine</text><line style=\"stroke: #A80036; stroke-width: 1.5;\" x1=\"292.32\" x2=\"468.32\" y1=\"277.9375\" y2=\"277.9375\"/></a><!--MD5=[05d275557350bfb9b23a4ef7222b4c39]\n",
       "link E3 to E2--><a href=\"psysml:8801a447-7348-4a45-a550-3876c92a8627\" target=\"_top\" title=\"psysml:8801a447-7348-4a45-a550-3876c92a8627\" xlink:actuate=\"onRequest\" xlink:href=\"psysml:8801a447-7348-4a45-a550-3876c92a8627\" xlink:show=\"new\" xlink:title=\"psysml:8801a447-7348-4a45-a550-3876c92a8627\" xlink:type=\"simple\"><path d=\"M415.48,362.01 C376.57,379.54 322.27,404.01 282.71,421.84 \" fill=\"none\" id=\"E3-&gt;E2\" style=\"stroke: #A80036; stroke-width: 1.0;\"/><polygon fill=\"#FFFFFF\" points=\"264.34,430.12,278.7866,415.9321,284.5383,428.696,264.34,430.12\" style=\"stroke: #A80036; stroke-width: 1.0;\"/><ellipse cx=\"284.805\" cy=\"415.4137\" fill=\"#A80036\" rx=\"2\" ry=\"2\" style=\"stroke: #A80036; stroke-width: 1.0;\"/><ellipse cx=\"288.9134\" cy=\"424.5308\" fill=\"#A80036\" rx=\"2\" ry=\"2\" style=\"stroke: #A80036; stroke-width: 1.0;\"/></a><!--MD5=[185131fc0dcab0a4505a2ebe144e961b]\n",
       "link E4 to E2--><a href=\"psysml:b9350b5a-5d8f-4ac9-a55f-8ba2d0a1e030\" target=\"_top\" title=\"psysml:b9350b5a-5d8f-4ac9-a55f-8ba2d0a1e030\" xlink:actuate=\"onRequest\" xlink:href=\"psysml:b9350b5a-5d8f-4ac9-a55f-8ba2d0a1e030\" xlink:show=\"new\" xlink:title=\"psysml:b9350b5a-5d8f-4ac9-a55f-8ba2d0a1e030\" xlink:type=\"simple\"><path d=\"M302.45,362.01 C291.25,375.08 276.74,392.01 263.74,407.17 \" fill=\"none\" id=\"E4-&gt;E2\" style=\"stroke: #A80036; stroke-width: 1.0;\"/><polygon fill=\"#FFFFFF\" points=\"250.47,422.66,257.5188,403.678,268.1491,412.7883,250.47,422.66\" style=\"stroke: #A80036; stroke-width: 1.0;\"/><ellipse cx=\"262.7466\" cy=\"400.6515\" fill=\"#A80036\" rx=\"2\" ry=\"2\" style=\"stroke: #A80036; stroke-width: 1.0;\"/><ellipse cx=\"270.3396\" cy=\"407.1588\" fill=\"#A80036\" rx=\"2\" ry=\"2\" style=\"stroke: #A80036; stroke-width: 1.0;\"/></a><!--MD5=[15ebcb19ae302d9b601edb458606d402]\n",
       "link E5 to E2--><a href=\"psysml:ecc21de6-0c62-41d5-be03-95573cca647a\" target=\"_top\" title=\"psysml:ecc21de6-0c62-41d5-be03-95573cca647a\" xlink:actuate=\"onRequest\" xlink:href=\"psysml:ecc21de6-0c62-41d5-be03-95573cca647a\" xlink:show=\"new\" xlink:title=\"psysml:ecc21de6-0c62-41d5-be03-95573cca647a\" xlink:type=\"simple\"><path d=\"M239.76,73.22 C177.99,83.96 102.74,108.45 61.32,164 C8.68,234.61 6,287.72 53.32,362 C83.95,410.08 150.5,430.76 192.99,439.32 \" fill=\"none\" id=\"E5-&gt;E2\" style=\"stroke: #A80036; stroke-width: 1.0; stroke-dasharray: 7.0,7.0;\"/><polygon fill=\"#A80036\" points=\"198.04,440.31,189.9738,434.6588,193.1327,439.3514,188.4401,442.5104,198.04,440.31\" style=\"stroke: #A80036; stroke-width: 1.0;\"/><text fill=\"#000000\" font-family=\"sans-serif\" font-size=\"13\" lengthAdjust=\"spacingAndGlyphs\" textLength=\"62\" x=\"24.32\" y=\"267.5669\">«subject»</text></a><!--MD5=[9120cf2e5df3bff93db8f754bbbc09b4]\n",
       "link E5 to E6--><a href=\"psysml:fcf6c150-3866-4336-9e66-2e65ffb041aa\" target=\"_top\" title=\"psysml:fcf6c150-3866-4336-9e66-2e65ffb041aa\" xlink:actuate=\"onRequest\" xlink:href=\"psysml:fcf6c150-3866-4336-9e66-2e65ffb041aa\" xlink:show=\"new\" xlink:title=\"psysml:fcf6c150-3866-4336-9e66-2e65ffb041aa\" xlink:type=\"simple\"><path d=\"M314.56,87.19 C292.2,107.23 259.21,136.8 235.15,158.37 \" fill=\"none\" id=\"E5-&gt;E6\" style=\"stroke: #A80036; stroke-width: 1.0;\"/><polygon fill=\"#A80036\" points=\"228.92,163.95,236.8786,160.8419,232.8725,156.3752,228.92,163.95\" style=\"stroke: #A80036; stroke-width: 1.0;\"/><text fill=\"#000000\" font-family=\"sans-serif\" font-size=\"13\" lengthAdjust=\"spacingAndGlyphs\" textLength=\"73\" x=\"280.32\" y=\"130.0669\">«objective»</text></a><!--MD5=[452b418e7f8a40397a49b8c0a78acc5b]\n",
       "reverse link E5 to E7--><a href=\"psysml:a988c065-f70c-4bb4-ab6a-fca08357bc4a\" target=\"_top\" title=\"psysml:a988c065-f70c-4bb4-ab6a-fca08357bc4a\" xlink:actuate=\"onRequest\" xlink:href=\"psysml:a988c065-f70c-4bb4-ab6a-fca08357bc4a\" xlink:show=\"new\" xlink:title=\"psysml:a988c065-f70c-4bb4-ab6a-fca08357bc4a\" xlink:type=\"simple\"><path d=\"M362.14,97.88 C376.71,118.86 395.19,145.48 408.01,163.95 \" fill=\"none\" id=\"E5&lt;-E7\" style=\"stroke: #A80036; stroke-width: 1.0;\"/><polygon fill=\"#A80036\" points=\"354.73,87.19,354.864,94.3999,361.5708,97.0492,361.4368,89.8393,354.73,87.19\" style=\"stroke: #A80036; stroke-width: 1.0;\"/></a><!--MD5=[dc164f5e8a733ab456ef1add180e9e34]\n",
       "reverse link E7 to E8--><a href=\"psysml:4295af6e-acd7-489b-9191-c25409e1351b\" target=\"_top\" title=\"psysml:4295af6e-acd7-489b-9191-c25409e1351b\" xlink:actuate=\"onRequest\" xlink:href=\"psysml:4295af6e-acd7-489b-9191-c25409e1351b\" xlink:show=\"new\" xlink:title=\"psysml:4295af6e-acd7-489b-9191-c25409e1351b\" xlink:type=\"simple\"><path d=\"M352.67,208.29 C327.33,216.69 298.96,227.44 274.32,240 C231.96,261.6 187.65,294.33 160.26,315.93 \" fill=\"none\" id=\"E7&lt;-E8\" style=\"stroke: #A80036; stroke-width: 1.0;\"/><polygon fill=\"#FFFFFF\" points=\"365.22,204.24,358.2818,202.2749,353.7994,207.9236,360.7376,209.8887,365.22,204.24\" style=\"stroke: #A80036; stroke-width: 1.0;\"/><text fill=\"#000000\" font-family=\"sans-serif\" font-size=\"13\" lengthAdjust=\"spacingAndGlyphs\" textLength=\"8\" x=\"158.4251\" y=\"304.8075\">1</text></a><!--MD5=[f1f3f9f2fc535e6147756cb86a7f2e32]\n",
       "link E8 to E2--><a href=\"psysml:aed7fba6-fc0e-4a29-a473-c7d943b57344\" target=\"_top\" title=\"psysml:aed7fba6-fc0e-4a29-a473-c7d943b57344\" xlink:actuate=\"onRequest\" xlink:href=\"psysml:aed7fba6-fc0e-4a29-a473-c7d943b57344\" xlink:show=\"new\" xlink:title=\"psysml:aed7fba6-fc0e-4a29-a473-c7d943b57344\" xlink:type=\"simple\"><path d=\"M153.86,362.01 C166.19,375.22 182.2,392.38 196.46,407.65 \" fill=\"none\" id=\"E8-&gt;E2\" style=\"stroke: #A80036; stroke-width: 1.0;\"/><polygon fill=\"#FFFFFF\" points=\"210.47,422.66,192.3921,413.5393,202.6305,403.9907,210.47,422.66\" style=\"stroke: #A80036; stroke-width: 1.0;\"/><ellipse cx=\"189.9671\" cy=\"408.0067\" fill=\"#A80036\" rx=\"2\" ry=\"2\" style=\"stroke: #A80036; stroke-width: 1.0;\"/><ellipse cx=\"197.2802\" cy=\"401.1863\" fill=\"#A80036\" rx=\"2\" ry=\"2\" style=\"stroke: #A80036; stroke-width: 1.0;\"/></a><!--MD5=[9ae28de373ca99bb8a1b38d63370ca7e]\n",
       "reverse link E5 to E9--><a href=\"psysml:afcc773f-3f6f-47e3-9b17-c2b1fd7bbdc3\" target=\"_top\" title=\"psysml:afcc773f-3f6f-47e3-9b17-c2b1fd7bbdc3\" xlink:actuate=\"onRequest\" xlink:href=\"psysml:afcc773f-3f6f-47e3-9b17-c2b1fd7bbdc3\" xlink:show=\"new\" xlink:title=\"psysml:afcc773f-3f6f-47e3-9b17-c2b1fd7bbdc3\" xlink:type=\"simple\"><path d=\"M416.08,92.77 C447.78,108.48 481.27,131.61 499.32,164 C509.27,181.86 510.51,192.89 499.32,210 C490.86,222.92 478.41,232.65 464.71,239.97 \" fill=\"none\" id=\"E5&lt;-E9\" style=\"stroke: #A80036; stroke-width: 1.0;\"/><polygon fill=\"#FFFFFF\" points=\"404.06,87.11,407.7814,93.2867,414.9142,92.2272,411.1928,86.0505,404.06,87.11\" style=\"stroke: #A80036; stroke-width: 1.0;\"/><text fill=\"#000000\" font-family=\"sans-serif\" font-size=\"13\" lengthAdjust=\"spacingAndGlyphs\" textLength=\"8\" x=\"477.3099\" y=\"229.2386\">1</text></a><!--MD5=[5c3bb36fe832a92c7f0e1807dd65209d]\n",
       "link E9 to E2--><a href=\"psysml:09d901e9-14a1-4a34-80ae-448f8674b33c\" target=\"_top\" title=\"psysml:09d901e9-14a1-4a34-80ae-448f8674b33c\" xlink:actuate=\"onRequest\" xlink:href=\"psysml:09d901e9-14a1-4a34-80ae-448f8674b33c\" xlink:show=\"new\" xlink:title=\"psysml:09d901e9-14a1-4a34-80ae-448f8674b33c\" xlink:type=\"simple\"><path d=\"M291.19,285.15 C275.57,292.56 260.94,302.55 250.32,316 C231.17,340.25 227.04,375.32 227.36,402.77 \" fill=\"none\" id=\"E9-&gt;E2\" style=\"stroke: #A80036; stroke-width: 1.0;\"/><polygon fill=\"#FFFFFF\" points=\"228.36,422.81,220.4186,404.1838,234.4011,403.4837,228.36,422.81\" style=\"stroke: #A80036; stroke-width: 1.0;\"/><ellipse cx=\"222.131\" cy=\"398.3909\" fill=\"#A80036\" rx=\"2\" ry=\"2\" style=\"stroke: #A80036; stroke-width: 1.0;\"/><ellipse cx=\"232.1185\" cy=\"397.8909\" fill=\"#A80036\" rx=\"2\" ry=\"2\" style=\"stroke: #A80036; stroke-width: 1.0;\"/></a><!--MD5=[6c248c57bc6983889e9de4463635974b]\n",
       "@startuml\r\n",
       "skinparam wrapWidth 300\r\n",
       "hide circle\r\n",
       "\r\n",
       "package \"TradeStudyTest\" as E1  [[psysml:0d92d0af-a8c4-487d-a88b-e96d8d162758 ]]  {\r\n",
       "comp def \"Engine\" as E2  <<(T,blue) part def>> [[psysml:90b379af-84e4-4b51-bcba-9b20024a2d1f ]] {\r\n",
       "}\r\n",
       "comp usage \"engine1: Engine\" as E3  <<(T,blue) part>> [[psysml:1fe04244-3a7b-4d3a-93e0-0fd9f61a7cea ]] {\r\n",
       "}\r\n",
       "comp usage \"engine2: Engine\" as E4  <<(T,blue) part>> [[psysml:07207da4-9c20-4091-a953-293a54d08950 ]] {\r\n",
       "}\r\n",
       "comp usage \"engineTradeStudy: TradeStudy\" as E5 << analysis>> [[psysml:c0123459-da5a-4fa7-ba13-511d4e5fcdf0 ]] {\r\n",
       "}\r\n",
       "comp usage \"tradeStudyObjective: MaximizeObjective\" as E6  <<(T,blue) requirement>> [[psysml:d3ca6a29-f1f6-48ae-8677-7ec75b0f5c21 ]] {\r\n",
       "}\r\n",
       "comp usage \"objectiveFunction\" as E7  <<(T,blue) calculation>> [[psysml:f099413c-f817-477f-a757-2c07f6450928 ]] {\r\n",
       "}\r\n",
       "comp usage \"alternative: Engine\" as E8  <<(T,blue) part>> [[psysml:26f566d1-080d-4e4d-ba32-38c38fdc0bde ]] {\r\n",
       "}\r\n",
       "comp usage \"selectedAlternative: Engine\" as E9  <<(T,blue) part>> [[psysml:7894e875-c3b4-453b-9dc9-b899c04487e6 ]] {\r\n",
       "}\r\n",
       "E3 - -:|> E2 [[psysml:8801a447-7348-4a45-a550-3876c92a8627 ]] \r\n",
       "E4 - -:|> E2 [[psysml:b9350b5a-5d8f-4ac9-a55f-8ba2d0a1e030 ]] \r\n",
       "E5 ..> E2 [[psysml:ecc21de6-0c62-41d5-be03-95573cca647a ]] : <<subject>>\r\n",
       "E5 - ->> E6 [[psysml:fcf6c150-3866-4336-9e66-2e65ffb041aa ]] : <<objective>>\r\n",
       "E5 *- - E7 [[psysml:a988c065-f70c-4bb4-ab6a-fca08357bc4a ]] \r\n",
       "E7 o- - \"1\"E8 [[psysml:4295af6e-acd7-489b-9191-c25409e1351b ]] \r\n",
       "E8 - -:|> E2 [[psysml:aed7fba6-fc0e-4a29-a473-c7d943b57344 ]] \r\n",
       "E5 o- - \"1\"E9 [[psysml:afcc773f-3f6f-47e3-9b17-c2b1fd7bbdc3 ]] \r\n",
       "E9 - -:|> E2 [[psysml:09d901e9-14a1-4a34-80ae-448f8674b33c ]] \r\n",
       "}\r\n",
       "@enduml\r\n",
       "\n",
       "PlantUML version 1.2020.13(Sat Jun 13 12:26:38 UTC 2020)\n",
       "(EPL source distribution)\n",
       "Java Runtime: OpenJDK Runtime Environment\n",
       "JVM: OpenJDK 64-Bit Server VM\n",
       "Default Encoding: UTF-8\n",
       "Language: en\n",
       "Country: null\n",
       "--></g></svg>"
      ]
     },
     "execution_count": 23,
     "metadata": {},
     "output_type": "execute_result"
    }
   ],
   "source": [
    "%viz --style=\"STDCOLOR\" --view=\"Default\" \"TradeStudyTest\""
   ]
  },
  {
   "cell_type": "code",
   "execution_count": 24,
   "id": "225f42b9",
   "metadata": {
    "execution": {
     "iopub.execute_input": "2021-08-04T06:27:39.484231Z",
     "iopub.status.busy": "2021-08-04T06:27:39.483835Z",
     "iopub.status.idle": "2021-08-04T06:27:39.521839Z",
     "shell.execute_reply": "2021-08-04T06:27:39.521471Z"
    }
   },
   "outputs": [
    {
     "data": {
      "image/svg+xml": [
       "<?xml version=\"1.0\" encoding=\"UTF-8\" standalone=\"no\"?><svg xmlns=\"http://www.w3.org/2000/svg\" xmlns:xlink=\"http://www.w3.org/1999/xlink\" contentScriptType=\"application/ecmascript\" contentStyleType=\"text/css\" height=\"345px\" preserveAspectRatio=\"none\" style=\"width:955px;height:345px;\" version=\"1.1\" viewBox=\"0 0 955 345\" width=\"955px\" zoomAndPan=\"magnify\"><defs><filter height=\"300%\" id=\"f14u176d4kz353\" width=\"300%\" x=\"-1\" y=\"-1\"><feGaussianBlur result=\"blurOut\" stdDeviation=\"2.0\"/><feColorMatrix in=\"blurOut\" result=\"blurOut2\" type=\"matrix\" values=\"0 0 0 0 0 0 0 0 0 0 0 0 0 0 0 0 0 0 .4 0\"/><feOffset dx=\"4.0\" dy=\"4.0\" in=\"blurOut2\" result=\"blurOut3\"/><feBlend in=\"SourceGraphic\" in2=\"blurOut3\" mode=\"normal\"/></filter></defs><g><!--MD5=[fbc87193dbaf4d95561dea2c320d4a47]\n",
       "cluster E1--><a href=\"psysml:0d92d0af-a8c4-487d-a88b-e96d8d162758\" target=\"_top\" title=\"psysml:0d92d0af-a8c4-487d-a88b-e96d8d162758\" xlink:actuate=\"onRequest\" xlink:href=\"psysml:0d92d0af-a8c4-487d-a88b-e96d8d162758\" xlink:show=\"new\" xlink:title=\"psysml:0d92d0af-a8c4-487d-a88b-e96d8d162758\" xlink:type=\"simple\"><polygon fill=\"#FFFFFF\" filter=\"url(#f14u176d4kz353)\" points=\"16,6,148,6,155,28.2969,933,28.2969,933,333,16,333,16,6\" style=\"stroke: #000000; stroke-width: 1.5;\"/><line style=\"stroke: #000000; stroke-width: 1.5;\" x1=\"16\" x2=\"155\" y1=\"28.2969\" y2=\"28.2969\"/><text fill=\"#000000\" font-family=\"sans-serif\" font-size=\"14\" font-weight=\"bold\" lengthAdjust=\"spacingAndGlyphs\" textLength=\"126\" x=\"20\" y=\"20.9951\">TradeStudyTest</text></a><!--MD5=[b4997ac47864f28c2f74865a473b2911]\n",
       "class E2--><a href=\"psysml:90b379af-84e4-4b51-bcba-9b20024a2d1f\" target=\"_top\" title=\"psysml:90b379af-84e4-4b51-bcba-9b20024a2d1f\" xlink:actuate=\"onRequest\" xlink:href=\"psysml:90b379af-84e4-4b51-bcba-9b20024a2d1f\" xlink:show=\"new\" xlink:title=\"psysml:90b379af-84e4-4b51-bcba-9b20024a2d1f\" xlink:type=\"simple\"><rect fill=\"#FEFECE\" filter=\"url(#f14u176d4kz353)\" height=\"45.9375\" id=\"E2\" style=\"stroke: #A80036; stroke-width: 1.5;\" width=\"66\" x=\"598\" y=\"271\"/><text fill=\"#000000\" font-family=\"sans-serif\" font-size=\"12\" font-style=\"italic\" lengthAdjust=\"spacingAndGlyphs\" textLength=\"64\" x=\"599\" y=\"287.1387\">«part def»</text><text fill=\"#000000\" font-family=\"sans-serif\" font-size=\"12\" lengthAdjust=\"spacingAndGlyphs\" textLength=\"43\" x=\"609.5\" y=\"301.1074\">Engine</text><line style=\"stroke: #A80036; stroke-width: 1.5;\" x1=\"599\" x2=\"663\" y1=\"308.9375\" y2=\"308.9375\"/></a><!--MD5=[09b614a08d8cba4a07c9adeb5e0fee81]\n",
       "class E3--><a href=\"psysml:1fe04244-3a7b-4d3a-93e0-0fd9f61a7cea\" target=\"_top\" title=\"psysml:1fe04244-3a7b-4d3a-93e0-0fd9f61a7cea\" xlink:actuate=\"onRequest\" xlink:href=\"psysml:1fe04244-3a7b-4d3a-93e0-0fd9f61a7cea\" xlink:show=\"new\" xlink:title=\"psysml:1fe04244-3a7b-4d3a-93e0-0fd9f61a7cea\" xlink:type=\"simple\"><rect fill=\"#FEFECE\" filter=\"url(#f14u176d4kz353)\" height=\"45.9375\" id=\"E3\" rx=\"10\" ry=\"10\" style=\"stroke: #A80036; stroke-width: 1.5;\" width=\"108\" x=\"809\" y=\"164\"/><text fill=\"#000000\" font-family=\"sans-serif\" font-size=\"12\" font-style=\"italic\" lengthAdjust=\"spacingAndGlyphs\" textLength=\"40\" x=\"843\" y=\"180.1387\">«part»</text><text fill=\"#000000\" font-family=\"sans-serif\" font-size=\"12\" lengthAdjust=\"spacingAndGlyphs\" textLength=\"102\" x=\"812\" y=\"194.1074\">engine1: Engine</text><line style=\"stroke: #A80036; stroke-width: 1.5;\" x1=\"810\" x2=\"916\" y1=\"201.9375\" y2=\"201.9375\"/></a><!--MD5=[ebbe1d658d1005bcc118a6aa81145e00]\n",
       "class E4--><a href=\"psysml:07207da4-9c20-4091-a953-293a54d08950\" target=\"_top\" title=\"psysml:07207da4-9c20-4091-a953-293a54d08950\" xlink:actuate=\"onRequest\" xlink:href=\"psysml:07207da4-9c20-4091-a953-293a54d08950\" xlink:show=\"new\" xlink:title=\"psysml:07207da4-9c20-4091-a953-293a54d08950\" xlink:type=\"simple\"><rect fill=\"#FEFECE\" filter=\"url(#f14u176d4kz353)\" height=\"45.9375\" id=\"E4\" rx=\"10\" ry=\"10\" style=\"stroke: #A80036; stroke-width: 1.5;\" width=\"108\" x=\"666\" y=\"164\"/><text fill=\"#000000\" font-family=\"sans-serif\" font-size=\"12\" font-style=\"italic\" lengthAdjust=\"spacingAndGlyphs\" textLength=\"40\" x=\"700\" y=\"180.1387\">«part»</text><text fill=\"#000000\" font-family=\"sans-serif\" font-size=\"12\" lengthAdjust=\"spacingAndGlyphs\" textLength=\"102\" x=\"669\" y=\"194.1074\">engine2: Engine</text><line style=\"stroke: #A80036; stroke-width: 1.5;\" x1=\"667\" x2=\"773\" y1=\"201.9375\" y2=\"201.9375\"/></a><!--MD5=[270fce915f116d4de14055a7c1d9a0f3]\n",
       "class E5--><a href=\"psysml:c0123459-da5a-4fa7-ba13-511d4e5fcdf0\" target=\"_top\" title=\"psysml:c0123459-da5a-4fa7-ba13-511d4e5fcdf0\" xlink:actuate=\"onRequest\" xlink:href=\"psysml:c0123459-da5a-4fa7-ba13-511d4e5fcdf0\" xlink:show=\"new\" xlink:title=\"psysml:c0123459-da5a-4fa7-ba13-511d4e5fcdf0\" xlink:type=\"simple\"><rect fill=\"#FEFECE\" filter=\"url(#f14u176d4kz353)\" height=\"45.9375\" id=\"E5\" rx=\"10\" ry=\"10\" style=\"stroke: #A80036; stroke-width: 1.5;\" width=\"199\" x=\"192.5\" y=\"41\"/><text fill=\"#000000\" font-family=\"sans-serif\" font-size=\"12\" font-style=\"italic\" lengthAdjust=\"spacingAndGlyphs\" textLength=\"64\" x=\"260\" y=\"57.1387\">«analysis»</text><text fill=\"#000000\" font-family=\"sans-serif\" font-size=\"12\" lengthAdjust=\"spacingAndGlyphs\" textLength=\"193\" x=\"195.5\" y=\"71.1074\">engineTradeStudy: TradeStudy</text><line style=\"stroke: #A80036; stroke-width: 1.5;\" x1=\"193.5\" x2=\"390.5\" y1=\"78.9375\" y2=\"78.9375\"/></a><!--MD5=[60a26617385b1d2d0262a64233df1f8d]\n",
       "class E6--><a href=\"psysml:d3ca6a29-f1f6-48ae-8677-7ec75b0f5c21\" target=\"_top\" title=\"psysml:d3ca6a29-f1f6-48ae-8677-7ec75b0f5c21\" xlink:actuate=\"onRequest\" xlink:href=\"psysml:d3ca6a29-f1f6-48ae-8677-7ec75b0f5c21\" xlink:show=\"new\" xlink:title=\"psysml:d3ca6a29-f1f6-48ae-8677-7ec75b0f5c21\" xlink:type=\"simple\"><rect fill=\"#FEFECE\" filter=\"url(#f14u176d4kz353)\" height=\"45.9375\" id=\"E6\" rx=\"10\" ry=\"10\" style=\"stroke: #A80036; stroke-width: 1.5;\" width=\"251\" x=\"166.5\" y=\"164\"/><text fill=\"#000000\" font-family=\"sans-serif\" font-size=\"12\" font-style=\"italic\" lengthAdjust=\"spacingAndGlyphs\" textLength=\"91\" x=\"246.5\" y=\"180.1387\">«requirement»</text><text fill=\"#000000\" font-family=\"sans-serif\" font-size=\"12\" lengthAdjust=\"spacingAndGlyphs\" textLength=\"245\" x=\"169.5\" y=\"194.1074\">tradeStudyObjective: MaximizeObjective</text><line style=\"stroke: #A80036; stroke-width: 1.5;\" x1=\"167.5\" x2=\"416.5\" y1=\"201.9375\" y2=\"201.9375\"/></a><!--MD5=[2156ba9850f5573cc1fc38a6a4b2f02b]\n",
       "class E7--><a href=\"psysml:7894e875-c3b4-453b-9dc9-b899c04487e6\" target=\"_top\" title=\"psysml:7894e875-c3b4-453b-9dc9-b899c04487e6\" xlink:actuate=\"onRequest\" xlink:href=\"psysml:7894e875-c3b4-453b-9dc9-b899c04487e6\" xlink:show=\"new\" xlink:title=\"psysml:7894e875-c3b4-453b-9dc9-b899c04487e6\" xlink:type=\"simple\"><rect fill=\"#FEFECE\" filter=\"url(#f14u176d4kz353)\" height=\"45.9375\" id=\"E7\" rx=\"10\" ry=\"10\" style=\"stroke: #A80036; stroke-width: 1.5;\" width=\"178\" x=\"453\" y=\"164\"/><text fill=\"#000000\" font-family=\"sans-serif\" font-size=\"12\" font-style=\"italic\" lengthAdjust=\"spacingAndGlyphs\" textLength=\"40\" x=\"522\" y=\"180.1387\">«part»</text><text fill=\"#000000\" font-family=\"sans-serif\" font-size=\"12\" lengthAdjust=\"spacingAndGlyphs\" textLength=\"172\" x=\"456\" y=\"194.1074\">selectedAlternative: Engine</text><line style=\"stroke: #A80036; stroke-width: 1.5;\" x1=\"454\" x2=\"630\" y1=\"201.9375\" y2=\"201.9375\"/></a><!--MD5=[05d275557350bfb9b23a4ef7222b4c39]\n",
       "link E3 to E2--><a href=\"psysml:8801a447-7348-4a45-a550-3876c92a8627\" target=\"_top\" title=\"psysml:8801a447-7348-4a45-a550-3876c92a8627\" xlink:actuate=\"onRequest\" xlink:href=\"psysml:8801a447-7348-4a45-a550-3876c92a8627\" xlink:show=\"new\" xlink:title=\"psysml:8801a447-7348-4a45-a550-3876c92a8627\" xlink:type=\"simple\"><path d=\"M814.37,210.01 C775.74,227.49 721.88,251.87 682.52,269.68 \" fill=\"none\" id=\"E3-&gt;E2\" style=\"stroke: #A80036; stroke-width: 1.0;\"/><polygon fill=\"#FFFFFF\" points=\"664.23,277.96,678.6446,263.7397,684.4251,276.4906,664.23,277.96\" style=\"stroke: #A80036; stroke-width: 1.0;\"/><ellipse cx=\"684.6619\" cy=\"263.2078\" fill=\"#A80036\" rx=\"2\" ry=\"2\" style=\"stroke: #A80036; stroke-width: 1.0;\"/><ellipse cx=\"688.7908\" cy=\"272.3156\" fill=\"#A80036\" rx=\"2\" ry=\"2\" style=\"stroke: #A80036; stroke-width: 1.0;\"/></a><!--MD5=[185131fc0dcab0a4505a2ebe144e961b]\n",
       "link E4 to E2--><a href=\"psysml:b9350b5a-5d8f-4ac9-a55f-8ba2d0a1e030\" target=\"_top\" title=\"psysml:b9350b5a-5d8f-4ac9-a55f-8ba2d0a1e030\" xlink:actuate=\"onRequest\" xlink:href=\"psysml:b9350b5a-5d8f-4ac9-a55f-8ba2d0a1e030\" xlink:show=\"new\" xlink:title=\"psysml:b9350b5a-5d8f-4ac9-a55f-8ba2d0a1e030\" xlink:type=\"simple\"><path d=\"M701.34,210.01 C690.26,223.08 675.91,240.01 663.06,255.17 \" fill=\"none\" id=\"E4-&gt;E2\" style=\"stroke: #A80036; stroke-width: 1.0;\"/><polygon fill=\"#FFFFFF\" points=\"649.94,270.66,656.8931,251.6428,667.5691,260.6994,649.94,270.66\" style=\"stroke: #A80036; stroke-width: 1.0;\"/><ellipse cx=\"662.1056\" cy=\"248.5899\" fill=\"#A80036\" rx=\"2\" ry=\"2\" style=\"stroke: #A80036; stroke-width: 1.0;\"/><ellipse cx=\"669.7313\" cy=\"255.059\" fill=\"#A80036\" rx=\"2\" ry=\"2\" style=\"stroke: #A80036; stroke-width: 1.0;\"/></a><!--MD5=[15ebcb19ae302d9b601edb458606d402]\n",
       "link E5 to E2--><a href=\"psysml:ecc21de6-0c62-41d5-be03-95573cca647a\" target=\"_top\" title=\"psysml:ecc21de6-0c62-41d5-be03-95573cca647a\" xlink:actuate=\"onRequest\" xlink:href=\"psysml:ecc21de6-0c62-41d5-be03-95573cca647a\" xlink:show=\"new\" xlink:title=\"psysml:ecc21de6-0c62-41d5-be03-95573cca647a\" xlink:type=\"simple\"><path d=\"M211.44,87.03 C135.05,111.81 38.38,155.76 85,210 C150.98,286.77 479.56,293.36 592.67,293.32 \" fill=\"none\" id=\"E5-&gt;E2\" style=\"stroke: #A80036; stroke-width: 1.0; stroke-dasharray: 7.0,7.0;\"/><polygon fill=\"#A80036\" points=\"597.89,293.31,588.89,289.31,592.89,293.31,588.89,297.31,597.89,293.31\" style=\"stroke: #A80036; stroke-width: 1.0;\"/><text fill=\"#000000\" font-family=\"sans-serif\" font-size=\"13\" lengthAdjust=\"spacingAndGlyphs\" textLength=\"62\" x=\"86\" y=\"191.5669\">«subject»</text></a><!--MD5=[9120cf2e5df3bff93db8f754bbbc09b4]\n",
       "link E5 to E6--><a href=\"psysml:fcf6c150-3866-4336-9e66-2e65ffb041aa\" target=\"_top\" title=\"psysml:fcf6c150-3866-4336-9e66-2e65ffb041aa\" xlink:actuate=\"onRequest\" xlink:href=\"psysml:fcf6c150-3866-4336-9e66-2e65ffb041aa\" xlink:show=\"new\" xlink:title=\"psysml:fcf6c150-3866-4336-9e66-2e65ffb041aa\" xlink:type=\"simple\"><path d=\"M292,87.19 C292,106.47 292,134.55 292,155.86 \" fill=\"none\" id=\"E5-&gt;E6\" style=\"stroke: #A80036; stroke-width: 1.0;\"/><polygon fill=\"#A80036\" points=\"292,163.95,295,155.95,289,155.95,292,163.95\" style=\"stroke: #A80036; stroke-width: 1.0;\"/><text fill=\"#000000\" font-family=\"sans-serif\" font-size=\"13\" lengthAdjust=\"spacingAndGlyphs\" textLength=\"73\" x=\"293\" y=\"130.0669\">«objective»</text></a><!--MD5=[452b418e7f8a40397a49b8c0a78acc5b]\n",
       "reverse link E5 to E7--><a href=\"psysml:afcc773f-3f6f-47e3-9b17-c2b1fd7bbdc3\" target=\"_top\" title=\"psysml:afcc773f-3f6f-47e3-9b17-c2b1fd7bbdc3\" xlink:actuate=\"onRequest\" xlink:href=\"psysml:afcc773f-3f6f-47e3-9b17-c2b1fd7bbdc3\" xlink:show=\"new\" xlink:title=\"psysml:afcc773f-3f6f-47e3-9b17-c2b1fd7bbdc3\" xlink:type=\"simple\"><path d=\"M349.39,92.78 C393.99,114.36 455.01,143.9 496.33,163.89 \" fill=\"none\" id=\"E5&lt;-E7\" style=\"stroke: #A80036; stroke-width: 1.0;\"/><polygon fill=\"#FFFFFF\" points=\"337.56,87.05,341.2143,93.2666,348.3582,92.2843,344.7039,86.0677,337.56,87.05\" style=\"stroke: #A80036; stroke-width: 1.0;\"/><text fill=\"#000000\" font-family=\"sans-serif\" font-size=\"13\" lengthAdjust=\"spacingAndGlyphs\" textLength=\"8\" x=\"474.9812\" y=\"152.7567\">1</text></a><!--MD5=[583832df87f4419a098336a29a52fa00]\n",
       "link E7 to E2--><a href=\"psysml:09d901e9-14a1-4a34-80ae-448f8674b33c\" target=\"_top\" title=\"psysml:09d901e9-14a1-4a34-80ae-448f8674b33c\" xlink:actuate=\"onRequest\" xlink:href=\"psysml:09d901e9-14a1-4a34-80ae-448f8674b33c\" xlink:show=\"new\" xlink:title=\"psysml:09d901e9-14a1-4a34-80ae-448f8674b33c\" xlink:type=\"simple\"><path d=\"M560.66,210.01 C571.74,223.08 586.09,240.01 598.94,255.17 \" fill=\"none\" id=\"E7-&gt;E2\" style=\"stroke: #A80036; stroke-width: 1.0;\"/><polygon fill=\"#FFFFFF\" points=\"612.06,270.66,594.4309,260.6994,605.1069,251.6428,612.06,270.66\" style=\"stroke: #A80036; stroke-width: 1.0;\"/><ellipse cx=\"592.2687\" cy=\"255.059\" fill=\"#A80036\" rx=\"2\" ry=\"2\" style=\"stroke: #A80036; stroke-width: 1.0;\"/><ellipse cx=\"599.8944\" cy=\"248.5899\" fill=\"#A80036\" rx=\"2\" ry=\"2\" style=\"stroke: #A80036; stroke-width: 1.0;\"/></a><!--MD5=[5448335883ce5449ecc688d8c3d526bb]\n",
       "@startuml\r\n",
       "skinparam wrapWidth 300\r\n",
       "hide circle\r\n",
       "\r\n",
       "package \"TradeStudyTest\" as E1  [[psysml:0d92d0af-a8c4-487d-a88b-e96d8d162758 ]]  {\r\n",
       "comp def \"Engine\" as E2  <<(T,blue) part def>> [[psysml:90b379af-84e4-4b51-bcba-9b20024a2d1f ]] {\r\n",
       "}\r\n",
       "comp usage \"engine1: Engine\" as E3  <<(T,blue) part>> [[psysml:1fe04244-3a7b-4d3a-93e0-0fd9f61a7cea ]] {\r\n",
       "}\r\n",
       "comp usage \"engine2: Engine\" as E4  <<(T,blue) part>> [[psysml:07207da4-9c20-4091-a953-293a54d08950 ]] {\r\n",
       "}\r\n",
       "comp usage \"engineTradeStudy: TradeStudy\" as E5 << analysis>> [[psysml:c0123459-da5a-4fa7-ba13-511d4e5fcdf0 ]] {\r\n",
       "}\r\n",
       "comp usage \"tradeStudyObjective: MaximizeObjective\" as E6  <<(T,blue) requirement>> [[psysml:d3ca6a29-f1f6-48ae-8677-7ec75b0f5c21 ]] {\r\n",
       "}\r\n",
       "comp usage \"selectedAlternative: Engine\" as E7  <<(T,blue) part>> [[psysml:7894e875-c3b4-453b-9dc9-b899c04487e6 ]] {\r\n",
       "}\r\n",
       "E3 - -:|> E2 [[psysml:8801a447-7348-4a45-a550-3876c92a8627 ]] \r\n",
       "E4 - -:|> E2 [[psysml:b9350b5a-5d8f-4ac9-a55f-8ba2d0a1e030 ]] \r\n",
       "E5 ..> E2 [[psysml:ecc21de6-0c62-41d5-be03-95573cca647a ]] : <<subject>>\r\n",
       "E5 - ->> E6 [[psysml:fcf6c150-3866-4336-9e66-2e65ffb041aa ]] : <<objective>>\r\n",
       "E5 o- - \"1\"E7 [[psysml:afcc773f-3f6f-47e3-9b17-c2b1fd7bbdc3 ]] \r\n",
       "E7 - -:|> E2 [[psysml:09d901e9-14a1-4a34-80ae-448f8674b33c ]] \r\n",
       "}\r\n",
       "@enduml\r\n",
       "\n",
       "PlantUML version 1.2020.13(Sat Jun 13 12:26:38 UTC 2020)\n",
       "(EPL source distribution)\n",
       "Java Runtime: OpenJDK Runtime Environment\n",
       "JVM: OpenJDK 64-Bit Server VM\n",
       "Default Encoding: UTF-8\n",
       "Language: en\n",
       "Country: null\n",
       "--></g></svg>"
      ]
     },
     "execution_count": 24,
     "metadata": {},
     "output_type": "execute_result"
    }
   ],
   "source": [
    "%viz --style=\"STDCOLOR\" --view=\"Tree\" \"TradeStudyTest\""
   ]
  },
  {
   "cell_type": "code",
   "execution_count": 25,
   "id": "0e09169b",
   "metadata": {
    "execution": {
     "iopub.execute_input": "2021-08-04T06:27:39.571455Z",
     "iopub.status.busy": "2021-08-04T06:27:39.571050Z",
     "iopub.status.idle": "2021-08-04T06:27:39.575589Z",
     "shell.execute_reply": "2021-08-04T06:27:39.575902Z"
    }
   },
   "outputs": [
    {
     "data": {
      "image/svg+xml": [
       "<?xml version=\"1.0\" encoding=\"UTF-8\" standalone=\"no\"?><svg xmlns=\"http://www.w3.org/2000/svg\" xmlns:xlink=\"http://www.w3.org/1999/xlink\" contentScriptType=\"application/ecmascript\" contentStyleType=\"text/css\" height=\"12px\" preserveAspectRatio=\"none\" style=\"width:12px;height:12px;\" version=\"1.1\" viewBox=\"0 0 12 12\" width=\"12px\" zoomAndPan=\"magnify\"><defs/><g><!--MD5=[aeeef50f102b80d730deb6443d14f702]\n",
       "@startuml\r\n",
       "skinparam wrapWidth 300\r\n",
       "hide circle\r\n",
       "\r\n",
       "@enduml\r\n",
       "\n",
       "PlantUML version 1.2020.13(Sat Jun 13 12:26:38 UTC 2020)\n",
       "(EPL source distribution)\n",
       "Java Runtime: OpenJDK Runtime Environment\n",
       "JVM: OpenJDK 64-Bit Server VM\n",
       "Default Encoding: UTF-8\n",
       "Language: en\n",
       "Country: null\n",
       "--></g></svg>"
      ]
     },
     "execution_count": 25,
     "metadata": {},
     "output_type": "execute_result"
    }
   ],
   "source": [
    "%viz --style=\"STDCOLOR\" --view=\"State\" \"TradeStudyTest\""
   ]
  },
  {
   "cell_type": "code",
   "execution_count": 26,
   "id": "71f97eeb",
   "metadata": {
    "execution": {
     "iopub.execute_input": "2021-08-04T06:27:39.625991Z",
     "iopub.status.busy": "2021-08-04T06:27:39.625592Z",
     "iopub.status.idle": "2021-08-04T06:27:39.652482Z",
     "shell.execute_reply": "2021-08-04T06:27:39.651327Z"
    }
   },
   "outputs": [
    {
     "data": {
      "image/svg+xml": [
       "<?xml version=\"1.0\" encoding=\"UTF-8\" standalone=\"no\"?><svg xmlns=\"http://www.w3.org/2000/svg\" xmlns:xlink=\"http://www.w3.org/1999/xlink\" contentScriptType=\"application/ecmascript\" contentStyleType=\"text/css\" height=\"334px\" preserveAspectRatio=\"none\" style=\"width:566px;height:334px;\" version=\"1.1\" viewBox=\"0 0 566 334\" width=\"566px\" zoomAndPan=\"magnify\"><defs><filter height=\"300%\" id=\"f1aewqc0oyi3sg\" width=\"300%\" x=\"-1\" y=\"-1\"><feGaussianBlur result=\"blurOut\" stdDeviation=\"2.0\"/><feColorMatrix in=\"blurOut\" result=\"blurOut2\" type=\"matrix\" values=\"0 0 0 0 0 0 0 0 0 0 0 0 0 0 0 0 0 0 .4 0\"/><feOffset dx=\"4.0\" dy=\"4.0\" in=\"blurOut2\" result=\"blurOut3\"/><feBlend in=\"SourceGraphic\" in2=\"blurOut3\" mode=\"normal\"/></filter></defs><g><!--MD5=[fbc87193dbaf4d95561dea2c320d4a47]\n",
       "cluster E1--><a href=\"psysml:0d92d0af-a8c4-487d-a88b-e96d8d162758\" target=\"_top\" title=\"psysml:0d92d0af-a8c4-487d-a88b-e96d8d162758\" xlink:actuate=\"onRequest\" xlink:href=\"psysml:0d92d0af-a8c4-487d-a88b-e96d8d162758\" xlink:show=\"new\" xlink:title=\"psysml:0d92d0af-a8c4-487d-a88b-e96d8d162758\" xlink:type=\"simple\"><polygon fill=\"#FFFFFF\" filter=\"url(#f1aewqc0oyi3sg)\" points=\"16,6,148,6,155,28.2969,544,28.2969,544,322,16,322,16,6\" style=\"stroke: #000000; stroke-width: 1.5;\"/><line style=\"stroke: #000000; stroke-width: 1.5;\" x1=\"16\" x2=\"155\" y1=\"28.2969\" y2=\"28.2969\"/><text fill=\"#000000\" font-family=\"sans-serif\" font-size=\"14\" font-weight=\"bold\" lengthAdjust=\"spacingAndGlyphs\" textLength=\"126\" x=\"20\" y=\"20.9951\">TradeStudyTest</text></a><!--MD5=[270fce915f116d4de14055a7c1d9a0f3]\n",
       "class E5--><a href=\"psysml:c0123459-da5a-4fa7-ba13-511d4e5fcdf0\" target=\"_top\" title=\"psysml:c0123459-da5a-4fa7-ba13-511d4e5fcdf0\" xlink:actuate=\"onRequest\" xlink:href=\"psysml:c0123459-da5a-4fa7-ba13-511d4e5fcdf0\" xlink:show=\"new\" xlink:title=\"psysml:c0123459-da5a-4fa7-ba13-511d4e5fcdf0\" xlink:type=\"simple\"><rect fill=\"#FEFECE\" filter=\"url(#f1aewqc0oyi3sg)\" height=\"45.9375\" id=\"E5\" rx=\"10\" ry=\"10\" style=\"stroke: #A80036; stroke-width: 1.5;\" width=\"199\" x=\"328.5\" y=\"41\"/><text fill=\"#000000\" font-family=\"sans-serif\" font-size=\"12\" font-style=\"italic\" lengthAdjust=\"spacingAndGlyphs\" textLength=\"64\" x=\"396\" y=\"57.1387\">«analysis»</text><text fill=\"#000000\" font-family=\"sans-serif\" font-size=\"12\" lengthAdjust=\"spacingAndGlyphs\" textLength=\"193\" x=\"331.5\" y=\"71.1074\">engineTradeStudy: TradeStudy</text><line style=\"stroke: #A80036; stroke-width: 1.5;\" x1=\"329.5\" x2=\"526.5\" y1=\"78.9375\" y2=\"78.9375\"/></a><!--MD5=[60a26617385b1d2d0262a64233df1f8d]\n",
       "class E6--><a href=\"psysml:d3ca6a29-f1f6-48ae-8677-7ec75b0f5c21\" target=\"_top\" title=\"psysml:d3ca6a29-f1f6-48ae-8677-7ec75b0f5c21\" xlink:actuate=\"onRequest\" xlink:href=\"psysml:d3ca6a29-f1f6-48ae-8677-7ec75b0f5c21\" xlink:show=\"new\" xlink:title=\"psysml:d3ca6a29-f1f6-48ae-8677-7ec75b0f5c21\" xlink:type=\"simple\"><rect fill=\"#FEFECE\" filter=\"url(#f1aewqc0oyi3sg)\" height=\"45.9375\" id=\"E6\" rx=\"10\" ry=\"10\" style=\"stroke: #A80036; stroke-width: 1.5;\" width=\"251\" x=\"32.5\" y=\"120\"/><text fill=\"#000000\" font-family=\"sans-serif\" font-size=\"12\" font-style=\"italic\" lengthAdjust=\"spacingAndGlyphs\" textLength=\"91\" x=\"112.5\" y=\"136.1387\">«requirement»</text><text fill=\"#000000\" font-family=\"sans-serif\" font-size=\"12\" lengthAdjust=\"spacingAndGlyphs\" textLength=\"245\" x=\"35.5\" y=\"150.1074\">tradeStudyObjective: MaximizeObjective</text><line style=\"stroke: #A80036; stroke-width: 1.5;\" x1=\"33.5\" x2=\"282.5\" y1=\"157.9375\" y2=\"157.9375\"/></a><!--MD5=[2156ba9850f5573cc1fc38a6a4b2f02b]\n",
       "class E7--><a href=\"psysml:f099413c-f817-477f-a757-2c07f6450928\" target=\"_top\" title=\"psysml:f099413c-f817-477f-a757-2c07f6450928\" xlink:actuate=\"onRequest\" xlink:href=\"psysml:f099413c-f817-477f-a757-2c07f6450928\" xlink:show=\"new\" xlink:title=\"psysml:f099413c-f817-477f-a757-2c07f6450928\" xlink:type=\"simple\"><rect fill=\"#FEFECE\" filter=\"url(#f1aewqc0oyi3sg)\" height=\"45.9375\" id=\"E7\" rx=\"10\" ry=\"10\" style=\"stroke: #A80036; stroke-width: 1.5;\" width=\"116\" x=\"319\" y=\"120\"/><text fill=\"#000000\" font-family=\"sans-serif\" font-size=\"12\" font-style=\"italic\" lengthAdjust=\"spacingAndGlyphs\" textLength=\"82\" x=\"336\" y=\"136.1387\">«calculation»</text><text fill=\"#000000\" font-family=\"sans-serif\" font-size=\"12\" lengthAdjust=\"spacingAndGlyphs\" textLength=\"110\" x=\"322\" y=\"150.1074\">objectiveFunction</text><line style=\"stroke: #A80036; stroke-width: 1.5;\" x1=\"320\" x2=\"434\" y1=\"157.9375\" y2=\"157.9375\"/></a><!--MD5=[b9389687b975829384b498ac4b7476b2]\n",
       "class E8--><a href=\"psysml:26f566d1-080d-4e4d-ba32-38c38fdc0bde\" target=\"_top\" title=\"psysml:26f566d1-080d-4e4d-ba32-38c38fdc0bde\" xlink:actuate=\"onRequest\" xlink:href=\"psysml:26f566d1-080d-4e4d-ba32-38c38fdc0bde\" xlink:show=\"new\" xlink:title=\"psysml:26f566d1-080d-4e4d-ba32-38c38fdc0bde\" xlink:type=\"simple\"><rect fill=\"#FEFECE\" filter=\"url(#f1aewqc0oyi3sg)\" height=\"31.9688\" id=\"E8\" rx=\"10\" ry=\"10\" style=\"stroke: #A80036; stroke-width: 1.5;\" width=\"124\" x=\"178\" y=\"214\"/><text fill=\"#000000\" font-family=\"sans-serif\" font-size=\"12\" lengthAdjust=\"spacingAndGlyphs\" textLength=\"118\" x=\"181\" y=\"230.1387\">alternative: Engine</text><line style=\"stroke: #A80036; stroke-width: 1.5;\" x1=\"179\" x2=\"301\" y1=\"237.9688\" y2=\"237.9688\"/></a><!--MD5=[fd4143e9d270a159db93a4ea2a975926]\n",
       "class E9--><a href=\"psysml:7894e875-c3b4-453b-9dc9-b899c04487e6\" target=\"_top\" title=\"psysml:7894e875-c3b4-453b-9dc9-b899c04487e6\" xlink:actuate=\"onRequest\" xlink:href=\"psysml:7894e875-c3b4-453b-9dc9-b899c04487e6\" xlink:show=\"new\" xlink:title=\"psysml:7894e875-c3b4-453b-9dc9-b899c04487e6\" xlink:type=\"simple\"><rect fill=\"#FEFECE\" filter=\"url(#f1aewqc0oyi3sg)\" height=\"31.9688\" id=\"E9\" rx=\"10\" ry=\"10\" style=\"stroke: #A80036; stroke-width: 1.5;\" width=\"178\" x=\"246\" y=\"174\"/><text fill=\"#000000\" font-family=\"sans-serif\" font-size=\"12\" lengthAdjust=\"spacingAndGlyphs\" textLength=\"172\" x=\"249\" y=\"190.1387\">selectedAlternative: Engine</text><line style=\"stroke: #A80036; stroke-width: 1.5;\" x1=\"247\" x2=\"423\" y1=\"197.9688\" y2=\"197.9688\"/></a><g id=\"E1.E2\"><a href=\"psysml:90b379af-84e4-4b51-bcba-9b20024a2d1f\" target=\"_top\" title=\"psysml:90b379af-84e4-4b51-bcba-9b20024a2d1f\" xlink:actuate=\"onRequest\" xlink:href=\"psysml:90b379af-84e4-4b51-bcba-9b20024a2d1f\" xlink:show=\"new\" xlink:title=\"psysml:90b379af-84e4-4b51-bcba-9b20024a2d1f\" xlink:type=\"simple\"><rect fill=\"#FEFECE\" filter=\"url(#f1aewqc0oyi3sg)\" height=\"42.9375\" id=\"E2\" style=\"stroke: #A80036; stroke-width: 1.5;\" width=\"71\" x=\"302.5\" y=\"263\"/><text fill=\"#000000\" font-family=\"sans-serif\" font-size=\"12\" font-style=\"italic\" lengthAdjust=\"spacingAndGlyphs\" textLength=\"64\" x=\"306\" y=\"279.1387\">«part def»</text><text fill=\"#000000\" font-family=\"sans-serif\" font-size=\"12\" lengthAdjust=\"spacingAndGlyphs\" textLength=\"43\" x=\"316.5\" y=\"293.1074\">Engine</text></a></g><g id=\"E1.E3\"><a href=\"psysml:1fe04244-3a7b-4d3a-93e0-0fd9f61a7cea\" target=\"_top\" title=\"psysml:1fe04244-3a7b-4d3a-93e0-0fd9f61a7cea\" xlink:actuate=\"onRequest\" xlink:href=\"psysml:1fe04244-3a7b-4d3a-93e0-0fd9f61a7cea\" xlink:show=\"new\" xlink:title=\"psysml:1fe04244-3a7b-4d3a-93e0-0fd9f61a7cea\" xlink:type=\"simple\"><rect fill=\"#FEFECE\" filter=\"url(#f1aewqc0oyi3sg)\" height=\"40\" id=\"E3\" rx=\"10\" ry=\"10\" style=\"stroke: #A80036; stroke-width: 1.5;\" width=\"113\" x=\"180.5\" y=\"44\"/><text fill=\"#000000\" font-family=\"sans-serif\" font-size=\"12\" lengthAdjust=\"spacingAndGlyphs\" textLength=\"102\" x=\"186\" y=\"60.1387\">engine1: Engine</text></a></g><g id=\"E1.E4\"><a href=\"psysml:07207da4-9c20-4091-a953-293a54d08950\" target=\"_top\" title=\"psysml:07207da4-9c20-4091-a953-293a54d08950\" xlink:actuate=\"onRequest\" xlink:href=\"psysml:07207da4-9c20-4091-a953-293a54d08950\" xlink:show=\"new\" xlink:title=\"psysml:07207da4-9c20-4091-a953-293a54d08950\" xlink:type=\"simple\"><rect fill=\"#FEFECE\" filter=\"url(#f1aewqc0oyi3sg)\" height=\"40\" id=\"E4\" rx=\"10\" ry=\"10\" style=\"stroke: #A80036; stroke-width: 1.5;\" width=\"113\" x=\"32.5\" y=\"44\"/><text fill=\"#000000\" font-family=\"sans-serif\" font-size=\"12\" lengthAdjust=\"spacingAndGlyphs\" textLength=\"102\" x=\"38\" y=\"60.1387\">engine2: Engine</text></a></g><!--MD5=[15ebcb19ae302d9b601edb458606d402]\n",
       "link E5 to E2--><a href=\"psysml:ecc21de6-0c62-41d5-be03-95573cca647a\" target=\"_top\" title=\"psysml:ecc21de6-0c62-41d5-be03-95573cca647a\" xlink:actuate=\"onRequest\" xlink:href=\"psysml:ecc21de6-0c62-41d5-be03-95573cca647a\" xlink:show=\"new\" xlink:title=\"psysml:ecc21de6-0c62-41d5-be03-95573cca647a\" xlink:type=\"simple\"><path d=\"M454.33,87.05 C456.45,89.57 458.39,92.23 460,95 C475.92,122.38 478.3,136.82 466,166 C448.69,207.07 408.73,239.87 378.03,260.26 \" fill=\"none\" id=\"E5-&gt;E2\" style=\"stroke: #A80036; stroke-width: 1.0; stroke-dasharray: 7.0,7.0;\"/><polygon fill=\"#A80036\" points=\"373.57,263.18,383.2939,261.6161,377.7586,260.4495,378.9251,254.9143,373.57,263.18\" style=\"stroke: #A80036; stroke-width: 1.0;\"/><text fill=\"#000000\" font-family=\"sans-serif\" font-size=\"13\" lengthAdjust=\"spacingAndGlyphs\" textLength=\"62\" x=\"463\" y=\"194.5669\">«subject»</text></a><!--MD5=[9120cf2e5df3bff93db8f754bbbc09b4]\n",
       "link E5 to E6--><a href=\"psysml:fcf6c150-3866-4336-9e66-2e65ffb041aa\" target=\"_top\" title=\"psysml:fcf6c150-3866-4336-9e66-2e65ffb041aa\" xlink:actuate=\"onRequest\" xlink:href=\"psysml:fcf6c150-3866-4336-9e66-2e65ffb041aa\" xlink:show=\"new\" xlink:title=\"psysml:fcf6c150-3866-4336-9e66-2e65ffb041aa\" xlink:type=\"simple\"><path d=\"M342.94,87.03 C333.16,89.67 323.36,92.36 314,95 C288.94,102.07 261.74,110.13 237.17,117.56 \" fill=\"none\" id=\"E5-&gt;E6\" style=\"stroke: #A80036; stroke-width: 1.0;\"/><polygon fill=\"#A80036\" points=\"229.29,119.94,237.8158,120.4972,236.0799,114.7538,229.29,119.94\" style=\"stroke: #A80036; stroke-width: 1.0;\"/><text fill=\"#000000\" font-family=\"sans-serif\" font-size=\"13\" lengthAdjust=\"spacingAndGlyphs\" textLength=\"73\" x=\"315\" y=\"108.0669\">«objective»</text></a><!--MD5=[452b418e7f8a40397a49b8c0a78acc5b]\n",
       "reverse link E5 to E7--><a href=\"psysml:a988c065-f70c-4bb4-ab6a-fca08357bc4a\" target=\"_top\" title=\"psysml:a988c065-f70c-4bb4-ab6a-fca08357bc4a\" xlink:actuate=\"onRequest\" xlink:href=\"psysml:a988c065-f70c-4bb4-ab6a-fca08357bc4a\" xlink:show=\"new\" xlink:title=\"psysml:a988c065-f70c-4bb4-ab6a-fca08357bc4a\" xlink:type=\"simple\"><path d=\"M405.93,98.32 C401.13,105.57 396.16,113.08 391.72,119.78 \" fill=\"none\" id=\"E5&lt;-E7\" style=\"stroke: #A80036; stroke-width: 1.0;\"/><polygon fill=\"#A80036\" points=\"413.25,87.27,406.6021,90.0638,406.6241,97.2749,413.272,94.4811,413.25,87.27\" style=\"stroke: #A80036; stroke-width: 1.0;\"/></a><!--MD5=[dc164f5e8a733ab456ef1add180e9e34]\n",
       "reverse link E7 to E8--><a href=\"psysml:4295af6e-acd7-489b-9191-c25409e1351b\" target=\"_top\" title=\"psysml:4295af6e-acd7-489b-9191-c25409e1351b\" xlink:actuate=\"onRequest\" xlink:href=\"psysml:4295af6e-acd7-489b-9191-c25409e1351b\" xlink:show=\"new\" xlink:title=\"psysml:4295af6e-acd7-489b-9191-c25409e1351b\" xlink:type=\"simple\"><path d=\"M305.92,164.91 C304.26,165.29 302.62,165.65 301,166 C288.71,168.64 253.66,164.89 245,174 C235.09,184.43 235.08,201.52 236.77,213.88 \" fill=\"none\" id=\"E7&lt;-E8\" style=\"stroke: #A80036; stroke-width: 1.0;\"/><polygon fill=\"#FFFFFF\" points=\"318.71,161.77,311.9314,159.3102,307.0537,164.6214,313.8323,167.0811,318.71,161.77\" style=\"stroke: #A80036; stroke-width: 1.0;\"/><text fill=\"#000000\" font-family=\"sans-serif\" font-size=\"13\" lengthAdjust=\"spacingAndGlyphs\" textLength=\"8\" x=\"226.2847\" y=\"202.8557\">1</text></a><!--MD5=[f1f3f9f2fc535e6147756cb86a7f2e32]\n",
       "link E8 to E2--><a href=\"psysml:aed7fba6-fc0e-4a29-a473-c7d943b57344\" target=\"_top\" title=\"psysml:aed7fba6-fc0e-4a29-a473-c7d943b57344\" xlink:actuate=\"onRequest\" xlink:href=\"psysml:aed7fba6-fc0e-4a29-a473-c7d943b57344\" xlink:show=\"new\" xlink:title=\"psysml:aed7fba6-fc0e-4a29-a473-c7d943b57344\" xlink:type=\"simple\"><path d=\"M268.08,246.04 C273.23,248.8 278.76,251.77 284.38,254.77 \" fill=\"none\" id=\"E8-&gt;E2\" style=\"stroke: #A80036; stroke-width: 1.0;\"/><polygon fill=\"#FFFFFF\" points=\"302.21,264.33,282.1553,261.5358,288.7616,249.1926,302.21,264.33\" style=\"stroke: #A80036; stroke-width: 1.0;\"/><ellipse cx=\"278.0736\" cy=\"257.0828\" fill=\"#A80036\" rx=\"2\" ry=\"2\" style=\"stroke: #A80036; stroke-width: 1.0;\"/><ellipse cx=\"282.7924\" cy=\"248.2661\" fill=\"#A80036\" rx=\"2\" ry=\"2\" style=\"stroke: #A80036; stroke-width: 1.0;\"/></a><!--MD5=[9ae28de373ca99bb8a1b38d63370ca7e]\n",
       "reverse link E5 to E9--><a href=\"psysml:afcc773f-3f6f-47e3-9b17-c2b1fd7bbdc3\" target=\"_top\" title=\"psysml:afcc773f-3f6f-47e3-9b17-c2b1fd7bbdc3\" xlink:actuate=\"onRequest\" xlink:href=\"psysml:afcc773f-3f6f-47e3-9b17-c2b1fd7bbdc3\" xlink:show=\"new\" xlink:title=\"psysml:afcc773f-3f6f-47e3-9b17-c2b1fd7bbdc3\" xlink:type=\"simple\"><path d=\"M449.82,98.65 C460.68,120.03 468.53,147.15 453,166 C451.62,167.67 438.74,170.68 421.94,173.98 \" fill=\"none\" id=\"E5&lt;-E9\" style=\"stroke: #A80036; stroke-width: 1.0;\"/><polygon fill=\"#FFFFFF\" points=\"443.41,87.13,442.8257,94.3174,449.2355,97.6211,449.8198,90.4337,443.41,87.13\" style=\"stroke: #A80036; stroke-width: 1.0;\"/><text fill=\"#000000\" font-family=\"sans-serif\" font-size=\"13\" lengthAdjust=\"spacingAndGlyphs\" textLength=\"8\" x=\"431.8866\" y=\"185.124\">1</text></a><!--MD5=[5c3bb36fe832a92c7f0e1807dd65209d]\n",
       "link E9 to E2--><a href=\"psysml:09d901e9-14a1-4a34-80ae-448f8674b33c\" target=\"_top\" title=\"psysml:09d901e9-14a1-4a34-80ae-448f8674b33c\" xlink:actuate=\"onRequest\" xlink:href=\"psysml:09d901e9-14a1-4a34-80ae-448f8674b33c\" xlink:show=\"new\" xlink:title=\"psysml:09d901e9-14a1-4a34-80ae-448f8674b33c\" xlink:type=\"simple\"><path d=\"M335.5,206.27 C335.82,216.14 336.25,229.48 336.66,242.29 \" fill=\"none\" id=\"E9-&gt;E2\" style=\"stroke: #A80036; stroke-width: 1.0;\"/><polygon fill=\"#FFFFFF\" points=\"337.32,262.66,329.7128,243.8949,343.7055,243.4448,337.32,262.66\" style=\"stroke: #A80036; stroke-width: 1.0;\"/><ellipse cx=\"331.5285\" cy=\"238.1335\" fill=\"#A80036\" rx=\"2\" ry=\"2\" style=\"stroke: #A80036; stroke-width: 1.0;\"/><ellipse cx=\"341.5233\" cy=\"237.812\" fill=\"#A80036\" rx=\"2\" ry=\"2\" style=\"stroke: #A80036; stroke-width: 1.0;\"/></a><!--MD5=[d5c871524bd4eb23674990738755d084]\n",
       "@startuml\r\n",
       "skinparam ranksep 10\r\n",
       "skinparam rectangle {\r\n",
       " backgroundColor<<block>> LightGreen\r\n",
       "}\r\n",
       "skinparam wrapWidth 300\r\n",
       "hide circle\r\n",
       "\r\n",
       "package \"TradeStudyTest\" as E1  [[psysml:0d92d0af-a8c4-487d-a88b-e96d8d162758 ]]  {\r\n",
       "rec def \"Engine\" as E2  <<(T,blue) part def>> [[psysml:90b379af-84e4-4b51-bcba-9b20024a2d1f ]] {\r\n",
       "}\r\n",
       "rec usage \"engine1: Engine\" as E3  [[psysml:1fe04244-3a7b-4d3a-93e0-0fd9f61a7cea ]] {\r\n",
       "}\r\n",
       "rec usage \"engine2: Engine\" as E4  [[psysml:07207da4-9c20-4091-a953-293a54d08950 ]] {\r\n",
       "}\r\n",
       "comp usage \"engineTradeStudy: TradeStudy\" as E5 << analysis>> [[psysml:c0123459-da5a-4fa7-ba13-511d4e5fcdf0 ]] {\r\n",
       "}\r\n",
       "comp usage \"tradeStudyObjective: MaximizeObjective\" as E6  <<(T,blue) requirement>> [[psysml:d3ca6a29-f1f6-48ae-8677-7ec75b0f5c21 ]] {\r\n",
       "}\r\n",
       "comp usage \"objectiveFunction\" as E7  <<(T,blue) calculation>> [[psysml:f099413c-f817-477f-a757-2c07f6450928 ]] {\r\n",
       "}\r\n",
       "comp usage \"alternative: Engine\" as E8  [[psysml:26f566d1-080d-4e4d-ba32-38c38fdc0bde ]] {\r\n",
       "}\r\n",
       "comp usage \"selectedAlternative: Engine\" as E9  [[psysml:7894e875-c3b4-453b-9dc9-b899c04487e6 ]] {\r\n",
       "}\r\n",
       "E5 ..> E2 [[psysml:ecc21de6-0c62-41d5-be03-95573cca647a ]] : <<subject>>\r\n",
       "E5 - ->> E6 [[psysml:fcf6c150-3866-4336-9e66-2e65ffb041aa ]] : <<objective>>\r\n",
       "E5 *- - E7 [[psysml:a988c065-f70c-4bb4-ab6a-fca08357bc4a ]] \r\n",
       "E7 o- - \"1\"E8 [[psysml:4295af6e-acd7-489b-9191-c25409e1351b ]] \r\n",
       "E8 - -:|> E2 [[psysml:aed7fba6-fc0e-4a29-a473-c7d943b57344 ]] \r\n",
       "E5 o- - \"1\"E9 [[psysml:afcc773f-3f6f-47e3-9b17-c2b1fd7bbdc3 ]] \r\n",
       "E9 - -:|> E2 [[psysml:09d901e9-14a1-4a34-80ae-448f8674b33c ]] \r\n",
       "}\r\n",
       "@enduml\r\n",
       "\n",
       "PlantUML version 1.2020.13(Sat Jun 13 12:26:38 UTC 2020)\n",
       "(EPL source distribution)\n",
       "Java Runtime: OpenJDK Runtime Environment\n",
       "JVM: OpenJDK 64-Bit Server VM\n",
       "Default Encoding: UTF-8\n",
       "Language: en\n",
       "Country: null\n",
       "--></g></svg>"
      ]
     },
     "execution_count": 26,
     "metadata": {},
     "output_type": "execute_result"
    }
   ],
   "source": [
    "%viz --style=\"STDCOLOR\" --view=\"Interconnection\" \"TradeStudyTest\""
   ]
  },
  {
   "cell_type": "code",
   "execution_count": 27,
   "id": "61eab274",
   "metadata": {
    "execution": {
     "iopub.execute_input": "2021-08-04T06:27:39.701905Z",
     "iopub.status.busy": "2021-08-04T06:27:39.701562Z",
     "iopub.status.idle": "2021-08-04T06:27:39.725796Z",
     "shell.execute_reply": "2021-08-04T06:27:39.726043Z"
    }
   },
   "outputs": [
    {
     "data": {
      "image/svg+xml": [
       "<?xml version=\"1.0\" encoding=\"UTF-8\" standalone=\"no\"?><svg xmlns=\"http://www.w3.org/2000/svg\" xmlns:xlink=\"http://www.w3.org/1999/xlink\" contentScriptType=\"application/ecmascript\" contentStyleType=\"text/css\" height=\"178px\" preserveAspectRatio=\"none\" style=\"width:393px;height:178px;\" version=\"1.1\" viewBox=\"0 0 393 178\" width=\"393px\" zoomAndPan=\"magnify\"><defs><filter height=\"300%\" id=\"f1clj2ge62shyc\" width=\"300%\" x=\"-1\" y=\"-1\"><feGaussianBlur result=\"blurOut\" stdDeviation=\"2.0\"/><feColorMatrix in=\"blurOut\" result=\"blurOut2\" type=\"matrix\" values=\"0 0 0 0 0 0 0 0 0 0 0 0 0 0 0 0 0 0 .4 0\"/><feOffset dx=\"4.0\" dy=\"4.0\" in=\"blurOut2\" result=\"blurOut3\"/><feBlend in=\"SourceGraphic\" in2=\"blurOut3\" mode=\"normal\"/></filter></defs><g><!--MD5=[fbc87193dbaf4d95561dea2c320d4a47]\n",
       "cluster E1--><a href=\"psysml:c0123459-da5a-4fa7-ba13-511d4e5fcdf0\" target=\"_top\" title=\"psysml:c0123459-da5a-4fa7-ba13-511d4e5fcdf0\" xlink:actuate=\"onRequest\" xlink:href=\"psysml:c0123459-da5a-4fa7-ba13-511d4e5fcdf0\" xlink:show=\"new\" xlink:title=\"psysml:c0123459-da5a-4fa7-ba13-511d4e5fcdf0\" xlink:type=\"simple\"><rect fill=\"#FFFFFF\" filter=\"url(#f1clj2ge62shyc)\" height=\"103.72\" id=\"E1\" rx=\"10\" ry=\"10\" style=\"stroke: #A80036; stroke-width: 1.5;\" width=\"354\" x=\"16.5\" y=\"42.0986\"/><rect fill=\"#FEFECE\" height=\"37.9375\" rx=\"10\" ry=\"10\" style=\"stroke: #FEFECE; stroke-width: 1.5;\" width=\"354\" x=\"16.5\" y=\"42.0986\"/><rect fill=\"#FEFECE\" height=\"10\" style=\"stroke: #FEFECE; stroke-width: 1.5;\" width=\"354\" x=\"16.5\" y=\"70.0361\"/><rect fill=\"none\" height=\"103.72\" id=\"E1\" rx=\"10\" ry=\"10\" style=\"stroke: #A80036; stroke-width: 1.5;\" width=\"354\" x=\"16.5\" y=\"42.0986\"/><text fill=\"#000000\" font-family=\"sans-serif\" font-size=\"12\" font-style=\"italic\" lengthAdjust=\"spacingAndGlyphs\" textLength=\"64\" x=\"161.5\" y=\"58.2373\">«analysis»</text><text fill=\"#000000\" font-family=\"sans-serif\" font-size=\"12\" lengthAdjust=\"spacingAndGlyphs\" textLength=\"114\" x=\"136.5\" y=\"72.2061\">engineTradeStudy</text><line style=\"stroke: #A80036; stroke-width: 1.0;\" x1=\"16.5\" x2=\"370.5\" y1=\"80.0361\" y2=\"80.0361\"/></a><!--MD5=[d5e69f78d87373223dbae638b30a9c99]\n",
       "cluster E3--><a href=\"psysml:f099413c-f817-477f-a757-2c07f6450928\" target=\"_top\" title=\"psysml:f099413c-f817-477f-a757-2c07f6450928\" xlink:actuate=\"onRequest\" xlink:href=\"psysml:f099413c-f817-477f-a757-2c07f6450928\" xlink:show=\"new\" xlink:title=\"psysml:f099413c-f817-477f-a757-2c07f6450928\" xlink:type=\"simple\"><rect fill=\"#FFFFFF\" filter=\"url(#f1clj2ge62shyc)\" height=\"81.72\" id=\"E3\" rx=\"10\" ry=\"10\" style=\"stroke: #A80036; stroke-width: 1.5;\" width=\"150\" x=\"200.5\" y=\"64.0986\"/><rect fill=\"#FEFECE\" height=\"37.9375\" rx=\"10\" ry=\"10\" style=\"stroke: #FEFECE; stroke-width: 1.5;\" width=\"150\" x=\"200.5\" y=\"64.0986\"/><rect fill=\"#FEFECE\" height=\"10\" style=\"stroke: #FEFECE; stroke-width: 1.5;\" width=\"150\" x=\"200.5\" y=\"92.0361\"/><rect fill=\"none\" height=\"81.72\" id=\"E3\" rx=\"10\" ry=\"10\" style=\"stroke: #A80036; stroke-width: 1.5;\" width=\"150\" x=\"200.5\" y=\"64.0986\"/><text fill=\"#000000\" font-family=\"sans-serif\" font-size=\"12\" font-style=\"italic\" lengthAdjust=\"spacingAndGlyphs\" textLength=\"82\" x=\"234.5\" y=\"80.2373\">«calculation»</text><text fill=\"#000000\" font-family=\"sans-serif\" font-size=\"12\" lengthAdjust=\"spacingAndGlyphs\" textLength=\"110\" x=\"220.5\" y=\"94.2061\">objectiveFunction</text><line style=\"stroke: #A80036; stroke-width: 1.0;\" x1=\"200.5\" x2=\"350.5\" y1=\"102.0361\" y2=\"102.0361\"/></a><text fill=\"#000000\" font-family=\"sans-serif\" font-size=\"14\" lengthAdjust=\"spacingAndGlyphs\" textLength=\"57\" x=\"6\" y=\"20.7969\">noname</text><rect fill=\"#A80036\" height=\"12\" style=\"stroke: #FEFECE; stroke-width: 1.5;\" width=\"12\" x=\"28.5\" y=\"36.0986\"/><text fill=\"#000000\" font-family=\"sans-serif\" font-size=\"14\" lengthAdjust=\"spacingAndGlyphs\" textLength=\"57\" x=\"324\" y=\"164.8138\">noname</text><rect fill=\"#A80036\" height=\"12\" style=\"stroke: #FEFECE; stroke-width: 1.5;\" width=\"12\" x=\"346.5\" y=\"139.8186\"/><text fill=\"#000000\" font-family=\"sans-serif\" font-size=\"14\" lengthAdjust=\"spacingAndGlyphs\" textLength=\"57\" x=\"194\" y=\"164.8138\">noname</text><rect fill=\"#A80036\" height=\"12\" style=\"stroke: #FEFECE; stroke-width: 1.5;\" width=\"12\" x=\"216.5\" y=\"139.8186\"/><!--MD5=[410f6963600aae12b9c3ca76c5e58b93]\n",
       "@startuml\r\n",
       "skinparam ranksep 8\r\n",
       "skinparam wrapWidth 300\r\n",
       "hide circle\r\n",
       "\r\n",
       "rec usage \"engineTradeStudy\" as E1 << analysis>> [[psysml:c0123459-da5a-4fa7-ba13-511d4e5fcdf0 ]] {\r\n",
       "portin \"noname\" as E2  [[psysml:210e0914-9352-49ef-884c-3efb23c87d05 ]] \r\n",
       "rec usage \"objectiveFunction\" as E3  <<(T,blue) calculation>> [[psysml:f099413c-f817-477f-a757-2c07f6450928 ]] {\r\n",
       "portout \"noname\" as E4  [[psysml:cddfcd13-7814-4ab4-947c-703e6331ff4e ]] \r\n",
       "}\r\n",
       "\r\n",
       "portout \"noname\" as E5  [[psysml:7894e875-c3b4-453b-9dc9-b899c04487e6 ]] \r\n",
       "}\r\n",
       "\r\n",
       "@enduml\r\n",
       "\n",
       "PlantUML version 1.2020.13(Sat Jun 13 12:26:38 UTC 2020)\n",
       "(EPL source distribution)\n",
       "Java Runtime: OpenJDK Runtime Environment\n",
       "JVM: OpenJDK 64-Bit Server VM\n",
       "Default Encoding: UTF-8\n",
       "Language: en\n",
       "Country: null\n",
       "--></g></svg>"
      ]
     },
     "execution_count": 27,
     "metadata": {},
     "output_type": "execute_result"
    }
   ],
   "source": [
    "%viz --style=\"STDCOLOR\" --view=\"Action\" \"TradeStudyTest\""
   ]
  },
  {
   "cell_type": "code",
   "execution_count": 28,
   "id": "4c59fde4",
   "metadata": {
    "execution": {
     "iopub.execute_input": "2021-08-04T06:27:39.776374Z",
     "iopub.status.busy": "2021-08-04T06:27:39.775976Z",
     "iopub.status.idle": "2021-08-04T06:27:39.803406Z",
     "shell.execute_reply": "2021-08-04T06:27:39.802694Z"
    }
   },
   "outputs": [
    {
     "data": {
      "image/svg+xml": [
       "<?xml version=\"1.0\" encoding=\"UTF-8\" standalone=\"no\"?><svg xmlns=\"http://www.w3.org/2000/svg\" xmlns:xlink=\"http://www.w3.org/1999/xlink\" contentScriptType=\"application/ecmascript\" contentStyleType=\"text/css\" height=\"345px\" preserveAspectRatio=\"none\" style=\"width:955px;height:345px;\" version=\"1.1\" viewBox=\"0 0 955 345\" width=\"955px\" zoomAndPan=\"magnify\"><defs><filter height=\"300%\" id=\"f14u176d4kz353\" width=\"300%\" x=\"-1\" y=\"-1\"><feGaussianBlur result=\"blurOut\" stdDeviation=\"2.0\"/><feColorMatrix in=\"blurOut\" result=\"blurOut2\" type=\"matrix\" values=\"0 0 0 0 0 0 0 0 0 0 0 0 0 0 0 0 0 0 .4 0\"/><feOffset dx=\"4.0\" dy=\"4.0\" in=\"blurOut2\" result=\"blurOut3\"/><feBlend in=\"SourceGraphic\" in2=\"blurOut3\" mode=\"normal\"/></filter></defs><g><!--MD5=[fbc87193dbaf4d95561dea2c320d4a47]\n",
       "cluster E1--><a href=\"psysml:0d92d0af-a8c4-487d-a88b-e96d8d162758\" target=\"_top\" title=\"psysml:0d92d0af-a8c4-487d-a88b-e96d8d162758\" xlink:actuate=\"onRequest\" xlink:href=\"psysml:0d92d0af-a8c4-487d-a88b-e96d8d162758\" xlink:show=\"new\" xlink:title=\"psysml:0d92d0af-a8c4-487d-a88b-e96d8d162758\" xlink:type=\"simple\"><polygon fill=\"#FFFFFF\" filter=\"url(#f14u176d4kz353)\" points=\"16,6,148,6,155,28.2969,933,28.2969,933,333,16,333,16,6\" style=\"stroke: #000000; stroke-width: 1.5;\"/><line style=\"stroke: #000000; stroke-width: 1.5;\" x1=\"16\" x2=\"155\" y1=\"28.2969\" y2=\"28.2969\"/><text fill=\"#000000\" font-family=\"sans-serif\" font-size=\"14\" font-weight=\"bold\" lengthAdjust=\"spacingAndGlyphs\" textLength=\"126\" x=\"20\" y=\"20.9951\">TradeStudyTest</text></a><!--MD5=[b4997ac47864f28c2f74865a473b2911]\n",
       "class E2--><a href=\"psysml:90b379af-84e4-4b51-bcba-9b20024a2d1f\" target=\"_top\" title=\"psysml:90b379af-84e4-4b51-bcba-9b20024a2d1f\" xlink:actuate=\"onRequest\" xlink:href=\"psysml:90b379af-84e4-4b51-bcba-9b20024a2d1f\" xlink:show=\"new\" xlink:title=\"psysml:90b379af-84e4-4b51-bcba-9b20024a2d1f\" xlink:type=\"simple\"><rect fill=\"#FEFECE\" filter=\"url(#f14u176d4kz353)\" height=\"45.9375\" id=\"E2\" style=\"stroke: #A80036; stroke-width: 1.5;\" width=\"66\" x=\"598\" y=\"271\"/><text fill=\"#000000\" font-family=\"sans-serif\" font-size=\"12\" font-style=\"italic\" lengthAdjust=\"spacingAndGlyphs\" textLength=\"64\" x=\"599\" y=\"287.1387\">«part def»</text><text fill=\"#000000\" font-family=\"sans-serif\" font-size=\"12\" lengthAdjust=\"spacingAndGlyphs\" textLength=\"43\" x=\"609.5\" y=\"301.1074\">Engine</text><line style=\"stroke: #A80036; stroke-width: 1.5;\" x1=\"599\" x2=\"663\" y1=\"308.9375\" y2=\"308.9375\"/></a><!--MD5=[09b614a08d8cba4a07c9adeb5e0fee81]\n",
       "class E3--><a href=\"psysml:1fe04244-3a7b-4d3a-93e0-0fd9f61a7cea\" target=\"_top\" title=\"psysml:1fe04244-3a7b-4d3a-93e0-0fd9f61a7cea\" xlink:actuate=\"onRequest\" xlink:href=\"psysml:1fe04244-3a7b-4d3a-93e0-0fd9f61a7cea\" xlink:show=\"new\" xlink:title=\"psysml:1fe04244-3a7b-4d3a-93e0-0fd9f61a7cea\" xlink:type=\"simple\"><rect fill=\"#FEFECE\" filter=\"url(#f14u176d4kz353)\" height=\"45.9375\" id=\"E3\" rx=\"10\" ry=\"10\" style=\"stroke: #A80036; stroke-width: 1.5;\" width=\"108\" x=\"809\" y=\"164\"/><text fill=\"#000000\" font-family=\"sans-serif\" font-size=\"12\" font-style=\"italic\" lengthAdjust=\"spacingAndGlyphs\" textLength=\"40\" x=\"843\" y=\"180.1387\">«part»</text><text fill=\"#000000\" font-family=\"sans-serif\" font-size=\"12\" lengthAdjust=\"spacingAndGlyphs\" textLength=\"102\" x=\"812\" y=\"194.1074\">engine1: Engine</text><line style=\"stroke: #A80036; stroke-width: 1.5;\" x1=\"810\" x2=\"916\" y1=\"201.9375\" y2=\"201.9375\"/></a><!--MD5=[ebbe1d658d1005bcc118a6aa81145e00]\n",
       "class E4--><a href=\"psysml:07207da4-9c20-4091-a953-293a54d08950\" target=\"_top\" title=\"psysml:07207da4-9c20-4091-a953-293a54d08950\" xlink:actuate=\"onRequest\" xlink:href=\"psysml:07207da4-9c20-4091-a953-293a54d08950\" xlink:show=\"new\" xlink:title=\"psysml:07207da4-9c20-4091-a953-293a54d08950\" xlink:type=\"simple\"><rect fill=\"#FEFECE\" filter=\"url(#f14u176d4kz353)\" height=\"45.9375\" id=\"E4\" rx=\"10\" ry=\"10\" style=\"stroke: #A80036; stroke-width: 1.5;\" width=\"108\" x=\"666\" y=\"164\"/><text fill=\"#000000\" font-family=\"sans-serif\" font-size=\"12\" font-style=\"italic\" lengthAdjust=\"spacingAndGlyphs\" textLength=\"40\" x=\"700\" y=\"180.1387\">«part»</text><text fill=\"#000000\" font-family=\"sans-serif\" font-size=\"12\" lengthAdjust=\"spacingAndGlyphs\" textLength=\"102\" x=\"669\" y=\"194.1074\">engine2: Engine</text><line style=\"stroke: #A80036; stroke-width: 1.5;\" x1=\"667\" x2=\"773\" y1=\"201.9375\" y2=\"201.9375\"/></a><!--MD5=[270fce915f116d4de14055a7c1d9a0f3]\n",
       "class E5--><a href=\"psysml:c0123459-da5a-4fa7-ba13-511d4e5fcdf0\" target=\"_top\" title=\"psysml:c0123459-da5a-4fa7-ba13-511d4e5fcdf0\" xlink:actuate=\"onRequest\" xlink:href=\"psysml:c0123459-da5a-4fa7-ba13-511d4e5fcdf0\" xlink:show=\"new\" xlink:title=\"psysml:c0123459-da5a-4fa7-ba13-511d4e5fcdf0\" xlink:type=\"simple\"><rect fill=\"#FEFECE\" filter=\"url(#f14u176d4kz353)\" height=\"45.9375\" id=\"E5\" rx=\"10\" ry=\"10\" style=\"stroke: #A80036; stroke-width: 1.5;\" width=\"199\" x=\"192.5\" y=\"41\"/><text fill=\"#000000\" font-family=\"sans-serif\" font-size=\"12\" font-style=\"italic\" lengthAdjust=\"spacingAndGlyphs\" textLength=\"64\" x=\"260\" y=\"57.1387\">«analysis»</text><text fill=\"#000000\" font-family=\"sans-serif\" font-size=\"12\" lengthAdjust=\"spacingAndGlyphs\" textLength=\"193\" x=\"195.5\" y=\"71.1074\">engineTradeStudy: TradeStudy</text><line style=\"stroke: #A80036; stroke-width: 1.5;\" x1=\"193.5\" x2=\"390.5\" y1=\"78.9375\" y2=\"78.9375\"/></a><!--MD5=[60a26617385b1d2d0262a64233df1f8d]\n",
       "class E6--><a href=\"psysml:d3ca6a29-f1f6-48ae-8677-7ec75b0f5c21\" target=\"_top\" title=\"psysml:d3ca6a29-f1f6-48ae-8677-7ec75b0f5c21\" xlink:actuate=\"onRequest\" xlink:href=\"psysml:d3ca6a29-f1f6-48ae-8677-7ec75b0f5c21\" xlink:show=\"new\" xlink:title=\"psysml:d3ca6a29-f1f6-48ae-8677-7ec75b0f5c21\" xlink:type=\"simple\"><rect fill=\"#FEFECE\" filter=\"url(#f14u176d4kz353)\" height=\"45.9375\" id=\"E6\" rx=\"10\" ry=\"10\" style=\"stroke: #A80036; stroke-width: 1.5;\" width=\"251\" x=\"166.5\" y=\"164\"/><text fill=\"#000000\" font-family=\"sans-serif\" font-size=\"12\" font-style=\"italic\" lengthAdjust=\"spacingAndGlyphs\" textLength=\"91\" x=\"246.5\" y=\"180.1387\">«requirement»</text><text fill=\"#000000\" font-family=\"sans-serif\" font-size=\"12\" lengthAdjust=\"spacingAndGlyphs\" textLength=\"245\" x=\"169.5\" y=\"194.1074\">tradeStudyObjective: MaximizeObjective</text><line style=\"stroke: #A80036; stroke-width: 1.5;\" x1=\"167.5\" x2=\"416.5\" y1=\"201.9375\" y2=\"201.9375\"/></a><!--MD5=[2156ba9850f5573cc1fc38a6a4b2f02b]\n",
       "class E7--><a href=\"psysml:7894e875-c3b4-453b-9dc9-b899c04487e6\" target=\"_top\" title=\"psysml:7894e875-c3b4-453b-9dc9-b899c04487e6\" xlink:actuate=\"onRequest\" xlink:href=\"psysml:7894e875-c3b4-453b-9dc9-b899c04487e6\" xlink:show=\"new\" xlink:title=\"psysml:7894e875-c3b4-453b-9dc9-b899c04487e6\" xlink:type=\"simple\"><rect fill=\"#FEFECE\" filter=\"url(#f14u176d4kz353)\" height=\"45.9375\" id=\"E7\" rx=\"10\" ry=\"10\" style=\"stroke: #A80036; stroke-width: 1.5;\" width=\"178\" x=\"453\" y=\"164\"/><text fill=\"#000000\" font-family=\"sans-serif\" font-size=\"12\" font-style=\"italic\" lengthAdjust=\"spacingAndGlyphs\" textLength=\"40\" x=\"522\" y=\"180.1387\">«part»</text><text fill=\"#000000\" font-family=\"sans-serif\" font-size=\"12\" lengthAdjust=\"spacingAndGlyphs\" textLength=\"172\" x=\"456\" y=\"194.1074\">selectedAlternative: Engine</text><line style=\"stroke: #A80036; stroke-width: 1.5;\" x1=\"454\" x2=\"630\" y1=\"201.9375\" y2=\"201.9375\"/></a><!--MD5=[05d275557350bfb9b23a4ef7222b4c39]\n",
       "link E3 to E2--><a href=\"psysml:8801a447-7348-4a45-a550-3876c92a8627\" target=\"_top\" title=\"psysml:8801a447-7348-4a45-a550-3876c92a8627\" xlink:actuate=\"onRequest\" xlink:href=\"psysml:8801a447-7348-4a45-a550-3876c92a8627\" xlink:show=\"new\" xlink:title=\"psysml:8801a447-7348-4a45-a550-3876c92a8627\" xlink:type=\"simple\"><path d=\"M814.37,210.01 C775.74,227.49 721.88,251.87 682.52,269.68 \" fill=\"none\" id=\"E3-&gt;E2\" style=\"stroke: #A80036; stroke-width: 1.0;\"/><polygon fill=\"#FFFFFF\" points=\"664.23,277.96,678.6446,263.7397,684.4251,276.4906,664.23,277.96\" style=\"stroke: #A80036; stroke-width: 1.0;\"/><ellipse cx=\"684.6619\" cy=\"263.2078\" fill=\"#A80036\" rx=\"2\" ry=\"2\" style=\"stroke: #A80036; stroke-width: 1.0;\"/><ellipse cx=\"688.7908\" cy=\"272.3156\" fill=\"#A80036\" rx=\"2\" ry=\"2\" style=\"stroke: #A80036; stroke-width: 1.0;\"/></a><!--MD5=[185131fc0dcab0a4505a2ebe144e961b]\n",
       "link E4 to E2--><a href=\"psysml:b9350b5a-5d8f-4ac9-a55f-8ba2d0a1e030\" target=\"_top\" title=\"psysml:b9350b5a-5d8f-4ac9-a55f-8ba2d0a1e030\" xlink:actuate=\"onRequest\" xlink:href=\"psysml:b9350b5a-5d8f-4ac9-a55f-8ba2d0a1e030\" xlink:show=\"new\" xlink:title=\"psysml:b9350b5a-5d8f-4ac9-a55f-8ba2d0a1e030\" xlink:type=\"simple\"><path d=\"M701.34,210.01 C690.26,223.08 675.91,240.01 663.06,255.17 \" fill=\"none\" id=\"E4-&gt;E2\" style=\"stroke: #A80036; stroke-width: 1.0;\"/><polygon fill=\"#FFFFFF\" points=\"649.94,270.66,656.8931,251.6428,667.5691,260.6994,649.94,270.66\" style=\"stroke: #A80036; stroke-width: 1.0;\"/><ellipse cx=\"662.1056\" cy=\"248.5899\" fill=\"#A80036\" rx=\"2\" ry=\"2\" style=\"stroke: #A80036; stroke-width: 1.0;\"/><ellipse cx=\"669.7313\" cy=\"255.059\" fill=\"#A80036\" rx=\"2\" ry=\"2\" style=\"stroke: #A80036; stroke-width: 1.0;\"/></a><!--MD5=[15ebcb19ae302d9b601edb458606d402]\n",
       "link E5 to E2--><a href=\"psysml:ecc21de6-0c62-41d5-be03-95573cca647a\" target=\"_top\" title=\"psysml:ecc21de6-0c62-41d5-be03-95573cca647a\" xlink:actuate=\"onRequest\" xlink:href=\"psysml:ecc21de6-0c62-41d5-be03-95573cca647a\" xlink:show=\"new\" xlink:title=\"psysml:ecc21de6-0c62-41d5-be03-95573cca647a\" xlink:type=\"simple\"><path d=\"M211.44,87.03 C135.05,111.81 38.38,155.76 85,210 C150.98,286.77 479.56,293.36 592.67,293.32 \" fill=\"none\" id=\"E5-&gt;E2\" style=\"stroke: #A80036; stroke-width: 1.0; stroke-dasharray: 7.0,7.0;\"/><polygon fill=\"#A80036\" points=\"597.89,293.31,588.89,289.31,592.89,293.31,588.89,297.31,597.89,293.31\" style=\"stroke: #A80036; stroke-width: 1.0;\"/><text fill=\"#000000\" font-family=\"sans-serif\" font-size=\"13\" lengthAdjust=\"spacingAndGlyphs\" textLength=\"62\" x=\"86\" y=\"191.5669\">«subject»</text></a><!--MD5=[9120cf2e5df3bff93db8f754bbbc09b4]\n",
       "link E5 to E6--><a href=\"psysml:fcf6c150-3866-4336-9e66-2e65ffb041aa\" target=\"_top\" title=\"psysml:fcf6c150-3866-4336-9e66-2e65ffb041aa\" xlink:actuate=\"onRequest\" xlink:href=\"psysml:fcf6c150-3866-4336-9e66-2e65ffb041aa\" xlink:show=\"new\" xlink:title=\"psysml:fcf6c150-3866-4336-9e66-2e65ffb041aa\" xlink:type=\"simple\"><path d=\"M292,87.19 C292,106.47 292,134.55 292,155.86 \" fill=\"none\" id=\"E5-&gt;E6\" style=\"stroke: #A80036; stroke-width: 1.0;\"/><polygon fill=\"#A80036\" points=\"292,163.95,295,155.95,289,155.95,292,163.95\" style=\"stroke: #A80036; stroke-width: 1.0;\"/><text fill=\"#000000\" font-family=\"sans-serif\" font-size=\"13\" lengthAdjust=\"spacingAndGlyphs\" textLength=\"73\" x=\"293\" y=\"130.0669\">«objective»</text></a><!--MD5=[452b418e7f8a40397a49b8c0a78acc5b]\n",
       "reverse link E5 to E7--><a href=\"psysml:afcc773f-3f6f-47e3-9b17-c2b1fd7bbdc3\" target=\"_top\" title=\"psysml:afcc773f-3f6f-47e3-9b17-c2b1fd7bbdc3\" xlink:actuate=\"onRequest\" xlink:href=\"psysml:afcc773f-3f6f-47e3-9b17-c2b1fd7bbdc3\" xlink:show=\"new\" xlink:title=\"psysml:afcc773f-3f6f-47e3-9b17-c2b1fd7bbdc3\" xlink:type=\"simple\"><path d=\"M349.39,92.78 C393.99,114.36 455.01,143.9 496.33,163.89 \" fill=\"none\" id=\"E5&lt;-E7\" style=\"stroke: #A80036; stroke-width: 1.0;\"/><polygon fill=\"#FFFFFF\" points=\"337.56,87.05,341.2143,93.2666,348.3582,92.2843,344.7039,86.0677,337.56,87.05\" style=\"stroke: #A80036; stroke-width: 1.0;\"/><text fill=\"#000000\" font-family=\"sans-serif\" font-size=\"13\" lengthAdjust=\"spacingAndGlyphs\" textLength=\"8\" x=\"474.9812\" y=\"152.7567\">1</text></a><!--MD5=[583832df87f4419a098336a29a52fa00]\n",
       "link E7 to E2--><a href=\"psysml:09d901e9-14a1-4a34-80ae-448f8674b33c\" target=\"_top\" title=\"psysml:09d901e9-14a1-4a34-80ae-448f8674b33c\" xlink:actuate=\"onRequest\" xlink:href=\"psysml:09d901e9-14a1-4a34-80ae-448f8674b33c\" xlink:show=\"new\" xlink:title=\"psysml:09d901e9-14a1-4a34-80ae-448f8674b33c\" xlink:type=\"simple\"><path d=\"M560.66,210.01 C571.74,223.08 586.09,240.01 598.94,255.17 \" fill=\"none\" id=\"E7-&gt;E2\" style=\"stroke: #A80036; stroke-width: 1.0;\"/><polygon fill=\"#FFFFFF\" points=\"612.06,270.66,594.4309,260.6994,605.1069,251.6428,612.06,270.66\" style=\"stroke: #A80036; stroke-width: 1.0;\"/><ellipse cx=\"592.2687\" cy=\"255.059\" fill=\"#A80036\" rx=\"2\" ry=\"2\" style=\"stroke: #A80036; stroke-width: 1.0;\"/><ellipse cx=\"599.8944\" cy=\"248.5899\" fill=\"#A80036\" rx=\"2\" ry=\"2\" style=\"stroke: #A80036; stroke-width: 1.0;\"/></a><!--MD5=[5448335883ce5449ecc688d8c3d526bb]\n",
       "@startuml\r\n",
       "skinparam wrapWidth 300\r\n",
       "hide circle\r\n",
       "\r\n",
       "package \"TradeStudyTest\" as E1  [[psysml:0d92d0af-a8c4-487d-a88b-e96d8d162758 ]]  {\r\n",
       "comp def \"Engine\" as E2  <<(T,blue) part def>> [[psysml:90b379af-84e4-4b51-bcba-9b20024a2d1f ]] {\r\n",
       "}\r\n",
       "comp usage \"engine1: Engine\" as E3  <<(T,blue) part>> [[psysml:1fe04244-3a7b-4d3a-93e0-0fd9f61a7cea ]] {\r\n",
       "}\r\n",
       "comp usage \"engine2: Engine\" as E4  <<(T,blue) part>> [[psysml:07207da4-9c20-4091-a953-293a54d08950 ]] {\r\n",
       "}\r\n",
       "comp usage \"engineTradeStudy: TradeStudy\" as E5 << analysis>> [[psysml:c0123459-da5a-4fa7-ba13-511d4e5fcdf0 ]] {\r\n",
       "}\r\n",
       "comp usage \"tradeStudyObjective: MaximizeObjective\" as E6  <<(T,blue) requirement>> [[psysml:d3ca6a29-f1f6-48ae-8677-7ec75b0f5c21 ]] {\r\n",
       "}\r\n",
       "comp usage \"selectedAlternative: Engine\" as E7  <<(T,blue) part>> [[psysml:7894e875-c3b4-453b-9dc9-b899c04487e6 ]] {\r\n",
       "}\r\n",
       "E3 - -:|> E2 [[psysml:8801a447-7348-4a45-a550-3876c92a8627 ]] \r\n",
       "E4 - -:|> E2 [[psysml:b9350b5a-5d8f-4ac9-a55f-8ba2d0a1e030 ]] \r\n",
       "E5 ..> E2 [[psysml:ecc21de6-0c62-41d5-be03-95573cca647a ]] : <<subject>>\r\n",
       "E5 - ->> E6 [[psysml:fcf6c150-3866-4336-9e66-2e65ffb041aa ]] : <<objective>>\r\n",
       "E5 o- - \"1\"E7 [[psysml:afcc773f-3f6f-47e3-9b17-c2b1fd7bbdc3 ]] \r\n",
       "E7 - -:|> E2 [[psysml:09d901e9-14a1-4a34-80ae-448f8674b33c ]] \r\n",
       "}\r\n",
       "@enduml\r\n",
       "\n",
       "PlantUML version 1.2020.13(Sat Jun 13 12:26:38 UTC 2020)\n",
       "(EPL source distribution)\n",
       "Java Runtime: OpenJDK Runtime Environment\n",
       "JVM: OpenJDK 64-Bit Server VM\n",
       "Default Encoding: UTF-8\n",
       "Language: en\n",
       "Country: null\n",
       "--></g></svg>"
      ]
     },
     "execution_count": 28,
     "metadata": {},
     "output_type": "execute_result"
    }
   ],
   "source": [
    "%viz --style=\"STDCOLOR\" --view=\"Sequence\" \"TradeStudyTest\""
   ]
  },
  {
   "cell_type": "code",
   "execution_count": 29,
   "id": "e371ffcf",
   "metadata": {
    "execution": {
     "iopub.execute_input": "2021-08-04T06:27:39.853261Z",
     "iopub.status.busy": "2021-08-04T06:27:39.853020Z",
     "iopub.status.idle": "2021-08-04T06:27:39.886046Z",
     "shell.execute_reply": "2021-08-04T06:27:39.885315Z"
    }
   },
   "outputs": [
    {
     "data": {
      "image/svg+xml": [
       "<?xml version=\"1.0\" encoding=\"UTF-8\" standalone=\"no\"?><svg xmlns=\"http://www.w3.org/2000/svg\" xmlns:xlink=\"http://www.w3.org/1999/xlink\" contentScriptType=\"application/ecmascript\" contentStyleType=\"text/css\" height=\"497px\" preserveAspectRatio=\"none\" style=\"width:556px;height:497px;\" version=\"1.1\" viewBox=\"0 0 556 497\" width=\"556px\" zoomAndPan=\"magnify\"><defs><filter height=\"300%\" id=\"f1qdq759jq4g8i\" width=\"300%\" x=\"-1\" y=\"-1\"><feGaussianBlur result=\"blurOut\" stdDeviation=\"2.0\"/><feColorMatrix in=\"blurOut\" result=\"blurOut2\" type=\"matrix\" values=\"0 0 0 0 0 0 0 0 0 0 0 0 0 0 0 0 0 0 .4 0\"/><feOffset dx=\"4.0\" dy=\"4.0\" in=\"blurOut2\" result=\"blurOut3\"/><feBlend in=\"SourceGraphic\" in2=\"blurOut3\" mode=\"normal\"/></filter></defs><g><!--MD5=[fbc87193dbaf4d95561dea2c320d4a47]\n",
       "cluster E1--><a href=\"psysml:0d92d0af-a8c4-487d-a88b-e96d8d162758\" target=\"_top\" title=\"psysml:0d92d0af-a8c4-487d-a88b-e96d8d162758\" xlink:actuate=\"onRequest\" xlink:href=\"psysml:0d92d0af-a8c4-487d-a88b-e96d8d162758\" xlink:show=\"new\" xlink:title=\"psysml:0d92d0af-a8c4-487d-a88b-e96d8d162758\" xlink:type=\"simple\"><polygon fill=\"#FFFFFF\" filter=\"url(#f1qdq759jq4g8i)\" points=\"18.32,6,150.32,6,157.32,28.2969,534.32,28.2969,534.32,485,18.32,485,18.32,6\" style=\"stroke: #000000; stroke-width: 1.5;\"/><line style=\"stroke: #000000; stroke-width: 1.5;\" x1=\"18.32\" x2=\"157.32\" y1=\"28.2969\" y2=\"28.2969\"/><text fill=\"#000000\" font-family=\"sans-serif\" font-size=\"14\" font-weight=\"bold\" lengthAdjust=\"spacingAndGlyphs\" textLength=\"126\" x=\"22.32\" y=\"20.9951\">TradeStudyTest</text></a><!--MD5=[b4997ac47864f28c2f74865a473b2911]\n",
       "class E2--><a href=\"psysml:90b379af-84e4-4b51-bcba-9b20024a2d1f\" target=\"_top\" title=\"psysml:90b379af-84e4-4b51-bcba-9b20024a2d1f\" xlink:actuate=\"onRequest\" xlink:href=\"psysml:90b379af-84e4-4b51-bcba-9b20024a2d1f\" xlink:show=\"new\" xlink:title=\"psysml:90b379af-84e4-4b51-bcba-9b20024a2d1f\" xlink:type=\"simple\"><rect fill=\"#FEFECE\" filter=\"url(#f1qdq759jq4g8i)\" height=\"45.9375\" id=\"E2\" style=\"stroke: #A80036; stroke-width: 1.5;\" width=\"66\" x=\"198.32\" y=\"423\"/><text fill=\"#000000\" font-family=\"sans-serif\" font-size=\"12\" font-style=\"italic\" lengthAdjust=\"spacingAndGlyphs\" textLength=\"64\" x=\"199.32\" y=\"439.1387\">«part def»</text><text fill=\"#000000\" font-family=\"sans-serif\" font-size=\"12\" lengthAdjust=\"spacingAndGlyphs\" textLength=\"43\" x=\"209.82\" y=\"453.1074\">Engine</text><line style=\"stroke: #A80036; stroke-width: 1.5;\" x1=\"199.32\" x2=\"263.32\" y1=\"460.9375\" y2=\"460.9375\"/></a><!--MD5=[09b614a08d8cba4a07c9adeb5e0fee81]\n",
       "class E3--><a href=\"psysml:1fe04244-3a7b-4d3a-93e0-0fd9f61a7cea\" target=\"_top\" title=\"psysml:1fe04244-3a7b-4d3a-93e0-0fd9f61a7cea\" xlink:actuate=\"onRequest\" xlink:href=\"psysml:1fe04244-3a7b-4d3a-93e0-0fd9f61a7cea\" xlink:show=\"new\" xlink:title=\"psysml:1fe04244-3a7b-4d3a-93e0-0fd9f61a7cea\" xlink:type=\"simple\"><rect fill=\"#FEFECE\" filter=\"url(#f1qdq759jq4g8i)\" height=\"45.9375\" id=\"E3\" rx=\"10\" ry=\"10\" style=\"stroke: #A80036; stroke-width: 1.5;\" width=\"108\" x=\"410.32\" y=\"316\"/><text fill=\"#000000\" font-family=\"sans-serif\" font-size=\"12\" font-style=\"italic\" lengthAdjust=\"spacingAndGlyphs\" textLength=\"40\" x=\"444.32\" y=\"332.1387\">«part»</text><text fill=\"#000000\" font-family=\"sans-serif\" font-size=\"12\" lengthAdjust=\"spacingAndGlyphs\" textLength=\"102\" x=\"413.32\" y=\"346.1074\">engine1: Engine</text><line style=\"stroke: #A80036; stroke-width: 1.5;\" x1=\"411.32\" x2=\"517.32\" y1=\"353.9375\" y2=\"353.9375\"/></a><!--MD5=[ebbe1d658d1005bcc118a6aa81145e00]\n",
       "class E4--><a href=\"psysml:07207da4-9c20-4091-a953-293a54d08950\" target=\"_top\" title=\"psysml:07207da4-9c20-4091-a953-293a54d08950\" xlink:actuate=\"onRequest\" xlink:href=\"psysml:07207da4-9c20-4091-a953-293a54d08950\" xlink:show=\"new\" xlink:title=\"psysml:07207da4-9c20-4091-a953-293a54d08950\" xlink:type=\"simple\"><rect fill=\"#FEFECE\" filter=\"url(#f1qdq759jq4g8i)\" height=\"45.9375\" id=\"E4\" rx=\"10\" ry=\"10\" style=\"stroke: #A80036; stroke-width: 1.5;\" width=\"108\" x=\"267.32\" y=\"316\"/><text fill=\"#000000\" font-family=\"sans-serif\" font-size=\"12\" font-style=\"italic\" lengthAdjust=\"spacingAndGlyphs\" textLength=\"40\" x=\"301.32\" y=\"332.1387\">«part»</text><text fill=\"#000000\" font-family=\"sans-serif\" font-size=\"12\" lengthAdjust=\"spacingAndGlyphs\" textLength=\"102\" x=\"270.32\" y=\"346.1074\">engine2: Engine</text><line style=\"stroke: #A80036; stroke-width: 1.5;\" x1=\"268.32\" x2=\"374.32\" y1=\"353.9375\" y2=\"353.9375\"/></a><!--MD5=[270fce915f116d4de14055a7c1d9a0f3]\n",
       "class E5--><a href=\"psysml:c0123459-da5a-4fa7-ba13-511d4e5fcdf0\" target=\"_top\" title=\"psysml:c0123459-da5a-4fa7-ba13-511d4e5fcdf0\" xlink:actuate=\"onRequest\" xlink:href=\"psysml:c0123459-da5a-4fa7-ba13-511d4e5fcdf0\" xlink:show=\"new\" xlink:title=\"psysml:c0123459-da5a-4fa7-ba13-511d4e5fcdf0\" xlink:type=\"simple\"><rect fill=\"#FEFECE\" filter=\"url(#f1qdq759jq4g8i)\" height=\"45.9375\" id=\"E5\" rx=\"10\" ry=\"10\" style=\"stroke: #A80036; stroke-width: 1.5;\" width=\"199\" x=\"239.82\" y=\"41\"/><text fill=\"#000000\" font-family=\"sans-serif\" font-size=\"12\" font-style=\"italic\" lengthAdjust=\"spacingAndGlyphs\" textLength=\"64\" x=\"307.32\" y=\"57.1387\">«analysis»</text><text fill=\"#000000\" font-family=\"sans-serif\" font-size=\"12\" lengthAdjust=\"spacingAndGlyphs\" textLength=\"193\" x=\"242.82\" y=\"71.1074\">engineTradeStudy: TradeStudy</text><line style=\"stroke: #A80036; stroke-width: 1.5;\" x1=\"240.82\" x2=\"437.82\" y1=\"78.9375\" y2=\"78.9375\"/></a><!--MD5=[60a26617385b1d2d0262a64233df1f8d]\n",
       "class E6--><a href=\"psysml:d3ca6a29-f1f6-48ae-8677-7ec75b0f5c21\" target=\"_top\" title=\"psysml:d3ca6a29-f1f6-48ae-8677-7ec75b0f5c21\" xlink:actuate=\"onRequest\" xlink:href=\"psysml:d3ca6a29-f1f6-48ae-8677-7ec75b0f5c21\" xlink:show=\"new\" xlink:title=\"psysml:d3ca6a29-f1f6-48ae-8677-7ec75b0f5c21\" xlink:type=\"simple\"><rect fill=\"#FEFECE\" filter=\"url(#f1qdq759jq4g8i)\" height=\"45.9375\" id=\"E6\" rx=\"10\" ry=\"10\" style=\"stroke: #A80036; stroke-width: 1.5;\" width=\"251\" x=\"78.82\" y=\"164\"/><text fill=\"#000000\" font-family=\"sans-serif\" font-size=\"12\" font-style=\"italic\" lengthAdjust=\"spacingAndGlyphs\" textLength=\"91\" x=\"158.82\" y=\"180.1387\">«requirement»</text><text fill=\"#000000\" font-family=\"sans-serif\" font-size=\"12\" lengthAdjust=\"spacingAndGlyphs\" textLength=\"245\" x=\"81.82\" y=\"194.1074\">tradeStudyObjective: MaximizeObjective</text><line style=\"stroke: #A80036; stroke-width: 1.5;\" x1=\"79.82\" x2=\"328.82\" y1=\"201.9375\" y2=\"201.9375\"/></a><!--MD5=[2156ba9850f5573cc1fc38a6a4b2f02b]\n",
       "class E7--><a href=\"psysml:f099413c-f817-477f-a757-2c07f6450928\" target=\"_top\" title=\"psysml:f099413c-f817-477f-a757-2c07f6450928\" xlink:actuate=\"onRequest\" xlink:href=\"psysml:f099413c-f817-477f-a757-2c07f6450928\" xlink:show=\"new\" xlink:title=\"psysml:f099413c-f817-477f-a757-2c07f6450928\" xlink:type=\"simple\"><rect fill=\"#FEFECE\" filter=\"url(#f1qdq759jq4g8i)\" height=\"45.9375\" id=\"E7\" rx=\"10\" ry=\"10\" style=\"stroke: #A80036; stroke-width: 1.5;\" width=\"116\" x=\"365.32\" y=\"164\"/><text fill=\"#000000\" font-family=\"sans-serif\" font-size=\"12\" font-style=\"italic\" lengthAdjust=\"spacingAndGlyphs\" textLength=\"82\" x=\"382.32\" y=\"180.1387\">«calculation»</text><text fill=\"#000000\" font-family=\"sans-serif\" font-size=\"12\" lengthAdjust=\"spacingAndGlyphs\" textLength=\"110\" x=\"368.32\" y=\"194.1074\">objectiveFunction</text><line style=\"stroke: #A80036; stroke-width: 1.5;\" x1=\"366.32\" x2=\"480.32\" y1=\"201.9375\" y2=\"201.9375\"/></a><!--MD5=[b9389687b975829384b498ac4b7476b2]\n",
       "class E8--><a href=\"psysml:26f566d1-080d-4e4d-ba32-38c38fdc0bde\" target=\"_top\" title=\"psysml:26f566d1-080d-4e4d-ba32-38c38fdc0bde\" xlink:actuate=\"onRequest\" xlink:href=\"psysml:26f566d1-080d-4e4d-ba32-38c38fdc0bde\" xlink:show=\"new\" xlink:title=\"psysml:26f566d1-080d-4e4d-ba32-38c38fdc0bde\" xlink:type=\"simple\"><rect fill=\"#FEFECE\" filter=\"url(#f1qdq759jq4g8i)\" height=\"45.9375\" id=\"E8\" rx=\"10\" ry=\"10\" style=\"stroke: #A80036; stroke-width: 1.5;\" width=\"124\" x=\"71.32\" y=\"316\"/><text fill=\"#000000\" font-family=\"sans-serif\" font-size=\"12\" font-style=\"italic\" lengthAdjust=\"spacingAndGlyphs\" textLength=\"40\" x=\"113.32\" y=\"332.1387\">«part»</text><text fill=\"#000000\" font-family=\"sans-serif\" font-size=\"12\" lengthAdjust=\"spacingAndGlyphs\" textLength=\"118\" x=\"74.32\" y=\"346.1074\">alternative: Engine</text><line style=\"stroke: #A80036; stroke-width: 1.5;\" x1=\"72.32\" x2=\"194.32\" y1=\"353.9375\" y2=\"353.9375\"/></a><!--MD5=[fd4143e9d270a159db93a4ea2a975926]\n",
       "class E9--><a href=\"psysml:7894e875-c3b4-453b-9dc9-b899c04487e6\" target=\"_top\" title=\"psysml:7894e875-c3b4-453b-9dc9-b899c04487e6\" xlink:actuate=\"onRequest\" xlink:href=\"psysml:7894e875-c3b4-453b-9dc9-b899c04487e6\" xlink:show=\"new\" xlink:title=\"psysml:7894e875-c3b4-453b-9dc9-b899c04487e6\" xlink:type=\"simple\"><rect fill=\"#FEFECE\" filter=\"url(#f1qdq759jq4g8i)\" height=\"45.9375\" id=\"E9\" rx=\"10\" ry=\"10\" style=\"stroke: #A80036; stroke-width: 1.5;\" width=\"178\" x=\"291.32\" y=\"240\"/><text fill=\"#000000\" font-family=\"sans-serif\" font-size=\"12\" font-style=\"italic\" lengthAdjust=\"spacingAndGlyphs\" textLength=\"40\" x=\"360.32\" y=\"256.1387\">«part»</text><text fill=\"#000000\" font-family=\"sans-serif\" font-size=\"12\" lengthAdjust=\"spacingAndGlyphs\" textLength=\"172\" x=\"294.32\" y=\"270.1074\">selectedAlternative: Engine</text><line style=\"stroke: #A80036; stroke-width: 1.5;\" x1=\"292.32\" x2=\"468.32\" y1=\"277.9375\" y2=\"277.9375\"/></a><!--MD5=[05d275557350bfb9b23a4ef7222b4c39]\n",
       "link E3 to E2--><a href=\"psysml:8801a447-7348-4a45-a550-3876c92a8627\" target=\"_top\" title=\"psysml:8801a447-7348-4a45-a550-3876c92a8627\" xlink:actuate=\"onRequest\" xlink:href=\"psysml:8801a447-7348-4a45-a550-3876c92a8627\" xlink:show=\"new\" xlink:title=\"psysml:8801a447-7348-4a45-a550-3876c92a8627\" xlink:type=\"simple\"><path d=\"M415.48,362.01 C376.57,379.54 322.27,404.01 282.71,421.84 \" fill=\"none\" id=\"E3-&gt;E2\" style=\"stroke: #A80036; stroke-width: 1.0;\"/><polygon fill=\"#FFFFFF\" points=\"264.34,430.12,278.7866,415.9321,284.5383,428.696,264.34,430.12\" style=\"stroke: #A80036; stroke-width: 1.0;\"/><ellipse cx=\"284.805\" cy=\"415.4137\" fill=\"#A80036\" rx=\"2\" ry=\"2\" style=\"stroke: #A80036; stroke-width: 1.0;\"/><ellipse cx=\"288.9134\" cy=\"424.5308\" fill=\"#A80036\" rx=\"2\" ry=\"2\" style=\"stroke: #A80036; stroke-width: 1.0;\"/></a><!--MD5=[185131fc0dcab0a4505a2ebe144e961b]\n",
       "link E4 to E2--><a href=\"psysml:b9350b5a-5d8f-4ac9-a55f-8ba2d0a1e030\" target=\"_top\" title=\"psysml:b9350b5a-5d8f-4ac9-a55f-8ba2d0a1e030\" xlink:actuate=\"onRequest\" xlink:href=\"psysml:b9350b5a-5d8f-4ac9-a55f-8ba2d0a1e030\" xlink:show=\"new\" xlink:title=\"psysml:b9350b5a-5d8f-4ac9-a55f-8ba2d0a1e030\" xlink:type=\"simple\"><path d=\"M302.45,362.01 C291.25,375.08 276.74,392.01 263.74,407.17 \" fill=\"none\" id=\"E4-&gt;E2\" style=\"stroke: #A80036; stroke-width: 1.0;\"/><polygon fill=\"#FFFFFF\" points=\"250.47,422.66,257.5188,403.678,268.1491,412.7883,250.47,422.66\" style=\"stroke: #A80036; stroke-width: 1.0;\"/><ellipse cx=\"262.7466\" cy=\"400.6515\" fill=\"#A80036\" rx=\"2\" ry=\"2\" style=\"stroke: #A80036; stroke-width: 1.0;\"/><ellipse cx=\"270.3396\" cy=\"407.1588\" fill=\"#A80036\" rx=\"2\" ry=\"2\" style=\"stroke: #A80036; stroke-width: 1.0;\"/></a><!--MD5=[15ebcb19ae302d9b601edb458606d402]\n",
       "link E5 to E2--><a href=\"psysml:ecc21de6-0c62-41d5-be03-95573cca647a\" target=\"_top\" title=\"psysml:ecc21de6-0c62-41d5-be03-95573cca647a\" xlink:actuate=\"onRequest\" xlink:href=\"psysml:ecc21de6-0c62-41d5-be03-95573cca647a\" xlink:show=\"new\" xlink:title=\"psysml:ecc21de6-0c62-41d5-be03-95573cca647a\" xlink:type=\"simple\"><path d=\"M239.76,73.22 C177.99,83.96 102.74,108.45 61.32,164 C8.68,234.61 6,287.72 53.32,362 C83.95,410.08 150.5,430.76 192.99,439.32 \" fill=\"none\" id=\"E5-&gt;E2\" style=\"stroke: #A80036; stroke-width: 1.0; stroke-dasharray: 7.0,7.0;\"/><polygon fill=\"#A80036\" points=\"198.04,440.31,189.9738,434.6588,193.1327,439.3514,188.4401,442.5104,198.04,440.31\" style=\"stroke: #A80036; stroke-width: 1.0;\"/><text fill=\"#000000\" font-family=\"sans-serif\" font-size=\"13\" lengthAdjust=\"spacingAndGlyphs\" textLength=\"62\" x=\"24.32\" y=\"267.5669\">«subject»</text></a><!--MD5=[9120cf2e5df3bff93db8f754bbbc09b4]\n",
       "link E5 to E6--><a href=\"psysml:fcf6c150-3866-4336-9e66-2e65ffb041aa\" target=\"_top\" title=\"psysml:fcf6c150-3866-4336-9e66-2e65ffb041aa\" xlink:actuate=\"onRequest\" xlink:href=\"psysml:fcf6c150-3866-4336-9e66-2e65ffb041aa\" xlink:show=\"new\" xlink:title=\"psysml:fcf6c150-3866-4336-9e66-2e65ffb041aa\" xlink:type=\"simple\"><path d=\"M314.56,87.19 C292.2,107.23 259.21,136.8 235.15,158.37 \" fill=\"none\" id=\"E5-&gt;E6\" style=\"stroke: #A80036; stroke-width: 1.0;\"/><polygon fill=\"#A80036\" points=\"228.92,163.95,236.8786,160.8419,232.8725,156.3752,228.92,163.95\" style=\"stroke: #A80036; stroke-width: 1.0;\"/><text fill=\"#000000\" font-family=\"sans-serif\" font-size=\"13\" lengthAdjust=\"spacingAndGlyphs\" textLength=\"73\" x=\"280.32\" y=\"130.0669\">«objective»</text></a><!--MD5=[452b418e7f8a40397a49b8c0a78acc5b]\n",
       "reverse link E5 to E7--><a href=\"psysml:a988c065-f70c-4bb4-ab6a-fca08357bc4a\" target=\"_top\" title=\"psysml:a988c065-f70c-4bb4-ab6a-fca08357bc4a\" xlink:actuate=\"onRequest\" xlink:href=\"psysml:a988c065-f70c-4bb4-ab6a-fca08357bc4a\" xlink:show=\"new\" xlink:title=\"psysml:a988c065-f70c-4bb4-ab6a-fca08357bc4a\" xlink:type=\"simple\"><path d=\"M362.14,97.88 C376.71,118.86 395.19,145.48 408.01,163.95 \" fill=\"none\" id=\"E5&lt;-E7\" style=\"stroke: #A80036; stroke-width: 1.0;\"/><polygon fill=\"#A80036\" points=\"354.73,87.19,354.864,94.3999,361.5708,97.0492,361.4368,89.8393,354.73,87.19\" style=\"stroke: #A80036; stroke-width: 1.0;\"/></a><!--MD5=[dc164f5e8a733ab456ef1add180e9e34]\n",
       "reverse link E7 to E8--><a href=\"psysml:4295af6e-acd7-489b-9191-c25409e1351b\" target=\"_top\" title=\"psysml:4295af6e-acd7-489b-9191-c25409e1351b\" xlink:actuate=\"onRequest\" xlink:href=\"psysml:4295af6e-acd7-489b-9191-c25409e1351b\" xlink:show=\"new\" xlink:title=\"psysml:4295af6e-acd7-489b-9191-c25409e1351b\" xlink:type=\"simple\"><path d=\"M352.67,208.29 C327.33,216.69 298.96,227.44 274.32,240 C231.96,261.6 187.65,294.33 160.26,315.93 \" fill=\"none\" id=\"E7&lt;-E8\" style=\"stroke: #A80036; stroke-width: 1.0;\"/><polygon fill=\"#FFFFFF\" points=\"365.22,204.24,358.2818,202.2749,353.7994,207.9236,360.7376,209.8887,365.22,204.24\" style=\"stroke: #A80036; stroke-width: 1.0;\"/><text fill=\"#000000\" font-family=\"sans-serif\" font-size=\"13\" lengthAdjust=\"spacingAndGlyphs\" textLength=\"8\" x=\"158.4251\" y=\"304.8075\">1</text></a><!--MD5=[f1f3f9f2fc535e6147756cb86a7f2e32]\n",
       "link E8 to E2--><a href=\"psysml:aed7fba6-fc0e-4a29-a473-c7d943b57344\" target=\"_top\" title=\"psysml:aed7fba6-fc0e-4a29-a473-c7d943b57344\" xlink:actuate=\"onRequest\" xlink:href=\"psysml:aed7fba6-fc0e-4a29-a473-c7d943b57344\" xlink:show=\"new\" xlink:title=\"psysml:aed7fba6-fc0e-4a29-a473-c7d943b57344\" xlink:type=\"simple\"><path d=\"M153.86,362.01 C166.19,375.22 182.2,392.38 196.46,407.65 \" fill=\"none\" id=\"E8-&gt;E2\" style=\"stroke: #A80036; stroke-width: 1.0;\"/><polygon fill=\"#FFFFFF\" points=\"210.47,422.66,192.3921,413.5393,202.6305,403.9907,210.47,422.66\" style=\"stroke: #A80036; stroke-width: 1.0;\"/><ellipse cx=\"189.9671\" cy=\"408.0067\" fill=\"#A80036\" rx=\"2\" ry=\"2\" style=\"stroke: #A80036; stroke-width: 1.0;\"/><ellipse cx=\"197.2802\" cy=\"401.1863\" fill=\"#A80036\" rx=\"2\" ry=\"2\" style=\"stroke: #A80036; stroke-width: 1.0;\"/></a><!--MD5=[9ae28de373ca99bb8a1b38d63370ca7e]\n",
       "reverse link E5 to E9--><a href=\"psysml:afcc773f-3f6f-47e3-9b17-c2b1fd7bbdc3\" target=\"_top\" title=\"psysml:afcc773f-3f6f-47e3-9b17-c2b1fd7bbdc3\" xlink:actuate=\"onRequest\" xlink:href=\"psysml:afcc773f-3f6f-47e3-9b17-c2b1fd7bbdc3\" xlink:show=\"new\" xlink:title=\"psysml:afcc773f-3f6f-47e3-9b17-c2b1fd7bbdc3\" xlink:type=\"simple\"><path d=\"M416.08,92.77 C447.78,108.48 481.27,131.61 499.32,164 C509.27,181.86 510.51,192.89 499.32,210 C490.86,222.92 478.41,232.65 464.71,239.97 \" fill=\"none\" id=\"E5&lt;-E9\" style=\"stroke: #A80036; stroke-width: 1.0;\"/><polygon fill=\"#FFFFFF\" points=\"404.06,87.11,407.7814,93.2867,414.9142,92.2272,411.1928,86.0505,404.06,87.11\" style=\"stroke: #A80036; stroke-width: 1.0;\"/><text fill=\"#000000\" font-family=\"sans-serif\" font-size=\"13\" lengthAdjust=\"spacingAndGlyphs\" textLength=\"8\" x=\"477.3099\" y=\"229.2386\">1</text></a><!--MD5=[5c3bb36fe832a92c7f0e1807dd65209d]\n",
       "link E9 to E2--><a href=\"psysml:09d901e9-14a1-4a34-80ae-448f8674b33c\" target=\"_top\" title=\"psysml:09d901e9-14a1-4a34-80ae-448f8674b33c\" xlink:actuate=\"onRequest\" xlink:href=\"psysml:09d901e9-14a1-4a34-80ae-448f8674b33c\" xlink:show=\"new\" xlink:title=\"psysml:09d901e9-14a1-4a34-80ae-448f8674b33c\" xlink:type=\"simple\"><path d=\"M291.19,285.15 C275.57,292.56 260.94,302.55 250.32,316 C231.17,340.25 227.04,375.32 227.36,402.77 \" fill=\"none\" id=\"E9-&gt;E2\" style=\"stroke: #A80036; stroke-width: 1.0;\"/><polygon fill=\"#FFFFFF\" points=\"228.36,422.81,220.4186,404.1838,234.4011,403.4837,228.36,422.81\" style=\"stroke: #A80036; stroke-width: 1.0;\"/><ellipse cx=\"222.131\" cy=\"398.3909\" fill=\"#A80036\" rx=\"2\" ry=\"2\" style=\"stroke: #A80036; stroke-width: 1.0;\"/><ellipse cx=\"232.1185\" cy=\"397.8909\" fill=\"#A80036\" rx=\"2\" ry=\"2\" style=\"stroke: #A80036; stroke-width: 1.0;\"/></a><!--MD5=[6c248c57bc6983889e9de4463635974b]\n",
       "@startuml\r\n",
       "skinparam wrapWidth 300\r\n",
       "hide circle\r\n",
       "\r\n",
       "package \"TradeStudyTest\" as E1  [[psysml:0d92d0af-a8c4-487d-a88b-e96d8d162758 ]]  {\r\n",
       "comp def \"Engine\" as E2  <<(T,blue) part def>> [[psysml:90b379af-84e4-4b51-bcba-9b20024a2d1f ]] {\r\n",
       "}\r\n",
       "comp usage \"engine1: Engine\" as E3  <<(T,blue) part>> [[psysml:1fe04244-3a7b-4d3a-93e0-0fd9f61a7cea ]] {\r\n",
       "}\r\n",
       "comp usage \"engine2: Engine\" as E4  <<(T,blue) part>> [[psysml:07207da4-9c20-4091-a953-293a54d08950 ]] {\r\n",
       "}\r\n",
       "comp usage \"engineTradeStudy: TradeStudy\" as E5 << analysis>> [[psysml:c0123459-da5a-4fa7-ba13-511d4e5fcdf0 ]] {\r\n",
       "}\r\n",
       "comp usage \"tradeStudyObjective: MaximizeObjective\" as E6  <<(T,blue) requirement>> [[psysml:d3ca6a29-f1f6-48ae-8677-7ec75b0f5c21 ]] {\r\n",
       "}\r\n",
       "comp usage \"objectiveFunction\" as E7  <<(T,blue) calculation>> [[psysml:f099413c-f817-477f-a757-2c07f6450928 ]] {\r\n",
       "}\r\n",
       "comp usage \"alternative: Engine\" as E8  <<(T,blue) part>> [[psysml:26f566d1-080d-4e4d-ba32-38c38fdc0bde ]] {\r\n",
       "}\r\n",
       "comp usage \"selectedAlternative: Engine\" as E9  <<(T,blue) part>> [[psysml:7894e875-c3b4-453b-9dc9-b899c04487e6 ]] {\r\n",
       "}\r\n",
       "E3 - -:|> E2 [[psysml:8801a447-7348-4a45-a550-3876c92a8627 ]] \r\n",
       "E4 - -:|> E2 [[psysml:b9350b5a-5d8f-4ac9-a55f-8ba2d0a1e030 ]] \r\n",
       "E5 ..> E2 [[psysml:ecc21de6-0c62-41d5-be03-95573cca647a ]] : <<subject>>\r\n",
       "E5 - ->> E6 [[psysml:fcf6c150-3866-4336-9e66-2e65ffb041aa ]] : <<objective>>\r\n",
       "E5 *- - E7 [[psysml:a988c065-f70c-4bb4-ab6a-fca08357bc4a ]] \r\n",
       "E7 o- - \"1\"E8 [[psysml:4295af6e-acd7-489b-9191-c25409e1351b ]] \r\n",
       "E8 - -:|> E2 [[psysml:aed7fba6-fc0e-4a29-a473-c7d943b57344 ]] \r\n",
       "E5 o- - \"1\"E9 [[psysml:afcc773f-3f6f-47e3-9b17-c2b1fd7bbdc3 ]] \r\n",
       "E9 - -:|> E2 [[psysml:09d901e9-14a1-4a34-80ae-448f8674b33c ]] \r\n",
       "}\r\n",
       "@enduml\r\n",
       "\n",
       "PlantUML version 1.2020.13(Sat Jun 13 12:26:38 UTC 2020)\n",
       "(EPL source distribution)\n",
       "Java Runtime: OpenJDK Runtime Environment\n",
       "JVM: OpenJDK 64-Bit Server VM\n",
       "Default Encoding: UTF-8\n",
       "Language: en\n",
       "Country: null\n",
       "--></g></svg>"
      ]
     },
     "execution_count": 29,
     "metadata": {},
     "output_type": "execute_result"
    }
   ],
   "source": [
    "%viz --style=\"STDCOLOR\" --view=\"MIXED\" \"TradeStudyTest\""
   ]
  },
  {
   "cell_type": "code",
   "execution_count": 30,
   "id": "c130e1d2",
   "metadata": {
    "execution": {
     "iopub.execute_input": "2021-08-04T06:27:39.936250Z",
     "iopub.status.busy": "2021-08-04T06:27:39.935830Z",
     "iopub.status.idle": "2021-08-04T06:27:39.995445Z",
     "shell.execute_reply": "2021-08-04T06:27:39.993989Z"
    }
   },
   "outputs": [
    {
     "data": {
      "image/svg+xml": [
       "<?xml version=\"1.0\" encoding=\"UTF-8\" standalone=\"no\"?><svg xmlns=\"http://www.w3.org/2000/svg\" xmlns:xlink=\"http://www.w3.org/1999/xlink\" contentScriptType=\"application/ecmascript\" contentStyleType=\"text/css\" height=\"491px\" preserveAspectRatio=\"none\" style=\"width:636px;height:491px;\" version=\"1.1\" viewBox=\"0 0 636 491\" width=\"636px\" zoomAndPan=\"magnify\"><defs><filter height=\"300%\" id=\"fukm3plagxcq6\" width=\"300%\" x=\"-1\" y=\"-1\"><feGaussianBlur result=\"blurOut\" stdDeviation=\"2.0\"/><feColorMatrix in=\"blurOut\" result=\"blurOut2\" type=\"matrix\" values=\"0 0 0 0 0 0 0 0 0 0 0 0 0 0 0 0 0 0 .4 0\"/><feOffset dx=\"4.0\" dy=\"4.0\" in=\"blurOut2\" result=\"blurOut3\"/><feBlend in=\"SourceGraphic\" in2=\"blurOut3\" mode=\"normal\"/></filter></defs><g><!--MD5=[fbc87193dbaf4d95561dea2c320d4a47]\n",
       "cluster E1--><a href=\"psysml:0d92d0af-a8c4-487d-a88b-e96d8d162758\" target=\"_top\" title=\"psysml:0d92d0af-a8c4-487d-a88b-e96d8d162758\" xlink:actuate=\"onRequest\" xlink:href=\"psysml:0d92d0af-a8c4-487d-a88b-e96d8d162758\" xlink:show=\"new\" xlink:title=\"psysml:0d92d0af-a8c4-487d-a88b-e96d8d162758\" xlink:type=\"simple\"><polygon fill=\"#FFFFFF\" filter=\"url(#fukm3plagxcq6)\" points=\"20.2,6,152.2,6,159.2,28.2969,614.2,28.2969,614.2,479,20.2,479,20.2,6\" style=\"stroke: #000000; stroke-width: 1.5;\"/><line style=\"stroke: #000000; stroke-width: 1.5;\" x1=\"20.2\" x2=\"159.2\" y1=\"28.2969\" y2=\"28.2969\"/><text fill=\"#000000\" font-family=\"sans-serif\" font-size=\"14\" font-weight=\"bold\" lengthAdjust=\"spacingAndGlyphs\" textLength=\"126\" x=\"24.2\" y=\"20.9951\">TradeStudyTest</text></a><!--MD5=[b4997ac47864f28c2f74865a473b2911]\n",
       "class E2--><a href=\"psysml:90b379af-84e4-4b51-bcba-9b20024a2d1f\" target=\"_top\" title=\"psysml:90b379af-84e4-4b51-bcba-9b20024a2d1f\" xlink:actuate=\"onRequest\" xlink:href=\"psysml:90b379af-84e4-4b51-bcba-9b20024a2d1f\" xlink:show=\"new\" xlink:title=\"psysml:90b379af-84e4-4b51-bcba-9b20024a2d1f\" xlink:type=\"simple\"><rect fill=\"#FEFECE\" filter=\"url(#fukm3plagxcq6)\" height=\"40\" id=\"E2\" style=\"stroke: #A80036; stroke-width: 1.5;\" width=\"75\" x=\"221.7\" y=\"423\"/><ellipse cx=\"236.7\" cy=\"439\" fill=\"#008000\" rx=\"11\" ry=\"11\" style=\"stroke: #A80036; stroke-width: 1.0;\"/><path d=\"M235.6063,439.375 L235.6063,443.0469 L237.2313,443.0469 Q238.4031,443.0469 238.8719,442.6563 Q239.3406,442.25 239.3406,441.25 Q239.3406,440.25 238.8406,439.8125 Q238.3563,439.375 237.2313,439.375 L235.6063,439.375 Z M235.6063,434.5469 L235.6063,437.4219 L237.2313,437.4219 Q238.1531,437.4219 238.5438,437.0938 Q238.95,436.75 238.95,436 Q238.95,435.2344 238.5438,434.8906 Q238.1375,434.5469 237.2313,434.5469 L235.6063,434.5469 Z M233.2313,432.5938 L237.2313,432.5938 Q239.2938,432.5938 240.3406,433.375 Q241.3875,434.1563 241.3875,435.7188 Q241.3875,436.9219 240.7625,437.5938 Q240.1531,438.2656 238.9656,438.375 Q240.3875,438.5156 241.1063,439.3281 Q241.825,440.1406 241.825,441.5938 Q241.825,443.3906 240.7469,444.2031 Q239.6688,445 237.2313,445 L233.2313,445 L233.2313,432.5938 Z \"/><text fill=\"#000000\" font-family=\"sans-serif\" font-size=\"12\" lengthAdjust=\"spacingAndGlyphs\" textLength=\"43\" x=\"250.7\" y=\"443.1543\">Engine</text><line style=\"stroke: #A80036; stroke-width: 1.5;\" x1=\"222.7\" x2=\"295.7\" y1=\"455\" y2=\"455\"/></a><!--MD5=[09b614a08d8cba4a07c9adeb5e0fee81]\n",
       "class E3--><a href=\"psysml:1fe04244-3a7b-4d3a-93e0-0fd9f61a7cea\" target=\"_top\" title=\"psysml:1fe04244-3a7b-4d3a-93e0-0fd9f61a7cea\" xlink:actuate=\"onRequest\" xlink:href=\"psysml:1fe04244-3a7b-4d3a-93e0-0fd9f61a7cea\" xlink:show=\"new\" xlink:title=\"psysml:1fe04244-3a7b-4d3a-93e0-0fd9f61a7cea\" xlink:type=\"simple\"><rect fill=\"#FEFECE\" filter=\"url(#fukm3plagxcq6)\" height=\"45.9375\" id=\"E3\" rx=\"10\" ry=\"10\" style=\"stroke: #A80036; stroke-width: 1.5;\" width=\"134\" x=\"464.2\" y=\"316\"/><ellipse cx=\"479.2\" cy=\"334.9688\" fill=\"#32CD32\" rx=\"11\" ry=\"11\" style=\"stroke: #A80036; stroke-width: 1.0;\"/><path d=\"M478.9969,330.6406 L478.9969,334.2656 L479.9969,334.2656 Q481.2,334.2656 481.6844,333.8594 Q482.1688,333.4531 482.1688,332.4531 Q482.1688,331.4531 481.6844,331.0469 Q481.2,330.6406 479.9969,330.6406 L478.9969,330.6406 Z M476.5438,328.5781 L479.9031,328.5781 Q482.4656,328.5781 483.5906,329.5 Q484.7156,330.4063 484.7156,332.4531 Q484.7156,334.5 483.5906,335.4219 Q482.4656,336.3281 479.9031,336.3281 L478.9969,336.3281 L478.9969,340.9688 L476.5438,340.9688 L476.5438,328.5781 Z \"/><text fill=\"#000000\" font-family=\"sans-serif\" font-size=\"12\" font-style=\"italic\" lengthAdjust=\"spacingAndGlyphs\" textLength=\"40\" x=\"524.2\" y=\"332.1387\">«part»</text><text fill=\"#000000\" font-family=\"sans-serif\" font-size=\"12\" lengthAdjust=\"spacingAndGlyphs\" textLength=\"102\" x=\"493.2\" y=\"346.1074\">engine1: Engine</text><line style=\"stroke: #A80036; stroke-width: 1.5;\" x1=\"465.2\" x2=\"597.2\" y1=\"353.9375\" y2=\"353.9375\"/></a><!--MD5=[ebbe1d658d1005bcc118a6aa81145e00]\n",
       "class E4--><a href=\"psysml:07207da4-9c20-4091-a953-293a54d08950\" target=\"_top\" title=\"psysml:07207da4-9c20-4091-a953-293a54d08950\" xlink:actuate=\"onRequest\" xlink:href=\"psysml:07207da4-9c20-4091-a953-293a54d08950\" xlink:show=\"new\" xlink:title=\"psysml:07207da4-9c20-4091-a953-293a54d08950\" xlink:type=\"simple\"><rect fill=\"#FEFECE\" filter=\"url(#fukm3plagxcq6)\" height=\"45.9375\" id=\"E4\" rx=\"10\" ry=\"10\" style=\"stroke: #A80036; stroke-width: 1.5;\" width=\"134\" x=\"295.2\" y=\"316\"/><ellipse cx=\"310.2\" cy=\"334.9688\" fill=\"#32CD32\" rx=\"11\" ry=\"11\" style=\"stroke: #A80036; stroke-width: 1.0;\"/><path d=\"M309.9969,330.6406 L309.9969,334.2656 L310.9969,334.2656 Q312.2,334.2656 312.6844,333.8594 Q313.1688,333.4531 313.1688,332.4531 Q313.1688,331.4531 312.6844,331.0469 Q312.2,330.6406 310.9969,330.6406 L309.9969,330.6406 Z M307.5438,328.5781 L310.9031,328.5781 Q313.4656,328.5781 314.5906,329.5 Q315.7156,330.4063 315.7156,332.4531 Q315.7156,334.5 314.5906,335.4219 Q313.4656,336.3281 310.9031,336.3281 L309.9969,336.3281 L309.9969,340.9688 L307.5438,340.9688 L307.5438,328.5781 Z \"/><text fill=\"#000000\" font-family=\"sans-serif\" font-size=\"12\" font-style=\"italic\" lengthAdjust=\"spacingAndGlyphs\" textLength=\"40\" x=\"355.2\" y=\"332.1387\">«part»</text><text fill=\"#000000\" font-family=\"sans-serif\" font-size=\"12\" lengthAdjust=\"spacingAndGlyphs\" textLength=\"102\" x=\"324.2\" y=\"346.1074\">engine2: Engine</text><line style=\"stroke: #A80036; stroke-width: 1.5;\" x1=\"296.2\" x2=\"428.2\" y1=\"353.9375\" y2=\"353.9375\"/></a><!--MD5=[270fce915f116d4de14055a7c1d9a0f3]\n",
       "class E5--><a href=\"psysml:c0123459-da5a-4fa7-ba13-511d4e5fcdf0\" target=\"_top\" title=\"psysml:c0123459-da5a-4fa7-ba13-511d4e5fcdf0\" xlink:actuate=\"onRequest\" xlink:href=\"psysml:c0123459-da5a-4fa7-ba13-511d4e5fcdf0\" xlink:show=\"new\" xlink:title=\"psysml:c0123459-da5a-4fa7-ba13-511d4e5fcdf0\" xlink:type=\"simple\"><rect fill=\"#FEFECE\" filter=\"url(#fukm3plagxcq6)\" height=\"45.9375\" id=\"E5\" rx=\"10\" ry=\"10\" style=\"stroke: #A80036; stroke-width: 1.5;\" width=\"225\" x=\"283.7\" y=\"41\"/><ellipse cx=\"298.7\" cy=\"59.9688\" fill=\"#B6DBBB\" rx=\"11\" ry=\"11\" style=\"stroke: #A80036; stroke-width: 1.0;\"/><path d=\"M294.575,61.8906 L294.575,54.0781 L297.0281,54.0781 L297.0281,62.5156 Q297.0281,63.4375 297.4969,63.9688 Q297.9813,64.5 298.8094,64.5 Q299.6531,64.5 300.1219,63.9688 Q300.5906,63.4375 300.5906,62.5156 L300.5906,54.0781 L303.0438,54.0781 L303.0438,61.8906 Q303.0438,64.4219 302.0438,65.5625 Q301.0438,66.7031 298.8094,66.7031 Q296.5906,66.7031 295.575,65.5625 Q294.575,64.4219 294.575,61.8906 Z \"/><text fill=\"#000000\" font-family=\"sans-serif\" font-size=\"12\" font-style=\"italic\" lengthAdjust=\"spacingAndGlyphs\" textLength=\"64\" x=\"377.2\" y=\"57.1387\">«analysis»</text><text fill=\"#000000\" font-family=\"sans-serif\" font-size=\"12\" lengthAdjust=\"spacingAndGlyphs\" textLength=\"193\" x=\"312.7\" y=\"71.1074\">engineTradeStudy: TradeStudy</text><line style=\"stroke: #A80036; stroke-width: 1.5;\" x1=\"284.7\" x2=\"507.7\" y1=\"78.9375\" y2=\"78.9375\"/></a><!--MD5=[60a26617385b1d2d0262a64233df1f8d]\n",
       "class E6--><a href=\"psysml:d3ca6a29-f1f6-48ae-8677-7ec75b0f5c21\" target=\"_top\" title=\"psysml:d3ca6a29-f1f6-48ae-8677-7ec75b0f5c21\" xlink:actuate=\"onRequest\" xlink:href=\"psysml:d3ca6a29-f1f6-48ae-8677-7ec75b0f5c21\" xlink:show=\"new\" xlink:title=\"psysml:d3ca6a29-f1f6-48ae-8677-7ec75b0f5c21\" xlink:type=\"simple\"><rect fill=\"#FEFECE\" filter=\"url(#fukm3plagxcq6)\" height=\"45.9375\" id=\"E6\" rx=\"10\" ry=\"10\" style=\"stroke: #A80036; stroke-width: 1.5;\" width=\"277\" x=\"106.7\" y=\"164\"/><ellipse cx=\"121.7\" cy=\"182.9688\" fill=\"#FFA500\" rx=\"11\" ry=\"11\" style=\"stroke: #A80036; stroke-width: 1.0;\"/><path d=\"M117.575,184.8906 L117.575,177.0781 L120.0281,177.0781 L120.0281,185.5156 Q120.0281,186.4375 120.4969,186.9688 Q120.9813,187.5 121.8094,187.5 Q122.6531,187.5 123.1219,186.9688 Q123.5906,186.4375 123.5906,185.5156 L123.5906,177.0781 L126.0438,177.0781 L126.0438,184.8906 Q126.0438,187.4219 125.0438,188.5625 Q124.0438,189.7031 121.8094,189.7031 Q119.5906,189.7031 118.575,188.5625 Q117.575,187.4219 117.575,184.8906 Z \"/><text fill=\"#000000\" font-family=\"sans-serif\" font-size=\"12\" font-style=\"italic\" lengthAdjust=\"spacingAndGlyphs\" textLength=\"91\" x=\"212.7\" y=\"180.1387\">«requirement»</text><text fill=\"#000000\" font-family=\"sans-serif\" font-size=\"12\" lengthAdjust=\"spacingAndGlyphs\" textLength=\"245\" x=\"135.7\" y=\"194.1074\">tradeStudyObjective: MaximizeObjective</text><line style=\"stroke: #A80036; stroke-width: 1.5;\" x1=\"107.7\" x2=\"382.7\" y1=\"201.9375\" y2=\"201.9375\"/></a><!--MD5=[2156ba9850f5573cc1fc38a6a4b2f02b]\n",
       "class E7--><a href=\"psysml:f099413c-f817-477f-a757-2c07f6450928\" target=\"_top\" title=\"psysml:f099413c-f817-477f-a757-2c07f6450928\" xlink:actuate=\"onRequest\" xlink:href=\"psysml:f099413c-f817-477f-a757-2c07f6450928\" xlink:show=\"new\" xlink:title=\"psysml:f099413c-f817-477f-a757-2c07f6450928\" xlink:type=\"simple\"><rect fill=\"#FEFECE\" filter=\"url(#fukm3plagxcq6)\" height=\"45.9375\" id=\"E7\" rx=\"10\" ry=\"10\" style=\"stroke: #A80036; stroke-width: 1.5;\" width=\"142\" x=\"419.2\" y=\"164\"/><ellipse cx=\"434.2\" cy=\"182.9688\" fill=\"#FFA500\" rx=\"11\" ry=\"11\" style=\"stroke: #A80036; stroke-width: 1.0;\"/><path d=\"M430.075,184.8906 L430.075,177.0781 L432.5281,177.0781 L432.5281,185.5156 Q432.5281,186.4375 432.9969,186.9688 Q433.4813,187.5 434.3094,187.5 Q435.1531,187.5 435.6219,186.9688 Q436.0906,186.4375 436.0906,185.5156 L436.0906,177.0781 L438.5438,177.0781 L438.5438,184.8906 Q438.5438,187.4219 437.5438,188.5625 Q436.5438,189.7031 434.3094,189.7031 Q432.0906,189.7031 431.075,188.5625 Q430.075,187.4219 430.075,184.8906 Z \"/><text fill=\"#000000\" font-family=\"sans-serif\" font-size=\"12\" font-style=\"italic\" lengthAdjust=\"spacingAndGlyphs\" textLength=\"82\" x=\"462.2\" y=\"180.1387\">«calculation»</text><text fill=\"#000000\" font-family=\"sans-serif\" font-size=\"12\" lengthAdjust=\"spacingAndGlyphs\" textLength=\"110\" x=\"448.2\" y=\"194.1074\">objectiveFunction</text><line style=\"stroke: #A80036; stroke-width: 1.5;\" x1=\"420.2\" x2=\"560.2\" y1=\"201.9375\" y2=\"201.9375\"/></a><!--MD5=[b9389687b975829384b498ac4b7476b2]\n",
       "class E8--><a href=\"psysml:26f566d1-080d-4e4d-ba32-38c38fdc0bde\" target=\"_top\" title=\"psysml:26f566d1-080d-4e4d-ba32-38c38fdc0bde\" xlink:actuate=\"onRequest\" xlink:href=\"psysml:26f566d1-080d-4e4d-ba32-38c38fdc0bde\" xlink:show=\"new\" xlink:title=\"psysml:26f566d1-080d-4e4d-ba32-38c38fdc0bde\" xlink:type=\"simple\"><rect fill=\"#FEFECE\" filter=\"url(#fukm3plagxcq6)\" height=\"45.9375\" id=\"E8\" rx=\"10\" ry=\"10\" style=\"stroke: #A80036; stroke-width: 1.5;\" width=\"150\" x=\"73.2\" y=\"316\"/><ellipse cx=\"88.2\" cy=\"334.9688\" fill=\"#32CD32\" rx=\"11\" ry=\"11\" style=\"stroke: #A80036; stroke-width: 1.0;\"/><path d=\"M87.9969,330.6406 L87.9969,334.2656 L88.9969,334.2656 Q90.2,334.2656 90.6844,333.8594 Q91.1688,333.4531 91.1688,332.4531 Q91.1688,331.4531 90.6844,331.0469 Q90.2,330.6406 88.9969,330.6406 L87.9969,330.6406 Z M85.5438,328.5781 L88.9031,328.5781 Q91.4656,328.5781 92.5906,329.5 Q93.7156,330.4063 93.7156,332.4531 Q93.7156,334.5 92.5906,335.4219 Q91.4656,336.3281 88.9031,336.3281 L87.9969,336.3281 L87.9969,340.9688 L85.5438,340.9688 L85.5438,328.5781 Z \"/><text fill=\"#000000\" font-family=\"sans-serif\" font-size=\"12\" font-style=\"italic\" lengthAdjust=\"spacingAndGlyphs\" textLength=\"40\" x=\"141.2\" y=\"332.1387\">«part»</text><text fill=\"#000000\" font-family=\"sans-serif\" font-size=\"12\" lengthAdjust=\"spacingAndGlyphs\" textLength=\"118\" x=\"102.2\" y=\"346.1074\">alternative: Engine</text><line style=\"stroke: #A80036; stroke-width: 1.5;\" x1=\"74.2\" x2=\"222.2\" y1=\"353.9375\" y2=\"353.9375\"/></a><!--MD5=[fd4143e9d270a159db93a4ea2a975926]\n",
       "class E9--><a href=\"psysml:7894e875-c3b4-453b-9dc9-b899c04487e6\" target=\"_top\" title=\"psysml:7894e875-c3b4-453b-9dc9-b899c04487e6\" xlink:actuate=\"onRequest\" xlink:href=\"psysml:7894e875-c3b4-453b-9dc9-b899c04487e6\" xlink:show=\"new\" xlink:title=\"psysml:7894e875-c3b4-453b-9dc9-b899c04487e6\" xlink:type=\"simple\"><rect fill=\"#FEFECE\" filter=\"url(#fukm3plagxcq6)\" height=\"45.9375\" id=\"E9\" rx=\"10\" ry=\"10\" style=\"stroke: #A80036; stroke-width: 1.5;\" width=\"204\" x=\"275.2\" y=\"240\"/><ellipse cx=\"290.2\" cy=\"258.9688\" fill=\"#32CD32\" rx=\"11\" ry=\"11\" style=\"stroke: #A80036; stroke-width: 1.0;\"/><path d=\"M289.9969,254.6406 L289.9969,258.2656 L290.9969,258.2656 Q292.2,258.2656 292.6844,257.8594 Q293.1688,257.4531 293.1688,256.4531 Q293.1688,255.4531 292.6844,255.0469 Q292.2,254.6406 290.9969,254.6406 L289.9969,254.6406 Z M287.5438,252.5781 L290.9031,252.5781 Q293.4656,252.5781 294.5906,253.5 Q295.7156,254.4063 295.7156,256.4531 Q295.7156,258.5 294.5906,259.4219 Q293.4656,260.3281 290.9031,260.3281 L289.9969,260.3281 L289.9969,264.9688 L287.5438,264.9688 L287.5438,252.5781 Z \"/><text fill=\"#000000\" font-family=\"sans-serif\" font-size=\"12\" font-style=\"italic\" lengthAdjust=\"spacingAndGlyphs\" textLength=\"40\" x=\"370.2\" y=\"256.1387\">«part»</text><text fill=\"#000000\" font-family=\"sans-serif\" font-size=\"12\" lengthAdjust=\"spacingAndGlyphs\" textLength=\"172\" x=\"304.2\" y=\"270.1074\">selectedAlternative: Engine</text><line style=\"stroke: #A80036; stroke-width: 1.5;\" x1=\"276.2\" x2=\"478.2\" y1=\"277.9375\" y2=\"277.9375\"/></a><!--MD5=[05d275557350bfb9b23a4ef7222b4c39]\n",
       "link E3 to E2--><a href=\"psysml:8801a447-7348-4a45-a550-3876c92a8627\" target=\"_top\" title=\"psysml:8801a447-7348-4a45-a550-3876c92a8627\" xlink:actuate=\"onRequest\" xlink:href=\"psysml:8801a447-7348-4a45-a550-3876c92a8627\" xlink:show=\"new\" xlink:title=\"psysml:8801a447-7348-4a45-a550-3876c92a8627\" xlink:type=\"simple\"><path d=\"M472.51,362.01 C426.12,379.4 361.76,403.54 315.9,420.74 \" fill=\"none\" id=\"E3-&gt;E2\" style=\"stroke: #A80036; stroke-width: 1.0;\"/><polygon fill=\"#FFFFFF\" points=\"296.87,427.87,312.2079,414.6508,317.1182,427.7614,296.87,427.87\" style=\"stroke: #A80036; stroke-width: 1.0;\"/><ellipse cx=\"318.2473\" cy=\"414.5245\" fill=\"#A80036\" rx=\"2\" ry=\"2\" style=\"stroke: #A80036; stroke-width: 1.0;\"/><ellipse cx=\"321.7546\" cy=\"423.8893\" fill=\"#A80036\" rx=\"2\" ry=\"2\" style=\"stroke: #A80036; stroke-width: 1.0;\"/></a><!--MD5=[185131fc0dcab0a4505a2ebe144e961b]\n",
       "link E4 to E2--><a href=\"psysml:b9350b5a-5d8f-4ac9-a55f-8ba2d0a1e030\" target=\"_top\" title=\"psysml:b9350b5a-5d8f-4ac9-a55f-8ba2d0a1e030\" xlink:actuate=\"onRequest\" xlink:href=\"psysml:b9350b5a-5d8f-4ac9-a55f-8ba2d0a1e030\" xlink:show=\"new\" xlink:title=\"psysml:b9350b5a-5d8f-4ac9-a55f-8ba2d0a1e030\" xlink:type=\"simple\"><path d=\"M339.85,362.13 C326.09,375.76 308.2,393.47 292.76,408.76 \" fill=\"none\" id=\"E4-&gt;E2\" style=\"stroke: #A80036; stroke-width: 1.0;\"/><polygon fill=\"#FFFFFF\" points=\"278.39,423,286.968,404.6583,296.8174,414.6077,278.39,423\" style=\"stroke: #A80036; stroke-width: 1.0;\"/><ellipse cx=\"292.4259\" cy=\"402.0695\" fill=\"#A80036\" rx=\"2\" ry=\"2\" style=\"stroke: #A80036; stroke-width: 1.0;\"/><ellipse cx=\"299.4612\" cy=\"409.1762\" fill=\"#A80036\" rx=\"2\" ry=\"2\" style=\"stroke: #A80036; stroke-width: 1.0;\"/></a><!--MD5=[15ebcb19ae302d9b601edb458606d402]\n",
       "link E5 to E2--><a href=\"psysml:ecc21de6-0c62-41d5-be03-95573cca647a\" target=\"_top\" title=\"psysml:ecc21de6-0c62-41d5-be03-95573cca647a\" xlink:actuate=\"onRequest\" xlink:href=\"psysml:ecc21de6-0c62-41d5-be03-95573cca647a\" xlink:show=\"new\" xlink:title=\"psysml:ecc21de6-0c62-41d5-be03-95573cca647a\" xlink:type=\"simple\"><path d=\"M283.33,73.88 C217.7,84.99 138.47,109.64 89.2,164 C29.29,230.1 6,288.25 56.2,362 C91.99,414.57 168.14,432.6 216.32,438.78 \" fill=\"none\" id=\"E5-&gt;E2\" style=\"stroke: #A80036; stroke-width: 1.0; stroke-dasharray: 7.0,7.0;\"/><polygon fill=\"#A80036\" points=\"221.48,439.41,213.0385,434.3365,216.5177,438.7968,212.0574,442.2761,221.48,439.41\" style=\"stroke: #A80036; stroke-width: 1.0;\"/><text fill=\"#000000\" font-family=\"sans-serif\" font-size=\"13\" lengthAdjust=\"spacingAndGlyphs\" textLength=\"62\" x=\"39.2\" y=\"267.5669\">«subject»</text></a><!--MD5=[9120cf2e5df3bff93db8f754bbbc09b4]\n",
       "link E5 to E6--><a href=\"psysml:fcf6c150-3866-4336-9e66-2e65ffb041aa\" target=\"_top\" title=\"psysml:fcf6c150-3866-4336-9e66-2e65ffb041aa\" xlink:actuate=\"onRequest\" xlink:href=\"psysml:fcf6c150-3866-4336-9e66-2e65ffb041aa\" xlink:show=\"new\" xlink:title=\"psysml:fcf6c150-3866-4336-9e66-2e65ffb041aa\" xlink:type=\"simple\"><path d=\"M368.5,87.19 C343.28,107.41 305.97,137.31 279,158.92 \" fill=\"none\" id=\"E5-&gt;E6\" style=\"stroke: #A80036; stroke-width: 1.0;\"/><polygon fill=\"#A80036\" points=\"272.72,163.95,280.8396,161.2905,277.0888,156.6074,272.72,163.95\" style=\"stroke: #A80036; stroke-width: 1.0;\"/><text fill=\"#000000\" font-family=\"sans-serif\" font-size=\"13\" lengthAdjust=\"spacingAndGlyphs\" textLength=\"73\" x=\"330.2\" y=\"130.0669\">«objective»</text></a><!--MD5=[452b418e7f8a40397a49b8c0a78acc5b]\n",
       "reverse link E5 to E7--><a href=\"psysml:a988c065-f70c-4bb4-ab6a-fca08357bc4a\" target=\"_top\" title=\"psysml:a988c065-f70c-4bb4-ab6a-fca08357bc4a\" xlink:actuate=\"onRequest\" xlink:href=\"psysml:a988c065-f70c-4bb4-ab6a-fca08357bc4a\" xlink:show=\"new\" xlink:title=\"psysml:a988c065-f70c-4bb4-ab6a-fca08357bc4a\" xlink:type=\"simple\"><path d=\"M421.52,97.59 C437.85,118.61 458.66,145.4 473.07,163.95 \" fill=\"none\" id=\"E5&lt;-E7\" style=\"stroke: #A80036; stroke-width: 1.0;\"/><polygon fill=\"#A80036\" points=\"413.44,87.19,413.9586,94.3824,420.7972,96.67,420.2786,89.4776,413.44,87.19\" style=\"stroke: #A80036; stroke-width: 1.0;\"/></a><!--MD5=[dc164f5e8a733ab456ef1add180e9e34]\n",
       "reverse link E7 to E8--><a href=\"psysml:4295af6e-acd7-489b-9191-c25409e1351b\" target=\"_top\" title=\"psysml:4295af6e-acd7-489b-9191-c25409e1351b\" xlink:actuate=\"onRequest\" xlink:href=\"psysml:4295af6e-acd7-489b-9191-c25409e1351b\" xlink:show=\"new\" xlink:title=\"psysml:4295af6e-acd7-489b-9191-c25409e1351b\" xlink:type=\"simple\"><path d=\"M406.09,208.88 C404.45,209.26 402.81,209.63 401.2,210 C337.89,224.46 316.18,210.75 258.2,240 C221.21,258.66 186.98,292.95 166.84,315.61 \" fill=\"none\" id=\"E7&lt;-E8\" style=\"stroke: #A80036; stroke-width: 1.0;\"/><polygon fill=\"#FFFFFF\" points=\"418.84,205.88,412.0846,203.3572,407.1576,208.6226,413.913,211.1454,418.84,205.88\" style=\"stroke: #A80036; stroke-width: 1.0;\"/><text fill=\"#000000\" font-family=\"sans-serif\" font-size=\"13\" lengthAdjust=\"spacingAndGlyphs\" textLength=\"8\" x=\"162.5915\" y=\"304.7864\">1</text></a><!--MD5=[f1f3f9f2fc535e6147756cb86a7f2e32]\n",
       "link E8 to E2--><a href=\"psysml:aed7fba6-fc0e-4a29-a473-c7d943b57344\" target=\"_top\" title=\"psysml:aed7fba6-fc0e-4a29-a473-c7d943b57344\" xlink:actuate=\"onRequest\" xlink:href=\"psysml:aed7fba6-fc0e-4a29-a473-c7d943b57344\" xlink:show=\"new\" xlink:title=\"psysml:aed7fba6-fc0e-4a29-a473-c7d943b57344\" xlink:type=\"simple\"><path d=\"M172.29,362.13 C187.26,375.9 206.8,393.84 223.55,409.24 \" fill=\"none\" id=\"E8-&gt;E2\" style=\"stroke: #A80036; stroke-width: 1.0;\"/><polygon fill=\"#FFFFFF\" points=\"238.52,423,219.7918,415.3024,229.2623,404.9918,238.52,423\" style=\"stroke: #A80036; stroke-width: 1.0;\"/><ellipse cx=\"216.9468\" cy=\"409.9736\" fill=\"#A80036\" rx=\"2\" ry=\"2\" style=\"stroke: #A80036; stroke-width: 1.0;\"/><ellipse cx=\"223.7115\" cy=\"402.6089\" fill=\"#A80036\" rx=\"2\" ry=\"2\" style=\"stroke: #A80036; stroke-width: 1.0;\"/></a><!--MD5=[9ae28de373ca99bb8a1b38d63370ca7e]\n",
       "reverse link E5 to E9--><a href=\"psysml:afcc773f-3f6f-47e3-9b17-c2b1fd7bbdc3\" target=\"_top\" title=\"psysml:afcc773f-3f6f-47e3-9b17-c2b1fd7bbdc3\" xlink:actuate=\"onRequest\" xlink:href=\"psysml:afcc773f-3f6f-47e3-9b17-c2b1fd7bbdc3\" xlink:show=\"new\" xlink:title=\"psysml:afcc773f-3f6f-47e3-9b17-c2b1fd7bbdc3\" xlink:type=\"simple\"><path d=\"M477.44,91.83 C542.71,117.79 617.64,160.42 579.2,210 C566.19,226.78 522.73,239.1 479.43,247.52 \" fill=\"none\" id=\"E5&lt;-E9\" style=\"stroke: #A80036; stroke-width: 1.0;\"/><polygon fill=\"#FFFFFF\" points=\"464.97,87.02,469.1253,92.9135,476.1637,91.3445,472.0083,85.451,464.97,87.02\" style=\"stroke: #A80036; stroke-width: 1.0;\"/><text fill=\"#000000\" font-family=\"sans-serif\" font-size=\"13\" lengthAdjust=\"spacingAndGlyphs\" textLength=\"8\" x=\"487.2313\" y=\"242.9065\">1</text></a><!--MD5=[5c3bb36fe832a92c7f0e1807dd65209d]\n",
       "link E9 to E2--><a href=\"psysml:09d901e9-14a1-4a34-80ae-448f8674b33c\" target=\"_top\" title=\"psysml:09d901e9-14a1-4a34-80ae-448f8674b33c\" xlink:actuate=\"onRequest\" xlink:href=\"psysml:09d901e9-14a1-4a34-80ae-448f8674b33c\" xlink:show=\"new\" xlink:title=\"psysml:09d901e9-14a1-4a34-80ae-448f8674b33c\" xlink:type=\"simple\"><path d=\"M313.67,286.14 C300.09,293.64 287.15,303.42 278.2,316 C260.36,341.07 256.3,376.08 256.31,402.84 \" fill=\"none\" id=\"E9-&gt;E2\" style=\"stroke: #A80036; stroke-width: 1.0;\"/><polygon fill=\"#FFFFFF\" points=\"257.06,422.97,249.3591,404.2431,263.3494,403.7231,257.06,422.97\" style=\"stroke: #A80036; stroke-width: 1.0;\"/><ellipse cx=\"251.146\" cy=\"398.4728\" fill=\"#A80036\" rx=\"2\" ry=\"2\" style=\"stroke: #A80036; stroke-width: 1.0;\"/><ellipse cx=\"261.1391\" cy=\"398.1013\" fill=\"#A80036\" rx=\"2\" ry=\"2\" style=\"stroke: #A80036; stroke-width: 1.0;\"/></a><!--MD5=[43216085ba22b22a476e1b35466960cf]\n",
       "@startuml\r\n",
       " \r\n",
       "package \"TradeStudyTest\" as E1  [[psysml:0d92d0af-a8c4-487d-a88b-e96d8d162758 ]]  {\r\n",
       "comp def \"Engine\" as E2 << << (B,green) >> [[psysml:90b379af-84e4-4b51-bcba-9b20024a2d1f ]] {\r\n",
       "}\r\n",
       "comp usage \"engine1: Engine\" as E3 << << (P,limegreen) part>> [[psysml:1fe04244-3a7b-4d3a-93e0-0fd9f61a7cea ]] {\r\n",
       "}\r\n",
       "comp usage \"engine2: Engine\" as E4 << << (P,limegreen) part>> [[psysml:07207da4-9c20-4091-a953-293a54d08950 ]] {\r\n",
       "}\r\n",
       "comp usage \"engineTradeStudy: TradeStudy\" as E5 << analysis>> [[psysml:c0123459-da5a-4fa7-ba13-511d4e5fcdf0 ]] {\r\n",
       "}\r\n",
       "comp usage \"tradeStudyObjective: MaximizeObjective\" as E6 << <<(U,orange) requirement>> [[psysml:d3ca6a29-f1f6-48ae-8677-7ec75b0f5c21 ]] {\r\n",
       "}\r\n",
       "comp usage \"objectiveFunction\" as E7 << <<(U,orange) calculation>> [[psysml:f099413c-f817-477f-a757-2c07f6450928 ]] {\r\n",
       "}\r\n",
       "comp usage \"alternative: Engine\" as E8 << << (P,limegreen) part>> [[psysml:26f566d1-080d-4e4d-ba32-38c38fdc0bde ]] {\r\n",
       "}\r\n",
       "comp usage \"selectedAlternative: Engine\" as E9 << << (P,limegreen) part>> [[psysml:7894e875-c3b4-453b-9dc9-b899c04487e6 ]] {\r\n",
       "}\r\n",
       "E3 - -:|> E2 [[psysml:8801a447-7348-4a45-a550-3876c92a8627 ]] \r\n",
       "E4 - -:|> E2 [[psysml:b9350b5a-5d8f-4ac9-a55f-8ba2d0a1e030 ]] \r\n",
       "E5 ..> E2 [[psysml:ecc21de6-0c62-41d5-be03-95573cca647a ]] : <<subject>>\r\n",
       "E5 - ->> E6 [[psysml:fcf6c150-3866-4336-9e66-2e65ffb041aa ]] : <<objective>>\r\n",
       "E5 *- - E7 [[psysml:a988c065-f70c-4bb4-ab6a-fca08357bc4a ]] \r\n",
       "E7 o- - \"1\"E8 [[psysml:4295af6e-acd7-489b-9191-c25409e1351b ]] \r\n",
       "E8 - -:|> E2 [[psysml:aed7fba6-fc0e-4a29-a473-c7d943b57344 ]] \r\n",
       "E5 o- - \"1\"E9 [[psysml:afcc773f-3f6f-47e3-9b17-c2b1fd7bbdc3 ]] \r\n",
       "E9 - -:|> E2 [[psysml:09d901e9-14a1-4a34-80ae-448f8674b33c ]] \r\n",
       "}\r\n",
       "@enduml\r\n",
       "\n",
       "PlantUML version 1.2020.13(Sat Jun 13 12:26:38 UTC 2020)\n",
       "(EPL source distribution)\n",
       "Java Runtime: OpenJDK Runtime Environment\n",
       "JVM: OpenJDK 64-Bit Server VM\n",
       "Default Encoding: UTF-8\n",
       "Language: en\n",
       "Country: null\n",
       "--></g></svg>"
      ]
     },
     "execution_count": 30,
     "metadata": {},
     "output_type": "execute_result"
    }
   ],
   "source": [
    "%viz --style=\"PLANTUML\" --view=\"Default\" \"TradeStudyTest\""
   ]
  },
  {
   "cell_type": "code",
   "execution_count": 31,
   "id": "6645d28b",
   "metadata": {
    "execution": {
     "iopub.execute_input": "2021-08-04T06:27:40.044797Z",
     "iopub.status.busy": "2021-08-04T06:27:40.044363Z",
     "iopub.status.idle": "2021-08-04T06:27:40.071339Z",
     "shell.execute_reply": "2021-08-04T06:27:40.070977Z"
    }
   },
   "outputs": [
    {
     "data": {
      "image/svg+xml": [
       "<?xml version=\"1.0\" encoding=\"UTF-8\" standalone=\"no\"?><svg xmlns=\"http://www.w3.org/2000/svg\" xmlns:xlink=\"http://www.w3.org/1999/xlink\" contentScriptType=\"application/ecmascript\" contentStyleType=\"text/css\" height=\"339px\" preserveAspectRatio=\"none\" style=\"width:1059px;height:339px;\" version=\"1.1\" viewBox=\"0 0 1059 339\" width=\"1059px\" zoomAndPan=\"magnify\"><defs><filter height=\"300%\" id=\"f14sx12p4lmuvc\" width=\"300%\" x=\"-1\" y=\"-1\"><feGaussianBlur result=\"blurOut\" stdDeviation=\"2.0\"/><feColorMatrix in=\"blurOut\" result=\"blurOut2\" type=\"matrix\" values=\"0 0 0 0 0 0 0 0 0 0 0 0 0 0 0 0 0 0 .4 0\"/><feOffset dx=\"4.0\" dy=\"4.0\" in=\"blurOut2\" result=\"blurOut3\"/><feBlend in=\"SourceGraphic\" in2=\"blurOut3\" mode=\"normal\"/></filter></defs><g><!--MD5=[fbc87193dbaf4d95561dea2c320d4a47]\n",
       "cluster E1--><a href=\"psysml:0d92d0af-a8c4-487d-a88b-e96d8d162758\" target=\"_top\" title=\"psysml:0d92d0af-a8c4-487d-a88b-e96d8d162758\" xlink:actuate=\"onRequest\" xlink:href=\"psysml:0d92d0af-a8c4-487d-a88b-e96d8d162758\" xlink:show=\"new\" xlink:title=\"psysml:0d92d0af-a8c4-487d-a88b-e96d8d162758\" xlink:type=\"simple\"><polygon fill=\"#FFFFFF\" filter=\"url(#f14sx12p4lmuvc)\" points=\"16,6,148,6,155,28.2969,1037,28.2969,1037,327,16,327,16,6\" style=\"stroke: #000000; stroke-width: 1.5;\"/><line style=\"stroke: #000000; stroke-width: 1.5;\" x1=\"16\" x2=\"155\" y1=\"28.2969\" y2=\"28.2969\"/><text fill=\"#000000\" font-family=\"sans-serif\" font-size=\"14\" font-weight=\"bold\" lengthAdjust=\"spacingAndGlyphs\" textLength=\"126\" x=\"20\" y=\"20.9951\">TradeStudyTest</text></a><!--MD5=[b4997ac47864f28c2f74865a473b2911]\n",
       "class E2--><a href=\"psysml:90b379af-84e4-4b51-bcba-9b20024a2d1f\" target=\"_top\" title=\"psysml:90b379af-84e4-4b51-bcba-9b20024a2d1f\" xlink:actuate=\"onRequest\" xlink:href=\"psysml:90b379af-84e4-4b51-bcba-9b20024a2d1f\" xlink:show=\"new\" xlink:title=\"psysml:90b379af-84e4-4b51-bcba-9b20024a2d1f\" xlink:type=\"simple\"><rect fill=\"#FEFECE\" filter=\"url(#f14sx12p4lmuvc)\" height=\"40\" id=\"E2\" style=\"stroke: #A80036; stroke-width: 1.5;\" width=\"75\" x=\"645.5\" y=\"271\"/><ellipse cx=\"660.5\" cy=\"287\" fill=\"#008000\" rx=\"11\" ry=\"11\" style=\"stroke: #A80036; stroke-width: 1.0;\"/><path d=\"M659.4063,287.375 L659.4063,291.0469 L661.0313,291.0469 Q662.2031,291.0469 662.6719,290.6563 Q663.1406,290.25 663.1406,289.25 Q663.1406,288.25 662.6406,287.8125 Q662.1563,287.375 661.0313,287.375 L659.4063,287.375 Z M659.4063,282.5469 L659.4063,285.4219 L661.0313,285.4219 Q661.9531,285.4219 662.3438,285.0938 Q662.75,284.75 662.75,284 Q662.75,283.2344 662.3438,282.8906 Q661.9375,282.5469 661.0313,282.5469 L659.4063,282.5469 Z M657.0313,280.5938 L661.0313,280.5938 Q663.0938,280.5938 664.1406,281.375 Q665.1875,282.1563 665.1875,283.7188 Q665.1875,284.9219 664.5625,285.5938 Q663.9531,286.2656 662.7656,286.375 Q664.1875,286.5156 664.9063,287.3281 Q665.625,288.1406 665.625,289.5938 Q665.625,291.3906 664.5469,292.2031 Q663.4688,293 661.0313,293 L657.0313,293 L657.0313,280.5938 Z \"/><text fill=\"#000000\" font-family=\"sans-serif\" font-size=\"12\" lengthAdjust=\"spacingAndGlyphs\" textLength=\"43\" x=\"674.5\" y=\"291.1543\">Engine</text><line style=\"stroke: #A80036; stroke-width: 1.5;\" x1=\"646.5\" x2=\"719.5\" y1=\"303\" y2=\"303\"/></a><!--MD5=[09b614a08d8cba4a07c9adeb5e0fee81]\n",
       "class E3--><a href=\"psysml:1fe04244-3a7b-4d3a-93e0-0fd9f61a7cea\" target=\"_top\" title=\"psysml:1fe04244-3a7b-4d3a-93e0-0fd9f61a7cea\" xlink:actuate=\"onRequest\" xlink:href=\"psysml:1fe04244-3a7b-4d3a-93e0-0fd9f61a7cea\" xlink:show=\"new\" xlink:title=\"psysml:1fe04244-3a7b-4d3a-93e0-0fd9f61a7cea\" xlink:type=\"simple\"><rect fill=\"#FEFECE\" filter=\"url(#f14sx12p4lmuvc)\" height=\"45.9375\" id=\"E3\" rx=\"10\" ry=\"10\" style=\"stroke: #A80036; stroke-width: 1.5;\" width=\"134\" x=\"887\" y=\"164\"/><ellipse cx=\"902\" cy=\"182.9688\" fill=\"#32CD32\" rx=\"11\" ry=\"11\" style=\"stroke: #A80036; stroke-width: 1.0;\"/><path d=\"M901.7969,178.6406 L901.7969,182.2656 L902.7969,182.2656 Q904,182.2656 904.4844,181.8594 Q904.9688,181.4531 904.9688,180.4531 Q904.9688,179.4531 904.4844,179.0469 Q904,178.6406 902.7969,178.6406 L901.7969,178.6406 Z M899.3438,176.5781 L902.7031,176.5781 Q905.2656,176.5781 906.3906,177.5 Q907.5156,178.4063 907.5156,180.4531 Q907.5156,182.5 906.3906,183.4219 Q905.2656,184.3281 902.7031,184.3281 L901.7969,184.3281 L901.7969,188.9688 L899.3438,188.9688 L899.3438,176.5781 Z \"/><text fill=\"#000000\" font-family=\"sans-serif\" font-size=\"12\" font-style=\"italic\" lengthAdjust=\"spacingAndGlyphs\" textLength=\"40\" x=\"947\" y=\"180.1387\">«part»</text><text fill=\"#000000\" font-family=\"sans-serif\" font-size=\"12\" lengthAdjust=\"spacingAndGlyphs\" textLength=\"102\" x=\"916\" y=\"194.1074\">engine1: Engine</text><line style=\"stroke: #A80036; stroke-width: 1.5;\" x1=\"888\" x2=\"1020\" y1=\"201.9375\" y2=\"201.9375\"/></a><!--MD5=[ebbe1d658d1005bcc118a6aa81145e00]\n",
       "class E4--><a href=\"psysml:07207da4-9c20-4091-a953-293a54d08950\" target=\"_top\" title=\"psysml:07207da4-9c20-4091-a953-293a54d08950\" xlink:actuate=\"onRequest\" xlink:href=\"psysml:07207da4-9c20-4091-a953-293a54d08950\" xlink:show=\"new\" xlink:title=\"psysml:07207da4-9c20-4091-a953-293a54d08950\" xlink:type=\"simple\"><rect fill=\"#FEFECE\" filter=\"url(#f14sx12p4lmuvc)\" height=\"45.9375\" id=\"E4\" rx=\"10\" ry=\"10\" style=\"stroke: #A80036; stroke-width: 1.5;\" width=\"134\" x=\"718\" y=\"164\"/><ellipse cx=\"733\" cy=\"182.9688\" fill=\"#32CD32\" rx=\"11\" ry=\"11\" style=\"stroke: #A80036; stroke-width: 1.0;\"/><path d=\"M732.7969,178.6406 L732.7969,182.2656 L733.7969,182.2656 Q735,182.2656 735.4844,181.8594 Q735.9688,181.4531 735.9688,180.4531 Q735.9688,179.4531 735.4844,179.0469 Q735,178.6406 733.7969,178.6406 L732.7969,178.6406 Z M730.3438,176.5781 L733.7031,176.5781 Q736.2656,176.5781 737.3906,177.5 Q738.5156,178.4063 738.5156,180.4531 Q738.5156,182.5 737.3906,183.4219 Q736.2656,184.3281 733.7031,184.3281 L732.7969,184.3281 L732.7969,188.9688 L730.3438,188.9688 L730.3438,176.5781 Z \"/><text fill=\"#000000\" font-family=\"sans-serif\" font-size=\"12\" font-style=\"italic\" lengthAdjust=\"spacingAndGlyphs\" textLength=\"40\" x=\"778\" y=\"180.1387\">«part»</text><text fill=\"#000000\" font-family=\"sans-serif\" font-size=\"12\" lengthAdjust=\"spacingAndGlyphs\" textLength=\"102\" x=\"747\" y=\"194.1074\">engine2: Engine</text><line style=\"stroke: #A80036; stroke-width: 1.5;\" x1=\"719\" x2=\"851\" y1=\"201.9375\" y2=\"201.9375\"/></a><!--MD5=[270fce915f116d4de14055a7c1d9a0f3]\n",
       "class E5--><a href=\"psysml:c0123459-da5a-4fa7-ba13-511d4e5fcdf0\" target=\"_top\" title=\"psysml:c0123459-da5a-4fa7-ba13-511d4e5fcdf0\" xlink:actuate=\"onRequest\" xlink:href=\"psysml:c0123459-da5a-4fa7-ba13-511d4e5fcdf0\" xlink:show=\"new\" xlink:title=\"psysml:c0123459-da5a-4fa7-ba13-511d4e5fcdf0\" xlink:type=\"simple\"><rect fill=\"#FEFECE\" filter=\"url(#f14sx12p4lmuvc)\" height=\"45.9375\" id=\"E5\" rx=\"10\" ry=\"10\" style=\"stroke: #A80036; stroke-width: 1.5;\" width=\"225\" x=\"192.5\" y=\"41\"/><ellipse cx=\"207.5\" cy=\"59.9688\" fill=\"#B6DBBB\" rx=\"11\" ry=\"11\" style=\"stroke: #A80036; stroke-width: 1.0;\"/><path d=\"M203.375,61.8906 L203.375,54.0781 L205.8281,54.0781 L205.8281,62.5156 Q205.8281,63.4375 206.2969,63.9688 Q206.7813,64.5 207.6094,64.5 Q208.4531,64.5 208.9219,63.9688 Q209.3906,63.4375 209.3906,62.5156 L209.3906,54.0781 L211.8438,54.0781 L211.8438,61.8906 Q211.8438,64.4219 210.8438,65.5625 Q209.8438,66.7031 207.6094,66.7031 Q205.3906,66.7031 204.375,65.5625 Q203.375,64.4219 203.375,61.8906 Z \"/><text fill=\"#000000\" font-family=\"sans-serif\" font-size=\"12\" font-style=\"italic\" lengthAdjust=\"spacingAndGlyphs\" textLength=\"64\" x=\"286\" y=\"57.1387\">«analysis»</text><text fill=\"#000000\" font-family=\"sans-serif\" font-size=\"12\" lengthAdjust=\"spacingAndGlyphs\" textLength=\"193\" x=\"221.5\" y=\"71.1074\">engineTradeStudy: TradeStudy</text><line style=\"stroke: #A80036; stroke-width: 1.5;\" x1=\"193.5\" x2=\"416.5\" y1=\"78.9375\" y2=\"78.9375\"/></a><!--MD5=[60a26617385b1d2d0262a64233df1f8d]\n",
       "class E6--><a href=\"psysml:d3ca6a29-f1f6-48ae-8677-7ec75b0f5c21\" target=\"_top\" title=\"psysml:d3ca6a29-f1f6-48ae-8677-7ec75b0f5c21\" xlink:actuate=\"onRequest\" xlink:href=\"psysml:d3ca6a29-f1f6-48ae-8677-7ec75b0f5c21\" xlink:show=\"new\" xlink:title=\"psysml:d3ca6a29-f1f6-48ae-8677-7ec75b0f5c21\" xlink:type=\"simple\"><rect fill=\"#FEFECE\" filter=\"url(#f14sx12p4lmuvc)\" height=\"45.9375\" id=\"E6\" rx=\"10\" ry=\"10\" style=\"stroke: #A80036; stroke-width: 1.5;\" width=\"277\" x=\"166.5\" y=\"164\"/><ellipse cx=\"181.5\" cy=\"182.9688\" fill=\"#FFA500\" rx=\"11\" ry=\"11\" style=\"stroke: #A80036; stroke-width: 1.0;\"/><path d=\"M177.375,184.8906 L177.375,177.0781 L179.8281,177.0781 L179.8281,185.5156 Q179.8281,186.4375 180.2969,186.9688 Q180.7813,187.5 181.6094,187.5 Q182.4531,187.5 182.9219,186.9688 Q183.3906,186.4375 183.3906,185.5156 L183.3906,177.0781 L185.8438,177.0781 L185.8438,184.8906 Q185.8438,187.4219 184.8438,188.5625 Q183.8438,189.7031 181.6094,189.7031 Q179.3906,189.7031 178.375,188.5625 Q177.375,187.4219 177.375,184.8906 Z \"/><text fill=\"#000000\" font-family=\"sans-serif\" font-size=\"12\" font-style=\"italic\" lengthAdjust=\"spacingAndGlyphs\" textLength=\"91\" x=\"272.5\" y=\"180.1387\">«requirement»</text><text fill=\"#000000\" font-family=\"sans-serif\" font-size=\"12\" lengthAdjust=\"spacingAndGlyphs\" textLength=\"245\" x=\"195.5\" y=\"194.1074\">tradeStudyObjective: MaximizeObjective</text><line style=\"stroke: #A80036; stroke-width: 1.5;\" x1=\"167.5\" x2=\"442.5\" y1=\"201.9375\" y2=\"201.9375\"/></a><!--MD5=[2156ba9850f5573cc1fc38a6a4b2f02b]\n",
       "class E7--><a href=\"psysml:7894e875-c3b4-453b-9dc9-b899c04487e6\" target=\"_top\" title=\"psysml:7894e875-c3b4-453b-9dc9-b899c04487e6\" xlink:actuate=\"onRequest\" xlink:href=\"psysml:7894e875-c3b4-453b-9dc9-b899c04487e6\" xlink:show=\"new\" xlink:title=\"psysml:7894e875-c3b4-453b-9dc9-b899c04487e6\" xlink:type=\"simple\"><rect fill=\"#FEFECE\" filter=\"url(#f14sx12p4lmuvc)\" height=\"45.9375\" id=\"E7\" rx=\"10\" ry=\"10\" style=\"stroke: #A80036; stroke-width: 1.5;\" width=\"204\" x=\"479\" y=\"164\"/><ellipse cx=\"494\" cy=\"182.9688\" fill=\"#32CD32\" rx=\"11\" ry=\"11\" style=\"stroke: #A80036; stroke-width: 1.0;\"/><path d=\"M493.7969,178.6406 L493.7969,182.2656 L494.7969,182.2656 Q496,182.2656 496.4844,181.8594 Q496.9688,181.4531 496.9688,180.4531 Q496.9688,179.4531 496.4844,179.0469 Q496,178.6406 494.7969,178.6406 L493.7969,178.6406 Z M491.3438,176.5781 L494.7031,176.5781 Q497.2656,176.5781 498.3906,177.5 Q499.5156,178.4063 499.5156,180.4531 Q499.5156,182.5 498.3906,183.4219 Q497.2656,184.3281 494.7031,184.3281 L493.7969,184.3281 L493.7969,188.9688 L491.3438,188.9688 L491.3438,176.5781 Z \"/><text fill=\"#000000\" font-family=\"sans-serif\" font-size=\"12\" font-style=\"italic\" lengthAdjust=\"spacingAndGlyphs\" textLength=\"40\" x=\"574\" y=\"180.1387\">«part»</text><text fill=\"#000000\" font-family=\"sans-serif\" font-size=\"12\" lengthAdjust=\"spacingAndGlyphs\" textLength=\"172\" x=\"508\" y=\"194.1074\">selectedAlternative: Engine</text><line style=\"stroke: #A80036; stroke-width: 1.5;\" x1=\"480\" x2=\"682\" y1=\"201.9375\" y2=\"201.9375\"/></a><!--MD5=[05d275557350bfb9b23a4ef7222b4c39]\n",
       "link E3 to E2--><a href=\"psysml:8801a447-7348-4a45-a550-3876c92a8627\" target=\"_top\" title=\"psysml:8801a447-7348-4a45-a550-3876c92a8627\" xlink:actuate=\"onRequest\" xlink:href=\"psysml:8801a447-7348-4a45-a550-3876c92a8627\" xlink:show=\"new\" xlink:title=\"psysml:8801a447-7348-4a45-a550-3876c92a8627\" xlink:type=\"simple\"><path d=\"M895.53,210.01 C849.31,227.4 785.19,251.54 739.49,268.74 \" fill=\"none\" id=\"E3-&gt;E2\" style=\"stroke: #A80036; stroke-width: 1.0;\"/><polygon fill=\"#FFFFFF\" points=\"720.53,275.87,735.8469,262.6264,740.778,275.7293,720.53,275.87\" style=\"stroke: #A80036; stroke-width: 1.0;\"/><ellipse cx=\"741.8861\" cy=\"262.4906\" fill=\"#A80036\" rx=\"2\" ry=\"2\" style=\"stroke: #A80036; stroke-width: 1.0;\"/><ellipse cx=\"745.4083\" cy=\"271.8498\" fill=\"#A80036\" rx=\"2\" ry=\"2\" style=\"stroke: #A80036; stroke-width: 1.0;\"/></a><!--MD5=[185131fc0dcab0a4505a2ebe144e961b]\n",
       "link E4 to E2--><a href=\"psysml:b9350b5a-5d8f-4ac9-a55f-8ba2d0a1e030\" target=\"_top\" title=\"psysml:b9350b5a-5d8f-4ac9-a55f-8ba2d0a1e030\" xlink:actuate=\"onRequest\" xlink:href=\"psysml:b9350b5a-5d8f-4ac9-a55f-8ba2d0a1e030\" xlink:show=\"new\" xlink:title=\"psysml:b9350b5a-5d8f-4ac9-a55f-8ba2d0a1e030\" xlink:type=\"simple\"><path d=\"M762.87,210.13 C749.24,223.76 731.53,241.47 716.24,256.76 \" fill=\"none\" id=\"E4-&gt;E2\" style=\"stroke: #A80036; stroke-width: 1.0;\"/><polygon fill=\"#FFFFFF\" points=\"702,271,710.4853,252.6152,720.3848,262.5147,702,271\" style=\"stroke: #A80036; stroke-width: 1.0;\"/><ellipse cx=\"715.93\" cy=\"249.9989\" fill=\"#A80036\" rx=\"2\" ry=\"2\" style=\"stroke: #A80036; stroke-width: 1.0;\"/><ellipse cx=\"723.0011\" cy=\"257.07\" fill=\"#A80036\" rx=\"2\" ry=\"2\" style=\"stroke: #A80036; stroke-width: 1.0;\"/></a><!--MD5=[15ebcb19ae302d9b601edb458606d402]\n",
       "link E5 to E2--><a href=\"psysml:ecc21de6-0c62-41d5-be03-95573cca647a\" target=\"_top\" title=\"psysml:ecc21de6-0c62-41d5-be03-95573cca647a\" xlink:actuate=\"onRequest\" xlink:href=\"psysml:ecc21de6-0c62-41d5-be03-95573cca647a\" xlink:show=\"new\" xlink:title=\"psysml:ecc21de6-0c62-41d5-be03-95573cca647a\" xlink:type=\"simple\"><path d=\"M216.93,87.07 C136.33,111.38 36.42,154.49 85,210 C121.61,251.84 508.79,279.3 639.89,287.46 \" fill=\"none\" id=\"E5-&gt;E2\" style=\"stroke: #A80036; stroke-width: 1.0; stroke-dasharray: 7.0,7.0;\"/><polygon fill=\"#A80036\" points=\"645.19,287.79,636.4587,283.2333,640.1998,287.4763,635.9568,291.2175,645.19,287.79\" style=\"stroke: #A80036; stroke-width: 1.0;\"/><text fill=\"#000000\" font-family=\"sans-serif\" font-size=\"13\" lengthAdjust=\"spacingAndGlyphs\" textLength=\"62\" x=\"86\" y=\"191.5669\">«subject»</text></a><!--MD5=[9120cf2e5df3bff93db8f754bbbc09b4]\n",
       "link E5 to E6--><a href=\"psysml:fcf6c150-3866-4336-9e66-2e65ffb041aa\" target=\"_top\" title=\"psysml:fcf6c150-3866-4336-9e66-2e65ffb041aa\" xlink:actuate=\"onRequest\" xlink:href=\"psysml:fcf6c150-3866-4336-9e66-2e65ffb041aa\" xlink:show=\"new\" xlink:title=\"psysml:fcf6c150-3866-4336-9e66-2e65ffb041aa\" xlink:type=\"simple\"><path d=\"M305,87.19 C305,106.47 305,134.55 305,155.86 \" fill=\"none\" id=\"E5-&gt;E6\" style=\"stroke: #A80036; stroke-width: 1.0;\"/><polygon fill=\"#A80036\" points=\"305,163.95,308,155.95,302,155.95,305,163.95\" style=\"stroke: #A80036; stroke-width: 1.0;\"/><text fill=\"#000000\" font-family=\"sans-serif\" font-size=\"13\" lengthAdjust=\"spacingAndGlyphs\" textLength=\"73\" x=\"306\" y=\"130.0669\">«objective»</text></a><!--MD5=[452b418e7f8a40397a49b8c0a78acc5b]\n",
       "reverse link E5 to E7--><a href=\"psysml:afcc773f-3f6f-47e3-9b17-c2b1fd7bbdc3\" target=\"_top\" title=\"psysml:afcc773f-3f6f-47e3-9b17-c2b1fd7bbdc3\" xlink:actuate=\"onRequest\" xlink:href=\"psysml:afcc773f-3f6f-47e3-9b17-c2b1fd7bbdc3\" xlink:show=\"new\" xlink:title=\"psysml:afcc773f-3f6f-47e3-9b17-c2b1fd7bbdc3\" xlink:type=\"simple\"><path d=\"M367.41,92.36 C416.73,113.98 484.67,143.77 530.58,163.89 \" fill=\"none\" id=\"E5&lt;-E7\" style=\"stroke: #A80036; stroke-width: 1.0;\"/><polygon fill=\"#FFFFFF\" points=\"355.3,87.05,359.1902,93.1217,366.2912,91.8661,362.4009,85.7943,355.3,87.05\" style=\"stroke: #A80036; stroke-width: 1.0;\"/><text fill=\"#000000\" font-family=\"sans-serif\" font-size=\"13\" lengthAdjust=\"spacingAndGlyphs\" textLength=\"8\" x=\"507.9546\" y=\"152.7567\">1</text></a><!--MD5=[583832df87f4419a098336a29a52fa00]\n",
       "link E7 to E2--><a href=\"psysml:09d901e9-14a1-4a34-80ae-448f8674b33c\" target=\"_top\" title=\"psysml:09d901e9-14a1-4a34-80ae-448f8674b33c\" xlink:actuate=\"onRequest\" xlink:href=\"psysml:09d901e9-14a1-4a34-80ae-448f8674b33c\" xlink:show=\"new\" xlink:title=\"psysml:09d901e9-14a1-4a34-80ae-448f8674b33c\" xlink:type=\"simple\"><path d=\"M603.13,210.13 C616.76,223.76 634.47,241.47 649.76,256.76 \" fill=\"none\" id=\"E7-&gt;E2\" style=\"stroke: #A80036; stroke-width: 1.0;\"/><polygon fill=\"#FFFFFF\" points=\"664,271,645.6152,262.5147,655.5147,252.6152,664,271\" style=\"stroke: #A80036; stroke-width: 1.0;\"/><ellipse cx=\"642.9989\" cy=\"257.07\" fill=\"#A80036\" rx=\"2\" ry=\"2\" style=\"stroke: #A80036; stroke-width: 1.0;\"/><ellipse cx=\"650.07\" cy=\"249.9989\" fill=\"#A80036\" rx=\"2\" ry=\"2\" style=\"stroke: #A80036; stroke-width: 1.0;\"/></a><!--MD5=[b07e6d5cc4f6602b0c877d0cc8f25a52]\n",
       "@startuml\r\n",
       " \r\n",
       "package \"TradeStudyTest\" as E1  [[psysml:0d92d0af-a8c4-487d-a88b-e96d8d162758 ]]  {\r\n",
       "comp def \"Engine\" as E2 << << (B,green) >> [[psysml:90b379af-84e4-4b51-bcba-9b20024a2d1f ]] {\r\n",
       "}\r\n",
       "comp usage \"engine1: Engine\" as E3 << << (P,limegreen) part>> [[psysml:1fe04244-3a7b-4d3a-93e0-0fd9f61a7cea ]] {\r\n",
       "}\r\n",
       "comp usage \"engine2: Engine\" as E4 << << (P,limegreen) part>> [[psysml:07207da4-9c20-4091-a953-293a54d08950 ]] {\r\n",
       "}\r\n",
       "comp usage \"engineTradeStudy: TradeStudy\" as E5 << analysis>> [[psysml:c0123459-da5a-4fa7-ba13-511d4e5fcdf0 ]] {\r\n",
       "}\r\n",
       "comp usage \"tradeStudyObjective: MaximizeObjective\" as E6 << <<(U,orange) requirement>> [[psysml:d3ca6a29-f1f6-48ae-8677-7ec75b0f5c21 ]] {\r\n",
       "}\r\n",
       "comp usage \"selectedAlternative: Engine\" as E7 << << (P,limegreen) part>> [[psysml:7894e875-c3b4-453b-9dc9-b899c04487e6 ]] {\r\n",
       "}\r\n",
       "E3 - -:|> E2 [[psysml:8801a447-7348-4a45-a550-3876c92a8627 ]] \r\n",
       "E4 - -:|> E2 [[psysml:b9350b5a-5d8f-4ac9-a55f-8ba2d0a1e030 ]] \r\n",
       "E5 ..> E2 [[psysml:ecc21de6-0c62-41d5-be03-95573cca647a ]] : <<subject>>\r\n",
       "E5 - ->> E6 [[psysml:fcf6c150-3866-4336-9e66-2e65ffb041aa ]] : <<objective>>\r\n",
       "E5 o- - \"1\"E7 [[psysml:afcc773f-3f6f-47e3-9b17-c2b1fd7bbdc3 ]] \r\n",
       "E7 - -:|> E2 [[psysml:09d901e9-14a1-4a34-80ae-448f8674b33c ]] \r\n",
       "}\r\n",
       "@enduml\r\n",
       "\n",
       "PlantUML version 1.2020.13(Sat Jun 13 12:26:38 UTC 2020)\n",
       "(EPL source distribution)\n",
       "Java Runtime: OpenJDK Runtime Environment\n",
       "JVM: OpenJDK 64-Bit Server VM\n",
       "Default Encoding: UTF-8\n",
       "Language: en\n",
       "Country: null\n",
       "--></g></svg>"
      ]
     },
     "execution_count": 31,
     "metadata": {},
     "output_type": "execute_result"
    }
   ],
   "source": [
    "%viz --style=\"PLANTUML\" --view=\"Tree\" \"TradeStudyTest\""
   ]
  },
  {
   "cell_type": "code",
   "execution_count": 32,
   "id": "f41cbcb4",
   "metadata": {
    "execution": {
     "iopub.execute_input": "2021-08-04T06:27:40.121012Z",
     "iopub.status.busy": "2021-08-04T06:27:40.120597Z",
     "iopub.status.idle": "2021-08-04T06:27:40.193586Z",
     "shell.execute_reply": "2021-08-04T06:27:40.192404Z"
    }
   },
   "outputs": [
    {
     "data": {
      "image/svg+xml": [
       "<?xml version=\"1.0\" encoding=\"UTF-8\" standalone=\"no\"?><svg xmlns=\"http://www.w3.org/2000/svg\" xmlns:xlink=\"http://www.w3.org/1999/xlink\" contentScriptType=\"application/ecmascript\" contentStyleType=\"text/css\" height=\"303px\" preserveAspectRatio=\"none\" style=\"width:603px;height:303px;background:#000000;\" version=\"1.1\" viewBox=\"0 0 603 303\" width=\"603px\" zoomAndPan=\"magnify\"><defs/><g><rect fill=\"#271623\" height=\"1\" style=\"stroke: #271623; stroke-width: 1.0;\" width=\"1\" x=\"0\" y=\"0\"/><rect fill=\"#FFFFFF\" height=\"205.5625\" style=\"stroke: #FFFFFF; stroke-width: 1.0;\" width=\"602\" x=\"0\" y=\"0\"/><text fill=\"#000000\" font-family=\"sans-serif\" font-size=\"12\" font-weight=\"bold\" lengthAdjust=\"spacingAndGlyphs\" textLength=\"159\" x=\"5\" y=\"16.1387\">Welcome to PlantUML!</text><text fill=\"#000000\" font-family=\"sans-serif\" font-size=\"12\" lengthAdjust=\"spacingAndGlyphs\" textLength=\"0\" x=\"9\" y=\"30.1074\"/><text fill=\"#000000\" font-family=\"sans-serif\" font-size=\"12\" lengthAdjust=\"spacingAndGlyphs\" textLength=\"293\" x=\"5\" y=\"44.0762\">If you use this software, you accept its license.</text><text fill=\"#000000\" font-family=\"sans-serif\" font-size=\"12\" lengthAdjust=\"spacingAndGlyphs\" textLength=\"107\" x=\"5\" y=\"58.0449\">(details by typing</text><text fill=\"#000000\" font-family=\"monospace\" font-size=\"12\" lengthAdjust=\"spacingAndGlyphs\" textLength=\"49\" x=\"116\" y=\"58.0449\">license</text><text fill=\"#000000\" font-family=\"sans-serif\" font-size=\"12\" lengthAdjust=\"spacingAndGlyphs\" textLength=\"56\" x=\"169\" y=\"58.0449\">keyword)</text><text fill=\"#000000\" font-family=\"sans-serif\" font-size=\"12\" lengthAdjust=\"spacingAndGlyphs\" textLength=\"0\" x=\"9\" y=\"72.0137\"/><text fill=\"#000000\" font-family=\"sans-serif\" font-size=\"12\" lengthAdjust=\"spacingAndGlyphs\" textLength=\"283\" x=\"5\" y=\"85.9824\">You can start with a simple UML Diagram like:</text><text fill=\"#000000\" font-family=\"sans-serif\" font-size=\"12\" lengthAdjust=\"spacingAndGlyphs\" textLength=\"0\" x=\"9\" y=\"99.9512\"/><text fill=\"#000000\" font-family=\"monospace\" font-size=\"12\" lengthAdjust=\"spacingAndGlyphs\" textLength=\"119\" x=\"5\" y=\"113.9199\">Bob-&gt;Alice: Hello</text><text fill=\"#000000\" font-family=\"sans-serif\" font-size=\"12\" lengthAdjust=\"spacingAndGlyphs\" textLength=\"0\" x=\"9\" y=\"127.8887\"/><text fill=\"#000000\" font-family=\"sans-serif\" font-size=\"12\" lengthAdjust=\"spacingAndGlyphs\" textLength=\"14\" x=\"5\" y=\"141.8574\">Or</text><text fill=\"#000000\" font-family=\"sans-serif\" font-size=\"12\" lengthAdjust=\"spacingAndGlyphs\" textLength=\"0\" x=\"9\" y=\"155.8262\"/><text fill=\"#000000\" font-family=\"monospace\" font-size=\"12\" lengthAdjust=\"spacingAndGlyphs\" textLength=\"91\" x=\"5\" y=\"169.7949\">class Example</text><text fill=\"#000000\" font-family=\"sans-serif\" font-size=\"12\" lengthAdjust=\"spacingAndGlyphs\" textLength=\"0\" x=\"9\" y=\"183.7637\"/><text fill=\"#000000\" font-family=\"sans-serif\" font-size=\"12\" lengthAdjust=\"spacingAndGlyphs\" textLength=\"349\" x=\"5\" y=\"197.7324\">You will find more information about PlantUML syntax on</text><text fill=\"#000000\" font-family=\"sans-serif\" font-size=\"12\" lengthAdjust=\"spacingAndGlyphs\" text-decoration=\"underline\" textLength=\"129\" x=\"358\" y=\"197.7324\">https://plantuml.com</text><image height=\"71\" width=\"80\" x=\"516\" xlink:href=\"data:image/png;base64,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\" y=\"6\"/><rect fill=\"#000000\" height=\"96.4844\" style=\"stroke: #000000; stroke-width: 1.0;\" width=\"602\" x=\"0\" y=\"205.5625\"/><rect fill=\"#33FF02\" height=\"21.2969\" style=\"stroke: #33FF02; stroke-width: 1.0;\" width=\"170\" x=\"5\" y=\"210.5625\"/><text fill=\"#000000\" font-family=\"sans-serif\" font-size=\"14\" font-weight=\"bold\" lengthAdjust=\"spacingAndGlyphs\" textLength=\"168\" x=\"6\" y=\"225.5625\">[From string (line 2) ]</text><text fill=\"#33FF02\" font-family=\"sans-serif\" font-size=\"14\" font-weight=\"bold\" lengthAdjust=\"spacingAndGlyphs\" textLength=\"0\" x=\"10\" y=\"245.8594\"/><text fill=\"#33FF02\" font-family=\"sans-serif\" font-size=\"14\" font-weight=\"bold\" lengthAdjust=\"spacingAndGlyphs\" textLength=\"79\" x=\"5\" y=\"262.1563\">@startuml</text><text fill=\"#33FF02\" font-family=\"sans-serif\" font-size=\"14\" font-weight=\"bold\" lengthAdjust=\"spacingAndGlyphs\" textLength=\"0\" x=\"10\" y=\"278.4531\"/><text fill=\"#FF0000\" font-family=\"sans-serif\" font-size=\"14\" font-weight=\"bold\" lengthAdjust=\"spacingAndGlyphs\" textLength=\"142\" x=\"10\" y=\"294.75\">Empty description</text><!--MD5=[f59edd8218d337f74d0c332fc6737304]\n",
       "@startuml\r\n",
       " \r\n",
       "@enduml\r\n",
       "\n",
       "PlantUML version 1.2020.13(Sat Jun 13 12:26:38 UTC 2020)\n",
       "(EPL source distribution)\n",
       "Java Runtime: OpenJDK Runtime Environment\n",
       "JVM: OpenJDK 64-Bit Server VM\n",
       "Default Encoding: UTF-8\n",
       "Language: en\n",
       "Country: null\n",
       "--></g></svg>"
      ]
     },
     "execution_count": 32,
     "metadata": {},
     "output_type": "execute_result"
    }
   ],
   "source": [
    "%viz --style=\"PLANTUML\" --view=\"State\" \"TradeStudyTest\""
   ]
  },
  {
   "cell_type": "code",
   "execution_count": 33,
   "id": "ac0bc582",
   "metadata": {
    "execution": {
     "iopub.execute_input": "2021-08-04T06:27:40.243266Z",
     "iopub.status.busy": "2021-08-04T06:27:40.242872Z",
     "iopub.status.idle": "2021-08-04T06:27:40.274006Z",
     "shell.execute_reply": "2021-08-04T06:27:40.272700Z"
    }
   },
   "outputs": [
    {
     "data": {
      "image/svg+xml": [
       "<?xml version=\"1.0\" encoding=\"UTF-8\" standalone=\"no\"?><svg xmlns=\"http://www.w3.org/2000/svg\" xmlns:xlink=\"http://www.w3.org/1999/xlink\" contentScriptType=\"application/ecmascript\" contentStyleType=\"text/css\" height=\"347px\" preserveAspectRatio=\"none\" style=\"width:644px;height:347px;\" version=\"1.1\" viewBox=\"0 0 644 347\" width=\"644px\" zoomAndPan=\"magnify\"><defs><filter height=\"300%\" id=\"f1fckbjj9upz80\" width=\"300%\" x=\"-1\" y=\"-1\"><feGaussianBlur result=\"blurOut\" stdDeviation=\"2.0\"/><feColorMatrix in=\"blurOut\" result=\"blurOut2\" type=\"matrix\" values=\"0 0 0 0 0 0 0 0 0 0 0 0 0 0 0 0 0 0 .4 0\"/><feOffset dx=\"4.0\" dy=\"4.0\" in=\"blurOut2\" result=\"blurOut3\"/><feBlend in=\"SourceGraphic\" in2=\"blurOut3\" mode=\"normal\"/></filter></defs><g><!--MD5=[fbc87193dbaf4d95561dea2c320d4a47]\n",
       "cluster E1--><a href=\"psysml:0d92d0af-a8c4-487d-a88b-e96d8d162758\" target=\"_top\" title=\"psysml:0d92d0af-a8c4-487d-a88b-e96d8d162758\" xlink:actuate=\"onRequest\" xlink:href=\"psysml:0d92d0af-a8c4-487d-a88b-e96d8d162758\" xlink:show=\"new\" xlink:title=\"psysml:0d92d0af-a8c4-487d-a88b-e96d8d162758\" xlink:type=\"simple\"><polygon fill=\"#FFFFFF\" filter=\"url(#f1fckbjj9upz80)\" points=\"16,6,148,6,155,28.2969,622,28.2969,622,335,16,335,16,6\" style=\"stroke: #000000; stroke-width: 1.5;\"/><line style=\"stroke: #000000; stroke-width: 1.5;\" x1=\"16\" x2=\"155\" y1=\"28.2969\" y2=\"28.2969\"/><text fill=\"#000000\" font-family=\"sans-serif\" font-size=\"14\" font-weight=\"bold\" lengthAdjust=\"spacingAndGlyphs\" textLength=\"126\" x=\"20\" y=\"20.9951\">TradeStudyTest</text></a><!--MD5=[270fce915f116d4de14055a7c1d9a0f3]\n",
       "class E5--><a href=\"psysml:c0123459-da5a-4fa7-ba13-511d4e5fcdf0\" target=\"_top\" title=\"psysml:c0123459-da5a-4fa7-ba13-511d4e5fcdf0\" xlink:actuate=\"onRequest\" xlink:href=\"psysml:c0123459-da5a-4fa7-ba13-511d4e5fcdf0\" xlink:show=\"new\" xlink:title=\"psysml:c0123459-da5a-4fa7-ba13-511d4e5fcdf0\" xlink:type=\"simple\"><rect fill=\"#FEFECE\" filter=\"url(#f1fckbjj9upz80)\" height=\"45.9375\" id=\"E5\" rx=\"10\" ry=\"10\" style=\"stroke: #A80036; stroke-width: 1.5;\" width=\"225\" x=\"380.5\" y=\"41\"/><ellipse cx=\"395.5\" cy=\"59.9688\" fill=\"#B6DBBB\" rx=\"11\" ry=\"11\" style=\"stroke: #A80036; stroke-width: 1.0;\"/><path d=\"M391.375,61.8906 L391.375,54.0781 L393.8281,54.0781 L393.8281,62.5156 Q393.8281,63.4375 394.2969,63.9688 Q394.7813,64.5 395.6094,64.5 Q396.4531,64.5 396.9219,63.9688 Q397.3906,63.4375 397.3906,62.5156 L397.3906,54.0781 L399.8438,54.0781 L399.8438,61.8906 Q399.8438,64.4219 398.8438,65.5625 Q397.8438,66.7031 395.6094,66.7031 Q393.3906,66.7031 392.375,65.5625 Q391.375,64.4219 391.375,61.8906 Z \"/><text fill=\"#000000\" font-family=\"sans-serif\" font-size=\"12\" font-style=\"italic\" lengthAdjust=\"spacingAndGlyphs\" textLength=\"64\" x=\"474\" y=\"57.1387\">«analysis»</text><text fill=\"#000000\" font-family=\"sans-serif\" font-size=\"12\" lengthAdjust=\"spacingAndGlyphs\" textLength=\"193\" x=\"409.5\" y=\"71.1074\">engineTradeStudy: TradeStudy</text><line style=\"stroke: #A80036; stroke-width: 1.5;\" x1=\"381.5\" x2=\"604.5\" y1=\"78.9375\" y2=\"78.9375\"/></a><!--MD5=[60a26617385b1d2d0262a64233df1f8d]\n",
       "class E6--><a href=\"psysml:d3ca6a29-f1f6-48ae-8677-7ec75b0f5c21\" target=\"_top\" title=\"psysml:d3ca6a29-f1f6-48ae-8677-7ec75b0f5c21\" xlink:actuate=\"onRequest\" xlink:href=\"psysml:d3ca6a29-f1f6-48ae-8677-7ec75b0f5c21\" xlink:show=\"new\" xlink:title=\"psysml:d3ca6a29-f1f6-48ae-8677-7ec75b0f5c21\" xlink:type=\"simple\"><rect fill=\"#FEFECE\" filter=\"url(#f1fckbjj9upz80)\" height=\"45.9375\" id=\"E6\" rx=\"10\" ry=\"10\" style=\"stroke: #A80036; stroke-width: 1.5;\" width=\"277\" x=\"32.5\" y=\"120\"/><ellipse cx=\"47.5\" cy=\"138.9688\" fill=\"#FFA500\" rx=\"11\" ry=\"11\" style=\"stroke: #A80036; stroke-width: 1.0;\"/><path d=\"M43.375,140.8906 L43.375,133.0781 L45.8281,133.0781 L45.8281,141.5156 Q45.8281,142.4375 46.2969,142.9688 Q46.7813,143.5 47.6094,143.5 Q48.4531,143.5 48.9219,142.9688 Q49.3906,142.4375 49.3906,141.5156 L49.3906,133.0781 L51.8438,133.0781 L51.8438,140.8906 Q51.8438,143.4219 50.8438,144.5625 Q49.8438,145.7031 47.6094,145.7031 Q45.3906,145.7031 44.375,144.5625 Q43.375,143.4219 43.375,140.8906 Z \"/><text fill=\"#000000\" font-family=\"sans-serif\" font-size=\"12\" font-style=\"italic\" lengthAdjust=\"spacingAndGlyphs\" textLength=\"91\" x=\"138.5\" y=\"136.1387\">«requirement»</text><text fill=\"#000000\" font-family=\"sans-serif\" font-size=\"12\" lengthAdjust=\"spacingAndGlyphs\" textLength=\"245\" x=\"61.5\" y=\"150.1074\">tradeStudyObjective: MaximizeObjective</text><line style=\"stroke: #A80036; stroke-width: 1.5;\" x1=\"33.5\" x2=\"308.5\" y1=\"157.9375\" y2=\"157.9375\"/></a><!--MD5=[2156ba9850f5573cc1fc38a6a4b2f02b]\n",
       "class E7--><a href=\"psysml:f099413c-f817-477f-a757-2c07f6450928\" target=\"_top\" title=\"psysml:f099413c-f817-477f-a757-2c07f6450928\" xlink:actuate=\"onRequest\" xlink:href=\"psysml:f099413c-f817-477f-a757-2c07f6450928\" xlink:show=\"new\" xlink:title=\"psysml:f099413c-f817-477f-a757-2c07f6450928\" xlink:type=\"simple\"><rect fill=\"#FEFECE\" filter=\"url(#f1fckbjj9upz80)\" height=\"45.9375\" id=\"E7\" rx=\"10\" ry=\"10\" style=\"stroke: #A80036; stroke-width: 1.5;\" width=\"142\" x=\"345\" y=\"120\"/><ellipse cx=\"360\" cy=\"138.9688\" fill=\"#FFA500\" rx=\"11\" ry=\"11\" style=\"stroke: #A80036; stroke-width: 1.0;\"/><path d=\"M355.875,140.8906 L355.875,133.0781 L358.3281,133.0781 L358.3281,141.5156 Q358.3281,142.4375 358.7969,142.9688 Q359.2813,143.5 360.1094,143.5 Q360.9531,143.5 361.4219,142.9688 Q361.8906,142.4375 361.8906,141.5156 L361.8906,133.0781 L364.3438,133.0781 L364.3438,140.8906 Q364.3438,143.4219 363.3438,144.5625 Q362.3438,145.7031 360.1094,145.7031 Q357.8906,145.7031 356.875,144.5625 Q355.875,143.4219 355.875,140.8906 Z \"/><text fill=\"#000000\" font-family=\"sans-serif\" font-size=\"12\" font-style=\"italic\" lengthAdjust=\"spacingAndGlyphs\" textLength=\"82\" x=\"388\" y=\"136.1387\">«calculation»</text><text fill=\"#000000\" font-family=\"sans-serif\" font-size=\"12\" lengthAdjust=\"spacingAndGlyphs\" textLength=\"110\" x=\"374\" y=\"150.1074\">objectiveFunction</text><line style=\"stroke: #A80036; stroke-width: 1.5;\" x1=\"346\" x2=\"486\" y1=\"157.9375\" y2=\"157.9375\"/></a><!--MD5=[b9389687b975829384b498ac4b7476b2]\n",
       "class E8--><a href=\"psysml:26f566d1-080d-4e4d-ba32-38c38fdc0bde\" target=\"_top\" title=\"psysml:26f566d1-080d-4e4d-ba32-38c38fdc0bde\" xlink:actuate=\"onRequest\" xlink:href=\"psysml:26f566d1-080d-4e4d-ba32-38c38fdc0bde\" xlink:show=\"new\" xlink:title=\"psysml:26f566d1-080d-4e4d-ba32-38c38fdc0bde\" xlink:type=\"simple\"><rect fill=\"#FEFECE\" filter=\"url(#f1fckbjj9upz80)\" height=\"40\" id=\"E8\" rx=\"10\" ry=\"10\" style=\"stroke: #A80036; stroke-width: 1.5;\" width=\"150\" x=\"217\" y=\"222\"/><ellipse cx=\"232\" cy=\"238\" fill=\"#B6DBBB\" rx=\"11\" ry=\"11\" style=\"stroke: #A80036; stroke-width: 1.0;\"/><path d=\"M227.875,239.9219 L227.875,232.1094 L230.3281,232.1094 L230.3281,240.5469 Q230.3281,241.4688 230.7969,242 Q231.2813,242.5313 232.1094,242.5313 Q232.9531,242.5313 233.4219,242 Q233.8906,241.4688 233.8906,240.5469 L233.8906,232.1094 L236.3438,232.1094 L236.3438,239.9219 Q236.3438,242.4531 235.3438,243.5938 Q234.3438,244.7344 232.1094,244.7344 Q229.8906,244.7344 228.875,243.5938 Q227.875,242.4531 227.875,239.9219 Z \"/><text fill=\"#000000\" font-family=\"sans-serif\" font-size=\"12\" lengthAdjust=\"spacingAndGlyphs\" textLength=\"118\" x=\"246\" y=\"242.1543\">alternative: Engine</text><line style=\"stroke: #A80036; stroke-width: 1.5;\" x1=\"218\" x2=\"366\" y1=\"254\" y2=\"254\"/></a><!--MD5=[fd4143e9d270a159db93a4ea2a975926]\n",
       "class E9--><a href=\"psysml:7894e875-c3b4-453b-9dc9-b899c04487e6\" target=\"_top\" title=\"psysml:7894e875-c3b4-453b-9dc9-b899c04487e6\" xlink:actuate=\"onRequest\" xlink:href=\"psysml:7894e875-c3b4-453b-9dc9-b899c04487e6\" xlink:show=\"new\" xlink:title=\"psysml:7894e875-c3b4-453b-9dc9-b899c04487e6\" xlink:type=\"simple\"><rect fill=\"#FEFECE\" filter=\"url(#f1fckbjj9upz80)\" height=\"40\" id=\"E9\" rx=\"10\" ry=\"10\" style=\"stroke: #A80036; stroke-width: 1.5;\" width=\"204\" x=\"298\" y=\"174\"/><ellipse cx=\"313\" cy=\"190\" fill=\"#B6DBBB\" rx=\"11\" ry=\"11\" style=\"stroke: #A80036; stroke-width: 1.0;\"/><path d=\"M308.875,191.9219 L308.875,184.1094 L311.3281,184.1094 L311.3281,192.5469 Q311.3281,193.4688 311.7969,194 Q312.2813,194.5313 313.1094,194.5313 Q313.9531,194.5313 314.4219,194 Q314.8906,193.4688 314.8906,192.5469 L314.8906,184.1094 L317.3438,184.1094 L317.3438,191.9219 Q317.3438,194.4531 316.3438,195.5938 Q315.3438,196.7344 313.1094,196.7344 Q310.8906,196.7344 309.875,195.5938 Q308.875,194.4531 308.875,191.9219 Z \"/><text fill=\"#000000\" font-family=\"sans-serif\" font-size=\"12\" lengthAdjust=\"spacingAndGlyphs\" textLength=\"172\" x=\"327\" y=\"194.1543\">selectedAlternative: Engine</text><line style=\"stroke: #A80036; stroke-width: 1.5;\" x1=\"299\" x2=\"501\" y1=\"206\" y2=\"206\"/></a><g id=\"E1.E2\"><a href=\"psysml:90b379af-84e4-4b51-bcba-9b20024a2d1f\" target=\"_top\" title=\"psysml:90b379af-84e4-4b51-bcba-9b20024a2d1f\" xlink:actuate=\"onRequest\" xlink:href=\"psysml:90b379af-84e4-4b51-bcba-9b20024a2d1f\" xlink:show=\"new\" xlink:title=\"psysml:90b379af-84e4-4b51-bcba-9b20024a2d1f\" xlink:type=\"simple\"><rect fill=\"#FEFECE\" filter=\"url(#f1fckbjj9upz80)\" height=\"40\" id=\"E2\" style=\"stroke: #A80036; stroke-width: 1.5;\" width=\"80\" x=\"363\" y=\"279\"/><ellipse cx=\"380.25\" cy=\"295\" fill=\"#008000\" rx=\"11\" ry=\"11\" style=\"stroke: #A80036; stroke-width: 1.0;\"/><path d=\"M379.1563,295.375 L379.1563,299.0469 L380.7813,299.0469 Q381.9531,299.0469 382.4219,298.6563 Q382.8906,298.25 382.8906,297.25 Q382.8906,296.25 382.3906,295.8125 Q381.9063,295.375 380.7813,295.375 L379.1563,295.375 Z M379.1563,290.5469 L379.1563,293.4219 L380.7813,293.4219 Q381.7031,293.4219 382.0938,293.0938 Q382.5,292.75 382.5,292 Q382.5,291.2344 382.0938,290.8906 Q381.6875,290.5469 380.7813,290.5469 L379.1563,290.5469 Z M376.7813,288.5938 L380.7813,288.5938 Q382.8438,288.5938 383.8906,289.375 Q384.9375,290.1563 384.9375,291.7188 Q384.9375,292.9219 384.3125,293.5938 Q383.7031,294.2656 382.5156,294.375 Q383.9375,294.5156 384.6563,295.3281 Q385.375,296.1406 385.375,297.5938 Q385.375,299.3906 384.2969,300.2031 Q383.2188,301 380.7813,301 L376.7813,301 L376.7813,288.5938 Z \"/><text fill=\"#000000\" font-family=\"sans-serif\" font-size=\"12\" lengthAdjust=\"spacingAndGlyphs\" textLength=\"43\" x=\"394.75\" y=\"299.1543\">Engine</text></a></g><g id=\"E1.E3\"><a href=\"psysml:1fe04244-3a7b-4d3a-93e0-0fd9f61a7cea\" target=\"_top\" title=\"psysml:1fe04244-3a7b-4d3a-93e0-0fd9f61a7cea\" xlink:actuate=\"onRequest\" xlink:href=\"psysml:1fe04244-3a7b-4d3a-93e0-0fd9f61a7cea\" xlink:show=\"new\" xlink:title=\"psysml:1fe04244-3a7b-4d3a-93e0-0fd9f61a7cea\" xlink:type=\"simple\"><rect fill=\"#FEFECE\" filter=\"url(#f1fckbjj9upz80)\" height=\"40\" id=\"E3\" rx=\"10\" ry=\"10\" style=\"stroke: #A80036; stroke-width: 1.5;\" width=\"139\" x=\"206.5\" y=\"44\"/><ellipse cx=\"223.75\" cy=\"60\" fill=\"#B6DBBB\" rx=\"11\" ry=\"11\" style=\"stroke: #A80036; stroke-width: 1.0;\"/><path d=\"M219.625,61.9219 L219.625,54.1094 L222.0781,54.1094 L222.0781,62.5469 Q222.0781,63.4688 222.5469,64 Q223.0313,64.5313 223.8594,64.5313 Q224.7031,64.5313 225.1719,64 Q225.6406,63.4688 225.6406,62.5469 L225.6406,54.1094 L228.0938,54.1094 L228.0938,61.9219 Q228.0938,64.4531 227.0938,65.5938 Q226.0938,66.7344 223.8594,66.7344 Q221.6406,66.7344 220.625,65.5938 Q219.625,64.4531 219.625,61.9219 Z \"/><text fill=\"#000000\" font-family=\"sans-serif\" font-size=\"12\" lengthAdjust=\"spacingAndGlyphs\" textLength=\"102\" x=\"238.25\" y=\"64.1543\">engine1: Engine</text></a></g><g id=\"E1.E4\"><a href=\"psysml:07207da4-9c20-4091-a953-293a54d08950\" target=\"_top\" title=\"psysml:07207da4-9c20-4091-a953-293a54d08950\" xlink:actuate=\"onRequest\" xlink:href=\"psysml:07207da4-9c20-4091-a953-293a54d08950\" xlink:show=\"new\" xlink:title=\"psysml:07207da4-9c20-4091-a953-293a54d08950\" xlink:type=\"simple\"><rect fill=\"#FEFECE\" filter=\"url(#f1fckbjj9upz80)\" height=\"40\" id=\"E4\" rx=\"10\" ry=\"10\" style=\"stroke: #A80036; stroke-width: 1.5;\" width=\"139\" x=\"32.5\" y=\"44\"/><ellipse cx=\"49.75\" cy=\"60\" fill=\"#B6DBBB\" rx=\"11\" ry=\"11\" style=\"stroke: #A80036; stroke-width: 1.0;\"/><path d=\"M45.625,61.9219 L45.625,54.1094 L48.0781,54.1094 L48.0781,62.5469 Q48.0781,63.4688 48.5469,64 Q49.0313,64.5313 49.8594,64.5313 Q50.7031,64.5313 51.1719,64 Q51.6406,63.4688 51.6406,62.5469 L51.6406,54.1094 L54.0938,54.1094 L54.0938,61.9219 Q54.0938,64.4531 53.0938,65.5938 Q52.0938,66.7344 49.8594,66.7344 Q47.6406,66.7344 46.625,65.5938 Q45.625,64.4531 45.625,61.9219 Z \"/><text fill=\"#000000\" font-family=\"sans-serif\" font-size=\"12\" lengthAdjust=\"spacingAndGlyphs\" textLength=\"102\" x=\"64.25\" y=\"64.1543\">engine2: Engine</text></a></g><!--MD5=[15ebcb19ae302d9b601edb458606d402]\n",
       "link E5 to E2--><a href=\"psysml:ecc21de6-0c62-41d5-be03-95573cca647a\" target=\"_top\" title=\"psysml:ecc21de6-0c62-41d5-be03-95573cca647a\" xlink:actuate=\"onRequest\" xlink:href=\"psysml:ecc21de6-0c62-41d5-be03-95573cca647a\" xlink:show=\"new\" xlink:title=\"psysml:ecc21de6-0c62-41d5-be03-95573cca647a\" xlink:type=\"simple\"><path d=\"M514.17,87.23 C515.71,89.72 517.03,92.32 518,95 C536.15,145.12 532.55,169.63 503,214 C486.27,239.12 459.9,260.83 438.44,275.88 \" fill=\"none\" id=\"E5-&gt;E2\" style=\"stroke: #A80036; stroke-width: 1.0; stroke-dasharray: 7.0,7.0;\"/><polygon fill=\"#A80036\" points=\"434.21,278.81,443.8882,276.9846,438.3235,275.9677,439.3405,270.403,434.21,278.81\" style=\"stroke: #A80036; stroke-width: 1.0;\"/><text fill=\"#000000\" font-family=\"sans-serif\" font-size=\"13\" lengthAdjust=\"spacingAndGlyphs\" textLength=\"62\" x=\"525\" y=\"198.5669\">«subject»</text></a><!--MD5=[9120cf2e5df3bff93db8f754bbbc09b4]\n",
       "link E5 to E6--><a href=\"psysml:fcf6c150-3866-4336-9e66-2e65ffb041aa\" target=\"_top\" title=\"psysml:fcf6c150-3866-4336-9e66-2e65ffb041aa\" xlink:actuate=\"onRequest\" xlink:href=\"psysml:fcf6c150-3866-4336-9e66-2e65ffb041aa\" xlink:show=\"new\" xlink:title=\"psysml:fcf6c150-3866-4336-9e66-2e65ffb041aa\" xlink:type=\"simple\"><path d=\"M397.87,87.01 C386.45,89.68 374.96,92.39 364,95 C333.05,102.37 299.34,110.53 268.88,117.95 \" fill=\"none\" id=\"E5-&gt;E6\" style=\"stroke: #A80036; stroke-width: 1.0;\"/><polygon fill=\"#A80036\" points=\"260.8,119.93,269.2836,120.9442,267.8586,115.1159,260.8,119.93\" style=\"stroke: #A80036; stroke-width: 1.0;\"/><text fill=\"#000000\" font-family=\"sans-serif\" font-size=\"13\" lengthAdjust=\"spacingAndGlyphs\" textLength=\"73\" x=\"365\" y=\"108.0669\">«objective»</text></a><!--MD5=[452b418e7f8a40397a49b8c0a78acc5b]\n",
       "reverse link E5 to E7--><a href=\"psysml:a988c065-f70c-4bb4-ab6a-fca08357bc4a\" target=\"_top\" title=\"psysml:a988c065-f70c-4bb4-ab6a-fca08357bc4a\" xlink:actuate=\"onRequest\" xlink:href=\"psysml:a988c065-f70c-4bb4-ab6a-fca08357bc4a\" xlink:show=\"new\" xlink:title=\"psysml:a988c065-f70c-4bb4-ab6a-fca08357bc4a\" xlink:type=\"simple\"><path d=\"M461.49,96.51 C453.68,104.32 445.48,112.52 438.22,119.78 \" fill=\"none\" id=\"E5&lt;-E7\" style=\"stroke: #A80036; stroke-width: 1.0;\"/><polygon fill=\"#A80036\" points=\"470.73,87.27,463.6589,88.6842,462.2447,95.7553,469.3158,94.3411,470.73,87.27\" style=\"stroke: #A80036; stroke-width: 1.0;\"/></a><!--MD5=[dc164f5e8a733ab456ef1add180e9e34]\n",
       "reverse link E7 to E8--><a href=\"psysml:4295af6e-acd7-489b-9191-c25409e1351b\" target=\"_top\" title=\"psysml:4295af6e-acd7-489b-9191-c25409e1351b\" xlink:actuate=\"onRequest\" xlink:href=\"psysml:4295af6e-acd7-489b-9191-c25409e1351b\" xlink:show=\"new\" xlink:title=\"psysml:4295af6e-acd7-489b-9191-c25409e1351b\" xlink:type=\"simple\"><path d=\"M332.25,164.89 C312.6,169.83 297.2,173.77 297,174 C286.04,187.03 285.95,206.99 287.91,221.74 \" fill=\"none\" id=\"E7&lt;-E8\" style=\"stroke: #A80036; stroke-width: 1.0;\"/><polygon fill=\"#FFFFFF\" points=\"344.95,161.7,338.1584,159.2765,333.3091,164.6135,340.1007,167.0371,344.95,161.7\" style=\"stroke: #A80036; stroke-width: 1.0;\"/><text fill=\"#000000\" font-family=\"sans-serif\" font-size=\"13\" lengthAdjust=\"spacingAndGlyphs\" textLength=\"8\" x=\"277.6347\" y=\"211.0181\">1</text></a><!--MD5=[f1f3f9f2fc535e6147756cb86a7f2e32]\n",
       "link E8 to E2--><a href=\"psysml:aed7fba6-fc0e-4a29-a473-c7d943b57344\" target=\"_top\" title=\"psysml:aed7fba6-fc0e-4a29-a473-c7d943b57344\" xlink:actuate=\"onRequest\" xlink:href=\"psysml:aed7fba6-fc0e-4a29-a473-c7d943b57344\" xlink:show=\"new\" xlink:title=\"psysml:aed7fba6-fc0e-4a29-a473-c7d943b57344\" xlink:type=\"simple\"><path d=\"M330.51,262.08 C335.68,264.64 341.06,267.31 346.46,269.98 \" fill=\"none\" id=\"E8-&gt;E2\" style=\"stroke: #A80036; stroke-width: 1.0;\"/><polygon fill=\"#FFFFFF\" points=\"364.56,278.95,344.427,276.7911,350.6399,264.2452,364.56,278.95\" style=\"stroke: #A80036; stroke-width: 1.0;\"/><ellipse cx=\"340.2065\" cy=\"272.4693\" fill=\"#A80036\" rx=\"2\" ry=\"2\" style=\"stroke: #A80036; stroke-width: 1.0;\"/><ellipse cx=\"344.6443\" cy=\"263.508\" fill=\"#A80036\" rx=\"2\" ry=\"2\" style=\"stroke: #A80036; stroke-width: 1.0;\"/></a><!--MD5=[9ae28de373ca99bb8a1b38d63370ca7e]\n",
       "reverse link E5 to E9--><a href=\"psysml:afcc773f-3f6f-47e3-9b17-c2b1fd7bbdc3\" target=\"_top\" title=\"psysml:afcc773f-3f6f-47e3-9b17-c2b1fd7bbdc3\" xlink:actuate=\"onRequest\" xlink:href=\"psysml:afcc773f-3f6f-47e3-9b17-c2b1fd7bbdc3\" xlink:show=\"new\" xlink:title=\"psysml:afcc773f-3f6f-47e3-9b17-c2b1fd7bbdc3\" xlink:type=\"simple\"><path d=\"M508.56,99.53 C515.57,120.77 519.43,147.39 505,166 C502.75,168.9 498.75,171.54 493.58,173.94 \" fill=\"none\" id=\"E5&lt;-E9\" style=\"stroke: #A80036; stroke-width: 1.0;\"/><polygon fill=\"#FFFFFF\" points=\"503.93,87.12,502.2779,94.1393,508.1218,98.3641,509.7739,91.3448,503.93,87.12\" style=\"stroke: #A80036; stroke-width: 1.0;\"/><text fill=\"#000000\" font-family=\"sans-serif\" font-size=\"13\" lengthAdjust=\"spacingAndGlyphs\" textLength=\"8\" x=\"510.1388\" y=\"167.2634\">1</text></a><!--MD5=[5c3bb36fe832a92c7f0e1807dd65209d]\n",
       "link E9 to E2--><a href=\"psysml:09d901e9-14a1-4a34-80ae-448f8674b33c\" target=\"_top\" title=\"psysml:09d901e9-14a1-4a34-80ae-448f8674b33c\" xlink:actuate=\"onRequest\" xlink:href=\"psysml:09d901e9-14a1-4a34-80ae-448f8674b33c\" xlink:show=\"new\" xlink:title=\"psysml:09d901e9-14a1-4a34-80ae-448f8674b33c\" xlink:type=\"simple\"><path d=\"M400.56,214.37 C400.93,226.82 401.41,243.43 401.85,258.57 \" fill=\"none\" id=\"E9-&gt;E2\" style=\"stroke: #A80036; stroke-width: 1.0;\"/><polygon fill=\"#FFFFFF\" points=\"402.44,278.71,394.8864,259.9232,408.8804,259.5131,402.44,278.71\" style=\"stroke: #A80036; stroke-width: 1.0;\"/><ellipse cx=\"396.7186\" cy=\"254.1671\" fill=\"#A80036\" rx=\"2\" ry=\"2\" style=\"stroke: #A80036; stroke-width: 1.0;\"/><ellipse cx=\"406.7143\" cy=\"253.8741\" fill=\"#A80036\" rx=\"2\" ry=\"2\" style=\"stroke: #A80036; stroke-width: 1.0;\"/></a><!--MD5=[5f23191d8f6371e12e01dfc8f4eed3e4]\n",
       "@startuml\r\n",
       "skinparam ranksep 10\r\n",
       "skinparam rectangle {\r\n",
       " backgroundColor<<block>> LightGreen\r\n",
       "}\r\n",
       " \r\n",
       "package \"TradeStudyTest\" as E1  [[psysml:0d92d0af-a8c4-487d-a88b-e96d8d162758 ]]  {\r\n",
       "rec def \"Engine\" as E2 << << (B,green) >> [[psysml:90b379af-84e4-4b51-bcba-9b20024a2d1f ]] {\r\n",
       "}\r\n",
       "rec usage \"engine1: Engine\" as E3  [[psysml:1fe04244-3a7b-4d3a-93e0-0fd9f61a7cea ]] {\r\n",
       "}\r\n",
       "rec usage \"engine2: Engine\" as E4  [[psysml:07207da4-9c20-4091-a953-293a54d08950 ]] {\r\n",
       "}\r\n",
       "comp usage \"engineTradeStudy: TradeStudy\" as E5 << analysis>> [[psysml:c0123459-da5a-4fa7-ba13-511d4e5fcdf0 ]] {\r\n",
       "}\r\n",
       "comp usage \"tradeStudyObjective: MaximizeObjective\" as E6 << <<(U,orange) requirement>> [[psysml:d3ca6a29-f1f6-48ae-8677-7ec75b0f5c21 ]] {\r\n",
       "}\r\n",
       "comp usage \"objectiveFunction\" as E7 << <<(U,orange) calculation>> [[psysml:f099413c-f817-477f-a757-2c07f6450928 ]] {\r\n",
       "}\r\n",
       "comp usage \"alternative: Engine\" as E8  [[psysml:26f566d1-080d-4e4d-ba32-38c38fdc0bde ]] {\r\n",
       "}\r\n",
       "comp usage \"selectedAlternative: Engine\" as E9  [[psysml:7894e875-c3b4-453b-9dc9-b899c04487e6 ]] {\r\n",
       "}\r\n",
       "E5 ..> E2 [[psysml:ecc21de6-0c62-41d5-be03-95573cca647a ]] : <<subject>>\r\n",
       "E5 - ->> E6 [[psysml:fcf6c150-3866-4336-9e66-2e65ffb041aa ]] : <<objective>>\r\n",
       "E5 *- - E7 [[psysml:a988c065-f70c-4bb4-ab6a-fca08357bc4a ]] \r\n",
       "E7 o- - \"1\"E8 [[psysml:4295af6e-acd7-489b-9191-c25409e1351b ]] \r\n",
       "E8 - -:|> E2 [[psysml:aed7fba6-fc0e-4a29-a473-c7d943b57344 ]] \r\n",
       "E5 o- - \"1\"E9 [[psysml:afcc773f-3f6f-47e3-9b17-c2b1fd7bbdc3 ]] \r\n",
       "E9 - -:|> E2 [[psysml:09d901e9-14a1-4a34-80ae-448f8674b33c ]] \r\n",
       "}\r\n",
       "@enduml\r\n",
       "\n",
       "PlantUML version 1.2020.13(Sat Jun 13 12:26:38 UTC 2020)\n",
       "(EPL source distribution)\n",
       "Java Runtime: OpenJDK Runtime Environment\n",
       "JVM: OpenJDK 64-Bit Server VM\n",
       "Default Encoding: UTF-8\n",
       "Language: en\n",
       "Country: null\n",
       "--></g></svg>"
      ]
     },
     "execution_count": 33,
     "metadata": {},
     "output_type": "execute_result"
    }
   ],
   "source": [
    "%viz --style=\"PLANTUML\" --view=\"Interconnection\" \"TradeStudyTest\""
   ]
  },
  {
   "cell_type": "code",
   "execution_count": 34,
   "id": "de2533e3",
   "metadata": {
    "execution": {
     "iopub.execute_input": "2021-08-04T06:27:40.323393Z",
     "iopub.status.busy": "2021-08-04T06:27:40.322998Z",
     "iopub.status.idle": "2021-08-04T06:27:40.343393Z",
     "shell.execute_reply": "2021-08-04T06:27:40.343698Z"
    }
   },
   "outputs": [
    {
     "data": {
      "image/svg+xml": [
       "<?xml version=\"1.0\" encoding=\"UTF-8\" standalone=\"no\"?><svg xmlns=\"http://www.w3.org/2000/svg\" xmlns:xlink=\"http://www.w3.org/1999/xlink\" contentScriptType=\"application/ecmascript\" contentStyleType=\"text/css\" height=\"178px\" preserveAspectRatio=\"none\" style=\"width:393px;height:178px;\" version=\"1.1\" viewBox=\"0 0 393 178\" width=\"393px\" zoomAndPan=\"magnify\"><defs><filter height=\"300%\" id=\"f17bangu0m62k8\" width=\"300%\" x=\"-1\" y=\"-1\"><feGaussianBlur result=\"blurOut\" stdDeviation=\"2.0\"/><feColorMatrix in=\"blurOut\" result=\"blurOut2\" type=\"matrix\" values=\"0 0 0 0 0 0 0 0 0 0 0 0 0 0 0 0 0 0 .4 0\"/><feOffset dx=\"4.0\" dy=\"4.0\" in=\"blurOut2\" result=\"blurOut3\"/><feBlend in=\"SourceGraphic\" in2=\"blurOut3\" mode=\"normal\"/></filter></defs><g><!--MD5=[fbc87193dbaf4d95561dea2c320d4a47]\n",
       "cluster E1--><a href=\"psysml:c0123459-da5a-4fa7-ba13-511d4e5fcdf0\" target=\"_top\" title=\"psysml:c0123459-da5a-4fa7-ba13-511d4e5fcdf0\" xlink:actuate=\"onRequest\" xlink:href=\"psysml:c0123459-da5a-4fa7-ba13-511d4e5fcdf0\" xlink:show=\"new\" xlink:title=\"psysml:c0123459-da5a-4fa7-ba13-511d4e5fcdf0\" xlink:type=\"simple\"><rect fill=\"#FFFFFF\" filter=\"url(#f17bangu0m62k8)\" height=\"103.72\" id=\"E1\" rx=\"10\" ry=\"10\" style=\"stroke: #A80036; stroke-width: 1.5;\" width=\"354\" x=\"16.5\" y=\"42.0986\"/><rect fill=\"#FEFECE\" height=\"37.9375\" rx=\"10\" ry=\"10\" style=\"stroke: #FEFECE; stroke-width: 1.5;\" width=\"354\" x=\"16.5\" y=\"42.0986\"/><rect fill=\"#FEFECE\" height=\"10\" style=\"stroke: #FEFECE; stroke-width: 1.5;\" width=\"354\" x=\"16.5\" y=\"70.0361\"/><rect fill=\"none\" height=\"103.72\" id=\"E1\" rx=\"10\" ry=\"10\" style=\"stroke: #A80036; stroke-width: 1.5;\" width=\"354\" x=\"16.5\" y=\"42.0986\"/><text fill=\"#000000\" font-family=\"sans-serif\" font-size=\"12\" font-style=\"italic\" lengthAdjust=\"spacingAndGlyphs\" textLength=\"64\" x=\"161.5\" y=\"58.2373\">«analysis»</text><text fill=\"#000000\" font-family=\"sans-serif\" font-size=\"12\" lengthAdjust=\"spacingAndGlyphs\" textLength=\"114\" x=\"136.5\" y=\"72.2061\">engineTradeStudy</text><line style=\"stroke: #A80036; stroke-width: 1.0;\" x1=\"16.5\" x2=\"370.5\" y1=\"80.0361\" y2=\"80.0361\"/></a><!--MD5=[d5e69f78d87373223dbae638b30a9c99]\n",
       "cluster E3--><a href=\"psysml:f099413c-f817-477f-a757-2c07f6450928\" target=\"_top\" title=\"psysml:f099413c-f817-477f-a757-2c07f6450928\" xlink:actuate=\"onRequest\" xlink:href=\"psysml:f099413c-f817-477f-a757-2c07f6450928\" xlink:show=\"new\" xlink:title=\"psysml:f099413c-f817-477f-a757-2c07f6450928\" xlink:type=\"simple\"><rect fill=\"#FFFFFF\" filter=\"url(#f17bangu0m62k8)\" height=\"81.72\" id=\"E3\" rx=\"10\" ry=\"10\" style=\"stroke: #A80036; stroke-width: 1.5;\" width=\"150\" x=\"200.5\" y=\"64.0986\"/><rect fill=\"#FEFECE\" height=\"37.9375\" rx=\"10\" ry=\"10\" style=\"stroke: #FEFECE; stroke-width: 1.5;\" width=\"150\" x=\"200.5\" y=\"64.0986\"/><rect fill=\"#FEFECE\" height=\"10\" style=\"stroke: #FEFECE; stroke-width: 1.5;\" width=\"150\" x=\"200.5\" y=\"92.0361\"/><rect fill=\"none\" height=\"81.72\" id=\"E3\" rx=\"10\" ry=\"10\" style=\"stroke: #A80036; stroke-width: 1.5;\" width=\"150\" x=\"200.5\" y=\"64.0986\"/><text fill=\"#000000\" font-family=\"sans-serif\" font-size=\"12\" font-style=\"italic\" lengthAdjust=\"spacingAndGlyphs\" textLength=\"82\" x=\"234.5\" y=\"80.2373\">«calculation»</text><text fill=\"#000000\" font-family=\"sans-serif\" font-size=\"12\" lengthAdjust=\"spacingAndGlyphs\" textLength=\"110\" x=\"220.5\" y=\"94.2061\">objectiveFunction</text><line style=\"stroke: #A80036; stroke-width: 1.0;\" x1=\"200.5\" x2=\"350.5\" y1=\"102.0361\" y2=\"102.0361\"/></a><text fill=\"#000000\" font-family=\"sans-serif\" font-size=\"14\" lengthAdjust=\"spacingAndGlyphs\" textLength=\"57\" x=\"6\" y=\"20.7969\">noname</text><rect fill=\"#A80036\" height=\"12\" style=\"stroke: #FEFECE; stroke-width: 1.5;\" width=\"12\" x=\"28.5\" y=\"36.0986\"/><text fill=\"#000000\" font-family=\"sans-serif\" font-size=\"14\" lengthAdjust=\"spacingAndGlyphs\" textLength=\"57\" x=\"324\" y=\"164.8138\">noname</text><rect fill=\"#A80036\" height=\"12\" style=\"stroke: #FEFECE; stroke-width: 1.5;\" width=\"12\" x=\"346.5\" y=\"139.8186\"/><text fill=\"#000000\" font-family=\"sans-serif\" font-size=\"14\" lengthAdjust=\"spacingAndGlyphs\" textLength=\"57\" x=\"194\" y=\"164.8138\">noname</text><rect fill=\"#A80036\" height=\"12\" style=\"stroke: #FEFECE; stroke-width: 1.5;\" width=\"12\" x=\"216.5\" y=\"139.8186\"/><!--MD5=[6a57cc1c21f37a18bc685aa8b350c391]\n",
       "@startuml\r\n",
       "skinparam ranksep 8\r\n",
       " \r\n",
       "rec usage \"engineTradeStudy\" as E1 << analysis>> [[psysml:c0123459-da5a-4fa7-ba13-511d4e5fcdf0 ]] {\r\n",
       "portin \"noname\" as E2  [[psysml:210e0914-9352-49ef-884c-3efb23c87d05 ]] \r\n",
       "rec usage \"objectiveFunction\" as E3 << <<(U,orange) calculation>> [[psysml:f099413c-f817-477f-a757-2c07f6450928 ]] {\r\n",
       "portout \"noname\" as E4  [[psysml:cddfcd13-7814-4ab4-947c-703e6331ff4e ]] \r\n",
       "}\r\n",
       "\r\n",
       "portout \"noname\" as E5  [[psysml:7894e875-c3b4-453b-9dc9-b899c04487e6 ]] \r\n",
       "}\r\n",
       "\r\n",
       "@enduml\r\n",
       "\n",
       "PlantUML version 1.2020.13(Sat Jun 13 12:26:38 UTC 2020)\n",
       "(EPL source distribution)\n",
       "Java Runtime: OpenJDK Runtime Environment\n",
       "JVM: OpenJDK 64-Bit Server VM\n",
       "Default Encoding: UTF-8\n",
       "Language: en\n",
       "Country: null\n",
       "--></g></svg>"
      ]
     },
     "execution_count": 34,
     "metadata": {},
     "output_type": "execute_result"
    }
   ],
   "source": [
    "%viz --style=\"PLANTUML\" --view=\"Action\" \"TradeStudyTest\""
   ]
  },
  {
   "cell_type": "code",
   "execution_count": 35,
   "id": "b3730a32",
   "metadata": {
    "execution": {
     "iopub.execute_input": "2021-08-04T06:27:40.393993Z",
     "iopub.status.busy": "2021-08-04T06:27:40.393596Z",
     "iopub.status.idle": "2021-08-04T06:27:40.424491Z",
     "shell.execute_reply": "2021-08-04T06:27:40.424178Z"
    }
   },
   "outputs": [
    {
     "data": {
      "image/svg+xml": [
       "<?xml version=\"1.0\" encoding=\"UTF-8\" standalone=\"no\"?><svg xmlns=\"http://www.w3.org/2000/svg\" xmlns:xlink=\"http://www.w3.org/1999/xlink\" contentScriptType=\"application/ecmascript\" contentStyleType=\"text/css\" height=\"339px\" preserveAspectRatio=\"none\" style=\"width:1059px;height:339px;\" version=\"1.1\" viewBox=\"0 0 1059 339\" width=\"1059px\" zoomAndPan=\"magnify\"><defs><filter height=\"300%\" id=\"f14sx12p4lmuvc\" width=\"300%\" x=\"-1\" y=\"-1\"><feGaussianBlur result=\"blurOut\" stdDeviation=\"2.0\"/><feColorMatrix in=\"blurOut\" result=\"blurOut2\" type=\"matrix\" values=\"0 0 0 0 0 0 0 0 0 0 0 0 0 0 0 0 0 0 .4 0\"/><feOffset dx=\"4.0\" dy=\"4.0\" in=\"blurOut2\" result=\"blurOut3\"/><feBlend in=\"SourceGraphic\" in2=\"blurOut3\" mode=\"normal\"/></filter></defs><g><!--MD5=[fbc87193dbaf4d95561dea2c320d4a47]\n",
       "cluster E1--><a href=\"psysml:0d92d0af-a8c4-487d-a88b-e96d8d162758\" target=\"_top\" title=\"psysml:0d92d0af-a8c4-487d-a88b-e96d8d162758\" xlink:actuate=\"onRequest\" xlink:href=\"psysml:0d92d0af-a8c4-487d-a88b-e96d8d162758\" xlink:show=\"new\" xlink:title=\"psysml:0d92d0af-a8c4-487d-a88b-e96d8d162758\" xlink:type=\"simple\"><polygon fill=\"#FFFFFF\" filter=\"url(#f14sx12p4lmuvc)\" points=\"16,6,148,6,155,28.2969,1037,28.2969,1037,327,16,327,16,6\" style=\"stroke: #000000; stroke-width: 1.5;\"/><line style=\"stroke: #000000; stroke-width: 1.5;\" x1=\"16\" x2=\"155\" y1=\"28.2969\" y2=\"28.2969\"/><text fill=\"#000000\" font-family=\"sans-serif\" font-size=\"14\" font-weight=\"bold\" lengthAdjust=\"spacingAndGlyphs\" textLength=\"126\" x=\"20\" y=\"20.9951\">TradeStudyTest</text></a><!--MD5=[b4997ac47864f28c2f74865a473b2911]\n",
       "class E2--><a href=\"psysml:90b379af-84e4-4b51-bcba-9b20024a2d1f\" target=\"_top\" title=\"psysml:90b379af-84e4-4b51-bcba-9b20024a2d1f\" xlink:actuate=\"onRequest\" xlink:href=\"psysml:90b379af-84e4-4b51-bcba-9b20024a2d1f\" xlink:show=\"new\" xlink:title=\"psysml:90b379af-84e4-4b51-bcba-9b20024a2d1f\" xlink:type=\"simple\"><rect fill=\"#FEFECE\" filter=\"url(#f14sx12p4lmuvc)\" height=\"40\" id=\"E2\" style=\"stroke: #A80036; stroke-width: 1.5;\" width=\"75\" x=\"645.5\" y=\"271\"/><ellipse cx=\"660.5\" cy=\"287\" fill=\"#008000\" rx=\"11\" ry=\"11\" style=\"stroke: #A80036; stroke-width: 1.0;\"/><path d=\"M659.4063,287.375 L659.4063,291.0469 L661.0313,291.0469 Q662.2031,291.0469 662.6719,290.6563 Q663.1406,290.25 663.1406,289.25 Q663.1406,288.25 662.6406,287.8125 Q662.1563,287.375 661.0313,287.375 L659.4063,287.375 Z M659.4063,282.5469 L659.4063,285.4219 L661.0313,285.4219 Q661.9531,285.4219 662.3438,285.0938 Q662.75,284.75 662.75,284 Q662.75,283.2344 662.3438,282.8906 Q661.9375,282.5469 661.0313,282.5469 L659.4063,282.5469 Z M657.0313,280.5938 L661.0313,280.5938 Q663.0938,280.5938 664.1406,281.375 Q665.1875,282.1563 665.1875,283.7188 Q665.1875,284.9219 664.5625,285.5938 Q663.9531,286.2656 662.7656,286.375 Q664.1875,286.5156 664.9063,287.3281 Q665.625,288.1406 665.625,289.5938 Q665.625,291.3906 664.5469,292.2031 Q663.4688,293 661.0313,293 L657.0313,293 L657.0313,280.5938 Z \"/><text fill=\"#000000\" font-family=\"sans-serif\" font-size=\"12\" lengthAdjust=\"spacingAndGlyphs\" textLength=\"43\" x=\"674.5\" y=\"291.1543\">Engine</text><line style=\"stroke: #A80036; stroke-width: 1.5;\" x1=\"646.5\" x2=\"719.5\" y1=\"303\" y2=\"303\"/></a><!--MD5=[09b614a08d8cba4a07c9adeb5e0fee81]\n",
       "class E3--><a href=\"psysml:1fe04244-3a7b-4d3a-93e0-0fd9f61a7cea\" target=\"_top\" title=\"psysml:1fe04244-3a7b-4d3a-93e0-0fd9f61a7cea\" xlink:actuate=\"onRequest\" xlink:href=\"psysml:1fe04244-3a7b-4d3a-93e0-0fd9f61a7cea\" xlink:show=\"new\" xlink:title=\"psysml:1fe04244-3a7b-4d3a-93e0-0fd9f61a7cea\" xlink:type=\"simple\"><rect fill=\"#FEFECE\" filter=\"url(#f14sx12p4lmuvc)\" height=\"45.9375\" id=\"E3\" rx=\"10\" ry=\"10\" style=\"stroke: #A80036; stroke-width: 1.5;\" width=\"134\" x=\"887\" y=\"164\"/><ellipse cx=\"902\" cy=\"182.9688\" fill=\"#32CD32\" rx=\"11\" ry=\"11\" style=\"stroke: #A80036; stroke-width: 1.0;\"/><path d=\"M901.7969,178.6406 L901.7969,182.2656 L902.7969,182.2656 Q904,182.2656 904.4844,181.8594 Q904.9688,181.4531 904.9688,180.4531 Q904.9688,179.4531 904.4844,179.0469 Q904,178.6406 902.7969,178.6406 L901.7969,178.6406 Z M899.3438,176.5781 L902.7031,176.5781 Q905.2656,176.5781 906.3906,177.5 Q907.5156,178.4063 907.5156,180.4531 Q907.5156,182.5 906.3906,183.4219 Q905.2656,184.3281 902.7031,184.3281 L901.7969,184.3281 L901.7969,188.9688 L899.3438,188.9688 L899.3438,176.5781 Z \"/><text fill=\"#000000\" font-family=\"sans-serif\" font-size=\"12\" font-style=\"italic\" lengthAdjust=\"spacingAndGlyphs\" textLength=\"40\" x=\"947\" y=\"180.1387\">«part»</text><text fill=\"#000000\" font-family=\"sans-serif\" font-size=\"12\" lengthAdjust=\"spacingAndGlyphs\" textLength=\"102\" x=\"916\" y=\"194.1074\">engine1: Engine</text><line style=\"stroke: #A80036; stroke-width: 1.5;\" x1=\"888\" x2=\"1020\" y1=\"201.9375\" y2=\"201.9375\"/></a><!--MD5=[ebbe1d658d1005bcc118a6aa81145e00]\n",
       "class E4--><a href=\"psysml:07207da4-9c20-4091-a953-293a54d08950\" target=\"_top\" title=\"psysml:07207da4-9c20-4091-a953-293a54d08950\" xlink:actuate=\"onRequest\" xlink:href=\"psysml:07207da4-9c20-4091-a953-293a54d08950\" xlink:show=\"new\" xlink:title=\"psysml:07207da4-9c20-4091-a953-293a54d08950\" xlink:type=\"simple\"><rect fill=\"#FEFECE\" filter=\"url(#f14sx12p4lmuvc)\" height=\"45.9375\" id=\"E4\" rx=\"10\" ry=\"10\" style=\"stroke: #A80036; stroke-width: 1.5;\" width=\"134\" x=\"718\" y=\"164\"/><ellipse cx=\"733\" cy=\"182.9688\" fill=\"#32CD32\" rx=\"11\" ry=\"11\" style=\"stroke: #A80036; stroke-width: 1.0;\"/><path d=\"M732.7969,178.6406 L732.7969,182.2656 L733.7969,182.2656 Q735,182.2656 735.4844,181.8594 Q735.9688,181.4531 735.9688,180.4531 Q735.9688,179.4531 735.4844,179.0469 Q735,178.6406 733.7969,178.6406 L732.7969,178.6406 Z M730.3438,176.5781 L733.7031,176.5781 Q736.2656,176.5781 737.3906,177.5 Q738.5156,178.4063 738.5156,180.4531 Q738.5156,182.5 737.3906,183.4219 Q736.2656,184.3281 733.7031,184.3281 L732.7969,184.3281 L732.7969,188.9688 L730.3438,188.9688 L730.3438,176.5781 Z \"/><text fill=\"#000000\" font-family=\"sans-serif\" font-size=\"12\" font-style=\"italic\" lengthAdjust=\"spacingAndGlyphs\" textLength=\"40\" x=\"778\" y=\"180.1387\">«part»</text><text fill=\"#000000\" font-family=\"sans-serif\" font-size=\"12\" lengthAdjust=\"spacingAndGlyphs\" textLength=\"102\" x=\"747\" y=\"194.1074\">engine2: Engine</text><line style=\"stroke: #A80036; stroke-width: 1.5;\" x1=\"719\" x2=\"851\" y1=\"201.9375\" y2=\"201.9375\"/></a><!--MD5=[270fce915f116d4de14055a7c1d9a0f3]\n",
       "class E5--><a href=\"psysml:c0123459-da5a-4fa7-ba13-511d4e5fcdf0\" target=\"_top\" title=\"psysml:c0123459-da5a-4fa7-ba13-511d4e5fcdf0\" xlink:actuate=\"onRequest\" xlink:href=\"psysml:c0123459-da5a-4fa7-ba13-511d4e5fcdf0\" xlink:show=\"new\" xlink:title=\"psysml:c0123459-da5a-4fa7-ba13-511d4e5fcdf0\" xlink:type=\"simple\"><rect fill=\"#FEFECE\" filter=\"url(#f14sx12p4lmuvc)\" height=\"45.9375\" id=\"E5\" rx=\"10\" ry=\"10\" style=\"stroke: #A80036; stroke-width: 1.5;\" width=\"225\" x=\"192.5\" y=\"41\"/><ellipse cx=\"207.5\" cy=\"59.9688\" fill=\"#B6DBBB\" rx=\"11\" ry=\"11\" style=\"stroke: #A80036; stroke-width: 1.0;\"/><path d=\"M203.375,61.8906 L203.375,54.0781 L205.8281,54.0781 L205.8281,62.5156 Q205.8281,63.4375 206.2969,63.9688 Q206.7813,64.5 207.6094,64.5 Q208.4531,64.5 208.9219,63.9688 Q209.3906,63.4375 209.3906,62.5156 L209.3906,54.0781 L211.8438,54.0781 L211.8438,61.8906 Q211.8438,64.4219 210.8438,65.5625 Q209.8438,66.7031 207.6094,66.7031 Q205.3906,66.7031 204.375,65.5625 Q203.375,64.4219 203.375,61.8906 Z \"/><text fill=\"#000000\" font-family=\"sans-serif\" font-size=\"12\" font-style=\"italic\" lengthAdjust=\"spacingAndGlyphs\" textLength=\"64\" x=\"286\" y=\"57.1387\">«analysis»</text><text fill=\"#000000\" font-family=\"sans-serif\" font-size=\"12\" lengthAdjust=\"spacingAndGlyphs\" textLength=\"193\" x=\"221.5\" y=\"71.1074\">engineTradeStudy: TradeStudy</text><line style=\"stroke: #A80036; stroke-width: 1.5;\" x1=\"193.5\" x2=\"416.5\" y1=\"78.9375\" y2=\"78.9375\"/></a><!--MD5=[60a26617385b1d2d0262a64233df1f8d]\n",
       "class E6--><a href=\"psysml:d3ca6a29-f1f6-48ae-8677-7ec75b0f5c21\" target=\"_top\" title=\"psysml:d3ca6a29-f1f6-48ae-8677-7ec75b0f5c21\" xlink:actuate=\"onRequest\" xlink:href=\"psysml:d3ca6a29-f1f6-48ae-8677-7ec75b0f5c21\" xlink:show=\"new\" xlink:title=\"psysml:d3ca6a29-f1f6-48ae-8677-7ec75b0f5c21\" xlink:type=\"simple\"><rect fill=\"#FEFECE\" filter=\"url(#f14sx12p4lmuvc)\" height=\"45.9375\" id=\"E6\" rx=\"10\" ry=\"10\" style=\"stroke: #A80036; stroke-width: 1.5;\" width=\"277\" x=\"166.5\" y=\"164\"/><ellipse cx=\"181.5\" cy=\"182.9688\" fill=\"#FFA500\" rx=\"11\" ry=\"11\" style=\"stroke: #A80036; stroke-width: 1.0;\"/><path d=\"M177.375,184.8906 L177.375,177.0781 L179.8281,177.0781 L179.8281,185.5156 Q179.8281,186.4375 180.2969,186.9688 Q180.7813,187.5 181.6094,187.5 Q182.4531,187.5 182.9219,186.9688 Q183.3906,186.4375 183.3906,185.5156 L183.3906,177.0781 L185.8438,177.0781 L185.8438,184.8906 Q185.8438,187.4219 184.8438,188.5625 Q183.8438,189.7031 181.6094,189.7031 Q179.3906,189.7031 178.375,188.5625 Q177.375,187.4219 177.375,184.8906 Z \"/><text fill=\"#000000\" font-family=\"sans-serif\" font-size=\"12\" font-style=\"italic\" lengthAdjust=\"spacingAndGlyphs\" textLength=\"91\" x=\"272.5\" y=\"180.1387\">«requirement»</text><text fill=\"#000000\" font-family=\"sans-serif\" font-size=\"12\" lengthAdjust=\"spacingAndGlyphs\" textLength=\"245\" x=\"195.5\" y=\"194.1074\">tradeStudyObjective: MaximizeObjective</text><line style=\"stroke: #A80036; stroke-width: 1.5;\" x1=\"167.5\" x2=\"442.5\" y1=\"201.9375\" y2=\"201.9375\"/></a><!--MD5=[2156ba9850f5573cc1fc38a6a4b2f02b]\n",
       "class E7--><a href=\"psysml:7894e875-c3b4-453b-9dc9-b899c04487e6\" target=\"_top\" title=\"psysml:7894e875-c3b4-453b-9dc9-b899c04487e6\" xlink:actuate=\"onRequest\" xlink:href=\"psysml:7894e875-c3b4-453b-9dc9-b899c04487e6\" xlink:show=\"new\" xlink:title=\"psysml:7894e875-c3b4-453b-9dc9-b899c04487e6\" xlink:type=\"simple\"><rect fill=\"#FEFECE\" filter=\"url(#f14sx12p4lmuvc)\" height=\"45.9375\" id=\"E7\" rx=\"10\" ry=\"10\" style=\"stroke: #A80036; stroke-width: 1.5;\" width=\"204\" x=\"479\" y=\"164\"/><ellipse cx=\"494\" cy=\"182.9688\" fill=\"#32CD32\" rx=\"11\" ry=\"11\" style=\"stroke: #A80036; stroke-width: 1.0;\"/><path d=\"M493.7969,178.6406 L493.7969,182.2656 L494.7969,182.2656 Q496,182.2656 496.4844,181.8594 Q496.9688,181.4531 496.9688,180.4531 Q496.9688,179.4531 496.4844,179.0469 Q496,178.6406 494.7969,178.6406 L493.7969,178.6406 Z M491.3438,176.5781 L494.7031,176.5781 Q497.2656,176.5781 498.3906,177.5 Q499.5156,178.4063 499.5156,180.4531 Q499.5156,182.5 498.3906,183.4219 Q497.2656,184.3281 494.7031,184.3281 L493.7969,184.3281 L493.7969,188.9688 L491.3438,188.9688 L491.3438,176.5781 Z \"/><text fill=\"#000000\" font-family=\"sans-serif\" font-size=\"12\" font-style=\"italic\" lengthAdjust=\"spacingAndGlyphs\" textLength=\"40\" x=\"574\" y=\"180.1387\">«part»</text><text fill=\"#000000\" font-family=\"sans-serif\" font-size=\"12\" lengthAdjust=\"spacingAndGlyphs\" textLength=\"172\" x=\"508\" y=\"194.1074\">selectedAlternative: Engine</text><line style=\"stroke: #A80036; stroke-width: 1.5;\" x1=\"480\" x2=\"682\" y1=\"201.9375\" y2=\"201.9375\"/></a><!--MD5=[05d275557350bfb9b23a4ef7222b4c39]\n",
       "link E3 to E2--><a href=\"psysml:8801a447-7348-4a45-a550-3876c92a8627\" target=\"_top\" title=\"psysml:8801a447-7348-4a45-a550-3876c92a8627\" xlink:actuate=\"onRequest\" xlink:href=\"psysml:8801a447-7348-4a45-a550-3876c92a8627\" xlink:show=\"new\" xlink:title=\"psysml:8801a447-7348-4a45-a550-3876c92a8627\" xlink:type=\"simple\"><path d=\"M895.53,210.01 C849.31,227.4 785.19,251.54 739.49,268.74 \" fill=\"none\" id=\"E3-&gt;E2\" style=\"stroke: #A80036; stroke-width: 1.0;\"/><polygon fill=\"#FFFFFF\" points=\"720.53,275.87,735.8469,262.6264,740.778,275.7293,720.53,275.87\" style=\"stroke: #A80036; stroke-width: 1.0;\"/><ellipse cx=\"741.8861\" cy=\"262.4906\" fill=\"#A80036\" rx=\"2\" ry=\"2\" style=\"stroke: #A80036; stroke-width: 1.0;\"/><ellipse cx=\"745.4083\" cy=\"271.8498\" fill=\"#A80036\" rx=\"2\" ry=\"2\" style=\"stroke: #A80036; stroke-width: 1.0;\"/></a><!--MD5=[185131fc0dcab0a4505a2ebe144e961b]\n",
       "link E4 to E2--><a href=\"psysml:b9350b5a-5d8f-4ac9-a55f-8ba2d0a1e030\" target=\"_top\" title=\"psysml:b9350b5a-5d8f-4ac9-a55f-8ba2d0a1e030\" xlink:actuate=\"onRequest\" xlink:href=\"psysml:b9350b5a-5d8f-4ac9-a55f-8ba2d0a1e030\" xlink:show=\"new\" xlink:title=\"psysml:b9350b5a-5d8f-4ac9-a55f-8ba2d0a1e030\" xlink:type=\"simple\"><path d=\"M762.87,210.13 C749.24,223.76 731.53,241.47 716.24,256.76 \" fill=\"none\" id=\"E4-&gt;E2\" style=\"stroke: #A80036; stroke-width: 1.0;\"/><polygon fill=\"#FFFFFF\" points=\"702,271,710.4853,252.6152,720.3848,262.5147,702,271\" style=\"stroke: #A80036; stroke-width: 1.0;\"/><ellipse cx=\"715.93\" cy=\"249.9989\" fill=\"#A80036\" rx=\"2\" ry=\"2\" style=\"stroke: #A80036; stroke-width: 1.0;\"/><ellipse cx=\"723.0011\" cy=\"257.07\" fill=\"#A80036\" rx=\"2\" ry=\"2\" style=\"stroke: #A80036; stroke-width: 1.0;\"/></a><!--MD5=[15ebcb19ae302d9b601edb458606d402]\n",
       "link E5 to E2--><a href=\"psysml:ecc21de6-0c62-41d5-be03-95573cca647a\" target=\"_top\" title=\"psysml:ecc21de6-0c62-41d5-be03-95573cca647a\" xlink:actuate=\"onRequest\" xlink:href=\"psysml:ecc21de6-0c62-41d5-be03-95573cca647a\" xlink:show=\"new\" xlink:title=\"psysml:ecc21de6-0c62-41d5-be03-95573cca647a\" xlink:type=\"simple\"><path d=\"M216.93,87.07 C136.33,111.38 36.42,154.49 85,210 C121.61,251.84 508.79,279.3 639.89,287.46 \" fill=\"none\" id=\"E5-&gt;E2\" style=\"stroke: #A80036; stroke-width: 1.0; stroke-dasharray: 7.0,7.0;\"/><polygon fill=\"#A80036\" points=\"645.19,287.79,636.4587,283.2333,640.1998,287.4763,635.9568,291.2175,645.19,287.79\" style=\"stroke: #A80036; stroke-width: 1.0;\"/><text fill=\"#000000\" font-family=\"sans-serif\" font-size=\"13\" lengthAdjust=\"spacingAndGlyphs\" textLength=\"62\" x=\"86\" y=\"191.5669\">«subject»</text></a><!--MD5=[9120cf2e5df3bff93db8f754bbbc09b4]\n",
       "link E5 to E6--><a href=\"psysml:fcf6c150-3866-4336-9e66-2e65ffb041aa\" target=\"_top\" title=\"psysml:fcf6c150-3866-4336-9e66-2e65ffb041aa\" xlink:actuate=\"onRequest\" xlink:href=\"psysml:fcf6c150-3866-4336-9e66-2e65ffb041aa\" xlink:show=\"new\" xlink:title=\"psysml:fcf6c150-3866-4336-9e66-2e65ffb041aa\" xlink:type=\"simple\"><path d=\"M305,87.19 C305,106.47 305,134.55 305,155.86 \" fill=\"none\" id=\"E5-&gt;E6\" style=\"stroke: #A80036; stroke-width: 1.0;\"/><polygon fill=\"#A80036\" points=\"305,163.95,308,155.95,302,155.95,305,163.95\" style=\"stroke: #A80036; stroke-width: 1.0;\"/><text fill=\"#000000\" font-family=\"sans-serif\" font-size=\"13\" lengthAdjust=\"spacingAndGlyphs\" textLength=\"73\" x=\"306\" y=\"130.0669\">«objective»</text></a><!--MD5=[452b418e7f8a40397a49b8c0a78acc5b]\n",
       "reverse link E5 to E7--><a href=\"psysml:afcc773f-3f6f-47e3-9b17-c2b1fd7bbdc3\" target=\"_top\" title=\"psysml:afcc773f-3f6f-47e3-9b17-c2b1fd7bbdc3\" xlink:actuate=\"onRequest\" xlink:href=\"psysml:afcc773f-3f6f-47e3-9b17-c2b1fd7bbdc3\" xlink:show=\"new\" xlink:title=\"psysml:afcc773f-3f6f-47e3-9b17-c2b1fd7bbdc3\" xlink:type=\"simple\"><path d=\"M367.41,92.36 C416.73,113.98 484.67,143.77 530.58,163.89 \" fill=\"none\" id=\"E5&lt;-E7\" style=\"stroke: #A80036; stroke-width: 1.0;\"/><polygon fill=\"#FFFFFF\" points=\"355.3,87.05,359.1902,93.1217,366.2912,91.8661,362.4009,85.7943,355.3,87.05\" style=\"stroke: #A80036; stroke-width: 1.0;\"/><text fill=\"#000000\" font-family=\"sans-serif\" font-size=\"13\" lengthAdjust=\"spacingAndGlyphs\" textLength=\"8\" x=\"507.9546\" y=\"152.7567\">1</text></a><!--MD5=[583832df87f4419a098336a29a52fa00]\n",
       "link E7 to E2--><a href=\"psysml:09d901e9-14a1-4a34-80ae-448f8674b33c\" target=\"_top\" title=\"psysml:09d901e9-14a1-4a34-80ae-448f8674b33c\" xlink:actuate=\"onRequest\" xlink:href=\"psysml:09d901e9-14a1-4a34-80ae-448f8674b33c\" xlink:show=\"new\" xlink:title=\"psysml:09d901e9-14a1-4a34-80ae-448f8674b33c\" xlink:type=\"simple\"><path d=\"M603.13,210.13 C616.76,223.76 634.47,241.47 649.76,256.76 \" fill=\"none\" id=\"E7-&gt;E2\" style=\"stroke: #A80036; stroke-width: 1.0;\"/><polygon fill=\"#FFFFFF\" points=\"664,271,645.6152,262.5147,655.5147,252.6152,664,271\" style=\"stroke: #A80036; stroke-width: 1.0;\"/><ellipse cx=\"642.9989\" cy=\"257.07\" fill=\"#A80036\" rx=\"2\" ry=\"2\" style=\"stroke: #A80036; stroke-width: 1.0;\"/><ellipse cx=\"650.07\" cy=\"249.9989\" fill=\"#A80036\" rx=\"2\" ry=\"2\" style=\"stroke: #A80036; stroke-width: 1.0;\"/></a><!--MD5=[b07e6d5cc4f6602b0c877d0cc8f25a52]\n",
       "@startuml\r\n",
       " \r\n",
       "package \"TradeStudyTest\" as E1  [[psysml:0d92d0af-a8c4-487d-a88b-e96d8d162758 ]]  {\r\n",
       "comp def \"Engine\" as E2 << << (B,green) >> [[psysml:90b379af-84e4-4b51-bcba-9b20024a2d1f ]] {\r\n",
       "}\r\n",
       "comp usage \"engine1: Engine\" as E3 << << (P,limegreen) part>> [[psysml:1fe04244-3a7b-4d3a-93e0-0fd9f61a7cea ]] {\r\n",
       "}\r\n",
       "comp usage \"engine2: Engine\" as E4 << << (P,limegreen) part>> [[psysml:07207da4-9c20-4091-a953-293a54d08950 ]] {\r\n",
       "}\r\n",
       "comp usage \"engineTradeStudy: TradeStudy\" as E5 << analysis>> [[psysml:c0123459-da5a-4fa7-ba13-511d4e5fcdf0 ]] {\r\n",
       "}\r\n",
       "comp usage \"tradeStudyObjective: MaximizeObjective\" as E6 << <<(U,orange) requirement>> [[psysml:d3ca6a29-f1f6-48ae-8677-7ec75b0f5c21 ]] {\r\n",
       "}\r\n",
       "comp usage \"selectedAlternative: Engine\" as E7 << << (P,limegreen) part>> [[psysml:7894e875-c3b4-453b-9dc9-b899c04487e6 ]] {\r\n",
       "}\r\n",
       "E3 - -:|> E2 [[psysml:8801a447-7348-4a45-a550-3876c92a8627 ]] \r\n",
       "E4 - -:|> E2 [[psysml:b9350b5a-5d8f-4ac9-a55f-8ba2d0a1e030 ]] \r\n",
       "E5 ..> E2 [[psysml:ecc21de6-0c62-41d5-be03-95573cca647a ]] : <<subject>>\r\n",
       "E5 - ->> E6 [[psysml:fcf6c150-3866-4336-9e66-2e65ffb041aa ]] : <<objective>>\r\n",
       "E5 o- - \"1\"E7 [[psysml:afcc773f-3f6f-47e3-9b17-c2b1fd7bbdc3 ]] \r\n",
       "E7 - -:|> E2 [[psysml:09d901e9-14a1-4a34-80ae-448f8674b33c ]] \r\n",
       "}\r\n",
       "@enduml\r\n",
       "\n",
       "PlantUML version 1.2020.13(Sat Jun 13 12:26:38 UTC 2020)\n",
       "(EPL source distribution)\n",
       "Java Runtime: OpenJDK Runtime Environment\n",
       "JVM: OpenJDK 64-Bit Server VM\n",
       "Default Encoding: UTF-8\n",
       "Language: en\n",
       "Country: null\n",
       "--></g></svg>"
      ]
     },
     "execution_count": 35,
     "metadata": {},
     "output_type": "execute_result"
    }
   ],
   "source": [
    "%viz --style=\"PLANTUML\" --view=\"Sequence\" \"TradeStudyTest\""
   ]
  },
  {
   "cell_type": "code",
   "execution_count": 36,
   "id": "8bf27dea",
   "metadata": {
    "execution": {
     "iopub.execute_input": "2021-08-04T06:27:40.474300Z",
     "iopub.status.busy": "2021-08-04T06:27:40.473947Z",
     "iopub.status.idle": "2021-08-04T06:27:40.510580Z",
     "shell.execute_reply": "2021-08-04T06:27:40.510251Z"
    }
   },
   "outputs": [
    {
     "data": {
      "image/svg+xml": [
       "<?xml version=\"1.0\" encoding=\"UTF-8\" standalone=\"no\"?><svg xmlns=\"http://www.w3.org/2000/svg\" xmlns:xlink=\"http://www.w3.org/1999/xlink\" contentScriptType=\"application/ecmascript\" contentStyleType=\"text/css\" height=\"491px\" preserveAspectRatio=\"none\" style=\"width:636px;height:491px;\" version=\"1.1\" viewBox=\"0 0 636 491\" width=\"636px\" zoomAndPan=\"magnify\"><defs><filter height=\"300%\" id=\"fukm3plagxcq6\" width=\"300%\" x=\"-1\" y=\"-1\"><feGaussianBlur result=\"blurOut\" stdDeviation=\"2.0\"/><feColorMatrix in=\"blurOut\" result=\"blurOut2\" type=\"matrix\" values=\"0 0 0 0 0 0 0 0 0 0 0 0 0 0 0 0 0 0 .4 0\"/><feOffset dx=\"4.0\" dy=\"4.0\" in=\"blurOut2\" result=\"blurOut3\"/><feBlend in=\"SourceGraphic\" in2=\"blurOut3\" mode=\"normal\"/></filter></defs><g><!--MD5=[fbc87193dbaf4d95561dea2c320d4a47]\n",
       "cluster E1--><a href=\"psysml:0d92d0af-a8c4-487d-a88b-e96d8d162758\" target=\"_top\" title=\"psysml:0d92d0af-a8c4-487d-a88b-e96d8d162758\" xlink:actuate=\"onRequest\" xlink:href=\"psysml:0d92d0af-a8c4-487d-a88b-e96d8d162758\" xlink:show=\"new\" xlink:title=\"psysml:0d92d0af-a8c4-487d-a88b-e96d8d162758\" xlink:type=\"simple\"><polygon fill=\"#FFFFFF\" filter=\"url(#fukm3plagxcq6)\" points=\"20.2,6,152.2,6,159.2,28.2969,614.2,28.2969,614.2,479,20.2,479,20.2,6\" style=\"stroke: #000000; stroke-width: 1.5;\"/><line style=\"stroke: #000000; stroke-width: 1.5;\" x1=\"20.2\" x2=\"159.2\" y1=\"28.2969\" y2=\"28.2969\"/><text fill=\"#000000\" font-family=\"sans-serif\" font-size=\"14\" font-weight=\"bold\" lengthAdjust=\"spacingAndGlyphs\" textLength=\"126\" x=\"24.2\" y=\"20.9951\">TradeStudyTest</text></a><!--MD5=[b4997ac47864f28c2f74865a473b2911]\n",
       "class E2--><a href=\"psysml:90b379af-84e4-4b51-bcba-9b20024a2d1f\" target=\"_top\" title=\"psysml:90b379af-84e4-4b51-bcba-9b20024a2d1f\" xlink:actuate=\"onRequest\" xlink:href=\"psysml:90b379af-84e4-4b51-bcba-9b20024a2d1f\" xlink:show=\"new\" xlink:title=\"psysml:90b379af-84e4-4b51-bcba-9b20024a2d1f\" xlink:type=\"simple\"><rect fill=\"#FEFECE\" filter=\"url(#fukm3plagxcq6)\" height=\"40\" id=\"E2\" style=\"stroke: #A80036; stroke-width: 1.5;\" width=\"75\" x=\"221.7\" y=\"423\"/><ellipse cx=\"236.7\" cy=\"439\" fill=\"#008000\" rx=\"11\" ry=\"11\" style=\"stroke: #A80036; stroke-width: 1.0;\"/><path d=\"M235.6063,439.375 L235.6063,443.0469 L237.2313,443.0469 Q238.4031,443.0469 238.8719,442.6563 Q239.3406,442.25 239.3406,441.25 Q239.3406,440.25 238.8406,439.8125 Q238.3563,439.375 237.2313,439.375 L235.6063,439.375 Z M235.6063,434.5469 L235.6063,437.4219 L237.2313,437.4219 Q238.1531,437.4219 238.5438,437.0938 Q238.95,436.75 238.95,436 Q238.95,435.2344 238.5438,434.8906 Q238.1375,434.5469 237.2313,434.5469 L235.6063,434.5469 Z M233.2313,432.5938 L237.2313,432.5938 Q239.2938,432.5938 240.3406,433.375 Q241.3875,434.1563 241.3875,435.7188 Q241.3875,436.9219 240.7625,437.5938 Q240.1531,438.2656 238.9656,438.375 Q240.3875,438.5156 241.1063,439.3281 Q241.825,440.1406 241.825,441.5938 Q241.825,443.3906 240.7469,444.2031 Q239.6688,445 237.2313,445 L233.2313,445 L233.2313,432.5938 Z \"/><text fill=\"#000000\" font-family=\"sans-serif\" font-size=\"12\" lengthAdjust=\"spacingAndGlyphs\" textLength=\"43\" x=\"250.7\" y=\"443.1543\">Engine</text><line style=\"stroke: #A80036; stroke-width: 1.5;\" x1=\"222.7\" x2=\"295.7\" y1=\"455\" y2=\"455\"/></a><!--MD5=[09b614a08d8cba4a07c9adeb5e0fee81]\n",
       "class E3--><a href=\"psysml:1fe04244-3a7b-4d3a-93e0-0fd9f61a7cea\" target=\"_top\" title=\"psysml:1fe04244-3a7b-4d3a-93e0-0fd9f61a7cea\" xlink:actuate=\"onRequest\" xlink:href=\"psysml:1fe04244-3a7b-4d3a-93e0-0fd9f61a7cea\" xlink:show=\"new\" xlink:title=\"psysml:1fe04244-3a7b-4d3a-93e0-0fd9f61a7cea\" xlink:type=\"simple\"><rect fill=\"#FEFECE\" filter=\"url(#fukm3plagxcq6)\" height=\"45.9375\" id=\"E3\" rx=\"10\" ry=\"10\" style=\"stroke: #A80036; stroke-width: 1.5;\" width=\"134\" x=\"464.2\" y=\"316\"/><ellipse cx=\"479.2\" cy=\"334.9688\" fill=\"#32CD32\" rx=\"11\" ry=\"11\" style=\"stroke: #A80036; stroke-width: 1.0;\"/><path d=\"M478.9969,330.6406 L478.9969,334.2656 L479.9969,334.2656 Q481.2,334.2656 481.6844,333.8594 Q482.1688,333.4531 482.1688,332.4531 Q482.1688,331.4531 481.6844,331.0469 Q481.2,330.6406 479.9969,330.6406 L478.9969,330.6406 Z M476.5438,328.5781 L479.9031,328.5781 Q482.4656,328.5781 483.5906,329.5 Q484.7156,330.4063 484.7156,332.4531 Q484.7156,334.5 483.5906,335.4219 Q482.4656,336.3281 479.9031,336.3281 L478.9969,336.3281 L478.9969,340.9688 L476.5438,340.9688 L476.5438,328.5781 Z \"/><text fill=\"#000000\" font-family=\"sans-serif\" font-size=\"12\" font-style=\"italic\" lengthAdjust=\"spacingAndGlyphs\" textLength=\"40\" x=\"524.2\" y=\"332.1387\">«part»</text><text fill=\"#000000\" font-family=\"sans-serif\" font-size=\"12\" lengthAdjust=\"spacingAndGlyphs\" textLength=\"102\" x=\"493.2\" y=\"346.1074\">engine1: Engine</text><line style=\"stroke: #A80036; stroke-width: 1.5;\" x1=\"465.2\" x2=\"597.2\" y1=\"353.9375\" y2=\"353.9375\"/></a><!--MD5=[ebbe1d658d1005bcc118a6aa81145e00]\n",
       "class E4--><a href=\"psysml:07207da4-9c20-4091-a953-293a54d08950\" target=\"_top\" title=\"psysml:07207da4-9c20-4091-a953-293a54d08950\" xlink:actuate=\"onRequest\" xlink:href=\"psysml:07207da4-9c20-4091-a953-293a54d08950\" xlink:show=\"new\" xlink:title=\"psysml:07207da4-9c20-4091-a953-293a54d08950\" xlink:type=\"simple\"><rect fill=\"#FEFECE\" filter=\"url(#fukm3plagxcq6)\" height=\"45.9375\" id=\"E4\" rx=\"10\" ry=\"10\" style=\"stroke: #A80036; stroke-width: 1.5;\" width=\"134\" x=\"295.2\" y=\"316\"/><ellipse cx=\"310.2\" cy=\"334.9688\" fill=\"#32CD32\" rx=\"11\" ry=\"11\" style=\"stroke: #A80036; stroke-width: 1.0;\"/><path d=\"M309.9969,330.6406 L309.9969,334.2656 L310.9969,334.2656 Q312.2,334.2656 312.6844,333.8594 Q313.1688,333.4531 313.1688,332.4531 Q313.1688,331.4531 312.6844,331.0469 Q312.2,330.6406 310.9969,330.6406 L309.9969,330.6406 Z M307.5438,328.5781 L310.9031,328.5781 Q313.4656,328.5781 314.5906,329.5 Q315.7156,330.4063 315.7156,332.4531 Q315.7156,334.5 314.5906,335.4219 Q313.4656,336.3281 310.9031,336.3281 L309.9969,336.3281 L309.9969,340.9688 L307.5438,340.9688 L307.5438,328.5781 Z \"/><text fill=\"#000000\" font-family=\"sans-serif\" font-size=\"12\" font-style=\"italic\" lengthAdjust=\"spacingAndGlyphs\" textLength=\"40\" x=\"355.2\" y=\"332.1387\">«part»</text><text fill=\"#000000\" font-family=\"sans-serif\" font-size=\"12\" lengthAdjust=\"spacingAndGlyphs\" textLength=\"102\" x=\"324.2\" y=\"346.1074\">engine2: Engine</text><line style=\"stroke: #A80036; stroke-width: 1.5;\" x1=\"296.2\" x2=\"428.2\" y1=\"353.9375\" y2=\"353.9375\"/></a><!--MD5=[270fce915f116d4de14055a7c1d9a0f3]\n",
       "class E5--><a href=\"psysml:c0123459-da5a-4fa7-ba13-511d4e5fcdf0\" target=\"_top\" title=\"psysml:c0123459-da5a-4fa7-ba13-511d4e5fcdf0\" xlink:actuate=\"onRequest\" xlink:href=\"psysml:c0123459-da5a-4fa7-ba13-511d4e5fcdf0\" xlink:show=\"new\" xlink:title=\"psysml:c0123459-da5a-4fa7-ba13-511d4e5fcdf0\" xlink:type=\"simple\"><rect fill=\"#FEFECE\" filter=\"url(#fukm3plagxcq6)\" height=\"45.9375\" id=\"E5\" rx=\"10\" ry=\"10\" style=\"stroke: #A80036; stroke-width: 1.5;\" width=\"225\" x=\"283.7\" y=\"41\"/><ellipse cx=\"298.7\" cy=\"59.9688\" fill=\"#B6DBBB\" rx=\"11\" ry=\"11\" style=\"stroke: #A80036; stroke-width: 1.0;\"/><path d=\"M294.575,61.8906 L294.575,54.0781 L297.0281,54.0781 L297.0281,62.5156 Q297.0281,63.4375 297.4969,63.9688 Q297.9813,64.5 298.8094,64.5 Q299.6531,64.5 300.1219,63.9688 Q300.5906,63.4375 300.5906,62.5156 L300.5906,54.0781 L303.0438,54.0781 L303.0438,61.8906 Q303.0438,64.4219 302.0438,65.5625 Q301.0438,66.7031 298.8094,66.7031 Q296.5906,66.7031 295.575,65.5625 Q294.575,64.4219 294.575,61.8906 Z \"/><text fill=\"#000000\" font-family=\"sans-serif\" font-size=\"12\" font-style=\"italic\" lengthAdjust=\"spacingAndGlyphs\" textLength=\"64\" x=\"377.2\" y=\"57.1387\">«analysis»</text><text fill=\"#000000\" font-family=\"sans-serif\" font-size=\"12\" lengthAdjust=\"spacingAndGlyphs\" textLength=\"193\" x=\"312.7\" y=\"71.1074\">engineTradeStudy: TradeStudy</text><line style=\"stroke: #A80036; stroke-width: 1.5;\" x1=\"284.7\" x2=\"507.7\" y1=\"78.9375\" y2=\"78.9375\"/></a><!--MD5=[60a26617385b1d2d0262a64233df1f8d]\n",
       "class E6--><a href=\"psysml:d3ca6a29-f1f6-48ae-8677-7ec75b0f5c21\" target=\"_top\" title=\"psysml:d3ca6a29-f1f6-48ae-8677-7ec75b0f5c21\" xlink:actuate=\"onRequest\" xlink:href=\"psysml:d3ca6a29-f1f6-48ae-8677-7ec75b0f5c21\" xlink:show=\"new\" xlink:title=\"psysml:d3ca6a29-f1f6-48ae-8677-7ec75b0f5c21\" xlink:type=\"simple\"><rect fill=\"#FEFECE\" filter=\"url(#fukm3plagxcq6)\" height=\"45.9375\" id=\"E6\" rx=\"10\" ry=\"10\" style=\"stroke: #A80036; stroke-width: 1.5;\" width=\"277\" x=\"106.7\" y=\"164\"/><ellipse cx=\"121.7\" cy=\"182.9688\" fill=\"#FFA500\" rx=\"11\" ry=\"11\" style=\"stroke: #A80036; stroke-width: 1.0;\"/><path d=\"M117.575,184.8906 L117.575,177.0781 L120.0281,177.0781 L120.0281,185.5156 Q120.0281,186.4375 120.4969,186.9688 Q120.9813,187.5 121.8094,187.5 Q122.6531,187.5 123.1219,186.9688 Q123.5906,186.4375 123.5906,185.5156 L123.5906,177.0781 L126.0438,177.0781 L126.0438,184.8906 Q126.0438,187.4219 125.0438,188.5625 Q124.0438,189.7031 121.8094,189.7031 Q119.5906,189.7031 118.575,188.5625 Q117.575,187.4219 117.575,184.8906 Z \"/><text fill=\"#000000\" font-family=\"sans-serif\" font-size=\"12\" font-style=\"italic\" lengthAdjust=\"spacingAndGlyphs\" textLength=\"91\" x=\"212.7\" y=\"180.1387\">«requirement»</text><text fill=\"#000000\" font-family=\"sans-serif\" font-size=\"12\" lengthAdjust=\"spacingAndGlyphs\" textLength=\"245\" x=\"135.7\" y=\"194.1074\">tradeStudyObjective: MaximizeObjective</text><line style=\"stroke: #A80036; stroke-width: 1.5;\" x1=\"107.7\" x2=\"382.7\" y1=\"201.9375\" y2=\"201.9375\"/></a><!--MD5=[2156ba9850f5573cc1fc38a6a4b2f02b]\n",
       "class E7--><a href=\"psysml:f099413c-f817-477f-a757-2c07f6450928\" target=\"_top\" title=\"psysml:f099413c-f817-477f-a757-2c07f6450928\" xlink:actuate=\"onRequest\" xlink:href=\"psysml:f099413c-f817-477f-a757-2c07f6450928\" xlink:show=\"new\" xlink:title=\"psysml:f099413c-f817-477f-a757-2c07f6450928\" xlink:type=\"simple\"><rect fill=\"#FEFECE\" filter=\"url(#fukm3plagxcq6)\" height=\"45.9375\" id=\"E7\" rx=\"10\" ry=\"10\" style=\"stroke: #A80036; stroke-width: 1.5;\" width=\"142\" x=\"419.2\" y=\"164\"/><ellipse cx=\"434.2\" cy=\"182.9688\" fill=\"#FFA500\" rx=\"11\" ry=\"11\" style=\"stroke: #A80036; stroke-width: 1.0;\"/><path d=\"M430.075,184.8906 L430.075,177.0781 L432.5281,177.0781 L432.5281,185.5156 Q432.5281,186.4375 432.9969,186.9688 Q433.4813,187.5 434.3094,187.5 Q435.1531,187.5 435.6219,186.9688 Q436.0906,186.4375 436.0906,185.5156 L436.0906,177.0781 L438.5438,177.0781 L438.5438,184.8906 Q438.5438,187.4219 437.5438,188.5625 Q436.5438,189.7031 434.3094,189.7031 Q432.0906,189.7031 431.075,188.5625 Q430.075,187.4219 430.075,184.8906 Z \"/><text fill=\"#000000\" font-family=\"sans-serif\" font-size=\"12\" font-style=\"italic\" lengthAdjust=\"spacingAndGlyphs\" textLength=\"82\" x=\"462.2\" y=\"180.1387\">«calculation»</text><text fill=\"#000000\" font-family=\"sans-serif\" font-size=\"12\" lengthAdjust=\"spacingAndGlyphs\" textLength=\"110\" x=\"448.2\" y=\"194.1074\">objectiveFunction</text><line style=\"stroke: #A80036; stroke-width: 1.5;\" x1=\"420.2\" x2=\"560.2\" y1=\"201.9375\" y2=\"201.9375\"/></a><!--MD5=[b9389687b975829384b498ac4b7476b2]\n",
       "class E8--><a href=\"psysml:26f566d1-080d-4e4d-ba32-38c38fdc0bde\" target=\"_top\" title=\"psysml:26f566d1-080d-4e4d-ba32-38c38fdc0bde\" xlink:actuate=\"onRequest\" xlink:href=\"psysml:26f566d1-080d-4e4d-ba32-38c38fdc0bde\" xlink:show=\"new\" xlink:title=\"psysml:26f566d1-080d-4e4d-ba32-38c38fdc0bde\" xlink:type=\"simple\"><rect fill=\"#FEFECE\" filter=\"url(#fukm3plagxcq6)\" height=\"45.9375\" id=\"E8\" rx=\"10\" ry=\"10\" style=\"stroke: #A80036; stroke-width: 1.5;\" width=\"150\" x=\"73.2\" y=\"316\"/><ellipse cx=\"88.2\" cy=\"334.9688\" fill=\"#32CD32\" rx=\"11\" ry=\"11\" style=\"stroke: #A80036; stroke-width: 1.0;\"/><path d=\"M87.9969,330.6406 L87.9969,334.2656 L88.9969,334.2656 Q90.2,334.2656 90.6844,333.8594 Q91.1688,333.4531 91.1688,332.4531 Q91.1688,331.4531 90.6844,331.0469 Q90.2,330.6406 88.9969,330.6406 L87.9969,330.6406 Z M85.5438,328.5781 L88.9031,328.5781 Q91.4656,328.5781 92.5906,329.5 Q93.7156,330.4063 93.7156,332.4531 Q93.7156,334.5 92.5906,335.4219 Q91.4656,336.3281 88.9031,336.3281 L87.9969,336.3281 L87.9969,340.9688 L85.5438,340.9688 L85.5438,328.5781 Z \"/><text fill=\"#000000\" font-family=\"sans-serif\" font-size=\"12\" font-style=\"italic\" lengthAdjust=\"spacingAndGlyphs\" textLength=\"40\" x=\"141.2\" y=\"332.1387\">«part»</text><text fill=\"#000000\" font-family=\"sans-serif\" font-size=\"12\" lengthAdjust=\"spacingAndGlyphs\" textLength=\"118\" x=\"102.2\" y=\"346.1074\">alternative: Engine</text><line style=\"stroke: #A80036; stroke-width: 1.5;\" x1=\"74.2\" x2=\"222.2\" y1=\"353.9375\" y2=\"353.9375\"/></a><!--MD5=[fd4143e9d270a159db93a4ea2a975926]\n",
       "class E9--><a href=\"psysml:7894e875-c3b4-453b-9dc9-b899c04487e6\" target=\"_top\" title=\"psysml:7894e875-c3b4-453b-9dc9-b899c04487e6\" xlink:actuate=\"onRequest\" xlink:href=\"psysml:7894e875-c3b4-453b-9dc9-b899c04487e6\" xlink:show=\"new\" xlink:title=\"psysml:7894e875-c3b4-453b-9dc9-b899c04487e6\" xlink:type=\"simple\"><rect fill=\"#FEFECE\" filter=\"url(#fukm3plagxcq6)\" height=\"45.9375\" id=\"E9\" rx=\"10\" ry=\"10\" style=\"stroke: #A80036; stroke-width: 1.5;\" width=\"204\" x=\"275.2\" y=\"240\"/><ellipse cx=\"290.2\" cy=\"258.9688\" fill=\"#32CD32\" rx=\"11\" ry=\"11\" style=\"stroke: #A80036; stroke-width: 1.0;\"/><path d=\"M289.9969,254.6406 L289.9969,258.2656 L290.9969,258.2656 Q292.2,258.2656 292.6844,257.8594 Q293.1688,257.4531 293.1688,256.4531 Q293.1688,255.4531 292.6844,255.0469 Q292.2,254.6406 290.9969,254.6406 L289.9969,254.6406 Z M287.5438,252.5781 L290.9031,252.5781 Q293.4656,252.5781 294.5906,253.5 Q295.7156,254.4063 295.7156,256.4531 Q295.7156,258.5 294.5906,259.4219 Q293.4656,260.3281 290.9031,260.3281 L289.9969,260.3281 L289.9969,264.9688 L287.5438,264.9688 L287.5438,252.5781 Z \"/><text fill=\"#000000\" font-family=\"sans-serif\" font-size=\"12\" font-style=\"italic\" lengthAdjust=\"spacingAndGlyphs\" textLength=\"40\" x=\"370.2\" y=\"256.1387\">«part»</text><text fill=\"#000000\" font-family=\"sans-serif\" font-size=\"12\" lengthAdjust=\"spacingAndGlyphs\" textLength=\"172\" x=\"304.2\" y=\"270.1074\">selectedAlternative: Engine</text><line style=\"stroke: #A80036; stroke-width: 1.5;\" x1=\"276.2\" x2=\"478.2\" y1=\"277.9375\" y2=\"277.9375\"/></a><!--MD5=[05d275557350bfb9b23a4ef7222b4c39]\n",
       "link E3 to E2--><a href=\"psysml:8801a447-7348-4a45-a550-3876c92a8627\" target=\"_top\" title=\"psysml:8801a447-7348-4a45-a550-3876c92a8627\" xlink:actuate=\"onRequest\" xlink:href=\"psysml:8801a447-7348-4a45-a550-3876c92a8627\" xlink:show=\"new\" xlink:title=\"psysml:8801a447-7348-4a45-a550-3876c92a8627\" xlink:type=\"simple\"><path d=\"M472.51,362.01 C426.12,379.4 361.76,403.54 315.9,420.74 \" fill=\"none\" id=\"E3-&gt;E2\" style=\"stroke: #A80036; stroke-width: 1.0;\"/><polygon fill=\"#FFFFFF\" points=\"296.87,427.87,312.2079,414.6508,317.1182,427.7614,296.87,427.87\" style=\"stroke: #A80036; stroke-width: 1.0;\"/><ellipse cx=\"318.2473\" cy=\"414.5245\" fill=\"#A80036\" rx=\"2\" ry=\"2\" style=\"stroke: #A80036; stroke-width: 1.0;\"/><ellipse cx=\"321.7546\" cy=\"423.8893\" fill=\"#A80036\" rx=\"2\" ry=\"2\" style=\"stroke: #A80036; stroke-width: 1.0;\"/></a><!--MD5=[185131fc0dcab0a4505a2ebe144e961b]\n",
       "link E4 to E2--><a href=\"psysml:b9350b5a-5d8f-4ac9-a55f-8ba2d0a1e030\" target=\"_top\" title=\"psysml:b9350b5a-5d8f-4ac9-a55f-8ba2d0a1e030\" xlink:actuate=\"onRequest\" xlink:href=\"psysml:b9350b5a-5d8f-4ac9-a55f-8ba2d0a1e030\" xlink:show=\"new\" xlink:title=\"psysml:b9350b5a-5d8f-4ac9-a55f-8ba2d0a1e030\" xlink:type=\"simple\"><path d=\"M339.85,362.13 C326.09,375.76 308.2,393.47 292.76,408.76 \" fill=\"none\" id=\"E4-&gt;E2\" style=\"stroke: #A80036; stroke-width: 1.0;\"/><polygon fill=\"#FFFFFF\" points=\"278.39,423,286.968,404.6583,296.8174,414.6077,278.39,423\" style=\"stroke: #A80036; stroke-width: 1.0;\"/><ellipse cx=\"292.4259\" cy=\"402.0695\" fill=\"#A80036\" rx=\"2\" ry=\"2\" style=\"stroke: #A80036; stroke-width: 1.0;\"/><ellipse cx=\"299.4612\" cy=\"409.1762\" fill=\"#A80036\" rx=\"2\" ry=\"2\" style=\"stroke: #A80036; stroke-width: 1.0;\"/></a><!--MD5=[15ebcb19ae302d9b601edb458606d402]\n",
       "link E5 to E2--><a href=\"psysml:ecc21de6-0c62-41d5-be03-95573cca647a\" target=\"_top\" title=\"psysml:ecc21de6-0c62-41d5-be03-95573cca647a\" xlink:actuate=\"onRequest\" xlink:href=\"psysml:ecc21de6-0c62-41d5-be03-95573cca647a\" xlink:show=\"new\" xlink:title=\"psysml:ecc21de6-0c62-41d5-be03-95573cca647a\" xlink:type=\"simple\"><path d=\"M283.33,73.88 C217.7,84.99 138.47,109.64 89.2,164 C29.29,230.1 6,288.25 56.2,362 C91.99,414.57 168.14,432.6 216.32,438.78 \" fill=\"none\" id=\"E5-&gt;E2\" style=\"stroke: #A80036; stroke-width: 1.0; stroke-dasharray: 7.0,7.0;\"/><polygon fill=\"#A80036\" points=\"221.48,439.41,213.0385,434.3365,216.5177,438.7968,212.0574,442.2761,221.48,439.41\" style=\"stroke: #A80036; stroke-width: 1.0;\"/><text fill=\"#000000\" font-family=\"sans-serif\" font-size=\"13\" lengthAdjust=\"spacingAndGlyphs\" textLength=\"62\" x=\"39.2\" y=\"267.5669\">«subject»</text></a><!--MD5=[9120cf2e5df3bff93db8f754bbbc09b4]\n",
       "link E5 to E6--><a href=\"psysml:fcf6c150-3866-4336-9e66-2e65ffb041aa\" target=\"_top\" title=\"psysml:fcf6c150-3866-4336-9e66-2e65ffb041aa\" xlink:actuate=\"onRequest\" xlink:href=\"psysml:fcf6c150-3866-4336-9e66-2e65ffb041aa\" xlink:show=\"new\" xlink:title=\"psysml:fcf6c150-3866-4336-9e66-2e65ffb041aa\" xlink:type=\"simple\"><path d=\"M368.5,87.19 C343.28,107.41 305.97,137.31 279,158.92 \" fill=\"none\" id=\"E5-&gt;E6\" style=\"stroke: #A80036; stroke-width: 1.0;\"/><polygon fill=\"#A80036\" points=\"272.72,163.95,280.8396,161.2905,277.0888,156.6074,272.72,163.95\" style=\"stroke: #A80036; stroke-width: 1.0;\"/><text fill=\"#000000\" font-family=\"sans-serif\" font-size=\"13\" lengthAdjust=\"spacingAndGlyphs\" textLength=\"73\" x=\"330.2\" y=\"130.0669\">«objective»</text></a><!--MD5=[452b418e7f8a40397a49b8c0a78acc5b]\n",
       "reverse link E5 to E7--><a href=\"psysml:a988c065-f70c-4bb4-ab6a-fca08357bc4a\" target=\"_top\" title=\"psysml:a988c065-f70c-4bb4-ab6a-fca08357bc4a\" xlink:actuate=\"onRequest\" xlink:href=\"psysml:a988c065-f70c-4bb4-ab6a-fca08357bc4a\" xlink:show=\"new\" xlink:title=\"psysml:a988c065-f70c-4bb4-ab6a-fca08357bc4a\" xlink:type=\"simple\"><path d=\"M421.52,97.59 C437.85,118.61 458.66,145.4 473.07,163.95 \" fill=\"none\" id=\"E5&lt;-E7\" style=\"stroke: #A80036; stroke-width: 1.0;\"/><polygon fill=\"#A80036\" points=\"413.44,87.19,413.9586,94.3824,420.7972,96.67,420.2786,89.4776,413.44,87.19\" style=\"stroke: #A80036; stroke-width: 1.0;\"/></a><!--MD5=[dc164f5e8a733ab456ef1add180e9e34]\n",
       "reverse link E7 to E8--><a href=\"psysml:4295af6e-acd7-489b-9191-c25409e1351b\" target=\"_top\" title=\"psysml:4295af6e-acd7-489b-9191-c25409e1351b\" xlink:actuate=\"onRequest\" xlink:href=\"psysml:4295af6e-acd7-489b-9191-c25409e1351b\" xlink:show=\"new\" xlink:title=\"psysml:4295af6e-acd7-489b-9191-c25409e1351b\" xlink:type=\"simple\"><path d=\"M406.09,208.88 C404.45,209.26 402.81,209.63 401.2,210 C337.89,224.46 316.18,210.75 258.2,240 C221.21,258.66 186.98,292.95 166.84,315.61 \" fill=\"none\" id=\"E7&lt;-E8\" style=\"stroke: #A80036; stroke-width: 1.0;\"/><polygon fill=\"#FFFFFF\" points=\"418.84,205.88,412.0846,203.3572,407.1576,208.6226,413.913,211.1454,418.84,205.88\" style=\"stroke: #A80036; stroke-width: 1.0;\"/><text fill=\"#000000\" font-family=\"sans-serif\" font-size=\"13\" lengthAdjust=\"spacingAndGlyphs\" textLength=\"8\" x=\"162.5915\" y=\"304.7864\">1</text></a><!--MD5=[f1f3f9f2fc535e6147756cb86a7f2e32]\n",
       "link E8 to E2--><a href=\"psysml:aed7fba6-fc0e-4a29-a473-c7d943b57344\" target=\"_top\" title=\"psysml:aed7fba6-fc0e-4a29-a473-c7d943b57344\" xlink:actuate=\"onRequest\" xlink:href=\"psysml:aed7fba6-fc0e-4a29-a473-c7d943b57344\" xlink:show=\"new\" xlink:title=\"psysml:aed7fba6-fc0e-4a29-a473-c7d943b57344\" xlink:type=\"simple\"><path d=\"M172.29,362.13 C187.26,375.9 206.8,393.84 223.55,409.24 \" fill=\"none\" id=\"E8-&gt;E2\" style=\"stroke: #A80036; stroke-width: 1.0;\"/><polygon fill=\"#FFFFFF\" points=\"238.52,423,219.7918,415.3024,229.2623,404.9918,238.52,423\" style=\"stroke: #A80036; stroke-width: 1.0;\"/><ellipse cx=\"216.9468\" cy=\"409.9736\" fill=\"#A80036\" rx=\"2\" ry=\"2\" style=\"stroke: #A80036; stroke-width: 1.0;\"/><ellipse cx=\"223.7115\" cy=\"402.6089\" fill=\"#A80036\" rx=\"2\" ry=\"2\" style=\"stroke: #A80036; stroke-width: 1.0;\"/></a><!--MD5=[9ae28de373ca99bb8a1b38d63370ca7e]\n",
       "reverse link E5 to E9--><a href=\"psysml:afcc773f-3f6f-47e3-9b17-c2b1fd7bbdc3\" target=\"_top\" title=\"psysml:afcc773f-3f6f-47e3-9b17-c2b1fd7bbdc3\" xlink:actuate=\"onRequest\" xlink:href=\"psysml:afcc773f-3f6f-47e3-9b17-c2b1fd7bbdc3\" xlink:show=\"new\" xlink:title=\"psysml:afcc773f-3f6f-47e3-9b17-c2b1fd7bbdc3\" xlink:type=\"simple\"><path d=\"M477.44,91.83 C542.71,117.79 617.64,160.42 579.2,210 C566.19,226.78 522.73,239.1 479.43,247.52 \" fill=\"none\" id=\"E5&lt;-E9\" style=\"stroke: #A80036; stroke-width: 1.0;\"/><polygon fill=\"#FFFFFF\" points=\"464.97,87.02,469.1253,92.9135,476.1637,91.3445,472.0083,85.451,464.97,87.02\" style=\"stroke: #A80036; stroke-width: 1.0;\"/><text fill=\"#000000\" font-family=\"sans-serif\" font-size=\"13\" lengthAdjust=\"spacingAndGlyphs\" textLength=\"8\" x=\"487.2313\" y=\"242.9065\">1</text></a><!--MD5=[5c3bb36fe832a92c7f0e1807dd65209d]\n",
       "link E9 to E2--><a href=\"psysml:09d901e9-14a1-4a34-80ae-448f8674b33c\" target=\"_top\" title=\"psysml:09d901e9-14a1-4a34-80ae-448f8674b33c\" xlink:actuate=\"onRequest\" xlink:href=\"psysml:09d901e9-14a1-4a34-80ae-448f8674b33c\" xlink:show=\"new\" xlink:title=\"psysml:09d901e9-14a1-4a34-80ae-448f8674b33c\" xlink:type=\"simple\"><path d=\"M313.67,286.14 C300.09,293.64 287.15,303.42 278.2,316 C260.36,341.07 256.3,376.08 256.31,402.84 \" fill=\"none\" id=\"E9-&gt;E2\" style=\"stroke: #A80036; stroke-width: 1.0;\"/><polygon fill=\"#FFFFFF\" points=\"257.06,422.97,249.3591,404.2431,263.3494,403.7231,257.06,422.97\" style=\"stroke: #A80036; stroke-width: 1.0;\"/><ellipse cx=\"251.146\" cy=\"398.4728\" fill=\"#A80036\" rx=\"2\" ry=\"2\" style=\"stroke: #A80036; stroke-width: 1.0;\"/><ellipse cx=\"261.1391\" cy=\"398.1013\" fill=\"#A80036\" rx=\"2\" ry=\"2\" style=\"stroke: #A80036; stroke-width: 1.0;\"/></a><!--MD5=[43216085ba22b22a476e1b35466960cf]\n",
       "@startuml\r\n",
       " \r\n",
       "package \"TradeStudyTest\" as E1  [[psysml:0d92d0af-a8c4-487d-a88b-e96d8d162758 ]]  {\r\n",
       "comp def \"Engine\" as E2 << << (B,green) >> [[psysml:90b379af-84e4-4b51-bcba-9b20024a2d1f ]] {\r\n",
       "}\r\n",
       "comp usage \"engine1: Engine\" as E3 << << (P,limegreen) part>> [[psysml:1fe04244-3a7b-4d3a-93e0-0fd9f61a7cea ]] {\r\n",
       "}\r\n",
       "comp usage \"engine2: Engine\" as E4 << << (P,limegreen) part>> [[psysml:07207da4-9c20-4091-a953-293a54d08950 ]] {\r\n",
       "}\r\n",
       "comp usage \"engineTradeStudy: TradeStudy\" as E5 << analysis>> [[psysml:c0123459-da5a-4fa7-ba13-511d4e5fcdf0 ]] {\r\n",
       "}\r\n",
       "comp usage \"tradeStudyObjective: MaximizeObjective\" as E6 << <<(U,orange) requirement>> [[psysml:d3ca6a29-f1f6-48ae-8677-7ec75b0f5c21 ]] {\r\n",
       "}\r\n",
       "comp usage \"objectiveFunction\" as E7 << <<(U,orange) calculation>> [[psysml:f099413c-f817-477f-a757-2c07f6450928 ]] {\r\n",
       "}\r\n",
       "comp usage \"alternative: Engine\" as E8 << << (P,limegreen) part>> [[psysml:26f566d1-080d-4e4d-ba32-38c38fdc0bde ]] {\r\n",
       "}\r\n",
       "comp usage \"selectedAlternative: Engine\" as E9 << << (P,limegreen) part>> [[psysml:7894e875-c3b4-453b-9dc9-b899c04487e6 ]] {\r\n",
       "}\r\n",
       "E3 - -:|> E2 [[psysml:8801a447-7348-4a45-a550-3876c92a8627 ]] \r\n",
       "E4 - -:|> E2 [[psysml:b9350b5a-5d8f-4ac9-a55f-8ba2d0a1e030 ]] \r\n",
       "E5 ..> E2 [[psysml:ecc21de6-0c62-41d5-be03-95573cca647a ]] : <<subject>>\r\n",
       "E5 - ->> E6 [[psysml:fcf6c150-3866-4336-9e66-2e65ffb041aa ]] : <<objective>>\r\n",
       "E5 *- - E7 [[psysml:a988c065-f70c-4bb4-ab6a-fca08357bc4a ]] \r\n",
       "E7 o- - \"1\"E8 [[psysml:4295af6e-acd7-489b-9191-c25409e1351b ]] \r\n",
       "E8 - -:|> E2 [[psysml:aed7fba6-fc0e-4a29-a473-c7d943b57344 ]] \r\n",
       "E5 o- - \"1\"E9 [[psysml:afcc773f-3f6f-47e3-9b17-c2b1fd7bbdc3 ]] \r\n",
       "E9 - -:|> E2 [[psysml:09d901e9-14a1-4a34-80ae-448f8674b33c ]] \r\n",
       "}\r\n",
       "@enduml\r\n",
       "\n",
       "PlantUML version 1.2020.13(Sat Jun 13 12:26:38 UTC 2020)\n",
       "(EPL source distribution)\n",
       "Java Runtime: OpenJDK Runtime Environment\n",
       "JVM: OpenJDK 64-Bit Server VM\n",
       "Default Encoding: UTF-8\n",
       "Language: en\n",
       "Country: null\n",
       "--></g></svg>"
      ]
     },
     "execution_count": 36,
     "metadata": {},
     "output_type": "execute_result"
    }
   ],
   "source": [
    "%viz --style=\"PLANTUML\" --view=\"MIXED\" \"TradeStudyTest\""
   ]
  },
  {
   "cell_type": "code",
   "execution_count": 37,
   "id": "489dbb63",
   "metadata": {
    "execution": {
     "iopub.execute_input": "2021-08-04T06:27:40.560820Z",
     "iopub.status.busy": "2021-08-04T06:27:40.560349Z",
     "iopub.status.idle": "2021-08-04T06:27:40.595264Z",
     "shell.execute_reply": "2021-08-04T06:27:40.595552Z"
    }
   },
   "outputs": [
    {
     "data": {
      "image/svg+xml": [
       "<?xml version=\"1.0\" encoding=\"UTF-8\" standalone=\"no\"?><svg xmlns=\"http://www.w3.org/2000/svg\" xmlns:xlink=\"http://www.w3.org/1999/xlink\" contentScriptType=\"application/ecmascript\" contentStyleType=\"text/css\" height=\"497px\" preserveAspectRatio=\"none\" style=\"width:556px;height:497px;\" version=\"1.1\" viewBox=\"0 0 556 497\" width=\"556px\" zoomAndPan=\"magnify\"><defs/><g><!--MD5=[fbc87193dbaf4d95561dea2c320d4a47]\n",
       "cluster E1--><a href=\"psysml:0d92d0af-a8c4-487d-a88b-e96d8d162758\" target=\"_top\" title=\"psysml:0d92d0af-a8c4-487d-a88b-e96d8d162758\" xlink:actuate=\"onRequest\" xlink:href=\"psysml:0d92d0af-a8c4-487d-a88b-e96d8d162758\" xlink:show=\"new\" xlink:title=\"psysml:0d92d0af-a8c4-487d-a88b-e96d8d162758\" xlink:type=\"simple\"><polygon fill=\"#FFFFFF\" points=\"18.32,6,150.32,6,157.32,28.2969,534.32,28.2969,534.32,485,18.32,485,18.32,6\" style=\"stroke: #000000; stroke-width: 1.5;\"/><line style=\"stroke: #000000; stroke-width: 1.5;\" x1=\"18.32\" x2=\"157.32\" y1=\"28.2969\" y2=\"28.2969\"/><text fill=\"#000000\" font-family=\"sans-serif\" font-size=\"14\" font-weight=\"bold\" lengthAdjust=\"spacingAndGlyphs\" textLength=\"126\" x=\"22.32\" y=\"20.9951\">TradeStudyTest</text></a><!--MD5=[b4997ac47864f28c2f74865a473b2911]\n",
       "class E2--><a href=\"psysml:90b379af-84e4-4b51-bcba-9b20024a2d1f\" target=\"_top\" title=\"psysml:90b379af-84e4-4b51-bcba-9b20024a2d1f\" xlink:actuate=\"onRequest\" xlink:href=\"psysml:90b379af-84e4-4b51-bcba-9b20024a2d1f\" xlink:show=\"new\" xlink:title=\"psysml:90b379af-84e4-4b51-bcba-9b20024a2d1f\" xlink:type=\"simple\"><rect fill=\"#FFFFFF\" height=\"45.9375\" id=\"E2\" style=\"stroke: #383838; stroke-width: 1.5;\" width=\"66\" x=\"198.32\" y=\"423\"/><text fill=\"#000000\" font-family=\"sans-serif\" font-size=\"12\" font-style=\"italic\" lengthAdjust=\"spacingAndGlyphs\" textLength=\"64\" x=\"199.32\" y=\"439.1387\">«part def»</text><text fill=\"#000000\" font-family=\"sans-serif\" font-size=\"12\" lengthAdjust=\"spacingAndGlyphs\" textLength=\"43\" x=\"209.82\" y=\"453.1074\">Engine</text><line style=\"stroke: #383838; stroke-width: 1.5;\" x1=\"199.32\" x2=\"263.32\" y1=\"460.9375\" y2=\"460.9375\"/></a><!--MD5=[09b614a08d8cba4a07c9adeb5e0fee81]\n",
       "class E3--><a href=\"psysml:1fe04244-3a7b-4d3a-93e0-0fd9f61a7cea\" target=\"_top\" title=\"psysml:1fe04244-3a7b-4d3a-93e0-0fd9f61a7cea\" xlink:actuate=\"onRequest\" xlink:href=\"psysml:1fe04244-3a7b-4d3a-93e0-0fd9f61a7cea\" xlink:show=\"new\" xlink:title=\"psysml:1fe04244-3a7b-4d3a-93e0-0fd9f61a7cea\" xlink:type=\"simple\"><rect fill=\"#FFFFFF\" height=\"45.9375\" id=\"E3\" rx=\"10\" ry=\"10\" style=\"stroke: #383838; stroke-width: 1.5;\" width=\"108\" x=\"410.32\" y=\"316\"/><text fill=\"#000000\" font-family=\"sans-serif\" font-size=\"12\" font-style=\"italic\" lengthAdjust=\"spacingAndGlyphs\" textLength=\"40\" x=\"444.32\" y=\"332.1387\">«part»</text><text fill=\"#000000\" font-family=\"sans-serif\" font-size=\"12\" lengthAdjust=\"spacingAndGlyphs\" textLength=\"102\" x=\"413.32\" y=\"346.1074\">engine1: Engine</text><line style=\"stroke: #383838; stroke-width: 1.5;\" x1=\"411.32\" x2=\"517.32\" y1=\"353.9375\" y2=\"353.9375\"/></a><!--MD5=[ebbe1d658d1005bcc118a6aa81145e00]\n",
       "class E4--><a href=\"psysml:07207da4-9c20-4091-a953-293a54d08950\" target=\"_top\" title=\"psysml:07207da4-9c20-4091-a953-293a54d08950\" xlink:actuate=\"onRequest\" xlink:href=\"psysml:07207da4-9c20-4091-a953-293a54d08950\" xlink:show=\"new\" xlink:title=\"psysml:07207da4-9c20-4091-a953-293a54d08950\" xlink:type=\"simple\"><rect fill=\"#FFFFFF\" height=\"45.9375\" id=\"E4\" rx=\"10\" ry=\"10\" style=\"stroke: #383838; stroke-width: 1.5;\" width=\"108\" x=\"267.32\" y=\"316\"/><text fill=\"#000000\" font-family=\"sans-serif\" font-size=\"12\" font-style=\"italic\" lengthAdjust=\"spacingAndGlyphs\" textLength=\"40\" x=\"301.32\" y=\"332.1387\">«part»</text><text fill=\"#000000\" font-family=\"sans-serif\" font-size=\"12\" lengthAdjust=\"spacingAndGlyphs\" textLength=\"102\" x=\"270.32\" y=\"346.1074\">engine2: Engine</text><line style=\"stroke: #383838; stroke-width: 1.5;\" x1=\"268.32\" x2=\"374.32\" y1=\"353.9375\" y2=\"353.9375\"/></a><!--MD5=[270fce915f116d4de14055a7c1d9a0f3]\n",
       "class E5--><a href=\"psysml:c0123459-da5a-4fa7-ba13-511d4e5fcdf0\" target=\"_top\" title=\"psysml:c0123459-da5a-4fa7-ba13-511d4e5fcdf0\" xlink:actuate=\"onRequest\" xlink:href=\"psysml:c0123459-da5a-4fa7-ba13-511d4e5fcdf0\" xlink:show=\"new\" xlink:title=\"psysml:c0123459-da5a-4fa7-ba13-511d4e5fcdf0\" xlink:type=\"simple\"><rect fill=\"#FFFFFF\" height=\"45.9375\" id=\"E5\" rx=\"10\" ry=\"10\" style=\"stroke: #383838; stroke-width: 1.5;\" width=\"199\" x=\"239.82\" y=\"41\"/><text fill=\"#000000\" font-family=\"sans-serif\" font-size=\"12\" font-style=\"italic\" lengthAdjust=\"spacingAndGlyphs\" textLength=\"64\" x=\"307.32\" y=\"57.1387\">«analysis»</text><text fill=\"#000000\" font-family=\"sans-serif\" font-size=\"12\" lengthAdjust=\"spacingAndGlyphs\" textLength=\"193\" x=\"242.82\" y=\"71.1074\">engineTradeStudy: TradeStudy</text><line style=\"stroke: #383838; stroke-width: 1.5;\" x1=\"240.82\" x2=\"437.82\" y1=\"78.9375\" y2=\"78.9375\"/></a><!--MD5=[60a26617385b1d2d0262a64233df1f8d]\n",
       "class E6--><a href=\"psysml:d3ca6a29-f1f6-48ae-8677-7ec75b0f5c21\" target=\"_top\" title=\"psysml:d3ca6a29-f1f6-48ae-8677-7ec75b0f5c21\" xlink:actuate=\"onRequest\" xlink:href=\"psysml:d3ca6a29-f1f6-48ae-8677-7ec75b0f5c21\" xlink:show=\"new\" xlink:title=\"psysml:d3ca6a29-f1f6-48ae-8677-7ec75b0f5c21\" xlink:type=\"simple\"><rect fill=\"#FFFFFF\" height=\"45.9375\" id=\"E6\" rx=\"10\" ry=\"10\" style=\"stroke: #383838; stroke-width: 1.5;\" width=\"251\" x=\"78.82\" y=\"164\"/><text fill=\"#000000\" font-family=\"sans-serif\" font-size=\"12\" font-style=\"italic\" lengthAdjust=\"spacingAndGlyphs\" textLength=\"91\" x=\"158.82\" y=\"180.1387\">«requirement»</text><text fill=\"#000000\" font-family=\"sans-serif\" font-size=\"12\" lengthAdjust=\"spacingAndGlyphs\" textLength=\"245\" x=\"81.82\" y=\"194.1074\">tradeStudyObjective: MaximizeObjective</text><line style=\"stroke: #383838; stroke-width: 1.5;\" x1=\"79.82\" x2=\"328.82\" y1=\"201.9375\" y2=\"201.9375\"/></a><!--MD5=[2156ba9850f5573cc1fc38a6a4b2f02b]\n",
       "class E7--><a href=\"psysml:f099413c-f817-477f-a757-2c07f6450928\" target=\"_top\" title=\"psysml:f099413c-f817-477f-a757-2c07f6450928\" xlink:actuate=\"onRequest\" xlink:href=\"psysml:f099413c-f817-477f-a757-2c07f6450928\" xlink:show=\"new\" xlink:title=\"psysml:f099413c-f817-477f-a757-2c07f6450928\" xlink:type=\"simple\"><rect fill=\"#FFFFFF\" height=\"45.9375\" id=\"E7\" rx=\"10\" ry=\"10\" style=\"stroke: #383838; stroke-width: 1.5;\" width=\"116\" x=\"365.32\" y=\"164\"/><text fill=\"#000000\" font-family=\"sans-serif\" font-size=\"12\" font-style=\"italic\" lengthAdjust=\"spacingAndGlyphs\" textLength=\"82\" x=\"382.32\" y=\"180.1387\">«calculation»</text><text fill=\"#000000\" font-family=\"sans-serif\" font-size=\"12\" lengthAdjust=\"spacingAndGlyphs\" textLength=\"110\" x=\"368.32\" y=\"194.1074\">objectiveFunction</text><line style=\"stroke: #383838; stroke-width: 1.5;\" x1=\"366.32\" x2=\"480.32\" y1=\"201.9375\" y2=\"201.9375\"/></a><!--MD5=[b9389687b975829384b498ac4b7476b2]\n",
       "class E8--><a href=\"psysml:26f566d1-080d-4e4d-ba32-38c38fdc0bde\" target=\"_top\" title=\"psysml:26f566d1-080d-4e4d-ba32-38c38fdc0bde\" xlink:actuate=\"onRequest\" xlink:href=\"psysml:26f566d1-080d-4e4d-ba32-38c38fdc0bde\" xlink:show=\"new\" xlink:title=\"psysml:26f566d1-080d-4e4d-ba32-38c38fdc0bde\" xlink:type=\"simple\"><rect fill=\"#FFFFFF\" height=\"45.9375\" id=\"E8\" rx=\"10\" ry=\"10\" style=\"stroke: #383838; stroke-width: 1.5;\" width=\"124\" x=\"71.32\" y=\"316\"/><text fill=\"#000000\" font-family=\"sans-serif\" font-size=\"12\" font-style=\"italic\" lengthAdjust=\"spacingAndGlyphs\" textLength=\"40\" x=\"113.32\" y=\"332.1387\">«part»</text><text fill=\"#000000\" font-family=\"sans-serif\" font-size=\"12\" lengthAdjust=\"spacingAndGlyphs\" textLength=\"118\" x=\"74.32\" y=\"346.1074\">alternative: Engine</text><line style=\"stroke: #383838; stroke-width: 1.5;\" x1=\"72.32\" x2=\"194.32\" y1=\"353.9375\" y2=\"353.9375\"/></a><!--MD5=[fd4143e9d270a159db93a4ea2a975926]\n",
       "class E9--><a href=\"psysml:7894e875-c3b4-453b-9dc9-b899c04487e6\" target=\"_top\" title=\"psysml:7894e875-c3b4-453b-9dc9-b899c04487e6\" xlink:actuate=\"onRequest\" xlink:href=\"psysml:7894e875-c3b4-453b-9dc9-b899c04487e6\" xlink:show=\"new\" xlink:title=\"psysml:7894e875-c3b4-453b-9dc9-b899c04487e6\" xlink:type=\"simple\"><rect fill=\"#FFFFFF\" height=\"45.9375\" id=\"E9\" rx=\"10\" ry=\"10\" style=\"stroke: #383838; stroke-width: 1.5;\" width=\"178\" x=\"291.32\" y=\"240\"/><text fill=\"#000000\" font-family=\"sans-serif\" font-size=\"12\" font-style=\"italic\" lengthAdjust=\"spacingAndGlyphs\" textLength=\"40\" x=\"360.32\" y=\"256.1387\">«part»</text><text fill=\"#000000\" font-family=\"sans-serif\" font-size=\"12\" lengthAdjust=\"spacingAndGlyphs\" textLength=\"172\" x=\"294.32\" y=\"270.1074\">selectedAlternative: Engine</text><line style=\"stroke: #383838; stroke-width: 1.5;\" x1=\"292.32\" x2=\"468.32\" y1=\"277.9375\" y2=\"277.9375\"/></a><!--MD5=[05d275557350bfb9b23a4ef7222b4c39]\n",
       "link E3 to E2--><a href=\"psysml:8801a447-7348-4a45-a550-3876c92a8627\" target=\"_top\" title=\"psysml:8801a447-7348-4a45-a550-3876c92a8627\" xlink:actuate=\"onRequest\" xlink:href=\"psysml:8801a447-7348-4a45-a550-3876c92a8627\" xlink:show=\"new\" xlink:title=\"psysml:8801a447-7348-4a45-a550-3876c92a8627\" xlink:type=\"simple\"><path d=\"M415.48,362.01 C376.57,379.54 322.27,404.01 282.71,421.84 \" fill=\"none\" id=\"E3-&gt;E2\" style=\"stroke: #383838; stroke-width: 1.0;\"/><polygon fill=\"#FFFFFF\" points=\"264.34,430.12,278.7866,415.9321,284.5383,428.696,264.34,430.12\" style=\"stroke: #383838; stroke-width: 1.0;\"/><ellipse cx=\"284.805\" cy=\"415.4137\" fill=\"#383838\" rx=\"2\" ry=\"2\" style=\"stroke: #383838; stroke-width: 1.0;\"/><ellipse cx=\"288.9134\" cy=\"424.5308\" fill=\"#383838\" rx=\"2\" ry=\"2\" style=\"stroke: #383838; stroke-width: 1.0;\"/></a><!--MD5=[185131fc0dcab0a4505a2ebe144e961b]\n",
       "link E4 to E2--><a href=\"psysml:b9350b5a-5d8f-4ac9-a55f-8ba2d0a1e030\" target=\"_top\" title=\"psysml:b9350b5a-5d8f-4ac9-a55f-8ba2d0a1e030\" xlink:actuate=\"onRequest\" xlink:href=\"psysml:b9350b5a-5d8f-4ac9-a55f-8ba2d0a1e030\" xlink:show=\"new\" xlink:title=\"psysml:b9350b5a-5d8f-4ac9-a55f-8ba2d0a1e030\" xlink:type=\"simple\"><path d=\"M302.45,362.01 C291.25,375.08 276.74,392.01 263.74,407.17 \" fill=\"none\" id=\"E4-&gt;E2\" style=\"stroke: #383838; stroke-width: 1.0;\"/><polygon fill=\"#FFFFFF\" points=\"250.47,422.66,257.5188,403.678,268.1491,412.7883,250.47,422.66\" style=\"stroke: #383838; stroke-width: 1.0;\"/><ellipse cx=\"262.7466\" cy=\"400.6515\" fill=\"#383838\" rx=\"2\" ry=\"2\" style=\"stroke: #383838; stroke-width: 1.0;\"/><ellipse cx=\"270.3396\" cy=\"407.1588\" fill=\"#383838\" rx=\"2\" ry=\"2\" style=\"stroke: #383838; stroke-width: 1.0;\"/></a><!--MD5=[15ebcb19ae302d9b601edb458606d402]\n",
       "link E5 to E2--><a href=\"psysml:ecc21de6-0c62-41d5-be03-95573cca647a\" target=\"_top\" title=\"psysml:ecc21de6-0c62-41d5-be03-95573cca647a\" xlink:actuate=\"onRequest\" xlink:href=\"psysml:ecc21de6-0c62-41d5-be03-95573cca647a\" xlink:show=\"new\" xlink:title=\"psysml:ecc21de6-0c62-41d5-be03-95573cca647a\" xlink:type=\"simple\"><path d=\"M239.76,73.22 C177.99,83.96 102.74,108.45 61.32,164 C8.68,234.61 6,287.72 53.32,362 C83.95,410.08 150.5,430.76 192.99,439.32 \" fill=\"none\" id=\"E5-&gt;E2\" style=\"stroke: #383838; stroke-width: 1.0; stroke-dasharray: 7.0,7.0;\"/><polygon fill=\"#383838\" points=\"198.04,440.31,189.9738,434.6588,193.1327,439.3514,188.4401,442.5104,198.04,440.31\" style=\"stroke: #383838; stroke-width: 1.0;\"/><text fill=\"#000000\" font-family=\"sans-serif\" font-size=\"13\" lengthAdjust=\"spacingAndGlyphs\" textLength=\"62\" x=\"24.32\" y=\"267.5669\">«subject»</text></a><!--MD5=[9120cf2e5df3bff93db8f754bbbc09b4]\n",
       "link E5 to E6--><a href=\"psysml:fcf6c150-3866-4336-9e66-2e65ffb041aa\" target=\"_top\" title=\"psysml:fcf6c150-3866-4336-9e66-2e65ffb041aa\" xlink:actuate=\"onRequest\" xlink:href=\"psysml:fcf6c150-3866-4336-9e66-2e65ffb041aa\" xlink:show=\"new\" xlink:title=\"psysml:fcf6c150-3866-4336-9e66-2e65ffb041aa\" xlink:type=\"simple\"><path d=\"M314.56,87.19 C292.2,107.23 259.21,136.8 235.15,158.37 \" fill=\"none\" id=\"E5-&gt;E6\" style=\"stroke: #383838; stroke-width: 1.0;\"/><polygon fill=\"#383838\" points=\"228.92,163.95,236.8786,160.8419,232.8725,156.3752,228.92,163.95\" style=\"stroke: #383838; stroke-width: 1.0;\"/><text fill=\"#000000\" font-family=\"sans-serif\" font-size=\"13\" lengthAdjust=\"spacingAndGlyphs\" textLength=\"73\" x=\"280.32\" y=\"130.0669\">«objective»</text></a><!--MD5=[452b418e7f8a40397a49b8c0a78acc5b]\n",
       "reverse link E5 to E7--><a href=\"psysml:a988c065-f70c-4bb4-ab6a-fca08357bc4a\" target=\"_top\" title=\"psysml:a988c065-f70c-4bb4-ab6a-fca08357bc4a\" xlink:actuate=\"onRequest\" xlink:href=\"psysml:a988c065-f70c-4bb4-ab6a-fca08357bc4a\" xlink:show=\"new\" xlink:title=\"psysml:a988c065-f70c-4bb4-ab6a-fca08357bc4a\" xlink:type=\"simple\"><path d=\"M362.14,97.88 C376.71,118.86 395.19,145.48 408.01,163.95 \" fill=\"none\" id=\"E5&lt;-E7\" style=\"stroke: #383838; stroke-width: 1.0;\"/><polygon fill=\"#383838\" points=\"354.73,87.19,354.864,94.3999,361.5708,97.0492,361.4368,89.8393,354.73,87.19\" style=\"stroke: #383838; stroke-width: 1.0;\"/></a><!--MD5=[dc164f5e8a733ab456ef1add180e9e34]\n",
       "reverse link E7 to E8--><a href=\"psysml:4295af6e-acd7-489b-9191-c25409e1351b\" target=\"_top\" title=\"psysml:4295af6e-acd7-489b-9191-c25409e1351b\" xlink:actuate=\"onRequest\" xlink:href=\"psysml:4295af6e-acd7-489b-9191-c25409e1351b\" xlink:show=\"new\" xlink:title=\"psysml:4295af6e-acd7-489b-9191-c25409e1351b\" xlink:type=\"simple\"><path d=\"M352.67,208.29 C327.33,216.69 298.96,227.44 274.32,240 C231.96,261.6 187.65,294.33 160.26,315.93 \" fill=\"none\" id=\"E7&lt;-E8\" style=\"stroke: #383838; stroke-width: 1.0;\"/><polygon fill=\"#FFFFFF\" points=\"365.22,204.24,358.2818,202.2749,353.7994,207.9236,360.7376,209.8887,365.22,204.24\" style=\"stroke: #383838; stroke-width: 1.0;\"/><text fill=\"#000000\" font-family=\"sans-serif\" font-size=\"13\" lengthAdjust=\"spacingAndGlyphs\" textLength=\"8\" x=\"158.4251\" y=\"304.8075\">1</text></a><!--MD5=[f1f3f9f2fc535e6147756cb86a7f2e32]\n",
       "link E8 to E2--><a href=\"psysml:aed7fba6-fc0e-4a29-a473-c7d943b57344\" target=\"_top\" title=\"psysml:aed7fba6-fc0e-4a29-a473-c7d943b57344\" xlink:actuate=\"onRequest\" xlink:href=\"psysml:aed7fba6-fc0e-4a29-a473-c7d943b57344\" xlink:show=\"new\" xlink:title=\"psysml:aed7fba6-fc0e-4a29-a473-c7d943b57344\" xlink:type=\"simple\"><path d=\"M153.86,362.01 C166.19,375.22 182.2,392.38 196.46,407.65 \" fill=\"none\" id=\"E8-&gt;E2\" style=\"stroke: #383838; stroke-width: 1.0;\"/><polygon fill=\"#FFFFFF\" points=\"210.47,422.66,192.3921,413.5393,202.6305,403.9907,210.47,422.66\" style=\"stroke: #383838; stroke-width: 1.0;\"/><ellipse cx=\"189.9671\" cy=\"408.0067\" fill=\"#383838\" rx=\"2\" ry=\"2\" style=\"stroke: #383838; stroke-width: 1.0;\"/><ellipse cx=\"197.2802\" cy=\"401.1863\" fill=\"#383838\" rx=\"2\" ry=\"2\" style=\"stroke: #383838; stroke-width: 1.0;\"/></a><!--MD5=[9ae28de373ca99bb8a1b38d63370ca7e]\n",
       "reverse link E5 to E9--><a href=\"psysml:afcc773f-3f6f-47e3-9b17-c2b1fd7bbdc3\" target=\"_top\" title=\"psysml:afcc773f-3f6f-47e3-9b17-c2b1fd7bbdc3\" xlink:actuate=\"onRequest\" xlink:href=\"psysml:afcc773f-3f6f-47e3-9b17-c2b1fd7bbdc3\" xlink:show=\"new\" xlink:title=\"psysml:afcc773f-3f6f-47e3-9b17-c2b1fd7bbdc3\" xlink:type=\"simple\"><path d=\"M416.08,92.77 C447.78,108.48 481.27,131.61 499.32,164 C509.27,181.86 510.51,192.89 499.32,210 C490.86,222.92 478.41,232.65 464.71,239.97 \" fill=\"none\" id=\"E5&lt;-E9\" style=\"stroke: #383838; stroke-width: 1.0;\"/><polygon fill=\"#FFFFFF\" points=\"404.06,87.11,407.7814,93.2867,414.9142,92.2272,411.1928,86.0505,404.06,87.11\" style=\"stroke: #383838; stroke-width: 1.0;\"/><text fill=\"#000000\" font-family=\"sans-serif\" font-size=\"13\" lengthAdjust=\"spacingAndGlyphs\" textLength=\"8\" x=\"477.3099\" y=\"229.2386\">1</text></a><!--MD5=[5c3bb36fe832a92c7f0e1807dd65209d]\n",
       "link E9 to E2--><a href=\"psysml:09d901e9-14a1-4a34-80ae-448f8674b33c\" target=\"_top\" title=\"psysml:09d901e9-14a1-4a34-80ae-448f8674b33c\" xlink:actuate=\"onRequest\" xlink:href=\"psysml:09d901e9-14a1-4a34-80ae-448f8674b33c\" xlink:show=\"new\" xlink:title=\"psysml:09d901e9-14a1-4a34-80ae-448f8674b33c\" xlink:type=\"simple\"><path d=\"M291.19,285.15 C275.57,292.56 260.94,302.55 250.32,316 C231.17,340.25 227.04,375.32 227.36,402.77 \" fill=\"none\" id=\"E9-&gt;E2\" style=\"stroke: #383838; stroke-width: 1.0;\"/><polygon fill=\"#FFFFFF\" points=\"228.36,422.81,220.4186,404.1838,234.4011,403.4837,228.36,422.81\" style=\"stroke: #383838; stroke-width: 1.0;\"/><ellipse cx=\"222.131\" cy=\"398.3909\" fill=\"#383838\" rx=\"2\" ry=\"2\" style=\"stroke: #383838; stroke-width: 1.0;\"/><ellipse cx=\"232.1185\" cy=\"397.8909\" fill=\"#383838\" rx=\"2\" ry=\"2\" style=\"stroke: #383838; stroke-width: 1.0;\"/></a><!--MD5=[0458cf0b139a5fa121ca826646aff2f7]\n",
       "@startuml\r\n",
       "skinparam monochrome true\r\n",
       "skinparam classbackgroundcolor white\r\n",
       "skinparam shadowing false\r\n",
       "skinparam wrapWidth 300\r\n",
       "hide circle\r\n",
       "\r\n",
       "package \"TradeStudyTest\" as E1  [[psysml:0d92d0af-a8c4-487d-a88b-e96d8d162758 ]]  {\r\n",
       "comp def \"Engine\" as E2  <<(T,blue) part def>> [[psysml:90b379af-84e4-4b51-bcba-9b20024a2d1f ]] {\r\n",
       "}\r\n",
       "comp usage \"engine1: Engine\" as E3  <<(T,blue) part>> [[psysml:1fe04244-3a7b-4d3a-93e0-0fd9f61a7cea ]] {\r\n",
       "}\r\n",
       "comp usage \"engine2: Engine\" as E4  <<(T,blue) part>> [[psysml:07207da4-9c20-4091-a953-293a54d08950 ]] {\r\n",
       "}\r\n",
       "comp usage \"engineTradeStudy: TradeStudy\" as E5 << analysis>> [[psysml:c0123459-da5a-4fa7-ba13-511d4e5fcdf0 ]] {\r\n",
       "}\r\n",
       "comp usage \"tradeStudyObjective: MaximizeObjective\" as E6  <<(T,blue) requirement>> [[psysml:d3ca6a29-f1f6-48ae-8677-7ec75b0f5c21 ]] {\r\n",
       "}\r\n",
       "comp usage \"objectiveFunction\" as E7  <<(T,blue) calculation>> [[psysml:f099413c-f817-477f-a757-2c07f6450928 ]] {\r\n",
       "}\r\n",
       "comp usage \"alternative: Engine\" as E8  <<(T,blue) part>> [[psysml:26f566d1-080d-4e4d-ba32-38c38fdc0bde ]] {\r\n",
       "}\r\n",
       "comp usage \"selectedAlternative: Engine\" as E9  <<(T,blue) part>> [[psysml:7894e875-c3b4-453b-9dc9-b899c04487e6 ]] {\r\n",
       "}\r\n",
       "E3 - -:|> E2 [[psysml:8801a447-7348-4a45-a550-3876c92a8627 ]] \r\n",
       "E4 - -:|> E2 [[psysml:b9350b5a-5d8f-4ac9-a55f-8ba2d0a1e030 ]] \r\n",
       "E5 ..> E2 [[psysml:ecc21de6-0c62-41d5-be03-95573cca647a ]] : <<subject>>\r\n",
       "E5 - ->> E6 [[psysml:fcf6c150-3866-4336-9e66-2e65ffb041aa ]] : <<objective>>\r\n",
       "E5 *- - E7 [[psysml:a988c065-f70c-4bb4-ab6a-fca08357bc4a ]] \r\n",
       "E7 o- - \"1\"E8 [[psysml:4295af6e-acd7-489b-9191-c25409e1351b ]] \r\n",
       "E8 - -:|> E2 [[psysml:aed7fba6-fc0e-4a29-a473-c7d943b57344 ]] \r\n",
       "E5 o- - \"1\"E9 [[psysml:afcc773f-3f6f-47e3-9b17-c2b1fd7bbdc3 ]] \r\n",
       "E9 - -:|> E2 [[psysml:09d901e9-14a1-4a34-80ae-448f8674b33c ]] \r\n",
       "}\r\n",
       "@enduml\r\n",
       "\n",
       "PlantUML version 1.2020.13(Sat Jun 13 12:26:38 UTC 2020)\n",
       "(EPL source distribution)\n",
       "Java Runtime: OpenJDK Runtime Environment\n",
       "JVM: OpenJDK 64-Bit Server VM\n",
       "Default Encoding: UTF-8\n",
       "Language: en\n",
       "Country: null\n",
       "--></g></svg>"
      ]
     },
     "execution_count": 37,
     "metadata": {},
     "output_type": "execute_result"
    }
   ],
   "source": [
    "%viz --style=\"DEFAULT\" --view=\"Default\" \"TradeStudyTest\""
   ]
  },
  {
   "cell_type": "code",
   "execution_count": 38,
   "id": "4bb55ef3",
   "metadata": {
    "execution": {
     "iopub.execute_input": "2021-08-04T06:27:40.645183Z",
     "iopub.status.busy": "2021-08-04T06:27:40.644785Z",
     "iopub.status.idle": "2021-08-04T06:27:40.673464Z",
     "shell.execute_reply": "2021-08-04T06:27:40.673753Z"
    }
   },
   "outputs": [
    {
     "data": {
      "image/svg+xml": [
       "<?xml version=\"1.0\" encoding=\"UTF-8\" standalone=\"no\"?><svg xmlns=\"http://www.w3.org/2000/svg\" xmlns:xlink=\"http://www.w3.org/1999/xlink\" contentScriptType=\"application/ecmascript\" contentStyleType=\"text/css\" height=\"345px\" preserveAspectRatio=\"none\" style=\"width:955px;height:345px;\" version=\"1.1\" viewBox=\"0 0 955 345\" width=\"955px\" zoomAndPan=\"magnify\"><defs/><g><!--MD5=[fbc87193dbaf4d95561dea2c320d4a47]\n",
       "cluster E1--><a href=\"psysml:0d92d0af-a8c4-487d-a88b-e96d8d162758\" target=\"_top\" title=\"psysml:0d92d0af-a8c4-487d-a88b-e96d8d162758\" xlink:actuate=\"onRequest\" xlink:href=\"psysml:0d92d0af-a8c4-487d-a88b-e96d8d162758\" xlink:show=\"new\" xlink:title=\"psysml:0d92d0af-a8c4-487d-a88b-e96d8d162758\" xlink:type=\"simple\"><polygon fill=\"#FFFFFF\" points=\"16,6,148,6,155,28.2969,933,28.2969,933,333,16,333,16,6\" style=\"stroke: #000000; stroke-width: 1.5;\"/><line style=\"stroke: #000000; stroke-width: 1.5;\" x1=\"16\" x2=\"155\" y1=\"28.2969\" y2=\"28.2969\"/><text fill=\"#000000\" font-family=\"sans-serif\" font-size=\"14\" font-weight=\"bold\" lengthAdjust=\"spacingAndGlyphs\" textLength=\"126\" x=\"20\" y=\"20.9951\">TradeStudyTest</text></a><!--MD5=[b4997ac47864f28c2f74865a473b2911]\n",
       "class E2--><a href=\"psysml:90b379af-84e4-4b51-bcba-9b20024a2d1f\" target=\"_top\" title=\"psysml:90b379af-84e4-4b51-bcba-9b20024a2d1f\" xlink:actuate=\"onRequest\" xlink:href=\"psysml:90b379af-84e4-4b51-bcba-9b20024a2d1f\" xlink:show=\"new\" xlink:title=\"psysml:90b379af-84e4-4b51-bcba-9b20024a2d1f\" xlink:type=\"simple\"><rect fill=\"#FFFFFF\" height=\"45.9375\" id=\"E2\" style=\"stroke: #383838; stroke-width: 1.5;\" width=\"66\" x=\"598\" y=\"271\"/><text fill=\"#000000\" font-family=\"sans-serif\" font-size=\"12\" font-style=\"italic\" lengthAdjust=\"spacingAndGlyphs\" textLength=\"64\" x=\"599\" y=\"287.1387\">«part def»</text><text fill=\"#000000\" font-family=\"sans-serif\" font-size=\"12\" lengthAdjust=\"spacingAndGlyphs\" textLength=\"43\" x=\"609.5\" y=\"301.1074\">Engine</text><line style=\"stroke: #383838; stroke-width: 1.5;\" x1=\"599\" x2=\"663\" y1=\"308.9375\" y2=\"308.9375\"/></a><!--MD5=[09b614a08d8cba4a07c9adeb5e0fee81]\n",
       "class E3--><a href=\"psysml:1fe04244-3a7b-4d3a-93e0-0fd9f61a7cea\" target=\"_top\" title=\"psysml:1fe04244-3a7b-4d3a-93e0-0fd9f61a7cea\" xlink:actuate=\"onRequest\" xlink:href=\"psysml:1fe04244-3a7b-4d3a-93e0-0fd9f61a7cea\" xlink:show=\"new\" xlink:title=\"psysml:1fe04244-3a7b-4d3a-93e0-0fd9f61a7cea\" xlink:type=\"simple\"><rect fill=\"#FFFFFF\" height=\"45.9375\" id=\"E3\" rx=\"10\" ry=\"10\" style=\"stroke: #383838; stroke-width: 1.5;\" width=\"108\" x=\"809\" y=\"164\"/><text fill=\"#000000\" font-family=\"sans-serif\" font-size=\"12\" font-style=\"italic\" lengthAdjust=\"spacingAndGlyphs\" textLength=\"40\" x=\"843\" y=\"180.1387\">«part»</text><text fill=\"#000000\" font-family=\"sans-serif\" font-size=\"12\" lengthAdjust=\"spacingAndGlyphs\" textLength=\"102\" x=\"812\" y=\"194.1074\">engine1: Engine</text><line style=\"stroke: #383838; stroke-width: 1.5;\" x1=\"810\" x2=\"916\" y1=\"201.9375\" y2=\"201.9375\"/></a><!--MD5=[ebbe1d658d1005bcc118a6aa81145e00]\n",
       "class E4--><a href=\"psysml:07207da4-9c20-4091-a953-293a54d08950\" target=\"_top\" title=\"psysml:07207da4-9c20-4091-a953-293a54d08950\" xlink:actuate=\"onRequest\" xlink:href=\"psysml:07207da4-9c20-4091-a953-293a54d08950\" xlink:show=\"new\" xlink:title=\"psysml:07207da4-9c20-4091-a953-293a54d08950\" xlink:type=\"simple\"><rect fill=\"#FFFFFF\" height=\"45.9375\" id=\"E4\" rx=\"10\" ry=\"10\" style=\"stroke: #383838; stroke-width: 1.5;\" width=\"108\" x=\"666\" y=\"164\"/><text fill=\"#000000\" font-family=\"sans-serif\" font-size=\"12\" font-style=\"italic\" lengthAdjust=\"spacingAndGlyphs\" textLength=\"40\" x=\"700\" y=\"180.1387\">«part»</text><text fill=\"#000000\" font-family=\"sans-serif\" font-size=\"12\" lengthAdjust=\"spacingAndGlyphs\" textLength=\"102\" x=\"669\" y=\"194.1074\">engine2: Engine</text><line style=\"stroke: #383838; stroke-width: 1.5;\" x1=\"667\" x2=\"773\" y1=\"201.9375\" y2=\"201.9375\"/></a><!--MD5=[270fce915f116d4de14055a7c1d9a0f3]\n",
       "class E5--><a href=\"psysml:c0123459-da5a-4fa7-ba13-511d4e5fcdf0\" target=\"_top\" title=\"psysml:c0123459-da5a-4fa7-ba13-511d4e5fcdf0\" xlink:actuate=\"onRequest\" xlink:href=\"psysml:c0123459-da5a-4fa7-ba13-511d4e5fcdf0\" xlink:show=\"new\" xlink:title=\"psysml:c0123459-da5a-4fa7-ba13-511d4e5fcdf0\" xlink:type=\"simple\"><rect fill=\"#FFFFFF\" height=\"45.9375\" id=\"E5\" rx=\"10\" ry=\"10\" style=\"stroke: #383838; stroke-width: 1.5;\" width=\"199\" x=\"192.5\" y=\"41\"/><text fill=\"#000000\" font-family=\"sans-serif\" font-size=\"12\" font-style=\"italic\" lengthAdjust=\"spacingAndGlyphs\" textLength=\"64\" x=\"260\" y=\"57.1387\">«analysis»</text><text fill=\"#000000\" font-family=\"sans-serif\" font-size=\"12\" lengthAdjust=\"spacingAndGlyphs\" textLength=\"193\" x=\"195.5\" y=\"71.1074\">engineTradeStudy: TradeStudy</text><line style=\"stroke: #383838; stroke-width: 1.5;\" x1=\"193.5\" x2=\"390.5\" y1=\"78.9375\" y2=\"78.9375\"/></a><!--MD5=[60a26617385b1d2d0262a64233df1f8d]\n",
       "class E6--><a href=\"psysml:d3ca6a29-f1f6-48ae-8677-7ec75b0f5c21\" target=\"_top\" title=\"psysml:d3ca6a29-f1f6-48ae-8677-7ec75b0f5c21\" xlink:actuate=\"onRequest\" xlink:href=\"psysml:d3ca6a29-f1f6-48ae-8677-7ec75b0f5c21\" xlink:show=\"new\" xlink:title=\"psysml:d3ca6a29-f1f6-48ae-8677-7ec75b0f5c21\" xlink:type=\"simple\"><rect fill=\"#FFFFFF\" height=\"45.9375\" id=\"E6\" rx=\"10\" ry=\"10\" style=\"stroke: #383838; stroke-width: 1.5;\" width=\"251\" x=\"166.5\" y=\"164\"/><text fill=\"#000000\" font-family=\"sans-serif\" font-size=\"12\" font-style=\"italic\" lengthAdjust=\"spacingAndGlyphs\" textLength=\"91\" x=\"246.5\" y=\"180.1387\">«requirement»</text><text fill=\"#000000\" font-family=\"sans-serif\" font-size=\"12\" lengthAdjust=\"spacingAndGlyphs\" textLength=\"245\" x=\"169.5\" y=\"194.1074\">tradeStudyObjective: MaximizeObjective</text><line style=\"stroke: #383838; stroke-width: 1.5;\" x1=\"167.5\" x2=\"416.5\" y1=\"201.9375\" y2=\"201.9375\"/></a><!--MD5=[2156ba9850f5573cc1fc38a6a4b2f02b]\n",
       "class E7--><a href=\"psysml:7894e875-c3b4-453b-9dc9-b899c04487e6\" target=\"_top\" title=\"psysml:7894e875-c3b4-453b-9dc9-b899c04487e6\" xlink:actuate=\"onRequest\" xlink:href=\"psysml:7894e875-c3b4-453b-9dc9-b899c04487e6\" xlink:show=\"new\" xlink:title=\"psysml:7894e875-c3b4-453b-9dc9-b899c04487e6\" xlink:type=\"simple\"><rect fill=\"#FFFFFF\" height=\"45.9375\" id=\"E7\" rx=\"10\" ry=\"10\" style=\"stroke: #383838; stroke-width: 1.5;\" width=\"178\" x=\"453\" y=\"164\"/><text fill=\"#000000\" font-family=\"sans-serif\" font-size=\"12\" font-style=\"italic\" lengthAdjust=\"spacingAndGlyphs\" textLength=\"40\" x=\"522\" y=\"180.1387\">«part»</text><text fill=\"#000000\" font-family=\"sans-serif\" font-size=\"12\" lengthAdjust=\"spacingAndGlyphs\" textLength=\"172\" x=\"456\" y=\"194.1074\">selectedAlternative: Engine</text><line style=\"stroke: #383838; stroke-width: 1.5;\" x1=\"454\" x2=\"630\" y1=\"201.9375\" y2=\"201.9375\"/></a><!--MD5=[05d275557350bfb9b23a4ef7222b4c39]\n",
       "link E3 to E2--><a href=\"psysml:8801a447-7348-4a45-a550-3876c92a8627\" target=\"_top\" title=\"psysml:8801a447-7348-4a45-a550-3876c92a8627\" xlink:actuate=\"onRequest\" xlink:href=\"psysml:8801a447-7348-4a45-a550-3876c92a8627\" xlink:show=\"new\" xlink:title=\"psysml:8801a447-7348-4a45-a550-3876c92a8627\" xlink:type=\"simple\"><path d=\"M814.37,210.01 C775.74,227.49 721.88,251.87 682.52,269.68 \" fill=\"none\" id=\"E3-&gt;E2\" style=\"stroke: #383838; stroke-width: 1.0;\"/><polygon fill=\"#FFFFFF\" points=\"664.23,277.96,678.6446,263.7397,684.4251,276.4906,664.23,277.96\" style=\"stroke: #383838; stroke-width: 1.0;\"/><ellipse cx=\"684.6619\" cy=\"263.2078\" fill=\"#383838\" rx=\"2\" ry=\"2\" style=\"stroke: #383838; stroke-width: 1.0;\"/><ellipse cx=\"688.7908\" cy=\"272.3156\" fill=\"#383838\" rx=\"2\" ry=\"2\" style=\"stroke: #383838; stroke-width: 1.0;\"/></a><!--MD5=[185131fc0dcab0a4505a2ebe144e961b]\n",
       "link E4 to E2--><a href=\"psysml:b9350b5a-5d8f-4ac9-a55f-8ba2d0a1e030\" target=\"_top\" title=\"psysml:b9350b5a-5d8f-4ac9-a55f-8ba2d0a1e030\" xlink:actuate=\"onRequest\" xlink:href=\"psysml:b9350b5a-5d8f-4ac9-a55f-8ba2d0a1e030\" xlink:show=\"new\" xlink:title=\"psysml:b9350b5a-5d8f-4ac9-a55f-8ba2d0a1e030\" xlink:type=\"simple\"><path d=\"M701.34,210.01 C690.26,223.08 675.91,240.01 663.06,255.17 \" fill=\"none\" id=\"E4-&gt;E2\" style=\"stroke: #383838; stroke-width: 1.0;\"/><polygon fill=\"#FFFFFF\" points=\"649.94,270.66,656.8931,251.6428,667.5691,260.6994,649.94,270.66\" style=\"stroke: #383838; stroke-width: 1.0;\"/><ellipse cx=\"662.1056\" cy=\"248.5899\" fill=\"#383838\" rx=\"2\" ry=\"2\" style=\"stroke: #383838; stroke-width: 1.0;\"/><ellipse cx=\"669.7313\" cy=\"255.059\" fill=\"#383838\" rx=\"2\" ry=\"2\" style=\"stroke: #383838; stroke-width: 1.0;\"/></a><!--MD5=[15ebcb19ae302d9b601edb458606d402]\n",
       "link E5 to E2--><a href=\"psysml:ecc21de6-0c62-41d5-be03-95573cca647a\" target=\"_top\" title=\"psysml:ecc21de6-0c62-41d5-be03-95573cca647a\" xlink:actuate=\"onRequest\" xlink:href=\"psysml:ecc21de6-0c62-41d5-be03-95573cca647a\" xlink:show=\"new\" xlink:title=\"psysml:ecc21de6-0c62-41d5-be03-95573cca647a\" xlink:type=\"simple\"><path d=\"M211.44,87.03 C135.05,111.81 38.38,155.76 85,210 C150.98,286.77 479.56,293.36 592.67,293.32 \" fill=\"none\" id=\"E5-&gt;E2\" style=\"stroke: #383838; stroke-width: 1.0; stroke-dasharray: 7.0,7.0;\"/><polygon fill=\"#383838\" points=\"597.89,293.31,588.89,289.31,592.89,293.31,588.89,297.31,597.89,293.31\" style=\"stroke: #383838; stroke-width: 1.0;\"/><text fill=\"#000000\" font-family=\"sans-serif\" font-size=\"13\" lengthAdjust=\"spacingAndGlyphs\" textLength=\"62\" x=\"86\" y=\"191.5669\">«subject»</text></a><!--MD5=[9120cf2e5df3bff93db8f754bbbc09b4]\n",
       "link E5 to E6--><a href=\"psysml:fcf6c150-3866-4336-9e66-2e65ffb041aa\" target=\"_top\" title=\"psysml:fcf6c150-3866-4336-9e66-2e65ffb041aa\" xlink:actuate=\"onRequest\" xlink:href=\"psysml:fcf6c150-3866-4336-9e66-2e65ffb041aa\" xlink:show=\"new\" xlink:title=\"psysml:fcf6c150-3866-4336-9e66-2e65ffb041aa\" xlink:type=\"simple\"><path d=\"M292,87.19 C292,106.47 292,134.55 292,155.86 \" fill=\"none\" id=\"E5-&gt;E6\" style=\"stroke: #383838; stroke-width: 1.0;\"/><polygon fill=\"#383838\" points=\"292,163.95,295,155.95,289,155.95,292,163.95\" style=\"stroke: #383838; stroke-width: 1.0;\"/><text fill=\"#000000\" font-family=\"sans-serif\" font-size=\"13\" lengthAdjust=\"spacingAndGlyphs\" textLength=\"73\" x=\"293\" y=\"130.0669\">«objective»</text></a><!--MD5=[452b418e7f8a40397a49b8c0a78acc5b]\n",
       "reverse link E5 to E7--><a href=\"psysml:afcc773f-3f6f-47e3-9b17-c2b1fd7bbdc3\" target=\"_top\" title=\"psysml:afcc773f-3f6f-47e3-9b17-c2b1fd7bbdc3\" xlink:actuate=\"onRequest\" xlink:href=\"psysml:afcc773f-3f6f-47e3-9b17-c2b1fd7bbdc3\" xlink:show=\"new\" xlink:title=\"psysml:afcc773f-3f6f-47e3-9b17-c2b1fd7bbdc3\" xlink:type=\"simple\"><path d=\"M349.39,92.78 C393.99,114.36 455.01,143.9 496.33,163.89 \" fill=\"none\" id=\"E5&lt;-E7\" style=\"stroke: #383838; stroke-width: 1.0;\"/><polygon fill=\"#FFFFFF\" points=\"337.56,87.05,341.2143,93.2666,348.3582,92.2843,344.7039,86.0677,337.56,87.05\" style=\"stroke: #383838; stroke-width: 1.0;\"/><text fill=\"#000000\" font-family=\"sans-serif\" font-size=\"13\" lengthAdjust=\"spacingAndGlyphs\" textLength=\"8\" x=\"474.9812\" y=\"152.7567\">1</text></a><!--MD5=[583832df87f4419a098336a29a52fa00]\n",
       "link E7 to E2--><a href=\"psysml:09d901e9-14a1-4a34-80ae-448f8674b33c\" target=\"_top\" title=\"psysml:09d901e9-14a1-4a34-80ae-448f8674b33c\" xlink:actuate=\"onRequest\" xlink:href=\"psysml:09d901e9-14a1-4a34-80ae-448f8674b33c\" xlink:show=\"new\" xlink:title=\"psysml:09d901e9-14a1-4a34-80ae-448f8674b33c\" xlink:type=\"simple\"><path d=\"M560.66,210.01 C571.74,223.08 586.09,240.01 598.94,255.17 \" fill=\"none\" id=\"E7-&gt;E2\" style=\"stroke: #383838; stroke-width: 1.0;\"/><polygon fill=\"#FFFFFF\" points=\"612.06,270.66,594.4309,260.6994,605.1069,251.6428,612.06,270.66\" style=\"stroke: #383838; stroke-width: 1.0;\"/><ellipse cx=\"592.2687\" cy=\"255.059\" fill=\"#383838\" rx=\"2\" ry=\"2\" style=\"stroke: #383838; stroke-width: 1.0;\"/><ellipse cx=\"599.8944\" cy=\"248.5899\" fill=\"#383838\" rx=\"2\" ry=\"2\" style=\"stroke: #383838; stroke-width: 1.0;\"/></a><!--MD5=[735f8373184d5aa28c535fb1902798c9]\n",
       "@startuml\r\n",
       "skinparam monochrome true\r\n",
       "skinparam classbackgroundcolor white\r\n",
       "skinparam shadowing false\r\n",
       "skinparam wrapWidth 300\r\n",
       "hide circle\r\n",
       "\r\n",
       "package \"TradeStudyTest\" as E1  [[psysml:0d92d0af-a8c4-487d-a88b-e96d8d162758 ]]  {\r\n",
       "comp def \"Engine\" as E2  <<(T,blue) part def>> [[psysml:90b379af-84e4-4b51-bcba-9b20024a2d1f ]] {\r\n",
       "}\r\n",
       "comp usage \"engine1: Engine\" as E3  <<(T,blue) part>> [[psysml:1fe04244-3a7b-4d3a-93e0-0fd9f61a7cea ]] {\r\n",
       "}\r\n",
       "comp usage \"engine2: Engine\" as E4  <<(T,blue) part>> [[psysml:07207da4-9c20-4091-a953-293a54d08950 ]] {\r\n",
       "}\r\n",
       "comp usage \"engineTradeStudy: TradeStudy\" as E5 << analysis>> [[psysml:c0123459-da5a-4fa7-ba13-511d4e5fcdf0 ]] {\r\n",
       "}\r\n",
       "comp usage \"tradeStudyObjective: MaximizeObjective\" as E6  <<(T,blue) requirement>> [[psysml:d3ca6a29-f1f6-48ae-8677-7ec75b0f5c21 ]] {\r\n",
       "}\r\n",
       "comp usage \"selectedAlternative: Engine\" as E7  <<(T,blue) part>> [[psysml:7894e875-c3b4-453b-9dc9-b899c04487e6 ]] {\r\n",
       "}\r\n",
       "E3 - -:|> E2 [[psysml:8801a447-7348-4a45-a550-3876c92a8627 ]] \r\n",
       "E4 - -:|> E2 [[psysml:b9350b5a-5d8f-4ac9-a55f-8ba2d0a1e030 ]] \r\n",
       "E5 ..> E2 [[psysml:ecc21de6-0c62-41d5-be03-95573cca647a ]] : <<subject>>\r\n",
       "E5 - ->> E6 [[psysml:fcf6c150-3866-4336-9e66-2e65ffb041aa ]] : <<objective>>\r\n",
       "E5 o- - \"1\"E7 [[psysml:afcc773f-3f6f-47e3-9b17-c2b1fd7bbdc3 ]] \r\n",
       "E7 - -:|> E2 [[psysml:09d901e9-14a1-4a34-80ae-448f8674b33c ]] \r\n",
       "}\r\n",
       "@enduml\r\n",
       "\n",
       "PlantUML version 1.2020.13(Sat Jun 13 12:26:38 UTC 2020)\n",
       "(EPL source distribution)\n",
       "Java Runtime: OpenJDK Runtime Environment\n",
       "JVM: OpenJDK 64-Bit Server VM\n",
       "Default Encoding: UTF-8\n",
       "Language: en\n",
       "Country: null\n",
       "--></g></svg>"
      ]
     },
     "execution_count": 38,
     "metadata": {},
     "output_type": "execute_result"
    }
   ],
   "source": [
    "%viz --style=\"DEFAULT\" --view=\"Tree\" \"TradeStudyTest\""
   ]
  },
  {
   "cell_type": "code",
   "execution_count": 39,
   "id": "de41ee1c",
   "metadata": {
    "execution": {
     "iopub.execute_input": "2021-08-04T06:27:40.723822Z",
     "iopub.status.busy": "2021-08-04T06:27:40.723422Z",
     "iopub.status.idle": "2021-08-04T06:27:40.727757Z",
     "shell.execute_reply": "2021-08-04T06:27:40.728071Z"
    }
   },
   "outputs": [
    {
     "data": {
      "image/svg+xml": [
       "<?xml version=\"1.0\" encoding=\"UTF-8\" standalone=\"no\"?><svg xmlns=\"http://www.w3.org/2000/svg\" xmlns:xlink=\"http://www.w3.org/1999/xlink\" contentScriptType=\"application/ecmascript\" contentStyleType=\"text/css\" height=\"12px\" preserveAspectRatio=\"none\" style=\"width:12px;height:12px;\" version=\"1.1\" viewBox=\"0 0 12 12\" width=\"12px\" zoomAndPan=\"magnify\"><defs/><g><!--MD5=[c5f280e076d0d61ccf4b0f27871bda1d]\n",
       "@startuml\r\n",
       "skinparam monochrome true\r\n",
       "skinparam classbackgroundcolor white\r\n",
       "skinparam shadowing false\r\n",
       "skinparam wrapWidth 300\r\n",
       "hide circle\r\n",
       "\r\n",
       "@enduml\r\n",
       "\n",
       "PlantUML version 1.2020.13(Sat Jun 13 12:26:38 UTC 2020)\n",
       "(EPL source distribution)\n",
       "Java Runtime: OpenJDK Runtime Environment\n",
       "JVM: OpenJDK 64-Bit Server VM\n",
       "Default Encoding: UTF-8\n",
       "Language: en\n",
       "Country: null\n",
       "--></g></svg>"
      ]
     },
     "execution_count": 39,
     "metadata": {},
     "output_type": "execute_result"
    }
   ],
   "source": [
    "%viz --style=\"DEFAULT\" --view=\"State\" \"TradeStudyTest\""
   ]
  },
  {
   "cell_type": "code",
   "execution_count": 40,
   "id": "485e7b2a",
   "metadata": {
    "execution": {
     "iopub.execute_input": "2021-08-04T06:27:40.778158Z",
     "iopub.status.busy": "2021-08-04T06:27:40.777758Z",
     "iopub.status.idle": "2021-08-04T06:27:40.808911Z",
     "shell.execute_reply": "2021-08-04T06:27:40.808550Z"
    }
   },
   "outputs": [
    {
     "data": {
      "image/svg+xml": [
       "<?xml version=\"1.0\" encoding=\"UTF-8\" standalone=\"no\"?><svg xmlns=\"http://www.w3.org/2000/svg\" xmlns:xlink=\"http://www.w3.org/1999/xlink\" contentScriptType=\"application/ecmascript\" contentStyleType=\"text/css\" height=\"334px\" preserveAspectRatio=\"none\" style=\"width:566px;height:334px;\" version=\"1.1\" viewBox=\"0 0 566 334\" width=\"566px\" zoomAndPan=\"magnify\"><defs/><g><!--MD5=[fbc87193dbaf4d95561dea2c320d4a47]\n",
       "cluster E1--><a href=\"psysml:0d92d0af-a8c4-487d-a88b-e96d8d162758\" target=\"_top\" title=\"psysml:0d92d0af-a8c4-487d-a88b-e96d8d162758\" xlink:actuate=\"onRequest\" xlink:href=\"psysml:0d92d0af-a8c4-487d-a88b-e96d8d162758\" xlink:show=\"new\" xlink:title=\"psysml:0d92d0af-a8c4-487d-a88b-e96d8d162758\" xlink:type=\"simple\"><polygon fill=\"#FFFFFF\" points=\"16,6,148,6,155,28.2969,544,28.2969,544,322,16,322,16,6\" style=\"stroke: #000000; stroke-width: 1.5;\"/><line style=\"stroke: #000000; stroke-width: 1.5;\" x1=\"16\" x2=\"155\" y1=\"28.2969\" y2=\"28.2969\"/><text fill=\"#000000\" font-family=\"sans-serif\" font-size=\"14\" font-weight=\"bold\" lengthAdjust=\"spacingAndGlyphs\" textLength=\"126\" x=\"20\" y=\"20.9951\">TradeStudyTest</text></a><!--MD5=[270fce915f116d4de14055a7c1d9a0f3]\n",
       "class E5--><a href=\"psysml:c0123459-da5a-4fa7-ba13-511d4e5fcdf0\" target=\"_top\" title=\"psysml:c0123459-da5a-4fa7-ba13-511d4e5fcdf0\" xlink:actuate=\"onRequest\" xlink:href=\"psysml:c0123459-da5a-4fa7-ba13-511d4e5fcdf0\" xlink:show=\"new\" xlink:title=\"psysml:c0123459-da5a-4fa7-ba13-511d4e5fcdf0\" xlink:type=\"simple\"><rect fill=\"#FFFFFF\" height=\"45.9375\" id=\"E5\" rx=\"10\" ry=\"10\" style=\"stroke: #383838; stroke-width: 1.5;\" width=\"199\" x=\"328.5\" y=\"41\"/><text fill=\"#000000\" font-family=\"sans-serif\" font-size=\"12\" font-style=\"italic\" lengthAdjust=\"spacingAndGlyphs\" textLength=\"64\" x=\"396\" y=\"57.1387\">«analysis»</text><text fill=\"#000000\" font-family=\"sans-serif\" font-size=\"12\" lengthAdjust=\"spacingAndGlyphs\" textLength=\"193\" x=\"331.5\" y=\"71.1074\">engineTradeStudy: TradeStudy</text><line style=\"stroke: #383838; stroke-width: 1.5;\" x1=\"329.5\" x2=\"526.5\" y1=\"78.9375\" y2=\"78.9375\"/></a><!--MD5=[60a26617385b1d2d0262a64233df1f8d]\n",
       "class E6--><a href=\"psysml:d3ca6a29-f1f6-48ae-8677-7ec75b0f5c21\" target=\"_top\" title=\"psysml:d3ca6a29-f1f6-48ae-8677-7ec75b0f5c21\" xlink:actuate=\"onRequest\" xlink:href=\"psysml:d3ca6a29-f1f6-48ae-8677-7ec75b0f5c21\" xlink:show=\"new\" xlink:title=\"psysml:d3ca6a29-f1f6-48ae-8677-7ec75b0f5c21\" xlink:type=\"simple\"><rect fill=\"#FFFFFF\" height=\"45.9375\" id=\"E6\" rx=\"10\" ry=\"10\" style=\"stroke: #383838; stroke-width: 1.5;\" width=\"251\" x=\"32.5\" y=\"120\"/><text fill=\"#000000\" font-family=\"sans-serif\" font-size=\"12\" font-style=\"italic\" lengthAdjust=\"spacingAndGlyphs\" textLength=\"91\" x=\"112.5\" y=\"136.1387\">«requirement»</text><text fill=\"#000000\" font-family=\"sans-serif\" font-size=\"12\" lengthAdjust=\"spacingAndGlyphs\" textLength=\"245\" x=\"35.5\" y=\"150.1074\">tradeStudyObjective: MaximizeObjective</text><line style=\"stroke: #383838; stroke-width: 1.5;\" x1=\"33.5\" x2=\"282.5\" y1=\"157.9375\" y2=\"157.9375\"/></a><!--MD5=[2156ba9850f5573cc1fc38a6a4b2f02b]\n",
       "class E7--><a href=\"psysml:f099413c-f817-477f-a757-2c07f6450928\" target=\"_top\" title=\"psysml:f099413c-f817-477f-a757-2c07f6450928\" xlink:actuate=\"onRequest\" xlink:href=\"psysml:f099413c-f817-477f-a757-2c07f6450928\" xlink:show=\"new\" xlink:title=\"psysml:f099413c-f817-477f-a757-2c07f6450928\" xlink:type=\"simple\"><rect fill=\"#FFFFFF\" height=\"45.9375\" id=\"E7\" rx=\"10\" ry=\"10\" style=\"stroke: #383838; stroke-width: 1.5;\" width=\"116\" x=\"319\" y=\"120\"/><text fill=\"#000000\" font-family=\"sans-serif\" font-size=\"12\" font-style=\"italic\" lengthAdjust=\"spacingAndGlyphs\" textLength=\"82\" x=\"336\" y=\"136.1387\">«calculation»</text><text fill=\"#000000\" font-family=\"sans-serif\" font-size=\"12\" lengthAdjust=\"spacingAndGlyphs\" textLength=\"110\" x=\"322\" y=\"150.1074\">objectiveFunction</text><line style=\"stroke: #383838; stroke-width: 1.5;\" x1=\"320\" x2=\"434\" y1=\"157.9375\" y2=\"157.9375\"/></a><!--MD5=[b9389687b975829384b498ac4b7476b2]\n",
       "class E8--><a href=\"psysml:26f566d1-080d-4e4d-ba32-38c38fdc0bde\" target=\"_top\" title=\"psysml:26f566d1-080d-4e4d-ba32-38c38fdc0bde\" xlink:actuate=\"onRequest\" xlink:href=\"psysml:26f566d1-080d-4e4d-ba32-38c38fdc0bde\" xlink:show=\"new\" xlink:title=\"psysml:26f566d1-080d-4e4d-ba32-38c38fdc0bde\" xlink:type=\"simple\"><rect fill=\"#FFFFFF\" height=\"31.9688\" id=\"E8\" rx=\"10\" ry=\"10\" style=\"stroke: #383838; stroke-width: 1.5;\" width=\"124\" x=\"178\" y=\"214\"/><text fill=\"#000000\" font-family=\"sans-serif\" font-size=\"12\" lengthAdjust=\"spacingAndGlyphs\" textLength=\"118\" x=\"181\" y=\"230.1387\">alternative: Engine</text><line style=\"stroke: #383838; stroke-width: 1.5;\" x1=\"179\" x2=\"301\" y1=\"237.9688\" y2=\"237.9688\"/></a><!--MD5=[fd4143e9d270a159db93a4ea2a975926]\n",
       "class E9--><a href=\"psysml:7894e875-c3b4-453b-9dc9-b899c04487e6\" target=\"_top\" title=\"psysml:7894e875-c3b4-453b-9dc9-b899c04487e6\" xlink:actuate=\"onRequest\" xlink:href=\"psysml:7894e875-c3b4-453b-9dc9-b899c04487e6\" xlink:show=\"new\" xlink:title=\"psysml:7894e875-c3b4-453b-9dc9-b899c04487e6\" xlink:type=\"simple\"><rect fill=\"#FFFFFF\" height=\"31.9688\" id=\"E9\" rx=\"10\" ry=\"10\" style=\"stroke: #383838; stroke-width: 1.5;\" width=\"178\" x=\"246\" y=\"174\"/><text fill=\"#000000\" font-family=\"sans-serif\" font-size=\"12\" lengthAdjust=\"spacingAndGlyphs\" textLength=\"172\" x=\"249\" y=\"190.1387\">selectedAlternative: Engine</text><line style=\"stroke: #383838; stroke-width: 1.5;\" x1=\"247\" x2=\"423\" y1=\"197.9688\" y2=\"197.9688\"/></a><g id=\"E1.E2\"><a href=\"psysml:90b379af-84e4-4b51-bcba-9b20024a2d1f\" target=\"_top\" title=\"psysml:90b379af-84e4-4b51-bcba-9b20024a2d1f\" xlink:actuate=\"onRequest\" xlink:href=\"psysml:90b379af-84e4-4b51-bcba-9b20024a2d1f\" xlink:show=\"new\" xlink:title=\"psysml:90b379af-84e4-4b51-bcba-9b20024a2d1f\" xlink:type=\"simple\"><rect fill=\"#FFFFFF\" height=\"42.9375\" id=\"E2\" style=\"stroke: #383838; stroke-width: 1.5;\" width=\"71\" x=\"302.5\" y=\"263\"/><rect fill=\"#F8F8F8\" height=\"37.9375\" style=\"stroke: #383838; stroke-width: 1.5;\" width=\"71\" x=\"302.5\" y=\"263\"/><text fill=\"#000000\" font-family=\"sans-serif\" font-size=\"12\" font-style=\"italic\" lengthAdjust=\"spacingAndGlyphs\" textLength=\"64\" x=\"306\" y=\"279.1387\">«part def»</text><text fill=\"#000000\" font-family=\"sans-serif\" font-size=\"12\" lengthAdjust=\"spacingAndGlyphs\" textLength=\"43\" x=\"316.5\" y=\"293.1074\">Engine</text></a></g><g id=\"E1.E3\"><a href=\"psysml:1fe04244-3a7b-4d3a-93e0-0fd9f61a7cea\" target=\"_top\" title=\"psysml:1fe04244-3a7b-4d3a-93e0-0fd9f61a7cea\" xlink:actuate=\"onRequest\" xlink:href=\"psysml:1fe04244-3a7b-4d3a-93e0-0fd9f61a7cea\" xlink:show=\"new\" xlink:title=\"psysml:1fe04244-3a7b-4d3a-93e0-0fd9f61a7cea\" xlink:type=\"simple\"><rect fill=\"#FFFFFF\" height=\"40\" id=\"E3\" rx=\"10\" ry=\"10\" style=\"stroke: #383838; stroke-width: 1.5;\" width=\"113\" x=\"180.5\" y=\"44\"/><rect fill=\"#F8F8F8\" height=\"23.9688\" rx=\"10\" ry=\"10\" style=\"stroke: #F8F8F8; stroke-width: 1.5;\" width=\"113\" x=\"180.5\" y=\"44\"/><rect fill=\"#F8F8F8\" height=\"10\" style=\"stroke: #F8F8F8; stroke-width: 1.5;\" width=\"113\" x=\"180.5\" y=\"57.9688\"/><rect fill=\"none\" height=\"40\" id=\"E3\" rx=\"10\" ry=\"10\" style=\"stroke: #383838; stroke-width: 1.5;\" width=\"113\" x=\"180.5\" y=\"44\"/><text fill=\"#000000\" font-family=\"sans-serif\" font-size=\"12\" lengthAdjust=\"spacingAndGlyphs\" textLength=\"102\" x=\"186\" y=\"60.1387\">engine1: Engine</text></a></g><g id=\"E1.E4\"><a href=\"psysml:07207da4-9c20-4091-a953-293a54d08950\" target=\"_top\" title=\"psysml:07207da4-9c20-4091-a953-293a54d08950\" xlink:actuate=\"onRequest\" xlink:href=\"psysml:07207da4-9c20-4091-a953-293a54d08950\" xlink:show=\"new\" xlink:title=\"psysml:07207da4-9c20-4091-a953-293a54d08950\" xlink:type=\"simple\"><rect fill=\"#FFFFFF\" height=\"40\" id=\"E4\" rx=\"10\" ry=\"10\" style=\"stroke: #383838; stroke-width: 1.5;\" width=\"113\" x=\"32.5\" y=\"44\"/><rect fill=\"#F8F8F8\" height=\"23.9688\" rx=\"10\" ry=\"10\" style=\"stroke: #F8F8F8; stroke-width: 1.5;\" width=\"113\" x=\"32.5\" y=\"44\"/><rect fill=\"#F8F8F8\" height=\"10\" style=\"stroke: #F8F8F8; stroke-width: 1.5;\" width=\"113\" x=\"32.5\" y=\"57.9688\"/><rect fill=\"none\" height=\"40\" id=\"E4\" rx=\"10\" ry=\"10\" style=\"stroke: #383838; stroke-width: 1.5;\" width=\"113\" x=\"32.5\" y=\"44\"/><text fill=\"#000000\" font-family=\"sans-serif\" font-size=\"12\" lengthAdjust=\"spacingAndGlyphs\" textLength=\"102\" x=\"38\" y=\"60.1387\">engine2: Engine</text></a></g><!--MD5=[15ebcb19ae302d9b601edb458606d402]\n",
       "link E5 to E2--><a href=\"psysml:ecc21de6-0c62-41d5-be03-95573cca647a\" target=\"_top\" title=\"psysml:ecc21de6-0c62-41d5-be03-95573cca647a\" xlink:actuate=\"onRequest\" xlink:href=\"psysml:ecc21de6-0c62-41d5-be03-95573cca647a\" xlink:show=\"new\" xlink:title=\"psysml:ecc21de6-0c62-41d5-be03-95573cca647a\" xlink:type=\"simple\"><path d=\"M454.33,87.05 C456.45,89.57 458.39,92.23 460,95 C475.92,122.38 478.3,136.82 466,166 C448.69,207.07 408.73,239.87 378.03,260.26 \" fill=\"none\" id=\"E5-&gt;E2\" style=\"stroke: #383838; stroke-width: 1.0; stroke-dasharray: 7.0,7.0;\"/><polygon fill=\"#383838\" points=\"373.57,263.18,383.2939,261.6161,377.7586,260.4495,378.9251,254.9143,373.57,263.18\" style=\"stroke: #383838; stroke-width: 1.0;\"/><text fill=\"#000000\" font-family=\"sans-serif\" font-size=\"13\" lengthAdjust=\"spacingAndGlyphs\" textLength=\"62\" x=\"463\" y=\"194.5669\">«subject»</text></a><!--MD5=[9120cf2e5df3bff93db8f754bbbc09b4]\n",
       "link E5 to E6--><a href=\"psysml:fcf6c150-3866-4336-9e66-2e65ffb041aa\" target=\"_top\" title=\"psysml:fcf6c150-3866-4336-9e66-2e65ffb041aa\" xlink:actuate=\"onRequest\" xlink:href=\"psysml:fcf6c150-3866-4336-9e66-2e65ffb041aa\" xlink:show=\"new\" xlink:title=\"psysml:fcf6c150-3866-4336-9e66-2e65ffb041aa\" xlink:type=\"simple\"><path d=\"M342.94,87.03 C333.16,89.67 323.36,92.36 314,95 C288.94,102.07 261.74,110.13 237.17,117.56 \" fill=\"none\" id=\"E5-&gt;E6\" style=\"stroke: #383838; stroke-width: 1.0;\"/><polygon fill=\"#383838\" points=\"229.29,119.94,237.8158,120.4972,236.0799,114.7538,229.29,119.94\" style=\"stroke: #383838; stroke-width: 1.0;\"/><text fill=\"#000000\" font-family=\"sans-serif\" font-size=\"13\" lengthAdjust=\"spacingAndGlyphs\" textLength=\"73\" x=\"315\" y=\"108.0669\">«objective»</text></a><!--MD5=[452b418e7f8a40397a49b8c0a78acc5b]\n",
       "reverse link E5 to E7--><a href=\"psysml:a988c065-f70c-4bb4-ab6a-fca08357bc4a\" target=\"_top\" title=\"psysml:a988c065-f70c-4bb4-ab6a-fca08357bc4a\" xlink:actuate=\"onRequest\" xlink:href=\"psysml:a988c065-f70c-4bb4-ab6a-fca08357bc4a\" xlink:show=\"new\" xlink:title=\"psysml:a988c065-f70c-4bb4-ab6a-fca08357bc4a\" xlink:type=\"simple\"><path d=\"M405.93,98.32 C401.13,105.57 396.16,113.08 391.72,119.78 \" fill=\"none\" id=\"E5&lt;-E7\" style=\"stroke: #383838; stroke-width: 1.0;\"/><polygon fill=\"#383838\" points=\"413.25,87.27,406.6021,90.0638,406.6241,97.2749,413.272,94.4811,413.25,87.27\" style=\"stroke: #383838; stroke-width: 1.0;\"/></a><!--MD5=[dc164f5e8a733ab456ef1add180e9e34]\n",
       "reverse link E7 to E8--><a href=\"psysml:4295af6e-acd7-489b-9191-c25409e1351b\" target=\"_top\" title=\"psysml:4295af6e-acd7-489b-9191-c25409e1351b\" xlink:actuate=\"onRequest\" xlink:href=\"psysml:4295af6e-acd7-489b-9191-c25409e1351b\" xlink:show=\"new\" xlink:title=\"psysml:4295af6e-acd7-489b-9191-c25409e1351b\" xlink:type=\"simple\"><path d=\"M305.92,164.91 C304.26,165.29 302.62,165.65 301,166 C288.71,168.64 253.66,164.89 245,174 C235.09,184.43 235.08,201.52 236.77,213.88 \" fill=\"none\" id=\"E7&lt;-E8\" style=\"stroke: #383838; stroke-width: 1.0;\"/><polygon fill=\"#FFFFFF\" points=\"318.71,161.77,311.9314,159.3102,307.0537,164.6214,313.8323,167.0811,318.71,161.77\" style=\"stroke: #383838; stroke-width: 1.0;\"/><text fill=\"#000000\" font-family=\"sans-serif\" font-size=\"13\" lengthAdjust=\"spacingAndGlyphs\" textLength=\"8\" x=\"226.2847\" y=\"202.8557\">1</text></a><!--MD5=[f1f3f9f2fc535e6147756cb86a7f2e32]\n",
       "link E8 to E2--><a href=\"psysml:aed7fba6-fc0e-4a29-a473-c7d943b57344\" target=\"_top\" title=\"psysml:aed7fba6-fc0e-4a29-a473-c7d943b57344\" xlink:actuate=\"onRequest\" xlink:href=\"psysml:aed7fba6-fc0e-4a29-a473-c7d943b57344\" xlink:show=\"new\" xlink:title=\"psysml:aed7fba6-fc0e-4a29-a473-c7d943b57344\" xlink:type=\"simple\"><path d=\"M268.08,246.04 C273.23,248.8 278.76,251.77 284.38,254.77 \" fill=\"none\" id=\"E8-&gt;E2\" style=\"stroke: #383838; stroke-width: 1.0;\"/><polygon fill=\"#FFFFFF\" points=\"302.21,264.33,282.1553,261.5358,288.7616,249.1926,302.21,264.33\" style=\"stroke: #383838; stroke-width: 1.0;\"/><ellipse cx=\"278.0736\" cy=\"257.0828\" fill=\"#383838\" rx=\"2\" ry=\"2\" style=\"stroke: #383838; stroke-width: 1.0;\"/><ellipse cx=\"282.7924\" cy=\"248.2661\" fill=\"#383838\" rx=\"2\" ry=\"2\" style=\"stroke: #383838; stroke-width: 1.0;\"/></a><!--MD5=[9ae28de373ca99bb8a1b38d63370ca7e]\n",
       "reverse link E5 to E9--><a href=\"psysml:afcc773f-3f6f-47e3-9b17-c2b1fd7bbdc3\" target=\"_top\" title=\"psysml:afcc773f-3f6f-47e3-9b17-c2b1fd7bbdc3\" xlink:actuate=\"onRequest\" xlink:href=\"psysml:afcc773f-3f6f-47e3-9b17-c2b1fd7bbdc3\" xlink:show=\"new\" xlink:title=\"psysml:afcc773f-3f6f-47e3-9b17-c2b1fd7bbdc3\" xlink:type=\"simple\"><path d=\"M449.82,98.65 C460.68,120.03 468.53,147.15 453,166 C451.62,167.67 438.74,170.68 421.94,173.98 \" fill=\"none\" id=\"E5&lt;-E9\" style=\"stroke: #383838; stroke-width: 1.0;\"/><polygon fill=\"#FFFFFF\" points=\"443.41,87.13,442.8257,94.3174,449.2355,97.6211,449.8198,90.4337,443.41,87.13\" style=\"stroke: #383838; stroke-width: 1.0;\"/><text fill=\"#000000\" font-family=\"sans-serif\" font-size=\"13\" lengthAdjust=\"spacingAndGlyphs\" textLength=\"8\" x=\"431.8866\" y=\"185.124\">1</text></a><!--MD5=[5c3bb36fe832a92c7f0e1807dd65209d]\n",
       "link E9 to E2--><a href=\"psysml:09d901e9-14a1-4a34-80ae-448f8674b33c\" target=\"_top\" title=\"psysml:09d901e9-14a1-4a34-80ae-448f8674b33c\" xlink:actuate=\"onRequest\" xlink:href=\"psysml:09d901e9-14a1-4a34-80ae-448f8674b33c\" xlink:show=\"new\" xlink:title=\"psysml:09d901e9-14a1-4a34-80ae-448f8674b33c\" xlink:type=\"simple\"><path d=\"M335.5,206.27 C335.82,216.14 336.25,229.48 336.66,242.29 \" fill=\"none\" id=\"E9-&gt;E2\" style=\"stroke: #383838; stroke-width: 1.0;\"/><polygon fill=\"#FFFFFF\" points=\"337.32,262.66,329.7128,243.8949,343.7055,243.4448,337.32,262.66\" style=\"stroke: #383838; stroke-width: 1.0;\"/><ellipse cx=\"331.5285\" cy=\"238.1335\" fill=\"#383838\" rx=\"2\" ry=\"2\" style=\"stroke: #383838; stroke-width: 1.0;\"/><ellipse cx=\"341.5233\" cy=\"237.812\" fill=\"#383838\" rx=\"2\" ry=\"2\" style=\"stroke: #383838; stroke-width: 1.0;\"/></a><!--MD5=[0ee2e608b198ce9fadeaef928c9e356a]\n",
       "@startuml\r\n",
       "skinparam ranksep 10\r\n",
       "skinparam rectangle {\r\n",
       " backgroundColor<<block>> LightGreen\r\n",
       "}\r\n",
       "skinparam monochrome true\r\n",
       "skinparam classbackgroundcolor white\r\n",
       "skinparam shadowing false\r\n",
       "skinparam wrapWidth 300\r\n",
       "hide circle\r\n",
       "\r\n",
       "package \"TradeStudyTest\" as E1  [[psysml:0d92d0af-a8c4-487d-a88b-e96d8d162758 ]]  {\r\n",
       "rec def \"Engine\" as E2  <<(T,blue) part def>> [[psysml:90b379af-84e4-4b51-bcba-9b20024a2d1f ]] {\r\n",
       "}\r\n",
       "rec usage \"engine1: Engine\" as E3  [[psysml:1fe04244-3a7b-4d3a-93e0-0fd9f61a7cea ]] {\r\n",
       "}\r\n",
       "rec usage \"engine2: Engine\" as E4  [[psysml:07207da4-9c20-4091-a953-293a54d08950 ]] {\r\n",
       "}\r\n",
       "comp usage \"engineTradeStudy: TradeStudy\" as E5 << analysis>> [[psysml:c0123459-da5a-4fa7-ba13-511d4e5fcdf0 ]] {\r\n",
       "}\r\n",
       "comp usage \"tradeStudyObjective: MaximizeObjective\" as E6  <<(T,blue) requirement>> [[psysml:d3ca6a29-f1f6-48ae-8677-7ec75b0f5c21 ]] {\r\n",
       "}\r\n",
       "comp usage \"objectiveFunction\" as E7  <<(T,blue) calculation>> [[psysml:f099413c-f817-477f-a757-2c07f6450928 ]] {\r\n",
       "}\r\n",
       "comp usage \"alternative: Engine\" as E8  [[psysml:26f566d1-080d-4e4d-ba32-38c38fdc0bde ]] {\r\n",
       "}\r\n",
       "comp usage \"selectedAlternative: Engine\" as E9  [[psysml:7894e875-c3b4-453b-9dc9-b899c04487e6 ]] {\r\n",
       "}\r\n",
       "E5 ..> E2 [[psysml:ecc21de6-0c62-41d5-be03-95573cca647a ]] : <<subject>>\r\n",
       "E5 - ->> E6 [[psysml:fcf6c150-3866-4336-9e66-2e65ffb041aa ]] : <<objective>>\r\n",
       "E5 *- - E7 [[psysml:a988c065-f70c-4bb4-ab6a-fca08357bc4a ]] \r\n",
       "E7 o- - \"1\"E8 [[psysml:4295af6e-acd7-489b-9191-c25409e1351b ]] \r\n",
       "E8 - -:|> E2 [[psysml:aed7fba6-fc0e-4a29-a473-c7d943b57344 ]] \r\n",
       "E5 o- - \"1\"E9 [[psysml:afcc773f-3f6f-47e3-9b17-c2b1fd7bbdc3 ]] \r\n",
       "E9 - -:|> E2 [[psysml:09d901e9-14a1-4a34-80ae-448f8674b33c ]] \r\n",
       "}\r\n",
       "@enduml\r\n",
       "\n",
       "PlantUML version 1.2020.13(Sat Jun 13 12:26:38 UTC 2020)\n",
       "(EPL source distribution)\n",
       "Java Runtime: OpenJDK Runtime Environment\n",
       "JVM: OpenJDK 64-Bit Server VM\n",
       "Default Encoding: UTF-8\n",
       "Language: en\n",
       "Country: null\n",
       "--></g></svg>"
      ]
     },
     "execution_count": 40,
     "metadata": {},
     "output_type": "execute_result"
    }
   ],
   "source": [
    "%viz --style=\"DEFAULT\" --view=\"Interconnection\" \"TradeStudyTest\""
   ]
  },
  {
   "cell_type": "code",
   "execution_count": 41,
   "id": "c6c2ef83",
   "metadata": {
    "execution": {
     "iopub.execute_input": "2021-08-04T06:27:40.858849Z",
     "iopub.status.busy": "2021-08-04T06:27:40.858428Z",
     "iopub.status.idle": "2021-08-04T06:27:40.879391Z",
     "shell.execute_reply": "2021-08-04T06:27:40.879024Z"
    }
   },
   "outputs": [
    {
     "data": {
      "image/svg+xml": [
       "<?xml version=\"1.0\" encoding=\"UTF-8\" standalone=\"no\"?><svg xmlns=\"http://www.w3.org/2000/svg\" xmlns:xlink=\"http://www.w3.org/1999/xlink\" contentScriptType=\"application/ecmascript\" contentStyleType=\"text/css\" height=\"178px\" preserveAspectRatio=\"none\" style=\"width:393px;height:178px;\" version=\"1.1\" viewBox=\"0 0 393 178\" width=\"393px\" zoomAndPan=\"magnify\"><defs/><g><!--MD5=[fbc87193dbaf4d95561dea2c320d4a47]\n",
       "cluster E1--><a href=\"psysml:c0123459-da5a-4fa7-ba13-511d4e5fcdf0\" target=\"_top\" title=\"psysml:c0123459-da5a-4fa7-ba13-511d4e5fcdf0\" xlink:actuate=\"onRequest\" xlink:href=\"psysml:c0123459-da5a-4fa7-ba13-511d4e5fcdf0\" xlink:show=\"new\" xlink:title=\"psysml:c0123459-da5a-4fa7-ba13-511d4e5fcdf0\" xlink:type=\"simple\"><rect fill=\"#FFFFFF\" height=\"103.72\" id=\"E1\" rx=\"10\" ry=\"10\" style=\"stroke: #383838; stroke-width: 1.5;\" width=\"354\" x=\"16.5\" y=\"42.0986\"/><rect fill=\"#F8F8F8\" height=\"37.9375\" rx=\"10\" ry=\"10\" style=\"stroke: #F8F8F8; stroke-width: 1.5;\" width=\"354\" x=\"16.5\" y=\"42.0986\"/><rect fill=\"#F8F8F8\" height=\"10\" style=\"stroke: #F8F8F8; stroke-width: 1.5;\" width=\"354\" x=\"16.5\" y=\"70.0361\"/><rect fill=\"none\" height=\"103.72\" id=\"E1\" rx=\"10\" ry=\"10\" style=\"stroke: #383838; stroke-width: 1.5;\" width=\"354\" x=\"16.5\" y=\"42.0986\"/><text fill=\"#000000\" font-family=\"sans-serif\" font-size=\"12\" font-style=\"italic\" lengthAdjust=\"spacingAndGlyphs\" textLength=\"64\" x=\"161.5\" y=\"58.2373\">«analysis»</text><text fill=\"#000000\" font-family=\"sans-serif\" font-size=\"12\" lengthAdjust=\"spacingAndGlyphs\" textLength=\"114\" x=\"136.5\" y=\"72.2061\">engineTradeStudy</text><line style=\"stroke: #383838; stroke-width: 1.0;\" x1=\"16.5\" x2=\"370.5\" y1=\"80.0361\" y2=\"80.0361\"/></a><!--MD5=[d5e69f78d87373223dbae638b30a9c99]\n",
       "cluster E3--><a href=\"psysml:f099413c-f817-477f-a757-2c07f6450928\" target=\"_top\" title=\"psysml:f099413c-f817-477f-a757-2c07f6450928\" xlink:actuate=\"onRequest\" xlink:href=\"psysml:f099413c-f817-477f-a757-2c07f6450928\" xlink:show=\"new\" xlink:title=\"psysml:f099413c-f817-477f-a757-2c07f6450928\" xlink:type=\"simple\"><rect fill=\"#FFFFFF\" height=\"81.72\" id=\"E3\" rx=\"10\" ry=\"10\" style=\"stroke: #383838; stroke-width: 1.5;\" width=\"150\" x=\"200.5\" y=\"64.0986\"/><rect fill=\"#F8F8F8\" height=\"37.9375\" rx=\"10\" ry=\"10\" style=\"stroke: #F8F8F8; stroke-width: 1.5;\" width=\"150\" x=\"200.5\" y=\"64.0986\"/><rect fill=\"#F8F8F8\" height=\"10\" style=\"stroke: #F8F8F8; stroke-width: 1.5;\" width=\"150\" x=\"200.5\" y=\"92.0361\"/><rect fill=\"none\" height=\"81.72\" id=\"E3\" rx=\"10\" ry=\"10\" style=\"stroke: #383838; stroke-width: 1.5;\" width=\"150\" x=\"200.5\" y=\"64.0986\"/><text fill=\"#000000\" font-family=\"sans-serif\" font-size=\"12\" font-style=\"italic\" lengthAdjust=\"spacingAndGlyphs\" textLength=\"82\" x=\"234.5\" y=\"80.2373\">«calculation»</text><text fill=\"#000000\" font-family=\"sans-serif\" font-size=\"12\" lengthAdjust=\"spacingAndGlyphs\" textLength=\"110\" x=\"220.5\" y=\"94.2061\">objectiveFunction</text><line style=\"stroke: #383838; stroke-width: 1.0;\" x1=\"200.5\" x2=\"350.5\" y1=\"102.0361\" y2=\"102.0361\"/></a><text fill=\"#000000\" font-family=\"sans-serif\" font-size=\"14\" lengthAdjust=\"spacingAndGlyphs\" textLength=\"57\" x=\"6\" y=\"20.7969\">noname</text><rect fill=\"#383838\" height=\"12\" style=\"stroke: #F8F8F8; stroke-width: 1.5;\" width=\"12\" x=\"28.5\" y=\"36.0986\"/><text fill=\"#000000\" font-family=\"sans-serif\" font-size=\"14\" lengthAdjust=\"spacingAndGlyphs\" textLength=\"57\" x=\"324\" y=\"164.8138\">noname</text><rect fill=\"#383838\" height=\"12\" style=\"stroke: #F8F8F8; stroke-width: 1.5;\" width=\"12\" x=\"346.5\" y=\"139.8186\"/><text fill=\"#000000\" font-family=\"sans-serif\" font-size=\"14\" lengthAdjust=\"spacingAndGlyphs\" textLength=\"57\" x=\"194\" y=\"164.8138\">noname</text><rect fill=\"#383838\" height=\"12\" style=\"stroke: #F8F8F8; stroke-width: 1.5;\" width=\"12\" x=\"216.5\" y=\"139.8186\"/><!--MD5=[5903af3830b3ce3f73e6f4d5c871f6ff]\n",
       "@startuml\r\n",
       "skinparam ranksep 8\r\n",
       "skinparam monochrome true\r\n",
       "skinparam classbackgroundcolor white\r\n",
       "skinparam shadowing false\r\n",
       "skinparam wrapWidth 300\r\n",
       "hide circle\r\n",
       "\r\n",
       "rec usage \"engineTradeStudy\" as E1 << analysis>> [[psysml:c0123459-da5a-4fa7-ba13-511d4e5fcdf0 ]] {\r\n",
       "portin \"noname\" as E2  [[psysml:210e0914-9352-49ef-884c-3efb23c87d05 ]] \r\n",
       "rec usage \"objectiveFunction\" as E3  <<(T,blue) calculation>> [[psysml:f099413c-f817-477f-a757-2c07f6450928 ]] {\r\n",
       "portout \"noname\" as E4  [[psysml:cddfcd13-7814-4ab4-947c-703e6331ff4e ]] \r\n",
       "}\r\n",
       "\r\n",
       "portout \"noname\" as E5  [[psysml:7894e875-c3b4-453b-9dc9-b899c04487e6 ]] \r\n",
       "}\r\n",
       "\r\n",
       "@enduml\r\n",
       "\n",
       "PlantUML version 1.2020.13(Sat Jun 13 12:26:38 UTC 2020)\n",
       "(EPL source distribution)\n",
       "Java Runtime: OpenJDK Runtime Environment\n",
       "JVM: OpenJDK 64-Bit Server VM\n",
       "Default Encoding: UTF-8\n",
       "Language: en\n",
       "Country: null\n",
       "--></g></svg>"
      ]
     },
     "execution_count": 41,
     "metadata": {},
     "output_type": "execute_result"
    }
   ],
   "source": [
    "%viz --style=\"DEFAULT\" --view=\"Action\" \"TradeStudyTest\""
   ]
  },
  {
   "cell_type": "code",
   "execution_count": 42,
   "id": "1b57dbd0",
   "metadata": {
    "execution": {
     "iopub.execute_input": "2021-08-04T06:27:40.929262Z",
     "iopub.status.busy": "2021-08-04T06:27:40.928839Z",
     "iopub.status.idle": "2021-08-04T06:27:40.956261Z",
     "shell.execute_reply": "2021-08-04T06:27:40.954964Z"
    }
   },
   "outputs": [
    {
     "data": {
      "image/svg+xml": [
       "<?xml version=\"1.0\" encoding=\"UTF-8\" standalone=\"no\"?><svg xmlns=\"http://www.w3.org/2000/svg\" xmlns:xlink=\"http://www.w3.org/1999/xlink\" contentScriptType=\"application/ecmascript\" contentStyleType=\"text/css\" height=\"345px\" preserveAspectRatio=\"none\" style=\"width:955px;height:345px;\" version=\"1.1\" viewBox=\"0 0 955 345\" width=\"955px\" zoomAndPan=\"magnify\"><defs/><g><!--MD5=[fbc87193dbaf4d95561dea2c320d4a47]\n",
       "cluster E1--><a href=\"psysml:0d92d0af-a8c4-487d-a88b-e96d8d162758\" target=\"_top\" title=\"psysml:0d92d0af-a8c4-487d-a88b-e96d8d162758\" xlink:actuate=\"onRequest\" xlink:href=\"psysml:0d92d0af-a8c4-487d-a88b-e96d8d162758\" xlink:show=\"new\" xlink:title=\"psysml:0d92d0af-a8c4-487d-a88b-e96d8d162758\" xlink:type=\"simple\"><polygon fill=\"#FFFFFF\" points=\"16,6,148,6,155,28.2969,933,28.2969,933,333,16,333,16,6\" style=\"stroke: #000000; stroke-width: 1.5;\"/><line style=\"stroke: #000000; stroke-width: 1.5;\" x1=\"16\" x2=\"155\" y1=\"28.2969\" y2=\"28.2969\"/><text fill=\"#000000\" font-family=\"sans-serif\" font-size=\"14\" font-weight=\"bold\" lengthAdjust=\"spacingAndGlyphs\" textLength=\"126\" x=\"20\" y=\"20.9951\">TradeStudyTest</text></a><!--MD5=[b4997ac47864f28c2f74865a473b2911]\n",
       "class E2--><a href=\"psysml:90b379af-84e4-4b51-bcba-9b20024a2d1f\" target=\"_top\" title=\"psysml:90b379af-84e4-4b51-bcba-9b20024a2d1f\" xlink:actuate=\"onRequest\" xlink:href=\"psysml:90b379af-84e4-4b51-bcba-9b20024a2d1f\" xlink:show=\"new\" xlink:title=\"psysml:90b379af-84e4-4b51-bcba-9b20024a2d1f\" xlink:type=\"simple\"><rect fill=\"#FFFFFF\" height=\"45.9375\" id=\"E2\" style=\"stroke: #383838; stroke-width: 1.5;\" width=\"66\" x=\"598\" y=\"271\"/><text fill=\"#000000\" font-family=\"sans-serif\" font-size=\"12\" font-style=\"italic\" lengthAdjust=\"spacingAndGlyphs\" textLength=\"64\" x=\"599\" y=\"287.1387\">«part def»</text><text fill=\"#000000\" font-family=\"sans-serif\" font-size=\"12\" lengthAdjust=\"spacingAndGlyphs\" textLength=\"43\" x=\"609.5\" y=\"301.1074\">Engine</text><line style=\"stroke: #383838; stroke-width: 1.5;\" x1=\"599\" x2=\"663\" y1=\"308.9375\" y2=\"308.9375\"/></a><!--MD5=[09b614a08d8cba4a07c9adeb5e0fee81]\n",
       "class E3--><a href=\"psysml:1fe04244-3a7b-4d3a-93e0-0fd9f61a7cea\" target=\"_top\" title=\"psysml:1fe04244-3a7b-4d3a-93e0-0fd9f61a7cea\" xlink:actuate=\"onRequest\" xlink:href=\"psysml:1fe04244-3a7b-4d3a-93e0-0fd9f61a7cea\" xlink:show=\"new\" xlink:title=\"psysml:1fe04244-3a7b-4d3a-93e0-0fd9f61a7cea\" xlink:type=\"simple\"><rect fill=\"#FFFFFF\" height=\"45.9375\" id=\"E3\" rx=\"10\" ry=\"10\" style=\"stroke: #383838; stroke-width: 1.5;\" width=\"108\" x=\"809\" y=\"164\"/><text fill=\"#000000\" font-family=\"sans-serif\" font-size=\"12\" font-style=\"italic\" lengthAdjust=\"spacingAndGlyphs\" textLength=\"40\" x=\"843\" y=\"180.1387\">«part»</text><text fill=\"#000000\" font-family=\"sans-serif\" font-size=\"12\" lengthAdjust=\"spacingAndGlyphs\" textLength=\"102\" x=\"812\" y=\"194.1074\">engine1: Engine</text><line style=\"stroke: #383838; stroke-width: 1.5;\" x1=\"810\" x2=\"916\" y1=\"201.9375\" y2=\"201.9375\"/></a><!--MD5=[ebbe1d658d1005bcc118a6aa81145e00]\n",
       "class E4--><a href=\"psysml:07207da4-9c20-4091-a953-293a54d08950\" target=\"_top\" title=\"psysml:07207da4-9c20-4091-a953-293a54d08950\" xlink:actuate=\"onRequest\" xlink:href=\"psysml:07207da4-9c20-4091-a953-293a54d08950\" xlink:show=\"new\" xlink:title=\"psysml:07207da4-9c20-4091-a953-293a54d08950\" xlink:type=\"simple\"><rect fill=\"#FFFFFF\" height=\"45.9375\" id=\"E4\" rx=\"10\" ry=\"10\" style=\"stroke: #383838; stroke-width: 1.5;\" width=\"108\" x=\"666\" y=\"164\"/><text fill=\"#000000\" font-family=\"sans-serif\" font-size=\"12\" font-style=\"italic\" lengthAdjust=\"spacingAndGlyphs\" textLength=\"40\" x=\"700\" y=\"180.1387\">«part»</text><text fill=\"#000000\" font-family=\"sans-serif\" font-size=\"12\" lengthAdjust=\"spacingAndGlyphs\" textLength=\"102\" x=\"669\" y=\"194.1074\">engine2: Engine</text><line style=\"stroke: #383838; stroke-width: 1.5;\" x1=\"667\" x2=\"773\" y1=\"201.9375\" y2=\"201.9375\"/></a><!--MD5=[270fce915f116d4de14055a7c1d9a0f3]\n",
       "class E5--><a href=\"psysml:c0123459-da5a-4fa7-ba13-511d4e5fcdf0\" target=\"_top\" title=\"psysml:c0123459-da5a-4fa7-ba13-511d4e5fcdf0\" xlink:actuate=\"onRequest\" xlink:href=\"psysml:c0123459-da5a-4fa7-ba13-511d4e5fcdf0\" xlink:show=\"new\" xlink:title=\"psysml:c0123459-da5a-4fa7-ba13-511d4e5fcdf0\" xlink:type=\"simple\"><rect fill=\"#FFFFFF\" height=\"45.9375\" id=\"E5\" rx=\"10\" ry=\"10\" style=\"stroke: #383838; stroke-width: 1.5;\" width=\"199\" x=\"192.5\" y=\"41\"/><text fill=\"#000000\" font-family=\"sans-serif\" font-size=\"12\" font-style=\"italic\" lengthAdjust=\"spacingAndGlyphs\" textLength=\"64\" x=\"260\" y=\"57.1387\">«analysis»</text><text fill=\"#000000\" font-family=\"sans-serif\" font-size=\"12\" lengthAdjust=\"spacingAndGlyphs\" textLength=\"193\" x=\"195.5\" y=\"71.1074\">engineTradeStudy: TradeStudy</text><line style=\"stroke: #383838; stroke-width: 1.5;\" x1=\"193.5\" x2=\"390.5\" y1=\"78.9375\" y2=\"78.9375\"/></a><!--MD5=[60a26617385b1d2d0262a64233df1f8d]\n",
       "class E6--><a href=\"psysml:d3ca6a29-f1f6-48ae-8677-7ec75b0f5c21\" target=\"_top\" title=\"psysml:d3ca6a29-f1f6-48ae-8677-7ec75b0f5c21\" xlink:actuate=\"onRequest\" xlink:href=\"psysml:d3ca6a29-f1f6-48ae-8677-7ec75b0f5c21\" xlink:show=\"new\" xlink:title=\"psysml:d3ca6a29-f1f6-48ae-8677-7ec75b0f5c21\" xlink:type=\"simple\"><rect fill=\"#FFFFFF\" height=\"45.9375\" id=\"E6\" rx=\"10\" ry=\"10\" style=\"stroke: #383838; stroke-width: 1.5;\" width=\"251\" x=\"166.5\" y=\"164\"/><text fill=\"#000000\" font-family=\"sans-serif\" font-size=\"12\" font-style=\"italic\" lengthAdjust=\"spacingAndGlyphs\" textLength=\"91\" x=\"246.5\" y=\"180.1387\">«requirement»</text><text fill=\"#000000\" font-family=\"sans-serif\" font-size=\"12\" lengthAdjust=\"spacingAndGlyphs\" textLength=\"245\" x=\"169.5\" y=\"194.1074\">tradeStudyObjective: MaximizeObjective</text><line style=\"stroke: #383838; stroke-width: 1.5;\" x1=\"167.5\" x2=\"416.5\" y1=\"201.9375\" y2=\"201.9375\"/></a><!--MD5=[2156ba9850f5573cc1fc38a6a4b2f02b]\n",
       "class E7--><a href=\"psysml:7894e875-c3b4-453b-9dc9-b899c04487e6\" target=\"_top\" title=\"psysml:7894e875-c3b4-453b-9dc9-b899c04487e6\" xlink:actuate=\"onRequest\" xlink:href=\"psysml:7894e875-c3b4-453b-9dc9-b899c04487e6\" xlink:show=\"new\" xlink:title=\"psysml:7894e875-c3b4-453b-9dc9-b899c04487e6\" xlink:type=\"simple\"><rect fill=\"#FFFFFF\" height=\"45.9375\" id=\"E7\" rx=\"10\" ry=\"10\" style=\"stroke: #383838; stroke-width: 1.5;\" width=\"178\" x=\"453\" y=\"164\"/><text fill=\"#000000\" font-family=\"sans-serif\" font-size=\"12\" font-style=\"italic\" lengthAdjust=\"spacingAndGlyphs\" textLength=\"40\" x=\"522\" y=\"180.1387\">«part»</text><text fill=\"#000000\" font-family=\"sans-serif\" font-size=\"12\" lengthAdjust=\"spacingAndGlyphs\" textLength=\"172\" x=\"456\" y=\"194.1074\">selectedAlternative: Engine</text><line style=\"stroke: #383838; stroke-width: 1.5;\" x1=\"454\" x2=\"630\" y1=\"201.9375\" y2=\"201.9375\"/></a><!--MD5=[05d275557350bfb9b23a4ef7222b4c39]\n",
       "link E3 to E2--><a href=\"psysml:8801a447-7348-4a45-a550-3876c92a8627\" target=\"_top\" title=\"psysml:8801a447-7348-4a45-a550-3876c92a8627\" xlink:actuate=\"onRequest\" xlink:href=\"psysml:8801a447-7348-4a45-a550-3876c92a8627\" xlink:show=\"new\" xlink:title=\"psysml:8801a447-7348-4a45-a550-3876c92a8627\" xlink:type=\"simple\"><path d=\"M814.37,210.01 C775.74,227.49 721.88,251.87 682.52,269.68 \" fill=\"none\" id=\"E3-&gt;E2\" style=\"stroke: #383838; stroke-width: 1.0;\"/><polygon fill=\"#FFFFFF\" points=\"664.23,277.96,678.6446,263.7397,684.4251,276.4906,664.23,277.96\" style=\"stroke: #383838; stroke-width: 1.0;\"/><ellipse cx=\"684.6619\" cy=\"263.2078\" fill=\"#383838\" rx=\"2\" ry=\"2\" style=\"stroke: #383838; stroke-width: 1.0;\"/><ellipse cx=\"688.7908\" cy=\"272.3156\" fill=\"#383838\" rx=\"2\" ry=\"2\" style=\"stroke: #383838; stroke-width: 1.0;\"/></a><!--MD5=[185131fc0dcab0a4505a2ebe144e961b]\n",
       "link E4 to E2--><a href=\"psysml:b9350b5a-5d8f-4ac9-a55f-8ba2d0a1e030\" target=\"_top\" title=\"psysml:b9350b5a-5d8f-4ac9-a55f-8ba2d0a1e030\" xlink:actuate=\"onRequest\" xlink:href=\"psysml:b9350b5a-5d8f-4ac9-a55f-8ba2d0a1e030\" xlink:show=\"new\" xlink:title=\"psysml:b9350b5a-5d8f-4ac9-a55f-8ba2d0a1e030\" xlink:type=\"simple\"><path d=\"M701.34,210.01 C690.26,223.08 675.91,240.01 663.06,255.17 \" fill=\"none\" id=\"E4-&gt;E2\" style=\"stroke: #383838; stroke-width: 1.0;\"/><polygon fill=\"#FFFFFF\" points=\"649.94,270.66,656.8931,251.6428,667.5691,260.6994,649.94,270.66\" style=\"stroke: #383838; stroke-width: 1.0;\"/><ellipse cx=\"662.1056\" cy=\"248.5899\" fill=\"#383838\" rx=\"2\" ry=\"2\" style=\"stroke: #383838; stroke-width: 1.0;\"/><ellipse cx=\"669.7313\" cy=\"255.059\" fill=\"#383838\" rx=\"2\" ry=\"2\" style=\"stroke: #383838; stroke-width: 1.0;\"/></a><!--MD5=[15ebcb19ae302d9b601edb458606d402]\n",
       "link E5 to E2--><a href=\"psysml:ecc21de6-0c62-41d5-be03-95573cca647a\" target=\"_top\" title=\"psysml:ecc21de6-0c62-41d5-be03-95573cca647a\" xlink:actuate=\"onRequest\" xlink:href=\"psysml:ecc21de6-0c62-41d5-be03-95573cca647a\" xlink:show=\"new\" xlink:title=\"psysml:ecc21de6-0c62-41d5-be03-95573cca647a\" xlink:type=\"simple\"><path d=\"M211.44,87.03 C135.05,111.81 38.38,155.76 85,210 C150.98,286.77 479.56,293.36 592.67,293.32 \" fill=\"none\" id=\"E5-&gt;E2\" style=\"stroke: #383838; stroke-width: 1.0; stroke-dasharray: 7.0,7.0;\"/><polygon fill=\"#383838\" points=\"597.89,293.31,588.89,289.31,592.89,293.31,588.89,297.31,597.89,293.31\" style=\"stroke: #383838; stroke-width: 1.0;\"/><text fill=\"#000000\" font-family=\"sans-serif\" font-size=\"13\" lengthAdjust=\"spacingAndGlyphs\" textLength=\"62\" x=\"86\" y=\"191.5669\">«subject»</text></a><!--MD5=[9120cf2e5df3bff93db8f754bbbc09b4]\n",
       "link E5 to E6--><a href=\"psysml:fcf6c150-3866-4336-9e66-2e65ffb041aa\" target=\"_top\" title=\"psysml:fcf6c150-3866-4336-9e66-2e65ffb041aa\" xlink:actuate=\"onRequest\" xlink:href=\"psysml:fcf6c150-3866-4336-9e66-2e65ffb041aa\" xlink:show=\"new\" xlink:title=\"psysml:fcf6c150-3866-4336-9e66-2e65ffb041aa\" xlink:type=\"simple\"><path d=\"M292,87.19 C292,106.47 292,134.55 292,155.86 \" fill=\"none\" id=\"E5-&gt;E6\" style=\"stroke: #383838; stroke-width: 1.0;\"/><polygon fill=\"#383838\" points=\"292,163.95,295,155.95,289,155.95,292,163.95\" style=\"stroke: #383838; stroke-width: 1.0;\"/><text fill=\"#000000\" font-family=\"sans-serif\" font-size=\"13\" lengthAdjust=\"spacingAndGlyphs\" textLength=\"73\" x=\"293\" y=\"130.0669\">«objective»</text></a><!--MD5=[452b418e7f8a40397a49b8c0a78acc5b]\n",
       "reverse link E5 to E7--><a href=\"psysml:afcc773f-3f6f-47e3-9b17-c2b1fd7bbdc3\" target=\"_top\" title=\"psysml:afcc773f-3f6f-47e3-9b17-c2b1fd7bbdc3\" xlink:actuate=\"onRequest\" xlink:href=\"psysml:afcc773f-3f6f-47e3-9b17-c2b1fd7bbdc3\" xlink:show=\"new\" xlink:title=\"psysml:afcc773f-3f6f-47e3-9b17-c2b1fd7bbdc3\" xlink:type=\"simple\"><path d=\"M349.39,92.78 C393.99,114.36 455.01,143.9 496.33,163.89 \" fill=\"none\" id=\"E5&lt;-E7\" style=\"stroke: #383838; stroke-width: 1.0;\"/><polygon fill=\"#FFFFFF\" points=\"337.56,87.05,341.2143,93.2666,348.3582,92.2843,344.7039,86.0677,337.56,87.05\" style=\"stroke: #383838; stroke-width: 1.0;\"/><text fill=\"#000000\" font-family=\"sans-serif\" font-size=\"13\" lengthAdjust=\"spacingAndGlyphs\" textLength=\"8\" x=\"474.9812\" y=\"152.7567\">1</text></a><!--MD5=[583832df87f4419a098336a29a52fa00]\n",
       "link E7 to E2--><a href=\"psysml:09d901e9-14a1-4a34-80ae-448f8674b33c\" target=\"_top\" title=\"psysml:09d901e9-14a1-4a34-80ae-448f8674b33c\" xlink:actuate=\"onRequest\" xlink:href=\"psysml:09d901e9-14a1-4a34-80ae-448f8674b33c\" xlink:show=\"new\" xlink:title=\"psysml:09d901e9-14a1-4a34-80ae-448f8674b33c\" xlink:type=\"simple\"><path d=\"M560.66,210.01 C571.74,223.08 586.09,240.01 598.94,255.17 \" fill=\"none\" id=\"E7-&gt;E2\" style=\"stroke: #383838; stroke-width: 1.0;\"/><polygon fill=\"#FFFFFF\" points=\"612.06,270.66,594.4309,260.6994,605.1069,251.6428,612.06,270.66\" style=\"stroke: #383838; stroke-width: 1.0;\"/><ellipse cx=\"592.2687\" cy=\"255.059\" fill=\"#383838\" rx=\"2\" ry=\"2\" style=\"stroke: #383838; stroke-width: 1.0;\"/><ellipse cx=\"599.8944\" cy=\"248.5899\" fill=\"#383838\" rx=\"2\" ry=\"2\" style=\"stroke: #383838; stroke-width: 1.0;\"/></a><!--MD5=[735f8373184d5aa28c535fb1902798c9]\n",
       "@startuml\r\n",
       "skinparam monochrome true\r\n",
       "skinparam classbackgroundcolor white\r\n",
       "skinparam shadowing false\r\n",
       "skinparam wrapWidth 300\r\n",
       "hide circle\r\n",
       "\r\n",
       "package \"TradeStudyTest\" as E1  [[psysml:0d92d0af-a8c4-487d-a88b-e96d8d162758 ]]  {\r\n",
       "comp def \"Engine\" as E2  <<(T,blue) part def>> [[psysml:90b379af-84e4-4b51-bcba-9b20024a2d1f ]] {\r\n",
       "}\r\n",
       "comp usage \"engine1: Engine\" as E3  <<(T,blue) part>> [[psysml:1fe04244-3a7b-4d3a-93e0-0fd9f61a7cea ]] {\r\n",
       "}\r\n",
       "comp usage \"engine2: Engine\" as E4  <<(T,blue) part>> [[psysml:07207da4-9c20-4091-a953-293a54d08950 ]] {\r\n",
       "}\r\n",
       "comp usage \"engineTradeStudy: TradeStudy\" as E5 << analysis>> [[psysml:c0123459-da5a-4fa7-ba13-511d4e5fcdf0 ]] {\r\n",
       "}\r\n",
       "comp usage \"tradeStudyObjective: MaximizeObjective\" as E6  <<(T,blue) requirement>> [[psysml:d3ca6a29-f1f6-48ae-8677-7ec75b0f5c21 ]] {\r\n",
       "}\r\n",
       "comp usage \"selectedAlternative: Engine\" as E7  <<(T,blue) part>> [[psysml:7894e875-c3b4-453b-9dc9-b899c04487e6 ]] {\r\n",
       "}\r\n",
       "E3 - -:|> E2 [[psysml:8801a447-7348-4a45-a550-3876c92a8627 ]] \r\n",
       "E4 - -:|> E2 [[psysml:b9350b5a-5d8f-4ac9-a55f-8ba2d0a1e030 ]] \r\n",
       "E5 ..> E2 [[psysml:ecc21de6-0c62-41d5-be03-95573cca647a ]] : <<subject>>\r\n",
       "E5 - ->> E6 [[psysml:fcf6c150-3866-4336-9e66-2e65ffb041aa ]] : <<objective>>\r\n",
       "E5 o- - \"1\"E7 [[psysml:afcc773f-3f6f-47e3-9b17-c2b1fd7bbdc3 ]] \r\n",
       "E7 - -:|> E2 [[psysml:09d901e9-14a1-4a34-80ae-448f8674b33c ]] \r\n",
       "}\r\n",
       "@enduml\r\n",
       "\n",
       "PlantUML version 1.2020.13(Sat Jun 13 12:26:38 UTC 2020)\n",
       "(EPL source distribution)\n",
       "Java Runtime: OpenJDK Runtime Environment\n",
       "JVM: OpenJDK 64-Bit Server VM\n",
       "Default Encoding: UTF-8\n",
       "Language: en\n",
       "Country: null\n",
       "--></g></svg>"
      ]
     },
     "execution_count": 42,
     "metadata": {},
     "output_type": "execute_result"
    }
   ],
   "source": [
    "%viz --style=\"DEFAULT\" --view=\"Sequence\" \"TradeStudyTest\""
   ]
  },
  {
   "cell_type": "code",
   "execution_count": 43,
   "id": "4cbefa6e",
   "metadata": {
    "execution": {
     "iopub.execute_input": "2021-08-04T06:27:41.005893Z",
     "iopub.status.busy": "2021-08-04T06:27:41.005476Z",
     "iopub.status.idle": "2021-08-04T06:27:41.037987Z",
     "shell.execute_reply": "2021-08-04T06:27:41.038296Z"
    }
   },
   "outputs": [
    {
     "data": {
      "image/svg+xml": [
       "<?xml version=\"1.0\" encoding=\"UTF-8\" standalone=\"no\"?><svg xmlns=\"http://www.w3.org/2000/svg\" xmlns:xlink=\"http://www.w3.org/1999/xlink\" contentScriptType=\"application/ecmascript\" contentStyleType=\"text/css\" height=\"497px\" preserveAspectRatio=\"none\" style=\"width:556px;height:497px;\" version=\"1.1\" viewBox=\"0 0 556 497\" width=\"556px\" zoomAndPan=\"magnify\"><defs/><g><!--MD5=[fbc87193dbaf4d95561dea2c320d4a47]\n",
       "cluster E1--><a href=\"psysml:0d92d0af-a8c4-487d-a88b-e96d8d162758\" target=\"_top\" title=\"psysml:0d92d0af-a8c4-487d-a88b-e96d8d162758\" xlink:actuate=\"onRequest\" xlink:href=\"psysml:0d92d0af-a8c4-487d-a88b-e96d8d162758\" xlink:show=\"new\" xlink:title=\"psysml:0d92d0af-a8c4-487d-a88b-e96d8d162758\" xlink:type=\"simple\"><polygon fill=\"#FFFFFF\" points=\"18.32,6,150.32,6,157.32,28.2969,534.32,28.2969,534.32,485,18.32,485,18.32,6\" style=\"stroke: #000000; stroke-width: 1.5;\"/><line style=\"stroke: #000000; stroke-width: 1.5;\" x1=\"18.32\" x2=\"157.32\" y1=\"28.2969\" y2=\"28.2969\"/><text fill=\"#000000\" font-family=\"sans-serif\" font-size=\"14\" font-weight=\"bold\" lengthAdjust=\"spacingAndGlyphs\" textLength=\"126\" x=\"22.32\" y=\"20.9951\">TradeStudyTest</text></a><!--MD5=[b4997ac47864f28c2f74865a473b2911]\n",
       "class E2--><a href=\"psysml:90b379af-84e4-4b51-bcba-9b20024a2d1f\" target=\"_top\" title=\"psysml:90b379af-84e4-4b51-bcba-9b20024a2d1f\" xlink:actuate=\"onRequest\" xlink:href=\"psysml:90b379af-84e4-4b51-bcba-9b20024a2d1f\" xlink:show=\"new\" xlink:title=\"psysml:90b379af-84e4-4b51-bcba-9b20024a2d1f\" xlink:type=\"simple\"><rect fill=\"#FFFFFF\" height=\"45.9375\" id=\"E2\" style=\"stroke: #383838; stroke-width: 1.5;\" width=\"66\" x=\"198.32\" y=\"423\"/><text fill=\"#000000\" font-family=\"sans-serif\" font-size=\"12\" font-style=\"italic\" lengthAdjust=\"spacingAndGlyphs\" textLength=\"64\" x=\"199.32\" y=\"439.1387\">«part def»</text><text fill=\"#000000\" font-family=\"sans-serif\" font-size=\"12\" lengthAdjust=\"spacingAndGlyphs\" textLength=\"43\" x=\"209.82\" y=\"453.1074\">Engine</text><line style=\"stroke: #383838; stroke-width: 1.5;\" x1=\"199.32\" x2=\"263.32\" y1=\"460.9375\" y2=\"460.9375\"/></a><!--MD5=[09b614a08d8cba4a07c9adeb5e0fee81]\n",
       "class E3--><a href=\"psysml:1fe04244-3a7b-4d3a-93e0-0fd9f61a7cea\" target=\"_top\" title=\"psysml:1fe04244-3a7b-4d3a-93e0-0fd9f61a7cea\" xlink:actuate=\"onRequest\" xlink:href=\"psysml:1fe04244-3a7b-4d3a-93e0-0fd9f61a7cea\" xlink:show=\"new\" xlink:title=\"psysml:1fe04244-3a7b-4d3a-93e0-0fd9f61a7cea\" xlink:type=\"simple\"><rect fill=\"#FFFFFF\" height=\"45.9375\" id=\"E3\" rx=\"10\" ry=\"10\" style=\"stroke: #383838; stroke-width: 1.5;\" width=\"108\" x=\"410.32\" y=\"316\"/><text fill=\"#000000\" font-family=\"sans-serif\" font-size=\"12\" font-style=\"italic\" lengthAdjust=\"spacingAndGlyphs\" textLength=\"40\" x=\"444.32\" y=\"332.1387\">«part»</text><text fill=\"#000000\" font-family=\"sans-serif\" font-size=\"12\" lengthAdjust=\"spacingAndGlyphs\" textLength=\"102\" x=\"413.32\" y=\"346.1074\">engine1: Engine</text><line style=\"stroke: #383838; stroke-width: 1.5;\" x1=\"411.32\" x2=\"517.32\" y1=\"353.9375\" y2=\"353.9375\"/></a><!--MD5=[ebbe1d658d1005bcc118a6aa81145e00]\n",
       "class E4--><a href=\"psysml:07207da4-9c20-4091-a953-293a54d08950\" target=\"_top\" title=\"psysml:07207da4-9c20-4091-a953-293a54d08950\" xlink:actuate=\"onRequest\" xlink:href=\"psysml:07207da4-9c20-4091-a953-293a54d08950\" xlink:show=\"new\" xlink:title=\"psysml:07207da4-9c20-4091-a953-293a54d08950\" xlink:type=\"simple\"><rect fill=\"#FFFFFF\" height=\"45.9375\" id=\"E4\" rx=\"10\" ry=\"10\" style=\"stroke: #383838; stroke-width: 1.5;\" width=\"108\" x=\"267.32\" y=\"316\"/><text fill=\"#000000\" font-family=\"sans-serif\" font-size=\"12\" font-style=\"italic\" lengthAdjust=\"spacingAndGlyphs\" textLength=\"40\" x=\"301.32\" y=\"332.1387\">«part»</text><text fill=\"#000000\" font-family=\"sans-serif\" font-size=\"12\" lengthAdjust=\"spacingAndGlyphs\" textLength=\"102\" x=\"270.32\" y=\"346.1074\">engine2: Engine</text><line style=\"stroke: #383838; stroke-width: 1.5;\" x1=\"268.32\" x2=\"374.32\" y1=\"353.9375\" y2=\"353.9375\"/></a><!--MD5=[270fce915f116d4de14055a7c1d9a0f3]\n",
       "class E5--><a href=\"psysml:c0123459-da5a-4fa7-ba13-511d4e5fcdf0\" target=\"_top\" title=\"psysml:c0123459-da5a-4fa7-ba13-511d4e5fcdf0\" xlink:actuate=\"onRequest\" xlink:href=\"psysml:c0123459-da5a-4fa7-ba13-511d4e5fcdf0\" xlink:show=\"new\" xlink:title=\"psysml:c0123459-da5a-4fa7-ba13-511d4e5fcdf0\" xlink:type=\"simple\"><rect fill=\"#FFFFFF\" height=\"45.9375\" id=\"E5\" rx=\"10\" ry=\"10\" style=\"stroke: #383838; stroke-width: 1.5;\" width=\"199\" x=\"239.82\" y=\"41\"/><text fill=\"#000000\" font-family=\"sans-serif\" font-size=\"12\" font-style=\"italic\" lengthAdjust=\"spacingAndGlyphs\" textLength=\"64\" x=\"307.32\" y=\"57.1387\">«analysis»</text><text fill=\"#000000\" font-family=\"sans-serif\" font-size=\"12\" lengthAdjust=\"spacingAndGlyphs\" textLength=\"193\" x=\"242.82\" y=\"71.1074\">engineTradeStudy: TradeStudy</text><line style=\"stroke: #383838; stroke-width: 1.5;\" x1=\"240.82\" x2=\"437.82\" y1=\"78.9375\" y2=\"78.9375\"/></a><!--MD5=[60a26617385b1d2d0262a64233df1f8d]\n",
       "class E6--><a href=\"psysml:d3ca6a29-f1f6-48ae-8677-7ec75b0f5c21\" target=\"_top\" title=\"psysml:d3ca6a29-f1f6-48ae-8677-7ec75b0f5c21\" xlink:actuate=\"onRequest\" xlink:href=\"psysml:d3ca6a29-f1f6-48ae-8677-7ec75b0f5c21\" xlink:show=\"new\" xlink:title=\"psysml:d3ca6a29-f1f6-48ae-8677-7ec75b0f5c21\" xlink:type=\"simple\"><rect fill=\"#FFFFFF\" height=\"45.9375\" id=\"E6\" rx=\"10\" ry=\"10\" style=\"stroke: #383838; stroke-width: 1.5;\" width=\"251\" x=\"78.82\" y=\"164\"/><text fill=\"#000000\" font-family=\"sans-serif\" font-size=\"12\" font-style=\"italic\" lengthAdjust=\"spacingAndGlyphs\" textLength=\"91\" x=\"158.82\" y=\"180.1387\">«requirement»</text><text fill=\"#000000\" font-family=\"sans-serif\" font-size=\"12\" lengthAdjust=\"spacingAndGlyphs\" textLength=\"245\" x=\"81.82\" y=\"194.1074\">tradeStudyObjective: MaximizeObjective</text><line style=\"stroke: #383838; stroke-width: 1.5;\" x1=\"79.82\" x2=\"328.82\" y1=\"201.9375\" y2=\"201.9375\"/></a><!--MD5=[2156ba9850f5573cc1fc38a6a4b2f02b]\n",
       "class E7--><a href=\"psysml:f099413c-f817-477f-a757-2c07f6450928\" target=\"_top\" title=\"psysml:f099413c-f817-477f-a757-2c07f6450928\" xlink:actuate=\"onRequest\" xlink:href=\"psysml:f099413c-f817-477f-a757-2c07f6450928\" xlink:show=\"new\" xlink:title=\"psysml:f099413c-f817-477f-a757-2c07f6450928\" xlink:type=\"simple\"><rect fill=\"#FFFFFF\" height=\"45.9375\" id=\"E7\" rx=\"10\" ry=\"10\" style=\"stroke: #383838; stroke-width: 1.5;\" width=\"116\" x=\"365.32\" y=\"164\"/><text fill=\"#000000\" font-family=\"sans-serif\" font-size=\"12\" font-style=\"italic\" lengthAdjust=\"spacingAndGlyphs\" textLength=\"82\" x=\"382.32\" y=\"180.1387\">«calculation»</text><text fill=\"#000000\" font-family=\"sans-serif\" font-size=\"12\" lengthAdjust=\"spacingAndGlyphs\" textLength=\"110\" x=\"368.32\" y=\"194.1074\">objectiveFunction</text><line style=\"stroke: #383838; stroke-width: 1.5;\" x1=\"366.32\" x2=\"480.32\" y1=\"201.9375\" y2=\"201.9375\"/></a><!--MD5=[b9389687b975829384b498ac4b7476b2]\n",
       "class E8--><a href=\"psysml:26f566d1-080d-4e4d-ba32-38c38fdc0bde\" target=\"_top\" title=\"psysml:26f566d1-080d-4e4d-ba32-38c38fdc0bde\" xlink:actuate=\"onRequest\" xlink:href=\"psysml:26f566d1-080d-4e4d-ba32-38c38fdc0bde\" xlink:show=\"new\" xlink:title=\"psysml:26f566d1-080d-4e4d-ba32-38c38fdc0bde\" xlink:type=\"simple\"><rect fill=\"#FFFFFF\" height=\"45.9375\" id=\"E8\" rx=\"10\" ry=\"10\" style=\"stroke: #383838; stroke-width: 1.5;\" width=\"124\" x=\"71.32\" y=\"316\"/><text fill=\"#000000\" font-family=\"sans-serif\" font-size=\"12\" font-style=\"italic\" lengthAdjust=\"spacingAndGlyphs\" textLength=\"40\" x=\"113.32\" y=\"332.1387\">«part»</text><text fill=\"#000000\" font-family=\"sans-serif\" font-size=\"12\" lengthAdjust=\"spacingAndGlyphs\" textLength=\"118\" x=\"74.32\" y=\"346.1074\">alternative: Engine</text><line style=\"stroke: #383838; stroke-width: 1.5;\" x1=\"72.32\" x2=\"194.32\" y1=\"353.9375\" y2=\"353.9375\"/></a><!--MD5=[fd4143e9d270a159db93a4ea2a975926]\n",
       "class E9--><a href=\"psysml:7894e875-c3b4-453b-9dc9-b899c04487e6\" target=\"_top\" title=\"psysml:7894e875-c3b4-453b-9dc9-b899c04487e6\" xlink:actuate=\"onRequest\" xlink:href=\"psysml:7894e875-c3b4-453b-9dc9-b899c04487e6\" xlink:show=\"new\" xlink:title=\"psysml:7894e875-c3b4-453b-9dc9-b899c04487e6\" xlink:type=\"simple\"><rect fill=\"#FFFFFF\" height=\"45.9375\" id=\"E9\" rx=\"10\" ry=\"10\" style=\"stroke: #383838; stroke-width: 1.5;\" width=\"178\" x=\"291.32\" y=\"240\"/><text fill=\"#000000\" font-family=\"sans-serif\" font-size=\"12\" font-style=\"italic\" lengthAdjust=\"spacingAndGlyphs\" textLength=\"40\" x=\"360.32\" y=\"256.1387\">«part»</text><text fill=\"#000000\" font-family=\"sans-serif\" font-size=\"12\" lengthAdjust=\"spacingAndGlyphs\" textLength=\"172\" x=\"294.32\" y=\"270.1074\">selectedAlternative: Engine</text><line style=\"stroke: #383838; stroke-width: 1.5;\" x1=\"292.32\" x2=\"468.32\" y1=\"277.9375\" y2=\"277.9375\"/></a><!--MD5=[05d275557350bfb9b23a4ef7222b4c39]\n",
       "link E3 to E2--><a href=\"psysml:8801a447-7348-4a45-a550-3876c92a8627\" target=\"_top\" title=\"psysml:8801a447-7348-4a45-a550-3876c92a8627\" xlink:actuate=\"onRequest\" xlink:href=\"psysml:8801a447-7348-4a45-a550-3876c92a8627\" xlink:show=\"new\" xlink:title=\"psysml:8801a447-7348-4a45-a550-3876c92a8627\" xlink:type=\"simple\"><path d=\"M415.48,362.01 C376.57,379.54 322.27,404.01 282.71,421.84 \" fill=\"none\" id=\"E3-&gt;E2\" style=\"stroke: #383838; stroke-width: 1.0;\"/><polygon fill=\"#FFFFFF\" points=\"264.34,430.12,278.7866,415.9321,284.5383,428.696,264.34,430.12\" style=\"stroke: #383838; stroke-width: 1.0;\"/><ellipse cx=\"284.805\" cy=\"415.4137\" fill=\"#383838\" rx=\"2\" ry=\"2\" style=\"stroke: #383838; stroke-width: 1.0;\"/><ellipse cx=\"288.9134\" cy=\"424.5308\" fill=\"#383838\" rx=\"2\" ry=\"2\" style=\"stroke: #383838; stroke-width: 1.0;\"/></a><!--MD5=[185131fc0dcab0a4505a2ebe144e961b]\n",
       "link E4 to E2--><a href=\"psysml:b9350b5a-5d8f-4ac9-a55f-8ba2d0a1e030\" target=\"_top\" title=\"psysml:b9350b5a-5d8f-4ac9-a55f-8ba2d0a1e030\" xlink:actuate=\"onRequest\" xlink:href=\"psysml:b9350b5a-5d8f-4ac9-a55f-8ba2d0a1e030\" xlink:show=\"new\" xlink:title=\"psysml:b9350b5a-5d8f-4ac9-a55f-8ba2d0a1e030\" xlink:type=\"simple\"><path d=\"M302.45,362.01 C291.25,375.08 276.74,392.01 263.74,407.17 \" fill=\"none\" id=\"E4-&gt;E2\" style=\"stroke: #383838; stroke-width: 1.0;\"/><polygon fill=\"#FFFFFF\" points=\"250.47,422.66,257.5188,403.678,268.1491,412.7883,250.47,422.66\" style=\"stroke: #383838; stroke-width: 1.0;\"/><ellipse cx=\"262.7466\" cy=\"400.6515\" fill=\"#383838\" rx=\"2\" ry=\"2\" style=\"stroke: #383838; stroke-width: 1.0;\"/><ellipse cx=\"270.3396\" cy=\"407.1588\" fill=\"#383838\" rx=\"2\" ry=\"2\" style=\"stroke: #383838; stroke-width: 1.0;\"/></a><!--MD5=[15ebcb19ae302d9b601edb458606d402]\n",
       "link E5 to E2--><a href=\"psysml:ecc21de6-0c62-41d5-be03-95573cca647a\" target=\"_top\" title=\"psysml:ecc21de6-0c62-41d5-be03-95573cca647a\" xlink:actuate=\"onRequest\" xlink:href=\"psysml:ecc21de6-0c62-41d5-be03-95573cca647a\" xlink:show=\"new\" xlink:title=\"psysml:ecc21de6-0c62-41d5-be03-95573cca647a\" xlink:type=\"simple\"><path d=\"M239.76,73.22 C177.99,83.96 102.74,108.45 61.32,164 C8.68,234.61 6,287.72 53.32,362 C83.95,410.08 150.5,430.76 192.99,439.32 \" fill=\"none\" id=\"E5-&gt;E2\" style=\"stroke: #383838; stroke-width: 1.0; stroke-dasharray: 7.0,7.0;\"/><polygon fill=\"#383838\" points=\"198.04,440.31,189.9738,434.6588,193.1327,439.3514,188.4401,442.5104,198.04,440.31\" style=\"stroke: #383838; stroke-width: 1.0;\"/><text fill=\"#000000\" font-family=\"sans-serif\" font-size=\"13\" lengthAdjust=\"spacingAndGlyphs\" textLength=\"62\" x=\"24.32\" y=\"267.5669\">«subject»</text></a><!--MD5=[9120cf2e5df3bff93db8f754bbbc09b4]\n",
       "link E5 to E6--><a href=\"psysml:fcf6c150-3866-4336-9e66-2e65ffb041aa\" target=\"_top\" title=\"psysml:fcf6c150-3866-4336-9e66-2e65ffb041aa\" xlink:actuate=\"onRequest\" xlink:href=\"psysml:fcf6c150-3866-4336-9e66-2e65ffb041aa\" xlink:show=\"new\" xlink:title=\"psysml:fcf6c150-3866-4336-9e66-2e65ffb041aa\" xlink:type=\"simple\"><path d=\"M314.56,87.19 C292.2,107.23 259.21,136.8 235.15,158.37 \" fill=\"none\" id=\"E5-&gt;E6\" style=\"stroke: #383838; stroke-width: 1.0;\"/><polygon fill=\"#383838\" points=\"228.92,163.95,236.8786,160.8419,232.8725,156.3752,228.92,163.95\" style=\"stroke: #383838; stroke-width: 1.0;\"/><text fill=\"#000000\" font-family=\"sans-serif\" font-size=\"13\" lengthAdjust=\"spacingAndGlyphs\" textLength=\"73\" x=\"280.32\" y=\"130.0669\">«objective»</text></a><!--MD5=[452b418e7f8a40397a49b8c0a78acc5b]\n",
       "reverse link E5 to E7--><a href=\"psysml:a988c065-f70c-4bb4-ab6a-fca08357bc4a\" target=\"_top\" title=\"psysml:a988c065-f70c-4bb4-ab6a-fca08357bc4a\" xlink:actuate=\"onRequest\" xlink:href=\"psysml:a988c065-f70c-4bb4-ab6a-fca08357bc4a\" xlink:show=\"new\" xlink:title=\"psysml:a988c065-f70c-4bb4-ab6a-fca08357bc4a\" xlink:type=\"simple\"><path d=\"M362.14,97.88 C376.71,118.86 395.19,145.48 408.01,163.95 \" fill=\"none\" id=\"E5&lt;-E7\" style=\"stroke: #383838; stroke-width: 1.0;\"/><polygon fill=\"#383838\" points=\"354.73,87.19,354.864,94.3999,361.5708,97.0492,361.4368,89.8393,354.73,87.19\" style=\"stroke: #383838; stroke-width: 1.0;\"/></a><!--MD5=[dc164f5e8a733ab456ef1add180e9e34]\n",
       "reverse link E7 to E8--><a href=\"psysml:4295af6e-acd7-489b-9191-c25409e1351b\" target=\"_top\" title=\"psysml:4295af6e-acd7-489b-9191-c25409e1351b\" xlink:actuate=\"onRequest\" xlink:href=\"psysml:4295af6e-acd7-489b-9191-c25409e1351b\" xlink:show=\"new\" xlink:title=\"psysml:4295af6e-acd7-489b-9191-c25409e1351b\" xlink:type=\"simple\"><path d=\"M352.67,208.29 C327.33,216.69 298.96,227.44 274.32,240 C231.96,261.6 187.65,294.33 160.26,315.93 \" fill=\"none\" id=\"E7&lt;-E8\" style=\"stroke: #383838; stroke-width: 1.0;\"/><polygon fill=\"#FFFFFF\" points=\"365.22,204.24,358.2818,202.2749,353.7994,207.9236,360.7376,209.8887,365.22,204.24\" style=\"stroke: #383838; stroke-width: 1.0;\"/><text fill=\"#000000\" font-family=\"sans-serif\" font-size=\"13\" lengthAdjust=\"spacingAndGlyphs\" textLength=\"8\" x=\"158.4251\" y=\"304.8075\">1</text></a><!--MD5=[f1f3f9f2fc535e6147756cb86a7f2e32]\n",
       "link E8 to E2--><a href=\"psysml:aed7fba6-fc0e-4a29-a473-c7d943b57344\" target=\"_top\" title=\"psysml:aed7fba6-fc0e-4a29-a473-c7d943b57344\" xlink:actuate=\"onRequest\" xlink:href=\"psysml:aed7fba6-fc0e-4a29-a473-c7d943b57344\" xlink:show=\"new\" xlink:title=\"psysml:aed7fba6-fc0e-4a29-a473-c7d943b57344\" xlink:type=\"simple\"><path d=\"M153.86,362.01 C166.19,375.22 182.2,392.38 196.46,407.65 \" fill=\"none\" id=\"E8-&gt;E2\" style=\"stroke: #383838; stroke-width: 1.0;\"/><polygon fill=\"#FFFFFF\" points=\"210.47,422.66,192.3921,413.5393,202.6305,403.9907,210.47,422.66\" style=\"stroke: #383838; stroke-width: 1.0;\"/><ellipse cx=\"189.9671\" cy=\"408.0067\" fill=\"#383838\" rx=\"2\" ry=\"2\" style=\"stroke: #383838; stroke-width: 1.0;\"/><ellipse cx=\"197.2802\" cy=\"401.1863\" fill=\"#383838\" rx=\"2\" ry=\"2\" style=\"stroke: #383838; stroke-width: 1.0;\"/></a><!--MD5=[9ae28de373ca99bb8a1b38d63370ca7e]\n",
       "reverse link E5 to E9--><a href=\"psysml:afcc773f-3f6f-47e3-9b17-c2b1fd7bbdc3\" target=\"_top\" title=\"psysml:afcc773f-3f6f-47e3-9b17-c2b1fd7bbdc3\" xlink:actuate=\"onRequest\" xlink:href=\"psysml:afcc773f-3f6f-47e3-9b17-c2b1fd7bbdc3\" xlink:show=\"new\" xlink:title=\"psysml:afcc773f-3f6f-47e3-9b17-c2b1fd7bbdc3\" xlink:type=\"simple\"><path d=\"M416.08,92.77 C447.78,108.48 481.27,131.61 499.32,164 C509.27,181.86 510.51,192.89 499.32,210 C490.86,222.92 478.41,232.65 464.71,239.97 \" fill=\"none\" id=\"E5&lt;-E9\" style=\"stroke: #383838; stroke-width: 1.0;\"/><polygon fill=\"#FFFFFF\" points=\"404.06,87.11,407.7814,93.2867,414.9142,92.2272,411.1928,86.0505,404.06,87.11\" style=\"stroke: #383838; stroke-width: 1.0;\"/><text fill=\"#000000\" font-family=\"sans-serif\" font-size=\"13\" lengthAdjust=\"spacingAndGlyphs\" textLength=\"8\" x=\"477.3099\" y=\"229.2386\">1</text></a><!--MD5=[5c3bb36fe832a92c7f0e1807dd65209d]\n",
       "link E9 to E2--><a href=\"psysml:09d901e9-14a1-4a34-80ae-448f8674b33c\" target=\"_top\" title=\"psysml:09d901e9-14a1-4a34-80ae-448f8674b33c\" xlink:actuate=\"onRequest\" xlink:href=\"psysml:09d901e9-14a1-4a34-80ae-448f8674b33c\" xlink:show=\"new\" xlink:title=\"psysml:09d901e9-14a1-4a34-80ae-448f8674b33c\" xlink:type=\"simple\"><path d=\"M291.19,285.15 C275.57,292.56 260.94,302.55 250.32,316 C231.17,340.25 227.04,375.32 227.36,402.77 \" fill=\"none\" id=\"E9-&gt;E2\" style=\"stroke: #383838; stroke-width: 1.0;\"/><polygon fill=\"#FFFFFF\" points=\"228.36,422.81,220.4186,404.1838,234.4011,403.4837,228.36,422.81\" style=\"stroke: #383838; stroke-width: 1.0;\"/><ellipse cx=\"222.131\" cy=\"398.3909\" fill=\"#383838\" rx=\"2\" ry=\"2\" style=\"stroke: #383838; stroke-width: 1.0;\"/><ellipse cx=\"232.1185\" cy=\"397.8909\" fill=\"#383838\" rx=\"2\" ry=\"2\" style=\"stroke: #383838; stroke-width: 1.0;\"/></a><!--MD5=[0458cf0b139a5fa121ca826646aff2f7]\n",
       "@startuml\r\n",
       "skinparam monochrome true\r\n",
       "skinparam classbackgroundcolor white\r\n",
       "skinparam shadowing false\r\n",
       "skinparam wrapWidth 300\r\n",
       "hide circle\r\n",
       "\r\n",
       "package \"TradeStudyTest\" as E1  [[psysml:0d92d0af-a8c4-487d-a88b-e96d8d162758 ]]  {\r\n",
       "comp def \"Engine\" as E2  <<(T,blue) part def>> [[psysml:90b379af-84e4-4b51-bcba-9b20024a2d1f ]] {\r\n",
       "}\r\n",
       "comp usage \"engine1: Engine\" as E3  <<(T,blue) part>> [[psysml:1fe04244-3a7b-4d3a-93e0-0fd9f61a7cea ]] {\r\n",
       "}\r\n",
       "comp usage \"engine2: Engine\" as E4  <<(T,blue) part>> [[psysml:07207da4-9c20-4091-a953-293a54d08950 ]] {\r\n",
       "}\r\n",
       "comp usage \"engineTradeStudy: TradeStudy\" as E5 << analysis>> [[psysml:c0123459-da5a-4fa7-ba13-511d4e5fcdf0 ]] {\r\n",
       "}\r\n",
       "comp usage \"tradeStudyObjective: MaximizeObjective\" as E6  <<(T,blue) requirement>> [[psysml:d3ca6a29-f1f6-48ae-8677-7ec75b0f5c21 ]] {\r\n",
       "}\r\n",
       "comp usage \"objectiveFunction\" as E7  <<(T,blue) calculation>> [[psysml:f099413c-f817-477f-a757-2c07f6450928 ]] {\r\n",
       "}\r\n",
       "comp usage \"alternative: Engine\" as E8  <<(T,blue) part>> [[psysml:26f566d1-080d-4e4d-ba32-38c38fdc0bde ]] {\r\n",
       "}\r\n",
       "comp usage \"selectedAlternative: Engine\" as E9  <<(T,blue) part>> [[psysml:7894e875-c3b4-453b-9dc9-b899c04487e6 ]] {\r\n",
       "}\r\n",
       "E3 - -:|> E2 [[psysml:8801a447-7348-4a45-a550-3876c92a8627 ]] \r\n",
       "E4 - -:|> E2 [[psysml:b9350b5a-5d8f-4ac9-a55f-8ba2d0a1e030 ]] \r\n",
       "E5 ..> E2 [[psysml:ecc21de6-0c62-41d5-be03-95573cca647a ]] : <<subject>>\r\n",
       "E5 - ->> E6 [[psysml:fcf6c150-3866-4336-9e66-2e65ffb041aa ]] : <<objective>>\r\n",
       "E5 *- - E7 [[psysml:a988c065-f70c-4bb4-ab6a-fca08357bc4a ]] \r\n",
       "E7 o- - \"1\"E8 [[psysml:4295af6e-acd7-489b-9191-c25409e1351b ]] \r\n",
       "E8 - -:|> E2 [[psysml:aed7fba6-fc0e-4a29-a473-c7d943b57344 ]] \r\n",
       "E5 o- - \"1\"E9 [[psysml:afcc773f-3f6f-47e3-9b17-c2b1fd7bbdc3 ]] \r\n",
       "E9 - -:|> E2 [[psysml:09d901e9-14a1-4a34-80ae-448f8674b33c ]] \r\n",
       "}\r\n",
       "@enduml\r\n",
       "\n",
       "PlantUML version 1.2020.13(Sat Jun 13 12:26:38 UTC 2020)\n",
       "(EPL source distribution)\n",
       "Java Runtime: OpenJDK Runtime Environment\n",
       "JVM: OpenJDK 64-Bit Server VM\n",
       "Default Encoding: UTF-8\n",
       "Language: en\n",
       "Country: null\n",
       "--></g></svg>"
      ]
     },
     "execution_count": 43,
     "metadata": {},
     "output_type": "execute_result"
    }
   ],
   "source": [
    "%viz --style=\"DEFAULT\" --view=\"MIXED\" \"TradeStudyTest\""
   ]
  },
  {
   "cell_type": "code",
   "execution_count": 44,
   "id": "8e3ce40c",
   "metadata": {
    "execution": {
     "iopub.execute_input": "2021-08-04T06:27:41.088174Z",
     "iopub.status.busy": "2021-08-04T06:27:41.087777Z",
     "iopub.status.idle": "2021-08-04T06:27:41.122403Z",
     "shell.execute_reply": "2021-08-04T06:27:41.122050Z"
    }
   },
   "outputs": [
    {
     "data": {
      "image/svg+xml": [
       "<?xml version=\"1.0\" encoding=\"UTF-8\" standalone=\"no\"?><svg xmlns=\"http://www.w3.org/2000/svg\" xmlns:xlink=\"http://www.w3.org/1999/xlink\" contentScriptType=\"application/ecmascript\" contentStyleType=\"text/css\" height=\"497px\" preserveAspectRatio=\"none\" style=\"width:556px;height:497px;\" version=\"1.1\" viewBox=\"0 0 556 497\" width=\"556px\" zoomAndPan=\"magnify\"><defs/><g><!--MD5=[fbc87193dbaf4d95561dea2c320d4a47]\n",
       "cluster E1--><a href=\"psysml:0d92d0af-a8c4-487d-a88b-e96d8d162758\" target=\"_top\" title=\"psysml:0d92d0af-a8c4-487d-a88b-e96d8d162758\" xlink:actuate=\"onRequest\" xlink:href=\"psysml:0d92d0af-a8c4-487d-a88b-e96d8d162758\" xlink:show=\"new\" xlink:title=\"psysml:0d92d0af-a8c4-487d-a88b-e96d8d162758\" xlink:type=\"simple\"><polygon fill=\"#FFFFFF\" points=\"18.32,6,150.32,6,157.32,28.2969,534.32,28.2969,534.32,485,18.32,485,18.32,6\" style=\"stroke: #000000; stroke-width: 1.5;\"/><line style=\"stroke: #000000; stroke-width: 1.5;\" x1=\"18.32\" x2=\"157.32\" y1=\"28.2969\" y2=\"28.2969\"/><text fill=\"#000000\" font-family=\"sans-serif\" font-size=\"14\" font-weight=\"bold\" lengthAdjust=\"spacingAndGlyphs\" textLength=\"126\" x=\"22.32\" y=\"20.9951\">TradeStudyTest</text></a><!--MD5=[b4997ac47864f28c2f74865a473b2911]\n",
       "class E2--><a href=\"psysml:90b379af-84e4-4b51-bcba-9b20024a2d1f\" target=\"_top\" title=\"psysml:90b379af-84e4-4b51-bcba-9b20024a2d1f\" xlink:actuate=\"onRequest\" xlink:href=\"psysml:90b379af-84e4-4b51-bcba-9b20024a2d1f\" xlink:show=\"new\" xlink:title=\"psysml:90b379af-84e4-4b51-bcba-9b20024a2d1f\" xlink:type=\"simple\"><rect fill=\"#FFFFFF\" height=\"45.9375\" id=\"E2\" style=\"stroke: #383838; stroke-width: 1.5;\" width=\"66\" x=\"198.32\" y=\"423\"/><text fill=\"#000000\" font-family=\"sans-serif\" font-size=\"12\" font-style=\"italic\" lengthAdjust=\"spacingAndGlyphs\" textLength=\"64\" x=\"199.32\" y=\"439.1387\">«part def»</text><text fill=\"#000000\" font-family=\"sans-serif\" font-size=\"12\" lengthAdjust=\"spacingAndGlyphs\" textLength=\"43\" x=\"209.82\" y=\"453.1074\">Engine</text><line style=\"stroke: #383838; stroke-width: 1.5;\" x1=\"199.32\" x2=\"263.32\" y1=\"460.9375\" y2=\"460.9375\"/></a><!--MD5=[09b614a08d8cba4a07c9adeb5e0fee81]\n",
       "class E3--><a href=\"psysml:1fe04244-3a7b-4d3a-93e0-0fd9f61a7cea\" target=\"_top\" title=\"psysml:1fe04244-3a7b-4d3a-93e0-0fd9f61a7cea\" xlink:actuate=\"onRequest\" xlink:href=\"psysml:1fe04244-3a7b-4d3a-93e0-0fd9f61a7cea\" xlink:show=\"new\" xlink:title=\"psysml:1fe04244-3a7b-4d3a-93e0-0fd9f61a7cea\" xlink:type=\"simple\"><rect fill=\"#FFFFFF\" height=\"45.9375\" id=\"E3\" rx=\"10\" ry=\"10\" style=\"stroke: #383838; stroke-width: 1.5;\" width=\"108\" x=\"410.32\" y=\"316\"/><text fill=\"#000000\" font-family=\"sans-serif\" font-size=\"12\" font-style=\"italic\" lengthAdjust=\"spacingAndGlyphs\" textLength=\"40\" x=\"444.32\" y=\"332.1387\">«part»</text><text fill=\"#000000\" font-family=\"sans-serif\" font-size=\"12\" lengthAdjust=\"spacingAndGlyphs\" textLength=\"102\" x=\"413.32\" y=\"346.1074\">engine1: Engine</text><line style=\"stroke: #383838; stroke-width: 1.5;\" x1=\"411.32\" x2=\"517.32\" y1=\"353.9375\" y2=\"353.9375\"/></a><!--MD5=[ebbe1d658d1005bcc118a6aa81145e00]\n",
       "class E4--><a href=\"psysml:07207da4-9c20-4091-a953-293a54d08950\" target=\"_top\" title=\"psysml:07207da4-9c20-4091-a953-293a54d08950\" xlink:actuate=\"onRequest\" xlink:href=\"psysml:07207da4-9c20-4091-a953-293a54d08950\" xlink:show=\"new\" xlink:title=\"psysml:07207da4-9c20-4091-a953-293a54d08950\" xlink:type=\"simple\"><rect fill=\"#FFFFFF\" height=\"45.9375\" id=\"E4\" rx=\"10\" ry=\"10\" style=\"stroke: #383838; stroke-width: 1.5;\" width=\"108\" x=\"267.32\" y=\"316\"/><text fill=\"#000000\" font-family=\"sans-serif\" font-size=\"12\" font-style=\"italic\" lengthAdjust=\"spacingAndGlyphs\" textLength=\"40\" x=\"301.32\" y=\"332.1387\">«part»</text><text fill=\"#000000\" font-family=\"sans-serif\" font-size=\"12\" lengthAdjust=\"spacingAndGlyphs\" textLength=\"102\" x=\"270.32\" y=\"346.1074\">engine2: Engine</text><line style=\"stroke: #383838; stroke-width: 1.5;\" x1=\"268.32\" x2=\"374.32\" y1=\"353.9375\" y2=\"353.9375\"/></a><!--MD5=[270fce915f116d4de14055a7c1d9a0f3]\n",
       "class E5--><a href=\"psysml:c0123459-da5a-4fa7-ba13-511d4e5fcdf0\" target=\"_top\" title=\"psysml:c0123459-da5a-4fa7-ba13-511d4e5fcdf0\" xlink:actuate=\"onRequest\" xlink:href=\"psysml:c0123459-da5a-4fa7-ba13-511d4e5fcdf0\" xlink:show=\"new\" xlink:title=\"psysml:c0123459-da5a-4fa7-ba13-511d4e5fcdf0\" xlink:type=\"simple\"><rect fill=\"#FFFFFF\" height=\"45.9375\" id=\"E5\" rx=\"10\" ry=\"10\" style=\"stroke: #383838; stroke-width: 1.5;\" width=\"199\" x=\"239.82\" y=\"41\"/><text fill=\"#000000\" font-family=\"sans-serif\" font-size=\"12\" font-style=\"italic\" lengthAdjust=\"spacingAndGlyphs\" textLength=\"64\" x=\"307.32\" y=\"57.1387\">«analysis»</text><text fill=\"#000000\" font-family=\"sans-serif\" font-size=\"12\" lengthAdjust=\"spacingAndGlyphs\" textLength=\"193\" x=\"242.82\" y=\"71.1074\">engineTradeStudy: TradeStudy</text><line style=\"stroke: #383838; stroke-width: 1.5;\" x1=\"240.82\" x2=\"437.82\" y1=\"78.9375\" y2=\"78.9375\"/></a><!--MD5=[60a26617385b1d2d0262a64233df1f8d]\n",
       "class E6--><a href=\"psysml:d3ca6a29-f1f6-48ae-8677-7ec75b0f5c21\" target=\"_top\" title=\"psysml:d3ca6a29-f1f6-48ae-8677-7ec75b0f5c21\" xlink:actuate=\"onRequest\" xlink:href=\"psysml:d3ca6a29-f1f6-48ae-8677-7ec75b0f5c21\" xlink:show=\"new\" xlink:title=\"psysml:d3ca6a29-f1f6-48ae-8677-7ec75b0f5c21\" xlink:type=\"simple\"><rect fill=\"#FFFFFF\" height=\"45.9375\" id=\"E6\" rx=\"10\" ry=\"10\" style=\"stroke: #383838; stroke-width: 1.5;\" width=\"251\" x=\"78.82\" y=\"164\"/><text fill=\"#000000\" font-family=\"sans-serif\" font-size=\"12\" font-style=\"italic\" lengthAdjust=\"spacingAndGlyphs\" textLength=\"91\" x=\"158.82\" y=\"180.1387\">«requirement»</text><text fill=\"#000000\" font-family=\"sans-serif\" font-size=\"12\" lengthAdjust=\"spacingAndGlyphs\" textLength=\"245\" x=\"81.82\" y=\"194.1074\">tradeStudyObjective: MaximizeObjective</text><line style=\"stroke: #383838; stroke-width: 1.5;\" x1=\"79.82\" x2=\"328.82\" y1=\"201.9375\" y2=\"201.9375\"/></a><!--MD5=[2156ba9850f5573cc1fc38a6a4b2f02b]\n",
       "class E7--><a href=\"psysml:f099413c-f817-477f-a757-2c07f6450928\" target=\"_top\" title=\"psysml:f099413c-f817-477f-a757-2c07f6450928\" xlink:actuate=\"onRequest\" xlink:href=\"psysml:f099413c-f817-477f-a757-2c07f6450928\" xlink:show=\"new\" xlink:title=\"psysml:f099413c-f817-477f-a757-2c07f6450928\" xlink:type=\"simple\"><rect fill=\"#FFFFFF\" height=\"45.9375\" id=\"E7\" rx=\"10\" ry=\"10\" style=\"stroke: #383838; stroke-width: 1.5;\" width=\"116\" x=\"365.32\" y=\"164\"/><text fill=\"#000000\" font-family=\"sans-serif\" font-size=\"12\" font-style=\"italic\" lengthAdjust=\"spacingAndGlyphs\" textLength=\"82\" x=\"382.32\" y=\"180.1387\">«calculation»</text><text fill=\"#000000\" font-family=\"sans-serif\" font-size=\"12\" lengthAdjust=\"spacingAndGlyphs\" textLength=\"110\" x=\"368.32\" y=\"194.1074\">objectiveFunction</text><line style=\"stroke: #383838; stroke-width: 1.5;\" x1=\"366.32\" x2=\"480.32\" y1=\"201.9375\" y2=\"201.9375\"/></a><!--MD5=[b9389687b975829384b498ac4b7476b2]\n",
       "class E8--><a href=\"psysml:26f566d1-080d-4e4d-ba32-38c38fdc0bde\" target=\"_top\" title=\"psysml:26f566d1-080d-4e4d-ba32-38c38fdc0bde\" xlink:actuate=\"onRequest\" xlink:href=\"psysml:26f566d1-080d-4e4d-ba32-38c38fdc0bde\" xlink:show=\"new\" xlink:title=\"psysml:26f566d1-080d-4e4d-ba32-38c38fdc0bde\" xlink:type=\"simple\"><rect fill=\"#FFFFFF\" height=\"45.9375\" id=\"E8\" rx=\"10\" ry=\"10\" style=\"stroke: #383838; stroke-width: 1.5;\" width=\"124\" x=\"71.32\" y=\"316\"/><text fill=\"#000000\" font-family=\"sans-serif\" font-size=\"12\" font-style=\"italic\" lengthAdjust=\"spacingAndGlyphs\" textLength=\"40\" x=\"113.32\" y=\"332.1387\">«part»</text><text fill=\"#000000\" font-family=\"sans-serif\" font-size=\"12\" lengthAdjust=\"spacingAndGlyphs\" textLength=\"118\" x=\"74.32\" y=\"346.1074\">alternative: Engine</text><line style=\"stroke: #383838; stroke-width: 1.5;\" x1=\"72.32\" x2=\"194.32\" y1=\"353.9375\" y2=\"353.9375\"/></a><!--MD5=[fd4143e9d270a159db93a4ea2a975926]\n",
       "class E9--><a href=\"psysml:7894e875-c3b4-453b-9dc9-b899c04487e6\" target=\"_top\" title=\"psysml:7894e875-c3b4-453b-9dc9-b899c04487e6\" xlink:actuate=\"onRequest\" xlink:href=\"psysml:7894e875-c3b4-453b-9dc9-b899c04487e6\" xlink:show=\"new\" xlink:title=\"psysml:7894e875-c3b4-453b-9dc9-b899c04487e6\" xlink:type=\"simple\"><rect fill=\"#FFFFFF\" height=\"45.9375\" id=\"E9\" rx=\"10\" ry=\"10\" style=\"stroke: #383838; stroke-width: 1.5;\" width=\"178\" x=\"291.32\" y=\"240\"/><text fill=\"#000000\" font-family=\"sans-serif\" font-size=\"12\" font-style=\"italic\" lengthAdjust=\"spacingAndGlyphs\" textLength=\"40\" x=\"360.32\" y=\"256.1387\">«part»</text><text fill=\"#000000\" font-family=\"sans-serif\" font-size=\"12\" lengthAdjust=\"spacingAndGlyphs\" textLength=\"172\" x=\"294.32\" y=\"270.1074\">selectedAlternative: Engine</text><line style=\"stroke: #383838; stroke-width: 1.5;\" x1=\"292.32\" x2=\"468.32\" y1=\"277.9375\" y2=\"277.9375\"/></a><!--MD5=[05d275557350bfb9b23a4ef7222b4c39]\n",
       "link E3 to E2--><a href=\"psysml:8801a447-7348-4a45-a550-3876c92a8627\" target=\"_top\" title=\"psysml:8801a447-7348-4a45-a550-3876c92a8627\" xlink:actuate=\"onRequest\" xlink:href=\"psysml:8801a447-7348-4a45-a550-3876c92a8627\" xlink:show=\"new\" xlink:title=\"psysml:8801a447-7348-4a45-a550-3876c92a8627\" xlink:type=\"simple\"><path d=\"M415.48,362.01 C376.57,379.54 322.27,404.01 282.71,421.84 \" fill=\"none\" id=\"E3-&gt;E2\" style=\"stroke: #383838; stroke-width: 1.0;\"/><polygon fill=\"#FFFFFF\" points=\"264.34,430.12,278.7866,415.9321,284.5383,428.696,264.34,430.12\" style=\"stroke: #383838; stroke-width: 1.0;\"/><ellipse cx=\"284.805\" cy=\"415.4137\" fill=\"#383838\" rx=\"2\" ry=\"2\" style=\"stroke: #383838; stroke-width: 1.0;\"/><ellipse cx=\"288.9134\" cy=\"424.5308\" fill=\"#383838\" rx=\"2\" ry=\"2\" style=\"stroke: #383838; stroke-width: 1.0;\"/></a><!--MD5=[185131fc0dcab0a4505a2ebe144e961b]\n",
       "link E4 to E2--><a href=\"psysml:b9350b5a-5d8f-4ac9-a55f-8ba2d0a1e030\" target=\"_top\" title=\"psysml:b9350b5a-5d8f-4ac9-a55f-8ba2d0a1e030\" xlink:actuate=\"onRequest\" xlink:href=\"psysml:b9350b5a-5d8f-4ac9-a55f-8ba2d0a1e030\" xlink:show=\"new\" xlink:title=\"psysml:b9350b5a-5d8f-4ac9-a55f-8ba2d0a1e030\" xlink:type=\"simple\"><path d=\"M302.45,362.01 C291.25,375.08 276.74,392.01 263.74,407.17 \" fill=\"none\" id=\"E4-&gt;E2\" style=\"stroke: #383838; stroke-width: 1.0;\"/><polygon fill=\"#FFFFFF\" points=\"250.47,422.66,257.5188,403.678,268.1491,412.7883,250.47,422.66\" style=\"stroke: #383838; stroke-width: 1.0;\"/><ellipse cx=\"262.7466\" cy=\"400.6515\" fill=\"#383838\" rx=\"2\" ry=\"2\" style=\"stroke: #383838; stroke-width: 1.0;\"/><ellipse cx=\"270.3396\" cy=\"407.1588\" fill=\"#383838\" rx=\"2\" ry=\"2\" style=\"stroke: #383838; stroke-width: 1.0;\"/></a><!--MD5=[15ebcb19ae302d9b601edb458606d402]\n",
       "link E5 to E2--><a href=\"psysml:ecc21de6-0c62-41d5-be03-95573cca647a\" target=\"_top\" title=\"psysml:ecc21de6-0c62-41d5-be03-95573cca647a\" xlink:actuate=\"onRequest\" xlink:href=\"psysml:ecc21de6-0c62-41d5-be03-95573cca647a\" xlink:show=\"new\" xlink:title=\"psysml:ecc21de6-0c62-41d5-be03-95573cca647a\" xlink:type=\"simple\"><path d=\"M239.76,73.22 C177.99,83.96 102.74,108.45 61.32,164 C8.68,234.61 6,287.72 53.32,362 C83.95,410.08 150.5,430.76 192.99,439.32 \" fill=\"none\" id=\"E5-&gt;E2\" style=\"stroke: #383838; stroke-width: 1.0; stroke-dasharray: 7.0,7.0;\"/><polygon fill=\"#383838\" points=\"198.04,440.31,189.9738,434.6588,193.1327,439.3514,188.4401,442.5104,198.04,440.31\" style=\"stroke: #383838; stroke-width: 1.0;\"/><text fill=\"#000000\" font-family=\"sans-serif\" font-size=\"13\" lengthAdjust=\"spacingAndGlyphs\" textLength=\"62\" x=\"24.32\" y=\"267.5669\">«subject»</text></a><!--MD5=[9120cf2e5df3bff93db8f754bbbc09b4]\n",
       "link E5 to E6--><a href=\"psysml:fcf6c150-3866-4336-9e66-2e65ffb041aa\" target=\"_top\" title=\"psysml:fcf6c150-3866-4336-9e66-2e65ffb041aa\" xlink:actuate=\"onRequest\" xlink:href=\"psysml:fcf6c150-3866-4336-9e66-2e65ffb041aa\" xlink:show=\"new\" xlink:title=\"psysml:fcf6c150-3866-4336-9e66-2e65ffb041aa\" xlink:type=\"simple\"><path d=\"M314.56,87.19 C292.2,107.23 259.21,136.8 235.15,158.37 \" fill=\"none\" id=\"E5-&gt;E6\" style=\"stroke: #383838; stroke-width: 1.0;\"/><polygon fill=\"#383838\" points=\"228.92,163.95,236.8786,160.8419,232.8725,156.3752,228.92,163.95\" style=\"stroke: #383838; stroke-width: 1.0;\"/><text fill=\"#000000\" font-family=\"sans-serif\" font-size=\"13\" lengthAdjust=\"spacingAndGlyphs\" textLength=\"73\" x=\"280.32\" y=\"130.0669\">«objective»</text></a><!--MD5=[452b418e7f8a40397a49b8c0a78acc5b]\n",
       "reverse link E5 to E7--><a href=\"psysml:a988c065-f70c-4bb4-ab6a-fca08357bc4a\" target=\"_top\" title=\"psysml:a988c065-f70c-4bb4-ab6a-fca08357bc4a\" xlink:actuate=\"onRequest\" xlink:href=\"psysml:a988c065-f70c-4bb4-ab6a-fca08357bc4a\" xlink:show=\"new\" xlink:title=\"psysml:a988c065-f70c-4bb4-ab6a-fca08357bc4a\" xlink:type=\"simple\"><path d=\"M362.14,97.88 C376.71,118.86 395.19,145.48 408.01,163.95 \" fill=\"none\" id=\"E5&lt;-E7\" style=\"stroke: #383838; stroke-width: 1.0;\"/><polygon fill=\"#383838\" points=\"354.73,87.19,354.864,94.3999,361.5708,97.0492,361.4368,89.8393,354.73,87.19\" style=\"stroke: #383838; stroke-width: 1.0;\"/></a><!--MD5=[dc164f5e8a733ab456ef1add180e9e34]\n",
       "reverse link E7 to E8--><a href=\"psysml:4295af6e-acd7-489b-9191-c25409e1351b\" target=\"_top\" title=\"psysml:4295af6e-acd7-489b-9191-c25409e1351b\" xlink:actuate=\"onRequest\" xlink:href=\"psysml:4295af6e-acd7-489b-9191-c25409e1351b\" xlink:show=\"new\" xlink:title=\"psysml:4295af6e-acd7-489b-9191-c25409e1351b\" xlink:type=\"simple\"><path d=\"M352.67,208.29 C327.33,216.69 298.96,227.44 274.32,240 C231.96,261.6 187.65,294.33 160.26,315.93 \" fill=\"none\" id=\"E7&lt;-E8\" style=\"stroke: #383838; stroke-width: 1.0;\"/><polygon fill=\"#FFFFFF\" points=\"365.22,204.24,358.2818,202.2749,353.7994,207.9236,360.7376,209.8887,365.22,204.24\" style=\"stroke: #383838; stroke-width: 1.0;\"/><text fill=\"#000000\" font-family=\"sans-serif\" font-size=\"13\" lengthAdjust=\"spacingAndGlyphs\" textLength=\"8\" x=\"158.4251\" y=\"304.8075\">1</text></a><!--MD5=[f1f3f9f2fc535e6147756cb86a7f2e32]\n",
       "link E8 to E2--><a href=\"psysml:aed7fba6-fc0e-4a29-a473-c7d943b57344\" target=\"_top\" title=\"psysml:aed7fba6-fc0e-4a29-a473-c7d943b57344\" xlink:actuate=\"onRequest\" xlink:href=\"psysml:aed7fba6-fc0e-4a29-a473-c7d943b57344\" xlink:show=\"new\" xlink:title=\"psysml:aed7fba6-fc0e-4a29-a473-c7d943b57344\" xlink:type=\"simple\"><path d=\"M153.86,362.01 C166.19,375.22 182.2,392.38 196.46,407.65 \" fill=\"none\" id=\"E8-&gt;E2\" style=\"stroke: #383838; stroke-width: 1.0;\"/><polygon fill=\"#FFFFFF\" points=\"210.47,422.66,192.3921,413.5393,202.6305,403.9907,210.47,422.66\" style=\"stroke: #383838; stroke-width: 1.0;\"/><ellipse cx=\"189.9671\" cy=\"408.0067\" fill=\"#383838\" rx=\"2\" ry=\"2\" style=\"stroke: #383838; stroke-width: 1.0;\"/><ellipse cx=\"197.2802\" cy=\"401.1863\" fill=\"#383838\" rx=\"2\" ry=\"2\" style=\"stroke: #383838; stroke-width: 1.0;\"/></a><!--MD5=[9ae28de373ca99bb8a1b38d63370ca7e]\n",
       "reverse link E5 to E9--><a href=\"psysml:afcc773f-3f6f-47e3-9b17-c2b1fd7bbdc3\" target=\"_top\" title=\"psysml:afcc773f-3f6f-47e3-9b17-c2b1fd7bbdc3\" xlink:actuate=\"onRequest\" xlink:href=\"psysml:afcc773f-3f6f-47e3-9b17-c2b1fd7bbdc3\" xlink:show=\"new\" xlink:title=\"psysml:afcc773f-3f6f-47e3-9b17-c2b1fd7bbdc3\" xlink:type=\"simple\"><path d=\"M416.08,92.77 C447.78,108.48 481.27,131.61 499.32,164 C509.27,181.86 510.51,192.89 499.32,210 C490.86,222.92 478.41,232.65 464.71,239.97 \" fill=\"none\" id=\"E5&lt;-E9\" style=\"stroke: #383838; stroke-width: 1.0;\"/><polygon fill=\"#FFFFFF\" points=\"404.06,87.11,407.7814,93.2867,414.9142,92.2272,411.1928,86.0505,404.06,87.11\" style=\"stroke: #383838; stroke-width: 1.0;\"/><text fill=\"#000000\" font-family=\"sans-serif\" font-size=\"13\" lengthAdjust=\"spacingAndGlyphs\" textLength=\"8\" x=\"477.3099\" y=\"229.2386\">1</text></a><!--MD5=[5c3bb36fe832a92c7f0e1807dd65209d]\n",
       "link E9 to E2--><a href=\"psysml:09d901e9-14a1-4a34-80ae-448f8674b33c\" target=\"_top\" title=\"psysml:09d901e9-14a1-4a34-80ae-448f8674b33c\" xlink:actuate=\"onRequest\" xlink:href=\"psysml:09d901e9-14a1-4a34-80ae-448f8674b33c\" xlink:show=\"new\" xlink:title=\"psysml:09d901e9-14a1-4a34-80ae-448f8674b33c\" xlink:type=\"simple\"><path d=\"M291.19,285.15 C275.57,292.56 260.94,302.55 250.32,316 C231.17,340.25 227.04,375.32 227.36,402.77 \" fill=\"none\" id=\"E9-&gt;E2\" style=\"stroke: #383838; stroke-width: 1.0;\"/><polygon fill=\"#FFFFFF\" points=\"228.36,422.81,220.4186,404.1838,234.4011,403.4837,228.36,422.81\" style=\"stroke: #383838; stroke-width: 1.0;\"/><ellipse cx=\"222.131\" cy=\"398.3909\" fill=\"#383838\" rx=\"2\" ry=\"2\" style=\"stroke: #383838; stroke-width: 1.0;\"/><ellipse cx=\"232.1185\" cy=\"397.8909\" fill=\"#383838\" rx=\"2\" ry=\"2\" style=\"stroke: #383838; stroke-width: 1.0;\"/></a><!--MD5=[744322b34aa2831c05ca3545fd98ee21]\n",
       "@startuml\r\n",
       "top to bottom direction\r\n",
       "skinparam monochrome true\r\n",
       "skinparam classbackgroundcolor white\r\n",
       "skinparam shadowing false\r\n",
       "skinparam wrapWidth 300\r\n",
       "hide circle\r\n",
       "\r\n",
       "package \"TradeStudyTest\" as E1  [[psysml:0d92d0af-a8c4-487d-a88b-e96d8d162758 ]]  {\r\n",
       "comp def \"Engine\" as E2  <<(T,blue) part def>> [[psysml:90b379af-84e4-4b51-bcba-9b20024a2d1f ]] {\r\n",
       "}\r\n",
       "comp usage \"engine1: Engine\" as E3  <<(T,blue) part>> [[psysml:1fe04244-3a7b-4d3a-93e0-0fd9f61a7cea ]] {\r\n",
       "}\r\n",
       "comp usage \"engine2: Engine\" as E4  <<(T,blue) part>> [[psysml:07207da4-9c20-4091-a953-293a54d08950 ]] {\r\n",
       "}\r\n",
       "comp usage \"engineTradeStudy: TradeStudy\" as E5 << analysis>> [[psysml:c0123459-da5a-4fa7-ba13-511d4e5fcdf0 ]] {\r\n",
       "}\r\n",
       "comp usage \"tradeStudyObjective: MaximizeObjective\" as E6  <<(T,blue) requirement>> [[psysml:d3ca6a29-f1f6-48ae-8677-7ec75b0f5c21 ]] {\r\n",
       "}\r\n",
       "comp usage \"objectiveFunction\" as E7  <<(T,blue) calculation>> [[psysml:f099413c-f817-477f-a757-2c07f6450928 ]] {\r\n",
       "}\r\n",
       "comp usage \"alternative: Engine\" as E8  <<(T,blue) part>> [[psysml:26f566d1-080d-4e4d-ba32-38c38fdc0bde ]] {\r\n",
       "}\r\n",
       "comp usage \"selectedAlternative: Engine\" as E9  <<(T,blue) part>> [[psysml:7894e875-c3b4-453b-9dc9-b899c04487e6 ]] {\r\n",
       "}\r\n",
       "E3 - -:|> E2 [[psysml:8801a447-7348-4a45-a550-3876c92a8627 ]] \r\n",
       "E4 - -:|> E2 [[psysml:b9350b5a-5d8f-4ac9-a55f-8ba2d0a1e030 ]] \r\n",
       "E5 ..> E2 [[psysml:ecc21de6-0c62-41d5-be03-95573cca647a ]] : <<subject>>\r\n",
       "E5 - ->> E6 [[psysml:fcf6c150-3866-4336-9e66-2e65ffb041aa ]] : <<objective>>\r\n",
       "E5 *- - E7 [[psysml:a988c065-f70c-4bb4-ab6a-fca08357bc4a ]] \r\n",
       "E7 o- - \"1\"E8 [[psysml:4295af6e-acd7-489b-9191-c25409e1351b ]] \r\n",
       "E8 - -:|> E2 [[psysml:aed7fba6-fc0e-4a29-a473-c7d943b57344 ]] \r\n",
       "E5 o- - \"1\"E9 [[psysml:afcc773f-3f6f-47e3-9b17-c2b1fd7bbdc3 ]] \r\n",
       "E9 - -:|> E2 [[psysml:09d901e9-14a1-4a34-80ae-448f8674b33c ]] \r\n",
       "}\r\n",
       "@enduml\r\n",
       "\n",
       "PlantUML version 1.2020.13(Sat Jun 13 12:26:38 UTC 2020)\n",
       "(EPL source distribution)\n",
       "Java Runtime: OpenJDK Runtime Environment\n",
       "JVM: OpenJDK 64-Bit Server VM\n",
       "Default Encoding: UTF-8\n",
       "Language: en\n",
       "Country: null\n",
       "--></g></svg>"
      ]
     },
     "execution_count": 44,
     "metadata": {},
     "output_type": "execute_result"
    }
   ],
   "source": [
    "%viz --style=\"TB\" --view=\"Default\" \"TradeStudyTest\""
   ]
  },
  {
   "cell_type": "code",
   "execution_count": 45,
   "id": "f31e1a97",
   "metadata": {
    "execution": {
     "iopub.execute_input": "2021-08-04T06:27:41.172246Z",
     "iopub.status.busy": "2021-08-04T06:27:41.171789Z",
     "iopub.status.idle": "2021-08-04T06:27:41.202171Z",
     "shell.execute_reply": "2021-08-04T06:27:41.200766Z"
    }
   },
   "outputs": [
    {
     "data": {
      "image/svg+xml": [
       "<?xml version=\"1.0\" encoding=\"UTF-8\" standalone=\"no\"?><svg xmlns=\"http://www.w3.org/2000/svg\" xmlns:xlink=\"http://www.w3.org/1999/xlink\" contentScriptType=\"application/ecmascript\" contentStyleType=\"text/css\" height=\"345px\" preserveAspectRatio=\"none\" style=\"width:955px;height:345px;\" version=\"1.1\" viewBox=\"0 0 955 345\" width=\"955px\" zoomAndPan=\"magnify\"><defs/><g><!--MD5=[fbc87193dbaf4d95561dea2c320d4a47]\n",
       "cluster E1--><a href=\"psysml:0d92d0af-a8c4-487d-a88b-e96d8d162758\" target=\"_top\" title=\"psysml:0d92d0af-a8c4-487d-a88b-e96d8d162758\" xlink:actuate=\"onRequest\" xlink:href=\"psysml:0d92d0af-a8c4-487d-a88b-e96d8d162758\" xlink:show=\"new\" xlink:title=\"psysml:0d92d0af-a8c4-487d-a88b-e96d8d162758\" xlink:type=\"simple\"><polygon fill=\"#FFFFFF\" points=\"16,6,148,6,155,28.2969,933,28.2969,933,333,16,333,16,6\" style=\"stroke: #000000; stroke-width: 1.5;\"/><line style=\"stroke: #000000; stroke-width: 1.5;\" x1=\"16\" x2=\"155\" y1=\"28.2969\" y2=\"28.2969\"/><text fill=\"#000000\" font-family=\"sans-serif\" font-size=\"14\" font-weight=\"bold\" lengthAdjust=\"spacingAndGlyphs\" textLength=\"126\" x=\"20\" y=\"20.9951\">TradeStudyTest</text></a><!--MD5=[b4997ac47864f28c2f74865a473b2911]\n",
       "class E2--><a href=\"psysml:90b379af-84e4-4b51-bcba-9b20024a2d1f\" target=\"_top\" title=\"psysml:90b379af-84e4-4b51-bcba-9b20024a2d1f\" xlink:actuate=\"onRequest\" xlink:href=\"psysml:90b379af-84e4-4b51-bcba-9b20024a2d1f\" xlink:show=\"new\" xlink:title=\"psysml:90b379af-84e4-4b51-bcba-9b20024a2d1f\" xlink:type=\"simple\"><rect fill=\"#FFFFFF\" height=\"45.9375\" id=\"E2\" style=\"stroke: #383838; stroke-width: 1.5;\" width=\"66\" x=\"598\" y=\"271\"/><text fill=\"#000000\" font-family=\"sans-serif\" font-size=\"12\" font-style=\"italic\" lengthAdjust=\"spacingAndGlyphs\" textLength=\"64\" x=\"599\" y=\"287.1387\">«part def»</text><text fill=\"#000000\" font-family=\"sans-serif\" font-size=\"12\" lengthAdjust=\"spacingAndGlyphs\" textLength=\"43\" x=\"609.5\" y=\"301.1074\">Engine</text><line style=\"stroke: #383838; stroke-width: 1.5;\" x1=\"599\" x2=\"663\" y1=\"308.9375\" y2=\"308.9375\"/></a><!--MD5=[09b614a08d8cba4a07c9adeb5e0fee81]\n",
       "class E3--><a href=\"psysml:1fe04244-3a7b-4d3a-93e0-0fd9f61a7cea\" target=\"_top\" title=\"psysml:1fe04244-3a7b-4d3a-93e0-0fd9f61a7cea\" xlink:actuate=\"onRequest\" xlink:href=\"psysml:1fe04244-3a7b-4d3a-93e0-0fd9f61a7cea\" xlink:show=\"new\" xlink:title=\"psysml:1fe04244-3a7b-4d3a-93e0-0fd9f61a7cea\" xlink:type=\"simple\"><rect fill=\"#FFFFFF\" height=\"45.9375\" id=\"E3\" rx=\"10\" ry=\"10\" style=\"stroke: #383838; stroke-width: 1.5;\" width=\"108\" x=\"809\" y=\"164\"/><text fill=\"#000000\" font-family=\"sans-serif\" font-size=\"12\" font-style=\"italic\" lengthAdjust=\"spacingAndGlyphs\" textLength=\"40\" x=\"843\" y=\"180.1387\">«part»</text><text fill=\"#000000\" font-family=\"sans-serif\" font-size=\"12\" lengthAdjust=\"spacingAndGlyphs\" textLength=\"102\" x=\"812\" y=\"194.1074\">engine1: Engine</text><line style=\"stroke: #383838; stroke-width: 1.5;\" x1=\"810\" x2=\"916\" y1=\"201.9375\" y2=\"201.9375\"/></a><!--MD5=[ebbe1d658d1005bcc118a6aa81145e00]\n",
       "class E4--><a href=\"psysml:07207da4-9c20-4091-a953-293a54d08950\" target=\"_top\" title=\"psysml:07207da4-9c20-4091-a953-293a54d08950\" xlink:actuate=\"onRequest\" xlink:href=\"psysml:07207da4-9c20-4091-a953-293a54d08950\" xlink:show=\"new\" xlink:title=\"psysml:07207da4-9c20-4091-a953-293a54d08950\" xlink:type=\"simple\"><rect fill=\"#FFFFFF\" height=\"45.9375\" id=\"E4\" rx=\"10\" ry=\"10\" style=\"stroke: #383838; stroke-width: 1.5;\" width=\"108\" x=\"666\" y=\"164\"/><text fill=\"#000000\" font-family=\"sans-serif\" font-size=\"12\" font-style=\"italic\" lengthAdjust=\"spacingAndGlyphs\" textLength=\"40\" x=\"700\" y=\"180.1387\">«part»</text><text fill=\"#000000\" font-family=\"sans-serif\" font-size=\"12\" lengthAdjust=\"spacingAndGlyphs\" textLength=\"102\" x=\"669\" y=\"194.1074\">engine2: Engine</text><line style=\"stroke: #383838; stroke-width: 1.5;\" x1=\"667\" x2=\"773\" y1=\"201.9375\" y2=\"201.9375\"/></a><!--MD5=[270fce915f116d4de14055a7c1d9a0f3]\n",
       "class E5--><a href=\"psysml:c0123459-da5a-4fa7-ba13-511d4e5fcdf0\" target=\"_top\" title=\"psysml:c0123459-da5a-4fa7-ba13-511d4e5fcdf0\" xlink:actuate=\"onRequest\" xlink:href=\"psysml:c0123459-da5a-4fa7-ba13-511d4e5fcdf0\" xlink:show=\"new\" xlink:title=\"psysml:c0123459-da5a-4fa7-ba13-511d4e5fcdf0\" xlink:type=\"simple\"><rect fill=\"#FFFFFF\" height=\"45.9375\" id=\"E5\" rx=\"10\" ry=\"10\" style=\"stroke: #383838; stroke-width: 1.5;\" width=\"199\" x=\"192.5\" y=\"41\"/><text fill=\"#000000\" font-family=\"sans-serif\" font-size=\"12\" font-style=\"italic\" lengthAdjust=\"spacingAndGlyphs\" textLength=\"64\" x=\"260\" y=\"57.1387\">«analysis»</text><text fill=\"#000000\" font-family=\"sans-serif\" font-size=\"12\" lengthAdjust=\"spacingAndGlyphs\" textLength=\"193\" x=\"195.5\" y=\"71.1074\">engineTradeStudy: TradeStudy</text><line style=\"stroke: #383838; stroke-width: 1.5;\" x1=\"193.5\" x2=\"390.5\" y1=\"78.9375\" y2=\"78.9375\"/></a><!--MD5=[60a26617385b1d2d0262a64233df1f8d]\n",
       "class E6--><a href=\"psysml:d3ca6a29-f1f6-48ae-8677-7ec75b0f5c21\" target=\"_top\" title=\"psysml:d3ca6a29-f1f6-48ae-8677-7ec75b0f5c21\" xlink:actuate=\"onRequest\" xlink:href=\"psysml:d3ca6a29-f1f6-48ae-8677-7ec75b0f5c21\" xlink:show=\"new\" xlink:title=\"psysml:d3ca6a29-f1f6-48ae-8677-7ec75b0f5c21\" xlink:type=\"simple\"><rect fill=\"#FFFFFF\" height=\"45.9375\" id=\"E6\" rx=\"10\" ry=\"10\" style=\"stroke: #383838; stroke-width: 1.5;\" width=\"251\" x=\"166.5\" y=\"164\"/><text fill=\"#000000\" font-family=\"sans-serif\" font-size=\"12\" font-style=\"italic\" lengthAdjust=\"spacingAndGlyphs\" textLength=\"91\" x=\"246.5\" y=\"180.1387\">«requirement»</text><text fill=\"#000000\" font-family=\"sans-serif\" font-size=\"12\" lengthAdjust=\"spacingAndGlyphs\" textLength=\"245\" x=\"169.5\" y=\"194.1074\">tradeStudyObjective: MaximizeObjective</text><line style=\"stroke: #383838; stroke-width: 1.5;\" x1=\"167.5\" x2=\"416.5\" y1=\"201.9375\" y2=\"201.9375\"/></a><!--MD5=[2156ba9850f5573cc1fc38a6a4b2f02b]\n",
       "class E7--><a href=\"psysml:7894e875-c3b4-453b-9dc9-b899c04487e6\" target=\"_top\" title=\"psysml:7894e875-c3b4-453b-9dc9-b899c04487e6\" xlink:actuate=\"onRequest\" xlink:href=\"psysml:7894e875-c3b4-453b-9dc9-b899c04487e6\" xlink:show=\"new\" xlink:title=\"psysml:7894e875-c3b4-453b-9dc9-b899c04487e6\" xlink:type=\"simple\"><rect fill=\"#FFFFFF\" height=\"45.9375\" id=\"E7\" rx=\"10\" ry=\"10\" style=\"stroke: #383838; stroke-width: 1.5;\" width=\"178\" x=\"453\" y=\"164\"/><text fill=\"#000000\" font-family=\"sans-serif\" font-size=\"12\" font-style=\"italic\" lengthAdjust=\"spacingAndGlyphs\" textLength=\"40\" x=\"522\" y=\"180.1387\">«part»</text><text fill=\"#000000\" font-family=\"sans-serif\" font-size=\"12\" lengthAdjust=\"spacingAndGlyphs\" textLength=\"172\" x=\"456\" y=\"194.1074\">selectedAlternative: Engine</text><line style=\"stroke: #383838; stroke-width: 1.5;\" x1=\"454\" x2=\"630\" y1=\"201.9375\" y2=\"201.9375\"/></a><!--MD5=[05d275557350bfb9b23a4ef7222b4c39]\n",
       "link E3 to E2--><a href=\"psysml:8801a447-7348-4a45-a550-3876c92a8627\" target=\"_top\" title=\"psysml:8801a447-7348-4a45-a550-3876c92a8627\" xlink:actuate=\"onRequest\" xlink:href=\"psysml:8801a447-7348-4a45-a550-3876c92a8627\" xlink:show=\"new\" xlink:title=\"psysml:8801a447-7348-4a45-a550-3876c92a8627\" xlink:type=\"simple\"><path d=\"M814.37,210.01 C775.74,227.49 721.88,251.87 682.52,269.68 \" fill=\"none\" id=\"E3-&gt;E2\" style=\"stroke: #383838; stroke-width: 1.0;\"/><polygon fill=\"#FFFFFF\" points=\"664.23,277.96,678.6446,263.7397,684.4251,276.4906,664.23,277.96\" style=\"stroke: #383838; stroke-width: 1.0;\"/><ellipse cx=\"684.6619\" cy=\"263.2078\" fill=\"#383838\" rx=\"2\" ry=\"2\" style=\"stroke: #383838; stroke-width: 1.0;\"/><ellipse cx=\"688.7908\" cy=\"272.3156\" fill=\"#383838\" rx=\"2\" ry=\"2\" style=\"stroke: #383838; stroke-width: 1.0;\"/></a><!--MD5=[185131fc0dcab0a4505a2ebe144e961b]\n",
       "link E4 to E2--><a href=\"psysml:b9350b5a-5d8f-4ac9-a55f-8ba2d0a1e030\" target=\"_top\" title=\"psysml:b9350b5a-5d8f-4ac9-a55f-8ba2d0a1e030\" xlink:actuate=\"onRequest\" xlink:href=\"psysml:b9350b5a-5d8f-4ac9-a55f-8ba2d0a1e030\" xlink:show=\"new\" xlink:title=\"psysml:b9350b5a-5d8f-4ac9-a55f-8ba2d0a1e030\" xlink:type=\"simple\"><path d=\"M701.34,210.01 C690.26,223.08 675.91,240.01 663.06,255.17 \" fill=\"none\" id=\"E4-&gt;E2\" style=\"stroke: #383838; stroke-width: 1.0;\"/><polygon fill=\"#FFFFFF\" points=\"649.94,270.66,656.8931,251.6428,667.5691,260.6994,649.94,270.66\" style=\"stroke: #383838; stroke-width: 1.0;\"/><ellipse cx=\"662.1056\" cy=\"248.5899\" fill=\"#383838\" rx=\"2\" ry=\"2\" style=\"stroke: #383838; stroke-width: 1.0;\"/><ellipse cx=\"669.7313\" cy=\"255.059\" fill=\"#383838\" rx=\"2\" ry=\"2\" style=\"stroke: #383838; stroke-width: 1.0;\"/></a><!--MD5=[15ebcb19ae302d9b601edb458606d402]\n",
       "link E5 to E2--><a href=\"psysml:ecc21de6-0c62-41d5-be03-95573cca647a\" target=\"_top\" title=\"psysml:ecc21de6-0c62-41d5-be03-95573cca647a\" xlink:actuate=\"onRequest\" xlink:href=\"psysml:ecc21de6-0c62-41d5-be03-95573cca647a\" xlink:show=\"new\" xlink:title=\"psysml:ecc21de6-0c62-41d5-be03-95573cca647a\" xlink:type=\"simple\"><path d=\"M211.44,87.03 C135.05,111.81 38.38,155.76 85,210 C150.98,286.77 479.56,293.36 592.67,293.32 \" fill=\"none\" id=\"E5-&gt;E2\" style=\"stroke: #383838; stroke-width: 1.0; stroke-dasharray: 7.0,7.0;\"/><polygon fill=\"#383838\" points=\"597.89,293.31,588.89,289.31,592.89,293.31,588.89,297.31,597.89,293.31\" style=\"stroke: #383838; stroke-width: 1.0;\"/><text fill=\"#000000\" font-family=\"sans-serif\" font-size=\"13\" lengthAdjust=\"spacingAndGlyphs\" textLength=\"62\" x=\"86\" y=\"191.5669\">«subject»</text></a><!--MD5=[9120cf2e5df3bff93db8f754bbbc09b4]\n",
       "link E5 to E6--><a href=\"psysml:fcf6c150-3866-4336-9e66-2e65ffb041aa\" target=\"_top\" title=\"psysml:fcf6c150-3866-4336-9e66-2e65ffb041aa\" xlink:actuate=\"onRequest\" xlink:href=\"psysml:fcf6c150-3866-4336-9e66-2e65ffb041aa\" xlink:show=\"new\" xlink:title=\"psysml:fcf6c150-3866-4336-9e66-2e65ffb041aa\" xlink:type=\"simple\"><path d=\"M292,87.19 C292,106.47 292,134.55 292,155.86 \" fill=\"none\" id=\"E5-&gt;E6\" style=\"stroke: #383838; stroke-width: 1.0;\"/><polygon fill=\"#383838\" points=\"292,163.95,295,155.95,289,155.95,292,163.95\" style=\"stroke: #383838; stroke-width: 1.0;\"/><text fill=\"#000000\" font-family=\"sans-serif\" font-size=\"13\" lengthAdjust=\"spacingAndGlyphs\" textLength=\"73\" x=\"293\" y=\"130.0669\">«objective»</text></a><!--MD5=[452b418e7f8a40397a49b8c0a78acc5b]\n",
       "reverse link E5 to E7--><a href=\"psysml:afcc773f-3f6f-47e3-9b17-c2b1fd7bbdc3\" target=\"_top\" title=\"psysml:afcc773f-3f6f-47e3-9b17-c2b1fd7bbdc3\" xlink:actuate=\"onRequest\" xlink:href=\"psysml:afcc773f-3f6f-47e3-9b17-c2b1fd7bbdc3\" xlink:show=\"new\" xlink:title=\"psysml:afcc773f-3f6f-47e3-9b17-c2b1fd7bbdc3\" xlink:type=\"simple\"><path d=\"M349.39,92.78 C393.99,114.36 455.01,143.9 496.33,163.89 \" fill=\"none\" id=\"E5&lt;-E7\" style=\"stroke: #383838; stroke-width: 1.0;\"/><polygon fill=\"#FFFFFF\" points=\"337.56,87.05,341.2143,93.2666,348.3582,92.2843,344.7039,86.0677,337.56,87.05\" style=\"stroke: #383838; stroke-width: 1.0;\"/><text fill=\"#000000\" font-family=\"sans-serif\" font-size=\"13\" lengthAdjust=\"spacingAndGlyphs\" textLength=\"8\" x=\"474.9812\" y=\"152.7567\">1</text></a><!--MD5=[583832df87f4419a098336a29a52fa00]\n",
       "link E7 to E2--><a href=\"psysml:09d901e9-14a1-4a34-80ae-448f8674b33c\" target=\"_top\" title=\"psysml:09d901e9-14a1-4a34-80ae-448f8674b33c\" xlink:actuate=\"onRequest\" xlink:href=\"psysml:09d901e9-14a1-4a34-80ae-448f8674b33c\" xlink:show=\"new\" xlink:title=\"psysml:09d901e9-14a1-4a34-80ae-448f8674b33c\" xlink:type=\"simple\"><path d=\"M560.66,210.01 C571.74,223.08 586.09,240.01 598.94,255.17 \" fill=\"none\" id=\"E7-&gt;E2\" style=\"stroke: #383838; stroke-width: 1.0;\"/><polygon fill=\"#FFFFFF\" points=\"612.06,270.66,594.4309,260.6994,605.1069,251.6428,612.06,270.66\" style=\"stroke: #383838; stroke-width: 1.0;\"/><ellipse cx=\"592.2687\" cy=\"255.059\" fill=\"#383838\" rx=\"2\" ry=\"2\" style=\"stroke: #383838; stroke-width: 1.0;\"/><ellipse cx=\"599.8944\" cy=\"248.5899\" fill=\"#383838\" rx=\"2\" ry=\"2\" style=\"stroke: #383838; stroke-width: 1.0;\"/></a><!--MD5=[5b21c8fd91dcbae2960c5c38d8df4fde]\n",
       "@startuml\r\n",
       "top to bottom direction\r\n",
       "skinparam monochrome true\r\n",
       "skinparam classbackgroundcolor white\r\n",
       "skinparam shadowing false\r\n",
       "skinparam wrapWidth 300\r\n",
       "hide circle\r\n",
       "\r\n",
       "package \"TradeStudyTest\" as E1  [[psysml:0d92d0af-a8c4-487d-a88b-e96d8d162758 ]]  {\r\n",
       "comp def \"Engine\" as E2  <<(T,blue) part def>> [[psysml:90b379af-84e4-4b51-bcba-9b20024a2d1f ]] {\r\n",
       "}\r\n",
       "comp usage \"engine1: Engine\" as E3  <<(T,blue) part>> [[psysml:1fe04244-3a7b-4d3a-93e0-0fd9f61a7cea ]] {\r\n",
       "}\r\n",
       "comp usage \"engine2: Engine\" as E4  <<(T,blue) part>> [[psysml:07207da4-9c20-4091-a953-293a54d08950 ]] {\r\n",
       "}\r\n",
       "comp usage \"engineTradeStudy: TradeStudy\" as E5 << analysis>> [[psysml:c0123459-da5a-4fa7-ba13-511d4e5fcdf0 ]] {\r\n",
       "}\r\n",
       "comp usage \"tradeStudyObjective: MaximizeObjective\" as E6  <<(T,blue) requirement>> [[psysml:d3ca6a29-f1f6-48ae-8677-7ec75b0f5c21 ]] {\r\n",
       "}\r\n",
       "comp usage \"selectedAlternative: Engine\" as E7  <<(T,blue) part>> [[psysml:7894e875-c3b4-453b-9dc9-b899c04487e6 ]] {\r\n",
       "}\r\n",
       "E3 - -:|> E2 [[psysml:8801a447-7348-4a45-a550-3876c92a8627 ]] \r\n",
       "E4 - -:|> E2 [[psysml:b9350b5a-5d8f-4ac9-a55f-8ba2d0a1e030 ]] \r\n",
       "E5 ..> E2 [[psysml:ecc21de6-0c62-41d5-be03-95573cca647a ]] : <<subject>>\r\n",
       "E5 - ->> E6 [[psysml:fcf6c150-3866-4336-9e66-2e65ffb041aa ]] : <<objective>>\r\n",
       "E5 o- - \"1\"E7 [[psysml:afcc773f-3f6f-47e3-9b17-c2b1fd7bbdc3 ]] \r\n",
       "E7 - -:|> E2 [[psysml:09d901e9-14a1-4a34-80ae-448f8674b33c ]] \r\n",
       "}\r\n",
       "@enduml\r\n",
       "\n",
       "PlantUML version 1.2020.13(Sat Jun 13 12:26:38 UTC 2020)\n",
       "(EPL source distribution)\n",
       "Java Runtime: OpenJDK Runtime Environment\n",
       "JVM: OpenJDK 64-Bit Server VM\n",
       "Default Encoding: UTF-8\n",
       "Language: en\n",
       "Country: null\n",
       "--></g></svg>"
      ]
     },
     "execution_count": 45,
     "metadata": {},
     "output_type": "execute_result"
    }
   ],
   "source": [
    "%viz --style=\"TB\" --view=\"Tree\" \"TradeStudyTest\""
   ]
  },
  {
   "cell_type": "code",
   "execution_count": 46,
   "id": "357e8ec7",
   "metadata": {
    "execution": {
     "iopub.execute_input": "2021-08-04T06:27:41.251383Z",
     "iopub.status.busy": "2021-08-04T06:27:41.250981Z",
     "iopub.status.idle": "2021-08-04T06:27:41.254794Z",
     "shell.execute_reply": "2021-08-04T06:27:41.254472Z"
    }
   },
   "outputs": [
    {
     "data": {
      "image/svg+xml": [
       "<?xml version=\"1.0\" encoding=\"UTF-8\" standalone=\"no\"?><svg xmlns=\"http://www.w3.org/2000/svg\" xmlns:xlink=\"http://www.w3.org/1999/xlink\" contentScriptType=\"application/ecmascript\" contentStyleType=\"text/css\" height=\"12px\" preserveAspectRatio=\"none\" style=\"width:12px;height:12px;\" version=\"1.1\" viewBox=\"0 0 12 12\" width=\"12px\" zoomAndPan=\"magnify\"><defs/><g><!--MD5=[f4ee21bc66e489b5061b7c3e9601fdef]\n",
       "@startuml\r\n",
       "top to bottom direction\r\n",
       "skinparam monochrome true\r\n",
       "skinparam classbackgroundcolor white\r\n",
       "skinparam shadowing false\r\n",
       "skinparam wrapWidth 300\r\n",
       "hide circle\r\n",
       "\r\n",
       "@enduml\r\n",
       "\n",
       "PlantUML version 1.2020.13(Sat Jun 13 12:26:38 UTC 2020)\n",
       "(EPL source distribution)\n",
       "Java Runtime: OpenJDK Runtime Environment\n",
       "JVM: OpenJDK 64-Bit Server VM\n",
       "Default Encoding: UTF-8\n",
       "Language: en\n",
       "Country: null\n",
       "--></g></svg>"
      ]
     },
     "execution_count": 46,
     "metadata": {},
     "output_type": "execute_result"
    }
   ],
   "source": [
    "%viz --style=\"TB\" --view=\"State\" \"TradeStudyTest\""
   ]
  },
  {
   "cell_type": "code",
   "execution_count": 47,
   "id": "123e7744",
   "metadata": {
    "execution": {
     "iopub.execute_input": "2021-08-04T06:27:41.304829Z",
     "iopub.status.busy": "2021-08-04T06:27:41.304419Z",
     "iopub.status.idle": "2021-08-04T06:27:41.336279Z",
     "shell.execute_reply": "2021-08-04T06:27:41.335942Z"
    }
   },
   "outputs": [
    {
     "data": {
      "image/svg+xml": [
       "<?xml version=\"1.0\" encoding=\"UTF-8\" standalone=\"no\"?><svg xmlns=\"http://www.w3.org/2000/svg\" xmlns:xlink=\"http://www.w3.org/1999/xlink\" contentScriptType=\"application/ecmascript\" contentStyleType=\"text/css\" height=\"334px\" preserveAspectRatio=\"none\" style=\"width:566px;height:334px;\" version=\"1.1\" viewBox=\"0 0 566 334\" width=\"566px\" zoomAndPan=\"magnify\"><defs/><g><!--MD5=[fbc87193dbaf4d95561dea2c320d4a47]\n",
       "cluster E1--><a href=\"psysml:0d92d0af-a8c4-487d-a88b-e96d8d162758\" target=\"_top\" title=\"psysml:0d92d0af-a8c4-487d-a88b-e96d8d162758\" xlink:actuate=\"onRequest\" xlink:href=\"psysml:0d92d0af-a8c4-487d-a88b-e96d8d162758\" xlink:show=\"new\" xlink:title=\"psysml:0d92d0af-a8c4-487d-a88b-e96d8d162758\" xlink:type=\"simple\"><polygon fill=\"#FFFFFF\" points=\"16,6,148,6,155,28.2969,544,28.2969,544,322,16,322,16,6\" style=\"stroke: #000000; stroke-width: 1.5;\"/><line style=\"stroke: #000000; stroke-width: 1.5;\" x1=\"16\" x2=\"155\" y1=\"28.2969\" y2=\"28.2969\"/><text fill=\"#000000\" font-family=\"sans-serif\" font-size=\"14\" font-weight=\"bold\" lengthAdjust=\"spacingAndGlyphs\" textLength=\"126\" x=\"20\" y=\"20.9951\">TradeStudyTest</text></a><!--MD5=[270fce915f116d4de14055a7c1d9a0f3]\n",
       "class E5--><a href=\"psysml:c0123459-da5a-4fa7-ba13-511d4e5fcdf0\" target=\"_top\" title=\"psysml:c0123459-da5a-4fa7-ba13-511d4e5fcdf0\" xlink:actuate=\"onRequest\" xlink:href=\"psysml:c0123459-da5a-4fa7-ba13-511d4e5fcdf0\" xlink:show=\"new\" xlink:title=\"psysml:c0123459-da5a-4fa7-ba13-511d4e5fcdf0\" xlink:type=\"simple\"><rect fill=\"#FFFFFF\" height=\"45.9375\" id=\"E5\" rx=\"10\" ry=\"10\" style=\"stroke: #383838; stroke-width: 1.5;\" width=\"199\" x=\"328.5\" y=\"41\"/><text fill=\"#000000\" font-family=\"sans-serif\" font-size=\"12\" font-style=\"italic\" lengthAdjust=\"spacingAndGlyphs\" textLength=\"64\" x=\"396\" y=\"57.1387\">«analysis»</text><text fill=\"#000000\" font-family=\"sans-serif\" font-size=\"12\" lengthAdjust=\"spacingAndGlyphs\" textLength=\"193\" x=\"331.5\" y=\"71.1074\">engineTradeStudy: TradeStudy</text><line style=\"stroke: #383838; stroke-width: 1.5;\" x1=\"329.5\" x2=\"526.5\" y1=\"78.9375\" y2=\"78.9375\"/></a><!--MD5=[60a26617385b1d2d0262a64233df1f8d]\n",
       "class E6--><a href=\"psysml:d3ca6a29-f1f6-48ae-8677-7ec75b0f5c21\" target=\"_top\" title=\"psysml:d3ca6a29-f1f6-48ae-8677-7ec75b0f5c21\" xlink:actuate=\"onRequest\" xlink:href=\"psysml:d3ca6a29-f1f6-48ae-8677-7ec75b0f5c21\" xlink:show=\"new\" xlink:title=\"psysml:d3ca6a29-f1f6-48ae-8677-7ec75b0f5c21\" xlink:type=\"simple\"><rect fill=\"#FFFFFF\" height=\"45.9375\" id=\"E6\" rx=\"10\" ry=\"10\" style=\"stroke: #383838; stroke-width: 1.5;\" width=\"251\" x=\"32.5\" y=\"120\"/><text fill=\"#000000\" font-family=\"sans-serif\" font-size=\"12\" font-style=\"italic\" lengthAdjust=\"spacingAndGlyphs\" textLength=\"91\" x=\"112.5\" y=\"136.1387\">«requirement»</text><text fill=\"#000000\" font-family=\"sans-serif\" font-size=\"12\" lengthAdjust=\"spacingAndGlyphs\" textLength=\"245\" x=\"35.5\" y=\"150.1074\">tradeStudyObjective: MaximizeObjective</text><line style=\"stroke: #383838; stroke-width: 1.5;\" x1=\"33.5\" x2=\"282.5\" y1=\"157.9375\" y2=\"157.9375\"/></a><!--MD5=[2156ba9850f5573cc1fc38a6a4b2f02b]\n",
       "class E7--><a href=\"psysml:f099413c-f817-477f-a757-2c07f6450928\" target=\"_top\" title=\"psysml:f099413c-f817-477f-a757-2c07f6450928\" xlink:actuate=\"onRequest\" xlink:href=\"psysml:f099413c-f817-477f-a757-2c07f6450928\" xlink:show=\"new\" xlink:title=\"psysml:f099413c-f817-477f-a757-2c07f6450928\" xlink:type=\"simple\"><rect fill=\"#FFFFFF\" height=\"45.9375\" id=\"E7\" rx=\"10\" ry=\"10\" style=\"stroke: #383838; stroke-width: 1.5;\" width=\"116\" x=\"319\" y=\"120\"/><text fill=\"#000000\" font-family=\"sans-serif\" font-size=\"12\" font-style=\"italic\" lengthAdjust=\"spacingAndGlyphs\" textLength=\"82\" x=\"336\" y=\"136.1387\">«calculation»</text><text fill=\"#000000\" font-family=\"sans-serif\" font-size=\"12\" lengthAdjust=\"spacingAndGlyphs\" textLength=\"110\" x=\"322\" y=\"150.1074\">objectiveFunction</text><line style=\"stroke: #383838; stroke-width: 1.5;\" x1=\"320\" x2=\"434\" y1=\"157.9375\" y2=\"157.9375\"/></a><!--MD5=[b9389687b975829384b498ac4b7476b2]\n",
       "class E8--><a href=\"psysml:26f566d1-080d-4e4d-ba32-38c38fdc0bde\" target=\"_top\" title=\"psysml:26f566d1-080d-4e4d-ba32-38c38fdc0bde\" xlink:actuate=\"onRequest\" xlink:href=\"psysml:26f566d1-080d-4e4d-ba32-38c38fdc0bde\" xlink:show=\"new\" xlink:title=\"psysml:26f566d1-080d-4e4d-ba32-38c38fdc0bde\" xlink:type=\"simple\"><rect fill=\"#FFFFFF\" height=\"31.9688\" id=\"E8\" rx=\"10\" ry=\"10\" style=\"stroke: #383838; stroke-width: 1.5;\" width=\"124\" x=\"178\" y=\"214\"/><text fill=\"#000000\" font-family=\"sans-serif\" font-size=\"12\" lengthAdjust=\"spacingAndGlyphs\" textLength=\"118\" x=\"181\" y=\"230.1387\">alternative: Engine</text><line style=\"stroke: #383838; stroke-width: 1.5;\" x1=\"179\" x2=\"301\" y1=\"237.9688\" y2=\"237.9688\"/></a><!--MD5=[fd4143e9d270a159db93a4ea2a975926]\n",
       "class E9--><a href=\"psysml:7894e875-c3b4-453b-9dc9-b899c04487e6\" target=\"_top\" title=\"psysml:7894e875-c3b4-453b-9dc9-b899c04487e6\" xlink:actuate=\"onRequest\" xlink:href=\"psysml:7894e875-c3b4-453b-9dc9-b899c04487e6\" xlink:show=\"new\" xlink:title=\"psysml:7894e875-c3b4-453b-9dc9-b899c04487e6\" xlink:type=\"simple\"><rect fill=\"#FFFFFF\" height=\"31.9688\" id=\"E9\" rx=\"10\" ry=\"10\" style=\"stroke: #383838; stroke-width: 1.5;\" width=\"178\" x=\"246\" y=\"174\"/><text fill=\"#000000\" font-family=\"sans-serif\" font-size=\"12\" lengthAdjust=\"spacingAndGlyphs\" textLength=\"172\" x=\"249\" y=\"190.1387\">selectedAlternative: Engine</text><line style=\"stroke: #383838; stroke-width: 1.5;\" x1=\"247\" x2=\"423\" y1=\"197.9688\" y2=\"197.9688\"/></a><g id=\"E1.E2\"><a href=\"psysml:90b379af-84e4-4b51-bcba-9b20024a2d1f\" target=\"_top\" title=\"psysml:90b379af-84e4-4b51-bcba-9b20024a2d1f\" xlink:actuate=\"onRequest\" xlink:href=\"psysml:90b379af-84e4-4b51-bcba-9b20024a2d1f\" xlink:show=\"new\" xlink:title=\"psysml:90b379af-84e4-4b51-bcba-9b20024a2d1f\" xlink:type=\"simple\"><rect fill=\"#FFFFFF\" height=\"42.9375\" id=\"E2\" style=\"stroke: #383838; stroke-width: 1.5;\" width=\"71\" x=\"302.5\" y=\"263\"/><rect fill=\"#F8F8F8\" height=\"37.9375\" style=\"stroke: #383838; stroke-width: 1.5;\" width=\"71\" x=\"302.5\" y=\"263\"/><text fill=\"#000000\" font-family=\"sans-serif\" font-size=\"12\" font-style=\"italic\" lengthAdjust=\"spacingAndGlyphs\" textLength=\"64\" x=\"306\" y=\"279.1387\">«part def»</text><text fill=\"#000000\" font-family=\"sans-serif\" font-size=\"12\" lengthAdjust=\"spacingAndGlyphs\" textLength=\"43\" x=\"316.5\" y=\"293.1074\">Engine</text></a></g><g id=\"E1.E3\"><a href=\"psysml:1fe04244-3a7b-4d3a-93e0-0fd9f61a7cea\" target=\"_top\" title=\"psysml:1fe04244-3a7b-4d3a-93e0-0fd9f61a7cea\" xlink:actuate=\"onRequest\" xlink:href=\"psysml:1fe04244-3a7b-4d3a-93e0-0fd9f61a7cea\" xlink:show=\"new\" xlink:title=\"psysml:1fe04244-3a7b-4d3a-93e0-0fd9f61a7cea\" xlink:type=\"simple\"><rect fill=\"#FFFFFF\" height=\"40\" id=\"E3\" rx=\"10\" ry=\"10\" style=\"stroke: #383838; stroke-width: 1.5;\" width=\"113\" x=\"180.5\" y=\"44\"/><rect fill=\"#F8F8F8\" height=\"23.9688\" rx=\"10\" ry=\"10\" style=\"stroke: #F8F8F8; stroke-width: 1.5;\" width=\"113\" x=\"180.5\" y=\"44\"/><rect fill=\"#F8F8F8\" height=\"10\" style=\"stroke: #F8F8F8; stroke-width: 1.5;\" width=\"113\" x=\"180.5\" y=\"57.9688\"/><rect fill=\"none\" height=\"40\" id=\"E3\" rx=\"10\" ry=\"10\" style=\"stroke: #383838; stroke-width: 1.5;\" width=\"113\" x=\"180.5\" y=\"44\"/><text fill=\"#000000\" font-family=\"sans-serif\" font-size=\"12\" lengthAdjust=\"spacingAndGlyphs\" textLength=\"102\" x=\"186\" y=\"60.1387\">engine1: Engine</text></a></g><g id=\"E1.E4\"><a href=\"psysml:07207da4-9c20-4091-a953-293a54d08950\" target=\"_top\" title=\"psysml:07207da4-9c20-4091-a953-293a54d08950\" xlink:actuate=\"onRequest\" xlink:href=\"psysml:07207da4-9c20-4091-a953-293a54d08950\" xlink:show=\"new\" xlink:title=\"psysml:07207da4-9c20-4091-a953-293a54d08950\" xlink:type=\"simple\"><rect fill=\"#FFFFFF\" height=\"40\" id=\"E4\" rx=\"10\" ry=\"10\" style=\"stroke: #383838; stroke-width: 1.5;\" width=\"113\" x=\"32.5\" y=\"44\"/><rect fill=\"#F8F8F8\" height=\"23.9688\" rx=\"10\" ry=\"10\" style=\"stroke: #F8F8F8; stroke-width: 1.5;\" width=\"113\" x=\"32.5\" y=\"44\"/><rect fill=\"#F8F8F8\" height=\"10\" style=\"stroke: #F8F8F8; stroke-width: 1.5;\" width=\"113\" x=\"32.5\" y=\"57.9688\"/><rect fill=\"none\" height=\"40\" id=\"E4\" rx=\"10\" ry=\"10\" style=\"stroke: #383838; stroke-width: 1.5;\" width=\"113\" x=\"32.5\" y=\"44\"/><text fill=\"#000000\" font-family=\"sans-serif\" font-size=\"12\" lengthAdjust=\"spacingAndGlyphs\" textLength=\"102\" x=\"38\" y=\"60.1387\">engine2: Engine</text></a></g><!--MD5=[15ebcb19ae302d9b601edb458606d402]\n",
       "link E5 to E2--><a href=\"psysml:ecc21de6-0c62-41d5-be03-95573cca647a\" target=\"_top\" title=\"psysml:ecc21de6-0c62-41d5-be03-95573cca647a\" xlink:actuate=\"onRequest\" xlink:href=\"psysml:ecc21de6-0c62-41d5-be03-95573cca647a\" xlink:show=\"new\" xlink:title=\"psysml:ecc21de6-0c62-41d5-be03-95573cca647a\" xlink:type=\"simple\"><path d=\"M454.33,87.05 C456.45,89.57 458.39,92.23 460,95 C475.92,122.38 478.3,136.82 466,166 C448.69,207.07 408.73,239.87 378.03,260.26 \" fill=\"none\" id=\"E5-&gt;E2\" style=\"stroke: #383838; stroke-width: 1.0; stroke-dasharray: 7.0,7.0;\"/><polygon fill=\"#383838\" points=\"373.57,263.18,383.2939,261.6161,377.7586,260.4495,378.9251,254.9143,373.57,263.18\" style=\"stroke: #383838; stroke-width: 1.0;\"/><text fill=\"#000000\" font-family=\"sans-serif\" font-size=\"13\" lengthAdjust=\"spacingAndGlyphs\" textLength=\"62\" x=\"463\" y=\"194.5669\">«subject»</text></a><!--MD5=[9120cf2e5df3bff93db8f754bbbc09b4]\n",
       "link E5 to E6--><a href=\"psysml:fcf6c150-3866-4336-9e66-2e65ffb041aa\" target=\"_top\" title=\"psysml:fcf6c150-3866-4336-9e66-2e65ffb041aa\" xlink:actuate=\"onRequest\" xlink:href=\"psysml:fcf6c150-3866-4336-9e66-2e65ffb041aa\" xlink:show=\"new\" xlink:title=\"psysml:fcf6c150-3866-4336-9e66-2e65ffb041aa\" xlink:type=\"simple\"><path d=\"M342.94,87.03 C333.16,89.67 323.36,92.36 314,95 C288.94,102.07 261.74,110.13 237.17,117.56 \" fill=\"none\" id=\"E5-&gt;E6\" style=\"stroke: #383838; stroke-width: 1.0;\"/><polygon fill=\"#383838\" points=\"229.29,119.94,237.8158,120.4972,236.0799,114.7538,229.29,119.94\" style=\"stroke: #383838; stroke-width: 1.0;\"/><text fill=\"#000000\" font-family=\"sans-serif\" font-size=\"13\" lengthAdjust=\"spacingAndGlyphs\" textLength=\"73\" x=\"315\" y=\"108.0669\">«objective»</text></a><!--MD5=[452b418e7f8a40397a49b8c0a78acc5b]\n",
       "reverse link E5 to E7--><a href=\"psysml:a988c065-f70c-4bb4-ab6a-fca08357bc4a\" target=\"_top\" title=\"psysml:a988c065-f70c-4bb4-ab6a-fca08357bc4a\" xlink:actuate=\"onRequest\" xlink:href=\"psysml:a988c065-f70c-4bb4-ab6a-fca08357bc4a\" xlink:show=\"new\" xlink:title=\"psysml:a988c065-f70c-4bb4-ab6a-fca08357bc4a\" xlink:type=\"simple\"><path d=\"M405.93,98.32 C401.13,105.57 396.16,113.08 391.72,119.78 \" fill=\"none\" id=\"E5&lt;-E7\" style=\"stroke: #383838; stroke-width: 1.0;\"/><polygon fill=\"#383838\" points=\"413.25,87.27,406.6021,90.0638,406.6241,97.2749,413.272,94.4811,413.25,87.27\" style=\"stroke: #383838; stroke-width: 1.0;\"/></a><!--MD5=[dc164f5e8a733ab456ef1add180e9e34]\n",
       "reverse link E7 to E8--><a href=\"psysml:4295af6e-acd7-489b-9191-c25409e1351b\" target=\"_top\" title=\"psysml:4295af6e-acd7-489b-9191-c25409e1351b\" xlink:actuate=\"onRequest\" xlink:href=\"psysml:4295af6e-acd7-489b-9191-c25409e1351b\" xlink:show=\"new\" xlink:title=\"psysml:4295af6e-acd7-489b-9191-c25409e1351b\" xlink:type=\"simple\"><path d=\"M305.92,164.91 C304.26,165.29 302.62,165.65 301,166 C288.71,168.64 253.66,164.89 245,174 C235.09,184.43 235.08,201.52 236.77,213.88 \" fill=\"none\" id=\"E7&lt;-E8\" style=\"stroke: #383838; stroke-width: 1.0;\"/><polygon fill=\"#FFFFFF\" points=\"318.71,161.77,311.9314,159.3102,307.0537,164.6214,313.8323,167.0811,318.71,161.77\" style=\"stroke: #383838; stroke-width: 1.0;\"/><text fill=\"#000000\" font-family=\"sans-serif\" font-size=\"13\" lengthAdjust=\"spacingAndGlyphs\" textLength=\"8\" x=\"226.2847\" y=\"202.8557\">1</text></a><!--MD5=[f1f3f9f2fc535e6147756cb86a7f2e32]\n",
       "link E8 to E2--><a href=\"psysml:aed7fba6-fc0e-4a29-a473-c7d943b57344\" target=\"_top\" title=\"psysml:aed7fba6-fc0e-4a29-a473-c7d943b57344\" xlink:actuate=\"onRequest\" xlink:href=\"psysml:aed7fba6-fc0e-4a29-a473-c7d943b57344\" xlink:show=\"new\" xlink:title=\"psysml:aed7fba6-fc0e-4a29-a473-c7d943b57344\" xlink:type=\"simple\"><path d=\"M268.08,246.04 C273.23,248.8 278.76,251.77 284.38,254.77 \" fill=\"none\" id=\"E8-&gt;E2\" style=\"stroke: #383838; stroke-width: 1.0;\"/><polygon fill=\"#FFFFFF\" points=\"302.21,264.33,282.1553,261.5358,288.7616,249.1926,302.21,264.33\" style=\"stroke: #383838; stroke-width: 1.0;\"/><ellipse cx=\"278.0736\" cy=\"257.0828\" fill=\"#383838\" rx=\"2\" ry=\"2\" style=\"stroke: #383838; stroke-width: 1.0;\"/><ellipse cx=\"282.7924\" cy=\"248.2661\" fill=\"#383838\" rx=\"2\" ry=\"2\" style=\"stroke: #383838; stroke-width: 1.0;\"/></a><!--MD5=[9ae28de373ca99bb8a1b38d63370ca7e]\n",
       "reverse link E5 to E9--><a href=\"psysml:afcc773f-3f6f-47e3-9b17-c2b1fd7bbdc3\" target=\"_top\" title=\"psysml:afcc773f-3f6f-47e3-9b17-c2b1fd7bbdc3\" xlink:actuate=\"onRequest\" xlink:href=\"psysml:afcc773f-3f6f-47e3-9b17-c2b1fd7bbdc3\" xlink:show=\"new\" xlink:title=\"psysml:afcc773f-3f6f-47e3-9b17-c2b1fd7bbdc3\" xlink:type=\"simple\"><path d=\"M449.82,98.65 C460.68,120.03 468.53,147.15 453,166 C451.62,167.67 438.74,170.68 421.94,173.98 \" fill=\"none\" id=\"E5&lt;-E9\" style=\"stroke: #383838; stroke-width: 1.0;\"/><polygon fill=\"#FFFFFF\" points=\"443.41,87.13,442.8257,94.3174,449.2355,97.6211,449.8198,90.4337,443.41,87.13\" style=\"stroke: #383838; stroke-width: 1.0;\"/><text fill=\"#000000\" font-family=\"sans-serif\" font-size=\"13\" lengthAdjust=\"spacingAndGlyphs\" textLength=\"8\" x=\"431.8866\" y=\"185.124\">1</text></a><!--MD5=[5c3bb36fe832a92c7f0e1807dd65209d]\n",
       "link E9 to E2--><a href=\"psysml:09d901e9-14a1-4a34-80ae-448f8674b33c\" target=\"_top\" title=\"psysml:09d901e9-14a1-4a34-80ae-448f8674b33c\" xlink:actuate=\"onRequest\" xlink:href=\"psysml:09d901e9-14a1-4a34-80ae-448f8674b33c\" xlink:show=\"new\" xlink:title=\"psysml:09d901e9-14a1-4a34-80ae-448f8674b33c\" xlink:type=\"simple\"><path d=\"M335.5,206.27 C335.82,216.14 336.25,229.48 336.66,242.29 \" fill=\"none\" id=\"E9-&gt;E2\" style=\"stroke: #383838; stroke-width: 1.0;\"/><polygon fill=\"#FFFFFF\" points=\"337.32,262.66,329.7128,243.8949,343.7055,243.4448,337.32,262.66\" style=\"stroke: #383838; stroke-width: 1.0;\"/><ellipse cx=\"331.5285\" cy=\"238.1335\" fill=\"#383838\" rx=\"2\" ry=\"2\" style=\"stroke: #383838; stroke-width: 1.0;\"/><ellipse cx=\"341.5233\" cy=\"237.812\" fill=\"#383838\" rx=\"2\" ry=\"2\" style=\"stroke: #383838; stroke-width: 1.0;\"/></a><!--MD5=[8b98b8df4eaa5a5d1fe57527612dba74]\n",
       "@startuml\r\n",
       "skinparam ranksep 10\r\n",
       "skinparam rectangle {\r\n",
       " backgroundColor<<block>> LightGreen\r\n",
       "}\r\n",
       "top to bottom direction\r\n",
       "skinparam monochrome true\r\n",
       "skinparam classbackgroundcolor white\r\n",
       "skinparam shadowing false\r\n",
       "skinparam wrapWidth 300\r\n",
       "hide circle\r\n",
       "\r\n",
       "package \"TradeStudyTest\" as E1  [[psysml:0d92d0af-a8c4-487d-a88b-e96d8d162758 ]]  {\r\n",
       "rec def \"Engine\" as E2  <<(T,blue) part def>> [[psysml:90b379af-84e4-4b51-bcba-9b20024a2d1f ]] {\r\n",
       "}\r\n",
       "rec usage \"engine1: Engine\" as E3  [[psysml:1fe04244-3a7b-4d3a-93e0-0fd9f61a7cea ]] {\r\n",
       "}\r\n",
       "rec usage \"engine2: Engine\" as E4  [[psysml:07207da4-9c20-4091-a953-293a54d08950 ]] {\r\n",
       "}\r\n",
       "comp usage \"engineTradeStudy: TradeStudy\" as E5 << analysis>> [[psysml:c0123459-da5a-4fa7-ba13-511d4e5fcdf0 ]] {\r\n",
       "}\r\n",
       "comp usage \"tradeStudyObjective: MaximizeObjective\" as E6  <<(T,blue) requirement>> [[psysml:d3ca6a29-f1f6-48ae-8677-7ec75b0f5c21 ]] {\r\n",
       "}\r\n",
       "comp usage \"objectiveFunction\" as E7  <<(T,blue) calculation>> [[psysml:f099413c-f817-477f-a757-2c07f6450928 ]] {\r\n",
       "}\r\n",
       "comp usage \"alternative: Engine\" as E8  [[psysml:26f566d1-080d-4e4d-ba32-38c38fdc0bde ]] {\r\n",
       "}\r\n",
       "comp usage \"selectedAlternative: Engine\" as E9  [[psysml:7894e875-c3b4-453b-9dc9-b899c04487e6 ]] {\r\n",
       "}\r\n",
       "E5 ..> E2 [[psysml:ecc21de6-0c62-41d5-be03-95573cca647a ]] : <<subject>>\r\n",
       "E5 - ->> E6 [[psysml:fcf6c150-3866-4336-9e66-2e65ffb041aa ]] : <<objective>>\r\n",
       "E5 *- - E7 [[psysml:a988c065-f70c-4bb4-ab6a-fca08357bc4a ]] \r\n",
       "E7 o- - \"1\"E8 [[psysml:4295af6e-acd7-489b-9191-c25409e1351b ]] \r\n",
       "E8 - -:|> E2 [[psysml:aed7fba6-fc0e-4a29-a473-c7d943b57344 ]] \r\n",
       "E5 o- - \"1\"E9 [[psysml:afcc773f-3f6f-47e3-9b17-c2b1fd7bbdc3 ]] \r\n",
       "E9 - -:|> E2 [[psysml:09d901e9-14a1-4a34-80ae-448f8674b33c ]] \r\n",
       "}\r\n",
       "@enduml\r\n",
       "\n",
       "PlantUML version 1.2020.13(Sat Jun 13 12:26:38 UTC 2020)\n",
       "(EPL source distribution)\n",
       "Java Runtime: OpenJDK Runtime Environment\n",
       "JVM: OpenJDK 64-Bit Server VM\n",
       "Default Encoding: UTF-8\n",
       "Language: en\n",
       "Country: null\n",
       "--></g></svg>"
      ]
     },
     "execution_count": 47,
     "metadata": {},
     "output_type": "execute_result"
    }
   ],
   "source": [
    "%viz --style=\"TB\" --view=\"Interconnection\" \"TradeStudyTest\""
   ]
  },
  {
   "cell_type": "code",
   "execution_count": 48,
   "id": "5ab6f1e0",
   "metadata": {
    "execution": {
     "iopub.execute_input": "2021-08-04T06:27:41.386145Z",
     "iopub.status.busy": "2021-08-04T06:27:41.385748Z",
     "iopub.status.idle": "2021-08-04T06:27:41.410084Z",
     "shell.execute_reply": "2021-08-04T06:27:41.410394Z"
    }
   },
   "outputs": [
    {
     "data": {
      "image/svg+xml": [
       "<?xml version=\"1.0\" encoding=\"UTF-8\" standalone=\"no\"?><svg xmlns=\"http://www.w3.org/2000/svg\" xmlns:xlink=\"http://www.w3.org/1999/xlink\" contentScriptType=\"application/ecmascript\" contentStyleType=\"text/css\" height=\"178px\" preserveAspectRatio=\"none\" style=\"width:393px;height:178px;\" version=\"1.1\" viewBox=\"0 0 393 178\" width=\"393px\" zoomAndPan=\"magnify\"><defs/><g><!--MD5=[fbc87193dbaf4d95561dea2c320d4a47]\n",
       "cluster E1--><a href=\"psysml:c0123459-da5a-4fa7-ba13-511d4e5fcdf0\" target=\"_top\" title=\"psysml:c0123459-da5a-4fa7-ba13-511d4e5fcdf0\" xlink:actuate=\"onRequest\" xlink:href=\"psysml:c0123459-da5a-4fa7-ba13-511d4e5fcdf0\" xlink:show=\"new\" xlink:title=\"psysml:c0123459-da5a-4fa7-ba13-511d4e5fcdf0\" xlink:type=\"simple\"><rect fill=\"#FFFFFF\" height=\"103.72\" id=\"E1\" rx=\"10\" ry=\"10\" style=\"stroke: #383838; stroke-width: 1.5;\" width=\"354\" x=\"16.5\" y=\"42.0986\"/><rect fill=\"#F8F8F8\" height=\"37.9375\" rx=\"10\" ry=\"10\" style=\"stroke: #F8F8F8; stroke-width: 1.5;\" width=\"354\" x=\"16.5\" y=\"42.0986\"/><rect fill=\"#F8F8F8\" height=\"10\" style=\"stroke: #F8F8F8; stroke-width: 1.5;\" width=\"354\" x=\"16.5\" y=\"70.0361\"/><rect fill=\"none\" height=\"103.72\" id=\"E1\" rx=\"10\" ry=\"10\" style=\"stroke: #383838; stroke-width: 1.5;\" width=\"354\" x=\"16.5\" y=\"42.0986\"/><text fill=\"#000000\" font-family=\"sans-serif\" font-size=\"12\" font-style=\"italic\" lengthAdjust=\"spacingAndGlyphs\" textLength=\"64\" x=\"161.5\" y=\"58.2373\">«analysis»</text><text fill=\"#000000\" font-family=\"sans-serif\" font-size=\"12\" lengthAdjust=\"spacingAndGlyphs\" textLength=\"114\" x=\"136.5\" y=\"72.2061\">engineTradeStudy</text><line style=\"stroke: #383838; stroke-width: 1.0;\" x1=\"16.5\" x2=\"370.5\" y1=\"80.0361\" y2=\"80.0361\"/></a><!--MD5=[d5e69f78d87373223dbae638b30a9c99]\n",
       "cluster E3--><a href=\"psysml:f099413c-f817-477f-a757-2c07f6450928\" target=\"_top\" title=\"psysml:f099413c-f817-477f-a757-2c07f6450928\" xlink:actuate=\"onRequest\" xlink:href=\"psysml:f099413c-f817-477f-a757-2c07f6450928\" xlink:show=\"new\" xlink:title=\"psysml:f099413c-f817-477f-a757-2c07f6450928\" xlink:type=\"simple\"><rect fill=\"#FFFFFF\" height=\"81.72\" id=\"E3\" rx=\"10\" ry=\"10\" style=\"stroke: #383838; stroke-width: 1.5;\" width=\"150\" x=\"200.5\" y=\"64.0986\"/><rect fill=\"#F8F8F8\" height=\"37.9375\" rx=\"10\" ry=\"10\" style=\"stroke: #F8F8F8; stroke-width: 1.5;\" width=\"150\" x=\"200.5\" y=\"64.0986\"/><rect fill=\"#F8F8F8\" height=\"10\" style=\"stroke: #F8F8F8; stroke-width: 1.5;\" width=\"150\" x=\"200.5\" y=\"92.0361\"/><rect fill=\"none\" height=\"81.72\" id=\"E3\" rx=\"10\" ry=\"10\" style=\"stroke: #383838; stroke-width: 1.5;\" width=\"150\" x=\"200.5\" y=\"64.0986\"/><text fill=\"#000000\" font-family=\"sans-serif\" font-size=\"12\" font-style=\"italic\" lengthAdjust=\"spacingAndGlyphs\" textLength=\"82\" x=\"234.5\" y=\"80.2373\">«calculation»</text><text fill=\"#000000\" font-family=\"sans-serif\" font-size=\"12\" lengthAdjust=\"spacingAndGlyphs\" textLength=\"110\" x=\"220.5\" y=\"94.2061\">objectiveFunction</text><line style=\"stroke: #383838; stroke-width: 1.0;\" x1=\"200.5\" x2=\"350.5\" y1=\"102.0361\" y2=\"102.0361\"/></a><text fill=\"#000000\" font-family=\"sans-serif\" font-size=\"14\" lengthAdjust=\"spacingAndGlyphs\" textLength=\"57\" x=\"6\" y=\"20.7969\">noname</text><rect fill=\"#383838\" height=\"12\" style=\"stroke: #F8F8F8; stroke-width: 1.5;\" width=\"12\" x=\"28.5\" y=\"36.0986\"/><text fill=\"#000000\" font-family=\"sans-serif\" font-size=\"14\" lengthAdjust=\"spacingAndGlyphs\" textLength=\"57\" x=\"324\" y=\"164.8138\">noname</text><rect fill=\"#383838\" height=\"12\" style=\"stroke: #F8F8F8; stroke-width: 1.5;\" width=\"12\" x=\"346.5\" y=\"139.8186\"/><text fill=\"#000000\" font-family=\"sans-serif\" font-size=\"14\" lengthAdjust=\"spacingAndGlyphs\" textLength=\"57\" x=\"194\" y=\"164.8138\">noname</text><rect fill=\"#383838\" height=\"12\" style=\"stroke: #F8F8F8; stroke-width: 1.5;\" width=\"12\" x=\"216.5\" y=\"139.8186\"/><!--MD5=[cf3620a40f155aaee248b679c37ef1e0]\n",
       "@startuml\r\n",
       "skinparam ranksep 8\r\n",
       "top to bottom direction\r\n",
       "skinparam monochrome true\r\n",
       "skinparam classbackgroundcolor white\r\n",
       "skinparam shadowing false\r\n",
       "skinparam wrapWidth 300\r\n",
       "hide circle\r\n",
       "\r\n",
       "rec usage \"engineTradeStudy\" as E1 << analysis>> [[psysml:c0123459-da5a-4fa7-ba13-511d4e5fcdf0 ]] {\r\n",
       "portin \"noname\" as E2  [[psysml:210e0914-9352-49ef-884c-3efb23c87d05 ]] \r\n",
       "rec usage \"objectiveFunction\" as E3  <<(T,blue) calculation>> [[psysml:f099413c-f817-477f-a757-2c07f6450928 ]] {\r\n",
       "portout \"noname\" as E4  [[psysml:cddfcd13-7814-4ab4-947c-703e6331ff4e ]] \r\n",
       "}\r\n",
       "\r\n",
       "portout \"noname\" as E5  [[psysml:7894e875-c3b4-453b-9dc9-b899c04487e6 ]] \r\n",
       "}\r\n",
       "\r\n",
       "@enduml\r\n",
       "\n",
       "PlantUML version 1.2020.13(Sat Jun 13 12:26:38 UTC 2020)\n",
       "(EPL source distribution)\n",
       "Java Runtime: OpenJDK Runtime Environment\n",
       "JVM: OpenJDK 64-Bit Server VM\n",
       "Default Encoding: UTF-8\n",
       "Language: en\n",
       "Country: null\n",
       "--></g></svg>"
      ]
     },
     "execution_count": 48,
     "metadata": {},
     "output_type": "execute_result"
    }
   ],
   "source": [
    "%viz --style=\"TB\" --view=\"Action\" \"TradeStudyTest\""
   ]
  },
  {
   "cell_type": "code",
   "execution_count": 49,
   "id": "c68dcd54",
   "metadata": {
    "execution": {
     "iopub.execute_input": "2021-08-04T06:27:41.460536Z",
     "iopub.status.busy": "2021-08-04T06:27:41.460144Z",
     "iopub.status.idle": "2021-08-04T06:27:41.487707Z",
     "shell.execute_reply": "2021-08-04T06:27:41.487993Z"
    }
   },
   "outputs": [
    {
     "data": {
      "image/svg+xml": [
       "<?xml version=\"1.0\" encoding=\"UTF-8\" standalone=\"no\"?><svg xmlns=\"http://www.w3.org/2000/svg\" xmlns:xlink=\"http://www.w3.org/1999/xlink\" contentScriptType=\"application/ecmascript\" contentStyleType=\"text/css\" height=\"345px\" preserveAspectRatio=\"none\" style=\"width:955px;height:345px;\" version=\"1.1\" viewBox=\"0 0 955 345\" width=\"955px\" zoomAndPan=\"magnify\"><defs/><g><!--MD5=[fbc87193dbaf4d95561dea2c320d4a47]\n",
       "cluster E1--><a href=\"psysml:0d92d0af-a8c4-487d-a88b-e96d8d162758\" target=\"_top\" title=\"psysml:0d92d0af-a8c4-487d-a88b-e96d8d162758\" xlink:actuate=\"onRequest\" xlink:href=\"psysml:0d92d0af-a8c4-487d-a88b-e96d8d162758\" xlink:show=\"new\" xlink:title=\"psysml:0d92d0af-a8c4-487d-a88b-e96d8d162758\" xlink:type=\"simple\"><polygon fill=\"#FFFFFF\" points=\"16,6,148,6,155,28.2969,933,28.2969,933,333,16,333,16,6\" style=\"stroke: #000000; stroke-width: 1.5;\"/><line style=\"stroke: #000000; stroke-width: 1.5;\" x1=\"16\" x2=\"155\" y1=\"28.2969\" y2=\"28.2969\"/><text fill=\"#000000\" font-family=\"sans-serif\" font-size=\"14\" font-weight=\"bold\" lengthAdjust=\"spacingAndGlyphs\" textLength=\"126\" x=\"20\" y=\"20.9951\">TradeStudyTest</text></a><!--MD5=[b4997ac47864f28c2f74865a473b2911]\n",
       "class E2--><a href=\"psysml:90b379af-84e4-4b51-bcba-9b20024a2d1f\" target=\"_top\" title=\"psysml:90b379af-84e4-4b51-bcba-9b20024a2d1f\" xlink:actuate=\"onRequest\" xlink:href=\"psysml:90b379af-84e4-4b51-bcba-9b20024a2d1f\" xlink:show=\"new\" xlink:title=\"psysml:90b379af-84e4-4b51-bcba-9b20024a2d1f\" xlink:type=\"simple\"><rect fill=\"#FFFFFF\" height=\"45.9375\" id=\"E2\" style=\"stroke: #383838; stroke-width: 1.5;\" width=\"66\" x=\"598\" y=\"271\"/><text fill=\"#000000\" font-family=\"sans-serif\" font-size=\"12\" font-style=\"italic\" lengthAdjust=\"spacingAndGlyphs\" textLength=\"64\" x=\"599\" y=\"287.1387\">«part def»</text><text fill=\"#000000\" font-family=\"sans-serif\" font-size=\"12\" lengthAdjust=\"spacingAndGlyphs\" textLength=\"43\" x=\"609.5\" y=\"301.1074\">Engine</text><line style=\"stroke: #383838; stroke-width: 1.5;\" x1=\"599\" x2=\"663\" y1=\"308.9375\" y2=\"308.9375\"/></a><!--MD5=[09b614a08d8cba4a07c9adeb5e0fee81]\n",
       "class E3--><a href=\"psysml:1fe04244-3a7b-4d3a-93e0-0fd9f61a7cea\" target=\"_top\" title=\"psysml:1fe04244-3a7b-4d3a-93e0-0fd9f61a7cea\" xlink:actuate=\"onRequest\" xlink:href=\"psysml:1fe04244-3a7b-4d3a-93e0-0fd9f61a7cea\" xlink:show=\"new\" xlink:title=\"psysml:1fe04244-3a7b-4d3a-93e0-0fd9f61a7cea\" xlink:type=\"simple\"><rect fill=\"#FFFFFF\" height=\"45.9375\" id=\"E3\" rx=\"10\" ry=\"10\" style=\"stroke: #383838; stroke-width: 1.5;\" width=\"108\" x=\"809\" y=\"164\"/><text fill=\"#000000\" font-family=\"sans-serif\" font-size=\"12\" font-style=\"italic\" lengthAdjust=\"spacingAndGlyphs\" textLength=\"40\" x=\"843\" y=\"180.1387\">«part»</text><text fill=\"#000000\" font-family=\"sans-serif\" font-size=\"12\" lengthAdjust=\"spacingAndGlyphs\" textLength=\"102\" x=\"812\" y=\"194.1074\">engine1: Engine</text><line style=\"stroke: #383838; stroke-width: 1.5;\" x1=\"810\" x2=\"916\" y1=\"201.9375\" y2=\"201.9375\"/></a><!--MD5=[ebbe1d658d1005bcc118a6aa81145e00]\n",
       "class E4--><a href=\"psysml:07207da4-9c20-4091-a953-293a54d08950\" target=\"_top\" title=\"psysml:07207da4-9c20-4091-a953-293a54d08950\" xlink:actuate=\"onRequest\" xlink:href=\"psysml:07207da4-9c20-4091-a953-293a54d08950\" xlink:show=\"new\" xlink:title=\"psysml:07207da4-9c20-4091-a953-293a54d08950\" xlink:type=\"simple\"><rect fill=\"#FFFFFF\" height=\"45.9375\" id=\"E4\" rx=\"10\" ry=\"10\" style=\"stroke: #383838; stroke-width: 1.5;\" width=\"108\" x=\"666\" y=\"164\"/><text fill=\"#000000\" font-family=\"sans-serif\" font-size=\"12\" font-style=\"italic\" lengthAdjust=\"spacingAndGlyphs\" textLength=\"40\" x=\"700\" y=\"180.1387\">«part»</text><text fill=\"#000000\" font-family=\"sans-serif\" font-size=\"12\" lengthAdjust=\"spacingAndGlyphs\" textLength=\"102\" x=\"669\" y=\"194.1074\">engine2: Engine</text><line style=\"stroke: #383838; stroke-width: 1.5;\" x1=\"667\" x2=\"773\" y1=\"201.9375\" y2=\"201.9375\"/></a><!--MD5=[270fce915f116d4de14055a7c1d9a0f3]\n",
       "class E5--><a href=\"psysml:c0123459-da5a-4fa7-ba13-511d4e5fcdf0\" target=\"_top\" title=\"psysml:c0123459-da5a-4fa7-ba13-511d4e5fcdf0\" xlink:actuate=\"onRequest\" xlink:href=\"psysml:c0123459-da5a-4fa7-ba13-511d4e5fcdf0\" xlink:show=\"new\" xlink:title=\"psysml:c0123459-da5a-4fa7-ba13-511d4e5fcdf0\" xlink:type=\"simple\"><rect fill=\"#FFFFFF\" height=\"45.9375\" id=\"E5\" rx=\"10\" ry=\"10\" style=\"stroke: #383838; stroke-width: 1.5;\" width=\"199\" x=\"192.5\" y=\"41\"/><text fill=\"#000000\" font-family=\"sans-serif\" font-size=\"12\" font-style=\"italic\" lengthAdjust=\"spacingAndGlyphs\" textLength=\"64\" x=\"260\" y=\"57.1387\">«analysis»</text><text fill=\"#000000\" font-family=\"sans-serif\" font-size=\"12\" lengthAdjust=\"spacingAndGlyphs\" textLength=\"193\" x=\"195.5\" y=\"71.1074\">engineTradeStudy: TradeStudy</text><line style=\"stroke: #383838; stroke-width: 1.5;\" x1=\"193.5\" x2=\"390.5\" y1=\"78.9375\" y2=\"78.9375\"/></a><!--MD5=[60a26617385b1d2d0262a64233df1f8d]\n",
       "class E6--><a href=\"psysml:d3ca6a29-f1f6-48ae-8677-7ec75b0f5c21\" target=\"_top\" title=\"psysml:d3ca6a29-f1f6-48ae-8677-7ec75b0f5c21\" xlink:actuate=\"onRequest\" xlink:href=\"psysml:d3ca6a29-f1f6-48ae-8677-7ec75b0f5c21\" xlink:show=\"new\" xlink:title=\"psysml:d3ca6a29-f1f6-48ae-8677-7ec75b0f5c21\" xlink:type=\"simple\"><rect fill=\"#FFFFFF\" height=\"45.9375\" id=\"E6\" rx=\"10\" ry=\"10\" style=\"stroke: #383838; stroke-width: 1.5;\" width=\"251\" x=\"166.5\" y=\"164\"/><text fill=\"#000000\" font-family=\"sans-serif\" font-size=\"12\" font-style=\"italic\" lengthAdjust=\"spacingAndGlyphs\" textLength=\"91\" x=\"246.5\" y=\"180.1387\">«requirement»</text><text fill=\"#000000\" font-family=\"sans-serif\" font-size=\"12\" lengthAdjust=\"spacingAndGlyphs\" textLength=\"245\" x=\"169.5\" y=\"194.1074\">tradeStudyObjective: MaximizeObjective</text><line style=\"stroke: #383838; stroke-width: 1.5;\" x1=\"167.5\" x2=\"416.5\" y1=\"201.9375\" y2=\"201.9375\"/></a><!--MD5=[2156ba9850f5573cc1fc38a6a4b2f02b]\n",
       "class E7--><a href=\"psysml:7894e875-c3b4-453b-9dc9-b899c04487e6\" target=\"_top\" title=\"psysml:7894e875-c3b4-453b-9dc9-b899c04487e6\" xlink:actuate=\"onRequest\" xlink:href=\"psysml:7894e875-c3b4-453b-9dc9-b899c04487e6\" xlink:show=\"new\" xlink:title=\"psysml:7894e875-c3b4-453b-9dc9-b899c04487e6\" xlink:type=\"simple\"><rect fill=\"#FFFFFF\" height=\"45.9375\" id=\"E7\" rx=\"10\" ry=\"10\" style=\"stroke: #383838; stroke-width: 1.5;\" width=\"178\" x=\"453\" y=\"164\"/><text fill=\"#000000\" font-family=\"sans-serif\" font-size=\"12\" font-style=\"italic\" lengthAdjust=\"spacingAndGlyphs\" textLength=\"40\" x=\"522\" y=\"180.1387\">«part»</text><text fill=\"#000000\" font-family=\"sans-serif\" font-size=\"12\" lengthAdjust=\"spacingAndGlyphs\" textLength=\"172\" x=\"456\" y=\"194.1074\">selectedAlternative: Engine</text><line style=\"stroke: #383838; stroke-width: 1.5;\" x1=\"454\" x2=\"630\" y1=\"201.9375\" y2=\"201.9375\"/></a><!--MD5=[05d275557350bfb9b23a4ef7222b4c39]\n",
       "link E3 to E2--><a href=\"psysml:8801a447-7348-4a45-a550-3876c92a8627\" target=\"_top\" title=\"psysml:8801a447-7348-4a45-a550-3876c92a8627\" xlink:actuate=\"onRequest\" xlink:href=\"psysml:8801a447-7348-4a45-a550-3876c92a8627\" xlink:show=\"new\" xlink:title=\"psysml:8801a447-7348-4a45-a550-3876c92a8627\" xlink:type=\"simple\"><path d=\"M814.37,210.01 C775.74,227.49 721.88,251.87 682.52,269.68 \" fill=\"none\" id=\"E3-&gt;E2\" style=\"stroke: #383838; stroke-width: 1.0;\"/><polygon fill=\"#FFFFFF\" points=\"664.23,277.96,678.6446,263.7397,684.4251,276.4906,664.23,277.96\" style=\"stroke: #383838; stroke-width: 1.0;\"/><ellipse cx=\"684.6619\" cy=\"263.2078\" fill=\"#383838\" rx=\"2\" ry=\"2\" style=\"stroke: #383838; stroke-width: 1.0;\"/><ellipse cx=\"688.7908\" cy=\"272.3156\" fill=\"#383838\" rx=\"2\" ry=\"2\" style=\"stroke: #383838; stroke-width: 1.0;\"/></a><!--MD5=[185131fc0dcab0a4505a2ebe144e961b]\n",
       "link E4 to E2--><a href=\"psysml:b9350b5a-5d8f-4ac9-a55f-8ba2d0a1e030\" target=\"_top\" title=\"psysml:b9350b5a-5d8f-4ac9-a55f-8ba2d0a1e030\" xlink:actuate=\"onRequest\" xlink:href=\"psysml:b9350b5a-5d8f-4ac9-a55f-8ba2d0a1e030\" xlink:show=\"new\" xlink:title=\"psysml:b9350b5a-5d8f-4ac9-a55f-8ba2d0a1e030\" xlink:type=\"simple\"><path d=\"M701.34,210.01 C690.26,223.08 675.91,240.01 663.06,255.17 \" fill=\"none\" id=\"E4-&gt;E2\" style=\"stroke: #383838; stroke-width: 1.0;\"/><polygon fill=\"#FFFFFF\" points=\"649.94,270.66,656.8931,251.6428,667.5691,260.6994,649.94,270.66\" style=\"stroke: #383838; stroke-width: 1.0;\"/><ellipse cx=\"662.1056\" cy=\"248.5899\" fill=\"#383838\" rx=\"2\" ry=\"2\" style=\"stroke: #383838; stroke-width: 1.0;\"/><ellipse cx=\"669.7313\" cy=\"255.059\" fill=\"#383838\" rx=\"2\" ry=\"2\" style=\"stroke: #383838; stroke-width: 1.0;\"/></a><!--MD5=[15ebcb19ae302d9b601edb458606d402]\n",
       "link E5 to E2--><a href=\"psysml:ecc21de6-0c62-41d5-be03-95573cca647a\" target=\"_top\" title=\"psysml:ecc21de6-0c62-41d5-be03-95573cca647a\" xlink:actuate=\"onRequest\" xlink:href=\"psysml:ecc21de6-0c62-41d5-be03-95573cca647a\" xlink:show=\"new\" xlink:title=\"psysml:ecc21de6-0c62-41d5-be03-95573cca647a\" xlink:type=\"simple\"><path d=\"M211.44,87.03 C135.05,111.81 38.38,155.76 85,210 C150.98,286.77 479.56,293.36 592.67,293.32 \" fill=\"none\" id=\"E5-&gt;E2\" style=\"stroke: #383838; stroke-width: 1.0; stroke-dasharray: 7.0,7.0;\"/><polygon fill=\"#383838\" points=\"597.89,293.31,588.89,289.31,592.89,293.31,588.89,297.31,597.89,293.31\" style=\"stroke: #383838; stroke-width: 1.0;\"/><text fill=\"#000000\" font-family=\"sans-serif\" font-size=\"13\" lengthAdjust=\"spacingAndGlyphs\" textLength=\"62\" x=\"86\" y=\"191.5669\">«subject»</text></a><!--MD5=[9120cf2e5df3bff93db8f754bbbc09b4]\n",
       "link E5 to E6--><a href=\"psysml:fcf6c150-3866-4336-9e66-2e65ffb041aa\" target=\"_top\" title=\"psysml:fcf6c150-3866-4336-9e66-2e65ffb041aa\" xlink:actuate=\"onRequest\" xlink:href=\"psysml:fcf6c150-3866-4336-9e66-2e65ffb041aa\" xlink:show=\"new\" xlink:title=\"psysml:fcf6c150-3866-4336-9e66-2e65ffb041aa\" xlink:type=\"simple\"><path d=\"M292,87.19 C292,106.47 292,134.55 292,155.86 \" fill=\"none\" id=\"E5-&gt;E6\" style=\"stroke: #383838; stroke-width: 1.0;\"/><polygon fill=\"#383838\" points=\"292,163.95,295,155.95,289,155.95,292,163.95\" style=\"stroke: #383838; stroke-width: 1.0;\"/><text fill=\"#000000\" font-family=\"sans-serif\" font-size=\"13\" lengthAdjust=\"spacingAndGlyphs\" textLength=\"73\" x=\"293\" y=\"130.0669\">«objective»</text></a><!--MD5=[452b418e7f8a40397a49b8c0a78acc5b]\n",
       "reverse link E5 to E7--><a href=\"psysml:afcc773f-3f6f-47e3-9b17-c2b1fd7bbdc3\" target=\"_top\" title=\"psysml:afcc773f-3f6f-47e3-9b17-c2b1fd7bbdc3\" xlink:actuate=\"onRequest\" xlink:href=\"psysml:afcc773f-3f6f-47e3-9b17-c2b1fd7bbdc3\" xlink:show=\"new\" xlink:title=\"psysml:afcc773f-3f6f-47e3-9b17-c2b1fd7bbdc3\" xlink:type=\"simple\"><path d=\"M349.39,92.78 C393.99,114.36 455.01,143.9 496.33,163.89 \" fill=\"none\" id=\"E5&lt;-E7\" style=\"stroke: #383838; stroke-width: 1.0;\"/><polygon fill=\"#FFFFFF\" points=\"337.56,87.05,341.2143,93.2666,348.3582,92.2843,344.7039,86.0677,337.56,87.05\" style=\"stroke: #383838; stroke-width: 1.0;\"/><text fill=\"#000000\" font-family=\"sans-serif\" font-size=\"13\" lengthAdjust=\"spacingAndGlyphs\" textLength=\"8\" x=\"474.9812\" y=\"152.7567\">1</text></a><!--MD5=[583832df87f4419a098336a29a52fa00]\n",
       "link E7 to E2--><a href=\"psysml:09d901e9-14a1-4a34-80ae-448f8674b33c\" target=\"_top\" title=\"psysml:09d901e9-14a1-4a34-80ae-448f8674b33c\" xlink:actuate=\"onRequest\" xlink:href=\"psysml:09d901e9-14a1-4a34-80ae-448f8674b33c\" xlink:show=\"new\" xlink:title=\"psysml:09d901e9-14a1-4a34-80ae-448f8674b33c\" xlink:type=\"simple\"><path d=\"M560.66,210.01 C571.74,223.08 586.09,240.01 598.94,255.17 \" fill=\"none\" id=\"E7-&gt;E2\" style=\"stroke: #383838; stroke-width: 1.0;\"/><polygon fill=\"#FFFFFF\" points=\"612.06,270.66,594.4309,260.6994,605.1069,251.6428,612.06,270.66\" style=\"stroke: #383838; stroke-width: 1.0;\"/><ellipse cx=\"592.2687\" cy=\"255.059\" fill=\"#383838\" rx=\"2\" ry=\"2\" style=\"stroke: #383838; stroke-width: 1.0;\"/><ellipse cx=\"599.8944\" cy=\"248.5899\" fill=\"#383838\" rx=\"2\" ry=\"2\" style=\"stroke: #383838; stroke-width: 1.0;\"/></a><!--MD5=[5b21c8fd91dcbae2960c5c38d8df4fde]\n",
       "@startuml\r\n",
       "top to bottom direction\r\n",
       "skinparam monochrome true\r\n",
       "skinparam classbackgroundcolor white\r\n",
       "skinparam shadowing false\r\n",
       "skinparam wrapWidth 300\r\n",
       "hide circle\r\n",
       "\r\n",
       "package \"TradeStudyTest\" as E1  [[psysml:0d92d0af-a8c4-487d-a88b-e96d8d162758 ]]  {\r\n",
       "comp def \"Engine\" as E2  <<(T,blue) part def>> [[psysml:90b379af-84e4-4b51-bcba-9b20024a2d1f ]] {\r\n",
       "}\r\n",
       "comp usage \"engine1: Engine\" as E3  <<(T,blue) part>> [[psysml:1fe04244-3a7b-4d3a-93e0-0fd9f61a7cea ]] {\r\n",
       "}\r\n",
       "comp usage \"engine2: Engine\" as E4  <<(T,blue) part>> [[psysml:07207da4-9c20-4091-a953-293a54d08950 ]] {\r\n",
       "}\r\n",
       "comp usage \"engineTradeStudy: TradeStudy\" as E5 << analysis>> [[psysml:c0123459-da5a-4fa7-ba13-511d4e5fcdf0 ]] {\r\n",
       "}\r\n",
       "comp usage \"tradeStudyObjective: MaximizeObjective\" as E6  <<(T,blue) requirement>> [[psysml:d3ca6a29-f1f6-48ae-8677-7ec75b0f5c21 ]] {\r\n",
       "}\r\n",
       "comp usage \"selectedAlternative: Engine\" as E7  <<(T,blue) part>> [[psysml:7894e875-c3b4-453b-9dc9-b899c04487e6 ]] {\r\n",
       "}\r\n",
       "E3 - -:|> E2 [[psysml:8801a447-7348-4a45-a550-3876c92a8627 ]] \r\n",
       "E4 - -:|> E2 [[psysml:b9350b5a-5d8f-4ac9-a55f-8ba2d0a1e030 ]] \r\n",
       "E5 ..> E2 [[psysml:ecc21de6-0c62-41d5-be03-95573cca647a ]] : <<subject>>\r\n",
       "E5 - ->> E6 [[psysml:fcf6c150-3866-4336-9e66-2e65ffb041aa ]] : <<objective>>\r\n",
       "E5 o- - \"1\"E7 [[psysml:afcc773f-3f6f-47e3-9b17-c2b1fd7bbdc3 ]] \r\n",
       "E7 - -:|> E2 [[psysml:09d901e9-14a1-4a34-80ae-448f8674b33c ]] \r\n",
       "}\r\n",
       "@enduml\r\n",
       "\n",
       "PlantUML version 1.2020.13(Sat Jun 13 12:26:38 UTC 2020)\n",
       "(EPL source distribution)\n",
       "Java Runtime: OpenJDK Runtime Environment\n",
       "JVM: OpenJDK 64-Bit Server VM\n",
       "Default Encoding: UTF-8\n",
       "Language: en\n",
       "Country: null\n",
       "--></g></svg>"
      ]
     },
     "execution_count": 49,
     "metadata": {},
     "output_type": "execute_result"
    }
   ],
   "source": [
    "%viz --style=\"TB\" --view=\"Sequence\" \"TradeStudyTest\""
   ]
  },
  {
   "cell_type": "code",
   "execution_count": 50,
   "id": "01123f61",
   "metadata": {
    "execution": {
     "iopub.execute_input": "2021-08-04T06:27:41.537989Z",
     "iopub.status.busy": "2021-08-04T06:27:41.537595Z",
     "iopub.status.idle": "2021-08-04T06:27:41.570704Z",
     "shell.execute_reply": "2021-08-04T06:27:41.570527Z"
    }
   },
   "outputs": [
    {
     "data": {
      "image/svg+xml": [
       "<?xml version=\"1.0\" encoding=\"UTF-8\" standalone=\"no\"?><svg xmlns=\"http://www.w3.org/2000/svg\" xmlns:xlink=\"http://www.w3.org/1999/xlink\" contentScriptType=\"application/ecmascript\" contentStyleType=\"text/css\" height=\"497px\" preserveAspectRatio=\"none\" style=\"width:556px;height:497px;\" version=\"1.1\" viewBox=\"0 0 556 497\" width=\"556px\" zoomAndPan=\"magnify\"><defs/><g><!--MD5=[fbc87193dbaf4d95561dea2c320d4a47]\n",
       "cluster E1--><a href=\"psysml:0d92d0af-a8c4-487d-a88b-e96d8d162758\" target=\"_top\" title=\"psysml:0d92d0af-a8c4-487d-a88b-e96d8d162758\" xlink:actuate=\"onRequest\" xlink:href=\"psysml:0d92d0af-a8c4-487d-a88b-e96d8d162758\" xlink:show=\"new\" xlink:title=\"psysml:0d92d0af-a8c4-487d-a88b-e96d8d162758\" xlink:type=\"simple\"><polygon fill=\"#FFFFFF\" points=\"18.32,6,150.32,6,157.32,28.2969,534.32,28.2969,534.32,485,18.32,485,18.32,6\" style=\"stroke: #000000; stroke-width: 1.5;\"/><line style=\"stroke: #000000; stroke-width: 1.5;\" x1=\"18.32\" x2=\"157.32\" y1=\"28.2969\" y2=\"28.2969\"/><text fill=\"#000000\" font-family=\"sans-serif\" font-size=\"14\" font-weight=\"bold\" lengthAdjust=\"spacingAndGlyphs\" textLength=\"126\" x=\"22.32\" y=\"20.9951\">TradeStudyTest</text></a><!--MD5=[b4997ac47864f28c2f74865a473b2911]\n",
       "class E2--><a href=\"psysml:90b379af-84e4-4b51-bcba-9b20024a2d1f\" target=\"_top\" title=\"psysml:90b379af-84e4-4b51-bcba-9b20024a2d1f\" xlink:actuate=\"onRequest\" xlink:href=\"psysml:90b379af-84e4-4b51-bcba-9b20024a2d1f\" xlink:show=\"new\" xlink:title=\"psysml:90b379af-84e4-4b51-bcba-9b20024a2d1f\" xlink:type=\"simple\"><rect fill=\"#FFFFFF\" height=\"45.9375\" id=\"E2\" style=\"stroke: #383838; stroke-width: 1.5;\" width=\"66\" x=\"198.32\" y=\"423\"/><text fill=\"#000000\" font-family=\"sans-serif\" font-size=\"12\" font-style=\"italic\" lengthAdjust=\"spacingAndGlyphs\" textLength=\"64\" x=\"199.32\" y=\"439.1387\">«part def»</text><text fill=\"#000000\" font-family=\"sans-serif\" font-size=\"12\" lengthAdjust=\"spacingAndGlyphs\" textLength=\"43\" x=\"209.82\" y=\"453.1074\">Engine</text><line style=\"stroke: #383838; stroke-width: 1.5;\" x1=\"199.32\" x2=\"263.32\" y1=\"460.9375\" y2=\"460.9375\"/></a><!--MD5=[09b614a08d8cba4a07c9adeb5e0fee81]\n",
       "class E3--><a href=\"psysml:1fe04244-3a7b-4d3a-93e0-0fd9f61a7cea\" target=\"_top\" title=\"psysml:1fe04244-3a7b-4d3a-93e0-0fd9f61a7cea\" xlink:actuate=\"onRequest\" xlink:href=\"psysml:1fe04244-3a7b-4d3a-93e0-0fd9f61a7cea\" xlink:show=\"new\" xlink:title=\"psysml:1fe04244-3a7b-4d3a-93e0-0fd9f61a7cea\" xlink:type=\"simple\"><rect fill=\"#FFFFFF\" height=\"45.9375\" id=\"E3\" rx=\"10\" ry=\"10\" style=\"stroke: #383838; stroke-width: 1.5;\" width=\"108\" x=\"410.32\" y=\"316\"/><text fill=\"#000000\" font-family=\"sans-serif\" font-size=\"12\" font-style=\"italic\" lengthAdjust=\"spacingAndGlyphs\" textLength=\"40\" x=\"444.32\" y=\"332.1387\">«part»</text><text fill=\"#000000\" font-family=\"sans-serif\" font-size=\"12\" lengthAdjust=\"spacingAndGlyphs\" textLength=\"102\" x=\"413.32\" y=\"346.1074\">engine1: Engine</text><line style=\"stroke: #383838; stroke-width: 1.5;\" x1=\"411.32\" x2=\"517.32\" y1=\"353.9375\" y2=\"353.9375\"/></a><!--MD5=[ebbe1d658d1005bcc118a6aa81145e00]\n",
       "class E4--><a href=\"psysml:07207da4-9c20-4091-a953-293a54d08950\" target=\"_top\" title=\"psysml:07207da4-9c20-4091-a953-293a54d08950\" xlink:actuate=\"onRequest\" xlink:href=\"psysml:07207da4-9c20-4091-a953-293a54d08950\" xlink:show=\"new\" xlink:title=\"psysml:07207da4-9c20-4091-a953-293a54d08950\" xlink:type=\"simple\"><rect fill=\"#FFFFFF\" height=\"45.9375\" id=\"E4\" rx=\"10\" ry=\"10\" style=\"stroke: #383838; stroke-width: 1.5;\" width=\"108\" x=\"267.32\" y=\"316\"/><text fill=\"#000000\" font-family=\"sans-serif\" font-size=\"12\" font-style=\"italic\" lengthAdjust=\"spacingAndGlyphs\" textLength=\"40\" x=\"301.32\" y=\"332.1387\">«part»</text><text fill=\"#000000\" font-family=\"sans-serif\" font-size=\"12\" lengthAdjust=\"spacingAndGlyphs\" textLength=\"102\" x=\"270.32\" y=\"346.1074\">engine2: Engine</text><line style=\"stroke: #383838; stroke-width: 1.5;\" x1=\"268.32\" x2=\"374.32\" y1=\"353.9375\" y2=\"353.9375\"/></a><!--MD5=[270fce915f116d4de14055a7c1d9a0f3]\n",
       "class E5--><a href=\"psysml:c0123459-da5a-4fa7-ba13-511d4e5fcdf0\" target=\"_top\" title=\"psysml:c0123459-da5a-4fa7-ba13-511d4e5fcdf0\" xlink:actuate=\"onRequest\" xlink:href=\"psysml:c0123459-da5a-4fa7-ba13-511d4e5fcdf0\" xlink:show=\"new\" xlink:title=\"psysml:c0123459-da5a-4fa7-ba13-511d4e5fcdf0\" xlink:type=\"simple\"><rect fill=\"#FFFFFF\" height=\"45.9375\" id=\"E5\" rx=\"10\" ry=\"10\" style=\"stroke: #383838; stroke-width: 1.5;\" width=\"199\" x=\"239.82\" y=\"41\"/><text fill=\"#000000\" font-family=\"sans-serif\" font-size=\"12\" font-style=\"italic\" lengthAdjust=\"spacingAndGlyphs\" textLength=\"64\" x=\"307.32\" y=\"57.1387\">«analysis»</text><text fill=\"#000000\" font-family=\"sans-serif\" font-size=\"12\" lengthAdjust=\"spacingAndGlyphs\" textLength=\"193\" x=\"242.82\" y=\"71.1074\">engineTradeStudy: TradeStudy</text><line style=\"stroke: #383838; stroke-width: 1.5;\" x1=\"240.82\" x2=\"437.82\" y1=\"78.9375\" y2=\"78.9375\"/></a><!--MD5=[60a26617385b1d2d0262a64233df1f8d]\n",
       "class E6--><a href=\"psysml:d3ca6a29-f1f6-48ae-8677-7ec75b0f5c21\" target=\"_top\" title=\"psysml:d3ca6a29-f1f6-48ae-8677-7ec75b0f5c21\" xlink:actuate=\"onRequest\" xlink:href=\"psysml:d3ca6a29-f1f6-48ae-8677-7ec75b0f5c21\" xlink:show=\"new\" xlink:title=\"psysml:d3ca6a29-f1f6-48ae-8677-7ec75b0f5c21\" xlink:type=\"simple\"><rect fill=\"#FFFFFF\" height=\"45.9375\" id=\"E6\" rx=\"10\" ry=\"10\" style=\"stroke: #383838; stroke-width: 1.5;\" width=\"251\" x=\"78.82\" y=\"164\"/><text fill=\"#000000\" font-family=\"sans-serif\" font-size=\"12\" font-style=\"italic\" lengthAdjust=\"spacingAndGlyphs\" textLength=\"91\" x=\"158.82\" y=\"180.1387\">«requirement»</text><text fill=\"#000000\" font-family=\"sans-serif\" font-size=\"12\" lengthAdjust=\"spacingAndGlyphs\" textLength=\"245\" x=\"81.82\" y=\"194.1074\">tradeStudyObjective: MaximizeObjective</text><line style=\"stroke: #383838; stroke-width: 1.5;\" x1=\"79.82\" x2=\"328.82\" y1=\"201.9375\" y2=\"201.9375\"/></a><!--MD5=[2156ba9850f5573cc1fc38a6a4b2f02b]\n",
       "class E7--><a href=\"psysml:f099413c-f817-477f-a757-2c07f6450928\" target=\"_top\" title=\"psysml:f099413c-f817-477f-a757-2c07f6450928\" xlink:actuate=\"onRequest\" xlink:href=\"psysml:f099413c-f817-477f-a757-2c07f6450928\" xlink:show=\"new\" xlink:title=\"psysml:f099413c-f817-477f-a757-2c07f6450928\" xlink:type=\"simple\"><rect fill=\"#FFFFFF\" height=\"45.9375\" id=\"E7\" rx=\"10\" ry=\"10\" style=\"stroke: #383838; stroke-width: 1.5;\" width=\"116\" x=\"365.32\" y=\"164\"/><text fill=\"#000000\" font-family=\"sans-serif\" font-size=\"12\" font-style=\"italic\" lengthAdjust=\"spacingAndGlyphs\" textLength=\"82\" x=\"382.32\" y=\"180.1387\">«calculation»</text><text fill=\"#000000\" font-family=\"sans-serif\" font-size=\"12\" lengthAdjust=\"spacingAndGlyphs\" textLength=\"110\" x=\"368.32\" y=\"194.1074\">objectiveFunction</text><line style=\"stroke: #383838; stroke-width: 1.5;\" x1=\"366.32\" x2=\"480.32\" y1=\"201.9375\" y2=\"201.9375\"/></a><!--MD5=[b9389687b975829384b498ac4b7476b2]\n",
       "class E8--><a href=\"psysml:26f566d1-080d-4e4d-ba32-38c38fdc0bde\" target=\"_top\" title=\"psysml:26f566d1-080d-4e4d-ba32-38c38fdc0bde\" xlink:actuate=\"onRequest\" xlink:href=\"psysml:26f566d1-080d-4e4d-ba32-38c38fdc0bde\" xlink:show=\"new\" xlink:title=\"psysml:26f566d1-080d-4e4d-ba32-38c38fdc0bde\" xlink:type=\"simple\"><rect fill=\"#FFFFFF\" height=\"45.9375\" id=\"E8\" rx=\"10\" ry=\"10\" style=\"stroke: #383838; stroke-width: 1.5;\" width=\"124\" x=\"71.32\" y=\"316\"/><text fill=\"#000000\" font-family=\"sans-serif\" font-size=\"12\" font-style=\"italic\" lengthAdjust=\"spacingAndGlyphs\" textLength=\"40\" x=\"113.32\" y=\"332.1387\">«part»</text><text fill=\"#000000\" font-family=\"sans-serif\" font-size=\"12\" lengthAdjust=\"spacingAndGlyphs\" textLength=\"118\" x=\"74.32\" y=\"346.1074\">alternative: Engine</text><line style=\"stroke: #383838; stroke-width: 1.5;\" x1=\"72.32\" x2=\"194.32\" y1=\"353.9375\" y2=\"353.9375\"/></a><!--MD5=[fd4143e9d270a159db93a4ea2a975926]\n",
       "class E9--><a href=\"psysml:7894e875-c3b4-453b-9dc9-b899c04487e6\" target=\"_top\" title=\"psysml:7894e875-c3b4-453b-9dc9-b899c04487e6\" xlink:actuate=\"onRequest\" xlink:href=\"psysml:7894e875-c3b4-453b-9dc9-b899c04487e6\" xlink:show=\"new\" xlink:title=\"psysml:7894e875-c3b4-453b-9dc9-b899c04487e6\" xlink:type=\"simple\"><rect fill=\"#FFFFFF\" height=\"45.9375\" id=\"E9\" rx=\"10\" ry=\"10\" style=\"stroke: #383838; stroke-width: 1.5;\" width=\"178\" x=\"291.32\" y=\"240\"/><text fill=\"#000000\" font-family=\"sans-serif\" font-size=\"12\" font-style=\"italic\" lengthAdjust=\"spacingAndGlyphs\" textLength=\"40\" x=\"360.32\" y=\"256.1387\">«part»</text><text fill=\"#000000\" font-family=\"sans-serif\" font-size=\"12\" lengthAdjust=\"spacingAndGlyphs\" textLength=\"172\" x=\"294.32\" y=\"270.1074\">selectedAlternative: Engine</text><line style=\"stroke: #383838; stroke-width: 1.5;\" x1=\"292.32\" x2=\"468.32\" y1=\"277.9375\" y2=\"277.9375\"/></a><!--MD5=[05d275557350bfb9b23a4ef7222b4c39]\n",
       "link E3 to E2--><a href=\"psysml:8801a447-7348-4a45-a550-3876c92a8627\" target=\"_top\" title=\"psysml:8801a447-7348-4a45-a550-3876c92a8627\" xlink:actuate=\"onRequest\" xlink:href=\"psysml:8801a447-7348-4a45-a550-3876c92a8627\" xlink:show=\"new\" xlink:title=\"psysml:8801a447-7348-4a45-a550-3876c92a8627\" xlink:type=\"simple\"><path d=\"M415.48,362.01 C376.57,379.54 322.27,404.01 282.71,421.84 \" fill=\"none\" id=\"E3-&gt;E2\" style=\"stroke: #383838; stroke-width: 1.0;\"/><polygon fill=\"#FFFFFF\" points=\"264.34,430.12,278.7866,415.9321,284.5383,428.696,264.34,430.12\" style=\"stroke: #383838; stroke-width: 1.0;\"/><ellipse cx=\"284.805\" cy=\"415.4137\" fill=\"#383838\" rx=\"2\" ry=\"2\" style=\"stroke: #383838; stroke-width: 1.0;\"/><ellipse cx=\"288.9134\" cy=\"424.5308\" fill=\"#383838\" rx=\"2\" ry=\"2\" style=\"stroke: #383838; stroke-width: 1.0;\"/></a><!--MD5=[185131fc0dcab0a4505a2ebe144e961b]\n",
       "link E4 to E2--><a href=\"psysml:b9350b5a-5d8f-4ac9-a55f-8ba2d0a1e030\" target=\"_top\" title=\"psysml:b9350b5a-5d8f-4ac9-a55f-8ba2d0a1e030\" xlink:actuate=\"onRequest\" xlink:href=\"psysml:b9350b5a-5d8f-4ac9-a55f-8ba2d0a1e030\" xlink:show=\"new\" xlink:title=\"psysml:b9350b5a-5d8f-4ac9-a55f-8ba2d0a1e030\" xlink:type=\"simple\"><path d=\"M302.45,362.01 C291.25,375.08 276.74,392.01 263.74,407.17 \" fill=\"none\" id=\"E4-&gt;E2\" style=\"stroke: #383838; stroke-width: 1.0;\"/><polygon fill=\"#FFFFFF\" points=\"250.47,422.66,257.5188,403.678,268.1491,412.7883,250.47,422.66\" style=\"stroke: #383838; stroke-width: 1.0;\"/><ellipse cx=\"262.7466\" cy=\"400.6515\" fill=\"#383838\" rx=\"2\" ry=\"2\" style=\"stroke: #383838; stroke-width: 1.0;\"/><ellipse cx=\"270.3396\" cy=\"407.1588\" fill=\"#383838\" rx=\"2\" ry=\"2\" style=\"stroke: #383838; stroke-width: 1.0;\"/></a><!--MD5=[15ebcb19ae302d9b601edb458606d402]\n",
       "link E5 to E2--><a href=\"psysml:ecc21de6-0c62-41d5-be03-95573cca647a\" target=\"_top\" title=\"psysml:ecc21de6-0c62-41d5-be03-95573cca647a\" xlink:actuate=\"onRequest\" xlink:href=\"psysml:ecc21de6-0c62-41d5-be03-95573cca647a\" xlink:show=\"new\" xlink:title=\"psysml:ecc21de6-0c62-41d5-be03-95573cca647a\" xlink:type=\"simple\"><path d=\"M239.76,73.22 C177.99,83.96 102.74,108.45 61.32,164 C8.68,234.61 6,287.72 53.32,362 C83.95,410.08 150.5,430.76 192.99,439.32 \" fill=\"none\" id=\"E5-&gt;E2\" style=\"stroke: #383838; stroke-width: 1.0; stroke-dasharray: 7.0,7.0;\"/><polygon fill=\"#383838\" points=\"198.04,440.31,189.9738,434.6588,193.1327,439.3514,188.4401,442.5104,198.04,440.31\" style=\"stroke: #383838; stroke-width: 1.0;\"/><text fill=\"#000000\" font-family=\"sans-serif\" font-size=\"13\" lengthAdjust=\"spacingAndGlyphs\" textLength=\"62\" x=\"24.32\" y=\"267.5669\">«subject»</text></a><!--MD5=[9120cf2e5df3bff93db8f754bbbc09b4]\n",
       "link E5 to E6--><a href=\"psysml:fcf6c150-3866-4336-9e66-2e65ffb041aa\" target=\"_top\" title=\"psysml:fcf6c150-3866-4336-9e66-2e65ffb041aa\" xlink:actuate=\"onRequest\" xlink:href=\"psysml:fcf6c150-3866-4336-9e66-2e65ffb041aa\" xlink:show=\"new\" xlink:title=\"psysml:fcf6c150-3866-4336-9e66-2e65ffb041aa\" xlink:type=\"simple\"><path d=\"M314.56,87.19 C292.2,107.23 259.21,136.8 235.15,158.37 \" fill=\"none\" id=\"E5-&gt;E6\" style=\"stroke: #383838; stroke-width: 1.0;\"/><polygon fill=\"#383838\" points=\"228.92,163.95,236.8786,160.8419,232.8725,156.3752,228.92,163.95\" style=\"stroke: #383838; stroke-width: 1.0;\"/><text fill=\"#000000\" font-family=\"sans-serif\" font-size=\"13\" lengthAdjust=\"spacingAndGlyphs\" textLength=\"73\" x=\"280.32\" y=\"130.0669\">«objective»</text></a><!--MD5=[452b418e7f8a40397a49b8c0a78acc5b]\n",
       "reverse link E5 to E7--><a href=\"psysml:a988c065-f70c-4bb4-ab6a-fca08357bc4a\" target=\"_top\" title=\"psysml:a988c065-f70c-4bb4-ab6a-fca08357bc4a\" xlink:actuate=\"onRequest\" xlink:href=\"psysml:a988c065-f70c-4bb4-ab6a-fca08357bc4a\" xlink:show=\"new\" xlink:title=\"psysml:a988c065-f70c-4bb4-ab6a-fca08357bc4a\" xlink:type=\"simple\"><path d=\"M362.14,97.88 C376.71,118.86 395.19,145.48 408.01,163.95 \" fill=\"none\" id=\"E5&lt;-E7\" style=\"stroke: #383838; stroke-width: 1.0;\"/><polygon fill=\"#383838\" points=\"354.73,87.19,354.864,94.3999,361.5708,97.0492,361.4368,89.8393,354.73,87.19\" style=\"stroke: #383838; stroke-width: 1.0;\"/></a><!--MD5=[dc164f5e8a733ab456ef1add180e9e34]\n",
       "reverse link E7 to E8--><a href=\"psysml:4295af6e-acd7-489b-9191-c25409e1351b\" target=\"_top\" title=\"psysml:4295af6e-acd7-489b-9191-c25409e1351b\" xlink:actuate=\"onRequest\" xlink:href=\"psysml:4295af6e-acd7-489b-9191-c25409e1351b\" xlink:show=\"new\" xlink:title=\"psysml:4295af6e-acd7-489b-9191-c25409e1351b\" xlink:type=\"simple\"><path d=\"M352.67,208.29 C327.33,216.69 298.96,227.44 274.32,240 C231.96,261.6 187.65,294.33 160.26,315.93 \" fill=\"none\" id=\"E7&lt;-E8\" style=\"stroke: #383838; stroke-width: 1.0;\"/><polygon fill=\"#FFFFFF\" points=\"365.22,204.24,358.2818,202.2749,353.7994,207.9236,360.7376,209.8887,365.22,204.24\" style=\"stroke: #383838; stroke-width: 1.0;\"/><text fill=\"#000000\" font-family=\"sans-serif\" font-size=\"13\" lengthAdjust=\"spacingAndGlyphs\" textLength=\"8\" x=\"158.4251\" y=\"304.8075\">1</text></a><!--MD5=[f1f3f9f2fc535e6147756cb86a7f2e32]\n",
       "link E8 to E2--><a href=\"psysml:aed7fba6-fc0e-4a29-a473-c7d943b57344\" target=\"_top\" title=\"psysml:aed7fba6-fc0e-4a29-a473-c7d943b57344\" xlink:actuate=\"onRequest\" xlink:href=\"psysml:aed7fba6-fc0e-4a29-a473-c7d943b57344\" xlink:show=\"new\" xlink:title=\"psysml:aed7fba6-fc0e-4a29-a473-c7d943b57344\" xlink:type=\"simple\"><path d=\"M153.86,362.01 C166.19,375.22 182.2,392.38 196.46,407.65 \" fill=\"none\" id=\"E8-&gt;E2\" style=\"stroke: #383838; stroke-width: 1.0;\"/><polygon fill=\"#FFFFFF\" points=\"210.47,422.66,192.3921,413.5393,202.6305,403.9907,210.47,422.66\" style=\"stroke: #383838; stroke-width: 1.0;\"/><ellipse cx=\"189.9671\" cy=\"408.0067\" fill=\"#383838\" rx=\"2\" ry=\"2\" style=\"stroke: #383838; stroke-width: 1.0;\"/><ellipse cx=\"197.2802\" cy=\"401.1863\" fill=\"#383838\" rx=\"2\" ry=\"2\" style=\"stroke: #383838; stroke-width: 1.0;\"/></a><!--MD5=[9ae28de373ca99bb8a1b38d63370ca7e]\n",
       "reverse link E5 to E9--><a href=\"psysml:afcc773f-3f6f-47e3-9b17-c2b1fd7bbdc3\" target=\"_top\" title=\"psysml:afcc773f-3f6f-47e3-9b17-c2b1fd7bbdc3\" xlink:actuate=\"onRequest\" xlink:href=\"psysml:afcc773f-3f6f-47e3-9b17-c2b1fd7bbdc3\" xlink:show=\"new\" xlink:title=\"psysml:afcc773f-3f6f-47e3-9b17-c2b1fd7bbdc3\" xlink:type=\"simple\"><path d=\"M416.08,92.77 C447.78,108.48 481.27,131.61 499.32,164 C509.27,181.86 510.51,192.89 499.32,210 C490.86,222.92 478.41,232.65 464.71,239.97 \" fill=\"none\" id=\"E5&lt;-E9\" style=\"stroke: #383838; stroke-width: 1.0;\"/><polygon fill=\"#FFFFFF\" points=\"404.06,87.11,407.7814,93.2867,414.9142,92.2272,411.1928,86.0505,404.06,87.11\" style=\"stroke: #383838; stroke-width: 1.0;\"/><text fill=\"#000000\" font-family=\"sans-serif\" font-size=\"13\" lengthAdjust=\"spacingAndGlyphs\" textLength=\"8\" x=\"477.3099\" y=\"229.2386\">1</text></a><!--MD5=[5c3bb36fe832a92c7f0e1807dd65209d]\n",
       "link E9 to E2--><a href=\"psysml:09d901e9-14a1-4a34-80ae-448f8674b33c\" target=\"_top\" title=\"psysml:09d901e9-14a1-4a34-80ae-448f8674b33c\" xlink:actuate=\"onRequest\" xlink:href=\"psysml:09d901e9-14a1-4a34-80ae-448f8674b33c\" xlink:show=\"new\" xlink:title=\"psysml:09d901e9-14a1-4a34-80ae-448f8674b33c\" xlink:type=\"simple\"><path d=\"M291.19,285.15 C275.57,292.56 260.94,302.55 250.32,316 C231.17,340.25 227.04,375.32 227.36,402.77 \" fill=\"none\" id=\"E9-&gt;E2\" style=\"stroke: #383838; stroke-width: 1.0;\"/><polygon fill=\"#FFFFFF\" points=\"228.36,422.81,220.4186,404.1838,234.4011,403.4837,228.36,422.81\" style=\"stroke: #383838; stroke-width: 1.0;\"/><ellipse cx=\"222.131\" cy=\"398.3909\" fill=\"#383838\" rx=\"2\" ry=\"2\" style=\"stroke: #383838; stroke-width: 1.0;\"/><ellipse cx=\"232.1185\" cy=\"397.8909\" fill=\"#383838\" rx=\"2\" ry=\"2\" style=\"stroke: #383838; stroke-width: 1.0;\"/></a><!--MD5=[744322b34aa2831c05ca3545fd98ee21]\n",
       "@startuml\r\n",
       "top to bottom direction\r\n",
       "skinparam monochrome true\r\n",
       "skinparam classbackgroundcolor white\r\n",
       "skinparam shadowing false\r\n",
       "skinparam wrapWidth 300\r\n",
       "hide circle\r\n",
       "\r\n",
       "package \"TradeStudyTest\" as E1  [[psysml:0d92d0af-a8c4-487d-a88b-e96d8d162758 ]]  {\r\n",
       "comp def \"Engine\" as E2  <<(T,blue) part def>> [[psysml:90b379af-84e4-4b51-bcba-9b20024a2d1f ]] {\r\n",
       "}\r\n",
       "comp usage \"engine1: Engine\" as E3  <<(T,blue) part>> [[psysml:1fe04244-3a7b-4d3a-93e0-0fd9f61a7cea ]] {\r\n",
       "}\r\n",
       "comp usage \"engine2: Engine\" as E4  <<(T,blue) part>> [[psysml:07207da4-9c20-4091-a953-293a54d08950 ]] {\r\n",
       "}\r\n",
       "comp usage \"engineTradeStudy: TradeStudy\" as E5 << analysis>> [[psysml:c0123459-da5a-4fa7-ba13-511d4e5fcdf0 ]] {\r\n",
       "}\r\n",
       "comp usage \"tradeStudyObjective: MaximizeObjective\" as E6  <<(T,blue) requirement>> [[psysml:d3ca6a29-f1f6-48ae-8677-7ec75b0f5c21 ]] {\r\n",
       "}\r\n",
       "comp usage \"objectiveFunction\" as E7  <<(T,blue) calculation>> [[psysml:f099413c-f817-477f-a757-2c07f6450928 ]] {\r\n",
       "}\r\n",
       "comp usage \"alternative: Engine\" as E8  <<(T,blue) part>> [[psysml:26f566d1-080d-4e4d-ba32-38c38fdc0bde ]] {\r\n",
       "}\r\n",
       "comp usage \"selectedAlternative: Engine\" as E9  <<(T,blue) part>> [[psysml:7894e875-c3b4-453b-9dc9-b899c04487e6 ]] {\r\n",
       "}\r\n",
       "E3 - -:|> E2 [[psysml:8801a447-7348-4a45-a550-3876c92a8627 ]] \r\n",
       "E4 - -:|> E2 [[psysml:b9350b5a-5d8f-4ac9-a55f-8ba2d0a1e030 ]] \r\n",
       "E5 ..> E2 [[psysml:ecc21de6-0c62-41d5-be03-95573cca647a ]] : <<subject>>\r\n",
       "E5 - ->> E6 [[psysml:fcf6c150-3866-4336-9e66-2e65ffb041aa ]] : <<objective>>\r\n",
       "E5 *- - E7 [[psysml:a988c065-f70c-4bb4-ab6a-fca08357bc4a ]] \r\n",
       "E7 o- - \"1\"E8 [[psysml:4295af6e-acd7-489b-9191-c25409e1351b ]] \r\n",
       "E8 - -:|> E2 [[psysml:aed7fba6-fc0e-4a29-a473-c7d943b57344 ]] \r\n",
       "E5 o- - \"1\"E9 [[psysml:afcc773f-3f6f-47e3-9b17-c2b1fd7bbdc3 ]] \r\n",
       "E9 - -:|> E2 [[psysml:09d901e9-14a1-4a34-80ae-448f8674b33c ]] \r\n",
       "}\r\n",
       "@enduml\r\n",
       "\n",
       "PlantUML version 1.2020.13(Sat Jun 13 12:26:38 UTC 2020)\n",
       "(EPL source distribution)\n",
       "Java Runtime: OpenJDK Runtime Environment\n",
       "JVM: OpenJDK 64-Bit Server VM\n",
       "Default Encoding: UTF-8\n",
       "Language: en\n",
       "Country: null\n",
       "--></g></svg>"
      ]
     },
     "execution_count": 50,
     "metadata": {},
     "output_type": "execute_result"
    }
   ],
   "source": [
    "%viz --style=\"TB\" --view=\"MIXED\" \"TradeStudyTest\""
   ]
  },
  {
   "cell_type": "code",
   "execution_count": 51,
   "id": "19fabafd",
   "metadata": {
    "execution": {
     "iopub.execute_input": "2021-08-04T06:27:41.621188Z",
     "iopub.status.busy": "2021-08-04T06:27:41.620793Z",
     "iopub.status.idle": "2021-08-04T06:27:41.656857Z",
     "shell.execute_reply": "2021-08-04T06:27:41.656497Z"
    }
   },
   "outputs": [
    {
     "data": {
      "image/svg+xml": [
       "<?xml version=\"1.0\" encoding=\"UTF-8\" standalone=\"no\"?><svg xmlns=\"http://www.w3.org/2000/svg\" xmlns:xlink=\"http://www.w3.org/1999/xlink\" contentScriptType=\"application/ecmascript\" contentStyleType=\"text/css\" height=\"497px\" preserveAspectRatio=\"none\" style=\"width:554px;height:497px;\" version=\"1.1\" viewBox=\"0 0 554 497\" width=\"554px\" zoomAndPan=\"magnify\"><defs/><g><!--MD5=[fbc87193dbaf4d95561dea2c320d4a47]\n",
       "cluster E1--><a href=\"psysml:0d92d0af-a8c4-487d-a88b-e96d8d162758\" target=\"_top\" title=\"psysml:0d92d0af-a8c4-487d-a88b-e96d8d162758\" xlink:actuate=\"onRequest\" xlink:href=\"psysml:0d92d0af-a8c4-487d-a88b-e96d8d162758\" xlink:show=\"new\" xlink:title=\"psysml:0d92d0af-a8c4-487d-a88b-e96d8d162758\" xlink:type=\"simple\"><polygon fill=\"#FFFFFF\" points=\"16,6,148,6,155,28.2969,532,28.2969,532,485,16,485,16,6\" style=\"stroke: #000000; stroke-width: 1.5;\"/><line style=\"stroke: #000000; stroke-width: 1.5;\" x1=\"16\" x2=\"155\" y1=\"28.2969\" y2=\"28.2969\"/><text fill=\"#000000\" font-family=\"sans-serif\" font-size=\"14\" font-weight=\"bold\" lengthAdjust=\"spacingAndGlyphs\" textLength=\"126\" x=\"20\" y=\"20.9951\">TradeStudyTest</text></a><!--MD5=[b4997ac47864f28c2f74865a473b2911]\n",
       "class E2--><a href=\"psysml:90b379af-84e4-4b51-bcba-9b20024a2d1f\" target=\"_top\" title=\"psysml:90b379af-84e4-4b51-bcba-9b20024a2d1f\" xlink:actuate=\"onRequest\" xlink:href=\"psysml:90b379af-84e4-4b51-bcba-9b20024a2d1f\" xlink:show=\"new\" xlink:title=\"psysml:90b379af-84e4-4b51-bcba-9b20024a2d1f\" xlink:type=\"simple\"><rect fill=\"#FFFFFF\" height=\"45.9375\" id=\"E2\" style=\"stroke: #383838; stroke-width: 1.5;\" width=\"66\" x=\"196\" y=\"423\"/><text fill=\"#000000\" font-family=\"sans-serif\" font-size=\"12\" font-style=\"italic\" lengthAdjust=\"spacingAndGlyphs\" textLength=\"64\" x=\"197\" y=\"439.1387\">«part def»</text><text fill=\"#000000\" font-family=\"sans-serif\" font-size=\"12\" lengthAdjust=\"spacingAndGlyphs\" textLength=\"43\" x=\"207.5\" y=\"453.1074\">Engine</text><line style=\"stroke: #383838; stroke-width: 1.5;\" x1=\"197\" x2=\"261\" y1=\"460.9375\" y2=\"460.9375\"/></a><!--MD5=[09b614a08d8cba4a07c9adeb5e0fee81]\n",
       "class E3--><a href=\"psysml:1fe04244-3a7b-4d3a-93e0-0fd9f61a7cea\" target=\"_top\" title=\"psysml:1fe04244-3a7b-4d3a-93e0-0fd9f61a7cea\" xlink:actuate=\"onRequest\" xlink:href=\"psysml:1fe04244-3a7b-4d3a-93e0-0fd9f61a7cea\" xlink:show=\"new\" xlink:title=\"psysml:1fe04244-3a7b-4d3a-93e0-0fd9f61a7cea\" xlink:type=\"simple\"><rect fill=\"#FFFFFF\" height=\"45.9375\" id=\"E3\" rx=\"10\" ry=\"10\" style=\"stroke: #383838; stroke-width: 1.5;\" width=\"108\" x=\"408\" y=\"316\"/><text fill=\"#000000\" font-family=\"sans-serif\" font-size=\"12\" font-style=\"italic\" lengthAdjust=\"spacingAndGlyphs\" textLength=\"40\" x=\"442\" y=\"332.1387\">«part»</text><text fill=\"#000000\" font-family=\"sans-serif\" font-size=\"12\" lengthAdjust=\"spacingAndGlyphs\" textLength=\"102\" x=\"411\" y=\"346.1074\">engine1: Engine</text><line style=\"stroke: #383838; stroke-width: 1.5;\" x1=\"409\" x2=\"515\" y1=\"353.9375\" y2=\"353.9375\"/></a><!--MD5=[ebbe1d658d1005bcc118a6aa81145e00]\n",
       "class E4--><a href=\"psysml:07207da4-9c20-4091-a953-293a54d08950\" target=\"_top\" title=\"psysml:07207da4-9c20-4091-a953-293a54d08950\" xlink:actuate=\"onRequest\" xlink:href=\"psysml:07207da4-9c20-4091-a953-293a54d08950\" xlink:show=\"new\" xlink:title=\"psysml:07207da4-9c20-4091-a953-293a54d08950\" xlink:type=\"simple\"><rect fill=\"#FFFFFF\" height=\"45.9375\" id=\"E4\" rx=\"10\" ry=\"10\" style=\"stroke: #383838; stroke-width: 1.5;\" width=\"108\" x=\"265\" y=\"316\"/><text fill=\"#000000\" font-family=\"sans-serif\" font-size=\"12\" font-style=\"italic\" lengthAdjust=\"spacingAndGlyphs\" textLength=\"40\" x=\"299\" y=\"332.1387\">«part»</text><text fill=\"#000000\" font-family=\"sans-serif\" font-size=\"12\" lengthAdjust=\"spacingAndGlyphs\" textLength=\"102\" x=\"268\" y=\"346.1074\">engine2: Engine</text><line style=\"stroke: #383838; stroke-width: 1.5;\" x1=\"266\" x2=\"372\" y1=\"353.9375\" y2=\"353.9375\"/></a><!--MD5=[270fce915f116d4de14055a7c1d9a0f3]\n",
       "class E5--><a href=\"psysml:c0123459-da5a-4fa7-ba13-511d4e5fcdf0\" target=\"_top\" title=\"psysml:c0123459-da5a-4fa7-ba13-511d4e5fcdf0\" xlink:actuate=\"onRequest\" xlink:href=\"psysml:c0123459-da5a-4fa7-ba13-511d4e5fcdf0\" xlink:show=\"new\" xlink:title=\"psysml:c0123459-da5a-4fa7-ba13-511d4e5fcdf0\" xlink:type=\"simple\"><rect fill=\"#FFFFFF\" height=\"45.9375\" id=\"E5\" rx=\"10\" ry=\"10\" style=\"stroke: #383838; stroke-width: 1.5;\" width=\"199\" x=\"237.5\" y=\"41\"/><text fill=\"#000000\" font-family=\"sans-serif\" font-size=\"12\" font-style=\"italic\" lengthAdjust=\"spacingAndGlyphs\" textLength=\"64\" x=\"305\" y=\"57.1387\">«analysis»</text><text fill=\"#000000\" font-family=\"sans-serif\" font-size=\"12\" lengthAdjust=\"spacingAndGlyphs\" textLength=\"193\" x=\"240.5\" y=\"71.1074\">engineTradeStudy: TradeStudy</text><line style=\"stroke: #383838; stroke-width: 1.5;\" x1=\"238.5\" x2=\"435.5\" y1=\"78.9375\" y2=\"78.9375\"/></a><!--MD5=[60a26617385b1d2d0262a64233df1f8d]\n",
       "class E6--><a href=\"psysml:d3ca6a29-f1f6-48ae-8677-7ec75b0f5c21\" target=\"_top\" title=\"psysml:d3ca6a29-f1f6-48ae-8677-7ec75b0f5c21\" xlink:actuate=\"onRequest\" xlink:href=\"psysml:d3ca6a29-f1f6-48ae-8677-7ec75b0f5c21\" xlink:show=\"new\" xlink:title=\"psysml:d3ca6a29-f1f6-48ae-8677-7ec75b0f5c21\" xlink:type=\"simple\"><rect fill=\"#FFFFFF\" height=\"45.9375\" id=\"E6\" rx=\"10\" ry=\"10\" style=\"stroke: #383838; stroke-width: 1.5;\" width=\"251\" x=\"76.5\" y=\"164\"/><text fill=\"#000000\" font-family=\"sans-serif\" font-size=\"12\" font-style=\"italic\" lengthAdjust=\"spacingAndGlyphs\" textLength=\"91\" x=\"156.5\" y=\"180.1387\">«requirement»</text><text fill=\"#000000\" font-family=\"sans-serif\" font-size=\"12\" lengthAdjust=\"spacingAndGlyphs\" textLength=\"245\" x=\"79.5\" y=\"194.1074\">tradeStudyObjective: MaximizeObjective</text><line style=\"stroke: #383838; stroke-width: 1.5;\" x1=\"77.5\" x2=\"326.5\" y1=\"201.9375\" y2=\"201.9375\"/></a><!--MD5=[2156ba9850f5573cc1fc38a6a4b2f02b]\n",
       "class E7--><a href=\"psysml:f099413c-f817-477f-a757-2c07f6450928\" target=\"_top\" title=\"psysml:f099413c-f817-477f-a757-2c07f6450928\" xlink:actuate=\"onRequest\" xlink:href=\"psysml:f099413c-f817-477f-a757-2c07f6450928\" xlink:show=\"new\" xlink:title=\"psysml:f099413c-f817-477f-a757-2c07f6450928\" xlink:type=\"simple\"><rect fill=\"#FFFFFF\" height=\"45.9375\" id=\"E7\" rx=\"10\" ry=\"10\" style=\"stroke: #383838; stroke-width: 1.5;\" width=\"116\" x=\"363\" y=\"164\"/><text fill=\"#000000\" font-family=\"sans-serif\" font-size=\"12\" font-style=\"italic\" lengthAdjust=\"spacingAndGlyphs\" textLength=\"82\" x=\"380\" y=\"180.1387\">«calculation»</text><text fill=\"#000000\" font-family=\"sans-serif\" font-size=\"12\" lengthAdjust=\"spacingAndGlyphs\" textLength=\"110\" x=\"366\" y=\"194.1074\">objectiveFunction</text><line style=\"stroke: #383838; stroke-width: 1.5;\" x1=\"364\" x2=\"478\" y1=\"201.9375\" y2=\"201.9375\"/></a><!--MD5=[b9389687b975829384b498ac4b7476b2]\n",
       "class E8--><a href=\"psysml:26f566d1-080d-4e4d-ba32-38c38fdc0bde\" target=\"_top\" title=\"psysml:26f566d1-080d-4e4d-ba32-38c38fdc0bde\" xlink:actuate=\"onRequest\" xlink:href=\"psysml:26f566d1-080d-4e4d-ba32-38c38fdc0bde\" xlink:show=\"new\" xlink:title=\"psysml:26f566d1-080d-4e4d-ba32-38c38fdc0bde\" xlink:type=\"simple\"><rect fill=\"#FFFFFF\" height=\"45.9375\" id=\"E8\" rx=\"10\" ry=\"10\" style=\"stroke: #383838; stroke-width: 1.5;\" width=\"124\" x=\"69\" y=\"316\"/><text fill=\"#000000\" font-family=\"sans-serif\" font-size=\"12\" font-style=\"italic\" lengthAdjust=\"spacingAndGlyphs\" textLength=\"40\" x=\"111\" y=\"332.1387\">«part»</text><text fill=\"#000000\" font-family=\"sans-serif\" font-size=\"12\" lengthAdjust=\"spacingAndGlyphs\" textLength=\"118\" x=\"72\" y=\"346.1074\">alternative: Engine</text><line style=\"stroke: #383838; stroke-width: 1.5;\" x1=\"70\" x2=\"192\" y1=\"353.9375\" y2=\"353.9375\"/></a><!--MD5=[fd4143e9d270a159db93a4ea2a975926]\n",
       "class E9--><a href=\"psysml:7894e875-c3b4-453b-9dc9-b899c04487e6\" target=\"_top\" title=\"psysml:7894e875-c3b4-453b-9dc9-b899c04487e6\" xlink:actuate=\"onRequest\" xlink:href=\"psysml:7894e875-c3b4-453b-9dc9-b899c04487e6\" xlink:show=\"new\" xlink:title=\"psysml:7894e875-c3b4-453b-9dc9-b899c04487e6\" xlink:type=\"simple\"><rect fill=\"#FFFFFF\" height=\"45.9375\" id=\"E9\" rx=\"10\" ry=\"10\" style=\"stroke: #383838; stroke-width: 1.5;\" width=\"178\" x=\"289\" y=\"240\"/><text fill=\"#000000\" font-family=\"sans-serif\" font-size=\"12\" font-style=\"italic\" lengthAdjust=\"spacingAndGlyphs\" textLength=\"40\" x=\"358\" y=\"256.1387\">«part»</text><text fill=\"#000000\" font-family=\"sans-serif\" font-size=\"12\" lengthAdjust=\"spacingAndGlyphs\" textLength=\"172\" x=\"292\" y=\"270.1074\">selectedAlternative: Engine</text><line style=\"stroke: #383838; stroke-width: 1.5;\" x1=\"290\" x2=\"466\" y1=\"277.9375\" y2=\"277.9375\"/></a><!--MD5=[05d275557350bfb9b23a4ef7222b4c39]\n",
       "link E3 to E2--><a href=\"psysml:8801a447-7348-4a45-a550-3876c92a8627\" target=\"_top\" title=\"psysml:8801a447-7348-4a45-a550-3876c92a8627\" xlink:actuate=\"onRequest\" xlink:href=\"psysml:8801a447-7348-4a45-a550-3876c92a8627\" xlink:show=\"new\" xlink:title=\"psysml:8801a447-7348-4a45-a550-3876c92a8627\" xlink:type=\"simple\"><path d=\"M462,362.22 C462,393.69 462,446 462,446 C462,446 282.38,446 282.38,446 \" fill=\"none\" id=\"E3-&gt;E2\" style=\"stroke: #383838; stroke-width: 1.0;\"/><polygon fill=\"#FFFFFF\" points=\"262.38,446,281.38,439,281.38,453,262.38,446\" style=\"stroke: #383838; stroke-width: 1.0;\"/><ellipse cx=\"287.08\" cy=\"441\" fill=\"#383838\" rx=\"2\" ry=\"2\" style=\"stroke: #383838; stroke-width: 1.0;\"/><ellipse cx=\"287.08\" cy=\"451\" fill=\"#383838\" rx=\"2\" ry=\"2\" style=\"stroke: #383838; stroke-width: 1.0;\"/></a><!--MD5=[185131fc0dcab0a4505a2ebe144e961b]\n",
       "link E4 to E2--><a href=\"psysml:b9350b5a-5d8f-4ac9-a55f-8ba2d0a1e030\" target=\"_top\" title=\"psysml:b9350b5a-5d8f-4ac9-a55f-8ba2d0a1e030\" xlink:actuate=\"onRequest\" xlink:href=\"psysml:b9350b5a-5d8f-4ac9-a55f-8ba2d0a1e030\" xlink:show=\"new\" xlink:title=\"psysml:b9350b5a-5d8f-4ac9-a55f-8ba2d0a1e030\" xlink:type=\"simple\"><path d=\"M264.73,347 C255.49,347 248.8,347 248.8,347 C248.8,347 248.8,402.79 248.8,402.79 \" fill=\"none\" id=\"E4-&gt;E2\" style=\"stroke: #383838; stroke-width: 1.0;\"/><polygon fill=\"#FFFFFF\" points=\"248.8,422.79,241.8,403.79,255.8,403.79,248.8,422.79\" style=\"stroke: #383838; stroke-width: 1.0;\"/><ellipse cx=\"243.8\" cy=\"398.09\" fill=\"#383838\" rx=\"2\" ry=\"2\" style=\"stroke: #383838; stroke-width: 1.0;\"/><ellipse cx=\"253.8\" cy=\"398.09\" fill=\"#383838\" rx=\"2\" ry=\"2\" style=\"stroke: #383838; stroke-width: 1.0;\"/></a><!--MD5=[15ebcb19ae302d9b601edb458606d402]\n",
       "link E5 to E2--><a href=\"psysml:ecc21de6-0c62-41d5-be03-95573cca647a\" target=\"_top\" title=\"psysml:ecc21de6-0c62-41d5-be03-95573cca647a\" xlink:actuate=\"onRequest\" xlink:href=\"psysml:ecc21de6-0c62-41d5-be03-95573cca647a\" xlink:show=\"new\" xlink:title=\"psysml:ecc21de6-0c62-41d5-be03-95573cca647a\" xlink:type=\"simple\"><path d=\"M339.33,87.02 C339.33,130.41 339.33,220 339.33,220 C339.33,220 222.4,220 222.4,220 C222.4,220 222.4,417.67 222.4,417.67 \" fill=\"none\" id=\"E5-&gt;E2\" style=\"stroke: #383838; stroke-width: 1.0; stroke-dasharray: 7.0,7.0;\"/><polygon fill=\"#383838\" points=\"222.4,422.67,226.4,413.67,222.4,417.67,218.4,413.67,222.4,422.67\" style=\"stroke: #383838; stroke-width: 1.0;\"/><text fill=\"#000000\" font-family=\"sans-serif\" font-size=\"13\" lengthAdjust=\"spacingAndGlyphs\" textLength=\"62\" x=\"68\" y=\"267.5669\">«subject»</text></a><!--MD5=[9120cf2e5df3bff93db8f754bbbc09b4]\n",
       "link E5 to E6--><a href=\"psysml:fcf6c150-3866-4336-9e66-2e65ffb041aa\" target=\"_top\" title=\"psysml:fcf6c150-3866-4336-9e66-2e65ffb041aa\" xlink:actuate=\"onRequest\" xlink:href=\"psysml:fcf6c150-3866-4336-9e66-2e65ffb041aa\" xlink:show=\"new\" xlink:title=\"psysml:fcf6c150-3866-4336-9e66-2e65ffb041aa\" xlink:type=\"simple\"><path d=\"M282.5,87.14 C282.5,87.14 282.5,155.97 282.5,155.97 \" fill=\"none\" id=\"E5-&gt;E6\" style=\"stroke: #383838; stroke-width: 1.0;\"/><polygon fill=\"#383838\" points=\"282.5,163.97,285.5,155.97,279.5,155.97,282.5,163.97\" style=\"stroke: #383838; stroke-width: 1.0;\"/><text fill=\"#000000\" font-family=\"sans-serif\" font-size=\"13\" lengthAdjust=\"spacingAndGlyphs\" textLength=\"73\" x=\"231\" y=\"130.0669\">«objective»</text></a><!--MD5=[452b418e7f8a40397a49b8c0a78acc5b]\n",
       "reverse link E5 to E7--><a href=\"psysml:a988c065-f70c-4bb4-ab6a-fca08357bc4a\" target=\"_top\" title=\"psysml:a988c065-f70c-4bb4-ab6a-fca08357bc4a\" xlink:actuate=\"onRequest\" xlink:href=\"psysml:a988c065-f70c-4bb4-ab6a-fca08357bc4a\" xlink:show=\"new\" xlink:title=\"psysml:a988c065-f70c-4bb4-ab6a-fca08357bc4a\" xlink:type=\"simple\"><path d=\"M399.75,100.14 C399.75,100.14 399.75,163.97 399.75,163.97 \" fill=\"none\" id=\"E5&lt;-E7\" style=\"stroke: #383838; stroke-width: 1.0;\"/><polygon fill=\"#383838\" points=\"399.75,87.14,395.75,93.14,399.75,99.14,403.75,93.14,399.75,87.14\" style=\"stroke: #383838; stroke-width: 1.0;\"/></a><!--MD5=[dc164f5e8a733ab456ef1add180e9e34]\n",
       "reverse link E7 to E8--><a href=\"psysml:4295af6e-acd7-489b-9191-c25409e1351b\" target=\"_top\" title=\"psysml:4295af6e-acd7-489b-9191-c25409e1351b\" xlink:actuate=\"onRequest\" xlink:href=\"psysml:4295af6e-acd7-489b-9191-c25409e1351b\" xlink:show=\"new\" xlink:title=\"psysml:4295af6e-acd7-489b-9191-c25409e1351b\" xlink:type=\"simple\"><path d=\"M415,223.01 C415,223.01 415,230 415,230 C415,230 134.75,230 134.75,230 C134.75,230 134.75,283.89 134.75,315.88 \" fill=\"none\" id=\"E7&lt;-E8\" style=\"stroke: #383838; stroke-width: 1.0;\"/><polygon fill=\"#FFFFFF\" points=\"415,210.01,411,216.01,415,222.01,419,216.01,415,210.01\" style=\"stroke: #383838; stroke-width: 1.0;\"/><text fill=\"#000000\" font-family=\"sans-serif\" font-size=\"13\" lengthAdjust=\"spacingAndGlyphs\" textLength=\"8\" x=\"126.6828\" y=\"304.744\">1</text></a><!--MD5=[f1f3f9f2fc535e6147756cb86a7f2e32]\n",
       "link E8 to E2--><a href=\"psysml:aed7fba6-fc0e-4a29-a473-c7d943b57344\" target=\"_top\" title=\"psysml:aed7fba6-fc0e-4a29-a473-c7d943b57344\" xlink:actuate=\"onRequest\" xlink:href=\"psysml:aed7fba6-fc0e-4a29-a473-c7d943b57344\" xlink:show=\"new\" xlink:title=\"psysml:aed7fba6-fc0e-4a29-a473-c7d943b57344\" xlink:type=\"simple\"><path d=\"M193.38,332 C202.67,332 209.2,332 209.2,332 C209.2,332 209.2,402.93 209.2,402.93 \" fill=\"none\" id=\"E8-&gt;E2\" style=\"stroke: #383838; stroke-width: 1.0;\"/><polygon fill=\"#FFFFFF\" points=\"209.2,422.93,202.2,403.93,216.2,403.93,209.2,422.93\" style=\"stroke: #383838; stroke-width: 1.0;\"/><ellipse cx=\"204.2\" cy=\"398.23\" fill=\"#383838\" rx=\"2\" ry=\"2\" style=\"stroke: #383838; stroke-width: 1.0;\"/><ellipse cx=\"214.2\" cy=\"398.23\" fill=\"#383838\" rx=\"2\" ry=\"2\" style=\"stroke: #383838; stroke-width: 1.0;\"/></a><!--MD5=[9ae28de373ca99bb8a1b38d63370ca7e]\n",
       "reverse link E5 to E9--><a href=\"psysml:afcc773f-3f6f-47e3-9b17-c2b1fd7bbdc3\" target=\"_top\" title=\"psysml:afcc773f-3f6f-47e3-9b17-c2b1fd7bbdc3\" xlink:actuate=\"onRequest\" xlink:href=\"psysml:afcc773f-3f6f-47e3-9b17-c2b1fd7bbdc3\" xlink:show=\"new\" xlink:title=\"psysml:afcc773f-3f6f-47e3-9b17-c2b1fd7bbdc3\" xlink:type=\"simple\"><path d=\"M351.17,100.22 C351.17,100.22 351.17,239.93 351.17,239.93 \" fill=\"none\" id=\"E5&lt;-E9\" style=\"stroke: #383838; stroke-width: 1.0;\"/><polygon fill=\"#FFFFFF\" points=\"351.17,87.22,347.17,93.22,351.17,99.22,355.17,93.22,351.17,87.22\" style=\"stroke: #383838; stroke-width: 1.0;\"/><text fill=\"#000000\" font-family=\"sans-serif\" font-size=\"13\" lengthAdjust=\"spacingAndGlyphs\" textLength=\"8\" x=\"334.8844\" y=\"228.8075\">1</text></a><!--MD5=[5c3bb36fe832a92c7f0e1807dd65209d]\n",
       "link E9 to E2--><a href=\"psysml:09d901e9-14a1-4a34-80ae-448f8674b33c\" target=\"_top\" title=\"psysml:09d901e9-14a1-4a34-80ae-448f8674b33c\" xlink:actuate=\"onRequest\" xlink:href=\"psysml:09d901e9-14a1-4a34-80ae-448f8674b33c\" xlink:show=\"new\" xlink:title=\"psysml:09d901e9-14a1-4a34-80ae-448f8674b33c\" xlink:type=\"simple\"><path d=\"M288.62,263 C260.01,263 235.6,263 235.6,263 C235.6,263 235.6,402.82 235.6,402.82 \" fill=\"none\" id=\"E9-&gt;E2\" style=\"stroke: #383838; stroke-width: 1.0;\"/><polygon fill=\"#FFFFFF\" points=\"235.6,422.82,228.6,403.82,242.6,403.82,235.6,422.82\" style=\"stroke: #383838; stroke-width: 1.0;\"/><ellipse cx=\"230.6\" cy=\"398.12\" fill=\"#383838\" rx=\"2\" ry=\"2\" style=\"stroke: #383838; stroke-width: 1.0;\"/><ellipse cx=\"240.6\" cy=\"398.12\" fill=\"#383838\" rx=\"2\" ry=\"2\" style=\"stroke: #383838; stroke-width: 1.0;\"/></a><!--MD5=[c5ed62cc802761bf4376b9c4d803287c]\n",
       "@startuml\r\n",
       "skinparam linetype ortho\r\n",
       "skinparam monochrome true\r\n",
       "skinparam classbackgroundcolor white\r\n",
       "skinparam shadowing false\r\n",
       "skinparam wrapWidth 300\r\n",
       "hide circle\r\n",
       "\r\n",
       "package \"TradeStudyTest\" as E1  [[psysml:0d92d0af-a8c4-487d-a88b-e96d8d162758 ]]  {\r\n",
       "comp def \"Engine\" as E2  <<(T,blue) part def>> [[psysml:90b379af-84e4-4b51-bcba-9b20024a2d1f ]] {\r\n",
       "}\r\n",
       "comp usage \"engine1: Engine\" as E3  <<(T,blue) part>> [[psysml:1fe04244-3a7b-4d3a-93e0-0fd9f61a7cea ]] {\r\n",
       "}\r\n",
       "comp usage \"engine2: Engine\" as E4  <<(T,blue) part>> [[psysml:07207da4-9c20-4091-a953-293a54d08950 ]] {\r\n",
       "}\r\n",
       "comp usage \"engineTradeStudy: TradeStudy\" as E5 << analysis>> [[psysml:c0123459-da5a-4fa7-ba13-511d4e5fcdf0 ]] {\r\n",
       "}\r\n",
       "comp usage \"tradeStudyObjective: MaximizeObjective\" as E6  <<(T,blue) requirement>> [[psysml:d3ca6a29-f1f6-48ae-8677-7ec75b0f5c21 ]] {\r\n",
       "}\r\n",
       "comp usage \"objectiveFunction\" as E7  <<(T,blue) calculation>> [[psysml:f099413c-f817-477f-a757-2c07f6450928 ]] {\r\n",
       "}\r\n",
       "comp usage \"alternative: Engine\" as E8  <<(T,blue) part>> [[psysml:26f566d1-080d-4e4d-ba32-38c38fdc0bde ]] {\r\n",
       "}\r\n",
       "comp usage \"selectedAlternative: Engine\" as E9  <<(T,blue) part>> [[psysml:7894e875-c3b4-453b-9dc9-b899c04487e6 ]] {\r\n",
       "}\r\n",
       "E3 - -:|> E2 [[psysml:8801a447-7348-4a45-a550-3876c92a8627 ]] \r\n",
       "E4 - -:|> E2 [[psysml:b9350b5a-5d8f-4ac9-a55f-8ba2d0a1e030 ]] \r\n",
       "E5 ..> E2 [[psysml:ecc21de6-0c62-41d5-be03-95573cca647a ]] : <<subject>>\r\n",
       "E5 - ->> E6 [[psysml:fcf6c150-3866-4336-9e66-2e65ffb041aa ]] : <<objective>>\r\n",
       "E5 *- - E7 [[psysml:a988c065-f70c-4bb4-ab6a-fca08357bc4a ]] \r\n",
       "E7 o- - \"1\"E8 [[psysml:4295af6e-acd7-489b-9191-c25409e1351b ]] \r\n",
       "E8 - -:|> E2 [[psysml:aed7fba6-fc0e-4a29-a473-c7d943b57344 ]] \r\n",
       "E5 o- - \"1\"E9 [[psysml:afcc773f-3f6f-47e3-9b17-c2b1fd7bbdc3 ]] \r\n",
       "E9 - -:|> E2 [[psysml:09d901e9-14a1-4a34-80ae-448f8674b33c ]] \r\n",
       "}\r\n",
       "@enduml\r\n",
       "\n",
       "PlantUML version 1.2020.13(Sat Jun 13 12:26:38 UTC 2020)\n",
       "(EPL source distribution)\n",
       "Java Runtime: OpenJDK Runtime Environment\n",
       "JVM: OpenJDK 64-Bit Server VM\n",
       "Default Encoding: UTF-8\n",
       "Language: en\n",
       "Country: null\n",
       "--></g></svg>"
      ]
     },
     "execution_count": 51,
     "metadata": {},
     "output_type": "execute_result"
    }
   ],
   "source": [
    "%viz --style=\"ORTHOLINE\" --view=\"Default\" \"TradeStudyTest\""
   ]
  },
  {
   "cell_type": "code",
   "execution_count": 52,
   "id": "fff9ce9b",
   "metadata": {
    "execution": {
     "iopub.execute_input": "2021-08-04T06:27:41.706553Z",
     "iopub.status.busy": "2021-08-04T06:27:41.706149Z",
     "iopub.status.idle": "2021-08-04T06:27:41.736192Z",
     "shell.execute_reply": "2021-08-04T06:27:41.735845Z"
    }
   },
   "outputs": [
    {
     "data": {
      "image/svg+xml": [
       "<?xml version=\"1.0\" encoding=\"UTF-8\" standalone=\"no\"?><svg xmlns=\"http://www.w3.org/2000/svg\" xmlns:xlink=\"http://www.w3.org/1999/xlink\" contentScriptType=\"application/ecmascript\" contentStyleType=\"text/css\" height=\"345px\" preserveAspectRatio=\"none\" style=\"width:955px;height:345px;\" version=\"1.1\" viewBox=\"0 0 955 345\" width=\"955px\" zoomAndPan=\"magnify\"><defs/><g><!--MD5=[fbc87193dbaf4d95561dea2c320d4a47]\n",
       "cluster E1--><a href=\"psysml:0d92d0af-a8c4-487d-a88b-e96d8d162758\" target=\"_top\" title=\"psysml:0d92d0af-a8c4-487d-a88b-e96d8d162758\" xlink:actuate=\"onRequest\" xlink:href=\"psysml:0d92d0af-a8c4-487d-a88b-e96d8d162758\" xlink:show=\"new\" xlink:title=\"psysml:0d92d0af-a8c4-487d-a88b-e96d8d162758\" xlink:type=\"simple\"><polygon fill=\"#FFFFFF\" points=\"16,6,148,6,155,28.2969,933,28.2969,933,333,16,333,16,6\" style=\"stroke: #000000; stroke-width: 1.5;\"/><line style=\"stroke: #000000; stroke-width: 1.5;\" x1=\"16\" x2=\"155\" y1=\"28.2969\" y2=\"28.2969\"/><text fill=\"#000000\" font-family=\"sans-serif\" font-size=\"14\" font-weight=\"bold\" lengthAdjust=\"spacingAndGlyphs\" textLength=\"126\" x=\"20\" y=\"20.9951\">TradeStudyTest</text></a><!--MD5=[b4997ac47864f28c2f74865a473b2911]\n",
       "class E2--><a href=\"psysml:90b379af-84e4-4b51-bcba-9b20024a2d1f\" target=\"_top\" title=\"psysml:90b379af-84e4-4b51-bcba-9b20024a2d1f\" xlink:actuate=\"onRequest\" xlink:href=\"psysml:90b379af-84e4-4b51-bcba-9b20024a2d1f\" xlink:show=\"new\" xlink:title=\"psysml:90b379af-84e4-4b51-bcba-9b20024a2d1f\" xlink:type=\"simple\"><rect fill=\"#FFFFFF\" height=\"45.9375\" id=\"E2\" style=\"stroke: #383838; stroke-width: 1.5;\" width=\"66\" x=\"598\" y=\"271\"/><text fill=\"#000000\" font-family=\"sans-serif\" font-size=\"12\" font-style=\"italic\" lengthAdjust=\"spacingAndGlyphs\" textLength=\"64\" x=\"599\" y=\"287.1387\">«part def»</text><text fill=\"#000000\" font-family=\"sans-serif\" font-size=\"12\" lengthAdjust=\"spacingAndGlyphs\" textLength=\"43\" x=\"609.5\" y=\"301.1074\">Engine</text><line style=\"stroke: #383838; stroke-width: 1.5;\" x1=\"599\" x2=\"663\" y1=\"308.9375\" y2=\"308.9375\"/></a><!--MD5=[09b614a08d8cba4a07c9adeb5e0fee81]\n",
       "class E3--><a href=\"psysml:1fe04244-3a7b-4d3a-93e0-0fd9f61a7cea\" target=\"_top\" title=\"psysml:1fe04244-3a7b-4d3a-93e0-0fd9f61a7cea\" xlink:actuate=\"onRequest\" xlink:href=\"psysml:1fe04244-3a7b-4d3a-93e0-0fd9f61a7cea\" xlink:show=\"new\" xlink:title=\"psysml:1fe04244-3a7b-4d3a-93e0-0fd9f61a7cea\" xlink:type=\"simple\"><rect fill=\"#FFFFFF\" height=\"45.9375\" id=\"E3\" rx=\"10\" ry=\"10\" style=\"stroke: #383838; stroke-width: 1.5;\" width=\"108\" x=\"809\" y=\"164\"/><text fill=\"#000000\" font-family=\"sans-serif\" font-size=\"12\" font-style=\"italic\" lengthAdjust=\"spacingAndGlyphs\" textLength=\"40\" x=\"843\" y=\"180.1387\">«part»</text><text fill=\"#000000\" font-family=\"sans-serif\" font-size=\"12\" lengthAdjust=\"spacingAndGlyphs\" textLength=\"102\" x=\"812\" y=\"194.1074\">engine1: Engine</text><line style=\"stroke: #383838; stroke-width: 1.5;\" x1=\"810\" x2=\"916\" y1=\"201.9375\" y2=\"201.9375\"/></a><!--MD5=[ebbe1d658d1005bcc118a6aa81145e00]\n",
       "class E4--><a href=\"psysml:07207da4-9c20-4091-a953-293a54d08950\" target=\"_top\" title=\"psysml:07207da4-9c20-4091-a953-293a54d08950\" xlink:actuate=\"onRequest\" xlink:href=\"psysml:07207da4-9c20-4091-a953-293a54d08950\" xlink:show=\"new\" xlink:title=\"psysml:07207da4-9c20-4091-a953-293a54d08950\" xlink:type=\"simple\"><rect fill=\"#FFFFFF\" height=\"45.9375\" id=\"E4\" rx=\"10\" ry=\"10\" style=\"stroke: #383838; stroke-width: 1.5;\" width=\"108\" x=\"666\" y=\"164\"/><text fill=\"#000000\" font-family=\"sans-serif\" font-size=\"12\" font-style=\"italic\" lengthAdjust=\"spacingAndGlyphs\" textLength=\"40\" x=\"700\" y=\"180.1387\">«part»</text><text fill=\"#000000\" font-family=\"sans-serif\" font-size=\"12\" lengthAdjust=\"spacingAndGlyphs\" textLength=\"102\" x=\"669\" y=\"194.1074\">engine2: Engine</text><line style=\"stroke: #383838; stroke-width: 1.5;\" x1=\"667\" x2=\"773\" y1=\"201.9375\" y2=\"201.9375\"/></a><!--MD5=[270fce915f116d4de14055a7c1d9a0f3]\n",
       "class E5--><a href=\"psysml:c0123459-da5a-4fa7-ba13-511d4e5fcdf0\" target=\"_top\" title=\"psysml:c0123459-da5a-4fa7-ba13-511d4e5fcdf0\" xlink:actuate=\"onRequest\" xlink:href=\"psysml:c0123459-da5a-4fa7-ba13-511d4e5fcdf0\" xlink:show=\"new\" xlink:title=\"psysml:c0123459-da5a-4fa7-ba13-511d4e5fcdf0\" xlink:type=\"simple\"><rect fill=\"#FFFFFF\" height=\"45.9375\" id=\"E5\" rx=\"10\" ry=\"10\" style=\"stroke: #383838; stroke-width: 1.5;\" width=\"199\" x=\"192.5\" y=\"41\"/><text fill=\"#000000\" font-family=\"sans-serif\" font-size=\"12\" font-style=\"italic\" lengthAdjust=\"spacingAndGlyphs\" textLength=\"64\" x=\"260\" y=\"57.1387\">«analysis»</text><text fill=\"#000000\" font-family=\"sans-serif\" font-size=\"12\" lengthAdjust=\"spacingAndGlyphs\" textLength=\"193\" x=\"195.5\" y=\"71.1074\">engineTradeStudy: TradeStudy</text><line style=\"stroke: #383838; stroke-width: 1.5;\" x1=\"193.5\" x2=\"390.5\" y1=\"78.9375\" y2=\"78.9375\"/></a><!--MD5=[60a26617385b1d2d0262a64233df1f8d]\n",
       "class E6--><a href=\"psysml:d3ca6a29-f1f6-48ae-8677-7ec75b0f5c21\" target=\"_top\" title=\"psysml:d3ca6a29-f1f6-48ae-8677-7ec75b0f5c21\" xlink:actuate=\"onRequest\" xlink:href=\"psysml:d3ca6a29-f1f6-48ae-8677-7ec75b0f5c21\" xlink:show=\"new\" xlink:title=\"psysml:d3ca6a29-f1f6-48ae-8677-7ec75b0f5c21\" xlink:type=\"simple\"><rect fill=\"#FFFFFF\" height=\"45.9375\" id=\"E6\" rx=\"10\" ry=\"10\" style=\"stroke: #383838; stroke-width: 1.5;\" width=\"251\" x=\"166.5\" y=\"164\"/><text fill=\"#000000\" font-family=\"sans-serif\" font-size=\"12\" font-style=\"italic\" lengthAdjust=\"spacingAndGlyphs\" textLength=\"91\" x=\"246.5\" y=\"180.1387\">«requirement»</text><text fill=\"#000000\" font-family=\"sans-serif\" font-size=\"12\" lengthAdjust=\"spacingAndGlyphs\" textLength=\"245\" x=\"169.5\" y=\"194.1074\">tradeStudyObjective: MaximizeObjective</text><line style=\"stroke: #383838; stroke-width: 1.5;\" x1=\"167.5\" x2=\"416.5\" y1=\"201.9375\" y2=\"201.9375\"/></a><!--MD5=[2156ba9850f5573cc1fc38a6a4b2f02b]\n",
       "class E7--><a href=\"psysml:7894e875-c3b4-453b-9dc9-b899c04487e6\" target=\"_top\" title=\"psysml:7894e875-c3b4-453b-9dc9-b899c04487e6\" xlink:actuate=\"onRequest\" xlink:href=\"psysml:7894e875-c3b4-453b-9dc9-b899c04487e6\" xlink:show=\"new\" xlink:title=\"psysml:7894e875-c3b4-453b-9dc9-b899c04487e6\" xlink:type=\"simple\"><rect fill=\"#FFFFFF\" height=\"45.9375\" id=\"E7\" rx=\"10\" ry=\"10\" style=\"stroke: #383838; stroke-width: 1.5;\" width=\"178\" x=\"453\" y=\"164\"/><text fill=\"#000000\" font-family=\"sans-serif\" font-size=\"12\" font-style=\"italic\" lengthAdjust=\"spacingAndGlyphs\" textLength=\"40\" x=\"522\" y=\"180.1387\">«part»</text><text fill=\"#000000\" font-family=\"sans-serif\" font-size=\"12\" lengthAdjust=\"spacingAndGlyphs\" textLength=\"172\" x=\"456\" y=\"194.1074\">selectedAlternative: Engine</text><line style=\"stroke: #383838; stroke-width: 1.5;\" x1=\"454\" x2=\"630\" y1=\"201.9375\" y2=\"201.9375\"/></a><!--MD5=[05d275557350bfb9b23a4ef7222b4c39]\n",
       "link E3 to E2--><a href=\"psysml:8801a447-7348-4a45-a550-3876c92a8627\" target=\"_top\" title=\"psysml:8801a447-7348-4a45-a550-3876c92a8627\" xlink:actuate=\"onRequest\" xlink:href=\"psysml:8801a447-7348-4a45-a550-3876c92a8627\" xlink:show=\"new\" xlink:title=\"psysml:8801a447-7348-4a45-a550-3876c92a8627\" xlink:type=\"simple\"><path d=\"M863,210.22 C863,241.69 863,294 863,294 C863,294 684.24,294 684.24,294 \" fill=\"none\" id=\"E3-&gt;E2\" style=\"stroke: #383838; stroke-width: 1.0;\"/><polygon fill=\"#FFFFFF\" points=\"664.24,294,683.24,287,683.24,301,664.24,294\" style=\"stroke: #383838; stroke-width: 1.0;\"/><ellipse cx=\"688.94\" cy=\"289\" fill=\"#383838\" rx=\"2\" ry=\"2\" style=\"stroke: #383838; stroke-width: 1.0;\"/><ellipse cx=\"688.94\" cy=\"299\" fill=\"#383838\" rx=\"2\" ry=\"2\" style=\"stroke: #383838; stroke-width: 1.0;\"/></a><!--MD5=[185131fc0dcab0a4505a2ebe144e961b]\n",
       "link E4 to E2--><a href=\"psysml:b9350b5a-5d8f-4ac9-a55f-8ba2d0a1e030\" target=\"_top\" title=\"psysml:b9350b5a-5d8f-4ac9-a55f-8ba2d0a1e030\" xlink:actuate=\"onRequest\" xlink:href=\"psysml:b9350b5a-5d8f-4ac9-a55f-8ba2d0a1e030\" xlink:show=\"new\" xlink:title=\"psysml:b9350b5a-5d8f-4ac9-a55f-8ba2d0a1e030\" xlink:type=\"simple\"><path d=\"M665.92,187 C658.3,187 653,187 653,187 C653,187 653,250.78 653,250.78 \" fill=\"none\" id=\"E4-&gt;E2\" style=\"stroke: #383838; stroke-width: 1.0;\"/><polygon fill=\"#FFFFFF\" points=\"653,270.78,646,251.78,660,251.78,653,270.78\" style=\"stroke: #383838; stroke-width: 1.0;\"/><ellipse cx=\"648\" cy=\"246.08\" fill=\"#383838\" rx=\"2\" ry=\"2\" style=\"stroke: #383838; stroke-width: 1.0;\"/><ellipse cx=\"658\" cy=\"246.08\" fill=\"#383838\" rx=\"2\" ry=\"2\" style=\"stroke: #383838; stroke-width: 1.0;\"/></a><!--MD5=[15ebcb19ae302d9b601edb458606d402]\n",
       "link E5 to E2--><a href=\"psysml:ecc21de6-0c62-41d5-be03-95573cca647a\" target=\"_top\" title=\"psysml:ecc21de6-0c62-41d5-be03-95573cca647a\" xlink:actuate=\"onRequest\" xlink:href=\"psysml:ecc21de6-0c62-41d5-be03-95573cca647a\" xlink:show=\"new\" xlink:title=\"psysml:ecc21de6-0c62-41d5-be03-95573cca647a\" xlink:type=\"simple\"><path d=\"M391.83,57 C495.28,57 642,57 642,57 C642,57 642,265.84 642,265.84 \" fill=\"none\" id=\"E5-&gt;E2\" style=\"stroke: #383838; stroke-width: 1.0; stroke-dasharray: 7.0,7.0;\"/><polygon fill=\"#383838\" points=\"642,270.84,646,261.84,642,265.84,638,261.84,642,270.84\" style=\"stroke: #383838; stroke-width: 1.0;\"/><text fill=\"#000000\" font-family=\"sans-serif\" font-size=\"13\" lengthAdjust=\"spacingAndGlyphs\" textLength=\"62\" x=\"68\" y=\"191.5669\">«subject»</text></a><!--MD5=[9120cf2e5df3bff93db8f754bbbc09b4]\n",
       "link E5 to E6--><a href=\"psysml:fcf6c150-3866-4336-9e66-2e65ffb041aa\" target=\"_top\" title=\"psysml:fcf6c150-3866-4336-9e66-2e65ffb041aa\" xlink:actuate=\"onRequest\" xlink:href=\"psysml:fcf6c150-3866-4336-9e66-2e65ffb041aa\" xlink:show=\"new\" xlink:title=\"psysml:fcf6c150-3866-4336-9e66-2e65ffb041aa\" xlink:type=\"simple\"><path d=\"M292,87.14 C292,87.14 292,155.97 292,155.97 \" fill=\"none\" id=\"E5-&gt;E6\" style=\"stroke: #383838; stroke-width: 1.0;\"/><polygon fill=\"#383838\" points=\"292,163.97,295,155.97,289,155.97,292,163.97\" style=\"stroke: #383838; stroke-width: 1.0;\"/><text fill=\"#000000\" font-family=\"sans-serif\" font-size=\"13\" lengthAdjust=\"spacingAndGlyphs\" textLength=\"73\" x=\"293\" y=\"130.0669\">«objective»</text></a><!--MD5=[452b418e7f8a40397a49b8c0a78acc5b]\n",
       "reverse link E5 to E7--><a href=\"psysml:afcc773f-3f6f-47e3-9b17-c2b1fd7bbdc3\" target=\"_top\" title=\"psysml:afcc773f-3f6f-47e3-9b17-c2b1fd7bbdc3\" xlink:actuate=\"onRequest\" xlink:href=\"psysml:afcc773f-3f6f-47e3-9b17-c2b1fd7bbdc3\" xlink:show=\"new\" xlink:title=\"psysml:afcc773f-3f6f-47e3-9b17-c2b1fd7bbdc3\" xlink:type=\"simple\"><path d=\"M404.52,72 C404.52,72 542,72 542,72 C542,72 542,130.12 542,163.73 \" fill=\"none\" id=\"E5&lt;-E7\" style=\"stroke: #383838; stroke-width: 1.0;\"/><polygon fill=\"#FFFFFF\" points=\"391.52,72,397.52,76,403.52,72,397.52,68,391.52,72\" style=\"stroke: #383838; stroke-width: 1.0;\"/><text fill=\"#000000\" font-family=\"sans-serif\" font-size=\"13\" lengthAdjust=\"spacingAndGlyphs\" textLength=\"8\" x=\"532.975\" y=\"152.9371\">1</text></a><!--MD5=[583832df87f4419a098336a29a52fa00]\n",
       "link E7 to E2--><a href=\"psysml:09d901e9-14a1-4a34-80ae-448f8674b33c\" target=\"_top\" title=\"psysml:09d901e9-14a1-4a34-80ae-448f8674b33c\" xlink:actuate=\"onRequest\" xlink:href=\"psysml:09d901e9-14a1-4a34-80ae-448f8674b33c\" xlink:show=\"new\" xlink:title=\"psysml:09d901e9-14a1-4a34-80ae-448f8674b33c\" xlink:type=\"simple\"><path d=\"M614.5,210.22 C614.5,210.22 614.5,250.83 614.5,250.83 \" fill=\"none\" id=\"E7-&gt;E2\" style=\"stroke: #383838; stroke-width: 1.0;\"/><polygon fill=\"#FFFFFF\" points=\"614.5,270.83,607.5,251.83,621.5,251.83,614.5,270.83\" style=\"stroke: #383838; stroke-width: 1.0;\"/><ellipse cx=\"609.5\" cy=\"246.13\" fill=\"#383838\" rx=\"2\" ry=\"2\" style=\"stroke: #383838; stroke-width: 1.0;\"/><ellipse cx=\"619.5\" cy=\"246.13\" fill=\"#383838\" rx=\"2\" ry=\"2\" style=\"stroke: #383838; stroke-width: 1.0;\"/></a><!--MD5=[03b562c0c9971a842bb34abaa9c5956d]\n",
       "@startuml\r\n",
       "skinparam linetype ortho\r\n",
       "skinparam monochrome true\r\n",
       "skinparam classbackgroundcolor white\r\n",
       "skinparam shadowing false\r\n",
       "skinparam wrapWidth 300\r\n",
       "hide circle\r\n",
       "\r\n",
       "package \"TradeStudyTest\" as E1  [[psysml:0d92d0af-a8c4-487d-a88b-e96d8d162758 ]]  {\r\n",
       "comp def \"Engine\" as E2  <<(T,blue) part def>> [[psysml:90b379af-84e4-4b51-bcba-9b20024a2d1f ]] {\r\n",
       "}\r\n",
       "comp usage \"engine1: Engine\" as E3  <<(T,blue) part>> [[psysml:1fe04244-3a7b-4d3a-93e0-0fd9f61a7cea ]] {\r\n",
       "}\r\n",
       "comp usage \"engine2: Engine\" as E4  <<(T,blue) part>> [[psysml:07207da4-9c20-4091-a953-293a54d08950 ]] {\r\n",
       "}\r\n",
       "comp usage \"engineTradeStudy: TradeStudy\" as E5 << analysis>> [[psysml:c0123459-da5a-4fa7-ba13-511d4e5fcdf0 ]] {\r\n",
       "}\r\n",
       "comp usage \"tradeStudyObjective: MaximizeObjective\" as E6  <<(T,blue) requirement>> [[psysml:d3ca6a29-f1f6-48ae-8677-7ec75b0f5c21 ]] {\r\n",
       "}\r\n",
       "comp usage \"selectedAlternative: Engine\" as E7  <<(T,blue) part>> [[psysml:7894e875-c3b4-453b-9dc9-b899c04487e6 ]] {\r\n",
       "}\r\n",
       "E3 - -:|> E2 [[psysml:8801a447-7348-4a45-a550-3876c92a8627 ]] \r\n",
       "E4 - -:|> E2 [[psysml:b9350b5a-5d8f-4ac9-a55f-8ba2d0a1e030 ]] \r\n",
       "E5 ..> E2 [[psysml:ecc21de6-0c62-41d5-be03-95573cca647a ]] : <<subject>>\r\n",
       "E5 - ->> E6 [[psysml:fcf6c150-3866-4336-9e66-2e65ffb041aa ]] : <<objective>>\r\n",
       "E5 o- - \"1\"E7 [[psysml:afcc773f-3f6f-47e3-9b17-c2b1fd7bbdc3 ]] \r\n",
       "E7 - -:|> E2 [[psysml:09d901e9-14a1-4a34-80ae-448f8674b33c ]] \r\n",
       "}\r\n",
       "@enduml\r\n",
       "\n",
       "PlantUML version 1.2020.13(Sat Jun 13 12:26:38 UTC 2020)\n",
       "(EPL source distribution)\n",
       "Java Runtime: OpenJDK Runtime Environment\n",
       "JVM: OpenJDK 64-Bit Server VM\n",
       "Default Encoding: UTF-8\n",
       "Language: en\n",
       "Country: null\n",
       "--></g></svg>"
      ]
     },
     "execution_count": 52,
     "metadata": {},
     "output_type": "execute_result"
    }
   ],
   "source": [
    "%viz --style=\"ORTHOLINE\" --view=\"Tree\" \"TradeStudyTest\""
   ]
  },
  {
   "cell_type": "code",
   "execution_count": 53,
   "id": "f9100676",
   "metadata": {
    "execution": {
     "iopub.execute_input": "2021-08-04T06:27:41.786072Z",
     "iopub.status.busy": "2021-08-04T06:27:41.785676Z",
     "iopub.status.idle": "2021-08-04T06:27:41.791111Z",
     "shell.execute_reply": "2021-08-04T06:27:41.790766Z"
    }
   },
   "outputs": [
    {
     "data": {
      "image/svg+xml": [
       "<?xml version=\"1.0\" encoding=\"UTF-8\" standalone=\"no\"?><svg xmlns=\"http://www.w3.org/2000/svg\" xmlns:xlink=\"http://www.w3.org/1999/xlink\" contentScriptType=\"application/ecmascript\" contentStyleType=\"text/css\" height=\"12px\" preserveAspectRatio=\"none\" style=\"width:12px;height:12px;\" version=\"1.1\" viewBox=\"0 0 12 12\" width=\"12px\" zoomAndPan=\"magnify\"><defs/><g><!--MD5=[97d6f38768b311333d388e66b2b27985]\n",
       "@startuml\r\n",
       "skinparam linetype ortho\r\n",
       "skinparam monochrome true\r\n",
       "skinparam classbackgroundcolor white\r\n",
       "skinparam shadowing false\r\n",
       "skinparam wrapWidth 300\r\n",
       "hide circle\r\n",
       "\r\n",
       "@enduml\r\n",
       "\n",
       "PlantUML version 1.2020.13(Sat Jun 13 12:26:38 UTC 2020)\n",
       "(EPL source distribution)\n",
       "Java Runtime: OpenJDK Runtime Environment\n",
       "JVM: OpenJDK 64-Bit Server VM\n",
       "Default Encoding: UTF-8\n",
       "Language: en\n",
       "Country: null\n",
       "--></g></svg>"
      ]
     },
     "execution_count": 53,
     "metadata": {},
     "output_type": "execute_result"
    }
   ],
   "source": [
    "%viz --style=\"ORTHOLINE\" --view=\"State\" \"TradeStudyTest\""
   ]
  },
  {
   "cell_type": "code",
   "execution_count": 54,
   "id": "ac9f967e",
   "metadata": {
    "execution": {
     "iopub.execute_input": "2021-08-04T06:27:41.841086Z",
     "iopub.status.busy": "2021-08-04T06:27:41.840682Z",
     "iopub.status.idle": "2021-08-04T06:27:41.872155Z",
     "shell.execute_reply": "2021-08-04T06:27:41.870907Z"
    }
   },
   "outputs": [
    {
     "data": {
      "image/svg+xml": [
       "<?xml version=\"1.0\" encoding=\"UTF-8\" standalone=\"no\"?><svg xmlns=\"http://www.w3.org/2000/svg\" xmlns:xlink=\"http://www.w3.org/1999/xlink\" contentScriptType=\"application/ecmascript\" contentStyleType=\"text/css\" height=\"334px\" preserveAspectRatio=\"none\" style=\"width:566px;height:334px;\" version=\"1.1\" viewBox=\"0 0 566 334\" width=\"566px\" zoomAndPan=\"magnify\"><defs/><g><!--MD5=[fbc87193dbaf4d95561dea2c320d4a47]\n",
       "cluster E1--><a href=\"psysml:0d92d0af-a8c4-487d-a88b-e96d8d162758\" target=\"_top\" title=\"psysml:0d92d0af-a8c4-487d-a88b-e96d8d162758\" xlink:actuate=\"onRequest\" xlink:href=\"psysml:0d92d0af-a8c4-487d-a88b-e96d8d162758\" xlink:show=\"new\" xlink:title=\"psysml:0d92d0af-a8c4-487d-a88b-e96d8d162758\" xlink:type=\"simple\"><polygon fill=\"#FFFFFF\" points=\"16,6,148,6,155,28.2969,544,28.2969,544,322,16,322,16,6\" style=\"stroke: #000000; stroke-width: 1.5;\"/><line style=\"stroke: #000000; stroke-width: 1.5;\" x1=\"16\" x2=\"155\" y1=\"28.2969\" y2=\"28.2969\"/><text fill=\"#000000\" font-family=\"sans-serif\" font-size=\"14\" font-weight=\"bold\" lengthAdjust=\"spacingAndGlyphs\" textLength=\"126\" x=\"20\" y=\"20.9951\">TradeStudyTest</text></a><!--MD5=[270fce915f116d4de14055a7c1d9a0f3]\n",
       "class E5--><a href=\"psysml:c0123459-da5a-4fa7-ba13-511d4e5fcdf0\" target=\"_top\" title=\"psysml:c0123459-da5a-4fa7-ba13-511d4e5fcdf0\" xlink:actuate=\"onRequest\" xlink:href=\"psysml:c0123459-da5a-4fa7-ba13-511d4e5fcdf0\" xlink:show=\"new\" xlink:title=\"psysml:c0123459-da5a-4fa7-ba13-511d4e5fcdf0\" xlink:type=\"simple\"><rect fill=\"#FFFFFF\" height=\"45.9375\" id=\"E5\" rx=\"10\" ry=\"10\" style=\"stroke: #383838; stroke-width: 1.5;\" width=\"199\" x=\"328.5\" y=\"41\"/><text fill=\"#000000\" font-family=\"sans-serif\" font-size=\"12\" font-style=\"italic\" lengthAdjust=\"spacingAndGlyphs\" textLength=\"64\" x=\"396\" y=\"57.1387\">«analysis»</text><text fill=\"#000000\" font-family=\"sans-serif\" font-size=\"12\" lengthAdjust=\"spacingAndGlyphs\" textLength=\"193\" x=\"331.5\" y=\"71.1074\">engineTradeStudy: TradeStudy</text><line style=\"stroke: #383838; stroke-width: 1.5;\" x1=\"329.5\" x2=\"526.5\" y1=\"78.9375\" y2=\"78.9375\"/></a><!--MD5=[60a26617385b1d2d0262a64233df1f8d]\n",
       "class E6--><a href=\"psysml:d3ca6a29-f1f6-48ae-8677-7ec75b0f5c21\" target=\"_top\" title=\"psysml:d3ca6a29-f1f6-48ae-8677-7ec75b0f5c21\" xlink:actuate=\"onRequest\" xlink:href=\"psysml:d3ca6a29-f1f6-48ae-8677-7ec75b0f5c21\" xlink:show=\"new\" xlink:title=\"psysml:d3ca6a29-f1f6-48ae-8677-7ec75b0f5c21\" xlink:type=\"simple\"><rect fill=\"#FFFFFF\" height=\"45.9375\" id=\"E6\" rx=\"10\" ry=\"10\" style=\"stroke: #383838; stroke-width: 1.5;\" width=\"251\" x=\"32.5\" y=\"120\"/><text fill=\"#000000\" font-family=\"sans-serif\" font-size=\"12\" font-style=\"italic\" lengthAdjust=\"spacingAndGlyphs\" textLength=\"91\" x=\"112.5\" y=\"136.1387\">«requirement»</text><text fill=\"#000000\" font-family=\"sans-serif\" font-size=\"12\" lengthAdjust=\"spacingAndGlyphs\" textLength=\"245\" x=\"35.5\" y=\"150.1074\">tradeStudyObjective: MaximizeObjective</text><line style=\"stroke: #383838; stroke-width: 1.5;\" x1=\"33.5\" x2=\"282.5\" y1=\"157.9375\" y2=\"157.9375\"/></a><!--MD5=[2156ba9850f5573cc1fc38a6a4b2f02b]\n",
       "class E7--><a href=\"psysml:f099413c-f817-477f-a757-2c07f6450928\" target=\"_top\" title=\"psysml:f099413c-f817-477f-a757-2c07f6450928\" xlink:actuate=\"onRequest\" xlink:href=\"psysml:f099413c-f817-477f-a757-2c07f6450928\" xlink:show=\"new\" xlink:title=\"psysml:f099413c-f817-477f-a757-2c07f6450928\" xlink:type=\"simple\"><rect fill=\"#FFFFFF\" height=\"45.9375\" id=\"E7\" rx=\"10\" ry=\"10\" style=\"stroke: #383838; stroke-width: 1.5;\" width=\"116\" x=\"319\" y=\"120\"/><text fill=\"#000000\" font-family=\"sans-serif\" font-size=\"12\" font-style=\"italic\" lengthAdjust=\"spacingAndGlyphs\" textLength=\"82\" x=\"336\" y=\"136.1387\">«calculation»</text><text fill=\"#000000\" font-family=\"sans-serif\" font-size=\"12\" lengthAdjust=\"spacingAndGlyphs\" textLength=\"110\" x=\"322\" y=\"150.1074\">objectiveFunction</text><line style=\"stroke: #383838; stroke-width: 1.5;\" x1=\"320\" x2=\"434\" y1=\"157.9375\" y2=\"157.9375\"/></a><!--MD5=[b9389687b975829384b498ac4b7476b2]\n",
       "class E8--><a href=\"psysml:26f566d1-080d-4e4d-ba32-38c38fdc0bde\" target=\"_top\" title=\"psysml:26f566d1-080d-4e4d-ba32-38c38fdc0bde\" xlink:actuate=\"onRequest\" xlink:href=\"psysml:26f566d1-080d-4e4d-ba32-38c38fdc0bde\" xlink:show=\"new\" xlink:title=\"psysml:26f566d1-080d-4e4d-ba32-38c38fdc0bde\" xlink:type=\"simple\"><rect fill=\"#FFFFFF\" height=\"31.9688\" id=\"E8\" rx=\"10\" ry=\"10\" style=\"stroke: #383838; stroke-width: 1.5;\" width=\"124\" x=\"178\" y=\"214\"/><text fill=\"#000000\" font-family=\"sans-serif\" font-size=\"12\" lengthAdjust=\"spacingAndGlyphs\" textLength=\"118\" x=\"181\" y=\"230.1387\">alternative: Engine</text><line style=\"stroke: #383838; stroke-width: 1.5;\" x1=\"179\" x2=\"301\" y1=\"237.9688\" y2=\"237.9688\"/></a><!--MD5=[fd4143e9d270a159db93a4ea2a975926]\n",
       "class E9--><a href=\"psysml:7894e875-c3b4-453b-9dc9-b899c04487e6\" target=\"_top\" title=\"psysml:7894e875-c3b4-453b-9dc9-b899c04487e6\" xlink:actuate=\"onRequest\" xlink:href=\"psysml:7894e875-c3b4-453b-9dc9-b899c04487e6\" xlink:show=\"new\" xlink:title=\"psysml:7894e875-c3b4-453b-9dc9-b899c04487e6\" xlink:type=\"simple\"><rect fill=\"#FFFFFF\" height=\"31.9688\" id=\"E9\" rx=\"10\" ry=\"10\" style=\"stroke: #383838; stroke-width: 1.5;\" width=\"178\" x=\"246\" y=\"174\"/><text fill=\"#000000\" font-family=\"sans-serif\" font-size=\"12\" lengthAdjust=\"spacingAndGlyphs\" textLength=\"172\" x=\"249\" y=\"190.1387\">selectedAlternative: Engine</text><line style=\"stroke: #383838; stroke-width: 1.5;\" x1=\"247\" x2=\"423\" y1=\"197.9688\" y2=\"197.9688\"/></a><g id=\"E1.E2\"><a href=\"psysml:90b379af-84e4-4b51-bcba-9b20024a2d1f\" target=\"_top\" title=\"psysml:90b379af-84e4-4b51-bcba-9b20024a2d1f\" xlink:actuate=\"onRequest\" xlink:href=\"psysml:90b379af-84e4-4b51-bcba-9b20024a2d1f\" xlink:show=\"new\" xlink:title=\"psysml:90b379af-84e4-4b51-bcba-9b20024a2d1f\" xlink:type=\"simple\"><rect fill=\"#FFFFFF\" height=\"42.9375\" id=\"E2\" style=\"stroke: #383838; stroke-width: 1.5;\" width=\"71\" x=\"302.5\" y=\"263\"/><rect fill=\"#F8F8F8\" height=\"37.9375\" style=\"stroke: #383838; stroke-width: 1.5;\" width=\"71\" x=\"302.5\" y=\"263\"/><text fill=\"#000000\" font-family=\"sans-serif\" font-size=\"12\" font-style=\"italic\" lengthAdjust=\"spacingAndGlyphs\" textLength=\"64\" x=\"306\" y=\"279.1387\">«part def»</text><text fill=\"#000000\" font-family=\"sans-serif\" font-size=\"12\" lengthAdjust=\"spacingAndGlyphs\" textLength=\"43\" x=\"316.5\" y=\"293.1074\">Engine</text></a></g><g id=\"E1.E3\"><a href=\"psysml:1fe04244-3a7b-4d3a-93e0-0fd9f61a7cea\" target=\"_top\" title=\"psysml:1fe04244-3a7b-4d3a-93e0-0fd9f61a7cea\" xlink:actuate=\"onRequest\" xlink:href=\"psysml:1fe04244-3a7b-4d3a-93e0-0fd9f61a7cea\" xlink:show=\"new\" xlink:title=\"psysml:1fe04244-3a7b-4d3a-93e0-0fd9f61a7cea\" xlink:type=\"simple\"><rect fill=\"#FFFFFF\" height=\"40\" id=\"E3\" rx=\"10\" ry=\"10\" style=\"stroke: #383838; stroke-width: 1.5;\" width=\"113\" x=\"180.5\" y=\"44\"/><rect fill=\"#F8F8F8\" height=\"23.9688\" rx=\"10\" ry=\"10\" style=\"stroke: #F8F8F8; stroke-width: 1.5;\" width=\"113\" x=\"180.5\" y=\"44\"/><rect fill=\"#F8F8F8\" height=\"10\" style=\"stroke: #F8F8F8; stroke-width: 1.5;\" width=\"113\" x=\"180.5\" y=\"57.9688\"/><rect fill=\"none\" height=\"40\" id=\"E3\" rx=\"10\" ry=\"10\" style=\"stroke: #383838; stroke-width: 1.5;\" width=\"113\" x=\"180.5\" y=\"44\"/><text fill=\"#000000\" font-family=\"sans-serif\" font-size=\"12\" lengthAdjust=\"spacingAndGlyphs\" textLength=\"102\" x=\"186\" y=\"60.1387\">engine1: Engine</text></a></g><g id=\"E1.E4\"><a href=\"psysml:07207da4-9c20-4091-a953-293a54d08950\" target=\"_top\" title=\"psysml:07207da4-9c20-4091-a953-293a54d08950\" xlink:actuate=\"onRequest\" xlink:href=\"psysml:07207da4-9c20-4091-a953-293a54d08950\" xlink:show=\"new\" xlink:title=\"psysml:07207da4-9c20-4091-a953-293a54d08950\" xlink:type=\"simple\"><rect fill=\"#FFFFFF\" height=\"40\" id=\"E4\" rx=\"10\" ry=\"10\" style=\"stroke: #383838; stroke-width: 1.5;\" width=\"113\" x=\"32.5\" y=\"44\"/><rect fill=\"#F8F8F8\" height=\"23.9688\" rx=\"10\" ry=\"10\" style=\"stroke: #F8F8F8; stroke-width: 1.5;\" width=\"113\" x=\"32.5\" y=\"44\"/><rect fill=\"#F8F8F8\" height=\"10\" style=\"stroke: #F8F8F8; stroke-width: 1.5;\" width=\"113\" x=\"32.5\" y=\"57.9688\"/><rect fill=\"none\" height=\"40\" id=\"E4\" rx=\"10\" ry=\"10\" style=\"stroke: #383838; stroke-width: 1.5;\" width=\"113\" x=\"32.5\" y=\"44\"/><text fill=\"#000000\" font-family=\"sans-serif\" font-size=\"12\" lengthAdjust=\"spacingAndGlyphs\" textLength=\"102\" x=\"38\" y=\"60.1387\">engine2: Engine</text></a></g><!--MD5=[15ebcb19ae302d9b601edb458606d402]\n",
       "link E5 to E2--><a href=\"psysml:ecc21de6-0c62-41d5-be03-95573cca647a\" target=\"_top\" title=\"psysml:ecc21de6-0c62-41d5-be03-95573cca647a\" xlink:actuate=\"onRequest\" xlink:href=\"psysml:ecc21de6-0c62-41d5-be03-95573cca647a\" xlink:show=\"new\" xlink:title=\"psysml:ecc21de6-0c62-41d5-be03-95573cca647a\" xlink:type=\"simple\"><path d=\"M481.25,87.23 C481.25,143.97 481.25,285 481.25,285 C481.25,285 378.78,285 378.78,285 \" fill=\"none\" id=\"E5-&gt;E2\" style=\"stroke: #383838; stroke-width: 1.0; stroke-dasharray: 7.0,7.0;\"/><polygon fill=\"#383838\" points=\"373.78,285,382.78,289,378.78,285,382.78,281,373.78,285\" style=\"stroke: #383838; stroke-width: 1.0;\"/><text fill=\"#000000\" font-family=\"sans-serif\" font-size=\"13\" lengthAdjust=\"spacingAndGlyphs\" textLength=\"62\" x=\"465\" y=\"194.5669\">«subject»</text></a><!--MD5=[9120cf2e5df3bff93db8f754bbbc09b4]\n",
       "link E5 to E6--><a href=\"psysml:fcf6c150-3866-4336-9e66-2e65ffb041aa\" target=\"_top\" title=\"psysml:fcf6c150-3866-4336-9e66-2e65ffb041aa\" xlink:actuate=\"onRequest\" xlink:href=\"psysml:fcf6c150-3866-4336-9e66-2e65ffb041aa\" xlink:show=\"new\" xlink:title=\"psysml:fcf6c150-3866-4336-9e66-2e65ffb041aa\" xlink:type=\"simple\"><path d=\"M328.41,58 C312.96,58 302,58 302,58 C302,58 302,143 302,143 C302,143 291.76,143 291.76,143 \" fill=\"none\" id=\"E5-&gt;E6\" style=\"stroke: #383838; stroke-width: 1.0;\"/><polygon fill=\"#383838\" points=\"283.76,143,291.76,146,291.76,140,283.76,143\" style=\"stroke: #383838; stroke-width: 1.0;\"/><text fill=\"#000000\" font-family=\"sans-serif\" font-size=\"13\" lengthAdjust=\"spacingAndGlyphs\" textLength=\"73\" x=\"228\" y=\"108.0669\">«objective»</text></a><!--MD5=[452b418e7f8a40397a49b8c0a78acc5b]\n",
       "reverse link E5 to E7--><a href=\"psysml:a988c065-f70c-4bb4-ab6a-fca08357bc4a\" target=\"_top\" title=\"psysml:a988c065-f70c-4bb4-ab6a-fca08357bc4a\" xlink:actuate=\"onRequest\" xlink:href=\"psysml:a988c065-f70c-4bb4-ab6a-fca08357bc4a\" xlink:show=\"new\" xlink:title=\"psysml:a988c065-f70c-4bb4-ab6a-fca08357bc4a\" xlink:type=\"simple\"><path d=\"M381.75,100.28 C381.75,100.28 381.75,119.89 381.75,119.89 \" fill=\"none\" id=\"E5&lt;-E7\" style=\"stroke: #383838; stroke-width: 1.0;\"/><polygon fill=\"#383838\" points=\"381.75,87.28,377.75,93.28,381.75,99.28,385.75,93.28,381.75,87.28\" style=\"stroke: #383838; stroke-width: 1.0;\"/></a><!--MD5=[dc164f5e8a733ab456ef1add180e9e34]\n",
       "reverse link E7 to E8--><a href=\"psysml:4295af6e-acd7-489b-9191-c25409e1351b\" target=\"_top\" title=\"psysml:4295af6e-acd7-489b-9191-c25409e1351b\" xlink:actuate=\"onRequest\" xlink:href=\"psysml:4295af6e-acd7-489b-9191-c25409e1351b\" xlink:show=\"new\" xlink:title=\"psysml:4295af6e-acd7-489b-9191-c25409e1351b\" xlink:type=\"simple\"><path d=\"M429.5,179.28 C429.5,179.28 429.5,225 429.5,225 C429.5,225 357.32,225 302.05,225 \" fill=\"none\" id=\"E7&lt;-E8\" style=\"stroke: #383838; stroke-width: 1.0;\"/><polygon fill=\"#FFFFFF\" points=\"429.5,166.28,425.5,172.28,429.5,178.28,433.5,172.28,429.5,166.28\" style=\"stroke: #383838; stroke-width: 1.0;\"/><text fill=\"#000000\" font-family=\"sans-serif\" font-size=\"13\" lengthAdjust=\"spacingAndGlyphs\" textLength=\"8\" x=\"305.7892\" y=\"225.9301\">1</text></a><!--MD5=[f1f3f9f2fc535e6147756cb86a7f2e32]\n",
       "link E8 to E2--><a href=\"psysml:aed7fba6-fc0e-4a29-a473-c7d943b57344\" target=\"_top\" title=\"psysml:aed7fba6-fc0e-4a29-a473-c7d943b57344\" xlink:actuate=\"onRequest\" xlink:href=\"psysml:aed7fba6-fc0e-4a29-a473-c7d943b57344\" xlink:show=\"new\" xlink:title=\"psysml:aed7fba6-fc0e-4a29-a473-c7d943b57344\" xlink:type=\"simple\"><path d=\"M302.16,236 C315.75,236 326.17,236 326.17,236 C326.17,236 326.17,242.8 326.17,242.8 \" fill=\"none\" id=\"E8-&gt;E2\" style=\"stroke: #383838; stroke-width: 1.0;\"/><polygon fill=\"#FFFFFF\" points=\"326.17,262.8,319.17,243.8,333.17,243.8,326.17,262.8\" style=\"stroke: #383838; stroke-width: 1.0;\"/><ellipse cx=\"321.17\" cy=\"238.1\" fill=\"#383838\" rx=\"2\" ry=\"2\" style=\"stroke: #383838; stroke-width: 1.0;\"/><ellipse cx=\"331.17\" cy=\"238.1\" fill=\"#383838\" rx=\"2\" ry=\"2\" style=\"stroke: #383838; stroke-width: 1.0;\"/></a><!--MD5=[9ae28de373ca99bb8a1b38d63370ca7e]\n",
       "reverse link E5 to E9--><a href=\"psysml:afcc773f-3f6f-47e3-9b17-c2b1fd7bbdc3\" target=\"_top\" title=\"psysml:afcc773f-3f6f-47e3-9b17-c2b1fd7bbdc3\" xlink:actuate=\"onRequest\" xlink:href=\"psysml:afcc773f-3f6f-47e3-9b17-c2b1fd7bbdc3\" xlink:show=\"new\" xlink:title=\"psysml:afcc773f-3f6f-47e3-9b17-c2b1fd7bbdc3\" xlink:type=\"simple\"><path d=\"M315.35,71 C315.35,71 310.5,71 310.5,71 C310.5,71 310.5,141.47 310.5,173.95 \" fill=\"none\" id=\"E5&lt;-E9\" style=\"stroke: #383838; stroke-width: 1.0;\"/><polygon fill=\"#FFFFFF\" points=\"328.35,71,322.35,67,316.35,71,322.35,75,328.35,71\" style=\"stroke: #383838; stroke-width: 1.0;\"/><text fill=\"#000000\" font-family=\"sans-serif\" font-size=\"13\" lengthAdjust=\"spacingAndGlyphs\" textLength=\"8\" x=\"292.7031\" y=\"162.9498\">1</text></a><!--MD5=[5c3bb36fe832a92c7f0e1807dd65209d]\n",
       "link E9 to E2--><a href=\"psysml:09d901e9-14a1-4a34-80ae-448f8674b33c\" target=\"_top\" title=\"psysml:09d901e9-14a1-4a34-80ae-448f8674b33c\" xlink:actuate=\"onRequest\" xlink:href=\"psysml:09d901e9-14a1-4a34-80ae-448f8674b33c\" xlink:show=\"new\" xlink:title=\"psysml:09d901e9-14a1-4a34-80ae-448f8674b33c\" xlink:type=\"simple\"><path d=\"M349.83,206.03 C349.83,206.03 349.83,242.71 349.83,242.71 \" fill=\"none\" id=\"E9-&gt;E2\" style=\"stroke: #383838; stroke-width: 1.0;\"/><polygon fill=\"#FFFFFF\" points=\"349.83,262.71,342.83,243.71,356.83,243.71,349.83,262.71\" style=\"stroke: #383838; stroke-width: 1.0;\"/><ellipse cx=\"344.83\" cy=\"238.01\" fill=\"#383838\" rx=\"2\" ry=\"2\" style=\"stroke: #383838; stroke-width: 1.0;\"/><ellipse cx=\"354.83\" cy=\"238.01\" fill=\"#383838\" rx=\"2\" ry=\"2\" style=\"stroke: #383838; stroke-width: 1.0;\"/></a><!--MD5=[8ed32737c710f753e828b916dfb696bb]\n",
       "@startuml\r\n",
       "skinparam ranksep 10\r\n",
       "skinparam rectangle {\r\n",
       " backgroundColor<<block>> LightGreen\r\n",
       "}\r\n",
       "skinparam linetype ortho\r\n",
       "skinparam monochrome true\r\n",
       "skinparam classbackgroundcolor white\r\n",
       "skinparam shadowing false\r\n",
       "skinparam wrapWidth 300\r\n",
       "hide circle\r\n",
       "\r\n",
       "package \"TradeStudyTest\" as E1  [[psysml:0d92d0af-a8c4-487d-a88b-e96d8d162758 ]]  {\r\n",
       "rec def \"Engine\" as E2  <<(T,blue) part def>> [[psysml:90b379af-84e4-4b51-bcba-9b20024a2d1f ]] {\r\n",
       "}\r\n",
       "rec usage \"engine1: Engine\" as E3  [[psysml:1fe04244-3a7b-4d3a-93e0-0fd9f61a7cea ]] {\r\n",
       "}\r\n",
       "rec usage \"engine2: Engine\" as E4  [[psysml:07207da4-9c20-4091-a953-293a54d08950 ]] {\r\n",
       "}\r\n",
       "comp usage \"engineTradeStudy: TradeStudy\" as E5 << analysis>> [[psysml:c0123459-da5a-4fa7-ba13-511d4e5fcdf0 ]] {\r\n",
       "}\r\n",
       "comp usage \"tradeStudyObjective: MaximizeObjective\" as E6  <<(T,blue) requirement>> [[psysml:d3ca6a29-f1f6-48ae-8677-7ec75b0f5c21 ]] {\r\n",
       "}\r\n",
       "comp usage \"objectiveFunction\" as E7  <<(T,blue) calculation>> [[psysml:f099413c-f817-477f-a757-2c07f6450928 ]] {\r\n",
       "}\r\n",
       "comp usage \"alternative: Engine\" as E8  [[psysml:26f566d1-080d-4e4d-ba32-38c38fdc0bde ]] {\r\n",
       "}\r\n",
       "comp usage \"selectedAlternative: Engine\" as E9  [[psysml:7894e875-c3b4-453b-9dc9-b899c04487e6 ]] {\r\n",
       "}\r\n",
       "E5 ..> E2 [[psysml:ecc21de6-0c62-41d5-be03-95573cca647a ]] : <<subject>>\r\n",
       "E5 - ->> E6 [[psysml:fcf6c150-3866-4336-9e66-2e65ffb041aa ]] : <<objective>>\r\n",
       "E5 *- - E7 [[psysml:a988c065-f70c-4bb4-ab6a-fca08357bc4a ]] \r\n",
       "E7 o- - \"1\"E8 [[psysml:4295af6e-acd7-489b-9191-c25409e1351b ]] \r\n",
       "E8 - -:|> E2 [[psysml:aed7fba6-fc0e-4a29-a473-c7d943b57344 ]] \r\n",
       "E5 o- - \"1\"E9 [[psysml:afcc773f-3f6f-47e3-9b17-c2b1fd7bbdc3 ]] \r\n",
       "E9 - -:|> E2 [[psysml:09d901e9-14a1-4a34-80ae-448f8674b33c ]] \r\n",
       "}\r\n",
       "@enduml\r\n",
       "\n",
       "PlantUML version 1.2020.13(Sat Jun 13 12:26:38 UTC 2020)\n",
       "(EPL source distribution)\n",
       "Java Runtime: OpenJDK Runtime Environment\n",
       "JVM: OpenJDK 64-Bit Server VM\n",
       "Default Encoding: UTF-8\n",
       "Language: en\n",
       "Country: null\n",
       "--></g></svg>"
      ]
     },
     "execution_count": 54,
     "metadata": {},
     "output_type": "execute_result"
    }
   ],
   "source": [
    "%viz --style=\"ORTHOLINE\" --view=\"Interconnection\" \"TradeStudyTest\""
   ]
  },
  {
   "cell_type": "code",
   "execution_count": 55,
   "id": "021a017a",
   "metadata": {
    "execution": {
     "iopub.execute_input": "2021-08-04T06:27:41.921780Z",
     "iopub.status.busy": "2021-08-04T06:27:41.921383Z",
     "iopub.status.idle": "2021-08-04T06:27:41.947017Z",
     "shell.execute_reply": "2021-08-04T06:27:41.946692Z"
    }
   },
   "outputs": [
    {
     "data": {
      "image/svg+xml": [
       "<?xml version=\"1.0\" encoding=\"UTF-8\" standalone=\"no\"?><svg xmlns=\"http://www.w3.org/2000/svg\" xmlns:xlink=\"http://www.w3.org/1999/xlink\" contentScriptType=\"application/ecmascript\" contentStyleType=\"text/css\" height=\"178px\" preserveAspectRatio=\"none\" style=\"width:393px;height:178px;\" version=\"1.1\" viewBox=\"0 0 393 178\" width=\"393px\" zoomAndPan=\"magnify\"><defs/><g><!--MD5=[fbc87193dbaf4d95561dea2c320d4a47]\n",
       "cluster E1--><a href=\"psysml:c0123459-da5a-4fa7-ba13-511d4e5fcdf0\" target=\"_top\" title=\"psysml:c0123459-da5a-4fa7-ba13-511d4e5fcdf0\" xlink:actuate=\"onRequest\" xlink:href=\"psysml:c0123459-da5a-4fa7-ba13-511d4e5fcdf0\" xlink:show=\"new\" xlink:title=\"psysml:c0123459-da5a-4fa7-ba13-511d4e5fcdf0\" xlink:type=\"simple\"><rect fill=\"#FFFFFF\" height=\"103.72\" id=\"E1\" rx=\"10\" ry=\"10\" style=\"stroke: #383838; stroke-width: 1.5;\" width=\"354\" x=\"16.5\" y=\"42.0986\"/><rect fill=\"#F8F8F8\" height=\"37.9375\" rx=\"10\" ry=\"10\" style=\"stroke: #F8F8F8; stroke-width: 1.5;\" width=\"354\" x=\"16.5\" y=\"42.0986\"/><rect fill=\"#F8F8F8\" height=\"10\" style=\"stroke: #F8F8F8; stroke-width: 1.5;\" width=\"354\" x=\"16.5\" y=\"70.0361\"/><rect fill=\"none\" height=\"103.72\" id=\"E1\" rx=\"10\" ry=\"10\" style=\"stroke: #383838; stroke-width: 1.5;\" width=\"354\" x=\"16.5\" y=\"42.0986\"/><text fill=\"#000000\" font-family=\"sans-serif\" font-size=\"12\" font-style=\"italic\" lengthAdjust=\"spacingAndGlyphs\" textLength=\"64\" x=\"161.5\" y=\"58.2373\">«analysis»</text><text fill=\"#000000\" font-family=\"sans-serif\" font-size=\"12\" lengthAdjust=\"spacingAndGlyphs\" textLength=\"114\" x=\"136.5\" y=\"72.2061\">engineTradeStudy</text><line style=\"stroke: #383838; stroke-width: 1.0;\" x1=\"16.5\" x2=\"370.5\" y1=\"80.0361\" y2=\"80.0361\"/></a><!--MD5=[d5e69f78d87373223dbae638b30a9c99]\n",
       "cluster E3--><a href=\"psysml:f099413c-f817-477f-a757-2c07f6450928\" target=\"_top\" title=\"psysml:f099413c-f817-477f-a757-2c07f6450928\" xlink:actuate=\"onRequest\" xlink:href=\"psysml:f099413c-f817-477f-a757-2c07f6450928\" xlink:show=\"new\" xlink:title=\"psysml:f099413c-f817-477f-a757-2c07f6450928\" xlink:type=\"simple\"><rect fill=\"#FFFFFF\" height=\"81.72\" id=\"E3\" rx=\"10\" ry=\"10\" style=\"stroke: #383838; stroke-width: 1.5;\" width=\"150\" x=\"200.5\" y=\"64.0986\"/><rect fill=\"#F8F8F8\" height=\"37.9375\" rx=\"10\" ry=\"10\" style=\"stroke: #F8F8F8; stroke-width: 1.5;\" width=\"150\" x=\"200.5\" y=\"64.0986\"/><rect fill=\"#F8F8F8\" height=\"10\" style=\"stroke: #F8F8F8; stroke-width: 1.5;\" width=\"150\" x=\"200.5\" y=\"92.0361\"/><rect fill=\"none\" height=\"81.72\" id=\"E3\" rx=\"10\" ry=\"10\" style=\"stroke: #383838; stroke-width: 1.5;\" width=\"150\" x=\"200.5\" y=\"64.0986\"/><text fill=\"#000000\" font-family=\"sans-serif\" font-size=\"12\" font-style=\"italic\" lengthAdjust=\"spacingAndGlyphs\" textLength=\"82\" x=\"234.5\" y=\"80.2373\">«calculation»</text><text fill=\"#000000\" font-family=\"sans-serif\" font-size=\"12\" lengthAdjust=\"spacingAndGlyphs\" textLength=\"110\" x=\"220.5\" y=\"94.2061\">objectiveFunction</text><line style=\"stroke: #383838; stroke-width: 1.0;\" x1=\"200.5\" x2=\"350.5\" y1=\"102.0361\" y2=\"102.0361\"/></a><text fill=\"#000000\" font-family=\"sans-serif\" font-size=\"14\" lengthAdjust=\"spacingAndGlyphs\" textLength=\"57\" x=\"6\" y=\"20.7969\">noname</text><rect fill=\"#383838\" height=\"12\" style=\"stroke: #F8F8F8; stroke-width: 1.5;\" width=\"12\" x=\"28.5\" y=\"36.0986\"/><text fill=\"#000000\" font-family=\"sans-serif\" font-size=\"14\" lengthAdjust=\"spacingAndGlyphs\" textLength=\"57\" x=\"324\" y=\"164.8138\">noname</text><rect fill=\"#383838\" height=\"12\" style=\"stroke: #F8F8F8; stroke-width: 1.5;\" width=\"12\" x=\"346.5\" y=\"139.8186\"/><text fill=\"#000000\" font-family=\"sans-serif\" font-size=\"14\" lengthAdjust=\"spacingAndGlyphs\" textLength=\"57\" x=\"194\" y=\"164.8138\">noname</text><rect fill=\"#383838\" height=\"12\" style=\"stroke: #F8F8F8; stroke-width: 1.5;\" width=\"12\" x=\"216.5\" y=\"139.8186\"/><!--MD5=[e8f23577fe6e5c0c0ca8aa4855d90d69]\n",
       "@startuml\r\n",
       "skinparam ranksep 8\r\n",
       "skinparam linetype ortho\r\n",
       "skinparam monochrome true\r\n",
       "skinparam classbackgroundcolor white\r\n",
       "skinparam shadowing false\r\n",
       "skinparam wrapWidth 300\r\n",
       "hide circle\r\n",
       "\r\n",
       "rec usage \"engineTradeStudy\" as E1 << analysis>> [[psysml:c0123459-da5a-4fa7-ba13-511d4e5fcdf0 ]] {\r\n",
       "portin \"noname\" as E2  [[psysml:210e0914-9352-49ef-884c-3efb23c87d05 ]] \r\n",
       "rec usage \"objectiveFunction\" as E3  <<(T,blue) calculation>> [[psysml:f099413c-f817-477f-a757-2c07f6450928 ]] {\r\n",
       "portout \"noname\" as E4  [[psysml:cddfcd13-7814-4ab4-947c-703e6331ff4e ]] \r\n",
       "}\r\n",
       "\r\n",
       "portout \"noname\" as E5  [[psysml:7894e875-c3b4-453b-9dc9-b899c04487e6 ]] \r\n",
       "}\r\n",
       "\r\n",
       "@enduml\r\n",
       "\n",
       "PlantUML version 1.2020.13(Sat Jun 13 12:26:38 UTC 2020)\n",
       "(EPL source distribution)\n",
       "Java Runtime: OpenJDK Runtime Environment\n",
       "JVM: OpenJDK 64-Bit Server VM\n",
       "Default Encoding: UTF-8\n",
       "Language: en\n",
       "Country: null\n",
       "--></g></svg>"
      ]
     },
     "execution_count": 55,
     "metadata": {},
     "output_type": "execute_result"
    }
   ],
   "source": [
    "%viz --style=\"ORTHOLINE\" --view=\"Action\" \"TradeStudyTest\""
   ]
  },
  {
   "cell_type": "code",
   "execution_count": 56,
   "id": "d07cb002",
   "metadata": {
    "execution": {
     "iopub.execute_input": "2021-08-04T06:27:41.996568Z",
     "iopub.status.busy": "2021-08-04T06:27:41.996168Z",
     "iopub.status.idle": "2021-08-04T06:27:42.027343Z",
     "shell.execute_reply": "2021-08-04T06:27:42.026996Z"
    }
   },
   "outputs": [
    {
     "data": {
      "image/svg+xml": [
       "<?xml version=\"1.0\" encoding=\"UTF-8\" standalone=\"no\"?><svg xmlns=\"http://www.w3.org/2000/svg\" xmlns:xlink=\"http://www.w3.org/1999/xlink\" contentScriptType=\"application/ecmascript\" contentStyleType=\"text/css\" height=\"345px\" preserveAspectRatio=\"none\" style=\"width:955px;height:345px;\" version=\"1.1\" viewBox=\"0 0 955 345\" width=\"955px\" zoomAndPan=\"magnify\"><defs/><g><!--MD5=[fbc87193dbaf4d95561dea2c320d4a47]\n",
       "cluster E1--><a href=\"psysml:0d92d0af-a8c4-487d-a88b-e96d8d162758\" target=\"_top\" title=\"psysml:0d92d0af-a8c4-487d-a88b-e96d8d162758\" xlink:actuate=\"onRequest\" xlink:href=\"psysml:0d92d0af-a8c4-487d-a88b-e96d8d162758\" xlink:show=\"new\" xlink:title=\"psysml:0d92d0af-a8c4-487d-a88b-e96d8d162758\" xlink:type=\"simple\"><polygon fill=\"#FFFFFF\" points=\"16,6,148,6,155,28.2969,933,28.2969,933,333,16,333,16,6\" style=\"stroke: #000000; stroke-width: 1.5;\"/><line style=\"stroke: #000000; stroke-width: 1.5;\" x1=\"16\" x2=\"155\" y1=\"28.2969\" y2=\"28.2969\"/><text fill=\"#000000\" font-family=\"sans-serif\" font-size=\"14\" font-weight=\"bold\" lengthAdjust=\"spacingAndGlyphs\" textLength=\"126\" x=\"20\" y=\"20.9951\">TradeStudyTest</text></a><!--MD5=[b4997ac47864f28c2f74865a473b2911]\n",
       "class E2--><a href=\"psysml:90b379af-84e4-4b51-bcba-9b20024a2d1f\" target=\"_top\" title=\"psysml:90b379af-84e4-4b51-bcba-9b20024a2d1f\" xlink:actuate=\"onRequest\" xlink:href=\"psysml:90b379af-84e4-4b51-bcba-9b20024a2d1f\" xlink:show=\"new\" xlink:title=\"psysml:90b379af-84e4-4b51-bcba-9b20024a2d1f\" xlink:type=\"simple\"><rect fill=\"#FFFFFF\" height=\"45.9375\" id=\"E2\" style=\"stroke: #383838; stroke-width: 1.5;\" width=\"66\" x=\"598\" y=\"271\"/><text fill=\"#000000\" font-family=\"sans-serif\" font-size=\"12\" font-style=\"italic\" lengthAdjust=\"spacingAndGlyphs\" textLength=\"64\" x=\"599\" y=\"287.1387\">«part def»</text><text fill=\"#000000\" font-family=\"sans-serif\" font-size=\"12\" lengthAdjust=\"spacingAndGlyphs\" textLength=\"43\" x=\"609.5\" y=\"301.1074\">Engine</text><line style=\"stroke: #383838; stroke-width: 1.5;\" x1=\"599\" x2=\"663\" y1=\"308.9375\" y2=\"308.9375\"/></a><!--MD5=[09b614a08d8cba4a07c9adeb5e0fee81]\n",
       "class E3--><a href=\"psysml:1fe04244-3a7b-4d3a-93e0-0fd9f61a7cea\" target=\"_top\" title=\"psysml:1fe04244-3a7b-4d3a-93e0-0fd9f61a7cea\" xlink:actuate=\"onRequest\" xlink:href=\"psysml:1fe04244-3a7b-4d3a-93e0-0fd9f61a7cea\" xlink:show=\"new\" xlink:title=\"psysml:1fe04244-3a7b-4d3a-93e0-0fd9f61a7cea\" xlink:type=\"simple\"><rect fill=\"#FFFFFF\" height=\"45.9375\" id=\"E3\" rx=\"10\" ry=\"10\" style=\"stroke: #383838; stroke-width: 1.5;\" width=\"108\" x=\"809\" y=\"164\"/><text fill=\"#000000\" font-family=\"sans-serif\" font-size=\"12\" font-style=\"italic\" lengthAdjust=\"spacingAndGlyphs\" textLength=\"40\" x=\"843\" y=\"180.1387\">«part»</text><text fill=\"#000000\" font-family=\"sans-serif\" font-size=\"12\" lengthAdjust=\"spacingAndGlyphs\" textLength=\"102\" x=\"812\" y=\"194.1074\">engine1: Engine</text><line style=\"stroke: #383838; stroke-width: 1.5;\" x1=\"810\" x2=\"916\" y1=\"201.9375\" y2=\"201.9375\"/></a><!--MD5=[ebbe1d658d1005bcc118a6aa81145e00]\n",
       "class E4--><a href=\"psysml:07207da4-9c20-4091-a953-293a54d08950\" target=\"_top\" title=\"psysml:07207da4-9c20-4091-a953-293a54d08950\" xlink:actuate=\"onRequest\" xlink:href=\"psysml:07207da4-9c20-4091-a953-293a54d08950\" xlink:show=\"new\" xlink:title=\"psysml:07207da4-9c20-4091-a953-293a54d08950\" xlink:type=\"simple\"><rect fill=\"#FFFFFF\" height=\"45.9375\" id=\"E4\" rx=\"10\" ry=\"10\" style=\"stroke: #383838; stroke-width: 1.5;\" width=\"108\" x=\"666\" y=\"164\"/><text fill=\"#000000\" font-family=\"sans-serif\" font-size=\"12\" font-style=\"italic\" lengthAdjust=\"spacingAndGlyphs\" textLength=\"40\" x=\"700\" y=\"180.1387\">«part»</text><text fill=\"#000000\" font-family=\"sans-serif\" font-size=\"12\" lengthAdjust=\"spacingAndGlyphs\" textLength=\"102\" x=\"669\" y=\"194.1074\">engine2: Engine</text><line style=\"stroke: #383838; stroke-width: 1.5;\" x1=\"667\" x2=\"773\" y1=\"201.9375\" y2=\"201.9375\"/></a><!--MD5=[270fce915f116d4de14055a7c1d9a0f3]\n",
       "class E5--><a href=\"psysml:c0123459-da5a-4fa7-ba13-511d4e5fcdf0\" target=\"_top\" title=\"psysml:c0123459-da5a-4fa7-ba13-511d4e5fcdf0\" xlink:actuate=\"onRequest\" xlink:href=\"psysml:c0123459-da5a-4fa7-ba13-511d4e5fcdf0\" xlink:show=\"new\" xlink:title=\"psysml:c0123459-da5a-4fa7-ba13-511d4e5fcdf0\" xlink:type=\"simple\"><rect fill=\"#FFFFFF\" height=\"45.9375\" id=\"E5\" rx=\"10\" ry=\"10\" style=\"stroke: #383838; stroke-width: 1.5;\" width=\"199\" x=\"192.5\" y=\"41\"/><text fill=\"#000000\" font-family=\"sans-serif\" font-size=\"12\" font-style=\"italic\" lengthAdjust=\"spacingAndGlyphs\" textLength=\"64\" x=\"260\" y=\"57.1387\">«analysis»</text><text fill=\"#000000\" font-family=\"sans-serif\" font-size=\"12\" lengthAdjust=\"spacingAndGlyphs\" textLength=\"193\" x=\"195.5\" y=\"71.1074\">engineTradeStudy: TradeStudy</text><line style=\"stroke: #383838; stroke-width: 1.5;\" x1=\"193.5\" x2=\"390.5\" y1=\"78.9375\" y2=\"78.9375\"/></a><!--MD5=[60a26617385b1d2d0262a64233df1f8d]\n",
       "class E6--><a href=\"psysml:d3ca6a29-f1f6-48ae-8677-7ec75b0f5c21\" target=\"_top\" title=\"psysml:d3ca6a29-f1f6-48ae-8677-7ec75b0f5c21\" xlink:actuate=\"onRequest\" xlink:href=\"psysml:d3ca6a29-f1f6-48ae-8677-7ec75b0f5c21\" xlink:show=\"new\" xlink:title=\"psysml:d3ca6a29-f1f6-48ae-8677-7ec75b0f5c21\" xlink:type=\"simple\"><rect fill=\"#FFFFFF\" height=\"45.9375\" id=\"E6\" rx=\"10\" ry=\"10\" style=\"stroke: #383838; stroke-width: 1.5;\" width=\"251\" x=\"166.5\" y=\"164\"/><text fill=\"#000000\" font-family=\"sans-serif\" font-size=\"12\" font-style=\"italic\" lengthAdjust=\"spacingAndGlyphs\" textLength=\"91\" x=\"246.5\" y=\"180.1387\">«requirement»</text><text fill=\"#000000\" font-family=\"sans-serif\" font-size=\"12\" lengthAdjust=\"spacingAndGlyphs\" textLength=\"245\" x=\"169.5\" y=\"194.1074\">tradeStudyObjective: MaximizeObjective</text><line style=\"stroke: #383838; stroke-width: 1.5;\" x1=\"167.5\" x2=\"416.5\" y1=\"201.9375\" y2=\"201.9375\"/></a><!--MD5=[2156ba9850f5573cc1fc38a6a4b2f02b]\n",
       "class E7--><a href=\"psysml:7894e875-c3b4-453b-9dc9-b899c04487e6\" target=\"_top\" title=\"psysml:7894e875-c3b4-453b-9dc9-b899c04487e6\" xlink:actuate=\"onRequest\" xlink:href=\"psysml:7894e875-c3b4-453b-9dc9-b899c04487e6\" xlink:show=\"new\" xlink:title=\"psysml:7894e875-c3b4-453b-9dc9-b899c04487e6\" xlink:type=\"simple\"><rect fill=\"#FFFFFF\" height=\"45.9375\" id=\"E7\" rx=\"10\" ry=\"10\" style=\"stroke: #383838; stroke-width: 1.5;\" width=\"178\" x=\"453\" y=\"164\"/><text fill=\"#000000\" font-family=\"sans-serif\" font-size=\"12\" font-style=\"italic\" lengthAdjust=\"spacingAndGlyphs\" textLength=\"40\" x=\"522\" y=\"180.1387\">«part»</text><text fill=\"#000000\" font-family=\"sans-serif\" font-size=\"12\" lengthAdjust=\"spacingAndGlyphs\" textLength=\"172\" x=\"456\" y=\"194.1074\">selectedAlternative: Engine</text><line style=\"stroke: #383838; stroke-width: 1.5;\" x1=\"454\" x2=\"630\" y1=\"201.9375\" y2=\"201.9375\"/></a><!--MD5=[05d275557350bfb9b23a4ef7222b4c39]\n",
       "link E3 to E2--><a href=\"psysml:8801a447-7348-4a45-a550-3876c92a8627\" target=\"_top\" title=\"psysml:8801a447-7348-4a45-a550-3876c92a8627\" xlink:actuate=\"onRequest\" xlink:href=\"psysml:8801a447-7348-4a45-a550-3876c92a8627\" xlink:show=\"new\" xlink:title=\"psysml:8801a447-7348-4a45-a550-3876c92a8627\" xlink:type=\"simple\"><path d=\"M863,210.22 C863,241.69 863,294 863,294 C863,294 684.24,294 684.24,294 \" fill=\"none\" id=\"E3-&gt;E2\" style=\"stroke: #383838; stroke-width: 1.0;\"/><polygon fill=\"#FFFFFF\" points=\"664.24,294,683.24,287,683.24,301,664.24,294\" style=\"stroke: #383838; stroke-width: 1.0;\"/><ellipse cx=\"688.94\" cy=\"289\" fill=\"#383838\" rx=\"2\" ry=\"2\" style=\"stroke: #383838; stroke-width: 1.0;\"/><ellipse cx=\"688.94\" cy=\"299\" fill=\"#383838\" rx=\"2\" ry=\"2\" style=\"stroke: #383838; stroke-width: 1.0;\"/></a><!--MD5=[185131fc0dcab0a4505a2ebe144e961b]\n",
       "link E4 to E2--><a href=\"psysml:b9350b5a-5d8f-4ac9-a55f-8ba2d0a1e030\" target=\"_top\" title=\"psysml:b9350b5a-5d8f-4ac9-a55f-8ba2d0a1e030\" xlink:actuate=\"onRequest\" xlink:href=\"psysml:b9350b5a-5d8f-4ac9-a55f-8ba2d0a1e030\" xlink:show=\"new\" xlink:title=\"psysml:b9350b5a-5d8f-4ac9-a55f-8ba2d0a1e030\" xlink:type=\"simple\"><path d=\"M665.92,187 C658.3,187 653,187 653,187 C653,187 653,250.78 653,250.78 \" fill=\"none\" id=\"E4-&gt;E2\" style=\"stroke: #383838; stroke-width: 1.0;\"/><polygon fill=\"#FFFFFF\" points=\"653,270.78,646,251.78,660,251.78,653,270.78\" style=\"stroke: #383838; stroke-width: 1.0;\"/><ellipse cx=\"648\" cy=\"246.08\" fill=\"#383838\" rx=\"2\" ry=\"2\" style=\"stroke: #383838; stroke-width: 1.0;\"/><ellipse cx=\"658\" cy=\"246.08\" fill=\"#383838\" rx=\"2\" ry=\"2\" style=\"stroke: #383838; stroke-width: 1.0;\"/></a><!--MD5=[15ebcb19ae302d9b601edb458606d402]\n",
       "link E5 to E2--><a href=\"psysml:ecc21de6-0c62-41d5-be03-95573cca647a\" target=\"_top\" title=\"psysml:ecc21de6-0c62-41d5-be03-95573cca647a\" xlink:actuate=\"onRequest\" xlink:href=\"psysml:ecc21de6-0c62-41d5-be03-95573cca647a\" xlink:show=\"new\" xlink:title=\"psysml:ecc21de6-0c62-41d5-be03-95573cca647a\" xlink:type=\"simple\"><path d=\"M391.83,57 C495.28,57 642,57 642,57 C642,57 642,265.84 642,265.84 \" fill=\"none\" id=\"E5-&gt;E2\" style=\"stroke: #383838; stroke-width: 1.0; stroke-dasharray: 7.0,7.0;\"/><polygon fill=\"#383838\" points=\"642,270.84,646,261.84,642,265.84,638,261.84,642,270.84\" style=\"stroke: #383838; stroke-width: 1.0;\"/><text fill=\"#000000\" font-family=\"sans-serif\" font-size=\"13\" lengthAdjust=\"spacingAndGlyphs\" textLength=\"62\" x=\"68\" y=\"191.5669\">«subject»</text></a><!--MD5=[9120cf2e5df3bff93db8f754bbbc09b4]\n",
       "link E5 to E6--><a href=\"psysml:fcf6c150-3866-4336-9e66-2e65ffb041aa\" target=\"_top\" title=\"psysml:fcf6c150-3866-4336-9e66-2e65ffb041aa\" xlink:actuate=\"onRequest\" xlink:href=\"psysml:fcf6c150-3866-4336-9e66-2e65ffb041aa\" xlink:show=\"new\" xlink:title=\"psysml:fcf6c150-3866-4336-9e66-2e65ffb041aa\" xlink:type=\"simple\"><path d=\"M292,87.14 C292,87.14 292,155.97 292,155.97 \" fill=\"none\" id=\"E5-&gt;E6\" style=\"stroke: #383838; stroke-width: 1.0;\"/><polygon fill=\"#383838\" points=\"292,163.97,295,155.97,289,155.97,292,163.97\" style=\"stroke: #383838; stroke-width: 1.0;\"/><text fill=\"#000000\" font-family=\"sans-serif\" font-size=\"13\" lengthAdjust=\"spacingAndGlyphs\" textLength=\"73\" x=\"293\" y=\"130.0669\">«objective»</text></a><!--MD5=[452b418e7f8a40397a49b8c0a78acc5b]\n",
       "reverse link E5 to E7--><a href=\"psysml:afcc773f-3f6f-47e3-9b17-c2b1fd7bbdc3\" target=\"_top\" title=\"psysml:afcc773f-3f6f-47e3-9b17-c2b1fd7bbdc3\" xlink:actuate=\"onRequest\" xlink:href=\"psysml:afcc773f-3f6f-47e3-9b17-c2b1fd7bbdc3\" xlink:show=\"new\" xlink:title=\"psysml:afcc773f-3f6f-47e3-9b17-c2b1fd7bbdc3\" xlink:type=\"simple\"><path d=\"M404.52,72 C404.52,72 542,72 542,72 C542,72 542,130.12 542,163.73 \" fill=\"none\" id=\"E5&lt;-E7\" style=\"stroke: #383838; stroke-width: 1.0;\"/><polygon fill=\"#FFFFFF\" points=\"391.52,72,397.52,76,403.52,72,397.52,68,391.52,72\" style=\"stroke: #383838; stroke-width: 1.0;\"/><text fill=\"#000000\" font-family=\"sans-serif\" font-size=\"13\" lengthAdjust=\"spacingAndGlyphs\" textLength=\"8\" x=\"532.975\" y=\"152.9371\">1</text></a><!--MD5=[583832df87f4419a098336a29a52fa00]\n",
       "link E7 to E2--><a href=\"psysml:09d901e9-14a1-4a34-80ae-448f8674b33c\" target=\"_top\" title=\"psysml:09d901e9-14a1-4a34-80ae-448f8674b33c\" xlink:actuate=\"onRequest\" xlink:href=\"psysml:09d901e9-14a1-4a34-80ae-448f8674b33c\" xlink:show=\"new\" xlink:title=\"psysml:09d901e9-14a1-4a34-80ae-448f8674b33c\" xlink:type=\"simple\"><path d=\"M614.5,210.22 C614.5,210.22 614.5,250.83 614.5,250.83 \" fill=\"none\" id=\"E7-&gt;E2\" style=\"stroke: #383838; stroke-width: 1.0;\"/><polygon fill=\"#FFFFFF\" points=\"614.5,270.83,607.5,251.83,621.5,251.83,614.5,270.83\" style=\"stroke: #383838; stroke-width: 1.0;\"/><ellipse cx=\"609.5\" cy=\"246.13\" fill=\"#383838\" rx=\"2\" ry=\"2\" style=\"stroke: #383838; stroke-width: 1.0;\"/><ellipse cx=\"619.5\" cy=\"246.13\" fill=\"#383838\" rx=\"2\" ry=\"2\" style=\"stroke: #383838; stroke-width: 1.0;\"/></a><!--MD5=[03b562c0c9971a842bb34abaa9c5956d]\n",
       "@startuml\r\n",
       "skinparam linetype ortho\r\n",
       "skinparam monochrome true\r\n",
       "skinparam classbackgroundcolor white\r\n",
       "skinparam shadowing false\r\n",
       "skinparam wrapWidth 300\r\n",
       "hide circle\r\n",
       "\r\n",
       "package \"TradeStudyTest\" as E1  [[psysml:0d92d0af-a8c4-487d-a88b-e96d8d162758 ]]  {\r\n",
       "comp def \"Engine\" as E2  <<(T,blue) part def>> [[psysml:90b379af-84e4-4b51-bcba-9b20024a2d1f ]] {\r\n",
       "}\r\n",
       "comp usage \"engine1: Engine\" as E3  <<(T,blue) part>> [[psysml:1fe04244-3a7b-4d3a-93e0-0fd9f61a7cea ]] {\r\n",
       "}\r\n",
       "comp usage \"engine2: Engine\" as E4  <<(T,blue) part>> [[psysml:07207da4-9c20-4091-a953-293a54d08950 ]] {\r\n",
       "}\r\n",
       "comp usage \"engineTradeStudy: TradeStudy\" as E5 << analysis>> [[psysml:c0123459-da5a-4fa7-ba13-511d4e5fcdf0 ]] {\r\n",
       "}\r\n",
       "comp usage \"tradeStudyObjective: MaximizeObjective\" as E6  <<(T,blue) requirement>> [[psysml:d3ca6a29-f1f6-48ae-8677-7ec75b0f5c21 ]] {\r\n",
       "}\r\n",
       "comp usage \"selectedAlternative: Engine\" as E7  <<(T,blue) part>> [[psysml:7894e875-c3b4-453b-9dc9-b899c04487e6 ]] {\r\n",
       "}\r\n",
       "E3 - -:|> E2 [[psysml:8801a447-7348-4a45-a550-3876c92a8627 ]] \r\n",
       "E4 - -:|> E2 [[psysml:b9350b5a-5d8f-4ac9-a55f-8ba2d0a1e030 ]] \r\n",
       "E5 ..> E2 [[psysml:ecc21de6-0c62-41d5-be03-95573cca647a ]] : <<subject>>\r\n",
       "E5 - ->> E6 [[psysml:fcf6c150-3866-4336-9e66-2e65ffb041aa ]] : <<objective>>\r\n",
       "E5 o- - \"1\"E7 [[psysml:afcc773f-3f6f-47e3-9b17-c2b1fd7bbdc3 ]] \r\n",
       "E7 - -:|> E2 [[psysml:09d901e9-14a1-4a34-80ae-448f8674b33c ]] \r\n",
       "}\r\n",
       "@enduml\r\n",
       "\n",
       "PlantUML version 1.2020.13(Sat Jun 13 12:26:38 UTC 2020)\n",
       "(EPL source distribution)\n",
       "Java Runtime: OpenJDK Runtime Environment\n",
       "JVM: OpenJDK 64-Bit Server VM\n",
       "Default Encoding: UTF-8\n",
       "Language: en\n",
       "Country: null\n",
       "--></g></svg>"
      ]
     },
     "execution_count": 56,
     "metadata": {},
     "output_type": "execute_result"
    }
   ],
   "source": [
    "%viz --style=\"ORTHOLINE\" --view=\"Sequence\" \"TradeStudyTest\""
   ]
  },
  {
   "cell_type": "code",
   "execution_count": 57,
   "id": "4eb54157",
   "metadata": {
    "execution": {
     "iopub.execute_input": "2021-08-04T06:27:42.077156Z",
     "iopub.status.busy": "2021-08-04T06:27:42.076749Z",
     "iopub.status.idle": "2021-08-04T06:27:42.117743Z",
     "shell.execute_reply": "2021-08-04T06:27:42.117400Z"
    }
   },
   "outputs": [
    {
     "data": {
      "image/svg+xml": [
       "<?xml version=\"1.0\" encoding=\"UTF-8\" standalone=\"no\"?><svg xmlns=\"http://www.w3.org/2000/svg\" xmlns:xlink=\"http://www.w3.org/1999/xlink\" contentScriptType=\"application/ecmascript\" contentStyleType=\"text/css\" height=\"497px\" preserveAspectRatio=\"none\" style=\"width:554px;height:497px;\" version=\"1.1\" viewBox=\"0 0 554 497\" width=\"554px\" zoomAndPan=\"magnify\"><defs/><g><!--MD5=[fbc87193dbaf4d95561dea2c320d4a47]\n",
       "cluster E1--><a href=\"psysml:0d92d0af-a8c4-487d-a88b-e96d8d162758\" target=\"_top\" title=\"psysml:0d92d0af-a8c4-487d-a88b-e96d8d162758\" xlink:actuate=\"onRequest\" xlink:href=\"psysml:0d92d0af-a8c4-487d-a88b-e96d8d162758\" xlink:show=\"new\" xlink:title=\"psysml:0d92d0af-a8c4-487d-a88b-e96d8d162758\" xlink:type=\"simple\"><polygon fill=\"#FFFFFF\" points=\"16,6,148,6,155,28.2969,532,28.2969,532,485,16,485,16,6\" style=\"stroke: #000000; stroke-width: 1.5;\"/><line style=\"stroke: #000000; stroke-width: 1.5;\" x1=\"16\" x2=\"155\" y1=\"28.2969\" y2=\"28.2969\"/><text fill=\"#000000\" font-family=\"sans-serif\" font-size=\"14\" font-weight=\"bold\" lengthAdjust=\"spacingAndGlyphs\" textLength=\"126\" x=\"20\" y=\"20.9951\">TradeStudyTest</text></a><!--MD5=[b4997ac47864f28c2f74865a473b2911]\n",
       "class E2--><a href=\"psysml:90b379af-84e4-4b51-bcba-9b20024a2d1f\" target=\"_top\" title=\"psysml:90b379af-84e4-4b51-bcba-9b20024a2d1f\" xlink:actuate=\"onRequest\" xlink:href=\"psysml:90b379af-84e4-4b51-bcba-9b20024a2d1f\" xlink:show=\"new\" xlink:title=\"psysml:90b379af-84e4-4b51-bcba-9b20024a2d1f\" xlink:type=\"simple\"><rect fill=\"#FFFFFF\" height=\"45.9375\" id=\"E2\" style=\"stroke: #383838; stroke-width: 1.5;\" width=\"66\" x=\"196\" y=\"423\"/><text fill=\"#000000\" font-family=\"sans-serif\" font-size=\"12\" font-style=\"italic\" lengthAdjust=\"spacingAndGlyphs\" textLength=\"64\" x=\"197\" y=\"439.1387\">«part def»</text><text fill=\"#000000\" font-family=\"sans-serif\" font-size=\"12\" lengthAdjust=\"spacingAndGlyphs\" textLength=\"43\" x=\"207.5\" y=\"453.1074\">Engine</text><line style=\"stroke: #383838; stroke-width: 1.5;\" x1=\"197\" x2=\"261\" y1=\"460.9375\" y2=\"460.9375\"/></a><!--MD5=[09b614a08d8cba4a07c9adeb5e0fee81]\n",
       "class E3--><a href=\"psysml:1fe04244-3a7b-4d3a-93e0-0fd9f61a7cea\" target=\"_top\" title=\"psysml:1fe04244-3a7b-4d3a-93e0-0fd9f61a7cea\" xlink:actuate=\"onRequest\" xlink:href=\"psysml:1fe04244-3a7b-4d3a-93e0-0fd9f61a7cea\" xlink:show=\"new\" xlink:title=\"psysml:1fe04244-3a7b-4d3a-93e0-0fd9f61a7cea\" xlink:type=\"simple\"><rect fill=\"#FFFFFF\" height=\"45.9375\" id=\"E3\" rx=\"10\" ry=\"10\" style=\"stroke: #383838; stroke-width: 1.5;\" width=\"108\" x=\"408\" y=\"316\"/><text fill=\"#000000\" font-family=\"sans-serif\" font-size=\"12\" font-style=\"italic\" lengthAdjust=\"spacingAndGlyphs\" textLength=\"40\" x=\"442\" y=\"332.1387\">«part»</text><text fill=\"#000000\" font-family=\"sans-serif\" font-size=\"12\" lengthAdjust=\"spacingAndGlyphs\" textLength=\"102\" x=\"411\" y=\"346.1074\">engine1: Engine</text><line style=\"stroke: #383838; stroke-width: 1.5;\" x1=\"409\" x2=\"515\" y1=\"353.9375\" y2=\"353.9375\"/></a><!--MD5=[ebbe1d658d1005bcc118a6aa81145e00]\n",
       "class E4--><a href=\"psysml:07207da4-9c20-4091-a953-293a54d08950\" target=\"_top\" title=\"psysml:07207da4-9c20-4091-a953-293a54d08950\" xlink:actuate=\"onRequest\" xlink:href=\"psysml:07207da4-9c20-4091-a953-293a54d08950\" xlink:show=\"new\" xlink:title=\"psysml:07207da4-9c20-4091-a953-293a54d08950\" xlink:type=\"simple\"><rect fill=\"#FFFFFF\" height=\"45.9375\" id=\"E4\" rx=\"10\" ry=\"10\" style=\"stroke: #383838; stroke-width: 1.5;\" width=\"108\" x=\"265\" y=\"316\"/><text fill=\"#000000\" font-family=\"sans-serif\" font-size=\"12\" font-style=\"italic\" lengthAdjust=\"spacingAndGlyphs\" textLength=\"40\" x=\"299\" y=\"332.1387\">«part»</text><text fill=\"#000000\" font-family=\"sans-serif\" font-size=\"12\" lengthAdjust=\"spacingAndGlyphs\" textLength=\"102\" x=\"268\" y=\"346.1074\">engine2: Engine</text><line style=\"stroke: #383838; stroke-width: 1.5;\" x1=\"266\" x2=\"372\" y1=\"353.9375\" y2=\"353.9375\"/></a><!--MD5=[270fce915f116d4de14055a7c1d9a0f3]\n",
       "class E5--><a href=\"psysml:c0123459-da5a-4fa7-ba13-511d4e5fcdf0\" target=\"_top\" title=\"psysml:c0123459-da5a-4fa7-ba13-511d4e5fcdf0\" xlink:actuate=\"onRequest\" xlink:href=\"psysml:c0123459-da5a-4fa7-ba13-511d4e5fcdf0\" xlink:show=\"new\" xlink:title=\"psysml:c0123459-da5a-4fa7-ba13-511d4e5fcdf0\" xlink:type=\"simple\"><rect fill=\"#FFFFFF\" height=\"45.9375\" id=\"E5\" rx=\"10\" ry=\"10\" style=\"stroke: #383838; stroke-width: 1.5;\" width=\"199\" x=\"237.5\" y=\"41\"/><text fill=\"#000000\" font-family=\"sans-serif\" font-size=\"12\" font-style=\"italic\" lengthAdjust=\"spacingAndGlyphs\" textLength=\"64\" x=\"305\" y=\"57.1387\">«analysis»</text><text fill=\"#000000\" font-family=\"sans-serif\" font-size=\"12\" lengthAdjust=\"spacingAndGlyphs\" textLength=\"193\" x=\"240.5\" y=\"71.1074\">engineTradeStudy: TradeStudy</text><line style=\"stroke: #383838; stroke-width: 1.5;\" x1=\"238.5\" x2=\"435.5\" y1=\"78.9375\" y2=\"78.9375\"/></a><!--MD5=[60a26617385b1d2d0262a64233df1f8d]\n",
       "class E6--><a href=\"psysml:d3ca6a29-f1f6-48ae-8677-7ec75b0f5c21\" target=\"_top\" title=\"psysml:d3ca6a29-f1f6-48ae-8677-7ec75b0f5c21\" xlink:actuate=\"onRequest\" xlink:href=\"psysml:d3ca6a29-f1f6-48ae-8677-7ec75b0f5c21\" xlink:show=\"new\" xlink:title=\"psysml:d3ca6a29-f1f6-48ae-8677-7ec75b0f5c21\" xlink:type=\"simple\"><rect fill=\"#FFFFFF\" height=\"45.9375\" id=\"E6\" rx=\"10\" ry=\"10\" style=\"stroke: #383838; stroke-width: 1.5;\" width=\"251\" x=\"76.5\" y=\"164\"/><text fill=\"#000000\" font-family=\"sans-serif\" font-size=\"12\" font-style=\"italic\" lengthAdjust=\"spacingAndGlyphs\" textLength=\"91\" x=\"156.5\" y=\"180.1387\">«requirement»</text><text fill=\"#000000\" font-family=\"sans-serif\" font-size=\"12\" lengthAdjust=\"spacingAndGlyphs\" textLength=\"245\" x=\"79.5\" y=\"194.1074\">tradeStudyObjective: MaximizeObjective</text><line style=\"stroke: #383838; stroke-width: 1.5;\" x1=\"77.5\" x2=\"326.5\" y1=\"201.9375\" y2=\"201.9375\"/></a><!--MD5=[2156ba9850f5573cc1fc38a6a4b2f02b]\n",
       "class E7--><a href=\"psysml:f099413c-f817-477f-a757-2c07f6450928\" target=\"_top\" title=\"psysml:f099413c-f817-477f-a757-2c07f6450928\" xlink:actuate=\"onRequest\" xlink:href=\"psysml:f099413c-f817-477f-a757-2c07f6450928\" xlink:show=\"new\" xlink:title=\"psysml:f099413c-f817-477f-a757-2c07f6450928\" xlink:type=\"simple\"><rect fill=\"#FFFFFF\" height=\"45.9375\" id=\"E7\" rx=\"10\" ry=\"10\" style=\"stroke: #383838; stroke-width: 1.5;\" width=\"116\" x=\"363\" y=\"164\"/><text fill=\"#000000\" font-family=\"sans-serif\" font-size=\"12\" font-style=\"italic\" lengthAdjust=\"spacingAndGlyphs\" textLength=\"82\" x=\"380\" y=\"180.1387\">«calculation»</text><text fill=\"#000000\" font-family=\"sans-serif\" font-size=\"12\" lengthAdjust=\"spacingAndGlyphs\" textLength=\"110\" x=\"366\" y=\"194.1074\">objectiveFunction</text><line style=\"stroke: #383838; stroke-width: 1.5;\" x1=\"364\" x2=\"478\" y1=\"201.9375\" y2=\"201.9375\"/></a><!--MD5=[b9389687b975829384b498ac4b7476b2]\n",
       "class E8--><a href=\"psysml:26f566d1-080d-4e4d-ba32-38c38fdc0bde\" target=\"_top\" title=\"psysml:26f566d1-080d-4e4d-ba32-38c38fdc0bde\" xlink:actuate=\"onRequest\" xlink:href=\"psysml:26f566d1-080d-4e4d-ba32-38c38fdc0bde\" xlink:show=\"new\" xlink:title=\"psysml:26f566d1-080d-4e4d-ba32-38c38fdc0bde\" xlink:type=\"simple\"><rect fill=\"#FFFFFF\" height=\"45.9375\" id=\"E8\" rx=\"10\" ry=\"10\" style=\"stroke: #383838; stroke-width: 1.5;\" width=\"124\" x=\"69\" y=\"316\"/><text fill=\"#000000\" font-family=\"sans-serif\" font-size=\"12\" font-style=\"italic\" lengthAdjust=\"spacingAndGlyphs\" textLength=\"40\" x=\"111\" y=\"332.1387\">«part»</text><text fill=\"#000000\" font-family=\"sans-serif\" font-size=\"12\" lengthAdjust=\"spacingAndGlyphs\" textLength=\"118\" x=\"72\" y=\"346.1074\">alternative: Engine</text><line style=\"stroke: #383838; stroke-width: 1.5;\" x1=\"70\" x2=\"192\" y1=\"353.9375\" y2=\"353.9375\"/></a><!--MD5=[fd4143e9d270a159db93a4ea2a975926]\n",
       "class E9--><a href=\"psysml:7894e875-c3b4-453b-9dc9-b899c04487e6\" target=\"_top\" title=\"psysml:7894e875-c3b4-453b-9dc9-b899c04487e6\" xlink:actuate=\"onRequest\" xlink:href=\"psysml:7894e875-c3b4-453b-9dc9-b899c04487e6\" xlink:show=\"new\" xlink:title=\"psysml:7894e875-c3b4-453b-9dc9-b899c04487e6\" xlink:type=\"simple\"><rect fill=\"#FFFFFF\" height=\"45.9375\" id=\"E9\" rx=\"10\" ry=\"10\" style=\"stroke: #383838; stroke-width: 1.5;\" width=\"178\" x=\"289\" y=\"240\"/><text fill=\"#000000\" font-family=\"sans-serif\" font-size=\"12\" font-style=\"italic\" lengthAdjust=\"spacingAndGlyphs\" textLength=\"40\" x=\"358\" y=\"256.1387\">«part»</text><text fill=\"#000000\" font-family=\"sans-serif\" font-size=\"12\" lengthAdjust=\"spacingAndGlyphs\" textLength=\"172\" x=\"292\" y=\"270.1074\">selectedAlternative: Engine</text><line style=\"stroke: #383838; stroke-width: 1.5;\" x1=\"290\" x2=\"466\" y1=\"277.9375\" y2=\"277.9375\"/></a><!--MD5=[05d275557350bfb9b23a4ef7222b4c39]\n",
       "link E3 to E2--><a href=\"psysml:8801a447-7348-4a45-a550-3876c92a8627\" target=\"_top\" title=\"psysml:8801a447-7348-4a45-a550-3876c92a8627\" xlink:actuate=\"onRequest\" xlink:href=\"psysml:8801a447-7348-4a45-a550-3876c92a8627\" xlink:show=\"new\" xlink:title=\"psysml:8801a447-7348-4a45-a550-3876c92a8627\" xlink:type=\"simple\"><path d=\"M462,362.22 C462,393.69 462,446 462,446 C462,446 282.38,446 282.38,446 \" fill=\"none\" id=\"E3-&gt;E2\" style=\"stroke: #383838; stroke-width: 1.0;\"/><polygon fill=\"#FFFFFF\" points=\"262.38,446,281.38,439,281.38,453,262.38,446\" style=\"stroke: #383838; stroke-width: 1.0;\"/><ellipse cx=\"287.08\" cy=\"441\" fill=\"#383838\" rx=\"2\" ry=\"2\" style=\"stroke: #383838; stroke-width: 1.0;\"/><ellipse cx=\"287.08\" cy=\"451\" fill=\"#383838\" rx=\"2\" ry=\"2\" style=\"stroke: #383838; stroke-width: 1.0;\"/></a><!--MD5=[185131fc0dcab0a4505a2ebe144e961b]\n",
       "link E4 to E2--><a href=\"psysml:b9350b5a-5d8f-4ac9-a55f-8ba2d0a1e030\" target=\"_top\" title=\"psysml:b9350b5a-5d8f-4ac9-a55f-8ba2d0a1e030\" xlink:actuate=\"onRequest\" xlink:href=\"psysml:b9350b5a-5d8f-4ac9-a55f-8ba2d0a1e030\" xlink:show=\"new\" xlink:title=\"psysml:b9350b5a-5d8f-4ac9-a55f-8ba2d0a1e030\" xlink:type=\"simple\"><path d=\"M264.73,347 C255.49,347 248.8,347 248.8,347 C248.8,347 248.8,402.79 248.8,402.79 \" fill=\"none\" id=\"E4-&gt;E2\" style=\"stroke: #383838; stroke-width: 1.0;\"/><polygon fill=\"#FFFFFF\" points=\"248.8,422.79,241.8,403.79,255.8,403.79,248.8,422.79\" style=\"stroke: #383838; stroke-width: 1.0;\"/><ellipse cx=\"243.8\" cy=\"398.09\" fill=\"#383838\" rx=\"2\" ry=\"2\" style=\"stroke: #383838; stroke-width: 1.0;\"/><ellipse cx=\"253.8\" cy=\"398.09\" fill=\"#383838\" rx=\"2\" ry=\"2\" style=\"stroke: #383838; stroke-width: 1.0;\"/></a><!--MD5=[15ebcb19ae302d9b601edb458606d402]\n",
       "link E5 to E2--><a href=\"psysml:ecc21de6-0c62-41d5-be03-95573cca647a\" target=\"_top\" title=\"psysml:ecc21de6-0c62-41d5-be03-95573cca647a\" xlink:actuate=\"onRequest\" xlink:href=\"psysml:ecc21de6-0c62-41d5-be03-95573cca647a\" xlink:show=\"new\" xlink:title=\"psysml:ecc21de6-0c62-41d5-be03-95573cca647a\" xlink:type=\"simple\"><path d=\"M339.33,87.02 C339.33,130.41 339.33,220 339.33,220 C339.33,220 222.4,220 222.4,220 C222.4,220 222.4,417.67 222.4,417.67 \" fill=\"none\" id=\"E5-&gt;E2\" style=\"stroke: #383838; stroke-width: 1.0; stroke-dasharray: 7.0,7.0;\"/><polygon fill=\"#383838\" points=\"222.4,422.67,226.4,413.67,222.4,417.67,218.4,413.67,222.4,422.67\" style=\"stroke: #383838; stroke-width: 1.0;\"/><text fill=\"#000000\" font-family=\"sans-serif\" font-size=\"13\" lengthAdjust=\"spacingAndGlyphs\" textLength=\"62\" x=\"68\" y=\"267.5669\">«subject»</text></a><!--MD5=[9120cf2e5df3bff93db8f754bbbc09b4]\n",
       "link E5 to E6--><a href=\"psysml:fcf6c150-3866-4336-9e66-2e65ffb041aa\" target=\"_top\" title=\"psysml:fcf6c150-3866-4336-9e66-2e65ffb041aa\" xlink:actuate=\"onRequest\" xlink:href=\"psysml:fcf6c150-3866-4336-9e66-2e65ffb041aa\" xlink:show=\"new\" xlink:title=\"psysml:fcf6c150-3866-4336-9e66-2e65ffb041aa\" xlink:type=\"simple\"><path d=\"M282.5,87.14 C282.5,87.14 282.5,155.97 282.5,155.97 \" fill=\"none\" id=\"E5-&gt;E6\" style=\"stroke: #383838; stroke-width: 1.0;\"/><polygon fill=\"#383838\" points=\"282.5,163.97,285.5,155.97,279.5,155.97,282.5,163.97\" style=\"stroke: #383838; stroke-width: 1.0;\"/><text fill=\"#000000\" font-family=\"sans-serif\" font-size=\"13\" lengthAdjust=\"spacingAndGlyphs\" textLength=\"73\" x=\"231\" y=\"130.0669\">«objective»</text></a><!--MD5=[452b418e7f8a40397a49b8c0a78acc5b]\n",
       "reverse link E5 to E7--><a href=\"psysml:a988c065-f70c-4bb4-ab6a-fca08357bc4a\" target=\"_top\" title=\"psysml:a988c065-f70c-4bb4-ab6a-fca08357bc4a\" xlink:actuate=\"onRequest\" xlink:href=\"psysml:a988c065-f70c-4bb4-ab6a-fca08357bc4a\" xlink:show=\"new\" xlink:title=\"psysml:a988c065-f70c-4bb4-ab6a-fca08357bc4a\" xlink:type=\"simple\"><path d=\"M399.75,100.14 C399.75,100.14 399.75,163.97 399.75,163.97 \" fill=\"none\" id=\"E5&lt;-E7\" style=\"stroke: #383838; stroke-width: 1.0;\"/><polygon fill=\"#383838\" points=\"399.75,87.14,395.75,93.14,399.75,99.14,403.75,93.14,399.75,87.14\" style=\"stroke: #383838; stroke-width: 1.0;\"/></a><!--MD5=[dc164f5e8a733ab456ef1add180e9e34]\n",
       "reverse link E7 to E8--><a href=\"psysml:4295af6e-acd7-489b-9191-c25409e1351b\" target=\"_top\" title=\"psysml:4295af6e-acd7-489b-9191-c25409e1351b\" xlink:actuate=\"onRequest\" xlink:href=\"psysml:4295af6e-acd7-489b-9191-c25409e1351b\" xlink:show=\"new\" xlink:title=\"psysml:4295af6e-acd7-489b-9191-c25409e1351b\" xlink:type=\"simple\"><path d=\"M415,223.01 C415,223.01 415,230 415,230 C415,230 134.75,230 134.75,230 C134.75,230 134.75,283.89 134.75,315.88 \" fill=\"none\" id=\"E7&lt;-E8\" style=\"stroke: #383838; stroke-width: 1.0;\"/><polygon fill=\"#FFFFFF\" points=\"415,210.01,411,216.01,415,222.01,419,216.01,415,210.01\" style=\"stroke: #383838; stroke-width: 1.0;\"/><text fill=\"#000000\" font-family=\"sans-serif\" font-size=\"13\" lengthAdjust=\"spacingAndGlyphs\" textLength=\"8\" x=\"126.6828\" y=\"304.744\">1</text></a><!--MD5=[f1f3f9f2fc535e6147756cb86a7f2e32]\n",
       "link E8 to E2--><a href=\"psysml:aed7fba6-fc0e-4a29-a473-c7d943b57344\" target=\"_top\" title=\"psysml:aed7fba6-fc0e-4a29-a473-c7d943b57344\" xlink:actuate=\"onRequest\" xlink:href=\"psysml:aed7fba6-fc0e-4a29-a473-c7d943b57344\" xlink:show=\"new\" xlink:title=\"psysml:aed7fba6-fc0e-4a29-a473-c7d943b57344\" xlink:type=\"simple\"><path d=\"M193.38,332 C202.67,332 209.2,332 209.2,332 C209.2,332 209.2,402.93 209.2,402.93 \" fill=\"none\" id=\"E8-&gt;E2\" style=\"stroke: #383838; stroke-width: 1.0;\"/><polygon fill=\"#FFFFFF\" points=\"209.2,422.93,202.2,403.93,216.2,403.93,209.2,422.93\" style=\"stroke: #383838; stroke-width: 1.0;\"/><ellipse cx=\"204.2\" cy=\"398.23\" fill=\"#383838\" rx=\"2\" ry=\"2\" style=\"stroke: #383838; stroke-width: 1.0;\"/><ellipse cx=\"214.2\" cy=\"398.23\" fill=\"#383838\" rx=\"2\" ry=\"2\" style=\"stroke: #383838; stroke-width: 1.0;\"/></a><!--MD5=[9ae28de373ca99bb8a1b38d63370ca7e]\n",
       "reverse link E5 to E9--><a href=\"psysml:afcc773f-3f6f-47e3-9b17-c2b1fd7bbdc3\" target=\"_top\" title=\"psysml:afcc773f-3f6f-47e3-9b17-c2b1fd7bbdc3\" xlink:actuate=\"onRequest\" xlink:href=\"psysml:afcc773f-3f6f-47e3-9b17-c2b1fd7bbdc3\" xlink:show=\"new\" xlink:title=\"psysml:afcc773f-3f6f-47e3-9b17-c2b1fd7bbdc3\" xlink:type=\"simple\"><path d=\"M351.17,100.22 C351.17,100.22 351.17,239.93 351.17,239.93 \" fill=\"none\" id=\"E5&lt;-E9\" style=\"stroke: #383838; stroke-width: 1.0;\"/><polygon fill=\"#FFFFFF\" points=\"351.17,87.22,347.17,93.22,351.17,99.22,355.17,93.22,351.17,87.22\" style=\"stroke: #383838; stroke-width: 1.0;\"/><text fill=\"#000000\" font-family=\"sans-serif\" font-size=\"13\" lengthAdjust=\"spacingAndGlyphs\" textLength=\"8\" x=\"334.8844\" y=\"228.8075\">1</text></a><!--MD5=[5c3bb36fe832a92c7f0e1807dd65209d]\n",
       "link E9 to E2--><a href=\"psysml:09d901e9-14a1-4a34-80ae-448f8674b33c\" target=\"_top\" title=\"psysml:09d901e9-14a1-4a34-80ae-448f8674b33c\" xlink:actuate=\"onRequest\" xlink:href=\"psysml:09d901e9-14a1-4a34-80ae-448f8674b33c\" xlink:show=\"new\" xlink:title=\"psysml:09d901e9-14a1-4a34-80ae-448f8674b33c\" xlink:type=\"simple\"><path d=\"M288.62,263 C260.01,263 235.6,263 235.6,263 C235.6,263 235.6,402.82 235.6,402.82 \" fill=\"none\" id=\"E9-&gt;E2\" style=\"stroke: #383838; stroke-width: 1.0;\"/><polygon fill=\"#FFFFFF\" points=\"235.6,422.82,228.6,403.82,242.6,403.82,235.6,422.82\" style=\"stroke: #383838; stroke-width: 1.0;\"/><ellipse cx=\"230.6\" cy=\"398.12\" fill=\"#383838\" rx=\"2\" ry=\"2\" style=\"stroke: #383838; stroke-width: 1.0;\"/><ellipse cx=\"240.6\" cy=\"398.12\" fill=\"#383838\" rx=\"2\" ry=\"2\" style=\"stroke: #383838; stroke-width: 1.0;\"/></a><!--MD5=[c5ed62cc802761bf4376b9c4d803287c]\n",
       "@startuml\r\n",
       "skinparam linetype ortho\r\n",
       "skinparam monochrome true\r\n",
       "skinparam classbackgroundcolor white\r\n",
       "skinparam shadowing false\r\n",
       "skinparam wrapWidth 300\r\n",
       "hide circle\r\n",
       "\r\n",
       "package \"TradeStudyTest\" as E1  [[psysml:0d92d0af-a8c4-487d-a88b-e96d8d162758 ]]  {\r\n",
       "comp def \"Engine\" as E2  <<(T,blue) part def>> [[psysml:90b379af-84e4-4b51-bcba-9b20024a2d1f ]] {\r\n",
       "}\r\n",
       "comp usage \"engine1: Engine\" as E3  <<(T,blue) part>> [[psysml:1fe04244-3a7b-4d3a-93e0-0fd9f61a7cea ]] {\r\n",
       "}\r\n",
       "comp usage \"engine2: Engine\" as E4  <<(T,blue) part>> [[psysml:07207da4-9c20-4091-a953-293a54d08950 ]] {\r\n",
       "}\r\n",
       "comp usage \"engineTradeStudy: TradeStudy\" as E5 << analysis>> [[psysml:c0123459-da5a-4fa7-ba13-511d4e5fcdf0 ]] {\r\n",
       "}\r\n",
       "comp usage \"tradeStudyObjective: MaximizeObjective\" as E6  <<(T,blue) requirement>> [[psysml:d3ca6a29-f1f6-48ae-8677-7ec75b0f5c21 ]] {\r\n",
       "}\r\n",
       "comp usage \"objectiveFunction\" as E7  <<(T,blue) calculation>> [[psysml:f099413c-f817-477f-a757-2c07f6450928 ]] {\r\n",
       "}\r\n",
       "comp usage \"alternative: Engine\" as E8  <<(T,blue) part>> [[psysml:26f566d1-080d-4e4d-ba32-38c38fdc0bde ]] {\r\n",
       "}\r\n",
       "comp usage \"selectedAlternative: Engine\" as E9  <<(T,blue) part>> [[psysml:7894e875-c3b4-453b-9dc9-b899c04487e6 ]] {\r\n",
       "}\r\n",
       "E3 - -:|> E2 [[psysml:8801a447-7348-4a45-a550-3876c92a8627 ]] \r\n",
       "E4 - -:|> E2 [[psysml:b9350b5a-5d8f-4ac9-a55f-8ba2d0a1e030 ]] \r\n",
       "E5 ..> E2 [[psysml:ecc21de6-0c62-41d5-be03-95573cca647a ]] : <<subject>>\r\n",
       "E5 - ->> E6 [[psysml:fcf6c150-3866-4336-9e66-2e65ffb041aa ]] : <<objective>>\r\n",
       "E5 *- - E7 [[psysml:a988c065-f70c-4bb4-ab6a-fca08357bc4a ]] \r\n",
       "E7 o- - \"1\"E8 [[psysml:4295af6e-acd7-489b-9191-c25409e1351b ]] \r\n",
       "E8 - -:|> E2 [[psysml:aed7fba6-fc0e-4a29-a473-c7d943b57344 ]] \r\n",
       "E5 o- - \"1\"E9 [[psysml:afcc773f-3f6f-47e3-9b17-c2b1fd7bbdc3 ]] \r\n",
       "E9 - -:|> E2 [[psysml:09d901e9-14a1-4a34-80ae-448f8674b33c ]] \r\n",
       "}\r\n",
       "@enduml\r\n",
       "\n",
       "PlantUML version 1.2020.13(Sat Jun 13 12:26:38 UTC 2020)\n",
       "(EPL source distribution)\n",
       "Java Runtime: OpenJDK Runtime Environment\n",
       "JVM: OpenJDK 64-Bit Server VM\n",
       "Default Encoding: UTF-8\n",
       "Language: en\n",
       "Country: null\n",
       "--></g></svg>"
      ]
     },
     "execution_count": 57,
     "metadata": {},
     "output_type": "execute_result"
    }
   ],
   "source": [
    "%viz --style=\"ORTHOLINE\" --view=\"MIXED\" \"TradeStudyTest\""
   ]
  }
 ],
 "metadata": {
  "kernelspec": {
   "display_name": "SysML",
   "language": "sysml",
   "name": "sysml"
  },
  "language_info": {
   "codemirror_mode": "sysml",
   "file_extension": ".sysml",
   "mimetype": "text/x-sysml",
   "name": "SysML",
   "pygments_lexer": "java",
   "version": "1.0.0"
  }
 },
 "nbformat": 4,
 "nbformat_minor": 5
}
