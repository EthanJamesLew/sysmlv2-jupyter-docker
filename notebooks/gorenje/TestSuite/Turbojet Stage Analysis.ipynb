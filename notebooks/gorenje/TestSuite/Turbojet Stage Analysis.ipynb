{
 "cells": [
  {
   "cell_type": "markdown",
   "id": "537d067b",
   "metadata": {},
   "source": [
    "# SysML v2 Test Suite\n",
    "\n",
    "This can notebook can be cleared using menu `Edit --> Clear All Outputs` and then all cells can be\n",
    "run using menu `Run --> Run All Cells`.\n",
    "\n",
    "**WARNING**: This file is generated, all modifications here will be ignored.\n"
   ]
  },
  {
   "cell_type": "markdown",
   "id": "d83b15fb",
   "metadata": {},
   "source": [
    "## File: ../../sysml/src/examples/Analysis Examples/Turbojet Stage Analysis.sysml"
   ]
  },
  {
   "cell_type": "code",
   "execution_count": 1,
   "id": "089a84d0",
   "metadata": {
    "execution": {
     "iopub.execute_input": "2021-04-20T07:25:27.513101Z",
     "iopub.status.busy": "2021-04-20T07:25:27.511256Z",
     "iopub.status.idle": "2021-04-20T07:25:28.903789Z",
     "shell.execute_reply": "2021-04-20T07:25:28.903050Z"
    }
   },
   "outputs": [
    {
     "data": {
      "text/plain": [
       "Package Turbojet Stage Analysis (992d7ff1-dfff-4f2f-a7d4-94bdadd2a51a)\n"
      ]
     },
     "execution_count": 1,
     "metadata": {},
     "output_type": "execute_result"
    }
   ],
   "source": [
    "package 'Turbojet Stage Analysis' {\n",
    "\timport Quantities::ScalarQuantityValue;\n",
    "\timport UnitsAndScales::DimensionOneValue;\n",
    "\timport ISQ::*;\n",
    "\t\n",
    "\tpackage 'Thermodynamic Functions' {\n",
    "\t    calc def 'Ideal Gas Law' (in rho, in R_bar, in T) return p {\n",
    "\t        rho * R_bar * T\n",
    "\t    }\n",
    "\t    \n",
    "\t    // The \"in\" and \"return\" direction markers are optional.\n",
    "\t    calc def 'Reversible Adiabatic Compression Density' (rho_1, p_1, p_2, gamma) rho_2 {\n",
    "\t        rho_1 * (p_2 / p_1)**(1/gamma)\n",
    "\t    }\n",
    "\t    \n",
    "\t    // Shorthand for \"mathematical\" function definition (with no steps but the returned expression)\n",
    "\t    calc def 'Reversible Adiabatic Compression Temperature' (T_1, p_1, p_2, gamma) \n",
    "\t    \tT_2 = T_1 * (p_2 / p_1)**((gamma - 1) / gamma);\n",
    "\t    \n",
    "\t    calc def 'Total Pressure' (P_static, rho, V) = 1/2 * rho * V ** 2 + P_static;\n",
    "\t    \n",
    "\t    // Showing explicit parameter typing\n",
    "\t    calc def 'Total Temperature' (T_static : TemperatureValue, Cp : DimensionOneValue, V : VolumeValue) : TemperatureValue \n",
    "\t    \t= 1/(2 * Cp) * V ** 2 + T_static;\n",
    "\t    \n",
    "\t    calc def 'Total Enthalpy' (h_total, h_static, V) H_total {\n",
    "\t    \t1/2 * V ** 2 + h_static\n",
    "\t    }\n",
    "\t}\n",
    "\t\n",
    "\tpackage 'Thermodynamics Structure' {\n",
    "\t    part def 'Ideal Gas Parcel' {\n",
    "\t        comment\n",
    "\t            /*\n",
    "\t            The parcel is an infinitesimal volume used to analyze points in a flow\n",
    "\t            */\n",
    "\t        attribute 'Molar Mass';\n",
    "\t        attribute 'Density';\n",
    "\t        attribute 'Pressure';\n",
    "\t        attribute 'Temperature';\n",
    "\t        attribute 'Enthalpy';\n",
    "\t        attribute 'Specific Gas Constant';\n",
    "\t    }\n",
    "\t    \n",
    "\t    part def 'Moving Ideal Gas Parcel' specializes 'Ideal Gas Parcel' {\n",
    "\t        comment about 'Stagnation Pressure'\n",
    "\t            /*\n",
    "\t            Stagnation pressure is the pressure of the parcel if the kinetic energy defined by its\n",
    "\t            velocity in a given coordinate frame is converted to gas internal energy through deceleration\n",
    "\t            to a velocity that matches the current frame.\n",
    "\t            */\n",
    "\t        attribute 'Stagnation Pressure';\n",
    "\t        attribute 'Stagnation Temperature';\n",
    "\t        attribute 'Stagnation Enthalpy';\n",
    "\t        \n",
    "\t        comment about 'Static Pressure'\n",
    "\t            /*\n",
    "\t            Static pressure is the pressure of the parcel as it moves\n",
    "\t            */\n",
    "\t        attribute 'Static Pressure' redefines 'Ideal Gas Parcel'::'Pressure';\n",
    "\t        attribute 'Static Temperature' redefines 'Ideal Gas Parcel'::'Temperature';\n",
    "\t        attribute 'Static Enthalpy' redefines 'Ideal Gas Parcel'::'Enthalpy';\n",
    "\t    }\n",
    "\t    \n",
    "\t    action def 'Thermodynamic Process'; // need start and end shots to show beginning and end attributes\n",
    "\t    \n",
    "\t    action def 'Adiabatic Process' specializes 'Thermodynamic Process' {\n",
    "\t        /*\n",
    "\t        Thermodynamic process typically have their states defined at beginning and end\n",
    "\t        of the process (since these starts are path-independent)\n",
    "\t        */\n",
    "\t        action 'Stage 1' :>> start;\n",
    "\t        action 'Stage 2' :>> done;\n",
    "\t    }\n",
    "\t    \n",
    "\t    action def 'Reversible Adiabatic Process' specializes 'Adiabatic Process';\n",
    "\t}\n",
    "\t\n",
    "\tpackage 'Low-Pressure Compressor Analysis' {\n",
    "\t    \n",
    "\t    part 'Analysis Context' {\n",
    "\t        import 'Thermodynamic Functions'::*;\n",
    "\t        \n",
    "\t        part 'Inlet Gas' : 'Thermodynamics Structure'::'Moving Ideal Gas Parcel' {\n",
    "\t        \t// Explicit binding notation\n",
    "\t        \tcalc 'Solve for Pressure1' : 'Ideal Gas Law' (rho, R_bar, T) p;\n",
    "\t        \tbind 'Density' = 'Solve for Pressure1'::rho;\n",
    "\t        \tbind 'Specific Gas Constant' = 'Solve for Pressure1'::R_bar;\n",
    "\t        \tbind 'Static Temperature' = 'Solve for Pressure1'::T;\n",
    "\t        \tbind 'Static Pressure' = 'Solve for Pressure1'::p;\t        \t\n",
    "\t        \t\n",
    "\t        \t// Shorthand parameter binding notation (also using optional \"in\" and \"return\")\n",
    "\t            calc 'Solve for Pressure2' : 'Ideal Gas Law'(\n",
    "\t                in rho = 'Density',\n",
    "\t                in R_bar = 'Specific Gas Constant',\n",
    "\t                in T = 'Static Temperature'\n",
    "\t            ) return p = 'Static Pressure';\n",
    "\t            \n",
    "\t            // Invocation expression notation\n",
    "\t            attribute :>> 'Static Pressure' = 'Ideal Gas Law'('Density', 'Specific Gas Constant', 'Static Temperature');\n",
    "\n",
    "\t            // Equation as binding (possible future notation) \n",
    "\t            // eqn 'Static Pressure' = 'Ideal Gas Law'('Density', 'Specific Gas Constant', 'Static Temperature');\n",
    "\t            \n",
    "\t            // Equation as a constraint (note \"==\")\n",
    "\t            constraint { 'Static Pressure' == 'Ideal Gas Law'('Density', 'Specific Gas Constant', 'Static Temperature') }\n",
    "\t        }\n",
    "\t    }\n",
    "\t}\t\n",
    "\t\n",
    "}"
   ]
  },
  {
   "cell_type": "code",
   "execution_count": 2,
   "id": "f6f2c60e",
   "metadata": {
    "execution": {
     "iopub.execute_input": "2021-04-20T07:25:28.955925Z",
     "iopub.status.busy": "2021-04-20T07:25:28.955299Z",
     "iopub.status.idle": "2021-04-20T07:25:28.965154Z",
     "shell.execute_reply": "2021-04-20T07:25:28.964819Z"
    }
   },
   "outputs": [
    {
     "data": {
      "text/plain": [
       "ERROR:Couldn't resolve reference to Element ''Turbojet'\n"
      ]
     },
     "execution_count": 2,
     "metadata": {},
     "output_type": "execute_result"
    }
   ],
   "source": [
    "%viz --style=\"COMPTREE\" --view=\"Default\" \"'Turbojet\""
   ]
  },
  {
   "cell_type": "code",
   "execution_count": 3,
   "id": "594412fc",
   "metadata": {
    "execution": {
     "iopub.execute_input": "2021-04-20T07:25:29.017234Z",
     "iopub.status.busy": "2021-04-20T07:25:29.016435Z",
     "iopub.status.idle": "2021-04-20T07:25:29.018740Z",
     "shell.execute_reply": "2021-04-20T07:25:29.019071Z"
    }
   },
   "outputs": [
    {
     "data": {
      "text/plain": [
       "ERROR:Couldn't resolve reference to Element ''Turbojet'\n"
      ]
     },
     "execution_count": 3,
     "metadata": {},
     "output_type": "execute_result"
    }
   ],
   "source": [
    "%viz --style=\"COMPTREE\" --view=\"Tree\" \"'Turbojet\""
   ]
  },
  {
   "cell_type": "code",
   "execution_count": 4,
   "id": "630be7ba",
   "metadata": {
    "execution": {
     "iopub.execute_input": "2021-04-20T07:25:29.071950Z",
     "iopub.status.busy": "2021-04-20T07:25:29.070859Z",
     "iopub.status.idle": "2021-04-20T07:25:29.074467Z",
     "shell.execute_reply": "2021-04-20T07:25:29.074040Z"
    }
   },
   "outputs": [
    {
     "data": {
      "text/plain": [
       "ERROR:Couldn't resolve reference to Element ''Turbojet'\n"
      ]
     },
     "execution_count": 4,
     "metadata": {},
     "output_type": "execute_result"
    }
   ],
   "source": [
    "%viz --style=\"COMPTREE\" --view=\"State\" \"'Turbojet\""
   ]
  },
  {
   "cell_type": "code",
   "execution_count": 5,
   "id": "f1a7cf5f",
   "metadata": {
    "execution": {
     "iopub.execute_input": "2021-04-20T07:25:29.125357Z",
     "iopub.status.busy": "2021-04-20T07:25:29.124840Z",
     "iopub.status.idle": "2021-04-20T07:25:29.128027Z",
     "shell.execute_reply": "2021-04-20T07:25:29.128365Z"
    }
   },
   "outputs": [
    {
     "data": {
      "text/plain": [
       "ERROR:Couldn't resolve reference to Element ''Turbojet'\n"
      ]
     },
     "execution_count": 5,
     "metadata": {},
     "output_type": "execute_result"
    }
   ],
   "source": [
    "%viz --style=\"COMPTREE\" --view=\"Interconnection\" \"'Turbojet\""
   ]
  },
  {
   "cell_type": "code",
   "execution_count": 6,
   "id": "4e51f988",
   "metadata": {
    "execution": {
     "iopub.execute_input": "2021-04-20T07:25:29.180410Z",
     "iopub.status.busy": "2021-04-20T07:25:29.179587Z",
     "iopub.status.idle": "2021-04-20T07:25:29.181699Z",
     "shell.execute_reply": "2021-04-20T07:25:29.182000Z"
    }
   },
   "outputs": [
    {
     "data": {
      "text/plain": [
       "ERROR:Couldn't resolve reference to Element ''Turbojet'\n"
      ]
     },
     "execution_count": 6,
     "metadata": {},
     "output_type": "execute_result"
    }
   ],
   "source": [
    "%viz --style=\"COMPTREE\" --view=\"Action\" \"'Turbojet\""
   ]
  },
  {
   "cell_type": "code",
   "execution_count": 7,
   "id": "60911652",
   "metadata": {
    "execution": {
     "iopub.execute_input": "2021-04-20T07:25:29.234624Z",
     "iopub.status.busy": "2021-04-20T07:25:29.233759Z",
     "iopub.status.idle": "2021-04-20T07:25:29.238944Z",
     "shell.execute_reply": "2021-04-20T07:25:29.238594Z"
    }
   },
   "outputs": [
    {
     "data": {
      "text/plain": [
       "ERROR:Couldn't resolve reference to Element ''Turbojet'\n"
      ]
     },
     "execution_count": 7,
     "metadata": {},
     "output_type": "execute_result"
    }
   ],
   "source": [
    "%viz --style=\"COMPTREE\" --view=\"Sequence\" \"'Turbojet\""
   ]
  },
  {
   "cell_type": "code",
   "execution_count": 8,
   "id": "aee7eb1b",
   "metadata": {
    "execution": {
     "iopub.execute_input": "2021-04-20T07:25:29.288857Z",
     "iopub.status.busy": "2021-04-20T07:25:29.288102Z",
     "iopub.status.idle": "2021-04-20T07:25:29.291131Z",
     "shell.execute_reply": "2021-04-20T07:25:29.290678Z"
    }
   },
   "outputs": [
    {
     "data": {
      "text/plain": [
       "ERROR:Couldn't resolve reference to Element ''Turbojet'\n"
      ]
     },
     "execution_count": 8,
     "metadata": {},
     "output_type": "execute_result"
    }
   ],
   "source": [
    "%viz --style=\"COMPTREE\" --view=\"MIXED\" \"'Turbojet\""
   ]
  },
  {
   "cell_type": "code",
   "execution_count": 9,
   "id": "e549def3",
   "metadata": {
    "execution": {
     "iopub.execute_input": "2021-04-20T07:25:29.343256Z",
     "iopub.status.busy": "2021-04-20T07:25:29.342206Z",
     "iopub.status.idle": "2021-04-20T07:25:29.345025Z",
     "shell.execute_reply": "2021-04-20T07:25:29.344670Z"
    }
   },
   "outputs": [
    {
     "data": {
      "text/plain": [
       "ERROR:Couldn't resolve reference to Element ''Turbojet'\n"
      ]
     },
     "execution_count": 9,
     "metadata": {},
     "output_type": "execute_result"
    }
   ],
   "source": [
    "%viz --style=\"POLYLINE\" --view=\"Default\" \"'Turbojet\""
   ]
  },
  {
   "cell_type": "code",
   "execution_count": 10,
   "id": "225e262c",
   "metadata": {
    "execution": {
     "iopub.execute_input": "2021-04-20T07:25:29.396392Z",
     "iopub.status.busy": "2021-04-20T07:25:29.395351Z",
     "iopub.status.idle": "2021-04-20T07:25:29.398163Z",
     "shell.execute_reply": "2021-04-20T07:25:29.397824Z"
    }
   },
   "outputs": [
    {
     "data": {
      "text/plain": [
       "ERROR:Couldn't resolve reference to Element ''Turbojet'\n"
      ]
     },
     "execution_count": 10,
     "metadata": {},
     "output_type": "execute_result"
    }
   ],
   "source": [
    "%viz --style=\"POLYLINE\" --view=\"Tree\" \"'Turbojet\""
   ]
  },
  {
   "cell_type": "code",
   "execution_count": 11,
   "id": "9ec2d0f5",
   "metadata": {
    "execution": {
     "iopub.execute_input": "2021-04-20T07:25:29.450844Z",
     "iopub.status.busy": "2021-04-20T07:25:29.450092Z",
     "iopub.status.idle": "2021-04-20T07:25:29.452445Z",
     "shell.execute_reply": "2021-04-20T07:25:29.452107Z"
    }
   },
   "outputs": [
    {
     "data": {
      "text/plain": [
       "ERROR:Couldn't resolve reference to Element ''Turbojet'\n"
      ]
     },
     "execution_count": 11,
     "metadata": {},
     "output_type": "execute_result"
    }
   ],
   "source": [
    "%viz --style=\"POLYLINE\" --view=\"State\" \"'Turbojet\""
   ]
  },
  {
   "cell_type": "code",
   "execution_count": 12,
   "id": "d1bdebc2",
   "metadata": {
    "execution": {
     "iopub.execute_input": "2021-04-20T07:25:29.505574Z",
     "iopub.status.busy": "2021-04-20T07:25:29.504901Z",
     "iopub.status.idle": "2021-04-20T07:25:29.510257Z",
     "shell.execute_reply": "2021-04-20T07:25:29.508708Z"
    }
   },
   "outputs": [
    {
     "data": {
      "text/plain": [
       "ERROR:Couldn't resolve reference to Element ''Turbojet'\n"
      ]
     },
     "execution_count": 12,
     "metadata": {},
     "output_type": "execute_result"
    }
   ],
   "source": [
    "%viz --style=\"POLYLINE\" --view=\"Interconnection\" \"'Turbojet\""
   ]
  },
  {
   "cell_type": "code",
   "execution_count": 13,
   "id": "ebc42d8e",
   "metadata": {
    "execution": {
     "iopub.execute_input": "2021-04-20T07:25:29.562701Z",
     "iopub.status.busy": "2021-04-20T07:25:29.562128Z",
     "iopub.status.idle": "2021-04-20T07:25:29.564232Z",
     "shell.execute_reply": "2021-04-20T07:25:29.563901Z"
    }
   },
   "outputs": [
    {
     "data": {
      "text/plain": [
       "ERROR:Couldn't resolve reference to Element ''Turbojet'\n"
      ]
     },
     "execution_count": 13,
     "metadata": {},
     "output_type": "execute_result"
    }
   ],
   "source": [
    "%viz --style=\"POLYLINE\" --view=\"Action\" \"'Turbojet\""
   ]
  },
  {
   "cell_type": "code",
   "execution_count": 14,
   "id": "0848a277",
   "metadata": {
    "execution": {
     "iopub.execute_input": "2021-04-20T07:25:29.615400Z",
     "iopub.status.busy": "2021-04-20T07:25:29.614752Z",
     "iopub.status.idle": "2021-04-20T07:25:29.616900Z",
     "shell.execute_reply": "2021-04-20T07:25:29.616559Z"
    }
   },
   "outputs": [
    {
     "data": {
      "text/plain": [
       "ERROR:Couldn't resolve reference to Element ''Turbojet'\n"
      ]
     },
     "execution_count": 14,
     "metadata": {},
     "output_type": "execute_result"
    }
   ],
   "source": [
    "%viz --style=\"POLYLINE\" --view=\"Sequence\" \"'Turbojet\""
   ]
  },
  {
   "cell_type": "code",
   "execution_count": 15,
   "id": "977ae875",
   "metadata": {
    "execution": {
     "iopub.execute_input": "2021-04-20T07:25:29.669208Z",
     "iopub.status.busy": "2021-04-20T07:25:29.668608Z",
     "iopub.status.idle": "2021-04-20T07:25:29.670740Z",
     "shell.execute_reply": "2021-04-20T07:25:29.670367Z"
    }
   },
   "outputs": [
    {
     "data": {
      "text/plain": [
       "ERROR:Couldn't resolve reference to Element ''Turbojet'\n"
      ]
     },
     "execution_count": 15,
     "metadata": {},
     "output_type": "execute_result"
    }
   ],
   "source": [
    "%viz --style=\"POLYLINE\" --view=\"MIXED\" \"'Turbojet\""
   ]
  },
  {
   "cell_type": "code",
   "execution_count": 16,
   "id": "028286f7",
   "metadata": {
    "execution": {
     "iopub.execute_input": "2021-04-20T07:25:29.722339Z",
     "iopub.status.busy": "2021-04-20T07:25:29.721601Z",
     "iopub.status.idle": "2021-04-20T07:25:29.723775Z",
     "shell.execute_reply": "2021-04-20T07:25:29.722752Z"
    }
   },
   "outputs": [
    {
     "data": {
      "text/plain": [
       "ERROR:Couldn't resolve reference to Element ''Turbojet'\n"
      ]
     },
     "execution_count": 16,
     "metadata": {},
     "output_type": "execute_result"
    }
   ],
   "source": [
    "%viz --style=\"LR\" --view=\"Default\" \"'Turbojet\""
   ]
  },
  {
   "cell_type": "code",
   "execution_count": 17,
   "id": "944d3353",
   "metadata": {
    "execution": {
     "iopub.execute_input": "2021-04-20T07:25:29.774936Z",
     "iopub.status.busy": "2021-04-20T07:25:29.774386Z",
     "iopub.status.idle": "2021-04-20T07:25:29.777676Z",
     "shell.execute_reply": "2021-04-20T07:25:29.777203Z"
    }
   },
   "outputs": [
    {
     "data": {
      "text/plain": [
       "ERROR:Couldn't resolve reference to Element ''Turbojet'\n"
      ]
     },
     "execution_count": 17,
     "metadata": {},
     "output_type": "execute_result"
    }
   ],
   "source": [
    "%viz --style=\"LR\" --view=\"Tree\" \"'Turbojet\""
   ]
  },
  {
   "cell_type": "code",
   "execution_count": 18,
   "id": "37c07417",
   "metadata": {
    "execution": {
     "iopub.execute_input": "2021-04-20T07:25:29.828408Z",
     "iopub.status.busy": "2021-04-20T07:25:29.827706Z",
     "iopub.status.idle": "2021-04-20T07:25:29.830105Z",
     "shell.execute_reply": "2021-04-20T07:25:29.828875Z"
    }
   },
   "outputs": [
    {
     "data": {
      "text/plain": [
       "ERROR:Couldn't resolve reference to Element ''Turbojet'\n"
      ]
     },
     "execution_count": 18,
     "metadata": {},
     "output_type": "execute_result"
    }
   ],
   "source": [
    "%viz --style=\"LR\" --view=\"State\" \"'Turbojet\""
   ]
  },
  {
   "cell_type": "code",
   "execution_count": 19,
   "id": "fb9552da",
   "metadata": {
    "execution": {
     "iopub.execute_input": "2021-04-20T07:25:29.880610Z",
     "iopub.status.busy": "2021-04-20T07:25:29.879995Z",
     "iopub.status.idle": "2021-04-20T07:25:29.881954Z",
     "shell.execute_reply": "2021-04-20T07:25:29.880927Z"
    }
   },
   "outputs": [
    {
     "data": {
      "text/plain": [
       "ERROR:Couldn't resolve reference to Element ''Turbojet'\n"
      ]
     },
     "execution_count": 19,
     "metadata": {},
     "output_type": "execute_result"
    }
   ],
   "source": [
    "%viz --style=\"LR\" --view=\"Interconnection\" \"'Turbojet\""
   ]
  },
  {
   "cell_type": "code",
   "execution_count": 20,
   "id": "af5d6b35",
   "metadata": {
    "execution": {
     "iopub.execute_input": "2021-04-20T07:25:29.933081Z",
     "iopub.status.busy": "2021-04-20T07:25:29.932429Z",
     "iopub.status.idle": "2021-04-20T07:25:29.934721Z",
     "shell.execute_reply": "2021-04-20T07:25:29.933405Z"
    }
   },
   "outputs": [
    {
     "data": {
      "text/plain": [
       "ERROR:Couldn't resolve reference to Element ''Turbojet'\n"
      ]
     },
     "execution_count": 20,
     "metadata": {},
     "output_type": "execute_result"
    }
   ],
   "source": [
    "%viz --style=\"LR\" --view=\"Action\" \"'Turbojet\""
   ]
  },
  {
   "cell_type": "code",
   "execution_count": 21,
   "id": "9dd45420",
   "metadata": {
    "execution": {
     "iopub.execute_input": "2021-04-20T07:25:29.985429Z",
     "iopub.status.busy": "2021-04-20T07:25:29.984923Z",
     "iopub.status.idle": "2021-04-20T07:25:29.986720Z",
     "shell.execute_reply": "2021-04-20T07:25:29.986374Z"
    }
   },
   "outputs": [
    {
     "data": {
      "text/plain": [
       "ERROR:Couldn't resolve reference to Element ''Turbojet'\n"
      ]
     },
     "execution_count": 21,
     "metadata": {},
     "output_type": "execute_result"
    }
   ],
   "source": [
    "%viz --style=\"LR\" --view=\"Sequence\" \"'Turbojet\""
   ]
  },
  {
   "cell_type": "code",
   "execution_count": 22,
   "id": "9e5f2488",
   "metadata": {
    "execution": {
     "iopub.execute_input": "2021-04-20T07:25:30.038891Z",
     "iopub.status.busy": "2021-04-20T07:25:30.037925Z",
     "iopub.status.idle": "2021-04-20T07:25:30.040423Z",
     "shell.execute_reply": "2021-04-20T07:25:30.039287Z"
    }
   },
   "outputs": [
    {
     "data": {
      "text/plain": [
       "ERROR:Couldn't resolve reference to Element ''Turbojet'\n"
      ]
     },
     "execution_count": 22,
     "metadata": {},
     "output_type": "execute_result"
    }
   ],
   "source": [
    "%viz --style=\"LR\" --view=\"MIXED\" \"'Turbojet\""
   ]
  },
  {
   "cell_type": "code",
   "execution_count": 23,
   "id": "36de00c3",
   "metadata": {
    "execution": {
     "iopub.execute_input": "2021-04-20T07:25:30.092348Z",
     "iopub.status.busy": "2021-04-20T07:25:30.091542Z",
     "iopub.status.idle": "2021-04-20T07:25:30.093919Z",
     "shell.execute_reply": "2021-04-20T07:25:30.092831Z"
    }
   },
   "outputs": [
    {
     "data": {
      "text/plain": [
       "ERROR:Couldn't resolve reference to Element ''Turbojet'\n"
      ]
     },
     "execution_count": 23,
     "metadata": {},
     "output_type": "execute_result"
    }
   ],
   "source": [
    "%viz --style=\"STDCOLOR\" --view=\"Default\" \"'Turbojet\""
   ]
  },
  {
   "cell_type": "code",
   "execution_count": 24,
   "id": "c2ba9bed",
   "metadata": {
    "execution": {
     "iopub.execute_input": "2021-04-20T07:25:30.145544Z",
     "iopub.status.busy": "2021-04-20T07:25:30.144941Z",
     "iopub.status.idle": "2021-04-20T07:25:30.148630Z",
     "shell.execute_reply": "2021-04-20T07:25:30.148219Z"
    }
   },
   "outputs": [
    {
     "data": {
      "text/plain": [
       "ERROR:Couldn't resolve reference to Element ''Turbojet'\n"
      ]
     },
     "execution_count": 24,
     "metadata": {},
     "output_type": "execute_result"
    }
   ],
   "source": [
    "%viz --style=\"STDCOLOR\" --view=\"Tree\" \"'Turbojet\""
   ]
  },
  {
   "cell_type": "code",
   "execution_count": 25,
   "id": "9a98868c",
   "metadata": {
    "execution": {
     "iopub.execute_input": "2021-04-20T07:25:30.199505Z",
     "iopub.status.busy": "2021-04-20T07:25:30.198740Z",
     "iopub.status.idle": "2021-04-20T07:25:30.200926Z",
     "shell.execute_reply": "2021-04-20T07:25:30.200591Z"
    }
   },
   "outputs": [
    {
     "data": {
      "text/plain": [
       "ERROR:Couldn't resolve reference to Element ''Turbojet'\n"
      ]
     },
     "execution_count": 25,
     "metadata": {},
     "output_type": "execute_result"
    }
   ],
   "source": [
    "%viz --style=\"STDCOLOR\" --view=\"State\" \"'Turbojet\""
   ]
  },
  {
   "cell_type": "code",
   "execution_count": 26,
   "id": "c9ffa5c8",
   "metadata": {
    "execution": {
     "iopub.execute_input": "2021-04-20T07:25:30.253040Z",
     "iopub.status.busy": "2021-04-20T07:25:30.252437Z",
     "iopub.status.idle": "2021-04-20T07:25:30.254730Z",
     "shell.execute_reply": "2021-04-20T07:25:30.253546Z"
    }
   },
   "outputs": [
    {
     "data": {
      "text/plain": [
       "ERROR:Couldn't resolve reference to Element ''Turbojet'\n"
      ]
     },
     "execution_count": 26,
     "metadata": {},
     "output_type": "execute_result"
    }
   ],
   "source": [
    "%viz --style=\"STDCOLOR\" --view=\"Interconnection\" \"'Turbojet\""
   ]
  },
  {
   "cell_type": "code",
   "execution_count": 27,
   "id": "ba1aab63",
   "metadata": {
    "execution": {
     "iopub.execute_input": "2021-04-20T07:25:30.304474Z",
     "iopub.status.busy": "2021-04-20T07:25:30.304018Z",
     "iopub.status.idle": "2021-04-20T07:25:30.305867Z",
     "shell.execute_reply": "2021-04-20T07:25:30.306160Z"
    }
   },
   "outputs": [
    {
     "data": {
      "text/plain": [
       "ERROR:Couldn't resolve reference to Element ''Turbojet'\n"
      ]
     },
     "execution_count": 27,
     "metadata": {},
     "output_type": "execute_result"
    }
   ],
   "source": [
    "%viz --style=\"STDCOLOR\" --view=\"Action\" \"'Turbojet\""
   ]
  },
  {
   "cell_type": "code",
   "execution_count": 28,
   "id": "b279009d",
   "metadata": {
    "execution": {
     "iopub.execute_input": "2021-04-20T07:25:30.358041Z",
     "iopub.status.busy": "2021-04-20T07:25:30.357214Z",
     "iopub.status.idle": "2021-04-20T07:25:30.359655Z",
     "shell.execute_reply": "2021-04-20T07:25:30.358476Z"
    }
   },
   "outputs": [
    {
     "data": {
      "text/plain": [
       "ERROR:Couldn't resolve reference to Element ''Turbojet'\n"
      ]
     },
     "execution_count": 28,
     "metadata": {},
     "output_type": "execute_result"
    }
   ],
   "source": [
    "%viz --style=\"STDCOLOR\" --view=\"Sequence\" \"'Turbojet\""
   ]
  },
  {
   "cell_type": "code",
   "execution_count": 29,
   "id": "6a37e215",
   "metadata": {
    "execution": {
     "iopub.execute_input": "2021-04-20T07:25:30.410907Z",
     "iopub.status.busy": "2021-04-20T07:25:30.410155Z",
     "iopub.status.idle": "2021-04-20T07:25:30.412544Z",
     "shell.execute_reply": "2021-04-20T07:25:30.411322Z"
    }
   },
   "outputs": [
    {
     "data": {
      "text/plain": [
       "ERROR:Couldn't resolve reference to Element ''Turbojet'\n"
      ]
     },
     "execution_count": 29,
     "metadata": {},
     "output_type": "execute_result"
    }
   ],
   "source": [
    "%viz --style=\"STDCOLOR\" --view=\"MIXED\" \"'Turbojet\""
   ]
  },
  {
   "cell_type": "code",
   "execution_count": 30,
   "id": "80fa17cc",
   "metadata": {
    "execution": {
     "iopub.execute_input": "2021-04-20T07:25:30.464049Z",
     "iopub.status.busy": "2021-04-20T07:25:30.463205Z",
     "iopub.status.idle": "2021-04-20T07:25:30.465902Z",
     "shell.execute_reply": "2021-04-20T07:25:30.465416Z"
    }
   },
   "outputs": [
    {
     "data": {
      "text/plain": [
       "ERROR:Couldn't resolve reference to Element ''Turbojet'\n"
      ]
     },
     "execution_count": 30,
     "metadata": {},
     "output_type": "execute_result"
    }
   ],
   "source": [
    "%viz --style=\"PLANTUML\" --view=\"Default\" \"'Turbojet\""
   ]
  },
  {
   "cell_type": "code",
   "execution_count": 31,
   "id": "ffa4a417",
   "metadata": {
    "execution": {
     "iopub.execute_input": "2021-04-20T07:25:30.517078Z",
     "iopub.status.busy": "2021-04-20T07:25:30.516543Z",
     "iopub.status.idle": "2021-04-20T07:25:30.518682Z",
     "shell.execute_reply": "2021-04-20T07:25:30.517477Z"
    }
   },
   "outputs": [
    {
     "data": {
      "text/plain": [
       "ERROR:Couldn't resolve reference to Element ''Turbojet'\n"
      ]
     },
     "execution_count": 31,
     "metadata": {},
     "output_type": "execute_result"
    }
   ],
   "source": [
    "%viz --style=\"PLANTUML\" --view=\"Tree\" \"'Turbojet\""
   ]
  },
  {
   "cell_type": "code",
   "execution_count": 32,
   "id": "94d794b8",
   "metadata": {
    "execution": {
     "iopub.execute_input": "2021-04-20T07:25:30.570098Z",
     "iopub.status.busy": "2021-04-20T07:25:30.569160Z",
     "iopub.status.idle": "2021-04-20T07:25:30.571557Z",
     "shell.execute_reply": "2021-04-20T07:25:30.570528Z"
    }
   },
   "outputs": [
    {
     "data": {
      "text/plain": [
       "ERROR:Couldn't resolve reference to Element ''Turbojet'\n"
      ]
     },
     "execution_count": 32,
     "metadata": {},
     "output_type": "execute_result"
    }
   ],
   "source": [
    "%viz --style=\"PLANTUML\" --view=\"State\" \"'Turbojet\""
   ]
  },
  {
   "cell_type": "code",
   "execution_count": 33,
   "id": "28fecad7",
   "metadata": {
    "execution": {
     "iopub.execute_input": "2021-04-20T07:25:30.622319Z",
     "iopub.status.busy": "2021-04-20T07:25:30.621668Z",
     "iopub.status.idle": "2021-04-20T07:25:30.623972Z",
     "shell.execute_reply": "2021-04-20T07:25:30.622945Z"
    }
   },
   "outputs": [
    {
     "data": {
      "text/plain": [
       "ERROR:Couldn't resolve reference to Element ''Turbojet'\n"
      ]
     },
     "execution_count": 33,
     "metadata": {},
     "output_type": "execute_result"
    }
   ],
   "source": [
    "%viz --style=\"PLANTUML\" --view=\"Interconnection\" \"'Turbojet\""
   ]
  },
  {
   "cell_type": "code",
   "execution_count": 34,
   "id": "5efd606a",
   "metadata": {
    "execution": {
     "iopub.execute_input": "2021-04-20T07:25:30.674764Z",
     "iopub.status.busy": "2021-04-20T07:25:30.673991Z",
     "iopub.status.idle": "2021-04-20T07:25:30.676168Z",
     "shell.execute_reply": "2021-04-20T07:25:30.675152Z"
    }
   },
   "outputs": [
    {
     "data": {
      "text/plain": [
       "ERROR:Couldn't resolve reference to Element ''Turbojet'\n"
      ]
     },
     "execution_count": 34,
     "metadata": {},
     "output_type": "execute_result"
    }
   ],
   "source": [
    "%viz --style=\"PLANTUML\" --view=\"Action\" \"'Turbojet\""
   ]
  },
  {
   "cell_type": "code",
   "execution_count": 35,
   "id": "855018db",
   "metadata": {
    "execution": {
     "iopub.execute_input": "2021-04-20T07:25:30.727291Z",
     "iopub.status.busy": "2021-04-20T07:25:30.726708Z",
     "iopub.status.idle": "2021-04-20T07:25:30.728701Z",
     "shell.execute_reply": "2021-04-20T07:25:30.727681Z"
    }
   },
   "outputs": [
    {
     "data": {
      "text/plain": [
       "ERROR:Couldn't resolve reference to Element ''Turbojet'\n"
      ]
     },
     "execution_count": 35,
     "metadata": {},
     "output_type": "execute_result"
    }
   ],
   "source": [
    "%viz --style=\"PLANTUML\" --view=\"Sequence\" \"'Turbojet\""
   ]
  },
  {
   "cell_type": "code",
   "execution_count": 36,
   "id": "e0645165",
   "metadata": {
    "execution": {
     "iopub.execute_input": "2021-04-20T07:25:30.780054Z",
     "iopub.status.busy": "2021-04-20T07:25:30.779529Z",
     "iopub.status.idle": "2021-04-20T07:25:30.783679Z",
     "shell.execute_reply": "2021-04-20T07:25:30.781912Z"
    }
   },
   "outputs": [
    {
     "data": {
      "text/plain": [
       "ERROR:Couldn't resolve reference to Element ''Turbojet'\n"
      ]
     },
     "execution_count": 36,
     "metadata": {},
     "output_type": "execute_result"
    }
   ],
   "source": [
    "%viz --style=\"PLANTUML\" --view=\"MIXED\" \"'Turbojet\""
   ]
  },
  {
   "cell_type": "code",
   "execution_count": 37,
   "id": "6b6a4a2f",
   "metadata": {
    "execution": {
     "iopub.execute_input": "2021-04-20T07:25:30.835924Z",
     "iopub.status.busy": "2021-04-20T07:25:30.835267Z",
     "iopub.status.idle": "2021-04-20T07:25:30.837269Z",
     "shell.execute_reply": "2021-04-20T07:25:30.836271Z"
    }
   },
   "outputs": [
    {
     "data": {
      "text/plain": [
       "ERROR:Couldn't resolve reference to Element ''Turbojet'\n"
      ]
     },
     "execution_count": 37,
     "metadata": {},
     "output_type": "execute_result"
    }
   ],
   "source": [
    "%viz --style=\"DEFAULT\" --view=\"Default\" \"'Turbojet\""
   ]
  },
  {
   "cell_type": "code",
   "execution_count": 38,
   "id": "e54f42e8",
   "metadata": {
    "execution": {
     "iopub.execute_input": "2021-04-20T07:25:30.887864Z",
     "iopub.status.busy": "2021-04-20T07:25:30.887254Z",
     "iopub.status.idle": "2021-04-20T07:25:30.889277Z",
     "shell.execute_reply": "2021-04-20T07:25:30.888253Z"
    }
   },
   "outputs": [
    {
     "data": {
      "text/plain": [
       "ERROR:Couldn't resolve reference to Element ''Turbojet'\n"
      ]
     },
     "execution_count": 38,
     "metadata": {},
     "output_type": "execute_result"
    }
   ],
   "source": [
    "%viz --style=\"DEFAULT\" --view=\"Tree\" \"'Turbojet\""
   ]
  },
  {
   "cell_type": "code",
   "execution_count": 39,
   "id": "8830b4ae",
   "metadata": {
    "execution": {
     "iopub.execute_input": "2021-04-20T07:25:30.940958Z",
     "iopub.status.busy": "2021-04-20T07:25:30.940083Z",
     "iopub.status.idle": "2021-04-20T07:25:30.942658Z",
     "shell.execute_reply": "2021-04-20T07:25:30.942248Z"
    }
   },
   "outputs": [
    {
     "data": {
      "text/plain": [
       "ERROR:Couldn't resolve reference to Element ''Turbojet'\n"
      ]
     },
     "execution_count": 39,
     "metadata": {},
     "output_type": "execute_result"
    }
   ],
   "source": [
    "%viz --style=\"DEFAULT\" --view=\"State\" \"'Turbojet\""
   ]
  },
  {
   "cell_type": "code",
   "execution_count": 40,
   "id": "c35a03d3",
   "metadata": {
    "execution": {
     "iopub.execute_input": "2021-04-20T07:25:30.993797Z",
     "iopub.status.busy": "2021-04-20T07:25:30.993028Z",
     "iopub.status.idle": "2021-04-20T07:25:30.995472Z",
     "shell.execute_reply": "2021-04-20T07:25:30.994275Z"
    }
   },
   "outputs": [
    {
     "data": {
      "text/plain": [
       "ERROR:Couldn't resolve reference to Element ''Turbojet'\n"
      ]
     },
     "execution_count": 40,
     "metadata": {},
     "output_type": "execute_result"
    }
   ],
   "source": [
    "%viz --style=\"DEFAULT\" --view=\"Interconnection\" \"'Turbojet\""
   ]
  },
  {
   "cell_type": "code",
   "execution_count": 41,
   "id": "cd18540d",
   "metadata": {
    "execution": {
     "iopub.execute_input": "2021-04-20T07:25:31.045913Z",
     "iopub.status.busy": "2021-04-20T07:25:31.045247Z",
     "iopub.status.idle": "2021-04-20T07:25:31.047653Z",
     "shell.execute_reply": "2021-04-20T07:25:31.047306Z"
    }
   },
   "outputs": [
    {
     "data": {
      "text/plain": [
       "ERROR:Couldn't resolve reference to Element ''Turbojet'\n"
      ]
     },
     "execution_count": 41,
     "metadata": {},
     "output_type": "execute_result"
    }
   ],
   "source": [
    "%viz --style=\"DEFAULT\" --view=\"Action\" \"'Turbojet\""
   ]
  },
  {
   "cell_type": "code",
   "execution_count": 42,
   "id": "180a6738",
   "metadata": {
    "execution": {
     "iopub.execute_input": "2021-04-20T07:25:31.098451Z",
     "iopub.status.busy": "2021-04-20T07:25:31.097830Z",
     "iopub.status.idle": "2021-04-20T07:25:31.100085Z",
     "shell.execute_reply": "2021-04-20T07:25:31.099728Z"
    }
   },
   "outputs": [
    {
     "data": {
      "text/plain": [
       "ERROR:Couldn't resolve reference to Element ''Turbojet'\n"
      ]
     },
     "execution_count": 42,
     "metadata": {},
     "output_type": "execute_result"
    }
   ],
   "source": [
    "%viz --style=\"DEFAULT\" --view=\"Sequence\" \"'Turbojet\""
   ]
  },
  {
   "cell_type": "code",
   "execution_count": 43,
   "id": "00b4ca13",
   "metadata": {
    "execution": {
     "iopub.execute_input": "2021-04-20T07:25:31.151281Z",
     "iopub.status.busy": "2021-04-20T07:25:31.150699Z",
     "iopub.status.idle": "2021-04-20T07:25:31.152886Z",
     "shell.execute_reply": "2021-04-20T07:25:31.151850Z"
    }
   },
   "outputs": [
    {
     "data": {
      "text/plain": [
       "ERROR:Couldn't resolve reference to Element ''Turbojet'\n"
      ]
     },
     "execution_count": 43,
     "metadata": {},
     "output_type": "execute_result"
    }
   ],
   "source": [
    "%viz --style=\"DEFAULT\" --view=\"MIXED\" \"'Turbojet\""
   ]
  },
  {
   "cell_type": "code",
   "execution_count": 44,
   "id": "cd28ed37",
   "metadata": {
    "execution": {
     "iopub.execute_input": "2021-04-20T07:25:31.204962Z",
     "iopub.status.busy": "2021-04-20T07:25:31.204290Z",
     "iopub.status.idle": "2021-04-20T07:25:31.206794Z",
     "shell.execute_reply": "2021-04-20T07:25:31.206332Z"
    }
   },
   "outputs": [
    {
     "data": {
      "text/plain": [
       "ERROR:Couldn't resolve reference to Element ''Turbojet'\n"
      ]
     },
     "execution_count": 44,
     "metadata": {},
     "output_type": "execute_result"
    }
   ],
   "source": [
    "%viz --style=\"TB\" --view=\"Default\" \"'Turbojet\""
   ]
  },
  {
   "cell_type": "code",
   "execution_count": 45,
   "id": "8ee494a7",
   "metadata": {
    "execution": {
     "iopub.execute_input": "2021-04-20T07:25:31.257882Z",
     "iopub.status.busy": "2021-04-20T07:25:31.257276Z",
     "iopub.status.idle": "2021-04-20T07:25:31.259423Z",
     "shell.execute_reply": "2021-04-20T07:25:31.259018Z"
    }
   },
   "outputs": [
    {
     "data": {
      "text/plain": [
       "ERROR:Couldn't resolve reference to Element ''Turbojet'\n"
      ]
     },
     "execution_count": 45,
     "metadata": {},
     "output_type": "execute_result"
    }
   ],
   "source": [
    "%viz --style=\"TB\" --view=\"Tree\" \"'Turbojet\""
   ]
  },
  {
   "cell_type": "code",
   "execution_count": 46,
   "id": "8a4534b9",
   "metadata": {
    "execution": {
     "iopub.execute_input": "2021-04-20T07:25:31.310426Z",
     "iopub.status.busy": "2021-04-20T07:25:31.309835Z",
     "iopub.status.idle": "2021-04-20T07:25:31.312148Z",
     "shell.execute_reply": "2021-04-20T07:25:31.310942Z"
    }
   },
   "outputs": [
    {
     "data": {
      "text/plain": [
       "ERROR:Couldn't resolve reference to Element ''Turbojet'\n"
      ]
     },
     "execution_count": 46,
     "metadata": {},
     "output_type": "execute_result"
    }
   ],
   "source": [
    "%viz --style=\"TB\" --view=\"State\" \"'Turbojet\""
   ]
  },
  {
   "cell_type": "code",
   "execution_count": 47,
   "id": "32ecedcf",
   "metadata": {
    "execution": {
     "iopub.execute_input": "2021-04-20T07:25:31.363449Z",
     "iopub.status.busy": "2021-04-20T07:25:31.362489Z",
     "iopub.status.idle": "2021-04-20T07:25:31.365344Z",
     "shell.execute_reply": "2021-04-20T07:25:31.364990Z"
    }
   },
   "outputs": [
    {
     "data": {
      "text/plain": [
       "ERROR:Couldn't resolve reference to Element ''Turbojet'\n"
      ]
     },
     "execution_count": 47,
     "metadata": {},
     "output_type": "execute_result"
    }
   ],
   "source": [
    "%viz --style=\"TB\" --view=\"Interconnection\" \"'Turbojet\""
   ]
  },
  {
   "cell_type": "code",
   "execution_count": 48,
   "id": "9b946845",
   "metadata": {
    "execution": {
     "iopub.execute_input": "2021-04-20T07:25:31.416037Z",
     "iopub.status.busy": "2021-04-20T07:25:31.415446Z",
     "iopub.status.idle": "2021-04-20T07:25:31.417757Z",
     "shell.execute_reply": "2021-04-20T07:25:31.417405Z"
    }
   },
   "outputs": [
    {
     "data": {
      "text/plain": [
       "ERROR:Couldn't resolve reference to Element ''Turbojet'\n"
      ]
     },
     "execution_count": 48,
     "metadata": {},
     "output_type": "execute_result"
    }
   ],
   "source": [
    "%viz --style=\"TB\" --view=\"Action\" \"'Turbojet\""
   ]
  },
  {
   "cell_type": "code",
   "execution_count": 49,
   "id": "3fd4b78e",
   "metadata": {
    "execution": {
     "iopub.execute_input": "2021-04-20T07:25:31.468601Z",
     "iopub.status.busy": "2021-04-20T07:25:31.467982Z",
     "iopub.status.idle": "2021-04-20T07:25:31.470026Z",
     "shell.execute_reply": "2021-04-20T07:25:31.469008Z"
    }
   },
   "outputs": [
    {
     "data": {
      "text/plain": [
       "ERROR:Couldn't resolve reference to Element ''Turbojet'\n"
      ]
     },
     "execution_count": 49,
     "metadata": {},
     "output_type": "execute_result"
    }
   ],
   "source": [
    "%viz --style=\"TB\" --view=\"Sequence\" \"'Turbojet\""
   ]
  },
  {
   "cell_type": "code",
   "execution_count": 50,
   "id": "92066a0b",
   "metadata": {
    "execution": {
     "iopub.execute_input": "2021-04-20T07:25:31.520769Z",
     "iopub.status.busy": "2021-04-20T07:25:31.520230Z",
     "iopub.status.idle": "2021-04-20T07:25:31.522389Z",
     "shell.execute_reply": "2021-04-20T07:25:31.521961Z"
    }
   },
   "outputs": [
    {
     "data": {
      "text/plain": [
       "ERROR:Couldn't resolve reference to Element ''Turbojet'\n"
      ]
     },
     "execution_count": 50,
     "metadata": {},
     "output_type": "execute_result"
    }
   ],
   "source": [
    "%viz --style=\"TB\" --view=\"MIXED\" \"'Turbojet\""
   ]
  },
  {
   "cell_type": "code",
   "execution_count": 51,
   "id": "6b834d1c",
   "metadata": {
    "execution": {
     "iopub.execute_input": "2021-04-20T07:25:31.573221Z",
     "iopub.status.busy": "2021-04-20T07:25:31.572640Z",
     "iopub.status.idle": "2021-04-20T07:25:31.574710Z",
     "shell.execute_reply": "2021-04-20T07:25:31.573674Z"
    }
   },
   "outputs": [
    {
     "data": {
      "text/plain": [
       "ERROR:Couldn't resolve reference to Element ''Turbojet'\n"
      ]
     },
     "execution_count": 51,
     "metadata": {},
     "output_type": "execute_result"
    }
   ],
   "source": [
    "%viz --style=\"ORTHOLINE\" --view=\"Default\" \"'Turbojet\""
   ]
  },
  {
   "cell_type": "code",
   "execution_count": 52,
   "id": "60261de8",
   "metadata": {
    "execution": {
     "iopub.execute_input": "2021-04-20T07:25:31.625088Z",
     "iopub.status.busy": "2021-04-20T07:25:31.624609Z",
     "iopub.status.idle": "2021-04-20T07:25:31.626489Z",
     "shell.execute_reply": "2021-04-20T07:25:31.626158Z"
    }
   },
   "outputs": [
    {
     "data": {
      "text/plain": [
       "ERROR:Couldn't resolve reference to Element ''Turbojet'\n"
      ]
     },
     "execution_count": 52,
     "metadata": {},
     "output_type": "execute_result"
    }
   ],
   "source": [
    "%viz --style=\"ORTHOLINE\" --view=\"Tree\" \"'Turbojet\""
   ]
  },
  {
   "cell_type": "code",
   "execution_count": 53,
   "id": "313158e1",
   "metadata": {
    "execution": {
     "iopub.execute_input": "2021-04-20T07:25:31.677765Z",
     "iopub.status.busy": "2021-04-20T07:25:31.677038Z",
     "iopub.status.idle": "2021-04-20T07:25:31.679392Z",
     "shell.execute_reply": "2021-04-20T07:25:31.679044Z"
    }
   },
   "outputs": [
    {
     "data": {
      "text/plain": [
       "ERROR:Couldn't resolve reference to Element ''Turbojet'\n"
      ]
     },
     "execution_count": 53,
     "metadata": {},
     "output_type": "execute_result"
    }
   ],
   "source": [
    "%viz --style=\"ORTHOLINE\" --view=\"State\" \"'Turbojet\""
   ]
  },
  {
   "cell_type": "code",
   "execution_count": 54,
   "id": "6d8a4b2a",
   "metadata": {
    "execution": {
     "iopub.execute_input": "2021-04-20T07:25:31.730707Z",
     "iopub.status.busy": "2021-04-20T07:25:31.730041Z",
     "iopub.status.idle": "2021-04-20T07:25:31.732156Z",
     "shell.execute_reply": "2021-04-20T07:25:31.731101Z"
    }
   },
   "outputs": [
    {
     "data": {
      "text/plain": [
       "ERROR:Couldn't resolve reference to Element ''Turbojet'\n"
      ]
     },
     "execution_count": 54,
     "metadata": {},
     "output_type": "execute_result"
    }
   ],
   "source": [
    "%viz --style=\"ORTHOLINE\" --view=\"Interconnection\" \"'Turbojet\""
   ]
  },
  {
   "cell_type": "code",
   "execution_count": 55,
   "id": "e258262e",
   "metadata": {
    "execution": {
     "iopub.execute_input": "2021-04-20T07:25:31.783447Z",
     "iopub.status.busy": "2021-04-20T07:25:31.782827Z",
     "iopub.status.idle": "2021-04-20T07:25:31.784928Z",
     "shell.execute_reply": "2021-04-20T07:25:31.783848Z"
    }
   },
   "outputs": [
    {
     "data": {
      "text/plain": [
       "ERROR:Couldn't resolve reference to Element ''Turbojet'\n"
      ]
     },
     "execution_count": 55,
     "metadata": {},
     "output_type": "execute_result"
    }
   ],
   "source": [
    "%viz --style=\"ORTHOLINE\" --view=\"Action\" \"'Turbojet\""
   ]
  },
  {
   "cell_type": "code",
   "execution_count": 56,
   "id": "6d92c6c7",
   "metadata": {
    "execution": {
     "iopub.execute_input": "2021-04-20T07:25:31.835672Z",
     "iopub.status.busy": "2021-04-20T07:25:31.835032Z",
     "iopub.status.idle": "2021-04-20T07:25:31.837130Z",
     "shell.execute_reply": "2021-04-20T07:25:31.836084Z"
    }
   },
   "outputs": [
    {
     "data": {
      "text/plain": [
       "ERROR:Couldn't resolve reference to Element ''Turbojet'\n"
      ]
     },
     "execution_count": 56,
     "metadata": {},
     "output_type": "execute_result"
    }
   ],
   "source": [
    "%viz --style=\"ORTHOLINE\" --view=\"Sequence\" \"'Turbojet\""
   ]
  },
  {
   "cell_type": "code",
   "execution_count": 57,
   "id": "cd8a376d",
   "metadata": {
    "execution": {
     "iopub.execute_input": "2021-04-20T07:25:31.887616Z",
     "iopub.status.busy": "2021-04-20T07:25:31.887123Z",
     "iopub.status.idle": "2021-04-20T07:25:31.889110Z",
     "shell.execute_reply": "2021-04-20T07:25:31.888798Z"
    }
   },
   "outputs": [
    {
     "data": {
      "text/plain": [
       "ERROR:Couldn't resolve reference to Element ''Turbojet'\n"
      ]
     },
     "execution_count": 57,
     "metadata": {},
     "output_type": "execute_result"
    }
   ],
   "source": [
    "%viz --style=\"ORTHOLINE\" --view=\"MIXED\" \"'Turbojet\""
   ]
  }
 ],
 "metadata": {
  "kernelspec": {
   "display_name": "SysML",
   "language": "sysml",
   "name": "sysml"
  },
  "language_info": {
   "codemirror_mode": "sysml",
   "file_extension": ".sysml",
   "mimetype": "text/x-sysml",
   "name": "SysML",
   "pygments_lexer": "java",
   "version": "1.0.0"
  }
 },
 "nbformat": 4,
 "nbformat_minor": 5
}
