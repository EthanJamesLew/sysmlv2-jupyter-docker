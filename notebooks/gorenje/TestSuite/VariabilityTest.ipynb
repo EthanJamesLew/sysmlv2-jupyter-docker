{
 "cells": [
  {
   "cell_type": "markdown",
   "id": "33bf350e",
   "metadata": {},
   "source": [
    "# SysML v2 Test Suite\n",
    "\n",
    "This can notebook can be cleared using menu `Edit --> Clear All Outputs` and then all cells can be\n",
    "run using menu `Run --> Run All Cells`.\n",
    "\n",
    "**WARNING**: This file is generated, all modifications here will be ignored.\n"
   ]
  },
  {
   "cell_type": "markdown",
   "id": "848ddf4a",
   "metadata": {},
   "source": [
    "## File: ../../sysml/src/examples/Simple Tests/VariabilityTest.sysml"
   ]
  },
  {
   "cell_type": "code",
   "execution_count": 1,
   "id": "ab138c8a",
   "metadata": {
    "execution": {
     "iopub.execute_input": "2021-10-25T08:21:40.012496Z",
     "iopub.status.busy": "2021-10-25T08:21:40.011415Z",
     "iopub.status.idle": "2021-10-25T08:21:40.253008Z",
     "shell.execute_reply": "2021-10-25T08:21:40.253261Z"
    }
   },
   "outputs": [
    {
     "data": {
      "text/plain": [
       "Package VariabilityTest (c844bb10-9b78-415d-bb1d-77260700f406)\n"
      ]
     },
     "execution_count": 1,
     "metadata": {},
     "output_type": "execute_result"
    }
   ],
   "source": [
    "package VariabilityTest {\n",
    "\tpart def P {\n",
    "\t\tattribute a;\n",
    "\t}\n",
    "\t\n",
    "\tpart def Q :> P;\n",
    "\tattribute def B;\n",
    "\tvariation part def V :> P {\n",
    "\t\tvariant part x : Q {\n",
    "\t\t\tattribute b : B :>> a;\n",
    "\t\t}\n",
    "\t}\n",
    "\t\n",
    "\tpart q : Q;\n",
    "\tvariation part v : P {\n",
    "\t\tvariant q {\n",
    "\t\t\tattribute b : B :>> a;\n",
    "\t\t}\n",
    "\t}\n",
    "\t\n",
    "\tpart y : P = v::q;\n",
    "}"
   ]
  },
  {
   "cell_type": "code",
   "execution_count": 2,
   "id": "b3ef1b08",
   "metadata": {
    "execution": {
     "iopub.execute_input": "2021-10-25T08:21:40.303776Z",
     "iopub.status.busy": "2021-10-25T08:21:40.303518Z",
     "iopub.status.idle": "2021-10-25T08:21:40.867340Z",
     "shell.execute_reply": "2021-10-25T08:21:40.865266Z"
    }
   },
   "outputs": [
    {
     "data": {
      "image/svg+xml": [
       "<?xml version=\"1.0\" encoding=\"UTF-8\" standalone=\"no\"?><svg xmlns=\"http://www.w3.org/2000/svg\" xmlns:xlink=\"http://www.w3.org/1999/xlink\" contentScriptType=\"application/ecmascript\" contentStyleType=\"text/css\" height=\"401px\" preserveAspectRatio=\"none\" style=\"width:427px;height:401px;\" version=\"1.1\" viewBox=\"0 0 427 401\" width=\"427px\" zoomAndPan=\"magnify\"><defs/><g><!--MD5=[fbc87193dbaf4d95561dea2c320d4a47]\n",
       "cluster E1--><a href=\"psysml:54c28c65-c036-409b-a9ca-8f60ef8eadfb\" target=\"_top\" title=\"psysml:54c28c65-c036-409b-a9ca-8f60ef8eadfb\" xlink:actuate=\"onRequest\" xlink:href=\"psysml:54c28c65-c036-409b-a9ca-8f60ef8eadfb\" xlink:show=\"new\" xlink:title=\"psysml:54c28c65-c036-409b-a9ca-8f60ef8eadfb\" xlink:type=\"simple\"><polygon fill=\"#FFFFFF\" points=\"16,6,116,6,123,28.2969,405,28.2969,405,389,16,389,16,6\" style=\"stroke: #000000; stroke-width: 1.5;\"/><line style=\"stroke: #000000; stroke-width: 1.5;\" x1=\"16\" x2=\"123\" y1=\"28.2969\" y2=\"28.2969\"/><text fill=\"#000000\" font-family=\"sans-serif\" font-size=\"14\" font-weight=\"bold\" lengthAdjust=\"spacingAndGlyphs\" textLength=\"94\" x=\"20\" y=\"20.9951\">VariabilityTest</text></a><!--MD5=[b4997ac47864f28c2f74865a473b2911]\n",
       "class E2--><a href=\"psysml:82cb16a2-9eb2-4cce-bbbe-e1592c7acc8b\" target=\"_top\" title=\"psysml:82cb16a2-9eb2-4cce-bbbe-e1592c7acc8b\" xlink:actuate=\"onRequest\" xlink:href=\"psysml:82cb16a2-9eb2-4cce-bbbe-e1592c7acc8b\" xlink:show=\"new\" xlink:title=\"psysml:82cb16a2-9eb2-4cce-bbbe-e1592c7acc8b\" xlink:type=\"simple\"><rect fill=\"#FFFFFF\" height=\"75.5469\" id=\"E2\" style=\"stroke: #383838; stroke-width: 1.5;\" width=\"70\" x=\"207\" y=\"291\"/><text fill=\"#000000\" font-family=\"sans-serif\" font-size=\"12\" font-style=\"italic\" lengthAdjust=\"spacingAndGlyphs\" textLength=\"68\" x=\"208\" y=\"307.1387\">«part  def»</text><text fill=\"#000000\" font-family=\"sans-serif\" font-size=\"12\" lengthAdjust=\"spacingAndGlyphs\" textLength=\"8\" x=\"238\" y=\"321.1074\">P</text><line style=\"stroke: #383838; stroke-width: 1.5;\" x1=\"208\" x2=\"276\" y1=\"328.9375\" y2=\"328.9375\"/><text fill=\"#000000\" font-family=\"sans-serif\" font-size=\"11\" lengthAdjust=\"spacingAndGlyphs\" textLength=\"7\" x=\"213\" y=\"359.9526\">a</text><line style=\"stroke: #383838; stroke-width: 1.0;\" x1=\"208\" x2=\"214.5\" y1=\"343.3398\" y2=\"343.3398\"/><text fill=\"#000000\" font-family=\"sans-serif\" font-size=\"11\" lengthAdjust=\"spacingAndGlyphs\" textLength=\"55\" x=\"214.5\" y=\"346.6479\">attributes</text><line style=\"stroke: #383838; stroke-width: 1.0;\" x1=\"269.5\" x2=\"276\" y1=\"343.3398\" y2=\"343.3398\"/></a><!--MD5=[09b614a08d8cba4a07c9adeb5e0fee81]\n",
       "class E3--><a href=\"psysml:2ef5dada-a649-4c80-bc3f-904ca5914f5d\" target=\"_top\" title=\"psysml:2ef5dada-a649-4c80-bc3f-904ca5914f5d\" xlink:actuate=\"onRequest\" xlink:href=\"psysml:2ef5dada-a649-4c80-bc3f-904ca5914f5d\" xlink:show=\"new\" xlink:title=\"psysml:2ef5dada-a649-4c80-bc3f-904ca5914f5d\" xlink:type=\"simple\"><rect fill=\"#FFFFFF\" height=\"45.9375\" id=\"E3\" style=\"stroke: #383838; stroke-width: 1.5;\" width=\"70\" x=\"137\" y=\"155\"/><text fill=\"#000000\" font-family=\"sans-serif\" font-size=\"12\" font-style=\"italic\" lengthAdjust=\"spacingAndGlyphs\" textLength=\"68\" x=\"138\" y=\"171.1387\">«part  def»</text><text fill=\"#000000\" font-family=\"sans-serif\" font-size=\"12\" lengthAdjust=\"spacingAndGlyphs\" textLength=\"9\" x=\"167.5\" y=\"185.1074\">Q</text><line style=\"stroke: #383838; stroke-width: 1.5;\" x1=\"138\" x2=\"206\" y1=\"192.9375\" y2=\"192.9375\"/></a><!--MD5=[ebbe1d658d1005bcc118a6aa81145e00]\n",
       "class E4--><a href=\"psysml:45188152-89ae-47db-8fae-185a328aceea\" target=\"_top\" title=\"psysml:45188152-89ae-47db-8fae-185a328aceea\" xlink:actuate=\"onRequest\" xlink:href=\"psysml:45188152-89ae-47db-8fae-185a328aceea\" xlink:show=\"new\" xlink:title=\"psysml:45188152-89ae-47db-8fae-185a328aceea\" xlink:type=\"simple\"><rect fill=\"#FFFFFF\" height=\"45.9375\" id=\"E4\" style=\"stroke: #383838; stroke-width: 1.5;\" width=\"99\" x=\"258.5\" y=\"41\"/><text fill=\"#000000\" font-family=\"sans-serif\" font-size=\"12\" font-style=\"italic\" lengthAdjust=\"spacingAndGlyphs\" textLength=\"97\" x=\"259.5\" y=\"57.1387\">«attribute  def»</text><text fill=\"#000000\" font-family=\"sans-serif\" font-size=\"12\" lengthAdjust=\"spacingAndGlyphs\" textLength=\"8\" x=\"304\" y=\"71.1074\">B</text><line style=\"stroke: #383838; stroke-width: 1.5;\" x1=\"259.5\" x2=\"356.5\" y1=\"78.9375\" y2=\"78.9375\"/></a><!--MD5=[270fce915f116d4de14055a7c1d9a0f3]\n",
       "class E5--><a href=\"psysml:e8a966fa-6247-410c-94c4-6750afcc6da8\" target=\"_top\" title=\"psysml:e8a966fa-6247-410c-94c4-6750afcc6da8\" xlink:actuate=\"onRequest\" xlink:href=\"psysml:e8a966fa-6247-410c-94c4-6750afcc6da8\" xlink:show=\"new\" xlink:title=\"psysml:e8a966fa-6247-410c-94c4-6750afcc6da8\" xlink:type=\"simple\"><rect fill=\"#FFFFFF\" height=\"45.9375\" id=\"E5\" style=\"stroke: #383838; stroke-width: 1.5;\" width=\"70\" x=\"319\" y=\"155\"/><text fill=\"#000000\" font-family=\"sans-serif\" font-size=\"12\" font-style=\"italic\" lengthAdjust=\"spacingAndGlyphs\" textLength=\"68\" x=\"320\" y=\"171.1387\">«part  def»</text><text fill=\"#000000\" font-family=\"sans-serif\" font-size=\"12\" font-style=\"italic\" lengthAdjust=\"spacingAndGlyphs\" textLength=\"8\" x=\"350\" y=\"185.1074\">V</text><line style=\"stroke: #383838; stroke-width: 1.5;\" x1=\"320\" x2=\"388\" y1=\"192.9375\" y2=\"192.9375\"/></a><!--MD5=[60a26617385b1d2d0262a64233df1f8d]\n",
       "class E6--><a href=\"psysml:10060237-19c5-40dc-a73e-8cb7e4953e81\" target=\"_top\" title=\"psysml:10060237-19c5-40dc-a73e-8cb7e4953e81\" xlink:actuate=\"onRequest\" xlink:href=\"psysml:10060237-19c5-40dc-a73e-8cb7e4953e81\" xlink:show=\"new\" xlink:title=\"psysml:10060237-19c5-40dc-a73e-8cb7e4953e81\" xlink:type=\"simple\"><rect fill=\"#FFFFFF\" height=\"88.3516\" id=\"E6\" rx=\"10\" ry=\"10\" style=\"stroke: #383838; stroke-width: 1.5;\" width=\"63\" x=\"312.5\" y=\"285\"/><text fill=\"#000000\" font-family=\"sans-serif\" font-size=\"12\" font-style=\"italic\" lengthAdjust=\"spacingAndGlyphs\" textLength=\"40\" x=\"324\" y=\"301.1387\">«part»</text><text fill=\"#000000\" font-family=\"sans-serif\" font-size=\"12\" lengthAdjust=\"spacingAndGlyphs\" textLength=\"23\" x=\"330.5\" y=\"315.1074\">x: Q</text><line style=\"stroke: #383838; stroke-width: 1.5;\" x1=\"313.5\" x2=\"374.5\" y1=\"322.9375\" y2=\"322.9375\"/><text fill=\"#000000\" font-family=\"sans-serif\" font-size=\"11\" lengthAdjust=\"spacingAndGlyphs\" textLength=\"23\" x=\"318.5\" y=\"353.9526\">b: B</text><text fill=\"#000000\" font-family=\"sans-serif\" font-size=\"11\" font-style=\"italic\" lengthAdjust=\"spacingAndGlyphs\" textLength=\"44\" x=\"318.5\" y=\"366.7573\">:&gt;&gt;P::a</text><line style=\"stroke: #383838; stroke-width: 1.0;\" x1=\"313.5\" x2=\"316.5\" y1=\"337.3398\" y2=\"337.3398\"/><text fill=\"#000000\" font-family=\"sans-serif\" font-size=\"11\" lengthAdjust=\"spacingAndGlyphs\" textLength=\"55\" x=\"316.5\" y=\"340.6479\">attributes</text><line style=\"stroke: #383838; stroke-width: 1.0;\" x1=\"371.5\" x2=\"374.5\" y1=\"337.3398\" y2=\"337.3398\"/></a><!--MD5=[2156ba9850f5573cc1fc38a6a4b2f02b]\n",
       "class E7--><a href=\"psysml:070ce293-3e12-454f-ad5b-be257c39d672\" target=\"_top\" title=\"psysml:070ce293-3e12-454f-ad5b-be257c39d672\" xlink:actuate=\"onRequest\" xlink:href=\"psysml:070ce293-3e12-454f-ad5b-be257c39d672\" xlink:show=\"new\" xlink:title=\"psysml:070ce293-3e12-454f-ad5b-be257c39d672\" xlink:type=\"simple\"><rect fill=\"#FFFFFF\" height=\"45.9375\" id=\"E7\" rx=\"10\" ry=\"10\" style=\"stroke: #383838; stroke-width: 1.5;\" width=\"42\" x=\"151\" y=\"41\"/><text fill=\"#000000\" font-family=\"sans-serif\" font-size=\"12\" font-style=\"italic\" lengthAdjust=\"spacingAndGlyphs\" textLength=\"40\" x=\"152\" y=\"57.1387\">«part»</text><text fill=\"#000000\" font-family=\"sans-serif\" font-size=\"12\" lengthAdjust=\"spacingAndGlyphs\" textLength=\"25\" x=\"157.5\" y=\"71.1074\">q: Q</text><line style=\"stroke: #383838; stroke-width: 1.5;\" x1=\"152\" x2=\"192\" y1=\"78.9375\" y2=\"78.9375\"/></a><!--MD5=[b9389687b975829384b498ac4b7476b2]\n",
       "class E8--><a href=\"psysml:3367482b-ff59-4bbe-a9dc-fe1b4a2ad697\" target=\"_top\" title=\"psysml:3367482b-ff59-4bbe-a9dc-fe1b4a2ad697\" xlink:actuate=\"onRequest\" xlink:href=\"psysml:3367482b-ff59-4bbe-a9dc-fe1b4a2ad697\" xlink:show=\"new\" xlink:title=\"psysml:3367482b-ff59-4bbe-a9dc-fe1b4a2ad697\" xlink:type=\"simple\"><rect fill=\"#FFFFFF\" height=\"59.9063\" id=\"E8\" rx=\"10\" ry=\"10\" style=\"stroke: #383838; stroke-width: 1.5;\" width=\"70\" x=\"32\" y=\"148\"/><text fill=\"#000000\" font-family=\"sans-serif\" font-size=\"12\" font-style=\"italic\" lengthAdjust=\"spacingAndGlyphs\" textLength=\"68\" x=\"33\" y=\"164.1387\">«variation»</text><text fill=\"#000000\" font-family=\"sans-serif\" font-size=\"12\" font-style=\"italic\" lengthAdjust=\"spacingAndGlyphs\" textLength=\"40\" x=\"47\" y=\"178.1074\">«part»</text><text fill=\"#000000\" font-family=\"sans-serif\" font-size=\"12\" font-style=\"italic\" lengthAdjust=\"spacingAndGlyphs\" textLength=\"6\" x=\"54\" y=\"192.0762\">v</text><text fill=\"#000000\" font-family=\"sans-serif\" font-size=\"12\" lengthAdjust=\"spacingAndGlyphs\" textLength=\"16\" x=\"60\" y=\"192.0762\">: P</text><line style=\"stroke: #383838; stroke-width: 1.5;\" x1=\"33\" x2=\"101\" y1=\"199.9063\" y2=\"199.9063\"/></a><!--MD5=[fd4143e9d270a159db93a4ea2a975926]\n",
       "class E9--><a href=\"psysml:80fa5ea3-437e-4eec-9e3d-5d2e24e12c28\" target=\"_top\" title=\"psysml:80fa5ea3-437e-4eec-9e3d-5d2e24e12c28\" xlink:actuate=\"onRequest\" xlink:href=\"psysml:80fa5ea3-437e-4eec-9e3d-5d2e24e12c28\" xlink:show=\"new\" xlink:title=\"psysml:80fa5ea3-437e-4eec-9e3d-5d2e24e12c28\" xlink:type=\"simple\"><rect fill=\"#FFFFFF\" height=\"88.3516\" id=\"E9\" rx=\"10\" ry=\"10\" style=\"stroke: #383838; stroke-width: 1.5;\" width=\"139\" x=\"32.5\" y=\"285\"/><text fill=\"#000000\" font-family=\"sans-serif\" font-size=\"12\" font-style=\"italic\" lengthAdjust=\"spacingAndGlyphs\" textLength=\"75\" x=\"64.5\" y=\"301.1387\">«reference»</text><text fill=\"#000000\" font-family=\"sans-serif\" font-size=\"12\" lengthAdjust=\"spacingAndGlyphs\" textLength=\"133\" x=\"35.5\" y=\"315.1074\">q :&gt; VariabilityTest::q</text><line style=\"stroke: #383838; stroke-width: 1.5;\" x1=\"33.5\" x2=\"170.5\" y1=\"322.9375\" y2=\"322.9375\"/><text fill=\"#000000\" font-family=\"sans-serif\" font-size=\"11\" lengthAdjust=\"spacingAndGlyphs\" textLength=\"23\" x=\"38.5\" y=\"353.9526\">b: B</text><text fill=\"#000000\" font-family=\"sans-serif\" font-size=\"11\" font-style=\"italic\" lengthAdjust=\"spacingAndGlyphs\" textLength=\"44\" x=\"38.5\" y=\"366.7573\">:&gt;&gt;P::a</text><line style=\"stroke: #383838; stroke-width: 1.0;\" x1=\"33.5\" x2=\"74.5\" y1=\"337.3398\" y2=\"337.3398\"/><text fill=\"#000000\" font-family=\"sans-serif\" font-size=\"11\" lengthAdjust=\"spacingAndGlyphs\" textLength=\"55\" x=\"74.5\" y=\"340.6479\">attributes</text><line style=\"stroke: #383838; stroke-width: 1.0;\" x1=\"129.5\" x2=\"170.5\" y1=\"337.3398\" y2=\"337.3398\"/></a><!--MD5=[96f4274e9e20536e775497830990834d]\n",
       "class E10--><a href=\"psysml:48eaa747-84b8-4879-8d6b-33c104c23f89\" target=\"_top\" title=\"psysml:48eaa747-84b8-4879-8d6b-33c104c23f89\" xlink:actuate=\"onRequest\" xlink:href=\"psysml:48eaa747-84b8-4879-8d6b-33c104c23f89\" xlink:show=\"new\" xlink:title=\"psysml:48eaa747-84b8-4879-8d6b-33c104c23f89\" xlink:type=\"simple\"><rect fill=\"#FFFFFF\" height=\"45.9375\" id=\"E10\" rx=\"10\" ry=\"10\" style=\"stroke: #383838; stroke-width: 1.5;\" width=\"42\" x=\"242\" y=\"155\"/><text fill=\"#000000\" font-family=\"sans-serif\" font-size=\"12\" font-style=\"italic\" lengthAdjust=\"spacingAndGlyphs\" textLength=\"40\" x=\"243\" y=\"171.1387\">«part»</text><text fill=\"#000000\" font-family=\"sans-serif\" font-size=\"12\" lengthAdjust=\"spacingAndGlyphs\" textLength=\"22\" x=\"250\" y=\"185.1074\">y: P</text><line style=\"stroke: #383838; stroke-width: 1.5;\" x1=\"243\" x2=\"283\" y1=\"192.9375\" y2=\"192.9375\"/></a><!--MD5=[05d275557350bfb9b23a4ef7222b4c39]\n",
       "link E3 to E2--><a href=\"psysml:8fca0815-a461-4953-83e8-63ed8c86de29\" target=\"_top\" title=\"psysml:8fca0815-a461-4953-83e8-63ed8c86de29\" xlink:actuate=\"onRequest\" xlink:href=\"psysml:8fca0815-a461-4953-83e8-63ed8c86de29\" xlink:show=\"new\" xlink:title=\"psysml:8fca0815-a461-4953-83e8-63ed8c86de29\" xlink:type=\"simple\"><path d=\"M182.48,201.31 C191.32,220.13 204.37,247.89 215.99,272.64 \" fill=\"none\" id=\"E3-&gt;E2\" style=\"stroke: #383838; stroke-width: 1.0;\"/><polygon fill=\"none\" points=\"222.34,269.69,224.51,290.77,209.67,275.64,222.34,269.69\" style=\"stroke: #383838; stroke-width: 1.0;\"/></a><!--MD5=[15ebcb19ae302d9b601edb458606d402]\n",
       "link E5 to E2--><a href=\"psysml:80d735d5-abd9-4df4-b941-a11b60e81c18\" target=\"_top\" title=\"psysml:80d735d5-abd9-4df4-b941-a11b60e81c18\" xlink:actuate=\"onRequest\" xlink:href=\"psysml:80d735d5-abd9-4df4-b941-a11b60e81c18\" xlink:show=\"new\" xlink:title=\"psysml:80d735d5-abd9-4df4-b941-a11b60e81c18\" xlink:type=\"simple\"><path d=\"M337.23,201.31 C322.73,220.59 301.19,249.26 282.25,274.45 \" fill=\"none\" id=\"E5-&gt;E2\" style=\"stroke: #383838; stroke-width: 1.0;\"/><polygon fill=\"none\" points=\"287.6,278.99,269.99,290.77,276.41,270.57,287.6,278.99\" style=\"stroke: #383838; stroke-width: 1.0;\"/></a><!--MD5=[9120cf2e5df3bff93db8f754bbbc09b4]\n",
       "link E5 to E6--><a href=\"psysml:bbf94ce0-8140-4269-b805-c97e9315d509\" target=\"_top\" title=\"psysml:bbf94ce0-8140-4269-b805-c97e9315d509\" xlink:actuate=\"onRequest\" xlink:href=\"psysml:bbf94ce0-8140-4269-b805-c97e9315d509\" xlink:show=\"new\" xlink:title=\"psysml:bbf94ce0-8140-4269-b805-c97e9315d509\" xlink:type=\"simple\"><path d=\"M351.82,211.55 C350.58,230.03 348.99,253.61 347.58,274.71 \" fill=\"none\" id=\"E5-E6\" style=\"stroke: #383838; stroke-width: 1.0;\"/><polygon fill=\"#383838\" points=\"346.9,284.84,350.4299,277.0593,344.4435,276.6568,346.9,284.84\" style=\"stroke: #383838; stroke-width: 1.0;\"/><path d=\"M343.8553,203.8139 A9,9 0 0 0 360.7317 204.9486\" fill=\"none\" style=\"stroke: #383838; stroke-width: 1.5;\"/><text fill=\"#000000\" font-family=\"sans-serif\" font-size=\"13\" lengthAdjust=\"spacingAndGlyphs\" textLength=\"60\" x=\"350\" y=\"251.0669\">«variant»</text></a><!--MD5=[14ccda38c055a5c0da953d572bc50960]\n",
       "link E7 to E3--><a href=\"psysml:1a218306-3ccb-4021-8143-a6b7222dd125\" target=\"_top\" title=\"psysml:1a218306-3ccb-4021-8143-a6b7222dd125\" xlink:actuate=\"onRequest\" xlink:href=\"psysml:1a218306-3ccb-4021-8143-a6b7222dd125\" xlink:show=\"new\" xlink:title=\"psysml:1a218306-3ccb-4021-8143-a6b7222dd125\" xlink:type=\"simple\"><path d=\"M172,87.13 C172,100.7 172,118.53 172,134.73 \" fill=\"none\" id=\"E7-&gt;E3\" style=\"stroke: #383838; stroke-width: 1.0;\"/><polygon fill=\"#FFFFFF\" points=\"172,154.92,165,135.92,179,135.92,172,154.92\" style=\"stroke: #383838; stroke-width: 1.0;\"/><ellipse cx=\"167\" cy=\"130.22\" fill=\"#383838\" rx=\"2\" ry=\"2\" style=\"stroke: #383838; stroke-width: 1.0;\"/><ellipse cx=\"177\" cy=\"130.22\" fill=\"#383838\" rx=\"2\" ry=\"2\" style=\"stroke: #383838; stroke-width: 1.0;\"/></a><!--MD5=[f1f3f9f2fc535e6147756cb86a7f2e32]\n",
       "link E8 to E2--><a href=\"psysml:0a07ead6-b6a6-4f86-92cb-b01532aad754\" target=\"_top\" title=\"psysml:0a07ead6-b6a6-4f86-92cb-b01532aad754\" xlink:actuate=\"onRequest\" xlink:href=\"psysml:0a07ead6-b6a6-4f86-92cb-b01532aad754\" xlink:show=\"new\" xlink:title=\"psysml:0a07ead6-b6a6-4f86-92cb-b01532aad754\" xlink:type=\"simple\"><path d=\"M102.03,200.45 C118.37,211.04 137.76,224.42 154,238 C167.86,249.58 181.94,263.07 194.66,276.02 \" fill=\"none\" id=\"E8-&gt;E2\" style=\"stroke: #383838; stroke-width: 1.0;\"/><polygon fill=\"#FFFFFF\" points=\"208.87,290.84,190.6693,281.9667,200.7765,272.2794,208.87,290.84\" style=\"stroke: #383838; stroke-width: 1.0;\"/><ellipse cx=\"188.1691\" cy=\"276.4678\" fill=\"#383838\" rx=\"2\" ry=\"2\" style=\"stroke: #383838; stroke-width: 1.0;\"/><ellipse cx=\"195.3885\" cy=\"269.5482\" fill=\"#383838\" rx=\"2\" ry=\"2\" style=\"stroke: #383838; stroke-width: 1.0;\"/></a><!--MD5=[ed10624c06dd9a4fa49ccf290e8b16a8]\n",
       "link E8 to E9--><a href=\"psysml:95cf767c-bf38-4d44-8a21-82e4671e1c7d\" target=\"_top\" title=\"psysml:95cf767c-bf38-4d44-8a21-82e4671e1c7d\" xlink:actuate=\"onRequest\" xlink:href=\"psysml:95cf767c-bf38-4d44-8a21-82e4671e1c7d\" xlink:show=\"new\" xlink:title=\"psysml:95cf767c-bf38-4d44-8a21-82e4671e1c7d\" xlink:type=\"simple\"><path d=\"M76.17,218.04 C80.26,235.44 85.14,256.2 89.55,274.98 \" fill=\"none\" id=\"E8-E9\" style=\"stroke: #383838; stroke-width: 1.0;\"/><polygon fill=\"#383838\" points=\"91.87,284.88,92.9607,276.4059,87.1198,277.7782,91.87,284.88\" style=\"stroke: #383838; stroke-width: 1.0;\"/><path d=\"M66.2994,213.0085 A9,9 0 0 0 82.7667 209.1452\" fill=\"none\" style=\"stroke: #383838; stroke-width: 1.5;\"/><text fill=\"#000000\" font-family=\"sans-serif\" font-size=\"13\" lengthAdjust=\"spacingAndGlyphs\" textLength=\"60\" x=\"85\" y=\"251.0669\">«variant»</text></a><!--MD5=[0f36bececdf0dff6e600d6f64214b0f1]\n",
       "link E10 to E2--><a href=\"psysml:6b6ac884-9cd9-45a3-8497-3c127dcfd472\" target=\"_top\" title=\"psysml:6b6ac884-9cd9-45a3-8497-3c127dcfd472\" xlink:actuate=\"onRequest\" xlink:href=\"psysml:6b6ac884-9cd9-45a3-8497-3c127dcfd472\" xlink:show=\"new\" xlink:title=\"psysml:6b6ac884-9cd9-45a3-8497-3c127dcfd472\" xlink:type=\"simple\"><path d=\"M259.86,201.31 C257.27,219.67 253.48,246.54 250.06,270.81 \" fill=\"none\" id=\"E10-&gt;E2\" style=\"stroke: #383838; stroke-width: 1.0;\"/><polygon fill=\"#FFFFFF\" points=\"247.25,290.77,242.9654,270.9801,256.8288,272.9305,247.25,290.77\" style=\"stroke: #383838; stroke-width: 1.0;\"/><ellipse cx=\"245.74\" cy=\"265.6143\" fill=\"#383838\" rx=\"2\" ry=\"2\" style=\"stroke: #383838; stroke-width: 1.0;\"/><ellipse cx=\"255.6425\" cy=\"267.0075\" fill=\"#383838\" rx=\"2\" ry=\"2\" style=\"stroke: #383838; stroke-width: 1.0;\"/></a><!--MD5=[eea7c355ab533d77382992385bdb58f0]\n",
       "@startuml\r\n",
       " skinparam monochrome true\r\n",
       "skinparam classbackgroundcolor white\r\n",
       "skinparam shadowing false\r\n",
       "skinparam wrapWidth 300\r\n",
       "hide circle\r\n",
       "\r\n",
       "package \"VariabilityTest\" as E1  [[psysml:54c28c65-c036-409b-a9ca-8f60ef8eadfb ]]  {\r\n",
       "comp def \"P\" as E2  <<(T,blue) part  def>> [[psysml:82cb16a2-9eb2-4cce-bbbe-e1592c7acc8b ]] {\r\n",
       "- - attributes - -\r\n",
       "a\r\n",
       "}\r\n",
       "comp def \"Q\" as E3  <<(T,blue) part  def>> [[psysml:2ef5dada-a649-4c80-bc3f-904ca5914f5d ]] {\r\n",
       "}\r\n",
       "comp def \"B\" as E4  <<(T,blue) attribute  def>> [[psysml:45188152-89ae-47db-8fae-185a328aceea ]] {\r\n",
       "}\r\n",
       "comp def \"<i>V</i>\" as E5  <<(T,blue) part  def>> [[psysml:e8a966fa-6247-410c-94c4-6750afcc6da8 ]] {\r\n",
       "}\r\n",
       "comp usage \"x: Q \" as E6  <<(T,blue) part>> [[psysml:10060237-19c5-40dc-a73e-8cb7e4953e81 ]] {\r\n",
       "- - attributes - -\r\n",
       "b: B\\n//:>>P::a// \r\n",
       "}\r\n",
       "comp usage \"q: Q \" as E7  <<(T,blue) part>> [[psysml:070ce293-3e12-454f-ad5b-be257c39d672 ]] {\r\n",
       "}\r\n",
       "comp usage \"<i>v</i>: P \" as E8  <<variation>>\\n <<(T,blue) part>> [[psysml:3367482b-ff59-4bbe-a9dc-fe1b4a2ad697 ]] {\r\n",
       "}\r\n",
       "comp usage \"q :> VariabilityTest::q\" as E9  <<(T,blue) reference>> [[psysml:80fa5ea3-437e-4eec-9e3d-5d2e24e12c28 ]] {\r\n",
       "- - attributes - -\r\n",
       "b: B\\n//:>>P::a// \r\n",
       "}\r\n",
       "comp usage \"y: P \" as E10  <<(T,blue) part>> [[psysml:48eaa747-84b8-4879-8d6b-33c104c23f89 ]] {\r\n",
       "}\r\n",
       "}\r\n",
       "E3 - -|> E2 [[psysml:8fca0815-a461-4953-83e8-63ed8c86de29 ]] \r\n",
       "E5 - -|> E2 [[psysml:80d735d5-abd9-4df4-b941-a11b60e81c18 ]] \r\n",
       "E5 )- ->> E6 [[psysml:bbf94ce0-8140-4269-b805-c97e9315d509 ]] : <<variant>>\r\n",
       "E7 - -:|> E3 [[psysml:1a218306-3ccb-4021-8143-a6b7222dd125 ]] \r\n",
       "E8 - -:|> E2 [[psysml:0a07ead6-b6a6-4f86-92cb-b01532aad754 ]] \r\n",
       "E8 )- ->> E9 [[psysml:95cf767c-bf38-4d44-8a21-82e4671e1c7d ]] : <<variant>>\r\n",
       "E10 - -:|> E2 [[psysml:6b6ac884-9cd9-45a3-8497-3c127dcfd472 ]] \r\n",
       "@enduml\r\n",
       "\n",
       "PlantUML version 1.2020.13(Sat Jun 13 12:26:38 UTC 2020)\n",
       "(EPL source distribution)\n",
       "Java Runtime: OpenJDK Runtime Environment\n",
       "JVM: OpenJDK 64-Bit Server VM\n",
       "Default Encoding: UTF-8\n",
       "Language: en\n",
       "Country: null\n",
       "--></g></svg>"
      ]
     },
     "execution_count": 2,
     "metadata": {},
     "output_type": "execute_result"
    }
   ],
   "source": [
    "%viz --style=\"COMPTREE\" --view=\"Default\" \"VariabilityTest\""
   ]
  },
  {
   "cell_type": "code",
   "execution_count": 3,
   "id": "fbfc09a9",
   "metadata": {
    "execution": {
     "iopub.execute_input": "2021-10-25T08:21:40.916182Z",
     "iopub.status.busy": "2021-10-25T08:21:40.915751Z",
     "iopub.status.idle": "2021-10-25T08:21:41.033136Z",
     "shell.execute_reply": "2021-10-25T08:21:41.032772Z"
    }
   },
   "outputs": [
    {
     "data": {
      "image/svg+xml": [
       "<?xml version=\"1.0\" encoding=\"UTF-8\" standalone=\"no\"?><svg xmlns=\"http://www.w3.org/2000/svg\" xmlns:xlink=\"http://www.w3.org/1999/xlink\" contentScriptType=\"application/ecmascript\" contentStyleType=\"text/css\" height=\"401px\" preserveAspectRatio=\"none\" style=\"width:427px;height:401px;\" version=\"1.1\" viewBox=\"0 0 427 401\" width=\"427px\" zoomAndPan=\"magnify\"><defs/><g><!--MD5=[fbc87193dbaf4d95561dea2c320d4a47]\n",
       "cluster E1--><a href=\"psysml:54c28c65-c036-409b-a9ca-8f60ef8eadfb\" target=\"_top\" title=\"psysml:54c28c65-c036-409b-a9ca-8f60ef8eadfb\" xlink:actuate=\"onRequest\" xlink:href=\"psysml:54c28c65-c036-409b-a9ca-8f60ef8eadfb\" xlink:show=\"new\" xlink:title=\"psysml:54c28c65-c036-409b-a9ca-8f60ef8eadfb\" xlink:type=\"simple\"><polygon fill=\"#FFFFFF\" points=\"16,6,116,6,123,28.2969,405,28.2969,405,389,16,389,16,6\" style=\"stroke: #000000; stroke-width: 1.5;\"/><line style=\"stroke: #000000; stroke-width: 1.5;\" x1=\"16\" x2=\"123\" y1=\"28.2969\" y2=\"28.2969\"/><text fill=\"#000000\" font-family=\"sans-serif\" font-size=\"14\" font-weight=\"bold\" lengthAdjust=\"spacingAndGlyphs\" textLength=\"94\" x=\"20\" y=\"20.9951\">VariabilityTest</text></a><!--MD5=[b4997ac47864f28c2f74865a473b2911]\n",
       "class E2--><a href=\"psysml:82cb16a2-9eb2-4cce-bbbe-e1592c7acc8b\" target=\"_top\" title=\"psysml:82cb16a2-9eb2-4cce-bbbe-e1592c7acc8b\" xlink:actuate=\"onRequest\" xlink:href=\"psysml:82cb16a2-9eb2-4cce-bbbe-e1592c7acc8b\" xlink:show=\"new\" xlink:title=\"psysml:82cb16a2-9eb2-4cce-bbbe-e1592c7acc8b\" xlink:type=\"simple\"><rect fill=\"#FFFFFF\" height=\"75.5469\" id=\"E2\" style=\"stroke: #383838; stroke-width: 1.5;\" width=\"70\" x=\"207\" y=\"291\"/><text fill=\"#000000\" font-family=\"sans-serif\" font-size=\"12\" font-style=\"italic\" lengthAdjust=\"spacingAndGlyphs\" textLength=\"68\" x=\"208\" y=\"307.1387\">«part  def»</text><text fill=\"#000000\" font-family=\"sans-serif\" font-size=\"12\" lengthAdjust=\"spacingAndGlyphs\" textLength=\"8\" x=\"238\" y=\"321.1074\">P</text><line style=\"stroke: #383838; stroke-width: 1.5;\" x1=\"208\" x2=\"276\" y1=\"328.9375\" y2=\"328.9375\"/><text fill=\"#000000\" font-family=\"sans-serif\" font-size=\"11\" lengthAdjust=\"spacingAndGlyphs\" textLength=\"7\" x=\"213\" y=\"359.9526\">a</text><line style=\"stroke: #383838; stroke-width: 1.0;\" x1=\"208\" x2=\"214.5\" y1=\"343.3398\" y2=\"343.3398\"/><text fill=\"#000000\" font-family=\"sans-serif\" font-size=\"11\" lengthAdjust=\"spacingAndGlyphs\" textLength=\"55\" x=\"214.5\" y=\"346.6479\">attributes</text><line style=\"stroke: #383838; stroke-width: 1.0;\" x1=\"269.5\" x2=\"276\" y1=\"343.3398\" y2=\"343.3398\"/></a><!--MD5=[09b614a08d8cba4a07c9adeb5e0fee81]\n",
       "class E3--><a href=\"psysml:2ef5dada-a649-4c80-bc3f-904ca5914f5d\" target=\"_top\" title=\"psysml:2ef5dada-a649-4c80-bc3f-904ca5914f5d\" xlink:actuate=\"onRequest\" xlink:href=\"psysml:2ef5dada-a649-4c80-bc3f-904ca5914f5d\" xlink:show=\"new\" xlink:title=\"psysml:2ef5dada-a649-4c80-bc3f-904ca5914f5d\" xlink:type=\"simple\"><rect fill=\"#FFFFFF\" height=\"45.9375\" id=\"E3\" style=\"stroke: #383838; stroke-width: 1.5;\" width=\"70\" x=\"137\" y=\"155\"/><text fill=\"#000000\" font-family=\"sans-serif\" font-size=\"12\" font-style=\"italic\" lengthAdjust=\"spacingAndGlyphs\" textLength=\"68\" x=\"138\" y=\"171.1387\">«part  def»</text><text fill=\"#000000\" font-family=\"sans-serif\" font-size=\"12\" lengthAdjust=\"spacingAndGlyphs\" textLength=\"9\" x=\"167.5\" y=\"185.1074\">Q</text><line style=\"stroke: #383838; stroke-width: 1.5;\" x1=\"138\" x2=\"206\" y1=\"192.9375\" y2=\"192.9375\"/></a><!--MD5=[ebbe1d658d1005bcc118a6aa81145e00]\n",
       "class E4--><a href=\"psysml:45188152-89ae-47db-8fae-185a328aceea\" target=\"_top\" title=\"psysml:45188152-89ae-47db-8fae-185a328aceea\" xlink:actuate=\"onRequest\" xlink:href=\"psysml:45188152-89ae-47db-8fae-185a328aceea\" xlink:show=\"new\" xlink:title=\"psysml:45188152-89ae-47db-8fae-185a328aceea\" xlink:type=\"simple\"><rect fill=\"#FFFFFF\" height=\"45.9375\" id=\"E4\" style=\"stroke: #383838; stroke-width: 1.5;\" width=\"99\" x=\"258.5\" y=\"41\"/><text fill=\"#000000\" font-family=\"sans-serif\" font-size=\"12\" font-style=\"italic\" lengthAdjust=\"spacingAndGlyphs\" textLength=\"97\" x=\"259.5\" y=\"57.1387\">«attribute  def»</text><text fill=\"#000000\" font-family=\"sans-serif\" font-size=\"12\" lengthAdjust=\"spacingAndGlyphs\" textLength=\"8\" x=\"304\" y=\"71.1074\">B</text><line style=\"stroke: #383838; stroke-width: 1.5;\" x1=\"259.5\" x2=\"356.5\" y1=\"78.9375\" y2=\"78.9375\"/></a><!--MD5=[270fce915f116d4de14055a7c1d9a0f3]\n",
       "class E5--><a href=\"psysml:e8a966fa-6247-410c-94c4-6750afcc6da8\" target=\"_top\" title=\"psysml:e8a966fa-6247-410c-94c4-6750afcc6da8\" xlink:actuate=\"onRequest\" xlink:href=\"psysml:e8a966fa-6247-410c-94c4-6750afcc6da8\" xlink:show=\"new\" xlink:title=\"psysml:e8a966fa-6247-410c-94c4-6750afcc6da8\" xlink:type=\"simple\"><rect fill=\"#FFFFFF\" height=\"45.9375\" id=\"E5\" style=\"stroke: #383838; stroke-width: 1.5;\" width=\"70\" x=\"319\" y=\"155\"/><text fill=\"#000000\" font-family=\"sans-serif\" font-size=\"12\" font-style=\"italic\" lengthAdjust=\"spacingAndGlyphs\" textLength=\"68\" x=\"320\" y=\"171.1387\">«part  def»</text><text fill=\"#000000\" font-family=\"sans-serif\" font-size=\"12\" font-style=\"italic\" lengthAdjust=\"spacingAndGlyphs\" textLength=\"8\" x=\"350\" y=\"185.1074\">V</text><line style=\"stroke: #383838; stroke-width: 1.5;\" x1=\"320\" x2=\"388\" y1=\"192.9375\" y2=\"192.9375\"/></a><!--MD5=[60a26617385b1d2d0262a64233df1f8d]\n",
       "class E6--><a href=\"psysml:10060237-19c5-40dc-a73e-8cb7e4953e81\" target=\"_top\" title=\"psysml:10060237-19c5-40dc-a73e-8cb7e4953e81\" xlink:actuate=\"onRequest\" xlink:href=\"psysml:10060237-19c5-40dc-a73e-8cb7e4953e81\" xlink:show=\"new\" xlink:title=\"psysml:10060237-19c5-40dc-a73e-8cb7e4953e81\" xlink:type=\"simple\"><rect fill=\"#FFFFFF\" height=\"88.3516\" id=\"E6\" rx=\"10\" ry=\"10\" style=\"stroke: #383838; stroke-width: 1.5;\" width=\"63\" x=\"312.5\" y=\"285\"/><text fill=\"#000000\" font-family=\"sans-serif\" font-size=\"12\" font-style=\"italic\" lengthAdjust=\"spacingAndGlyphs\" textLength=\"40\" x=\"324\" y=\"301.1387\">«part»</text><text fill=\"#000000\" font-family=\"sans-serif\" font-size=\"12\" lengthAdjust=\"spacingAndGlyphs\" textLength=\"23\" x=\"330.5\" y=\"315.1074\">x: Q</text><line style=\"stroke: #383838; stroke-width: 1.5;\" x1=\"313.5\" x2=\"374.5\" y1=\"322.9375\" y2=\"322.9375\"/><text fill=\"#000000\" font-family=\"sans-serif\" font-size=\"11\" lengthAdjust=\"spacingAndGlyphs\" textLength=\"23\" x=\"318.5\" y=\"353.9526\">b: B</text><text fill=\"#000000\" font-family=\"sans-serif\" font-size=\"11\" font-style=\"italic\" lengthAdjust=\"spacingAndGlyphs\" textLength=\"44\" x=\"318.5\" y=\"366.7573\">:&gt;&gt;P::a</text><line style=\"stroke: #383838; stroke-width: 1.0;\" x1=\"313.5\" x2=\"316.5\" y1=\"337.3398\" y2=\"337.3398\"/><text fill=\"#000000\" font-family=\"sans-serif\" font-size=\"11\" lengthAdjust=\"spacingAndGlyphs\" textLength=\"55\" x=\"316.5\" y=\"340.6479\">attributes</text><line style=\"stroke: #383838; stroke-width: 1.0;\" x1=\"371.5\" x2=\"374.5\" y1=\"337.3398\" y2=\"337.3398\"/></a><!--MD5=[2156ba9850f5573cc1fc38a6a4b2f02b]\n",
       "class E7--><a href=\"psysml:070ce293-3e12-454f-ad5b-be257c39d672\" target=\"_top\" title=\"psysml:070ce293-3e12-454f-ad5b-be257c39d672\" xlink:actuate=\"onRequest\" xlink:href=\"psysml:070ce293-3e12-454f-ad5b-be257c39d672\" xlink:show=\"new\" xlink:title=\"psysml:070ce293-3e12-454f-ad5b-be257c39d672\" xlink:type=\"simple\"><rect fill=\"#FFFFFF\" height=\"45.9375\" id=\"E7\" rx=\"10\" ry=\"10\" style=\"stroke: #383838; stroke-width: 1.5;\" width=\"42\" x=\"151\" y=\"41\"/><text fill=\"#000000\" font-family=\"sans-serif\" font-size=\"12\" font-style=\"italic\" lengthAdjust=\"spacingAndGlyphs\" textLength=\"40\" x=\"152\" y=\"57.1387\">«part»</text><text fill=\"#000000\" font-family=\"sans-serif\" font-size=\"12\" lengthAdjust=\"spacingAndGlyphs\" textLength=\"25\" x=\"157.5\" y=\"71.1074\">q: Q</text><line style=\"stroke: #383838; stroke-width: 1.5;\" x1=\"152\" x2=\"192\" y1=\"78.9375\" y2=\"78.9375\"/></a><!--MD5=[b9389687b975829384b498ac4b7476b2]\n",
       "class E8--><a href=\"psysml:3367482b-ff59-4bbe-a9dc-fe1b4a2ad697\" target=\"_top\" title=\"psysml:3367482b-ff59-4bbe-a9dc-fe1b4a2ad697\" xlink:actuate=\"onRequest\" xlink:href=\"psysml:3367482b-ff59-4bbe-a9dc-fe1b4a2ad697\" xlink:show=\"new\" xlink:title=\"psysml:3367482b-ff59-4bbe-a9dc-fe1b4a2ad697\" xlink:type=\"simple\"><rect fill=\"#FFFFFF\" height=\"59.9063\" id=\"E8\" rx=\"10\" ry=\"10\" style=\"stroke: #383838; stroke-width: 1.5;\" width=\"70\" x=\"32\" y=\"148\"/><text fill=\"#000000\" font-family=\"sans-serif\" font-size=\"12\" font-style=\"italic\" lengthAdjust=\"spacingAndGlyphs\" textLength=\"68\" x=\"33\" y=\"164.1387\">«variation»</text><text fill=\"#000000\" font-family=\"sans-serif\" font-size=\"12\" font-style=\"italic\" lengthAdjust=\"spacingAndGlyphs\" textLength=\"40\" x=\"47\" y=\"178.1074\">«part»</text><text fill=\"#000000\" font-family=\"sans-serif\" font-size=\"12\" font-style=\"italic\" lengthAdjust=\"spacingAndGlyphs\" textLength=\"6\" x=\"54\" y=\"192.0762\">v</text><text fill=\"#000000\" font-family=\"sans-serif\" font-size=\"12\" lengthAdjust=\"spacingAndGlyphs\" textLength=\"16\" x=\"60\" y=\"192.0762\">: P</text><line style=\"stroke: #383838; stroke-width: 1.5;\" x1=\"33\" x2=\"101\" y1=\"199.9063\" y2=\"199.9063\"/></a><!--MD5=[fd4143e9d270a159db93a4ea2a975926]\n",
       "class E9--><a href=\"psysml:80fa5ea3-437e-4eec-9e3d-5d2e24e12c28\" target=\"_top\" title=\"psysml:80fa5ea3-437e-4eec-9e3d-5d2e24e12c28\" xlink:actuate=\"onRequest\" xlink:href=\"psysml:80fa5ea3-437e-4eec-9e3d-5d2e24e12c28\" xlink:show=\"new\" xlink:title=\"psysml:80fa5ea3-437e-4eec-9e3d-5d2e24e12c28\" xlink:type=\"simple\"><rect fill=\"#FFFFFF\" height=\"88.3516\" id=\"E9\" rx=\"10\" ry=\"10\" style=\"stroke: #383838; stroke-width: 1.5;\" width=\"139\" x=\"32.5\" y=\"285\"/><text fill=\"#000000\" font-family=\"sans-serif\" font-size=\"12\" font-style=\"italic\" lengthAdjust=\"spacingAndGlyphs\" textLength=\"75\" x=\"64.5\" y=\"301.1387\">«reference»</text><text fill=\"#000000\" font-family=\"sans-serif\" font-size=\"12\" lengthAdjust=\"spacingAndGlyphs\" textLength=\"133\" x=\"35.5\" y=\"315.1074\">q :&gt; VariabilityTest::q</text><line style=\"stroke: #383838; stroke-width: 1.5;\" x1=\"33.5\" x2=\"170.5\" y1=\"322.9375\" y2=\"322.9375\"/><text fill=\"#000000\" font-family=\"sans-serif\" font-size=\"11\" lengthAdjust=\"spacingAndGlyphs\" textLength=\"23\" x=\"38.5\" y=\"353.9526\">b: B</text><text fill=\"#000000\" font-family=\"sans-serif\" font-size=\"11\" font-style=\"italic\" lengthAdjust=\"spacingAndGlyphs\" textLength=\"44\" x=\"38.5\" y=\"366.7573\">:&gt;&gt;P::a</text><line style=\"stroke: #383838; stroke-width: 1.0;\" x1=\"33.5\" x2=\"74.5\" y1=\"337.3398\" y2=\"337.3398\"/><text fill=\"#000000\" font-family=\"sans-serif\" font-size=\"11\" lengthAdjust=\"spacingAndGlyphs\" textLength=\"55\" x=\"74.5\" y=\"340.6479\">attributes</text><line style=\"stroke: #383838; stroke-width: 1.0;\" x1=\"129.5\" x2=\"170.5\" y1=\"337.3398\" y2=\"337.3398\"/></a><!--MD5=[96f4274e9e20536e775497830990834d]\n",
       "class E10--><a href=\"psysml:48eaa747-84b8-4879-8d6b-33c104c23f89\" target=\"_top\" title=\"psysml:48eaa747-84b8-4879-8d6b-33c104c23f89\" xlink:actuate=\"onRequest\" xlink:href=\"psysml:48eaa747-84b8-4879-8d6b-33c104c23f89\" xlink:show=\"new\" xlink:title=\"psysml:48eaa747-84b8-4879-8d6b-33c104c23f89\" xlink:type=\"simple\"><rect fill=\"#FFFFFF\" height=\"45.9375\" id=\"E10\" rx=\"10\" ry=\"10\" style=\"stroke: #383838; stroke-width: 1.5;\" width=\"42\" x=\"242\" y=\"155\"/><text fill=\"#000000\" font-family=\"sans-serif\" font-size=\"12\" font-style=\"italic\" lengthAdjust=\"spacingAndGlyphs\" textLength=\"40\" x=\"243\" y=\"171.1387\">«part»</text><text fill=\"#000000\" font-family=\"sans-serif\" font-size=\"12\" lengthAdjust=\"spacingAndGlyphs\" textLength=\"22\" x=\"250\" y=\"185.1074\">y: P</text><line style=\"stroke: #383838; stroke-width: 1.5;\" x1=\"243\" x2=\"283\" y1=\"192.9375\" y2=\"192.9375\"/></a><!--MD5=[05d275557350bfb9b23a4ef7222b4c39]\n",
       "link E3 to E2--><a href=\"psysml:8fca0815-a461-4953-83e8-63ed8c86de29\" target=\"_top\" title=\"psysml:8fca0815-a461-4953-83e8-63ed8c86de29\" xlink:actuate=\"onRequest\" xlink:href=\"psysml:8fca0815-a461-4953-83e8-63ed8c86de29\" xlink:show=\"new\" xlink:title=\"psysml:8fca0815-a461-4953-83e8-63ed8c86de29\" xlink:type=\"simple\"><path d=\"M182.48,201.31 C191.32,220.13 204.37,247.89 215.99,272.64 \" fill=\"none\" id=\"E3-&gt;E2\" style=\"stroke: #383838; stroke-width: 1.0;\"/><polygon fill=\"none\" points=\"222.34,269.69,224.51,290.77,209.67,275.64,222.34,269.69\" style=\"stroke: #383838; stroke-width: 1.0;\"/></a><!--MD5=[15ebcb19ae302d9b601edb458606d402]\n",
       "link E5 to E2--><a href=\"psysml:80d735d5-abd9-4df4-b941-a11b60e81c18\" target=\"_top\" title=\"psysml:80d735d5-abd9-4df4-b941-a11b60e81c18\" xlink:actuate=\"onRequest\" xlink:href=\"psysml:80d735d5-abd9-4df4-b941-a11b60e81c18\" xlink:show=\"new\" xlink:title=\"psysml:80d735d5-abd9-4df4-b941-a11b60e81c18\" xlink:type=\"simple\"><path d=\"M337.23,201.31 C322.73,220.59 301.19,249.26 282.25,274.45 \" fill=\"none\" id=\"E5-&gt;E2\" style=\"stroke: #383838; stroke-width: 1.0;\"/><polygon fill=\"none\" points=\"287.6,278.99,269.99,290.77,276.41,270.57,287.6,278.99\" style=\"stroke: #383838; stroke-width: 1.0;\"/></a><!--MD5=[9120cf2e5df3bff93db8f754bbbc09b4]\n",
       "link E5 to E6--><a href=\"psysml:bbf94ce0-8140-4269-b805-c97e9315d509\" target=\"_top\" title=\"psysml:bbf94ce0-8140-4269-b805-c97e9315d509\" xlink:actuate=\"onRequest\" xlink:href=\"psysml:bbf94ce0-8140-4269-b805-c97e9315d509\" xlink:show=\"new\" xlink:title=\"psysml:bbf94ce0-8140-4269-b805-c97e9315d509\" xlink:type=\"simple\"><path d=\"M351.82,211.55 C350.58,230.03 348.99,253.61 347.58,274.71 \" fill=\"none\" id=\"E5-E6\" style=\"stroke: #383838; stroke-width: 1.0;\"/><polygon fill=\"#383838\" points=\"346.9,284.84,350.4299,277.0593,344.4435,276.6568,346.9,284.84\" style=\"stroke: #383838; stroke-width: 1.0;\"/><path d=\"M343.8553,203.8139 A9,9 0 0 0 360.7317 204.9486\" fill=\"none\" style=\"stroke: #383838; stroke-width: 1.5;\"/><text fill=\"#000000\" font-family=\"sans-serif\" font-size=\"13\" lengthAdjust=\"spacingAndGlyphs\" textLength=\"60\" x=\"350\" y=\"251.0669\">«variant»</text></a><!--MD5=[14ccda38c055a5c0da953d572bc50960]\n",
       "link E7 to E3--><a href=\"psysml:1a218306-3ccb-4021-8143-a6b7222dd125\" target=\"_top\" title=\"psysml:1a218306-3ccb-4021-8143-a6b7222dd125\" xlink:actuate=\"onRequest\" xlink:href=\"psysml:1a218306-3ccb-4021-8143-a6b7222dd125\" xlink:show=\"new\" xlink:title=\"psysml:1a218306-3ccb-4021-8143-a6b7222dd125\" xlink:type=\"simple\"><path d=\"M172,87.13 C172,100.7 172,118.53 172,134.73 \" fill=\"none\" id=\"E7-&gt;E3\" style=\"stroke: #383838; stroke-width: 1.0;\"/><polygon fill=\"#FFFFFF\" points=\"172,154.92,165,135.92,179,135.92,172,154.92\" style=\"stroke: #383838; stroke-width: 1.0;\"/><ellipse cx=\"167\" cy=\"130.22\" fill=\"#383838\" rx=\"2\" ry=\"2\" style=\"stroke: #383838; stroke-width: 1.0;\"/><ellipse cx=\"177\" cy=\"130.22\" fill=\"#383838\" rx=\"2\" ry=\"2\" style=\"stroke: #383838; stroke-width: 1.0;\"/></a><!--MD5=[f1f3f9f2fc535e6147756cb86a7f2e32]\n",
       "link E8 to E2--><a href=\"psysml:0a07ead6-b6a6-4f86-92cb-b01532aad754\" target=\"_top\" title=\"psysml:0a07ead6-b6a6-4f86-92cb-b01532aad754\" xlink:actuate=\"onRequest\" xlink:href=\"psysml:0a07ead6-b6a6-4f86-92cb-b01532aad754\" xlink:show=\"new\" xlink:title=\"psysml:0a07ead6-b6a6-4f86-92cb-b01532aad754\" xlink:type=\"simple\"><path d=\"M102.03,200.45 C118.37,211.04 137.76,224.42 154,238 C167.86,249.58 181.94,263.07 194.66,276.02 \" fill=\"none\" id=\"E8-&gt;E2\" style=\"stroke: #383838; stroke-width: 1.0;\"/><polygon fill=\"#FFFFFF\" points=\"208.87,290.84,190.6693,281.9667,200.7765,272.2794,208.87,290.84\" style=\"stroke: #383838; stroke-width: 1.0;\"/><ellipse cx=\"188.1691\" cy=\"276.4678\" fill=\"#383838\" rx=\"2\" ry=\"2\" style=\"stroke: #383838; stroke-width: 1.0;\"/><ellipse cx=\"195.3885\" cy=\"269.5482\" fill=\"#383838\" rx=\"2\" ry=\"2\" style=\"stroke: #383838; stroke-width: 1.0;\"/></a><!--MD5=[ed10624c06dd9a4fa49ccf290e8b16a8]\n",
       "link E8 to E9--><a href=\"psysml:95cf767c-bf38-4d44-8a21-82e4671e1c7d\" target=\"_top\" title=\"psysml:95cf767c-bf38-4d44-8a21-82e4671e1c7d\" xlink:actuate=\"onRequest\" xlink:href=\"psysml:95cf767c-bf38-4d44-8a21-82e4671e1c7d\" xlink:show=\"new\" xlink:title=\"psysml:95cf767c-bf38-4d44-8a21-82e4671e1c7d\" xlink:type=\"simple\"><path d=\"M76.17,218.04 C80.26,235.44 85.14,256.2 89.55,274.98 \" fill=\"none\" id=\"E8-E9\" style=\"stroke: #383838; stroke-width: 1.0;\"/><polygon fill=\"#383838\" points=\"91.87,284.88,92.9607,276.4059,87.1198,277.7782,91.87,284.88\" style=\"stroke: #383838; stroke-width: 1.0;\"/><path d=\"M66.2994,213.0085 A9,9 0 0 0 82.7667 209.1452\" fill=\"none\" style=\"stroke: #383838; stroke-width: 1.5;\"/><text fill=\"#000000\" font-family=\"sans-serif\" font-size=\"13\" lengthAdjust=\"spacingAndGlyphs\" textLength=\"60\" x=\"85\" y=\"251.0669\">«variant»</text></a><!--MD5=[0f36bececdf0dff6e600d6f64214b0f1]\n",
       "link E10 to E2--><a href=\"psysml:6b6ac884-9cd9-45a3-8497-3c127dcfd472\" target=\"_top\" title=\"psysml:6b6ac884-9cd9-45a3-8497-3c127dcfd472\" xlink:actuate=\"onRequest\" xlink:href=\"psysml:6b6ac884-9cd9-45a3-8497-3c127dcfd472\" xlink:show=\"new\" xlink:title=\"psysml:6b6ac884-9cd9-45a3-8497-3c127dcfd472\" xlink:type=\"simple\"><path d=\"M259.86,201.31 C257.27,219.67 253.48,246.54 250.06,270.81 \" fill=\"none\" id=\"E10-&gt;E2\" style=\"stroke: #383838; stroke-width: 1.0;\"/><polygon fill=\"#FFFFFF\" points=\"247.25,290.77,242.9654,270.9801,256.8288,272.9305,247.25,290.77\" style=\"stroke: #383838; stroke-width: 1.0;\"/><ellipse cx=\"245.74\" cy=\"265.6143\" fill=\"#383838\" rx=\"2\" ry=\"2\" style=\"stroke: #383838; stroke-width: 1.0;\"/><ellipse cx=\"255.6425\" cy=\"267.0075\" fill=\"#383838\" rx=\"2\" ry=\"2\" style=\"stroke: #383838; stroke-width: 1.0;\"/></a><!--MD5=[eea7c355ab533d77382992385bdb58f0]\n",
       "@startuml\r\n",
       " skinparam monochrome true\r\n",
       "skinparam classbackgroundcolor white\r\n",
       "skinparam shadowing false\r\n",
       "skinparam wrapWidth 300\r\n",
       "hide circle\r\n",
       "\r\n",
       "package \"VariabilityTest\" as E1  [[psysml:54c28c65-c036-409b-a9ca-8f60ef8eadfb ]]  {\r\n",
       "comp def \"P\" as E2  <<(T,blue) part  def>> [[psysml:82cb16a2-9eb2-4cce-bbbe-e1592c7acc8b ]] {\r\n",
       "- - attributes - -\r\n",
       "a\r\n",
       "}\r\n",
       "comp def \"Q\" as E3  <<(T,blue) part  def>> [[psysml:2ef5dada-a649-4c80-bc3f-904ca5914f5d ]] {\r\n",
       "}\r\n",
       "comp def \"B\" as E4  <<(T,blue) attribute  def>> [[psysml:45188152-89ae-47db-8fae-185a328aceea ]] {\r\n",
       "}\r\n",
       "comp def \"<i>V</i>\" as E5  <<(T,blue) part  def>> [[psysml:e8a966fa-6247-410c-94c4-6750afcc6da8 ]] {\r\n",
       "}\r\n",
       "comp usage \"x: Q \" as E6  <<(T,blue) part>> [[psysml:10060237-19c5-40dc-a73e-8cb7e4953e81 ]] {\r\n",
       "- - attributes - -\r\n",
       "b: B\\n//:>>P::a// \r\n",
       "}\r\n",
       "comp usage \"q: Q \" as E7  <<(T,blue) part>> [[psysml:070ce293-3e12-454f-ad5b-be257c39d672 ]] {\r\n",
       "}\r\n",
       "comp usage \"<i>v</i>: P \" as E8  <<variation>>\\n <<(T,blue) part>> [[psysml:3367482b-ff59-4bbe-a9dc-fe1b4a2ad697 ]] {\r\n",
       "}\r\n",
       "comp usage \"q :> VariabilityTest::q\" as E9  <<(T,blue) reference>> [[psysml:80fa5ea3-437e-4eec-9e3d-5d2e24e12c28 ]] {\r\n",
       "- - attributes - -\r\n",
       "b: B\\n//:>>P::a// \r\n",
       "}\r\n",
       "comp usage \"y: P \" as E10  <<(T,blue) part>> [[psysml:48eaa747-84b8-4879-8d6b-33c104c23f89 ]] {\r\n",
       "}\r\n",
       "}\r\n",
       "E3 - -|> E2 [[psysml:8fca0815-a461-4953-83e8-63ed8c86de29 ]] \r\n",
       "E5 - -|> E2 [[psysml:80d735d5-abd9-4df4-b941-a11b60e81c18 ]] \r\n",
       "E5 )- ->> E6 [[psysml:bbf94ce0-8140-4269-b805-c97e9315d509 ]] : <<variant>>\r\n",
       "E7 - -:|> E3 [[psysml:1a218306-3ccb-4021-8143-a6b7222dd125 ]] \r\n",
       "E8 - -:|> E2 [[psysml:0a07ead6-b6a6-4f86-92cb-b01532aad754 ]] \r\n",
       "E8 )- ->> E9 [[psysml:95cf767c-bf38-4d44-8a21-82e4671e1c7d ]] : <<variant>>\r\n",
       "E10 - -:|> E2 [[psysml:6b6ac884-9cd9-45a3-8497-3c127dcfd472 ]] \r\n",
       "@enduml\r\n",
       "\n",
       "PlantUML version 1.2020.13(Sat Jun 13 12:26:38 UTC 2020)\n",
       "(EPL source distribution)\n",
       "Java Runtime: OpenJDK Runtime Environment\n",
       "JVM: OpenJDK 64-Bit Server VM\n",
       "Default Encoding: UTF-8\n",
       "Language: en\n",
       "Country: null\n",
       "--></g></svg>"
      ]
     },
     "execution_count": 3,
     "metadata": {},
     "output_type": "execute_result"
    }
   ],
   "source": [
    "%viz --style=\"COMPTREE\" --view=\"Tree\" \"VariabilityTest\""
   ]
  },
  {
   "cell_type": "code",
   "execution_count": 4,
   "id": "589e59e6",
   "metadata": {
    "execution": {
     "iopub.execute_input": "2021-10-25T08:21:41.082439Z",
     "iopub.status.busy": "2021-10-25T08:21:41.081913Z",
     "iopub.status.idle": "2021-10-25T08:21:41.088013Z",
     "shell.execute_reply": "2021-10-25T08:21:41.087608Z"
    }
   },
   "outputs": [
    {
     "data": {
      "image/svg+xml": [
       "<?xml version=\"1.0\" encoding=\"UTF-8\" standalone=\"no\"?><svg xmlns=\"http://www.w3.org/2000/svg\" xmlns:xlink=\"http://www.w3.org/1999/xlink\" contentScriptType=\"application/ecmascript\" contentStyleType=\"text/css\" height=\"12px\" preserveAspectRatio=\"none\" style=\"width:12px;height:12px;\" version=\"1.1\" viewBox=\"0 0 12 12\" width=\"12px\" zoomAndPan=\"magnify\"><defs/><g><!--MD5=[f19188ef49e11757b5c46753f95d9edc]\n",
       "@startuml\r\n",
       " skinparam monochrome true\r\n",
       "skinparam classbackgroundcolor white\r\n",
       "skinparam shadowing false\r\n",
       "skinparam wrapWidth 300\r\n",
       "hide circle\r\n",
       "\r\n",
       "@enduml\r\n",
       "\n",
       "PlantUML version 1.2020.13(Sat Jun 13 12:26:38 UTC 2020)\n",
       "(EPL source distribution)\n",
       "Java Runtime: OpenJDK Runtime Environment\n",
       "JVM: OpenJDK 64-Bit Server VM\n",
       "Default Encoding: UTF-8\n",
       "Language: en\n",
       "Country: null\n",
       "--></g></svg>"
      ]
     },
     "execution_count": 4,
     "metadata": {},
     "output_type": "execute_result"
    }
   ],
   "source": [
    "%viz --style=\"COMPTREE\" --view=\"State\" \"VariabilityTest\""
   ]
  },
  {
   "cell_type": "code",
   "execution_count": 5,
   "id": "7e428ca3",
   "metadata": {
    "execution": {
     "iopub.execute_input": "2021-10-25T08:21:41.137778Z",
     "iopub.status.busy": "2021-10-25T08:21:41.137223Z",
     "iopub.status.idle": "2021-10-25T08:21:41.256324Z",
     "shell.execute_reply": "2021-10-25T08:21:41.255945Z"
    }
   },
   "outputs": [
    {
     "data": {
      "image/svg+xml": [
       "<?xml version=\"1.0\" encoding=\"UTF-8\" standalone=\"no\"?><svg xmlns=\"http://www.w3.org/2000/svg\" xmlns:xlink=\"http://www.w3.org/1999/xlink\" contentScriptType=\"application/ecmascript\" contentStyleType=\"text/css\" height=\"427px\" preserveAspectRatio=\"none\" style=\"width:853px;height:427px;\" version=\"1.1\" viewBox=\"0 0 853 427\" width=\"853px\" zoomAndPan=\"magnify\"><defs/><g><!--MD5=[fbc87193dbaf4d95561dea2c320d4a47]\n",
       "cluster E1--><a href=\"psysml:54c28c65-c036-409b-a9ca-8f60ef8eadfb\" target=\"_top\" title=\"psysml:54c28c65-c036-409b-a9ca-8f60ef8eadfb\" xlink:actuate=\"onRequest\" xlink:href=\"psysml:54c28c65-c036-409b-a9ca-8f60ef8eadfb\" xlink:show=\"new\" xlink:title=\"psysml:54c28c65-c036-409b-a9ca-8f60ef8eadfb\" xlink:type=\"simple\"><polygon fill=\"#FFFFFF\" points=\"16,6,116,6,123,28.2969,831,28.2969,831,415,16,415,16,6\" style=\"stroke: #000000; stroke-width: 1.5;\"/><line style=\"stroke: #000000; stroke-width: 1.5;\" x1=\"16\" x2=\"123\" y1=\"28.2969\" y2=\"28.2969\"/><text fill=\"#000000\" font-family=\"sans-serif\" font-size=\"14\" font-weight=\"bold\" lengthAdjust=\"spacingAndGlyphs\" textLength=\"94\" x=\"20\" y=\"20.9951\">VariabilityTest</text></a><!--MD5=[e4f7fae6ed58524ba242bb0b0d3be6b7]\n",
       "cluster E2--><a href=\"psysml:82cb16a2-9eb2-4cce-bbbe-e1592c7acc8b\" target=\"_top\" title=\"psysml:82cb16a2-9eb2-4cce-bbbe-e1592c7acc8b\" xlink:actuate=\"onRequest\" xlink:href=\"psysml:82cb16a2-9eb2-4cce-bbbe-e1592c7acc8b\" xlink:show=\"new\" xlink:title=\"psysml:82cb16a2-9eb2-4cce-bbbe-e1592c7acc8b\" xlink:type=\"simple\"><rect fill=\"#FFFFFF\" height=\"129\" id=\"E2\" style=\"stroke: #383838; stroke-width: 1.5;\" width=\"139\" x=\"460\" y=\"254\"/><rect fill=\"#F8F8F8\" height=\"37.9375\" style=\"stroke: #383838; stroke-width: 1.5;\" width=\"139\" x=\"460\" y=\"254\"/><text fill=\"#000000\" font-family=\"sans-serif\" font-size=\"12\" font-style=\"italic\" lengthAdjust=\"spacingAndGlyphs\" textLength=\"68\" x=\"495.5\" y=\"270.1387\">«part  def»</text><text fill=\"#000000\" font-family=\"sans-serif\" font-size=\"12\" lengthAdjust=\"spacingAndGlyphs\" textLength=\"8\" x=\"525.5\" y=\"284.1074\">P</text></a><!--MD5=[14e3b0961a2654348d326746436168a1]\n",
       "cluster E6--><a href=\"psysml:e8a966fa-6247-410c-94c4-6750afcc6da8\" target=\"_top\" title=\"psysml:e8a966fa-6247-410c-94c4-6750afcc6da8\" xlink:actuate=\"onRequest\" xlink:href=\"psysml:e8a966fa-6247-410c-94c4-6750afcc6da8\" xlink:show=\"new\" xlink:title=\"psysml:e8a966fa-6247-410c-94c4-6750afcc6da8\" xlink:type=\"simple\"><rect fill=\"#FFFFFF\" height=\"157\" id=\"E6\" style=\"stroke: #383838; stroke-width: 1.5;\" width=\"131\" x=\"668\" y=\"57\"/><rect fill=\"#F8F8F8\" height=\"37.9375\" style=\"stroke: #383838; stroke-width: 1.5;\" width=\"131\" x=\"668\" y=\"57\"/><text fill=\"#000000\" font-family=\"sans-serif\" font-size=\"12\" font-style=\"italic\" lengthAdjust=\"spacingAndGlyphs\" textLength=\"68\" x=\"699.5\" y=\"73.1387\">«part  def»</text><text fill=\"#000000\" font-family=\"sans-serif\" font-size=\"12\" font-style=\"italic\" lengthAdjust=\"spacingAndGlyphs\" textLength=\"8\" x=\"729.5\" y=\"87.1074\">V</text></a><!--MD5=[7f149f147074ac12df2cb0a7728a5fb0]\n",
       "cluster E9--><a href=\"psysml:3367482b-ff59-4bbe-a9dc-fe1b4a2ad697\" target=\"_top\" title=\"psysml:3367482b-ff59-4bbe-a9dc-fe1b4a2ad697\" xlink:actuate=\"onRequest\" xlink:href=\"psysml:3367482b-ff59-4bbe-a9dc-fe1b4a2ad697\" xlink:show=\"new\" xlink:title=\"psysml:3367482b-ff59-4bbe-a9dc-fe1b4a2ad697\" xlink:type=\"simple\"><rect fill=\"#FFFFFF\" height=\"139\" id=\"E9\" rx=\"10\" ry=\"10\" style=\"stroke: #383838; stroke-width: 1.5;\" width=\"172\" x=\"464\" y=\"74\"/><rect fill=\"#F8F8F8\" height=\"23.9688\" rx=\"10\" ry=\"10\" style=\"stroke: #F8F8F8; stroke-width: 1.5;\" width=\"172\" x=\"464\" y=\"74\"/><rect fill=\"#F8F8F8\" height=\"10\" style=\"stroke: #F8F8F8; stroke-width: 1.5;\" width=\"172\" x=\"464\" y=\"87.9688\"/><rect fill=\"none\" height=\"139\" id=\"E9\" rx=\"10\" ry=\"10\" style=\"stroke: #383838; stroke-width: 1.5;\" width=\"172\" x=\"464\" y=\"74\"/><text fill=\"#000000\" font-family=\"sans-serif\" font-size=\"12\" lengthAdjust=\"spacingAndGlyphs\" textLength=\"22\" x=\"539\" y=\"90.1387\">v: P</text><line style=\"stroke: #383838; stroke-width: 1.0;\" x1=\"464\" x2=\"636\" y1=\"97.9688\" y2=\"97.9688\"/></a><g id=\"E1.E5\"><a href=\"psysml:45188152-89ae-47db-8fae-185a328aceea\" target=\"_top\" title=\"psysml:45188152-89ae-47db-8fae-185a328aceea\" xlink:actuate=\"onRequest\" xlink:href=\"psysml:45188152-89ae-47db-8fae-185a328aceea\" xlink:show=\"new\" xlink:title=\"psysml:45188152-89ae-47db-8fae-185a328aceea\" xlink:type=\"simple\"><rect fill=\"#FFFFFF\" height=\"42.9375\" id=\"E5\" style=\"stroke: #383838; stroke-width: 1.5;\" width=\"104\" x=\"341\" y=\"131.5\"/><rect fill=\"#F8F8F8\" height=\"37.9375\" style=\"stroke: #383838; stroke-width: 1.5;\" width=\"104\" x=\"341\" y=\"131.5\"/><text fill=\"#000000\" font-family=\"sans-serif\" font-size=\"12\" font-style=\"italic\" lengthAdjust=\"spacingAndGlyphs\" textLength=\"97\" x=\"344.5\" y=\"147.6387\">«attribute  def»</text><text fill=\"#000000\" font-family=\"sans-serif\" font-size=\"12\" lengthAdjust=\"spacingAndGlyphs\" textLength=\"8\" x=\"389\" y=\"161.6074\">B</text></a></g><!--MD5=[09b614a08d8cba4a07c9adeb5e0fee81]\n",
       "class E3--><a href=\"psysml:b3756095-16bb-4cb1-b9cb-a9f1f269c560\" target=\"_top\" title=\"psysml:b3756095-16bb-4cb1-b9cb-a9f1f269c560\" xlink:actuate=\"onRequest\" xlink:href=\"psysml:b3756095-16bb-4cb1-b9cb-a9f1f269c560\" xlink:show=\"new\" xlink:title=\"psysml:b3756095-16bb-4cb1-b9cb-a9f1f269c560\" xlink:type=\"simple\"><rect fill=\"#FFFFFF\" height=\"45.9375\" id=\"E3\" rx=\"10\" ry=\"10\" style=\"stroke: #383838; stroke-width: 1.5;\" width=\"71\" x=\"503.5\" y=\"313\"/><text fill=\"#000000\" font-family=\"sans-serif\" font-size=\"12\" font-style=\"italic\" lengthAdjust=\"spacingAndGlyphs\" textLength=\"69\" x=\"504.5\" y=\"329.1387\">«attribute»</text><text fill=\"#000000\" font-family=\"sans-serif\" font-size=\"12\" lengthAdjust=\"spacingAndGlyphs\" textLength=\"8\" x=\"535\" y=\"343.1074\">a</text><line style=\"stroke: #383838; stroke-width: 1.5;\" x1=\"504.5\" x2=\"573.5\" y1=\"350.9375\" y2=\"350.9375\"/></a><g id=\"E1.E4\"><a href=\"psysml:2ef5dada-a649-4c80-bc3f-904ca5914f5d\" target=\"_top\" title=\"psysml:2ef5dada-a649-4c80-bc3f-904ca5914f5d\" xlink:actuate=\"onRequest\" xlink:href=\"psysml:2ef5dada-a649-4c80-bc3f-904ca5914f5d\" xlink:show=\"new\" xlink:title=\"psysml:2ef5dada-a649-4c80-bc3f-904ca5914f5d\" xlink:type=\"simple\"><rect fill=\"#FFFFFF\" height=\"42.9375\" id=\"E4\" style=\"stroke: #383838; stroke-width: 1.5;\" width=\"75\" x=\"230.5\" y=\"131.5\"/><rect fill=\"#F8F8F8\" height=\"37.9375\" style=\"stroke: #383838; stroke-width: 1.5;\" width=\"75\" x=\"230.5\" y=\"131.5\"/><text fill=\"#000000\" font-family=\"sans-serif\" font-size=\"12\" font-style=\"italic\" lengthAdjust=\"spacingAndGlyphs\" textLength=\"68\" x=\"234\" y=\"147.6387\">«part  def»</text><text fill=\"#000000\" font-family=\"sans-serif\" font-size=\"12\" lengthAdjust=\"spacingAndGlyphs\" textLength=\"9\" x=\"263.5\" y=\"161.6074\">Q</text></a></g><!--MD5=[2156ba9850f5573cc1fc38a6a4b2f02b]\n",
       "class E7--><a href=\"psysml:10060237-19c5-40dc-a73e-8cb7e4953e81\" target=\"_top\" title=\"psysml:10060237-19c5-40dc-a73e-8cb7e4953e81\" xlink:actuate=\"onRequest\" xlink:href=\"psysml:10060237-19c5-40dc-a73e-8cb7e4953e81\" xlink:show=\"new\" xlink:title=\"psysml:10060237-19c5-40dc-a73e-8cb7e4953e81\" xlink:type=\"simple\"><rect fill=\"#FFFFFF\" height=\"74.3828\" id=\"E7\" rx=\"10\" ry=\"10\" style=\"stroke: #383838; stroke-width: 1.5;\" width=\"63\" x=\"711.5\" y=\"116\"/><text fill=\"#000000\" font-family=\"sans-serif\" font-size=\"12\" lengthAdjust=\"spacingAndGlyphs\" textLength=\"23\" x=\"729.5\" y=\"132.1387\">x: Q</text><line style=\"stroke: #383838; stroke-width: 1.5;\" x1=\"712.5\" x2=\"773.5\" y1=\"139.9688\" y2=\"139.9688\"/><text fill=\"#000000\" font-family=\"sans-serif\" font-size=\"11\" lengthAdjust=\"spacingAndGlyphs\" textLength=\"23\" x=\"717.5\" y=\"170.9839\">b: B</text><text fill=\"#000000\" font-family=\"sans-serif\" font-size=\"11\" font-style=\"italic\" lengthAdjust=\"spacingAndGlyphs\" textLength=\"44\" x=\"717.5\" y=\"183.7886\">:&gt;&gt;P::a</text><line style=\"stroke: #383838; stroke-width: 1.0;\" x1=\"712.5\" x2=\"715.5\" y1=\"154.3711\" y2=\"154.3711\"/><text fill=\"#000000\" font-family=\"sans-serif\" font-size=\"11\" lengthAdjust=\"spacingAndGlyphs\" textLength=\"55\" x=\"715.5\" y=\"157.6792\">attributes</text><line style=\"stroke: #383838; stroke-width: 1.0;\" x1=\"770.5\" x2=\"773.5\" y1=\"154.3711\" y2=\"154.3711\"/></a><g id=\"E1.E8\"><a href=\"psysml:070ce293-3e12-454f-ad5b-be257c39d672\" target=\"_top\" title=\"psysml:070ce293-3e12-454f-ad5b-be257c39d672\" xlink:actuate=\"onRequest\" xlink:href=\"psysml:070ce293-3e12-454f-ad5b-be257c39d672\" xlink:show=\"new\" xlink:title=\"psysml:070ce293-3e12-454f-ad5b-be257c39d672\" xlink:type=\"simple\"><rect fill=\"#FFFFFF\" height=\"40\" id=\"E8\" rx=\"10\" ry=\"10\" style=\"stroke: #383838; stroke-width: 1.5;\" width=\"50\" x=\"145\" y=\"133\"/><rect fill=\"#F8F8F8\" height=\"23.9688\" rx=\"10\" ry=\"10\" style=\"stroke: #F8F8F8; stroke-width: 1.5;\" width=\"50\" x=\"145\" y=\"133\"/><rect fill=\"#F8F8F8\" height=\"10\" style=\"stroke: #F8F8F8; stroke-width: 1.5;\" width=\"50\" x=\"145\" y=\"146.9688\"/><rect fill=\"none\" height=\"40\" id=\"E8\" rx=\"10\" ry=\"10\" style=\"stroke: #383838; stroke-width: 1.5;\" width=\"50\" x=\"145\" y=\"133\"/><text fill=\"#000000\" font-family=\"sans-serif\" font-size=\"12\" lengthAdjust=\"spacingAndGlyphs\" textLength=\"25\" x=\"157.5\" y=\"149.1387\">q: Q</text></a></g><!--MD5=[96f4274e9e20536e775497830990834d]\n",
       "class E10--><a href=\"psysml:80fa5ea3-437e-4eec-9e3d-5d2e24e12c28\" target=\"_top\" title=\"psysml:80fa5ea3-437e-4eec-9e3d-5d2e24e12c28\" xlink:actuate=\"onRequest\" xlink:href=\"psysml:80fa5ea3-437e-4eec-9e3d-5d2e24e12c28\" xlink:show=\"new\" xlink:title=\"psysml:80fa5ea3-437e-4eec-9e3d-5d2e24e12c28\" xlink:type=\"simple\"><rect fill=\"#FFFFFF\" height=\"88.3516\" id=\"E10\" rx=\"10\" ry=\"10\" style=\"stroke: #383838; stroke-width: 1.5;\" width=\"139\" x=\"480.5\" y=\"109\"/><text fill=\"#000000\" font-family=\"sans-serif\" font-size=\"12\" font-style=\"italic\" lengthAdjust=\"spacingAndGlyphs\" textLength=\"75\" x=\"512.5\" y=\"125.1387\">«reference»</text><text fill=\"#000000\" font-family=\"sans-serif\" font-size=\"12\" lengthAdjust=\"spacingAndGlyphs\" textLength=\"133\" x=\"483.5\" y=\"139.1074\">q :&gt; VariabilityTest::q</text><line style=\"stroke: #383838; stroke-width: 1.5;\" x1=\"481.5\" x2=\"618.5\" y1=\"146.9375\" y2=\"146.9375\"/><text fill=\"#000000\" font-family=\"sans-serif\" font-size=\"11\" lengthAdjust=\"spacingAndGlyphs\" textLength=\"23\" x=\"486.5\" y=\"177.9526\">b: B</text><text fill=\"#000000\" font-family=\"sans-serif\" font-size=\"11\" font-style=\"italic\" lengthAdjust=\"spacingAndGlyphs\" textLength=\"44\" x=\"486.5\" y=\"190.7573\">:&gt;&gt;P::a</text><line style=\"stroke: #383838; stroke-width: 1.0;\" x1=\"481.5\" x2=\"522.5\" y1=\"161.3398\" y2=\"161.3398\"/><text fill=\"#000000\" font-family=\"sans-serif\" font-size=\"11\" lengthAdjust=\"spacingAndGlyphs\" textLength=\"55\" x=\"522.5\" y=\"164.6479\">attributes</text><line style=\"stroke: #383838; stroke-width: 1.0;\" x1=\"577.5\" x2=\"618.5\" y1=\"161.3398\" y2=\"161.3398\"/></a><g id=\"E1.E11\"><a href=\"psysml:48eaa747-84b8-4879-8d6b-33c104c23f89\" target=\"_top\" title=\"psysml:48eaa747-84b8-4879-8d6b-33c104c23f89\" xlink:actuate=\"onRequest\" xlink:href=\"psysml:48eaa747-84b8-4879-8d6b-33c104c23f89\" xlink:show=\"new\" xlink:title=\"psysml:48eaa747-84b8-4879-8d6b-33c104c23f89\" xlink:type=\"simple\"><rect fill=\"#FFFFFF\" height=\"40\" id=\"E11\" rx=\"10\" ry=\"10\" style=\"stroke: #383838; stroke-width: 1.5;\" width=\"77\" x=\"32.5\" y=\"133\"/><rect fill=\"#F8F8F8\" height=\"23.9688\" rx=\"10\" ry=\"10\" style=\"stroke: #F8F8F8; stroke-width: 1.5;\" width=\"77\" x=\"32.5\" y=\"133\"/><rect fill=\"#F8F8F8\" height=\"10\" style=\"stroke: #F8F8F8; stroke-width: 1.5;\" width=\"77\" x=\"32.5\" y=\"146.9688\"/><rect fill=\"none\" height=\"40\" id=\"E11\" rx=\"10\" ry=\"10\" style=\"stroke: #383838; stroke-width: 1.5;\" width=\"77\" x=\"32.5\" y=\"133\"/><text fill=\"#000000\" font-family=\"sans-serif\" font-size=\"12\" lengthAdjust=\"spacingAndGlyphs\" textLength=\"62\" x=\"38\" y=\"149.1387\">y: P= v::q;</text></a></g><!--MD5=[185131fc0dcab0a4505a2ebe144e961b]\n",
       "link E4 to E2--><a href=\"psysml:8fca0815-a461-4953-83e8-63ed8c86de29\" target=\"_top\" title=\"psysml:8fca0815-a461-4953-83e8-63ed8c86de29\" xlink:actuate=\"onRequest\" xlink:href=\"psysml:8fca0815-a461-4953-83e8-63ed8c86de29\" xlink:show=\"new\" xlink:title=\"psysml:8fca0815-a461-4953-83e8-63ed8c86de29\" xlink:type=\"simple\"><path d=\"M280.74,174.69 C291.21,190.78 307.04,213.12 324,230 C351.635,257.5 386.95,283.365 415.6912,302.5425 C430.0619,312.1313 442.7891,320.0481 452.0911,325.6616 C454.4166,327.0649 456.528,328.3243 458.3976,329.4299 C458.8649,329.7063 459.3172,329.973 459.7539,330.2301 \" fill=\"none\" id=\"E4-&gt;E2\" style=\"stroke: #383838; stroke-width: 1.0;\"/><polygon fill=\"#FFFFFF\" points=\"459.7539,330.2301,446.9295,314.5605,439.8288,326.6261,459.7539,330.2301\" style=\"stroke: #383838; stroke-width: 1.0;\"/></a><!--MD5=[2351f337d6de0f557b50152ba70847b5]\n",
       "link E6 to E2--><a href=\"psysml:80d735d5-abd9-4df4-b941-a11b60e81c18\" target=\"_top\" title=\"psysml:80d735d5-abd9-4df4-b941-a11b60e81c18\" xlink:actuate=\"onRequest\" xlink:href=\"psysml:80d735d5-abd9-4df4-b941-a11b60e81c18\" xlink:show=\"new\" xlink:title=\"psysml:80d735d5-abd9-4df4-b941-a11b60e81c18\" xlink:type=\"simple\"><path d=\"M667.8947,184.6995 C667.8489,184.8242 667.8029,184.949 667.7566,185.0739 C667.6641,185.3237 667.5706,185.5741 667.4763,185.825 C661.435,201.8825 651.565,220.025 636,230 C608.08,247.89 512.03,216.25 487,238 C482.92,241.5463 479.5564,245.6884 476.7947,250.2262 C476.1043,251.3607 475.4514,252.5198 474.8345,253.7006 \" fill=\"none\" id=\"E6-&gt;E2\" style=\"stroke: #383838; stroke-width: 1.0;\"/><polygon fill=\"#FFFFFF\" points=\"474.8345,253.7006,489.8378,240.1028,477.4296,233.6191,474.8345,253.7006\" style=\"stroke: #383838; stroke-width: 1.0;\"/></a><!--MD5=[5dd285c48d373b7c67b60e452e061bae]\n",
       "@startuml\r\n",
       "skinparam ranksep 10\r\n",
       "skinparam rectangle {\r\n",
       " backgroundColor<<block>> LightGreen\r\n",
       "}\r\n",
       " skinparam monochrome true\r\n",
       "skinparam classbackgroundcolor white\r\n",
       "skinparam shadowing false\r\n",
       "skinparam wrapWidth 300\r\n",
       "hide circle\r\n",
       "\r\n",
       "package \"VariabilityTest\" as E1  [[psysml:54c28c65-c036-409b-a9ca-8f60ef8eadfb ]]  {\r\n",
       "rec def \"P\" as E2  <<(T,blue) part  def>> [[psysml:82cb16a2-9eb2-4cce-bbbe-e1592c7acc8b ]] {\r\n",
       "comp usage \"a\" as E3  <<(T,blue) attribute>> [[psysml:b3756095-16bb-4cb1-b9cb-a9f1f269c560 ]] {\r\n",
       "}\r\n",
       "}\r\n",
       "rec def \"Q\" as E4  <<(T,blue) part  def>> [[psysml:2ef5dada-a649-4c80-bc3f-904ca5914f5d ]] {\r\n",
       "}\r\n",
       "def \"B\" as E5  <<(T,blue) attribute  def>> [[psysml:45188152-89ae-47db-8fae-185a328aceea ]] \r\n",
       "rec def \"<i>V</i>\" as E6  <<(T,blue) part  def>> [[psysml:e8a966fa-6247-410c-94c4-6750afcc6da8 ]] {\r\n",
       "comp usage \"x: Q \" as E7  [[psysml:10060237-19c5-40dc-a73e-8cb7e4953e81 ]] {\r\n",
       "- - attributes - -\r\n",
       "b: B\\n//:>>P::a// \r\n",
       "}\r\n",
       "}\r\n",
       "rec usage \"q: Q\" as E8  [[psysml:070ce293-3e12-454f-ad5b-be257c39d672 ]] {\r\n",
       "}\r\n",
       "rec usage \"v: P\" as E9  [[psysml:3367482b-ff59-4bbe-a9dc-fe1b4a2ad697 ]] {\r\n",
       "comp usage \"q :> VariabilityTest::q\" as E10  <<(T,blue) reference>> [[psysml:80fa5ea3-437e-4eec-9e3d-5d2e24e12c28 ]] {\r\n",
       "- - attributes - -\r\n",
       "b: B\\n//:>>P::a// \r\n",
       "}\r\n",
       "}\r\n",
       "rec usage \"y: P= v::q; \" as E11  [[psysml:48eaa747-84b8-4879-8d6b-33c104c23f89 ]] {\r\n",
       "}\r\n",
       "}\r\n",
       "E4 - -|> E2 [[psysml:8fca0815-a461-4953-83e8-63ed8c86de29 ]] \r\n",
       "E6 - -|> E2 [[psysml:80d735d5-abd9-4df4-b941-a11b60e81c18 ]] \r\n",
       "@enduml\r\n",
       "\n",
       "PlantUML version 1.2020.13(Sat Jun 13 12:26:38 UTC 2020)\n",
       "(EPL source distribution)\n",
       "Java Runtime: OpenJDK Runtime Environment\n",
       "JVM: OpenJDK 64-Bit Server VM\n",
       "Default Encoding: UTF-8\n",
       "Language: en\n",
       "Country: null\n",
       "--></g></svg>"
      ]
     },
     "execution_count": 5,
     "metadata": {},
     "output_type": "execute_result"
    }
   ],
   "source": [
    "%viz --style=\"COMPTREE\" --view=\"Interconnection\" \"VariabilityTest\""
   ]
  },
  {
   "cell_type": "code",
   "execution_count": 6,
   "id": "0f1f68cd",
   "metadata": {
    "execution": {
     "iopub.execute_input": "2021-10-25T08:21:41.305339Z",
     "iopub.status.busy": "2021-10-25T08:21:41.304920Z",
     "iopub.status.idle": "2021-10-25T08:21:41.310295Z",
     "shell.execute_reply": "2021-10-25T08:21:41.310617Z"
    }
   },
   "outputs": [
    {
     "data": {
      "image/svg+xml": [
       "<?xml version=\"1.0\" encoding=\"UTF-8\" standalone=\"no\"?><svg xmlns=\"http://www.w3.org/2000/svg\" xmlns:xlink=\"http://www.w3.org/1999/xlink\" contentScriptType=\"application/ecmascript\" contentStyleType=\"text/css\" height=\"12px\" preserveAspectRatio=\"none\" style=\"width:12px;height:12px;\" version=\"1.1\" viewBox=\"0 0 12 12\" width=\"12px\" zoomAndPan=\"magnify\"><defs/><g><!--MD5=[655b888544ca4751ea36af1068543f84]\n",
       "@startuml\r\n",
       "skinparam ranksep 8\r\n",
       " skinparam monochrome true\r\n",
       "skinparam classbackgroundcolor white\r\n",
       "skinparam shadowing false\r\n",
       "skinparam wrapWidth 300\r\n",
       "hide circle\r\n",
       "\r\n",
       "@enduml\r\n",
       "\n",
       "PlantUML version 1.2020.13(Sat Jun 13 12:26:38 UTC 2020)\n",
       "(EPL source distribution)\n",
       "Java Runtime: OpenJDK Runtime Environment\n",
       "JVM: OpenJDK 64-Bit Server VM\n",
       "Default Encoding: UTF-8\n",
       "Language: en\n",
       "Country: null\n",
       "--></g></svg>"
      ]
     },
     "execution_count": 6,
     "metadata": {},
     "output_type": "execute_result"
    }
   ],
   "source": [
    "%viz --style=\"COMPTREE\" --view=\"Action\" \"VariabilityTest\""
   ]
  },
  {
   "cell_type": "code",
   "execution_count": 7,
   "id": "ada3eebe",
   "metadata": {
    "execution": {
     "iopub.execute_input": "2021-10-25T08:21:41.360268Z",
     "iopub.status.busy": "2021-10-25T08:21:41.359855Z",
     "iopub.status.idle": "2021-10-25T08:21:41.367903Z",
     "shell.execute_reply": "2021-10-25T08:21:41.368219Z"
    }
   },
   "outputs": [
    {
     "data": {
      "image/svg+xml": [
       "<?xml version=\"1.0\" encoding=\"UTF-8\" standalone=\"no\"?><svg xmlns=\"http://www.w3.org/2000/svg\" xmlns:xlink=\"http://www.w3.org/1999/xlink\" contentScriptType=\"application/ecmascript\" contentStyleType=\"text/css\" height=\"12px\" preserveAspectRatio=\"none\" style=\"width:12px;height:12px;\" version=\"1.1\" viewBox=\"0 0 12 12\" width=\"12px\" zoomAndPan=\"magnify\"><defs/><g><!--MD5=[803fc46c337be7a5c8a9831e35356779]\n",
       "@startuml\r\n",
       "skinparam roundcorner 20\r\n",
       "skinparam BoxPadding 20\r\n",
       "skinparam SequenceBoxBackgroundColor #white\r\n",
       "skinparam style strictuml\r\n",
       "skinparam maxMessageSize 100\r\n",
       " skinparam monochrome true\r\n",
       "skinparam classbackgroundcolor white\r\n",
       "skinparam shadowing false\r\n",
       "skinparam wrapWidth 300\r\n",
       "hide circle\r\n",
       "\r\n",
       "@enduml\r\n",
       "\n",
       "PlantUML version 1.2020.13(Sat Jun 13 12:26:38 UTC 2020)\n",
       "(EPL source distribution)\n",
       "Java Runtime: OpenJDK Runtime Environment\n",
       "JVM: OpenJDK 64-Bit Server VM\n",
       "Default Encoding: UTF-8\n",
       "Language: en\n",
       "Country: null\n",
       "--></g></svg>"
      ]
     },
     "execution_count": 7,
     "metadata": {},
     "output_type": "execute_result"
    }
   ],
   "source": [
    "%viz --style=\"COMPTREE\" --view=\"Sequence\" \"VariabilityTest\""
   ]
  },
  {
   "cell_type": "code",
   "execution_count": 8,
   "id": "3dec6a29",
   "metadata": {
    "execution": {
     "iopub.execute_input": "2021-10-25T08:21:41.418087Z",
     "iopub.status.busy": "2021-10-25T08:21:41.417680Z",
     "iopub.status.idle": "2021-10-25T08:21:41.528608Z",
     "shell.execute_reply": "2021-10-25T08:21:41.526634Z"
    }
   },
   "outputs": [
    {
     "data": {
      "image/svg+xml": [
       "<?xml version=\"1.0\" encoding=\"UTF-8\" standalone=\"no\"?><svg xmlns=\"http://www.w3.org/2000/svg\" xmlns:xlink=\"http://www.w3.org/1999/xlink\" contentScriptType=\"application/ecmascript\" contentStyleType=\"text/css\" height=\"401px\" preserveAspectRatio=\"none\" style=\"width:427px;height:401px;\" version=\"1.1\" viewBox=\"0 0 427 401\" width=\"427px\" zoomAndPan=\"magnify\"><defs/><g><!--MD5=[fbc87193dbaf4d95561dea2c320d4a47]\n",
       "cluster E1--><a href=\"psysml:54c28c65-c036-409b-a9ca-8f60ef8eadfb\" target=\"_top\" title=\"psysml:54c28c65-c036-409b-a9ca-8f60ef8eadfb\" xlink:actuate=\"onRequest\" xlink:href=\"psysml:54c28c65-c036-409b-a9ca-8f60ef8eadfb\" xlink:show=\"new\" xlink:title=\"psysml:54c28c65-c036-409b-a9ca-8f60ef8eadfb\" xlink:type=\"simple\"><polygon fill=\"#FFFFFF\" points=\"16,6,116,6,123,28.2969,405,28.2969,405,389,16,389,16,6\" style=\"stroke: #000000; stroke-width: 1.5;\"/><line style=\"stroke: #000000; stroke-width: 1.5;\" x1=\"16\" x2=\"123\" y1=\"28.2969\" y2=\"28.2969\"/><text fill=\"#000000\" font-family=\"sans-serif\" font-size=\"14\" font-weight=\"bold\" lengthAdjust=\"spacingAndGlyphs\" textLength=\"94\" x=\"20\" y=\"20.9951\">VariabilityTest</text></a><!--MD5=[b4997ac47864f28c2f74865a473b2911]\n",
       "class E2--><a href=\"psysml:82cb16a2-9eb2-4cce-bbbe-e1592c7acc8b\" target=\"_top\" title=\"psysml:82cb16a2-9eb2-4cce-bbbe-e1592c7acc8b\" xlink:actuate=\"onRequest\" xlink:href=\"psysml:82cb16a2-9eb2-4cce-bbbe-e1592c7acc8b\" xlink:show=\"new\" xlink:title=\"psysml:82cb16a2-9eb2-4cce-bbbe-e1592c7acc8b\" xlink:type=\"simple\"><rect fill=\"#FFFFFF\" height=\"75.5469\" id=\"E2\" style=\"stroke: #383838; stroke-width: 1.5;\" width=\"70\" x=\"207\" y=\"291\"/><text fill=\"#000000\" font-family=\"sans-serif\" font-size=\"12\" font-style=\"italic\" lengthAdjust=\"spacingAndGlyphs\" textLength=\"68\" x=\"208\" y=\"307.1387\">«part  def»</text><text fill=\"#000000\" font-family=\"sans-serif\" font-size=\"12\" lengthAdjust=\"spacingAndGlyphs\" textLength=\"8\" x=\"238\" y=\"321.1074\">P</text><line style=\"stroke: #383838; stroke-width: 1.5;\" x1=\"208\" x2=\"276\" y1=\"328.9375\" y2=\"328.9375\"/><text fill=\"#000000\" font-family=\"sans-serif\" font-size=\"11\" lengthAdjust=\"spacingAndGlyphs\" textLength=\"7\" x=\"213\" y=\"359.9526\">a</text><line style=\"stroke: #383838; stroke-width: 1.0;\" x1=\"208\" x2=\"214.5\" y1=\"343.3398\" y2=\"343.3398\"/><text fill=\"#000000\" font-family=\"sans-serif\" font-size=\"11\" lengthAdjust=\"spacingAndGlyphs\" textLength=\"55\" x=\"214.5\" y=\"346.6479\">attributes</text><line style=\"stroke: #383838; stroke-width: 1.0;\" x1=\"269.5\" x2=\"276\" y1=\"343.3398\" y2=\"343.3398\"/></a><!--MD5=[09b614a08d8cba4a07c9adeb5e0fee81]\n",
       "class E3--><a href=\"psysml:2ef5dada-a649-4c80-bc3f-904ca5914f5d\" target=\"_top\" title=\"psysml:2ef5dada-a649-4c80-bc3f-904ca5914f5d\" xlink:actuate=\"onRequest\" xlink:href=\"psysml:2ef5dada-a649-4c80-bc3f-904ca5914f5d\" xlink:show=\"new\" xlink:title=\"psysml:2ef5dada-a649-4c80-bc3f-904ca5914f5d\" xlink:type=\"simple\"><rect fill=\"#FFFFFF\" height=\"45.9375\" id=\"E3\" style=\"stroke: #383838; stroke-width: 1.5;\" width=\"70\" x=\"137\" y=\"155\"/><text fill=\"#000000\" font-family=\"sans-serif\" font-size=\"12\" font-style=\"italic\" lengthAdjust=\"spacingAndGlyphs\" textLength=\"68\" x=\"138\" y=\"171.1387\">«part  def»</text><text fill=\"#000000\" font-family=\"sans-serif\" font-size=\"12\" lengthAdjust=\"spacingAndGlyphs\" textLength=\"9\" x=\"167.5\" y=\"185.1074\">Q</text><line style=\"stroke: #383838; stroke-width: 1.5;\" x1=\"138\" x2=\"206\" y1=\"192.9375\" y2=\"192.9375\"/></a><!--MD5=[ebbe1d658d1005bcc118a6aa81145e00]\n",
       "class E4--><a href=\"psysml:45188152-89ae-47db-8fae-185a328aceea\" target=\"_top\" title=\"psysml:45188152-89ae-47db-8fae-185a328aceea\" xlink:actuate=\"onRequest\" xlink:href=\"psysml:45188152-89ae-47db-8fae-185a328aceea\" xlink:show=\"new\" xlink:title=\"psysml:45188152-89ae-47db-8fae-185a328aceea\" xlink:type=\"simple\"><rect fill=\"#FFFFFF\" height=\"45.9375\" id=\"E4\" style=\"stroke: #383838; stroke-width: 1.5;\" width=\"99\" x=\"258.5\" y=\"41\"/><text fill=\"#000000\" font-family=\"sans-serif\" font-size=\"12\" font-style=\"italic\" lengthAdjust=\"spacingAndGlyphs\" textLength=\"97\" x=\"259.5\" y=\"57.1387\">«attribute  def»</text><text fill=\"#000000\" font-family=\"sans-serif\" font-size=\"12\" lengthAdjust=\"spacingAndGlyphs\" textLength=\"8\" x=\"304\" y=\"71.1074\">B</text><line style=\"stroke: #383838; stroke-width: 1.5;\" x1=\"259.5\" x2=\"356.5\" y1=\"78.9375\" y2=\"78.9375\"/></a><!--MD5=[270fce915f116d4de14055a7c1d9a0f3]\n",
       "class E5--><a href=\"psysml:e8a966fa-6247-410c-94c4-6750afcc6da8\" target=\"_top\" title=\"psysml:e8a966fa-6247-410c-94c4-6750afcc6da8\" xlink:actuate=\"onRequest\" xlink:href=\"psysml:e8a966fa-6247-410c-94c4-6750afcc6da8\" xlink:show=\"new\" xlink:title=\"psysml:e8a966fa-6247-410c-94c4-6750afcc6da8\" xlink:type=\"simple\"><rect fill=\"#FFFFFF\" height=\"45.9375\" id=\"E5\" style=\"stroke: #383838; stroke-width: 1.5;\" width=\"70\" x=\"319\" y=\"155\"/><text fill=\"#000000\" font-family=\"sans-serif\" font-size=\"12\" font-style=\"italic\" lengthAdjust=\"spacingAndGlyphs\" textLength=\"68\" x=\"320\" y=\"171.1387\">«part  def»</text><text fill=\"#000000\" font-family=\"sans-serif\" font-size=\"12\" font-style=\"italic\" lengthAdjust=\"spacingAndGlyphs\" textLength=\"8\" x=\"350\" y=\"185.1074\">V</text><line style=\"stroke: #383838; stroke-width: 1.5;\" x1=\"320\" x2=\"388\" y1=\"192.9375\" y2=\"192.9375\"/></a><!--MD5=[60a26617385b1d2d0262a64233df1f8d]\n",
       "class E6--><a href=\"psysml:10060237-19c5-40dc-a73e-8cb7e4953e81\" target=\"_top\" title=\"psysml:10060237-19c5-40dc-a73e-8cb7e4953e81\" xlink:actuate=\"onRequest\" xlink:href=\"psysml:10060237-19c5-40dc-a73e-8cb7e4953e81\" xlink:show=\"new\" xlink:title=\"psysml:10060237-19c5-40dc-a73e-8cb7e4953e81\" xlink:type=\"simple\"><rect fill=\"#FFFFFF\" height=\"88.3516\" id=\"E6\" rx=\"10\" ry=\"10\" style=\"stroke: #383838; stroke-width: 1.5;\" width=\"63\" x=\"312.5\" y=\"285\"/><text fill=\"#000000\" font-family=\"sans-serif\" font-size=\"12\" font-style=\"italic\" lengthAdjust=\"spacingAndGlyphs\" textLength=\"40\" x=\"324\" y=\"301.1387\">«part»</text><text fill=\"#000000\" font-family=\"sans-serif\" font-size=\"12\" lengthAdjust=\"spacingAndGlyphs\" textLength=\"23\" x=\"330.5\" y=\"315.1074\">x: Q</text><line style=\"stroke: #383838; stroke-width: 1.5;\" x1=\"313.5\" x2=\"374.5\" y1=\"322.9375\" y2=\"322.9375\"/><text fill=\"#000000\" font-family=\"sans-serif\" font-size=\"11\" lengthAdjust=\"spacingAndGlyphs\" textLength=\"23\" x=\"318.5\" y=\"353.9526\">b: B</text><text fill=\"#000000\" font-family=\"sans-serif\" font-size=\"11\" font-style=\"italic\" lengthAdjust=\"spacingAndGlyphs\" textLength=\"44\" x=\"318.5\" y=\"366.7573\">:&gt;&gt;P::a</text><line style=\"stroke: #383838; stroke-width: 1.0;\" x1=\"313.5\" x2=\"316.5\" y1=\"337.3398\" y2=\"337.3398\"/><text fill=\"#000000\" font-family=\"sans-serif\" font-size=\"11\" lengthAdjust=\"spacingAndGlyphs\" textLength=\"55\" x=\"316.5\" y=\"340.6479\">attributes</text><line style=\"stroke: #383838; stroke-width: 1.0;\" x1=\"371.5\" x2=\"374.5\" y1=\"337.3398\" y2=\"337.3398\"/></a><!--MD5=[2156ba9850f5573cc1fc38a6a4b2f02b]\n",
       "class E7--><a href=\"psysml:070ce293-3e12-454f-ad5b-be257c39d672\" target=\"_top\" title=\"psysml:070ce293-3e12-454f-ad5b-be257c39d672\" xlink:actuate=\"onRequest\" xlink:href=\"psysml:070ce293-3e12-454f-ad5b-be257c39d672\" xlink:show=\"new\" xlink:title=\"psysml:070ce293-3e12-454f-ad5b-be257c39d672\" xlink:type=\"simple\"><rect fill=\"#FFFFFF\" height=\"45.9375\" id=\"E7\" rx=\"10\" ry=\"10\" style=\"stroke: #383838; stroke-width: 1.5;\" width=\"42\" x=\"151\" y=\"41\"/><text fill=\"#000000\" font-family=\"sans-serif\" font-size=\"12\" font-style=\"italic\" lengthAdjust=\"spacingAndGlyphs\" textLength=\"40\" x=\"152\" y=\"57.1387\">«part»</text><text fill=\"#000000\" font-family=\"sans-serif\" font-size=\"12\" lengthAdjust=\"spacingAndGlyphs\" textLength=\"25\" x=\"157.5\" y=\"71.1074\">q: Q</text><line style=\"stroke: #383838; stroke-width: 1.5;\" x1=\"152\" x2=\"192\" y1=\"78.9375\" y2=\"78.9375\"/></a><!--MD5=[b9389687b975829384b498ac4b7476b2]\n",
       "class E8--><a href=\"psysml:3367482b-ff59-4bbe-a9dc-fe1b4a2ad697\" target=\"_top\" title=\"psysml:3367482b-ff59-4bbe-a9dc-fe1b4a2ad697\" xlink:actuate=\"onRequest\" xlink:href=\"psysml:3367482b-ff59-4bbe-a9dc-fe1b4a2ad697\" xlink:show=\"new\" xlink:title=\"psysml:3367482b-ff59-4bbe-a9dc-fe1b4a2ad697\" xlink:type=\"simple\"><rect fill=\"#FFFFFF\" height=\"59.9063\" id=\"E8\" rx=\"10\" ry=\"10\" style=\"stroke: #383838; stroke-width: 1.5;\" width=\"70\" x=\"32\" y=\"148\"/><text fill=\"#000000\" font-family=\"sans-serif\" font-size=\"12\" font-style=\"italic\" lengthAdjust=\"spacingAndGlyphs\" textLength=\"68\" x=\"33\" y=\"164.1387\">«variation»</text><text fill=\"#000000\" font-family=\"sans-serif\" font-size=\"12\" font-style=\"italic\" lengthAdjust=\"spacingAndGlyphs\" textLength=\"40\" x=\"47\" y=\"178.1074\">«part»</text><text fill=\"#000000\" font-family=\"sans-serif\" font-size=\"12\" font-style=\"italic\" lengthAdjust=\"spacingAndGlyphs\" textLength=\"6\" x=\"54\" y=\"192.0762\">v</text><text fill=\"#000000\" font-family=\"sans-serif\" font-size=\"12\" lengthAdjust=\"spacingAndGlyphs\" textLength=\"16\" x=\"60\" y=\"192.0762\">: P</text><line style=\"stroke: #383838; stroke-width: 1.5;\" x1=\"33\" x2=\"101\" y1=\"199.9063\" y2=\"199.9063\"/></a><!--MD5=[fd4143e9d270a159db93a4ea2a975926]\n",
       "class E9--><a href=\"psysml:80fa5ea3-437e-4eec-9e3d-5d2e24e12c28\" target=\"_top\" title=\"psysml:80fa5ea3-437e-4eec-9e3d-5d2e24e12c28\" xlink:actuate=\"onRequest\" xlink:href=\"psysml:80fa5ea3-437e-4eec-9e3d-5d2e24e12c28\" xlink:show=\"new\" xlink:title=\"psysml:80fa5ea3-437e-4eec-9e3d-5d2e24e12c28\" xlink:type=\"simple\"><rect fill=\"#FFFFFF\" height=\"88.3516\" id=\"E9\" rx=\"10\" ry=\"10\" style=\"stroke: #383838; stroke-width: 1.5;\" width=\"139\" x=\"32.5\" y=\"285\"/><text fill=\"#000000\" font-family=\"sans-serif\" font-size=\"12\" font-style=\"italic\" lengthAdjust=\"spacingAndGlyphs\" textLength=\"75\" x=\"64.5\" y=\"301.1387\">«reference»</text><text fill=\"#000000\" font-family=\"sans-serif\" font-size=\"12\" lengthAdjust=\"spacingAndGlyphs\" textLength=\"133\" x=\"35.5\" y=\"315.1074\">q :&gt; VariabilityTest::q</text><line style=\"stroke: #383838; stroke-width: 1.5;\" x1=\"33.5\" x2=\"170.5\" y1=\"322.9375\" y2=\"322.9375\"/><text fill=\"#000000\" font-family=\"sans-serif\" font-size=\"11\" lengthAdjust=\"spacingAndGlyphs\" textLength=\"23\" x=\"38.5\" y=\"353.9526\">b: B</text><text fill=\"#000000\" font-family=\"sans-serif\" font-size=\"11\" font-style=\"italic\" lengthAdjust=\"spacingAndGlyphs\" textLength=\"44\" x=\"38.5\" y=\"366.7573\">:&gt;&gt;P::a</text><line style=\"stroke: #383838; stroke-width: 1.0;\" x1=\"33.5\" x2=\"74.5\" y1=\"337.3398\" y2=\"337.3398\"/><text fill=\"#000000\" font-family=\"sans-serif\" font-size=\"11\" lengthAdjust=\"spacingAndGlyphs\" textLength=\"55\" x=\"74.5\" y=\"340.6479\">attributes</text><line style=\"stroke: #383838; stroke-width: 1.0;\" x1=\"129.5\" x2=\"170.5\" y1=\"337.3398\" y2=\"337.3398\"/></a><!--MD5=[96f4274e9e20536e775497830990834d]\n",
       "class E10--><a href=\"psysml:48eaa747-84b8-4879-8d6b-33c104c23f89\" target=\"_top\" title=\"psysml:48eaa747-84b8-4879-8d6b-33c104c23f89\" xlink:actuate=\"onRequest\" xlink:href=\"psysml:48eaa747-84b8-4879-8d6b-33c104c23f89\" xlink:show=\"new\" xlink:title=\"psysml:48eaa747-84b8-4879-8d6b-33c104c23f89\" xlink:type=\"simple\"><rect fill=\"#FFFFFF\" height=\"45.9375\" id=\"E10\" rx=\"10\" ry=\"10\" style=\"stroke: #383838; stroke-width: 1.5;\" width=\"42\" x=\"242\" y=\"155\"/><text fill=\"#000000\" font-family=\"sans-serif\" font-size=\"12\" font-style=\"italic\" lengthAdjust=\"spacingAndGlyphs\" textLength=\"40\" x=\"243\" y=\"171.1387\">«part»</text><text fill=\"#000000\" font-family=\"sans-serif\" font-size=\"12\" lengthAdjust=\"spacingAndGlyphs\" textLength=\"22\" x=\"250\" y=\"185.1074\">y: P</text><line style=\"stroke: #383838; stroke-width: 1.5;\" x1=\"243\" x2=\"283\" y1=\"192.9375\" y2=\"192.9375\"/></a><!--MD5=[05d275557350bfb9b23a4ef7222b4c39]\n",
       "link E3 to E2--><a href=\"psysml:8fca0815-a461-4953-83e8-63ed8c86de29\" target=\"_top\" title=\"psysml:8fca0815-a461-4953-83e8-63ed8c86de29\" xlink:actuate=\"onRequest\" xlink:href=\"psysml:8fca0815-a461-4953-83e8-63ed8c86de29\" xlink:show=\"new\" xlink:title=\"psysml:8fca0815-a461-4953-83e8-63ed8c86de29\" xlink:type=\"simple\"><path d=\"M182.48,201.31 C191.32,220.13 204.37,247.89 215.99,272.64 \" fill=\"none\" id=\"E3-&gt;E2\" style=\"stroke: #383838; stroke-width: 1.0;\"/><polygon fill=\"none\" points=\"222.34,269.69,224.51,290.77,209.67,275.64,222.34,269.69\" style=\"stroke: #383838; stroke-width: 1.0;\"/></a><!--MD5=[15ebcb19ae302d9b601edb458606d402]\n",
       "link E5 to E2--><a href=\"psysml:80d735d5-abd9-4df4-b941-a11b60e81c18\" target=\"_top\" title=\"psysml:80d735d5-abd9-4df4-b941-a11b60e81c18\" xlink:actuate=\"onRequest\" xlink:href=\"psysml:80d735d5-abd9-4df4-b941-a11b60e81c18\" xlink:show=\"new\" xlink:title=\"psysml:80d735d5-abd9-4df4-b941-a11b60e81c18\" xlink:type=\"simple\"><path d=\"M337.23,201.31 C322.73,220.59 301.19,249.26 282.25,274.45 \" fill=\"none\" id=\"E5-&gt;E2\" style=\"stroke: #383838; stroke-width: 1.0;\"/><polygon fill=\"none\" points=\"287.6,278.99,269.99,290.77,276.41,270.57,287.6,278.99\" style=\"stroke: #383838; stroke-width: 1.0;\"/></a><!--MD5=[9120cf2e5df3bff93db8f754bbbc09b4]\n",
       "link E5 to E6--><a href=\"psysml:bbf94ce0-8140-4269-b805-c97e9315d509\" target=\"_top\" title=\"psysml:bbf94ce0-8140-4269-b805-c97e9315d509\" xlink:actuate=\"onRequest\" xlink:href=\"psysml:bbf94ce0-8140-4269-b805-c97e9315d509\" xlink:show=\"new\" xlink:title=\"psysml:bbf94ce0-8140-4269-b805-c97e9315d509\" xlink:type=\"simple\"><path d=\"M351.82,211.55 C350.58,230.03 348.99,253.61 347.58,274.71 \" fill=\"none\" id=\"E5-E6\" style=\"stroke: #383838; stroke-width: 1.0;\"/><polygon fill=\"#383838\" points=\"346.9,284.84,350.4299,277.0593,344.4435,276.6568,346.9,284.84\" style=\"stroke: #383838; stroke-width: 1.0;\"/><path d=\"M343.8553,203.8139 A9,9 0 0 0 360.7317 204.9486\" fill=\"none\" style=\"stroke: #383838; stroke-width: 1.5;\"/><text fill=\"#000000\" font-family=\"sans-serif\" font-size=\"13\" lengthAdjust=\"spacingAndGlyphs\" textLength=\"60\" x=\"350\" y=\"251.0669\">«variant»</text></a><!--MD5=[14ccda38c055a5c0da953d572bc50960]\n",
       "link E7 to E3--><a href=\"psysml:1a218306-3ccb-4021-8143-a6b7222dd125\" target=\"_top\" title=\"psysml:1a218306-3ccb-4021-8143-a6b7222dd125\" xlink:actuate=\"onRequest\" xlink:href=\"psysml:1a218306-3ccb-4021-8143-a6b7222dd125\" xlink:show=\"new\" xlink:title=\"psysml:1a218306-3ccb-4021-8143-a6b7222dd125\" xlink:type=\"simple\"><path d=\"M172,87.13 C172,100.7 172,118.53 172,134.73 \" fill=\"none\" id=\"E7-&gt;E3\" style=\"stroke: #383838; stroke-width: 1.0;\"/><polygon fill=\"#FFFFFF\" points=\"172,154.92,165,135.92,179,135.92,172,154.92\" style=\"stroke: #383838; stroke-width: 1.0;\"/><ellipse cx=\"167\" cy=\"130.22\" fill=\"#383838\" rx=\"2\" ry=\"2\" style=\"stroke: #383838; stroke-width: 1.0;\"/><ellipse cx=\"177\" cy=\"130.22\" fill=\"#383838\" rx=\"2\" ry=\"2\" style=\"stroke: #383838; stroke-width: 1.0;\"/></a><!--MD5=[f1f3f9f2fc535e6147756cb86a7f2e32]\n",
       "link E8 to E2--><a href=\"psysml:0a07ead6-b6a6-4f86-92cb-b01532aad754\" target=\"_top\" title=\"psysml:0a07ead6-b6a6-4f86-92cb-b01532aad754\" xlink:actuate=\"onRequest\" xlink:href=\"psysml:0a07ead6-b6a6-4f86-92cb-b01532aad754\" xlink:show=\"new\" xlink:title=\"psysml:0a07ead6-b6a6-4f86-92cb-b01532aad754\" xlink:type=\"simple\"><path d=\"M102.03,200.45 C118.37,211.04 137.76,224.42 154,238 C167.86,249.58 181.94,263.07 194.66,276.02 \" fill=\"none\" id=\"E8-&gt;E2\" style=\"stroke: #383838; stroke-width: 1.0;\"/><polygon fill=\"#FFFFFF\" points=\"208.87,290.84,190.6693,281.9667,200.7765,272.2794,208.87,290.84\" style=\"stroke: #383838; stroke-width: 1.0;\"/><ellipse cx=\"188.1691\" cy=\"276.4678\" fill=\"#383838\" rx=\"2\" ry=\"2\" style=\"stroke: #383838; stroke-width: 1.0;\"/><ellipse cx=\"195.3885\" cy=\"269.5482\" fill=\"#383838\" rx=\"2\" ry=\"2\" style=\"stroke: #383838; stroke-width: 1.0;\"/></a><!--MD5=[ed10624c06dd9a4fa49ccf290e8b16a8]\n",
       "link E8 to E9--><a href=\"psysml:95cf767c-bf38-4d44-8a21-82e4671e1c7d\" target=\"_top\" title=\"psysml:95cf767c-bf38-4d44-8a21-82e4671e1c7d\" xlink:actuate=\"onRequest\" xlink:href=\"psysml:95cf767c-bf38-4d44-8a21-82e4671e1c7d\" xlink:show=\"new\" xlink:title=\"psysml:95cf767c-bf38-4d44-8a21-82e4671e1c7d\" xlink:type=\"simple\"><path d=\"M76.17,218.04 C80.26,235.44 85.14,256.2 89.55,274.98 \" fill=\"none\" id=\"E8-E9\" style=\"stroke: #383838; stroke-width: 1.0;\"/><polygon fill=\"#383838\" points=\"91.87,284.88,92.9607,276.4059,87.1198,277.7782,91.87,284.88\" style=\"stroke: #383838; stroke-width: 1.0;\"/><path d=\"M66.2994,213.0085 A9,9 0 0 0 82.7667 209.1452\" fill=\"none\" style=\"stroke: #383838; stroke-width: 1.5;\"/><text fill=\"#000000\" font-family=\"sans-serif\" font-size=\"13\" lengthAdjust=\"spacingAndGlyphs\" textLength=\"60\" x=\"85\" y=\"251.0669\">«variant»</text></a><!--MD5=[0f36bececdf0dff6e600d6f64214b0f1]\n",
       "link E10 to E2--><a href=\"psysml:6b6ac884-9cd9-45a3-8497-3c127dcfd472\" target=\"_top\" title=\"psysml:6b6ac884-9cd9-45a3-8497-3c127dcfd472\" xlink:actuate=\"onRequest\" xlink:href=\"psysml:6b6ac884-9cd9-45a3-8497-3c127dcfd472\" xlink:show=\"new\" xlink:title=\"psysml:6b6ac884-9cd9-45a3-8497-3c127dcfd472\" xlink:type=\"simple\"><path d=\"M259.86,201.31 C257.27,219.67 253.48,246.54 250.06,270.81 \" fill=\"none\" id=\"E10-&gt;E2\" style=\"stroke: #383838; stroke-width: 1.0;\"/><polygon fill=\"#FFFFFF\" points=\"247.25,290.77,242.9654,270.9801,256.8288,272.9305,247.25,290.77\" style=\"stroke: #383838; stroke-width: 1.0;\"/><ellipse cx=\"245.74\" cy=\"265.6143\" fill=\"#383838\" rx=\"2\" ry=\"2\" style=\"stroke: #383838; stroke-width: 1.0;\"/><ellipse cx=\"255.6425\" cy=\"267.0075\" fill=\"#383838\" rx=\"2\" ry=\"2\" style=\"stroke: #383838; stroke-width: 1.0;\"/></a><!--MD5=[eea7c355ab533d77382992385bdb58f0]\n",
       "@startuml\r\n",
       " skinparam monochrome true\r\n",
       "skinparam classbackgroundcolor white\r\n",
       "skinparam shadowing false\r\n",
       "skinparam wrapWidth 300\r\n",
       "hide circle\r\n",
       "\r\n",
       "package \"VariabilityTest\" as E1  [[psysml:54c28c65-c036-409b-a9ca-8f60ef8eadfb ]]  {\r\n",
       "comp def \"P\" as E2  <<(T,blue) part  def>> [[psysml:82cb16a2-9eb2-4cce-bbbe-e1592c7acc8b ]] {\r\n",
       "- - attributes - -\r\n",
       "a\r\n",
       "}\r\n",
       "comp def \"Q\" as E3  <<(T,blue) part  def>> [[psysml:2ef5dada-a649-4c80-bc3f-904ca5914f5d ]] {\r\n",
       "}\r\n",
       "comp def \"B\" as E4  <<(T,blue) attribute  def>> [[psysml:45188152-89ae-47db-8fae-185a328aceea ]] {\r\n",
       "}\r\n",
       "comp def \"<i>V</i>\" as E5  <<(T,blue) part  def>> [[psysml:e8a966fa-6247-410c-94c4-6750afcc6da8 ]] {\r\n",
       "}\r\n",
       "comp usage \"x: Q \" as E6  <<(T,blue) part>> [[psysml:10060237-19c5-40dc-a73e-8cb7e4953e81 ]] {\r\n",
       "- - attributes - -\r\n",
       "b: B\\n//:>>P::a// \r\n",
       "}\r\n",
       "comp usage \"q: Q \" as E7  <<(T,blue) part>> [[psysml:070ce293-3e12-454f-ad5b-be257c39d672 ]] {\r\n",
       "}\r\n",
       "comp usage \"<i>v</i>: P \" as E8  <<variation>>\\n <<(T,blue) part>> [[psysml:3367482b-ff59-4bbe-a9dc-fe1b4a2ad697 ]] {\r\n",
       "}\r\n",
       "comp usage \"q :> VariabilityTest::q\" as E9  <<(T,blue) reference>> [[psysml:80fa5ea3-437e-4eec-9e3d-5d2e24e12c28 ]] {\r\n",
       "- - attributes - -\r\n",
       "b: B\\n//:>>P::a// \r\n",
       "}\r\n",
       "comp usage \"y: P \" as E10  <<(T,blue) part>> [[psysml:48eaa747-84b8-4879-8d6b-33c104c23f89 ]] {\r\n",
       "}\r\n",
       "}\r\n",
       "E3 - -|> E2 [[psysml:8fca0815-a461-4953-83e8-63ed8c86de29 ]] \r\n",
       "E5 - -|> E2 [[psysml:80d735d5-abd9-4df4-b941-a11b60e81c18 ]] \r\n",
       "E5 )- ->> E6 [[psysml:bbf94ce0-8140-4269-b805-c97e9315d509 ]] : <<variant>>\r\n",
       "E7 - -:|> E3 [[psysml:1a218306-3ccb-4021-8143-a6b7222dd125 ]] \r\n",
       "E8 - -:|> E2 [[psysml:0a07ead6-b6a6-4f86-92cb-b01532aad754 ]] \r\n",
       "E8 )- ->> E9 [[psysml:95cf767c-bf38-4d44-8a21-82e4671e1c7d ]] : <<variant>>\r\n",
       "E10 - -:|> E2 [[psysml:6b6ac884-9cd9-45a3-8497-3c127dcfd472 ]] \r\n",
       "@enduml\r\n",
       "\n",
       "PlantUML version 1.2020.13(Sat Jun 13 12:26:38 UTC 2020)\n",
       "(EPL source distribution)\n",
       "Java Runtime: OpenJDK Runtime Environment\n",
       "JVM: OpenJDK 64-Bit Server VM\n",
       "Default Encoding: UTF-8\n",
       "Language: en\n",
       "Country: null\n",
       "--></g></svg>"
      ]
     },
     "execution_count": 8,
     "metadata": {},
     "output_type": "execute_result"
    }
   ],
   "source": [
    "%viz --style=\"COMPTREE\" --view=\"MIXED\" \"VariabilityTest\""
   ]
  },
  {
   "cell_type": "code",
   "execution_count": 9,
   "id": "f75940f4",
   "metadata": {
    "execution": {
     "iopub.execute_input": "2021-10-25T08:21:41.577456Z",
     "iopub.status.busy": "2021-10-25T08:21:41.577044Z",
     "iopub.status.idle": "2021-10-25T08:21:41.639835Z",
     "shell.execute_reply": "2021-10-25T08:21:41.637815Z"
    }
   },
   "outputs": [
    {
     "data": {
      "image/svg+xml": [
       "<?xml version=\"1.0\" encoding=\"UTF-8\" standalone=\"no\"?><svg xmlns=\"http://www.w3.org/2000/svg\" xmlns:xlink=\"http://www.w3.org/1999/xlink\" contentScriptType=\"application/ecmascript\" contentStyleType=\"text/css\" height=\"401px\" preserveAspectRatio=\"none\" style=\"width:427px;height:401px;\" version=\"1.1\" viewBox=\"0 0 427 401\" width=\"427px\" zoomAndPan=\"magnify\"><defs/><g><!--MD5=[fbc87193dbaf4d95561dea2c320d4a47]\n",
       "cluster E1--><a href=\"psysml:54c28c65-c036-409b-a9ca-8f60ef8eadfb\" target=\"_top\" title=\"psysml:54c28c65-c036-409b-a9ca-8f60ef8eadfb\" xlink:actuate=\"onRequest\" xlink:href=\"psysml:54c28c65-c036-409b-a9ca-8f60ef8eadfb\" xlink:show=\"new\" xlink:title=\"psysml:54c28c65-c036-409b-a9ca-8f60ef8eadfb\" xlink:type=\"simple\"><polygon fill=\"#FFFFFF\" points=\"16,6,116,6,123,28.2969,405,28.2969,405,389,16,389,16,6\" style=\"stroke: #000000; stroke-width: 1.5;\"/><line style=\"stroke: #000000; stroke-width: 1.5;\" x1=\"16\" x2=\"123\" y1=\"28.2969\" y2=\"28.2969\"/><text fill=\"#000000\" font-family=\"sans-serif\" font-size=\"14\" font-weight=\"bold\" lengthAdjust=\"spacingAndGlyphs\" textLength=\"94\" x=\"20\" y=\"20.9951\">VariabilityTest</text></a><!--MD5=[b4997ac47864f28c2f74865a473b2911]\n",
       "class E2--><a href=\"psysml:82cb16a2-9eb2-4cce-bbbe-e1592c7acc8b\" target=\"_top\" title=\"psysml:82cb16a2-9eb2-4cce-bbbe-e1592c7acc8b\" xlink:actuate=\"onRequest\" xlink:href=\"psysml:82cb16a2-9eb2-4cce-bbbe-e1592c7acc8b\" xlink:show=\"new\" xlink:title=\"psysml:82cb16a2-9eb2-4cce-bbbe-e1592c7acc8b\" xlink:type=\"simple\"><rect fill=\"#FFFFFF\" height=\"75.5469\" id=\"E2\" style=\"stroke: #383838; stroke-width: 1.5;\" width=\"70\" x=\"207\" y=\"291\"/><text fill=\"#000000\" font-family=\"sans-serif\" font-size=\"12\" font-style=\"italic\" lengthAdjust=\"spacingAndGlyphs\" textLength=\"68\" x=\"208\" y=\"307.1387\">«part  def»</text><text fill=\"#000000\" font-family=\"sans-serif\" font-size=\"12\" lengthAdjust=\"spacingAndGlyphs\" textLength=\"8\" x=\"238\" y=\"321.1074\">P</text><line style=\"stroke: #383838; stroke-width: 1.5;\" x1=\"208\" x2=\"276\" y1=\"328.9375\" y2=\"328.9375\"/><text fill=\"#000000\" font-family=\"sans-serif\" font-size=\"11\" lengthAdjust=\"spacingAndGlyphs\" textLength=\"7\" x=\"213\" y=\"359.9526\">a</text><line style=\"stroke: #383838; stroke-width: 1.0;\" x1=\"208\" x2=\"214.5\" y1=\"343.3398\" y2=\"343.3398\"/><text fill=\"#000000\" font-family=\"sans-serif\" font-size=\"11\" lengthAdjust=\"spacingAndGlyphs\" textLength=\"55\" x=\"214.5\" y=\"346.6479\">attributes</text><line style=\"stroke: #383838; stroke-width: 1.0;\" x1=\"269.5\" x2=\"276\" y1=\"343.3398\" y2=\"343.3398\"/></a><!--MD5=[09b614a08d8cba4a07c9adeb5e0fee81]\n",
       "class E3--><a href=\"psysml:2ef5dada-a649-4c80-bc3f-904ca5914f5d\" target=\"_top\" title=\"psysml:2ef5dada-a649-4c80-bc3f-904ca5914f5d\" xlink:actuate=\"onRequest\" xlink:href=\"psysml:2ef5dada-a649-4c80-bc3f-904ca5914f5d\" xlink:show=\"new\" xlink:title=\"psysml:2ef5dada-a649-4c80-bc3f-904ca5914f5d\" xlink:type=\"simple\"><rect fill=\"#FFFFFF\" height=\"45.9375\" id=\"E3\" style=\"stroke: #383838; stroke-width: 1.5;\" width=\"70\" x=\"137\" y=\"155\"/><text fill=\"#000000\" font-family=\"sans-serif\" font-size=\"12\" font-style=\"italic\" lengthAdjust=\"spacingAndGlyphs\" textLength=\"68\" x=\"138\" y=\"171.1387\">«part  def»</text><text fill=\"#000000\" font-family=\"sans-serif\" font-size=\"12\" lengthAdjust=\"spacingAndGlyphs\" textLength=\"9\" x=\"167.5\" y=\"185.1074\">Q</text><line style=\"stroke: #383838; stroke-width: 1.5;\" x1=\"138\" x2=\"206\" y1=\"192.9375\" y2=\"192.9375\"/></a><!--MD5=[ebbe1d658d1005bcc118a6aa81145e00]\n",
       "class E4--><a href=\"psysml:45188152-89ae-47db-8fae-185a328aceea\" target=\"_top\" title=\"psysml:45188152-89ae-47db-8fae-185a328aceea\" xlink:actuate=\"onRequest\" xlink:href=\"psysml:45188152-89ae-47db-8fae-185a328aceea\" xlink:show=\"new\" xlink:title=\"psysml:45188152-89ae-47db-8fae-185a328aceea\" xlink:type=\"simple\"><rect fill=\"#FFFFFF\" height=\"45.9375\" id=\"E4\" style=\"stroke: #383838; stroke-width: 1.5;\" width=\"99\" x=\"258.5\" y=\"41\"/><text fill=\"#000000\" font-family=\"sans-serif\" font-size=\"12\" font-style=\"italic\" lengthAdjust=\"spacingAndGlyphs\" textLength=\"97\" x=\"259.5\" y=\"57.1387\">«attribute  def»</text><text fill=\"#000000\" font-family=\"sans-serif\" font-size=\"12\" lengthAdjust=\"spacingAndGlyphs\" textLength=\"8\" x=\"304\" y=\"71.1074\">B</text><line style=\"stroke: #383838; stroke-width: 1.5;\" x1=\"259.5\" x2=\"356.5\" y1=\"78.9375\" y2=\"78.9375\"/></a><!--MD5=[270fce915f116d4de14055a7c1d9a0f3]\n",
       "class E5--><a href=\"psysml:e8a966fa-6247-410c-94c4-6750afcc6da8\" target=\"_top\" title=\"psysml:e8a966fa-6247-410c-94c4-6750afcc6da8\" xlink:actuate=\"onRequest\" xlink:href=\"psysml:e8a966fa-6247-410c-94c4-6750afcc6da8\" xlink:show=\"new\" xlink:title=\"psysml:e8a966fa-6247-410c-94c4-6750afcc6da8\" xlink:type=\"simple\"><rect fill=\"#FFFFFF\" height=\"45.9375\" id=\"E5\" style=\"stroke: #383838; stroke-width: 1.5;\" width=\"70\" x=\"319\" y=\"155\"/><text fill=\"#000000\" font-family=\"sans-serif\" font-size=\"12\" font-style=\"italic\" lengthAdjust=\"spacingAndGlyphs\" textLength=\"68\" x=\"320\" y=\"171.1387\">«part  def»</text><text fill=\"#000000\" font-family=\"sans-serif\" font-size=\"12\" font-style=\"italic\" lengthAdjust=\"spacingAndGlyphs\" textLength=\"8\" x=\"350\" y=\"185.1074\">V</text><line style=\"stroke: #383838; stroke-width: 1.5;\" x1=\"320\" x2=\"388\" y1=\"192.9375\" y2=\"192.9375\"/></a><!--MD5=[60a26617385b1d2d0262a64233df1f8d]\n",
       "class E6--><a href=\"psysml:10060237-19c5-40dc-a73e-8cb7e4953e81\" target=\"_top\" title=\"psysml:10060237-19c5-40dc-a73e-8cb7e4953e81\" xlink:actuate=\"onRequest\" xlink:href=\"psysml:10060237-19c5-40dc-a73e-8cb7e4953e81\" xlink:show=\"new\" xlink:title=\"psysml:10060237-19c5-40dc-a73e-8cb7e4953e81\" xlink:type=\"simple\"><rect fill=\"#FFFFFF\" height=\"88.3516\" id=\"E6\" rx=\"10\" ry=\"10\" style=\"stroke: #383838; stroke-width: 1.5;\" width=\"63\" x=\"312.5\" y=\"285\"/><text fill=\"#000000\" font-family=\"sans-serif\" font-size=\"12\" font-style=\"italic\" lengthAdjust=\"spacingAndGlyphs\" textLength=\"40\" x=\"324\" y=\"301.1387\">«part»</text><text fill=\"#000000\" font-family=\"sans-serif\" font-size=\"12\" lengthAdjust=\"spacingAndGlyphs\" textLength=\"23\" x=\"330.5\" y=\"315.1074\">x: Q</text><line style=\"stroke: #383838; stroke-width: 1.5;\" x1=\"313.5\" x2=\"374.5\" y1=\"322.9375\" y2=\"322.9375\"/><text fill=\"#000000\" font-family=\"sans-serif\" font-size=\"11\" lengthAdjust=\"spacingAndGlyphs\" textLength=\"23\" x=\"318.5\" y=\"353.9526\">b: B</text><text fill=\"#000000\" font-family=\"sans-serif\" font-size=\"11\" font-style=\"italic\" lengthAdjust=\"spacingAndGlyphs\" textLength=\"44\" x=\"318.5\" y=\"366.7573\">:&gt;&gt;P::a</text><line style=\"stroke: #383838; stroke-width: 1.0;\" x1=\"313.5\" x2=\"316.5\" y1=\"337.3398\" y2=\"337.3398\"/><text fill=\"#000000\" font-family=\"sans-serif\" font-size=\"11\" lengthAdjust=\"spacingAndGlyphs\" textLength=\"55\" x=\"316.5\" y=\"340.6479\">attributes</text><line style=\"stroke: #383838; stroke-width: 1.0;\" x1=\"371.5\" x2=\"374.5\" y1=\"337.3398\" y2=\"337.3398\"/></a><!--MD5=[2156ba9850f5573cc1fc38a6a4b2f02b]\n",
       "class E7--><a href=\"psysml:070ce293-3e12-454f-ad5b-be257c39d672\" target=\"_top\" title=\"psysml:070ce293-3e12-454f-ad5b-be257c39d672\" xlink:actuate=\"onRequest\" xlink:href=\"psysml:070ce293-3e12-454f-ad5b-be257c39d672\" xlink:show=\"new\" xlink:title=\"psysml:070ce293-3e12-454f-ad5b-be257c39d672\" xlink:type=\"simple\"><rect fill=\"#FFFFFF\" height=\"45.9375\" id=\"E7\" rx=\"10\" ry=\"10\" style=\"stroke: #383838; stroke-width: 1.5;\" width=\"42\" x=\"151\" y=\"41\"/><text fill=\"#000000\" font-family=\"sans-serif\" font-size=\"12\" font-style=\"italic\" lengthAdjust=\"spacingAndGlyphs\" textLength=\"40\" x=\"152\" y=\"57.1387\">«part»</text><text fill=\"#000000\" font-family=\"sans-serif\" font-size=\"12\" lengthAdjust=\"spacingAndGlyphs\" textLength=\"25\" x=\"157.5\" y=\"71.1074\">q: Q</text><line style=\"stroke: #383838; stroke-width: 1.5;\" x1=\"152\" x2=\"192\" y1=\"78.9375\" y2=\"78.9375\"/></a><!--MD5=[b9389687b975829384b498ac4b7476b2]\n",
       "class E8--><a href=\"psysml:3367482b-ff59-4bbe-a9dc-fe1b4a2ad697\" target=\"_top\" title=\"psysml:3367482b-ff59-4bbe-a9dc-fe1b4a2ad697\" xlink:actuate=\"onRequest\" xlink:href=\"psysml:3367482b-ff59-4bbe-a9dc-fe1b4a2ad697\" xlink:show=\"new\" xlink:title=\"psysml:3367482b-ff59-4bbe-a9dc-fe1b4a2ad697\" xlink:type=\"simple\"><rect fill=\"#FFFFFF\" height=\"59.9063\" id=\"E8\" rx=\"10\" ry=\"10\" style=\"stroke: #383838; stroke-width: 1.5;\" width=\"70\" x=\"32\" y=\"148\"/><text fill=\"#000000\" font-family=\"sans-serif\" font-size=\"12\" font-style=\"italic\" lengthAdjust=\"spacingAndGlyphs\" textLength=\"68\" x=\"33\" y=\"164.1387\">«variation»</text><text fill=\"#000000\" font-family=\"sans-serif\" font-size=\"12\" font-style=\"italic\" lengthAdjust=\"spacingAndGlyphs\" textLength=\"40\" x=\"47\" y=\"178.1074\">«part»</text><text fill=\"#000000\" font-family=\"sans-serif\" font-size=\"12\" font-style=\"italic\" lengthAdjust=\"spacingAndGlyphs\" textLength=\"6\" x=\"54\" y=\"192.0762\">v</text><text fill=\"#000000\" font-family=\"sans-serif\" font-size=\"12\" lengthAdjust=\"spacingAndGlyphs\" textLength=\"16\" x=\"60\" y=\"192.0762\">: P</text><line style=\"stroke: #383838; stroke-width: 1.5;\" x1=\"33\" x2=\"101\" y1=\"199.9063\" y2=\"199.9063\"/></a><!--MD5=[fd4143e9d270a159db93a4ea2a975926]\n",
       "class E9--><a href=\"psysml:80fa5ea3-437e-4eec-9e3d-5d2e24e12c28\" target=\"_top\" title=\"psysml:80fa5ea3-437e-4eec-9e3d-5d2e24e12c28\" xlink:actuate=\"onRequest\" xlink:href=\"psysml:80fa5ea3-437e-4eec-9e3d-5d2e24e12c28\" xlink:show=\"new\" xlink:title=\"psysml:80fa5ea3-437e-4eec-9e3d-5d2e24e12c28\" xlink:type=\"simple\"><rect fill=\"#FFFFFF\" height=\"88.3516\" id=\"E9\" rx=\"10\" ry=\"10\" style=\"stroke: #383838; stroke-width: 1.5;\" width=\"139\" x=\"32.5\" y=\"285\"/><text fill=\"#000000\" font-family=\"sans-serif\" font-size=\"12\" font-style=\"italic\" lengthAdjust=\"spacingAndGlyphs\" textLength=\"75\" x=\"64.5\" y=\"301.1387\">«reference»</text><text fill=\"#000000\" font-family=\"sans-serif\" font-size=\"12\" lengthAdjust=\"spacingAndGlyphs\" textLength=\"133\" x=\"35.5\" y=\"315.1074\">q :&gt; VariabilityTest::q</text><line style=\"stroke: #383838; stroke-width: 1.5;\" x1=\"33.5\" x2=\"170.5\" y1=\"322.9375\" y2=\"322.9375\"/><text fill=\"#000000\" font-family=\"sans-serif\" font-size=\"11\" lengthAdjust=\"spacingAndGlyphs\" textLength=\"23\" x=\"38.5\" y=\"353.9526\">b: B</text><text fill=\"#000000\" font-family=\"sans-serif\" font-size=\"11\" font-style=\"italic\" lengthAdjust=\"spacingAndGlyphs\" textLength=\"44\" x=\"38.5\" y=\"366.7573\">:&gt;&gt;P::a</text><line style=\"stroke: #383838; stroke-width: 1.0;\" x1=\"33.5\" x2=\"74.5\" y1=\"337.3398\" y2=\"337.3398\"/><text fill=\"#000000\" font-family=\"sans-serif\" font-size=\"11\" lengthAdjust=\"spacingAndGlyphs\" textLength=\"55\" x=\"74.5\" y=\"340.6479\">attributes</text><line style=\"stroke: #383838; stroke-width: 1.0;\" x1=\"129.5\" x2=\"170.5\" y1=\"337.3398\" y2=\"337.3398\"/></a><!--MD5=[96f4274e9e20536e775497830990834d]\n",
       "class E10--><a href=\"psysml:48eaa747-84b8-4879-8d6b-33c104c23f89\" target=\"_top\" title=\"psysml:48eaa747-84b8-4879-8d6b-33c104c23f89\" xlink:actuate=\"onRequest\" xlink:href=\"psysml:48eaa747-84b8-4879-8d6b-33c104c23f89\" xlink:show=\"new\" xlink:title=\"psysml:48eaa747-84b8-4879-8d6b-33c104c23f89\" xlink:type=\"simple\"><rect fill=\"#FFFFFF\" height=\"45.9375\" id=\"E10\" rx=\"10\" ry=\"10\" style=\"stroke: #383838; stroke-width: 1.5;\" width=\"42\" x=\"242\" y=\"155\"/><text fill=\"#000000\" font-family=\"sans-serif\" font-size=\"12\" font-style=\"italic\" lengthAdjust=\"spacingAndGlyphs\" textLength=\"40\" x=\"243\" y=\"171.1387\">«part»</text><text fill=\"#000000\" font-family=\"sans-serif\" font-size=\"12\" lengthAdjust=\"spacingAndGlyphs\" textLength=\"22\" x=\"250\" y=\"185.1074\">y: P</text><line style=\"stroke: #383838; stroke-width: 1.5;\" x1=\"243\" x2=\"283\" y1=\"192.9375\" y2=\"192.9375\"/></a><!--MD5=[05d275557350bfb9b23a4ef7222b4c39]\n",
       "link E3 to E2--><a href=\"psysml:8fca0815-a461-4953-83e8-63ed8c86de29\" target=\"_top\" title=\"psysml:8fca0815-a461-4953-83e8-63ed8c86de29\" xlink:actuate=\"onRequest\" xlink:href=\"psysml:8fca0815-a461-4953-83e8-63ed8c86de29\" xlink:show=\"new\" xlink:title=\"psysml:8fca0815-a461-4953-83e8-63ed8c86de29\" xlink:type=\"simple\"><path d=\"M182.48,201.31 C191.32,220.13 204.37,247.89 215.99,272.64 \" fill=\"none\" id=\"E3-&gt;E2\" style=\"stroke: #383838; stroke-width: 1.0;\"/><polygon fill=\"none\" points=\"222.34,269.69,224.51,290.77,209.67,275.64,222.34,269.69\" style=\"stroke: #383838; stroke-width: 1.0;\"/></a><!--MD5=[15ebcb19ae302d9b601edb458606d402]\n",
       "link E5 to E2--><a href=\"psysml:80d735d5-abd9-4df4-b941-a11b60e81c18\" target=\"_top\" title=\"psysml:80d735d5-abd9-4df4-b941-a11b60e81c18\" xlink:actuate=\"onRequest\" xlink:href=\"psysml:80d735d5-abd9-4df4-b941-a11b60e81c18\" xlink:show=\"new\" xlink:title=\"psysml:80d735d5-abd9-4df4-b941-a11b60e81c18\" xlink:type=\"simple\"><path d=\"M337.23,201.31 C322.73,220.59 301.19,249.26 282.25,274.45 \" fill=\"none\" id=\"E5-&gt;E2\" style=\"stroke: #383838; stroke-width: 1.0;\"/><polygon fill=\"none\" points=\"287.6,278.99,269.99,290.77,276.41,270.57,287.6,278.99\" style=\"stroke: #383838; stroke-width: 1.0;\"/></a><!--MD5=[9120cf2e5df3bff93db8f754bbbc09b4]\n",
       "link E5 to E6--><a href=\"psysml:bbf94ce0-8140-4269-b805-c97e9315d509\" target=\"_top\" title=\"psysml:bbf94ce0-8140-4269-b805-c97e9315d509\" xlink:actuate=\"onRequest\" xlink:href=\"psysml:bbf94ce0-8140-4269-b805-c97e9315d509\" xlink:show=\"new\" xlink:title=\"psysml:bbf94ce0-8140-4269-b805-c97e9315d509\" xlink:type=\"simple\"><path d=\"M351.82,211.55 C350.58,230.03 348.99,253.61 347.58,274.71 \" fill=\"none\" id=\"E5-E6\" style=\"stroke: #383838; stroke-width: 1.0;\"/><polygon fill=\"#383838\" points=\"346.9,284.84,350.4299,277.0593,344.4435,276.6568,346.9,284.84\" style=\"stroke: #383838; stroke-width: 1.0;\"/><path d=\"M343.8553,203.8139 A9,9 0 0 0 360.7317 204.9486\" fill=\"none\" style=\"stroke: #383838; stroke-width: 1.5;\"/><text fill=\"#000000\" font-family=\"sans-serif\" font-size=\"13\" lengthAdjust=\"spacingAndGlyphs\" textLength=\"60\" x=\"350\" y=\"251.0669\">«variant»</text></a><!--MD5=[14ccda38c055a5c0da953d572bc50960]\n",
       "link E7 to E3--><a href=\"psysml:1a218306-3ccb-4021-8143-a6b7222dd125\" target=\"_top\" title=\"psysml:1a218306-3ccb-4021-8143-a6b7222dd125\" xlink:actuate=\"onRequest\" xlink:href=\"psysml:1a218306-3ccb-4021-8143-a6b7222dd125\" xlink:show=\"new\" xlink:title=\"psysml:1a218306-3ccb-4021-8143-a6b7222dd125\" xlink:type=\"simple\"><path d=\"M172,87.13 C172,100.7 172,118.53 172,134.73 \" fill=\"none\" id=\"E7-&gt;E3\" style=\"stroke: #383838; stroke-width: 1.0;\"/><polygon fill=\"#FFFFFF\" points=\"172,154.92,165,135.92,179,135.92,172,154.92\" style=\"stroke: #383838; stroke-width: 1.0;\"/><ellipse cx=\"167\" cy=\"130.22\" fill=\"#383838\" rx=\"2\" ry=\"2\" style=\"stroke: #383838; stroke-width: 1.0;\"/><ellipse cx=\"177\" cy=\"130.22\" fill=\"#383838\" rx=\"2\" ry=\"2\" style=\"stroke: #383838; stroke-width: 1.0;\"/></a><!--MD5=[f1f3f9f2fc535e6147756cb86a7f2e32]\n",
       "link E8 to E2--><a href=\"psysml:0a07ead6-b6a6-4f86-92cb-b01532aad754\" target=\"_top\" title=\"psysml:0a07ead6-b6a6-4f86-92cb-b01532aad754\" xlink:actuate=\"onRequest\" xlink:href=\"psysml:0a07ead6-b6a6-4f86-92cb-b01532aad754\" xlink:show=\"new\" xlink:title=\"psysml:0a07ead6-b6a6-4f86-92cb-b01532aad754\" xlink:type=\"simple\"><path d=\"M102.14,202.83 C126.28,219.2 154,238 154,238 C154,238 172.77,257.19 192.97,277.85 \" fill=\"none\" id=\"E8-&gt;E2\" style=\"stroke: #383838; stroke-width: 1.0;\"/><polygon fill=\"#FFFFFF\" points=\"206.97,292.17,188.6851,283.4716,198.6989,273.6879,206.97,292.17\" style=\"stroke: #383838; stroke-width: 1.0;\"/><ellipse cx=\"186.1322\" cy=\"277.9969\" fill=\"#383838\" rx=\"2\" ry=\"2\" style=\"stroke: #383838; stroke-width: 1.0;\"/><ellipse cx=\"193.285\" cy=\"271.0085\" fill=\"#383838\" rx=\"2\" ry=\"2\" style=\"stroke: #383838; stroke-width: 1.0;\"/></a><!--MD5=[ed10624c06dd9a4fa49ccf290e8b16a8]\n",
       "link E8 to E9--><a href=\"psysml:95cf767c-bf38-4d44-8a21-82e4671e1c7d\" target=\"_top\" title=\"psysml:95cf767c-bf38-4d44-8a21-82e4671e1c7d\" xlink:actuate=\"onRequest\" xlink:href=\"psysml:95cf767c-bf38-4d44-8a21-82e4671e1c7d\" xlink:show=\"new\" xlink:title=\"psysml:95cf767c-bf38-4d44-8a21-82e4671e1c7d\" xlink:type=\"simple\"><path d=\"M76.17,218.04 C80.26,235.44 85.14,256.2 89.55,274.98 \" fill=\"none\" id=\"E8-E9\" style=\"stroke: #383838; stroke-width: 1.0;\"/><polygon fill=\"#383838\" points=\"91.87,284.88,92.9607,276.4059,87.1198,277.7782,91.87,284.88\" style=\"stroke: #383838; stroke-width: 1.0;\"/><path d=\"M66.2994,213.0085 A9,9 0 0 0 82.7667 209.1452\" fill=\"none\" style=\"stroke: #383838; stroke-width: 1.5;\"/><text fill=\"#000000\" font-family=\"sans-serif\" font-size=\"13\" lengthAdjust=\"spacingAndGlyphs\" textLength=\"60\" x=\"85\" y=\"251.0669\">«variant»</text></a><!--MD5=[0f36bececdf0dff6e600d6f64214b0f1]\n",
       "link E10 to E2--><a href=\"psysml:6b6ac884-9cd9-45a3-8497-3c127dcfd472\" target=\"_top\" title=\"psysml:6b6ac884-9cd9-45a3-8497-3c127dcfd472\" xlink:actuate=\"onRequest\" xlink:href=\"psysml:6b6ac884-9cd9-45a3-8497-3c127dcfd472\" xlink:show=\"new\" xlink:title=\"psysml:6b6ac884-9cd9-45a3-8497-3c127dcfd472\" xlink:type=\"simple\"><path d=\"M259.86,201.31 C257.27,219.67 253.48,246.54 250.06,270.81 \" fill=\"none\" id=\"E10-&gt;E2\" style=\"stroke: #383838; stroke-width: 1.0;\"/><polygon fill=\"#FFFFFF\" points=\"247.25,290.77,242.9654,270.9801,256.8288,272.9305,247.25,290.77\" style=\"stroke: #383838; stroke-width: 1.0;\"/><ellipse cx=\"245.74\" cy=\"265.6143\" fill=\"#383838\" rx=\"2\" ry=\"2\" style=\"stroke: #383838; stroke-width: 1.0;\"/><ellipse cx=\"255.6425\" cy=\"267.0075\" fill=\"#383838\" rx=\"2\" ry=\"2\" style=\"stroke: #383838; stroke-width: 1.0;\"/></a><!--MD5=[3e043085504d5835693b7bae5ae6207f]\n",
       "@startuml\r\n",
       "skinparam linetype polyline\r\n",
       "skinparam monochrome true\r\n",
       "skinparam classbackgroundcolor white\r\n",
       "skinparam shadowing false\r\n",
       "skinparam wrapWidth 300\r\n",
       "hide circle\r\n",
       "\r\n",
       "package \"VariabilityTest\" as E1  [[psysml:54c28c65-c036-409b-a9ca-8f60ef8eadfb ]]  {\r\n",
       "comp def \"P\" as E2  <<(T,blue) part  def>> [[psysml:82cb16a2-9eb2-4cce-bbbe-e1592c7acc8b ]] {\r\n",
       "- - attributes - -\r\n",
       "a\r\n",
       "}\r\n",
       "comp def \"Q\" as E3  <<(T,blue) part  def>> [[psysml:2ef5dada-a649-4c80-bc3f-904ca5914f5d ]] {\r\n",
       "}\r\n",
       "comp def \"B\" as E4  <<(T,blue) attribute  def>> [[psysml:45188152-89ae-47db-8fae-185a328aceea ]] {\r\n",
       "}\r\n",
       "comp def \"<i>V</i>\" as E5  <<(T,blue) part  def>> [[psysml:e8a966fa-6247-410c-94c4-6750afcc6da8 ]] {\r\n",
       "}\r\n",
       "comp usage \"x: Q \" as E6  <<(T,blue) part>> [[psysml:10060237-19c5-40dc-a73e-8cb7e4953e81 ]] {\r\n",
       "- - attributes - -\r\n",
       "b: B\\n//:>>P::a// \r\n",
       "}\r\n",
       "comp usage \"q: Q \" as E7  <<(T,blue) part>> [[psysml:070ce293-3e12-454f-ad5b-be257c39d672 ]] {\r\n",
       "}\r\n",
       "comp usage \"<i>v</i>: P \" as E8  <<variation>>\\n <<(T,blue) part>> [[psysml:3367482b-ff59-4bbe-a9dc-fe1b4a2ad697 ]] {\r\n",
       "}\r\n",
       "comp usage \"q :> VariabilityTest::q\" as E9  <<(T,blue) reference>> [[psysml:80fa5ea3-437e-4eec-9e3d-5d2e24e12c28 ]] {\r\n",
       "- - attributes - -\r\n",
       "b: B\\n//:>>P::a// \r\n",
       "}\r\n",
       "comp usage \"y: P \" as E10  <<(T,blue) part>> [[psysml:48eaa747-84b8-4879-8d6b-33c104c23f89 ]] {\r\n",
       "}\r\n",
       "}\r\n",
       "E3 - -|> E2 [[psysml:8fca0815-a461-4953-83e8-63ed8c86de29 ]] \r\n",
       "E5 - -|> E2 [[psysml:80d735d5-abd9-4df4-b941-a11b60e81c18 ]] \r\n",
       "E5 )- ->> E6 [[psysml:bbf94ce0-8140-4269-b805-c97e9315d509 ]] : <<variant>>\r\n",
       "E7 - -:|> E3 [[psysml:1a218306-3ccb-4021-8143-a6b7222dd125 ]] \r\n",
       "E8 - -:|> E2 [[psysml:0a07ead6-b6a6-4f86-92cb-b01532aad754 ]] \r\n",
       "E8 )- ->> E9 [[psysml:95cf767c-bf38-4d44-8a21-82e4671e1c7d ]] : <<variant>>\r\n",
       "E10 - -:|> E2 [[psysml:6b6ac884-9cd9-45a3-8497-3c127dcfd472 ]] \r\n",
       "@enduml\r\n",
       "\n",
       "PlantUML version 1.2020.13(Sat Jun 13 12:26:38 UTC 2020)\n",
       "(EPL source distribution)\n",
       "Java Runtime: OpenJDK Runtime Environment\n",
       "JVM: OpenJDK 64-Bit Server VM\n",
       "Default Encoding: UTF-8\n",
       "Language: en\n",
       "Country: null\n",
       "--></g></svg>"
      ]
     },
     "execution_count": 9,
     "metadata": {},
     "output_type": "execute_result"
    }
   ],
   "source": [
    "%viz --style=\"POLYLINE\" --view=\"Default\" \"VariabilityTest\""
   ]
  },
  {
   "cell_type": "code",
   "execution_count": 10,
   "id": "ac0c6d37",
   "metadata": {
    "execution": {
     "iopub.execute_input": "2021-10-25T08:21:41.689082Z",
     "iopub.status.busy": "2021-10-25T08:21:41.688680Z",
     "iopub.status.idle": "2021-10-25T08:21:41.797719Z",
     "shell.execute_reply": "2021-10-25T08:21:41.795575Z"
    }
   },
   "outputs": [
    {
     "data": {
      "image/svg+xml": [
       "<?xml version=\"1.0\" encoding=\"UTF-8\" standalone=\"no\"?><svg xmlns=\"http://www.w3.org/2000/svg\" xmlns:xlink=\"http://www.w3.org/1999/xlink\" contentScriptType=\"application/ecmascript\" contentStyleType=\"text/css\" height=\"401px\" preserveAspectRatio=\"none\" style=\"width:427px;height:401px;\" version=\"1.1\" viewBox=\"0 0 427 401\" width=\"427px\" zoomAndPan=\"magnify\"><defs/><g><!--MD5=[fbc87193dbaf4d95561dea2c320d4a47]\n",
       "cluster E1--><a href=\"psysml:54c28c65-c036-409b-a9ca-8f60ef8eadfb\" target=\"_top\" title=\"psysml:54c28c65-c036-409b-a9ca-8f60ef8eadfb\" xlink:actuate=\"onRequest\" xlink:href=\"psysml:54c28c65-c036-409b-a9ca-8f60ef8eadfb\" xlink:show=\"new\" xlink:title=\"psysml:54c28c65-c036-409b-a9ca-8f60ef8eadfb\" xlink:type=\"simple\"><polygon fill=\"#FFFFFF\" points=\"16,6,116,6,123,28.2969,405,28.2969,405,389,16,389,16,6\" style=\"stroke: #000000; stroke-width: 1.5;\"/><line style=\"stroke: #000000; stroke-width: 1.5;\" x1=\"16\" x2=\"123\" y1=\"28.2969\" y2=\"28.2969\"/><text fill=\"#000000\" font-family=\"sans-serif\" font-size=\"14\" font-weight=\"bold\" lengthAdjust=\"spacingAndGlyphs\" textLength=\"94\" x=\"20\" y=\"20.9951\">VariabilityTest</text></a><!--MD5=[b4997ac47864f28c2f74865a473b2911]\n",
       "class E2--><a href=\"psysml:82cb16a2-9eb2-4cce-bbbe-e1592c7acc8b\" target=\"_top\" title=\"psysml:82cb16a2-9eb2-4cce-bbbe-e1592c7acc8b\" xlink:actuate=\"onRequest\" xlink:href=\"psysml:82cb16a2-9eb2-4cce-bbbe-e1592c7acc8b\" xlink:show=\"new\" xlink:title=\"psysml:82cb16a2-9eb2-4cce-bbbe-e1592c7acc8b\" xlink:type=\"simple\"><rect fill=\"#FFFFFF\" height=\"75.5469\" id=\"E2\" style=\"stroke: #383838; stroke-width: 1.5;\" width=\"70\" x=\"207\" y=\"291\"/><text fill=\"#000000\" font-family=\"sans-serif\" font-size=\"12\" font-style=\"italic\" lengthAdjust=\"spacingAndGlyphs\" textLength=\"68\" x=\"208\" y=\"307.1387\">«part  def»</text><text fill=\"#000000\" font-family=\"sans-serif\" font-size=\"12\" lengthAdjust=\"spacingAndGlyphs\" textLength=\"8\" x=\"238\" y=\"321.1074\">P</text><line style=\"stroke: #383838; stroke-width: 1.5;\" x1=\"208\" x2=\"276\" y1=\"328.9375\" y2=\"328.9375\"/><text fill=\"#000000\" font-family=\"sans-serif\" font-size=\"11\" lengthAdjust=\"spacingAndGlyphs\" textLength=\"7\" x=\"213\" y=\"359.9526\">a</text><line style=\"stroke: #383838; stroke-width: 1.0;\" x1=\"208\" x2=\"214.5\" y1=\"343.3398\" y2=\"343.3398\"/><text fill=\"#000000\" font-family=\"sans-serif\" font-size=\"11\" lengthAdjust=\"spacingAndGlyphs\" textLength=\"55\" x=\"214.5\" y=\"346.6479\">attributes</text><line style=\"stroke: #383838; stroke-width: 1.0;\" x1=\"269.5\" x2=\"276\" y1=\"343.3398\" y2=\"343.3398\"/></a><!--MD5=[09b614a08d8cba4a07c9adeb5e0fee81]\n",
       "class E3--><a href=\"psysml:2ef5dada-a649-4c80-bc3f-904ca5914f5d\" target=\"_top\" title=\"psysml:2ef5dada-a649-4c80-bc3f-904ca5914f5d\" xlink:actuate=\"onRequest\" xlink:href=\"psysml:2ef5dada-a649-4c80-bc3f-904ca5914f5d\" xlink:show=\"new\" xlink:title=\"psysml:2ef5dada-a649-4c80-bc3f-904ca5914f5d\" xlink:type=\"simple\"><rect fill=\"#FFFFFF\" height=\"45.9375\" id=\"E3\" style=\"stroke: #383838; stroke-width: 1.5;\" width=\"70\" x=\"137\" y=\"155\"/><text fill=\"#000000\" font-family=\"sans-serif\" font-size=\"12\" font-style=\"italic\" lengthAdjust=\"spacingAndGlyphs\" textLength=\"68\" x=\"138\" y=\"171.1387\">«part  def»</text><text fill=\"#000000\" font-family=\"sans-serif\" font-size=\"12\" lengthAdjust=\"spacingAndGlyphs\" textLength=\"9\" x=\"167.5\" y=\"185.1074\">Q</text><line style=\"stroke: #383838; stroke-width: 1.5;\" x1=\"138\" x2=\"206\" y1=\"192.9375\" y2=\"192.9375\"/></a><!--MD5=[ebbe1d658d1005bcc118a6aa81145e00]\n",
       "class E4--><a href=\"psysml:45188152-89ae-47db-8fae-185a328aceea\" target=\"_top\" title=\"psysml:45188152-89ae-47db-8fae-185a328aceea\" xlink:actuate=\"onRequest\" xlink:href=\"psysml:45188152-89ae-47db-8fae-185a328aceea\" xlink:show=\"new\" xlink:title=\"psysml:45188152-89ae-47db-8fae-185a328aceea\" xlink:type=\"simple\"><rect fill=\"#FFFFFF\" height=\"45.9375\" id=\"E4\" style=\"stroke: #383838; stroke-width: 1.5;\" width=\"99\" x=\"258.5\" y=\"41\"/><text fill=\"#000000\" font-family=\"sans-serif\" font-size=\"12\" font-style=\"italic\" lengthAdjust=\"spacingAndGlyphs\" textLength=\"97\" x=\"259.5\" y=\"57.1387\">«attribute  def»</text><text fill=\"#000000\" font-family=\"sans-serif\" font-size=\"12\" lengthAdjust=\"spacingAndGlyphs\" textLength=\"8\" x=\"304\" y=\"71.1074\">B</text><line style=\"stroke: #383838; stroke-width: 1.5;\" x1=\"259.5\" x2=\"356.5\" y1=\"78.9375\" y2=\"78.9375\"/></a><!--MD5=[270fce915f116d4de14055a7c1d9a0f3]\n",
       "class E5--><a href=\"psysml:e8a966fa-6247-410c-94c4-6750afcc6da8\" target=\"_top\" title=\"psysml:e8a966fa-6247-410c-94c4-6750afcc6da8\" xlink:actuate=\"onRequest\" xlink:href=\"psysml:e8a966fa-6247-410c-94c4-6750afcc6da8\" xlink:show=\"new\" xlink:title=\"psysml:e8a966fa-6247-410c-94c4-6750afcc6da8\" xlink:type=\"simple\"><rect fill=\"#FFFFFF\" height=\"45.9375\" id=\"E5\" style=\"stroke: #383838; stroke-width: 1.5;\" width=\"70\" x=\"319\" y=\"155\"/><text fill=\"#000000\" font-family=\"sans-serif\" font-size=\"12\" font-style=\"italic\" lengthAdjust=\"spacingAndGlyphs\" textLength=\"68\" x=\"320\" y=\"171.1387\">«part  def»</text><text fill=\"#000000\" font-family=\"sans-serif\" font-size=\"12\" font-style=\"italic\" lengthAdjust=\"spacingAndGlyphs\" textLength=\"8\" x=\"350\" y=\"185.1074\">V</text><line style=\"stroke: #383838; stroke-width: 1.5;\" x1=\"320\" x2=\"388\" y1=\"192.9375\" y2=\"192.9375\"/></a><!--MD5=[60a26617385b1d2d0262a64233df1f8d]\n",
       "class E6--><a href=\"psysml:10060237-19c5-40dc-a73e-8cb7e4953e81\" target=\"_top\" title=\"psysml:10060237-19c5-40dc-a73e-8cb7e4953e81\" xlink:actuate=\"onRequest\" xlink:href=\"psysml:10060237-19c5-40dc-a73e-8cb7e4953e81\" xlink:show=\"new\" xlink:title=\"psysml:10060237-19c5-40dc-a73e-8cb7e4953e81\" xlink:type=\"simple\"><rect fill=\"#FFFFFF\" height=\"88.3516\" id=\"E6\" rx=\"10\" ry=\"10\" style=\"stroke: #383838; stroke-width: 1.5;\" width=\"63\" x=\"312.5\" y=\"285\"/><text fill=\"#000000\" font-family=\"sans-serif\" font-size=\"12\" font-style=\"italic\" lengthAdjust=\"spacingAndGlyphs\" textLength=\"40\" x=\"324\" y=\"301.1387\">«part»</text><text fill=\"#000000\" font-family=\"sans-serif\" font-size=\"12\" lengthAdjust=\"spacingAndGlyphs\" textLength=\"23\" x=\"330.5\" y=\"315.1074\">x: Q</text><line style=\"stroke: #383838; stroke-width: 1.5;\" x1=\"313.5\" x2=\"374.5\" y1=\"322.9375\" y2=\"322.9375\"/><text fill=\"#000000\" font-family=\"sans-serif\" font-size=\"11\" lengthAdjust=\"spacingAndGlyphs\" textLength=\"23\" x=\"318.5\" y=\"353.9526\">b: B</text><text fill=\"#000000\" font-family=\"sans-serif\" font-size=\"11\" font-style=\"italic\" lengthAdjust=\"spacingAndGlyphs\" textLength=\"44\" x=\"318.5\" y=\"366.7573\">:&gt;&gt;P::a</text><line style=\"stroke: #383838; stroke-width: 1.0;\" x1=\"313.5\" x2=\"316.5\" y1=\"337.3398\" y2=\"337.3398\"/><text fill=\"#000000\" font-family=\"sans-serif\" font-size=\"11\" lengthAdjust=\"spacingAndGlyphs\" textLength=\"55\" x=\"316.5\" y=\"340.6479\">attributes</text><line style=\"stroke: #383838; stroke-width: 1.0;\" x1=\"371.5\" x2=\"374.5\" y1=\"337.3398\" y2=\"337.3398\"/></a><!--MD5=[2156ba9850f5573cc1fc38a6a4b2f02b]\n",
       "class E7--><a href=\"psysml:070ce293-3e12-454f-ad5b-be257c39d672\" target=\"_top\" title=\"psysml:070ce293-3e12-454f-ad5b-be257c39d672\" xlink:actuate=\"onRequest\" xlink:href=\"psysml:070ce293-3e12-454f-ad5b-be257c39d672\" xlink:show=\"new\" xlink:title=\"psysml:070ce293-3e12-454f-ad5b-be257c39d672\" xlink:type=\"simple\"><rect fill=\"#FFFFFF\" height=\"45.9375\" id=\"E7\" rx=\"10\" ry=\"10\" style=\"stroke: #383838; stroke-width: 1.5;\" width=\"42\" x=\"151\" y=\"41\"/><text fill=\"#000000\" font-family=\"sans-serif\" font-size=\"12\" font-style=\"italic\" lengthAdjust=\"spacingAndGlyphs\" textLength=\"40\" x=\"152\" y=\"57.1387\">«part»</text><text fill=\"#000000\" font-family=\"sans-serif\" font-size=\"12\" lengthAdjust=\"spacingAndGlyphs\" textLength=\"25\" x=\"157.5\" y=\"71.1074\">q: Q</text><line style=\"stroke: #383838; stroke-width: 1.5;\" x1=\"152\" x2=\"192\" y1=\"78.9375\" y2=\"78.9375\"/></a><!--MD5=[b9389687b975829384b498ac4b7476b2]\n",
       "class E8--><a href=\"psysml:3367482b-ff59-4bbe-a9dc-fe1b4a2ad697\" target=\"_top\" title=\"psysml:3367482b-ff59-4bbe-a9dc-fe1b4a2ad697\" xlink:actuate=\"onRequest\" xlink:href=\"psysml:3367482b-ff59-4bbe-a9dc-fe1b4a2ad697\" xlink:show=\"new\" xlink:title=\"psysml:3367482b-ff59-4bbe-a9dc-fe1b4a2ad697\" xlink:type=\"simple\"><rect fill=\"#FFFFFF\" height=\"59.9063\" id=\"E8\" rx=\"10\" ry=\"10\" style=\"stroke: #383838; stroke-width: 1.5;\" width=\"70\" x=\"32\" y=\"148\"/><text fill=\"#000000\" font-family=\"sans-serif\" font-size=\"12\" font-style=\"italic\" lengthAdjust=\"spacingAndGlyphs\" textLength=\"68\" x=\"33\" y=\"164.1387\">«variation»</text><text fill=\"#000000\" font-family=\"sans-serif\" font-size=\"12\" font-style=\"italic\" lengthAdjust=\"spacingAndGlyphs\" textLength=\"40\" x=\"47\" y=\"178.1074\">«part»</text><text fill=\"#000000\" font-family=\"sans-serif\" font-size=\"12\" font-style=\"italic\" lengthAdjust=\"spacingAndGlyphs\" textLength=\"6\" x=\"54\" y=\"192.0762\">v</text><text fill=\"#000000\" font-family=\"sans-serif\" font-size=\"12\" lengthAdjust=\"spacingAndGlyphs\" textLength=\"16\" x=\"60\" y=\"192.0762\">: P</text><line style=\"stroke: #383838; stroke-width: 1.5;\" x1=\"33\" x2=\"101\" y1=\"199.9063\" y2=\"199.9063\"/></a><!--MD5=[fd4143e9d270a159db93a4ea2a975926]\n",
       "class E9--><a href=\"psysml:80fa5ea3-437e-4eec-9e3d-5d2e24e12c28\" target=\"_top\" title=\"psysml:80fa5ea3-437e-4eec-9e3d-5d2e24e12c28\" xlink:actuate=\"onRequest\" xlink:href=\"psysml:80fa5ea3-437e-4eec-9e3d-5d2e24e12c28\" xlink:show=\"new\" xlink:title=\"psysml:80fa5ea3-437e-4eec-9e3d-5d2e24e12c28\" xlink:type=\"simple\"><rect fill=\"#FFFFFF\" height=\"88.3516\" id=\"E9\" rx=\"10\" ry=\"10\" style=\"stroke: #383838; stroke-width: 1.5;\" width=\"139\" x=\"32.5\" y=\"285\"/><text fill=\"#000000\" font-family=\"sans-serif\" font-size=\"12\" font-style=\"italic\" lengthAdjust=\"spacingAndGlyphs\" textLength=\"75\" x=\"64.5\" y=\"301.1387\">«reference»</text><text fill=\"#000000\" font-family=\"sans-serif\" font-size=\"12\" lengthAdjust=\"spacingAndGlyphs\" textLength=\"133\" x=\"35.5\" y=\"315.1074\">q :&gt; VariabilityTest::q</text><line style=\"stroke: #383838; stroke-width: 1.5;\" x1=\"33.5\" x2=\"170.5\" y1=\"322.9375\" y2=\"322.9375\"/><text fill=\"#000000\" font-family=\"sans-serif\" font-size=\"11\" lengthAdjust=\"spacingAndGlyphs\" textLength=\"23\" x=\"38.5\" y=\"353.9526\">b: B</text><text fill=\"#000000\" font-family=\"sans-serif\" font-size=\"11\" font-style=\"italic\" lengthAdjust=\"spacingAndGlyphs\" textLength=\"44\" x=\"38.5\" y=\"366.7573\">:&gt;&gt;P::a</text><line style=\"stroke: #383838; stroke-width: 1.0;\" x1=\"33.5\" x2=\"74.5\" y1=\"337.3398\" y2=\"337.3398\"/><text fill=\"#000000\" font-family=\"sans-serif\" font-size=\"11\" lengthAdjust=\"spacingAndGlyphs\" textLength=\"55\" x=\"74.5\" y=\"340.6479\">attributes</text><line style=\"stroke: #383838; stroke-width: 1.0;\" x1=\"129.5\" x2=\"170.5\" y1=\"337.3398\" y2=\"337.3398\"/></a><!--MD5=[96f4274e9e20536e775497830990834d]\n",
       "class E10--><a href=\"psysml:48eaa747-84b8-4879-8d6b-33c104c23f89\" target=\"_top\" title=\"psysml:48eaa747-84b8-4879-8d6b-33c104c23f89\" xlink:actuate=\"onRequest\" xlink:href=\"psysml:48eaa747-84b8-4879-8d6b-33c104c23f89\" xlink:show=\"new\" xlink:title=\"psysml:48eaa747-84b8-4879-8d6b-33c104c23f89\" xlink:type=\"simple\"><rect fill=\"#FFFFFF\" height=\"45.9375\" id=\"E10\" rx=\"10\" ry=\"10\" style=\"stroke: #383838; stroke-width: 1.5;\" width=\"42\" x=\"242\" y=\"155\"/><text fill=\"#000000\" font-family=\"sans-serif\" font-size=\"12\" font-style=\"italic\" lengthAdjust=\"spacingAndGlyphs\" textLength=\"40\" x=\"243\" y=\"171.1387\">«part»</text><text fill=\"#000000\" font-family=\"sans-serif\" font-size=\"12\" lengthAdjust=\"spacingAndGlyphs\" textLength=\"22\" x=\"250\" y=\"185.1074\">y: P</text><line style=\"stroke: #383838; stroke-width: 1.5;\" x1=\"243\" x2=\"283\" y1=\"192.9375\" y2=\"192.9375\"/></a><!--MD5=[05d275557350bfb9b23a4ef7222b4c39]\n",
       "link E3 to E2--><a href=\"psysml:8fca0815-a461-4953-83e8-63ed8c86de29\" target=\"_top\" title=\"psysml:8fca0815-a461-4953-83e8-63ed8c86de29\" xlink:actuate=\"onRequest\" xlink:href=\"psysml:8fca0815-a461-4953-83e8-63ed8c86de29\" xlink:show=\"new\" xlink:title=\"psysml:8fca0815-a461-4953-83e8-63ed8c86de29\" xlink:type=\"simple\"><path d=\"M182.48,201.31 C191.32,220.13 204.37,247.89 215.99,272.64 \" fill=\"none\" id=\"E3-&gt;E2\" style=\"stroke: #383838; stroke-width: 1.0;\"/><polygon fill=\"none\" points=\"222.34,269.69,224.51,290.77,209.67,275.64,222.34,269.69\" style=\"stroke: #383838; stroke-width: 1.0;\"/></a><!--MD5=[15ebcb19ae302d9b601edb458606d402]\n",
       "link E5 to E2--><a href=\"psysml:80d735d5-abd9-4df4-b941-a11b60e81c18\" target=\"_top\" title=\"psysml:80d735d5-abd9-4df4-b941-a11b60e81c18\" xlink:actuate=\"onRequest\" xlink:href=\"psysml:80d735d5-abd9-4df4-b941-a11b60e81c18\" xlink:show=\"new\" xlink:title=\"psysml:80d735d5-abd9-4df4-b941-a11b60e81c18\" xlink:type=\"simple\"><path d=\"M337.23,201.31 C322.73,220.59 301.19,249.26 282.25,274.45 \" fill=\"none\" id=\"E5-&gt;E2\" style=\"stroke: #383838; stroke-width: 1.0;\"/><polygon fill=\"none\" points=\"287.6,278.99,269.99,290.77,276.41,270.57,287.6,278.99\" style=\"stroke: #383838; stroke-width: 1.0;\"/></a><!--MD5=[9120cf2e5df3bff93db8f754bbbc09b4]\n",
       "link E5 to E6--><a href=\"psysml:bbf94ce0-8140-4269-b805-c97e9315d509\" target=\"_top\" title=\"psysml:bbf94ce0-8140-4269-b805-c97e9315d509\" xlink:actuate=\"onRequest\" xlink:href=\"psysml:bbf94ce0-8140-4269-b805-c97e9315d509\" xlink:show=\"new\" xlink:title=\"psysml:bbf94ce0-8140-4269-b805-c97e9315d509\" xlink:type=\"simple\"><path d=\"M351.82,211.55 C350.58,230.03 348.99,253.61 347.58,274.71 \" fill=\"none\" id=\"E5-E6\" style=\"stroke: #383838; stroke-width: 1.0;\"/><polygon fill=\"#383838\" points=\"346.9,284.84,350.4299,277.0593,344.4435,276.6568,346.9,284.84\" style=\"stroke: #383838; stroke-width: 1.0;\"/><path d=\"M343.8553,203.8139 A9,9 0 0 0 360.7317 204.9486\" fill=\"none\" style=\"stroke: #383838; stroke-width: 1.5;\"/><text fill=\"#000000\" font-family=\"sans-serif\" font-size=\"13\" lengthAdjust=\"spacingAndGlyphs\" textLength=\"60\" x=\"350\" y=\"251.0669\">«variant»</text></a><!--MD5=[14ccda38c055a5c0da953d572bc50960]\n",
       "link E7 to E3--><a href=\"psysml:1a218306-3ccb-4021-8143-a6b7222dd125\" target=\"_top\" title=\"psysml:1a218306-3ccb-4021-8143-a6b7222dd125\" xlink:actuate=\"onRequest\" xlink:href=\"psysml:1a218306-3ccb-4021-8143-a6b7222dd125\" xlink:show=\"new\" xlink:title=\"psysml:1a218306-3ccb-4021-8143-a6b7222dd125\" xlink:type=\"simple\"><path d=\"M172,87.13 C172,100.7 172,118.53 172,134.73 \" fill=\"none\" id=\"E7-&gt;E3\" style=\"stroke: #383838; stroke-width: 1.0;\"/><polygon fill=\"#FFFFFF\" points=\"172,154.92,165,135.92,179,135.92,172,154.92\" style=\"stroke: #383838; stroke-width: 1.0;\"/><ellipse cx=\"167\" cy=\"130.22\" fill=\"#383838\" rx=\"2\" ry=\"2\" style=\"stroke: #383838; stroke-width: 1.0;\"/><ellipse cx=\"177\" cy=\"130.22\" fill=\"#383838\" rx=\"2\" ry=\"2\" style=\"stroke: #383838; stroke-width: 1.0;\"/></a><!--MD5=[f1f3f9f2fc535e6147756cb86a7f2e32]\n",
       "link E8 to E2--><a href=\"psysml:0a07ead6-b6a6-4f86-92cb-b01532aad754\" target=\"_top\" title=\"psysml:0a07ead6-b6a6-4f86-92cb-b01532aad754\" xlink:actuate=\"onRequest\" xlink:href=\"psysml:0a07ead6-b6a6-4f86-92cb-b01532aad754\" xlink:show=\"new\" xlink:title=\"psysml:0a07ead6-b6a6-4f86-92cb-b01532aad754\" xlink:type=\"simple\"><path d=\"M102.14,202.83 C126.28,219.2 154,238 154,238 C154,238 172.77,257.19 192.97,277.85 \" fill=\"none\" id=\"E8-&gt;E2\" style=\"stroke: #383838; stroke-width: 1.0;\"/><polygon fill=\"#FFFFFF\" points=\"206.97,292.17,188.6851,283.4716,198.6989,273.6879,206.97,292.17\" style=\"stroke: #383838; stroke-width: 1.0;\"/><ellipse cx=\"186.1322\" cy=\"277.9969\" fill=\"#383838\" rx=\"2\" ry=\"2\" style=\"stroke: #383838; stroke-width: 1.0;\"/><ellipse cx=\"193.285\" cy=\"271.0085\" fill=\"#383838\" rx=\"2\" ry=\"2\" style=\"stroke: #383838; stroke-width: 1.0;\"/></a><!--MD5=[ed10624c06dd9a4fa49ccf290e8b16a8]\n",
       "link E8 to E9--><a href=\"psysml:95cf767c-bf38-4d44-8a21-82e4671e1c7d\" target=\"_top\" title=\"psysml:95cf767c-bf38-4d44-8a21-82e4671e1c7d\" xlink:actuate=\"onRequest\" xlink:href=\"psysml:95cf767c-bf38-4d44-8a21-82e4671e1c7d\" xlink:show=\"new\" xlink:title=\"psysml:95cf767c-bf38-4d44-8a21-82e4671e1c7d\" xlink:type=\"simple\"><path d=\"M76.17,218.04 C80.26,235.44 85.14,256.2 89.55,274.98 \" fill=\"none\" id=\"E8-E9\" style=\"stroke: #383838; stroke-width: 1.0;\"/><polygon fill=\"#383838\" points=\"91.87,284.88,92.9607,276.4059,87.1198,277.7782,91.87,284.88\" style=\"stroke: #383838; stroke-width: 1.0;\"/><path d=\"M66.2994,213.0085 A9,9 0 0 0 82.7667 209.1452\" fill=\"none\" style=\"stroke: #383838; stroke-width: 1.5;\"/><text fill=\"#000000\" font-family=\"sans-serif\" font-size=\"13\" lengthAdjust=\"spacingAndGlyphs\" textLength=\"60\" x=\"85\" y=\"251.0669\">«variant»</text></a><!--MD5=[0f36bececdf0dff6e600d6f64214b0f1]\n",
       "link E10 to E2--><a href=\"psysml:6b6ac884-9cd9-45a3-8497-3c127dcfd472\" target=\"_top\" title=\"psysml:6b6ac884-9cd9-45a3-8497-3c127dcfd472\" xlink:actuate=\"onRequest\" xlink:href=\"psysml:6b6ac884-9cd9-45a3-8497-3c127dcfd472\" xlink:show=\"new\" xlink:title=\"psysml:6b6ac884-9cd9-45a3-8497-3c127dcfd472\" xlink:type=\"simple\"><path d=\"M259.86,201.31 C257.27,219.67 253.48,246.54 250.06,270.81 \" fill=\"none\" id=\"E10-&gt;E2\" style=\"stroke: #383838; stroke-width: 1.0;\"/><polygon fill=\"#FFFFFF\" points=\"247.25,290.77,242.9654,270.9801,256.8288,272.9305,247.25,290.77\" style=\"stroke: #383838; stroke-width: 1.0;\"/><ellipse cx=\"245.74\" cy=\"265.6143\" fill=\"#383838\" rx=\"2\" ry=\"2\" style=\"stroke: #383838; stroke-width: 1.0;\"/><ellipse cx=\"255.6425\" cy=\"267.0075\" fill=\"#383838\" rx=\"2\" ry=\"2\" style=\"stroke: #383838; stroke-width: 1.0;\"/></a><!--MD5=[3e043085504d5835693b7bae5ae6207f]\n",
       "@startuml\r\n",
       "skinparam linetype polyline\r\n",
       "skinparam monochrome true\r\n",
       "skinparam classbackgroundcolor white\r\n",
       "skinparam shadowing false\r\n",
       "skinparam wrapWidth 300\r\n",
       "hide circle\r\n",
       "\r\n",
       "package \"VariabilityTest\" as E1  [[psysml:54c28c65-c036-409b-a9ca-8f60ef8eadfb ]]  {\r\n",
       "comp def \"P\" as E2  <<(T,blue) part  def>> [[psysml:82cb16a2-9eb2-4cce-bbbe-e1592c7acc8b ]] {\r\n",
       "- - attributes - -\r\n",
       "a\r\n",
       "}\r\n",
       "comp def \"Q\" as E3  <<(T,blue) part  def>> [[psysml:2ef5dada-a649-4c80-bc3f-904ca5914f5d ]] {\r\n",
       "}\r\n",
       "comp def \"B\" as E4  <<(T,blue) attribute  def>> [[psysml:45188152-89ae-47db-8fae-185a328aceea ]] {\r\n",
       "}\r\n",
       "comp def \"<i>V</i>\" as E5  <<(T,blue) part  def>> [[psysml:e8a966fa-6247-410c-94c4-6750afcc6da8 ]] {\r\n",
       "}\r\n",
       "comp usage \"x: Q \" as E6  <<(T,blue) part>> [[psysml:10060237-19c5-40dc-a73e-8cb7e4953e81 ]] {\r\n",
       "- - attributes - -\r\n",
       "b: B\\n//:>>P::a// \r\n",
       "}\r\n",
       "comp usage \"q: Q \" as E7  <<(T,blue) part>> [[psysml:070ce293-3e12-454f-ad5b-be257c39d672 ]] {\r\n",
       "}\r\n",
       "comp usage \"<i>v</i>: P \" as E8  <<variation>>\\n <<(T,blue) part>> [[psysml:3367482b-ff59-4bbe-a9dc-fe1b4a2ad697 ]] {\r\n",
       "}\r\n",
       "comp usage \"q :> VariabilityTest::q\" as E9  <<(T,blue) reference>> [[psysml:80fa5ea3-437e-4eec-9e3d-5d2e24e12c28 ]] {\r\n",
       "- - attributes - -\r\n",
       "b: B\\n//:>>P::a// \r\n",
       "}\r\n",
       "comp usage \"y: P \" as E10  <<(T,blue) part>> [[psysml:48eaa747-84b8-4879-8d6b-33c104c23f89 ]] {\r\n",
       "}\r\n",
       "}\r\n",
       "E3 - -|> E2 [[psysml:8fca0815-a461-4953-83e8-63ed8c86de29 ]] \r\n",
       "E5 - -|> E2 [[psysml:80d735d5-abd9-4df4-b941-a11b60e81c18 ]] \r\n",
       "E5 )- ->> E6 [[psysml:bbf94ce0-8140-4269-b805-c97e9315d509 ]] : <<variant>>\r\n",
       "E7 - -:|> E3 [[psysml:1a218306-3ccb-4021-8143-a6b7222dd125 ]] \r\n",
       "E8 - -:|> E2 [[psysml:0a07ead6-b6a6-4f86-92cb-b01532aad754 ]] \r\n",
       "E8 )- ->> E9 [[psysml:95cf767c-bf38-4d44-8a21-82e4671e1c7d ]] : <<variant>>\r\n",
       "E10 - -:|> E2 [[psysml:6b6ac884-9cd9-45a3-8497-3c127dcfd472 ]] \r\n",
       "@enduml\r\n",
       "\n",
       "PlantUML version 1.2020.13(Sat Jun 13 12:26:38 UTC 2020)\n",
       "(EPL source distribution)\n",
       "Java Runtime: OpenJDK Runtime Environment\n",
       "JVM: OpenJDK 64-Bit Server VM\n",
       "Default Encoding: UTF-8\n",
       "Language: en\n",
       "Country: null\n",
       "--></g></svg>"
      ]
     },
     "execution_count": 10,
     "metadata": {},
     "output_type": "execute_result"
    }
   ],
   "source": [
    "%viz --style=\"POLYLINE\" --view=\"Tree\" \"VariabilityTest\""
   ]
  },
  {
   "cell_type": "code",
   "execution_count": 11,
   "id": "7ab3fddd",
   "metadata": {
    "execution": {
     "iopub.execute_input": "2021-10-25T08:21:41.846364Z",
     "iopub.status.busy": "2021-10-25T08:21:41.845895Z",
     "iopub.status.idle": "2021-10-25T08:21:41.851465Z",
     "shell.execute_reply": "2021-10-25T08:21:41.851102Z"
    }
   },
   "outputs": [
    {
     "data": {
      "image/svg+xml": [
       "<?xml version=\"1.0\" encoding=\"UTF-8\" standalone=\"no\"?><svg xmlns=\"http://www.w3.org/2000/svg\" xmlns:xlink=\"http://www.w3.org/1999/xlink\" contentScriptType=\"application/ecmascript\" contentStyleType=\"text/css\" height=\"12px\" preserveAspectRatio=\"none\" style=\"width:12px;height:12px;\" version=\"1.1\" viewBox=\"0 0 12 12\" width=\"12px\" zoomAndPan=\"magnify\"><defs/><g><!--MD5=[896ac0e7a515d8dd7765a661cb4ee08b]\n",
       "@startuml\r\n",
       "skinparam linetype polyline\r\n",
       "skinparam monochrome true\r\n",
       "skinparam classbackgroundcolor white\r\n",
       "skinparam shadowing false\r\n",
       "skinparam wrapWidth 300\r\n",
       "hide circle\r\n",
       "\r\n",
       "@enduml\r\n",
       "\n",
       "PlantUML version 1.2020.13(Sat Jun 13 12:26:38 UTC 2020)\n",
       "(EPL source distribution)\n",
       "Java Runtime: OpenJDK Runtime Environment\n",
       "JVM: OpenJDK 64-Bit Server VM\n",
       "Default Encoding: UTF-8\n",
       "Language: en\n",
       "Country: null\n",
       "--></g></svg>"
      ]
     },
     "execution_count": 11,
     "metadata": {},
     "output_type": "execute_result"
    }
   ],
   "source": [
    "%viz --style=\"POLYLINE\" --view=\"State\" \"VariabilityTest\""
   ]
  },
  {
   "cell_type": "code",
   "execution_count": 12,
   "id": "2943bf53",
   "metadata": {
    "execution": {
     "iopub.execute_input": "2021-10-25T08:21:41.900934Z",
     "iopub.status.busy": "2021-10-25T08:21:41.900517Z",
     "iopub.status.idle": "2021-10-25T08:21:41.976520Z",
     "shell.execute_reply": "2021-10-25T08:21:41.976152Z"
    }
   },
   "outputs": [
    {
     "data": {
      "image/svg+xml": [
       "<?xml version=\"1.0\" encoding=\"UTF-8\" standalone=\"no\"?><svg xmlns=\"http://www.w3.org/2000/svg\" xmlns:xlink=\"http://www.w3.org/1999/xlink\" contentScriptType=\"application/ecmascript\" contentStyleType=\"text/css\" height=\"427px\" preserveAspectRatio=\"none\" style=\"width:853px;height:427px;\" version=\"1.1\" viewBox=\"0 0 853 427\" width=\"853px\" zoomAndPan=\"magnify\"><defs/><g><!--MD5=[fbc87193dbaf4d95561dea2c320d4a47]\n",
       "cluster E1--><a href=\"psysml:54c28c65-c036-409b-a9ca-8f60ef8eadfb\" target=\"_top\" title=\"psysml:54c28c65-c036-409b-a9ca-8f60ef8eadfb\" xlink:actuate=\"onRequest\" xlink:href=\"psysml:54c28c65-c036-409b-a9ca-8f60ef8eadfb\" xlink:show=\"new\" xlink:title=\"psysml:54c28c65-c036-409b-a9ca-8f60ef8eadfb\" xlink:type=\"simple\"><polygon fill=\"#FFFFFF\" points=\"16,6,116,6,123,28.2969,831,28.2969,831,415,16,415,16,6\" style=\"stroke: #000000; stroke-width: 1.5;\"/><line style=\"stroke: #000000; stroke-width: 1.5;\" x1=\"16\" x2=\"123\" y1=\"28.2969\" y2=\"28.2969\"/><text fill=\"#000000\" font-family=\"sans-serif\" font-size=\"14\" font-weight=\"bold\" lengthAdjust=\"spacingAndGlyphs\" textLength=\"94\" x=\"20\" y=\"20.9951\">VariabilityTest</text></a><!--MD5=[e4f7fae6ed58524ba242bb0b0d3be6b7]\n",
       "cluster E2--><a href=\"psysml:82cb16a2-9eb2-4cce-bbbe-e1592c7acc8b\" target=\"_top\" title=\"psysml:82cb16a2-9eb2-4cce-bbbe-e1592c7acc8b\" xlink:actuate=\"onRequest\" xlink:href=\"psysml:82cb16a2-9eb2-4cce-bbbe-e1592c7acc8b\" xlink:show=\"new\" xlink:title=\"psysml:82cb16a2-9eb2-4cce-bbbe-e1592c7acc8b\" xlink:type=\"simple\"><rect fill=\"#FFFFFF\" height=\"129\" id=\"E2\" style=\"stroke: #383838; stroke-width: 1.5;\" width=\"139\" x=\"460\" y=\"254\"/><rect fill=\"#F8F8F8\" height=\"37.9375\" style=\"stroke: #383838; stroke-width: 1.5;\" width=\"139\" x=\"460\" y=\"254\"/><text fill=\"#000000\" font-family=\"sans-serif\" font-size=\"12\" font-style=\"italic\" lengthAdjust=\"spacingAndGlyphs\" textLength=\"68\" x=\"495.5\" y=\"270.1387\">«part  def»</text><text fill=\"#000000\" font-family=\"sans-serif\" font-size=\"12\" lengthAdjust=\"spacingAndGlyphs\" textLength=\"8\" x=\"525.5\" y=\"284.1074\">P</text></a><!--MD5=[14e3b0961a2654348d326746436168a1]\n",
       "cluster E6--><a href=\"psysml:e8a966fa-6247-410c-94c4-6750afcc6da8\" target=\"_top\" title=\"psysml:e8a966fa-6247-410c-94c4-6750afcc6da8\" xlink:actuate=\"onRequest\" xlink:href=\"psysml:e8a966fa-6247-410c-94c4-6750afcc6da8\" xlink:show=\"new\" xlink:title=\"psysml:e8a966fa-6247-410c-94c4-6750afcc6da8\" xlink:type=\"simple\"><rect fill=\"#FFFFFF\" height=\"157\" id=\"E6\" style=\"stroke: #383838; stroke-width: 1.5;\" width=\"131\" x=\"668\" y=\"57\"/><rect fill=\"#F8F8F8\" height=\"37.9375\" style=\"stroke: #383838; stroke-width: 1.5;\" width=\"131\" x=\"668\" y=\"57\"/><text fill=\"#000000\" font-family=\"sans-serif\" font-size=\"12\" font-style=\"italic\" lengthAdjust=\"spacingAndGlyphs\" textLength=\"68\" x=\"699.5\" y=\"73.1387\">«part  def»</text><text fill=\"#000000\" font-family=\"sans-serif\" font-size=\"12\" font-style=\"italic\" lengthAdjust=\"spacingAndGlyphs\" textLength=\"8\" x=\"729.5\" y=\"87.1074\">V</text></a><!--MD5=[7f149f147074ac12df2cb0a7728a5fb0]\n",
       "cluster E9--><a href=\"psysml:3367482b-ff59-4bbe-a9dc-fe1b4a2ad697\" target=\"_top\" title=\"psysml:3367482b-ff59-4bbe-a9dc-fe1b4a2ad697\" xlink:actuate=\"onRequest\" xlink:href=\"psysml:3367482b-ff59-4bbe-a9dc-fe1b4a2ad697\" xlink:show=\"new\" xlink:title=\"psysml:3367482b-ff59-4bbe-a9dc-fe1b4a2ad697\" xlink:type=\"simple\"><rect fill=\"#FFFFFF\" height=\"139\" id=\"E9\" rx=\"10\" ry=\"10\" style=\"stroke: #383838; stroke-width: 1.5;\" width=\"172\" x=\"464\" y=\"74\"/><rect fill=\"#F8F8F8\" height=\"23.9688\" rx=\"10\" ry=\"10\" style=\"stroke: #F8F8F8; stroke-width: 1.5;\" width=\"172\" x=\"464\" y=\"74\"/><rect fill=\"#F8F8F8\" height=\"10\" style=\"stroke: #F8F8F8; stroke-width: 1.5;\" width=\"172\" x=\"464\" y=\"87.9688\"/><rect fill=\"none\" height=\"139\" id=\"E9\" rx=\"10\" ry=\"10\" style=\"stroke: #383838; stroke-width: 1.5;\" width=\"172\" x=\"464\" y=\"74\"/><text fill=\"#000000\" font-family=\"sans-serif\" font-size=\"12\" lengthAdjust=\"spacingAndGlyphs\" textLength=\"22\" x=\"539\" y=\"90.1387\">v: P</text><line style=\"stroke: #383838; stroke-width: 1.0;\" x1=\"464\" x2=\"636\" y1=\"97.9688\" y2=\"97.9688\"/></a><g id=\"E1.E5\"><a href=\"psysml:45188152-89ae-47db-8fae-185a328aceea\" target=\"_top\" title=\"psysml:45188152-89ae-47db-8fae-185a328aceea\" xlink:actuate=\"onRequest\" xlink:href=\"psysml:45188152-89ae-47db-8fae-185a328aceea\" xlink:show=\"new\" xlink:title=\"psysml:45188152-89ae-47db-8fae-185a328aceea\" xlink:type=\"simple\"><rect fill=\"#FFFFFF\" height=\"42.9375\" id=\"E5\" style=\"stroke: #383838; stroke-width: 1.5;\" width=\"104\" x=\"341\" y=\"131.5\"/><rect fill=\"#F8F8F8\" height=\"37.9375\" style=\"stroke: #383838; stroke-width: 1.5;\" width=\"104\" x=\"341\" y=\"131.5\"/><text fill=\"#000000\" font-family=\"sans-serif\" font-size=\"12\" font-style=\"italic\" lengthAdjust=\"spacingAndGlyphs\" textLength=\"97\" x=\"344.5\" y=\"147.6387\">«attribute  def»</text><text fill=\"#000000\" font-family=\"sans-serif\" font-size=\"12\" lengthAdjust=\"spacingAndGlyphs\" textLength=\"8\" x=\"389\" y=\"161.6074\">B</text></a></g><!--MD5=[09b614a08d8cba4a07c9adeb5e0fee81]\n",
       "class E3--><a href=\"psysml:b3756095-16bb-4cb1-b9cb-a9f1f269c560\" target=\"_top\" title=\"psysml:b3756095-16bb-4cb1-b9cb-a9f1f269c560\" xlink:actuate=\"onRequest\" xlink:href=\"psysml:b3756095-16bb-4cb1-b9cb-a9f1f269c560\" xlink:show=\"new\" xlink:title=\"psysml:b3756095-16bb-4cb1-b9cb-a9f1f269c560\" xlink:type=\"simple\"><rect fill=\"#FFFFFF\" height=\"45.9375\" id=\"E3\" rx=\"10\" ry=\"10\" style=\"stroke: #383838; stroke-width: 1.5;\" width=\"71\" x=\"503.5\" y=\"313\"/><text fill=\"#000000\" font-family=\"sans-serif\" font-size=\"12\" font-style=\"italic\" lengthAdjust=\"spacingAndGlyphs\" textLength=\"69\" x=\"504.5\" y=\"329.1387\">«attribute»</text><text fill=\"#000000\" font-family=\"sans-serif\" font-size=\"12\" lengthAdjust=\"spacingAndGlyphs\" textLength=\"8\" x=\"535\" y=\"343.1074\">a</text><line style=\"stroke: #383838; stroke-width: 1.5;\" x1=\"504.5\" x2=\"573.5\" y1=\"350.9375\" y2=\"350.9375\"/></a><g id=\"E1.E4\"><a href=\"psysml:2ef5dada-a649-4c80-bc3f-904ca5914f5d\" target=\"_top\" title=\"psysml:2ef5dada-a649-4c80-bc3f-904ca5914f5d\" xlink:actuate=\"onRequest\" xlink:href=\"psysml:2ef5dada-a649-4c80-bc3f-904ca5914f5d\" xlink:show=\"new\" xlink:title=\"psysml:2ef5dada-a649-4c80-bc3f-904ca5914f5d\" xlink:type=\"simple\"><rect fill=\"#FFFFFF\" height=\"42.9375\" id=\"E4\" style=\"stroke: #383838; stroke-width: 1.5;\" width=\"75\" x=\"230.5\" y=\"131.5\"/><rect fill=\"#F8F8F8\" height=\"37.9375\" style=\"stroke: #383838; stroke-width: 1.5;\" width=\"75\" x=\"230.5\" y=\"131.5\"/><text fill=\"#000000\" font-family=\"sans-serif\" font-size=\"12\" font-style=\"italic\" lengthAdjust=\"spacingAndGlyphs\" textLength=\"68\" x=\"234\" y=\"147.6387\">«part  def»</text><text fill=\"#000000\" font-family=\"sans-serif\" font-size=\"12\" lengthAdjust=\"spacingAndGlyphs\" textLength=\"9\" x=\"263.5\" y=\"161.6074\">Q</text></a></g><!--MD5=[2156ba9850f5573cc1fc38a6a4b2f02b]\n",
       "class E7--><a href=\"psysml:10060237-19c5-40dc-a73e-8cb7e4953e81\" target=\"_top\" title=\"psysml:10060237-19c5-40dc-a73e-8cb7e4953e81\" xlink:actuate=\"onRequest\" xlink:href=\"psysml:10060237-19c5-40dc-a73e-8cb7e4953e81\" xlink:show=\"new\" xlink:title=\"psysml:10060237-19c5-40dc-a73e-8cb7e4953e81\" xlink:type=\"simple\"><rect fill=\"#FFFFFF\" height=\"74.3828\" id=\"E7\" rx=\"10\" ry=\"10\" style=\"stroke: #383838; stroke-width: 1.5;\" width=\"63\" x=\"711.5\" y=\"116\"/><text fill=\"#000000\" font-family=\"sans-serif\" font-size=\"12\" lengthAdjust=\"spacingAndGlyphs\" textLength=\"23\" x=\"729.5\" y=\"132.1387\">x: Q</text><line style=\"stroke: #383838; stroke-width: 1.5;\" x1=\"712.5\" x2=\"773.5\" y1=\"139.9688\" y2=\"139.9688\"/><text fill=\"#000000\" font-family=\"sans-serif\" font-size=\"11\" lengthAdjust=\"spacingAndGlyphs\" textLength=\"23\" x=\"717.5\" y=\"170.9839\">b: B</text><text fill=\"#000000\" font-family=\"sans-serif\" font-size=\"11\" font-style=\"italic\" lengthAdjust=\"spacingAndGlyphs\" textLength=\"44\" x=\"717.5\" y=\"183.7886\">:&gt;&gt;P::a</text><line style=\"stroke: #383838; stroke-width: 1.0;\" x1=\"712.5\" x2=\"715.5\" y1=\"154.3711\" y2=\"154.3711\"/><text fill=\"#000000\" font-family=\"sans-serif\" font-size=\"11\" lengthAdjust=\"spacingAndGlyphs\" textLength=\"55\" x=\"715.5\" y=\"157.6792\">attributes</text><line style=\"stroke: #383838; stroke-width: 1.0;\" x1=\"770.5\" x2=\"773.5\" y1=\"154.3711\" y2=\"154.3711\"/></a><g id=\"E1.E8\"><a href=\"psysml:070ce293-3e12-454f-ad5b-be257c39d672\" target=\"_top\" title=\"psysml:070ce293-3e12-454f-ad5b-be257c39d672\" xlink:actuate=\"onRequest\" xlink:href=\"psysml:070ce293-3e12-454f-ad5b-be257c39d672\" xlink:show=\"new\" xlink:title=\"psysml:070ce293-3e12-454f-ad5b-be257c39d672\" xlink:type=\"simple\"><rect fill=\"#FFFFFF\" height=\"40\" id=\"E8\" rx=\"10\" ry=\"10\" style=\"stroke: #383838; stroke-width: 1.5;\" width=\"50\" x=\"145\" y=\"133\"/><rect fill=\"#F8F8F8\" height=\"23.9688\" rx=\"10\" ry=\"10\" style=\"stroke: #F8F8F8; stroke-width: 1.5;\" width=\"50\" x=\"145\" y=\"133\"/><rect fill=\"#F8F8F8\" height=\"10\" style=\"stroke: #F8F8F8; stroke-width: 1.5;\" width=\"50\" x=\"145\" y=\"146.9688\"/><rect fill=\"none\" height=\"40\" id=\"E8\" rx=\"10\" ry=\"10\" style=\"stroke: #383838; stroke-width: 1.5;\" width=\"50\" x=\"145\" y=\"133\"/><text fill=\"#000000\" font-family=\"sans-serif\" font-size=\"12\" lengthAdjust=\"spacingAndGlyphs\" textLength=\"25\" x=\"157.5\" y=\"149.1387\">q: Q</text></a></g><!--MD5=[96f4274e9e20536e775497830990834d]\n",
       "class E10--><a href=\"psysml:80fa5ea3-437e-4eec-9e3d-5d2e24e12c28\" target=\"_top\" title=\"psysml:80fa5ea3-437e-4eec-9e3d-5d2e24e12c28\" xlink:actuate=\"onRequest\" xlink:href=\"psysml:80fa5ea3-437e-4eec-9e3d-5d2e24e12c28\" xlink:show=\"new\" xlink:title=\"psysml:80fa5ea3-437e-4eec-9e3d-5d2e24e12c28\" xlink:type=\"simple\"><rect fill=\"#FFFFFF\" height=\"88.3516\" id=\"E10\" rx=\"10\" ry=\"10\" style=\"stroke: #383838; stroke-width: 1.5;\" width=\"139\" x=\"480.5\" y=\"109\"/><text fill=\"#000000\" font-family=\"sans-serif\" font-size=\"12\" font-style=\"italic\" lengthAdjust=\"spacingAndGlyphs\" textLength=\"75\" x=\"512.5\" y=\"125.1387\">«reference»</text><text fill=\"#000000\" font-family=\"sans-serif\" font-size=\"12\" lengthAdjust=\"spacingAndGlyphs\" textLength=\"133\" x=\"483.5\" y=\"139.1074\">q :&gt; VariabilityTest::q</text><line style=\"stroke: #383838; stroke-width: 1.5;\" x1=\"481.5\" x2=\"618.5\" y1=\"146.9375\" y2=\"146.9375\"/><text fill=\"#000000\" font-family=\"sans-serif\" font-size=\"11\" lengthAdjust=\"spacingAndGlyphs\" textLength=\"23\" x=\"486.5\" y=\"177.9526\">b: B</text><text fill=\"#000000\" font-family=\"sans-serif\" font-size=\"11\" font-style=\"italic\" lengthAdjust=\"spacingAndGlyphs\" textLength=\"44\" x=\"486.5\" y=\"190.7573\">:&gt;&gt;P::a</text><line style=\"stroke: #383838; stroke-width: 1.0;\" x1=\"481.5\" x2=\"522.5\" y1=\"161.3398\" y2=\"161.3398\"/><text fill=\"#000000\" font-family=\"sans-serif\" font-size=\"11\" lengthAdjust=\"spacingAndGlyphs\" textLength=\"55\" x=\"522.5\" y=\"164.6479\">attributes</text><line style=\"stroke: #383838; stroke-width: 1.0;\" x1=\"577.5\" x2=\"618.5\" y1=\"161.3398\" y2=\"161.3398\"/></a><g id=\"E1.E11\"><a href=\"psysml:48eaa747-84b8-4879-8d6b-33c104c23f89\" target=\"_top\" title=\"psysml:48eaa747-84b8-4879-8d6b-33c104c23f89\" xlink:actuate=\"onRequest\" xlink:href=\"psysml:48eaa747-84b8-4879-8d6b-33c104c23f89\" xlink:show=\"new\" xlink:title=\"psysml:48eaa747-84b8-4879-8d6b-33c104c23f89\" xlink:type=\"simple\"><rect fill=\"#FFFFFF\" height=\"40\" id=\"E11\" rx=\"10\" ry=\"10\" style=\"stroke: #383838; stroke-width: 1.5;\" width=\"77\" x=\"32.5\" y=\"133\"/><rect fill=\"#F8F8F8\" height=\"23.9688\" rx=\"10\" ry=\"10\" style=\"stroke: #F8F8F8; stroke-width: 1.5;\" width=\"77\" x=\"32.5\" y=\"133\"/><rect fill=\"#F8F8F8\" height=\"10\" style=\"stroke: #F8F8F8; stroke-width: 1.5;\" width=\"77\" x=\"32.5\" y=\"146.9688\"/><rect fill=\"none\" height=\"40\" id=\"E11\" rx=\"10\" ry=\"10\" style=\"stroke: #383838; stroke-width: 1.5;\" width=\"77\" x=\"32.5\" y=\"133\"/><text fill=\"#000000\" font-family=\"sans-serif\" font-size=\"12\" lengthAdjust=\"spacingAndGlyphs\" textLength=\"62\" x=\"38\" y=\"149.1387\">y: P= v::q;</text></a></g><!--MD5=[185131fc0dcab0a4505a2ebe144e961b]\n",
       "link E4 to E2--><a href=\"psysml:8fca0815-a461-4953-83e8-63ed8c86de29\" target=\"_top\" title=\"psysml:8fca0815-a461-4953-83e8-63ed8c86de29\" xlink:actuate=\"onRequest\" xlink:href=\"psysml:8fca0815-a461-4953-83e8-63ed8c86de29\" xlink:show=\"new\" xlink:title=\"psysml:8fca0815-a461-4953-83e8-63ed8c86de29\" xlink:type=\"simple\"><path d=\"M283.3,174.77 C299.88,197.27 324,230 324,230 C324,230 358.885,255.435 394.315,281.2675 C412.03,294.1838 429.8813,307.1994 443.5763,317.1847 C447,319.681 450.164,321.9879 453.0011,324.0566 C454.4197,325.0909 455.7566,326.0657 457.0033,326.9747 C457.6267,327.4292 458.2276,327.8673 458.8049,328.2883 C459.0935,328.4987 459.3763,328.7049 459.653,328.9067 \" fill=\"none\" id=\"E4-&gt;E2\" style=\"stroke: #383838; stroke-width: 1.0;\"/><polygon fill=\"#FFFFFF\" points=\"459.653,328.9067,448.4247,312.0566,440.1765,323.3689,459.653,328.9067\" style=\"stroke: #383838; stroke-width: 1.0;\"/></a><!--MD5=[2351f337d6de0f557b50152ba70847b5]\n",
       "link E6 to E2--><a href=\"psysml:80d735d5-abd9-4df4-b941-a11b60e81c18\" target=\"_top\" title=\"psysml:80d735d5-abd9-4df4-b941-a11b60e81c18\" xlink:actuate=\"onRequest\" xlink:href=\"psysml:80d735d5-abd9-4df4-b941-a11b60e81c18\" xlink:show=\"new\" xlink:title=\"psysml:80d735d5-abd9-4df4-b941-a11b60e81c18\" xlink:type=\"simple\"><path d=\"M667.9262,169.3431 C667.863,169.4631 667.7996,169.5836 667.736,169.7045 C667.2267,170.672 666.7018,171.6694 666.1634,172.6922 C665.0868,174.7378 663.9566,176.8851 662.7915,179.0986 C660.4613,183.5258 657.9916,188.2181 655.5313,192.8925 C645.69,211.59 636,230 636,230 C636,230 487,238 487,238 C487,238 485.8494,243.8744 484.1144,252.7319 C484.0602,253.0087 484.0054,253.2884 483.95,253.5709 C483.9224,253.7122 483.8945,253.8542 483.8666,253.9968 \" fill=\"none\" id=\"E6-&gt;E2\" style=\"stroke: #383838; stroke-width: 1.0;\"/><polygon fill=\"#FFFFFF\" points=\"483.8666,253.9968,494.3884,236.6968,480.6494,234.0056,483.8666,253.9968\" style=\"stroke: #383838; stroke-width: 1.0;\"/></a><!--MD5=[17761d3a7d49c2a880e3a3fc137d0563]\n",
       "@startuml\r\n",
       "skinparam ranksep 10\r\n",
       "skinparam rectangle {\r\n",
       " backgroundColor<<block>> LightGreen\r\n",
       "}\r\n",
       "skinparam linetype polyline\r\n",
       "skinparam monochrome true\r\n",
       "skinparam classbackgroundcolor white\r\n",
       "skinparam shadowing false\r\n",
       "skinparam wrapWidth 300\r\n",
       "hide circle\r\n",
       "\r\n",
       "package \"VariabilityTest\" as E1  [[psysml:54c28c65-c036-409b-a9ca-8f60ef8eadfb ]]  {\r\n",
       "rec def \"P\" as E2  <<(T,blue) part  def>> [[psysml:82cb16a2-9eb2-4cce-bbbe-e1592c7acc8b ]] {\r\n",
       "comp usage \"a\" as E3  <<(T,blue) attribute>> [[psysml:b3756095-16bb-4cb1-b9cb-a9f1f269c560 ]] {\r\n",
       "}\r\n",
       "}\r\n",
       "rec def \"Q\" as E4  <<(T,blue) part  def>> [[psysml:2ef5dada-a649-4c80-bc3f-904ca5914f5d ]] {\r\n",
       "}\r\n",
       "def \"B\" as E5  <<(T,blue) attribute  def>> [[psysml:45188152-89ae-47db-8fae-185a328aceea ]] \r\n",
       "rec def \"<i>V</i>\" as E6  <<(T,blue) part  def>> [[psysml:e8a966fa-6247-410c-94c4-6750afcc6da8 ]] {\r\n",
       "comp usage \"x: Q \" as E7  [[psysml:10060237-19c5-40dc-a73e-8cb7e4953e81 ]] {\r\n",
       "- - attributes - -\r\n",
       "b: B\\n//:>>P::a// \r\n",
       "}\r\n",
       "}\r\n",
       "rec usage \"q: Q\" as E8  [[psysml:070ce293-3e12-454f-ad5b-be257c39d672 ]] {\r\n",
       "}\r\n",
       "rec usage \"v: P\" as E9  [[psysml:3367482b-ff59-4bbe-a9dc-fe1b4a2ad697 ]] {\r\n",
       "comp usage \"q :> VariabilityTest::q\" as E10  <<(T,blue) reference>> [[psysml:80fa5ea3-437e-4eec-9e3d-5d2e24e12c28 ]] {\r\n",
       "- - attributes - -\r\n",
       "b: B\\n//:>>P::a// \r\n",
       "}\r\n",
       "}\r\n",
       "rec usage \"y: P= v::q; \" as E11  [[psysml:48eaa747-84b8-4879-8d6b-33c104c23f89 ]] {\r\n",
       "}\r\n",
       "}\r\n",
       "E4 - -|> E2 [[psysml:8fca0815-a461-4953-83e8-63ed8c86de29 ]] \r\n",
       "E6 - -|> E2 [[psysml:80d735d5-abd9-4df4-b941-a11b60e81c18 ]] \r\n",
       "@enduml\r\n",
       "\n",
       "PlantUML version 1.2020.13(Sat Jun 13 12:26:38 UTC 2020)\n",
       "(EPL source distribution)\n",
       "Java Runtime: OpenJDK Runtime Environment\n",
       "JVM: OpenJDK 64-Bit Server VM\n",
       "Default Encoding: UTF-8\n",
       "Language: en\n",
       "Country: null\n",
       "--></g></svg>"
      ]
     },
     "execution_count": 12,
     "metadata": {},
     "output_type": "execute_result"
    }
   ],
   "source": [
    "%viz --style=\"POLYLINE\" --view=\"Interconnection\" \"VariabilityTest\""
   ]
  },
  {
   "cell_type": "code",
   "execution_count": 13,
   "id": "0ba14fdb",
   "metadata": {
    "execution": {
     "iopub.execute_input": "2021-10-25T08:21:42.026205Z",
     "iopub.status.busy": "2021-10-25T08:21:42.025781Z",
     "iopub.status.idle": "2021-10-25T08:21:42.032405Z",
     "shell.execute_reply": "2021-10-25T08:21:42.032733Z"
    }
   },
   "outputs": [
    {
     "data": {
      "image/svg+xml": [
       "<?xml version=\"1.0\" encoding=\"UTF-8\" standalone=\"no\"?><svg xmlns=\"http://www.w3.org/2000/svg\" xmlns:xlink=\"http://www.w3.org/1999/xlink\" contentScriptType=\"application/ecmascript\" contentStyleType=\"text/css\" height=\"12px\" preserveAspectRatio=\"none\" style=\"width:12px;height:12px;\" version=\"1.1\" viewBox=\"0 0 12 12\" width=\"12px\" zoomAndPan=\"magnify\"><defs/><g><!--MD5=[97bbf32f66ccd50cbc40d92ea8f5a65e]\n",
       "@startuml\r\n",
       "skinparam ranksep 8\r\n",
       "skinparam linetype polyline\r\n",
       "skinparam monochrome true\r\n",
       "skinparam classbackgroundcolor white\r\n",
       "skinparam shadowing false\r\n",
       "skinparam wrapWidth 300\r\n",
       "hide circle\r\n",
       "\r\n",
       "@enduml\r\n",
       "\n",
       "PlantUML version 1.2020.13(Sat Jun 13 12:26:38 UTC 2020)\n",
       "(EPL source distribution)\n",
       "Java Runtime: OpenJDK Runtime Environment\n",
       "JVM: OpenJDK 64-Bit Server VM\n",
       "Default Encoding: UTF-8\n",
       "Language: en\n",
       "Country: null\n",
       "--></g></svg>"
      ]
     },
     "execution_count": 13,
     "metadata": {},
     "output_type": "execute_result"
    }
   ],
   "source": [
    "%viz --style=\"POLYLINE\" --view=\"Action\" \"VariabilityTest\""
   ]
  },
  {
   "cell_type": "code",
   "execution_count": 14,
   "id": "4817ac37",
   "metadata": {
    "execution": {
     "iopub.execute_input": "2021-10-25T08:21:42.082497Z",
     "iopub.status.busy": "2021-10-25T08:21:42.082078Z",
     "iopub.status.idle": "2021-10-25T08:21:42.088123Z",
     "shell.execute_reply": "2021-10-25T08:21:42.088452Z"
    }
   },
   "outputs": [
    {
     "data": {
      "image/svg+xml": [
       "<?xml version=\"1.0\" encoding=\"UTF-8\" standalone=\"no\"?><svg xmlns=\"http://www.w3.org/2000/svg\" xmlns:xlink=\"http://www.w3.org/1999/xlink\" contentScriptType=\"application/ecmascript\" contentStyleType=\"text/css\" height=\"12px\" preserveAspectRatio=\"none\" style=\"width:12px;height:12px;\" version=\"1.1\" viewBox=\"0 0 12 12\" width=\"12px\" zoomAndPan=\"magnify\"><defs/><g><!--MD5=[dc938048236c351797870c36b62f92ad]\n",
       "@startuml\r\n",
       "skinparam roundcorner 20\r\n",
       "skinparam BoxPadding 20\r\n",
       "skinparam SequenceBoxBackgroundColor #white\r\n",
       "skinparam style strictuml\r\n",
       "skinparam maxMessageSize 100\r\n",
       "skinparam linetype polyline\r\n",
       "skinparam monochrome true\r\n",
       "skinparam classbackgroundcolor white\r\n",
       "skinparam shadowing false\r\n",
       "skinparam wrapWidth 300\r\n",
       "hide circle\r\n",
       "\r\n",
       "@enduml\r\n",
       "\n",
       "PlantUML version 1.2020.13(Sat Jun 13 12:26:38 UTC 2020)\n",
       "(EPL source distribution)\n",
       "Java Runtime: OpenJDK Runtime Environment\n",
       "JVM: OpenJDK 64-Bit Server VM\n",
       "Default Encoding: UTF-8\n",
       "Language: en\n",
       "Country: null\n",
       "--></g></svg>"
      ]
     },
     "execution_count": 14,
     "metadata": {},
     "output_type": "execute_result"
    }
   ],
   "source": [
    "%viz --style=\"POLYLINE\" --view=\"Sequence\" \"VariabilityTest\""
   ]
  },
  {
   "cell_type": "code",
   "execution_count": 15,
   "id": "0c657265",
   "metadata": {
    "execution": {
     "iopub.execute_input": "2021-10-25T08:21:42.138530Z",
     "iopub.status.busy": "2021-10-25T08:21:42.138109Z",
     "iopub.status.idle": "2021-10-25T08:21:42.235588Z",
     "shell.execute_reply": "2021-10-25T08:21:42.233629Z"
    }
   },
   "outputs": [
    {
     "data": {
      "image/svg+xml": [
       "<?xml version=\"1.0\" encoding=\"UTF-8\" standalone=\"no\"?><svg xmlns=\"http://www.w3.org/2000/svg\" xmlns:xlink=\"http://www.w3.org/1999/xlink\" contentScriptType=\"application/ecmascript\" contentStyleType=\"text/css\" height=\"401px\" preserveAspectRatio=\"none\" style=\"width:427px;height:401px;\" version=\"1.1\" viewBox=\"0 0 427 401\" width=\"427px\" zoomAndPan=\"magnify\"><defs/><g><!--MD5=[fbc87193dbaf4d95561dea2c320d4a47]\n",
       "cluster E1--><a href=\"psysml:54c28c65-c036-409b-a9ca-8f60ef8eadfb\" target=\"_top\" title=\"psysml:54c28c65-c036-409b-a9ca-8f60ef8eadfb\" xlink:actuate=\"onRequest\" xlink:href=\"psysml:54c28c65-c036-409b-a9ca-8f60ef8eadfb\" xlink:show=\"new\" xlink:title=\"psysml:54c28c65-c036-409b-a9ca-8f60ef8eadfb\" xlink:type=\"simple\"><polygon fill=\"#FFFFFF\" points=\"16,6,116,6,123,28.2969,405,28.2969,405,389,16,389,16,6\" style=\"stroke: #000000; stroke-width: 1.5;\"/><line style=\"stroke: #000000; stroke-width: 1.5;\" x1=\"16\" x2=\"123\" y1=\"28.2969\" y2=\"28.2969\"/><text fill=\"#000000\" font-family=\"sans-serif\" font-size=\"14\" font-weight=\"bold\" lengthAdjust=\"spacingAndGlyphs\" textLength=\"94\" x=\"20\" y=\"20.9951\">VariabilityTest</text></a><!--MD5=[b4997ac47864f28c2f74865a473b2911]\n",
       "class E2--><a href=\"psysml:82cb16a2-9eb2-4cce-bbbe-e1592c7acc8b\" target=\"_top\" title=\"psysml:82cb16a2-9eb2-4cce-bbbe-e1592c7acc8b\" xlink:actuate=\"onRequest\" xlink:href=\"psysml:82cb16a2-9eb2-4cce-bbbe-e1592c7acc8b\" xlink:show=\"new\" xlink:title=\"psysml:82cb16a2-9eb2-4cce-bbbe-e1592c7acc8b\" xlink:type=\"simple\"><rect fill=\"#FFFFFF\" height=\"75.5469\" id=\"E2\" style=\"stroke: #383838; stroke-width: 1.5;\" width=\"70\" x=\"207\" y=\"291\"/><text fill=\"#000000\" font-family=\"sans-serif\" font-size=\"12\" font-style=\"italic\" lengthAdjust=\"spacingAndGlyphs\" textLength=\"68\" x=\"208\" y=\"307.1387\">«part  def»</text><text fill=\"#000000\" font-family=\"sans-serif\" font-size=\"12\" lengthAdjust=\"spacingAndGlyphs\" textLength=\"8\" x=\"238\" y=\"321.1074\">P</text><line style=\"stroke: #383838; stroke-width: 1.5;\" x1=\"208\" x2=\"276\" y1=\"328.9375\" y2=\"328.9375\"/><text fill=\"#000000\" font-family=\"sans-serif\" font-size=\"11\" lengthAdjust=\"spacingAndGlyphs\" textLength=\"7\" x=\"213\" y=\"359.9526\">a</text><line style=\"stroke: #383838; stroke-width: 1.0;\" x1=\"208\" x2=\"214.5\" y1=\"343.3398\" y2=\"343.3398\"/><text fill=\"#000000\" font-family=\"sans-serif\" font-size=\"11\" lengthAdjust=\"spacingAndGlyphs\" textLength=\"55\" x=\"214.5\" y=\"346.6479\">attributes</text><line style=\"stroke: #383838; stroke-width: 1.0;\" x1=\"269.5\" x2=\"276\" y1=\"343.3398\" y2=\"343.3398\"/></a><!--MD5=[09b614a08d8cba4a07c9adeb5e0fee81]\n",
       "class E3--><a href=\"psysml:2ef5dada-a649-4c80-bc3f-904ca5914f5d\" target=\"_top\" title=\"psysml:2ef5dada-a649-4c80-bc3f-904ca5914f5d\" xlink:actuate=\"onRequest\" xlink:href=\"psysml:2ef5dada-a649-4c80-bc3f-904ca5914f5d\" xlink:show=\"new\" xlink:title=\"psysml:2ef5dada-a649-4c80-bc3f-904ca5914f5d\" xlink:type=\"simple\"><rect fill=\"#FFFFFF\" height=\"45.9375\" id=\"E3\" style=\"stroke: #383838; stroke-width: 1.5;\" width=\"70\" x=\"137\" y=\"155\"/><text fill=\"#000000\" font-family=\"sans-serif\" font-size=\"12\" font-style=\"italic\" lengthAdjust=\"spacingAndGlyphs\" textLength=\"68\" x=\"138\" y=\"171.1387\">«part  def»</text><text fill=\"#000000\" font-family=\"sans-serif\" font-size=\"12\" lengthAdjust=\"spacingAndGlyphs\" textLength=\"9\" x=\"167.5\" y=\"185.1074\">Q</text><line style=\"stroke: #383838; stroke-width: 1.5;\" x1=\"138\" x2=\"206\" y1=\"192.9375\" y2=\"192.9375\"/></a><!--MD5=[ebbe1d658d1005bcc118a6aa81145e00]\n",
       "class E4--><a href=\"psysml:45188152-89ae-47db-8fae-185a328aceea\" target=\"_top\" title=\"psysml:45188152-89ae-47db-8fae-185a328aceea\" xlink:actuate=\"onRequest\" xlink:href=\"psysml:45188152-89ae-47db-8fae-185a328aceea\" xlink:show=\"new\" xlink:title=\"psysml:45188152-89ae-47db-8fae-185a328aceea\" xlink:type=\"simple\"><rect fill=\"#FFFFFF\" height=\"45.9375\" id=\"E4\" style=\"stroke: #383838; stroke-width: 1.5;\" width=\"99\" x=\"258.5\" y=\"41\"/><text fill=\"#000000\" font-family=\"sans-serif\" font-size=\"12\" font-style=\"italic\" lengthAdjust=\"spacingAndGlyphs\" textLength=\"97\" x=\"259.5\" y=\"57.1387\">«attribute  def»</text><text fill=\"#000000\" font-family=\"sans-serif\" font-size=\"12\" lengthAdjust=\"spacingAndGlyphs\" textLength=\"8\" x=\"304\" y=\"71.1074\">B</text><line style=\"stroke: #383838; stroke-width: 1.5;\" x1=\"259.5\" x2=\"356.5\" y1=\"78.9375\" y2=\"78.9375\"/></a><!--MD5=[270fce915f116d4de14055a7c1d9a0f3]\n",
       "class E5--><a href=\"psysml:e8a966fa-6247-410c-94c4-6750afcc6da8\" target=\"_top\" title=\"psysml:e8a966fa-6247-410c-94c4-6750afcc6da8\" xlink:actuate=\"onRequest\" xlink:href=\"psysml:e8a966fa-6247-410c-94c4-6750afcc6da8\" xlink:show=\"new\" xlink:title=\"psysml:e8a966fa-6247-410c-94c4-6750afcc6da8\" xlink:type=\"simple\"><rect fill=\"#FFFFFF\" height=\"45.9375\" id=\"E5\" style=\"stroke: #383838; stroke-width: 1.5;\" width=\"70\" x=\"319\" y=\"155\"/><text fill=\"#000000\" font-family=\"sans-serif\" font-size=\"12\" font-style=\"italic\" lengthAdjust=\"spacingAndGlyphs\" textLength=\"68\" x=\"320\" y=\"171.1387\">«part  def»</text><text fill=\"#000000\" font-family=\"sans-serif\" font-size=\"12\" font-style=\"italic\" lengthAdjust=\"spacingAndGlyphs\" textLength=\"8\" x=\"350\" y=\"185.1074\">V</text><line style=\"stroke: #383838; stroke-width: 1.5;\" x1=\"320\" x2=\"388\" y1=\"192.9375\" y2=\"192.9375\"/></a><!--MD5=[60a26617385b1d2d0262a64233df1f8d]\n",
       "class E6--><a href=\"psysml:10060237-19c5-40dc-a73e-8cb7e4953e81\" target=\"_top\" title=\"psysml:10060237-19c5-40dc-a73e-8cb7e4953e81\" xlink:actuate=\"onRequest\" xlink:href=\"psysml:10060237-19c5-40dc-a73e-8cb7e4953e81\" xlink:show=\"new\" xlink:title=\"psysml:10060237-19c5-40dc-a73e-8cb7e4953e81\" xlink:type=\"simple\"><rect fill=\"#FFFFFF\" height=\"88.3516\" id=\"E6\" rx=\"10\" ry=\"10\" style=\"stroke: #383838; stroke-width: 1.5;\" width=\"63\" x=\"312.5\" y=\"285\"/><text fill=\"#000000\" font-family=\"sans-serif\" font-size=\"12\" font-style=\"italic\" lengthAdjust=\"spacingAndGlyphs\" textLength=\"40\" x=\"324\" y=\"301.1387\">«part»</text><text fill=\"#000000\" font-family=\"sans-serif\" font-size=\"12\" lengthAdjust=\"spacingAndGlyphs\" textLength=\"23\" x=\"330.5\" y=\"315.1074\">x: Q</text><line style=\"stroke: #383838; stroke-width: 1.5;\" x1=\"313.5\" x2=\"374.5\" y1=\"322.9375\" y2=\"322.9375\"/><text fill=\"#000000\" font-family=\"sans-serif\" font-size=\"11\" lengthAdjust=\"spacingAndGlyphs\" textLength=\"23\" x=\"318.5\" y=\"353.9526\">b: B</text><text fill=\"#000000\" font-family=\"sans-serif\" font-size=\"11\" font-style=\"italic\" lengthAdjust=\"spacingAndGlyphs\" textLength=\"44\" x=\"318.5\" y=\"366.7573\">:&gt;&gt;P::a</text><line style=\"stroke: #383838; stroke-width: 1.0;\" x1=\"313.5\" x2=\"316.5\" y1=\"337.3398\" y2=\"337.3398\"/><text fill=\"#000000\" font-family=\"sans-serif\" font-size=\"11\" lengthAdjust=\"spacingAndGlyphs\" textLength=\"55\" x=\"316.5\" y=\"340.6479\">attributes</text><line style=\"stroke: #383838; stroke-width: 1.0;\" x1=\"371.5\" x2=\"374.5\" y1=\"337.3398\" y2=\"337.3398\"/></a><!--MD5=[2156ba9850f5573cc1fc38a6a4b2f02b]\n",
       "class E7--><a href=\"psysml:070ce293-3e12-454f-ad5b-be257c39d672\" target=\"_top\" title=\"psysml:070ce293-3e12-454f-ad5b-be257c39d672\" xlink:actuate=\"onRequest\" xlink:href=\"psysml:070ce293-3e12-454f-ad5b-be257c39d672\" xlink:show=\"new\" xlink:title=\"psysml:070ce293-3e12-454f-ad5b-be257c39d672\" xlink:type=\"simple\"><rect fill=\"#FFFFFF\" height=\"45.9375\" id=\"E7\" rx=\"10\" ry=\"10\" style=\"stroke: #383838; stroke-width: 1.5;\" width=\"42\" x=\"151\" y=\"41\"/><text fill=\"#000000\" font-family=\"sans-serif\" font-size=\"12\" font-style=\"italic\" lengthAdjust=\"spacingAndGlyphs\" textLength=\"40\" x=\"152\" y=\"57.1387\">«part»</text><text fill=\"#000000\" font-family=\"sans-serif\" font-size=\"12\" lengthAdjust=\"spacingAndGlyphs\" textLength=\"25\" x=\"157.5\" y=\"71.1074\">q: Q</text><line style=\"stroke: #383838; stroke-width: 1.5;\" x1=\"152\" x2=\"192\" y1=\"78.9375\" y2=\"78.9375\"/></a><!--MD5=[b9389687b975829384b498ac4b7476b2]\n",
       "class E8--><a href=\"psysml:3367482b-ff59-4bbe-a9dc-fe1b4a2ad697\" target=\"_top\" title=\"psysml:3367482b-ff59-4bbe-a9dc-fe1b4a2ad697\" xlink:actuate=\"onRequest\" xlink:href=\"psysml:3367482b-ff59-4bbe-a9dc-fe1b4a2ad697\" xlink:show=\"new\" xlink:title=\"psysml:3367482b-ff59-4bbe-a9dc-fe1b4a2ad697\" xlink:type=\"simple\"><rect fill=\"#FFFFFF\" height=\"59.9063\" id=\"E8\" rx=\"10\" ry=\"10\" style=\"stroke: #383838; stroke-width: 1.5;\" width=\"70\" x=\"32\" y=\"148\"/><text fill=\"#000000\" font-family=\"sans-serif\" font-size=\"12\" font-style=\"italic\" lengthAdjust=\"spacingAndGlyphs\" textLength=\"68\" x=\"33\" y=\"164.1387\">«variation»</text><text fill=\"#000000\" font-family=\"sans-serif\" font-size=\"12\" font-style=\"italic\" lengthAdjust=\"spacingAndGlyphs\" textLength=\"40\" x=\"47\" y=\"178.1074\">«part»</text><text fill=\"#000000\" font-family=\"sans-serif\" font-size=\"12\" font-style=\"italic\" lengthAdjust=\"spacingAndGlyphs\" textLength=\"6\" x=\"54\" y=\"192.0762\">v</text><text fill=\"#000000\" font-family=\"sans-serif\" font-size=\"12\" lengthAdjust=\"spacingAndGlyphs\" textLength=\"16\" x=\"60\" y=\"192.0762\">: P</text><line style=\"stroke: #383838; stroke-width: 1.5;\" x1=\"33\" x2=\"101\" y1=\"199.9063\" y2=\"199.9063\"/></a><!--MD5=[fd4143e9d270a159db93a4ea2a975926]\n",
       "class E9--><a href=\"psysml:80fa5ea3-437e-4eec-9e3d-5d2e24e12c28\" target=\"_top\" title=\"psysml:80fa5ea3-437e-4eec-9e3d-5d2e24e12c28\" xlink:actuate=\"onRequest\" xlink:href=\"psysml:80fa5ea3-437e-4eec-9e3d-5d2e24e12c28\" xlink:show=\"new\" xlink:title=\"psysml:80fa5ea3-437e-4eec-9e3d-5d2e24e12c28\" xlink:type=\"simple\"><rect fill=\"#FFFFFF\" height=\"88.3516\" id=\"E9\" rx=\"10\" ry=\"10\" style=\"stroke: #383838; stroke-width: 1.5;\" width=\"139\" x=\"32.5\" y=\"285\"/><text fill=\"#000000\" font-family=\"sans-serif\" font-size=\"12\" font-style=\"italic\" lengthAdjust=\"spacingAndGlyphs\" textLength=\"75\" x=\"64.5\" y=\"301.1387\">«reference»</text><text fill=\"#000000\" font-family=\"sans-serif\" font-size=\"12\" lengthAdjust=\"spacingAndGlyphs\" textLength=\"133\" x=\"35.5\" y=\"315.1074\">q :&gt; VariabilityTest::q</text><line style=\"stroke: #383838; stroke-width: 1.5;\" x1=\"33.5\" x2=\"170.5\" y1=\"322.9375\" y2=\"322.9375\"/><text fill=\"#000000\" font-family=\"sans-serif\" font-size=\"11\" lengthAdjust=\"spacingAndGlyphs\" textLength=\"23\" x=\"38.5\" y=\"353.9526\">b: B</text><text fill=\"#000000\" font-family=\"sans-serif\" font-size=\"11\" font-style=\"italic\" lengthAdjust=\"spacingAndGlyphs\" textLength=\"44\" x=\"38.5\" y=\"366.7573\">:&gt;&gt;P::a</text><line style=\"stroke: #383838; stroke-width: 1.0;\" x1=\"33.5\" x2=\"74.5\" y1=\"337.3398\" y2=\"337.3398\"/><text fill=\"#000000\" font-family=\"sans-serif\" font-size=\"11\" lengthAdjust=\"spacingAndGlyphs\" textLength=\"55\" x=\"74.5\" y=\"340.6479\">attributes</text><line style=\"stroke: #383838; stroke-width: 1.0;\" x1=\"129.5\" x2=\"170.5\" y1=\"337.3398\" y2=\"337.3398\"/></a><!--MD5=[96f4274e9e20536e775497830990834d]\n",
       "class E10--><a href=\"psysml:48eaa747-84b8-4879-8d6b-33c104c23f89\" target=\"_top\" title=\"psysml:48eaa747-84b8-4879-8d6b-33c104c23f89\" xlink:actuate=\"onRequest\" xlink:href=\"psysml:48eaa747-84b8-4879-8d6b-33c104c23f89\" xlink:show=\"new\" xlink:title=\"psysml:48eaa747-84b8-4879-8d6b-33c104c23f89\" xlink:type=\"simple\"><rect fill=\"#FFFFFF\" height=\"45.9375\" id=\"E10\" rx=\"10\" ry=\"10\" style=\"stroke: #383838; stroke-width: 1.5;\" width=\"42\" x=\"242\" y=\"155\"/><text fill=\"#000000\" font-family=\"sans-serif\" font-size=\"12\" font-style=\"italic\" lengthAdjust=\"spacingAndGlyphs\" textLength=\"40\" x=\"243\" y=\"171.1387\">«part»</text><text fill=\"#000000\" font-family=\"sans-serif\" font-size=\"12\" lengthAdjust=\"spacingAndGlyphs\" textLength=\"22\" x=\"250\" y=\"185.1074\">y: P</text><line style=\"stroke: #383838; stroke-width: 1.5;\" x1=\"243\" x2=\"283\" y1=\"192.9375\" y2=\"192.9375\"/></a><!--MD5=[05d275557350bfb9b23a4ef7222b4c39]\n",
       "link E3 to E2--><a href=\"psysml:8fca0815-a461-4953-83e8-63ed8c86de29\" target=\"_top\" title=\"psysml:8fca0815-a461-4953-83e8-63ed8c86de29\" xlink:actuate=\"onRequest\" xlink:href=\"psysml:8fca0815-a461-4953-83e8-63ed8c86de29\" xlink:show=\"new\" xlink:title=\"psysml:8fca0815-a461-4953-83e8-63ed8c86de29\" xlink:type=\"simple\"><path d=\"M182.48,201.31 C191.32,220.13 204.37,247.89 215.99,272.64 \" fill=\"none\" id=\"E3-&gt;E2\" style=\"stroke: #383838; stroke-width: 1.0;\"/><polygon fill=\"none\" points=\"222.34,269.69,224.51,290.77,209.67,275.64,222.34,269.69\" style=\"stroke: #383838; stroke-width: 1.0;\"/></a><!--MD5=[15ebcb19ae302d9b601edb458606d402]\n",
       "link E5 to E2--><a href=\"psysml:80d735d5-abd9-4df4-b941-a11b60e81c18\" target=\"_top\" title=\"psysml:80d735d5-abd9-4df4-b941-a11b60e81c18\" xlink:actuate=\"onRequest\" xlink:href=\"psysml:80d735d5-abd9-4df4-b941-a11b60e81c18\" xlink:show=\"new\" xlink:title=\"psysml:80d735d5-abd9-4df4-b941-a11b60e81c18\" xlink:type=\"simple\"><path d=\"M337.23,201.31 C322.73,220.59 301.19,249.26 282.25,274.45 \" fill=\"none\" id=\"E5-&gt;E2\" style=\"stroke: #383838; stroke-width: 1.0;\"/><polygon fill=\"none\" points=\"287.6,278.99,269.99,290.77,276.41,270.57,287.6,278.99\" style=\"stroke: #383838; stroke-width: 1.0;\"/></a><!--MD5=[9120cf2e5df3bff93db8f754bbbc09b4]\n",
       "link E5 to E6--><a href=\"psysml:bbf94ce0-8140-4269-b805-c97e9315d509\" target=\"_top\" title=\"psysml:bbf94ce0-8140-4269-b805-c97e9315d509\" xlink:actuate=\"onRequest\" xlink:href=\"psysml:bbf94ce0-8140-4269-b805-c97e9315d509\" xlink:show=\"new\" xlink:title=\"psysml:bbf94ce0-8140-4269-b805-c97e9315d509\" xlink:type=\"simple\"><path d=\"M351.82,211.55 C350.58,230.03 348.99,253.61 347.58,274.71 \" fill=\"none\" id=\"E5-E6\" style=\"stroke: #383838; stroke-width: 1.0;\"/><polygon fill=\"#383838\" points=\"346.9,284.84,350.4299,277.0593,344.4435,276.6568,346.9,284.84\" style=\"stroke: #383838; stroke-width: 1.0;\"/><path d=\"M343.8553,203.8139 A9,9 0 0 0 360.7317 204.9486\" fill=\"none\" style=\"stroke: #383838; stroke-width: 1.5;\"/><text fill=\"#000000\" font-family=\"sans-serif\" font-size=\"13\" lengthAdjust=\"spacingAndGlyphs\" textLength=\"60\" x=\"350\" y=\"251.0669\">«variant»</text></a><!--MD5=[14ccda38c055a5c0da953d572bc50960]\n",
       "link E7 to E3--><a href=\"psysml:1a218306-3ccb-4021-8143-a6b7222dd125\" target=\"_top\" title=\"psysml:1a218306-3ccb-4021-8143-a6b7222dd125\" xlink:actuate=\"onRequest\" xlink:href=\"psysml:1a218306-3ccb-4021-8143-a6b7222dd125\" xlink:show=\"new\" xlink:title=\"psysml:1a218306-3ccb-4021-8143-a6b7222dd125\" xlink:type=\"simple\"><path d=\"M172,87.13 C172,100.7 172,118.53 172,134.73 \" fill=\"none\" id=\"E7-&gt;E3\" style=\"stroke: #383838; stroke-width: 1.0;\"/><polygon fill=\"#FFFFFF\" points=\"172,154.92,165,135.92,179,135.92,172,154.92\" style=\"stroke: #383838; stroke-width: 1.0;\"/><ellipse cx=\"167\" cy=\"130.22\" fill=\"#383838\" rx=\"2\" ry=\"2\" style=\"stroke: #383838; stroke-width: 1.0;\"/><ellipse cx=\"177\" cy=\"130.22\" fill=\"#383838\" rx=\"2\" ry=\"2\" style=\"stroke: #383838; stroke-width: 1.0;\"/></a><!--MD5=[f1f3f9f2fc535e6147756cb86a7f2e32]\n",
       "link E8 to E2--><a href=\"psysml:0a07ead6-b6a6-4f86-92cb-b01532aad754\" target=\"_top\" title=\"psysml:0a07ead6-b6a6-4f86-92cb-b01532aad754\" xlink:actuate=\"onRequest\" xlink:href=\"psysml:0a07ead6-b6a6-4f86-92cb-b01532aad754\" xlink:show=\"new\" xlink:title=\"psysml:0a07ead6-b6a6-4f86-92cb-b01532aad754\" xlink:type=\"simple\"><path d=\"M102.14,202.83 C126.28,219.2 154,238 154,238 C154,238 172.77,257.19 192.97,277.85 \" fill=\"none\" id=\"E8-&gt;E2\" style=\"stroke: #383838; stroke-width: 1.0;\"/><polygon fill=\"#FFFFFF\" points=\"206.97,292.17,188.6851,283.4716,198.6989,273.6879,206.97,292.17\" style=\"stroke: #383838; stroke-width: 1.0;\"/><ellipse cx=\"186.1322\" cy=\"277.9969\" fill=\"#383838\" rx=\"2\" ry=\"2\" style=\"stroke: #383838; stroke-width: 1.0;\"/><ellipse cx=\"193.285\" cy=\"271.0085\" fill=\"#383838\" rx=\"2\" ry=\"2\" style=\"stroke: #383838; stroke-width: 1.0;\"/></a><!--MD5=[ed10624c06dd9a4fa49ccf290e8b16a8]\n",
       "link E8 to E9--><a href=\"psysml:95cf767c-bf38-4d44-8a21-82e4671e1c7d\" target=\"_top\" title=\"psysml:95cf767c-bf38-4d44-8a21-82e4671e1c7d\" xlink:actuate=\"onRequest\" xlink:href=\"psysml:95cf767c-bf38-4d44-8a21-82e4671e1c7d\" xlink:show=\"new\" xlink:title=\"psysml:95cf767c-bf38-4d44-8a21-82e4671e1c7d\" xlink:type=\"simple\"><path d=\"M76.17,218.04 C80.26,235.44 85.14,256.2 89.55,274.98 \" fill=\"none\" id=\"E8-E9\" style=\"stroke: #383838; stroke-width: 1.0;\"/><polygon fill=\"#383838\" points=\"91.87,284.88,92.9607,276.4059,87.1198,277.7782,91.87,284.88\" style=\"stroke: #383838; stroke-width: 1.0;\"/><path d=\"M66.2994,213.0085 A9,9 0 0 0 82.7667 209.1452\" fill=\"none\" style=\"stroke: #383838; stroke-width: 1.5;\"/><text fill=\"#000000\" font-family=\"sans-serif\" font-size=\"13\" lengthAdjust=\"spacingAndGlyphs\" textLength=\"60\" x=\"85\" y=\"251.0669\">«variant»</text></a><!--MD5=[0f36bececdf0dff6e600d6f64214b0f1]\n",
       "link E10 to E2--><a href=\"psysml:6b6ac884-9cd9-45a3-8497-3c127dcfd472\" target=\"_top\" title=\"psysml:6b6ac884-9cd9-45a3-8497-3c127dcfd472\" xlink:actuate=\"onRequest\" xlink:href=\"psysml:6b6ac884-9cd9-45a3-8497-3c127dcfd472\" xlink:show=\"new\" xlink:title=\"psysml:6b6ac884-9cd9-45a3-8497-3c127dcfd472\" xlink:type=\"simple\"><path d=\"M259.86,201.31 C257.27,219.67 253.48,246.54 250.06,270.81 \" fill=\"none\" id=\"E10-&gt;E2\" style=\"stroke: #383838; stroke-width: 1.0;\"/><polygon fill=\"#FFFFFF\" points=\"247.25,290.77,242.9654,270.9801,256.8288,272.9305,247.25,290.77\" style=\"stroke: #383838; stroke-width: 1.0;\"/><ellipse cx=\"245.74\" cy=\"265.6143\" fill=\"#383838\" rx=\"2\" ry=\"2\" style=\"stroke: #383838; stroke-width: 1.0;\"/><ellipse cx=\"255.6425\" cy=\"267.0075\" fill=\"#383838\" rx=\"2\" ry=\"2\" style=\"stroke: #383838; stroke-width: 1.0;\"/></a><!--MD5=[3e043085504d5835693b7bae5ae6207f]\n",
       "@startuml\r\n",
       "skinparam linetype polyline\r\n",
       "skinparam monochrome true\r\n",
       "skinparam classbackgroundcolor white\r\n",
       "skinparam shadowing false\r\n",
       "skinparam wrapWidth 300\r\n",
       "hide circle\r\n",
       "\r\n",
       "package \"VariabilityTest\" as E1  [[psysml:54c28c65-c036-409b-a9ca-8f60ef8eadfb ]]  {\r\n",
       "comp def \"P\" as E2  <<(T,blue) part  def>> [[psysml:82cb16a2-9eb2-4cce-bbbe-e1592c7acc8b ]] {\r\n",
       "- - attributes - -\r\n",
       "a\r\n",
       "}\r\n",
       "comp def \"Q\" as E3  <<(T,blue) part  def>> [[psysml:2ef5dada-a649-4c80-bc3f-904ca5914f5d ]] {\r\n",
       "}\r\n",
       "comp def \"B\" as E4  <<(T,blue) attribute  def>> [[psysml:45188152-89ae-47db-8fae-185a328aceea ]] {\r\n",
       "}\r\n",
       "comp def \"<i>V</i>\" as E5  <<(T,blue) part  def>> [[psysml:e8a966fa-6247-410c-94c4-6750afcc6da8 ]] {\r\n",
       "}\r\n",
       "comp usage \"x: Q \" as E6  <<(T,blue) part>> [[psysml:10060237-19c5-40dc-a73e-8cb7e4953e81 ]] {\r\n",
       "- - attributes - -\r\n",
       "b: B\\n//:>>P::a// \r\n",
       "}\r\n",
       "comp usage \"q: Q \" as E7  <<(T,blue) part>> [[psysml:070ce293-3e12-454f-ad5b-be257c39d672 ]] {\r\n",
       "}\r\n",
       "comp usage \"<i>v</i>: P \" as E8  <<variation>>\\n <<(T,blue) part>> [[psysml:3367482b-ff59-4bbe-a9dc-fe1b4a2ad697 ]] {\r\n",
       "}\r\n",
       "comp usage \"q :> VariabilityTest::q\" as E9  <<(T,blue) reference>> [[psysml:80fa5ea3-437e-4eec-9e3d-5d2e24e12c28 ]] {\r\n",
       "- - attributes - -\r\n",
       "b: B\\n//:>>P::a// \r\n",
       "}\r\n",
       "comp usage \"y: P \" as E10  <<(T,blue) part>> [[psysml:48eaa747-84b8-4879-8d6b-33c104c23f89 ]] {\r\n",
       "}\r\n",
       "}\r\n",
       "E3 - -|> E2 [[psysml:8fca0815-a461-4953-83e8-63ed8c86de29 ]] \r\n",
       "E5 - -|> E2 [[psysml:80d735d5-abd9-4df4-b941-a11b60e81c18 ]] \r\n",
       "E5 )- ->> E6 [[psysml:bbf94ce0-8140-4269-b805-c97e9315d509 ]] : <<variant>>\r\n",
       "E7 - -:|> E3 [[psysml:1a218306-3ccb-4021-8143-a6b7222dd125 ]] \r\n",
       "E8 - -:|> E2 [[psysml:0a07ead6-b6a6-4f86-92cb-b01532aad754 ]] \r\n",
       "E8 )- ->> E9 [[psysml:95cf767c-bf38-4d44-8a21-82e4671e1c7d ]] : <<variant>>\r\n",
       "E10 - -:|> E2 [[psysml:6b6ac884-9cd9-45a3-8497-3c127dcfd472 ]] \r\n",
       "@enduml\r\n",
       "\n",
       "PlantUML version 1.2020.13(Sat Jun 13 12:26:38 UTC 2020)\n",
       "(EPL source distribution)\n",
       "Java Runtime: OpenJDK Runtime Environment\n",
       "JVM: OpenJDK 64-Bit Server VM\n",
       "Default Encoding: UTF-8\n",
       "Language: en\n",
       "Country: null\n",
       "--></g></svg>"
      ]
     },
     "execution_count": 15,
     "metadata": {},
     "output_type": "execute_result"
    }
   ],
   "source": [
    "%viz --style=\"POLYLINE\" --view=\"MIXED\" \"VariabilityTest\""
   ]
  },
  {
   "cell_type": "code",
   "execution_count": 16,
   "id": "799efe1e",
   "metadata": {
    "execution": {
     "iopub.execute_input": "2021-10-25T08:21:42.284932Z",
     "iopub.status.busy": "2021-10-25T08:21:42.284513Z",
     "iopub.status.idle": "2021-10-25T08:21:42.357606Z",
     "shell.execute_reply": "2021-10-25T08:21:42.357233Z"
    }
   },
   "outputs": [
    {
     "data": {
      "image/svg+xml": [
       "<?xml version=\"1.0\" encoding=\"UTF-8\" standalone=\"no\"?><svg xmlns=\"http://www.w3.org/2000/svg\" xmlns:xlink=\"http://www.w3.org/1999/xlink\" contentScriptType=\"application/ecmascript\" contentStyleType=\"text/css\" height=\"391px\" preserveAspectRatio=\"none\" style=\"width:561px;height:391px;\" version=\"1.1\" viewBox=\"0 0 561 391\" width=\"561px\" zoomAndPan=\"magnify\"><defs/><g><!--MD5=[fbc87193dbaf4d95561dea2c320d4a47]\n",
       "cluster E1--><a href=\"psysml:54c28c65-c036-409b-a9ca-8f60ef8eadfb\" target=\"_top\" title=\"psysml:54c28c65-c036-409b-a9ca-8f60ef8eadfb\" xlink:actuate=\"onRequest\" xlink:href=\"psysml:54c28c65-c036-409b-a9ca-8f60ef8eadfb\" xlink:show=\"new\" xlink:title=\"psysml:54c28c65-c036-409b-a9ca-8f60ef8eadfb\" xlink:type=\"simple\"><polygon fill=\"#FFFFFF\" points=\"16,6,116,6,123,28.2969,539,28.2969,539,379,16,379,16,6\" style=\"stroke: #000000; stroke-width: 1.5;\"/><line style=\"stroke: #000000; stroke-width: 1.5;\" x1=\"16\" x2=\"123\" y1=\"28.2969\" y2=\"28.2969\"/><text fill=\"#000000\" font-family=\"sans-serif\" font-size=\"14\" font-weight=\"bold\" lengthAdjust=\"spacingAndGlyphs\" textLength=\"94\" x=\"20\" y=\"20.9951\">VariabilityTest</text></a><!--MD5=[b4997ac47864f28c2f74865a473b2911]\n",
       "class E2--><a href=\"psysml:82cb16a2-9eb2-4cce-bbbe-e1592c7acc8b\" target=\"_top\" title=\"psysml:82cb16a2-9eb2-4cce-bbbe-e1592c7acc8b\" xlink:actuate=\"onRequest\" xlink:href=\"psysml:82cb16a2-9eb2-4cce-bbbe-e1592c7acc8b\" xlink:show=\"new\" xlink:title=\"psysml:82cb16a2-9eb2-4cce-bbbe-e1592c7acc8b\" xlink:type=\"simple\"><rect fill=\"#FFFFFF\" height=\"75.5469\" id=\"E2\" style=\"stroke: #383838; stroke-width: 1.5;\" width=\"70\" x=\"418.5\" y=\"164\"/><text fill=\"#000000\" font-family=\"sans-serif\" font-size=\"12\" font-style=\"italic\" lengthAdjust=\"spacingAndGlyphs\" textLength=\"68\" x=\"419.5\" y=\"180.1387\">«part  def»</text><text fill=\"#000000\" font-family=\"sans-serif\" font-size=\"12\" lengthAdjust=\"spacingAndGlyphs\" textLength=\"8\" x=\"449.5\" y=\"194.1074\">P</text><line style=\"stroke: #383838; stroke-width: 1.5;\" x1=\"419.5\" x2=\"487.5\" y1=\"201.9375\" y2=\"201.9375\"/><text fill=\"#000000\" font-family=\"sans-serif\" font-size=\"11\" lengthAdjust=\"spacingAndGlyphs\" textLength=\"7\" x=\"424.5\" y=\"232.9526\">a</text><line style=\"stroke: #383838; stroke-width: 1.0;\" x1=\"419.5\" x2=\"426\" y1=\"216.3398\" y2=\"216.3398\"/><text fill=\"#000000\" font-family=\"sans-serif\" font-size=\"11\" lengthAdjust=\"spacingAndGlyphs\" textLength=\"55\" x=\"426\" y=\"219.6479\">attributes</text><line style=\"stroke: #383838; stroke-width: 1.0;\" x1=\"481\" x2=\"487.5\" y1=\"216.3398\" y2=\"216.3398\"/></a><!--MD5=[09b614a08d8cba4a07c9adeb5e0fee81]\n",
       "class E3--><a href=\"psysml:2ef5dada-a649-4c80-bc3f-904ca5914f5d\" target=\"_top\" title=\"psysml:2ef5dada-a649-4c80-bc3f-904ca5914f5d\" xlink:actuate=\"onRequest\" xlink:href=\"psysml:2ef5dada-a649-4c80-bc3f-904ca5914f5d\" xlink:show=\"new\" xlink:title=\"psysml:2ef5dada-a649-4c80-bc3f-904ca5914f5d\" xlink:type=\"simple\"><rect fill=\"#FFFFFF\" height=\"45.9375\" id=\"E3\" style=\"stroke: #383838; stroke-width: 1.5;\" width=\"70\" x=\"192\" y=\"215\"/><text fill=\"#000000\" font-family=\"sans-serif\" font-size=\"12\" font-style=\"italic\" lengthAdjust=\"spacingAndGlyphs\" textLength=\"68\" x=\"193\" y=\"231.1387\">«part  def»</text><text fill=\"#000000\" font-family=\"sans-serif\" font-size=\"12\" lengthAdjust=\"spacingAndGlyphs\" textLength=\"9\" x=\"222.5\" y=\"245.1074\">Q</text><line style=\"stroke: #383838; stroke-width: 1.5;\" x1=\"193\" x2=\"261\" y1=\"252.9375\" y2=\"252.9375\"/></a><!--MD5=[ebbe1d658d1005bcc118a6aa81145e00]\n",
       "class E4--><a href=\"psysml:45188152-89ae-47db-8fae-185a328aceea\" target=\"_top\" title=\"psysml:45188152-89ae-47db-8fae-185a328aceea\" xlink:actuate=\"onRequest\" xlink:href=\"psysml:45188152-89ae-47db-8fae-185a328aceea\" xlink:show=\"new\" xlink:title=\"psysml:45188152-89ae-47db-8fae-185a328aceea\" xlink:type=\"simple\"><rect fill=\"#FFFFFF\" height=\"45.9375\" id=\"E4\" style=\"stroke: #383838; stroke-width: 1.5;\" width=\"99\" x=\"32\" y=\"84\"/><text fill=\"#000000\" font-family=\"sans-serif\" font-size=\"12\" font-style=\"italic\" lengthAdjust=\"spacingAndGlyphs\" textLength=\"97\" x=\"33\" y=\"100.1387\">«attribute  def»</text><text fill=\"#000000\" font-family=\"sans-serif\" font-size=\"12\" lengthAdjust=\"spacingAndGlyphs\" textLength=\"8\" x=\"77.5\" y=\"114.1074\">B</text><line style=\"stroke: #383838; stroke-width: 1.5;\" x1=\"33\" x2=\"130\" y1=\"121.9375\" y2=\"121.9375\"/></a><!--MD5=[270fce915f116d4de14055a7c1d9a0f3]\n",
       "class E5--><a href=\"psysml:e8a966fa-6247-410c-94c4-6750afcc6da8\" target=\"_top\" title=\"psysml:e8a966fa-6247-410c-94c4-6750afcc6da8\" xlink:actuate=\"onRequest\" xlink:href=\"psysml:e8a966fa-6247-410c-94c4-6750afcc6da8\" xlink:show=\"new\" xlink:title=\"psysml:e8a966fa-6247-410c-94c4-6750afcc6da8\" xlink:type=\"simple\"><rect fill=\"#FFFFFF\" height=\"45.9375\" id=\"E5\" style=\"stroke: #383838; stroke-width: 1.5;\" width=\"70\" x=\"192\" y=\"53\"/><text fill=\"#000000\" font-family=\"sans-serif\" font-size=\"12\" font-style=\"italic\" lengthAdjust=\"spacingAndGlyphs\" textLength=\"68\" x=\"193\" y=\"69.1387\">«part  def»</text><text fill=\"#000000\" font-family=\"sans-serif\" font-size=\"12\" font-style=\"italic\" lengthAdjust=\"spacingAndGlyphs\" textLength=\"8\" x=\"223\" y=\"83.1074\">V</text><line style=\"stroke: #383838; stroke-width: 1.5;\" x1=\"193\" x2=\"261\" y1=\"90.9375\" y2=\"90.9375\"/></a><!--MD5=[60a26617385b1d2d0262a64233df1f8d]\n",
       "class E6--><a href=\"psysml:10060237-19c5-40dc-a73e-8cb7e4953e81\" target=\"_top\" title=\"psysml:10060237-19c5-40dc-a73e-8cb7e4953e81\" xlink:actuate=\"onRequest\" xlink:href=\"psysml:10060237-19c5-40dc-a73e-8cb7e4953e81\" xlink:show=\"new\" xlink:title=\"psysml:10060237-19c5-40dc-a73e-8cb7e4953e81\" xlink:type=\"simple\"><rect fill=\"#FFFFFF\" height=\"88.3516\" id=\"E6\" rx=\"10\" ry=\"10\" style=\"stroke: #383838; stroke-width: 1.5;\" width=\"63\" x=\"422\" y=\"41\"/><text fill=\"#000000\" font-family=\"sans-serif\" font-size=\"12\" font-style=\"italic\" lengthAdjust=\"spacingAndGlyphs\" textLength=\"40\" x=\"433.5\" y=\"57.1387\">«part»</text><text fill=\"#000000\" font-family=\"sans-serif\" font-size=\"12\" lengthAdjust=\"spacingAndGlyphs\" textLength=\"23\" x=\"440\" y=\"71.1074\">x: Q</text><line style=\"stroke: #383838; stroke-width: 1.5;\" x1=\"423\" x2=\"484\" y1=\"78.9375\" y2=\"78.9375\"/><text fill=\"#000000\" font-family=\"sans-serif\" font-size=\"11\" lengthAdjust=\"spacingAndGlyphs\" textLength=\"23\" x=\"428\" y=\"109.9526\">b: B</text><text fill=\"#000000\" font-family=\"sans-serif\" font-size=\"11\" font-style=\"italic\" lengthAdjust=\"spacingAndGlyphs\" textLength=\"44\" x=\"428\" y=\"122.7573\">:&gt;&gt;P::a</text><line style=\"stroke: #383838; stroke-width: 1.0;\" x1=\"423\" x2=\"426\" y1=\"93.3398\" y2=\"93.3398\"/><text fill=\"#000000\" font-family=\"sans-serif\" font-size=\"11\" lengthAdjust=\"spacingAndGlyphs\" textLength=\"55\" x=\"426\" y=\"96.6479\">attributes</text><line style=\"stroke: #383838; stroke-width: 1.0;\" x1=\"481\" x2=\"484\" y1=\"93.3398\" y2=\"93.3398\"/></a><!--MD5=[2156ba9850f5573cc1fc38a6a4b2f02b]\n",
       "class E7--><a href=\"psysml:070ce293-3e12-454f-ad5b-be257c39d672\" target=\"_top\" title=\"psysml:070ce293-3e12-454f-ad5b-be257c39d672\" xlink:actuate=\"onRequest\" xlink:href=\"psysml:070ce293-3e12-454f-ad5b-be257c39d672\" xlink:show=\"new\" xlink:title=\"psysml:070ce293-3e12-454f-ad5b-be257c39d672\" xlink:type=\"simple\"><rect fill=\"#FFFFFF\" height=\"45.9375\" id=\"E7\" rx=\"10\" ry=\"10\" style=\"stroke: #383838; stroke-width: 1.5;\" width=\"42\" x=\"60.5\" y=\"215\"/><text fill=\"#000000\" font-family=\"sans-serif\" font-size=\"12\" font-style=\"italic\" lengthAdjust=\"spacingAndGlyphs\" textLength=\"40\" x=\"61.5\" y=\"231.1387\">«part»</text><text fill=\"#000000\" font-family=\"sans-serif\" font-size=\"12\" lengthAdjust=\"spacingAndGlyphs\" textLength=\"25\" x=\"67\" y=\"245.1074\">q: Q</text><line style=\"stroke: #383838; stroke-width: 1.5;\" x1=\"61.5\" x2=\"101.5\" y1=\"252.9375\" y2=\"252.9375\"/></a><!--MD5=[b9389687b975829384b498ac4b7476b2]\n",
       "class E8--><a href=\"psysml:3367482b-ff59-4bbe-a9dc-fe1b4a2ad697\" target=\"_top\" title=\"psysml:3367482b-ff59-4bbe-a9dc-fe1b4a2ad697\" xlink:actuate=\"onRequest\" xlink:href=\"psysml:3367482b-ff59-4bbe-a9dc-fe1b4a2ad697\" xlink:show=\"new\" xlink:title=\"psysml:3367482b-ff59-4bbe-a9dc-fe1b4a2ad697\" xlink:type=\"simple\"><rect fill=\"#FFFFFF\" height=\"59.9063\" id=\"E8\" rx=\"10\" ry=\"10\" style=\"stroke: #383838; stroke-width: 1.5;\" width=\"70\" x=\"192\" y=\"296\"/><text fill=\"#000000\" font-family=\"sans-serif\" font-size=\"12\" font-style=\"italic\" lengthAdjust=\"spacingAndGlyphs\" textLength=\"68\" x=\"193\" y=\"312.1387\">«variation»</text><text fill=\"#000000\" font-family=\"sans-serif\" font-size=\"12\" font-style=\"italic\" lengthAdjust=\"spacingAndGlyphs\" textLength=\"40\" x=\"207\" y=\"326.1074\">«part»</text><text fill=\"#000000\" font-family=\"sans-serif\" font-size=\"12\" font-style=\"italic\" lengthAdjust=\"spacingAndGlyphs\" textLength=\"6\" x=\"214\" y=\"340.0762\">v</text><text fill=\"#000000\" font-family=\"sans-serif\" font-size=\"12\" lengthAdjust=\"spacingAndGlyphs\" textLength=\"16\" x=\"220\" y=\"340.0762\">: P</text><line style=\"stroke: #383838; stroke-width: 1.5;\" x1=\"193\" x2=\"261\" y1=\"347.9063\" y2=\"347.9063\"/></a><!--MD5=[fd4143e9d270a159db93a4ea2a975926]\n",
       "class E9--><a href=\"psysml:80fa5ea3-437e-4eec-9e3d-5d2e24e12c28\" target=\"_top\" title=\"psysml:80fa5ea3-437e-4eec-9e3d-5d2e24e12c28\" xlink:actuate=\"onRequest\" xlink:href=\"psysml:80fa5ea3-437e-4eec-9e3d-5d2e24e12c28\" xlink:show=\"new\" xlink:title=\"psysml:80fa5ea3-437e-4eec-9e3d-5d2e24e12c28\" xlink:type=\"simple\"><rect fill=\"#FFFFFF\" height=\"88.3516\" id=\"E9\" rx=\"10\" ry=\"10\" style=\"stroke: #383838; stroke-width: 1.5;\" width=\"139\" x=\"384\" y=\"275\"/><text fill=\"#000000\" font-family=\"sans-serif\" font-size=\"12\" font-style=\"italic\" lengthAdjust=\"spacingAndGlyphs\" textLength=\"75\" x=\"416\" y=\"291.1387\">«reference»</text><text fill=\"#000000\" font-family=\"sans-serif\" font-size=\"12\" lengthAdjust=\"spacingAndGlyphs\" textLength=\"133\" x=\"387\" y=\"305.1074\">q :&gt; VariabilityTest::q</text><line style=\"stroke: #383838; stroke-width: 1.5;\" x1=\"385\" x2=\"522\" y1=\"312.9375\" y2=\"312.9375\"/><text fill=\"#000000\" font-family=\"sans-serif\" font-size=\"11\" lengthAdjust=\"spacingAndGlyphs\" textLength=\"23\" x=\"390\" y=\"343.9526\">b: B</text><text fill=\"#000000\" font-family=\"sans-serif\" font-size=\"11\" font-style=\"italic\" lengthAdjust=\"spacingAndGlyphs\" textLength=\"44\" x=\"390\" y=\"356.7573\">:&gt;&gt;P::a</text><line style=\"stroke: #383838; stroke-width: 1.0;\" x1=\"385\" x2=\"426\" y1=\"327.3398\" y2=\"327.3398\"/><text fill=\"#000000\" font-family=\"sans-serif\" font-size=\"11\" lengthAdjust=\"spacingAndGlyphs\" textLength=\"55\" x=\"426\" y=\"330.6479\">attributes</text><line style=\"stroke: #383838; stroke-width: 1.0;\" x1=\"481\" x2=\"522\" y1=\"327.3398\" y2=\"327.3398\"/></a><!--MD5=[96f4274e9e20536e775497830990834d]\n",
       "class E10--><a href=\"psysml:48eaa747-84b8-4879-8d6b-33c104c23f89\" target=\"_top\" title=\"psysml:48eaa747-84b8-4879-8d6b-33c104c23f89\" xlink:actuate=\"onRequest\" xlink:href=\"psysml:48eaa747-84b8-4879-8d6b-33c104c23f89\" xlink:show=\"new\" xlink:title=\"psysml:48eaa747-84b8-4879-8d6b-33c104c23f89\" xlink:type=\"simple\"><rect fill=\"#FFFFFF\" height=\"45.9375\" id=\"E10\" rx=\"10\" ry=\"10\" style=\"stroke: #383838; stroke-width: 1.5;\" width=\"42\" x=\"206\" y=\"134\"/><text fill=\"#000000\" font-family=\"sans-serif\" font-size=\"12\" font-style=\"italic\" lengthAdjust=\"spacingAndGlyphs\" textLength=\"40\" x=\"207\" y=\"150.1387\">«part»</text><text fill=\"#000000\" font-family=\"sans-serif\" font-size=\"12\" lengthAdjust=\"spacingAndGlyphs\" textLength=\"22\" x=\"214\" y=\"164.1074\">y: P</text><line style=\"stroke: #383838; stroke-width: 1.5;\" x1=\"207\" x2=\"247\" y1=\"171.9375\" y2=\"171.9375\"/></a><!--MD5=[05d275557350bfb9b23a4ef7222b4c39]\n",
       "link E3 to E2--><a href=\"psysml:8fca0815-a461-4953-83e8-63ed8c86de29\" target=\"_top\" title=\"psysml:8fca0815-a461-4953-83e8-63ed8c86de29\" xlink:actuate=\"onRequest\" xlink:href=\"psysml:8fca0815-a461-4953-83e8-63ed8c86de29\" xlink:show=\"new\" xlink:title=\"psysml:8fca0815-a461-4953-83e8-63ed8c86de29\" xlink:type=\"simple\"><path d=\"M262.1,232.53 C298.3,226.73 356.03,217.47 398.44,210.67 \" fill=\"none\" id=\"E3-&gt;E2\" style=\"stroke: #383838; stroke-width: 1.0;\"/><polygon fill=\"none\" points=\"397.59,203.72,418.45,207.46,399.81,217.54,397.59,203.72\" style=\"stroke: #383838; stroke-width: 1.0;\"/></a><!--MD5=[15ebcb19ae302d9b601edb458606d402]\n",
       "link E5 to E2--><a href=\"psysml:80d735d5-abd9-4df4-b941-a11b60e81c18\" target=\"_top\" title=\"psysml:80d735d5-abd9-4df4-b941-a11b60e81c18\" xlink:actuate=\"onRequest\" xlink:href=\"psysml:80d735d5-abd9-4df4-b941-a11b60e81c18\" xlink:show=\"new\" xlink:title=\"psysml:80d735d5-abd9-4df4-b941-a11b60e81c18\" xlink:type=\"simple\"><path d=\"M262.1,95.14 C298.96,115.83 358.15,149.05 400.75,172.96 \" fill=\"none\" id=\"E5-&gt;E2\" style=\"stroke: #383838; stroke-width: 1.0;\"/><polygon fill=\"none\" points=\"404.44,167,418.45,182.89,397.58,179.21,404.44,167\" style=\"stroke: #383838; stroke-width: 1.0;\"/></a><!--MD5=[9120cf2e5df3bff93db8f754bbbc09b4]\n",
       "link E5 to E6--><a href=\"psysml:bbf94ce0-8140-4269-b805-c97e9315d509\" target=\"_top\" title=\"psysml:bbf94ce0-8140-4269-b805-c97e9315d509\" xlink:actuate=\"onRequest\" xlink:href=\"psysml:bbf94ce0-8140-4269-b805-c97e9315d509\" xlink:show=\"new\" xlink:title=\"psysml:bbf94ce0-8140-4269-b805-c97e9315d509\" xlink:type=\"simple\"><path d=\"M272.25,77.77 C312.76,79.4 372.24,81.78 411.64,83.36 \" fill=\"none\" id=\"E5-E6\" style=\"stroke: #383838; stroke-width: 1.0;\"/><polygon fill=\"#383838\" points=\"421.7,83.77,413.8265,80.4522,413.5863,86.4474,421.7,83.77\" style=\"stroke: #383838; stroke-width: 1.0;\"/><path d=\"M264.8372,85.9437 A9,9 0 0 0 265.5142 69.0427\" fill=\"none\" style=\"stroke: #383838; stroke-width: 1.5;\"/><text fill=\"#000000\" font-family=\"sans-serif\" font-size=\"13\" lengthAdjust=\"spacingAndGlyphs\" textLength=\"60\" x=\"293\" y=\"75.0669\">«variant»</text></a><!--MD5=[14ccda38c055a5c0da953d572bc50960]\n",
       "link E7 to E3--><a href=\"psysml:1a218306-3ccb-4021-8143-a6b7222dd125\" target=\"_top\" title=\"psysml:1a218306-3ccb-4021-8143-a6b7222dd125\" xlink:actuate=\"onRequest\" xlink:href=\"psysml:1a218306-3ccb-4021-8143-a6b7222dd125\" xlink:show=\"new\" xlink:title=\"psysml:1a218306-3ccb-4021-8143-a6b7222dd125\" xlink:type=\"simple\"><path d=\"M102.76,238 C120.62,238 147.49,238 171.59,238 \" fill=\"none\" id=\"E7-&gt;E3\" style=\"stroke: #383838; stroke-width: 1.0;\"/><polygon fill=\"#FFFFFF\" points=\"191.75,238,172.75,245,172.75,231,191.75,238\" style=\"stroke: #383838; stroke-width: 1.0;\"/><ellipse cx=\"167.05\" cy=\"243\" fill=\"#383838\" rx=\"2\" ry=\"2\" style=\"stroke: #383838; stroke-width: 1.0;\"/><ellipse cx=\"167.05\" cy=\"233\" fill=\"#383838\" rx=\"2\" ry=\"2\" style=\"stroke: #383838; stroke-width: 1.0;\"/></a><!--MD5=[f1f3f9f2fc535e6147756cb86a7f2e32]\n",
       "link E8 to E2--><a href=\"psysml:0a07ead6-b6a6-4f86-92cb-b01532aad754\" target=\"_top\" title=\"psysml:0a07ead6-b6a6-4f86-92cb-b01532aad754\" xlink:actuate=\"onRequest\" xlink:href=\"psysml:0a07ead6-b6a6-4f86-92cb-b01532aad754\" xlink:show=\"new\" xlink:title=\"psysml:0a07ead6-b6a6-4f86-92cb-b01532aad754\" xlink:type=\"simple\"><path d=\"M262.1,307.17 C298.96,286.81 358.15,254.11 400.75,230.58 \" fill=\"none\" id=\"E8-&gt;E2\" style=\"stroke: #383838; stroke-width: 1.0;\"/><polygon fill=\"#FFFFFF\" points=\"418.45,220.81,405.2065,236.1269,398.4347,223.8737,418.45,220.81\" style=\"stroke: #383838; stroke-width: 1.0;\"/><ellipse cx=\"399.2502\" cy=\"237.1336\" fill=\"#383838\" rx=\"2\" ry=\"2\" style=\"stroke: #383838; stroke-width: 1.0;\"/><ellipse cx=\"394.4132\" cy=\"228.3812\" fill=\"#383838\" rx=\"2\" ry=\"2\" style=\"stroke: #383838; stroke-width: 1.0;\"/></a><!--MD5=[ed10624c06dd9a4fa49ccf290e8b16a8]\n",
       "link E8 to E9--><a href=\"psysml:95cf767c-bf38-4d44-8a21-82e4671e1c7d\" target=\"_top\" title=\"psysml:95cf767c-bf38-4d44-8a21-82e4671e1c7d\" xlink:actuate=\"onRequest\" xlink:href=\"psysml:95cf767c-bf38-4d44-8a21-82e4671e1c7d\" xlink:show=\"new\" xlink:title=\"psysml:95cf767c-bf38-4d44-8a21-82e4671e1c7d\" xlink:type=\"simple\"><path d=\"M272.39,324.62 C301.14,323.72 339.41,322.53 373.28,321.47 \" fill=\"none\" id=\"E8-E9\" style=\"stroke: #383838; stroke-width: 1.0;\"/><polygon fill=\"#383838\" points=\"383.63,321.15,375.5397,318.4028,375.7282,324.3998,383.63,321.15\" style=\"stroke: #383838; stroke-width: 1.0;\"/><path d=\"M265.4427,333.2962 A9,9 0 0 0 264.9106 316.3901\" fill=\"none\" style=\"stroke: #383838; stroke-width: 1.5;\"/><text fill=\"#000000\" font-family=\"sans-serif\" font-size=\"13\" lengthAdjust=\"spacingAndGlyphs\" textLength=\"60\" x=\"293\" y=\"319.0669\">«variant»</text></a><!--MD5=[0f36bececdf0dff6e600d6f64214b0f1]\n",
       "link E10 to E2--><a href=\"psysml:6b6ac884-9cd9-45a3-8497-3c127dcfd472\" target=\"_top\" title=\"psysml:6b6ac884-9cd9-45a3-8497-3c127dcfd472\" xlink:actuate=\"onRequest\" xlink:href=\"psysml:6b6ac884-9cd9-45a3-8497-3c127dcfd472\" xlink:show=\"new\" xlink:title=\"psysml:6b6ac884-9cd9-45a3-8497-3c127dcfd472\" xlink:type=\"simple\"><path d=\"M248.32,161.07 C281.96,167.82 350.31,181.52 398.64,191.2 \" fill=\"none\" id=\"E10-&gt;E2\" style=\"stroke: #383838; stroke-width: 1.0;\"/><polygon fill=\"#FFFFFF\" points=\"418.29,195.14,398.2848,198.2694,401.0362,184.5425,418.29,195.14\" style=\"stroke: #383838; stroke-width: 1.0;\"/><ellipse cx=\"393.0891\" cy=\"195.1882\" fill=\"#383838\" rx=\"2\" ry=\"2\" style=\"stroke: #383838; stroke-width: 1.0;\"/><ellipse cx=\"395.0543\" cy=\"185.3833\" fill=\"#383838\" rx=\"2\" ry=\"2\" style=\"stroke: #383838; stroke-width: 1.0;\"/></a><!--MD5=[dcd45ebbf66f0bf6b8caf24e34c0bdc3]\n",
       "@startuml\r\n",
       "left to right direction\r\n",
       "skinparam monochrome true\r\n",
       "skinparam classbackgroundcolor white\r\n",
       "skinparam shadowing false\r\n",
       "skinparam wrapWidth 300\r\n",
       "hide circle\r\n",
       "\r\n",
       "package \"VariabilityTest\" as E1  [[psysml:54c28c65-c036-409b-a9ca-8f60ef8eadfb ]]  {\r\n",
       "comp def \"P\" as E2  <<(T,blue) part  def>> [[psysml:82cb16a2-9eb2-4cce-bbbe-e1592c7acc8b ]] {\r\n",
       "- - attributes - -\r\n",
       "a\r\n",
       "}\r\n",
       "comp def \"Q\" as E3  <<(T,blue) part  def>> [[psysml:2ef5dada-a649-4c80-bc3f-904ca5914f5d ]] {\r\n",
       "}\r\n",
       "comp def \"B\" as E4  <<(T,blue) attribute  def>> [[psysml:45188152-89ae-47db-8fae-185a328aceea ]] {\r\n",
       "}\r\n",
       "comp def \"<i>V</i>\" as E5  <<(T,blue) part  def>> [[psysml:e8a966fa-6247-410c-94c4-6750afcc6da8 ]] {\r\n",
       "}\r\n",
       "comp usage \"x: Q \" as E6  <<(T,blue) part>> [[psysml:10060237-19c5-40dc-a73e-8cb7e4953e81 ]] {\r\n",
       "- - attributes - -\r\n",
       "b: B\\n//:>>P::a// \r\n",
       "}\r\n",
       "comp usage \"q: Q \" as E7  <<(T,blue) part>> [[psysml:070ce293-3e12-454f-ad5b-be257c39d672 ]] {\r\n",
       "}\r\n",
       "comp usage \"<i>v</i>: P \" as E8  <<variation>>\\n <<(T,blue) part>> [[psysml:3367482b-ff59-4bbe-a9dc-fe1b4a2ad697 ]] {\r\n",
       "}\r\n",
       "comp usage \"q :> VariabilityTest::q\" as E9  <<(T,blue) reference>> [[psysml:80fa5ea3-437e-4eec-9e3d-5d2e24e12c28 ]] {\r\n",
       "- - attributes - -\r\n",
       "b: B\\n//:>>P::a// \r\n",
       "}\r\n",
       "comp usage \"y: P \" as E10  <<(T,blue) part>> [[psysml:48eaa747-84b8-4879-8d6b-33c104c23f89 ]] {\r\n",
       "}\r\n",
       "}\r\n",
       "E3 - -|> E2 [[psysml:8fca0815-a461-4953-83e8-63ed8c86de29 ]] \r\n",
       "E5 - -|> E2 [[psysml:80d735d5-abd9-4df4-b941-a11b60e81c18 ]] \r\n",
       "E5 )- ->> E6 [[psysml:bbf94ce0-8140-4269-b805-c97e9315d509 ]] : <<variant>>\r\n",
       "E7 - -:|> E3 [[psysml:1a218306-3ccb-4021-8143-a6b7222dd125 ]] \r\n",
       "E8 - -:|> E2 [[psysml:0a07ead6-b6a6-4f86-92cb-b01532aad754 ]] \r\n",
       "E8 )- ->> E9 [[psysml:95cf767c-bf38-4d44-8a21-82e4671e1c7d ]] : <<variant>>\r\n",
       "E10 - -:|> E2 [[psysml:6b6ac884-9cd9-45a3-8497-3c127dcfd472 ]] \r\n",
       "@enduml\r\n",
       "\n",
       "PlantUML version 1.2020.13(Sat Jun 13 12:26:38 UTC 2020)\n",
       "(EPL source distribution)\n",
       "Java Runtime: OpenJDK Runtime Environment\n",
       "JVM: OpenJDK 64-Bit Server VM\n",
       "Default Encoding: UTF-8\n",
       "Language: en\n",
       "Country: null\n",
       "--></g></svg>"
      ]
     },
     "execution_count": 16,
     "metadata": {},
     "output_type": "execute_result"
    }
   ],
   "source": [
    "%viz --style=\"LR\" --view=\"Default\" \"VariabilityTest\""
   ]
  },
  {
   "cell_type": "code",
   "execution_count": 17,
   "id": "532d3d3d",
   "metadata": {
    "execution": {
     "iopub.execute_input": "2021-10-25T08:21:42.406697Z",
     "iopub.status.busy": "2021-10-25T08:21:42.406282Z",
     "iopub.status.idle": "2021-10-25T08:21:42.498078Z",
     "shell.execute_reply": "2021-10-25T08:21:42.495791Z"
    }
   },
   "outputs": [
    {
     "data": {
      "image/svg+xml": [
       "<?xml version=\"1.0\" encoding=\"UTF-8\" standalone=\"no\"?><svg xmlns=\"http://www.w3.org/2000/svg\" xmlns:xlink=\"http://www.w3.org/1999/xlink\" contentScriptType=\"application/ecmascript\" contentStyleType=\"text/css\" height=\"391px\" preserveAspectRatio=\"none\" style=\"width:561px;height:391px;\" version=\"1.1\" viewBox=\"0 0 561 391\" width=\"561px\" zoomAndPan=\"magnify\"><defs/><g><!--MD5=[fbc87193dbaf4d95561dea2c320d4a47]\n",
       "cluster E1--><a href=\"psysml:54c28c65-c036-409b-a9ca-8f60ef8eadfb\" target=\"_top\" title=\"psysml:54c28c65-c036-409b-a9ca-8f60ef8eadfb\" xlink:actuate=\"onRequest\" xlink:href=\"psysml:54c28c65-c036-409b-a9ca-8f60ef8eadfb\" xlink:show=\"new\" xlink:title=\"psysml:54c28c65-c036-409b-a9ca-8f60ef8eadfb\" xlink:type=\"simple\"><polygon fill=\"#FFFFFF\" points=\"16,6,116,6,123,28.2969,539,28.2969,539,379,16,379,16,6\" style=\"stroke: #000000; stroke-width: 1.5;\"/><line style=\"stroke: #000000; stroke-width: 1.5;\" x1=\"16\" x2=\"123\" y1=\"28.2969\" y2=\"28.2969\"/><text fill=\"#000000\" font-family=\"sans-serif\" font-size=\"14\" font-weight=\"bold\" lengthAdjust=\"spacingAndGlyphs\" textLength=\"94\" x=\"20\" y=\"20.9951\">VariabilityTest</text></a><!--MD5=[b4997ac47864f28c2f74865a473b2911]\n",
       "class E2--><a href=\"psysml:82cb16a2-9eb2-4cce-bbbe-e1592c7acc8b\" target=\"_top\" title=\"psysml:82cb16a2-9eb2-4cce-bbbe-e1592c7acc8b\" xlink:actuate=\"onRequest\" xlink:href=\"psysml:82cb16a2-9eb2-4cce-bbbe-e1592c7acc8b\" xlink:show=\"new\" xlink:title=\"psysml:82cb16a2-9eb2-4cce-bbbe-e1592c7acc8b\" xlink:type=\"simple\"><rect fill=\"#FFFFFF\" height=\"75.5469\" id=\"E2\" style=\"stroke: #383838; stroke-width: 1.5;\" width=\"70\" x=\"418.5\" y=\"164\"/><text fill=\"#000000\" font-family=\"sans-serif\" font-size=\"12\" font-style=\"italic\" lengthAdjust=\"spacingAndGlyphs\" textLength=\"68\" x=\"419.5\" y=\"180.1387\">«part  def»</text><text fill=\"#000000\" font-family=\"sans-serif\" font-size=\"12\" lengthAdjust=\"spacingAndGlyphs\" textLength=\"8\" x=\"449.5\" y=\"194.1074\">P</text><line style=\"stroke: #383838; stroke-width: 1.5;\" x1=\"419.5\" x2=\"487.5\" y1=\"201.9375\" y2=\"201.9375\"/><text fill=\"#000000\" font-family=\"sans-serif\" font-size=\"11\" lengthAdjust=\"spacingAndGlyphs\" textLength=\"7\" x=\"424.5\" y=\"232.9526\">a</text><line style=\"stroke: #383838; stroke-width: 1.0;\" x1=\"419.5\" x2=\"426\" y1=\"216.3398\" y2=\"216.3398\"/><text fill=\"#000000\" font-family=\"sans-serif\" font-size=\"11\" lengthAdjust=\"spacingAndGlyphs\" textLength=\"55\" x=\"426\" y=\"219.6479\">attributes</text><line style=\"stroke: #383838; stroke-width: 1.0;\" x1=\"481\" x2=\"487.5\" y1=\"216.3398\" y2=\"216.3398\"/></a><!--MD5=[09b614a08d8cba4a07c9adeb5e0fee81]\n",
       "class E3--><a href=\"psysml:2ef5dada-a649-4c80-bc3f-904ca5914f5d\" target=\"_top\" title=\"psysml:2ef5dada-a649-4c80-bc3f-904ca5914f5d\" xlink:actuate=\"onRequest\" xlink:href=\"psysml:2ef5dada-a649-4c80-bc3f-904ca5914f5d\" xlink:show=\"new\" xlink:title=\"psysml:2ef5dada-a649-4c80-bc3f-904ca5914f5d\" xlink:type=\"simple\"><rect fill=\"#FFFFFF\" height=\"45.9375\" id=\"E3\" style=\"stroke: #383838; stroke-width: 1.5;\" width=\"70\" x=\"192\" y=\"215\"/><text fill=\"#000000\" font-family=\"sans-serif\" font-size=\"12\" font-style=\"italic\" lengthAdjust=\"spacingAndGlyphs\" textLength=\"68\" x=\"193\" y=\"231.1387\">«part  def»</text><text fill=\"#000000\" font-family=\"sans-serif\" font-size=\"12\" lengthAdjust=\"spacingAndGlyphs\" textLength=\"9\" x=\"222.5\" y=\"245.1074\">Q</text><line style=\"stroke: #383838; stroke-width: 1.5;\" x1=\"193\" x2=\"261\" y1=\"252.9375\" y2=\"252.9375\"/></a><!--MD5=[ebbe1d658d1005bcc118a6aa81145e00]\n",
       "class E4--><a href=\"psysml:45188152-89ae-47db-8fae-185a328aceea\" target=\"_top\" title=\"psysml:45188152-89ae-47db-8fae-185a328aceea\" xlink:actuate=\"onRequest\" xlink:href=\"psysml:45188152-89ae-47db-8fae-185a328aceea\" xlink:show=\"new\" xlink:title=\"psysml:45188152-89ae-47db-8fae-185a328aceea\" xlink:type=\"simple\"><rect fill=\"#FFFFFF\" height=\"45.9375\" id=\"E4\" style=\"stroke: #383838; stroke-width: 1.5;\" width=\"99\" x=\"32\" y=\"84\"/><text fill=\"#000000\" font-family=\"sans-serif\" font-size=\"12\" font-style=\"italic\" lengthAdjust=\"spacingAndGlyphs\" textLength=\"97\" x=\"33\" y=\"100.1387\">«attribute  def»</text><text fill=\"#000000\" font-family=\"sans-serif\" font-size=\"12\" lengthAdjust=\"spacingAndGlyphs\" textLength=\"8\" x=\"77.5\" y=\"114.1074\">B</text><line style=\"stroke: #383838; stroke-width: 1.5;\" x1=\"33\" x2=\"130\" y1=\"121.9375\" y2=\"121.9375\"/></a><!--MD5=[270fce915f116d4de14055a7c1d9a0f3]\n",
       "class E5--><a href=\"psysml:e8a966fa-6247-410c-94c4-6750afcc6da8\" target=\"_top\" title=\"psysml:e8a966fa-6247-410c-94c4-6750afcc6da8\" xlink:actuate=\"onRequest\" xlink:href=\"psysml:e8a966fa-6247-410c-94c4-6750afcc6da8\" xlink:show=\"new\" xlink:title=\"psysml:e8a966fa-6247-410c-94c4-6750afcc6da8\" xlink:type=\"simple\"><rect fill=\"#FFFFFF\" height=\"45.9375\" id=\"E5\" style=\"stroke: #383838; stroke-width: 1.5;\" width=\"70\" x=\"192\" y=\"53\"/><text fill=\"#000000\" font-family=\"sans-serif\" font-size=\"12\" font-style=\"italic\" lengthAdjust=\"spacingAndGlyphs\" textLength=\"68\" x=\"193\" y=\"69.1387\">«part  def»</text><text fill=\"#000000\" font-family=\"sans-serif\" font-size=\"12\" font-style=\"italic\" lengthAdjust=\"spacingAndGlyphs\" textLength=\"8\" x=\"223\" y=\"83.1074\">V</text><line style=\"stroke: #383838; stroke-width: 1.5;\" x1=\"193\" x2=\"261\" y1=\"90.9375\" y2=\"90.9375\"/></a><!--MD5=[60a26617385b1d2d0262a64233df1f8d]\n",
       "class E6--><a href=\"psysml:10060237-19c5-40dc-a73e-8cb7e4953e81\" target=\"_top\" title=\"psysml:10060237-19c5-40dc-a73e-8cb7e4953e81\" xlink:actuate=\"onRequest\" xlink:href=\"psysml:10060237-19c5-40dc-a73e-8cb7e4953e81\" xlink:show=\"new\" xlink:title=\"psysml:10060237-19c5-40dc-a73e-8cb7e4953e81\" xlink:type=\"simple\"><rect fill=\"#FFFFFF\" height=\"88.3516\" id=\"E6\" rx=\"10\" ry=\"10\" style=\"stroke: #383838; stroke-width: 1.5;\" width=\"63\" x=\"422\" y=\"41\"/><text fill=\"#000000\" font-family=\"sans-serif\" font-size=\"12\" font-style=\"italic\" lengthAdjust=\"spacingAndGlyphs\" textLength=\"40\" x=\"433.5\" y=\"57.1387\">«part»</text><text fill=\"#000000\" font-family=\"sans-serif\" font-size=\"12\" lengthAdjust=\"spacingAndGlyphs\" textLength=\"23\" x=\"440\" y=\"71.1074\">x: Q</text><line style=\"stroke: #383838; stroke-width: 1.5;\" x1=\"423\" x2=\"484\" y1=\"78.9375\" y2=\"78.9375\"/><text fill=\"#000000\" font-family=\"sans-serif\" font-size=\"11\" lengthAdjust=\"spacingAndGlyphs\" textLength=\"23\" x=\"428\" y=\"109.9526\">b: B</text><text fill=\"#000000\" font-family=\"sans-serif\" font-size=\"11\" font-style=\"italic\" lengthAdjust=\"spacingAndGlyphs\" textLength=\"44\" x=\"428\" y=\"122.7573\">:&gt;&gt;P::a</text><line style=\"stroke: #383838; stroke-width: 1.0;\" x1=\"423\" x2=\"426\" y1=\"93.3398\" y2=\"93.3398\"/><text fill=\"#000000\" font-family=\"sans-serif\" font-size=\"11\" lengthAdjust=\"spacingAndGlyphs\" textLength=\"55\" x=\"426\" y=\"96.6479\">attributes</text><line style=\"stroke: #383838; stroke-width: 1.0;\" x1=\"481\" x2=\"484\" y1=\"93.3398\" y2=\"93.3398\"/></a><!--MD5=[2156ba9850f5573cc1fc38a6a4b2f02b]\n",
       "class E7--><a href=\"psysml:070ce293-3e12-454f-ad5b-be257c39d672\" target=\"_top\" title=\"psysml:070ce293-3e12-454f-ad5b-be257c39d672\" xlink:actuate=\"onRequest\" xlink:href=\"psysml:070ce293-3e12-454f-ad5b-be257c39d672\" xlink:show=\"new\" xlink:title=\"psysml:070ce293-3e12-454f-ad5b-be257c39d672\" xlink:type=\"simple\"><rect fill=\"#FFFFFF\" height=\"45.9375\" id=\"E7\" rx=\"10\" ry=\"10\" style=\"stroke: #383838; stroke-width: 1.5;\" width=\"42\" x=\"60.5\" y=\"215\"/><text fill=\"#000000\" font-family=\"sans-serif\" font-size=\"12\" font-style=\"italic\" lengthAdjust=\"spacingAndGlyphs\" textLength=\"40\" x=\"61.5\" y=\"231.1387\">«part»</text><text fill=\"#000000\" font-family=\"sans-serif\" font-size=\"12\" lengthAdjust=\"spacingAndGlyphs\" textLength=\"25\" x=\"67\" y=\"245.1074\">q: Q</text><line style=\"stroke: #383838; stroke-width: 1.5;\" x1=\"61.5\" x2=\"101.5\" y1=\"252.9375\" y2=\"252.9375\"/></a><!--MD5=[b9389687b975829384b498ac4b7476b2]\n",
       "class E8--><a href=\"psysml:3367482b-ff59-4bbe-a9dc-fe1b4a2ad697\" target=\"_top\" title=\"psysml:3367482b-ff59-4bbe-a9dc-fe1b4a2ad697\" xlink:actuate=\"onRequest\" xlink:href=\"psysml:3367482b-ff59-4bbe-a9dc-fe1b4a2ad697\" xlink:show=\"new\" xlink:title=\"psysml:3367482b-ff59-4bbe-a9dc-fe1b4a2ad697\" xlink:type=\"simple\"><rect fill=\"#FFFFFF\" height=\"59.9063\" id=\"E8\" rx=\"10\" ry=\"10\" style=\"stroke: #383838; stroke-width: 1.5;\" width=\"70\" x=\"192\" y=\"296\"/><text fill=\"#000000\" font-family=\"sans-serif\" font-size=\"12\" font-style=\"italic\" lengthAdjust=\"spacingAndGlyphs\" textLength=\"68\" x=\"193\" y=\"312.1387\">«variation»</text><text fill=\"#000000\" font-family=\"sans-serif\" font-size=\"12\" font-style=\"italic\" lengthAdjust=\"spacingAndGlyphs\" textLength=\"40\" x=\"207\" y=\"326.1074\">«part»</text><text fill=\"#000000\" font-family=\"sans-serif\" font-size=\"12\" font-style=\"italic\" lengthAdjust=\"spacingAndGlyphs\" textLength=\"6\" x=\"214\" y=\"340.0762\">v</text><text fill=\"#000000\" font-family=\"sans-serif\" font-size=\"12\" lengthAdjust=\"spacingAndGlyphs\" textLength=\"16\" x=\"220\" y=\"340.0762\">: P</text><line style=\"stroke: #383838; stroke-width: 1.5;\" x1=\"193\" x2=\"261\" y1=\"347.9063\" y2=\"347.9063\"/></a><!--MD5=[fd4143e9d270a159db93a4ea2a975926]\n",
       "class E9--><a href=\"psysml:80fa5ea3-437e-4eec-9e3d-5d2e24e12c28\" target=\"_top\" title=\"psysml:80fa5ea3-437e-4eec-9e3d-5d2e24e12c28\" xlink:actuate=\"onRequest\" xlink:href=\"psysml:80fa5ea3-437e-4eec-9e3d-5d2e24e12c28\" xlink:show=\"new\" xlink:title=\"psysml:80fa5ea3-437e-4eec-9e3d-5d2e24e12c28\" xlink:type=\"simple\"><rect fill=\"#FFFFFF\" height=\"88.3516\" id=\"E9\" rx=\"10\" ry=\"10\" style=\"stroke: #383838; stroke-width: 1.5;\" width=\"139\" x=\"384\" y=\"275\"/><text fill=\"#000000\" font-family=\"sans-serif\" font-size=\"12\" font-style=\"italic\" lengthAdjust=\"spacingAndGlyphs\" textLength=\"75\" x=\"416\" y=\"291.1387\">«reference»</text><text fill=\"#000000\" font-family=\"sans-serif\" font-size=\"12\" lengthAdjust=\"spacingAndGlyphs\" textLength=\"133\" x=\"387\" y=\"305.1074\">q :&gt; VariabilityTest::q</text><line style=\"stroke: #383838; stroke-width: 1.5;\" x1=\"385\" x2=\"522\" y1=\"312.9375\" y2=\"312.9375\"/><text fill=\"#000000\" font-family=\"sans-serif\" font-size=\"11\" lengthAdjust=\"spacingAndGlyphs\" textLength=\"23\" x=\"390\" y=\"343.9526\">b: B</text><text fill=\"#000000\" font-family=\"sans-serif\" font-size=\"11\" font-style=\"italic\" lengthAdjust=\"spacingAndGlyphs\" textLength=\"44\" x=\"390\" y=\"356.7573\">:&gt;&gt;P::a</text><line style=\"stroke: #383838; stroke-width: 1.0;\" x1=\"385\" x2=\"426\" y1=\"327.3398\" y2=\"327.3398\"/><text fill=\"#000000\" font-family=\"sans-serif\" font-size=\"11\" lengthAdjust=\"spacingAndGlyphs\" textLength=\"55\" x=\"426\" y=\"330.6479\">attributes</text><line style=\"stroke: #383838; stroke-width: 1.0;\" x1=\"481\" x2=\"522\" y1=\"327.3398\" y2=\"327.3398\"/></a><!--MD5=[96f4274e9e20536e775497830990834d]\n",
       "class E10--><a href=\"psysml:48eaa747-84b8-4879-8d6b-33c104c23f89\" target=\"_top\" title=\"psysml:48eaa747-84b8-4879-8d6b-33c104c23f89\" xlink:actuate=\"onRequest\" xlink:href=\"psysml:48eaa747-84b8-4879-8d6b-33c104c23f89\" xlink:show=\"new\" xlink:title=\"psysml:48eaa747-84b8-4879-8d6b-33c104c23f89\" xlink:type=\"simple\"><rect fill=\"#FFFFFF\" height=\"45.9375\" id=\"E10\" rx=\"10\" ry=\"10\" style=\"stroke: #383838; stroke-width: 1.5;\" width=\"42\" x=\"206\" y=\"134\"/><text fill=\"#000000\" font-family=\"sans-serif\" font-size=\"12\" font-style=\"italic\" lengthAdjust=\"spacingAndGlyphs\" textLength=\"40\" x=\"207\" y=\"150.1387\">«part»</text><text fill=\"#000000\" font-family=\"sans-serif\" font-size=\"12\" lengthAdjust=\"spacingAndGlyphs\" textLength=\"22\" x=\"214\" y=\"164.1074\">y: P</text><line style=\"stroke: #383838; stroke-width: 1.5;\" x1=\"207\" x2=\"247\" y1=\"171.9375\" y2=\"171.9375\"/></a><!--MD5=[05d275557350bfb9b23a4ef7222b4c39]\n",
       "link E3 to E2--><a href=\"psysml:8fca0815-a461-4953-83e8-63ed8c86de29\" target=\"_top\" title=\"psysml:8fca0815-a461-4953-83e8-63ed8c86de29\" xlink:actuate=\"onRequest\" xlink:href=\"psysml:8fca0815-a461-4953-83e8-63ed8c86de29\" xlink:show=\"new\" xlink:title=\"psysml:8fca0815-a461-4953-83e8-63ed8c86de29\" xlink:type=\"simple\"><path d=\"M262.1,232.53 C298.3,226.73 356.03,217.47 398.44,210.67 \" fill=\"none\" id=\"E3-&gt;E2\" style=\"stroke: #383838; stroke-width: 1.0;\"/><polygon fill=\"none\" points=\"397.59,203.72,418.45,207.46,399.81,217.54,397.59,203.72\" style=\"stroke: #383838; stroke-width: 1.0;\"/></a><!--MD5=[15ebcb19ae302d9b601edb458606d402]\n",
       "link E5 to E2--><a href=\"psysml:80d735d5-abd9-4df4-b941-a11b60e81c18\" target=\"_top\" title=\"psysml:80d735d5-abd9-4df4-b941-a11b60e81c18\" xlink:actuate=\"onRequest\" xlink:href=\"psysml:80d735d5-abd9-4df4-b941-a11b60e81c18\" xlink:show=\"new\" xlink:title=\"psysml:80d735d5-abd9-4df4-b941-a11b60e81c18\" xlink:type=\"simple\"><path d=\"M262.1,95.14 C298.96,115.83 358.15,149.05 400.75,172.96 \" fill=\"none\" id=\"E5-&gt;E2\" style=\"stroke: #383838; stroke-width: 1.0;\"/><polygon fill=\"none\" points=\"404.44,167,418.45,182.89,397.58,179.21,404.44,167\" style=\"stroke: #383838; stroke-width: 1.0;\"/></a><!--MD5=[9120cf2e5df3bff93db8f754bbbc09b4]\n",
       "link E5 to E6--><a href=\"psysml:bbf94ce0-8140-4269-b805-c97e9315d509\" target=\"_top\" title=\"psysml:bbf94ce0-8140-4269-b805-c97e9315d509\" xlink:actuate=\"onRequest\" xlink:href=\"psysml:bbf94ce0-8140-4269-b805-c97e9315d509\" xlink:show=\"new\" xlink:title=\"psysml:bbf94ce0-8140-4269-b805-c97e9315d509\" xlink:type=\"simple\"><path d=\"M272.25,77.77 C312.76,79.4 372.24,81.78 411.64,83.36 \" fill=\"none\" id=\"E5-E6\" style=\"stroke: #383838; stroke-width: 1.0;\"/><polygon fill=\"#383838\" points=\"421.7,83.77,413.8265,80.4522,413.5863,86.4474,421.7,83.77\" style=\"stroke: #383838; stroke-width: 1.0;\"/><path d=\"M264.8372,85.9437 A9,9 0 0 0 265.5142 69.0427\" fill=\"none\" style=\"stroke: #383838; stroke-width: 1.5;\"/><text fill=\"#000000\" font-family=\"sans-serif\" font-size=\"13\" lengthAdjust=\"spacingAndGlyphs\" textLength=\"60\" x=\"293\" y=\"75.0669\">«variant»</text></a><!--MD5=[14ccda38c055a5c0da953d572bc50960]\n",
       "link E7 to E3--><a href=\"psysml:1a218306-3ccb-4021-8143-a6b7222dd125\" target=\"_top\" title=\"psysml:1a218306-3ccb-4021-8143-a6b7222dd125\" xlink:actuate=\"onRequest\" xlink:href=\"psysml:1a218306-3ccb-4021-8143-a6b7222dd125\" xlink:show=\"new\" xlink:title=\"psysml:1a218306-3ccb-4021-8143-a6b7222dd125\" xlink:type=\"simple\"><path d=\"M102.76,238 C120.62,238 147.49,238 171.59,238 \" fill=\"none\" id=\"E7-&gt;E3\" style=\"stroke: #383838; stroke-width: 1.0;\"/><polygon fill=\"#FFFFFF\" points=\"191.75,238,172.75,245,172.75,231,191.75,238\" style=\"stroke: #383838; stroke-width: 1.0;\"/><ellipse cx=\"167.05\" cy=\"243\" fill=\"#383838\" rx=\"2\" ry=\"2\" style=\"stroke: #383838; stroke-width: 1.0;\"/><ellipse cx=\"167.05\" cy=\"233\" fill=\"#383838\" rx=\"2\" ry=\"2\" style=\"stroke: #383838; stroke-width: 1.0;\"/></a><!--MD5=[f1f3f9f2fc535e6147756cb86a7f2e32]\n",
       "link E8 to E2--><a href=\"psysml:0a07ead6-b6a6-4f86-92cb-b01532aad754\" target=\"_top\" title=\"psysml:0a07ead6-b6a6-4f86-92cb-b01532aad754\" xlink:actuate=\"onRequest\" xlink:href=\"psysml:0a07ead6-b6a6-4f86-92cb-b01532aad754\" xlink:show=\"new\" xlink:title=\"psysml:0a07ead6-b6a6-4f86-92cb-b01532aad754\" xlink:type=\"simple\"><path d=\"M262.1,307.17 C298.96,286.81 358.15,254.11 400.75,230.58 \" fill=\"none\" id=\"E8-&gt;E2\" style=\"stroke: #383838; stroke-width: 1.0;\"/><polygon fill=\"#FFFFFF\" points=\"418.45,220.81,405.2065,236.1269,398.4347,223.8737,418.45,220.81\" style=\"stroke: #383838; stroke-width: 1.0;\"/><ellipse cx=\"399.2502\" cy=\"237.1336\" fill=\"#383838\" rx=\"2\" ry=\"2\" style=\"stroke: #383838; stroke-width: 1.0;\"/><ellipse cx=\"394.4132\" cy=\"228.3812\" fill=\"#383838\" rx=\"2\" ry=\"2\" style=\"stroke: #383838; stroke-width: 1.0;\"/></a><!--MD5=[ed10624c06dd9a4fa49ccf290e8b16a8]\n",
       "link E8 to E9--><a href=\"psysml:95cf767c-bf38-4d44-8a21-82e4671e1c7d\" target=\"_top\" title=\"psysml:95cf767c-bf38-4d44-8a21-82e4671e1c7d\" xlink:actuate=\"onRequest\" xlink:href=\"psysml:95cf767c-bf38-4d44-8a21-82e4671e1c7d\" xlink:show=\"new\" xlink:title=\"psysml:95cf767c-bf38-4d44-8a21-82e4671e1c7d\" xlink:type=\"simple\"><path d=\"M272.39,324.62 C301.14,323.72 339.41,322.53 373.28,321.47 \" fill=\"none\" id=\"E8-E9\" style=\"stroke: #383838; stroke-width: 1.0;\"/><polygon fill=\"#383838\" points=\"383.63,321.15,375.5397,318.4028,375.7282,324.3998,383.63,321.15\" style=\"stroke: #383838; stroke-width: 1.0;\"/><path d=\"M265.4427,333.2962 A9,9 0 0 0 264.9106 316.3901\" fill=\"none\" style=\"stroke: #383838; stroke-width: 1.5;\"/><text fill=\"#000000\" font-family=\"sans-serif\" font-size=\"13\" lengthAdjust=\"spacingAndGlyphs\" textLength=\"60\" x=\"293\" y=\"319.0669\">«variant»</text></a><!--MD5=[0f36bececdf0dff6e600d6f64214b0f1]\n",
       "link E10 to E2--><a href=\"psysml:6b6ac884-9cd9-45a3-8497-3c127dcfd472\" target=\"_top\" title=\"psysml:6b6ac884-9cd9-45a3-8497-3c127dcfd472\" xlink:actuate=\"onRequest\" xlink:href=\"psysml:6b6ac884-9cd9-45a3-8497-3c127dcfd472\" xlink:show=\"new\" xlink:title=\"psysml:6b6ac884-9cd9-45a3-8497-3c127dcfd472\" xlink:type=\"simple\"><path d=\"M248.32,161.07 C281.96,167.82 350.31,181.52 398.64,191.2 \" fill=\"none\" id=\"E10-&gt;E2\" style=\"stroke: #383838; stroke-width: 1.0;\"/><polygon fill=\"#FFFFFF\" points=\"418.29,195.14,398.2848,198.2694,401.0362,184.5425,418.29,195.14\" style=\"stroke: #383838; stroke-width: 1.0;\"/><ellipse cx=\"393.0891\" cy=\"195.1882\" fill=\"#383838\" rx=\"2\" ry=\"2\" style=\"stroke: #383838; stroke-width: 1.0;\"/><ellipse cx=\"395.0543\" cy=\"185.3833\" fill=\"#383838\" rx=\"2\" ry=\"2\" style=\"stroke: #383838; stroke-width: 1.0;\"/></a><!--MD5=[dcd45ebbf66f0bf6b8caf24e34c0bdc3]\n",
       "@startuml\r\n",
       "left to right direction\r\n",
       "skinparam monochrome true\r\n",
       "skinparam classbackgroundcolor white\r\n",
       "skinparam shadowing false\r\n",
       "skinparam wrapWidth 300\r\n",
       "hide circle\r\n",
       "\r\n",
       "package \"VariabilityTest\" as E1  [[psysml:54c28c65-c036-409b-a9ca-8f60ef8eadfb ]]  {\r\n",
       "comp def \"P\" as E2  <<(T,blue) part  def>> [[psysml:82cb16a2-9eb2-4cce-bbbe-e1592c7acc8b ]] {\r\n",
       "- - attributes - -\r\n",
       "a\r\n",
       "}\r\n",
       "comp def \"Q\" as E3  <<(T,blue) part  def>> [[psysml:2ef5dada-a649-4c80-bc3f-904ca5914f5d ]] {\r\n",
       "}\r\n",
       "comp def \"B\" as E4  <<(T,blue) attribute  def>> [[psysml:45188152-89ae-47db-8fae-185a328aceea ]] {\r\n",
       "}\r\n",
       "comp def \"<i>V</i>\" as E5  <<(T,blue) part  def>> [[psysml:e8a966fa-6247-410c-94c4-6750afcc6da8 ]] {\r\n",
       "}\r\n",
       "comp usage \"x: Q \" as E6  <<(T,blue) part>> [[psysml:10060237-19c5-40dc-a73e-8cb7e4953e81 ]] {\r\n",
       "- - attributes - -\r\n",
       "b: B\\n//:>>P::a// \r\n",
       "}\r\n",
       "comp usage \"q: Q \" as E7  <<(T,blue) part>> [[psysml:070ce293-3e12-454f-ad5b-be257c39d672 ]] {\r\n",
       "}\r\n",
       "comp usage \"<i>v</i>: P \" as E8  <<variation>>\\n <<(T,blue) part>> [[psysml:3367482b-ff59-4bbe-a9dc-fe1b4a2ad697 ]] {\r\n",
       "}\r\n",
       "comp usage \"q :> VariabilityTest::q\" as E9  <<(T,blue) reference>> [[psysml:80fa5ea3-437e-4eec-9e3d-5d2e24e12c28 ]] {\r\n",
       "- - attributes - -\r\n",
       "b: B\\n//:>>P::a// \r\n",
       "}\r\n",
       "comp usage \"y: P \" as E10  <<(T,blue) part>> [[psysml:48eaa747-84b8-4879-8d6b-33c104c23f89 ]] {\r\n",
       "}\r\n",
       "}\r\n",
       "E3 - -|> E2 [[psysml:8fca0815-a461-4953-83e8-63ed8c86de29 ]] \r\n",
       "E5 - -|> E2 [[psysml:80d735d5-abd9-4df4-b941-a11b60e81c18 ]] \r\n",
       "E5 )- ->> E6 [[psysml:bbf94ce0-8140-4269-b805-c97e9315d509 ]] : <<variant>>\r\n",
       "E7 - -:|> E3 [[psysml:1a218306-3ccb-4021-8143-a6b7222dd125 ]] \r\n",
       "E8 - -:|> E2 [[psysml:0a07ead6-b6a6-4f86-92cb-b01532aad754 ]] \r\n",
       "E8 )- ->> E9 [[psysml:95cf767c-bf38-4d44-8a21-82e4671e1c7d ]] : <<variant>>\r\n",
       "E10 - -:|> E2 [[psysml:6b6ac884-9cd9-45a3-8497-3c127dcfd472 ]] \r\n",
       "@enduml\r\n",
       "\n",
       "PlantUML version 1.2020.13(Sat Jun 13 12:26:38 UTC 2020)\n",
       "(EPL source distribution)\n",
       "Java Runtime: OpenJDK Runtime Environment\n",
       "JVM: OpenJDK 64-Bit Server VM\n",
       "Default Encoding: UTF-8\n",
       "Language: en\n",
       "Country: null\n",
       "--></g></svg>"
      ]
     },
     "execution_count": 17,
     "metadata": {},
     "output_type": "execute_result"
    }
   ],
   "source": [
    "%viz --style=\"LR\" --view=\"Tree\" \"VariabilityTest\""
   ]
  },
  {
   "cell_type": "code",
   "execution_count": 18,
   "id": "adce3197",
   "metadata": {
    "execution": {
     "iopub.execute_input": "2021-10-25T08:21:42.546635Z",
     "iopub.status.busy": "2021-10-25T08:21:42.546230Z",
     "iopub.status.idle": "2021-10-25T08:21:42.551698Z",
     "shell.execute_reply": "2021-10-25T08:21:42.551366Z"
    }
   },
   "outputs": [
    {
     "data": {
      "image/svg+xml": [
       "<?xml version=\"1.0\" encoding=\"UTF-8\" standalone=\"no\"?><svg xmlns=\"http://www.w3.org/2000/svg\" xmlns:xlink=\"http://www.w3.org/1999/xlink\" contentScriptType=\"application/ecmascript\" contentStyleType=\"text/css\" height=\"12px\" preserveAspectRatio=\"none\" style=\"width:12px;height:12px;\" version=\"1.1\" viewBox=\"0 0 12 12\" width=\"12px\" zoomAndPan=\"magnify\"><defs/><g><!--MD5=[19d285c9d72a204eba4e2cd117d745e8]\n",
       "@startuml\r\n",
       "left to right direction\r\n",
       "skinparam monochrome true\r\n",
       "skinparam classbackgroundcolor white\r\n",
       "skinparam shadowing false\r\n",
       "skinparam wrapWidth 300\r\n",
       "hide circle\r\n",
       "\r\n",
       "@enduml\r\n",
       "\n",
       "PlantUML version 1.2020.13(Sat Jun 13 12:26:38 UTC 2020)\n",
       "(EPL source distribution)\n",
       "Java Runtime: OpenJDK Runtime Environment\n",
       "JVM: OpenJDK 64-Bit Server VM\n",
       "Default Encoding: UTF-8\n",
       "Language: en\n",
       "Country: null\n",
       "--></g></svg>"
      ]
     },
     "execution_count": 18,
     "metadata": {},
     "output_type": "execute_result"
    }
   ],
   "source": [
    "%viz --style=\"LR\" --view=\"State\" \"VariabilityTest\""
   ]
  },
  {
   "cell_type": "code",
   "execution_count": 19,
   "id": "7bf9e115",
   "metadata": {
    "execution": {
     "iopub.execute_input": "2021-10-25T08:21:42.600837Z",
     "iopub.status.busy": "2021-10-25T08:21:42.600435Z",
     "iopub.status.idle": "2021-10-25T08:21:42.674509Z",
     "shell.execute_reply": "2021-10-25T08:21:42.674160Z"
    }
   },
   "outputs": [
    {
     "data": {
      "image/svg+xml": [
       "<?xml version=\"1.0\" encoding=\"UTF-8\" standalone=\"no\"?><svg xmlns=\"http://www.w3.org/2000/svg\" xmlns:xlink=\"http://www.w3.org/1999/xlink\" contentScriptType=\"application/ecmascript\" contentStyleType=\"text/css\" height=\"723px\" preserveAspectRatio=\"none\" style=\"width:416px;height:723px;\" version=\"1.1\" viewBox=\"0 0 416 723\" width=\"416px\" zoomAndPan=\"magnify\"><defs/><g><!--MD5=[fbc87193dbaf4d95561dea2c320d4a47]\n",
       "cluster E1--><a href=\"psysml:54c28c65-c036-409b-a9ca-8f60ef8eadfb\" target=\"_top\" title=\"psysml:54c28c65-c036-409b-a9ca-8f60ef8eadfb\" xlink:actuate=\"onRequest\" xlink:href=\"psysml:54c28c65-c036-409b-a9ca-8f60ef8eadfb\" xlink:show=\"new\" xlink:title=\"psysml:54c28c65-c036-409b-a9ca-8f60ef8eadfb\" xlink:type=\"simple\"><polygon fill=\"#FFFFFF\" points=\"16,6,116,6,123,28.2969,394,28.2969,394,711,16,711,16,6\" style=\"stroke: #000000; stroke-width: 1.5;\"/><line style=\"stroke: #000000; stroke-width: 1.5;\" x1=\"16\" x2=\"123\" y1=\"28.2969\" y2=\"28.2969\"/><text fill=\"#000000\" font-family=\"sans-serif\" font-size=\"14\" font-weight=\"bold\" lengthAdjust=\"spacingAndGlyphs\" textLength=\"94\" x=\"20\" y=\"20.9951\">VariabilityTest</text></a><!--MD5=[e4f7fae6ed58524ba242bb0b0d3be6b7]\n",
       "cluster E2--><a href=\"psysml:82cb16a2-9eb2-4cce-bbbe-e1592c7acc8b\" target=\"_top\" title=\"psysml:82cb16a2-9eb2-4cce-bbbe-e1592c7acc8b\" xlink:actuate=\"onRequest\" xlink:href=\"psysml:82cb16a2-9eb2-4cce-bbbe-e1592c7acc8b\" xlink:show=\"new\" xlink:title=\"psysml:82cb16a2-9eb2-4cce-bbbe-e1592c7acc8b\" xlink:type=\"simple\"><rect fill=\"#FFFFFF\" height=\"148\" id=\"E2\" style=\"stroke: #383838; stroke-width: 1.5;\" width=\"119\" x=\"243\" y=\"234\"/><rect fill=\"#F8F8F8\" height=\"37.9375\" style=\"stroke: #383838; stroke-width: 1.5;\" width=\"119\" x=\"243\" y=\"234\"/><text fill=\"#000000\" font-family=\"sans-serif\" font-size=\"12\" font-style=\"italic\" lengthAdjust=\"spacingAndGlyphs\" textLength=\"68\" x=\"268.5\" y=\"250.1387\">«part  def»</text><text fill=\"#000000\" font-family=\"sans-serif\" font-size=\"12\" lengthAdjust=\"spacingAndGlyphs\" textLength=\"8\" x=\"298.5\" y=\"264.1074\">P</text></a><!--MD5=[14e3b0961a2654348d326746436168a1]\n",
       "cluster E6--><a href=\"psysml:e8a966fa-6247-410c-94c4-6750afcc6da8\" target=\"_top\" title=\"psysml:e8a966fa-6247-410c-94c4-6750afcc6da8\" xlink:actuate=\"onRequest\" xlink:href=\"psysml:e8a966fa-6247-410c-94c4-6750afcc6da8\" xlink:show=\"new\" xlink:title=\"psysml:e8a966fa-6247-410c-94c4-6750afcc6da8\" xlink:type=\"simple\"><rect fill=\"#FFFFFF\" height=\"176\" id=\"E6\" style=\"stroke: #383838; stroke-width: 1.5;\" width=\"111\" x=\"70\" y=\"57\"/><rect fill=\"#F8F8F8\" height=\"37.9375\" style=\"stroke: #383838; stroke-width: 1.5;\" width=\"111\" x=\"70\" y=\"57\"/><text fill=\"#000000\" font-family=\"sans-serif\" font-size=\"12\" font-style=\"italic\" lengthAdjust=\"spacingAndGlyphs\" textLength=\"68\" x=\"91.5\" y=\"73.1387\">«part  def»</text><text fill=\"#000000\" font-family=\"sans-serif\" font-size=\"12\" font-style=\"italic\" lengthAdjust=\"spacingAndGlyphs\" textLength=\"8\" x=\"121.5\" y=\"87.1074\">V</text></a><!--MD5=[7f149f147074ac12df2cb0a7728a5fb0]\n",
       "cluster E9--><a href=\"psysml:3367482b-ff59-4bbe-a9dc-fe1b4a2ad697\" target=\"_top\" title=\"psysml:3367482b-ff59-4bbe-a9dc-fe1b4a2ad697\" xlink:actuate=\"onRequest\" xlink:href=\"psysml:3367482b-ff59-4bbe-a9dc-fe1b4a2ad697\" xlink:show=\"new\" xlink:title=\"psysml:3367482b-ff59-4bbe-a9dc-fe1b4a2ad697\" xlink:type=\"simple\"><rect fill=\"#FFFFFF\" height=\"139\" id=\"E9\" rx=\"10\" ry=\"10\" style=\"stroke: #383838; stroke-width: 1.5;\" width=\"171\" x=\"40\" y=\"265\"/><rect fill=\"#F8F8F8\" height=\"23.9688\" rx=\"10\" ry=\"10\" style=\"stroke: #F8F8F8; stroke-width: 1.5;\" width=\"171\" x=\"40\" y=\"265\"/><rect fill=\"#F8F8F8\" height=\"10\" style=\"stroke: #F8F8F8; stroke-width: 1.5;\" width=\"171\" x=\"40\" y=\"278.9688\"/><rect fill=\"none\" height=\"139\" id=\"E9\" rx=\"10\" ry=\"10\" style=\"stroke: #383838; stroke-width: 1.5;\" width=\"171\" x=\"40\" y=\"265\"/><text fill=\"#000000\" font-family=\"sans-serif\" font-size=\"12\" lengthAdjust=\"spacingAndGlyphs\" textLength=\"22\" x=\"114.5\" y=\"281.1387\">v: P</text><line style=\"stroke: #383838; stroke-width: 1.0;\" x1=\"40\" x2=\"211\" y1=\"288.9688\" y2=\"288.9688\"/></a><g id=\"E1.E5\"><a href=\"psysml:45188152-89ae-47db-8fae-185a328aceea\" target=\"_top\" title=\"psysml:45188152-89ae-47db-8fae-185a328aceea\" xlink:actuate=\"onRequest\" xlink:href=\"psysml:45188152-89ae-47db-8fae-185a328aceea\" xlink:show=\"new\" xlink:title=\"psysml:45188152-89ae-47db-8fae-185a328aceea\" xlink:type=\"simple\"><rect fill=\"#FFFFFF\" height=\"42.9375\" id=\"E5\" style=\"stroke: #383838; stroke-width: 1.5;\" width=\"104\" x=\"73.5\" y=\"423.5\"/><rect fill=\"#F8F8F8\" height=\"37.9375\" style=\"stroke: #383838; stroke-width: 1.5;\" width=\"104\" x=\"73.5\" y=\"423.5\"/><text fill=\"#000000\" font-family=\"sans-serif\" font-size=\"12\" font-style=\"italic\" lengthAdjust=\"spacingAndGlyphs\" textLength=\"97\" x=\"77\" y=\"439.6387\">«attribute  def»</text><text fill=\"#000000\" font-family=\"sans-serif\" font-size=\"12\" lengthAdjust=\"spacingAndGlyphs\" textLength=\"8\" x=\"121.5\" y=\"453.6074\">B</text></a></g><!--MD5=[09b614a08d8cba4a07c9adeb5e0fee81]\n",
       "class E3--><a href=\"psysml:b3756095-16bb-4cb1-b9cb-a9f1f269c560\" target=\"_top\" title=\"psysml:b3756095-16bb-4cb1-b9cb-a9f1f269c560\" xlink:actuate=\"onRequest\" xlink:href=\"psysml:b3756095-16bb-4cb1-b9cb-a9f1f269c560\" xlink:show=\"new\" xlink:title=\"psysml:b3756095-16bb-4cb1-b9cb-a9f1f269c560\" xlink:type=\"simple\"><rect fill=\"#FFFFFF\" height=\"45.9375\" id=\"E3\" rx=\"10\" ry=\"10\" style=\"stroke: #383838; stroke-width: 1.5;\" width=\"71\" x=\"267\" y=\"293\"/><text fill=\"#000000\" font-family=\"sans-serif\" font-size=\"12\" font-style=\"italic\" lengthAdjust=\"spacingAndGlyphs\" textLength=\"69\" x=\"268\" y=\"309.1387\">«attribute»</text><text fill=\"#000000\" font-family=\"sans-serif\" font-size=\"12\" lengthAdjust=\"spacingAndGlyphs\" textLength=\"8\" x=\"298.5\" y=\"323.1074\">a</text><line style=\"stroke: #383838; stroke-width: 1.5;\" x1=\"268\" x2=\"337\" y1=\"330.9375\" y2=\"330.9375\"/></a><g id=\"E1.E4\"><a href=\"psysml:2ef5dada-a649-4c80-bc3f-904ca5914f5d\" target=\"_top\" title=\"psysml:2ef5dada-a649-4c80-bc3f-904ca5914f5d\" xlink:actuate=\"onRequest\" xlink:href=\"psysml:2ef5dada-a649-4c80-bc3f-904ca5914f5d\" xlink:show=\"new\" xlink:title=\"psysml:2ef5dada-a649-4c80-bc3f-904ca5914f5d\" xlink:type=\"simple\"><rect fill=\"#FFFFFF\" height=\"42.9375\" id=\"E4\" style=\"stroke: #383838; stroke-width: 1.5;\" width=\"75\" x=\"88\" y=\"501.5\"/><rect fill=\"#F8F8F8\" height=\"37.9375\" style=\"stroke: #383838; stroke-width: 1.5;\" width=\"75\" x=\"88\" y=\"501.5\"/><text fill=\"#000000\" font-family=\"sans-serif\" font-size=\"12\" font-style=\"italic\" lengthAdjust=\"spacingAndGlyphs\" textLength=\"68\" x=\"91.5\" y=\"517.6387\">«part  def»</text><text fill=\"#000000\" font-family=\"sans-serif\" font-size=\"12\" lengthAdjust=\"spacingAndGlyphs\" textLength=\"9\" x=\"121\" y=\"531.6074\">Q</text></a></g><!--MD5=[2156ba9850f5573cc1fc38a6a4b2f02b]\n",
       "class E7--><a href=\"psysml:10060237-19c5-40dc-a73e-8cb7e4953e81\" target=\"_top\" title=\"psysml:10060237-19c5-40dc-a73e-8cb7e4953e81\" xlink:actuate=\"onRequest\" xlink:href=\"psysml:10060237-19c5-40dc-a73e-8cb7e4953e81\" xlink:show=\"new\" xlink:title=\"psysml:10060237-19c5-40dc-a73e-8cb7e4953e81\" xlink:type=\"simple\"><rect fill=\"#FFFFFF\" height=\"74.3828\" id=\"E7\" rx=\"10\" ry=\"10\" style=\"stroke: #383838; stroke-width: 1.5;\" width=\"63\" x=\"94\" y=\"116\"/><text fill=\"#000000\" font-family=\"sans-serif\" font-size=\"12\" lengthAdjust=\"spacingAndGlyphs\" textLength=\"23\" x=\"112\" y=\"132.1387\">x: Q</text><line style=\"stroke: #383838; stroke-width: 1.5;\" x1=\"95\" x2=\"156\" y1=\"139.9688\" y2=\"139.9688\"/><text fill=\"#000000\" font-family=\"sans-serif\" font-size=\"11\" lengthAdjust=\"spacingAndGlyphs\" textLength=\"23\" x=\"100\" y=\"170.9839\">b: B</text><text fill=\"#000000\" font-family=\"sans-serif\" font-size=\"11\" font-style=\"italic\" lengthAdjust=\"spacingAndGlyphs\" textLength=\"44\" x=\"100\" y=\"183.7886\">:&gt;&gt;P::a</text><line style=\"stroke: #383838; stroke-width: 1.0;\" x1=\"95\" x2=\"98\" y1=\"154.3711\" y2=\"154.3711\"/><text fill=\"#000000\" font-family=\"sans-serif\" font-size=\"11\" lengthAdjust=\"spacingAndGlyphs\" textLength=\"55\" x=\"98\" y=\"157.6792\">attributes</text><line style=\"stroke: #383838; stroke-width: 1.0;\" x1=\"153\" x2=\"156\" y1=\"154.3711\" y2=\"154.3711\"/></a><g id=\"E1.E8\"><a href=\"psysml:070ce293-3e12-454f-ad5b-be257c39d672\" target=\"_top\" title=\"psysml:070ce293-3e12-454f-ad5b-be257c39d672\" xlink:actuate=\"onRequest\" xlink:href=\"psysml:070ce293-3e12-454f-ad5b-be257c39d672\" xlink:show=\"new\" xlink:title=\"psysml:070ce293-3e12-454f-ad5b-be257c39d672\" xlink:type=\"simple\"><rect fill=\"#FFFFFF\" height=\"40\" id=\"E8\" rx=\"10\" ry=\"10\" style=\"stroke: #383838; stroke-width: 1.5;\" width=\"50\" x=\"100.5\" y=\"580\"/><rect fill=\"#F8F8F8\" height=\"23.9688\" rx=\"10\" ry=\"10\" style=\"stroke: #F8F8F8; stroke-width: 1.5;\" width=\"50\" x=\"100.5\" y=\"580\"/><rect fill=\"#F8F8F8\" height=\"10\" style=\"stroke: #F8F8F8; stroke-width: 1.5;\" width=\"50\" x=\"100.5\" y=\"593.9688\"/><rect fill=\"none\" height=\"40\" id=\"E8\" rx=\"10\" ry=\"10\" style=\"stroke: #383838; stroke-width: 1.5;\" width=\"50\" x=\"100.5\" y=\"580\"/><text fill=\"#000000\" font-family=\"sans-serif\" font-size=\"12\" lengthAdjust=\"spacingAndGlyphs\" textLength=\"25\" x=\"113\" y=\"596.1387\">q: Q</text></a></g><!--MD5=[96f4274e9e20536e775497830990834d]\n",
       "class E10--><a href=\"psysml:80fa5ea3-437e-4eec-9e3d-5d2e24e12c28\" target=\"_top\" title=\"psysml:80fa5ea3-437e-4eec-9e3d-5d2e24e12c28\" xlink:actuate=\"onRequest\" xlink:href=\"psysml:80fa5ea3-437e-4eec-9e3d-5d2e24e12c28\" xlink:show=\"new\" xlink:title=\"psysml:80fa5ea3-437e-4eec-9e3d-5d2e24e12c28\" xlink:type=\"simple\"><rect fill=\"#FFFFFF\" height=\"88.3516\" id=\"E10\" rx=\"10\" ry=\"10\" style=\"stroke: #383838; stroke-width: 1.5;\" width=\"139\" x=\"56\" y=\"300\"/><text fill=\"#000000\" font-family=\"sans-serif\" font-size=\"12\" font-style=\"italic\" lengthAdjust=\"spacingAndGlyphs\" textLength=\"75\" x=\"88\" y=\"316.1387\">«reference»</text><text fill=\"#000000\" font-family=\"sans-serif\" font-size=\"12\" lengthAdjust=\"spacingAndGlyphs\" textLength=\"133\" x=\"59\" y=\"330.1074\">q :&gt; VariabilityTest::q</text><line style=\"stroke: #383838; stroke-width: 1.5;\" x1=\"57\" x2=\"194\" y1=\"337.9375\" y2=\"337.9375\"/><text fill=\"#000000\" font-family=\"sans-serif\" font-size=\"11\" lengthAdjust=\"spacingAndGlyphs\" textLength=\"23\" x=\"62\" y=\"368.9526\">b: B</text><text fill=\"#000000\" font-family=\"sans-serif\" font-size=\"11\" font-style=\"italic\" lengthAdjust=\"spacingAndGlyphs\" textLength=\"44\" x=\"62\" y=\"381.7573\">:&gt;&gt;P::a</text><line style=\"stroke: #383838; stroke-width: 1.0;\" x1=\"57\" x2=\"98\" y1=\"352.3398\" y2=\"352.3398\"/><text fill=\"#000000\" font-family=\"sans-serif\" font-size=\"11\" lengthAdjust=\"spacingAndGlyphs\" textLength=\"55\" x=\"98\" y=\"355.6479\">attributes</text><line style=\"stroke: #383838; stroke-width: 1.0;\" x1=\"153\" x2=\"194\" y1=\"352.3398\" y2=\"352.3398\"/></a><g id=\"E1.E11\"><a href=\"psysml:48eaa747-84b8-4879-8d6b-33c104c23f89\" target=\"_top\" title=\"psysml:48eaa747-84b8-4879-8d6b-33c104c23f89\" xlink:actuate=\"onRequest\" xlink:href=\"psysml:48eaa747-84b8-4879-8d6b-33c104c23f89\" xlink:show=\"new\" xlink:title=\"psysml:48eaa747-84b8-4879-8d6b-33c104c23f89\" xlink:type=\"simple\"><rect fill=\"#FFFFFF\" height=\"40\" id=\"E11\" rx=\"10\" ry=\"10\" style=\"stroke: #383838; stroke-width: 1.5;\" width=\"77\" x=\"87\" y=\"655\"/><rect fill=\"#F8F8F8\" height=\"23.9688\" rx=\"10\" ry=\"10\" style=\"stroke: #F8F8F8; stroke-width: 1.5;\" width=\"77\" x=\"87\" y=\"655\"/><rect fill=\"#F8F8F8\" height=\"10\" style=\"stroke: #F8F8F8; stroke-width: 1.5;\" width=\"77\" x=\"87\" y=\"668.9688\"/><rect fill=\"none\" height=\"40\" id=\"E11\" rx=\"10\" ry=\"10\" style=\"stroke: #383838; stroke-width: 1.5;\" width=\"77\" x=\"87\" y=\"655\"/><text fill=\"#000000\" font-family=\"sans-serif\" font-size=\"12\" lengthAdjust=\"spacingAndGlyphs\" textLength=\"62\" x=\"92.5\" y=\"671.1387\">y: P= v::q;</text></a></g><!--MD5=[185131fc0dcab0a4505a2ebe144e961b]\n",
       "link E4 to E2--><a href=\"psysml:8fca0815-a461-4953-83e8-63ed8c86de29\" target=\"_top\" title=\"psysml:8fca0815-a461-4953-83e8-63ed8c86de29\" xlink:actuate=\"onRequest\" xlink:href=\"psysml:8fca0815-a461-4953-83e8-63ed8c86de29\" xlink:show=\"new\" xlink:title=\"psysml:8fca0815-a461-4953-83e8-63ed8c86de29\" xlink:type=\"simple\"><path d=\"M163.13,512.57 C181.16,506.25 202.52,496.87 219,484 C242.705,465.485 263.06,438.5475 277.62,415.9638 C284.9,404.6719 290.7313,394.4684 294.8081,386.9505 C295.3177,386.0107 295.7999,385.1129 296.2541,384.2602 C296.4812,383.8339 296.7013,383.4188 296.9143,383.0154 C297.0208,382.8137 297.1256,382.6149 297.2285,382.419 C297.28,382.3211 297.331,382.2239 297.3816,382.1275 \" fill=\"none\" id=\"E4-&gt;E2\" style=\"stroke: #383838; stroke-width: 1.0;\"/><polygon fill=\"#FFFFFF\" points=\"297.3816,382.1275,282.3559,395.7006,294.7534,402.2047,297.3816,382.1275\" style=\"stroke: #383838; stroke-width: 1.0;\"/></a><!--MD5=[2351f337d6de0f557b50152ba70847b5]\n",
       "link E6 to E2--><a href=\"psysml:80d735d5-abd9-4df4-b941-a11b60e81c18\" target=\"_top\" title=\"psysml:80d735d5-abd9-4df4-b941-a11b60e81c18\" xlink:actuate=\"onRequest\" xlink:href=\"psysml:80d735d5-abd9-4df4-b941-a11b60e81c18\" xlink:show=\"new\" xlink:title=\"psysml:80d735d5-abd9-4df4-b941-a11b60e81c18\" xlink:type=\"simple\"><path d=\"M149.585,233.0111 C149.7203,233.0662 149.8561,233.1215 149.9922,233.1771 C154.3477,234.9577 159.0863,237.0406 164.0075,239.4375 C183.6925,249.025 206.3,263.635 219,284 C235.8,310.95 206.14,331.06 227,355 C229.7175,358.12 232.8694,360.763 236.3106,362.9987 C238.0312,364.1166 239.8241,365.1326 241.6712,366.0556 C241.9021,366.1709 242.1338,366.2848 242.3664,366.3973 C242.4827,366.4536 242.5991,366.5094 242.7158,366.565 \" fill=\"none\" id=\"E6-&gt;E2\" style=\"stroke: #383838; stroke-width: 1.0;\"/><polygon fill=\"#FFFFFF\" points=\"242.7158,366.565,228.5672,352.0799,222.5514,364.7215,242.7158,366.565\" style=\"stroke: #383838; stroke-width: 1.0;\"/></a><!--MD5=[936287ff81d023bf49fe328da3d4b1d1]\n",
       "@startuml\r\n",
       "skinparam ranksep 10\r\n",
       "skinparam rectangle {\r\n",
       " backgroundColor<<block>> LightGreen\r\n",
       "}\r\n",
       "left to right direction\r\n",
       "skinparam monochrome true\r\n",
       "skinparam classbackgroundcolor white\r\n",
       "skinparam shadowing false\r\n",
       "skinparam wrapWidth 300\r\n",
       "hide circle\r\n",
       "\r\n",
       "package \"VariabilityTest\" as E1  [[psysml:54c28c65-c036-409b-a9ca-8f60ef8eadfb ]]  {\r\n",
       "rec def \"P\" as E2  <<(T,blue) part  def>> [[psysml:82cb16a2-9eb2-4cce-bbbe-e1592c7acc8b ]] {\r\n",
       "comp usage \"a\" as E3  <<(T,blue) attribute>> [[psysml:b3756095-16bb-4cb1-b9cb-a9f1f269c560 ]] {\r\n",
       "}\r\n",
       "}\r\n",
       "rec def \"Q\" as E4  <<(T,blue) part  def>> [[psysml:2ef5dada-a649-4c80-bc3f-904ca5914f5d ]] {\r\n",
       "}\r\n",
       "def \"B\" as E5  <<(T,blue) attribute  def>> [[psysml:45188152-89ae-47db-8fae-185a328aceea ]] \r\n",
       "rec def \"<i>V</i>\" as E6  <<(T,blue) part  def>> [[psysml:e8a966fa-6247-410c-94c4-6750afcc6da8 ]] {\r\n",
       "comp usage \"x: Q \" as E7  [[psysml:10060237-19c5-40dc-a73e-8cb7e4953e81 ]] {\r\n",
       "- - attributes - -\r\n",
       "b: B\\n//:>>P::a// \r\n",
       "}\r\n",
       "}\r\n",
       "rec usage \"q: Q\" as E8  [[psysml:070ce293-3e12-454f-ad5b-be257c39d672 ]] {\r\n",
       "}\r\n",
       "rec usage \"v: P\" as E9  [[psysml:3367482b-ff59-4bbe-a9dc-fe1b4a2ad697 ]] {\r\n",
       "comp usage \"q :> VariabilityTest::q\" as E10  <<(T,blue) reference>> [[psysml:80fa5ea3-437e-4eec-9e3d-5d2e24e12c28 ]] {\r\n",
       "- - attributes - -\r\n",
       "b: B\\n//:>>P::a// \r\n",
       "}\r\n",
       "}\r\n",
       "rec usage \"y: P= v::q; \" as E11  [[psysml:48eaa747-84b8-4879-8d6b-33c104c23f89 ]] {\r\n",
       "}\r\n",
       "}\r\n",
       "E4 - -|> E2 [[psysml:8fca0815-a461-4953-83e8-63ed8c86de29 ]] \r\n",
       "E6 - -|> E2 [[psysml:80d735d5-abd9-4df4-b941-a11b60e81c18 ]] \r\n",
       "@enduml\r\n",
       "\n",
       "PlantUML version 1.2020.13(Sat Jun 13 12:26:38 UTC 2020)\n",
       "(EPL source distribution)\n",
       "Java Runtime: OpenJDK Runtime Environment\n",
       "JVM: OpenJDK 64-Bit Server VM\n",
       "Default Encoding: UTF-8\n",
       "Language: en\n",
       "Country: null\n",
       "--></g></svg>"
      ]
     },
     "execution_count": 19,
     "metadata": {},
     "output_type": "execute_result"
    }
   ],
   "source": [
    "%viz --style=\"LR\" --view=\"Interconnection\" \"VariabilityTest\""
   ]
  },
  {
   "cell_type": "code",
   "execution_count": 20,
   "id": "f3f88876",
   "metadata": {
    "execution": {
     "iopub.execute_input": "2021-10-25T08:21:42.723564Z",
     "iopub.status.busy": "2021-10-25T08:21:42.723164Z",
     "iopub.status.idle": "2021-10-25T08:21:42.729241Z",
     "shell.execute_reply": "2021-10-25T08:21:42.729555Z"
    }
   },
   "outputs": [
    {
     "data": {
      "image/svg+xml": [
       "<?xml version=\"1.0\" encoding=\"UTF-8\" standalone=\"no\"?><svg xmlns=\"http://www.w3.org/2000/svg\" xmlns:xlink=\"http://www.w3.org/1999/xlink\" contentScriptType=\"application/ecmascript\" contentStyleType=\"text/css\" height=\"12px\" preserveAspectRatio=\"none\" style=\"width:12px;height:12px;\" version=\"1.1\" viewBox=\"0 0 12 12\" width=\"12px\" zoomAndPan=\"magnify\"><defs/><g><!--MD5=[7aeb398939421629f6affaa4a1a7b125]\n",
       "@startuml\r\n",
       "skinparam ranksep 8\r\n",
       "left to right direction\r\n",
       "skinparam monochrome true\r\n",
       "skinparam classbackgroundcolor white\r\n",
       "skinparam shadowing false\r\n",
       "skinparam wrapWidth 300\r\n",
       "hide circle\r\n",
       "\r\n",
       "@enduml\r\n",
       "\n",
       "PlantUML version 1.2020.13(Sat Jun 13 12:26:38 UTC 2020)\n",
       "(EPL source distribution)\n",
       "Java Runtime: OpenJDK Runtime Environment\n",
       "JVM: OpenJDK 64-Bit Server VM\n",
       "Default Encoding: UTF-8\n",
       "Language: en\n",
       "Country: null\n",
       "--></g></svg>"
      ]
     },
     "execution_count": 20,
     "metadata": {},
     "output_type": "execute_result"
    }
   ],
   "source": [
    "%viz --style=\"LR\" --view=\"Action\" \"VariabilityTest\""
   ]
  },
  {
   "cell_type": "code",
   "execution_count": 21,
   "id": "ae8d7991",
   "metadata": {
    "execution": {
     "iopub.execute_input": "2021-10-25T08:21:42.779296Z",
     "iopub.status.busy": "2021-10-25T08:21:42.778899Z",
     "iopub.status.idle": "2021-10-25T08:21:42.785002Z",
     "shell.execute_reply": "2021-10-25T08:21:42.785318Z"
    }
   },
   "outputs": [
    {
     "data": {
      "image/svg+xml": [
       "<?xml version=\"1.0\" encoding=\"UTF-8\" standalone=\"no\"?><svg xmlns=\"http://www.w3.org/2000/svg\" xmlns:xlink=\"http://www.w3.org/1999/xlink\" contentScriptType=\"application/ecmascript\" contentStyleType=\"text/css\" height=\"12px\" preserveAspectRatio=\"none\" style=\"width:12px;height:12px;\" version=\"1.1\" viewBox=\"0 0 12 12\" width=\"12px\" zoomAndPan=\"magnify\"><defs/><g><!--MD5=[238c11ea2002f03115ad6b49a457d50e]\n",
       "@startuml\r\n",
       "skinparam roundcorner 20\r\n",
       "skinparam BoxPadding 20\r\n",
       "skinparam SequenceBoxBackgroundColor #white\r\n",
       "skinparam style strictuml\r\n",
       "skinparam maxMessageSize 100\r\n",
       "left to right direction\r\n",
       "skinparam monochrome true\r\n",
       "skinparam classbackgroundcolor white\r\n",
       "skinparam shadowing false\r\n",
       "skinparam wrapWidth 300\r\n",
       "hide circle\r\n",
       "\r\n",
       "@enduml\r\n",
       "\n",
       "PlantUML version 1.2020.13(Sat Jun 13 12:26:38 UTC 2020)\n",
       "(EPL source distribution)\n",
       "Java Runtime: OpenJDK Runtime Environment\n",
       "JVM: OpenJDK 64-Bit Server VM\n",
       "Default Encoding: UTF-8\n",
       "Language: en\n",
       "Country: null\n",
       "--></g></svg>"
      ]
     },
     "execution_count": 21,
     "metadata": {},
     "output_type": "execute_result"
    }
   ],
   "source": [
    "%viz --style=\"LR\" --view=\"Sequence\" \"VariabilityTest\""
   ]
  },
  {
   "cell_type": "code",
   "execution_count": 22,
   "id": "246029a3",
   "metadata": {
    "execution": {
     "iopub.execute_input": "2021-10-25T08:21:42.834927Z",
     "iopub.status.busy": "2021-10-25T08:21:42.834532Z",
     "iopub.status.idle": "2021-10-25T08:21:42.925609Z",
     "shell.execute_reply": "2021-10-25T08:21:42.923665Z"
    }
   },
   "outputs": [
    {
     "data": {
      "image/svg+xml": [
       "<?xml version=\"1.0\" encoding=\"UTF-8\" standalone=\"no\"?><svg xmlns=\"http://www.w3.org/2000/svg\" xmlns:xlink=\"http://www.w3.org/1999/xlink\" contentScriptType=\"application/ecmascript\" contentStyleType=\"text/css\" height=\"391px\" preserveAspectRatio=\"none\" style=\"width:561px;height:391px;\" version=\"1.1\" viewBox=\"0 0 561 391\" width=\"561px\" zoomAndPan=\"magnify\"><defs/><g><!--MD5=[fbc87193dbaf4d95561dea2c320d4a47]\n",
       "cluster E1--><a href=\"psysml:54c28c65-c036-409b-a9ca-8f60ef8eadfb\" target=\"_top\" title=\"psysml:54c28c65-c036-409b-a9ca-8f60ef8eadfb\" xlink:actuate=\"onRequest\" xlink:href=\"psysml:54c28c65-c036-409b-a9ca-8f60ef8eadfb\" xlink:show=\"new\" xlink:title=\"psysml:54c28c65-c036-409b-a9ca-8f60ef8eadfb\" xlink:type=\"simple\"><polygon fill=\"#FFFFFF\" points=\"16,6,116,6,123,28.2969,539,28.2969,539,379,16,379,16,6\" style=\"stroke: #000000; stroke-width: 1.5;\"/><line style=\"stroke: #000000; stroke-width: 1.5;\" x1=\"16\" x2=\"123\" y1=\"28.2969\" y2=\"28.2969\"/><text fill=\"#000000\" font-family=\"sans-serif\" font-size=\"14\" font-weight=\"bold\" lengthAdjust=\"spacingAndGlyphs\" textLength=\"94\" x=\"20\" y=\"20.9951\">VariabilityTest</text></a><!--MD5=[b4997ac47864f28c2f74865a473b2911]\n",
       "class E2--><a href=\"psysml:82cb16a2-9eb2-4cce-bbbe-e1592c7acc8b\" target=\"_top\" title=\"psysml:82cb16a2-9eb2-4cce-bbbe-e1592c7acc8b\" xlink:actuate=\"onRequest\" xlink:href=\"psysml:82cb16a2-9eb2-4cce-bbbe-e1592c7acc8b\" xlink:show=\"new\" xlink:title=\"psysml:82cb16a2-9eb2-4cce-bbbe-e1592c7acc8b\" xlink:type=\"simple\"><rect fill=\"#FFFFFF\" height=\"75.5469\" id=\"E2\" style=\"stroke: #383838; stroke-width: 1.5;\" width=\"70\" x=\"418.5\" y=\"164\"/><text fill=\"#000000\" font-family=\"sans-serif\" font-size=\"12\" font-style=\"italic\" lengthAdjust=\"spacingAndGlyphs\" textLength=\"68\" x=\"419.5\" y=\"180.1387\">«part  def»</text><text fill=\"#000000\" font-family=\"sans-serif\" font-size=\"12\" lengthAdjust=\"spacingAndGlyphs\" textLength=\"8\" x=\"449.5\" y=\"194.1074\">P</text><line style=\"stroke: #383838; stroke-width: 1.5;\" x1=\"419.5\" x2=\"487.5\" y1=\"201.9375\" y2=\"201.9375\"/><text fill=\"#000000\" font-family=\"sans-serif\" font-size=\"11\" lengthAdjust=\"spacingAndGlyphs\" textLength=\"7\" x=\"424.5\" y=\"232.9526\">a</text><line style=\"stroke: #383838; stroke-width: 1.0;\" x1=\"419.5\" x2=\"426\" y1=\"216.3398\" y2=\"216.3398\"/><text fill=\"#000000\" font-family=\"sans-serif\" font-size=\"11\" lengthAdjust=\"spacingAndGlyphs\" textLength=\"55\" x=\"426\" y=\"219.6479\">attributes</text><line style=\"stroke: #383838; stroke-width: 1.0;\" x1=\"481\" x2=\"487.5\" y1=\"216.3398\" y2=\"216.3398\"/></a><!--MD5=[09b614a08d8cba4a07c9adeb5e0fee81]\n",
       "class E3--><a href=\"psysml:2ef5dada-a649-4c80-bc3f-904ca5914f5d\" target=\"_top\" title=\"psysml:2ef5dada-a649-4c80-bc3f-904ca5914f5d\" xlink:actuate=\"onRequest\" xlink:href=\"psysml:2ef5dada-a649-4c80-bc3f-904ca5914f5d\" xlink:show=\"new\" xlink:title=\"psysml:2ef5dada-a649-4c80-bc3f-904ca5914f5d\" xlink:type=\"simple\"><rect fill=\"#FFFFFF\" height=\"45.9375\" id=\"E3\" style=\"stroke: #383838; stroke-width: 1.5;\" width=\"70\" x=\"192\" y=\"215\"/><text fill=\"#000000\" font-family=\"sans-serif\" font-size=\"12\" font-style=\"italic\" lengthAdjust=\"spacingAndGlyphs\" textLength=\"68\" x=\"193\" y=\"231.1387\">«part  def»</text><text fill=\"#000000\" font-family=\"sans-serif\" font-size=\"12\" lengthAdjust=\"spacingAndGlyphs\" textLength=\"9\" x=\"222.5\" y=\"245.1074\">Q</text><line style=\"stroke: #383838; stroke-width: 1.5;\" x1=\"193\" x2=\"261\" y1=\"252.9375\" y2=\"252.9375\"/></a><!--MD5=[ebbe1d658d1005bcc118a6aa81145e00]\n",
       "class E4--><a href=\"psysml:45188152-89ae-47db-8fae-185a328aceea\" target=\"_top\" title=\"psysml:45188152-89ae-47db-8fae-185a328aceea\" xlink:actuate=\"onRequest\" xlink:href=\"psysml:45188152-89ae-47db-8fae-185a328aceea\" xlink:show=\"new\" xlink:title=\"psysml:45188152-89ae-47db-8fae-185a328aceea\" xlink:type=\"simple\"><rect fill=\"#FFFFFF\" height=\"45.9375\" id=\"E4\" style=\"stroke: #383838; stroke-width: 1.5;\" width=\"99\" x=\"32\" y=\"84\"/><text fill=\"#000000\" font-family=\"sans-serif\" font-size=\"12\" font-style=\"italic\" lengthAdjust=\"spacingAndGlyphs\" textLength=\"97\" x=\"33\" y=\"100.1387\">«attribute  def»</text><text fill=\"#000000\" font-family=\"sans-serif\" font-size=\"12\" lengthAdjust=\"spacingAndGlyphs\" textLength=\"8\" x=\"77.5\" y=\"114.1074\">B</text><line style=\"stroke: #383838; stroke-width: 1.5;\" x1=\"33\" x2=\"130\" y1=\"121.9375\" y2=\"121.9375\"/></a><!--MD5=[270fce915f116d4de14055a7c1d9a0f3]\n",
       "class E5--><a href=\"psysml:e8a966fa-6247-410c-94c4-6750afcc6da8\" target=\"_top\" title=\"psysml:e8a966fa-6247-410c-94c4-6750afcc6da8\" xlink:actuate=\"onRequest\" xlink:href=\"psysml:e8a966fa-6247-410c-94c4-6750afcc6da8\" xlink:show=\"new\" xlink:title=\"psysml:e8a966fa-6247-410c-94c4-6750afcc6da8\" xlink:type=\"simple\"><rect fill=\"#FFFFFF\" height=\"45.9375\" id=\"E5\" style=\"stroke: #383838; stroke-width: 1.5;\" width=\"70\" x=\"192\" y=\"53\"/><text fill=\"#000000\" font-family=\"sans-serif\" font-size=\"12\" font-style=\"italic\" lengthAdjust=\"spacingAndGlyphs\" textLength=\"68\" x=\"193\" y=\"69.1387\">«part  def»</text><text fill=\"#000000\" font-family=\"sans-serif\" font-size=\"12\" font-style=\"italic\" lengthAdjust=\"spacingAndGlyphs\" textLength=\"8\" x=\"223\" y=\"83.1074\">V</text><line style=\"stroke: #383838; stroke-width: 1.5;\" x1=\"193\" x2=\"261\" y1=\"90.9375\" y2=\"90.9375\"/></a><!--MD5=[60a26617385b1d2d0262a64233df1f8d]\n",
       "class E6--><a href=\"psysml:10060237-19c5-40dc-a73e-8cb7e4953e81\" target=\"_top\" title=\"psysml:10060237-19c5-40dc-a73e-8cb7e4953e81\" xlink:actuate=\"onRequest\" xlink:href=\"psysml:10060237-19c5-40dc-a73e-8cb7e4953e81\" xlink:show=\"new\" xlink:title=\"psysml:10060237-19c5-40dc-a73e-8cb7e4953e81\" xlink:type=\"simple\"><rect fill=\"#FFFFFF\" height=\"88.3516\" id=\"E6\" rx=\"10\" ry=\"10\" style=\"stroke: #383838; stroke-width: 1.5;\" width=\"63\" x=\"422\" y=\"41\"/><text fill=\"#000000\" font-family=\"sans-serif\" font-size=\"12\" font-style=\"italic\" lengthAdjust=\"spacingAndGlyphs\" textLength=\"40\" x=\"433.5\" y=\"57.1387\">«part»</text><text fill=\"#000000\" font-family=\"sans-serif\" font-size=\"12\" lengthAdjust=\"spacingAndGlyphs\" textLength=\"23\" x=\"440\" y=\"71.1074\">x: Q</text><line style=\"stroke: #383838; stroke-width: 1.5;\" x1=\"423\" x2=\"484\" y1=\"78.9375\" y2=\"78.9375\"/><text fill=\"#000000\" font-family=\"sans-serif\" font-size=\"11\" lengthAdjust=\"spacingAndGlyphs\" textLength=\"23\" x=\"428\" y=\"109.9526\">b: B</text><text fill=\"#000000\" font-family=\"sans-serif\" font-size=\"11\" font-style=\"italic\" lengthAdjust=\"spacingAndGlyphs\" textLength=\"44\" x=\"428\" y=\"122.7573\">:&gt;&gt;P::a</text><line style=\"stroke: #383838; stroke-width: 1.0;\" x1=\"423\" x2=\"426\" y1=\"93.3398\" y2=\"93.3398\"/><text fill=\"#000000\" font-family=\"sans-serif\" font-size=\"11\" lengthAdjust=\"spacingAndGlyphs\" textLength=\"55\" x=\"426\" y=\"96.6479\">attributes</text><line style=\"stroke: #383838; stroke-width: 1.0;\" x1=\"481\" x2=\"484\" y1=\"93.3398\" y2=\"93.3398\"/></a><!--MD5=[2156ba9850f5573cc1fc38a6a4b2f02b]\n",
       "class E7--><a href=\"psysml:070ce293-3e12-454f-ad5b-be257c39d672\" target=\"_top\" title=\"psysml:070ce293-3e12-454f-ad5b-be257c39d672\" xlink:actuate=\"onRequest\" xlink:href=\"psysml:070ce293-3e12-454f-ad5b-be257c39d672\" xlink:show=\"new\" xlink:title=\"psysml:070ce293-3e12-454f-ad5b-be257c39d672\" xlink:type=\"simple\"><rect fill=\"#FFFFFF\" height=\"45.9375\" id=\"E7\" rx=\"10\" ry=\"10\" style=\"stroke: #383838; stroke-width: 1.5;\" width=\"42\" x=\"60.5\" y=\"215\"/><text fill=\"#000000\" font-family=\"sans-serif\" font-size=\"12\" font-style=\"italic\" lengthAdjust=\"spacingAndGlyphs\" textLength=\"40\" x=\"61.5\" y=\"231.1387\">«part»</text><text fill=\"#000000\" font-family=\"sans-serif\" font-size=\"12\" lengthAdjust=\"spacingAndGlyphs\" textLength=\"25\" x=\"67\" y=\"245.1074\">q: Q</text><line style=\"stroke: #383838; stroke-width: 1.5;\" x1=\"61.5\" x2=\"101.5\" y1=\"252.9375\" y2=\"252.9375\"/></a><!--MD5=[b9389687b975829384b498ac4b7476b2]\n",
       "class E8--><a href=\"psysml:3367482b-ff59-4bbe-a9dc-fe1b4a2ad697\" target=\"_top\" title=\"psysml:3367482b-ff59-4bbe-a9dc-fe1b4a2ad697\" xlink:actuate=\"onRequest\" xlink:href=\"psysml:3367482b-ff59-4bbe-a9dc-fe1b4a2ad697\" xlink:show=\"new\" xlink:title=\"psysml:3367482b-ff59-4bbe-a9dc-fe1b4a2ad697\" xlink:type=\"simple\"><rect fill=\"#FFFFFF\" height=\"59.9063\" id=\"E8\" rx=\"10\" ry=\"10\" style=\"stroke: #383838; stroke-width: 1.5;\" width=\"70\" x=\"192\" y=\"296\"/><text fill=\"#000000\" font-family=\"sans-serif\" font-size=\"12\" font-style=\"italic\" lengthAdjust=\"spacingAndGlyphs\" textLength=\"68\" x=\"193\" y=\"312.1387\">«variation»</text><text fill=\"#000000\" font-family=\"sans-serif\" font-size=\"12\" font-style=\"italic\" lengthAdjust=\"spacingAndGlyphs\" textLength=\"40\" x=\"207\" y=\"326.1074\">«part»</text><text fill=\"#000000\" font-family=\"sans-serif\" font-size=\"12\" font-style=\"italic\" lengthAdjust=\"spacingAndGlyphs\" textLength=\"6\" x=\"214\" y=\"340.0762\">v</text><text fill=\"#000000\" font-family=\"sans-serif\" font-size=\"12\" lengthAdjust=\"spacingAndGlyphs\" textLength=\"16\" x=\"220\" y=\"340.0762\">: P</text><line style=\"stroke: #383838; stroke-width: 1.5;\" x1=\"193\" x2=\"261\" y1=\"347.9063\" y2=\"347.9063\"/></a><!--MD5=[fd4143e9d270a159db93a4ea2a975926]\n",
       "class E9--><a href=\"psysml:80fa5ea3-437e-4eec-9e3d-5d2e24e12c28\" target=\"_top\" title=\"psysml:80fa5ea3-437e-4eec-9e3d-5d2e24e12c28\" xlink:actuate=\"onRequest\" xlink:href=\"psysml:80fa5ea3-437e-4eec-9e3d-5d2e24e12c28\" xlink:show=\"new\" xlink:title=\"psysml:80fa5ea3-437e-4eec-9e3d-5d2e24e12c28\" xlink:type=\"simple\"><rect fill=\"#FFFFFF\" height=\"88.3516\" id=\"E9\" rx=\"10\" ry=\"10\" style=\"stroke: #383838; stroke-width: 1.5;\" width=\"139\" x=\"384\" y=\"275\"/><text fill=\"#000000\" font-family=\"sans-serif\" font-size=\"12\" font-style=\"italic\" lengthAdjust=\"spacingAndGlyphs\" textLength=\"75\" x=\"416\" y=\"291.1387\">«reference»</text><text fill=\"#000000\" font-family=\"sans-serif\" font-size=\"12\" lengthAdjust=\"spacingAndGlyphs\" textLength=\"133\" x=\"387\" y=\"305.1074\">q :&gt; VariabilityTest::q</text><line style=\"stroke: #383838; stroke-width: 1.5;\" x1=\"385\" x2=\"522\" y1=\"312.9375\" y2=\"312.9375\"/><text fill=\"#000000\" font-family=\"sans-serif\" font-size=\"11\" lengthAdjust=\"spacingAndGlyphs\" textLength=\"23\" x=\"390\" y=\"343.9526\">b: B</text><text fill=\"#000000\" font-family=\"sans-serif\" font-size=\"11\" font-style=\"italic\" lengthAdjust=\"spacingAndGlyphs\" textLength=\"44\" x=\"390\" y=\"356.7573\">:&gt;&gt;P::a</text><line style=\"stroke: #383838; stroke-width: 1.0;\" x1=\"385\" x2=\"426\" y1=\"327.3398\" y2=\"327.3398\"/><text fill=\"#000000\" font-family=\"sans-serif\" font-size=\"11\" lengthAdjust=\"spacingAndGlyphs\" textLength=\"55\" x=\"426\" y=\"330.6479\">attributes</text><line style=\"stroke: #383838; stroke-width: 1.0;\" x1=\"481\" x2=\"522\" y1=\"327.3398\" y2=\"327.3398\"/></a><!--MD5=[96f4274e9e20536e775497830990834d]\n",
       "class E10--><a href=\"psysml:48eaa747-84b8-4879-8d6b-33c104c23f89\" target=\"_top\" title=\"psysml:48eaa747-84b8-4879-8d6b-33c104c23f89\" xlink:actuate=\"onRequest\" xlink:href=\"psysml:48eaa747-84b8-4879-8d6b-33c104c23f89\" xlink:show=\"new\" xlink:title=\"psysml:48eaa747-84b8-4879-8d6b-33c104c23f89\" xlink:type=\"simple\"><rect fill=\"#FFFFFF\" height=\"45.9375\" id=\"E10\" rx=\"10\" ry=\"10\" style=\"stroke: #383838; stroke-width: 1.5;\" width=\"42\" x=\"206\" y=\"134\"/><text fill=\"#000000\" font-family=\"sans-serif\" font-size=\"12\" font-style=\"italic\" lengthAdjust=\"spacingAndGlyphs\" textLength=\"40\" x=\"207\" y=\"150.1387\">«part»</text><text fill=\"#000000\" font-family=\"sans-serif\" font-size=\"12\" lengthAdjust=\"spacingAndGlyphs\" textLength=\"22\" x=\"214\" y=\"164.1074\">y: P</text><line style=\"stroke: #383838; stroke-width: 1.5;\" x1=\"207\" x2=\"247\" y1=\"171.9375\" y2=\"171.9375\"/></a><!--MD5=[05d275557350bfb9b23a4ef7222b4c39]\n",
       "link E3 to E2--><a href=\"psysml:8fca0815-a461-4953-83e8-63ed8c86de29\" target=\"_top\" title=\"psysml:8fca0815-a461-4953-83e8-63ed8c86de29\" xlink:actuate=\"onRequest\" xlink:href=\"psysml:8fca0815-a461-4953-83e8-63ed8c86de29\" xlink:show=\"new\" xlink:title=\"psysml:8fca0815-a461-4953-83e8-63ed8c86de29\" xlink:type=\"simple\"><path d=\"M262.1,232.53 C298.3,226.73 356.03,217.47 398.44,210.67 \" fill=\"none\" id=\"E3-&gt;E2\" style=\"stroke: #383838; stroke-width: 1.0;\"/><polygon fill=\"none\" points=\"397.59,203.72,418.45,207.46,399.81,217.54,397.59,203.72\" style=\"stroke: #383838; stroke-width: 1.0;\"/></a><!--MD5=[15ebcb19ae302d9b601edb458606d402]\n",
       "link E5 to E2--><a href=\"psysml:80d735d5-abd9-4df4-b941-a11b60e81c18\" target=\"_top\" title=\"psysml:80d735d5-abd9-4df4-b941-a11b60e81c18\" xlink:actuate=\"onRequest\" xlink:href=\"psysml:80d735d5-abd9-4df4-b941-a11b60e81c18\" xlink:show=\"new\" xlink:title=\"psysml:80d735d5-abd9-4df4-b941-a11b60e81c18\" xlink:type=\"simple\"><path d=\"M262.1,95.14 C298.96,115.83 358.15,149.05 400.75,172.96 \" fill=\"none\" id=\"E5-&gt;E2\" style=\"stroke: #383838; stroke-width: 1.0;\"/><polygon fill=\"none\" points=\"404.44,167,418.45,182.89,397.58,179.21,404.44,167\" style=\"stroke: #383838; stroke-width: 1.0;\"/></a><!--MD5=[9120cf2e5df3bff93db8f754bbbc09b4]\n",
       "link E5 to E6--><a href=\"psysml:bbf94ce0-8140-4269-b805-c97e9315d509\" target=\"_top\" title=\"psysml:bbf94ce0-8140-4269-b805-c97e9315d509\" xlink:actuate=\"onRequest\" xlink:href=\"psysml:bbf94ce0-8140-4269-b805-c97e9315d509\" xlink:show=\"new\" xlink:title=\"psysml:bbf94ce0-8140-4269-b805-c97e9315d509\" xlink:type=\"simple\"><path d=\"M272.25,77.77 C312.76,79.4 372.24,81.78 411.64,83.36 \" fill=\"none\" id=\"E5-E6\" style=\"stroke: #383838; stroke-width: 1.0;\"/><polygon fill=\"#383838\" points=\"421.7,83.77,413.8265,80.4522,413.5863,86.4474,421.7,83.77\" style=\"stroke: #383838; stroke-width: 1.0;\"/><path d=\"M264.8372,85.9437 A9,9 0 0 0 265.5142 69.0427\" fill=\"none\" style=\"stroke: #383838; stroke-width: 1.5;\"/><text fill=\"#000000\" font-family=\"sans-serif\" font-size=\"13\" lengthAdjust=\"spacingAndGlyphs\" textLength=\"60\" x=\"293\" y=\"75.0669\">«variant»</text></a><!--MD5=[14ccda38c055a5c0da953d572bc50960]\n",
       "link E7 to E3--><a href=\"psysml:1a218306-3ccb-4021-8143-a6b7222dd125\" target=\"_top\" title=\"psysml:1a218306-3ccb-4021-8143-a6b7222dd125\" xlink:actuate=\"onRequest\" xlink:href=\"psysml:1a218306-3ccb-4021-8143-a6b7222dd125\" xlink:show=\"new\" xlink:title=\"psysml:1a218306-3ccb-4021-8143-a6b7222dd125\" xlink:type=\"simple\"><path d=\"M102.76,238 C120.62,238 147.49,238 171.59,238 \" fill=\"none\" id=\"E7-&gt;E3\" style=\"stroke: #383838; stroke-width: 1.0;\"/><polygon fill=\"#FFFFFF\" points=\"191.75,238,172.75,245,172.75,231,191.75,238\" style=\"stroke: #383838; stroke-width: 1.0;\"/><ellipse cx=\"167.05\" cy=\"243\" fill=\"#383838\" rx=\"2\" ry=\"2\" style=\"stroke: #383838; stroke-width: 1.0;\"/><ellipse cx=\"167.05\" cy=\"233\" fill=\"#383838\" rx=\"2\" ry=\"2\" style=\"stroke: #383838; stroke-width: 1.0;\"/></a><!--MD5=[f1f3f9f2fc535e6147756cb86a7f2e32]\n",
       "link E8 to E2--><a href=\"psysml:0a07ead6-b6a6-4f86-92cb-b01532aad754\" target=\"_top\" title=\"psysml:0a07ead6-b6a6-4f86-92cb-b01532aad754\" xlink:actuate=\"onRequest\" xlink:href=\"psysml:0a07ead6-b6a6-4f86-92cb-b01532aad754\" xlink:show=\"new\" xlink:title=\"psysml:0a07ead6-b6a6-4f86-92cb-b01532aad754\" xlink:type=\"simple\"><path d=\"M262.1,307.17 C298.96,286.81 358.15,254.11 400.75,230.58 \" fill=\"none\" id=\"E8-&gt;E2\" style=\"stroke: #383838; stroke-width: 1.0;\"/><polygon fill=\"#FFFFFF\" points=\"418.45,220.81,405.2065,236.1269,398.4347,223.8737,418.45,220.81\" style=\"stroke: #383838; stroke-width: 1.0;\"/><ellipse cx=\"399.2502\" cy=\"237.1336\" fill=\"#383838\" rx=\"2\" ry=\"2\" style=\"stroke: #383838; stroke-width: 1.0;\"/><ellipse cx=\"394.4132\" cy=\"228.3812\" fill=\"#383838\" rx=\"2\" ry=\"2\" style=\"stroke: #383838; stroke-width: 1.0;\"/></a><!--MD5=[ed10624c06dd9a4fa49ccf290e8b16a8]\n",
       "link E8 to E9--><a href=\"psysml:95cf767c-bf38-4d44-8a21-82e4671e1c7d\" target=\"_top\" title=\"psysml:95cf767c-bf38-4d44-8a21-82e4671e1c7d\" xlink:actuate=\"onRequest\" xlink:href=\"psysml:95cf767c-bf38-4d44-8a21-82e4671e1c7d\" xlink:show=\"new\" xlink:title=\"psysml:95cf767c-bf38-4d44-8a21-82e4671e1c7d\" xlink:type=\"simple\"><path d=\"M272.39,324.62 C301.14,323.72 339.41,322.53 373.28,321.47 \" fill=\"none\" id=\"E8-E9\" style=\"stroke: #383838; stroke-width: 1.0;\"/><polygon fill=\"#383838\" points=\"383.63,321.15,375.5397,318.4028,375.7282,324.3998,383.63,321.15\" style=\"stroke: #383838; stroke-width: 1.0;\"/><path d=\"M265.4427,333.2962 A9,9 0 0 0 264.9106 316.3901\" fill=\"none\" style=\"stroke: #383838; stroke-width: 1.5;\"/><text fill=\"#000000\" font-family=\"sans-serif\" font-size=\"13\" lengthAdjust=\"spacingAndGlyphs\" textLength=\"60\" x=\"293\" y=\"319.0669\">«variant»</text></a><!--MD5=[0f36bececdf0dff6e600d6f64214b0f1]\n",
       "link E10 to E2--><a href=\"psysml:6b6ac884-9cd9-45a3-8497-3c127dcfd472\" target=\"_top\" title=\"psysml:6b6ac884-9cd9-45a3-8497-3c127dcfd472\" xlink:actuate=\"onRequest\" xlink:href=\"psysml:6b6ac884-9cd9-45a3-8497-3c127dcfd472\" xlink:show=\"new\" xlink:title=\"psysml:6b6ac884-9cd9-45a3-8497-3c127dcfd472\" xlink:type=\"simple\"><path d=\"M248.32,161.07 C281.96,167.82 350.31,181.52 398.64,191.2 \" fill=\"none\" id=\"E10-&gt;E2\" style=\"stroke: #383838; stroke-width: 1.0;\"/><polygon fill=\"#FFFFFF\" points=\"418.29,195.14,398.2848,198.2694,401.0362,184.5425,418.29,195.14\" style=\"stroke: #383838; stroke-width: 1.0;\"/><ellipse cx=\"393.0891\" cy=\"195.1882\" fill=\"#383838\" rx=\"2\" ry=\"2\" style=\"stroke: #383838; stroke-width: 1.0;\"/><ellipse cx=\"395.0543\" cy=\"185.3833\" fill=\"#383838\" rx=\"2\" ry=\"2\" style=\"stroke: #383838; stroke-width: 1.0;\"/></a><!--MD5=[dcd45ebbf66f0bf6b8caf24e34c0bdc3]\n",
       "@startuml\r\n",
       "left to right direction\r\n",
       "skinparam monochrome true\r\n",
       "skinparam classbackgroundcolor white\r\n",
       "skinparam shadowing false\r\n",
       "skinparam wrapWidth 300\r\n",
       "hide circle\r\n",
       "\r\n",
       "package \"VariabilityTest\" as E1  [[psysml:54c28c65-c036-409b-a9ca-8f60ef8eadfb ]]  {\r\n",
       "comp def \"P\" as E2  <<(T,blue) part  def>> [[psysml:82cb16a2-9eb2-4cce-bbbe-e1592c7acc8b ]] {\r\n",
       "- - attributes - -\r\n",
       "a\r\n",
       "}\r\n",
       "comp def \"Q\" as E3  <<(T,blue) part  def>> [[psysml:2ef5dada-a649-4c80-bc3f-904ca5914f5d ]] {\r\n",
       "}\r\n",
       "comp def \"B\" as E4  <<(T,blue) attribute  def>> [[psysml:45188152-89ae-47db-8fae-185a328aceea ]] {\r\n",
       "}\r\n",
       "comp def \"<i>V</i>\" as E5  <<(T,blue) part  def>> [[psysml:e8a966fa-6247-410c-94c4-6750afcc6da8 ]] {\r\n",
       "}\r\n",
       "comp usage \"x: Q \" as E6  <<(T,blue) part>> [[psysml:10060237-19c5-40dc-a73e-8cb7e4953e81 ]] {\r\n",
       "- - attributes - -\r\n",
       "b: B\\n//:>>P::a// \r\n",
       "}\r\n",
       "comp usage \"q: Q \" as E7  <<(T,blue) part>> [[psysml:070ce293-3e12-454f-ad5b-be257c39d672 ]] {\r\n",
       "}\r\n",
       "comp usage \"<i>v</i>: P \" as E8  <<variation>>\\n <<(T,blue) part>> [[psysml:3367482b-ff59-4bbe-a9dc-fe1b4a2ad697 ]] {\r\n",
       "}\r\n",
       "comp usage \"q :> VariabilityTest::q\" as E9  <<(T,blue) reference>> [[psysml:80fa5ea3-437e-4eec-9e3d-5d2e24e12c28 ]] {\r\n",
       "- - attributes - -\r\n",
       "b: B\\n//:>>P::a// \r\n",
       "}\r\n",
       "comp usage \"y: P \" as E10  <<(T,blue) part>> [[psysml:48eaa747-84b8-4879-8d6b-33c104c23f89 ]] {\r\n",
       "}\r\n",
       "}\r\n",
       "E3 - -|> E2 [[psysml:8fca0815-a461-4953-83e8-63ed8c86de29 ]] \r\n",
       "E5 - -|> E2 [[psysml:80d735d5-abd9-4df4-b941-a11b60e81c18 ]] \r\n",
       "E5 )- ->> E6 [[psysml:bbf94ce0-8140-4269-b805-c97e9315d509 ]] : <<variant>>\r\n",
       "E7 - -:|> E3 [[psysml:1a218306-3ccb-4021-8143-a6b7222dd125 ]] \r\n",
       "E8 - -:|> E2 [[psysml:0a07ead6-b6a6-4f86-92cb-b01532aad754 ]] \r\n",
       "E8 )- ->> E9 [[psysml:95cf767c-bf38-4d44-8a21-82e4671e1c7d ]] : <<variant>>\r\n",
       "E10 - -:|> E2 [[psysml:6b6ac884-9cd9-45a3-8497-3c127dcfd472 ]] \r\n",
       "@enduml\r\n",
       "\n",
       "PlantUML version 1.2020.13(Sat Jun 13 12:26:38 UTC 2020)\n",
       "(EPL source distribution)\n",
       "Java Runtime: OpenJDK Runtime Environment\n",
       "JVM: OpenJDK 64-Bit Server VM\n",
       "Default Encoding: UTF-8\n",
       "Language: en\n",
       "Country: null\n",
       "--></g></svg>"
      ]
     },
     "execution_count": 22,
     "metadata": {},
     "output_type": "execute_result"
    }
   ],
   "source": [
    "%viz --style=\"LR\" --view=\"MIXED\" \"VariabilityTest\""
   ]
  },
  {
   "cell_type": "code",
   "execution_count": 23,
   "id": "e377093e",
   "metadata": {
    "execution": {
     "iopub.execute_input": "2021-10-25T08:21:42.974679Z",
     "iopub.status.busy": "2021-10-25T08:21:42.974277Z",
     "iopub.status.idle": "2021-10-25T08:21:43.078084Z",
     "shell.execute_reply": "2021-10-25T08:21:43.076240Z"
    }
   },
   "outputs": [
    {
     "data": {
      "image/svg+xml": [
       "<?xml version=\"1.0\" encoding=\"UTF-8\" standalone=\"no\"?><svg xmlns=\"http://www.w3.org/2000/svg\" xmlns:xlink=\"http://www.w3.org/1999/xlink\" contentScriptType=\"application/ecmascript\" contentStyleType=\"text/css\" height=\"389px\" preserveAspectRatio=\"none\" style=\"width:428px;height:389px;\" version=\"1.1\" viewBox=\"0 0 428 389\" width=\"428px\" zoomAndPan=\"magnify\"><defs><filter height=\"300%\" id=\"f87leyapwwx3g\" width=\"300%\" x=\"-1\" y=\"-1\"><feGaussianBlur result=\"blurOut\" stdDeviation=\"2.0\"/><feColorMatrix in=\"blurOut\" result=\"blurOut2\" type=\"matrix\" values=\"0 0 0 0 0 0 0 0 0 0 0 0 0 0 0 0 0 0 .4 0\"/><feOffset dx=\"4.0\" dy=\"4.0\" in=\"blurOut2\" result=\"blurOut3\"/><feBlend in=\"SourceGraphic\" in2=\"blurOut3\" mode=\"normal\"/></filter></defs><g><!--MD5=[fbc87193dbaf4d95561dea2c320d4a47]\n",
       "cluster E1--><a href=\"psysml:54c28c65-c036-409b-a9ca-8f60ef8eadfb\" target=\"_top\" title=\"psysml:54c28c65-c036-409b-a9ca-8f60ef8eadfb\" xlink:actuate=\"onRequest\" xlink:href=\"psysml:54c28c65-c036-409b-a9ca-8f60ef8eadfb\" xlink:show=\"new\" xlink:title=\"psysml:54c28c65-c036-409b-a9ca-8f60ef8eadfb\" xlink:type=\"simple\"><polygon fill=\"#FFFFFF\" filter=\"url(#f87leyapwwx3g)\" points=\"16,6,116,6,123,28.2969,406,28.2969,406,377,16,377,16,6\" style=\"stroke: #000000; stroke-width: 1.5;\"/><line style=\"stroke: #000000; stroke-width: 1.5;\" x1=\"16\" x2=\"123\" y1=\"28.2969\" y2=\"28.2969\"/><text fill=\"#000000\" font-family=\"sans-serif\" font-size=\"14\" font-weight=\"bold\" lengthAdjust=\"spacingAndGlyphs\" textLength=\"94\" x=\"20\" y=\"20.9951\">VariabilityTest</text></a><!--MD5=[b4997ac47864f28c2f74865a473b2911]\n",
       "class E2--><a href=\"psysml:82cb16a2-9eb2-4cce-bbbe-e1592c7acc8b\" target=\"_top\" title=\"psysml:82cb16a2-9eb2-4cce-bbbe-e1592c7acc8b\" xlink:actuate=\"onRequest\" xlink:href=\"psysml:82cb16a2-9eb2-4cce-bbbe-e1592c7acc8b\" xlink:show=\"new\" xlink:title=\"psysml:82cb16a2-9eb2-4cce-bbbe-e1592c7acc8b\" xlink:type=\"simple\"><rect fill=\"#FEFECE\" filter=\"url(#f87leyapwwx3g)\" height=\"75.5469\" id=\"E2\" style=\"stroke: #A80036; stroke-width: 1.5;\" width=\"70\" x=\"207\" y=\"285\"/><text fill=\"#000000\" font-family=\"sans-serif\" font-size=\"12\" font-style=\"italic\" lengthAdjust=\"spacingAndGlyphs\" textLength=\"68\" x=\"208\" y=\"301.1387\">«part  def»</text><text fill=\"#000000\" font-family=\"sans-serif\" font-size=\"12\" lengthAdjust=\"spacingAndGlyphs\" textLength=\"8\" x=\"238\" y=\"315.1074\">P</text><line style=\"stroke: #A80036; stroke-width: 1.5;\" x1=\"208\" x2=\"276\" y1=\"322.9375\" y2=\"322.9375\"/><text fill=\"#000000\" font-family=\"sans-serif\" font-size=\"11\" lengthAdjust=\"spacingAndGlyphs\" textLength=\"7\" x=\"213\" y=\"353.9526\">a</text><line style=\"stroke: #A80036; stroke-width: 1.0;\" x1=\"208\" x2=\"214.5\" y1=\"337.3398\" y2=\"337.3398\"/><text fill=\"#000000\" font-family=\"sans-serif\" font-size=\"11\" lengthAdjust=\"spacingAndGlyphs\" textLength=\"55\" x=\"214.5\" y=\"340.6479\">attributes</text><line style=\"stroke: #A80036; stroke-width: 1.0;\" x1=\"269.5\" x2=\"276\" y1=\"337.3398\" y2=\"337.3398\"/></a><!--MD5=[09b614a08d8cba4a07c9adeb5e0fee81]\n",
       "class E3--><a href=\"psysml:2ef5dada-a649-4c80-bc3f-904ca5914f5d\" target=\"_top\" title=\"psysml:2ef5dada-a649-4c80-bc3f-904ca5914f5d\" xlink:actuate=\"onRequest\" xlink:href=\"psysml:2ef5dada-a649-4c80-bc3f-904ca5914f5d\" xlink:show=\"new\" xlink:title=\"psysml:2ef5dada-a649-4c80-bc3f-904ca5914f5d\" xlink:type=\"simple\"><rect fill=\"#FEFECE\" filter=\"url(#f87leyapwwx3g)\" height=\"45.9375\" id=\"E3\" style=\"stroke: #A80036; stroke-width: 1.5;\" width=\"70\" x=\"137\" y=\"155\"/><text fill=\"#000000\" font-family=\"sans-serif\" font-size=\"12\" font-style=\"italic\" lengthAdjust=\"spacingAndGlyphs\" textLength=\"68\" x=\"138\" y=\"171.1387\">«part  def»</text><text fill=\"#000000\" font-family=\"sans-serif\" font-size=\"12\" lengthAdjust=\"spacingAndGlyphs\" textLength=\"9\" x=\"167.5\" y=\"185.1074\">Q</text><line style=\"stroke: #A80036; stroke-width: 1.5;\" x1=\"138\" x2=\"206\" y1=\"192.9375\" y2=\"192.9375\"/></a><!--MD5=[ebbe1d658d1005bcc118a6aa81145e00]\n",
       "class E4--><a href=\"psysml:45188152-89ae-47db-8fae-185a328aceea\" target=\"_top\" title=\"psysml:45188152-89ae-47db-8fae-185a328aceea\" xlink:actuate=\"onRequest\" xlink:href=\"psysml:45188152-89ae-47db-8fae-185a328aceea\" xlink:show=\"new\" xlink:title=\"psysml:45188152-89ae-47db-8fae-185a328aceea\" xlink:type=\"simple\"><rect fill=\"#FEFECE\" filter=\"url(#f87leyapwwx3g)\" height=\"45.9375\" id=\"E4\" style=\"stroke: #A80036; stroke-width: 1.5;\" width=\"99\" x=\"259.5\" y=\"41\"/><text fill=\"#000000\" font-family=\"sans-serif\" font-size=\"12\" font-style=\"italic\" lengthAdjust=\"spacingAndGlyphs\" textLength=\"97\" x=\"260.5\" y=\"57.1387\">«attribute  def»</text><text fill=\"#000000\" font-family=\"sans-serif\" font-size=\"12\" lengthAdjust=\"spacingAndGlyphs\" textLength=\"8\" x=\"305\" y=\"71.1074\">B</text><line style=\"stroke: #A80036; stroke-width: 1.5;\" x1=\"260.5\" x2=\"357.5\" y1=\"78.9375\" y2=\"78.9375\"/></a><!--MD5=[270fce915f116d4de14055a7c1d9a0f3]\n",
       "class E5--><a href=\"psysml:e8a966fa-6247-410c-94c4-6750afcc6da8\" target=\"_top\" title=\"psysml:e8a966fa-6247-410c-94c4-6750afcc6da8\" xlink:actuate=\"onRequest\" xlink:href=\"psysml:e8a966fa-6247-410c-94c4-6750afcc6da8\" xlink:show=\"new\" xlink:title=\"psysml:e8a966fa-6247-410c-94c4-6750afcc6da8\" xlink:type=\"simple\"><rect fill=\"#FEFECE\" filter=\"url(#f87leyapwwx3g)\" height=\"45.9375\" id=\"E5\" style=\"stroke: #A80036; stroke-width: 1.5;\" width=\"70\" x=\"319\" y=\"155\"/><text fill=\"#000000\" font-family=\"sans-serif\" font-size=\"12\" font-style=\"italic\" lengthAdjust=\"spacingAndGlyphs\" textLength=\"68\" x=\"320\" y=\"171.1387\">«part  def»</text><text fill=\"#000000\" font-family=\"sans-serif\" font-size=\"12\" font-style=\"italic\" lengthAdjust=\"spacingAndGlyphs\" textLength=\"8\" x=\"350\" y=\"185.1074\">V</text><line style=\"stroke: #A80036; stroke-width: 1.5;\" x1=\"320\" x2=\"388\" y1=\"192.9375\" y2=\"192.9375\"/></a><!--MD5=[60a26617385b1d2d0262a64233df1f8d]\n",
       "class E6--><a href=\"psysml:10060237-19c5-40dc-a73e-8cb7e4953e81\" target=\"_top\" title=\"psysml:10060237-19c5-40dc-a73e-8cb7e4953e81\" xlink:actuate=\"onRequest\" xlink:href=\"psysml:10060237-19c5-40dc-a73e-8cb7e4953e81\" xlink:show=\"new\" xlink:title=\"psysml:10060237-19c5-40dc-a73e-8cb7e4953e81\" xlink:type=\"simple\"><rect fill=\"#FEFECE\" filter=\"url(#f87leyapwwx3g)\" height=\"76.4922\" id=\"E6\" rx=\"10\" ry=\"10\" style=\"stroke: #A80036; stroke-width: 1.5;\" width=\"78\" x=\"312\" y=\"285\"/><text fill=\"#000000\" font-family=\"sans-serif\" font-size=\"12\" font-style=\"italic\" lengthAdjust=\"spacingAndGlyphs\" textLength=\"40\" x=\"331\" y=\"301.1387\">«part»</text><text fill=\"#000000\" font-family=\"sans-serif\" font-size=\"12\" lengthAdjust=\"spacingAndGlyphs\" textLength=\"23\" x=\"337.5\" y=\"315.1074\">x: Q</text><line style=\"stroke: #A80036; stroke-width: 1.5;\" x1=\"313\" x2=\"389\" y1=\"322.9375\" y2=\"322.9375\"/><path d=\"M319.9167,344.6589 L319.9167,353.8255 L320.8333,353.8255 L320.8333,344.6589 M323.5833,344.6589 L323.5833,353.8255 L330.9167,349.2422 L323.5833,344.6589 L324.5,346.0339 L329.5417,349.2422 L324.5,352.4505 L324.5,346.0339 \" fill=\"#000000\" style=\"stroke: ; stroke-width: 0.0; stroke-dasharray: ;\"/><text fill=\"#000000\" font-family=\"sans-serif\" font-size=\"11\" lengthAdjust=\"spacingAndGlyphs\" textLength=\"23\" x=\"335\" y=\"354.8979\">b: B</text><text fill=\"#000000\" font-family=\"sans-serif\" font-size=\"11\" lengthAdjust=\"spacingAndGlyphs\" text-decoration=\"line-through\" textLength=\"22\" x=\"362\" y=\"354.8979\">P::a</text><line style=\"stroke: #A80036; stroke-width: 1.0;\" x1=\"313\" x2=\"323.5\" y1=\"337.3398\" y2=\"337.3398\"/><text fill=\"#000000\" font-family=\"sans-serif\" font-size=\"11\" lengthAdjust=\"spacingAndGlyphs\" textLength=\"55\" x=\"323.5\" y=\"340.6479\">attributes</text><line style=\"stroke: #A80036; stroke-width: 1.0;\" x1=\"378.5\" x2=\"389\" y1=\"337.3398\" y2=\"337.3398\"/></a><!--MD5=[2156ba9850f5573cc1fc38a6a4b2f02b]\n",
       "class E7--><a href=\"psysml:070ce293-3e12-454f-ad5b-be257c39d672\" target=\"_top\" title=\"psysml:070ce293-3e12-454f-ad5b-be257c39d672\" xlink:actuate=\"onRequest\" xlink:href=\"psysml:070ce293-3e12-454f-ad5b-be257c39d672\" xlink:show=\"new\" xlink:title=\"psysml:070ce293-3e12-454f-ad5b-be257c39d672\" xlink:type=\"simple\"><rect fill=\"#FEFECE\" filter=\"url(#f87leyapwwx3g)\" height=\"45.9375\" id=\"E7\" rx=\"10\" ry=\"10\" style=\"stroke: #A80036; stroke-width: 1.5;\" width=\"42\" x=\"151\" y=\"41\"/><text fill=\"#000000\" font-family=\"sans-serif\" font-size=\"12\" font-style=\"italic\" lengthAdjust=\"spacingAndGlyphs\" textLength=\"40\" x=\"152\" y=\"57.1387\">«part»</text><text fill=\"#000000\" font-family=\"sans-serif\" font-size=\"12\" lengthAdjust=\"spacingAndGlyphs\" textLength=\"25\" x=\"157.5\" y=\"71.1074\">q: Q</text><line style=\"stroke: #A80036; stroke-width: 1.5;\" x1=\"152\" x2=\"192\" y1=\"78.9375\" y2=\"78.9375\"/></a><!--MD5=[b9389687b975829384b498ac4b7476b2]\n",
       "class E8--><a href=\"psysml:3367482b-ff59-4bbe-a9dc-fe1b4a2ad697\" target=\"_top\" title=\"psysml:3367482b-ff59-4bbe-a9dc-fe1b4a2ad697\" xlink:actuate=\"onRequest\" xlink:href=\"psysml:3367482b-ff59-4bbe-a9dc-fe1b4a2ad697\" xlink:show=\"new\" xlink:title=\"psysml:3367482b-ff59-4bbe-a9dc-fe1b4a2ad697\" xlink:type=\"simple\"><rect fill=\"#FEFECE\" filter=\"url(#f87leyapwwx3g)\" height=\"59.9063\" id=\"E8\" rx=\"10\" ry=\"10\" style=\"stroke: #A80036; stroke-width: 1.5;\" width=\"70\" x=\"32\" y=\"148\"/><text fill=\"#000000\" font-family=\"sans-serif\" font-size=\"12\" font-style=\"italic\" lengthAdjust=\"spacingAndGlyphs\" textLength=\"68\" x=\"33\" y=\"164.1387\">«variation»</text><text fill=\"#000000\" font-family=\"sans-serif\" font-size=\"12\" font-style=\"italic\" lengthAdjust=\"spacingAndGlyphs\" textLength=\"40\" x=\"47\" y=\"178.1074\">«part»</text><text fill=\"#000000\" font-family=\"sans-serif\" font-size=\"12\" font-style=\"italic\" lengthAdjust=\"spacingAndGlyphs\" textLength=\"6\" x=\"54\" y=\"192.0762\">v</text><text fill=\"#000000\" font-family=\"sans-serif\" font-size=\"12\" lengthAdjust=\"spacingAndGlyphs\" textLength=\"16\" x=\"60\" y=\"192.0762\">: P</text><line style=\"stroke: #A80036; stroke-width: 1.5;\" x1=\"33\" x2=\"101\" y1=\"199.9063\" y2=\"199.9063\"/></a><!--MD5=[fd4143e9d270a159db93a4ea2a975926]\n",
       "class E9--><a href=\"psysml:80fa5ea3-437e-4eec-9e3d-5d2e24e12c28\" target=\"_top\" title=\"psysml:80fa5ea3-437e-4eec-9e3d-5d2e24e12c28\" xlink:actuate=\"onRequest\" xlink:href=\"psysml:80fa5ea3-437e-4eec-9e3d-5d2e24e12c28\" xlink:show=\"new\" xlink:title=\"psysml:80fa5ea3-437e-4eec-9e3d-5d2e24e12c28\" xlink:type=\"simple\"><rect fill=\"#FEFECE\" filter=\"url(#f87leyapwwx3g)\" height=\"76.4922\" id=\"E9\" rx=\"10\" ry=\"10\" style=\"stroke: #A80036; stroke-width: 1.5;\" width=\"139\" x=\"32.5\" y=\"285\"/><text fill=\"#000000\" font-family=\"sans-serif\" font-size=\"12\" font-style=\"italic\" lengthAdjust=\"spacingAndGlyphs\" textLength=\"75\" x=\"64.5\" y=\"301.1387\">«reference»</text><text fill=\"#000000\" font-family=\"sans-serif\" font-size=\"12\" lengthAdjust=\"spacingAndGlyphs\" textLength=\"133\" x=\"35.5\" y=\"315.1074\">q :&gt; VariabilityTest::q</text><line style=\"stroke: #A80036; stroke-width: 1.5;\" x1=\"33.5\" x2=\"170.5\" y1=\"322.9375\" y2=\"322.9375\"/><path d=\"M40.4167,344.6589 L40.4167,353.8255 L41.3333,353.8255 L41.3333,344.6589 M44.0833,344.6589 L44.0833,353.8255 L51.4167,349.2422 L44.0833,344.6589 L45,346.0339 L50.0417,349.2422 L45,352.4505 L45,346.0339 \" fill=\"#000000\" style=\"stroke: ; stroke-width: 0.0; stroke-dasharray: ;\"/><text fill=\"#000000\" font-family=\"sans-serif\" font-size=\"11\" lengthAdjust=\"spacingAndGlyphs\" textLength=\"23\" x=\"55.5\" y=\"354.8979\">b: B</text><text fill=\"#000000\" font-family=\"sans-serif\" font-size=\"11\" lengthAdjust=\"spacingAndGlyphs\" text-decoration=\"line-through\" textLength=\"22\" x=\"82.5\" y=\"354.8979\">P::a</text><line style=\"stroke: #A80036; stroke-width: 1.0;\" x1=\"33.5\" x2=\"74.5\" y1=\"337.3398\" y2=\"337.3398\"/><text fill=\"#000000\" font-family=\"sans-serif\" font-size=\"11\" lengthAdjust=\"spacingAndGlyphs\" textLength=\"55\" x=\"74.5\" y=\"340.6479\">attributes</text><line style=\"stroke: #A80036; stroke-width: 1.0;\" x1=\"129.5\" x2=\"170.5\" y1=\"337.3398\" y2=\"337.3398\"/></a><!--MD5=[96f4274e9e20536e775497830990834d]\n",
       "class E10--><a href=\"psysml:48eaa747-84b8-4879-8d6b-33c104c23f89\" target=\"_top\" title=\"psysml:48eaa747-84b8-4879-8d6b-33c104c23f89\" xlink:actuate=\"onRequest\" xlink:href=\"psysml:48eaa747-84b8-4879-8d6b-33c104c23f89\" xlink:show=\"new\" xlink:title=\"psysml:48eaa747-84b8-4879-8d6b-33c104c23f89\" xlink:type=\"simple\"><rect fill=\"#FEFECE\" filter=\"url(#f87leyapwwx3g)\" height=\"45.9375\" id=\"E10\" rx=\"10\" ry=\"10\" style=\"stroke: #A80036; stroke-width: 1.5;\" width=\"42\" x=\"242\" y=\"155\"/><text fill=\"#000000\" font-family=\"sans-serif\" font-size=\"12\" font-style=\"italic\" lengthAdjust=\"spacingAndGlyphs\" textLength=\"40\" x=\"243\" y=\"171.1387\">«part»</text><text fill=\"#000000\" font-family=\"sans-serif\" font-size=\"12\" lengthAdjust=\"spacingAndGlyphs\" textLength=\"22\" x=\"250\" y=\"185.1074\">y: P</text><line style=\"stroke: #A80036; stroke-width: 1.5;\" x1=\"243\" x2=\"283\" y1=\"192.9375\" y2=\"192.9375\"/></a><!--MD5=[05d275557350bfb9b23a4ef7222b4c39]\n",
       "link E3 to E2--><a href=\"psysml:8fca0815-a461-4953-83e8-63ed8c86de29\" target=\"_top\" title=\"psysml:8fca0815-a461-4953-83e8-63ed8c86de29\" xlink:actuate=\"onRequest\" xlink:href=\"psysml:8fca0815-a461-4953-83e8-63ed8c86de29\" xlink:show=\"new\" xlink:title=\"psysml:8fca0815-a461-4953-83e8-63ed8c86de29\" xlink:type=\"simple\"><path d=\"M182.78,201.03 C191.37,218.56 203.76,243.88 214.99,266.82 \" fill=\"none\" id=\"E3-&gt;E2\" style=\"stroke: #A80036; stroke-width: 1.0;\"/><polygon fill=\"none\" points=\"221.34,263.88,223.85,284.92,208.77,270.03,221.34,263.88\" style=\"stroke: #A80036; stroke-width: 1.0;\"/></a><!--MD5=[15ebcb19ae302d9b601edb458606d402]\n",
       "link E5 to E2--><a href=\"psysml:80d735d5-abd9-4df4-b941-a11b60e81c18\" target=\"_top\" title=\"psysml:80d735d5-abd9-4df4-b941-a11b60e81c18\" xlink:actuate=\"onRequest\" xlink:href=\"psysml:80d735d5-abd9-4df4-b941-a11b60e81c18\" xlink:show=\"new\" xlink:title=\"psysml:80d735d5-abd9-4df4-b941-a11b60e81c18\" xlink:type=\"simple\"><path d=\"M336.75,201.03 C322.6,219.08 302,245.39 283.61,268.87 \" fill=\"none\" id=\"E5-&gt;E2\" style=\"stroke: #A80036; stroke-width: 1.0;\"/><polygon fill=\"none\" points=\"288.89,273.49,271.04,284.92,277.87,264.85,288.89,273.49\" style=\"stroke: #A80036; stroke-width: 1.0;\"/></a><!--MD5=[9120cf2e5df3bff93db8f754bbbc09b4]\n",
       "link E5 to E6--><a href=\"psysml:bbf94ce0-8140-4269-b805-c97e9315d509\" target=\"_top\" title=\"psysml:bbf94ce0-8140-4269-b805-c97e9315d509\" xlink:actuate=\"onRequest\" xlink:href=\"psysml:bbf94ce0-8140-4269-b805-c97e9315d509\" xlink:show=\"new\" xlink:title=\"psysml:bbf94ce0-8140-4269-b805-c97e9315d509\" xlink:type=\"simple\"><path d=\"M353.33,211.14 C352.93,229.86 352.43,253.81 351.99,274.66 \" fill=\"none\" id=\"E5-E6\" style=\"stroke: #A80036; stroke-width: 1.0;\"/><polygon fill=\"#A80036\" points=\"351.78,284.92,354.9507,276.9861,348.9521,276.8576,351.78,284.92\" style=\"stroke: #A80036; stroke-width: 1.0;\"/><path d=\"M345.0188,203.9263 A9,9 0 0 0 361.9293 204.2887\" fill=\"none\" style=\"stroke: #A80036; stroke-width: 1.5;\"/><text fill=\"#000000\" font-family=\"sans-serif\" font-size=\"13\" lengthAdjust=\"spacingAndGlyphs\" textLength=\"60\" x=\"353\" y=\"251.0669\">«variant»</text></a><!--MD5=[14ccda38c055a5c0da953d572bc50960]\n",
       "link E7 to E3--><a href=\"psysml:1a218306-3ccb-4021-8143-a6b7222dd125\" target=\"_top\" title=\"psysml:1a218306-3ccb-4021-8143-a6b7222dd125\" xlink:actuate=\"onRequest\" xlink:href=\"psysml:1a218306-3ccb-4021-8143-a6b7222dd125\" xlink:show=\"new\" xlink:title=\"psysml:1a218306-3ccb-4021-8143-a6b7222dd125\" xlink:type=\"simple\"><path d=\"M172,87.13 C172,100.7 172,118.53 172,134.73 \" fill=\"none\" id=\"E7-&gt;E3\" style=\"stroke: #A80036; stroke-width: 1.0;\"/><polygon fill=\"#FFFFFF\" points=\"172,154.92,165,135.92,179,135.92,172,154.92\" style=\"stroke: #A80036; stroke-width: 1.0;\"/><ellipse cx=\"167\" cy=\"130.22\" fill=\"#A80036\" rx=\"2\" ry=\"2\" style=\"stroke: #A80036; stroke-width: 1.0;\"/><ellipse cx=\"177\" cy=\"130.22\" fill=\"#A80036\" rx=\"2\" ry=\"2\" style=\"stroke: #A80036; stroke-width: 1.0;\"/></a><!--MD5=[f1f3f9f2fc535e6147756cb86a7f2e32]\n",
       "link E8 to E2--><a href=\"psysml:0a07ead6-b6a6-4f86-92cb-b01532aad754\" target=\"_top\" title=\"psysml:0a07ead6-b6a6-4f86-92cb-b01532aad754\" xlink:actuate=\"onRequest\" xlink:href=\"psysml:0a07ead6-b6a6-4f86-92cb-b01532aad754\" xlink:show=\"new\" xlink:title=\"psysml:0a07ead6-b6a6-4f86-92cb-b01532aad754\" xlink:type=\"simple\"><path d=\"M102.27,200.61 C118.77,211.23 138.4,224.6 155,238 C167.63,248.2 180.58,259.91 192.49,271.27 \" fill=\"none\" id=\"E8-&gt;E2\" style=\"stroke: #A80036; stroke-width: 1.0;\"/><polygon fill=\"#FFFFFF\" points=\"206.92,285.36,188.4337,277.0982,198.2125,267.0794,206.92,285.36\" style=\"stroke: #A80036; stroke-width: 1.0;\"/><ellipse cx=\"185.7516\" cy=\"271.6856\" fill=\"#A80036\" rx=\"2\" ry=\"2\" style=\"stroke: #A80036; stroke-width: 1.0;\"/><ellipse cx=\"192.7365\" cy=\"264.5293\" fill=\"#A80036\" rx=\"2\" ry=\"2\" style=\"stroke: #A80036; stroke-width: 1.0;\"/></a><!--MD5=[ed10624c06dd9a4fa49ccf290e8b16a8]\n",
       "link E8 to E9--><a href=\"psysml:95cf767c-bf38-4d44-8a21-82e4671e1c7d\" target=\"_top\" title=\"psysml:95cf767c-bf38-4d44-8a21-82e4671e1c7d\" xlink:actuate=\"onRequest\" xlink:href=\"psysml:95cf767c-bf38-4d44-8a21-82e4671e1c7d\" xlink:show=\"new\" xlink:title=\"psysml:95cf767c-bf38-4d44-8a21-82e4671e1c7d\" xlink:type=\"simple\"><path d=\"M76.57,218.08 C80.86,235.64 85.97,256.5 90.48,274.91 \" fill=\"none\" id=\"E8-E9\" style=\"stroke: #A80036; stroke-width: 1.0;\"/><polygon fill=\"#A80036\" points=\"92.91,284.85,93.9272,276.3668,88.0984,277.7897,92.91,284.85\" style=\"stroke: #A80036; stroke-width: 1.0;\"/><path d=\"M66.6927,213.289 A9,9 0 0 0 83.1177 209.2492\" fill=\"none\" style=\"stroke: #A80036; stroke-width: 1.5;\"/><text fill=\"#000000\" font-family=\"sans-serif\" font-size=\"13\" lengthAdjust=\"spacingAndGlyphs\" textLength=\"60\" x=\"86\" y=\"251.0669\">«variant»</text></a><!--MD5=[0f36bececdf0dff6e600d6f64214b0f1]\n",
       "link E10 to E2--><a href=\"psysml:6b6ac884-9cd9-45a3-8497-3c127dcfd472\" target=\"_top\" title=\"psysml:6b6ac884-9cd9-45a3-8497-3c127dcfd472\" xlink:actuate=\"onRequest\" xlink:href=\"psysml:6b6ac884-9cd9-45a3-8497-3c127dcfd472\" xlink:show=\"new\" xlink:title=\"psysml:6b6ac884-9cd9-45a3-8497-3c127dcfd472\" xlink:type=\"simple\"><path d=\"M259.76,201.03 C257.25,218.13 253.66,242.62 250.36,265.1 \" fill=\"none\" id=\"E10-&gt;E2\" style=\"stroke: #A80036; stroke-width: 1.0;\"/><polygon fill=\"#FFFFFF\" points=\"247.45,284.92,243.2934,265.1028,257.144,267.1429,247.45,284.92\" style=\"stroke: #A80036; stroke-width: 1.0;\"/><ellipse cx=\"246.1027\" cy=\"259.7551\" fill=\"#A80036\" rx=\"2\" ry=\"2\" style=\"stroke: #A80036; stroke-width: 1.0;\"/><ellipse cx=\"255.9959\" cy=\"261.2123\" fill=\"#A80036\" rx=\"2\" ry=\"2\" style=\"stroke: #A80036; stroke-width: 1.0;\"/></a><!--MD5=[7959be40217a530d4c3fce73ddbadfd2]\n",
       "@startuml\r\n",
       "skinparam wrapWidth 300\r\n",
       "hide circle\r\n",
       "\r\n",
       "package \"VariabilityTest\" as E1  [[psysml:54c28c65-c036-409b-a9ca-8f60ef8eadfb ]]  {\r\n",
       "comp def \"P\" as E2  <<(T,blue) part  def>> [[psysml:82cb16a2-9eb2-4cce-bbbe-e1592c7acc8b ]] {\r\n",
       "- - attributes - -\r\n",
       "a\r\n",
       "}\r\n",
       "comp def \"Q\" as E3  <<(T,blue) part  def>> [[psysml:2ef5dada-a649-4c80-bc3f-904ca5914f5d ]] {\r\n",
       "}\r\n",
       "comp def \"B\" as E4  <<(T,blue) attribute  def>> [[psysml:45188152-89ae-47db-8fae-185a328aceea ]] {\r\n",
       "}\r\n",
       "comp def \"<i>V</i>\" as E5  <<(T,blue) part  def>> [[psysml:e8a966fa-6247-410c-94c4-6750afcc6da8 ]] {\r\n",
       "}\r\n",
       "comp usage \"x: Q \" as E6  <<(T,blue) part>> [[psysml:10060237-19c5-40dc-a73e-8cb7e4953e81 ]] {\r\n",
       "- - attributes - -\r\n",
       "<&bar-trig> b: B <s>P::a</s>\r\n",
       "}\r\n",
       "comp usage \"q: Q \" as E7  <<(T,blue) part>> [[psysml:070ce293-3e12-454f-ad5b-be257c39d672 ]] {\r\n",
       "}\r\n",
       "comp usage \"<i>v</i>: P \" as E8  <<variation>>\\n <<(T,blue) part>> [[psysml:3367482b-ff59-4bbe-a9dc-fe1b4a2ad697 ]] {\r\n",
       "}\r\n",
       "comp usage \"q :> VariabilityTest::q\" as E9  <<(T,blue) reference>> [[psysml:80fa5ea3-437e-4eec-9e3d-5d2e24e12c28 ]] {\r\n",
       "- - attributes - -\r\n",
       "<&bar-trig> b: B <s>P::a</s>\r\n",
       "}\r\n",
       "comp usage \"y: P \" as E10  <<(T,blue) part>> [[psysml:48eaa747-84b8-4879-8d6b-33c104c23f89 ]] {\r\n",
       "}\r\n",
       "}\r\n",
       "E3 - -|> E2 [[psysml:8fca0815-a461-4953-83e8-63ed8c86de29 ]] \r\n",
       "E5 - -|> E2 [[psysml:80d735d5-abd9-4df4-b941-a11b60e81c18 ]] \r\n",
       "E5 )- ->> E6 [[psysml:bbf94ce0-8140-4269-b805-c97e9315d509 ]] : <<variant>>\r\n",
       "E7 - -:|> E3 [[psysml:1a218306-3ccb-4021-8143-a6b7222dd125 ]] \r\n",
       "E8 - -:|> E2 [[psysml:0a07ead6-b6a6-4f86-92cb-b01532aad754 ]] \r\n",
       "E8 )- ->> E9 [[psysml:95cf767c-bf38-4d44-8a21-82e4671e1c7d ]] : <<variant>>\r\n",
       "E10 - -:|> E2 [[psysml:6b6ac884-9cd9-45a3-8497-3c127dcfd472 ]] \r\n",
       "@enduml\r\n",
       "\n",
       "PlantUML version 1.2020.13(Sat Jun 13 12:26:38 UTC 2020)\n",
       "(EPL source distribution)\n",
       "Java Runtime: OpenJDK Runtime Environment\n",
       "JVM: OpenJDK 64-Bit Server VM\n",
       "Default Encoding: UTF-8\n",
       "Language: en\n",
       "Country: null\n",
       "--></g></svg>"
      ]
     },
     "execution_count": 23,
     "metadata": {},
     "output_type": "execute_result"
    }
   ],
   "source": [
    "%viz --style=\"STDCOLOR\" --view=\"Default\" \"VariabilityTest\""
   ]
  },
  {
   "cell_type": "code",
   "execution_count": 24,
   "id": "f4f3e5b9",
   "metadata": {
    "execution": {
     "iopub.execute_input": "2021-10-25T08:21:43.127318Z",
     "iopub.status.busy": "2021-10-25T08:21:43.126913Z",
     "iopub.status.idle": "2021-10-25T08:21:43.220975Z",
     "shell.execute_reply": "2021-10-25T08:21:43.219092Z"
    }
   },
   "outputs": [
    {
     "data": {
      "image/svg+xml": [
       "<?xml version=\"1.0\" encoding=\"UTF-8\" standalone=\"no\"?><svg xmlns=\"http://www.w3.org/2000/svg\" xmlns:xlink=\"http://www.w3.org/1999/xlink\" contentScriptType=\"application/ecmascript\" contentStyleType=\"text/css\" height=\"389px\" preserveAspectRatio=\"none\" style=\"width:428px;height:389px;\" version=\"1.1\" viewBox=\"0 0 428 389\" width=\"428px\" zoomAndPan=\"magnify\"><defs><filter height=\"300%\" id=\"f87leyapwwx3g\" width=\"300%\" x=\"-1\" y=\"-1\"><feGaussianBlur result=\"blurOut\" stdDeviation=\"2.0\"/><feColorMatrix in=\"blurOut\" result=\"blurOut2\" type=\"matrix\" values=\"0 0 0 0 0 0 0 0 0 0 0 0 0 0 0 0 0 0 .4 0\"/><feOffset dx=\"4.0\" dy=\"4.0\" in=\"blurOut2\" result=\"blurOut3\"/><feBlend in=\"SourceGraphic\" in2=\"blurOut3\" mode=\"normal\"/></filter></defs><g><!--MD5=[fbc87193dbaf4d95561dea2c320d4a47]\n",
       "cluster E1--><a href=\"psysml:54c28c65-c036-409b-a9ca-8f60ef8eadfb\" target=\"_top\" title=\"psysml:54c28c65-c036-409b-a9ca-8f60ef8eadfb\" xlink:actuate=\"onRequest\" xlink:href=\"psysml:54c28c65-c036-409b-a9ca-8f60ef8eadfb\" xlink:show=\"new\" xlink:title=\"psysml:54c28c65-c036-409b-a9ca-8f60ef8eadfb\" xlink:type=\"simple\"><polygon fill=\"#FFFFFF\" filter=\"url(#f87leyapwwx3g)\" points=\"16,6,116,6,123,28.2969,406,28.2969,406,377,16,377,16,6\" style=\"stroke: #000000; stroke-width: 1.5;\"/><line style=\"stroke: #000000; stroke-width: 1.5;\" x1=\"16\" x2=\"123\" y1=\"28.2969\" y2=\"28.2969\"/><text fill=\"#000000\" font-family=\"sans-serif\" font-size=\"14\" font-weight=\"bold\" lengthAdjust=\"spacingAndGlyphs\" textLength=\"94\" x=\"20\" y=\"20.9951\">VariabilityTest</text></a><!--MD5=[b4997ac47864f28c2f74865a473b2911]\n",
       "class E2--><a href=\"psysml:82cb16a2-9eb2-4cce-bbbe-e1592c7acc8b\" target=\"_top\" title=\"psysml:82cb16a2-9eb2-4cce-bbbe-e1592c7acc8b\" xlink:actuate=\"onRequest\" xlink:href=\"psysml:82cb16a2-9eb2-4cce-bbbe-e1592c7acc8b\" xlink:show=\"new\" xlink:title=\"psysml:82cb16a2-9eb2-4cce-bbbe-e1592c7acc8b\" xlink:type=\"simple\"><rect fill=\"#FEFECE\" filter=\"url(#f87leyapwwx3g)\" height=\"75.5469\" id=\"E2\" style=\"stroke: #A80036; stroke-width: 1.5;\" width=\"70\" x=\"207\" y=\"285\"/><text fill=\"#000000\" font-family=\"sans-serif\" font-size=\"12\" font-style=\"italic\" lengthAdjust=\"spacingAndGlyphs\" textLength=\"68\" x=\"208\" y=\"301.1387\">«part  def»</text><text fill=\"#000000\" font-family=\"sans-serif\" font-size=\"12\" lengthAdjust=\"spacingAndGlyphs\" textLength=\"8\" x=\"238\" y=\"315.1074\">P</text><line style=\"stroke: #A80036; stroke-width: 1.5;\" x1=\"208\" x2=\"276\" y1=\"322.9375\" y2=\"322.9375\"/><text fill=\"#000000\" font-family=\"sans-serif\" font-size=\"11\" lengthAdjust=\"spacingAndGlyphs\" textLength=\"7\" x=\"213\" y=\"353.9526\">a</text><line style=\"stroke: #A80036; stroke-width: 1.0;\" x1=\"208\" x2=\"214.5\" y1=\"337.3398\" y2=\"337.3398\"/><text fill=\"#000000\" font-family=\"sans-serif\" font-size=\"11\" lengthAdjust=\"spacingAndGlyphs\" textLength=\"55\" x=\"214.5\" y=\"340.6479\">attributes</text><line style=\"stroke: #A80036; stroke-width: 1.0;\" x1=\"269.5\" x2=\"276\" y1=\"337.3398\" y2=\"337.3398\"/></a><!--MD5=[09b614a08d8cba4a07c9adeb5e0fee81]\n",
       "class E3--><a href=\"psysml:2ef5dada-a649-4c80-bc3f-904ca5914f5d\" target=\"_top\" title=\"psysml:2ef5dada-a649-4c80-bc3f-904ca5914f5d\" xlink:actuate=\"onRequest\" xlink:href=\"psysml:2ef5dada-a649-4c80-bc3f-904ca5914f5d\" xlink:show=\"new\" xlink:title=\"psysml:2ef5dada-a649-4c80-bc3f-904ca5914f5d\" xlink:type=\"simple\"><rect fill=\"#FEFECE\" filter=\"url(#f87leyapwwx3g)\" height=\"45.9375\" id=\"E3\" style=\"stroke: #A80036; stroke-width: 1.5;\" width=\"70\" x=\"137\" y=\"155\"/><text fill=\"#000000\" font-family=\"sans-serif\" font-size=\"12\" font-style=\"italic\" lengthAdjust=\"spacingAndGlyphs\" textLength=\"68\" x=\"138\" y=\"171.1387\">«part  def»</text><text fill=\"#000000\" font-family=\"sans-serif\" font-size=\"12\" lengthAdjust=\"spacingAndGlyphs\" textLength=\"9\" x=\"167.5\" y=\"185.1074\">Q</text><line style=\"stroke: #A80036; stroke-width: 1.5;\" x1=\"138\" x2=\"206\" y1=\"192.9375\" y2=\"192.9375\"/></a><!--MD5=[ebbe1d658d1005bcc118a6aa81145e00]\n",
       "class E4--><a href=\"psysml:45188152-89ae-47db-8fae-185a328aceea\" target=\"_top\" title=\"psysml:45188152-89ae-47db-8fae-185a328aceea\" xlink:actuate=\"onRequest\" xlink:href=\"psysml:45188152-89ae-47db-8fae-185a328aceea\" xlink:show=\"new\" xlink:title=\"psysml:45188152-89ae-47db-8fae-185a328aceea\" xlink:type=\"simple\"><rect fill=\"#FEFECE\" filter=\"url(#f87leyapwwx3g)\" height=\"45.9375\" id=\"E4\" style=\"stroke: #A80036; stroke-width: 1.5;\" width=\"99\" x=\"259.5\" y=\"41\"/><text fill=\"#000000\" font-family=\"sans-serif\" font-size=\"12\" font-style=\"italic\" lengthAdjust=\"spacingAndGlyphs\" textLength=\"97\" x=\"260.5\" y=\"57.1387\">«attribute  def»</text><text fill=\"#000000\" font-family=\"sans-serif\" font-size=\"12\" lengthAdjust=\"spacingAndGlyphs\" textLength=\"8\" x=\"305\" y=\"71.1074\">B</text><line style=\"stroke: #A80036; stroke-width: 1.5;\" x1=\"260.5\" x2=\"357.5\" y1=\"78.9375\" y2=\"78.9375\"/></a><!--MD5=[270fce915f116d4de14055a7c1d9a0f3]\n",
       "class E5--><a href=\"psysml:e8a966fa-6247-410c-94c4-6750afcc6da8\" target=\"_top\" title=\"psysml:e8a966fa-6247-410c-94c4-6750afcc6da8\" xlink:actuate=\"onRequest\" xlink:href=\"psysml:e8a966fa-6247-410c-94c4-6750afcc6da8\" xlink:show=\"new\" xlink:title=\"psysml:e8a966fa-6247-410c-94c4-6750afcc6da8\" xlink:type=\"simple\"><rect fill=\"#FEFECE\" filter=\"url(#f87leyapwwx3g)\" height=\"45.9375\" id=\"E5\" style=\"stroke: #A80036; stroke-width: 1.5;\" width=\"70\" x=\"319\" y=\"155\"/><text fill=\"#000000\" font-family=\"sans-serif\" font-size=\"12\" font-style=\"italic\" lengthAdjust=\"spacingAndGlyphs\" textLength=\"68\" x=\"320\" y=\"171.1387\">«part  def»</text><text fill=\"#000000\" font-family=\"sans-serif\" font-size=\"12\" font-style=\"italic\" lengthAdjust=\"spacingAndGlyphs\" textLength=\"8\" x=\"350\" y=\"185.1074\">V</text><line style=\"stroke: #A80036; stroke-width: 1.5;\" x1=\"320\" x2=\"388\" y1=\"192.9375\" y2=\"192.9375\"/></a><!--MD5=[60a26617385b1d2d0262a64233df1f8d]\n",
       "class E6--><a href=\"psysml:10060237-19c5-40dc-a73e-8cb7e4953e81\" target=\"_top\" title=\"psysml:10060237-19c5-40dc-a73e-8cb7e4953e81\" xlink:actuate=\"onRequest\" xlink:href=\"psysml:10060237-19c5-40dc-a73e-8cb7e4953e81\" xlink:show=\"new\" xlink:title=\"psysml:10060237-19c5-40dc-a73e-8cb7e4953e81\" xlink:type=\"simple\"><rect fill=\"#FEFECE\" filter=\"url(#f87leyapwwx3g)\" height=\"76.4922\" id=\"E6\" rx=\"10\" ry=\"10\" style=\"stroke: #A80036; stroke-width: 1.5;\" width=\"78\" x=\"312\" y=\"285\"/><text fill=\"#000000\" font-family=\"sans-serif\" font-size=\"12\" font-style=\"italic\" lengthAdjust=\"spacingAndGlyphs\" textLength=\"40\" x=\"331\" y=\"301.1387\">«part»</text><text fill=\"#000000\" font-family=\"sans-serif\" font-size=\"12\" lengthAdjust=\"spacingAndGlyphs\" textLength=\"23\" x=\"337.5\" y=\"315.1074\">x: Q</text><line style=\"stroke: #A80036; stroke-width: 1.5;\" x1=\"313\" x2=\"389\" y1=\"322.9375\" y2=\"322.9375\"/><path d=\"M319.9167,344.6589 L319.9167,353.8255 L320.8333,353.8255 L320.8333,344.6589 M323.5833,344.6589 L323.5833,353.8255 L330.9167,349.2422 L323.5833,344.6589 L324.5,346.0339 L329.5417,349.2422 L324.5,352.4505 L324.5,346.0339 \" fill=\"#000000\" style=\"stroke: ; stroke-width: 0.0; stroke-dasharray: ;\"/><text fill=\"#000000\" font-family=\"sans-serif\" font-size=\"11\" lengthAdjust=\"spacingAndGlyphs\" textLength=\"23\" x=\"335\" y=\"354.8979\">b: B</text><text fill=\"#000000\" font-family=\"sans-serif\" font-size=\"11\" lengthAdjust=\"spacingAndGlyphs\" text-decoration=\"line-through\" textLength=\"22\" x=\"362\" y=\"354.8979\">P::a</text><line style=\"stroke: #A80036; stroke-width: 1.0;\" x1=\"313\" x2=\"323.5\" y1=\"337.3398\" y2=\"337.3398\"/><text fill=\"#000000\" font-family=\"sans-serif\" font-size=\"11\" lengthAdjust=\"spacingAndGlyphs\" textLength=\"55\" x=\"323.5\" y=\"340.6479\">attributes</text><line style=\"stroke: #A80036; stroke-width: 1.0;\" x1=\"378.5\" x2=\"389\" y1=\"337.3398\" y2=\"337.3398\"/></a><!--MD5=[2156ba9850f5573cc1fc38a6a4b2f02b]\n",
       "class E7--><a href=\"psysml:070ce293-3e12-454f-ad5b-be257c39d672\" target=\"_top\" title=\"psysml:070ce293-3e12-454f-ad5b-be257c39d672\" xlink:actuate=\"onRequest\" xlink:href=\"psysml:070ce293-3e12-454f-ad5b-be257c39d672\" xlink:show=\"new\" xlink:title=\"psysml:070ce293-3e12-454f-ad5b-be257c39d672\" xlink:type=\"simple\"><rect fill=\"#FEFECE\" filter=\"url(#f87leyapwwx3g)\" height=\"45.9375\" id=\"E7\" rx=\"10\" ry=\"10\" style=\"stroke: #A80036; stroke-width: 1.5;\" width=\"42\" x=\"151\" y=\"41\"/><text fill=\"#000000\" font-family=\"sans-serif\" font-size=\"12\" font-style=\"italic\" lengthAdjust=\"spacingAndGlyphs\" textLength=\"40\" x=\"152\" y=\"57.1387\">«part»</text><text fill=\"#000000\" font-family=\"sans-serif\" font-size=\"12\" lengthAdjust=\"spacingAndGlyphs\" textLength=\"25\" x=\"157.5\" y=\"71.1074\">q: Q</text><line style=\"stroke: #A80036; stroke-width: 1.5;\" x1=\"152\" x2=\"192\" y1=\"78.9375\" y2=\"78.9375\"/></a><!--MD5=[b9389687b975829384b498ac4b7476b2]\n",
       "class E8--><a href=\"psysml:3367482b-ff59-4bbe-a9dc-fe1b4a2ad697\" target=\"_top\" title=\"psysml:3367482b-ff59-4bbe-a9dc-fe1b4a2ad697\" xlink:actuate=\"onRequest\" xlink:href=\"psysml:3367482b-ff59-4bbe-a9dc-fe1b4a2ad697\" xlink:show=\"new\" xlink:title=\"psysml:3367482b-ff59-4bbe-a9dc-fe1b4a2ad697\" xlink:type=\"simple\"><rect fill=\"#FEFECE\" filter=\"url(#f87leyapwwx3g)\" height=\"59.9063\" id=\"E8\" rx=\"10\" ry=\"10\" style=\"stroke: #A80036; stroke-width: 1.5;\" width=\"70\" x=\"32\" y=\"148\"/><text fill=\"#000000\" font-family=\"sans-serif\" font-size=\"12\" font-style=\"italic\" lengthAdjust=\"spacingAndGlyphs\" textLength=\"68\" x=\"33\" y=\"164.1387\">«variation»</text><text fill=\"#000000\" font-family=\"sans-serif\" font-size=\"12\" font-style=\"italic\" lengthAdjust=\"spacingAndGlyphs\" textLength=\"40\" x=\"47\" y=\"178.1074\">«part»</text><text fill=\"#000000\" font-family=\"sans-serif\" font-size=\"12\" font-style=\"italic\" lengthAdjust=\"spacingAndGlyphs\" textLength=\"6\" x=\"54\" y=\"192.0762\">v</text><text fill=\"#000000\" font-family=\"sans-serif\" font-size=\"12\" lengthAdjust=\"spacingAndGlyphs\" textLength=\"16\" x=\"60\" y=\"192.0762\">: P</text><line style=\"stroke: #A80036; stroke-width: 1.5;\" x1=\"33\" x2=\"101\" y1=\"199.9063\" y2=\"199.9063\"/></a><!--MD5=[fd4143e9d270a159db93a4ea2a975926]\n",
       "class E9--><a href=\"psysml:80fa5ea3-437e-4eec-9e3d-5d2e24e12c28\" target=\"_top\" title=\"psysml:80fa5ea3-437e-4eec-9e3d-5d2e24e12c28\" xlink:actuate=\"onRequest\" xlink:href=\"psysml:80fa5ea3-437e-4eec-9e3d-5d2e24e12c28\" xlink:show=\"new\" xlink:title=\"psysml:80fa5ea3-437e-4eec-9e3d-5d2e24e12c28\" xlink:type=\"simple\"><rect fill=\"#FEFECE\" filter=\"url(#f87leyapwwx3g)\" height=\"76.4922\" id=\"E9\" rx=\"10\" ry=\"10\" style=\"stroke: #A80036; stroke-width: 1.5;\" width=\"139\" x=\"32.5\" y=\"285\"/><text fill=\"#000000\" font-family=\"sans-serif\" font-size=\"12\" font-style=\"italic\" lengthAdjust=\"spacingAndGlyphs\" textLength=\"75\" x=\"64.5\" y=\"301.1387\">«reference»</text><text fill=\"#000000\" font-family=\"sans-serif\" font-size=\"12\" lengthAdjust=\"spacingAndGlyphs\" textLength=\"133\" x=\"35.5\" y=\"315.1074\">q :&gt; VariabilityTest::q</text><line style=\"stroke: #A80036; stroke-width: 1.5;\" x1=\"33.5\" x2=\"170.5\" y1=\"322.9375\" y2=\"322.9375\"/><path d=\"M40.4167,344.6589 L40.4167,353.8255 L41.3333,353.8255 L41.3333,344.6589 M44.0833,344.6589 L44.0833,353.8255 L51.4167,349.2422 L44.0833,344.6589 L45,346.0339 L50.0417,349.2422 L45,352.4505 L45,346.0339 \" fill=\"#000000\" style=\"stroke: ; stroke-width: 0.0; stroke-dasharray: ;\"/><text fill=\"#000000\" font-family=\"sans-serif\" font-size=\"11\" lengthAdjust=\"spacingAndGlyphs\" textLength=\"23\" x=\"55.5\" y=\"354.8979\">b: B</text><text fill=\"#000000\" font-family=\"sans-serif\" font-size=\"11\" lengthAdjust=\"spacingAndGlyphs\" text-decoration=\"line-through\" textLength=\"22\" x=\"82.5\" y=\"354.8979\">P::a</text><line style=\"stroke: #A80036; stroke-width: 1.0;\" x1=\"33.5\" x2=\"74.5\" y1=\"337.3398\" y2=\"337.3398\"/><text fill=\"#000000\" font-family=\"sans-serif\" font-size=\"11\" lengthAdjust=\"spacingAndGlyphs\" textLength=\"55\" x=\"74.5\" y=\"340.6479\">attributes</text><line style=\"stroke: #A80036; stroke-width: 1.0;\" x1=\"129.5\" x2=\"170.5\" y1=\"337.3398\" y2=\"337.3398\"/></a><!--MD5=[96f4274e9e20536e775497830990834d]\n",
       "class E10--><a href=\"psysml:48eaa747-84b8-4879-8d6b-33c104c23f89\" target=\"_top\" title=\"psysml:48eaa747-84b8-4879-8d6b-33c104c23f89\" xlink:actuate=\"onRequest\" xlink:href=\"psysml:48eaa747-84b8-4879-8d6b-33c104c23f89\" xlink:show=\"new\" xlink:title=\"psysml:48eaa747-84b8-4879-8d6b-33c104c23f89\" xlink:type=\"simple\"><rect fill=\"#FEFECE\" filter=\"url(#f87leyapwwx3g)\" height=\"45.9375\" id=\"E10\" rx=\"10\" ry=\"10\" style=\"stroke: #A80036; stroke-width: 1.5;\" width=\"42\" x=\"242\" y=\"155\"/><text fill=\"#000000\" font-family=\"sans-serif\" font-size=\"12\" font-style=\"italic\" lengthAdjust=\"spacingAndGlyphs\" textLength=\"40\" x=\"243\" y=\"171.1387\">«part»</text><text fill=\"#000000\" font-family=\"sans-serif\" font-size=\"12\" lengthAdjust=\"spacingAndGlyphs\" textLength=\"22\" x=\"250\" y=\"185.1074\">y: P</text><line style=\"stroke: #A80036; stroke-width: 1.5;\" x1=\"243\" x2=\"283\" y1=\"192.9375\" y2=\"192.9375\"/></a><!--MD5=[05d275557350bfb9b23a4ef7222b4c39]\n",
       "link E3 to E2--><a href=\"psysml:8fca0815-a461-4953-83e8-63ed8c86de29\" target=\"_top\" title=\"psysml:8fca0815-a461-4953-83e8-63ed8c86de29\" xlink:actuate=\"onRequest\" xlink:href=\"psysml:8fca0815-a461-4953-83e8-63ed8c86de29\" xlink:show=\"new\" xlink:title=\"psysml:8fca0815-a461-4953-83e8-63ed8c86de29\" xlink:type=\"simple\"><path d=\"M182.78,201.03 C191.37,218.56 203.76,243.88 214.99,266.82 \" fill=\"none\" id=\"E3-&gt;E2\" style=\"stroke: #A80036; stroke-width: 1.0;\"/><polygon fill=\"none\" points=\"221.34,263.88,223.85,284.92,208.77,270.03,221.34,263.88\" style=\"stroke: #A80036; stroke-width: 1.0;\"/></a><!--MD5=[15ebcb19ae302d9b601edb458606d402]\n",
       "link E5 to E2--><a href=\"psysml:80d735d5-abd9-4df4-b941-a11b60e81c18\" target=\"_top\" title=\"psysml:80d735d5-abd9-4df4-b941-a11b60e81c18\" xlink:actuate=\"onRequest\" xlink:href=\"psysml:80d735d5-abd9-4df4-b941-a11b60e81c18\" xlink:show=\"new\" xlink:title=\"psysml:80d735d5-abd9-4df4-b941-a11b60e81c18\" xlink:type=\"simple\"><path d=\"M336.75,201.03 C322.6,219.08 302,245.39 283.61,268.87 \" fill=\"none\" id=\"E5-&gt;E2\" style=\"stroke: #A80036; stroke-width: 1.0;\"/><polygon fill=\"none\" points=\"288.89,273.49,271.04,284.92,277.87,264.85,288.89,273.49\" style=\"stroke: #A80036; stroke-width: 1.0;\"/></a><!--MD5=[9120cf2e5df3bff93db8f754bbbc09b4]\n",
       "link E5 to E6--><a href=\"psysml:bbf94ce0-8140-4269-b805-c97e9315d509\" target=\"_top\" title=\"psysml:bbf94ce0-8140-4269-b805-c97e9315d509\" xlink:actuate=\"onRequest\" xlink:href=\"psysml:bbf94ce0-8140-4269-b805-c97e9315d509\" xlink:show=\"new\" xlink:title=\"psysml:bbf94ce0-8140-4269-b805-c97e9315d509\" xlink:type=\"simple\"><path d=\"M353.33,211.14 C352.93,229.86 352.43,253.81 351.99,274.66 \" fill=\"none\" id=\"E5-E6\" style=\"stroke: #A80036; stroke-width: 1.0;\"/><polygon fill=\"#A80036\" points=\"351.78,284.92,354.9507,276.9861,348.9521,276.8576,351.78,284.92\" style=\"stroke: #A80036; stroke-width: 1.0;\"/><path d=\"M345.0188,203.9263 A9,9 0 0 0 361.9293 204.2887\" fill=\"none\" style=\"stroke: #A80036; stroke-width: 1.5;\"/><text fill=\"#000000\" font-family=\"sans-serif\" font-size=\"13\" lengthAdjust=\"spacingAndGlyphs\" textLength=\"60\" x=\"353\" y=\"251.0669\">«variant»</text></a><!--MD5=[14ccda38c055a5c0da953d572bc50960]\n",
       "link E7 to E3--><a href=\"psysml:1a218306-3ccb-4021-8143-a6b7222dd125\" target=\"_top\" title=\"psysml:1a218306-3ccb-4021-8143-a6b7222dd125\" xlink:actuate=\"onRequest\" xlink:href=\"psysml:1a218306-3ccb-4021-8143-a6b7222dd125\" xlink:show=\"new\" xlink:title=\"psysml:1a218306-3ccb-4021-8143-a6b7222dd125\" xlink:type=\"simple\"><path d=\"M172,87.13 C172,100.7 172,118.53 172,134.73 \" fill=\"none\" id=\"E7-&gt;E3\" style=\"stroke: #A80036; stroke-width: 1.0;\"/><polygon fill=\"#FFFFFF\" points=\"172,154.92,165,135.92,179,135.92,172,154.92\" style=\"stroke: #A80036; stroke-width: 1.0;\"/><ellipse cx=\"167\" cy=\"130.22\" fill=\"#A80036\" rx=\"2\" ry=\"2\" style=\"stroke: #A80036; stroke-width: 1.0;\"/><ellipse cx=\"177\" cy=\"130.22\" fill=\"#A80036\" rx=\"2\" ry=\"2\" style=\"stroke: #A80036; stroke-width: 1.0;\"/></a><!--MD5=[f1f3f9f2fc535e6147756cb86a7f2e32]\n",
       "link E8 to E2--><a href=\"psysml:0a07ead6-b6a6-4f86-92cb-b01532aad754\" target=\"_top\" title=\"psysml:0a07ead6-b6a6-4f86-92cb-b01532aad754\" xlink:actuate=\"onRequest\" xlink:href=\"psysml:0a07ead6-b6a6-4f86-92cb-b01532aad754\" xlink:show=\"new\" xlink:title=\"psysml:0a07ead6-b6a6-4f86-92cb-b01532aad754\" xlink:type=\"simple\"><path d=\"M102.27,200.61 C118.77,211.23 138.4,224.6 155,238 C167.63,248.2 180.58,259.91 192.49,271.27 \" fill=\"none\" id=\"E8-&gt;E2\" style=\"stroke: #A80036; stroke-width: 1.0;\"/><polygon fill=\"#FFFFFF\" points=\"206.92,285.36,188.4337,277.0982,198.2125,267.0794,206.92,285.36\" style=\"stroke: #A80036; stroke-width: 1.0;\"/><ellipse cx=\"185.7516\" cy=\"271.6856\" fill=\"#A80036\" rx=\"2\" ry=\"2\" style=\"stroke: #A80036; stroke-width: 1.0;\"/><ellipse cx=\"192.7365\" cy=\"264.5293\" fill=\"#A80036\" rx=\"2\" ry=\"2\" style=\"stroke: #A80036; stroke-width: 1.0;\"/></a><!--MD5=[ed10624c06dd9a4fa49ccf290e8b16a8]\n",
       "link E8 to E9--><a href=\"psysml:95cf767c-bf38-4d44-8a21-82e4671e1c7d\" target=\"_top\" title=\"psysml:95cf767c-bf38-4d44-8a21-82e4671e1c7d\" xlink:actuate=\"onRequest\" xlink:href=\"psysml:95cf767c-bf38-4d44-8a21-82e4671e1c7d\" xlink:show=\"new\" xlink:title=\"psysml:95cf767c-bf38-4d44-8a21-82e4671e1c7d\" xlink:type=\"simple\"><path d=\"M76.57,218.08 C80.86,235.64 85.97,256.5 90.48,274.91 \" fill=\"none\" id=\"E8-E9\" style=\"stroke: #A80036; stroke-width: 1.0;\"/><polygon fill=\"#A80036\" points=\"92.91,284.85,93.9272,276.3668,88.0984,277.7897,92.91,284.85\" style=\"stroke: #A80036; stroke-width: 1.0;\"/><path d=\"M66.6927,213.289 A9,9 0 0 0 83.1177 209.2492\" fill=\"none\" style=\"stroke: #A80036; stroke-width: 1.5;\"/><text fill=\"#000000\" font-family=\"sans-serif\" font-size=\"13\" lengthAdjust=\"spacingAndGlyphs\" textLength=\"60\" x=\"86\" y=\"251.0669\">«variant»</text></a><!--MD5=[0f36bececdf0dff6e600d6f64214b0f1]\n",
       "link E10 to E2--><a href=\"psysml:6b6ac884-9cd9-45a3-8497-3c127dcfd472\" target=\"_top\" title=\"psysml:6b6ac884-9cd9-45a3-8497-3c127dcfd472\" xlink:actuate=\"onRequest\" xlink:href=\"psysml:6b6ac884-9cd9-45a3-8497-3c127dcfd472\" xlink:show=\"new\" xlink:title=\"psysml:6b6ac884-9cd9-45a3-8497-3c127dcfd472\" xlink:type=\"simple\"><path d=\"M259.76,201.03 C257.25,218.13 253.66,242.62 250.36,265.1 \" fill=\"none\" id=\"E10-&gt;E2\" style=\"stroke: #A80036; stroke-width: 1.0;\"/><polygon fill=\"#FFFFFF\" points=\"247.45,284.92,243.2934,265.1028,257.144,267.1429,247.45,284.92\" style=\"stroke: #A80036; stroke-width: 1.0;\"/><ellipse cx=\"246.1027\" cy=\"259.7551\" fill=\"#A80036\" rx=\"2\" ry=\"2\" style=\"stroke: #A80036; stroke-width: 1.0;\"/><ellipse cx=\"255.9959\" cy=\"261.2123\" fill=\"#A80036\" rx=\"2\" ry=\"2\" style=\"stroke: #A80036; stroke-width: 1.0;\"/></a><!--MD5=[7959be40217a530d4c3fce73ddbadfd2]\n",
       "@startuml\r\n",
       "skinparam wrapWidth 300\r\n",
       "hide circle\r\n",
       "\r\n",
       "package \"VariabilityTest\" as E1  [[psysml:54c28c65-c036-409b-a9ca-8f60ef8eadfb ]]  {\r\n",
       "comp def \"P\" as E2  <<(T,blue) part  def>> [[psysml:82cb16a2-9eb2-4cce-bbbe-e1592c7acc8b ]] {\r\n",
       "- - attributes - -\r\n",
       "a\r\n",
       "}\r\n",
       "comp def \"Q\" as E3  <<(T,blue) part  def>> [[psysml:2ef5dada-a649-4c80-bc3f-904ca5914f5d ]] {\r\n",
       "}\r\n",
       "comp def \"B\" as E4  <<(T,blue) attribute  def>> [[psysml:45188152-89ae-47db-8fae-185a328aceea ]] {\r\n",
       "}\r\n",
       "comp def \"<i>V</i>\" as E5  <<(T,blue) part  def>> [[psysml:e8a966fa-6247-410c-94c4-6750afcc6da8 ]] {\r\n",
       "}\r\n",
       "comp usage \"x: Q \" as E6  <<(T,blue) part>> [[psysml:10060237-19c5-40dc-a73e-8cb7e4953e81 ]] {\r\n",
       "- - attributes - -\r\n",
       "<&bar-trig> b: B <s>P::a</s>\r\n",
       "}\r\n",
       "comp usage \"q: Q \" as E7  <<(T,blue) part>> [[psysml:070ce293-3e12-454f-ad5b-be257c39d672 ]] {\r\n",
       "}\r\n",
       "comp usage \"<i>v</i>: P \" as E8  <<variation>>\\n <<(T,blue) part>> [[psysml:3367482b-ff59-4bbe-a9dc-fe1b4a2ad697 ]] {\r\n",
       "}\r\n",
       "comp usage \"q :> VariabilityTest::q\" as E9  <<(T,blue) reference>> [[psysml:80fa5ea3-437e-4eec-9e3d-5d2e24e12c28 ]] {\r\n",
       "- - attributes - -\r\n",
       "<&bar-trig> b: B <s>P::a</s>\r\n",
       "}\r\n",
       "comp usage \"y: P \" as E10  <<(T,blue) part>> [[psysml:48eaa747-84b8-4879-8d6b-33c104c23f89 ]] {\r\n",
       "}\r\n",
       "}\r\n",
       "E3 - -|> E2 [[psysml:8fca0815-a461-4953-83e8-63ed8c86de29 ]] \r\n",
       "E5 - -|> E2 [[psysml:80d735d5-abd9-4df4-b941-a11b60e81c18 ]] \r\n",
       "E5 )- ->> E6 [[psysml:bbf94ce0-8140-4269-b805-c97e9315d509 ]] : <<variant>>\r\n",
       "E7 - -:|> E3 [[psysml:1a218306-3ccb-4021-8143-a6b7222dd125 ]] \r\n",
       "E8 - -:|> E2 [[psysml:0a07ead6-b6a6-4f86-92cb-b01532aad754 ]] \r\n",
       "E8 )- ->> E9 [[psysml:95cf767c-bf38-4d44-8a21-82e4671e1c7d ]] : <<variant>>\r\n",
       "E10 - -:|> E2 [[psysml:6b6ac884-9cd9-45a3-8497-3c127dcfd472 ]] \r\n",
       "@enduml\r\n",
       "\n",
       "PlantUML version 1.2020.13(Sat Jun 13 12:26:38 UTC 2020)\n",
       "(EPL source distribution)\n",
       "Java Runtime: OpenJDK Runtime Environment\n",
       "JVM: OpenJDK 64-Bit Server VM\n",
       "Default Encoding: UTF-8\n",
       "Language: en\n",
       "Country: null\n",
       "--></g></svg>"
      ]
     },
     "execution_count": 24,
     "metadata": {},
     "output_type": "execute_result"
    }
   ],
   "source": [
    "%viz --style=\"STDCOLOR\" --view=\"Tree\" \"VariabilityTest\""
   ]
  },
  {
   "cell_type": "code",
   "execution_count": 25,
   "id": "39f24210",
   "metadata": {
    "execution": {
     "iopub.execute_input": "2021-10-25T08:21:43.270298Z",
     "iopub.status.busy": "2021-10-25T08:21:43.269872Z",
     "iopub.status.idle": "2021-10-25T08:21:43.274491Z",
     "shell.execute_reply": "2021-10-25T08:21:43.274104Z"
    }
   },
   "outputs": [
    {
     "data": {
      "image/svg+xml": [
       "<?xml version=\"1.0\" encoding=\"UTF-8\" standalone=\"no\"?><svg xmlns=\"http://www.w3.org/2000/svg\" xmlns:xlink=\"http://www.w3.org/1999/xlink\" contentScriptType=\"application/ecmascript\" contentStyleType=\"text/css\" height=\"12px\" preserveAspectRatio=\"none\" style=\"width:12px;height:12px;\" version=\"1.1\" viewBox=\"0 0 12 12\" width=\"12px\" zoomAndPan=\"magnify\"><defs/><g><!--MD5=[aeeef50f102b80d730deb6443d14f702]\n",
       "@startuml\r\n",
       "skinparam wrapWidth 300\r\n",
       "hide circle\r\n",
       "\r\n",
       "@enduml\r\n",
       "\n",
       "PlantUML version 1.2020.13(Sat Jun 13 12:26:38 UTC 2020)\n",
       "(EPL source distribution)\n",
       "Java Runtime: OpenJDK Runtime Environment\n",
       "JVM: OpenJDK 64-Bit Server VM\n",
       "Default Encoding: UTF-8\n",
       "Language: en\n",
       "Country: null\n",
       "--></g></svg>"
      ]
     },
     "execution_count": 25,
     "metadata": {},
     "output_type": "execute_result"
    }
   ],
   "source": [
    "%viz --style=\"STDCOLOR\" --view=\"State\" \"VariabilityTest\""
   ]
  },
  {
   "cell_type": "code",
   "execution_count": 26,
   "id": "e4da499d",
   "metadata": {
    "execution": {
     "iopub.execute_input": "2021-10-25T08:21:43.323877Z",
     "iopub.status.busy": "2021-10-25T08:21:43.323461Z",
     "iopub.status.idle": "2021-10-25T08:21:43.401948Z",
     "shell.execute_reply": "2021-10-25T08:21:43.401585Z"
    }
   },
   "outputs": [
    {
     "data": {
      "image/svg+xml": [
       "<?xml version=\"1.0\" encoding=\"UTF-8\" standalone=\"no\"?><svg xmlns=\"http://www.w3.org/2000/svg\" xmlns:xlink=\"http://www.w3.org/1999/xlink\" contentScriptType=\"application/ecmascript\" contentStyleType=\"text/css\" height=\"416px\" preserveAspectRatio=\"none\" style=\"width:867px;height:416px;\" version=\"1.1\" viewBox=\"0 0 867 416\" width=\"867px\" zoomAndPan=\"magnify\"><defs><filter height=\"300%\" id=\"fbfd8kyt8b6j1\" width=\"300%\" x=\"-1\" y=\"-1\"><feGaussianBlur result=\"blurOut\" stdDeviation=\"2.0\"/><feColorMatrix in=\"blurOut\" result=\"blurOut2\" type=\"matrix\" values=\"0 0 0 0 0 0 0 0 0 0 0 0 0 0 0 0 0 0 .4 0\"/><feOffset dx=\"4.0\" dy=\"4.0\" in=\"blurOut2\" result=\"blurOut3\"/><feBlend in=\"SourceGraphic\" in2=\"blurOut3\" mode=\"normal\"/></filter></defs><g><!--MD5=[fbc87193dbaf4d95561dea2c320d4a47]\n",
       "cluster E1--><a href=\"psysml:54c28c65-c036-409b-a9ca-8f60ef8eadfb\" target=\"_top\" title=\"psysml:54c28c65-c036-409b-a9ca-8f60ef8eadfb\" xlink:actuate=\"onRequest\" xlink:href=\"psysml:54c28c65-c036-409b-a9ca-8f60ef8eadfb\" xlink:show=\"new\" xlink:title=\"psysml:54c28c65-c036-409b-a9ca-8f60ef8eadfb\" xlink:type=\"simple\"><polygon fill=\"#FFFFFF\" filter=\"url(#fbfd8kyt8b6j1)\" points=\"16,6,116,6,123,28.2969,845,28.2969,845,404,16,404,16,6\" style=\"stroke: #000000; stroke-width: 1.5;\"/><line style=\"stroke: #000000; stroke-width: 1.5;\" x1=\"16\" x2=\"123\" y1=\"28.2969\" y2=\"28.2969\"/><text fill=\"#000000\" font-family=\"sans-serif\" font-size=\"14\" font-weight=\"bold\" lengthAdjust=\"spacingAndGlyphs\" textLength=\"94\" x=\"20\" y=\"20.9951\">VariabilityTest</text></a><!--MD5=[e4f7fae6ed58524ba242bb0b0d3be6b7]\n",
       "cluster E2--><a href=\"psysml:82cb16a2-9eb2-4cce-bbbe-e1592c7acc8b\" target=\"_top\" title=\"psysml:82cb16a2-9eb2-4cce-bbbe-e1592c7acc8b\" xlink:actuate=\"onRequest\" xlink:href=\"psysml:82cb16a2-9eb2-4cce-bbbe-e1592c7acc8b\" xlink:show=\"new\" xlink:title=\"psysml:82cb16a2-9eb2-4cce-bbbe-e1592c7acc8b\" xlink:type=\"simple\"><rect fill=\"#FFFFFF\" filter=\"url(#fbfd8kyt8b6j1)\" height=\"129\" id=\"E2\" style=\"stroke: #A80036; stroke-width: 1.5;\" width=\"139\" x=\"464\" y=\"243\"/><rect fill=\"#FEFECE\" height=\"37.9375\" style=\"stroke: #A80036; stroke-width: 1.5;\" width=\"139\" x=\"464\" y=\"243\"/><text fill=\"#000000\" font-family=\"sans-serif\" font-size=\"12\" font-style=\"italic\" lengthAdjust=\"spacingAndGlyphs\" textLength=\"68\" x=\"499.5\" y=\"259.1387\">«part  def»</text><text fill=\"#000000\" font-family=\"sans-serif\" font-size=\"12\" lengthAdjust=\"spacingAndGlyphs\" textLength=\"8\" x=\"529.5\" y=\"273.1074\">P</text></a><!--MD5=[14e3b0961a2654348d326746436168a1]\n",
       "cluster E6--><a href=\"psysml:e8a966fa-6247-410c-94c4-6750afcc6da8\" target=\"_top\" title=\"psysml:e8a966fa-6247-410c-94c4-6750afcc6da8\" xlink:actuate=\"onRequest\" xlink:href=\"psysml:e8a966fa-6247-410c-94c4-6750afcc6da8\" xlink:show=\"new\" xlink:title=\"psysml:e8a966fa-6247-410c-94c4-6750afcc6da8\" xlink:type=\"simple\"><rect fill=\"#FFFFFF\" filter=\"url(#fbfd8kyt8b6j1)\" height=\"146\" id=\"E6\" style=\"stroke: #A80036; stroke-width: 1.5;\" width=\"145\" x=\"668\" y=\"57\"/><rect fill=\"#FEFECE\" height=\"37.9375\" style=\"stroke: #A80036; stroke-width: 1.5;\" width=\"145\" x=\"668\" y=\"57\"/><text fill=\"#000000\" font-family=\"sans-serif\" font-size=\"12\" font-style=\"italic\" lengthAdjust=\"spacingAndGlyphs\" textLength=\"68\" x=\"706.5\" y=\"73.1387\">«part  def»</text><text fill=\"#000000\" font-family=\"sans-serif\" font-size=\"12\" font-style=\"italic\" lengthAdjust=\"spacingAndGlyphs\" textLength=\"8\" x=\"736.5\" y=\"87.1074\">V</text></a><!--MD5=[7f149f147074ac12df2cb0a7728a5fb0]\n",
       "cluster E9--><a href=\"psysml:3367482b-ff59-4bbe-a9dc-fe1b4a2ad697\" target=\"_top\" title=\"psysml:3367482b-ff59-4bbe-a9dc-fe1b4a2ad697\" xlink:actuate=\"onRequest\" xlink:href=\"psysml:3367482b-ff59-4bbe-a9dc-fe1b4a2ad697\" xlink:show=\"new\" xlink:title=\"psysml:3367482b-ff59-4bbe-a9dc-fe1b4a2ad697\" xlink:type=\"simple\"><rect fill=\"#FFFFFF\" filter=\"url(#fbfd8kyt8b6j1)\" height=\"127\" id=\"E9\" rx=\"10\" ry=\"10\" style=\"stroke: #A80036; stroke-width: 1.5;\" width=\"172\" x=\"464\" y=\"74.5\"/><rect fill=\"#FEFECE\" height=\"23.9688\" rx=\"10\" ry=\"10\" style=\"stroke: #FEFECE; stroke-width: 1.5;\" width=\"172\" x=\"464\" y=\"74.5\"/><rect fill=\"#FEFECE\" height=\"10\" style=\"stroke: #FEFECE; stroke-width: 1.5;\" width=\"172\" x=\"464\" y=\"88.4688\"/><rect fill=\"none\" height=\"127\" id=\"E9\" rx=\"10\" ry=\"10\" style=\"stroke: #A80036; stroke-width: 1.5;\" width=\"172\" x=\"464\" y=\"74.5\"/><text fill=\"#000000\" font-family=\"sans-serif\" font-size=\"12\" lengthAdjust=\"spacingAndGlyphs\" textLength=\"22\" x=\"539\" y=\"90.6387\">v: P</text><line style=\"stroke: #A80036; stroke-width: 1.0;\" x1=\"464\" x2=\"636\" y1=\"98.4688\" y2=\"98.4688\"/></a><g id=\"E1.E5\"><a href=\"psysml:45188152-89ae-47db-8fae-185a328aceea\" target=\"_top\" title=\"psysml:45188152-89ae-47db-8fae-185a328aceea\" xlink:actuate=\"onRequest\" xlink:href=\"psysml:45188152-89ae-47db-8fae-185a328aceea\" xlink:show=\"new\" xlink:title=\"psysml:45188152-89ae-47db-8fae-185a328aceea\" xlink:type=\"simple\"><rect fill=\"#FEFECE\" filter=\"url(#fbfd8kyt8b6j1)\" height=\"42.9375\" id=\"E5\" style=\"stroke: #A80036; stroke-width: 1.5;\" width=\"104\" x=\"341\" y=\"126\"/><text fill=\"#000000\" font-family=\"sans-serif\" font-size=\"12\" font-style=\"italic\" lengthAdjust=\"spacingAndGlyphs\" textLength=\"97\" x=\"344.5\" y=\"142.1387\">«attribute  def»</text><text fill=\"#000000\" font-family=\"sans-serif\" font-size=\"12\" lengthAdjust=\"spacingAndGlyphs\" textLength=\"8\" x=\"389\" y=\"156.1074\">B</text></a></g><!--MD5=[09b614a08d8cba4a07c9adeb5e0fee81]\n",
       "class E3--><a href=\"psysml:b3756095-16bb-4cb1-b9cb-a9f1f269c560\" target=\"_top\" title=\"psysml:b3756095-16bb-4cb1-b9cb-a9f1f269c560\" xlink:actuate=\"onRequest\" xlink:href=\"psysml:b3756095-16bb-4cb1-b9cb-a9f1f269c560\" xlink:show=\"new\" xlink:title=\"psysml:b3756095-16bb-4cb1-b9cb-a9f1f269c560\" xlink:type=\"simple\"><rect fill=\"#FEFECE\" filter=\"url(#fbfd8kyt8b6j1)\" height=\"45.9375\" id=\"E3\" rx=\"10\" ry=\"10\" style=\"stroke: #A80036; stroke-width: 1.5;\" width=\"71\" x=\"507.5\" y=\"302\"/><text fill=\"#000000\" font-family=\"sans-serif\" font-size=\"12\" font-style=\"italic\" lengthAdjust=\"spacingAndGlyphs\" textLength=\"69\" x=\"508.5\" y=\"318.1387\">«attribute»</text><text fill=\"#000000\" font-family=\"sans-serif\" font-size=\"12\" lengthAdjust=\"spacingAndGlyphs\" textLength=\"8\" x=\"539\" y=\"332.1074\">a</text><line style=\"stroke: #A80036; stroke-width: 1.5;\" x1=\"508.5\" x2=\"577.5\" y1=\"339.9375\" y2=\"339.9375\"/></a><g id=\"E1.E4\"><a href=\"psysml:2ef5dada-a649-4c80-bc3f-904ca5914f5d\" target=\"_top\" title=\"psysml:2ef5dada-a649-4c80-bc3f-904ca5914f5d\" xlink:actuate=\"onRequest\" xlink:href=\"psysml:2ef5dada-a649-4c80-bc3f-904ca5914f5d\" xlink:show=\"new\" xlink:title=\"psysml:2ef5dada-a649-4c80-bc3f-904ca5914f5d\" xlink:type=\"simple\"><rect fill=\"#FEFECE\" filter=\"url(#fbfd8kyt8b6j1)\" height=\"42.9375\" id=\"E4\" style=\"stroke: #A80036; stroke-width: 1.5;\" width=\"75\" x=\"230.5\" y=\"126\"/><text fill=\"#000000\" font-family=\"sans-serif\" font-size=\"12\" font-style=\"italic\" lengthAdjust=\"spacingAndGlyphs\" textLength=\"68\" x=\"234\" y=\"142.1387\">«part  def»</text><text fill=\"#000000\" font-family=\"sans-serif\" font-size=\"12\" lengthAdjust=\"spacingAndGlyphs\" textLength=\"9\" x=\"263.5\" y=\"156.1074\">Q</text></a></g><!--MD5=[2156ba9850f5573cc1fc38a6a4b2f02b]\n",
       "class E7--><a href=\"psysml:10060237-19c5-40dc-a73e-8cb7e4953e81\" target=\"_top\" title=\"psysml:10060237-19c5-40dc-a73e-8cb7e4953e81\" xlink:actuate=\"onRequest\" xlink:href=\"psysml:10060237-19c5-40dc-a73e-8cb7e4953e81\" xlink:show=\"new\" xlink:title=\"psysml:10060237-19c5-40dc-a73e-8cb7e4953e81\" xlink:type=\"simple\"><rect fill=\"#FEFECE\" filter=\"url(#fbfd8kyt8b6j1)\" height=\"62.5234\" id=\"E7\" rx=\"10\" ry=\"10\" style=\"stroke: #A80036; stroke-width: 1.5;\" width=\"78\" x=\"711\" y=\"116\"/><text fill=\"#000000\" font-family=\"sans-serif\" font-size=\"12\" lengthAdjust=\"spacingAndGlyphs\" textLength=\"23\" x=\"736.5\" y=\"132.1387\">x: Q</text><line style=\"stroke: #A80036; stroke-width: 1.5;\" x1=\"712\" x2=\"788\" y1=\"139.9688\" y2=\"139.9688\"/><path d=\"M718.9167,161.6901 L718.9167,170.8568 L719.8333,170.8568 L719.8333,161.6901 M722.5833,161.6901 L722.5833,170.8568 L729.9167,166.2734 L722.5833,161.6901 L723.5,163.0651 L728.5417,166.2734 L723.5,169.4818 L723.5,163.0651 \" fill=\"#000000\" style=\"stroke: ; stroke-width: 0.0; stroke-dasharray: ;\"/><text fill=\"#000000\" font-family=\"sans-serif\" font-size=\"11\" lengthAdjust=\"spacingAndGlyphs\" textLength=\"23\" x=\"734\" y=\"171.9292\">b: B</text><text fill=\"#000000\" font-family=\"sans-serif\" font-size=\"11\" lengthAdjust=\"spacingAndGlyphs\" text-decoration=\"line-through\" textLength=\"22\" x=\"761\" y=\"171.9292\">P::a</text><line style=\"stroke: #A80036; stroke-width: 1.0;\" x1=\"712\" x2=\"722.5\" y1=\"154.3711\" y2=\"154.3711\"/><text fill=\"#000000\" font-family=\"sans-serif\" font-size=\"11\" lengthAdjust=\"spacingAndGlyphs\" textLength=\"55\" x=\"722.5\" y=\"157.6792\">attributes</text><line style=\"stroke: #A80036; stroke-width: 1.0;\" x1=\"777.5\" x2=\"788\" y1=\"154.3711\" y2=\"154.3711\"/></a><g id=\"E1.E8\"><a href=\"psysml:070ce293-3e12-454f-ad5b-be257c39d672\" target=\"_top\" title=\"psysml:070ce293-3e12-454f-ad5b-be257c39d672\" xlink:actuate=\"onRequest\" xlink:href=\"psysml:070ce293-3e12-454f-ad5b-be257c39d672\" xlink:show=\"new\" xlink:title=\"psysml:070ce293-3e12-454f-ad5b-be257c39d672\" xlink:type=\"simple\"><rect fill=\"#FEFECE\" filter=\"url(#fbfd8kyt8b6j1)\" height=\"40\" id=\"E8\" rx=\"10\" ry=\"10\" style=\"stroke: #A80036; stroke-width: 1.5;\" width=\"50\" x=\"145\" y=\"127.5\"/><text fill=\"#000000\" font-family=\"sans-serif\" font-size=\"12\" lengthAdjust=\"spacingAndGlyphs\" textLength=\"25\" x=\"157.5\" y=\"143.6387\">q: Q</text></a></g><!--MD5=[96f4274e9e20536e775497830990834d]\n",
       "class E10--><a href=\"psysml:80fa5ea3-437e-4eec-9e3d-5d2e24e12c28\" target=\"_top\" title=\"psysml:80fa5ea3-437e-4eec-9e3d-5d2e24e12c28\" xlink:actuate=\"onRequest\" xlink:href=\"psysml:80fa5ea3-437e-4eec-9e3d-5d2e24e12c28\" xlink:show=\"new\" xlink:title=\"psysml:80fa5ea3-437e-4eec-9e3d-5d2e24e12c28\" xlink:type=\"simple\"><rect fill=\"#FEFECE\" filter=\"url(#fbfd8kyt8b6j1)\" height=\"76.4922\" id=\"E10\" rx=\"10\" ry=\"10\" style=\"stroke: #A80036; stroke-width: 1.5;\" width=\"139\" x=\"480.5\" y=\"109.5\"/><text fill=\"#000000\" font-family=\"sans-serif\" font-size=\"12\" font-style=\"italic\" lengthAdjust=\"spacingAndGlyphs\" textLength=\"75\" x=\"512.5\" y=\"125.6387\">«reference»</text><text fill=\"#000000\" font-family=\"sans-serif\" font-size=\"12\" lengthAdjust=\"spacingAndGlyphs\" textLength=\"133\" x=\"483.5\" y=\"139.6074\">q :&gt; VariabilityTest::q</text><line style=\"stroke: #A80036; stroke-width: 1.5;\" x1=\"481.5\" x2=\"618.5\" y1=\"147.4375\" y2=\"147.4375\"/><path d=\"M488.4167,169.1589 L488.4167,178.3255 L489.3333,178.3255 L489.3333,169.1589 M492.0833,169.1589 L492.0833,178.3255 L499.4167,173.7422 L492.0833,169.1589 L493,170.5339 L498.0417,173.7422 L493,176.9505 L493,170.5339 \" fill=\"#000000\" style=\"stroke: ; stroke-width: 0.0; stroke-dasharray: ;\"/><text fill=\"#000000\" font-family=\"sans-serif\" font-size=\"11\" lengthAdjust=\"spacingAndGlyphs\" textLength=\"23\" x=\"503.5\" y=\"179.3979\">b: B</text><text fill=\"#000000\" font-family=\"sans-serif\" font-size=\"11\" lengthAdjust=\"spacingAndGlyphs\" text-decoration=\"line-through\" textLength=\"22\" x=\"530.5\" y=\"179.3979\">P::a</text><line style=\"stroke: #A80036; stroke-width: 1.0;\" x1=\"481.5\" x2=\"522.5\" y1=\"161.8398\" y2=\"161.8398\"/><text fill=\"#000000\" font-family=\"sans-serif\" font-size=\"11\" lengthAdjust=\"spacingAndGlyphs\" textLength=\"55\" x=\"522.5\" y=\"165.1479\">attributes</text><line style=\"stroke: #A80036; stroke-width: 1.0;\" x1=\"577.5\" x2=\"618.5\" y1=\"161.8398\" y2=\"161.8398\"/></a><g id=\"E1.E11\"><a href=\"psysml:48eaa747-84b8-4879-8d6b-33c104c23f89\" target=\"_top\" title=\"psysml:48eaa747-84b8-4879-8d6b-33c104c23f89\" xlink:actuate=\"onRequest\" xlink:href=\"psysml:48eaa747-84b8-4879-8d6b-33c104c23f89\" xlink:show=\"new\" xlink:title=\"psysml:48eaa747-84b8-4879-8d6b-33c104c23f89\" xlink:type=\"simple\"><rect fill=\"#FEFECE\" filter=\"url(#fbfd8kyt8b6j1)\" height=\"40\" id=\"E11\" rx=\"10\" ry=\"10\" style=\"stroke: #A80036; stroke-width: 1.5;\" width=\"77\" x=\"32.5\" y=\"127.5\"/><text fill=\"#000000\" font-family=\"sans-serif\" font-size=\"12\" lengthAdjust=\"spacingAndGlyphs\" textLength=\"62\" x=\"38\" y=\"143.6387\">y: P= v::q;</text></a></g><!--MD5=[185131fc0dcab0a4505a2ebe144e961b]\n",
       "link E4 to E2--><a href=\"psysml:8fca0815-a461-4953-83e8-63ed8c86de29\" target=\"_top\" title=\"psysml:8fca0815-a461-4953-83e8-63ed8c86de29\" xlink:actuate=\"onRequest\" xlink:href=\"psysml:8fca0815-a461-4953-83e8-63ed8c86de29\" xlink:show=\"new\" xlink:title=\"psysml:8fca0815-a461-4953-83e8-63ed8c86de29\" xlink:type=\"simple\"><path d=\"M282.06,169.22 C292.64,184 308,203.84 324,219 C352.82,246.295 389.1225,272.1575 418.56,291.385 C433.2787,300.9988 446.2812,308.9537 455.7741,314.5997 C458.1473,316.0112 460.3011,317.2783 462.2076,318.391 C462.6842,318.6692 463.1454,318.9377 463.5906,319.1964 C463.7019,319.2611 463.8122,319.3252 463.9216,319.3886 \" fill=\"none\" id=\"E4-&gt;E2\" style=\"stroke: #A80036; stroke-width: 1.0;\"/><polygon fill=\"#FFFFFF\" points=\"463.9216,319.3886,451.0024,303.7971,443.9749,315.9056,463.9216,319.3886\" style=\"stroke: #A80036; stroke-width: 1.0;\"/></a><!--MD5=[2351f337d6de0f557b50152ba70847b5]\n",
       "link E6 to E2--><a href=\"psysml:80d735d5-abd9-4df4-b941-a11b60e81c18\" target=\"_top\" title=\"psysml:80d735d5-abd9-4df4-b941-a11b60e81c18\" xlink:actuate=\"onRequest\" xlink:href=\"psysml:80d735d5-abd9-4df4-b941-a11b60e81c18\" xlink:show=\"new\" xlink:title=\"psysml:80d735d5-abd9-4df4-b941-a11b60e81c18\" xlink:type=\"simple\"><path d=\"M667.8768,175.6416 C667.8314,175.7562 667.7857,175.8709 667.7398,175.9858 C667.648,176.2156 667.5554,176.446 667.4618,176.677 C667.2747,177.1388 667.0841,177.6029 666.89,178.0688 C660.6775,192.9775 650.83,209.805 636,219 C608.57,236 515.34,205.81 491,227 C486.9225,230.5487 483.5608,234.6928 480.8004,239.232 C480.1103,240.3667 479.4578,241.5262 478.8411,242.7073 \" fill=\"none\" id=\"E6-&gt;E2\" style=\"stroke: #A80036; stroke-width: 1.0;\"/><polygon fill=\"#FFFFFF\" points=\"478.8411,242.7073,493.8406,229.1052,481.4306,222.6251,478.8411,242.7073\" style=\"stroke: #A80036; stroke-width: 1.0;\"/></a><!--MD5=[3969f6ad98d477068b273033241f0a08]\n",
       "@startuml\r\n",
       "skinparam ranksep 10\r\n",
       "skinparam rectangle {\r\n",
       " backgroundColor<<block>> LightGreen\r\n",
       "}\r\n",
       "skinparam wrapWidth 300\r\n",
       "hide circle\r\n",
       "\r\n",
       "package \"VariabilityTest\" as E1  [[psysml:54c28c65-c036-409b-a9ca-8f60ef8eadfb ]]  {\r\n",
       "rec def \"P\" as E2  <<(T,blue) part  def>> [[psysml:82cb16a2-9eb2-4cce-bbbe-e1592c7acc8b ]] {\r\n",
       "comp usage \"a\" as E3  <<(T,blue) attribute>> [[psysml:b3756095-16bb-4cb1-b9cb-a9f1f269c560 ]] {\r\n",
       "}\r\n",
       "}\r\n",
       "rec def \"Q\" as E4  <<(T,blue) part  def>> [[psysml:2ef5dada-a649-4c80-bc3f-904ca5914f5d ]] {\r\n",
       "}\r\n",
       "def \"B\" as E5  <<(T,blue) attribute  def>> [[psysml:45188152-89ae-47db-8fae-185a328aceea ]] \r\n",
       "rec def \"<i>V</i>\" as E6  <<(T,blue) part  def>> [[psysml:e8a966fa-6247-410c-94c4-6750afcc6da8 ]] {\r\n",
       "comp usage \"x: Q \" as E7  [[psysml:10060237-19c5-40dc-a73e-8cb7e4953e81 ]] {\r\n",
       "- - attributes - -\r\n",
       "<&bar-trig> b: B <s>P::a</s>\r\n",
       "}\r\n",
       "}\r\n",
       "rec usage \"q: Q\" as E8  [[psysml:070ce293-3e12-454f-ad5b-be257c39d672 ]] {\r\n",
       "}\r\n",
       "rec usage \"v: P\" as E9  [[psysml:3367482b-ff59-4bbe-a9dc-fe1b4a2ad697 ]] {\r\n",
       "comp usage \"q :> VariabilityTest::q\" as E10  <<(T,blue) reference>> [[psysml:80fa5ea3-437e-4eec-9e3d-5d2e24e12c28 ]] {\r\n",
       "- - attributes - -\r\n",
       "<&bar-trig> b: B <s>P::a</s>\r\n",
       "}\r\n",
       "}\r\n",
       "rec usage \"y: P= v::q; \" as E11  [[psysml:48eaa747-84b8-4879-8d6b-33c104c23f89 ]] {\r\n",
       "}\r\n",
       "}\r\n",
       "E4 - -|> E2 [[psysml:8fca0815-a461-4953-83e8-63ed8c86de29 ]] \r\n",
       "E6 - -|> E2 [[psysml:80d735d5-abd9-4df4-b941-a11b60e81c18 ]] \r\n",
       "@enduml\r\n",
       "\n",
       "PlantUML version 1.2020.13(Sat Jun 13 12:26:38 UTC 2020)\n",
       "(EPL source distribution)\n",
       "Java Runtime: OpenJDK Runtime Environment\n",
       "JVM: OpenJDK 64-Bit Server VM\n",
       "Default Encoding: UTF-8\n",
       "Language: en\n",
       "Country: null\n",
       "--></g></svg>"
      ]
     },
     "execution_count": 26,
     "metadata": {},
     "output_type": "execute_result"
    }
   ],
   "source": [
    "%viz --style=\"STDCOLOR\" --view=\"Interconnection\" \"VariabilityTest\""
   ]
  },
  {
   "cell_type": "code",
   "execution_count": 27,
   "id": "ec93ec99",
   "metadata": {
    "execution": {
     "iopub.execute_input": "2021-10-25T08:21:43.451233Z",
     "iopub.status.busy": "2021-10-25T08:21:43.450809Z",
     "iopub.status.idle": "2021-10-25T08:21:43.455733Z",
     "shell.execute_reply": "2021-10-25T08:21:43.456024Z"
    }
   },
   "outputs": [
    {
     "data": {
      "image/svg+xml": [
       "<?xml version=\"1.0\" encoding=\"UTF-8\" standalone=\"no\"?><svg xmlns=\"http://www.w3.org/2000/svg\" xmlns:xlink=\"http://www.w3.org/1999/xlink\" contentScriptType=\"application/ecmascript\" contentStyleType=\"text/css\" height=\"12px\" preserveAspectRatio=\"none\" style=\"width:12px;height:12px;\" version=\"1.1\" viewBox=\"0 0 12 12\" width=\"12px\" zoomAndPan=\"magnify\"><defs/><g><!--MD5=[9863325348a96a77dacc89509d8ee65e]\n",
       "@startuml\r\n",
       "skinparam ranksep 8\r\n",
       "skinparam wrapWidth 300\r\n",
       "hide circle\r\n",
       "\r\n",
       "@enduml\r\n",
       "\n",
       "PlantUML version 1.2020.13(Sat Jun 13 12:26:38 UTC 2020)\n",
       "(EPL source distribution)\n",
       "Java Runtime: OpenJDK Runtime Environment\n",
       "JVM: OpenJDK 64-Bit Server VM\n",
       "Default Encoding: UTF-8\n",
       "Language: en\n",
       "Country: null\n",
       "--></g></svg>"
      ]
     },
     "execution_count": 27,
     "metadata": {},
     "output_type": "execute_result"
    }
   ],
   "source": [
    "%viz --style=\"STDCOLOR\" --view=\"Action\" \"VariabilityTest\""
   ]
  },
  {
   "cell_type": "code",
   "execution_count": 28,
   "id": "56328c9e",
   "metadata": {
    "execution": {
     "iopub.execute_input": "2021-10-25T08:21:43.505878Z",
     "iopub.status.busy": "2021-10-25T08:21:43.505458Z",
     "iopub.status.idle": "2021-10-25T08:21:43.510704Z",
     "shell.execute_reply": "2021-10-25T08:21:43.510997Z"
    }
   },
   "outputs": [
    {
     "data": {
      "image/svg+xml": [
       "<?xml version=\"1.0\" encoding=\"UTF-8\" standalone=\"no\"?><svg xmlns=\"http://www.w3.org/2000/svg\" xmlns:xlink=\"http://www.w3.org/1999/xlink\" contentScriptType=\"application/ecmascript\" contentStyleType=\"text/css\" height=\"12px\" preserveAspectRatio=\"none\" style=\"width:12px;height:12px;\" version=\"1.1\" viewBox=\"0 0 12 12\" width=\"12px\" zoomAndPan=\"magnify\"><defs/><g><!--MD5=[6c4bca67b4d71758159a5a7f1f1e1fc2]\n",
       "@startuml\r\n",
       "skinparam roundcorner 20\r\n",
       "skinparam BoxPadding 20\r\n",
       "skinparam SequenceBoxBackgroundColor #white\r\n",
       "skinparam style strictuml\r\n",
       "skinparam maxMessageSize 100\r\n",
       "skinparam wrapWidth 300\r\n",
       "hide circle\r\n",
       "\r\n",
       "@enduml\r\n",
       "\n",
       "PlantUML version 1.2020.13(Sat Jun 13 12:26:38 UTC 2020)\n",
       "(EPL source distribution)\n",
       "Java Runtime: OpenJDK Runtime Environment\n",
       "JVM: OpenJDK 64-Bit Server VM\n",
       "Default Encoding: UTF-8\n",
       "Language: en\n",
       "Country: null\n",
       "--></g></svg>"
      ]
     },
     "execution_count": 28,
     "metadata": {},
     "output_type": "execute_result"
    }
   ],
   "source": [
    "%viz --style=\"STDCOLOR\" --view=\"Sequence\" \"VariabilityTest\""
   ]
  },
  {
   "cell_type": "code",
   "execution_count": 29,
   "id": "a76ce90c",
   "metadata": {
    "execution": {
     "iopub.execute_input": "2021-10-25T08:21:43.560803Z",
     "iopub.status.busy": "2021-10-25T08:21:43.560365Z",
     "iopub.status.idle": "2021-10-25T08:21:43.639193Z",
     "shell.execute_reply": "2021-10-25T08:21:43.636304Z"
    }
   },
   "outputs": [
    {
     "data": {
      "image/svg+xml": [
       "<?xml version=\"1.0\" encoding=\"UTF-8\" standalone=\"no\"?><svg xmlns=\"http://www.w3.org/2000/svg\" xmlns:xlink=\"http://www.w3.org/1999/xlink\" contentScriptType=\"application/ecmascript\" contentStyleType=\"text/css\" height=\"389px\" preserveAspectRatio=\"none\" style=\"width:428px;height:389px;\" version=\"1.1\" viewBox=\"0 0 428 389\" width=\"428px\" zoomAndPan=\"magnify\"><defs><filter height=\"300%\" id=\"f87leyapwwx3g\" width=\"300%\" x=\"-1\" y=\"-1\"><feGaussianBlur result=\"blurOut\" stdDeviation=\"2.0\"/><feColorMatrix in=\"blurOut\" result=\"blurOut2\" type=\"matrix\" values=\"0 0 0 0 0 0 0 0 0 0 0 0 0 0 0 0 0 0 .4 0\"/><feOffset dx=\"4.0\" dy=\"4.0\" in=\"blurOut2\" result=\"blurOut3\"/><feBlend in=\"SourceGraphic\" in2=\"blurOut3\" mode=\"normal\"/></filter></defs><g><!--MD5=[fbc87193dbaf4d95561dea2c320d4a47]\n",
       "cluster E1--><a href=\"psysml:54c28c65-c036-409b-a9ca-8f60ef8eadfb\" target=\"_top\" title=\"psysml:54c28c65-c036-409b-a9ca-8f60ef8eadfb\" xlink:actuate=\"onRequest\" xlink:href=\"psysml:54c28c65-c036-409b-a9ca-8f60ef8eadfb\" xlink:show=\"new\" xlink:title=\"psysml:54c28c65-c036-409b-a9ca-8f60ef8eadfb\" xlink:type=\"simple\"><polygon fill=\"#FFFFFF\" filter=\"url(#f87leyapwwx3g)\" points=\"16,6,116,6,123,28.2969,406,28.2969,406,377,16,377,16,6\" style=\"stroke: #000000; stroke-width: 1.5;\"/><line style=\"stroke: #000000; stroke-width: 1.5;\" x1=\"16\" x2=\"123\" y1=\"28.2969\" y2=\"28.2969\"/><text fill=\"#000000\" font-family=\"sans-serif\" font-size=\"14\" font-weight=\"bold\" lengthAdjust=\"spacingAndGlyphs\" textLength=\"94\" x=\"20\" y=\"20.9951\">VariabilityTest</text></a><!--MD5=[b4997ac47864f28c2f74865a473b2911]\n",
       "class E2--><a href=\"psysml:82cb16a2-9eb2-4cce-bbbe-e1592c7acc8b\" target=\"_top\" title=\"psysml:82cb16a2-9eb2-4cce-bbbe-e1592c7acc8b\" xlink:actuate=\"onRequest\" xlink:href=\"psysml:82cb16a2-9eb2-4cce-bbbe-e1592c7acc8b\" xlink:show=\"new\" xlink:title=\"psysml:82cb16a2-9eb2-4cce-bbbe-e1592c7acc8b\" xlink:type=\"simple\"><rect fill=\"#FEFECE\" filter=\"url(#f87leyapwwx3g)\" height=\"75.5469\" id=\"E2\" style=\"stroke: #A80036; stroke-width: 1.5;\" width=\"70\" x=\"207\" y=\"285\"/><text fill=\"#000000\" font-family=\"sans-serif\" font-size=\"12\" font-style=\"italic\" lengthAdjust=\"spacingAndGlyphs\" textLength=\"68\" x=\"208\" y=\"301.1387\">«part  def»</text><text fill=\"#000000\" font-family=\"sans-serif\" font-size=\"12\" lengthAdjust=\"spacingAndGlyphs\" textLength=\"8\" x=\"238\" y=\"315.1074\">P</text><line style=\"stroke: #A80036; stroke-width: 1.5;\" x1=\"208\" x2=\"276\" y1=\"322.9375\" y2=\"322.9375\"/><text fill=\"#000000\" font-family=\"sans-serif\" font-size=\"11\" lengthAdjust=\"spacingAndGlyphs\" textLength=\"7\" x=\"213\" y=\"353.9526\">a</text><line style=\"stroke: #A80036; stroke-width: 1.0;\" x1=\"208\" x2=\"214.5\" y1=\"337.3398\" y2=\"337.3398\"/><text fill=\"#000000\" font-family=\"sans-serif\" font-size=\"11\" lengthAdjust=\"spacingAndGlyphs\" textLength=\"55\" x=\"214.5\" y=\"340.6479\">attributes</text><line style=\"stroke: #A80036; stroke-width: 1.0;\" x1=\"269.5\" x2=\"276\" y1=\"337.3398\" y2=\"337.3398\"/></a><!--MD5=[09b614a08d8cba4a07c9adeb5e0fee81]\n",
       "class E3--><a href=\"psysml:2ef5dada-a649-4c80-bc3f-904ca5914f5d\" target=\"_top\" title=\"psysml:2ef5dada-a649-4c80-bc3f-904ca5914f5d\" xlink:actuate=\"onRequest\" xlink:href=\"psysml:2ef5dada-a649-4c80-bc3f-904ca5914f5d\" xlink:show=\"new\" xlink:title=\"psysml:2ef5dada-a649-4c80-bc3f-904ca5914f5d\" xlink:type=\"simple\"><rect fill=\"#FEFECE\" filter=\"url(#f87leyapwwx3g)\" height=\"45.9375\" id=\"E3\" style=\"stroke: #A80036; stroke-width: 1.5;\" width=\"70\" x=\"137\" y=\"155\"/><text fill=\"#000000\" font-family=\"sans-serif\" font-size=\"12\" font-style=\"italic\" lengthAdjust=\"spacingAndGlyphs\" textLength=\"68\" x=\"138\" y=\"171.1387\">«part  def»</text><text fill=\"#000000\" font-family=\"sans-serif\" font-size=\"12\" lengthAdjust=\"spacingAndGlyphs\" textLength=\"9\" x=\"167.5\" y=\"185.1074\">Q</text><line style=\"stroke: #A80036; stroke-width: 1.5;\" x1=\"138\" x2=\"206\" y1=\"192.9375\" y2=\"192.9375\"/></a><!--MD5=[ebbe1d658d1005bcc118a6aa81145e00]\n",
       "class E4--><a href=\"psysml:45188152-89ae-47db-8fae-185a328aceea\" target=\"_top\" title=\"psysml:45188152-89ae-47db-8fae-185a328aceea\" xlink:actuate=\"onRequest\" xlink:href=\"psysml:45188152-89ae-47db-8fae-185a328aceea\" xlink:show=\"new\" xlink:title=\"psysml:45188152-89ae-47db-8fae-185a328aceea\" xlink:type=\"simple\"><rect fill=\"#FEFECE\" filter=\"url(#f87leyapwwx3g)\" height=\"45.9375\" id=\"E4\" style=\"stroke: #A80036; stroke-width: 1.5;\" width=\"99\" x=\"259.5\" y=\"41\"/><text fill=\"#000000\" font-family=\"sans-serif\" font-size=\"12\" font-style=\"italic\" lengthAdjust=\"spacingAndGlyphs\" textLength=\"97\" x=\"260.5\" y=\"57.1387\">«attribute  def»</text><text fill=\"#000000\" font-family=\"sans-serif\" font-size=\"12\" lengthAdjust=\"spacingAndGlyphs\" textLength=\"8\" x=\"305\" y=\"71.1074\">B</text><line style=\"stroke: #A80036; stroke-width: 1.5;\" x1=\"260.5\" x2=\"357.5\" y1=\"78.9375\" y2=\"78.9375\"/></a><!--MD5=[270fce915f116d4de14055a7c1d9a0f3]\n",
       "class E5--><a href=\"psysml:e8a966fa-6247-410c-94c4-6750afcc6da8\" target=\"_top\" title=\"psysml:e8a966fa-6247-410c-94c4-6750afcc6da8\" xlink:actuate=\"onRequest\" xlink:href=\"psysml:e8a966fa-6247-410c-94c4-6750afcc6da8\" xlink:show=\"new\" xlink:title=\"psysml:e8a966fa-6247-410c-94c4-6750afcc6da8\" xlink:type=\"simple\"><rect fill=\"#FEFECE\" filter=\"url(#f87leyapwwx3g)\" height=\"45.9375\" id=\"E5\" style=\"stroke: #A80036; stroke-width: 1.5;\" width=\"70\" x=\"319\" y=\"155\"/><text fill=\"#000000\" font-family=\"sans-serif\" font-size=\"12\" font-style=\"italic\" lengthAdjust=\"spacingAndGlyphs\" textLength=\"68\" x=\"320\" y=\"171.1387\">«part  def»</text><text fill=\"#000000\" font-family=\"sans-serif\" font-size=\"12\" font-style=\"italic\" lengthAdjust=\"spacingAndGlyphs\" textLength=\"8\" x=\"350\" y=\"185.1074\">V</text><line style=\"stroke: #A80036; stroke-width: 1.5;\" x1=\"320\" x2=\"388\" y1=\"192.9375\" y2=\"192.9375\"/></a><!--MD5=[60a26617385b1d2d0262a64233df1f8d]\n",
       "class E6--><a href=\"psysml:10060237-19c5-40dc-a73e-8cb7e4953e81\" target=\"_top\" title=\"psysml:10060237-19c5-40dc-a73e-8cb7e4953e81\" xlink:actuate=\"onRequest\" xlink:href=\"psysml:10060237-19c5-40dc-a73e-8cb7e4953e81\" xlink:show=\"new\" xlink:title=\"psysml:10060237-19c5-40dc-a73e-8cb7e4953e81\" xlink:type=\"simple\"><rect fill=\"#FEFECE\" filter=\"url(#f87leyapwwx3g)\" height=\"76.4922\" id=\"E6\" rx=\"10\" ry=\"10\" style=\"stroke: #A80036; stroke-width: 1.5;\" width=\"78\" x=\"312\" y=\"285\"/><text fill=\"#000000\" font-family=\"sans-serif\" font-size=\"12\" font-style=\"italic\" lengthAdjust=\"spacingAndGlyphs\" textLength=\"40\" x=\"331\" y=\"301.1387\">«part»</text><text fill=\"#000000\" font-family=\"sans-serif\" font-size=\"12\" lengthAdjust=\"spacingAndGlyphs\" textLength=\"23\" x=\"337.5\" y=\"315.1074\">x: Q</text><line style=\"stroke: #A80036; stroke-width: 1.5;\" x1=\"313\" x2=\"389\" y1=\"322.9375\" y2=\"322.9375\"/><path d=\"M319.9167,344.6589 L319.9167,353.8255 L320.8333,353.8255 L320.8333,344.6589 M323.5833,344.6589 L323.5833,353.8255 L330.9167,349.2422 L323.5833,344.6589 L324.5,346.0339 L329.5417,349.2422 L324.5,352.4505 L324.5,346.0339 \" fill=\"#000000\" style=\"stroke: ; stroke-width: 0.0; stroke-dasharray: ;\"/><text fill=\"#000000\" font-family=\"sans-serif\" font-size=\"11\" lengthAdjust=\"spacingAndGlyphs\" textLength=\"23\" x=\"335\" y=\"354.8979\">b: B</text><text fill=\"#000000\" font-family=\"sans-serif\" font-size=\"11\" lengthAdjust=\"spacingAndGlyphs\" text-decoration=\"line-through\" textLength=\"22\" x=\"362\" y=\"354.8979\">P::a</text><line style=\"stroke: #A80036; stroke-width: 1.0;\" x1=\"313\" x2=\"323.5\" y1=\"337.3398\" y2=\"337.3398\"/><text fill=\"#000000\" font-family=\"sans-serif\" font-size=\"11\" lengthAdjust=\"spacingAndGlyphs\" textLength=\"55\" x=\"323.5\" y=\"340.6479\">attributes</text><line style=\"stroke: #A80036; stroke-width: 1.0;\" x1=\"378.5\" x2=\"389\" y1=\"337.3398\" y2=\"337.3398\"/></a><!--MD5=[2156ba9850f5573cc1fc38a6a4b2f02b]\n",
       "class E7--><a href=\"psysml:070ce293-3e12-454f-ad5b-be257c39d672\" target=\"_top\" title=\"psysml:070ce293-3e12-454f-ad5b-be257c39d672\" xlink:actuate=\"onRequest\" xlink:href=\"psysml:070ce293-3e12-454f-ad5b-be257c39d672\" xlink:show=\"new\" xlink:title=\"psysml:070ce293-3e12-454f-ad5b-be257c39d672\" xlink:type=\"simple\"><rect fill=\"#FEFECE\" filter=\"url(#f87leyapwwx3g)\" height=\"45.9375\" id=\"E7\" rx=\"10\" ry=\"10\" style=\"stroke: #A80036; stroke-width: 1.5;\" width=\"42\" x=\"151\" y=\"41\"/><text fill=\"#000000\" font-family=\"sans-serif\" font-size=\"12\" font-style=\"italic\" lengthAdjust=\"spacingAndGlyphs\" textLength=\"40\" x=\"152\" y=\"57.1387\">«part»</text><text fill=\"#000000\" font-family=\"sans-serif\" font-size=\"12\" lengthAdjust=\"spacingAndGlyphs\" textLength=\"25\" x=\"157.5\" y=\"71.1074\">q: Q</text><line style=\"stroke: #A80036; stroke-width: 1.5;\" x1=\"152\" x2=\"192\" y1=\"78.9375\" y2=\"78.9375\"/></a><!--MD5=[b9389687b975829384b498ac4b7476b2]\n",
       "class E8--><a href=\"psysml:3367482b-ff59-4bbe-a9dc-fe1b4a2ad697\" target=\"_top\" title=\"psysml:3367482b-ff59-4bbe-a9dc-fe1b4a2ad697\" xlink:actuate=\"onRequest\" xlink:href=\"psysml:3367482b-ff59-4bbe-a9dc-fe1b4a2ad697\" xlink:show=\"new\" xlink:title=\"psysml:3367482b-ff59-4bbe-a9dc-fe1b4a2ad697\" xlink:type=\"simple\"><rect fill=\"#FEFECE\" filter=\"url(#f87leyapwwx3g)\" height=\"59.9063\" id=\"E8\" rx=\"10\" ry=\"10\" style=\"stroke: #A80036; stroke-width: 1.5;\" width=\"70\" x=\"32\" y=\"148\"/><text fill=\"#000000\" font-family=\"sans-serif\" font-size=\"12\" font-style=\"italic\" lengthAdjust=\"spacingAndGlyphs\" textLength=\"68\" x=\"33\" y=\"164.1387\">«variation»</text><text fill=\"#000000\" font-family=\"sans-serif\" font-size=\"12\" font-style=\"italic\" lengthAdjust=\"spacingAndGlyphs\" textLength=\"40\" x=\"47\" y=\"178.1074\">«part»</text><text fill=\"#000000\" font-family=\"sans-serif\" font-size=\"12\" font-style=\"italic\" lengthAdjust=\"spacingAndGlyphs\" textLength=\"6\" x=\"54\" y=\"192.0762\">v</text><text fill=\"#000000\" font-family=\"sans-serif\" font-size=\"12\" lengthAdjust=\"spacingAndGlyphs\" textLength=\"16\" x=\"60\" y=\"192.0762\">: P</text><line style=\"stroke: #A80036; stroke-width: 1.5;\" x1=\"33\" x2=\"101\" y1=\"199.9063\" y2=\"199.9063\"/></a><!--MD5=[fd4143e9d270a159db93a4ea2a975926]\n",
       "class E9--><a href=\"psysml:80fa5ea3-437e-4eec-9e3d-5d2e24e12c28\" target=\"_top\" title=\"psysml:80fa5ea3-437e-4eec-9e3d-5d2e24e12c28\" xlink:actuate=\"onRequest\" xlink:href=\"psysml:80fa5ea3-437e-4eec-9e3d-5d2e24e12c28\" xlink:show=\"new\" xlink:title=\"psysml:80fa5ea3-437e-4eec-9e3d-5d2e24e12c28\" xlink:type=\"simple\"><rect fill=\"#FEFECE\" filter=\"url(#f87leyapwwx3g)\" height=\"76.4922\" id=\"E9\" rx=\"10\" ry=\"10\" style=\"stroke: #A80036; stroke-width: 1.5;\" width=\"139\" x=\"32.5\" y=\"285\"/><text fill=\"#000000\" font-family=\"sans-serif\" font-size=\"12\" font-style=\"italic\" lengthAdjust=\"spacingAndGlyphs\" textLength=\"75\" x=\"64.5\" y=\"301.1387\">«reference»</text><text fill=\"#000000\" font-family=\"sans-serif\" font-size=\"12\" lengthAdjust=\"spacingAndGlyphs\" textLength=\"133\" x=\"35.5\" y=\"315.1074\">q :&gt; VariabilityTest::q</text><line style=\"stroke: #A80036; stroke-width: 1.5;\" x1=\"33.5\" x2=\"170.5\" y1=\"322.9375\" y2=\"322.9375\"/><path d=\"M40.4167,344.6589 L40.4167,353.8255 L41.3333,353.8255 L41.3333,344.6589 M44.0833,344.6589 L44.0833,353.8255 L51.4167,349.2422 L44.0833,344.6589 L45,346.0339 L50.0417,349.2422 L45,352.4505 L45,346.0339 \" fill=\"#000000\" style=\"stroke: ; stroke-width: 0.0; stroke-dasharray: ;\"/><text fill=\"#000000\" font-family=\"sans-serif\" font-size=\"11\" lengthAdjust=\"spacingAndGlyphs\" textLength=\"23\" x=\"55.5\" y=\"354.8979\">b: B</text><text fill=\"#000000\" font-family=\"sans-serif\" font-size=\"11\" lengthAdjust=\"spacingAndGlyphs\" text-decoration=\"line-through\" textLength=\"22\" x=\"82.5\" y=\"354.8979\">P::a</text><line style=\"stroke: #A80036; stroke-width: 1.0;\" x1=\"33.5\" x2=\"74.5\" y1=\"337.3398\" y2=\"337.3398\"/><text fill=\"#000000\" font-family=\"sans-serif\" font-size=\"11\" lengthAdjust=\"spacingAndGlyphs\" textLength=\"55\" x=\"74.5\" y=\"340.6479\">attributes</text><line style=\"stroke: #A80036; stroke-width: 1.0;\" x1=\"129.5\" x2=\"170.5\" y1=\"337.3398\" y2=\"337.3398\"/></a><!--MD5=[96f4274e9e20536e775497830990834d]\n",
       "class E10--><a href=\"psysml:48eaa747-84b8-4879-8d6b-33c104c23f89\" target=\"_top\" title=\"psysml:48eaa747-84b8-4879-8d6b-33c104c23f89\" xlink:actuate=\"onRequest\" xlink:href=\"psysml:48eaa747-84b8-4879-8d6b-33c104c23f89\" xlink:show=\"new\" xlink:title=\"psysml:48eaa747-84b8-4879-8d6b-33c104c23f89\" xlink:type=\"simple\"><rect fill=\"#FEFECE\" filter=\"url(#f87leyapwwx3g)\" height=\"45.9375\" id=\"E10\" rx=\"10\" ry=\"10\" style=\"stroke: #A80036; stroke-width: 1.5;\" width=\"42\" x=\"242\" y=\"155\"/><text fill=\"#000000\" font-family=\"sans-serif\" font-size=\"12\" font-style=\"italic\" lengthAdjust=\"spacingAndGlyphs\" textLength=\"40\" x=\"243\" y=\"171.1387\">«part»</text><text fill=\"#000000\" font-family=\"sans-serif\" font-size=\"12\" lengthAdjust=\"spacingAndGlyphs\" textLength=\"22\" x=\"250\" y=\"185.1074\">y: P</text><line style=\"stroke: #A80036; stroke-width: 1.5;\" x1=\"243\" x2=\"283\" y1=\"192.9375\" y2=\"192.9375\"/></a><!--MD5=[05d275557350bfb9b23a4ef7222b4c39]\n",
       "link E3 to E2--><a href=\"psysml:8fca0815-a461-4953-83e8-63ed8c86de29\" target=\"_top\" title=\"psysml:8fca0815-a461-4953-83e8-63ed8c86de29\" xlink:actuate=\"onRequest\" xlink:href=\"psysml:8fca0815-a461-4953-83e8-63ed8c86de29\" xlink:show=\"new\" xlink:title=\"psysml:8fca0815-a461-4953-83e8-63ed8c86de29\" xlink:type=\"simple\"><path d=\"M182.78,201.03 C191.37,218.56 203.76,243.88 214.99,266.82 \" fill=\"none\" id=\"E3-&gt;E2\" style=\"stroke: #A80036; stroke-width: 1.0;\"/><polygon fill=\"none\" points=\"221.34,263.88,223.85,284.92,208.77,270.03,221.34,263.88\" style=\"stroke: #A80036; stroke-width: 1.0;\"/></a><!--MD5=[15ebcb19ae302d9b601edb458606d402]\n",
       "link E5 to E2--><a href=\"psysml:80d735d5-abd9-4df4-b941-a11b60e81c18\" target=\"_top\" title=\"psysml:80d735d5-abd9-4df4-b941-a11b60e81c18\" xlink:actuate=\"onRequest\" xlink:href=\"psysml:80d735d5-abd9-4df4-b941-a11b60e81c18\" xlink:show=\"new\" xlink:title=\"psysml:80d735d5-abd9-4df4-b941-a11b60e81c18\" xlink:type=\"simple\"><path d=\"M336.75,201.03 C322.6,219.08 302,245.39 283.61,268.87 \" fill=\"none\" id=\"E5-&gt;E2\" style=\"stroke: #A80036; stroke-width: 1.0;\"/><polygon fill=\"none\" points=\"288.89,273.49,271.04,284.92,277.87,264.85,288.89,273.49\" style=\"stroke: #A80036; stroke-width: 1.0;\"/></a><!--MD5=[9120cf2e5df3bff93db8f754bbbc09b4]\n",
       "link E5 to E6--><a href=\"psysml:bbf94ce0-8140-4269-b805-c97e9315d509\" target=\"_top\" title=\"psysml:bbf94ce0-8140-4269-b805-c97e9315d509\" xlink:actuate=\"onRequest\" xlink:href=\"psysml:bbf94ce0-8140-4269-b805-c97e9315d509\" xlink:show=\"new\" xlink:title=\"psysml:bbf94ce0-8140-4269-b805-c97e9315d509\" xlink:type=\"simple\"><path d=\"M353.33,211.14 C352.93,229.86 352.43,253.81 351.99,274.66 \" fill=\"none\" id=\"E5-E6\" style=\"stroke: #A80036; stroke-width: 1.0;\"/><polygon fill=\"#A80036\" points=\"351.78,284.92,354.9507,276.9861,348.9521,276.8576,351.78,284.92\" style=\"stroke: #A80036; stroke-width: 1.0;\"/><path d=\"M345.0188,203.9263 A9,9 0 0 0 361.9293 204.2887\" fill=\"none\" style=\"stroke: #A80036; stroke-width: 1.5;\"/><text fill=\"#000000\" font-family=\"sans-serif\" font-size=\"13\" lengthAdjust=\"spacingAndGlyphs\" textLength=\"60\" x=\"353\" y=\"251.0669\">«variant»</text></a><!--MD5=[14ccda38c055a5c0da953d572bc50960]\n",
       "link E7 to E3--><a href=\"psysml:1a218306-3ccb-4021-8143-a6b7222dd125\" target=\"_top\" title=\"psysml:1a218306-3ccb-4021-8143-a6b7222dd125\" xlink:actuate=\"onRequest\" xlink:href=\"psysml:1a218306-3ccb-4021-8143-a6b7222dd125\" xlink:show=\"new\" xlink:title=\"psysml:1a218306-3ccb-4021-8143-a6b7222dd125\" xlink:type=\"simple\"><path d=\"M172,87.13 C172,100.7 172,118.53 172,134.73 \" fill=\"none\" id=\"E7-&gt;E3\" style=\"stroke: #A80036; stroke-width: 1.0;\"/><polygon fill=\"#FFFFFF\" points=\"172,154.92,165,135.92,179,135.92,172,154.92\" style=\"stroke: #A80036; stroke-width: 1.0;\"/><ellipse cx=\"167\" cy=\"130.22\" fill=\"#A80036\" rx=\"2\" ry=\"2\" style=\"stroke: #A80036; stroke-width: 1.0;\"/><ellipse cx=\"177\" cy=\"130.22\" fill=\"#A80036\" rx=\"2\" ry=\"2\" style=\"stroke: #A80036; stroke-width: 1.0;\"/></a><!--MD5=[f1f3f9f2fc535e6147756cb86a7f2e32]\n",
       "link E8 to E2--><a href=\"psysml:0a07ead6-b6a6-4f86-92cb-b01532aad754\" target=\"_top\" title=\"psysml:0a07ead6-b6a6-4f86-92cb-b01532aad754\" xlink:actuate=\"onRequest\" xlink:href=\"psysml:0a07ead6-b6a6-4f86-92cb-b01532aad754\" xlink:show=\"new\" xlink:title=\"psysml:0a07ead6-b6a6-4f86-92cb-b01532aad754\" xlink:type=\"simple\"><path d=\"M102.27,200.61 C118.77,211.23 138.4,224.6 155,238 C167.63,248.2 180.58,259.91 192.49,271.27 \" fill=\"none\" id=\"E8-&gt;E2\" style=\"stroke: #A80036; stroke-width: 1.0;\"/><polygon fill=\"#FFFFFF\" points=\"206.92,285.36,188.4337,277.0982,198.2125,267.0794,206.92,285.36\" style=\"stroke: #A80036; stroke-width: 1.0;\"/><ellipse cx=\"185.7516\" cy=\"271.6856\" fill=\"#A80036\" rx=\"2\" ry=\"2\" style=\"stroke: #A80036; stroke-width: 1.0;\"/><ellipse cx=\"192.7365\" cy=\"264.5293\" fill=\"#A80036\" rx=\"2\" ry=\"2\" style=\"stroke: #A80036; stroke-width: 1.0;\"/></a><!--MD5=[ed10624c06dd9a4fa49ccf290e8b16a8]\n",
       "link E8 to E9--><a href=\"psysml:95cf767c-bf38-4d44-8a21-82e4671e1c7d\" target=\"_top\" title=\"psysml:95cf767c-bf38-4d44-8a21-82e4671e1c7d\" xlink:actuate=\"onRequest\" xlink:href=\"psysml:95cf767c-bf38-4d44-8a21-82e4671e1c7d\" xlink:show=\"new\" xlink:title=\"psysml:95cf767c-bf38-4d44-8a21-82e4671e1c7d\" xlink:type=\"simple\"><path d=\"M76.57,218.08 C80.86,235.64 85.97,256.5 90.48,274.91 \" fill=\"none\" id=\"E8-E9\" style=\"stroke: #A80036; stroke-width: 1.0;\"/><polygon fill=\"#A80036\" points=\"92.91,284.85,93.9272,276.3668,88.0984,277.7897,92.91,284.85\" style=\"stroke: #A80036; stroke-width: 1.0;\"/><path d=\"M66.6927,213.289 A9,9 0 0 0 83.1177 209.2492\" fill=\"none\" style=\"stroke: #A80036; stroke-width: 1.5;\"/><text fill=\"#000000\" font-family=\"sans-serif\" font-size=\"13\" lengthAdjust=\"spacingAndGlyphs\" textLength=\"60\" x=\"86\" y=\"251.0669\">«variant»</text></a><!--MD5=[0f36bececdf0dff6e600d6f64214b0f1]\n",
       "link E10 to E2--><a href=\"psysml:6b6ac884-9cd9-45a3-8497-3c127dcfd472\" target=\"_top\" title=\"psysml:6b6ac884-9cd9-45a3-8497-3c127dcfd472\" xlink:actuate=\"onRequest\" xlink:href=\"psysml:6b6ac884-9cd9-45a3-8497-3c127dcfd472\" xlink:show=\"new\" xlink:title=\"psysml:6b6ac884-9cd9-45a3-8497-3c127dcfd472\" xlink:type=\"simple\"><path d=\"M259.76,201.03 C257.25,218.13 253.66,242.62 250.36,265.1 \" fill=\"none\" id=\"E10-&gt;E2\" style=\"stroke: #A80036; stroke-width: 1.0;\"/><polygon fill=\"#FFFFFF\" points=\"247.45,284.92,243.2934,265.1028,257.144,267.1429,247.45,284.92\" style=\"stroke: #A80036; stroke-width: 1.0;\"/><ellipse cx=\"246.1027\" cy=\"259.7551\" fill=\"#A80036\" rx=\"2\" ry=\"2\" style=\"stroke: #A80036; stroke-width: 1.0;\"/><ellipse cx=\"255.9959\" cy=\"261.2123\" fill=\"#A80036\" rx=\"2\" ry=\"2\" style=\"stroke: #A80036; stroke-width: 1.0;\"/></a><!--MD5=[7959be40217a530d4c3fce73ddbadfd2]\n",
       "@startuml\r\n",
       "skinparam wrapWidth 300\r\n",
       "hide circle\r\n",
       "\r\n",
       "package \"VariabilityTest\" as E1  [[psysml:54c28c65-c036-409b-a9ca-8f60ef8eadfb ]]  {\r\n",
       "comp def \"P\" as E2  <<(T,blue) part  def>> [[psysml:82cb16a2-9eb2-4cce-bbbe-e1592c7acc8b ]] {\r\n",
       "- - attributes - -\r\n",
       "a\r\n",
       "}\r\n",
       "comp def \"Q\" as E3  <<(T,blue) part  def>> [[psysml:2ef5dada-a649-4c80-bc3f-904ca5914f5d ]] {\r\n",
       "}\r\n",
       "comp def \"B\" as E4  <<(T,blue) attribute  def>> [[psysml:45188152-89ae-47db-8fae-185a328aceea ]] {\r\n",
       "}\r\n",
       "comp def \"<i>V</i>\" as E5  <<(T,blue) part  def>> [[psysml:e8a966fa-6247-410c-94c4-6750afcc6da8 ]] {\r\n",
       "}\r\n",
       "comp usage \"x: Q \" as E6  <<(T,blue) part>> [[psysml:10060237-19c5-40dc-a73e-8cb7e4953e81 ]] {\r\n",
       "- - attributes - -\r\n",
       "<&bar-trig> b: B <s>P::a</s>\r\n",
       "}\r\n",
       "comp usage \"q: Q \" as E7  <<(T,blue) part>> [[psysml:070ce293-3e12-454f-ad5b-be257c39d672 ]] {\r\n",
       "}\r\n",
       "comp usage \"<i>v</i>: P \" as E8  <<variation>>\\n <<(T,blue) part>> [[psysml:3367482b-ff59-4bbe-a9dc-fe1b4a2ad697 ]] {\r\n",
       "}\r\n",
       "comp usage \"q :> VariabilityTest::q\" as E9  <<(T,blue) reference>> [[psysml:80fa5ea3-437e-4eec-9e3d-5d2e24e12c28 ]] {\r\n",
       "- - attributes - -\r\n",
       "<&bar-trig> b: B <s>P::a</s>\r\n",
       "}\r\n",
       "comp usage \"y: P \" as E10  <<(T,blue) part>> [[psysml:48eaa747-84b8-4879-8d6b-33c104c23f89 ]] {\r\n",
       "}\r\n",
       "}\r\n",
       "E3 - -|> E2 [[psysml:8fca0815-a461-4953-83e8-63ed8c86de29 ]] \r\n",
       "E5 - -|> E2 [[psysml:80d735d5-abd9-4df4-b941-a11b60e81c18 ]] \r\n",
       "E5 )- ->> E6 [[psysml:bbf94ce0-8140-4269-b805-c97e9315d509 ]] : <<variant>>\r\n",
       "E7 - -:|> E3 [[psysml:1a218306-3ccb-4021-8143-a6b7222dd125 ]] \r\n",
       "E8 - -:|> E2 [[psysml:0a07ead6-b6a6-4f86-92cb-b01532aad754 ]] \r\n",
       "E8 )- ->> E9 [[psysml:95cf767c-bf38-4d44-8a21-82e4671e1c7d ]] : <<variant>>\r\n",
       "E10 - -:|> E2 [[psysml:6b6ac884-9cd9-45a3-8497-3c127dcfd472 ]] \r\n",
       "@enduml\r\n",
       "\n",
       "PlantUML version 1.2020.13(Sat Jun 13 12:26:38 UTC 2020)\n",
       "(EPL source distribution)\n",
       "Java Runtime: OpenJDK Runtime Environment\n",
       "JVM: OpenJDK 64-Bit Server VM\n",
       "Default Encoding: UTF-8\n",
       "Language: en\n",
       "Country: null\n",
       "--></g></svg>"
      ]
     },
     "execution_count": 29,
     "metadata": {},
     "output_type": "execute_result"
    }
   ],
   "source": [
    "%viz --style=\"STDCOLOR\" --view=\"MIXED\" \"VariabilityTest\""
   ]
  },
  {
   "cell_type": "code",
   "execution_count": 30,
   "id": "0dc9dd56",
   "metadata": {
    "execution": {
     "iopub.execute_input": "2021-10-25T08:21:43.686987Z",
     "iopub.status.busy": "2021-10-25T08:21:43.686478Z",
     "iopub.status.idle": "2021-10-25T08:21:43.782397Z",
     "shell.execute_reply": "2021-10-25T08:21:43.782027Z"
    }
   },
   "outputs": [
    {
     "data": {
      "image/svg+xml": [
       "<?xml version=\"1.0\" encoding=\"UTF-8\" standalone=\"no\"?><svg xmlns=\"http://www.w3.org/2000/svg\" xmlns:xlink=\"http://www.w3.org/1999/xlink\" contentScriptType=\"application/ecmascript\" contentStyleType=\"text/css\" height=\"401px\" preserveAspectRatio=\"none\" style=\"width:439px;height:401px;\" version=\"1.1\" viewBox=\"0 0 439 401\" width=\"439px\" zoomAndPan=\"magnify\"><defs><filter height=\"300%\" id=\"fddb6dnzlgsfr\" width=\"300%\" x=\"-1\" y=\"-1\"><feGaussianBlur result=\"blurOut\" stdDeviation=\"2.0\"/><feColorMatrix in=\"blurOut\" result=\"blurOut2\" type=\"matrix\" values=\"0 0 0 0 0 0 0 0 0 0 0 0 0 0 0 0 0 0 .4 0\"/><feOffset dx=\"4.0\" dy=\"4.0\" in=\"blurOut2\" result=\"blurOut3\"/><feBlend in=\"SourceGraphic\" in2=\"blurOut3\" mode=\"normal\"/></filter></defs><g><!--MD5=[fbc87193dbaf4d95561dea2c320d4a47]\n",
       "cluster E1--><a href=\"psysml:54c28c65-c036-409b-a9ca-8f60ef8eadfb\" target=\"_top\" title=\"psysml:54c28c65-c036-409b-a9ca-8f60ef8eadfb\" xlink:actuate=\"onRequest\" xlink:href=\"psysml:54c28c65-c036-409b-a9ca-8f60ef8eadfb\" xlink:show=\"new\" xlink:title=\"psysml:54c28c65-c036-409b-a9ca-8f60ef8eadfb\" xlink:type=\"simple\"><polygon fill=\"#FFFFFF\" filter=\"url(#fddb6dnzlgsfr)\" points=\"16,6,116,6,123,28.2969,415,28.2969,415,389,16,389,16,6\" style=\"stroke: #000000; stroke-width: 1.5;\"/><line style=\"stroke: #000000; stroke-width: 1.5;\" x1=\"16\" x2=\"123\" y1=\"28.2969\" y2=\"28.2969\"/><text fill=\"#000000\" font-family=\"sans-serif\" font-size=\"14\" font-weight=\"bold\" lengthAdjust=\"spacingAndGlyphs\" textLength=\"94\" x=\"20\" y=\"20.9951\">VariabilityTest</text></a><!--MD5=[b4997ac47864f28c2f74865a473b2911]\n",
       "class E2--><a href=\"psysml:82cb16a2-9eb2-4cce-bbbe-e1592c7acc8b\" target=\"_top\" title=\"psysml:82cb16a2-9eb2-4cce-bbbe-e1592c7acc8b\" xlink:actuate=\"onRequest\" xlink:href=\"psysml:82cb16a2-9eb2-4cce-bbbe-e1592c7acc8b\" xlink:show=\"new\" xlink:title=\"psysml:82cb16a2-9eb2-4cce-bbbe-e1592c7acc8b\" xlink:type=\"simple\"><rect fill=\"#FEFECE\" filter=\"url(#fddb6dnzlgsfr)\" height=\"69.6094\" id=\"E2\" style=\"stroke: #A80036; stroke-width: 1.5;\" width=\"63\" x=\"232.5\" y=\"294\"/><ellipse cx=\"257.85\" cy=\"310\" fill=\"#008000\" rx=\"11\" ry=\"11\" style=\"stroke: #A80036; stroke-width: 1.0;\"/><path d=\"M254.725,315 L254.725,304.4063 L257.9594,304.4063 Q259.8656,304.4063 260.7719,305.1563 Q261.6938,305.9063 261.6938,307.0781 Q261.6938,307.7656 261.3031,308.4219 Q260.9281,309.0781 260.2094,309.375 Q261.0688,309.75 261.5844,310.4375 Q262.1,311.125 262.1,311.9375 Q262.1,313.3125 261.0688,314.1563 Q260.0531,315 257.9438,315 L254.725,315 Z M256.6469,308.6406 L257.8031,308.6406 Q258.9281,308.6406 259.3344,308.2656 Q259.7563,307.875 259.7563,307.25 Q259.7563,306.6719 259.3344,306.3125 Q258.9125,305.9531 257.975,305.9531 L256.6469,305.9531 L256.6469,308.6406 Z M256.6469,313.4219 L258.1469,313.4219 Q259.0531,313.4219 259.5844,313.0313 Q260.1156,312.6406 260.1156,311.8906 Q260.1156,311.125 259.6156,310.6563 Q259.1156,310.1719 257.85,310.1719 L256.6469,310.1719 L256.6469,313.4219 Z \"/><text fill=\"#000000\" font-family=\"sans-serif\" font-size=\"12\" lengthAdjust=\"spacingAndGlyphs\" textLength=\"8\" x=\"274.15\" y=\"314.1543\">P</text><line style=\"stroke: #A80036; stroke-width: 1.5;\" x1=\"233.5\" x2=\"294.5\" y1=\"326\" y2=\"326\"/><text fill=\"#000000\" font-family=\"sans-serif\" font-size=\"11\" lengthAdjust=\"spacingAndGlyphs\" textLength=\"7\" x=\"238.5\" y=\"357.0151\">a</text><line style=\"stroke: #A80036; stroke-width: 1.0;\" x1=\"233.5\" x2=\"236.5\" y1=\"340.4023\" y2=\"340.4023\"/><text fill=\"#000000\" font-family=\"sans-serif\" font-size=\"11\" lengthAdjust=\"spacingAndGlyphs\" textLength=\"55\" x=\"236.5\" y=\"343.7104\">attributes</text><line style=\"stroke: #A80036; stroke-width: 1.0;\" x1=\"291.5\" x2=\"294.5\" y1=\"340.4023\" y2=\"340.4023\"/></a><!--MD5=[09b614a08d8cba4a07c9adeb5e0fee81]\n",
       "class E3--><a href=\"psysml:2ef5dada-a649-4c80-bc3f-904ca5914f5d\" target=\"_top\" title=\"psysml:2ef5dada-a649-4c80-bc3f-904ca5914f5d\" xlink:actuate=\"onRequest\" xlink:href=\"psysml:2ef5dada-a649-4c80-bc3f-904ca5914f5d\" xlink:show=\"new\" xlink:title=\"psysml:2ef5dada-a649-4c80-bc3f-904ca5914f5d\" xlink:type=\"simple\"><rect fill=\"#FEFECE\" filter=\"url(#fddb6dnzlgsfr)\" height=\"40\" id=\"E3\" style=\"stroke: #A80036; stroke-width: 1.5;\" width=\"41\" x=\"168.5\" y=\"158\"/><ellipse cx=\"183.5\" cy=\"174\" fill=\"#008000\" rx=\"11\" ry=\"11\" style=\"stroke: #A80036; stroke-width: 1.0;\"/><path d=\"M180.375,179 L180.375,168.4063 L183.6094,168.4063 Q185.5156,168.4063 186.4219,169.1563 Q187.3438,169.9063 187.3438,171.0781 Q187.3438,171.7656 186.9531,172.4219 Q186.5781,173.0781 185.8594,173.375 Q186.7188,173.75 187.2344,174.4375 Q187.75,175.125 187.75,175.9375 Q187.75,177.3125 186.7188,178.1563 Q185.7031,179 183.5938,179 L180.375,179 Z M182.2969,172.6406 L183.4531,172.6406 Q184.5781,172.6406 184.9844,172.2656 Q185.4063,171.875 185.4063,171.25 Q185.4063,170.6719 184.9844,170.3125 Q184.5625,169.9531 183.625,169.9531 L182.2969,169.9531 L182.2969,172.6406 Z M182.2969,177.4219 L183.7969,177.4219 Q184.7031,177.4219 185.2344,177.0313 Q185.7656,176.6406 185.7656,175.8906 Q185.7656,175.125 185.2656,174.6563 Q184.7656,174.1719 183.5,174.1719 L182.2969,174.1719 L182.2969,177.4219 Z \"/><text fill=\"#000000\" font-family=\"sans-serif\" font-size=\"12\" lengthAdjust=\"spacingAndGlyphs\" textLength=\"9\" x=\"197.5\" y=\"178.1543\">Q</text><line style=\"stroke: #A80036; stroke-width: 1.5;\" x1=\"169.5\" x2=\"208.5\" y1=\"190\" y2=\"190\"/></a><!--MD5=[ebbe1d658d1005bcc118a6aa81145e00]\n",
       "class E4--><a href=\"psysml:45188152-89ae-47db-8fae-185a328aceea\" target=\"_top\" title=\"psysml:45188152-89ae-47db-8fae-185a328aceea\" xlink:actuate=\"onRequest\" xlink:href=\"psysml:45188152-89ae-47db-8fae-185a328aceea\" xlink:show=\"new\" xlink:title=\"psysml:45188152-89ae-47db-8fae-185a328aceea\" xlink:type=\"simple\"><rect fill=\"#FEFECE\" filter=\"url(#fddb6dnzlgsfr)\" height=\"45.9375\" id=\"E4\" style=\"stroke: #A80036; stroke-width: 1.5;\" width=\"125\" x=\"268.5\" y=\"41\"/><ellipse cx=\"283.5\" cy=\"59.9688\" fill=\"#A52A2A\" rx=\"11\" ry=\"11\" style=\"stroke: #A80036; stroke-width: 1.0;\"/><path d=\"M280.7188,64.9688 L280.7188,54.375 L283.4531,54.375 Q284.8438,54.375 285.6094,54.7656 Q286.3906,55.1406 286.9219,55.8438 Q287.4531,56.5469 287.75,57.5469 Q288.0469,58.5313 288.0469,59.75 Q288,61.3438 287.5,62.5313 Q287.0156,63.7031 285.9688,64.3438 Q284.9375,64.9688 283.25,64.9688 L280.7188,64.9688 Z M282.5781,63.4688 L283.2031,63.4688 Q284.2813,63.4688 284.9375,63.0156 Q285.5938,62.5625 285.875,61.7344 Q286.1719,60.8906 286.1563,59.7656 Q286.1563,58.5938 285.9063,57.7344 Q285.6563,56.8594 285.0469,56.3906 Q284.4375,55.9063 283.3906,55.9063 L282.5781,55.9063 L282.5781,63.4688 Z \"/><text fill=\"#000000\" font-family=\"sans-serif\" font-size=\"12\" font-style=\"italic\" lengthAdjust=\"spacingAndGlyphs\" textLength=\"97\" x=\"295.5\" y=\"57.1387\">«attribute  def»</text><text fill=\"#000000\" font-family=\"sans-serif\" font-size=\"12\" lengthAdjust=\"spacingAndGlyphs\" textLength=\"8\" x=\"340\" y=\"71.1074\">B</text><line style=\"stroke: #A80036; stroke-width: 1.5;\" x1=\"269.5\" x2=\"392.5\" y1=\"78.9375\" y2=\"78.9375\"/></a><!--MD5=[270fce915f116d4de14055a7c1d9a0f3]\n",
       "class E5--><a href=\"psysml:e8a966fa-6247-410c-94c4-6750afcc6da8\" target=\"_top\" title=\"psysml:e8a966fa-6247-410c-94c4-6750afcc6da8\" xlink:actuate=\"onRequest\" xlink:href=\"psysml:e8a966fa-6247-410c-94c4-6750afcc6da8\" xlink:show=\"new\" xlink:title=\"psysml:e8a966fa-6247-410c-94c4-6750afcc6da8\" xlink:type=\"simple\"><rect fill=\"#FEFECE\" filter=\"url(#fddb6dnzlgsfr)\" height=\"40\" id=\"E5\" style=\"stroke: #A80036; stroke-width: 1.5;\" width=\"40\" x=\"348\" y=\"158\"/><ellipse cx=\"363\" cy=\"174\" fill=\"#008000\" rx=\"11\" ry=\"11\" style=\"stroke: #A80036; stroke-width: 1.0;\"/><path d=\"M359.875,179 L359.875,168.4063 L363.1094,168.4063 Q365.0156,168.4063 365.9219,169.1563 Q366.8438,169.9063 366.8438,171.0781 Q366.8438,171.7656 366.4531,172.4219 Q366.0781,173.0781 365.3594,173.375 Q366.2188,173.75 366.7344,174.4375 Q367.25,175.125 367.25,175.9375 Q367.25,177.3125 366.2188,178.1563 Q365.2031,179 363.0938,179 L359.875,179 Z M361.7969,172.6406 L362.9531,172.6406 Q364.0781,172.6406 364.4844,172.2656 Q364.9063,171.875 364.9063,171.25 Q364.9063,170.6719 364.4844,170.3125 Q364.0625,169.9531 363.125,169.9531 L361.7969,169.9531 L361.7969,172.6406 Z M361.7969,177.4219 L363.2969,177.4219 Q364.2031,177.4219 364.7344,177.0313 Q365.2656,176.6406 365.2656,175.8906 Q365.2656,175.125 364.7656,174.6563 Q364.2656,174.1719 363,174.1719 L361.7969,174.1719 L361.7969,177.4219 Z \"/><text fill=\"#000000\" font-family=\"sans-serif\" font-size=\"12\" font-style=\"italic\" lengthAdjust=\"spacingAndGlyphs\" textLength=\"8\" x=\"377\" y=\"178.1543\">V</text><line style=\"stroke: #A80036; stroke-width: 1.5;\" x1=\"349\" x2=\"387\" y1=\"190\" y2=\"190\"/></a><!--MD5=[60a26617385b1d2d0262a64233df1f8d]\n",
       "class E6--><a href=\"psysml:10060237-19c5-40dc-a73e-8cb7e4953e81\" target=\"_top\" title=\"psysml:10060237-19c5-40dc-a73e-8cb7e4953e81\" xlink:actuate=\"onRequest\" xlink:href=\"psysml:10060237-19c5-40dc-a73e-8cb7e4953e81\" xlink:show=\"new\" xlink:title=\"psysml:10060237-19c5-40dc-a73e-8cb7e4953e81\" xlink:type=\"simple\"><rect fill=\"#FEFECE\" filter=\"url(#fddb6dnzlgsfr)\" height=\"88.3516\" id=\"E6\" rx=\"10\" ry=\"10\" style=\"stroke: #A80036; stroke-width: 1.5;\" width=\"68\" x=\"331\" y=\"285\"/><ellipse cx=\"346\" cy=\"303.9688\" fill=\"#32CD32\" rx=\"11\" ry=\"11\" style=\"stroke: #A80036; stroke-width: 1.0;\"/><path d=\"M342.8125,308.9688 L342.8125,298.375 L346.4219,298.375 Q347.6406,298.375 348.4375,298.8125 Q349.2344,299.2344 349.6094,299.9375 Q350,300.6406 350,301.4844 Q350,302.3281 349.625,303.0156 Q349.2656,303.7031 348.4688,304.125 Q347.6875,304.5313 346.5,304.5313 L344.7656,304.5313 L344.7656,308.9688 L342.8125,308.9688 Z M344.7656,302.9375 L346.375,302.9375 Q347.1875,302.9375 347.6094,302.5313 Q348.0313,302.125 348.0313,301.4844 Q348.0313,300.8594 347.6094,300.4531 Q347.1875,300.0469 346.3906,300.0469 L344.7656,300.0469 L344.7656,302.9375 Z \"/><text fill=\"#000000\" font-family=\"sans-serif\" font-size=\"12\" font-style=\"italic\" lengthAdjust=\"spacingAndGlyphs\" textLength=\"40\" x=\"358\" y=\"301.1387\">«part»</text><text fill=\"#000000\" font-family=\"sans-serif\" font-size=\"12\" lengthAdjust=\"spacingAndGlyphs\" textLength=\"23\" x=\"364.5\" y=\"315.1074\">x: Q</text><line style=\"stroke: #A80036; stroke-width: 1.5;\" x1=\"332\" x2=\"398\" y1=\"322.9375\" y2=\"322.9375\"/><text fill=\"#000000\" font-family=\"sans-serif\" font-size=\"11\" lengthAdjust=\"spacingAndGlyphs\" textLength=\"23\" x=\"337\" y=\"353.9526\">b: B</text><text fill=\"#000000\" font-family=\"sans-serif\" font-size=\"11\" font-style=\"italic\" lengthAdjust=\"spacingAndGlyphs\" textLength=\"44\" x=\"337\" y=\"366.7573\">:&gt;&gt;P::a</text><line style=\"stroke: #A80036; stroke-width: 1.0;\" x1=\"332\" x2=\"337.5\" y1=\"337.3398\" y2=\"337.3398\"/><text fill=\"#000000\" font-family=\"sans-serif\" font-size=\"11\" lengthAdjust=\"spacingAndGlyphs\" textLength=\"55\" x=\"337.5\" y=\"340.6479\">attributes</text><line style=\"stroke: #A80036; stroke-width: 1.0;\" x1=\"392.5\" x2=\"398\" y1=\"337.3398\" y2=\"337.3398\"/></a><!--MD5=[2156ba9850f5573cc1fc38a6a4b2f02b]\n",
       "class E7--><a href=\"psysml:070ce293-3e12-454f-ad5b-be257c39d672\" target=\"_top\" title=\"psysml:070ce293-3e12-454f-ad5b-be257c39d672\" xlink:actuate=\"onRequest\" xlink:href=\"psysml:070ce293-3e12-454f-ad5b-be257c39d672\" xlink:show=\"new\" xlink:title=\"psysml:070ce293-3e12-454f-ad5b-be257c39d672\" xlink:type=\"simple\"><rect fill=\"#FEFECE\" filter=\"url(#fddb6dnzlgsfr)\" height=\"45.9375\" id=\"E7\" rx=\"10\" ry=\"10\" style=\"stroke: #A80036; stroke-width: 1.5;\" width=\"68\" x=\"155\" y=\"41\"/><ellipse cx=\"170\" cy=\"59.9688\" fill=\"#32CD32\" rx=\"11\" ry=\"11\" style=\"stroke: #A80036; stroke-width: 1.0;\"/><path d=\"M166.8125,64.9688 L166.8125,54.375 L170.4219,54.375 Q171.6406,54.375 172.4375,54.8125 Q173.2344,55.2344 173.6094,55.9375 Q174,56.6406 174,57.4844 Q174,58.3281 173.625,59.0156 Q173.2656,59.7031 172.4688,60.125 Q171.6875,60.5313 170.5,60.5313 L168.7656,60.5313 L168.7656,64.9688 L166.8125,64.9688 Z M168.7656,58.9375 L170.375,58.9375 Q171.1875,58.9375 171.6094,58.5313 Q172.0313,58.125 172.0313,57.4844 Q172.0313,56.8594 171.6094,56.4531 Q171.1875,56.0469 170.3906,56.0469 L168.7656,56.0469 L168.7656,58.9375 Z \"/><text fill=\"#000000\" font-family=\"sans-serif\" font-size=\"12\" font-style=\"italic\" lengthAdjust=\"spacingAndGlyphs\" textLength=\"40\" x=\"182\" y=\"57.1387\">«part»</text><text fill=\"#000000\" font-family=\"sans-serif\" font-size=\"12\" lengthAdjust=\"spacingAndGlyphs\" textLength=\"25\" x=\"187.5\" y=\"71.1074\">q: Q</text><line style=\"stroke: #A80036; stroke-width: 1.5;\" x1=\"156\" x2=\"222\" y1=\"78.9375\" y2=\"78.9375\"/></a><!--MD5=[b9389687b975829384b498ac4b7476b2]\n",
       "class E8--><a href=\"psysml:3367482b-ff59-4bbe-a9dc-fe1b4a2ad697\" target=\"_top\" title=\"psysml:3367482b-ff59-4bbe-a9dc-fe1b4a2ad697\" xlink:actuate=\"onRequest\" xlink:href=\"psysml:3367482b-ff59-4bbe-a9dc-fe1b4a2ad697\" xlink:show=\"new\" xlink:title=\"psysml:3367482b-ff59-4bbe-a9dc-fe1b4a2ad697\" xlink:type=\"simple\"><rect fill=\"#FEFECE\" filter=\"url(#fddb6dnzlgsfr)\" height=\"59.9063\" id=\"E8\" rx=\"10\" ry=\"10\" style=\"stroke: #A80036; stroke-width: 1.5;\" width=\"96\" x=\"37\" y=\"148\"/><ellipse cx=\"52\" cy=\"173.9531\" fill=\"#32CD32\" rx=\"11\" ry=\"11\" style=\"stroke: #A80036; stroke-width: 1.0;\"/><path d=\"M48.8125,178.9531 L48.8125,168.3594 L52.4219,168.3594 Q53.6406,168.3594 54.4375,168.7969 Q55.2344,169.2188 55.6094,169.9219 Q56,170.625 56,171.4688 Q56,172.3125 55.625,173 Q55.2656,173.6875 54.4688,174.1094 Q53.6875,174.5156 52.5,174.5156 L50.7656,174.5156 L50.7656,178.9531 L48.8125,178.9531 Z M50.7656,172.9219 L52.375,172.9219 Q53.1875,172.9219 53.6094,172.5156 Q54.0313,172.1094 54.0313,171.4688 Q54.0313,170.8438 53.6094,170.4375 Q53.1875,170.0313 52.3906,170.0313 L50.7656,170.0313 L50.7656,172.9219 Z \"/><text fill=\"#000000\" font-family=\"sans-serif\" font-size=\"12\" font-style=\"italic\" lengthAdjust=\"spacingAndGlyphs\" textLength=\"68\" x=\"64\" y=\"164.1387\">«variation»</text><text fill=\"#000000\" font-family=\"sans-serif\" font-size=\"12\" font-style=\"italic\" lengthAdjust=\"spacingAndGlyphs\" textLength=\"40\" x=\"78\" y=\"178.1074\">«part»</text><text fill=\"#000000\" font-family=\"sans-serif\" font-size=\"12\" font-style=\"italic\" lengthAdjust=\"spacingAndGlyphs\" textLength=\"6\" x=\"85\" y=\"192.0762\">v</text><text fill=\"#000000\" font-family=\"sans-serif\" font-size=\"12\" lengthAdjust=\"spacingAndGlyphs\" textLength=\"16\" x=\"91\" y=\"192.0762\">: P</text><line style=\"stroke: #A80036; stroke-width: 1.5;\" x1=\"38\" x2=\"132\" y1=\"199.9063\" y2=\"199.9063\"/></a><!--MD5=[fd4143e9d270a159db93a4ea2a975926]\n",
       "class E9--><a href=\"psysml:80fa5ea3-437e-4eec-9e3d-5d2e24e12c28\" target=\"_top\" title=\"psysml:80fa5ea3-437e-4eec-9e3d-5d2e24e12c28\" xlink:actuate=\"onRequest\" xlink:href=\"psysml:80fa5ea3-437e-4eec-9e3d-5d2e24e12c28\" xlink:show=\"new\" xlink:title=\"psysml:80fa5ea3-437e-4eec-9e3d-5d2e24e12c28\" xlink:type=\"simple\"><rect fill=\"#FEFECE\" filter=\"url(#fddb6dnzlgsfr)\" height=\"88.3516\" id=\"E9\" rx=\"10\" ry=\"10\" style=\"stroke: #A80036; stroke-width: 1.5;\" width=\"165\" x=\"32.5\" y=\"285\"/><ellipse cx=\"47.5\" cy=\"303.9688\" fill=\"#FFA500\" rx=\"11\" ry=\"11\" style=\"stroke: #A80036; stroke-width: 1.0;\"/><path d=\"M47.25,309.4375 Q45.5,309.4375 44.5469,308.4063 Q43.6094,307.3594 43.6094,305.5156 L43.6094,298.625 L45.6719,298.625 L45.6719,298.7813 Q45.5781,298.875 45.5469,299.0156 Q45.5313,299.1406 45.5313,299.4063 L45.5313,305.5313 Q45.5313,306.625 45.9063,307.25 Q46.2813,307.875 47.2656,307.875 Q48.25,307.875 48.6406,307.25 Q49.0313,306.625 49.0313,305.4844 L49.0313,298.625 L50.9063,298.625 L50.9063,305.4688 Q50.9063,307.5 49.875,308.4688 Q48.8594,309.4375 47.25,309.4375 Z \"/><text fill=\"#000000\" font-family=\"sans-serif\" font-size=\"12\" font-style=\"italic\" lengthAdjust=\"spacingAndGlyphs\" textLength=\"75\" x=\"90.5\" y=\"301.1387\">«reference»</text><text fill=\"#000000\" font-family=\"sans-serif\" font-size=\"12\" lengthAdjust=\"spacingAndGlyphs\" textLength=\"133\" x=\"61.5\" y=\"315.1074\">q :&gt; VariabilityTest::q</text><line style=\"stroke: #A80036; stroke-width: 1.5;\" x1=\"33.5\" x2=\"196.5\" y1=\"322.9375\" y2=\"322.9375\"/><text fill=\"#000000\" font-family=\"sans-serif\" font-size=\"11\" lengthAdjust=\"spacingAndGlyphs\" textLength=\"23\" x=\"38.5\" y=\"353.9526\">b: B</text><text fill=\"#000000\" font-family=\"sans-serif\" font-size=\"11\" font-style=\"italic\" lengthAdjust=\"spacingAndGlyphs\" textLength=\"44\" x=\"38.5\" y=\"366.7573\">:&gt;&gt;P::a</text><line style=\"stroke: #A80036; stroke-width: 1.0;\" x1=\"33.5\" x2=\"87.5\" y1=\"337.3398\" y2=\"337.3398\"/><text fill=\"#000000\" font-family=\"sans-serif\" font-size=\"11\" lengthAdjust=\"spacingAndGlyphs\" textLength=\"55\" x=\"87.5\" y=\"340.6479\">attributes</text><line style=\"stroke: #A80036; stroke-width: 1.0;\" x1=\"142.5\" x2=\"196.5\" y1=\"337.3398\" y2=\"337.3398\"/></a><!--MD5=[96f4274e9e20536e775497830990834d]\n",
       "class E10--><a href=\"psysml:48eaa747-84b8-4879-8d6b-33c104c23f89\" target=\"_top\" title=\"psysml:48eaa747-84b8-4879-8d6b-33c104c23f89\" xlink:actuate=\"onRequest\" xlink:href=\"psysml:48eaa747-84b8-4879-8d6b-33c104c23f89\" xlink:show=\"new\" xlink:title=\"psysml:48eaa747-84b8-4879-8d6b-33c104c23f89\" xlink:type=\"simple\"><rect fill=\"#FEFECE\" filter=\"url(#fddb6dnzlgsfr)\" height=\"45.9375\" id=\"E10\" rx=\"10\" ry=\"10\" style=\"stroke: #A80036; stroke-width: 1.5;\" width=\"68\" x=\"245\" y=\"155\"/><ellipse cx=\"260\" cy=\"173.9688\" fill=\"#32CD32\" rx=\"11\" ry=\"11\" style=\"stroke: #A80036; stroke-width: 1.0;\"/><path d=\"M256.8125,178.9688 L256.8125,168.375 L260.4219,168.375 Q261.6406,168.375 262.4375,168.8125 Q263.2344,169.2344 263.6094,169.9375 Q264,170.6406 264,171.4844 Q264,172.3281 263.625,173.0156 Q263.2656,173.7031 262.4688,174.125 Q261.6875,174.5313 260.5,174.5313 L258.7656,174.5313 L258.7656,178.9688 L256.8125,178.9688 Z M258.7656,172.9375 L260.375,172.9375 Q261.1875,172.9375 261.6094,172.5313 Q262.0313,172.125 262.0313,171.4844 Q262.0313,170.8594 261.6094,170.4531 Q261.1875,170.0469 260.3906,170.0469 L258.7656,170.0469 L258.7656,172.9375 Z \"/><text fill=\"#000000\" font-family=\"sans-serif\" font-size=\"12\" font-style=\"italic\" lengthAdjust=\"spacingAndGlyphs\" textLength=\"40\" x=\"272\" y=\"171.1387\">«part»</text><text fill=\"#000000\" font-family=\"sans-serif\" font-size=\"12\" lengthAdjust=\"spacingAndGlyphs\" textLength=\"22\" x=\"279\" y=\"185.1074\">y: P</text><line style=\"stroke: #A80036; stroke-width: 1.5;\" x1=\"246\" x2=\"312\" y1=\"192.9375\" y2=\"192.9375\"/></a><!--MD5=[05d275557350bfb9b23a4ef7222b4c39]\n",
       "link E3 to E2--><a href=\"psysml:8fca0815-a461-4953-83e8-63ed8c86de29\" target=\"_top\" title=\"psysml:8fca0815-a461-4953-83e8-63ed8c86de29\" xlink:actuate=\"onRequest\" xlink:href=\"psysml:8fca0815-a461-4953-83e8-63ed8c86de29\" xlink:show=\"new\" xlink:title=\"psysml:8fca0815-a461-4953-83e8-63ed8c86de29\" xlink:type=\"simple\"><path d=\"M198.65,198.17 C208.47,217.69 224.13,248.8 237.66,275.67 \" fill=\"none\" id=\"E3-&gt;E2\" style=\"stroke: #A80036; stroke-width: 1.0;\"/><polygon fill=\"none\" points=\"244.06,272.82,246.8,293.83,231.56,279.12,244.06,272.82\" style=\"stroke: #A80036; stroke-width: 1.0;\"/></a><!--MD5=[15ebcb19ae302d9b601edb458606d402]\n",
       "link E5 to E2--><a href=\"psysml:80d735d5-abd9-4df4-b941-a11b60e81c18\" target=\"_top\" title=\"psysml:80d735d5-abd9-4df4-b941-a11b60e81c18\" xlink:actuate=\"onRequest\" xlink:href=\"psysml:80d735d5-abd9-4df4-b941-a11b60e81c18\" xlink:show=\"new\" xlink:title=\"psysml:80d735d5-abd9-4df4-b941-a11b60e81c18\" xlink:type=\"simple\"><path d=\"M354.62,198.17 C340.74,218.06 318.44,250 299.44,277.22 \" fill=\"none\" id=\"E5-&gt;E2\" style=\"stroke: #A80036; stroke-width: 1.0;\"/><polygon fill=\"none\" points=\"305.04,281.44,287.85,293.83,293.56,273.43,305.04,281.44\" style=\"stroke: #A80036; stroke-width: 1.0;\"/></a><!--MD5=[9120cf2e5df3bff93db8f754bbbc09b4]\n",
       "link E5 to E6--><a href=\"psysml:bbf94ce0-8140-4269-b805-c97e9315d509\" target=\"_top\" title=\"psysml:bbf94ce0-8140-4269-b805-c97e9315d509\" xlink:actuate=\"onRequest\" xlink:href=\"psysml:bbf94ce0-8140-4269-b805-c97e9315d509\" xlink:show=\"new\" xlink:title=\"psysml:bbf94ce0-8140-4269-b805-c97e9315d509\" xlink:type=\"simple\"><path d=\"M367.41,208.45 C367.03,227.36 366.52,252.47 366.07,274.79 \" fill=\"none\" id=\"E5-E6\" style=\"stroke: #A80036; stroke-width: 1.0;\"/><polygon fill=\"#A80036\" points=\"365.87,284.82,369.0294,276.8816,363.0306,276.7616,365.87,284.82\" style=\"stroke: #A80036; stroke-width: 1.0;\"/><path d=\"M359.0929,201.0785 A9,9 0 0 0 376.004 201.4167\" fill=\"none\" style=\"stroke: #A80036; stroke-width: 1.5;\"/><text fill=\"#000000\" font-family=\"sans-serif\" font-size=\"13\" lengthAdjust=\"spacingAndGlyphs\" textLength=\"60\" x=\"367\" y=\"251.0669\">«variant»</text></a><!--MD5=[14ccda38c055a5c0da953d572bc50960]\n",
       "link E7 to E3--><a href=\"psysml:1a218306-3ccb-4021-8143-a6b7222dd125\" target=\"_top\" title=\"psysml:1a218306-3ccb-4021-8143-a6b7222dd125\" xlink:actuate=\"onRequest\" xlink:href=\"psysml:1a218306-3ccb-4021-8143-a6b7222dd125\" xlink:show=\"new\" xlink:title=\"psysml:1a218306-3ccb-4021-8143-a6b7222dd125\" xlink:type=\"simple\"><path d=\"M189,87.13 C189,101.57 189,120.83 189,137.81 \" fill=\"none\" id=\"E7-&gt;E3\" style=\"stroke: #A80036; stroke-width: 1.0;\"/><polygon fill=\"#FFFFFF\" points=\"189,157.9,182,138.9,196,138.9,189,157.9\" style=\"stroke: #A80036; stroke-width: 1.0;\"/><ellipse cx=\"184\" cy=\"133.2\" fill=\"#A80036\" rx=\"2\" ry=\"2\" style=\"stroke: #A80036; stroke-width: 1.0;\"/><ellipse cx=\"194\" cy=\"133.2\" fill=\"#A80036\" rx=\"2\" ry=\"2\" style=\"stroke: #A80036; stroke-width: 1.0;\"/></a><!--MD5=[f1f3f9f2fc535e6147756cb86a7f2e32]\n",
       "link E8 to E2--><a href=\"psysml:0a07ead6-b6a6-4f86-92cb-b01532aad754\" target=\"_top\" title=\"psysml:0a07ead6-b6a6-4f86-92cb-b01532aad754\" xlink:actuate=\"onRequest\" xlink:href=\"psysml:0a07ead6-b6a6-4f86-92cb-b01532aad754\" xlink:show=\"new\" xlink:title=\"psysml:0a07ead6-b6a6-4f86-92cb-b01532aad754\" xlink:type=\"simple\"><path d=\"M129.64,208.04 C142.94,217.21 157.34,227.66 170,238 C186.1,251.16 202.77,266.49 217.52,280.73 \" fill=\"none\" id=\"E8-&gt;E2\" style=\"stroke: #A80036; stroke-width: 1.0;\"/><polygon fill=\"#FFFFFF\" points=\"232.1,295.03,213.6388,286.7122,223.4479,276.7231,232.1,295.03\" style=\"stroke: #A80036; stroke-width: 1.0;\"/><ellipse cx=\"210.9732\" cy=\"281.2915\" fill=\"#A80036\" rx=\"2\" ry=\"2\" style=\"stroke: #A80036; stroke-width: 1.0;\"/><ellipse cx=\"217.9797\" cy=\"274.1564\" fill=\"#A80036\" rx=\"2\" ry=\"2\" style=\"stroke: #A80036; stroke-width: 1.0;\"/></a><!--MD5=[ed10624c06dd9a4fa49ccf290e8b16a8]\n",
       "link E8 to E9--><a href=\"psysml:95cf767c-bf38-4d44-8a21-82e4671e1c7d\" target=\"_top\" title=\"psysml:95cf767c-bf38-4d44-8a21-82e4671e1c7d\" xlink:actuate=\"onRequest\" xlink:href=\"psysml:95cf767c-bf38-4d44-8a21-82e4671e1c7d\" xlink:show=\"new\" xlink:title=\"psysml:95cf767c-bf38-4d44-8a21-82e4671e1c7d\" xlink:type=\"simple\"><path d=\"M92.86,218.04 C96.36,235.44 100.54,256.2 104.32,274.98 \" fill=\"none\" id=\"E8-E9\" style=\"stroke: #A80036; stroke-width: 1.0;\"/><polygon fill=\"#A80036\" points=\"106.32,284.88,107.6834,276.4455,101.8012,277.6288,106.32,284.88\" style=\"stroke: #A80036; stroke-width: 1.0;\"/><path d=\"M83.1825,212.7764 A9,9 0 0 0 99.7601 209.4174\" fill=\"none\" style=\"stroke: #A80036; stroke-width: 1.5;\"/><text fill=\"#000000\" font-family=\"sans-serif\" font-size=\"13\" lengthAdjust=\"spacingAndGlyphs\" textLength=\"60\" x=\"101\" y=\"251.0669\">«variant»</text></a><!--MD5=[0f36bececdf0dff6e600d6f64214b0f1]\n",
       "link E10 to E2--><a href=\"psysml:6b6ac884-9cd9-45a3-8497-3c127dcfd472\" target=\"_top\" title=\"psysml:6b6ac884-9cd9-45a3-8497-3c127dcfd472\" xlink:actuate=\"onRequest\" xlink:href=\"psysml:6b6ac884-9cd9-45a3-8497-3c127dcfd472\" xlink:show=\"new\" xlink:title=\"psysml:6b6ac884-9cd9-45a3-8497-3c127dcfd472\" xlink:type=\"simple\"><path d=\"M276.75,201.31 C274.83,220.46 271.97,248.87 269.44,273.93 \" fill=\"none\" id=\"E10-&gt;E2\" style=\"stroke: #A80036; stroke-width: 1.0;\"/><polygon fill=\"#FFFFFF\" points=\"267.43,293.92,262.3651,274.3152,276.2949,275.7152,267.43,293.92\" style=\"stroke: #A80036; stroke-width: 1.0;\"/><ellipse cx=\"264.925\" cy=\"268.8438\" fill=\"#A80036\" rx=\"2\" ry=\"2\" style=\"stroke: #A80036; stroke-width: 1.0;\"/><ellipse cx=\"274.8749\" cy=\"269.8438\" fill=\"#A80036\" rx=\"2\" ry=\"2\" style=\"stroke: #A80036; stroke-width: 1.0;\"/></a><!--MD5=[f4ac494d15d61f932c5d8a52fcc261f3]\n",
       "@startuml\r\n",
       " \r\n",
       "package \"VariabilityTest\" as E1  [[psysml:54c28c65-c036-409b-a9ca-8f60ef8eadfb ]]  {\r\n",
       "comp def \"P\" as E2 << << (B,green) >> [[psysml:82cb16a2-9eb2-4cce-bbbe-e1592c7acc8b ]] {\r\n",
       "- - attributes - -\r\n",
       "a\r\n",
       "}\r\n",
       "comp def \"Q\" as E3 << << (B,green) >> [[psysml:2ef5dada-a649-4c80-bc3f-904ca5914f5d ]] {\r\n",
       "}\r\n",
       "comp def \"B\" as E4 << <<(D,brown) attribute  def>> [[psysml:45188152-89ae-47db-8fae-185a328aceea ]] {\r\n",
       "}\r\n",
       "comp def \"<i>V</i>\" as E5 << << (B,green) >> [[psysml:e8a966fa-6247-410c-94c4-6750afcc6da8 ]] {\r\n",
       "}\r\n",
       "comp usage \"x: Q \" as E6 << << (P,limegreen) part>> [[psysml:10060237-19c5-40dc-a73e-8cb7e4953e81 ]] {\r\n",
       "- - attributes - -\r\n",
       "b: B\\n//:>>P::a// \r\n",
       "}\r\n",
       "comp usage \"q: Q \" as E7 << << (P,limegreen) part>> [[psysml:070ce293-3e12-454f-ad5b-be257c39d672 ]] {\r\n",
       "}\r\n",
       "comp usage \"<i>v</i>: P \" as E8  <<variation>>\\n<< << (P,limegreen) part>> [[psysml:3367482b-ff59-4bbe-a9dc-fe1b4a2ad697 ]] {\r\n",
       "}\r\n",
       "comp usage \"q :> VariabilityTest::q\" as E9 << <<(U,orange) reference>> [[psysml:80fa5ea3-437e-4eec-9e3d-5d2e24e12c28 ]] {\r\n",
       "- - attributes - -\r\n",
       "b: B\\n//:>>P::a// \r\n",
       "}\r\n",
       "comp usage \"y: P \" as E10 << << (P,limegreen) part>> [[psysml:48eaa747-84b8-4879-8d6b-33c104c23f89 ]] {\r\n",
       "}\r\n",
       "}\r\n",
       "E3 - -|> E2 [[psysml:8fca0815-a461-4953-83e8-63ed8c86de29 ]] \r\n",
       "E5 - -|> E2 [[psysml:80d735d5-abd9-4df4-b941-a11b60e81c18 ]] \r\n",
       "E5 )- ->> E6 [[psysml:bbf94ce0-8140-4269-b805-c97e9315d509 ]] : <<variant>>\r\n",
       "E7 - -:|> E3 [[psysml:1a218306-3ccb-4021-8143-a6b7222dd125 ]] \r\n",
       "E8 - -:|> E2 [[psysml:0a07ead6-b6a6-4f86-92cb-b01532aad754 ]] \r\n",
       "E8 )- ->> E9 [[psysml:95cf767c-bf38-4d44-8a21-82e4671e1c7d ]] : <<variant>>\r\n",
       "E10 - -:|> E2 [[psysml:6b6ac884-9cd9-45a3-8497-3c127dcfd472 ]] \r\n",
       "@enduml\r\n",
       "\n",
       "PlantUML version 1.2020.13(Sat Jun 13 12:26:38 UTC 2020)\n",
       "(EPL source distribution)\n",
       "Java Runtime: OpenJDK Runtime Environment\n",
       "JVM: OpenJDK 64-Bit Server VM\n",
       "Default Encoding: UTF-8\n",
       "Language: en\n",
       "Country: null\n",
       "--></g></svg>"
      ]
     },
     "execution_count": 30,
     "metadata": {},
     "output_type": "execute_result"
    }
   ],
   "source": [
    "%viz --style=\"PLANTUML\" --view=\"Default\" \"VariabilityTest\""
   ]
  },
  {
   "cell_type": "code",
   "execution_count": 31,
   "id": "ddefb445",
   "metadata": {
    "execution": {
     "iopub.execute_input": "2021-10-25T08:21:43.831234Z",
     "iopub.status.busy": "2021-10-25T08:21:43.830672Z",
     "iopub.status.idle": "2021-10-25T08:21:43.905462Z",
     "shell.execute_reply": "2021-10-25T08:21:43.905093Z"
    }
   },
   "outputs": [
    {
     "data": {
      "image/svg+xml": [
       "<?xml version=\"1.0\" encoding=\"UTF-8\" standalone=\"no\"?><svg xmlns=\"http://www.w3.org/2000/svg\" xmlns:xlink=\"http://www.w3.org/1999/xlink\" contentScriptType=\"application/ecmascript\" contentStyleType=\"text/css\" height=\"401px\" preserveAspectRatio=\"none\" style=\"width:439px;height:401px;\" version=\"1.1\" viewBox=\"0 0 439 401\" width=\"439px\" zoomAndPan=\"magnify\"><defs><filter height=\"300%\" id=\"fddb6dnzlgsfr\" width=\"300%\" x=\"-1\" y=\"-1\"><feGaussianBlur result=\"blurOut\" stdDeviation=\"2.0\"/><feColorMatrix in=\"blurOut\" result=\"blurOut2\" type=\"matrix\" values=\"0 0 0 0 0 0 0 0 0 0 0 0 0 0 0 0 0 0 .4 0\"/><feOffset dx=\"4.0\" dy=\"4.0\" in=\"blurOut2\" result=\"blurOut3\"/><feBlend in=\"SourceGraphic\" in2=\"blurOut3\" mode=\"normal\"/></filter></defs><g><!--MD5=[fbc87193dbaf4d95561dea2c320d4a47]\n",
       "cluster E1--><a href=\"psysml:54c28c65-c036-409b-a9ca-8f60ef8eadfb\" target=\"_top\" title=\"psysml:54c28c65-c036-409b-a9ca-8f60ef8eadfb\" xlink:actuate=\"onRequest\" xlink:href=\"psysml:54c28c65-c036-409b-a9ca-8f60ef8eadfb\" xlink:show=\"new\" xlink:title=\"psysml:54c28c65-c036-409b-a9ca-8f60ef8eadfb\" xlink:type=\"simple\"><polygon fill=\"#FFFFFF\" filter=\"url(#fddb6dnzlgsfr)\" points=\"16,6,116,6,123,28.2969,415,28.2969,415,389,16,389,16,6\" style=\"stroke: #000000; stroke-width: 1.5;\"/><line style=\"stroke: #000000; stroke-width: 1.5;\" x1=\"16\" x2=\"123\" y1=\"28.2969\" y2=\"28.2969\"/><text fill=\"#000000\" font-family=\"sans-serif\" font-size=\"14\" font-weight=\"bold\" lengthAdjust=\"spacingAndGlyphs\" textLength=\"94\" x=\"20\" y=\"20.9951\">VariabilityTest</text></a><!--MD5=[b4997ac47864f28c2f74865a473b2911]\n",
       "class E2--><a href=\"psysml:82cb16a2-9eb2-4cce-bbbe-e1592c7acc8b\" target=\"_top\" title=\"psysml:82cb16a2-9eb2-4cce-bbbe-e1592c7acc8b\" xlink:actuate=\"onRequest\" xlink:href=\"psysml:82cb16a2-9eb2-4cce-bbbe-e1592c7acc8b\" xlink:show=\"new\" xlink:title=\"psysml:82cb16a2-9eb2-4cce-bbbe-e1592c7acc8b\" xlink:type=\"simple\"><rect fill=\"#FEFECE\" filter=\"url(#fddb6dnzlgsfr)\" height=\"69.6094\" id=\"E2\" style=\"stroke: #A80036; stroke-width: 1.5;\" width=\"63\" x=\"232.5\" y=\"294\"/><ellipse cx=\"257.85\" cy=\"310\" fill=\"#008000\" rx=\"11\" ry=\"11\" style=\"stroke: #A80036; stroke-width: 1.0;\"/><path d=\"M254.725,315 L254.725,304.4063 L257.9594,304.4063 Q259.8656,304.4063 260.7719,305.1563 Q261.6938,305.9063 261.6938,307.0781 Q261.6938,307.7656 261.3031,308.4219 Q260.9281,309.0781 260.2094,309.375 Q261.0688,309.75 261.5844,310.4375 Q262.1,311.125 262.1,311.9375 Q262.1,313.3125 261.0688,314.1563 Q260.0531,315 257.9438,315 L254.725,315 Z M256.6469,308.6406 L257.8031,308.6406 Q258.9281,308.6406 259.3344,308.2656 Q259.7563,307.875 259.7563,307.25 Q259.7563,306.6719 259.3344,306.3125 Q258.9125,305.9531 257.975,305.9531 L256.6469,305.9531 L256.6469,308.6406 Z M256.6469,313.4219 L258.1469,313.4219 Q259.0531,313.4219 259.5844,313.0313 Q260.1156,312.6406 260.1156,311.8906 Q260.1156,311.125 259.6156,310.6563 Q259.1156,310.1719 257.85,310.1719 L256.6469,310.1719 L256.6469,313.4219 Z \"/><text fill=\"#000000\" font-family=\"sans-serif\" font-size=\"12\" lengthAdjust=\"spacingAndGlyphs\" textLength=\"8\" x=\"274.15\" y=\"314.1543\">P</text><line style=\"stroke: #A80036; stroke-width: 1.5;\" x1=\"233.5\" x2=\"294.5\" y1=\"326\" y2=\"326\"/><text fill=\"#000000\" font-family=\"sans-serif\" font-size=\"11\" lengthAdjust=\"spacingAndGlyphs\" textLength=\"7\" x=\"238.5\" y=\"357.0151\">a</text><line style=\"stroke: #A80036; stroke-width: 1.0;\" x1=\"233.5\" x2=\"236.5\" y1=\"340.4023\" y2=\"340.4023\"/><text fill=\"#000000\" font-family=\"sans-serif\" font-size=\"11\" lengthAdjust=\"spacingAndGlyphs\" textLength=\"55\" x=\"236.5\" y=\"343.7104\">attributes</text><line style=\"stroke: #A80036; stroke-width: 1.0;\" x1=\"291.5\" x2=\"294.5\" y1=\"340.4023\" y2=\"340.4023\"/></a><!--MD5=[09b614a08d8cba4a07c9adeb5e0fee81]\n",
       "class E3--><a href=\"psysml:2ef5dada-a649-4c80-bc3f-904ca5914f5d\" target=\"_top\" title=\"psysml:2ef5dada-a649-4c80-bc3f-904ca5914f5d\" xlink:actuate=\"onRequest\" xlink:href=\"psysml:2ef5dada-a649-4c80-bc3f-904ca5914f5d\" xlink:show=\"new\" xlink:title=\"psysml:2ef5dada-a649-4c80-bc3f-904ca5914f5d\" xlink:type=\"simple\"><rect fill=\"#FEFECE\" filter=\"url(#fddb6dnzlgsfr)\" height=\"40\" id=\"E3\" style=\"stroke: #A80036; stroke-width: 1.5;\" width=\"41\" x=\"168.5\" y=\"158\"/><ellipse cx=\"183.5\" cy=\"174\" fill=\"#008000\" rx=\"11\" ry=\"11\" style=\"stroke: #A80036; stroke-width: 1.0;\"/><path d=\"M180.375,179 L180.375,168.4063 L183.6094,168.4063 Q185.5156,168.4063 186.4219,169.1563 Q187.3438,169.9063 187.3438,171.0781 Q187.3438,171.7656 186.9531,172.4219 Q186.5781,173.0781 185.8594,173.375 Q186.7188,173.75 187.2344,174.4375 Q187.75,175.125 187.75,175.9375 Q187.75,177.3125 186.7188,178.1563 Q185.7031,179 183.5938,179 L180.375,179 Z M182.2969,172.6406 L183.4531,172.6406 Q184.5781,172.6406 184.9844,172.2656 Q185.4063,171.875 185.4063,171.25 Q185.4063,170.6719 184.9844,170.3125 Q184.5625,169.9531 183.625,169.9531 L182.2969,169.9531 L182.2969,172.6406 Z M182.2969,177.4219 L183.7969,177.4219 Q184.7031,177.4219 185.2344,177.0313 Q185.7656,176.6406 185.7656,175.8906 Q185.7656,175.125 185.2656,174.6563 Q184.7656,174.1719 183.5,174.1719 L182.2969,174.1719 L182.2969,177.4219 Z \"/><text fill=\"#000000\" font-family=\"sans-serif\" font-size=\"12\" lengthAdjust=\"spacingAndGlyphs\" textLength=\"9\" x=\"197.5\" y=\"178.1543\">Q</text><line style=\"stroke: #A80036; stroke-width: 1.5;\" x1=\"169.5\" x2=\"208.5\" y1=\"190\" y2=\"190\"/></a><!--MD5=[ebbe1d658d1005bcc118a6aa81145e00]\n",
       "class E4--><a href=\"psysml:45188152-89ae-47db-8fae-185a328aceea\" target=\"_top\" title=\"psysml:45188152-89ae-47db-8fae-185a328aceea\" xlink:actuate=\"onRequest\" xlink:href=\"psysml:45188152-89ae-47db-8fae-185a328aceea\" xlink:show=\"new\" xlink:title=\"psysml:45188152-89ae-47db-8fae-185a328aceea\" xlink:type=\"simple\"><rect fill=\"#FEFECE\" filter=\"url(#fddb6dnzlgsfr)\" height=\"45.9375\" id=\"E4\" style=\"stroke: #A80036; stroke-width: 1.5;\" width=\"125\" x=\"268.5\" y=\"41\"/><ellipse cx=\"283.5\" cy=\"59.9688\" fill=\"#A52A2A\" rx=\"11\" ry=\"11\" style=\"stroke: #A80036; stroke-width: 1.0;\"/><path d=\"M280.7188,64.9688 L280.7188,54.375 L283.4531,54.375 Q284.8438,54.375 285.6094,54.7656 Q286.3906,55.1406 286.9219,55.8438 Q287.4531,56.5469 287.75,57.5469 Q288.0469,58.5313 288.0469,59.75 Q288,61.3438 287.5,62.5313 Q287.0156,63.7031 285.9688,64.3438 Q284.9375,64.9688 283.25,64.9688 L280.7188,64.9688 Z M282.5781,63.4688 L283.2031,63.4688 Q284.2813,63.4688 284.9375,63.0156 Q285.5938,62.5625 285.875,61.7344 Q286.1719,60.8906 286.1563,59.7656 Q286.1563,58.5938 285.9063,57.7344 Q285.6563,56.8594 285.0469,56.3906 Q284.4375,55.9063 283.3906,55.9063 L282.5781,55.9063 L282.5781,63.4688 Z \"/><text fill=\"#000000\" font-family=\"sans-serif\" font-size=\"12\" font-style=\"italic\" lengthAdjust=\"spacingAndGlyphs\" textLength=\"97\" x=\"295.5\" y=\"57.1387\">«attribute  def»</text><text fill=\"#000000\" font-family=\"sans-serif\" font-size=\"12\" lengthAdjust=\"spacingAndGlyphs\" textLength=\"8\" x=\"340\" y=\"71.1074\">B</text><line style=\"stroke: #A80036; stroke-width: 1.5;\" x1=\"269.5\" x2=\"392.5\" y1=\"78.9375\" y2=\"78.9375\"/></a><!--MD5=[270fce915f116d4de14055a7c1d9a0f3]\n",
       "class E5--><a href=\"psysml:e8a966fa-6247-410c-94c4-6750afcc6da8\" target=\"_top\" title=\"psysml:e8a966fa-6247-410c-94c4-6750afcc6da8\" xlink:actuate=\"onRequest\" xlink:href=\"psysml:e8a966fa-6247-410c-94c4-6750afcc6da8\" xlink:show=\"new\" xlink:title=\"psysml:e8a966fa-6247-410c-94c4-6750afcc6da8\" xlink:type=\"simple\"><rect fill=\"#FEFECE\" filter=\"url(#fddb6dnzlgsfr)\" height=\"40\" id=\"E5\" style=\"stroke: #A80036; stroke-width: 1.5;\" width=\"40\" x=\"348\" y=\"158\"/><ellipse cx=\"363\" cy=\"174\" fill=\"#008000\" rx=\"11\" ry=\"11\" style=\"stroke: #A80036; stroke-width: 1.0;\"/><path d=\"M359.875,179 L359.875,168.4063 L363.1094,168.4063 Q365.0156,168.4063 365.9219,169.1563 Q366.8438,169.9063 366.8438,171.0781 Q366.8438,171.7656 366.4531,172.4219 Q366.0781,173.0781 365.3594,173.375 Q366.2188,173.75 366.7344,174.4375 Q367.25,175.125 367.25,175.9375 Q367.25,177.3125 366.2188,178.1563 Q365.2031,179 363.0938,179 L359.875,179 Z M361.7969,172.6406 L362.9531,172.6406 Q364.0781,172.6406 364.4844,172.2656 Q364.9063,171.875 364.9063,171.25 Q364.9063,170.6719 364.4844,170.3125 Q364.0625,169.9531 363.125,169.9531 L361.7969,169.9531 L361.7969,172.6406 Z M361.7969,177.4219 L363.2969,177.4219 Q364.2031,177.4219 364.7344,177.0313 Q365.2656,176.6406 365.2656,175.8906 Q365.2656,175.125 364.7656,174.6563 Q364.2656,174.1719 363,174.1719 L361.7969,174.1719 L361.7969,177.4219 Z \"/><text fill=\"#000000\" font-family=\"sans-serif\" font-size=\"12\" font-style=\"italic\" lengthAdjust=\"spacingAndGlyphs\" textLength=\"8\" x=\"377\" y=\"178.1543\">V</text><line style=\"stroke: #A80036; stroke-width: 1.5;\" x1=\"349\" x2=\"387\" y1=\"190\" y2=\"190\"/></a><!--MD5=[60a26617385b1d2d0262a64233df1f8d]\n",
       "class E6--><a href=\"psysml:10060237-19c5-40dc-a73e-8cb7e4953e81\" target=\"_top\" title=\"psysml:10060237-19c5-40dc-a73e-8cb7e4953e81\" xlink:actuate=\"onRequest\" xlink:href=\"psysml:10060237-19c5-40dc-a73e-8cb7e4953e81\" xlink:show=\"new\" xlink:title=\"psysml:10060237-19c5-40dc-a73e-8cb7e4953e81\" xlink:type=\"simple\"><rect fill=\"#FEFECE\" filter=\"url(#fddb6dnzlgsfr)\" height=\"88.3516\" id=\"E6\" rx=\"10\" ry=\"10\" style=\"stroke: #A80036; stroke-width: 1.5;\" width=\"68\" x=\"331\" y=\"285\"/><ellipse cx=\"346\" cy=\"303.9688\" fill=\"#32CD32\" rx=\"11\" ry=\"11\" style=\"stroke: #A80036; stroke-width: 1.0;\"/><path d=\"M342.8125,308.9688 L342.8125,298.375 L346.4219,298.375 Q347.6406,298.375 348.4375,298.8125 Q349.2344,299.2344 349.6094,299.9375 Q350,300.6406 350,301.4844 Q350,302.3281 349.625,303.0156 Q349.2656,303.7031 348.4688,304.125 Q347.6875,304.5313 346.5,304.5313 L344.7656,304.5313 L344.7656,308.9688 L342.8125,308.9688 Z M344.7656,302.9375 L346.375,302.9375 Q347.1875,302.9375 347.6094,302.5313 Q348.0313,302.125 348.0313,301.4844 Q348.0313,300.8594 347.6094,300.4531 Q347.1875,300.0469 346.3906,300.0469 L344.7656,300.0469 L344.7656,302.9375 Z \"/><text fill=\"#000000\" font-family=\"sans-serif\" font-size=\"12\" font-style=\"italic\" lengthAdjust=\"spacingAndGlyphs\" textLength=\"40\" x=\"358\" y=\"301.1387\">«part»</text><text fill=\"#000000\" font-family=\"sans-serif\" font-size=\"12\" lengthAdjust=\"spacingAndGlyphs\" textLength=\"23\" x=\"364.5\" y=\"315.1074\">x: Q</text><line style=\"stroke: #A80036; stroke-width: 1.5;\" x1=\"332\" x2=\"398\" y1=\"322.9375\" y2=\"322.9375\"/><text fill=\"#000000\" font-family=\"sans-serif\" font-size=\"11\" lengthAdjust=\"spacingAndGlyphs\" textLength=\"23\" x=\"337\" y=\"353.9526\">b: B</text><text fill=\"#000000\" font-family=\"sans-serif\" font-size=\"11\" font-style=\"italic\" lengthAdjust=\"spacingAndGlyphs\" textLength=\"44\" x=\"337\" y=\"366.7573\">:&gt;&gt;P::a</text><line style=\"stroke: #A80036; stroke-width: 1.0;\" x1=\"332\" x2=\"337.5\" y1=\"337.3398\" y2=\"337.3398\"/><text fill=\"#000000\" font-family=\"sans-serif\" font-size=\"11\" lengthAdjust=\"spacingAndGlyphs\" textLength=\"55\" x=\"337.5\" y=\"340.6479\">attributes</text><line style=\"stroke: #A80036; stroke-width: 1.0;\" x1=\"392.5\" x2=\"398\" y1=\"337.3398\" y2=\"337.3398\"/></a><!--MD5=[2156ba9850f5573cc1fc38a6a4b2f02b]\n",
       "class E7--><a href=\"psysml:070ce293-3e12-454f-ad5b-be257c39d672\" target=\"_top\" title=\"psysml:070ce293-3e12-454f-ad5b-be257c39d672\" xlink:actuate=\"onRequest\" xlink:href=\"psysml:070ce293-3e12-454f-ad5b-be257c39d672\" xlink:show=\"new\" xlink:title=\"psysml:070ce293-3e12-454f-ad5b-be257c39d672\" xlink:type=\"simple\"><rect fill=\"#FEFECE\" filter=\"url(#fddb6dnzlgsfr)\" height=\"45.9375\" id=\"E7\" rx=\"10\" ry=\"10\" style=\"stroke: #A80036; stroke-width: 1.5;\" width=\"68\" x=\"155\" y=\"41\"/><ellipse cx=\"170\" cy=\"59.9688\" fill=\"#32CD32\" rx=\"11\" ry=\"11\" style=\"stroke: #A80036; stroke-width: 1.0;\"/><path d=\"M166.8125,64.9688 L166.8125,54.375 L170.4219,54.375 Q171.6406,54.375 172.4375,54.8125 Q173.2344,55.2344 173.6094,55.9375 Q174,56.6406 174,57.4844 Q174,58.3281 173.625,59.0156 Q173.2656,59.7031 172.4688,60.125 Q171.6875,60.5313 170.5,60.5313 L168.7656,60.5313 L168.7656,64.9688 L166.8125,64.9688 Z M168.7656,58.9375 L170.375,58.9375 Q171.1875,58.9375 171.6094,58.5313 Q172.0313,58.125 172.0313,57.4844 Q172.0313,56.8594 171.6094,56.4531 Q171.1875,56.0469 170.3906,56.0469 L168.7656,56.0469 L168.7656,58.9375 Z \"/><text fill=\"#000000\" font-family=\"sans-serif\" font-size=\"12\" font-style=\"italic\" lengthAdjust=\"spacingAndGlyphs\" textLength=\"40\" x=\"182\" y=\"57.1387\">«part»</text><text fill=\"#000000\" font-family=\"sans-serif\" font-size=\"12\" lengthAdjust=\"spacingAndGlyphs\" textLength=\"25\" x=\"187.5\" y=\"71.1074\">q: Q</text><line style=\"stroke: #A80036; stroke-width: 1.5;\" x1=\"156\" x2=\"222\" y1=\"78.9375\" y2=\"78.9375\"/></a><!--MD5=[b9389687b975829384b498ac4b7476b2]\n",
       "class E8--><a href=\"psysml:3367482b-ff59-4bbe-a9dc-fe1b4a2ad697\" target=\"_top\" title=\"psysml:3367482b-ff59-4bbe-a9dc-fe1b4a2ad697\" xlink:actuate=\"onRequest\" xlink:href=\"psysml:3367482b-ff59-4bbe-a9dc-fe1b4a2ad697\" xlink:show=\"new\" xlink:title=\"psysml:3367482b-ff59-4bbe-a9dc-fe1b4a2ad697\" xlink:type=\"simple\"><rect fill=\"#FEFECE\" filter=\"url(#fddb6dnzlgsfr)\" height=\"59.9063\" id=\"E8\" rx=\"10\" ry=\"10\" style=\"stroke: #A80036; stroke-width: 1.5;\" width=\"96\" x=\"37\" y=\"148\"/><ellipse cx=\"52\" cy=\"173.9531\" fill=\"#32CD32\" rx=\"11\" ry=\"11\" style=\"stroke: #A80036; stroke-width: 1.0;\"/><path d=\"M48.8125,178.9531 L48.8125,168.3594 L52.4219,168.3594 Q53.6406,168.3594 54.4375,168.7969 Q55.2344,169.2188 55.6094,169.9219 Q56,170.625 56,171.4688 Q56,172.3125 55.625,173 Q55.2656,173.6875 54.4688,174.1094 Q53.6875,174.5156 52.5,174.5156 L50.7656,174.5156 L50.7656,178.9531 L48.8125,178.9531 Z M50.7656,172.9219 L52.375,172.9219 Q53.1875,172.9219 53.6094,172.5156 Q54.0313,172.1094 54.0313,171.4688 Q54.0313,170.8438 53.6094,170.4375 Q53.1875,170.0313 52.3906,170.0313 L50.7656,170.0313 L50.7656,172.9219 Z \"/><text fill=\"#000000\" font-family=\"sans-serif\" font-size=\"12\" font-style=\"italic\" lengthAdjust=\"spacingAndGlyphs\" textLength=\"68\" x=\"64\" y=\"164.1387\">«variation»</text><text fill=\"#000000\" font-family=\"sans-serif\" font-size=\"12\" font-style=\"italic\" lengthAdjust=\"spacingAndGlyphs\" textLength=\"40\" x=\"78\" y=\"178.1074\">«part»</text><text fill=\"#000000\" font-family=\"sans-serif\" font-size=\"12\" font-style=\"italic\" lengthAdjust=\"spacingAndGlyphs\" textLength=\"6\" x=\"85\" y=\"192.0762\">v</text><text fill=\"#000000\" font-family=\"sans-serif\" font-size=\"12\" lengthAdjust=\"spacingAndGlyphs\" textLength=\"16\" x=\"91\" y=\"192.0762\">: P</text><line style=\"stroke: #A80036; stroke-width: 1.5;\" x1=\"38\" x2=\"132\" y1=\"199.9063\" y2=\"199.9063\"/></a><!--MD5=[fd4143e9d270a159db93a4ea2a975926]\n",
       "class E9--><a href=\"psysml:80fa5ea3-437e-4eec-9e3d-5d2e24e12c28\" target=\"_top\" title=\"psysml:80fa5ea3-437e-4eec-9e3d-5d2e24e12c28\" xlink:actuate=\"onRequest\" xlink:href=\"psysml:80fa5ea3-437e-4eec-9e3d-5d2e24e12c28\" xlink:show=\"new\" xlink:title=\"psysml:80fa5ea3-437e-4eec-9e3d-5d2e24e12c28\" xlink:type=\"simple\"><rect fill=\"#FEFECE\" filter=\"url(#fddb6dnzlgsfr)\" height=\"88.3516\" id=\"E9\" rx=\"10\" ry=\"10\" style=\"stroke: #A80036; stroke-width: 1.5;\" width=\"165\" x=\"32.5\" y=\"285\"/><ellipse cx=\"47.5\" cy=\"303.9688\" fill=\"#FFA500\" rx=\"11\" ry=\"11\" style=\"stroke: #A80036; stroke-width: 1.0;\"/><path d=\"M47.25,309.4375 Q45.5,309.4375 44.5469,308.4063 Q43.6094,307.3594 43.6094,305.5156 L43.6094,298.625 L45.6719,298.625 L45.6719,298.7813 Q45.5781,298.875 45.5469,299.0156 Q45.5313,299.1406 45.5313,299.4063 L45.5313,305.5313 Q45.5313,306.625 45.9063,307.25 Q46.2813,307.875 47.2656,307.875 Q48.25,307.875 48.6406,307.25 Q49.0313,306.625 49.0313,305.4844 L49.0313,298.625 L50.9063,298.625 L50.9063,305.4688 Q50.9063,307.5 49.875,308.4688 Q48.8594,309.4375 47.25,309.4375 Z \"/><text fill=\"#000000\" font-family=\"sans-serif\" font-size=\"12\" font-style=\"italic\" lengthAdjust=\"spacingAndGlyphs\" textLength=\"75\" x=\"90.5\" y=\"301.1387\">«reference»</text><text fill=\"#000000\" font-family=\"sans-serif\" font-size=\"12\" lengthAdjust=\"spacingAndGlyphs\" textLength=\"133\" x=\"61.5\" y=\"315.1074\">q :&gt; VariabilityTest::q</text><line style=\"stroke: #A80036; stroke-width: 1.5;\" x1=\"33.5\" x2=\"196.5\" y1=\"322.9375\" y2=\"322.9375\"/><text fill=\"#000000\" font-family=\"sans-serif\" font-size=\"11\" lengthAdjust=\"spacingAndGlyphs\" textLength=\"23\" x=\"38.5\" y=\"353.9526\">b: B</text><text fill=\"#000000\" font-family=\"sans-serif\" font-size=\"11\" font-style=\"italic\" lengthAdjust=\"spacingAndGlyphs\" textLength=\"44\" x=\"38.5\" y=\"366.7573\">:&gt;&gt;P::a</text><line style=\"stroke: #A80036; stroke-width: 1.0;\" x1=\"33.5\" x2=\"87.5\" y1=\"337.3398\" y2=\"337.3398\"/><text fill=\"#000000\" font-family=\"sans-serif\" font-size=\"11\" lengthAdjust=\"spacingAndGlyphs\" textLength=\"55\" x=\"87.5\" y=\"340.6479\">attributes</text><line style=\"stroke: #A80036; stroke-width: 1.0;\" x1=\"142.5\" x2=\"196.5\" y1=\"337.3398\" y2=\"337.3398\"/></a><!--MD5=[96f4274e9e20536e775497830990834d]\n",
       "class E10--><a href=\"psysml:48eaa747-84b8-4879-8d6b-33c104c23f89\" target=\"_top\" title=\"psysml:48eaa747-84b8-4879-8d6b-33c104c23f89\" xlink:actuate=\"onRequest\" xlink:href=\"psysml:48eaa747-84b8-4879-8d6b-33c104c23f89\" xlink:show=\"new\" xlink:title=\"psysml:48eaa747-84b8-4879-8d6b-33c104c23f89\" xlink:type=\"simple\"><rect fill=\"#FEFECE\" filter=\"url(#fddb6dnzlgsfr)\" height=\"45.9375\" id=\"E10\" rx=\"10\" ry=\"10\" style=\"stroke: #A80036; stroke-width: 1.5;\" width=\"68\" x=\"245\" y=\"155\"/><ellipse cx=\"260\" cy=\"173.9688\" fill=\"#32CD32\" rx=\"11\" ry=\"11\" style=\"stroke: #A80036; stroke-width: 1.0;\"/><path d=\"M256.8125,178.9688 L256.8125,168.375 L260.4219,168.375 Q261.6406,168.375 262.4375,168.8125 Q263.2344,169.2344 263.6094,169.9375 Q264,170.6406 264,171.4844 Q264,172.3281 263.625,173.0156 Q263.2656,173.7031 262.4688,174.125 Q261.6875,174.5313 260.5,174.5313 L258.7656,174.5313 L258.7656,178.9688 L256.8125,178.9688 Z M258.7656,172.9375 L260.375,172.9375 Q261.1875,172.9375 261.6094,172.5313 Q262.0313,172.125 262.0313,171.4844 Q262.0313,170.8594 261.6094,170.4531 Q261.1875,170.0469 260.3906,170.0469 L258.7656,170.0469 L258.7656,172.9375 Z \"/><text fill=\"#000000\" font-family=\"sans-serif\" font-size=\"12\" font-style=\"italic\" lengthAdjust=\"spacingAndGlyphs\" textLength=\"40\" x=\"272\" y=\"171.1387\">«part»</text><text fill=\"#000000\" font-family=\"sans-serif\" font-size=\"12\" lengthAdjust=\"spacingAndGlyphs\" textLength=\"22\" x=\"279\" y=\"185.1074\">y: P</text><line style=\"stroke: #A80036; stroke-width: 1.5;\" x1=\"246\" x2=\"312\" y1=\"192.9375\" y2=\"192.9375\"/></a><!--MD5=[05d275557350bfb9b23a4ef7222b4c39]\n",
       "link E3 to E2--><a href=\"psysml:8fca0815-a461-4953-83e8-63ed8c86de29\" target=\"_top\" title=\"psysml:8fca0815-a461-4953-83e8-63ed8c86de29\" xlink:actuate=\"onRequest\" xlink:href=\"psysml:8fca0815-a461-4953-83e8-63ed8c86de29\" xlink:show=\"new\" xlink:title=\"psysml:8fca0815-a461-4953-83e8-63ed8c86de29\" xlink:type=\"simple\"><path d=\"M198.65,198.17 C208.47,217.69 224.13,248.8 237.66,275.67 \" fill=\"none\" id=\"E3-&gt;E2\" style=\"stroke: #A80036; stroke-width: 1.0;\"/><polygon fill=\"none\" points=\"244.06,272.82,246.8,293.83,231.56,279.12,244.06,272.82\" style=\"stroke: #A80036; stroke-width: 1.0;\"/></a><!--MD5=[15ebcb19ae302d9b601edb458606d402]\n",
       "link E5 to E2--><a href=\"psysml:80d735d5-abd9-4df4-b941-a11b60e81c18\" target=\"_top\" title=\"psysml:80d735d5-abd9-4df4-b941-a11b60e81c18\" xlink:actuate=\"onRequest\" xlink:href=\"psysml:80d735d5-abd9-4df4-b941-a11b60e81c18\" xlink:show=\"new\" xlink:title=\"psysml:80d735d5-abd9-4df4-b941-a11b60e81c18\" xlink:type=\"simple\"><path d=\"M354.62,198.17 C340.74,218.06 318.44,250 299.44,277.22 \" fill=\"none\" id=\"E5-&gt;E2\" style=\"stroke: #A80036; stroke-width: 1.0;\"/><polygon fill=\"none\" points=\"305.04,281.44,287.85,293.83,293.56,273.43,305.04,281.44\" style=\"stroke: #A80036; stroke-width: 1.0;\"/></a><!--MD5=[9120cf2e5df3bff93db8f754bbbc09b4]\n",
       "link E5 to E6--><a href=\"psysml:bbf94ce0-8140-4269-b805-c97e9315d509\" target=\"_top\" title=\"psysml:bbf94ce0-8140-4269-b805-c97e9315d509\" xlink:actuate=\"onRequest\" xlink:href=\"psysml:bbf94ce0-8140-4269-b805-c97e9315d509\" xlink:show=\"new\" xlink:title=\"psysml:bbf94ce0-8140-4269-b805-c97e9315d509\" xlink:type=\"simple\"><path d=\"M367.41,208.45 C367.03,227.36 366.52,252.47 366.07,274.79 \" fill=\"none\" id=\"E5-E6\" style=\"stroke: #A80036; stroke-width: 1.0;\"/><polygon fill=\"#A80036\" points=\"365.87,284.82,369.0294,276.8816,363.0306,276.7616,365.87,284.82\" style=\"stroke: #A80036; stroke-width: 1.0;\"/><path d=\"M359.0929,201.0785 A9,9 0 0 0 376.004 201.4167\" fill=\"none\" style=\"stroke: #A80036; stroke-width: 1.5;\"/><text fill=\"#000000\" font-family=\"sans-serif\" font-size=\"13\" lengthAdjust=\"spacingAndGlyphs\" textLength=\"60\" x=\"367\" y=\"251.0669\">«variant»</text></a><!--MD5=[14ccda38c055a5c0da953d572bc50960]\n",
       "link E7 to E3--><a href=\"psysml:1a218306-3ccb-4021-8143-a6b7222dd125\" target=\"_top\" title=\"psysml:1a218306-3ccb-4021-8143-a6b7222dd125\" xlink:actuate=\"onRequest\" xlink:href=\"psysml:1a218306-3ccb-4021-8143-a6b7222dd125\" xlink:show=\"new\" xlink:title=\"psysml:1a218306-3ccb-4021-8143-a6b7222dd125\" xlink:type=\"simple\"><path d=\"M189,87.13 C189,101.57 189,120.83 189,137.81 \" fill=\"none\" id=\"E7-&gt;E3\" style=\"stroke: #A80036; stroke-width: 1.0;\"/><polygon fill=\"#FFFFFF\" points=\"189,157.9,182,138.9,196,138.9,189,157.9\" style=\"stroke: #A80036; stroke-width: 1.0;\"/><ellipse cx=\"184\" cy=\"133.2\" fill=\"#A80036\" rx=\"2\" ry=\"2\" style=\"stroke: #A80036; stroke-width: 1.0;\"/><ellipse cx=\"194\" cy=\"133.2\" fill=\"#A80036\" rx=\"2\" ry=\"2\" style=\"stroke: #A80036; stroke-width: 1.0;\"/></a><!--MD5=[f1f3f9f2fc535e6147756cb86a7f2e32]\n",
       "link E8 to E2--><a href=\"psysml:0a07ead6-b6a6-4f86-92cb-b01532aad754\" target=\"_top\" title=\"psysml:0a07ead6-b6a6-4f86-92cb-b01532aad754\" xlink:actuate=\"onRequest\" xlink:href=\"psysml:0a07ead6-b6a6-4f86-92cb-b01532aad754\" xlink:show=\"new\" xlink:title=\"psysml:0a07ead6-b6a6-4f86-92cb-b01532aad754\" xlink:type=\"simple\"><path d=\"M129.64,208.04 C142.94,217.21 157.34,227.66 170,238 C186.1,251.16 202.77,266.49 217.52,280.73 \" fill=\"none\" id=\"E8-&gt;E2\" style=\"stroke: #A80036; stroke-width: 1.0;\"/><polygon fill=\"#FFFFFF\" points=\"232.1,295.03,213.6388,286.7122,223.4479,276.7231,232.1,295.03\" style=\"stroke: #A80036; stroke-width: 1.0;\"/><ellipse cx=\"210.9732\" cy=\"281.2915\" fill=\"#A80036\" rx=\"2\" ry=\"2\" style=\"stroke: #A80036; stroke-width: 1.0;\"/><ellipse cx=\"217.9797\" cy=\"274.1564\" fill=\"#A80036\" rx=\"2\" ry=\"2\" style=\"stroke: #A80036; stroke-width: 1.0;\"/></a><!--MD5=[ed10624c06dd9a4fa49ccf290e8b16a8]\n",
       "link E8 to E9--><a href=\"psysml:95cf767c-bf38-4d44-8a21-82e4671e1c7d\" target=\"_top\" title=\"psysml:95cf767c-bf38-4d44-8a21-82e4671e1c7d\" xlink:actuate=\"onRequest\" xlink:href=\"psysml:95cf767c-bf38-4d44-8a21-82e4671e1c7d\" xlink:show=\"new\" xlink:title=\"psysml:95cf767c-bf38-4d44-8a21-82e4671e1c7d\" xlink:type=\"simple\"><path d=\"M92.86,218.04 C96.36,235.44 100.54,256.2 104.32,274.98 \" fill=\"none\" id=\"E8-E9\" style=\"stroke: #A80036; stroke-width: 1.0;\"/><polygon fill=\"#A80036\" points=\"106.32,284.88,107.6834,276.4455,101.8012,277.6288,106.32,284.88\" style=\"stroke: #A80036; stroke-width: 1.0;\"/><path d=\"M83.1825,212.7764 A9,9 0 0 0 99.7601 209.4174\" fill=\"none\" style=\"stroke: #A80036; stroke-width: 1.5;\"/><text fill=\"#000000\" font-family=\"sans-serif\" font-size=\"13\" lengthAdjust=\"spacingAndGlyphs\" textLength=\"60\" x=\"101\" y=\"251.0669\">«variant»</text></a><!--MD5=[0f36bececdf0dff6e600d6f64214b0f1]\n",
       "link E10 to E2--><a href=\"psysml:6b6ac884-9cd9-45a3-8497-3c127dcfd472\" target=\"_top\" title=\"psysml:6b6ac884-9cd9-45a3-8497-3c127dcfd472\" xlink:actuate=\"onRequest\" xlink:href=\"psysml:6b6ac884-9cd9-45a3-8497-3c127dcfd472\" xlink:show=\"new\" xlink:title=\"psysml:6b6ac884-9cd9-45a3-8497-3c127dcfd472\" xlink:type=\"simple\"><path d=\"M276.75,201.31 C274.83,220.46 271.97,248.87 269.44,273.93 \" fill=\"none\" id=\"E10-&gt;E2\" style=\"stroke: #A80036; stroke-width: 1.0;\"/><polygon fill=\"#FFFFFF\" points=\"267.43,293.92,262.3651,274.3152,276.2949,275.7152,267.43,293.92\" style=\"stroke: #A80036; stroke-width: 1.0;\"/><ellipse cx=\"264.925\" cy=\"268.8438\" fill=\"#A80036\" rx=\"2\" ry=\"2\" style=\"stroke: #A80036; stroke-width: 1.0;\"/><ellipse cx=\"274.8749\" cy=\"269.8438\" fill=\"#A80036\" rx=\"2\" ry=\"2\" style=\"stroke: #A80036; stroke-width: 1.0;\"/></a><!--MD5=[f4ac494d15d61f932c5d8a52fcc261f3]\n",
       "@startuml\r\n",
       " \r\n",
       "package \"VariabilityTest\" as E1  [[psysml:54c28c65-c036-409b-a9ca-8f60ef8eadfb ]]  {\r\n",
       "comp def \"P\" as E2 << << (B,green) >> [[psysml:82cb16a2-9eb2-4cce-bbbe-e1592c7acc8b ]] {\r\n",
       "- - attributes - -\r\n",
       "a\r\n",
       "}\r\n",
       "comp def \"Q\" as E3 << << (B,green) >> [[psysml:2ef5dada-a649-4c80-bc3f-904ca5914f5d ]] {\r\n",
       "}\r\n",
       "comp def \"B\" as E4 << <<(D,brown) attribute  def>> [[psysml:45188152-89ae-47db-8fae-185a328aceea ]] {\r\n",
       "}\r\n",
       "comp def \"<i>V</i>\" as E5 << << (B,green) >> [[psysml:e8a966fa-6247-410c-94c4-6750afcc6da8 ]] {\r\n",
       "}\r\n",
       "comp usage \"x: Q \" as E6 << << (P,limegreen) part>> [[psysml:10060237-19c5-40dc-a73e-8cb7e4953e81 ]] {\r\n",
       "- - attributes - -\r\n",
       "b: B\\n//:>>P::a// \r\n",
       "}\r\n",
       "comp usage \"q: Q \" as E7 << << (P,limegreen) part>> [[psysml:070ce293-3e12-454f-ad5b-be257c39d672 ]] {\r\n",
       "}\r\n",
       "comp usage \"<i>v</i>: P \" as E8  <<variation>>\\n<< << (P,limegreen) part>> [[psysml:3367482b-ff59-4bbe-a9dc-fe1b4a2ad697 ]] {\r\n",
       "}\r\n",
       "comp usage \"q :> VariabilityTest::q\" as E9 << <<(U,orange) reference>> [[psysml:80fa5ea3-437e-4eec-9e3d-5d2e24e12c28 ]] {\r\n",
       "- - attributes - -\r\n",
       "b: B\\n//:>>P::a// \r\n",
       "}\r\n",
       "comp usage \"y: P \" as E10 << << (P,limegreen) part>> [[psysml:48eaa747-84b8-4879-8d6b-33c104c23f89 ]] {\r\n",
       "}\r\n",
       "}\r\n",
       "E3 - -|> E2 [[psysml:8fca0815-a461-4953-83e8-63ed8c86de29 ]] \r\n",
       "E5 - -|> E2 [[psysml:80d735d5-abd9-4df4-b941-a11b60e81c18 ]] \r\n",
       "E5 )- ->> E6 [[psysml:bbf94ce0-8140-4269-b805-c97e9315d509 ]] : <<variant>>\r\n",
       "E7 - -:|> E3 [[psysml:1a218306-3ccb-4021-8143-a6b7222dd125 ]] \r\n",
       "E8 - -:|> E2 [[psysml:0a07ead6-b6a6-4f86-92cb-b01532aad754 ]] \r\n",
       "E8 )- ->> E9 [[psysml:95cf767c-bf38-4d44-8a21-82e4671e1c7d ]] : <<variant>>\r\n",
       "E10 - -:|> E2 [[psysml:6b6ac884-9cd9-45a3-8497-3c127dcfd472 ]] \r\n",
       "@enduml\r\n",
       "\n",
       "PlantUML version 1.2020.13(Sat Jun 13 12:26:38 UTC 2020)\n",
       "(EPL source distribution)\n",
       "Java Runtime: OpenJDK Runtime Environment\n",
       "JVM: OpenJDK 64-Bit Server VM\n",
       "Default Encoding: UTF-8\n",
       "Language: en\n",
       "Country: null\n",
       "--></g></svg>"
      ]
     },
     "execution_count": 31,
     "metadata": {},
     "output_type": "execute_result"
    }
   ],
   "source": [
    "%viz --style=\"PLANTUML\" --view=\"Tree\" \"VariabilityTest\""
   ]
  },
  {
   "cell_type": "code",
   "execution_count": 32,
   "id": "38682ba1",
   "metadata": {
    "execution": {
     "iopub.execute_input": "2021-10-25T08:21:43.954540Z",
     "iopub.status.busy": "2021-10-25T08:21:43.953965Z",
     "iopub.status.idle": "2021-10-25T08:21:44.034965Z",
     "shell.execute_reply": "2021-10-25T08:21:44.033235Z"
    }
   },
   "outputs": [
    {
     "data": {
      "image/svg+xml": [
       "<?xml version=\"1.0\" encoding=\"UTF-8\" standalone=\"no\"?><svg xmlns=\"http://www.w3.org/2000/svg\" xmlns:xlink=\"http://www.w3.org/1999/xlink\" contentScriptType=\"application/ecmascript\" contentStyleType=\"text/css\" height=\"300px\" preserveAspectRatio=\"none\" style=\"width:603px;height:300px;background:#000000;\" version=\"1.1\" viewBox=\"0 0 603 300\" width=\"603px\" zoomAndPan=\"magnify\"><defs/><g><rect fill=\"#1C1B1B\" height=\"1\" style=\"stroke: #1C1B1B; stroke-width: 1.0;\" width=\"1\" x=\"0\" y=\"0\"/><rect fill=\"#FFFFFF\" height=\"202.8012\" style=\"stroke: #FFFFFF; stroke-width: 1.0;\" width=\"602\" x=\"0\" y=\"0\"/><text fill=\"#000000\" font-family=\"sans-serif\" font-size=\"12\" font-weight=\"bold\" lengthAdjust=\"spacingAndGlyphs\" textLength=\"139\" x=\"5\" y=\"16.1387\">Welcome to PlantUML!</text><text fill=\"#000000\" font-family=\"sans-serif\" font-size=\"12\" lengthAdjust=\"spacingAndGlyphs\" textLength=\"0\" x=\"9\" y=\"30.1074\"/><text fill=\"#000000\" font-family=\"sans-serif\" font-size=\"12\" lengthAdjust=\"spacingAndGlyphs\" textLength=\"293\" x=\"5\" y=\"44.0762\">If you use this software, you accept its license.</text><text fill=\"#000000\" font-family=\"sans-serif\" font-size=\"12\" lengthAdjust=\"spacingAndGlyphs\" textLength=\"107\" x=\"5\" y=\"58.0449\">(details by typing</text><text fill=\"#000000\" font-family=\"monospace\" font-size=\"12\" lengthAdjust=\"spacingAndGlyphs\" textLength=\"42\" x=\"116\" y=\"58.595\">license</text><text fill=\"#000000\" font-family=\"sans-serif\" font-size=\"12\" lengthAdjust=\"spacingAndGlyphs\" textLength=\"56\" x=\"162\" y=\"58.0449\">keyword)</text><text fill=\"#000000\" font-family=\"sans-serif\" font-size=\"12\" lengthAdjust=\"spacingAndGlyphs\" textLength=\"0\" x=\"9\" y=\"72.0137\"/><text fill=\"#000000\" font-family=\"sans-serif\" font-size=\"12\" lengthAdjust=\"spacingAndGlyphs\" textLength=\"283\" x=\"5\" y=\"85.9824\">You can start with a simple UML Diagram like:</text><text fill=\"#000000\" font-family=\"sans-serif\" font-size=\"12\" lengthAdjust=\"spacingAndGlyphs\" textLength=\"0\" x=\"9\" y=\"99.9512\"/><text fill=\"#000000\" font-family=\"monospace\" font-size=\"12\" lengthAdjust=\"spacingAndGlyphs\" textLength=\"102\" x=\"5\" y=\"113.0893\">Bob-&gt;Alice: Hello</text><text fill=\"#000000\" font-family=\"sans-serif\" font-size=\"12\" lengthAdjust=\"spacingAndGlyphs\" textLength=\"0\" x=\"9\" y=\"126.508\"/><text fill=\"#000000\" font-family=\"sans-serif\" font-size=\"12\" lengthAdjust=\"spacingAndGlyphs\" textLength=\"14\" x=\"5\" y=\"140.4768\">Or</text><text fill=\"#000000\" font-family=\"sans-serif\" font-size=\"12\" lengthAdjust=\"spacingAndGlyphs\" textLength=\"0\" x=\"9\" y=\"154.4455\"/><text fill=\"#000000\" font-family=\"monospace\" font-size=\"12\" lengthAdjust=\"spacingAndGlyphs\" textLength=\"78\" x=\"5\" y=\"167.5837\">class Example</text><text fill=\"#000000\" font-family=\"sans-serif\" font-size=\"12\" lengthAdjust=\"spacingAndGlyphs\" textLength=\"0\" x=\"9\" y=\"181.0023\"/><text fill=\"#000000\" font-family=\"sans-serif\" font-size=\"12\" lengthAdjust=\"spacingAndGlyphs\" textLength=\"349\" x=\"5\" y=\"194.9711\">You will find more information about PlantUML syntax on</text><text fill=\"#000000\" font-family=\"sans-serif\" font-size=\"12\" lengthAdjust=\"spacingAndGlyphs\" text-decoration=\"underline\" textLength=\"129\" x=\"358\" y=\"194.9711\">https://plantuml.com</text><image height=\"71\" width=\"80\" x=\"516\" xlink:href=\"data:image/png;base64,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\" y=\"6\"/><rect fill=\"#000000\" height=\"96.4844\" style=\"stroke: #000000; stroke-width: 1.0;\" width=\"602\" x=\"0\" y=\"202.8012\"/><rect fill=\"#33FF02\" height=\"21.2969\" style=\"stroke: #33FF02; stroke-width: 1.0;\" width=\"145\" x=\"5\" y=\"207.8012\"/><text fill=\"#000000\" font-family=\"sans-serif\" font-size=\"14\" font-weight=\"bold\" lengthAdjust=\"spacingAndGlyphs\" textLength=\"143\" x=\"6\" y=\"222.8012\">[From string (line 2) ]</text><text fill=\"#33FF02\" font-family=\"sans-serif\" font-size=\"14\" font-weight=\"bold\" lengthAdjust=\"spacingAndGlyphs\" textLength=\"0\" x=\"9\" y=\"243.0981\"/><text fill=\"#33FF02\" font-family=\"sans-serif\" font-size=\"14\" font-weight=\"bold\" lengthAdjust=\"spacingAndGlyphs\" textLength=\"70\" x=\"5\" y=\"259.3949\">@startuml</text><text fill=\"#33FF02\" font-family=\"sans-serif\" font-size=\"14\" font-weight=\"bold\" lengthAdjust=\"spacingAndGlyphs\" textLength=\"0\" x=\"9\" y=\"275.6918\"/><text fill=\"#FF0000\" font-family=\"sans-serif\" font-size=\"14\" font-weight=\"bold\" lengthAdjust=\"spacingAndGlyphs\" textLength=\"124\" x=\"9\" y=\"291.9887\">Empty description</text><!--MD5=[f59edd8218d337f74d0c332fc6737304]\n",
       "@startuml\r\n",
       " \r\n",
       "@enduml\r\n",
       "\n",
       "PlantUML version 1.2020.13(Sat Jun 13 12:26:38 UTC 2020)\n",
       "(EPL source distribution)\n",
       "Java Runtime: OpenJDK Runtime Environment\n",
       "JVM: OpenJDK 64-Bit Server VM\n",
       "Default Encoding: UTF-8\n",
       "Language: en\n",
       "Country: null\n",
       "--></g></svg>"
      ]
     },
     "execution_count": 32,
     "metadata": {},
     "output_type": "execute_result"
    }
   ],
   "source": [
    "%viz --style=\"PLANTUML\" --view=\"State\" \"VariabilityTest\""
   ]
  },
  {
   "cell_type": "code",
   "execution_count": 33,
   "id": "44ff5451",
   "metadata": {
    "execution": {
     "iopub.execute_input": "2021-10-25T08:21:44.084118Z",
     "iopub.status.busy": "2021-10-25T08:21:44.083674Z",
     "iopub.status.idle": "2021-10-25T08:21:44.159351Z",
     "shell.execute_reply": "2021-10-25T08:21:44.157413Z"
    }
   },
   "outputs": [
    {
     "data": {
      "image/svg+xml": [
       "<?xml version=\"1.0\" encoding=\"UTF-8\" standalone=\"no\"?><svg xmlns=\"http://www.w3.org/2000/svg\" xmlns:xlink=\"http://www.w3.org/1999/xlink\" contentScriptType=\"application/ecmascript\" contentStyleType=\"text/css\" height=\"403px\" preserveAspectRatio=\"none\" style=\"width:917px;height:403px;\" version=\"1.1\" viewBox=\"0 0 917 403\" width=\"917px\" zoomAndPan=\"magnify\"><defs><filter height=\"300%\" id=\"f14pmhjww41k0x\" width=\"300%\" x=\"-1\" y=\"-1\"><feGaussianBlur result=\"blurOut\" stdDeviation=\"2.0\"/><feColorMatrix in=\"blurOut\" result=\"blurOut2\" type=\"matrix\" values=\"0 0 0 0 0 0 0 0 0 0 0 0 0 0 0 0 0 0 .4 0\"/><feOffset dx=\"4.0\" dy=\"4.0\" in=\"blurOut2\" result=\"blurOut3\"/><feBlend in=\"SourceGraphic\" in2=\"blurOut3\" mode=\"normal\"/></filter></defs><g><!--MD5=[fbc87193dbaf4d95561dea2c320d4a47]\n",
       "cluster E1--><a href=\"psysml:54c28c65-c036-409b-a9ca-8f60ef8eadfb\" target=\"_top\" title=\"psysml:54c28c65-c036-409b-a9ca-8f60ef8eadfb\" xlink:actuate=\"onRequest\" xlink:href=\"psysml:54c28c65-c036-409b-a9ca-8f60ef8eadfb\" xlink:show=\"new\" xlink:title=\"psysml:54c28c65-c036-409b-a9ca-8f60ef8eadfb\" xlink:type=\"simple\"><polygon fill=\"#FFFFFF\" filter=\"url(#f14pmhjww41k0x)\" points=\"16,6,116,6,123,28.2969,895,28.2969,895,391,16,391,16,6\" style=\"stroke: #000000; stroke-width: 1.5;\"/><line style=\"stroke: #000000; stroke-width: 1.5;\" x1=\"16\" x2=\"123\" y1=\"28.2969\" y2=\"28.2969\"/><text fill=\"#000000\" font-family=\"sans-serif\" font-size=\"14\" font-weight=\"bold\" lengthAdjust=\"spacingAndGlyphs\" textLength=\"94\" x=\"20\" y=\"20.9951\">VariabilityTest</text></a><!--MD5=[e4f7fae6ed58524ba242bb0b0d3be6b7]\n",
       "cluster E2--><a href=\"psysml:82cb16a2-9eb2-4cce-bbbe-e1592c7acc8b\" target=\"_top\" title=\"psysml:82cb16a2-9eb2-4cce-bbbe-e1592c7acc8b\" xlink:actuate=\"onRequest\" xlink:href=\"psysml:82cb16a2-9eb2-4cce-bbbe-e1592c7acc8b\" xlink:show=\"new\" xlink:title=\"psysml:82cb16a2-9eb2-4cce-bbbe-e1592c7acc8b\" xlink:type=\"simple\"><rect fill=\"#FFFFFF\" filter=\"url(#f14pmhjww41k0x)\" height=\"113\" id=\"E2\" style=\"stroke: #A80036; stroke-width: 1.5;\" width=\"164\" x=\"492\" y=\"246\"/><rect fill=\"#FEFECE\" height=\"23.9688\" style=\"stroke: #A80036; stroke-width: 1.5;\" width=\"164\" x=\"492\" y=\"246\"/><text fill=\"#000000\" font-family=\"sans-serif\" font-size=\"12\" lengthAdjust=\"spacingAndGlyphs\" textLength=\"8\" x=\"570\" y=\"262.1387\">P</text></a><!--MD5=[14e3b0961a2654348d326746436168a1]\n",
       "cluster E6--><a href=\"psysml:e8a966fa-6247-410c-94c4-6750afcc6da8\" target=\"_top\" title=\"psysml:e8a966fa-6247-410c-94c4-6750afcc6da8\" xlink:actuate=\"onRequest\" xlink:href=\"psysml:e8a966fa-6247-410c-94c4-6750afcc6da8\" xlink:show=\"new\" xlink:title=\"psysml:e8a966fa-6247-410c-94c4-6750afcc6da8\" xlink:type=\"simple\"><rect fill=\"#FFFFFF\" filter=\"url(#f14pmhjww41k0x)\" height=\"149\" id=\"E6\" style=\"stroke: #A80036; stroke-width: 1.5;\" width=\"131\" x=\"732\" y=\"57\"/><rect fill=\"#FEFECE\" height=\"23.9688\" style=\"stroke: #A80036; stroke-width: 1.5;\" width=\"131\" x=\"732\" y=\"57\"/><text fill=\"#000000\" font-family=\"sans-serif\" font-size=\"12\" font-style=\"italic\" lengthAdjust=\"spacingAndGlyphs\" textLength=\"8\" x=\"793.5\" y=\"73.1387\">V</text></a><!--MD5=[7f149f147074ac12df2cb0a7728a5fb0]\n",
       "cluster E9--><a href=\"psysml:3367482b-ff59-4bbe-a9dc-fe1b4a2ad697\" target=\"_top\" title=\"psysml:3367482b-ff59-4bbe-a9dc-fe1b4a2ad697\" xlink:actuate=\"onRequest\" xlink:href=\"psysml:3367482b-ff59-4bbe-a9dc-fe1b4a2ad697\" xlink:show=\"new\" xlink:title=\"psysml:3367482b-ff59-4bbe-a9dc-fe1b4a2ad697\" xlink:type=\"simple\"><rect fill=\"#FFFFFF\" filter=\"url(#f14pmhjww41k0x)\" height=\"139\" id=\"E9\" rx=\"10\" ry=\"10\" style=\"stroke: #A80036; stroke-width: 1.5;\" width=\"198\" x=\"502\" y=\"62\"/><rect fill=\"#FEFECE\" height=\"23.9688\" rx=\"10\" ry=\"10\" style=\"stroke: #FEFECE; stroke-width: 1.5;\" width=\"198\" x=\"502\" y=\"62\"/><rect fill=\"#FEFECE\" height=\"10\" style=\"stroke: #FEFECE; stroke-width: 1.5;\" width=\"198\" x=\"502\" y=\"75.9688\"/><rect fill=\"none\" height=\"139\" id=\"E9\" rx=\"10\" ry=\"10\" style=\"stroke: #A80036; stroke-width: 1.5;\" width=\"198\" x=\"502\" y=\"62\"/><text fill=\"#000000\" font-family=\"sans-serif\" font-size=\"12\" lengthAdjust=\"spacingAndGlyphs\" textLength=\"22\" x=\"590\" y=\"78.1387\">v: P</text><line style=\"stroke: #A80036; stroke-width: 1.0;\" x1=\"502\" x2=\"700\" y1=\"85.9688\" y2=\"85.9688\"/></a><g id=\"E1.E5\"><a href=\"psysml:45188152-89ae-47db-8fae-185a328aceea\" target=\"_top\" title=\"psysml:45188152-89ae-47db-8fae-185a328aceea\" xlink:actuate=\"onRequest\" xlink:href=\"psysml:45188152-89ae-47db-8fae-185a328aceea\" xlink:show=\"new\" xlink:title=\"psysml:45188152-89ae-47db-8fae-185a328aceea\" xlink:type=\"simple\"><rect fill=\"#FEFECE\" filter=\"url(#f14pmhjww41k0x)\" height=\"42.9375\" id=\"E5\" style=\"stroke: #A80036; stroke-width: 1.5;\" width=\"130\" x=\"353\" y=\"119.5\"/><ellipse cx=\"370.25\" cy=\"138.4688\" fill=\"#A52A2A\" rx=\"11\" ry=\"11\" style=\"stroke: #A80036; stroke-width: 1.0;\"/><path d=\"M367.4688,143.4688 L367.4688,132.875 L370.2031,132.875 Q371.5938,132.875 372.3594,133.2656 Q373.1406,133.6406 373.6719,134.3438 Q374.2031,135.0469 374.5,136.0469 Q374.7969,137.0313 374.7969,138.25 Q374.75,139.8438 374.25,141.0313 Q373.7656,142.2031 372.7188,142.8438 Q371.6875,143.4688 370,143.4688 L367.4688,143.4688 Z M369.3281,141.9688 L369.9531,141.9688 Q371.0313,141.9688 371.6875,141.5156 Q372.3438,141.0625 372.625,140.2344 Q372.9219,139.3906 372.9063,138.2656 Q372.9063,137.0938 372.6563,136.2344 Q372.4063,135.3594 371.7969,134.8906 Q371.1875,134.4063 370.1406,134.4063 L369.3281,134.4063 L369.3281,141.9688 Z \"/><text fill=\"#000000\" font-family=\"sans-serif\" font-size=\"12\" font-style=\"italic\" lengthAdjust=\"spacingAndGlyphs\" textLength=\"97\" x=\"382.75\" y=\"135.6387\">«attribute  def»</text><text fill=\"#000000\" font-family=\"sans-serif\" font-size=\"12\" lengthAdjust=\"spacingAndGlyphs\" textLength=\"8\" x=\"427.25\" y=\"149.6074\">B</text></a></g><!--MD5=[09b614a08d8cba4a07c9adeb5e0fee81]\n",
       "class E3--><a href=\"psysml:b3756095-16bb-4cb1-b9cb-a9f1f269c560\" target=\"_top\" title=\"psysml:b3756095-16bb-4cb1-b9cb-a9f1f269c560\" xlink:actuate=\"onRequest\" xlink:href=\"psysml:b3756095-16bb-4cb1-b9cb-a9f1f269c560\" xlink:show=\"new\" xlink:title=\"psysml:b3756095-16bb-4cb1-b9cb-a9f1f269c560\" xlink:type=\"simple\"><rect fill=\"#FEFECE\" filter=\"url(#f14pmhjww41k0x)\" height=\"45.9375\" id=\"E3\" rx=\"10\" ry=\"10\" style=\"stroke: #A80036; stroke-width: 1.5;\" width=\"97\" x=\"535.5\" y=\"289\"/><ellipse cx=\"550.5\" cy=\"307.9688\" fill=\"#FFA500\" rx=\"11\" ry=\"11\" style=\"stroke: #A80036; stroke-width: 1.0;\"/><path d=\"M550.25,313.4375 Q548.5,313.4375 547.5469,312.4063 Q546.6094,311.3594 546.6094,309.5156 L546.6094,302.625 L548.6719,302.625 L548.6719,302.7813 Q548.5781,302.875 548.5469,303.0156 Q548.5313,303.1406 548.5313,303.4063 L548.5313,309.5313 Q548.5313,310.625 548.9063,311.25 Q549.2813,311.875 550.2656,311.875 Q551.25,311.875 551.6406,311.25 Q552.0313,310.625 552.0313,309.4844 L552.0313,302.625 L553.9063,302.625 L553.9063,309.4688 Q553.9063,311.5 552.875,312.4688 Q551.8594,313.4375 550.25,313.4375 Z \"/><text fill=\"#000000\" font-family=\"sans-serif\" font-size=\"12\" font-style=\"italic\" lengthAdjust=\"spacingAndGlyphs\" textLength=\"69\" x=\"562.5\" y=\"305.1387\">«attribute»</text><text fill=\"#000000\" font-family=\"sans-serif\" font-size=\"12\" lengthAdjust=\"spacingAndGlyphs\" textLength=\"8\" x=\"593\" y=\"319.1074\">a</text><line style=\"stroke: #A80036; stroke-width: 1.5;\" x1=\"536.5\" x2=\"631.5\" y1=\"326.9375\" y2=\"326.9375\"/></a><g id=\"E1.E4\"><a href=\"psysml:2ef5dada-a649-4c80-bc3f-904ca5914f5d\" target=\"_top\" title=\"psysml:2ef5dada-a649-4c80-bc3f-904ca5914f5d\" xlink:actuate=\"onRequest\" xlink:href=\"psysml:2ef5dada-a649-4c80-bc3f-904ca5914f5d\" xlink:show=\"new\" xlink:title=\"psysml:2ef5dada-a649-4c80-bc3f-904ca5914f5d\" xlink:type=\"simple\"><rect fill=\"#FEFECE\" filter=\"url(#f14pmhjww41k0x)\" height=\"40\" id=\"E4\" style=\"stroke: #A80036; stroke-width: 1.5;\" width=\"50\" x=\"268\" y=\"121\"/><ellipse cx=\"287.05\" cy=\"137\" fill=\"#008000\" rx=\"11\" ry=\"11\" style=\"stroke: #A80036; stroke-width: 1.0;\"/><path d=\"M283.925,142 L283.925,131.4063 L287.1594,131.4063 Q289.0656,131.4063 289.9719,132.1563 Q290.8938,132.9063 290.8938,134.0781 Q290.8938,134.7656 290.5031,135.4219 Q290.1281,136.0781 289.4094,136.375 Q290.2688,136.75 290.7844,137.4375 Q291.3,138.125 291.3,138.9375 Q291.3,140.3125 290.2688,141.1563 Q289.2531,142 287.1438,142 L283.925,142 Z M285.8469,135.6406 L287.0031,135.6406 Q288.1281,135.6406 288.5344,135.2656 Q288.9563,134.875 288.9563,134.25 Q288.9563,133.6719 288.5344,133.3125 Q288.1125,132.9531 287.175,132.9531 L285.8469,132.9531 L285.8469,135.6406 Z M285.8469,140.4219 L287.3469,140.4219 Q288.2531,140.4219 288.7844,140.0313 Q289.3156,139.6406 289.3156,138.8906 Q289.3156,138.125 288.8156,137.6563 Q288.3156,137.1719 287.05,137.1719 L285.8469,137.1719 L285.8469,140.4219 Z \"/><text fill=\"#000000\" font-family=\"sans-serif\" font-size=\"12\" lengthAdjust=\"spacingAndGlyphs\" textLength=\"9\" x=\"301.95\" y=\"141.1543\">Q</text></a></g><!--MD5=[2156ba9850f5573cc1fc38a6a4b2f02b]\n",
       "class E7--><a href=\"psysml:10060237-19c5-40dc-a73e-8cb7e4953e81\" target=\"_top\" title=\"psysml:10060237-19c5-40dc-a73e-8cb7e4953e81\" xlink:actuate=\"onRequest\" xlink:href=\"psysml:10060237-19c5-40dc-a73e-8cb7e4953e81\" xlink:show=\"new\" xlink:title=\"psysml:10060237-19c5-40dc-a73e-8cb7e4953e81\" xlink:type=\"simple\"><rect fill=\"#FEFECE\" filter=\"url(#f14pmhjww41k0x)\" height=\"82.4141\" id=\"E7\" rx=\"10\" ry=\"10\" style=\"stroke: #A80036; stroke-width: 1.5;\" width=\"63\" x=\"775.5\" y=\"100\"/><ellipse cx=\"792.3\" cy=\"116\" fill=\"#B6DBBB\" rx=\"11\" ry=\"11\" style=\"stroke: #A80036; stroke-width: 1.0;\"/><path d=\"M792.05,121.4688 Q790.3,121.4688 789.3469,120.4375 Q788.4094,119.3906 788.4094,117.5469 L788.4094,110.6563 L790.4719,110.6563 L790.4719,110.8125 Q790.3781,110.9063 790.3469,111.0469 Q790.3313,111.1719 790.3313,111.4375 L790.3313,117.5625 Q790.3313,118.6563 790.7063,119.2813 Q791.0813,119.9063 792.0656,119.9063 Q793.05,119.9063 793.4406,119.2813 Q793.8313,118.6563 793.8313,117.5156 L793.8313,110.6563 L795.7063,110.6563 L795.7063,117.5 Q795.7063,119.5313 794.675,120.5 Q793.6594,121.4688 792.05,121.4688 Z \"/><text fill=\"#000000\" font-family=\"sans-serif\" font-size=\"12\" lengthAdjust=\"spacingAndGlyphs\" textLength=\"23\" x=\"806.7\" y=\"120.1543\">x: Q</text><line style=\"stroke: #A80036; stroke-width: 1.5;\" x1=\"776.5\" x2=\"837.5\" y1=\"132\" y2=\"132\"/><text fill=\"#000000\" font-family=\"sans-serif\" font-size=\"11\" lengthAdjust=\"spacingAndGlyphs\" textLength=\"23\" x=\"781.5\" y=\"163.0151\">b: B</text><text fill=\"#000000\" font-family=\"sans-serif\" font-size=\"11\" font-style=\"italic\" lengthAdjust=\"spacingAndGlyphs\" textLength=\"44\" x=\"781.5\" y=\"175.8198\">:&gt;&gt;P::a</text><line style=\"stroke: #A80036; stroke-width: 1.0;\" x1=\"776.5\" x2=\"779.5\" y1=\"146.4023\" y2=\"146.4023\"/><text fill=\"#000000\" font-family=\"sans-serif\" font-size=\"11\" lengthAdjust=\"spacingAndGlyphs\" textLength=\"55\" x=\"779.5\" y=\"149.7104\">attributes</text><line style=\"stroke: #A80036; stroke-width: 1.0;\" x1=\"834.5\" x2=\"837.5\" y1=\"146.4023\" y2=\"146.4023\"/></a><g id=\"E1.E8\"><a href=\"psysml:070ce293-3e12-454f-ad5b-be257c39d672\" target=\"_top\" title=\"psysml:070ce293-3e12-454f-ad5b-be257c39d672\" xlink:actuate=\"onRequest\" xlink:href=\"psysml:070ce293-3e12-454f-ad5b-be257c39d672\" xlink:show=\"new\" xlink:title=\"psysml:070ce293-3e12-454f-ad5b-be257c39d672\" xlink:type=\"simple\"><rect fill=\"#FEFECE\" filter=\"url(#f14pmhjww41k0x)\" height=\"40\" id=\"E8\" rx=\"10\" ry=\"10\" style=\"stroke: #A80036; stroke-width: 1.5;\" width=\"62\" x=\"171\" y=\"121\"/><ellipse cx=\"188.25\" cy=\"137\" fill=\"#B6DBBB\" rx=\"11\" ry=\"11\" style=\"stroke: #A80036; stroke-width: 1.0;\"/><path d=\"M188,142.4688 Q186.25,142.4688 185.2969,141.4375 Q184.3594,140.3906 184.3594,138.5469 L184.3594,131.6563 L186.4219,131.6563 L186.4219,131.8125 Q186.3281,131.9063 186.2969,132.0469 Q186.2813,132.1719 186.2813,132.4375 L186.2813,138.5625 Q186.2813,139.6563 186.6563,140.2813 Q187.0313,140.9063 188.0156,140.9063 Q189,140.9063 189.3906,140.2813 Q189.7813,139.6563 189.7813,138.5156 L189.7813,131.6563 L191.6563,131.6563 L191.6563,138.5 Q191.6563,140.5313 190.625,141.5 Q189.6094,142.4688 188,142.4688 Z \"/><text fill=\"#000000\" font-family=\"sans-serif\" font-size=\"12\" lengthAdjust=\"spacingAndGlyphs\" textLength=\"25\" x=\"202.75\" y=\"141.1543\">q: Q</text></a></g><!--MD5=[96f4274e9e20536e775497830990834d]\n",
       "class E10--><a href=\"psysml:80fa5ea3-437e-4eec-9e3d-5d2e24e12c28\" target=\"_top\" title=\"psysml:80fa5ea3-437e-4eec-9e3d-5d2e24e12c28\" xlink:actuate=\"onRequest\" xlink:href=\"psysml:80fa5ea3-437e-4eec-9e3d-5d2e24e12c28\" xlink:show=\"new\" xlink:title=\"psysml:80fa5ea3-437e-4eec-9e3d-5d2e24e12c28\" xlink:type=\"simple\"><rect fill=\"#FEFECE\" filter=\"url(#f14pmhjww41k0x)\" height=\"88.3516\" id=\"E10\" rx=\"10\" ry=\"10\" style=\"stroke: #A80036; stroke-width: 1.5;\" width=\"165\" x=\"518.5\" y=\"97\"/><ellipse cx=\"533.5\" cy=\"115.9688\" fill=\"#FFA500\" rx=\"11\" ry=\"11\" style=\"stroke: #A80036; stroke-width: 1.0;\"/><path d=\"M533.25,121.4375 Q531.5,121.4375 530.5469,120.4063 Q529.6094,119.3594 529.6094,117.5156 L529.6094,110.625 L531.6719,110.625 L531.6719,110.7813 Q531.5781,110.875 531.5469,111.0156 Q531.5313,111.1406 531.5313,111.4063 L531.5313,117.5313 Q531.5313,118.625 531.9063,119.25 Q532.2813,119.875 533.2656,119.875 Q534.25,119.875 534.6406,119.25 Q535.0313,118.625 535.0313,117.4844 L535.0313,110.625 L536.9063,110.625 L536.9063,117.4688 Q536.9063,119.5 535.875,120.4688 Q534.8594,121.4375 533.25,121.4375 Z \"/><text fill=\"#000000\" font-family=\"sans-serif\" font-size=\"12\" font-style=\"italic\" lengthAdjust=\"spacingAndGlyphs\" textLength=\"75\" x=\"576.5\" y=\"113.1387\">«reference»</text><text fill=\"#000000\" font-family=\"sans-serif\" font-size=\"12\" lengthAdjust=\"spacingAndGlyphs\" textLength=\"133\" x=\"547.5\" y=\"127.1074\">q :&gt; VariabilityTest::q</text><line style=\"stroke: #A80036; stroke-width: 1.5;\" x1=\"519.5\" x2=\"682.5\" y1=\"134.9375\" y2=\"134.9375\"/><text fill=\"#000000\" font-family=\"sans-serif\" font-size=\"11\" lengthAdjust=\"spacingAndGlyphs\" textLength=\"23\" x=\"524.5\" y=\"165.9526\">b: B</text><text fill=\"#000000\" font-family=\"sans-serif\" font-size=\"11\" font-style=\"italic\" lengthAdjust=\"spacingAndGlyphs\" textLength=\"44\" x=\"524.5\" y=\"178.7573\">:&gt;&gt;P::a</text><line style=\"stroke: #A80036; stroke-width: 1.0;\" x1=\"519.5\" x2=\"573.5\" y1=\"149.3398\" y2=\"149.3398\"/><text fill=\"#000000\" font-family=\"sans-serif\" font-size=\"11\" lengthAdjust=\"spacingAndGlyphs\" textLength=\"55\" x=\"573.5\" y=\"152.6479\">attributes</text><line style=\"stroke: #A80036; stroke-width: 1.0;\" x1=\"628.5\" x2=\"682.5\" y1=\"149.3398\" y2=\"149.3398\"/></a><g id=\"E1.E11\"><a href=\"psysml:48eaa747-84b8-4879-8d6b-33c104c23f89\" target=\"_top\" title=\"psysml:48eaa747-84b8-4879-8d6b-33c104c23f89\" xlink:actuate=\"onRequest\" xlink:href=\"psysml:48eaa747-84b8-4879-8d6b-33c104c23f89\" xlink:show=\"new\" xlink:title=\"psysml:48eaa747-84b8-4879-8d6b-33c104c23f89\" xlink:type=\"simple\"><rect fill=\"#FEFECE\" filter=\"url(#f14pmhjww41k0x)\" height=\"40\" id=\"E11\" rx=\"10\" ry=\"10\" style=\"stroke: #A80036; stroke-width: 1.5;\" width=\"103\" x=\"32.5\" y=\"121\"/><ellipse cx=\"49.75\" cy=\"137\" fill=\"#B6DBBB\" rx=\"11\" ry=\"11\" style=\"stroke: #A80036; stroke-width: 1.0;\"/><path d=\"M49.5,142.4688 Q47.75,142.4688 46.7969,141.4375 Q45.8594,140.3906 45.8594,138.5469 L45.8594,131.6563 L47.9219,131.6563 L47.9219,131.8125 Q47.8281,131.9063 47.7969,132.0469 Q47.7813,132.1719 47.7813,132.4375 L47.7813,138.5625 Q47.7813,139.6563 48.1563,140.2813 Q48.5313,140.9063 49.5156,140.9063 Q50.5,140.9063 50.8906,140.2813 Q51.2813,139.6563 51.2813,138.5156 L51.2813,131.6563 L53.1563,131.6563 L53.1563,138.5 Q53.1563,140.5313 52.125,141.5 Q51.1094,142.4688 49.5,142.4688 Z \"/><text fill=\"#000000\" font-family=\"sans-serif\" font-size=\"12\" lengthAdjust=\"spacingAndGlyphs\" textLength=\"62\" x=\"64.25\" y=\"141.1543\">y: P= v::q;</text></a></g><!--MD5=[185131fc0dcab0a4505a2ebe144e961b]\n",
       "link E4 to E2--><a href=\"psysml:8fca0815-a461-4953-83e8-63ed8c86de29\" target=\"_top\" title=\"psysml:8fca0815-a461-4953-83e8-63ed8c86de29\" xlink:actuate=\"onRequest\" xlink:href=\"psysml:8fca0815-a461-4953-83e8-63ed8c86de29\" xlink:show=\"new\" xlink:title=\"psysml:8fca0815-a461-4953-83e8-63ed8c86de29\" xlink:type=\"simple\"><path d=\"M299.61,161.11 C306.47,178.68 318.64,204.57 336,222 C364.805,250.92 404.985,272.9325 438.3638,287.8313 C455.0531,295.2806 470.0422,300.9516 481.0589,304.8183 C483.8131,305.785 486.319,306.6389 488.5411,307.3796 C489.6522,307.75 490.6923,308.0921 491.6571,308.4058 \" fill=\"none\" id=\"E4-&gt;E2\" style=\"stroke: #A80036; stroke-width: 1.0;\"/><polygon fill=\"#FFFFFF\" points=\"491.6571,308.4058,475.7534,295.873,471.4237,309.1867,491.6571,308.4058\" style=\"stroke: #A80036; stroke-width: 1.0;\"/></a><!--MD5=[2351f337d6de0f557b50152ba70847b5]\n",
       "link E6 to E2--><a href=\"psysml:80d735d5-abd9-4df4-b941-a11b60e81c18\" target=\"_top\" title=\"psysml:80d735d5-abd9-4df4-b941-a11b60e81c18\" xlink:actuate=\"onRequest\" xlink:href=\"psysml:80d735d5-abd9-4df4-b941-a11b60e81c18\" xlink:show=\"new\" xlink:title=\"psysml:80d735d5-abd9-4df4-b941-a11b60e81c18\" xlink:type=\"simple\"><path d=\"M731.945,175.5113 C726.04,192.4175 716.15,211.515 700,222 C683.21,232.9 535.48,217.31 520,230 C516.5275,232.8463 513.6027,236.1909 511.1438,239.8716 C509.9143,241.7119 508.8014,243.6363 507.7947,245.6243 C507.7318,245.7485 507.6693,245.873 507.6072,245.9978 \" fill=\"none\" id=\"E6-&gt;E2\" style=\"stroke: #A80036; stroke-width: 1.0;\"/><polygon fill=\"#FFFFFF\" points=\"507.6072,245.9978,522.3401,232.1074,509.8068,225.8691,507.6072,245.9978\" style=\"stroke: #A80036; stroke-width: 1.0;\"/></a><!--MD5=[4a8ba39ec68d6767237e7cfd88832123]\n",
       "@startuml\r\n",
       "skinparam ranksep 10\r\n",
       "skinparam rectangle {\r\n",
       " backgroundColor<<block>> LightGreen\r\n",
       "}\r\n",
       " \r\n",
       "package \"VariabilityTest\" as E1  [[psysml:54c28c65-c036-409b-a9ca-8f60ef8eadfb ]]  {\r\n",
       "rec def \"P\" as E2 << << (B,green) >> [[psysml:82cb16a2-9eb2-4cce-bbbe-e1592c7acc8b ]] {\r\n",
       "comp usage \"a\" as E3 << <<(U,orange) attribute>> [[psysml:b3756095-16bb-4cb1-b9cb-a9f1f269c560 ]] {\r\n",
       "}\r\n",
       "}\r\n",
       "rec def \"Q\" as E4 << << (B,green) >> [[psysml:2ef5dada-a649-4c80-bc3f-904ca5914f5d ]] {\r\n",
       "}\r\n",
       "def \"B\" as E5 << <<(D,brown) attribute  def>> [[psysml:45188152-89ae-47db-8fae-185a328aceea ]] \r\n",
       "rec def \"<i>V</i>\" as E6 << << (B,green) >> [[psysml:e8a966fa-6247-410c-94c4-6750afcc6da8 ]] {\r\n",
       "comp usage \"x: Q \" as E7  [[psysml:10060237-19c5-40dc-a73e-8cb7e4953e81 ]] {\r\n",
       "- - attributes - -\r\n",
       "b: B\\n//:>>P::a// \r\n",
       "}\r\n",
       "}\r\n",
       "rec usage \"q: Q\" as E8  [[psysml:070ce293-3e12-454f-ad5b-be257c39d672 ]] {\r\n",
       "}\r\n",
       "rec usage \"v: P\" as E9  [[psysml:3367482b-ff59-4bbe-a9dc-fe1b4a2ad697 ]] {\r\n",
       "comp usage \"q :> VariabilityTest::q\" as E10 << <<(U,orange) reference>> [[psysml:80fa5ea3-437e-4eec-9e3d-5d2e24e12c28 ]] {\r\n",
       "- - attributes - -\r\n",
       "b: B\\n//:>>P::a// \r\n",
       "}\r\n",
       "}\r\n",
       "rec usage \"y: P= v::q; \" as E11  [[psysml:48eaa747-84b8-4879-8d6b-33c104c23f89 ]] {\r\n",
       "}\r\n",
       "}\r\n",
       "E4 - -|> E2 [[psysml:8fca0815-a461-4953-83e8-63ed8c86de29 ]] \r\n",
       "E6 - -|> E2 [[psysml:80d735d5-abd9-4df4-b941-a11b60e81c18 ]] \r\n",
       "@enduml\r\n",
       "\n",
       "PlantUML version 1.2020.13(Sat Jun 13 12:26:38 UTC 2020)\n",
       "(EPL source distribution)\n",
       "Java Runtime: OpenJDK Runtime Environment\n",
       "JVM: OpenJDK 64-Bit Server VM\n",
       "Default Encoding: UTF-8\n",
       "Language: en\n",
       "Country: null\n",
       "--></g></svg>"
      ]
     },
     "execution_count": 33,
     "metadata": {},
     "output_type": "execute_result"
    }
   ],
   "source": [
    "%viz --style=\"PLANTUML\" --view=\"Interconnection\" \"VariabilityTest\""
   ]
  },
  {
   "cell_type": "code",
   "execution_count": 34,
   "id": "76674011",
   "metadata": {
    "execution": {
     "iopub.execute_input": "2021-10-25T08:21:44.208224Z",
     "iopub.status.busy": "2021-10-25T08:21:44.207813Z",
     "iopub.status.idle": "2021-10-25T08:21:44.212519Z",
     "shell.execute_reply": "2021-10-25T08:21:44.212138Z"
    }
   },
   "outputs": [
    {
     "data": {
      "image/svg+xml": [
       "<?xml version=\"1.0\" encoding=\"UTF-8\" standalone=\"no\"?><svg xmlns=\"http://www.w3.org/2000/svg\" xmlns:xlink=\"http://www.w3.org/1999/xlink\" contentScriptType=\"application/ecmascript\" contentStyleType=\"text/css\" height=\"12px\" preserveAspectRatio=\"none\" style=\"width:12px;height:12px;\" version=\"1.1\" viewBox=\"0 0 12 12\" width=\"12px\" zoomAndPan=\"magnify\"><defs/><g><!--MD5=[6a4cb978cab31700e1ce5529f947a75d]\n",
       "@startuml\r\n",
       "skinparam ranksep 8\r\n",
       " \r\n",
       "@enduml\r\n",
       "\n",
       "PlantUML version 1.2020.13(Sat Jun 13 12:26:38 UTC 2020)\n",
       "(EPL source distribution)\n",
       "Java Runtime: OpenJDK Runtime Environment\n",
       "JVM: OpenJDK 64-Bit Server VM\n",
       "Default Encoding: UTF-8\n",
       "Language: en\n",
       "Country: null\n",
       "--></g></svg>"
      ]
     },
     "execution_count": 34,
     "metadata": {},
     "output_type": "execute_result"
    }
   ],
   "source": [
    "%viz --style=\"PLANTUML\" --view=\"Action\" \"VariabilityTest\""
   ]
  },
  {
   "cell_type": "code",
   "execution_count": 35,
   "id": "17d1a7f6",
   "metadata": {
    "execution": {
     "iopub.execute_input": "2021-10-25T08:21:44.262049Z",
     "iopub.status.busy": "2021-10-25T08:21:44.261635Z",
     "iopub.status.idle": "2021-10-25T08:21:44.266578Z",
     "shell.execute_reply": "2021-10-25T08:21:44.266220Z"
    }
   },
   "outputs": [
    {
     "data": {
      "image/svg+xml": [
       "<?xml version=\"1.0\" encoding=\"UTF-8\" standalone=\"no\"?><svg xmlns=\"http://www.w3.org/2000/svg\" xmlns:xlink=\"http://www.w3.org/1999/xlink\" contentScriptType=\"application/ecmascript\" contentStyleType=\"text/css\" height=\"12px\" preserveAspectRatio=\"none\" style=\"width:12px;height:12px;\" version=\"1.1\" viewBox=\"0 0 12 12\" width=\"12px\" zoomAndPan=\"magnify\"><defs/><g><!--MD5=[ca4faa0b02def275ea33c14ea7a1a98d]\n",
       "@startuml\r\n",
       "skinparam roundcorner 20\r\n",
       "skinparam BoxPadding 20\r\n",
       "skinparam SequenceBoxBackgroundColor #white\r\n",
       "skinparam style strictuml\r\n",
       "skinparam maxMessageSize 100\r\n",
       " \r\n",
       "@enduml\r\n",
       "\n",
       "PlantUML version 1.2020.13(Sat Jun 13 12:26:38 UTC 2020)\n",
       "(EPL source distribution)\n",
       "Java Runtime: OpenJDK Runtime Environment\n",
       "JVM: OpenJDK 64-Bit Server VM\n",
       "Default Encoding: UTF-8\n",
       "Language: en\n",
       "Country: null\n",
       "--></g></svg>"
      ]
     },
     "execution_count": 35,
     "metadata": {},
     "output_type": "execute_result"
    }
   ],
   "source": [
    "%viz --style=\"PLANTUML\" --view=\"Sequence\" \"VariabilityTest\""
   ]
  },
  {
   "cell_type": "code",
   "execution_count": 36,
   "id": "88ec6338",
   "metadata": {
    "execution": {
     "iopub.execute_input": "2021-10-25T08:21:44.316059Z",
     "iopub.status.busy": "2021-10-25T08:21:44.315610Z",
     "iopub.status.idle": "2021-10-25T08:21:44.397689Z",
     "shell.execute_reply": "2021-10-25T08:21:44.397291Z"
    }
   },
   "outputs": [
    {
     "data": {
      "image/svg+xml": [
       "<?xml version=\"1.0\" encoding=\"UTF-8\" standalone=\"no\"?><svg xmlns=\"http://www.w3.org/2000/svg\" xmlns:xlink=\"http://www.w3.org/1999/xlink\" contentScriptType=\"application/ecmascript\" contentStyleType=\"text/css\" height=\"401px\" preserveAspectRatio=\"none\" style=\"width:439px;height:401px;\" version=\"1.1\" viewBox=\"0 0 439 401\" width=\"439px\" zoomAndPan=\"magnify\"><defs><filter height=\"300%\" id=\"fddb6dnzlgsfr\" width=\"300%\" x=\"-1\" y=\"-1\"><feGaussianBlur result=\"blurOut\" stdDeviation=\"2.0\"/><feColorMatrix in=\"blurOut\" result=\"blurOut2\" type=\"matrix\" values=\"0 0 0 0 0 0 0 0 0 0 0 0 0 0 0 0 0 0 .4 0\"/><feOffset dx=\"4.0\" dy=\"4.0\" in=\"blurOut2\" result=\"blurOut3\"/><feBlend in=\"SourceGraphic\" in2=\"blurOut3\" mode=\"normal\"/></filter></defs><g><!--MD5=[fbc87193dbaf4d95561dea2c320d4a47]\n",
       "cluster E1--><a href=\"psysml:54c28c65-c036-409b-a9ca-8f60ef8eadfb\" target=\"_top\" title=\"psysml:54c28c65-c036-409b-a9ca-8f60ef8eadfb\" xlink:actuate=\"onRequest\" xlink:href=\"psysml:54c28c65-c036-409b-a9ca-8f60ef8eadfb\" xlink:show=\"new\" xlink:title=\"psysml:54c28c65-c036-409b-a9ca-8f60ef8eadfb\" xlink:type=\"simple\"><polygon fill=\"#FFFFFF\" filter=\"url(#fddb6dnzlgsfr)\" points=\"16,6,116,6,123,28.2969,415,28.2969,415,389,16,389,16,6\" style=\"stroke: #000000; stroke-width: 1.5;\"/><line style=\"stroke: #000000; stroke-width: 1.5;\" x1=\"16\" x2=\"123\" y1=\"28.2969\" y2=\"28.2969\"/><text fill=\"#000000\" font-family=\"sans-serif\" font-size=\"14\" font-weight=\"bold\" lengthAdjust=\"spacingAndGlyphs\" textLength=\"94\" x=\"20\" y=\"20.9951\">VariabilityTest</text></a><!--MD5=[b4997ac47864f28c2f74865a473b2911]\n",
       "class E2--><a href=\"psysml:82cb16a2-9eb2-4cce-bbbe-e1592c7acc8b\" target=\"_top\" title=\"psysml:82cb16a2-9eb2-4cce-bbbe-e1592c7acc8b\" xlink:actuate=\"onRequest\" xlink:href=\"psysml:82cb16a2-9eb2-4cce-bbbe-e1592c7acc8b\" xlink:show=\"new\" xlink:title=\"psysml:82cb16a2-9eb2-4cce-bbbe-e1592c7acc8b\" xlink:type=\"simple\"><rect fill=\"#FEFECE\" filter=\"url(#fddb6dnzlgsfr)\" height=\"69.6094\" id=\"E2\" style=\"stroke: #A80036; stroke-width: 1.5;\" width=\"63\" x=\"232.5\" y=\"294\"/><ellipse cx=\"257.85\" cy=\"310\" fill=\"#008000\" rx=\"11\" ry=\"11\" style=\"stroke: #A80036; stroke-width: 1.0;\"/><path d=\"M254.725,315 L254.725,304.4063 L257.9594,304.4063 Q259.8656,304.4063 260.7719,305.1563 Q261.6938,305.9063 261.6938,307.0781 Q261.6938,307.7656 261.3031,308.4219 Q260.9281,309.0781 260.2094,309.375 Q261.0688,309.75 261.5844,310.4375 Q262.1,311.125 262.1,311.9375 Q262.1,313.3125 261.0688,314.1563 Q260.0531,315 257.9438,315 L254.725,315 Z M256.6469,308.6406 L257.8031,308.6406 Q258.9281,308.6406 259.3344,308.2656 Q259.7563,307.875 259.7563,307.25 Q259.7563,306.6719 259.3344,306.3125 Q258.9125,305.9531 257.975,305.9531 L256.6469,305.9531 L256.6469,308.6406 Z M256.6469,313.4219 L258.1469,313.4219 Q259.0531,313.4219 259.5844,313.0313 Q260.1156,312.6406 260.1156,311.8906 Q260.1156,311.125 259.6156,310.6563 Q259.1156,310.1719 257.85,310.1719 L256.6469,310.1719 L256.6469,313.4219 Z \"/><text fill=\"#000000\" font-family=\"sans-serif\" font-size=\"12\" lengthAdjust=\"spacingAndGlyphs\" textLength=\"8\" x=\"274.15\" y=\"314.1543\">P</text><line style=\"stroke: #A80036; stroke-width: 1.5;\" x1=\"233.5\" x2=\"294.5\" y1=\"326\" y2=\"326\"/><text fill=\"#000000\" font-family=\"sans-serif\" font-size=\"11\" lengthAdjust=\"spacingAndGlyphs\" textLength=\"7\" x=\"238.5\" y=\"357.0151\">a</text><line style=\"stroke: #A80036; stroke-width: 1.0;\" x1=\"233.5\" x2=\"236.5\" y1=\"340.4023\" y2=\"340.4023\"/><text fill=\"#000000\" font-family=\"sans-serif\" font-size=\"11\" lengthAdjust=\"spacingAndGlyphs\" textLength=\"55\" x=\"236.5\" y=\"343.7104\">attributes</text><line style=\"stroke: #A80036; stroke-width: 1.0;\" x1=\"291.5\" x2=\"294.5\" y1=\"340.4023\" y2=\"340.4023\"/></a><!--MD5=[09b614a08d8cba4a07c9adeb5e0fee81]\n",
       "class E3--><a href=\"psysml:2ef5dada-a649-4c80-bc3f-904ca5914f5d\" target=\"_top\" title=\"psysml:2ef5dada-a649-4c80-bc3f-904ca5914f5d\" xlink:actuate=\"onRequest\" xlink:href=\"psysml:2ef5dada-a649-4c80-bc3f-904ca5914f5d\" xlink:show=\"new\" xlink:title=\"psysml:2ef5dada-a649-4c80-bc3f-904ca5914f5d\" xlink:type=\"simple\"><rect fill=\"#FEFECE\" filter=\"url(#fddb6dnzlgsfr)\" height=\"40\" id=\"E3\" style=\"stroke: #A80036; stroke-width: 1.5;\" width=\"41\" x=\"168.5\" y=\"158\"/><ellipse cx=\"183.5\" cy=\"174\" fill=\"#008000\" rx=\"11\" ry=\"11\" style=\"stroke: #A80036; stroke-width: 1.0;\"/><path d=\"M180.375,179 L180.375,168.4063 L183.6094,168.4063 Q185.5156,168.4063 186.4219,169.1563 Q187.3438,169.9063 187.3438,171.0781 Q187.3438,171.7656 186.9531,172.4219 Q186.5781,173.0781 185.8594,173.375 Q186.7188,173.75 187.2344,174.4375 Q187.75,175.125 187.75,175.9375 Q187.75,177.3125 186.7188,178.1563 Q185.7031,179 183.5938,179 L180.375,179 Z M182.2969,172.6406 L183.4531,172.6406 Q184.5781,172.6406 184.9844,172.2656 Q185.4063,171.875 185.4063,171.25 Q185.4063,170.6719 184.9844,170.3125 Q184.5625,169.9531 183.625,169.9531 L182.2969,169.9531 L182.2969,172.6406 Z M182.2969,177.4219 L183.7969,177.4219 Q184.7031,177.4219 185.2344,177.0313 Q185.7656,176.6406 185.7656,175.8906 Q185.7656,175.125 185.2656,174.6563 Q184.7656,174.1719 183.5,174.1719 L182.2969,174.1719 L182.2969,177.4219 Z \"/><text fill=\"#000000\" font-family=\"sans-serif\" font-size=\"12\" lengthAdjust=\"spacingAndGlyphs\" textLength=\"9\" x=\"197.5\" y=\"178.1543\">Q</text><line style=\"stroke: #A80036; stroke-width: 1.5;\" x1=\"169.5\" x2=\"208.5\" y1=\"190\" y2=\"190\"/></a><!--MD5=[ebbe1d658d1005bcc118a6aa81145e00]\n",
       "class E4--><a href=\"psysml:45188152-89ae-47db-8fae-185a328aceea\" target=\"_top\" title=\"psysml:45188152-89ae-47db-8fae-185a328aceea\" xlink:actuate=\"onRequest\" xlink:href=\"psysml:45188152-89ae-47db-8fae-185a328aceea\" xlink:show=\"new\" xlink:title=\"psysml:45188152-89ae-47db-8fae-185a328aceea\" xlink:type=\"simple\"><rect fill=\"#FEFECE\" filter=\"url(#fddb6dnzlgsfr)\" height=\"45.9375\" id=\"E4\" style=\"stroke: #A80036; stroke-width: 1.5;\" width=\"125\" x=\"268.5\" y=\"41\"/><ellipse cx=\"283.5\" cy=\"59.9688\" fill=\"#A52A2A\" rx=\"11\" ry=\"11\" style=\"stroke: #A80036; stroke-width: 1.0;\"/><path d=\"M280.7188,64.9688 L280.7188,54.375 L283.4531,54.375 Q284.8438,54.375 285.6094,54.7656 Q286.3906,55.1406 286.9219,55.8438 Q287.4531,56.5469 287.75,57.5469 Q288.0469,58.5313 288.0469,59.75 Q288,61.3438 287.5,62.5313 Q287.0156,63.7031 285.9688,64.3438 Q284.9375,64.9688 283.25,64.9688 L280.7188,64.9688 Z M282.5781,63.4688 L283.2031,63.4688 Q284.2813,63.4688 284.9375,63.0156 Q285.5938,62.5625 285.875,61.7344 Q286.1719,60.8906 286.1563,59.7656 Q286.1563,58.5938 285.9063,57.7344 Q285.6563,56.8594 285.0469,56.3906 Q284.4375,55.9063 283.3906,55.9063 L282.5781,55.9063 L282.5781,63.4688 Z \"/><text fill=\"#000000\" font-family=\"sans-serif\" font-size=\"12\" font-style=\"italic\" lengthAdjust=\"spacingAndGlyphs\" textLength=\"97\" x=\"295.5\" y=\"57.1387\">«attribute  def»</text><text fill=\"#000000\" font-family=\"sans-serif\" font-size=\"12\" lengthAdjust=\"spacingAndGlyphs\" textLength=\"8\" x=\"340\" y=\"71.1074\">B</text><line style=\"stroke: #A80036; stroke-width: 1.5;\" x1=\"269.5\" x2=\"392.5\" y1=\"78.9375\" y2=\"78.9375\"/></a><!--MD5=[270fce915f116d4de14055a7c1d9a0f3]\n",
       "class E5--><a href=\"psysml:e8a966fa-6247-410c-94c4-6750afcc6da8\" target=\"_top\" title=\"psysml:e8a966fa-6247-410c-94c4-6750afcc6da8\" xlink:actuate=\"onRequest\" xlink:href=\"psysml:e8a966fa-6247-410c-94c4-6750afcc6da8\" xlink:show=\"new\" xlink:title=\"psysml:e8a966fa-6247-410c-94c4-6750afcc6da8\" xlink:type=\"simple\"><rect fill=\"#FEFECE\" filter=\"url(#fddb6dnzlgsfr)\" height=\"40\" id=\"E5\" style=\"stroke: #A80036; stroke-width: 1.5;\" width=\"40\" x=\"348\" y=\"158\"/><ellipse cx=\"363\" cy=\"174\" fill=\"#008000\" rx=\"11\" ry=\"11\" style=\"stroke: #A80036; stroke-width: 1.0;\"/><path d=\"M359.875,179 L359.875,168.4063 L363.1094,168.4063 Q365.0156,168.4063 365.9219,169.1563 Q366.8438,169.9063 366.8438,171.0781 Q366.8438,171.7656 366.4531,172.4219 Q366.0781,173.0781 365.3594,173.375 Q366.2188,173.75 366.7344,174.4375 Q367.25,175.125 367.25,175.9375 Q367.25,177.3125 366.2188,178.1563 Q365.2031,179 363.0938,179 L359.875,179 Z M361.7969,172.6406 L362.9531,172.6406 Q364.0781,172.6406 364.4844,172.2656 Q364.9063,171.875 364.9063,171.25 Q364.9063,170.6719 364.4844,170.3125 Q364.0625,169.9531 363.125,169.9531 L361.7969,169.9531 L361.7969,172.6406 Z M361.7969,177.4219 L363.2969,177.4219 Q364.2031,177.4219 364.7344,177.0313 Q365.2656,176.6406 365.2656,175.8906 Q365.2656,175.125 364.7656,174.6563 Q364.2656,174.1719 363,174.1719 L361.7969,174.1719 L361.7969,177.4219 Z \"/><text fill=\"#000000\" font-family=\"sans-serif\" font-size=\"12\" font-style=\"italic\" lengthAdjust=\"spacingAndGlyphs\" textLength=\"8\" x=\"377\" y=\"178.1543\">V</text><line style=\"stroke: #A80036; stroke-width: 1.5;\" x1=\"349\" x2=\"387\" y1=\"190\" y2=\"190\"/></a><!--MD5=[60a26617385b1d2d0262a64233df1f8d]\n",
       "class E6--><a href=\"psysml:10060237-19c5-40dc-a73e-8cb7e4953e81\" target=\"_top\" title=\"psysml:10060237-19c5-40dc-a73e-8cb7e4953e81\" xlink:actuate=\"onRequest\" xlink:href=\"psysml:10060237-19c5-40dc-a73e-8cb7e4953e81\" xlink:show=\"new\" xlink:title=\"psysml:10060237-19c5-40dc-a73e-8cb7e4953e81\" xlink:type=\"simple\"><rect fill=\"#FEFECE\" filter=\"url(#fddb6dnzlgsfr)\" height=\"88.3516\" id=\"E6\" rx=\"10\" ry=\"10\" style=\"stroke: #A80036; stroke-width: 1.5;\" width=\"68\" x=\"331\" y=\"285\"/><ellipse cx=\"346\" cy=\"303.9688\" fill=\"#32CD32\" rx=\"11\" ry=\"11\" style=\"stroke: #A80036; stroke-width: 1.0;\"/><path d=\"M342.8125,308.9688 L342.8125,298.375 L346.4219,298.375 Q347.6406,298.375 348.4375,298.8125 Q349.2344,299.2344 349.6094,299.9375 Q350,300.6406 350,301.4844 Q350,302.3281 349.625,303.0156 Q349.2656,303.7031 348.4688,304.125 Q347.6875,304.5313 346.5,304.5313 L344.7656,304.5313 L344.7656,308.9688 L342.8125,308.9688 Z M344.7656,302.9375 L346.375,302.9375 Q347.1875,302.9375 347.6094,302.5313 Q348.0313,302.125 348.0313,301.4844 Q348.0313,300.8594 347.6094,300.4531 Q347.1875,300.0469 346.3906,300.0469 L344.7656,300.0469 L344.7656,302.9375 Z \"/><text fill=\"#000000\" font-family=\"sans-serif\" font-size=\"12\" font-style=\"italic\" lengthAdjust=\"spacingAndGlyphs\" textLength=\"40\" x=\"358\" y=\"301.1387\">«part»</text><text fill=\"#000000\" font-family=\"sans-serif\" font-size=\"12\" lengthAdjust=\"spacingAndGlyphs\" textLength=\"23\" x=\"364.5\" y=\"315.1074\">x: Q</text><line style=\"stroke: #A80036; stroke-width: 1.5;\" x1=\"332\" x2=\"398\" y1=\"322.9375\" y2=\"322.9375\"/><text fill=\"#000000\" font-family=\"sans-serif\" font-size=\"11\" lengthAdjust=\"spacingAndGlyphs\" textLength=\"23\" x=\"337\" y=\"353.9526\">b: B</text><text fill=\"#000000\" font-family=\"sans-serif\" font-size=\"11\" font-style=\"italic\" lengthAdjust=\"spacingAndGlyphs\" textLength=\"44\" x=\"337\" y=\"366.7573\">:&gt;&gt;P::a</text><line style=\"stroke: #A80036; stroke-width: 1.0;\" x1=\"332\" x2=\"337.5\" y1=\"337.3398\" y2=\"337.3398\"/><text fill=\"#000000\" font-family=\"sans-serif\" font-size=\"11\" lengthAdjust=\"spacingAndGlyphs\" textLength=\"55\" x=\"337.5\" y=\"340.6479\">attributes</text><line style=\"stroke: #A80036; stroke-width: 1.0;\" x1=\"392.5\" x2=\"398\" y1=\"337.3398\" y2=\"337.3398\"/></a><!--MD5=[2156ba9850f5573cc1fc38a6a4b2f02b]\n",
       "class E7--><a href=\"psysml:070ce293-3e12-454f-ad5b-be257c39d672\" target=\"_top\" title=\"psysml:070ce293-3e12-454f-ad5b-be257c39d672\" xlink:actuate=\"onRequest\" xlink:href=\"psysml:070ce293-3e12-454f-ad5b-be257c39d672\" xlink:show=\"new\" xlink:title=\"psysml:070ce293-3e12-454f-ad5b-be257c39d672\" xlink:type=\"simple\"><rect fill=\"#FEFECE\" filter=\"url(#fddb6dnzlgsfr)\" height=\"45.9375\" id=\"E7\" rx=\"10\" ry=\"10\" style=\"stroke: #A80036; stroke-width: 1.5;\" width=\"68\" x=\"155\" y=\"41\"/><ellipse cx=\"170\" cy=\"59.9688\" fill=\"#32CD32\" rx=\"11\" ry=\"11\" style=\"stroke: #A80036; stroke-width: 1.0;\"/><path d=\"M166.8125,64.9688 L166.8125,54.375 L170.4219,54.375 Q171.6406,54.375 172.4375,54.8125 Q173.2344,55.2344 173.6094,55.9375 Q174,56.6406 174,57.4844 Q174,58.3281 173.625,59.0156 Q173.2656,59.7031 172.4688,60.125 Q171.6875,60.5313 170.5,60.5313 L168.7656,60.5313 L168.7656,64.9688 L166.8125,64.9688 Z M168.7656,58.9375 L170.375,58.9375 Q171.1875,58.9375 171.6094,58.5313 Q172.0313,58.125 172.0313,57.4844 Q172.0313,56.8594 171.6094,56.4531 Q171.1875,56.0469 170.3906,56.0469 L168.7656,56.0469 L168.7656,58.9375 Z \"/><text fill=\"#000000\" font-family=\"sans-serif\" font-size=\"12\" font-style=\"italic\" lengthAdjust=\"spacingAndGlyphs\" textLength=\"40\" x=\"182\" y=\"57.1387\">«part»</text><text fill=\"#000000\" font-family=\"sans-serif\" font-size=\"12\" lengthAdjust=\"spacingAndGlyphs\" textLength=\"25\" x=\"187.5\" y=\"71.1074\">q: Q</text><line style=\"stroke: #A80036; stroke-width: 1.5;\" x1=\"156\" x2=\"222\" y1=\"78.9375\" y2=\"78.9375\"/></a><!--MD5=[b9389687b975829384b498ac4b7476b2]\n",
       "class E8--><a href=\"psysml:3367482b-ff59-4bbe-a9dc-fe1b4a2ad697\" target=\"_top\" title=\"psysml:3367482b-ff59-4bbe-a9dc-fe1b4a2ad697\" xlink:actuate=\"onRequest\" xlink:href=\"psysml:3367482b-ff59-4bbe-a9dc-fe1b4a2ad697\" xlink:show=\"new\" xlink:title=\"psysml:3367482b-ff59-4bbe-a9dc-fe1b4a2ad697\" xlink:type=\"simple\"><rect fill=\"#FEFECE\" filter=\"url(#fddb6dnzlgsfr)\" height=\"59.9063\" id=\"E8\" rx=\"10\" ry=\"10\" style=\"stroke: #A80036; stroke-width: 1.5;\" width=\"96\" x=\"37\" y=\"148\"/><ellipse cx=\"52\" cy=\"173.9531\" fill=\"#32CD32\" rx=\"11\" ry=\"11\" style=\"stroke: #A80036; stroke-width: 1.0;\"/><path d=\"M48.8125,178.9531 L48.8125,168.3594 L52.4219,168.3594 Q53.6406,168.3594 54.4375,168.7969 Q55.2344,169.2188 55.6094,169.9219 Q56,170.625 56,171.4688 Q56,172.3125 55.625,173 Q55.2656,173.6875 54.4688,174.1094 Q53.6875,174.5156 52.5,174.5156 L50.7656,174.5156 L50.7656,178.9531 L48.8125,178.9531 Z M50.7656,172.9219 L52.375,172.9219 Q53.1875,172.9219 53.6094,172.5156 Q54.0313,172.1094 54.0313,171.4688 Q54.0313,170.8438 53.6094,170.4375 Q53.1875,170.0313 52.3906,170.0313 L50.7656,170.0313 L50.7656,172.9219 Z \"/><text fill=\"#000000\" font-family=\"sans-serif\" font-size=\"12\" font-style=\"italic\" lengthAdjust=\"spacingAndGlyphs\" textLength=\"68\" x=\"64\" y=\"164.1387\">«variation»</text><text fill=\"#000000\" font-family=\"sans-serif\" font-size=\"12\" font-style=\"italic\" lengthAdjust=\"spacingAndGlyphs\" textLength=\"40\" x=\"78\" y=\"178.1074\">«part»</text><text fill=\"#000000\" font-family=\"sans-serif\" font-size=\"12\" font-style=\"italic\" lengthAdjust=\"spacingAndGlyphs\" textLength=\"6\" x=\"85\" y=\"192.0762\">v</text><text fill=\"#000000\" font-family=\"sans-serif\" font-size=\"12\" lengthAdjust=\"spacingAndGlyphs\" textLength=\"16\" x=\"91\" y=\"192.0762\">: P</text><line style=\"stroke: #A80036; stroke-width: 1.5;\" x1=\"38\" x2=\"132\" y1=\"199.9063\" y2=\"199.9063\"/></a><!--MD5=[fd4143e9d270a159db93a4ea2a975926]\n",
       "class E9--><a href=\"psysml:80fa5ea3-437e-4eec-9e3d-5d2e24e12c28\" target=\"_top\" title=\"psysml:80fa5ea3-437e-4eec-9e3d-5d2e24e12c28\" xlink:actuate=\"onRequest\" xlink:href=\"psysml:80fa5ea3-437e-4eec-9e3d-5d2e24e12c28\" xlink:show=\"new\" xlink:title=\"psysml:80fa5ea3-437e-4eec-9e3d-5d2e24e12c28\" xlink:type=\"simple\"><rect fill=\"#FEFECE\" filter=\"url(#fddb6dnzlgsfr)\" height=\"88.3516\" id=\"E9\" rx=\"10\" ry=\"10\" style=\"stroke: #A80036; stroke-width: 1.5;\" width=\"165\" x=\"32.5\" y=\"285\"/><ellipse cx=\"47.5\" cy=\"303.9688\" fill=\"#FFA500\" rx=\"11\" ry=\"11\" style=\"stroke: #A80036; stroke-width: 1.0;\"/><path d=\"M47.25,309.4375 Q45.5,309.4375 44.5469,308.4063 Q43.6094,307.3594 43.6094,305.5156 L43.6094,298.625 L45.6719,298.625 L45.6719,298.7813 Q45.5781,298.875 45.5469,299.0156 Q45.5313,299.1406 45.5313,299.4063 L45.5313,305.5313 Q45.5313,306.625 45.9063,307.25 Q46.2813,307.875 47.2656,307.875 Q48.25,307.875 48.6406,307.25 Q49.0313,306.625 49.0313,305.4844 L49.0313,298.625 L50.9063,298.625 L50.9063,305.4688 Q50.9063,307.5 49.875,308.4688 Q48.8594,309.4375 47.25,309.4375 Z \"/><text fill=\"#000000\" font-family=\"sans-serif\" font-size=\"12\" font-style=\"italic\" lengthAdjust=\"spacingAndGlyphs\" textLength=\"75\" x=\"90.5\" y=\"301.1387\">«reference»</text><text fill=\"#000000\" font-family=\"sans-serif\" font-size=\"12\" lengthAdjust=\"spacingAndGlyphs\" textLength=\"133\" x=\"61.5\" y=\"315.1074\">q :&gt; VariabilityTest::q</text><line style=\"stroke: #A80036; stroke-width: 1.5;\" x1=\"33.5\" x2=\"196.5\" y1=\"322.9375\" y2=\"322.9375\"/><text fill=\"#000000\" font-family=\"sans-serif\" font-size=\"11\" lengthAdjust=\"spacingAndGlyphs\" textLength=\"23\" x=\"38.5\" y=\"353.9526\">b: B</text><text fill=\"#000000\" font-family=\"sans-serif\" font-size=\"11\" font-style=\"italic\" lengthAdjust=\"spacingAndGlyphs\" textLength=\"44\" x=\"38.5\" y=\"366.7573\">:&gt;&gt;P::a</text><line style=\"stroke: #A80036; stroke-width: 1.0;\" x1=\"33.5\" x2=\"87.5\" y1=\"337.3398\" y2=\"337.3398\"/><text fill=\"#000000\" font-family=\"sans-serif\" font-size=\"11\" lengthAdjust=\"spacingAndGlyphs\" textLength=\"55\" x=\"87.5\" y=\"340.6479\">attributes</text><line style=\"stroke: #A80036; stroke-width: 1.0;\" x1=\"142.5\" x2=\"196.5\" y1=\"337.3398\" y2=\"337.3398\"/></a><!--MD5=[96f4274e9e20536e775497830990834d]\n",
       "class E10--><a href=\"psysml:48eaa747-84b8-4879-8d6b-33c104c23f89\" target=\"_top\" title=\"psysml:48eaa747-84b8-4879-8d6b-33c104c23f89\" xlink:actuate=\"onRequest\" xlink:href=\"psysml:48eaa747-84b8-4879-8d6b-33c104c23f89\" xlink:show=\"new\" xlink:title=\"psysml:48eaa747-84b8-4879-8d6b-33c104c23f89\" xlink:type=\"simple\"><rect fill=\"#FEFECE\" filter=\"url(#fddb6dnzlgsfr)\" height=\"45.9375\" id=\"E10\" rx=\"10\" ry=\"10\" style=\"stroke: #A80036; stroke-width: 1.5;\" width=\"68\" x=\"245\" y=\"155\"/><ellipse cx=\"260\" cy=\"173.9688\" fill=\"#32CD32\" rx=\"11\" ry=\"11\" style=\"stroke: #A80036; stroke-width: 1.0;\"/><path d=\"M256.8125,178.9688 L256.8125,168.375 L260.4219,168.375 Q261.6406,168.375 262.4375,168.8125 Q263.2344,169.2344 263.6094,169.9375 Q264,170.6406 264,171.4844 Q264,172.3281 263.625,173.0156 Q263.2656,173.7031 262.4688,174.125 Q261.6875,174.5313 260.5,174.5313 L258.7656,174.5313 L258.7656,178.9688 L256.8125,178.9688 Z M258.7656,172.9375 L260.375,172.9375 Q261.1875,172.9375 261.6094,172.5313 Q262.0313,172.125 262.0313,171.4844 Q262.0313,170.8594 261.6094,170.4531 Q261.1875,170.0469 260.3906,170.0469 L258.7656,170.0469 L258.7656,172.9375 Z \"/><text fill=\"#000000\" font-family=\"sans-serif\" font-size=\"12\" font-style=\"italic\" lengthAdjust=\"spacingAndGlyphs\" textLength=\"40\" x=\"272\" y=\"171.1387\">«part»</text><text fill=\"#000000\" font-family=\"sans-serif\" font-size=\"12\" lengthAdjust=\"spacingAndGlyphs\" textLength=\"22\" x=\"279\" y=\"185.1074\">y: P</text><line style=\"stroke: #A80036; stroke-width: 1.5;\" x1=\"246\" x2=\"312\" y1=\"192.9375\" y2=\"192.9375\"/></a><!--MD5=[05d275557350bfb9b23a4ef7222b4c39]\n",
       "link E3 to E2--><a href=\"psysml:8fca0815-a461-4953-83e8-63ed8c86de29\" target=\"_top\" title=\"psysml:8fca0815-a461-4953-83e8-63ed8c86de29\" xlink:actuate=\"onRequest\" xlink:href=\"psysml:8fca0815-a461-4953-83e8-63ed8c86de29\" xlink:show=\"new\" xlink:title=\"psysml:8fca0815-a461-4953-83e8-63ed8c86de29\" xlink:type=\"simple\"><path d=\"M198.65,198.17 C208.47,217.69 224.13,248.8 237.66,275.67 \" fill=\"none\" id=\"E3-&gt;E2\" style=\"stroke: #A80036; stroke-width: 1.0;\"/><polygon fill=\"none\" points=\"244.06,272.82,246.8,293.83,231.56,279.12,244.06,272.82\" style=\"stroke: #A80036; stroke-width: 1.0;\"/></a><!--MD5=[15ebcb19ae302d9b601edb458606d402]\n",
       "link E5 to E2--><a href=\"psysml:80d735d5-abd9-4df4-b941-a11b60e81c18\" target=\"_top\" title=\"psysml:80d735d5-abd9-4df4-b941-a11b60e81c18\" xlink:actuate=\"onRequest\" xlink:href=\"psysml:80d735d5-abd9-4df4-b941-a11b60e81c18\" xlink:show=\"new\" xlink:title=\"psysml:80d735d5-abd9-4df4-b941-a11b60e81c18\" xlink:type=\"simple\"><path d=\"M354.62,198.17 C340.74,218.06 318.44,250 299.44,277.22 \" fill=\"none\" id=\"E5-&gt;E2\" style=\"stroke: #A80036; stroke-width: 1.0;\"/><polygon fill=\"none\" points=\"305.04,281.44,287.85,293.83,293.56,273.43,305.04,281.44\" style=\"stroke: #A80036; stroke-width: 1.0;\"/></a><!--MD5=[9120cf2e5df3bff93db8f754bbbc09b4]\n",
       "link E5 to E6--><a href=\"psysml:bbf94ce0-8140-4269-b805-c97e9315d509\" target=\"_top\" title=\"psysml:bbf94ce0-8140-4269-b805-c97e9315d509\" xlink:actuate=\"onRequest\" xlink:href=\"psysml:bbf94ce0-8140-4269-b805-c97e9315d509\" xlink:show=\"new\" xlink:title=\"psysml:bbf94ce0-8140-4269-b805-c97e9315d509\" xlink:type=\"simple\"><path d=\"M367.41,208.45 C367.03,227.36 366.52,252.47 366.07,274.79 \" fill=\"none\" id=\"E5-E6\" style=\"stroke: #A80036; stroke-width: 1.0;\"/><polygon fill=\"#A80036\" points=\"365.87,284.82,369.0294,276.8816,363.0306,276.7616,365.87,284.82\" style=\"stroke: #A80036; stroke-width: 1.0;\"/><path d=\"M359.0929,201.0785 A9,9 0 0 0 376.004 201.4167\" fill=\"none\" style=\"stroke: #A80036; stroke-width: 1.5;\"/><text fill=\"#000000\" font-family=\"sans-serif\" font-size=\"13\" lengthAdjust=\"spacingAndGlyphs\" textLength=\"60\" x=\"367\" y=\"251.0669\">«variant»</text></a><!--MD5=[14ccda38c055a5c0da953d572bc50960]\n",
       "link E7 to E3--><a href=\"psysml:1a218306-3ccb-4021-8143-a6b7222dd125\" target=\"_top\" title=\"psysml:1a218306-3ccb-4021-8143-a6b7222dd125\" xlink:actuate=\"onRequest\" xlink:href=\"psysml:1a218306-3ccb-4021-8143-a6b7222dd125\" xlink:show=\"new\" xlink:title=\"psysml:1a218306-3ccb-4021-8143-a6b7222dd125\" xlink:type=\"simple\"><path d=\"M189,87.13 C189,101.57 189,120.83 189,137.81 \" fill=\"none\" id=\"E7-&gt;E3\" style=\"stroke: #A80036; stroke-width: 1.0;\"/><polygon fill=\"#FFFFFF\" points=\"189,157.9,182,138.9,196,138.9,189,157.9\" style=\"stroke: #A80036; stroke-width: 1.0;\"/><ellipse cx=\"184\" cy=\"133.2\" fill=\"#A80036\" rx=\"2\" ry=\"2\" style=\"stroke: #A80036; stroke-width: 1.0;\"/><ellipse cx=\"194\" cy=\"133.2\" fill=\"#A80036\" rx=\"2\" ry=\"2\" style=\"stroke: #A80036; stroke-width: 1.0;\"/></a><!--MD5=[f1f3f9f2fc535e6147756cb86a7f2e32]\n",
       "link E8 to E2--><a href=\"psysml:0a07ead6-b6a6-4f86-92cb-b01532aad754\" target=\"_top\" title=\"psysml:0a07ead6-b6a6-4f86-92cb-b01532aad754\" xlink:actuate=\"onRequest\" xlink:href=\"psysml:0a07ead6-b6a6-4f86-92cb-b01532aad754\" xlink:show=\"new\" xlink:title=\"psysml:0a07ead6-b6a6-4f86-92cb-b01532aad754\" xlink:type=\"simple\"><path d=\"M129.64,208.04 C142.94,217.21 157.34,227.66 170,238 C186.1,251.16 202.77,266.49 217.52,280.73 \" fill=\"none\" id=\"E8-&gt;E2\" style=\"stroke: #A80036; stroke-width: 1.0;\"/><polygon fill=\"#FFFFFF\" points=\"232.1,295.03,213.6388,286.7122,223.4479,276.7231,232.1,295.03\" style=\"stroke: #A80036; stroke-width: 1.0;\"/><ellipse cx=\"210.9732\" cy=\"281.2915\" fill=\"#A80036\" rx=\"2\" ry=\"2\" style=\"stroke: #A80036; stroke-width: 1.0;\"/><ellipse cx=\"217.9797\" cy=\"274.1564\" fill=\"#A80036\" rx=\"2\" ry=\"2\" style=\"stroke: #A80036; stroke-width: 1.0;\"/></a><!--MD5=[ed10624c06dd9a4fa49ccf290e8b16a8]\n",
       "link E8 to E9--><a href=\"psysml:95cf767c-bf38-4d44-8a21-82e4671e1c7d\" target=\"_top\" title=\"psysml:95cf767c-bf38-4d44-8a21-82e4671e1c7d\" xlink:actuate=\"onRequest\" xlink:href=\"psysml:95cf767c-bf38-4d44-8a21-82e4671e1c7d\" xlink:show=\"new\" xlink:title=\"psysml:95cf767c-bf38-4d44-8a21-82e4671e1c7d\" xlink:type=\"simple\"><path d=\"M92.86,218.04 C96.36,235.44 100.54,256.2 104.32,274.98 \" fill=\"none\" id=\"E8-E9\" style=\"stroke: #A80036; stroke-width: 1.0;\"/><polygon fill=\"#A80036\" points=\"106.32,284.88,107.6834,276.4455,101.8012,277.6288,106.32,284.88\" style=\"stroke: #A80036; stroke-width: 1.0;\"/><path d=\"M83.1825,212.7764 A9,9 0 0 0 99.7601 209.4174\" fill=\"none\" style=\"stroke: #A80036; stroke-width: 1.5;\"/><text fill=\"#000000\" font-family=\"sans-serif\" font-size=\"13\" lengthAdjust=\"spacingAndGlyphs\" textLength=\"60\" x=\"101\" y=\"251.0669\">«variant»</text></a><!--MD5=[0f36bececdf0dff6e600d6f64214b0f1]\n",
       "link E10 to E2--><a href=\"psysml:6b6ac884-9cd9-45a3-8497-3c127dcfd472\" target=\"_top\" title=\"psysml:6b6ac884-9cd9-45a3-8497-3c127dcfd472\" xlink:actuate=\"onRequest\" xlink:href=\"psysml:6b6ac884-9cd9-45a3-8497-3c127dcfd472\" xlink:show=\"new\" xlink:title=\"psysml:6b6ac884-9cd9-45a3-8497-3c127dcfd472\" xlink:type=\"simple\"><path d=\"M276.75,201.31 C274.83,220.46 271.97,248.87 269.44,273.93 \" fill=\"none\" id=\"E10-&gt;E2\" style=\"stroke: #A80036; stroke-width: 1.0;\"/><polygon fill=\"#FFFFFF\" points=\"267.43,293.92,262.3651,274.3152,276.2949,275.7152,267.43,293.92\" style=\"stroke: #A80036; stroke-width: 1.0;\"/><ellipse cx=\"264.925\" cy=\"268.8438\" fill=\"#A80036\" rx=\"2\" ry=\"2\" style=\"stroke: #A80036; stroke-width: 1.0;\"/><ellipse cx=\"274.8749\" cy=\"269.8438\" fill=\"#A80036\" rx=\"2\" ry=\"2\" style=\"stroke: #A80036; stroke-width: 1.0;\"/></a><!--MD5=[f4ac494d15d61f932c5d8a52fcc261f3]\n",
       "@startuml\r\n",
       " \r\n",
       "package \"VariabilityTest\" as E1  [[psysml:54c28c65-c036-409b-a9ca-8f60ef8eadfb ]]  {\r\n",
       "comp def \"P\" as E2 << << (B,green) >> [[psysml:82cb16a2-9eb2-4cce-bbbe-e1592c7acc8b ]] {\r\n",
       "- - attributes - -\r\n",
       "a\r\n",
       "}\r\n",
       "comp def \"Q\" as E3 << << (B,green) >> [[psysml:2ef5dada-a649-4c80-bc3f-904ca5914f5d ]] {\r\n",
       "}\r\n",
       "comp def \"B\" as E4 << <<(D,brown) attribute  def>> [[psysml:45188152-89ae-47db-8fae-185a328aceea ]] {\r\n",
       "}\r\n",
       "comp def \"<i>V</i>\" as E5 << << (B,green) >> [[psysml:e8a966fa-6247-410c-94c4-6750afcc6da8 ]] {\r\n",
       "}\r\n",
       "comp usage \"x: Q \" as E6 << << (P,limegreen) part>> [[psysml:10060237-19c5-40dc-a73e-8cb7e4953e81 ]] {\r\n",
       "- - attributes - -\r\n",
       "b: B\\n//:>>P::a// \r\n",
       "}\r\n",
       "comp usage \"q: Q \" as E7 << << (P,limegreen) part>> [[psysml:070ce293-3e12-454f-ad5b-be257c39d672 ]] {\r\n",
       "}\r\n",
       "comp usage \"<i>v</i>: P \" as E8  <<variation>>\\n<< << (P,limegreen) part>> [[psysml:3367482b-ff59-4bbe-a9dc-fe1b4a2ad697 ]] {\r\n",
       "}\r\n",
       "comp usage \"q :> VariabilityTest::q\" as E9 << <<(U,orange) reference>> [[psysml:80fa5ea3-437e-4eec-9e3d-5d2e24e12c28 ]] {\r\n",
       "- - attributes - -\r\n",
       "b: B\\n//:>>P::a// \r\n",
       "}\r\n",
       "comp usage \"y: P \" as E10 << << (P,limegreen) part>> [[psysml:48eaa747-84b8-4879-8d6b-33c104c23f89 ]] {\r\n",
       "}\r\n",
       "}\r\n",
       "E3 - -|> E2 [[psysml:8fca0815-a461-4953-83e8-63ed8c86de29 ]] \r\n",
       "E5 - -|> E2 [[psysml:80d735d5-abd9-4df4-b941-a11b60e81c18 ]] \r\n",
       "E5 )- ->> E6 [[psysml:bbf94ce0-8140-4269-b805-c97e9315d509 ]] : <<variant>>\r\n",
       "E7 - -:|> E3 [[psysml:1a218306-3ccb-4021-8143-a6b7222dd125 ]] \r\n",
       "E8 - -:|> E2 [[psysml:0a07ead6-b6a6-4f86-92cb-b01532aad754 ]] \r\n",
       "E8 )- ->> E9 [[psysml:95cf767c-bf38-4d44-8a21-82e4671e1c7d ]] : <<variant>>\r\n",
       "E10 - -:|> E2 [[psysml:6b6ac884-9cd9-45a3-8497-3c127dcfd472 ]] \r\n",
       "@enduml\r\n",
       "\n",
       "PlantUML version 1.2020.13(Sat Jun 13 12:26:38 UTC 2020)\n",
       "(EPL source distribution)\n",
       "Java Runtime: OpenJDK Runtime Environment\n",
       "JVM: OpenJDK 64-Bit Server VM\n",
       "Default Encoding: UTF-8\n",
       "Language: en\n",
       "Country: null\n",
       "--></g></svg>"
      ]
     },
     "execution_count": 36,
     "metadata": {},
     "output_type": "execute_result"
    }
   ],
   "source": [
    "%viz --style=\"PLANTUML\" --view=\"MIXED\" \"VariabilityTest\""
   ]
  },
  {
   "cell_type": "code",
   "execution_count": 37,
   "id": "f831b85d",
   "metadata": {
    "execution": {
     "iopub.execute_input": "2021-10-25T08:21:44.446224Z",
     "iopub.status.busy": "2021-10-25T08:21:44.445736Z",
     "iopub.status.idle": "2021-10-25T08:21:44.526316Z",
     "shell.execute_reply": "2021-10-25T08:21:44.524330Z"
    }
   },
   "outputs": [
    {
     "data": {
      "image/svg+xml": [
       "<?xml version=\"1.0\" encoding=\"UTF-8\" standalone=\"no\"?><svg xmlns=\"http://www.w3.org/2000/svg\" xmlns:xlink=\"http://www.w3.org/1999/xlink\" contentScriptType=\"application/ecmascript\" contentStyleType=\"text/css\" height=\"401px\" preserveAspectRatio=\"none\" style=\"width:427px;height:401px;\" version=\"1.1\" viewBox=\"0 0 427 401\" width=\"427px\" zoomAndPan=\"magnify\"><defs/><g><!--MD5=[fbc87193dbaf4d95561dea2c320d4a47]\n",
       "cluster E1--><a href=\"psysml:54c28c65-c036-409b-a9ca-8f60ef8eadfb\" target=\"_top\" title=\"psysml:54c28c65-c036-409b-a9ca-8f60ef8eadfb\" xlink:actuate=\"onRequest\" xlink:href=\"psysml:54c28c65-c036-409b-a9ca-8f60ef8eadfb\" xlink:show=\"new\" xlink:title=\"psysml:54c28c65-c036-409b-a9ca-8f60ef8eadfb\" xlink:type=\"simple\"><polygon fill=\"#FFFFFF\" points=\"16,6,116,6,123,28.2969,405,28.2969,405,389,16,389,16,6\" style=\"stroke: #000000; stroke-width: 1.5;\"/><line style=\"stroke: #000000; stroke-width: 1.5;\" x1=\"16\" x2=\"123\" y1=\"28.2969\" y2=\"28.2969\"/><text fill=\"#000000\" font-family=\"sans-serif\" font-size=\"14\" font-weight=\"bold\" lengthAdjust=\"spacingAndGlyphs\" textLength=\"94\" x=\"20\" y=\"20.9951\">VariabilityTest</text></a><!--MD5=[b4997ac47864f28c2f74865a473b2911]\n",
       "class E2--><a href=\"psysml:82cb16a2-9eb2-4cce-bbbe-e1592c7acc8b\" target=\"_top\" title=\"psysml:82cb16a2-9eb2-4cce-bbbe-e1592c7acc8b\" xlink:actuate=\"onRequest\" xlink:href=\"psysml:82cb16a2-9eb2-4cce-bbbe-e1592c7acc8b\" xlink:show=\"new\" xlink:title=\"psysml:82cb16a2-9eb2-4cce-bbbe-e1592c7acc8b\" xlink:type=\"simple\"><rect fill=\"#FFFFFF\" height=\"75.5469\" id=\"E2\" style=\"stroke: #383838; stroke-width: 1.5;\" width=\"70\" x=\"207\" y=\"291\"/><text fill=\"#000000\" font-family=\"sans-serif\" font-size=\"12\" font-style=\"italic\" lengthAdjust=\"spacingAndGlyphs\" textLength=\"68\" x=\"208\" y=\"307.1387\">«part  def»</text><text fill=\"#000000\" font-family=\"sans-serif\" font-size=\"12\" lengthAdjust=\"spacingAndGlyphs\" textLength=\"8\" x=\"238\" y=\"321.1074\">P</text><line style=\"stroke: #383838; stroke-width: 1.5;\" x1=\"208\" x2=\"276\" y1=\"328.9375\" y2=\"328.9375\"/><text fill=\"#000000\" font-family=\"sans-serif\" font-size=\"11\" lengthAdjust=\"spacingAndGlyphs\" textLength=\"7\" x=\"213\" y=\"359.9526\">a</text><line style=\"stroke: #383838; stroke-width: 1.0;\" x1=\"208\" x2=\"214.5\" y1=\"343.3398\" y2=\"343.3398\"/><text fill=\"#000000\" font-family=\"sans-serif\" font-size=\"11\" lengthAdjust=\"spacingAndGlyphs\" textLength=\"55\" x=\"214.5\" y=\"346.6479\">attributes</text><line style=\"stroke: #383838; stroke-width: 1.0;\" x1=\"269.5\" x2=\"276\" y1=\"343.3398\" y2=\"343.3398\"/></a><!--MD5=[09b614a08d8cba4a07c9adeb5e0fee81]\n",
       "class E3--><a href=\"psysml:2ef5dada-a649-4c80-bc3f-904ca5914f5d\" target=\"_top\" title=\"psysml:2ef5dada-a649-4c80-bc3f-904ca5914f5d\" xlink:actuate=\"onRequest\" xlink:href=\"psysml:2ef5dada-a649-4c80-bc3f-904ca5914f5d\" xlink:show=\"new\" xlink:title=\"psysml:2ef5dada-a649-4c80-bc3f-904ca5914f5d\" xlink:type=\"simple\"><rect fill=\"#FFFFFF\" height=\"45.9375\" id=\"E3\" style=\"stroke: #383838; stroke-width: 1.5;\" width=\"70\" x=\"137\" y=\"155\"/><text fill=\"#000000\" font-family=\"sans-serif\" font-size=\"12\" font-style=\"italic\" lengthAdjust=\"spacingAndGlyphs\" textLength=\"68\" x=\"138\" y=\"171.1387\">«part  def»</text><text fill=\"#000000\" font-family=\"sans-serif\" font-size=\"12\" lengthAdjust=\"spacingAndGlyphs\" textLength=\"9\" x=\"167.5\" y=\"185.1074\">Q</text><line style=\"stroke: #383838; stroke-width: 1.5;\" x1=\"138\" x2=\"206\" y1=\"192.9375\" y2=\"192.9375\"/></a><!--MD5=[ebbe1d658d1005bcc118a6aa81145e00]\n",
       "class E4--><a href=\"psysml:45188152-89ae-47db-8fae-185a328aceea\" target=\"_top\" title=\"psysml:45188152-89ae-47db-8fae-185a328aceea\" xlink:actuate=\"onRequest\" xlink:href=\"psysml:45188152-89ae-47db-8fae-185a328aceea\" xlink:show=\"new\" xlink:title=\"psysml:45188152-89ae-47db-8fae-185a328aceea\" xlink:type=\"simple\"><rect fill=\"#FFFFFF\" height=\"45.9375\" id=\"E4\" style=\"stroke: #383838; stroke-width: 1.5;\" width=\"99\" x=\"258.5\" y=\"41\"/><text fill=\"#000000\" font-family=\"sans-serif\" font-size=\"12\" font-style=\"italic\" lengthAdjust=\"spacingAndGlyphs\" textLength=\"97\" x=\"259.5\" y=\"57.1387\">«attribute  def»</text><text fill=\"#000000\" font-family=\"sans-serif\" font-size=\"12\" lengthAdjust=\"spacingAndGlyphs\" textLength=\"8\" x=\"304\" y=\"71.1074\">B</text><line style=\"stroke: #383838; stroke-width: 1.5;\" x1=\"259.5\" x2=\"356.5\" y1=\"78.9375\" y2=\"78.9375\"/></a><!--MD5=[270fce915f116d4de14055a7c1d9a0f3]\n",
       "class E5--><a href=\"psysml:e8a966fa-6247-410c-94c4-6750afcc6da8\" target=\"_top\" title=\"psysml:e8a966fa-6247-410c-94c4-6750afcc6da8\" xlink:actuate=\"onRequest\" xlink:href=\"psysml:e8a966fa-6247-410c-94c4-6750afcc6da8\" xlink:show=\"new\" xlink:title=\"psysml:e8a966fa-6247-410c-94c4-6750afcc6da8\" xlink:type=\"simple\"><rect fill=\"#FFFFFF\" height=\"45.9375\" id=\"E5\" style=\"stroke: #383838; stroke-width: 1.5;\" width=\"70\" x=\"319\" y=\"155\"/><text fill=\"#000000\" font-family=\"sans-serif\" font-size=\"12\" font-style=\"italic\" lengthAdjust=\"spacingAndGlyphs\" textLength=\"68\" x=\"320\" y=\"171.1387\">«part  def»</text><text fill=\"#000000\" font-family=\"sans-serif\" font-size=\"12\" font-style=\"italic\" lengthAdjust=\"spacingAndGlyphs\" textLength=\"8\" x=\"350\" y=\"185.1074\">V</text><line style=\"stroke: #383838; stroke-width: 1.5;\" x1=\"320\" x2=\"388\" y1=\"192.9375\" y2=\"192.9375\"/></a><!--MD5=[60a26617385b1d2d0262a64233df1f8d]\n",
       "class E6--><a href=\"psysml:10060237-19c5-40dc-a73e-8cb7e4953e81\" target=\"_top\" title=\"psysml:10060237-19c5-40dc-a73e-8cb7e4953e81\" xlink:actuate=\"onRequest\" xlink:href=\"psysml:10060237-19c5-40dc-a73e-8cb7e4953e81\" xlink:show=\"new\" xlink:title=\"psysml:10060237-19c5-40dc-a73e-8cb7e4953e81\" xlink:type=\"simple\"><rect fill=\"#FFFFFF\" height=\"88.3516\" id=\"E6\" rx=\"10\" ry=\"10\" style=\"stroke: #383838; stroke-width: 1.5;\" width=\"63\" x=\"312.5\" y=\"285\"/><text fill=\"#000000\" font-family=\"sans-serif\" font-size=\"12\" font-style=\"italic\" lengthAdjust=\"spacingAndGlyphs\" textLength=\"40\" x=\"324\" y=\"301.1387\">«part»</text><text fill=\"#000000\" font-family=\"sans-serif\" font-size=\"12\" lengthAdjust=\"spacingAndGlyphs\" textLength=\"23\" x=\"330.5\" y=\"315.1074\">x: Q</text><line style=\"stroke: #383838; stroke-width: 1.5;\" x1=\"313.5\" x2=\"374.5\" y1=\"322.9375\" y2=\"322.9375\"/><text fill=\"#000000\" font-family=\"sans-serif\" font-size=\"11\" lengthAdjust=\"spacingAndGlyphs\" textLength=\"23\" x=\"318.5\" y=\"353.9526\">b: B</text><text fill=\"#000000\" font-family=\"sans-serif\" font-size=\"11\" font-style=\"italic\" lengthAdjust=\"spacingAndGlyphs\" textLength=\"44\" x=\"318.5\" y=\"366.7573\">:&gt;&gt;P::a</text><line style=\"stroke: #383838; stroke-width: 1.0;\" x1=\"313.5\" x2=\"316.5\" y1=\"337.3398\" y2=\"337.3398\"/><text fill=\"#000000\" font-family=\"sans-serif\" font-size=\"11\" lengthAdjust=\"spacingAndGlyphs\" textLength=\"55\" x=\"316.5\" y=\"340.6479\">attributes</text><line style=\"stroke: #383838; stroke-width: 1.0;\" x1=\"371.5\" x2=\"374.5\" y1=\"337.3398\" y2=\"337.3398\"/></a><!--MD5=[2156ba9850f5573cc1fc38a6a4b2f02b]\n",
       "class E7--><a href=\"psysml:070ce293-3e12-454f-ad5b-be257c39d672\" target=\"_top\" title=\"psysml:070ce293-3e12-454f-ad5b-be257c39d672\" xlink:actuate=\"onRequest\" xlink:href=\"psysml:070ce293-3e12-454f-ad5b-be257c39d672\" xlink:show=\"new\" xlink:title=\"psysml:070ce293-3e12-454f-ad5b-be257c39d672\" xlink:type=\"simple\"><rect fill=\"#FFFFFF\" height=\"45.9375\" id=\"E7\" rx=\"10\" ry=\"10\" style=\"stroke: #383838; stroke-width: 1.5;\" width=\"42\" x=\"151\" y=\"41\"/><text fill=\"#000000\" font-family=\"sans-serif\" font-size=\"12\" font-style=\"italic\" lengthAdjust=\"spacingAndGlyphs\" textLength=\"40\" x=\"152\" y=\"57.1387\">«part»</text><text fill=\"#000000\" font-family=\"sans-serif\" font-size=\"12\" lengthAdjust=\"spacingAndGlyphs\" textLength=\"25\" x=\"157.5\" y=\"71.1074\">q: Q</text><line style=\"stroke: #383838; stroke-width: 1.5;\" x1=\"152\" x2=\"192\" y1=\"78.9375\" y2=\"78.9375\"/></a><!--MD5=[b9389687b975829384b498ac4b7476b2]\n",
       "class E8--><a href=\"psysml:3367482b-ff59-4bbe-a9dc-fe1b4a2ad697\" target=\"_top\" title=\"psysml:3367482b-ff59-4bbe-a9dc-fe1b4a2ad697\" xlink:actuate=\"onRequest\" xlink:href=\"psysml:3367482b-ff59-4bbe-a9dc-fe1b4a2ad697\" xlink:show=\"new\" xlink:title=\"psysml:3367482b-ff59-4bbe-a9dc-fe1b4a2ad697\" xlink:type=\"simple\"><rect fill=\"#FFFFFF\" height=\"59.9063\" id=\"E8\" rx=\"10\" ry=\"10\" style=\"stroke: #383838; stroke-width: 1.5;\" width=\"70\" x=\"32\" y=\"148\"/><text fill=\"#000000\" font-family=\"sans-serif\" font-size=\"12\" font-style=\"italic\" lengthAdjust=\"spacingAndGlyphs\" textLength=\"68\" x=\"33\" y=\"164.1387\">«variation»</text><text fill=\"#000000\" font-family=\"sans-serif\" font-size=\"12\" font-style=\"italic\" lengthAdjust=\"spacingAndGlyphs\" textLength=\"40\" x=\"47\" y=\"178.1074\">«part»</text><text fill=\"#000000\" font-family=\"sans-serif\" font-size=\"12\" font-style=\"italic\" lengthAdjust=\"spacingAndGlyphs\" textLength=\"6\" x=\"54\" y=\"192.0762\">v</text><text fill=\"#000000\" font-family=\"sans-serif\" font-size=\"12\" lengthAdjust=\"spacingAndGlyphs\" textLength=\"16\" x=\"60\" y=\"192.0762\">: P</text><line style=\"stroke: #383838; stroke-width: 1.5;\" x1=\"33\" x2=\"101\" y1=\"199.9063\" y2=\"199.9063\"/></a><!--MD5=[fd4143e9d270a159db93a4ea2a975926]\n",
       "class E9--><a href=\"psysml:80fa5ea3-437e-4eec-9e3d-5d2e24e12c28\" target=\"_top\" title=\"psysml:80fa5ea3-437e-4eec-9e3d-5d2e24e12c28\" xlink:actuate=\"onRequest\" xlink:href=\"psysml:80fa5ea3-437e-4eec-9e3d-5d2e24e12c28\" xlink:show=\"new\" xlink:title=\"psysml:80fa5ea3-437e-4eec-9e3d-5d2e24e12c28\" xlink:type=\"simple\"><rect fill=\"#FFFFFF\" height=\"88.3516\" id=\"E9\" rx=\"10\" ry=\"10\" style=\"stroke: #383838; stroke-width: 1.5;\" width=\"139\" x=\"32.5\" y=\"285\"/><text fill=\"#000000\" font-family=\"sans-serif\" font-size=\"12\" font-style=\"italic\" lengthAdjust=\"spacingAndGlyphs\" textLength=\"75\" x=\"64.5\" y=\"301.1387\">«reference»</text><text fill=\"#000000\" font-family=\"sans-serif\" font-size=\"12\" lengthAdjust=\"spacingAndGlyphs\" textLength=\"133\" x=\"35.5\" y=\"315.1074\">q :&gt; VariabilityTest::q</text><line style=\"stroke: #383838; stroke-width: 1.5;\" x1=\"33.5\" x2=\"170.5\" y1=\"322.9375\" y2=\"322.9375\"/><text fill=\"#000000\" font-family=\"sans-serif\" font-size=\"11\" lengthAdjust=\"spacingAndGlyphs\" textLength=\"23\" x=\"38.5\" y=\"353.9526\">b: B</text><text fill=\"#000000\" font-family=\"sans-serif\" font-size=\"11\" font-style=\"italic\" lengthAdjust=\"spacingAndGlyphs\" textLength=\"44\" x=\"38.5\" y=\"366.7573\">:&gt;&gt;P::a</text><line style=\"stroke: #383838; stroke-width: 1.0;\" x1=\"33.5\" x2=\"74.5\" y1=\"337.3398\" y2=\"337.3398\"/><text fill=\"#000000\" font-family=\"sans-serif\" font-size=\"11\" lengthAdjust=\"spacingAndGlyphs\" textLength=\"55\" x=\"74.5\" y=\"340.6479\">attributes</text><line style=\"stroke: #383838; stroke-width: 1.0;\" x1=\"129.5\" x2=\"170.5\" y1=\"337.3398\" y2=\"337.3398\"/></a><!--MD5=[96f4274e9e20536e775497830990834d]\n",
       "class E10--><a href=\"psysml:48eaa747-84b8-4879-8d6b-33c104c23f89\" target=\"_top\" title=\"psysml:48eaa747-84b8-4879-8d6b-33c104c23f89\" xlink:actuate=\"onRequest\" xlink:href=\"psysml:48eaa747-84b8-4879-8d6b-33c104c23f89\" xlink:show=\"new\" xlink:title=\"psysml:48eaa747-84b8-4879-8d6b-33c104c23f89\" xlink:type=\"simple\"><rect fill=\"#FFFFFF\" height=\"45.9375\" id=\"E10\" rx=\"10\" ry=\"10\" style=\"stroke: #383838; stroke-width: 1.5;\" width=\"42\" x=\"242\" y=\"155\"/><text fill=\"#000000\" font-family=\"sans-serif\" font-size=\"12\" font-style=\"italic\" lengthAdjust=\"spacingAndGlyphs\" textLength=\"40\" x=\"243\" y=\"171.1387\">«part»</text><text fill=\"#000000\" font-family=\"sans-serif\" font-size=\"12\" lengthAdjust=\"spacingAndGlyphs\" textLength=\"22\" x=\"250\" y=\"185.1074\">y: P</text><line style=\"stroke: #383838; stroke-width: 1.5;\" x1=\"243\" x2=\"283\" y1=\"192.9375\" y2=\"192.9375\"/></a><!--MD5=[05d275557350bfb9b23a4ef7222b4c39]\n",
       "link E3 to E2--><a href=\"psysml:8fca0815-a461-4953-83e8-63ed8c86de29\" target=\"_top\" title=\"psysml:8fca0815-a461-4953-83e8-63ed8c86de29\" xlink:actuate=\"onRequest\" xlink:href=\"psysml:8fca0815-a461-4953-83e8-63ed8c86de29\" xlink:show=\"new\" xlink:title=\"psysml:8fca0815-a461-4953-83e8-63ed8c86de29\" xlink:type=\"simple\"><path d=\"M182.48,201.31 C191.32,220.13 204.37,247.89 215.99,272.64 \" fill=\"none\" id=\"E3-&gt;E2\" style=\"stroke: #383838; stroke-width: 1.0;\"/><polygon fill=\"none\" points=\"222.34,269.69,224.51,290.77,209.67,275.64,222.34,269.69\" style=\"stroke: #383838; stroke-width: 1.0;\"/></a><!--MD5=[15ebcb19ae302d9b601edb458606d402]\n",
       "link E5 to E2--><a href=\"psysml:80d735d5-abd9-4df4-b941-a11b60e81c18\" target=\"_top\" title=\"psysml:80d735d5-abd9-4df4-b941-a11b60e81c18\" xlink:actuate=\"onRequest\" xlink:href=\"psysml:80d735d5-abd9-4df4-b941-a11b60e81c18\" xlink:show=\"new\" xlink:title=\"psysml:80d735d5-abd9-4df4-b941-a11b60e81c18\" xlink:type=\"simple\"><path d=\"M337.23,201.31 C322.73,220.59 301.19,249.26 282.25,274.45 \" fill=\"none\" id=\"E5-&gt;E2\" style=\"stroke: #383838; stroke-width: 1.0;\"/><polygon fill=\"none\" points=\"287.6,278.99,269.99,290.77,276.41,270.57,287.6,278.99\" style=\"stroke: #383838; stroke-width: 1.0;\"/></a><!--MD5=[9120cf2e5df3bff93db8f754bbbc09b4]\n",
       "link E5 to E6--><a href=\"psysml:bbf94ce0-8140-4269-b805-c97e9315d509\" target=\"_top\" title=\"psysml:bbf94ce0-8140-4269-b805-c97e9315d509\" xlink:actuate=\"onRequest\" xlink:href=\"psysml:bbf94ce0-8140-4269-b805-c97e9315d509\" xlink:show=\"new\" xlink:title=\"psysml:bbf94ce0-8140-4269-b805-c97e9315d509\" xlink:type=\"simple\"><path d=\"M351.82,211.55 C350.58,230.03 348.99,253.61 347.58,274.71 \" fill=\"none\" id=\"E5-E6\" style=\"stroke: #383838; stroke-width: 1.0;\"/><polygon fill=\"#383838\" points=\"346.9,284.84,350.4299,277.0593,344.4435,276.6568,346.9,284.84\" style=\"stroke: #383838; stroke-width: 1.0;\"/><path d=\"M343.8553,203.8139 A9,9 0 0 0 360.7317 204.9486\" fill=\"none\" style=\"stroke: #383838; stroke-width: 1.5;\"/><text fill=\"#000000\" font-family=\"sans-serif\" font-size=\"13\" lengthAdjust=\"spacingAndGlyphs\" textLength=\"60\" x=\"350\" y=\"251.0669\">«variant»</text></a><!--MD5=[14ccda38c055a5c0da953d572bc50960]\n",
       "link E7 to E3--><a href=\"psysml:1a218306-3ccb-4021-8143-a6b7222dd125\" target=\"_top\" title=\"psysml:1a218306-3ccb-4021-8143-a6b7222dd125\" xlink:actuate=\"onRequest\" xlink:href=\"psysml:1a218306-3ccb-4021-8143-a6b7222dd125\" xlink:show=\"new\" xlink:title=\"psysml:1a218306-3ccb-4021-8143-a6b7222dd125\" xlink:type=\"simple\"><path d=\"M172,87.13 C172,100.7 172,118.53 172,134.73 \" fill=\"none\" id=\"E7-&gt;E3\" style=\"stroke: #383838; stroke-width: 1.0;\"/><polygon fill=\"#FFFFFF\" points=\"172,154.92,165,135.92,179,135.92,172,154.92\" style=\"stroke: #383838; stroke-width: 1.0;\"/><ellipse cx=\"167\" cy=\"130.22\" fill=\"#383838\" rx=\"2\" ry=\"2\" style=\"stroke: #383838; stroke-width: 1.0;\"/><ellipse cx=\"177\" cy=\"130.22\" fill=\"#383838\" rx=\"2\" ry=\"2\" style=\"stroke: #383838; stroke-width: 1.0;\"/></a><!--MD5=[f1f3f9f2fc535e6147756cb86a7f2e32]\n",
       "link E8 to E2--><a href=\"psysml:0a07ead6-b6a6-4f86-92cb-b01532aad754\" target=\"_top\" title=\"psysml:0a07ead6-b6a6-4f86-92cb-b01532aad754\" xlink:actuate=\"onRequest\" xlink:href=\"psysml:0a07ead6-b6a6-4f86-92cb-b01532aad754\" xlink:show=\"new\" xlink:title=\"psysml:0a07ead6-b6a6-4f86-92cb-b01532aad754\" xlink:type=\"simple\"><path d=\"M102.03,200.45 C118.37,211.04 137.76,224.42 154,238 C167.86,249.58 181.94,263.07 194.66,276.02 \" fill=\"none\" id=\"E8-&gt;E2\" style=\"stroke: #383838; stroke-width: 1.0;\"/><polygon fill=\"#FFFFFF\" points=\"208.87,290.84,190.6693,281.9667,200.7765,272.2794,208.87,290.84\" style=\"stroke: #383838; stroke-width: 1.0;\"/><ellipse cx=\"188.1691\" cy=\"276.4678\" fill=\"#383838\" rx=\"2\" ry=\"2\" style=\"stroke: #383838; stroke-width: 1.0;\"/><ellipse cx=\"195.3885\" cy=\"269.5482\" fill=\"#383838\" rx=\"2\" ry=\"2\" style=\"stroke: #383838; stroke-width: 1.0;\"/></a><!--MD5=[ed10624c06dd9a4fa49ccf290e8b16a8]\n",
       "link E8 to E9--><a href=\"psysml:95cf767c-bf38-4d44-8a21-82e4671e1c7d\" target=\"_top\" title=\"psysml:95cf767c-bf38-4d44-8a21-82e4671e1c7d\" xlink:actuate=\"onRequest\" xlink:href=\"psysml:95cf767c-bf38-4d44-8a21-82e4671e1c7d\" xlink:show=\"new\" xlink:title=\"psysml:95cf767c-bf38-4d44-8a21-82e4671e1c7d\" xlink:type=\"simple\"><path d=\"M76.17,218.04 C80.26,235.44 85.14,256.2 89.55,274.98 \" fill=\"none\" id=\"E8-E9\" style=\"stroke: #383838; stroke-width: 1.0;\"/><polygon fill=\"#383838\" points=\"91.87,284.88,92.9607,276.4059,87.1198,277.7782,91.87,284.88\" style=\"stroke: #383838; stroke-width: 1.0;\"/><path d=\"M66.2994,213.0085 A9,9 0 0 0 82.7667 209.1452\" fill=\"none\" style=\"stroke: #383838; stroke-width: 1.5;\"/><text fill=\"#000000\" font-family=\"sans-serif\" font-size=\"13\" lengthAdjust=\"spacingAndGlyphs\" textLength=\"60\" x=\"85\" y=\"251.0669\">«variant»</text></a><!--MD5=[0f36bececdf0dff6e600d6f64214b0f1]\n",
       "link E10 to E2--><a href=\"psysml:6b6ac884-9cd9-45a3-8497-3c127dcfd472\" target=\"_top\" title=\"psysml:6b6ac884-9cd9-45a3-8497-3c127dcfd472\" xlink:actuate=\"onRequest\" xlink:href=\"psysml:6b6ac884-9cd9-45a3-8497-3c127dcfd472\" xlink:show=\"new\" xlink:title=\"psysml:6b6ac884-9cd9-45a3-8497-3c127dcfd472\" xlink:type=\"simple\"><path d=\"M259.86,201.31 C257.27,219.67 253.48,246.54 250.06,270.81 \" fill=\"none\" id=\"E10-&gt;E2\" style=\"stroke: #383838; stroke-width: 1.0;\"/><polygon fill=\"#FFFFFF\" points=\"247.25,290.77,242.9654,270.9801,256.8288,272.9305,247.25,290.77\" style=\"stroke: #383838; stroke-width: 1.0;\"/><ellipse cx=\"245.74\" cy=\"265.6143\" fill=\"#383838\" rx=\"2\" ry=\"2\" style=\"stroke: #383838; stroke-width: 1.0;\"/><ellipse cx=\"255.6425\" cy=\"267.0075\" fill=\"#383838\" rx=\"2\" ry=\"2\" style=\"stroke: #383838; stroke-width: 1.0;\"/></a><!--MD5=[1ee723892f44495287589306287d4fed]\n",
       "@startuml\r\n",
       "skinparam monochrome true\r\n",
       "skinparam classbackgroundcolor white\r\n",
       "skinparam shadowing false\r\n",
       "skinparam wrapWidth 300\r\n",
       "hide circle\r\n",
       "\r\n",
       "package \"VariabilityTest\" as E1  [[psysml:54c28c65-c036-409b-a9ca-8f60ef8eadfb ]]  {\r\n",
       "comp def \"P\" as E2  <<(T,blue) part  def>> [[psysml:82cb16a2-9eb2-4cce-bbbe-e1592c7acc8b ]] {\r\n",
       "- - attributes - -\r\n",
       "a\r\n",
       "}\r\n",
       "comp def \"Q\" as E3  <<(T,blue) part  def>> [[psysml:2ef5dada-a649-4c80-bc3f-904ca5914f5d ]] {\r\n",
       "}\r\n",
       "comp def \"B\" as E4  <<(T,blue) attribute  def>> [[psysml:45188152-89ae-47db-8fae-185a328aceea ]] {\r\n",
       "}\r\n",
       "comp def \"<i>V</i>\" as E5  <<(T,blue) part  def>> [[psysml:e8a966fa-6247-410c-94c4-6750afcc6da8 ]] {\r\n",
       "}\r\n",
       "comp usage \"x: Q \" as E6  <<(T,blue) part>> [[psysml:10060237-19c5-40dc-a73e-8cb7e4953e81 ]] {\r\n",
       "- - attributes - -\r\n",
       "b: B\\n//:>>P::a// \r\n",
       "}\r\n",
       "comp usage \"q: Q \" as E7  <<(T,blue) part>> [[psysml:070ce293-3e12-454f-ad5b-be257c39d672 ]] {\r\n",
       "}\r\n",
       "comp usage \"<i>v</i>: P \" as E8  <<variation>>\\n <<(T,blue) part>> [[psysml:3367482b-ff59-4bbe-a9dc-fe1b4a2ad697 ]] {\r\n",
       "}\r\n",
       "comp usage \"q :> VariabilityTest::q\" as E9  <<(T,blue) reference>> [[psysml:80fa5ea3-437e-4eec-9e3d-5d2e24e12c28 ]] {\r\n",
       "- - attributes - -\r\n",
       "b: B\\n//:>>P::a// \r\n",
       "}\r\n",
       "comp usage \"y: P \" as E10  <<(T,blue) part>> [[psysml:48eaa747-84b8-4879-8d6b-33c104c23f89 ]] {\r\n",
       "}\r\n",
       "}\r\n",
       "E3 - -|> E2 [[psysml:8fca0815-a461-4953-83e8-63ed8c86de29 ]] \r\n",
       "E5 - -|> E2 [[psysml:80d735d5-abd9-4df4-b941-a11b60e81c18 ]] \r\n",
       "E5 )- ->> E6 [[psysml:bbf94ce0-8140-4269-b805-c97e9315d509 ]] : <<variant>>\r\n",
       "E7 - -:|> E3 [[psysml:1a218306-3ccb-4021-8143-a6b7222dd125 ]] \r\n",
       "E8 - -:|> E2 [[psysml:0a07ead6-b6a6-4f86-92cb-b01532aad754 ]] \r\n",
       "E8 )- ->> E9 [[psysml:95cf767c-bf38-4d44-8a21-82e4671e1c7d ]] : <<variant>>\r\n",
       "E10 - -:|> E2 [[psysml:6b6ac884-9cd9-45a3-8497-3c127dcfd472 ]] \r\n",
       "@enduml\r\n",
       "\n",
       "PlantUML version 1.2020.13(Sat Jun 13 12:26:38 UTC 2020)\n",
       "(EPL source distribution)\n",
       "Java Runtime: OpenJDK Runtime Environment\n",
       "JVM: OpenJDK 64-Bit Server VM\n",
       "Default Encoding: UTF-8\n",
       "Language: en\n",
       "Country: null\n",
       "--></g></svg>"
      ]
     },
     "execution_count": 37,
     "metadata": {},
     "output_type": "execute_result"
    }
   ],
   "source": [
    "%viz --style=\"DEFAULT\" --view=\"Default\" \"VariabilityTest\""
   ]
  },
  {
   "cell_type": "code",
   "execution_count": 38,
   "id": "4adc2535",
   "metadata": {
    "execution": {
     "iopub.execute_input": "2021-10-25T08:21:44.575178Z",
     "iopub.status.busy": "2021-10-25T08:21:44.574760Z",
     "iopub.status.idle": "2021-10-25T08:21:44.645906Z",
     "shell.execute_reply": "2021-10-25T08:21:44.645531Z"
    }
   },
   "outputs": [
    {
     "data": {
      "image/svg+xml": [
       "<?xml version=\"1.0\" encoding=\"UTF-8\" standalone=\"no\"?><svg xmlns=\"http://www.w3.org/2000/svg\" xmlns:xlink=\"http://www.w3.org/1999/xlink\" contentScriptType=\"application/ecmascript\" contentStyleType=\"text/css\" height=\"401px\" preserveAspectRatio=\"none\" style=\"width:427px;height:401px;\" version=\"1.1\" viewBox=\"0 0 427 401\" width=\"427px\" zoomAndPan=\"magnify\"><defs/><g><!--MD5=[fbc87193dbaf4d95561dea2c320d4a47]\n",
       "cluster E1--><a href=\"psysml:54c28c65-c036-409b-a9ca-8f60ef8eadfb\" target=\"_top\" title=\"psysml:54c28c65-c036-409b-a9ca-8f60ef8eadfb\" xlink:actuate=\"onRequest\" xlink:href=\"psysml:54c28c65-c036-409b-a9ca-8f60ef8eadfb\" xlink:show=\"new\" xlink:title=\"psysml:54c28c65-c036-409b-a9ca-8f60ef8eadfb\" xlink:type=\"simple\"><polygon fill=\"#FFFFFF\" points=\"16,6,116,6,123,28.2969,405,28.2969,405,389,16,389,16,6\" style=\"stroke: #000000; stroke-width: 1.5;\"/><line style=\"stroke: #000000; stroke-width: 1.5;\" x1=\"16\" x2=\"123\" y1=\"28.2969\" y2=\"28.2969\"/><text fill=\"#000000\" font-family=\"sans-serif\" font-size=\"14\" font-weight=\"bold\" lengthAdjust=\"spacingAndGlyphs\" textLength=\"94\" x=\"20\" y=\"20.9951\">VariabilityTest</text></a><!--MD5=[b4997ac47864f28c2f74865a473b2911]\n",
       "class E2--><a href=\"psysml:82cb16a2-9eb2-4cce-bbbe-e1592c7acc8b\" target=\"_top\" title=\"psysml:82cb16a2-9eb2-4cce-bbbe-e1592c7acc8b\" xlink:actuate=\"onRequest\" xlink:href=\"psysml:82cb16a2-9eb2-4cce-bbbe-e1592c7acc8b\" xlink:show=\"new\" xlink:title=\"psysml:82cb16a2-9eb2-4cce-bbbe-e1592c7acc8b\" xlink:type=\"simple\"><rect fill=\"#FFFFFF\" height=\"75.5469\" id=\"E2\" style=\"stroke: #383838; stroke-width: 1.5;\" width=\"70\" x=\"207\" y=\"291\"/><text fill=\"#000000\" font-family=\"sans-serif\" font-size=\"12\" font-style=\"italic\" lengthAdjust=\"spacingAndGlyphs\" textLength=\"68\" x=\"208\" y=\"307.1387\">«part  def»</text><text fill=\"#000000\" font-family=\"sans-serif\" font-size=\"12\" lengthAdjust=\"spacingAndGlyphs\" textLength=\"8\" x=\"238\" y=\"321.1074\">P</text><line style=\"stroke: #383838; stroke-width: 1.5;\" x1=\"208\" x2=\"276\" y1=\"328.9375\" y2=\"328.9375\"/><text fill=\"#000000\" font-family=\"sans-serif\" font-size=\"11\" lengthAdjust=\"spacingAndGlyphs\" textLength=\"7\" x=\"213\" y=\"359.9526\">a</text><line style=\"stroke: #383838; stroke-width: 1.0;\" x1=\"208\" x2=\"214.5\" y1=\"343.3398\" y2=\"343.3398\"/><text fill=\"#000000\" font-family=\"sans-serif\" font-size=\"11\" lengthAdjust=\"spacingAndGlyphs\" textLength=\"55\" x=\"214.5\" y=\"346.6479\">attributes</text><line style=\"stroke: #383838; stroke-width: 1.0;\" x1=\"269.5\" x2=\"276\" y1=\"343.3398\" y2=\"343.3398\"/></a><!--MD5=[09b614a08d8cba4a07c9adeb5e0fee81]\n",
       "class E3--><a href=\"psysml:2ef5dada-a649-4c80-bc3f-904ca5914f5d\" target=\"_top\" title=\"psysml:2ef5dada-a649-4c80-bc3f-904ca5914f5d\" xlink:actuate=\"onRequest\" xlink:href=\"psysml:2ef5dada-a649-4c80-bc3f-904ca5914f5d\" xlink:show=\"new\" xlink:title=\"psysml:2ef5dada-a649-4c80-bc3f-904ca5914f5d\" xlink:type=\"simple\"><rect fill=\"#FFFFFF\" height=\"45.9375\" id=\"E3\" style=\"stroke: #383838; stroke-width: 1.5;\" width=\"70\" x=\"137\" y=\"155\"/><text fill=\"#000000\" font-family=\"sans-serif\" font-size=\"12\" font-style=\"italic\" lengthAdjust=\"spacingAndGlyphs\" textLength=\"68\" x=\"138\" y=\"171.1387\">«part  def»</text><text fill=\"#000000\" font-family=\"sans-serif\" font-size=\"12\" lengthAdjust=\"spacingAndGlyphs\" textLength=\"9\" x=\"167.5\" y=\"185.1074\">Q</text><line style=\"stroke: #383838; stroke-width: 1.5;\" x1=\"138\" x2=\"206\" y1=\"192.9375\" y2=\"192.9375\"/></a><!--MD5=[ebbe1d658d1005bcc118a6aa81145e00]\n",
       "class E4--><a href=\"psysml:45188152-89ae-47db-8fae-185a328aceea\" target=\"_top\" title=\"psysml:45188152-89ae-47db-8fae-185a328aceea\" xlink:actuate=\"onRequest\" xlink:href=\"psysml:45188152-89ae-47db-8fae-185a328aceea\" xlink:show=\"new\" xlink:title=\"psysml:45188152-89ae-47db-8fae-185a328aceea\" xlink:type=\"simple\"><rect fill=\"#FFFFFF\" height=\"45.9375\" id=\"E4\" style=\"stroke: #383838; stroke-width: 1.5;\" width=\"99\" x=\"258.5\" y=\"41\"/><text fill=\"#000000\" font-family=\"sans-serif\" font-size=\"12\" font-style=\"italic\" lengthAdjust=\"spacingAndGlyphs\" textLength=\"97\" x=\"259.5\" y=\"57.1387\">«attribute  def»</text><text fill=\"#000000\" font-family=\"sans-serif\" font-size=\"12\" lengthAdjust=\"spacingAndGlyphs\" textLength=\"8\" x=\"304\" y=\"71.1074\">B</text><line style=\"stroke: #383838; stroke-width: 1.5;\" x1=\"259.5\" x2=\"356.5\" y1=\"78.9375\" y2=\"78.9375\"/></a><!--MD5=[270fce915f116d4de14055a7c1d9a0f3]\n",
       "class E5--><a href=\"psysml:e8a966fa-6247-410c-94c4-6750afcc6da8\" target=\"_top\" title=\"psysml:e8a966fa-6247-410c-94c4-6750afcc6da8\" xlink:actuate=\"onRequest\" xlink:href=\"psysml:e8a966fa-6247-410c-94c4-6750afcc6da8\" xlink:show=\"new\" xlink:title=\"psysml:e8a966fa-6247-410c-94c4-6750afcc6da8\" xlink:type=\"simple\"><rect fill=\"#FFFFFF\" height=\"45.9375\" id=\"E5\" style=\"stroke: #383838; stroke-width: 1.5;\" width=\"70\" x=\"319\" y=\"155\"/><text fill=\"#000000\" font-family=\"sans-serif\" font-size=\"12\" font-style=\"italic\" lengthAdjust=\"spacingAndGlyphs\" textLength=\"68\" x=\"320\" y=\"171.1387\">«part  def»</text><text fill=\"#000000\" font-family=\"sans-serif\" font-size=\"12\" font-style=\"italic\" lengthAdjust=\"spacingAndGlyphs\" textLength=\"8\" x=\"350\" y=\"185.1074\">V</text><line style=\"stroke: #383838; stroke-width: 1.5;\" x1=\"320\" x2=\"388\" y1=\"192.9375\" y2=\"192.9375\"/></a><!--MD5=[60a26617385b1d2d0262a64233df1f8d]\n",
       "class E6--><a href=\"psysml:10060237-19c5-40dc-a73e-8cb7e4953e81\" target=\"_top\" title=\"psysml:10060237-19c5-40dc-a73e-8cb7e4953e81\" xlink:actuate=\"onRequest\" xlink:href=\"psysml:10060237-19c5-40dc-a73e-8cb7e4953e81\" xlink:show=\"new\" xlink:title=\"psysml:10060237-19c5-40dc-a73e-8cb7e4953e81\" xlink:type=\"simple\"><rect fill=\"#FFFFFF\" height=\"88.3516\" id=\"E6\" rx=\"10\" ry=\"10\" style=\"stroke: #383838; stroke-width: 1.5;\" width=\"63\" x=\"312.5\" y=\"285\"/><text fill=\"#000000\" font-family=\"sans-serif\" font-size=\"12\" font-style=\"italic\" lengthAdjust=\"spacingAndGlyphs\" textLength=\"40\" x=\"324\" y=\"301.1387\">«part»</text><text fill=\"#000000\" font-family=\"sans-serif\" font-size=\"12\" lengthAdjust=\"spacingAndGlyphs\" textLength=\"23\" x=\"330.5\" y=\"315.1074\">x: Q</text><line style=\"stroke: #383838; stroke-width: 1.5;\" x1=\"313.5\" x2=\"374.5\" y1=\"322.9375\" y2=\"322.9375\"/><text fill=\"#000000\" font-family=\"sans-serif\" font-size=\"11\" lengthAdjust=\"spacingAndGlyphs\" textLength=\"23\" x=\"318.5\" y=\"353.9526\">b: B</text><text fill=\"#000000\" font-family=\"sans-serif\" font-size=\"11\" font-style=\"italic\" lengthAdjust=\"spacingAndGlyphs\" textLength=\"44\" x=\"318.5\" y=\"366.7573\">:&gt;&gt;P::a</text><line style=\"stroke: #383838; stroke-width: 1.0;\" x1=\"313.5\" x2=\"316.5\" y1=\"337.3398\" y2=\"337.3398\"/><text fill=\"#000000\" font-family=\"sans-serif\" font-size=\"11\" lengthAdjust=\"spacingAndGlyphs\" textLength=\"55\" x=\"316.5\" y=\"340.6479\">attributes</text><line style=\"stroke: #383838; stroke-width: 1.0;\" x1=\"371.5\" x2=\"374.5\" y1=\"337.3398\" y2=\"337.3398\"/></a><!--MD5=[2156ba9850f5573cc1fc38a6a4b2f02b]\n",
       "class E7--><a href=\"psysml:070ce293-3e12-454f-ad5b-be257c39d672\" target=\"_top\" title=\"psysml:070ce293-3e12-454f-ad5b-be257c39d672\" xlink:actuate=\"onRequest\" xlink:href=\"psysml:070ce293-3e12-454f-ad5b-be257c39d672\" xlink:show=\"new\" xlink:title=\"psysml:070ce293-3e12-454f-ad5b-be257c39d672\" xlink:type=\"simple\"><rect fill=\"#FFFFFF\" height=\"45.9375\" id=\"E7\" rx=\"10\" ry=\"10\" style=\"stroke: #383838; stroke-width: 1.5;\" width=\"42\" x=\"151\" y=\"41\"/><text fill=\"#000000\" font-family=\"sans-serif\" font-size=\"12\" font-style=\"italic\" lengthAdjust=\"spacingAndGlyphs\" textLength=\"40\" x=\"152\" y=\"57.1387\">«part»</text><text fill=\"#000000\" font-family=\"sans-serif\" font-size=\"12\" lengthAdjust=\"spacingAndGlyphs\" textLength=\"25\" x=\"157.5\" y=\"71.1074\">q: Q</text><line style=\"stroke: #383838; stroke-width: 1.5;\" x1=\"152\" x2=\"192\" y1=\"78.9375\" y2=\"78.9375\"/></a><!--MD5=[b9389687b975829384b498ac4b7476b2]\n",
       "class E8--><a href=\"psysml:3367482b-ff59-4bbe-a9dc-fe1b4a2ad697\" target=\"_top\" title=\"psysml:3367482b-ff59-4bbe-a9dc-fe1b4a2ad697\" xlink:actuate=\"onRequest\" xlink:href=\"psysml:3367482b-ff59-4bbe-a9dc-fe1b4a2ad697\" xlink:show=\"new\" xlink:title=\"psysml:3367482b-ff59-4bbe-a9dc-fe1b4a2ad697\" xlink:type=\"simple\"><rect fill=\"#FFFFFF\" height=\"59.9063\" id=\"E8\" rx=\"10\" ry=\"10\" style=\"stroke: #383838; stroke-width: 1.5;\" width=\"70\" x=\"32\" y=\"148\"/><text fill=\"#000000\" font-family=\"sans-serif\" font-size=\"12\" font-style=\"italic\" lengthAdjust=\"spacingAndGlyphs\" textLength=\"68\" x=\"33\" y=\"164.1387\">«variation»</text><text fill=\"#000000\" font-family=\"sans-serif\" font-size=\"12\" font-style=\"italic\" lengthAdjust=\"spacingAndGlyphs\" textLength=\"40\" x=\"47\" y=\"178.1074\">«part»</text><text fill=\"#000000\" font-family=\"sans-serif\" font-size=\"12\" font-style=\"italic\" lengthAdjust=\"spacingAndGlyphs\" textLength=\"6\" x=\"54\" y=\"192.0762\">v</text><text fill=\"#000000\" font-family=\"sans-serif\" font-size=\"12\" lengthAdjust=\"spacingAndGlyphs\" textLength=\"16\" x=\"60\" y=\"192.0762\">: P</text><line style=\"stroke: #383838; stroke-width: 1.5;\" x1=\"33\" x2=\"101\" y1=\"199.9063\" y2=\"199.9063\"/></a><!--MD5=[fd4143e9d270a159db93a4ea2a975926]\n",
       "class E9--><a href=\"psysml:80fa5ea3-437e-4eec-9e3d-5d2e24e12c28\" target=\"_top\" title=\"psysml:80fa5ea3-437e-4eec-9e3d-5d2e24e12c28\" xlink:actuate=\"onRequest\" xlink:href=\"psysml:80fa5ea3-437e-4eec-9e3d-5d2e24e12c28\" xlink:show=\"new\" xlink:title=\"psysml:80fa5ea3-437e-4eec-9e3d-5d2e24e12c28\" xlink:type=\"simple\"><rect fill=\"#FFFFFF\" height=\"88.3516\" id=\"E9\" rx=\"10\" ry=\"10\" style=\"stroke: #383838; stroke-width: 1.5;\" width=\"139\" x=\"32.5\" y=\"285\"/><text fill=\"#000000\" font-family=\"sans-serif\" font-size=\"12\" font-style=\"italic\" lengthAdjust=\"spacingAndGlyphs\" textLength=\"75\" x=\"64.5\" y=\"301.1387\">«reference»</text><text fill=\"#000000\" font-family=\"sans-serif\" font-size=\"12\" lengthAdjust=\"spacingAndGlyphs\" textLength=\"133\" x=\"35.5\" y=\"315.1074\">q :&gt; VariabilityTest::q</text><line style=\"stroke: #383838; stroke-width: 1.5;\" x1=\"33.5\" x2=\"170.5\" y1=\"322.9375\" y2=\"322.9375\"/><text fill=\"#000000\" font-family=\"sans-serif\" font-size=\"11\" lengthAdjust=\"spacingAndGlyphs\" textLength=\"23\" x=\"38.5\" y=\"353.9526\">b: B</text><text fill=\"#000000\" font-family=\"sans-serif\" font-size=\"11\" font-style=\"italic\" lengthAdjust=\"spacingAndGlyphs\" textLength=\"44\" x=\"38.5\" y=\"366.7573\">:&gt;&gt;P::a</text><line style=\"stroke: #383838; stroke-width: 1.0;\" x1=\"33.5\" x2=\"74.5\" y1=\"337.3398\" y2=\"337.3398\"/><text fill=\"#000000\" font-family=\"sans-serif\" font-size=\"11\" lengthAdjust=\"spacingAndGlyphs\" textLength=\"55\" x=\"74.5\" y=\"340.6479\">attributes</text><line style=\"stroke: #383838; stroke-width: 1.0;\" x1=\"129.5\" x2=\"170.5\" y1=\"337.3398\" y2=\"337.3398\"/></a><!--MD5=[96f4274e9e20536e775497830990834d]\n",
       "class E10--><a href=\"psysml:48eaa747-84b8-4879-8d6b-33c104c23f89\" target=\"_top\" title=\"psysml:48eaa747-84b8-4879-8d6b-33c104c23f89\" xlink:actuate=\"onRequest\" xlink:href=\"psysml:48eaa747-84b8-4879-8d6b-33c104c23f89\" xlink:show=\"new\" xlink:title=\"psysml:48eaa747-84b8-4879-8d6b-33c104c23f89\" xlink:type=\"simple\"><rect fill=\"#FFFFFF\" height=\"45.9375\" id=\"E10\" rx=\"10\" ry=\"10\" style=\"stroke: #383838; stroke-width: 1.5;\" width=\"42\" x=\"242\" y=\"155\"/><text fill=\"#000000\" font-family=\"sans-serif\" font-size=\"12\" font-style=\"italic\" lengthAdjust=\"spacingAndGlyphs\" textLength=\"40\" x=\"243\" y=\"171.1387\">«part»</text><text fill=\"#000000\" font-family=\"sans-serif\" font-size=\"12\" lengthAdjust=\"spacingAndGlyphs\" textLength=\"22\" x=\"250\" y=\"185.1074\">y: P</text><line style=\"stroke: #383838; stroke-width: 1.5;\" x1=\"243\" x2=\"283\" y1=\"192.9375\" y2=\"192.9375\"/></a><!--MD5=[05d275557350bfb9b23a4ef7222b4c39]\n",
       "link E3 to E2--><a href=\"psysml:8fca0815-a461-4953-83e8-63ed8c86de29\" target=\"_top\" title=\"psysml:8fca0815-a461-4953-83e8-63ed8c86de29\" xlink:actuate=\"onRequest\" xlink:href=\"psysml:8fca0815-a461-4953-83e8-63ed8c86de29\" xlink:show=\"new\" xlink:title=\"psysml:8fca0815-a461-4953-83e8-63ed8c86de29\" xlink:type=\"simple\"><path d=\"M182.48,201.31 C191.32,220.13 204.37,247.89 215.99,272.64 \" fill=\"none\" id=\"E3-&gt;E2\" style=\"stroke: #383838; stroke-width: 1.0;\"/><polygon fill=\"none\" points=\"222.34,269.69,224.51,290.77,209.67,275.64,222.34,269.69\" style=\"stroke: #383838; stroke-width: 1.0;\"/></a><!--MD5=[15ebcb19ae302d9b601edb458606d402]\n",
       "link E5 to E2--><a href=\"psysml:80d735d5-abd9-4df4-b941-a11b60e81c18\" target=\"_top\" title=\"psysml:80d735d5-abd9-4df4-b941-a11b60e81c18\" xlink:actuate=\"onRequest\" xlink:href=\"psysml:80d735d5-abd9-4df4-b941-a11b60e81c18\" xlink:show=\"new\" xlink:title=\"psysml:80d735d5-abd9-4df4-b941-a11b60e81c18\" xlink:type=\"simple\"><path d=\"M337.23,201.31 C322.73,220.59 301.19,249.26 282.25,274.45 \" fill=\"none\" id=\"E5-&gt;E2\" style=\"stroke: #383838; stroke-width: 1.0;\"/><polygon fill=\"none\" points=\"287.6,278.99,269.99,290.77,276.41,270.57,287.6,278.99\" style=\"stroke: #383838; stroke-width: 1.0;\"/></a><!--MD5=[9120cf2e5df3bff93db8f754bbbc09b4]\n",
       "link E5 to E6--><a href=\"psysml:bbf94ce0-8140-4269-b805-c97e9315d509\" target=\"_top\" title=\"psysml:bbf94ce0-8140-4269-b805-c97e9315d509\" xlink:actuate=\"onRequest\" xlink:href=\"psysml:bbf94ce0-8140-4269-b805-c97e9315d509\" xlink:show=\"new\" xlink:title=\"psysml:bbf94ce0-8140-4269-b805-c97e9315d509\" xlink:type=\"simple\"><path d=\"M351.82,211.55 C350.58,230.03 348.99,253.61 347.58,274.71 \" fill=\"none\" id=\"E5-E6\" style=\"stroke: #383838; stroke-width: 1.0;\"/><polygon fill=\"#383838\" points=\"346.9,284.84,350.4299,277.0593,344.4435,276.6568,346.9,284.84\" style=\"stroke: #383838; stroke-width: 1.0;\"/><path d=\"M343.8553,203.8139 A9,9 0 0 0 360.7317 204.9486\" fill=\"none\" style=\"stroke: #383838; stroke-width: 1.5;\"/><text fill=\"#000000\" font-family=\"sans-serif\" font-size=\"13\" lengthAdjust=\"spacingAndGlyphs\" textLength=\"60\" x=\"350\" y=\"251.0669\">«variant»</text></a><!--MD5=[14ccda38c055a5c0da953d572bc50960]\n",
       "link E7 to E3--><a href=\"psysml:1a218306-3ccb-4021-8143-a6b7222dd125\" target=\"_top\" title=\"psysml:1a218306-3ccb-4021-8143-a6b7222dd125\" xlink:actuate=\"onRequest\" xlink:href=\"psysml:1a218306-3ccb-4021-8143-a6b7222dd125\" xlink:show=\"new\" xlink:title=\"psysml:1a218306-3ccb-4021-8143-a6b7222dd125\" xlink:type=\"simple\"><path d=\"M172,87.13 C172,100.7 172,118.53 172,134.73 \" fill=\"none\" id=\"E7-&gt;E3\" style=\"stroke: #383838; stroke-width: 1.0;\"/><polygon fill=\"#FFFFFF\" points=\"172,154.92,165,135.92,179,135.92,172,154.92\" style=\"stroke: #383838; stroke-width: 1.0;\"/><ellipse cx=\"167\" cy=\"130.22\" fill=\"#383838\" rx=\"2\" ry=\"2\" style=\"stroke: #383838; stroke-width: 1.0;\"/><ellipse cx=\"177\" cy=\"130.22\" fill=\"#383838\" rx=\"2\" ry=\"2\" style=\"stroke: #383838; stroke-width: 1.0;\"/></a><!--MD5=[f1f3f9f2fc535e6147756cb86a7f2e32]\n",
       "link E8 to E2--><a href=\"psysml:0a07ead6-b6a6-4f86-92cb-b01532aad754\" target=\"_top\" title=\"psysml:0a07ead6-b6a6-4f86-92cb-b01532aad754\" xlink:actuate=\"onRequest\" xlink:href=\"psysml:0a07ead6-b6a6-4f86-92cb-b01532aad754\" xlink:show=\"new\" xlink:title=\"psysml:0a07ead6-b6a6-4f86-92cb-b01532aad754\" xlink:type=\"simple\"><path d=\"M102.03,200.45 C118.37,211.04 137.76,224.42 154,238 C167.86,249.58 181.94,263.07 194.66,276.02 \" fill=\"none\" id=\"E8-&gt;E2\" style=\"stroke: #383838; stroke-width: 1.0;\"/><polygon fill=\"#FFFFFF\" points=\"208.87,290.84,190.6693,281.9667,200.7765,272.2794,208.87,290.84\" style=\"stroke: #383838; stroke-width: 1.0;\"/><ellipse cx=\"188.1691\" cy=\"276.4678\" fill=\"#383838\" rx=\"2\" ry=\"2\" style=\"stroke: #383838; stroke-width: 1.0;\"/><ellipse cx=\"195.3885\" cy=\"269.5482\" fill=\"#383838\" rx=\"2\" ry=\"2\" style=\"stroke: #383838; stroke-width: 1.0;\"/></a><!--MD5=[ed10624c06dd9a4fa49ccf290e8b16a8]\n",
       "link E8 to E9--><a href=\"psysml:95cf767c-bf38-4d44-8a21-82e4671e1c7d\" target=\"_top\" title=\"psysml:95cf767c-bf38-4d44-8a21-82e4671e1c7d\" xlink:actuate=\"onRequest\" xlink:href=\"psysml:95cf767c-bf38-4d44-8a21-82e4671e1c7d\" xlink:show=\"new\" xlink:title=\"psysml:95cf767c-bf38-4d44-8a21-82e4671e1c7d\" xlink:type=\"simple\"><path d=\"M76.17,218.04 C80.26,235.44 85.14,256.2 89.55,274.98 \" fill=\"none\" id=\"E8-E9\" style=\"stroke: #383838; stroke-width: 1.0;\"/><polygon fill=\"#383838\" points=\"91.87,284.88,92.9607,276.4059,87.1198,277.7782,91.87,284.88\" style=\"stroke: #383838; stroke-width: 1.0;\"/><path d=\"M66.2994,213.0085 A9,9 0 0 0 82.7667 209.1452\" fill=\"none\" style=\"stroke: #383838; stroke-width: 1.5;\"/><text fill=\"#000000\" font-family=\"sans-serif\" font-size=\"13\" lengthAdjust=\"spacingAndGlyphs\" textLength=\"60\" x=\"85\" y=\"251.0669\">«variant»</text></a><!--MD5=[0f36bececdf0dff6e600d6f64214b0f1]\n",
       "link E10 to E2--><a href=\"psysml:6b6ac884-9cd9-45a3-8497-3c127dcfd472\" target=\"_top\" title=\"psysml:6b6ac884-9cd9-45a3-8497-3c127dcfd472\" xlink:actuate=\"onRequest\" xlink:href=\"psysml:6b6ac884-9cd9-45a3-8497-3c127dcfd472\" xlink:show=\"new\" xlink:title=\"psysml:6b6ac884-9cd9-45a3-8497-3c127dcfd472\" xlink:type=\"simple\"><path d=\"M259.86,201.31 C257.27,219.67 253.48,246.54 250.06,270.81 \" fill=\"none\" id=\"E10-&gt;E2\" style=\"stroke: #383838; stroke-width: 1.0;\"/><polygon fill=\"#FFFFFF\" points=\"247.25,290.77,242.9654,270.9801,256.8288,272.9305,247.25,290.77\" style=\"stroke: #383838; stroke-width: 1.0;\"/><ellipse cx=\"245.74\" cy=\"265.6143\" fill=\"#383838\" rx=\"2\" ry=\"2\" style=\"stroke: #383838; stroke-width: 1.0;\"/><ellipse cx=\"255.6425\" cy=\"267.0075\" fill=\"#383838\" rx=\"2\" ry=\"2\" style=\"stroke: #383838; stroke-width: 1.0;\"/></a><!--MD5=[1ee723892f44495287589306287d4fed]\n",
       "@startuml\r\n",
       "skinparam monochrome true\r\n",
       "skinparam classbackgroundcolor white\r\n",
       "skinparam shadowing false\r\n",
       "skinparam wrapWidth 300\r\n",
       "hide circle\r\n",
       "\r\n",
       "package \"VariabilityTest\" as E1  [[psysml:54c28c65-c036-409b-a9ca-8f60ef8eadfb ]]  {\r\n",
       "comp def \"P\" as E2  <<(T,blue) part  def>> [[psysml:82cb16a2-9eb2-4cce-bbbe-e1592c7acc8b ]] {\r\n",
       "- - attributes - -\r\n",
       "a\r\n",
       "}\r\n",
       "comp def \"Q\" as E3  <<(T,blue) part  def>> [[psysml:2ef5dada-a649-4c80-bc3f-904ca5914f5d ]] {\r\n",
       "}\r\n",
       "comp def \"B\" as E4  <<(T,blue) attribute  def>> [[psysml:45188152-89ae-47db-8fae-185a328aceea ]] {\r\n",
       "}\r\n",
       "comp def \"<i>V</i>\" as E5  <<(T,blue) part  def>> [[psysml:e8a966fa-6247-410c-94c4-6750afcc6da8 ]] {\r\n",
       "}\r\n",
       "comp usage \"x: Q \" as E6  <<(T,blue) part>> [[psysml:10060237-19c5-40dc-a73e-8cb7e4953e81 ]] {\r\n",
       "- - attributes - -\r\n",
       "b: B\\n//:>>P::a// \r\n",
       "}\r\n",
       "comp usage \"q: Q \" as E7  <<(T,blue) part>> [[psysml:070ce293-3e12-454f-ad5b-be257c39d672 ]] {\r\n",
       "}\r\n",
       "comp usage \"<i>v</i>: P \" as E8  <<variation>>\\n <<(T,blue) part>> [[psysml:3367482b-ff59-4bbe-a9dc-fe1b4a2ad697 ]] {\r\n",
       "}\r\n",
       "comp usage \"q :> VariabilityTest::q\" as E9  <<(T,blue) reference>> [[psysml:80fa5ea3-437e-4eec-9e3d-5d2e24e12c28 ]] {\r\n",
       "- - attributes - -\r\n",
       "b: B\\n//:>>P::a// \r\n",
       "}\r\n",
       "comp usage \"y: P \" as E10  <<(T,blue) part>> [[psysml:48eaa747-84b8-4879-8d6b-33c104c23f89 ]] {\r\n",
       "}\r\n",
       "}\r\n",
       "E3 - -|> E2 [[psysml:8fca0815-a461-4953-83e8-63ed8c86de29 ]] \r\n",
       "E5 - -|> E2 [[psysml:80d735d5-abd9-4df4-b941-a11b60e81c18 ]] \r\n",
       "E5 )- ->> E6 [[psysml:bbf94ce0-8140-4269-b805-c97e9315d509 ]] : <<variant>>\r\n",
       "E7 - -:|> E3 [[psysml:1a218306-3ccb-4021-8143-a6b7222dd125 ]] \r\n",
       "E8 - -:|> E2 [[psysml:0a07ead6-b6a6-4f86-92cb-b01532aad754 ]] \r\n",
       "E8 )- ->> E9 [[psysml:95cf767c-bf38-4d44-8a21-82e4671e1c7d ]] : <<variant>>\r\n",
       "E10 - -:|> E2 [[psysml:6b6ac884-9cd9-45a3-8497-3c127dcfd472 ]] \r\n",
       "@enduml\r\n",
       "\n",
       "PlantUML version 1.2020.13(Sat Jun 13 12:26:38 UTC 2020)\n",
       "(EPL source distribution)\n",
       "Java Runtime: OpenJDK Runtime Environment\n",
       "JVM: OpenJDK 64-Bit Server VM\n",
       "Default Encoding: UTF-8\n",
       "Language: en\n",
       "Country: null\n",
       "--></g></svg>"
      ]
     },
     "execution_count": 38,
     "metadata": {},
     "output_type": "execute_result"
    }
   ],
   "source": [
    "%viz --style=\"DEFAULT\" --view=\"Tree\" \"VariabilityTest\""
   ]
  },
  {
   "cell_type": "code",
   "execution_count": 39,
   "id": "e6529d6a",
   "metadata": {
    "execution": {
     "iopub.execute_input": "2021-10-25T08:21:44.694896Z",
     "iopub.status.busy": "2021-10-25T08:21:44.694475Z",
     "iopub.status.idle": "2021-10-25T08:21:44.698535Z",
     "shell.execute_reply": "2021-10-25T08:21:44.698169Z"
    }
   },
   "outputs": [
    {
     "data": {
      "image/svg+xml": [
       "<?xml version=\"1.0\" encoding=\"UTF-8\" standalone=\"no\"?><svg xmlns=\"http://www.w3.org/2000/svg\" xmlns:xlink=\"http://www.w3.org/1999/xlink\" contentScriptType=\"application/ecmascript\" contentStyleType=\"text/css\" height=\"12px\" preserveAspectRatio=\"none\" style=\"width:12px;height:12px;\" version=\"1.1\" viewBox=\"0 0 12 12\" width=\"12px\" zoomAndPan=\"magnify\"><defs/><g><!--MD5=[c5f280e076d0d61ccf4b0f27871bda1d]\n",
       "@startuml\r\n",
       "skinparam monochrome true\r\n",
       "skinparam classbackgroundcolor white\r\n",
       "skinparam shadowing false\r\n",
       "skinparam wrapWidth 300\r\n",
       "hide circle\r\n",
       "\r\n",
       "@enduml\r\n",
       "\n",
       "PlantUML version 1.2020.13(Sat Jun 13 12:26:38 UTC 2020)\n",
       "(EPL source distribution)\n",
       "Java Runtime: OpenJDK Runtime Environment\n",
       "JVM: OpenJDK 64-Bit Server VM\n",
       "Default Encoding: UTF-8\n",
       "Language: en\n",
       "Country: null\n",
       "--></g></svg>"
      ]
     },
     "execution_count": 39,
     "metadata": {},
     "output_type": "execute_result"
    }
   ],
   "source": [
    "%viz --style=\"DEFAULT\" --view=\"State\" \"VariabilityTest\""
   ]
  },
  {
   "cell_type": "code",
   "execution_count": 40,
   "id": "8e0d0181",
   "metadata": {
    "execution": {
     "iopub.execute_input": "2021-10-25T08:21:44.747683Z",
     "iopub.status.busy": "2021-10-25T08:21:44.747133Z",
     "iopub.status.idle": "2021-10-25T08:21:44.818777Z",
     "shell.execute_reply": "2021-10-25T08:21:44.816880Z"
    }
   },
   "outputs": [
    {
     "data": {
      "image/svg+xml": [
       "<?xml version=\"1.0\" encoding=\"UTF-8\" standalone=\"no\"?><svg xmlns=\"http://www.w3.org/2000/svg\" xmlns:xlink=\"http://www.w3.org/1999/xlink\" contentScriptType=\"application/ecmascript\" contentStyleType=\"text/css\" height=\"427px\" preserveAspectRatio=\"none\" style=\"width:853px;height:427px;\" version=\"1.1\" viewBox=\"0 0 853 427\" width=\"853px\" zoomAndPan=\"magnify\"><defs/><g><!--MD5=[fbc87193dbaf4d95561dea2c320d4a47]\n",
       "cluster E1--><a href=\"psysml:54c28c65-c036-409b-a9ca-8f60ef8eadfb\" target=\"_top\" title=\"psysml:54c28c65-c036-409b-a9ca-8f60ef8eadfb\" xlink:actuate=\"onRequest\" xlink:href=\"psysml:54c28c65-c036-409b-a9ca-8f60ef8eadfb\" xlink:show=\"new\" xlink:title=\"psysml:54c28c65-c036-409b-a9ca-8f60ef8eadfb\" xlink:type=\"simple\"><polygon fill=\"#FFFFFF\" points=\"16,6,116,6,123,28.2969,831,28.2969,831,415,16,415,16,6\" style=\"stroke: #000000; stroke-width: 1.5;\"/><line style=\"stroke: #000000; stroke-width: 1.5;\" x1=\"16\" x2=\"123\" y1=\"28.2969\" y2=\"28.2969\"/><text fill=\"#000000\" font-family=\"sans-serif\" font-size=\"14\" font-weight=\"bold\" lengthAdjust=\"spacingAndGlyphs\" textLength=\"94\" x=\"20\" y=\"20.9951\">VariabilityTest</text></a><!--MD5=[e4f7fae6ed58524ba242bb0b0d3be6b7]\n",
       "cluster E2--><a href=\"psysml:82cb16a2-9eb2-4cce-bbbe-e1592c7acc8b\" target=\"_top\" title=\"psysml:82cb16a2-9eb2-4cce-bbbe-e1592c7acc8b\" xlink:actuate=\"onRequest\" xlink:href=\"psysml:82cb16a2-9eb2-4cce-bbbe-e1592c7acc8b\" xlink:show=\"new\" xlink:title=\"psysml:82cb16a2-9eb2-4cce-bbbe-e1592c7acc8b\" xlink:type=\"simple\"><rect fill=\"#FFFFFF\" height=\"129\" id=\"E2\" style=\"stroke: #383838; stroke-width: 1.5;\" width=\"139\" x=\"460\" y=\"254\"/><rect fill=\"#F8F8F8\" height=\"37.9375\" style=\"stroke: #383838; stroke-width: 1.5;\" width=\"139\" x=\"460\" y=\"254\"/><text fill=\"#000000\" font-family=\"sans-serif\" font-size=\"12\" font-style=\"italic\" lengthAdjust=\"spacingAndGlyphs\" textLength=\"68\" x=\"495.5\" y=\"270.1387\">«part  def»</text><text fill=\"#000000\" font-family=\"sans-serif\" font-size=\"12\" lengthAdjust=\"spacingAndGlyphs\" textLength=\"8\" x=\"525.5\" y=\"284.1074\">P</text></a><!--MD5=[14e3b0961a2654348d326746436168a1]\n",
       "cluster E6--><a href=\"psysml:e8a966fa-6247-410c-94c4-6750afcc6da8\" target=\"_top\" title=\"psysml:e8a966fa-6247-410c-94c4-6750afcc6da8\" xlink:actuate=\"onRequest\" xlink:href=\"psysml:e8a966fa-6247-410c-94c4-6750afcc6da8\" xlink:show=\"new\" xlink:title=\"psysml:e8a966fa-6247-410c-94c4-6750afcc6da8\" xlink:type=\"simple\"><rect fill=\"#FFFFFF\" height=\"157\" id=\"E6\" style=\"stroke: #383838; stroke-width: 1.5;\" width=\"131\" x=\"668\" y=\"57\"/><rect fill=\"#F8F8F8\" height=\"37.9375\" style=\"stroke: #383838; stroke-width: 1.5;\" width=\"131\" x=\"668\" y=\"57\"/><text fill=\"#000000\" font-family=\"sans-serif\" font-size=\"12\" font-style=\"italic\" lengthAdjust=\"spacingAndGlyphs\" textLength=\"68\" x=\"699.5\" y=\"73.1387\">«part  def»</text><text fill=\"#000000\" font-family=\"sans-serif\" font-size=\"12\" font-style=\"italic\" lengthAdjust=\"spacingAndGlyphs\" textLength=\"8\" x=\"729.5\" y=\"87.1074\">V</text></a><!--MD5=[7f149f147074ac12df2cb0a7728a5fb0]\n",
       "cluster E9--><a href=\"psysml:3367482b-ff59-4bbe-a9dc-fe1b4a2ad697\" target=\"_top\" title=\"psysml:3367482b-ff59-4bbe-a9dc-fe1b4a2ad697\" xlink:actuate=\"onRequest\" xlink:href=\"psysml:3367482b-ff59-4bbe-a9dc-fe1b4a2ad697\" xlink:show=\"new\" xlink:title=\"psysml:3367482b-ff59-4bbe-a9dc-fe1b4a2ad697\" xlink:type=\"simple\"><rect fill=\"#FFFFFF\" height=\"139\" id=\"E9\" rx=\"10\" ry=\"10\" style=\"stroke: #383838; stroke-width: 1.5;\" width=\"172\" x=\"464\" y=\"74\"/><rect fill=\"#F8F8F8\" height=\"23.9688\" rx=\"10\" ry=\"10\" style=\"stroke: #F8F8F8; stroke-width: 1.5;\" width=\"172\" x=\"464\" y=\"74\"/><rect fill=\"#F8F8F8\" height=\"10\" style=\"stroke: #F8F8F8; stroke-width: 1.5;\" width=\"172\" x=\"464\" y=\"87.9688\"/><rect fill=\"none\" height=\"139\" id=\"E9\" rx=\"10\" ry=\"10\" style=\"stroke: #383838; stroke-width: 1.5;\" width=\"172\" x=\"464\" y=\"74\"/><text fill=\"#000000\" font-family=\"sans-serif\" font-size=\"12\" lengthAdjust=\"spacingAndGlyphs\" textLength=\"22\" x=\"539\" y=\"90.1387\">v: P</text><line style=\"stroke: #383838; stroke-width: 1.0;\" x1=\"464\" x2=\"636\" y1=\"97.9688\" y2=\"97.9688\"/></a><g id=\"E1.E5\"><a href=\"psysml:45188152-89ae-47db-8fae-185a328aceea\" target=\"_top\" title=\"psysml:45188152-89ae-47db-8fae-185a328aceea\" xlink:actuate=\"onRequest\" xlink:href=\"psysml:45188152-89ae-47db-8fae-185a328aceea\" xlink:show=\"new\" xlink:title=\"psysml:45188152-89ae-47db-8fae-185a328aceea\" xlink:type=\"simple\"><rect fill=\"#FFFFFF\" height=\"42.9375\" id=\"E5\" style=\"stroke: #383838; stroke-width: 1.5;\" width=\"104\" x=\"341\" y=\"131.5\"/><rect fill=\"#F8F8F8\" height=\"37.9375\" style=\"stroke: #383838; stroke-width: 1.5;\" width=\"104\" x=\"341\" y=\"131.5\"/><text fill=\"#000000\" font-family=\"sans-serif\" font-size=\"12\" font-style=\"italic\" lengthAdjust=\"spacingAndGlyphs\" textLength=\"97\" x=\"344.5\" y=\"147.6387\">«attribute  def»</text><text fill=\"#000000\" font-family=\"sans-serif\" font-size=\"12\" lengthAdjust=\"spacingAndGlyphs\" textLength=\"8\" x=\"389\" y=\"161.6074\">B</text></a></g><!--MD5=[09b614a08d8cba4a07c9adeb5e0fee81]\n",
       "class E3--><a href=\"psysml:b3756095-16bb-4cb1-b9cb-a9f1f269c560\" target=\"_top\" title=\"psysml:b3756095-16bb-4cb1-b9cb-a9f1f269c560\" xlink:actuate=\"onRequest\" xlink:href=\"psysml:b3756095-16bb-4cb1-b9cb-a9f1f269c560\" xlink:show=\"new\" xlink:title=\"psysml:b3756095-16bb-4cb1-b9cb-a9f1f269c560\" xlink:type=\"simple\"><rect fill=\"#FFFFFF\" height=\"45.9375\" id=\"E3\" rx=\"10\" ry=\"10\" style=\"stroke: #383838; stroke-width: 1.5;\" width=\"71\" x=\"503.5\" y=\"313\"/><text fill=\"#000000\" font-family=\"sans-serif\" font-size=\"12\" font-style=\"italic\" lengthAdjust=\"spacingAndGlyphs\" textLength=\"69\" x=\"504.5\" y=\"329.1387\">«attribute»</text><text fill=\"#000000\" font-family=\"sans-serif\" font-size=\"12\" lengthAdjust=\"spacingAndGlyphs\" textLength=\"8\" x=\"535\" y=\"343.1074\">a</text><line style=\"stroke: #383838; stroke-width: 1.5;\" x1=\"504.5\" x2=\"573.5\" y1=\"350.9375\" y2=\"350.9375\"/></a><g id=\"E1.E4\"><a href=\"psysml:2ef5dada-a649-4c80-bc3f-904ca5914f5d\" target=\"_top\" title=\"psysml:2ef5dada-a649-4c80-bc3f-904ca5914f5d\" xlink:actuate=\"onRequest\" xlink:href=\"psysml:2ef5dada-a649-4c80-bc3f-904ca5914f5d\" xlink:show=\"new\" xlink:title=\"psysml:2ef5dada-a649-4c80-bc3f-904ca5914f5d\" xlink:type=\"simple\"><rect fill=\"#FFFFFF\" height=\"42.9375\" id=\"E4\" style=\"stroke: #383838; stroke-width: 1.5;\" width=\"75\" x=\"230.5\" y=\"131.5\"/><rect fill=\"#F8F8F8\" height=\"37.9375\" style=\"stroke: #383838; stroke-width: 1.5;\" width=\"75\" x=\"230.5\" y=\"131.5\"/><text fill=\"#000000\" font-family=\"sans-serif\" font-size=\"12\" font-style=\"italic\" lengthAdjust=\"spacingAndGlyphs\" textLength=\"68\" x=\"234\" y=\"147.6387\">«part  def»</text><text fill=\"#000000\" font-family=\"sans-serif\" font-size=\"12\" lengthAdjust=\"spacingAndGlyphs\" textLength=\"9\" x=\"263.5\" y=\"161.6074\">Q</text></a></g><!--MD5=[2156ba9850f5573cc1fc38a6a4b2f02b]\n",
       "class E7--><a href=\"psysml:10060237-19c5-40dc-a73e-8cb7e4953e81\" target=\"_top\" title=\"psysml:10060237-19c5-40dc-a73e-8cb7e4953e81\" xlink:actuate=\"onRequest\" xlink:href=\"psysml:10060237-19c5-40dc-a73e-8cb7e4953e81\" xlink:show=\"new\" xlink:title=\"psysml:10060237-19c5-40dc-a73e-8cb7e4953e81\" xlink:type=\"simple\"><rect fill=\"#FFFFFF\" height=\"74.3828\" id=\"E7\" rx=\"10\" ry=\"10\" style=\"stroke: #383838; stroke-width: 1.5;\" width=\"63\" x=\"711.5\" y=\"116\"/><text fill=\"#000000\" font-family=\"sans-serif\" font-size=\"12\" lengthAdjust=\"spacingAndGlyphs\" textLength=\"23\" x=\"729.5\" y=\"132.1387\">x: Q</text><line style=\"stroke: #383838; stroke-width: 1.5;\" x1=\"712.5\" x2=\"773.5\" y1=\"139.9688\" y2=\"139.9688\"/><text fill=\"#000000\" font-family=\"sans-serif\" font-size=\"11\" lengthAdjust=\"spacingAndGlyphs\" textLength=\"23\" x=\"717.5\" y=\"170.9839\">b: B</text><text fill=\"#000000\" font-family=\"sans-serif\" font-size=\"11\" font-style=\"italic\" lengthAdjust=\"spacingAndGlyphs\" textLength=\"44\" x=\"717.5\" y=\"183.7886\">:&gt;&gt;P::a</text><line style=\"stroke: #383838; stroke-width: 1.0;\" x1=\"712.5\" x2=\"715.5\" y1=\"154.3711\" y2=\"154.3711\"/><text fill=\"#000000\" font-family=\"sans-serif\" font-size=\"11\" lengthAdjust=\"spacingAndGlyphs\" textLength=\"55\" x=\"715.5\" y=\"157.6792\">attributes</text><line style=\"stroke: #383838; stroke-width: 1.0;\" x1=\"770.5\" x2=\"773.5\" y1=\"154.3711\" y2=\"154.3711\"/></a><g id=\"E1.E8\"><a href=\"psysml:070ce293-3e12-454f-ad5b-be257c39d672\" target=\"_top\" title=\"psysml:070ce293-3e12-454f-ad5b-be257c39d672\" xlink:actuate=\"onRequest\" xlink:href=\"psysml:070ce293-3e12-454f-ad5b-be257c39d672\" xlink:show=\"new\" xlink:title=\"psysml:070ce293-3e12-454f-ad5b-be257c39d672\" xlink:type=\"simple\"><rect fill=\"#FFFFFF\" height=\"40\" id=\"E8\" rx=\"10\" ry=\"10\" style=\"stroke: #383838; stroke-width: 1.5;\" width=\"50\" x=\"145\" y=\"133\"/><rect fill=\"#F8F8F8\" height=\"23.9688\" rx=\"10\" ry=\"10\" style=\"stroke: #F8F8F8; stroke-width: 1.5;\" width=\"50\" x=\"145\" y=\"133\"/><rect fill=\"#F8F8F8\" height=\"10\" style=\"stroke: #F8F8F8; stroke-width: 1.5;\" width=\"50\" x=\"145\" y=\"146.9688\"/><rect fill=\"none\" height=\"40\" id=\"E8\" rx=\"10\" ry=\"10\" style=\"stroke: #383838; stroke-width: 1.5;\" width=\"50\" x=\"145\" y=\"133\"/><text fill=\"#000000\" font-family=\"sans-serif\" font-size=\"12\" lengthAdjust=\"spacingAndGlyphs\" textLength=\"25\" x=\"157.5\" y=\"149.1387\">q: Q</text></a></g><!--MD5=[96f4274e9e20536e775497830990834d]\n",
       "class E10--><a href=\"psysml:80fa5ea3-437e-4eec-9e3d-5d2e24e12c28\" target=\"_top\" title=\"psysml:80fa5ea3-437e-4eec-9e3d-5d2e24e12c28\" xlink:actuate=\"onRequest\" xlink:href=\"psysml:80fa5ea3-437e-4eec-9e3d-5d2e24e12c28\" xlink:show=\"new\" xlink:title=\"psysml:80fa5ea3-437e-4eec-9e3d-5d2e24e12c28\" xlink:type=\"simple\"><rect fill=\"#FFFFFF\" height=\"88.3516\" id=\"E10\" rx=\"10\" ry=\"10\" style=\"stroke: #383838; stroke-width: 1.5;\" width=\"139\" x=\"480.5\" y=\"109\"/><text fill=\"#000000\" font-family=\"sans-serif\" font-size=\"12\" font-style=\"italic\" lengthAdjust=\"spacingAndGlyphs\" textLength=\"75\" x=\"512.5\" y=\"125.1387\">«reference»</text><text fill=\"#000000\" font-family=\"sans-serif\" font-size=\"12\" lengthAdjust=\"spacingAndGlyphs\" textLength=\"133\" x=\"483.5\" y=\"139.1074\">q :&gt; VariabilityTest::q</text><line style=\"stroke: #383838; stroke-width: 1.5;\" x1=\"481.5\" x2=\"618.5\" y1=\"146.9375\" y2=\"146.9375\"/><text fill=\"#000000\" font-family=\"sans-serif\" font-size=\"11\" lengthAdjust=\"spacingAndGlyphs\" textLength=\"23\" x=\"486.5\" y=\"177.9526\">b: B</text><text fill=\"#000000\" font-family=\"sans-serif\" font-size=\"11\" font-style=\"italic\" lengthAdjust=\"spacingAndGlyphs\" textLength=\"44\" x=\"486.5\" y=\"190.7573\">:&gt;&gt;P::a</text><line style=\"stroke: #383838; stroke-width: 1.0;\" x1=\"481.5\" x2=\"522.5\" y1=\"161.3398\" y2=\"161.3398\"/><text fill=\"#000000\" font-family=\"sans-serif\" font-size=\"11\" lengthAdjust=\"spacingAndGlyphs\" textLength=\"55\" x=\"522.5\" y=\"164.6479\">attributes</text><line style=\"stroke: #383838; stroke-width: 1.0;\" x1=\"577.5\" x2=\"618.5\" y1=\"161.3398\" y2=\"161.3398\"/></a><g id=\"E1.E11\"><a href=\"psysml:48eaa747-84b8-4879-8d6b-33c104c23f89\" target=\"_top\" title=\"psysml:48eaa747-84b8-4879-8d6b-33c104c23f89\" xlink:actuate=\"onRequest\" xlink:href=\"psysml:48eaa747-84b8-4879-8d6b-33c104c23f89\" xlink:show=\"new\" xlink:title=\"psysml:48eaa747-84b8-4879-8d6b-33c104c23f89\" xlink:type=\"simple\"><rect fill=\"#FFFFFF\" height=\"40\" id=\"E11\" rx=\"10\" ry=\"10\" style=\"stroke: #383838; stroke-width: 1.5;\" width=\"77\" x=\"32.5\" y=\"133\"/><rect fill=\"#F8F8F8\" height=\"23.9688\" rx=\"10\" ry=\"10\" style=\"stroke: #F8F8F8; stroke-width: 1.5;\" width=\"77\" x=\"32.5\" y=\"133\"/><rect fill=\"#F8F8F8\" height=\"10\" style=\"stroke: #F8F8F8; stroke-width: 1.5;\" width=\"77\" x=\"32.5\" y=\"146.9688\"/><rect fill=\"none\" height=\"40\" id=\"E11\" rx=\"10\" ry=\"10\" style=\"stroke: #383838; stroke-width: 1.5;\" width=\"77\" x=\"32.5\" y=\"133\"/><text fill=\"#000000\" font-family=\"sans-serif\" font-size=\"12\" lengthAdjust=\"spacingAndGlyphs\" textLength=\"62\" x=\"38\" y=\"149.1387\">y: P= v::q;</text></a></g><!--MD5=[185131fc0dcab0a4505a2ebe144e961b]\n",
       "link E4 to E2--><a href=\"psysml:8fca0815-a461-4953-83e8-63ed8c86de29\" target=\"_top\" title=\"psysml:8fca0815-a461-4953-83e8-63ed8c86de29\" xlink:actuate=\"onRequest\" xlink:href=\"psysml:8fca0815-a461-4953-83e8-63ed8c86de29\" xlink:show=\"new\" xlink:title=\"psysml:8fca0815-a461-4953-83e8-63ed8c86de29\" xlink:type=\"simple\"><path d=\"M280.74,174.69 C291.21,190.78 307.04,213.12 324,230 C351.635,257.5 386.95,283.365 415.6912,302.5425 C430.0619,312.1313 442.7891,320.0481 452.0911,325.6616 C454.4166,327.0649 456.528,328.3243 458.3976,329.4299 C458.8649,329.7063 459.3172,329.973 459.7539,330.2301 \" fill=\"none\" id=\"E4-&gt;E2\" style=\"stroke: #383838; stroke-width: 1.0;\"/><polygon fill=\"#FFFFFF\" points=\"459.7539,330.2301,446.9295,314.5605,439.8288,326.6261,459.7539,330.2301\" style=\"stroke: #383838; stroke-width: 1.0;\"/></a><!--MD5=[2351f337d6de0f557b50152ba70847b5]\n",
       "link E6 to E2--><a href=\"psysml:80d735d5-abd9-4df4-b941-a11b60e81c18\" target=\"_top\" title=\"psysml:80d735d5-abd9-4df4-b941-a11b60e81c18\" xlink:actuate=\"onRequest\" xlink:href=\"psysml:80d735d5-abd9-4df4-b941-a11b60e81c18\" xlink:show=\"new\" xlink:title=\"psysml:80d735d5-abd9-4df4-b941-a11b60e81c18\" xlink:type=\"simple\"><path d=\"M667.8947,184.6995 C667.8489,184.8242 667.8029,184.949 667.7566,185.0739 C667.6641,185.3237 667.5706,185.5741 667.4763,185.825 C661.435,201.8825 651.565,220.025 636,230 C608.08,247.89 512.03,216.25 487,238 C482.92,241.5463 479.5564,245.6884 476.7947,250.2262 C476.1043,251.3607 475.4514,252.5198 474.8345,253.7006 \" fill=\"none\" id=\"E6-&gt;E2\" style=\"stroke: #383838; stroke-width: 1.0;\"/><polygon fill=\"#FFFFFF\" points=\"474.8345,253.7006,489.8378,240.1028,477.4296,233.6191,474.8345,253.7006\" style=\"stroke: #383838; stroke-width: 1.0;\"/></a><!--MD5=[7f84a4096c782a5348037a96859fd725]\n",
       "@startuml\r\n",
       "skinparam ranksep 10\r\n",
       "skinparam rectangle {\r\n",
       " backgroundColor<<block>> LightGreen\r\n",
       "}\r\n",
       "skinparam monochrome true\r\n",
       "skinparam classbackgroundcolor white\r\n",
       "skinparam shadowing false\r\n",
       "skinparam wrapWidth 300\r\n",
       "hide circle\r\n",
       "\r\n",
       "package \"VariabilityTest\" as E1  [[psysml:54c28c65-c036-409b-a9ca-8f60ef8eadfb ]]  {\r\n",
       "rec def \"P\" as E2  <<(T,blue) part  def>> [[psysml:82cb16a2-9eb2-4cce-bbbe-e1592c7acc8b ]] {\r\n",
       "comp usage \"a\" as E3  <<(T,blue) attribute>> [[psysml:b3756095-16bb-4cb1-b9cb-a9f1f269c560 ]] {\r\n",
       "}\r\n",
       "}\r\n",
       "rec def \"Q\" as E4  <<(T,blue) part  def>> [[psysml:2ef5dada-a649-4c80-bc3f-904ca5914f5d ]] {\r\n",
       "}\r\n",
       "def \"B\" as E5  <<(T,blue) attribute  def>> [[psysml:45188152-89ae-47db-8fae-185a328aceea ]] \r\n",
       "rec def \"<i>V</i>\" as E6  <<(T,blue) part  def>> [[psysml:e8a966fa-6247-410c-94c4-6750afcc6da8 ]] {\r\n",
       "comp usage \"x: Q \" as E7  [[psysml:10060237-19c5-40dc-a73e-8cb7e4953e81 ]] {\r\n",
       "- - attributes - -\r\n",
       "b: B\\n//:>>P::a// \r\n",
       "}\r\n",
       "}\r\n",
       "rec usage \"q: Q\" as E8  [[psysml:070ce293-3e12-454f-ad5b-be257c39d672 ]] {\r\n",
       "}\r\n",
       "rec usage \"v: P\" as E9  [[psysml:3367482b-ff59-4bbe-a9dc-fe1b4a2ad697 ]] {\r\n",
       "comp usage \"q :> VariabilityTest::q\" as E10  <<(T,blue) reference>> [[psysml:80fa5ea3-437e-4eec-9e3d-5d2e24e12c28 ]] {\r\n",
       "- - attributes - -\r\n",
       "b: B\\n//:>>P::a// \r\n",
       "}\r\n",
       "}\r\n",
       "rec usage \"y: P= v::q; \" as E11  [[psysml:48eaa747-84b8-4879-8d6b-33c104c23f89 ]] {\r\n",
       "}\r\n",
       "}\r\n",
       "E4 - -|> E2 [[psysml:8fca0815-a461-4953-83e8-63ed8c86de29 ]] \r\n",
       "E6 - -|> E2 [[psysml:80d735d5-abd9-4df4-b941-a11b60e81c18 ]] \r\n",
       "@enduml\r\n",
       "\n",
       "PlantUML version 1.2020.13(Sat Jun 13 12:26:38 UTC 2020)\n",
       "(EPL source distribution)\n",
       "Java Runtime: OpenJDK Runtime Environment\n",
       "JVM: OpenJDK 64-Bit Server VM\n",
       "Default Encoding: UTF-8\n",
       "Language: en\n",
       "Country: null\n",
       "--></g></svg>"
      ]
     },
     "execution_count": 40,
     "metadata": {},
     "output_type": "execute_result"
    }
   ],
   "source": [
    "%viz --style=\"DEFAULT\" --view=\"Interconnection\" \"VariabilityTest\""
   ]
  },
  {
   "cell_type": "code",
   "execution_count": 41,
   "id": "ddd57617",
   "metadata": {
    "execution": {
     "iopub.execute_input": "2021-10-25T08:21:44.867857Z",
     "iopub.status.busy": "2021-10-25T08:21:44.867442Z",
     "iopub.status.idle": "2021-10-25T08:21:44.873471Z",
     "shell.execute_reply": "2021-10-25T08:21:44.873134Z"
    }
   },
   "outputs": [
    {
     "data": {
      "image/svg+xml": [
       "<?xml version=\"1.0\" encoding=\"UTF-8\" standalone=\"no\"?><svg xmlns=\"http://www.w3.org/2000/svg\" xmlns:xlink=\"http://www.w3.org/1999/xlink\" contentScriptType=\"application/ecmascript\" contentStyleType=\"text/css\" height=\"12px\" preserveAspectRatio=\"none\" style=\"width:12px;height:12px;\" version=\"1.1\" viewBox=\"0 0 12 12\" width=\"12px\" zoomAndPan=\"magnify\"><defs/><g><!--MD5=[388f21188e31bfdd97050473b19af356]\n",
       "@startuml\r\n",
       "skinparam ranksep 8\r\n",
       "skinparam monochrome true\r\n",
       "skinparam classbackgroundcolor white\r\n",
       "skinparam shadowing false\r\n",
       "skinparam wrapWidth 300\r\n",
       "hide circle\r\n",
       "\r\n",
       "@enduml\r\n",
       "\n",
       "PlantUML version 1.2020.13(Sat Jun 13 12:26:38 UTC 2020)\n",
       "(EPL source distribution)\n",
       "Java Runtime: OpenJDK Runtime Environment\n",
       "JVM: OpenJDK 64-Bit Server VM\n",
       "Default Encoding: UTF-8\n",
       "Language: en\n",
       "Country: null\n",
       "--></g></svg>"
      ]
     },
     "execution_count": 41,
     "metadata": {},
     "output_type": "execute_result"
    }
   ],
   "source": [
    "%viz --style=\"DEFAULT\" --view=\"Action\" \"VariabilityTest\""
   ]
  },
  {
   "cell_type": "code",
   "execution_count": 42,
   "id": "3a6f8bba",
   "metadata": {
    "execution": {
     "iopub.execute_input": "2021-10-25T08:21:44.922956Z",
     "iopub.status.busy": "2021-10-25T08:21:44.922545Z",
     "iopub.status.idle": "2021-10-25T08:21:44.928239Z",
     "shell.execute_reply": "2021-10-25T08:21:44.927904Z"
    }
   },
   "outputs": [
    {
     "data": {
      "image/svg+xml": [
       "<?xml version=\"1.0\" encoding=\"UTF-8\" standalone=\"no\"?><svg xmlns=\"http://www.w3.org/2000/svg\" xmlns:xlink=\"http://www.w3.org/1999/xlink\" contentScriptType=\"application/ecmascript\" contentStyleType=\"text/css\" height=\"12px\" preserveAspectRatio=\"none\" style=\"width:12px;height:12px;\" version=\"1.1\" viewBox=\"0 0 12 12\" width=\"12px\" zoomAndPan=\"magnify\"><defs/><g><!--MD5=[0b72472770326784bf6c2b53246e1e64]\n",
       "@startuml\r\n",
       "skinparam roundcorner 20\r\n",
       "skinparam BoxPadding 20\r\n",
       "skinparam SequenceBoxBackgroundColor #white\r\n",
       "skinparam style strictuml\r\n",
       "skinparam maxMessageSize 100\r\n",
       "skinparam monochrome true\r\n",
       "skinparam classbackgroundcolor white\r\n",
       "skinparam shadowing false\r\n",
       "skinparam wrapWidth 300\r\n",
       "hide circle\r\n",
       "\r\n",
       "@enduml\r\n",
       "\n",
       "PlantUML version 1.2020.13(Sat Jun 13 12:26:38 UTC 2020)\n",
       "(EPL source distribution)\n",
       "Java Runtime: OpenJDK Runtime Environment\n",
       "JVM: OpenJDK 64-Bit Server VM\n",
       "Default Encoding: UTF-8\n",
       "Language: en\n",
       "Country: null\n",
       "--></g></svg>"
      ]
     },
     "execution_count": 42,
     "metadata": {},
     "output_type": "execute_result"
    }
   ],
   "source": [
    "%viz --style=\"DEFAULT\" --view=\"Sequence\" \"VariabilityTest\""
   ]
  },
  {
   "cell_type": "code",
   "execution_count": 43,
   "id": "0c685c29",
   "metadata": {
    "execution": {
     "iopub.execute_input": "2021-10-25T08:21:44.977944Z",
     "iopub.status.busy": "2021-10-25T08:21:44.977534Z",
     "iopub.status.idle": "2021-10-25T08:21:45.060813Z",
     "shell.execute_reply": "2021-10-25T08:21:45.058865Z"
    }
   },
   "outputs": [
    {
     "data": {
      "image/svg+xml": [
       "<?xml version=\"1.0\" encoding=\"UTF-8\" standalone=\"no\"?><svg xmlns=\"http://www.w3.org/2000/svg\" xmlns:xlink=\"http://www.w3.org/1999/xlink\" contentScriptType=\"application/ecmascript\" contentStyleType=\"text/css\" height=\"401px\" preserveAspectRatio=\"none\" style=\"width:427px;height:401px;\" version=\"1.1\" viewBox=\"0 0 427 401\" width=\"427px\" zoomAndPan=\"magnify\"><defs/><g><!--MD5=[fbc87193dbaf4d95561dea2c320d4a47]\n",
       "cluster E1--><a href=\"psysml:54c28c65-c036-409b-a9ca-8f60ef8eadfb\" target=\"_top\" title=\"psysml:54c28c65-c036-409b-a9ca-8f60ef8eadfb\" xlink:actuate=\"onRequest\" xlink:href=\"psysml:54c28c65-c036-409b-a9ca-8f60ef8eadfb\" xlink:show=\"new\" xlink:title=\"psysml:54c28c65-c036-409b-a9ca-8f60ef8eadfb\" xlink:type=\"simple\"><polygon fill=\"#FFFFFF\" points=\"16,6,116,6,123,28.2969,405,28.2969,405,389,16,389,16,6\" style=\"stroke: #000000; stroke-width: 1.5;\"/><line style=\"stroke: #000000; stroke-width: 1.5;\" x1=\"16\" x2=\"123\" y1=\"28.2969\" y2=\"28.2969\"/><text fill=\"#000000\" font-family=\"sans-serif\" font-size=\"14\" font-weight=\"bold\" lengthAdjust=\"spacingAndGlyphs\" textLength=\"94\" x=\"20\" y=\"20.9951\">VariabilityTest</text></a><!--MD5=[b4997ac47864f28c2f74865a473b2911]\n",
       "class E2--><a href=\"psysml:82cb16a2-9eb2-4cce-bbbe-e1592c7acc8b\" target=\"_top\" title=\"psysml:82cb16a2-9eb2-4cce-bbbe-e1592c7acc8b\" xlink:actuate=\"onRequest\" xlink:href=\"psysml:82cb16a2-9eb2-4cce-bbbe-e1592c7acc8b\" xlink:show=\"new\" xlink:title=\"psysml:82cb16a2-9eb2-4cce-bbbe-e1592c7acc8b\" xlink:type=\"simple\"><rect fill=\"#FFFFFF\" height=\"75.5469\" id=\"E2\" style=\"stroke: #383838; stroke-width: 1.5;\" width=\"70\" x=\"207\" y=\"291\"/><text fill=\"#000000\" font-family=\"sans-serif\" font-size=\"12\" font-style=\"italic\" lengthAdjust=\"spacingAndGlyphs\" textLength=\"68\" x=\"208\" y=\"307.1387\">«part  def»</text><text fill=\"#000000\" font-family=\"sans-serif\" font-size=\"12\" lengthAdjust=\"spacingAndGlyphs\" textLength=\"8\" x=\"238\" y=\"321.1074\">P</text><line style=\"stroke: #383838; stroke-width: 1.5;\" x1=\"208\" x2=\"276\" y1=\"328.9375\" y2=\"328.9375\"/><text fill=\"#000000\" font-family=\"sans-serif\" font-size=\"11\" lengthAdjust=\"spacingAndGlyphs\" textLength=\"7\" x=\"213\" y=\"359.9526\">a</text><line style=\"stroke: #383838; stroke-width: 1.0;\" x1=\"208\" x2=\"214.5\" y1=\"343.3398\" y2=\"343.3398\"/><text fill=\"#000000\" font-family=\"sans-serif\" font-size=\"11\" lengthAdjust=\"spacingAndGlyphs\" textLength=\"55\" x=\"214.5\" y=\"346.6479\">attributes</text><line style=\"stroke: #383838; stroke-width: 1.0;\" x1=\"269.5\" x2=\"276\" y1=\"343.3398\" y2=\"343.3398\"/></a><!--MD5=[09b614a08d8cba4a07c9adeb5e0fee81]\n",
       "class E3--><a href=\"psysml:2ef5dada-a649-4c80-bc3f-904ca5914f5d\" target=\"_top\" title=\"psysml:2ef5dada-a649-4c80-bc3f-904ca5914f5d\" xlink:actuate=\"onRequest\" xlink:href=\"psysml:2ef5dada-a649-4c80-bc3f-904ca5914f5d\" xlink:show=\"new\" xlink:title=\"psysml:2ef5dada-a649-4c80-bc3f-904ca5914f5d\" xlink:type=\"simple\"><rect fill=\"#FFFFFF\" height=\"45.9375\" id=\"E3\" style=\"stroke: #383838; stroke-width: 1.5;\" width=\"70\" x=\"137\" y=\"155\"/><text fill=\"#000000\" font-family=\"sans-serif\" font-size=\"12\" font-style=\"italic\" lengthAdjust=\"spacingAndGlyphs\" textLength=\"68\" x=\"138\" y=\"171.1387\">«part  def»</text><text fill=\"#000000\" font-family=\"sans-serif\" font-size=\"12\" lengthAdjust=\"spacingAndGlyphs\" textLength=\"9\" x=\"167.5\" y=\"185.1074\">Q</text><line style=\"stroke: #383838; stroke-width: 1.5;\" x1=\"138\" x2=\"206\" y1=\"192.9375\" y2=\"192.9375\"/></a><!--MD5=[ebbe1d658d1005bcc118a6aa81145e00]\n",
       "class E4--><a href=\"psysml:45188152-89ae-47db-8fae-185a328aceea\" target=\"_top\" title=\"psysml:45188152-89ae-47db-8fae-185a328aceea\" xlink:actuate=\"onRequest\" xlink:href=\"psysml:45188152-89ae-47db-8fae-185a328aceea\" xlink:show=\"new\" xlink:title=\"psysml:45188152-89ae-47db-8fae-185a328aceea\" xlink:type=\"simple\"><rect fill=\"#FFFFFF\" height=\"45.9375\" id=\"E4\" style=\"stroke: #383838; stroke-width: 1.5;\" width=\"99\" x=\"258.5\" y=\"41\"/><text fill=\"#000000\" font-family=\"sans-serif\" font-size=\"12\" font-style=\"italic\" lengthAdjust=\"spacingAndGlyphs\" textLength=\"97\" x=\"259.5\" y=\"57.1387\">«attribute  def»</text><text fill=\"#000000\" font-family=\"sans-serif\" font-size=\"12\" lengthAdjust=\"spacingAndGlyphs\" textLength=\"8\" x=\"304\" y=\"71.1074\">B</text><line style=\"stroke: #383838; stroke-width: 1.5;\" x1=\"259.5\" x2=\"356.5\" y1=\"78.9375\" y2=\"78.9375\"/></a><!--MD5=[270fce915f116d4de14055a7c1d9a0f3]\n",
       "class E5--><a href=\"psysml:e8a966fa-6247-410c-94c4-6750afcc6da8\" target=\"_top\" title=\"psysml:e8a966fa-6247-410c-94c4-6750afcc6da8\" xlink:actuate=\"onRequest\" xlink:href=\"psysml:e8a966fa-6247-410c-94c4-6750afcc6da8\" xlink:show=\"new\" xlink:title=\"psysml:e8a966fa-6247-410c-94c4-6750afcc6da8\" xlink:type=\"simple\"><rect fill=\"#FFFFFF\" height=\"45.9375\" id=\"E5\" style=\"stroke: #383838; stroke-width: 1.5;\" width=\"70\" x=\"319\" y=\"155\"/><text fill=\"#000000\" font-family=\"sans-serif\" font-size=\"12\" font-style=\"italic\" lengthAdjust=\"spacingAndGlyphs\" textLength=\"68\" x=\"320\" y=\"171.1387\">«part  def»</text><text fill=\"#000000\" font-family=\"sans-serif\" font-size=\"12\" font-style=\"italic\" lengthAdjust=\"spacingAndGlyphs\" textLength=\"8\" x=\"350\" y=\"185.1074\">V</text><line style=\"stroke: #383838; stroke-width: 1.5;\" x1=\"320\" x2=\"388\" y1=\"192.9375\" y2=\"192.9375\"/></a><!--MD5=[60a26617385b1d2d0262a64233df1f8d]\n",
       "class E6--><a href=\"psysml:10060237-19c5-40dc-a73e-8cb7e4953e81\" target=\"_top\" title=\"psysml:10060237-19c5-40dc-a73e-8cb7e4953e81\" xlink:actuate=\"onRequest\" xlink:href=\"psysml:10060237-19c5-40dc-a73e-8cb7e4953e81\" xlink:show=\"new\" xlink:title=\"psysml:10060237-19c5-40dc-a73e-8cb7e4953e81\" xlink:type=\"simple\"><rect fill=\"#FFFFFF\" height=\"88.3516\" id=\"E6\" rx=\"10\" ry=\"10\" style=\"stroke: #383838; stroke-width: 1.5;\" width=\"63\" x=\"312.5\" y=\"285\"/><text fill=\"#000000\" font-family=\"sans-serif\" font-size=\"12\" font-style=\"italic\" lengthAdjust=\"spacingAndGlyphs\" textLength=\"40\" x=\"324\" y=\"301.1387\">«part»</text><text fill=\"#000000\" font-family=\"sans-serif\" font-size=\"12\" lengthAdjust=\"spacingAndGlyphs\" textLength=\"23\" x=\"330.5\" y=\"315.1074\">x: Q</text><line style=\"stroke: #383838; stroke-width: 1.5;\" x1=\"313.5\" x2=\"374.5\" y1=\"322.9375\" y2=\"322.9375\"/><text fill=\"#000000\" font-family=\"sans-serif\" font-size=\"11\" lengthAdjust=\"spacingAndGlyphs\" textLength=\"23\" x=\"318.5\" y=\"353.9526\">b: B</text><text fill=\"#000000\" font-family=\"sans-serif\" font-size=\"11\" font-style=\"italic\" lengthAdjust=\"spacingAndGlyphs\" textLength=\"44\" x=\"318.5\" y=\"366.7573\">:&gt;&gt;P::a</text><line style=\"stroke: #383838; stroke-width: 1.0;\" x1=\"313.5\" x2=\"316.5\" y1=\"337.3398\" y2=\"337.3398\"/><text fill=\"#000000\" font-family=\"sans-serif\" font-size=\"11\" lengthAdjust=\"spacingAndGlyphs\" textLength=\"55\" x=\"316.5\" y=\"340.6479\">attributes</text><line style=\"stroke: #383838; stroke-width: 1.0;\" x1=\"371.5\" x2=\"374.5\" y1=\"337.3398\" y2=\"337.3398\"/></a><!--MD5=[2156ba9850f5573cc1fc38a6a4b2f02b]\n",
       "class E7--><a href=\"psysml:070ce293-3e12-454f-ad5b-be257c39d672\" target=\"_top\" title=\"psysml:070ce293-3e12-454f-ad5b-be257c39d672\" xlink:actuate=\"onRequest\" xlink:href=\"psysml:070ce293-3e12-454f-ad5b-be257c39d672\" xlink:show=\"new\" xlink:title=\"psysml:070ce293-3e12-454f-ad5b-be257c39d672\" xlink:type=\"simple\"><rect fill=\"#FFFFFF\" height=\"45.9375\" id=\"E7\" rx=\"10\" ry=\"10\" style=\"stroke: #383838; stroke-width: 1.5;\" width=\"42\" x=\"151\" y=\"41\"/><text fill=\"#000000\" font-family=\"sans-serif\" font-size=\"12\" font-style=\"italic\" lengthAdjust=\"spacingAndGlyphs\" textLength=\"40\" x=\"152\" y=\"57.1387\">«part»</text><text fill=\"#000000\" font-family=\"sans-serif\" font-size=\"12\" lengthAdjust=\"spacingAndGlyphs\" textLength=\"25\" x=\"157.5\" y=\"71.1074\">q: Q</text><line style=\"stroke: #383838; stroke-width: 1.5;\" x1=\"152\" x2=\"192\" y1=\"78.9375\" y2=\"78.9375\"/></a><!--MD5=[b9389687b975829384b498ac4b7476b2]\n",
       "class E8--><a href=\"psysml:3367482b-ff59-4bbe-a9dc-fe1b4a2ad697\" target=\"_top\" title=\"psysml:3367482b-ff59-4bbe-a9dc-fe1b4a2ad697\" xlink:actuate=\"onRequest\" xlink:href=\"psysml:3367482b-ff59-4bbe-a9dc-fe1b4a2ad697\" xlink:show=\"new\" xlink:title=\"psysml:3367482b-ff59-4bbe-a9dc-fe1b4a2ad697\" xlink:type=\"simple\"><rect fill=\"#FFFFFF\" height=\"59.9063\" id=\"E8\" rx=\"10\" ry=\"10\" style=\"stroke: #383838; stroke-width: 1.5;\" width=\"70\" x=\"32\" y=\"148\"/><text fill=\"#000000\" font-family=\"sans-serif\" font-size=\"12\" font-style=\"italic\" lengthAdjust=\"spacingAndGlyphs\" textLength=\"68\" x=\"33\" y=\"164.1387\">«variation»</text><text fill=\"#000000\" font-family=\"sans-serif\" font-size=\"12\" font-style=\"italic\" lengthAdjust=\"spacingAndGlyphs\" textLength=\"40\" x=\"47\" y=\"178.1074\">«part»</text><text fill=\"#000000\" font-family=\"sans-serif\" font-size=\"12\" font-style=\"italic\" lengthAdjust=\"spacingAndGlyphs\" textLength=\"6\" x=\"54\" y=\"192.0762\">v</text><text fill=\"#000000\" font-family=\"sans-serif\" font-size=\"12\" lengthAdjust=\"spacingAndGlyphs\" textLength=\"16\" x=\"60\" y=\"192.0762\">: P</text><line style=\"stroke: #383838; stroke-width: 1.5;\" x1=\"33\" x2=\"101\" y1=\"199.9063\" y2=\"199.9063\"/></a><!--MD5=[fd4143e9d270a159db93a4ea2a975926]\n",
       "class E9--><a href=\"psysml:80fa5ea3-437e-4eec-9e3d-5d2e24e12c28\" target=\"_top\" title=\"psysml:80fa5ea3-437e-4eec-9e3d-5d2e24e12c28\" xlink:actuate=\"onRequest\" xlink:href=\"psysml:80fa5ea3-437e-4eec-9e3d-5d2e24e12c28\" xlink:show=\"new\" xlink:title=\"psysml:80fa5ea3-437e-4eec-9e3d-5d2e24e12c28\" xlink:type=\"simple\"><rect fill=\"#FFFFFF\" height=\"88.3516\" id=\"E9\" rx=\"10\" ry=\"10\" style=\"stroke: #383838; stroke-width: 1.5;\" width=\"139\" x=\"32.5\" y=\"285\"/><text fill=\"#000000\" font-family=\"sans-serif\" font-size=\"12\" font-style=\"italic\" lengthAdjust=\"spacingAndGlyphs\" textLength=\"75\" x=\"64.5\" y=\"301.1387\">«reference»</text><text fill=\"#000000\" font-family=\"sans-serif\" font-size=\"12\" lengthAdjust=\"spacingAndGlyphs\" textLength=\"133\" x=\"35.5\" y=\"315.1074\">q :&gt; VariabilityTest::q</text><line style=\"stroke: #383838; stroke-width: 1.5;\" x1=\"33.5\" x2=\"170.5\" y1=\"322.9375\" y2=\"322.9375\"/><text fill=\"#000000\" font-family=\"sans-serif\" font-size=\"11\" lengthAdjust=\"spacingAndGlyphs\" textLength=\"23\" x=\"38.5\" y=\"353.9526\">b: B</text><text fill=\"#000000\" font-family=\"sans-serif\" font-size=\"11\" font-style=\"italic\" lengthAdjust=\"spacingAndGlyphs\" textLength=\"44\" x=\"38.5\" y=\"366.7573\">:&gt;&gt;P::a</text><line style=\"stroke: #383838; stroke-width: 1.0;\" x1=\"33.5\" x2=\"74.5\" y1=\"337.3398\" y2=\"337.3398\"/><text fill=\"#000000\" font-family=\"sans-serif\" font-size=\"11\" lengthAdjust=\"spacingAndGlyphs\" textLength=\"55\" x=\"74.5\" y=\"340.6479\">attributes</text><line style=\"stroke: #383838; stroke-width: 1.0;\" x1=\"129.5\" x2=\"170.5\" y1=\"337.3398\" y2=\"337.3398\"/></a><!--MD5=[96f4274e9e20536e775497830990834d]\n",
       "class E10--><a href=\"psysml:48eaa747-84b8-4879-8d6b-33c104c23f89\" target=\"_top\" title=\"psysml:48eaa747-84b8-4879-8d6b-33c104c23f89\" xlink:actuate=\"onRequest\" xlink:href=\"psysml:48eaa747-84b8-4879-8d6b-33c104c23f89\" xlink:show=\"new\" xlink:title=\"psysml:48eaa747-84b8-4879-8d6b-33c104c23f89\" xlink:type=\"simple\"><rect fill=\"#FFFFFF\" height=\"45.9375\" id=\"E10\" rx=\"10\" ry=\"10\" style=\"stroke: #383838; stroke-width: 1.5;\" width=\"42\" x=\"242\" y=\"155\"/><text fill=\"#000000\" font-family=\"sans-serif\" font-size=\"12\" font-style=\"italic\" lengthAdjust=\"spacingAndGlyphs\" textLength=\"40\" x=\"243\" y=\"171.1387\">«part»</text><text fill=\"#000000\" font-family=\"sans-serif\" font-size=\"12\" lengthAdjust=\"spacingAndGlyphs\" textLength=\"22\" x=\"250\" y=\"185.1074\">y: P</text><line style=\"stroke: #383838; stroke-width: 1.5;\" x1=\"243\" x2=\"283\" y1=\"192.9375\" y2=\"192.9375\"/></a><!--MD5=[05d275557350bfb9b23a4ef7222b4c39]\n",
       "link E3 to E2--><a href=\"psysml:8fca0815-a461-4953-83e8-63ed8c86de29\" target=\"_top\" title=\"psysml:8fca0815-a461-4953-83e8-63ed8c86de29\" xlink:actuate=\"onRequest\" xlink:href=\"psysml:8fca0815-a461-4953-83e8-63ed8c86de29\" xlink:show=\"new\" xlink:title=\"psysml:8fca0815-a461-4953-83e8-63ed8c86de29\" xlink:type=\"simple\"><path d=\"M182.48,201.31 C191.32,220.13 204.37,247.89 215.99,272.64 \" fill=\"none\" id=\"E3-&gt;E2\" style=\"stroke: #383838; stroke-width: 1.0;\"/><polygon fill=\"none\" points=\"222.34,269.69,224.51,290.77,209.67,275.64,222.34,269.69\" style=\"stroke: #383838; stroke-width: 1.0;\"/></a><!--MD5=[15ebcb19ae302d9b601edb458606d402]\n",
       "link E5 to E2--><a href=\"psysml:80d735d5-abd9-4df4-b941-a11b60e81c18\" target=\"_top\" title=\"psysml:80d735d5-abd9-4df4-b941-a11b60e81c18\" xlink:actuate=\"onRequest\" xlink:href=\"psysml:80d735d5-abd9-4df4-b941-a11b60e81c18\" xlink:show=\"new\" xlink:title=\"psysml:80d735d5-abd9-4df4-b941-a11b60e81c18\" xlink:type=\"simple\"><path d=\"M337.23,201.31 C322.73,220.59 301.19,249.26 282.25,274.45 \" fill=\"none\" id=\"E5-&gt;E2\" style=\"stroke: #383838; stroke-width: 1.0;\"/><polygon fill=\"none\" points=\"287.6,278.99,269.99,290.77,276.41,270.57,287.6,278.99\" style=\"stroke: #383838; stroke-width: 1.0;\"/></a><!--MD5=[9120cf2e5df3bff93db8f754bbbc09b4]\n",
       "link E5 to E6--><a href=\"psysml:bbf94ce0-8140-4269-b805-c97e9315d509\" target=\"_top\" title=\"psysml:bbf94ce0-8140-4269-b805-c97e9315d509\" xlink:actuate=\"onRequest\" xlink:href=\"psysml:bbf94ce0-8140-4269-b805-c97e9315d509\" xlink:show=\"new\" xlink:title=\"psysml:bbf94ce0-8140-4269-b805-c97e9315d509\" xlink:type=\"simple\"><path d=\"M351.82,211.55 C350.58,230.03 348.99,253.61 347.58,274.71 \" fill=\"none\" id=\"E5-E6\" style=\"stroke: #383838; stroke-width: 1.0;\"/><polygon fill=\"#383838\" points=\"346.9,284.84,350.4299,277.0593,344.4435,276.6568,346.9,284.84\" style=\"stroke: #383838; stroke-width: 1.0;\"/><path d=\"M343.8553,203.8139 A9,9 0 0 0 360.7317 204.9486\" fill=\"none\" style=\"stroke: #383838; stroke-width: 1.5;\"/><text fill=\"#000000\" font-family=\"sans-serif\" font-size=\"13\" lengthAdjust=\"spacingAndGlyphs\" textLength=\"60\" x=\"350\" y=\"251.0669\">«variant»</text></a><!--MD5=[14ccda38c055a5c0da953d572bc50960]\n",
       "link E7 to E3--><a href=\"psysml:1a218306-3ccb-4021-8143-a6b7222dd125\" target=\"_top\" title=\"psysml:1a218306-3ccb-4021-8143-a6b7222dd125\" xlink:actuate=\"onRequest\" xlink:href=\"psysml:1a218306-3ccb-4021-8143-a6b7222dd125\" xlink:show=\"new\" xlink:title=\"psysml:1a218306-3ccb-4021-8143-a6b7222dd125\" xlink:type=\"simple\"><path d=\"M172,87.13 C172,100.7 172,118.53 172,134.73 \" fill=\"none\" id=\"E7-&gt;E3\" style=\"stroke: #383838; stroke-width: 1.0;\"/><polygon fill=\"#FFFFFF\" points=\"172,154.92,165,135.92,179,135.92,172,154.92\" style=\"stroke: #383838; stroke-width: 1.0;\"/><ellipse cx=\"167\" cy=\"130.22\" fill=\"#383838\" rx=\"2\" ry=\"2\" style=\"stroke: #383838; stroke-width: 1.0;\"/><ellipse cx=\"177\" cy=\"130.22\" fill=\"#383838\" rx=\"2\" ry=\"2\" style=\"stroke: #383838; stroke-width: 1.0;\"/></a><!--MD5=[f1f3f9f2fc535e6147756cb86a7f2e32]\n",
       "link E8 to E2--><a href=\"psysml:0a07ead6-b6a6-4f86-92cb-b01532aad754\" target=\"_top\" title=\"psysml:0a07ead6-b6a6-4f86-92cb-b01532aad754\" xlink:actuate=\"onRequest\" xlink:href=\"psysml:0a07ead6-b6a6-4f86-92cb-b01532aad754\" xlink:show=\"new\" xlink:title=\"psysml:0a07ead6-b6a6-4f86-92cb-b01532aad754\" xlink:type=\"simple\"><path d=\"M102.03,200.45 C118.37,211.04 137.76,224.42 154,238 C167.86,249.58 181.94,263.07 194.66,276.02 \" fill=\"none\" id=\"E8-&gt;E2\" style=\"stroke: #383838; stroke-width: 1.0;\"/><polygon fill=\"#FFFFFF\" points=\"208.87,290.84,190.6693,281.9667,200.7765,272.2794,208.87,290.84\" style=\"stroke: #383838; stroke-width: 1.0;\"/><ellipse cx=\"188.1691\" cy=\"276.4678\" fill=\"#383838\" rx=\"2\" ry=\"2\" style=\"stroke: #383838; stroke-width: 1.0;\"/><ellipse cx=\"195.3885\" cy=\"269.5482\" fill=\"#383838\" rx=\"2\" ry=\"2\" style=\"stroke: #383838; stroke-width: 1.0;\"/></a><!--MD5=[ed10624c06dd9a4fa49ccf290e8b16a8]\n",
       "link E8 to E9--><a href=\"psysml:95cf767c-bf38-4d44-8a21-82e4671e1c7d\" target=\"_top\" title=\"psysml:95cf767c-bf38-4d44-8a21-82e4671e1c7d\" xlink:actuate=\"onRequest\" xlink:href=\"psysml:95cf767c-bf38-4d44-8a21-82e4671e1c7d\" xlink:show=\"new\" xlink:title=\"psysml:95cf767c-bf38-4d44-8a21-82e4671e1c7d\" xlink:type=\"simple\"><path d=\"M76.17,218.04 C80.26,235.44 85.14,256.2 89.55,274.98 \" fill=\"none\" id=\"E8-E9\" style=\"stroke: #383838; stroke-width: 1.0;\"/><polygon fill=\"#383838\" points=\"91.87,284.88,92.9607,276.4059,87.1198,277.7782,91.87,284.88\" style=\"stroke: #383838; stroke-width: 1.0;\"/><path d=\"M66.2994,213.0085 A9,9 0 0 0 82.7667 209.1452\" fill=\"none\" style=\"stroke: #383838; stroke-width: 1.5;\"/><text fill=\"#000000\" font-family=\"sans-serif\" font-size=\"13\" lengthAdjust=\"spacingAndGlyphs\" textLength=\"60\" x=\"85\" y=\"251.0669\">«variant»</text></a><!--MD5=[0f36bececdf0dff6e600d6f64214b0f1]\n",
       "link E10 to E2--><a href=\"psysml:6b6ac884-9cd9-45a3-8497-3c127dcfd472\" target=\"_top\" title=\"psysml:6b6ac884-9cd9-45a3-8497-3c127dcfd472\" xlink:actuate=\"onRequest\" xlink:href=\"psysml:6b6ac884-9cd9-45a3-8497-3c127dcfd472\" xlink:show=\"new\" xlink:title=\"psysml:6b6ac884-9cd9-45a3-8497-3c127dcfd472\" xlink:type=\"simple\"><path d=\"M259.86,201.31 C257.27,219.67 253.48,246.54 250.06,270.81 \" fill=\"none\" id=\"E10-&gt;E2\" style=\"stroke: #383838; stroke-width: 1.0;\"/><polygon fill=\"#FFFFFF\" points=\"247.25,290.77,242.9654,270.9801,256.8288,272.9305,247.25,290.77\" style=\"stroke: #383838; stroke-width: 1.0;\"/><ellipse cx=\"245.74\" cy=\"265.6143\" fill=\"#383838\" rx=\"2\" ry=\"2\" style=\"stroke: #383838; stroke-width: 1.0;\"/><ellipse cx=\"255.6425\" cy=\"267.0075\" fill=\"#383838\" rx=\"2\" ry=\"2\" style=\"stroke: #383838; stroke-width: 1.0;\"/></a><!--MD5=[1ee723892f44495287589306287d4fed]\n",
       "@startuml\r\n",
       "skinparam monochrome true\r\n",
       "skinparam classbackgroundcolor white\r\n",
       "skinparam shadowing false\r\n",
       "skinparam wrapWidth 300\r\n",
       "hide circle\r\n",
       "\r\n",
       "package \"VariabilityTest\" as E1  [[psysml:54c28c65-c036-409b-a9ca-8f60ef8eadfb ]]  {\r\n",
       "comp def \"P\" as E2  <<(T,blue) part  def>> [[psysml:82cb16a2-9eb2-4cce-bbbe-e1592c7acc8b ]] {\r\n",
       "- - attributes - -\r\n",
       "a\r\n",
       "}\r\n",
       "comp def \"Q\" as E3  <<(T,blue) part  def>> [[psysml:2ef5dada-a649-4c80-bc3f-904ca5914f5d ]] {\r\n",
       "}\r\n",
       "comp def \"B\" as E4  <<(T,blue) attribute  def>> [[psysml:45188152-89ae-47db-8fae-185a328aceea ]] {\r\n",
       "}\r\n",
       "comp def \"<i>V</i>\" as E5  <<(T,blue) part  def>> [[psysml:e8a966fa-6247-410c-94c4-6750afcc6da8 ]] {\r\n",
       "}\r\n",
       "comp usage \"x: Q \" as E6  <<(T,blue) part>> [[psysml:10060237-19c5-40dc-a73e-8cb7e4953e81 ]] {\r\n",
       "- - attributes - -\r\n",
       "b: B\\n//:>>P::a// \r\n",
       "}\r\n",
       "comp usage \"q: Q \" as E7  <<(T,blue) part>> [[psysml:070ce293-3e12-454f-ad5b-be257c39d672 ]] {\r\n",
       "}\r\n",
       "comp usage \"<i>v</i>: P \" as E8  <<variation>>\\n <<(T,blue) part>> [[psysml:3367482b-ff59-4bbe-a9dc-fe1b4a2ad697 ]] {\r\n",
       "}\r\n",
       "comp usage \"q :> VariabilityTest::q\" as E9  <<(T,blue) reference>> [[psysml:80fa5ea3-437e-4eec-9e3d-5d2e24e12c28 ]] {\r\n",
       "- - attributes - -\r\n",
       "b: B\\n//:>>P::a// \r\n",
       "}\r\n",
       "comp usage \"y: P \" as E10  <<(T,blue) part>> [[psysml:48eaa747-84b8-4879-8d6b-33c104c23f89 ]] {\r\n",
       "}\r\n",
       "}\r\n",
       "E3 - -|> E2 [[psysml:8fca0815-a461-4953-83e8-63ed8c86de29 ]] \r\n",
       "E5 - -|> E2 [[psysml:80d735d5-abd9-4df4-b941-a11b60e81c18 ]] \r\n",
       "E5 )- ->> E6 [[psysml:bbf94ce0-8140-4269-b805-c97e9315d509 ]] : <<variant>>\r\n",
       "E7 - -:|> E3 [[psysml:1a218306-3ccb-4021-8143-a6b7222dd125 ]] \r\n",
       "E8 - -:|> E2 [[psysml:0a07ead6-b6a6-4f86-92cb-b01532aad754 ]] \r\n",
       "E8 )- ->> E9 [[psysml:95cf767c-bf38-4d44-8a21-82e4671e1c7d ]] : <<variant>>\r\n",
       "E10 - -:|> E2 [[psysml:6b6ac884-9cd9-45a3-8497-3c127dcfd472 ]] \r\n",
       "@enduml\r\n",
       "\n",
       "PlantUML version 1.2020.13(Sat Jun 13 12:26:38 UTC 2020)\n",
       "(EPL source distribution)\n",
       "Java Runtime: OpenJDK Runtime Environment\n",
       "JVM: OpenJDK 64-Bit Server VM\n",
       "Default Encoding: UTF-8\n",
       "Language: en\n",
       "Country: null\n",
       "--></g></svg>"
      ]
     },
     "execution_count": 43,
     "metadata": {},
     "output_type": "execute_result"
    }
   ],
   "source": [
    "%viz --style=\"DEFAULT\" --view=\"MIXED\" \"VariabilityTest\""
   ]
  },
  {
   "cell_type": "code",
   "execution_count": 44,
   "id": "63793318",
   "metadata": {
    "execution": {
     "iopub.execute_input": "2021-10-25T08:21:45.109638Z",
     "iopub.status.busy": "2021-10-25T08:21:45.109230Z",
     "iopub.status.idle": "2021-10-25T08:21:45.192309Z",
     "shell.execute_reply": "2021-10-25T08:21:45.191938Z"
    }
   },
   "outputs": [
    {
     "data": {
      "image/svg+xml": [
       "<?xml version=\"1.0\" encoding=\"UTF-8\" standalone=\"no\"?><svg xmlns=\"http://www.w3.org/2000/svg\" xmlns:xlink=\"http://www.w3.org/1999/xlink\" contentScriptType=\"application/ecmascript\" contentStyleType=\"text/css\" height=\"401px\" preserveAspectRatio=\"none\" style=\"width:427px;height:401px;\" version=\"1.1\" viewBox=\"0 0 427 401\" width=\"427px\" zoomAndPan=\"magnify\"><defs/><g><!--MD5=[fbc87193dbaf4d95561dea2c320d4a47]\n",
       "cluster E1--><a href=\"psysml:54c28c65-c036-409b-a9ca-8f60ef8eadfb\" target=\"_top\" title=\"psysml:54c28c65-c036-409b-a9ca-8f60ef8eadfb\" xlink:actuate=\"onRequest\" xlink:href=\"psysml:54c28c65-c036-409b-a9ca-8f60ef8eadfb\" xlink:show=\"new\" xlink:title=\"psysml:54c28c65-c036-409b-a9ca-8f60ef8eadfb\" xlink:type=\"simple\"><polygon fill=\"#FFFFFF\" points=\"16,6,116,6,123,28.2969,405,28.2969,405,389,16,389,16,6\" style=\"stroke: #000000; stroke-width: 1.5;\"/><line style=\"stroke: #000000; stroke-width: 1.5;\" x1=\"16\" x2=\"123\" y1=\"28.2969\" y2=\"28.2969\"/><text fill=\"#000000\" font-family=\"sans-serif\" font-size=\"14\" font-weight=\"bold\" lengthAdjust=\"spacingAndGlyphs\" textLength=\"94\" x=\"20\" y=\"20.9951\">VariabilityTest</text></a><!--MD5=[b4997ac47864f28c2f74865a473b2911]\n",
       "class E2--><a href=\"psysml:82cb16a2-9eb2-4cce-bbbe-e1592c7acc8b\" target=\"_top\" title=\"psysml:82cb16a2-9eb2-4cce-bbbe-e1592c7acc8b\" xlink:actuate=\"onRequest\" xlink:href=\"psysml:82cb16a2-9eb2-4cce-bbbe-e1592c7acc8b\" xlink:show=\"new\" xlink:title=\"psysml:82cb16a2-9eb2-4cce-bbbe-e1592c7acc8b\" xlink:type=\"simple\"><rect fill=\"#FFFFFF\" height=\"75.5469\" id=\"E2\" style=\"stroke: #383838; stroke-width: 1.5;\" width=\"70\" x=\"207\" y=\"291\"/><text fill=\"#000000\" font-family=\"sans-serif\" font-size=\"12\" font-style=\"italic\" lengthAdjust=\"spacingAndGlyphs\" textLength=\"68\" x=\"208\" y=\"307.1387\">«part  def»</text><text fill=\"#000000\" font-family=\"sans-serif\" font-size=\"12\" lengthAdjust=\"spacingAndGlyphs\" textLength=\"8\" x=\"238\" y=\"321.1074\">P</text><line style=\"stroke: #383838; stroke-width: 1.5;\" x1=\"208\" x2=\"276\" y1=\"328.9375\" y2=\"328.9375\"/><text fill=\"#000000\" font-family=\"sans-serif\" font-size=\"11\" lengthAdjust=\"spacingAndGlyphs\" textLength=\"7\" x=\"213\" y=\"359.9526\">a</text><line style=\"stroke: #383838; stroke-width: 1.0;\" x1=\"208\" x2=\"214.5\" y1=\"343.3398\" y2=\"343.3398\"/><text fill=\"#000000\" font-family=\"sans-serif\" font-size=\"11\" lengthAdjust=\"spacingAndGlyphs\" textLength=\"55\" x=\"214.5\" y=\"346.6479\">attributes</text><line style=\"stroke: #383838; stroke-width: 1.0;\" x1=\"269.5\" x2=\"276\" y1=\"343.3398\" y2=\"343.3398\"/></a><!--MD5=[09b614a08d8cba4a07c9adeb5e0fee81]\n",
       "class E3--><a href=\"psysml:2ef5dada-a649-4c80-bc3f-904ca5914f5d\" target=\"_top\" title=\"psysml:2ef5dada-a649-4c80-bc3f-904ca5914f5d\" xlink:actuate=\"onRequest\" xlink:href=\"psysml:2ef5dada-a649-4c80-bc3f-904ca5914f5d\" xlink:show=\"new\" xlink:title=\"psysml:2ef5dada-a649-4c80-bc3f-904ca5914f5d\" xlink:type=\"simple\"><rect fill=\"#FFFFFF\" height=\"45.9375\" id=\"E3\" style=\"stroke: #383838; stroke-width: 1.5;\" width=\"70\" x=\"137\" y=\"155\"/><text fill=\"#000000\" font-family=\"sans-serif\" font-size=\"12\" font-style=\"italic\" lengthAdjust=\"spacingAndGlyphs\" textLength=\"68\" x=\"138\" y=\"171.1387\">«part  def»</text><text fill=\"#000000\" font-family=\"sans-serif\" font-size=\"12\" lengthAdjust=\"spacingAndGlyphs\" textLength=\"9\" x=\"167.5\" y=\"185.1074\">Q</text><line style=\"stroke: #383838; stroke-width: 1.5;\" x1=\"138\" x2=\"206\" y1=\"192.9375\" y2=\"192.9375\"/></a><!--MD5=[ebbe1d658d1005bcc118a6aa81145e00]\n",
       "class E4--><a href=\"psysml:45188152-89ae-47db-8fae-185a328aceea\" target=\"_top\" title=\"psysml:45188152-89ae-47db-8fae-185a328aceea\" xlink:actuate=\"onRequest\" xlink:href=\"psysml:45188152-89ae-47db-8fae-185a328aceea\" xlink:show=\"new\" xlink:title=\"psysml:45188152-89ae-47db-8fae-185a328aceea\" xlink:type=\"simple\"><rect fill=\"#FFFFFF\" height=\"45.9375\" id=\"E4\" style=\"stroke: #383838; stroke-width: 1.5;\" width=\"99\" x=\"258.5\" y=\"41\"/><text fill=\"#000000\" font-family=\"sans-serif\" font-size=\"12\" font-style=\"italic\" lengthAdjust=\"spacingAndGlyphs\" textLength=\"97\" x=\"259.5\" y=\"57.1387\">«attribute  def»</text><text fill=\"#000000\" font-family=\"sans-serif\" font-size=\"12\" lengthAdjust=\"spacingAndGlyphs\" textLength=\"8\" x=\"304\" y=\"71.1074\">B</text><line style=\"stroke: #383838; stroke-width: 1.5;\" x1=\"259.5\" x2=\"356.5\" y1=\"78.9375\" y2=\"78.9375\"/></a><!--MD5=[270fce915f116d4de14055a7c1d9a0f3]\n",
       "class E5--><a href=\"psysml:e8a966fa-6247-410c-94c4-6750afcc6da8\" target=\"_top\" title=\"psysml:e8a966fa-6247-410c-94c4-6750afcc6da8\" xlink:actuate=\"onRequest\" xlink:href=\"psysml:e8a966fa-6247-410c-94c4-6750afcc6da8\" xlink:show=\"new\" xlink:title=\"psysml:e8a966fa-6247-410c-94c4-6750afcc6da8\" xlink:type=\"simple\"><rect fill=\"#FFFFFF\" height=\"45.9375\" id=\"E5\" style=\"stroke: #383838; stroke-width: 1.5;\" width=\"70\" x=\"319\" y=\"155\"/><text fill=\"#000000\" font-family=\"sans-serif\" font-size=\"12\" font-style=\"italic\" lengthAdjust=\"spacingAndGlyphs\" textLength=\"68\" x=\"320\" y=\"171.1387\">«part  def»</text><text fill=\"#000000\" font-family=\"sans-serif\" font-size=\"12\" font-style=\"italic\" lengthAdjust=\"spacingAndGlyphs\" textLength=\"8\" x=\"350\" y=\"185.1074\">V</text><line style=\"stroke: #383838; stroke-width: 1.5;\" x1=\"320\" x2=\"388\" y1=\"192.9375\" y2=\"192.9375\"/></a><!--MD5=[60a26617385b1d2d0262a64233df1f8d]\n",
       "class E6--><a href=\"psysml:10060237-19c5-40dc-a73e-8cb7e4953e81\" target=\"_top\" title=\"psysml:10060237-19c5-40dc-a73e-8cb7e4953e81\" xlink:actuate=\"onRequest\" xlink:href=\"psysml:10060237-19c5-40dc-a73e-8cb7e4953e81\" xlink:show=\"new\" xlink:title=\"psysml:10060237-19c5-40dc-a73e-8cb7e4953e81\" xlink:type=\"simple\"><rect fill=\"#FFFFFF\" height=\"88.3516\" id=\"E6\" rx=\"10\" ry=\"10\" style=\"stroke: #383838; stroke-width: 1.5;\" width=\"63\" x=\"312.5\" y=\"285\"/><text fill=\"#000000\" font-family=\"sans-serif\" font-size=\"12\" font-style=\"italic\" lengthAdjust=\"spacingAndGlyphs\" textLength=\"40\" x=\"324\" y=\"301.1387\">«part»</text><text fill=\"#000000\" font-family=\"sans-serif\" font-size=\"12\" lengthAdjust=\"spacingAndGlyphs\" textLength=\"23\" x=\"330.5\" y=\"315.1074\">x: Q</text><line style=\"stroke: #383838; stroke-width: 1.5;\" x1=\"313.5\" x2=\"374.5\" y1=\"322.9375\" y2=\"322.9375\"/><text fill=\"#000000\" font-family=\"sans-serif\" font-size=\"11\" lengthAdjust=\"spacingAndGlyphs\" textLength=\"23\" x=\"318.5\" y=\"353.9526\">b: B</text><text fill=\"#000000\" font-family=\"sans-serif\" font-size=\"11\" font-style=\"italic\" lengthAdjust=\"spacingAndGlyphs\" textLength=\"44\" x=\"318.5\" y=\"366.7573\">:&gt;&gt;P::a</text><line style=\"stroke: #383838; stroke-width: 1.0;\" x1=\"313.5\" x2=\"316.5\" y1=\"337.3398\" y2=\"337.3398\"/><text fill=\"#000000\" font-family=\"sans-serif\" font-size=\"11\" lengthAdjust=\"spacingAndGlyphs\" textLength=\"55\" x=\"316.5\" y=\"340.6479\">attributes</text><line style=\"stroke: #383838; stroke-width: 1.0;\" x1=\"371.5\" x2=\"374.5\" y1=\"337.3398\" y2=\"337.3398\"/></a><!--MD5=[2156ba9850f5573cc1fc38a6a4b2f02b]\n",
       "class E7--><a href=\"psysml:070ce293-3e12-454f-ad5b-be257c39d672\" target=\"_top\" title=\"psysml:070ce293-3e12-454f-ad5b-be257c39d672\" xlink:actuate=\"onRequest\" xlink:href=\"psysml:070ce293-3e12-454f-ad5b-be257c39d672\" xlink:show=\"new\" xlink:title=\"psysml:070ce293-3e12-454f-ad5b-be257c39d672\" xlink:type=\"simple\"><rect fill=\"#FFFFFF\" height=\"45.9375\" id=\"E7\" rx=\"10\" ry=\"10\" style=\"stroke: #383838; stroke-width: 1.5;\" width=\"42\" x=\"151\" y=\"41\"/><text fill=\"#000000\" font-family=\"sans-serif\" font-size=\"12\" font-style=\"italic\" lengthAdjust=\"spacingAndGlyphs\" textLength=\"40\" x=\"152\" y=\"57.1387\">«part»</text><text fill=\"#000000\" font-family=\"sans-serif\" font-size=\"12\" lengthAdjust=\"spacingAndGlyphs\" textLength=\"25\" x=\"157.5\" y=\"71.1074\">q: Q</text><line style=\"stroke: #383838; stroke-width: 1.5;\" x1=\"152\" x2=\"192\" y1=\"78.9375\" y2=\"78.9375\"/></a><!--MD5=[b9389687b975829384b498ac4b7476b2]\n",
       "class E8--><a href=\"psysml:3367482b-ff59-4bbe-a9dc-fe1b4a2ad697\" target=\"_top\" title=\"psysml:3367482b-ff59-4bbe-a9dc-fe1b4a2ad697\" xlink:actuate=\"onRequest\" xlink:href=\"psysml:3367482b-ff59-4bbe-a9dc-fe1b4a2ad697\" xlink:show=\"new\" xlink:title=\"psysml:3367482b-ff59-4bbe-a9dc-fe1b4a2ad697\" xlink:type=\"simple\"><rect fill=\"#FFFFFF\" height=\"59.9063\" id=\"E8\" rx=\"10\" ry=\"10\" style=\"stroke: #383838; stroke-width: 1.5;\" width=\"70\" x=\"32\" y=\"148\"/><text fill=\"#000000\" font-family=\"sans-serif\" font-size=\"12\" font-style=\"italic\" lengthAdjust=\"spacingAndGlyphs\" textLength=\"68\" x=\"33\" y=\"164.1387\">«variation»</text><text fill=\"#000000\" font-family=\"sans-serif\" font-size=\"12\" font-style=\"italic\" lengthAdjust=\"spacingAndGlyphs\" textLength=\"40\" x=\"47\" y=\"178.1074\">«part»</text><text fill=\"#000000\" font-family=\"sans-serif\" font-size=\"12\" font-style=\"italic\" lengthAdjust=\"spacingAndGlyphs\" textLength=\"6\" x=\"54\" y=\"192.0762\">v</text><text fill=\"#000000\" font-family=\"sans-serif\" font-size=\"12\" lengthAdjust=\"spacingAndGlyphs\" textLength=\"16\" x=\"60\" y=\"192.0762\">: P</text><line style=\"stroke: #383838; stroke-width: 1.5;\" x1=\"33\" x2=\"101\" y1=\"199.9063\" y2=\"199.9063\"/></a><!--MD5=[fd4143e9d270a159db93a4ea2a975926]\n",
       "class E9--><a href=\"psysml:80fa5ea3-437e-4eec-9e3d-5d2e24e12c28\" target=\"_top\" title=\"psysml:80fa5ea3-437e-4eec-9e3d-5d2e24e12c28\" xlink:actuate=\"onRequest\" xlink:href=\"psysml:80fa5ea3-437e-4eec-9e3d-5d2e24e12c28\" xlink:show=\"new\" xlink:title=\"psysml:80fa5ea3-437e-4eec-9e3d-5d2e24e12c28\" xlink:type=\"simple\"><rect fill=\"#FFFFFF\" height=\"88.3516\" id=\"E9\" rx=\"10\" ry=\"10\" style=\"stroke: #383838; stroke-width: 1.5;\" width=\"139\" x=\"32.5\" y=\"285\"/><text fill=\"#000000\" font-family=\"sans-serif\" font-size=\"12\" font-style=\"italic\" lengthAdjust=\"spacingAndGlyphs\" textLength=\"75\" x=\"64.5\" y=\"301.1387\">«reference»</text><text fill=\"#000000\" font-family=\"sans-serif\" font-size=\"12\" lengthAdjust=\"spacingAndGlyphs\" textLength=\"133\" x=\"35.5\" y=\"315.1074\">q :&gt; VariabilityTest::q</text><line style=\"stroke: #383838; stroke-width: 1.5;\" x1=\"33.5\" x2=\"170.5\" y1=\"322.9375\" y2=\"322.9375\"/><text fill=\"#000000\" font-family=\"sans-serif\" font-size=\"11\" lengthAdjust=\"spacingAndGlyphs\" textLength=\"23\" x=\"38.5\" y=\"353.9526\">b: B</text><text fill=\"#000000\" font-family=\"sans-serif\" font-size=\"11\" font-style=\"italic\" lengthAdjust=\"spacingAndGlyphs\" textLength=\"44\" x=\"38.5\" y=\"366.7573\">:&gt;&gt;P::a</text><line style=\"stroke: #383838; stroke-width: 1.0;\" x1=\"33.5\" x2=\"74.5\" y1=\"337.3398\" y2=\"337.3398\"/><text fill=\"#000000\" font-family=\"sans-serif\" font-size=\"11\" lengthAdjust=\"spacingAndGlyphs\" textLength=\"55\" x=\"74.5\" y=\"340.6479\">attributes</text><line style=\"stroke: #383838; stroke-width: 1.0;\" x1=\"129.5\" x2=\"170.5\" y1=\"337.3398\" y2=\"337.3398\"/></a><!--MD5=[96f4274e9e20536e775497830990834d]\n",
       "class E10--><a href=\"psysml:48eaa747-84b8-4879-8d6b-33c104c23f89\" target=\"_top\" title=\"psysml:48eaa747-84b8-4879-8d6b-33c104c23f89\" xlink:actuate=\"onRequest\" xlink:href=\"psysml:48eaa747-84b8-4879-8d6b-33c104c23f89\" xlink:show=\"new\" xlink:title=\"psysml:48eaa747-84b8-4879-8d6b-33c104c23f89\" xlink:type=\"simple\"><rect fill=\"#FFFFFF\" height=\"45.9375\" id=\"E10\" rx=\"10\" ry=\"10\" style=\"stroke: #383838; stroke-width: 1.5;\" width=\"42\" x=\"242\" y=\"155\"/><text fill=\"#000000\" font-family=\"sans-serif\" font-size=\"12\" font-style=\"italic\" lengthAdjust=\"spacingAndGlyphs\" textLength=\"40\" x=\"243\" y=\"171.1387\">«part»</text><text fill=\"#000000\" font-family=\"sans-serif\" font-size=\"12\" lengthAdjust=\"spacingAndGlyphs\" textLength=\"22\" x=\"250\" y=\"185.1074\">y: P</text><line style=\"stroke: #383838; stroke-width: 1.5;\" x1=\"243\" x2=\"283\" y1=\"192.9375\" y2=\"192.9375\"/></a><!--MD5=[05d275557350bfb9b23a4ef7222b4c39]\n",
       "link E3 to E2--><a href=\"psysml:8fca0815-a461-4953-83e8-63ed8c86de29\" target=\"_top\" title=\"psysml:8fca0815-a461-4953-83e8-63ed8c86de29\" xlink:actuate=\"onRequest\" xlink:href=\"psysml:8fca0815-a461-4953-83e8-63ed8c86de29\" xlink:show=\"new\" xlink:title=\"psysml:8fca0815-a461-4953-83e8-63ed8c86de29\" xlink:type=\"simple\"><path d=\"M182.48,201.31 C191.32,220.13 204.37,247.89 215.99,272.64 \" fill=\"none\" id=\"E3-&gt;E2\" style=\"stroke: #383838; stroke-width: 1.0;\"/><polygon fill=\"none\" points=\"222.34,269.69,224.51,290.77,209.67,275.64,222.34,269.69\" style=\"stroke: #383838; stroke-width: 1.0;\"/></a><!--MD5=[15ebcb19ae302d9b601edb458606d402]\n",
       "link E5 to E2--><a href=\"psysml:80d735d5-abd9-4df4-b941-a11b60e81c18\" target=\"_top\" title=\"psysml:80d735d5-abd9-4df4-b941-a11b60e81c18\" xlink:actuate=\"onRequest\" xlink:href=\"psysml:80d735d5-abd9-4df4-b941-a11b60e81c18\" xlink:show=\"new\" xlink:title=\"psysml:80d735d5-abd9-4df4-b941-a11b60e81c18\" xlink:type=\"simple\"><path d=\"M337.23,201.31 C322.73,220.59 301.19,249.26 282.25,274.45 \" fill=\"none\" id=\"E5-&gt;E2\" style=\"stroke: #383838; stroke-width: 1.0;\"/><polygon fill=\"none\" points=\"287.6,278.99,269.99,290.77,276.41,270.57,287.6,278.99\" style=\"stroke: #383838; stroke-width: 1.0;\"/></a><!--MD5=[9120cf2e5df3bff93db8f754bbbc09b4]\n",
       "link E5 to E6--><a href=\"psysml:bbf94ce0-8140-4269-b805-c97e9315d509\" target=\"_top\" title=\"psysml:bbf94ce0-8140-4269-b805-c97e9315d509\" xlink:actuate=\"onRequest\" xlink:href=\"psysml:bbf94ce0-8140-4269-b805-c97e9315d509\" xlink:show=\"new\" xlink:title=\"psysml:bbf94ce0-8140-4269-b805-c97e9315d509\" xlink:type=\"simple\"><path d=\"M351.82,211.55 C350.58,230.03 348.99,253.61 347.58,274.71 \" fill=\"none\" id=\"E5-E6\" style=\"stroke: #383838; stroke-width: 1.0;\"/><polygon fill=\"#383838\" points=\"346.9,284.84,350.4299,277.0593,344.4435,276.6568,346.9,284.84\" style=\"stroke: #383838; stroke-width: 1.0;\"/><path d=\"M343.8553,203.8139 A9,9 0 0 0 360.7317 204.9486\" fill=\"none\" style=\"stroke: #383838; stroke-width: 1.5;\"/><text fill=\"#000000\" font-family=\"sans-serif\" font-size=\"13\" lengthAdjust=\"spacingAndGlyphs\" textLength=\"60\" x=\"350\" y=\"251.0669\">«variant»</text></a><!--MD5=[14ccda38c055a5c0da953d572bc50960]\n",
       "link E7 to E3--><a href=\"psysml:1a218306-3ccb-4021-8143-a6b7222dd125\" target=\"_top\" title=\"psysml:1a218306-3ccb-4021-8143-a6b7222dd125\" xlink:actuate=\"onRequest\" xlink:href=\"psysml:1a218306-3ccb-4021-8143-a6b7222dd125\" xlink:show=\"new\" xlink:title=\"psysml:1a218306-3ccb-4021-8143-a6b7222dd125\" xlink:type=\"simple\"><path d=\"M172,87.13 C172,100.7 172,118.53 172,134.73 \" fill=\"none\" id=\"E7-&gt;E3\" style=\"stroke: #383838; stroke-width: 1.0;\"/><polygon fill=\"#FFFFFF\" points=\"172,154.92,165,135.92,179,135.92,172,154.92\" style=\"stroke: #383838; stroke-width: 1.0;\"/><ellipse cx=\"167\" cy=\"130.22\" fill=\"#383838\" rx=\"2\" ry=\"2\" style=\"stroke: #383838; stroke-width: 1.0;\"/><ellipse cx=\"177\" cy=\"130.22\" fill=\"#383838\" rx=\"2\" ry=\"2\" style=\"stroke: #383838; stroke-width: 1.0;\"/></a><!--MD5=[f1f3f9f2fc535e6147756cb86a7f2e32]\n",
       "link E8 to E2--><a href=\"psysml:0a07ead6-b6a6-4f86-92cb-b01532aad754\" target=\"_top\" title=\"psysml:0a07ead6-b6a6-4f86-92cb-b01532aad754\" xlink:actuate=\"onRequest\" xlink:href=\"psysml:0a07ead6-b6a6-4f86-92cb-b01532aad754\" xlink:show=\"new\" xlink:title=\"psysml:0a07ead6-b6a6-4f86-92cb-b01532aad754\" xlink:type=\"simple\"><path d=\"M102.03,200.45 C118.37,211.04 137.76,224.42 154,238 C167.86,249.58 181.94,263.07 194.66,276.02 \" fill=\"none\" id=\"E8-&gt;E2\" style=\"stroke: #383838; stroke-width: 1.0;\"/><polygon fill=\"#FFFFFF\" points=\"208.87,290.84,190.6693,281.9667,200.7765,272.2794,208.87,290.84\" style=\"stroke: #383838; stroke-width: 1.0;\"/><ellipse cx=\"188.1691\" cy=\"276.4678\" fill=\"#383838\" rx=\"2\" ry=\"2\" style=\"stroke: #383838; stroke-width: 1.0;\"/><ellipse cx=\"195.3885\" cy=\"269.5482\" fill=\"#383838\" rx=\"2\" ry=\"2\" style=\"stroke: #383838; stroke-width: 1.0;\"/></a><!--MD5=[ed10624c06dd9a4fa49ccf290e8b16a8]\n",
       "link E8 to E9--><a href=\"psysml:95cf767c-bf38-4d44-8a21-82e4671e1c7d\" target=\"_top\" title=\"psysml:95cf767c-bf38-4d44-8a21-82e4671e1c7d\" xlink:actuate=\"onRequest\" xlink:href=\"psysml:95cf767c-bf38-4d44-8a21-82e4671e1c7d\" xlink:show=\"new\" xlink:title=\"psysml:95cf767c-bf38-4d44-8a21-82e4671e1c7d\" xlink:type=\"simple\"><path d=\"M76.17,218.04 C80.26,235.44 85.14,256.2 89.55,274.98 \" fill=\"none\" id=\"E8-E9\" style=\"stroke: #383838; stroke-width: 1.0;\"/><polygon fill=\"#383838\" points=\"91.87,284.88,92.9607,276.4059,87.1198,277.7782,91.87,284.88\" style=\"stroke: #383838; stroke-width: 1.0;\"/><path d=\"M66.2994,213.0085 A9,9 0 0 0 82.7667 209.1452\" fill=\"none\" style=\"stroke: #383838; stroke-width: 1.5;\"/><text fill=\"#000000\" font-family=\"sans-serif\" font-size=\"13\" lengthAdjust=\"spacingAndGlyphs\" textLength=\"60\" x=\"85\" y=\"251.0669\">«variant»</text></a><!--MD5=[0f36bececdf0dff6e600d6f64214b0f1]\n",
       "link E10 to E2--><a href=\"psysml:6b6ac884-9cd9-45a3-8497-3c127dcfd472\" target=\"_top\" title=\"psysml:6b6ac884-9cd9-45a3-8497-3c127dcfd472\" xlink:actuate=\"onRequest\" xlink:href=\"psysml:6b6ac884-9cd9-45a3-8497-3c127dcfd472\" xlink:show=\"new\" xlink:title=\"psysml:6b6ac884-9cd9-45a3-8497-3c127dcfd472\" xlink:type=\"simple\"><path d=\"M259.86,201.31 C257.27,219.67 253.48,246.54 250.06,270.81 \" fill=\"none\" id=\"E10-&gt;E2\" style=\"stroke: #383838; stroke-width: 1.0;\"/><polygon fill=\"#FFFFFF\" points=\"247.25,290.77,242.9654,270.9801,256.8288,272.9305,247.25,290.77\" style=\"stroke: #383838; stroke-width: 1.0;\"/><ellipse cx=\"245.74\" cy=\"265.6143\" fill=\"#383838\" rx=\"2\" ry=\"2\" style=\"stroke: #383838; stroke-width: 1.0;\"/><ellipse cx=\"255.6425\" cy=\"267.0075\" fill=\"#383838\" rx=\"2\" ry=\"2\" style=\"stroke: #383838; stroke-width: 1.0;\"/></a><!--MD5=[2abdf020a8468d92fbaeee0b4996557c]\n",
       "@startuml\r\n",
       "top to bottom direction\r\n",
       "skinparam monochrome true\r\n",
       "skinparam classbackgroundcolor white\r\n",
       "skinparam shadowing false\r\n",
       "skinparam wrapWidth 300\r\n",
       "hide circle\r\n",
       "\r\n",
       "package \"VariabilityTest\" as E1  [[psysml:54c28c65-c036-409b-a9ca-8f60ef8eadfb ]]  {\r\n",
       "comp def \"P\" as E2  <<(T,blue) part  def>> [[psysml:82cb16a2-9eb2-4cce-bbbe-e1592c7acc8b ]] {\r\n",
       "- - attributes - -\r\n",
       "a\r\n",
       "}\r\n",
       "comp def \"Q\" as E3  <<(T,blue) part  def>> [[psysml:2ef5dada-a649-4c80-bc3f-904ca5914f5d ]] {\r\n",
       "}\r\n",
       "comp def \"B\" as E4  <<(T,blue) attribute  def>> [[psysml:45188152-89ae-47db-8fae-185a328aceea ]] {\r\n",
       "}\r\n",
       "comp def \"<i>V</i>\" as E5  <<(T,blue) part  def>> [[psysml:e8a966fa-6247-410c-94c4-6750afcc6da8 ]] {\r\n",
       "}\r\n",
       "comp usage \"x: Q \" as E6  <<(T,blue) part>> [[psysml:10060237-19c5-40dc-a73e-8cb7e4953e81 ]] {\r\n",
       "- - attributes - -\r\n",
       "b: B\\n//:>>P::a// \r\n",
       "}\r\n",
       "comp usage \"q: Q \" as E7  <<(T,blue) part>> [[psysml:070ce293-3e12-454f-ad5b-be257c39d672 ]] {\r\n",
       "}\r\n",
       "comp usage \"<i>v</i>: P \" as E8  <<variation>>\\n <<(T,blue) part>> [[psysml:3367482b-ff59-4bbe-a9dc-fe1b4a2ad697 ]] {\r\n",
       "}\r\n",
       "comp usage \"q :> VariabilityTest::q\" as E9  <<(T,blue) reference>> [[psysml:80fa5ea3-437e-4eec-9e3d-5d2e24e12c28 ]] {\r\n",
       "- - attributes - -\r\n",
       "b: B\\n//:>>P::a// \r\n",
       "}\r\n",
       "comp usage \"y: P \" as E10  <<(T,blue) part>> [[psysml:48eaa747-84b8-4879-8d6b-33c104c23f89 ]] {\r\n",
       "}\r\n",
       "}\r\n",
       "E3 - -|> E2 [[psysml:8fca0815-a461-4953-83e8-63ed8c86de29 ]] \r\n",
       "E5 - -|> E2 [[psysml:80d735d5-abd9-4df4-b941-a11b60e81c18 ]] \r\n",
       "E5 )- ->> E6 [[psysml:bbf94ce0-8140-4269-b805-c97e9315d509 ]] : <<variant>>\r\n",
       "E7 - -:|> E3 [[psysml:1a218306-3ccb-4021-8143-a6b7222dd125 ]] \r\n",
       "E8 - -:|> E2 [[psysml:0a07ead6-b6a6-4f86-92cb-b01532aad754 ]] \r\n",
       "E8 )- ->> E9 [[psysml:95cf767c-bf38-4d44-8a21-82e4671e1c7d ]] : <<variant>>\r\n",
       "E10 - -:|> E2 [[psysml:6b6ac884-9cd9-45a3-8497-3c127dcfd472 ]] \r\n",
       "@enduml\r\n",
       "\n",
       "PlantUML version 1.2020.13(Sat Jun 13 12:26:38 UTC 2020)\n",
       "(EPL source distribution)\n",
       "Java Runtime: OpenJDK Runtime Environment\n",
       "JVM: OpenJDK 64-Bit Server VM\n",
       "Default Encoding: UTF-8\n",
       "Language: en\n",
       "Country: null\n",
       "--></g></svg>"
      ]
     },
     "execution_count": 44,
     "metadata": {},
     "output_type": "execute_result"
    }
   ],
   "source": [
    "%viz --style=\"TB\" --view=\"Default\" \"VariabilityTest\""
   ]
  },
  {
   "cell_type": "code",
   "execution_count": 45,
   "id": "3a077801",
   "metadata": {
    "execution": {
     "iopub.execute_input": "2021-10-25T08:21:45.241331Z",
     "iopub.status.busy": "2021-10-25T08:21:45.240920Z",
     "iopub.status.idle": "2021-10-25T08:21:45.326299Z",
     "shell.execute_reply": "2021-10-25T08:21:45.324374Z"
    }
   },
   "outputs": [
    {
     "data": {
      "image/svg+xml": [
       "<?xml version=\"1.0\" encoding=\"UTF-8\" standalone=\"no\"?><svg xmlns=\"http://www.w3.org/2000/svg\" xmlns:xlink=\"http://www.w3.org/1999/xlink\" contentScriptType=\"application/ecmascript\" contentStyleType=\"text/css\" height=\"401px\" preserveAspectRatio=\"none\" style=\"width:427px;height:401px;\" version=\"1.1\" viewBox=\"0 0 427 401\" width=\"427px\" zoomAndPan=\"magnify\"><defs/><g><!--MD5=[fbc87193dbaf4d95561dea2c320d4a47]\n",
       "cluster E1--><a href=\"psysml:54c28c65-c036-409b-a9ca-8f60ef8eadfb\" target=\"_top\" title=\"psysml:54c28c65-c036-409b-a9ca-8f60ef8eadfb\" xlink:actuate=\"onRequest\" xlink:href=\"psysml:54c28c65-c036-409b-a9ca-8f60ef8eadfb\" xlink:show=\"new\" xlink:title=\"psysml:54c28c65-c036-409b-a9ca-8f60ef8eadfb\" xlink:type=\"simple\"><polygon fill=\"#FFFFFF\" points=\"16,6,116,6,123,28.2969,405,28.2969,405,389,16,389,16,6\" style=\"stroke: #000000; stroke-width: 1.5;\"/><line style=\"stroke: #000000; stroke-width: 1.5;\" x1=\"16\" x2=\"123\" y1=\"28.2969\" y2=\"28.2969\"/><text fill=\"#000000\" font-family=\"sans-serif\" font-size=\"14\" font-weight=\"bold\" lengthAdjust=\"spacingAndGlyphs\" textLength=\"94\" x=\"20\" y=\"20.9951\">VariabilityTest</text></a><!--MD5=[b4997ac47864f28c2f74865a473b2911]\n",
       "class E2--><a href=\"psysml:82cb16a2-9eb2-4cce-bbbe-e1592c7acc8b\" target=\"_top\" title=\"psysml:82cb16a2-9eb2-4cce-bbbe-e1592c7acc8b\" xlink:actuate=\"onRequest\" xlink:href=\"psysml:82cb16a2-9eb2-4cce-bbbe-e1592c7acc8b\" xlink:show=\"new\" xlink:title=\"psysml:82cb16a2-9eb2-4cce-bbbe-e1592c7acc8b\" xlink:type=\"simple\"><rect fill=\"#FFFFFF\" height=\"75.5469\" id=\"E2\" style=\"stroke: #383838; stroke-width: 1.5;\" width=\"70\" x=\"207\" y=\"291\"/><text fill=\"#000000\" font-family=\"sans-serif\" font-size=\"12\" font-style=\"italic\" lengthAdjust=\"spacingAndGlyphs\" textLength=\"68\" x=\"208\" y=\"307.1387\">«part  def»</text><text fill=\"#000000\" font-family=\"sans-serif\" font-size=\"12\" lengthAdjust=\"spacingAndGlyphs\" textLength=\"8\" x=\"238\" y=\"321.1074\">P</text><line style=\"stroke: #383838; stroke-width: 1.5;\" x1=\"208\" x2=\"276\" y1=\"328.9375\" y2=\"328.9375\"/><text fill=\"#000000\" font-family=\"sans-serif\" font-size=\"11\" lengthAdjust=\"spacingAndGlyphs\" textLength=\"7\" x=\"213\" y=\"359.9526\">a</text><line style=\"stroke: #383838; stroke-width: 1.0;\" x1=\"208\" x2=\"214.5\" y1=\"343.3398\" y2=\"343.3398\"/><text fill=\"#000000\" font-family=\"sans-serif\" font-size=\"11\" lengthAdjust=\"spacingAndGlyphs\" textLength=\"55\" x=\"214.5\" y=\"346.6479\">attributes</text><line style=\"stroke: #383838; stroke-width: 1.0;\" x1=\"269.5\" x2=\"276\" y1=\"343.3398\" y2=\"343.3398\"/></a><!--MD5=[09b614a08d8cba4a07c9adeb5e0fee81]\n",
       "class E3--><a href=\"psysml:2ef5dada-a649-4c80-bc3f-904ca5914f5d\" target=\"_top\" title=\"psysml:2ef5dada-a649-4c80-bc3f-904ca5914f5d\" xlink:actuate=\"onRequest\" xlink:href=\"psysml:2ef5dada-a649-4c80-bc3f-904ca5914f5d\" xlink:show=\"new\" xlink:title=\"psysml:2ef5dada-a649-4c80-bc3f-904ca5914f5d\" xlink:type=\"simple\"><rect fill=\"#FFFFFF\" height=\"45.9375\" id=\"E3\" style=\"stroke: #383838; stroke-width: 1.5;\" width=\"70\" x=\"137\" y=\"155\"/><text fill=\"#000000\" font-family=\"sans-serif\" font-size=\"12\" font-style=\"italic\" lengthAdjust=\"spacingAndGlyphs\" textLength=\"68\" x=\"138\" y=\"171.1387\">«part  def»</text><text fill=\"#000000\" font-family=\"sans-serif\" font-size=\"12\" lengthAdjust=\"spacingAndGlyphs\" textLength=\"9\" x=\"167.5\" y=\"185.1074\">Q</text><line style=\"stroke: #383838; stroke-width: 1.5;\" x1=\"138\" x2=\"206\" y1=\"192.9375\" y2=\"192.9375\"/></a><!--MD5=[ebbe1d658d1005bcc118a6aa81145e00]\n",
       "class E4--><a href=\"psysml:45188152-89ae-47db-8fae-185a328aceea\" target=\"_top\" title=\"psysml:45188152-89ae-47db-8fae-185a328aceea\" xlink:actuate=\"onRequest\" xlink:href=\"psysml:45188152-89ae-47db-8fae-185a328aceea\" xlink:show=\"new\" xlink:title=\"psysml:45188152-89ae-47db-8fae-185a328aceea\" xlink:type=\"simple\"><rect fill=\"#FFFFFF\" height=\"45.9375\" id=\"E4\" style=\"stroke: #383838; stroke-width: 1.5;\" width=\"99\" x=\"258.5\" y=\"41\"/><text fill=\"#000000\" font-family=\"sans-serif\" font-size=\"12\" font-style=\"italic\" lengthAdjust=\"spacingAndGlyphs\" textLength=\"97\" x=\"259.5\" y=\"57.1387\">«attribute  def»</text><text fill=\"#000000\" font-family=\"sans-serif\" font-size=\"12\" lengthAdjust=\"spacingAndGlyphs\" textLength=\"8\" x=\"304\" y=\"71.1074\">B</text><line style=\"stroke: #383838; stroke-width: 1.5;\" x1=\"259.5\" x2=\"356.5\" y1=\"78.9375\" y2=\"78.9375\"/></a><!--MD5=[270fce915f116d4de14055a7c1d9a0f3]\n",
       "class E5--><a href=\"psysml:e8a966fa-6247-410c-94c4-6750afcc6da8\" target=\"_top\" title=\"psysml:e8a966fa-6247-410c-94c4-6750afcc6da8\" xlink:actuate=\"onRequest\" xlink:href=\"psysml:e8a966fa-6247-410c-94c4-6750afcc6da8\" xlink:show=\"new\" xlink:title=\"psysml:e8a966fa-6247-410c-94c4-6750afcc6da8\" xlink:type=\"simple\"><rect fill=\"#FFFFFF\" height=\"45.9375\" id=\"E5\" style=\"stroke: #383838; stroke-width: 1.5;\" width=\"70\" x=\"319\" y=\"155\"/><text fill=\"#000000\" font-family=\"sans-serif\" font-size=\"12\" font-style=\"italic\" lengthAdjust=\"spacingAndGlyphs\" textLength=\"68\" x=\"320\" y=\"171.1387\">«part  def»</text><text fill=\"#000000\" font-family=\"sans-serif\" font-size=\"12\" font-style=\"italic\" lengthAdjust=\"spacingAndGlyphs\" textLength=\"8\" x=\"350\" y=\"185.1074\">V</text><line style=\"stroke: #383838; stroke-width: 1.5;\" x1=\"320\" x2=\"388\" y1=\"192.9375\" y2=\"192.9375\"/></a><!--MD5=[60a26617385b1d2d0262a64233df1f8d]\n",
       "class E6--><a href=\"psysml:10060237-19c5-40dc-a73e-8cb7e4953e81\" target=\"_top\" title=\"psysml:10060237-19c5-40dc-a73e-8cb7e4953e81\" xlink:actuate=\"onRequest\" xlink:href=\"psysml:10060237-19c5-40dc-a73e-8cb7e4953e81\" xlink:show=\"new\" xlink:title=\"psysml:10060237-19c5-40dc-a73e-8cb7e4953e81\" xlink:type=\"simple\"><rect fill=\"#FFFFFF\" height=\"88.3516\" id=\"E6\" rx=\"10\" ry=\"10\" style=\"stroke: #383838; stroke-width: 1.5;\" width=\"63\" x=\"312.5\" y=\"285\"/><text fill=\"#000000\" font-family=\"sans-serif\" font-size=\"12\" font-style=\"italic\" lengthAdjust=\"spacingAndGlyphs\" textLength=\"40\" x=\"324\" y=\"301.1387\">«part»</text><text fill=\"#000000\" font-family=\"sans-serif\" font-size=\"12\" lengthAdjust=\"spacingAndGlyphs\" textLength=\"23\" x=\"330.5\" y=\"315.1074\">x: Q</text><line style=\"stroke: #383838; stroke-width: 1.5;\" x1=\"313.5\" x2=\"374.5\" y1=\"322.9375\" y2=\"322.9375\"/><text fill=\"#000000\" font-family=\"sans-serif\" font-size=\"11\" lengthAdjust=\"spacingAndGlyphs\" textLength=\"23\" x=\"318.5\" y=\"353.9526\">b: B</text><text fill=\"#000000\" font-family=\"sans-serif\" font-size=\"11\" font-style=\"italic\" lengthAdjust=\"spacingAndGlyphs\" textLength=\"44\" x=\"318.5\" y=\"366.7573\">:&gt;&gt;P::a</text><line style=\"stroke: #383838; stroke-width: 1.0;\" x1=\"313.5\" x2=\"316.5\" y1=\"337.3398\" y2=\"337.3398\"/><text fill=\"#000000\" font-family=\"sans-serif\" font-size=\"11\" lengthAdjust=\"spacingAndGlyphs\" textLength=\"55\" x=\"316.5\" y=\"340.6479\">attributes</text><line style=\"stroke: #383838; stroke-width: 1.0;\" x1=\"371.5\" x2=\"374.5\" y1=\"337.3398\" y2=\"337.3398\"/></a><!--MD5=[2156ba9850f5573cc1fc38a6a4b2f02b]\n",
       "class E7--><a href=\"psysml:070ce293-3e12-454f-ad5b-be257c39d672\" target=\"_top\" title=\"psysml:070ce293-3e12-454f-ad5b-be257c39d672\" xlink:actuate=\"onRequest\" xlink:href=\"psysml:070ce293-3e12-454f-ad5b-be257c39d672\" xlink:show=\"new\" xlink:title=\"psysml:070ce293-3e12-454f-ad5b-be257c39d672\" xlink:type=\"simple\"><rect fill=\"#FFFFFF\" height=\"45.9375\" id=\"E7\" rx=\"10\" ry=\"10\" style=\"stroke: #383838; stroke-width: 1.5;\" width=\"42\" x=\"151\" y=\"41\"/><text fill=\"#000000\" font-family=\"sans-serif\" font-size=\"12\" font-style=\"italic\" lengthAdjust=\"spacingAndGlyphs\" textLength=\"40\" x=\"152\" y=\"57.1387\">«part»</text><text fill=\"#000000\" font-family=\"sans-serif\" font-size=\"12\" lengthAdjust=\"spacingAndGlyphs\" textLength=\"25\" x=\"157.5\" y=\"71.1074\">q: Q</text><line style=\"stroke: #383838; stroke-width: 1.5;\" x1=\"152\" x2=\"192\" y1=\"78.9375\" y2=\"78.9375\"/></a><!--MD5=[b9389687b975829384b498ac4b7476b2]\n",
       "class E8--><a href=\"psysml:3367482b-ff59-4bbe-a9dc-fe1b4a2ad697\" target=\"_top\" title=\"psysml:3367482b-ff59-4bbe-a9dc-fe1b4a2ad697\" xlink:actuate=\"onRequest\" xlink:href=\"psysml:3367482b-ff59-4bbe-a9dc-fe1b4a2ad697\" xlink:show=\"new\" xlink:title=\"psysml:3367482b-ff59-4bbe-a9dc-fe1b4a2ad697\" xlink:type=\"simple\"><rect fill=\"#FFFFFF\" height=\"59.9063\" id=\"E8\" rx=\"10\" ry=\"10\" style=\"stroke: #383838; stroke-width: 1.5;\" width=\"70\" x=\"32\" y=\"148\"/><text fill=\"#000000\" font-family=\"sans-serif\" font-size=\"12\" font-style=\"italic\" lengthAdjust=\"spacingAndGlyphs\" textLength=\"68\" x=\"33\" y=\"164.1387\">«variation»</text><text fill=\"#000000\" font-family=\"sans-serif\" font-size=\"12\" font-style=\"italic\" lengthAdjust=\"spacingAndGlyphs\" textLength=\"40\" x=\"47\" y=\"178.1074\">«part»</text><text fill=\"#000000\" font-family=\"sans-serif\" font-size=\"12\" font-style=\"italic\" lengthAdjust=\"spacingAndGlyphs\" textLength=\"6\" x=\"54\" y=\"192.0762\">v</text><text fill=\"#000000\" font-family=\"sans-serif\" font-size=\"12\" lengthAdjust=\"spacingAndGlyphs\" textLength=\"16\" x=\"60\" y=\"192.0762\">: P</text><line style=\"stroke: #383838; stroke-width: 1.5;\" x1=\"33\" x2=\"101\" y1=\"199.9063\" y2=\"199.9063\"/></a><!--MD5=[fd4143e9d270a159db93a4ea2a975926]\n",
       "class E9--><a href=\"psysml:80fa5ea3-437e-4eec-9e3d-5d2e24e12c28\" target=\"_top\" title=\"psysml:80fa5ea3-437e-4eec-9e3d-5d2e24e12c28\" xlink:actuate=\"onRequest\" xlink:href=\"psysml:80fa5ea3-437e-4eec-9e3d-5d2e24e12c28\" xlink:show=\"new\" xlink:title=\"psysml:80fa5ea3-437e-4eec-9e3d-5d2e24e12c28\" xlink:type=\"simple\"><rect fill=\"#FFFFFF\" height=\"88.3516\" id=\"E9\" rx=\"10\" ry=\"10\" style=\"stroke: #383838; stroke-width: 1.5;\" width=\"139\" x=\"32.5\" y=\"285\"/><text fill=\"#000000\" font-family=\"sans-serif\" font-size=\"12\" font-style=\"italic\" lengthAdjust=\"spacingAndGlyphs\" textLength=\"75\" x=\"64.5\" y=\"301.1387\">«reference»</text><text fill=\"#000000\" font-family=\"sans-serif\" font-size=\"12\" lengthAdjust=\"spacingAndGlyphs\" textLength=\"133\" x=\"35.5\" y=\"315.1074\">q :&gt; VariabilityTest::q</text><line style=\"stroke: #383838; stroke-width: 1.5;\" x1=\"33.5\" x2=\"170.5\" y1=\"322.9375\" y2=\"322.9375\"/><text fill=\"#000000\" font-family=\"sans-serif\" font-size=\"11\" lengthAdjust=\"spacingAndGlyphs\" textLength=\"23\" x=\"38.5\" y=\"353.9526\">b: B</text><text fill=\"#000000\" font-family=\"sans-serif\" font-size=\"11\" font-style=\"italic\" lengthAdjust=\"spacingAndGlyphs\" textLength=\"44\" x=\"38.5\" y=\"366.7573\">:&gt;&gt;P::a</text><line style=\"stroke: #383838; stroke-width: 1.0;\" x1=\"33.5\" x2=\"74.5\" y1=\"337.3398\" y2=\"337.3398\"/><text fill=\"#000000\" font-family=\"sans-serif\" font-size=\"11\" lengthAdjust=\"spacingAndGlyphs\" textLength=\"55\" x=\"74.5\" y=\"340.6479\">attributes</text><line style=\"stroke: #383838; stroke-width: 1.0;\" x1=\"129.5\" x2=\"170.5\" y1=\"337.3398\" y2=\"337.3398\"/></a><!--MD5=[96f4274e9e20536e775497830990834d]\n",
       "class E10--><a href=\"psysml:48eaa747-84b8-4879-8d6b-33c104c23f89\" target=\"_top\" title=\"psysml:48eaa747-84b8-4879-8d6b-33c104c23f89\" xlink:actuate=\"onRequest\" xlink:href=\"psysml:48eaa747-84b8-4879-8d6b-33c104c23f89\" xlink:show=\"new\" xlink:title=\"psysml:48eaa747-84b8-4879-8d6b-33c104c23f89\" xlink:type=\"simple\"><rect fill=\"#FFFFFF\" height=\"45.9375\" id=\"E10\" rx=\"10\" ry=\"10\" style=\"stroke: #383838; stroke-width: 1.5;\" width=\"42\" x=\"242\" y=\"155\"/><text fill=\"#000000\" font-family=\"sans-serif\" font-size=\"12\" font-style=\"italic\" lengthAdjust=\"spacingAndGlyphs\" textLength=\"40\" x=\"243\" y=\"171.1387\">«part»</text><text fill=\"#000000\" font-family=\"sans-serif\" font-size=\"12\" lengthAdjust=\"spacingAndGlyphs\" textLength=\"22\" x=\"250\" y=\"185.1074\">y: P</text><line style=\"stroke: #383838; stroke-width: 1.5;\" x1=\"243\" x2=\"283\" y1=\"192.9375\" y2=\"192.9375\"/></a><!--MD5=[05d275557350bfb9b23a4ef7222b4c39]\n",
       "link E3 to E2--><a href=\"psysml:8fca0815-a461-4953-83e8-63ed8c86de29\" target=\"_top\" title=\"psysml:8fca0815-a461-4953-83e8-63ed8c86de29\" xlink:actuate=\"onRequest\" xlink:href=\"psysml:8fca0815-a461-4953-83e8-63ed8c86de29\" xlink:show=\"new\" xlink:title=\"psysml:8fca0815-a461-4953-83e8-63ed8c86de29\" xlink:type=\"simple\"><path d=\"M182.48,201.31 C191.32,220.13 204.37,247.89 215.99,272.64 \" fill=\"none\" id=\"E3-&gt;E2\" style=\"stroke: #383838; stroke-width: 1.0;\"/><polygon fill=\"none\" points=\"222.34,269.69,224.51,290.77,209.67,275.64,222.34,269.69\" style=\"stroke: #383838; stroke-width: 1.0;\"/></a><!--MD5=[15ebcb19ae302d9b601edb458606d402]\n",
       "link E5 to E2--><a href=\"psysml:80d735d5-abd9-4df4-b941-a11b60e81c18\" target=\"_top\" title=\"psysml:80d735d5-abd9-4df4-b941-a11b60e81c18\" xlink:actuate=\"onRequest\" xlink:href=\"psysml:80d735d5-abd9-4df4-b941-a11b60e81c18\" xlink:show=\"new\" xlink:title=\"psysml:80d735d5-abd9-4df4-b941-a11b60e81c18\" xlink:type=\"simple\"><path d=\"M337.23,201.31 C322.73,220.59 301.19,249.26 282.25,274.45 \" fill=\"none\" id=\"E5-&gt;E2\" style=\"stroke: #383838; stroke-width: 1.0;\"/><polygon fill=\"none\" points=\"287.6,278.99,269.99,290.77,276.41,270.57,287.6,278.99\" style=\"stroke: #383838; stroke-width: 1.0;\"/></a><!--MD5=[9120cf2e5df3bff93db8f754bbbc09b4]\n",
       "link E5 to E6--><a href=\"psysml:bbf94ce0-8140-4269-b805-c97e9315d509\" target=\"_top\" title=\"psysml:bbf94ce0-8140-4269-b805-c97e9315d509\" xlink:actuate=\"onRequest\" xlink:href=\"psysml:bbf94ce0-8140-4269-b805-c97e9315d509\" xlink:show=\"new\" xlink:title=\"psysml:bbf94ce0-8140-4269-b805-c97e9315d509\" xlink:type=\"simple\"><path d=\"M351.82,211.55 C350.58,230.03 348.99,253.61 347.58,274.71 \" fill=\"none\" id=\"E5-E6\" style=\"stroke: #383838; stroke-width: 1.0;\"/><polygon fill=\"#383838\" points=\"346.9,284.84,350.4299,277.0593,344.4435,276.6568,346.9,284.84\" style=\"stroke: #383838; stroke-width: 1.0;\"/><path d=\"M343.8553,203.8139 A9,9 0 0 0 360.7317 204.9486\" fill=\"none\" style=\"stroke: #383838; stroke-width: 1.5;\"/><text fill=\"#000000\" font-family=\"sans-serif\" font-size=\"13\" lengthAdjust=\"spacingAndGlyphs\" textLength=\"60\" x=\"350\" y=\"251.0669\">«variant»</text></a><!--MD5=[14ccda38c055a5c0da953d572bc50960]\n",
       "link E7 to E3--><a href=\"psysml:1a218306-3ccb-4021-8143-a6b7222dd125\" target=\"_top\" title=\"psysml:1a218306-3ccb-4021-8143-a6b7222dd125\" xlink:actuate=\"onRequest\" xlink:href=\"psysml:1a218306-3ccb-4021-8143-a6b7222dd125\" xlink:show=\"new\" xlink:title=\"psysml:1a218306-3ccb-4021-8143-a6b7222dd125\" xlink:type=\"simple\"><path d=\"M172,87.13 C172,100.7 172,118.53 172,134.73 \" fill=\"none\" id=\"E7-&gt;E3\" style=\"stroke: #383838; stroke-width: 1.0;\"/><polygon fill=\"#FFFFFF\" points=\"172,154.92,165,135.92,179,135.92,172,154.92\" style=\"stroke: #383838; stroke-width: 1.0;\"/><ellipse cx=\"167\" cy=\"130.22\" fill=\"#383838\" rx=\"2\" ry=\"2\" style=\"stroke: #383838; stroke-width: 1.0;\"/><ellipse cx=\"177\" cy=\"130.22\" fill=\"#383838\" rx=\"2\" ry=\"2\" style=\"stroke: #383838; stroke-width: 1.0;\"/></a><!--MD5=[f1f3f9f2fc535e6147756cb86a7f2e32]\n",
       "link E8 to E2--><a href=\"psysml:0a07ead6-b6a6-4f86-92cb-b01532aad754\" target=\"_top\" title=\"psysml:0a07ead6-b6a6-4f86-92cb-b01532aad754\" xlink:actuate=\"onRequest\" xlink:href=\"psysml:0a07ead6-b6a6-4f86-92cb-b01532aad754\" xlink:show=\"new\" xlink:title=\"psysml:0a07ead6-b6a6-4f86-92cb-b01532aad754\" xlink:type=\"simple\"><path d=\"M102.03,200.45 C118.37,211.04 137.76,224.42 154,238 C167.86,249.58 181.94,263.07 194.66,276.02 \" fill=\"none\" id=\"E8-&gt;E2\" style=\"stroke: #383838; stroke-width: 1.0;\"/><polygon fill=\"#FFFFFF\" points=\"208.87,290.84,190.6693,281.9667,200.7765,272.2794,208.87,290.84\" style=\"stroke: #383838; stroke-width: 1.0;\"/><ellipse cx=\"188.1691\" cy=\"276.4678\" fill=\"#383838\" rx=\"2\" ry=\"2\" style=\"stroke: #383838; stroke-width: 1.0;\"/><ellipse cx=\"195.3885\" cy=\"269.5482\" fill=\"#383838\" rx=\"2\" ry=\"2\" style=\"stroke: #383838; stroke-width: 1.0;\"/></a><!--MD5=[ed10624c06dd9a4fa49ccf290e8b16a8]\n",
       "link E8 to E9--><a href=\"psysml:95cf767c-bf38-4d44-8a21-82e4671e1c7d\" target=\"_top\" title=\"psysml:95cf767c-bf38-4d44-8a21-82e4671e1c7d\" xlink:actuate=\"onRequest\" xlink:href=\"psysml:95cf767c-bf38-4d44-8a21-82e4671e1c7d\" xlink:show=\"new\" xlink:title=\"psysml:95cf767c-bf38-4d44-8a21-82e4671e1c7d\" xlink:type=\"simple\"><path d=\"M76.17,218.04 C80.26,235.44 85.14,256.2 89.55,274.98 \" fill=\"none\" id=\"E8-E9\" style=\"stroke: #383838; stroke-width: 1.0;\"/><polygon fill=\"#383838\" points=\"91.87,284.88,92.9607,276.4059,87.1198,277.7782,91.87,284.88\" style=\"stroke: #383838; stroke-width: 1.0;\"/><path d=\"M66.2994,213.0085 A9,9 0 0 0 82.7667 209.1452\" fill=\"none\" style=\"stroke: #383838; stroke-width: 1.5;\"/><text fill=\"#000000\" font-family=\"sans-serif\" font-size=\"13\" lengthAdjust=\"spacingAndGlyphs\" textLength=\"60\" x=\"85\" y=\"251.0669\">«variant»</text></a><!--MD5=[0f36bececdf0dff6e600d6f64214b0f1]\n",
       "link E10 to E2--><a href=\"psysml:6b6ac884-9cd9-45a3-8497-3c127dcfd472\" target=\"_top\" title=\"psysml:6b6ac884-9cd9-45a3-8497-3c127dcfd472\" xlink:actuate=\"onRequest\" xlink:href=\"psysml:6b6ac884-9cd9-45a3-8497-3c127dcfd472\" xlink:show=\"new\" xlink:title=\"psysml:6b6ac884-9cd9-45a3-8497-3c127dcfd472\" xlink:type=\"simple\"><path d=\"M259.86,201.31 C257.27,219.67 253.48,246.54 250.06,270.81 \" fill=\"none\" id=\"E10-&gt;E2\" style=\"stroke: #383838; stroke-width: 1.0;\"/><polygon fill=\"#FFFFFF\" points=\"247.25,290.77,242.9654,270.9801,256.8288,272.9305,247.25,290.77\" style=\"stroke: #383838; stroke-width: 1.0;\"/><ellipse cx=\"245.74\" cy=\"265.6143\" fill=\"#383838\" rx=\"2\" ry=\"2\" style=\"stroke: #383838; stroke-width: 1.0;\"/><ellipse cx=\"255.6425\" cy=\"267.0075\" fill=\"#383838\" rx=\"2\" ry=\"2\" style=\"stroke: #383838; stroke-width: 1.0;\"/></a><!--MD5=[2abdf020a8468d92fbaeee0b4996557c]\n",
       "@startuml\r\n",
       "top to bottom direction\r\n",
       "skinparam monochrome true\r\n",
       "skinparam classbackgroundcolor white\r\n",
       "skinparam shadowing false\r\n",
       "skinparam wrapWidth 300\r\n",
       "hide circle\r\n",
       "\r\n",
       "package \"VariabilityTest\" as E1  [[psysml:54c28c65-c036-409b-a9ca-8f60ef8eadfb ]]  {\r\n",
       "comp def \"P\" as E2  <<(T,blue) part  def>> [[psysml:82cb16a2-9eb2-4cce-bbbe-e1592c7acc8b ]] {\r\n",
       "- - attributes - -\r\n",
       "a\r\n",
       "}\r\n",
       "comp def \"Q\" as E3  <<(T,blue) part  def>> [[psysml:2ef5dada-a649-4c80-bc3f-904ca5914f5d ]] {\r\n",
       "}\r\n",
       "comp def \"B\" as E4  <<(T,blue) attribute  def>> [[psysml:45188152-89ae-47db-8fae-185a328aceea ]] {\r\n",
       "}\r\n",
       "comp def \"<i>V</i>\" as E5  <<(T,blue) part  def>> [[psysml:e8a966fa-6247-410c-94c4-6750afcc6da8 ]] {\r\n",
       "}\r\n",
       "comp usage \"x: Q \" as E6  <<(T,blue) part>> [[psysml:10060237-19c5-40dc-a73e-8cb7e4953e81 ]] {\r\n",
       "- - attributes - -\r\n",
       "b: B\\n//:>>P::a// \r\n",
       "}\r\n",
       "comp usage \"q: Q \" as E7  <<(T,blue) part>> [[psysml:070ce293-3e12-454f-ad5b-be257c39d672 ]] {\r\n",
       "}\r\n",
       "comp usage \"<i>v</i>: P \" as E8  <<variation>>\\n <<(T,blue) part>> [[psysml:3367482b-ff59-4bbe-a9dc-fe1b4a2ad697 ]] {\r\n",
       "}\r\n",
       "comp usage \"q :> VariabilityTest::q\" as E9  <<(T,blue) reference>> [[psysml:80fa5ea3-437e-4eec-9e3d-5d2e24e12c28 ]] {\r\n",
       "- - attributes - -\r\n",
       "b: B\\n//:>>P::a// \r\n",
       "}\r\n",
       "comp usage \"y: P \" as E10  <<(T,blue) part>> [[psysml:48eaa747-84b8-4879-8d6b-33c104c23f89 ]] {\r\n",
       "}\r\n",
       "}\r\n",
       "E3 - -|> E2 [[psysml:8fca0815-a461-4953-83e8-63ed8c86de29 ]] \r\n",
       "E5 - -|> E2 [[psysml:80d735d5-abd9-4df4-b941-a11b60e81c18 ]] \r\n",
       "E5 )- ->> E6 [[psysml:bbf94ce0-8140-4269-b805-c97e9315d509 ]] : <<variant>>\r\n",
       "E7 - -:|> E3 [[psysml:1a218306-3ccb-4021-8143-a6b7222dd125 ]] \r\n",
       "E8 - -:|> E2 [[psysml:0a07ead6-b6a6-4f86-92cb-b01532aad754 ]] \r\n",
       "E8 )- ->> E9 [[psysml:95cf767c-bf38-4d44-8a21-82e4671e1c7d ]] : <<variant>>\r\n",
       "E10 - -:|> E2 [[psysml:6b6ac884-9cd9-45a3-8497-3c127dcfd472 ]] \r\n",
       "@enduml\r\n",
       "\n",
       "PlantUML version 1.2020.13(Sat Jun 13 12:26:38 UTC 2020)\n",
       "(EPL source distribution)\n",
       "Java Runtime: OpenJDK Runtime Environment\n",
       "JVM: OpenJDK 64-Bit Server VM\n",
       "Default Encoding: UTF-8\n",
       "Language: en\n",
       "Country: null\n",
       "--></g></svg>"
      ]
     },
     "execution_count": 45,
     "metadata": {},
     "output_type": "execute_result"
    }
   ],
   "source": [
    "%viz --style=\"TB\" --view=\"Tree\" \"VariabilityTest\""
   ]
  },
  {
   "cell_type": "code",
   "execution_count": 46,
   "id": "977ab434",
   "metadata": {
    "execution": {
     "iopub.execute_input": "2021-10-25T08:21:45.375120Z",
     "iopub.status.busy": "2021-10-25T08:21:45.374713Z",
     "iopub.status.idle": "2021-10-25T08:21:45.378746Z",
     "shell.execute_reply": "2021-10-25T08:21:45.378399Z"
    }
   },
   "outputs": [
    {
     "data": {
      "image/svg+xml": [
       "<?xml version=\"1.0\" encoding=\"UTF-8\" standalone=\"no\"?><svg xmlns=\"http://www.w3.org/2000/svg\" xmlns:xlink=\"http://www.w3.org/1999/xlink\" contentScriptType=\"application/ecmascript\" contentStyleType=\"text/css\" height=\"12px\" preserveAspectRatio=\"none\" style=\"width:12px;height:12px;\" version=\"1.1\" viewBox=\"0 0 12 12\" width=\"12px\" zoomAndPan=\"magnify\"><defs/><g><!--MD5=[f4ee21bc66e489b5061b7c3e9601fdef]\n",
       "@startuml\r\n",
       "top to bottom direction\r\n",
       "skinparam monochrome true\r\n",
       "skinparam classbackgroundcolor white\r\n",
       "skinparam shadowing false\r\n",
       "skinparam wrapWidth 300\r\n",
       "hide circle\r\n",
       "\r\n",
       "@enduml\r\n",
       "\n",
       "PlantUML version 1.2020.13(Sat Jun 13 12:26:38 UTC 2020)\n",
       "(EPL source distribution)\n",
       "Java Runtime: OpenJDK Runtime Environment\n",
       "JVM: OpenJDK 64-Bit Server VM\n",
       "Default Encoding: UTF-8\n",
       "Language: en\n",
       "Country: null\n",
       "--></g></svg>"
      ]
     },
     "execution_count": 46,
     "metadata": {},
     "output_type": "execute_result"
    }
   ],
   "source": [
    "%viz --style=\"TB\" --view=\"State\" \"VariabilityTest\""
   ]
  },
  {
   "cell_type": "code",
   "execution_count": 47,
   "id": "94494324",
   "metadata": {
    "execution": {
     "iopub.execute_input": "2021-10-25T08:21:45.428069Z",
     "iopub.status.busy": "2021-10-25T08:21:45.427661Z",
     "iopub.status.idle": "2021-10-25T08:21:45.499739Z",
     "shell.execute_reply": "2021-10-25T08:21:45.497822Z"
    }
   },
   "outputs": [
    {
     "data": {
      "image/svg+xml": [
       "<?xml version=\"1.0\" encoding=\"UTF-8\" standalone=\"no\"?><svg xmlns=\"http://www.w3.org/2000/svg\" xmlns:xlink=\"http://www.w3.org/1999/xlink\" contentScriptType=\"application/ecmascript\" contentStyleType=\"text/css\" height=\"427px\" preserveAspectRatio=\"none\" style=\"width:853px;height:427px;\" version=\"1.1\" viewBox=\"0 0 853 427\" width=\"853px\" zoomAndPan=\"magnify\"><defs/><g><!--MD5=[fbc87193dbaf4d95561dea2c320d4a47]\n",
       "cluster E1--><a href=\"psysml:54c28c65-c036-409b-a9ca-8f60ef8eadfb\" target=\"_top\" title=\"psysml:54c28c65-c036-409b-a9ca-8f60ef8eadfb\" xlink:actuate=\"onRequest\" xlink:href=\"psysml:54c28c65-c036-409b-a9ca-8f60ef8eadfb\" xlink:show=\"new\" xlink:title=\"psysml:54c28c65-c036-409b-a9ca-8f60ef8eadfb\" xlink:type=\"simple\"><polygon fill=\"#FFFFFF\" points=\"16,6,116,6,123,28.2969,831,28.2969,831,415,16,415,16,6\" style=\"stroke: #000000; stroke-width: 1.5;\"/><line style=\"stroke: #000000; stroke-width: 1.5;\" x1=\"16\" x2=\"123\" y1=\"28.2969\" y2=\"28.2969\"/><text fill=\"#000000\" font-family=\"sans-serif\" font-size=\"14\" font-weight=\"bold\" lengthAdjust=\"spacingAndGlyphs\" textLength=\"94\" x=\"20\" y=\"20.9951\">VariabilityTest</text></a><!--MD5=[e4f7fae6ed58524ba242bb0b0d3be6b7]\n",
       "cluster E2--><a href=\"psysml:82cb16a2-9eb2-4cce-bbbe-e1592c7acc8b\" target=\"_top\" title=\"psysml:82cb16a2-9eb2-4cce-bbbe-e1592c7acc8b\" xlink:actuate=\"onRequest\" xlink:href=\"psysml:82cb16a2-9eb2-4cce-bbbe-e1592c7acc8b\" xlink:show=\"new\" xlink:title=\"psysml:82cb16a2-9eb2-4cce-bbbe-e1592c7acc8b\" xlink:type=\"simple\"><rect fill=\"#FFFFFF\" height=\"129\" id=\"E2\" style=\"stroke: #383838; stroke-width: 1.5;\" width=\"139\" x=\"460\" y=\"254\"/><rect fill=\"#F8F8F8\" height=\"37.9375\" style=\"stroke: #383838; stroke-width: 1.5;\" width=\"139\" x=\"460\" y=\"254\"/><text fill=\"#000000\" font-family=\"sans-serif\" font-size=\"12\" font-style=\"italic\" lengthAdjust=\"spacingAndGlyphs\" textLength=\"68\" x=\"495.5\" y=\"270.1387\">«part  def»</text><text fill=\"#000000\" font-family=\"sans-serif\" font-size=\"12\" lengthAdjust=\"spacingAndGlyphs\" textLength=\"8\" x=\"525.5\" y=\"284.1074\">P</text></a><!--MD5=[14e3b0961a2654348d326746436168a1]\n",
       "cluster E6--><a href=\"psysml:e8a966fa-6247-410c-94c4-6750afcc6da8\" target=\"_top\" title=\"psysml:e8a966fa-6247-410c-94c4-6750afcc6da8\" xlink:actuate=\"onRequest\" xlink:href=\"psysml:e8a966fa-6247-410c-94c4-6750afcc6da8\" xlink:show=\"new\" xlink:title=\"psysml:e8a966fa-6247-410c-94c4-6750afcc6da8\" xlink:type=\"simple\"><rect fill=\"#FFFFFF\" height=\"157\" id=\"E6\" style=\"stroke: #383838; stroke-width: 1.5;\" width=\"131\" x=\"668\" y=\"57\"/><rect fill=\"#F8F8F8\" height=\"37.9375\" style=\"stroke: #383838; stroke-width: 1.5;\" width=\"131\" x=\"668\" y=\"57\"/><text fill=\"#000000\" font-family=\"sans-serif\" font-size=\"12\" font-style=\"italic\" lengthAdjust=\"spacingAndGlyphs\" textLength=\"68\" x=\"699.5\" y=\"73.1387\">«part  def»</text><text fill=\"#000000\" font-family=\"sans-serif\" font-size=\"12\" font-style=\"italic\" lengthAdjust=\"spacingAndGlyphs\" textLength=\"8\" x=\"729.5\" y=\"87.1074\">V</text></a><!--MD5=[7f149f147074ac12df2cb0a7728a5fb0]\n",
       "cluster E9--><a href=\"psysml:3367482b-ff59-4bbe-a9dc-fe1b4a2ad697\" target=\"_top\" title=\"psysml:3367482b-ff59-4bbe-a9dc-fe1b4a2ad697\" xlink:actuate=\"onRequest\" xlink:href=\"psysml:3367482b-ff59-4bbe-a9dc-fe1b4a2ad697\" xlink:show=\"new\" xlink:title=\"psysml:3367482b-ff59-4bbe-a9dc-fe1b4a2ad697\" xlink:type=\"simple\"><rect fill=\"#FFFFFF\" height=\"139\" id=\"E9\" rx=\"10\" ry=\"10\" style=\"stroke: #383838; stroke-width: 1.5;\" width=\"172\" x=\"464\" y=\"74\"/><rect fill=\"#F8F8F8\" height=\"23.9688\" rx=\"10\" ry=\"10\" style=\"stroke: #F8F8F8; stroke-width: 1.5;\" width=\"172\" x=\"464\" y=\"74\"/><rect fill=\"#F8F8F8\" height=\"10\" style=\"stroke: #F8F8F8; stroke-width: 1.5;\" width=\"172\" x=\"464\" y=\"87.9688\"/><rect fill=\"none\" height=\"139\" id=\"E9\" rx=\"10\" ry=\"10\" style=\"stroke: #383838; stroke-width: 1.5;\" width=\"172\" x=\"464\" y=\"74\"/><text fill=\"#000000\" font-family=\"sans-serif\" font-size=\"12\" lengthAdjust=\"spacingAndGlyphs\" textLength=\"22\" x=\"539\" y=\"90.1387\">v: P</text><line style=\"stroke: #383838; stroke-width: 1.0;\" x1=\"464\" x2=\"636\" y1=\"97.9688\" y2=\"97.9688\"/></a><g id=\"E1.E5\"><a href=\"psysml:45188152-89ae-47db-8fae-185a328aceea\" target=\"_top\" title=\"psysml:45188152-89ae-47db-8fae-185a328aceea\" xlink:actuate=\"onRequest\" xlink:href=\"psysml:45188152-89ae-47db-8fae-185a328aceea\" xlink:show=\"new\" xlink:title=\"psysml:45188152-89ae-47db-8fae-185a328aceea\" xlink:type=\"simple\"><rect fill=\"#FFFFFF\" height=\"42.9375\" id=\"E5\" style=\"stroke: #383838; stroke-width: 1.5;\" width=\"104\" x=\"341\" y=\"131.5\"/><rect fill=\"#F8F8F8\" height=\"37.9375\" style=\"stroke: #383838; stroke-width: 1.5;\" width=\"104\" x=\"341\" y=\"131.5\"/><text fill=\"#000000\" font-family=\"sans-serif\" font-size=\"12\" font-style=\"italic\" lengthAdjust=\"spacingAndGlyphs\" textLength=\"97\" x=\"344.5\" y=\"147.6387\">«attribute  def»</text><text fill=\"#000000\" font-family=\"sans-serif\" font-size=\"12\" lengthAdjust=\"spacingAndGlyphs\" textLength=\"8\" x=\"389\" y=\"161.6074\">B</text></a></g><!--MD5=[09b614a08d8cba4a07c9adeb5e0fee81]\n",
       "class E3--><a href=\"psysml:b3756095-16bb-4cb1-b9cb-a9f1f269c560\" target=\"_top\" title=\"psysml:b3756095-16bb-4cb1-b9cb-a9f1f269c560\" xlink:actuate=\"onRequest\" xlink:href=\"psysml:b3756095-16bb-4cb1-b9cb-a9f1f269c560\" xlink:show=\"new\" xlink:title=\"psysml:b3756095-16bb-4cb1-b9cb-a9f1f269c560\" xlink:type=\"simple\"><rect fill=\"#FFFFFF\" height=\"45.9375\" id=\"E3\" rx=\"10\" ry=\"10\" style=\"stroke: #383838; stroke-width: 1.5;\" width=\"71\" x=\"503.5\" y=\"313\"/><text fill=\"#000000\" font-family=\"sans-serif\" font-size=\"12\" font-style=\"italic\" lengthAdjust=\"spacingAndGlyphs\" textLength=\"69\" x=\"504.5\" y=\"329.1387\">«attribute»</text><text fill=\"#000000\" font-family=\"sans-serif\" font-size=\"12\" lengthAdjust=\"spacingAndGlyphs\" textLength=\"8\" x=\"535\" y=\"343.1074\">a</text><line style=\"stroke: #383838; stroke-width: 1.5;\" x1=\"504.5\" x2=\"573.5\" y1=\"350.9375\" y2=\"350.9375\"/></a><g id=\"E1.E4\"><a href=\"psysml:2ef5dada-a649-4c80-bc3f-904ca5914f5d\" target=\"_top\" title=\"psysml:2ef5dada-a649-4c80-bc3f-904ca5914f5d\" xlink:actuate=\"onRequest\" xlink:href=\"psysml:2ef5dada-a649-4c80-bc3f-904ca5914f5d\" xlink:show=\"new\" xlink:title=\"psysml:2ef5dada-a649-4c80-bc3f-904ca5914f5d\" xlink:type=\"simple\"><rect fill=\"#FFFFFF\" height=\"42.9375\" id=\"E4\" style=\"stroke: #383838; stroke-width: 1.5;\" width=\"75\" x=\"230.5\" y=\"131.5\"/><rect fill=\"#F8F8F8\" height=\"37.9375\" style=\"stroke: #383838; stroke-width: 1.5;\" width=\"75\" x=\"230.5\" y=\"131.5\"/><text fill=\"#000000\" font-family=\"sans-serif\" font-size=\"12\" font-style=\"italic\" lengthAdjust=\"spacingAndGlyphs\" textLength=\"68\" x=\"234\" y=\"147.6387\">«part  def»</text><text fill=\"#000000\" font-family=\"sans-serif\" font-size=\"12\" lengthAdjust=\"spacingAndGlyphs\" textLength=\"9\" x=\"263.5\" y=\"161.6074\">Q</text></a></g><!--MD5=[2156ba9850f5573cc1fc38a6a4b2f02b]\n",
       "class E7--><a href=\"psysml:10060237-19c5-40dc-a73e-8cb7e4953e81\" target=\"_top\" title=\"psysml:10060237-19c5-40dc-a73e-8cb7e4953e81\" xlink:actuate=\"onRequest\" xlink:href=\"psysml:10060237-19c5-40dc-a73e-8cb7e4953e81\" xlink:show=\"new\" xlink:title=\"psysml:10060237-19c5-40dc-a73e-8cb7e4953e81\" xlink:type=\"simple\"><rect fill=\"#FFFFFF\" height=\"74.3828\" id=\"E7\" rx=\"10\" ry=\"10\" style=\"stroke: #383838; stroke-width: 1.5;\" width=\"63\" x=\"711.5\" y=\"116\"/><text fill=\"#000000\" font-family=\"sans-serif\" font-size=\"12\" lengthAdjust=\"spacingAndGlyphs\" textLength=\"23\" x=\"729.5\" y=\"132.1387\">x: Q</text><line style=\"stroke: #383838; stroke-width: 1.5;\" x1=\"712.5\" x2=\"773.5\" y1=\"139.9688\" y2=\"139.9688\"/><text fill=\"#000000\" font-family=\"sans-serif\" font-size=\"11\" lengthAdjust=\"spacingAndGlyphs\" textLength=\"23\" x=\"717.5\" y=\"170.9839\">b: B</text><text fill=\"#000000\" font-family=\"sans-serif\" font-size=\"11\" font-style=\"italic\" lengthAdjust=\"spacingAndGlyphs\" textLength=\"44\" x=\"717.5\" y=\"183.7886\">:&gt;&gt;P::a</text><line style=\"stroke: #383838; stroke-width: 1.0;\" x1=\"712.5\" x2=\"715.5\" y1=\"154.3711\" y2=\"154.3711\"/><text fill=\"#000000\" font-family=\"sans-serif\" font-size=\"11\" lengthAdjust=\"spacingAndGlyphs\" textLength=\"55\" x=\"715.5\" y=\"157.6792\">attributes</text><line style=\"stroke: #383838; stroke-width: 1.0;\" x1=\"770.5\" x2=\"773.5\" y1=\"154.3711\" y2=\"154.3711\"/></a><g id=\"E1.E8\"><a href=\"psysml:070ce293-3e12-454f-ad5b-be257c39d672\" target=\"_top\" title=\"psysml:070ce293-3e12-454f-ad5b-be257c39d672\" xlink:actuate=\"onRequest\" xlink:href=\"psysml:070ce293-3e12-454f-ad5b-be257c39d672\" xlink:show=\"new\" xlink:title=\"psysml:070ce293-3e12-454f-ad5b-be257c39d672\" xlink:type=\"simple\"><rect fill=\"#FFFFFF\" height=\"40\" id=\"E8\" rx=\"10\" ry=\"10\" style=\"stroke: #383838; stroke-width: 1.5;\" width=\"50\" x=\"145\" y=\"133\"/><rect fill=\"#F8F8F8\" height=\"23.9688\" rx=\"10\" ry=\"10\" style=\"stroke: #F8F8F8; stroke-width: 1.5;\" width=\"50\" x=\"145\" y=\"133\"/><rect fill=\"#F8F8F8\" height=\"10\" style=\"stroke: #F8F8F8; stroke-width: 1.5;\" width=\"50\" x=\"145\" y=\"146.9688\"/><rect fill=\"none\" height=\"40\" id=\"E8\" rx=\"10\" ry=\"10\" style=\"stroke: #383838; stroke-width: 1.5;\" width=\"50\" x=\"145\" y=\"133\"/><text fill=\"#000000\" font-family=\"sans-serif\" font-size=\"12\" lengthAdjust=\"spacingAndGlyphs\" textLength=\"25\" x=\"157.5\" y=\"149.1387\">q: Q</text></a></g><!--MD5=[96f4274e9e20536e775497830990834d]\n",
       "class E10--><a href=\"psysml:80fa5ea3-437e-4eec-9e3d-5d2e24e12c28\" target=\"_top\" title=\"psysml:80fa5ea3-437e-4eec-9e3d-5d2e24e12c28\" xlink:actuate=\"onRequest\" xlink:href=\"psysml:80fa5ea3-437e-4eec-9e3d-5d2e24e12c28\" xlink:show=\"new\" xlink:title=\"psysml:80fa5ea3-437e-4eec-9e3d-5d2e24e12c28\" xlink:type=\"simple\"><rect fill=\"#FFFFFF\" height=\"88.3516\" id=\"E10\" rx=\"10\" ry=\"10\" style=\"stroke: #383838; stroke-width: 1.5;\" width=\"139\" x=\"480.5\" y=\"109\"/><text fill=\"#000000\" font-family=\"sans-serif\" font-size=\"12\" font-style=\"italic\" lengthAdjust=\"spacingAndGlyphs\" textLength=\"75\" x=\"512.5\" y=\"125.1387\">«reference»</text><text fill=\"#000000\" font-family=\"sans-serif\" font-size=\"12\" lengthAdjust=\"spacingAndGlyphs\" textLength=\"133\" x=\"483.5\" y=\"139.1074\">q :&gt; VariabilityTest::q</text><line style=\"stroke: #383838; stroke-width: 1.5;\" x1=\"481.5\" x2=\"618.5\" y1=\"146.9375\" y2=\"146.9375\"/><text fill=\"#000000\" font-family=\"sans-serif\" font-size=\"11\" lengthAdjust=\"spacingAndGlyphs\" textLength=\"23\" x=\"486.5\" y=\"177.9526\">b: B</text><text fill=\"#000000\" font-family=\"sans-serif\" font-size=\"11\" font-style=\"italic\" lengthAdjust=\"spacingAndGlyphs\" textLength=\"44\" x=\"486.5\" y=\"190.7573\">:&gt;&gt;P::a</text><line style=\"stroke: #383838; stroke-width: 1.0;\" x1=\"481.5\" x2=\"522.5\" y1=\"161.3398\" y2=\"161.3398\"/><text fill=\"#000000\" font-family=\"sans-serif\" font-size=\"11\" lengthAdjust=\"spacingAndGlyphs\" textLength=\"55\" x=\"522.5\" y=\"164.6479\">attributes</text><line style=\"stroke: #383838; stroke-width: 1.0;\" x1=\"577.5\" x2=\"618.5\" y1=\"161.3398\" y2=\"161.3398\"/></a><g id=\"E1.E11\"><a href=\"psysml:48eaa747-84b8-4879-8d6b-33c104c23f89\" target=\"_top\" title=\"psysml:48eaa747-84b8-4879-8d6b-33c104c23f89\" xlink:actuate=\"onRequest\" xlink:href=\"psysml:48eaa747-84b8-4879-8d6b-33c104c23f89\" xlink:show=\"new\" xlink:title=\"psysml:48eaa747-84b8-4879-8d6b-33c104c23f89\" xlink:type=\"simple\"><rect fill=\"#FFFFFF\" height=\"40\" id=\"E11\" rx=\"10\" ry=\"10\" style=\"stroke: #383838; stroke-width: 1.5;\" width=\"77\" x=\"32.5\" y=\"133\"/><rect fill=\"#F8F8F8\" height=\"23.9688\" rx=\"10\" ry=\"10\" style=\"stroke: #F8F8F8; stroke-width: 1.5;\" width=\"77\" x=\"32.5\" y=\"133\"/><rect fill=\"#F8F8F8\" height=\"10\" style=\"stroke: #F8F8F8; stroke-width: 1.5;\" width=\"77\" x=\"32.5\" y=\"146.9688\"/><rect fill=\"none\" height=\"40\" id=\"E11\" rx=\"10\" ry=\"10\" style=\"stroke: #383838; stroke-width: 1.5;\" width=\"77\" x=\"32.5\" y=\"133\"/><text fill=\"#000000\" font-family=\"sans-serif\" font-size=\"12\" lengthAdjust=\"spacingAndGlyphs\" textLength=\"62\" x=\"38\" y=\"149.1387\">y: P= v::q;</text></a></g><!--MD5=[185131fc0dcab0a4505a2ebe144e961b]\n",
       "link E4 to E2--><a href=\"psysml:8fca0815-a461-4953-83e8-63ed8c86de29\" target=\"_top\" title=\"psysml:8fca0815-a461-4953-83e8-63ed8c86de29\" xlink:actuate=\"onRequest\" xlink:href=\"psysml:8fca0815-a461-4953-83e8-63ed8c86de29\" xlink:show=\"new\" xlink:title=\"psysml:8fca0815-a461-4953-83e8-63ed8c86de29\" xlink:type=\"simple\"><path d=\"M280.74,174.69 C291.21,190.78 307.04,213.12 324,230 C351.635,257.5 386.95,283.365 415.6912,302.5425 C430.0619,312.1313 442.7891,320.0481 452.0911,325.6616 C454.4166,327.0649 456.528,328.3243 458.3976,329.4299 C458.8649,329.7063 459.3172,329.973 459.7539,330.2301 \" fill=\"none\" id=\"E4-&gt;E2\" style=\"stroke: #383838; stroke-width: 1.0;\"/><polygon fill=\"#FFFFFF\" points=\"459.7539,330.2301,446.9295,314.5605,439.8288,326.6261,459.7539,330.2301\" style=\"stroke: #383838; stroke-width: 1.0;\"/></a><!--MD5=[2351f337d6de0f557b50152ba70847b5]\n",
       "link E6 to E2--><a href=\"psysml:80d735d5-abd9-4df4-b941-a11b60e81c18\" target=\"_top\" title=\"psysml:80d735d5-abd9-4df4-b941-a11b60e81c18\" xlink:actuate=\"onRequest\" xlink:href=\"psysml:80d735d5-abd9-4df4-b941-a11b60e81c18\" xlink:show=\"new\" xlink:title=\"psysml:80d735d5-abd9-4df4-b941-a11b60e81c18\" xlink:type=\"simple\"><path d=\"M667.8947,184.6995 C667.8489,184.8242 667.8029,184.949 667.7566,185.0739 C667.6641,185.3237 667.5706,185.5741 667.4763,185.825 C661.435,201.8825 651.565,220.025 636,230 C608.08,247.89 512.03,216.25 487,238 C482.92,241.5463 479.5564,245.6884 476.7947,250.2262 C476.1043,251.3607 475.4514,252.5198 474.8345,253.7006 \" fill=\"none\" id=\"E6-&gt;E2\" style=\"stroke: #383838; stroke-width: 1.0;\"/><polygon fill=\"#FFFFFF\" points=\"474.8345,253.7006,489.8378,240.1028,477.4296,233.6191,474.8345,253.7006\" style=\"stroke: #383838; stroke-width: 1.0;\"/></a><!--MD5=[2e9ae99ceaab0dbb27718d1da6b78d03]\n",
       "@startuml\r\n",
       "skinparam ranksep 10\r\n",
       "skinparam rectangle {\r\n",
       " backgroundColor<<block>> LightGreen\r\n",
       "}\r\n",
       "top to bottom direction\r\n",
       "skinparam monochrome true\r\n",
       "skinparam classbackgroundcolor white\r\n",
       "skinparam shadowing false\r\n",
       "skinparam wrapWidth 300\r\n",
       "hide circle\r\n",
       "\r\n",
       "package \"VariabilityTest\" as E1  [[psysml:54c28c65-c036-409b-a9ca-8f60ef8eadfb ]]  {\r\n",
       "rec def \"P\" as E2  <<(T,blue) part  def>> [[psysml:82cb16a2-9eb2-4cce-bbbe-e1592c7acc8b ]] {\r\n",
       "comp usage \"a\" as E3  <<(T,blue) attribute>> [[psysml:b3756095-16bb-4cb1-b9cb-a9f1f269c560 ]] {\r\n",
       "}\r\n",
       "}\r\n",
       "rec def \"Q\" as E4  <<(T,blue) part  def>> [[psysml:2ef5dada-a649-4c80-bc3f-904ca5914f5d ]] {\r\n",
       "}\r\n",
       "def \"B\" as E5  <<(T,blue) attribute  def>> [[psysml:45188152-89ae-47db-8fae-185a328aceea ]] \r\n",
       "rec def \"<i>V</i>\" as E6  <<(T,blue) part  def>> [[psysml:e8a966fa-6247-410c-94c4-6750afcc6da8 ]] {\r\n",
       "comp usage \"x: Q \" as E7  [[psysml:10060237-19c5-40dc-a73e-8cb7e4953e81 ]] {\r\n",
       "- - attributes - -\r\n",
       "b: B\\n//:>>P::a// \r\n",
       "}\r\n",
       "}\r\n",
       "rec usage \"q: Q\" as E8  [[psysml:070ce293-3e12-454f-ad5b-be257c39d672 ]] {\r\n",
       "}\r\n",
       "rec usage \"v: P\" as E9  [[psysml:3367482b-ff59-4bbe-a9dc-fe1b4a2ad697 ]] {\r\n",
       "comp usage \"q :> VariabilityTest::q\" as E10  <<(T,blue) reference>> [[psysml:80fa5ea3-437e-4eec-9e3d-5d2e24e12c28 ]] {\r\n",
       "- - attributes - -\r\n",
       "b: B\\n//:>>P::a// \r\n",
       "}\r\n",
       "}\r\n",
       "rec usage \"y: P= v::q; \" as E11  [[psysml:48eaa747-84b8-4879-8d6b-33c104c23f89 ]] {\r\n",
       "}\r\n",
       "}\r\n",
       "E4 - -|> E2 [[psysml:8fca0815-a461-4953-83e8-63ed8c86de29 ]] \r\n",
       "E6 - -|> E2 [[psysml:80d735d5-abd9-4df4-b941-a11b60e81c18 ]] \r\n",
       "@enduml\r\n",
       "\n",
       "PlantUML version 1.2020.13(Sat Jun 13 12:26:38 UTC 2020)\n",
       "(EPL source distribution)\n",
       "Java Runtime: OpenJDK Runtime Environment\n",
       "JVM: OpenJDK 64-Bit Server VM\n",
       "Default Encoding: UTF-8\n",
       "Language: en\n",
       "Country: null\n",
       "--></g></svg>"
      ]
     },
     "execution_count": 47,
     "metadata": {},
     "output_type": "execute_result"
    }
   ],
   "source": [
    "%viz --style=\"TB\" --view=\"Interconnection\" \"VariabilityTest\""
   ]
  },
  {
   "cell_type": "code",
   "execution_count": 48,
   "id": "0698ac02",
   "metadata": {
    "execution": {
     "iopub.execute_input": "2021-10-25T08:21:45.548845Z",
     "iopub.status.busy": "2021-10-25T08:21:45.548419Z",
     "iopub.status.idle": "2021-10-25T08:21:45.553769Z",
     "shell.execute_reply": "2021-10-25T08:21:45.553428Z"
    }
   },
   "outputs": [
    {
     "data": {
      "image/svg+xml": [
       "<?xml version=\"1.0\" encoding=\"UTF-8\" standalone=\"no\"?><svg xmlns=\"http://www.w3.org/2000/svg\" xmlns:xlink=\"http://www.w3.org/1999/xlink\" contentScriptType=\"application/ecmascript\" contentStyleType=\"text/css\" height=\"12px\" preserveAspectRatio=\"none\" style=\"width:12px;height:12px;\" version=\"1.1\" viewBox=\"0 0 12 12\" width=\"12px\" zoomAndPan=\"magnify\"><defs/><g><!--MD5=[06afc254b03ac5e9d9fb7773b07d0800]\n",
       "@startuml\r\n",
       "skinparam ranksep 8\r\n",
       "top to bottom direction\r\n",
       "skinparam monochrome true\r\n",
       "skinparam classbackgroundcolor white\r\n",
       "skinparam shadowing false\r\n",
       "skinparam wrapWidth 300\r\n",
       "hide circle\r\n",
       "\r\n",
       "@enduml\r\n",
       "\n",
       "PlantUML version 1.2020.13(Sat Jun 13 12:26:38 UTC 2020)\n",
       "(EPL source distribution)\n",
       "Java Runtime: OpenJDK Runtime Environment\n",
       "JVM: OpenJDK 64-Bit Server VM\n",
       "Default Encoding: UTF-8\n",
       "Language: en\n",
       "Country: null\n",
       "--></g></svg>"
      ]
     },
     "execution_count": 48,
     "metadata": {},
     "output_type": "execute_result"
    }
   ],
   "source": [
    "%viz --style=\"TB\" --view=\"Action\" \"VariabilityTest\""
   ]
  },
  {
   "cell_type": "code",
   "execution_count": 49,
   "id": "8714d571",
   "metadata": {
    "execution": {
     "iopub.execute_input": "2021-10-25T08:21:45.603396Z",
     "iopub.status.busy": "2021-10-25T08:21:45.602985Z",
     "iopub.status.idle": "2021-10-25T08:21:45.608620Z",
     "shell.execute_reply": "2021-10-25T08:21:45.608944Z"
    }
   },
   "outputs": [
    {
     "data": {
      "image/svg+xml": [
       "<?xml version=\"1.0\" encoding=\"UTF-8\" standalone=\"no\"?><svg xmlns=\"http://www.w3.org/2000/svg\" xmlns:xlink=\"http://www.w3.org/1999/xlink\" contentScriptType=\"application/ecmascript\" contentStyleType=\"text/css\" height=\"12px\" preserveAspectRatio=\"none\" style=\"width:12px;height:12px;\" version=\"1.1\" viewBox=\"0 0 12 12\" width=\"12px\" zoomAndPan=\"magnify\"><defs/><g><!--MD5=[e1ab0c84c44d2fef8bf5f140f2689906]\n",
       "@startuml\r\n",
       "skinparam roundcorner 20\r\n",
       "skinparam BoxPadding 20\r\n",
       "skinparam SequenceBoxBackgroundColor #white\r\n",
       "skinparam style strictuml\r\n",
       "skinparam maxMessageSize 100\r\n",
       "top to bottom direction\r\n",
       "skinparam monochrome true\r\n",
       "skinparam classbackgroundcolor white\r\n",
       "skinparam shadowing false\r\n",
       "skinparam wrapWidth 300\r\n",
       "hide circle\r\n",
       "\r\n",
       "@enduml\r\n",
       "\n",
       "PlantUML version 1.2020.13(Sat Jun 13 12:26:38 UTC 2020)\n",
       "(EPL source distribution)\n",
       "Java Runtime: OpenJDK Runtime Environment\n",
       "JVM: OpenJDK 64-Bit Server VM\n",
       "Default Encoding: UTF-8\n",
       "Language: en\n",
       "Country: null\n",
       "--></g></svg>"
      ]
     },
     "execution_count": 49,
     "metadata": {},
     "output_type": "execute_result"
    }
   ],
   "source": [
    "%viz --style=\"TB\" --view=\"Sequence\" \"VariabilityTest\""
   ]
  },
  {
   "cell_type": "code",
   "execution_count": 50,
   "id": "aa078630",
   "metadata": {
    "execution": {
     "iopub.execute_input": "2021-10-25T08:21:45.658818Z",
     "iopub.status.busy": "2021-10-25T08:21:45.658411Z",
     "iopub.status.idle": "2021-10-25T08:21:45.738087Z",
     "shell.execute_reply": "2021-10-25T08:21:45.737724Z"
    }
   },
   "outputs": [
    {
     "data": {
      "image/svg+xml": [
       "<?xml version=\"1.0\" encoding=\"UTF-8\" standalone=\"no\"?><svg xmlns=\"http://www.w3.org/2000/svg\" xmlns:xlink=\"http://www.w3.org/1999/xlink\" contentScriptType=\"application/ecmascript\" contentStyleType=\"text/css\" height=\"401px\" preserveAspectRatio=\"none\" style=\"width:427px;height:401px;\" version=\"1.1\" viewBox=\"0 0 427 401\" width=\"427px\" zoomAndPan=\"magnify\"><defs/><g><!--MD5=[fbc87193dbaf4d95561dea2c320d4a47]\n",
       "cluster E1--><a href=\"psysml:54c28c65-c036-409b-a9ca-8f60ef8eadfb\" target=\"_top\" title=\"psysml:54c28c65-c036-409b-a9ca-8f60ef8eadfb\" xlink:actuate=\"onRequest\" xlink:href=\"psysml:54c28c65-c036-409b-a9ca-8f60ef8eadfb\" xlink:show=\"new\" xlink:title=\"psysml:54c28c65-c036-409b-a9ca-8f60ef8eadfb\" xlink:type=\"simple\"><polygon fill=\"#FFFFFF\" points=\"16,6,116,6,123,28.2969,405,28.2969,405,389,16,389,16,6\" style=\"stroke: #000000; stroke-width: 1.5;\"/><line style=\"stroke: #000000; stroke-width: 1.5;\" x1=\"16\" x2=\"123\" y1=\"28.2969\" y2=\"28.2969\"/><text fill=\"#000000\" font-family=\"sans-serif\" font-size=\"14\" font-weight=\"bold\" lengthAdjust=\"spacingAndGlyphs\" textLength=\"94\" x=\"20\" y=\"20.9951\">VariabilityTest</text></a><!--MD5=[b4997ac47864f28c2f74865a473b2911]\n",
       "class E2--><a href=\"psysml:82cb16a2-9eb2-4cce-bbbe-e1592c7acc8b\" target=\"_top\" title=\"psysml:82cb16a2-9eb2-4cce-bbbe-e1592c7acc8b\" xlink:actuate=\"onRequest\" xlink:href=\"psysml:82cb16a2-9eb2-4cce-bbbe-e1592c7acc8b\" xlink:show=\"new\" xlink:title=\"psysml:82cb16a2-9eb2-4cce-bbbe-e1592c7acc8b\" xlink:type=\"simple\"><rect fill=\"#FFFFFF\" height=\"75.5469\" id=\"E2\" style=\"stroke: #383838; stroke-width: 1.5;\" width=\"70\" x=\"207\" y=\"291\"/><text fill=\"#000000\" font-family=\"sans-serif\" font-size=\"12\" font-style=\"italic\" lengthAdjust=\"spacingAndGlyphs\" textLength=\"68\" x=\"208\" y=\"307.1387\">«part  def»</text><text fill=\"#000000\" font-family=\"sans-serif\" font-size=\"12\" lengthAdjust=\"spacingAndGlyphs\" textLength=\"8\" x=\"238\" y=\"321.1074\">P</text><line style=\"stroke: #383838; stroke-width: 1.5;\" x1=\"208\" x2=\"276\" y1=\"328.9375\" y2=\"328.9375\"/><text fill=\"#000000\" font-family=\"sans-serif\" font-size=\"11\" lengthAdjust=\"spacingAndGlyphs\" textLength=\"7\" x=\"213\" y=\"359.9526\">a</text><line style=\"stroke: #383838; stroke-width: 1.0;\" x1=\"208\" x2=\"214.5\" y1=\"343.3398\" y2=\"343.3398\"/><text fill=\"#000000\" font-family=\"sans-serif\" font-size=\"11\" lengthAdjust=\"spacingAndGlyphs\" textLength=\"55\" x=\"214.5\" y=\"346.6479\">attributes</text><line style=\"stroke: #383838; stroke-width: 1.0;\" x1=\"269.5\" x2=\"276\" y1=\"343.3398\" y2=\"343.3398\"/></a><!--MD5=[09b614a08d8cba4a07c9adeb5e0fee81]\n",
       "class E3--><a href=\"psysml:2ef5dada-a649-4c80-bc3f-904ca5914f5d\" target=\"_top\" title=\"psysml:2ef5dada-a649-4c80-bc3f-904ca5914f5d\" xlink:actuate=\"onRequest\" xlink:href=\"psysml:2ef5dada-a649-4c80-bc3f-904ca5914f5d\" xlink:show=\"new\" xlink:title=\"psysml:2ef5dada-a649-4c80-bc3f-904ca5914f5d\" xlink:type=\"simple\"><rect fill=\"#FFFFFF\" height=\"45.9375\" id=\"E3\" style=\"stroke: #383838; stroke-width: 1.5;\" width=\"70\" x=\"137\" y=\"155\"/><text fill=\"#000000\" font-family=\"sans-serif\" font-size=\"12\" font-style=\"italic\" lengthAdjust=\"spacingAndGlyphs\" textLength=\"68\" x=\"138\" y=\"171.1387\">«part  def»</text><text fill=\"#000000\" font-family=\"sans-serif\" font-size=\"12\" lengthAdjust=\"spacingAndGlyphs\" textLength=\"9\" x=\"167.5\" y=\"185.1074\">Q</text><line style=\"stroke: #383838; stroke-width: 1.5;\" x1=\"138\" x2=\"206\" y1=\"192.9375\" y2=\"192.9375\"/></a><!--MD5=[ebbe1d658d1005bcc118a6aa81145e00]\n",
       "class E4--><a href=\"psysml:45188152-89ae-47db-8fae-185a328aceea\" target=\"_top\" title=\"psysml:45188152-89ae-47db-8fae-185a328aceea\" xlink:actuate=\"onRequest\" xlink:href=\"psysml:45188152-89ae-47db-8fae-185a328aceea\" xlink:show=\"new\" xlink:title=\"psysml:45188152-89ae-47db-8fae-185a328aceea\" xlink:type=\"simple\"><rect fill=\"#FFFFFF\" height=\"45.9375\" id=\"E4\" style=\"stroke: #383838; stroke-width: 1.5;\" width=\"99\" x=\"258.5\" y=\"41\"/><text fill=\"#000000\" font-family=\"sans-serif\" font-size=\"12\" font-style=\"italic\" lengthAdjust=\"spacingAndGlyphs\" textLength=\"97\" x=\"259.5\" y=\"57.1387\">«attribute  def»</text><text fill=\"#000000\" font-family=\"sans-serif\" font-size=\"12\" lengthAdjust=\"spacingAndGlyphs\" textLength=\"8\" x=\"304\" y=\"71.1074\">B</text><line style=\"stroke: #383838; stroke-width: 1.5;\" x1=\"259.5\" x2=\"356.5\" y1=\"78.9375\" y2=\"78.9375\"/></a><!--MD5=[270fce915f116d4de14055a7c1d9a0f3]\n",
       "class E5--><a href=\"psysml:e8a966fa-6247-410c-94c4-6750afcc6da8\" target=\"_top\" title=\"psysml:e8a966fa-6247-410c-94c4-6750afcc6da8\" xlink:actuate=\"onRequest\" xlink:href=\"psysml:e8a966fa-6247-410c-94c4-6750afcc6da8\" xlink:show=\"new\" xlink:title=\"psysml:e8a966fa-6247-410c-94c4-6750afcc6da8\" xlink:type=\"simple\"><rect fill=\"#FFFFFF\" height=\"45.9375\" id=\"E5\" style=\"stroke: #383838; stroke-width: 1.5;\" width=\"70\" x=\"319\" y=\"155\"/><text fill=\"#000000\" font-family=\"sans-serif\" font-size=\"12\" font-style=\"italic\" lengthAdjust=\"spacingAndGlyphs\" textLength=\"68\" x=\"320\" y=\"171.1387\">«part  def»</text><text fill=\"#000000\" font-family=\"sans-serif\" font-size=\"12\" font-style=\"italic\" lengthAdjust=\"spacingAndGlyphs\" textLength=\"8\" x=\"350\" y=\"185.1074\">V</text><line style=\"stroke: #383838; stroke-width: 1.5;\" x1=\"320\" x2=\"388\" y1=\"192.9375\" y2=\"192.9375\"/></a><!--MD5=[60a26617385b1d2d0262a64233df1f8d]\n",
       "class E6--><a href=\"psysml:10060237-19c5-40dc-a73e-8cb7e4953e81\" target=\"_top\" title=\"psysml:10060237-19c5-40dc-a73e-8cb7e4953e81\" xlink:actuate=\"onRequest\" xlink:href=\"psysml:10060237-19c5-40dc-a73e-8cb7e4953e81\" xlink:show=\"new\" xlink:title=\"psysml:10060237-19c5-40dc-a73e-8cb7e4953e81\" xlink:type=\"simple\"><rect fill=\"#FFFFFF\" height=\"88.3516\" id=\"E6\" rx=\"10\" ry=\"10\" style=\"stroke: #383838; stroke-width: 1.5;\" width=\"63\" x=\"312.5\" y=\"285\"/><text fill=\"#000000\" font-family=\"sans-serif\" font-size=\"12\" font-style=\"italic\" lengthAdjust=\"spacingAndGlyphs\" textLength=\"40\" x=\"324\" y=\"301.1387\">«part»</text><text fill=\"#000000\" font-family=\"sans-serif\" font-size=\"12\" lengthAdjust=\"spacingAndGlyphs\" textLength=\"23\" x=\"330.5\" y=\"315.1074\">x: Q</text><line style=\"stroke: #383838; stroke-width: 1.5;\" x1=\"313.5\" x2=\"374.5\" y1=\"322.9375\" y2=\"322.9375\"/><text fill=\"#000000\" font-family=\"sans-serif\" font-size=\"11\" lengthAdjust=\"spacingAndGlyphs\" textLength=\"23\" x=\"318.5\" y=\"353.9526\">b: B</text><text fill=\"#000000\" font-family=\"sans-serif\" font-size=\"11\" font-style=\"italic\" lengthAdjust=\"spacingAndGlyphs\" textLength=\"44\" x=\"318.5\" y=\"366.7573\">:&gt;&gt;P::a</text><line style=\"stroke: #383838; stroke-width: 1.0;\" x1=\"313.5\" x2=\"316.5\" y1=\"337.3398\" y2=\"337.3398\"/><text fill=\"#000000\" font-family=\"sans-serif\" font-size=\"11\" lengthAdjust=\"spacingAndGlyphs\" textLength=\"55\" x=\"316.5\" y=\"340.6479\">attributes</text><line style=\"stroke: #383838; stroke-width: 1.0;\" x1=\"371.5\" x2=\"374.5\" y1=\"337.3398\" y2=\"337.3398\"/></a><!--MD5=[2156ba9850f5573cc1fc38a6a4b2f02b]\n",
       "class E7--><a href=\"psysml:070ce293-3e12-454f-ad5b-be257c39d672\" target=\"_top\" title=\"psysml:070ce293-3e12-454f-ad5b-be257c39d672\" xlink:actuate=\"onRequest\" xlink:href=\"psysml:070ce293-3e12-454f-ad5b-be257c39d672\" xlink:show=\"new\" xlink:title=\"psysml:070ce293-3e12-454f-ad5b-be257c39d672\" xlink:type=\"simple\"><rect fill=\"#FFFFFF\" height=\"45.9375\" id=\"E7\" rx=\"10\" ry=\"10\" style=\"stroke: #383838; stroke-width: 1.5;\" width=\"42\" x=\"151\" y=\"41\"/><text fill=\"#000000\" font-family=\"sans-serif\" font-size=\"12\" font-style=\"italic\" lengthAdjust=\"spacingAndGlyphs\" textLength=\"40\" x=\"152\" y=\"57.1387\">«part»</text><text fill=\"#000000\" font-family=\"sans-serif\" font-size=\"12\" lengthAdjust=\"spacingAndGlyphs\" textLength=\"25\" x=\"157.5\" y=\"71.1074\">q: Q</text><line style=\"stroke: #383838; stroke-width: 1.5;\" x1=\"152\" x2=\"192\" y1=\"78.9375\" y2=\"78.9375\"/></a><!--MD5=[b9389687b975829384b498ac4b7476b2]\n",
       "class E8--><a href=\"psysml:3367482b-ff59-4bbe-a9dc-fe1b4a2ad697\" target=\"_top\" title=\"psysml:3367482b-ff59-4bbe-a9dc-fe1b4a2ad697\" xlink:actuate=\"onRequest\" xlink:href=\"psysml:3367482b-ff59-4bbe-a9dc-fe1b4a2ad697\" xlink:show=\"new\" xlink:title=\"psysml:3367482b-ff59-4bbe-a9dc-fe1b4a2ad697\" xlink:type=\"simple\"><rect fill=\"#FFFFFF\" height=\"59.9063\" id=\"E8\" rx=\"10\" ry=\"10\" style=\"stroke: #383838; stroke-width: 1.5;\" width=\"70\" x=\"32\" y=\"148\"/><text fill=\"#000000\" font-family=\"sans-serif\" font-size=\"12\" font-style=\"italic\" lengthAdjust=\"spacingAndGlyphs\" textLength=\"68\" x=\"33\" y=\"164.1387\">«variation»</text><text fill=\"#000000\" font-family=\"sans-serif\" font-size=\"12\" font-style=\"italic\" lengthAdjust=\"spacingAndGlyphs\" textLength=\"40\" x=\"47\" y=\"178.1074\">«part»</text><text fill=\"#000000\" font-family=\"sans-serif\" font-size=\"12\" font-style=\"italic\" lengthAdjust=\"spacingAndGlyphs\" textLength=\"6\" x=\"54\" y=\"192.0762\">v</text><text fill=\"#000000\" font-family=\"sans-serif\" font-size=\"12\" lengthAdjust=\"spacingAndGlyphs\" textLength=\"16\" x=\"60\" y=\"192.0762\">: P</text><line style=\"stroke: #383838; stroke-width: 1.5;\" x1=\"33\" x2=\"101\" y1=\"199.9063\" y2=\"199.9063\"/></a><!--MD5=[fd4143e9d270a159db93a4ea2a975926]\n",
       "class E9--><a href=\"psysml:80fa5ea3-437e-4eec-9e3d-5d2e24e12c28\" target=\"_top\" title=\"psysml:80fa5ea3-437e-4eec-9e3d-5d2e24e12c28\" xlink:actuate=\"onRequest\" xlink:href=\"psysml:80fa5ea3-437e-4eec-9e3d-5d2e24e12c28\" xlink:show=\"new\" xlink:title=\"psysml:80fa5ea3-437e-4eec-9e3d-5d2e24e12c28\" xlink:type=\"simple\"><rect fill=\"#FFFFFF\" height=\"88.3516\" id=\"E9\" rx=\"10\" ry=\"10\" style=\"stroke: #383838; stroke-width: 1.5;\" width=\"139\" x=\"32.5\" y=\"285\"/><text fill=\"#000000\" font-family=\"sans-serif\" font-size=\"12\" font-style=\"italic\" lengthAdjust=\"spacingAndGlyphs\" textLength=\"75\" x=\"64.5\" y=\"301.1387\">«reference»</text><text fill=\"#000000\" font-family=\"sans-serif\" font-size=\"12\" lengthAdjust=\"spacingAndGlyphs\" textLength=\"133\" x=\"35.5\" y=\"315.1074\">q :&gt; VariabilityTest::q</text><line style=\"stroke: #383838; stroke-width: 1.5;\" x1=\"33.5\" x2=\"170.5\" y1=\"322.9375\" y2=\"322.9375\"/><text fill=\"#000000\" font-family=\"sans-serif\" font-size=\"11\" lengthAdjust=\"spacingAndGlyphs\" textLength=\"23\" x=\"38.5\" y=\"353.9526\">b: B</text><text fill=\"#000000\" font-family=\"sans-serif\" font-size=\"11\" font-style=\"italic\" lengthAdjust=\"spacingAndGlyphs\" textLength=\"44\" x=\"38.5\" y=\"366.7573\">:&gt;&gt;P::a</text><line style=\"stroke: #383838; stroke-width: 1.0;\" x1=\"33.5\" x2=\"74.5\" y1=\"337.3398\" y2=\"337.3398\"/><text fill=\"#000000\" font-family=\"sans-serif\" font-size=\"11\" lengthAdjust=\"spacingAndGlyphs\" textLength=\"55\" x=\"74.5\" y=\"340.6479\">attributes</text><line style=\"stroke: #383838; stroke-width: 1.0;\" x1=\"129.5\" x2=\"170.5\" y1=\"337.3398\" y2=\"337.3398\"/></a><!--MD5=[96f4274e9e20536e775497830990834d]\n",
       "class E10--><a href=\"psysml:48eaa747-84b8-4879-8d6b-33c104c23f89\" target=\"_top\" title=\"psysml:48eaa747-84b8-4879-8d6b-33c104c23f89\" xlink:actuate=\"onRequest\" xlink:href=\"psysml:48eaa747-84b8-4879-8d6b-33c104c23f89\" xlink:show=\"new\" xlink:title=\"psysml:48eaa747-84b8-4879-8d6b-33c104c23f89\" xlink:type=\"simple\"><rect fill=\"#FFFFFF\" height=\"45.9375\" id=\"E10\" rx=\"10\" ry=\"10\" style=\"stroke: #383838; stroke-width: 1.5;\" width=\"42\" x=\"242\" y=\"155\"/><text fill=\"#000000\" font-family=\"sans-serif\" font-size=\"12\" font-style=\"italic\" lengthAdjust=\"spacingAndGlyphs\" textLength=\"40\" x=\"243\" y=\"171.1387\">«part»</text><text fill=\"#000000\" font-family=\"sans-serif\" font-size=\"12\" lengthAdjust=\"spacingAndGlyphs\" textLength=\"22\" x=\"250\" y=\"185.1074\">y: P</text><line style=\"stroke: #383838; stroke-width: 1.5;\" x1=\"243\" x2=\"283\" y1=\"192.9375\" y2=\"192.9375\"/></a><!--MD5=[05d275557350bfb9b23a4ef7222b4c39]\n",
       "link E3 to E2--><a href=\"psysml:8fca0815-a461-4953-83e8-63ed8c86de29\" target=\"_top\" title=\"psysml:8fca0815-a461-4953-83e8-63ed8c86de29\" xlink:actuate=\"onRequest\" xlink:href=\"psysml:8fca0815-a461-4953-83e8-63ed8c86de29\" xlink:show=\"new\" xlink:title=\"psysml:8fca0815-a461-4953-83e8-63ed8c86de29\" xlink:type=\"simple\"><path d=\"M182.48,201.31 C191.32,220.13 204.37,247.89 215.99,272.64 \" fill=\"none\" id=\"E3-&gt;E2\" style=\"stroke: #383838; stroke-width: 1.0;\"/><polygon fill=\"none\" points=\"222.34,269.69,224.51,290.77,209.67,275.64,222.34,269.69\" style=\"stroke: #383838; stroke-width: 1.0;\"/></a><!--MD5=[15ebcb19ae302d9b601edb458606d402]\n",
       "link E5 to E2--><a href=\"psysml:80d735d5-abd9-4df4-b941-a11b60e81c18\" target=\"_top\" title=\"psysml:80d735d5-abd9-4df4-b941-a11b60e81c18\" xlink:actuate=\"onRequest\" xlink:href=\"psysml:80d735d5-abd9-4df4-b941-a11b60e81c18\" xlink:show=\"new\" xlink:title=\"psysml:80d735d5-abd9-4df4-b941-a11b60e81c18\" xlink:type=\"simple\"><path d=\"M337.23,201.31 C322.73,220.59 301.19,249.26 282.25,274.45 \" fill=\"none\" id=\"E5-&gt;E2\" style=\"stroke: #383838; stroke-width: 1.0;\"/><polygon fill=\"none\" points=\"287.6,278.99,269.99,290.77,276.41,270.57,287.6,278.99\" style=\"stroke: #383838; stroke-width: 1.0;\"/></a><!--MD5=[9120cf2e5df3bff93db8f754bbbc09b4]\n",
       "link E5 to E6--><a href=\"psysml:bbf94ce0-8140-4269-b805-c97e9315d509\" target=\"_top\" title=\"psysml:bbf94ce0-8140-4269-b805-c97e9315d509\" xlink:actuate=\"onRequest\" xlink:href=\"psysml:bbf94ce0-8140-4269-b805-c97e9315d509\" xlink:show=\"new\" xlink:title=\"psysml:bbf94ce0-8140-4269-b805-c97e9315d509\" xlink:type=\"simple\"><path d=\"M351.82,211.55 C350.58,230.03 348.99,253.61 347.58,274.71 \" fill=\"none\" id=\"E5-E6\" style=\"stroke: #383838; stroke-width: 1.0;\"/><polygon fill=\"#383838\" points=\"346.9,284.84,350.4299,277.0593,344.4435,276.6568,346.9,284.84\" style=\"stroke: #383838; stroke-width: 1.0;\"/><path d=\"M343.8553,203.8139 A9,9 0 0 0 360.7317 204.9486\" fill=\"none\" style=\"stroke: #383838; stroke-width: 1.5;\"/><text fill=\"#000000\" font-family=\"sans-serif\" font-size=\"13\" lengthAdjust=\"spacingAndGlyphs\" textLength=\"60\" x=\"350\" y=\"251.0669\">«variant»</text></a><!--MD5=[14ccda38c055a5c0da953d572bc50960]\n",
       "link E7 to E3--><a href=\"psysml:1a218306-3ccb-4021-8143-a6b7222dd125\" target=\"_top\" title=\"psysml:1a218306-3ccb-4021-8143-a6b7222dd125\" xlink:actuate=\"onRequest\" xlink:href=\"psysml:1a218306-3ccb-4021-8143-a6b7222dd125\" xlink:show=\"new\" xlink:title=\"psysml:1a218306-3ccb-4021-8143-a6b7222dd125\" xlink:type=\"simple\"><path d=\"M172,87.13 C172,100.7 172,118.53 172,134.73 \" fill=\"none\" id=\"E7-&gt;E3\" style=\"stroke: #383838; stroke-width: 1.0;\"/><polygon fill=\"#FFFFFF\" points=\"172,154.92,165,135.92,179,135.92,172,154.92\" style=\"stroke: #383838; stroke-width: 1.0;\"/><ellipse cx=\"167\" cy=\"130.22\" fill=\"#383838\" rx=\"2\" ry=\"2\" style=\"stroke: #383838; stroke-width: 1.0;\"/><ellipse cx=\"177\" cy=\"130.22\" fill=\"#383838\" rx=\"2\" ry=\"2\" style=\"stroke: #383838; stroke-width: 1.0;\"/></a><!--MD5=[f1f3f9f2fc535e6147756cb86a7f2e32]\n",
       "link E8 to E2--><a href=\"psysml:0a07ead6-b6a6-4f86-92cb-b01532aad754\" target=\"_top\" title=\"psysml:0a07ead6-b6a6-4f86-92cb-b01532aad754\" xlink:actuate=\"onRequest\" xlink:href=\"psysml:0a07ead6-b6a6-4f86-92cb-b01532aad754\" xlink:show=\"new\" xlink:title=\"psysml:0a07ead6-b6a6-4f86-92cb-b01532aad754\" xlink:type=\"simple\"><path d=\"M102.03,200.45 C118.37,211.04 137.76,224.42 154,238 C167.86,249.58 181.94,263.07 194.66,276.02 \" fill=\"none\" id=\"E8-&gt;E2\" style=\"stroke: #383838; stroke-width: 1.0;\"/><polygon fill=\"#FFFFFF\" points=\"208.87,290.84,190.6693,281.9667,200.7765,272.2794,208.87,290.84\" style=\"stroke: #383838; stroke-width: 1.0;\"/><ellipse cx=\"188.1691\" cy=\"276.4678\" fill=\"#383838\" rx=\"2\" ry=\"2\" style=\"stroke: #383838; stroke-width: 1.0;\"/><ellipse cx=\"195.3885\" cy=\"269.5482\" fill=\"#383838\" rx=\"2\" ry=\"2\" style=\"stroke: #383838; stroke-width: 1.0;\"/></a><!--MD5=[ed10624c06dd9a4fa49ccf290e8b16a8]\n",
       "link E8 to E9--><a href=\"psysml:95cf767c-bf38-4d44-8a21-82e4671e1c7d\" target=\"_top\" title=\"psysml:95cf767c-bf38-4d44-8a21-82e4671e1c7d\" xlink:actuate=\"onRequest\" xlink:href=\"psysml:95cf767c-bf38-4d44-8a21-82e4671e1c7d\" xlink:show=\"new\" xlink:title=\"psysml:95cf767c-bf38-4d44-8a21-82e4671e1c7d\" xlink:type=\"simple\"><path d=\"M76.17,218.04 C80.26,235.44 85.14,256.2 89.55,274.98 \" fill=\"none\" id=\"E8-E9\" style=\"stroke: #383838; stroke-width: 1.0;\"/><polygon fill=\"#383838\" points=\"91.87,284.88,92.9607,276.4059,87.1198,277.7782,91.87,284.88\" style=\"stroke: #383838; stroke-width: 1.0;\"/><path d=\"M66.2994,213.0085 A9,9 0 0 0 82.7667 209.1452\" fill=\"none\" style=\"stroke: #383838; stroke-width: 1.5;\"/><text fill=\"#000000\" font-family=\"sans-serif\" font-size=\"13\" lengthAdjust=\"spacingAndGlyphs\" textLength=\"60\" x=\"85\" y=\"251.0669\">«variant»</text></a><!--MD5=[0f36bececdf0dff6e600d6f64214b0f1]\n",
       "link E10 to E2--><a href=\"psysml:6b6ac884-9cd9-45a3-8497-3c127dcfd472\" target=\"_top\" title=\"psysml:6b6ac884-9cd9-45a3-8497-3c127dcfd472\" xlink:actuate=\"onRequest\" xlink:href=\"psysml:6b6ac884-9cd9-45a3-8497-3c127dcfd472\" xlink:show=\"new\" xlink:title=\"psysml:6b6ac884-9cd9-45a3-8497-3c127dcfd472\" xlink:type=\"simple\"><path d=\"M259.86,201.31 C257.27,219.67 253.48,246.54 250.06,270.81 \" fill=\"none\" id=\"E10-&gt;E2\" style=\"stroke: #383838; stroke-width: 1.0;\"/><polygon fill=\"#FFFFFF\" points=\"247.25,290.77,242.9654,270.9801,256.8288,272.9305,247.25,290.77\" style=\"stroke: #383838; stroke-width: 1.0;\"/><ellipse cx=\"245.74\" cy=\"265.6143\" fill=\"#383838\" rx=\"2\" ry=\"2\" style=\"stroke: #383838; stroke-width: 1.0;\"/><ellipse cx=\"255.6425\" cy=\"267.0075\" fill=\"#383838\" rx=\"2\" ry=\"2\" style=\"stroke: #383838; stroke-width: 1.0;\"/></a><!--MD5=[2abdf020a8468d92fbaeee0b4996557c]\n",
       "@startuml\r\n",
       "top to bottom direction\r\n",
       "skinparam monochrome true\r\n",
       "skinparam classbackgroundcolor white\r\n",
       "skinparam shadowing false\r\n",
       "skinparam wrapWidth 300\r\n",
       "hide circle\r\n",
       "\r\n",
       "package \"VariabilityTest\" as E1  [[psysml:54c28c65-c036-409b-a9ca-8f60ef8eadfb ]]  {\r\n",
       "comp def \"P\" as E2  <<(T,blue) part  def>> [[psysml:82cb16a2-9eb2-4cce-bbbe-e1592c7acc8b ]] {\r\n",
       "- - attributes - -\r\n",
       "a\r\n",
       "}\r\n",
       "comp def \"Q\" as E3  <<(T,blue) part  def>> [[psysml:2ef5dada-a649-4c80-bc3f-904ca5914f5d ]] {\r\n",
       "}\r\n",
       "comp def \"B\" as E4  <<(T,blue) attribute  def>> [[psysml:45188152-89ae-47db-8fae-185a328aceea ]] {\r\n",
       "}\r\n",
       "comp def \"<i>V</i>\" as E5  <<(T,blue) part  def>> [[psysml:e8a966fa-6247-410c-94c4-6750afcc6da8 ]] {\r\n",
       "}\r\n",
       "comp usage \"x: Q \" as E6  <<(T,blue) part>> [[psysml:10060237-19c5-40dc-a73e-8cb7e4953e81 ]] {\r\n",
       "- - attributes - -\r\n",
       "b: B\\n//:>>P::a// \r\n",
       "}\r\n",
       "comp usage \"q: Q \" as E7  <<(T,blue) part>> [[psysml:070ce293-3e12-454f-ad5b-be257c39d672 ]] {\r\n",
       "}\r\n",
       "comp usage \"<i>v</i>: P \" as E8  <<variation>>\\n <<(T,blue) part>> [[psysml:3367482b-ff59-4bbe-a9dc-fe1b4a2ad697 ]] {\r\n",
       "}\r\n",
       "comp usage \"q :> VariabilityTest::q\" as E9  <<(T,blue) reference>> [[psysml:80fa5ea3-437e-4eec-9e3d-5d2e24e12c28 ]] {\r\n",
       "- - attributes - -\r\n",
       "b: B\\n//:>>P::a// \r\n",
       "}\r\n",
       "comp usage \"y: P \" as E10  <<(T,blue) part>> [[psysml:48eaa747-84b8-4879-8d6b-33c104c23f89 ]] {\r\n",
       "}\r\n",
       "}\r\n",
       "E3 - -|> E2 [[psysml:8fca0815-a461-4953-83e8-63ed8c86de29 ]] \r\n",
       "E5 - -|> E2 [[psysml:80d735d5-abd9-4df4-b941-a11b60e81c18 ]] \r\n",
       "E5 )- ->> E6 [[psysml:bbf94ce0-8140-4269-b805-c97e9315d509 ]] : <<variant>>\r\n",
       "E7 - -:|> E3 [[psysml:1a218306-3ccb-4021-8143-a6b7222dd125 ]] \r\n",
       "E8 - -:|> E2 [[psysml:0a07ead6-b6a6-4f86-92cb-b01532aad754 ]] \r\n",
       "E8 )- ->> E9 [[psysml:95cf767c-bf38-4d44-8a21-82e4671e1c7d ]] : <<variant>>\r\n",
       "E10 - -:|> E2 [[psysml:6b6ac884-9cd9-45a3-8497-3c127dcfd472 ]] \r\n",
       "@enduml\r\n",
       "\n",
       "PlantUML version 1.2020.13(Sat Jun 13 12:26:38 UTC 2020)\n",
       "(EPL source distribution)\n",
       "Java Runtime: OpenJDK Runtime Environment\n",
       "JVM: OpenJDK 64-Bit Server VM\n",
       "Default Encoding: UTF-8\n",
       "Language: en\n",
       "Country: null\n",
       "--></g></svg>"
      ]
     },
     "execution_count": 50,
     "metadata": {},
     "output_type": "execute_result"
    }
   ],
   "source": [
    "%viz --style=\"TB\" --view=\"MIXED\" \"VariabilityTest\""
   ]
  },
  {
   "cell_type": "code",
   "execution_count": 51,
   "id": "371c2872",
   "metadata": {
    "execution": {
     "iopub.execute_input": "2021-10-25T08:21:45.787100Z",
     "iopub.status.busy": "2021-10-25T08:21:45.786692Z",
     "iopub.status.idle": "2021-10-25T08:21:45.859729Z",
     "shell.execute_reply": "2021-10-25T08:21:45.857899Z"
    }
   },
   "outputs": [
    {
     "data": {
      "image/svg+xml": [
       "<?xml version=\"1.0\" encoding=\"UTF-8\" standalone=\"no\"?><svg xmlns=\"http://www.w3.org/2000/svg\" xmlns:xlink=\"http://www.w3.org/1999/xlink\" contentScriptType=\"application/ecmascript\" contentStyleType=\"text/css\" height=\"401px\" preserveAspectRatio=\"none\" style=\"width:427px;height:401px;\" version=\"1.1\" viewBox=\"0 0 427 401\" width=\"427px\" zoomAndPan=\"magnify\"><defs/><g><!--MD5=[fbc87193dbaf4d95561dea2c320d4a47]\n",
       "cluster E1--><a href=\"psysml:54c28c65-c036-409b-a9ca-8f60ef8eadfb\" target=\"_top\" title=\"psysml:54c28c65-c036-409b-a9ca-8f60ef8eadfb\" xlink:actuate=\"onRequest\" xlink:href=\"psysml:54c28c65-c036-409b-a9ca-8f60ef8eadfb\" xlink:show=\"new\" xlink:title=\"psysml:54c28c65-c036-409b-a9ca-8f60ef8eadfb\" xlink:type=\"simple\"><polygon fill=\"#FFFFFF\" points=\"16,6,116,6,123,28.2969,405,28.2969,405,389,16,389,16,6\" style=\"stroke: #000000; stroke-width: 1.5;\"/><line style=\"stroke: #000000; stroke-width: 1.5;\" x1=\"16\" x2=\"123\" y1=\"28.2969\" y2=\"28.2969\"/><text fill=\"#000000\" font-family=\"sans-serif\" font-size=\"14\" font-weight=\"bold\" lengthAdjust=\"spacingAndGlyphs\" textLength=\"94\" x=\"20\" y=\"20.9951\">VariabilityTest</text></a><!--MD5=[b4997ac47864f28c2f74865a473b2911]\n",
       "class E2--><a href=\"psysml:82cb16a2-9eb2-4cce-bbbe-e1592c7acc8b\" target=\"_top\" title=\"psysml:82cb16a2-9eb2-4cce-bbbe-e1592c7acc8b\" xlink:actuate=\"onRequest\" xlink:href=\"psysml:82cb16a2-9eb2-4cce-bbbe-e1592c7acc8b\" xlink:show=\"new\" xlink:title=\"psysml:82cb16a2-9eb2-4cce-bbbe-e1592c7acc8b\" xlink:type=\"simple\"><rect fill=\"#FFFFFF\" height=\"75.5469\" id=\"E2\" style=\"stroke: #383838; stroke-width: 1.5;\" width=\"70\" x=\"207\" y=\"291\"/><text fill=\"#000000\" font-family=\"sans-serif\" font-size=\"12\" font-style=\"italic\" lengthAdjust=\"spacingAndGlyphs\" textLength=\"68\" x=\"208\" y=\"307.1387\">«part  def»</text><text fill=\"#000000\" font-family=\"sans-serif\" font-size=\"12\" lengthAdjust=\"spacingAndGlyphs\" textLength=\"8\" x=\"238\" y=\"321.1074\">P</text><line style=\"stroke: #383838; stroke-width: 1.5;\" x1=\"208\" x2=\"276\" y1=\"328.9375\" y2=\"328.9375\"/><text fill=\"#000000\" font-family=\"sans-serif\" font-size=\"11\" lengthAdjust=\"spacingAndGlyphs\" textLength=\"7\" x=\"213\" y=\"359.9526\">a</text><line style=\"stroke: #383838; stroke-width: 1.0;\" x1=\"208\" x2=\"214.5\" y1=\"343.3398\" y2=\"343.3398\"/><text fill=\"#000000\" font-family=\"sans-serif\" font-size=\"11\" lengthAdjust=\"spacingAndGlyphs\" textLength=\"55\" x=\"214.5\" y=\"346.6479\">attributes</text><line style=\"stroke: #383838; stroke-width: 1.0;\" x1=\"269.5\" x2=\"276\" y1=\"343.3398\" y2=\"343.3398\"/></a><!--MD5=[09b614a08d8cba4a07c9adeb5e0fee81]\n",
       "class E3--><a href=\"psysml:2ef5dada-a649-4c80-bc3f-904ca5914f5d\" target=\"_top\" title=\"psysml:2ef5dada-a649-4c80-bc3f-904ca5914f5d\" xlink:actuate=\"onRequest\" xlink:href=\"psysml:2ef5dada-a649-4c80-bc3f-904ca5914f5d\" xlink:show=\"new\" xlink:title=\"psysml:2ef5dada-a649-4c80-bc3f-904ca5914f5d\" xlink:type=\"simple\"><rect fill=\"#FFFFFF\" height=\"45.9375\" id=\"E3\" style=\"stroke: #383838; stroke-width: 1.5;\" width=\"70\" x=\"137\" y=\"155\"/><text fill=\"#000000\" font-family=\"sans-serif\" font-size=\"12\" font-style=\"italic\" lengthAdjust=\"spacingAndGlyphs\" textLength=\"68\" x=\"138\" y=\"171.1387\">«part  def»</text><text fill=\"#000000\" font-family=\"sans-serif\" font-size=\"12\" lengthAdjust=\"spacingAndGlyphs\" textLength=\"9\" x=\"167.5\" y=\"185.1074\">Q</text><line style=\"stroke: #383838; stroke-width: 1.5;\" x1=\"138\" x2=\"206\" y1=\"192.9375\" y2=\"192.9375\"/></a><!--MD5=[ebbe1d658d1005bcc118a6aa81145e00]\n",
       "class E4--><a href=\"psysml:45188152-89ae-47db-8fae-185a328aceea\" target=\"_top\" title=\"psysml:45188152-89ae-47db-8fae-185a328aceea\" xlink:actuate=\"onRequest\" xlink:href=\"psysml:45188152-89ae-47db-8fae-185a328aceea\" xlink:show=\"new\" xlink:title=\"psysml:45188152-89ae-47db-8fae-185a328aceea\" xlink:type=\"simple\"><rect fill=\"#FFFFFF\" height=\"45.9375\" id=\"E4\" style=\"stroke: #383838; stroke-width: 1.5;\" width=\"99\" x=\"258.5\" y=\"41\"/><text fill=\"#000000\" font-family=\"sans-serif\" font-size=\"12\" font-style=\"italic\" lengthAdjust=\"spacingAndGlyphs\" textLength=\"97\" x=\"259.5\" y=\"57.1387\">«attribute  def»</text><text fill=\"#000000\" font-family=\"sans-serif\" font-size=\"12\" lengthAdjust=\"spacingAndGlyphs\" textLength=\"8\" x=\"304\" y=\"71.1074\">B</text><line style=\"stroke: #383838; stroke-width: 1.5;\" x1=\"259.5\" x2=\"356.5\" y1=\"78.9375\" y2=\"78.9375\"/></a><!--MD5=[270fce915f116d4de14055a7c1d9a0f3]\n",
       "class E5--><a href=\"psysml:e8a966fa-6247-410c-94c4-6750afcc6da8\" target=\"_top\" title=\"psysml:e8a966fa-6247-410c-94c4-6750afcc6da8\" xlink:actuate=\"onRequest\" xlink:href=\"psysml:e8a966fa-6247-410c-94c4-6750afcc6da8\" xlink:show=\"new\" xlink:title=\"psysml:e8a966fa-6247-410c-94c4-6750afcc6da8\" xlink:type=\"simple\"><rect fill=\"#FFFFFF\" height=\"45.9375\" id=\"E5\" style=\"stroke: #383838; stroke-width: 1.5;\" width=\"70\" x=\"319\" y=\"155\"/><text fill=\"#000000\" font-family=\"sans-serif\" font-size=\"12\" font-style=\"italic\" lengthAdjust=\"spacingAndGlyphs\" textLength=\"68\" x=\"320\" y=\"171.1387\">«part  def»</text><text fill=\"#000000\" font-family=\"sans-serif\" font-size=\"12\" font-style=\"italic\" lengthAdjust=\"spacingAndGlyphs\" textLength=\"8\" x=\"350\" y=\"185.1074\">V</text><line style=\"stroke: #383838; stroke-width: 1.5;\" x1=\"320\" x2=\"388\" y1=\"192.9375\" y2=\"192.9375\"/></a><!--MD5=[60a26617385b1d2d0262a64233df1f8d]\n",
       "class E6--><a href=\"psysml:10060237-19c5-40dc-a73e-8cb7e4953e81\" target=\"_top\" title=\"psysml:10060237-19c5-40dc-a73e-8cb7e4953e81\" xlink:actuate=\"onRequest\" xlink:href=\"psysml:10060237-19c5-40dc-a73e-8cb7e4953e81\" xlink:show=\"new\" xlink:title=\"psysml:10060237-19c5-40dc-a73e-8cb7e4953e81\" xlink:type=\"simple\"><rect fill=\"#FFFFFF\" height=\"88.3516\" id=\"E6\" rx=\"10\" ry=\"10\" style=\"stroke: #383838; stroke-width: 1.5;\" width=\"63\" x=\"312.5\" y=\"285\"/><text fill=\"#000000\" font-family=\"sans-serif\" font-size=\"12\" font-style=\"italic\" lengthAdjust=\"spacingAndGlyphs\" textLength=\"40\" x=\"324\" y=\"301.1387\">«part»</text><text fill=\"#000000\" font-family=\"sans-serif\" font-size=\"12\" lengthAdjust=\"spacingAndGlyphs\" textLength=\"23\" x=\"330.5\" y=\"315.1074\">x: Q</text><line style=\"stroke: #383838; stroke-width: 1.5;\" x1=\"313.5\" x2=\"374.5\" y1=\"322.9375\" y2=\"322.9375\"/><text fill=\"#000000\" font-family=\"sans-serif\" font-size=\"11\" lengthAdjust=\"spacingAndGlyphs\" textLength=\"23\" x=\"318.5\" y=\"353.9526\">b: B</text><text fill=\"#000000\" font-family=\"sans-serif\" font-size=\"11\" font-style=\"italic\" lengthAdjust=\"spacingAndGlyphs\" textLength=\"44\" x=\"318.5\" y=\"366.7573\">:&gt;&gt;P::a</text><line style=\"stroke: #383838; stroke-width: 1.0;\" x1=\"313.5\" x2=\"316.5\" y1=\"337.3398\" y2=\"337.3398\"/><text fill=\"#000000\" font-family=\"sans-serif\" font-size=\"11\" lengthAdjust=\"spacingAndGlyphs\" textLength=\"55\" x=\"316.5\" y=\"340.6479\">attributes</text><line style=\"stroke: #383838; stroke-width: 1.0;\" x1=\"371.5\" x2=\"374.5\" y1=\"337.3398\" y2=\"337.3398\"/></a><!--MD5=[2156ba9850f5573cc1fc38a6a4b2f02b]\n",
       "class E7--><a href=\"psysml:070ce293-3e12-454f-ad5b-be257c39d672\" target=\"_top\" title=\"psysml:070ce293-3e12-454f-ad5b-be257c39d672\" xlink:actuate=\"onRequest\" xlink:href=\"psysml:070ce293-3e12-454f-ad5b-be257c39d672\" xlink:show=\"new\" xlink:title=\"psysml:070ce293-3e12-454f-ad5b-be257c39d672\" xlink:type=\"simple\"><rect fill=\"#FFFFFF\" height=\"45.9375\" id=\"E7\" rx=\"10\" ry=\"10\" style=\"stroke: #383838; stroke-width: 1.5;\" width=\"42\" x=\"151\" y=\"41\"/><text fill=\"#000000\" font-family=\"sans-serif\" font-size=\"12\" font-style=\"italic\" lengthAdjust=\"spacingAndGlyphs\" textLength=\"40\" x=\"152\" y=\"57.1387\">«part»</text><text fill=\"#000000\" font-family=\"sans-serif\" font-size=\"12\" lengthAdjust=\"spacingAndGlyphs\" textLength=\"25\" x=\"157.5\" y=\"71.1074\">q: Q</text><line style=\"stroke: #383838; stroke-width: 1.5;\" x1=\"152\" x2=\"192\" y1=\"78.9375\" y2=\"78.9375\"/></a><!--MD5=[b9389687b975829384b498ac4b7476b2]\n",
       "class E8--><a href=\"psysml:3367482b-ff59-4bbe-a9dc-fe1b4a2ad697\" target=\"_top\" title=\"psysml:3367482b-ff59-4bbe-a9dc-fe1b4a2ad697\" xlink:actuate=\"onRequest\" xlink:href=\"psysml:3367482b-ff59-4bbe-a9dc-fe1b4a2ad697\" xlink:show=\"new\" xlink:title=\"psysml:3367482b-ff59-4bbe-a9dc-fe1b4a2ad697\" xlink:type=\"simple\"><rect fill=\"#FFFFFF\" height=\"59.9063\" id=\"E8\" rx=\"10\" ry=\"10\" style=\"stroke: #383838; stroke-width: 1.5;\" width=\"70\" x=\"32\" y=\"148\"/><text fill=\"#000000\" font-family=\"sans-serif\" font-size=\"12\" font-style=\"italic\" lengthAdjust=\"spacingAndGlyphs\" textLength=\"68\" x=\"33\" y=\"164.1387\">«variation»</text><text fill=\"#000000\" font-family=\"sans-serif\" font-size=\"12\" font-style=\"italic\" lengthAdjust=\"spacingAndGlyphs\" textLength=\"40\" x=\"47\" y=\"178.1074\">«part»</text><text fill=\"#000000\" font-family=\"sans-serif\" font-size=\"12\" font-style=\"italic\" lengthAdjust=\"spacingAndGlyphs\" textLength=\"6\" x=\"54\" y=\"192.0762\">v</text><text fill=\"#000000\" font-family=\"sans-serif\" font-size=\"12\" lengthAdjust=\"spacingAndGlyphs\" textLength=\"16\" x=\"60\" y=\"192.0762\">: P</text><line style=\"stroke: #383838; stroke-width: 1.5;\" x1=\"33\" x2=\"101\" y1=\"199.9063\" y2=\"199.9063\"/></a><!--MD5=[fd4143e9d270a159db93a4ea2a975926]\n",
       "class E9--><a href=\"psysml:80fa5ea3-437e-4eec-9e3d-5d2e24e12c28\" target=\"_top\" title=\"psysml:80fa5ea3-437e-4eec-9e3d-5d2e24e12c28\" xlink:actuate=\"onRequest\" xlink:href=\"psysml:80fa5ea3-437e-4eec-9e3d-5d2e24e12c28\" xlink:show=\"new\" xlink:title=\"psysml:80fa5ea3-437e-4eec-9e3d-5d2e24e12c28\" xlink:type=\"simple\"><rect fill=\"#FFFFFF\" height=\"88.3516\" id=\"E9\" rx=\"10\" ry=\"10\" style=\"stroke: #383838; stroke-width: 1.5;\" width=\"139\" x=\"32.5\" y=\"285\"/><text fill=\"#000000\" font-family=\"sans-serif\" font-size=\"12\" font-style=\"italic\" lengthAdjust=\"spacingAndGlyphs\" textLength=\"75\" x=\"64.5\" y=\"301.1387\">«reference»</text><text fill=\"#000000\" font-family=\"sans-serif\" font-size=\"12\" lengthAdjust=\"spacingAndGlyphs\" textLength=\"133\" x=\"35.5\" y=\"315.1074\">q :&gt; VariabilityTest::q</text><line style=\"stroke: #383838; stroke-width: 1.5;\" x1=\"33.5\" x2=\"170.5\" y1=\"322.9375\" y2=\"322.9375\"/><text fill=\"#000000\" font-family=\"sans-serif\" font-size=\"11\" lengthAdjust=\"spacingAndGlyphs\" textLength=\"23\" x=\"38.5\" y=\"353.9526\">b: B</text><text fill=\"#000000\" font-family=\"sans-serif\" font-size=\"11\" font-style=\"italic\" lengthAdjust=\"spacingAndGlyphs\" textLength=\"44\" x=\"38.5\" y=\"366.7573\">:&gt;&gt;P::a</text><line style=\"stroke: #383838; stroke-width: 1.0;\" x1=\"33.5\" x2=\"74.5\" y1=\"337.3398\" y2=\"337.3398\"/><text fill=\"#000000\" font-family=\"sans-serif\" font-size=\"11\" lengthAdjust=\"spacingAndGlyphs\" textLength=\"55\" x=\"74.5\" y=\"340.6479\">attributes</text><line style=\"stroke: #383838; stroke-width: 1.0;\" x1=\"129.5\" x2=\"170.5\" y1=\"337.3398\" y2=\"337.3398\"/></a><!--MD5=[96f4274e9e20536e775497830990834d]\n",
       "class E10--><a href=\"psysml:48eaa747-84b8-4879-8d6b-33c104c23f89\" target=\"_top\" title=\"psysml:48eaa747-84b8-4879-8d6b-33c104c23f89\" xlink:actuate=\"onRequest\" xlink:href=\"psysml:48eaa747-84b8-4879-8d6b-33c104c23f89\" xlink:show=\"new\" xlink:title=\"psysml:48eaa747-84b8-4879-8d6b-33c104c23f89\" xlink:type=\"simple\"><rect fill=\"#FFFFFF\" height=\"45.9375\" id=\"E10\" rx=\"10\" ry=\"10\" style=\"stroke: #383838; stroke-width: 1.5;\" width=\"42\" x=\"242\" y=\"155\"/><text fill=\"#000000\" font-family=\"sans-serif\" font-size=\"12\" font-style=\"italic\" lengthAdjust=\"spacingAndGlyphs\" textLength=\"40\" x=\"243\" y=\"171.1387\">«part»</text><text fill=\"#000000\" font-family=\"sans-serif\" font-size=\"12\" lengthAdjust=\"spacingAndGlyphs\" textLength=\"22\" x=\"250\" y=\"185.1074\">y: P</text><line style=\"stroke: #383838; stroke-width: 1.5;\" x1=\"243\" x2=\"283\" y1=\"192.9375\" y2=\"192.9375\"/></a><!--MD5=[05d275557350bfb9b23a4ef7222b4c39]\n",
       "link E3 to E2--><a href=\"psysml:8fca0815-a461-4953-83e8-63ed8c86de29\" target=\"_top\" title=\"psysml:8fca0815-a461-4953-83e8-63ed8c86de29\" xlink:actuate=\"onRequest\" xlink:href=\"psysml:8fca0815-a461-4953-83e8-63ed8c86de29\" xlink:show=\"new\" xlink:title=\"psysml:8fca0815-a461-4953-83e8-63ed8c86de29\" xlink:type=\"simple\"><path d=\"M207.28,178 C219.56,178 230.33,178 230.33,178 C230.33,178 230.33,270.9 230.33,270.9 \" fill=\"none\" id=\"E3-&gt;E2\" style=\"stroke: #383838; stroke-width: 1.0;\"/><polygon fill=\"none\" points=\"237.33,270.9,230.33,290.9,223.33,270.9,237.33,270.9\" style=\"stroke: #383838; stroke-width: 1.0;\"/></a><!--MD5=[15ebcb19ae302d9b601edb458606d402]\n",
       "link E5 to E2--><a href=\"psysml:80d735d5-abd9-4df4-b941-a11b60e81c18\" target=\"_top\" title=\"psysml:80d735d5-abd9-4df4-b941-a11b60e81c18\" xlink:actuate=\"onRequest\" xlink:href=\"psysml:80d735d5-abd9-4df4-b941-a11b60e81c18\" xlink:show=\"new\" xlink:title=\"psysml:80d735d5-abd9-4df4-b941-a11b60e81c18\" xlink:type=\"simple\"><path d=\"M337.83,201.12 C337.83,204.02 337.83,206 337.83,206 C337.83,206 265.33,206 265.33,206 C265.33,206 265.33,270.76 265.33,270.76 \" fill=\"none\" id=\"E5-&gt;E2\" style=\"stroke: #383838; stroke-width: 1.0;\"/><polygon fill=\"none\" points=\"272.33,270.76,265.33,290.76,258.33,270.76,272.33,270.76\" style=\"stroke: #383838; stroke-width: 1.0;\"/></a><!--MD5=[9120cf2e5df3bff93db8f754bbbc09b4]\n",
       "link E5 to E6--><a href=\"psysml:bbf94ce0-8140-4269-b805-c97e9315d509\" target=\"_top\" title=\"psysml:bbf94ce0-8140-4269-b805-c97e9315d509\" xlink:actuate=\"onRequest\" xlink:href=\"psysml:bbf94ce0-8140-4269-b805-c97e9315d509\" xlink:show=\"new\" xlink:title=\"psysml:bbf94ce0-8140-4269-b805-c97e9315d509\" xlink:type=\"simple\"><path d=\"M356.67,211.26 C356.67,211.26 356.67,274.72 356.67,274.72 \" fill=\"none\" id=\"E5-E6\" style=\"stroke: #383838; stroke-width: 1.0;\"/><polygon fill=\"#383838\" points=\"356.67,284.72,359.67,276.72,353.67,276.72,356.67,284.72\" style=\"stroke: #383838; stroke-width: 1.0;\"/><path d=\"M348.2128,204.3382 A9,9 0 0 0 365.1272 204.3382\" fill=\"none\" style=\"stroke: #383838; stroke-width: 1.5;\"/><text fill=\"#000000\" font-family=\"sans-serif\" font-size=\"13\" lengthAdjust=\"spacingAndGlyphs\" textLength=\"60\" x=\"328\" y=\"251.0669\">«variant»</text></a><!--MD5=[14ccda38c055a5c0da953d572bc50960]\n",
       "link E7 to E3--><a href=\"psysml:1a218306-3ccb-4021-8143-a6b7222dd125\" target=\"_top\" title=\"psysml:1a218306-3ccb-4021-8143-a6b7222dd125\" xlink:actuate=\"onRequest\" xlink:href=\"psysml:1a218306-3ccb-4021-8143-a6b7222dd125\" xlink:show=\"new\" xlink:title=\"psysml:1a218306-3ccb-4021-8143-a6b7222dd125\" xlink:type=\"simple\"><path d=\"M172,87.07 C172,87.07 172,134.96 172,134.96 \" fill=\"none\" id=\"E7-&gt;E3\" style=\"stroke: #383838; stroke-width: 1.0;\"/><polygon fill=\"#FFFFFF\" points=\"172,154.96,165,135.96,179,135.96,172,154.96\" style=\"stroke: #383838; stroke-width: 1.0;\"/><ellipse cx=\"167\" cy=\"130.26\" fill=\"#383838\" rx=\"2\" ry=\"2\" style=\"stroke: #383838; stroke-width: 1.0;\"/><ellipse cx=\"177\" cy=\"130.26\" fill=\"#383838\" rx=\"2\" ry=\"2\" style=\"stroke: #383838; stroke-width: 1.0;\"/></a><!--MD5=[f1f3f9f2fc535e6147756cb86a7f2e32]\n",
       "link E8 to E2--><a href=\"psysml:0a07ead6-b6a6-4f86-92cb-b01532aad754\" target=\"_top\" title=\"psysml:0a07ead6-b6a6-4f86-92cb-b01532aad754\" xlink:actuate=\"onRequest\" xlink:href=\"psysml:0a07ead6-b6a6-4f86-92cb-b01532aad754\" xlink:show=\"new\" xlink:title=\"psysml:0a07ead6-b6a6-4f86-92cb-b01532aad754\" xlink:type=\"simple\"><path d=\"M102.18,204 C146.98,204 218.67,204 218.67,204 C218.67,204 218.67,270.82 218.67,270.82 \" fill=\"none\" id=\"E8-&gt;E2\" style=\"stroke: #383838; stroke-width: 1.0;\"/><polygon fill=\"#FFFFFF\" points=\"218.67,290.82,211.67,271.82,225.67,271.82,218.67,290.82\" style=\"stroke: #383838; stroke-width: 1.0;\"/><ellipse cx=\"213.67\" cy=\"266.12\" fill=\"#383838\" rx=\"2\" ry=\"2\" style=\"stroke: #383838; stroke-width: 1.0;\"/><ellipse cx=\"223.67\" cy=\"266.12\" fill=\"#383838\" rx=\"2\" ry=\"2\" style=\"stroke: #383838; stroke-width: 1.0;\"/></a><!--MD5=[ed10624c06dd9a4fa49ccf290e8b16a8]\n",
       "link E8 to E9--><a href=\"psysml:95cf767c-bf38-4d44-8a21-82e4671e1c7d\" target=\"_top\" title=\"psysml:95cf767c-bf38-4d44-8a21-82e4671e1c7d\" xlink:actuate=\"onRequest\" xlink:href=\"psysml:95cf767c-bf38-4d44-8a21-82e4671e1c7d\" xlink:show=\"new\" xlink:title=\"psysml:95cf767c-bf38-4d44-8a21-82e4671e1c7d\" xlink:type=\"simple\"><path d=\"M67.25,218.19 C67.25,218.19 67.25,274.83 67.25,274.83 \" fill=\"none\" id=\"E8-E9\" style=\"stroke: #383838; stroke-width: 1.0;\"/><polygon fill=\"#383838\" points=\"67.25,284.83,70.25,276.83,64.25,276.83,67.25,284.83\" style=\"stroke: #383838; stroke-width: 1.0;\"/><path d=\"M58.7928,211.2682 A9,9 0 0 0 75.7072 211.2682\" fill=\"none\" style=\"stroke: #383838; stroke-width: 1.5;\"/><text fill=\"#000000\" font-family=\"sans-serif\" font-size=\"13\" lengthAdjust=\"spacingAndGlyphs\" textLength=\"60\" x=\"89\" y=\"251.0669\">«variant»</text></a><!--MD5=[0f36bececdf0dff6e600d6f64214b0f1]\n",
       "link E10 to E2--><a href=\"psysml:6b6ac884-9cd9-45a3-8497-3c127dcfd472\" target=\"_top\" title=\"psysml:6b6ac884-9cd9-45a3-8497-3c127dcfd472\" xlink:actuate=\"onRequest\" xlink:href=\"psysml:6b6ac884-9cd9-45a3-8497-3c127dcfd472\" xlink:show=\"new\" xlink:title=\"psysml:6b6ac884-9cd9-45a3-8497-3c127dcfd472\" xlink:type=\"simple\"><path d=\"M253.67,201.26 C253.67,201.26 253.67,270.73 253.67,270.73 \" fill=\"none\" id=\"E10-&gt;E2\" style=\"stroke: #383838; stroke-width: 1.0;\"/><polygon fill=\"#FFFFFF\" points=\"253.67,290.73,246.67,271.73,260.67,271.73,253.67,290.73\" style=\"stroke: #383838; stroke-width: 1.0;\"/><ellipse cx=\"248.67\" cy=\"266.03\" fill=\"#383838\" rx=\"2\" ry=\"2\" style=\"stroke: #383838; stroke-width: 1.0;\"/><ellipse cx=\"258.67\" cy=\"266.03\" fill=\"#383838\" rx=\"2\" ry=\"2\" style=\"stroke: #383838; stroke-width: 1.0;\"/></a><!--MD5=[52a5d13b8fda99f0bcd44d76ad8a3215]\n",
       "@startuml\r\n",
       "skinparam linetype ortho\r\n",
       "skinparam monochrome true\r\n",
       "skinparam classbackgroundcolor white\r\n",
       "skinparam shadowing false\r\n",
       "skinparam wrapWidth 300\r\n",
       "hide circle\r\n",
       "\r\n",
       "package \"VariabilityTest\" as E1  [[psysml:54c28c65-c036-409b-a9ca-8f60ef8eadfb ]]  {\r\n",
       "comp def \"P\" as E2  <<(T,blue) part  def>> [[psysml:82cb16a2-9eb2-4cce-bbbe-e1592c7acc8b ]] {\r\n",
       "- - attributes - -\r\n",
       "a\r\n",
       "}\r\n",
       "comp def \"Q\" as E3  <<(T,blue) part  def>> [[psysml:2ef5dada-a649-4c80-bc3f-904ca5914f5d ]] {\r\n",
       "}\r\n",
       "comp def \"B\" as E4  <<(T,blue) attribute  def>> [[psysml:45188152-89ae-47db-8fae-185a328aceea ]] {\r\n",
       "}\r\n",
       "comp def \"<i>V</i>\" as E5  <<(T,blue) part  def>> [[psysml:e8a966fa-6247-410c-94c4-6750afcc6da8 ]] {\r\n",
       "}\r\n",
       "comp usage \"x: Q \" as E6  <<(T,blue) part>> [[psysml:10060237-19c5-40dc-a73e-8cb7e4953e81 ]] {\r\n",
       "- - attributes - -\r\n",
       "b: B\\n//:>>P::a// \r\n",
       "}\r\n",
       "comp usage \"q: Q \" as E7  <<(T,blue) part>> [[psysml:070ce293-3e12-454f-ad5b-be257c39d672 ]] {\r\n",
       "}\r\n",
       "comp usage \"<i>v</i>: P \" as E8  <<variation>>\\n <<(T,blue) part>> [[psysml:3367482b-ff59-4bbe-a9dc-fe1b4a2ad697 ]] {\r\n",
       "}\r\n",
       "comp usage \"q :> VariabilityTest::q\" as E9  <<(T,blue) reference>> [[psysml:80fa5ea3-437e-4eec-9e3d-5d2e24e12c28 ]] {\r\n",
       "- - attributes - -\r\n",
       "b: B\\n//:>>P::a// \r\n",
       "}\r\n",
       "comp usage \"y: P \" as E10  <<(T,blue) part>> [[psysml:48eaa747-84b8-4879-8d6b-33c104c23f89 ]] {\r\n",
       "}\r\n",
       "}\r\n",
       "E3 - -|> E2 [[psysml:8fca0815-a461-4953-83e8-63ed8c86de29 ]] \r\n",
       "E5 - -|> E2 [[psysml:80d735d5-abd9-4df4-b941-a11b60e81c18 ]] \r\n",
       "E5 )- ->> E6 [[psysml:bbf94ce0-8140-4269-b805-c97e9315d509 ]] : <<variant>>\r\n",
       "E7 - -:|> E3 [[psysml:1a218306-3ccb-4021-8143-a6b7222dd125 ]] \r\n",
       "E8 - -:|> E2 [[psysml:0a07ead6-b6a6-4f86-92cb-b01532aad754 ]] \r\n",
       "E8 )- ->> E9 [[psysml:95cf767c-bf38-4d44-8a21-82e4671e1c7d ]] : <<variant>>\r\n",
       "E10 - -:|> E2 [[psysml:6b6ac884-9cd9-45a3-8497-3c127dcfd472 ]] \r\n",
       "@enduml\r\n",
       "\n",
       "PlantUML version 1.2020.13(Sat Jun 13 12:26:38 UTC 2020)\n",
       "(EPL source distribution)\n",
       "Java Runtime: OpenJDK Runtime Environment\n",
       "JVM: OpenJDK 64-Bit Server VM\n",
       "Default Encoding: UTF-8\n",
       "Language: en\n",
       "Country: null\n",
       "--></g></svg>"
      ]
     },
     "execution_count": 51,
     "metadata": {},
     "output_type": "execute_result"
    }
   ],
   "source": [
    "%viz --style=\"ORTHOLINE\" --view=\"Default\" \"VariabilityTest\""
   ]
  },
  {
   "cell_type": "code",
   "execution_count": 52,
   "id": "c3e08f97",
   "metadata": {
    "execution": {
     "iopub.execute_input": "2021-10-25T08:21:45.908656Z",
     "iopub.status.busy": "2021-10-25T08:21:45.908246Z",
     "iopub.status.idle": "2021-10-25T08:21:45.999699Z",
     "shell.execute_reply": "2021-10-25T08:21:45.997793Z"
    }
   },
   "outputs": [
    {
     "data": {
      "image/svg+xml": [
       "<?xml version=\"1.0\" encoding=\"UTF-8\" standalone=\"no\"?><svg xmlns=\"http://www.w3.org/2000/svg\" xmlns:xlink=\"http://www.w3.org/1999/xlink\" contentScriptType=\"application/ecmascript\" contentStyleType=\"text/css\" height=\"401px\" preserveAspectRatio=\"none\" style=\"width:427px;height:401px;\" version=\"1.1\" viewBox=\"0 0 427 401\" width=\"427px\" zoomAndPan=\"magnify\"><defs/><g><!--MD5=[fbc87193dbaf4d95561dea2c320d4a47]\n",
       "cluster E1--><a href=\"psysml:54c28c65-c036-409b-a9ca-8f60ef8eadfb\" target=\"_top\" title=\"psysml:54c28c65-c036-409b-a9ca-8f60ef8eadfb\" xlink:actuate=\"onRequest\" xlink:href=\"psysml:54c28c65-c036-409b-a9ca-8f60ef8eadfb\" xlink:show=\"new\" xlink:title=\"psysml:54c28c65-c036-409b-a9ca-8f60ef8eadfb\" xlink:type=\"simple\"><polygon fill=\"#FFFFFF\" points=\"16,6,116,6,123,28.2969,405,28.2969,405,389,16,389,16,6\" style=\"stroke: #000000; stroke-width: 1.5;\"/><line style=\"stroke: #000000; stroke-width: 1.5;\" x1=\"16\" x2=\"123\" y1=\"28.2969\" y2=\"28.2969\"/><text fill=\"#000000\" font-family=\"sans-serif\" font-size=\"14\" font-weight=\"bold\" lengthAdjust=\"spacingAndGlyphs\" textLength=\"94\" x=\"20\" y=\"20.9951\">VariabilityTest</text></a><!--MD5=[b4997ac47864f28c2f74865a473b2911]\n",
       "class E2--><a href=\"psysml:82cb16a2-9eb2-4cce-bbbe-e1592c7acc8b\" target=\"_top\" title=\"psysml:82cb16a2-9eb2-4cce-bbbe-e1592c7acc8b\" xlink:actuate=\"onRequest\" xlink:href=\"psysml:82cb16a2-9eb2-4cce-bbbe-e1592c7acc8b\" xlink:show=\"new\" xlink:title=\"psysml:82cb16a2-9eb2-4cce-bbbe-e1592c7acc8b\" xlink:type=\"simple\"><rect fill=\"#FFFFFF\" height=\"75.5469\" id=\"E2\" style=\"stroke: #383838; stroke-width: 1.5;\" width=\"70\" x=\"207\" y=\"291\"/><text fill=\"#000000\" font-family=\"sans-serif\" font-size=\"12\" font-style=\"italic\" lengthAdjust=\"spacingAndGlyphs\" textLength=\"68\" x=\"208\" y=\"307.1387\">«part  def»</text><text fill=\"#000000\" font-family=\"sans-serif\" font-size=\"12\" lengthAdjust=\"spacingAndGlyphs\" textLength=\"8\" x=\"238\" y=\"321.1074\">P</text><line style=\"stroke: #383838; stroke-width: 1.5;\" x1=\"208\" x2=\"276\" y1=\"328.9375\" y2=\"328.9375\"/><text fill=\"#000000\" font-family=\"sans-serif\" font-size=\"11\" lengthAdjust=\"spacingAndGlyphs\" textLength=\"7\" x=\"213\" y=\"359.9526\">a</text><line style=\"stroke: #383838; stroke-width: 1.0;\" x1=\"208\" x2=\"214.5\" y1=\"343.3398\" y2=\"343.3398\"/><text fill=\"#000000\" font-family=\"sans-serif\" font-size=\"11\" lengthAdjust=\"spacingAndGlyphs\" textLength=\"55\" x=\"214.5\" y=\"346.6479\">attributes</text><line style=\"stroke: #383838; stroke-width: 1.0;\" x1=\"269.5\" x2=\"276\" y1=\"343.3398\" y2=\"343.3398\"/></a><!--MD5=[09b614a08d8cba4a07c9adeb5e0fee81]\n",
       "class E3--><a href=\"psysml:2ef5dada-a649-4c80-bc3f-904ca5914f5d\" target=\"_top\" title=\"psysml:2ef5dada-a649-4c80-bc3f-904ca5914f5d\" xlink:actuate=\"onRequest\" xlink:href=\"psysml:2ef5dada-a649-4c80-bc3f-904ca5914f5d\" xlink:show=\"new\" xlink:title=\"psysml:2ef5dada-a649-4c80-bc3f-904ca5914f5d\" xlink:type=\"simple\"><rect fill=\"#FFFFFF\" height=\"45.9375\" id=\"E3\" style=\"stroke: #383838; stroke-width: 1.5;\" width=\"70\" x=\"137\" y=\"155\"/><text fill=\"#000000\" font-family=\"sans-serif\" font-size=\"12\" font-style=\"italic\" lengthAdjust=\"spacingAndGlyphs\" textLength=\"68\" x=\"138\" y=\"171.1387\">«part  def»</text><text fill=\"#000000\" font-family=\"sans-serif\" font-size=\"12\" lengthAdjust=\"spacingAndGlyphs\" textLength=\"9\" x=\"167.5\" y=\"185.1074\">Q</text><line style=\"stroke: #383838; stroke-width: 1.5;\" x1=\"138\" x2=\"206\" y1=\"192.9375\" y2=\"192.9375\"/></a><!--MD5=[ebbe1d658d1005bcc118a6aa81145e00]\n",
       "class E4--><a href=\"psysml:45188152-89ae-47db-8fae-185a328aceea\" target=\"_top\" title=\"psysml:45188152-89ae-47db-8fae-185a328aceea\" xlink:actuate=\"onRequest\" xlink:href=\"psysml:45188152-89ae-47db-8fae-185a328aceea\" xlink:show=\"new\" xlink:title=\"psysml:45188152-89ae-47db-8fae-185a328aceea\" xlink:type=\"simple\"><rect fill=\"#FFFFFF\" height=\"45.9375\" id=\"E4\" style=\"stroke: #383838; stroke-width: 1.5;\" width=\"99\" x=\"258.5\" y=\"41\"/><text fill=\"#000000\" font-family=\"sans-serif\" font-size=\"12\" font-style=\"italic\" lengthAdjust=\"spacingAndGlyphs\" textLength=\"97\" x=\"259.5\" y=\"57.1387\">«attribute  def»</text><text fill=\"#000000\" font-family=\"sans-serif\" font-size=\"12\" lengthAdjust=\"spacingAndGlyphs\" textLength=\"8\" x=\"304\" y=\"71.1074\">B</text><line style=\"stroke: #383838; stroke-width: 1.5;\" x1=\"259.5\" x2=\"356.5\" y1=\"78.9375\" y2=\"78.9375\"/></a><!--MD5=[270fce915f116d4de14055a7c1d9a0f3]\n",
       "class E5--><a href=\"psysml:e8a966fa-6247-410c-94c4-6750afcc6da8\" target=\"_top\" title=\"psysml:e8a966fa-6247-410c-94c4-6750afcc6da8\" xlink:actuate=\"onRequest\" xlink:href=\"psysml:e8a966fa-6247-410c-94c4-6750afcc6da8\" xlink:show=\"new\" xlink:title=\"psysml:e8a966fa-6247-410c-94c4-6750afcc6da8\" xlink:type=\"simple\"><rect fill=\"#FFFFFF\" height=\"45.9375\" id=\"E5\" style=\"stroke: #383838; stroke-width: 1.5;\" width=\"70\" x=\"319\" y=\"155\"/><text fill=\"#000000\" font-family=\"sans-serif\" font-size=\"12\" font-style=\"italic\" lengthAdjust=\"spacingAndGlyphs\" textLength=\"68\" x=\"320\" y=\"171.1387\">«part  def»</text><text fill=\"#000000\" font-family=\"sans-serif\" font-size=\"12\" font-style=\"italic\" lengthAdjust=\"spacingAndGlyphs\" textLength=\"8\" x=\"350\" y=\"185.1074\">V</text><line style=\"stroke: #383838; stroke-width: 1.5;\" x1=\"320\" x2=\"388\" y1=\"192.9375\" y2=\"192.9375\"/></a><!--MD5=[60a26617385b1d2d0262a64233df1f8d]\n",
       "class E6--><a href=\"psysml:10060237-19c5-40dc-a73e-8cb7e4953e81\" target=\"_top\" title=\"psysml:10060237-19c5-40dc-a73e-8cb7e4953e81\" xlink:actuate=\"onRequest\" xlink:href=\"psysml:10060237-19c5-40dc-a73e-8cb7e4953e81\" xlink:show=\"new\" xlink:title=\"psysml:10060237-19c5-40dc-a73e-8cb7e4953e81\" xlink:type=\"simple\"><rect fill=\"#FFFFFF\" height=\"88.3516\" id=\"E6\" rx=\"10\" ry=\"10\" style=\"stroke: #383838; stroke-width: 1.5;\" width=\"63\" x=\"312.5\" y=\"285\"/><text fill=\"#000000\" font-family=\"sans-serif\" font-size=\"12\" font-style=\"italic\" lengthAdjust=\"spacingAndGlyphs\" textLength=\"40\" x=\"324\" y=\"301.1387\">«part»</text><text fill=\"#000000\" font-family=\"sans-serif\" font-size=\"12\" lengthAdjust=\"spacingAndGlyphs\" textLength=\"23\" x=\"330.5\" y=\"315.1074\">x: Q</text><line style=\"stroke: #383838; stroke-width: 1.5;\" x1=\"313.5\" x2=\"374.5\" y1=\"322.9375\" y2=\"322.9375\"/><text fill=\"#000000\" font-family=\"sans-serif\" font-size=\"11\" lengthAdjust=\"spacingAndGlyphs\" textLength=\"23\" x=\"318.5\" y=\"353.9526\">b: B</text><text fill=\"#000000\" font-family=\"sans-serif\" font-size=\"11\" font-style=\"italic\" lengthAdjust=\"spacingAndGlyphs\" textLength=\"44\" x=\"318.5\" y=\"366.7573\">:&gt;&gt;P::a</text><line style=\"stroke: #383838; stroke-width: 1.0;\" x1=\"313.5\" x2=\"316.5\" y1=\"337.3398\" y2=\"337.3398\"/><text fill=\"#000000\" font-family=\"sans-serif\" font-size=\"11\" lengthAdjust=\"spacingAndGlyphs\" textLength=\"55\" x=\"316.5\" y=\"340.6479\">attributes</text><line style=\"stroke: #383838; stroke-width: 1.0;\" x1=\"371.5\" x2=\"374.5\" y1=\"337.3398\" y2=\"337.3398\"/></a><!--MD5=[2156ba9850f5573cc1fc38a6a4b2f02b]\n",
       "class E7--><a href=\"psysml:070ce293-3e12-454f-ad5b-be257c39d672\" target=\"_top\" title=\"psysml:070ce293-3e12-454f-ad5b-be257c39d672\" xlink:actuate=\"onRequest\" xlink:href=\"psysml:070ce293-3e12-454f-ad5b-be257c39d672\" xlink:show=\"new\" xlink:title=\"psysml:070ce293-3e12-454f-ad5b-be257c39d672\" xlink:type=\"simple\"><rect fill=\"#FFFFFF\" height=\"45.9375\" id=\"E7\" rx=\"10\" ry=\"10\" style=\"stroke: #383838; stroke-width: 1.5;\" width=\"42\" x=\"151\" y=\"41\"/><text fill=\"#000000\" font-family=\"sans-serif\" font-size=\"12\" font-style=\"italic\" lengthAdjust=\"spacingAndGlyphs\" textLength=\"40\" x=\"152\" y=\"57.1387\">«part»</text><text fill=\"#000000\" font-family=\"sans-serif\" font-size=\"12\" lengthAdjust=\"spacingAndGlyphs\" textLength=\"25\" x=\"157.5\" y=\"71.1074\">q: Q</text><line style=\"stroke: #383838; stroke-width: 1.5;\" x1=\"152\" x2=\"192\" y1=\"78.9375\" y2=\"78.9375\"/></a><!--MD5=[b9389687b975829384b498ac4b7476b2]\n",
       "class E8--><a href=\"psysml:3367482b-ff59-4bbe-a9dc-fe1b4a2ad697\" target=\"_top\" title=\"psysml:3367482b-ff59-4bbe-a9dc-fe1b4a2ad697\" xlink:actuate=\"onRequest\" xlink:href=\"psysml:3367482b-ff59-4bbe-a9dc-fe1b4a2ad697\" xlink:show=\"new\" xlink:title=\"psysml:3367482b-ff59-4bbe-a9dc-fe1b4a2ad697\" xlink:type=\"simple\"><rect fill=\"#FFFFFF\" height=\"59.9063\" id=\"E8\" rx=\"10\" ry=\"10\" style=\"stroke: #383838; stroke-width: 1.5;\" width=\"70\" x=\"32\" y=\"148\"/><text fill=\"#000000\" font-family=\"sans-serif\" font-size=\"12\" font-style=\"italic\" lengthAdjust=\"spacingAndGlyphs\" textLength=\"68\" x=\"33\" y=\"164.1387\">«variation»</text><text fill=\"#000000\" font-family=\"sans-serif\" font-size=\"12\" font-style=\"italic\" lengthAdjust=\"spacingAndGlyphs\" textLength=\"40\" x=\"47\" y=\"178.1074\">«part»</text><text fill=\"#000000\" font-family=\"sans-serif\" font-size=\"12\" font-style=\"italic\" lengthAdjust=\"spacingAndGlyphs\" textLength=\"6\" x=\"54\" y=\"192.0762\">v</text><text fill=\"#000000\" font-family=\"sans-serif\" font-size=\"12\" lengthAdjust=\"spacingAndGlyphs\" textLength=\"16\" x=\"60\" y=\"192.0762\">: P</text><line style=\"stroke: #383838; stroke-width: 1.5;\" x1=\"33\" x2=\"101\" y1=\"199.9063\" y2=\"199.9063\"/></a><!--MD5=[fd4143e9d270a159db93a4ea2a975926]\n",
       "class E9--><a href=\"psysml:80fa5ea3-437e-4eec-9e3d-5d2e24e12c28\" target=\"_top\" title=\"psysml:80fa5ea3-437e-4eec-9e3d-5d2e24e12c28\" xlink:actuate=\"onRequest\" xlink:href=\"psysml:80fa5ea3-437e-4eec-9e3d-5d2e24e12c28\" xlink:show=\"new\" xlink:title=\"psysml:80fa5ea3-437e-4eec-9e3d-5d2e24e12c28\" xlink:type=\"simple\"><rect fill=\"#FFFFFF\" height=\"88.3516\" id=\"E9\" rx=\"10\" ry=\"10\" style=\"stroke: #383838; stroke-width: 1.5;\" width=\"139\" x=\"32.5\" y=\"285\"/><text fill=\"#000000\" font-family=\"sans-serif\" font-size=\"12\" font-style=\"italic\" lengthAdjust=\"spacingAndGlyphs\" textLength=\"75\" x=\"64.5\" y=\"301.1387\">«reference»</text><text fill=\"#000000\" font-family=\"sans-serif\" font-size=\"12\" lengthAdjust=\"spacingAndGlyphs\" textLength=\"133\" x=\"35.5\" y=\"315.1074\">q :&gt; VariabilityTest::q</text><line style=\"stroke: #383838; stroke-width: 1.5;\" x1=\"33.5\" x2=\"170.5\" y1=\"322.9375\" y2=\"322.9375\"/><text fill=\"#000000\" font-family=\"sans-serif\" font-size=\"11\" lengthAdjust=\"spacingAndGlyphs\" textLength=\"23\" x=\"38.5\" y=\"353.9526\">b: B</text><text fill=\"#000000\" font-family=\"sans-serif\" font-size=\"11\" font-style=\"italic\" lengthAdjust=\"spacingAndGlyphs\" textLength=\"44\" x=\"38.5\" y=\"366.7573\">:&gt;&gt;P::a</text><line style=\"stroke: #383838; stroke-width: 1.0;\" x1=\"33.5\" x2=\"74.5\" y1=\"337.3398\" y2=\"337.3398\"/><text fill=\"#000000\" font-family=\"sans-serif\" font-size=\"11\" lengthAdjust=\"spacingAndGlyphs\" textLength=\"55\" x=\"74.5\" y=\"340.6479\">attributes</text><line style=\"stroke: #383838; stroke-width: 1.0;\" x1=\"129.5\" x2=\"170.5\" y1=\"337.3398\" y2=\"337.3398\"/></a><!--MD5=[96f4274e9e20536e775497830990834d]\n",
       "class E10--><a href=\"psysml:48eaa747-84b8-4879-8d6b-33c104c23f89\" target=\"_top\" title=\"psysml:48eaa747-84b8-4879-8d6b-33c104c23f89\" xlink:actuate=\"onRequest\" xlink:href=\"psysml:48eaa747-84b8-4879-8d6b-33c104c23f89\" xlink:show=\"new\" xlink:title=\"psysml:48eaa747-84b8-4879-8d6b-33c104c23f89\" xlink:type=\"simple\"><rect fill=\"#FFFFFF\" height=\"45.9375\" id=\"E10\" rx=\"10\" ry=\"10\" style=\"stroke: #383838; stroke-width: 1.5;\" width=\"42\" x=\"242\" y=\"155\"/><text fill=\"#000000\" font-family=\"sans-serif\" font-size=\"12\" font-style=\"italic\" lengthAdjust=\"spacingAndGlyphs\" textLength=\"40\" x=\"243\" y=\"171.1387\">«part»</text><text fill=\"#000000\" font-family=\"sans-serif\" font-size=\"12\" lengthAdjust=\"spacingAndGlyphs\" textLength=\"22\" x=\"250\" y=\"185.1074\">y: P</text><line style=\"stroke: #383838; stroke-width: 1.5;\" x1=\"243\" x2=\"283\" y1=\"192.9375\" y2=\"192.9375\"/></a><!--MD5=[05d275557350bfb9b23a4ef7222b4c39]\n",
       "link E3 to E2--><a href=\"psysml:8fca0815-a461-4953-83e8-63ed8c86de29\" target=\"_top\" title=\"psysml:8fca0815-a461-4953-83e8-63ed8c86de29\" xlink:actuate=\"onRequest\" xlink:href=\"psysml:8fca0815-a461-4953-83e8-63ed8c86de29\" xlink:show=\"new\" xlink:title=\"psysml:8fca0815-a461-4953-83e8-63ed8c86de29\" xlink:type=\"simple\"><path d=\"M207.28,178 C219.56,178 230.33,178 230.33,178 C230.33,178 230.33,270.9 230.33,270.9 \" fill=\"none\" id=\"E3-&gt;E2\" style=\"stroke: #383838; stroke-width: 1.0;\"/><polygon fill=\"none\" points=\"237.33,270.9,230.33,290.9,223.33,270.9,237.33,270.9\" style=\"stroke: #383838; stroke-width: 1.0;\"/></a><!--MD5=[15ebcb19ae302d9b601edb458606d402]\n",
       "link E5 to E2--><a href=\"psysml:80d735d5-abd9-4df4-b941-a11b60e81c18\" target=\"_top\" title=\"psysml:80d735d5-abd9-4df4-b941-a11b60e81c18\" xlink:actuate=\"onRequest\" xlink:href=\"psysml:80d735d5-abd9-4df4-b941-a11b60e81c18\" xlink:show=\"new\" xlink:title=\"psysml:80d735d5-abd9-4df4-b941-a11b60e81c18\" xlink:type=\"simple\"><path d=\"M337.83,201.12 C337.83,204.02 337.83,206 337.83,206 C337.83,206 265.33,206 265.33,206 C265.33,206 265.33,270.76 265.33,270.76 \" fill=\"none\" id=\"E5-&gt;E2\" style=\"stroke: #383838; stroke-width: 1.0;\"/><polygon fill=\"none\" points=\"272.33,270.76,265.33,290.76,258.33,270.76,272.33,270.76\" style=\"stroke: #383838; stroke-width: 1.0;\"/></a><!--MD5=[9120cf2e5df3bff93db8f754bbbc09b4]\n",
       "link E5 to E6--><a href=\"psysml:bbf94ce0-8140-4269-b805-c97e9315d509\" target=\"_top\" title=\"psysml:bbf94ce0-8140-4269-b805-c97e9315d509\" xlink:actuate=\"onRequest\" xlink:href=\"psysml:bbf94ce0-8140-4269-b805-c97e9315d509\" xlink:show=\"new\" xlink:title=\"psysml:bbf94ce0-8140-4269-b805-c97e9315d509\" xlink:type=\"simple\"><path d=\"M356.67,211.26 C356.67,211.26 356.67,274.72 356.67,274.72 \" fill=\"none\" id=\"E5-E6\" style=\"stroke: #383838; stroke-width: 1.0;\"/><polygon fill=\"#383838\" points=\"356.67,284.72,359.67,276.72,353.67,276.72,356.67,284.72\" style=\"stroke: #383838; stroke-width: 1.0;\"/><path d=\"M348.2128,204.3382 A9,9 0 0 0 365.1272 204.3382\" fill=\"none\" style=\"stroke: #383838; stroke-width: 1.5;\"/><text fill=\"#000000\" font-family=\"sans-serif\" font-size=\"13\" lengthAdjust=\"spacingAndGlyphs\" textLength=\"60\" x=\"328\" y=\"251.0669\">«variant»</text></a><!--MD5=[14ccda38c055a5c0da953d572bc50960]\n",
       "link E7 to E3--><a href=\"psysml:1a218306-3ccb-4021-8143-a6b7222dd125\" target=\"_top\" title=\"psysml:1a218306-3ccb-4021-8143-a6b7222dd125\" xlink:actuate=\"onRequest\" xlink:href=\"psysml:1a218306-3ccb-4021-8143-a6b7222dd125\" xlink:show=\"new\" xlink:title=\"psysml:1a218306-3ccb-4021-8143-a6b7222dd125\" xlink:type=\"simple\"><path d=\"M172,87.07 C172,87.07 172,134.96 172,134.96 \" fill=\"none\" id=\"E7-&gt;E3\" style=\"stroke: #383838; stroke-width: 1.0;\"/><polygon fill=\"#FFFFFF\" points=\"172,154.96,165,135.96,179,135.96,172,154.96\" style=\"stroke: #383838; stroke-width: 1.0;\"/><ellipse cx=\"167\" cy=\"130.26\" fill=\"#383838\" rx=\"2\" ry=\"2\" style=\"stroke: #383838; stroke-width: 1.0;\"/><ellipse cx=\"177\" cy=\"130.26\" fill=\"#383838\" rx=\"2\" ry=\"2\" style=\"stroke: #383838; stroke-width: 1.0;\"/></a><!--MD5=[f1f3f9f2fc535e6147756cb86a7f2e32]\n",
       "link E8 to E2--><a href=\"psysml:0a07ead6-b6a6-4f86-92cb-b01532aad754\" target=\"_top\" title=\"psysml:0a07ead6-b6a6-4f86-92cb-b01532aad754\" xlink:actuate=\"onRequest\" xlink:href=\"psysml:0a07ead6-b6a6-4f86-92cb-b01532aad754\" xlink:show=\"new\" xlink:title=\"psysml:0a07ead6-b6a6-4f86-92cb-b01532aad754\" xlink:type=\"simple\"><path d=\"M102.18,204 C146.98,204 218.67,204 218.67,204 C218.67,204 218.67,270.82 218.67,270.82 \" fill=\"none\" id=\"E8-&gt;E2\" style=\"stroke: #383838; stroke-width: 1.0;\"/><polygon fill=\"#FFFFFF\" points=\"218.67,290.82,211.67,271.82,225.67,271.82,218.67,290.82\" style=\"stroke: #383838; stroke-width: 1.0;\"/><ellipse cx=\"213.67\" cy=\"266.12\" fill=\"#383838\" rx=\"2\" ry=\"2\" style=\"stroke: #383838; stroke-width: 1.0;\"/><ellipse cx=\"223.67\" cy=\"266.12\" fill=\"#383838\" rx=\"2\" ry=\"2\" style=\"stroke: #383838; stroke-width: 1.0;\"/></a><!--MD5=[ed10624c06dd9a4fa49ccf290e8b16a8]\n",
       "link E8 to E9--><a href=\"psysml:95cf767c-bf38-4d44-8a21-82e4671e1c7d\" target=\"_top\" title=\"psysml:95cf767c-bf38-4d44-8a21-82e4671e1c7d\" xlink:actuate=\"onRequest\" xlink:href=\"psysml:95cf767c-bf38-4d44-8a21-82e4671e1c7d\" xlink:show=\"new\" xlink:title=\"psysml:95cf767c-bf38-4d44-8a21-82e4671e1c7d\" xlink:type=\"simple\"><path d=\"M67.25,218.19 C67.25,218.19 67.25,274.83 67.25,274.83 \" fill=\"none\" id=\"E8-E9\" style=\"stroke: #383838; stroke-width: 1.0;\"/><polygon fill=\"#383838\" points=\"67.25,284.83,70.25,276.83,64.25,276.83,67.25,284.83\" style=\"stroke: #383838; stroke-width: 1.0;\"/><path d=\"M58.7928,211.2682 A9,9 0 0 0 75.7072 211.2682\" fill=\"none\" style=\"stroke: #383838; stroke-width: 1.5;\"/><text fill=\"#000000\" font-family=\"sans-serif\" font-size=\"13\" lengthAdjust=\"spacingAndGlyphs\" textLength=\"60\" x=\"89\" y=\"251.0669\">«variant»</text></a><!--MD5=[0f36bececdf0dff6e600d6f64214b0f1]\n",
       "link E10 to E2--><a href=\"psysml:6b6ac884-9cd9-45a3-8497-3c127dcfd472\" target=\"_top\" title=\"psysml:6b6ac884-9cd9-45a3-8497-3c127dcfd472\" xlink:actuate=\"onRequest\" xlink:href=\"psysml:6b6ac884-9cd9-45a3-8497-3c127dcfd472\" xlink:show=\"new\" xlink:title=\"psysml:6b6ac884-9cd9-45a3-8497-3c127dcfd472\" xlink:type=\"simple\"><path d=\"M253.67,201.26 C253.67,201.26 253.67,270.73 253.67,270.73 \" fill=\"none\" id=\"E10-&gt;E2\" style=\"stroke: #383838; stroke-width: 1.0;\"/><polygon fill=\"#FFFFFF\" points=\"253.67,290.73,246.67,271.73,260.67,271.73,253.67,290.73\" style=\"stroke: #383838; stroke-width: 1.0;\"/><ellipse cx=\"248.67\" cy=\"266.03\" fill=\"#383838\" rx=\"2\" ry=\"2\" style=\"stroke: #383838; stroke-width: 1.0;\"/><ellipse cx=\"258.67\" cy=\"266.03\" fill=\"#383838\" rx=\"2\" ry=\"2\" style=\"stroke: #383838; stroke-width: 1.0;\"/></a><!--MD5=[52a5d13b8fda99f0bcd44d76ad8a3215]\n",
       "@startuml\r\n",
       "skinparam linetype ortho\r\n",
       "skinparam monochrome true\r\n",
       "skinparam classbackgroundcolor white\r\n",
       "skinparam shadowing false\r\n",
       "skinparam wrapWidth 300\r\n",
       "hide circle\r\n",
       "\r\n",
       "package \"VariabilityTest\" as E1  [[psysml:54c28c65-c036-409b-a9ca-8f60ef8eadfb ]]  {\r\n",
       "comp def \"P\" as E2  <<(T,blue) part  def>> [[psysml:82cb16a2-9eb2-4cce-bbbe-e1592c7acc8b ]] {\r\n",
       "- - attributes - -\r\n",
       "a\r\n",
       "}\r\n",
       "comp def \"Q\" as E3  <<(T,blue) part  def>> [[psysml:2ef5dada-a649-4c80-bc3f-904ca5914f5d ]] {\r\n",
       "}\r\n",
       "comp def \"B\" as E4  <<(T,blue) attribute  def>> [[psysml:45188152-89ae-47db-8fae-185a328aceea ]] {\r\n",
       "}\r\n",
       "comp def \"<i>V</i>\" as E5  <<(T,blue) part  def>> [[psysml:e8a966fa-6247-410c-94c4-6750afcc6da8 ]] {\r\n",
       "}\r\n",
       "comp usage \"x: Q \" as E6  <<(T,blue) part>> [[psysml:10060237-19c5-40dc-a73e-8cb7e4953e81 ]] {\r\n",
       "- - attributes - -\r\n",
       "b: B\\n//:>>P::a// \r\n",
       "}\r\n",
       "comp usage \"q: Q \" as E7  <<(T,blue) part>> [[psysml:070ce293-3e12-454f-ad5b-be257c39d672 ]] {\r\n",
       "}\r\n",
       "comp usage \"<i>v</i>: P \" as E8  <<variation>>\\n <<(T,blue) part>> [[psysml:3367482b-ff59-4bbe-a9dc-fe1b4a2ad697 ]] {\r\n",
       "}\r\n",
       "comp usage \"q :> VariabilityTest::q\" as E9  <<(T,blue) reference>> [[psysml:80fa5ea3-437e-4eec-9e3d-5d2e24e12c28 ]] {\r\n",
       "- - attributes - -\r\n",
       "b: B\\n//:>>P::a// \r\n",
       "}\r\n",
       "comp usage \"y: P \" as E10  <<(T,blue) part>> [[psysml:48eaa747-84b8-4879-8d6b-33c104c23f89 ]] {\r\n",
       "}\r\n",
       "}\r\n",
       "E3 - -|> E2 [[psysml:8fca0815-a461-4953-83e8-63ed8c86de29 ]] \r\n",
       "E5 - -|> E2 [[psysml:80d735d5-abd9-4df4-b941-a11b60e81c18 ]] \r\n",
       "E5 )- ->> E6 [[psysml:bbf94ce0-8140-4269-b805-c97e9315d509 ]] : <<variant>>\r\n",
       "E7 - -:|> E3 [[psysml:1a218306-3ccb-4021-8143-a6b7222dd125 ]] \r\n",
       "E8 - -:|> E2 [[psysml:0a07ead6-b6a6-4f86-92cb-b01532aad754 ]] \r\n",
       "E8 )- ->> E9 [[psysml:95cf767c-bf38-4d44-8a21-82e4671e1c7d ]] : <<variant>>\r\n",
       "E10 - -:|> E2 [[psysml:6b6ac884-9cd9-45a3-8497-3c127dcfd472 ]] \r\n",
       "@enduml\r\n",
       "\n",
       "PlantUML version 1.2020.13(Sat Jun 13 12:26:38 UTC 2020)\n",
       "(EPL source distribution)\n",
       "Java Runtime: OpenJDK Runtime Environment\n",
       "JVM: OpenJDK 64-Bit Server VM\n",
       "Default Encoding: UTF-8\n",
       "Language: en\n",
       "Country: null\n",
       "--></g></svg>"
      ]
     },
     "execution_count": 52,
     "metadata": {},
     "output_type": "execute_result"
    }
   ],
   "source": [
    "%viz --style=\"ORTHOLINE\" --view=\"Tree\" \"VariabilityTest\""
   ]
  },
  {
   "cell_type": "code",
   "execution_count": 53,
   "id": "5655420c",
   "metadata": {
    "execution": {
     "iopub.execute_input": "2021-10-25T08:21:46.048348Z",
     "iopub.status.busy": "2021-10-25T08:21:46.047949Z",
     "iopub.status.idle": "2021-10-25T08:21:46.051931Z",
     "shell.execute_reply": "2021-10-25T08:21:46.051604Z"
    }
   },
   "outputs": [
    {
     "data": {
      "image/svg+xml": [
       "<?xml version=\"1.0\" encoding=\"UTF-8\" standalone=\"no\"?><svg xmlns=\"http://www.w3.org/2000/svg\" xmlns:xlink=\"http://www.w3.org/1999/xlink\" contentScriptType=\"application/ecmascript\" contentStyleType=\"text/css\" height=\"12px\" preserveAspectRatio=\"none\" style=\"width:12px;height:12px;\" version=\"1.1\" viewBox=\"0 0 12 12\" width=\"12px\" zoomAndPan=\"magnify\"><defs/><g><!--MD5=[97d6f38768b311333d388e66b2b27985]\n",
       "@startuml\r\n",
       "skinparam linetype ortho\r\n",
       "skinparam monochrome true\r\n",
       "skinparam classbackgroundcolor white\r\n",
       "skinparam shadowing false\r\n",
       "skinparam wrapWidth 300\r\n",
       "hide circle\r\n",
       "\r\n",
       "@enduml\r\n",
       "\n",
       "PlantUML version 1.2020.13(Sat Jun 13 12:26:38 UTC 2020)\n",
       "(EPL source distribution)\n",
       "Java Runtime: OpenJDK Runtime Environment\n",
       "JVM: OpenJDK 64-Bit Server VM\n",
       "Default Encoding: UTF-8\n",
       "Language: en\n",
       "Country: null\n",
       "--></g></svg>"
      ]
     },
     "execution_count": 53,
     "metadata": {},
     "output_type": "execute_result"
    }
   ],
   "source": [
    "%viz --style=\"ORTHOLINE\" --view=\"State\" \"VariabilityTest\""
   ]
  },
  {
   "cell_type": "code",
   "execution_count": 54,
   "id": "36c430f8",
   "metadata": {
    "execution": {
     "iopub.execute_input": "2021-10-25T08:21:46.101278Z",
     "iopub.status.busy": "2021-10-25T08:21:46.100886Z",
     "iopub.status.idle": "2021-10-25T08:21:46.175002Z",
     "shell.execute_reply": "2021-10-25T08:21:46.174649Z"
    }
   },
   "outputs": [
    {
     "data": {
      "image/svg+xml": [
       "<?xml version=\"1.0\" encoding=\"UTF-8\" standalone=\"no\"?><svg xmlns=\"http://www.w3.org/2000/svg\" xmlns:xlink=\"http://www.w3.org/1999/xlink\" contentScriptType=\"application/ecmascript\" contentStyleType=\"text/css\" height=\"427px\" preserveAspectRatio=\"none\" style=\"width:853px;height:427px;\" version=\"1.1\" viewBox=\"0 0 853 427\" width=\"853px\" zoomAndPan=\"magnify\"><defs/><g><!--MD5=[fbc87193dbaf4d95561dea2c320d4a47]\n",
       "cluster E1--><a href=\"psysml:54c28c65-c036-409b-a9ca-8f60ef8eadfb\" target=\"_top\" title=\"psysml:54c28c65-c036-409b-a9ca-8f60ef8eadfb\" xlink:actuate=\"onRequest\" xlink:href=\"psysml:54c28c65-c036-409b-a9ca-8f60ef8eadfb\" xlink:show=\"new\" xlink:title=\"psysml:54c28c65-c036-409b-a9ca-8f60ef8eadfb\" xlink:type=\"simple\"><polygon fill=\"#FFFFFF\" points=\"16,6,116,6,123,28.2969,831,28.2969,831,415,16,415,16,6\" style=\"stroke: #000000; stroke-width: 1.5;\"/><line style=\"stroke: #000000; stroke-width: 1.5;\" x1=\"16\" x2=\"123\" y1=\"28.2969\" y2=\"28.2969\"/><text fill=\"#000000\" font-family=\"sans-serif\" font-size=\"14\" font-weight=\"bold\" lengthAdjust=\"spacingAndGlyphs\" textLength=\"94\" x=\"20\" y=\"20.9951\">VariabilityTest</text></a><!--MD5=[e4f7fae6ed58524ba242bb0b0d3be6b7]\n",
       "cluster E2--><a href=\"psysml:82cb16a2-9eb2-4cce-bbbe-e1592c7acc8b\" target=\"_top\" title=\"psysml:82cb16a2-9eb2-4cce-bbbe-e1592c7acc8b\" xlink:actuate=\"onRequest\" xlink:href=\"psysml:82cb16a2-9eb2-4cce-bbbe-e1592c7acc8b\" xlink:show=\"new\" xlink:title=\"psysml:82cb16a2-9eb2-4cce-bbbe-e1592c7acc8b\" xlink:type=\"simple\"><rect fill=\"#FFFFFF\" height=\"129\" id=\"E2\" style=\"stroke: #383838; stroke-width: 1.5;\" width=\"139\" x=\"460\" y=\"254\"/><rect fill=\"#F8F8F8\" height=\"37.9375\" style=\"stroke: #383838; stroke-width: 1.5;\" width=\"139\" x=\"460\" y=\"254\"/><text fill=\"#000000\" font-family=\"sans-serif\" font-size=\"12\" font-style=\"italic\" lengthAdjust=\"spacingAndGlyphs\" textLength=\"68\" x=\"495.5\" y=\"270.1387\">«part  def»</text><text fill=\"#000000\" font-family=\"sans-serif\" font-size=\"12\" lengthAdjust=\"spacingAndGlyphs\" textLength=\"8\" x=\"525.5\" y=\"284.1074\">P</text></a><!--MD5=[14e3b0961a2654348d326746436168a1]\n",
       "cluster E6--><a href=\"psysml:e8a966fa-6247-410c-94c4-6750afcc6da8\" target=\"_top\" title=\"psysml:e8a966fa-6247-410c-94c4-6750afcc6da8\" xlink:actuate=\"onRequest\" xlink:href=\"psysml:e8a966fa-6247-410c-94c4-6750afcc6da8\" xlink:show=\"new\" xlink:title=\"psysml:e8a966fa-6247-410c-94c4-6750afcc6da8\" xlink:type=\"simple\"><rect fill=\"#FFFFFF\" height=\"157\" id=\"E6\" style=\"stroke: #383838; stroke-width: 1.5;\" width=\"131\" x=\"668\" y=\"57\"/><rect fill=\"#F8F8F8\" height=\"37.9375\" style=\"stroke: #383838; stroke-width: 1.5;\" width=\"131\" x=\"668\" y=\"57\"/><text fill=\"#000000\" font-family=\"sans-serif\" font-size=\"12\" font-style=\"italic\" lengthAdjust=\"spacingAndGlyphs\" textLength=\"68\" x=\"699.5\" y=\"73.1387\">«part  def»</text><text fill=\"#000000\" font-family=\"sans-serif\" font-size=\"12\" font-style=\"italic\" lengthAdjust=\"spacingAndGlyphs\" textLength=\"8\" x=\"729.5\" y=\"87.1074\">V</text></a><!--MD5=[7f149f147074ac12df2cb0a7728a5fb0]\n",
       "cluster E9--><a href=\"psysml:3367482b-ff59-4bbe-a9dc-fe1b4a2ad697\" target=\"_top\" title=\"psysml:3367482b-ff59-4bbe-a9dc-fe1b4a2ad697\" xlink:actuate=\"onRequest\" xlink:href=\"psysml:3367482b-ff59-4bbe-a9dc-fe1b4a2ad697\" xlink:show=\"new\" xlink:title=\"psysml:3367482b-ff59-4bbe-a9dc-fe1b4a2ad697\" xlink:type=\"simple\"><rect fill=\"#FFFFFF\" height=\"139\" id=\"E9\" rx=\"10\" ry=\"10\" style=\"stroke: #383838; stroke-width: 1.5;\" width=\"172\" x=\"464\" y=\"74\"/><rect fill=\"#F8F8F8\" height=\"23.9688\" rx=\"10\" ry=\"10\" style=\"stroke: #F8F8F8; stroke-width: 1.5;\" width=\"172\" x=\"464\" y=\"74\"/><rect fill=\"#F8F8F8\" height=\"10\" style=\"stroke: #F8F8F8; stroke-width: 1.5;\" width=\"172\" x=\"464\" y=\"87.9688\"/><rect fill=\"none\" height=\"139\" id=\"E9\" rx=\"10\" ry=\"10\" style=\"stroke: #383838; stroke-width: 1.5;\" width=\"172\" x=\"464\" y=\"74\"/><text fill=\"#000000\" font-family=\"sans-serif\" font-size=\"12\" lengthAdjust=\"spacingAndGlyphs\" textLength=\"22\" x=\"539\" y=\"90.1387\">v: P</text><line style=\"stroke: #383838; stroke-width: 1.0;\" x1=\"464\" x2=\"636\" y1=\"97.9688\" y2=\"97.9688\"/></a><g id=\"E1.E5\"><a href=\"psysml:45188152-89ae-47db-8fae-185a328aceea\" target=\"_top\" title=\"psysml:45188152-89ae-47db-8fae-185a328aceea\" xlink:actuate=\"onRequest\" xlink:href=\"psysml:45188152-89ae-47db-8fae-185a328aceea\" xlink:show=\"new\" xlink:title=\"psysml:45188152-89ae-47db-8fae-185a328aceea\" xlink:type=\"simple\"><rect fill=\"#FFFFFF\" height=\"42.9375\" id=\"E5\" style=\"stroke: #383838; stroke-width: 1.5;\" width=\"104\" x=\"341\" y=\"131.5\"/><rect fill=\"#F8F8F8\" height=\"37.9375\" style=\"stroke: #383838; stroke-width: 1.5;\" width=\"104\" x=\"341\" y=\"131.5\"/><text fill=\"#000000\" font-family=\"sans-serif\" font-size=\"12\" font-style=\"italic\" lengthAdjust=\"spacingAndGlyphs\" textLength=\"97\" x=\"344.5\" y=\"147.6387\">«attribute  def»</text><text fill=\"#000000\" font-family=\"sans-serif\" font-size=\"12\" lengthAdjust=\"spacingAndGlyphs\" textLength=\"8\" x=\"389\" y=\"161.6074\">B</text></a></g><!--MD5=[09b614a08d8cba4a07c9adeb5e0fee81]\n",
       "class E3--><a href=\"psysml:b3756095-16bb-4cb1-b9cb-a9f1f269c560\" target=\"_top\" title=\"psysml:b3756095-16bb-4cb1-b9cb-a9f1f269c560\" xlink:actuate=\"onRequest\" xlink:href=\"psysml:b3756095-16bb-4cb1-b9cb-a9f1f269c560\" xlink:show=\"new\" xlink:title=\"psysml:b3756095-16bb-4cb1-b9cb-a9f1f269c560\" xlink:type=\"simple\"><rect fill=\"#FFFFFF\" height=\"45.9375\" id=\"E3\" rx=\"10\" ry=\"10\" style=\"stroke: #383838; stroke-width: 1.5;\" width=\"71\" x=\"503.5\" y=\"313\"/><text fill=\"#000000\" font-family=\"sans-serif\" font-size=\"12\" font-style=\"italic\" lengthAdjust=\"spacingAndGlyphs\" textLength=\"69\" x=\"504.5\" y=\"329.1387\">«attribute»</text><text fill=\"#000000\" font-family=\"sans-serif\" font-size=\"12\" lengthAdjust=\"spacingAndGlyphs\" textLength=\"8\" x=\"535\" y=\"343.1074\">a</text><line style=\"stroke: #383838; stroke-width: 1.5;\" x1=\"504.5\" x2=\"573.5\" y1=\"350.9375\" y2=\"350.9375\"/></a><g id=\"E1.E4\"><a href=\"psysml:2ef5dada-a649-4c80-bc3f-904ca5914f5d\" target=\"_top\" title=\"psysml:2ef5dada-a649-4c80-bc3f-904ca5914f5d\" xlink:actuate=\"onRequest\" xlink:href=\"psysml:2ef5dada-a649-4c80-bc3f-904ca5914f5d\" xlink:show=\"new\" xlink:title=\"psysml:2ef5dada-a649-4c80-bc3f-904ca5914f5d\" xlink:type=\"simple\"><rect fill=\"#FFFFFF\" height=\"42.9375\" id=\"E4\" style=\"stroke: #383838; stroke-width: 1.5;\" width=\"75\" x=\"230.5\" y=\"131.5\"/><rect fill=\"#F8F8F8\" height=\"37.9375\" style=\"stroke: #383838; stroke-width: 1.5;\" width=\"75\" x=\"230.5\" y=\"131.5\"/><text fill=\"#000000\" font-family=\"sans-serif\" font-size=\"12\" font-style=\"italic\" lengthAdjust=\"spacingAndGlyphs\" textLength=\"68\" x=\"234\" y=\"147.6387\">«part  def»</text><text fill=\"#000000\" font-family=\"sans-serif\" font-size=\"12\" lengthAdjust=\"spacingAndGlyphs\" textLength=\"9\" x=\"263.5\" y=\"161.6074\">Q</text></a></g><!--MD5=[2156ba9850f5573cc1fc38a6a4b2f02b]\n",
       "class E7--><a href=\"psysml:10060237-19c5-40dc-a73e-8cb7e4953e81\" target=\"_top\" title=\"psysml:10060237-19c5-40dc-a73e-8cb7e4953e81\" xlink:actuate=\"onRequest\" xlink:href=\"psysml:10060237-19c5-40dc-a73e-8cb7e4953e81\" xlink:show=\"new\" xlink:title=\"psysml:10060237-19c5-40dc-a73e-8cb7e4953e81\" xlink:type=\"simple\"><rect fill=\"#FFFFFF\" height=\"74.3828\" id=\"E7\" rx=\"10\" ry=\"10\" style=\"stroke: #383838; stroke-width: 1.5;\" width=\"63\" x=\"711.5\" y=\"116\"/><text fill=\"#000000\" font-family=\"sans-serif\" font-size=\"12\" lengthAdjust=\"spacingAndGlyphs\" textLength=\"23\" x=\"729.5\" y=\"132.1387\">x: Q</text><line style=\"stroke: #383838; stroke-width: 1.5;\" x1=\"712.5\" x2=\"773.5\" y1=\"139.9688\" y2=\"139.9688\"/><text fill=\"#000000\" font-family=\"sans-serif\" font-size=\"11\" lengthAdjust=\"spacingAndGlyphs\" textLength=\"23\" x=\"717.5\" y=\"170.9839\">b: B</text><text fill=\"#000000\" font-family=\"sans-serif\" font-size=\"11\" font-style=\"italic\" lengthAdjust=\"spacingAndGlyphs\" textLength=\"44\" x=\"717.5\" y=\"183.7886\">:&gt;&gt;P::a</text><line style=\"stroke: #383838; stroke-width: 1.0;\" x1=\"712.5\" x2=\"715.5\" y1=\"154.3711\" y2=\"154.3711\"/><text fill=\"#000000\" font-family=\"sans-serif\" font-size=\"11\" lengthAdjust=\"spacingAndGlyphs\" textLength=\"55\" x=\"715.5\" y=\"157.6792\">attributes</text><line style=\"stroke: #383838; stroke-width: 1.0;\" x1=\"770.5\" x2=\"773.5\" y1=\"154.3711\" y2=\"154.3711\"/></a><g id=\"E1.E8\"><a href=\"psysml:070ce293-3e12-454f-ad5b-be257c39d672\" target=\"_top\" title=\"psysml:070ce293-3e12-454f-ad5b-be257c39d672\" xlink:actuate=\"onRequest\" xlink:href=\"psysml:070ce293-3e12-454f-ad5b-be257c39d672\" xlink:show=\"new\" xlink:title=\"psysml:070ce293-3e12-454f-ad5b-be257c39d672\" xlink:type=\"simple\"><rect fill=\"#FFFFFF\" height=\"40\" id=\"E8\" rx=\"10\" ry=\"10\" style=\"stroke: #383838; stroke-width: 1.5;\" width=\"50\" x=\"145\" y=\"133\"/><rect fill=\"#F8F8F8\" height=\"23.9688\" rx=\"10\" ry=\"10\" style=\"stroke: #F8F8F8; stroke-width: 1.5;\" width=\"50\" x=\"145\" y=\"133\"/><rect fill=\"#F8F8F8\" height=\"10\" style=\"stroke: #F8F8F8; stroke-width: 1.5;\" width=\"50\" x=\"145\" y=\"146.9688\"/><rect fill=\"none\" height=\"40\" id=\"E8\" rx=\"10\" ry=\"10\" style=\"stroke: #383838; stroke-width: 1.5;\" width=\"50\" x=\"145\" y=\"133\"/><text fill=\"#000000\" font-family=\"sans-serif\" font-size=\"12\" lengthAdjust=\"spacingAndGlyphs\" textLength=\"25\" x=\"157.5\" y=\"149.1387\">q: Q</text></a></g><!--MD5=[96f4274e9e20536e775497830990834d]\n",
       "class E10--><a href=\"psysml:80fa5ea3-437e-4eec-9e3d-5d2e24e12c28\" target=\"_top\" title=\"psysml:80fa5ea3-437e-4eec-9e3d-5d2e24e12c28\" xlink:actuate=\"onRequest\" xlink:href=\"psysml:80fa5ea3-437e-4eec-9e3d-5d2e24e12c28\" xlink:show=\"new\" xlink:title=\"psysml:80fa5ea3-437e-4eec-9e3d-5d2e24e12c28\" xlink:type=\"simple\"><rect fill=\"#FFFFFF\" height=\"88.3516\" id=\"E10\" rx=\"10\" ry=\"10\" style=\"stroke: #383838; stroke-width: 1.5;\" width=\"139\" x=\"480.5\" y=\"109\"/><text fill=\"#000000\" font-family=\"sans-serif\" font-size=\"12\" font-style=\"italic\" lengthAdjust=\"spacingAndGlyphs\" textLength=\"75\" x=\"512.5\" y=\"125.1387\">«reference»</text><text fill=\"#000000\" font-family=\"sans-serif\" font-size=\"12\" lengthAdjust=\"spacingAndGlyphs\" textLength=\"133\" x=\"483.5\" y=\"139.1074\">q :&gt; VariabilityTest::q</text><line style=\"stroke: #383838; stroke-width: 1.5;\" x1=\"481.5\" x2=\"618.5\" y1=\"146.9375\" y2=\"146.9375\"/><text fill=\"#000000\" font-family=\"sans-serif\" font-size=\"11\" lengthAdjust=\"spacingAndGlyphs\" textLength=\"23\" x=\"486.5\" y=\"177.9526\">b: B</text><text fill=\"#000000\" font-family=\"sans-serif\" font-size=\"11\" font-style=\"italic\" lengthAdjust=\"spacingAndGlyphs\" textLength=\"44\" x=\"486.5\" y=\"190.7573\">:&gt;&gt;P::a</text><line style=\"stroke: #383838; stroke-width: 1.0;\" x1=\"481.5\" x2=\"522.5\" y1=\"161.3398\" y2=\"161.3398\"/><text fill=\"#000000\" font-family=\"sans-serif\" font-size=\"11\" lengthAdjust=\"spacingAndGlyphs\" textLength=\"55\" x=\"522.5\" y=\"164.6479\">attributes</text><line style=\"stroke: #383838; stroke-width: 1.0;\" x1=\"577.5\" x2=\"618.5\" y1=\"161.3398\" y2=\"161.3398\"/></a><g id=\"E1.E11\"><a href=\"psysml:48eaa747-84b8-4879-8d6b-33c104c23f89\" target=\"_top\" title=\"psysml:48eaa747-84b8-4879-8d6b-33c104c23f89\" xlink:actuate=\"onRequest\" xlink:href=\"psysml:48eaa747-84b8-4879-8d6b-33c104c23f89\" xlink:show=\"new\" xlink:title=\"psysml:48eaa747-84b8-4879-8d6b-33c104c23f89\" xlink:type=\"simple\"><rect fill=\"#FFFFFF\" height=\"40\" id=\"E11\" rx=\"10\" ry=\"10\" style=\"stroke: #383838; stroke-width: 1.5;\" width=\"77\" x=\"32.5\" y=\"133\"/><rect fill=\"#F8F8F8\" height=\"23.9688\" rx=\"10\" ry=\"10\" style=\"stroke: #F8F8F8; stroke-width: 1.5;\" width=\"77\" x=\"32.5\" y=\"133\"/><rect fill=\"#F8F8F8\" height=\"10\" style=\"stroke: #F8F8F8; stroke-width: 1.5;\" width=\"77\" x=\"32.5\" y=\"146.9688\"/><rect fill=\"none\" height=\"40\" id=\"E11\" rx=\"10\" ry=\"10\" style=\"stroke: #383838; stroke-width: 1.5;\" width=\"77\" x=\"32.5\" y=\"133\"/><text fill=\"#000000\" font-family=\"sans-serif\" font-size=\"12\" lengthAdjust=\"spacingAndGlyphs\" textLength=\"62\" x=\"38\" y=\"149.1387\">y: P= v::q;</text></a></g><!--MD5=[185131fc0dcab0a4505a2ebe144e961b]\n",
       "link E4 to E2--><a href=\"psysml:8fca0815-a461-4953-83e8-63ed8c86de29\" target=\"_top\" title=\"psysml:8fca0815-a461-4953-83e8-63ed8c86de29\" xlink:actuate=\"onRequest\" xlink:href=\"psysml:8fca0815-a461-4953-83e8-63ed8c86de29\" xlink:show=\"new\" xlink:title=\"psysml:8fca0815-a461-4953-83e8-63ed8c86de29\" xlink:type=\"simple\"><path d=\"M268,174.71 C268,223.19 268,336 268,336 C268,336 314.925,336 363.3162,336 C387.5119,336 412.0741,336 431.3205,336 C440.9437,336 449.2379,336 455.4929,336 C457.0567,336 458.493,336 459.7908,336 \" fill=\"none\" id=\"E4-&gt;E2\" style=\"stroke: #383838; stroke-width: 1.0;\"/><polygon fill=\"#FFFFFF\" points=\"459.7908,336,440.7908,329,440.7908,343,459.7908,336\" style=\"stroke: #383838; stroke-width: 1.0;\"/></a><!--MD5=[2351f337d6de0f557b50152ba70847b5]\n",
       "link E6 to E2--><a href=\"psysml:80d735d5-abd9-4df4-b941-a11b60e81c18\" target=\"_top\" title=\"psysml:80d735d5-abd9-4df4-b941-a11b60e81c18\" xlink:actuate=\"onRequest\" xlink:href=\"psysml:80d735d5-abd9-4df4-b941-a11b60e81c18\" xlink:show=\"new\" xlink:title=\"psysml:80d735d5-abd9-4df4-b941-a11b60e81c18\" xlink:type=\"simple\"><path d=\"M676,214.3576 C676,215.103 676,215.8453 676,216.5839 C676,219.5383 676,222.4325 676,225.2235 C676,230.8056 676,235.9748 676,240.3861 C676,249.2088 676,255 676,255 C676,255 663,255 643.5,255 C633.75,255 622.375,255 610.1875,255 C607.1406,255 604.043,255 600.9072,255 C600.5153,255 600.1227,255 599.7296,255 \" fill=\"none\" id=\"E6-&gt;E2\" style=\"stroke: #383838; stroke-width: 1.0;\"/><polygon fill=\"#FFFFFF\" points=\"599.7296,255,618.7296,262,618.7296,248,599.7296,255\" style=\"stroke: #383838; stroke-width: 1.0;\"/></a><!--MD5=[c7d8889e14d0b8e13b64dac71ea75e09]\n",
       "@startuml\r\n",
       "skinparam ranksep 10\r\n",
       "skinparam rectangle {\r\n",
       " backgroundColor<<block>> LightGreen\r\n",
       "}\r\n",
       "skinparam linetype ortho\r\n",
       "skinparam monochrome true\r\n",
       "skinparam classbackgroundcolor white\r\n",
       "skinparam shadowing false\r\n",
       "skinparam wrapWidth 300\r\n",
       "hide circle\r\n",
       "\r\n",
       "package \"VariabilityTest\" as E1  [[psysml:54c28c65-c036-409b-a9ca-8f60ef8eadfb ]]  {\r\n",
       "rec def \"P\" as E2  <<(T,blue) part  def>> [[psysml:82cb16a2-9eb2-4cce-bbbe-e1592c7acc8b ]] {\r\n",
       "comp usage \"a\" as E3  <<(T,blue) attribute>> [[psysml:b3756095-16bb-4cb1-b9cb-a9f1f269c560 ]] {\r\n",
       "}\r\n",
       "}\r\n",
       "rec def \"Q\" as E4  <<(T,blue) part  def>> [[psysml:2ef5dada-a649-4c80-bc3f-904ca5914f5d ]] {\r\n",
       "}\r\n",
       "def \"B\" as E5  <<(T,blue) attribute  def>> [[psysml:45188152-89ae-47db-8fae-185a328aceea ]] \r\n",
       "rec def \"<i>V</i>\" as E6  <<(T,blue) part  def>> [[psysml:e8a966fa-6247-410c-94c4-6750afcc6da8 ]] {\r\n",
       "comp usage \"x: Q \" as E7  [[psysml:10060237-19c5-40dc-a73e-8cb7e4953e81 ]] {\r\n",
       "- - attributes - -\r\n",
       "b: B\\n//:>>P::a// \r\n",
       "}\r\n",
       "}\r\n",
       "rec usage \"q: Q\" as E8  [[psysml:070ce293-3e12-454f-ad5b-be257c39d672 ]] {\r\n",
       "}\r\n",
       "rec usage \"v: P\" as E9  [[psysml:3367482b-ff59-4bbe-a9dc-fe1b4a2ad697 ]] {\r\n",
       "comp usage \"q :> VariabilityTest::q\" as E10  <<(T,blue) reference>> [[psysml:80fa5ea3-437e-4eec-9e3d-5d2e24e12c28 ]] {\r\n",
       "- - attributes - -\r\n",
       "b: B\\n//:>>P::a// \r\n",
       "}\r\n",
       "}\r\n",
       "rec usage \"y: P= v::q; \" as E11  [[psysml:48eaa747-84b8-4879-8d6b-33c104c23f89 ]] {\r\n",
       "}\r\n",
       "}\r\n",
       "E4 - -|> E2 [[psysml:8fca0815-a461-4953-83e8-63ed8c86de29 ]] \r\n",
       "E6 - -|> E2 [[psysml:80d735d5-abd9-4df4-b941-a11b60e81c18 ]] \r\n",
       "@enduml\r\n",
       "\n",
       "PlantUML version 1.2020.13(Sat Jun 13 12:26:38 UTC 2020)\n",
       "(EPL source distribution)\n",
       "Java Runtime: OpenJDK Runtime Environment\n",
       "JVM: OpenJDK 64-Bit Server VM\n",
       "Default Encoding: UTF-8\n",
       "Language: en\n",
       "Country: null\n",
       "--></g></svg>"
      ]
     },
     "execution_count": 54,
     "metadata": {},
     "output_type": "execute_result"
    }
   ],
   "source": [
    "%viz --style=\"ORTHOLINE\" --view=\"Interconnection\" \"VariabilityTest\""
   ]
  },
  {
   "cell_type": "code",
   "execution_count": 55,
   "id": "0bd1a045",
   "metadata": {
    "execution": {
     "iopub.execute_input": "2021-10-25T08:21:46.223804Z",
     "iopub.status.busy": "2021-10-25T08:21:46.223397Z",
     "iopub.status.idle": "2021-10-25T08:21:46.227379Z",
     "shell.execute_reply": "2021-10-25T08:21:46.227031Z"
    }
   },
   "outputs": [
    {
     "data": {
      "image/svg+xml": [
       "<?xml version=\"1.0\" encoding=\"UTF-8\" standalone=\"no\"?><svg xmlns=\"http://www.w3.org/2000/svg\" xmlns:xlink=\"http://www.w3.org/1999/xlink\" contentScriptType=\"application/ecmascript\" contentStyleType=\"text/css\" height=\"12px\" preserveAspectRatio=\"none\" style=\"width:12px;height:12px;\" version=\"1.1\" viewBox=\"0 0 12 12\" width=\"12px\" zoomAndPan=\"magnify\"><defs/><g><!--MD5=[72934c63077099a26744516a776b4749]\n",
       "@startuml\r\n",
       "skinparam ranksep 8\r\n",
       "skinparam linetype ortho\r\n",
       "skinparam monochrome true\r\n",
       "skinparam classbackgroundcolor white\r\n",
       "skinparam shadowing false\r\n",
       "skinparam wrapWidth 300\r\n",
       "hide circle\r\n",
       "\r\n",
       "@enduml\r\n",
       "\n",
       "PlantUML version 1.2020.13(Sat Jun 13 12:26:38 UTC 2020)\n",
       "(EPL source distribution)\n",
       "Java Runtime: OpenJDK Runtime Environment\n",
       "JVM: OpenJDK 64-Bit Server VM\n",
       "Default Encoding: UTF-8\n",
       "Language: en\n",
       "Country: null\n",
       "--></g></svg>"
      ]
     },
     "execution_count": 55,
     "metadata": {},
     "output_type": "execute_result"
    }
   ],
   "source": [
    "%viz --style=\"ORTHOLINE\" --view=\"Action\" \"VariabilityTest\""
   ]
  },
  {
   "cell_type": "code",
   "execution_count": 56,
   "id": "31c5dce0",
   "metadata": {
    "execution": {
     "iopub.execute_input": "2021-10-25T08:21:46.276612Z",
     "iopub.status.busy": "2021-10-25T08:21:46.276203Z",
     "iopub.status.idle": "2021-10-25T08:21:46.279875Z",
     "shell.execute_reply": "2021-10-25T08:21:46.279517Z"
    }
   },
   "outputs": [
    {
     "data": {
      "image/svg+xml": [
       "<?xml version=\"1.0\" encoding=\"UTF-8\" standalone=\"no\"?><svg xmlns=\"http://www.w3.org/2000/svg\" xmlns:xlink=\"http://www.w3.org/1999/xlink\" contentScriptType=\"application/ecmascript\" contentStyleType=\"text/css\" height=\"12px\" preserveAspectRatio=\"none\" style=\"width:12px;height:12px;\" version=\"1.1\" viewBox=\"0 0 12 12\" width=\"12px\" zoomAndPan=\"magnify\"><defs/><g><!--MD5=[30fc1de5121c5abddedd55b44417fde8]\n",
       "@startuml\r\n",
       "skinparam roundcorner 20\r\n",
       "skinparam BoxPadding 20\r\n",
       "skinparam SequenceBoxBackgroundColor #white\r\n",
       "skinparam style strictuml\r\n",
       "skinparam maxMessageSize 100\r\n",
       "skinparam linetype ortho\r\n",
       "skinparam monochrome true\r\n",
       "skinparam classbackgroundcolor white\r\n",
       "skinparam shadowing false\r\n",
       "skinparam wrapWidth 300\r\n",
       "hide circle\r\n",
       "\r\n",
       "@enduml\r\n",
       "\n",
       "PlantUML version 1.2020.13(Sat Jun 13 12:26:38 UTC 2020)\n",
       "(EPL source distribution)\n",
       "Java Runtime: OpenJDK Runtime Environment\n",
       "JVM: OpenJDK 64-Bit Server VM\n",
       "Default Encoding: UTF-8\n",
       "Language: en\n",
       "Country: null\n",
       "--></g></svg>"
      ]
     },
     "execution_count": 56,
     "metadata": {},
     "output_type": "execute_result"
    }
   ],
   "source": [
    "%viz --style=\"ORTHOLINE\" --view=\"Sequence\" \"VariabilityTest\""
   ]
  },
  {
   "cell_type": "code",
   "execution_count": 57,
   "id": "8dbf4c4f",
   "metadata": {
    "execution": {
     "iopub.execute_input": "2021-10-25T08:21:46.329103Z",
     "iopub.status.busy": "2021-10-25T08:21:46.328698Z",
     "iopub.status.idle": "2021-10-25T08:21:46.405074Z",
     "shell.execute_reply": "2021-10-25T08:21:46.404741Z"
    }
   },
   "outputs": [
    {
     "data": {
      "image/svg+xml": [
       "<?xml version=\"1.0\" encoding=\"UTF-8\" standalone=\"no\"?><svg xmlns=\"http://www.w3.org/2000/svg\" xmlns:xlink=\"http://www.w3.org/1999/xlink\" contentScriptType=\"application/ecmascript\" contentStyleType=\"text/css\" height=\"401px\" preserveAspectRatio=\"none\" style=\"width:427px;height:401px;\" version=\"1.1\" viewBox=\"0 0 427 401\" width=\"427px\" zoomAndPan=\"magnify\"><defs/><g><!--MD5=[fbc87193dbaf4d95561dea2c320d4a47]\n",
       "cluster E1--><a href=\"psysml:54c28c65-c036-409b-a9ca-8f60ef8eadfb\" target=\"_top\" title=\"psysml:54c28c65-c036-409b-a9ca-8f60ef8eadfb\" xlink:actuate=\"onRequest\" xlink:href=\"psysml:54c28c65-c036-409b-a9ca-8f60ef8eadfb\" xlink:show=\"new\" xlink:title=\"psysml:54c28c65-c036-409b-a9ca-8f60ef8eadfb\" xlink:type=\"simple\"><polygon fill=\"#FFFFFF\" points=\"16,6,116,6,123,28.2969,405,28.2969,405,389,16,389,16,6\" style=\"stroke: #000000; stroke-width: 1.5;\"/><line style=\"stroke: #000000; stroke-width: 1.5;\" x1=\"16\" x2=\"123\" y1=\"28.2969\" y2=\"28.2969\"/><text fill=\"#000000\" font-family=\"sans-serif\" font-size=\"14\" font-weight=\"bold\" lengthAdjust=\"spacingAndGlyphs\" textLength=\"94\" x=\"20\" y=\"20.9951\">VariabilityTest</text></a><!--MD5=[b4997ac47864f28c2f74865a473b2911]\n",
       "class E2--><a href=\"psysml:82cb16a2-9eb2-4cce-bbbe-e1592c7acc8b\" target=\"_top\" title=\"psysml:82cb16a2-9eb2-4cce-bbbe-e1592c7acc8b\" xlink:actuate=\"onRequest\" xlink:href=\"psysml:82cb16a2-9eb2-4cce-bbbe-e1592c7acc8b\" xlink:show=\"new\" xlink:title=\"psysml:82cb16a2-9eb2-4cce-bbbe-e1592c7acc8b\" xlink:type=\"simple\"><rect fill=\"#FFFFFF\" height=\"75.5469\" id=\"E2\" style=\"stroke: #383838; stroke-width: 1.5;\" width=\"70\" x=\"207\" y=\"291\"/><text fill=\"#000000\" font-family=\"sans-serif\" font-size=\"12\" font-style=\"italic\" lengthAdjust=\"spacingAndGlyphs\" textLength=\"68\" x=\"208\" y=\"307.1387\">«part  def»</text><text fill=\"#000000\" font-family=\"sans-serif\" font-size=\"12\" lengthAdjust=\"spacingAndGlyphs\" textLength=\"8\" x=\"238\" y=\"321.1074\">P</text><line style=\"stroke: #383838; stroke-width: 1.5;\" x1=\"208\" x2=\"276\" y1=\"328.9375\" y2=\"328.9375\"/><text fill=\"#000000\" font-family=\"sans-serif\" font-size=\"11\" lengthAdjust=\"spacingAndGlyphs\" textLength=\"7\" x=\"213\" y=\"359.9526\">a</text><line style=\"stroke: #383838; stroke-width: 1.0;\" x1=\"208\" x2=\"214.5\" y1=\"343.3398\" y2=\"343.3398\"/><text fill=\"#000000\" font-family=\"sans-serif\" font-size=\"11\" lengthAdjust=\"spacingAndGlyphs\" textLength=\"55\" x=\"214.5\" y=\"346.6479\">attributes</text><line style=\"stroke: #383838; stroke-width: 1.0;\" x1=\"269.5\" x2=\"276\" y1=\"343.3398\" y2=\"343.3398\"/></a><!--MD5=[09b614a08d8cba4a07c9adeb5e0fee81]\n",
       "class E3--><a href=\"psysml:2ef5dada-a649-4c80-bc3f-904ca5914f5d\" target=\"_top\" title=\"psysml:2ef5dada-a649-4c80-bc3f-904ca5914f5d\" xlink:actuate=\"onRequest\" xlink:href=\"psysml:2ef5dada-a649-4c80-bc3f-904ca5914f5d\" xlink:show=\"new\" xlink:title=\"psysml:2ef5dada-a649-4c80-bc3f-904ca5914f5d\" xlink:type=\"simple\"><rect fill=\"#FFFFFF\" height=\"45.9375\" id=\"E3\" style=\"stroke: #383838; stroke-width: 1.5;\" width=\"70\" x=\"137\" y=\"155\"/><text fill=\"#000000\" font-family=\"sans-serif\" font-size=\"12\" font-style=\"italic\" lengthAdjust=\"spacingAndGlyphs\" textLength=\"68\" x=\"138\" y=\"171.1387\">«part  def»</text><text fill=\"#000000\" font-family=\"sans-serif\" font-size=\"12\" lengthAdjust=\"spacingAndGlyphs\" textLength=\"9\" x=\"167.5\" y=\"185.1074\">Q</text><line style=\"stroke: #383838; stroke-width: 1.5;\" x1=\"138\" x2=\"206\" y1=\"192.9375\" y2=\"192.9375\"/></a><!--MD5=[ebbe1d658d1005bcc118a6aa81145e00]\n",
       "class E4--><a href=\"psysml:45188152-89ae-47db-8fae-185a328aceea\" target=\"_top\" title=\"psysml:45188152-89ae-47db-8fae-185a328aceea\" xlink:actuate=\"onRequest\" xlink:href=\"psysml:45188152-89ae-47db-8fae-185a328aceea\" xlink:show=\"new\" xlink:title=\"psysml:45188152-89ae-47db-8fae-185a328aceea\" xlink:type=\"simple\"><rect fill=\"#FFFFFF\" height=\"45.9375\" id=\"E4\" style=\"stroke: #383838; stroke-width: 1.5;\" width=\"99\" x=\"258.5\" y=\"41\"/><text fill=\"#000000\" font-family=\"sans-serif\" font-size=\"12\" font-style=\"italic\" lengthAdjust=\"spacingAndGlyphs\" textLength=\"97\" x=\"259.5\" y=\"57.1387\">«attribute  def»</text><text fill=\"#000000\" font-family=\"sans-serif\" font-size=\"12\" lengthAdjust=\"spacingAndGlyphs\" textLength=\"8\" x=\"304\" y=\"71.1074\">B</text><line style=\"stroke: #383838; stroke-width: 1.5;\" x1=\"259.5\" x2=\"356.5\" y1=\"78.9375\" y2=\"78.9375\"/></a><!--MD5=[270fce915f116d4de14055a7c1d9a0f3]\n",
       "class E5--><a href=\"psysml:e8a966fa-6247-410c-94c4-6750afcc6da8\" target=\"_top\" title=\"psysml:e8a966fa-6247-410c-94c4-6750afcc6da8\" xlink:actuate=\"onRequest\" xlink:href=\"psysml:e8a966fa-6247-410c-94c4-6750afcc6da8\" xlink:show=\"new\" xlink:title=\"psysml:e8a966fa-6247-410c-94c4-6750afcc6da8\" xlink:type=\"simple\"><rect fill=\"#FFFFFF\" height=\"45.9375\" id=\"E5\" style=\"stroke: #383838; stroke-width: 1.5;\" width=\"70\" x=\"319\" y=\"155\"/><text fill=\"#000000\" font-family=\"sans-serif\" font-size=\"12\" font-style=\"italic\" lengthAdjust=\"spacingAndGlyphs\" textLength=\"68\" x=\"320\" y=\"171.1387\">«part  def»</text><text fill=\"#000000\" font-family=\"sans-serif\" font-size=\"12\" font-style=\"italic\" lengthAdjust=\"spacingAndGlyphs\" textLength=\"8\" x=\"350\" y=\"185.1074\">V</text><line style=\"stroke: #383838; stroke-width: 1.5;\" x1=\"320\" x2=\"388\" y1=\"192.9375\" y2=\"192.9375\"/></a><!--MD5=[60a26617385b1d2d0262a64233df1f8d]\n",
       "class E6--><a href=\"psysml:10060237-19c5-40dc-a73e-8cb7e4953e81\" target=\"_top\" title=\"psysml:10060237-19c5-40dc-a73e-8cb7e4953e81\" xlink:actuate=\"onRequest\" xlink:href=\"psysml:10060237-19c5-40dc-a73e-8cb7e4953e81\" xlink:show=\"new\" xlink:title=\"psysml:10060237-19c5-40dc-a73e-8cb7e4953e81\" xlink:type=\"simple\"><rect fill=\"#FFFFFF\" height=\"88.3516\" id=\"E6\" rx=\"10\" ry=\"10\" style=\"stroke: #383838; stroke-width: 1.5;\" width=\"63\" x=\"312.5\" y=\"285\"/><text fill=\"#000000\" font-family=\"sans-serif\" font-size=\"12\" font-style=\"italic\" lengthAdjust=\"spacingAndGlyphs\" textLength=\"40\" x=\"324\" y=\"301.1387\">«part»</text><text fill=\"#000000\" font-family=\"sans-serif\" font-size=\"12\" lengthAdjust=\"spacingAndGlyphs\" textLength=\"23\" x=\"330.5\" y=\"315.1074\">x: Q</text><line style=\"stroke: #383838; stroke-width: 1.5;\" x1=\"313.5\" x2=\"374.5\" y1=\"322.9375\" y2=\"322.9375\"/><text fill=\"#000000\" font-family=\"sans-serif\" font-size=\"11\" lengthAdjust=\"spacingAndGlyphs\" textLength=\"23\" x=\"318.5\" y=\"353.9526\">b: B</text><text fill=\"#000000\" font-family=\"sans-serif\" font-size=\"11\" font-style=\"italic\" lengthAdjust=\"spacingAndGlyphs\" textLength=\"44\" x=\"318.5\" y=\"366.7573\">:&gt;&gt;P::a</text><line style=\"stroke: #383838; stroke-width: 1.0;\" x1=\"313.5\" x2=\"316.5\" y1=\"337.3398\" y2=\"337.3398\"/><text fill=\"#000000\" font-family=\"sans-serif\" font-size=\"11\" lengthAdjust=\"spacingAndGlyphs\" textLength=\"55\" x=\"316.5\" y=\"340.6479\">attributes</text><line style=\"stroke: #383838; stroke-width: 1.0;\" x1=\"371.5\" x2=\"374.5\" y1=\"337.3398\" y2=\"337.3398\"/></a><!--MD5=[2156ba9850f5573cc1fc38a6a4b2f02b]\n",
       "class E7--><a href=\"psysml:070ce293-3e12-454f-ad5b-be257c39d672\" target=\"_top\" title=\"psysml:070ce293-3e12-454f-ad5b-be257c39d672\" xlink:actuate=\"onRequest\" xlink:href=\"psysml:070ce293-3e12-454f-ad5b-be257c39d672\" xlink:show=\"new\" xlink:title=\"psysml:070ce293-3e12-454f-ad5b-be257c39d672\" xlink:type=\"simple\"><rect fill=\"#FFFFFF\" height=\"45.9375\" id=\"E7\" rx=\"10\" ry=\"10\" style=\"stroke: #383838; stroke-width: 1.5;\" width=\"42\" x=\"151\" y=\"41\"/><text fill=\"#000000\" font-family=\"sans-serif\" font-size=\"12\" font-style=\"italic\" lengthAdjust=\"spacingAndGlyphs\" textLength=\"40\" x=\"152\" y=\"57.1387\">«part»</text><text fill=\"#000000\" font-family=\"sans-serif\" font-size=\"12\" lengthAdjust=\"spacingAndGlyphs\" textLength=\"25\" x=\"157.5\" y=\"71.1074\">q: Q</text><line style=\"stroke: #383838; stroke-width: 1.5;\" x1=\"152\" x2=\"192\" y1=\"78.9375\" y2=\"78.9375\"/></a><!--MD5=[b9389687b975829384b498ac4b7476b2]\n",
       "class E8--><a href=\"psysml:3367482b-ff59-4bbe-a9dc-fe1b4a2ad697\" target=\"_top\" title=\"psysml:3367482b-ff59-4bbe-a9dc-fe1b4a2ad697\" xlink:actuate=\"onRequest\" xlink:href=\"psysml:3367482b-ff59-4bbe-a9dc-fe1b4a2ad697\" xlink:show=\"new\" xlink:title=\"psysml:3367482b-ff59-4bbe-a9dc-fe1b4a2ad697\" xlink:type=\"simple\"><rect fill=\"#FFFFFF\" height=\"59.9063\" id=\"E8\" rx=\"10\" ry=\"10\" style=\"stroke: #383838; stroke-width: 1.5;\" width=\"70\" x=\"32\" y=\"148\"/><text fill=\"#000000\" font-family=\"sans-serif\" font-size=\"12\" font-style=\"italic\" lengthAdjust=\"spacingAndGlyphs\" textLength=\"68\" x=\"33\" y=\"164.1387\">«variation»</text><text fill=\"#000000\" font-family=\"sans-serif\" font-size=\"12\" font-style=\"italic\" lengthAdjust=\"spacingAndGlyphs\" textLength=\"40\" x=\"47\" y=\"178.1074\">«part»</text><text fill=\"#000000\" font-family=\"sans-serif\" font-size=\"12\" font-style=\"italic\" lengthAdjust=\"spacingAndGlyphs\" textLength=\"6\" x=\"54\" y=\"192.0762\">v</text><text fill=\"#000000\" font-family=\"sans-serif\" font-size=\"12\" lengthAdjust=\"spacingAndGlyphs\" textLength=\"16\" x=\"60\" y=\"192.0762\">: P</text><line style=\"stroke: #383838; stroke-width: 1.5;\" x1=\"33\" x2=\"101\" y1=\"199.9063\" y2=\"199.9063\"/></a><!--MD5=[fd4143e9d270a159db93a4ea2a975926]\n",
       "class E9--><a href=\"psysml:80fa5ea3-437e-4eec-9e3d-5d2e24e12c28\" target=\"_top\" title=\"psysml:80fa5ea3-437e-4eec-9e3d-5d2e24e12c28\" xlink:actuate=\"onRequest\" xlink:href=\"psysml:80fa5ea3-437e-4eec-9e3d-5d2e24e12c28\" xlink:show=\"new\" xlink:title=\"psysml:80fa5ea3-437e-4eec-9e3d-5d2e24e12c28\" xlink:type=\"simple\"><rect fill=\"#FFFFFF\" height=\"88.3516\" id=\"E9\" rx=\"10\" ry=\"10\" style=\"stroke: #383838; stroke-width: 1.5;\" width=\"139\" x=\"32.5\" y=\"285\"/><text fill=\"#000000\" font-family=\"sans-serif\" font-size=\"12\" font-style=\"italic\" lengthAdjust=\"spacingAndGlyphs\" textLength=\"75\" x=\"64.5\" y=\"301.1387\">«reference»</text><text fill=\"#000000\" font-family=\"sans-serif\" font-size=\"12\" lengthAdjust=\"spacingAndGlyphs\" textLength=\"133\" x=\"35.5\" y=\"315.1074\">q :&gt; VariabilityTest::q</text><line style=\"stroke: #383838; stroke-width: 1.5;\" x1=\"33.5\" x2=\"170.5\" y1=\"322.9375\" y2=\"322.9375\"/><text fill=\"#000000\" font-family=\"sans-serif\" font-size=\"11\" lengthAdjust=\"spacingAndGlyphs\" textLength=\"23\" x=\"38.5\" y=\"353.9526\">b: B</text><text fill=\"#000000\" font-family=\"sans-serif\" font-size=\"11\" font-style=\"italic\" lengthAdjust=\"spacingAndGlyphs\" textLength=\"44\" x=\"38.5\" y=\"366.7573\">:&gt;&gt;P::a</text><line style=\"stroke: #383838; stroke-width: 1.0;\" x1=\"33.5\" x2=\"74.5\" y1=\"337.3398\" y2=\"337.3398\"/><text fill=\"#000000\" font-family=\"sans-serif\" font-size=\"11\" lengthAdjust=\"spacingAndGlyphs\" textLength=\"55\" x=\"74.5\" y=\"340.6479\">attributes</text><line style=\"stroke: #383838; stroke-width: 1.0;\" x1=\"129.5\" x2=\"170.5\" y1=\"337.3398\" y2=\"337.3398\"/></a><!--MD5=[96f4274e9e20536e775497830990834d]\n",
       "class E10--><a href=\"psysml:48eaa747-84b8-4879-8d6b-33c104c23f89\" target=\"_top\" title=\"psysml:48eaa747-84b8-4879-8d6b-33c104c23f89\" xlink:actuate=\"onRequest\" xlink:href=\"psysml:48eaa747-84b8-4879-8d6b-33c104c23f89\" xlink:show=\"new\" xlink:title=\"psysml:48eaa747-84b8-4879-8d6b-33c104c23f89\" xlink:type=\"simple\"><rect fill=\"#FFFFFF\" height=\"45.9375\" id=\"E10\" rx=\"10\" ry=\"10\" style=\"stroke: #383838; stroke-width: 1.5;\" width=\"42\" x=\"242\" y=\"155\"/><text fill=\"#000000\" font-family=\"sans-serif\" font-size=\"12\" font-style=\"italic\" lengthAdjust=\"spacingAndGlyphs\" textLength=\"40\" x=\"243\" y=\"171.1387\">«part»</text><text fill=\"#000000\" font-family=\"sans-serif\" font-size=\"12\" lengthAdjust=\"spacingAndGlyphs\" textLength=\"22\" x=\"250\" y=\"185.1074\">y: P</text><line style=\"stroke: #383838; stroke-width: 1.5;\" x1=\"243\" x2=\"283\" y1=\"192.9375\" y2=\"192.9375\"/></a><!--MD5=[05d275557350bfb9b23a4ef7222b4c39]\n",
       "link E3 to E2--><a href=\"psysml:8fca0815-a461-4953-83e8-63ed8c86de29\" target=\"_top\" title=\"psysml:8fca0815-a461-4953-83e8-63ed8c86de29\" xlink:actuate=\"onRequest\" xlink:href=\"psysml:8fca0815-a461-4953-83e8-63ed8c86de29\" xlink:show=\"new\" xlink:title=\"psysml:8fca0815-a461-4953-83e8-63ed8c86de29\" xlink:type=\"simple\"><path d=\"M207.28,178 C219.56,178 230.33,178 230.33,178 C230.33,178 230.33,270.9 230.33,270.9 \" fill=\"none\" id=\"E3-&gt;E2\" style=\"stroke: #383838; stroke-width: 1.0;\"/><polygon fill=\"none\" points=\"237.33,270.9,230.33,290.9,223.33,270.9,237.33,270.9\" style=\"stroke: #383838; stroke-width: 1.0;\"/></a><!--MD5=[15ebcb19ae302d9b601edb458606d402]\n",
       "link E5 to E2--><a href=\"psysml:80d735d5-abd9-4df4-b941-a11b60e81c18\" target=\"_top\" title=\"psysml:80d735d5-abd9-4df4-b941-a11b60e81c18\" xlink:actuate=\"onRequest\" xlink:href=\"psysml:80d735d5-abd9-4df4-b941-a11b60e81c18\" xlink:show=\"new\" xlink:title=\"psysml:80d735d5-abd9-4df4-b941-a11b60e81c18\" xlink:type=\"simple\"><path d=\"M337.83,201.12 C337.83,204.02 337.83,206 337.83,206 C337.83,206 265.33,206 265.33,206 C265.33,206 265.33,270.76 265.33,270.76 \" fill=\"none\" id=\"E5-&gt;E2\" style=\"stroke: #383838; stroke-width: 1.0;\"/><polygon fill=\"none\" points=\"272.33,270.76,265.33,290.76,258.33,270.76,272.33,270.76\" style=\"stroke: #383838; stroke-width: 1.0;\"/></a><!--MD5=[9120cf2e5df3bff93db8f754bbbc09b4]\n",
       "link E5 to E6--><a href=\"psysml:bbf94ce0-8140-4269-b805-c97e9315d509\" target=\"_top\" title=\"psysml:bbf94ce0-8140-4269-b805-c97e9315d509\" xlink:actuate=\"onRequest\" xlink:href=\"psysml:bbf94ce0-8140-4269-b805-c97e9315d509\" xlink:show=\"new\" xlink:title=\"psysml:bbf94ce0-8140-4269-b805-c97e9315d509\" xlink:type=\"simple\"><path d=\"M356.67,211.26 C356.67,211.26 356.67,274.72 356.67,274.72 \" fill=\"none\" id=\"E5-E6\" style=\"stroke: #383838; stroke-width: 1.0;\"/><polygon fill=\"#383838\" points=\"356.67,284.72,359.67,276.72,353.67,276.72,356.67,284.72\" style=\"stroke: #383838; stroke-width: 1.0;\"/><path d=\"M348.2128,204.3382 A9,9 0 0 0 365.1272 204.3382\" fill=\"none\" style=\"stroke: #383838; stroke-width: 1.5;\"/><text fill=\"#000000\" font-family=\"sans-serif\" font-size=\"13\" lengthAdjust=\"spacingAndGlyphs\" textLength=\"60\" x=\"328\" y=\"251.0669\">«variant»</text></a><!--MD5=[14ccda38c055a5c0da953d572bc50960]\n",
       "link E7 to E3--><a href=\"psysml:1a218306-3ccb-4021-8143-a6b7222dd125\" target=\"_top\" title=\"psysml:1a218306-3ccb-4021-8143-a6b7222dd125\" xlink:actuate=\"onRequest\" xlink:href=\"psysml:1a218306-3ccb-4021-8143-a6b7222dd125\" xlink:show=\"new\" xlink:title=\"psysml:1a218306-3ccb-4021-8143-a6b7222dd125\" xlink:type=\"simple\"><path d=\"M172,87.07 C172,87.07 172,134.96 172,134.96 \" fill=\"none\" id=\"E7-&gt;E3\" style=\"stroke: #383838; stroke-width: 1.0;\"/><polygon fill=\"#FFFFFF\" points=\"172,154.96,165,135.96,179,135.96,172,154.96\" style=\"stroke: #383838; stroke-width: 1.0;\"/><ellipse cx=\"167\" cy=\"130.26\" fill=\"#383838\" rx=\"2\" ry=\"2\" style=\"stroke: #383838; stroke-width: 1.0;\"/><ellipse cx=\"177\" cy=\"130.26\" fill=\"#383838\" rx=\"2\" ry=\"2\" style=\"stroke: #383838; stroke-width: 1.0;\"/></a><!--MD5=[f1f3f9f2fc535e6147756cb86a7f2e32]\n",
       "link E8 to E2--><a href=\"psysml:0a07ead6-b6a6-4f86-92cb-b01532aad754\" target=\"_top\" title=\"psysml:0a07ead6-b6a6-4f86-92cb-b01532aad754\" xlink:actuate=\"onRequest\" xlink:href=\"psysml:0a07ead6-b6a6-4f86-92cb-b01532aad754\" xlink:show=\"new\" xlink:title=\"psysml:0a07ead6-b6a6-4f86-92cb-b01532aad754\" xlink:type=\"simple\"><path d=\"M102.18,204 C146.98,204 218.67,204 218.67,204 C218.67,204 218.67,270.82 218.67,270.82 \" fill=\"none\" id=\"E8-&gt;E2\" style=\"stroke: #383838; stroke-width: 1.0;\"/><polygon fill=\"#FFFFFF\" points=\"218.67,290.82,211.67,271.82,225.67,271.82,218.67,290.82\" style=\"stroke: #383838; stroke-width: 1.0;\"/><ellipse cx=\"213.67\" cy=\"266.12\" fill=\"#383838\" rx=\"2\" ry=\"2\" style=\"stroke: #383838; stroke-width: 1.0;\"/><ellipse cx=\"223.67\" cy=\"266.12\" fill=\"#383838\" rx=\"2\" ry=\"2\" style=\"stroke: #383838; stroke-width: 1.0;\"/></a><!--MD5=[ed10624c06dd9a4fa49ccf290e8b16a8]\n",
       "link E8 to E9--><a href=\"psysml:95cf767c-bf38-4d44-8a21-82e4671e1c7d\" target=\"_top\" title=\"psysml:95cf767c-bf38-4d44-8a21-82e4671e1c7d\" xlink:actuate=\"onRequest\" xlink:href=\"psysml:95cf767c-bf38-4d44-8a21-82e4671e1c7d\" xlink:show=\"new\" xlink:title=\"psysml:95cf767c-bf38-4d44-8a21-82e4671e1c7d\" xlink:type=\"simple\"><path d=\"M67.25,218.19 C67.25,218.19 67.25,274.83 67.25,274.83 \" fill=\"none\" id=\"E8-E9\" style=\"stroke: #383838; stroke-width: 1.0;\"/><polygon fill=\"#383838\" points=\"67.25,284.83,70.25,276.83,64.25,276.83,67.25,284.83\" style=\"stroke: #383838; stroke-width: 1.0;\"/><path d=\"M58.7928,211.2682 A9,9 0 0 0 75.7072 211.2682\" fill=\"none\" style=\"stroke: #383838; stroke-width: 1.5;\"/><text fill=\"#000000\" font-family=\"sans-serif\" font-size=\"13\" lengthAdjust=\"spacingAndGlyphs\" textLength=\"60\" x=\"89\" y=\"251.0669\">«variant»</text></a><!--MD5=[0f36bececdf0dff6e600d6f64214b0f1]\n",
       "link E10 to E2--><a href=\"psysml:6b6ac884-9cd9-45a3-8497-3c127dcfd472\" target=\"_top\" title=\"psysml:6b6ac884-9cd9-45a3-8497-3c127dcfd472\" xlink:actuate=\"onRequest\" xlink:href=\"psysml:6b6ac884-9cd9-45a3-8497-3c127dcfd472\" xlink:show=\"new\" xlink:title=\"psysml:6b6ac884-9cd9-45a3-8497-3c127dcfd472\" xlink:type=\"simple\"><path d=\"M253.67,201.26 C253.67,201.26 253.67,270.73 253.67,270.73 \" fill=\"none\" id=\"E10-&gt;E2\" style=\"stroke: #383838; stroke-width: 1.0;\"/><polygon fill=\"#FFFFFF\" points=\"253.67,290.73,246.67,271.73,260.67,271.73,253.67,290.73\" style=\"stroke: #383838; stroke-width: 1.0;\"/><ellipse cx=\"248.67\" cy=\"266.03\" fill=\"#383838\" rx=\"2\" ry=\"2\" style=\"stroke: #383838; stroke-width: 1.0;\"/><ellipse cx=\"258.67\" cy=\"266.03\" fill=\"#383838\" rx=\"2\" ry=\"2\" style=\"stroke: #383838; stroke-width: 1.0;\"/></a><!--MD5=[52a5d13b8fda99f0bcd44d76ad8a3215]\n",
       "@startuml\r\n",
       "skinparam linetype ortho\r\n",
       "skinparam monochrome true\r\n",
       "skinparam classbackgroundcolor white\r\n",
       "skinparam shadowing false\r\n",
       "skinparam wrapWidth 300\r\n",
       "hide circle\r\n",
       "\r\n",
       "package \"VariabilityTest\" as E1  [[psysml:54c28c65-c036-409b-a9ca-8f60ef8eadfb ]]  {\r\n",
       "comp def \"P\" as E2  <<(T,blue) part  def>> [[psysml:82cb16a2-9eb2-4cce-bbbe-e1592c7acc8b ]] {\r\n",
       "- - attributes - -\r\n",
       "a\r\n",
       "}\r\n",
       "comp def \"Q\" as E3  <<(T,blue) part  def>> [[psysml:2ef5dada-a649-4c80-bc3f-904ca5914f5d ]] {\r\n",
       "}\r\n",
       "comp def \"B\" as E4  <<(T,blue) attribute  def>> [[psysml:45188152-89ae-47db-8fae-185a328aceea ]] {\r\n",
       "}\r\n",
       "comp def \"<i>V</i>\" as E5  <<(T,blue) part  def>> [[psysml:e8a966fa-6247-410c-94c4-6750afcc6da8 ]] {\r\n",
       "}\r\n",
       "comp usage \"x: Q \" as E6  <<(T,blue) part>> [[psysml:10060237-19c5-40dc-a73e-8cb7e4953e81 ]] {\r\n",
       "- - attributes - -\r\n",
       "b: B\\n//:>>P::a// \r\n",
       "}\r\n",
       "comp usage \"q: Q \" as E7  <<(T,blue) part>> [[psysml:070ce293-3e12-454f-ad5b-be257c39d672 ]] {\r\n",
       "}\r\n",
       "comp usage \"<i>v</i>: P \" as E8  <<variation>>\\n <<(T,blue) part>> [[psysml:3367482b-ff59-4bbe-a9dc-fe1b4a2ad697 ]] {\r\n",
       "}\r\n",
       "comp usage \"q :> VariabilityTest::q\" as E9  <<(T,blue) reference>> [[psysml:80fa5ea3-437e-4eec-9e3d-5d2e24e12c28 ]] {\r\n",
       "- - attributes - -\r\n",
       "b: B\\n//:>>P::a// \r\n",
       "}\r\n",
       "comp usage \"y: P \" as E10  <<(T,blue) part>> [[psysml:48eaa747-84b8-4879-8d6b-33c104c23f89 ]] {\r\n",
       "}\r\n",
       "}\r\n",
       "E3 - -|> E2 [[psysml:8fca0815-a461-4953-83e8-63ed8c86de29 ]] \r\n",
       "E5 - -|> E2 [[psysml:80d735d5-abd9-4df4-b941-a11b60e81c18 ]] \r\n",
       "E5 )- ->> E6 [[psysml:bbf94ce0-8140-4269-b805-c97e9315d509 ]] : <<variant>>\r\n",
       "E7 - -:|> E3 [[psysml:1a218306-3ccb-4021-8143-a6b7222dd125 ]] \r\n",
       "E8 - -:|> E2 [[psysml:0a07ead6-b6a6-4f86-92cb-b01532aad754 ]] \r\n",
       "E8 )- ->> E9 [[psysml:95cf767c-bf38-4d44-8a21-82e4671e1c7d ]] : <<variant>>\r\n",
       "E10 - -:|> E2 [[psysml:6b6ac884-9cd9-45a3-8497-3c127dcfd472 ]] \r\n",
       "@enduml\r\n",
       "\n",
       "PlantUML version 1.2020.13(Sat Jun 13 12:26:38 UTC 2020)\n",
       "(EPL source distribution)\n",
       "Java Runtime: OpenJDK Runtime Environment\n",
       "JVM: OpenJDK 64-Bit Server VM\n",
       "Default Encoding: UTF-8\n",
       "Language: en\n",
       "Country: null\n",
       "--></g></svg>"
      ]
     },
     "execution_count": 57,
     "metadata": {},
     "output_type": "execute_result"
    }
   ],
   "source": [
    "%viz --style=\"ORTHOLINE\" --view=\"MIXED\" \"VariabilityTest\""
   ]
  }
 ],
 "metadata": {
  "kernelspec": {
   "display_name": "SysML",
   "language": "sysml",
   "name": "sysml"
  },
  "language_info": {
   "codemirror_mode": "sysml",
   "file_extension": ".sysml",
   "mimetype": "text/x-sysml",
   "name": "SysML",
   "pygments_lexer": "java",
   "version": "1.0.0"
  }
 },
 "nbformat": 4,
 "nbformat_minor": 5
}
