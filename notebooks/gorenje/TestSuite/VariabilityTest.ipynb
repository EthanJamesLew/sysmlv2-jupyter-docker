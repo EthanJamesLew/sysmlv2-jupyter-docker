{
 "cells": [
  {
   "cell_type": "markdown",
   "id": "6d08bd4f",
   "metadata": {},
   "source": [
    "# SysML v2 Test Suite\n",
    "\n",
    "This can notebook can be cleared using menu `Edit --> Clear All Outputs` and then all cells can be\n",
    "run using menu `Run --> Run All Cells`.\n",
    "\n",
    "**WARNING**: This file is generated, all modifications here will be ignored.\n"
   ]
  },
  {
   "cell_type": "markdown",
   "id": "3a3069bd",
   "metadata": {},
   "source": [
    "## File: ../../sysml/src/examples/Simple Tests/VariabilityTest.sysml"
   ]
  },
  {
   "cell_type": "code",
   "execution_count": 1,
   "id": "acfeb397",
   "metadata": {
    "execution": {
     "iopub.execute_input": "2021-10-03T08:28:13.058328Z",
     "iopub.status.busy": "2021-10-03T08:28:13.057200Z",
     "iopub.status.idle": "2021-10-03T08:28:13.296667Z",
     "shell.execute_reply": "2021-10-03T08:28:13.297017Z"
    }
   },
   "outputs": [
    {
     "data": {
      "text/plain": [
       "Package VariabilityTest (07dfe48d-abdb-4509-b18a-07ddf3c6e47c)\n"
      ]
     },
     "execution_count": 1,
     "metadata": {},
     "output_type": "execute_result"
    }
   ],
   "source": [
    "package VariabilityTest {\n",
    "\tpart def P {\n",
    "\t\tattribute a;\n",
    "\t}\n",
    "\t\n",
    "\tpart def Q :> P;\n",
    "\tattribute def B;\n",
    "\tvariation part def V :> P {\n",
    "\t\tvariant part x : Q {\n",
    "\t\t\tattribute b : B :>> a;\n",
    "\t\t}\n",
    "\t}\n",
    "\t\n",
    "\tpart q : Q;\n",
    "\tvariation part v : P {\n",
    "\t\tvariant q {\n",
    "\t\t\tattribute b : B :>> a;\n",
    "\t\t}\n",
    "\t}\n",
    "\t\n",
    "\tpart y : P = v::q;\n",
    "}"
   ]
  },
  {
   "cell_type": "code",
   "execution_count": 2,
   "id": "cdf498ab",
   "metadata": {
    "execution": {
     "iopub.execute_input": "2021-10-03T08:28:13.348534Z",
     "iopub.status.busy": "2021-10-03T08:28:13.348071Z",
     "iopub.status.idle": "2021-10-03T08:28:13.916858Z",
     "shell.execute_reply": "2021-10-03T08:28:13.915609Z"
    }
   },
   "outputs": [
    {
     "data": {
      "image/svg+xml": [
       "<?xml version=\"1.0\" encoding=\"UTF-8\" standalone=\"no\"?><svg xmlns=\"http://www.w3.org/2000/svg\" xmlns:xlink=\"http://www.w3.org/1999/xlink\" contentScriptType=\"application/ecmascript\" contentStyleType=\"text/css\" height=\"401px\" preserveAspectRatio=\"none\" style=\"width:419px;height:401px;\" version=\"1.1\" viewBox=\"0 0 419 401\" width=\"419px\" zoomAndPan=\"magnify\"><defs/><g><!--MD5=[fbc87193dbaf4d95561dea2c320d4a47]\n",
       "cluster E1--><a href=\"psysml:6fd2d067-8ada-4ea8-9732-021f5438b424\" target=\"_top\" title=\"psysml:6fd2d067-8ada-4ea8-9732-021f5438b424\" xlink:actuate=\"onRequest\" xlink:href=\"psysml:6fd2d067-8ada-4ea8-9732-021f5438b424\" xlink:show=\"new\" xlink:title=\"psysml:6fd2d067-8ada-4ea8-9732-021f5438b424\" xlink:type=\"simple\"><polygon fill=\"#FFFFFF\" points=\"16,6,116,6,123,28.2969,397,28.2969,397,389,16,389,16,6\" style=\"stroke: #000000; stroke-width: 1.5;\"/><line style=\"stroke: #000000; stroke-width: 1.5;\" x1=\"16\" x2=\"123\" y1=\"28.2969\" y2=\"28.2969\"/><text fill=\"#000000\" font-family=\"sans-serif\" font-size=\"14\" font-weight=\"bold\" lengthAdjust=\"spacingAndGlyphs\" textLength=\"94\" x=\"20\" y=\"20.9951\">VariabilityTest</text></a><!--MD5=[b4997ac47864f28c2f74865a473b2911]\n",
       "class E2--><a href=\"psysml:06c5c105-f179-4f9c-9acd-25394b323f4d\" target=\"_top\" title=\"psysml:06c5c105-f179-4f9c-9acd-25394b323f4d\" xlink:actuate=\"onRequest\" xlink:href=\"psysml:06c5c105-f179-4f9c-9acd-25394b323f4d\" xlink:show=\"new\" xlink:title=\"psysml:06c5c105-f179-4f9c-9acd-25394b323f4d\" xlink:type=\"simple\"><rect fill=\"#FFFFFF\" height=\"75.5469\" id=\"E2\" style=\"stroke: #383838; stroke-width: 1.5;\" width=\"66\" x=\"166\" y=\"291\"/><text fill=\"#000000\" font-family=\"sans-serif\" font-size=\"12\" font-style=\"italic\" lengthAdjust=\"spacingAndGlyphs\" textLength=\"64\" x=\"167\" y=\"307.1387\">«part def»</text><text fill=\"#000000\" font-family=\"sans-serif\" font-size=\"12\" lengthAdjust=\"spacingAndGlyphs\" textLength=\"8\" x=\"195\" y=\"321.1074\">P</text><line style=\"stroke: #383838; stroke-width: 1.5;\" x1=\"167\" x2=\"231\" y1=\"328.9375\" y2=\"328.9375\"/><text fill=\"#000000\" font-family=\"sans-serif\" font-size=\"11\" lengthAdjust=\"spacingAndGlyphs\" textLength=\"7\" x=\"172\" y=\"359.9526\">a</text><line style=\"stroke: #383838; stroke-width: 1.0;\" x1=\"167\" x2=\"171.5\" y1=\"343.3398\" y2=\"343.3398\"/><text fill=\"#000000\" font-family=\"sans-serif\" font-size=\"11\" lengthAdjust=\"spacingAndGlyphs\" textLength=\"55\" x=\"171.5\" y=\"346.6479\">attributes</text><line style=\"stroke: #383838; stroke-width: 1.0;\" x1=\"226.5\" x2=\"231\" y1=\"343.3398\" y2=\"343.3398\"/></a><!--MD5=[09b614a08d8cba4a07c9adeb5e0fee81]\n",
       "class E3--><a href=\"psysml:dc55669e-d547-41b4-94bf-d6c68c80b885\" target=\"_top\" title=\"psysml:dc55669e-d547-41b4-94bf-d6c68c80b885\" xlink:actuate=\"onRequest\" xlink:href=\"psysml:dc55669e-d547-41b4-94bf-d6c68c80b885\" xlink:show=\"new\" xlink:title=\"psysml:dc55669e-d547-41b4-94bf-d6c68c80b885\" xlink:type=\"simple\"><rect fill=\"#FFFFFF\" height=\"45.9375\" id=\"E3\" style=\"stroke: #383838; stroke-width: 1.5;\" width=\"66\" x=\"137\" y=\"155\"/><text fill=\"#000000\" font-family=\"sans-serif\" font-size=\"12\" font-style=\"italic\" lengthAdjust=\"spacingAndGlyphs\" textLength=\"64\" x=\"138\" y=\"171.1387\">«part def»</text><text fill=\"#000000\" font-family=\"sans-serif\" font-size=\"12\" lengthAdjust=\"spacingAndGlyphs\" textLength=\"9\" x=\"165.5\" y=\"185.1074\">Q</text><line style=\"stroke: #383838; stroke-width: 1.5;\" x1=\"138\" x2=\"202\" y1=\"192.9375\" y2=\"192.9375\"/></a><!--MD5=[ebbe1d658d1005bcc118a6aa81145e00]\n",
       "class E4--><a href=\"psysml:18777e48-4bd6-4ac5-98df-f6aab0b7358e\" target=\"_top\" title=\"psysml:18777e48-4bd6-4ac5-98df-f6aab0b7358e\" xlink:actuate=\"onRequest\" xlink:href=\"psysml:18777e48-4bd6-4ac5-98df-f6aab0b7358e\" xlink:show=\"new\" xlink:title=\"psysml:18777e48-4bd6-4ac5-98df-f6aab0b7358e\" xlink:type=\"simple\"><rect fill=\"#FFFFFF\" height=\"45.9375\" id=\"E4\" style=\"stroke: #383838; stroke-width: 1.5;\" width=\"95\" x=\"255.5\" y=\"41\"/><text fill=\"#000000\" font-family=\"sans-serif\" font-size=\"12\" font-style=\"italic\" lengthAdjust=\"spacingAndGlyphs\" textLength=\"93\" x=\"256.5\" y=\"57.1387\">«attribute def»</text><text fill=\"#000000\" font-family=\"sans-serif\" font-size=\"12\" lengthAdjust=\"spacingAndGlyphs\" textLength=\"8\" x=\"299\" y=\"71.1074\">B</text><line style=\"stroke: #383838; stroke-width: 1.5;\" x1=\"256.5\" x2=\"349.5\" y1=\"78.9375\" y2=\"78.9375\"/></a><!--MD5=[270fce915f116d4de14055a7c1d9a0f3]\n",
       "class E5--><a href=\"psysml:b19cdb52-b52e-4af3-afe9-4ea29743154a\" target=\"_top\" title=\"psysml:b19cdb52-b52e-4af3-afe9-4ea29743154a\" xlink:actuate=\"onRequest\" xlink:href=\"psysml:b19cdb52-b52e-4af3-afe9-4ea29743154a\" xlink:show=\"new\" xlink:title=\"psysml:b19cdb52-b52e-4af3-afe9-4ea29743154a\" xlink:type=\"simple\"><rect fill=\"#FFFFFF\" height=\"45.9375\" id=\"E5\" style=\"stroke: #383838; stroke-width: 1.5;\" width=\"66\" x=\"315\" y=\"155\"/><text fill=\"#000000\" font-family=\"sans-serif\" font-size=\"12\" font-style=\"italic\" lengthAdjust=\"spacingAndGlyphs\" textLength=\"64\" x=\"316\" y=\"171.1387\">«part def»</text><text fill=\"#000000\" font-family=\"sans-serif\" font-size=\"12\" lengthAdjust=\"spacingAndGlyphs\" textLength=\"8\" x=\"344\" y=\"185.1074\">V</text><line style=\"stroke: #383838; stroke-width: 1.5;\" x1=\"316\" x2=\"380\" y1=\"192.9375\" y2=\"192.9375\"/></a><!--MD5=[60a26617385b1d2d0262a64233df1f8d]\n",
       "class E6--><a href=\"psysml:a2bd922e-3e40-42bd-80e3-ecb5a548758e\" target=\"_top\" title=\"psysml:a2bd922e-3e40-42bd-80e3-ecb5a548758e\" xlink:actuate=\"onRequest\" xlink:href=\"psysml:a2bd922e-3e40-42bd-80e3-ecb5a548758e\" xlink:show=\"new\" xlink:title=\"psysml:a2bd922e-3e40-42bd-80e3-ecb5a548758e\" xlink:type=\"simple\"><rect fill=\"#FFFFFF\" height=\"88.3516\" id=\"E6\" rx=\"10\" ry=\"10\" style=\"stroke: #383838; stroke-width: 1.5;\" width=\"63\" x=\"287.5\" y=\"285\"/><text fill=\"#000000\" font-family=\"sans-serif\" font-size=\"12\" font-style=\"italic\" lengthAdjust=\"spacingAndGlyphs\" textLength=\"40\" x=\"299\" y=\"301.1387\">«part»</text><text fill=\"#000000\" font-family=\"sans-serif\" font-size=\"12\" lengthAdjust=\"spacingAndGlyphs\" textLength=\"23\" x=\"307.5\" y=\"315.1074\">x: Q</text><line style=\"stroke: #383838; stroke-width: 1.5;\" x1=\"288.5\" x2=\"349.5\" y1=\"322.9375\" y2=\"322.9375\"/><text fill=\"#000000\" font-family=\"sans-serif\" font-size=\"11\" lengthAdjust=\"spacingAndGlyphs\" textLength=\"23\" x=\"293.5\" y=\"353.9526\">b: B</text><text fill=\"#000000\" font-family=\"sans-serif\" font-size=\"11\" font-style=\"italic\" lengthAdjust=\"spacingAndGlyphs\" textLength=\"44\" x=\"293.5\" y=\"366.7573\">:&gt;&gt;P::a</text><line style=\"stroke: #383838; stroke-width: 1.0;\" x1=\"288.5\" x2=\"291.5\" y1=\"337.3398\" y2=\"337.3398\"/><text fill=\"#000000\" font-family=\"sans-serif\" font-size=\"11\" lengthAdjust=\"spacingAndGlyphs\" textLength=\"55\" x=\"291.5\" y=\"340.6479\">attributes</text><line style=\"stroke: #383838; stroke-width: 1.0;\" x1=\"346.5\" x2=\"349.5\" y1=\"337.3398\" y2=\"337.3398\"/></a><!--MD5=[2156ba9850f5573cc1fc38a6a4b2f02b]\n",
       "class E7--><a href=\"psysml:84f1cc81-1e5a-4a4b-9822-237c593dc1ed\" target=\"_top\" title=\"psysml:84f1cc81-1e5a-4a4b-9822-237c593dc1ed\" xlink:actuate=\"onRequest\" xlink:href=\"psysml:84f1cc81-1e5a-4a4b-9822-237c593dc1ed\" xlink:show=\"new\" xlink:title=\"psysml:84f1cc81-1e5a-4a4b-9822-237c593dc1ed\" xlink:type=\"simple\"><rect fill=\"#FFFFFF\" height=\"45.9375\" id=\"E7\" rx=\"10\" ry=\"10\" style=\"stroke: #383838; stroke-width: 1.5;\" width=\"42\" x=\"149\" y=\"41\"/><text fill=\"#000000\" font-family=\"sans-serif\" font-size=\"12\" font-style=\"italic\" lengthAdjust=\"spacingAndGlyphs\" textLength=\"40\" x=\"150\" y=\"57.1387\">«part»</text><text fill=\"#000000\" font-family=\"sans-serif\" font-size=\"12\" lengthAdjust=\"spacingAndGlyphs\" textLength=\"25\" x=\"157.5\" y=\"71.1074\">q: Q</text><line style=\"stroke: #383838; stroke-width: 1.5;\" x1=\"150\" x2=\"190\" y1=\"78.9375\" y2=\"78.9375\"/></a><!--MD5=[b9389687b975829384b498ac4b7476b2]\n",
       "class E8--><a href=\"psysml:d9c8c4c9-730a-472e-ad5c-9ed2548fca6c\" target=\"_top\" title=\"psysml:d9c8c4c9-730a-472e-ad5c-9ed2548fca6c\" xlink:actuate=\"onRequest\" xlink:href=\"psysml:d9c8c4c9-730a-472e-ad5c-9ed2548fca6c\" xlink:show=\"new\" xlink:title=\"psysml:d9c8c4c9-730a-472e-ad5c-9ed2548fca6c\" xlink:type=\"simple\"><rect fill=\"#FFFFFF\" height=\"59.9063\" id=\"E8\" rx=\"10\" ry=\"10\" style=\"stroke: #383838; stroke-width: 1.5;\" width=\"70\" x=\"32\" y=\"148\"/><text fill=\"#000000\" font-family=\"sans-serif\" font-size=\"12\" font-style=\"italic\" lengthAdjust=\"spacingAndGlyphs\" textLength=\"68\" x=\"33\" y=\"164.1387\">«variation»</text><text fill=\"#000000\" font-family=\"sans-serif\" font-size=\"12\" font-style=\"italic\" lengthAdjust=\"spacingAndGlyphs\" textLength=\"40\" x=\"47\" y=\"178.1074\">«part»</text><text fill=\"#000000\" font-family=\"sans-serif\" font-size=\"12\" lengthAdjust=\"spacingAndGlyphs\" textLength=\"22\" x=\"56\" y=\"192.0762\">v: P</text><line style=\"stroke: #383838; stroke-width: 1.5;\" x1=\"33\" x2=\"101\" y1=\"199.9063\" y2=\"199.9063\"/></a><!--MD5=[fd4143e9d270a159db93a4ea2a975926]\n",
       "class E9--><a href=\"psysml:29b56154-ee98-4bdd-852f-875051132018\" target=\"_top\" title=\"psysml:29b56154-ee98-4bdd-852f-875051132018\" xlink:actuate=\"onRequest\" xlink:href=\"psysml:29b56154-ee98-4bdd-852f-875051132018\" xlink:show=\"new\" xlink:title=\"psysml:29b56154-ee98-4bdd-852f-875051132018\" xlink:type=\"simple\"><rect fill=\"#FFFFFF\" height=\"88.3516\" id=\"E9\" rx=\"10\" ry=\"10\" style=\"stroke: #383838; stroke-width: 1.5;\" width=\"77\" x=\"32.5\" y=\"285\"/><text fill=\"#000000\" font-family=\"sans-serif\" font-size=\"12\" font-style=\"italic\" lengthAdjust=\"spacingAndGlyphs\" textLength=\"75\" x=\"33.5\" y=\"301.1387\">«reference»</text><text fill=\"#000000\" font-family=\"sans-serif\" font-size=\"12\" lengthAdjust=\"spacingAndGlyphs\" textLength=\"8\" x=\"67\" y=\"315.1074\">q</text><line style=\"stroke: #383838; stroke-width: 1.5;\" x1=\"33.5\" x2=\"108.5\" y1=\"322.9375\" y2=\"322.9375\"/><text fill=\"#000000\" font-family=\"sans-serif\" font-size=\"11\" lengthAdjust=\"spacingAndGlyphs\" textLength=\"23\" x=\"38.5\" y=\"353.9526\">b: B</text><text fill=\"#000000\" font-family=\"sans-serif\" font-size=\"11\" font-style=\"italic\" lengthAdjust=\"spacingAndGlyphs\" textLength=\"44\" x=\"38.5\" y=\"366.7573\">:&gt;&gt;P::a</text><line style=\"stroke: #383838; stroke-width: 1.0;\" x1=\"33.5\" x2=\"43.5\" y1=\"337.3398\" y2=\"337.3398\"/><text fill=\"#000000\" font-family=\"sans-serif\" font-size=\"11\" lengthAdjust=\"spacingAndGlyphs\" textLength=\"55\" x=\"43.5\" y=\"340.6479\">attributes</text><line style=\"stroke: #383838; stroke-width: 1.0;\" x1=\"98.5\" x2=\"108.5\" y1=\"337.3398\" y2=\"337.3398\"/></a><!--MD5=[96f4274e9e20536e775497830990834d]\n",
       "class E10--><a href=\"psysml:e49f0805-0747-4902-8d4f-55ae479a1338\" target=\"_top\" title=\"psysml:e49f0805-0747-4902-8d4f-55ae479a1338\" xlink:actuate=\"onRequest\" xlink:href=\"psysml:e49f0805-0747-4902-8d4f-55ae479a1338\" xlink:show=\"new\" xlink:title=\"psysml:e49f0805-0747-4902-8d4f-55ae479a1338\" xlink:type=\"simple\"><rect fill=\"#FFFFFF\" height=\"45.9375\" id=\"E10\" rx=\"10\" ry=\"10\" style=\"stroke: #383838; stroke-width: 1.5;\" width=\"42\" x=\"238\" y=\"155\"/><text fill=\"#000000\" font-family=\"sans-serif\" font-size=\"12\" font-style=\"italic\" lengthAdjust=\"spacingAndGlyphs\" textLength=\"40\" x=\"239\" y=\"171.1387\">«part»</text><text fill=\"#000000\" font-family=\"sans-serif\" font-size=\"12\" lengthAdjust=\"spacingAndGlyphs\" textLength=\"22\" x=\"248\" y=\"185.1074\">y: P</text><line style=\"stroke: #383838; stroke-width: 1.5;\" x1=\"239\" x2=\"279\" y1=\"192.9375\" y2=\"192.9375\"/></a><!--MD5=[05d275557350bfb9b23a4ef7222b4c39]\n",
       "link E3 to E2--><a href=\"psysml:f79594a1-bc1c-4f37-98e7-b8999b5b3daa\" target=\"_top\" title=\"psysml:f79594a1-bc1c-4f37-98e7-b8999b5b3daa\" xlink:actuate=\"onRequest\" xlink:href=\"psysml:f79594a1-bc1c-4f37-98e7-b8999b5b3daa\" xlink:show=\"new\" xlink:title=\"psysml:f79594a1-bc1c-4f37-98e7-b8999b5b3daa\" xlink:type=\"simple\"><path d=\"M174.34,201.31 C177.92,219.67 183.15,246.54 187.87,270.81 \" fill=\"none\" id=\"E3-&gt;E2\" style=\"stroke: #383838; stroke-width: 1.0;\"/><polygon fill=\"none\" points=\"194.8,269.8,191.75,290.77,181.06,272.47,194.8,269.8\" style=\"stroke: #383838; stroke-width: 1.0;\"/></a><!--MD5=[15ebcb19ae302d9b601edb458606d402]\n",
       "link E5 to E2--><a href=\"psysml:e72a8b47-cfcf-460f-abbe-f19ffcddd547\" target=\"_top\" title=\"psysml:e72a8b47-cfcf-460f-abbe-f19ffcddd547\" xlink:actuate=\"onRequest\" xlink:href=\"psysml:e72a8b47-cfcf-460f-abbe-f19ffcddd547\" xlink:show=\"new\" xlink:title=\"psysml:e72a8b47-cfcf-460f-abbe-f19ffcddd547\" xlink:type=\"simple\"><path d=\"M325.69,201.31 C304.9,222.1 273.2,253.8 246.71,280.29 \" fill=\"none\" id=\"E5-&gt;E2\" style=\"stroke: #383838; stroke-width: 1.0;\"/><polygon fill=\"none\" points=\"251.33,285.57,232.24,294.76,241.43,275.67,251.33,285.57\" style=\"stroke: #383838; stroke-width: 1.0;\"/></a><!--MD5=[9120cf2e5df3bff93db8f754bbbc09b4]\n",
       "link E5 to E6--><a href=\"psysml:d1158e90-c200-41a0-bff8-4b2e6825fa74\" target=\"_top\" title=\"psysml:d1158e90-c200-41a0-bff8-4b2e6825fa74\" xlink:actuate=\"onRequest\" xlink:href=\"psysml:d1158e90-c200-41a0-bff8-4b2e6825fa74\" xlink:show=\"new\" xlink:title=\"psysml:d1158e90-c200-41a0-bff8-4b2e6825fa74\" xlink:type=\"simple\"><path d=\"M341.72,211.26 C338.1,229.85 333.47,253.68 329.32,274.95 \" fill=\"none\" id=\"E5-E6\" style=\"stroke: #383838; stroke-width: 1.0;\"/><polygon fill=\"#383838\" points=\"327.4,284.84,331.8761,277.5623,325.987,276.4136,327.4,284.84\" style=\"stroke: #383838; stroke-width: 1.0;\"/><path d=\"M334.7699,202.7122 A9,9 0 0 0 351.3715 205.9503\" fill=\"none\" style=\"stroke: #383838; stroke-width: 1.5;\"/><text fill=\"#000000\" font-family=\"sans-serif\" font-size=\"13\" lengthAdjust=\"spacingAndGlyphs\" textLength=\"60\" x=\"337\" y=\"251.0669\">«variant»</text></a><!--MD5=[14ccda38c055a5c0da953d572bc50960]\n",
       "link E7 to E3--><a href=\"psysml:df5a11ab-14bd-474c-9e9f-2e0517640249\" target=\"_top\" title=\"psysml:df5a11ab-14bd-474c-9e9f-2e0517640249\" xlink:actuate=\"onRequest\" xlink:href=\"psysml:df5a11ab-14bd-474c-9e9f-2e0517640249\" xlink:show=\"new\" xlink:title=\"psysml:df5a11ab-14bd-474c-9e9f-2e0517640249\" xlink:type=\"simple\"><path d=\"M170,87.13 C170,100.7 170,118.53 170,134.73 \" fill=\"none\" id=\"E7-&gt;E3\" style=\"stroke: #383838; stroke-width: 1.0;\"/><polygon fill=\"#FFFFFF\" points=\"170,154.92,163,135.92,177,135.92,170,154.92\" style=\"stroke: #383838; stroke-width: 1.0;\"/><ellipse cx=\"165\" cy=\"130.22\" fill=\"#383838\" rx=\"2\" ry=\"2\" style=\"stroke: #383838; stroke-width: 1.0;\"/><ellipse cx=\"175\" cy=\"130.22\" fill=\"#383838\" rx=\"2\" ry=\"2\" style=\"stroke: #383838; stroke-width: 1.0;\"/></a><!--MD5=[f1f3f9f2fc535e6147756cb86a7f2e32]\n",
       "link E8 to E2--><a href=\"psysml:108d975b-2613-446e-8683-bfdaec0afedf\" target=\"_top\" title=\"psysml:108d975b-2613-446e-8683-bfdaec0afedf\" xlink:actuate=\"onRequest\" xlink:href=\"psysml:108d975b-2613-446e-8683-bfdaec0afedf\" xlink:show=\"new\" xlink:title=\"psysml:108d975b-2613-446e-8683-bfdaec0afedf\" xlink:type=\"simple\"><path d=\"M102.17,204.39 C114.52,214.17 128.04,225.9 139,238 C148.86,248.88 158.29,261.5 166.63,273.79 \" fill=\"none\" id=\"E8-&gt;E2\" style=\"stroke: #383838; stroke-width: 1.0;\"/><polygon fill=\"#FFFFFF\" points=\"177.64,290.73,161.4168,278.6135,173.1555,270.9844,177.64,290.73\" style=\"stroke: #383838; stroke-width: 1.0;\"/><ellipse cx=\"159.9876\" cy=\"272.7443\" fill=\"#383838\" rx=\"2\" ry=\"2\" style=\"stroke: #383838; stroke-width: 1.0;\"/><ellipse cx=\"168.3724\" cy=\"267.2949\" fill=\"#383838\" rx=\"2\" ry=\"2\" style=\"stroke: #383838; stroke-width: 1.0;\"/></a><!--MD5=[ed10624c06dd9a4fa49ccf290e8b16a8]\n",
       "link E8 to E9--><a href=\"psysml:ebcdab70-773e-42b3-a4e9-8c7478e829d7\" target=\"_top\" title=\"psysml:ebcdab70-773e-42b3-a4e9-8c7478e829d7\" xlink:actuate=\"onRequest\" xlink:href=\"psysml:ebcdab70-773e-42b3-a4e9-8c7478e829d7\" xlink:show=\"new\" xlink:title=\"psysml:ebcdab70-773e-42b3-a4e9-8c7478e829d7\" xlink:type=\"simple\"><path d=\"M68.06,218.32 C68.52,235.6 69.07,256.15 69.57,274.77 \" fill=\"none\" id=\"E8-E9\" style=\"stroke: #383838; stroke-width: 1.0;\"/><polygon fill=\"#383838\" points=\"69.84,284.88,72.6331,276.8054,66.6351,276.9599,69.84,284.88\" style=\"stroke: #383838; stroke-width: 1.0;\"/><path d=\"M59.4094,211.3865 A9,9 0 0 0 76.3176 210.9276\" fill=\"none\" style=\"stroke: #383838; stroke-width: 1.5;\"/><text fill=\"#000000\" font-family=\"sans-serif\" font-size=\"13\" lengthAdjust=\"spacingAndGlyphs\" textLength=\"60\" x=\"70\" y=\"251.0669\">«variant»</text></a><!--MD5=[0f36bececdf0dff6e600d6f64214b0f1]\n",
       "link E10 to E2--><a href=\"psysml:967d0111-ba43-4736-bbbb-a2fd42e2431e\" target=\"_top\" title=\"psysml:967d0111-ba43-4736-bbbb-a2fd42e2431e\" xlink:actuate=\"onRequest\" xlink:href=\"psysml:967d0111-ba43-4736-bbbb-a2fd42e2431e\" xlink:show=\"new\" xlink:title=\"psysml:967d0111-ba43-4736-bbbb-a2fd42e2431e\" xlink:type=\"simple\"><path d=\"M250.02,201.31 C242.51,219.95 231.48,247.35 221.59,271.91 \" fill=\"none\" id=\"E10-&gt;E2\" style=\"stroke: #383838; stroke-width: 1.0;\"/><polygon fill=\"#FFFFFF\" points=\"213.99,290.77,214.5927,270.5305,227.5796,275.7593,213.99,290.77\" style=\"stroke: #383838; stroke-width: 1.0;\"/><ellipse cx=\"218.5768\" cy=\"265.9899\" fill=\"#383838\" rx=\"2\" ry=\"2\" style=\"stroke: #383838; stroke-width: 1.0;\"/><ellipse cx=\"227.8532\" cy=\"269.7248\" fill=\"#383838\" rx=\"2\" ry=\"2\" style=\"stroke: #383838; stroke-width: 1.0;\"/></a><!--MD5=[b3dbb99be908a80fead44ebcb642739a]\n",
       "@startuml\r\n",
       " skinparam monochrome true\r\n",
       "skinparam classbackgroundcolor white\r\n",
       "skinparam shadowing false\r\n",
       "skinparam wrapWidth 300\r\n",
       "hide circle\r\n",
       "\r\n",
       "package \"VariabilityTest\" as E1  [[psysml:6fd2d067-8ada-4ea8-9732-021f5438b424 ]]  {\r\n",
       "comp def \"P\" as E2  <<(T,blue) part def>> [[psysml:06c5c105-f179-4f9c-9acd-25394b323f4d ]] {\r\n",
       "- - attributes - -\r\n",
       "a\r\n",
       "}\r\n",
       "comp def \"Q\" as E3  <<(T,blue) part def>> [[psysml:dc55669e-d547-41b4-94bf-d6c68c80b885 ]] {\r\n",
       "}\r\n",
       "comp def \"B\" as E4  <<(T,blue) attribute def>> [[psysml:18777e48-4bd6-4ac5-98df-f6aab0b7358e ]] {\r\n",
       "}\r\n",
       "comp def \"V\" as E5  <<(T,blue) part def>> [[psysml:b19cdb52-b52e-4af3-afe9-4ea29743154a ]] {\r\n",
       "}\r\n",
       "comp usage \"x: Q\" as E6  <<(T,blue) part>> [[psysml:a2bd922e-3e40-42bd-80e3-ecb5a548758e ]] {\r\n",
       "- - attributes - -\r\n",
       "b: B\\n//:>>P::a// \r\n",
       "}\r\n",
       "comp usage \"q: Q\" as E7  <<(T,blue) part>> [[psysml:84f1cc81-1e5a-4a4b-9822-237c593dc1ed ]] {\r\n",
       "}\r\n",
       "comp usage \"v: P\" as E8  <<variation>>\\n <<(T,blue) part>> [[psysml:d9c8c4c9-730a-472e-ad5c-9ed2548fca6c ]] {\r\n",
       "}\r\n",
       "comp usage \"q\" as E9  <<(T,blue) reference>> [[psysml:29b56154-ee98-4bdd-852f-875051132018 ]] {\r\n",
       "- - attributes - -\r\n",
       "b: B\\n//:>>P::a// \r\n",
       "}\r\n",
       "comp usage \"y: P\" as E10  <<(T,blue) part>> [[psysml:e49f0805-0747-4902-8d4f-55ae479a1338 ]] {\r\n",
       "}\r\n",
       "}\r\n",
       "E3 - -|> E2 [[psysml:f79594a1-bc1c-4f37-98e7-b8999b5b3daa ]] \r\n",
       "E5 - -|> E2 [[psysml:e72a8b47-cfcf-460f-abbe-f19ffcddd547 ]] \r\n",
       "E5 )- ->> E6 [[psysml:d1158e90-c200-41a0-bff8-4b2e6825fa74 ]] : <<variant>>\r\n",
       "E7 - -:|> E3 [[psysml:df5a11ab-14bd-474c-9e9f-2e0517640249 ]] \r\n",
       "E8 - -:|> E2 [[psysml:108d975b-2613-446e-8683-bfdaec0afedf ]] \r\n",
       "E8 )- ->> E9 [[psysml:ebcdab70-773e-42b3-a4e9-8c7478e829d7 ]] : <<variant>>\r\n",
       "E10 - -:|> E2 [[psysml:967d0111-ba43-4736-bbbb-a2fd42e2431e ]] \r\n",
       "@enduml\r\n",
       "\n",
       "PlantUML version 1.2020.13(Sat Jun 13 12:26:38 UTC 2020)\n",
       "(EPL source distribution)\n",
       "Java Runtime: OpenJDK Runtime Environment\n",
       "JVM: OpenJDK 64-Bit Server VM\n",
       "Default Encoding: UTF-8\n",
       "Language: en\n",
       "Country: null\n",
       "--></g></svg>"
      ]
     },
     "execution_count": 2,
     "metadata": {},
     "output_type": "execute_result"
    }
   ],
   "source": [
    "%viz --style=\"COMPTREE\" --view=\"Default\" \"VariabilityTest\""
   ]
  },
  {
   "cell_type": "code",
   "execution_count": 3,
   "id": "be04e931",
   "metadata": {
    "execution": {
     "iopub.execute_input": "2021-10-03T08:28:13.966817Z",
     "iopub.status.busy": "2021-10-03T08:28:13.966558Z",
     "iopub.status.idle": "2021-10-03T08:28:14.099363Z",
     "shell.execute_reply": "2021-10-03T08:28:14.097325Z"
    }
   },
   "outputs": [
    {
     "data": {
      "image/svg+xml": [
       "<?xml version=\"1.0\" encoding=\"UTF-8\" standalone=\"no\"?><svg xmlns=\"http://www.w3.org/2000/svg\" xmlns:xlink=\"http://www.w3.org/1999/xlink\" contentScriptType=\"application/ecmascript\" contentStyleType=\"text/css\" height=\"401px\" preserveAspectRatio=\"none\" style=\"width:419px;height:401px;\" version=\"1.1\" viewBox=\"0 0 419 401\" width=\"419px\" zoomAndPan=\"magnify\"><defs/><g><!--MD5=[fbc87193dbaf4d95561dea2c320d4a47]\n",
       "cluster E1--><a href=\"psysml:6fd2d067-8ada-4ea8-9732-021f5438b424\" target=\"_top\" title=\"psysml:6fd2d067-8ada-4ea8-9732-021f5438b424\" xlink:actuate=\"onRequest\" xlink:href=\"psysml:6fd2d067-8ada-4ea8-9732-021f5438b424\" xlink:show=\"new\" xlink:title=\"psysml:6fd2d067-8ada-4ea8-9732-021f5438b424\" xlink:type=\"simple\"><polygon fill=\"#FFFFFF\" points=\"16,6,116,6,123,28.2969,397,28.2969,397,389,16,389,16,6\" style=\"stroke: #000000; stroke-width: 1.5;\"/><line style=\"stroke: #000000; stroke-width: 1.5;\" x1=\"16\" x2=\"123\" y1=\"28.2969\" y2=\"28.2969\"/><text fill=\"#000000\" font-family=\"sans-serif\" font-size=\"14\" font-weight=\"bold\" lengthAdjust=\"spacingAndGlyphs\" textLength=\"94\" x=\"20\" y=\"20.9951\">VariabilityTest</text></a><!--MD5=[b4997ac47864f28c2f74865a473b2911]\n",
       "class E2--><a href=\"psysml:06c5c105-f179-4f9c-9acd-25394b323f4d\" target=\"_top\" title=\"psysml:06c5c105-f179-4f9c-9acd-25394b323f4d\" xlink:actuate=\"onRequest\" xlink:href=\"psysml:06c5c105-f179-4f9c-9acd-25394b323f4d\" xlink:show=\"new\" xlink:title=\"psysml:06c5c105-f179-4f9c-9acd-25394b323f4d\" xlink:type=\"simple\"><rect fill=\"#FFFFFF\" height=\"75.5469\" id=\"E2\" style=\"stroke: #383838; stroke-width: 1.5;\" width=\"66\" x=\"166\" y=\"291\"/><text fill=\"#000000\" font-family=\"sans-serif\" font-size=\"12\" font-style=\"italic\" lengthAdjust=\"spacingAndGlyphs\" textLength=\"64\" x=\"167\" y=\"307.1387\">«part def»</text><text fill=\"#000000\" font-family=\"sans-serif\" font-size=\"12\" lengthAdjust=\"spacingAndGlyphs\" textLength=\"8\" x=\"195\" y=\"321.1074\">P</text><line style=\"stroke: #383838; stroke-width: 1.5;\" x1=\"167\" x2=\"231\" y1=\"328.9375\" y2=\"328.9375\"/><text fill=\"#000000\" font-family=\"sans-serif\" font-size=\"11\" lengthAdjust=\"spacingAndGlyphs\" textLength=\"7\" x=\"172\" y=\"359.9526\">a</text><line style=\"stroke: #383838; stroke-width: 1.0;\" x1=\"167\" x2=\"171.5\" y1=\"343.3398\" y2=\"343.3398\"/><text fill=\"#000000\" font-family=\"sans-serif\" font-size=\"11\" lengthAdjust=\"spacingAndGlyphs\" textLength=\"55\" x=\"171.5\" y=\"346.6479\">attributes</text><line style=\"stroke: #383838; stroke-width: 1.0;\" x1=\"226.5\" x2=\"231\" y1=\"343.3398\" y2=\"343.3398\"/></a><!--MD5=[09b614a08d8cba4a07c9adeb5e0fee81]\n",
       "class E3--><a href=\"psysml:dc55669e-d547-41b4-94bf-d6c68c80b885\" target=\"_top\" title=\"psysml:dc55669e-d547-41b4-94bf-d6c68c80b885\" xlink:actuate=\"onRequest\" xlink:href=\"psysml:dc55669e-d547-41b4-94bf-d6c68c80b885\" xlink:show=\"new\" xlink:title=\"psysml:dc55669e-d547-41b4-94bf-d6c68c80b885\" xlink:type=\"simple\"><rect fill=\"#FFFFFF\" height=\"45.9375\" id=\"E3\" style=\"stroke: #383838; stroke-width: 1.5;\" width=\"66\" x=\"137\" y=\"155\"/><text fill=\"#000000\" font-family=\"sans-serif\" font-size=\"12\" font-style=\"italic\" lengthAdjust=\"spacingAndGlyphs\" textLength=\"64\" x=\"138\" y=\"171.1387\">«part def»</text><text fill=\"#000000\" font-family=\"sans-serif\" font-size=\"12\" lengthAdjust=\"spacingAndGlyphs\" textLength=\"9\" x=\"165.5\" y=\"185.1074\">Q</text><line style=\"stroke: #383838; stroke-width: 1.5;\" x1=\"138\" x2=\"202\" y1=\"192.9375\" y2=\"192.9375\"/></a><!--MD5=[ebbe1d658d1005bcc118a6aa81145e00]\n",
       "class E4--><a href=\"psysml:18777e48-4bd6-4ac5-98df-f6aab0b7358e\" target=\"_top\" title=\"psysml:18777e48-4bd6-4ac5-98df-f6aab0b7358e\" xlink:actuate=\"onRequest\" xlink:href=\"psysml:18777e48-4bd6-4ac5-98df-f6aab0b7358e\" xlink:show=\"new\" xlink:title=\"psysml:18777e48-4bd6-4ac5-98df-f6aab0b7358e\" xlink:type=\"simple\"><rect fill=\"#FFFFFF\" height=\"45.9375\" id=\"E4\" style=\"stroke: #383838; stroke-width: 1.5;\" width=\"95\" x=\"255.5\" y=\"41\"/><text fill=\"#000000\" font-family=\"sans-serif\" font-size=\"12\" font-style=\"italic\" lengthAdjust=\"spacingAndGlyphs\" textLength=\"93\" x=\"256.5\" y=\"57.1387\">«attribute def»</text><text fill=\"#000000\" font-family=\"sans-serif\" font-size=\"12\" lengthAdjust=\"spacingAndGlyphs\" textLength=\"8\" x=\"299\" y=\"71.1074\">B</text><line style=\"stroke: #383838; stroke-width: 1.5;\" x1=\"256.5\" x2=\"349.5\" y1=\"78.9375\" y2=\"78.9375\"/></a><!--MD5=[270fce915f116d4de14055a7c1d9a0f3]\n",
       "class E5--><a href=\"psysml:b19cdb52-b52e-4af3-afe9-4ea29743154a\" target=\"_top\" title=\"psysml:b19cdb52-b52e-4af3-afe9-4ea29743154a\" xlink:actuate=\"onRequest\" xlink:href=\"psysml:b19cdb52-b52e-4af3-afe9-4ea29743154a\" xlink:show=\"new\" xlink:title=\"psysml:b19cdb52-b52e-4af3-afe9-4ea29743154a\" xlink:type=\"simple\"><rect fill=\"#FFFFFF\" height=\"45.9375\" id=\"E5\" style=\"stroke: #383838; stroke-width: 1.5;\" width=\"66\" x=\"315\" y=\"155\"/><text fill=\"#000000\" font-family=\"sans-serif\" font-size=\"12\" font-style=\"italic\" lengthAdjust=\"spacingAndGlyphs\" textLength=\"64\" x=\"316\" y=\"171.1387\">«part def»</text><text fill=\"#000000\" font-family=\"sans-serif\" font-size=\"12\" lengthAdjust=\"spacingAndGlyphs\" textLength=\"8\" x=\"344\" y=\"185.1074\">V</text><line style=\"stroke: #383838; stroke-width: 1.5;\" x1=\"316\" x2=\"380\" y1=\"192.9375\" y2=\"192.9375\"/></a><!--MD5=[60a26617385b1d2d0262a64233df1f8d]\n",
       "class E6--><a href=\"psysml:a2bd922e-3e40-42bd-80e3-ecb5a548758e\" target=\"_top\" title=\"psysml:a2bd922e-3e40-42bd-80e3-ecb5a548758e\" xlink:actuate=\"onRequest\" xlink:href=\"psysml:a2bd922e-3e40-42bd-80e3-ecb5a548758e\" xlink:show=\"new\" xlink:title=\"psysml:a2bd922e-3e40-42bd-80e3-ecb5a548758e\" xlink:type=\"simple\"><rect fill=\"#FFFFFF\" height=\"88.3516\" id=\"E6\" rx=\"10\" ry=\"10\" style=\"stroke: #383838; stroke-width: 1.5;\" width=\"63\" x=\"287.5\" y=\"285\"/><text fill=\"#000000\" font-family=\"sans-serif\" font-size=\"12\" font-style=\"italic\" lengthAdjust=\"spacingAndGlyphs\" textLength=\"40\" x=\"299\" y=\"301.1387\">«part»</text><text fill=\"#000000\" font-family=\"sans-serif\" font-size=\"12\" lengthAdjust=\"spacingAndGlyphs\" textLength=\"23\" x=\"307.5\" y=\"315.1074\">x: Q</text><line style=\"stroke: #383838; stroke-width: 1.5;\" x1=\"288.5\" x2=\"349.5\" y1=\"322.9375\" y2=\"322.9375\"/><text fill=\"#000000\" font-family=\"sans-serif\" font-size=\"11\" lengthAdjust=\"spacingAndGlyphs\" textLength=\"23\" x=\"293.5\" y=\"353.9526\">b: B</text><text fill=\"#000000\" font-family=\"sans-serif\" font-size=\"11\" font-style=\"italic\" lengthAdjust=\"spacingAndGlyphs\" textLength=\"44\" x=\"293.5\" y=\"366.7573\">:&gt;&gt;P::a</text><line style=\"stroke: #383838; stroke-width: 1.0;\" x1=\"288.5\" x2=\"291.5\" y1=\"337.3398\" y2=\"337.3398\"/><text fill=\"#000000\" font-family=\"sans-serif\" font-size=\"11\" lengthAdjust=\"spacingAndGlyphs\" textLength=\"55\" x=\"291.5\" y=\"340.6479\">attributes</text><line style=\"stroke: #383838; stroke-width: 1.0;\" x1=\"346.5\" x2=\"349.5\" y1=\"337.3398\" y2=\"337.3398\"/></a><!--MD5=[2156ba9850f5573cc1fc38a6a4b2f02b]\n",
       "class E7--><a href=\"psysml:84f1cc81-1e5a-4a4b-9822-237c593dc1ed\" target=\"_top\" title=\"psysml:84f1cc81-1e5a-4a4b-9822-237c593dc1ed\" xlink:actuate=\"onRequest\" xlink:href=\"psysml:84f1cc81-1e5a-4a4b-9822-237c593dc1ed\" xlink:show=\"new\" xlink:title=\"psysml:84f1cc81-1e5a-4a4b-9822-237c593dc1ed\" xlink:type=\"simple\"><rect fill=\"#FFFFFF\" height=\"45.9375\" id=\"E7\" rx=\"10\" ry=\"10\" style=\"stroke: #383838; stroke-width: 1.5;\" width=\"42\" x=\"149\" y=\"41\"/><text fill=\"#000000\" font-family=\"sans-serif\" font-size=\"12\" font-style=\"italic\" lengthAdjust=\"spacingAndGlyphs\" textLength=\"40\" x=\"150\" y=\"57.1387\">«part»</text><text fill=\"#000000\" font-family=\"sans-serif\" font-size=\"12\" lengthAdjust=\"spacingAndGlyphs\" textLength=\"25\" x=\"157.5\" y=\"71.1074\">q: Q</text><line style=\"stroke: #383838; stroke-width: 1.5;\" x1=\"150\" x2=\"190\" y1=\"78.9375\" y2=\"78.9375\"/></a><!--MD5=[b9389687b975829384b498ac4b7476b2]\n",
       "class E8--><a href=\"psysml:d9c8c4c9-730a-472e-ad5c-9ed2548fca6c\" target=\"_top\" title=\"psysml:d9c8c4c9-730a-472e-ad5c-9ed2548fca6c\" xlink:actuate=\"onRequest\" xlink:href=\"psysml:d9c8c4c9-730a-472e-ad5c-9ed2548fca6c\" xlink:show=\"new\" xlink:title=\"psysml:d9c8c4c9-730a-472e-ad5c-9ed2548fca6c\" xlink:type=\"simple\"><rect fill=\"#FFFFFF\" height=\"59.9063\" id=\"E8\" rx=\"10\" ry=\"10\" style=\"stroke: #383838; stroke-width: 1.5;\" width=\"70\" x=\"32\" y=\"148\"/><text fill=\"#000000\" font-family=\"sans-serif\" font-size=\"12\" font-style=\"italic\" lengthAdjust=\"spacingAndGlyphs\" textLength=\"68\" x=\"33\" y=\"164.1387\">«variation»</text><text fill=\"#000000\" font-family=\"sans-serif\" font-size=\"12\" font-style=\"italic\" lengthAdjust=\"spacingAndGlyphs\" textLength=\"40\" x=\"47\" y=\"178.1074\">«part»</text><text fill=\"#000000\" font-family=\"sans-serif\" font-size=\"12\" lengthAdjust=\"spacingAndGlyphs\" textLength=\"22\" x=\"56\" y=\"192.0762\">v: P</text><line style=\"stroke: #383838; stroke-width: 1.5;\" x1=\"33\" x2=\"101\" y1=\"199.9063\" y2=\"199.9063\"/></a><!--MD5=[fd4143e9d270a159db93a4ea2a975926]\n",
       "class E9--><a href=\"psysml:29b56154-ee98-4bdd-852f-875051132018\" target=\"_top\" title=\"psysml:29b56154-ee98-4bdd-852f-875051132018\" xlink:actuate=\"onRequest\" xlink:href=\"psysml:29b56154-ee98-4bdd-852f-875051132018\" xlink:show=\"new\" xlink:title=\"psysml:29b56154-ee98-4bdd-852f-875051132018\" xlink:type=\"simple\"><rect fill=\"#FFFFFF\" height=\"88.3516\" id=\"E9\" rx=\"10\" ry=\"10\" style=\"stroke: #383838; stroke-width: 1.5;\" width=\"77\" x=\"32.5\" y=\"285\"/><text fill=\"#000000\" font-family=\"sans-serif\" font-size=\"12\" font-style=\"italic\" lengthAdjust=\"spacingAndGlyphs\" textLength=\"75\" x=\"33.5\" y=\"301.1387\">«reference»</text><text fill=\"#000000\" font-family=\"sans-serif\" font-size=\"12\" lengthAdjust=\"spacingAndGlyphs\" textLength=\"8\" x=\"67\" y=\"315.1074\">q</text><line style=\"stroke: #383838; stroke-width: 1.5;\" x1=\"33.5\" x2=\"108.5\" y1=\"322.9375\" y2=\"322.9375\"/><text fill=\"#000000\" font-family=\"sans-serif\" font-size=\"11\" lengthAdjust=\"spacingAndGlyphs\" textLength=\"23\" x=\"38.5\" y=\"353.9526\">b: B</text><text fill=\"#000000\" font-family=\"sans-serif\" font-size=\"11\" font-style=\"italic\" lengthAdjust=\"spacingAndGlyphs\" textLength=\"44\" x=\"38.5\" y=\"366.7573\">:&gt;&gt;P::a</text><line style=\"stroke: #383838; stroke-width: 1.0;\" x1=\"33.5\" x2=\"43.5\" y1=\"337.3398\" y2=\"337.3398\"/><text fill=\"#000000\" font-family=\"sans-serif\" font-size=\"11\" lengthAdjust=\"spacingAndGlyphs\" textLength=\"55\" x=\"43.5\" y=\"340.6479\">attributes</text><line style=\"stroke: #383838; stroke-width: 1.0;\" x1=\"98.5\" x2=\"108.5\" y1=\"337.3398\" y2=\"337.3398\"/></a><!--MD5=[96f4274e9e20536e775497830990834d]\n",
       "class E10--><a href=\"psysml:e49f0805-0747-4902-8d4f-55ae479a1338\" target=\"_top\" title=\"psysml:e49f0805-0747-4902-8d4f-55ae479a1338\" xlink:actuate=\"onRequest\" xlink:href=\"psysml:e49f0805-0747-4902-8d4f-55ae479a1338\" xlink:show=\"new\" xlink:title=\"psysml:e49f0805-0747-4902-8d4f-55ae479a1338\" xlink:type=\"simple\"><rect fill=\"#FFFFFF\" height=\"45.9375\" id=\"E10\" rx=\"10\" ry=\"10\" style=\"stroke: #383838; stroke-width: 1.5;\" width=\"42\" x=\"238\" y=\"155\"/><text fill=\"#000000\" font-family=\"sans-serif\" font-size=\"12\" font-style=\"italic\" lengthAdjust=\"spacingAndGlyphs\" textLength=\"40\" x=\"239\" y=\"171.1387\">«part»</text><text fill=\"#000000\" font-family=\"sans-serif\" font-size=\"12\" lengthAdjust=\"spacingAndGlyphs\" textLength=\"22\" x=\"248\" y=\"185.1074\">y: P</text><line style=\"stroke: #383838; stroke-width: 1.5;\" x1=\"239\" x2=\"279\" y1=\"192.9375\" y2=\"192.9375\"/></a><!--MD5=[05d275557350bfb9b23a4ef7222b4c39]\n",
       "link E3 to E2--><a href=\"psysml:f79594a1-bc1c-4f37-98e7-b8999b5b3daa\" target=\"_top\" title=\"psysml:f79594a1-bc1c-4f37-98e7-b8999b5b3daa\" xlink:actuate=\"onRequest\" xlink:href=\"psysml:f79594a1-bc1c-4f37-98e7-b8999b5b3daa\" xlink:show=\"new\" xlink:title=\"psysml:f79594a1-bc1c-4f37-98e7-b8999b5b3daa\" xlink:type=\"simple\"><path d=\"M174.34,201.31 C177.92,219.67 183.15,246.54 187.87,270.81 \" fill=\"none\" id=\"E3-&gt;E2\" style=\"stroke: #383838; stroke-width: 1.0;\"/><polygon fill=\"none\" points=\"194.8,269.8,191.75,290.77,181.06,272.47,194.8,269.8\" style=\"stroke: #383838; stroke-width: 1.0;\"/></a><!--MD5=[15ebcb19ae302d9b601edb458606d402]\n",
       "link E5 to E2--><a href=\"psysml:e72a8b47-cfcf-460f-abbe-f19ffcddd547\" target=\"_top\" title=\"psysml:e72a8b47-cfcf-460f-abbe-f19ffcddd547\" xlink:actuate=\"onRequest\" xlink:href=\"psysml:e72a8b47-cfcf-460f-abbe-f19ffcddd547\" xlink:show=\"new\" xlink:title=\"psysml:e72a8b47-cfcf-460f-abbe-f19ffcddd547\" xlink:type=\"simple\"><path d=\"M325.69,201.31 C304.9,222.1 273.2,253.8 246.71,280.29 \" fill=\"none\" id=\"E5-&gt;E2\" style=\"stroke: #383838; stroke-width: 1.0;\"/><polygon fill=\"none\" points=\"251.33,285.57,232.24,294.76,241.43,275.67,251.33,285.57\" style=\"stroke: #383838; stroke-width: 1.0;\"/></a><!--MD5=[9120cf2e5df3bff93db8f754bbbc09b4]\n",
       "link E5 to E6--><a href=\"psysml:d1158e90-c200-41a0-bff8-4b2e6825fa74\" target=\"_top\" title=\"psysml:d1158e90-c200-41a0-bff8-4b2e6825fa74\" xlink:actuate=\"onRequest\" xlink:href=\"psysml:d1158e90-c200-41a0-bff8-4b2e6825fa74\" xlink:show=\"new\" xlink:title=\"psysml:d1158e90-c200-41a0-bff8-4b2e6825fa74\" xlink:type=\"simple\"><path d=\"M341.72,211.26 C338.1,229.85 333.47,253.68 329.32,274.95 \" fill=\"none\" id=\"E5-E6\" style=\"stroke: #383838; stroke-width: 1.0;\"/><polygon fill=\"#383838\" points=\"327.4,284.84,331.8761,277.5623,325.987,276.4136,327.4,284.84\" style=\"stroke: #383838; stroke-width: 1.0;\"/><path d=\"M334.7699,202.7122 A9,9 0 0 0 351.3715 205.9503\" fill=\"none\" style=\"stroke: #383838; stroke-width: 1.5;\"/><text fill=\"#000000\" font-family=\"sans-serif\" font-size=\"13\" lengthAdjust=\"spacingAndGlyphs\" textLength=\"60\" x=\"337\" y=\"251.0669\">«variant»</text></a><!--MD5=[14ccda38c055a5c0da953d572bc50960]\n",
       "link E7 to E3--><a href=\"psysml:df5a11ab-14bd-474c-9e9f-2e0517640249\" target=\"_top\" title=\"psysml:df5a11ab-14bd-474c-9e9f-2e0517640249\" xlink:actuate=\"onRequest\" xlink:href=\"psysml:df5a11ab-14bd-474c-9e9f-2e0517640249\" xlink:show=\"new\" xlink:title=\"psysml:df5a11ab-14bd-474c-9e9f-2e0517640249\" xlink:type=\"simple\"><path d=\"M170,87.13 C170,100.7 170,118.53 170,134.73 \" fill=\"none\" id=\"E7-&gt;E3\" style=\"stroke: #383838; stroke-width: 1.0;\"/><polygon fill=\"#FFFFFF\" points=\"170,154.92,163,135.92,177,135.92,170,154.92\" style=\"stroke: #383838; stroke-width: 1.0;\"/><ellipse cx=\"165\" cy=\"130.22\" fill=\"#383838\" rx=\"2\" ry=\"2\" style=\"stroke: #383838; stroke-width: 1.0;\"/><ellipse cx=\"175\" cy=\"130.22\" fill=\"#383838\" rx=\"2\" ry=\"2\" style=\"stroke: #383838; stroke-width: 1.0;\"/></a><!--MD5=[f1f3f9f2fc535e6147756cb86a7f2e32]\n",
       "link E8 to E2--><a href=\"psysml:108d975b-2613-446e-8683-bfdaec0afedf\" target=\"_top\" title=\"psysml:108d975b-2613-446e-8683-bfdaec0afedf\" xlink:actuate=\"onRequest\" xlink:href=\"psysml:108d975b-2613-446e-8683-bfdaec0afedf\" xlink:show=\"new\" xlink:title=\"psysml:108d975b-2613-446e-8683-bfdaec0afedf\" xlink:type=\"simple\"><path d=\"M102.17,204.39 C114.52,214.17 128.04,225.9 139,238 C148.86,248.88 158.29,261.5 166.63,273.79 \" fill=\"none\" id=\"E8-&gt;E2\" style=\"stroke: #383838; stroke-width: 1.0;\"/><polygon fill=\"#FFFFFF\" points=\"177.64,290.73,161.4168,278.6135,173.1555,270.9844,177.64,290.73\" style=\"stroke: #383838; stroke-width: 1.0;\"/><ellipse cx=\"159.9876\" cy=\"272.7443\" fill=\"#383838\" rx=\"2\" ry=\"2\" style=\"stroke: #383838; stroke-width: 1.0;\"/><ellipse cx=\"168.3724\" cy=\"267.2949\" fill=\"#383838\" rx=\"2\" ry=\"2\" style=\"stroke: #383838; stroke-width: 1.0;\"/></a><!--MD5=[ed10624c06dd9a4fa49ccf290e8b16a8]\n",
       "link E8 to E9--><a href=\"psysml:ebcdab70-773e-42b3-a4e9-8c7478e829d7\" target=\"_top\" title=\"psysml:ebcdab70-773e-42b3-a4e9-8c7478e829d7\" xlink:actuate=\"onRequest\" xlink:href=\"psysml:ebcdab70-773e-42b3-a4e9-8c7478e829d7\" xlink:show=\"new\" xlink:title=\"psysml:ebcdab70-773e-42b3-a4e9-8c7478e829d7\" xlink:type=\"simple\"><path d=\"M68.06,218.32 C68.52,235.6 69.07,256.15 69.57,274.77 \" fill=\"none\" id=\"E8-E9\" style=\"stroke: #383838; stroke-width: 1.0;\"/><polygon fill=\"#383838\" points=\"69.84,284.88,72.6331,276.8054,66.6351,276.9599,69.84,284.88\" style=\"stroke: #383838; stroke-width: 1.0;\"/><path d=\"M59.4094,211.3865 A9,9 0 0 0 76.3176 210.9276\" fill=\"none\" style=\"stroke: #383838; stroke-width: 1.5;\"/><text fill=\"#000000\" font-family=\"sans-serif\" font-size=\"13\" lengthAdjust=\"spacingAndGlyphs\" textLength=\"60\" x=\"70\" y=\"251.0669\">«variant»</text></a><!--MD5=[0f36bececdf0dff6e600d6f64214b0f1]\n",
       "link E10 to E2--><a href=\"psysml:967d0111-ba43-4736-bbbb-a2fd42e2431e\" target=\"_top\" title=\"psysml:967d0111-ba43-4736-bbbb-a2fd42e2431e\" xlink:actuate=\"onRequest\" xlink:href=\"psysml:967d0111-ba43-4736-bbbb-a2fd42e2431e\" xlink:show=\"new\" xlink:title=\"psysml:967d0111-ba43-4736-bbbb-a2fd42e2431e\" xlink:type=\"simple\"><path d=\"M250.02,201.31 C242.51,219.95 231.48,247.35 221.59,271.91 \" fill=\"none\" id=\"E10-&gt;E2\" style=\"stroke: #383838; stroke-width: 1.0;\"/><polygon fill=\"#FFFFFF\" points=\"213.99,290.77,214.5927,270.5305,227.5796,275.7593,213.99,290.77\" style=\"stroke: #383838; stroke-width: 1.0;\"/><ellipse cx=\"218.5768\" cy=\"265.9899\" fill=\"#383838\" rx=\"2\" ry=\"2\" style=\"stroke: #383838; stroke-width: 1.0;\"/><ellipse cx=\"227.8532\" cy=\"269.7248\" fill=\"#383838\" rx=\"2\" ry=\"2\" style=\"stroke: #383838; stroke-width: 1.0;\"/></a><!--MD5=[b3dbb99be908a80fead44ebcb642739a]\n",
       "@startuml\r\n",
       " skinparam monochrome true\r\n",
       "skinparam classbackgroundcolor white\r\n",
       "skinparam shadowing false\r\n",
       "skinparam wrapWidth 300\r\n",
       "hide circle\r\n",
       "\r\n",
       "package \"VariabilityTest\" as E1  [[psysml:6fd2d067-8ada-4ea8-9732-021f5438b424 ]]  {\r\n",
       "comp def \"P\" as E2  <<(T,blue) part def>> [[psysml:06c5c105-f179-4f9c-9acd-25394b323f4d ]] {\r\n",
       "- - attributes - -\r\n",
       "a\r\n",
       "}\r\n",
       "comp def \"Q\" as E3  <<(T,blue) part def>> [[psysml:dc55669e-d547-41b4-94bf-d6c68c80b885 ]] {\r\n",
       "}\r\n",
       "comp def \"B\" as E4  <<(T,blue) attribute def>> [[psysml:18777e48-4bd6-4ac5-98df-f6aab0b7358e ]] {\r\n",
       "}\r\n",
       "comp def \"V\" as E5  <<(T,blue) part def>> [[psysml:b19cdb52-b52e-4af3-afe9-4ea29743154a ]] {\r\n",
       "}\r\n",
       "comp usage \"x: Q\" as E6  <<(T,blue) part>> [[psysml:a2bd922e-3e40-42bd-80e3-ecb5a548758e ]] {\r\n",
       "- - attributes - -\r\n",
       "b: B\\n//:>>P::a// \r\n",
       "}\r\n",
       "comp usage \"q: Q\" as E7  <<(T,blue) part>> [[psysml:84f1cc81-1e5a-4a4b-9822-237c593dc1ed ]] {\r\n",
       "}\r\n",
       "comp usage \"v: P\" as E8  <<variation>>\\n <<(T,blue) part>> [[psysml:d9c8c4c9-730a-472e-ad5c-9ed2548fca6c ]] {\r\n",
       "}\r\n",
       "comp usage \"q\" as E9  <<(T,blue) reference>> [[psysml:29b56154-ee98-4bdd-852f-875051132018 ]] {\r\n",
       "- - attributes - -\r\n",
       "b: B\\n//:>>P::a// \r\n",
       "}\r\n",
       "comp usage \"y: P\" as E10  <<(T,blue) part>> [[psysml:e49f0805-0747-4902-8d4f-55ae479a1338 ]] {\r\n",
       "}\r\n",
       "}\r\n",
       "E3 - -|> E2 [[psysml:f79594a1-bc1c-4f37-98e7-b8999b5b3daa ]] \r\n",
       "E5 - -|> E2 [[psysml:e72a8b47-cfcf-460f-abbe-f19ffcddd547 ]] \r\n",
       "E5 )- ->> E6 [[psysml:d1158e90-c200-41a0-bff8-4b2e6825fa74 ]] : <<variant>>\r\n",
       "E7 - -:|> E3 [[psysml:df5a11ab-14bd-474c-9e9f-2e0517640249 ]] \r\n",
       "E8 - -:|> E2 [[psysml:108d975b-2613-446e-8683-bfdaec0afedf ]] \r\n",
       "E8 )- ->> E9 [[psysml:ebcdab70-773e-42b3-a4e9-8c7478e829d7 ]] : <<variant>>\r\n",
       "E10 - -:|> E2 [[psysml:967d0111-ba43-4736-bbbb-a2fd42e2431e ]] \r\n",
       "@enduml\r\n",
       "\n",
       "PlantUML version 1.2020.13(Sat Jun 13 12:26:38 UTC 2020)\n",
       "(EPL source distribution)\n",
       "Java Runtime: OpenJDK Runtime Environment\n",
       "JVM: OpenJDK 64-Bit Server VM\n",
       "Default Encoding: UTF-8\n",
       "Language: en\n",
       "Country: null\n",
       "--></g></svg>"
      ]
     },
     "execution_count": 3,
     "metadata": {},
     "output_type": "execute_result"
    }
   ],
   "source": [
    "%viz --style=\"COMPTREE\" --view=\"Tree\" \"VariabilityTest\""
   ]
  },
  {
   "cell_type": "code",
   "execution_count": 4,
   "id": "dbf383c0",
   "metadata": {
    "execution": {
     "iopub.execute_input": "2021-10-03T08:28:14.148154Z",
     "iopub.status.busy": "2021-10-03T08:28:14.147724Z",
     "iopub.status.idle": "2021-10-03T08:28:14.153567Z",
     "shell.execute_reply": "2021-10-03T08:28:14.153887Z"
    }
   },
   "outputs": [
    {
     "data": {
      "image/svg+xml": [
       "<?xml version=\"1.0\" encoding=\"UTF-8\" standalone=\"no\"?><svg xmlns=\"http://www.w3.org/2000/svg\" xmlns:xlink=\"http://www.w3.org/1999/xlink\" contentScriptType=\"application/ecmascript\" contentStyleType=\"text/css\" height=\"12px\" preserveAspectRatio=\"none\" style=\"width:12px;height:12px;\" version=\"1.1\" viewBox=\"0 0 12 12\" width=\"12px\" zoomAndPan=\"magnify\"><defs/><g><!--MD5=[f19188ef49e11757b5c46753f95d9edc]\n",
       "@startuml\r\n",
       " skinparam monochrome true\r\n",
       "skinparam classbackgroundcolor white\r\n",
       "skinparam shadowing false\r\n",
       "skinparam wrapWidth 300\r\n",
       "hide circle\r\n",
       "\r\n",
       "@enduml\r\n",
       "\n",
       "PlantUML version 1.2020.13(Sat Jun 13 12:26:38 UTC 2020)\n",
       "(EPL source distribution)\n",
       "Java Runtime: OpenJDK Runtime Environment\n",
       "JVM: OpenJDK 64-Bit Server VM\n",
       "Default Encoding: UTF-8\n",
       "Language: en\n",
       "Country: null\n",
       "--></g></svg>"
      ]
     },
     "execution_count": 4,
     "metadata": {},
     "output_type": "execute_result"
    }
   ],
   "source": [
    "%viz --style=\"COMPTREE\" --view=\"State\" \"VariabilityTest\""
   ]
  },
  {
   "cell_type": "code",
   "execution_count": 5,
   "id": "26ee7f7a",
   "metadata": {
    "execution": {
     "iopub.execute_input": "2021-10-03T08:28:14.203557Z",
     "iopub.status.busy": "2021-10-03T08:28:14.203140Z",
     "iopub.status.idle": "2021-10-03T08:28:14.326079Z",
     "shell.execute_reply": "2021-10-03T08:28:14.325709Z"
    }
   },
   "outputs": [
    {
     "data": {
      "image/svg+xml": [
       "<?xml version=\"1.0\" encoding=\"UTF-8\" standalone=\"no\"?><svg xmlns=\"http://www.w3.org/2000/svg\" xmlns:xlink=\"http://www.w3.org/1999/xlink\" contentScriptType=\"application/ecmascript\" contentStyleType=\"text/css\" height=\"427px\" preserveAspectRatio=\"none\" style=\"width:783px;height:427px;\" version=\"1.1\" viewBox=\"0 0 783 427\" width=\"783px\" zoomAndPan=\"magnify\"><defs/><g><!--MD5=[fbc87193dbaf4d95561dea2c320d4a47]\n",
       "cluster E1--><a href=\"psysml:6fd2d067-8ada-4ea8-9732-021f5438b424\" target=\"_top\" title=\"psysml:6fd2d067-8ada-4ea8-9732-021f5438b424\" xlink:actuate=\"onRequest\" xlink:href=\"psysml:6fd2d067-8ada-4ea8-9732-021f5438b424\" xlink:show=\"new\" xlink:title=\"psysml:6fd2d067-8ada-4ea8-9732-021f5438b424\" xlink:type=\"simple\"><polygon fill=\"#FFFFFF\" points=\"16,6,116,6,123,28.2969,761,28.2969,761,415,16,415,16,6\" style=\"stroke: #000000; stroke-width: 1.5;\"/><line style=\"stroke: #000000; stroke-width: 1.5;\" x1=\"16\" x2=\"123\" y1=\"28.2969\" y2=\"28.2969\"/><text fill=\"#000000\" font-family=\"sans-serif\" font-size=\"14\" font-weight=\"bold\" lengthAdjust=\"spacingAndGlyphs\" textLength=\"94\" x=\"20\" y=\"20.9951\">VariabilityTest</text></a><!--MD5=[e4f7fae6ed58524ba242bb0b0d3be6b7]\n",
       "cluster E2--><a href=\"psysml:06c5c105-f179-4f9c-9acd-25394b323f4d\" target=\"_top\" title=\"psysml:06c5c105-f179-4f9c-9acd-25394b323f4d\" xlink:actuate=\"onRequest\" xlink:href=\"psysml:06c5c105-f179-4f9c-9acd-25394b323f4d\" xlink:show=\"new\" xlink:title=\"psysml:06c5c105-f179-4f9c-9acd-25394b323f4d\" xlink:type=\"simple\"><rect fill=\"#FFFFFF\" height=\"129\" id=\"E2\" style=\"stroke: #383838; stroke-width: 1.5;\" width=\"139\" x=\"424\" y=\"254\"/><rect fill=\"#F8F8F8\" height=\"37.9375\" style=\"stroke: #383838; stroke-width: 1.5;\" width=\"139\" x=\"424\" y=\"254\"/><text fill=\"#000000\" font-family=\"sans-serif\" font-size=\"12\" font-style=\"italic\" lengthAdjust=\"spacingAndGlyphs\" textLength=\"64\" x=\"461.5\" y=\"270.1387\">«part def»</text><text fill=\"#000000\" font-family=\"sans-serif\" font-size=\"12\" lengthAdjust=\"spacingAndGlyphs\" textLength=\"8\" x=\"489.5\" y=\"284.1074\">P</text></a><!--MD5=[14e3b0961a2654348d326746436168a1]\n",
       "cluster E6--><a href=\"psysml:b19cdb52-b52e-4af3-afe9-4ea29743154a\" target=\"_top\" title=\"psysml:b19cdb52-b52e-4af3-afe9-4ea29743154a\" xlink:actuate=\"onRequest\" xlink:href=\"psysml:b19cdb52-b52e-4af3-afe9-4ea29743154a\" xlink:show=\"new\" xlink:title=\"psysml:b19cdb52-b52e-4af3-afe9-4ea29743154a\" xlink:type=\"simple\"><rect fill=\"#FFFFFF\" height=\"157\" id=\"E6\" style=\"stroke: #383838; stroke-width: 1.5;\" width=\"131\" x=\"598\" y=\"57\"/><rect fill=\"#F8F8F8\" height=\"37.9375\" style=\"stroke: #383838; stroke-width: 1.5;\" width=\"131\" x=\"598\" y=\"57\"/><text fill=\"#000000\" font-family=\"sans-serif\" font-size=\"12\" font-style=\"italic\" lengthAdjust=\"spacingAndGlyphs\" textLength=\"64\" x=\"631.5\" y=\"73.1387\">«part def»</text><text fill=\"#000000\" font-family=\"sans-serif\" font-size=\"12\" lengthAdjust=\"spacingAndGlyphs\" textLength=\"8\" x=\"659.5\" y=\"87.1074\">V</text></a><!--MD5=[7f149f147074ac12df2cb0a7728a5fb0]\n",
       "cluster E9--><a href=\"psysml:d9c8c4c9-730a-472e-ad5c-9ed2548fca6c\" target=\"_top\" title=\"psysml:d9c8c4c9-730a-472e-ad5c-9ed2548fca6c\" xlink:actuate=\"onRequest\" xlink:href=\"psysml:d9c8c4c9-730a-472e-ad5c-9ed2548fca6c\" xlink:show=\"new\" xlink:title=\"psysml:d9c8c4c9-730a-472e-ad5c-9ed2548fca6c\" xlink:type=\"simple\"><rect fill=\"#FFFFFF\" height=\"139\" id=\"E9\" rx=\"10\" ry=\"10\" style=\"stroke: #383838; stroke-width: 1.5;\" width=\"110\" x=\"456\" y=\"74\"/><rect fill=\"#F8F8F8\" height=\"23.9688\" rx=\"10\" ry=\"10\" style=\"stroke: #F8F8F8; stroke-width: 1.5;\" width=\"110\" x=\"456\" y=\"74\"/><rect fill=\"#F8F8F8\" height=\"10\" style=\"stroke: #F8F8F8; stroke-width: 1.5;\" width=\"110\" x=\"456\" y=\"87.9688\"/><rect fill=\"none\" height=\"139\" id=\"E9\" rx=\"10\" ry=\"10\" style=\"stroke: #383838; stroke-width: 1.5;\" width=\"110\" x=\"456\" y=\"74\"/><text fill=\"#000000\" font-family=\"sans-serif\" font-size=\"12\" lengthAdjust=\"spacingAndGlyphs\" textLength=\"22\" x=\"500\" y=\"90.1387\">v: P</text><line style=\"stroke: #383838; stroke-width: 1.0;\" x1=\"456\" x2=\"566\" y1=\"97.9688\" y2=\"97.9688\"/></a><g id=\"E1.E5\"><a href=\"psysml:18777e48-4bd6-4ac5-98df-f6aab0b7358e\" target=\"_top\" title=\"psysml:18777e48-4bd6-4ac5-98df-f6aab0b7358e\" xlink:actuate=\"onRequest\" xlink:href=\"psysml:18777e48-4bd6-4ac5-98df-f6aab0b7358e\" xlink:show=\"new\" xlink:title=\"psysml:18777e48-4bd6-4ac5-98df-f6aab0b7358e\" xlink:type=\"simple\"><rect fill=\"#FFFFFF\" height=\"42.9375\" id=\"E5\" style=\"stroke: #383838; stroke-width: 1.5;\" width=\"100\" x=\"337\" y=\"131.5\"/><rect fill=\"#F8F8F8\" height=\"37.9375\" style=\"stroke: #383838; stroke-width: 1.5;\" width=\"100\" x=\"337\" y=\"131.5\"/><text fill=\"#000000\" font-family=\"sans-serif\" font-size=\"12\" font-style=\"italic\" lengthAdjust=\"spacingAndGlyphs\" textLength=\"93\" x=\"340.5\" y=\"147.6387\">«attribute def»</text><text fill=\"#000000\" font-family=\"sans-serif\" font-size=\"12\" lengthAdjust=\"spacingAndGlyphs\" textLength=\"8\" x=\"383\" y=\"161.6074\">B</text></a></g><!--MD5=[09b614a08d8cba4a07c9adeb5e0fee81]\n",
       "class E3--><a href=\"psysml:8d9858c1-4f67-40c3-af33-b29377a1672a\" target=\"_top\" title=\"psysml:8d9858c1-4f67-40c3-af33-b29377a1672a\" xlink:actuate=\"onRequest\" xlink:href=\"psysml:8d9858c1-4f67-40c3-af33-b29377a1672a\" xlink:show=\"new\" xlink:title=\"psysml:8d9858c1-4f67-40c3-af33-b29377a1672a\" xlink:type=\"simple\"><rect fill=\"#FFFFFF\" height=\"45.9375\" id=\"E3\" rx=\"10\" ry=\"10\" style=\"stroke: #383838; stroke-width: 1.5;\" width=\"71\" x=\"467.5\" y=\"313\"/><text fill=\"#000000\" font-family=\"sans-serif\" font-size=\"12\" font-style=\"italic\" lengthAdjust=\"spacingAndGlyphs\" textLength=\"69\" x=\"468.5\" y=\"329.1387\">«attribute»</text><text fill=\"#000000\" font-family=\"sans-serif\" font-size=\"12\" lengthAdjust=\"spacingAndGlyphs\" textLength=\"8\" x=\"499\" y=\"343.1074\">a</text><line style=\"stroke: #383838; stroke-width: 1.5;\" x1=\"468.5\" x2=\"537.5\" y1=\"350.9375\" y2=\"350.9375\"/></a><g id=\"E1.E4\"><a href=\"psysml:dc55669e-d547-41b4-94bf-d6c68c80b885\" target=\"_top\" title=\"psysml:dc55669e-d547-41b4-94bf-d6c68c80b885\" xlink:actuate=\"onRequest\" xlink:href=\"psysml:dc55669e-d547-41b4-94bf-d6c68c80b885\" xlink:show=\"new\" xlink:title=\"psysml:dc55669e-d547-41b4-94bf-d6c68c80b885\" xlink:type=\"simple\"><rect fill=\"#FFFFFF\" height=\"42.9375\" id=\"E4\" style=\"stroke: #383838; stroke-width: 1.5;\" width=\"71\" x=\"230.5\" y=\"131.5\"/><rect fill=\"#F8F8F8\" height=\"37.9375\" style=\"stroke: #383838; stroke-width: 1.5;\" width=\"71\" x=\"230.5\" y=\"131.5\"/><text fill=\"#000000\" font-family=\"sans-serif\" font-size=\"12\" font-style=\"italic\" lengthAdjust=\"spacingAndGlyphs\" textLength=\"64\" x=\"234\" y=\"147.6387\">«part def»</text><text fill=\"#000000\" font-family=\"sans-serif\" font-size=\"12\" lengthAdjust=\"spacingAndGlyphs\" textLength=\"9\" x=\"261.5\" y=\"161.6074\">Q</text></a></g><!--MD5=[2156ba9850f5573cc1fc38a6a4b2f02b]\n",
       "class E7--><a href=\"psysml:a2bd922e-3e40-42bd-80e3-ecb5a548758e\" target=\"_top\" title=\"psysml:a2bd922e-3e40-42bd-80e3-ecb5a548758e\" xlink:actuate=\"onRequest\" xlink:href=\"psysml:a2bd922e-3e40-42bd-80e3-ecb5a548758e\" xlink:show=\"new\" xlink:title=\"psysml:a2bd922e-3e40-42bd-80e3-ecb5a548758e\" xlink:type=\"simple\"><rect fill=\"#FFFFFF\" height=\"74.3828\" id=\"E7\" rx=\"10\" ry=\"10\" style=\"stroke: #383838; stroke-width: 1.5;\" width=\"63\" x=\"641.5\" y=\"116\"/><text fill=\"#000000\" font-family=\"sans-serif\" font-size=\"12\" lengthAdjust=\"spacingAndGlyphs\" textLength=\"23\" x=\"661.5\" y=\"132.1387\">x: Q</text><line style=\"stroke: #383838; stroke-width: 1.5;\" x1=\"642.5\" x2=\"703.5\" y1=\"139.9688\" y2=\"139.9688\"/><text fill=\"#000000\" font-family=\"sans-serif\" font-size=\"11\" lengthAdjust=\"spacingAndGlyphs\" textLength=\"23\" x=\"647.5\" y=\"170.9839\">b: B</text><text fill=\"#000000\" font-family=\"sans-serif\" font-size=\"11\" font-style=\"italic\" lengthAdjust=\"spacingAndGlyphs\" textLength=\"44\" x=\"647.5\" y=\"183.7886\">:&gt;&gt;P::a</text><line style=\"stroke: #383838; stroke-width: 1.0;\" x1=\"642.5\" x2=\"645.5\" y1=\"154.3711\" y2=\"154.3711\"/><text fill=\"#000000\" font-family=\"sans-serif\" font-size=\"11\" lengthAdjust=\"spacingAndGlyphs\" textLength=\"55\" x=\"645.5\" y=\"157.6792\">attributes</text><line style=\"stroke: #383838; stroke-width: 1.0;\" x1=\"700.5\" x2=\"703.5\" y1=\"154.3711\" y2=\"154.3711\"/></a><g id=\"E1.E8\"><a href=\"psysml:84f1cc81-1e5a-4a4b-9822-237c593dc1ed\" target=\"_top\" title=\"psysml:84f1cc81-1e5a-4a4b-9822-237c593dc1ed\" xlink:actuate=\"onRequest\" xlink:href=\"psysml:84f1cc81-1e5a-4a4b-9822-237c593dc1ed\" xlink:show=\"new\" xlink:title=\"psysml:84f1cc81-1e5a-4a4b-9822-237c593dc1ed\" xlink:type=\"simple\"><rect fill=\"#FFFFFF\" height=\"40\" id=\"E8\" rx=\"10\" ry=\"10\" style=\"stroke: #383838; stroke-width: 1.5;\" width=\"50\" x=\"145\" y=\"133\"/><rect fill=\"#F8F8F8\" height=\"23.9688\" rx=\"10\" ry=\"10\" style=\"stroke: #F8F8F8; stroke-width: 1.5;\" width=\"50\" x=\"145\" y=\"133\"/><rect fill=\"#F8F8F8\" height=\"10\" style=\"stroke: #F8F8F8; stroke-width: 1.5;\" width=\"50\" x=\"145\" y=\"146.9688\"/><rect fill=\"none\" height=\"40\" id=\"E8\" rx=\"10\" ry=\"10\" style=\"stroke: #383838; stroke-width: 1.5;\" width=\"50\" x=\"145\" y=\"133\"/><text fill=\"#000000\" font-family=\"sans-serif\" font-size=\"12\" lengthAdjust=\"spacingAndGlyphs\" textLength=\"25\" x=\"157.5\" y=\"149.1387\">q: Q</text></a></g><!--MD5=[96f4274e9e20536e775497830990834d]\n",
       "class E10--><a href=\"psysml:29b56154-ee98-4bdd-852f-875051132018\" target=\"_top\" title=\"psysml:29b56154-ee98-4bdd-852f-875051132018\" xlink:actuate=\"onRequest\" xlink:href=\"psysml:29b56154-ee98-4bdd-852f-875051132018\" xlink:show=\"new\" xlink:title=\"psysml:29b56154-ee98-4bdd-852f-875051132018\" xlink:type=\"simple\"><rect fill=\"#FFFFFF\" height=\"88.3516\" id=\"E10\" rx=\"10\" ry=\"10\" style=\"stroke: #383838; stroke-width: 1.5;\" width=\"77\" x=\"472.5\" y=\"109\"/><text fill=\"#000000\" font-family=\"sans-serif\" font-size=\"12\" font-style=\"italic\" lengthAdjust=\"spacingAndGlyphs\" textLength=\"75\" x=\"473.5\" y=\"125.1387\">«reference»</text><text fill=\"#000000\" font-family=\"sans-serif\" font-size=\"12\" lengthAdjust=\"spacingAndGlyphs\" textLength=\"8\" x=\"507\" y=\"139.1074\">q</text><line style=\"stroke: #383838; stroke-width: 1.5;\" x1=\"473.5\" x2=\"548.5\" y1=\"146.9375\" y2=\"146.9375\"/><text fill=\"#000000\" font-family=\"sans-serif\" font-size=\"11\" lengthAdjust=\"spacingAndGlyphs\" textLength=\"23\" x=\"478.5\" y=\"177.9526\">b: B</text><text fill=\"#000000\" font-family=\"sans-serif\" font-size=\"11\" font-style=\"italic\" lengthAdjust=\"spacingAndGlyphs\" textLength=\"44\" x=\"478.5\" y=\"190.7573\">:&gt;&gt;P::a</text><line style=\"stroke: #383838; stroke-width: 1.0;\" x1=\"473.5\" x2=\"483.5\" y1=\"161.3398\" y2=\"161.3398\"/><text fill=\"#000000\" font-family=\"sans-serif\" font-size=\"11\" lengthAdjust=\"spacingAndGlyphs\" textLength=\"55\" x=\"483.5\" y=\"164.6479\">attributes</text><line style=\"stroke: #383838; stroke-width: 1.0;\" x1=\"538.5\" x2=\"548.5\" y1=\"161.3398\" y2=\"161.3398\"/></a><g id=\"E1.E11\"><a href=\"psysml:e49f0805-0747-4902-8d4f-55ae479a1338\" target=\"_top\" title=\"psysml:e49f0805-0747-4902-8d4f-55ae479a1338\" xlink:actuate=\"onRequest\" xlink:href=\"psysml:e49f0805-0747-4902-8d4f-55ae479a1338\" xlink:show=\"new\" xlink:title=\"psysml:e49f0805-0747-4902-8d4f-55ae479a1338\" xlink:type=\"simple\"><rect fill=\"#FFFFFF\" height=\"40\" id=\"E11\" rx=\"10\" ry=\"10\" style=\"stroke: #383838; stroke-width: 1.5;\" width=\"77\" x=\"32.5\" y=\"133\"/><rect fill=\"#F8F8F8\" height=\"23.9688\" rx=\"10\" ry=\"10\" style=\"stroke: #F8F8F8; stroke-width: 1.5;\" width=\"77\" x=\"32.5\" y=\"133\"/><rect fill=\"#F8F8F8\" height=\"10\" style=\"stroke: #F8F8F8; stroke-width: 1.5;\" width=\"77\" x=\"32.5\" y=\"146.9688\"/><rect fill=\"none\" height=\"40\" id=\"E11\" rx=\"10\" ry=\"10\" style=\"stroke: #383838; stroke-width: 1.5;\" width=\"77\" x=\"32.5\" y=\"133\"/><text fill=\"#000000\" font-family=\"sans-serif\" font-size=\"12\" lengthAdjust=\"spacingAndGlyphs\" textLength=\"62\" x=\"38\" y=\"149.1387\">y: P= v::q;</text></a></g><!--MD5=[185131fc0dcab0a4505a2ebe144e961b]\n",
       "link E4 to E2--><a href=\"psysml:f79594a1-bc1c-4f37-98e7-b8999b5b3daa\" target=\"_top\" title=\"psysml:f79594a1-bc1c-4f37-98e7-b8999b5b3daa\" xlink:actuate=\"onRequest\" xlink:href=\"psysml:f79594a1-bc1c-4f37-98e7-b8999b5b3daa\" xlink:show=\"new\" xlink:title=\"psysml:f79594a1-bc1c-4f37-98e7-b8999b5b3daa\" xlink:type=\"simple\"><path d=\"M278.95,174.5 C289.29,190.29 304.57,212.32 320,230 C342.085,255.3 369.5625,281.1325 391.7738,300.8438 C402.8794,310.6994 412.6684,319.0247 419.8086,324.988 C420.7011,325.7334 421.5522,326.4419 422.3594,327.1119 C422.763,327.4468 423.1555,327.7722 423.5368,328.0877 C423.6321,328.1666 423.7267,328.2449 423.8206,328.3225 \" fill=\"none\" id=\"E4-&gt;E2\" style=\"stroke: #383838; stroke-width: 1.0;\"/><polygon fill=\"#FFFFFF\" points=\"423.8206,328.3225,413.6398,310.8196,404.7177,321.6083,423.8206,328.3225\" style=\"stroke: #383838; stroke-width: 1.0;\"/></a><!--MD5=[2351f337d6de0f557b50152ba70847b5]\n",
       "link E6 to E2--><a href=\"psysml:e72a8b47-cfcf-460f-abbe-f19ffcddd547\" target=\"_top\" title=\"psysml:e72a8b47-cfcf-460f-abbe-f19ffcddd547\" xlink:actuate=\"onRequest\" xlink:href=\"psysml:e72a8b47-cfcf-460f-abbe-f19ffcddd547\" xlink:show=\"new\" xlink:title=\"psysml:e72a8b47-cfcf-460f-abbe-f19ffcddd547\" xlink:type=\"simple\"><path d=\"M597.9695,184.2276 C597.7875,184.724 597.6019,185.2229 597.4125,185.7238 C591.3525,201.7525 581.485,219.9 566,230 C544.54,243.99 470.2,221.04 451,238 C446.9488,241.5788 443.6069,245.7455 440.8611,250.3013 C440.1747,251.4402 439.5255,252.6035 438.9118,253.788 \" fill=\"none\" id=\"E6-&gt;E2\" style=\"stroke: #383838; stroke-width: 1.0;\"/><polygon fill=\"#FFFFFF\" points=\"438.9118,253.788,453.8677,240.138,441.4371,233.6976,438.9118,253.788\" style=\"stroke: #383838; stroke-width: 1.0;\"/></a><!--MD5=[8269770b2078e9ad7f57459c9e86e727]\n",
       "@startuml\r\n",
       "skinparam ranksep 10\r\n",
       "skinparam rectangle {\r\n",
       " backgroundColor<<block>> LightGreen\r\n",
       "}\r\n",
       " skinparam monochrome true\r\n",
       "skinparam classbackgroundcolor white\r\n",
       "skinparam shadowing false\r\n",
       "skinparam wrapWidth 300\r\n",
       "hide circle\r\n",
       "\r\n",
       "package \"VariabilityTest\" as E1  [[psysml:6fd2d067-8ada-4ea8-9732-021f5438b424 ]]  {\r\n",
       "rec def \"P\" as E2  <<(T,blue) part def>> [[psysml:06c5c105-f179-4f9c-9acd-25394b323f4d ]] {\r\n",
       "comp usage \"a\" as E3  <<(T,blue) attribute>> [[psysml:8d9858c1-4f67-40c3-af33-b29377a1672a ]] {\r\n",
       "}\r\n",
       "}\r\n",
       "rec def \"Q\" as E4  <<(T,blue) part def>> [[psysml:dc55669e-d547-41b4-94bf-d6c68c80b885 ]] {\r\n",
       "}\r\n",
       "def \"B\" as E5  <<(T,blue) attribute def>> [[psysml:18777e48-4bd6-4ac5-98df-f6aab0b7358e ]] \r\n",
       "rec def \"V\" as E6  <<(T,blue) part def>> [[psysml:b19cdb52-b52e-4af3-afe9-4ea29743154a ]] {\r\n",
       "comp usage \"x: Q\" as E7  [[psysml:a2bd922e-3e40-42bd-80e3-ecb5a548758e ]] {\r\n",
       "- - attributes - -\r\n",
       "b: B\\n//:>>P::a// \r\n",
       "}\r\n",
       "}\r\n",
       "rec usage \"q: Q\" as E8  [[psysml:84f1cc81-1e5a-4a4b-9822-237c593dc1ed ]] {\r\n",
       "}\r\n",
       "rec usage \"v: P\" as E9  [[psysml:d9c8c4c9-730a-472e-ad5c-9ed2548fca6c ]] {\r\n",
       "comp usage \"q\" as E10  <<(T,blue) reference>> [[psysml:29b56154-ee98-4bdd-852f-875051132018 ]] {\r\n",
       "- - attributes - -\r\n",
       "b: B\\n//:>>P::a// \r\n",
       "}\r\n",
       "}\r\n",
       "rec usage \"y: P= v::q; \" as E11  [[psysml:e49f0805-0747-4902-8d4f-55ae479a1338 ]] {\r\n",
       "}\r\n",
       "}\r\n",
       "E4 - -|> E2 [[psysml:f79594a1-bc1c-4f37-98e7-b8999b5b3daa ]] \r\n",
       "E6 - -|> E2 [[psysml:e72a8b47-cfcf-460f-abbe-f19ffcddd547 ]] \r\n",
       "@enduml\r\n",
       "\n",
       "PlantUML version 1.2020.13(Sat Jun 13 12:26:38 UTC 2020)\n",
       "(EPL source distribution)\n",
       "Java Runtime: OpenJDK Runtime Environment\n",
       "JVM: OpenJDK 64-Bit Server VM\n",
       "Default Encoding: UTF-8\n",
       "Language: en\n",
       "Country: null\n",
       "--></g></svg>"
      ]
     },
     "execution_count": 5,
     "metadata": {},
     "output_type": "execute_result"
    }
   ],
   "source": [
    "%viz --style=\"COMPTREE\" --view=\"Interconnection\" \"VariabilityTest\""
   ]
  },
  {
   "cell_type": "code",
   "execution_count": 6,
   "id": "ecd81122",
   "metadata": {
    "execution": {
     "iopub.execute_input": "2021-10-03T08:28:14.375637Z",
     "iopub.status.busy": "2021-10-03T08:28:14.375209Z",
     "iopub.status.idle": "2021-10-03T08:28:14.383446Z",
     "shell.execute_reply": "2021-10-03T08:28:14.383771Z"
    }
   },
   "outputs": [
    {
     "data": {
      "image/svg+xml": [
       "<?xml version=\"1.0\" encoding=\"UTF-8\" standalone=\"no\"?><svg xmlns=\"http://www.w3.org/2000/svg\" xmlns:xlink=\"http://www.w3.org/1999/xlink\" contentScriptType=\"application/ecmascript\" contentStyleType=\"text/css\" height=\"12px\" preserveAspectRatio=\"none\" style=\"width:12px;height:12px;\" version=\"1.1\" viewBox=\"0 0 12 12\" width=\"12px\" zoomAndPan=\"magnify\"><defs/><g><!--MD5=[655b888544ca4751ea36af1068543f84]\n",
       "@startuml\r\n",
       "skinparam ranksep 8\r\n",
       " skinparam monochrome true\r\n",
       "skinparam classbackgroundcolor white\r\n",
       "skinparam shadowing false\r\n",
       "skinparam wrapWidth 300\r\n",
       "hide circle\r\n",
       "\r\n",
       "@enduml\r\n",
       "\n",
       "PlantUML version 1.2020.13(Sat Jun 13 12:26:38 UTC 2020)\n",
       "(EPL source distribution)\n",
       "Java Runtime: OpenJDK Runtime Environment\n",
       "JVM: OpenJDK 64-Bit Server VM\n",
       "Default Encoding: UTF-8\n",
       "Language: en\n",
       "Country: null\n",
       "--></g></svg>"
      ]
     },
     "execution_count": 6,
     "metadata": {},
     "output_type": "execute_result"
    }
   ],
   "source": [
    "%viz --style=\"COMPTREE\" --view=\"Action\" \"VariabilityTest\""
   ]
  },
  {
   "cell_type": "code",
   "execution_count": 7,
   "id": "a9ef777d",
   "metadata": {
    "execution": {
     "iopub.execute_input": "2021-10-03T08:28:14.434220Z",
     "iopub.status.busy": "2021-10-03T08:28:14.433788Z",
     "iopub.status.idle": "2021-10-03T08:28:14.447984Z",
     "shell.execute_reply": "2021-10-03T08:28:14.448305Z"
    }
   },
   "outputs": [
    {
     "data": {
      "image/svg+xml": [
       "<?xml version=\"1.0\" encoding=\"UTF-8\" standalone=\"no\"?><svg xmlns=\"http://www.w3.org/2000/svg\" xmlns:xlink=\"http://www.w3.org/1999/xlink\" contentScriptType=\"application/ecmascript\" contentStyleType=\"text/css\" height=\"12px\" preserveAspectRatio=\"none\" style=\"width:12px;height:12px;\" version=\"1.1\" viewBox=\"0 0 12 12\" width=\"12px\" zoomAndPan=\"magnify\"><defs/><g><!--MD5=[803fc46c337be7a5c8a9831e35356779]\n",
       "@startuml\r\n",
       "skinparam roundcorner 20\r\n",
       "skinparam BoxPadding 20\r\n",
       "skinparam SequenceBoxBackgroundColor #white\r\n",
       "skinparam style strictuml\r\n",
       "skinparam maxMessageSize 100\r\n",
       " skinparam monochrome true\r\n",
       "skinparam classbackgroundcolor white\r\n",
       "skinparam shadowing false\r\n",
       "skinparam wrapWidth 300\r\n",
       "hide circle\r\n",
       "\r\n",
       "@enduml\r\n",
       "\n",
       "PlantUML version 1.2020.13(Sat Jun 13 12:26:38 UTC 2020)\n",
       "(EPL source distribution)\n",
       "Java Runtime: OpenJDK Runtime Environment\n",
       "JVM: OpenJDK 64-Bit Server VM\n",
       "Default Encoding: UTF-8\n",
       "Language: en\n",
       "Country: null\n",
       "--></g></svg>"
      ]
     },
     "execution_count": 7,
     "metadata": {},
     "output_type": "execute_result"
    }
   ],
   "source": [
    "%viz --style=\"COMPTREE\" --view=\"Sequence\" \"VariabilityTest\""
   ]
  },
  {
   "cell_type": "code",
   "execution_count": 8,
   "id": "b6f45fa7",
   "metadata": {
    "execution": {
     "iopub.execute_input": "2021-10-03T08:28:14.498276Z",
     "iopub.status.busy": "2021-10-03T08:28:14.497855Z",
     "iopub.status.idle": "2021-10-03T08:28:14.601818Z",
     "shell.execute_reply": "2021-10-03T08:28:14.601448Z"
    }
   },
   "outputs": [
    {
     "data": {
      "image/svg+xml": [
       "<?xml version=\"1.0\" encoding=\"UTF-8\" standalone=\"no\"?><svg xmlns=\"http://www.w3.org/2000/svg\" xmlns:xlink=\"http://www.w3.org/1999/xlink\" contentScriptType=\"application/ecmascript\" contentStyleType=\"text/css\" height=\"401px\" preserveAspectRatio=\"none\" style=\"width:419px;height:401px;\" version=\"1.1\" viewBox=\"0 0 419 401\" width=\"419px\" zoomAndPan=\"magnify\"><defs/><g><!--MD5=[fbc87193dbaf4d95561dea2c320d4a47]\n",
       "cluster E1--><a href=\"psysml:6fd2d067-8ada-4ea8-9732-021f5438b424\" target=\"_top\" title=\"psysml:6fd2d067-8ada-4ea8-9732-021f5438b424\" xlink:actuate=\"onRequest\" xlink:href=\"psysml:6fd2d067-8ada-4ea8-9732-021f5438b424\" xlink:show=\"new\" xlink:title=\"psysml:6fd2d067-8ada-4ea8-9732-021f5438b424\" xlink:type=\"simple\"><polygon fill=\"#FFFFFF\" points=\"16,6,116,6,123,28.2969,397,28.2969,397,389,16,389,16,6\" style=\"stroke: #000000; stroke-width: 1.5;\"/><line style=\"stroke: #000000; stroke-width: 1.5;\" x1=\"16\" x2=\"123\" y1=\"28.2969\" y2=\"28.2969\"/><text fill=\"#000000\" font-family=\"sans-serif\" font-size=\"14\" font-weight=\"bold\" lengthAdjust=\"spacingAndGlyphs\" textLength=\"94\" x=\"20\" y=\"20.9951\">VariabilityTest</text></a><!--MD5=[b4997ac47864f28c2f74865a473b2911]\n",
       "class E2--><a href=\"psysml:06c5c105-f179-4f9c-9acd-25394b323f4d\" target=\"_top\" title=\"psysml:06c5c105-f179-4f9c-9acd-25394b323f4d\" xlink:actuate=\"onRequest\" xlink:href=\"psysml:06c5c105-f179-4f9c-9acd-25394b323f4d\" xlink:show=\"new\" xlink:title=\"psysml:06c5c105-f179-4f9c-9acd-25394b323f4d\" xlink:type=\"simple\"><rect fill=\"#FFFFFF\" height=\"75.5469\" id=\"E2\" style=\"stroke: #383838; stroke-width: 1.5;\" width=\"66\" x=\"166\" y=\"291\"/><text fill=\"#000000\" font-family=\"sans-serif\" font-size=\"12\" font-style=\"italic\" lengthAdjust=\"spacingAndGlyphs\" textLength=\"64\" x=\"167\" y=\"307.1387\">«part def»</text><text fill=\"#000000\" font-family=\"sans-serif\" font-size=\"12\" lengthAdjust=\"spacingAndGlyphs\" textLength=\"8\" x=\"195\" y=\"321.1074\">P</text><line style=\"stroke: #383838; stroke-width: 1.5;\" x1=\"167\" x2=\"231\" y1=\"328.9375\" y2=\"328.9375\"/><text fill=\"#000000\" font-family=\"sans-serif\" font-size=\"11\" lengthAdjust=\"spacingAndGlyphs\" textLength=\"7\" x=\"172\" y=\"359.9526\">a</text><line style=\"stroke: #383838; stroke-width: 1.0;\" x1=\"167\" x2=\"171.5\" y1=\"343.3398\" y2=\"343.3398\"/><text fill=\"#000000\" font-family=\"sans-serif\" font-size=\"11\" lengthAdjust=\"spacingAndGlyphs\" textLength=\"55\" x=\"171.5\" y=\"346.6479\">attributes</text><line style=\"stroke: #383838; stroke-width: 1.0;\" x1=\"226.5\" x2=\"231\" y1=\"343.3398\" y2=\"343.3398\"/></a><!--MD5=[09b614a08d8cba4a07c9adeb5e0fee81]\n",
       "class E3--><a href=\"psysml:dc55669e-d547-41b4-94bf-d6c68c80b885\" target=\"_top\" title=\"psysml:dc55669e-d547-41b4-94bf-d6c68c80b885\" xlink:actuate=\"onRequest\" xlink:href=\"psysml:dc55669e-d547-41b4-94bf-d6c68c80b885\" xlink:show=\"new\" xlink:title=\"psysml:dc55669e-d547-41b4-94bf-d6c68c80b885\" xlink:type=\"simple\"><rect fill=\"#FFFFFF\" height=\"45.9375\" id=\"E3\" style=\"stroke: #383838; stroke-width: 1.5;\" width=\"66\" x=\"137\" y=\"155\"/><text fill=\"#000000\" font-family=\"sans-serif\" font-size=\"12\" font-style=\"italic\" lengthAdjust=\"spacingAndGlyphs\" textLength=\"64\" x=\"138\" y=\"171.1387\">«part def»</text><text fill=\"#000000\" font-family=\"sans-serif\" font-size=\"12\" lengthAdjust=\"spacingAndGlyphs\" textLength=\"9\" x=\"165.5\" y=\"185.1074\">Q</text><line style=\"stroke: #383838; stroke-width: 1.5;\" x1=\"138\" x2=\"202\" y1=\"192.9375\" y2=\"192.9375\"/></a><!--MD5=[ebbe1d658d1005bcc118a6aa81145e00]\n",
       "class E4--><a href=\"psysml:18777e48-4bd6-4ac5-98df-f6aab0b7358e\" target=\"_top\" title=\"psysml:18777e48-4bd6-4ac5-98df-f6aab0b7358e\" xlink:actuate=\"onRequest\" xlink:href=\"psysml:18777e48-4bd6-4ac5-98df-f6aab0b7358e\" xlink:show=\"new\" xlink:title=\"psysml:18777e48-4bd6-4ac5-98df-f6aab0b7358e\" xlink:type=\"simple\"><rect fill=\"#FFFFFF\" height=\"45.9375\" id=\"E4\" style=\"stroke: #383838; stroke-width: 1.5;\" width=\"95\" x=\"255.5\" y=\"41\"/><text fill=\"#000000\" font-family=\"sans-serif\" font-size=\"12\" font-style=\"italic\" lengthAdjust=\"spacingAndGlyphs\" textLength=\"93\" x=\"256.5\" y=\"57.1387\">«attribute def»</text><text fill=\"#000000\" font-family=\"sans-serif\" font-size=\"12\" lengthAdjust=\"spacingAndGlyphs\" textLength=\"8\" x=\"299\" y=\"71.1074\">B</text><line style=\"stroke: #383838; stroke-width: 1.5;\" x1=\"256.5\" x2=\"349.5\" y1=\"78.9375\" y2=\"78.9375\"/></a><!--MD5=[270fce915f116d4de14055a7c1d9a0f3]\n",
       "class E5--><a href=\"psysml:b19cdb52-b52e-4af3-afe9-4ea29743154a\" target=\"_top\" title=\"psysml:b19cdb52-b52e-4af3-afe9-4ea29743154a\" xlink:actuate=\"onRequest\" xlink:href=\"psysml:b19cdb52-b52e-4af3-afe9-4ea29743154a\" xlink:show=\"new\" xlink:title=\"psysml:b19cdb52-b52e-4af3-afe9-4ea29743154a\" xlink:type=\"simple\"><rect fill=\"#FFFFFF\" height=\"45.9375\" id=\"E5\" style=\"stroke: #383838; stroke-width: 1.5;\" width=\"66\" x=\"315\" y=\"155\"/><text fill=\"#000000\" font-family=\"sans-serif\" font-size=\"12\" font-style=\"italic\" lengthAdjust=\"spacingAndGlyphs\" textLength=\"64\" x=\"316\" y=\"171.1387\">«part def»</text><text fill=\"#000000\" font-family=\"sans-serif\" font-size=\"12\" lengthAdjust=\"spacingAndGlyphs\" textLength=\"8\" x=\"344\" y=\"185.1074\">V</text><line style=\"stroke: #383838; stroke-width: 1.5;\" x1=\"316\" x2=\"380\" y1=\"192.9375\" y2=\"192.9375\"/></a><!--MD5=[60a26617385b1d2d0262a64233df1f8d]\n",
       "class E6--><a href=\"psysml:a2bd922e-3e40-42bd-80e3-ecb5a548758e\" target=\"_top\" title=\"psysml:a2bd922e-3e40-42bd-80e3-ecb5a548758e\" xlink:actuate=\"onRequest\" xlink:href=\"psysml:a2bd922e-3e40-42bd-80e3-ecb5a548758e\" xlink:show=\"new\" xlink:title=\"psysml:a2bd922e-3e40-42bd-80e3-ecb5a548758e\" xlink:type=\"simple\"><rect fill=\"#FFFFFF\" height=\"88.3516\" id=\"E6\" rx=\"10\" ry=\"10\" style=\"stroke: #383838; stroke-width: 1.5;\" width=\"63\" x=\"287.5\" y=\"285\"/><text fill=\"#000000\" font-family=\"sans-serif\" font-size=\"12\" font-style=\"italic\" lengthAdjust=\"spacingAndGlyphs\" textLength=\"40\" x=\"299\" y=\"301.1387\">«part»</text><text fill=\"#000000\" font-family=\"sans-serif\" font-size=\"12\" lengthAdjust=\"spacingAndGlyphs\" textLength=\"23\" x=\"307.5\" y=\"315.1074\">x: Q</text><line style=\"stroke: #383838; stroke-width: 1.5;\" x1=\"288.5\" x2=\"349.5\" y1=\"322.9375\" y2=\"322.9375\"/><text fill=\"#000000\" font-family=\"sans-serif\" font-size=\"11\" lengthAdjust=\"spacingAndGlyphs\" textLength=\"23\" x=\"293.5\" y=\"353.9526\">b: B</text><text fill=\"#000000\" font-family=\"sans-serif\" font-size=\"11\" font-style=\"italic\" lengthAdjust=\"spacingAndGlyphs\" textLength=\"44\" x=\"293.5\" y=\"366.7573\">:&gt;&gt;P::a</text><line style=\"stroke: #383838; stroke-width: 1.0;\" x1=\"288.5\" x2=\"291.5\" y1=\"337.3398\" y2=\"337.3398\"/><text fill=\"#000000\" font-family=\"sans-serif\" font-size=\"11\" lengthAdjust=\"spacingAndGlyphs\" textLength=\"55\" x=\"291.5\" y=\"340.6479\">attributes</text><line style=\"stroke: #383838; stroke-width: 1.0;\" x1=\"346.5\" x2=\"349.5\" y1=\"337.3398\" y2=\"337.3398\"/></a><!--MD5=[2156ba9850f5573cc1fc38a6a4b2f02b]\n",
       "class E7--><a href=\"psysml:84f1cc81-1e5a-4a4b-9822-237c593dc1ed\" target=\"_top\" title=\"psysml:84f1cc81-1e5a-4a4b-9822-237c593dc1ed\" xlink:actuate=\"onRequest\" xlink:href=\"psysml:84f1cc81-1e5a-4a4b-9822-237c593dc1ed\" xlink:show=\"new\" xlink:title=\"psysml:84f1cc81-1e5a-4a4b-9822-237c593dc1ed\" xlink:type=\"simple\"><rect fill=\"#FFFFFF\" height=\"45.9375\" id=\"E7\" rx=\"10\" ry=\"10\" style=\"stroke: #383838; stroke-width: 1.5;\" width=\"42\" x=\"149\" y=\"41\"/><text fill=\"#000000\" font-family=\"sans-serif\" font-size=\"12\" font-style=\"italic\" lengthAdjust=\"spacingAndGlyphs\" textLength=\"40\" x=\"150\" y=\"57.1387\">«part»</text><text fill=\"#000000\" font-family=\"sans-serif\" font-size=\"12\" lengthAdjust=\"spacingAndGlyphs\" textLength=\"25\" x=\"157.5\" y=\"71.1074\">q: Q</text><line style=\"stroke: #383838; stroke-width: 1.5;\" x1=\"150\" x2=\"190\" y1=\"78.9375\" y2=\"78.9375\"/></a><!--MD5=[b9389687b975829384b498ac4b7476b2]\n",
       "class E8--><a href=\"psysml:d9c8c4c9-730a-472e-ad5c-9ed2548fca6c\" target=\"_top\" title=\"psysml:d9c8c4c9-730a-472e-ad5c-9ed2548fca6c\" xlink:actuate=\"onRequest\" xlink:href=\"psysml:d9c8c4c9-730a-472e-ad5c-9ed2548fca6c\" xlink:show=\"new\" xlink:title=\"psysml:d9c8c4c9-730a-472e-ad5c-9ed2548fca6c\" xlink:type=\"simple\"><rect fill=\"#FFFFFF\" height=\"59.9063\" id=\"E8\" rx=\"10\" ry=\"10\" style=\"stroke: #383838; stroke-width: 1.5;\" width=\"70\" x=\"32\" y=\"148\"/><text fill=\"#000000\" font-family=\"sans-serif\" font-size=\"12\" font-style=\"italic\" lengthAdjust=\"spacingAndGlyphs\" textLength=\"68\" x=\"33\" y=\"164.1387\">«variation»</text><text fill=\"#000000\" font-family=\"sans-serif\" font-size=\"12\" font-style=\"italic\" lengthAdjust=\"spacingAndGlyphs\" textLength=\"40\" x=\"47\" y=\"178.1074\">«part»</text><text fill=\"#000000\" font-family=\"sans-serif\" font-size=\"12\" lengthAdjust=\"spacingAndGlyphs\" textLength=\"22\" x=\"56\" y=\"192.0762\">v: P</text><line style=\"stroke: #383838; stroke-width: 1.5;\" x1=\"33\" x2=\"101\" y1=\"199.9063\" y2=\"199.9063\"/></a><!--MD5=[fd4143e9d270a159db93a4ea2a975926]\n",
       "class E9--><a href=\"psysml:29b56154-ee98-4bdd-852f-875051132018\" target=\"_top\" title=\"psysml:29b56154-ee98-4bdd-852f-875051132018\" xlink:actuate=\"onRequest\" xlink:href=\"psysml:29b56154-ee98-4bdd-852f-875051132018\" xlink:show=\"new\" xlink:title=\"psysml:29b56154-ee98-4bdd-852f-875051132018\" xlink:type=\"simple\"><rect fill=\"#FFFFFF\" height=\"88.3516\" id=\"E9\" rx=\"10\" ry=\"10\" style=\"stroke: #383838; stroke-width: 1.5;\" width=\"77\" x=\"32.5\" y=\"285\"/><text fill=\"#000000\" font-family=\"sans-serif\" font-size=\"12\" font-style=\"italic\" lengthAdjust=\"spacingAndGlyphs\" textLength=\"75\" x=\"33.5\" y=\"301.1387\">«reference»</text><text fill=\"#000000\" font-family=\"sans-serif\" font-size=\"12\" lengthAdjust=\"spacingAndGlyphs\" textLength=\"8\" x=\"67\" y=\"315.1074\">q</text><line style=\"stroke: #383838; stroke-width: 1.5;\" x1=\"33.5\" x2=\"108.5\" y1=\"322.9375\" y2=\"322.9375\"/><text fill=\"#000000\" font-family=\"sans-serif\" font-size=\"11\" lengthAdjust=\"spacingAndGlyphs\" textLength=\"23\" x=\"38.5\" y=\"353.9526\">b: B</text><text fill=\"#000000\" font-family=\"sans-serif\" font-size=\"11\" font-style=\"italic\" lengthAdjust=\"spacingAndGlyphs\" textLength=\"44\" x=\"38.5\" y=\"366.7573\">:&gt;&gt;P::a</text><line style=\"stroke: #383838; stroke-width: 1.0;\" x1=\"33.5\" x2=\"43.5\" y1=\"337.3398\" y2=\"337.3398\"/><text fill=\"#000000\" font-family=\"sans-serif\" font-size=\"11\" lengthAdjust=\"spacingAndGlyphs\" textLength=\"55\" x=\"43.5\" y=\"340.6479\">attributes</text><line style=\"stroke: #383838; stroke-width: 1.0;\" x1=\"98.5\" x2=\"108.5\" y1=\"337.3398\" y2=\"337.3398\"/></a><!--MD5=[96f4274e9e20536e775497830990834d]\n",
       "class E10--><a href=\"psysml:e49f0805-0747-4902-8d4f-55ae479a1338\" target=\"_top\" title=\"psysml:e49f0805-0747-4902-8d4f-55ae479a1338\" xlink:actuate=\"onRequest\" xlink:href=\"psysml:e49f0805-0747-4902-8d4f-55ae479a1338\" xlink:show=\"new\" xlink:title=\"psysml:e49f0805-0747-4902-8d4f-55ae479a1338\" xlink:type=\"simple\"><rect fill=\"#FFFFFF\" height=\"45.9375\" id=\"E10\" rx=\"10\" ry=\"10\" style=\"stroke: #383838; stroke-width: 1.5;\" width=\"42\" x=\"238\" y=\"155\"/><text fill=\"#000000\" font-family=\"sans-serif\" font-size=\"12\" font-style=\"italic\" lengthAdjust=\"spacingAndGlyphs\" textLength=\"40\" x=\"239\" y=\"171.1387\">«part»</text><text fill=\"#000000\" font-family=\"sans-serif\" font-size=\"12\" lengthAdjust=\"spacingAndGlyphs\" textLength=\"22\" x=\"248\" y=\"185.1074\">y: P</text><line style=\"stroke: #383838; stroke-width: 1.5;\" x1=\"239\" x2=\"279\" y1=\"192.9375\" y2=\"192.9375\"/></a><!--MD5=[05d275557350bfb9b23a4ef7222b4c39]\n",
       "link E3 to E2--><a href=\"psysml:f79594a1-bc1c-4f37-98e7-b8999b5b3daa\" target=\"_top\" title=\"psysml:f79594a1-bc1c-4f37-98e7-b8999b5b3daa\" xlink:actuate=\"onRequest\" xlink:href=\"psysml:f79594a1-bc1c-4f37-98e7-b8999b5b3daa\" xlink:show=\"new\" xlink:title=\"psysml:f79594a1-bc1c-4f37-98e7-b8999b5b3daa\" xlink:type=\"simple\"><path d=\"M174.34,201.31 C177.92,219.67 183.15,246.54 187.87,270.81 \" fill=\"none\" id=\"E3-&gt;E2\" style=\"stroke: #383838; stroke-width: 1.0;\"/><polygon fill=\"none\" points=\"194.8,269.8,191.75,290.77,181.06,272.47,194.8,269.8\" style=\"stroke: #383838; stroke-width: 1.0;\"/></a><!--MD5=[15ebcb19ae302d9b601edb458606d402]\n",
       "link E5 to E2--><a href=\"psysml:e72a8b47-cfcf-460f-abbe-f19ffcddd547\" target=\"_top\" title=\"psysml:e72a8b47-cfcf-460f-abbe-f19ffcddd547\" xlink:actuate=\"onRequest\" xlink:href=\"psysml:e72a8b47-cfcf-460f-abbe-f19ffcddd547\" xlink:show=\"new\" xlink:title=\"psysml:e72a8b47-cfcf-460f-abbe-f19ffcddd547\" xlink:type=\"simple\"><path d=\"M325.69,201.31 C304.9,222.1 273.2,253.8 246.71,280.29 \" fill=\"none\" id=\"E5-&gt;E2\" style=\"stroke: #383838; stroke-width: 1.0;\"/><polygon fill=\"none\" points=\"251.33,285.57,232.24,294.76,241.43,275.67,251.33,285.57\" style=\"stroke: #383838; stroke-width: 1.0;\"/></a><!--MD5=[9120cf2e5df3bff93db8f754bbbc09b4]\n",
       "link E5 to E6--><a href=\"psysml:d1158e90-c200-41a0-bff8-4b2e6825fa74\" target=\"_top\" title=\"psysml:d1158e90-c200-41a0-bff8-4b2e6825fa74\" xlink:actuate=\"onRequest\" xlink:href=\"psysml:d1158e90-c200-41a0-bff8-4b2e6825fa74\" xlink:show=\"new\" xlink:title=\"psysml:d1158e90-c200-41a0-bff8-4b2e6825fa74\" xlink:type=\"simple\"><path d=\"M341.72,211.26 C338.1,229.85 333.47,253.68 329.32,274.95 \" fill=\"none\" id=\"E5-E6\" style=\"stroke: #383838; stroke-width: 1.0;\"/><polygon fill=\"#383838\" points=\"327.4,284.84,331.8761,277.5623,325.987,276.4136,327.4,284.84\" style=\"stroke: #383838; stroke-width: 1.0;\"/><path d=\"M334.7699,202.7122 A9,9 0 0 0 351.3715 205.9503\" fill=\"none\" style=\"stroke: #383838; stroke-width: 1.5;\"/><text fill=\"#000000\" font-family=\"sans-serif\" font-size=\"13\" lengthAdjust=\"spacingAndGlyphs\" textLength=\"60\" x=\"337\" y=\"251.0669\">«variant»</text></a><!--MD5=[14ccda38c055a5c0da953d572bc50960]\n",
       "link E7 to E3--><a href=\"psysml:df5a11ab-14bd-474c-9e9f-2e0517640249\" target=\"_top\" title=\"psysml:df5a11ab-14bd-474c-9e9f-2e0517640249\" xlink:actuate=\"onRequest\" xlink:href=\"psysml:df5a11ab-14bd-474c-9e9f-2e0517640249\" xlink:show=\"new\" xlink:title=\"psysml:df5a11ab-14bd-474c-9e9f-2e0517640249\" xlink:type=\"simple\"><path d=\"M170,87.13 C170,100.7 170,118.53 170,134.73 \" fill=\"none\" id=\"E7-&gt;E3\" style=\"stroke: #383838; stroke-width: 1.0;\"/><polygon fill=\"#FFFFFF\" points=\"170,154.92,163,135.92,177,135.92,170,154.92\" style=\"stroke: #383838; stroke-width: 1.0;\"/><ellipse cx=\"165\" cy=\"130.22\" fill=\"#383838\" rx=\"2\" ry=\"2\" style=\"stroke: #383838; stroke-width: 1.0;\"/><ellipse cx=\"175\" cy=\"130.22\" fill=\"#383838\" rx=\"2\" ry=\"2\" style=\"stroke: #383838; stroke-width: 1.0;\"/></a><!--MD5=[f1f3f9f2fc535e6147756cb86a7f2e32]\n",
       "link E8 to E2--><a href=\"psysml:108d975b-2613-446e-8683-bfdaec0afedf\" target=\"_top\" title=\"psysml:108d975b-2613-446e-8683-bfdaec0afedf\" xlink:actuate=\"onRequest\" xlink:href=\"psysml:108d975b-2613-446e-8683-bfdaec0afedf\" xlink:show=\"new\" xlink:title=\"psysml:108d975b-2613-446e-8683-bfdaec0afedf\" xlink:type=\"simple\"><path d=\"M102.17,204.39 C114.52,214.17 128.04,225.9 139,238 C148.86,248.88 158.29,261.5 166.63,273.79 \" fill=\"none\" id=\"E8-&gt;E2\" style=\"stroke: #383838; stroke-width: 1.0;\"/><polygon fill=\"#FFFFFF\" points=\"177.64,290.73,161.4168,278.6135,173.1555,270.9844,177.64,290.73\" style=\"stroke: #383838; stroke-width: 1.0;\"/><ellipse cx=\"159.9876\" cy=\"272.7443\" fill=\"#383838\" rx=\"2\" ry=\"2\" style=\"stroke: #383838; stroke-width: 1.0;\"/><ellipse cx=\"168.3724\" cy=\"267.2949\" fill=\"#383838\" rx=\"2\" ry=\"2\" style=\"stroke: #383838; stroke-width: 1.0;\"/></a><!--MD5=[ed10624c06dd9a4fa49ccf290e8b16a8]\n",
       "link E8 to E9--><a href=\"psysml:ebcdab70-773e-42b3-a4e9-8c7478e829d7\" target=\"_top\" title=\"psysml:ebcdab70-773e-42b3-a4e9-8c7478e829d7\" xlink:actuate=\"onRequest\" xlink:href=\"psysml:ebcdab70-773e-42b3-a4e9-8c7478e829d7\" xlink:show=\"new\" xlink:title=\"psysml:ebcdab70-773e-42b3-a4e9-8c7478e829d7\" xlink:type=\"simple\"><path d=\"M68.06,218.32 C68.52,235.6 69.07,256.15 69.57,274.77 \" fill=\"none\" id=\"E8-E9\" style=\"stroke: #383838; stroke-width: 1.0;\"/><polygon fill=\"#383838\" points=\"69.84,284.88,72.6331,276.8054,66.6351,276.9599,69.84,284.88\" style=\"stroke: #383838; stroke-width: 1.0;\"/><path d=\"M59.4094,211.3865 A9,9 0 0 0 76.3176 210.9276\" fill=\"none\" style=\"stroke: #383838; stroke-width: 1.5;\"/><text fill=\"#000000\" font-family=\"sans-serif\" font-size=\"13\" lengthAdjust=\"spacingAndGlyphs\" textLength=\"60\" x=\"70\" y=\"251.0669\">«variant»</text></a><!--MD5=[0f36bececdf0dff6e600d6f64214b0f1]\n",
       "link E10 to E2--><a href=\"psysml:967d0111-ba43-4736-bbbb-a2fd42e2431e\" target=\"_top\" title=\"psysml:967d0111-ba43-4736-bbbb-a2fd42e2431e\" xlink:actuate=\"onRequest\" xlink:href=\"psysml:967d0111-ba43-4736-bbbb-a2fd42e2431e\" xlink:show=\"new\" xlink:title=\"psysml:967d0111-ba43-4736-bbbb-a2fd42e2431e\" xlink:type=\"simple\"><path d=\"M250.02,201.31 C242.51,219.95 231.48,247.35 221.59,271.91 \" fill=\"none\" id=\"E10-&gt;E2\" style=\"stroke: #383838; stroke-width: 1.0;\"/><polygon fill=\"#FFFFFF\" points=\"213.99,290.77,214.5927,270.5305,227.5796,275.7593,213.99,290.77\" style=\"stroke: #383838; stroke-width: 1.0;\"/><ellipse cx=\"218.5768\" cy=\"265.9899\" fill=\"#383838\" rx=\"2\" ry=\"2\" style=\"stroke: #383838; stroke-width: 1.0;\"/><ellipse cx=\"227.8532\" cy=\"269.7248\" fill=\"#383838\" rx=\"2\" ry=\"2\" style=\"stroke: #383838; stroke-width: 1.0;\"/></a><!--MD5=[b3dbb99be908a80fead44ebcb642739a]\n",
       "@startuml\r\n",
       " skinparam monochrome true\r\n",
       "skinparam classbackgroundcolor white\r\n",
       "skinparam shadowing false\r\n",
       "skinparam wrapWidth 300\r\n",
       "hide circle\r\n",
       "\r\n",
       "package \"VariabilityTest\" as E1  [[psysml:6fd2d067-8ada-4ea8-9732-021f5438b424 ]]  {\r\n",
       "comp def \"P\" as E2  <<(T,blue) part def>> [[psysml:06c5c105-f179-4f9c-9acd-25394b323f4d ]] {\r\n",
       "- - attributes - -\r\n",
       "a\r\n",
       "}\r\n",
       "comp def \"Q\" as E3  <<(T,blue) part def>> [[psysml:dc55669e-d547-41b4-94bf-d6c68c80b885 ]] {\r\n",
       "}\r\n",
       "comp def \"B\" as E4  <<(T,blue) attribute def>> [[psysml:18777e48-4bd6-4ac5-98df-f6aab0b7358e ]] {\r\n",
       "}\r\n",
       "comp def \"V\" as E5  <<(T,blue) part def>> [[psysml:b19cdb52-b52e-4af3-afe9-4ea29743154a ]] {\r\n",
       "}\r\n",
       "comp usage \"x: Q\" as E6  <<(T,blue) part>> [[psysml:a2bd922e-3e40-42bd-80e3-ecb5a548758e ]] {\r\n",
       "- - attributes - -\r\n",
       "b: B\\n//:>>P::a// \r\n",
       "}\r\n",
       "comp usage \"q: Q\" as E7  <<(T,blue) part>> [[psysml:84f1cc81-1e5a-4a4b-9822-237c593dc1ed ]] {\r\n",
       "}\r\n",
       "comp usage \"v: P\" as E8  <<variation>>\\n <<(T,blue) part>> [[psysml:d9c8c4c9-730a-472e-ad5c-9ed2548fca6c ]] {\r\n",
       "}\r\n",
       "comp usage \"q\" as E9  <<(T,blue) reference>> [[psysml:29b56154-ee98-4bdd-852f-875051132018 ]] {\r\n",
       "- - attributes - -\r\n",
       "b: B\\n//:>>P::a// \r\n",
       "}\r\n",
       "comp usage \"y: P\" as E10  <<(T,blue) part>> [[psysml:e49f0805-0747-4902-8d4f-55ae479a1338 ]] {\r\n",
       "}\r\n",
       "}\r\n",
       "E3 - -|> E2 [[psysml:f79594a1-bc1c-4f37-98e7-b8999b5b3daa ]] \r\n",
       "E5 - -|> E2 [[psysml:e72a8b47-cfcf-460f-abbe-f19ffcddd547 ]] \r\n",
       "E5 )- ->> E6 [[psysml:d1158e90-c200-41a0-bff8-4b2e6825fa74 ]] : <<variant>>\r\n",
       "E7 - -:|> E3 [[psysml:df5a11ab-14bd-474c-9e9f-2e0517640249 ]] \r\n",
       "E8 - -:|> E2 [[psysml:108d975b-2613-446e-8683-bfdaec0afedf ]] \r\n",
       "E8 )- ->> E9 [[psysml:ebcdab70-773e-42b3-a4e9-8c7478e829d7 ]] : <<variant>>\r\n",
       "E10 - -:|> E2 [[psysml:967d0111-ba43-4736-bbbb-a2fd42e2431e ]] \r\n",
       "@enduml\r\n",
       "\n",
       "PlantUML version 1.2020.13(Sat Jun 13 12:26:38 UTC 2020)\n",
       "(EPL source distribution)\n",
       "Java Runtime: OpenJDK Runtime Environment\n",
       "JVM: OpenJDK 64-Bit Server VM\n",
       "Default Encoding: UTF-8\n",
       "Language: en\n",
       "Country: null\n",
       "--></g></svg>"
      ]
     },
     "execution_count": 8,
     "metadata": {},
     "output_type": "execute_result"
    }
   ],
   "source": [
    "%viz --style=\"COMPTREE\" --view=\"MIXED\" \"VariabilityTest\""
   ]
  },
  {
   "cell_type": "code",
   "execution_count": 9,
   "id": "5cc82562",
   "metadata": {
    "execution": {
     "iopub.execute_input": "2021-10-03T08:28:14.650778Z",
     "iopub.status.busy": "2021-10-03T08:28:14.650379Z",
     "iopub.status.idle": "2021-10-03T08:28:14.710588Z",
     "shell.execute_reply": "2021-10-03T08:28:14.710227Z"
    }
   },
   "outputs": [
    {
     "data": {
      "image/svg+xml": [
       "<?xml version=\"1.0\" encoding=\"UTF-8\" standalone=\"no\"?><svg xmlns=\"http://www.w3.org/2000/svg\" xmlns:xlink=\"http://www.w3.org/1999/xlink\" contentScriptType=\"application/ecmascript\" contentStyleType=\"text/css\" height=\"401px\" preserveAspectRatio=\"none\" style=\"width:419px;height:401px;\" version=\"1.1\" viewBox=\"0 0 419 401\" width=\"419px\" zoomAndPan=\"magnify\"><defs/><g><!--MD5=[fbc87193dbaf4d95561dea2c320d4a47]\n",
       "cluster E1--><a href=\"psysml:6fd2d067-8ada-4ea8-9732-021f5438b424\" target=\"_top\" title=\"psysml:6fd2d067-8ada-4ea8-9732-021f5438b424\" xlink:actuate=\"onRequest\" xlink:href=\"psysml:6fd2d067-8ada-4ea8-9732-021f5438b424\" xlink:show=\"new\" xlink:title=\"psysml:6fd2d067-8ada-4ea8-9732-021f5438b424\" xlink:type=\"simple\"><polygon fill=\"#FFFFFF\" points=\"16,6,116,6,123,28.2969,397,28.2969,397,389,16,389,16,6\" style=\"stroke: #000000; stroke-width: 1.5;\"/><line style=\"stroke: #000000; stroke-width: 1.5;\" x1=\"16\" x2=\"123\" y1=\"28.2969\" y2=\"28.2969\"/><text fill=\"#000000\" font-family=\"sans-serif\" font-size=\"14\" font-weight=\"bold\" lengthAdjust=\"spacingAndGlyphs\" textLength=\"94\" x=\"20\" y=\"20.9951\">VariabilityTest</text></a><!--MD5=[b4997ac47864f28c2f74865a473b2911]\n",
       "class E2--><a href=\"psysml:06c5c105-f179-4f9c-9acd-25394b323f4d\" target=\"_top\" title=\"psysml:06c5c105-f179-4f9c-9acd-25394b323f4d\" xlink:actuate=\"onRequest\" xlink:href=\"psysml:06c5c105-f179-4f9c-9acd-25394b323f4d\" xlink:show=\"new\" xlink:title=\"psysml:06c5c105-f179-4f9c-9acd-25394b323f4d\" xlink:type=\"simple\"><rect fill=\"#FFFFFF\" height=\"75.5469\" id=\"E2\" style=\"stroke: #383838; stroke-width: 1.5;\" width=\"66\" x=\"166\" y=\"291\"/><text fill=\"#000000\" font-family=\"sans-serif\" font-size=\"12\" font-style=\"italic\" lengthAdjust=\"spacingAndGlyphs\" textLength=\"64\" x=\"167\" y=\"307.1387\">«part def»</text><text fill=\"#000000\" font-family=\"sans-serif\" font-size=\"12\" lengthAdjust=\"spacingAndGlyphs\" textLength=\"8\" x=\"195\" y=\"321.1074\">P</text><line style=\"stroke: #383838; stroke-width: 1.5;\" x1=\"167\" x2=\"231\" y1=\"328.9375\" y2=\"328.9375\"/><text fill=\"#000000\" font-family=\"sans-serif\" font-size=\"11\" lengthAdjust=\"spacingAndGlyphs\" textLength=\"7\" x=\"172\" y=\"359.9526\">a</text><line style=\"stroke: #383838; stroke-width: 1.0;\" x1=\"167\" x2=\"171.5\" y1=\"343.3398\" y2=\"343.3398\"/><text fill=\"#000000\" font-family=\"sans-serif\" font-size=\"11\" lengthAdjust=\"spacingAndGlyphs\" textLength=\"55\" x=\"171.5\" y=\"346.6479\">attributes</text><line style=\"stroke: #383838; stroke-width: 1.0;\" x1=\"226.5\" x2=\"231\" y1=\"343.3398\" y2=\"343.3398\"/></a><!--MD5=[09b614a08d8cba4a07c9adeb5e0fee81]\n",
       "class E3--><a href=\"psysml:dc55669e-d547-41b4-94bf-d6c68c80b885\" target=\"_top\" title=\"psysml:dc55669e-d547-41b4-94bf-d6c68c80b885\" xlink:actuate=\"onRequest\" xlink:href=\"psysml:dc55669e-d547-41b4-94bf-d6c68c80b885\" xlink:show=\"new\" xlink:title=\"psysml:dc55669e-d547-41b4-94bf-d6c68c80b885\" xlink:type=\"simple\"><rect fill=\"#FFFFFF\" height=\"45.9375\" id=\"E3\" style=\"stroke: #383838; stroke-width: 1.5;\" width=\"66\" x=\"137\" y=\"155\"/><text fill=\"#000000\" font-family=\"sans-serif\" font-size=\"12\" font-style=\"italic\" lengthAdjust=\"spacingAndGlyphs\" textLength=\"64\" x=\"138\" y=\"171.1387\">«part def»</text><text fill=\"#000000\" font-family=\"sans-serif\" font-size=\"12\" lengthAdjust=\"spacingAndGlyphs\" textLength=\"9\" x=\"165.5\" y=\"185.1074\">Q</text><line style=\"stroke: #383838; stroke-width: 1.5;\" x1=\"138\" x2=\"202\" y1=\"192.9375\" y2=\"192.9375\"/></a><!--MD5=[ebbe1d658d1005bcc118a6aa81145e00]\n",
       "class E4--><a href=\"psysml:18777e48-4bd6-4ac5-98df-f6aab0b7358e\" target=\"_top\" title=\"psysml:18777e48-4bd6-4ac5-98df-f6aab0b7358e\" xlink:actuate=\"onRequest\" xlink:href=\"psysml:18777e48-4bd6-4ac5-98df-f6aab0b7358e\" xlink:show=\"new\" xlink:title=\"psysml:18777e48-4bd6-4ac5-98df-f6aab0b7358e\" xlink:type=\"simple\"><rect fill=\"#FFFFFF\" height=\"45.9375\" id=\"E4\" style=\"stroke: #383838; stroke-width: 1.5;\" width=\"95\" x=\"255.5\" y=\"41\"/><text fill=\"#000000\" font-family=\"sans-serif\" font-size=\"12\" font-style=\"italic\" lengthAdjust=\"spacingAndGlyphs\" textLength=\"93\" x=\"256.5\" y=\"57.1387\">«attribute def»</text><text fill=\"#000000\" font-family=\"sans-serif\" font-size=\"12\" lengthAdjust=\"spacingAndGlyphs\" textLength=\"8\" x=\"299\" y=\"71.1074\">B</text><line style=\"stroke: #383838; stroke-width: 1.5;\" x1=\"256.5\" x2=\"349.5\" y1=\"78.9375\" y2=\"78.9375\"/></a><!--MD5=[270fce915f116d4de14055a7c1d9a0f3]\n",
       "class E5--><a href=\"psysml:b19cdb52-b52e-4af3-afe9-4ea29743154a\" target=\"_top\" title=\"psysml:b19cdb52-b52e-4af3-afe9-4ea29743154a\" xlink:actuate=\"onRequest\" xlink:href=\"psysml:b19cdb52-b52e-4af3-afe9-4ea29743154a\" xlink:show=\"new\" xlink:title=\"psysml:b19cdb52-b52e-4af3-afe9-4ea29743154a\" xlink:type=\"simple\"><rect fill=\"#FFFFFF\" height=\"45.9375\" id=\"E5\" style=\"stroke: #383838; stroke-width: 1.5;\" width=\"66\" x=\"315\" y=\"155\"/><text fill=\"#000000\" font-family=\"sans-serif\" font-size=\"12\" font-style=\"italic\" lengthAdjust=\"spacingAndGlyphs\" textLength=\"64\" x=\"316\" y=\"171.1387\">«part def»</text><text fill=\"#000000\" font-family=\"sans-serif\" font-size=\"12\" lengthAdjust=\"spacingAndGlyphs\" textLength=\"8\" x=\"344\" y=\"185.1074\">V</text><line style=\"stroke: #383838; stroke-width: 1.5;\" x1=\"316\" x2=\"380\" y1=\"192.9375\" y2=\"192.9375\"/></a><!--MD5=[60a26617385b1d2d0262a64233df1f8d]\n",
       "class E6--><a href=\"psysml:a2bd922e-3e40-42bd-80e3-ecb5a548758e\" target=\"_top\" title=\"psysml:a2bd922e-3e40-42bd-80e3-ecb5a548758e\" xlink:actuate=\"onRequest\" xlink:href=\"psysml:a2bd922e-3e40-42bd-80e3-ecb5a548758e\" xlink:show=\"new\" xlink:title=\"psysml:a2bd922e-3e40-42bd-80e3-ecb5a548758e\" xlink:type=\"simple\"><rect fill=\"#FFFFFF\" height=\"88.3516\" id=\"E6\" rx=\"10\" ry=\"10\" style=\"stroke: #383838; stroke-width: 1.5;\" width=\"63\" x=\"287.5\" y=\"285\"/><text fill=\"#000000\" font-family=\"sans-serif\" font-size=\"12\" font-style=\"italic\" lengthAdjust=\"spacingAndGlyphs\" textLength=\"40\" x=\"299\" y=\"301.1387\">«part»</text><text fill=\"#000000\" font-family=\"sans-serif\" font-size=\"12\" lengthAdjust=\"spacingAndGlyphs\" textLength=\"23\" x=\"307.5\" y=\"315.1074\">x: Q</text><line style=\"stroke: #383838; stroke-width: 1.5;\" x1=\"288.5\" x2=\"349.5\" y1=\"322.9375\" y2=\"322.9375\"/><text fill=\"#000000\" font-family=\"sans-serif\" font-size=\"11\" lengthAdjust=\"spacingAndGlyphs\" textLength=\"23\" x=\"293.5\" y=\"353.9526\">b: B</text><text fill=\"#000000\" font-family=\"sans-serif\" font-size=\"11\" font-style=\"italic\" lengthAdjust=\"spacingAndGlyphs\" textLength=\"44\" x=\"293.5\" y=\"366.7573\">:&gt;&gt;P::a</text><line style=\"stroke: #383838; stroke-width: 1.0;\" x1=\"288.5\" x2=\"291.5\" y1=\"337.3398\" y2=\"337.3398\"/><text fill=\"#000000\" font-family=\"sans-serif\" font-size=\"11\" lengthAdjust=\"spacingAndGlyphs\" textLength=\"55\" x=\"291.5\" y=\"340.6479\">attributes</text><line style=\"stroke: #383838; stroke-width: 1.0;\" x1=\"346.5\" x2=\"349.5\" y1=\"337.3398\" y2=\"337.3398\"/></a><!--MD5=[2156ba9850f5573cc1fc38a6a4b2f02b]\n",
       "class E7--><a href=\"psysml:84f1cc81-1e5a-4a4b-9822-237c593dc1ed\" target=\"_top\" title=\"psysml:84f1cc81-1e5a-4a4b-9822-237c593dc1ed\" xlink:actuate=\"onRequest\" xlink:href=\"psysml:84f1cc81-1e5a-4a4b-9822-237c593dc1ed\" xlink:show=\"new\" xlink:title=\"psysml:84f1cc81-1e5a-4a4b-9822-237c593dc1ed\" xlink:type=\"simple\"><rect fill=\"#FFFFFF\" height=\"45.9375\" id=\"E7\" rx=\"10\" ry=\"10\" style=\"stroke: #383838; stroke-width: 1.5;\" width=\"42\" x=\"149\" y=\"41\"/><text fill=\"#000000\" font-family=\"sans-serif\" font-size=\"12\" font-style=\"italic\" lengthAdjust=\"spacingAndGlyphs\" textLength=\"40\" x=\"150\" y=\"57.1387\">«part»</text><text fill=\"#000000\" font-family=\"sans-serif\" font-size=\"12\" lengthAdjust=\"spacingAndGlyphs\" textLength=\"25\" x=\"157.5\" y=\"71.1074\">q: Q</text><line style=\"stroke: #383838; stroke-width: 1.5;\" x1=\"150\" x2=\"190\" y1=\"78.9375\" y2=\"78.9375\"/></a><!--MD5=[b9389687b975829384b498ac4b7476b2]\n",
       "class E8--><a href=\"psysml:d9c8c4c9-730a-472e-ad5c-9ed2548fca6c\" target=\"_top\" title=\"psysml:d9c8c4c9-730a-472e-ad5c-9ed2548fca6c\" xlink:actuate=\"onRequest\" xlink:href=\"psysml:d9c8c4c9-730a-472e-ad5c-9ed2548fca6c\" xlink:show=\"new\" xlink:title=\"psysml:d9c8c4c9-730a-472e-ad5c-9ed2548fca6c\" xlink:type=\"simple\"><rect fill=\"#FFFFFF\" height=\"59.9063\" id=\"E8\" rx=\"10\" ry=\"10\" style=\"stroke: #383838; stroke-width: 1.5;\" width=\"70\" x=\"32\" y=\"148\"/><text fill=\"#000000\" font-family=\"sans-serif\" font-size=\"12\" font-style=\"italic\" lengthAdjust=\"spacingAndGlyphs\" textLength=\"68\" x=\"33\" y=\"164.1387\">«variation»</text><text fill=\"#000000\" font-family=\"sans-serif\" font-size=\"12\" font-style=\"italic\" lengthAdjust=\"spacingAndGlyphs\" textLength=\"40\" x=\"47\" y=\"178.1074\">«part»</text><text fill=\"#000000\" font-family=\"sans-serif\" font-size=\"12\" lengthAdjust=\"spacingAndGlyphs\" textLength=\"22\" x=\"56\" y=\"192.0762\">v: P</text><line style=\"stroke: #383838; stroke-width: 1.5;\" x1=\"33\" x2=\"101\" y1=\"199.9063\" y2=\"199.9063\"/></a><!--MD5=[fd4143e9d270a159db93a4ea2a975926]\n",
       "class E9--><a href=\"psysml:29b56154-ee98-4bdd-852f-875051132018\" target=\"_top\" title=\"psysml:29b56154-ee98-4bdd-852f-875051132018\" xlink:actuate=\"onRequest\" xlink:href=\"psysml:29b56154-ee98-4bdd-852f-875051132018\" xlink:show=\"new\" xlink:title=\"psysml:29b56154-ee98-4bdd-852f-875051132018\" xlink:type=\"simple\"><rect fill=\"#FFFFFF\" height=\"88.3516\" id=\"E9\" rx=\"10\" ry=\"10\" style=\"stroke: #383838; stroke-width: 1.5;\" width=\"77\" x=\"32.5\" y=\"285\"/><text fill=\"#000000\" font-family=\"sans-serif\" font-size=\"12\" font-style=\"italic\" lengthAdjust=\"spacingAndGlyphs\" textLength=\"75\" x=\"33.5\" y=\"301.1387\">«reference»</text><text fill=\"#000000\" font-family=\"sans-serif\" font-size=\"12\" lengthAdjust=\"spacingAndGlyphs\" textLength=\"8\" x=\"67\" y=\"315.1074\">q</text><line style=\"stroke: #383838; stroke-width: 1.5;\" x1=\"33.5\" x2=\"108.5\" y1=\"322.9375\" y2=\"322.9375\"/><text fill=\"#000000\" font-family=\"sans-serif\" font-size=\"11\" lengthAdjust=\"spacingAndGlyphs\" textLength=\"23\" x=\"38.5\" y=\"353.9526\">b: B</text><text fill=\"#000000\" font-family=\"sans-serif\" font-size=\"11\" font-style=\"italic\" lengthAdjust=\"spacingAndGlyphs\" textLength=\"44\" x=\"38.5\" y=\"366.7573\">:&gt;&gt;P::a</text><line style=\"stroke: #383838; stroke-width: 1.0;\" x1=\"33.5\" x2=\"43.5\" y1=\"337.3398\" y2=\"337.3398\"/><text fill=\"#000000\" font-family=\"sans-serif\" font-size=\"11\" lengthAdjust=\"spacingAndGlyphs\" textLength=\"55\" x=\"43.5\" y=\"340.6479\">attributes</text><line style=\"stroke: #383838; stroke-width: 1.0;\" x1=\"98.5\" x2=\"108.5\" y1=\"337.3398\" y2=\"337.3398\"/></a><!--MD5=[96f4274e9e20536e775497830990834d]\n",
       "class E10--><a href=\"psysml:e49f0805-0747-4902-8d4f-55ae479a1338\" target=\"_top\" title=\"psysml:e49f0805-0747-4902-8d4f-55ae479a1338\" xlink:actuate=\"onRequest\" xlink:href=\"psysml:e49f0805-0747-4902-8d4f-55ae479a1338\" xlink:show=\"new\" xlink:title=\"psysml:e49f0805-0747-4902-8d4f-55ae479a1338\" xlink:type=\"simple\"><rect fill=\"#FFFFFF\" height=\"45.9375\" id=\"E10\" rx=\"10\" ry=\"10\" style=\"stroke: #383838; stroke-width: 1.5;\" width=\"42\" x=\"238\" y=\"155\"/><text fill=\"#000000\" font-family=\"sans-serif\" font-size=\"12\" font-style=\"italic\" lengthAdjust=\"spacingAndGlyphs\" textLength=\"40\" x=\"239\" y=\"171.1387\">«part»</text><text fill=\"#000000\" font-family=\"sans-serif\" font-size=\"12\" lengthAdjust=\"spacingAndGlyphs\" textLength=\"22\" x=\"248\" y=\"185.1074\">y: P</text><line style=\"stroke: #383838; stroke-width: 1.5;\" x1=\"239\" x2=\"279\" y1=\"192.9375\" y2=\"192.9375\"/></a><!--MD5=[05d275557350bfb9b23a4ef7222b4c39]\n",
       "link E3 to E2--><a href=\"psysml:f79594a1-bc1c-4f37-98e7-b8999b5b3daa\" target=\"_top\" title=\"psysml:f79594a1-bc1c-4f37-98e7-b8999b5b3daa\" xlink:actuate=\"onRequest\" xlink:href=\"psysml:f79594a1-bc1c-4f37-98e7-b8999b5b3daa\" xlink:show=\"new\" xlink:title=\"psysml:f79594a1-bc1c-4f37-98e7-b8999b5b3daa\" xlink:type=\"simple\"><path d=\"M174.34,201.31 C177.92,219.67 183.15,246.54 187.87,270.81 \" fill=\"none\" id=\"E3-&gt;E2\" style=\"stroke: #383838; stroke-width: 1.0;\"/><polygon fill=\"none\" points=\"194.8,269.8,191.75,290.77,181.06,272.47,194.8,269.8\" style=\"stroke: #383838; stroke-width: 1.0;\"/></a><!--MD5=[15ebcb19ae302d9b601edb458606d402]\n",
       "link E5 to E2--><a href=\"psysml:e72a8b47-cfcf-460f-abbe-f19ffcddd547\" target=\"_top\" title=\"psysml:e72a8b47-cfcf-460f-abbe-f19ffcddd547\" xlink:actuate=\"onRequest\" xlink:href=\"psysml:e72a8b47-cfcf-460f-abbe-f19ffcddd547\" xlink:show=\"new\" xlink:title=\"psysml:e72a8b47-cfcf-460f-abbe-f19ffcddd547\" xlink:type=\"simple\"><path d=\"M325.69,201.31 C304.9,222.1 273.2,253.8 246.71,280.29 \" fill=\"none\" id=\"E5-&gt;E2\" style=\"stroke: #383838; stroke-width: 1.0;\"/><polygon fill=\"none\" points=\"251.33,285.57,232.24,294.76,241.43,275.67,251.33,285.57\" style=\"stroke: #383838; stroke-width: 1.0;\"/></a><!--MD5=[9120cf2e5df3bff93db8f754bbbc09b4]\n",
       "link E5 to E6--><a href=\"psysml:d1158e90-c200-41a0-bff8-4b2e6825fa74\" target=\"_top\" title=\"psysml:d1158e90-c200-41a0-bff8-4b2e6825fa74\" xlink:actuate=\"onRequest\" xlink:href=\"psysml:d1158e90-c200-41a0-bff8-4b2e6825fa74\" xlink:show=\"new\" xlink:title=\"psysml:d1158e90-c200-41a0-bff8-4b2e6825fa74\" xlink:type=\"simple\"><path d=\"M341.72,211.26 C338.1,229.85 333.47,253.68 329.32,274.95 \" fill=\"none\" id=\"E5-E6\" style=\"stroke: #383838; stroke-width: 1.0;\"/><polygon fill=\"#383838\" points=\"327.4,284.84,331.8761,277.5623,325.987,276.4136,327.4,284.84\" style=\"stroke: #383838; stroke-width: 1.0;\"/><path d=\"M334.7699,202.7122 A9,9 0 0 0 351.3715 205.9503\" fill=\"none\" style=\"stroke: #383838; stroke-width: 1.5;\"/><text fill=\"#000000\" font-family=\"sans-serif\" font-size=\"13\" lengthAdjust=\"spacingAndGlyphs\" textLength=\"60\" x=\"337\" y=\"251.0669\">«variant»</text></a><!--MD5=[14ccda38c055a5c0da953d572bc50960]\n",
       "link E7 to E3--><a href=\"psysml:df5a11ab-14bd-474c-9e9f-2e0517640249\" target=\"_top\" title=\"psysml:df5a11ab-14bd-474c-9e9f-2e0517640249\" xlink:actuate=\"onRequest\" xlink:href=\"psysml:df5a11ab-14bd-474c-9e9f-2e0517640249\" xlink:show=\"new\" xlink:title=\"psysml:df5a11ab-14bd-474c-9e9f-2e0517640249\" xlink:type=\"simple\"><path d=\"M170,87.13 C170,100.7 170,118.53 170,134.73 \" fill=\"none\" id=\"E7-&gt;E3\" style=\"stroke: #383838; stroke-width: 1.0;\"/><polygon fill=\"#FFFFFF\" points=\"170,154.92,163,135.92,177,135.92,170,154.92\" style=\"stroke: #383838; stroke-width: 1.0;\"/><ellipse cx=\"165\" cy=\"130.22\" fill=\"#383838\" rx=\"2\" ry=\"2\" style=\"stroke: #383838; stroke-width: 1.0;\"/><ellipse cx=\"175\" cy=\"130.22\" fill=\"#383838\" rx=\"2\" ry=\"2\" style=\"stroke: #383838; stroke-width: 1.0;\"/></a><!--MD5=[f1f3f9f2fc535e6147756cb86a7f2e32]\n",
       "link E8 to E2--><a href=\"psysml:108d975b-2613-446e-8683-bfdaec0afedf\" target=\"_top\" title=\"psysml:108d975b-2613-446e-8683-bfdaec0afedf\" xlink:actuate=\"onRequest\" xlink:href=\"psysml:108d975b-2613-446e-8683-bfdaec0afedf\" xlink:show=\"new\" xlink:title=\"psysml:108d975b-2613-446e-8683-bfdaec0afedf\" xlink:type=\"simple\"><path d=\"M102.16,207.81 C120.43,222.79 139,238 139,238 C139,238 150.31,254.97 163.11,274.17 \" fill=\"none\" id=\"E8-&gt;E2\" style=\"stroke: #383838; stroke-width: 1.0;\"/><polygon fill=\"#FFFFFF\" points=\"174.25,290.87,157.884,278.9472,169.5311,271.1791,174.25,290.87\" style=\"stroke: #383838; stroke-width: 1.0;\"/><ellipse cx=\"156.3851\" cy=\"273.0954\" fill=\"#383838\" rx=\"2\" ry=\"2\" style=\"stroke: #383838; stroke-width: 1.0;\"/><ellipse cx=\"164.7045\" cy=\"267.5467\" fill=\"#383838\" rx=\"2\" ry=\"2\" style=\"stroke: #383838; stroke-width: 1.0;\"/></a><!--MD5=[ed10624c06dd9a4fa49ccf290e8b16a8]\n",
       "link E8 to E9--><a href=\"psysml:ebcdab70-773e-42b3-a4e9-8c7478e829d7\" target=\"_top\" title=\"psysml:ebcdab70-773e-42b3-a4e9-8c7478e829d7\" xlink:actuate=\"onRequest\" xlink:href=\"psysml:ebcdab70-773e-42b3-a4e9-8c7478e829d7\" xlink:show=\"new\" xlink:title=\"psysml:ebcdab70-773e-42b3-a4e9-8c7478e829d7\" xlink:type=\"simple\"><path d=\"M68.06,218.32 C68.52,235.6 69.07,256.15 69.57,274.77 \" fill=\"none\" id=\"E8-E9\" style=\"stroke: #383838; stroke-width: 1.0;\"/><polygon fill=\"#383838\" points=\"69.84,284.88,72.6331,276.8054,66.6351,276.9599,69.84,284.88\" style=\"stroke: #383838; stroke-width: 1.0;\"/><path d=\"M59.4094,211.3865 A9,9 0 0 0 76.3176 210.9276\" fill=\"none\" style=\"stroke: #383838; stroke-width: 1.5;\"/><text fill=\"#000000\" font-family=\"sans-serif\" font-size=\"13\" lengthAdjust=\"spacingAndGlyphs\" textLength=\"60\" x=\"70\" y=\"251.0669\">«variant»</text></a><!--MD5=[0f36bececdf0dff6e600d6f64214b0f1]\n",
       "link E10 to E2--><a href=\"psysml:967d0111-ba43-4736-bbbb-a2fd42e2431e\" target=\"_top\" title=\"psysml:967d0111-ba43-4736-bbbb-a2fd42e2431e\" xlink:actuate=\"onRequest\" xlink:href=\"psysml:967d0111-ba43-4736-bbbb-a2fd42e2431e\" xlink:show=\"new\" xlink:title=\"psysml:967d0111-ba43-4736-bbbb-a2fd42e2431e\" xlink:type=\"simple\"><path d=\"M250.02,201.31 C242.51,219.95 231.48,247.35 221.59,271.91 \" fill=\"none\" id=\"E10-&gt;E2\" style=\"stroke: #383838; stroke-width: 1.0;\"/><polygon fill=\"#FFFFFF\" points=\"213.99,290.77,214.5927,270.5305,227.5796,275.7593,213.99,290.77\" style=\"stroke: #383838; stroke-width: 1.0;\"/><ellipse cx=\"218.5768\" cy=\"265.9899\" fill=\"#383838\" rx=\"2\" ry=\"2\" style=\"stroke: #383838; stroke-width: 1.0;\"/><ellipse cx=\"227.8532\" cy=\"269.7248\" fill=\"#383838\" rx=\"2\" ry=\"2\" style=\"stroke: #383838; stroke-width: 1.0;\"/></a><!--MD5=[c486546f04b0ba7ba167be7a08282ee9]\n",
       "@startuml\r\n",
       "skinparam linetype polyline\r\n",
       "skinparam monochrome true\r\n",
       "skinparam classbackgroundcolor white\r\n",
       "skinparam shadowing false\r\n",
       "skinparam wrapWidth 300\r\n",
       "hide circle\r\n",
       "\r\n",
       "package \"VariabilityTest\" as E1  [[psysml:6fd2d067-8ada-4ea8-9732-021f5438b424 ]]  {\r\n",
       "comp def \"P\" as E2  <<(T,blue) part def>> [[psysml:06c5c105-f179-4f9c-9acd-25394b323f4d ]] {\r\n",
       "- - attributes - -\r\n",
       "a\r\n",
       "}\r\n",
       "comp def \"Q\" as E3  <<(T,blue) part def>> [[psysml:dc55669e-d547-41b4-94bf-d6c68c80b885 ]] {\r\n",
       "}\r\n",
       "comp def \"B\" as E4  <<(T,blue) attribute def>> [[psysml:18777e48-4bd6-4ac5-98df-f6aab0b7358e ]] {\r\n",
       "}\r\n",
       "comp def \"V\" as E5  <<(T,blue) part def>> [[psysml:b19cdb52-b52e-4af3-afe9-4ea29743154a ]] {\r\n",
       "}\r\n",
       "comp usage \"x: Q\" as E6  <<(T,blue) part>> [[psysml:a2bd922e-3e40-42bd-80e3-ecb5a548758e ]] {\r\n",
       "- - attributes - -\r\n",
       "b: B\\n//:>>P::a// \r\n",
       "}\r\n",
       "comp usage \"q: Q\" as E7  <<(T,blue) part>> [[psysml:84f1cc81-1e5a-4a4b-9822-237c593dc1ed ]] {\r\n",
       "}\r\n",
       "comp usage \"v: P\" as E8  <<variation>>\\n <<(T,blue) part>> [[psysml:d9c8c4c9-730a-472e-ad5c-9ed2548fca6c ]] {\r\n",
       "}\r\n",
       "comp usage \"q\" as E9  <<(T,blue) reference>> [[psysml:29b56154-ee98-4bdd-852f-875051132018 ]] {\r\n",
       "- - attributes - -\r\n",
       "b: B\\n//:>>P::a// \r\n",
       "}\r\n",
       "comp usage \"y: P\" as E10  <<(T,blue) part>> [[psysml:e49f0805-0747-4902-8d4f-55ae479a1338 ]] {\r\n",
       "}\r\n",
       "}\r\n",
       "E3 - -|> E2 [[psysml:f79594a1-bc1c-4f37-98e7-b8999b5b3daa ]] \r\n",
       "E5 - -|> E2 [[psysml:e72a8b47-cfcf-460f-abbe-f19ffcddd547 ]] \r\n",
       "E5 )- ->> E6 [[psysml:d1158e90-c200-41a0-bff8-4b2e6825fa74 ]] : <<variant>>\r\n",
       "E7 - -:|> E3 [[psysml:df5a11ab-14bd-474c-9e9f-2e0517640249 ]] \r\n",
       "E8 - -:|> E2 [[psysml:108d975b-2613-446e-8683-bfdaec0afedf ]] \r\n",
       "E8 )- ->> E9 [[psysml:ebcdab70-773e-42b3-a4e9-8c7478e829d7 ]] : <<variant>>\r\n",
       "E10 - -:|> E2 [[psysml:967d0111-ba43-4736-bbbb-a2fd42e2431e ]] \r\n",
       "@enduml\r\n",
       "\n",
       "PlantUML version 1.2020.13(Sat Jun 13 12:26:38 UTC 2020)\n",
       "(EPL source distribution)\n",
       "Java Runtime: OpenJDK Runtime Environment\n",
       "JVM: OpenJDK 64-Bit Server VM\n",
       "Default Encoding: UTF-8\n",
       "Language: en\n",
       "Country: null\n",
       "--></g></svg>"
      ]
     },
     "execution_count": 9,
     "metadata": {},
     "output_type": "execute_result"
    }
   ],
   "source": [
    "%viz --style=\"POLYLINE\" --view=\"Default\" \"VariabilityTest\""
   ]
  },
  {
   "cell_type": "code",
   "execution_count": 10,
   "id": "2c2e1d66",
   "metadata": {
    "execution": {
     "iopub.execute_input": "2021-10-03T08:28:14.759711Z",
     "iopub.status.busy": "2021-10-03T08:28:14.759303Z",
     "iopub.status.idle": "2021-10-03T08:28:14.851171Z",
     "shell.execute_reply": "2021-10-03T08:28:14.849288Z"
    }
   },
   "outputs": [
    {
     "data": {
      "image/svg+xml": [
       "<?xml version=\"1.0\" encoding=\"UTF-8\" standalone=\"no\"?><svg xmlns=\"http://www.w3.org/2000/svg\" xmlns:xlink=\"http://www.w3.org/1999/xlink\" contentScriptType=\"application/ecmascript\" contentStyleType=\"text/css\" height=\"401px\" preserveAspectRatio=\"none\" style=\"width:419px;height:401px;\" version=\"1.1\" viewBox=\"0 0 419 401\" width=\"419px\" zoomAndPan=\"magnify\"><defs/><g><!--MD5=[fbc87193dbaf4d95561dea2c320d4a47]\n",
       "cluster E1--><a href=\"psysml:6fd2d067-8ada-4ea8-9732-021f5438b424\" target=\"_top\" title=\"psysml:6fd2d067-8ada-4ea8-9732-021f5438b424\" xlink:actuate=\"onRequest\" xlink:href=\"psysml:6fd2d067-8ada-4ea8-9732-021f5438b424\" xlink:show=\"new\" xlink:title=\"psysml:6fd2d067-8ada-4ea8-9732-021f5438b424\" xlink:type=\"simple\"><polygon fill=\"#FFFFFF\" points=\"16,6,116,6,123,28.2969,397,28.2969,397,389,16,389,16,6\" style=\"stroke: #000000; stroke-width: 1.5;\"/><line style=\"stroke: #000000; stroke-width: 1.5;\" x1=\"16\" x2=\"123\" y1=\"28.2969\" y2=\"28.2969\"/><text fill=\"#000000\" font-family=\"sans-serif\" font-size=\"14\" font-weight=\"bold\" lengthAdjust=\"spacingAndGlyphs\" textLength=\"94\" x=\"20\" y=\"20.9951\">VariabilityTest</text></a><!--MD5=[b4997ac47864f28c2f74865a473b2911]\n",
       "class E2--><a href=\"psysml:06c5c105-f179-4f9c-9acd-25394b323f4d\" target=\"_top\" title=\"psysml:06c5c105-f179-4f9c-9acd-25394b323f4d\" xlink:actuate=\"onRequest\" xlink:href=\"psysml:06c5c105-f179-4f9c-9acd-25394b323f4d\" xlink:show=\"new\" xlink:title=\"psysml:06c5c105-f179-4f9c-9acd-25394b323f4d\" xlink:type=\"simple\"><rect fill=\"#FFFFFF\" height=\"75.5469\" id=\"E2\" style=\"stroke: #383838; stroke-width: 1.5;\" width=\"66\" x=\"166\" y=\"291\"/><text fill=\"#000000\" font-family=\"sans-serif\" font-size=\"12\" font-style=\"italic\" lengthAdjust=\"spacingAndGlyphs\" textLength=\"64\" x=\"167\" y=\"307.1387\">«part def»</text><text fill=\"#000000\" font-family=\"sans-serif\" font-size=\"12\" lengthAdjust=\"spacingAndGlyphs\" textLength=\"8\" x=\"195\" y=\"321.1074\">P</text><line style=\"stroke: #383838; stroke-width: 1.5;\" x1=\"167\" x2=\"231\" y1=\"328.9375\" y2=\"328.9375\"/><text fill=\"#000000\" font-family=\"sans-serif\" font-size=\"11\" lengthAdjust=\"spacingAndGlyphs\" textLength=\"7\" x=\"172\" y=\"359.9526\">a</text><line style=\"stroke: #383838; stroke-width: 1.0;\" x1=\"167\" x2=\"171.5\" y1=\"343.3398\" y2=\"343.3398\"/><text fill=\"#000000\" font-family=\"sans-serif\" font-size=\"11\" lengthAdjust=\"spacingAndGlyphs\" textLength=\"55\" x=\"171.5\" y=\"346.6479\">attributes</text><line style=\"stroke: #383838; stroke-width: 1.0;\" x1=\"226.5\" x2=\"231\" y1=\"343.3398\" y2=\"343.3398\"/></a><!--MD5=[09b614a08d8cba4a07c9adeb5e0fee81]\n",
       "class E3--><a href=\"psysml:dc55669e-d547-41b4-94bf-d6c68c80b885\" target=\"_top\" title=\"psysml:dc55669e-d547-41b4-94bf-d6c68c80b885\" xlink:actuate=\"onRequest\" xlink:href=\"psysml:dc55669e-d547-41b4-94bf-d6c68c80b885\" xlink:show=\"new\" xlink:title=\"psysml:dc55669e-d547-41b4-94bf-d6c68c80b885\" xlink:type=\"simple\"><rect fill=\"#FFFFFF\" height=\"45.9375\" id=\"E3\" style=\"stroke: #383838; stroke-width: 1.5;\" width=\"66\" x=\"137\" y=\"155\"/><text fill=\"#000000\" font-family=\"sans-serif\" font-size=\"12\" font-style=\"italic\" lengthAdjust=\"spacingAndGlyphs\" textLength=\"64\" x=\"138\" y=\"171.1387\">«part def»</text><text fill=\"#000000\" font-family=\"sans-serif\" font-size=\"12\" lengthAdjust=\"spacingAndGlyphs\" textLength=\"9\" x=\"165.5\" y=\"185.1074\">Q</text><line style=\"stroke: #383838; stroke-width: 1.5;\" x1=\"138\" x2=\"202\" y1=\"192.9375\" y2=\"192.9375\"/></a><!--MD5=[ebbe1d658d1005bcc118a6aa81145e00]\n",
       "class E4--><a href=\"psysml:18777e48-4bd6-4ac5-98df-f6aab0b7358e\" target=\"_top\" title=\"psysml:18777e48-4bd6-4ac5-98df-f6aab0b7358e\" xlink:actuate=\"onRequest\" xlink:href=\"psysml:18777e48-4bd6-4ac5-98df-f6aab0b7358e\" xlink:show=\"new\" xlink:title=\"psysml:18777e48-4bd6-4ac5-98df-f6aab0b7358e\" xlink:type=\"simple\"><rect fill=\"#FFFFFF\" height=\"45.9375\" id=\"E4\" style=\"stroke: #383838; stroke-width: 1.5;\" width=\"95\" x=\"255.5\" y=\"41\"/><text fill=\"#000000\" font-family=\"sans-serif\" font-size=\"12\" font-style=\"italic\" lengthAdjust=\"spacingAndGlyphs\" textLength=\"93\" x=\"256.5\" y=\"57.1387\">«attribute def»</text><text fill=\"#000000\" font-family=\"sans-serif\" font-size=\"12\" lengthAdjust=\"spacingAndGlyphs\" textLength=\"8\" x=\"299\" y=\"71.1074\">B</text><line style=\"stroke: #383838; stroke-width: 1.5;\" x1=\"256.5\" x2=\"349.5\" y1=\"78.9375\" y2=\"78.9375\"/></a><!--MD5=[270fce915f116d4de14055a7c1d9a0f3]\n",
       "class E5--><a href=\"psysml:b19cdb52-b52e-4af3-afe9-4ea29743154a\" target=\"_top\" title=\"psysml:b19cdb52-b52e-4af3-afe9-4ea29743154a\" xlink:actuate=\"onRequest\" xlink:href=\"psysml:b19cdb52-b52e-4af3-afe9-4ea29743154a\" xlink:show=\"new\" xlink:title=\"psysml:b19cdb52-b52e-4af3-afe9-4ea29743154a\" xlink:type=\"simple\"><rect fill=\"#FFFFFF\" height=\"45.9375\" id=\"E5\" style=\"stroke: #383838; stroke-width: 1.5;\" width=\"66\" x=\"315\" y=\"155\"/><text fill=\"#000000\" font-family=\"sans-serif\" font-size=\"12\" font-style=\"italic\" lengthAdjust=\"spacingAndGlyphs\" textLength=\"64\" x=\"316\" y=\"171.1387\">«part def»</text><text fill=\"#000000\" font-family=\"sans-serif\" font-size=\"12\" lengthAdjust=\"spacingAndGlyphs\" textLength=\"8\" x=\"344\" y=\"185.1074\">V</text><line style=\"stroke: #383838; stroke-width: 1.5;\" x1=\"316\" x2=\"380\" y1=\"192.9375\" y2=\"192.9375\"/></a><!--MD5=[60a26617385b1d2d0262a64233df1f8d]\n",
       "class E6--><a href=\"psysml:a2bd922e-3e40-42bd-80e3-ecb5a548758e\" target=\"_top\" title=\"psysml:a2bd922e-3e40-42bd-80e3-ecb5a548758e\" xlink:actuate=\"onRequest\" xlink:href=\"psysml:a2bd922e-3e40-42bd-80e3-ecb5a548758e\" xlink:show=\"new\" xlink:title=\"psysml:a2bd922e-3e40-42bd-80e3-ecb5a548758e\" xlink:type=\"simple\"><rect fill=\"#FFFFFF\" height=\"88.3516\" id=\"E6\" rx=\"10\" ry=\"10\" style=\"stroke: #383838; stroke-width: 1.5;\" width=\"63\" x=\"287.5\" y=\"285\"/><text fill=\"#000000\" font-family=\"sans-serif\" font-size=\"12\" font-style=\"italic\" lengthAdjust=\"spacingAndGlyphs\" textLength=\"40\" x=\"299\" y=\"301.1387\">«part»</text><text fill=\"#000000\" font-family=\"sans-serif\" font-size=\"12\" lengthAdjust=\"spacingAndGlyphs\" textLength=\"23\" x=\"307.5\" y=\"315.1074\">x: Q</text><line style=\"stroke: #383838; stroke-width: 1.5;\" x1=\"288.5\" x2=\"349.5\" y1=\"322.9375\" y2=\"322.9375\"/><text fill=\"#000000\" font-family=\"sans-serif\" font-size=\"11\" lengthAdjust=\"spacingAndGlyphs\" textLength=\"23\" x=\"293.5\" y=\"353.9526\">b: B</text><text fill=\"#000000\" font-family=\"sans-serif\" font-size=\"11\" font-style=\"italic\" lengthAdjust=\"spacingAndGlyphs\" textLength=\"44\" x=\"293.5\" y=\"366.7573\">:&gt;&gt;P::a</text><line style=\"stroke: #383838; stroke-width: 1.0;\" x1=\"288.5\" x2=\"291.5\" y1=\"337.3398\" y2=\"337.3398\"/><text fill=\"#000000\" font-family=\"sans-serif\" font-size=\"11\" lengthAdjust=\"spacingAndGlyphs\" textLength=\"55\" x=\"291.5\" y=\"340.6479\">attributes</text><line style=\"stroke: #383838; stroke-width: 1.0;\" x1=\"346.5\" x2=\"349.5\" y1=\"337.3398\" y2=\"337.3398\"/></a><!--MD5=[2156ba9850f5573cc1fc38a6a4b2f02b]\n",
       "class E7--><a href=\"psysml:84f1cc81-1e5a-4a4b-9822-237c593dc1ed\" target=\"_top\" title=\"psysml:84f1cc81-1e5a-4a4b-9822-237c593dc1ed\" xlink:actuate=\"onRequest\" xlink:href=\"psysml:84f1cc81-1e5a-4a4b-9822-237c593dc1ed\" xlink:show=\"new\" xlink:title=\"psysml:84f1cc81-1e5a-4a4b-9822-237c593dc1ed\" xlink:type=\"simple\"><rect fill=\"#FFFFFF\" height=\"45.9375\" id=\"E7\" rx=\"10\" ry=\"10\" style=\"stroke: #383838; stroke-width: 1.5;\" width=\"42\" x=\"149\" y=\"41\"/><text fill=\"#000000\" font-family=\"sans-serif\" font-size=\"12\" font-style=\"italic\" lengthAdjust=\"spacingAndGlyphs\" textLength=\"40\" x=\"150\" y=\"57.1387\">«part»</text><text fill=\"#000000\" font-family=\"sans-serif\" font-size=\"12\" lengthAdjust=\"spacingAndGlyphs\" textLength=\"25\" x=\"157.5\" y=\"71.1074\">q: Q</text><line style=\"stroke: #383838; stroke-width: 1.5;\" x1=\"150\" x2=\"190\" y1=\"78.9375\" y2=\"78.9375\"/></a><!--MD5=[b9389687b975829384b498ac4b7476b2]\n",
       "class E8--><a href=\"psysml:d9c8c4c9-730a-472e-ad5c-9ed2548fca6c\" target=\"_top\" title=\"psysml:d9c8c4c9-730a-472e-ad5c-9ed2548fca6c\" xlink:actuate=\"onRequest\" xlink:href=\"psysml:d9c8c4c9-730a-472e-ad5c-9ed2548fca6c\" xlink:show=\"new\" xlink:title=\"psysml:d9c8c4c9-730a-472e-ad5c-9ed2548fca6c\" xlink:type=\"simple\"><rect fill=\"#FFFFFF\" height=\"59.9063\" id=\"E8\" rx=\"10\" ry=\"10\" style=\"stroke: #383838; stroke-width: 1.5;\" width=\"70\" x=\"32\" y=\"148\"/><text fill=\"#000000\" font-family=\"sans-serif\" font-size=\"12\" font-style=\"italic\" lengthAdjust=\"spacingAndGlyphs\" textLength=\"68\" x=\"33\" y=\"164.1387\">«variation»</text><text fill=\"#000000\" font-family=\"sans-serif\" font-size=\"12\" font-style=\"italic\" lengthAdjust=\"spacingAndGlyphs\" textLength=\"40\" x=\"47\" y=\"178.1074\">«part»</text><text fill=\"#000000\" font-family=\"sans-serif\" font-size=\"12\" lengthAdjust=\"spacingAndGlyphs\" textLength=\"22\" x=\"56\" y=\"192.0762\">v: P</text><line style=\"stroke: #383838; stroke-width: 1.5;\" x1=\"33\" x2=\"101\" y1=\"199.9063\" y2=\"199.9063\"/></a><!--MD5=[fd4143e9d270a159db93a4ea2a975926]\n",
       "class E9--><a href=\"psysml:29b56154-ee98-4bdd-852f-875051132018\" target=\"_top\" title=\"psysml:29b56154-ee98-4bdd-852f-875051132018\" xlink:actuate=\"onRequest\" xlink:href=\"psysml:29b56154-ee98-4bdd-852f-875051132018\" xlink:show=\"new\" xlink:title=\"psysml:29b56154-ee98-4bdd-852f-875051132018\" xlink:type=\"simple\"><rect fill=\"#FFFFFF\" height=\"88.3516\" id=\"E9\" rx=\"10\" ry=\"10\" style=\"stroke: #383838; stroke-width: 1.5;\" width=\"77\" x=\"32.5\" y=\"285\"/><text fill=\"#000000\" font-family=\"sans-serif\" font-size=\"12\" font-style=\"italic\" lengthAdjust=\"spacingAndGlyphs\" textLength=\"75\" x=\"33.5\" y=\"301.1387\">«reference»</text><text fill=\"#000000\" font-family=\"sans-serif\" font-size=\"12\" lengthAdjust=\"spacingAndGlyphs\" textLength=\"8\" x=\"67\" y=\"315.1074\">q</text><line style=\"stroke: #383838; stroke-width: 1.5;\" x1=\"33.5\" x2=\"108.5\" y1=\"322.9375\" y2=\"322.9375\"/><text fill=\"#000000\" font-family=\"sans-serif\" font-size=\"11\" lengthAdjust=\"spacingAndGlyphs\" textLength=\"23\" x=\"38.5\" y=\"353.9526\">b: B</text><text fill=\"#000000\" font-family=\"sans-serif\" font-size=\"11\" font-style=\"italic\" lengthAdjust=\"spacingAndGlyphs\" textLength=\"44\" x=\"38.5\" y=\"366.7573\">:&gt;&gt;P::a</text><line style=\"stroke: #383838; stroke-width: 1.0;\" x1=\"33.5\" x2=\"43.5\" y1=\"337.3398\" y2=\"337.3398\"/><text fill=\"#000000\" font-family=\"sans-serif\" font-size=\"11\" lengthAdjust=\"spacingAndGlyphs\" textLength=\"55\" x=\"43.5\" y=\"340.6479\">attributes</text><line style=\"stroke: #383838; stroke-width: 1.0;\" x1=\"98.5\" x2=\"108.5\" y1=\"337.3398\" y2=\"337.3398\"/></a><!--MD5=[96f4274e9e20536e775497830990834d]\n",
       "class E10--><a href=\"psysml:e49f0805-0747-4902-8d4f-55ae479a1338\" target=\"_top\" title=\"psysml:e49f0805-0747-4902-8d4f-55ae479a1338\" xlink:actuate=\"onRequest\" xlink:href=\"psysml:e49f0805-0747-4902-8d4f-55ae479a1338\" xlink:show=\"new\" xlink:title=\"psysml:e49f0805-0747-4902-8d4f-55ae479a1338\" xlink:type=\"simple\"><rect fill=\"#FFFFFF\" height=\"45.9375\" id=\"E10\" rx=\"10\" ry=\"10\" style=\"stroke: #383838; stroke-width: 1.5;\" width=\"42\" x=\"238\" y=\"155\"/><text fill=\"#000000\" font-family=\"sans-serif\" font-size=\"12\" font-style=\"italic\" lengthAdjust=\"spacingAndGlyphs\" textLength=\"40\" x=\"239\" y=\"171.1387\">«part»</text><text fill=\"#000000\" font-family=\"sans-serif\" font-size=\"12\" lengthAdjust=\"spacingAndGlyphs\" textLength=\"22\" x=\"248\" y=\"185.1074\">y: P</text><line style=\"stroke: #383838; stroke-width: 1.5;\" x1=\"239\" x2=\"279\" y1=\"192.9375\" y2=\"192.9375\"/></a><!--MD5=[05d275557350bfb9b23a4ef7222b4c39]\n",
       "link E3 to E2--><a href=\"psysml:f79594a1-bc1c-4f37-98e7-b8999b5b3daa\" target=\"_top\" title=\"psysml:f79594a1-bc1c-4f37-98e7-b8999b5b3daa\" xlink:actuate=\"onRequest\" xlink:href=\"psysml:f79594a1-bc1c-4f37-98e7-b8999b5b3daa\" xlink:show=\"new\" xlink:title=\"psysml:f79594a1-bc1c-4f37-98e7-b8999b5b3daa\" xlink:type=\"simple\"><path d=\"M174.34,201.31 C177.92,219.67 183.15,246.54 187.87,270.81 \" fill=\"none\" id=\"E3-&gt;E2\" style=\"stroke: #383838; stroke-width: 1.0;\"/><polygon fill=\"none\" points=\"194.8,269.8,191.75,290.77,181.06,272.47,194.8,269.8\" style=\"stroke: #383838; stroke-width: 1.0;\"/></a><!--MD5=[15ebcb19ae302d9b601edb458606d402]\n",
       "link E5 to E2--><a href=\"psysml:e72a8b47-cfcf-460f-abbe-f19ffcddd547\" target=\"_top\" title=\"psysml:e72a8b47-cfcf-460f-abbe-f19ffcddd547\" xlink:actuate=\"onRequest\" xlink:href=\"psysml:e72a8b47-cfcf-460f-abbe-f19ffcddd547\" xlink:show=\"new\" xlink:title=\"psysml:e72a8b47-cfcf-460f-abbe-f19ffcddd547\" xlink:type=\"simple\"><path d=\"M325.69,201.31 C304.9,222.1 273.2,253.8 246.71,280.29 \" fill=\"none\" id=\"E5-&gt;E2\" style=\"stroke: #383838; stroke-width: 1.0;\"/><polygon fill=\"none\" points=\"251.33,285.57,232.24,294.76,241.43,275.67,251.33,285.57\" style=\"stroke: #383838; stroke-width: 1.0;\"/></a><!--MD5=[9120cf2e5df3bff93db8f754bbbc09b4]\n",
       "link E5 to E6--><a href=\"psysml:d1158e90-c200-41a0-bff8-4b2e6825fa74\" target=\"_top\" title=\"psysml:d1158e90-c200-41a0-bff8-4b2e6825fa74\" xlink:actuate=\"onRequest\" xlink:href=\"psysml:d1158e90-c200-41a0-bff8-4b2e6825fa74\" xlink:show=\"new\" xlink:title=\"psysml:d1158e90-c200-41a0-bff8-4b2e6825fa74\" xlink:type=\"simple\"><path d=\"M341.72,211.26 C338.1,229.85 333.47,253.68 329.32,274.95 \" fill=\"none\" id=\"E5-E6\" style=\"stroke: #383838; stroke-width: 1.0;\"/><polygon fill=\"#383838\" points=\"327.4,284.84,331.8761,277.5623,325.987,276.4136,327.4,284.84\" style=\"stroke: #383838; stroke-width: 1.0;\"/><path d=\"M334.7699,202.7122 A9,9 0 0 0 351.3715 205.9503\" fill=\"none\" style=\"stroke: #383838; stroke-width: 1.5;\"/><text fill=\"#000000\" font-family=\"sans-serif\" font-size=\"13\" lengthAdjust=\"spacingAndGlyphs\" textLength=\"60\" x=\"337\" y=\"251.0669\">«variant»</text></a><!--MD5=[14ccda38c055a5c0da953d572bc50960]\n",
       "link E7 to E3--><a href=\"psysml:df5a11ab-14bd-474c-9e9f-2e0517640249\" target=\"_top\" title=\"psysml:df5a11ab-14bd-474c-9e9f-2e0517640249\" xlink:actuate=\"onRequest\" xlink:href=\"psysml:df5a11ab-14bd-474c-9e9f-2e0517640249\" xlink:show=\"new\" xlink:title=\"psysml:df5a11ab-14bd-474c-9e9f-2e0517640249\" xlink:type=\"simple\"><path d=\"M170,87.13 C170,100.7 170,118.53 170,134.73 \" fill=\"none\" id=\"E7-&gt;E3\" style=\"stroke: #383838; stroke-width: 1.0;\"/><polygon fill=\"#FFFFFF\" points=\"170,154.92,163,135.92,177,135.92,170,154.92\" style=\"stroke: #383838; stroke-width: 1.0;\"/><ellipse cx=\"165\" cy=\"130.22\" fill=\"#383838\" rx=\"2\" ry=\"2\" style=\"stroke: #383838; stroke-width: 1.0;\"/><ellipse cx=\"175\" cy=\"130.22\" fill=\"#383838\" rx=\"2\" ry=\"2\" style=\"stroke: #383838; stroke-width: 1.0;\"/></a><!--MD5=[f1f3f9f2fc535e6147756cb86a7f2e32]\n",
       "link E8 to E2--><a href=\"psysml:108d975b-2613-446e-8683-bfdaec0afedf\" target=\"_top\" title=\"psysml:108d975b-2613-446e-8683-bfdaec0afedf\" xlink:actuate=\"onRequest\" xlink:href=\"psysml:108d975b-2613-446e-8683-bfdaec0afedf\" xlink:show=\"new\" xlink:title=\"psysml:108d975b-2613-446e-8683-bfdaec0afedf\" xlink:type=\"simple\"><path d=\"M102.16,207.81 C120.43,222.79 139,238 139,238 C139,238 150.31,254.97 163.11,274.17 \" fill=\"none\" id=\"E8-&gt;E2\" style=\"stroke: #383838; stroke-width: 1.0;\"/><polygon fill=\"#FFFFFF\" points=\"174.25,290.87,157.884,278.9472,169.5311,271.1791,174.25,290.87\" style=\"stroke: #383838; stroke-width: 1.0;\"/><ellipse cx=\"156.3851\" cy=\"273.0954\" fill=\"#383838\" rx=\"2\" ry=\"2\" style=\"stroke: #383838; stroke-width: 1.0;\"/><ellipse cx=\"164.7045\" cy=\"267.5467\" fill=\"#383838\" rx=\"2\" ry=\"2\" style=\"stroke: #383838; stroke-width: 1.0;\"/></a><!--MD5=[ed10624c06dd9a4fa49ccf290e8b16a8]\n",
       "link E8 to E9--><a href=\"psysml:ebcdab70-773e-42b3-a4e9-8c7478e829d7\" target=\"_top\" title=\"psysml:ebcdab70-773e-42b3-a4e9-8c7478e829d7\" xlink:actuate=\"onRequest\" xlink:href=\"psysml:ebcdab70-773e-42b3-a4e9-8c7478e829d7\" xlink:show=\"new\" xlink:title=\"psysml:ebcdab70-773e-42b3-a4e9-8c7478e829d7\" xlink:type=\"simple\"><path d=\"M68.06,218.32 C68.52,235.6 69.07,256.15 69.57,274.77 \" fill=\"none\" id=\"E8-E9\" style=\"stroke: #383838; stroke-width: 1.0;\"/><polygon fill=\"#383838\" points=\"69.84,284.88,72.6331,276.8054,66.6351,276.9599,69.84,284.88\" style=\"stroke: #383838; stroke-width: 1.0;\"/><path d=\"M59.4094,211.3865 A9,9 0 0 0 76.3176 210.9276\" fill=\"none\" style=\"stroke: #383838; stroke-width: 1.5;\"/><text fill=\"#000000\" font-family=\"sans-serif\" font-size=\"13\" lengthAdjust=\"spacingAndGlyphs\" textLength=\"60\" x=\"70\" y=\"251.0669\">«variant»</text></a><!--MD5=[0f36bececdf0dff6e600d6f64214b0f1]\n",
       "link E10 to E2--><a href=\"psysml:967d0111-ba43-4736-bbbb-a2fd42e2431e\" target=\"_top\" title=\"psysml:967d0111-ba43-4736-bbbb-a2fd42e2431e\" xlink:actuate=\"onRequest\" xlink:href=\"psysml:967d0111-ba43-4736-bbbb-a2fd42e2431e\" xlink:show=\"new\" xlink:title=\"psysml:967d0111-ba43-4736-bbbb-a2fd42e2431e\" xlink:type=\"simple\"><path d=\"M250.02,201.31 C242.51,219.95 231.48,247.35 221.59,271.91 \" fill=\"none\" id=\"E10-&gt;E2\" style=\"stroke: #383838; stroke-width: 1.0;\"/><polygon fill=\"#FFFFFF\" points=\"213.99,290.77,214.5927,270.5305,227.5796,275.7593,213.99,290.77\" style=\"stroke: #383838; stroke-width: 1.0;\"/><ellipse cx=\"218.5768\" cy=\"265.9899\" fill=\"#383838\" rx=\"2\" ry=\"2\" style=\"stroke: #383838; stroke-width: 1.0;\"/><ellipse cx=\"227.8532\" cy=\"269.7248\" fill=\"#383838\" rx=\"2\" ry=\"2\" style=\"stroke: #383838; stroke-width: 1.0;\"/></a><!--MD5=[c486546f04b0ba7ba167be7a08282ee9]\n",
       "@startuml\r\n",
       "skinparam linetype polyline\r\n",
       "skinparam monochrome true\r\n",
       "skinparam classbackgroundcolor white\r\n",
       "skinparam shadowing false\r\n",
       "skinparam wrapWidth 300\r\n",
       "hide circle\r\n",
       "\r\n",
       "package \"VariabilityTest\" as E1  [[psysml:6fd2d067-8ada-4ea8-9732-021f5438b424 ]]  {\r\n",
       "comp def \"P\" as E2  <<(T,blue) part def>> [[psysml:06c5c105-f179-4f9c-9acd-25394b323f4d ]] {\r\n",
       "- - attributes - -\r\n",
       "a\r\n",
       "}\r\n",
       "comp def \"Q\" as E3  <<(T,blue) part def>> [[psysml:dc55669e-d547-41b4-94bf-d6c68c80b885 ]] {\r\n",
       "}\r\n",
       "comp def \"B\" as E4  <<(T,blue) attribute def>> [[psysml:18777e48-4bd6-4ac5-98df-f6aab0b7358e ]] {\r\n",
       "}\r\n",
       "comp def \"V\" as E5  <<(T,blue) part def>> [[psysml:b19cdb52-b52e-4af3-afe9-4ea29743154a ]] {\r\n",
       "}\r\n",
       "comp usage \"x: Q\" as E6  <<(T,blue) part>> [[psysml:a2bd922e-3e40-42bd-80e3-ecb5a548758e ]] {\r\n",
       "- - attributes - -\r\n",
       "b: B\\n//:>>P::a// \r\n",
       "}\r\n",
       "comp usage \"q: Q\" as E7  <<(T,blue) part>> [[psysml:84f1cc81-1e5a-4a4b-9822-237c593dc1ed ]] {\r\n",
       "}\r\n",
       "comp usage \"v: P\" as E8  <<variation>>\\n <<(T,blue) part>> [[psysml:d9c8c4c9-730a-472e-ad5c-9ed2548fca6c ]] {\r\n",
       "}\r\n",
       "comp usage \"q\" as E9  <<(T,blue) reference>> [[psysml:29b56154-ee98-4bdd-852f-875051132018 ]] {\r\n",
       "- - attributes - -\r\n",
       "b: B\\n//:>>P::a// \r\n",
       "}\r\n",
       "comp usage \"y: P\" as E10  <<(T,blue) part>> [[psysml:e49f0805-0747-4902-8d4f-55ae479a1338 ]] {\r\n",
       "}\r\n",
       "}\r\n",
       "E3 - -|> E2 [[psysml:f79594a1-bc1c-4f37-98e7-b8999b5b3daa ]] \r\n",
       "E5 - -|> E2 [[psysml:e72a8b47-cfcf-460f-abbe-f19ffcddd547 ]] \r\n",
       "E5 )- ->> E6 [[psysml:d1158e90-c200-41a0-bff8-4b2e6825fa74 ]] : <<variant>>\r\n",
       "E7 - -:|> E3 [[psysml:df5a11ab-14bd-474c-9e9f-2e0517640249 ]] \r\n",
       "E8 - -:|> E2 [[psysml:108d975b-2613-446e-8683-bfdaec0afedf ]] \r\n",
       "E8 )- ->> E9 [[psysml:ebcdab70-773e-42b3-a4e9-8c7478e829d7 ]] : <<variant>>\r\n",
       "E10 - -:|> E2 [[psysml:967d0111-ba43-4736-bbbb-a2fd42e2431e ]] \r\n",
       "@enduml\r\n",
       "\n",
       "PlantUML version 1.2020.13(Sat Jun 13 12:26:38 UTC 2020)\n",
       "(EPL source distribution)\n",
       "Java Runtime: OpenJDK Runtime Environment\n",
       "JVM: OpenJDK 64-Bit Server VM\n",
       "Default Encoding: UTF-8\n",
       "Language: en\n",
       "Country: null\n",
       "--></g></svg>"
      ]
     },
     "execution_count": 10,
     "metadata": {},
     "output_type": "execute_result"
    }
   ],
   "source": [
    "%viz --style=\"POLYLINE\" --view=\"Tree\" \"VariabilityTest\""
   ]
  },
  {
   "cell_type": "code",
   "execution_count": 11,
   "id": "c0217501",
   "metadata": {
    "execution": {
     "iopub.execute_input": "2021-10-03T08:28:14.900037Z",
     "iopub.status.busy": "2021-10-03T08:28:14.899631Z",
     "iopub.status.idle": "2021-10-03T08:28:14.905942Z",
     "shell.execute_reply": "2021-10-03T08:28:14.906253Z"
    }
   },
   "outputs": [
    {
     "data": {
      "image/svg+xml": [
       "<?xml version=\"1.0\" encoding=\"UTF-8\" standalone=\"no\"?><svg xmlns=\"http://www.w3.org/2000/svg\" xmlns:xlink=\"http://www.w3.org/1999/xlink\" contentScriptType=\"application/ecmascript\" contentStyleType=\"text/css\" height=\"12px\" preserveAspectRatio=\"none\" style=\"width:12px;height:12px;\" version=\"1.1\" viewBox=\"0 0 12 12\" width=\"12px\" zoomAndPan=\"magnify\"><defs/><g><!--MD5=[896ac0e7a515d8dd7765a661cb4ee08b]\n",
       "@startuml\r\n",
       "skinparam linetype polyline\r\n",
       "skinparam monochrome true\r\n",
       "skinparam classbackgroundcolor white\r\n",
       "skinparam shadowing false\r\n",
       "skinparam wrapWidth 300\r\n",
       "hide circle\r\n",
       "\r\n",
       "@enduml\r\n",
       "\n",
       "PlantUML version 1.2020.13(Sat Jun 13 12:26:38 UTC 2020)\n",
       "(EPL source distribution)\n",
       "Java Runtime: OpenJDK Runtime Environment\n",
       "JVM: OpenJDK 64-Bit Server VM\n",
       "Default Encoding: UTF-8\n",
       "Language: en\n",
       "Country: null\n",
       "--></g></svg>"
      ]
     },
     "execution_count": 11,
     "metadata": {},
     "output_type": "execute_result"
    }
   ],
   "source": [
    "%viz --style=\"POLYLINE\" --view=\"State\" \"VariabilityTest\""
   ]
  },
  {
   "cell_type": "code",
   "execution_count": 12,
   "id": "4b52ee9e",
   "metadata": {
    "execution": {
     "iopub.execute_input": "2021-10-03T08:28:14.956473Z",
     "iopub.status.busy": "2021-10-03T08:28:14.956076Z",
     "iopub.status.idle": "2021-10-03T08:28:15.042307Z",
     "shell.execute_reply": "2021-10-03T08:28:15.041941Z"
    }
   },
   "outputs": [
    {
     "data": {
      "image/svg+xml": [
       "<?xml version=\"1.0\" encoding=\"UTF-8\" standalone=\"no\"?><svg xmlns=\"http://www.w3.org/2000/svg\" xmlns:xlink=\"http://www.w3.org/1999/xlink\" contentScriptType=\"application/ecmascript\" contentStyleType=\"text/css\" height=\"427px\" preserveAspectRatio=\"none\" style=\"width:783px;height:427px;\" version=\"1.1\" viewBox=\"0 0 783 427\" width=\"783px\" zoomAndPan=\"magnify\"><defs/><g><!--MD5=[fbc87193dbaf4d95561dea2c320d4a47]\n",
       "cluster E1--><a href=\"psysml:6fd2d067-8ada-4ea8-9732-021f5438b424\" target=\"_top\" title=\"psysml:6fd2d067-8ada-4ea8-9732-021f5438b424\" xlink:actuate=\"onRequest\" xlink:href=\"psysml:6fd2d067-8ada-4ea8-9732-021f5438b424\" xlink:show=\"new\" xlink:title=\"psysml:6fd2d067-8ada-4ea8-9732-021f5438b424\" xlink:type=\"simple\"><polygon fill=\"#FFFFFF\" points=\"16,6,116,6,123,28.2969,761,28.2969,761,415,16,415,16,6\" style=\"stroke: #000000; stroke-width: 1.5;\"/><line style=\"stroke: #000000; stroke-width: 1.5;\" x1=\"16\" x2=\"123\" y1=\"28.2969\" y2=\"28.2969\"/><text fill=\"#000000\" font-family=\"sans-serif\" font-size=\"14\" font-weight=\"bold\" lengthAdjust=\"spacingAndGlyphs\" textLength=\"94\" x=\"20\" y=\"20.9951\">VariabilityTest</text></a><!--MD5=[e4f7fae6ed58524ba242bb0b0d3be6b7]\n",
       "cluster E2--><a href=\"psysml:06c5c105-f179-4f9c-9acd-25394b323f4d\" target=\"_top\" title=\"psysml:06c5c105-f179-4f9c-9acd-25394b323f4d\" xlink:actuate=\"onRequest\" xlink:href=\"psysml:06c5c105-f179-4f9c-9acd-25394b323f4d\" xlink:show=\"new\" xlink:title=\"psysml:06c5c105-f179-4f9c-9acd-25394b323f4d\" xlink:type=\"simple\"><rect fill=\"#FFFFFF\" height=\"129\" id=\"E2\" style=\"stroke: #383838; stroke-width: 1.5;\" width=\"139\" x=\"424\" y=\"254\"/><rect fill=\"#F8F8F8\" height=\"37.9375\" style=\"stroke: #383838; stroke-width: 1.5;\" width=\"139\" x=\"424\" y=\"254\"/><text fill=\"#000000\" font-family=\"sans-serif\" font-size=\"12\" font-style=\"italic\" lengthAdjust=\"spacingAndGlyphs\" textLength=\"64\" x=\"461.5\" y=\"270.1387\">«part def»</text><text fill=\"#000000\" font-family=\"sans-serif\" font-size=\"12\" lengthAdjust=\"spacingAndGlyphs\" textLength=\"8\" x=\"489.5\" y=\"284.1074\">P</text></a><!--MD5=[14e3b0961a2654348d326746436168a1]\n",
       "cluster E6--><a href=\"psysml:b19cdb52-b52e-4af3-afe9-4ea29743154a\" target=\"_top\" title=\"psysml:b19cdb52-b52e-4af3-afe9-4ea29743154a\" xlink:actuate=\"onRequest\" xlink:href=\"psysml:b19cdb52-b52e-4af3-afe9-4ea29743154a\" xlink:show=\"new\" xlink:title=\"psysml:b19cdb52-b52e-4af3-afe9-4ea29743154a\" xlink:type=\"simple\"><rect fill=\"#FFFFFF\" height=\"157\" id=\"E6\" style=\"stroke: #383838; stroke-width: 1.5;\" width=\"131\" x=\"598\" y=\"57\"/><rect fill=\"#F8F8F8\" height=\"37.9375\" style=\"stroke: #383838; stroke-width: 1.5;\" width=\"131\" x=\"598\" y=\"57\"/><text fill=\"#000000\" font-family=\"sans-serif\" font-size=\"12\" font-style=\"italic\" lengthAdjust=\"spacingAndGlyphs\" textLength=\"64\" x=\"631.5\" y=\"73.1387\">«part def»</text><text fill=\"#000000\" font-family=\"sans-serif\" font-size=\"12\" lengthAdjust=\"spacingAndGlyphs\" textLength=\"8\" x=\"659.5\" y=\"87.1074\">V</text></a><!--MD5=[7f149f147074ac12df2cb0a7728a5fb0]\n",
       "cluster E9--><a href=\"psysml:d9c8c4c9-730a-472e-ad5c-9ed2548fca6c\" target=\"_top\" title=\"psysml:d9c8c4c9-730a-472e-ad5c-9ed2548fca6c\" xlink:actuate=\"onRequest\" xlink:href=\"psysml:d9c8c4c9-730a-472e-ad5c-9ed2548fca6c\" xlink:show=\"new\" xlink:title=\"psysml:d9c8c4c9-730a-472e-ad5c-9ed2548fca6c\" xlink:type=\"simple\"><rect fill=\"#FFFFFF\" height=\"139\" id=\"E9\" rx=\"10\" ry=\"10\" style=\"stroke: #383838; stroke-width: 1.5;\" width=\"110\" x=\"456\" y=\"74\"/><rect fill=\"#F8F8F8\" height=\"23.9688\" rx=\"10\" ry=\"10\" style=\"stroke: #F8F8F8; stroke-width: 1.5;\" width=\"110\" x=\"456\" y=\"74\"/><rect fill=\"#F8F8F8\" height=\"10\" style=\"stroke: #F8F8F8; stroke-width: 1.5;\" width=\"110\" x=\"456\" y=\"87.9688\"/><rect fill=\"none\" height=\"139\" id=\"E9\" rx=\"10\" ry=\"10\" style=\"stroke: #383838; stroke-width: 1.5;\" width=\"110\" x=\"456\" y=\"74\"/><text fill=\"#000000\" font-family=\"sans-serif\" font-size=\"12\" lengthAdjust=\"spacingAndGlyphs\" textLength=\"22\" x=\"500\" y=\"90.1387\">v: P</text><line style=\"stroke: #383838; stroke-width: 1.0;\" x1=\"456\" x2=\"566\" y1=\"97.9688\" y2=\"97.9688\"/></a><g id=\"E1.E5\"><a href=\"psysml:18777e48-4bd6-4ac5-98df-f6aab0b7358e\" target=\"_top\" title=\"psysml:18777e48-4bd6-4ac5-98df-f6aab0b7358e\" xlink:actuate=\"onRequest\" xlink:href=\"psysml:18777e48-4bd6-4ac5-98df-f6aab0b7358e\" xlink:show=\"new\" xlink:title=\"psysml:18777e48-4bd6-4ac5-98df-f6aab0b7358e\" xlink:type=\"simple\"><rect fill=\"#FFFFFF\" height=\"42.9375\" id=\"E5\" style=\"stroke: #383838; stroke-width: 1.5;\" width=\"100\" x=\"337\" y=\"131.5\"/><rect fill=\"#F8F8F8\" height=\"37.9375\" style=\"stroke: #383838; stroke-width: 1.5;\" width=\"100\" x=\"337\" y=\"131.5\"/><text fill=\"#000000\" font-family=\"sans-serif\" font-size=\"12\" font-style=\"italic\" lengthAdjust=\"spacingAndGlyphs\" textLength=\"93\" x=\"340.5\" y=\"147.6387\">«attribute def»</text><text fill=\"#000000\" font-family=\"sans-serif\" font-size=\"12\" lengthAdjust=\"spacingAndGlyphs\" textLength=\"8\" x=\"383\" y=\"161.6074\">B</text></a></g><!--MD5=[09b614a08d8cba4a07c9adeb5e0fee81]\n",
       "class E3--><a href=\"psysml:8d9858c1-4f67-40c3-af33-b29377a1672a\" target=\"_top\" title=\"psysml:8d9858c1-4f67-40c3-af33-b29377a1672a\" xlink:actuate=\"onRequest\" xlink:href=\"psysml:8d9858c1-4f67-40c3-af33-b29377a1672a\" xlink:show=\"new\" xlink:title=\"psysml:8d9858c1-4f67-40c3-af33-b29377a1672a\" xlink:type=\"simple\"><rect fill=\"#FFFFFF\" height=\"45.9375\" id=\"E3\" rx=\"10\" ry=\"10\" style=\"stroke: #383838; stroke-width: 1.5;\" width=\"71\" x=\"467.5\" y=\"313\"/><text fill=\"#000000\" font-family=\"sans-serif\" font-size=\"12\" font-style=\"italic\" lengthAdjust=\"spacingAndGlyphs\" textLength=\"69\" x=\"468.5\" y=\"329.1387\">«attribute»</text><text fill=\"#000000\" font-family=\"sans-serif\" font-size=\"12\" lengthAdjust=\"spacingAndGlyphs\" textLength=\"8\" x=\"499\" y=\"343.1074\">a</text><line style=\"stroke: #383838; stroke-width: 1.5;\" x1=\"468.5\" x2=\"537.5\" y1=\"350.9375\" y2=\"350.9375\"/></a><g id=\"E1.E4\"><a href=\"psysml:dc55669e-d547-41b4-94bf-d6c68c80b885\" target=\"_top\" title=\"psysml:dc55669e-d547-41b4-94bf-d6c68c80b885\" xlink:actuate=\"onRequest\" xlink:href=\"psysml:dc55669e-d547-41b4-94bf-d6c68c80b885\" xlink:show=\"new\" xlink:title=\"psysml:dc55669e-d547-41b4-94bf-d6c68c80b885\" xlink:type=\"simple\"><rect fill=\"#FFFFFF\" height=\"42.9375\" id=\"E4\" style=\"stroke: #383838; stroke-width: 1.5;\" width=\"71\" x=\"230.5\" y=\"131.5\"/><rect fill=\"#F8F8F8\" height=\"37.9375\" style=\"stroke: #383838; stroke-width: 1.5;\" width=\"71\" x=\"230.5\" y=\"131.5\"/><text fill=\"#000000\" font-family=\"sans-serif\" font-size=\"12\" font-style=\"italic\" lengthAdjust=\"spacingAndGlyphs\" textLength=\"64\" x=\"234\" y=\"147.6387\">«part def»</text><text fill=\"#000000\" font-family=\"sans-serif\" font-size=\"12\" lengthAdjust=\"spacingAndGlyphs\" textLength=\"9\" x=\"261.5\" y=\"161.6074\">Q</text></a></g><!--MD5=[2156ba9850f5573cc1fc38a6a4b2f02b]\n",
       "class E7--><a href=\"psysml:a2bd922e-3e40-42bd-80e3-ecb5a548758e\" target=\"_top\" title=\"psysml:a2bd922e-3e40-42bd-80e3-ecb5a548758e\" xlink:actuate=\"onRequest\" xlink:href=\"psysml:a2bd922e-3e40-42bd-80e3-ecb5a548758e\" xlink:show=\"new\" xlink:title=\"psysml:a2bd922e-3e40-42bd-80e3-ecb5a548758e\" xlink:type=\"simple\"><rect fill=\"#FFFFFF\" height=\"74.3828\" id=\"E7\" rx=\"10\" ry=\"10\" style=\"stroke: #383838; stroke-width: 1.5;\" width=\"63\" x=\"641.5\" y=\"116\"/><text fill=\"#000000\" font-family=\"sans-serif\" font-size=\"12\" lengthAdjust=\"spacingAndGlyphs\" textLength=\"23\" x=\"661.5\" y=\"132.1387\">x: Q</text><line style=\"stroke: #383838; stroke-width: 1.5;\" x1=\"642.5\" x2=\"703.5\" y1=\"139.9688\" y2=\"139.9688\"/><text fill=\"#000000\" font-family=\"sans-serif\" font-size=\"11\" lengthAdjust=\"spacingAndGlyphs\" textLength=\"23\" x=\"647.5\" y=\"170.9839\">b: B</text><text fill=\"#000000\" font-family=\"sans-serif\" font-size=\"11\" font-style=\"italic\" lengthAdjust=\"spacingAndGlyphs\" textLength=\"44\" x=\"647.5\" y=\"183.7886\">:&gt;&gt;P::a</text><line style=\"stroke: #383838; stroke-width: 1.0;\" x1=\"642.5\" x2=\"645.5\" y1=\"154.3711\" y2=\"154.3711\"/><text fill=\"#000000\" font-family=\"sans-serif\" font-size=\"11\" lengthAdjust=\"spacingAndGlyphs\" textLength=\"55\" x=\"645.5\" y=\"157.6792\">attributes</text><line style=\"stroke: #383838; stroke-width: 1.0;\" x1=\"700.5\" x2=\"703.5\" y1=\"154.3711\" y2=\"154.3711\"/></a><g id=\"E1.E8\"><a href=\"psysml:84f1cc81-1e5a-4a4b-9822-237c593dc1ed\" target=\"_top\" title=\"psysml:84f1cc81-1e5a-4a4b-9822-237c593dc1ed\" xlink:actuate=\"onRequest\" xlink:href=\"psysml:84f1cc81-1e5a-4a4b-9822-237c593dc1ed\" xlink:show=\"new\" xlink:title=\"psysml:84f1cc81-1e5a-4a4b-9822-237c593dc1ed\" xlink:type=\"simple\"><rect fill=\"#FFFFFF\" height=\"40\" id=\"E8\" rx=\"10\" ry=\"10\" style=\"stroke: #383838; stroke-width: 1.5;\" width=\"50\" x=\"145\" y=\"133\"/><rect fill=\"#F8F8F8\" height=\"23.9688\" rx=\"10\" ry=\"10\" style=\"stroke: #F8F8F8; stroke-width: 1.5;\" width=\"50\" x=\"145\" y=\"133\"/><rect fill=\"#F8F8F8\" height=\"10\" style=\"stroke: #F8F8F8; stroke-width: 1.5;\" width=\"50\" x=\"145\" y=\"146.9688\"/><rect fill=\"none\" height=\"40\" id=\"E8\" rx=\"10\" ry=\"10\" style=\"stroke: #383838; stroke-width: 1.5;\" width=\"50\" x=\"145\" y=\"133\"/><text fill=\"#000000\" font-family=\"sans-serif\" font-size=\"12\" lengthAdjust=\"spacingAndGlyphs\" textLength=\"25\" x=\"157.5\" y=\"149.1387\">q: Q</text></a></g><!--MD5=[96f4274e9e20536e775497830990834d]\n",
       "class E10--><a href=\"psysml:29b56154-ee98-4bdd-852f-875051132018\" target=\"_top\" title=\"psysml:29b56154-ee98-4bdd-852f-875051132018\" xlink:actuate=\"onRequest\" xlink:href=\"psysml:29b56154-ee98-4bdd-852f-875051132018\" xlink:show=\"new\" xlink:title=\"psysml:29b56154-ee98-4bdd-852f-875051132018\" xlink:type=\"simple\"><rect fill=\"#FFFFFF\" height=\"88.3516\" id=\"E10\" rx=\"10\" ry=\"10\" style=\"stroke: #383838; stroke-width: 1.5;\" width=\"77\" x=\"472.5\" y=\"109\"/><text fill=\"#000000\" font-family=\"sans-serif\" font-size=\"12\" font-style=\"italic\" lengthAdjust=\"spacingAndGlyphs\" textLength=\"75\" x=\"473.5\" y=\"125.1387\">«reference»</text><text fill=\"#000000\" font-family=\"sans-serif\" font-size=\"12\" lengthAdjust=\"spacingAndGlyphs\" textLength=\"8\" x=\"507\" y=\"139.1074\">q</text><line style=\"stroke: #383838; stroke-width: 1.5;\" x1=\"473.5\" x2=\"548.5\" y1=\"146.9375\" y2=\"146.9375\"/><text fill=\"#000000\" font-family=\"sans-serif\" font-size=\"11\" lengthAdjust=\"spacingAndGlyphs\" textLength=\"23\" x=\"478.5\" y=\"177.9526\">b: B</text><text fill=\"#000000\" font-family=\"sans-serif\" font-size=\"11\" font-style=\"italic\" lengthAdjust=\"spacingAndGlyphs\" textLength=\"44\" x=\"478.5\" y=\"190.7573\">:&gt;&gt;P::a</text><line style=\"stroke: #383838; stroke-width: 1.0;\" x1=\"473.5\" x2=\"483.5\" y1=\"161.3398\" y2=\"161.3398\"/><text fill=\"#000000\" font-family=\"sans-serif\" font-size=\"11\" lengthAdjust=\"spacingAndGlyphs\" textLength=\"55\" x=\"483.5\" y=\"164.6479\">attributes</text><line style=\"stroke: #383838; stroke-width: 1.0;\" x1=\"538.5\" x2=\"548.5\" y1=\"161.3398\" y2=\"161.3398\"/></a><g id=\"E1.E11\"><a href=\"psysml:e49f0805-0747-4902-8d4f-55ae479a1338\" target=\"_top\" title=\"psysml:e49f0805-0747-4902-8d4f-55ae479a1338\" xlink:actuate=\"onRequest\" xlink:href=\"psysml:e49f0805-0747-4902-8d4f-55ae479a1338\" xlink:show=\"new\" xlink:title=\"psysml:e49f0805-0747-4902-8d4f-55ae479a1338\" xlink:type=\"simple\"><rect fill=\"#FFFFFF\" height=\"40\" id=\"E11\" rx=\"10\" ry=\"10\" style=\"stroke: #383838; stroke-width: 1.5;\" width=\"77\" x=\"32.5\" y=\"133\"/><rect fill=\"#F8F8F8\" height=\"23.9688\" rx=\"10\" ry=\"10\" style=\"stroke: #F8F8F8; stroke-width: 1.5;\" width=\"77\" x=\"32.5\" y=\"133\"/><rect fill=\"#F8F8F8\" height=\"10\" style=\"stroke: #F8F8F8; stroke-width: 1.5;\" width=\"77\" x=\"32.5\" y=\"146.9688\"/><rect fill=\"none\" height=\"40\" id=\"E11\" rx=\"10\" ry=\"10\" style=\"stroke: #383838; stroke-width: 1.5;\" width=\"77\" x=\"32.5\" y=\"133\"/><text fill=\"#000000\" font-family=\"sans-serif\" font-size=\"12\" lengthAdjust=\"spacingAndGlyphs\" textLength=\"62\" x=\"38\" y=\"149.1387\">y: P= v::q;</text></a></g><!--MD5=[185131fc0dcab0a4505a2ebe144e961b]\n",
       "link E4 to E2--><a href=\"psysml:f79594a1-bc1c-4f37-98e7-b8999b5b3daa\" target=\"_top\" title=\"psysml:f79594a1-bc1c-4f37-98e7-b8999b5b3daa\" xlink:actuate=\"onRequest\" xlink:href=\"psysml:f79594a1-bc1c-4f37-98e7-b8999b5b3daa\" xlink:show=\"new\" xlink:title=\"psysml:f79594a1-bc1c-4f37-98e7-b8999b5b3daa\" xlink:type=\"simple\"><path d=\"M280.76,174.77 C296.74,197.27 320,230 320,230 C320,230 347.1325,255.435 374.6888,281.2675 C388.4669,294.1838 402.3509,307.1994 413.0023,317.1847 C415.6652,319.681 418.126,321.9879 420.3326,324.0566 C421.4359,325.0909 422.4757,326.0657 423.4453,326.9747 C423.5666,327.0883 423.6867,327.2009 423.8057,327.3125 \" fill=\"none\" id=\"E4-&gt;E2\" style=\"stroke: #383838; stroke-width: 1.0;\"/><polygon fill=\"#FFFFFF\" points=\"423.8057,327.3125,414.7319,309.2109,405.1568,319.4245,423.8057,327.3125\" style=\"stroke: #383838; stroke-width: 1.0;\"/></a><!--MD5=[2351f337d6de0f557b50152ba70847b5]\n",
       "link E6 to E2--><a href=\"psysml:e72a8b47-cfcf-460f-abbe-f19ffcddd547\" target=\"_top\" title=\"psysml:e72a8b47-cfcf-460f-abbe-f19ffcddd547\" xlink:actuate=\"onRequest\" xlink:href=\"psysml:e72a8b47-cfcf-460f-abbe-f19ffcddd547\" xlink:show=\"new\" xlink:title=\"psysml:e72a8b47-cfcf-460f-abbe-f19ffcddd547\" xlink:type=\"simple\"><path d=\"M597.9262,169.3431 C597.863,169.4631 597.7996,169.5836 597.736,169.7045 C597.2267,170.672 596.7018,171.6694 596.1634,172.6922 C595.0868,174.7378 593.9566,176.8851 592.7915,179.0986 C590.4613,183.5258 587.9916,188.2181 585.5313,192.8925 C575.69,211.59 566,230 566,230 C566,230 451,238 451,238 C451,238 449.8494,243.8744 448.1144,252.7319 C448.0602,253.0087 448.0054,253.2884 447.95,253.5709 C447.9224,253.7122 447.8945,253.8542 447.8666,253.9968 \" fill=\"none\" id=\"E6-&gt;E2\" style=\"stroke: #383838; stroke-width: 1.0;\"/><polygon fill=\"#FFFFFF\" points=\"447.8666,253.9968,458.3884,236.6968,444.6494,234.0056,447.8666,253.9968\" style=\"stroke: #383838; stroke-width: 1.0;\"/></a><!--MD5=[dee3ce0ad3f95a20b37c307d722f9bf2]\n",
       "@startuml\r\n",
       "skinparam ranksep 10\r\n",
       "skinparam rectangle {\r\n",
       " backgroundColor<<block>> LightGreen\r\n",
       "}\r\n",
       "skinparam linetype polyline\r\n",
       "skinparam monochrome true\r\n",
       "skinparam classbackgroundcolor white\r\n",
       "skinparam shadowing false\r\n",
       "skinparam wrapWidth 300\r\n",
       "hide circle\r\n",
       "\r\n",
       "package \"VariabilityTest\" as E1  [[psysml:6fd2d067-8ada-4ea8-9732-021f5438b424 ]]  {\r\n",
       "rec def \"P\" as E2  <<(T,blue) part def>> [[psysml:06c5c105-f179-4f9c-9acd-25394b323f4d ]] {\r\n",
       "comp usage \"a\" as E3  <<(T,blue) attribute>> [[psysml:8d9858c1-4f67-40c3-af33-b29377a1672a ]] {\r\n",
       "}\r\n",
       "}\r\n",
       "rec def \"Q\" as E4  <<(T,blue) part def>> [[psysml:dc55669e-d547-41b4-94bf-d6c68c80b885 ]] {\r\n",
       "}\r\n",
       "def \"B\" as E5  <<(T,blue) attribute def>> [[psysml:18777e48-4bd6-4ac5-98df-f6aab0b7358e ]] \r\n",
       "rec def \"V\" as E6  <<(T,blue) part def>> [[psysml:b19cdb52-b52e-4af3-afe9-4ea29743154a ]] {\r\n",
       "comp usage \"x: Q\" as E7  [[psysml:a2bd922e-3e40-42bd-80e3-ecb5a548758e ]] {\r\n",
       "- - attributes - -\r\n",
       "b: B\\n//:>>P::a// \r\n",
       "}\r\n",
       "}\r\n",
       "rec usage \"q: Q\" as E8  [[psysml:84f1cc81-1e5a-4a4b-9822-237c593dc1ed ]] {\r\n",
       "}\r\n",
       "rec usage \"v: P\" as E9  [[psysml:d9c8c4c9-730a-472e-ad5c-9ed2548fca6c ]] {\r\n",
       "comp usage \"q\" as E10  <<(T,blue) reference>> [[psysml:29b56154-ee98-4bdd-852f-875051132018 ]] {\r\n",
       "- - attributes - -\r\n",
       "b: B\\n//:>>P::a// \r\n",
       "}\r\n",
       "}\r\n",
       "rec usage \"y: P= v::q; \" as E11  [[psysml:e49f0805-0747-4902-8d4f-55ae479a1338 ]] {\r\n",
       "}\r\n",
       "}\r\n",
       "E4 - -|> E2 [[psysml:f79594a1-bc1c-4f37-98e7-b8999b5b3daa ]] \r\n",
       "E6 - -|> E2 [[psysml:e72a8b47-cfcf-460f-abbe-f19ffcddd547 ]] \r\n",
       "@enduml\r\n",
       "\n",
       "PlantUML version 1.2020.13(Sat Jun 13 12:26:38 UTC 2020)\n",
       "(EPL source distribution)\n",
       "Java Runtime: OpenJDK Runtime Environment\n",
       "JVM: OpenJDK 64-Bit Server VM\n",
       "Default Encoding: UTF-8\n",
       "Language: en\n",
       "Country: null\n",
       "--></g></svg>"
      ]
     },
     "execution_count": 12,
     "metadata": {},
     "output_type": "execute_result"
    }
   ],
   "source": [
    "%viz --style=\"POLYLINE\" --view=\"Interconnection\" \"VariabilityTest\""
   ]
  },
  {
   "cell_type": "code",
   "execution_count": 13,
   "id": "18ce389d",
   "metadata": {
    "execution": {
     "iopub.execute_input": "2021-10-03T08:28:15.091653Z",
     "iopub.status.busy": "2021-10-03T08:28:15.091259Z",
     "iopub.status.idle": "2021-10-03T08:28:15.096963Z",
     "shell.execute_reply": "2021-10-03T08:28:15.097276Z"
    }
   },
   "outputs": [
    {
     "data": {
      "image/svg+xml": [
       "<?xml version=\"1.0\" encoding=\"UTF-8\" standalone=\"no\"?><svg xmlns=\"http://www.w3.org/2000/svg\" xmlns:xlink=\"http://www.w3.org/1999/xlink\" contentScriptType=\"application/ecmascript\" contentStyleType=\"text/css\" height=\"12px\" preserveAspectRatio=\"none\" style=\"width:12px;height:12px;\" version=\"1.1\" viewBox=\"0 0 12 12\" width=\"12px\" zoomAndPan=\"magnify\"><defs/><g><!--MD5=[97bbf32f66ccd50cbc40d92ea8f5a65e]\n",
       "@startuml\r\n",
       "skinparam ranksep 8\r\n",
       "skinparam linetype polyline\r\n",
       "skinparam monochrome true\r\n",
       "skinparam classbackgroundcolor white\r\n",
       "skinparam shadowing false\r\n",
       "skinparam wrapWidth 300\r\n",
       "hide circle\r\n",
       "\r\n",
       "@enduml\r\n",
       "\n",
       "PlantUML version 1.2020.13(Sat Jun 13 12:26:38 UTC 2020)\n",
       "(EPL source distribution)\n",
       "Java Runtime: OpenJDK Runtime Environment\n",
       "JVM: OpenJDK 64-Bit Server VM\n",
       "Default Encoding: UTF-8\n",
       "Language: en\n",
       "Country: null\n",
       "--></g></svg>"
      ]
     },
     "execution_count": 13,
     "metadata": {},
     "output_type": "execute_result"
    }
   ],
   "source": [
    "%viz --style=\"POLYLINE\" --view=\"Action\" \"VariabilityTest\""
   ]
  },
  {
   "cell_type": "code",
   "execution_count": 14,
   "id": "18081f85",
   "metadata": {
    "execution": {
     "iopub.execute_input": "2021-10-03T08:28:15.147090Z",
     "iopub.status.busy": "2021-10-03T08:28:15.146690Z",
     "iopub.status.idle": "2021-10-03T08:28:15.152474Z",
     "shell.execute_reply": "2021-10-03T08:28:15.152785Z"
    }
   },
   "outputs": [
    {
     "data": {
      "image/svg+xml": [
       "<?xml version=\"1.0\" encoding=\"UTF-8\" standalone=\"no\"?><svg xmlns=\"http://www.w3.org/2000/svg\" xmlns:xlink=\"http://www.w3.org/1999/xlink\" contentScriptType=\"application/ecmascript\" contentStyleType=\"text/css\" height=\"12px\" preserveAspectRatio=\"none\" style=\"width:12px;height:12px;\" version=\"1.1\" viewBox=\"0 0 12 12\" width=\"12px\" zoomAndPan=\"magnify\"><defs/><g><!--MD5=[dc938048236c351797870c36b62f92ad]\n",
       "@startuml\r\n",
       "skinparam roundcorner 20\r\n",
       "skinparam BoxPadding 20\r\n",
       "skinparam SequenceBoxBackgroundColor #white\r\n",
       "skinparam style strictuml\r\n",
       "skinparam maxMessageSize 100\r\n",
       "skinparam linetype polyline\r\n",
       "skinparam monochrome true\r\n",
       "skinparam classbackgroundcolor white\r\n",
       "skinparam shadowing false\r\n",
       "skinparam wrapWidth 300\r\n",
       "hide circle\r\n",
       "\r\n",
       "@enduml\r\n",
       "\n",
       "PlantUML version 1.2020.13(Sat Jun 13 12:26:38 UTC 2020)\n",
       "(EPL source distribution)\n",
       "Java Runtime: OpenJDK Runtime Environment\n",
       "JVM: OpenJDK 64-Bit Server VM\n",
       "Default Encoding: UTF-8\n",
       "Language: en\n",
       "Country: null\n",
       "--></g></svg>"
      ]
     },
     "execution_count": 14,
     "metadata": {},
     "output_type": "execute_result"
    }
   ],
   "source": [
    "%viz --style=\"POLYLINE\" --view=\"Sequence\" \"VariabilityTest\""
   ]
  },
  {
   "cell_type": "code",
   "execution_count": 15,
   "id": "4d7bb04f",
   "metadata": {
    "execution": {
     "iopub.execute_input": "2021-10-03T08:28:15.202588Z",
     "iopub.status.busy": "2021-10-03T08:28:15.202188Z",
     "iopub.status.idle": "2021-10-03T08:28:15.303339Z",
     "shell.execute_reply": "2021-10-03T08:28:15.300561Z"
    }
   },
   "outputs": [
    {
     "data": {
      "image/svg+xml": [
       "<?xml version=\"1.0\" encoding=\"UTF-8\" standalone=\"no\"?><svg xmlns=\"http://www.w3.org/2000/svg\" xmlns:xlink=\"http://www.w3.org/1999/xlink\" contentScriptType=\"application/ecmascript\" contentStyleType=\"text/css\" height=\"401px\" preserveAspectRatio=\"none\" style=\"width:419px;height:401px;\" version=\"1.1\" viewBox=\"0 0 419 401\" width=\"419px\" zoomAndPan=\"magnify\"><defs/><g><!--MD5=[fbc87193dbaf4d95561dea2c320d4a47]\n",
       "cluster E1--><a href=\"psysml:6fd2d067-8ada-4ea8-9732-021f5438b424\" target=\"_top\" title=\"psysml:6fd2d067-8ada-4ea8-9732-021f5438b424\" xlink:actuate=\"onRequest\" xlink:href=\"psysml:6fd2d067-8ada-4ea8-9732-021f5438b424\" xlink:show=\"new\" xlink:title=\"psysml:6fd2d067-8ada-4ea8-9732-021f5438b424\" xlink:type=\"simple\"><polygon fill=\"#FFFFFF\" points=\"16,6,116,6,123,28.2969,397,28.2969,397,389,16,389,16,6\" style=\"stroke: #000000; stroke-width: 1.5;\"/><line style=\"stroke: #000000; stroke-width: 1.5;\" x1=\"16\" x2=\"123\" y1=\"28.2969\" y2=\"28.2969\"/><text fill=\"#000000\" font-family=\"sans-serif\" font-size=\"14\" font-weight=\"bold\" lengthAdjust=\"spacingAndGlyphs\" textLength=\"94\" x=\"20\" y=\"20.9951\">VariabilityTest</text></a><!--MD5=[b4997ac47864f28c2f74865a473b2911]\n",
       "class E2--><a href=\"psysml:06c5c105-f179-4f9c-9acd-25394b323f4d\" target=\"_top\" title=\"psysml:06c5c105-f179-4f9c-9acd-25394b323f4d\" xlink:actuate=\"onRequest\" xlink:href=\"psysml:06c5c105-f179-4f9c-9acd-25394b323f4d\" xlink:show=\"new\" xlink:title=\"psysml:06c5c105-f179-4f9c-9acd-25394b323f4d\" xlink:type=\"simple\"><rect fill=\"#FFFFFF\" height=\"75.5469\" id=\"E2\" style=\"stroke: #383838; stroke-width: 1.5;\" width=\"66\" x=\"166\" y=\"291\"/><text fill=\"#000000\" font-family=\"sans-serif\" font-size=\"12\" font-style=\"italic\" lengthAdjust=\"spacingAndGlyphs\" textLength=\"64\" x=\"167\" y=\"307.1387\">«part def»</text><text fill=\"#000000\" font-family=\"sans-serif\" font-size=\"12\" lengthAdjust=\"spacingAndGlyphs\" textLength=\"8\" x=\"195\" y=\"321.1074\">P</text><line style=\"stroke: #383838; stroke-width: 1.5;\" x1=\"167\" x2=\"231\" y1=\"328.9375\" y2=\"328.9375\"/><text fill=\"#000000\" font-family=\"sans-serif\" font-size=\"11\" lengthAdjust=\"spacingAndGlyphs\" textLength=\"7\" x=\"172\" y=\"359.9526\">a</text><line style=\"stroke: #383838; stroke-width: 1.0;\" x1=\"167\" x2=\"171.5\" y1=\"343.3398\" y2=\"343.3398\"/><text fill=\"#000000\" font-family=\"sans-serif\" font-size=\"11\" lengthAdjust=\"spacingAndGlyphs\" textLength=\"55\" x=\"171.5\" y=\"346.6479\">attributes</text><line style=\"stroke: #383838; stroke-width: 1.0;\" x1=\"226.5\" x2=\"231\" y1=\"343.3398\" y2=\"343.3398\"/></a><!--MD5=[09b614a08d8cba4a07c9adeb5e0fee81]\n",
       "class E3--><a href=\"psysml:dc55669e-d547-41b4-94bf-d6c68c80b885\" target=\"_top\" title=\"psysml:dc55669e-d547-41b4-94bf-d6c68c80b885\" xlink:actuate=\"onRequest\" xlink:href=\"psysml:dc55669e-d547-41b4-94bf-d6c68c80b885\" xlink:show=\"new\" xlink:title=\"psysml:dc55669e-d547-41b4-94bf-d6c68c80b885\" xlink:type=\"simple\"><rect fill=\"#FFFFFF\" height=\"45.9375\" id=\"E3\" style=\"stroke: #383838; stroke-width: 1.5;\" width=\"66\" x=\"137\" y=\"155\"/><text fill=\"#000000\" font-family=\"sans-serif\" font-size=\"12\" font-style=\"italic\" lengthAdjust=\"spacingAndGlyphs\" textLength=\"64\" x=\"138\" y=\"171.1387\">«part def»</text><text fill=\"#000000\" font-family=\"sans-serif\" font-size=\"12\" lengthAdjust=\"spacingAndGlyphs\" textLength=\"9\" x=\"165.5\" y=\"185.1074\">Q</text><line style=\"stroke: #383838; stroke-width: 1.5;\" x1=\"138\" x2=\"202\" y1=\"192.9375\" y2=\"192.9375\"/></a><!--MD5=[ebbe1d658d1005bcc118a6aa81145e00]\n",
       "class E4--><a href=\"psysml:18777e48-4bd6-4ac5-98df-f6aab0b7358e\" target=\"_top\" title=\"psysml:18777e48-4bd6-4ac5-98df-f6aab0b7358e\" xlink:actuate=\"onRequest\" xlink:href=\"psysml:18777e48-4bd6-4ac5-98df-f6aab0b7358e\" xlink:show=\"new\" xlink:title=\"psysml:18777e48-4bd6-4ac5-98df-f6aab0b7358e\" xlink:type=\"simple\"><rect fill=\"#FFFFFF\" height=\"45.9375\" id=\"E4\" style=\"stroke: #383838; stroke-width: 1.5;\" width=\"95\" x=\"255.5\" y=\"41\"/><text fill=\"#000000\" font-family=\"sans-serif\" font-size=\"12\" font-style=\"italic\" lengthAdjust=\"spacingAndGlyphs\" textLength=\"93\" x=\"256.5\" y=\"57.1387\">«attribute def»</text><text fill=\"#000000\" font-family=\"sans-serif\" font-size=\"12\" lengthAdjust=\"spacingAndGlyphs\" textLength=\"8\" x=\"299\" y=\"71.1074\">B</text><line style=\"stroke: #383838; stroke-width: 1.5;\" x1=\"256.5\" x2=\"349.5\" y1=\"78.9375\" y2=\"78.9375\"/></a><!--MD5=[270fce915f116d4de14055a7c1d9a0f3]\n",
       "class E5--><a href=\"psysml:b19cdb52-b52e-4af3-afe9-4ea29743154a\" target=\"_top\" title=\"psysml:b19cdb52-b52e-4af3-afe9-4ea29743154a\" xlink:actuate=\"onRequest\" xlink:href=\"psysml:b19cdb52-b52e-4af3-afe9-4ea29743154a\" xlink:show=\"new\" xlink:title=\"psysml:b19cdb52-b52e-4af3-afe9-4ea29743154a\" xlink:type=\"simple\"><rect fill=\"#FFFFFF\" height=\"45.9375\" id=\"E5\" style=\"stroke: #383838; stroke-width: 1.5;\" width=\"66\" x=\"315\" y=\"155\"/><text fill=\"#000000\" font-family=\"sans-serif\" font-size=\"12\" font-style=\"italic\" lengthAdjust=\"spacingAndGlyphs\" textLength=\"64\" x=\"316\" y=\"171.1387\">«part def»</text><text fill=\"#000000\" font-family=\"sans-serif\" font-size=\"12\" lengthAdjust=\"spacingAndGlyphs\" textLength=\"8\" x=\"344\" y=\"185.1074\">V</text><line style=\"stroke: #383838; stroke-width: 1.5;\" x1=\"316\" x2=\"380\" y1=\"192.9375\" y2=\"192.9375\"/></a><!--MD5=[60a26617385b1d2d0262a64233df1f8d]\n",
       "class E6--><a href=\"psysml:a2bd922e-3e40-42bd-80e3-ecb5a548758e\" target=\"_top\" title=\"psysml:a2bd922e-3e40-42bd-80e3-ecb5a548758e\" xlink:actuate=\"onRequest\" xlink:href=\"psysml:a2bd922e-3e40-42bd-80e3-ecb5a548758e\" xlink:show=\"new\" xlink:title=\"psysml:a2bd922e-3e40-42bd-80e3-ecb5a548758e\" xlink:type=\"simple\"><rect fill=\"#FFFFFF\" height=\"88.3516\" id=\"E6\" rx=\"10\" ry=\"10\" style=\"stroke: #383838; stroke-width: 1.5;\" width=\"63\" x=\"287.5\" y=\"285\"/><text fill=\"#000000\" font-family=\"sans-serif\" font-size=\"12\" font-style=\"italic\" lengthAdjust=\"spacingAndGlyphs\" textLength=\"40\" x=\"299\" y=\"301.1387\">«part»</text><text fill=\"#000000\" font-family=\"sans-serif\" font-size=\"12\" lengthAdjust=\"spacingAndGlyphs\" textLength=\"23\" x=\"307.5\" y=\"315.1074\">x: Q</text><line style=\"stroke: #383838; stroke-width: 1.5;\" x1=\"288.5\" x2=\"349.5\" y1=\"322.9375\" y2=\"322.9375\"/><text fill=\"#000000\" font-family=\"sans-serif\" font-size=\"11\" lengthAdjust=\"spacingAndGlyphs\" textLength=\"23\" x=\"293.5\" y=\"353.9526\">b: B</text><text fill=\"#000000\" font-family=\"sans-serif\" font-size=\"11\" font-style=\"italic\" lengthAdjust=\"spacingAndGlyphs\" textLength=\"44\" x=\"293.5\" y=\"366.7573\">:&gt;&gt;P::a</text><line style=\"stroke: #383838; stroke-width: 1.0;\" x1=\"288.5\" x2=\"291.5\" y1=\"337.3398\" y2=\"337.3398\"/><text fill=\"#000000\" font-family=\"sans-serif\" font-size=\"11\" lengthAdjust=\"spacingAndGlyphs\" textLength=\"55\" x=\"291.5\" y=\"340.6479\">attributes</text><line style=\"stroke: #383838; stroke-width: 1.0;\" x1=\"346.5\" x2=\"349.5\" y1=\"337.3398\" y2=\"337.3398\"/></a><!--MD5=[2156ba9850f5573cc1fc38a6a4b2f02b]\n",
       "class E7--><a href=\"psysml:84f1cc81-1e5a-4a4b-9822-237c593dc1ed\" target=\"_top\" title=\"psysml:84f1cc81-1e5a-4a4b-9822-237c593dc1ed\" xlink:actuate=\"onRequest\" xlink:href=\"psysml:84f1cc81-1e5a-4a4b-9822-237c593dc1ed\" xlink:show=\"new\" xlink:title=\"psysml:84f1cc81-1e5a-4a4b-9822-237c593dc1ed\" xlink:type=\"simple\"><rect fill=\"#FFFFFF\" height=\"45.9375\" id=\"E7\" rx=\"10\" ry=\"10\" style=\"stroke: #383838; stroke-width: 1.5;\" width=\"42\" x=\"149\" y=\"41\"/><text fill=\"#000000\" font-family=\"sans-serif\" font-size=\"12\" font-style=\"italic\" lengthAdjust=\"spacingAndGlyphs\" textLength=\"40\" x=\"150\" y=\"57.1387\">«part»</text><text fill=\"#000000\" font-family=\"sans-serif\" font-size=\"12\" lengthAdjust=\"spacingAndGlyphs\" textLength=\"25\" x=\"157.5\" y=\"71.1074\">q: Q</text><line style=\"stroke: #383838; stroke-width: 1.5;\" x1=\"150\" x2=\"190\" y1=\"78.9375\" y2=\"78.9375\"/></a><!--MD5=[b9389687b975829384b498ac4b7476b2]\n",
       "class E8--><a href=\"psysml:d9c8c4c9-730a-472e-ad5c-9ed2548fca6c\" target=\"_top\" title=\"psysml:d9c8c4c9-730a-472e-ad5c-9ed2548fca6c\" xlink:actuate=\"onRequest\" xlink:href=\"psysml:d9c8c4c9-730a-472e-ad5c-9ed2548fca6c\" xlink:show=\"new\" xlink:title=\"psysml:d9c8c4c9-730a-472e-ad5c-9ed2548fca6c\" xlink:type=\"simple\"><rect fill=\"#FFFFFF\" height=\"59.9063\" id=\"E8\" rx=\"10\" ry=\"10\" style=\"stroke: #383838; stroke-width: 1.5;\" width=\"70\" x=\"32\" y=\"148\"/><text fill=\"#000000\" font-family=\"sans-serif\" font-size=\"12\" font-style=\"italic\" lengthAdjust=\"spacingAndGlyphs\" textLength=\"68\" x=\"33\" y=\"164.1387\">«variation»</text><text fill=\"#000000\" font-family=\"sans-serif\" font-size=\"12\" font-style=\"italic\" lengthAdjust=\"spacingAndGlyphs\" textLength=\"40\" x=\"47\" y=\"178.1074\">«part»</text><text fill=\"#000000\" font-family=\"sans-serif\" font-size=\"12\" lengthAdjust=\"spacingAndGlyphs\" textLength=\"22\" x=\"56\" y=\"192.0762\">v: P</text><line style=\"stroke: #383838; stroke-width: 1.5;\" x1=\"33\" x2=\"101\" y1=\"199.9063\" y2=\"199.9063\"/></a><!--MD5=[fd4143e9d270a159db93a4ea2a975926]\n",
       "class E9--><a href=\"psysml:29b56154-ee98-4bdd-852f-875051132018\" target=\"_top\" title=\"psysml:29b56154-ee98-4bdd-852f-875051132018\" xlink:actuate=\"onRequest\" xlink:href=\"psysml:29b56154-ee98-4bdd-852f-875051132018\" xlink:show=\"new\" xlink:title=\"psysml:29b56154-ee98-4bdd-852f-875051132018\" xlink:type=\"simple\"><rect fill=\"#FFFFFF\" height=\"88.3516\" id=\"E9\" rx=\"10\" ry=\"10\" style=\"stroke: #383838; stroke-width: 1.5;\" width=\"77\" x=\"32.5\" y=\"285\"/><text fill=\"#000000\" font-family=\"sans-serif\" font-size=\"12\" font-style=\"italic\" lengthAdjust=\"spacingAndGlyphs\" textLength=\"75\" x=\"33.5\" y=\"301.1387\">«reference»</text><text fill=\"#000000\" font-family=\"sans-serif\" font-size=\"12\" lengthAdjust=\"spacingAndGlyphs\" textLength=\"8\" x=\"67\" y=\"315.1074\">q</text><line style=\"stroke: #383838; stroke-width: 1.5;\" x1=\"33.5\" x2=\"108.5\" y1=\"322.9375\" y2=\"322.9375\"/><text fill=\"#000000\" font-family=\"sans-serif\" font-size=\"11\" lengthAdjust=\"spacingAndGlyphs\" textLength=\"23\" x=\"38.5\" y=\"353.9526\">b: B</text><text fill=\"#000000\" font-family=\"sans-serif\" font-size=\"11\" font-style=\"italic\" lengthAdjust=\"spacingAndGlyphs\" textLength=\"44\" x=\"38.5\" y=\"366.7573\">:&gt;&gt;P::a</text><line style=\"stroke: #383838; stroke-width: 1.0;\" x1=\"33.5\" x2=\"43.5\" y1=\"337.3398\" y2=\"337.3398\"/><text fill=\"#000000\" font-family=\"sans-serif\" font-size=\"11\" lengthAdjust=\"spacingAndGlyphs\" textLength=\"55\" x=\"43.5\" y=\"340.6479\">attributes</text><line style=\"stroke: #383838; stroke-width: 1.0;\" x1=\"98.5\" x2=\"108.5\" y1=\"337.3398\" y2=\"337.3398\"/></a><!--MD5=[96f4274e9e20536e775497830990834d]\n",
       "class E10--><a href=\"psysml:e49f0805-0747-4902-8d4f-55ae479a1338\" target=\"_top\" title=\"psysml:e49f0805-0747-4902-8d4f-55ae479a1338\" xlink:actuate=\"onRequest\" xlink:href=\"psysml:e49f0805-0747-4902-8d4f-55ae479a1338\" xlink:show=\"new\" xlink:title=\"psysml:e49f0805-0747-4902-8d4f-55ae479a1338\" xlink:type=\"simple\"><rect fill=\"#FFFFFF\" height=\"45.9375\" id=\"E10\" rx=\"10\" ry=\"10\" style=\"stroke: #383838; stroke-width: 1.5;\" width=\"42\" x=\"238\" y=\"155\"/><text fill=\"#000000\" font-family=\"sans-serif\" font-size=\"12\" font-style=\"italic\" lengthAdjust=\"spacingAndGlyphs\" textLength=\"40\" x=\"239\" y=\"171.1387\">«part»</text><text fill=\"#000000\" font-family=\"sans-serif\" font-size=\"12\" lengthAdjust=\"spacingAndGlyphs\" textLength=\"22\" x=\"248\" y=\"185.1074\">y: P</text><line style=\"stroke: #383838; stroke-width: 1.5;\" x1=\"239\" x2=\"279\" y1=\"192.9375\" y2=\"192.9375\"/></a><!--MD5=[05d275557350bfb9b23a4ef7222b4c39]\n",
       "link E3 to E2--><a href=\"psysml:f79594a1-bc1c-4f37-98e7-b8999b5b3daa\" target=\"_top\" title=\"psysml:f79594a1-bc1c-4f37-98e7-b8999b5b3daa\" xlink:actuate=\"onRequest\" xlink:href=\"psysml:f79594a1-bc1c-4f37-98e7-b8999b5b3daa\" xlink:show=\"new\" xlink:title=\"psysml:f79594a1-bc1c-4f37-98e7-b8999b5b3daa\" xlink:type=\"simple\"><path d=\"M174.34,201.31 C177.92,219.67 183.15,246.54 187.87,270.81 \" fill=\"none\" id=\"E3-&gt;E2\" style=\"stroke: #383838; stroke-width: 1.0;\"/><polygon fill=\"none\" points=\"194.8,269.8,191.75,290.77,181.06,272.47,194.8,269.8\" style=\"stroke: #383838; stroke-width: 1.0;\"/></a><!--MD5=[15ebcb19ae302d9b601edb458606d402]\n",
       "link E5 to E2--><a href=\"psysml:e72a8b47-cfcf-460f-abbe-f19ffcddd547\" target=\"_top\" title=\"psysml:e72a8b47-cfcf-460f-abbe-f19ffcddd547\" xlink:actuate=\"onRequest\" xlink:href=\"psysml:e72a8b47-cfcf-460f-abbe-f19ffcddd547\" xlink:show=\"new\" xlink:title=\"psysml:e72a8b47-cfcf-460f-abbe-f19ffcddd547\" xlink:type=\"simple\"><path d=\"M325.69,201.31 C304.9,222.1 273.2,253.8 246.71,280.29 \" fill=\"none\" id=\"E5-&gt;E2\" style=\"stroke: #383838; stroke-width: 1.0;\"/><polygon fill=\"none\" points=\"251.33,285.57,232.24,294.76,241.43,275.67,251.33,285.57\" style=\"stroke: #383838; stroke-width: 1.0;\"/></a><!--MD5=[9120cf2e5df3bff93db8f754bbbc09b4]\n",
       "link E5 to E6--><a href=\"psysml:d1158e90-c200-41a0-bff8-4b2e6825fa74\" target=\"_top\" title=\"psysml:d1158e90-c200-41a0-bff8-4b2e6825fa74\" xlink:actuate=\"onRequest\" xlink:href=\"psysml:d1158e90-c200-41a0-bff8-4b2e6825fa74\" xlink:show=\"new\" xlink:title=\"psysml:d1158e90-c200-41a0-bff8-4b2e6825fa74\" xlink:type=\"simple\"><path d=\"M341.72,211.26 C338.1,229.85 333.47,253.68 329.32,274.95 \" fill=\"none\" id=\"E5-E6\" style=\"stroke: #383838; stroke-width: 1.0;\"/><polygon fill=\"#383838\" points=\"327.4,284.84,331.8761,277.5623,325.987,276.4136,327.4,284.84\" style=\"stroke: #383838; stroke-width: 1.0;\"/><path d=\"M334.7699,202.7122 A9,9 0 0 0 351.3715 205.9503\" fill=\"none\" style=\"stroke: #383838; stroke-width: 1.5;\"/><text fill=\"#000000\" font-family=\"sans-serif\" font-size=\"13\" lengthAdjust=\"spacingAndGlyphs\" textLength=\"60\" x=\"337\" y=\"251.0669\">«variant»</text></a><!--MD5=[14ccda38c055a5c0da953d572bc50960]\n",
       "link E7 to E3--><a href=\"psysml:df5a11ab-14bd-474c-9e9f-2e0517640249\" target=\"_top\" title=\"psysml:df5a11ab-14bd-474c-9e9f-2e0517640249\" xlink:actuate=\"onRequest\" xlink:href=\"psysml:df5a11ab-14bd-474c-9e9f-2e0517640249\" xlink:show=\"new\" xlink:title=\"psysml:df5a11ab-14bd-474c-9e9f-2e0517640249\" xlink:type=\"simple\"><path d=\"M170,87.13 C170,100.7 170,118.53 170,134.73 \" fill=\"none\" id=\"E7-&gt;E3\" style=\"stroke: #383838; stroke-width: 1.0;\"/><polygon fill=\"#FFFFFF\" points=\"170,154.92,163,135.92,177,135.92,170,154.92\" style=\"stroke: #383838; stroke-width: 1.0;\"/><ellipse cx=\"165\" cy=\"130.22\" fill=\"#383838\" rx=\"2\" ry=\"2\" style=\"stroke: #383838; stroke-width: 1.0;\"/><ellipse cx=\"175\" cy=\"130.22\" fill=\"#383838\" rx=\"2\" ry=\"2\" style=\"stroke: #383838; stroke-width: 1.0;\"/></a><!--MD5=[f1f3f9f2fc535e6147756cb86a7f2e32]\n",
       "link E8 to E2--><a href=\"psysml:108d975b-2613-446e-8683-bfdaec0afedf\" target=\"_top\" title=\"psysml:108d975b-2613-446e-8683-bfdaec0afedf\" xlink:actuate=\"onRequest\" xlink:href=\"psysml:108d975b-2613-446e-8683-bfdaec0afedf\" xlink:show=\"new\" xlink:title=\"psysml:108d975b-2613-446e-8683-bfdaec0afedf\" xlink:type=\"simple\"><path d=\"M102.16,207.81 C120.43,222.79 139,238 139,238 C139,238 150.31,254.97 163.11,274.17 \" fill=\"none\" id=\"E8-&gt;E2\" style=\"stroke: #383838; stroke-width: 1.0;\"/><polygon fill=\"#FFFFFF\" points=\"174.25,290.87,157.884,278.9472,169.5311,271.1791,174.25,290.87\" style=\"stroke: #383838; stroke-width: 1.0;\"/><ellipse cx=\"156.3851\" cy=\"273.0954\" fill=\"#383838\" rx=\"2\" ry=\"2\" style=\"stroke: #383838; stroke-width: 1.0;\"/><ellipse cx=\"164.7045\" cy=\"267.5467\" fill=\"#383838\" rx=\"2\" ry=\"2\" style=\"stroke: #383838; stroke-width: 1.0;\"/></a><!--MD5=[ed10624c06dd9a4fa49ccf290e8b16a8]\n",
       "link E8 to E9--><a href=\"psysml:ebcdab70-773e-42b3-a4e9-8c7478e829d7\" target=\"_top\" title=\"psysml:ebcdab70-773e-42b3-a4e9-8c7478e829d7\" xlink:actuate=\"onRequest\" xlink:href=\"psysml:ebcdab70-773e-42b3-a4e9-8c7478e829d7\" xlink:show=\"new\" xlink:title=\"psysml:ebcdab70-773e-42b3-a4e9-8c7478e829d7\" xlink:type=\"simple\"><path d=\"M68.06,218.32 C68.52,235.6 69.07,256.15 69.57,274.77 \" fill=\"none\" id=\"E8-E9\" style=\"stroke: #383838; stroke-width: 1.0;\"/><polygon fill=\"#383838\" points=\"69.84,284.88,72.6331,276.8054,66.6351,276.9599,69.84,284.88\" style=\"stroke: #383838; stroke-width: 1.0;\"/><path d=\"M59.4094,211.3865 A9,9 0 0 0 76.3176 210.9276\" fill=\"none\" style=\"stroke: #383838; stroke-width: 1.5;\"/><text fill=\"#000000\" font-family=\"sans-serif\" font-size=\"13\" lengthAdjust=\"spacingAndGlyphs\" textLength=\"60\" x=\"70\" y=\"251.0669\">«variant»</text></a><!--MD5=[0f36bececdf0dff6e600d6f64214b0f1]\n",
       "link E10 to E2--><a href=\"psysml:967d0111-ba43-4736-bbbb-a2fd42e2431e\" target=\"_top\" title=\"psysml:967d0111-ba43-4736-bbbb-a2fd42e2431e\" xlink:actuate=\"onRequest\" xlink:href=\"psysml:967d0111-ba43-4736-bbbb-a2fd42e2431e\" xlink:show=\"new\" xlink:title=\"psysml:967d0111-ba43-4736-bbbb-a2fd42e2431e\" xlink:type=\"simple\"><path d=\"M250.02,201.31 C242.51,219.95 231.48,247.35 221.59,271.91 \" fill=\"none\" id=\"E10-&gt;E2\" style=\"stroke: #383838; stroke-width: 1.0;\"/><polygon fill=\"#FFFFFF\" points=\"213.99,290.77,214.5927,270.5305,227.5796,275.7593,213.99,290.77\" style=\"stroke: #383838; stroke-width: 1.0;\"/><ellipse cx=\"218.5768\" cy=\"265.9899\" fill=\"#383838\" rx=\"2\" ry=\"2\" style=\"stroke: #383838; stroke-width: 1.0;\"/><ellipse cx=\"227.8532\" cy=\"269.7248\" fill=\"#383838\" rx=\"2\" ry=\"2\" style=\"stroke: #383838; stroke-width: 1.0;\"/></a><!--MD5=[c486546f04b0ba7ba167be7a08282ee9]\n",
       "@startuml\r\n",
       "skinparam linetype polyline\r\n",
       "skinparam monochrome true\r\n",
       "skinparam classbackgroundcolor white\r\n",
       "skinparam shadowing false\r\n",
       "skinparam wrapWidth 300\r\n",
       "hide circle\r\n",
       "\r\n",
       "package \"VariabilityTest\" as E1  [[psysml:6fd2d067-8ada-4ea8-9732-021f5438b424 ]]  {\r\n",
       "comp def \"P\" as E2  <<(T,blue) part def>> [[psysml:06c5c105-f179-4f9c-9acd-25394b323f4d ]] {\r\n",
       "- - attributes - -\r\n",
       "a\r\n",
       "}\r\n",
       "comp def \"Q\" as E3  <<(T,blue) part def>> [[psysml:dc55669e-d547-41b4-94bf-d6c68c80b885 ]] {\r\n",
       "}\r\n",
       "comp def \"B\" as E4  <<(T,blue) attribute def>> [[psysml:18777e48-4bd6-4ac5-98df-f6aab0b7358e ]] {\r\n",
       "}\r\n",
       "comp def \"V\" as E5  <<(T,blue) part def>> [[psysml:b19cdb52-b52e-4af3-afe9-4ea29743154a ]] {\r\n",
       "}\r\n",
       "comp usage \"x: Q\" as E6  <<(T,blue) part>> [[psysml:a2bd922e-3e40-42bd-80e3-ecb5a548758e ]] {\r\n",
       "- - attributes - -\r\n",
       "b: B\\n//:>>P::a// \r\n",
       "}\r\n",
       "comp usage \"q: Q\" as E7  <<(T,blue) part>> [[psysml:84f1cc81-1e5a-4a4b-9822-237c593dc1ed ]] {\r\n",
       "}\r\n",
       "comp usage \"v: P\" as E8  <<variation>>\\n <<(T,blue) part>> [[psysml:d9c8c4c9-730a-472e-ad5c-9ed2548fca6c ]] {\r\n",
       "}\r\n",
       "comp usage \"q\" as E9  <<(T,blue) reference>> [[psysml:29b56154-ee98-4bdd-852f-875051132018 ]] {\r\n",
       "- - attributes - -\r\n",
       "b: B\\n//:>>P::a// \r\n",
       "}\r\n",
       "comp usage \"y: P\" as E10  <<(T,blue) part>> [[psysml:e49f0805-0747-4902-8d4f-55ae479a1338 ]] {\r\n",
       "}\r\n",
       "}\r\n",
       "E3 - -|> E2 [[psysml:f79594a1-bc1c-4f37-98e7-b8999b5b3daa ]] \r\n",
       "E5 - -|> E2 [[psysml:e72a8b47-cfcf-460f-abbe-f19ffcddd547 ]] \r\n",
       "E5 )- ->> E6 [[psysml:d1158e90-c200-41a0-bff8-4b2e6825fa74 ]] : <<variant>>\r\n",
       "E7 - -:|> E3 [[psysml:df5a11ab-14bd-474c-9e9f-2e0517640249 ]] \r\n",
       "E8 - -:|> E2 [[psysml:108d975b-2613-446e-8683-bfdaec0afedf ]] \r\n",
       "E8 )- ->> E9 [[psysml:ebcdab70-773e-42b3-a4e9-8c7478e829d7 ]] : <<variant>>\r\n",
       "E10 - -:|> E2 [[psysml:967d0111-ba43-4736-bbbb-a2fd42e2431e ]] \r\n",
       "@enduml\r\n",
       "\n",
       "PlantUML version 1.2020.13(Sat Jun 13 12:26:38 UTC 2020)\n",
       "(EPL source distribution)\n",
       "Java Runtime: OpenJDK Runtime Environment\n",
       "JVM: OpenJDK 64-Bit Server VM\n",
       "Default Encoding: UTF-8\n",
       "Language: en\n",
       "Country: null\n",
       "--></g></svg>"
      ]
     },
     "execution_count": 15,
     "metadata": {},
     "output_type": "execute_result"
    }
   ],
   "source": [
    "%viz --style=\"POLYLINE\" --view=\"MIXED\" \"VariabilityTest\""
   ]
  },
  {
   "cell_type": "code",
   "execution_count": 16,
   "id": "238aca49",
   "metadata": {
    "execution": {
     "iopub.execute_input": "2021-10-03T08:28:15.351236Z",
     "iopub.status.busy": "2021-10-03T08:28:15.350792Z",
     "iopub.status.idle": "2021-10-03T08:28:15.423375Z",
     "shell.execute_reply": "2021-10-03T08:28:15.423017Z"
    }
   },
   "outputs": [
    {
     "data": {
      "image/svg+xml": [
       "<?xml version=\"1.0\" encoding=\"UTF-8\" standalone=\"no\"?><svg xmlns=\"http://www.w3.org/2000/svg\" xmlns:xlink=\"http://www.w3.org/1999/xlink\" contentScriptType=\"application/ecmascript\" contentStyleType=\"text/css\" height=\"391px\" preserveAspectRatio=\"none\" style=\"width:495px;height:391px;\" version=\"1.1\" viewBox=\"0 0 495 391\" width=\"495px\" zoomAndPan=\"magnify\"><defs/><g><!--MD5=[fbc87193dbaf4d95561dea2c320d4a47]\n",
       "cluster E1--><a href=\"psysml:6fd2d067-8ada-4ea8-9732-021f5438b424\" target=\"_top\" title=\"psysml:6fd2d067-8ada-4ea8-9732-021f5438b424\" xlink:actuate=\"onRequest\" xlink:href=\"psysml:6fd2d067-8ada-4ea8-9732-021f5438b424\" xlink:show=\"new\" xlink:title=\"psysml:6fd2d067-8ada-4ea8-9732-021f5438b424\" xlink:type=\"simple\"><polygon fill=\"#FFFFFF\" points=\"16,6,116,6,123,28.2969,473,28.2969,473,379,16,379,16,6\" style=\"stroke: #000000; stroke-width: 1.5;\"/><line style=\"stroke: #000000; stroke-width: 1.5;\" x1=\"16\" x2=\"123\" y1=\"28.2969\" y2=\"28.2969\"/><text fill=\"#000000\" font-family=\"sans-serif\" font-size=\"14\" font-weight=\"bold\" lengthAdjust=\"spacingAndGlyphs\" textLength=\"94\" x=\"20\" y=\"20.9951\">VariabilityTest</text></a><!--MD5=[b4997ac47864f28c2f74865a473b2911]\n",
       "class E2--><a href=\"psysml:06c5c105-f179-4f9c-9acd-25394b323f4d\" target=\"_top\" title=\"psysml:06c5c105-f179-4f9c-9acd-25394b323f4d\" xlink:actuate=\"onRequest\" xlink:href=\"psysml:06c5c105-f179-4f9c-9acd-25394b323f4d\" xlink:show=\"new\" xlink:title=\"psysml:06c5c105-f179-4f9c-9acd-25394b323f4d\" xlink:type=\"simple\"><rect fill=\"#FFFFFF\" height=\"75.5469\" id=\"E2\" style=\"stroke: #383838; stroke-width: 1.5;\" width=\"66\" x=\"385.5\" y=\"164\"/><text fill=\"#000000\" font-family=\"sans-serif\" font-size=\"12\" font-style=\"italic\" lengthAdjust=\"spacingAndGlyphs\" textLength=\"64\" x=\"386.5\" y=\"180.1387\">«part def»</text><text fill=\"#000000\" font-family=\"sans-serif\" font-size=\"12\" lengthAdjust=\"spacingAndGlyphs\" textLength=\"8\" x=\"414.5\" y=\"194.1074\">P</text><line style=\"stroke: #383838; stroke-width: 1.5;\" x1=\"386.5\" x2=\"450.5\" y1=\"201.9375\" y2=\"201.9375\"/><text fill=\"#000000\" font-family=\"sans-serif\" font-size=\"11\" lengthAdjust=\"spacingAndGlyphs\" textLength=\"7\" x=\"391.5\" y=\"232.9526\">a</text><line style=\"stroke: #383838; stroke-width: 1.0;\" x1=\"386.5\" x2=\"391\" y1=\"216.3398\" y2=\"216.3398\"/><text fill=\"#000000\" font-family=\"sans-serif\" font-size=\"11\" lengthAdjust=\"spacingAndGlyphs\" textLength=\"55\" x=\"391\" y=\"219.6479\">attributes</text><line style=\"stroke: #383838; stroke-width: 1.0;\" x1=\"446\" x2=\"450.5\" y1=\"216.3398\" y2=\"216.3398\"/></a><!--MD5=[09b614a08d8cba4a07c9adeb5e0fee81]\n",
       "class E3--><a href=\"psysml:dc55669e-d547-41b4-94bf-d6c68c80b885\" target=\"_top\" title=\"psysml:dc55669e-d547-41b4-94bf-d6c68c80b885\" xlink:actuate=\"onRequest\" xlink:href=\"psysml:dc55669e-d547-41b4-94bf-d6c68c80b885\" xlink:show=\"new\" xlink:title=\"psysml:dc55669e-d547-41b4-94bf-d6c68c80b885\" xlink:type=\"simple\"><rect fill=\"#FFFFFF\" height=\"45.9375\" id=\"E3\" style=\"stroke: #383838; stroke-width: 1.5;\" width=\"66\" x=\"190\" y=\"215\"/><text fill=\"#000000\" font-family=\"sans-serif\" font-size=\"12\" font-style=\"italic\" lengthAdjust=\"spacingAndGlyphs\" textLength=\"64\" x=\"191\" y=\"231.1387\">«part def»</text><text fill=\"#000000\" font-family=\"sans-serif\" font-size=\"12\" lengthAdjust=\"spacingAndGlyphs\" textLength=\"9\" x=\"218.5\" y=\"245.1074\">Q</text><line style=\"stroke: #383838; stroke-width: 1.5;\" x1=\"191\" x2=\"255\" y1=\"252.9375\" y2=\"252.9375\"/></a><!--MD5=[ebbe1d658d1005bcc118a6aa81145e00]\n",
       "class E4--><a href=\"psysml:18777e48-4bd6-4ac5-98df-f6aab0b7358e\" target=\"_top\" title=\"psysml:18777e48-4bd6-4ac5-98df-f6aab0b7358e\" xlink:actuate=\"onRequest\" xlink:href=\"psysml:18777e48-4bd6-4ac5-98df-f6aab0b7358e\" xlink:show=\"new\" xlink:title=\"psysml:18777e48-4bd6-4ac5-98df-f6aab0b7358e\" xlink:type=\"simple\"><rect fill=\"#FFFFFF\" height=\"45.9375\" id=\"E4\" style=\"stroke: #383838; stroke-width: 1.5;\" width=\"95\" x=\"32\" y=\"84\"/><text fill=\"#000000\" font-family=\"sans-serif\" font-size=\"12\" font-style=\"italic\" lengthAdjust=\"spacingAndGlyphs\" textLength=\"93\" x=\"33\" y=\"100.1387\">«attribute def»</text><text fill=\"#000000\" font-family=\"sans-serif\" font-size=\"12\" lengthAdjust=\"spacingAndGlyphs\" textLength=\"8\" x=\"75.5\" y=\"114.1074\">B</text><line style=\"stroke: #383838; stroke-width: 1.5;\" x1=\"33\" x2=\"126\" y1=\"121.9375\" y2=\"121.9375\"/></a><!--MD5=[270fce915f116d4de14055a7c1d9a0f3]\n",
       "class E5--><a href=\"psysml:b19cdb52-b52e-4af3-afe9-4ea29743154a\" target=\"_top\" title=\"psysml:b19cdb52-b52e-4af3-afe9-4ea29743154a\" xlink:actuate=\"onRequest\" xlink:href=\"psysml:b19cdb52-b52e-4af3-afe9-4ea29743154a\" xlink:show=\"new\" xlink:title=\"psysml:b19cdb52-b52e-4af3-afe9-4ea29743154a\" xlink:type=\"simple\"><rect fill=\"#FFFFFF\" height=\"45.9375\" id=\"E5\" style=\"stroke: #383838; stroke-width: 1.5;\" width=\"66\" x=\"190\" y=\"53\"/><text fill=\"#000000\" font-family=\"sans-serif\" font-size=\"12\" font-style=\"italic\" lengthAdjust=\"spacingAndGlyphs\" textLength=\"64\" x=\"191\" y=\"69.1387\">«part def»</text><text fill=\"#000000\" font-family=\"sans-serif\" font-size=\"12\" lengthAdjust=\"spacingAndGlyphs\" textLength=\"8\" x=\"219\" y=\"83.1074\">V</text><line style=\"stroke: #383838; stroke-width: 1.5;\" x1=\"191\" x2=\"255\" y1=\"90.9375\" y2=\"90.9375\"/></a><!--MD5=[60a26617385b1d2d0262a64233df1f8d]\n",
       "class E6--><a href=\"psysml:a2bd922e-3e40-42bd-80e3-ecb5a548758e\" target=\"_top\" title=\"psysml:a2bd922e-3e40-42bd-80e3-ecb5a548758e\" xlink:actuate=\"onRequest\" xlink:href=\"psysml:a2bd922e-3e40-42bd-80e3-ecb5a548758e\" xlink:show=\"new\" xlink:title=\"psysml:a2bd922e-3e40-42bd-80e3-ecb5a548758e\" xlink:type=\"simple\"><rect fill=\"#FFFFFF\" height=\"88.3516\" id=\"E6\" rx=\"10\" ry=\"10\" style=\"stroke: #383838; stroke-width: 1.5;\" width=\"63\" x=\"387\" y=\"41\"/><text fill=\"#000000\" font-family=\"sans-serif\" font-size=\"12\" font-style=\"italic\" lengthAdjust=\"spacingAndGlyphs\" textLength=\"40\" x=\"398.5\" y=\"57.1387\">«part»</text><text fill=\"#000000\" font-family=\"sans-serif\" font-size=\"12\" lengthAdjust=\"spacingAndGlyphs\" textLength=\"23\" x=\"407\" y=\"71.1074\">x: Q</text><line style=\"stroke: #383838; stroke-width: 1.5;\" x1=\"388\" x2=\"449\" y1=\"78.9375\" y2=\"78.9375\"/><text fill=\"#000000\" font-family=\"sans-serif\" font-size=\"11\" lengthAdjust=\"spacingAndGlyphs\" textLength=\"23\" x=\"393\" y=\"109.9526\">b: B</text><text fill=\"#000000\" font-family=\"sans-serif\" font-size=\"11\" font-style=\"italic\" lengthAdjust=\"spacingAndGlyphs\" textLength=\"44\" x=\"393\" y=\"122.7573\">:&gt;&gt;P::a</text><line style=\"stroke: #383838; stroke-width: 1.0;\" x1=\"388\" x2=\"391\" y1=\"93.3398\" y2=\"93.3398\"/><text fill=\"#000000\" font-family=\"sans-serif\" font-size=\"11\" lengthAdjust=\"spacingAndGlyphs\" textLength=\"55\" x=\"391\" y=\"96.6479\">attributes</text><line style=\"stroke: #383838; stroke-width: 1.0;\" x1=\"446\" x2=\"449\" y1=\"93.3398\" y2=\"93.3398\"/></a><!--MD5=[2156ba9850f5573cc1fc38a6a4b2f02b]\n",
       "class E7--><a href=\"psysml:84f1cc81-1e5a-4a4b-9822-237c593dc1ed\" target=\"_top\" title=\"psysml:84f1cc81-1e5a-4a4b-9822-237c593dc1ed\" xlink:actuate=\"onRequest\" xlink:href=\"psysml:84f1cc81-1e5a-4a4b-9822-237c593dc1ed\" xlink:show=\"new\" xlink:title=\"psysml:84f1cc81-1e5a-4a4b-9822-237c593dc1ed\" xlink:type=\"simple\"><rect fill=\"#FFFFFF\" height=\"45.9375\" id=\"E7\" rx=\"10\" ry=\"10\" style=\"stroke: #383838; stroke-width: 1.5;\" width=\"42\" x=\"58.5\" y=\"215\"/><text fill=\"#000000\" font-family=\"sans-serif\" font-size=\"12\" font-style=\"italic\" lengthAdjust=\"spacingAndGlyphs\" textLength=\"40\" x=\"59.5\" y=\"231.1387\">«part»</text><text fill=\"#000000\" font-family=\"sans-serif\" font-size=\"12\" lengthAdjust=\"spacingAndGlyphs\" textLength=\"25\" x=\"67\" y=\"245.1074\">q: Q</text><line style=\"stroke: #383838; stroke-width: 1.5;\" x1=\"59.5\" x2=\"99.5\" y1=\"252.9375\" y2=\"252.9375\"/></a><!--MD5=[b9389687b975829384b498ac4b7476b2]\n",
       "class E8--><a href=\"psysml:d9c8c4c9-730a-472e-ad5c-9ed2548fca6c\" target=\"_top\" title=\"psysml:d9c8c4c9-730a-472e-ad5c-9ed2548fca6c\" xlink:actuate=\"onRequest\" xlink:href=\"psysml:d9c8c4c9-730a-472e-ad5c-9ed2548fca6c\" xlink:show=\"new\" xlink:title=\"psysml:d9c8c4c9-730a-472e-ad5c-9ed2548fca6c\" xlink:type=\"simple\"><rect fill=\"#FFFFFF\" height=\"59.9063\" id=\"E8\" rx=\"10\" ry=\"10\" style=\"stroke: #383838; stroke-width: 1.5;\" width=\"70\" x=\"188\" y=\"296\"/><text fill=\"#000000\" font-family=\"sans-serif\" font-size=\"12\" font-style=\"italic\" lengthAdjust=\"spacingAndGlyphs\" textLength=\"68\" x=\"189\" y=\"312.1387\">«variation»</text><text fill=\"#000000\" font-family=\"sans-serif\" font-size=\"12\" font-style=\"italic\" lengthAdjust=\"spacingAndGlyphs\" textLength=\"40\" x=\"203\" y=\"326.1074\">«part»</text><text fill=\"#000000\" font-family=\"sans-serif\" font-size=\"12\" lengthAdjust=\"spacingAndGlyphs\" textLength=\"22\" x=\"212\" y=\"340.0762\">v: P</text><line style=\"stroke: #383838; stroke-width: 1.5;\" x1=\"189\" x2=\"257\" y1=\"347.9063\" y2=\"347.9063\"/></a><!--MD5=[fd4143e9d270a159db93a4ea2a975926]\n",
       "class E9--><a href=\"psysml:29b56154-ee98-4bdd-852f-875051132018\" target=\"_top\" title=\"psysml:29b56154-ee98-4bdd-852f-875051132018\" xlink:actuate=\"onRequest\" xlink:href=\"psysml:29b56154-ee98-4bdd-852f-875051132018\" xlink:show=\"new\" xlink:title=\"psysml:29b56154-ee98-4bdd-852f-875051132018\" xlink:type=\"simple\"><rect fill=\"#FFFFFF\" height=\"88.3516\" id=\"E9\" rx=\"10\" ry=\"10\" style=\"stroke: #383838; stroke-width: 1.5;\" width=\"77\" x=\"380\" y=\"275\"/><text fill=\"#000000\" font-family=\"sans-serif\" font-size=\"12\" font-style=\"italic\" lengthAdjust=\"spacingAndGlyphs\" textLength=\"75\" x=\"381\" y=\"291.1387\">«reference»</text><text fill=\"#000000\" font-family=\"sans-serif\" font-size=\"12\" lengthAdjust=\"spacingAndGlyphs\" textLength=\"8\" x=\"414.5\" y=\"305.1074\">q</text><line style=\"stroke: #383838; stroke-width: 1.5;\" x1=\"381\" x2=\"456\" y1=\"312.9375\" y2=\"312.9375\"/><text fill=\"#000000\" font-family=\"sans-serif\" font-size=\"11\" lengthAdjust=\"spacingAndGlyphs\" textLength=\"23\" x=\"386\" y=\"343.9526\">b: B</text><text fill=\"#000000\" font-family=\"sans-serif\" font-size=\"11\" font-style=\"italic\" lengthAdjust=\"spacingAndGlyphs\" textLength=\"44\" x=\"386\" y=\"356.7573\">:&gt;&gt;P::a</text><line style=\"stroke: #383838; stroke-width: 1.0;\" x1=\"381\" x2=\"391\" y1=\"327.3398\" y2=\"327.3398\"/><text fill=\"#000000\" font-family=\"sans-serif\" font-size=\"11\" lengthAdjust=\"spacingAndGlyphs\" textLength=\"55\" x=\"391\" y=\"330.6479\">attributes</text><line style=\"stroke: #383838; stroke-width: 1.0;\" x1=\"446\" x2=\"456\" y1=\"327.3398\" y2=\"327.3398\"/></a><!--MD5=[96f4274e9e20536e775497830990834d]\n",
       "class E10--><a href=\"psysml:e49f0805-0747-4902-8d4f-55ae479a1338\" target=\"_top\" title=\"psysml:e49f0805-0747-4902-8d4f-55ae479a1338\" xlink:actuate=\"onRequest\" xlink:href=\"psysml:e49f0805-0747-4902-8d4f-55ae479a1338\" xlink:show=\"new\" xlink:title=\"psysml:e49f0805-0747-4902-8d4f-55ae479a1338\" xlink:type=\"simple\"><rect fill=\"#FFFFFF\" height=\"45.9375\" id=\"E10\" rx=\"10\" ry=\"10\" style=\"stroke: #383838; stroke-width: 1.5;\" width=\"42\" x=\"202\" y=\"134\"/><text fill=\"#000000\" font-family=\"sans-serif\" font-size=\"12\" font-style=\"italic\" lengthAdjust=\"spacingAndGlyphs\" textLength=\"40\" x=\"203\" y=\"150.1387\">«part»</text><text fill=\"#000000\" font-family=\"sans-serif\" font-size=\"12\" lengthAdjust=\"spacingAndGlyphs\" textLength=\"22\" x=\"212\" y=\"164.1074\">y: P</text><line style=\"stroke: #383838; stroke-width: 1.5;\" x1=\"203\" x2=\"243\" y1=\"171.9375\" y2=\"171.9375\"/></a><!--MD5=[05d275557350bfb9b23a4ef7222b4c39]\n",
       "link E3 to E2--><a href=\"psysml:f79594a1-bc1c-4f37-98e7-b8999b5b3daa\" target=\"_top\" title=\"psysml:f79594a1-bc1c-4f37-98e7-b8999b5b3daa\" xlink:actuate=\"onRequest\" xlink:href=\"psysml:f79594a1-bc1c-4f37-98e7-b8999b5b3daa\" xlink:show=\"new\" xlink:title=\"psysml:f79594a1-bc1c-4f37-98e7-b8999b5b3daa\" xlink:type=\"simple\"><path d=\"M256.39,231.97 C286.06,226.45 330.5,218.19 365.2,211.73 \" fill=\"none\" id=\"E3-&gt;E2\" style=\"stroke: #383838; stroke-width: 1.0;\"/><polygon fill=\"none\" points=\"364.39,204.76,385.33,207.99,366.95,218.53,364.39,204.76\" style=\"stroke: #383838; stroke-width: 1.0;\"/></a><!--MD5=[15ebcb19ae302d9b601edb458606d402]\n",
       "link E5 to E2--><a href=\"psysml:e72a8b47-cfcf-460f-abbe-f19ffcddd547\" target=\"_top\" title=\"psysml:e72a8b47-cfcf-460f-abbe-f19ffcddd547\" xlink:actuate=\"onRequest\" xlink:href=\"psysml:e72a8b47-cfcf-460f-abbe-f19ffcddd547\" xlink:show=\"new\" xlink:title=\"psysml:e72a8b47-cfcf-460f-abbe-f19ffcddd547\" xlink:type=\"simple\"><path d=\"M256.39,97.09 C286.9,116.96 333.03,147 368.13,169.85 \" fill=\"none\" id=\"E5-&gt;E2\" style=\"stroke: #383838; stroke-width: 1.0;\"/><polygon fill=\"none\" points=\"372.39,164.27,385.33,181.05,364.75,176,372.39,164.27\" style=\"stroke: #383838; stroke-width: 1.0;\"/></a><!--MD5=[9120cf2e5df3bff93db8f754bbbc09b4]\n",
       "link E5 to E6--><a href=\"psysml:d1158e90-c200-41a0-bff8-4b2e6825fa74\" target=\"_top\" title=\"psysml:d1158e90-c200-41a0-bff8-4b2e6825fa74\" xlink:actuate=\"onRequest\" xlink:href=\"psysml:d1158e90-c200-41a0-bff8-4b2e6825fa74\" xlink:show=\"new\" xlink:title=\"psysml:d1158e90-c200-41a0-bff8-4b2e6825fa74\" xlink:type=\"simple\"><path d=\"M266.69,77.99 C299.54,79.51 344.62,81.61 376.92,83.11 \" fill=\"none\" id=\"E5-E6\" style=\"stroke: #383838; stroke-width: 1.0;\"/><polygon fill=\"#383838\" points=\"386.92,83.58,379.0704,80.2061,378.7874,86.1994,386.92,83.58\" style=\"stroke: #383838; stroke-width: 1.0;\"/><path d=\"M259.0665,86.1028 A9,9 0 0 0 259.863 69.2071\" fill=\"none\" style=\"stroke: #383838; stroke-width: 1.5;\"/><text fill=\"#000000\" font-family=\"sans-serif\" font-size=\"13\" lengthAdjust=\"spacingAndGlyphs\" textLength=\"60\" x=\"289\" y=\"76.0669\">«variant»</text></a><!--MD5=[14ccda38c055a5c0da953d572bc50960]\n",
       "link E7 to E3--><a href=\"psysml:df5a11ab-14bd-474c-9e9f-2e0517640249\" target=\"_top\" title=\"psysml:df5a11ab-14bd-474c-9e9f-2e0517640249\" xlink:actuate=\"onRequest\" xlink:href=\"psysml:df5a11ab-14bd-474c-9e9f-2e0517640249\" xlink:show=\"new\" xlink:title=\"psysml:df5a11ab-14bd-474c-9e9f-2e0517640249\" xlink:type=\"simple\"><path d=\"M100.77,238 C118.65,238 145.5,238 169.39,238 \" fill=\"none\" id=\"E7-&gt;E3\" style=\"stroke: #383838; stroke-width: 1.0;\"/><polygon fill=\"#FFFFFF\" points=\"189.74,238,170.74,245,170.74,231,189.74,238\" style=\"stroke: #383838; stroke-width: 1.0;\"/><ellipse cx=\"165.04\" cy=\"243\" fill=\"#383838\" rx=\"2\" ry=\"2\" style=\"stroke: #383838; stroke-width: 1.0;\"/><ellipse cx=\"165.04\" cy=\"233\" fill=\"#383838\" rx=\"2\" ry=\"2\" style=\"stroke: #383838; stroke-width: 1.0;\"/></a><!--MD5=[f1f3f9f2fc535e6147756cb86a7f2e32]\n",
       "link E8 to E2--><a href=\"psysml:108d975b-2613-446e-8683-bfdaec0afedf\" target=\"_top\" title=\"psysml:108d975b-2613-446e-8683-bfdaec0afedf\" xlink:actuate=\"onRequest\" xlink:href=\"psysml:108d975b-2613-446e-8683-bfdaec0afedf\" xlink:show=\"new\" xlink:title=\"psysml:108d975b-2613-446e-8683-bfdaec0afedf\" xlink:type=\"simple\"><path d=\"M258.15,304.12 C288.73,284.52 333.94,255.55 368.39,233.47 \" fill=\"none\" id=\"E8-&gt;E2\" style=\"stroke: #383838; stroke-width: 1.0;\"/><polygon fill=\"#FFFFFF\" points=\"385.3,222.63,373.0842,238.7785,365.5272,226.9932,385.3,222.63\" style=\"stroke: #383838; stroke-width: 1.0;\"/><ellipse cx=\"367.2063\" cy=\"240.1717\" fill=\"#383838\" rx=\"2\" ry=\"2\" style=\"stroke: #383838; stroke-width: 1.0;\"/><ellipse cx=\"361.8085\" cy=\"231.7536\" fill=\"#383838\" rx=\"2\" ry=\"2\" style=\"stroke: #383838; stroke-width: 1.0;\"/></a><!--MD5=[ed10624c06dd9a4fa49ccf290e8b16a8]\n",
       "link E8 to E9--><a href=\"psysml:ebcdab70-773e-42b3-a4e9-8c7478e829d7\" target=\"_top\" title=\"psysml:ebcdab70-773e-42b3-a4e9-8c7478e829d7\" xlink:actuate=\"onRequest\" xlink:href=\"psysml:ebcdab70-773e-42b3-a4e9-8c7478e829d7\" xlink:show=\"new\" xlink:title=\"psysml:ebcdab70-773e-42b3-a4e9-8c7478e829d7\" xlink:type=\"simple\"><path d=\"M268.18,324.4 C298.44,323.31 338.55,321.86 369.58,320.73 \" fill=\"none\" id=\"E8-E9\" style=\"stroke: #383838; stroke-width: 1.0;\"/><polygon fill=\"#383838\" points=\"379.72,320.37,371.6142,317.669,371.8369,323.6649,379.72,320.37\" style=\"stroke: #383838; stroke-width: 1.0;\"/><path d=\"M261.5285,333.1018 A9,9 0 0 0 260.9239 316.1981\" fill=\"none\" style=\"stroke: #383838; stroke-width: 1.5;\"/><text fill=\"#000000\" font-family=\"sans-serif\" font-size=\"13\" lengthAdjust=\"spacingAndGlyphs\" textLength=\"60\" x=\"289\" y=\"318.0669\">«variant»</text></a><!--MD5=[0f36bececdf0dff6e600d6f64214b0f1]\n",
       "link E10 to E2--><a href=\"psysml:967d0111-ba43-4736-bbbb-a2fd42e2431e\" target=\"_top\" title=\"psysml:967d0111-ba43-4736-bbbb-a2fd42e2431e\" xlink:actuate=\"onRequest\" xlink:href=\"psysml:967d0111-ba43-4736-bbbb-a2fd42e2431e\" xlink:show=\"new\" xlink:title=\"psysml:967d0111-ba43-4736-bbbb-a2fd42e2431e\" xlink:type=\"simple\"><path d=\"M244.34,161.73 C272.87,168.36 325.72,180.66 365.56,189.92 \" fill=\"none\" id=\"E10-&gt;E2\" style=\"stroke: #383838; stroke-width: 1.0;\"/><polygon fill=\"#FFFFFF\" points=\"385.28,194.51,365.1886,197.0272,368.3578,183.3907,385.28,194.51\" style=\"stroke: #383838; stroke-width: 1.0;\"/><ellipse cx=\"360.0893\" cy=\"193.7888\" fill=\"#383838\" rx=\"2\" ry=\"2\" style=\"stroke: #383838; stroke-width: 1.0;\"/><ellipse cx=\"362.353\" cy=\"184.0484\" fill=\"#383838\" rx=\"2\" ry=\"2\" style=\"stroke: #383838; stroke-width: 1.0;\"/></a><!--MD5=[2da218804adbe9d109e08fc0739a4fae]\n",
       "@startuml\r\n",
       "left to right direction\r\n",
       "skinparam monochrome true\r\n",
       "skinparam classbackgroundcolor white\r\n",
       "skinparam shadowing false\r\n",
       "skinparam wrapWidth 300\r\n",
       "hide circle\r\n",
       "\r\n",
       "package \"VariabilityTest\" as E1  [[psysml:6fd2d067-8ada-4ea8-9732-021f5438b424 ]]  {\r\n",
       "comp def \"P\" as E2  <<(T,blue) part def>> [[psysml:06c5c105-f179-4f9c-9acd-25394b323f4d ]] {\r\n",
       "- - attributes - -\r\n",
       "a\r\n",
       "}\r\n",
       "comp def \"Q\" as E3  <<(T,blue) part def>> [[psysml:dc55669e-d547-41b4-94bf-d6c68c80b885 ]] {\r\n",
       "}\r\n",
       "comp def \"B\" as E4  <<(T,blue) attribute def>> [[psysml:18777e48-4bd6-4ac5-98df-f6aab0b7358e ]] {\r\n",
       "}\r\n",
       "comp def \"V\" as E5  <<(T,blue) part def>> [[psysml:b19cdb52-b52e-4af3-afe9-4ea29743154a ]] {\r\n",
       "}\r\n",
       "comp usage \"x: Q\" as E6  <<(T,blue) part>> [[psysml:a2bd922e-3e40-42bd-80e3-ecb5a548758e ]] {\r\n",
       "- - attributes - -\r\n",
       "b: B\\n//:>>P::a// \r\n",
       "}\r\n",
       "comp usage \"q: Q\" as E7  <<(T,blue) part>> [[psysml:84f1cc81-1e5a-4a4b-9822-237c593dc1ed ]] {\r\n",
       "}\r\n",
       "comp usage \"v: P\" as E8  <<variation>>\\n <<(T,blue) part>> [[psysml:d9c8c4c9-730a-472e-ad5c-9ed2548fca6c ]] {\r\n",
       "}\r\n",
       "comp usage \"q\" as E9  <<(T,blue) reference>> [[psysml:29b56154-ee98-4bdd-852f-875051132018 ]] {\r\n",
       "- - attributes - -\r\n",
       "b: B\\n//:>>P::a// \r\n",
       "}\r\n",
       "comp usage \"y: P\" as E10  <<(T,blue) part>> [[psysml:e49f0805-0747-4902-8d4f-55ae479a1338 ]] {\r\n",
       "}\r\n",
       "}\r\n",
       "E3 - -|> E2 [[psysml:f79594a1-bc1c-4f37-98e7-b8999b5b3daa ]] \r\n",
       "E5 - -|> E2 [[psysml:e72a8b47-cfcf-460f-abbe-f19ffcddd547 ]] \r\n",
       "E5 )- ->> E6 [[psysml:d1158e90-c200-41a0-bff8-4b2e6825fa74 ]] : <<variant>>\r\n",
       "E7 - -:|> E3 [[psysml:df5a11ab-14bd-474c-9e9f-2e0517640249 ]] \r\n",
       "E8 - -:|> E2 [[psysml:108d975b-2613-446e-8683-bfdaec0afedf ]] \r\n",
       "E8 )- ->> E9 [[psysml:ebcdab70-773e-42b3-a4e9-8c7478e829d7 ]] : <<variant>>\r\n",
       "E10 - -:|> E2 [[psysml:967d0111-ba43-4736-bbbb-a2fd42e2431e ]] \r\n",
       "@enduml\r\n",
       "\n",
       "PlantUML version 1.2020.13(Sat Jun 13 12:26:38 UTC 2020)\n",
       "(EPL source distribution)\n",
       "Java Runtime: OpenJDK Runtime Environment\n",
       "JVM: OpenJDK 64-Bit Server VM\n",
       "Default Encoding: UTF-8\n",
       "Language: en\n",
       "Country: null\n",
       "--></g></svg>"
      ]
     },
     "execution_count": 16,
     "metadata": {},
     "output_type": "execute_result"
    }
   ],
   "source": [
    "%viz --style=\"LR\" --view=\"Default\" \"VariabilityTest\""
   ]
  },
  {
   "cell_type": "code",
   "execution_count": 17,
   "id": "74fcae45",
   "metadata": {
    "execution": {
     "iopub.execute_input": "2021-10-03T08:28:15.472854Z",
     "iopub.status.busy": "2021-10-03T08:28:15.472436Z",
     "iopub.status.idle": "2021-10-03T08:28:15.558705Z",
     "shell.execute_reply": "2021-10-03T08:28:15.558505Z"
    }
   },
   "outputs": [
    {
     "data": {
      "image/svg+xml": [
       "<?xml version=\"1.0\" encoding=\"UTF-8\" standalone=\"no\"?><svg xmlns=\"http://www.w3.org/2000/svg\" xmlns:xlink=\"http://www.w3.org/1999/xlink\" contentScriptType=\"application/ecmascript\" contentStyleType=\"text/css\" height=\"391px\" preserveAspectRatio=\"none\" style=\"width:495px;height:391px;\" version=\"1.1\" viewBox=\"0 0 495 391\" width=\"495px\" zoomAndPan=\"magnify\"><defs/><g><!--MD5=[fbc87193dbaf4d95561dea2c320d4a47]\n",
       "cluster E1--><a href=\"psysml:6fd2d067-8ada-4ea8-9732-021f5438b424\" target=\"_top\" title=\"psysml:6fd2d067-8ada-4ea8-9732-021f5438b424\" xlink:actuate=\"onRequest\" xlink:href=\"psysml:6fd2d067-8ada-4ea8-9732-021f5438b424\" xlink:show=\"new\" xlink:title=\"psysml:6fd2d067-8ada-4ea8-9732-021f5438b424\" xlink:type=\"simple\"><polygon fill=\"#FFFFFF\" points=\"16,6,116,6,123,28.2969,473,28.2969,473,379,16,379,16,6\" style=\"stroke: #000000; stroke-width: 1.5;\"/><line style=\"stroke: #000000; stroke-width: 1.5;\" x1=\"16\" x2=\"123\" y1=\"28.2969\" y2=\"28.2969\"/><text fill=\"#000000\" font-family=\"sans-serif\" font-size=\"14\" font-weight=\"bold\" lengthAdjust=\"spacingAndGlyphs\" textLength=\"94\" x=\"20\" y=\"20.9951\">VariabilityTest</text></a><!--MD5=[b4997ac47864f28c2f74865a473b2911]\n",
       "class E2--><a href=\"psysml:06c5c105-f179-4f9c-9acd-25394b323f4d\" target=\"_top\" title=\"psysml:06c5c105-f179-4f9c-9acd-25394b323f4d\" xlink:actuate=\"onRequest\" xlink:href=\"psysml:06c5c105-f179-4f9c-9acd-25394b323f4d\" xlink:show=\"new\" xlink:title=\"psysml:06c5c105-f179-4f9c-9acd-25394b323f4d\" xlink:type=\"simple\"><rect fill=\"#FFFFFF\" height=\"75.5469\" id=\"E2\" style=\"stroke: #383838; stroke-width: 1.5;\" width=\"66\" x=\"385.5\" y=\"164\"/><text fill=\"#000000\" font-family=\"sans-serif\" font-size=\"12\" font-style=\"italic\" lengthAdjust=\"spacingAndGlyphs\" textLength=\"64\" x=\"386.5\" y=\"180.1387\">«part def»</text><text fill=\"#000000\" font-family=\"sans-serif\" font-size=\"12\" lengthAdjust=\"spacingAndGlyphs\" textLength=\"8\" x=\"414.5\" y=\"194.1074\">P</text><line style=\"stroke: #383838; stroke-width: 1.5;\" x1=\"386.5\" x2=\"450.5\" y1=\"201.9375\" y2=\"201.9375\"/><text fill=\"#000000\" font-family=\"sans-serif\" font-size=\"11\" lengthAdjust=\"spacingAndGlyphs\" textLength=\"7\" x=\"391.5\" y=\"232.9526\">a</text><line style=\"stroke: #383838; stroke-width: 1.0;\" x1=\"386.5\" x2=\"391\" y1=\"216.3398\" y2=\"216.3398\"/><text fill=\"#000000\" font-family=\"sans-serif\" font-size=\"11\" lengthAdjust=\"spacingAndGlyphs\" textLength=\"55\" x=\"391\" y=\"219.6479\">attributes</text><line style=\"stroke: #383838; stroke-width: 1.0;\" x1=\"446\" x2=\"450.5\" y1=\"216.3398\" y2=\"216.3398\"/></a><!--MD5=[09b614a08d8cba4a07c9adeb5e0fee81]\n",
       "class E3--><a href=\"psysml:dc55669e-d547-41b4-94bf-d6c68c80b885\" target=\"_top\" title=\"psysml:dc55669e-d547-41b4-94bf-d6c68c80b885\" xlink:actuate=\"onRequest\" xlink:href=\"psysml:dc55669e-d547-41b4-94bf-d6c68c80b885\" xlink:show=\"new\" xlink:title=\"psysml:dc55669e-d547-41b4-94bf-d6c68c80b885\" xlink:type=\"simple\"><rect fill=\"#FFFFFF\" height=\"45.9375\" id=\"E3\" style=\"stroke: #383838; stroke-width: 1.5;\" width=\"66\" x=\"190\" y=\"215\"/><text fill=\"#000000\" font-family=\"sans-serif\" font-size=\"12\" font-style=\"italic\" lengthAdjust=\"spacingAndGlyphs\" textLength=\"64\" x=\"191\" y=\"231.1387\">«part def»</text><text fill=\"#000000\" font-family=\"sans-serif\" font-size=\"12\" lengthAdjust=\"spacingAndGlyphs\" textLength=\"9\" x=\"218.5\" y=\"245.1074\">Q</text><line style=\"stroke: #383838; stroke-width: 1.5;\" x1=\"191\" x2=\"255\" y1=\"252.9375\" y2=\"252.9375\"/></a><!--MD5=[ebbe1d658d1005bcc118a6aa81145e00]\n",
       "class E4--><a href=\"psysml:18777e48-4bd6-4ac5-98df-f6aab0b7358e\" target=\"_top\" title=\"psysml:18777e48-4bd6-4ac5-98df-f6aab0b7358e\" xlink:actuate=\"onRequest\" xlink:href=\"psysml:18777e48-4bd6-4ac5-98df-f6aab0b7358e\" xlink:show=\"new\" xlink:title=\"psysml:18777e48-4bd6-4ac5-98df-f6aab0b7358e\" xlink:type=\"simple\"><rect fill=\"#FFFFFF\" height=\"45.9375\" id=\"E4\" style=\"stroke: #383838; stroke-width: 1.5;\" width=\"95\" x=\"32\" y=\"84\"/><text fill=\"#000000\" font-family=\"sans-serif\" font-size=\"12\" font-style=\"italic\" lengthAdjust=\"spacingAndGlyphs\" textLength=\"93\" x=\"33\" y=\"100.1387\">«attribute def»</text><text fill=\"#000000\" font-family=\"sans-serif\" font-size=\"12\" lengthAdjust=\"spacingAndGlyphs\" textLength=\"8\" x=\"75.5\" y=\"114.1074\">B</text><line style=\"stroke: #383838; stroke-width: 1.5;\" x1=\"33\" x2=\"126\" y1=\"121.9375\" y2=\"121.9375\"/></a><!--MD5=[270fce915f116d4de14055a7c1d9a0f3]\n",
       "class E5--><a href=\"psysml:b19cdb52-b52e-4af3-afe9-4ea29743154a\" target=\"_top\" title=\"psysml:b19cdb52-b52e-4af3-afe9-4ea29743154a\" xlink:actuate=\"onRequest\" xlink:href=\"psysml:b19cdb52-b52e-4af3-afe9-4ea29743154a\" xlink:show=\"new\" xlink:title=\"psysml:b19cdb52-b52e-4af3-afe9-4ea29743154a\" xlink:type=\"simple\"><rect fill=\"#FFFFFF\" height=\"45.9375\" id=\"E5\" style=\"stroke: #383838; stroke-width: 1.5;\" width=\"66\" x=\"190\" y=\"53\"/><text fill=\"#000000\" font-family=\"sans-serif\" font-size=\"12\" font-style=\"italic\" lengthAdjust=\"spacingAndGlyphs\" textLength=\"64\" x=\"191\" y=\"69.1387\">«part def»</text><text fill=\"#000000\" font-family=\"sans-serif\" font-size=\"12\" lengthAdjust=\"spacingAndGlyphs\" textLength=\"8\" x=\"219\" y=\"83.1074\">V</text><line style=\"stroke: #383838; stroke-width: 1.5;\" x1=\"191\" x2=\"255\" y1=\"90.9375\" y2=\"90.9375\"/></a><!--MD5=[60a26617385b1d2d0262a64233df1f8d]\n",
       "class E6--><a href=\"psysml:a2bd922e-3e40-42bd-80e3-ecb5a548758e\" target=\"_top\" title=\"psysml:a2bd922e-3e40-42bd-80e3-ecb5a548758e\" xlink:actuate=\"onRequest\" xlink:href=\"psysml:a2bd922e-3e40-42bd-80e3-ecb5a548758e\" xlink:show=\"new\" xlink:title=\"psysml:a2bd922e-3e40-42bd-80e3-ecb5a548758e\" xlink:type=\"simple\"><rect fill=\"#FFFFFF\" height=\"88.3516\" id=\"E6\" rx=\"10\" ry=\"10\" style=\"stroke: #383838; stroke-width: 1.5;\" width=\"63\" x=\"387\" y=\"41\"/><text fill=\"#000000\" font-family=\"sans-serif\" font-size=\"12\" font-style=\"italic\" lengthAdjust=\"spacingAndGlyphs\" textLength=\"40\" x=\"398.5\" y=\"57.1387\">«part»</text><text fill=\"#000000\" font-family=\"sans-serif\" font-size=\"12\" lengthAdjust=\"spacingAndGlyphs\" textLength=\"23\" x=\"407\" y=\"71.1074\">x: Q</text><line style=\"stroke: #383838; stroke-width: 1.5;\" x1=\"388\" x2=\"449\" y1=\"78.9375\" y2=\"78.9375\"/><text fill=\"#000000\" font-family=\"sans-serif\" font-size=\"11\" lengthAdjust=\"spacingAndGlyphs\" textLength=\"23\" x=\"393\" y=\"109.9526\">b: B</text><text fill=\"#000000\" font-family=\"sans-serif\" font-size=\"11\" font-style=\"italic\" lengthAdjust=\"spacingAndGlyphs\" textLength=\"44\" x=\"393\" y=\"122.7573\">:&gt;&gt;P::a</text><line style=\"stroke: #383838; stroke-width: 1.0;\" x1=\"388\" x2=\"391\" y1=\"93.3398\" y2=\"93.3398\"/><text fill=\"#000000\" font-family=\"sans-serif\" font-size=\"11\" lengthAdjust=\"spacingAndGlyphs\" textLength=\"55\" x=\"391\" y=\"96.6479\">attributes</text><line style=\"stroke: #383838; stroke-width: 1.0;\" x1=\"446\" x2=\"449\" y1=\"93.3398\" y2=\"93.3398\"/></a><!--MD5=[2156ba9850f5573cc1fc38a6a4b2f02b]\n",
       "class E7--><a href=\"psysml:84f1cc81-1e5a-4a4b-9822-237c593dc1ed\" target=\"_top\" title=\"psysml:84f1cc81-1e5a-4a4b-9822-237c593dc1ed\" xlink:actuate=\"onRequest\" xlink:href=\"psysml:84f1cc81-1e5a-4a4b-9822-237c593dc1ed\" xlink:show=\"new\" xlink:title=\"psysml:84f1cc81-1e5a-4a4b-9822-237c593dc1ed\" xlink:type=\"simple\"><rect fill=\"#FFFFFF\" height=\"45.9375\" id=\"E7\" rx=\"10\" ry=\"10\" style=\"stroke: #383838; stroke-width: 1.5;\" width=\"42\" x=\"58.5\" y=\"215\"/><text fill=\"#000000\" font-family=\"sans-serif\" font-size=\"12\" font-style=\"italic\" lengthAdjust=\"spacingAndGlyphs\" textLength=\"40\" x=\"59.5\" y=\"231.1387\">«part»</text><text fill=\"#000000\" font-family=\"sans-serif\" font-size=\"12\" lengthAdjust=\"spacingAndGlyphs\" textLength=\"25\" x=\"67\" y=\"245.1074\">q: Q</text><line style=\"stroke: #383838; stroke-width: 1.5;\" x1=\"59.5\" x2=\"99.5\" y1=\"252.9375\" y2=\"252.9375\"/></a><!--MD5=[b9389687b975829384b498ac4b7476b2]\n",
       "class E8--><a href=\"psysml:d9c8c4c9-730a-472e-ad5c-9ed2548fca6c\" target=\"_top\" title=\"psysml:d9c8c4c9-730a-472e-ad5c-9ed2548fca6c\" xlink:actuate=\"onRequest\" xlink:href=\"psysml:d9c8c4c9-730a-472e-ad5c-9ed2548fca6c\" xlink:show=\"new\" xlink:title=\"psysml:d9c8c4c9-730a-472e-ad5c-9ed2548fca6c\" xlink:type=\"simple\"><rect fill=\"#FFFFFF\" height=\"59.9063\" id=\"E8\" rx=\"10\" ry=\"10\" style=\"stroke: #383838; stroke-width: 1.5;\" width=\"70\" x=\"188\" y=\"296\"/><text fill=\"#000000\" font-family=\"sans-serif\" font-size=\"12\" font-style=\"italic\" lengthAdjust=\"spacingAndGlyphs\" textLength=\"68\" x=\"189\" y=\"312.1387\">«variation»</text><text fill=\"#000000\" font-family=\"sans-serif\" font-size=\"12\" font-style=\"italic\" lengthAdjust=\"spacingAndGlyphs\" textLength=\"40\" x=\"203\" y=\"326.1074\">«part»</text><text fill=\"#000000\" font-family=\"sans-serif\" font-size=\"12\" lengthAdjust=\"spacingAndGlyphs\" textLength=\"22\" x=\"212\" y=\"340.0762\">v: P</text><line style=\"stroke: #383838; stroke-width: 1.5;\" x1=\"189\" x2=\"257\" y1=\"347.9063\" y2=\"347.9063\"/></a><!--MD5=[fd4143e9d270a159db93a4ea2a975926]\n",
       "class E9--><a href=\"psysml:29b56154-ee98-4bdd-852f-875051132018\" target=\"_top\" title=\"psysml:29b56154-ee98-4bdd-852f-875051132018\" xlink:actuate=\"onRequest\" xlink:href=\"psysml:29b56154-ee98-4bdd-852f-875051132018\" xlink:show=\"new\" xlink:title=\"psysml:29b56154-ee98-4bdd-852f-875051132018\" xlink:type=\"simple\"><rect fill=\"#FFFFFF\" height=\"88.3516\" id=\"E9\" rx=\"10\" ry=\"10\" style=\"stroke: #383838; stroke-width: 1.5;\" width=\"77\" x=\"380\" y=\"275\"/><text fill=\"#000000\" font-family=\"sans-serif\" font-size=\"12\" font-style=\"italic\" lengthAdjust=\"spacingAndGlyphs\" textLength=\"75\" x=\"381\" y=\"291.1387\">«reference»</text><text fill=\"#000000\" font-family=\"sans-serif\" font-size=\"12\" lengthAdjust=\"spacingAndGlyphs\" textLength=\"8\" x=\"414.5\" y=\"305.1074\">q</text><line style=\"stroke: #383838; stroke-width: 1.5;\" x1=\"381\" x2=\"456\" y1=\"312.9375\" y2=\"312.9375\"/><text fill=\"#000000\" font-family=\"sans-serif\" font-size=\"11\" lengthAdjust=\"spacingAndGlyphs\" textLength=\"23\" x=\"386\" y=\"343.9526\">b: B</text><text fill=\"#000000\" font-family=\"sans-serif\" font-size=\"11\" font-style=\"italic\" lengthAdjust=\"spacingAndGlyphs\" textLength=\"44\" x=\"386\" y=\"356.7573\">:&gt;&gt;P::a</text><line style=\"stroke: #383838; stroke-width: 1.0;\" x1=\"381\" x2=\"391\" y1=\"327.3398\" y2=\"327.3398\"/><text fill=\"#000000\" font-family=\"sans-serif\" font-size=\"11\" lengthAdjust=\"spacingAndGlyphs\" textLength=\"55\" x=\"391\" y=\"330.6479\">attributes</text><line style=\"stroke: #383838; stroke-width: 1.0;\" x1=\"446\" x2=\"456\" y1=\"327.3398\" y2=\"327.3398\"/></a><!--MD5=[96f4274e9e20536e775497830990834d]\n",
       "class E10--><a href=\"psysml:e49f0805-0747-4902-8d4f-55ae479a1338\" target=\"_top\" title=\"psysml:e49f0805-0747-4902-8d4f-55ae479a1338\" xlink:actuate=\"onRequest\" xlink:href=\"psysml:e49f0805-0747-4902-8d4f-55ae479a1338\" xlink:show=\"new\" xlink:title=\"psysml:e49f0805-0747-4902-8d4f-55ae479a1338\" xlink:type=\"simple\"><rect fill=\"#FFFFFF\" height=\"45.9375\" id=\"E10\" rx=\"10\" ry=\"10\" style=\"stroke: #383838; stroke-width: 1.5;\" width=\"42\" x=\"202\" y=\"134\"/><text fill=\"#000000\" font-family=\"sans-serif\" font-size=\"12\" font-style=\"italic\" lengthAdjust=\"spacingAndGlyphs\" textLength=\"40\" x=\"203\" y=\"150.1387\">«part»</text><text fill=\"#000000\" font-family=\"sans-serif\" font-size=\"12\" lengthAdjust=\"spacingAndGlyphs\" textLength=\"22\" x=\"212\" y=\"164.1074\">y: P</text><line style=\"stroke: #383838; stroke-width: 1.5;\" x1=\"203\" x2=\"243\" y1=\"171.9375\" y2=\"171.9375\"/></a><!--MD5=[05d275557350bfb9b23a4ef7222b4c39]\n",
       "link E3 to E2--><a href=\"psysml:f79594a1-bc1c-4f37-98e7-b8999b5b3daa\" target=\"_top\" title=\"psysml:f79594a1-bc1c-4f37-98e7-b8999b5b3daa\" xlink:actuate=\"onRequest\" xlink:href=\"psysml:f79594a1-bc1c-4f37-98e7-b8999b5b3daa\" xlink:show=\"new\" xlink:title=\"psysml:f79594a1-bc1c-4f37-98e7-b8999b5b3daa\" xlink:type=\"simple\"><path d=\"M256.39,231.97 C286.06,226.45 330.5,218.19 365.2,211.73 \" fill=\"none\" id=\"E3-&gt;E2\" style=\"stroke: #383838; stroke-width: 1.0;\"/><polygon fill=\"none\" points=\"364.39,204.76,385.33,207.99,366.95,218.53,364.39,204.76\" style=\"stroke: #383838; stroke-width: 1.0;\"/></a><!--MD5=[15ebcb19ae302d9b601edb458606d402]\n",
       "link E5 to E2--><a href=\"psysml:e72a8b47-cfcf-460f-abbe-f19ffcddd547\" target=\"_top\" title=\"psysml:e72a8b47-cfcf-460f-abbe-f19ffcddd547\" xlink:actuate=\"onRequest\" xlink:href=\"psysml:e72a8b47-cfcf-460f-abbe-f19ffcddd547\" xlink:show=\"new\" xlink:title=\"psysml:e72a8b47-cfcf-460f-abbe-f19ffcddd547\" xlink:type=\"simple\"><path d=\"M256.39,97.09 C286.9,116.96 333.03,147 368.13,169.85 \" fill=\"none\" id=\"E5-&gt;E2\" style=\"stroke: #383838; stroke-width: 1.0;\"/><polygon fill=\"none\" points=\"372.39,164.27,385.33,181.05,364.75,176,372.39,164.27\" style=\"stroke: #383838; stroke-width: 1.0;\"/></a><!--MD5=[9120cf2e5df3bff93db8f754bbbc09b4]\n",
       "link E5 to E6--><a href=\"psysml:d1158e90-c200-41a0-bff8-4b2e6825fa74\" target=\"_top\" title=\"psysml:d1158e90-c200-41a0-bff8-4b2e6825fa74\" xlink:actuate=\"onRequest\" xlink:href=\"psysml:d1158e90-c200-41a0-bff8-4b2e6825fa74\" xlink:show=\"new\" xlink:title=\"psysml:d1158e90-c200-41a0-bff8-4b2e6825fa74\" xlink:type=\"simple\"><path d=\"M266.69,77.99 C299.54,79.51 344.62,81.61 376.92,83.11 \" fill=\"none\" id=\"E5-E6\" style=\"stroke: #383838; stroke-width: 1.0;\"/><polygon fill=\"#383838\" points=\"386.92,83.58,379.0704,80.2061,378.7874,86.1994,386.92,83.58\" style=\"stroke: #383838; stroke-width: 1.0;\"/><path d=\"M259.0665,86.1028 A9,9 0 0 0 259.863 69.2071\" fill=\"none\" style=\"stroke: #383838; stroke-width: 1.5;\"/><text fill=\"#000000\" font-family=\"sans-serif\" font-size=\"13\" lengthAdjust=\"spacingAndGlyphs\" textLength=\"60\" x=\"289\" y=\"76.0669\">«variant»</text></a><!--MD5=[14ccda38c055a5c0da953d572bc50960]\n",
       "link E7 to E3--><a href=\"psysml:df5a11ab-14bd-474c-9e9f-2e0517640249\" target=\"_top\" title=\"psysml:df5a11ab-14bd-474c-9e9f-2e0517640249\" xlink:actuate=\"onRequest\" xlink:href=\"psysml:df5a11ab-14bd-474c-9e9f-2e0517640249\" xlink:show=\"new\" xlink:title=\"psysml:df5a11ab-14bd-474c-9e9f-2e0517640249\" xlink:type=\"simple\"><path d=\"M100.77,238 C118.65,238 145.5,238 169.39,238 \" fill=\"none\" id=\"E7-&gt;E3\" style=\"stroke: #383838; stroke-width: 1.0;\"/><polygon fill=\"#FFFFFF\" points=\"189.74,238,170.74,245,170.74,231,189.74,238\" style=\"stroke: #383838; stroke-width: 1.0;\"/><ellipse cx=\"165.04\" cy=\"243\" fill=\"#383838\" rx=\"2\" ry=\"2\" style=\"stroke: #383838; stroke-width: 1.0;\"/><ellipse cx=\"165.04\" cy=\"233\" fill=\"#383838\" rx=\"2\" ry=\"2\" style=\"stroke: #383838; stroke-width: 1.0;\"/></a><!--MD5=[f1f3f9f2fc535e6147756cb86a7f2e32]\n",
       "link E8 to E2--><a href=\"psysml:108d975b-2613-446e-8683-bfdaec0afedf\" target=\"_top\" title=\"psysml:108d975b-2613-446e-8683-bfdaec0afedf\" xlink:actuate=\"onRequest\" xlink:href=\"psysml:108d975b-2613-446e-8683-bfdaec0afedf\" xlink:show=\"new\" xlink:title=\"psysml:108d975b-2613-446e-8683-bfdaec0afedf\" xlink:type=\"simple\"><path d=\"M258.15,304.12 C288.73,284.52 333.94,255.55 368.39,233.47 \" fill=\"none\" id=\"E8-&gt;E2\" style=\"stroke: #383838; stroke-width: 1.0;\"/><polygon fill=\"#FFFFFF\" points=\"385.3,222.63,373.0842,238.7785,365.5272,226.9932,385.3,222.63\" style=\"stroke: #383838; stroke-width: 1.0;\"/><ellipse cx=\"367.2063\" cy=\"240.1717\" fill=\"#383838\" rx=\"2\" ry=\"2\" style=\"stroke: #383838; stroke-width: 1.0;\"/><ellipse cx=\"361.8085\" cy=\"231.7536\" fill=\"#383838\" rx=\"2\" ry=\"2\" style=\"stroke: #383838; stroke-width: 1.0;\"/></a><!--MD5=[ed10624c06dd9a4fa49ccf290e8b16a8]\n",
       "link E8 to E9--><a href=\"psysml:ebcdab70-773e-42b3-a4e9-8c7478e829d7\" target=\"_top\" title=\"psysml:ebcdab70-773e-42b3-a4e9-8c7478e829d7\" xlink:actuate=\"onRequest\" xlink:href=\"psysml:ebcdab70-773e-42b3-a4e9-8c7478e829d7\" xlink:show=\"new\" xlink:title=\"psysml:ebcdab70-773e-42b3-a4e9-8c7478e829d7\" xlink:type=\"simple\"><path d=\"M268.18,324.4 C298.44,323.31 338.55,321.86 369.58,320.73 \" fill=\"none\" id=\"E8-E9\" style=\"stroke: #383838; stroke-width: 1.0;\"/><polygon fill=\"#383838\" points=\"379.72,320.37,371.6142,317.669,371.8369,323.6649,379.72,320.37\" style=\"stroke: #383838; stroke-width: 1.0;\"/><path d=\"M261.5285,333.1018 A9,9 0 0 0 260.9239 316.1981\" fill=\"none\" style=\"stroke: #383838; stroke-width: 1.5;\"/><text fill=\"#000000\" font-family=\"sans-serif\" font-size=\"13\" lengthAdjust=\"spacingAndGlyphs\" textLength=\"60\" x=\"289\" y=\"318.0669\">«variant»</text></a><!--MD5=[0f36bececdf0dff6e600d6f64214b0f1]\n",
       "link E10 to E2--><a href=\"psysml:967d0111-ba43-4736-bbbb-a2fd42e2431e\" target=\"_top\" title=\"psysml:967d0111-ba43-4736-bbbb-a2fd42e2431e\" xlink:actuate=\"onRequest\" xlink:href=\"psysml:967d0111-ba43-4736-bbbb-a2fd42e2431e\" xlink:show=\"new\" xlink:title=\"psysml:967d0111-ba43-4736-bbbb-a2fd42e2431e\" xlink:type=\"simple\"><path d=\"M244.34,161.73 C272.87,168.36 325.72,180.66 365.56,189.92 \" fill=\"none\" id=\"E10-&gt;E2\" style=\"stroke: #383838; stroke-width: 1.0;\"/><polygon fill=\"#FFFFFF\" points=\"385.28,194.51,365.1886,197.0272,368.3578,183.3907,385.28,194.51\" style=\"stroke: #383838; stroke-width: 1.0;\"/><ellipse cx=\"360.0893\" cy=\"193.7888\" fill=\"#383838\" rx=\"2\" ry=\"2\" style=\"stroke: #383838; stroke-width: 1.0;\"/><ellipse cx=\"362.353\" cy=\"184.0484\" fill=\"#383838\" rx=\"2\" ry=\"2\" style=\"stroke: #383838; stroke-width: 1.0;\"/></a><!--MD5=[2da218804adbe9d109e08fc0739a4fae]\n",
       "@startuml\r\n",
       "left to right direction\r\n",
       "skinparam monochrome true\r\n",
       "skinparam classbackgroundcolor white\r\n",
       "skinparam shadowing false\r\n",
       "skinparam wrapWidth 300\r\n",
       "hide circle\r\n",
       "\r\n",
       "package \"VariabilityTest\" as E1  [[psysml:6fd2d067-8ada-4ea8-9732-021f5438b424 ]]  {\r\n",
       "comp def \"P\" as E2  <<(T,blue) part def>> [[psysml:06c5c105-f179-4f9c-9acd-25394b323f4d ]] {\r\n",
       "- - attributes - -\r\n",
       "a\r\n",
       "}\r\n",
       "comp def \"Q\" as E3  <<(T,blue) part def>> [[psysml:dc55669e-d547-41b4-94bf-d6c68c80b885 ]] {\r\n",
       "}\r\n",
       "comp def \"B\" as E4  <<(T,blue) attribute def>> [[psysml:18777e48-4bd6-4ac5-98df-f6aab0b7358e ]] {\r\n",
       "}\r\n",
       "comp def \"V\" as E5  <<(T,blue) part def>> [[psysml:b19cdb52-b52e-4af3-afe9-4ea29743154a ]] {\r\n",
       "}\r\n",
       "comp usage \"x: Q\" as E6  <<(T,blue) part>> [[psysml:a2bd922e-3e40-42bd-80e3-ecb5a548758e ]] {\r\n",
       "- - attributes - -\r\n",
       "b: B\\n//:>>P::a// \r\n",
       "}\r\n",
       "comp usage \"q: Q\" as E7  <<(T,blue) part>> [[psysml:84f1cc81-1e5a-4a4b-9822-237c593dc1ed ]] {\r\n",
       "}\r\n",
       "comp usage \"v: P\" as E8  <<variation>>\\n <<(T,blue) part>> [[psysml:d9c8c4c9-730a-472e-ad5c-9ed2548fca6c ]] {\r\n",
       "}\r\n",
       "comp usage \"q\" as E9  <<(T,blue) reference>> [[psysml:29b56154-ee98-4bdd-852f-875051132018 ]] {\r\n",
       "- - attributes - -\r\n",
       "b: B\\n//:>>P::a// \r\n",
       "}\r\n",
       "comp usage \"y: P\" as E10  <<(T,blue) part>> [[psysml:e49f0805-0747-4902-8d4f-55ae479a1338 ]] {\r\n",
       "}\r\n",
       "}\r\n",
       "E3 - -|> E2 [[psysml:f79594a1-bc1c-4f37-98e7-b8999b5b3daa ]] \r\n",
       "E5 - -|> E2 [[psysml:e72a8b47-cfcf-460f-abbe-f19ffcddd547 ]] \r\n",
       "E5 )- ->> E6 [[psysml:d1158e90-c200-41a0-bff8-4b2e6825fa74 ]] : <<variant>>\r\n",
       "E7 - -:|> E3 [[psysml:df5a11ab-14bd-474c-9e9f-2e0517640249 ]] \r\n",
       "E8 - -:|> E2 [[psysml:108d975b-2613-446e-8683-bfdaec0afedf ]] \r\n",
       "E8 )- ->> E9 [[psysml:ebcdab70-773e-42b3-a4e9-8c7478e829d7 ]] : <<variant>>\r\n",
       "E10 - -:|> E2 [[psysml:967d0111-ba43-4736-bbbb-a2fd42e2431e ]] \r\n",
       "@enduml\r\n",
       "\n",
       "PlantUML version 1.2020.13(Sat Jun 13 12:26:38 UTC 2020)\n",
       "(EPL source distribution)\n",
       "Java Runtime: OpenJDK Runtime Environment\n",
       "JVM: OpenJDK 64-Bit Server VM\n",
       "Default Encoding: UTF-8\n",
       "Language: en\n",
       "Country: null\n",
       "--></g></svg>"
      ]
     },
     "execution_count": 17,
     "metadata": {},
     "output_type": "execute_result"
    }
   ],
   "source": [
    "%viz --style=\"LR\" --view=\"Tree\" \"VariabilityTest\""
   ]
  },
  {
   "cell_type": "code",
   "execution_count": 18,
   "id": "ab7969c3",
   "metadata": {
    "execution": {
     "iopub.execute_input": "2021-10-03T08:28:15.608599Z",
     "iopub.status.busy": "2021-10-03T08:28:15.608125Z",
     "iopub.status.idle": "2021-10-03T08:28:15.613002Z",
     "shell.execute_reply": "2021-10-03T08:28:15.613258Z"
    }
   },
   "outputs": [
    {
     "data": {
      "image/svg+xml": [
       "<?xml version=\"1.0\" encoding=\"UTF-8\" standalone=\"no\"?><svg xmlns=\"http://www.w3.org/2000/svg\" xmlns:xlink=\"http://www.w3.org/1999/xlink\" contentScriptType=\"application/ecmascript\" contentStyleType=\"text/css\" height=\"12px\" preserveAspectRatio=\"none\" style=\"width:12px;height:12px;\" version=\"1.1\" viewBox=\"0 0 12 12\" width=\"12px\" zoomAndPan=\"magnify\"><defs/><g><!--MD5=[19d285c9d72a204eba4e2cd117d745e8]\n",
       "@startuml\r\n",
       "left to right direction\r\n",
       "skinparam monochrome true\r\n",
       "skinparam classbackgroundcolor white\r\n",
       "skinparam shadowing false\r\n",
       "skinparam wrapWidth 300\r\n",
       "hide circle\r\n",
       "\r\n",
       "@enduml\r\n",
       "\n",
       "PlantUML version 1.2020.13(Sat Jun 13 12:26:38 UTC 2020)\n",
       "(EPL source distribution)\n",
       "Java Runtime: OpenJDK Runtime Environment\n",
       "JVM: OpenJDK 64-Bit Server VM\n",
       "Default Encoding: UTF-8\n",
       "Language: en\n",
       "Country: null\n",
       "--></g></svg>"
      ]
     },
     "execution_count": 18,
     "metadata": {},
     "output_type": "execute_result"
    }
   ],
   "source": [
    "%viz --style=\"LR\" --view=\"State\" \"VariabilityTest\""
   ]
  },
  {
   "cell_type": "code",
   "execution_count": 19,
   "id": "a205d062",
   "metadata": {
    "execution": {
     "iopub.execute_input": "2021-10-03T08:28:15.664162Z",
     "iopub.status.busy": "2021-10-03T08:28:15.663477Z",
     "iopub.status.idle": "2021-10-03T08:28:15.743178Z",
     "shell.execute_reply": "2021-10-03T08:28:15.742798Z"
    }
   },
   "outputs": [
    {
     "data": {
      "image/svg+xml": [
       "<?xml version=\"1.0\" encoding=\"UTF-8\" standalone=\"no\"?><svg xmlns=\"http://www.w3.org/2000/svg\" xmlns:xlink=\"http://www.w3.org/1999/xlink\" contentScriptType=\"application/ecmascript\" contentStyleType=\"text/css\" height=\"723px\" preserveAspectRatio=\"none\" style=\"width:372px;height:723px;\" version=\"1.1\" viewBox=\"0 0 372 723\" width=\"372px\" zoomAndPan=\"magnify\"><defs/><g><!--MD5=[fbc87193dbaf4d95561dea2c320d4a47]\n",
       "cluster E1--><a href=\"psysml:6fd2d067-8ada-4ea8-9732-021f5438b424\" target=\"_top\" title=\"psysml:6fd2d067-8ada-4ea8-9732-021f5438b424\" xlink:actuate=\"onRequest\" xlink:href=\"psysml:6fd2d067-8ada-4ea8-9732-021f5438b424\" xlink:show=\"new\" xlink:title=\"psysml:6fd2d067-8ada-4ea8-9732-021f5438b424\" xlink:type=\"simple\"><polygon fill=\"#FFFFFF\" points=\"16,6,116,6,123,28.2969,350,28.2969,350,711,16,711,16,6\" style=\"stroke: #000000; stroke-width: 1.5;\"/><line style=\"stroke: #000000; stroke-width: 1.5;\" x1=\"16\" x2=\"123\" y1=\"28.2969\" y2=\"28.2969\"/><text fill=\"#000000\" font-family=\"sans-serif\" font-size=\"14\" font-weight=\"bold\" lengthAdjust=\"spacingAndGlyphs\" textLength=\"94\" x=\"20\" y=\"20.9951\">VariabilityTest</text></a><!--MD5=[e4f7fae6ed58524ba242bb0b0d3be6b7]\n",
       "cluster E2--><a href=\"psysml:06c5c105-f179-4f9c-9acd-25394b323f4d\" target=\"_top\" title=\"psysml:06c5c105-f179-4f9c-9acd-25394b323f4d\" xlink:actuate=\"onRequest\" xlink:href=\"psysml:06c5c105-f179-4f9c-9acd-25394b323f4d\" xlink:show=\"new\" xlink:title=\"psysml:06c5c105-f179-4f9c-9acd-25394b323f4d\" xlink:type=\"simple\"><rect fill=\"#FFFFFF\" height=\"148\" id=\"E2\" style=\"stroke: #383838; stroke-width: 1.5;\" width=\"119\" x=\"199\" y=\"234\"/><rect fill=\"#F8F8F8\" height=\"37.9375\" style=\"stroke: #383838; stroke-width: 1.5;\" width=\"119\" x=\"199\" y=\"234\"/><text fill=\"#000000\" font-family=\"sans-serif\" font-size=\"12\" font-style=\"italic\" lengthAdjust=\"spacingAndGlyphs\" textLength=\"64\" x=\"226.5\" y=\"250.1387\">«part def»</text><text fill=\"#000000\" font-family=\"sans-serif\" font-size=\"12\" lengthAdjust=\"spacingAndGlyphs\" textLength=\"8\" x=\"254.5\" y=\"264.1074\">P</text></a><!--MD5=[14e3b0961a2654348d326746436168a1]\n",
       "cluster E6--><a href=\"psysml:b19cdb52-b52e-4af3-afe9-4ea29743154a\" target=\"_top\" title=\"psysml:b19cdb52-b52e-4af3-afe9-4ea29743154a\" xlink:actuate=\"onRequest\" xlink:href=\"psysml:b19cdb52-b52e-4af3-afe9-4ea29743154a\" xlink:show=\"new\" xlink:title=\"psysml:b19cdb52-b52e-4af3-afe9-4ea29743154a\" xlink:type=\"simple\"><rect fill=\"#FFFFFF\" height=\"176\" id=\"E6\" style=\"stroke: #383838; stroke-width: 1.5;\" width=\"111\" x=\"48\" y=\"57\"/><rect fill=\"#F8F8F8\" height=\"37.9375\" style=\"stroke: #383838; stroke-width: 1.5;\" width=\"111\" x=\"48\" y=\"57\"/><text fill=\"#000000\" font-family=\"sans-serif\" font-size=\"12\" font-style=\"italic\" lengthAdjust=\"spacingAndGlyphs\" textLength=\"64\" x=\"71.5\" y=\"73.1387\">«part def»</text><text fill=\"#000000\" font-family=\"sans-serif\" font-size=\"12\" lengthAdjust=\"spacingAndGlyphs\" textLength=\"8\" x=\"99.5\" y=\"87.1074\">V</text></a><!--MD5=[7f149f147074ac12df2cb0a7728a5fb0]\n",
       "cluster E9--><a href=\"psysml:d9c8c4c9-730a-472e-ad5c-9ed2548fca6c\" target=\"_top\" title=\"psysml:d9c8c4c9-730a-472e-ad5c-9ed2548fca6c\" xlink:actuate=\"onRequest\" xlink:href=\"psysml:d9c8c4c9-730a-472e-ad5c-9ed2548fca6c\" xlink:show=\"new\" xlink:title=\"psysml:d9c8c4c9-730a-472e-ad5c-9ed2548fca6c\" xlink:type=\"simple\"><rect fill=\"#FFFFFF\" height=\"139\" id=\"E9\" rx=\"10\" ry=\"10\" style=\"stroke: #383838; stroke-width: 1.5;\" width=\"109\" x=\"49\" y=\"265\"/><rect fill=\"#F8F8F8\" height=\"23.9688\" rx=\"10\" ry=\"10\" style=\"stroke: #F8F8F8; stroke-width: 1.5;\" width=\"109\" x=\"49\" y=\"265\"/><rect fill=\"#F8F8F8\" height=\"10\" style=\"stroke: #F8F8F8; stroke-width: 1.5;\" width=\"109\" x=\"49\" y=\"278.9688\"/><rect fill=\"none\" height=\"139\" id=\"E9\" rx=\"10\" ry=\"10\" style=\"stroke: #383838; stroke-width: 1.5;\" width=\"109\" x=\"49\" y=\"265\"/><text fill=\"#000000\" font-family=\"sans-serif\" font-size=\"12\" lengthAdjust=\"spacingAndGlyphs\" textLength=\"22\" x=\"92.5\" y=\"281.1387\">v: P</text><line style=\"stroke: #383838; stroke-width: 1.0;\" x1=\"49\" x2=\"158\" y1=\"288.9688\" y2=\"288.9688\"/></a><g id=\"E1.E5\"><a href=\"psysml:18777e48-4bd6-4ac5-98df-f6aab0b7358e\" target=\"_top\" title=\"psysml:18777e48-4bd6-4ac5-98df-f6aab0b7358e\" xlink:actuate=\"onRequest\" xlink:href=\"psysml:18777e48-4bd6-4ac5-98df-f6aab0b7358e\" xlink:show=\"new\" xlink:title=\"psysml:18777e48-4bd6-4ac5-98df-f6aab0b7358e\" xlink:type=\"simple\"><rect fill=\"#FFFFFF\" height=\"42.9375\" id=\"E5\" style=\"stroke: #383838; stroke-width: 1.5;\" width=\"100\" x=\"53.5\" y=\"423.5\"/><rect fill=\"#F8F8F8\" height=\"37.9375\" style=\"stroke: #383838; stroke-width: 1.5;\" width=\"100\" x=\"53.5\" y=\"423.5\"/><text fill=\"#000000\" font-family=\"sans-serif\" font-size=\"12\" font-style=\"italic\" lengthAdjust=\"spacingAndGlyphs\" textLength=\"93\" x=\"57\" y=\"439.6387\">«attribute def»</text><text fill=\"#000000\" font-family=\"sans-serif\" font-size=\"12\" lengthAdjust=\"spacingAndGlyphs\" textLength=\"8\" x=\"99.5\" y=\"453.6074\">B</text></a></g><!--MD5=[09b614a08d8cba4a07c9adeb5e0fee81]\n",
       "class E3--><a href=\"psysml:8d9858c1-4f67-40c3-af33-b29377a1672a\" target=\"_top\" title=\"psysml:8d9858c1-4f67-40c3-af33-b29377a1672a\" xlink:actuate=\"onRequest\" xlink:href=\"psysml:8d9858c1-4f67-40c3-af33-b29377a1672a\" xlink:show=\"new\" xlink:title=\"psysml:8d9858c1-4f67-40c3-af33-b29377a1672a\" xlink:type=\"simple\"><rect fill=\"#FFFFFF\" height=\"45.9375\" id=\"E3\" rx=\"10\" ry=\"10\" style=\"stroke: #383838; stroke-width: 1.5;\" width=\"71\" x=\"223\" y=\"293\"/><text fill=\"#000000\" font-family=\"sans-serif\" font-size=\"12\" font-style=\"italic\" lengthAdjust=\"spacingAndGlyphs\" textLength=\"69\" x=\"224\" y=\"309.1387\">«attribute»</text><text fill=\"#000000\" font-family=\"sans-serif\" font-size=\"12\" lengthAdjust=\"spacingAndGlyphs\" textLength=\"8\" x=\"254.5\" y=\"323.1074\">a</text><line style=\"stroke: #383838; stroke-width: 1.5;\" x1=\"224\" x2=\"293\" y1=\"330.9375\" y2=\"330.9375\"/></a><g id=\"E1.E4\"><a href=\"psysml:dc55669e-d547-41b4-94bf-d6c68c80b885\" target=\"_top\" title=\"psysml:dc55669e-d547-41b4-94bf-d6c68c80b885\" xlink:actuate=\"onRequest\" xlink:href=\"psysml:dc55669e-d547-41b4-94bf-d6c68c80b885\" xlink:show=\"new\" xlink:title=\"psysml:dc55669e-d547-41b4-94bf-d6c68c80b885\" xlink:type=\"simple\"><rect fill=\"#FFFFFF\" height=\"42.9375\" id=\"E4\" style=\"stroke: #383838; stroke-width: 1.5;\" width=\"71\" x=\"68\" y=\"501.5\"/><rect fill=\"#F8F8F8\" height=\"37.9375\" style=\"stroke: #383838; stroke-width: 1.5;\" width=\"71\" x=\"68\" y=\"501.5\"/><text fill=\"#000000\" font-family=\"sans-serif\" font-size=\"12\" font-style=\"italic\" lengthAdjust=\"spacingAndGlyphs\" textLength=\"64\" x=\"71.5\" y=\"517.6387\">«part def»</text><text fill=\"#000000\" font-family=\"sans-serif\" font-size=\"12\" lengthAdjust=\"spacingAndGlyphs\" textLength=\"9\" x=\"99\" y=\"531.6074\">Q</text></a></g><!--MD5=[2156ba9850f5573cc1fc38a6a4b2f02b]\n",
       "class E7--><a href=\"psysml:a2bd922e-3e40-42bd-80e3-ecb5a548758e\" target=\"_top\" title=\"psysml:a2bd922e-3e40-42bd-80e3-ecb5a548758e\" xlink:actuate=\"onRequest\" xlink:href=\"psysml:a2bd922e-3e40-42bd-80e3-ecb5a548758e\" xlink:show=\"new\" xlink:title=\"psysml:a2bd922e-3e40-42bd-80e3-ecb5a548758e\" xlink:type=\"simple\"><rect fill=\"#FFFFFF\" height=\"74.3828\" id=\"E7\" rx=\"10\" ry=\"10\" style=\"stroke: #383838; stroke-width: 1.5;\" width=\"63\" x=\"72\" y=\"116\"/><text fill=\"#000000\" font-family=\"sans-serif\" font-size=\"12\" lengthAdjust=\"spacingAndGlyphs\" textLength=\"23\" x=\"92\" y=\"132.1387\">x: Q</text><line style=\"stroke: #383838; stroke-width: 1.5;\" x1=\"73\" x2=\"134\" y1=\"139.9688\" y2=\"139.9688\"/><text fill=\"#000000\" font-family=\"sans-serif\" font-size=\"11\" lengthAdjust=\"spacingAndGlyphs\" textLength=\"23\" x=\"78\" y=\"170.9839\">b: B</text><text fill=\"#000000\" font-family=\"sans-serif\" font-size=\"11\" font-style=\"italic\" lengthAdjust=\"spacingAndGlyphs\" textLength=\"44\" x=\"78\" y=\"183.7886\">:&gt;&gt;P::a</text><line style=\"stroke: #383838; stroke-width: 1.0;\" x1=\"73\" x2=\"76\" y1=\"154.3711\" y2=\"154.3711\"/><text fill=\"#000000\" font-family=\"sans-serif\" font-size=\"11\" lengthAdjust=\"spacingAndGlyphs\" textLength=\"55\" x=\"76\" y=\"157.6792\">attributes</text><line style=\"stroke: #383838; stroke-width: 1.0;\" x1=\"131\" x2=\"134\" y1=\"154.3711\" y2=\"154.3711\"/></a><g id=\"E1.E8\"><a href=\"psysml:84f1cc81-1e5a-4a4b-9822-237c593dc1ed\" target=\"_top\" title=\"psysml:84f1cc81-1e5a-4a4b-9822-237c593dc1ed\" xlink:actuate=\"onRequest\" xlink:href=\"psysml:84f1cc81-1e5a-4a4b-9822-237c593dc1ed\" xlink:show=\"new\" xlink:title=\"psysml:84f1cc81-1e5a-4a4b-9822-237c593dc1ed\" xlink:type=\"simple\"><rect fill=\"#FFFFFF\" height=\"40\" id=\"E8\" rx=\"10\" ry=\"10\" style=\"stroke: #383838; stroke-width: 1.5;\" width=\"50\" x=\"78.5\" y=\"580\"/><rect fill=\"#F8F8F8\" height=\"23.9688\" rx=\"10\" ry=\"10\" style=\"stroke: #F8F8F8; stroke-width: 1.5;\" width=\"50\" x=\"78.5\" y=\"580\"/><rect fill=\"#F8F8F8\" height=\"10\" style=\"stroke: #F8F8F8; stroke-width: 1.5;\" width=\"50\" x=\"78.5\" y=\"593.9688\"/><rect fill=\"none\" height=\"40\" id=\"E8\" rx=\"10\" ry=\"10\" style=\"stroke: #383838; stroke-width: 1.5;\" width=\"50\" x=\"78.5\" y=\"580\"/><text fill=\"#000000\" font-family=\"sans-serif\" font-size=\"12\" lengthAdjust=\"spacingAndGlyphs\" textLength=\"25\" x=\"91\" y=\"596.1387\">q: Q</text></a></g><!--MD5=[96f4274e9e20536e775497830990834d]\n",
       "class E10--><a href=\"psysml:29b56154-ee98-4bdd-852f-875051132018\" target=\"_top\" title=\"psysml:29b56154-ee98-4bdd-852f-875051132018\" xlink:actuate=\"onRequest\" xlink:href=\"psysml:29b56154-ee98-4bdd-852f-875051132018\" xlink:show=\"new\" xlink:title=\"psysml:29b56154-ee98-4bdd-852f-875051132018\" xlink:type=\"simple\"><rect fill=\"#FFFFFF\" height=\"88.3516\" id=\"E10\" rx=\"10\" ry=\"10\" style=\"stroke: #383838; stroke-width: 1.5;\" width=\"77\" x=\"65\" y=\"300\"/><text fill=\"#000000\" font-family=\"sans-serif\" font-size=\"12\" font-style=\"italic\" lengthAdjust=\"spacingAndGlyphs\" textLength=\"75\" x=\"66\" y=\"316.1387\">«reference»</text><text fill=\"#000000\" font-family=\"sans-serif\" font-size=\"12\" lengthAdjust=\"spacingAndGlyphs\" textLength=\"8\" x=\"99.5\" y=\"330.1074\">q</text><line style=\"stroke: #383838; stroke-width: 1.5;\" x1=\"66\" x2=\"141\" y1=\"337.9375\" y2=\"337.9375\"/><text fill=\"#000000\" font-family=\"sans-serif\" font-size=\"11\" lengthAdjust=\"spacingAndGlyphs\" textLength=\"23\" x=\"71\" y=\"368.9526\">b: B</text><text fill=\"#000000\" font-family=\"sans-serif\" font-size=\"11\" font-style=\"italic\" lengthAdjust=\"spacingAndGlyphs\" textLength=\"44\" x=\"71\" y=\"381.7573\">:&gt;&gt;P::a</text><line style=\"stroke: #383838; stroke-width: 1.0;\" x1=\"66\" x2=\"76\" y1=\"352.3398\" y2=\"352.3398\"/><text fill=\"#000000\" font-family=\"sans-serif\" font-size=\"11\" lengthAdjust=\"spacingAndGlyphs\" textLength=\"55\" x=\"76\" y=\"355.6479\">attributes</text><line style=\"stroke: #383838; stroke-width: 1.0;\" x1=\"131\" x2=\"141\" y1=\"352.3398\" y2=\"352.3398\"/></a><g id=\"E1.E11\"><a href=\"psysml:e49f0805-0747-4902-8d4f-55ae479a1338\" target=\"_top\" title=\"psysml:e49f0805-0747-4902-8d4f-55ae479a1338\" xlink:actuate=\"onRequest\" xlink:href=\"psysml:e49f0805-0747-4902-8d4f-55ae479a1338\" xlink:show=\"new\" xlink:title=\"psysml:e49f0805-0747-4902-8d4f-55ae479a1338\" xlink:type=\"simple\"><rect fill=\"#FFFFFF\" height=\"40\" id=\"E11\" rx=\"10\" ry=\"10\" style=\"stroke: #383838; stroke-width: 1.5;\" width=\"77\" x=\"65\" y=\"655\"/><rect fill=\"#F8F8F8\" height=\"23.9688\" rx=\"10\" ry=\"10\" style=\"stroke: #F8F8F8; stroke-width: 1.5;\" width=\"77\" x=\"65\" y=\"655\"/><rect fill=\"#F8F8F8\" height=\"10\" style=\"stroke: #F8F8F8; stroke-width: 1.5;\" width=\"77\" x=\"65\" y=\"668.9688\"/><rect fill=\"none\" height=\"40\" id=\"E11\" rx=\"10\" ry=\"10\" style=\"stroke: #383838; stroke-width: 1.5;\" width=\"77\" x=\"65\" y=\"655\"/><text fill=\"#000000\" font-family=\"sans-serif\" font-size=\"12\" lengthAdjust=\"spacingAndGlyphs\" textLength=\"62\" x=\"70.5\" y=\"671.1387\">y: P= v::q;</text></a></g><!--MD5=[185131fc0dcab0a4505a2ebe144e961b]\n",
       "link E4 to E2--><a href=\"psysml:f79594a1-bc1c-4f37-98e7-b8999b5b3daa\" target=\"_top\" title=\"psysml:f79594a1-bc1c-4f37-98e7-b8999b5b3daa\" xlink:actuate=\"onRequest\" xlink:href=\"psysml:f79594a1-bc1c-4f37-98e7-b8999b5b3daa\" xlink:show=\"new\" xlink:title=\"psysml:f79594a1-bc1c-4f37-98e7-b8999b5b3daa\" xlink:type=\"simple\"><path d=\"M139.02,507.62 C151.12,501.3 164.34,493.28 175,484 C197.685,464.25 218.025,437.295 232.8325,415.0113 C240.2363,403.8694 246.2569,393.8953 250.4959,386.5736 C251.0258,385.6584 251.5279,384.7846 252.0013,383.9552 C252.238,383.5405 252.4676,383.1368 252.6899,382.7447 C252.801,382.5486 252.9104,382.3553 253.0179,382.165 \" fill=\"none\" id=\"E4-&gt;E2\" style=\"stroke: #383838; stroke-width: 1.0;\"/><polygon fill=\"#FFFFFF\" points=\"253.0179,382.165,237.5778,395.2647,249.7672,402.1508,253.0179,382.165\" style=\"stroke: #383838; stroke-width: 1.0;\"/></a><!--MD5=[2351f337d6de0f557b50152ba70847b5]\n",
       "link E6 to E2--><a href=\"psysml:e72a8b47-cfcf-460f-abbe-f19ffcddd547\" target=\"_top\" title=\"psysml:e72a8b47-cfcf-460f-abbe-f19ffcddd547\" xlink:actuate=\"onRequest\" xlink:href=\"psysml:e72a8b47-cfcf-460f-abbe-f19ffcddd547\" xlink:show=\"new\" xlink:title=\"psysml:e72a8b47-cfcf-460f-abbe-f19ffcddd547\" xlink:type=\"simple\"><path d=\"M119.969,233.1558 C120.0666,233.2125 120.1644,233.2695 120.2625,233.3268 C120.4588,233.4413 120.6564,233.557 120.8551,233.6738 C121.65,234.1409 122.4641,234.6257 123.2951,235.128 C126.6191,237.1373 130.2131,239.4259 133.93,241.9763 C148.7975,252.1775 165.63,266.565 175,284 C182.52,297.99 172.57,343.03 183,355 C185.7175,358.12 188.8694,360.763 192.3106,362.9987 C194.0312,364.1166 195.8241,365.1326 197.6712,366.0556 C197.9021,366.1709 198.1338,366.2848 198.3664,366.3973 C198.4827,366.4536 198.5991,366.5094 198.7158,366.565 \" fill=\"none\" id=\"E6-&gt;E2\" style=\"stroke: #383838; stroke-width: 1.0;\"/><polygon fill=\"#FFFFFF\" points=\"198.7158,366.565,184.5672,352.0799,178.5514,364.7215,198.7158,366.565\" style=\"stroke: #383838; stroke-width: 1.0;\"/></a><!--MD5=[6ebc7e5677c2b13e5b3a4c3d33a3f7bb]\n",
       "@startuml\r\n",
       "skinparam ranksep 10\r\n",
       "skinparam rectangle {\r\n",
       " backgroundColor<<block>> LightGreen\r\n",
       "}\r\n",
       "left to right direction\r\n",
       "skinparam monochrome true\r\n",
       "skinparam classbackgroundcolor white\r\n",
       "skinparam shadowing false\r\n",
       "skinparam wrapWidth 300\r\n",
       "hide circle\r\n",
       "\r\n",
       "package \"VariabilityTest\" as E1  [[psysml:6fd2d067-8ada-4ea8-9732-021f5438b424 ]]  {\r\n",
       "rec def \"P\" as E2  <<(T,blue) part def>> [[psysml:06c5c105-f179-4f9c-9acd-25394b323f4d ]] {\r\n",
       "comp usage \"a\" as E3  <<(T,blue) attribute>> [[psysml:8d9858c1-4f67-40c3-af33-b29377a1672a ]] {\r\n",
       "}\r\n",
       "}\r\n",
       "rec def \"Q\" as E4  <<(T,blue) part def>> [[psysml:dc55669e-d547-41b4-94bf-d6c68c80b885 ]] {\r\n",
       "}\r\n",
       "def \"B\" as E5  <<(T,blue) attribute def>> [[psysml:18777e48-4bd6-4ac5-98df-f6aab0b7358e ]] \r\n",
       "rec def \"V\" as E6  <<(T,blue) part def>> [[psysml:b19cdb52-b52e-4af3-afe9-4ea29743154a ]] {\r\n",
       "comp usage \"x: Q\" as E7  [[psysml:a2bd922e-3e40-42bd-80e3-ecb5a548758e ]] {\r\n",
       "- - attributes - -\r\n",
       "b: B\\n//:>>P::a// \r\n",
       "}\r\n",
       "}\r\n",
       "rec usage \"q: Q\" as E8  [[psysml:84f1cc81-1e5a-4a4b-9822-237c593dc1ed ]] {\r\n",
       "}\r\n",
       "rec usage \"v: P\" as E9  [[psysml:d9c8c4c9-730a-472e-ad5c-9ed2548fca6c ]] {\r\n",
       "comp usage \"q\" as E10  <<(T,blue) reference>> [[psysml:29b56154-ee98-4bdd-852f-875051132018 ]] {\r\n",
       "- - attributes - -\r\n",
       "b: B\\n//:>>P::a// \r\n",
       "}\r\n",
       "}\r\n",
       "rec usage \"y: P= v::q; \" as E11  [[psysml:e49f0805-0747-4902-8d4f-55ae479a1338 ]] {\r\n",
       "}\r\n",
       "}\r\n",
       "E4 - -|> E2 [[psysml:f79594a1-bc1c-4f37-98e7-b8999b5b3daa ]] \r\n",
       "E6 - -|> E2 [[psysml:e72a8b47-cfcf-460f-abbe-f19ffcddd547 ]] \r\n",
       "@enduml\r\n",
       "\n",
       "PlantUML version 1.2020.13(Sat Jun 13 12:26:38 UTC 2020)\n",
       "(EPL source distribution)\n",
       "Java Runtime: OpenJDK Runtime Environment\n",
       "JVM: OpenJDK 64-Bit Server VM\n",
       "Default Encoding: UTF-8\n",
       "Language: en\n",
       "Country: null\n",
       "--></g></svg>"
      ]
     },
     "execution_count": 19,
     "metadata": {},
     "output_type": "execute_result"
    }
   ],
   "source": [
    "%viz --style=\"LR\" --view=\"Interconnection\" \"VariabilityTest\""
   ]
  },
  {
   "cell_type": "code",
   "execution_count": 20,
   "id": "a4b4dfda",
   "metadata": {
    "execution": {
     "iopub.execute_input": "2021-10-03T08:28:15.792951Z",
     "iopub.status.busy": "2021-10-03T08:28:15.792327Z",
     "iopub.status.idle": "2021-10-03T08:28:15.798317Z",
     "shell.execute_reply": "2021-10-03T08:28:15.798616Z"
    }
   },
   "outputs": [
    {
     "data": {
      "image/svg+xml": [
       "<?xml version=\"1.0\" encoding=\"UTF-8\" standalone=\"no\"?><svg xmlns=\"http://www.w3.org/2000/svg\" xmlns:xlink=\"http://www.w3.org/1999/xlink\" contentScriptType=\"application/ecmascript\" contentStyleType=\"text/css\" height=\"12px\" preserveAspectRatio=\"none\" style=\"width:12px;height:12px;\" version=\"1.1\" viewBox=\"0 0 12 12\" width=\"12px\" zoomAndPan=\"magnify\"><defs/><g><!--MD5=[7aeb398939421629f6affaa4a1a7b125]\n",
       "@startuml\r\n",
       "skinparam ranksep 8\r\n",
       "left to right direction\r\n",
       "skinparam monochrome true\r\n",
       "skinparam classbackgroundcolor white\r\n",
       "skinparam shadowing false\r\n",
       "skinparam wrapWidth 300\r\n",
       "hide circle\r\n",
       "\r\n",
       "@enduml\r\n",
       "\n",
       "PlantUML version 1.2020.13(Sat Jun 13 12:26:38 UTC 2020)\n",
       "(EPL source distribution)\n",
       "Java Runtime: OpenJDK Runtime Environment\n",
       "JVM: OpenJDK 64-Bit Server VM\n",
       "Default Encoding: UTF-8\n",
       "Language: en\n",
       "Country: null\n",
       "--></g></svg>"
      ]
     },
     "execution_count": 20,
     "metadata": {},
     "output_type": "execute_result"
    }
   ],
   "source": [
    "%viz --style=\"LR\" --view=\"Action\" \"VariabilityTest\""
   ]
  },
  {
   "cell_type": "code",
   "execution_count": 21,
   "id": "636659ae",
   "metadata": {
    "execution": {
     "iopub.execute_input": "2021-10-03T08:28:15.848582Z",
     "iopub.status.busy": "2021-10-03T08:28:15.847956Z",
     "iopub.status.idle": "2021-10-03T08:28:15.854778Z",
     "shell.execute_reply": "2021-10-03T08:28:15.854431Z"
    }
   },
   "outputs": [
    {
     "data": {
      "image/svg+xml": [
       "<?xml version=\"1.0\" encoding=\"UTF-8\" standalone=\"no\"?><svg xmlns=\"http://www.w3.org/2000/svg\" xmlns:xlink=\"http://www.w3.org/1999/xlink\" contentScriptType=\"application/ecmascript\" contentStyleType=\"text/css\" height=\"12px\" preserveAspectRatio=\"none\" style=\"width:12px;height:12px;\" version=\"1.1\" viewBox=\"0 0 12 12\" width=\"12px\" zoomAndPan=\"magnify\"><defs/><g><!--MD5=[238c11ea2002f03115ad6b49a457d50e]\n",
       "@startuml\r\n",
       "skinparam roundcorner 20\r\n",
       "skinparam BoxPadding 20\r\n",
       "skinparam SequenceBoxBackgroundColor #white\r\n",
       "skinparam style strictuml\r\n",
       "skinparam maxMessageSize 100\r\n",
       "left to right direction\r\n",
       "skinparam monochrome true\r\n",
       "skinparam classbackgroundcolor white\r\n",
       "skinparam shadowing false\r\n",
       "skinparam wrapWidth 300\r\n",
       "hide circle\r\n",
       "\r\n",
       "@enduml\r\n",
       "\n",
       "PlantUML version 1.2020.13(Sat Jun 13 12:26:38 UTC 2020)\n",
       "(EPL source distribution)\n",
       "Java Runtime: OpenJDK Runtime Environment\n",
       "JVM: OpenJDK 64-Bit Server VM\n",
       "Default Encoding: UTF-8\n",
       "Language: en\n",
       "Country: null\n",
       "--></g></svg>"
      ]
     },
     "execution_count": 21,
     "metadata": {},
     "output_type": "execute_result"
    }
   ],
   "source": [
    "%viz --style=\"LR\" --view=\"Sequence\" \"VariabilityTest\""
   ]
  },
  {
   "cell_type": "code",
   "execution_count": 22,
   "id": "39e2a418",
   "metadata": {
    "execution": {
     "iopub.execute_input": "2021-10-03T08:28:15.904612Z",
     "iopub.status.busy": "2021-10-03T08:28:15.903986Z",
     "iopub.status.idle": "2021-10-03T08:28:15.989638Z",
     "shell.execute_reply": "2021-10-03T08:28:15.987672Z"
    }
   },
   "outputs": [
    {
     "data": {
      "image/svg+xml": [
       "<?xml version=\"1.0\" encoding=\"UTF-8\" standalone=\"no\"?><svg xmlns=\"http://www.w3.org/2000/svg\" xmlns:xlink=\"http://www.w3.org/1999/xlink\" contentScriptType=\"application/ecmascript\" contentStyleType=\"text/css\" height=\"391px\" preserveAspectRatio=\"none\" style=\"width:495px;height:391px;\" version=\"1.1\" viewBox=\"0 0 495 391\" width=\"495px\" zoomAndPan=\"magnify\"><defs/><g><!--MD5=[fbc87193dbaf4d95561dea2c320d4a47]\n",
       "cluster E1--><a href=\"psysml:6fd2d067-8ada-4ea8-9732-021f5438b424\" target=\"_top\" title=\"psysml:6fd2d067-8ada-4ea8-9732-021f5438b424\" xlink:actuate=\"onRequest\" xlink:href=\"psysml:6fd2d067-8ada-4ea8-9732-021f5438b424\" xlink:show=\"new\" xlink:title=\"psysml:6fd2d067-8ada-4ea8-9732-021f5438b424\" xlink:type=\"simple\"><polygon fill=\"#FFFFFF\" points=\"16,6,116,6,123,28.2969,473,28.2969,473,379,16,379,16,6\" style=\"stroke: #000000; stroke-width: 1.5;\"/><line style=\"stroke: #000000; stroke-width: 1.5;\" x1=\"16\" x2=\"123\" y1=\"28.2969\" y2=\"28.2969\"/><text fill=\"#000000\" font-family=\"sans-serif\" font-size=\"14\" font-weight=\"bold\" lengthAdjust=\"spacingAndGlyphs\" textLength=\"94\" x=\"20\" y=\"20.9951\">VariabilityTest</text></a><!--MD5=[b4997ac47864f28c2f74865a473b2911]\n",
       "class E2--><a href=\"psysml:06c5c105-f179-4f9c-9acd-25394b323f4d\" target=\"_top\" title=\"psysml:06c5c105-f179-4f9c-9acd-25394b323f4d\" xlink:actuate=\"onRequest\" xlink:href=\"psysml:06c5c105-f179-4f9c-9acd-25394b323f4d\" xlink:show=\"new\" xlink:title=\"psysml:06c5c105-f179-4f9c-9acd-25394b323f4d\" xlink:type=\"simple\"><rect fill=\"#FFFFFF\" height=\"75.5469\" id=\"E2\" style=\"stroke: #383838; stroke-width: 1.5;\" width=\"66\" x=\"385.5\" y=\"164\"/><text fill=\"#000000\" font-family=\"sans-serif\" font-size=\"12\" font-style=\"italic\" lengthAdjust=\"spacingAndGlyphs\" textLength=\"64\" x=\"386.5\" y=\"180.1387\">«part def»</text><text fill=\"#000000\" font-family=\"sans-serif\" font-size=\"12\" lengthAdjust=\"spacingAndGlyphs\" textLength=\"8\" x=\"414.5\" y=\"194.1074\">P</text><line style=\"stroke: #383838; stroke-width: 1.5;\" x1=\"386.5\" x2=\"450.5\" y1=\"201.9375\" y2=\"201.9375\"/><text fill=\"#000000\" font-family=\"sans-serif\" font-size=\"11\" lengthAdjust=\"spacingAndGlyphs\" textLength=\"7\" x=\"391.5\" y=\"232.9526\">a</text><line style=\"stroke: #383838; stroke-width: 1.0;\" x1=\"386.5\" x2=\"391\" y1=\"216.3398\" y2=\"216.3398\"/><text fill=\"#000000\" font-family=\"sans-serif\" font-size=\"11\" lengthAdjust=\"spacingAndGlyphs\" textLength=\"55\" x=\"391\" y=\"219.6479\">attributes</text><line style=\"stroke: #383838; stroke-width: 1.0;\" x1=\"446\" x2=\"450.5\" y1=\"216.3398\" y2=\"216.3398\"/></a><!--MD5=[09b614a08d8cba4a07c9adeb5e0fee81]\n",
       "class E3--><a href=\"psysml:dc55669e-d547-41b4-94bf-d6c68c80b885\" target=\"_top\" title=\"psysml:dc55669e-d547-41b4-94bf-d6c68c80b885\" xlink:actuate=\"onRequest\" xlink:href=\"psysml:dc55669e-d547-41b4-94bf-d6c68c80b885\" xlink:show=\"new\" xlink:title=\"psysml:dc55669e-d547-41b4-94bf-d6c68c80b885\" xlink:type=\"simple\"><rect fill=\"#FFFFFF\" height=\"45.9375\" id=\"E3\" style=\"stroke: #383838; stroke-width: 1.5;\" width=\"66\" x=\"190\" y=\"215\"/><text fill=\"#000000\" font-family=\"sans-serif\" font-size=\"12\" font-style=\"italic\" lengthAdjust=\"spacingAndGlyphs\" textLength=\"64\" x=\"191\" y=\"231.1387\">«part def»</text><text fill=\"#000000\" font-family=\"sans-serif\" font-size=\"12\" lengthAdjust=\"spacingAndGlyphs\" textLength=\"9\" x=\"218.5\" y=\"245.1074\">Q</text><line style=\"stroke: #383838; stroke-width: 1.5;\" x1=\"191\" x2=\"255\" y1=\"252.9375\" y2=\"252.9375\"/></a><!--MD5=[ebbe1d658d1005bcc118a6aa81145e00]\n",
       "class E4--><a href=\"psysml:18777e48-4bd6-4ac5-98df-f6aab0b7358e\" target=\"_top\" title=\"psysml:18777e48-4bd6-4ac5-98df-f6aab0b7358e\" xlink:actuate=\"onRequest\" xlink:href=\"psysml:18777e48-4bd6-4ac5-98df-f6aab0b7358e\" xlink:show=\"new\" xlink:title=\"psysml:18777e48-4bd6-4ac5-98df-f6aab0b7358e\" xlink:type=\"simple\"><rect fill=\"#FFFFFF\" height=\"45.9375\" id=\"E4\" style=\"stroke: #383838; stroke-width: 1.5;\" width=\"95\" x=\"32\" y=\"84\"/><text fill=\"#000000\" font-family=\"sans-serif\" font-size=\"12\" font-style=\"italic\" lengthAdjust=\"spacingAndGlyphs\" textLength=\"93\" x=\"33\" y=\"100.1387\">«attribute def»</text><text fill=\"#000000\" font-family=\"sans-serif\" font-size=\"12\" lengthAdjust=\"spacingAndGlyphs\" textLength=\"8\" x=\"75.5\" y=\"114.1074\">B</text><line style=\"stroke: #383838; stroke-width: 1.5;\" x1=\"33\" x2=\"126\" y1=\"121.9375\" y2=\"121.9375\"/></a><!--MD5=[270fce915f116d4de14055a7c1d9a0f3]\n",
       "class E5--><a href=\"psysml:b19cdb52-b52e-4af3-afe9-4ea29743154a\" target=\"_top\" title=\"psysml:b19cdb52-b52e-4af3-afe9-4ea29743154a\" xlink:actuate=\"onRequest\" xlink:href=\"psysml:b19cdb52-b52e-4af3-afe9-4ea29743154a\" xlink:show=\"new\" xlink:title=\"psysml:b19cdb52-b52e-4af3-afe9-4ea29743154a\" xlink:type=\"simple\"><rect fill=\"#FFFFFF\" height=\"45.9375\" id=\"E5\" style=\"stroke: #383838; stroke-width: 1.5;\" width=\"66\" x=\"190\" y=\"53\"/><text fill=\"#000000\" font-family=\"sans-serif\" font-size=\"12\" font-style=\"italic\" lengthAdjust=\"spacingAndGlyphs\" textLength=\"64\" x=\"191\" y=\"69.1387\">«part def»</text><text fill=\"#000000\" font-family=\"sans-serif\" font-size=\"12\" lengthAdjust=\"spacingAndGlyphs\" textLength=\"8\" x=\"219\" y=\"83.1074\">V</text><line style=\"stroke: #383838; stroke-width: 1.5;\" x1=\"191\" x2=\"255\" y1=\"90.9375\" y2=\"90.9375\"/></a><!--MD5=[60a26617385b1d2d0262a64233df1f8d]\n",
       "class E6--><a href=\"psysml:a2bd922e-3e40-42bd-80e3-ecb5a548758e\" target=\"_top\" title=\"psysml:a2bd922e-3e40-42bd-80e3-ecb5a548758e\" xlink:actuate=\"onRequest\" xlink:href=\"psysml:a2bd922e-3e40-42bd-80e3-ecb5a548758e\" xlink:show=\"new\" xlink:title=\"psysml:a2bd922e-3e40-42bd-80e3-ecb5a548758e\" xlink:type=\"simple\"><rect fill=\"#FFFFFF\" height=\"88.3516\" id=\"E6\" rx=\"10\" ry=\"10\" style=\"stroke: #383838; stroke-width: 1.5;\" width=\"63\" x=\"387\" y=\"41\"/><text fill=\"#000000\" font-family=\"sans-serif\" font-size=\"12\" font-style=\"italic\" lengthAdjust=\"spacingAndGlyphs\" textLength=\"40\" x=\"398.5\" y=\"57.1387\">«part»</text><text fill=\"#000000\" font-family=\"sans-serif\" font-size=\"12\" lengthAdjust=\"spacingAndGlyphs\" textLength=\"23\" x=\"407\" y=\"71.1074\">x: Q</text><line style=\"stroke: #383838; stroke-width: 1.5;\" x1=\"388\" x2=\"449\" y1=\"78.9375\" y2=\"78.9375\"/><text fill=\"#000000\" font-family=\"sans-serif\" font-size=\"11\" lengthAdjust=\"spacingAndGlyphs\" textLength=\"23\" x=\"393\" y=\"109.9526\">b: B</text><text fill=\"#000000\" font-family=\"sans-serif\" font-size=\"11\" font-style=\"italic\" lengthAdjust=\"spacingAndGlyphs\" textLength=\"44\" x=\"393\" y=\"122.7573\">:&gt;&gt;P::a</text><line style=\"stroke: #383838; stroke-width: 1.0;\" x1=\"388\" x2=\"391\" y1=\"93.3398\" y2=\"93.3398\"/><text fill=\"#000000\" font-family=\"sans-serif\" font-size=\"11\" lengthAdjust=\"spacingAndGlyphs\" textLength=\"55\" x=\"391\" y=\"96.6479\">attributes</text><line style=\"stroke: #383838; stroke-width: 1.0;\" x1=\"446\" x2=\"449\" y1=\"93.3398\" y2=\"93.3398\"/></a><!--MD5=[2156ba9850f5573cc1fc38a6a4b2f02b]\n",
       "class E7--><a href=\"psysml:84f1cc81-1e5a-4a4b-9822-237c593dc1ed\" target=\"_top\" title=\"psysml:84f1cc81-1e5a-4a4b-9822-237c593dc1ed\" xlink:actuate=\"onRequest\" xlink:href=\"psysml:84f1cc81-1e5a-4a4b-9822-237c593dc1ed\" xlink:show=\"new\" xlink:title=\"psysml:84f1cc81-1e5a-4a4b-9822-237c593dc1ed\" xlink:type=\"simple\"><rect fill=\"#FFFFFF\" height=\"45.9375\" id=\"E7\" rx=\"10\" ry=\"10\" style=\"stroke: #383838; stroke-width: 1.5;\" width=\"42\" x=\"58.5\" y=\"215\"/><text fill=\"#000000\" font-family=\"sans-serif\" font-size=\"12\" font-style=\"italic\" lengthAdjust=\"spacingAndGlyphs\" textLength=\"40\" x=\"59.5\" y=\"231.1387\">«part»</text><text fill=\"#000000\" font-family=\"sans-serif\" font-size=\"12\" lengthAdjust=\"spacingAndGlyphs\" textLength=\"25\" x=\"67\" y=\"245.1074\">q: Q</text><line style=\"stroke: #383838; stroke-width: 1.5;\" x1=\"59.5\" x2=\"99.5\" y1=\"252.9375\" y2=\"252.9375\"/></a><!--MD5=[b9389687b975829384b498ac4b7476b2]\n",
       "class E8--><a href=\"psysml:d9c8c4c9-730a-472e-ad5c-9ed2548fca6c\" target=\"_top\" title=\"psysml:d9c8c4c9-730a-472e-ad5c-9ed2548fca6c\" xlink:actuate=\"onRequest\" xlink:href=\"psysml:d9c8c4c9-730a-472e-ad5c-9ed2548fca6c\" xlink:show=\"new\" xlink:title=\"psysml:d9c8c4c9-730a-472e-ad5c-9ed2548fca6c\" xlink:type=\"simple\"><rect fill=\"#FFFFFF\" height=\"59.9063\" id=\"E8\" rx=\"10\" ry=\"10\" style=\"stroke: #383838; stroke-width: 1.5;\" width=\"70\" x=\"188\" y=\"296\"/><text fill=\"#000000\" font-family=\"sans-serif\" font-size=\"12\" font-style=\"italic\" lengthAdjust=\"spacingAndGlyphs\" textLength=\"68\" x=\"189\" y=\"312.1387\">«variation»</text><text fill=\"#000000\" font-family=\"sans-serif\" font-size=\"12\" font-style=\"italic\" lengthAdjust=\"spacingAndGlyphs\" textLength=\"40\" x=\"203\" y=\"326.1074\">«part»</text><text fill=\"#000000\" font-family=\"sans-serif\" font-size=\"12\" lengthAdjust=\"spacingAndGlyphs\" textLength=\"22\" x=\"212\" y=\"340.0762\">v: P</text><line style=\"stroke: #383838; stroke-width: 1.5;\" x1=\"189\" x2=\"257\" y1=\"347.9063\" y2=\"347.9063\"/></a><!--MD5=[fd4143e9d270a159db93a4ea2a975926]\n",
       "class E9--><a href=\"psysml:29b56154-ee98-4bdd-852f-875051132018\" target=\"_top\" title=\"psysml:29b56154-ee98-4bdd-852f-875051132018\" xlink:actuate=\"onRequest\" xlink:href=\"psysml:29b56154-ee98-4bdd-852f-875051132018\" xlink:show=\"new\" xlink:title=\"psysml:29b56154-ee98-4bdd-852f-875051132018\" xlink:type=\"simple\"><rect fill=\"#FFFFFF\" height=\"88.3516\" id=\"E9\" rx=\"10\" ry=\"10\" style=\"stroke: #383838; stroke-width: 1.5;\" width=\"77\" x=\"380\" y=\"275\"/><text fill=\"#000000\" font-family=\"sans-serif\" font-size=\"12\" font-style=\"italic\" lengthAdjust=\"spacingAndGlyphs\" textLength=\"75\" x=\"381\" y=\"291.1387\">«reference»</text><text fill=\"#000000\" font-family=\"sans-serif\" font-size=\"12\" lengthAdjust=\"spacingAndGlyphs\" textLength=\"8\" x=\"414.5\" y=\"305.1074\">q</text><line style=\"stroke: #383838; stroke-width: 1.5;\" x1=\"381\" x2=\"456\" y1=\"312.9375\" y2=\"312.9375\"/><text fill=\"#000000\" font-family=\"sans-serif\" font-size=\"11\" lengthAdjust=\"spacingAndGlyphs\" textLength=\"23\" x=\"386\" y=\"343.9526\">b: B</text><text fill=\"#000000\" font-family=\"sans-serif\" font-size=\"11\" font-style=\"italic\" lengthAdjust=\"spacingAndGlyphs\" textLength=\"44\" x=\"386\" y=\"356.7573\">:&gt;&gt;P::a</text><line style=\"stroke: #383838; stroke-width: 1.0;\" x1=\"381\" x2=\"391\" y1=\"327.3398\" y2=\"327.3398\"/><text fill=\"#000000\" font-family=\"sans-serif\" font-size=\"11\" lengthAdjust=\"spacingAndGlyphs\" textLength=\"55\" x=\"391\" y=\"330.6479\">attributes</text><line style=\"stroke: #383838; stroke-width: 1.0;\" x1=\"446\" x2=\"456\" y1=\"327.3398\" y2=\"327.3398\"/></a><!--MD5=[96f4274e9e20536e775497830990834d]\n",
       "class E10--><a href=\"psysml:e49f0805-0747-4902-8d4f-55ae479a1338\" target=\"_top\" title=\"psysml:e49f0805-0747-4902-8d4f-55ae479a1338\" xlink:actuate=\"onRequest\" xlink:href=\"psysml:e49f0805-0747-4902-8d4f-55ae479a1338\" xlink:show=\"new\" xlink:title=\"psysml:e49f0805-0747-4902-8d4f-55ae479a1338\" xlink:type=\"simple\"><rect fill=\"#FFFFFF\" height=\"45.9375\" id=\"E10\" rx=\"10\" ry=\"10\" style=\"stroke: #383838; stroke-width: 1.5;\" width=\"42\" x=\"202\" y=\"134\"/><text fill=\"#000000\" font-family=\"sans-serif\" font-size=\"12\" font-style=\"italic\" lengthAdjust=\"spacingAndGlyphs\" textLength=\"40\" x=\"203\" y=\"150.1387\">«part»</text><text fill=\"#000000\" font-family=\"sans-serif\" font-size=\"12\" lengthAdjust=\"spacingAndGlyphs\" textLength=\"22\" x=\"212\" y=\"164.1074\">y: P</text><line style=\"stroke: #383838; stroke-width: 1.5;\" x1=\"203\" x2=\"243\" y1=\"171.9375\" y2=\"171.9375\"/></a><!--MD5=[05d275557350bfb9b23a4ef7222b4c39]\n",
       "link E3 to E2--><a href=\"psysml:f79594a1-bc1c-4f37-98e7-b8999b5b3daa\" target=\"_top\" title=\"psysml:f79594a1-bc1c-4f37-98e7-b8999b5b3daa\" xlink:actuate=\"onRequest\" xlink:href=\"psysml:f79594a1-bc1c-4f37-98e7-b8999b5b3daa\" xlink:show=\"new\" xlink:title=\"psysml:f79594a1-bc1c-4f37-98e7-b8999b5b3daa\" xlink:type=\"simple\"><path d=\"M256.39,231.97 C286.06,226.45 330.5,218.19 365.2,211.73 \" fill=\"none\" id=\"E3-&gt;E2\" style=\"stroke: #383838; stroke-width: 1.0;\"/><polygon fill=\"none\" points=\"364.39,204.76,385.33,207.99,366.95,218.53,364.39,204.76\" style=\"stroke: #383838; stroke-width: 1.0;\"/></a><!--MD5=[15ebcb19ae302d9b601edb458606d402]\n",
       "link E5 to E2--><a href=\"psysml:e72a8b47-cfcf-460f-abbe-f19ffcddd547\" target=\"_top\" title=\"psysml:e72a8b47-cfcf-460f-abbe-f19ffcddd547\" xlink:actuate=\"onRequest\" xlink:href=\"psysml:e72a8b47-cfcf-460f-abbe-f19ffcddd547\" xlink:show=\"new\" xlink:title=\"psysml:e72a8b47-cfcf-460f-abbe-f19ffcddd547\" xlink:type=\"simple\"><path d=\"M256.39,97.09 C286.9,116.96 333.03,147 368.13,169.85 \" fill=\"none\" id=\"E5-&gt;E2\" style=\"stroke: #383838; stroke-width: 1.0;\"/><polygon fill=\"none\" points=\"372.39,164.27,385.33,181.05,364.75,176,372.39,164.27\" style=\"stroke: #383838; stroke-width: 1.0;\"/></a><!--MD5=[9120cf2e5df3bff93db8f754bbbc09b4]\n",
       "link E5 to E6--><a href=\"psysml:d1158e90-c200-41a0-bff8-4b2e6825fa74\" target=\"_top\" title=\"psysml:d1158e90-c200-41a0-bff8-4b2e6825fa74\" xlink:actuate=\"onRequest\" xlink:href=\"psysml:d1158e90-c200-41a0-bff8-4b2e6825fa74\" xlink:show=\"new\" xlink:title=\"psysml:d1158e90-c200-41a0-bff8-4b2e6825fa74\" xlink:type=\"simple\"><path d=\"M266.69,77.99 C299.54,79.51 344.62,81.61 376.92,83.11 \" fill=\"none\" id=\"E5-E6\" style=\"stroke: #383838; stroke-width: 1.0;\"/><polygon fill=\"#383838\" points=\"386.92,83.58,379.0704,80.2061,378.7874,86.1994,386.92,83.58\" style=\"stroke: #383838; stroke-width: 1.0;\"/><path d=\"M259.0665,86.1028 A9,9 0 0 0 259.863 69.2071\" fill=\"none\" style=\"stroke: #383838; stroke-width: 1.5;\"/><text fill=\"#000000\" font-family=\"sans-serif\" font-size=\"13\" lengthAdjust=\"spacingAndGlyphs\" textLength=\"60\" x=\"289\" y=\"76.0669\">«variant»</text></a><!--MD5=[14ccda38c055a5c0da953d572bc50960]\n",
       "link E7 to E3--><a href=\"psysml:df5a11ab-14bd-474c-9e9f-2e0517640249\" target=\"_top\" title=\"psysml:df5a11ab-14bd-474c-9e9f-2e0517640249\" xlink:actuate=\"onRequest\" xlink:href=\"psysml:df5a11ab-14bd-474c-9e9f-2e0517640249\" xlink:show=\"new\" xlink:title=\"psysml:df5a11ab-14bd-474c-9e9f-2e0517640249\" xlink:type=\"simple\"><path d=\"M100.77,238 C118.65,238 145.5,238 169.39,238 \" fill=\"none\" id=\"E7-&gt;E3\" style=\"stroke: #383838; stroke-width: 1.0;\"/><polygon fill=\"#FFFFFF\" points=\"189.74,238,170.74,245,170.74,231,189.74,238\" style=\"stroke: #383838; stroke-width: 1.0;\"/><ellipse cx=\"165.04\" cy=\"243\" fill=\"#383838\" rx=\"2\" ry=\"2\" style=\"stroke: #383838; stroke-width: 1.0;\"/><ellipse cx=\"165.04\" cy=\"233\" fill=\"#383838\" rx=\"2\" ry=\"2\" style=\"stroke: #383838; stroke-width: 1.0;\"/></a><!--MD5=[f1f3f9f2fc535e6147756cb86a7f2e32]\n",
       "link E8 to E2--><a href=\"psysml:108d975b-2613-446e-8683-bfdaec0afedf\" target=\"_top\" title=\"psysml:108d975b-2613-446e-8683-bfdaec0afedf\" xlink:actuate=\"onRequest\" xlink:href=\"psysml:108d975b-2613-446e-8683-bfdaec0afedf\" xlink:show=\"new\" xlink:title=\"psysml:108d975b-2613-446e-8683-bfdaec0afedf\" xlink:type=\"simple\"><path d=\"M258.15,304.12 C288.73,284.52 333.94,255.55 368.39,233.47 \" fill=\"none\" id=\"E8-&gt;E2\" style=\"stroke: #383838; stroke-width: 1.0;\"/><polygon fill=\"#FFFFFF\" points=\"385.3,222.63,373.0842,238.7785,365.5272,226.9932,385.3,222.63\" style=\"stroke: #383838; stroke-width: 1.0;\"/><ellipse cx=\"367.2063\" cy=\"240.1717\" fill=\"#383838\" rx=\"2\" ry=\"2\" style=\"stroke: #383838; stroke-width: 1.0;\"/><ellipse cx=\"361.8085\" cy=\"231.7536\" fill=\"#383838\" rx=\"2\" ry=\"2\" style=\"stroke: #383838; stroke-width: 1.0;\"/></a><!--MD5=[ed10624c06dd9a4fa49ccf290e8b16a8]\n",
       "link E8 to E9--><a href=\"psysml:ebcdab70-773e-42b3-a4e9-8c7478e829d7\" target=\"_top\" title=\"psysml:ebcdab70-773e-42b3-a4e9-8c7478e829d7\" xlink:actuate=\"onRequest\" xlink:href=\"psysml:ebcdab70-773e-42b3-a4e9-8c7478e829d7\" xlink:show=\"new\" xlink:title=\"psysml:ebcdab70-773e-42b3-a4e9-8c7478e829d7\" xlink:type=\"simple\"><path d=\"M268.18,324.4 C298.44,323.31 338.55,321.86 369.58,320.73 \" fill=\"none\" id=\"E8-E9\" style=\"stroke: #383838; stroke-width: 1.0;\"/><polygon fill=\"#383838\" points=\"379.72,320.37,371.6142,317.669,371.8369,323.6649,379.72,320.37\" style=\"stroke: #383838; stroke-width: 1.0;\"/><path d=\"M261.5285,333.1018 A9,9 0 0 0 260.9239 316.1981\" fill=\"none\" style=\"stroke: #383838; stroke-width: 1.5;\"/><text fill=\"#000000\" font-family=\"sans-serif\" font-size=\"13\" lengthAdjust=\"spacingAndGlyphs\" textLength=\"60\" x=\"289\" y=\"318.0669\">«variant»</text></a><!--MD5=[0f36bececdf0dff6e600d6f64214b0f1]\n",
       "link E10 to E2--><a href=\"psysml:967d0111-ba43-4736-bbbb-a2fd42e2431e\" target=\"_top\" title=\"psysml:967d0111-ba43-4736-bbbb-a2fd42e2431e\" xlink:actuate=\"onRequest\" xlink:href=\"psysml:967d0111-ba43-4736-bbbb-a2fd42e2431e\" xlink:show=\"new\" xlink:title=\"psysml:967d0111-ba43-4736-bbbb-a2fd42e2431e\" xlink:type=\"simple\"><path d=\"M244.34,161.73 C272.87,168.36 325.72,180.66 365.56,189.92 \" fill=\"none\" id=\"E10-&gt;E2\" style=\"stroke: #383838; stroke-width: 1.0;\"/><polygon fill=\"#FFFFFF\" points=\"385.28,194.51,365.1886,197.0272,368.3578,183.3907,385.28,194.51\" style=\"stroke: #383838; stroke-width: 1.0;\"/><ellipse cx=\"360.0893\" cy=\"193.7888\" fill=\"#383838\" rx=\"2\" ry=\"2\" style=\"stroke: #383838; stroke-width: 1.0;\"/><ellipse cx=\"362.353\" cy=\"184.0484\" fill=\"#383838\" rx=\"2\" ry=\"2\" style=\"stroke: #383838; stroke-width: 1.0;\"/></a><!--MD5=[2da218804adbe9d109e08fc0739a4fae]\n",
       "@startuml\r\n",
       "left to right direction\r\n",
       "skinparam monochrome true\r\n",
       "skinparam classbackgroundcolor white\r\n",
       "skinparam shadowing false\r\n",
       "skinparam wrapWidth 300\r\n",
       "hide circle\r\n",
       "\r\n",
       "package \"VariabilityTest\" as E1  [[psysml:6fd2d067-8ada-4ea8-9732-021f5438b424 ]]  {\r\n",
       "comp def \"P\" as E2  <<(T,blue) part def>> [[psysml:06c5c105-f179-4f9c-9acd-25394b323f4d ]] {\r\n",
       "- - attributes - -\r\n",
       "a\r\n",
       "}\r\n",
       "comp def \"Q\" as E3  <<(T,blue) part def>> [[psysml:dc55669e-d547-41b4-94bf-d6c68c80b885 ]] {\r\n",
       "}\r\n",
       "comp def \"B\" as E4  <<(T,blue) attribute def>> [[psysml:18777e48-4bd6-4ac5-98df-f6aab0b7358e ]] {\r\n",
       "}\r\n",
       "comp def \"V\" as E5  <<(T,blue) part def>> [[psysml:b19cdb52-b52e-4af3-afe9-4ea29743154a ]] {\r\n",
       "}\r\n",
       "comp usage \"x: Q\" as E6  <<(T,blue) part>> [[psysml:a2bd922e-3e40-42bd-80e3-ecb5a548758e ]] {\r\n",
       "- - attributes - -\r\n",
       "b: B\\n//:>>P::a// \r\n",
       "}\r\n",
       "comp usage \"q: Q\" as E7  <<(T,blue) part>> [[psysml:84f1cc81-1e5a-4a4b-9822-237c593dc1ed ]] {\r\n",
       "}\r\n",
       "comp usage \"v: P\" as E8  <<variation>>\\n <<(T,blue) part>> [[psysml:d9c8c4c9-730a-472e-ad5c-9ed2548fca6c ]] {\r\n",
       "}\r\n",
       "comp usage \"q\" as E9  <<(T,blue) reference>> [[psysml:29b56154-ee98-4bdd-852f-875051132018 ]] {\r\n",
       "- - attributes - -\r\n",
       "b: B\\n//:>>P::a// \r\n",
       "}\r\n",
       "comp usage \"y: P\" as E10  <<(T,blue) part>> [[psysml:e49f0805-0747-4902-8d4f-55ae479a1338 ]] {\r\n",
       "}\r\n",
       "}\r\n",
       "E3 - -|> E2 [[psysml:f79594a1-bc1c-4f37-98e7-b8999b5b3daa ]] \r\n",
       "E5 - -|> E2 [[psysml:e72a8b47-cfcf-460f-abbe-f19ffcddd547 ]] \r\n",
       "E5 )- ->> E6 [[psysml:d1158e90-c200-41a0-bff8-4b2e6825fa74 ]] : <<variant>>\r\n",
       "E7 - -:|> E3 [[psysml:df5a11ab-14bd-474c-9e9f-2e0517640249 ]] \r\n",
       "E8 - -:|> E2 [[psysml:108d975b-2613-446e-8683-bfdaec0afedf ]] \r\n",
       "E8 )- ->> E9 [[psysml:ebcdab70-773e-42b3-a4e9-8c7478e829d7 ]] : <<variant>>\r\n",
       "E10 - -:|> E2 [[psysml:967d0111-ba43-4736-bbbb-a2fd42e2431e ]] \r\n",
       "@enduml\r\n",
       "\n",
       "PlantUML version 1.2020.13(Sat Jun 13 12:26:38 UTC 2020)\n",
       "(EPL source distribution)\n",
       "Java Runtime: OpenJDK Runtime Environment\n",
       "JVM: OpenJDK 64-Bit Server VM\n",
       "Default Encoding: UTF-8\n",
       "Language: en\n",
       "Country: null\n",
       "--></g></svg>"
      ]
     },
     "execution_count": 22,
     "metadata": {},
     "output_type": "execute_result"
    }
   ],
   "source": [
    "%viz --style=\"LR\" --view=\"MIXED\" \"VariabilityTest\""
   ]
  },
  {
   "cell_type": "code",
   "execution_count": 23,
   "id": "0f74283c",
   "metadata": {
    "execution": {
     "iopub.execute_input": "2021-10-03T08:28:16.038868Z",
     "iopub.status.busy": "2021-10-03T08:28:16.038259Z",
     "iopub.status.idle": "2021-10-03T08:28:16.112395Z",
     "shell.execute_reply": "2021-10-03T08:28:16.111984Z"
    }
   },
   "outputs": [
    {
     "data": {
      "image/svg+xml": [
       "<?xml version=\"1.0\" encoding=\"UTF-8\" standalone=\"no\"?><svg xmlns=\"http://www.w3.org/2000/svg\" xmlns:xlink=\"http://www.w3.org/1999/xlink\" contentScriptType=\"application/ecmascript\" contentStyleType=\"text/css\" height=\"373px\" preserveAspectRatio=\"none\" style=\"width:419px;height:373px;\" version=\"1.1\" viewBox=\"0 0 419 373\" width=\"419px\" zoomAndPan=\"magnify\"><defs><filter height=\"300%\" id=\"f1vrnvtf7ggmgm\" width=\"300%\" x=\"-1\" y=\"-1\"><feGaussianBlur result=\"blurOut\" stdDeviation=\"2.0\"/><feColorMatrix in=\"blurOut\" result=\"blurOut2\" type=\"matrix\" values=\"0 0 0 0 0 0 0 0 0 0 0 0 0 0 0 0 0 0 .4 0\"/><feOffset dx=\"4.0\" dy=\"4.0\" in=\"blurOut2\" result=\"blurOut3\"/><feBlend in=\"SourceGraphic\" in2=\"blurOut3\" mode=\"normal\"/></filter></defs><g><!--MD5=[fbc87193dbaf4d95561dea2c320d4a47]\n",
       "cluster E1--><a href=\"psysml:6fd2d067-8ada-4ea8-9732-021f5438b424\" target=\"_top\" title=\"psysml:6fd2d067-8ada-4ea8-9732-021f5438b424\" xlink:actuate=\"onRequest\" xlink:href=\"psysml:6fd2d067-8ada-4ea8-9732-021f5438b424\" xlink:show=\"new\" xlink:title=\"psysml:6fd2d067-8ada-4ea8-9732-021f5438b424\" xlink:type=\"simple\"><polygon fill=\"#FFFFFF\" filter=\"url(#f1vrnvtf7ggmgm)\" points=\"16,6,116,6,123,28.2969,397,28.2969,397,361,16,361,16,6\" style=\"stroke: #000000; stroke-width: 1.5;\"/><line style=\"stroke: #000000; stroke-width: 1.5;\" x1=\"16\" x2=\"123\" y1=\"28.2969\" y2=\"28.2969\"/><text fill=\"#000000\" font-family=\"sans-serif\" font-size=\"14\" font-weight=\"bold\" lengthAdjust=\"spacingAndGlyphs\" textLength=\"94\" x=\"20\" y=\"20.9951\">VariabilityTest</text></a><!--MD5=[b4997ac47864f28c2f74865a473b2911]\n",
       "class E2--><a href=\"psysml:06c5c105-f179-4f9c-9acd-25394b323f4d\" target=\"_top\" title=\"psysml:06c5c105-f179-4f9c-9acd-25394b323f4d\" xlink:actuate=\"onRequest\" xlink:href=\"psysml:06c5c105-f179-4f9c-9acd-25394b323f4d\" xlink:show=\"new\" xlink:title=\"psysml:06c5c105-f179-4f9c-9acd-25394b323f4d\" xlink:type=\"simple\"><rect fill=\"#FEFECE\" filter=\"url(#f1vrnvtf7ggmgm)\" height=\"58.7422\" id=\"E2\" style=\"stroke: #A80036; stroke-width: 1.5;\" width=\"66\" x=\"162\" y=\"285.5\"/><text fill=\"#000000\" font-family=\"sans-serif\" font-size=\"12\" font-style=\"italic\" lengthAdjust=\"spacingAndGlyphs\" textLength=\"64\" x=\"163\" y=\"301.6387\">«part def»</text><text fill=\"#000000\" font-family=\"sans-serif\" font-size=\"12\" lengthAdjust=\"spacingAndGlyphs\" textLength=\"8\" x=\"191\" y=\"315.6074\">P</text><line style=\"stroke: #A80036; stroke-width: 1.5;\" x1=\"163\" x2=\"227\" y1=\"323.4375\" y2=\"323.4375\"/><text fill=\"#000000\" font-family=\"sans-serif\" font-size=\"11\" lengthAdjust=\"spacingAndGlyphs\" textLength=\"7\" x=\"168\" y=\"337.6479\">a</text></a><!--MD5=[09b614a08d8cba4a07c9adeb5e0fee81]\n",
       "class E3--><a href=\"psysml:dc55669e-d547-41b4-94bf-d6c68c80b885\" target=\"_top\" title=\"psysml:dc55669e-d547-41b4-94bf-d6c68c80b885\" xlink:actuate=\"onRequest\" xlink:href=\"psysml:dc55669e-d547-41b4-94bf-d6c68c80b885\" xlink:show=\"new\" xlink:title=\"psysml:dc55669e-d547-41b4-94bf-d6c68c80b885\" xlink:type=\"simple\"><rect fill=\"#FEFECE\" filter=\"url(#f1vrnvtf7ggmgm)\" height=\"45.9375\" id=\"E3\" style=\"stroke: #A80036; stroke-width: 1.5;\" width=\"66\" x=\"137\" y=\"155\"/><text fill=\"#000000\" font-family=\"sans-serif\" font-size=\"12\" font-style=\"italic\" lengthAdjust=\"spacingAndGlyphs\" textLength=\"64\" x=\"138\" y=\"171.1387\">«part def»</text><text fill=\"#000000\" font-family=\"sans-serif\" font-size=\"12\" lengthAdjust=\"spacingAndGlyphs\" textLength=\"9\" x=\"165.5\" y=\"185.1074\">Q</text><line style=\"stroke: #A80036; stroke-width: 1.5;\" x1=\"138\" x2=\"202\" y1=\"192.9375\" y2=\"192.9375\"/></a><!--MD5=[ebbe1d658d1005bcc118a6aa81145e00]\n",
       "class E4--><a href=\"psysml:18777e48-4bd6-4ac5-98df-f6aab0b7358e\" target=\"_top\" title=\"psysml:18777e48-4bd6-4ac5-98df-f6aab0b7358e\" xlink:actuate=\"onRequest\" xlink:href=\"psysml:18777e48-4bd6-4ac5-98df-f6aab0b7358e\" xlink:show=\"new\" xlink:title=\"psysml:18777e48-4bd6-4ac5-98df-f6aab0b7358e\" xlink:type=\"simple\"><rect fill=\"#FEFECE\" filter=\"url(#f1vrnvtf7ggmgm)\" height=\"45.9375\" id=\"E4\" style=\"stroke: #A80036; stroke-width: 1.5;\" width=\"95\" x=\"255.5\" y=\"41\"/><text fill=\"#000000\" font-family=\"sans-serif\" font-size=\"12\" font-style=\"italic\" lengthAdjust=\"spacingAndGlyphs\" textLength=\"93\" x=\"256.5\" y=\"57.1387\">«attribute def»</text><text fill=\"#000000\" font-family=\"sans-serif\" font-size=\"12\" lengthAdjust=\"spacingAndGlyphs\" textLength=\"8\" x=\"299\" y=\"71.1074\">B</text><line style=\"stroke: #A80036; stroke-width: 1.5;\" x1=\"256.5\" x2=\"349.5\" y1=\"78.9375\" y2=\"78.9375\"/></a><!--MD5=[270fce915f116d4de14055a7c1d9a0f3]\n",
       "class E5--><a href=\"psysml:b19cdb52-b52e-4af3-afe9-4ea29743154a\" target=\"_top\" title=\"psysml:b19cdb52-b52e-4af3-afe9-4ea29743154a\" xlink:actuate=\"onRequest\" xlink:href=\"psysml:b19cdb52-b52e-4af3-afe9-4ea29743154a\" xlink:show=\"new\" xlink:title=\"psysml:b19cdb52-b52e-4af3-afe9-4ea29743154a\" xlink:type=\"simple\"><rect fill=\"#FEFECE\" filter=\"url(#f1vrnvtf7ggmgm)\" height=\"45.9375\" id=\"E5\" style=\"stroke: #A80036; stroke-width: 1.5;\" width=\"66\" x=\"315\" y=\"155\"/><text fill=\"#000000\" font-family=\"sans-serif\" font-size=\"12\" font-style=\"italic\" lengthAdjust=\"spacingAndGlyphs\" textLength=\"64\" x=\"316\" y=\"171.1387\">«part def»</text><text fill=\"#000000\" font-family=\"sans-serif\" font-size=\"12\" lengthAdjust=\"spacingAndGlyphs\" textLength=\"8\" x=\"344\" y=\"185.1074\">V</text><line style=\"stroke: #A80036; stroke-width: 1.5;\" x1=\"316\" x2=\"380\" y1=\"192.9375\" y2=\"192.9375\"/></a><!--MD5=[60a26617385b1d2d0262a64233df1f8d]\n",
       "class E6--><a href=\"psysml:a2bd922e-3e40-42bd-80e3-ecb5a548758e\" target=\"_top\" title=\"psysml:a2bd922e-3e40-42bd-80e3-ecb5a548758e\" xlink:actuate=\"onRequest\" xlink:href=\"psysml:a2bd922e-3e40-42bd-80e3-ecb5a548758e\" xlink:show=\"new\" xlink:title=\"psysml:a2bd922e-3e40-42bd-80e3-ecb5a548758e\" xlink:type=\"simple\"><rect fill=\"#FEFECE\" filter=\"url(#f1vrnvtf7ggmgm)\" height=\"59.6875\" id=\"E6\" rx=\"10\" ry=\"10\" style=\"stroke: #A80036; stroke-width: 1.5;\" width=\"78\" x=\"280\" y=\"285\"/><text fill=\"#000000\" font-family=\"sans-serif\" font-size=\"12\" font-style=\"italic\" lengthAdjust=\"spacingAndGlyphs\" textLength=\"40\" x=\"299\" y=\"301.1387\">«part»</text><text fill=\"#000000\" font-family=\"sans-serif\" font-size=\"12\" lengthAdjust=\"spacingAndGlyphs\" textLength=\"23\" x=\"307.5\" y=\"315.1074\">x: Q</text><line style=\"stroke: #A80036; stroke-width: 1.5;\" x1=\"281\" x2=\"357\" y1=\"322.9375\" y2=\"322.9375\"/><path d=\"M287.9167,327.8542 L287.9167,337.0208 L288.8333,337.0208 L288.8333,327.8542 M291.5833,327.8542 L291.5833,337.0208 L298.9167,332.4375 L291.5833,327.8542 L292.5,329.2292 L297.5417,332.4375 L292.5,335.6458 L292.5,329.2292 \" fill=\"#000000\" style=\"stroke: ; stroke-width: 0.0; stroke-dasharray: ;\"/><text fill=\"#000000\" font-family=\"sans-serif\" font-size=\"11\" lengthAdjust=\"spacingAndGlyphs\" textLength=\"23\" x=\"303\" y=\"338.0933\">b: B</text><text fill=\"#000000\" font-family=\"sans-serif\" font-size=\"11\" lengthAdjust=\"spacingAndGlyphs\" text-decoration=\"line-through\" textLength=\"22\" x=\"330\" y=\"338.0933\">P::a</text></a><!--MD5=[2156ba9850f5573cc1fc38a6a4b2f02b]\n",
       "class E7--><a href=\"psysml:84f1cc81-1e5a-4a4b-9822-237c593dc1ed\" target=\"_top\" title=\"psysml:84f1cc81-1e5a-4a4b-9822-237c593dc1ed\" xlink:actuate=\"onRequest\" xlink:href=\"psysml:84f1cc81-1e5a-4a4b-9822-237c593dc1ed\" xlink:show=\"new\" xlink:title=\"psysml:84f1cc81-1e5a-4a4b-9822-237c593dc1ed\" xlink:type=\"simple\"><rect fill=\"#FEFECE\" filter=\"url(#f1vrnvtf7ggmgm)\" height=\"45.9375\" id=\"E7\" rx=\"10\" ry=\"10\" style=\"stroke: #A80036; stroke-width: 1.5;\" width=\"42\" x=\"149\" y=\"41\"/><text fill=\"#000000\" font-family=\"sans-serif\" font-size=\"12\" font-style=\"italic\" lengthAdjust=\"spacingAndGlyphs\" textLength=\"40\" x=\"150\" y=\"57.1387\">«part»</text><text fill=\"#000000\" font-family=\"sans-serif\" font-size=\"12\" lengthAdjust=\"spacingAndGlyphs\" textLength=\"25\" x=\"157.5\" y=\"71.1074\">q: Q</text><line style=\"stroke: #A80036; stroke-width: 1.5;\" x1=\"150\" x2=\"190\" y1=\"78.9375\" y2=\"78.9375\"/></a><!--MD5=[b9389687b975829384b498ac4b7476b2]\n",
       "class E8--><a href=\"psysml:d9c8c4c9-730a-472e-ad5c-9ed2548fca6c\" target=\"_top\" title=\"psysml:d9c8c4c9-730a-472e-ad5c-9ed2548fca6c\" xlink:actuate=\"onRequest\" xlink:href=\"psysml:d9c8c4c9-730a-472e-ad5c-9ed2548fca6c\" xlink:show=\"new\" xlink:title=\"psysml:d9c8c4c9-730a-472e-ad5c-9ed2548fca6c\" xlink:type=\"simple\"><rect fill=\"#FEFECE\" filter=\"url(#f1vrnvtf7ggmgm)\" height=\"59.9063\" id=\"E8\" rx=\"10\" ry=\"10\" style=\"stroke: #A80036; stroke-width: 1.5;\" width=\"70\" x=\"32\" y=\"148\"/><text fill=\"#000000\" font-family=\"sans-serif\" font-size=\"12\" font-style=\"italic\" lengthAdjust=\"spacingAndGlyphs\" textLength=\"68\" x=\"33\" y=\"164.1387\">«variation»</text><text fill=\"#000000\" font-family=\"sans-serif\" font-size=\"12\" font-style=\"italic\" lengthAdjust=\"spacingAndGlyphs\" textLength=\"40\" x=\"47\" y=\"178.1074\">«part»</text><text fill=\"#000000\" font-family=\"sans-serif\" font-size=\"12\" lengthAdjust=\"spacingAndGlyphs\" textLength=\"22\" x=\"56\" y=\"192.0762\">v: P</text><line style=\"stroke: #A80036; stroke-width: 1.5;\" x1=\"33\" x2=\"101\" y1=\"199.9063\" y2=\"199.9063\"/></a><!--MD5=[fd4143e9d270a159db93a4ea2a975926]\n",
       "class E9--><a href=\"psysml:29b56154-ee98-4bdd-852f-875051132018\" target=\"_top\" title=\"psysml:29b56154-ee98-4bdd-852f-875051132018\" xlink:actuate=\"onRequest\" xlink:href=\"psysml:29b56154-ee98-4bdd-852f-875051132018\" xlink:show=\"new\" xlink:title=\"psysml:29b56154-ee98-4bdd-852f-875051132018\" xlink:type=\"simple\"><rect fill=\"#FEFECE\" filter=\"url(#f1vrnvtf7ggmgm)\" height=\"59.6875\" id=\"E9\" rx=\"10\" ry=\"10\" style=\"stroke: #A80036; stroke-width: 1.5;\" width=\"78\" x=\"32\" y=\"285\"/><text fill=\"#000000\" font-family=\"sans-serif\" font-size=\"12\" font-style=\"italic\" lengthAdjust=\"spacingAndGlyphs\" textLength=\"75\" x=\"33.5\" y=\"301.1387\">«reference»</text><text fill=\"#000000\" font-family=\"sans-serif\" font-size=\"12\" lengthAdjust=\"spacingAndGlyphs\" textLength=\"8\" x=\"67\" y=\"315.1074\">q</text><line style=\"stroke: #A80036; stroke-width: 1.5;\" x1=\"33\" x2=\"109\" y1=\"322.9375\" y2=\"322.9375\"/><path d=\"M39.9167,327.8542 L39.9167,337.0208 L40.8333,337.0208 L40.8333,327.8542 M43.5833,327.8542 L43.5833,337.0208 L50.9167,332.4375 L43.5833,327.8542 L44.5,329.2292 L49.5417,332.4375 L44.5,335.6458 L44.5,329.2292 \" fill=\"#000000\" style=\"stroke: ; stroke-width: 0.0; stroke-dasharray: ;\"/><text fill=\"#000000\" font-family=\"sans-serif\" font-size=\"11\" lengthAdjust=\"spacingAndGlyphs\" textLength=\"23\" x=\"55\" y=\"338.0933\">b: B</text><text fill=\"#000000\" font-family=\"sans-serif\" font-size=\"11\" lengthAdjust=\"spacingAndGlyphs\" text-decoration=\"line-through\" textLength=\"22\" x=\"82\" y=\"338.0933\">P::a</text></a><!--MD5=[96f4274e9e20536e775497830990834d]\n",
       "class E10--><a href=\"psysml:e49f0805-0747-4902-8d4f-55ae479a1338\" target=\"_top\" title=\"psysml:e49f0805-0747-4902-8d4f-55ae479a1338\" xlink:actuate=\"onRequest\" xlink:href=\"psysml:e49f0805-0747-4902-8d4f-55ae479a1338\" xlink:show=\"new\" xlink:title=\"psysml:e49f0805-0747-4902-8d4f-55ae479a1338\" xlink:type=\"simple\"><rect fill=\"#FEFECE\" filter=\"url(#f1vrnvtf7ggmgm)\" height=\"45.9375\" id=\"E10\" rx=\"10\" ry=\"10\" style=\"stroke: #A80036; stroke-width: 1.5;\" width=\"42\" x=\"238\" y=\"155\"/><text fill=\"#000000\" font-family=\"sans-serif\" font-size=\"12\" font-style=\"italic\" lengthAdjust=\"spacingAndGlyphs\" textLength=\"40\" x=\"239\" y=\"171.1387\">«part»</text><text fill=\"#000000\" font-family=\"sans-serif\" font-size=\"12\" lengthAdjust=\"spacingAndGlyphs\" textLength=\"22\" x=\"248\" y=\"185.1074\">y: P</text><line style=\"stroke: #A80036; stroke-width: 1.5;\" x1=\"239\" x2=\"279\" y1=\"192.9375\" y2=\"192.9375\"/></a><!--MD5=[05d275557350bfb9b23a4ef7222b4c39]\n",
       "link E3 to E2--><a href=\"psysml:f79594a1-bc1c-4f37-98e7-b8999b5b3daa\" target=\"_top\" title=\"psysml:f79594a1-bc1c-4f37-98e7-b8999b5b3daa\" xlink:actuate=\"onRequest\" xlink:href=\"psysml:f79594a1-bc1c-4f37-98e7-b8999b5b3daa\" xlink:show=\"new\" xlink:title=\"psysml:f79594a1-bc1c-4f37-98e7-b8999b5b3daa\" xlink:type=\"simple\"><path d=\"M174.13,201.29 C177.34,218.66 181.93,243.41 185.98,265.3 \" fill=\"none\" id=\"E3-&gt;E2\" style=\"stroke: #A80036; stroke-width: 1.0;\"/><polygon fill=\"none\" points=\"192.88,264.14,189.64,285.08,179.12,266.68,192.88,264.14\" style=\"stroke: #A80036; stroke-width: 1.0;\"/></a><!--MD5=[15ebcb19ae302d9b601edb458606d402]\n",
       "link E5 to E2--><a href=\"psysml:e72a8b47-cfcf-460f-abbe-f19ffcddd547\" target=\"_top\" title=\"psysml:e72a8b47-cfcf-460f-abbe-f19ffcddd547\" xlink:actuate=\"onRequest\" xlink:href=\"psysml:e72a8b47-cfcf-460f-abbe-f19ffcddd547\" xlink:show=\"new\" xlink:title=\"psysml:e72a8b47-cfcf-460f-abbe-f19ffcddd547\" xlink:type=\"simple\"><path d=\"M322.74,201.29 C301.06,220.42 269.21,248.52 242.75,271.87 \" fill=\"none\" id=\"E5-&gt;E2\" style=\"stroke: #A80036; stroke-width: 1.0;\"/><polygon fill=\"none\" points=\"247.13,277.34,227.5,285.32,237.87,266.84,247.13,277.34\" style=\"stroke: #A80036; stroke-width: 1.0;\"/></a><!--MD5=[9120cf2e5df3bff93db8f754bbbc09b4]\n",
       "link E5 to E6--><a href=\"psysml:d1158e90-c200-41a0-bff8-4b2e6825fa74\" target=\"_top\" title=\"psysml:d1158e90-c200-41a0-bff8-4b2e6825fa74\" xlink:actuate=\"onRequest\" xlink:href=\"psysml:d1158e90-c200-41a0-bff8-4b2e6825fa74\" xlink:show=\"new\" xlink:title=\"psysml:d1158e90-c200-41a0-bff8-4b2e6825fa74\" xlink:type=\"simple\"><path d=\"M341.07,211.28 C336.97,230.34 331.76,254.6 327.43,274.76 \" fill=\"none\" id=\"E5-E6\" style=\"stroke: #A80036; stroke-width: 1.0;\"/><polygon fill=\"#A80036\" points=\"325.32,284.58,329.9339,277.3889,324.0679,276.1282,325.32,284.58\" style=\"stroke: #A80036; stroke-width: 1.0;\"/><path d=\"M334.2948,202.5225 A9,9 0 0 0 350.8317 206.0765\" fill=\"none\" style=\"stroke: #A80036; stroke-width: 1.5;\"/><text fill=\"#000000\" font-family=\"sans-serif\" font-size=\"13\" lengthAdjust=\"spacingAndGlyphs\" textLength=\"60\" x=\"336\" y=\"251.0669\">«variant»</text></a><!--MD5=[14ccda38c055a5c0da953d572bc50960]\n",
       "link E7 to E3--><a href=\"psysml:df5a11ab-14bd-474c-9e9f-2e0517640249\" target=\"_top\" title=\"psysml:df5a11ab-14bd-474c-9e9f-2e0517640249\" xlink:actuate=\"onRequest\" xlink:href=\"psysml:df5a11ab-14bd-474c-9e9f-2e0517640249\" xlink:show=\"new\" xlink:title=\"psysml:df5a11ab-14bd-474c-9e9f-2e0517640249\" xlink:type=\"simple\"><path d=\"M170,87.13 C170,100.7 170,118.53 170,134.73 \" fill=\"none\" id=\"E7-&gt;E3\" style=\"stroke: #A80036; stroke-width: 1.0;\"/><polygon fill=\"#FFFFFF\" points=\"170,154.92,163,135.92,177,135.92,170,154.92\" style=\"stroke: #A80036; stroke-width: 1.0;\"/><ellipse cx=\"165\" cy=\"130.22\" fill=\"#A80036\" rx=\"2\" ry=\"2\" style=\"stroke: #A80036; stroke-width: 1.0;\"/><ellipse cx=\"175\" cy=\"130.22\" fill=\"#A80036\" rx=\"2\" ry=\"2\" style=\"stroke: #A80036; stroke-width: 1.0;\"/></a><!--MD5=[f1f3f9f2fc535e6147756cb86a7f2e32]\n",
       "link E8 to E2--><a href=\"psysml:108d975b-2613-446e-8683-bfdaec0afedf\" target=\"_top\" title=\"psysml:108d975b-2613-446e-8683-bfdaec0afedf\" xlink:actuate=\"onRequest\" xlink:href=\"psysml:108d975b-2613-446e-8683-bfdaec0afedf\" xlink:show=\"new\" xlink:title=\"psysml:108d975b-2613-446e-8683-bfdaec0afedf\" xlink:type=\"simple\"><path d=\"M102.23,204.97 C114.45,214.72 127.87,226.28 139,238 C147.93,247.4 156.69,258.25 164.53,268.75 \" fill=\"none\" id=\"E8-&gt;E2\" style=\"stroke: #A80036; stroke-width: 1.0;\"/><polygon fill=\"#FFFFFF\" points=\"176.35,285.25,159.5896,273.8883,170.967,265.7302,176.35,285.25\" style=\"stroke: #A80036; stroke-width: 1.0;\"/><ellipse cx=\"157.8934\" cy=\"268.0907\" fill=\"#A80036\" rx=\"2\" ry=\"2\" style=\"stroke: #A80036; stroke-width: 1.0;\"/><ellipse cx=\"166.0201\" cy=\"262.2634\" fill=\"#A80036\" rx=\"2\" ry=\"2\" style=\"stroke: #A80036; stroke-width: 1.0;\"/></a><!--MD5=[ed10624c06dd9a4fa49ccf290e8b16a8]\n",
       "link E8 to E9--><a href=\"psysml:ebcdab70-773e-42b3-a4e9-8c7478e829d7\" target=\"_top\" title=\"psysml:ebcdab70-773e-42b3-a4e9-8c7478e829d7\" xlink:actuate=\"onRequest\" xlink:href=\"psysml:ebcdab70-773e-42b3-a4e9-8c7478e829d7\" xlink:show=\"new\" xlink:title=\"psysml:ebcdab70-773e-42b3-a4e9-8c7478e829d7\" xlink:type=\"simple\"><path d=\"M68.16,218.31 C68.69,236.06 69.31,256.98 69.84,274.73 \" fill=\"none\" id=\"E8-E9\" style=\"stroke: #A80036; stroke-width: 1.0;\"/><polygon fill=\"#A80036\" points=\"70.13,284.76,72.8888,276.6736,66.8915,276.8536,70.13,284.76\" style=\"stroke: #A80036; stroke-width: 1.0;\"/><path d=\"M59.509,211.6208 A9,9 0 0 0 76.4159 211.1128\" fill=\"none\" style=\"stroke: #A80036; stroke-width: 1.5;\"/><text fill=\"#000000\" font-family=\"sans-serif\" font-size=\"13\" lengthAdjust=\"spacingAndGlyphs\" textLength=\"60\" x=\"70\" y=\"251.0669\">«variant»</text></a><!--MD5=[0f36bececdf0dff6e600d6f64214b0f1]\n",
       "link E10 to E2--><a href=\"psysml:967d0111-ba43-4736-bbbb-a2fd42e2431e\" target=\"_top\" title=\"psysml:967d0111-ba43-4736-bbbb-a2fd42e2431e\" xlink:actuate=\"onRequest\" xlink:href=\"psysml:967d0111-ba43-4736-bbbb-a2fd42e2431e\" xlink:show=\"new\" xlink:title=\"psysml:967d0111-ba43-4736-bbbb-a2fd42e2431e\" xlink:type=\"simple\"><path d=\"M248.43,201.29 C239.99,219.11 227.86,244.69 217.29,266.99 \" fill=\"none\" id=\"E10-&gt;E2\" style=\"stroke: #A80036; stroke-width: 1.0;\"/><polygon fill=\"#FFFFFF\" points=\"208.71,285.08,210.5216,264.9127,223.1727,270.9085,208.71,285.08\" style=\"stroke: #A80036; stroke-width: 1.0;\"/><ellipse cx=\"214.77\" cy=\"260.6185\" fill=\"#A80036\" rx=\"2\" ry=\"2\" style=\"stroke: #A80036; stroke-width: 1.0;\"/><ellipse cx=\"223.8065\" cy=\"264.9012\" fill=\"#A80036\" rx=\"2\" ry=\"2\" style=\"stroke: #A80036; stroke-width: 1.0;\"/></a><!--MD5=[4cdcb9ba5a37015b47c88a822ff9a65d]\n",
       "@startuml\r\n",
       "skinparam wrapWidth 300\r\n",
       "hide circle\r\n",
       "\r\n",
       "package \"VariabilityTest\" as E1  [[psysml:6fd2d067-8ada-4ea8-9732-021f5438b424 ]]  {\r\n",
       "comp def \"P\" as E2  <<(T,blue) part def>> [[psysml:06c5c105-f179-4f9c-9acd-25394b323f4d ]] {\r\n",
       "a\r\n",
       "}\r\n",
       "comp def \"Q\" as E3  <<(T,blue) part def>> [[psysml:dc55669e-d547-41b4-94bf-d6c68c80b885 ]] {\r\n",
       "}\r\n",
       "comp def \"B\" as E4  <<(T,blue) attribute def>> [[psysml:18777e48-4bd6-4ac5-98df-f6aab0b7358e ]] {\r\n",
       "}\r\n",
       "comp def \"V\" as E5  <<(T,blue) part def>> [[psysml:b19cdb52-b52e-4af3-afe9-4ea29743154a ]] {\r\n",
       "}\r\n",
       "comp usage \"x: Q\" as E6  <<(T,blue) part>> [[psysml:a2bd922e-3e40-42bd-80e3-ecb5a548758e ]] {\r\n",
       "<&bar-trig> b: B <s>P::a</s>\r\n",
       "}\r\n",
       "comp usage \"q: Q\" as E7  <<(T,blue) part>> [[psysml:84f1cc81-1e5a-4a4b-9822-237c593dc1ed ]] {\r\n",
       "}\r\n",
       "comp usage \"v: P\" as E8  <<variation>>\\n <<(T,blue) part>> [[psysml:d9c8c4c9-730a-472e-ad5c-9ed2548fca6c ]] {\r\n",
       "}\r\n",
       "comp usage \"q\" as E9  <<(T,blue) reference>> [[psysml:29b56154-ee98-4bdd-852f-875051132018 ]] {\r\n",
       "<&bar-trig> b: B <s>P::a</s>\r\n",
       "}\r\n",
       "comp usage \"y: P\" as E10  <<(T,blue) part>> [[psysml:e49f0805-0747-4902-8d4f-55ae479a1338 ]] {\r\n",
       "}\r\n",
       "}\r\n",
       "E3 - -|> E2 [[psysml:f79594a1-bc1c-4f37-98e7-b8999b5b3daa ]] \r\n",
       "E5 - -|> E2 [[psysml:e72a8b47-cfcf-460f-abbe-f19ffcddd547 ]] \r\n",
       "E5 )- ->> E6 [[psysml:d1158e90-c200-41a0-bff8-4b2e6825fa74 ]] : <<variant>>\r\n",
       "E7 - -:|> E3 [[psysml:df5a11ab-14bd-474c-9e9f-2e0517640249 ]] \r\n",
       "E8 - -:|> E2 [[psysml:108d975b-2613-446e-8683-bfdaec0afedf ]] \r\n",
       "E8 )- ->> E9 [[psysml:ebcdab70-773e-42b3-a4e9-8c7478e829d7 ]] : <<variant>>\r\n",
       "E10 - -:|> E2 [[psysml:967d0111-ba43-4736-bbbb-a2fd42e2431e ]] \r\n",
       "@enduml\r\n",
       "\n",
       "PlantUML version 1.2020.13(Sat Jun 13 12:26:38 UTC 2020)\n",
       "(EPL source distribution)\n",
       "Java Runtime: OpenJDK Runtime Environment\n",
       "JVM: OpenJDK 64-Bit Server VM\n",
       "Default Encoding: UTF-8\n",
       "Language: en\n",
       "Country: null\n",
       "--></g></svg>"
      ]
     },
     "execution_count": 23,
     "metadata": {},
     "output_type": "execute_result"
    }
   ],
   "source": [
    "%viz --style=\"STDCOLOR\" --view=\"Default\" \"VariabilityTest\""
   ]
  },
  {
   "cell_type": "code",
   "execution_count": 24,
   "id": "a8bcb261",
   "metadata": {
    "execution": {
     "iopub.execute_input": "2021-10-03T08:28:16.161285Z",
     "iopub.status.busy": "2021-10-03T08:28:16.160878Z",
     "iopub.status.idle": "2021-10-03T08:28:16.221398Z",
     "shell.execute_reply": "2021-10-03T08:28:16.218175Z"
    }
   },
   "outputs": [
    {
     "data": {
      "image/svg+xml": [
       "<?xml version=\"1.0\" encoding=\"UTF-8\" standalone=\"no\"?><svg xmlns=\"http://www.w3.org/2000/svg\" xmlns:xlink=\"http://www.w3.org/1999/xlink\" contentScriptType=\"application/ecmascript\" contentStyleType=\"text/css\" height=\"373px\" preserveAspectRatio=\"none\" style=\"width:419px;height:373px;\" version=\"1.1\" viewBox=\"0 0 419 373\" width=\"419px\" zoomAndPan=\"magnify\"><defs><filter height=\"300%\" id=\"f1vrnvtf7ggmgm\" width=\"300%\" x=\"-1\" y=\"-1\"><feGaussianBlur result=\"blurOut\" stdDeviation=\"2.0\"/><feColorMatrix in=\"blurOut\" result=\"blurOut2\" type=\"matrix\" values=\"0 0 0 0 0 0 0 0 0 0 0 0 0 0 0 0 0 0 .4 0\"/><feOffset dx=\"4.0\" dy=\"4.0\" in=\"blurOut2\" result=\"blurOut3\"/><feBlend in=\"SourceGraphic\" in2=\"blurOut3\" mode=\"normal\"/></filter></defs><g><!--MD5=[fbc87193dbaf4d95561dea2c320d4a47]\n",
       "cluster E1--><a href=\"psysml:6fd2d067-8ada-4ea8-9732-021f5438b424\" target=\"_top\" title=\"psysml:6fd2d067-8ada-4ea8-9732-021f5438b424\" xlink:actuate=\"onRequest\" xlink:href=\"psysml:6fd2d067-8ada-4ea8-9732-021f5438b424\" xlink:show=\"new\" xlink:title=\"psysml:6fd2d067-8ada-4ea8-9732-021f5438b424\" xlink:type=\"simple\"><polygon fill=\"#FFFFFF\" filter=\"url(#f1vrnvtf7ggmgm)\" points=\"16,6,116,6,123,28.2969,397,28.2969,397,361,16,361,16,6\" style=\"stroke: #000000; stroke-width: 1.5;\"/><line style=\"stroke: #000000; stroke-width: 1.5;\" x1=\"16\" x2=\"123\" y1=\"28.2969\" y2=\"28.2969\"/><text fill=\"#000000\" font-family=\"sans-serif\" font-size=\"14\" font-weight=\"bold\" lengthAdjust=\"spacingAndGlyphs\" textLength=\"94\" x=\"20\" y=\"20.9951\">VariabilityTest</text></a><!--MD5=[b4997ac47864f28c2f74865a473b2911]\n",
       "class E2--><a href=\"psysml:06c5c105-f179-4f9c-9acd-25394b323f4d\" target=\"_top\" title=\"psysml:06c5c105-f179-4f9c-9acd-25394b323f4d\" xlink:actuate=\"onRequest\" xlink:href=\"psysml:06c5c105-f179-4f9c-9acd-25394b323f4d\" xlink:show=\"new\" xlink:title=\"psysml:06c5c105-f179-4f9c-9acd-25394b323f4d\" xlink:type=\"simple\"><rect fill=\"#FEFECE\" filter=\"url(#f1vrnvtf7ggmgm)\" height=\"58.7422\" id=\"E2\" style=\"stroke: #A80036; stroke-width: 1.5;\" width=\"66\" x=\"162\" y=\"285.5\"/><text fill=\"#000000\" font-family=\"sans-serif\" font-size=\"12\" font-style=\"italic\" lengthAdjust=\"spacingAndGlyphs\" textLength=\"64\" x=\"163\" y=\"301.6387\">«part def»</text><text fill=\"#000000\" font-family=\"sans-serif\" font-size=\"12\" lengthAdjust=\"spacingAndGlyphs\" textLength=\"8\" x=\"191\" y=\"315.6074\">P</text><line style=\"stroke: #A80036; stroke-width: 1.5;\" x1=\"163\" x2=\"227\" y1=\"323.4375\" y2=\"323.4375\"/><text fill=\"#000000\" font-family=\"sans-serif\" font-size=\"11\" lengthAdjust=\"spacingAndGlyphs\" textLength=\"7\" x=\"168\" y=\"337.6479\">a</text></a><!--MD5=[09b614a08d8cba4a07c9adeb5e0fee81]\n",
       "class E3--><a href=\"psysml:dc55669e-d547-41b4-94bf-d6c68c80b885\" target=\"_top\" title=\"psysml:dc55669e-d547-41b4-94bf-d6c68c80b885\" xlink:actuate=\"onRequest\" xlink:href=\"psysml:dc55669e-d547-41b4-94bf-d6c68c80b885\" xlink:show=\"new\" xlink:title=\"psysml:dc55669e-d547-41b4-94bf-d6c68c80b885\" xlink:type=\"simple\"><rect fill=\"#FEFECE\" filter=\"url(#f1vrnvtf7ggmgm)\" height=\"45.9375\" id=\"E3\" style=\"stroke: #A80036; stroke-width: 1.5;\" width=\"66\" x=\"137\" y=\"155\"/><text fill=\"#000000\" font-family=\"sans-serif\" font-size=\"12\" font-style=\"italic\" lengthAdjust=\"spacingAndGlyphs\" textLength=\"64\" x=\"138\" y=\"171.1387\">«part def»</text><text fill=\"#000000\" font-family=\"sans-serif\" font-size=\"12\" lengthAdjust=\"spacingAndGlyphs\" textLength=\"9\" x=\"165.5\" y=\"185.1074\">Q</text><line style=\"stroke: #A80036; stroke-width: 1.5;\" x1=\"138\" x2=\"202\" y1=\"192.9375\" y2=\"192.9375\"/></a><!--MD5=[ebbe1d658d1005bcc118a6aa81145e00]\n",
       "class E4--><a href=\"psysml:18777e48-4bd6-4ac5-98df-f6aab0b7358e\" target=\"_top\" title=\"psysml:18777e48-4bd6-4ac5-98df-f6aab0b7358e\" xlink:actuate=\"onRequest\" xlink:href=\"psysml:18777e48-4bd6-4ac5-98df-f6aab0b7358e\" xlink:show=\"new\" xlink:title=\"psysml:18777e48-4bd6-4ac5-98df-f6aab0b7358e\" xlink:type=\"simple\"><rect fill=\"#FEFECE\" filter=\"url(#f1vrnvtf7ggmgm)\" height=\"45.9375\" id=\"E4\" style=\"stroke: #A80036; stroke-width: 1.5;\" width=\"95\" x=\"255.5\" y=\"41\"/><text fill=\"#000000\" font-family=\"sans-serif\" font-size=\"12\" font-style=\"italic\" lengthAdjust=\"spacingAndGlyphs\" textLength=\"93\" x=\"256.5\" y=\"57.1387\">«attribute def»</text><text fill=\"#000000\" font-family=\"sans-serif\" font-size=\"12\" lengthAdjust=\"spacingAndGlyphs\" textLength=\"8\" x=\"299\" y=\"71.1074\">B</text><line style=\"stroke: #A80036; stroke-width: 1.5;\" x1=\"256.5\" x2=\"349.5\" y1=\"78.9375\" y2=\"78.9375\"/></a><!--MD5=[270fce915f116d4de14055a7c1d9a0f3]\n",
       "class E5--><a href=\"psysml:b19cdb52-b52e-4af3-afe9-4ea29743154a\" target=\"_top\" title=\"psysml:b19cdb52-b52e-4af3-afe9-4ea29743154a\" xlink:actuate=\"onRequest\" xlink:href=\"psysml:b19cdb52-b52e-4af3-afe9-4ea29743154a\" xlink:show=\"new\" xlink:title=\"psysml:b19cdb52-b52e-4af3-afe9-4ea29743154a\" xlink:type=\"simple\"><rect fill=\"#FEFECE\" filter=\"url(#f1vrnvtf7ggmgm)\" height=\"45.9375\" id=\"E5\" style=\"stroke: #A80036; stroke-width: 1.5;\" width=\"66\" x=\"315\" y=\"155\"/><text fill=\"#000000\" font-family=\"sans-serif\" font-size=\"12\" font-style=\"italic\" lengthAdjust=\"spacingAndGlyphs\" textLength=\"64\" x=\"316\" y=\"171.1387\">«part def»</text><text fill=\"#000000\" font-family=\"sans-serif\" font-size=\"12\" lengthAdjust=\"spacingAndGlyphs\" textLength=\"8\" x=\"344\" y=\"185.1074\">V</text><line style=\"stroke: #A80036; stroke-width: 1.5;\" x1=\"316\" x2=\"380\" y1=\"192.9375\" y2=\"192.9375\"/></a><!--MD5=[60a26617385b1d2d0262a64233df1f8d]\n",
       "class E6--><a href=\"psysml:a2bd922e-3e40-42bd-80e3-ecb5a548758e\" target=\"_top\" title=\"psysml:a2bd922e-3e40-42bd-80e3-ecb5a548758e\" xlink:actuate=\"onRequest\" xlink:href=\"psysml:a2bd922e-3e40-42bd-80e3-ecb5a548758e\" xlink:show=\"new\" xlink:title=\"psysml:a2bd922e-3e40-42bd-80e3-ecb5a548758e\" xlink:type=\"simple\"><rect fill=\"#FEFECE\" filter=\"url(#f1vrnvtf7ggmgm)\" height=\"59.6875\" id=\"E6\" rx=\"10\" ry=\"10\" style=\"stroke: #A80036; stroke-width: 1.5;\" width=\"78\" x=\"280\" y=\"285\"/><text fill=\"#000000\" font-family=\"sans-serif\" font-size=\"12\" font-style=\"italic\" lengthAdjust=\"spacingAndGlyphs\" textLength=\"40\" x=\"299\" y=\"301.1387\">«part»</text><text fill=\"#000000\" font-family=\"sans-serif\" font-size=\"12\" lengthAdjust=\"spacingAndGlyphs\" textLength=\"23\" x=\"307.5\" y=\"315.1074\">x: Q</text><line style=\"stroke: #A80036; stroke-width: 1.5;\" x1=\"281\" x2=\"357\" y1=\"322.9375\" y2=\"322.9375\"/><path d=\"M287.9167,327.8542 L287.9167,337.0208 L288.8333,337.0208 L288.8333,327.8542 M291.5833,327.8542 L291.5833,337.0208 L298.9167,332.4375 L291.5833,327.8542 L292.5,329.2292 L297.5417,332.4375 L292.5,335.6458 L292.5,329.2292 \" fill=\"#000000\" style=\"stroke: ; stroke-width: 0.0; stroke-dasharray: ;\"/><text fill=\"#000000\" font-family=\"sans-serif\" font-size=\"11\" lengthAdjust=\"spacingAndGlyphs\" textLength=\"23\" x=\"303\" y=\"338.0933\">b: B</text><text fill=\"#000000\" font-family=\"sans-serif\" font-size=\"11\" lengthAdjust=\"spacingAndGlyphs\" text-decoration=\"line-through\" textLength=\"22\" x=\"330\" y=\"338.0933\">P::a</text></a><!--MD5=[2156ba9850f5573cc1fc38a6a4b2f02b]\n",
       "class E7--><a href=\"psysml:84f1cc81-1e5a-4a4b-9822-237c593dc1ed\" target=\"_top\" title=\"psysml:84f1cc81-1e5a-4a4b-9822-237c593dc1ed\" xlink:actuate=\"onRequest\" xlink:href=\"psysml:84f1cc81-1e5a-4a4b-9822-237c593dc1ed\" xlink:show=\"new\" xlink:title=\"psysml:84f1cc81-1e5a-4a4b-9822-237c593dc1ed\" xlink:type=\"simple\"><rect fill=\"#FEFECE\" filter=\"url(#f1vrnvtf7ggmgm)\" height=\"45.9375\" id=\"E7\" rx=\"10\" ry=\"10\" style=\"stroke: #A80036; stroke-width: 1.5;\" width=\"42\" x=\"149\" y=\"41\"/><text fill=\"#000000\" font-family=\"sans-serif\" font-size=\"12\" font-style=\"italic\" lengthAdjust=\"spacingAndGlyphs\" textLength=\"40\" x=\"150\" y=\"57.1387\">«part»</text><text fill=\"#000000\" font-family=\"sans-serif\" font-size=\"12\" lengthAdjust=\"spacingAndGlyphs\" textLength=\"25\" x=\"157.5\" y=\"71.1074\">q: Q</text><line style=\"stroke: #A80036; stroke-width: 1.5;\" x1=\"150\" x2=\"190\" y1=\"78.9375\" y2=\"78.9375\"/></a><!--MD5=[b9389687b975829384b498ac4b7476b2]\n",
       "class E8--><a href=\"psysml:d9c8c4c9-730a-472e-ad5c-9ed2548fca6c\" target=\"_top\" title=\"psysml:d9c8c4c9-730a-472e-ad5c-9ed2548fca6c\" xlink:actuate=\"onRequest\" xlink:href=\"psysml:d9c8c4c9-730a-472e-ad5c-9ed2548fca6c\" xlink:show=\"new\" xlink:title=\"psysml:d9c8c4c9-730a-472e-ad5c-9ed2548fca6c\" xlink:type=\"simple\"><rect fill=\"#FEFECE\" filter=\"url(#f1vrnvtf7ggmgm)\" height=\"59.9063\" id=\"E8\" rx=\"10\" ry=\"10\" style=\"stroke: #A80036; stroke-width: 1.5;\" width=\"70\" x=\"32\" y=\"148\"/><text fill=\"#000000\" font-family=\"sans-serif\" font-size=\"12\" font-style=\"italic\" lengthAdjust=\"spacingAndGlyphs\" textLength=\"68\" x=\"33\" y=\"164.1387\">«variation»</text><text fill=\"#000000\" font-family=\"sans-serif\" font-size=\"12\" font-style=\"italic\" lengthAdjust=\"spacingAndGlyphs\" textLength=\"40\" x=\"47\" y=\"178.1074\">«part»</text><text fill=\"#000000\" font-family=\"sans-serif\" font-size=\"12\" lengthAdjust=\"spacingAndGlyphs\" textLength=\"22\" x=\"56\" y=\"192.0762\">v: P</text><line style=\"stroke: #A80036; stroke-width: 1.5;\" x1=\"33\" x2=\"101\" y1=\"199.9063\" y2=\"199.9063\"/></a><!--MD5=[fd4143e9d270a159db93a4ea2a975926]\n",
       "class E9--><a href=\"psysml:29b56154-ee98-4bdd-852f-875051132018\" target=\"_top\" title=\"psysml:29b56154-ee98-4bdd-852f-875051132018\" xlink:actuate=\"onRequest\" xlink:href=\"psysml:29b56154-ee98-4bdd-852f-875051132018\" xlink:show=\"new\" xlink:title=\"psysml:29b56154-ee98-4bdd-852f-875051132018\" xlink:type=\"simple\"><rect fill=\"#FEFECE\" filter=\"url(#f1vrnvtf7ggmgm)\" height=\"59.6875\" id=\"E9\" rx=\"10\" ry=\"10\" style=\"stroke: #A80036; stroke-width: 1.5;\" width=\"78\" x=\"32\" y=\"285\"/><text fill=\"#000000\" font-family=\"sans-serif\" font-size=\"12\" font-style=\"italic\" lengthAdjust=\"spacingAndGlyphs\" textLength=\"75\" x=\"33.5\" y=\"301.1387\">«reference»</text><text fill=\"#000000\" font-family=\"sans-serif\" font-size=\"12\" lengthAdjust=\"spacingAndGlyphs\" textLength=\"8\" x=\"67\" y=\"315.1074\">q</text><line style=\"stroke: #A80036; stroke-width: 1.5;\" x1=\"33\" x2=\"109\" y1=\"322.9375\" y2=\"322.9375\"/><path d=\"M39.9167,327.8542 L39.9167,337.0208 L40.8333,337.0208 L40.8333,327.8542 M43.5833,327.8542 L43.5833,337.0208 L50.9167,332.4375 L43.5833,327.8542 L44.5,329.2292 L49.5417,332.4375 L44.5,335.6458 L44.5,329.2292 \" fill=\"#000000\" style=\"stroke: ; stroke-width: 0.0; stroke-dasharray: ;\"/><text fill=\"#000000\" font-family=\"sans-serif\" font-size=\"11\" lengthAdjust=\"spacingAndGlyphs\" textLength=\"23\" x=\"55\" y=\"338.0933\">b: B</text><text fill=\"#000000\" font-family=\"sans-serif\" font-size=\"11\" lengthAdjust=\"spacingAndGlyphs\" text-decoration=\"line-through\" textLength=\"22\" x=\"82\" y=\"338.0933\">P::a</text></a><!--MD5=[96f4274e9e20536e775497830990834d]\n",
       "class E10--><a href=\"psysml:e49f0805-0747-4902-8d4f-55ae479a1338\" target=\"_top\" title=\"psysml:e49f0805-0747-4902-8d4f-55ae479a1338\" xlink:actuate=\"onRequest\" xlink:href=\"psysml:e49f0805-0747-4902-8d4f-55ae479a1338\" xlink:show=\"new\" xlink:title=\"psysml:e49f0805-0747-4902-8d4f-55ae479a1338\" xlink:type=\"simple\"><rect fill=\"#FEFECE\" filter=\"url(#f1vrnvtf7ggmgm)\" height=\"45.9375\" id=\"E10\" rx=\"10\" ry=\"10\" style=\"stroke: #A80036; stroke-width: 1.5;\" width=\"42\" x=\"238\" y=\"155\"/><text fill=\"#000000\" font-family=\"sans-serif\" font-size=\"12\" font-style=\"italic\" lengthAdjust=\"spacingAndGlyphs\" textLength=\"40\" x=\"239\" y=\"171.1387\">«part»</text><text fill=\"#000000\" font-family=\"sans-serif\" font-size=\"12\" lengthAdjust=\"spacingAndGlyphs\" textLength=\"22\" x=\"248\" y=\"185.1074\">y: P</text><line style=\"stroke: #A80036; stroke-width: 1.5;\" x1=\"239\" x2=\"279\" y1=\"192.9375\" y2=\"192.9375\"/></a><!--MD5=[05d275557350bfb9b23a4ef7222b4c39]\n",
       "link E3 to E2--><a href=\"psysml:f79594a1-bc1c-4f37-98e7-b8999b5b3daa\" target=\"_top\" title=\"psysml:f79594a1-bc1c-4f37-98e7-b8999b5b3daa\" xlink:actuate=\"onRequest\" xlink:href=\"psysml:f79594a1-bc1c-4f37-98e7-b8999b5b3daa\" xlink:show=\"new\" xlink:title=\"psysml:f79594a1-bc1c-4f37-98e7-b8999b5b3daa\" xlink:type=\"simple\"><path d=\"M174.13,201.29 C177.34,218.66 181.93,243.41 185.98,265.3 \" fill=\"none\" id=\"E3-&gt;E2\" style=\"stroke: #A80036; stroke-width: 1.0;\"/><polygon fill=\"none\" points=\"192.88,264.14,189.64,285.08,179.12,266.68,192.88,264.14\" style=\"stroke: #A80036; stroke-width: 1.0;\"/></a><!--MD5=[15ebcb19ae302d9b601edb458606d402]\n",
       "link E5 to E2--><a href=\"psysml:e72a8b47-cfcf-460f-abbe-f19ffcddd547\" target=\"_top\" title=\"psysml:e72a8b47-cfcf-460f-abbe-f19ffcddd547\" xlink:actuate=\"onRequest\" xlink:href=\"psysml:e72a8b47-cfcf-460f-abbe-f19ffcddd547\" xlink:show=\"new\" xlink:title=\"psysml:e72a8b47-cfcf-460f-abbe-f19ffcddd547\" xlink:type=\"simple\"><path d=\"M322.74,201.29 C301.06,220.42 269.21,248.52 242.75,271.87 \" fill=\"none\" id=\"E5-&gt;E2\" style=\"stroke: #A80036; stroke-width: 1.0;\"/><polygon fill=\"none\" points=\"247.13,277.34,227.5,285.32,237.87,266.84,247.13,277.34\" style=\"stroke: #A80036; stroke-width: 1.0;\"/></a><!--MD5=[9120cf2e5df3bff93db8f754bbbc09b4]\n",
       "link E5 to E6--><a href=\"psysml:d1158e90-c200-41a0-bff8-4b2e6825fa74\" target=\"_top\" title=\"psysml:d1158e90-c200-41a0-bff8-4b2e6825fa74\" xlink:actuate=\"onRequest\" xlink:href=\"psysml:d1158e90-c200-41a0-bff8-4b2e6825fa74\" xlink:show=\"new\" xlink:title=\"psysml:d1158e90-c200-41a0-bff8-4b2e6825fa74\" xlink:type=\"simple\"><path d=\"M341.07,211.28 C336.97,230.34 331.76,254.6 327.43,274.76 \" fill=\"none\" id=\"E5-E6\" style=\"stroke: #A80036; stroke-width: 1.0;\"/><polygon fill=\"#A80036\" points=\"325.32,284.58,329.9339,277.3889,324.0679,276.1282,325.32,284.58\" style=\"stroke: #A80036; stroke-width: 1.0;\"/><path d=\"M334.2948,202.5225 A9,9 0 0 0 350.8317 206.0765\" fill=\"none\" style=\"stroke: #A80036; stroke-width: 1.5;\"/><text fill=\"#000000\" font-family=\"sans-serif\" font-size=\"13\" lengthAdjust=\"spacingAndGlyphs\" textLength=\"60\" x=\"336\" y=\"251.0669\">«variant»</text></a><!--MD5=[14ccda38c055a5c0da953d572bc50960]\n",
       "link E7 to E3--><a href=\"psysml:df5a11ab-14bd-474c-9e9f-2e0517640249\" target=\"_top\" title=\"psysml:df5a11ab-14bd-474c-9e9f-2e0517640249\" xlink:actuate=\"onRequest\" xlink:href=\"psysml:df5a11ab-14bd-474c-9e9f-2e0517640249\" xlink:show=\"new\" xlink:title=\"psysml:df5a11ab-14bd-474c-9e9f-2e0517640249\" xlink:type=\"simple\"><path d=\"M170,87.13 C170,100.7 170,118.53 170,134.73 \" fill=\"none\" id=\"E7-&gt;E3\" style=\"stroke: #A80036; stroke-width: 1.0;\"/><polygon fill=\"#FFFFFF\" points=\"170,154.92,163,135.92,177,135.92,170,154.92\" style=\"stroke: #A80036; stroke-width: 1.0;\"/><ellipse cx=\"165\" cy=\"130.22\" fill=\"#A80036\" rx=\"2\" ry=\"2\" style=\"stroke: #A80036; stroke-width: 1.0;\"/><ellipse cx=\"175\" cy=\"130.22\" fill=\"#A80036\" rx=\"2\" ry=\"2\" style=\"stroke: #A80036; stroke-width: 1.0;\"/></a><!--MD5=[f1f3f9f2fc535e6147756cb86a7f2e32]\n",
       "link E8 to E2--><a href=\"psysml:108d975b-2613-446e-8683-bfdaec0afedf\" target=\"_top\" title=\"psysml:108d975b-2613-446e-8683-bfdaec0afedf\" xlink:actuate=\"onRequest\" xlink:href=\"psysml:108d975b-2613-446e-8683-bfdaec0afedf\" xlink:show=\"new\" xlink:title=\"psysml:108d975b-2613-446e-8683-bfdaec0afedf\" xlink:type=\"simple\"><path d=\"M102.23,204.97 C114.45,214.72 127.87,226.28 139,238 C147.93,247.4 156.69,258.25 164.53,268.75 \" fill=\"none\" id=\"E8-&gt;E2\" style=\"stroke: #A80036; stroke-width: 1.0;\"/><polygon fill=\"#FFFFFF\" points=\"176.35,285.25,159.5896,273.8883,170.967,265.7302,176.35,285.25\" style=\"stroke: #A80036; stroke-width: 1.0;\"/><ellipse cx=\"157.8934\" cy=\"268.0907\" fill=\"#A80036\" rx=\"2\" ry=\"2\" style=\"stroke: #A80036; stroke-width: 1.0;\"/><ellipse cx=\"166.0201\" cy=\"262.2634\" fill=\"#A80036\" rx=\"2\" ry=\"2\" style=\"stroke: #A80036; stroke-width: 1.0;\"/></a><!--MD5=[ed10624c06dd9a4fa49ccf290e8b16a8]\n",
       "link E8 to E9--><a href=\"psysml:ebcdab70-773e-42b3-a4e9-8c7478e829d7\" target=\"_top\" title=\"psysml:ebcdab70-773e-42b3-a4e9-8c7478e829d7\" xlink:actuate=\"onRequest\" xlink:href=\"psysml:ebcdab70-773e-42b3-a4e9-8c7478e829d7\" xlink:show=\"new\" xlink:title=\"psysml:ebcdab70-773e-42b3-a4e9-8c7478e829d7\" xlink:type=\"simple\"><path d=\"M68.16,218.31 C68.69,236.06 69.31,256.98 69.84,274.73 \" fill=\"none\" id=\"E8-E9\" style=\"stroke: #A80036; stroke-width: 1.0;\"/><polygon fill=\"#A80036\" points=\"70.13,284.76,72.8888,276.6736,66.8915,276.8536,70.13,284.76\" style=\"stroke: #A80036; stroke-width: 1.0;\"/><path d=\"M59.509,211.6208 A9,9 0 0 0 76.4159 211.1128\" fill=\"none\" style=\"stroke: #A80036; stroke-width: 1.5;\"/><text fill=\"#000000\" font-family=\"sans-serif\" font-size=\"13\" lengthAdjust=\"spacingAndGlyphs\" textLength=\"60\" x=\"70\" y=\"251.0669\">«variant»</text></a><!--MD5=[0f36bececdf0dff6e600d6f64214b0f1]\n",
       "link E10 to E2--><a href=\"psysml:967d0111-ba43-4736-bbbb-a2fd42e2431e\" target=\"_top\" title=\"psysml:967d0111-ba43-4736-bbbb-a2fd42e2431e\" xlink:actuate=\"onRequest\" xlink:href=\"psysml:967d0111-ba43-4736-bbbb-a2fd42e2431e\" xlink:show=\"new\" xlink:title=\"psysml:967d0111-ba43-4736-bbbb-a2fd42e2431e\" xlink:type=\"simple\"><path d=\"M248.43,201.29 C239.99,219.11 227.86,244.69 217.29,266.99 \" fill=\"none\" id=\"E10-&gt;E2\" style=\"stroke: #A80036; stroke-width: 1.0;\"/><polygon fill=\"#FFFFFF\" points=\"208.71,285.08,210.5216,264.9127,223.1727,270.9085,208.71,285.08\" style=\"stroke: #A80036; stroke-width: 1.0;\"/><ellipse cx=\"214.77\" cy=\"260.6185\" fill=\"#A80036\" rx=\"2\" ry=\"2\" style=\"stroke: #A80036; stroke-width: 1.0;\"/><ellipse cx=\"223.8065\" cy=\"264.9012\" fill=\"#A80036\" rx=\"2\" ry=\"2\" style=\"stroke: #A80036; stroke-width: 1.0;\"/></a><!--MD5=[4cdcb9ba5a37015b47c88a822ff9a65d]\n",
       "@startuml\r\n",
       "skinparam wrapWidth 300\r\n",
       "hide circle\r\n",
       "\r\n",
       "package \"VariabilityTest\" as E1  [[psysml:6fd2d067-8ada-4ea8-9732-021f5438b424 ]]  {\r\n",
       "comp def \"P\" as E2  <<(T,blue) part def>> [[psysml:06c5c105-f179-4f9c-9acd-25394b323f4d ]] {\r\n",
       "a\r\n",
       "}\r\n",
       "comp def \"Q\" as E3  <<(T,blue) part def>> [[psysml:dc55669e-d547-41b4-94bf-d6c68c80b885 ]] {\r\n",
       "}\r\n",
       "comp def \"B\" as E4  <<(T,blue) attribute def>> [[psysml:18777e48-4bd6-4ac5-98df-f6aab0b7358e ]] {\r\n",
       "}\r\n",
       "comp def \"V\" as E5  <<(T,blue) part def>> [[psysml:b19cdb52-b52e-4af3-afe9-4ea29743154a ]] {\r\n",
       "}\r\n",
       "comp usage \"x: Q\" as E6  <<(T,blue) part>> [[psysml:a2bd922e-3e40-42bd-80e3-ecb5a548758e ]] {\r\n",
       "<&bar-trig> b: B <s>P::a</s>\r\n",
       "}\r\n",
       "comp usage \"q: Q\" as E7  <<(T,blue) part>> [[psysml:84f1cc81-1e5a-4a4b-9822-237c593dc1ed ]] {\r\n",
       "}\r\n",
       "comp usage \"v: P\" as E8  <<variation>>\\n <<(T,blue) part>> [[psysml:d9c8c4c9-730a-472e-ad5c-9ed2548fca6c ]] {\r\n",
       "}\r\n",
       "comp usage \"q\" as E9  <<(T,blue) reference>> [[psysml:29b56154-ee98-4bdd-852f-875051132018 ]] {\r\n",
       "<&bar-trig> b: B <s>P::a</s>\r\n",
       "}\r\n",
       "comp usage \"y: P\" as E10  <<(T,blue) part>> [[psysml:e49f0805-0747-4902-8d4f-55ae479a1338 ]] {\r\n",
       "}\r\n",
       "}\r\n",
       "E3 - -|> E2 [[psysml:f79594a1-bc1c-4f37-98e7-b8999b5b3daa ]] \r\n",
       "E5 - -|> E2 [[psysml:e72a8b47-cfcf-460f-abbe-f19ffcddd547 ]] \r\n",
       "E5 )- ->> E6 [[psysml:d1158e90-c200-41a0-bff8-4b2e6825fa74 ]] : <<variant>>\r\n",
       "E7 - -:|> E3 [[psysml:df5a11ab-14bd-474c-9e9f-2e0517640249 ]] \r\n",
       "E8 - -:|> E2 [[psysml:108d975b-2613-446e-8683-bfdaec0afedf ]] \r\n",
       "E8 )- ->> E9 [[psysml:ebcdab70-773e-42b3-a4e9-8c7478e829d7 ]] : <<variant>>\r\n",
       "E10 - -:|> E2 [[psysml:967d0111-ba43-4736-bbbb-a2fd42e2431e ]] \r\n",
       "@enduml\r\n",
       "\n",
       "PlantUML version 1.2020.13(Sat Jun 13 12:26:38 UTC 2020)\n",
       "(EPL source distribution)\n",
       "Java Runtime: OpenJDK Runtime Environment\n",
       "JVM: OpenJDK 64-Bit Server VM\n",
       "Default Encoding: UTF-8\n",
       "Language: en\n",
       "Country: null\n",
       "--></g></svg>"
      ]
     },
     "execution_count": 24,
     "metadata": {},
     "output_type": "execute_result"
    }
   ],
   "source": [
    "%viz --style=\"STDCOLOR\" --view=\"Tree\" \"VariabilityTest\""
   ]
  },
  {
   "cell_type": "code",
   "execution_count": 25,
   "id": "55662077",
   "metadata": {
    "execution": {
     "iopub.execute_input": "2021-10-03T08:28:16.269292Z",
     "iopub.status.busy": "2021-10-03T08:28:16.268621Z",
     "iopub.status.idle": "2021-10-03T08:28:16.274398Z",
     "shell.execute_reply": "2021-10-03T08:28:16.273820Z"
    }
   },
   "outputs": [
    {
     "data": {
      "image/svg+xml": [
       "<?xml version=\"1.0\" encoding=\"UTF-8\" standalone=\"no\"?><svg xmlns=\"http://www.w3.org/2000/svg\" xmlns:xlink=\"http://www.w3.org/1999/xlink\" contentScriptType=\"application/ecmascript\" contentStyleType=\"text/css\" height=\"12px\" preserveAspectRatio=\"none\" style=\"width:12px;height:12px;\" version=\"1.1\" viewBox=\"0 0 12 12\" width=\"12px\" zoomAndPan=\"magnify\"><defs/><g><!--MD5=[aeeef50f102b80d730deb6443d14f702]\n",
       "@startuml\r\n",
       "skinparam wrapWidth 300\r\n",
       "hide circle\r\n",
       "\r\n",
       "@enduml\r\n",
       "\n",
       "PlantUML version 1.2020.13(Sat Jun 13 12:26:38 UTC 2020)\n",
       "(EPL source distribution)\n",
       "Java Runtime: OpenJDK Runtime Environment\n",
       "JVM: OpenJDK 64-Bit Server VM\n",
       "Default Encoding: UTF-8\n",
       "Language: en\n",
       "Country: null\n",
       "--></g></svg>"
      ]
     },
     "execution_count": 25,
     "metadata": {},
     "output_type": "execute_result"
    }
   ],
   "source": [
    "%viz --style=\"STDCOLOR\" --view=\"State\" \"VariabilityTest\""
   ]
  },
  {
   "cell_type": "code",
   "execution_count": 26,
   "id": "3f9f7fc0",
   "metadata": {
    "execution": {
     "iopub.execute_input": "2021-10-03T08:28:16.322972Z",
     "iopub.status.busy": "2021-10-03T08:28:16.322627Z",
     "iopub.status.idle": "2021-10-03T08:28:16.385576Z",
     "shell.execute_reply": "2021-10-03T08:28:16.383644Z"
    }
   },
   "outputs": [
    {
     "data": {
      "image/svg+xml": [
       "<?xml version=\"1.0\" encoding=\"UTF-8\" standalone=\"no\"?><svg xmlns=\"http://www.w3.org/2000/svg\" xmlns:xlink=\"http://www.w3.org/1999/xlink\" contentScriptType=\"application/ecmascript\" contentStyleType=\"text/css\" height=\"399px\" preserveAspectRatio=\"none\" style=\"width:797px;height:399px;\" version=\"1.1\" viewBox=\"0 0 797 399\" width=\"797px\" zoomAndPan=\"magnify\"><defs><filter height=\"300%\" id=\"fjucla35w2gp7\" width=\"300%\" x=\"-1\" y=\"-1\"><feGaussianBlur result=\"blurOut\" stdDeviation=\"2.0\"/><feColorMatrix in=\"blurOut\" result=\"blurOut2\" type=\"matrix\" values=\"0 0 0 0 0 0 0 0 0 0 0 0 0 0 0 0 0 0 .4 0\"/><feOffset dx=\"4.0\" dy=\"4.0\" in=\"blurOut2\" result=\"blurOut3\"/><feBlend in=\"SourceGraphic\" in2=\"blurOut3\" mode=\"normal\"/></filter></defs><g><!--MD5=[fbc87193dbaf4d95561dea2c320d4a47]\n",
       "cluster E1--><a href=\"psysml:6fd2d067-8ada-4ea8-9732-021f5438b424\" target=\"_top\" title=\"psysml:6fd2d067-8ada-4ea8-9732-021f5438b424\" xlink:actuate=\"onRequest\" xlink:href=\"psysml:6fd2d067-8ada-4ea8-9732-021f5438b424\" xlink:show=\"new\" xlink:title=\"psysml:6fd2d067-8ada-4ea8-9732-021f5438b424\" xlink:type=\"simple\"><polygon fill=\"#FFFFFF\" filter=\"url(#fjucla35w2gp7)\" points=\"16,6,116,6,123,28.2969,775,28.2969,775,387,16,387,16,6\" style=\"stroke: #000000; stroke-width: 1.5;\"/><line style=\"stroke: #000000; stroke-width: 1.5;\" x1=\"16\" x2=\"123\" y1=\"28.2969\" y2=\"28.2969\"/><text fill=\"#000000\" font-family=\"sans-serif\" font-size=\"14\" font-weight=\"bold\" lengthAdjust=\"spacingAndGlyphs\" textLength=\"94\" x=\"20\" y=\"20.9951\">VariabilityTest</text></a><!--MD5=[e4f7fae6ed58524ba242bb0b0d3be6b7]\n",
       "cluster E2--><a href=\"psysml:06c5c105-f179-4f9c-9acd-25394b323f4d\" target=\"_top\" title=\"psysml:06c5c105-f179-4f9c-9acd-25394b323f4d\" xlink:actuate=\"onRequest\" xlink:href=\"psysml:06c5c105-f179-4f9c-9acd-25394b323f4d\" xlink:show=\"new\" xlink:title=\"psysml:06c5c105-f179-4f9c-9acd-25394b323f4d\" xlink:type=\"simple\"><rect fill=\"#FFFFFF\" filter=\"url(#fjucla35w2gp7)\" height=\"129\" id=\"E2\" style=\"stroke: #A80036; stroke-width: 1.5;\" width=\"139\" x=\"428\" y=\"226\"/><rect fill=\"#FEFECE\" height=\"37.9375\" style=\"stroke: #A80036; stroke-width: 1.5;\" width=\"139\" x=\"428\" y=\"226\"/><text fill=\"#000000\" font-family=\"sans-serif\" font-size=\"12\" font-style=\"italic\" lengthAdjust=\"spacingAndGlyphs\" textLength=\"64\" x=\"465.5\" y=\"242.1387\">«part def»</text><text fill=\"#000000\" font-family=\"sans-serif\" font-size=\"12\" lengthAdjust=\"spacingAndGlyphs\" textLength=\"8\" x=\"493.5\" y=\"256.1074\">P</text></a><!--MD5=[14e3b0961a2654348d326746436168a1]\n",
       "cluster E6--><a href=\"psysml:b19cdb52-b52e-4af3-afe9-4ea29743154a\" target=\"_top\" title=\"psysml:b19cdb52-b52e-4af3-afe9-4ea29743154a\" xlink:actuate=\"onRequest\" xlink:href=\"psysml:b19cdb52-b52e-4af3-afe9-4ea29743154a\" xlink:show=\"new\" xlink:title=\"psysml:b19cdb52-b52e-4af3-afe9-4ea29743154a\" xlink:type=\"simple\"><rect fill=\"#FFFFFF\" filter=\"url(#fjucla35w2gp7)\" height=\"129\" id=\"E6\" style=\"stroke: #A80036; stroke-width: 1.5;\" width=\"145\" x=\"598\" y=\"57\"/><rect fill=\"#FEFECE\" height=\"37.9375\" style=\"stroke: #A80036; stroke-width: 1.5;\" width=\"145\" x=\"598\" y=\"57\"/><text fill=\"#000000\" font-family=\"sans-serif\" font-size=\"12\" font-style=\"italic\" lengthAdjust=\"spacingAndGlyphs\" textLength=\"64\" x=\"638.5\" y=\"73.1387\">«part def»</text><text fill=\"#000000\" font-family=\"sans-serif\" font-size=\"12\" lengthAdjust=\"spacingAndGlyphs\" textLength=\"8\" x=\"666.5\" y=\"87.1074\">V</text></a><!--MD5=[7f149f147074ac12df2cb0a7728a5fb0]\n",
       "cluster E9--><a href=\"psysml:d9c8c4c9-730a-472e-ad5c-9ed2548fca6c\" target=\"_top\" title=\"psysml:d9c8c4c9-730a-472e-ad5c-9ed2548fca6c\" xlink:actuate=\"onRequest\" xlink:href=\"psysml:d9c8c4c9-730a-472e-ad5c-9ed2548fca6c\" xlink:show=\"new\" xlink:title=\"psysml:d9c8c4c9-730a-472e-ad5c-9ed2548fca6c\" xlink:type=\"simple\"><rect fill=\"#FFFFFF\" filter=\"url(#fjucla35w2gp7)\" height=\"111\" id=\"E9\" rx=\"10\" ry=\"10\" style=\"stroke: #A80036; stroke-width: 1.5;\" width=\"110\" x=\"456\" y=\"74\"/><rect fill=\"#FEFECE\" height=\"23.9688\" rx=\"10\" ry=\"10\" style=\"stroke: #FEFECE; stroke-width: 1.5;\" width=\"110\" x=\"456\" y=\"74\"/><rect fill=\"#FEFECE\" height=\"10\" style=\"stroke: #FEFECE; stroke-width: 1.5;\" width=\"110\" x=\"456\" y=\"87.9688\"/><rect fill=\"none\" height=\"111\" id=\"E9\" rx=\"10\" ry=\"10\" style=\"stroke: #A80036; stroke-width: 1.5;\" width=\"110\" x=\"456\" y=\"74\"/><text fill=\"#000000\" font-family=\"sans-serif\" font-size=\"12\" lengthAdjust=\"spacingAndGlyphs\" textLength=\"22\" x=\"500\" y=\"90.1387\">v: P</text><line style=\"stroke: #A80036; stroke-width: 1.0;\" x1=\"456\" x2=\"566\" y1=\"97.9688\" y2=\"97.9688\"/></a><g id=\"E1.E5\"><a href=\"psysml:18777e48-4bd6-4ac5-98df-f6aab0b7358e\" target=\"_top\" title=\"psysml:18777e48-4bd6-4ac5-98df-f6aab0b7358e\" xlink:actuate=\"onRequest\" xlink:href=\"psysml:18777e48-4bd6-4ac5-98df-f6aab0b7358e\" xlink:show=\"new\" xlink:title=\"psysml:18777e48-4bd6-4ac5-98df-f6aab0b7358e\" xlink:type=\"simple\"><rect fill=\"#FEFECE\" filter=\"url(#fjucla35w2gp7)\" height=\"42.9375\" id=\"E5\" style=\"stroke: #A80036; stroke-width: 1.5;\" width=\"100\" x=\"337\" y=\"117.5\"/><text fill=\"#000000\" font-family=\"sans-serif\" font-size=\"12\" font-style=\"italic\" lengthAdjust=\"spacingAndGlyphs\" textLength=\"93\" x=\"340.5\" y=\"133.6387\">«attribute def»</text><text fill=\"#000000\" font-family=\"sans-serif\" font-size=\"12\" lengthAdjust=\"spacingAndGlyphs\" textLength=\"8\" x=\"383\" y=\"147.6074\">B</text></a></g><!--MD5=[09b614a08d8cba4a07c9adeb5e0fee81]\n",
       "class E3--><a href=\"psysml:8d9858c1-4f67-40c3-af33-b29377a1672a\" target=\"_top\" title=\"psysml:8d9858c1-4f67-40c3-af33-b29377a1672a\" xlink:actuate=\"onRequest\" xlink:href=\"psysml:8d9858c1-4f67-40c3-af33-b29377a1672a\" xlink:show=\"new\" xlink:title=\"psysml:8d9858c1-4f67-40c3-af33-b29377a1672a\" xlink:type=\"simple\"><rect fill=\"#FEFECE\" filter=\"url(#fjucla35w2gp7)\" height=\"45.9375\" id=\"E3\" rx=\"10\" ry=\"10\" style=\"stroke: #A80036; stroke-width: 1.5;\" width=\"71\" x=\"471.5\" y=\"285\"/><text fill=\"#000000\" font-family=\"sans-serif\" font-size=\"12\" font-style=\"italic\" lengthAdjust=\"spacingAndGlyphs\" textLength=\"69\" x=\"472.5\" y=\"301.1387\">«attribute»</text><text fill=\"#000000\" font-family=\"sans-serif\" font-size=\"12\" lengthAdjust=\"spacingAndGlyphs\" textLength=\"8\" x=\"503\" y=\"315.1074\">a</text><line style=\"stroke: #A80036; stroke-width: 1.5;\" x1=\"472.5\" x2=\"541.5\" y1=\"322.9375\" y2=\"322.9375\"/></a><g id=\"E1.E4\"><a href=\"psysml:dc55669e-d547-41b4-94bf-d6c68c80b885\" target=\"_top\" title=\"psysml:dc55669e-d547-41b4-94bf-d6c68c80b885\" xlink:actuate=\"onRequest\" xlink:href=\"psysml:dc55669e-d547-41b4-94bf-d6c68c80b885\" xlink:show=\"new\" xlink:title=\"psysml:dc55669e-d547-41b4-94bf-d6c68c80b885\" xlink:type=\"simple\"><rect fill=\"#FEFECE\" filter=\"url(#fjucla35w2gp7)\" height=\"42.9375\" id=\"E4\" style=\"stroke: #A80036; stroke-width: 1.5;\" width=\"71\" x=\"230.5\" y=\"117.5\"/><text fill=\"#000000\" font-family=\"sans-serif\" font-size=\"12\" font-style=\"italic\" lengthAdjust=\"spacingAndGlyphs\" textLength=\"64\" x=\"234\" y=\"133.6387\">«part def»</text><text fill=\"#000000\" font-family=\"sans-serif\" font-size=\"12\" lengthAdjust=\"spacingAndGlyphs\" textLength=\"9\" x=\"261.5\" y=\"147.6074\">Q</text></a></g><!--MD5=[2156ba9850f5573cc1fc38a6a4b2f02b]\n",
       "class E7--><a href=\"psysml:a2bd922e-3e40-42bd-80e3-ecb5a548758e\" target=\"_top\" title=\"psysml:a2bd922e-3e40-42bd-80e3-ecb5a548758e\" xlink:actuate=\"onRequest\" xlink:href=\"psysml:a2bd922e-3e40-42bd-80e3-ecb5a548758e\" xlink:show=\"new\" xlink:title=\"psysml:a2bd922e-3e40-42bd-80e3-ecb5a548758e\" xlink:type=\"simple\"><rect fill=\"#FEFECE\" filter=\"url(#fjucla35w2gp7)\" height=\"45.7188\" id=\"E7\" rx=\"10\" ry=\"10\" style=\"stroke: #A80036; stroke-width: 1.5;\" width=\"78\" x=\"641\" y=\"116\"/><text fill=\"#000000\" font-family=\"sans-serif\" font-size=\"12\" lengthAdjust=\"spacingAndGlyphs\" textLength=\"23\" x=\"668.5\" y=\"132.1387\">x: Q</text><line style=\"stroke: #A80036; stroke-width: 1.5;\" x1=\"642\" x2=\"718\" y1=\"139.9688\" y2=\"139.9688\"/><path d=\"M648.9167,144.8854 L648.9167,154.0521 L649.8333,154.0521 L649.8333,144.8854 M652.5833,144.8854 L652.5833,154.0521 L659.9167,149.4688 L652.5833,144.8854 L653.5,146.2604 L658.5417,149.4688 L653.5,152.6771 L653.5,146.2604 \" fill=\"#000000\" style=\"stroke: ; stroke-width: 0.0; stroke-dasharray: ;\"/><text fill=\"#000000\" font-family=\"sans-serif\" font-size=\"11\" lengthAdjust=\"spacingAndGlyphs\" textLength=\"23\" x=\"664\" y=\"155.1245\">b: B</text><text fill=\"#000000\" font-family=\"sans-serif\" font-size=\"11\" lengthAdjust=\"spacingAndGlyphs\" text-decoration=\"line-through\" textLength=\"22\" x=\"691\" y=\"155.1245\">P::a</text></a><g id=\"E1.E8\"><a href=\"psysml:84f1cc81-1e5a-4a4b-9822-237c593dc1ed\" target=\"_top\" title=\"psysml:84f1cc81-1e5a-4a4b-9822-237c593dc1ed\" xlink:actuate=\"onRequest\" xlink:href=\"psysml:84f1cc81-1e5a-4a4b-9822-237c593dc1ed\" xlink:show=\"new\" xlink:title=\"psysml:84f1cc81-1e5a-4a4b-9822-237c593dc1ed\" xlink:type=\"simple\"><rect fill=\"#FEFECE\" filter=\"url(#fjucla35w2gp7)\" height=\"40\" id=\"E8\" rx=\"10\" ry=\"10\" style=\"stroke: #A80036; stroke-width: 1.5;\" width=\"50\" x=\"145\" y=\"119\"/><text fill=\"#000000\" font-family=\"sans-serif\" font-size=\"12\" lengthAdjust=\"spacingAndGlyphs\" textLength=\"25\" x=\"157.5\" y=\"135.1387\">q: Q</text></a></g><!--MD5=[96f4274e9e20536e775497830990834d]\n",
       "class E10--><a href=\"psysml:29b56154-ee98-4bdd-852f-875051132018\" target=\"_top\" title=\"psysml:29b56154-ee98-4bdd-852f-875051132018\" xlink:actuate=\"onRequest\" xlink:href=\"psysml:29b56154-ee98-4bdd-852f-875051132018\" xlink:show=\"new\" xlink:title=\"psysml:29b56154-ee98-4bdd-852f-875051132018\" xlink:type=\"simple\"><rect fill=\"#FEFECE\" filter=\"url(#fjucla35w2gp7)\" height=\"59.6875\" id=\"E10\" rx=\"10\" ry=\"10\" style=\"stroke: #A80036; stroke-width: 1.5;\" width=\"78\" x=\"472\" y=\"109\"/><text fill=\"#000000\" font-family=\"sans-serif\" font-size=\"12\" font-style=\"italic\" lengthAdjust=\"spacingAndGlyphs\" textLength=\"75\" x=\"473.5\" y=\"125.1387\">«reference»</text><text fill=\"#000000\" font-family=\"sans-serif\" font-size=\"12\" lengthAdjust=\"spacingAndGlyphs\" textLength=\"8\" x=\"507\" y=\"139.1074\">q</text><line style=\"stroke: #A80036; stroke-width: 1.5;\" x1=\"473\" x2=\"549\" y1=\"146.9375\" y2=\"146.9375\"/><path d=\"M479.9167,151.8542 L479.9167,161.0208 L480.8333,161.0208 L480.8333,151.8542 M483.5833,151.8542 L483.5833,161.0208 L490.9167,156.4375 L483.5833,151.8542 L484.5,153.2292 L489.5417,156.4375 L484.5,159.6458 L484.5,153.2292 \" fill=\"#000000\" style=\"stroke: ; stroke-width: 0.0; stroke-dasharray: ;\"/><text fill=\"#000000\" font-family=\"sans-serif\" font-size=\"11\" lengthAdjust=\"spacingAndGlyphs\" textLength=\"23\" x=\"495\" y=\"162.0933\">b: B</text><text fill=\"#000000\" font-family=\"sans-serif\" font-size=\"11\" lengthAdjust=\"spacingAndGlyphs\" text-decoration=\"line-through\" textLength=\"22\" x=\"522\" y=\"162.0933\">P::a</text></a><g id=\"E1.E11\"><a href=\"psysml:e49f0805-0747-4902-8d4f-55ae479a1338\" target=\"_top\" title=\"psysml:e49f0805-0747-4902-8d4f-55ae479a1338\" xlink:actuate=\"onRequest\" xlink:href=\"psysml:e49f0805-0747-4902-8d4f-55ae479a1338\" xlink:show=\"new\" xlink:title=\"psysml:e49f0805-0747-4902-8d4f-55ae479a1338\" xlink:type=\"simple\"><rect fill=\"#FEFECE\" filter=\"url(#fjucla35w2gp7)\" height=\"40\" id=\"E11\" rx=\"10\" ry=\"10\" style=\"stroke: #A80036; stroke-width: 1.5;\" width=\"77\" x=\"32.5\" y=\"119\"/><text fill=\"#000000\" font-family=\"sans-serif\" font-size=\"12\" lengthAdjust=\"spacingAndGlyphs\" textLength=\"62\" x=\"38\" y=\"135.1387\">y: P= v::q;</text></a></g><!--MD5=[185131fc0dcab0a4505a2ebe144e961b]\n",
       "link E4 to E2--><a href=\"psysml:f79594a1-bc1c-4f37-98e7-b8999b5b3daa\" target=\"_top\" title=\"psysml:f79594a1-bc1c-4f37-98e7-b8999b5b3daa\" xlink:actuate=\"onRequest\" xlink:href=\"psysml:f79594a1-bc1c-4f37-98e7-b8999b5b3daa\" xlink:show=\"new\" xlink:title=\"psysml:f79594a1-bc1c-4f37-98e7-b8999b5b3daa\" xlink:type=\"simple\"><path d=\"M282.92,160.65 C293.28,172.97 307,188.75 320,202 C343.97,226.43 372.445,252.2475 395.1838,272.1688 C406.5531,282.1294 416.4884,290.6159 423.7095,296.718 C424.6122,297.4807 425.4724,298.2062 426.2877,298.8927 C426.6954,299.2359 427.0918,299.5694 427.4767,299.8929 C427.5729,299.9737 427.6684,300.054 427.7632,300.1336 \" fill=\"none\" id=\"E4-&gt;E2\" style=\"stroke: #A80036; stroke-width: 1.0;\"/><polygon fill=\"#FFFFFF\" points=\"427.7632,300.1336,417.7182,282.5524,408.7129,293.2717,427.7632,300.1336\" style=\"stroke: #A80036; stroke-width: 1.0;\"/></a><!--MD5=[2351f337d6de0f557b50152ba70847b5]\n",
       "link E6 to E2--><a href=\"psysml:e72a8b47-cfcf-460f-abbe-f19ffcddd547\" target=\"_top\" title=\"psysml:e72a8b47-cfcf-460f-abbe-f19ffcddd547\" xlink:actuate=\"onRequest\" xlink:href=\"psysml:e72a8b47-cfcf-460f-abbe-f19ffcddd547\" xlink:show=\"new\" xlink:title=\"psysml:e72a8b47-cfcf-460f-abbe-f19ffcddd547\" xlink:type=\"simple\"><path d=\"M597.9734,161.7649 C597.8833,161.9624 597.7924,162.1606 597.7007,162.3593 C597.5174,162.7568 597.3308,163.1567 597.1411,163.5587 C596.7615,164.3629 596.3691,165.1756 595.9638,165.995 C589.4775,179.105 579.665,193.905 566,202 C544.72,214.61 473.52,193.61 455,210 C450.9525,213.5838 447.6134,217.7542 444.8697,222.3128 C444.1838,223.4524 443.5351,224.6163 442.9218,225.8013 \" fill=\"none\" id=\"E6-&gt;E2\" style=\"stroke: #A80036; stroke-width: 1.0;\"/><polygon fill=\"#FFFFFF\" points=\"442.9218,225.8013,457.8713,212.1443,445.4376,205.7097,442.9218,225.8013\" style=\"stroke: #A80036; stroke-width: 1.0;\"/></a><!--MD5=[491cf1a8e45a6962790476da6c0d2fe1]\n",
       "@startuml\r\n",
       "skinparam ranksep 10\r\n",
       "skinparam rectangle {\r\n",
       " backgroundColor<<block>> LightGreen\r\n",
       "}\r\n",
       "skinparam wrapWidth 300\r\n",
       "hide circle\r\n",
       "\r\n",
       "package \"VariabilityTest\" as E1  [[psysml:6fd2d067-8ada-4ea8-9732-021f5438b424 ]]  {\r\n",
       "rec def \"P\" as E2  <<(T,blue) part def>> [[psysml:06c5c105-f179-4f9c-9acd-25394b323f4d ]] {\r\n",
       "comp usage \"a\" as E3  <<(T,blue) attribute>> [[psysml:8d9858c1-4f67-40c3-af33-b29377a1672a ]] {\r\n",
       "}\r\n",
       "}\r\n",
       "rec def \"Q\" as E4  <<(T,blue) part def>> [[psysml:dc55669e-d547-41b4-94bf-d6c68c80b885 ]] {\r\n",
       "}\r\n",
       "def \"B\" as E5  <<(T,blue) attribute def>> [[psysml:18777e48-4bd6-4ac5-98df-f6aab0b7358e ]] \r\n",
       "rec def \"V\" as E6  <<(T,blue) part def>> [[psysml:b19cdb52-b52e-4af3-afe9-4ea29743154a ]] {\r\n",
       "comp usage \"x: Q\" as E7  [[psysml:a2bd922e-3e40-42bd-80e3-ecb5a548758e ]] {\r\n",
       "<&bar-trig> b: B <s>P::a</s>\r\n",
       "}\r\n",
       "}\r\n",
       "rec usage \"q: Q\" as E8  [[psysml:84f1cc81-1e5a-4a4b-9822-237c593dc1ed ]] {\r\n",
       "}\r\n",
       "rec usage \"v: P\" as E9  [[psysml:d9c8c4c9-730a-472e-ad5c-9ed2548fca6c ]] {\r\n",
       "comp usage \"q\" as E10  <<(T,blue) reference>> [[psysml:29b56154-ee98-4bdd-852f-875051132018 ]] {\r\n",
       "<&bar-trig> b: B <s>P::a</s>\r\n",
       "}\r\n",
       "}\r\n",
       "rec usage \"y: P= v::q; \" as E11  [[psysml:e49f0805-0747-4902-8d4f-55ae479a1338 ]] {\r\n",
       "}\r\n",
       "}\r\n",
       "E4 - -|> E2 [[psysml:f79594a1-bc1c-4f37-98e7-b8999b5b3daa ]] \r\n",
       "E6 - -|> E2 [[psysml:e72a8b47-cfcf-460f-abbe-f19ffcddd547 ]] \r\n",
       "@enduml\r\n",
       "\n",
       "PlantUML version 1.2020.13(Sat Jun 13 12:26:38 UTC 2020)\n",
       "(EPL source distribution)\n",
       "Java Runtime: OpenJDK Runtime Environment\n",
       "JVM: OpenJDK 64-Bit Server VM\n",
       "Default Encoding: UTF-8\n",
       "Language: en\n",
       "Country: null\n",
       "--></g></svg>"
      ]
     },
     "execution_count": 26,
     "metadata": {},
     "output_type": "execute_result"
    }
   ],
   "source": [
    "%viz --style=\"STDCOLOR\" --view=\"Interconnection\" \"VariabilityTest\""
   ]
  },
  {
   "cell_type": "code",
   "execution_count": 27,
   "id": "bbb81273",
   "metadata": {
    "execution": {
     "iopub.execute_input": "2021-10-03T08:28:16.434393Z",
     "iopub.status.busy": "2021-10-03T08:28:16.433974Z",
     "iopub.status.idle": "2021-10-03T08:28:16.440321Z",
     "shell.execute_reply": "2021-10-03T08:28:16.439818Z"
    }
   },
   "outputs": [
    {
     "data": {
      "image/svg+xml": [
       "<?xml version=\"1.0\" encoding=\"UTF-8\" standalone=\"no\"?><svg xmlns=\"http://www.w3.org/2000/svg\" xmlns:xlink=\"http://www.w3.org/1999/xlink\" contentScriptType=\"application/ecmascript\" contentStyleType=\"text/css\" height=\"12px\" preserveAspectRatio=\"none\" style=\"width:12px;height:12px;\" version=\"1.1\" viewBox=\"0 0 12 12\" width=\"12px\" zoomAndPan=\"magnify\"><defs/><g><!--MD5=[9863325348a96a77dacc89509d8ee65e]\n",
       "@startuml\r\n",
       "skinparam ranksep 8\r\n",
       "skinparam wrapWidth 300\r\n",
       "hide circle\r\n",
       "\r\n",
       "@enduml\r\n",
       "\n",
       "PlantUML version 1.2020.13(Sat Jun 13 12:26:38 UTC 2020)\n",
       "(EPL source distribution)\n",
       "Java Runtime: OpenJDK Runtime Environment\n",
       "JVM: OpenJDK 64-Bit Server VM\n",
       "Default Encoding: UTF-8\n",
       "Language: en\n",
       "Country: null\n",
       "--></g></svg>"
      ]
     },
     "execution_count": 27,
     "metadata": {},
     "output_type": "execute_result"
    }
   ],
   "source": [
    "%viz --style=\"STDCOLOR\" --view=\"Action\" \"VariabilityTest\""
   ]
  },
  {
   "cell_type": "code",
   "execution_count": 28,
   "id": "3ae416a6",
   "metadata": {
    "execution": {
     "iopub.execute_input": "2021-10-03T08:28:16.489344Z",
     "iopub.status.busy": "2021-10-03T08:28:16.488762Z",
     "iopub.status.idle": "2021-10-03T08:28:16.494435Z",
     "shell.execute_reply": "2021-10-03T08:28:16.494092Z"
    }
   },
   "outputs": [
    {
     "data": {
      "image/svg+xml": [
       "<?xml version=\"1.0\" encoding=\"UTF-8\" standalone=\"no\"?><svg xmlns=\"http://www.w3.org/2000/svg\" xmlns:xlink=\"http://www.w3.org/1999/xlink\" contentScriptType=\"application/ecmascript\" contentStyleType=\"text/css\" height=\"12px\" preserveAspectRatio=\"none\" style=\"width:12px;height:12px;\" version=\"1.1\" viewBox=\"0 0 12 12\" width=\"12px\" zoomAndPan=\"magnify\"><defs/><g><!--MD5=[6c4bca67b4d71758159a5a7f1f1e1fc2]\n",
       "@startuml\r\n",
       "skinparam roundcorner 20\r\n",
       "skinparam BoxPadding 20\r\n",
       "skinparam SequenceBoxBackgroundColor #white\r\n",
       "skinparam style strictuml\r\n",
       "skinparam maxMessageSize 100\r\n",
       "skinparam wrapWidth 300\r\n",
       "hide circle\r\n",
       "\r\n",
       "@enduml\r\n",
       "\n",
       "PlantUML version 1.2020.13(Sat Jun 13 12:26:38 UTC 2020)\n",
       "(EPL source distribution)\n",
       "Java Runtime: OpenJDK Runtime Environment\n",
       "JVM: OpenJDK 64-Bit Server VM\n",
       "Default Encoding: UTF-8\n",
       "Language: en\n",
       "Country: null\n",
       "--></g></svg>"
      ]
     },
     "execution_count": 28,
     "metadata": {},
     "output_type": "execute_result"
    }
   ],
   "source": [
    "%viz --style=\"STDCOLOR\" --view=\"Sequence\" \"VariabilityTest\""
   ]
  },
  {
   "cell_type": "code",
   "execution_count": 29,
   "id": "c269ce0d",
   "metadata": {
    "execution": {
     "iopub.execute_input": "2021-10-03T08:28:16.543962Z",
     "iopub.status.busy": "2021-10-03T08:28:16.543543Z",
     "iopub.status.idle": "2021-10-03T08:28:16.606720Z",
     "shell.execute_reply": "2021-10-03T08:28:16.604778Z"
    }
   },
   "outputs": [
    {
     "data": {
      "image/svg+xml": [
       "<?xml version=\"1.0\" encoding=\"UTF-8\" standalone=\"no\"?><svg xmlns=\"http://www.w3.org/2000/svg\" xmlns:xlink=\"http://www.w3.org/1999/xlink\" contentScriptType=\"application/ecmascript\" contentStyleType=\"text/css\" height=\"373px\" preserveAspectRatio=\"none\" style=\"width:419px;height:373px;\" version=\"1.1\" viewBox=\"0 0 419 373\" width=\"419px\" zoomAndPan=\"magnify\"><defs><filter height=\"300%\" id=\"f1vrnvtf7ggmgm\" width=\"300%\" x=\"-1\" y=\"-1\"><feGaussianBlur result=\"blurOut\" stdDeviation=\"2.0\"/><feColorMatrix in=\"blurOut\" result=\"blurOut2\" type=\"matrix\" values=\"0 0 0 0 0 0 0 0 0 0 0 0 0 0 0 0 0 0 .4 0\"/><feOffset dx=\"4.0\" dy=\"4.0\" in=\"blurOut2\" result=\"blurOut3\"/><feBlend in=\"SourceGraphic\" in2=\"blurOut3\" mode=\"normal\"/></filter></defs><g><!--MD5=[fbc87193dbaf4d95561dea2c320d4a47]\n",
       "cluster E1--><a href=\"psysml:6fd2d067-8ada-4ea8-9732-021f5438b424\" target=\"_top\" title=\"psysml:6fd2d067-8ada-4ea8-9732-021f5438b424\" xlink:actuate=\"onRequest\" xlink:href=\"psysml:6fd2d067-8ada-4ea8-9732-021f5438b424\" xlink:show=\"new\" xlink:title=\"psysml:6fd2d067-8ada-4ea8-9732-021f5438b424\" xlink:type=\"simple\"><polygon fill=\"#FFFFFF\" filter=\"url(#f1vrnvtf7ggmgm)\" points=\"16,6,116,6,123,28.2969,397,28.2969,397,361,16,361,16,6\" style=\"stroke: #000000; stroke-width: 1.5;\"/><line style=\"stroke: #000000; stroke-width: 1.5;\" x1=\"16\" x2=\"123\" y1=\"28.2969\" y2=\"28.2969\"/><text fill=\"#000000\" font-family=\"sans-serif\" font-size=\"14\" font-weight=\"bold\" lengthAdjust=\"spacingAndGlyphs\" textLength=\"94\" x=\"20\" y=\"20.9951\">VariabilityTest</text></a><!--MD5=[b4997ac47864f28c2f74865a473b2911]\n",
       "class E2--><a href=\"psysml:06c5c105-f179-4f9c-9acd-25394b323f4d\" target=\"_top\" title=\"psysml:06c5c105-f179-4f9c-9acd-25394b323f4d\" xlink:actuate=\"onRequest\" xlink:href=\"psysml:06c5c105-f179-4f9c-9acd-25394b323f4d\" xlink:show=\"new\" xlink:title=\"psysml:06c5c105-f179-4f9c-9acd-25394b323f4d\" xlink:type=\"simple\"><rect fill=\"#FEFECE\" filter=\"url(#f1vrnvtf7ggmgm)\" height=\"58.7422\" id=\"E2\" style=\"stroke: #A80036; stroke-width: 1.5;\" width=\"66\" x=\"162\" y=\"285.5\"/><text fill=\"#000000\" font-family=\"sans-serif\" font-size=\"12\" font-style=\"italic\" lengthAdjust=\"spacingAndGlyphs\" textLength=\"64\" x=\"163\" y=\"301.6387\">«part def»</text><text fill=\"#000000\" font-family=\"sans-serif\" font-size=\"12\" lengthAdjust=\"spacingAndGlyphs\" textLength=\"8\" x=\"191\" y=\"315.6074\">P</text><line style=\"stroke: #A80036; stroke-width: 1.5;\" x1=\"163\" x2=\"227\" y1=\"323.4375\" y2=\"323.4375\"/><text fill=\"#000000\" font-family=\"sans-serif\" font-size=\"11\" lengthAdjust=\"spacingAndGlyphs\" textLength=\"7\" x=\"168\" y=\"337.6479\">a</text></a><!--MD5=[09b614a08d8cba4a07c9adeb5e0fee81]\n",
       "class E3--><a href=\"psysml:dc55669e-d547-41b4-94bf-d6c68c80b885\" target=\"_top\" title=\"psysml:dc55669e-d547-41b4-94bf-d6c68c80b885\" xlink:actuate=\"onRequest\" xlink:href=\"psysml:dc55669e-d547-41b4-94bf-d6c68c80b885\" xlink:show=\"new\" xlink:title=\"psysml:dc55669e-d547-41b4-94bf-d6c68c80b885\" xlink:type=\"simple\"><rect fill=\"#FEFECE\" filter=\"url(#f1vrnvtf7ggmgm)\" height=\"45.9375\" id=\"E3\" style=\"stroke: #A80036; stroke-width: 1.5;\" width=\"66\" x=\"137\" y=\"155\"/><text fill=\"#000000\" font-family=\"sans-serif\" font-size=\"12\" font-style=\"italic\" lengthAdjust=\"spacingAndGlyphs\" textLength=\"64\" x=\"138\" y=\"171.1387\">«part def»</text><text fill=\"#000000\" font-family=\"sans-serif\" font-size=\"12\" lengthAdjust=\"spacingAndGlyphs\" textLength=\"9\" x=\"165.5\" y=\"185.1074\">Q</text><line style=\"stroke: #A80036; stroke-width: 1.5;\" x1=\"138\" x2=\"202\" y1=\"192.9375\" y2=\"192.9375\"/></a><!--MD5=[ebbe1d658d1005bcc118a6aa81145e00]\n",
       "class E4--><a href=\"psysml:18777e48-4bd6-4ac5-98df-f6aab0b7358e\" target=\"_top\" title=\"psysml:18777e48-4bd6-4ac5-98df-f6aab0b7358e\" xlink:actuate=\"onRequest\" xlink:href=\"psysml:18777e48-4bd6-4ac5-98df-f6aab0b7358e\" xlink:show=\"new\" xlink:title=\"psysml:18777e48-4bd6-4ac5-98df-f6aab0b7358e\" xlink:type=\"simple\"><rect fill=\"#FEFECE\" filter=\"url(#f1vrnvtf7ggmgm)\" height=\"45.9375\" id=\"E4\" style=\"stroke: #A80036; stroke-width: 1.5;\" width=\"95\" x=\"255.5\" y=\"41\"/><text fill=\"#000000\" font-family=\"sans-serif\" font-size=\"12\" font-style=\"italic\" lengthAdjust=\"spacingAndGlyphs\" textLength=\"93\" x=\"256.5\" y=\"57.1387\">«attribute def»</text><text fill=\"#000000\" font-family=\"sans-serif\" font-size=\"12\" lengthAdjust=\"spacingAndGlyphs\" textLength=\"8\" x=\"299\" y=\"71.1074\">B</text><line style=\"stroke: #A80036; stroke-width: 1.5;\" x1=\"256.5\" x2=\"349.5\" y1=\"78.9375\" y2=\"78.9375\"/></a><!--MD5=[270fce915f116d4de14055a7c1d9a0f3]\n",
       "class E5--><a href=\"psysml:b19cdb52-b52e-4af3-afe9-4ea29743154a\" target=\"_top\" title=\"psysml:b19cdb52-b52e-4af3-afe9-4ea29743154a\" xlink:actuate=\"onRequest\" xlink:href=\"psysml:b19cdb52-b52e-4af3-afe9-4ea29743154a\" xlink:show=\"new\" xlink:title=\"psysml:b19cdb52-b52e-4af3-afe9-4ea29743154a\" xlink:type=\"simple\"><rect fill=\"#FEFECE\" filter=\"url(#f1vrnvtf7ggmgm)\" height=\"45.9375\" id=\"E5\" style=\"stroke: #A80036; stroke-width: 1.5;\" width=\"66\" x=\"315\" y=\"155\"/><text fill=\"#000000\" font-family=\"sans-serif\" font-size=\"12\" font-style=\"italic\" lengthAdjust=\"spacingAndGlyphs\" textLength=\"64\" x=\"316\" y=\"171.1387\">«part def»</text><text fill=\"#000000\" font-family=\"sans-serif\" font-size=\"12\" lengthAdjust=\"spacingAndGlyphs\" textLength=\"8\" x=\"344\" y=\"185.1074\">V</text><line style=\"stroke: #A80036; stroke-width: 1.5;\" x1=\"316\" x2=\"380\" y1=\"192.9375\" y2=\"192.9375\"/></a><!--MD5=[60a26617385b1d2d0262a64233df1f8d]\n",
       "class E6--><a href=\"psysml:a2bd922e-3e40-42bd-80e3-ecb5a548758e\" target=\"_top\" title=\"psysml:a2bd922e-3e40-42bd-80e3-ecb5a548758e\" xlink:actuate=\"onRequest\" xlink:href=\"psysml:a2bd922e-3e40-42bd-80e3-ecb5a548758e\" xlink:show=\"new\" xlink:title=\"psysml:a2bd922e-3e40-42bd-80e3-ecb5a548758e\" xlink:type=\"simple\"><rect fill=\"#FEFECE\" filter=\"url(#f1vrnvtf7ggmgm)\" height=\"59.6875\" id=\"E6\" rx=\"10\" ry=\"10\" style=\"stroke: #A80036; stroke-width: 1.5;\" width=\"78\" x=\"280\" y=\"285\"/><text fill=\"#000000\" font-family=\"sans-serif\" font-size=\"12\" font-style=\"italic\" lengthAdjust=\"spacingAndGlyphs\" textLength=\"40\" x=\"299\" y=\"301.1387\">«part»</text><text fill=\"#000000\" font-family=\"sans-serif\" font-size=\"12\" lengthAdjust=\"spacingAndGlyphs\" textLength=\"23\" x=\"307.5\" y=\"315.1074\">x: Q</text><line style=\"stroke: #A80036; stroke-width: 1.5;\" x1=\"281\" x2=\"357\" y1=\"322.9375\" y2=\"322.9375\"/><path d=\"M287.9167,327.8542 L287.9167,337.0208 L288.8333,337.0208 L288.8333,327.8542 M291.5833,327.8542 L291.5833,337.0208 L298.9167,332.4375 L291.5833,327.8542 L292.5,329.2292 L297.5417,332.4375 L292.5,335.6458 L292.5,329.2292 \" fill=\"#000000\" style=\"stroke: ; stroke-width: 0.0; stroke-dasharray: ;\"/><text fill=\"#000000\" font-family=\"sans-serif\" font-size=\"11\" lengthAdjust=\"spacingAndGlyphs\" textLength=\"23\" x=\"303\" y=\"338.0933\">b: B</text><text fill=\"#000000\" font-family=\"sans-serif\" font-size=\"11\" lengthAdjust=\"spacingAndGlyphs\" text-decoration=\"line-through\" textLength=\"22\" x=\"330\" y=\"338.0933\">P::a</text></a><!--MD5=[2156ba9850f5573cc1fc38a6a4b2f02b]\n",
       "class E7--><a href=\"psysml:84f1cc81-1e5a-4a4b-9822-237c593dc1ed\" target=\"_top\" title=\"psysml:84f1cc81-1e5a-4a4b-9822-237c593dc1ed\" xlink:actuate=\"onRequest\" xlink:href=\"psysml:84f1cc81-1e5a-4a4b-9822-237c593dc1ed\" xlink:show=\"new\" xlink:title=\"psysml:84f1cc81-1e5a-4a4b-9822-237c593dc1ed\" xlink:type=\"simple\"><rect fill=\"#FEFECE\" filter=\"url(#f1vrnvtf7ggmgm)\" height=\"45.9375\" id=\"E7\" rx=\"10\" ry=\"10\" style=\"stroke: #A80036; stroke-width: 1.5;\" width=\"42\" x=\"149\" y=\"41\"/><text fill=\"#000000\" font-family=\"sans-serif\" font-size=\"12\" font-style=\"italic\" lengthAdjust=\"spacingAndGlyphs\" textLength=\"40\" x=\"150\" y=\"57.1387\">«part»</text><text fill=\"#000000\" font-family=\"sans-serif\" font-size=\"12\" lengthAdjust=\"spacingAndGlyphs\" textLength=\"25\" x=\"157.5\" y=\"71.1074\">q: Q</text><line style=\"stroke: #A80036; stroke-width: 1.5;\" x1=\"150\" x2=\"190\" y1=\"78.9375\" y2=\"78.9375\"/></a><!--MD5=[b9389687b975829384b498ac4b7476b2]\n",
       "class E8--><a href=\"psysml:d9c8c4c9-730a-472e-ad5c-9ed2548fca6c\" target=\"_top\" title=\"psysml:d9c8c4c9-730a-472e-ad5c-9ed2548fca6c\" xlink:actuate=\"onRequest\" xlink:href=\"psysml:d9c8c4c9-730a-472e-ad5c-9ed2548fca6c\" xlink:show=\"new\" xlink:title=\"psysml:d9c8c4c9-730a-472e-ad5c-9ed2548fca6c\" xlink:type=\"simple\"><rect fill=\"#FEFECE\" filter=\"url(#f1vrnvtf7ggmgm)\" height=\"59.9063\" id=\"E8\" rx=\"10\" ry=\"10\" style=\"stroke: #A80036; stroke-width: 1.5;\" width=\"70\" x=\"32\" y=\"148\"/><text fill=\"#000000\" font-family=\"sans-serif\" font-size=\"12\" font-style=\"italic\" lengthAdjust=\"spacingAndGlyphs\" textLength=\"68\" x=\"33\" y=\"164.1387\">«variation»</text><text fill=\"#000000\" font-family=\"sans-serif\" font-size=\"12\" font-style=\"italic\" lengthAdjust=\"spacingAndGlyphs\" textLength=\"40\" x=\"47\" y=\"178.1074\">«part»</text><text fill=\"#000000\" font-family=\"sans-serif\" font-size=\"12\" lengthAdjust=\"spacingAndGlyphs\" textLength=\"22\" x=\"56\" y=\"192.0762\">v: P</text><line style=\"stroke: #A80036; stroke-width: 1.5;\" x1=\"33\" x2=\"101\" y1=\"199.9063\" y2=\"199.9063\"/></a><!--MD5=[fd4143e9d270a159db93a4ea2a975926]\n",
       "class E9--><a href=\"psysml:29b56154-ee98-4bdd-852f-875051132018\" target=\"_top\" title=\"psysml:29b56154-ee98-4bdd-852f-875051132018\" xlink:actuate=\"onRequest\" xlink:href=\"psysml:29b56154-ee98-4bdd-852f-875051132018\" xlink:show=\"new\" xlink:title=\"psysml:29b56154-ee98-4bdd-852f-875051132018\" xlink:type=\"simple\"><rect fill=\"#FEFECE\" filter=\"url(#f1vrnvtf7ggmgm)\" height=\"59.6875\" id=\"E9\" rx=\"10\" ry=\"10\" style=\"stroke: #A80036; stroke-width: 1.5;\" width=\"78\" x=\"32\" y=\"285\"/><text fill=\"#000000\" font-family=\"sans-serif\" font-size=\"12\" font-style=\"italic\" lengthAdjust=\"spacingAndGlyphs\" textLength=\"75\" x=\"33.5\" y=\"301.1387\">«reference»</text><text fill=\"#000000\" font-family=\"sans-serif\" font-size=\"12\" lengthAdjust=\"spacingAndGlyphs\" textLength=\"8\" x=\"67\" y=\"315.1074\">q</text><line style=\"stroke: #A80036; stroke-width: 1.5;\" x1=\"33\" x2=\"109\" y1=\"322.9375\" y2=\"322.9375\"/><path d=\"M39.9167,327.8542 L39.9167,337.0208 L40.8333,337.0208 L40.8333,327.8542 M43.5833,327.8542 L43.5833,337.0208 L50.9167,332.4375 L43.5833,327.8542 L44.5,329.2292 L49.5417,332.4375 L44.5,335.6458 L44.5,329.2292 \" fill=\"#000000\" style=\"stroke: ; stroke-width: 0.0; stroke-dasharray: ;\"/><text fill=\"#000000\" font-family=\"sans-serif\" font-size=\"11\" lengthAdjust=\"spacingAndGlyphs\" textLength=\"23\" x=\"55\" y=\"338.0933\">b: B</text><text fill=\"#000000\" font-family=\"sans-serif\" font-size=\"11\" lengthAdjust=\"spacingAndGlyphs\" text-decoration=\"line-through\" textLength=\"22\" x=\"82\" y=\"338.0933\">P::a</text></a><!--MD5=[96f4274e9e20536e775497830990834d]\n",
       "class E10--><a href=\"psysml:e49f0805-0747-4902-8d4f-55ae479a1338\" target=\"_top\" title=\"psysml:e49f0805-0747-4902-8d4f-55ae479a1338\" xlink:actuate=\"onRequest\" xlink:href=\"psysml:e49f0805-0747-4902-8d4f-55ae479a1338\" xlink:show=\"new\" xlink:title=\"psysml:e49f0805-0747-4902-8d4f-55ae479a1338\" xlink:type=\"simple\"><rect fill=\"#FEFECE\" filter=\"url(#f1vrnvtf7ggmgm)\" height=\"45.9375\" id=\"E10\" rx=\"10\" ry=\"10\" style=\"stroke: #A80036; stroke-width: 1.5;\" width=\"42\" x=\"238\" y=\"155\"/><text fill=\"#000000\" font-family=\"sans-serif\" font-size=\"12\" font-style=\"italic\" lengthAdjust=\"spacingAndGlyphs\" textLength=\"40\" x=\"239\" y=\"171.1387\">«part»</text><text fill=\"#000000\" font-family=\"sans-serif\" font-size=\"12\" lengthAdjust=\"spacingAndGlyphs\" textLength=\"22\" x=\"248\" y=\"185.1074\">y: P</text><line style=\"stroke: #A80036; stroke-width: 1.5;\" x1=\"239\" x2=\"279\" y1=\"192.9375\" y2=\"192.9375\"/></a><!--MD5=[05d275557350bfb9b23a4ef7222b4c39]\n",
       "link E3 to E2--><a href=\"psysml:f79594a1-bc1c-4f37-98e7-b8999b5b3daa\" target=\"_top\" title=\"psysml:f79594a1-bc1c-4f37-98e7-b8999b5b3daa\" xlink:actuate=\"onRequest\" xlink:href=\"psysml:f79594a1-bc1c-4f37-98e7-b8999b5b3daa\" xlink:show=\"new\" xlink:title=\"psysml:f79594a1-bc1c-4f37-98e7-b8999b5b3daa\" xlink:type=\"simple\"><path d=\"M174.13,201.29 C177.34,218.66 181.93,243.41 185.98,265.3 \" fill=\"none\" id=\"E3-&gt;E2\" style=\"stroke: #A80036; stroke-width: 1.0;\"/><polygon fill=\"none\" points=\"192.88,264.14,189.64,285.08,179.12,266.68,192.88,264.14\" style=\"stroke: #A80036; stroke-width: 1.0;\"/></a><!--MD5=[15ebcb19ae302d9b601edb458606d402]\n",
       "link E5 to E2--><a href=\"psysml:e72a8b47-cfcf-460f-abbe-f19ffcddd547\" target=\"_top\" title=\"psysml:e72a8b47-cfcf-460f-abbe-f19ffcddd547\" xlink:actuate=\"onRequest\" xlink:href=\"psysml:e72a8b47-cfcf-460f-abbe-f19ffcddd547\" xlink:show=\"new\" xlink:title=\"psysml:e72a8b47-cfcf-460f-abbe-f19ffcddd547\" xlink:type=\"simple\"><path d=\"M322.74,201.29 C301.06,220.42 269.21,248.52 242.75,271.87 \" fill=\"none\" id=\"E5-&gt;E2\" style=\"stroke: #A80036; stroke-width: 1.0;\"/><polygon fill=\"none\" points=\"247.13,277.34,227.5,285.32,237.87,266.84,247.13,277.34\" style=\"stroke: #A80036; stroke-width: 1.0;\"/></a><!--MD5=[9120cf2e5df3bff93db8f754bbbc09b4]\n",
       "link E5 to E6--><a href=\"psysml:d1158e90-c200-41a0-bff8-4b2e6825fa74\" target=\"_top\" title=\"psysml:d1158e90-c200-41a0-bff8-4b2e6825fa74\" xlink:actuate=\"onRequest\" xlink:href=\"psysml:d1158e90-c200-41a0-bff8-4b2e6825fa74\" xlink:show=\"new\" xlink:title=\"psysml:d1158e90-c200-41a0-bff8-4b2e6825fa74\" xlink:type=\"simple\"><path d=\"M341.07,211.28 C336.97,230.34 331.76,254.6 327.43,274.76 \" fill=\"none\" id=\"E5-E6\" style=\"stroke: #A80036; stroke-width: 1.0;\"/><polygon fill=\"#A80036\" points=\"325.32,284.58,329.9339,277.3889,324.0679,276.1282,325.32,284.58\" style=\"stroke: #A80036; stroke-width: 1.0;\"/><path d=\"M334.2948,202.5225 A9,9 0 0 0 350.8317 206.0765\" fill=\"none\" style=\"stroke: #A80036; stroke-width: 1.5;\"/><text fill=\"#000000\" font-family=\"sans-serif\" font-size=\"13\" lengthAdjust=\"spacingAndGlyphs\" textLength=\"60\" x=\"336\" y=\"251.0669\">«variant»</text></a><!--MD5=[14ccda38c055a5c0da953d572bc50960]\n",
       "link E7 to E3--><a href=\"psysml:df5a11ab-14bd-474c-9e9f-2e0517640249\" target=\"_top\" title=\"psysml:df5a11ab-14bd-474c-9e9f-2e0517640249\" xlink:actuate=\"onRequest\" xlink:href=\"psysml:df5a11ab-14bd-474c-9e9f-2e0517640249\" xlink:show=\"new\" xlink:title=\"psysml:df5a11ab-14bd-474c-9e9f-2e0517640249\" xlink:type=\"simple\"><path d=\"M170,87.13 C170,100.7 170,118.53 170,134.73 \" fill=\"none\" id=\"E7-&gt;E3\" style=\"stroke: #A80036; stroke-width: 1.0;\"/><polygon fill=\"#FFFFFF\" points=\"170,154.92,163,135.92,177,135.92,170,154.92\" style=\"stroke: #A80036; stroke-width: 1.0;\"/><ellipse cx=\"165\" cy=\"130.22\" fill=\"#A80036\" rx=\"2\" ry=\"2\" style=\"stroke: #A80036; stroke-width: 1.0;\"/><ellipse cx=\"175\" cy=\"130.22\" fill=\"#A80036\" rx=\"2\" ry=\"2\" style=\"stroke: #A80036; stroke-width: 1.0;\"/></a><!--MD5=[f1f3f9f2fc535e6147756cb86a7f2e32]\n",
       "link E8 to E2--><a href=\"psysml:108d975b-2613-446e-8683-bfdaec0afedf\" target=\"_top\" title=\"psysml:108d975b-2613-446e-8683-bfdaec0afedf\" xlink:actuate=\"onRequest\" xlink:href=\"psysml:108d975b-2613-446e-8683-bfdaec0afedf\" xlink:show=\"new\" xlink:title=\"psysml:108d975b-2613-446e-8683-bfdaec0afedf\" xlink:type=\"simple\"><path d=\"M102.23,204.97 C114.45,214.72 127.87,226.28 139,238 C147.93,247.4 156.69,258.25 164.53,268.75 \" fill=\"none\" id=\"E8-&gt;E2\" style=\"stroke: #A80036; stroke-width: 1.0;\"/><polygon fill=\"#FFFFFF\" points=\"176.35,285.25,159.5896,273.8883,170.967,265.7302,176.35,285.25\" style=\"stroke: #A80036; stroke-width: 1.0;\"/><ellipse cx=\"157.8934\" cy=\"268.0907\" fill=\"#A80036\" rx=\"2\" ry=\"2\" style=\"stroke: #A80036; stroke-width: 1.0;\"/><ellipse cx=\"166.0201\" cy=\"262.2634\" fill=\"#A80036\" rx=\"2\" ry=\"2\" style=\"stroke: #A80036; stroke-width: 1.0;\"/></a><!--MD5=[ed10624c06dd9a4fa49ccf290e8b16a8]\n",
       "link E8 to E9--><a href=\"psysml:ebcdab70-773e-42b3-a4e9-8c7478e829d7\" target=\"_top\" title=\"psysml:ebcdab70-773e-42b3-a4e9-8c7478e829d7\" xlink:actuate=\"onRequest\" xlink:href=\"psysml:ebcdab70-773e-42b3-a4e9-8c7478e829d7\" xlink:show=\"new\" xlink:title=\"psysml:ebcdab70-773e-42b3-a4e9-8c7478e829d7\" xlink:type=\"simple\"><path d=\"M68.16,218.31 C68.69,236.06 69.31,256.98 69.84,274.73 \" fill=\"none\" id=\"E8-E9\" style=\"stroke: #A80036; stroke-width: 1.0;\"/><polygon fill=\"#A80036\" points=\"70.13,284.76,72.8888,276.6736,66.8915,276.8536,70.13,284.76\" style=\"stroke: #A80036; stroke-width: 1.0;\"/><path d=\"M59.509,211.6208 A9,9 0 0 0 76.4159 211.1128\" fill=\"none\" style=\"stroke: #A80036; stroke-width: 1.5;\"/><text fill=\"#000000\" font-family=\"sans-serif\" font-size=\"13\" lengthAdjust=\"spacingAndGlyphs\" textLength=\"60\" x=\"70\" y=\"251.0669\">«variant»</text></a><!--MD5=[0f36bececdf0dff6e600d6f64214b0f1]\n",
       "link E10 to E2--><a href=\"psysml:967d0111-ba43-4736-bbbb-a2fd42e2431e\" target=\"_top\" title=\"psysml:967d0111-ba43-4736-bbbb-a2fd42e2431e\" xlink:actuate=\"onRequest\" xlink:href=\"psysml:967d0111-ba43-4736-bbbb-a2fd42e2431e\" xlink:show=\"new\" xlink:title=\"psysml:967d0111-ba43-4736-bbbb-a2fd42e2431e\" xlink:type=\"simple\"><path d=\"M248.43,201.29 C239.99,219.11 227.86,244.69 217.29,266.99 \" fill=\"none\" id=\"E10-&gt;E2\" style=\"stroke: #A80036; stroke-width: 1.0;\"/><polygon fill=\"#FFFFFF\" points=\"208.71,285.08,210.5216,264.9127,223.1727,270.9085,208.71,285.08\" style=\"stroke: #A80036; stroke-width: 1.0;\"/><ellipse cx=\"214.77\" cy=\"260.6185\" fill=\"#A80036\" rx=\"2\" ry=\"2\" style=\"stroke: #A80036; stroke-width: 1.0;\"/><ellipse cx=\"223.8065\" cy=\"264.9012\" fill=\"#A80036\" rx=\"2\" ry=\"2\" style=\"stroke: #A80036; stroke-width: 1.0;\"/></a><!--MD5=[4cdcb9ba5a37015b47c88a822ff9a65d]\n",
       "@startuml\r\n",
       "skinparam wrapWidth 300\r\n",
       "hide circle\r\n",
       "\r\n",
       "package \"VariabilityTest\" as E1  [[psysml:6fd2d067-8ada-4ea8-9732-021f5438b424 ]]  {\r\n",
       "comp def \"P\" as E2  <<(T,blue) part def>> [[psysml:06c5c105-f179-4f9c-9acd-25394b323f4d ]] {\r\n",
       "a\r\n",
       "}\r\n",
       "comp def \"Q\" as E3  <<(T,blue) part def>> [[psysml:dc55669e-d547-41b4-94bf-d6c68c80b885 ]] {\r\n",
       "}\r\n",
       "comp def \"B\" as E4  <<(T,blue) attribute def>> [[psysml:18777e48-4bd6-4ac5-98df-f6aab0b7358e ]] {\r\n",
       "}\r\n",
       "comp def \"V\" as E5  <<(T,blue) part def>> [[psysml:b19cdb52-b52e-4af3-afe9-4ea29743154a ]] {\r\n",
       "}\r\n",
       "comp usage \"x: Q\" as E6  <<(T,blue) part>> [[psysml:a2bd922e-3e40-42bd-80e3-ecb5a548758e ]] {\r\n",
       "<&bar-trig> b: B <s>P::a</s>\r\n",
       "}\r\n",
       "comp usage \"q: Q\" as E7  <<(T,blue) part>> [[psysml:84f1cc81-1e5a-4a4b-9822-237c593dc1ed ]] {\r\n",
       "}\r\n",
       "comp usage \"v: P\" as E8  <<variation>>\\n <<(T,blue) part>> [[psysml:d9c8c4c9-730a-472e-ad5c-9ed2548fca6c ]] {\r\n",
       "}\r\n",
       "comp usage \"q\" as E9  <<(T,blue) reference>> [[psysml:29b56154-ee98-4bdd-852f-875051132018 ]] {\r\n",
       "<&bar-trig> b: B <s>P::a</s>\r\n",
       "}\r\n",
       "comp usage \"y: P\" as E10  <<(T,blue) part>> [[psysml:e49f0805-0747-4902-8d4f-55ae479a1338 ]] {\r\n",
       "}\r\n",
       "}\r\n",
       "E3 - -|> E2 [[psysml:f79594a1-bc1c-4f37-98e7-b8999b5b3daa ]] \r\n",
       "E5 - -|> E2 [[psysml:e72a8b47-cfcf-460f-abbe-f19ffcddd547 ]] \r\n",
       "E5 )- ->> E6 [[psysml:d1158e90-c200-41a0-bff8-4b2e6825fa74 ]] : <<variant>>\r\n",
       "E7 - -:|> E3 [[psysml:df5a11ab-14bd-474c-9e9f-2e0517640249 ]] \r\n",
       "E8 - -:|> E2 [[psysml:108d975b-2613-446e-8683-bfdaec0afedf ]] \r\n",
       "E8 )- ->> E9 [[psysml:ebcdab70-773e-42b3-a4e9-8c7478e829d7 ]] : <<variant>>\r\n",
       "E10 - -:|> E2 [[psysml:967d0111-ba43-4736-bbbb-a2fd42e2431e ]] \r\n",
       "@enduml\r\n",
       "\n",
       "PlantUML version 1.2020.13(Sat Jun 13 12:26:38 UTC 2020)\n",
       "(EPL source distribution)\n",
       "Java Runtime: OpenJDK Runtime Environment\n",
       "JVM: OpenJDK 64-Bit Server VM\n",
       "Default Encoding: UTF-8\n",
       "Language: en\n",
       "Country: null\n",
       "--></g></svg>"
      ]
     },
     "execution_count": 29,
     "metadata": {},
     "output_type": "execute_result"
    }
   ],
   "source": [
    "%viz --style=\"STDCOLOR\" --view=\"MIXED\" \"VariabilityTest\""
   ]
  },
  {
   "cell_type": "code",
   "execution_count": 30,
   "id": "2b26dd82",
   "metadata": {
    "execution": {
     "iopub.execute_input": "2021-10-03T08:28:16.655507Z",
     "iopub.status.busy": "2021-10-03T08:28:16.655107Z",
     "iopub.status.idle": "2021-10-03T08:28:16.736715Z",
     "shell.execute_reply": "2021-10-03T08:28:16.734671Z"
    }
   },
   "outputs": [
    {
     "data": {
      "image/svg+xml": [
       "<?xml version=\"1.0\" encoding=\"UTF-8\" standalone=\"no\"?><svg xmlns=\"http://www.w3.org/2000/svg\" xmlns:xlink=\"http://www.w3.org/1999/xlink\" contentScriptType=\"application/ecmascript\" contentStyleType=\"text/css\" height=\"385px\" preserveAspectRatio=\"none\" style=\"width:421px;height:385px;\" version=\"1.1\" viewBox=\"0 0 421 385\" width=\"421px\" zoomAndPan=\"magnify\"><defs><filter height=\"300%\" id=\"f1829ed4j6fzkp\" width=\"300%\" x=\"-1\" y=\"-1\"><feGaussianBlur result=\"blurOut\" stdDeviation=\"2.0\"/><feColorMatrix in=\"blurOut\" result=\"blurOut2\" type=\"matrix\" values=\"0 0 0 0 0 0 0 0 0 0 0 0 0 0 0 0 0 0 .4 0\"/><feOffset dx=\"4.0\" dy=\"4.0\" in=\"blurOut2\" result=\"blurOut3\"/><feBlend in=\"SourceGraphic\" in2=\"blurOut3\" mode=\"normal\"/></filter></defs><g><!--MD5=[fbc87193dbaf4d95561dea2c320d4a47]\n",
       "cluster E1--><a href=\"psysml:6fd2d067-8ada-4ea8-9732-021f5438b424\" target=\"_top\" title=\"psysml:6fd2d067-8ada-4ea8-9732-021f5438b424\" xlink:actuate=\"onRequest\" xlink:href=\"psysml:6fd2d067-8ada-4ea8-9732-021f5438b424\" xlink:show=\"new\" xlink:title=\"psysml:6fd2d067-8ada-4ea8-9732-021f5438b424\" xlink:type=\"simple\"><polygon fill=\"#FFFFFF\" filter=\"url(#f1829ed4j6fzkp)\" points=\"16,6,116,6,123,28.2969,399,28.2969,399,373,16,373,16,6\" style=\"stroke: #000000; stroke-width: 1.5;\"/><line style=\"stroke: #000000; stroke-width: 1.5;\" x1=\"16\" x2=\"123\" y1=\"28.2969\" y2=\"28.2969\"/><text fill=\"#000000\" font-family=\"sans-serif\" font-size=\"14\" font-weight=\"bold\" lengthAdjust=\"spacingAndGlyphs\" textLength=\"94\" x=\"20\" y=\"20.9951\">VariabilityTest</text></a><!--MD5=[b4997ac47864f28c2f74865a473b2911]\n",
       "class E2--><a href=\"psysml:06c5c105-f179-4f9c-9acd-25394b323f4d\" target=\"_top\" title=\"psysml:06c5c105-f179-4f9c-9acd-25394b323f4d\" xlink:actuate=\"onRequest\" xlink:href=\"psysml:06c5c105-f179-4f9c-9acd-25394b323f4d\" xlink:show=\"new\" xlink:title=\"psysml:06c5c105-f179-4f9c-9acd-25394b323f4d\" xlink:type=\"simple\"><rect fill=\"#FEFECE\" filter=\"url(#f1829ed4j6fzkp)\" height=\"52.8047\" id=\"E2\" style=\"stroke: #A80036; stroke-width: 1.5;\" width=\"40\" x=\"192\" y=\"294.5\"/><ellipse cx=\"207\" cy=\"310.5\" fill=\"#008000\" rx=\"11\" ry=\"11\" style=\"stroke: #A80036; stroke-width: 1.0;\"/><path d=\"M203.875,315.5 L203.875,304.9063 L207.1094,304.9063 Q209.0156,304.9063 209.9219,305.6563 Q210.8438,306.4063 210.8438,307.5781 Q210.8438,308.2656 210.4531,308.9219 Q210.0781,309.5781 209.3594,309.875 Q210.2188,310.25 210.7344,310.9375 Q211.25,311.625 211.25,312.4375 Q211.25,313.8125 210.2188,314.6563 Q209.2031,315.5 207.0938,315.5 L203.875,315.5 Z M205.7969,309.1406 L206.9531,309.1406 Q208.0781,309.1406 208.4844,308.7656 Q208.9063,308.375 208.9063,307.75 Q208.9063,307.1719 208.4844,306.8125 Q208.0625,306.4531 207.125,306.4531 L205.7969,306.4531 L205.7969,309.1406 Z M205.7969,313.9219 L207.2969,313.9219 Q208.2031,313.9219 208.7344,313.5313 Q209.2656,313.1406 209.2656,312.3906 Q209.2656,311.625 208.7656,311.1563 Q208.2656,310.6719 207,310.6719 L205.7969,310.6719 L205.7969,313.9219 Z \"/><text fill=\"#000000\" font-family=\"sans-serif\" font-size=\"12\" lengthAdjust=\"spacingAndGlyphs\" textLength=\"8\" x=\"221\" y=\"314.6543\">P</text><line style=\"stroke: #A80036; stroke-width: 1.5;\" x1=\"193\" x2=\"231\" y1=\"326.5\" y2=\"326.5\"/><text fill=\"#000000\" font-family=\"sans-serif\" font-size=\"11\" lengthAdjust=\"spacingAndGlyphs\" textLength=\"7\" x=\"198\" y=\"340.7104\">a</text></a><!--MD5=[09b614a08d8cba4a07c9adeb5e0fee81]\n",
       "class E3--><a href=\"psysml:dc55669e-d547-41b4-94bf-d6c68c80b885\" target=\"_top\" title=\"psysml:dc55669e-d547-41b4-94bf-d6c68c80b885\" xlink:actuate=\"onRequest\" xlink:href=\"psysml:dc55669e-d547-41b4-94bf-d6c68c80b885\" xlink:show=\"new\" xlink:title=\"psysml:dc55669e-d547-41b4-94bf-d6c68c80b885\" xlink:type=\"simple\"><rect fill=\"#FEFECE\" filter=\"url(#f1829ed4j6fzkp)\" height=\"40\" id=\"E3\" style=\"stroke: #A80036; stroke-width: 1.5;\" width=\"41\" x=\"163.5\" y=\"158\"/><ellipse cx=\"178.5\" cy=\"174\" fill=\"#008000\" rx=\"11\" ry=\"11\" style=\"stroke: #A80036; stroke-width: 1.0;\"/><path d=\"M175.375,179 L175.375,168.4063 L178.6094,168.4063 Q180.5156,168.4063 181.4219,169.1563 Q182.3438,169.9063 182.3438,171.0781 Q182.3438,171.7656 181.9531,172.4219 Q181.5781,173.0781 180.8594,173.375 Q181.7188,173.75 182.2344,174.4375 Q182.75,175.125 182.75,175.9375 Q182.75,177.3125 181.7188,178.1563 Q180.7031,179 178.5938,179 L175.375,179 Z M177.2969,172.6406 L178.4531,172.6406 Q179.5781,172.6406 179.9844,172.2656 Q180.4063,171.875 180.4063,171.25 Q180.4063,170.6719 179.9844,170.3125 Q179.5625,169.9531 178.625,169.9531 L177.2969,169.9531 L177.2969,172.6406 Z M177.2969,177.4219 L178.7969,177.4219 Q179.7031,177.4219 180.2344,177.0313 Q180.7656,176.6406 180.7656,175.8906 Q180.7656,175.125 180.2656,174.6563 Q179.7656,174.1719 178.5,174.1719 L177.2969,174.1719 L177.2969,177.4219 Z \"/><text fill=\"#000000\" font-family=\"sans-serif\" font-size=\"12\" lengthAdjust=\"spacingAndGlyphs\" textLength=\"9\" x=\"192.5\" y=\"178.1543\">Q</text><line style=\"stroke: #A80036; stroke-width: 1.5;\" x1=\"164.5\" x2=\"203.5\" y1=\"190\" y2=\"190\"/></a><!--MD5=[ebbe1d658d1005bcc118a6aa81145e00]\n",
       "class E4--><a href=\"psysml:18777e48-4bd6-4ac5-98df-f6aab0b7358e\" target=\"_top\" title=\"psysml:18777e48-4bd6-4ac5-98df-f6aab0b7358e\" xlink:actuate=\"onRequest\" xlink:href=\"psysml:18777e48-4bd6-4ac5-98df-f6aab0b7358e\" xlink:show=\"new\" xlink:title=\"psysml:18777e48-4bd6-4ac5-98df-f6aab0b7358e\" xlink:type=\"simple\"><rect fill=\"#FEFECE\" filter=\"url(#f1829ed4j6fzkp)\" height=\"45.9375\" id=\"E4\" style=\"stroke: #A80036; stroke-width: 1.5;\" width=\"121\" x=\"257.5\" y=\"41\"/><ellipse cx=\"272.5\" cy=\"59.9688\" fill=\"#A52A2A\" rx=\"11\" ry=\"11\" style=\"stroke: #A80036; stroke-width: 1.0;\"/><path d=\"M269.7188,64.9688 L269.7188,54.375 L272.4531,54.375 Q273.8438,54.375 274.6094,54.7656 Q275.3906,55.1406 275.9219,55.8438 Q276.4531,56.5469 276.75,57.5469 Q277.0469,58.5313 277.0469,59.75 Q277,61.3438 276.5,62.5313 Q276.0156,63.7031 274.9688,64.3438 Q273.9375,64.9688 272.25,64.9688 L269.7188,64.9688 Z M271.5781,63.4688 L272.2031,63.4688 Q273.2813,63.4688 273.9375,63.0156 Q274.5938,62.5625 274.875,61.7344 Q275.1719,60.8906 275.1563,59.7656 Q275.1563,58.5938 274.9063,57.7344 Q274.6563,56.8594 274.0469,56.3906 Q273.4375,55.9063 272.3906,55.9063 L271.5781,55.9063 L271.5781,63.4688 Z \"/><text fill=\"#000000\" font-family=\"sans-serif\" font-size=\"12\" font-style=\"italic\" lengthAdjust=\"spacingAndGlyphs\" textLength=\"93\" x=\"284.5\" y=\"57.1387\">«attribute def»</text><text fill=\"#000000\" font-family=\"sans-serif\" font-size=\"12\" lengthAdjust=\"spacingAndGlyphs\" textLength=\"8\" x=\"327\" y=\"71.1074\">B</text><line style=\"stroke: #A80036; stroke-width: 1.5;\" x1=\"258.5\" x2=\"377.5\" y1=\"78.9375\" y2=\"78.9375\"/></a><!--MD5=[270fce915f116d4de14055a7c1d9a0f3]\n",
       "class E5--><a href=\"psysml:b19cdb52-b52e-4af3-afe9-4ea29743154a\" target=\"_top\" title=\"psysml:b19cdb52-b52e-4af3-afe9-4ea29743154a\" xlink:actuate=\"onRequest\" xlink:href=\"psysml:b19cdb52-b52e-4af3-afe9-4ea29743154a\" xlink:show=\"new\" xlink:title=\"psysml:b19cdb52-b52e-4af3-afe9-4ea29743154a\" xlink:type=\"simple\"><rect fill=\"#FEFECE\" filter=\"url(#f1829ed4j6fzkp)\" height=\"40\" id=\"E5\" style=\"stroke: #A80036; stroke-width: 1.5;\" width=\"40\" x=\"343\" y=\"158\"/><ellipse cx=\"358\" cy=\"174\" fill=\"#008000\" rx=\"11\" ry=\"11\" style=\"stroke: #A80036; stroke-width: 1.0;\"/><path d=\"M354.875,179 L354.875,168.4063 L358.1094,168.4063 Q360.0156,168.4063 360.9219,169.1563 Q361.8438,169.9063 361.8438,171.0781 Q361.8438,171.7656 361.4531,172.4219 Q361.0781,173.0781 360.3594,173.375 Q361.2188,173.75 361.7344,174.4375 Q362.25,175.125 362.25,175.9375 Q362.25,177.3125 361.2188,178.1563 Q360.2031,179 358.0938,179 L354.875,179 Z M356.7969,172.6406 L357.9531,172.6406 Q359.0781,172.6406 359.4844,172.2656 Q359.9063,171.875 359.9063,171.25 Q359.9063,170.6719 359.4844,170.3125 Q359.0625,169.9531 358.125,169.9531 L356.7969,169.9531 L356.7969,172.6406 Z M356.7969,177.4219 L358.2969,177.4219 Q359.2031,177.4219 359.7344,177.0313 Q360.2656,176.6406 360.2656,175.8906 Q360.2656,175.125 359.7656,174.6563 Q359.2656,174.1719 358,174.1719 L356.7969,174.1719 L356.7969,177.4219 Z \"/><text fill=\"#000000\" font-family=\"sans-serif\" font-size=\"12\" lengthAdjust=\"spacingAndGlyphs\" textLength=\"8\" x=\"372\" y=\"178.1543\">V</text><line style=\"stroke: #A80036; stroke-width: 1.5;\" x1=\"344\" x2=\"382\" y1=\"190\" y2=\"190\"/></a><!--MD5=[60a26617385b1d2d0262a64233df1f8d]\n",
       "class E6--><a href=\"psysml:a2bd922e-3e40-42bd-80e3-ecb5a548758e\" target=\"_top\" title=\"psysml:a2bd922e-3e40-42bd-80e3-ecb5a548758e\" xlink:actuate=\"onRequest\" xlink:href=\"psysml:a2bd922e-3e40-42bd-80e3-ecb5a548758e\" xlink:show=\"new\" xlink:title=\"psysml:a2bd922e-3e40-42bd-80e3-ecb5a548758e\" xlink:type=\"simple\"><rect fill=\"#FEFECE\" filter=\"url(#f1829ed4j6fzkp)\" height=\"71.5469\" id=\"E6\" rx=\"10\" ry=\"10\" style=\"stroke: #A80036; stroke-width: 1.5;\" width=\"68\" x=\"287\" y=\"285\"/><ellipse cx=\"302\" cy=\"303.9688\" fill=\"#32CD32\" rx=\"11\" ry=\"11\" style=\"stroke: #A80036; stroke-width: 1.0;\"/><path d=\"M298.8125,308.9688 L298.8125,298.375 L302.4219,298.375 Q303.6406,298.375 304.4375,298.8125 Q305.2344,299.2344 305.6094,299.9375 Q306,300.6406 306,301.4844 Q306,302.3281 305.625,303.0156 Q305.2656,303.7031 304.4688,304.125 Q303.6875,304.5313 302.5,304.5313 L300.7656,304.5313 L300.7656,308.9688 L298.8125,308.9688 Z M300.7656,302.9375 L302.375,302.9375 Q303.1875,302.9375 303.6094,302.5313 Q304.0313,302.125 304.0313,301.4844 Q304.0313,300.8594 303.6094,300.4531 Q303.1875,300.0469 302.3906,300.0469 L300.7656,300.0469 L300.7656,302.9375 Z \"/><text fill=\"#000000\" font-family=\"sans-serif\" font-size=\"12\" font-style=\"italic\" lengthAdjust=\"spacingAndGlyphs\" textLength=\"40\" x=\"314\" y=\"301.1387\">«part»</text><text fill=\"#000000\" font-family=\"sans-serif\" font-size=\"12\" lengthAdjust=\"spacingAndGlyphs\" textLength=\"23\" x=\"322.5\" y=\"315.1074\">x: Q</text><line style=\"stroke: #A80036; stroke-width: 1.5;\" x1=\"288\" x2=\"354\" y1=\"322.9375\" y2=\"322.9375\"/><text fill=\"#000000\" font-family=\"sans-serif\" font-size=\"11\" lengthAdjust=\"spacingAndGlyphs\" textLength=\"23\" x=\"293\" y=\"337.1479\">b: B</text><text fill=\"#000000\" font-family=\"sans-serif\" font-size=\"11\" font-style=\"italic\" lengthAdjust=\"spacingAndGlyphs\" textLength=\"44\" x=\"293\" y=\"349.9526\">:&gt;&gt;P::a</text></a><!--MD5=[2156ba9850f5573cc1fc38a6a4b2f02b]\n",
       "class E7--><a href=\"psysml:84f1cc81-1e5a-4a4b-9822-237c593dc1ed\" target=\"_top\" title=\"psysml:84f1cc81-1e5a-4a4b-9822-237c593dc1ed\" xlink:actuate=\"onRequest\" xlink:href=\"psysml:84f1cc81-1e5a-4a4b-9822-237c593dc1ed\" xlink:show=\"new\" xlink:title=\"psysml:84f1cc81-1e5a-4a4b-9822-237c593dc1ed\" xlink:type=\"simple\"><rect fill=\"#FEFECE\" filter=\"url(#f1829ed4j6fzkp)\" height=\"45.9375\" id=\"E7\" rx=\"10\" ry=\"10\" style=\"stroke: #A80036; stroke-width: 1.5;\" width=\"68\" x=\"150\" y=\"41\"/><ellipse cx=\"165\" cy=\"59.9688\" fill=\"#32CD32\" rx=\"11\" ry=\"11\" style=\"stroke: #A80036; stroke-width: 1.0;\"/><path d=\"M161.8125,64.9688 L161.8125,54.375 L165.4219,54.375 Q166.6406,54.375 167.4375,54.8125 Q168.2344,55.2344 168.6094,55.9375 Q169,56.6406 169,57.4844 Q169,58.3281 168.625,59.0156 Q168.2656,59.7031 167.4688,60.125 Q166.6875,60.5313 165.5,60.5313 L163.7656,60.5313 L163.7656,64.9688 L161.8125,64.9688 Z M163.7656,58.9375 L165.375,58.9375 Q166.1875,58.9375 166.6094,58.5313 Q167.0313,58.125 167.0313,57.4844 Q167.0313,56.8594 166.6094,56.4531 Q166.1875,56.0469 165.3906,56.0469 L163.7656,56.0469 L163.7656,58.9375 Z \"/><text fill=\"#000000\" font-family=\"sans-serif\" font-size=\"12\" font-style=\"italic\" lengthAdjust=\"spacingAndGlyphs\" textLength=\"40\" x=\"177\" y=\"57.1387\">«part»</text><text fill=\"#000000\" font-family=\"sans-serif\" font-size=\"12\" lengthAdjust=\"spacingAndGlyphs\" textLength=\"25\" x=\"184.5\" y=\"71.1074\">q: Q</text><line style=\"stroke: #A80036; stroke-width: 1.5;\" x1=\"151\" x2=\"217\" y1=\"78.9375\" y2=\"78.9375\"/></a><!--MD5=[b9389687b975829384b498ac4b7476b2]\n",
       "class E8--><a href=\"psysml:d9c8c4c9-730a-472e-ad5c-9ed2548fca6c\" target=\"_top\" title=\"psysml:d9c8c4c9-730a-472e-ad5c-9ed2548fca6c\" xlink:actuate=\"onRequest\" xlink:href=\"psysml:d9c8c4c9-730a-472e-ad5c-9ed2548fca6c\" xlink:show=\"new\" xlink:title=\"psysml:d9c8c4c9-730a-472e-ad5c-9ed2548fca6c\" xlink:type=\"simple\"><rect fill=\"#FEFECE\" filter=\"url(#f1829ed4j6fzkp)\" height=\"59.9063\" id=\"E8\" rx=\"10\" ry=\"10\" style=\"stroke: #A80036; stroke-width: 1.5;\" width=\"96\" x=\"32\" y=\"148\"/><ellipse cx=\"47\" cy=\"173.9531\" fill=\"#32CD32\" rx=\"11\" ry=\"11\" style=\"stroke: #A80036; stroke-width: 1.0;\"/><path d=\"M43.8125,178.9531 L43.8125,168.3594 L47.4219,168.3594 Q48.6406,168.3594 49.4375,168.7969 Q50.2344,169.2188 50.6094,169.9219 Q51,170.625 51,171.4688 Q51,172.3125 50.625,173 Q50.2656,173.6875 49.4688,174.1094 Q48.6875,174.5156 47.5,174.5156 L45.7656,174.5156 L45.7656,178.9531 L43.8125,178.9531 Z M45.7656,172.9219 L47.375,172.9219 Q48.1875,172.9219 48.6094,172.5156 Q49.0313,172.1094 49.0313,171.4688 Q49.0313,170.8438 48.6094,170.4375 Q48.1875,170.0313 47.3906,170.0313 L45.7656,170.0313 L45.7656,172.9219 Z \"/><text fill=\"#000000\" font-family=\"sans-serif\" font-size=\"12\" font-style=\"italic\" lengthAdjust=\"spacingAndGlyphs\" textLength=\"68\" x=\"59\" y=\"164.1387\">«variation»</text><text fill=\"#000000\" font-family=\"sans-serif\" font-size=\"12\" font-style=\"italic\" lengthAdjust=\"spacingAndGlyphs\" textLength=\"40\" x=\"73\" y=\"178.1074\">«part»</text><text fill=\"#000000\" font-family=\"sans-serif\" font-size=\"12\" lengthAdjust=\"spacingAndGlyphs\" textLength=\"22\" x=\"82\" y=\"192.0762\">v: P</text><line style=\"stroke: #A80036; stroke-width: 1.5;\" x1=\"33\" x2=\"127\" y1=\"199.9063\" y2=\"199.9063\"/></a><!--MD5=[fd4143e9d270a159db93a4ea2a975926]\n",
       "class E9--><a href=\"psysml:29b56154-ee98-4bdd-852f-875051132018\" target=\"_top\" title=\"psysml:29b56154-ee98-4bdd-852f-875051132018\" xlink:actuate=\"onRequest\" xlink:href=\"psysml:29b56154-ee98-4bdd-852f-875051132018\" xlink:show=\"new\" xlink:title=\"psysml:29b56154-ee98-4bdd-852f-875051132018\" xlink:type=\"simple\"><rect fill=\"#FEFECE\" filter=\"url(#f1829ed4j6fzkp)\" height=\"71.5469\" id=\"E9\" rx=\"10\" ry=\"10\" style=\"stroke: #A80036; stroke-width: 1.5;\" width=\"103\" x=\"32.5\" y=\"285\"/><ellipse cx=\"47.5\" cy=\"303.9688\" fill=\"#FFA500\" rx=\"11\" ry=\"11\" style=\"stroke: #A80036; stroke-width: 1.0;\"/><path d=\"M47.25,309.4375 Q45.5,309.4375 44.5469,308.4063 Q43.6094,307.3594 43.6094,305.5156 L43.6094,298.625 L45.6719,298.625 L45.6719,298.7813 Q45.5781,298.875 45.5469,299.0156 Q45.5313,299.1406 45.5313,299.4063 L45.5313,305.5313 Q45.5313,306.625 45.9063,307.25 Q46.2813,307.875 47.2656,307.875 Q48.25,307.875 48.6406,307.25 Q49.0313,306.625 49.0313,305.4844 L49.0313,298.625 L50.9063,298.625 L50.9063,305.4688 Q50.9063,307.5 49.875,308.4688 Q48.8594,309.4375 47.25,309.4375 Z \"/><text fill=\"#000000\" font-family=\"sans-serif\" font-size=\"12\" font-style=\"italic\" lengthAdjust=\"spacingAndGlyphs\" textLength=\"75\" x=\"59.5\" y=\"301.1387\">«reference»</text><text fill=\"#000000\" font-family=\"sans-serif\" font-size=\"12\" lengthAdjust=\"spacingAndGlyphs\" textLength=\"8\" x=\"93\" y=\"315.1074\">q</text><line style=\"stroke: #A80036; stroke-width: 1.5;\" x1=\"33.5\" x2=\"134.5\" y1=\"322.9375\" y2=\"322.9375\"/><text fill=\"#000000\" font-family=\"sans-serif\" font-size=\"11\" lengthAdjust=\"spacingAndGlyphs\" textLength=\"23\" x=\"38.5\" y=\"337.1479\">b: B</text><text fill=\"#000000\" font-family=\"sans-serif\" font-size=\"11\" font-style=\"italic\" lengthAdjust=\"spacingAndGlyphs\" textLength=\"44\" x=\"38.5\" y=\"349.9526\">:&gt;&gt;P::a</text></a><!--MD5=[96f4274e9e20536e775497830990834d]\n",
       "class E10--><a href=\"psysml:e49f0805-0747-4902-8d4f-55ae479a1338\" target=\"_top\" title=\"psysml:e49f0805-0747-4902-8d4f-55ae479a1338\" xlink:actuate=\"onRequest\" xlink:href=\"psysml:e49f0805-0747-4902-8d4f-55ae479a1338\" xlink:show=\"new\" xlink:title=\"psysml:e49f0805-0747-4902-8d4f-55ae479a1338\" xlink:type=\"simple\"><rect fill=\"#FEFECE\" filter=\"url(#f1829ed4j6fzkp)\" height=\"45.9375\" id=\"E10\" rx=\"10\" ry=\"10\" style=\"stroke: #A80036; stroke-width: 1.5;\" width=\"68\" x=\"240\" y=\"155\"/><ellipse cx=\"255\" cy=\"173.9688\" fill=\"#32CD32\" rx=\"11\" ry=\"11\" style=\"stroke: #A80036; stroke-width: 1.0;\"/><path d=\"M251.8125,178.9688 L251.8125,168.375 L255.4219,168.375 Q256.6406,168.375 257.4375,168.8125 Q258.2344,169.2344 258.6094,169.9375 Q259,170.6406 259,171.4844 Q259,172.3281 258.625,173.0156 Q258.2656,173.7031 257.4688,174.125 Q256.6875,174.5313 255.5,174.5313 L253.7656,174.5313 L253.7656,178.9688 L251.8125,178.9688 Z M253.7656,172.9375 L255.375,172.9375 Q256.1875,172.9375 256.6094,172.5313 Q257.0313,172.125 257.0313,171.4844 Q257.0313,170.8594 256.6094,170.4531 Q256.1875,170.0469 255.3906,170.0469 L253.7656,170.0469 L253.7656,172.9375 Z \"/><text fill=\"#000000\" font-family=\"sans-serif\" font-size=\"12\" font-style=\"italic\" lengthAdjust=\"spacingAndGlyphs\" textLength=\"40\" x=\"267\" y=\"171.1387\">«part»</text><text fill=\"#000000\" font-family=\"sans-serif\" font-size=\"12\" lengthAdjust=\"spacingAndGlyphs\" textLength=\"22\" x=\"276\" y=\"185.1074\">y: P</text><line style=\"stroke: #A80036; stroke-width: 1.5;\" x1=\"241\" x2=\"307\" y1=\"192.9375\" y2=\"192.9375\"/></a><!--MD5=[05d275557350bfb9b23a4ef7222b4c39]\n",
       "link E3 to E2--><a href=\"psysml:f79594a1-bc1c-4f37-98e7-b8999b5b3daa\" target=\"_top\" title=\"psysml:f79594a1-bc1c-4f37-98e7-b8999b5b3daa\" xlink:actuate=\"onRequest\" xlink:href=\"psysml:f79594a1-bc1c-4f37-98e7-b8999b5b3daa\" xlink:show=\"new\" xlink:title=\"psysml:f79594a1-bc1c-4f37-98e7-b8999b5b3daa\" xlink:type=\"simple\"><path d=\"M187.78,198.02 C191.66,217.55 197.84,248.68 202.99,274.61 \" fill=\"none\" id=\"E3-&gt;E2\" style=\"stroke: #A80036; stroke-width: 1.0;\"/><polygon fill=\"none\" points=\"209.88,273.39,206.91,294.37,196.15,276.12,209.88,273.39\" style=\"stroke: #A80036; stroke-width: 1.0;\"/></a><!--MD5=[15ebcb19ae302d9b601edb458606d402]\n",
       "link E5 to E2--><a href=\"psysml:e72a8b47-cfcf-460f-abbe-f19ffcddd547\" target=\"_top\" title=\"psysml:e72a8b47-cfcf-460f-abbe-f19ffcddd547\" xlink:actuate=\"onRequest\" xlink:href=\"psysml:e72a8b47-cfcf-460f-abbe-f19ffcddd547\" xlink:show=\"new\" xlink:title=\"psysml:e72a8b47-cfcf-460f-abbe-f19ffcddd547\" xlink:type=\"simple\"><path d=\"M342.95,197.72 C318.47,220.58 276.65,259.63 246.86,287.45 \" fill=\"none\" id=\"E5-&gt;E2\" style=\"stroke: #A80036; stroke-width: 1.0;\"/><polygon fill=\"none\" points=\"251.53,292.67,232.13,301.2,241.98,282.43,251.53,292.67\" style=\"stroke: #A80036; stroke-width: 1.0;\"/></a><!--MD5=[9120cf2e5df3bff93db8f754bbbc09b4]\n",
       "link E5 to E6--><a href=\"psysml:d1158e90-c200-41a0-bff8-4b2e6825fa74\" target=\"_top\" title=\"psysml:d1158e90-c200-41a0-bff8-4b2e6825fa74\" xlink:actuate=\"onRequest\" xlink:href=\"psysml:d1158e90-c200-41a0-bff8-4b2e6825fa74\" xlink:show=\"new\" xlink:title=\"psysml:d1158e90-c200-41a0-bff8-4b2e6825fa74\" xlink:type=\"simple\"><path d=\"M354.4,207.89 C348.64,227.2 340.95,253.01 334.41,274.99 \" fill=\"none\" id=\"E5-E6\" style=\"stroke: #A80036; stroke-width: 1.0;\"/><polygon fill=\"#A80036\" points=\"331.49,284.79,336.6502,277.9802,330.9001,276.2664,331.49,284.79\" style=\"stroke: #A80036; stroke-width: 1.0;\"/><path d=\"M348.3559,198.5542 A9,9 0 0 0 364.5656 203.3857\" fill=\"none\" style=\"stroke: #A80036; stroke-width: 1.5;\"/><text fill=\"#000000\" font-family=\"sans-serif\" font-size=\"13\" lengthAdjust=\"spacingAndGlyphs\" textLength=\"60\" x=\"345\" y=\"251.0669\">«variant»</text></a><!--MD5=[14ccda38c055a5c0da953d572bc50960]\n",
       "link E7 to E3--><a href=\"psysml:df5a11ab-14bd-474c-9e9f-2e0517640249\" target=\"_top\" title=\"psysml:df5a11ab-14bd-474c-9e9f-2e0517640249\" xlink:actuate=\"onRequest\" xlink:href=\"psysml:df5a11ab-14bd-474c-9e9f-2e0517640249\" xlink:show=\"new\" xlink:title=\"psysml:df5a11ab-14bd-474c-9e9f-2e0517640249\" xlink:type=\"simple\"><path d=\"M184,87.13 C184,101.57 184,120.83 184,137.81 \" fill=\"none\" id=\"E7-&gt;E3\" style=\"stroke: #A80036; stroke-width: 1.0;\"/><polygon fill=\"#FFFFFF\" points=\"184,157.9,177,138.9,191,138.9,184,157.9\" style=\"stroke: #A80036; stroke-width: 1.0;\"/><ellipse cx=\"179\" cy=\"133.2\" fill=\"#A80036\" rx=\"2\" ry=\"2\" style=\"stroke: #A80036; stroke-width: 1.0;\"/><ellipse cx=\"189\" cy=\"133.2\" fill=\"#A80036\" rx=\"2\" ry=\"2\" style=\"stroke: #A80036; stroke-width: 1.0;\"/></a><!--MD5=[f1f3f9f2fc535e6147756cb86a7f2e32]\n",
       "link E8 to E2--><a href=\"psysml:108d975b-2613-446e-8683-bfdaec0afedf\" target=\"_top\" title=\"psysml:108d975b-2613-446e-8683-bfdaec0afedf\" xlink:actuate=\"onRequest\" xlink:href=\"psysml:108d975b-2613-446e-8683-bfdaec0afedf\" xlink:show=\"new\" xlink:title=\"psysml:108d975b-2613-446e-8683-bfdaec0afedf\" xlink:type=\"simple\"><path d=\"M119.32,208.23 C130.4,217.24 142.11,227.55 152,238 C163.47,250.11 174.65,264.47 184.19,277.75 \" fill=\"none\" id=\"E8-&gt;E2\" style=\"stroke: #A80036; stroke-width: 1.0;\"/><polygon fill=\"#FFFFFF\" points=\"195.68,294.32,179.1086,282.6843,190.6186,274.7143,195.68,294.32\" style=\"stroke: #A80036; stroke-width: 1.0;\"/><ellipse cx=\"177.508\" cy=\"276.8595\" fill=\"#A80036\" rx=\"2\" ry=\"2\" style=\"stroke: #A80036; stroke-width: 1.0;\"/><ellipse cx=\"185.7294\" cy=\"271.1667\" fill=\"#A80036\" rx=\"2\" ry=\"2\" style=\"stroke: #A80036; stroke-width: 1.0;\"/></a><!--MD5=[ed10624c06dd9a4fa49ccf290e8b16a8]\n",
       "link E8 to E9--><a href=\"psysml:ebcdab70-773e-42b3-a4e9-8c7478e829d7\" target=\"_top\" title=\"psysml:ebcdab70-773e-42b3-a4e9-8c7478e829d7\" xlink:actuate=\"onRequest\" xlink:href=\"psysml:ebcdab70-773e-42b3-a4e9-8c7478e829d7\" xlink:show=\"new\" xlink:title=\"psysml:ebcdab70-773e-42b3-a4e9-8c7478e829d7\" xlink:type=\"simple\"><path d=\"M81.12,218.35 C81.61,235.87 82.2,256.61 82.72,274.77 \" fill=\"none\" id=\"E8-E9\" style=\"stroke: #A80036; stroke-width: 1.0;\"/><polygon fill=\"#A80036\" points=\"83,284.83,85.7703,276.7476,79.7727,276.9189,83,284.83\" style=\"stroke: #A80036; stroke-width: 1.0;\"/><path d=\"M72.4641,211.5385 A9,9 0 0 0 89.3717 211.0554\" fill=\"none\" style=\"stroke: #A80036; stroke-width: 1.5;\"/><text fill=\"#000000\" font-family=\"sans-serif\" font-size=\"13\" lengthAdjust=\"spacingAndGlyphs\" textLength=\"60\" x=\"83\" y=\"251.0669\">«variant»</text></a><!--MD5=[0f36bececdf0dff6e600d6f64214b0f1]\n",
       "link E10 to E2--><a href=\"psysml:967d0111-ba43-4736-bbbb-a2fd42e2431e\" target=\"_top\" title=\"psysml:967d0111-ba43-4736-bbbb-a2fd42e2431e\" xlink:actuate=\"onRequest\" xlink:href=\"psysml:967d0111-ba43-4736-bbbb-a2fd42e2431e\" xlink:show=\"new\" xlink:title=\"psysml:967d0111-ba43-4736-bbbb-a2fd42e2431e\" xlink:type=\"simple\"><path d=\"M264.31,201.03 C255.55,220.95 242.39,250.89 231.46,275.74 \" fill=\"none\" id=\"E10-&gt;E2\" style=\"stroke: #A80036; stroke-width: 1.0;\"/><polygon fill=\"#FFFFFF\" points=\"223.3,294.3,224.5306,274.089,237.3489,279.7183,223.3,294.3\" style=\"stroke: #A80036; stroke-width: 1.0;\"/><ellipse cx=\"228.6537\" cy=\"269.6742\" fill=\"#A80036\" rx=\"2\" ry=\"2\" style=\"stroke: #A80036; stroke-width: 1.0;\"/><ellipse cx=\"237.8097\" cy=\"273.6952\" fill=\"#A80036\" rx=\"2\" ry=\"2\" style=\"stroke: #A80036; stroke-width: 1.0;\"/></a><!--MD5=[3e4f92760f69d8a04626c568cfe875f2]\n",
       "@startuml\r\n",
       " \r\n",
       "package \"VariabilityTest\" as E1  [[psysml:6fd2d067-8ada-4ea8-9732-021f5438b424 ]]  {\r\n",
       "comp def \"P\" as E2 << << (B,green) >> [[psysml:06c5c105-f179-4f9c-9acd-25394b323f4d ]] {\r\n",
       "a\r\n",
       "}\r\n",
       "comp def \"Q\" as E3 << << (B,green) >> [[psysml:dc55669e-d547-41b4-94bf-d6c68c80b885 ]] {\r\n",
       "}\r\n",
       "comp def \"B\" as E4 << <<(D,brown) attribute def>> [[psysml:18777e48-4bd6-4ac5-98df-f6aab0b7358e ]] {\r\n",
       "}\r\n",
       "comp def \"V\" as E5 << << (B,green) >> [[psysml:b19cdb52-b52e-4af3-afe9-4ea29743154a ]] {\r\n",
       "}\r\n",
       "comp usage \"x: Q\" as E6 << << (P,limegreen) part>> [[psysml:a2bd922e-3e40-42bd-80e3-ecb5a548758e ]] {\r\n",
       "b: B\\n//:>>P::a// \r\n",
       "}\r\n",
       "comp usage \"q: Q\" as E7 << << (P,limegreen) part>> [[psysml:84f1cc81-1e5a-4a4b-9822-237c593dc1ed ]] {\r\n",
       "}\r\n",
       "comp usage \"v: P\" as E8  <<variation>>\\n<< << (P,limegreen) part>> [[psysml:d9c8c4c9-730a-472e-ad5c-9ed2548fca6c ]] {\r\n",
       "}\r\n",
       "comp usage \"q\" as E9 << <<(U,orange) reference>> [[psysml:29b56154-ee98-4bdd-852f-875051132018 ]] {\r\n",
       "b: B\\n//:>>P::a// \r\n",
       "}\r\n",
       "comp usage \"y: P\" as E10 << << (P,limegreen) part>> [[psysml:e49f0805-0747-4902-8d4f-55ae479a1338 ]] {\r\n",
       "}\r\n",
       "}\r\n",
       "E3 - -|> E2 [[psysml:f79594a1-bc1c-4f37-98e7-b8999b5b3daa ]] \r\n",
       "E5 - -|> E2 [[psysml:e72a8b47-cfcf-460f-abbe-f19ffcddd547 ]] \r\n",
       "E5 )- ->> E6 [[psysml:d1158e90-c200-41a0-bff8-4b2e6825fa74 ]] : <<variant>>\r\n",
       "E7 - -:|> E3 [[psysml:df5a11ab-14bd-474c-9e9f-2e0517640249 ]] \r\n",
       "E8 - -:|> E2 [[psysml:108d975b-2613-446e-8683-bfdaec0afedf ]] \r\n",
       "E8 )- ->> E9 [[psysml:ebcdab70-773e-42b3-a4e9-8c7478e829d7 ]] : <<variant>>\r\n",
       "E10 - -:|> E2 [[psysml:967d0111-ba43-4736-bbbb-a2fd42e2431e ]] \r\n",
       "@enduml\r\n",
       "\n",
       "PlantUML version 1.2020.13(Sat Jun 13 12:26:38 UTC 2020)\n",
       "(EPL source distribution)\n",
       "Java Runtime: OpenJDK Runtime Environment\n",
       "JVM: OpenJDK 64-Bit Server VM\n",
       "Default Encoding: UTF-8\n",
       "Language: en\n",
       "Country: null\n",
       "--></g></svg>"
      ]
     },
     "execution_count": 30,
     "metadata": {},
     "output_type": "execute_result"
    }
   ],
   "source": [
    "%viz --style=\"PLANTUML\" --view=\"Default\" \"VariabilityTest\""
   ]
  },
  {
   "cell_type": "code",
   "execution_count": 31,
   "id": "3f0b084b",
   "metadata": {
    "execution": {
     "iopub.execute_input": "2021-10-03T08:28:16.785445Z",
     "iopub.status.busy": "2021-10-03T08:28:16.785027Z",
     "iopub.status.idle": "2021-10-03T08:28:16.843458Z",
     "shell.execute_reply": "2021-10-03T08:28:16.843082Z"
    }
   },
   "outputs": [
    {
     "data": {
      "image/svg+xml": [
       "<?xml version=\"1.0\" encoding=\"UTF-8\" standalone=\"no\"?><svg xmlns=\"http://www.w3.org/2000/svg\" xmlns:xlink=\"http://www.w3.org/1999/xlink\" contentScriptType=\"application/ecmascript\" contentStyleType=\"text/css\" height=\"385px\" preserveAspectRatio=\"none\" style=\"width:421px;height:385px;\" version=\"1.1\" viewBox=\"0 0 421 385\" width=\"421px\" zoomAndPan=\"magnify\"><defs><filter height=\"300%\" id=\"f1829ed4j6fzkp\" width=\"300%\" x=\"-1\" y=\"-1\"><feGaussianBlur result=\"blurOut\" stdDeviation=\"2.0\"/><feColorMatrix in=\"blurOut\" result=\"blurOut2\" type=\"matrix\" values=\"0 0 0 0 0 0 0 0 0 0 0 0 0 0 0 0 0 0 .4 0\"/><feOffset dx=\"4.0\" dy=\"4.0\" in=\"blurOut2\" result=\"blurOut3\"/><feBlend in=\"SourceGraphic\" in2=\"blurOut3\" mode=\"normal\"/></filter></defs><g><!--MD5=[fbc87193dbaf4d95561dea2c320d4a47]\n",
       "cluster E1--><a href=\"psysml:6fd2d067-8ada-4ea8-9732-021f5438b424\" target=\"_top\" title=\"psysml:6fd2d067-8ada-4ea8-9732-021f5438b424\" xlink:actuate=\"onRequest\" xlink:href=\"psysml:6fd2d067-8ada-4ea8-9732-021f5438b424\" xlink:show=\"new\" xlink:title=\"psysml:6fd2d067-8ada-4ea8-9732-021f5438b424\" xlink:type=\"simple\"><polygon fill=\"#FFFFFF\" filter=\"url(#f1829ed4j6fzkp)\" points=\"16,6,116,6,123,28.2969,399,28.2969,399,373,16,373,16,6\" style=\"stroke: #000000; stroke-width: 1.5;\"/><line style=\"stroke: #000000; stroke-width: 1.5;\" x1=\"16\" x2=\"123\" y1=\"28.2969\" y2=\"28.2969\"/><text fill=\"#000000\" font-family=\"sans-serif\" font-size=\"14\" font-weight=\"bold\" lengthAdjust=\"spacingAndGlyphs\" textLength=\"94\" x=\"20\" y=\"20.9951\">VariabilityTest</text></a><!--MD5=[b4997ac47864f28c2f74865a473b2911]\n",
       "class E2--><a href=\"psysml:06c5c105-f179-4f9c-9acd-25394b323f4d\" target=\"_top\" title=\"psysml:06c5c105-f179-4f9c-9acd-25394b323f4d\" xlink:actuate=\"onRequest\" xlink:href=\"psysml:06c5c105-f179-4f9c-9acd-25394b323f4d\" xlink:show=\"new\" xlink:title=\"psysml:06c5c105-f179-4f9c-9acd-25394b323f4d\" xlink:type=\"simple\"><rect fill=\"#FEFECE\" filter=\"url(#f1829ed4j6fzkp)\" height=\"52.8047\" id=\"E2\" style=\"stroke: #A80036; stroke-width: 1.5;\" width=\"40\" x=\"192\" y=\"294.5\"/><ellipse cx=\"207\" cy=\"310.5\" fill=\"#008000\" rx=\"11\" ry=\"11\" style=\"stroke: #A80036; stroke-width: 1.0;\"/><path d=\"M203.875,315.5 L203.875,304.9063 L207.1094,304.9063 Q209.0156,304.9063 209.9219,305.6563 Q210.8438,306.4063 210.8438,307.5781 Q210.8438,308.2656 210.4531,308.9219 Q210.0781,309.5781 209.3594,309.875 Q210.2188,310.25 210.7344,310.9375 Q211.25,311.625 211.25,312.4375 Q211.25,313.8125 210.2188,314.6563 Q209.2031,315.5 207.0938,315.5 L203.875,315.5 Z M205.7969,309.1406 L206.9531,309.1406 Q208.0781,309.1406 208.4844,308.7656 Q208.9063,308.375 208.9063,307.75 Q208.9063,307.1719 208.4844,306.8125 Q208.0625,306.4531 207.125,306.4531 L205.7969,306.4531 L205.7969,309.1406 Z M205.7969,313.9219 L207.2969,313.9219 Q208.2031,313.9219 208.7344,313.5313 Q209.2656,313.1406 209.2656,312.3906 Q209.2656,311.625 208.7656,311.1563 Q208.2656,310.6719 207,310.6719 L205.7969,310.6719 L205.7969,313.9219 Z \"/><text fill=\"#000000\" font-family=\"sans-serif\" font-size=\"12\" lengthAdjust=\"spacingAndGlyphs\" textLength=\"8\" x=\"221\" y=\"314.6543\">P</text><line style=\"stroke: #A80036; stroke-width: 1.5;\" x1=\"193\" x2=\"231\" y1=\"326.5\" y2=\"326.5\"/><text fill=\"#000000\" font-family=\"sans-serif\" font-size=\"11\" lengthAdjust=\"spacingAndGlyphs\" textLength=\"7\" x=\"198\" y=\"340.7104\">a</text></a><!--MD5=[09b614a08d8cba4a07c9adeb5e0fee81]\n",
       "class E3--><a href=\"psysml:dc55669e-d547-41b4-94bf-d6c68c80b885\" target=\"_top\" title=\"psysml:dc55669e-d547-41b4-94bf-d6c68c80b885\" xlink:actuate=\"onRequest\" xlink:href=\"psysml:dc55669e-d547-41b4-94bf-d6c68c80b885\" xlink:show=\"new\" xlink:title=\"psysml:dc55669e-d547-41b4-94bf-d6c68c80b885\" xlink:type=\"simple\"><rect fill=\"#FEFECE\" filter=\"url(#f1829ed4j6fzkp)\" height=\"40\" id=\"E3\" style=\"stroke: #A80036; stroke-width: 1.5;\" width=\"41\" x=\"163.5\" y=\"158\"/><ellipse cx=\"178.5\" cy=\"174\" fill=\"#008000\" rx=\"11\" ry=\"11\" style=\"stroke: #A80036; stroke-width: 1.0;\"/><path d=\"M175.375,179 L175.375,168.4063 L178.6094,168.4063 Q180.5156,168.4063 181.4219,169.1563 Q182.3438,169.9063 182.3438,171.0781 Q182.3438,171.7656 181.9531,172.4219 Q181.5781,173.0781 180.8594,173.375 Q181.7188,173.75 182.2344,174.4375 Q182.75,175.125 182.75,175.9375 Q182.75,177.3125 181.7188,178.1563 Q180.7031,179 178.5938,179 L175.375,179 Z M177.2969,172.6406 L178.4531,172.6406 Q179.5781,172.6406 179.9844,172.2656 Q180.4063,171.875 180.4063,171.25 Q180.4063,170.6719 179.9844,170.3125 Q179.5625,169.9531 178.625,169.9531 L177.2969,169.9531 L177.2969,172.6406 Z M177.2969,177.4219 L178.7969,177.4219 Q179.7031,177.4219 180.2344,177.0313 Q180.7656,176.6406 180.7656,175.8906 Q180.7656,175.125 180.2656,174.6563 Q179.7656,174.1719 178.5,174.1719 L177.2969,174.1719 L177.2969,177.4219 Z \"/><text fill=\"#000000\" font-family=\"sans-serif\" font-size=\"12\" lengthAdjust=\"spacingAndGlyphs\" textLength=\"9\" x=\"192.5\" y=\"178.1543\">Q</text><line style=\"stroke: #A80036; stroke-width: 1.5;\" x1=\"164.5\" x2=\"203.5\" y1=\"190\" y2=\"190\"/></a><!--MD5=[ebbe1d658d1005bcc118a6aa81145e00]\n",
       "class E4--><a href=\"psysml:18777e48-4bd6-4ac5-98df-f6aab0b7358e\" target=\"_top\" title=\"psysml:18777e48-4bd6-4ac5-98df-f6aab0b7358e\" xlink:actuate=\"onRequest\" xlink:href=\"psysml:18777e48-4bd6-4ac5-98df-f6aab0b7358e\" xlink:show=\"new\" xlink:title=\"psysml:18777e48-4bd6-4ac5-98df-f6aab0b7358e\" xlink:type=\"simple\"><rect fill=\"#FEFECE\" filter=\"url(#f1829ed4j6fzkp)\" height=\"45.9375\" id=\"E4\" style=\"stroke: #A80036; stroke-width: 1.5;\" width=\"121\" x=\"257.5\" y=\"41\"/><ellipse cx=\"272.5\" cy=\"59.9688\" fill=\"#A52A2A\" rx=\"11\" ry=\"11\" style=\"stroke: #A80036; stroke-width: 1.0;\"/><path d=\"M269.7188,64.9688 L269.7188,54.375 L272.4531,54.375 Q273.8438,54.375 274.6094,54.7656 Q275.3906,55.1406 275.9219,55.8438 Q276.4531,56.5469 276.75,57.5469 Q277.0469,58.5313 277.0469,59.75 Q277,61.3438 276.5,62.5313 Q276.0156,63.7031 274.9688,64.3438 Q273.9375,64.9688 272.25,64.9688 L269.7188,64.9688 Z M271.5781,63.4688 L272.2031,63.4688 Q273.2813,63.4688 273.9375,63.0156 Q274.5938,62.5625 274.875,61.7344 Q275.1719,60.8906 275.1563,59.7656 Q275.1563,58.5938 274.9063,57.7344 Q274.6563,56.8594 274.0469,56.3906 Q273.4375,55.9063 272.3906,55.9063 L271.5781,55.9063 L271.5781,63.4688 Z \"/><text fill=\"#000000\" font-family=\"sans-serif\" font-size=\"12\" font-style=\"italic\" lengthAdjust=\"spacingAndGlyphs\" textLength=\"93\" x=\"284.5\" y=\"57.1387\">«attribute def»</text><text fill=\"#000000\" font-family=\"sans-serif\" font-size=\"12\" lengthAdjust=\"spacingAndGlyphs\" textLength=\"8\" x=\"327\" y=\"71.1074\">B</text><line style=\"stroke: #A80036; stroke-width: 1.5;\" x1=\"258.5\" x2=\"377.5\" y1=\"78.9375\" y2=\"78.9375\"/></a><!--MD5=[270fce915f116d4de14055a7c1d9a0f3]\n",
       "class E5--><a href=\"psysml:b19cdb52-b52e-4af3-afe9-4ea29743154a\" target=\"_top\" title=\"psysml:b19cdb52-b52e-4af3-afe9-4ea29743154a\" xlink:actuate=\"onRequest\" xlink:href=\"psysml:b19cdb52-b52e-4af3-afe9-4ea29743154a\" xlink:show=\"new\" xlink:title=\"psysml:b19cdb52-b52e-4af3-afe9-4ea29743154a\" xlink:type=\"simple\"><rect fill=\"#FEFECE\" filter=\"url(#f1829ed4j6fzkp)\" height=\"40\" id=\"E5\" style=\"stroke: #A80036; stroke-width: 1.5;\" width=\"40\" x=\"343\" y=\"158\"/><ellipse cx=\"358\" cy=\"174\" fill=\"#008000\" rx=\"11\" ry=\"11\" style=\"stroke: #A80036; stroke-width: 1.0;\"/><path d=\"M354.875,179 L354.875,168.4063 L358.1094,168.4063 Q360.0156,168.4063 360.9219,169.1563 Q361.8438,169.9063 361.8438,171.0781 Q361.8438,171.7656 361.4531,172.4219 Q361.0781,173.0781 360.3594,173.375 Q361.2188,173.75 361.7344,174.4375 Q362.25,175.125 362.25,175.9375 Q362.25,177.3125 361.2188,178.1563 Q360.2031,179 358.0938,179 L354.875,179 Z M356.7969,172.6406 L357.9531,172.6406 Q359.0781,172.6406 359.4844,172.2656 Q359.9063,171.875 359.9063,171.25 Q359.9063,170.6719 359.4844,170.3125 Q359.0625,169.9531 358.125,169.9531 L356.7969,169.9531 L356.7969,172.6406 Z M356.7969,177.4219 L358.2969,177.4219 Q359.2031,177.4219 359.7344,177.0313 Q360.2656,176.6406 360.2656,175.8906 Q360.2656,175.125 359.7656,174.6563 Q359.2656,174.1719 358,174.1719 L356.7969,174.1719 L356.7969,177.4219 Z \"/><text fill=\"#000000\" font-family=\"sans-serif\" font-size=\"12\" lengthAdjust=\"spacingAndGlyphs\" textLength=\"8\" x=\"372\" y=\"178.1543\">V</text><line style=\"stroke: #A80036; stroke-width: 1.5;\" x1=\"344\" x2=\"382\" y1=\"190\" y2=\"190\"/></a><!--MD5=[60a26617385b1d2d0262a64233df1f8d]\n",
       "class E6--><a href=\"psysml:a2bd922e-3e40-42bd-80e3-ecb5a548758e\" target=\"_top\" title=\"psysml:a2bd922e-3e40-42bd-80e3-ecb5a548758e\" xlink:actuate=\"onRequest\" xlink:href=\"psysml:a2bd922e-3e40-42bd-80e3-ecb5a548758e\" xlink:show=\"new\" xlink:title=\"psysml:a2bd922e-3e40-42bd-80e3-ecb5a548758e\" xlink:type=\"simple\"><rect fill=\"#FEFECE\" filter=\"url(#f1829ed4j6fzkp)\" height=\"71.5469\" id=\"E6\" rx=\"10\" ry=\"10\" style=\"stroke: #A80036; stroke-width: 1.5;\" width=\"68\" x=\"287\" y=\"285\"/><ellipse cx=\"302\" cy=\"303.9688\" fill=\"#32CD32\" rx=\"11\" ry=\"11\" style=\"stroke: #A80036; stroke-width: 1.0;\"/><path d=\"M298.8125,308.9688 L298.8125,298.375 L302.4219,298.375 Q303.6406,298.375 304.4375,298.8125 Q305.2344,299.2344 305.6094,299.9375 Q306,300.6406 306,301.4844 Q306,302.3281 305.625,303.0156 Q305.2656,303.7031 304.4688,304.125 Q303.6875,304.5313 302.5,304.5313 L300.7656,304.5313 L300.7656,308.9688 L298.8125,308.9688 Z M300.7656,302.9375 L302.375,302.9375 Q303.1875,302.9375 303.6094,302.5313 Q304.0313,302.125 304.0313,301.4844 Q304.0313,300.8594 303.6094,300.4531 Q303.1875,300.0469 302.3906,300.0469 L300.7656,300.0469 L300.7656,302.9375 Z \"/><text fill=\"#000000\" font-family=\"sans-serif\" font-size=\"12\" font-style=\"italic\" lengthAdjust=\"spacingAndGlyphs\" textLength=\"40\" x=\"314\" y=\"301.1387\">«part»</text><text fill=\"#000000\" font-family=\"sans-serif\" font-size=\"12\" lengthAdjust=\"spacingAndGlyphs\" textLength=\"23\" x=\"322.5\" y=\"315.1074\">x: Q</text><line style=\"stroke: #A80036; stroke-width: 1.5;\" x1=\"288\" x2=\"354\" y1=\"322.9375\" y2=\"322.9375\"/><text fill=\"#000000\" font-family=\"sans-serif\" font-size=\"11\" lengthAdjust=\"spacingAndGlyphs\" textLength=\"23\" x=\"293\" y=\"337.1479\">b: B</text><text fill=\"#000000\" font-family=\"sans-serif\" font-size=\"11\" font-style=\"italic\" lengthAdjust=\"spacingAndGlyphs\" textLength=\"44\" x=\"293\" y=\"349.9526\">:&gt;&gt;P::a</text></a><!--MD5=[2156ba9850f5573cc1fc38a6a4b2f02b]\n",
       "class E7--><a href=\"psysml:84f1cc81-1e5a-4a4b-9822-237c593dc1ed\" target=\"_top\" title=\"psysml:84f1cc81-1e5a-4a4b-9822-237c593dc1ed\" xlink:actuate=\"onRequest\" xlink:href=\"psysml:84f1cc81-1e5a-4a4b-9822-237c593dc1ed\" xlink:show=\"new\" xlink:title=\"psysml:84f1cc81-1e5a-4a4b-9822-237c593dc1ed\" xlink:type=\"simple\"><rect fill=\"#FEFECE\" filter=\"url(#f1829ed4j6fzkp)\" height=\"45.9375\" id=\"E7\" rx=\"10\" ry=\"10\" style=\"stroke: #A80036; stroke-width: 1.5;\" width=\"68\" x=\"150\" y=\"41\"/><ellipse cx=\"165\" cy=\"59.9688\" fill=\"#32CD32\" rx=\"11\" ry=\"11\" style=\"stroke: #A80036; stroke-width: 1.0;\"/><path d=\"M161.8125,64.9688 L161.8125,54.375 L165.4219,54.375 Q166.6406,54.375 167.4375,54.8125 Q168.2344,55.2344 168.6094,55.9375 Q169,56.6406 169,57.4844 Q169,58.3281 168.625,59.0156 Q168.2656,59.7031 167.4688,60.125 Q166.6875,60.5313 165.5,60.5313 L163.7656,60.5313 L163.7656,64.9688 L161.8125,64.9688 Z M163.7656,58.9375 L165.375,58.9375 Q166.1875,58.9375 166.6094,58.5313 Q167.0313,58.125 167.0313,57.4844 Q167.0313,56.8594 166.6094,56.4531 Q166.1875,56.0469 165.3906,56.0469 L163.7656,56.0469 L163.7656,58.9375 Z \"/><text fill=\"#000000\" font-family=\"sans-serif\" font-size=\"12\" font-style=\"italic\" lengthAdjust=\"spacingAndGlyphs\" textLength=\"40\" x=\"177\" y=\"57.1387\">«part»</text><text fill=\"#000000\" font-family=\"sans-serif\" font-size=\"12\" lengthAdjust=\"spacingAndGlyphs\" textLength=\"25\" x=\"184.5\" y=\"71.1074\">q: Q</text><line style=\"stroke: #A80036; stroke-width: 1.5;\" x1=\"151\" x2=\"217\" y1=\"78.9375\" y2=\"78.9375\"/></a><!--MD5=[b9389687b975829384b498ac4b7476b2]\n",
       "class E8--><a href=\"psysml:d9c8c4c9-730a-472e-ad5c-9ed2548fca6c\" target=\"_top\" title=\"psysml:d9c8c4c9-730a-472e-ad5c-9ed2548fca6c\" xlink:actuate=\"onRequest\" xlink:href=\"psysml:d9c8c4c9-730a-472e-ad5c-9ed2548fca6c\" xlink:show=\"new\" xlink:title=\"psysml:d9c8c4c9-730a-472e-ad5c-9ed2548fca6c\" xlink:type=\"simple\"><rect fill=\"#FEFECE\" filter=\"url(#f1829ed4j6fzkp)\" height=\"59.9063\" id=\"E8\" rx=\"10\" ry=\"10\" style=\"stroke: #A80036; stroke-width: 1.5;\" width=\"96\" x=\"32\" y=\"148\"/><ellipse cx=\"47\" cy=\"173.9531\" fill=\"#32CD32\" rx=\"11\" ry=\"11\" style=\"stroke: #A80036; stroke-width: 1.0;\"/><path d=\"M43.8125,178.9531 L43.8125,168.3594 L47.4219,168.3594 Q48.6406,168.3594 49.4375,168.7969 Q50.2344,169.2188 50.6094,169.9219 Q51,170.625 51,171.4688 Q51,172.3125 50.625,173 Q50.2656,173.6875 49.4688,174.1094 Q48.6875,174.5156 47.5,174.5156 L45.7656,174.5156 L45.7656,178.9531 L43.8125,178.9531 Z M45.7656,172.9219 L47.375,172.9219 Q48.1875,172.9219 48.6094,172.5156 Q49.0313,172.1094 49.0313,171.4688 Q49.0313,170.8438 48.6094,170.4375 Q48.1875,170.0313 47.3906,170.0313 L45.7656,170.0313 L45.7656,172.9219 Z \"/><text fill=\"#000000\" font-family=\"sans-serif\" font-size=\"12\" font-style=\"italic\" lengthAdjust=\"spacingAndGlyphs\" textLength=\"68\" x=\"59\" y=\"164.1387\">«variation»</text><text fill=\"#000000\" font-family=\"sans-serif\" font-size=\"12\" font-style=\"italic\" lengthAdjust=\"spacingAndGlyphs\" textLength=\"40\" x=\"73\" y=\"178.1074\">«part»</text><text fill=\"#000000\" font-family=\"sans-serif\" font-size=\"12\" lengthAdjust=\"spacingAndGlyphs\" textLength=\"22\" x=\"82\" y=\"192.0762\">v: P</text><line style=\"stroke: #A80036; stroke-width: 1.5;\" x1=\"33\" x2=\"127\" y1=\"199.9063\" y2=\"199.9063\"/></a><!--MD5=[fd4143e9d270a159db93a4ea2a975926]\n",
       "class E9--><a href=\"psysml:29b56154-ee98-4bdd-852f-875051132018\" target=\"_top\" title=\"psysml:29b56154-ee98-4bdd-852f-875051132018\" xlink:actuate=\"onRequest\" xlink:href=\"psysml:29b56154-ee98-4bdd-852f-875051132018\" xlink:show=\"new\" xlink:title=\"psysml:29b56154-ee98-4bdd-852f-875051132018\" xlink:type=\"simple\"><rect fill=\"#FEFECE\" filter=\"url(#f1829ed4j6fzkp)\" height=\"71.5469\" id=\"E9\" rx=\"10\" ry=\"10\" style=\"stroke: #A80036; stroke-width: 1.5;\" width=\"103\" x=\"32.5\" y=\"285\"/><ellipse cx=\"47.5\" cy=\"303.9688\" fill=\"#FFA500\" rx=\"11\" ry=\"11\" style=\"stroke: #A80036; stroke-width: 1.0;\"/><path d=\"M47.25,309.4375 Q45.5,309.4375 44.5469,308.4063 Q43.6094,307.3594 43.6094,305.5156 L43.6094,298.625 L45.6719,298.625 L45.6719,298.7813 Q45.5781,298.875 45.5469,299.0156 Q45.5313,299.1406 45.5313,299.4063 L45.5313,305.5313 Q45.5313,306.625 45.9063,307.25 Q46.2813,307.875 47.2656,307.875 Q48.25,307.875 48.6406,307.25 Q49.0313,306.625 49.0313,305.4844 L49.0313,298.625 L50.9063,298.625 L50.9063,305.4688 Q50.9063,307.5 49.875,308.4688 Q48.8594,309.4375 47.25,309.4375 Z \"/><text fill=\"#000000\" font-family=\"sans-serif\" font-size=\"12\" font-style=\"italic\" lengthAdjust=\"spacingAndGlyphs\" textLength=\"75\" x=\"59.5\" y=\"301.1387\">«reference»</text><text fill=\"#000000\" font-family=\"sans-serif\" font-size=\"12\" lengthAdjust=\"spacingAndGlyphs\" textLength=\"8\" x=\"93\" y=\"315.1074\">q</text><line style=\"stroke: #A80036; stroke-width: 1.5;\" x1=\"33.5\" x2=\"134.5\" y1=\"322.9375\" y2=\"322.9375\"/><text fill=\"#000000\" font-family=\"sans-serif\" font-size=\"11\" lengthAdjust=\"spacingAndGlyphs\" textLength=\"23\" x=\"38.5\" y=\"337.1479\">b: B</text><text fill=\"#000000\" font-family=\"sans-serif\" font-size=\"11\" font-style=\"italic\" lengthAdjust=\"spacingAndGlyphs\" textLength=\"44\" x=\"38.5\" y=\"349.9526\">:&gt;&gt;P::a</text></a><!--MD5=[96f4274e9e20536e775497830990834d]\n",
       "class E10--><a href=\"psysml:e49f0805-0747-4902-8d4f-55ae479a1338\" target=\"_top\" title=\"psysml:e49f0805-0747-4902-8d4f-55ae479a1338\" xlink:actuate=\"onRequest\" xlink:href=\"psysml:e49f0805-0747-4902-8d4f-55ae479a1338\" xlink:show=\"new\" xlink:title=\"psysml:e49f0805-0747-4902-8d4f-55ae479a1338\" xlink:type=\"simple\"><rect fill=\"#FEFECE\" filter=\"url(#f1829ed4j6fzkp)\" height=\"45.9375\" id=\"E10\" rx=\"10\" ry=\"10\" style=\"stroke: #A80036; stroke-width: 1.5;\" width=\"68\" x=\"240\" y=\"155\"/><ellipse cx=\"255\" cy=\"173.9688\" fill=\"#32CD32\" rx=\"11\" ry=\"11\" style=\"stroke: #A80036; stroke-width: 1.0;\"/><path d=\"M251.8125,178.9688 L251.8125,168.375 L255.4219,168.375 Q256.6406,168.375 257.4375,168.8125 Q258.2344,169.2344 258.6094,169.9375 Q259,170.6406 259,171.4844 Q259,172.3281 258.625,173.0156 Q258.2656,173.7031 257.4688,174.125 Q256.6875,174.5313 255.5,174.5313 L253.7656,174.5313 L253.7656,178.9688 L251.8125,178.9688 Z M253.7656,172.9375 L255.375,172.9375 Q256.1875,172.9375 256.6094,172.5313 Q257.0313,172.125 257.0313,171.4844 Q257.0313,170.8594 256.6094,170.4531 Q256.1875,170.0469 255.3906,170.0469 L253.7656,170.0469 L253.7656,172.9375 Z \"/><text fill=\"#000000\" font-family=\"sans-serif\" font-size=\"12\" font-style=\"italic\" lengthAdjust=\"spacingAndGlyphs\" textLength=\"40\" x=\"267\" y=\"171.1387\">«part»</text><text fill=\"#000000\" font-family=\"sans-serif\" font-size=\"12\" lengthAdjust=\"spacingAndGlyphs\" textLength=\"22\" x=\"276\" y=\"185.1074\">y: P</text><line style=\"stroke: #A80036; stroke-width: 1.5;\" x1=\"241\" x2=\"307\" y1=\"192.9375\" y2=\"192.9375\"/></a><!--MD5=[05d275557350bfb9b23a4ef7222b4c39]\n",
       "link E3 to E2--><a href=\"psysml:f79594a1-bc1c-4f37-98e7-b8999b5b3daa\" target=\"_top\" title=\"psysml:f79594a1-bc1c-4f37-98e7-b8999b5b3daa\" xlink:actuate=\"onRequest\" xlink:href=\"psysml:f79594a1-bc1c-4f37-98e7-b8999b5b3daa\" xlink:show=\"new\" xlink:title=\"psysml:f79594a1-bc1c-4f37-98e7-b8999b5b3daa\" xlink:type=\"simple\"><path d=\"M187.78,198.02 C191.66,217.55 197.84,248.68 202.99,274.61 \" fill=\"none\" id=\"E3-&gt;E2\" style=\"stroke: #A80036; stroke-width: 1.0;\"/><polygon fill=\"none\" points=\"209.88,273.39,206.91,294.37,196.15,276.12,209.88,273.39\" style=\"stroke: #A80036; stroke-width: 1.0;\"/></a><!--MD5=[15ebcb19ae302d9b601edb458606d402]\n",
       "link E5 to E2--><a href=\"psysml:e72a8b47-cfcf-460f-abbe-f19ffcddd547\" target=\"_top\" title=\"psysml:e72a8b47-cfcf-460f-abbe-f19ffcddd547\" xlink:actuate=\"onRequest\" xlink:href=\"psysml:e72a8b47-cfcf-460f-abbe-f19ffcddd547\" xlink:show=\"new\" xlink:title=\"psysml:e72a8b47-cfcf-460f-abbe-f19ffcddd547\" xlink:type=\"simple\"><path d=\"M342.95,197.72 C318.47,220.58 276.65,259.63 246.86,287.45 \" fill=\"none\" id=\"E5-&gt;E2\" style=\"stroke: #A80036; stroke-width: 1.0;\"/><polygon fill=\"none\" points=\"251.53,292.67,232.13,301.2,241.98,282.43,251.53,292.67\" style=\"stroke: #A80036; stroke-width: 1.0;\"/></a><!--MD5=[9120cf2e5df3bff93db8f754bbbc09b4]\n",
       "link E5 to E6--><a href=\"psysml:d1158e90-c200-41a0-bff8-4b2e6825fa74\" target=\"_top\" title=\"psysml:d1158e90-c200-41a0-bff8-4b2e6825fa74\" xlink:actuate=\"onRequest\" xlink:href=\"psysml:d1158e90-c200-41a0-bff8-4b2e6825fa74\" xlink:show=\"new\" xlink:title=\"psysml:d1158e90-c200-41a0-bff8-4b2e6825fa74\" xlink:type=\"simple\"><path d=\"M354.4,207.89 C348.64,227.2 340.95,253.01 334.41,274.99 \" fill=\"none\" id=\"E5-E6\" style=\"stroke: #A80036; stroke-width: 1.0;\"/><polygon fill=\"#A80036\" points=\"331.49,284.79,336.6502,277.9802,330.9001,276.2664,331.49,284.79\" style=\"stroke: #A80036; stroke-width: 1.0;\"/><path d=\"M348.3559,198.5542 A9,9 0 0 0 364.5656 203.3857\" fill=\"none\" style=\"stroke: #A80036; stroke-width: 1.5;\"/><text fill=\"#000000\" font-family=\"sans-serif\" font-size=\"13\" lengthAdjust=\"spacingAndGlyphs\" textLength=\"60\" x=\"345\" y=\"251.0669\">«variant»</text></a><!--MD5=[14ccda38c055a5c0da953d572bc50960]\n",
       "link E7 to E3--><a href=\"psysml:df5a11ab-14bd-474c-9e9f-2e0517640249\" target=\"_top\" title=\"psysml:df5a11ab-14bd-474c-9e9f-2e0517640249\" xlink:actuate=\"onRequest\" xlink:href=\"psysml:df5a11ab-14bd-474c-9e9f-2e0517640249\" xlink:show=\"new\" xlink:title=\"psysml:df5a11ab-14bd-474c-9e9f-2e0517640249\" xlink:type=\"simple\"><path d=\"M184,87.13 C184,101.57 184,120.83 184,137.81 \" fill=\"none\" id=\"E7-&gt;E3\" style=\"stroke: #A80036; stroke-width: 1.0;\"/><polygon fill=\"#FFFFFF\" points=\"184,157.9,177,138.9,191,138.9,184,157.9\" style=\"stroke: #A80036; stroke-width: 1.0;\"/><ellipse cx=\"179\" cy=\"133.2\" fill=\"#A80036\" rx=\"2\" ry=\"2\" style=\"stroke: #A80036; stroke-width: 1.0;\"/><ellipse cx=\"189\" cy=\"133.2\" fill=\"#A80036\" rx=\"2\" ry=\"2\" style=\"stroke: #A80036; stroke-width: 1.0;\"/></a><!--MD5=[f1f3f9f2fc535e6147756cb86a7f2e32]\n",
       "link E8 to E2--><a href=\"psysml:108d975b-2613-446e-8683-bfdaec0afedf\" target=\"_top\" title=\"psysml:108d975b-2613-446e-8683-bfdaec0afedf\" xlink:actuate=\"onRequest\" xlink:href=\"psysml:108d975b-2613-446e-8683-bfdaec0afedf\" xlink:show=\"new\" xlink:title=\"psysml:108d975b-2613-446e-8683-bfdaec0afedf\" xlink:type=\"simple\"><path d=\"M119.32,208.23 C130.4,217.24 142.11,227.55 152,238 C163.47,250.11 174.65,264.47 184.19,277.75 \" fill=\"none\" id=\"E8-&gt;E2\" style=\"stroke: #A80036; stroke-width: 1.0;\"/><polygon fill=\"#FFFFFF\" points=\"195.68,294.32,179.1086,282.6843,190.6186,274.7143,195.68,294.32\" style=\"stroke: #A80036; stroke-width: 1.0;\"/><ellipse cx=\"177.508\" cy=\"276.8595\" fill=\"#A80036\" rx=\"2\" ry=\"2\" style=\"stroke: #A80036; stroke-width: 1.0;\"/><ellipse cx=\"185.7294\" cy=\"271.1667\" fill=\"#A80036\" rx=\"2\" ry=\"2\" style=\"stroke: #A80036; stroke-width: 1.0;\"/></a><!--MD5=[ed10624c06dd9a4fa49ccf290e8b16a8]\n",
       "link E8 to E9--><a href=\"psysml:ebcdab70-773e-42b3-a4e9-8c7478e829d7\" target=\"_top\" title=\"psysml:ebcdab70-773e-42b3-a4e9-8c7478e829d7\" xlink:actuate=\"onRequest\" xlink:href=\"psysml:ebcdab70-773e-42b3-a4e9-8c7478e829d7\" xlink:show=\"new\" xlink:title=\"psysml:ebcdab70-773e-42b3-a4e9-8c7478e829d7\" xlink:type=\"simple\"><path d=\"M81.12,218.35 C81.61,235.87 82.2,256.61 82.72,274.77 \" fill=\"none\" id=\"E8-E9\" style=\"stroke: #A80036; stroke-width: 1.0;\"/><polygon fill=\"#A80036\" points=\"83,284.83,85.7703,276.7476,79.7727,276.9189,83,284.83\" style=\"stroke: #A80036; stroke-width: 1.0;\"/><path d=\"M72.4641,211.5385 A9,9 0 0 0 89.3717 211.0554\" fill=\"none\" style=\"stroke: #A80036; stroke-width: 1.5;\"/><text fill=\"#000000\" font-family=\"sans-serif\" font-size=\"13\" lengthAdjust=\"spacingAndGlyphs\" textLength=\"60\" x=\"83\" y=\"251.0669\">«variant»</text></a><!--MD5=[0f36bececdf0dff6e600d6f64214b0f1]\n",
       "link E10 to E2--><a href=\"psysml:967d0111-ba43-4736-bbbb-a2fd42e2431e\" target=\"_top\" title=\"psysml:967d0111-ba43-4736-bbbb-a2fd42e2431e\" xlink:actuate=\"onRequest\" xlink:href=\"psysml:967d0111-ba43-4736-bbbb-a2fd42e2431e\" xlink:show=\"new\" xlink:title=\"psysml:967d0111-ba43-4736-bbbb-a2fd42e2431e\" xlink:type=\"simple\"><path d=\"M264.31,201.03 C255.55,220.95 242.39,250.89 231.46,275.74 \" fill=\"none\" id=\"E10-&gt;E2\" style=\"stroke: #A80036; stroke-width: 1.0;\"/><polygon fill=\"#FFFFFF\" points=\"223.3,294.3,224.5306,274.089,237.3489,279.7183,223.3,294.3\" style=\"stroke: #A80036; stroke-width: 1.0;\"/><ellipse cx=\"228.6537\" cy=\"269.6742\" fill=\"#A80036\" rx=\"2\" ry=\"2\" style=\"stroke: #A80036; stroke-width: 1.0;\"/><ellipse cx=\"237.8097\" cy=\"273.6952\" fill=\"#A80036\" rx=\"2\" ry=\"2\" style=\"stroke: #A80036; stroke-width: 1.0;\"/></a><!--MD5=[3e4f92760f69d8a04626c568cfe875f2]\n",
       "@startuml\r\n",
       " \r\n",
       "package \"VariabilityTest\" as E1  [[psysml:6fd2d067-8ada-4ea8-9732-021f5438b424 ]]  {\r\n",
       "comp def \"P\" as E2 << << (B,green) >> [[psysml:06c5c105-f179-4f9c-9acd-25394b323f4d ]] {\r\n",
       "a\r\n",
       "}\r\n",
       "comp def \"Q\" as E3 << << (B,green) >> [[psysml:dc55669e-d547-41b4-94bf-d6c68c80b885 ]] {\r\n",
       "}\r\n",
       "comp def \"B\" as E4 << <<(D,brown) attribute def>> [[psysml:18777e48-4bd6-4ac5-98df-f6aab0b7358e ]] {\r\n",
       "}\r\n",
       "comp def \"V\" as E5 << << (B,green) >> [[psysml:b19cdb52-b52e-4af3-afe9-4ea29743154a ]] {\r\n",
       "}\r\n",
       "comp usage \"x: Q\" as E6 << << (P,limegreen) part>> [[psysml:a2bd922e-3e40-42bd-80e3-ecb5a548758e ]] {\r\n",
       "b: B\\n//:>>P::a// \r\n",
       "}\r\n",
       "comp usage \"q: Q\" as E7 << << (P,limegreen) part>> [[psysml:84f1cc81-1e5a-4a4b-9822-237c593dc1ed ]] {\r\n",
       "}\r\n",
       "comp usage \"v: P\" as E8  <<variation>>\\n<< << (P,limegreen) part>> [[psysml:d9c8c4c9-730a-472e-ad5c-9ed2548fca6c ]] {\r\n",
       "}\r\n",
       "comp usage \"q\" as E9 << <<(U,orange) reference>> [[psysml:29b56154-ee98-4bdd-852f-875051132018 ]] {\r\n",
       "b: B\\n//:>>P::a// \r\n",
       "}\r\n",
       "comp usage \"y: P\" as E10 << << (P,limegreen) part>> [[psysml:e49f0805-0747-4902-8d4f-55ae479a1338 ]] {\r\n",
       "}\r\n",
       "}\r\n",
       "E3 - -|> E2 [[psysml:f79594a1-bc1c-4f37-98e7-b8999b5b3daa ]] \r\n",
       "E5 - -|> E2 [[psysml:e72a8b47-cfcf-460f-abbe-f19ffcddd547 ]] \r\n",
       "E5 )- ->> E6 [[psysml:d1158e90-c200-41a0-bff8-4b2e6825fa74 ]] : <<variant>>\r\n",
       "E7 - -:|> E3 [[psysml:df5a11ab-14bd-474c-9e9f-2e0517640249 ]] \r\n",
       "E8 - -:|> E2 [[psysml:108d975b-2613-446e-8683-bfdaec0afedf ]] \r\n",
       "E8 )- ->> E9 [[psysml:ebcdab70-773e-42b3-a4e9-8c7478e829d7 ]] : <<variant>>\r\n",
       "E10 - -:|> E2 [[psysml:967d0111-ba43-4736-bbbb-a2fd42e2431e ]] \r\n",
       "@enduml\r\n",
       "\n",
       "PlantUML version 1.2020.13(Sat Jun 13 12:26:38 UTC 2020)\n",
       "(EPL source distribution)\n",
       "Java Runtime: OpenJDK Runtime Environment\n",
       "JVM: OpenJDK 64-Bit Server VM\n",
       "Default Encoding: UTF-8\n",
       "Language: en\n",
       "Country: null\n",
       "--></g></svg>"
      ]
     },
     "execution_count": 31,
     "metadata": {},
     "output_type": "execute_result"
    }
   ],
   "source": [
    "%viz --style=\"PLANTUML\" --view=\"Tree\" \"VariabilityTest\""
   ]
  },
  {
   "cell_type": "code",
   "execution_count": 32,
   "id": "12816e86",
   "metadata": {
    "execution": {
     "iopub.execute_input": "2021-10-03T08:28:16.892116Z",
     "iopub.status.busy": "2021-10-03T08:28:16.891696Z",
     "iopub.status.idle": "2021-10-03T08:28:16.978246Z",
     "shell.execute_reply": "2021-10-03T08:28:16.976417Z"
    }
   },
   "outputs": [
    {
     "data": {
      "image/svg+xml": [
       "<?xml version=\"1.0\" encoding=\"UTF-8\" standalone=\"no\"?><svg xmlns=\"http://www.w3.org/2000/svg\" xmlns:xlink=\"http://www.w3.org/1999/xlink\" contentScriptType=\"application/ecmascript\" contentStyleType=\"text/css\" height=\"300px\" preserveAspectRatio=\"none\" style=\"width:603px;height:300px;background:#000000;\" version=\"1.1\" viewBox=\"0 0 603 300\" width=\"603px\" zoomAndPan=\"magnify\"><defs/><g><rect fill=\"#0E180C\" height=\"1\" style=\"stroke: #0E180C; stroke-width: 1.0;\" width=\"1\" x=\"0\" y=\"0\"/><rect fill=\"#FFFFFF\" height=\"202.8012\" style=\"stroke: #FFFFFF; stroke-width: 1.0;\" width=\"602\" x=\"0\" y=\"0\"/><text fill=\"#000000\" font-family=\"sans-serif\" font-size=\"12\" font-weight=\"bold\" lengthAdjust=\"spacingAndGlyphs\" textLength=\"139\" x=\"5\" y=\"16.1387\">Welcome to PlantUML!</text><text fill=\"#000000\" font-family=\"sans-serif\" font-size=\"12\" lengthAdjust=\"spacingAndGlyphs\" textLength=\"0\" x=\"9\" y=\"30.1074\"/><text fill=\"#000000\" font-family=\"sans-serif\" font-size=\"12\" lengthAdjust=\"spacingAndGlyphs\" textLength=\"293\" x=\"5\" y=\"44.0762\">If you use this software, you accept its license.</text><text fill=\"#000000\" font-family=\"sans-serif\" font-size=\"12\" lengthAdjust=\"spacingAndGlyphs\" textLength=\"107\" x=\"5\" y=\"58.0449\">(details by typing</text><text fill=\"#000000\" font-family=\"monospace\" font-size=\"12\" lengthAdjust=\"spacingAndGlyphs\" textLength=\"42\" x=\"116\" y=\"58.595\">license</text><text fill=\"#000000\" font-family=\"sans-serif\" font-size=\"12\" lengthAdjust=\"spacingAndGlyphs\" textLength=\"56\" x=\"162\" y=\"58.0449\">keyword)</text><text fill=\"#000000\" font-family=\"sans-serif\" font-size=\"12\" lengthAdjust=\"spacingAndGlyphs\" textLength=\"0\" x=\"9\" y=\"72.0137\"/><text fill=\"#000000\" font-family=\"sans-serif\" font-size=\"12\" lengthAdjust=\"spacingAndGlyphs\" textLength=\"283\" x=\"5\" y=\"85.9824\">You can start with a simple UML Diagram like:</text><text fill=\"#000000\" font-family=\"sans-serif\" font-size=\"12\" lengthAdjust=\"spacingAndGlyphs\" textLength=\"0\" x=\"9\" y=\"99.9512\"/><text fill=\"#000000\" font-family=\"monospace\" font-size=\"12\" lengthAdjust=\"spacingAndGlyphs\" textLength=\"102\" x=\"5\" y=\"113.0893\">Bob-&gt;Alice: Hello</text><text fill=\"#000000\" font-family=\"sans-serif\" font-size=\"12\" lengthAdjust=\"spacingAndGlyphs\" textLength=\"0\" x=\"9\" y=\"126.508\"/><text fill=\"#000000\" font-family=\"sans-serif\" font-size=\"12\" lengthAdjust=\"spacingAndGlyphs\" textLength=\"14\" x=\"5\" y=\"140.4768\">Or</text><text fill=\"#000000\" font-family=\"sans-serif\" font-size=\"12\" lengthAdjust=\"spacingAndGlyphs\" textLength=\"0\" x=\"9\" y=\"154.4455\"/><text fill=\"#000000\" font-family=\"monospace\" font-size=\"12\" lengthAdjust=\"spacingAndGlyphs\" textLength=\"78\" x=\"5\" y=\"167.5837\">class Example</text><text fill=\"#000000\" font-family=\"sans-serif\" font-size=\"12\" lengthAdjust=\"spacingAndGlyphs\" textLength=\"0\" x=\"9\" y=\"181.0023\"/><text fill=\"#000000\" font-family=\"sans-serif\" font-size=\"12\" lengthAdjust=\"spacingAndGlyphs\" textLength=\"349\" x=\"5\" y=\"194.9711\">You will find more information about PlantUML syntax on</text><text fill=\"#000000\" font-family=\"sans-serif\" font-size=\"12\" lengthAdjust=\"spacingAndGlyphs\" text-decoration=\"underline\" textLength=\"129\" x=\"358\" y=\"194.9711\">https://plantuml.com</text><image height=\"71\" width=\"80\" x=\"516\" xlink:href=\"data:image/png;base64,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\" y=\"6\"/><rect fill=\"#000000\" height=\"96.4844\" style=\"stroke: #000000; stroke-width: 1.0;\" width=\"602\" x=\"0\" y=\"202.8012\"/><rect fill=\"#33FF02\" height=\"21.2969\" style=\"stroke: #33FF02; stroke-width: 1.0;\" width=\"145\" x=\"5\" y=\"207.8012\"/><text fill=\"#000000\" font-family=\"sans-serif\" font-size=\"14\" font-weight=\"bold\" lengthAdjust=\"spacingAndGlyphs\" textLength=\"143\" x=\"6\" y=\"222.8012\">[From string (line 2) ]</text><text fill=\"#33FF02\" font-family=\"sans-serif\" font-size=\"14\" font-weight=\"bold\" lengthAdjust=\"spacingAndGlyphs\" textLength=\"0\" x=\"9\" y=\"243.0981\"/><text fill=\"#33FF02\" font-family=\"sans-serif\" font-size=\"14\" font-weight=\"bold\" lengthAdjust=\"spacingAndGlyphs\" textLength=\"70\" x=\"5\" y=\"259.3949\">@startuml</text><text fill=\"#33FF02\" font-family=\"sans-serif\" font-size=\"14\" font-weight=\"bold\" lengthAdjust=\"spacingAndGlyphs\" textLength=\"0\" x=\"9\" y=\"275.6918\"/><text fill=\"#FF0000\" font-family=\"sans-serif\" font-size=\"14\" font-weight=\"bold\" lengthAdjust=\"spacingAndGlyphs\" textLength=\"124\" x=\"9\" y=\"291.9887\">Empty description</text><!--MD5=[f59edd8218d337f74d0c332fc6737304]\n",
       "@startuml\r\n",
       " \r\n",
       "@enduml\r\n",
       "\n",
       "PlantUML version 1.2020.13(Sat Jun 13 12:26:38 UTC 2020)\n",
       "(EPL source distribution)\n",
       "Java Runtime: OpenJDK Runtime Environment\n",
       "JVM: OpenJDK 64-Bit Server VM\n",
       "Default Encoding: UTF-8\n",
       "Language: en\n",
       "Country: null\n",
       "--></g></svg>"
      ]
     },
     "execution_count": 32,
     "metadata": {},
     "output_type": "execute_result"
    }
   ],
   "source": [
    "%viz --style=\"PLANTUML\" --view=\"State\" \"VariabilityTest\""
   ]
  },
  {
   "cell_type": "code",
   "execution_count": 33,
   "id": "63b22740",
   "metadata": {
    "execution": {
     "iopub.execute_input": "2021-10-03T08:28:17.026850Z",
     "iopub.status.busy": "2021-10-03T08:28:17.026452Z",
     "iopub.status.idle": "2021-10-03T08:28:17.075607Z",
     "shell.execute_reply": "2021-10-03T08:28:17.073680Z"
    }
   },
   "outputs": [
    {
     "data": {
      "image/svg+xml": [
       "<?xml version=\"1.0\" encoding=\"UTF-8\" standalone=\"no\"?><svg xmlns=\"http://www.w3.org/2000/svg\" xmlns:xlink=\"http://www.w3.org/1999/xlink\" contentScriptType=\"application/ecmascript\" contentStyleType=\"text/css\" height=\"387px\" preserveAspectRatio=\"none\" style=\"width:843px;height:387px;\" version=\"1.1\" viewBox=\"0 0 843 387\" width=\"843px\" zoomAndPan=\"magnify\"><defs><filter height=\"300%\" id=\"f13mazfchn8peb\" width=\"300%\" x=\"-1\" y=\"-1\"><feGaussianBlur result=\"blurOut\" stdDeviation=\"2.0\"/><feColorMatrix in=\"blurOut\" result=\"blurOut2\" type=\"matrix\" values=\"0 0 0 0 0 0 0 0 0 0 0 0 0 0 0 0 0 0 .4 0\"/><feOffset dx=\"4.0\" dy=\"4.0\" in=\"blurOut2\" result=\"blurOut3\"/><feBlend in=\"SourceGraphic\" in2=\"blurOut3\" mode=\"normal\"/></filter></defs><g><!--MD5=[fbc87193dbaf4d95561dea2c320d4a47]\n",
       "cluster E1--><a href=\"psysml:6fd2d067-8ada-4ea8-9732-021f5438b424\" target=\"_top\" title=\"psysml:6fd2d067-8ada-4ea8-9732-021f5438b424\" xlink:actuate=\"onRequest\" xlink:href=\"psysml:6fd2d067-8ada-4ea8-9732-021f5438b424\" xlink:show=\"new\" xlink:title=\"psysml:6fd2d067-8ada-4ea8-9732-021f5438b424\" xlink:type=\"simple\"><polygon fill=\"#FFFFFF\" filter=\"url(#f13mazfchn8peb)\" points=\"16,6,116,6,123,28.2969,821,28.2969,821,375,16,375,16,6\" style=\"stroke: #000000; stroke-width: 1.5;\"/><line style=\"stroke: #000000; stroke-width: 1.5;\" x1=\"16\" x2=\"123\" y1=\"28.2969\" y2=\"28.2969\"/><text fill=\"#000000\" font-family=\"sans-serif\" font-size=\"14\" font-weight=\"bold\" lengthAdjust=\"spacingAndGlyphs\" textLength=\"94\" x=\"20\" y=\"20.9951\">VariabilityTest</text></a><!--MD5=[e4f7fae6ed58524ba242bb0b0d3be6b7]\n",
       "cluster E2--><a href=\"psysml:06c5c105-f179-4f9c-9acd-25394b323f4d\" target=\"_top\" title=\"psysml:06c5c105-f179-4f9c-9acd-25394b323f4d\" xlink:actuate=\"onRequest\" xlink:href=\"psysml:06c5c105-f179-4f9c-9acd-25394b323f4d\" xlink:show=\"new\" xlink:title=\"psysml:06c5c105-f179-4f9c-9acd-25394b323f4d\" xlink:type=\"simple\"><rect fill=\"#FFFFFF\" filter=\"url(#f13mazfchn8peb)\" height=\"113\" id=\"E2\" style=\"stroke: #A80036; stroke-width: 1.5;\" width=\"164\" x=\"455\" y=\"230\"/><rect fill=\"#FEFECE\" height=\"23.9688\" style=\"stroke: #A80036; stroke-width: 1.5;\" width=\"164\" x=\"455\" y=\"230\"/><text fill=\"#000000\" font-family=\"sans-serif\" font-size=\"12\" lengthAdjust=\"spacingAndGlyphs\" textLength=\"8\" x=\"533\" y=\"246.1387\">P</text></a><!--MD5=[14e3b0961a2654348d326746436168a1]\n",
       "cluster E6--><a href=\"psysml:b19cdb52-b52e-4af3-afe9-4ea29743154a\" target=\"_top\" title=\"psysml:b19cdb52-b52e-4af3-afe9-4ea29743154a\" xlink:actuate=\"onRequest\" xlink:href=\"psysml:b19cdb52-b52e-4af3-afe9-4ea29743154a\" xlink:show=\"new\" xlink:title=\"psysml:b19cdb52-b52e-4af3-afe9-4ea29743154a\" xlink:type=\"simple\"><rect fill=\"#FFFFFF\" filter=\"url(#f13mazfchn8peb)\" height=\"133\" id=\"E6\" style=\"stroke: #A80036; stroke-width: 1.5;\" width=\"123\" x=\"666\" y=\"57\"/><rect fill=\"#FEFECE\" height=\"23.9688\" style=\"stroke: #A80036; stroke-width: 1.5;\" width=\"123\" x=\"666\" y=\"57\"/><text fill=\"#000000\" font-family=\"sans-serif\" font-size=\"12\" lengthAdjust=\"spacingAndGlyphs\" textLength=\"8\" x=\"723.5\" y=\"73.1387\">V</text></a><!--MD5=[7f149f147074ac12df2cb0a7728a5fb0]\n",
       "cluster E9--><a href=\"psysml:d9c8c4c9-730a-472e-ad5c-9ed2548fca6c\" target=\"_top\" title=\"psysml:d9c8c4c9-730a-472e-ad5c-9ed2548fca6c\" xlink:actuate=\"onRequest\" xlink:href=\"psysml:d9c8c4c9-730a-472e-ad5c-9ed2548fca6c\" xlink:show=\"new\" xlink:title=\"psysml:d9c8c4c9-730a-472e-ad5c-9ed2548fca6c\" xlink:type=\"simple\"><rect fill=\"#FFFFFF\" filter=\"url(#f13mazfchn8peb)\" height=\"123\" id=\"E9\" rx=\"10\" ry=\"10\" style=\"stroke: #A80036; stroke-width: 1.5;\" width=\"136\" x=\"498\" y=\"62\"/><rect fill=\"#FEFECE\" height=\"23.9688\" rx=\"10\" ry=\"10\" style=\"stroke: #FEFECE; stroke-width: 1.5;\" width=\"136\" x=\"498\" y=\"62\"/><rect fill=\"#FEFECE\" height=\"10\" style=\"stroke: #FEFECE; stroke-width: 1.5;\" width=\"136\" x=\"498\" y=\"75.9688\"/><rect fill=\"none\" height=\"123\" id=\"E9\" rx=\"10\" ry=\"10\" style=\"stroke: #A80036; stroke-width: 1.5;\" width=\"136\" x=\"498\" y=\"62\"/><text fill=\"#000000\" font-family=\"sans-serif\" font-size=\"12\" lengthAdjust=\"spacingAndGlyphs\" textLength=\"22\" x=\"555\" y=\"78.1387\">v: P</text><line style=\"stroke: #A80036; stroke-width: 1.0;\" x1=\"498\" x2=\"634\" y1=\"85.9688\" y2=\"85.9688\"/></a><g id=\"E1.E5\"><a href=\"psysml:18777e48-4bd6-4ac5-98df-f6aab0b7358e\" target=\"_top\" title=\"psysml:18777e48-4bd6-4ac5-98df-f6aab0b7358e\" xlink:actuate=\"onRequest\" xlink:href=\"psysml:18777e48-4bd6-4ac5-98df-f6aab0b7358e\" xlink:show=\"new\" xlink:title=\"psysml:18777e48-4bd6-4ac5-98df-f6aab0b7358e\" xlink:type=\"simple\"><rect fill=\"#FEFECE\" filter=\"url(#f13mazfchn8peb)\" height=\"42.9375\" id=\"E5\" style=\"stroke: #A80036; stroke-width: 1.5;\" width=\"126\" x=\"353\" y=\"111.5\"/><ellipse cx=\"370.25\" cy=\"130.4688\" fill=\"#A52A2A\" rx=\"11\" ry=\"11\" style=\"stroke: #A80036; stroke-width: 1.0;\"/><path d=\"M367.4688,135.4688 L367.4688,124.875 L370.2031,124.875 Q371.5938,124.875 372.3594,125.2656 Q373.1406,125.6406 373.6719,126.3438 Q374.2031,127.0469 374.5,128.0469 Q374.7969,129.0313 374.7969,130.25 Q374.75,131.8438 374.25,133.0313 Q373.7656,134.2031 372.7188,134.8438 Q371.6875,135.4688 370,135.4688 L367.4688,135.4688 Z M369.3281,133.9688 L369.9531,133.9688 Q371.0313,133.9688 371.6875,133.5156 Q372.3438,133.0625 372.625,132.2344 Q372.9219,131.3906 372.9063,130.2656 Q372.9063,129.0938 372.6563,128.2344 Q372.4063,127.3594 371.7969,126.8906 Q371.1875,126.4063 370.1406,126.4063 L369.3281,126.4063 L369.3281,133.9688 Z \"/><text fill=\"#000000\" font-family=\"sans-serif\" font-size=\"12\" font-style=\"italic\" lengthAdjust=\"spacingAndGlyphs\" textLength=\"93\" x=\"382.75\" y=\"127.6387\">«attribute def»</text><text fill=\"#000000\" font-family=\"sans-serif\" font-size=\"12\" lengthAdjust=\"spacingAndGlyphs\" textLength=\"8\" x=\"425.25\" y=\"141.6074\">B</text></a></g><!--MD5=[09b614a08d8cba4a07c9adeb5e0fee81]\n",
       "class E3--><a href=\"psysml:8d9858c1-4f67-40c3-af33-b29377a1672a\" target=\"_top\" title=\"psysml:8d9858c1-4f67-40c3-af33-b29377a1672a\" xlink:actuate=\"onRequest\" xlink:href=\"psysml:8d9858c1-4f67-40c3-af33-b29377a1672a\" xlink:show=\"new\" xlink:title=\"psysml:8d9858c1-4f67-40c3-af33-b29377a1672a\" xlink:type=\"simple\"><rect fill=\"#FEFECE\" filter=\"url(#f13mazfchn8peb)\" height=\"45.9375\" id=\"E3\" rx=\"10\" ry=\"10\" style=\"stroke: #A80036; stroke-width: 1.5;\" width=\"97\" x=\"498.5\" y=\"273\"/><ellipse cx=\"513.5\" cy=\"291.9688\" fill=\"#FFA500\" rx=\"11\" ry=\"11\" style=\"stroke: #A80036; stroke-width: 1.0;\"/><path d=\"M513.25,297.4375 Q511.5,297.4375 510.5469,296.4063 Q509.6094,295.3594 509.6094,293.5156 L509.6094,286.625 L511.6719,286.625 L511.6719,286.7813 Q511.5781,286.875 511.5469,287.0156 Q511.5313,287.1406 511.5313,287.4063 L511.5313,293.5313 Q511.5313,294.625 511.9063,295.25 Q512.2813,295.875 513.2656,295.875 Q514.25,295.875 514.6406,295.25 Q515.0313,294.625 515.0313,293.4844 L515.0313,286.625 L516.9063,286.625 L516.9063,293.4688 Q516.9063,295.5 515.875,296.4688 Q514.8594,297.4375 513.25,297.4375 Z \"/><text fill=\"#000000\" font-family=\"sans-serif\" font-size=\"12\" font-style=\"italic\" lengthAdjust=\"spacingAndGlyphs\" textLength=\"69\" x=\"525.5\" y=\"289.1387\">«attribute»</text><text fill=\"#000000\" font-family=\"sans-serif\" font-size=\"12\" lengthAdjust=\"spacingAndGlyphs\" textLength=\"8\" x=\"556\" y=\"303.1074\">a</text><line style=\"stroke: #A80036; stroke-width: 1.5;\" x1=\"499.5\" x2=\"594.5\" y1=\"310.9375\" y2=\"310.9375\"/></a><g id=\"E1.E4\"><a href=\"psysml:dc55669e-d547-41b4-94bf-d6c68c80b885\" target=\"_top\" title=\"psysml:dc55669e-d547-41b4-94bf-d6c68c80b885\" xlink:actuate=\"onRequest\" xlink:href=\"psysml:dc55669e-d547-41b4-94bf-d6c68c80b885\" xlink:show=\"new\" xlink:title=\"psysml:dc55669e-d547-41b4-94bf-d6c68c80b885\" xlink:type=\"simple\"><rect fill=\"#FEFECE\" filter=\"url(#f13mazfchn8peb)\" height=\"40\" id=\"E4\" style=\"stroke: #A80036; stroke-width: 1.5;\" width=\"50\" x=\"268\" y=\"113\"/><ellipse cx=\"287.05\" cy=\"129\" fill=\"#008000\" rx=\"11\" ry=\"11\" style=\"stroke: #A80036; stroke-width: 1.0;\"/><path d=\"M283.925,134 L283.925,123.4063 L287.1594,123.4063 Q289.0656,123.4063 289.9719,124.1563 Q290.8938,124.9063 290.8938,126.0781 Q290.8938,126.7656 290.5031,127.4219 Q290.1281,128.0781 289.4094,128.375 Q290.2688,128.75 290.7844,129.4375 Q291.3,130.125 291.3,130.9375 Q291.3,132.3125 290.2688,133.1563 Q289.2531,134 287.1438,134 L283.925,134 Z M285.8469,127.6406 L287.0031,127.6406 Q288.1281,127.6406 288.5344,127.2656 Q288.9563,126.875 288.9563,126.25 Q288.9563,125.6719 288.5344,125.3125 Q288.1125,124.9531 287.175,124.9531 L285.8469,124.9531 L285.8469,127.6406 Z M285.8469,132.4219 L287.3469,132.4219 Q288.2531,132.4219 288.7844,132.0313 Q289.3156,131.6406 289.3156,130.8906 Q289.3156,130.125 288.8156,129.6563 Q288.3156,129.1719 287.05,129.1719 L285.8469,129.1719 L285.8469,132.4219 Z \"/><text fill=\"#000000\" font-family=\"sans-serif\" font-size=\"12\" lengthAdjust=\"spacingAndGlyphs\" textLength=\"9\" x=\"301.95\" y=\"133.1543\">Q</text></a></g><!--MD5=[2156ba9850f5573cc1fc38a6a4b2f02b]\n",
       "class E7--><a href=\"psysml:a2bd922e-3e40-42bd-80e3-ecb5a548758e\" target=\"_top\" title=\"psysml:a2bd922e-3e40-42bd-80e3-ecb5a548758e\" xlink:actuate=\"onRequest\" xlink:href=\"psysml:a2bd922e-3e40-42bd-80e3-ecb5a548758e\" xlink:show=\"new\" xlink:title=\"psysml:a2bd922e-3e40-42bd-80e3-ecb5a548758e\" xlink:type=\"simple\"><rect fill=\"#FEFECE\" filter=\"url(#f13mazfchn8peb)\" height=\"65.6094\" id=\"E7\" rx=\"10\" ry=\"10\" style=\"stroke: #A80036; stroke-width: 1.5;\" width=\"56\" x=\"709\" y=\"100\"/><ellipse cx=\"724.45\" cy=\"116\" fill=\"#B6DBBB\" rx=\"11\" ry=\"11\" style=\"stroke: #A80036; stroke-width: 1.0;\"/><path d=\"M724.2,121.4688 Q722.45,121.4688 721.4969,120.4375 Q720.5594,119.3906 720.5594,117.5469 L720.5594,110.6563 L722.6219,110.6563 L722.6219,110.8125 Q722.5281,110.9063 722.4969,111.0469 Q722.4813,111.1719 722.4813,111.4375 L722.4813,117.5625 Q722.4813,118.6563 722.8563,119.2813 Q723.2313,119.9063 724.2156,119.9063 Q725.2,119.9063 725.5906,119.2813 Q725.9813,118.6563 725.9813,117.5156 L725.9813,110.6563 L727.8563,110.6563 L727.8563,117.5 Q727.8563,119.5313 726.825,120.5 Q725.8094,121.4688 724.2,121.4688 Z \"/><text fill=\"#000000\" font-family=\"sans-serif\" font-size=\"12\" lengthAdjust=\"spacingAndGlyphs\" textLength=\"23\" x=\"738.55\" y=\"120.1543\">x: Q</text><line style=\"stroke: #A80036; stroke-width: 1.5;\" x1=\"710\" x2=\"764\" y1=\"132\" y2=\"132\"/><text fill=\"#000000\" font-family=\"sans-serif\" font-size=\"11\" lengthAdjust=\"spacingAndGlyphs\" textLength=\"23\" x=\"715\" y=\"146.2104\">b: B</text><text fill=\"#000000\" font-family=\"sans-serif\" font-size=\"11\" font-style=\"italic\" lengthAdjust=\"spacingAndGlyphs\" textLength=\"44\" x=\"715\" y=\"159.0151\">:&gt;&gt;P::a</text></a><g id=\"E1.E8\"><a href=\"psysml:84f1cc81-1e5a-4a4b-9822-237c593dc1ed\" target=\"_top\" title=\"psysml:84f1cc81-1e5a-4a4b-9822-237c593dc1ed\" xlink:actuate=\"onRequest\" xlink:href=\"psysml:84f1cc81-1e5a-4a4b-9822-237c593dc1ed\" xlink:show=\"new\" xlink:title=\"psysml:84f1cc81-1e5a-4a4b-9822-237c593dc1ed\" xlink:type=\"simple\"><rect fill=\"#FEFECE\" filter=\"url(#f13mazfchn8peb)\" height=\"40\" id=\"E8\" rx=\"10\" ry=\"10\" style=\"stroke: #A80036; stroke-width: 1.5;\" width=\"62\" x=\"171\" y=\"113\"/><ellipse cx=\"188.25\" cy=\"129\" fill=\"#B6DBBB\" rx=\"11\" ry=\"11\" style=\"stroke: #A80036; stroke-width: 1.0;\"/><path d=\"M188,134.4688 Q186.25,134.4688 185.2969,133.4375 Q184.3594,132.3906 184.3594,130.5469 L184.3594,123.6563 L186.4219,123.6563 L186.4219,123.8125 Q186.3281,123.9063 186.2969,124.0469 Q186.2813,124.1719 186.2813,124.4375 L186.2813,130.5625 Q186.2813,131.6563 186.6563,132.2813 Q187.0313,132.9063 188.0156,132.9063 Q189,132.9063 189.3906,132.2813 Q189.7813,131.6563 189.7813,130.5156 L189.7813,123.6563 L191.6563,123.6563 L191.6563,130.5 Q191.6563,132.5313 190.625,133.5 Q189.6094,134.4688 188,134.4688 Z \"/><text fill=\"#000000\" font-family=\"sans-serif\" font-size=\"12\" lengthAdjust=\"spacingAndGlyphs\" textLength=\"25\" x=\"202.75\" y=\"133.1543\">q: Q</text></a></g><!--MD5=[96f4274e9e20536e775497830990834d]\n",
       "class E10--><a href=\"psysml:29b56154-ee98-4bdd-852f-875051132018\" target=\"_top\" title=\"psysml:29b56154-ee98-4bdd-852f-875051132018\" xlink:actuate=\"onRequest\" xlink:href=\"psysml:29b56154-ee98-4bdd-852f-875051132018\" xlink:show=\"new\" xlink:title=\"psysml:29b56154-ee98-4bdd-852f-875051132018\" xlink:type=\"simple\"><rect fill=\"#FEFECE\" filter=\"url(#f13mazfchn8peb)\" height=\"71.5469\" id=\"E10\" rx=\"10\" ry=\"10\" style=\"stroke: #A80036; stroke-width: 1.5;\" width=\"103\" x=\"514.5\" y=\"97\"/><ellipse cx=\"529.5\" cy=\"115.9688\" fill=\"#FFA500\" rx=\"11\" ry=\"11\" style=\"stroke: #A80036; stroke-width: 1.0;\"/><path d=\"M529.25,121.4375 Q527.5,121.4375 526.5469,120.4063 Q525.6094,119.3594 525.6094,117.5156 L525.6094,110.625 L527.6719,110.625 L527.6719,110.7813 Q527.5781,110.875 527.5469,111.0156 Q527.5313,111.1406 527.5313,111.4063 L527.5313,117.5313 Q527.5313,118.625 527.9063,119.25 Q528.2813,119.875 529.2656,119.875 Q530.25,119.875 530.6406,119.25 Q531.0313,118.625 531.0313,117.4844 L531.0313,110.625 L532.9063,110.625 L532.9063,117.4688 Q532.9063,119.5 531.875,120.4688 Q530.8594,121.4375 529.25,121.4375 Z \"/><text fill=\"#000000\" font-family=\"sans-serif\" font-size=\"12\" font-style=\"italic\" lengthAdjust=\"spacingAndGlyphs\" textLength=\"75\" x=\"541.5\" y=\"113.1387\">«reference»</text><text fill=\"#000000\" font-family=\"sans-serif\" font-size=\"12\" lengthAdjust=\"spacingAndGlyphs\" textLength=\"8\" x=\"575\" y=\"127.1074\">q</text><line style=\"stroke: #A80036; stroke-width: 1.5;\" x1=\"515.5\" x2=\"616.5\" y1=\"134.9375\" y2=\"134.9375\"/><text fill=\"#000000\" font-family=\"sans-serif\" font-size=\"11\" lengthAdjust=\"spacingAndGlyphs\" textLength=\"23\" x=\"520.5\" y=\"149.1479\">b: B</text><text fill=\"#000000\" font-family=\"sans-serif\" font-size=\"11\" font-style=\"italic\" lengthAdjust=\"spacingAndGlyphs\" textLength=\"44\" x=\"520.5\" y=\"161.9526\">:&gt;&gt;P::a</text></a><g id=\"E1.E11\"><a href=\"psysml:e49f0805-0747-4902-8d4f-55ae479a1338\" target=\"_top\" title=\"psysml:e49f0805-0747-4902-8d4f-55ae479a1338\" xlink:actuate=\"onRequest\" xlink:href=\"psysml:e49f0805-0747-4902-8d4f-55ae479a1338\" xlink:show=\"new\" xlink:title=\"psysml:e49f0805-0747-4902-8d4f-55ae479a1338\" xlink:type=\"simple\"><rect fill=\"#FEFECE\" filter=\"url(#f13mazfchn8peb)\" height=\"40\" id=\"E11\" rx=\"10\" ry=\"10\" style=\"stroke: #A80036; stroke-width: 1.5;\" width=\"103\" x=\"32.5\" y=\"113\"/><ellipse cx=\"49.75\" cy=\"129\" fill=\"#B6DBBB\" rx=\"11\" ry=\"11\" style=\"stroke: #A80036; stroke-width: 1.0;\"/><path d=\"M49.5,134.4688 Q47.75,134.4688 46.7969,133.4375 Q45.8594,132.3906 45.8594,130.5469 L45.8594,123.6563 L47.9219,123.6563 L47.9219,123.8125 Q47.8281,123.9063 47.7969,124.0469 Q47.7813,124.1719 47.7813,124.4375 L47.7813,130.5625 Q47.7813,131.6563 48.1563,132.2813 Q48.5313,132.9063 49.5156,132.9063 Q50.5,132.9063 50.8906,132.2813 Q51.2813,131.6563 51.2813,130.5156 L51.2813,123.6563 L53.1563,123.6563 L53.1563,130.5 Q53.1563,132.5313 52.125,133.5 Q51.1094,134.4688 49.5,134.4688 Z \"/><text fill=\"#000000\" font-family=\"sans-serif\" font-size=\"12\" lengthAdjust=\"spacingAndGlyphs\" textLength=\"62\" x=\"64.25\" y=\"133.1543\">y: P= v::q;</text></a></g><!--MD5=[185131fc0dcab0a4505a2ebe144e961b]\n",
       "link E4 to E2--><a href=\"psysml:f79594a1-bc1c-4f37-98e7-b8999b5b3daa\" target=\"_top\" title=\"psysml:f79594a1-bc1c-4f37-98e7-b8999b5b3daa\" xlink:actuate=\"onRequest\" xlink:href=\"psysml:f79594a1-bc1c-4f37-98e7-b8999b5b3daa\" xlink:show=\"new\" xlink:title=\"psysml:f79594a1-bc1c-4f37-98e7-b8999b5b3daa\" xlink:type=\"simple\"><path d=\"M301.67,153.2 C309.25,168.62 321.33,190.22 336,206 C359.1,230.845 390.2275,252.7925 415.8838,268.6763 C428.7119,276.6181 440.1722,283.0441 448.5773,287.5583 C450.6786,288.6868 452.589,289.6959 454.282,290.5793 C454.4936,290.6897 454.7019,290.7982 454.9067,290.9047 \" fill=\"none\" id=\"E4-&gt;E2\" style=\"stroke: #A80036; stroke-width: 1.0;\"/><polygon fill=\"#FFFFFF\" points=\"454.9067,290.9047,441.2789,275.9286,434.82,288.3497,454.9067,290.9047\" style=\"stroke: #A80036; stroke-width: 1.0;\"/></a><!--MD5=[2351f337d6de0f557b50152ba70847b5]\n",
       "link E6 to E2--><a href=\"psysml:e72a8b47-cfcf-460f-abbe-f19ffcddd547\" target=\"_top\" title=\"psysml:e72a8b47-cfcf-460f-abbe-f19ffcddd547\" xlink:actuate=\"onRequest\" xlink:href=\"psysml:e72a8b47-cfcf-460f-abbe-f19ffcddd547\" xlink:show=\"new\" xlink:title=\"psysml:e72a8b47-cfcf-460f-abbe-f19ffcddd547\" xlink:type=\"simple\"><path d=\"M665.9013,162.0679 C665.8104,162.3026 665.7186,162.5379 665.6258,162.7737 C665.4404,163.2454 665.2514,163.7192 665.0587,164.195 C658.895,179.42 649.04,196.605 634,206 C605.5,223.8 508.9,192.59 483,214 C479.5388,216.8612 476.6225,220.2173 474.17,223.9065 C472.9438,225.751 471.8335,227.6788 470.829,229.6697 \" fill=\"none\" id=\"E6-&gt;E2\" style=\"stroke: #A80036; stroke-width: 1.0;\"/><polygon fill=\"#FFFFFF\" points=\"470.829,229.6697,485.6374,215.8599,473.1384,209.5534,470.829,229.6697\" style=\"stroke: #A80036; stroke-width: 1.0;\"/></a><!--MD5=[e6c5a4467c974ce60f78e1cc0e01fe06]\n",
       "@startuml\r\n",
       "skinparam ranksep 10\r\n",
       "skinparam rectangle {\r\n",
       " backgroundColor<<block>> LightGreen\r\n",
       "}\r\n",
       " \r\n",
       "package \"VariabilityTest\" as E1  [[psysml:6fd2d067-8ada-4ea8-9732-021f5438b424 ]]  {\r\n",
       "rec def \"P\" as E2 << << (B,green) >> [[psysml:06c5c105-f179-4f9c-9acd-25394b323f4d ]] {\r\n",
       "comp usage \"a\" as E3 << <<(U,orange) attribute>> [[psysml:8d9858c1-4f67-40c3-af33-b29377a1672a ]] {\r\n",
       "}\r\n",
       "}\r\n",
       "rec def \"Q\" as E4 << << (B,green) >> [[psysml:dc55669e-d547-41b4-94bf-d6c68c80b885 ]] {\r\n",
       "}\r\n",
       "def \"B\" as E5 << <<(D,brown) attribute def>> [[psysml:18777e48-4bd6-4ac5-98df-f6aab0b7358e ]] \r\n",
       "rec def \"V\" as E6 << << (B,green) >> [[psysml:b19cdb52-b52e-4af3-afe9-4ea29743154a ]] {\r\n",
       "comp usage \"x: Q\" as E7  [[psysml:a2bd922e-3e40-42bd-80e3-ecb5a548758e ]] {\r\n",
       "b: B\\n//:>>P::a// \r\n",
       "}\r\n",
       "}\r\n",
       "rec usage \"q: Q\" as E8  [[psysml:84f1cc81-1e5a-4a4b-9822-237c593dc1ed ]] {\r\n",
       "}\r\n",
       "rec usage \"v: P\" as E9  [[psysml:d9c8c4c9-730a-472e-ad5c-9ed2548fca6c ]] {\r\n",
       "comp usage \"q\" as E10 << <<(U,orange) reference>> [[psysml:29b56154-ee98-4bdd-852f-875051132018 ]] {\r\n",
       "b: B\\n//:>>P::a// \r\n",
       "}\r\n",
       "}\r\n",
       "rec usage \"y: P= v::q; \" as E11  [[psysml:e49f0805-0747-4902-8d4f-55ae479a1338 ]] {\r\n",
       "}\r\n",
       "}\r\n",
       "E4 - -|> E2 [[psysml:f79594a1-bc1c-4f37-98e7-b8999b5b3daa ]] \r\n",
       "E6 - -|> E2 [[psysml:e72a8b47-cfcf-460f-abbe-f19ffcddd547 ]] \r\n",
       "@enduml\r\n",
       "\n",
       "PlantUML version 1.2020.13(Sat Jun 13 12:26:38 UTC 2020)\n",
       "(EPL source distribution)\n",
       "Java Runtime: OpenJDK Runtime Environment\n",
       "JVM: OpenJDK 64-Bit Server VM\n",
       "Default Encoding: UTF-8\n",
       "Language: en\n",
       "Country: null\n",
       "--></g></svg>"
      ]
     },
     "execution_count": 33,
     "metadata": {},
     "output_type": "execute_result"
    }
   ],
   "source": [
    "%viz --style=\"PLANTUML\" --view=\"Interconnection\" \"VariabilityTest\""
   ]
  },
  {
   "cell_type": "code",
   "execution_count": 34,
   "id": "5d05a602",
   "metadata": {
    "execution": {
     "iopub.execute_input": "2021-10-03T08:28:17.124297Z",
     "iopub.status.busy": "2021-10-03T08:28:17.123894Z",
     "iopub.status.idle": "2021-10-03T08:28:17.128486Z",
     "shell.execute_reply": "2021-10-03T08:28:17.128777Z"
    }
   },
   "outputs": [
    {
     "data": {
      "image/svg+xml": [
       "<?xml version=\"1.0\" encoding=\"UTF-8\" standalone=\"no\"?><svg xmlns=\"http://www.w3.org/2000/svg\" xmlns:xlink=\"http://www.w3.org/1999/xlink\" contentScriptType=\"application/ecmascript\" contentStyleType=\"text/css\" height=\"12px\" preserveAspectRatio=\"none\" style=\"width:12px;height:12px;\" version=\"1.1\" viewBox=\"0 0 12 12\" width=\"12px\" zoomAndPan=\"magnify\"><defs/><g><!--MD5=[6a4cb978cab31700e1ce5529f947a75d]\n",
       "@startuml\r\n",
       "skinparam ranksep 8\r\n",
       " \r\n",
       "@enduml\r\n",
       "\n",
       "PlantUML version 1.2020.13(Sat Jun 13 12:26:38 UTC 2020)\n",
       "(EPL source distribution)\n",
       "Java Runtime: OpenJDK Runtime Environment\n",
       "JVM: OpenJDK 64-Bit Server VM\n",
       "Default Encoding: UTF-8\n",
       "Language: en\n",
       "Country: null\n",
       "--></g></svg>"
      ]
     },
     "execution_count": 34,
     "metadata": {},
     "output_type": "execute_result"
    }
   ],
   "source": [
    "%viz --style=\"PLANTUML\" --view=\"Action\" \"VariabilityTest\""
   ]
  },
  {
   "cell_type": "code",
   "execution_count": 35,
   "id": "57f53ae8",
   "metadata": {
    "execution": {
     "iopub.execute_input": "2021-10-03T08:28:17.178221Z",
     "iopub.status.busy": "2021-10-03T08:28:17.177824Z",
     "iopub.status.idle": "2021-10-03T08:28:17.183095Z",
     "shell.execute_reply": "2021-10-03T08:28:17.183412Z"
    }
   },
   "outputs": [
    {
     "data": {
      "image/svg+xml": [
       "<?xml version=\"1.0\" encoding=\"UTF-8\" standalone=\"no\"?><svg xmlns=\"http://www.w3.org/2000/svg\" xmlns:xlink=\"http://www.w3.org/1999/xlink\" contentScriptType=\"application/ecmascript\" contentStyleType=\"text/css\" height=\"12px\" preserveAspectRatio=\"none\" style=\"width:12px;height:12px;\" version=\"1.1\" viewBox=\"0 0 12 12\" width=\"12px\" zoomAndPan=\"magnify\"><defs/><g><!--MD5=[ca4faa0b02def275ea33c14ea7a1a98d]\n",
       "@startuml\r\n",
       "skinparam roundcorner 20\r\n",
       "skinparam BoxPadding 20\r\n",
       "skinparam SequenceBoxBackgroundColor #white\r\n",
       "skinparam style strictuml\r\n",
       "skinparam maxMessageSize 100\r\n",
       " \r\n",
       "@enduml\r\n",
       "\n",
       "PlantUML version 1.2020.13(Sat Jun 13 12:26:38 UTC 2020)\n",
       "(EPL source distribution)\n",
       "Java Runtime: OpenJDK Runtime Environment\n",
       "JVM: OpenJDK 64-Bit Server VM\n",
       "Default Encoding: UTF-8\n",
       "Language: en\n",
       "Country: null\n",
       "--></g></svg>"
      ]
     },
     "execution_count": 35,
     "metadata": {},
     "output_type": "execute_result"
    }
   ],
   "source": [
    "%viz --style=\"PLANTUML\" --view=\"Sequence\" \"VariabilityTest\""
   ]
  },
  {
   "cell_type": "code",
   "execution_count": 36,
   "id": "30e4b406",
   "metadata": {
    "execution": {
     "iopub.execute_input": "2021-10-03T08:28:17.232499Z",
     "iopub.status.busy": "2021-10-03T08:28:17.232101Z",
     "iopub.status.idle": "2021-10-03T08:28:17.294191Z",
     "shell.execute_reply": "2021-10-03T08:28:17.291393Z"
    }
   },
   "outputs": [
    {
     "data": {
      "image/svg+xml": [
       "<?xml version=\"1.0\" encoding=\"UTF-8\" standalone=\"no\"?><svg xmlns=\"http://www.w3.org/2000/svg\" xmlns:xlink=\"http://www.w3.org/1999/xlink\" contentScriptType=\"application/ecmascript\" contentStyleType=\"text/css\" height=\"385px\" preserveAspectRatio=\"none\" style=\"width:421px;height:385px;\" version=\"1.1\" viewBox=\"0 0 421 385\" width=\"421px\" zoomAndPan=\"magnify\"><defs><filter height=\"300%\" id=\"f1829ed4j6fzkp\" width=\"300%\" x=\"-1\" y=\"-1\"><feGaussianBlur result=\"blurOut\" stdDeviation=\"2.0\"/><feColorMatrix in=\"blurOut\" result=\"blurOut2\" type=\"matrix\" values=\"0 0 0 0 0 0 0 0 0 0 0 0 0 0 0 0 0 0 .4 0\"/><feOffset dx=\"4.0\" dy=\"4.0\" in=\"blurOut2\" result=\"blurOut3\"/><feBlend in=\"SourceGraphic\" in2=\"blurOut3\" mode=\"normal\"/></filter></defs><g><!--MD5=[fbc87193dbaf4d95561dea2c320d4a47]\n",
       "cluster E1--><a href=\"psysml:6fd2d067-8ada-4ea8-9732-021f5438b424\" target=\"_top\" title=\"psysml:6fd2d067-8ada-4ea8-9732-021f5438b424\" xlink:actuate=\"onRequest\" xlink:href=\"psysml:6fd2d067-8ada-4ea8-9732-021f5438b424\" xlink:show=\"new\" xlink:title=\"psysml:6fd2d067-8ada-4ea8-9732-021f5438b424\" xlink:type=\"simple\"><polygon fill=\"#FFFFFF\" filter=\"url(#f1829ed4j6fzkp)\" points=\"16,6,116,6,123,28.2969,399,28.2969,399,373,16,373,16,6\" style=\"stroke: #000000; stroke-width: 1.5;\"/><line style=\"stroke: #000000; stroke-width: 1.5;\" x1=\"16\" x2=\"123\" y1=\"28.2969\" y2=\"28.2969\"/><text fill=\"#000000\" font-family=\"sans-serif\" font-size=\"14\" font-weight=\"bold\" lengthAdjust=\"spacingAndGlyphs\" textLength=\"94\" x=\"20\" y=\"20.9951\">VariabilityTest</text></a><!--MD5=[b4997ac47864f28c2f74865a473b2911]\n",
       "class E2--><a href=\"psysml:06c5c105-f179-4f9c-9acd-25394b323f4d\" target=\"_top\" title=\"psysml:06c5c105-f179-4f9c-9acd-25394b323f4d\" xlink:actuate=\"onRequest\" xlink:href=\"psysml:06c5c105-f179-4f9c-9acd-25394b323f4d\" xlink:show=\"new\" xlink:title=\"psysml:06c5c105-f179-4f9c-9acd-25394b323f4d\" xlink:type=\"simple\"><rect fill=\"#FEFECE\" filter=\"url(#f1829ed4j6fzkp)\" height=\"52.8047\" id=\"E2\" style=\"stroke: #A80036; stroke-width: 1.5;\" width=\"40\" x=\"192\" y=\"294.5\"/><ellipse cx=\"207\" cy=\"310.5\" fill=\"#008000\" rx=\"11\" ry=\"11\" style=\"stroke: #A80036; stroke-width: 1.0;\"/><path d=\"M203.875,315.5 L203.875,304.9063 L207.1094,304.9063 Q209.0156,304.9063 209.9219,305.6563 Q210.8438,306.4063 210.8438,307.5781 Q210.8438,308.2656 210.4531,308.9219 Q210.0781,309.5781 209.3594,309.875 Q210.2188,310.25 210.7344,310.9375 Q211.25,311.625 211.25,312.4375 Q211.25,313.8125 210.2188,314.6563 Q209.2031,315.5 207.0938,315.5 L203.875,315.5 Z M205.7969,309.1406 L206.9531,309.1406 Q208.0781,309.1406 208.4844,308.7656 Q208.9063,308.375 208.9063,307.75 Q208.9063,307.1719 208.4844,306.8125 Q208.0625,306.4531 207.125,306.4531 L205.7969,306.4531 L205.7969,309.1406 Z M205.7969,313.9219 L207.2969,313.9219 Q208.2031,313.9219 208.7344,313.5313 Q209.2656,313.1406 209.2656,312.3906 Q209.2656,311.625 208.7656,311.1563 Q208.2656,310.6719 207,310.6719 L205.7969,310.6719 L205.7969,313.9219 Z \"/><text fill=\"#000000\" font-family=\"sans-serif\" font-size=\"12\" lengthAdjust=\"spacingAndGlyphs\" textLength=\"8\" x=\"221\" y=\"314.6543\">P</text><line style=\"stroke: #A80036; stroke-width: 1.5;\" x1=\"193\" x2=\"231\" y1=\"326.5\" y2=\"326.5\"/><text fill=\"#000000\" font-family=\"sans-serif\" font-size=\"11\" lengthAdjust=\"spacingAndGlyphs\" textLength=\"7\" x=\"198\" y=\"340.7104\">a</text></a><!--MD5=[09b614a08d8cba4a07c9adeb5e0fee81]\n",
       "class E3--><a href=\"psysml:dc55669e-d547-41b4-94bf-d6c68c80b885\" target=\"_top\" title=\"psysml:dc55669e-d547-41b4-94bf-d6c68c80b885\" xlink:actuate=\"onRequest\" xlink:href=\"psysml:dc55669e-d547-41b4-94bf-d6c68c80b885\" xlink:show=\"new\" xlink:title=\"psysml:dc55669e-d547-41b4-94bf-d6c68c80b885\" xlink:type=\"simple\"><rect fill=\"#FEFECE\" filter=\"url(#f1829ed4j6fzkp)\" height=\"40\" id=\"E3\" style=\"stroke: #A80036; stroke-width: 1.5;\" width=\"41\" x=\"163.5\" y=\"158\"/><ellipse cx=\"178.5\" cy=\"174\" fill=\"#008000\" rx=\"11\" ry=\"11\" style=\"stroke: #A80036; stroke-width: 1.0;\"/><path d=\"M175.375,179 L175.375,168.4063 L178.6094,168.4063 Q180.5156,168.4063 181.4219,169.1563 Q182.3438,169.9063 182.3438,171.0781 Q182.3438,171.7656 181.9531,172.4219 Q181.5781,173.0781 180.8594,173.375 Q181.7188,173.75 182.2344,174.4375 Q182.75,175.125 182.75,175.9375 Q182.75,177.3125 181.7188,178.1563 Q180.7031,179 178.5938,179 L175.375,179 Z M177.2969,172.6406 L178.4531,172.6406 Q179.5781,172.6406 179.9844,172.2656 Q180.4063,171.875 180.4063,171.25 Q180.4063,170.6719 179.9844,170.3125 Q179.5625,169.9531 178.625,169.9531 L177.2969,169.9531 L177.2969,172.6406 Z M177.2969,177.4219 L178.7969,177.4219 Q179.7031,177.4219 180.2344,177.0313 Q180.7656,176.6406 180.7656,175.8906 Q180.7656,175.125 180.2656,174.6563 Q179.7656,174.1719 178.5,174.1719 L177.2969,174.1719 L177.2969,177.4219 Z \"/><text fill=\"#000000\" font-family=\"sans-serif\" font-size=\"12\" lengthAdjust=\"spacingAndGlyphs\" textLength=\"9\" x=\"192.5\" y=\"178.1543\">Q</text><line style=\"stroke: #A80036; stroke-width: 1.5;\" x1=\"164.5\" x2=\"203.5\" y1=\"190\" y2=\"190\"/></a><!--MD5=[ebbe1d658d1005bcc118a6aa81145e00]\n",
       "class E4--><a href=\"psysml:18777e48-4bd6-4ac5-98df-f6aab0b7358e\" target=\"_top\" title=\"psysml:18777e48-4bd6-4ac5-98df-f6aab0b7358e\" xlink:actuate=\"onRequest\" xlink:href=\"psysml:18777e48-4bd6-4ac5-98df-f6aab0b7358e\" xlink:show=\"new\" xlink:title=\"psysml:18777e48-4bd6-4ac5-98df-f6aab0b7358e\" xlink:type=\"simple\"><rect fill=\"#FEFECE\" filter=\"url(#f1829ed4j6fzkp)\" height=\"45.9375\" id=\"E4\" style=\"stroke: #A80036; stroke-width: 1.5;\" width=\"121\" x=\"257.5\" y=\"41\"/><ellipse cx=\"272.5\" cy=\"59.9688\" fill=\"#A52A2A\" rx=\"11\" ry=\"11\" style=\"stroke: #A80036; stroke-width: 1.0;\"/><path d=\"M269.7188,64.9688 L269.7188,54.375 L272.4531,54.375 Q273.8438,54.375 274.6094,54.7656 Q275.3906,55.1406 275.9219,55.8438 Q276.4531,56.5469 276.75,57.5469 Q277.0469,58.5313 277.0469,59.75 Q277,61.3438 276.5,62.5313 Q276.0156,63.7031 274.9688,64.3438 Q273.9375,64.9688 272.25,64.9688 L269.7188,64.9688 Z M271.5781,63.4688 L272.2031,63.4688 Q273.2813,63.4688 273.9375,63.0156 Q274.5938,62.5625 274.875,61.7344 Q275.1719,60.8906 275.1563,59.7656 Q275.1563,58.5938 274.9063,57.7344 Q274.6563,56.8594 274.0469,56.3906 Q273.4375,55.9063 272.3906,55.9063 L271.5781,55.9063 L271.5781,63.4688 Z \"/><text fill=\"#000000\" font-family=\"sans-serif\" font-size=\"12\" font-style=\"italic\" lengthAdjust=\"spacingAndGlyphs\" textLength=\"93\" x=\"284.5\" y=\"57.1387\">«attribute def»</text><text fill=\"#000000\" font-family=\"sans-serif\" font-size=\"12\" lengthAdjust=\"spacingAndGlyphs\" textLength=\"8\" x=\"327\" y=\"71.1074\">B</text><line style=\"stroke: #A80036; stroke-width: 1.5;\" x1=\"258.5\" x2=\"377.5\" y1=\"78.9375\" y2=\"78.9375\"/></a><!--MD5=[270fce915f116d4de14055a7c1d9a0f3]\n",
       "class E5--><a href=\"psysml:b19cdb52-b52e-4af3-afe9-4ea29743154a\" target=\"_top\" title=\"psysml:b19cdb52-b52e-4af3-afe9-4ea29743154a\" xlink:actuate=\"onRequest\" xlink:href=\"psysml:b19cdb52-b52e-4af3-afe9-4ea29743154a\" xlink:show=\"new\" xlink:title=\"psysml:b19cdb52-b52e-4af3-afe9-4ea29743154a\" xlink:type=\"simple\"><rect fill=\"#FEFECE\" filter=\"url(#f1829ed4j6fzkp)\" height=\"40\" id=\"E5\" style=\"stroke: #A80036; stroke-width: 1.5;\" width=\"40\" x=\"343\" y=\"158\"/><ellipse cx=\"358\" cy=\"174\" fill=\"#008000\" rx=\"11\" ry=\"11\" style=\"stroke: #A80036; stroke-width: 1.0;\"/><path d=\"M354.875,179 L354.875,168.4063 L358.1094,168.4063 Q360.0156,168.4063 360.9219,169.1563 Q361.8438,169.9063 361.8438,171.0781 Q361.8438,171.7656 361.4531,172.4219 Q361.0781,173.0781 360.3594,173.375 Q361.2188,173.75 361.7344,174.4375 Q362.25,175.125 362.25,175.9375 Q362.25,177.3125 361.2188,178.1563 Q360.2031,179 358.0938,179 L354.875,179 Z M356.7969,172.6406 L357.9531,172.6406 Q359.0781,172.6406 359.4844,172.2656 Q359.9063,171.875 359.9063,171.25 Q359.9063,170.6719 359.4844,170.3125 Q359.0625,169.9531 358.125,169.9531 L356.7969,169.9531 L356.7969,172.6406 Z M356.7969,177.4219 L358.2969,177.4219 Q359.2031,177.4219 359.7344,177.0313 Q360.2656,176.6406 360.2656,175.8906 Q360.2656,175.125 359.7656,174.6563 Q359.2656,174.1719 358,174.1719 L356.7969,174.1719 L356.7969,177.4219 Z \"/><text fill=\"#000000\" font-family=\"sans-serif\" font-size=\"12\" lengthAdjust=\"spacingAndGlyphs\" textLength=\"8\" x=\"372\" y=\"178.1543\">V</text><line style=\"stroke: #A80036; stroke-width: 1.5;\" x1=\"344\" x2=\"382\" y1=\"190\" y2=\"190\"/></a><!--MD5=[60a26617385b1d2d0262a64233df1f8d]\n",
       "class E6--><a href=\"psysml:a2bd922e-3e40-42bd-80e3-ecb5a548758e\" target=\"_top\" title=\"psysml:a2bd922e-3e40-42bd-80e3-ecb5a548758e\" xlink:actuate=\"onRequest\" xlink:href=\"psysml:a2bd922e-3e40-42bd-80e3-ecb5a548758e\" xlink:show=\"new\" xlink:title=\"psysml:a2bd922e-3e40-42bd-80e3-ecb5a548758e\" xlink:type=\"simple\"><rect fill=\"#FEFECE\" filter=\"url(#f1829ed4j6fzkp)\" height=\"71.5469\" id=\"E6\" rx=\"10\" ry=\"10\" style=\"stroke: #A80036; stroke-width: 1.5;\" width=\"68\" x=\"287\" y=\"285\"/><ellipse cx=\"302\" cy=\"303.9688\" fill=\"#32CD32\" rx=\"11\" ry=\"11\" style=\"stroke: #A80036; stroke-width: 1.0;\"/><path d=\"M298.8125,308.9688 L298.8125,298.375 L302.4219,298.375 Q303.6406,298.375 304.4375,298.8125 Q305.2344,299.2344 305.6094,299.9375 Q306,300.6406 306,301.4844 Q306,302.3281 305.625,303.0156 Q305.2656,303.7031 304.4688,304.125 Q303.6875,304.5313 302.5,304.5313 L300.7656,304.5313 L300.7656,308.9688 L298.8125,308.9688 Z M300.7656,302.9375 L302.375,302.9375 Q303.1875,302.9375 303.6094,302.5313 Q304.0313,302.125 304.0313,301.4844 Q304.0313,300.8594 303.6094,300.4531 Q303.1875,300.0469 302.3906,300.0469 L300.7656,300.0469 L300.7656,302.9375 Z \"/><text fill=\"#000000\" font-family=\"sans-serif\" font-size=\"12\" font-style=\"italic\" lengthAdjust=\"spacingAndGlyphs\" textLength=\"40\" x=\"314\" y=\"301.1387\">«part»</text><text fill=\"#000000\" font-family=\"sans-serif\" font-size=\"12\" lengthAdjust=\"spacingAndGlyphs\" textLength=\"23\" x=\"322.5\" y=\"315.1074\">x: Q</text><line style=\"stroke: #A80036; stroke-width: 1.5;\" x1=\"288\" x2=\"354\" y1=\"322.9375\" y2=\"322.9375\"/><text fill=\"#000000\" font-family=\"sans-serif\" font-size=\"11\" lengthAdjust=\"spacingAndGlyphs\" textLength=\"23\" x=\"293\" y=\"337.1479\">b: B</text><text fill=\"#000000\" font-family=\"sans-serif\" font-size=\"11\" font-style=\"italic\" lengthAdjust=\"spacingAndGlyphs\" textLength=\"44\" x=\"293\" y=\"349.9526\">:&gt;&gt;P::a</text></a><!--MD5=[2156ba9850f5573cc1fc38a6a4b2f02b]\n",
       "class E7--><a href=\"psysml:84f1cc81-1e5a-4a4b-9822-237c593dc1ed\" target=\"_top\" title=\"psysml:84f1cc81-1e5a-4a4b-9822-237c593dc1ed\" xlink:actuate=\"onRequest\" xlink:href=\"psysml:84f1cc81-1e5a-4a4b-9822-237c593dc1ed\" xlink:show=\"new\" xlink:title=\"psysml:84f1cc81-1e5a-4a4b-9822-237c593dc1ed\" xlink:type=\"simple\"><rect fill=\"#FEFECE\" filter=\"url(#f1829ed4j6fzkp)\" height=\"45.9375\" id=\"E7\" rx=\"10\" ry=\"10\" style=\"stroke: #A80036; stroke-width: 1.5;\" width=\"68\" x=\"150\" y=\"41\"/><ellipse cx=\"165\" cy=\"59.9688\" fill=\"#32CD32\" rx=\"11\" ry=\"11\" style=\"stroke: #A80036; stroke-width: 1.0;\"/><path d=\"M161.8125,64.9688 L161.8125,54.375 L165.4219,54.375 Q166.6406,54.375 167.4375,54.8125 Q168.2344,55.2344 168.6094,55.9375 Q169,56.6406 169,57.4844 Q169,58.3281 168.625,59.0156 Q168.2656,59.7031 167.4688,60.125 Q166.6875,60.5313 165.5,60.5313 L163.7656,60.5313 L163.7656,64.9688 L161.8125,64.9688 Z M163.7656,58.9375 L165.375,58.9375 Q166.1875,58.9375 166.6094,58.5313 Q167.0313,58.125 167.0313,57.4844 Q167.0313,56.8594 166.6094,56.4531 Q166.1875,56.0469 165.3906,56.0469 L163.7656,56.0469 L163.7656,58.9375 Z \"/><text fill=\"#000000\" font-family=\"sans-serif\" font-size=\"12\" font-style=\"italic\" lengthAdjust=\"spacingAndGlyphs\" textLength=\"40\" x=\"177\" y=\"57.1387\">«part»</text><text fill=\"#000000\" font-family=\"sans-serif\" font-size=\"12\" lengthAdjust=\"spacingAndGlyphs\" textLength=\"25\" x=\"184.5\" y=\"71.1074\">q: Q</text><line style=\"stroke: #A80036; stroke-width: 1.5;\" x1=\"151\" x2=\"217\" y1=\"78.9375\" y2=\"78.9375\"/></a><!--MD5=[b9389687b975829384b498ac4b7476b2]\n",
       "class E8--><a href=\"psysml:d9c8c4c9-730a-472e-ad5c-9ed2548fca6c\" target=\"_top\" title=\"psysml:d9c8c4c9-730a-472e-ad5c-9ed2548fca6c\" xlink:actuate=\"onRequest\" xlink:href=\"psysml:d9c8c4c9-730a-472e-ad5c-9ed2548fca6c\" xlink:show=\"new\" xlink:title=\"psysml:d9c8c4c9-730a-472e-ad5c-9ed2548fca6c\" xlink:type=\"simple\"><rect fill=\"#FEFECE\" filter=\"url(#f1829ed4j6fzkp)\" height=\"59.9063\" id=\"E8\" rx=\"10\" ry=\"10\" style=\"stroke: #A80036; stroke-width: 1.5;\" width=\"96\" x=\"32\" y=\"148\"/><ellipse cx=\"47\" cy=\"173.9531\" fill=\"#32CD32\" rx=\"11\" ry=\"11\" style=\"stroke: #A80036; stroke-width: 1.0;\"/><path d=\"M43.8125,178.9531 L43.8125,168.3594 L47.4219,168.3594 Q48.6406,168.3594 49.4375,168.7969 Q50.2344,169.2188 50.6094,169.9219 Q51,170.625 51,171.4688 Q51,172.3125 50.625,173 Q50.2656,173.6875 49.4688,174.1094 Q48.6875,174.5156 47.5,174.5156 L45.7656,174.5156 L45.7656,178.9531 L43.8125,178.9531 Z M45.7656,172.9219 L47.375,172.9219 Q48.1875,172.9219 48.6094,172.5156 Q49.0313,172.1094 49.0313,171.4688 Q49.0313,170.8438 48.6094,170.4375 Q48.1875,170.0313 47.3906,170.0313 L45.7656,170.0313 L45.7656,172.9219 Z \"/><text fill=\"#000000\" font-family=\"sans-serif\" font-size=\"12\" font-style=\"italic\" lengthAdjust=\"spacingAndGlyphs\" textLength=\"68\" x=\"59\" y=\"164.1387\">«variation»</text><text fill=\"#000000\" font-family=\"sans-serif\" font-size=\"12\" font-style=\"italic\" lengthAdjust=\"spacingAndGlyphs\" textLength=\"40\" x=\"73\" y=\"178.1074\">«part»</text><text fill=\"#000000\" font-family=\"sans-serif\" font-size=\"12\" lengthAdjust=\"spacingAndGlyphs\" textLength=\"22\" x=\"82\" y=\"192.0762\">v: P</text><line style=\"stroke: #A80036; stroke-width: 1.5;\" x1=\"33\" x2=\"127\" y1=\"199.9063\" y2=\"199.9063\"/></a><!--MD5=[fd4143e9d270a159db93a4ea2a975926]\n",
       "class E9--><a href=\"psysml:29b56154-ee98-4bdd-852f-875051132018\" target=\"_top\" title=\"psysml:29b56154-ee98-4bdd-852f-875051132018\" xlink:actuate=\"onRequest\" xlink:href=\"psysml:29b56154-ee98-4bdd-852f-875051132018\" xlink:show=\"new\" xlink:title=\"psysml:29b56154-ee98-4bdd-852f-875051132018\" xlink:type=\"simple\"><rect fill=\"#FEFECE\" filter=\"url(#f1829ed4j6fzkp)\" height=\"71.5469\" id=\"E9\" rx=\"10\" ry=\"10\" style=\"stroke: #A80036; stroke-width: 1.5;\" width=\"103\" x=\"32.5\" y=\"285\"/><ellipse cx=\"47.5\" cy=\"303.9688\" fill=\"#FFA500\" rx=\"11\" ry=\"11\" style=\"stroke: #A80036; stroke-width: 1.0;\"/><path d=\"M47.25,309.4375 Q45.5,309.4375 44.5469,308.4063 Q43.6094,307.3594 43.6094,305.5156 L43.6094,298.625 L45.6719,298.625 L45.6719,298.7813 Q45.5781,298.875 45.5469,299.0156 Q45.5313,299.1406 45.5313,299.4063 L45.5313,305.5313 Q45.5313,306.625 45.9063,307.25 Q46.2813,307.875 47.2656,307.875 Q48.25,307.875 48.6406,307.25 Q49.0313,306.625 49.0313,305.4844 L49.0313,298.625 L50.9063,298.625 L50.9063,305.4688 Q50.9063,307.5 49.875,308.4688 Q48.8594,309.4375 47.25,309.4375 Z \"/><text fill=\"#000000\" font-family=\"sans-serif\" font-size=\"12\" font-style=\"italic\" lengthAdjust=\"spacingAndGlyphs\" textLength=\"75\" x=\"59.5\" y=\"301.1387\">«reference»</text><text fill=\"#000000\" font-family=\"sans-serif\" font-size=\"12\" lengthAdjust=\"spacingAndGlyphs\" textLength=\"8\" x=\"93\" y=\"315.1074\">q</text><line style=\"stroke: #A80036; stroke-width: 1.5;\" x1=\"33.5\" x2=\"134.5\" y1=\"322.9375\" y2=\"322.9375\"/><text fill=\"#000000\" font-family=\"sans-serif\" font-size=\"11\" lengthAdjust=\"spacingAndGlyphs\" textLength=\"23\" x=\"38.5\" y=\"337.1479\">b: B</text><text fill=\"#000000\" font-family=\"sans-serif\" font-size=\"11\" font-style=\"italic\" lengthAdjust=\"spacingAndGlyphs\" textLength=\"44\" x=\"38.5\" y=\"349.9526\">:&gt;&gt;P::a</text></a><!--MD5=[96f4274e9e20536e775497830990834d]\n",
       "class E10--><a href=\"psysml:e49f0805-0747-4902-8d4f-55ae479a1338\" target=\"_top\" title=\"psysml:e49f0805-0747-4902-8d4f-55ae479a1338\" xlink:actuate=\"onRequest\" xlink:href=\"psysml:e49f0805-0747-4902-8d4f-55ae479a1338\" xlink:show=\"new\" xlink:title=\"psysml:e49f0805-0747-4902-8d4f-55ae479a1338\" xlink:type=\"simple\"><rect fill=\"#FEFECE\" filter=\"url(#f1829ed4j6fzkp)\" height=\"45.9375\" id=\"E10\" rx=\"10\" ry=\"10\" style=\"stroke: #A80036; stroke-width: 1.5;\" width=\"68\" x=\"240\" y=\"155\"/><ellipse cx=\"255\" cy=\"173.9688\" fill=\"#32CD32\" rx=\"11\" ry=\"11\" style=\"stroke: #A80036; stroke-width: 1.0;\"/><path d=\"M251.8125,178.9688 L251.8125,168.375 L255.4219,168.375 Q256.6406,168.375 257.4375,168.8125 Q258.2344,169.2344 258.6094,169.9375 Q259,170.6406 259,171.4844 Q259,172.3281 258.625,173.0156 Q258.2656,173.7031 257.4688,174.125 Q256.6875,174.5313 255.5,174.5313 L253.7656,174.5313 L253.7656,178.9688 L251.8125,178.9688 Z M253.7656,172.9375 L255.375,172.9375 Q256.1875,172.9375 256.6094,172.5313 Q257.0313,172.125 257.0313,171.4844 Q257.0313,170.8594 256.6094,170.4531 Q256.1875,170.0469 255.3906,170.0469 L253.7656,170.0469 L253.7656,172.9375 Z \"/><text fill=\"#000000\" font-family=\"sans-serif\" font-size=\"12\" font-style=\"italic\" lengthAdjust=\"spacingAndGlyphs\" textLength=\"40\" x=\"267\" y=\"171.1387\">«part»</text><text fill=\"#000000\" font-family=\"sans-serif\" font-size=\"12\" lengthAdjust=\"spacingAndGlyphs\" textLength=\"22\" x=\"276\" y=\"185.1074\">y: P</text><line style=\"stroke: #A80036; stroke-width: 1.5;\" x1=\"241\" x2=\"307\" y1=\"192.9375\" y2=\"192.9375\"/></a><!--MD5=[05d275557350bfb9b23a4ef7222b4c39]\n",
       "link E3 to E2--><a href=\"psysml:f79594a1-bc1c-4f37-98e7-b8999b5b3daa\" target=\"_top\" title=\"psysml:f79594a1-bc1c-4f37-98e7-b8999b5b3daa\" xlink:actuate=\"onRequest\" xlink:href=\"psysml:f79594a1-bc1c-4f37-98e7-b8999b5b3daa\" xlink:show=\"new\" xlink:title=\"psysml:f79594a1-bc1c-4f37-98e7-b8999b5b3daa\" xlink:type=\"simple\"><path d=\"M187.78,198.02 C191.66,217.55 197.84,248.68 202.99,274.61 \" fill=\"none\" id=\"E3-&gt;E2\" style=\"stroke: #A80036; stroke-width: 1.0;\"/><polygon fill=\"none\" points=\"209.88,273.39,206.91,294.37,196.15,276.12,209.88,273.39\" style=\"stroke: #A80036; stroke-width: 1.0;\"/></a><!--MD5=[15ebcb19ae302d9b601edb458606d402]\n",
       "link E5 to E2--><a href=\"psysml:e72a8b47-cfcf-460f-abbe-f19ffcddd547\" target=\"_top\" title=\"psysml:e72a8b47-cfcf-460f-abbe-f19ffcddd547\" xlink:actuate=\"onRequest\" xlink:href=\"psysml:e72a8b47-cfcf-460f-abbe-f19ffcddd547\" xlink:show=\"new\" xlink:title=\"psysml:e72a8b47-cfcf-460f-abbe-f19ffcddd547\" xlink:type=\"simple\"><path d=\"M342.95,197.72 C318.47,220.58 276.65,259.63 246.86,287.45 \" fill=\"none\" id=\"E5-&gt;E2\" style=\"stroke: #A80036; stroke-width: 1.0;\"/><polygon fill=\"none\" points=\"251.53,292.67,232.13,301.2,241.98,282.43,251.53,292.67\" style=\"stroke: #A80036; stroke-width: 1.0;\"/></a><!--MD5=[9120cf2e5df3bff93db8f754bbbc09b4]\n",
       "link E5 to E6--><a href=\"psysml:d1158e90-c200-41a0-bff8-4b2e6825fa74\" target=\"_top\" title=\"psysml:d1158e90-c200-41a0-bff8-4b2e6825fa74\" xlink:actuate=\"onRequest\" xlink:href=\"psysml:d1158e90-c200-41a0-bff8-4b2e6825fa74\" xlink:show=\"new\" xlink:title=\"psysml:d1158e90-c200-41a0-bff8-4b2e6825fa74\" xlink:type=\"simple\"><path d=\"M354.4,207.89 C348.64,227.2 340.95,253.01 334.41,274.99 \" fill=\"none\" id=\"E5-E6\" style=\"stroke: #A80036; stroke-width: 1.0;\"/><polygon fill=\"#A80036\" points=\"331.49,284.79,336.6502,277.9802,330.9001,276.2664,331.49,284.79\" style=\"stroke: #A80036; stroke-width: 1.0;\"/><path d=\"M348.3559,198.5542 A9,9 0 0 0 364.5656 203.3857\" fill=\"none\" style=\"stroke: #A80036; stroke-width: 1.5;\"/><text fill=\"#000000\" font-family=\"sans-serif\" font-size=\"13\" lengthAdjust=\"spacingAndGlyphs\" textLength=\"60\" x=\"345\" y=\"251.0669\">«variant»</text></a><!--MD5=[14ccda38c055a5c0da953d572bc50960]\n",
       "link E7 to E3--><a href=\"psysml:df5a11ab-14bd-474c-9e9f-2e0517640249\" target=\"_top\" title=\"psysml:df5a11ab-14bd-474c-9e9f-2e0517640249\" xlink:actuate=\"onRequest\" xlink:href=\"psysml:df5a11ab-14bd-474c-9e9f-2e0517640249\" xlink:show=\"new\" xlink:title=\"psysml:df5a11ab-14bd-474c-9e9f-2e0517640249\" xlink:type=\"simple\"><path d=\"M184,87.13 C184,101.57 184,120.83 184,137.81 \" fill=\"none\" id=\"E7-&gt;E3\" style=\"stroke: #A80036; stroke-width: 1.0;\"/><polygon fill=\"#FFFFFF\" points=\"184,157.9,177,138.9,191,138.9,184,157.9\" style=\"stroke: #A80036; stroke-width: 1.0;\"/><ellipse cx=\"179\" cy=\"133.2\" fill=\"#A80036\" rx=\"2\" ry=\"2\" style=\"stroke: #A80036; stroke-width: 1.0;\"/><ellipse cx=\"189\" cy=\"133.2\" fill=\"#A80036\" rx=\"2\" ry=\"2\" style=\"stroke: #A80036; stroke-width: 1.0;\"/></a><!--MD5=[f1f3f9f2fc535e6147756cb86a7f2e32]\n",
       "link E8 to E2--><a href=\"psysml:108d975b-2613-446e-8683-bfdaec0afedf\" target=\"_top\" title=\"psysml:108d975b-2613-446e-8683-bfdaec0afedf\" xlink:actuate=\"onRequest\" xlink:href=\"psysml:108d975b-2613-446e-8683-bfdaec0afedf\" xlink:show=\"new\" xlink:title=\"psysml:108d975b-2613-446e-8683-bfdaec0afedf\" xlink:type=\"simple\"><path d=\"M119.32,208.23 C130.4,217.24 142.11,227.55 152,238 C163.47,250.11 174.65,264.47 184.19,277.75 \" fill=\"none\" id=\"E8-&gt;E2\" style=\"stroke: #A80036; stroke-width: 1.0;\"/><polygon fill=\"#FFFFFF\" points=\"195.68,294.32,179.1086,282.6843,190.6186,274.7143,195.68,294.32\" style=\"stroke: #A80036; stroke-width: 1.0;\"/><ellipse cx=\"177.508\" cy=\"276.8595\" fill=\"#A80036\" rx=\"2\" ry=\"2\" style=\"stroke: #A80036; stroke-width: 1.0;\"/><ellipse cx=\"185.7294\" cy=\"271.1667\" fill=\"#A80036\" rx=\"2\" ry=\"2\" style=\"stroke: #A80036; stroke-width: 1.0;\"/></a><!--MD5=[ed10624c06dd9a4fa49ccf290e8b16a8]\n",
       "link E8 to E9--><a href=\"psysml:ebcdab70-773e-42b3-a4e9-8c7478e829d7\" target=\"_top\" title=\"psysml:ebcdab70-773e-42b3-a4e9-8c7478e829d7\" xlink:actuate=\"onRequest\" xlink:href=\"psysml:ebcdab70-773e-42b3-a4e9-8c7478e829d7\" xlink:show=\"new\" xlink:title=\"psysml:ebcdab70-773e-42b3-a4e9-8c7478e829d7\" xlink:type=\"simple\"><path d=\"M81.12,218.35 C81.61,235.87 82.2,256.61 82.72,274.77 \" fill=\"none\" id=\"E8-E9\" style=\"stroke: #A80036; stroke-width: 1.0;\"/><polygon fill=\"#A80036\" points=\"83,284.83,85.7703,276.7476,79.7727,276.9189,83,284.83\" style=\"stroke: #A80036; stroke-width: 1.0;\"/><path d=\"M72.4641,211.5385 A9,9 0 0 0 89.3717 211.0554\" fill=\"none\" style=\"stroke: #A80036; stroke-width: 1.5;\"/><text fill=\"#000000\" font-family=\"sans-serif\" font-size=\"13\" lengthAdjust=\"spacingAndGlyphs\" textLength=\"60\" x=\"83\" y=\"251.0669\">«variant»</text></a><!--MD5=[0f36bececdf0dff6e600d6f64214b0f1]\n",
       "link E10 to E2--><a href=\"psysml:967d0111-ba43-4736-bbbb-a2fd42e2431e\" target=\"_top\" title=\"psysml:967d0111-ba43-4736-bbbb-a2fd42e2431e\" xlink:actuate=\"onRequest\" xlink:href=\"psysml:967d0111-ba43-4736-bbbb-a2fd42e2431e\" xlink:show=\"new\" xlink:title=\"psysml:967d0111-ba43-4736-bbbb-a2fd42e2431e\" xlink:type=\"simple\"><path d=\"M264.31,201.03 C255.55,220.95 242.39,250.89 231.46,275.74 \" fill=\"none\" id=\"E10-&gt;E2\" style=\"stroke: #A80036; stroke-width: 1.0;\"/><polygon fill=\"#FFFFFF\" points=\"223.3,294.3,224.5306,274.089,237.3489,279.7183,223.3,294.3\" style=\"stroke: #A80036; stroke-width: 1.0;\"/><ellipse cx=\"228.6537\" cy=\"269.6742\" fill=\"#A80036\" rx=\"2\" ry=\"2\" style=\"stroke: #A80036; stroke-width: 1.0;\"/><ellipse cx=\"237.8097\" cy=\"273.6952\" fill=\"#A80036\" rx=\"2\" ry=\"2\" style=\"stroke: #A80036; stroke-width: 1.0;\"/></a><!--MD5=[3e4f92760f69d8a04626c568cfe875f2]\n",
       "@startuml\r\n",
       " \r\n",
       "package \"VariabilityTest\" as E1  [[psysml:6fd2d067-8ada-4ea8-9732-021f5438b424 ]]  {\r\n",
       "comp def \"P\" as E2 << << (B,green) >> [[psysml:06c5c105-f179-4f9c-9acd-25394b323f4d ]] {\r\n",
       "a\r\n",
       "}\r\n",
       "comp def \"Q\" as E3 << << (B,green) >> [[psysml:dc55669e-d547-41b4-94bf-d6c68c80b885 ]] {\r\n",
       "}\r\n",
       "comp def \"B\" as E4 << <<(D,brown) attribute def>> [[psysml:18777e48-4bd6-4ac5-98df-f6aab0b7358e ]] {\r\n",
       "}\r\n",
       "comp def \"V\" as E5 << << (B,green) >> [[psysml:b19cdb52-b52e-4af3-afe9-4ea29743154a ]] {\r\n",
       "}\r\n",
       "comp usage \"x: Q\" as E6 << << (P,limegreen) part>> [[psysml:a2bd922e-3e40-42bd-80e3-ecb5a548758e ]] {\r\n",
       "b: B\\n//:>>P::a// \r\n",
       "}\r\n",
       "comp usage \"q: Q\" as E7 << << (P,limegreen) part>> [[psysml:84f1cc81-1e5a-4a4b-9822-237c593dc1ed ]] {\r\n",
       "}\r\n",
       "comp usage \"v: P\" as E8  <<variation>>\\n<< << (P,limegreen) part>> [[psysml:d9c8c4c9-730a-472e-ad5c-9ed2548fca6c ]] {\r\n",
       "}\r\n",
       "comp usage \"q\" as E9 << <<(U,orange) reference>> [[psysml:29b56154-ee98-4bdd-852f-875051132018 ]] {\r\n",
       "b: B\\n//:>>P::a// \r\n",
       "}\r\n",
       "comp usage \"y: P\" as E10 << << (P,limegreen) part>> [[psysml:e49f0805-0747-4902-8d4f-55ae479a1338 ]] {\r\n",
       "}\r\n",
       "}\r\n",
       "E3 - -|> E2 [[psysml:f79594a1-bc1c-4f37-98e7-b8999b5b3daa ]] \r\n",
       "E5 - -|> E2 [[psysml:e72a8b47-cfcf-460f-abbe-f19ffcddd547 ]] \r\n",
       "E5 )- ->> E6 [[psysml:d1158e90-c200-41a0-bff8-4b2e6825fa74 ]] : <<variant>>\r\n",
       "E7 - -:|> E3 [[psysml:df5a11ab-14bd-474c-9e9f-2e0517640249 ]] \r\n",
       "E8 - -:|> E2 [[psysml:108d975b-2613-446e-8683-bfdaec0afedf ]] \r\n",
       "E8 )- ->> E9 [[psysml:ebcdab70-773e-42b3-a4e9-8c7478e829d7 ]] : <<variant>>\r\n",
       "E10 - -:|> E2 [[psysml:967d0111-ba43-4736-bbbb-a2fd42e2431e ]] \r\n",
       "@enduml\r\n",
       "\n",
       "PlantUML version 1.2020.13(Sat Jun 13 12:26:38 UTC 2020)\n",
       "(EPL source distribution)\n",
       "Java Runtime: OpenJDK Runtime Environment\n",
       "JVM: OpenJDK 64-Bit Server VM\n",
       "Default Encoding: UTF-8\n",
       "Language: en\n",
       "Country: null\n",
       "--></g></svg>"
      ]
     },
     "execution_count": 36,
     "metadata": {},
     "output_type": "execute_result"
    }
   ],
   "source": [
    "%viz --style=\"PLANTUML\" --view=\"MIXED\" \"VariabilityTest\""
   ]
  },
  {
   "cell_type": "code",
   "execution_count": 37,
   "id": "0e100dad",
   "metadata": {
    "execution": {
     "iopub.execute_input": "2021-10-03T08:28:17.342125Z",
     "iopub.status.busy": "2021-10-03T08:28:17.341703Z",
     "iopub.status.idle": "2021-10-03T08:28:17.427965Z",
     "shell.execute_reply": "2021-10-03T08:28:17.425786Z"
    }
   },
   "outputs": [
    {
     "data": {
      "image/svg+xml": [
       "<?xml version=\"1.0\" encoding=\"UTF-8\" standalone=\"no\"?><svg xmlns=\"http://www.w3.org/2000/svg\" xmlns:xlink=\"http://www.w3.org/1999/xlink\" contentScriptType=\"application/ecmascript\" contentStyleType=\"text/css\" height=\"401px\" preserveAspectRatio=\"none\" style=\"width:419px;height:401px;\" version=\"1.1\" viewBox=\"0 0 419 401\" width=\"419px\" zoomAndPan=\"magnify\"><defs/><g><!--MD5=[fbc87193dbaf4d95561dea2c320d4a47]\n",
       "cluster E1--><a href=\"psysml:6fd2d067-8ada-4ea8-9732-021f5438b424\" target=\"_top\" title=\"psysml:6fd2d067-8ada-4ea8-9732-021f5438b424\" xlink:actuate=\"onRequest\" xlink:href=\"psysml:6fd2d067-8ada-4ea8-9732-021f5438b424\" xlink:show=\"new\" xlink:title=\"psysml:6fd2d067-8ada-4ea8-9732-021f5438b424\" xlink:type=\"simple\"><polygon fill=\"#FFFFFF\" points=\"16,6,116,6,123,28.2969,397,28.2969,397,389,16,389,16,6\" style=\"stroke: #000000; stroke-width: 1.5;\"/><line style=\"stroke: #000000; stroke-width: 1.5;\" x1=\"16\" x2=\"123\" y1=\"28.2969\" y2=\"28.2969\"/><text fill=\"#000000\" font-family=\"sans-serif\" font-size=\"14\" font-weight=\"bold\" lengthAdjust=\"spacingAndGlyphs\" textLength=\"94\" x=\"20\" y=\"20.9951\">VariabilityTest</text></a><!--MD5=[b4997ac47864f28c2f74865a473b2911]\n",
       "class E2--><a href=\"psysml:06c5c105-f179-4f9c-9acd-25394b323f4d\" target=\"_top\" title=\"psysml:06c5c105-f179-4f9c-9acd-25394b323f4d\" xlink:actuate=\"onRequest\" xlink:href=\"psysml:06c5c105-f179-4f9c-9acd-25394b323f4d\" xlink:show=\"new\" xlink:title=\"psysml:06c5c105-f179-4f9c-9acd-25394b323f4d\" xlink:type=\"simple\"><rect fill=\"#FFFFFF\" height=\"75.5469\" id=\"E2\" style=\"stroke: #383838; stroke-width: 1.5;\" width=\"66\" x=\"166\" y=\"291\"/><text fill=\"#000000\" font-family=\"sans-serif\" font-size=\"12\" font-style=\"italic\" lengthAdjust=\"spacingAndGlyphs\" textLength=\"64\" x=\"167\" y=\"307.1387\">«part def»</text><text fill=\"#000000\" font-family=\"sans-serif\" font-size=\"12\" lengthAdjust=\"spacingAndGlyphs\" textLength=\"8\" x=\"195\" y=\"321.1074\">P</text><line style=\"stroke: #383838; stroke-width: 1.5;\" x1=\"167\" x2=\"231\" y1=\"328.9375\" y2=\"328.9375\"/><text fill=\"#000000\" font-family=\"sans-serif\" font-size=\"11\" lengthAdjust=\"spacingAndGlyphs\" textLength=\"7\" x=\"172\" y=\"359.9526\">a</text><line style=\"stroke: #383838; stroke-width: 1.0;\" x1=\"167\" x2=\"171.5\" y1=\"343.3398\" y2=\"343.3398\"/><text fill=\"#000000\" font-family=\"sans-serif\" font-size=\"11\" lengthAdjust=\"spacingAndGlyphs\" textLength=\"55\" x=\"171.5\" y=\"346.6479\">attributes</text><line style=\"stroke: #383838; stroke-width: 1.0;\" x1=\"226.5\" x2=\"231\" y1=\"343.3398\" y2=\"343.3398\"/></a><!--MD5=[09b614a08d8cba4a07c9adeb5e0fee81]\n",
       "class E3--><a href=\"psysml:dc55669e-d547-41b4-94bf-d6c68c80b885\" target=\"_top\" title=\"psysml:dc55669e-d547-41b4-94bf-d6c68c80b885\" xlink:actuate=\"onRequest\" xlink:href=\"psysml:dc55669e-d547-41b4-94bf-d6c68c80b885\" xlink:show=\"new\" xlink:title=\"psysml:dc55669e-d547-41b4-94bf-d6c68c80b885\" xlink:type=\"simple\"><rect fill=\"#FFFFFF\" height=\"45.9375\" id=\"E3\" style=\"stroke: #383838; stroke-width: 1.5;\" width=\"66\" x=\"137\" y=\"155\"/><text fill=\"#000000\" font-family=\"sans-serif\" font-size=\"12\" font-style=\"italic\" lengthAdjust=\"spacingAndGlyphs\" textLength=\"64\" x=\"138\" y=\"171.1387\">«part def»</text><text fill=\"#000000\" font-family=\"sans-serif\" font-size=\"12\" lengthAdjust=\"spacingAndGlyphs\" textLength=\"9\" x=\"165.5\" y=\"185.1074\">Q</text><line style=\"stroke: #383838; stroke-width: 1.5;\" x1=\"138\" x2=\"202\" y1=\"192.9375\" y2=\"192.9375\"/></a><!--MD5=[ebbe1d658d1005bcc118a6aa81145e00]\n",
       "class E4--><a href=\"psysml:18777e48-4bd6-4ac5-98df-f6aab0b7358e\" target=\"_top\" title=\"psysml:18777e48-4bd6-4ac5-98df-f6aab0b7358e\" xlink:actuate=\"onRequest\" xlink:href=\"psysml:18777e48-4bd6-4ac5-98df-f6aab0b7358e\" xlink:show=\"new\" xlink:title=\"psysml:18777e48-4bd6-4ac5-98df-f6aab0b7358e\" xlink:type=\"simple\"><rect fill=\"#FFFFFF\" height=\"45.9375\" id=\"E4\" style=\"stroke: #383838; stroke-width: 1.5;\" width=\"95\" x=\"255.5\" y=\"41\"/><text fill=\"#000000\" font-family=\"sans-serif\" font-size=\"12\" font-style=\"italic\" lengthAdjust=\"spacingAndGlyphs\" textLength=\"93\" x=\"256.5\" y=\"57.1387\">«attribute def»</text><text fill=\"#000000\" font-family=\"sans-serif\" font-size=\"12\" lengthAdjust=\"spacingAndGlyphs\" textLength=\"8\" x=\"299\" y=\"71.1074\">B</text><line style=\"stroke: #383838; stroke-width: 1.5;\" x1=\"256.5\" x2=\"349.5\" y1=\"78.9375\" y2=\"78.9375\"/></a><!--MD5=[270fce915f116d4de14055a7c1d9a0f3]\n",
       "class E5--><a href=\"psysml:b19cdb52-b52e-4af3-afe9-4ea29743154a\" target=\"_top\" title=\"psysml:b19cdb52-b52e-4af3-afe9-4ea29743154a\" xlink:actuate=\"onRequest\" xlink:href=\"psysml:b19cdb52-b52e-4af3-afe9-4ea29743154a\" xlink:show=\"new\" xlink:title=\"psysml:b19cdb52-b52e-4af3-afe9-4ea29743154a\" xlink:type=\"simple\"><rect fill=\"#FFFFFF\" height=\"45.9375\" id=\"E5\" style=\"stroke: #383838; stroke-width: 1.5;\" width=\"66\" x=\"315\" y=\"155\"/><text fill=\"#000000\" font-family=\"sans-serif\" font-size=\"12\" font-style=\"italic\" lengthAdjust=\"spacingAndGlyphs\" textLength=\"64\" x=\"316\" y=\"171.1387\">«part def»</text><text fill=\"#000000\" font-family=\"sans-serif\" font-size=\"12\" lengthAdjust=\"spacingAndGlyphs\" textLength=\"8\" x=\"344\" y=\"185.1074\">V</text><line style=\"stroke: #383838; stroke-width: 1.5;\" x1=\"316\" x2=\"380\" y1=\"192.9375\" y2=\"192.9375\"/></a><!--MD5=[60a26617385b1d2d0262a64233df1f8d]\n",
       "class E6--><a href=\"psysml:a2bd922e-3e40-42bd-80e3-ecb5a548758e\" target=\"_top\" title=\"psysml:a2bd922e-3e40-42bd-80e3-ecb5a548758e\" xlink:actuate=\"onRequest\" xlink:href=\"psysml:a2bd922e-3e40-42bd-80e3-ecb5a548758e\" xlink:show=\"new\" xlink:title=\"psysml:a2bd922e-3e40-42bd-80e3-ecb5a548758e\" xlink:type=\"simple\"><rect fill=\"#FFFFFF\" height=\"88.3516\" id=\"E6\" rx=\"10\" ry=\"10\" style=\"stroke: #383838; stroke-width: 1.5;\" width=\"63\" x=\"287.5\" y=\"285\"/><text fill=\"#000000\" font-family=\"sans-serif\" font-size=\"12\" font-style=\"italic\" lengthAdjust=\"spacingAndGlyphs\" textLength=\"40\" x=\"299\" y=\"301.1387\">«part»</text><text fill=\"#000000\" font-family=\"sans-serif\" font-size=\"12\" lengthAdjust=\"spacingAndGlyphs\" textLength=\"23\" x=\"307.5\" y=\"315.1074\">x: Q</text><line style=\"stroke: #383838; stroke-width: 1.5;\" x1=\"288.5\" x2=\"349.5\" y1=\"322.9375\" y2=\"322.9375\"/><text fill=\"#000000\" font-family=\"sans-serif\" font-size=\"11\" lengthAdjust=\"spacingAndGlyphs\" textLength=\"23\" x=\"293.5\" y=\"353.9526\">b: B</text><text fill=\"#000000\" font-family=\"sans-serif\" font-size=\"11\" font-style=\"italic\" lengthAdjust=\"spacingAndGlyphs\" textLength=\"44\" x=\"293.5\" y=\"366.7573\">:&gt;&gt;P::a</text><line style=\"stroke: #383838; stroke-width: 1.0;\" x1=\"288.5\" x2=\"291.5\" y1=\"337.3398\" y2=\"337.3398\"/><text fill=\"#000000\" font-family=\"sans-serif\" font-size=\"11\" lengthAdjust=\"spacingAndGlyphs\" textLength=\"55\" x=\"291.5\" y=\"340.6479\">attributes</text><line style=\"stroke: #383838; stroke-width: 1.0;\" x1=\"346.5\" x2=\"349.5\" y1=\"337.3398\" y2=\"337.3398\"/></a><!--MD5=[2156ba9850f5573cc1fc38a6a4b2f02b]\n",
       "class E7--><a href=\"psysml:84f1cc81-1e5a-4a4b-9822-237c593dc1ed\" target=\"_top\" title=\"psysml:84f1cc81-1e5a-4a4b-9822-237c593dc1ed\" xlink:actuate=\"onRequest\" xlink:href=\"psysml:84f1cc81-1e5a-4a4b-9822-237c593dc1ed\" xlink:show=\"new\" xlink:title=\"psysml:84f1cc81-1e5a-4a4b-9822-237c593dc1ed\" xlink:type=\"simple\"><rect fill=\"#FFFFFF\" height=\"45.9375\" id=\"E7\" rx=\"10\" ry=\"10\" style=\"stroke: #383838; stroke-width: 1.5;\" width=\"42\" x=\"149\" y=\"41\"/><text fill=\"#000000\" font-family=\"sans-serif\" font-size=\"12\" font-style=\"italic\" lengthAdjust=\"spacingAndGlyphs\" textLength=\"40\" x=\"150\" y=\"57.1387\">«part»</text><text fill=\"#000000\" font-family=\"sans-serif\" font-size=\"12\" lengthAdjust=\"spacingAndGlyphs\" textLength=\"25\" x=\"157.5\" y=\"71.1074\">q: Q</text><line style=\"stroke: #383838; stroke-width: 1.5;\" x1=\"150\" x2=\"190\" y1=\"78.9375\" y2=\"78.9375\"/></a><!--MD5=[b9389687b975829384b498ac4b7476b2]\n",
       "class E8--><a href=\"psysml:d9c8c4c9-730a-472e-ad5c-9ed2548fca6c\" target=\"_top\" title=\"psysml:d9c8c4c9-730a-472e-ad5c-9ed2548fca6c\" xlink:actuate=\"onRequest\" xlink:href=\"psysml:d9c8c4c9-730a-472e-ad5c-9ed2548fca6c\" xlink:show=\"new\" xlink:title=\"psysml:d9c8c4c9-730a-472e-ad5c-9ed2548fca6c\" xlink:type=\"simple\"><rect fill=\"#FFFFFF\" height=\"59.9063\" id=\"E8\" rx=\"10\" ry=\"10\" style=\"stroke: #383838; stroke-width: 1.5;\" width=\"70\" x=\"32\" y=\"148\"/><text fill=\"#000000\" font-family=\"sans-serif\" font-size=\"12\" font-style=\"italic\" lengthAdjust=\"spacingAndGlyphs\" textLength=\"68\" x=\"33\" y=\"164.1387\">«variation»</text><text fill=\"#000000\" font-family=\"sans-serif\" font-size=\"12\" font-style=\"italic\" lengthAdjust=\"spacingAndGlyphs\" textLength=\"40\" x=\"47\" y=\"178.1074\">«part»</text><text fill=\"#000000\" font-family=\"sans-serif\" font-size=\"12\" lengthAdjust=\"spacingAndGlyphs\" textLength=\"22\" x=\"56\" y=\"192.0762\">v: P</text><line style=\"stroke: #383838; stroke-width: 1.5;\" x1=\"33\" x2=\"101\" y1=\"199.9063\" y2=\"199.9063\"/></a><!--MD5=[fd4143e9d270a159db93a4ea2a975926]\n",
       "class E9--><a href=\"psysml:29b56154-ee98-4bdd-852f-875051132018\" target=\"_top\" title=\"psysml:29b56154-ee98-4bdd-852f-875051132018\" xlink:actuate=\"onRequest\" xlink:href=\"psysml:29b56154-ee98-4bdd-852f-875051132018\" xlink:show=\"new\" xlink:title=\"psysml:29b56154-ee98-4bdd-852f-875051132018\" xlink:type=\"simple\"><rect fill=\"#FFFFFF\" height=\"88.3516\" id=\"E9\" rx=\"10\" ry=\"10\" style=\"stroke: #383838; stroke-width: 1.5;\" width=\"77\" x=\"32.5\" y=\"285\"/><text fill=\"#000000\" font-family=\"sans-serif\" font-size=\"12\" font-style=\"italic\" lengthAdjust=\"spacingAndGlyphs\" textLength=\"75\" x=\"33.5\" y=\"301.1387\">«reference»</text><text fill=\"#000000\" font-family=\"sans-serif\" font-size=\"12\" lengthAdjust=\"spacingAndGlyphs\" textLength=\"8\" x=\"67\" y=\"315.1074\">q</text><line style=\"stroke: #383838; stroke-width: 1.5;\" x1=\"33.5\" x2=\"108.5\" y1=\"322.9375\" y2=\"322.9375\"/><text fill=\"#000000\" font-family=\"sans-serif\" font-size=\"11\" lengthAdjust=\"spacingAndGlyphs\" textLength=\"23\" x=\"38.5\" y=\"353.9526\">b: B</text><text fill=\"#000000\" font-family=\"sans-serif\" font-size=\"11\" font-style=\"italic\" lengthAdjust=\"spacingAndGlyphs\" textLength=\"44\" x=\"38.5\" y=\"366.7573\">:&gt;&gt;P::a</text><line style=\"stroke: #383838; stroke-width: 1.0;\" x1=\"33.5\" x2=\"43.5\" y1=\"337.3398\" y2=\"337.3398\"/><text fill=\"#000000\" font-family=\"sans-serif\" font-size=\"11\" lengthAdjust=\"spacingAndGlyphs\" textLength=\"55\" x=\"43.5\" y=\"340.6479\">attributes</text><line style=\"stroke: #383838; stroke-width: 1.0;\" x1=\"98.5\" x2=\"108.5\" y1=\"337.3398\" y2=\"337.3398\"/></a><!--MD5=[96f4274e9e20536e775497830990834d]\n",
       "class E10--><a href=\"psysml:e49f0805-0747-4902-8d4f-55ae479a1338\" target=\"_top\" title=\"psysml:e49f0805-0747-4902-8d4f-55ae479a1338\" xlink:actuate=\"onRequest\" xlink:href=\"psysml:e49f0805-0747-4902-8d4f-55ae479a1338\" xlink:show=\"new\" xlink:title=\"psysml:e49f0805-0747-4902-8d4f-55ae479a1338\" xlink:type=\"simple\"><rect fill=\"#FFFFFF\" height=\"45.9375\" id=\"E10\" rx=\"10\" ry=\"10\" style=\"stroke: #383838; stroke-width: 1.5;\" width=\"42\" x=\"238\" y=\"155\"/><text fill=\"#000000\" font-family=\"sans-serif\" font-size=\"12\" font-style=\"italic\" lengthAdjust=\"spacingAndGlyphs\" textLength=\"40\" x=\"239\" y=\"171.1387\">«part»</text><text fill=\"#000000\" font-family=\"sans-serif\" font-size=\"12\" lengthAdjust=\"spacingAndGlyphs\" textLength=\"22\" x=\"248\" y=\"185.1074\">y: P</text><line style=\"stroke: #383838; stroke-width: 1.5;\" x1=\"239\" x2=\"279\" y1=\"192.9375\" y2=\"192.9375\"/></a><!--MD5=[05d275557350bfb9b23a4ef7222b4c39]\n",
       "link E3 to E2--><a href=\"psysml:f79594a1-bc1c-4f37-98e7-b8999b5b3daa\" target=\"_top\" title=\"psysml:f79594a1-bc1c-4f37-98e7-b8999b5b3daa\" xlink:actuate=\"onRequest\" xlink:href=\"psysml:f79594a1-bc1c-4f37-98e7-b8999b5b3daa\" xlink:show=\"new\" xlink:title=\"psysml:f79594a1-bc1c-4f37-98e7-b8999b5b3daa\" xlink:type=\"simple\"><path d=\"M174.34,201.31 C177.92,219.67 183.15,246.54 187.87,270.81 \" fill=\"none\" id=\"E3-&gt;E2\" style=\"stroke: #383838; stroke-width: 1.0;\"/><polygon fill=\"none\" points=\"194.8,269.8,191.75,290.77,181.06,272.47,194.8,269.8\" style=\"stroke: #383838; stroke-width: 1.0;\"/></a><!--MD5=[15ebcb19ae302d9b601edb458606d402]\n",
       "link E5 to E2--><a href=\"psysml:e72a8b47-cfcf-460f-abbe-f19ffcddd547\" target=\"_top\" title=\"psysml:e72a8b47-cfcf-460f-abbe-f19ffcddd547\" xlink:actuate=\"onRequest\" xlink:href=\"psysml:e72a8b47-cfcf-460f-abbe-f19ffcddd547\" xlink:show=\"new\" xlink:title=\"psysml:e72a8b47-cfcf-460f-abbe-f19ffcddd547\" xlink:type=\"simple\"><path d=\"M325.69,201.31 C304.9,222.1 273.2,253.8 246.71,280.29 \" fill=\"none\" id=\"E5-&gt;E2\" style=\"stroke: #383838; stroke-width: 1.0;\"/><polygon fill=\"none\" points=\"251.33,285.57,232.24,294.76,241.43,275.67,251.33,285.57\" style=\"stroke: #383838; stroke-width: 1.0;\"/></a><!--MD5=[9120cf2e5df3bff93db8f754bbbc09b4]\n",
       "link E5 to E6--><a href=\"psysml:d1158e90-c200-41a0-bff8-4b2e6825fa74\" target=\"_top\" title=\"psysml:d1158e90-c200-41a0-bff8-4b2e6825fa74\" xlink:actuate=\"onRequest\" xlink:href=\"psysml:d1158e90-c200-41a0-bff8-4b2e6825fa74\" xlink:show=\"new\" xlink:title=\"psysml:d1158e90-c200-41a0-bff8-4b2e6825fa74\" xlink:type=\"simple\"><path d=\"M341.72,211.26 C338.1,229.85 333.47,253.68 329.32,274.95 \" fill=\"none\" id=\"E5-E6\" style=\"stroke: #383838; stroke-width: 1.0;\"/><polygon fill=\"#383838\" points=\"327.4,284.84,331.8761,277.5623,325.987,276.4136,327.4,284.84\" style=\"stroke: #383838; stroke-width: 1.0;\"/><path d=\"M334.7699,202.7122 A9,9 0 0 0 351.3715 205.9503\" fill=\"none\" style=\"stroke: #383838; stroke-width: 1.5;\"/><text fill=\"#000000\" font-family=\"sans-serif\" font-size=\"13\" lengthAdjust=\"spacingAndGlyphs\" textLength=\"60\" x=\"337\" y=\"251.0669\">«variant»</text></a><!--MD5=[14ccda38c055a5c0da953d572bc50960]\n",
       "link E7 to E3--><a href=\"psysml:df5a11ab-14bd-474c-9e9f-2e0517640249\" target=\"_top\" title=\"psysml:df5a11ab-14bd-474c-9e9f-2e0517640249\" xlink:actuate=\"onRequest\" xlink:href=\"psysml:df5a11ab-14bd-474c-9e9f-2e0517640249\" xlink:show=\"new\" xlink:title=\"psysml:df5a11ab-14bd-474c-9e9f-2e0517640249\" xlink:type=\"simple\"><path d=\"M170,87.13 C170,100.7 170,118.53 170,134.73 \" fill=\"none\" id=\"E7-&gt;E3\" style=\"stroke: #383838; stroke-width: 1.0;\"/><polygon fill=\"#FFFFFF\" points=\"170,154.92,163,135.92,177,135.92,170,154.92\" style=\"stroke: #383838; stroke-width: 1.0;\"/><ellipse cx=\"165\" cy=\"130.22\" fill=\"#383838\" rx=\"2\" ry=\"2\" style=\"stroke: #383838; stroke-width: 1.0;\"/><ellipse cx=\"175\" cy=\"130.22\" fill=\"#383838\" rx=\"2\" ry=\"2\" style=\"stroke: #383838; stroke-width: 1.0;\"/></a><!--MD5=[f1f3f9f2fc535e6147756cb86a7f2e32]\n",
       "link E8 to E2--><a href=\"psysml:108d975b-2613-446e-8683-bfdaec0afedf\" target=\"_top\" title=\"psysml:108d975b-2613-446e-8683-bfdaec0afedf\" xlink:actuate=\"onRequest\" xlink:href=\"psysml:108d975b-2613-446e-8683-bfdaec0afedf\" xlink:show=\"new\" xlink:title=\"psysml:108d975b-2613-446e-8683-bfdaec0afedf\" xlink:type=\"simple\"><path d=\"M102.17,204.39 C114.52,214.17 128.04,225.9 139,238 C148.86,248.88 158.29,261.5 166.63,273.79 \" fill=\"none\" id=\"E8-&gt;E2\" style=\"stroke: #383838; stroke-width: 1.0;\"/><polygon fill=\"#FFFFFF\" points=\"177.64,290.73,161.4168,278.6135,173.1555,270.9844,177.64,290.73\" style=\"stroke: #383838; stroke-width: 1.0;\"/><ellipse cx=\"159.9876\" cy=\"272.7443\" fill=\"#383838\" rx=\"2\" ry=\"2\" style=\"stroke: #383838; stroke-width: 1.0;\"/><ellipse cx=\"168.3724\" cy=\"267.2949\" fill=\"#383838\" rx=\"2\" ry=\"2\" style=\"stroke: #383838; stroke-width: 1.0;\"/></a><!--MD5=[ed10624c06dd9a4fa49ccf290e8b16a8]\n",
       "link E8 to E9--><a href=\"psysml:ebcdab70-773e-42b3-a4e9-8c7478e829d7\" target=\"_top\" title=\"psysml:ebcdab70-773e-42b3-a4e9-8c7478e829d7\" xlink:actuate=\"onRequest\" xlink:href=\"psysml:ebcdab70-773e-42b3-a4e9-8c7478e829d7\" xlink:show=\"new\" xlink:title=\"psysml:ebcdab70-773e-42b3-a4e9-8c7478e829d7\" xlink:type=\"simple\"><path d=\"M68.06,218.32 C68.52,235.6 69.07,256.15 69.57,274.77 \" fill=\"none\" id=\"E8-E9\" style=\"stroke: #383838; stroke-width: 1.0;\"/><polygon fill=\"#383838\" points=\"69.84,284.88,72.6331,276.8054,66.6351,276.9599,69.84,284.88\" style=\"stroke: #383838; stroke-width: 1.0;\"/><path d=\"M59.4094,211.3865 A9,9 0 0 0 76.3176 210.9276\" fill=\"none\" style=\"stroke: #383838; stroke-width: 1.5;\"/><text fill=\"#000000\" font-family=\"sans-serif\" font-size=\"13\" lengthAdjust=\"spacingAndGlyphs\" textLength=\"60\" x=\"70\" y=\"251.0669\">«variant»</text></a><!--MD5=[0f36bececdf0dff6e600d6f64214b0f1]\n",
       "link E10 to E2--><a href=\"psysml:967d0111-ba43-4736-bbbb-a2fd42e2431e\" target=\"_top\" title=\"psysml:967d0111-ba43-4736-bbbb-a2fd42e2431e\" xlink:actuate=\"onRequest\" xlink:href=\"psysml:967d0111-ba43-4736-bbbb-a2fd42e2431e\" xlink:show=\"new\" xlink:title=\"psysml:967d0111-ba43-4736-bbbb-a2fd42e2431e\" xlink:type=\"simple\"><path d=\"M250.02,201.31 C242.51,219.95 231.48,247.35 221.59,271.91 \" fill=\"none\" id=\"E10-&gt;E2\" style=\"stroke: #383838; stroke-width: 1.0;\"/><polygon fill=\"#FFFFFF\" points=\"213.99,290.77,214.5927,270.5305,227.5796,275.7593,213.99,290.77\" style=\"stroke: #383838; stroke-width: 1.0;\"/><ellipse cx=\"218.5768\" cy=\"265.9899\" fill=\"#383838\" rx=\"2\" ry=\"2\" style=\"stroke: #383838; stroke-width: 1.0;\"/><ellipse cx=\"227.8532\" cy=\"269.7248\" fill=\"#383838\" rx=\"2\" ry=\"2\" style=\"stroke: #383838; stroke-width: 1.0;\"/></a><!--MD5=[74174cfa6002fa661a10725cc7284edc]\n",
       "@startuml\r\n",
       "skinparam monochrome true\r\n",
       "skinparam classbackgroundcolor white\r\n",
       "skinparam shadowing false\r\n",
       "skinparam wrapWidth 300\r\n",
       "hide circle\r\n",
       "\r\n",
       "package \"VariabilityTest\" as E1  [[psysml:6fd2d067-8ada-4ea8-9732-021f5438b424 ]]  {\r\n",
       "comp def \"P\" as E2  <<(T,blue) part def>> [[psysml:06c5c105-f179-4f9c-9acd-25394b323f4d ]] {\r\n",
       "- - attributes - -\r\n",
       "a\r\n",
       "}\r\n",
       "comp def \"Q\" as E3  <<(T,blue) part def>> [[psysml:dc55669e-d547-41b4-94bf-d6c68c80b885 ]] {\r\n",
       "}\r\n",
       "comp def \"B\" as E4  <<(T,blue) attribute def>> [[psysml:18777e48-4bd6-4ac5-98df-f6aab0b7358e ]] {\r\n",
       "}\r\n",
       "comp def \"V\" as E5  <<(T,blue) part def>> [[psysml:b19cdb52-b52e-4af3-afe9-4ea29743154a ]] {\r\n",
       "}\r\n",
       "comp usage \"x: Q\" as E6  <<(T,blue) part>> [[psysml:a2bd922e-3e40-42bd-80e3-ecb5a548758e ]] {\r\n",
       "- - attributes - -\r\n",
       "b: B\\n//:>>P::a// \r\n",
       "}\r\n",
       "comp usage \"q: Q\" as E7  <<(T,blue) part>> [[psysml:84f1cc81-1e5a-4a4b-9822-237c593dc1ed ]] {\r\n",
       "}\r\n",
       "comp usage \"v: P\" as E8  <<variation>>\\n <<(T,blue) part>> [[psysml:d9c8c4c9-730a-472e-ad5c-9ed2548fca6c ]] {\r\n",
       "}\r\n",
       "comp usage \"q\" as E9  <<(T,blue) reference>> [[psysml:29b56154-ee98-4bdd-852f-875051132018 ]] {\r\n",
       "- - attributes - -\r\n",
       "b: B\\n//:>>P::a// \r\n",
       "}\r\n",
       "comp usage \"y: P\" as E10  <<(T,blue) part>> [[psysml:e49f0805-0747-4902-8d4f-55ae479a1338 ]] {\r\n",
       "}\r\n",
       "}\r\n",
       "E3 - -|> E2 [[psysml:f79594a1-bc1c-4f37-98e7-b8999b5b3daa ]] \r\n",
       "E5 - -|> E2 [[psysml:e72a8b47-cfcf-460f-abbe-f19ffcddd547 ]] \r\n",
       "E5 )- ->> E6 [[psysml:d1158e90-c200-41a0-bff8-4b2e6825fa74 ]] : <<variant>>\r\n",
       "E7 - -:|> E3 [[psysml:df5a11ab-14bd-474c-9e9f-2e0517640249 ]] \r\n",
       "E8 - -:|> E2 [[psysml:108d975b-2613-446e-8683-bfdaec0afedf ]] \r\n",
       "E8 )- ->> E9 [[psysml:ebcdab70-773e-42b3-a4e9-8c7478e829d7 ]] : <<variant>>\r\n",
       "E10 - -:|> E2 [[psysml:967d0111-ba43-4736-bbbb-a2fd42e2431e ]] \r\n",
       "@enduml\r\n",
       "\n",
       "PlantUML version 1.2020.13(Sat Jun 13 12:26:38 UTC 2020)\n",
       "(EPL source distribution)\n",
       "Java Runtime: OpenJDK Runtime Environment\n",
       "JVM: OpenJDK 64-Bit Server VM\n",
       "Default Encoding: UTF-8\n",
       "Language: en\n",
       "Country: null\n",
       "--></g></svg>"
      ]
     },
     "execution_count": 37,
     "metadata": {},
     "output_type": "execute_result"
    }
   ],
   "source": [
    "%viz --style=\"DEFAULT\" --view=\"Default\" \"VariabilityTest\""
   ]
  },
  {
   "cell_type": "code",
   "execution_count": 38,
   "id": "b45fd632",
   "metadata": {
    "execution": {
     "iopub.execute_input": "2021-10-03T08:28:17.476514Z",
     "iopub.status.busy": "2021-10-03T08:28:17.476057Z",
     "iopub.status.idle": "2021-10-03T08:28:17.558955Z",
     "shell.execute_reply": "2021-10-03T08:28:17.559272Z"
    }
   },
   "outputs": [
    {
     "data": {
      "image/svg+xml": [
       "<?xml version=\"1.0\" encoding=\"UTF-8\" standalone=\"no\"?><svg xmlns=\"http://www.w3.org/2000/svg\" xmlns:xlink=\"http://www.w3.org/1999/xlink\" contentScriptType=\"application/ecmascript\" contentStyleType=\"text/css\" height=\"401px\" preserveAspectRatio=\"none\" style=\"width:419px;height:401px;\" version=\"1.1\" viewBox=\"0 0 419 401\" width=\"419px\" zoomAndPan=\"magnify\"><defs/><g><!--MD5=[fbc87193dbaf4d95561dea2c320d4a47]\n",
       "cluster E1--><a href=\"psysml:6fd2d067-8ada-4ea8-9732-021f5438b424\" target=\"_top\" title=\"psysml:6fd2d067-8ada-4ea8-9732-021f5438b424\" xlink:actuate=\"onRequest\" xlink:href=\"psysml:6fd2d067-8ada-4ea8-9732-021f5438b424\" xlink:show=\"new\" xlink:title=\"psysml:6fd2d067-8ada-4ea8-9732-021f5438b424\" xlink:type=\"simple\"><polygon fill=\"#FFFFFF\" points=\"16,6,116,6,123,28.2969,397,28.2969,397,389,16,389,16,6\" style=\"stroke: #000000; stroke-width: 1.5;\"/><line style=\"stroke: #000000; stroke-width: 1.5;\" x1=\"16\" x2=\"123\" y1=\"28.2969\" y2=\"28.2969\"/><text fill=\"#000000\" font-family=\"sans-serif\" font-size=\"14\" font-weight=\"bold\" lengthAdjust=\"spacingAndGlyphs\" textLength=\"94\" x=\"20\" y=\"20.9951\">VariabilityTest</text></a><!--MD5=[b4997ac47864f28c2f74865a473b2911]\n",
       "class E2--><a href=\"psysml:06c5c105-f179-4f9c-9acd-25394b323f4d\" target=\"_top\" title=\"psysml:06c5c105-f179-4f9c-9acd-25394b323f4d\" xlink:actuate=\"onRequest\" xlink:href=\"psysml:06c5c105-f179-4f9c-9acd-25394b323f4d\" xlink:show=\"new\" xlink:title=\"psysml:06c5c105-f179-4f9c-9acd-25394b323f4d\" xlink:type=\"simple\"><rect fill=\"#FFFFFF\" height=\"75.5469\" id=\"E2\" style=\"stroke: #383838; stroke-width: 1.5;\" width=\"66\" x=\"166\" y=\"291\"/><text fill=\"#000000\" font-family=\"sans-serif\" font-size=\"12\" font-style=\"italic\" lengthAdjust=\"spacingAndGlyphs\" textLength=\"64\" x=\"167\" y=\"307.1387\">«part def»</text><text fill=\"#000000\" font-family=\"sans-serif\" font-size=\"12\" lengthAdjust=\"spacingAndGlyphs\" textLength=\"8\" x=\"195\" y=\"321.1074\">P</text><line style=\"stroke: #383838; stroke-width: 1.5;\" x1=\"167\" x2=\"231\" y1=\"328.9375\" y2=\"328.9375\"/><text fill=\"#000000\" font-family=\"sans-serif\" font-size=\"11\" lengthAdjust=\"spacingAndGlyphs\" textLength=\"7\" x=\"172\" y=\"359.9526\">a</text><line style=\"stroke: #383838; stroke-width: 1.0;\" x1=\"167\" x2=\"171.5\" y1=\"343.3398\" y2=\"343.3398\"/><text fill=\"#000000\" font-family=\"sans-serif\" font-size=\"11\" lengthAdjust=\"spacingAndGlyphs\" textLength=\"55\" x=\"171.5\" y=\"346.6479\">attributes</text><line style=\"stroke: #383838; stroke-width: 1.0;\" x1=\"226.5\" x2=\"231\" y1=\"343.3398\" y2=\"343.3398\"/></a><!--MD5=[09b614a08d8cba4a07c9adeb5e0fee81]\n",
       "class E3--><a href=\"psysml:dc55669e-d547-41b4-94bf-d6c68c80b885\" target=\"_top\" title=\"psysml:dc55669e-d547-41b4-94bf-d6c68c80b885\" xlink:actuate=\"onRequest\" xlink:href=\"psysml:dc55669e-d547-41b4-94bf-d6c68c80b885\" xlink:show=\"new\" xlink:title=\"psysml:dc55669e-d547-41b4-94bf-d6c68c80b885\" xlink:type=\"simple\"><rect fill=\"#FFFFFF\" height=\"45.9375\" id=\"E3\" style=\"stroke: #383838; stroke-width: 1.5;\" width=\"66\" x=\"137\" y=\"155\"/><text fill=\"#000000\" font-family=\"sans-serif\" font-size=\"12\" font-style=\"italic\" lengthAdjust=\"spacingAndGlyphs\" textLength=\"64\" x=\"138\" y=\"171.1387\">«part def»</text><text fill=\"#000000\" font-family=\"sans-serif\" font-size=\"12\" lengthAdjust=\"spacingAndGlyphs\" textLength=\"9\" x=\"165.5\" y=\"185.1074\">Q</text><line style=\"stroke: #383838; stroke-width: 1.5;\" x1=\"138\" x2=\"202\" y1=\"192.9375\" y2=\"192.9375\"/></a><!--MD5=[ebbe1d658d1005bcc118a6aa81145e00]\n",
       "class E4--><a href=\"psysml:18777e48-4bd6-4ac5-98df-f6aab0b7358e\" target=\"_top\" title=\"psysml:18777e48-4bd6-4ac5-98df-f6aab0b7358e\" xlink:actuate=\"onRequest\" xlink:href=\"psysml:18777e48-4bd6-4ac5-98df-f6aab0b7358e\" xlink:show=\"new\" xlink:title=\"psysml:18777e48-4bd6-4ac5-98df-f6aab0b7358e\" xlink:type=\"simple\"><rect fill=\"#FFFFFF\" height=\"45.9375\" id=\"E4\" style=\"stroke: #383838; stroke-width: 1.5;\" width=\"95\" x=\"255.5\" y=\"41\"/><text fill=\"#000000\" font-family=\"sans-serif\" font-size=\"12\" font-style=\"italic\" lengthAdjust=\"spacingAndGlyphs\" textLength=\"93\" x=\"256.5\" y=\"57.1387\">«attribute def»</text><text fill=\"#000000\" font-family=\"sans-serif\" font-size=\"12\" lengthAdjust=\"spacingAndGlyphs\" textLength=\"8\" x=\"299\" y=\"71.1074\">B</text><line style=\"stroke: #383838; stroke-width: 1.5;\" x1=\"256.5\" x2=\"349.5\" y1=\"78.9375\" y2=\"78.9375\"/></a><!--MD5=[270fce915f116d4de14055a7c1d9a0f3]\n",
       "class E5--><a href=\"psysml:b19cdb52-b52e-4af3-afe9-4ea29743154a\" target=\"_top\" title=\"psysml:b19cdb52-b52e-4af3-afe9-4ea29743154a\" xlink:actuate=\"onRequest\" xlink:href=\"psysml:b19cdb52-b52e-4af3-afe9-4ea29743154a\" xlink:show=\"new\" xlink:title=\"psysml:b19cdb52-b52e-4af3-afe9-4ea29743154a\" xlink:type=\"simple\"><rect fill=\"#FFFFFF\" height=\"45.9375\" id=\"E5\" style=\"stroke: #383838; stroke-width: 1.5;\" width=\"66\" x=\"315\" y=\"155\"/><text fill=\"#000000\" font-family=\"sans-serif\" font-size=\"12\" font-style=\"italic\" lengthAdjust=\"spacingAndGlyphs\" textLength=\"64\" x=\"316\" y=\"171.1387\">«part def»</text><text fill=\"#000000\" font-family=\"sans-serif\" font-size=\"12\" lengthAdjust=\"spacingAndGlyphs\" textLength=\"8\" x=\"344\" y=\"185.1074\">V</text><line style=\"stroke: #383838; stroke-width: 1.5;\" x1=\"316\" x2=\"380\" y1=\"192.9375\" y2=\"192.9375\"/></a><!--MD5=[60a26617385b1d2d0262a64233df1f8d]\n",
       "class E6--><a href=\"psysml:a2bd922e-3e40-42bd-80e3-ecb5a548758e\" target=\"_top\" title=\"psysml:a2bd922e-3e40-42bd-80e3-ecb5a548758e\" xlink:actuate=\"onRequest\" xlink:href=\"psysml:a2bd922e-3e40-42bd-80e3-ecb5a548758e\" xlink:show=\"new\" xlink:title=\"psysml:a2bd922e-3e40-42bd-80e3-ecb5a548758e\" xlink:type=\"simple\"><rect fill=\"#FFFFFF\" height=\"88.3516\" id=\"E6\" rx=\"10\" ry=\"10\" style=\"stroke: #383838; stroke-width: 1.5;\" width=\"63\" x=\"287.5\" y=\"285\"/><text fill=\"#000000\" font-family=\"sans-serif\" font-size=\"12\" font-style=\"italic\" lengthAdjust=\"spacingAndGlyphs\" textLength=\"40\" x=\"299\" y=\"301.1387\">«part»</text><text fill=\"#000000\" font-family=\"sans-serif\" font-size=\"12\" lengthAdjust=\"spacingAndGlyphs\" textLength=\"23\" x=\"307.5\" y=\"315.1074\">x: Q</text><line style=\"stroke: #383838; stroke-width: 1.5;\" x1=\"288.5\" x2=\"349.5\" y1=\"322.9375\" y2=\"322.9375\"/><text fill=\"#000000\" font-family=\"sans-serif\" font-size=\"11\" lengthAdjust=\"spacingAndGlyphs\" textLength=\"23\" x=\"293.5\" y=\"353.9526\">b: B</text><text fill=\"#000000\" font-family=\"sans-serif\" font-size=\"11\" font-style=\"italic\" lengthAdjust=\"spacingAndGlyphs\" textLength=\"44\" x=\"293.5\" y=\"366.7573\">:&gt;&gt;P::a</text><line style=\"stroke: #383838; stroke-width: 1.0;\" x1=\"288.5\" x2=\"291.5\" y1=\"337.3398\" y2=\"337.3398\"/><text fill=\"#000000\" font-family=\"sans-serif\" font-size=\"11\" lengthAdjust=\"spacingAndGlyphs\" textLength=\"55\" x=\"291.5\" y=\"340.6479\">attributes</text><line style=\"stroke: #383838; stroke-width: 1.0;\" x1=\"346.5\" x2=\"349.5\" y1=\"337.3398\" y2=\"337.3398\"/></a><!--MD5=[2156ba9850f5573cc1fc38a6a4b2f02b]\n",
       "class E7--><a href=\"psysml:84f1cc81-1e5a-4a4b-9822-237c593dc1ed\" target=\"_top\" title=\"psysml:84f1cc81-1e5a-4a4b-9822-237c593dc1ed\" xlink:actuate=\"onRequest\" xlink:href=\"psysml:84f1cc81-1e5a-4a4b-9822-237c593dc1ed\" xlink:show=\"new\" xlink:title=\"psysml:84f1cc81-1e5a-4a4b-9822-237c593dc1ed\" xlink:type=\"simple\"><rect fill=\"#FFFFFF\" height=\"45.9375\" id=\"E7\" rx=\"10\" ry=\"10\" style=\"stroke: #383838; stroke-width: 1.5;\" width=\"42\" x=\"149\" y=\"41\"/><text fill=\"#000000\" font-family=\"sans-serif\" font-size=\"12\" font-style=\"italic\" lengthAdjust=\"spacingAndGlyphs\" textLength=\"40\" x=\"150\" y=\"57.1387\">«part»</text><text fill=\"#000000\" font-family=\"sans-serif\" font-size=\"12\" lengthAdjust=\"spacingAndGlyphs\" textLength=\"25\" x=\"157.5\" y=\"71.1074\">q: Q</text><line style=\"stroke: #383838; stroke-width: 1.5;\" x1=\"150\" x2=\"190\" y1=\"78.9375\" y2=\"78.9375\"/></a><!--MD5=[b9389687b975829384b498ac4b7476b2]\n",
       "class E8--><a href=\"psysml:d9c8c4c9-730a-472e-ad5c-9ed2548fca6c\" target=\"_top\" title=\"psysml:d9c8c4c9-730a-472e-ad5c-9ed2548fca6c\" xlink:actuate=\"onRequest\" xlink:href=\"psysml:d9c8c4c9-730a-472e-ad5c-9ed2548fca6c\" xlink:show=\"new\" xlink:title=\"psysml:d9c8c4c9-730a-472e-ad5c-9ed2548fca6c\" xlink:type=\"simple\"><rect fill=\"#FFFFFF\" height=\"59.9063\" id=\"E8\" rx=\"10\" ry=\"10\" style=\"stroke: #383838; stroke-width: 1.5;\" width=\"70\" x=\"32\" y=\"148\"/><text fill=\"#000000\" font-family=\"sans-serif\" font-size=\"12\" font-style=\"italic\" lengthAdjust=\"spacingAndGlyphs\" textLength=\"68\" x=\"33\" y=\"164.1387\">«variation»</text><text fill=\"#000000\" font-family=\"sans-serif\" font-size=\"12\" font-style=\"italic\" lengthAdjust=\"spacingAndGlyphs\" textLength=\"40\" x=\"47\" y=\"178.1074\">«part»</text><text fill=\"#000000\" font-family=\"sans-serif\" font-size=\"12\" lengthAdjust=\"spacingAndGlyphs\" textLength=\"22\" x=\"56\" y=\"192.0762\">v: P</text><line style=\"stroke: #383838; stroke-width: 1.5;\" x1=\"33\" x2=\"101\" y1=\"199.9063\" y2=\"199.9063\"/></a><!--MD5=[fd4143e9d270a159db93a4ea2a975926]\n",
       "class E9--><a href=\"psysml:29b56154-ee98-4bdd-852f-875051132018\" target=\"_top\" title=\"psysml:29b56154-ee98-4bdd-852f-875051132018\" xlink:actuate=\"onRequest\" xlink:href=\"psysml:29b56154-ee98-4bdd-852f-875051132018\" xlink:show=\"new\" xlink:title=\"psysml:29b56154-ee98-4bdd-852f-875051132018\" xlink:type=\"simple\"><rect fill=\"#FFFFFF\" height=\"88.3516\" id=\"E9\" rx=\"10\" ry=\"10\" style=\"stroke: #383838; stroke-width: 1.5;\" width=\"77\" x=\"32.5\" y=\"285\"/><text fill=\"#000000\" font-family=\"sans-serif\" font-size=\"12\" font-style=\"italic\" lengthAdjust=\"spacingAndGlyphs\" textLength=\"75\" x=\"33.5\" y=\"301.1387\">«reference»</text><text fill=\"#000000\" font-family=\"sans-serif\" font-size=\"12\" lengthAdjust=\"spacingAndGlyphs\" textLength=\"8\" x=\"67\" y=\"315.1074\">q</text><line style=\"stroke: #383838; stroke-width: 1.5;\" x1=\"33.5\" x2=\"108.5\" y1=\"322.9375\" y2=\"322.9375\"/><text fill=\"#000000\" font-family=\"sans-serif\" font-size=\"11\" lengthAdjust=\"spacingAndGlyphs\" textLength=\"23\" x=\"38.5\" y=\"353.9526\">b: B</text><text fill=\"#000000\" font-family=\"sans-serif\" font-size=\"11\" font-style=\"italic\" lengthAdjust=\"spacingAndGlyphs\" textLength=\"44\" x=\"38.5\" y=\"366.7573\">:&gt;&gt;P::a</text><line style=\"stroke: #383838; stroke-width: 1.0;\" x1=\"33.5\" x2=\"43.5\" y1=\"337.3398\" y2=\"337.3398\"/><text fill=\"#000000\" font-family=\"sans-serif\" font-size=\"11\" lengthAdjust=\"spacingAndGlyphs\" textLength=\"55\" x=\"43.5\" y=\"340.6479\">attributes</text><line style=\"stroke: #383838; stroke-width: 1.0;\" x1=\"98.5\" x2=\"108.5\" y1=\"337.3398\" y2=\"337.3398\"/></a><!--MD5=[96f4274e9e20536e775497830990834d]\n",
       "class E10--><a href=\"psysml:e49f0805-0747-4902-8d4f-55ae479a1338\" target=\"_top\" title=\"psysml:e49f0805-0747-4902-8d4f-55ae479a1338\" xlink:actuate=\"onRequest\" xlink:href=\"psysml:e49f0805-0747-4902-8d4f-55ae479a1338\" xlink:show=\"new\" xlink:title=\"psysml:e49f0805-0747-4902-8d4f-55ae479a1338\" xlink:type=\"simple\"><rect fill=\"#FFFFFF\" height=\"45.9375\" id=\"E10\" rx=\"10\" ry=\"10\" style=\"stroke: #383838; stroke-width: 1.5;\" width=\"42\" x=\"238\" y=\"155\"/><text fill=\"#000000\" font-family=\"sans-serif\" font-size=\"12\" font-style=\"italic\" lengthAdjust=\"spacingAndGlyphs\" textLength=\"40\" x=\"239\" y=\"171.1387\">«part»</text><text fill=\"#000000\" font-family=\"sans-serif\" font-size=\"12\" lengthAdjust=\"spacingAndGlyphs\" textLength=\"22\" x=\"248\" y=\"185.1074\">y: P</text><line style=\"stroke: #383838; stroke-width: 1.5;\" x1=\"239\" x2=\"279\" y1=\"192.9375\" y2=\"192.9375\"/></a><!--MD5=[05d275557350bfb9b23a4ef7222b4c39]\n",
       "link E3 to E2--><a href=\"psysml:f79594a1-bc1c-4f37-98e7-b8999b5b3daa\" target=\"_top\" title=\"psysml:f79594a1-bc1c-4f37-98e7-b8999b5b3daa\" xlink:actuate=\"onRequest\" xlink:href=\"psysml:f79594a1-bc1c-4f37-98e7-b8999b5b3daa\" xlink:show=\"new\" xlink:title=\"psysml:f79594a1-bc1c-4f37-98e7-b8999b5b3daa\" xlink:type=\"simple\"><path d=\"M174.34,201.31 C177.92,219.67 183.15,246.54 187.87,270.81 \" fill=\"none\" id=\"E3-&gt;E2\" style=\"stroke: #383838; stroke-width: 1.0;\"/><polygon fill=\"none\" points=\"194.8,269.8,191.75,290.77,181.06,272.47,194.8,269.8\" style=\"stroke: #383838; stroke-width: 1.0;\"/></a><!--MD5=[15ebcb19ae302d9b601edb458606d402]\n",
       "link E5 to E2--><a href=\"psysml:e72a8b47-cfcf-460f-abbe-f19ffcddd547\" target=\"_top\" title=\"psysml:e72a8b47-cfcf-460f-abbe-f19ffcddd547\" xlink:actuate=\"onRequest\" xlink:href=\"psysml:e72a8b47-cfcf-460f-abbe-f19ffcddd547\" xlink:show=\"new\" xlink:title=\"psysml:e72a8b47-cfcf-460f-abbe-f19ffcddd547\" xlink:type=\"simple\"><path d=\"M325.69,201.31 C304.9,222.1 273.2,253.8 246.71,280.29 \" fill=\"none\" id=\"E5-&gt;E2\" style=\"stroke: #383838; stroke-width: 1.0;\"/><polygon fill=\"none\" points=\"251.33,285.57,232.24,294.76,241.43,275.67,251.33,285.57\" style=\"stroke: #383838; stroke-width: 1.0;\"/></a><!--MD5=[9120cf2e5df3bff93db8f754bbbc09b4]\n",
       "link E5 to E6--><a href=\"psysml:d1158e90-c200-41a0-bff8-4b2e6825fa74\" target=\"_top\" title=\"psysml:d1158e90-c200-41a0-bff8-4b2e6825fa74\" xlink:actuate=\"onRequest\" xlink:href=\"psysml:d1158e90-c200-41a0-bff8-4b2e6825fa74\" xlink:show=\"new\" xlink:title=\"psysml:d1158e90-c200-41a0-bff8-4b2e6825fa74\" xlink:type=\"simple\"><path d=\"M341.72,211.26 C338.1,229.85 333.47,253.68 329.32,274.95 \" fill=\"none\" id=\"E5-E6\" style=\"stroke: #383838; stroke-width: 1.0;\"/><polygon fill=\"#383838\" points=\"327.4,284.84,331.8761,277.5623,325.987,276.4136,327.4,284.84\" style=\"stroke: #383838; stroke-width: 1.0;\"/><path d=\"M334.7699,202.7122 A9,9 0 0 0 351.3715 205.9503\" fill=\"none\" style=\"stroke: #383838; stroke-width: 1.5;\"/><text fill=\"#000000\" font-family=\"sans-serif\" font-size=\"13\" lengthAdjust=\"spacingAndGlyphs\" textLength=\"60\" x=\"337\" y=\"251.0669\">«variant»</text></a><!--MD5=[14ccda38c055a5c0da953d572bc50960]\n",
       "link E7 to E3--><a href=\"psysml:df5a11ab-14bd-474c-9e9f-2e0517640249\" target=\"_top\" title=\"psysml:df5a11ab-14bd-474c-9e9f-2e0517640249\" xlink:actuate=\"onRequest\" xlink:href=\"psysml:df5a11ab-14bd-474c-9e9f-2e0517640249\" xlink:show=\"new\" xlink:title=\"psysml:df5a11ab-14bd-474c-9e9f-2e0517640249\" xlink:type=\"simple\"><path d=\"M170,87.13 C170,100.7 170,118.53 170,134.73 \" fill=\"none\" id=\"E7-&gt;E3\" style=\"stroke: #383838; stroke-width: 1.0;\"/><polygon fill=\"#FFFFFF\" points=\"170,154.92,163,135.92,177,135.92,170,154.92\" style=\"stroke: #383838; stroke-width: 1.0;\"/><ellipse cx=\"165\" cy=\"130.22\" fill=\"#383838\" rx=\"2\" ry=\"2\" style=\"stroke: #383838; stroke-width: 1.0;\"/><ellipse cx=\"175\" cy=\"130.22\" fill=\"#383838\" rx=\"2\" ry=\"2\" style=\"stroke: #383838; stroke-width: 1.0;\"/></a><!--MD5=[f1f3f9f2fc535e6147756cb86a7f2e32]\n",
       "link E8 to E2--><a href=\"psysml:108d975b-2613-446e-8683-bfdaec0afedf\" target=\"_top\" title=\"psysml:108d975b-2613-446e-8683-bfdaec0afedf\" xlink:actuate=\"onRequest\" xlink:href=\"psysml:108d975b-2613-446e-8683-bfdaec0afedf\" xlink:show=\"new\" xlink:title=\"psysml:108d975b-2613-446e-8683-bfdaec0afedf\" xlink:type=\"simple\"><path d=\"M102.17,204.39 C114.52,214.17 128.04,225.9 139,238 C148.86,248.88 158.29,261.5 166.63,273.79 \" fill=\"none\" id=\"E8-&gt;E2\" style=\"stroke: #383838; stroke-width: 1.0;\"/><polygon fill=\"#FFFFFF\" points=\"177.64,290.73,161.4168,278.6135,173.1555,270.9844,177.64,290.73\" style=\"stroke: #383838; stroke-width: 1.0;\"/><ellipse cx=\"159.9876\" cy=\"272.7443\" fill=\"#383838\" rx=\"2\" ry=\"2\" style=\"stroke: #383838; stroke-width: 1.0;\"/><ellipse cx=\"168.3724\" cy=\"267.2949\" fill=\"#383838\" rx=\"2\" ry=\"2\" style=\"stroke: #383838; stroke-width: 1.0;\"/></a><!--MD5=[ed10624c06dd9a4fa49ccf290e8b16a8]\n",
       "link E8 to E9--><a href=\"psysml:ebcdab70-773e-42b3-a4e9-8c7478e829d7\" target=\"_top\" title=\"psysml:ebcdab70-773e-42b3-a4e9-8c7478e829d7\" xlink:actuate=\"onRequest\" xlink:href=\"psysml:ebcdab70-773e-42b3-a4e9-8c7478e829d7\" xlink:show=\"new\" xlink:title=\"psysml:ebcdab70-773e-42b3-a4e9-8c7478e829d7\" xlink:type=\"simple\"><path d=\"M68.06,218.32 C68.52,235.6 69.07,256.15 69.57,274.77 \" fill=\"none\" id=\"E8-E9\" style=\"stroke: #383838; stroke-width: 1.0;\"/><polygon fill=\"#383838\" points=\"69.84,284.88,72.6331,276.8054,66.6351,276.9599,69.84,284.88\" style=\"stroke: #383838; stroke-width: 1.0;\"/><path d=\"M59.4094,211.3865 A9,9 0 0 0 76.3176 210.9276\" fill=\"none\" style=\"stroke: #383838; stroke-width: 1.5;\"/><text fill=\"#000000\" font-family=\"sans-serif\" font-size=\"13\" lengthAdjust=\"spacingAndGlyphs\" textLength=\"60\" x=\"70\" y=\"251.0669\">«variant»</text></a><!--MD5=[0f36bececdf0dff6e600d6f64214b0f1]\n",
       "link E10 to E2--><a href=\"psysml:967d0111-ba43-4736-bbbb-a2fd42e2431e\" target=\"_top\" title=\"psysml:967d0111-ba43-4736-bbbb-a2fd42e2431e\" xlink:actuate=\"onRequest\" xlink:href=\"psysml:967d0111-ba43-4736-bbbb-a2fd42e2431e\" xlink:show=\"new\" xlink:title=\"psysml:967d0111-ba43-4736-bbbb-a2fd42e2431e\" xlink:type=\"simple\"><path d=\"M250.02,201.31 C242.51,219.95 231.48,247.35 221.59,271.91 \" fill=\"none\" id=\"E10-&gt;E2\" style=\"stroke: #383838; stroke-width: 1.0;\"/><polygon fill=\"#FFFFFF\" points=\"213.99,290.77,214.5927,270.5305,227.5796,275.7593,213.99,290.77\" style=\"stroke: #383838; stroke-width: 1.0;\"/><ellipse cx=\"218.5768\" cy=\"265.9899\" fill=\"#383838\" rx=\"2\" ry=\"2\" style=\"stroke: #383838; stroke-width: 1.0;\"/><ellipse cx=\"227.8532\" cy=\"269.7248\" fill=\"#383838\" rx=\"2\" ry=\"2\" style=\"stroke: #383838; stroke-width: 1.0;\"/></a><!--MD5=[74174cfa6002fa661a10725cc7284edc]\n",
       "@startuml\r\n",
       "skinparam monochrome true\r\n",
       "skinparam classbackgroundcolor white\r\n",
       "skinparam shadowing false\r\n",
       "skinparam wrapWidth 300\r\n",
       "hide circle\r\n",
       "\r\n",
       "package \"VariabilityTest\" as E1  [[psysml:6fd2d067-8ada-4ea8-9732-021f5438b424 ]]  {\r\n",
       "comp def \"P\" as E2  <<(T,blue) part def>> [[psysml:06c5c105-f179-4f9c-9acd-25394b323f4d ]] {\r\n",
       "- - attributes - -\r\n",
       "a\r\n",
       "}\r\n",
       "comp def \"Q\" as E3  <<(T,blue) part def>> [[psysml:dc55669e-d547-41b4-94bf-d6c68c80b885 ]] {\r\n",
       "}\r\n",
       "comp def \"B\" as E4  <<(T,blue) attribute def>> [[psysml:18777e48-4bd6-4ac5-98df-f6aab0b7358e ]] {\r\n",
       "}\r\n",
       "comp def \"V\" as E5  <<(T,blue) part def>> [[psysml:b19cdb52-b52e-4af3-afe9-4ea29743154a ]] {\r\n",
       "}\r\n",
       "comp usage \"x: Q\" as E6  <<(T,blue) part>> [[psysml:a2bd922e-3e40-42bd-80e3-ecb5a548758e ]] {\r\n",
       "- - attributes - -\r\n",
       "b: B\\n//:>>P::a// \r\n",
       "}\r\n",
       "comp usage \"q: Q\" as E7  <<(T,blue) part>> [[psysml:84f1cc81-1e5a-4a4b-9822-237c593dc1ed ]] {\r\n",
       "}\r\n",
       "comp usage \"v: P\" as E8  <<variation>>\\n <<(T,blue) part>> [[psysml:d9c8c4c9-730a-472e-ad5c-9ed2548fca6c ]] {\r\n",
       "}\r\n",
       "comp usage \"q\" as E9  <<(T,blue) reference>> [[psysml:29b56154-ee98-4bdd-852f-875051132018 ]] {\r\n",
       "- - attributes - -\r\n",
       "b: B\\n//:>>P::a// \r\n",
       "}\r\n",
       "comp usage \"y: P\" as E10  <<(T,blue) part>> [[psysml:e49f0805-0747-4902-8d4f-55ae479a1338 ]] {\r\n",
       "}\r\n",
       "}\r\n",
       "E3 - -|> E2 [[psysml:f79594a1-bc1c-4f37-98e7-b8999b5b3daa ]] \r\n",
       "E5 - -|> E2 [[psysml:e72a8b47-cfcf-460f-abbe-f19ffcddd547 ]] \r\n",
       "E5 )- ->> E6 [[psysml:d1158e90-c200-41a0-bff8-4b2e6825fa74 ]] : <<variant>>\r\n",
       "E7 - -:|> E3 [[psysml:df5a11ab-14bd-474c-9e9f-2e0517640249 ]] \r\n",
       "E8 - -:|> E2 [[psysml:108d975b-2613-446e-8683-bfdaec0afedf ]] \r\n",
       "E8 )- ->> E9 [[psysml:ebcdab70-773e-42b3-a4e9-8c7478e829d7 ]] : <<variant>>\r\n",
       "E10 - -:|> E2 [[psysml:967d0111-ba43-4736-bbbb-a2fd42e2431e ]] \r\n",
       "@enduml\r\n",
       "\n",
       "PlantUML version 1.2020.13(Sat Jun 13 12:26:38 UTC 2020)\n",
       "(EPL source distribution)\n",
       "Java Runtime: OpenJDK Runtime Environment\n",
       "JVM: OpenJDK 64-Bit Server VM\n",
       "Default Encoding: UTF-8\n",
       "Language: en\n",
       "Country: null\n",
       "--></g></svg>"
      ]
     },
     "execution_count": 38,
     "metadata": {},
     "output_type": "execute_result"
    }
   ],
   "source": [
    "%viz --style=\"DEFAULT\" --view=\"Tree\" \"VariabilityTest\""
   ]
  },
  {
   "cell_type": "code",
   "execution_count": 39,
   "id": "832be06f",
   "metadata": {
    "execution": {
     "iopub.execute_input": "2021-10-03T08:28:17.608570Z",
     "iopub.status.busy": "2021-10-03T08:28:17.608173Z",
     "iopub.status.idle": "2021-10-03T08:28:17.613117Z",
     "shell.execute_reply": "2021-10-03T08:28:17.613429Z"
    }
   },
   "outputs": [
    {
     "data": {
      "image/svg+xml": [
       "<?xml version=\"1.0\" encoding=\"UTF-8\" standalone=\"no\"?><svg xmlns=\"http://www.w3.org/2000/svg\" xmlns:xlink=\"http://www.w3.org/1999/xlink\" contentScriptType=\"application/ecmascript\" contentStyleType=\"text/css\" height=\"12px\" preserveAspectRatio=\"none\" style=\"width:12px;height:12px;\" version=\"1.1\" viewBox=\"0 0 12 12\" width=\"12px\" zoomAndPan=\"magnify\"><defs/><g><!--MD5=[c5f280e076d0d61ccf4b0f27871bda1d]\n",
       "@startuml\r\n",
       "skinparam monochrome true\r\n",
       "skinparam classbackgroundcolor white\r\n",
       "skinparam shadowing false\r\n",
       "skinparam wrapWidth 300\r\n",
       "hide circle\r\n",
       "\r\n",
       "@enduml\r\n",
       "\n",
       "PlantUML version 1.2020.13(Sat Jun 13 12:26:38 UTC 2020)\n",
       "(EPL source distribution)\n",
       "Java Runtime: OpenJDK Runtime Environment\n",
       "JVM: OpenJDK 64-Bit Server VM\n",
       "Default Encoding: UTF-8\n",
       "Language: en\n",
       "Country: null\n",
       "--></g></svg>"
      ]
     },
     "execution_count": 39,
     "metadata": {},
     "output_type": "execute_result"
    }
   ],
   "source": [
    "%viz --style=\"DEFAULT\" --view=\"State\" \"VariabilityTest\""
   ]
  },
  {
   "cell_type": "code",
   "execution_count": 40,
   "id": "545b16c9",
   "metadata": {
    "execution": {
     "iopub.execute_input": "2021-10-03T08:28:17.662918Z",
     "iopub.status.busy": "2021-10-03T08:28:17.662523Z",
     "iopub.status.idle": "2021-10-03T08:28:17.746952Z",
     "shell.execute_reply": "2021-10-03T08:28:17.745067Z"
    }
   },
   "outputs": [
    {
     "data": {
      "image/svg+xml": [
       "<?xml version=\"1.0\" encoding=\"UTF-8\" standalone=\"no\"?><svg xmlns=\"http://www.w3.org/2000/svg\" xmlns:xlink=\"http://www.w3.org/1999/xlink\" contentScriptType=\"application/ecmascript\" contentStyleType=\"text/css\" height=\"427px\" preserveAspectRatio=\"none\" style=\"width:783px;height:427px;\" version=\"1.1\" viewBox=\"0 0 783 427\" width=\"783px\" zoomAndPan=\"magnify\"><defs/><g><!--MD5=[fbc87193dbaf4d95561dea2c320d4a47]\n",
       "cluster E1--><a href=\"psysml:6fd2d067-8ada-4ea8-9732-021f5438b424\" target=\"_top\" title=\"psysml:6fd2d067-8ada-4ea8-9732-021f5438b424\" xlink:actuate=\"onRequest\" xlink:href=\"psysml:6fd2d067-8ada-4ea8-9732-021f5438b424\" xlink:show=\"new\" xlink:title=\"psysml:6fd2d067-8ada-4ea8-9732-021f5438b424\" xlink:type=\"simple\"><polygon fill=\"#FFFFFF\" points=\"16,6,116,6,123,28.2969,761,28.2969,761,415,16,415,16,6\" style=\"stroke: #000000; stroke-width: 1.5;\"/><line style=\"stroke: #000000; stroke-width: 1.5;\" x1=\"16\" x2=\"123\" y1=\"28.2969\" y2=\"28.2969\"/><text fill=\"#000000\" font-family=\"sans-serif\" font-size=\"14\" font-weight=\"bold\" lengthAdjust=\"spacingAndGlyphs\" textLength=\"94\" x=\"20\" y=\"20.9951\">VariabilityTest</text></a><!--MD5=[e4f7fae6ed58524ba242bb0b0d3be6b7]\n",
       "cluster E2--><a href=\"psysml:06c5c105-f179-4f9c-9acd-25394b323f4d\" target=\"_top\" title=\"psysml:06c5c105-f179-4f9c-9acd-25394b323f4d\" xlink:actuate=\"onRequest\" xlink:href=\"psysml:06c5c105-f179-4f9c-9acd-25394b323f4d\" xlink:show=\"new\" xlink:title=\"psysml:06c5c105-f179-4f9c-9acd-25394b323f4d\" xlink:type=\"simple\"><rect fill=\"#FFFFFF\" height=\"129\" id=\"E2\" style=\"stroke: #383838; stroke-width: 1.5;\" width=\"139\" x=\"424\" y=\"254\"/><rect fill=\"#F8F8F8\" height=\"37.9375\" style=\"stroke: #383838; stroke-width: 1.5;\" width=\"139\" x=\"424\" y=\"254\"/><text fill=\"#000000\" font-family=\"sans-serif\" font-size=\"12\" font-style=\"italic\" lengthAdjust=\"spacingAndGlyphs\" textLength=\"64\" x=\"461.5\" y=\"270.1387\">«part def»</text><text fill=\"#000000\" font-family=\"sans-serif\" font-size=\"12\" lengthAdjust=\"spacingAndGlyphs\" textLength=\"8\" x=\"489.5\" y=\"284.1074\">P</text></a><!--MD5=[14e3b0961a2654348d326746436168a1]\n",
       "cluster E6--><a href=\"psysml:b19cdb52-b52e-4af3-afe9-4ea29743154a\" target=\"_top\" title=\"psysml:b19cdb52-b52e-4af3-afe9-4ea29743154a\" xlink:actuate=\"onRequest\" xlink:href=\"psysml:b19cdb52-b52e-4af3-afe9-4ea29743154a\" xlink:show=\"new\" xlink:title=\"psysml:b19cdb52-b52e-4af3-afe9-4ea29743154a\" xlink:type=\"simple\"><rect fill=\"#FFFFFF\" height=\"157\" id=\"E6\" style=\"stroke: #383838; stroke-width: 1.5;\" width=\"131\" x=\"598\" y=\"57\"/><rect fill=\"#F8F8F8\" height=\"37.9375\" style=\"stroke: #383838; stroke-width: 1.5;\" width=\"131\" x=\"598\" y=\"57\"/><text fill=\"#000000\" font-family=\"sans-serif\" font-size=\"12\" font-style=\"italic\" lengthAdjust=\"spacingAndGlyphs\" textLength=\"64\" x=\"631.5\" y=\"73.1387\">«part def»</text><text fill=\"#000000\" font-family=\"sans-serif\" font-size=\"12\" lengthAdjust=\"spacingAndGlyphs\" textLength=\"8\" x=\"659.5\" y=\"87.1074\">V</text></a><!--MD5=[7f149f147074ac12df2cb0a7728a5fb0]\n",
       "cluster E9--><a href=\"psysml:d9c8c4c9-730a-472e-ad5c-9ed2548fca6c\" target=\"_top\" title=\"psysml:d9c8c4c9-730a-472e-ad5c-9ed2548fca6c\" xlink:actuate=\"onRequest\" xlink:href=\"psysml:d9c8c4c9-730a-472e-ad5c-9ed2548fca6c\" xlink:show=\"new\" xlink:title=\"psysml:d9c8c4c9-730a-472e-ad5c-9ed2548fca6c\" xlink:type=\"simple\"><rect fill=\"#FFFFFF\" height=\"139\" id=\"E9\" rx=\"10\" ry=\"10\" style=\"stroke: #383838; stroke-width: 1.5;\" width=\"110\" x=\"456\" y=\"74\"/><rect fill=\"#F8F8F8\" height=\"23.9688\" rx=\"10\" ry=\"10\" style=\"stroke: #F8F8F8; stroke-width: 1.5;\" width=\"110\" x=\"456\" y=\"74\"/><rect fill=\"#F8F8F8\" height=\"10\" style=\"stroke: #F8F8F8; stroke-width: 1.5;\" width=\"110\" x=\"456\" y=\"87.9688\"/><rect fill=\"none\" height=\"139\" id=\"E9\" rx=\"10\" ry=\"10\" style=\"stroke: #383838; stroke-width: 1.5;\" width=\"110\" x=\"456\" y=\"74\"/><text fill=\"#000000\" font-family=\"sans-serif\" font-size=\"12\" lengthAdjust=\"spacingAndGlyphs\" textLength=\"22\" x=\"500\" y=\"90.1387\">v: P</text><line style=\"stroke: #383838; stroke-width: 1.0;\" x1=\"456\" x2=\"566\" y1=\"97.9688\" y2=\"97.9688\"/></a><g id=\"E1.E5\"><a href=\"psysml:18777e48-4bd6-4ac5-98df-f6aab0b7358e\" target=\"_top\" title=\"psysml:18777e48-4bd6-4ac5-98df-f6aab0b7358e\" xlink:actuate=\"onRequest\" xlink:href=\"psysml:18777e48-4bd6-4ac5-98df-f6aab0b7358e\" xlink:show=\"new\" xlink:title=\"psysml:18777e48-4bd6-4ac5-98df-f6aab0b7358e\" xlink:type=\"simple\"><rect fill=\"#FFFFFF\" height=\"42.9375\" id=\"E5\" style=\"stroke: #383838; stroke-width: 1.5;\" width=\"100\" x=\"337\" y=\"131.5\"/><rect fill=\"#F8F8F8\" height=\"37.9375\" style=\"stroke: #383838; stroke-width: 1.5;\" width=\"100\" x=\"337\" y=\"131.5\"/><text fill=\"#000000\" font-family=\"sans-serif\" font-size=\"12\" font-style=\"italic\" lengthAdjust=\"spacingAndGlyphs\" textLength=\"93\" x=\"340.5\" y=\"147.6387\">«attribute def»</text><text fill=\"#000000\" font-family=\"sans-serif\" font-size=\"12\" lengthAdjust=\"spacingAndGlyphs\" textLength=\"8\" x=\"383\" y=\"161.6074\">B</text></a></g><!--MD5=[09b614a08d8cba4a07c9adeb5e0fee81]\n",
       "class E3--><a href=\"psysml:8d9858c1-4f67-40c3-af33-b29377a1672a\" target=\"_top\" title=\"psysml:8d9858c1-4f67-40c3-af33-b29377a1672a\" xlink:actuate=\"onRequest\" xlink:href=\"psysml:8d9858c1-4f67-40c3-af33-b29377a1672a\" xlink:show=\"new\" xlink:title=\"psysml:8d9858c1-4f67-40c3-af33-b29377a1672a\" xlink:type=\"simple\"><rect fill=\"#FFFFFF\" height=\"45.9375\" id=\"E3\" rx=\"10\" ry=\"10\" style=\"stroke: #383838; stroke-width: 1.5;\" width=\"71\" x=\"467.5\" y=\"313\"/><text fill=\"#000000\" font-family=\"sans-serif\" font-size=\"12\" font-style=\"italic\" lengthAdjust=\"spacingAndGlyphs\" textLength=\"69\" x=\"468.5\" y=\"329.1387\">«attribute»</text><text fill=\"#000000\" font-family=\"sans-serif\" font-size=\"12\" lengthAdjust=\"spacingAndGlyphs\" textLength=\"8\" x=\"499\" y=\"343.1074\">a</text><line style=\"stroke: #383838; stroke-width: 1.5;\" x1=\"468.5\" x2=\"537.5\" y1=\"350.9375\" y2=\"350.9375\"/></a><g id=\"E1.E4\"><a href=\"psysml:dc55669e-d547-41b4-94bf-d6c68c80b885\" target=\"_top\" title=\"psysml:dc55669e-d547-41b4-94bf-d6c68c80b885\" xlink:actuate=\"onRequest\" xlink:href=\"psysml:dc55669e-d547-41b4-94bf-d6c68c80b885\" xlink:show=\"new\" xlink:title=\"psysml:dc55669e-d547-41b4-94bf-d6c68c80b885\" xlink:type=\"simple\"><rect fill=\"#FFFFFF\" height=\"42.9375\" id=\"E4\" style=\"stroke: #383838; stroke-width: 1.5;\" width=\"71\" x=\"230.5\" y=\"131.5\"/><rect fill=\"#F8F8F8\" height=\"37.9375\" style=\"stroke: #383838; stroke-width: 1.5;\" width=\"71\" x=\"230.5\" y=\"131.5\"/><text fill=\"#000000\" font-family=\"sans-serif\" font-size=\"12\" font-style=\"italic\" lengthAdjust=\"spacingAndGlyphs\" textLength=\"64\" x=\"234\" y=\"147.6387\">«part def»</text><text fill=\"#000000\" font-family=\"sans-serif\" font-size=\"12\" lengthAdjust=\"spacingAndGlyphs\" textLength=\"9\" x=\"261.5\" y=\"161.6074\">Q</text></a></g><!--MD5=[2156ba9850f5573cc1fc38a6a4b2f02b]\n",
       "class E7--><a href=\"psysml:a2bd922e-3e40-42bd-80e3-ecb5a548758e\" target=\"_top\" title=\"psysml:a2bd922e-3e40-42bd-80e3-ecb5a548758e\" xlink:actuate=\"onRequest\" xlink:href=\"psysml:a2bd922e-3e40-42bd-80e3-ecb5a548758e\" xlink:show=\"new\" xlink:title=\"psysml:a2bd922e-3e40-42bd-80e3-ecb5a548758e\" xlink:type=\"simple\"><rect fill=\"#FFFFFF\" height=\"74.3828\" id=\"E7\" rx=\"10\" ry=\"10\" style=\"stroke: #383838; stroke-width: 1.5;\" width=\"63\" x=\"641.5\" y=\"116\"/><text fill=\"#000000\" font-family=\"sans-serif\" font-size=\"12\" lengthAdjust=\"spacingAndGlyphs\" textLength=\"23\" x=\"661.5\" y=\"132.1387\">x: Q</text><line style=\"stroke: #383838; stroke-width: 1.5;\" x1=\"642.5\" x2=\"703.5\" y1=\"139.9688\" y2=\"139.9688\"/><text fill=\"#000000\" font-family=\"sans-serif\" font-size=\"11\" lengthAdjust=\"spacingAndGlyphs\" textLength=\"23\" x=\"647.5\" y=\"170.9839\">b: B</text><text fill=\"#000000\" font-family=\"sans-serif\" font-size=\"11\" font-style=\"italic\" lengthAdjust=\"spacingAndGlyphs\" textLength=\"44\" x=\"647.5\" y=\"183.7886\">:&gt;&gt;P::a</text><line style=\"stroke: #383838; stroke-width: 1.0;\" x1=\"642.5\" x2=\"645.5\" y1=\"154.3711\" y2=\"154.3711\"/><text fill=\"#000000\" font-family=\"sans-serif\" font-size=\"11\" lengthAdjust=\"spacingAndGlyphs\" textLength=\"55\" x=\"645.5\" y=\"157.6792\">attributes</text><line style=\"stroke: #383838; stroke-width: 1.0;\" x1=\"700.5\" x2=\"703.5\" y1=\"154.3711\" y2=\"154.3711\"/></a><g id=\"E1.E8\"><a href=\"psysml:84f1cc81-1e5a-4a4b-9822-237c593dc1ed\" target=\"_top\" title=\"psysml:84f1cc81-1e5a-4a4b-9822-237c593dc1ed\" xlink:actuate=\"onRequest\" xlink:href=\"psysml:84f1cc81-1e5a-4a4b-9822-237c593dc1ed\" xlink:show=\"new\" xlink:title=\"psysml:84f1cc81-1e5a-4a4b-9822-237c593dc1ed\" xlink:type=\"simple\"><rect fill=\"#FFFFFF\" height=\"40\" id=\"E8\" rx=\"10\" ry=\"10\" style=\"stroke: #383838; stroke-width: 1.5;\" width=\"50\" x=\"145\" y=\"133\"/><rect fill=\"#F8F8F8\" height=\"23.9688\" rx=\"10\" ry=\"10\" style=\"stroke: #F8F8F8; stroke-width: 1.5;\" width=\"50\" x=\"145\" y=\"133\"/><rect fill=\"#F8F8F8\" height=\"10\" style=\"stroke: #F8F8F8; stroke-width: 1.5;\" width=\"50\" x=\"145\" y=\"146.9688\"/><rect fill=\"none\" height=\"40\" id=\"E8\" rx=\"10\" ry=\"10\" style=\"stroke: #383838; stroke-width: 1.5;\" width=\"50\" x=\"145\" y=\"133\"/><text fill=\"#000000\" font-family=\"sans-serif\" font-size=\"12\" lengthAdjust=\"spacingAndGlyphs\" textLength=\"25\" x=\"157.5\" y=\"149.1387\">q: Q</text></a></g><!--MD5=[96f4274e9e20536e775497830990834d]\n",
       "class E10--><a href=\"psysml:29b56154-ee98-4bdd-852f-875051132018\" target=\"_top\" title=\"psysml:29b56154-ee98-4bdd-852f-875051132018\" xlink:actuate=\"onRequest\" xlink:href=\"psysml:29b56154-ee98-4bdd-852f-875051132018\" xlink:show=\"new\" xlink:title=\"psysml:29b56154-ee98-4bdd-852f-875051132018\" xlink:type=\"simple\"><rect fill=\"#FFFFFF\" height=\"88.3516\" id=\"E10\" rx=\"10\" ry=\"10\" style=\"stroke: #383838; stroke-width: 1.5;\" width=\"77\" x=\"472.5\" y=\"109\"/><text fill=\"#000000\" font-family=\"sans-serif\" font-size=\"12\" font-style=\"italic\" lengthAdjust=\"spacingAndGlyphs\" textLength=\"75\" x=\"473.5\" y=\"125.1387\">«reference»</text><text fill=\"#000000\" font-family=\"sans-serif\" font-size=\"12\" lengthAdjust=\"spacingAndGlyphs\" textLength=\"8\" x=\"507\" y=\"139.1074\">q</text><line style=\"stroke: #383838; stroke-width: 1.5;\" x1=\"473.5\" x2=\"548.5\" y1=\"146.9375\" y2=\"146.9375\"/><text fill=\"#000000\" font-family=\"sans-serif\" font-size=\"11\" lengthAdjust=\"spacingAndGlyphs\" textLength=\"23\" x=\"478.5\" y=\"177.9526\">b: B</text><text fill=\"#000000\" font-family=\"sans-serif\" font-size=\"11\" font-style=\"italic\" lengthAdjust=\"spacingAndGlyphs\" textLength=\"44\" x=\"478.5\" y=\"190.7573\">:&gt;&gt;P::a</text><line style=\"stroke: #383838; stroke-width: 1.0;\" x1=\"473.5\" x2=\"483.5\" y1=\"161.3398\" y2=\"161.3398\"/><text fill=\"#000000\" font-family=\"sans-serif\" font-size=\"11\" lengthAdjust=\"spacingAndGlyphs\" textLength=\"55\" x=\"483.5\" y=\"164.6479\">attributes</text><line style=\"stroke: #383838; stroke-width: 1.0;\" x1=\"538.5\" x2=\"548.5\" y1=\"161.3398\" y2=\"161.3398\"/></a><g id=\"E1.E11\"><a href=\"psysml:e49f0805-0747-4902-8d4f-55ae479a1338\" target=\"_top\" title=\"psysml:e49f0805-0747-4902-8d4f-55ae479a1338\" xlink:actuate=\"onRequest\" xlink:href=\"psysml:e49f0805-0747-4902-8d4f-55ae479a1338\" xlink:show=\"new\" xlink:title=\"psysml:e49f0805-0747-4902-8d4f-55ae479a1338\" xlink:type=\"simple\"><rect fill=\"#FFFFFF\" height=\"40\" id=\"E11\" rx=\"10\" ry=\"10\" style=\"stroke: #383838; stroke-width: 1.5;\" width=\"77\" x=\"32.5\" y=\"133\"/><rect fill=\"#F8F8F8\" height=\"23.9688\" rx=\"10\" ry=\"10\" style=\"stroke: #F8F8F8; stroke-width: 1.5;\" width=\"77\" x=\"32.5\" y=\"133\"/><rect fill=\"#F8F8F8\" height=\"10\" style=\"stroke: #F8F8F8; stroke-width: 1.5;\" width=\"77\" x=\"32.5\" y=\"146.9688\"/><rect fill=\"none\" height=\"40\" id=\"E11\" rx=\"10\" ry=\"10\" style=\"stroke: #383838; stroke-width: 1.5;\" width=\"77\" x=\"32.5\" y=\"133\"/><text fill=\"#000000\" font-family=\"sans-serif\" font-size=\"12\" lengthAdjust=\"spacingAndGlyphs\" textLength=\"62\" x=\"38\" y=\"149.1387\">y: P= v::q;</text></a></g><!--MD5=[185131fc0dcab0a4505a2ebe144e961b]\n",
       "link E4 to E2--><a href=\"psysml:f79594a1-bc1c-4f37-98e7-b8999b5b3daa\" target=\"_top\" title=\"psysml:f79594a1-bc1c-4f37-98e7-b8999b5b3daa\" xlink:actuate=\"onRequest\" xlink:href=\"psysml:f79594a1-bc1c-4f37-98e7-b8999b5b3daa\" xlink:show=\"new\" xlink:title=\"psysml:f79594a1-bc1c-4f37-98e7-b8999b5b3daa\" xlink:type=\"simple\"><path d=\"M278.95,174.5 C289.29,190.29 304.57,212.32 320,230 C342.085,255.3 369.5625,281.1325 391.7738,300.8438 C402.8794,310.6994 412.6684,319.0247 419.8086,324.988 C420.7011,325.7334 421.5522,326.4419 422.3594,327.1119 C422.763,327.4468 423.1555,327.7722 423.5368,328.0877 C423.6321,328.1666 423.7267,328.2449 423.8206,328.3225 \" fill=\"none\" id=\"E4-&gt;E2\" style=\"stroke: #383838; stroke-width: 1.0;\"/><polygon fill=\"#FFFFFF\" points=\"423.8206,328.3225,413.6398,310.8196,404.7177,321.6083,423.8206,328.3225\" style=\"stroke: #383838; stroke-width: 1.0;\"/></a><!--MD5=[2351f337d6de0f557b50152ba70847b5]\n",
       "link E6 to E2--><a href=\"psysml:e72a8b47-cfcf-460f-abbe-f19ffcddd547\" target=\"_top\" title=\"psysml:e72a8b47-cfcf-460f-abbe-f19ffcddd547\" xlink:actuate=\"onRequest\" xlink:href=\"psysml:e72a8b47-cfcf-460f-abbe-f19ffcddd547\" xlink:show=\"new\" xlink:title=\"psysml:e72a8b47-cfcf-460f-abbe-f19ffcddd547\" xlink:type=\"simple\"><path d=\"M597.9695,184.2276 C597.7875,184.724 597.6019,185.2229 597.4125,185.7238 C591.3525,201.7525 581.485,219.9 566,230 C544.54,243.99 470.2,221.04 451,238 C446.9488,241.5788 443.6069,245.7455 440.8611,250.3013 C440.1747,251.4402 439.5255,252.6035 438.9118,253.788 \" fill=\"none\" id=\"E6-&gt;E2\" style=\"stroke: #383838; stroke-width: 1.0;\"/><polygon fill=\"#FFFFFF\" points=\"438.9118,253.788,453.8677,240.138,441.4371,233.6976,438.9118,253.788\" style=\"stroke: #383838; stroke-width: 1.0;\"/></a><!--MD5=[9c68840b302f862f4d5b09894994e78b]\n",
       "@startuml\r\n",
       "skinparam ranksep 10\r\n",
       "skinparam rectangle {\r\n",
       " backgroundColor<<block>> LightGreen\r\n",
       "}\r\n",
       "skinparam monochrome true\r\n",
       "skinparam classbackgroundcolor white\r\n",
       "skinparam shadowing false\r\n",
       "skinparam wrapWidth 300\r\n",
       "hide circle\r\n",
       "\r\n",
       "package \"VariabilityTest\" as E1  [[psysml:6fd2d067-8ada-4ea8-9732-021f5438b424 ]]  {\r\n",
       "rec def \"P\" as E2  <<(T,blue) part def>> [[psysml:06c5c105-f179-4f9c-9acd-25394b323f4d ]] {\r\n",
       "comp usage \"a\" as E3  <<(T,blue) attribute>> [[psysml:8d9858c1-4f67-40c3-af33-b29377a1672a ]] {\r\n",
       "}\r\n",
       "}\r\n",
       "rec def \"Q\" as E4  <<(T,blue) part def>> [[psysml:dc55669e-d547-41b4-94bf-d6c68c80b885 ]] {\r\n",
       "}\r\n",
       "def \"B\" as E5  <<(T,blue) attribute def>> [[psysml:18777e48-4bd6-4ac5-98df-f6aab0b7358e ]] \r\n",
       "rec def \"V\" as E6  <<(T,blue) part def>> [[psysml:b19cdb52-b52e-4af3-afe9-4ea29743154a ]] {\r\n",
       "comp usage \"x: Q\" as E7  [[psysml:a2bd922e-3e40-42bd-80e3-ecb5a548758e ]] {\r\n",
       "- - attributes - -\r\n",
       "b: B\\n//:>>P::a// \r\n",
       "}\r\n",
       "}\r\n",
       "rec usage \"q: Q\" as E8  [[psysml:84f1cc81-1e5a-4a4b-9822-237c593dc1ed ]] {\r\n",
       "}\r\n",
       "rec usage \"v: P\" as E9  [[psysml:d9c8c4c9-730a-472e-ad5c-9ed2548fca6c ]] {\r\n",
       "comp usage \"q\" as E10  <<(T,blue) reference>> [[psysml:29b56154-ee98-4bdd-852f-875051132018 ]] {\r\n",
       "- - attributes - -\r\n",
       "b: B\\n//:>>P::a// \r\n",
       "}\r\n",
       "}\r\n",
       "rec usage \"y: P= v::q; \" as E11  [[psysml:e49f0805-0747-4902-8d4f-55ae479a1338 ]] {\r\n",
       "}\r\n",
       "}\r\n",
       "E4 - -|> E2 [[psysml:f79594a1-bc1c-4f37-98e7-b8999b5b3daa ]] \r\n",
       "E6 - -|> E2 [[psysml:e72a8b47-cfcf-460f-abbe-f19ffcddd547 ]] \r\n",
       "@enduml\r\n",
       "\n",
       "PlantUML version 1.2020.13(Sat Jun 13 12:26:38 UTC 2020)\n",
       "(EPL source distribution)\n",
       "Java Runtime: OpenJDK Runtime Environment\n",
       "JVM: OpenJDK 64-Bit Server VM\n",
       "Default Encoding: UTF-8\n",
       "Language: en\n",
       "Country: null\n",
       "--></g></svg>"
      ]
     },
     "execution_count": 40,
     "metadata": {},
     "output_type": "execute_result"
    }
   ],
   "source": [
    "%viz --style=\"DEFAULT\" --view=\"Interconnection\" \"VariabilityTest\""
   ]
  },
  {
   "cell_type": "code",
   "execution_count": 41,
   "id": "a798673c",
   "metadata": {
    "execution": {
     "iopub.execute_input": "2021-10-03T08:28:17.795613Z",
     "iopub.status.busy": "2021-10-03T08:28:17.795215Z",
     "iopub.status.idle": "2021-10-03T08:28:17.800447Z",
     "shell.execute_reply": "2021-10-03T08:28:17.800114Z"
    }
   },
   "outputs": [
    {
     "data": {
      "image/svg+xml": [
       "<?xml version=\"1.0\" encoding=\"UTF-8\" standalone=\"no\"?><svg xmlns=\"http://www.w3.org/2000/svg\" xmlns:xlink=\"http://www.w3.org/1999/xlink\" contentScriptType=\"application/ecmascript\" contentStyleType=\"text/css\" height=\"12px\" preserveAspectRatio=\"none\" style=\"width:12px;height:12px;\" version=\"1.1\" viewBox=\"0 0 12 12\" width=\"12px\" zoomAndPan=\"magnify\"><defs/><g><!--MD5=[388f21188e31bfdd97050473b19af356]\n",
       "@startuml\r\n",
       "skinparam ranksep 8\r\n",
       "skinparam monochrome true\r\n",
       "skinparam classbackgroundcolor white\r\n",
       "skinparam shadowing false\r\n",
       "skinparam wrapWidth 300\r\n",
       "hide circle\r\n",
       "\r\n",
       "@enduml\r\n",
       "\n",
       "PlantUML version 1.2020.13(Sat Jun 13 12:26:38 UTC 2020)\n",
       "(EPL source distribution)\n",
       "Java Runtime: OpenJDK Runtime Environment\n",
       "JVM: OpenJDK 64-Bit Server VM\n",
       "Default Encoding: UTF-8\n",
       "Language: en\n",
       "Country: null\n",
       "--></g></svg>"
      ]
     },
     "execution_count": 41,
     "metadata": {},
     "output_type": "execute_result"
    }
   ],
   "source": [
    "%viz --style=\"DEFAULT\" --view=\"Action\" \"VariabilityTest\""
   ]
  },
  {
   "cell_type": "code",
   "execution_count": 42,
   "id": "0d4dc7d2",
   "metadata": {
    "execution": {
     "iopub.execute_input": "2021-10-03T08:28:17.849888Z",
     "iopub.status.busy": "2021-10-03T08:28:17.849493Z",
     "iopub.status.idle": "2021-10-03T08:28:17.854658Z",
     "shell.execute_reply": "2021-10-03T08:28:17.854327Z"
    }
   },
   "outputs": [
    {
     "data": {
      "image/svg+xml": [
       "<?xml version=\"1.0\" encoding=\"UTF-8\" standalone=\"no\"?><svg xmlns=\"http://www.w3.org/2000/svg\" xmlns:xlink=\"http://www.w3.org/1999/xlink\" contentScriptType=\"application/ecmascript\" contentStyleType=\"text/css\" height=\"12px\" preserveAspectRatio=\"none\" style=\"width:12px;height:12px;\" version=\"1.1\" viewBox=\"0 0 12 12\" width=\"12px\" zoomAndPan=\"magnify\"><defs/><g><!--MD5=[0b72472770326784bf6c2b53246e1e64]\n",
       "@startuml\r\n",
       "skinparam roundcorner 20\r\n",
       "skinparam BoxPadding 20\r\n",
       "skinparam SequenceBoxBackgroundColor #white\r\n",
       "skinparam style strictuml\r\n",
       "skinparam maxMessageSize 100\r\n",
       "skinparam monochrome true\r\n",
       "skinparam classbackgroundcolor white\r\n",
       "skinparam shadowing false\r\n",
       "skinparam wrapWidth 300\r\n",
       "hide circle\r\n",
       "\r\n",
       "@enduml\r\n",
       "\n",
       "PlantUML version 1.2020.13(Sat Jun 13 12:26:38 UTC 2020)\n",
       "(EPL source distribution)\n",
       "Java Runtime: OpenJDK Runtime Environment\n",
       "JVM: OpenJDK 64-Bit Server VM\n",
       "Default Encoding: UTF-8\n",
       "Language: en\n",
       "Country: null\n",
       "--></g></svg>"
      ]
     },
     "execution_count": 42,
     "metadata": {},
     "output_type": "execute_result"
    }
   ],
   "source": [
    "%viz --style=\"DEFAULT\" --view=\"Sequence\" \"VariabilityTest\""
   ]
  },
  {
   "cell_type": "code",
   "execution_count": 43,
   "id": "8c51448e",
   "metadata": {
    "execution": {
     "iopub.execute_input": "2021-10-03T08:28:17.904060Z",
     "iopub.status.busy": "2021-10-03T08:28:17.903656Z",
     "iopub.status.idle": "2021-10-03T08:28:17.983099Z",
     "shell.execute_reply": "2021-10-03T08:28:17.982750Z"
    }
   },
   "outputs": [
    {
     "data": {
      "image/svg+xml": [
       "<?xml version=\"1.0\" encoding=\"UTF-8\" standalone=\"no\"?><svg xmlns=\"http://www.w3.org/2000/svg\" xmlns:xlink=\"http://www.w3.org/1999/xlink\" contentScriptType=\"application/ecmascript\" contentStyleType=\"text/css\" height=\"401px\" preserveAspectRatio=\"none\" style=\"width:419px;height:401px;\" version=\"1.1\" viewBox=\"0 0 419 401\" width=\"419px\" zoomAndPan=\"magnify\"><defs/><g><!--MD5=[fbc87193dbaf4d95561dea2c320d4a47]\n",
       "cluster E1--><a href=\"psysml:6fd2d067-8ada-4ea8-9732-021f5438b424\" target=\"_top\" title=\"psysml:6fd2d067-8ada-4ea8-9732-021f5438b424\" xlink:actuate=\"onRequest\" xlink:href=\"psysml:6fd2d067-8ada-4ea8-9732-021f5438b424\" xlink:show=\"new\" xlink:title=\"psysml:6fd2d067-8ada-4ea8-9732-021f5438b424\" xlink:type=\"simple\"><polygon fill=\"#FFFFFF\" points=\"16,6,116,6,123,28.2969,397,28.2969,397,389,16,389,16,6\" style=\"stroke: #000000; stroke-width: 1.5;\"/><line style=\"stroke: #000000; stroke-width: 1.5;\" x1=\"16\" x2=\"123\" y1=\"28.2969\" y2=\"28.2969\"/><text fill=\"#000000\" font-family=\"sans-serif\" font-size=\"14\" font-weight=\"bold\" lengthAdjust=\"spacingAndGlyphs\" textLength=\"94\" x=\"20\" y=\"20.9951\">VariabilityTest</text></a><!--MD5=[b4997ac47864f28c2f74865a473b2911]\n",
       "class E2--><a href=\"psysml:06c5c105-f179-4f9c-9acd-25394b323f4d\" target=\"_top\" title=\"psysml:06c5c105-f179-4f9c-9acd-25394b323f4d\" xlink:actuate=\"onRequest\" xlink:href=\"psysml:06c5c105-f179-4f9c-9acd-25394b323f4d\" xlink:show=\"new\" xlink:title=\"psysml:06c5c105-f179-4f9c-9acd-25394b323f4d\" xlink:type=\"simple\"><rect fill=\"#FFFFFF\" height=\"75.5469\" id=\"E2\" style=\"stroke: #383838; stroke-width: 1.5;\" width=\"66\" x=\"166\" y=\"291\"/><text fill=\"#000000\" font-family=\"sans-serif\" font-size=\"12\" font-style=\"italic\" lengthAdjust=\"spacingAndGlyphs\" textLength=\"64\" x=\"167\" y=\"307.1387\">«part def»</text><text fill=\"#000000\" font-family=\"sans-serif\" font-size=\"12\" lengthAdjust=\"spacingAndGlyphs\" textLength=\"8\" x=\"195\" y=\"321.1074\">P</text><line style=\"stroke: #383838; stroke-width: 1.5;\" x1=\"167\" x2=\"231\" y1=\"328.9375\" y2=\"328.9375\"/><text fill=\"#000000\" font-family=\"sans-serif\" font-size=\"11\" lengthAdjust=\"spacingAndGlyphs\" textLength=\"7\" x=\"172\" y=\"359.9526\">a</text><line style=\"stroke: #383838; stroke-width: 1.0;\" x1=\"167\" x2=\"171.5\" y1=\"343.3398\" y2=\"343.3398\"/><text fill=\"#000000\" font-family=\"sans-serif\" font-size=\"11\" lengthAdjust=\"spacingAndGlyphs\" textLength=\"55\" x=\"171.5\" y=\"346.6479\">attributes</text><line style=\"stroke: #383838; stroke-width: 1.0;\" x1=\"226.5\" x2=\"231\" y1=\"343.3398\" y2=\"343.3398\"/></a><!--MD5=[09b614a08d8cba4a07c9adeb5e0fee81]\n",
       "class E3--><a href=\"psysml:dc55669e-d547-41b4-94bf-d6c68c80b885\" target=\"_top\" title=\"psysml:dc55669e-d547-41b4-94bf-d6c68c80b885\" xlink:actuate=\"onRequest\" xlink:href=\"psysml:dc55669e-d547-41b4-94bf-d6c68c80b885\" xlink:show=\"new\" xlink:title=\"psysml:dc55669e-d547-41b4-94bf-d6c68c80b885\" xlink:type=\"simple\"><rect fill=\"#FFFFFF\" height=\"45.9375\" id=\"E3\" style=\"stroke: #383838; stroke-width: 1.5;\" width=\"66\" x=\"137\" y=\"155\"/><text fill=\"#000000\" font-family=\"sans-serif\" font-size=\"12\" font-style=\"italic\" lengthAdjust=\"spacingAndGlyphs\" textLength=\"64\" x=\"138\" y=\"171.1387\">«part def»</text><text fill=\"#000000\" font-family=\"sans-serif\" font-size=\"12\" lengthAdjust=\"spacingAndGlyphs\" textLength=\"9\" x=\"165.5\" y=\"185.1074\">Q</text><line style=\"stroke: #383838; stroke-width: 1.5;\" x1=\"138\" x2=\"202\" y1=\"192.9375\" y2=\"192.9375\"/></a><!--MD5=[ebbe1d658d1005bcc118a6aa81145e00]\n",
       "class E4--><a href=\"psysml:18777e48-4bd6-4ac5-98df-f6aab0b7358e\" target=\"_top\" title=\"psysml:18777e48-4bd6-4ac5-98df-f6aab0b7358e\" xlink:actuate=\"onRequest\" xlink:href=\"psysml:18777e48-4bd6-4ac5-98df-f6aab0b7358e\" xlink:show=\"new\" xlink:title=\"psysml:18777e48-4bd6-4ac5-98df-f6aab0b7358e\" xlink:type=\"simple\"><rect fill=\"#FFFFFF\" height=\"45.9375\" id=\"E4\" style=\"stroke: #383838; stroke-width: 1.5;\" width=\"95\" x=\"255.5\" y=\"41\"/><text fill=\"#000000\" font-family=\"sans-serif\" font-size=\"12\" font-style=\"italic\" lengthAdjust=\"spacingAndGlyphs\" textLength=\"93\" x=\"256.5\" y=\"57.1387\">«attribute def»</text><text fill=\"#000000\" font-family=\"sans-serif\" font-size=\"12\" lengthAdjust=\"spacingAndGlyphs\" textLength=\"8\" x=\"299\" y=\"71.1074\">B</text><line style=\"stroke: #383838; stroke-width: 1.5;\" x1=\"256.5\" x2=\"349.5\" y1=\"78.9375\" y2=\"78.9375\"/></a><!--MD5=[270fce915f116d4de14055a7c1d9a0f3]\n",
       "class E5--><a href=\"psysml:b19cdb52-b52e-4af3-afe9-4ea29743154a\" target=\"_top\" title=\"psysml:b19cdb52-b52e-4af3-afe9-4ea29743154a\" xlink:actuate=\"onRequest\" xlink:href=\"psysml:b19cdb52-b52e-4af3-afe9-4ea29743154a\" xlink:show=\"new\" xlink:title=\"psysml:b19cdb52-b52e-4af3-afe9-4ea29743154a\" xlink:type=\"simple\"><rect fill=\"#FFFFFF\" height=\"45.9375\" id=\"E5\" style=\"stroke: #383838; stroke-width: 1.5;\" width=\"66\" x=\"315\" y=\"155\"/><text fill=\"#000000\" font-family=\"sans-serif\" font-size=\"12\" font-style=\"italic\" lengthAdjust=\"spacingAndGlyphs\" textLength=\"64\" x=\"316\" y=\"171.1387\">«part def»</text><text fill=\"#000000\" font-family=\"sans-serif\" font-size=\"12\" lengthAdjust=\"spacingAndGlyphs\" textLength=\"8\" x=\"344\" y=\"185.1074\">V</text><line style=\"stroke: #383838; stroke-width: 1.5;\" x1=\"316\" x2=\"380\" y1=\"192.9375\" y2=\"192.9375\"/></a><!--MD5=[60a26617385b1d2d0262a64233df1f8d]\n",
       "class E6--><a href=\"psysml:a2bd922e-3e40-42bd-80e3-ecb5a548758e\" target=\"_top\" title=\"psysml:a2bd922e-3e40-42bd-80e3-ecb5a548758e\" xlink:actuate=\"onRequest\" xlink:href=\"psysml:a2bd922e-3e40-42bd-80e3-ecb5a548758e\" xlink:show=\"new\" xlink:title=\"psysml:a2bd922e-3e40-42bd-80e3-ecb5a548758e\" xlink:type=\"simple\"><rect fill=\"#FFFFFF\" height=\"88.3516\" id=\"E6\" rx=\"10\" ry=\"10\" style=\"stroke: #383838; stroke-width: 1.5;\" width=\"63\" x=\"287.5\" y=\"285\"/><text fill=\"#000000\" font-family=\"sans-serif\" font-size=\"12\" font-style=\"italic\" lengthAdjust=\"spacingAndGlyphs\" textLength=\"40\" x=\"299\" y=\"301.1387\">«part»</text><text fill=\"#000000\" font-family=\"sans-serif\" font-size=\"12\" lengthAdjust=\"spacingAndGlyphs\" textLength=\"23\" x=\"307.5\" y=\"315.1074\">x: Q</text><line style=\"stroke: #383838; stroke-width: 1.5;\" x1=\"288.5\" x2=\"349.5\" y1=\"322.9375\" y2=\"322.9375\"/><text fill=\"#000000\" font-family=\"sans-serif\" font-size=\"11\" lengthAdjust=\"spacingAndGlyphs\" textLength=\"23\" x=\"293.5\" y=\"353.9526\">b: B</text><text fill=\"#000000\" font-family=\"sans-serif\" font-size=\"11\" font-style=\"italic\" lengthAdjust=\"spacingAndGlyphs\" textLength=\"44\" x=\"293.5\" y=\"366.7573\">:&gt;&gt;P::a</text><line style=\"stroke: #383838; stroke-width: 1.0;\" x1=\"288.5\" x2=\"291.5\" y1=\"337.3398\" y2=\"337.3398\"/><text fill=\"#000000\" font-family=\"sans-serif\" font-size=\"11\" lengthAdjust=\"spacingAndGlyphs\" textLength=\"55\" x=\"291.5\" y=\"340.6479\">attributes</text><line style=\"stroke: #383838; stroke-width: 1.0;\" x1=\"346.5\" x2=\"349.5\" y1=\"337.3398\" y2=\"337.3398\"/></a><!--MD5=[2156ba9850f5573cc1fc38a6a4b2f02b]\n",
       "class E7--><a href=\"psysml:84f1cc81-1e5a-4a4b-9822-237c593dc1ed\" target=\"_top\" title=\"psysml:84f1cc81-1e5a-4a4b-9822-237c593dc1ed\" xlink:actuate=\"onRequest\" xlink:href=\"psysml:84f1cc81-1e5a-4a4b-9822-237c593dc1ed\" xlink:show=\"new\" xlink:title=\"psysml:84f1cc81-1e5a-4a4b-9822-237c593dc1ed\" xlink:type=\"simple\"><rect fill=\"#FFFFFF\" height=\"45.9375\" id=\"E7\" rx=\"10\" ry=\"10\" style=\"stroke: #383838; stroke-width: 1.5;\" width=\"42\" x=\"149\" y=\"41\"/><text fill=\"#000000\" font-family=\"sans-serif\" font-size=\"12\" font-style=\"italic\" lengthAdjust=\"spacingAndGlyphs\" textLength=\"40\" x=\"150\" y=\"57.1387\">«part»</text><text fill=\"#000000\" font-family=\"sans-serif\" font-size=\"12\" lengthAdjust=\"spacingAndGlyphs\" textLength=\"25\" x=\"157.5\" y=\"71.1074\">q: Q</text><line style=\"stroke: #383838; stroke-width: 1.5;\" x1=\"150\" x2=\"190\" y1=\"78.9375\" y2=\"78.9375\"/></a><!--MD5=[b9389687b975829384b498ac4b7476b2]\n",
       "class E8--><a href=\"psysml:d9c8c4c9-730a-472e-ad5c-9ed2548fca6c\" target=\"_top\" title=\"psysml:d9c8c4c9-730a-472e-ad5c-9ed2548fca6c\" xlink:actuate=\"onRequest\" xlink:href=\"psysml:d9c8c4c9-730a-472e-ad5c-9ed2548fca6c\" xlink:show=\"new\" xlink:title=\"psysml:d9c8c4c9-730a-472e-ad5c-9ed2548fca6c\" xlink:type=\"simple\"><rect fill=\"#FFFFFF\" height=\"59.9063\" id=\"E8\" rx=\"10\" ry=\"10\" style=\"stroke: #383838; stroke-width: 1.5;\" width=\"70\" x=\"32\" y=\"148\"/><text fill=\"#000000\" font-family=\"sans-serif\" font-size=\"12\" font-style=\"italic\" lengthAdjust=\"spacingAndGlyphs\" textLength=\"68\" x=\"33\" y=\"164.1387\">«variation»</text><text fill=\"#000000\" font-family=\"sans-serif\" font-size=\"12\" font-style=\"italic\" lengthAdjust=\"spacingAndGlyphs\" textLength=\"40\" x=\"47\" y=\"178.1074\">«part»</text><text fill=\"#000000\" font-family=\"sans-serif\" font-size=\"12\" lengthAdjust=\"spacingAndGlyphs\" textLength=\"22\" x=\"56\" y=\"192.0762\">v: P</text><line style=\"stroke: #383838; stroke-width: 1.5;\" x1=\"33\" x2=\"101\" y1=\"199.9063\" y2=\"199.9063\"/></a><!--MD5=[fd4143e9d270a159db93a4ea2a975926]\n",
       "class E9--><a href=\"psysml:29b56154-ee98-4bdd-852f-875051132018\" target=\"_top\" title=\"psysml:29b56154-ee98-4bdd-852f-875051132018\" xlink:actuate=\"onRequest\" xlink:href=\"psysml:29b56154-ee98-4bdd-852f-875051132018\" xlink:show=\"new\" xlink:title=\"psysml:29b56154-ee98-4bdd-852f-875051132018\" xlink:type=\"simple\"><rect fill=\"#FFFFFF\" height=\"88.3516\" id=\"E9\" rx=\"10\" ry=\"10\" style=\"stroke: #383838; stroke-width: 1.5;\" width=\"77\" x=\"32.5\" y=\"285\"/><text fill=\"#000000\" font-family=\"sans-serif\" font-size=\"12\" font-style=\"italic\" lengthAdjust=\"spacingAndGlyphs\" textLength=\"75\" x=\"33.5\" y=\"301.1387\">«reference»</text><text fill=\"#000000\" font-family=\"sans-serif\" font-size=\"12\" lengthAdjust=\"spacingAndGlyphs\" textLength=\"8\" x=\"67\" y=\"315.1074\">q</text><line style=\"stroke: #383838; stroke-width: 1.5;\" x1=\"33.5\" x2=\"108.5\" y1=\"322.9375\" y2=\"322.9375\"/><text fill=\"#000000\" font-family=\"sans-serif\" font-size=\"11\" lengthAdjust=\"spacingAndGlyphs\" textLength=\"23\" x=\"38.5\" y=\"353.9526\">b: B</text><text fill=\"#000000\" font-family=\"sans-serif\" font-size=\"11\" font-style=\"italic\" lengthAdjust=\"spacingAndGlyphs\" textLength=\"44\" x=\"38.5\" y=\"366.7573\">:&gt;&gt;P::a</text><line style=\"stroke: #383838; stroke-width: 1.0;\" x1=\"33.5\" x2=\"43.5\" y1=\"337.3398\" y2=\"337.3398\"/><text fill=\"#000000\" font-family=\"sans-serif\" font-size=\"11\" lengthAdjust=\"spacingAndGlyphs\" textLength=\"55\" x=\"43.5\" y=\"340.6479\">attributes</text><line style=\"stroke: #383838; stroke-width: 1.0;\" x1=\"98.5\" x2=\"108.5\" y1=\"337.3398\" y2=\"337.3398\"/></a><!--MD5=[96f4274e9e20536e775497830990834d]\n",
       "class E10--><a href=\"psysml:e49f0805-0747-4902-8d4f-55ae479a1338\" target=\"_top\" title=\"psysml:e49f0805-0747-4902-8d4f-55ae479a1338\" xlink:actuate=\"onRequest\" xlink:href=\"psysml:e49f0805-0747-4902-8d4f-55ae479a1338\" xlink:show=\"new\" xlink:title=\"psysml:e49f0805-0747-4902-8d4f-55ae479a1338\" xlink:type=\"simple\"><rect fill=\"#FFFFFF\" height=\"45.9375\" id=\"E10\" rx=\"10\" ry=\"10\" style=\"stroke: #383838; stroke-width: 1.5;\" width=\"42\" x=\"238\" y=\"155\"/><text fill=\"#000000\" font-family=\"sans-serif\" font-size=\"12\" font-style=\"italic\" lengthAdjust=\"spacingAndGlyphs\" textLength=\"40\" x=\"239\" y=\"171.1387\">«part»</text><text fill=\"#000000\" font-family=\"sans-serif\" font-size=\"12\" lengthAdjust=\"spacingAndGlyphs\" textLength=\"22\" x=\"248\" y=\"185.1074\">y: P</text><line style=\"stroke: #383838; stroke-width: 1.5;\" x1=\"239\" x2=\"279\" y1=\"192.9375\" y2=\"192.9375\"/></a><!--MD5=[05d275557350bfb9b23a4ef7222b4c39]\n",
       "link E3 to E2--><a href=\"psysml:f79594a1-bc1c-4f37-98e7-b8999b5b3daa\" target=\"_top\" title=\"psysml:f79594a1-bc1c-4f37-98e7-b8999b5b3daa\" xlink:actuate=\"onRequest\" xlink:href=\"psysml:f79594a1-bc1c-4f37-98e7-b8999b5b3daa\" xlink:show=\"new\" xlink:title=\"psysml:f79594a1-bc1c-4f37-98e7-b8999b5b3daa\" xlink:type=\"simple\"><path d=\"M174.34,201.31 C177.92,219.67 183.15,246.54 187.87,270.81 \" fill=\"none\" id=\"E3-&gt;E2\" style=\"stroke: #383838; stroke-width: 1.0;\"/><polygon fill=\"none\" points=\"194.8,269.8,191.75,290.77,181.06,272.47,194.8,269.8\" style=\"stroke: #383838; stroke-width: 1.0;\"/></a><!--MD5=[15ebcb19ae302d9b601edb458606d402]\n",
       "link E5 to E2--><a href=\"psysml:e72a8b47-cfcf-460f-abbe-f19ffcddd547\" target=\"_top\" title=\"psysml:e72a8b47-cfcf-460f-abbe-f19ffcddd547\" xlink:actuate=\"onRequest\" xlink:href=\"psysml:e72a8b47-cfcf-460f-abbe-f19ffcddd547\" xlink:show=\"new\" xlink:title=\"psysml:e72a8b47-cfcf-460f-abbe-f19ffcddd547\" xlink:type=\"simple\"><path d=\"M325.69,201.31 C304.9,222.1 273.2,253.8 246.71,280.29 \" fill=\"none\" id=\"E5-&gt;E2\" style=\"stroke: #383838; stroke-width: 1.0;\"/><polygon fill=\"none\" points=\"251.33,285.57,232.24,294.76,241.43,275.67,251.33,285.57\" style=\"stroke: #383838; stroke-width: 1.0;\"/></a><!--MD5=[9120cf2e5df3bff93db8f754bbbc09b4]\n",
       "link E5 to E6--><a href=\"psysml:d1158e90-c200-41a0-bff8-4b2e6825fa74\" target=\"_top\" title=\"psysml:d1158e90-c200-41a0-bff8-4b2e6825fa74\" xlink:actuate=\"onRequest\" xlink:href=\"psysml:d1158e90-c200-41a0-bff8-4b2e6825fa74\" xlink:show=\"new\" xlink:title=\"psysml:d1158e90-c200-41a0-bff8-4b2e6825fa74\" xlink:type=\"simple\"><path d=\"M341.72,211.26 C338.1,229.85 333.47,253.68 329.32,274.95 \" fill=\"none\" id=\"E5-E6\" style=\"stroke: #383838; stroke-width: 1.0;\"/><polygon fill=\"#383838\" points=\"327.4,284.84,331.8761,277.5623,325.987,276.4136,327.4,284.84\" style=\"stroke: #383838; stroke-width: 1.0;\"/><path d=\"M334.7699,202.7122 A9,9 0 0 0 351.3715 205.9503\" fill=\"none\" style=\"stroke: #383838; stroke-width: 1.5;\"/><text fill=\"#000000\" font-family=\"sans-serif\" font-size=\"13\" lengthAdjust=\"spacingAndGlyphs\" textLength=\"60\" x=\"337\" y=\"251.0669\">«variant»</text></a><!--MD5=[14ccda38c055a5c0da953d572bc50960]\n",
       "link E7 to E3--><a href=\"psysml:df5a11ab-14bd-474c-9e9f-2e0517640249\" target=\"_top\" title=\"psysml:df5a11ab-14bd-474c-9e9f-2e0517640249\" xlink:actuate=\"onRequest\" xlink:href=\"psysml:df5a11ab-14bd-474c-9e9f-2e0517640249\" xlink:show=\"new\" xlink:title=\"psysml:df5a11ab-14bd-474c-9e9f-2e0517640249\" xlink:type=\"simple\"><path d=\"M170,87.13 C170,100.7 170,118.53 170,134.73 \" fill=\"none\" id=\"E7-&gt;E3\" style=\"stroke: #383838; stroke-width: 1.0;\"/><polygon fill=\"#FFFFFF\" points=\"170,154.92,163,135.92,177,135.92,170,154.92\" style=\"stroke: #383838; stroke-width: 1.0;\"/><ellipse cx=\"165\" cy=\"130.22\" fill=\"#383838\" rx=\"2\" ry=\"2\" style=\"stroke: #383838; stroke-width: 1.0;\"/><ellipse cx=\"175\" cy=\"130.22\" fill=\"#383838\" rx=\"2\" ry=\"2\" style=\"stroke: #383838; stroke-width: 1.0;\"/></a><!--MD5=[f1f3f9f2fc535e6147756cb86a7f2e32]\n",
       "link E8 to E2--><a href=\"psysml:108d975b-2613-446e-8683-bfdaec0afedf\" target=\"_top\" title=\"psysml:108d975b-2613-446e-8683-bfdaec0afedf\" xlink:actuate=\"onRequest\" xlink:href=\"psysml:108d975b-2613-446e-8683-bfdaec0afedf\" xlink:show=\"new\" xlink:title=\"psysml:108d975b-2613-446e-8683-bfdaec0afedf\" xlink:type=\"simple\"><path d=\"M102.17,204.39 C114.52,214.17 128.04,225.9 139,238 C148.86,248.88 158.29,261.5 166.63,273.79 \" fill=\"none\" id=\"E8-&gt;E2\" style=\"stroke: #383838; stroke-width: 1.0;\"/><polygon fill=\"#FFFFFF\" points=\"177.64,290.73,161.4168,278.6135,173.1555,270.9844,177.64,290.73\" style=\"stroke: #383838; stroke-width: 1.0;\"/><ellipse cx=\"159.9876\" cy=\"272.7443\" fill=\"#383838\" rx=\"2\" ry=\"2\" style=\"stroke: #383838; stroke-width: 1.0;\"/><ellipse cx=\"168.3724\" cy=\"267.2949\" fill=\"#383838\" rx=\"2\" ry=\"2\" style=\"stroke: #383838; stroke-width: 1.0;\"/></a><!--MD5=[ed10624c06dd9a4fa49ccf290e8b16a8]\n",
       "link E8 to E9--><a href=\"psysml:ebcdab70-773e-42b3-a4e9-8c7478e829d7\" target=\"_top\" title=\"psysml:ebcdab70-773e-42b3-a4e9-8c7478e829d7\" xlink:actuate=\"onRequest\" xlink:href=\"psysml:ebcdab70-773e-42b3-a4e9-8c7478e829d7\" xlink:show=\"new\" xlink:title=\"psysml:ebcdab70-773e-42b3-a4e9-8c7478e829d7\" xlink:type=\"simple\"><path d=\"M68.06,218.32 C68.52,235.6 69.07,256.15 69.57,274.77 \" fill=\"none\" id=\"E8-E9\" style=\"stroke: #383838; stroke-width: 1.0;\"/><polygon fill=\"#383838\" points=\"69.84,284.88,72.6331,276.8054,66.6351,276.9599,69.84,284.88\" style=\"stroke: #383838; stroke-width: 1.0;\"/><path d=\"M59.4094,211.3865 A9,9 0 0 0 76.3176 210.9276\" fill=\"none\" style=\"stroke: #383838; stroke-width: 1.5;\"/><text fill=\"#000000\" font-family=\"sans-serif\" font-size=\"13\" lengthAdjust=\"spacingAndGlyphs\" textLength=\"60\" x=\"70\" y=\"251.0669\">«variant»</text></a><!--MD5=[0f36bececdf0dff6e600d6f64214b0f1]\n",
       "link E10 to E2--><a href=\"psysml:967d0111-ba43-4736-bbbb-a2fd42e2431e\" target=\"_top\" title=\"psysml:967d0111-ba43-4736-bbbb-a2fd42e2431e\" xlink:actuate=\"onRequest\" xlink:href=\"psysml:967d0111-ba43-4736-bbbb-a2fd42e2431e\" xlink:show=\"new\" xlink:title=\"psysml:967d0111-ba43-4736-bbbb-a2fd42e2431e\" xlink:type=\"simple\"><path d=\"M250.02,201.31 C242.51,219.95 231.48,247.35 221.59,271.91 \" fill=\"none\" id=\"E10-&gt;E2\" style=\"stroke: #383838; stroke-width: 1.0;\"/><polygon fill=\"#FFFFFF\" points=\"213.99,290.77,214.5927,270.5305,227.5796,275.7593,213.99,290.77\" style=\"stroke: #383838; stroke-width: 1.0;\"/><ellipse cx=\"218.5768\" cy=\"265.9899\" fill=\"#383838\" rx=\"2\" ry=\"2\" style=\"stroke: #383838; stroke-width: 1.0;\"/><ellipse cx=\"227.8532\" cy=\"269.7248\" fill=\"#383838\" rx=\"2\" ry=\"2\" style=\"stroke: #383838; stroke-width: 1.0;\"/></a><!--MD5=[74174cfa6002fa661a10725cc7284edc]\n",
       "@startuml\r\n",
       "skinparam monochrome true\r\n",
       "skinparam classbackgroundcolor white\r\n",
       "skinparam shadowing false\r\n",
       "skinparam wrapWidth 300\r\n",
       "hide circle\r\n",
       "\r\n",
       "package \"VariabilityTest\" as E1  [[psysml:6fd2d067-8ada-4ea8-9732-021f5438b424 ]]  {\r\n",
       "comp def \"P\" as E2  <<(T,blue) part def>> [[psysml:06c5c105-f179-4f9c-9acd-25394b323f4d ]] {\r\n",
       "- - attributes - -\r\n",
       "a\r\n",
       "}\r\n",
       "comp def \"Q\" as E3  <<(T,blue) part def>> [[psysml:dc55669e-d547-41b4-94bf-d6c68c80b885 ]] {\r\n",
       "}\r\n",
       "comp def \"B\" as E4  <<(T,blue) attribute def>> [[psysml:18777e48-4bd6-4ac5-98df-f6aab0b7358e ]] {\r\n",
       "}\r\n",
       "comp def \"V\" as E5  <<(T,blue) part def>> [[psysml:b19cdb52-b52e-4af3-afe9-4ea29743154a ]] {\r\n",
       "}\r\n",
       "comp usage \"x: Q\" as E6  <<(T,blue) part>> [[psysml:a2bd922e-3e40-42bd-80e3-ecb5a548758e ]] {\r\n",
       "- - attributes - -\r\n",
       "b: B\\n//:>>P::a// \r\n",
       "}\r\n",
       "comp usage \"q: Q\" as E7  <<(T,blue) part>> [[psysml:84f1cc81-1e5a-4a4b-9822-237c593dc1ed ]] {\r\n",
       "}\r\n",
       "comp usage \"v: P\" as E8  <<variation>>\\n <<(T,blue) part>> [[psysml:d9c8c4c9-730a-472e-ad5c-9ed2548fca6c ]] {\r\n",
       "}\r\n",
       "comp usage \"q\" as E9  <<(T,blue) reference>> [[psysml:29b56154-ee98-4bdd-852f-875051132018 ]] {\r\n",
       "- - attributes - -\r\n",
       "b: B\\n//:>>P::a// \r\n",
       "}\r\n",
       "comp usage \"y: P\" as E10  <<(T,blue) part>> [[psysml:e49f0805-0747-4902-8d4f-55ae479a1338 ]] {\r\n",
       "}\r\n",
       "}\r\n",
       "E3 - -|> E2 [[psysml:f79594a1-bc1c-4f37-98e7-b8999b5b3daa ]] \r\n",
       "E5 - -|> E2 [[psysml:e72a8b47-cfcf-460f-abbe-f19ffcddd547 ]] \r\n",
       "E5 )- ->> E6 [[psysml:d1158e90-c200-41a0-bff8-4b2e6825fa74 ]] : <<variant>>\r\n",
       "E7 - -:|> E3 [[psysml:df5a11ab-14bd-474c-9e9f-2e0517640249 ]] \r\n",
       "E8 - -:|> E2 [[psysml:108d975b-2613-446e-8683-bfdaec0afedf ]] \r\n",
       "E8 )- ->> E9 [[psysml:ebcdab70-773e-42b3-a4e9-8c7478e829d7 ]] : <<variant>>\r\n",
       "E10 - -:|> E2 [[psysml:967d0111-ba43-4736-bbbb-a2fd42e2431e ]] \r\n",
       "@enduml\r\n",
       "\n",
       "PlantUML version 1.2020.13(Sat Jun 13 12:26:38 UTC 2020)\n",
       "(EPL source distribution)\n",
       "Java Runtime: OpenJDK Runtime Environment\n",
       "JVM: OpenJDK 64-Bit Server VM\n",
       "Default Encoding: UTF-8\n",
       "Language: en\n",
       "Country: null\n",
       "--></g></svg>"
      ]
     },
     "execution_count": 43,
     "metadata": {},
     "output_type": "execute_result"
    }
   ],
   "source": [
    "%viz --style=\"DEFAULT\" --view=\"MIXED\" \"VariabilityTest\""
   ]
  },
  {
   "cell_type": "code",
   "execution_count": 44,
   "id": "fec40379",
   "metadata": {
    "execution": {
     "iopub.execute_input": "2021-10-03T08:28:18.032233Z",
     "iopub.status.busy": "2021-10-03T08:28:18.031840Z",
     "iopub.status.idle": "2021-10-03T08:28:18.110558Z",
     "shell.execute_reply": "2021-10-03T08:28:18.110870Z"
    }
   },
   "outputs": [
    {
     "data": {
      "image/svg+xml": [
       "<?xml version=\"1.0\" encoding=\"UTF-8\" standalone=\"no\"?><svg xmlns=\"http://www.w3.org/2000/svg\" xmlns:xlink=\"http://www.w3.org/1999/xlink\" contentScriptType=\"application/ecmascript\" contentStyleType=\"text/css\" height=\"401px\" preserveAspectRatio=\"none\" style=\"width:419px;height:401px;\" version=\"1.1\" viewBox=\"0 0 419 401\" width=\"419px\" zoomAndPan=\"magnify\"><defs/><g><!--MD5=[fbc87193dbaf4d95561dea2c320d4a47]\n",
       "cluster E1--><a href=\"psysml:6fd2d067-8ada-4ea8-9732-021f5438b424\" target=\"_top\" title=\"psysml:6fd2d067-8ada-4ea8-9732-021f5438b424\" xlink:actuate=\"onRequest\" xlink:href=\"psysml:6fd2d067-8ada-4ea8-9732-021f5438b424\" xlink:show=\"new\" xlink:title=\"psysml:6fd2d067-8ada-4ea8-9732-021f5438b424\" xlink:type=\"simple\"><polygon fill=\"#FFFFFF\" points=\"16,6,116,6,123,28.2969,397,28.2969,397,389,16,389,16,6\" style=\"stroke: #000000; stroke-width: 1.5;\"/><line style=\"stroke: #000000; stroke-width: 1.5;\" x1=\"16\" x2=\"123\" y1=\"28.2969\" y2=\"28.2969\"/><text fill=\"#000000\" font-family=\"sans-serif\" font-size=\"14\" font-weight=\"bold\" lengthAdjust=\"spacingAndGlyphs\" textLength=\"94\" x=\"20\" y=\"20.9951\">VariabilityTest</text></a><!--MD5=[b4997ac47864f28c2f74865a473b2911]\n",
       "class E2--><a href=\"psysml:06c5c105-f179-4f9c-9acd-25394b323f4d\" target=\"_top\" title=\"psysml:06c5c105-f179-4f9c-9acd-25394b323f4d\" xlink:actuate=\"onRequest\" xlink:href=\"psysml:06c5c105-f179-4f9c-9acd-25394b323f4d\" xlink:show=\"new\" xlink:title=\"psysml:06c5c105-f179-4f9c-9acd-25394b323f4d\" xlink:type=\"simple\"><rect fill=\"#FFFFFF\" height=\"75.5469\" id=\"E2\" style=\"stroke: #383838; stroke-width: 1.5;\" width=\"66\" x=\"166\" y=\"291\"/><text fill=\"#000000\" font-family=\"sans-serif\" font-size=\"12\" font-style=\"italic\" lengthAdjust=\"spacingAndGlyphs\" textLength=\"64\" x=\"167\" y=\"307.1387\">«part def»</text><text fill=\"#000000\" font-family=\"sans-serif\" font-size=\"12\" lengthAdjust=\"spacingAndGlyphs\" textLength=\"8\" x=\"195\" y=\"321.1074\">P</text><line style=\"stroke: #383838; stroke-width: 1.5;\" x1=\"167\" x2=\"231\" y1=\"328.9375\" y2=\"328.9375\"/><text fill=\"#000000\" font-family=\"sans-serif\" font-size=\"11\" lengthAdjust=\"spacingAndGlyphs\" textLength=\"7\" x=\"172\" y=\"359.9526\">a</text><line style=\"stroke: #383838; stroke-width: 1.0;\" x1=\"167\" x2=\"171.5\" y1=\"343.3398\" y2=\"343.3398\"/><text fill=\"#000000\" font-family=\"sans-serif\" font-size=\"11\" lengthAdjust=\"spacingAndGlyphs\" textLength=\"55\" x=\"171.5\" y=\"346.6479\">attributes</text><line style=\"stroke: #383838; stroke-width: 1.0;\" x1=\"226.5\" x2=\"231\" y1=\"343.3398\" y2=\"343.3398\"/></a><!--MD5=[09b614a08d8cba4a07c9adeb5e0fee81]\n",
       "class E3--><a href=\"psysml:dc55669e-d547-41b4-94bf-d6c68c80b885\" target=\"_top\" title=\"psysml:dc55669e-d547-41b4-94bf-d6c68c80b885\" xlink:actuate=\"onRequest\" xlink:href=\"psysml:dc55669e-d547-41b4-94bf-d6c68c80b885\" xlink:show=\"new\" xlink:title=\"psysml:dc55669e-d547-41b4-94bf-d6c68c80b885\" xlink:type=\"simple\"><rect fill=\"#FFFFFF\" height=\"45.9375\" id=\"E3\" style=\"stroke: #383838; stroke-width: 1.5;\" width=\"66\" x=\"137\" y=\"155\"/><text fill=\"#000000\" font-family=\"sans-serif\" font-size=\"12\" font-style=\"italic\" lengthAdjust=\"spacingAndGlyphs\" textLength=\"64\" x=\"138\" y=\"171.1387\">«part def»</text><text fill=\"#000000\" font-family=\"sans-serif\" font-size=\"12\" lengthAdjust=\"spacingAndGlyphs\" textLength=\"9\" x=\"165.5\" y=\"185.1074\">Q</text><line style=\"stroke: #383838; stroke-width: 1.5;\" x1=\"138\" x2=\"202\" y1=\"192.9375\" y2=\"192.9375\"/></a><!--MD5=[ebbe1d658d1005bcc118a6aa81145e00]\n",
       "class E4--><a href=\"psysml:18777e48-4bd6-4ac5-98df-f6aab0b7358e\" target=\"_top\" title=\"psysml:18777e48-4bd6-4ac5-98df-f6aab0b7358e\" xlink:actuate=\"onRequest\" xlink:href=\"psysml:18777e48-4bd6-4ac5-98df-f6aab0b7358e\" xlink:show=\"new\" xlink:title=\"psysml:18777e48-4bd6-4ac5-98df-f6aab0b7358e\" xlink:type=\"simple\"><rect fill=\"#FFFFFF\" height=\"45.9375\" id=\"E4\" style=\"stroke: #383838; stroke-width: 1.5;\" width=\"95\" x=\"255.5\" y=\"41\"/><text fill=\"#000000\" font-family=\"sans-serif\" font-size=\"12\" font-style=\"italic\" lengthAdjust=\"spacingAndGlyphs\" textLength=\"93\" x=\"256.5\" y=\"57.1387\">«attribute def»</text><text fill=\"#000000\" font-family=\"sans-serif\" font-size=\"12\" lengthAdjust=\"spacingAndGlyphs\" textLength=\"8\" x=\"299\" y=\"71.1074\">B</text><line style=\"stroke: #383838; stroke-width: 1.5;\" x1=\"256.5\" x2=\"349.5\" y1=\"78.9375\" y2=\"78.9375\"/></a><!--MD5=[270fce915f116d4de14055a7c1d9a0f3]\n",
       "class E5--><a href=\"psysml:b19cdb52-b52e-4af3-afe9-4ea29743154a\" target=\"_top\" title=\"psysml:b19cdb52-b52e-4af3-afe9-4ea29743154a\" xlink:actuate=\"onRequest\" xlink:href=\"psysml:b19cdb52-b52e-4af3-afe9-4ea29743154a\" xlink:show=\"new\" xlink:title=\"psysml:b19cdb52-b52e-4af3-afe9-4ea29743154a\" xlink:type=\"simple\"><rect fill=\"#FFFFFF\" height=\"45.9375\" id=\"E5\" style=\"stroke: #383838; stroke-width: 1.5;\" width=\"66\" x=\"315\" y=\"155\"/><text fill=\"#000000\" font-family=\"sans-serif\" font-size=\"12\" font-style=\"italic\" lengthAdjust=\"spacingAndGlyphs\" textLength=\"64\" x=\"316\" y=\"171.1387\">«part def»</text><text fill=\"#000000\" font-family=\"sans-serif\" font-size=\"12\" lengthAdjust=\"spacingAndGlyphs\" textLength=\"8\" x=\"344\" y=\"185.1074\">V</text><line style=\"stroke: #383838; stroke-width: 1.5;\" x1=\"316\" x2=\"380\" y1=\"192.9375\" y2=\"192.9375\"/></a><!--MD5=[60a26617385b1d2d0262a64233df1f8d]\n",
       "class E6--><a href=\"psysml:a2bd922e-3e40-42bd-80e3-ecb5a548758e\" target=\"_top\" title=\"psysml:a2bd922e-3e40-42bd-80e3-ecb5a548758e\" xlink:actuate=\"onRequest\" xlink:href=\"psysml:a2bd922e-3e40-42bd-80e3-ecb5a548758e\" xlink:show=\"new\" xlink:title=\"psysml:a2bd922e-3e40-42bd-80e3-ecb5a548758e\" xlink:type=\"simple\"><rect fill=\"#FFFFFF\" height=\"88.3516\" id=\"E6\" rx=\"10\" ry=\"10\" style=\"stroke: #383838; stroke-width: 1.5;\" width=\"63\" x=\"287.5\" y=\"285\"/><text fill=\"#000000\" font-family=\"sans-serif\" font-size=\"12\" font-style=\"italic\" lengthAdjust=\"spacingAndGlyphs\" textLength=\"40\" x=\"299\" y=\"301.1387\">«part»</text><text fill=\"#000000\" font-family=\"sans-serif\" font-size=\"12\" lengthAdjust=\"spacingAndGlyphs\" textLength=\"23\" x=\"307.5\" y=\"315.1074\">x: Q</text><line style=\"stroke: #383838; stroke-width: 1.5;\" x1=\"288.5\" x2=\"349.5\" y1=\"322.9375\" y2=\"322.9375\"/><text fill=\"#000000\" font-family=\"sans-serif\" font-size=\"11\" lengthAdjust=\"spacingAndGlyphs\" textLength=\"23\" x=\"293.5\" y=\"353.9526\">b: B</text><text fill=\"#000000\" font-family=\"sans-serif\" font-size=\"11\" font-style=\"italic\" lengthAdjust=\"spacingAndGlyphs\" textLength=\"44\" x=\"293.5\" y=\"366.7573\">:&gt;&gt;P::a</text><line style=\"stroke: #383838; stroke-width: 1.0;\" x1=\"288.5\" x2=\"291.5\" y1=\"337.3398\" y2=\"337.3398\"/><text fill=\"#000000\" font-family=\"sans-serif\" font-size=\"11\" lengthAdjust=\"spacingAndGlyphs\" textLength=\"55\" x=\"291.5\" y=\"340.6479\">attributes</text><line style=\"stroke: #383838; stroke-width: 1.0;\" x1=\"346.5\" x2=\"349.5\" y1=\"337.3398\" y2=\"337.3398\"/></a><!--MD5=[2156ba9850f5573cc1fc38a6a4b2f02b]\n",
       "class E7--><a href=\"psysml:84f1cc81-1e5a-4a4b-9822-237c593dc1ed\" target=\"_top\" title=\"psysml:84f1cc81-1e5a-4a4b-9822-237c593dc1ed\" xlink:actuate=\"onRequest\" xlink:href=\"psysml:84f1cc81-1e5a-4a4b-9822-237c593dc1ed\" xlink:show=\"new\" xlink:title=\"psysml:84f1cc81-1e5a-4a4b-9822-237c593dc1ed\" xlink:type=\"simple\"><rect fill=\"#FFFFFF\" height=\"45.9375\" id=\"E7\" rx=\"10\" ry=\"10\" style=\"stroke: #383838; stroke-width: 1.5;\" width=\"42\" x=\"149\" y=\"41\"/><text fill=\"#000000\" font-family=\"sans-serif\" font-size=\"12\" font-style=\"italic\" lengthAdjust=\"spacingAndGlyphs\" textLength=\"40\" x=\"150\" y=\"57.1387\">«part»</text><text fill=\"#000000\" font-family=\"sans-serif\" font-size=\"12\" lengthAdjust=\"spacingAndGlyphs\" textLength=\"25\" x=\"157.5\" y=\"71.1074\">q: Q</text><line style=\"stroke: #383838; stroke-width: 1.5;\" x1=\"150\" x2=\"190\" y1=\"78.9375\" y2=\"78.9375\"/></a><!--MD5=[b9389687b975829384b498ac4b7476b2]\n",
       "class E8--><a href=\"psysml:d9c8c4c9-730a-472e-ad5c-9ed2548fca6c\" target=\"_top\" title=\"psysml:d9c8c4c9-730a-472e-ad5c-9ed2548fca6c\" xlink:actuate=\"onRequest\" xlink:href=\"psysml:d9c8c4c9-730a-472e-ad5c-9ed2548fca6c\" xlink:show=\"new\" xlink:title=\"psysml:d9c8c4c9-730a-472e-ad5c-9ed2548fca6c\" xlink:type=\"simple\"><rect fill=\"#FFFFFF\" height=\"59.9063\" id=\"E8\" rx=\"10\" ry=\"10\" style=\"stroke: #383838; stroke-width: 1.5;\" width=\"70\" x=\"32\" y=\"148\"/><text fill=\"#000000\" font-family=\"sans-serif\" font-size=\"12\" font-style=\"italic\" lengthAdjust=\"spacingAndGlyphs\" textLength=\"68\" x=\"33\" y=\"164.1387\">«variation»</text><text fill=\"#000000\" font-family=\"sans-serif\" font-size=\"12\" font-style=\"italic\" lengthAdjust=\"spacingAndGlyphs\" textLength=\"40\" x=\"47\" y=\"178.1074\">«part»</text><text fill=\"#000000\" font-family=\"sans-serif\" font-size=\"12\" lengthAdjust=\"spacingAndGlyphs\" textLength=\"22\" x=\"56\" y=\"192.0762\">v: P</text><line style=\"stroke: #383838; stroke-width: 1.5;\" x1=\"33\" x2=\"101\" y1=\"199.9063\" y2=\"199.9063\"/></a><!--MD5=[fd4143e9d270a159db93a4ea2a975926]\n",
       "class E9--><a href=\"psysml:29b56154-ee98-4bdd-852f-875051132018\" target=\"_top\" title=\"psysml:29b56154-ee98-4bdd-852f-875051132018\" xlink:actuate=\"onRequest\" xlink:href=\"psysml:29b56154-ee98-4bdd-852f-875051132018\" xlink:show=\"new\" xlink:title=\"psysml:29b56154-ee98-4bdd-852f-875051132018\" xlink:type=\"simple\"><rect fill=\"#FFFFFF\" height=\"88.3516\" id=\"E9\" rx=\"10\" ry=\"10\" style=\"stroke: #383838; stroke-width: 1.5;\" width=\"77\" x=\"32.5\" y=\"285\"/><text fill=\"#000000\" font-family=\"sans-serif\" font-size=\"12\" font-style=\"italic\" lengthAdjust=\"spacingAndGlyphs\" textLength=\"75\" x=\"33.5\" y=\"301.1387\">«reference»</text><text fill=\"#000000\" font-family=\"sans-serif\" font-size=\"12\" lengthAdjust=\"spacingAndGlyphs\" textLength=\"8\" x=\"67\" y=\"315.1074\">q</text><line style=\"stroke: #383838; stroke-width: 1.5;\" x1=\"33.5\" x2=\"108.5\" y1=\"322.9375\" y2=\"322.9375\"/><text fill=\"#000000\" font-family=\"sans-serif\" font-size=\"11\" lengthAdjust=\"spacingAndGlyphs\" textLength=\"23\" x=\"38.5\" y=\"353.9526\">b: B</text><text fill=\"#000000\" font-family=\"sans-serif\" font-size=\"11\" font-style=\"italic\" lengthAdjust=\"spacingAndGlyphs\" textLength=\"44\" x=\"38.5\" y=\"366.7573\">:&gt;&gt;P::a</text><line style=\"stroke: #383838; stroke-width: 1.0;\" x1=\"33.5\" x2=\"43.5\" y1=\"337.3398\" y2=\"337.3398\"/><text fill=\"#000000\" font-family=\"sans-serif\" font-size=\"11\" lengthAdjust=\"spacingAndGlyphs\" textLength=\"55\" x=\"43.5\" y=\"340.6479\">attributes</text><line style=\"stroke: #383838; stroke-width: 1.0;\" x1=\"98.5\" x2=\"108.5\" y1=\"337.3398\" y2=\"337.3398\"/></a><!--MD5=[96f4274e9e20536e775497830990834d]\n",
       "class E10--><a href=\"psysml:e49f0805-0747-4902-8d4f-55ae479a1338\" target=\"_top\" title=\"psysml:e49f0805-0747-4902-8d4f-55ae479a1338\" xlink:actuate=\"onRequest\" xlink:href=\"psysml:e49f0805-0747-4902-8d4f-55ae479a1338\" xlink:show=\"new\" xlink:title=\"psysml:e49f0805-0747-4902-8d4f-55ae479a1338\" xlink:type=\"simple\"><rect fill=\"#FFFFFF\" height=\"45.9375\" id=\"E10\" rx=\"10\" ry=\"10\" style=\"stroke: #383838; stroke-width: 1.5;\" width=\"42\" x=\"238\" y=\"155\"/><text fill=\"#000000\" font-family=\"sans-serif\" font-size=\"12\" font-style=\"italic\" lengthAdjust=\"spacingAndGlyphs\" textLength=\"40\" x=\"239\" y=\"171.1387\">«part»</text><text fill=\"#000000\" font-family=\"sans-serif\" font-size=\"12\" lengthAdjust=\"spacingAndGlyphs\" textLength=\"22\" x=\"248\" y=\"185.1074\">y: P</text><line style=\"stroke: #383838; stroke-width: 1.5;\" x1=\"239\" x2=\"279\" y1=\"192.9375\" y2=\"192.9375\"/></a><!--MD5=[05d275557350bfb9b23a4ef7222b4c39]\n",
       "link E3 to E2--><a href=\"psysml:f79594a1-bc1c-4f37-98e7-b8999b5b3daa\" target=\"_top\" title=\"psysml:f79594a1-bc1c-4f37-98e7-b8999b5b3daa\" xlink:actuate=\"onRequest\" xlink:href=\"psysml:f79594a1-bc1c-4f37-98e7-b8999b5b3daa\" xlink:show=\"new\" xlink:title=\"psysml:f79594a1-bc1c-4f37-98e7-b8999b5b3daa\" xlink:type=\"simple\"><path d=\"M174.34,201.31 C177.92,219.67 183.15,246.54 187.87,270.81 \" fill=\"none\" id=\"E3-&gt;E2\" style=\"stroke: #383838; stroke-width: 1.0;\"/><polygon fill=\"none\" points=\"194.8,269.8,191.75,290.77,181.06,272.47,194.8,269.8\" style=\"stroke: #383838; stroke-width: 1.0;\"/></a><!--MD5=[15ebcb19ae302d9b601edb458606d402]\n",
       "link E5 to E2--><a href=\"psysml:e72a8b47-cfcf-460f-abbe-f19ffcddd547\" target=\"_top\" title=\"psysml:e72a8b47-cfcf-460f-abbe-f19ffcddd547\" xlink:actuate=\"onRequest\" xlink:href=\"psysml:e72a8b47-cfcf-460f-abbe-f19ffcddd547\" xlink:show=\"new\" xlink:title=\"psysml:e72a8b47-cfcf-460f-abbe-f19ffcddd547\" xlink:type=\"simple\"><path d=\"M325.69,201.31 C304.9,222.1 273.2,253.8 246.71,280.29 \" fill=\"none\" id=\"E5-&gt;E2\" style=\"stroke: #383838; stroke-width: 1.0;\"/><polygon fill=\"none\" points=\"251.33,285.57,232.24,294.76,241.43,275.67,251.33,285.57\" style=\"stroke: #383838; stroke-width: 1.0;\"/></a><!--MD5=[9120cf2e5df3bff93db8f754bbbc09b4]\n",
       "link E5 to E6--><a href=\"psysml:d1158e90-c200-41a0-bff8-4b2e6825fa74\" target=\"_top\" title=\"psysml:d1158e90-c200-41a0-bff8-4b2e6825fa74\" xlink:actuate=\"onRequest\" xlink:href=\"psysml:d1158e90-c200-41a0-bff8-4b2e6825fa74\" xlink:show=\"new\" xlink:title=\"psysml:d1158e90-c200-41a0-bff8-4b2e6825fa74\" xlink:type=\"simple\"><path d=\"M341.72,211.26 C338.1,229.85 333.47,253.68 329.32,274.95 \" fill=\"none\" id=\"E5-E6\" style=\"stroke: #383838; stroke-width: 1.0;\"/><polygon fill=\"#383838\" points=\"327.4,284.84,331.8761,277.5623,325.987,276.4136,327.4,284.84\" style=\"stroke: #383838; stroke-width: 1.0;\"/><path d=\"M334.7699,202.7122 A9,9 0 0 0 351.3715 205.9503\" fill=\"none\" style=\"stroke: #383838; stroke-width: 1.5;\"/><text fill=\"#000000\" font-family=\"sans-serif\" font-size=\"13\" lengthAdjust=\"spacingAndGlyphs\" textLength=\"60\" x=\"337\" y=\"251.0669\">«variant»</text></a><!--MD5=[14ccda38c055a5c0da953d572bc50960]\n",
       "link E7 to E3--><a href=\"psysml:df5a11ab-14bd-474c-9e9f-2e0517640249\" target=\"_top\" title=\"psysml:df5a11ab-14bd-474c-9e9f-2e0517640249\" xlink:actuate=\"onRequest\" xlink:href=\"psysml:df5a11ab-14bd-474c-9e9f-2e0517640249\" xlink:show=\"new\" xlink:title=\"psysml:df5a11ab-14bd-474c-9e9f-2e0517640249\" xlink:type=\"simple\"><path d=\"M170,87.13 C170,100.7 170,118.53 170,134.73 \" fill=\"none\" id=\"E7-&gt;E3\" style=\"stroke: #383838; stroke-width: 1.0;\"/><polygon fill=\"#FFFFFF\" points=\"170,154.92,163,135.92,177,135.92,170,154.92\" style=\"stroke: #383838; stroke-width: 1.0;\"/><ellipse cx=\"165\" cy=\"130.22\" fill=\"#383838\" rx=\"2\" ry=\"2\" style=\"stroke: #383838; stroke-width: 1.0;\"/><ellipse cx=\"175\" cy=\"130.22\" fill=\"#383838\" rx=\"2\" ry=\"2\" style=\"stroke: #383838; stroke-width: 1.0;\"/></a><!--MD5=[f1f3f9f2fc535e6147756cb86a7f2e32]\n",
       "link E8 to E2--><a href=\"psysml:108d975b-2613-446e-8683-bfdaec0afedf\" target=\"_top\" title=\"psysml:108d975b-2613-446e-8683-bfdaec0afedf\" xlink:actuate=\"onRequest\" xlink:href=\"psysml:108d975b-2613-446e-8683-bfdaec0afedf\" xlink:show=\"new\" xlink:title=\"psysml:108d975b-2613-446e-8683-bfdaec0afedf\" xlink:type=\"simple\"><path d=\"M102.17,204.39 C114.52,214.17 128.04,225.9 139,238 C148.86,248.88 158.29,261.5 166.63,273.79 \" fill=\"none\" id=\"E8-&gt;E2\" style=\"stroke: #383838; stroke-width: 1.0;\"/><polygon fill=\"#FFFFFF\" points=\"177.64,290.73,161.4168,278.6135,173.1555,270.9844,177.64,290.73\" style=\"stroke: #383838; stroke-width: 1.0;\"/><ellipse cx=\"159.9876\" cy=\"272.7443\" fill=\"#383838\" rx=\"2\" ry=\"2\" style=\"stroke: #383838; stroke-width: 1.0;\"/><ellipse cx=\"168.3724\" cy=\"267.2949\" fill=\"#383838\" rx=\"2\" ry=\"2\" style=\"stroke: #383838; stroke-width: 1.0;\"/></a><!--MD5=[ed10624c06dd9a4fa49ccf290e8b16a8]\n",
       "link E8 to E9--><a href=\"psysml:ebcdab70-773e-42b3-a4e9-8c7478e829d7\" target=\"_top\" title=\"psysml:ebcdab70-773e-42b3-a4e9-8c7478e829d7\" xlink:actuate=\"onRequest\" xlink:href=\"psysml:ebcdab70-773e-42b3-a4e9-8c7478e829d7\" xlink:show=\"new\" xlink:title=\"psysml:ebcdab70-773e-42b3-a4e9-8c7478e829d7\" xlink:type=\"simple\"><path d=\"M68.06,218.32 C68.52,235.6 69.07,256.15 69.57,274.77 \" fill=\"none\" id=\"E8-E9\" style=\"stroke: #383838; stroke-width: 1.0;\"/><polygon fill=\"#383838\" points=\"69.84,284.88,72.6331,276.8054,66.6351,276.9599,69.84,284.88\" style=\"stroke: #383838; stroke-width: 1.0;\"/><path d=\"M59.4094,211.3865 A9,9 0 0 0 76.3176 210.9276\" fill=\"none\" style=\"stroke: #383838; stroke-width: 1.5;\"/><text fill=\"#000000\" font-family=\"sans-serif\" font-size=\"13\" lengthAdjust=\"spacingAndGlyphs\" textLength=\"60\" x=\"70\" y=\"251.0669\">«variant»</text></a><!--MD5=[0f36bececdf0dff6e600d6f64214b0f1]\n",
       "link E10 to E2--><a href=\"psysml:967d0111-ba43-4736-bbbb-a2fd42e2431e\" target=\"_top\" title=\"psysml:967d0111-ba43-4736-bbbb-a2fd42e2431e\" xlink:actuate=\"onRequest\" xlink:href=\"psysml:967d0111-ba43-4736-bbbb-a2fd42e2431e\" xlink:show=\"new\" xlink:title=\"psysml:967d0111-ba43-4736-bbbb-a2fd42e2431e\" xlink:type=\"simple\"><path d=\"M250.02,201.31 C242.51,219.95 231.48,247.35 221.59,271.91 \" fill=\"none\" id=\"E10-&gt;E2\" style=\"stroke: #383838; stroke-width: 1.0;\"/><polygon fill=\"#FFFFFF\" points=\"213.99,290.77,214.5927,270.5305,227.5796,275.7593,213.99,290.77\" style=\"stroke: #383838; stroke-width: 1.0;\"/><ellipse cx=\"218.5768\" cy=\"265.9899\" fill=\"#383838\" rx=\"2\" ry=\"2\" style=\"stroke: #383838; stroke-width: 1.0;\"/><ellipse cx=\"227.8532\" cy=\"269.7248\" fill=\"#383838\" rx=\"2\" ry=\"2\" style=\"stroke: #383838; stroke-width: 1.0;\"/></a><!--MD5=[77594d581d7d4f7dbe51a23e12460410]\n",
       "@startuml\r\n",
       "top to bottom direction\r\n",
       "skinparam monochrome true\r\n",
       "skinparam classbackgroundcolor white\r\n",
       "skinparam shadowing false\r\n",
       "skinparam wrapWidth 300\r\n",
       "hide circle\r\n",
       "\r\n",
       "package \"VariabilityTest\" as E1  [[psysml:6fd2d067-8ada-4ea8-9732-021f5438b424 ]]  {\r\n",
       "comp def \"P\" as E2  <<(T,blue) part def>> [[psysml:06c5c105-f179-4f9c-9acd-25394b323f4d ]] {\r\n",
       "- - attributes - -\r\n",
       "a\r\n",
       "}\r\n",
       "comp def \"Q\" as E3  <<(T,blue) part def>> [[psysml:dc55669e-d547-41b4-94bf-d6c68c80b885 ]] {\r\n",
       "}\r\n",
       "comp def \"B\" as E4  <<(T,blue) attribute def>> [[psysml:18777e48-4bd6-4ac5-98df-f6aab0b7358e ]] {\r\n",
       "}\r\n",
       "comp def \"V\" as E5  <<(T,blue) part def>> [[psysml:b19cdb52-b52e-4af3-afe9-4ea29743154a ]] {\r\n",
       "}\r\n",
       "comp usage \"x: Q\" as E6  <<(T,blue) part>> [[psysml:a2bd922e-3e40-42bd-80e3-ecb5a548758e ]] {\r\n",
       "- - attributes - -\r\n",
       "b: B\\n//:>>P::a// \r\n",
       "}\r\n",
       "comp usage \"q: Q\" as E7  <<(T,blue) part>> [[psysml:84f1cc81-1e5a-4a4b-9822-237c593dc1ed ]] {\r\n",
       "}\r\n",
       "comp usage \"v: P\" as E8  <<variation>>\\n <<(T,blue) part>> [[psysml:d9c8c4c9-730a-472e-ad5c-9ed2548fca6c ]] {\r\n",
       "}\r\n",
       "comp usage \"q\" as E9  <<(T,blue) reference>> [[psysml:29b56154-ee98-4bdd-852f-875051132018 ]] {\r\n",
       "- - attributes - -\r\n",
       "b: B\\n//:>>P::a// \r\n",
       "}\r\n",
       "comp usage \"y: P\" as E10  <<(T,blue) part>> [[psysml:e49f0805-0747-4902-8d4f-55ae479a1338 ]] {\r\n",
       "}\r\n",
       "}\r\n",
       "E3 - -|> E2 [[psysml:f79594a1-bc1c-4f37-98e7-b8999b5b3daa ]] \r\n",
       "E5 - -|> E2 [[psysml:e72a8b47-cfcf-460f-abbe-f19ffcddd547 ]] \r\n",
       "E5 )- ->> E6 [[psysml:d1158e90-c200-41a0-bff8-4b2e6825fa74 ]] : <<variant>>\r\n",
       "E7 - -:|> E3 [[psysml:df5a11ab-14bd-474c-9e9f-2e0517640249 ]] \r\n",
       "E8 - -:|> E2 [[psysml:108d975b-2613-446e-8683-bfdaec0afedf ]] \r\n",
       "E8 )- ->> E9 [[psysml:ebcdab70-773e-42b3-a4e9-8c7478e829d7 ]] : <<variant>>\r\n",
       "E10 - -:|> E2 [[psysml:967d0111-ba43-4736-bbbb-a2fd42e2431e ]] \r\n",
       "@enduml\r\n",
       "\n",
       "PlantUML version 1.2020.13(Sat Jun 13 12:26:38 UTC 2020)\n",
       "(EPL source distribution)\n",
       "Java Runtime: OpenJDK Runtime Environment\n",
       "JVM: OpenJDK 64-Bit Server VM\n",
       "Default Encoding: UTF-8\n",
       "Language: en\n",
       "Country: null\n",
       "--></g></svg>"
      ]
     },
     "execution_count": 44,
     "metadata": {},
     "output_type": "execute_result"
    }
   ],
   "source": [
    "%viz --style=\"TB\" --view=\"Default\" \"VariabilityTest\""
   ]
  },
  {
   "cell_type": "code",
   "execution_count": 45,
   "id": "92633dff",
   "metadata": {
    "execution": {
     "iopub.execute_input": "2021-10-03T08:28:18.160071Z",
     "iopub.status.busy": "2021-10-03T08:28:18.159666Z",
     "iopub.status.idle": "2021-10-03T08:28:18.237745Z",
     "shell.execute_reply": "2021-10-03T08:28:18.236006Z"
    }
   },
   "outputs": [
    {
     "data": {
      "image/svg+xml": [
       "<?xml version=\"1.0\" encoding=\"UTF-8\" standalone=\"no\"?><svg xmlns=\"http://www.w3.org/2000/svg\" xmlns:xlink=\"http://www.w3.org/1999/xlink\" contentScriptType=\"application/ecmascript\" contentStyleType=\"text/css\" height=\"401px\" preserveAspectRatio=\"none\" style=\"width:419px;height:401px;\" version=\"1.1\" viewBox=\"0 0 419 401\" width=\"419px\" zoomAndPan=\"magnify\"><defs/><g><!--MD5=[fbc87193dbaf4d95561dea2c320d4a47]\n",
       "cluster E1--><a href=\"psysml:6fd2d067-8ada-4ea8-9732-021f5438b424\" target=\"_top\" title=\"psysml:6fd2d067-8ada-4ea8-9732-021f5438b424\" xlink:actuate=\"onRequest\" xlink:href=\"psysml:6fd2d067-8ada-4ea8-9732-021f5438b424\" xlink:show=\"new\" xlink:title=\"psysml:6fd2d067-8ada-4ea8-9732-021f5438b424\" xlink:type=\"simple\"><polygon fill=\"#FFFFFF\" points=\"16,6,116,6,123,28.2969,397,28.2969,397,389,16,389,16,6\" style=\"stroke: #000000; stroke-width: 1.5;\"/><line style=\"stroke: #000000; stroke-width: 1.5;\" x1=\"16\" x2=\"123\" y1=\"28.2969\" y2=\"28.2969\"/><text fill=\"#000000\" font-family=\"sans-serif\" font-size=\"14\" font-weight=\"bold\" lengthAdjust=\"spacingAndGlyphs\" textLength=\"94\" x=\"20\" y=\"20.9951\">VariabilityTest</text></a><!--MD5=[b4997ac47864f28c2f74865a473b2911]\n",
       "class E2--><a href=\"psysml:06c5c105-f179-4f9c-9acd-25394b323f4d\" target=\"_top\" title=\"psysml:06c5c105-f179-4f9c-9acd-25394b323f4d\" xlink:actuate=\"onRequest\" xlink:href=\"psysml:06c5c105-f179-4f9c-9acd-25394b323f4d\" xlink:show=\"new\" xlink:title=\"psysml:06c5c105-f179-4f9c-9acd-25394b323f4d\" xlink:type=\"simple\"><rect fill=\"#FFFFFF\" height=\"75.5469\" id=\"E2\" style=\"stroke: #383838; stroke-width: 1.5;\" width=\"66\" x=\"166\" y=\"291\"/><text fill=\"#000000\" font-family=\"sans-serif\" font-size=\"12\" font-style=\"italic\" lengthAdjust=\"spacingAndGlyphs\" textLength=\"64\" x=\"167\" y=\"307.1387\">«part def»</text><text fill=\"#000000\" font-family=\"sans-serif\" font-size=\"12\" lengthAdjust=\"spacingAndGlyphs\" textLength=\"8\" x=\"195\" y=\"321.1074\">P</text><line style=\"stroke: #383838; stroke-width: 1.5;\" x1=\"167\" x2=\"231\" y1=\"328.9375\" y2=\"328.9375\"/><text fill=\"#000000\" font-family=\"sans-serif\" font-size=\"11\" lengthAdjust=\"spacingAndGlyphs\" textLength=\"7\" x=\"172\" y=\"359.9526\">a</text><line style=\"stroke: #383838; stroke-width: 1.0;\" x1=\"167\" x2=\"171.5\" y1=\"343.3398\" y2=\"343.3398\"/><text fill=\"#000000\" font-family=\"sans-serif\" font-size=\"11\" lengthAdjust=\"spacingAndGlyphs\" textLength=\"55\" x=\"171.5\" y=\"346.6479\">attributes</text><line style=\"stroke: #383838; stroke-width: 1.0;\" x1=\"226.5\" x2=\"231\" y1=\"343.3398\" y2=\"343.3398\"/></a><!--MD5=[09b614a08d8cba4a07c9adeb5e0fee81]\n",
       "class E3--><a href=\"psysml:dc55669e-d547-41b4-94bf-d6c68c80b885\" target=\"_top\" title=\"psysml:dc55669e-d547-41b4-94bf-d6c68c80b885\" xlink:actuate=\"onRequest\" xlink:href=\"psysml:dc55669e-d547-41b4-94bf-d6c68c80b885\" xlink:show=\"new\" xlink:title=\"psysml:dc55669e-d547-41b4-94bf-d6c68c80b885\" xlink:type=\"simple\"><rect fill=\"#FFFFFF\" height=\"45.9375\" id=\"E3\" style=\"stroke: #383838; stroke-width: 1.5;\" width=\"66\" x=\"137\" y=\"155\"/><text fill=\"#000000\" font-family=\"sans-serif\" font-size=\"12\" font-style=\"italic\" lengthAdjust=\"spacingAndGlyphs\" textLength=\"64\" x=\"138\" y=\"171.1387\">«part def»</text><text fill=\"#000000\" font-family=\"sans-serif\" font-size=\"12\" lengthAdjust=\"spacingAndGlyphs\" textLength=\"9\" x=\"165.5\" y=\"185.1074\">Q</text><line style=\"stroke: #383838; stroke-width: 1.5;\" x1=\"138\" x2=\"202\" y1=\"192.9375\" y2=\"192.9375\"/></a><!--MD5=[ebbe1d658d1005bcc118a6aa81145e00]\n",
       "class E4--><a href=\"psysml:18777e48-4bd6-4ac5-98df-f6aab0b7358e\" target=\"_top\" title=\"psysml:18777e48-4bd6-4ac5-98df-f6aab0b7358e\" xlink:actuate=\"onRequest\" xlink:href=\"psysml:18777e48-4bd6-4ac5-98df-f6aab0b7358e\" xlink:show=\"new\" xlink:title=\"psysml:18777e48-4bd6-4ac5-98df-f6aab0b7358e\" xlink:type=\"simple\"><rect fill=\"#FFFFFF\" height=\"45.9375\" id=\"E4\" style=\"stroke: #383838; stroke-width: 1.5;\" width=\"95\" x=\"255.5\" y=\"41\"/><text fill=\"#000000\" font-family=\"sans-serif\" font-size=\"12\" font-style=\"italic\" lengthAdjust=\"spacingAndGlyphs\" textLength=\"93\" x=\"256.5\" y=\"57.1387\">«attribute def»</text><text fill=\"#000000\" font-family=\"sans-serif\" font-size=\"12\" lengthAdjust=\"spacingAndGlyphs\" textLength=\"8\" x=\"299\" y=\"71.1074\">B</text><line style=\"stroke: #383838; stroke-width: 1.5;\" x1=\"256.5\" x2=\"349.5\" y1=\"78.9375\" y2=\"78.9375\"/></a><!--MD5=[270fce915f116d4de14055a7c1d9a0f3]\n",
       "class E5--><a href=\"psysml:b19cdb52-b52e-4af3-afe9-4ea29743154a\" target=\"_top\" title=\"psysml:b19cdb52-b52e-4af3-afe9-4ea29743154a\" xlink:actuate=\"onRequest\" xlink:href=\"psysml:b19cdb52-b52e-4af3-afe9-4ea29743154a\" xlink:show=\"new\" xlink:title=\"psysml:b19cdb52-b52e-4af3-afe9-4ea29743154a\" xlink:type=\"simple\"><rect fill=\"#FFFFFF\" height=\"45.9375\" id=\"E5\" style=\"stroke: #383838; stroke-width: 1.5;\" width=\"66\" x=\"315\" y=\"155\"/><text fill=\"#000000\" font-family=\"sans-serif\" font-size=\"12\" font-style=\"italic\" lengthAdjust=\"spacingAndGlyphs\" textLength=\"64\" x=\"316\" y=\"171.1387\">«part def»</text><text fill=\"#000000\" font-family=\"sans-serif\" font-size=\"12\" lengthAdjust=\"spacingAndGlyphs\" textLength=\"8\" x=\"344\" y=\"185.1074\">V</text><line style=\"stroke: #383838; stroke-width: 1.5;\" x1=\"316\" x2=\"380\" y1=\"192.9375\" y2=\"192.9375\"/></a><!--MD5=[60a26617385b1d2d0262a64233df1f8d]\n",
       "class E6--><a href=\"psysml:a2bd922e-3e40-42bd-80e3-ecb5a548758e\" target=\"_top\" title=\"psysml:a2bd922e-3e40-42bd-80e3-ecb5a548758e\" xlink:actuate=\"onRequest\" xlink:href=\"psysml:a2bd922e-3e40-42bd-80e3-ecb5a548758e\" xlink:show=\"new\" xlink:title=\"psysml:a2bd922e-3e40-42bd-80e3-ecb5a548758e\" xlink:type=\"simple\"><rect fill=\"#FFFFFF\" height=\"88.3516\" id=\"E6\" rx=\"10\" ry=\"10\" style=\"stroke: #383838; stroke-width: 1.5;\" width=\"63\" x=\"287.5\" y=\"285\"/><text fill=\"#000000\" font-family=\"sans-serif\" font-size=\"12\" font-style=\"italic\" lengthAdjust=\"spacingAndGlyphs\" textLength=\"40\" x=\"299\" y=\"301.1387\">«part»</text><text fill=\"#000000\" font-family=\"sans-serif\" font-size=\"12\" lengthAdjust=\"spacingAndGlyphs\" textLength=\"23\" x=\"307.5\" y=\"315.1074\">x: Q</text><line style=\"stroke: #383838; stroke-width: 1.5;\" x1=\"288.5\" x2=\"349.5\" y1=\"322.9375\" y2=\"322.9375\"/><text fill=\"#000000\" font-family=\"sans-serif\" font-size=\"11\" lengthAdjust=\"spacingAndGlyphs\" textLength=\"23\" x=\"293.5\" y=\"353.9526\">b: B</text><text fill=\"#000000\" font-family=\"sans-serif\" font-size=\"11\" font-style=\"italic\" lengthAdjust=\"spacingAndGlyphs\" textLength=\"44\" x=\"293.5\" y=\"366.7573\">:&gt;&gt;P::a</text><line style=\"stroke: #383838; stroke-width: 1.0;\" x1=\"288.5\" x2=\"291.5\" y1=\"337.3398\" y2=\"337.3398\"/><text fill=\"#000000\" font-family=\"sans-serif\" font-size=\"11\" lengthAdjust=\"spacingAndGlyphs\" textLength=\"55\" x=\"291.5\" y=\"340.6479\">attributes</text><line style=\"stroke: #383838; stroke-width: 1.0;\" x1=\"346.5\" x2=\"349.5\" y1=\"337.3398\" y2=\"337.3398\"/></a><!--MD5=[2156ba9850f5573cc1fc38a6a4b2f02b]\n",
       "class E7--><a href=\"psysml:84f1cc81-1e5a-4a4b-9822-237c593dc1ed\" target=\"_top\" title=\"psysml:84f1cc81-1e5a-4a4b-9822-237c593dc1ed\" xlink:actuate=\"onRequest\" xlink:href=\"psysml:84f1cc81-1e5a-4a4b-9822-237c593dc1ed\" xlink:show=\"new\" xlink:title=\"psysml:84f1cc81-1e5a-4a4b-9822-237c593dc1ed\" xlink:type=\"simple\"><rect fill=\"#FFFFFF\" height=\"45.9375\" id=\"E7\" rx=\"10\" ry=\"10\" style=\"stroke: #383838; stroke-width: 1.5;\" width=\"42\" x=\"149\" y=\"41\"/><text fill=\"#000000\" font-family=\"sans-serif\" font-size=\"12\" font-style=\"italic\" lengthAdjust=\"spacingAndGlyphs\" textLength=\"40\" x=\"150\" y=\"57.1387\">«part»</text><text fill=\"#000000\" font-family=\"sans-serif\" font-size=\"12\" lengthAdjust=\"spacingAndGlyphs\" textLength=\"25\" x=\"157.5\" y=\"71.1074\">q: Q</text><line style=\"stroke: #383838; stroke-width: 1.5;\" x1=\"150\" x2=\"190\" y1=\"78.9375\" y2=\"78.9375\"/></a><!--MD5=[b9389687b975829384b498ac4b7476b2]\n",
       "class E8--><a href=\"psysml:d9c8c4c9-730a-472e-ad5c-9ed2548fca6c\" target=\"_top\" title=\"psysml:d9c8c4c9-730a-472e-ad5c-9ed2548fca6c\" xlink:actuate=\"onRequest\" xlink:href=\"psysml:d9c8c4c9-730a-472e-ad5c-9ed2548fca6c\" xlink:show=\"new\" xlink:title=\"psysml:d9c8c4c9-730a-472e-ad5c-9ed2548fca6c\" xlink:type=\"simple\"><rect fill=\"#FFFFFF\" height=\"59.9063\" id=\"E8\" rx=\"10\" ry=\"10\" style=\"stroke: #383838; stroke-width: 1.5;\" width=\"70\" x=\"32\" y=\"148\"/><text fill=\"#000000\" font-family=\"sans-serif\" font-size=\"12\" font-style=\"italic\" lengthAdjust=\"spacingAndGlyphs\" textLength=\"68\" x=\"33\" y=\"164.1387\">«variation»</text><text fill=\"#000000\" font-family=\"sans-serif\" font-size=\"12\" font-style=\"italic\" lengthAdjust=\"spacingAndGlyphs\" textLength=\"40\" x=\"47\" y=\"178.1074\">«part»</text><text fill=\"#000000\" font-family=\"sans-serif\" font-size=\"12\" lengthAdjust=\"spacingAndGlyphs\" textLength=\"22\" x=\"56\" y=\"192.0762\">v: P</text><line style=\"stroke: #383838; stroke-width: 1.5;\" x1=\"33\" x2=\"101\" y1=\"199.9063\" y2=\"199.9063\"/></a><!--MD5=[fd4143e9d270a159db93a4ea2a975926]\n",
       "class E9--><a href=\"psysml:29b56154-ee98-4bdd-852f-875051132018\" target=\"_top\" title=\"psysml:29b56154-ee98-4bdd-852f-875051132018\" xlink:actuate=\"onRequest\" xlink:href=\"psysml:29b56154-ee98-4bdd-852f-875051132018\" xlink:show=\"new\" xlink:title=\"psysml:29b56154-ee98-4bdd-852f-875051132018\" xlink:type=\"simple\"><rect fill=\"#FFFFFF\" height=\"88.3516\" id=\"E9\" rx=\"10\" ry=\"10\" style=\"stroke: #383838; stroke-width: 1.5;\" width=\"77\" x=\"32.5\" y=\"285\"/><text fill=\"#000000\" font-family=\"sans-serif\" font-size=\"12\" font-style=\"italic\" lengthAdjust=\"spacingAndGlyphs\" textLength=\"75\" x=\"33.5\" y=\"301.1387\">«reference»</text><text fill=\"#000000\" font-family=\"sans-serif\" font-size=\"12\" lengthAdjust=\"spacingAndGlyphs\" textLength=\"8\" x=\"67\" y=\"315.1074\">q</text><line style=\"stroke: #383838; stroke-width: 1.5;\" x1=\"33.5\" x2=\"108.5\" y1=\"322.9375\" y2=\"322.9375\"/><text fill=\"#000000\" font-family=\"sans-serif\" font-size=\"11\" lengthAdjust=\"spacingAndGlyphs\" textLength=\"23\" x=\"38.5\" y=\"353.9526\">b: B</text><text fill=\"#000000\" font-family=\"sans-serif\" font-size=\"11\" font-style=\"italic\" lengthAdjust=\"spacingAndGlyphs\" textLength=\"44\" x=\"38.5\" y=\"366.7573\">:&gt;&gt;P::a</text><line style=\"stroke: #383838; stroke-width: 1.0;\" x1=\"33.5\" x2=\"43.5\" y1=\"337.3398\" y2=\"337.3398\"/><text fill=\"#000000\" font-family=\"sans-serif\" font-size=\"11\" lengthAdjust=\"spacingAndGlyphs\" textLength=\"55\" x=\"43.5\" y=\"340.6479\">attributes</text><line style=\"stroke: #383838; stroke-width: 1.0;\" x1=\"98.5\" x2=\"108.5\" y1=\"337.3398\" y2=\"337.3398\"/></a><!--MD5=[96f4274e9e20536e775497830990834d]\n",
       "class E10--><a href=\"psysml:e49f0805-0747-4902-8d4f-55ae479a1338\" target=\"_top\" title=\"psysml:e49f0805-0747-4902-8d4f-55ae479a1338\" xlink:actuate=\"onRequest\" xlink:href=\"psysml:e49f0805-0747-4902-8d4f-55ae479a1338\" xlink:show=\"new\" xlink:title=\"psysml:e49f0805-0747-4902-8d4f-55ae479a1338\" xlink:type=\"simple\"><rect fill=\"#FFFFFF\" height=\"45.9375\" id=\"E10\" rx=\"10\" ry=\"10\" style=\"stroke: #383838; stroke-width: 1.5;\" width=\"42\" x=\"238\" y=\"155\"/><text fill=\"#000000\" font-family=\"sans-serif\" font-size=\"12\" font-style=\"italic\" lengthAdjust=\"spacingAndGlyphs\" textLength=\"40\" x=\"239\" y=\"171.1387\">«part»</text><text fill=\"#000000\" font-family=\"sans-serif\" font-size=\"12\" lengthAdjust=\"spacingAndGlyphs\" textLength=\"22\" x=\"248\" y=\"185.1074\">y: P</text><line style=\"stroke: #383838; stroke-width: 1.5;\" x1=\"239\" x2=\"279\" y1=\"192.9375\" y2=\"192.9375\"/></a><!--MD5=[05d275557350bfb9b23a4ef7222b4c39]\n",
       "link E3 to E2--><a href=\"psysml:f79594a1-bc1c-4f37-98e7-b8999b5b3daa\" target=\"_top\" title=\"psysml:f79594a1-bc1c-4f37-98e7-b8999b5b3daa\" xlink:actuate=\"onRequest\" xlink:href=\"psysml:f79594a1-bc1c-4f37-98e7-b8999b5b3daa\" xlink:show=\"new\" xlink:title=\"psysml:f79594a1-bc1c-4f37-98e7-b8999b5b3daa\" xlink:type=\"simple\"><path d=\"M174.34,201.31 C177.92,219.67 183.15,246.54 187.87,270.81 \" fill=\"none\" id=\"E3-&gt;E2\" style=\"stroke: #383838; stroke-width: 1.0;\"/><polygon fill=\"none\" points=\"194.8,269.8,191.75,290.77,181.06,272.47,194.8,269.8\" style=\"stroke: #383838; stroke-width: 1.0;\"/></a><!--MD5=[15ebcb19ae302d9b601edb458606d402]\n",
       "link E5 to E2--><a href=\"psysml:e72a8b47-cfcf-460f-abbe-f19ffcddd547\" target=\"_top\" title=\"psysml:e72a8b47-cfcf-460f-abbe-f19ffcddd547\" xlink:actuate=\"onRequest\" xlink:href=\"psysml:e72a8b47-cfcf-460f-abbe-f19ffcddd547\" xlink:show=\"new\" xlink:title=\"psysml:e72a8b47-cfcf-460f-abbe-f19ffcddd547\" xlink:type=\"simple\"><path d=\"M325.69,201.31 C304.9,222.1 273.2,253.8 246.71,280.29 \" fill=\"none\" id=\"E5-&gt;E2\" style=\"stroke: #383838; stroke-width: 1.0;\"/><polygon fill=\"none\" points=\"251.33,285.57,232.24,294.76,241.43,275.67,251.33,285.57\" style=\"stroke: #383838; stroke-width: 1.0;\"/></a><!--MD5=[9120cf2e5df3bff93db8f754bbbc09b4]\n",
       "link E5 to E6--><a href=\"psysml:d1158e90-c200-41a0-bff8-4b2e6825fa74\" target=\"_top\" title=\"psysml:d1158e90-c200-41a0-bff8-4b2e6825fa74\" xlink:actuate=\"onRequest\" xlink:href=\"psysml:d1158e90-c200-41a0-bff8-4b2e6825fa74\" xlink:show=\"new\" xlink:title=\"psysml:d1158e90-c200-41a0-bff8-4b2e6825fa74\" xlink:type=\"simple\"><path d=\"M341.72,211.26 C338.1,229.85 333.47,253.68 329.32,274.95 \" fill=\"none\" id=\"E5-E6\" style=\"stroke: #383838; stroke-width: 1.0;\"/><polygon fill=\"#383838\" points=\"327.4,284.84,331.8761,277.5623,325.987,276.4136,327.4,284.84\" style=\"stroke: #383838; stroke-width: 1.0;\"/><path d=\"M334.7699,202.7122 A9,9 0 0 0 351.3715 205.9503\" fill=\"none\" style=\"stroke: #383838; stroke-width: 1.5;\"/><text fill=\"#000000\" font-family=\"sans-serif\" font-size=\"13\" lengthAdjust=\"spacingAndGlyphs\" textLength=\"60\" x=\"337\" y=\"251.0669\">«variant»</text></a><!--MD5=[14ccda38c055a5c0da953d572bc50960]\n",
       "link E7 to E3--><a href=\"psysml:df5a11ab-14bd-474c-9e9f-2e0517640249\" target=\"_top\" title=\"psysml:df5a11ab-14bd-474c-9e9f-2e0517640249\" xlink:actuate=\"onRequest\" xlink:href=\"psysml:df5a11ab-14bd-474c-9e9f-2e0517640249\" xlink:show=\"new\" xlink:title=\"psysml:df5a11ab-14bd-474c-9e9f-2e0517640249\" xlink:type=\"simple\"><path d=\"M170,87.13 C170,100.7 170,118.53 170,134.73 \" fill=\"none\" id=\"E7-&gt;E3\" style=\"stroke: #383838; stroke-width: 1.0;\"/><polygon fill=\"#FFFFFF\" points=\"170,154.92,163,135.92,177,135.92,170,154.92\" style=\"stroke: #383838; stroke-width: 1.0;\"/><ellipse cx=\"165\" cy=\"130.22\" fill=\"#383838\" rx=\"2\" ry=\"2\" style=\"stroke: #383838; stroke-width: 1.0;\"/><ellipse cx=\"175\" cy=\"130.22\" fill=\"#383838\" rx=\"2\" ry=\"2\" style=\"stroke: #383838; stroke-width: 1.0;\"/></a><!--MD5=[f1f3f9f2fc535e6147756cb86a7f2e32]\n",
       "link E8 to E2--><a href=\"psysml:108d975b-2613-446e-8683-bfdaec0afedf\" target=\"_top\" title=\"psysml:108d975b-2613-446e-8683-bfdaec0afedf\" xlink:actuate=\"onRequest\" xlink:href=\"psysml:108d975b-2613-446e-8683-bfdaec0afedf\" xlink:show=\"new\" xlink:title=\"psysml:108d975b-2613-446e-8683-bfdaec0afedf\" xlink:type=\"simple\"><path d=\"M102.17,204.39 C114.52,214.17 128.04,225.9 139,238 C148.86,248.88 158.29,261.5 166.63,273.79 \" fill=\"none\" id=\"E8-&gt;E2\" style=\"stroke: #383838; stroke-width: 1.0;\"/><polygon fill=\"#FFFFFF\" points=\"177.64,290.73,161.4168,278.6135,173.1555,270.9844,177.64,290.73\" style=\"stroke: #383838; stroke-width: 1.0;\"/><ellipse cx=\"159.9876\" cy=\"272.7443\" fill=\"#383838\" rx=\"2\" ry=\"2\" style=\"stroke: #383838; stroke-width: 1.0;\"/><ellipse cx=\"168.3724\" cy=\"267.2949\" fill=\"#383838\" rx=\"2\" ry=\"2\" style=\"stroke: #383838; stroke-width: 1.0;\"/></a><!--MD5=[ed10624c06dd9a4fa49ccf290e8b16a8]\n",
       "link E8 to E9--><a href=\"psysml:ebcdab70-773e-42b3-a4e9-8c7478e829d7\" target=\"_top\" title=\"psysml:ebcdab70-773e-42b3-a4e9-8c7478e829d7\" xlink:actuate=\"onRequest\" xlink:href=\"psysml:ebcdab70-773e-42b3-a4e9-8c7478e829d7\" xlink:show=\"new\" xlink:title=\"psysml:ebcdab70-773e-42b3-a4e9-8c7478e829d7\" xlink:type=\"simple\"><path d=\"M68.06,218.32 C68.52,235.6 69.07,256.15 69.57,274.77 \" fill=\"none\" id=\"E8-E9\" style=\"stroke: #383838; stroke-width: 1.0;\"/><polygon fill=\"#383838\" points=\"69.84,284.88,72.6331,276.8054,66.6351,276.9599,69.84,284.88\" style=\"stroke: #383838; stroke-width: 1.0;\"/><path d=\"M59.4094,211.3865 A9,9 0 0 0 76.3176 210.9276\" fill=\"none\" style=\"stroke: #383838; stroke-width: 1.5;\"/><text fill=\"#000000\" font-family=\"sans-serif\" font-size=\"13\" lengthAdjust=\"spacingAndGlyphs\" textLength=\"60\" x=\"70\" y=\"251.0669\">«variant»</text></a><!--MD5=[0f36bececdf0dff6e600d6f64214b0f1]\n",
       "link E10 to E2--><a href=\"psysml:967d0111-ba43-4736-bbbb-a2fd42e2431e\" target=\"_top\" title=\"psysml:967d0111-ba43-4736-bbbb-a2fd42e2431e\" xlink:actuate=\"onRequest\" xlink:href=\"psysml:967d0111-ba43-4736-bbbb-a2fd42e2431e\" xlink:show=\"new\" xlink:title=\"psysml:967d0111-ba43-4736-bbbb-a2fd42e2431e\" xlink:type=\"simple\"><path d=\"M250.02,201.31 C242.51,219.95 231.48,247.35 221.59,271.91 \" fill=\"none\" id=\"E10-&gt;E2\" style=\"stroke: #383838; stroke-width: 1.0;\"/><polygon fill=\"#FFFFFF\" points=\"213.99,290.77,214.5927,270.5305,227.5796,275.7593,213.99,290.77\" style=\"stroke: #383838; stroke-width: 1.0;\"/><ellipse cx=\"218.5768\" cy=\"265.9899\" fill=\"#383838\" rx=\"2\" ry=\"2\" style=\"stroke: #383838; stroke-width: 1.0;\"/><ellipse cx=\"227.8532\" cy=\"269.7248\" fill=\"#383838\" rx=\"2\" ry=\"2\" style=\"stroke: #383838; stroke-width: 1.0;\"/></a><!--MD5=[77594d581d7d4f7dbe51a23e12460410]\n",
       "@startuml\r\n",
       "top to bottom direction\r\n",
       "skinparam monochrome true\r\n",
       "skinparam classbackgroundcolor white\r\n",
       "skinparam shadowing false\r\n",
       "skinparam wrapWidth 300\r\n",
       "hide circle\r\n",
       "\r\n",
       "package \"VariabilityTest\" as E1  [[psysml:6fd2d067-8ada-4ea8-9732-021f5438b424 ]]  {\r\n",
       "comp def \"P\" as E2  <<(T,blue) part def>> [[psysml:06c5c105-f179-4f9c-9acd-25394b323f4d ]] {\r\n",
       "- - attributes - -\r\n",
       "a\r\n",
       "}\r\n",
       "comp def \"Q\" as E3  <<(T,blue) part def>> [[psysml:dc55669e-d547-41b4-94bf-d6c68c80b885 ]] {\r\n",
       "}\r\n",
       "comp def \"B\" as E4  <<(T,blue) attribute def>> [[psysml:18777e48-4bd6-4ac5-98df-f6aab0b7358e ]] {\r\n",
       "}\r\n",
       "comp def \"V\" as E5  <<(T,blue) part def>> [[psysml:b19cdb52-b52e-4af3-afe9-4ea29743154a ]] {\r\n",
       "}\r\n",
       "comp usage \"x: Q\" as E6  <<(T,blue) part>> [[psysml:a2bd922e-3e40-42bd-80e3-ecb5a548758e ]] {\r\n",
       "- - attributes - -\r\n",
       "b: B\\n//:>>P::a// \r\n",
       "}\r\n",
       "comp usage \"q: Q\" as E7  <<(T,blue) part>> [[psysml:84f1cc81-1e5a-4a4b-9822-237c593dc1ed ]] {\r\n",
       "}\r\n",
       "comp usage \"v: P\" as E8  <<variation>>\\n <<(T,blue) part>> [[psysml:d9c8c4c9-730a-472e-ad5c-9ed2548fca6c ]] {\r\n",
       "}\r\n",
       "comp usage \"q\" as E9  <<(T,blue) reference>> [[psysml:29b56154-ee98-4bdd-852f-875051132018 ]] {\r\n",
       "- - attributes - -\r\n",
       "b: B\\n//:>>P::a// \r\n",
       "}\r\n",
       "comp usage \"y: P\" as E10  <<(T,blue) part>> [[psysml:e49f0805-0747-4902-8d4f-55ae479a1338 ]] {\r\n",
       "}\r\n",
       "}\r\n",
       "E3 - -|> E2 [[psysml:f79594a1-bc1c-4f37-98e7-b8999b5b3daa ]] \r\n",
       "E5 - -|> E2 [[psysml:e72a8b47-cfcf-460f-abbe-f19ffcddd547 ]] \r\n",
       "E5 )- ->> E6 [[psysml:d1158e90-c200-41a0-bff8-4b2e6825fa74 ]] : <<variant>>\r\n",
       "E7 - -:|> E3 [[psysml:df5a11ab-14bd-474c-9e9f-2e0517640249 ]] \r\n",
       "E8 - -:|> E2 [[psysml:108d975b-2613-446e-8683-bfdaec0afedf ]] \r\n",
       "E8 )- ->> E9 [[psysml:ebcdab70-773e-42b3-a4e9-8c7478e829d7 ]] : <<variant>>\r\n",
       "E10 - -:|> E2 [[psysml:967d0111-ba43-4736-bbbb-a2fd42e2431e ]] \r\n",
       "@enduml\r\n",
       "\n",
       "PlantUML version 1.2020.13(Sat Jun 13 12:26:38 UTC 2020)\n",
       "(EPL source distribution)\n",
       "Java Runtime: OpenJDK Runtime Environment\n",
       "JVM: OpenJDK 64-Bit Server VM\n",
       "Default Encoding: UTF-8\n",
       "Language: en\n",
       "Country: null\n",
       "--></g></svg>"
      ]
     },
     "execution_count": 45,
     "metadata": {},
     "output_type": "execute_result"
    }
   ],
   "source": [
    "%viz --style=\"TB\" --view=\"Tree\" \"VariabilityTest\""
   ]
  },
  {
   "cell_type": "code",
   "execution_count": 46,
   "id": "464e5401",
   "metadata": {
    "execution": {
     "iopub.execute_input": "2021-10-03T08:28:18.286874Z",
     "iopub.status.busy": "2021-10-03T08:28:18.286477Z",
     "iopub.status.idle": "2021-10-03T08:28:18.291337Z",
     "shell.execute_reply": "2021-10-03T08:28:18.290991Z"
    }
   },
   "outputs": [
    {
     "data": {
      "image/svg+xml": [
       "<?xml version=\"1.0\" encoding=\"UTF-8\" standalone=\"no\"?><svg xmlns=\"http://www.w3.org/2000/svg\" xmlns:xlink=\"http://www.w3.org/1999/xlink\" contentScriptType=\"application/ecmascript\" contentStyleType=\"text/css\" height=\"12px\" preserveAspectRatio=\"none\" style=\"width:12px;height:12px;\" version=\"1.1\" viewBox=\"0 0 12 12\" width=\"12px\" zoomAndPan=\"magnify\"><defs/><g><!--MD5=[f4ee21bc66e489b5061b7c3e9601fdef]\n",
       "@startuml\r\n",
       "top to bottom direction\r\n",
       "skinparam monochrome true\r\n",
       "skinparam classbackgroundcolor white\r\n",
       "skinparam shadowing false\r\n",
       "skinparam wrapWidth 300\r\n",
       "hide circle\r\n",
       "\r\n",
       "@enduml\r\n",
       "\n",
       "PlantUML version 1.2020.13(Sat Jun 13 12:26:38 UTC 2020)\n",
       "(EPL source distribution)\n",
       "Java Runtime: OpenJDK Runtime Environment\n",
       "JVM: OpenJDK 64-Bit Server VM\n",
       "Default Encoding: UTF-8\n",
       "Language: en\n",
       "Country: null\n",
       "--></g></svg>"
      ]
     },
     "execution_count": 46,
     "metadata": {},
     "output_type": "execute_result"
    }
   ],
   "source": [
    "%viz --style=\"TB\" --view=\"State\" \"VariabilityTest\""
   ]
  },
  {
   "cell_type": "code",
   "execution_count": 47,
   "id": "0e46dfc3",
   "metadata": {
    "execution": {
     "iopub.execute_input": "2021-10-03T08:28:18.340792Z",
     "iopub.status.busy": "2021-10-03T08:28:18.340398Z",
     "iopub.status.idle": "2021-10-03T08:28:18.412637Z",
     "shell.execute_reply": "2021-10-03T08:28:18.410867Z"
    }
   },
   "outputs": [
    {
     "data": {
      "image/svg+xml": [
       "<?xml version=\"1.0\" encoding=\"UTF-8\" standalone=\"no\"?><svg xmlns=\"http://www.w3.org/2000/svg\" xmlns:xlink=\"http://www.w3.org/1999/xlink\" contentScriptType=\"application/ecmascript\" contentStyleType=\"text/css\" height=\"427px\" preserveAspectRatio=\"none\" style=\"width:783px;height:427px;\" version=\"1.1\" viewBox=\"0 0 783 427\" width=\"783px\" zoomAndPan=\"magnify\"><defs/><g><!--MD5=[fbc87193dbaf4d95561dea2c320d4a47]\n",
       "cluster E1--><a href=\"psysml:6fd2d067-8ada-4ea8-9732-021f5438b424\" target=\"_top\" title=\"psysml:6fd2d067-8ada-4ea8-9732-021f5438b424\" xlink:actuate=\"onRequest\" xlink:href=\"psysml:6fd2d067-8ada-4ea8-9732-021f5438b424\" xlink:show=\"new\" xlink:title=\"psysml:6fd2d067-8ada-4ea8-9732-021f5438b424\" xlink:type=\"simple\"><polygon fill=\"#FFFFFF\" points=\"16,6,116,6,123,28.2969,761,28.2969,761,415,16,415,16,6\" style=\"stroke: #000000; stroke-width: 1.5;\"/><line style=\"stroke: #000000; stroke-width: 1.5;\" x1=\"16\" x2=\"123\" y1=\"28.2969\" y2=\"28.2969\"/><text fill=\"#000000\" font-family=\"sans-serif\" font-size=\"14\" font-weight=\"bold\" lengthAdjust=\"spacingAndGlyphs\" textLength=\"94\" x=\"20\" y=\"20.9951\">VariabilityTest</text></a><!--MD5=[e4f7fae6ed58524ba242bb0b0d3be6b7]\n",
       "cluster E2--><a href=\"psysml:06c5c105-f179-4f9c-9acd-25394b323f4d\" target=\"_top\" title=\"psysml:06c5c105-f179-4f9c-9acd-25394b323f4d\" xlink:actuate=\"onRequest\" xlink:href=\"psysml:06c5c105-f179-4f9c-9acd-25394b323f4d\" xlink:show=\"new\" xlink:title=\"psysml:06c5c105-f179-4f9c-9acd-25394b323f4d\" xlink:type=\"simple\"><rect fill=\"#FFFFFF\" height=\"129\" id=\"E2\" style=\"stroke: #383838; stroke-width: 1.5;\" width=\"139\" x=\"424\" y=\"254\"/><rect fill=\"#F8F8F8\" height=\"37.9375\" style=\"stroke: #383838; stroke-width: 1.5;\" width=\"139\" x=\"424\" y=\"254\"/><text fill=\"#000000\" font-family=\"sans-serif\" font-size=\"12\" font-style=\"italic\" lengthAdjust=\"spacingAndGlyphs\" textLength=\"64\" x=\"461.5\" y=\"270.1387\">«part def»</text><text fill=\"#000000\" font-family=\"sans-serif\" font-size=\"12\" lengthAdjust=\"spacingAndGlyphs\" textLength=\"8\" x=\"489.5\" y=\"284.1074\">P</text></a><!--MD5=[14e3b0961a2654348d326746436168a1]\n",
       "cluster E6--><a href=\"psysml:b19cdb52-b52e-4af3-afe9-4ea29743154a\" target=\"_top\" title=\"psysml:b19cdb52-b52e-4af3-afe9-4ea29743154a\" xlink:actuate=\"onRequest\" xlink:href=\"psysml:b19cdb52-b52e-4af3-afe9-4ea29743154a\" xlink:show=\"new\" xlink:title=\"psysml:b19cdb52-b52e-4af3-afe9-4ea29743154a\" xlink:type=\"simple\"><rect fill=\"#FFFFFF\" height=\"157\" id=\"E6\" style=\"stroke: #383838; stroke-width: 1.5;\" width=\"131\" x=\"598\" y=\"57\"/><rect fill=\"#F8F8F8\" height=\"37.9375\" style=\"stroke: #383838; stroke-width: 1.5;\" width=\"131\" x=\"598\" y=\"57\"/><text fill=\"#000000\" font-family=\"sans-serif\" font-size=\"12\" font-style=\"italic\" lengthAdjust=\"spacingAndGlyphs\" textLength=\"64\" x=\"631.5\" y=\"73.1387\">«part def»</text><text fill=\"#000000\" font-family=\"sans-serif\" font-size=\"12\" lengthAdjust=\"spacingAndGlyphs\" textLength=\"8\" x=\"659.5\" y=\"87.1074\">V</text></a><!--MD5=[7f149f147074ac12df2cb0a7728a5fb0]\n",
       "cluster E9--><a href=\"psysml:d9c8c4c9-730a-472e-ad5c-9ed2548fca6c\" target=\"_top\" title=\"psysml:d9c8c4c9-730a-472e-ad5c-9ed2548fca6c\" xlink:actuate=\"onRequest\" xlink:href=\"psysml:d9c8c4c9-730a-472e-ad5c-9ed2548fca6c\" xlink:show=\"new\" xlink:title=\"psysml:d9c8c4c9-730a-472e-ad5c-9ed2548fca6c\" xlink:type=\"simple\"><rect fill=\"#FFFFFF\" height=\"139\" id=\"E9\" rx=\"10\" ry=\"10\" style=\"stroke: #383838; stroke-width: 1.5;\" width=\"110\" x=\"456\" y=\"74\"/><rect fill=\"#F8F8F8\" height=\"23.9688\" rx=\"10\" ry=\"10\" style=\"stroke: #F8F8F8; stroke-width: 1.5;\" width=\"110\" x=\"456\" y=\"74\"/><rect fill=\"#F8F8F8\" height=\"10\" style=\"stroke: #F8F8F8; stroke-width: 1.5;\" width=\"110\" x=\"456\" y=\"87.9688\"/><rect fill=\"none\" height=\"139\" id=\"E9\" rx=\"10\" ry=\"10\" style=\"stroke: #383838; stroke-width: 1.5;\" width=\"110\" x=\"456\" y=\"74\"/><text fill=\"#000000\" font-family=\"sans-serif\" font-size=\"12\" lengthAdjust=\"spacingAndGlyphs\" textLength=\"22\" x=\"500\" y=\"90.1387\">v: P</text><line style=\"stroke: #383838; stroke-width: 1.0;\" x1=\"456\" x2=\"566\" y1=\"97.9688\" y2=\"97.9688\"/></a><g id=\"E1.E5\"><a href=\"psysml:18777e48-4bd6-4ac5-98df-f6aab0b7358e\" target=\"_top\" title=\"psysml:18777e48-4bd6-4ac5-98df-f6aab0b7358e\" xlink:actuate=\"onRequest\" xlink:href=\"psysml:18777e48-4bd6-4ac5-98df-f6aab0b7358e\" xlink:show=\"new\" xlink:title=\"psysml:18777e48-4bd6-4ac5-98df-f6aab0b7358e\" xlink:type=\"simple\"><rect fill=\"#FFFFFF\" height=\"42.9375\" id=\"E5\" style=\"stroke: #383838; stroke-width: 1.5;\" width=\"100\" x=\"337\" y=\"131.5\"/><rect fill=\"#F8F8F8\" height=\"37.9375\" style=\"stroke: #383838; stroke-width: 1.5;\" width=\"100\" x=\"337\" y=\"131.5\"/><text fill=\"#000000\" font-family=\"sans-serif\" font-size=\"12\" font-style=\"italic\" lengthAdjust=\"spacingAndGlyphs\" textLength=\"93\" x=\"340.5\" y=\"147.6387\">«attribute def»</text><text fill=\"#000000\" font-family=\"sans-serif\" font-size=\"12\" lengthAdjust=\"spacingAndGlyphs\" textLength=\"8\" x=\"383\" y=\"161.6074\">B</text></a></g><!--MD5=[09b614a08d8cba4a07c9adeb5e0fee81]\n",
       "class E3--><a href=\"psysml:8d9858c1-4f67-40c3-af33-b29377a1672a\" target=\"_top\" title=\"psysml:8d9858c1-4f67-40c3-af33-b29377a1672a\" xlink:actuate=\"onRequest\" xlink:href=\"psysml:8d9858c1-4f67-40c3-af33-b29377a1672a\" xlink:show=\"new\" xlink:title=\"psysml:8d9858c1-4f67-40c3-af33-b29377a1672a\" xlink:type=\"simple\"><rect fill=\"#FFFFFF\" height=\"45.9375\" id=\"E3\" rx=\"10\" ry=\"10\" style=\"stroke: #383838; stroke-width: 1.5;\" width=\"71\" x=\"467.5\" y=\"313\"/><text fill=\"#000000\" font-family=\"sans-serif\" font-size=\"12\" font-style=\"italic\" lengthAdjust=\"spacingAndGlyphs\" textLength=\"69\" x=\"468.5\" y=\"329.1387\">«attribute»</text><text fill=\"#000000\" font-family=\"sans-serif\" font-size=\"12\" lengthAdjust=\"spacingAndGlyphs\" textLength=\"8\" x=\"499\" y=\"343.1074\">a</text><line style=\"stroke: #383838; stroke-width: 1.5;\" x1=\"468.5\" x2=\"537.5\" y1=\"350.9375\" y2=\"350.9375\"/></a><g id=\"E1.E4\"><a href=\"psysml:dc55669e-d547-41b4-94bf-d6c68c80b885\" target=\"_top\" title=\"psysml:dc55669e-d547-41b4-94bf-d6c68c80b885\" xlink:actuate=\"onRequest\" xlink:href=\"psysml:dc55669e-d547-41b4-94bf-d6c68c80b885\" xlink:show=\"new\" xlink:title=\"psysml:dc55669e-d547-41b4-94bf-d6c68c80b885\" xlink:type=\"simple\"><rect fill=\"#FFFFFF\" height=\"42.9375\" id=\"E4\" style=\"stroke: #383838; stroke-width: 1.5;\" width=\"71\" x=\"230.5\" y=\"131.5\"/><rect fill=\"#F8F8F8\" height=\"37.9375\" style=\"stroke: #383838; stroke-width: 1.5;\" width=\"71\" x=\"230.5\" y=\"131.5\"/><text fill=\"#000000\" font-family=\"sans-serif\" font-size=\"12\" font-style=\"italic\" lengthAdjust=\"spacingAndGlyphs\" textLength=\"64\" x=\"234\" y=\"147.6387\">«part def»</text><text fill=\"#000000\" font-family=\"sans-serif\" font-size=\"12\" lengthAdjust=\"spacingAndGlyphs\" textLength=\"9\" x=\"261.5\" y=\"161.6074\">Q</text></a></g><!--MD5=[2156ba9850f5573cc1fc38a6a4b2f02b]\n",
       "class E7--><a href=\"psysml:a2bd922e-3e40-42bd-80e3-ecb5a548758e\" target=\"_top\" title=\"psysml:a2bd922e-3e40-42bd-80e3-ecb5a548758e\" xlink:actuate=\"onRequest\" xlink:href=\"psysml:a2bd922e-3e40-42bd-80e3-ecb5a548758e\" xlink:show=\"new\" xlink:title=\"psysml:a2bd922e-3e40-42bd-80e3-ecb5a548758e\" xlink:type=\"simple\"><rect fill=\"#FFFFFF\" height=\"74.3828\" id=\"E7\" rx=\"10\" ry=\"10\" style=\"stroke: #383838; stroke-width: 1.5;\" width=\"63\" x=\"641.5\" y=\"116\"/><text fill=\"#000000\" font-family=\"sans-serif\" font-size=\"12\" lengthAdjust=\"spacingAndGlyphs\" textLength=\"23\" x=\"661.5\" y=\"132.1387\">x: Q</text><line style=\"stroke: #383838; stroke-width: 1.5;\" x1=\"642.5\" x2=\"703.5\" y1=\"139.9688\" y2=\"139.9688\"/><text fill=\"#000000\" font-family=\"sans-serif\" font-size=\"11\" lengthAdjust=\"spacingAndGlyphs\" textLength=\"23\" x=\"647.5\" y=\"170.9839\">b: B</text><text fill=\"#000000\" font-family=\"sans-serif\" font-size=\"11\" font-style=\"italic\" lengthAdjust=\"spacingAndGlyphs\" textLength=\"44\" x=\"647.5\" y=\"183.7886\">:&gt;&gt;P::a</text><line style=\"stroke: #383838; stroke-width: 1.0;\" x1=\"642.5\" x2=\"645.5\" y1=\"154.3711\" y2=\"154.3711\"/><text fill=\"#000000\" font-family=\"sans-serif\" font-size=\"11\" lengthAdjust=\"spacingAndGlyphs\" textLength=\"55\" x=\"645.5\" y=\"157.6792\">attributes</text><line style=\"stroke: #383838; stroke-width: 1.0;\" x1=\"700.5\" x2=\"703.5\" y1=\"154.3711\" y2=\"154.3711\"/></a><g id=\"E1.E8\"><a href=\"psysml:84f1cc81-1e5a-4a4b-9822-237c593dc1ed\" target=\"_top\" title=\"psysml:84f1cc81-1e5a-4a4b-9822-237c593dc1ed\" xlink:actuate=\"onRequest\" xlink:href=\"psysml:84f1cc81-1e5a-4a4b-9822-237c593dc1ed\" xlink:show=\"new\" xlink:title=\"psysml:84f1cc81-1e5a-4a4b-9822-237c593dc1ed\" xlink:type=\"simple\"><rect fill=\"#FFFFFF\" height=\"40\" id=\"E8\" rx=\"10\" ry=\"10\" style=\"stroke: #383838; stroke-width: 1.5;\" width=\"50\" x=\"145\" y=\"133\"/><rect fill=\"#F8F8F8\" height=\"23.9688\" rx=\"10\" ry=\"10\" style=\"stroke: #F8F8F8; stroke-width: 1.5;\" width=\"50\" x=\"145\" y=\"133\"/><rect fill=\"#F8F8F8\" height=\"10\" style=\"stroke: #F8F8F8; stroke-width: 1.5;\" width=\"50\" x=\"145\" y=\"146.9688\"/><rect fill=\"none\" height=\"40\" id=\"E8\" rx=\"10\" ry=\"10\" style=\"stroke: #383838; stroke-width: 1.5;\" width=\"50\" x=\"145\" y=\"133\"/><text fill=\"#000000\" font-family=\"sans-serif\" font-size=\"12\" lengthAdjust=\"spacingAndGlyphs\" textLength=\"25\" x=\"157.5\" y=\"149.1387\">q: Q</text></a></g><!--MD5=[96f4274e9e20536e775497830990834d]\n",
       "class E10--><a href=\"psysml:29b56154-ee98-4bdd-852f-875051132018\" target=\"_top\" title=\"psysml:29b56154-ee98-4bdd-852f-875051132018\" xlink:actuate=\"onRequest\" xlink:href=\"psysml:29b56154-ee98-4bdd-852f-875051132018\" xlink:show=\"new\" xlink:title=\"psysml:29b56154-ee98-4bdd-852f-875051132018\" xlink:type=\"simple\"><rect fill=\"#FFFFFF\" height=\"88.3516\" id=\"E10\" rx=\"10\" ry=\"10\" style=\"stroke: #383838; stroke-width: 1.5;\" width=\"77\" x=\"472.5\" y=\"109\"/><text fill=\"#000000\" font-family=\"sans-serif\" font-size=\"12\" font-style=\"italic\" lengthAdjust=\"spacingAndGlyphs\" textLength=\"75\" x=\"473.5\" y=\"125.1387\">«reference»</text><text fill=\"#000000\" font-family=\"sans-serif\" font-size=\"12\" lengthAdjust=\"spacingAndGlyphs\" textLength=\"8\" x=\"507\" y=\"139.1074\">q</text><line style=\"stroke: #383838; stroke-width: 1.5;\" x1=\"473.5\" x2=\"548.5\" y1=\"146.9375\" y2=\"146.9375\"/><text fill=\"#000000\" font-family=\"sans-serif\" font-size=\"11\" lengthAdjust=\"spacingAndGlyphs\" textLength=\"23\" x=\"478.5\" y=\"177.9526\">b: B</text><text fill=\"#000000\" font-family=\"sans-serif\" font-size=\"11\" font-style=\"italic\" lengthAdjust=\"spacingAndGlyphs\" textLength=\"44\" x=\"478.5\" y=\"190.7573\">:&gt;&gt;P::a</text><line style=\"stroke: #383838; stroke-width: 1.0;\" x1=\"473.5\" x2=\"483.5\" y1=\"161.3398\" y2=\"161.3398\"/><text fill=\"#000000\" font-family=\"sans-serif\" font-size=\"11\" lengthAdjust=\"spacingAndGlyphs\" textLength=\"55\" x=\"483.5\" y=\"164.6479\">attributes</text><line style=\"stroke: #383838; stroke-width: 1.0;\" x1=\"538.5\" x2=\"548.5\" y1=\"161.3398\" y2=\"161.3398\"/></a><g id=\"E1.E11\"><a href=\"psysml:e49f0805-0747-4902-8d4f-55ae479a1338\" target=\"_top\" title=\"psysml:e49f0805-0747-4902-8d4f-55ae479a1338\" xlink:actuate=\"onRequest\" xlink:href=\"psysml:e49f0805-0747-4902-8d4f-55ae479a1338\" xlink:show=\"new\" xlink:title=\"psysml:e49f0805-0747-4902-8d4f-55ae479a1338\" xlink:type=\"simple\"><rect fill=\"#FFFFFF\" height=\"40\" id=\"E11\" rx=\"10\" ry=\"10\" style=\"stroke: #383838; stroke-width: 1.5;\" width=\"77\" x=\"32.5\" y=\"133\"/><rect fill=\"#F8F8F8\" height=\"23.9688\" rx=\"10\" ry=\"10\" style=\"stroke: #F8F8F8; stroke-width: 1.5;\" width=\"77\" x=\"32.5\" y=\"133\"/><rect fill=\"#F8F8F8\" height=\"10\" style=\"stroke: #F8F8F8; stroke-width: 1.5;\" width=\"77\" x=\"32.5\" y=\"146.9688\"/><rect fill=\"none\" height=\"40\" id=\"E11\" rx=\"10\" ry=\"10\" style=\"stroke: #383838; stroke-width: 1.5;\" width=\"77\" x=\"32.5\" y=\"133\"/><text fill=\"#000000\" font-family=\"sans-serif\" font-size=\"12\" lengthAdjust=\"spacingAndGlyphs\" textLength=\"62\" x=\"38\" y=\"149.1387\">y: P= v::q;</text></a></g><!--MD5=[185131fc0dcab0a4505a2ebe144e961b]\n",
       "link E4 to E2--><a href=\"psysml:f79594a1-bc1c-4f37-98e7-b8999b5b3daa\" target=\"_top\" title=\"psysml:f79594a1-bc1c-4f37-98e7-b8999b5b3daa\" xlink:actuate=\"onRequest\" xlink:href=\"psysml:f79594a1-bc1c-4f37-98e7-b8999b5b3daa\" xlink:show=\"new\" xlink:title=\"psysml:f79594a1-bc1c-4f37-98e7-b8999b5b3daa\" xlink:type=\"simple\"><path d=\"M278.95,174.5 C289.29,190.29 304.57,212.32 320,230 C342.085,255.3 369.5625,281.1325 391.7738,300.8438 C402.8794,310.6994 412.6684,319.0247 419.8086,324.988 C420.7011,325.7334 421.5522,326.4419 422.3594,327.1119 C422.763,327.4468 423.1555,327.7722 423.5368,328.0877 C423.6321,328.1666 423.7267,328.2449 423.8206,328.3225 \" fill=\"none\" id=\"E4-&gt;E2\" style=\"stroke: #383838; stroke-width: 1.0;\"/><polygon fill=\"#FFFFFF\" points=\"423.8206,328.3225,413.6398,310.8196,404.7177,321.6083,423.8206,328.3225\" style=\"stroke: #383838; stroke-width: 1.0;\"/></a><!--MD5=[2351f337d6de0f557b50152ba70847b5]\n",
       "link E6 to E2--><a href=\"psysml:e72a8b47-cfcf-460f-abbe-f19ffcddd547\" target=\"_top\" title=\"psysml:e72a8b47-cfcf-460f-abbe-f19ffcddd547\" xlink:actuate=\"onRequest\" xlink:href=\"psysml:e72a8b47-cfcf-460f-abbe-f19ffcddd547\" xlink:show=\"new\" xlink:title=\"psysml:e72a8b47-cfcf-460f-abbe-f19ffcddd547\" xlink:type=\"simple\"><path d=\"M597.9695,184.2276 C597.7875,184.724 597.6019,185.2229 597.4125,185.7238 C591.3525,201.7525 581.485,219.9 566,230 C544.54,243.99 470.2,221.04 451,238 C446.9488,241.5788 443.6069,245.7455 440.8611,250.3013 C440.1747,251.4402 439.5255,252.6035 438.9118,253.788 \" fill=\"none\" id=\"E6-&gt;E2\" style=\"stroke: #383838; stroke-width: 1.0;\"/><polygon fill=\"#FFFFFF\" points=\"438.9118,253.788,453.8677,240.138,441.4371,233.6976,438.9118,253.788\" style=\"stroke: #383838; stroke-width: 1.0;\"/></a><!--MD5=[3daf6837f2843b0a3357c754fc2e8195]\n",
       "@startuml\r\n",
       "skinparam ranksep 10\r\n",
       "skinparam rectangle {\r\n",
       " backgroundColor<<block>> LightGreen\r\n",
       "}\r\n",
       "top to bottom direction\r\n",
       "skinparam monochrome true\r\n",
       "skinparam classbackgroundcolor white\r\n",
       "skinparam shadowing false\r\n",
       "skinparam wrapWidth 300\r\n",
       "hide circle\r\n",
       "\r\n",
       "package \"VariabilityTest\" as E1  [[psysml:6fd2d067-8ada-4ea8-9732-021f5438b424 ]]  {\r\n",
       "rec def \"P\" as E2  <<(T,blue) part def>> [[psysml:06c5c105-f179-4f9c-9acd-25394b323f4d ]] {\r\n",
       "comp usage \"a\" as E3  <<(T,blue) attribute>> [[psysml:8d9858c1-4f67-40c3-af33-b29377a1672a ]] {\r\n",
       "}\r\n",
       "}\r\n",
       "rec def \"Q\" as E4  <<(T,blue) part def>> [[psysml:dc55669e-d547-41b4-94bf-d6c68c80b885 ]] {\r\n",
       "}\r\n",
       "def \"B\" as E5  <<(T,blue) attribute def>> [[psysml:18777e48-4bd6-4ac5-98df-f6aab0b7358e ]] \r\n",
       "rec def \"V\" as E6  <<(T,blue) part def>> [[psysml:b19cdb52-b52e-4af3-afe9-4ea29743154a ]] {\r\n",
       "comp usage \"x: Q\" as E7  [[psysml:a2bd922e-3e40-42bd-80e3-ecb5a548758e ]] {\r\n",
       "- - attributes - -\r\n",
       "b: B\\n//:>>P::a// \r\n",
       "}\r\n",
       "}\r\n",
       "rec usage \"q: Q\" as E8  [[psysml:84f1cc81-1e5a-4a4b-9822-237c593dc1ed ]] {\r\n",
       "}\r\n",
       "rec usage \"v: P\" as E9  [[psysml:d9c8c4c9-730a-472e-ad5c-9ed2548fca6c ]] {\r\n",
       "comp usage \"q\" as E10  <<(T,blue) reference>> [[psysml:29b56154-ee98-4bdd-852f-875051132018 ]] {\r\n",
       "- - attributes - -\r\n",
       "b: B\\n//:>>P::a// \r\n",
       "}\r\n",
       "}\r\n",
       "rec usage \"y: P= v::q; \" as E11  [[psysml:e49f0805-0747-4902-8d4f-55ae479a1338 ]] {\r\n",
       "}\r\n",
       "}\r\n",
       "E4 - -|> E2 [[psysml:f79594a1-bc1c-4f37-98e7-b8999b5b3daa ]] \r\n",
       "E6 - -|> E2 [[psysml:e72a8b47-cfcf-460f-abbe-f19ffcddd547 ]] \r\n",
       "@enduml\r\n",
       "\n",
       "PlantUML version 1.2020.13(Sat Jun 13 12:26:38 UTC 2020)\n",
       "(EPL source distribution)\n",
       "Java Runtime: OpenJDK Runtime Environment\n",
       "JVM: OpenJDK 64-Bit Server VM\n",
       "Default Encoding: UTF-8\n",
       "Language: en\n",
       "Country: null\n",
       "--></g></svg>"
      ]
     },
     "execution_count": 47,
     "metadata": {},
     "output_type": "execute_result"
    }
   ],
   "source": [
    "%viz --style=\"TB\" --view=\"Interconnection\" \"VariabilityTest\""
   ]
  },
  {
   "cell_type": "code",
   "execution_count": 48,
   "id": "73f251ee",
   "metadata": {
    "execution": {
     "iopub.execute_input": "2021-10-03T08:28:18.461755Z",
     "iopub.status.busy": "2021-10-03T08:28:18.461370Z",
     "iopub.status.idle": "2021-10-03T08:28:18.466719Z",
     "shell.execute_reply": "2021-10-03T08:28:18.466397Z"
    }
   },
   "outputs": [
    {
     "data": {
      "image/svg+xml": [
       "<?xml version=\"1.0\" encoding=\"UTF-8\" standalone=\"no\"?><svg xmlns=\"http://www.w3.org/2000/svg\" xmlns:xlink=\"http://www.w3.org/1999/xlink\" contentScriptType=\"application/ecmascript\" contentStyleType=\"text/css\" height=\"12px\" preserveAspectRatio=\"none\" style=\"width:12px;height:12px;\" version=\"1.1\" viewBox=\"0 0 12 12\" width=\"12px\" zoomAndPan=\"magnify\"><defs/><g><!--MD5=[06afc254b03ac5e9d9fb7773b07d0800]\n",
       "@startuml\r\n",
       "skinparam ranksep 8\r\n",
       "top to bottom direction\r\n",
       "skinparam monochrome true\r\n",
       "skinparam classbackgroundcolor white\r\n",
       "skinparam shadowing false\r\n",
       "skinparam wrapWidth 300\r\n",
       "hide circle\r\n",
       "\r\n",
       "@enduml\r\n",
       "\n",
       "PlantUML version 1.2020.13(Sat Jun 13 12:26:38 UTC 2020)\n",
       "(EPL source distribution)\n",
       "Java Runtime: OpenJDK Runtime Environment\n",
       "JVM: OpenJDK 64-Bit Server VM\n",
       "Default Encoding: UTF-8\n",
       "Language: en\n",
       "Country: null\n",
       "--></g></svg>"
      ]
     },
     "execution_count": 48,
     "metadata": {},
     "output_type": "execute_result"
    }
   ],
   "source": [
    "%viz --style=\"TB\" --view=\"Action\" \"VariabilityTest\""
   ]
  },
  {
   "cell_type": "code",
   "execution_count": 49,
   "id": "477dc6ce",
   "metadata": {
    "execution": {
     "iopub.execute_input": "2021-10-03T08:28:18.516431Z",
     "iopub.status.busy": "2021-10-03T08:28:18.516039Z",
     "iopub.status.idle": "2021-10-03T08:28:18.521854Z",
     "shell.execute_reply": "2021-10-03T08:28:18.521511Z"
    }
   },
   "outputs": [
    {
     "data": {
      "image/svg+xml": [
       "<?xml version=\"1.0\" encoding=\"UTF-8\" standalone=\"no\"?><svg xmlns=\"http://www.w3.org/2000/svg\" xmlns:xlink=\"http://www.w3.org/1999/xlink\" contentScriptType=\"application/ecmascript\" contentStyleType=\"text/css\" height=\"12px\" preserveAspectRatio=\"none\" style=\"width:12px;height:12px;\" version=\"1.1\" viewBox=\"0 0 12 12\" width=\"12px\" zoomAndPan=\"magnify\"><defs/><g><!--MD5=[e1ab0c84c44d2fef8bf5f140f2689906]\n",
       "@startuml\r\n",
       "skinparam roundcorner 20\r\n",
       "skinparam BoxPadding 20\r\n",
       "skinparam SequenceBoxBackgroundColor #white\r\n",
       "skinparam style strictuml\r\n",
       "skinparam maxMessageSize 100\r\n",
       "top to bottom direction\r\n",
       "skinparam monochrome true\r\n",
       "skinparam classbackgroundcolor white\r\n",
       "skinparam shadowing false\r\n",
       "skinparam wrapWidth 300\r\n",
       "hide circle\r\n",
       "\r\n",
       "@enduml\r\n",
       "\n",
       "PlantUML version 1.2020.13(Sat Jun 13 12:26:38 UTC 2020)\n",
       "(EPL source distribution)\n",
       "Java Runtime: OpenJDK Runtime Environment\n",
       "JVM: OpenJDK 64-Bit Server VM\n",
       "Default Encoding: UTF-8\n",
       "Language: en\n",
       "Country: null\n",
       "--></g></svg>"
      ]
     },
     "execution_count": 49,
     "metadata": {},
     "output_type": "execute_result"
    }
   ],
   "source": [
    "%viz --style=\"TB\" --view=\"Sequence\" \"VariabilityTest\""
   ]
  },
  {
   "cell_type": "code",
   "execution_count": 50,
   "id": "425700d9",
   "metadata": {
    "execution": {
     "iopub.execute_input": "2021-10-03T08:28:18.571652Z",
     "iopub.status.busy": "2021-10-03T08:28:18.571265Z",
     "iopub.status.idle": "2021-10-03T08:28:18.652113Z",
     "shell.execute_reply": "2021-10-03T08:28:18.650360Z"
    }
   },
   "outputs": [
    {
     "data": {
      "image/svg+xml": [
       "<?xml version=\"1.0\" encoding=\"UTF-8\" standalone=\"no\"?><svg xmlns=\"http://www.w3.org/2000/svg\" xmlns:xlink=\"http://www.w3.org/1999/xlink\" contentScriptType=\"application/ecmascript\" contentStyleType=\"text/css\" height=\"401px\" preserveAspectRatio=\"none\" style=\"width:419px;height:401px;\" version=\"1.1\" viewBox=\"0 0 419 401\" width=\"419px\" zoomAndPan=\"magnify\"><defs/><g><!--MD5=[fbc87193dbaf4d95561dea2c320d4a47]\n",
       "cluster E1--><a href=\"psysml:6fd2d067-8ada-4ea8-9732-021f5438b424\" target=\"_top\" title=\"psysml:6fd2d067-8ada-4ea8-9732-021f5438b424\" xlink:actuate=\"onRequest\" xlink:href=\"psysml:6fd2d067-8ada-4ea8-9732-021f5438b424\" xlink:show=\"new\" xlink:title=\"psysml:6fd2d067-8ada-4ea8-9732-021f5438b424\" xlink:type=\"simple\"><polygon fill=\"#FFFFFF\" points=\"16,6,116,6,123,28.2969,397,28.2969,397,389,16,389,16,6\" style=\"stroke: #000000; stroke-width: 1.5;\"/><line style=\"stroke: #000000; stroke-width: 1.5;\" x1=\"16\" x2=\"123\" y1=\"28.2969\" y2=\"28.2969\"/><text fill=\"#000000\" font-family=\"sans-serif\" font-size=\"14\" font-weight=\"bold\" lengthAdjust=\"spacingAndGlyphs\" textLength=\"94\" x=\"20\" y=\"20.9951\">VariabilityTest</text></a><!--MD5=[b4997ac47864f28c2f74865a473b2911]\n",
       "class E2--><a href=\"psysml:06c5c105-f179-4f9c-9acd-25394b323f4d\" target=\"_top\" title=\"psysml:06c5c105-f179-4f9c-9acd-25394b323f4d\" xlink:actuate=\"onRequest\" xlink:href=\"psysml:06c5c105-f179-4f9c-9acd-25394b323f4d\" xlink:show=\"new\" xlink:title=\"psysml:06c5c105-f179-4f9c-9acd-25394b323f4d\" xlink:type=\"simple\"><rect fill=\"#FFFFFF\" height=\"75.5469\" id=\"E2\" style=\"stroke: #383838; stroke-width: 1.5;\" width=\"66\" x=\"166\" y=\"291\"/><text fill=\"#000000\" font-family=\"sans-serif\" font-size=\"12\" font-style=\"italic\" lengthAdjust=\"spacingAndGlyphs\" textLength=\"64\" x=\"167\" y=\"307.1387\">«part def»</text><text fill=\"#000000\" font-family=\"sans-serif\" font-size=\"12\" lengthAdjust=\"spacingAndGlyphs\" textLength=\"8\" x=\"195\" y=\"321.1074\">P</text><line style=\"stroke: #383838; stroke-width: 1.5;\" x1=\"167\" x2=\"231\" y1=\"328.9375\" y2=\"328.9375\"/><text fill=\"#000000\" font-family=\"sans-serif\" font-size=\"11\" lengthAdjust=\"spacingAndGlyphs\" textLength=\"7\" x=\"172\" y=\"359.9526\">a</text><line style=\"stroke: #383838; stroke-width: 1.0;\" x1=\"167\" x2=\"171.5\" y1=\"343.3398\" y2=\"343.3398\"/><text fill=\"#000000\" font-family=\"sans-serif\" font-size=\"11\" lengthAdjust=\"spacingAndGlyphs\" textLength=\"55\" x=\"171.5\" y=\"346.6479\">attributes</text><line style=\"stroke: #383838; stroke-width: 1.0;\" x1=\"226.5\" x2=\"231\" y1=\"343.3398\" y2=\"343.3398\"/></a><!--MD5=[09b614a08d8cba4a07c9adeb5e0fee81]\n",
       "class E3--><a href=\"psysml:dc55669e-d547-41b4-94bf-d6c68c80b885\" target=\"_top\" title=\"psysml:dc55669e-d547-41b4-94bf-d6c68c80b885\" xlink:actuate=\"onRequest\" xlink:href=\"psysml:dc55669e-d547-41b4-94bf-d6c68c80b885\" xlink:show=\"new\" xlink:title=\"psysml:dc55669e-d547-41b4-94bf-d6c68c80b885\" xlink:type=\"simple\"><rect fill=\"#FFFFFF\" height=\"45.9375\" id=\"E3\" style=\"stroke: #383838; stroke-width: 1.5;\" width=\"66\" x=\"137\" y=\"155\"/><text fill=\"#000000\" font-family=\"sans-serif\" font-size=\"12\" font-style=\"italic\" lengthAdjust=\"spacingAndGlyphs\" textLength=\"64\" x=\"138\" y=\"171.1387\">«part def»</text><text fill=\"#000000\" font-family=\"sans-serif\" font-size=\"12\" lengthAdjust=\"spacingAndGlyphs\" textLength=\"9\" x=\"165.5\" y=\"185.1074\">Q</text><line style=\"stroke: #383838; stroke-width: 1.5;\" x1=\"138\" x2=\"202\" y1=\"192.9375\" y2=\"192.9375\"/></a><!--MD5=[ebbe1d658d1005bcc118a6aa81145e00]\n",
       "class E4--><a href=\"psysml:18777e48-4bd6-4ac5-98df-f6aab0b7358e\" target=\"_top\" title=\"psysml:18777e48-4bd6-4ac5-98df-f6aab0b7358e\" xlink:actuate=\"onRequest\" xlink:href=\"psysml:18777e48-4bd6-4ac5-98df-f6aab0b7358e\" xlink:show=\"new\" xlink:title=\"psysml:18777e48-4bd6-4ac5-98df-f6aab0b7358e\" xlink:type=\"simple\"><rect fill=\"#FFFFFF\" height=\"45.9375\" id=\"E4\" style=\"stroke: #383838; stroke-width: 1.5;\" width=\"95\" x=\"255.5\" y=\"41\"/><text fill=\"#000000\" font-family=\"sans-serif\" font-size=\"12\" font-style=\"italic\" lengthAdjust=\"spacingAndGlyphs\" textLength=\"93\" x=\"256.5\" y=\"57.1387\">«attribute def»</text><text fill=\"#000000\" font-family=\"sans-serif\" font-size=\"12\" lengthAdjust=\"spacingAndGlyphs\" textLength=\"8\" x=\"299\" y=\"71.1074\">B</text><line style=\"stroke: #383838; stroke-width: 1.5;\" x1=\"256.5\" x2=\"349.5\" y1=\"78.9375\" y2=\"78.9375\"/></a><!--MD5=[270fce915f116d4de14055a7c1d9a0f3]\n",
       "class E5--><a href=\"psysml:b19cdb52-b52e-4af3-afe9-4ea29743154a\" target=\"_top\" title=\"psysml:b19cdb52-b52e-4af3-afe9-4ea29743154a\" xlink:actuate=\"onRequest\" xlink:href=\"psysml:b19cdb52-b52e-4af3-afe9-4ea29743154a\" xlink:show=\"new\" xlink:title=\"psysml:b19cdb52-b52e-4af3-afe9-4ea29743154a\" xlink:type=\"simple\"><rect fill=\"#FFFFFF\" height=\"45.9375\" id=\"E5\" style=\"stroke: #383838; stroke-width: 1.5;\" width=\"66\" x=\"315\" y=\"155\"/><text fill=\"#000000\" font-family=\"sans-serif\" font-size=\"12\" font-style=\"italic\" lengthAdjust=\"spacingAndGlyphs\" textLength=\"64\" x=\"316\" y=\"171.1387\">«part def»</text><text fill=\"#000000\" font-family=\"sans-serif\" font-size=\"12\" lengthAdjust=\"spacingAndGlyphs\" textLength=\"8\" x=\"344\" y=\"185.1074\">V</text><line style=\"stroke: #383838; stroke-width: 1.5;\" x1=\"316\" x2=\"380\" y1=\"192.9375\" y2=\"192.9375\"/></a><!--MD5=[60a26617385b1d2d0262a64233df1f8d]\n",
       "class E6--><a href=\"psysml:a2bd922e-3e40-42bd-80e3-ecb5a548758e\" target=\"_top\" title=\"psysml:a2bd922e-3e40-42bd-80e3-ecb5a548758e\" xlink:actuate=\"onRequest\" xlink:href=\"psysml:a2bd922e-3e40-42bd-80e3-ecb5a548758e\" xlink:show=\"new\" xlink:title=\"psysml:a2bd922e-3e40-42bd-80e3-ecb5a548758e\" xlink:type=\"simple\"><rect fill=\"#FFFFFF\" height=\"88.3516\" id=\"E6\" rx=\"10\" ry=\"10\" style=\"stroke: #383838; stroke-width: 1.5;\" width=\"63\" x=\"287.5\" y=\"285\"/><text fill=\"#000000\" font-family=\"sans-serif\" font-size=\"12\" font-style=\"italic\" lengthAdjust=\"spacingAndGlyphs\" textLength=\"40\" x=\"299\" y=\"301.1387\">«part»</text><text fill=\"#000000\" font-family=\"sans-serif\" font-size=\"12\" lengthAdjust=\"spacingAndGlyphs\" textLength=\"23\" x=\"307.5\" y=\"315.1074\">x: Q</text><line style=\"stroke: #383838; stroke-width: 1.5;\" x1=\"288.5\" x2=\"349.5\" y1=\"322.9375\" y2=\"322.9375\"/><text fill=\"#000000\" font-family=\"sans-serif\" font-size=\"11\" lengthAdjust=\"spacingAndGlyphs\" textLength=\"23\" x=\"293.5\" y=\"353.9526\">b: B</text><text fill=\"#000000\" font-family=\"sans-serif\" font-size=\"11\" font-style=\"italic\" lengthAdjust=\"spacingAndGlyphs\" textLength=\"44\" x=\"293.5\" y=\"366.7573\">:&gt;&gt;P::a</text><line style=\"stroke: #383838; stroke-width: 1.0;\" x1=\"288.5\" x2=\"291.5\" y1=\"337.3398\" y2=\"337.3398\"/><text fill=\"#000000\" font-family=\"sans-serif\" font-size=\"11\" lengthAdjust=\"spacingAndGlyphs\" textLength=\"55\" x=\"291.5\" y=\"340.6479\">attributes</text><line style=\"stroke: #383838; stroke-width: 1.0;\" x1=\"346.5\" x2=\"349.5\" y1=\"337.3398\" y2=\"337.3398\"/></a><!--MD5=[2156ba9850f5573cc1fc38a6a4b2f02b]\n",
       "class E7--><a href=\"psysml:84f1cc81-1e5a-4a4b-9822-237c593dc1ed\" target=\"_top\" title=\"psysml:84f1cc81-1e5a-4a4b-9822-237c593dc1ed\" xlink:actuate=\"onRequest\" xlink:href=\"psysml:84f1cc81-1e5a-4a4b-9822-237c593dc1ed\" xlink:show=\"new\" xlink:title=\"psysml:84f1cc81-1e5a-4a4b-9822-237c593dc1ed\" xlink:type=\"simple\"><rect fill=\"#FFFFFF\" height=\"45.9375\" id=\"E7\" rx=\"10\" ry=\"10\" style=\"stroke: #383838; stroke-width: 1.5;\" width=\"42\" x=\"149\" y=\"41\"/><text fill=\"#000000\" font-family=\"sans-serif\" font-size=\"12\" font-style=\"italic\" lengthAdjust=\"spacingAndGlyphs\" textLength=\"40\" x=\"150\" y=\"57.1387\">«part»</text><text fill=\"#000000\" font-family=\"sans-serif\" font-size=\"12\" lengthAdjust=\"spacingAndGlyphs\" textLength=\"25\" x=\"157.5\" y=\"71.1074\">q: Q</text><line style=\"stroke: #383838; stroke-width: 1.5;\" x1=\"150\" x2=\"190\" y1=\"78.9375\" y2=\"78.9375\"/></a><!--MD5=[b9389687b975829384b498ac4b7476b2]\n",
       "class E8--><a href=\"psysml:d9c8c4c9-730a-472e-ad5c-9ed2548fca6c\" target=\"_top\" title=\"psysml:d9c8c4c9-730a-472e-ad5c-9ed2548fca6c\" xlink:actuate=\"onRequest\" xlink:href=\"psysml:d9c8c4c9-730a-472e-ad5c-9ed2548fca6c\" xlink:show=\"new\" xlink:title=\"psysml:d9c8c4c9-730a-472e-ad5c-9ed2548fca6c\" xlink:type=\"simple\"><rect fill=\"#FFFFFF\" height=\"59.9063\" id=\"E8\" rx=\"10\" ry=\"10\" style=\"stroke: #383838; stroke-width: 1.5;\" width=\"70\" x=\"32\" y=\"148\"/><text fill=\"#000000\" font-family=\"sans-serif\" font-size=\"12\" font-style=\"italic\" lengthAdjust=\"spacingAndGlyphs\" textLength=\"68\" x=\"33\" y=\"164.1387\">«variation»</text><text fill=\"#000000\" font-family=\"sans-serif\" font-size=\"12\" font-style=\"italic\" lengthAdjust=\"spacingAndGlyphs\" textLength=\"40\" x=\"47\" y=\"178.1074\">«part»</text><text fill=\"#000000\" font-family=\"sans-serif\" font-size=\"12\" lengthAdjust=\"spacingAndGlyphs\" textLength=\"22\" x=\"56\" y=\"192.0762\">v: P</text><line style=\"stroke: #383838; stroke-width: 1.5;\" x1=\"33\" x2=\"101\" y1=\"199.9063\" y2=\"199.9063\"/></a><!--MD5=[fd4143e9d270a159db93a4ea2a975926]\n",
       "class E9--><a href=\"psysml:29b56154-ee98-4bdd-852f-875051132018\" target=\"_top\" title=\"psysml:29b56154-ee98-4bdd-852f-875051132018\" xlink:actuate=\"onRequest\" xlink:href=\"psysml:29b56154-ee98-4bdd-852f-875051132018\" xlink:show=\"new\" xlink:title=\"psysml:29b56154-ee98-4bdd-852f-875051132018\" xlink:type=\"simple\"><rect fill=\"#FFFFFF\" height=\"88.3516\" id=\"E9\" rx=\"10\" ry=\"10\" style=\"stroke: #383838; stroke-width: 1.5;\" width=\"77\" x=\"32.5\" y=\"285\"/><text fill=\"#000000\" font-family=\"sans-serif\" font-size=\"12\" font-style=\"italic\" lengthAdjust=\"spacingAndGlyphs\" textLength=\"75\" x=\"33.5\" y=\"301.1387\">«reference»</text><text fill=\"#000000\" font-family=\"sans-serif\" font-size=\"12\" lengthAdjust=\"spacingAndGlyphs\" textLength=\"8\" x=\"67\" y=\"315.1074\">q</text><line style=\"stroke: #383838; stroke-width: 1.5;\" x1=\"33.5\" x2=\"108.5\" y1=\"322.9375\" y2=\"322.9375\"/><text fill=\"#000000\" font-family=\"sans-serif\" font-size=\"11\" lengthAdjust=\"spacingAndGlyphs\" textLength=\"23\" x=\"38.5\" y=\"353.9526\">b: B</text><text fill=\"#000000\" font-family=\"sans-serif\" font-size=\"11\" font-style=\"italic\" lengthAdjust=\"spacingAndGlyphs\" textLength=\"44\" x=\"38.5\" y=\"366.7573\">:&gt;&gt;P::a</text><line style=\"stroke: #383838; stroke-width: 1.0;\" x1=\"33.5\" x2=\"43.5\" y1=\"337.3398\" y2=\"337.3398\"/><text fill=\"#000000\" font-family=\"sans-serif\" font-size=\"11\" lengthAdjust=\"spacingAndGlyphs\" textLength=\"55\" x=\"43.5\" y=\"340.6479\">attributes</text><line style=\"stroke: #383838; stroke-width: 1.0;\" x1=\"98.5\" x2=\"108.5\" y1=\"337.3398\" y2=\"337.3398\"/></a><!--MD5=[96f4274e9e20536e775497830990834d]\n",
       "class E10--><a href=\"psysml:e49f0805-0747-4902-8d4f-55ae479a1338\" target=\"_top\" title=\"psysml:e49f0805-0747-4902-8d4f-55ae479a1338\" xlink:actuate=\"onRequest\" xlink:href=\"psysml:e49f0805-0747-4902-8d4f-55ae479a1338\" xlink:show=\"new\" xlink:title=\"psysml:e49f0805-0747-4902-8d4f-55ae479a1338\" xlink:type=\"simple\"><rect fill=\"#FFFFFF\" height=\"45.9375\" id=\"E10\" rx=\"10\" ry=\"10\" style=\"stroke: #383838; stroke-width: 1.5;\" width=\"42\" x=\"238\" y=\"155\"/><text fill=\"#000000\" font-family=\"sans-serif\" font-size=\"12\" font-style=\"italic\" lengthAdjust=\"spacingAndGlyphs\" textLength=\"40\" x=\"239\" y=\"171.1387\">«part»</text><text fill=\"#000000\" font-family=\"sans-serif\" font-size=\"12\" lengthAdjust=\"spacingAndGlyphs\" textLength=\"22\" x=\"248\" y=\"185.1074\">y: P</text><line style=\"stroke: #383838; stroke-width: 1.5;\" x1=\"239\" x2=\"279\" y1=\"192.9375\" y2=\"192.9375\"/></a><!--MD5=[05d275557350bfb9b23a4ef7222b4c39]\n",
       "link E3 to E2--><a href=\"psysml:f79594a1-bc1c-4f37-98e7-b8999b5b3daa\" target=\"_top\" title=\"psysml:f79594a1-bc1c-4f37-98e7-b8999b5b3daa\" xlink:actuate=\"onRequest\" xlink:href=\"psysml:f79594a1-bc1c-4f37-98e7-b8999b5b3daa\" xlink:show=\"new\" xlink:title=\"psysml:f79594a1-bc1c-4f37-98e7-b8999b5b3daa\" xlink:type=\"simple\"><path d=\"M174.34,201.31 C177.92,219.67 183.15,246.54 187.87,270.81 \" fill=\"none\" id=\"E3-&gt;E2\" style=\"stroke: #383838; stroke-width: 1.0;\"/><polygon fill=\"none\" points=\"194.8,269.8,191.75,290.77,181.06,272.47,194.8,269.8\" style=\"stroke: #383838; stroke-width: 1.0;\"/></a><!--MD5=[15ebcb19ae302d9b601edb458606d402]\n",
       "link E5 to E2--><a href=\"psysml:e72a8b47-cfcf-460f-abbe-f19ffcddd547\" target=\"_top\" title=\"psysml:e72a8b47-cfcf-460f-abbe-f19ffcddd547\" xlink:actuate=\"onRequest\" xlink:href=\"psysml:e72a8b47-cfcf-460f-abbe-f19ffcddd547\" xlink:show=\"new\" xlink:title=\"psysml:e72a8b47-cfcf-460f-abbe-f19ffcddd547\" xlink:type=\"simple\"><path d=\"M325.69,201.31 C304.9,222.1 273.2,253.8 246.71,280.29 \" fill=\"none\" id=\"E5-&gt;E2\" style=\"stroke: #383838; stroke-width: 1.0;\"/><polygon fill=\"none\" points=\"251.33,285.57,232.24,294.76,241.43,275.67,251.33,285.57\" style=\"stroke: #383838; stroke-width: 1.0;\"/></a><!--MD5=[9120cf2e5df3bff93db8f754bbbc09b4]\n",
       "link E5 to E6--><a href=\"psysml:d1158e90-c200-41a0-bff8-4b2e6825fa74\" target=\"_top\" title=\"psysml:d1158e90-c200-41a0-bff8-4b2e6825fa74\" xlink:actuate=\"onRequest\" xlink:href=\"psysml:d1158e90-c200-41a0-bff8-4b2e6825fa74\" xlink:show=\"new\" xlink:title=\"psysml:d1158e90-c200-41a0-bff8-4b2e6825fa74\" xlink:type=\"simple\"><path d=\"M341.72,211.26 C338.1,229.85 333.47,253.68 329.32,274.95 \" fill=\"none\" id=\"E5-E6\" style=\"stroke: #383838; stroke-width: 1.0;\"/><polygon fill=\"#383838\" points=\"327.4,284.84,331.8761,277.5623,325.987,276.4136,327.4,284.84\" style=\"stroke: #383838; stroke-width: 1.0;\"/><path d=\"M334.7699,202.7122 A9,9 0 0 0 351.3715 205.9503\" fill=\"none\" style=\"stroke: #383838; stroke-width: 1.5;\"/><text fill=\"#000000\" font-family=\"sans-serif\" font-size=\"13\" lengthAdjust=\"spacingAndGlyphs\" textLength=\"60\" x=\"337\" y=\"251.0669\">«variant»</text></a><!--MD5=[14ccda38c055a5c0da953d572bc50960]\n",
       "link E7 to E3--><a href=\"psysml:df5a11ab-14bd-474c-9e9f-2e0517640249\" target=\"_top\" title=\"psysml:df5a11ab-14bd-474c-9e9f-2e0517640249\" xlink:actuate=\"onRequest\" xlink:href=\"psysml:df5a11ab-14bd-474c-9e9f-2e0517640249\" xlink:show=\"new\" xlink:title=\"psysml:df5a11ab-14bd-474c-9e9f-2e0517640249\" xlink:type=\"simple\"><path d=\"M170,87.13 C170,100.7 170,118.53 170,134.73 \" fill=\"none\" id=\"E7-&gt;E3\" style=\"stroke: #383838; stroke-width: 1.0;\"/><polygon fill=\"#FFFFFF\" points=\"170,154.92,163,135.92,177,135.92,170,154.92\" style=\"stroke: #383838; stroke-width: 1.0;\"/><ellipse cx=\"165\" cy=\"130.22\" fill=\"#383838\" rx=\"2\" ry=\"2\" style=\"stroke: #383838; stroke-width: 1.0;\"/><ellipse cx=\"175\" cy=\"130.22\" fill=\"#383838\" rx=\"2\" ry=\"2\" style=\"stroke: #383838; stroke-width: 1.0;\"/></a><!--MD5=[f1f3f9f2fc535e6147756cb86a7f2e32]\n",
       "link E8 to E2--><a href=\"psysml:108d975b-2613-446e-8683-bfdaec0afedf\" target=\"_top\" title=\"psysml:108d975b-2613-446e-8683-bfdaec0afedf\" xlink:actuate=\"onRequest\" xlink:href=\"psysml:108d975b-2613-446e-8683-bfdaec0afedf\" xlink:show=\"new\" xlink:title=\"psysml:108d975b-2613-446e-8683-bfdaec0afedf\" xlink:type=\"simple\"><path d=\"M102.17,204.39 C114.52,214.17 128.04,225.9 139,238 C148.86,248.88 158.29,261.5 166.63,273.79 \" fill=\"none\" id=\"E8-&gt;E2\" style=\"stroke: #383838; stroke-width: 1.0;\"/><polygon fill=\"#FFFFFF\" points=\"177.64,290.73,161.4168,278.6135,173.1555,270.9844,177.64,290.73\" style=\"stroke: #383838; stroke-width: 1.0;\"/><ellipse cx=\"159.9876\" cy=\"272.7443\" fill=\"#383838\" rx=\"2\" ry=\"2\" style=\"stroke: #383838; stroke-width: 1.0;\"/><ellipse cx=\"168.3724\" cy=\"267.2949\" fill=\"#383838\" rx=\"2\" ry=\"2\" style=\"stroke: #383838; stroke-width: 1.0;\"/></a><!--MD5=[ed10624c06dd9a4fa49ccf290e8b16a8]\n",
       "link E8 to E9--><a href=\"psysml:ebcdab70-773e-42b3-a4e9-8c7478e829d7\" target=\"_top\" title=\"psysml:ebcdab70-773e-42b3-a4e9-8c7478e829d7\" xlink:actuate=\"onRequest\" xlink:href=\"psysml:ebcdab70-773e-42b3-a4e9-8c7478e829d7\" xlink:show=\"new\" xlink:title=\"psysml:ebcdab70-773e-42b3-a4e9-8c7478e829d7\" xlink:type=\"simple\"><path d=\"M68.06,218.32 C68.52,235.6 69.07,256.15 69.57,274.77 \" fill=\"none\" id=\"E8-E9\" style=\"stroke: #383838; stroke-width: 1.0;\"/><polygon fill=\"#383838\" points=\"69.84,284.88,72.6331,276.8054,66.6351,276.9599,69.84,284.88\" style=\"stroke: #383838; stroke-width: 1.0;\"/><path d=\"M59.4094,211.3865 A9,9 0 0 0 76.3176 210.9276\" fill=\"none\" style=\"stroke: #383838; stroke-width: 1.5;\"/><text fill=\"#000000\" font-family=\"sans-serif\" font-size=\"13\" lengthAdjust=\"spacingAndGlyphs\" textLength=\"60\" x=\"70\" y=\"251.0669\">«variant»</text></a><!--MD5=[0f36bececdf0dff6e600d6f64214b0f1]\n",
       "link E10 to E2--><a href=\"psysml:967d0111-ba43-4736-bbbb-a2fd42e2431e\" target=\"_top\" title=\"psysml:967d0111-ba43-4736-bbbb-a2fd42e2431e\" xlink:actuate=\"onRequest\" xlink:href=\"psysml:967d0111-ba43-4736-bbbb-a2fd42e2431e\" xlink:show=\"new\" xlink:title=\"psysml:967d0111-ba43-4736-bbbb-a2fd42e2431e\" xlink:type=\"simple\"><path d=\"M250.02,201.31 C242.51,219.95 231.48,247.35 221.59,271.91 \" fill=\"none\" id=\"E10-&gt;E2\" style=\"stroke: #383838; stroke-width: 1.0;\"/><polygon fill=\"#FFFFFF\" points=\"213.99,290.77,214.5927,270.5305,227.5796,275.7593,213.99,290.77\" style=\"stroke: #383838; stroke-width: 1.0;\"/><ellipse cx=\"218.5768\" cy=\"265.9899\" fill=\"#383838\" rx=\"2\" ry=\"2\" style=\"stroke: #383838; stroke-width: 1.0;\"/><ellipse cx=\"227.8532\" cy=\"269.7248\" fill=\"#383838\" rx=\"2\" ry=\"2\" style=\"stroke: #383838; stroke-width: 1.0;\"/></a><!--MD5=[77594d581d7d4f7dbe51a23e12460410]\n",
       "@startuml\r\n",
       "top to bottom direction\r\n",
       "skinparam monochrome true\r\n",
       "skinparam classbackgroundcolor white\r\n",
       "skinparam shadowing false\r\n",
       "skinparam wrapWidth 300\r\n",
       "hide circle\r\n",
       "\r\n",
       "package \"VariabilityTest\" as E1  [[psysml:6fd2d067-8ada-4ea8-9732-021f5438b424 ]]  {\r\n",
       "comp def \"P\" as E2  <<(T,blue) part def>> [[psysml:06c5c105-f179-4f9c-9acd-25394b323f4d ]] {\r\n",
       "- - attributes - -\r\n",
       "a\r\n",
       "}\r\n",
       "comp def \"Q\" as E3  <<(T,blue) part def>> [[psysml:dc55669e-d547-41b4-94bf-d6c68c80b885 ]] {\r\n",
       "}\r\n",
       "comp def \"B\" as E4  <<(T,blue) attribute def>> [[psysml:18777e48-4bd6-4ac5-98df-f6aab0b7358e ]] {\r\n",
       "}\r\n",
       "comp def \"V\" as E5  <<(T,blue) part def>> [[psysml:b19cdb52-b52e-4af3-afe9-4ea29743154a ]] {\r\n",
       "}\r\n",
       "comp usage \"x: Q\" as E6  <<(T,blue) part>> [[psysml:a2bd922e-3e40-42bd-80e3-ecb5a548758e ]] {\r\n",
       "- - attributes - -\r\n",
       "b: B\\n//:>>P::a// \r\n",
       "}\r\n",
       "comp usage \"q: Q\" as E7  <<(T,blue) part>> [[psysml:84f1cc81-1e5a-4a4b-9822-237c593dc1ed ]] {\r\n",
       "}\r\n",
       "comp usage \"v: P\" as E8  <<variation>>\\n <<(T,blue) part>> [[psysml:d9c8c4c9-730a-472e-ad5c-9ed2548fca6c ]] {\r\n",
       "}\r\n",
       "comp usage \"q\" as E9  <<(T,blue) reference>> [[psysml:29b56154-ee98-4bdd-852f-875051132018 ]] {\r\n",
       "- - attributes - -\r\n",
       "b: B\\n//:>>P::a// \r\n",
       "}\r\n",
       "comp usage \"y: P\" as E10  <<(T,blue) part>> [[psysml:e49f0805-0747-4902-8d4f-55ae479a1338 ]] {\r\n",
       "}\r\n",
       "}\r\n",
       "E3 - -|> E2 [[psysml:f79594a1-bc1c-4f37-98e7-b8999b5b3daa ]] \r\n",
       "E5 - -|> E2 [[psysml:e72a8b47-cfcf-460f-abbe-f19ffcddd547 ]] \r\n",
       "E5 )- ->> E6 [[psysml:d1158e90-c200-41a0-bff8-4b2e6825fa74 ]] : <<variant>>\r\n",
       "E7 - -:|> E3 [[psysml:df5a11ab-14bd-474c-9e9f-2e0517640249 ]] \r\n",
       "E8 - -:|> E2 [[psysml:108d975b-2613-446e-8683-bfdaec0afedf ]] \r\n",
       "E8 )- ->> E9 [[psysml:ebcdab70-773e-42b3-a4e9-8c7478e829d7 ]] : <<variant>>\r\n",
       "E10 - -:|> E2 [[psysml:967d0111-ba43-4736-bbbb-a2fd42e2431e ]] \r\n",
       "@enduml\r\n",
       "\n",
       "PlantUML version 1.2020.13(Sat Jun 13 12:26:38 UTC 2020)\n",
       "(EPL source distribution)\n",
       "Java Runtime: OpenJDK Runtime Environment\n",
       "JVM: OpenJDK 64-Bit Server VM\n",
       "Default Encoding: UTF-8\n",
       "Language: en\n",
       "Country: null\n",
       "--></g></svg>"
      ]
     },
     "execution_count": 50,
     "metadata": {},
     "output_type": "execute_result"
    }
   ],
   "source": [
    "%viz --style=\"TB\" --view=\"MIXED\" \"VariabilityTest\""
   ]
  },
  {
   "cell_type": "code",
   "execution_count": 51,
   "id": "4c4f4161",
   "metadata": {
    "execution": {
     "iopub.execute_input": "2021-10-03T08:28:18.701173Z",
     "iopub.status.busy": "2021-10-03T08:28:18.700783Z",
     "iopub.status.idle": "2021-10-03T08:28:18.780825Z",
     "shell.execute_reply": "2021-10-03T08:28:18.779070Z"
    }
   },
   "outputs": [
    {
     "data": {
      "image/svg+xml": [
       "<?xml version=\"1.0\" encoding=\"UTF-8\" standalone=\"no\"?><svg xmlns=\"http://www.w3.org/2000/svg\" xmlns:xlink=\"http://www.w3.org/1999/xlink\" contentScriptType=\"application/ecmascript\" contentStyleType=\"text/css\" height=\"401px\" preserveAspectRatio=\"none\" style=\"width:419px;height:401px;\" version=\"1.1\" viewBox=\"0 0 419 401\" width=\"419px\" zoomAndPan=\"magnify\"><defs/><g><!--MD5=[fbc87193dbaf4d95561dea2c320d4a47]\n",
       "cluster E1--><a href=\"psysml:6fd2d067-8ada-4ea8-9732-021f5438b424\" target=\"_top\" title=\"psysml:6fd2d067-8ada-4ea8-9732-021f5438b424\" xlink:actuate=\"onRequest\" xlink:href=\"psysml:6fd2d067-8ada-4ea8-9732-021f5438b424\" xlink:show=\"new\" xlink:title=\"psysml:6fd2d067-8ada-4ea8-9732-021f5438b424\" xlink:type=\"simple\"><polygon fill=\"#FFFFFF\" points=\"16,6,116,6,123,28.2969,397,28.2969,397,389,16,389,16,6\" style=\"stroke: #000000; stroke-width: 1.5;\"/><line style=\"stroke: #000000; stroke-width: 1.5;\" x1=\"16\" x2=\"123\" y1=\"28.2969\" y2=\"28.2969\"/><text fill=\"#000000\" font-family=\"sans-serif\" font-size=\"14\" font-weight=\"bold\" lengthAdjust=\"spacingAndGlyphs\" textLength=\"94\" x=\"20\" y=\"20.9951\">VariabilityTest</text></a><!--MD5=[b4997ac47864f28c2f74865a473b2911]\n",
       "class E2--><a href=\"psysml:06c5c105-f179-4f9c-9acd-25394b323f4d\" target=\"_top\" title=\"psysml:06c5c105-f179-4f9c-9acd-25394b323f4d\" xlink:actuate=\"onRequest\" xlink:href=\"psysml:06c5c105-f179-4f9c-9acd-25394b323f4d\" xlink:show=\"new\" xlink:title=\"psysml:06c5c105-f179-4f9c-9acd-25394b323f4d\" xlink:type=\"simple\"><rect fill=\"#FFFFFF\" height=\"75.5469\" id=\"E2\" style=\"stroke: #383838; stroke-width: 1.5;\" width=\"66\" x=\"166\" y=\"291\"/><text fill=\"#000000\" font-family=\"sans-serif\" font-size=\"12\" font-style=\"italic\" lengthAdjust=\"spacingAndGlyphs\" textLength=\"64\" x=\"167\" y=\"307.1387\">«part def»</text><text fill=\"#000000\" font-family=\"sans-serif\" font-size=\"12\" lengthAdjust=\"spacingAndGlyphs\" textLength=\"8\" x=\"195\" y=\"321.1074\">P</text><line style=\"stroke: #383838; stroke-width: 1.5;\" x1=\"167\" x2=\"231\" y1=\"328.9375\" y2=\"328.9375\"/><text fill=\"#000000\" font-family=\"sans-serif\" font-size=\"11\" lengthAdjust=\"spacingAndGlyphs\" textLength=\"7\" x=\"172\" y=\"359.9526\">a</text><line style=\"stroke: #383838; stroke-width: 1.0;\" x1=\"167\" x2=\"171.5\" y1=\"343.3398\" y2=\"343.3398\"/><text fill=\"#000000\" font-family=\"sans-serif\" font-size=\"11\" lengthAdjust=\"spacingAndGlyphs\" textLength=\"55\" x=\"171.5\" y=\"346.6479\">attributes</text><line style=\"stroke: #383838; stroke-width: 1.0;\" x1=\"226.5\" x2=\"231\" y1=\"343.3398\" y2=\"343.3398\"/></a><!--MD5=[09b614a08d8cba4a07c9adeb5e0fee81]\n",
       "class E3--><a href=\"psysml:dc55669e-d547-41b4-94bf-d6c68c80b885\" target=\"_top\" title=\"psysml:dc55669e-d547-41b4-94bf-d6c68c80b885\" xlink:actuate=\"onRequest\" xlink:href=\"psysml:dc55669e-d547-41b4-94bf-d6c68c80b885\" xlink:show=\"new\" xlink:title=\"psysml:dc55669e-d547-41b4-94bf-d6c68c80b885\" xlink:type=\"simple\"><rect fill=\"#FFFFFF\" height=\"45.9375\" id=\"E3\" style=\"stroke: #383838; stroke-width: 1.5;\" width=\"66\" x=\"137\" y=\"155\"/><text fill=\"#000000\" font-family=\"sans-serif\" font-size=\"12\" font-style=\"italic\" lengthAdjust=\"spacingAndGlyphs\" textLength=\"64\" x=\"138\" y=\"171.1387\">«part def»</text><text fill=\"#000000\" font-family=\"sans-serif\" font-size=\"12\" lengthAdjust=\"spacingAndGlyphs\" textLength=\"9\" x=\"165.5\" y=\"185.1074\">Q</text><line style=\"stroke: #383838; stroke-width: 1.5;\" x1=\"138\" x2=\"202\" y1=\"192.9375\" y2=\"192.9375\"/></a><!--MD5=[ebbe1d658d1005bcc118a6aa81145e00]\n",
       "class E4--><a href=\"psysml:18777e48-4bd6-4ac5-98df-f6aab0b7358e\" target=\"_top\" title=\"psysml:18777e48-4bd6-4ac5-98df-f6aab0b7358e\" xlink:actuate=\"onRequest\" xlink:href=\"psysml:18777e48-4bd6-4ac5-98df-f6aab0b7358e\" xlink:show=\"new\" xlink:title=\"psysml:18777e48-4bd6-4ac5-98df-f6aab0b7358e\" xlink:type=\"simple\"><rect fill=\"#FFFFFF\" height=\"45.9375\" id=\"E4\" style=\"stroke: #383838; stroke-width: 1.5;\" width=\"95\" x=\"255.5\" y=\"41\"/><text fill=\"#000000\" font-family=\"sans-serif\" font-size=\"12\" font-style=\"italic\" lengthAdjust=\"spacingAndGlyphs\" textLength=\"93\" x=\"256.5\" y=\"57.1387\">«attribute def»</text><text fill=\"#000000\" font-family=\"sans-serif\" font-size=\"12\" lengthAdjust=\"spacingAndGlyphs\" textLength=\"8\" x=\"299\" y=\"71.1074\">B</text><line style=\"stroke: #383838; stroke-width: 1.5;\" x1=\"256.5\" x2=\"349.5\" y1=\"78.9375\" y2=\"78.9375\"/></a><!--MD5=[270fce915f116d4de14055a7c1d9a0f3]\n",
       "class E5--><a href=\"psysml:b19cdb52-b52e-4af3-afe9-4ea29743154a\" target=\"_top\" title=\"psysml:b19cdb52-b52e-4af3-afe9-4ea29743154a\" xlink:actuate=\"onRequest\" xlink:href=\"psysml:b19cdb52-b52e-4af3-afe9-4ea29743154a\" xlink:show=\"new\" xlink:title=\"psysml:b19cdb52-b52e-4af3-afe9-4ea29743154a\" xlink:type=\"simple\"><rect fill=\"#FFFFFF\" height=\"45.9375\" id=\"E5\" style=\"stroke: #383838; stroke-width: 1.5;\" width=\"66\" x=\"315\" y=\"155\"/><text fill=\"#000000\" font-family=\"sans-serif\" font-size=\"12\" font-style=\"italic\" lengthAdjust=\"spacingAndGlyphs\" textLength=\"64\" x=\"316\" y=\"171.1387\">«part def»</text><text fill=\"#000000\" font-family=\"sans-serif\" font-size=\"12\" lengthAdjust=\"spacingAndGlyphs\" textLength=\"8\" x=\"344\" y=\"185.1074\">V</text><line style=\"stroke: #383838; stroke-width: 1.5;\" x1=\"316\" x2=\"380\" y1=\"192.9375\" y2=\"192.9375\"/></a><!--MD5=[60a26617385b1d2d0262a64233df1f8d]\n",
       "class E6--><a href=\"psysml:a2bd922e-3e40-42bd-80e3-ecb5a548758e\" target=\"_top\" title=\"psysml:a2bd922e-3e40-42bd-80e3-ecb5a548758e\" xlink:actuate=\"onRequest\" xlink:href=\"psysml:a2bd922e-3e40-42bd-80e3-ecb5a548758e\" xlink:show=\"new\" xlink:title=\"psysml:a2bd922e-3e40-42bd-80e3-ecb5a548758e\" xlink:type=\"simple\"><rect fill=\"#FFFFFF\" height=\"88.3516\" id=\"E6\" rx=\"10\" ry=\"10\" style=\"stroke: #383838; stroke-width: 1.5;\" width=\"63\" x=\"287.5\" y=\"285\"/><text fill=\"#000000\" font-family=\"sans-serif\" font-size=\"12\" font-style=\"italic\" lengthAdjust=\"spacingAndGlyphs\" textLength=\"40\" x=\"299\" y=\"301.1387\">«part»</text><text fill=\"#000000\" font-family=\"sans-serif\" font-size=\"12\" lengthAdjust=\"spacingAndGlyphs\" textLength=\"23\" x=\"307.5\" y=\"315.1074\">x: Q</text><line style=\"stroke: #383838; stroke-width: 1.5;\" x1=\"288.5\" x2=\"349.5\" y1=\"322.9375\" y2=\"322.9375\"/><text fill=\"#000000\" font-family=\"sans-serif\" font-size=\"11\" lengthAdjust=\"spacingAndGlyphs\" textLength=\"23\" x=\"293.5\" y=\"353.9526\">b: B</text><text fill=\"#000000\" font-family=\"sans-serif\" font-size=\"11\" font-style=\"italic\" lengthAdjust=\"spacingAndGlyphs\" textLength=\"44\" x=\"293.5\" y=\"366.7573\">:&gt;&gt;P::a</text><line style=\"stroke: #383838; stroke-width: 1.0;\" x1=\"288.5\" x2=\"291.5\" y1=\"337.3398\" y2=\"337.3398\"/><text fill=\"#000000\" font-family=\"sans-serif\" font-size=\"11\" lengthAdjust=\"spacingAndGlyphs\" textLength=\"55\" x=\"291.5\" y=\"340.6479\">attributes</text><line style=\"stroke: #383838; stroke-width: 1.0;\" x1=\"346.5\" x2=\"349.5\" y1=\"337.3398\" y2=\"337.3398\"/></a><!--MD5=[2156ba9850f5573cc1fc38a6a4b2f02b]\n",
       "class E7--><a href=\"psysml:84f1cc81-1e5a-4a4b-9822-237c593dc1ed\" target=\"_top\" title=\"psysml:84f1cc81-1e5a-4a4b-9822-237c593dc1ed\" xlink:actuate=\"onRequest\" xlink:href=\"psysml:84f1cc81-1e5a-4a4b-9822-237c593dc1ed\" xlink:show=\"new\" xlink:title=\"psysml:84f1cc81-1e5a-4a4b-9822-237c593dc1ed\" xlink:type=\"simple\"><rect fill=\"#FFFFFF\" height=\"45.9375\" id=\"E7\" rx=\"10\" ry=\"10\" style=\"stroke: #383838; stroke-width: 1.5;\" width=\"42\" x=\"149\" y=\"41\"/><text fill=\"#000000\" font-family=\"sans-serif\" font-size=\"12\" font-style=\"italic\" lengthAdjust=\"spacingAndGlyphs\" textLength=\"40\" x=\"150\" y=\"57.1387\">«part»</text><text fill=\"#000000\" font-family=\"sans-serif\" font-size=\"12\" lengthAdjust=\"spacingAndGlyphs\" textLength=\"25\" x=\"157.5\" y=\"71.1074\">q: Q</text><line style=\"stroke: #383838; stroke-width: 1.5;\" x1=\"150\" x2=\"190\" y1=\"78.9375\" y2=\"78.9375\"/></a><!--MD5=[b9389687b975829384b498ac4b7476b2]\n",
       "class E8--><a href=\"psysml:d9c8c4c9-730a-472e-ad5c-9ed2548fca6c\" target=\"_top\" title=\"psysml:d9c8c4c9-730a-472e-ad5c-9ed2548fca6c\" xlink:actuate=\"onRequest\" xlink:href=\"psysml:d9c8c4c9-730a-472e-ad5c-9ed2548fca6c\" xlink:show=\"new\" xlink:title=\"psysml:d9c8c4c9-730a-472e-ad5c-9ed2548fca6c\" xlink:type=\"simple\"><rect fill=\"#FFFFFF\" height=\"59.9063\" id=\"E8\" rx=\"10\" ry=\"10\" style=\"stroke: #383838; stroke-width: 1.5;\" width=\"70\" x=\"32\" y=\"148\"/><text fill=\"#000000\" font-family=\"sans-serif\" font-size=\"12\" font-style=\"italic\" lengthAdjust=\"spacingAndGlyphs\" textLength=\"68\" x=\"33\" y=\"164.1387\">«variation»</text><text fill=\"#000000\" font-family=\"sans-serif\" font-size=\"12\" font-style=\"italic\" lengthAdjust=\"spacingAndGlyphs\" textLength=\"40\" x=\"47\" y=\"178.1074\">«part»</text><text fill=\"#000000\" font-family=\"sans-serif\" font-size=\"12\" lengthAdjust=\"spacingAndGlyphs\" textLength=\"22\" x=\"56\" y=\"192.0762\">v: P</text><line style=\"stroke: #383838; stroke-width: 1.5;\" x1=\"33\" x2=\"101\" y1=\"199.9063\" y2=\"199.9063\"/></a><!--MD5=[fd4143e9d270a159db93a4ea2a975926]\n",
       "class E9--><a href=\"psysml:29b56154-ee98-4bdd-852f-875051132018\" target=\"_top\" title=\"psysml:29b56154-ee98-4bdd-852f-875051132018\" xlink:actuate=\"onRequest\" xlink:href=\"psysml:29b56154-ee98-4bdd-852f-875051132018\" xlink:show=\"new\" xlink:title=\"psysml:29b56154-ee98-4bdd-852f-875051132018\" xlink:type=\"simple\"><rect fill=\"#FFFFFF\" height=\"88.3516\" id=\"E9\" rx=\"10\" ry=\"10\" style=\"stroke: #383838; stroke-width: 1.5;\" width=\"77\" x=\"32.5\" y=\"285\"/><text fill=\"#000000\" font-family=\"sans-serif\" font-size=\"12\" font-style=\"italic\" lengthAdjust=\"spacingAndGlyphs\" textLength=\"75\" x=\"33.5\" y=\"301.1387\">«reference»</text><text fill=\"#000000\" font-family=\"sans-serif\" font-size=\"12\" lengthAdjust=\"spacingAndGlyphs\" textLength=\"8\" x=\"67\" y=\"315.1074\">q</text><line style=\"stroke: #383838; stroke-width: 1.5;\" x1=\"33.5\" x2=\"108.5\" y1=\"322.9375\" y2=\"322.9375\"/><text fill=\"#000000\" font-family=\"sans-serif\" font-size=\"11\" lengthAdjust=\"spacingAndGlyphs\" textLength=\"23\" x=\"38.5\" y=\"353.9526\">b: B</text><text fill=\"#000000\" font-family=\"sans-serif\" font-size=\"11\" font-style=\"italic\" lengthAdjust=\"spacingAndGlyphs\" textLength=\"44\" x=\"38.5\" y=\"366.7573\">:&gt;&gt;P::a</text><line style=\"stroke: #383838; stroke-width: 1.0;\" x1=\"33.5\" x2=\"43.5\" y1=\"337.3398\" y2=\"337.3398\"/><text fill=\"#000000\" font-family=\"sans-serif\" font-size=\"11\" lengthAdjust=\"spacingAndGlyphs\" textLength=\"55\" x=\"43.5\" y=\"340.6479\">attributes</text><line style=\"stroke: #383838; stroke-width: 1.0;\" x1=\"98.5\" x2=\"108.5\" y1=\"337.3398\" y2=\"337.3398\"/></a><!--MD5=[96f4274e9e20536e775497830990834d]\n",
       "class E10--><a href=\"psysml:e49f0805-0747-4902-8d4f-55ae479a1338\" target=\"_top\" title=\"psysml:e49f0805-0747-4902-8d4f-55ae479a1338\" xlink:actuate=\"onRequest\" xlink:href=\"psysml:e49f0805-0747-4902-8d4f-55ae479a1338\" xlink:show=\"new\" xlink:title=\"psysml:e49f0805-0747-4902-8d4f-55ae479a1338\" xlink:type=\"simple\"><rect fill=\"#FFFFFF\" height=\"45.9375\" id=\"E10\" rx=\"10\" ry=\"10\" style=\"stroke: #383838; stroke-width: 1.5;\" width=\"42\" x=\"238\" y=\"155\"/><text fill=\"#000000\" font-family=\"sans-serif\" font-size=\"12\" font-style=\"italic\" lengthAdjust=\"spacingAndGlyphs\" textLength=\"40\" x=\"239\" y=\"171.1387\">«part»</text><text fill=\"#000000\" font-family=\"sans-serif\" font-size=\"12\" lengthAdjust=\"spacingAndGlyphs\" textLength=\"22\" x=\"248\" y=\"185.1074\">y: P</text><line style=\"stroke: #383838; stroke-width: 1.5;\" x1=\"239\" x2=\"279\" y1=\"192.9375\" y2=\"192.9375\"/></a><!--MD5=[05d275557350bfb9b23a4ef7222b4c39]\n",
       "link E3 to E2--><a href=\"psysml:f79594a1-bc1c-4f37-98e7-b8999b5b3daa\" target=\"_top\" title=\"psysml:f79594a1-bc1c-4f37-98e7-b8999b5b3daa\" xlink:actuate=\"onRequest\" xlink:href=\"psysml:f79594a1-bc1c-4f37-98e7-b8999b5b3daa\" xlink:show=\"new\" xlink:title=\"psysml:f79594a1-bc1c-4f37-98e7-b8999b5b3daa\" xlink:type=\"simple\"><path d=\"M190.67,201.26 C190.67,201.26 190.67,270.73 190.67,270.73 \" fill=\"none\" id=\"E3-&gt;E2\" style=\"stroke: #383838; stroke-width: 1.0;\"/><polygon fill=\"none\" points=\"197.67,270.73,190.67,290.73,183.67,270.73,197.67,270.73\" style=\"stroke: #383838; stroke-width: 1.0;\"/></a><!--MD5=[15ebcb19ae302d9b601edb458606d402]\n",
       "link E5 to E2--><a href=\"psysml:e72a8b47-cfcf-460f-abbe-f19ffcddd547\" target=\"_top\" title=\"psysml:e72a8b47-cfcf-460f-abbe-f19ffcddd547\" xlink:actuate=\"onRequest\" xlink:href=\"psysml:e72a8b47-cfcf-460f-abbe-f19ffcddd547\" xlink:show=\"new\" xlink:title=\"psysml:e72a8b47-cfcf-460f-abbe-f19ffcddd547\" xlink:type=\"simple\"><path d=\"M326.83,201.22 C326.83,202.93 326.83,204 326.83,204 C326.83,204 222.33,204 222.33,204 C222.33,204 222.33,270.82 222.33,270.82 \" fill=\"none\" id=\"E5-&gt;E2\" style=\"stroke: #383838; stroke-width: 1.0;\"/><polygon fill=\"none\" points=\"229.33,270.82,222.33,290.82,215.33,270.82,229.33,270.82\" style=\"stroke: #383838; stroke-width: 1.0;\"/></a><!--MD5=[9120cf2e5df3bff93db8f754bbbc09b4]\n",
       "link E5 to E6--><a href=\"psysml:d1158e90-c200-41a0-bff8-4b2e6825fa74\" target=\"_top\" title=\"psysml:d1158e90-c200-41a0-bff8-4b2e6825fa74\" xlink:actuate=\"onRequest\" xlink:href=\"psysml:d1158e90-c200-41a0-bff8-4b2e6825fa74\" xlink:show=\"new\" xlink:title=\"psysml:d1158e90-c200-41a0-bff8-4b2e6825fa74\" xlink:type=\"simple\"><path d=\"M338.67,211.26 C338.67,211.26 338.67,274.72 338.67,274.72 \" fill=\"none\" id=\"E5-E6\" style=\"stroke: #383838; stroke-width: 1.0;\"/><polygon fill=\"#383838\" points=\"338.67,284.72,341.67,276.72,335.67,276.72,338.67,284.72\" style=\"stroke: #383838; stroke-width: 1.0;\"/><path d=\"M330.2128,204.3382 A9,9 0 0 0 347.1272 204.3382\" fill=\"none\" style=\"stroke: #383838; stroke-width: 1.5;\"/><text fill=\"#000000\" font-family=\"sans-serif\" font-size=\"13\" lengthAdjust=\"spacingAndGlyphs\" textLength=\"60\" x=\"320\" y=\"251.0669\">«variant»</text></a><!--MD5=[14ccda38c055a5c0da953d572bc50960]\n",
       "link E7 to E3--><a href=\"psysml:df5a11ab-14bd-474c-9e9f-2e0517640249\" target=\"_top\" title=\"psysml:df5a11ab-14bd-474c-9e9f-2e0517640249\" xlink:actuate=\"onRequest\" xlink:href=\"psysml:df5a11ab-14bd-474c-9e9f-2e0517640249\" xlink:show=\"new\" xlink:title=\"psysml:df5a11ab-14bd-474c-9e9f-2e0517640249\" xlink:type=\"simple\"><path d=\"M170,87.07 C170,87.07 170,134.96 170,134.96 \" fill=\"none\" id=\"E7-&gt;E3\" style=\"stroke: #383838; stroke-width: 1.0;\"/><polygon fill=\"#FFFFFF\" points=\"170,154.96,163,135.96,177,135.96,170,154.96\" style=\"stroke: #383838; stroke-width: 1.0;\"/><ellipse cx=\"165\" cy=\"130.26\" fill=\"#383838\" rx=\"2\" ry=\"2\" style=\"stroke: #383838; stroke-width: 1.0;\"/><ellipse cx=\"175\" cy=\"130.26\" fill=\"#383838\" rx=\"2\" ry=\"2\" style=\"stroke: #383838; stroke-width: 1.0;\"/></a><!--MD5=[f1f3f9f2fc535e6147756cb86a7f2e32]\n",
       "link E8 to E2--><a href=\"psysml:108d975b-2613-446e-8683-bfdaec0afedf\" target=\"_top\" title=\"psysml:108d975b-2613-446e-8683-bfdaec0afedf\" xlink:actuate=\"onRequest\" xlink:href=\"psysml:108d975b-2613-446e-8683-bfdaec0afedf\" xlink:show=\"new\" xlink:title=\"psysml:108d975b-2613-446e-8683-bfdaec0afedf\" xlink:type=\"simple\"><path d=\"M102.23,206 C134.84,206 178.33,206 178.33,206 C178.33,206 178.33,270.76 178.33,270.76 \" fill=\"none\" id=\"E8-&gt;E2\" style=\"stroke: #383838; stroke-width: 1.0;\"/><polygon fill=\"#FFFFFF\" points=\"178.33,290.76,171.33,271.76,185.33,271.76,178.33,290.76\" style=\"stroke: #383838; stroke-width: 1.0;\"/><ellipse cx=\"173.33\" cy=\"266.06\" fill=\"#383838\" rx=\"2\" ry=\"2\" style=\"stroke: #383838; stroke-width: 1.0;\"/><ellipse cx=\"183.33\" cy=\"266.06\" fill=\"#383838\" rx=\"2\" ry=\"2\" style=\"stroke: #383838; stroke-width: 1.0;\"/></a><!--MD5=[ed10624c06dd9a4fa49ccf290e8b16a8]\n",
       "link E8 to E9--><a href=\"psysml:ebcdab70-773e-42b3-a4e9-8c7478e829d7\" target=\"_top\" title=\"psysml:ebcdab70-773e-42b3-a4e9-8c7478e829d7\" xlink:actuate=\"onRequest\" xlink:href=\"psysml:ebcdab70-773e-42b3-a4e9-8c7478e829d7\" xlink:show=\"new\" xlink:title=\"psysml:ebcdab70-773e-42b3-a4e9-8c7478e829d7\" xlink:type=\"simple\"><path d=\"M67.25,218.19 C67.25,218.19 67.25,274.83 67.25,274.83 \" fill=\"none\" id=\"E8-E9\" style=\"stroke: #383838; stroke-width: 1.0;\"/><polygon fill=\"#383838\" points=\"67.25,284.83,70.25,276.83,64.25,276.83,67.25,284.83\" style=\"stroke: #383838; stroke-width: 1.0;\"/><path d=\"M58.7928,211.2682 A9,9 0 0 0 75.7072 211.2682\" fill=\"none\" style=\"stroke: #383838; stroke-width: 1.5;\"/><text fill=\"#000000\" font-family=\"sans-serif\" font-size=\"13\" lengthAdjust=\"spacingAndGlyphs\" textLength=\"60\" x=\"70\" y=\"251.0669\">«variant»</text></a><!--MD5=[0f36bececdf0dff6e600d6f64214b0f1]\n",
       "link E10 to E2--><a href=\"psysml:967d0111-ba43-4736-bbbb-a2fd42e2431e\" target=\"_top\" title=\"psysml:967d0111-ba43-4736-bbbb-a2fd42e2431e\" xlink:actuate=\"onRequest\" xlink:href=\"psysml:967d0111-ba43-4736-bbbb-a2fd42e2431e\" xlink:show=\"new\" xlink:title=\"psysml:967d0111-ba43-4736-bbbb-a2fd42e2431e\" xlink:type=\"simple\"><path d=\"M237.73,178 C225.55,178 212.67,178 212.67,178 C212.67,178 212.67,270.9 212.67,270.9 \" fill=\"none\" id=\"E10-&gt;E2\" style=\"stroke: #383838; stroke-width: 1.0;\"/><polygon fill=\"#FFFFFF\" points=\"212.67,290.9,205.67,271.9,219.67,271.9,212.67,290.9\" style=\"stroke: #383838; stroke-width: 1.0;\"/><ellipse cx=\"207.67\" cy=\"266.2\" fill=\"#383838\" rx=\"2\" ry=\"2\" style=\"stroke: #383838; stroke-width: 1.0;\"/><ellipse cx=\"217.67\" cy=\"266.2\" fill=\"#383838\" rx=\"2\" ry=\"2\" style=\"stroke: #383838; stroke-width: 1.0;\"/></a><!--MD5=[5ec15d3a144e4323120a22bcfb4c16fc]\n",
       "@startuml\r\n",
       "skinparam linetype ortho\r\n",
       "skinparam monochrome true\r\n",
       "skinparam classbackgroundcolor white\r\n",
       "skinparam shadowing false\r\n",
       "skinparam wrapWidth 300\r\n",
       "hide circle\r\n",
       "\r\n",
       "package \"VariabilityTest\" as E1  [[psysml:6fd2d067-8ada-4ea8-9732-021f5438b424 ]]  {\r\n",
       "comp def \"P\" as E2  <<(T,blue) part def>> [[psysml:06c5c105-f179-4f9c-9acd-25394b323f4d ]] {\r\n",
       "- - attributes - -\r\n",
       "a\r\n",
       "}\r\n",
       "comp def \"Q\" as E3  <<(T,blue) part def>> [[psysml:dc55669e-d547-41b4-94bf-d6c68c80b885 ]] {\r\n",
       "}\r\n",
       "comp def \"B\" as E4  <<(T,blue) attribute def>> [[psysml:18777e48-4bd6-4ac5-98df-f6aab0b7358e ]] {\r\n",
       "}\r\n",
       "comp def \"V\" as E5  <<(T,blue) part def>> [[psysml:b19cdb52-b52e-4af3-afe9-4ea29743154a ]] {\r\n",
       "}\r\n",
       "comp usage \"x: Q\" as E6  <<(T,blue) part>> [[psysml:a2bd922e-3e40-42bd-80e3-ecb5a548758e ]] {\r\n",
       "- - attributes - -\r\n",
       "b: B\\n//:>>P::a// \r\n",
       "}\r\n",
       "comp usage \"q: Q\" as E7  <<(T,blue) part>> [[psysml:84f1cc81-1e5a-4a4b-9822-237c593dc1ed ]] {\r\n",
       "}\r\n",
       "comp usage \"v: P\" as E8  <<variation>>\\n <<(T,blue) part>> [[psysml:d9c8c4c9-730a-472e-ad5c-9ed2548fca6c ]] {\r\n",
       "}\r\n",
       "comp usage \"q\" as E9  <<(T,blue) reference>> [[psysml:29b56154-ee98-4bdd-852f-875051132018 ]] {\r\n",
       "- - attributes - -\r\n",
       "b: B\\n//:>>P::a// \r\n",
       "}\r\n",
       "comp usage \"y: P\" as E10  <<(T,blue) part>> [[psysml:e49f0805-0747-4902-8d4f-55ae479a1338 ]] {\r\n",
       "}\r\n",
       "}\r\n",
       "E3 - -|> E2 [[psysml:f79594a1-bc1c-4f37-98e7-b8999b5b3daa ]] \r\n",
       "E5 - -|> E2 [[psysml:e72a8b47-cfcf-460f-abbe-f19ffcddd547 ]] \r\n",
       "E5 )- ->> E6 [[psysml:d1158e90-c200-41a0-bff8-4b2e6825fa74 ]] : <<variant>>\r\n",
       "E7 - -:|> E3 [[psysml:df5a11ab-14bd-474c-9e9f-2e0517640249 ]] \r\n",
       "E8 - -:|> E2 [[psysml:108d975b-2613-446e-8683-bfdaec0afedf ]] \r\n",
       "E8 )- ->> E9 [[psysml:ebcdab70-773e-42b3-a4e9-8c7478e829d7 ]] : <<variant>>\r\n",
       "E10 - -:|> E2 [[psysml:967d0111-ba43-4736-bbbb-a2fd42e2431e ]] \r\n",
       "@enduml\r\n",
       "\n",
       "PlantUML version 1.2020.13(Sat Jun 13 12:26:38 UTC 2020)\n",
       "(EPL source distribution)\n",
       "Java Runtime: OpenJDK Runtime Environment\n",
       "JVM: OpenJDK 64-Bit Server VM\n",
       "Default Encoding: UTF-8\n",
       "Language: en\n",
       "Country: null\n",
       "--></g></svg>"
      ]
     },
     "execution_count": 51,
     "metadata": {},
     "output_type": "execute_result"
    }
   ],
   "source": [
    "%viz --style=\"ORTHOLINE\" --view=\"Default\" \"VariabilityTest\""
   ]
  },
  {
   "cell_type": "code",
   "execution_count": 52,
   "id": "40a88f7e",
   "metadata": {
    "execution": {
     "iopub.execute_input": "2021-10-03T08:28:18.830190Z",
     "iopub.status.busy": "2021-10-03T08:28:18.829772Z",
     "iopub.status.idle": "2021-10-03T08:28:18.917044Z",
     "shell.execute_reply": "2021-10-03T08:28:18.915161Z"
    }
   },
   "outputs": [
    {
     "data": {
      "image/svg+xml": [
       "<?xml version=\"1.0\" encoding=\"UTF-8\" standalone=\"no\"?><svg xmlns=\"http://www.w3.org/2000/svg\" xmlns:xlink=\"http://www.w3.org/1999/xlink\" contentScriptType=\"application/ecmascript\" contentStyleType=\"text/css\" height=\"401px\" preserveAspectRatio=\"none\" style=\"width:419px;height:401px;\" version=\"1.1\" viewBox=\"0 0 419 401\" width=\"419px\" zoomAndPan=\"magnify\"><defs/><g><!--MD5=[fbc87193dbaf4d95561dea2c320d4a47]\n",
       "cluster E1--><a href=\"psysml:6fd2d067-8ada-4ea8-9732-021f5438b424\" target=\"_top\" title=\"psysml:6fd2d067-8ada-4ea8-9732-021f5438b424\" xlink:actuate=\"onRequest\" xlink:href=\"psysml:6fd2d067-8ada-4ea8-9732-021f5438b424\" xlink:show=\"new\" xlink:title=\"psysml:6fd2d067-8ada-4ea8-9732-021f5438b424\" xlink:type=\"simple\"><polygon fill=\"#FFFFFF\" points=\"16,6,116,6,123,28.2969,397,28.2969,397,389,16,389,16,6\" style=\"stroke: #000000; stroke-width: 1.5;\"/><line style=\"stroke: #000000; stroke-width: 1.5;\" x1=\"16\" x2=\"123\" y1=\"28.2969\" y2=\"28.2969\"/><text fill=\"#000000\" font-family=\"sans-serif\" font-size=\"14\" font-weight=\"bold\" lengthAdjust=\"spacingAndGlyphs\" textLength=\"94\" x=\"20\" y=\"20.9951\">VariabilityTest</text></a><!--MD5=[b4997ac47864f28c2f74865a473b2911]\n",
       "class E2--><a href=\"psysml:06c5c105-f179-4f9c-9acd-25394b323f4d\" target=\"_top\" title=\"psysml:06c5c105-f179-4f9c-9acd-25394b323f4d\" xlink:actuate=\"onRequest\" xlink:href=\"psysml:06c5c105-f179-4f9c-9acd-25394b323f4d\" xlink:show=\"new\" xlink:title=\"psysml:06c5c105-f179-4f9c-9acd-25394b323f4d\" xlink:type=\"simple\"><rect fill=\"#FFFFFF\" height=\"75.5469\" id=\"E2\" style=\"stroke: #383838; stroke-width: 1.5;\" width=\"66\" x=\"166\" y=\"291\"/><text fill=\"#000000\" font-family=\"sans-serif\" font-size=\"12\" font-style=\"italic\" lengthAdjust=\"spacingAndGlyphs\" textLength=\"64\" x=\"167\" y=\"307.1387\">«part def»</text><text fill=\"#000000\" font-family=\"sans-serif\" font-size=\"12\" lengthAdjust=\"spacingAndGlyphs\" textLength=\"8\" x=\"195\" y=\"321.1074\">P</text><line style=\"stroke: #383838; stroke-width: 1.5;\" x1=\"167\" x2=\"231\" y1=\"328.9375\" y2=\"328.9375\"/><text fill=\"#000000\" font-family=\"sans-serif\" font-size=\"11\" lengthAdjust=\"spacingAndGlyphs\" textLength=\"7\" x=\"172\" y=\"359.9526\">a</text><line style=\"stroke: #383838; stroke-width: 1.0;\" x1=\"167\" x2=\"171.5\" y1=\"343.3398\" y2=\"343.3398\"/><text fill=\"#000000\" font-family=\"sans-serif\" font-size=\"11\" lengthAdjust=\"spacingAndGlyphs\" textLength=\"55\" x=\"171.5\" y=\"346.6479\">attributes</text><line style=\"stroke: #383838; stroke-width: 1.0;\" x1=\"226.5\" x2=\"231\" y1=\"343.3398\" y2=\"343.3398\"/></a><!--MD5=[09b614a08d8cba4a07c9adeb5e0fee81]\n",
       "class E3--><a href=\"psysml:dc55669e-d547-41b4-94bf-d6c68c80b885\" target=\"_top\" title=\"psysml:dc55669e-d547-41b4-94bf-d6c68c80b885\" xlink:actuate=\"onRequest\" xlink:href=\"psysml:dc55669e-d547-41b4-94bf-d6c68c80b885\" xlink:show=\"new\" xlink:title=\"psysml:dc55669e-d547-41b4-94bf-d6c68c80b885\" xlink:type=\"simple\"><rect fill=\"#FFFFFF\" height=\"45.9375\" id=\"E3\" style=\"stroke: #383838; stroke-width: 1.5;\" width=\"66\" x=\"137\" y=\"155\"/><text fill=\"#000000\" font-family=\"sans-serif\" font-size=\"12\" font-style=\"italic\" lengthAdjust=\"spacingAndGlyphs\" textLength=\"64\" x=\"138\" y=\"171.1387\">«part def»</text><text fill=\"#000000\" font-family=\"sans-serif\" font-size=\"12\" lengthAdjust=\"spacingAndGlyphs\" textLength=\"9\" x=\"165.5\" y=\"185.1074\">Q</text><line style=\"stroke: #383838; stroke-width: 1.5;\" x1=\"138\" x2=\"202\" y1=\"192.9375\" y2=\"192.9375\"/></a><!--MD5=[ebbe1d658d1005bcc118a6aa81145e00]\n",
       "class E4--><a href=\"psysml:18777e48-4bd6-4ac5-98df-f6aab0b7358e\" target=\"_top\" title=\"psysml:18777e48-4bd6-4ac5-98df-f6aab0b7358e\" xlink:actuate=\"onRequest\" xlink:href=\"psysml:18777e48-4bd6-4ac5-98df-f6aab0b7358e\" xlink:show=\"new\" xlink:title=\"psysml:18777e48-4bd6-4ac5-98df-f6aab0b7358e\" xlink:type=\"simple\"><rect fill=\"#FFFFFF\" height=\"45.9375\" id=\"E4\" style=\"stroke: #383838; stroke-width: 1.5;\" width=\"95\" x=\"255.5\" y=\"41\"/><text fill=\"#000000\" font-family=\"sans-serif\" font-size=\"12\" font-style=\"italic\" lengthAdjust=\"spacingAndGlyphs\" textLength=\"93\" x=\"256.5\" y=\"57.1387\">«attribute def»</text><text fill=\"#000000\" font-family=\"sans-serif\" font-size=\"12\" lengthAdjust=\"spacingAndGlyphs\" textLength=\"8\" x=\"299\" y=\"71.1074\">B</text><line style=\"stroke: #383838; stroke-width: 1.5;\" x1=\"256.5\" x2=\"349.5\" y1=\"78.9375\" y2=\"78.9375\"/></a><!--MD5=[270fce915f116d4de14055a7c1d9a0f3]\n",
       "class E5--><a href=\"psysml:b19cdb52-b52e-4af3-afe9-4ea29743154a\" target=\"_top\" title=\"psysml:b19cdb52-b52e-4af3-afe9-4ea29743154a\" xlink:actuate=\"onRequest\" xlink:href=\"psysml:b19cdb52-b52e-4af3-afe9-4ea29743154a\" xlink:show=\"new\" xlink:title=\"psysml:b19cdb52-b52e-4af3-afe9-4ea29743154a\" xlink:type=\"simple\"><rect fill=\"#FFFFFF\" height=\"45.9375\" id=\"E5\" style=\"stroke: #383838; stroke-width: 1.5;\" width=\"66\" x=\"315\" y=\"155\"/><text fill=\"#000000\" font-family=\"sans-serif\" font-size=\"12\" font-style=\"italic\" lengthAdjust=\"spacingAndGlyphs\" textLength=\"64\" x=\"316\" y=\"171.1387\">«part def»</text><text fill=\"#000000\" font-family=\"sans-serif\" font-size=\"12\" lengthAdjust=\"spacingAndGlyphs\" textLength=\"8\" x=\"344\" y=\"185.1074\">V</text><line style=\"stroke: #383838; stroke-width: 1.5;\" x1=\"316\" x2=\"380\" y1=\"192.9375\" y2=\"192.9375\"/></a><!--MD5=[60a26617385b1d2d0262a64233df1f8d]\n",
       "class E6--><a href=\"psysml:a2bd922e-3e40-42bd-80e3-ecb5a548758e\" target=\"_top\" title=\"psysml:a2bd922e-3e40-42bd-80e3-ecb5a548758e\" xlink:actuate=\"onRequest\" xlink:href=\"psysml:a2bd922e-3e40-42bd-80e3-ecb5a548758e\" xlink:show=\"new\" xlink:title=\"psysml:a2bd922e-3e40-42bd-80e3-ecb5a548758e\" xlink:type=\"simple\"><rect fill=\"#FFFFFF\" height=\"88.3516\" id=\"E6\" rx=\"10\" ry=\"10\" style=\"stroke: #383838; stroke-width: 1.5;\" width=\"63\" x=\"287.5\" y=\"285\"/><text fill=\"#000000\" font-family=\"sans-serif\" font-size=\"12\" font-style=\"italic\" lengthAdjust=\"spacingAndGlyphs\" textLength=\"40\" x=\"299\" y=\"301.1387\">«part»</text><text fill=\"#000000\" font-family=\"sans-serif\" font-size=\"12\" lengthAdjust=\"spacingAndGlyphs\" textLength=\"23\" x=\"307.5\" y=\"315.1074\">x: Q</text><line style=\"stroke: #383838; stroke-width: 1.5;\" x1=\"288.5\" x2=\"349.5\" y1=\"322.9375\" y2=\"322.9375\"/><text fill=\"#000000\" font-family=\"sans-serif\" font-size=\"11\" lengthAdjust=\"spacingAndGlyphs\" textLength=\"23\" x=\"293.5\" y=\"353.9526\">b: B</text><text fill=\"#000000\" font-family=\"sans-serif\" font-size=\"11\" font-style=\"italic\" lengthAdjust=\"spacingAndGlyphs\" textLength=\"44\" x=\"293.5\" y=\"366.7573\">:&gt;&gt;P::a</text><line style=\"stroke: #383838; stroke-width: 1.0;\" x1=\"288.5\" x2=\"291.5\" y1=\"337.3398\" y2=\"337.3398\"/><text fill=\"#000000\" font-family=\"sans-serif\" font-size=\"11\" lengthAdjust=\"spacingAndGlyphs\" textLength=\"55\" x=\"291.5\" y=\"340.6479\">attributes</text><line style=\"stroke: #383838; stroke-width: 1.0;\" x1=\"346.5\" x2=\"349.5\" y1=\"337.3398\" y2=\"337.3398\"/></a><!--MD5=[2156ba9850f5573cc1fc38a6a4b2f02b]\n",
       "class E7--><a href=\"psysml:84f1cc81-1e5a-4a4b-9822-237c593dc1ed\" target=\"_top\" title=\"psysml:84f1cc81-1e5a-4a4b-9822-237c593dc1ed\" xlink:actuate=\"onRequest\" xlink:href=\"psysml:84f1cc81-1e5a-4a4b-9822-237c593dc1ed\" xlink:show=\"new\" xlink:title=\"psysml:84f1cc81-1e5a-4a4b-9822-237c593dc1ed\" xlink:type=\"simple\"><rect fill=\"#FFFFFF\" height=\"45.9375\" id=\"E7\" rx=\"10\" ry=\"10\" style=\"stroke: #383838; stroke-width: 1.5;\" width=\"42\" x=\"149\" y=\"41\"/><text fill=\"#000000\" font-family=\"sans-serif\" font-size=\"12\" font-style=\"italic\" lengthAdjust=\"spacingAndGlyphs\" textLength=\"40\" x=\"150\" y=\"57.1387\">«part»</text><text fill=\"#000000\" font-family=\"sans-serif\" font-size=\"12\" lengthAdjust=\"spacingAndGlyphs\" textLength=\"25\" x=\"157.5\" y=\"71.1074\">q: Q</text><line style=\"stroke: #383838; stroke-width: 1.5;\" x1=\"150\" x2=\"190\" y1=\"78.9375\" y2=\"78.9375\"/></a><!--MD5=[b9389687b975829384b498ac4b7476b2]\n",
       "class E8--><a href=\"psysml:d9c8c4c9-730a-472e-ad5c-9ed2548fca6c\" target=\"_top\" title=\"psysml:d9c8c4c9-730a-472e-ad5c-9ed2548fca6c\" xlink:actuate=\"onRequest\" xlink:href=\"psysml:d9c8c4c9-730a-472e-ad5c-9ed2548fca6c\" xlink:show=\"new\" xlink:title=\"psysml:d9c8c4c9-730a-472e-ad5c-9ed2548fca6c\" xlink:type=\"simple\"><rect fill=\"#FFFFFF\" height=\"59.9063\" id=\"E8\" rx=\"10\" ry=\"10\" style=\"stroke: #383838; stroke-width: 1.5;\" width=\"70\" x=\"32\" y=\"148\"/><text fill=\"#000000\" font-family=\"sans-serif\" font-size=\"12\" font-style=\"italic\" lengthAdjust=\"spacingAndGlyphs\" textLength=\"68\" x=\"33\" y=\"164.1387\">«variation»</text><text fill=\"#000000\" font-family=\"sans-serif\" font-size=\"12\" font-style=\"italic\" lengthAdjust=\"spacingAndGlyphs\" textLength=\"40\" x=\"47\" y=\"178.1074\">«part»</text><text fill=\"#000000\" font-family=\"sans-serif\" font-size=\"12\" lengthAdjust=\"spacingAndGlyphs\" textLength=\"22\" x=\"56\" y=\"192.0762\">v: P</text><line style=\"stroke: #383838; stroke-width: 1.5;\" x1=\"33\" x2=\"101\" y1=\"199.9063\" y2=\"199.9063\"/></a><!--MD5=[fd4143e9d270a159db93a4ea2a975926]\n",
       "class E9--><a href=\"psysml:29b56154-ee98-4bdd-852f-875051132018\" target=\"_top\" title=\"psysml:29b56154-ee98-4bdd-852f-875051132018\" xlink:actuate=\"onRequest\" xlink:href=\"psysml:29b56154-ee98-4bdd-852f-875051132018\" xlink:show=\"new\" xlink:title=\"psysml:29b56154-ee98-4bdd-852f-875051132018\" xlink:type=\"simple\"><rect fill=\"#FFFFFF\" height=\"88.3516\" id=\"E9\" rx=\"10\" ry=\"10\" style=\"stroke: #383838; stroke-width: 1.5;\" width=\"77\" x=\"32.5\" y=\"285\"/><text fill=\"#000000\" font-family=\"sans-serif\" font-size=\"12\" font-style=\"italic\" lengthAdjust=\"spacingAndGlyphs\" textLength=\"75\" x=\"33.5\" y=\"301.1387\">«reference»</text><text fill=\"#000000\" font-family=\"sans-serif\" font-size=\"12\" lengthAdjust=\"spacingAndGlyphs\" textLength=\"8\" x=\"67\" y=\"315.1074\">q</text><line style=\"stroke: #383838; stroke-width: 1.5;\" x1=\"33.5\" x2=\"108.5\" y1=\"322.9375\" y2=\"322.9375\"/><text fill=\"#000000\" font-family=\"sans-serif\" font-size=\"11\" lengthAdjust=\"spacingAndGlyphs\" textLength=\"23\" x=\"38.5\" y=\"353.9526\">b: B</text><text fill=\"#000000\" font-family=\"sans-serif\" font-size=\"11\" font-style=\"italic\" lengthAdjust=\"spacingAndGlyphs\" textLength=\"44\" x=\"38.5\" y=\"366.7573\">:&gt;&gt;P::a</text><line style=\"stroke: #383838; stroke-width: 1.0;\" x1=\"33.5\" x2=\"43.5\" y1=\"337.3398\" y2=\"337.3398\"/><text fill=\"#000000\" font-family=\"sans-serif\" font-size=\"11\" lengthAdjust=\"spacingAndGlyphs\" textLength=\"55\" x=\"43.5\" y=\"340.6479\">attributes</text><line style=\"stroke: #383838; stroke-width: 1.0;\" x1=\"98.5\" x2=\"108.5\" y1=\"337.3398\" y2=\"337.3398\"/></a><!--MD5=[96f4274e9e20536e775497830990834d]\n",
       "class E10--><a href=\"psysml:e49f0805-0747-4902-8d4f-55ae479a1338\" target=\"_top\" title=\"psysml:e49f0805-0747-4902-8d4f-55ae479a1338\" xlink:actuate=\"onRequest\" xlink:href=\"psysml:e49f0805-0747-4902-8d4f-55ae479a1338\" xlink:show=\"new\" xlink:title=\"psysml:e49f0805-0747-4902-8d4f-55ae479a1338\" xlink:type=\"simple\"><rect fill=\"#FFFFFF\" height=\"45.9375\" id=\"E10\" rx=\"10\" ry=\"10\" style=\"stroke: #383838; stroke-width: 1.5;\" width=\"42\" x=\"238\" y=\"155\"/><text fill=\"#000000\" font-family=\"sans-serif\" font-size=\"12\" font-style=\"italic\" lengthAdjust=\"spacingAndGlyphs\" textLength=\"40\" x=\"239\" y=\"171.1387\">«part»</text><text fill=\"#000000\" font-family=\"sans-serif\" font-size=\"12\" lengthAdjust=\"spacingAndGlyphs\" textLength=\"22\" x=\"248\" y=\"185.1074\">y: P</text><line style=\"stroke: #383838; stroke-width: 1.5;\" x1=\"239\" x2=\"279\" y1=\"192.9375\" y2=\"192.9375\"/></a><!--MD5=[05d275557350bfb9b23a4ef7222b4c39]\n",
       "link E3 to E2--><a href=\"psysml:f79594a1-bc1c-4f37-98e7-b8999b5b3daa\" target=\"_top\" title=\"psysml:f79594a1-bc1c-4f37-98e7-b8999b5b3daa\" xlink:actuate=\"onRequest\" xlink:href=\"psysml:f79594a1-bc1c-4f37-98e7-b8999b5b3daa\" xlink:show=\"new\" xlink:title=\"psysml:f79594a1-bc1c-4f37-98e7-b8999b5b3daa\" xlink:type=\"simple\"><path d=\"M190.67,201.26 C190.67,201.26 190.67,270.73 190.67,270.73 \" fill=\"none\" id=\"E3-&gt;E2\" style=\"stroke: #383838; stroke-width: 1.0;\"/><polygon fill=\"none\" points=\"197.67,270.73,190.67,290.73,183.67,270.73,197.67,270.73\" style=\"stroke: #383838; stroke-width: 1.0;\"/></a><!--MD5=[15ebcb19ae302d9b601edb458606d402]\n",
       "link E5 to E2--><a href=\"psysml:e72a8b47-cfcf-460f-abbe-f19ffcddd547\" target=\"_top\" title=\"psysml:e72a8b47-cfcf-460f-abbe-f19ffcddd547\" xlink:actuate=\"onRequest\" xlink:href=\"psysml:e72a8b47-cfcf-460f-abbe-f19ffcddd547\" xlink:show=\"new\" xlink:title=\"psysml:e72a8b47-cfcf-460f-abbe-f19ffcddd547\" xlink:type=\"simple\"><path d=\"M326.83,201.22 C326.83,202.93 326.83,204 326.83,204 C326.83,204 222.33,204 222.33,204 C222.33,204 222.33,270.82 222.33,270.82 \" fill=\"none\" id=\"E5-&gt;E2\" style=\"stroke: #383838; stroke-width: 1.0;\"/><polygon fill=\"none\" points=\"229.33,270.82,222.33,290.82,215.33,270.82,229.33,270.82\" style=\"stroke: #383838; stroke-width: 1.0;\"/></a><!--MD5=[9120cf2e5df3bff93db8f754bbbc09b4]\n",
       "link E5 to E6--><a href=\"psysml:d1158e90-c200-41a0-bff8-4b2e6825fa74\" target=\"_top\" title=\"psysml:d1158e90-c200-41a0-bff8-4b2e6825fa74\" xlink:actuate=\"onRequest\" xlink:href=\"psysml:d1158e90-c200-41a0-bff8-4b2e6825fa74\" xlink:show=\"new\" xlink:title=\"psysml:d1158e90-c200-41a0-bff8-4b2e6825fa74\" xlink:type=\"simple\"><path d=\"M338.67,211.26 C338.67,211.26 338.67,274.72 338.67,274.72 \" fill=\"none\" id=\"E5-E6\" style=\"stroke: #383838; stroke-width: 1.0;\"/><polygon fill=\"#383838\" points=\"338.67,284.72,341.67,276.72,335.67,276.72,338.67,284.72\" style=\"stroke: #383838; stroke-width: 1.0;\"/><path d=\"M330.2128,204.3382 A9,9 0 0 0 347.1272 204.3382\" fill=\"none\" style=\"stroke: #383838; stroke-width: 1.5;\"/><text fill=\"#000000\" font-family=\"sans-serif\" font-size=\"13\" lengthAdjust=\"spacingAndGlyphs\" textLength=\"60\" x=\"320\" y=\"251.0669\">«variant»</text></a><!--MD5=[14ccda38c055a5c0da953d572bc50960]\n",
       "link E7 to E3--><a href=\"psysml:df5a11ab-14bd-474c-9e9f-2e0517640249\" target=\"_top\" title=\"psysml:df5a11ab-14bd-474c-9e9f-2e0517640249\" xlink:actuate=\"onRequest\" xlink:href=\"psysml:df5a11ab-14bd-474c-9e9f-2e0517640249\" xlink:show=\"new\" xlink:title=\"psysml:df5a11ab-14bd-474c-9e9f-2e0517640249\" xlink:type=\"simple\"><path d=\"M170,87.07 C170,87.07 170,134.96 170,134.96 \" fill=\"none\" id=\"E7-&gt;E3\" style=\"stroke: #383838; stroke-width: 1.0;\"/><polygon fill=\"#FFFFFF\" points=\"170,154.96,163,135.96,177,135.96,170,154.96\" style=\"stroke: #383838; stroke-width: 1.0;\"/><ellipse cx=\"165\" cy=\"130.26\" fill=\"#383838\" rx=\"2\" ry=\"2\" style=\"stroke: #383838; stroke-width: 1.0;\"/><ellipse cx=\"175\" cy=\"130.26\" fill=\"#383838\" rx=\"2\" ry=\"2\" style=\"stroke: #383838; stroke-width: 1.0;\"/></a><!--MD5=[f1f3f9f2fc535e6147756cb86a7f2e32]\n",
       "link E8 to E2--><a href=\"psysml:108d975b-2613-446e-8683-bfdaec0afedf\" target=\"_top\" title=\"psysml:108d975b-2613-446e-8683-bfdaec0afedf\" xlink:actuate=\"onRequest\" xlink:href=\"psysml:108d975b-2613-446e-8683-bfdaec0afedf\" xlink:show=\"new\" xlink:title=\"psysml:108d975b-2613-446e-8683-bfdaec0afedf\" xlink:type=\"simple\"><path d=\"M102.23,206 C134.84,206 178.33,206 178.33,206 C178.33,206 178.33,270.76 178.33,270.76 \" fill=\"none\" id=\"E8-&gt;E2\" style=\"stroke: #383838; stroke-width: 1.0;\"/><polygon fill=\"#FFFFFF\" points=\"178.33,290.76,171.33,271.76,185.33,271.76,178.33,290.76\" style=\"stroke: #383838; stroke-width: 1.0;\"/><ellipse cx=\"173.33\" cy=\"266.06\" fill=\"#383838\" rx=\"2\" ry=\"2\" style=\"stroke: #383838; stroke-width: 1.0;\"/><ellipse cx=\"183.33\" cy=\"266.06\" fill=\"#383838\" rx=\"2\" ry=\"2\" style=\"stroke: #383838; stroke-width: 1.0;\"/></a><!--MD5=[ed10624c06dd9a4fa49ccf290e8b16a8]\n",
       "link E8 to E9--><a href=\"psysml:ebcdab70-773e-42b3-a4e9-8c7478e829d7\" target=\"_top\" title=\"psysml:ebcdab70-773e-42b3-a4e9-8c7478e829d7\" xlink:actuate=\"onRequest\" xlink:href=\"psysml:ebcdab70-773e-42b3-a4e9-8c7478e829d7\" xlink:show=\"new\" xlink:title=\"psysml:ebcdab70-773e-42b3-a4e9-8c7478e829d7\" xlink:type=\"simple\"><path d=\"M67.25,218.19 C67.25,218.19 67.25,274.83 67.25,274.83 \" fill=\"none\" id=\"E8-E9\" style=\"stroke: #383838; stroke-width: 1.0;\"/><polygon fill=\"#383838\" points=\"67.25,284.83,70.25,276.83,64.25,276.83,67.25,284.83\" style=\"stroke: #383838; stroke-width: 1.0;\"/><path d=\"M58.7928,211.2682 A9,9 0 0 0 75.7072 211.2682\" fill=\"none\" style=\"stroke: #383838; stroke-width: 1.5;\"/><text fill=\"#000000\" font-family=\"sans-serif\" font-size=\"13\" lengthAdjust=\"spacingAndGlyphs\" textLength=\"60\" x=\"70\" y=\"251.0669\">«variant»</text></a><!--MD5=[0f36bececdf0dff6e600d6f64214b0f1]\n",
       "link E10 to E2--><a href=\"psysml:967d0111-ba43-4736-bbbb-a2fd42e2431e\" target=\"_top\" title=\"psysml:967d0111-ba43-4736-bbbb-a2fd42e2431e\" xlink:actuate=\"onRequest\" xlink:href=\"psysml:967d0111-ba43-4736-bbbb-a2fd42e2431e\" xlink:show=\"new\" xlink:title=\"psysml:967d0111-ba43-4736-bbbb-a2fd42e2431e\" xlink:type=\"simple\"><path d=\"M237.73,178 C225.55,178 212.67,178 212.67,178 C212.67,178 212.67,270.9 212.67,270.9 \" fill=\"none\" id=\"E10-&gt;E2\" style=\"stroke: #383838; stroke-width: 1.0;\"/><polygon fill=\"#FFFFFF\" points=\"212.67,290.9,205.67,271.9,219.67,271.9,212.67,290.9\" style=\"stroke: #383838; stroke-width: 1.0;\"/><ellipse cx=\"207.67\" cy=\"266.2\" fill=\"#383838\" rx=\"2\" ry=\"2\" style=\"stroke: #383838; stroke-width: 1.0;\"/><ellipse cx=\"217.67\" cy=\"266.2\" fill=\"#383838\" rx=\"2\" ry=\"2\" style=\"stroke: #383838; stroke-width: 1.0;\"/></a><!--MD5=[5ec15d3a144e4323120a22bcfb4c16fc]\n",
       "@startuml\r\n",
       "skinparam linetype ortho\r\n",
       "skinparam monochrome true\r\n",
       "skinparam classbackgroundcolor white\r\n",
       "skinparam shadowing false\r\n",
       "skinparam wrapWidth 300\r\n",
       "hide circle\r\n",
       "\r\n",
       "package \"VariabilityTest\" as E1  [[psysml:6fd2d067-8ada-4ea8-9732-021f5438b424 ]]  {\r\n",
       "comp def \"P\" as E2  <<(T,blue) part def>> [[psysml:06c5c105-f179-4f9c-9acd-25394b323f4d ]] {\r\n",
       "- - attributes - -\r\n",
       "a\r\n",
       "}\r\n",
       "comp def \"Q\" as E3  <<(T,blue) part def>> [[psysml:dc55669e-d547-41b4-94bf-d6c68c80b885 ]] {\r\n",
       "}\r\n",
       "comp def \"B\" as E4  <<(T,blue) attribute def>> [[psysml:18777e48-4bd6-4ac5-98df-f6aab0b7358e ]] {\r\n",
       "}\r\n",
       "comp def \"V\" as E5  <<(T,blue) part def>> [[psysml:b19cdb52-b52e-4af3-afe9-4ea29743154a ]] {\r\n",
       "}\r\n",
       "comp usage \"x: Q\" as E6  <<(T,blue) part>> [[psysml:a2bd922e-3e40-42bd-80e3-ecb5a548758e ]] {\r\n",
       "- - attributes - -\r\n",
       "b: B\\n//:>>P::a// \r\n",
       "}\r\n",
       "comp usage \"q: Q\" as E7  <<(T,blue) part>> [[psysml:84f1cc81-1e5a-4a4b-9822-237c593dc1ed ]] {\r\n",
       "}\r\n",
       "comp usage \"v: P\" as E8  <<variation>>\\n <<(T,blue) part>> [[psysml:d9c8c4c9-730a-472e-ad5c-9ed2548fca6c ]] {\r\n",
       "}\r\n",
       "comp usage \"q\" as E9  <<(T,blue) reference>> [[psysml:29b56154-ee98-4bdd-852f-875051132018 ]] {\r\n",
       "- - attributes - -\r\n",
       "b: B\\n//:>>P::a// \r\n",
       "}\r\n",
       "comp usage \"y: P\" as E10  <<(T,blue) part>> [[psysml:e49f0805-0747-4902-8d4f-55ae479a1338 ]] {\r\n",
       "}\r\n",
       "}\r\n",
       "E3 - -|> E2 [[psysml:f79594a1-bc1c-4f37-98e7-b8999b5b3daa ]] \r\n",
       "E5 - -|> E2 [[psysml:e72a8b47-cfcf-460f-abbe-f19ffcddd547 ]] \r\n",
       "E5 )- ->> E6 [[psysml:d1158e90-c200-41a0-bff8-4b2e6825fa74 ]] : <<variant>>\r\n",
       "E7 - -:|> E3 [[psysml:df5a11ab-14bd-474c-9e9f-2e0517640249 ]] \r\n",
       "E8 - -:|> E2 [[psysml:108d975b-2613-446e-8683-bfdaec0afedf ]] \r\n",
       "E8 )- ->> E9 [[psysml:ebcdab70-773e-42b3-a4e9-8c7478e829d7 ]] : <<variant>>\r\n",
       "E10 - -:|> E2 [[psysml:967d0111-ba43-4736-bbbb-a2fd42e2431e ]] \r\n",
       "@enduml\r\n",
       "\n",
       "PlantUML version 1.2020.13(Sat Jun 13 12:26:38 UTC 2020)\n",
       "(EPL source distribution)\n",
       "Java Runtime: OpenJDK Runtime Environment\n",
       "JVM: OpenJDK 64-Bit Server VM\n",
       "Default Encoding: UTF-8\n",
       "Language: en\n",
       "Country: null\n",
       "--></g></svg>"
      ]
     },
     "execution_count": 52,
     "metadata": {},
     "output_type": "execute_result"
    }
   ],
   "source": [
    "%viz --style=\"ORTHOLINE\" --view=\"Tree\" \"VariabilityTest\""
   ]
  },
  {
   "cell_type": "code",
   "execution_count": 53,
   "id": "8f3e77ee",
   "metadata": {
    "execution": {
     "iopub.execute_input": "2021-10-03T08:28:18.965883Z",
     "iopub.status.busy": "2021-10-03T08:28:18.965488Z",
     "iopub.status.idle": "2021-10-03T08:28:18.969663Z",
     "shell.execute_reply": "2021-10-03T08:28:18.969316Z"
    }
   },
   "outputs": [
    {
     "data": {
      "image/svg+xml": [
       "<?xml version=\"1.0\" encoding=\"UTF-8\" standalone=\"no\"?><svg xmlns=\"http://www.w3.org/2000/svg\" xmlns:xlink=\"http://www.w3.org/1999/xlink\" contentScriptType=\"application/ecmascript\" contentStyleType=\"text/css\" height=\"12px\" preserveAspectRatio=\"none\" style=\"width:12px;height:12px;\" version=\"1.1\" viewBox=\"0 0 12 12\" width=\"12px\" zoomAndPan=\"magnify\"><defs/><g><!--MD5=[97d6f38768b311333d388e66b2b27985]\n",
       "@startuml\r\n",
       "skinparam linetype ortho\r\n",
       "skinparam monochrome true\r\n",
       "skinparam classbackgroundcolor white\r\n",
       "skinparam shadowing false\r\n",
       "skinparam wrapWidth 300\r\n",
       "hide circle\r\n",
       "\r\n",
       "@enduml\r\n",
       "\n",
       "PlantUML version 1.2020.13(Sat Jun 13 12:26:38 UTC 2020)\n",
       "(EPL source distribution)\n",
       "Java Runtime: OpenJDK Runtime Environment\n",
       "JVM: OpenJDK 64-Bit Server VM\n",
       "Default Encoding: UTF-8\n",
       "Language: en\n",
       "Country: null\n",
       "--></g></svg>"
      ]
     },
     "execution_count": 53,
     "metadata": {},
     "output_type": "execute_result"
    }
   ],
   "source": [
    "%viz --style=\"ORTHOLINE\" --view=\"State\" \"VariabilityTest\""
   ]
  },
  {
   "cell_type": "code",
   "execution_count": 54,
   "id": "7b057db6",
   "metadata": {
    "execution": {
     "iopub.execute_input": "2021-10-03T08:28:19.018565Z",
     "iopub.status.busy": "2021-10-03T08:28:19.018165Z",
     "iopub.status.idle": "2021-10-03T08:28:19.090768Z",
     "shell.execute_reply": "2021-10-03T08:28:19.089072Z"
    }
   },
   "outputs": [
    {
     "data": {
      "image/svg+xml": [
       "<?xml version=\"1.0\" encoding=\"UTF-8\" standalone=\"no\"?><svg xmlns=\"http://www.w3.org/2000/svg\" xmlns:xlink=\"http://www.w3.org/1999/xlink\" contentScriptType=\"application/ecmascript\" contentStyleType=\"text/css\" height=\"427px\" preserveAspectRatio=\"none\" style=\"width:783px;height:427px;\" version=\"1.1\" viewBox=\"0 0 783 427\" width=\"783px\" zoomAndPan=\"magnify\"><defs/><g><!--MD5=[fbc87193dbaf4d95561dea2c320d4a47]\n",
       "cluster E1--><a href=\"psysml:6fd2d067-8ada-4ea8-9732-021f5438b424\" target=\"_top\" title=\"psysml:6fd2d067-8ada-4ea8-9732-021f5438b424\" xlink:actuate=\"onRequest\" xlink:href=\"psysml:6fd2d067-8ada-4ea8-9732-021f5438b424\" xlink:show=\"new\" xlink:title=\"psysml:6fd2d067-8ada-4ea8-9732-021f5438b424\" xlink:type=\"simple\"><polygon fill=\"#FFFFFF\" points=\"16,6,116,6,123,28.2969,761,28.2969,761,415,16,415,16,6\" style=\"stroke: #000000; stroke-width: 1.5;\"/><line style=\"stroke: #000000; stroke-width: 1.5;\" x1=\"16\" x2=\"123\" y1=\"28.2969\" y2=\"28.2969\"/><text fill=\"#000000\" font-family=\"sans-serif\" font-size=\"14\" font-weight=\"bold\" lengthAdjust=\"spacingAndGlyphs\" textLength=\"94\" x=\"20\" y=\"20.9951\">VariabilityTest</text></a><!--MD5=[e4f7fae6ed58524ba242bb0b0d3be6b7]\n",
       "cluster E2--><a href=\"psysml:06c5c105-f179-4f9c-9acd-25394b323f4d\" target=\"_top\" title=\"psysml:06c5c105-f179-4f9c-9acd-25394b323f4d\" xlink:actuate=\"onRequest\" xlink:href=\"psysml:06c5c105-f179-4f9c-9acd-25394b323f4d\" xlink:show=\"new\" xlink:title=\"psysml:06c5c105-f179-4f9c-9acd-25394b323f4d\" xlink:type=\"simple\"><rect fill=\"#FFFFFF\" height=\"129\" id=\"E2\" style=\"stroke: #383838; stroke-width: 1.5;\" width=\"139\" x=\"424\" y=\"254\"/><rect fill=\"#F8F8F8\" height=\"37.9375\" style=\"stroke: #383838; stroke-width: 1.5;\" width=\"139\" x=\"424\" y=\"254\"/><text fill=\"#000000\" font-family=\"sans-serif\" font-size=\"12\" font-style=\"italic\" lengthAdjust=\"spacingAndGlyphs\" textLength=\"64\" x=\"461.5\" y=\"270.1387\">«part def»</text><text fill=\"#000000\" font-family=\"sans-serif\" font-size=\"12\" lengthAdjust=\"spacingAndGlyphs\" textLength=\"8\" x=\"489.5\" y=\"284.1074\">P</text></a><!--MD5=[14e3b0961a2654348d326746436168a1]\n",
       "cluster E6--><a href=\"psysml:b19cdb52-b52e-4af3-afe9-4ea29743154a\" target=\"_top\" title=\"psysml:b19cdb52-b52e-4af3-afe9-4ea29743154a\" xlink:actuate=\"onRequest\" xlink:href=\"psysml:b19cdb52-b52e-4af3-afe9-4ea29743154a\" xlink:show=\"new\" xlink:title=\"psysml:b19cdb52-b52e-4af3-afe9-4ea29743154a\" xlink:type=\"simple\"><rect fill=\"#FFFFFF\" height=\"157\" id=\"E6\" style=\"stroke: #383838; stroke-width: 1.5;\" width=\"131\" x=\"598\" y=\"57\"/><rect fill=\"#F8F8F8\" height=\"37.9375\" style=\"stroke: #383838; stroke-width: 1.5;\" width=\"131\" x=\"598\" y=\"57\"/><text fill=\"#000000\" font-family=\"sans-serif\" font-size=\"12\" font-style=\"italic\" lengthAdjust=\"spacingAndGlyphs\" textLength=\"64\" x=\"631.5\" y=\"73.1387\">«part def»</text><text fill=\"#000000\" font-family=\"sans-serif\" font-size=\"12\" lengthAdjust=\"spacingAndGlyphs\" textLength=\"8\" x=\"659.5\" y=\"87.1074\">V</text></a><!--MD5=[7f149f147074ac12df2cb0a7728a5fb0]\n",
       "cluster E9--><a href=\"psysml:d9c8c4c9-730a-472e-ad5c-9ed2548fca6c\" target=\"_top\" title=\"psysml:d9c8c4c9-730a-472e-ad5c-9ed2548fca6c\" xlink:actuate=\"onRequest\" xlink:href=\"psysml:d9c8c4c9-730a-472e-ad5c-9ed2548fca6c\" xlink:show=\"new\" xlink:title=\"psysml:d9c8c4c9-730a-472e-ad5c-9ed2548fca6c\" xlink:type=\"simple\"><rect fill=\"#FFFFFF\" height=\"139\" id=\"E9\" rx=\"10\" ry=\"10\" style=\"stroke: #383838; stroke-width: 1.5;\" width=\"110\" x=\"456\" y=\"74\"/><rect fill=\"#F8F8F8\" height=\"23.9688\" rx=\"10\" ry=\"10\" style=\"stroke: #F8F8F8; stroke-width: 1.5;\" width=\"110\" x=\"456\" y=\"74\"/><rect fill=\"#F8F8F8\" height=\"10\" style=\"stroke: #F8F8F8; stroke-width: 1.5;\" width=\"110\" x=\"456\" y=\"87.9688\"/><rect fill=\"none\" height=\"139\" id=\"E9\" rx=\"10\" ry=\"10\" style=\"stroke: #383838; stroke-width: 1.5;\" width=\"110\" x=\"456\" y=\"74\"/><text fill=\"#000000\" font-family=\"sans-serif\" font-size=\"12\" lengthAdjust=\"spacingAndGlyphs\" textLength=\"22\" x=\"500\" y=\"90.1387\">v: P</text><line style=\"stroke: #383838; stroke-width: 1.0;\" x1=\"456\" x2=\"566\" y1=\"97.9688\" y2=\"97.9688\"/></a><g id=\"E1.E5\"><a href=\"psysml:18777e48-4bd6-4ac5-98df-f6aab0b7358e\" target=\"_top\" title=\"psysml:18777e48-4bd6-4ac5-98df-f6aab0b7358e\" xlink:actuate=\"onRequest\" xlink:href=\"psysml:18777e48-4bd6-4ac5-98df-f6aab0b7358e\" xlink:show=\"new\" xlink:title=\"psysml:18777e48-4bd6-4ac5-98df-f6aab0b7358e\" xlink:type=\"simple\"><rect fill=\"#FFFFFF\" height=\"42.9375\" id=\"E5\" style=\"stroke: #383838; stroke-width: 1.5;\" width=\"100\" x=\"337\" y=\"131.5\"/><rect fill=\"#F8F8F8\" height=\"37.9375\" style=\"stroke: #383838; stroke-width: 1.5;\" width=\"100\" x=\"337\" y=\"131.5\"/><text fill=\"#000000\" font-family=\"sans-serif\" font-size=\"12\" font-style=\"italic\" lengthAdjust=\"spacingAndGlyphs\" textLength=\"93\" x=\"340.5\" y=\"147.6387\">«attribute def»</text><text fill=\"#000000\" font-family=\"sans-serif\" font-size=\"12\" lengthAdjust=\"spacingAndGlyphs\" textLength=\"8\" x=\"383\" y=\"161.6074\">B</text></a></g><!--MD5=[09b614a08d8cba4a07c9adeb5e0fee81]\n",
       "class E3--><a href=\"psysml:8d9858c1-4f67-40c3-af33-b29377a1672a\" target=\"_top\" title=\"psysml:8d9858c1-4f67-40c3-af33-b29377a1672a\" xlink:actuate=\"onRequest\" xlink:href=\"psysml:8d9858c1-4f67-40c3-af33-b29377a1672a\" xlink:show=\"new\" xlink:title=\"psysml:8d9858c1-4f67-40c3-af33-b29377a1672a\" xlink:type=\"simple\"><rect fill=\"#FFFFFF\" height=\"45.9375\" id=\"E3\" rx=\"10\" ry=\"10\" style=\"stroke: #383838; stroke-width: 1.5;\" width=\"71\" x=\"467.5\" y=\"313\"/><text fill=\"#000000\" font-family=\"sans-serif\" font-size=\"12\" font-style=\"italic\" lengthAdjust=\"spacingAndGlyphs\" textLength=\"69\" x=\"468.5\" y=\"329.1387\">«attribute»</text><text fill=\"#000000\" font-family=\"sans-serif\" font-size=\"12\" lengthAdjust=\"spacingAndGlyphs\" textLength=\"8\" x=\"499\" y=\"343.1074\">a</text><line style=\"stroke: #383838; stroke-width: 1.5;\" x1=\"468.5\" x2=\"537.5\" y1=\"350.9375\" y2=\"350.9375\"/></a><g id=\"E1.E4\"><a href=\"psysml:dc55669e-d547-41b4-94bf-d6c68c80b885\" target=\"_top\" title=\"psysml:dc55669e-d547-41b4-94bf-d6c68c80b885\" xlink:actuate=\"onRequest\" xlink:href=\"psysml:dc55669e-d547-41b4-94bf-d6c68c80b885\" xlink:show=\"new\" xlink:title=\"psysml:dc55669e-d547-41b4-94bf-d6c68c80b885\" xlink:type=\"simple\"><rect fill=\"#FFFFFF\" height=\"42.9375\" id=\"E4\" style=\"stroke: #383838; stroke-width: 1.5;\" width=\"71\" x=\"230.5\" y=\"131.5\"/><rect fill=\"#F8F8F8\" height=\"37.9375\" style=\"stroke: #383838; stroke-width: 1.5;\" width=\"71\" x=\"230.5\" y=\"131.5\"/><text fill=\"#000000\" font-family=\"sans-serif\" font-size=\"12\" font-style=\"italic\" lengthAdjust=\"spacingAndGlyphs\" textLength=\"64\" x=\"234\" y=\"147.6387\">«part def»</text><text fill=\"#000000\" font-family=\"sans-serif\" font-size=\"12\" lengthAdjust=\"spacingAndGlyphs\" textLength=\"9\" x=\"261.5\" y=\"161.6074\">Q</text></a></g><!--MD5=[2156ba9850f5573cc1fc38a6a4b2f02b]\n",
       "class E7--><a href=\"psysml:a2bd922e-3e40-42bd-80e3-ecb5a548758e\" target=\"_top\" title=\"psysml:a2bd922e-3e40-42bd-80e3-ecb5a548758e\" xlink:actuate=\"onRequest\" xlink:href=\"psysml:a2bd922e-3e40-42bd-80e3-ecb5a548758e\" xlink:show=\"new\" xlink:title=\"psysml:a2bd922e-3e40-42bd-80e3-ecb5a548758e\" xlink:type=\"simple\"><rect fill=\"#FFFFFF\" height=\"74.3828\" id=\"E7\" rx=\"10\" ry=\"10\" style=\"stroke: #383838; stroke-width: 1.5;\" width=\"63\" x=\"641.5\" y=\"116\"/><text fill=\"#000000\" font-family=\"sans-serif\" font-size=\"12\" lengthAdjust=\"spacingAndGlyphs\" textLength=\"23\" x=\"661.5\" y=\"132.1387\">x: Q</text><line style=\"stroke: #383838; stroke-width: 1.5;\" x1=\"642.5\" x2=\"703.5\" y1=\"139.9688\" y2=\"139.9688\"/><text fill=\"#000000\" font-family=\"sans-serif\" font-size=\"11\" lengthAdjust=\"spacingAndGlyphs\" textLength=\"23\" x=\"647.5\" y=\"170.9839\">b: B</text><text fill=\"#000000\" font-family=\"sans-serif\" font-size=\"11\" font-style=\"italic\" lengthAdjust=\"spacingAndGlyphs\" textLength=\"44\" x=\"647.5\" y=\"183.7886\">:&gt;&gt;P::a</text><line style=\"stroke: #383838; stroke-width: 1.0;\" x1=\"642.5\" x2=\"645.5\" y1=\"154.3711\" y2=\"154.3711\"/><text fill=\"#000000\" font-family=\"sans-serif\" font-size=\"11\" lengthAdjust=\"spacingAndGlyphs\" textLength=\"55\" x=\"645.5\" y=\"157.6792\">attributes</text><line style=\"stroke: #383838; stroke-width: 1.0;\" x1=\"700.5\" x2=\"703.5\" y1=\"154.3711\" y2=\"154.3711\"/></a><g id=\"E1.E8\"><a href=\"psysml:84f1cc81-1e5a-4a4b-9822-237c593dc1ed\" target=\"_top\" title=\"psysml:84f1cc81-1e5a-4a4b-9822-237c593dc1ed\" xlink:actuate=\"onRequest\" xlink:href=\"psysml:84f1cc81-1e5a-4a4b-9822-237c593dc1ed\" xlink:show=\"new\" xlink:title=\"psysml:84f1cc81-1e5a-4a4b-9822-237c593dc1ed\" xlink:type=\"simple\"><rect fill=\"#FFFFFF\" height=\"40\" id=\"E8\" rx=\"10\" ry=\"10\" style=\"stroke: #383838; stroke-width: 1.5;\" width=\"50\" x=\"145\" y=\"133\"/><rect fill=\"#F8F8F8\" height=\"23.9688\" rx=\"10\" ry=\"10\" style=\"stroke: #F8F8F8; stroke-width: 1.5;\" width=\"50\" x=\"145\" y=\"133\"/><rect fill=\"#F8F8F8\" height=\"10\" style=\"stroke: #F8F8F8; stroke-width: 1.5;\" width=\"50\" x=\"145\" y=\"146.9688\"/><rect fill=\"none\" height=\"40\" id=\"E8\" rx=\"10\" ry=\"10\" style=\"stroke: #383838; stroke-width: 1.5;\" width=\"50\" x=\"145\" y=\"133\"/><text fill=\"#000000\" font-family=\"sans-serif\" font-size=\"12\" lengthAdjust=\"spacingAndGlyphs\" textLength=\"25\" x=\"157.5\" y=\"149.1387\">q: Q</text></a></g><!--MD5=[96f4274e9e20536e775497830990834d]\n",
       "class E10--><a href=\"psysml:29b56154-ee98-4bdd-852f-875051132018\" target=\"_top\" title=\"psysml:29b56154-ee98-4bdd-852f-875051132018\" xlink:actuate=\"onRequest\" xlink:href=\"psysml:29b56154-ee98-4bdd-852f-875051132018\" xlink:show=\"new\" xlink:title=\"psysml:29b56154-ee98-4bdd-852f-875051132018\" xlink:type=\"simple\"><rect fill=\"#FFFFFF\" height=\"88.3516\" id=\"E10\" rx=\"10\" ry=\"10\" style=\"stroke: #383838; stroke-width: 1.5;\" width=\"77\" x=\"472.5\" y=\"109\"/><text fill=\"#000000\" font-family=\"sans-serif\" font-size=\"12\" font-style=\"italic\" lengthAdjust=\"spacingAndGlyphs\" textLength=\"75\" x=\"473.5\" y=\"125.1387\">«reference»</text><text fill=\"#000000\" font-family=\"sans-serif\" font-size=\"12\" lengthAdjust=\"spacingAndGlyphs\" textLength=\"8\" x=\"507\" y=\"139.1074\">q</text><line style=\"stroke: #383838; stroke-width: 1.5;\" x1=\"473.5\" x2=\"548.5\" y1=\"146.9375\" y2=\"146.9375\"/><text fill=\"#000000\" font-family=\"sans-serif\" font-size=\"11\" lengthAdjust=\"spacingAndGlyphs\" textLength=\"23\" x=\"478.5\" y=\"177.9526\">b: B</text><text fill=\"#000000\" font-family=\"sans-serif\" font-size=\"11\" font-style=\"italic\" lengthAdjust=\"spacingAndGlyphs\" textLength=\"44\" x=\"478.5\" y=\"190.7573\">:&gt;&gt;P::a</text><line style=\"stroke: #383838; stroke-width: 1.0;\" x1=\"473.5\" x2=\"483.5\" y1=\"161.3398\" y2=\"161.3398\"/><text fill=\"#000000\" font-family=\"sans-serif\" font-size=\"11\" lengthAdjust=\"spacingAndGlyphs\" textLength=\"55\" x=\"483.5\" y=\"164.6479\">attributes</text><line style=\"stroke: #383838; stroke-width: 1.0;\" x1=\"538.5\" x2=\"548.5\" y1=\"161.3398\" y2=\"161.3398\"/></a><g id=\"E1.E11\"><a href=\"psysml:e49f0805-0747-4902-8d4f-55ae479a1338\" target=\"_top\" title=\"psysml:e49f0805-0747-4902-8d4f-55ae479a1338\" xlink:actuate=\"onRequest\" xlink:href=\"psysml:e49f0805-0747-4902-8d4f-55ae479a1338\" xlink:show=\"new\" xlink:title=\"psysml:e49f0805-0747-4902-8d4f-55ae479a1338\" xlink:type=\"simple\"><rect fill=\"#FFFFFF\" height=\"40\" id=\"E11\" rx=\"10\" ry=\"10\" style=\"stroke: #383838; stroke-width: 1.5;\" width=\"77\" x=\"32.5\" y=\"133\"/><rect fill=\"#F8F8F8\" height=\"23.9688\" rx=\"10\" ry=\"10\" style=\"stroke: #F8F8F8; stroke-width: 1.5;\" width=\"77\" x=\"32.5\" y=\"133\"/><rect fill=\"#F8F8F8\" height=\"10\" style=\"stroke: #F8F8F8; stroke-width: 1.5;\" width=\"77\" x=\"32.5\" y=\"146.9688\"/><rect fill=\"none\" height=\"40\" id=\"E11\" rx=\"10\" ry=\"10\" style=\"stroke: #383838; stroke-width: 1.5;\" width=\"77\" x=\"32.5\" y=\"133\"/><text fill=\"#000000\" font-family=\"sans-serif\" font-size=\"12\" lengthAdjust=\"spacingAndGlyphs\" textLength=\"62\" x=\"38\" y=\"149.1387\">y: P= v::q;</text></a></g><!--MD5=[185131fc0dcab0a4505a2ebe144e961b]\n",
       "link E4 to E2--><a href=\"psysml:f79594a1-bc1c-4f37-98e7-b8999b5b3daa\" target=\"_top\" title=\"psysml:f79594a1-bc1c-4f37-98e7-b8999b5b3daa\" xlink:actuate=\"onRequest\" xlink:href=\"psysml:f79594a1-bc1c-4f37-98e7-b8999b5b3daa\" xlink:show=\"new\" xlink:title=\"psysml:f79594a1-bc1c-4f37-98e7-b8999b5b3daa\" xlink:type=\"simple\"><path d=\"M266,174.71 C266,223.19 266,336 266,336 C266,336 304.9475,336 345.1113,336 C365.1931,336 385.5791,336 401.5527,336 C409.5395,336 416.4232,336 421.6142,336 C422.2631,336 422.8856,336 423.4804,336 C423.6291,336 423.7761,336 423.9213,336 \" fill=\"none\" id=\"E4-&gt;E2\" style=\"stroke: #383838; stroke-width: 1.0;\"/><polygon fill=\"#FFFFFF\" points=\"423.9213,336,404.9213,329,404.9213,343,423.9213,336\" style=\"stroke: #383838; stroke-width: 1.0;\"/></a><!--MD5=[2351f337d6de0f557b50152ba70847b5]\n",
       "link E6 to E2--><a href=\"psysml:e72a8b47-cfcf-460f-abbe-f19ffcddd547\" target=\"_top\" title=\"psysml:e72a8b47-cfcf-460f-abbe-f19ffcddd547\" xlink:actuate=\"onRequest\" xlink:href=\"psysml:e72a8b47-cfcf-460f-abbe-f19ffcddd547\" xlink:show=\"new\" xlink:title=\"psysml:e72a8b47-cfcf-460f-abbe-f19ffcddd547\" xlink:type=\"simple\"><path d=\"M606,214.3576 C606,215.103 606,215.8453 606,216.5839 C606,219.5383 606,222.4325 606,225.2235 C606,230.8056 606,235.9748 606,240.3861 C606,249.2088 606,255 606,255 C606,255 595.125,255 578.8125,255 C574.7344,255 570.3164,255 565.6436,255 C565.0594,255 564.4714,255 563.8795,255 \" fill=\"none\" id=\"E6-&gt;E2\" style=\"stroke: #383838; stroke-width: 1.0;\"/><polygon fill=\"#FFFFFF\" points=\"563.8795,255,582.8795,262,582.8795,248,563.8795,255\" style=\"stroke: #383838; stroke-width: 1.0;\"/></a><!--MD5=[6e37efd48dd4c31a1b98be6aa90c906a]\n",
       "@startuml\r\n",
       "skinparam ranksep 10\r\n",
       "skinparam rectangle {\r\n",
       " backgroundColor<<block>> LightGreen\r\n",
       "}\r\n",
       "skinparam linetype ortho\r\n",
       "skinparam monochrome true\r\n",
       "skinparam classbackgroundcolor white\r\n",
       "skinparam shadowing false\r\n",
       "skinparam wrapWidth 300\r\n",
       "hide circle\r\n",
       "\r\n",
       "package \"VariabilityTest\" as E1  [[psysml:6fd2d067-8ada-4ea8-9732-021f5438b424 ]]  {\r\n",
       "rec def \"P\" as E2  <<(T,blue) part def>> [[psysml:06c5c105-f179-4f9c-9acd-25394b323f4d ]] {\r\n",
       "comp usage \"a\" as E3  <<(T,blue) attribute>> [[psysml:8d9858c1-4f67-40c3-af33-b29377a1672a ]] {\r\n",
       "}\r\n",
       "}\r\n",
       "rec def \"Q\" as E4  <<(T,blue) part def>> [[psysml:dc55669e-d547-41b4-94bf-d6c68c80b885 ]] {\r\n",
       "}\r\n",
       "def \"B\" as E5  <<(T,blue) attribute def>> [[psysml:18777e48-4bd6-4ac5-98df-f6aab0b7358e ]] \r\n",
       "rec def \"V\" as E6  <<(T,blue) part def>> [[psysml:b19cdb52-b52e-4af3-afe9-4ea29743154a ]] {\r\n",
       "comp usage \"x: Q\" as E7  [[psysml:a2bd922e-3e40-42bd-80e3-ecb5a548758e ]] {\r\n",
       "- - attributes - -\r\n",
       "b: B\\n//:>>P::a// \r\n",
       "}\r\n",
       "}\r\n",
       "rec usage \"q: Q\" as E8  [[psysml:84f1cc81-1e5a-4a4b-9822-237c593dc1ed ]] {\r\n",
       "}\r\n",
       "rec usage \"v: P\" as E9  [[psysml:d9c8c4c9-730a-472e-ad5c-9ed2548fca6c ]] {\r\n",
       "comp usage \"q\" as E10  <<(T,blue) reference>> [[psysml:29b56154-ee98-4bdd-852f-875051132018 ]] {\r\n",
       "- - attributes - -\r\n",
       "b: B\\n//:>>P::a// \r\n",
       "}\r\n",
       "}\r\n",
       "rec usage \"y: P= v::q; \" as E11  [[psysml:e49f0805-0747-4902-8d4f-55ae479a1338 ]] {\r\n",
       "}\r\n",
       "}\r\n",
       "E4 - -|> E2 [[psysml:f79594a1-bc1c-4f37-98e7-b8999b5b3daa ]] \r\n",
       "E6 - -|> E2 [[psysml:e72a8b47-cfcf-460f-abbe-f19ffcddd547 ]] \r\n",
       "@enduml\r\n",
       "\n",
       "PlantUML version 1.2020.13(Sat Jun 13 12:26:38 UTC 2020)\n",
       "(EPL source distribution)\n",
       "Java Runtime: OpenJDK Runtime Environment\n",
       "JVM: OpenJDK 64-Bit Server VM\n",
       "Default Encoding: UTF-8\n",
       "Language: en\n",
       "Country: null\n",
       "--></g></svg>"
      ]
     },
     "execution_count": 54,
     "metadata": {},
     "output_type": "execute_result"
    }
   ],
   "source": [
    "%viz --style=\"ORTHOLINE\" --view=\"Interconnection\" \"VariabilityTest\""
   ]
  },
  {
   "cell_type": "code",
   "execution_count": 55,
   "id": "b4b2ce54",
   "metadata": {
    "execution": {
     "iopub.execute_input": "2021-10-03T08:28:19.139913Z",
     "iopub.status.busy": "2021-10-03T08:28:19.139511Z",
     "iopub.status.idle": "2021-10-03T08:28:19.144611Z",
     "shell.execute_reply": "2021-10-03T08:28:19.144267Z"
    }
   },
   "outputs": [
    {
     "data": {
      "image/svg+xml": [
       "<?xml version=\"1.0\" encoding=\"UTF-8\" standalone=\"no\"?><svg xmlns=\"http://www.w3.org/2000/svg\" xmlns:xlink=\"http://www.w3.org/1999/xlink\" contentScriptType=\"application/ecmascript\" contentStyleType=\"text/css\" height=\"12px\" preserveAspectRatio=\"none\" style=\"width:12px;height:12px;\" version=\"1.1\" viewBox=\"0 0 12 12\" width=\"12px\" zoomAndPan=\"magnify\"><defs/><g><!--MD5=[72934c63077099a26744516a776b4749]\n",
       "@startuml\r\n",
       "skinparam ranksep 8\r\n",
       "skinparam linetype ortho\r\n",
       "skinparam monochrome true\r\n",
       "skinparam classbackgroundcolor white\r\n",
       "skinparam shadowing false\r\n",
       "skinparam wrapWidth 300\r\n",
       "hide circle\r\n",
       "\r\n",
       "@enduml\r\n",
       "\n",
       "PlantUML version 1.2020.13(Sat Jun 13 12:26:38 UTC 2020)\n",
       "(EPL source distribution)\n",
       "Java Runtime: OpenJDK Runtime Environment\n",
       "JVM: OpenJDK 64-Bit Server VM\n",
       "Default Encoding: UTF-8\n",
       "Language: en\n",
       "Country: null\n",
       "--></g></svg>"
      ]
     },
     "execution_count": 55,
     "metadata": {},
     "output_type": "execute_result"
    }
   ],
   "source": [
    "%viz --style=\"ORTHOLINE\" --view=\"Action\" \"VariabilityTest\""
   ]
  },
  {
   "cell_type": "code",
   "execution_count": 56,
   "id": "bde1d4aa",
   "metadata": {
    "execution": {
     "iopub.execute_input": "2021-10-03T08:28:19.194018Z",
     "iopub.status.busy": "2021-10-03T08:28:19.193621Z",
     "iopub.status.idle": "2021-10-03T08:28:19.198528Z",
     "shell.execute_reply": "2021-10-03T08:28:19.198183Z"
    }
   },
   "outputs": [
    {
     "data": {
      "image/svg+xml": [
       "<?xml version=\"1.0\" encoding=\"UTF-8\" standalone=\"no\"?><svg xmlns=\"http://www.w3.org/2000/svg\" xmlns:xlink=\"http://www.w3.org/1999/xlink\" contentScriptType=\"application/ecmascript\" contentStyleType=\"text/css\" height=\"12px\" preserveAspectRatio=\"none\" style=\"width:12px;height:12px;\" version=\"1.1\" viewBox=\"0 0 12 12\" width=\"12px\" zoomAndPan=\"magnify\"><defs/><g><!--MD5=[30fc1de5121c5abddedd55b44417fde8]\n",
       "@startuml\r\n",
       "skinparam roundcorner 20\r\n",
       "skinparam BoxPadding 20\r\n",
       "skinparam SequenceBoxBackgroundColor #white\r\n",
       "skinparam style strictuml\r\n",
       "skinparam maxMessageSize 100\r\n",
       "skinparam linetype ortho\r\n",
       "skinparam monochrome true\r\n",
       "skinparam classbackgroundcolor white\r\n",
       "skinparam shadowing false\r\n",
       "skinparam wrapWidth 300\r\n",
       "hide circle\r\n",
       "\r\n",
       "@enduml\r\n",
       "\n",
       "PlantUML version 1.2020.13(Sat Jun 13 12:26:38 UTC 2020)\n",
       "(EPL source distribution)\n",
       "Java Runtime: OpenJDK Runtime Environment\n",
       "JVM: OpenJDK 64-Bit Server VM\n",
       "Default Encoding: UTF-8\n",
       "Language: en\n",
       "Country: null\n",
       "--></g></svg>"
      ]
     },
     "execution_count": 56,
     "metadata": {},
     "output_type": "execute_result"
    }
   ],
   "source": [
    "%viz --style=\"ORTHOLINE\" --view=\"Sequence\" \"VariabilityTest\""
   ]
  },
  {
   "cell_type": "code",
   "execution_count": 57,
   "id": "c6ccb197",
   "metadata": {
    "execution": {
     "iopub.execute_input": "2021-10-03T08:28:19.247846Z",
     "iopub.status.busy": "2021-10-03T08:28:19.247446Z",
     "iopub.status.idle": "2021-10-03T08:28:19.325753Z",
     "shell.execute_reply": "2021-10-03T08:28:19.323939Z"
    }
   },
   "outputs": [
    {
     "data": {
      "image/svg+xml": [
       "<?xml version=\"1.0\" encoding=\"UTF-8\" standalone=\"no\"?><svg xmlns=\"http://www.w3.org/2000/svg\" xmlns:xlink=\"http://www.w3.org/1999/xlink\" contentScriptType=\"application/ecmascript\" contentStyleType=\"text/css\" height=\"401px\" preserveAspectRatio=\"none\" style=\"width:419px;height:401px;\" version=\"1.1\" viewBox=\"0 0 419 401\" width=\"419px\" zoomAndPan=\"magnify\"><defs/><g><!--MD5=[fbc87193dbaf4d95561dea2c320d4a47]\n",
       "cluster E1--><a href=\"psysml:6fd2d067-8ada-4ea8-9732-021f5438b424\" target=\"_top\" title=\"psysml:6fd2d067-8ada-4ea8-9732-021f5438b424\" xlink:actuate=\"onRequest\" xlink:href=\"psysml:6fd2d067-8ada-4ea8-9732-021f5438b424\" xlink:show=\"new\" xlink:title=\"psysml:6fd2d067-8ada-4ea8-9732-021f5438b424\" xlink:type=\"simple\"><polygon fill=\"#FFFFFF\" points=\"16,6,116,6,123,28.2969,397,28.2969,397,389,16,389,16,6\" style=\"stroke: #000000; stroke-width: 1.5;\"/><line style=\"stroke: #000000; stroke-width: 1.5;\" x1=\"16\" x2=\"123\" y1=\"28.2969\" y2=\"28.2969\"/><text fill=\"#000000\" font-family=\"sans-serif\" font-size=\"14\" font-weight=\"bold\" lengthAdjust=\"spacingAndGlyphs\" textLength=\"94\" x=\"20\" y=\"20.9951\">VariabilityTest</text></a><!--MD5=[b4997ac47864f28c2f74865a473b2911]\n",
       "class E2--><a href=\"psysml:06c5c105-f179-4f9c-9acd-25394b323f4d\" target=\"_top\" title=\"psysml:06c5c105-f179-4f9c-9acd-25394b323f4d\" xlink:actuate=\"onRequest\" xlink:href=\"psysml:06c5c105-f179-4f9c-9acd-25394b323f4d\" xlink:show=\"new\" xlink:title=\"psysml:06c5c105-f179-4f9c-9acd-25394b323f4d\" xlink:type=\"simple\"><rect fill=\"#FFFFFF\" height=\"75.5469\" id=\"E2\" style=\"stroke: #383838; stroke-width: 1.5;\" width=\"66\" x=\"166\" y=\"291\"/><text fill=\"#000000\" font-family=\"sans-serif\" font-size=\"12\" font-style=\"italic\" lengthAdjust=\"spacingAndGlyphs\" textLength=\"64\" x=\"167\" y=\"307.1387\">«part def»</text><text fill=\"#000000\" font-family=\"sans-serif\" font-size=\"12\" lengthAdjust=\"spacingAndGlyphs\" textLength=\"8\" x=\"195\" y=\"321.1074\">P</text><line style=\"stroke: #383838; stroke-width: 1.5;\" x1=\"167\" x2=\"231\" y1=\"328.9375\" y2=\"328.9375\"/><text fill=\"#000000\" font-family=\"sans-serif\" font-size=\"11\" lengthAdjust=\"spacingAndGlyphs\" textLength=\"7\" x=\"172\" y=\"359.9526\">a</text><line style=\"stroke: #383838; stroke-width: 1.0;\" x1=\"167\" x2=\"171.5\" y1=\"343.3398\" y2=\"343.3398\"/><text fill=\"#000000\" font-family=\"sans-serif\" font-size=\"11\" lengthAdjust=\"spacingAndGlyphs\" textLength=\"55\" x=\"171.5\" y=\"346.6479\">attributes</text><line style=\"stroke: #383838; stroke-width: 1.0;\" x1=\"226.5\" x2=\"231\" y1=\"343.3398\" y2=\"343.3398\"/></a><!--MD5=[09b614a08d8cba4a07c9adeb5e0fee81]\n",
       "class E3--><a href=\"psysml:dc55669e-d547-41b4-94bf-d6c68c80b885\" target=\"_top\" title=\"psysml:dc55669e-d547-41b4-94bf-d6c68c80b885\" xlink:actuate=\"onRequest\" xlink:href=\"psysml:dc55669e-d547-41b4-94bf-d6c68c80b885\" xlink:show=\"new\" xlink:title=\"psysml:dc55669e-d547-41b4-94bf-d6c68c80b885\" xlink:type=\"simple\"><rect fill=\"#FFFFFF\" height=\"45.9375\" id=\"E3\" style=\"stroke: #383838; stroke-width: 1.5;\" width=\"66\" x=\"137\" y=\"155\"/><text fill=\"#000000\" font-family=\"sans-serif\" font-size=\"12\" font-style=\"italic\" lengthAdjust=\"spacingAndGlyphs\" textLength=\"64\" x=\"138\" y=\"171.1387\">«part def»</text><text fill=\"#000000\" font-family=\"sans-serif\" font-size=\"12\" lengthAdjust=\"spacingAndGlyphs\" textLength=\"9\" x=\"165.5\" y=\"185.1074\">Q</text><line style=\"stroke: #383838; stroke-width: 1.5;\" x1=\"138\" x2=\"202\" y1=\"192.9375\" y2=\"192.9375\"/></a><!--MD5=[ebbe1d658d1005bcc118a6aa81145e00]\n",
       "class E4--><a href=\"psysml:18777e48-4bd6-4ac5-98df-f6aab0b7358e\" target=\"_top\" title=\"psysml:18777e48-4bd6-4ac5-98df-f6aab0b7358e\" xlink:actuate=\"onRequest\" xlink:href=\"psysml:18777e48-4bd6-4ac5-98df-f6aab0b7358e\" xlink:show=\"new\" xlink:title=\"psysml:18777e48-4bd6-4ac5-98df-f6aab0b7358e\" xlink:type=\"simple\"><rect fill=\"#FFFFFF\" height=\"45.9375\" id=\"E4\" style=\"stroke: #383838; stroke-width: 1.5;\" width=\"95\" x=\"255.5\" y=\"41\"/><text fill=\"#000000\" font-family=\"sans-serif\" font-size=\"12\" font-style=\"italic\" lengthAdjust=\"spacingAndGlyphs\" textLength=\"93\" x=\"256.5\" y=\"57.1387\">«attribute def»</text><text fill=\"#000000\" font-family=\"sans-serif\" font-size=\"12\" lengthAdjust=\"spacingAndGlyphs\" textLength=\"8\" x=\"299\" y=\"71.1074\">B</text><line style=\"stroke: #383838; stroke-width: 1.5;\" x1=\"256.5\" x2=\"349.5\" y1=\"78.9375\" y2=\"78.9375\"/></a><!--MD5=[270fce915f116d4de14055a7c1d9a0f3]\n",
       "class E5--><a href=\"psysml:b19cdb52-b52e-4af3-afe9-4ea29743154a\" target=\"_top\" title=\"psysml:b19cdb52-b52e-4af3-afe9-4ea29743154a\" xlink:actuate=\"onRequest\" xlink:href=\"psysml:b19cdb52-b52e-4af3-afe9-4ea29743154a\" xlink:show=\"new\" xlink:title=\"psysml:b19cdb52-b52e-4af3-afe9-4ea29743154a\" xlink:type=\"simple\"><rect fill=\"#FFFFFF\" height=\"45.9375\" id=\"E5\" style=\"stroke: #383838; stroke-width: 1.5;\" width=\"66\" x=\"315\" y=\"155\"/><text fill=\"#000000\" font-family=\"sans-serif\" font-size=\"12\" font-style=\"italic\" lengthAdjust=\"spacingAndGlyphs\" textLength=\"64\" x=\"316\" y=\"171.1387\">«part def»</text><text fill=\"#000000\" font-family=\"sans-serif\" font-size=\"12\" lengthAdjust=\"spacingAndGlyphs\" textLength=\"8\" x=\"344\" y=\"185.1074\">V</text><line style=\"stroke: #383838; stroke-width: 1.5;\" x1=\"316\" x2=\"380\" y1=\"192.9375\" y2=\"192.9375\"/></a><!--MD5=[60a26617385b1d2d0262a64233df1f8d]\n",
       "class E6--><a href=\"psysml:a2bd922e-3e40-42bd-80e3-ecb5a548758e\" target=\"_top\" title=\"psysml:a2bd922e-3e40-42bd-80e3-ecb5a548758e\" xlink:actuate=\"onRequest\" xlink:href=\"psysml:a2bd922e-3e40-42bd-80e3-ecb5a548758e\" xlink:show=\"new\" xlink:title=\"psysml:a2bd922e-3e40-42bd-80e3-ecb5a548758e\" xlink:type=\"simple\"><rect fill=\"#FFFFFF\" height=\"88.3516\" id=\"E6\" rx=\"10\" ry=\"10\" style=\"stroke: #383838; stroke-width: 1.5;\" width=\"63\" x=\"287.5\" y=\"285\"/><text fill=\"#000000\" font-family=\"sans-serif\" font-size=\"12\" font-style=\"italic\" lengthAdjust=\"spacingAndGlyphs\" textLength=\"40\" x=\"299\" y=\"301.1387\">«part»</text><text fill=\"#000000\" font-family=\"sans-serif\" font-size=\"12\" lengthAdjust=\"spacingAndGlyphs\" textLength=\"23\" x=\"307.5\" y=\"315.1074\">x: Q</text><line style=\"stroke: #383838; stroke-width: 1.5;\" x1=\"288.5\" x2=\"349.5\" y1=\"322.9375\" y2=\"322.9375\"/><text fill=\"#000000\" font-family=\"sans-serif\" font-size=\"11\" lengthAdjust=\"spacingAndGlyphs\" textLength=\"23\" x=\"293.5\" y=\"353.9526\">b: B</text><text fill=\"#000000\" font-family=\"sans-serif\" font-size=\"11\" font-style=\"italic\" lengthAdjust=\"spacingAndGlyphs\" textLength=\"44\" x=\"293.5\" y=\"366.7573\">:&gt;&gt;P::a</text><line style=\"stroke: #383838; stroke-width: 1.0;\" x1=\"288.5\" x2=\"291.5\" y1=\"337.3398\" y2=\"337.3398\"/><text fill=\"#000000\" font-family=\"sans-serif\" font-size=\"11\" lengthAdjust=\"spacingAndGlyphs\" textLength=\"55\" x=\"291.5\" y=\"340.6479\">attributes</text><line style=\"stroke: #383838; stroke-width: 1.0;\" x1=\"346.5\" x2=\"349.5\" y1=\"337.3398\" y2=\"337.3398\"/></a><!--MD5=[2156ba9850f5573cc1fc38a6a4b2f02b]\n",
       "class E7--><a href=\"psysml:84f1cc81-1e5a-4a4b-9822-237c593dc1ed\" target=\"_top\" title=\"psysml:84f1cc81-1e5a-4a4b-9822-237c593dc1ed\" xlink:actuate=\"onRequest\" xlink:href=\"psysml:84f1cc81-1e5a-4a4b-9822-237c593dc1ed\" xlink:show=\"new\" xlink:title=\"psysml:84f1cc81-1e5a-4a4b-9822-237c593dc1ed\" xlink:type=\"simple\"><rect fill=\"#FFFFFF\" height=\"45.9375\" id=\"E7\" rx=\"10\" ry=\"10\" style=\"stroke: #383838; stroke-width: 1.5;\" width=\"42\" x=\"149\" y=\"41\"/><text fill=\"#000000\" font-family=\"sans-serif\" font-size=\"12\" font-style=\"italic\" lengthAdjust=\"spacingAndGlyphs\" textLength=\"40\" x=\"150\" y=\"57.1387\">«part»</text><text fill=\"#000000\" font-family=\"sans-serif\" font-size=\"12\" lengthAdjust=\"spacingAndGlyphs\" textLength=\"25\" x=\"157.5\" y=\"71.1074\">q: Q</text><line style=\"stroke: #383838; stroke-width: 1.5;\" x1=\"150\" x2=\"190\" y1=\"78.9375\" y2=\"78.9375\"/></a><!--MD5=[b9389687b975829384b498ac4b7476b2]\n",
       "class E8--><a href=\"psysml:d9c8c4c9-730a-472e-ad5c-9ed2548fca6c\" target=\"_top\" title=\"psysml:d9c8c4c9-730a-472e-ad5c-9ed2548fca6c\" xlink:actuate=\"onRequest\" xlink:href=\"psysml:d9c8c4c9-730a-472e-ad5c-9ed2548fca6c\" xlink:show=\"new\" xlink:title=\"psysml:d9c8c4c9-730a-472e-ad5c-9ed2548fca6c\" xlink:type=\"simple\"><rect fill=\"#FFFFFF\" height=\"59.9063\" id=\"E8\" rx=\"10\" ry=\"10\" style=\"stroke: #383838; stroke-width: 1.5;\" width=\"70\" x=\"32\" y=\"148\"/><text fill=\"#000000\" font-family=\"sans-serif\" font-size=\"12\" font-style=\"italic\" lengthAdjust=\"spacingAndGlyphs\" textLength=\"68\" x=\"33\" y=\"164.1387\">«variation»</text><text fill=\"#000000\" font-family=\"sans-serif\" font-size=\"12\" font-style=\"italic\" lengthAdjust=\"spacingAndGlyphs\" textLength=\"40\" x=\"47\" y=\"178.1074\">«part»</text><text fill=\"#000000\" font-family=\"sans-serif\" font-size=\"12\" lengthAdjust=\"spacingAndGlyphs\" textLength=\"22\" x=\"56\" y=\"192.0762\">v: P</text><line style=\"stroke: #383838; stroke-width: 1.5;\" x1=\"33\" x2=\"101\" y1=\"199.9063\" y2=\"199.9063\"/></a><!--MD5=[fd4143e9d270a159db93a4ea2a975926]\n",
       "class E9--><a href=\"psysml:29b56154-ee98-4bdd-852f-875051132018\" target=\"_top\" title=\"psysml:29b56154-ee98-4bdd-852f-875051132018\" xlink:actuate=\"onRequest\" xlink:href=\"psysml:29b56154-ee98-4bdd-852f-875051132018\" xlink:show=\"new\" xlink:title=\"psysml:29b56154-ee98-4bdd-852f-875051132018\" xlink:type=\"simple\"><rect fill=\"#FFFFFF\" height=\"88.3516\" id=\"E9\" rx=\"10\" ry=\"10\" style=\"stroke: #383838; stroke-width: 1.5;\" width=\"77\" x=\"32.5\" y=\"285\"/><text fill=\"#000000\" font-family=\"sans-serif\" font-size=\"12\" font-style=\"italic\" lengthAdjust=\"spacingAndGlyphs\" textLength=\"75\" x=\"33.5\" y=\"301.1387\">«reference»</text><text fill=\"#000000\" font-family=\"sans-serif\" font-size=\"12\" lengthAdjust=\"spacingAndGlyphs\" textLength=\"8\" x=\"67\" y=\"315.1074\">q</text><line style=\"stroke: #383838; stroke-width: 1.5;\" x1=\"33.5\" x2=\"108.5\" y1=\"322.9375\" y2=\"322.9375\"/><text fill=\"#000000\" font-family=\"sans-serif\" font-size=\"11\" lengthAdjust=\"spacingAndGlyphs\" textLength=\"23\" x=\"38.5\" y=\"353.9526\">b: B</text><text fill=\"#000000\" font-family=\"sans-serif\" font-size=\"11\" font-style=\"italic\" lengthAdjust=\"spacingAndGlyphs\" textLength=\"44\" x=\"38.5\" y=\"366.7573\">:&gt;&gt;P::a</text><line style=\"stroke: #383838; stroke-width: 1.0;\" x1=\"33.5\" x2=\"43.5\" y1=\"337.3398\" y2=\"337.3398\"/><text fill=\"#000000\" font-family=\"sans-serif\" font-size=\"11\" lengthAdjust=\"spacingAndGlyphs\" textLength=\"55\" x=\"43.5\" y=\"340.6479\">attributes</text><line style=\"stroke: #383838; stroke-width: 1.0;\" x1=\"98.5\" x2=\"108.5\" y1=\"337.3398\" y2=\"337.3398\"/></a><!--MD5=[96f4274e9e20536e775497830990834d]\n",
       "class E10--><a href=\"psysml:e49f0805-0747-4902-8d4f-55ae479a1338\" target=\"_top\" title=\"psysml:e49f0805-0747-4902-8d4f-55ae479a1338\" xlink:actuate=\"onRequest\" xlink:href=\"psysml:e49f0805-0747-4902-8d4f-55ae479a1338\" xlink:show=\"new\" xlink:title=\"psysml:e49f0805-0747-4902-8d4f-55ae479a1338\" xlink:type=\"simple\"><rect fill=\"#FFFFFF\" height=\"45.9375\" id=\"E10\" rx=\"10\" ry=\"10\" style=\"stroke: #383838; stroke-width: 1.5;\" width=\"42\" x=\"238\" y=\"155\"/><text fill=\"#000000\" font-family=\"sans-serif\" font-size=\"12\" font-style=\"italic\" lengthAdjust=\"spacingAndGlyphs\" textLength=\"40\" x=\"239\" y=\"171.1387\">«part»</text><text fill=\"#000000\" font-family=\"sans-serif\" font-size=\"12\" lengthAdjust=\"spacingAndGlyphs\" textLength=\"22\" x=\"248\" y=\"185.1074\">y: P</text><line style=\"stroke: #383838; stroke-width: 1.5;\" x1=\"239\" x2=\"279\" y1=\"192.9375\" y2=\"192.9375\"/></a><!--MD5=[05d275557350bfb9b23a4ef7222b4c39]\n",
       "link E3 to E2--><a href=\"psysml:f79594a1-bc1c-4f37-98e7-b8999b5b3daa\" target=\"_top\" title=\"psysml:f79594a1-bc1c-4f37-98e7-b8999b5b3daa\" xlink:actuate=\"onRequest\" xlink:href=\"psysml:f79594a1-bc1c-4f37-98e7-b8999b5b3daa\" xlink:show=\"new\" xlink:title=\"psysml:f79594a1-bc1c-4f37-98e7-b8999b5b3daa\" xlink:type=\"simple\"><path d=\"M190.67,201.26 C190.67,201.26 190.67,270.73 190.67,270.73 \" fill=\"none\" id=\"E3-&gt;E2\" style=\"stroke: #383838; stroke-width: 1.0;\"/><polygon fill=\"none\" points=\"197.67,270.73,190.67,290.73,183.67,270.73,197.67,270.73\" style=\"stroke: #383838; stroke-width: 1.0;\"/></a><!--MD5=[15ebcb19ae302d9b601edb458606d402]\n",
       "link E5 to E2--><a href=\"psysml:e72a8b47-cfcf-460f-abbe-f19ffcddd547\" target=\"_top\" title=\"psysml:e72a8b47-cfcf-460f-abbe-f19ffcddd547\" xlink:actuate=\"onRequest\" xlink:href=\"psysml:e72a8b47-cfcf-460f-abbe-f19ffcddd547\" xlink:show=\"new\" xlink:title=\"psysml:e72a8b47-cfcf-460f-abbe-f19ffcddd547\" xlink:type=\"simple\"><path d=\"M326.83,201.22 C326.83,202.93 326.83,204 326.83,204 C326.83,204 222.33,204 222.33,204 C222.33,204 222.33,270.82 222.33,270.82 \" fill=\"none\" id=\"E5-&gt;E2\" style=\"stroke: #383838; stroke-width: 1.0;\"/><polygon fill=\"none\" points=\"229.33,270.82,222.33,290.82,215.33,270.82,229.33,270.82\" style=\"stroke: #383838; stroke-width: 1.0;\"/></a><!--MD5=[9120cf2e5df3bff93db8f754bbbc09b4]\n",
       "link E5 to E6--><a href=\"psysml:d1158e90-c200-41a0-bff8-4b2e6825fa74\" target=\"_top\" title=\"psysml:d1158e90-c200-41a0-bff8-4b2e6825fa74\" xlink:actuate=\"onRequest\" xlink:href=\"psysml:d1158e90-c200-41a0-bff8-4b2e6825fa74\" xlink:show=\"new\" xlink:title=\"psysml:d1158e90-c200-41a0-bff8-4b2e6825fa74\" xlink:type=\"simple\"><path d=\"M338.67,211.26 C338.67,211.26 338.67,274.72 338.67,274.72 \" fill=\"none\" id=\"E5-E6\" style=\"stroke: #383838; stroke-width: 1.0;\"/><polygon fill=\"#383838\" points=\"338.67,284.72,341.67,276.72,335.67,276.72,338.67,284.72\" style=\"stroke: #383838; stroke-width: 1.0;\"/><path d=\"M330.2128,204.3382 A9,9 0 0 0 347.1272 204.3382\" fill=\"none\" style=\"stroke: #383838; stroke-width: 1.5;\"/><text fill=\"#000000\" font-family=\"sans-serif\" font-size=\"13\" lengthAdjust=\"spacingAndGlyphs\" textLength=\"60\" x=\"320\" y=\"251.0669\">«variant»</text></a><!--MD5=[14ccda38c055a5c0da953d572bc50960]\n",
       "link E7 to E3--><a href=\"psysml:df5a11ab-14bd-474c-9e9f-2e0517640249\" target=\"_top\" title=\"psysml:df5a11ab-14bd-474c-9e9f-2e0517640249\" xlink:actuate=\"onRequest\" xlink:href=\"psysml:df5a11ab-14bd-474c-9e9f-2e0517640249\" xlink:show=\"new\" xlink:title=\"psysml:df5a11ab-14bd-474c-9e9f-2e0517640249\" xlink:type=\"simple\"><path d=\"M170,87.07 C170,87.07 170,134.96 170,134.96 \" fill=\"none\" id=\"E7-&gt;E3\" style=\"stroke: #383838; stroke-width: 1.0;\"/><polygon fill=\"#FFFFFF\" points=\"170,154.96,163,135.96,177,135.96,170,154.96\" style=\"stroke: #383838; stroke-width: 1.0;\"/><ellipse cx=\"165\" cy=\"130.26\" fill=\"#383838\" rx=\"2\" ry=\"2\" style=\"stroke: #383838; stroke-width: 1.0;\"/><ellipse cx=\"175\" cy=\"130.26\" fill=\"#383838\" rx=\"2\" ry=\"2\" style=\"stroke: #383838; stroke-width: 1.0;\"/></a><!--MD5=[f1f3f9f2fc535e6147756cb86a7f2e32]\n",
       "link E8 to E2--><a href=\"psysml:108d975b-2613-446e-8683-bfdaec0afedf\" target=\"_top\" title=\"psysml:108d975b-2613-446e-8683-bfdaec0afedf\" xlink:actuate=\"onRequest\" xlink:href=\"psysml:108d975b-2613-446e-8683-bfdaec0afedf\" xlink:show=\"new\" xlink:title=\"psysml:108d975b-2613-446e-8683-bfdaec0afedf\" xlink:type=\"simple\"><path d=\"M102.23,206 C134.84,206 178.33,206 178.33,206 C178.33,206 178.33,270.76 178.33,270.76 \" fill=\"none\" id=\"E8-&gt;E2\" style=\"stroke: #383838; stroke-width: 1.0;\"/><polygon fill=\"#FFFFFF\" points=\"178.33,290.76,171.33,271.76,185.33,271.76,178.33,290.76\" style=\"stroke: #383838; stroke-width: 1.0;\"/><ellipse cx=\"173.33\" cy=\"266.06\" fill=\"#383838\" rx=\"2\" ry=\"2\" style=\"stroke: #383838; stroke-width: 1.0;\"/><ellipse cx=\"183.33\" cy=\"266.06\" fill=\"#383838\" rx=\"2\" ry=\"2\" style=\"stroke: #383838; stroke-width: 1.0;\"/></a><!--MD5=[ed10624c06dd9a4fa49ccf290e8b16a8]\n",
       "link E8 to E9--><a href=\"psysml:ebcdab70-773e-42b3-a4e9-8c7478e829d7\" target=\"_top\" title=\"psysml:ebcdab70-773e-42b3-a4e9-8c7478e829d7\" xlink:actuate=\"onRequest\" xlink:href=\"psysml:ebcdab70-773e-42b3-a4e9-8c7478e829d7\" xlink:show=\"new\" xlink:title=\"psysml:ebcdab70-773e-42b3-a4e9-8c7478e829d7\" xlink:type=\"simple\"><path d=\"M67.25,218.19 C67.25,218.19 67.25,274.83 67.25,274.83 \" fill=\"none\" id=\"E8-E9\" style=\"stroke: #383838; stroke-width: 1.0;\"/><polygon fill=\"#383838\" points=\"67.25,284.83,70.25,276.83,64.25,276.83,67.25,284.83\" style=\"stroke: #383838; stroke-width: 1.0;\"/><path d=\"M58.7928,211.2682 A9,9 0 0 0 75.7072 211.2682\" fill=\"none\" style=\"stroke: #383838; stroke-width: 1.5;\"/><text fill=\"#000000\" font-family=\"sans-serif\" font-size=\"13\" lengthAdjust=\"spacingAndGlyphs\" textLength=\"60\" x=\"70\" y=\"251.0669\">«variant»</text></a><!--MD5=[0f36bececdf0dff6e600d6f64214b0f1]\n",
       "link E10 to E2--><a href=\"psysml:967d0111-ba43-4736-bbbb-a2fd42e2431e\" target=\"_top\" title=\"psysml:967d0111-ba43-4736-bbbb-a2fd42e2431e\" xlink:actuate=\"onRequest\" xlink:href=\"psysml:967d0111-ba43-4736-bbbb-a2fd42e2431e\" xlink:show=\"new\" xlink:title=\"psysml:967d0111-ba43-4736-bbbb-a2fd42e2431e\" xlink:type=\"simple\"><path d=\"M237.73,178 C225.55,178 212.67,178 212.67,178 C212.67,178 212.67,270.9 212.67,270.9 \" fill=\"none\" id=\"E10-&gt;E2\" style=\"stroke: #383838; stroke-width: 1.0;\"/><polygon fill=\"#FFFFFF\" points=\"212.67,290.9,205.67,271.9,219.67,271.9,212.67,290.9\" style=\"stroke: #383838; stroke-width: 1.0;\"/><ellipse cx=\"207.67\" cy=\"266.2\" fill=\"#383838\" rx=\"2\" ry=\"2\" style=\"stroke: #383838; stroke-width: 1.0;\"/><ellipse cx=\"217.67\" cy=\"266.2\" fill=\"#383838\" rx=\"2\" ry=\"2\" style=\"stroke: #383838; stroke-width: 1.0;\"/></a><!--MD5=[5ec15d3a144e4323120a22bcfb4c16fc]\n",
       "@startuml\r\n",
       "skinparam linetype ortho\r\n",
       "skinparam monochrome true\r\n",
       "skinparam classbackgroundcolor white\r\n",
       "skinparam shadowing false\r\n",
       "skinparam wrapWidth 300\r\n",
       "hide circle\r\n",
       "\r\n",
       "package \"VariabilityTest\" as E1  [[psysml:6fd2d067-8ada-4ea8-9732-021f5438b424 ]]  {\r\n",
       "comp def \"P\" as E2  <<(T,blue) part def>> [[psysml:06c5c105-f179-4f9c-9acd-25394b323f4d ]] {\r\n",
       "- - attributes - -\r\n",
       "a\r\n",
       "}\r\n",
       "comp def \"Q\" as E3  <<(T,blue) part def>> [[psysml:dc55669e-d547-41b4-94bf-d6c68c80b885 ]] {\r\n",
       "}\r\n",
       "comp def \"B\" as E4  <<(T,blue) attribute def>> [[psysml:18777e48-4bd6-4ac5-98df-f6aab0b7358e ]] {\r\n",
       "}\r\n",
       "comp def \"V\" as E5  <<(T,blue) part def>> [[psysml:b19cdb52-b52e-4af3-afe9-4ea29743154a ]] {\r\n",
       "}\r\n",
       "comp usage \"x: Q\" as E6  <<(T,blue) part>> [[psysml:a2bd922e-3e40-42bd-80e3-ecb5a548758e ]] {\r\n",
       "- - attributes - -\r\n",
       "b: B\\n//:>>P::a// \r\n",
       "}\r\n",
       "comp usage \"q: Q\" as E7  <<(T,blue) part>> [[psysml:84f1cc81-1e5a-4a4b-9822-237c593dc1ed ]] {\r\n",
       "}\r\n",
       "comp usage \"v: P\" as E8  <<variation>>\\n <<(T,blue) part>> [[psysml:d9c8c4c9-730a-472e-ad5c-9ed2548fca6c ]] {\r\n",
       "}\r\n",
       "comp usage \"q\" as E9  <<(T,blue) reference>> [[psysml:29b56154-ee98-4bdd-852f-875051132018 ]] {\r\n",
       "- - attributes - -\r\n",
       "b: B\\n//:>>P::a// \r\n",
       "}\r\n",
       "comp usage \"y: P\" as E10  <<(T,blue) part>> [[psysml:e49f0805-0747-4902-8d4f-55ae479a1338 ]] {\r\n",
       "}\r\n",
       "}\r\n",
       "E3 - -|> E2 [[psysml:f79594a1-bc1c-4f37-98e7-b8999b5b3daa ]] \r\n",
       "E5 - -|> E2 [[psysml:e72a8b47-cfcf-460f-abbe-f19ffcddd547 ]] \r\n",
       "E5 )- ->> E6 [[psysml:d1158e90-c200-41a0-bff8-4b2e6825fa74 ]] : <<variant>>\r\n",
       "E7 - -:|> E3 [[psysml:df5a11ab-14bd-474c-9e9f-2e0517640249 ]] \r\n",
       "E8 - -:|> E2 [[psysml:108d975b-2613-446e-8683-bfdaec0afedf ]] \r\n",
       "E8 )- ->> E9 [[psysml:ebcdab70-773e-42b3-a4e9-8c7478e829d7 ]] : <<variant>>\r\n",
       "E10 - -:|> E2 [[psysml:967d0111-ba43-4736-bbbb-a2fd42e2431e ]] \r\n",
       "@enduml\r\n",
       "\n",
       "PlantUML version 1.2020.13(Sat Jun 13 12:26:38 UTC 2020)\n",
       "(EPL source distribution)\n",
       "Java Runtime: OpenJDK Runtime Environment\n",
       "JVM: OpenJDK 64-Bit Server VM\n",
       "Default Encoding: UTF-8\n",
       "Language: en\n",
       "Country: null\n",
       "--></g></svg>"
      ]
     },
     "execution_count": 57,
     "metadata": {},
     "output_type": "execute_result"
    }
   ],
   "source": [
    "%viz --style=\"ORTHOLINE\" --view=\"MIXED\" \"VariabilityTest\""
   ]
  }
 ],
 "metadata": {
  "kernelspec": {
   "display_name": "SysML",
   "language": "sysml",
   "name": "sysml"
  },
  "language_info": {
   "codemirror_mode": "sysml",
   "file_extension": ".sysml",
   "mimetype": "text/x-sysml",
   "name": "SysML",
   "pygments_lexer": "java",
   "version": "1.0.0"
  }
 },
 "nbformat": 4,
 "nbformat_minor": 5
}
