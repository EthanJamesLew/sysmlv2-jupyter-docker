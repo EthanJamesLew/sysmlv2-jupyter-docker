{
 "cells": [
  {
   "cell_type": "markdown",
   "id": "3ad59756",
   "metadata": {},
   "source": [
    "# SysML v2 Test Suite\n",
    "\n",
    "This can notebook can be cleared using menu `Edit --> Clear All Outputs` and then all cells can be\n",
    "run using menu `Run --> Run All Cells`.\n",
    "\n",
    "**WARNING**: This file is generated, all modifications here will be ignored.\n"
   ]
  },
  {
   "cell_type": "markdown",
   "id": "57fd57bd",
   "metadata": {},
   "source": [
    "## File: ../../sysml/src/examples/Simple Tests/VariabilityTest.sysml"
   ]
  },
  {
   "cell_type": "code",
   "execution_count": 1,
   "id": "41f768e7",
   "metadata": {
    "execution": {
     "iopub.execute_input": "2021-08-04T06:26:46.913735Z",
     "iopub.status.busy": "2021-08-04T06:26:46.912558Z",
     "iopub.status.idle": "2021-08-04T06:26:47.142522Z",
     "shell.execute_reply": "2021-08-04T06:26:47.142705Z"
    }
   },
   "outputs": [
    {
     "data": {
      "text/plain": [
       "Package VariabilityTest (6e676c08-61d7-4616-ba0d-7e4a6fb5835d)\n"
      ]
     },
     "execution_count": 1,
     "metadata": {},
     "output_type": "execute_result"
    }
   ],
   "source": [
    "package VariabilityTest {\n",
    "\tpart def P {\n",
    "\t\tattribute a;\n",
    "\t}\n",
    "\t\n",
    "\tpart def Q :> P;\n",
    "\tattribute def B;\n",
    "\tvariation part def V :> P {\n",
    "\t\tvariant part x : Q {\n",
    "\t\t\tattribute b : B :>> a;\n",
    "\t\t}\n",
    "\t}\n",
    "\t\n",
    "\tpart q : Q;\n",
    "\tvariation part v : P {\n",
    "\t\tvariant q {\n",
    "\t\t\tattribute b : B :>> a;\n",
    "\t\t}\n",
    "\t}\n",
    "\t\n",
    "\tpart y : P = v::q;\n",
    "}"
   ]
  },
  {
   "cell_type": "code",
   "execution_count": 2,
   "id": "655cf2d4",
   "metadata": {
    "execution": {
     "iopub.execute_input": "2021-08-04T06:26:47.193610Z",
     "iopub.status.busy": "2021-08-04T06:26:47.193362Z",
     "iopub.status.idle": "2021-08-04T06:26:47.647134Z",
     "shell.execute_reply": "2021-08-04T06:26:47.645895Z"
    }
   },
   "outputs": [
    {
     "data": {
      "image/svg+xml": [
       "<?xml version=\"1.0\" encoding=\"UTF-8\" standalone=\"no\"?><svg xmlns=\"http://www.w3.org/2000/svg\" xmlns:xlink=\"http://www.w3.org/1999/xlink\" contentScriptType=\"application/ecmascript\" contentStyleType=\"text/css\" height=\"401px\" preserveAspectRatio=\"none\" style=\"width:419px;height:401px;\" version=\"1.1\" viewBox=\"0 0 419 401\" width=\"419px\" zoomAndPan=\"magnify\"><defs/><g><!--MD5=[fbc87193dbaf4d95561dea2c320d4a47]\n",
       "cluster E1--><a href=\"psysml:6e13bc12-600f-4176-9ee3-c77c18f0da6f\" target=\"_top\" title=\"psysml:6e13bc12-600f-4176-9ee3-c77c18f0da6f\" xlink:actuate=\"onRequest\" xlink:href=\"psysml:6e13bc12-600f-4176-9ee3-c77c18f0da6f\" xlink:show=\"new\" xlink:title=\"psysml:6e13bc12-600f-4176-9ee3-c77c18f0da6f\" xlink:type=\"simple\"><polygon fill=\"#FFFFFF\" points=\"16,6,134,6,141,28.2969,397,28.2969,397,389,16,389,16,6\" style=\"stroke: #000000; stroke-width: 1.5;\"/><line style=\"stroke: #000000; stroke-width: 1.5;\" x1=\"16\" x2=\"141\" y1=\"28.2969\" y2=\"28.2969\"/><text fill=\"#000000\" font-family=\"sans-serif\" font-size=\"14\" font-weight=\"bold\" lengthAdjust=\"spacingAndGlyphs\" textLength=\"112\" x=\"20\" y=\"20.9951\">VariabilityTest</text></a><!--MD5=[b4997ac47864f28c2f74865a473b2911]\n",
       "class E2--><a href=\"psysml:a47e4883-53c6-48e5-9729-358fb18738b5\" target=\"_top\" title=\"psysml:a47e4883-53c6-48e5-9729-358fb18738b5\" xlink:actuate=\"onRequest\" xlink:href=\"psysml:a47e4883-53c6-48e5-9729-358fb18738b5\" xlink:show=\"new\" xlink:title=\"psysml:a47e4883-53c6-48e5-9729-358fb18738b5\" xlink:type=\"simple\"><rect fill=\"#FFFFFF\" height=\"75.5469\" id=\"E2\" style=\"stroke: #383838; stroke-width: 1.5;\" width=\"66\" x=\"166\" y=\"291\"/><text fill=\"#000000\" font-family=\"sans-serif\" font-size=\"12\" font-style=\"italic\" lengthAdjust=\"spacingAndGlyphs\" textLength=\"64\" x=\"167\" y=\"307.1387\">«part def»</text><text fill=\"#000000\" font-family=\"sans-serif\" font-size=\"12\" lengthAdjust=\"spacingAndGlyphs\" textLength=\"8\" x=\"195\" y=\"321.1074\">P</text><line style=\"stroke: #383838; stroke-width: 1.5;\" x1=\"167\" x2=\"231\" y1=\"328.9375\" y2=\"328.9375\"/><text fill=\"#000000\" font-family=\"sans-serif\" font-size=\"11\" lengthAdjust=\"spacingAndGlyphs\" textLength=\"7\" x=\"172\" y=\"359.9526\">a</text><line style=\"stroke: #383838; stroke-width: 1.0;\" x1=\"167\" x2=\"171.5\" y1=\"343.3398\" y2=\"343.3398\"/><text fill=\"#000000\" font-family=\"sans-serif\" font-size=\"11\" lengthAdjust=\"spacingAndGlyphs\" textLength=\"55\" x=\"171.5\" y=\"346.6479\">attributes</text><line style=\"stroke: #383838; stroke-width: 1.0;\" x1=\"226.5\" x2=\"231\" y1=\"343.3398\" y2=\"343.3398\"/></a><!--MD5=[09b614a08d8cba4a07c9adeb5e0fee81]\n",
       "class E3--><a href=\"psysml:64152dcd-188c-4285-9d2f-82b4222731ff\" target=\"_top\" title=\"psysml:64152dcd-188c-4285-9d2f-82b4222731ff\" xlink:actuate=\"onRequest\" xlink:href=\"psysml:64152dcd-188c-4285-9d2f-82b4222731ff\" xlink:show=\"new\" xlink:title=\"psysml:64152dcd-188c-4285-9d2f-82b4222731ff\" xlink:type=\"simple\"><rect fill=\"#FFFFFF\" height=\"45.9375\" id=\"E3\" style=\"stroke: #383838; stroke-width: 1.5;\" width=\"66\" x=\"137\" y=\"155\"/><text fill=\"#000000\" font-family=\"sans-serif\" font-size=\"12\" font-style=\"italic\" lengthAdjust=\"spacingAndGlyphs\" textLength=\"64\" x=\"138\" y=\"171.1387\">«part def»</text><text fill=\"#000000\" font-family=\"sans-serif\" font-size=\"12\" lengthAdjust=\"spacingAndGlyphs\" textLength=\"9\" x=\"165.5\" y=\"185.1074\">Q</text><line style=\"stroke: #383838; stroke-width: 1.5;\" x1=\"138\" x2=\"202\" y1=\"192.9375\" y2=\"192.9375\"/></a><!--MD5=[ebbe1d658d1005bcc118a6aa81145e00]\n",
       "class E4--><a href=\"psysml:6204c3f0-143a-45cc-ac58-9ea86a3a8ea6\" target=\"_top\" title=\"psysml:6204c3f0-143a-45cc-ac58-9ea86a3a8ea6\" xlink:actuate=\"onRequest\" xlink:href=\"psysml:6204c3f0-143a-45cc-ac58-9ea86a3a8ea6\" xlink:show=\"new\" xlink:title=\"psysml:6204c3f0-143a-45cc-ac58-9ea86a3a8ea6\" xlink:type=\"simple\"><rect fill=\"#FFFFFF\" height=\"45.9375\" id=\"E4\" style=\"stroke: #383838; stroke-width: 1.5;\" width=\"95\" x=\"255.5\" y=\"41\"/><text fill=\"#000000\" font-family=\"sans-serif\" font-size=\"12\" font-style=\"italic\" lengthAdjust=\"spacingAndGlyphs\" textLength=\"93\" x=\"256.5\" y=\"57.1387\">«attribute def»</text><text fill=\"#000000\" font-family=\"sans-serif\" font-size=\"12\" lengthAdjust=\"spacingAndGlyphs\" textLength=\"8\" x=\"299\" y=\"71.1074\">B</text><line style=\"stroke: #383838; stroke-width: 1.5;\" x1=\"256.5\" x2=\"349.5\" y1=\"78.9375\" y2=\"78.9375\"/></a><!--MD5=[270fce915f116d4de14055a7c1d9a0f3]\n",
       "class E5--><a href=\"psysml:58826ca2-a740-4eaa-a71e-521b590388a3\" target=\"_top\" title=\"psysml:58826ca2-a740-4eaa-a71e-521b590388a3\" xlink:actuate=\"onRequest\" xlink:href=\"psysml:58826ca2-a740-4eaa-a71e-521b590388a3\" xlink:show=\"new\" xlink:title=\"psysml:58826ca2-a740-4eaa-a71e-521b590388a3\" xlink:type=\"simple\"><rect fill=\"#FFFFFF\" height=\"45.9375\" id=\"E5\" style=\"stroke: #383838; stroke-width: 1.5;\" width=\"66\" x=\"315\" y=\"155\"/><text fill=\"#000000\" font-family=\"sans-serif\" font-size=\"12\" font-style=\"italic\" lengthAdjust=\"spacingAndGlyphs\" textLength=\"64\" x=\"316\" y=\"171.1387\">«part def»</text><text fill=\"#000000\" font-family=\"sans-serif\" font-size=\"12\" lengthAdjust=\"spacingAndGlyphs\" textLength=\"8\" x=\"344\" y=\"185.1074\">V</text><line style=\"stroke: #383838; stroke-width: 1.5;\" x1=\"316\" x2=\"380\" y1=\"192.9375\" y2=\"192.9375\"/></a><!--MD5=[60a26617385b1d2d0262a64233df1f8d]\n",
       "class E6--><a href=\"psysml:c2df0e2e-5a66-4a2b-abfc-b3b4dd7dd2c5\" target=\"_top\" title=\"psysml:c2df0e2e-5a66-4a2b-abfc-b3b4dd7dd2c5\" xlink:actuate=\"onRequest\" xlink:href=\"psysml:c2df0e2e-5a66-4a2b-abfc-b3b4dd7dd2c5\" xlink:show=\"new\" xlink:title=\"psysml:c2df0e2e-5a66-4a2b-abfc-b3b4dd7dd2c5\" xlink:type=\"simple\"><rect fill=\"#FFFFFF\" height=\"88.3516\" id=\"E6\" rx=\"10\" ry=\"10\" style=\"stroke: #383838; stroke-width: 1.5;\" width=\"63\" x=\"287.5\" y=\"285\"/><text fill=\"#000000\" font-family=\"sans-serif\" font-size=\"12\" font-style=\"italic\" lengthAdjust=\"spacingAndGlyphs\" textLength=\"40\" x=\"299\" y=\"301.1387\">«part»</text><text fill=\"#000000\" font-family=\"sans-serif\" font-size=\"12\" lengthAdjust=\"spacingAndGlyphs\" textLength=\"23\" x=\"307.5\" y=\"315.1074\">x: Q</text><line style=\"stroke: #383838; stroke-width: 1.5;\" x1=\"288.5\" x2=\"349.5\" y1=\"322.9375\" y2=\"322.9375\"/><text fill=\"#000000\" font-family=\"sans-serif\" font-size=\"11\" lengthAdjust=\"spacingAndGlyphs\" textLength=\"23\" x=\"293.5\" y=\"353.9526\">b: B</text><text fill=\"#000000\" font-family=\"sans-serif\" font-size=\"11\" font-style=\"italic\" lengthAdjust=\"spacingAndGlyphs\" textLength=\"44\" x=\"293.5\" y=\"366.7573\">:&gt;&gt;P::a</text><line style=\"stroke: #383838; stroke-width: 1.0;\" x1=\"288.5\" x2=\"291.5\" y1=\"337.3398\" y2=\"337.3398\"/><text fill=\"#000000\" font-family=\"sans-serif\" font-size=\"11\" lengthAdjust=\"spacingAndGlyphs\" textLength=\"55\" x=\"291.5\" y=\"340.6479\">attributes</text><line style=\"stroke: #383838; stroke-width: 1.0;\" x1=\"346.5\" x2=\"349.5\" y1=\"337.3398\" y2=\"337.3398\"/></a><!--MD5=[2156ba9850f5573cc1fc38a6a4b2f02b]\n",
       "class E7--><a href=\"psysml:d5aa7800-4c4d-4a74-9f82-8c5d7377a367\" target=\"_top\" title=\"psysml:d5aa7800-4c4d-4a74-9f82-8c5d7377a367\" xlink:actuate=\"onRequest\" xlink:href=\"psysml:d5aa7800-4c4d-4a74-9f82-8c5d7377a367\" xlink:show=\"new\" xlink:title=\"psysml:d5aa7800-4c4d-4a74-9f82-8c5d7377a367\" xlink:type=\"simple\"><rect fill=\"#FFFFFF\" height=\"45.9375\" id=\"E7\" rx=\"10\" ry=\"10\" style=\"stroke: #383838; stroke-width: 1.5;\" width=\"42\" x=\"149\" y=\"41\"/><text fill=\"#000000\" font-family=\"sans-serif\" font-size=\"12\" font-style=\"italic\" lengthAdjust=\"spacingAndGlyphs\" textLength=\"40\" x=\"150\" y=\"57.1387\">«part»</text><text fill=\"#000000\" font-family=\"sans-serif\" font-size=\"12\" lengthAdjust=\"spacingAndGlyphs\" textLength=\"25\" x=\"157.5\" y=\"71.1074\">q: Q</text><line style=\"stroke: #383838; stroke-width: 1.5;\" x1=\"150\" x2=\"190\" y1=\"78.9375\" y2=\"78.9375\"/></a><!--MD5=[b9389687b975829384b498ac4b7476b2]\n",
       "class E8--><a href=\"psysml:d7b3804f-80e3-4381-979e-bf8e2501fba8\" target=\"_top\" title=\"psysml:d7b3804f-80e3-4381-979e-bf8e2501fba8\" xlink:actuate=\"onRequest\" xlink:href=\"psysml:d7b3804f-80e3-4381-979e-bf8e2501fba8\" xlink:show=\"new\" xlink:title=\"psysml:d7b3804f-80e3-4381-979e-bf8e2501fba8\" xlink:type=\"simple\"><rect fill=\"#FFFFFF\" height=\"59.9063\" id=\"E8\" rx=\"10\" ry=\"10\" style=\"stroke: #383838; stroke-width: 1.5;\" width=\"70\" x=\"32\" y=\"148\"/><text fill=\"#000000\" font-family=\"sans-serif\" font-size=\"12\" font-style=\"italic\" lengthAdjust=\"spacingAndGlyphs\" textLength=\"68\" x=\"33\" y=\"164.1387\">«variation»</text><text fill=\"#000000\" font-family=\"sans-serif\" font-size=\"12\" font-style=\"italic\" lengthAdjust=\"spacingAndGlyphs\" textLength=\"40\" x=\"47\" y=\"178.1074\">«part»</text><text fill=\"#000000\" font-family=\"sans-serif\" font-size=\"12\" lengthAdjust=\"spacingAndGlyphs\" textLength=\"22\" x=\"56\" y=\"192.0762\">v: P</text><line style=\"stroke: #383838; stroke-width: 1.5;\" x1=\"33\" x2=\"101\" y1=\"199.9063\" y2=\"199.9063\"/></a><!--MD5=[fd4143e9d270a159db93a4ea2a975926]\n",
       "class E9--><a href=\"psysml:aeeab6cc-3339-44ed-a45c-f65a5d97c376\" target=\"_top\" title=\"psysml:aeeab6cc-3339-44ed-a45c-f65a5d97c376\" xlink:actuate=\"onRequest\" xlink:href=\"psysml:aeeab6cc-3339-44ed-a45c-f65a5d97c376\" xlink:show=\"new\" xlink:title=\"psysml:aeeab6cc-3339-44ed-a45c-f65a5d97c376\" xlink:type=\"simple\"><rect fill=\"#FFFFFF\" height=\"88.3516\" id=\"E9\" rx=\"10\" ry=\"10\" style=\"stroke: #383838; stroke-width: 1.5;\" width=\"77\" x=\"32.5\" y=\"285\"/><text fill=\"#000000\" font-family=\"sans-serif\" font-size=\"12\" font-style=\"italic\" lengthAdjust=\"spacingAndGlyphs\" textLength=\"75\" x=\"33.5\" y=\"301.1387\">«reference»</text><text fill=\"#000000\" font-family=\"sans-serif\" font-size=\"12\" lengthAdjust=\"spacingAndGlyphs\" textLength=\"8\" x=\"67\" y=\"315.1074\">q</text><line style=\"stroke: #383838; stroke-width: 1.5;\" x1=\"33.5\" x2=\"108.5\" y1=\"322.9375\" y2=\"322.9375\"/><text fill=\"#000000\" font-family=\"sans-serif\" font-size=\"11\" lengthAdjust=\"spacingAndGlyphs\" textLength=\"23\" x=\"38.5\" y=\"353.9526\">b: B</text><text fill=\"#000000\" font-family=\"sans-serif\" font-size=\"11\" font-style=\"italic\" lengthAdjust=\"spacingAndGlyphs\" textLength=\"44\" x=\"38.5\" y=\"366.7573\">:&gt;&gt;P::a</text><line style=\"stroke: #383838; stroke-width: 1.0;\" x1=\"33.5\" x2=\"43.5\" y1=\"337.3398\" y2=\"337.3398\"/><text fill=\"#000000\" font-family=\"sans-serif\" font-size=\"11\" lengthAdjust=\"spacingAndGlyphs\" textLength=\"55\" x=\"43.5\" y=\"340.6479\">attributes</text><line style=\"stroke: #383838; stroke-width: 1.0;\" x1=\"98.5\" x2=\"108.5\" y1=\"337.3398\" y2=\"337.3398\"/></a><!--MD5=[96f4274e9e20536e775497830990834d]\n",
       "class E10--><a href=\"psysml:fe63b1e8-840a-4f2e-b06a-2ce986f19d03\" target=\"_top\" title=\"psysml:fe63b1e8-840a-4f2e-b06a-2ce986f19d03\" xlink:actuate=\"onRequest\" xlink:href=\"psysml:fe63b1e8-840a-4f2e-b06a-2ce986f19d03\" xlink:show=\"new\" xlink:title=\"psysml:fe63b1e8-840a-4f2e-b06a-2ce986f19d03\" xlink:type=\"simple\"><rect fill=\"#FFFFFF\" height=\"45.9375\" id=\"E10\" rx=\"10\" ry=\"10\" style=\"stroke: #383838; stroke-width: 1.5;\" width=\"42\" x=\"238\" y=\"155\"/><text fill=\"#000000\" font-family=\"sans-serif\" font-size=\"12\" font-style=\"italic\" lengthAdjust=\"spacingAndGlyphs\" textLength=\"40\" x=\"239\" y=\"171.1387\">«part»</text><text fill=\"#000000\" font-family=\"sans-serif\" font-size=\"12\" lengthAdjust=\"spacingAndGlyphs\" textLength=\"22\" x=\"248\" y=\"185.1074\">y: P</text><line style=\"stroke: #383838; stroke-width: 1.5;\" x1=\"239\" x2=\"279\" y1=\"192.9375\" y2=\"192.9375\"/></a><!--MD5=[05d275557350bfb9b23a4ef7222b4c39]\n",
       "link E3 to E2--><a href=\"psysml:6495a820-e8c0-4129-af26-6722c3b7b9e6\" target=\"_top\" title=\"psysml:6495a820-e8c0-4129-af26-6722c3b7b9e6\" xlink:actuate=\"onRequest\" xlink:href=\"psysml:6495a820-e8c0-4129-af26-6722c3b7b9e6\" xlink:show=\"new\" xlink:title=\"psysml:6495a820-e8c0-4129-af26-6722c3b7b9e6\" xlink:type=\"simple\"><path d=\"M174.34,201.31 C177.92,219.67 183.15,246.54 187.87,270.81 \" fill=\"none\" id=\"E3-&gt;E2\" style=\"stroke: #383838; stroke-width: 1.0;\"/><polygon fill=\"none\" points=\"194.8,269.8,191.75,290.77,181.06,272.47,194.8,269.8\" style=\"stroke: #383838; stroke-width: 1.0;\"/></a><!--MD5=[15ebcb19ae302d9b601edb458606d402]\n",
       "link E5 to E2--><a href=\"psysml:bd00e4e7-d183-497a-b9f8-56660fc51e3e\" target=\"_top\" title=\"psysml:bd00e4e7-d183-497a-b9f8-56660fc51e3e\" xlink:actuate=\"onRequest\" xlink:href=\"psysml:bd00e4e7-d183-497a-b9f8-56660fc51e3e\" xlink:show=\"new\" xlink:title=\"psysml:bd00e4e7-d183-497a-b9f8-56660fc51e3e\" xlink:type=\"simple\"><path d=\"M325.69,201.31 C304.9,222.1 273.2,253.8 246.71,280.29 \" fill=\"none\" id=\"E5-&gt;E2\" style=\"stroke: #383838; stroke-width: 1.0;\"/><polygon fill=\"none\" points=\"251.33,285.57,232.24,294.76,241.43,275.67,251.33,285.57\" style=\"stroke: #383838; stroke-width: 1.0;\"/></a><!--MD5=[9120cf2e5df3bff93db8f754bbbc09b4]\n",
       "link E5 to E6--><a href=\"psysml:3ec706da-d65f-4ef5-8a1f-1e1b5df7e7c6\" target=\"_top\" title=\"psysml:3ec706da-d65f-4ef5-8a1f-1e1b5df7e7c6\" xlink:actuate=\"onRequest\" xlink:href=\"psysml:3ec706da-d65f-4ef5-8a1f-1e1b5df7e7c6\" xlink:show=\"new\" xlink:title=\"psysml:3ec706da-d65f-4ef5-8a1f-1e1b5df7e7c6\" xlink:type=\"simple\"><path d=\"M341.72,211.26 C338.1,229.85 333.47,253.68 329.32,274.95 \" fill=\"none\" id=\"E5-E6\" style=\"stroke: #383838; stroke-width: 1.0;\"/><polygon fill=\"#383838\" points=\"327.4,284.84,331.8761,277.5623,325.987,276.4136,327.4,284.84\" style=\"stroke: #383838; stroke-width: 1.0;\"/><path d=\"M334.7699,202.7122 A9,9 0 0 0 351.3715 205.9503\" fill=\"none\" style=\"stroke: #383838; stroke-width: 1.5;\"/><text fill=\"#000000\" font-family=\"sans-serif\" font-size=\"13\" lengthAdjust=\"spacingAndGlyphs\" textLength=\"60\" x=\"337\" y=\"251.0669\">«variant»</text></a><!--MD5=[14ccda38c055a5c0da953d572bc50960]\n",
       "link E7 to E3--><a href=\"psysml:9cf32953-475b-4011-b1f8-e7f09d5ce449\" target=\"_top\" title=\"psysml:9cf32953-475b-4011-b1f8-e7f09d5ce449\" xlink:actuate=\"onRequest\" xlink:href=\"psysml:9cf32953-475b-4011-b1f8-e7f09d5ce449\" xlink:show=\"new\" xlink:title=\"psysml:9cf32953-475b-4011-b1f8-e7f09d5ce449\" xlink:type=\"simple\"><path d=\"M170,87.13 C170,100.7 170,118.53 170,134.73 \" fill=\"none\" id=\"E7-&gt;E3\" style=\"stroke: #383838; stroke-width: 1.0;\"/><polygon fill=\"#FFFFFF\" points=\"170,154.92,163,135.92,177,135.92,170,154.92\" style=\"stroke: #383838; stroke-width: 1.0;\"/><ellipse cx=\"165\" cy=\"130.22\" fill=\"#383838\" rx=\"2\" ry=\"2\" style=\"stroke: #383838; stroke-width: 1.0;\"/><ellipse cx=\"175\" cy=\"130.22\" fill=\"#383838\" rx=\"2\" ry=\"2\" style=\"stroke: #383838; stroke-width: 1.0;\"/></a><!--MD5=[f1f3f9f2fc535e6147756cb86a7f2e32]\n",
       "link E8 to E2--><a href=\"psysml:d1a9bfbc-b159-49c1-a5ca-956a4881ee49\" target=\"_top\" title=\"psysml:d1a9bfbc-b159-49c1-a5ca-956a4881ee49\" xlink:actuate=\"onRequest\" xlink:href=\"psysml:d1a9bfbc-b159-49c1-a5ca-956a4881ee49\" xlink:show=\"new\" xlink:title=\"psysml:d1a9bfbc-b159-49c1-a5ca-956a4881ee49\" xlink:type=\"simple\"><path d=\"M102.17,204.39 C114.52,214.17 128.04,225.9 139,238 C148.86,248.88 158.29,261.5 166.63,273.79 \" fill=\"none\" id=\"E8-&gt;E2\" style=\"stroke: #383838; stroke-width: 1.0;\"/><polygon fill=\"#FFFFFF\" points=\"177.64,290.73,161.4168,278.6135,173.1555,270.9844,177.64,290.73\" style=\"stroke: #383838; stroke-width: 1.0;\"/><ellipse cx=\"159.9876\" cy=\"272.7443\" fill=\"#383838\" rx=\"2\" ry=\"2\" style=\"stroke: #383838; stroke-width: 1.0;\"/><ellipse cx=\"168.3724\" cy=\"267.2949\" fill=\"#383838\" rx=\"2\" ry=\"2\" style=\"stroke: #383838; stroke-width: 1.0;\"/></a><!--MD5=[ed10624c06dd9a4fa49ccf290e8b16a8]\n",
       "link E8 to E9--><a href=\"psysml:4574f674-7c12-4143-bfb7-6a6844a72e64\" target=\"_top\" title=\"psysml:4574f674-7c12-4143-bfb7-6a6844a72e64\" xlink:actuate=\"onRequest\" xlink:href=\"psysml:4574f674-7c12-4143-bfb7-6a6844a72e64\" xlink:show=\"new\" xlink:title=\"psysml:4574f674-7c12-4143-bfb7-6a6844a72e64\" xlink:type=\"simple\"><path d=\"M68.06,218.32 C68.52,235.6 69.07,256.15 69.57,274.77 \" fill=\"none\" id=\"E8-E9\" style=\"stroke: #383838; stroke-width: 1.0;\"/><polygon fill=\"#383838\" points=\"69.84,284.88,72.6331,276.8054,66.6351,276.9599,69.84,284.88\" style=\"stroke: #383838; stroke-width: 1.0;\"/><path d=\"M59.4094,211.3865 A9,9 0 0 0 76.3176 210.9276\" fill=\"none\" style=\"stroke: #383838; stroke-width: 1.5;\"/><text fill=\"#000000\" font-family=\"sans-serif\" font-size=\"13\" lengthAdjust=\"spacingAndGlyphs\" textLength=\"60\" x=\"70\" y=\"251.0669\">«variant»</text></a><!--MD5=[0f36bececdf0dff6e600d6f64214b0f1]\n",
       "link E10 to E2--><a href=\"psysml:bd829215-07d4-45cb-8fe9-60748d4dd682\" target=\"_top\" title=\"psysml:bd829215-07d4-45cb-8fe9-60748d4dd682\" xlink:actuate=\"onRequest\" xlink:href=\"psysml:bd829215-07d4-45cb-8fe9-60748d4dd682\" xlink:show=\"new\" xlink:title=\"psysml:bd829215-07d4-45cb-8fe9-60748d4dd682\" xlink:type=\"simple\"><path d=\"M250.02,201.31 C242.51,219.95 231.48,247.35 221.59,271.91 \" fill=\"none\" id=\"E10-&gt;E2\" style=\"stroke: #383838; stroke-width: 1.0;\"/><polygon fill=\"#FFFFFF\" points=\"213.99,290.77,214.5927,270.5305,227.5796,275.7593,213.99,290.77\" style=\"stroke: #383838; stroke-width: 1.0;\"/><ellipse cx=\"218.5768\" cy=\"265.9899\" fill=\"#383838\" rx=\"2\" ry=\"2\" style=\"stroke: #383838; stroke-width: 1.0;\"/><ellipse cx=\"227.8532\" cy=\"269.7248\" fill=\"#383838\" rx=\"2\" ry=\"2\" style=\"stroke: #383838; stroke-width: 1.0;\"/></a><!--MD5=[fef76c6cf378f8188780777283cff0c1]\n",
       "@startuml\r\n",
       " skinparam monochrome true\r\n",
       "skinparam classbackgroundcolor white\r\n",
       "skinparam shadowing false\r\n",
       "skinparam wrapWidth 300\r\n",
       "hide circle\r\n",
       "\r\n",
       "package \"VariabilityTest\" as E1  [[psysml:6e13bc12-600f-4176-9ee3-c77c18f0da6f ]]  {\r\n",
       "comp def \"P\" as E2  <<(T,blue) part def>> [[psysml:a47e4883-53c6-48e5-9729-358fb18738b5 ]] {\r\n",
       "- - attributes - -\r\n",
       "a\r\n",
       "}\r\n",
       "comp def \"Q\" as E3  <<(T,blue) part def>> [[psysml:64152dcd-188c-4285-9d2f-82b4222731ff ]] {\r\n",
       "}\r\n",
       "comp def \"B\" as E4  <<(T,blue) attribute def>> [[psysml:6204c3f0-143a-45cc-ac58-9ea86a3a8ea6 ]] {\r\n",
       "}\r\n",
       "comp def \"V\" as E5  <<(T,blue) part def>> [[psysml:58826ca2-a740-4eaa-a71e-521b590388a3 ]] {\r\n",
       "}\r\n",
       "comp usage \"x: Q\" as E6  <<(T,blue) part>> [[psysml:c2df0e2e-5a66-4a2b-abfc-b3b4dd7dd2c5 ]] {\r\n",
       "- - attributes - -\r\n",
       "b: B\\n//:>>P::a// \r\n",
       "}\r\n",
       "comp usage \"q: Q\" as E7  <<(T,blue) part>> [[psysml:d5aa7800-4c4d-4a74-9f82-8c5d7377a367 ]] {\r\n",
       "}\r\n",
       "comp usage \"v: P\" as E8  <<variation>>\\n <<(T,blue) part>> [[psysml:d7b3804f-80e3-4381-979e-bf8e2501fba8 ]] {\r\n",
       "}\r\n",
       "comp usage \"q\" as E9  <<(T,blue) reference>> [[psysml:aeeab6cc-3339-44ed-a45c-f65a5d97c376 ]] {\r\n",
       "- - attributes - -\r\n",
       "b: B\\n//:>>P::a// \r\n",
       "}\r\n",
       "comp usage \"y: P\" as E10  <<(T,blue) part>> [[psysml:fe63b1e8-840a-4f2e-b06a-2ce986f19d03 ]] {\r\n",
       "}\r\n",
       "E3 - -|> E2 [[psysml:6495a820-e8c0-4129-af26-6722c3b7b9e6 ]] \r\n",
       "E5 - -|> E2 [[psysml:bd00e4e7-d183-497a-b9f8-56660fc51e3e ]] \r\n",
       "E5 )- ->> E6 [[psysml:3ec706da-d65f-4ef5-8a1f-1e1b5df7e7c6 ]] : <<variant>>\r\n",
       "E7 - -:|> E3 [[psysml:9cf32953-475b-4011-b1f8-e7f09d5ce449 ]] \r\n",
       "E8 - -:|> E2 [[psysml:d1a9bfbc-b159-49c1-a5ca-956a4881ee49 ]] \r\n",
       "E8 )- ->> E9 [[psysml:4574f674-7c12-4143-bfb7-6a6844a72e64 ]] : <<variant>>\r\n",
       "E10 - -:|> E2 [[psysml:bd829215-07d4-45cb-8fe9-60748d4dd682 ]] \r\n",
       "}\r\n",
       "@enduml\r\n",
       "\n",
       "PlantUML version 1.2020.13(Sat Jun 13 12:26:38 UTC 2020)\n",
       "(EPL source distribution)\n",
       "Java Runtime: OpenJDK Runtime Environment\n",
       "JVM: OpenJDK 64-Bit Server VM\n",
       "Default Encoding: UTF-8\n",
       "Language: en\n",
       "Country: null\n",
       "--></g></svg>"
      ]
     },
     "execution_count": 2,
     "metadata": {},
     "output_type": "execute_result"
    }
   ],
   "source": [
    "%viz --style=\"COMPTREE\" --view=\"Default\" \"VariabilityTest\""
   ]
  },
  {
   "cell_type": "code",
   "execution_count": 3,
   "id": "403d5510",
   "metadata": {
    "execution": {
     "iopub.execute_input": "2021-08-04T06:26:47.697310Z",
     "iopub.status.busy": "2021-08-04T06:26:47.697047Z",
     "iopub.status.idle": "2021-08-04T06:26:47.816750Z",
     "shell.execute_reply": "2021-08-04T06:26:47.815120Z"
    }
   },
   "outputs": [
    {
     "data": {
      "image/svg+xml": [
       "<?xml version=\"1.0\" encoding=\"UTF-8\" standalone=\"no\"?><svg xmlns=\"http://www.w3.org/2000/svg\" xmlns:xlink=\"http://www.w3.org/1999/xlink\" contentScriptType=\"application/ecmascript\" contentStyleType=\"text/css\" height=\"401px\" preserveAspectRatio=\"none\" style=\"width:419px;height:401px;\" version=\"1.1\" viewBox=\"0 0 419 401\" width=\"419px\" zoomAndPan=\"magnify\"><defs/><g><!--MD5=[fbc87193dbaf4d95561dea2c320d4a47]\n",
       "cluster E1--><a href=\"psysml:6e13bc12-600f-4176-9ee3-c77c18f0da6f\" target=\"_top\" title=\"psysml:6e13bc12-600f-4176-9ee3-c77c18f0da6f\" xlink:actuate=\"onRequest\" xlink:href=\"psysml:6e13bc12-600f-4176-9ee3-c77c18f0da6f\" xlink:show=\"new\" xlink:title=\"psysml:6e13bc12-600f-4176-9ee3-c77c18f0da6f\" xlink:type=\"simple\"><polygon fill=\"#FFFFFF\" points=\"16,6,134,6,141,28.2969,397,28.2969,397,389,16,389,16,6\" style=\"stroke: #000000; stroke-width: 1.5;\"/><line style=\"stroke: #000000; stroke-width: 1.5;\" x1=\"16\" x2=\"141\" y1=\"28.2969\" y2=\"28.2969\"/><text fill=\"#000000\" font-family=\"sans-serif\" font-size=\"14\" font-weight=\"bold\" lengthAdjust=\"spacingAndGlyphs\" textLength=\"112\" x=\"20\" y=\"20.9951\">VariabilityTest</text></a><!--MD5=[b4997ac47864f28c2f74865a473b2911]\n",
       "class E2--><a href=\"psysml:a47e4883-53c6-48e5-9729-358fb18738b5\" target=\"_top\" title=\"psysml:a47e4883-53c6-48e5-9729-358fb18738b5\" xlink:actuate=\"onRequest\" xlink:href=\"psysml:a47e4883-53c6-48e5-9729-358fb18738b5\" xlink:show=\"new\" xlink:title=\"psysml:a47e4883-53c6-48e5-9729-358fb18738b5\" xlink:type=\"simple\"><rect fill=\"#FFFFFF\" height=\"75.5469\" id=\"E2\" style=\"stroke: #383838; stroke-width: 1.5;\" width=\"66\" x=\"166\" y=\"291\"/><text fill=\"#000000\" font-family=\"sans-serif\" font-size=\"12\" font-style=\"italic\" lengthAdjust=\"spacingAndGlyphs\" textLength=\"64\" x=\"167\" y=\"307.1387\">«part def»</text><text fill=\"#000000\" font-family=\"sans-serif\" font-size=\"12\" lengthAdjust=\"spacingAndGlyphs\" textLength=\"8\" x=\"195\" y=\"321.1074\">P</text><line style=\"stroke: #383838; stroke-width: 1.5;\" x1=\"167\" x2=\"231\" y1=\"328.9375\" y2=\"328.9375\"/><text fill=\"#000000\" font-family=\"sans-serif\" font-size=\"11\" lengthAdjust=\"spacingAndGlyphs\" textLength=\"7\" x=\"172\" y=\"359.9526\">a</text><line style=\"stroke: #383838; stroke-width: 1.0;\" x1=\"167\" x2=\"171.5\" y1=\"343.3398\" y2=\"343.3398\"/><text fill=\"#000000\" font-family=\"sans-serif\" font-size=\"11\" lengthAdjust=\"spacingAndGlyphs\" textLength=\"55\" x=\"171.5\" y=\"346.6479\">attributes</text><line style=\"stroke: #383838; stroke-width: 1.0;\" x1=\"226.5\" x2=\"231\" y1=\"343.3398\" y2=\"343.3398\"/></a><!--MD5=[09b614a08d8cba4a07c9adeb5e0fee81]\n",
       "class E3--><a href=\"psysml:64152dcd-188c-4285-9d2f-82b4222731ff\" target=\"_top\" title=\"psysml:64152dcd-188c-4285-9d2f-82b4222731ff\" xlink:actuate=\"onRequest\" xlink:href=\"psysml:64152dcd-188c-4285-9d2f-82b4222731ff\" xlink:show=\"new\" xlink:title=\"psysml:64152dcd-188c-4285-9d2f-82b4222731ff\" xlink:type=\"simple\"><rect fill=\"#FFFFFF\" height=\"45.9375\" id=\"E3\" style=\"stroke: #383838; stroke-width: 1.5;\" width=\"66\" x=\"137\" y=\"155\"/><text fill=\"#000000\" font-family=\"sans-serif\" font-size=\"12\" font-style=\"italic\" lengthAdjust=\"spacingAndGlyphs\" textLength=\"64\" x=\"138\" y=\"171.1387\">«part def»</text><text fill=\"#000000\" font-family=\"sans-serif\" font-size=\"12\" lengthAdjust=\"spacingAndGlyphs\" textLength=\"9\" x=\"165.5\" y=\"185.1074\">Q</text><line style=\"stroke: #383838; stroke-width: 1.5;\" x1=\"138\" x2=\"202\" y1=\"192.9375\" y2=\"192.9375\"/></a><!--MD5=[ebbe1d658d1005bcc118a6aa81145e00]\n",
       "class E4--><a href=\"psysml:6204c3f0-143a-45cc-ac58-9ea86a3a8ea6\" target=\"_top\" title=\"psysml:6204c3f0-143a-45cc-ac58-9ea86a3a8ea6\" xlink:actuate=\"onRequest\" xlink:href=\"psysml:6204c3f0-143a-45cc-ac58-9ea86a3a8ea6\" xlink:show=\"new\" xlink:title=\"psysml:6204c3f0-143a-45cc-ac58-9ea86a3a8ea6\" xlink:type=\"simple\"><rect fill=\"#FFFFFF\" height=\"45.9375\" id=\"E4\" style=\"stroke: #383838; stroke-width: 1.5;\" width=\"95\" x=\"255.5\" y=\"41\"/><text fill=\"#000000\" font-family=\"sans-serif\" font-size=\"12\" font-style=\"italic\" lengthAdjust=\"spacingAndGlyphs\" textLength=\"93\" x=\"256.5\" y=\"57.1387\">«attribute def»</text><text fill=\"#000000\" font-family=\"sans-serif\" font-size=\"12\" lengthAdjust=\"spacingAndGlyphs\" textLength=\"8\" x=\"299\" y=\"71.1074\">B</text><line style=\"stroke: #383838; stroke-width: 1.5;\" x1=\"256.5\" x2=\"349.5\" y1=\"78.9375\" y2=\"78.9375\"/></a><!--MD5=[270fce915f116d4de14055a7c1d9a0f3]\n",
       "class E5--><a href=\"psysml:58826ca2-a740-4eaa-a71e-521b590388a3\" target=\"_top\" title=\"psysml:58826ca2-a740-4eaa-a71e-521b590388a3\" xlink:actuate=\"onRequest\" xlink:href=\"psysml:58826ca2-a740-4eaa-a71e-521b590388a3\" xlink:show=\"new\" xlink:title=\"psysml:58826ca2-a740-4eaa-a71e-521b590388a3\" xlink:type=\"simple\"><rect fill=\"#FFFFFF\" height=\"45.9375\" id=\"E5\" style=\"stroke: #383838; stroke-width: 1.5;\" width=\"66\" x=\"315\" y=\"155\"/><text fill=\"#000000\" font-family=\"sans-serif\" font-size=\"12\" font-style=\"italic\" lengthAdjust=\"spacingAndGlyphs\" textLength=\"64\" x=\"316\" y=\"171.1387\">«part def»</text><text fill=\"#000000\" font-family=\"sans-serif\" font-size=\"12\" lengthAdjust=\"spacingAndGlyphs\" textLength=\"8\" x=\"344\" y=\"185.1074\">V</text><line style=\"stroke: #383838; stroke-width: 1.5;\" x1=\"316\" x2=\"380\" y1=\"192.9375\" y2=\"192.9375\"/></a><!--MD5=[60a26617385b1d2d0262a64233df1f8d]\n",
       "class E6--><a href=\"psysml:c2df0e2e-5a66-4a2b-abfc-b3b4dd7dd2c5\" target=\"_top\" title=\"psysml:c2df0e2e-5a66-4a2b-abfc-b3b4dd7dd2c5\" xlink:actuate=\"onRequest\" xlink:href=\"psysml:c2df0e2e-5a66-4a2b-abfc-b3b4dd7dd2c5\" xlink:show=\"new\" xlink:title=\"psysml:c2df0e2e-5a66-4a2b-abfc-b3b4dd7dd2c5\" xlink:type=\"simple\"><rect fill=\"#FFFFFF\" height=\"88.3516\" id=\"E6\" rx=\"10\" ry=\"10\" style=\"stroke: #383838; stroke-width: 1.5;\" width=\"63\" x=\"287.5\" y=\"285\"/><text fill=\"#000000\" font-family=\"sans-serif\" font-size=\"12\" font-style=\"italic\" lengthAdjust=\"spacingAndGlyphs\" textLength=\"40\" x=\"299\" y=\"301.1387\">«part»</text><text fill=\"#000000\" font-family=\"sans-serif\" font-size=\"12\" lengthAdjust=\"spacingAndGlyphs\" textLength=\"23\" x=\"307.5\" y=\"315.1074\">x: Q</text><line style=\"stroke: #383838; stroke-width: 1.5;\" x1=\"288.5\" x2=\"349.5\" y1=\"322.9375\" y2=\"322.9375\"/><text fill=\"#000000\" font-family=\"sans-serif\" font-size=\"11\" lengthAdjust=\"spacingAndGlyphs\" textLength=\"23\" x=\"293.5\" y=\"353.9526\">b: B</text><text fill=\"#000000\" font-family=\"sans-serif\" font-size=\"11\" font-style=\"italic\" lengthAdjust=\"spacingAndGlyphs\" textLength=\"44\" x=\"293.5\" y=\"366.7573\">:&gt;&gt;P::a</text><line style=\"stroke: #383838; stroke-width: 1.0;\" x1=\"288.5\" x2=\"291.5\" y1=\"337.3398\" y2=\"337.3398\"/><text fill=\"#000000\" font-family=\"sans-serif\" font-size=\"11\" lengthAdjust=\"spacingAndGlyphs\" textLength=\"55\" x=\"291.5\" y=\"340.6479\">attributes</text><line style=\"stroke: #383838; stroke-width: 1.0;\" x1=\"346.5\" x2=\"349.5\" y1=\"337.3398\" y2=\"337.3398\"/></a><!--MD5=[2156ba9850f5573cc1fc38a6a4b2f02b]\n",
       "class E7--><a href=\"psysml:d5aa7800-4c4d-4a74-9f82-8c5d7377a367\" target=\"_top\" title=\"psysml:d5aa7800-4c4d-4a74-9f82-8c5d7377a367\" xlink:actuate=\"onRequest\" xlink:href=\"psysml:d5aa7800-4c4d-4a74-9f82-8c5d7377a367\" xlink:show=\"new\" xlink:title=\"psysml:d5aa7800-4c4d-4a74-9f82-8c5d7377a367\" xlink:type=\"simple\"><rect fill=\"#FFFFFF\" height=\"45.9375\" id=\"E7\" rx=\"10\" ry=\"10\" style=\"stroke: #383838; stroke-width: 1.5;\" width=\"42\" x=\"149\" y=\"41\"/><text fill=\"#000000\" font-family=\"sans-serif\" font-size=\"12\" font-style=\"italic\" lengthAdjust=\"spacingAndGlyphs\" textLength=\"40\" x=\"150\" y=\"57.1387\">«part»</text><text fill=\"#000000\" font-family=\"sans-serif\" font-size=\"12\" lengthAdjust=\"spacingAndGlyphs\" textLength=\"25\" x=\"157.5\" y=\"71.1074\">q: Q</text><line style=\"stroke: #383838; stroke-width: 1.5;\" x1=\"150\" x2=\"190\" y1=\"78.9375\" y2=\"78.9375\"/></a><!--MD5=[b9389687b975829384b498ac4b7476b2]\n",
       "class E8--><a href=\"psysml:d7b3804f-80e3-4381-979e-bf8e2501fba8\" target=\"_top\" title=\"psysml:d7b3804f-80e3-4381-979e-bf8e2501fba8\" xlink:actuate=\"onRequest\" xlink:href=\"psysml:d7b3804f-80e3-4381-979e-bf8e2501fba8\" xlink:show=\"new\" xlink:title=\"psysml:d7b3804f-80e3-4381-979e-bf8e2501fba8\" xlink:type=\"simple\"><rect fill=\"#FFFFFF\" height=\"59.9063\" id=\"E8\" rx=\"10\" ry=\"10\" style=\"stroke: #383838; stroke-width: 1.5;\" width=\"70\" x=\"32\" y=\"148\"/><text fill=\"#000000\" font-family=\"sans-serif\" font-size=\"12\" font-style=\"italic\" lengthAdjust=\"spacingAndGlyphs\" textLength=\"68\" x=\"33\" y=\"164.1387\">«variation»</text><text fill=\"#000000\" font-family=\"sans-serif\" font-size=\"12\" font-style=\"italic\" lengthAdjust=\"spacingAndGlyphs\" textLength=\"40\" x=\"47\" y=\"178.1074\">«part»</text><text fill=\"#000000\" font-family=\"sans-serif\" font-size=\"12\" lengthAdjust=\"spacingAndGlyphs\" textLength=\"22\" x=\"56\" y=\"192.0762\">v: P</text><line style=\"stroke: #383838; stroke-width: 1.5;\" x1=\"33\" x2=\"101\" y1=\"199.9063\" y2=\"199.9063\"/></a><!--MD5=[fd4143e9d270a159db93a4ea2a975926]\n",
       "class E9--><a href=\"psysml:aeeab6cc-3339-44ed-a45c-f65a5d97c376\" target=\"_top\" title=\"psysml:aeeab6cc-3339-44ed-a45c-f65a5d97c376\" xlink:actuate=\"onRequest\" xlink:href=\"psysml:aeeab6cc-3339-44ed-a45c-f65a5d97c376\" xlink:show=\"new\" xlink:title=\"psysml:aeeab6cc-3339-44ed-a45c-f65a5d97c376\" xlink:type=\"simple\"><rect fill=\"#FFFFFF\" height=\"88.3516\" id=\"E9\" rx=\"10\" ry=\"10\" style=\"stroke: #383838; stroke-width: 1.5;\" width=\"77\" x=\"32.5\" y=\"285\"/><text fill=\"#000000\" font-family=\"sans-serif\" font-size=\"12\" font-style=\"italic\" lengthAdjust=\"spacingAndGlyphs\" textLength=\"75\" x=\"33.5\" y=\"301.1387\">«reference»</text><text fill=\"#000000\" font-family=\"sans-serif\" font-size=\"12\" lengthAdjust=\"spacingAndGlyphs\" textLength=\"8\" x=\"67\" y=\"315.1074\">q</text><line style=\"stroke: #383838; stroke-width: 1.5;\" x1=\"33.5\" x2=\"108.5\" y1=\"322.9375\" y2=\"322.9375\"/><text fill=\"#000000\" font-family=\"sans-serif\" font-size=\"11\" lengthAdjust=\"spacingAndGlyphs\" textLength=\"23\" x=\"38.5\" y=\"353.9526\">b: B</text><text fill=\"#000000\" font-family=\"sans-serif\" font-size=\"11\" font-style=\"italic\" lengthAdjust=\"spacingAndGlyphs\" textLength=\"44\" x=\"38.5\" y=\"366.7573\">:&gt;&gt;P::a</text><line style=\"stroke: #383838; stroke-width: 1.0;\" x1=\"33.5\" x2=\"43.5\" y1=\"337.3398\" y2=\"337.3398\"/><text fill=\"#000000\" font-family=\"sans-serif\" font-size=\"11\" lengthAdjust=\"spacingAndGlyphs\" textLength=\"55\" x=\"43.5\" y=\"340.6479\">attributes</text><line style=\"stroke: #383838; stroke-width: 1.0;\" x1=\"98.5\" x2=\"108.5\" y1=\"337.3398\" y2=\"337.3398\"/></a><!--MD5=[96f4274e9e20536e775497830990834d]\n",
       "class E10--><a href=\"psysml:fe63b1e8-840a-4f2e-b06a-2ce986f19d03\" target=\"_top\" title=\"psysml:fe63b1e8-840a-4f2e-b06a-2ce986f19d03\" xlink:actuate=\"onRequest\" xlink:href=\"psysml:fe63b1e8-840a-4f2e-b06a-2ce986f19d03\" xlink:show=\"new\" xlink:title=\"psysml:fe63b1e8-840a-4f2e-b06a-2ce986f19d03\" xlink:type=\"simple\"><rect fill=\"#FFFFFF\" height=\"45.9375\" id=\"E10\" rx=\"10\" ry=\"10\" style=\"stroke: #383838; stroke-width: 1.5;\" width=\"42\" x=\"238\" y=\"155\"/><text fill=\"#000000\" font-family=\"sans-serif\" font-size=\"12\" font-style=\"italic\" lengthAdjust=\"spacingAndGlyphs\" textLength=\"40\" x=\"239\" y=\"171.1387\">«part»</text><text fill=\"#000000\" font-family=\"sans-serif\" font-size=\"12\" lengthAdjust=\"spacingAndGlyphs\" textLength=\"22\" x=\"248\" y=\"185.1074\">y: P</text><line style=\"stroke: #383838; stroke-width: 1.5;\" x1=\"239\" x2=\"279\" y1=\"192.9375\" y2=\"192.9375\"/></a><!--MD5=[05d275557350bfb9b23a4ef7222b4c39]\n",
       "link E3 to E2--><a href=\"psysml:6495a820-e8c0-4129-af26-6722c3b7b9e6\" target=\"_top\" title=\"psysml:6495a820-e8c0-4129-af26-6722c3b7b9e6\" xlink:actuate=\"onRequest\" xlink:href=\"psysml:6495a820-e8c0-4129-af26-6722c3b7b9e6\" xlink:show=\"new\" xlink:title=\"psysml:6495a820-e8c0-4129-af26-6722c3b7b9e6\" xlink:type=\"simple\"><path d=\"M174.34,201.31 C177.92,219.67 183.15,246.54 187.87,270.81 \" fill=\"none\" id=\"E3-&gt;E2\" style=\"stroke: #383838; stroke-width: 1.0;\"/><polygon fill=\"none\" points=\"194.8,269.8,191.75,290.77,181.06,272.47,194.8,269.8\" style=\"stroke: #383838; stroke-width: 1.0;\"/></a><!--MD5=[15ebcb19ae302d9b601edb458606d402]\n",
       "link E5 to E2--><a href=\"psysml:bd00e4e7-d183-497a-b9f8-56660fc51e3e\" target=\"_top\" title=\"psysml:bd00e4e7-d183-497a-b9f8-56660fc51e3e\" xlink:actuate=\"onRequest\" xlink:href=\"psysml:bd00e4e7-d183-497a-b9f8-56660fc51e3e\" xlink:show=\"new\" xlink:title=\"psysml:bd00e4e7-d183-497a-b9f8-56660fc51e3e\" xlink:type=\"simple\"><path d=\"M325.69,201.31 C304.9,222.1 273.2,253.8 246.71,280.29 \" fill=\"none\" id=\"E5-&gt;E2\" style=\"stroke: #383838; stroke-width: 1.0;\"/><polygon fill=\"none\" points=\"251.33,285.57,232.24,294.76,241.43,275.67,251.33,285.57\" style=\"stroke: #383838; stroke-width: 1.0;\"/></a><!--MD5=[9120cf2e5df3bff93db8f754bbbc09b4]\n",
       "link E5 to E6--><a href=\"psysml:3ec706da-d65f-4ef5-8a1f-1e1b5df7e7c6\" target=\"_top\" title=\"psysml:3ec706da-d65f-4ef5-8a1f-1e1b5df7e7c6\" xlink:actuate=\"onRequest\" xlink:href=\"psysml:3ec706da-d65f-4ef5-8a1f-1e1b5df7e7c6\" xlink:show=\"new\" xlink:title=\"psysml:3ec706da-d65f-4ef5-8a1f-1e1b5df7e7c6\" xlink:type=\"simple\"><path d=\"M341.72,211.26 C338.1,229.85 333.47,253.68 329.32,274.95 \" fill=\"none\" id=\"E5-E6\" style=\"stroke: #383838; stroke-width: 1.0;\"/><polygon fill=\"#383838\" points=\"327.4,284.84,331.8761,277.5623,325.987,276.4136,327.4,284.84\" style=\"stroke: #383838; stroke-width: 1.0;\"/><path d=\"M334.7699,202.7122 A9,9 0 0 0 351.3715 205.9503\" fill=\"none\" style=\"stroke: #383838; stroke-width: 1.5;\"/><text fill=\"#000000\" font-family=\"sans-serif\" font-size=\"13\" lengthAdjust=\"spacingAndGlyphs\" textLength=\"60\" x=\"337\" y=\"251.0669\">«variant»</text></a><!--MD5=[14ccda38c055a5c0da953d572bc50960]\n",
       "link E7 to E3--><a href=\"psysml:9cf32953-475b-4011-b1f8-e7f09d5ce449\" target=\"_top\" title=\"psysml:9cf32953-475b-4011-b1f8-e7f09d5ce449\" xlink:actuate=\"onRequest\" xlink:href=\"psysml:9cf32953-475b-4011-b1f8-e7f09d5ce449\" xlink:show=\"new\" xlink:title=\"psysml:9cf32953-475b-4011-b1f8-e7f09d5ce449\" xlink:type=\"simple\"><path d=\"M170,87.13 C170,100.7 170,118.53 170,134.73 \" fill=\"none\" id=\"E7-&gt;E3\" style=\"stroke: #383838; stroke-width: 1.0;\"/><polygon fill=\"#FFFFFF\" points=\"170,154.92,163,135.92,177,135.92,170,154.92\" style=\"stroke: #383838; stroke-width: 1.0;\"/><ellipse cx=\"165\" cy=\"130.22\" fill=\"#383838\" rx=\"2\" ry=\"2\" style=\"stroke: #383838; stroke-width: 1.0;\"/><ellipse cx=\"175\" cy=\"130.22\" fill=\"#383838\" rx=\"2\" ry=\"2\" style=\"stroke: #383838; stroke-width: 1.0;\"/></a><!--MD5=[f1f3f9f2fc535e6147756cb86a7f2e32]\n",
       "link E8 to E2--><a href=\"psysml:d1a9bfbc-b159-49c1-a5ca-956a4881ee49\" target=\"_top\" title=\"psysml:d1a9bfbc-b159-49c1-a5ca-956a4881ee49\" xlink:actuate=\"onRequest\" xlink:href=\"psysml:d1a9bfbc-b159-49c1-a5ca-956a4881ee49\" xlink:show=\"new\" xlink:title=\"psysml:d1a9bfbc-b159-49c1-a5ca-956a4881ee49\" xlink:type=\"simple\"><path d=\"M102.17,204.39 C114.52,214.17 128.04,225.9 139,238 C148.86,248.88 158.29,261.5 166.63,273.79 \" fill=\"none\" id=\"E8-&gt;E2\" style=\"stroke: #383838; stroke-width: 1.0;\"/><polygon fill=\"#FFFFFF\" points=\"177.64,290.73,161.4168,278.6135,173.1555,270.9844,177.64,290.73\" style=\"stroke: #383838; stroke-width: 1.0;\"/><ellipse cx=\"159.9876\" cy=\"272.7443\" fill=\"#383838\" rx=\"2\" ry=\"2\" style=\"stroke: #383838; stroke-width: 1.0;\"/><ellipse cx=\"168.3724\" cy=\"267.2949\" fill=\"#383838\" rx=\"2\" ry=\"2\" style=\"stroke: #383838; stroke-width: 1.0;\"/></a><!--MD5=[ed10624c06dd9a4fa49ccf290e8b16a8]\n",
       "link E8 to E9--><a href=\"psysml:4574f674-7c12-4143-bfb7-6a6844a72e64\" target=\"_top\" title=\"psysml:4574f674-7c12-4143-bfb7-6a6844a72e64\" xlink:actuate=\"onRequest\" xlink:href=\"psysml:4574f674-7c12-4143-bfb7-6a6844a72e64\" xlink:show=\"new\" xlink:title=\"psysml:4574f674-7c12-4143-bfb7-6a6844a72e64\" xlink:type=\"simple\"><path d=\"M68.06,218.32 C68.52,235.6 69.07,256.15 69.57,274.77 \" fill=\"none\" id=\"E8-E9\" style=\"stroke: #383838; stroke-width: 1.0;\"/><polygon fill=\"#383838\" points=\"69.84,284.88,72.6331,276.8054,66.6351,276.9599,69.84,284.88\" style=\"stroke: #383838; stroke-width: 1.0;\"/><path d=\"M59.4094,211.3865 A9,9 0 0 0 76.3176 210.9276\" fill=\"none\" style=\"stroke: #383838; stroke-width: 1.5;\"/><text fill=\"#000000\" font-family=\"sans-serif\" font-size=\"13\" lengthAdjust=\"spacingAndGlyphs\" textLength=\"60\" x=\"70\" y=\"251.0669\">«variant»</text></a><!--MD5=[0f36bececdf0dff6e600d6f64214b0f1]\n",
       "link E10 to E2--><a href=\"psysml:bd829215-07d4-45cb-8fe9-60748d4dd682\" target=\"_top\" title=\"psysml:bd829215-07d4-45cb-8fe9-60748d4dd682\" xlink:actuate=\"onRequest\" xlink:href=\"psysml:bd829215-07d4-45cb-8fe9-60748d4dd682\" xlink:show=\"new\" xlink:title=\"psysml:bd829215-07d4-45cb-8fe9-60748d4dd682\" xlink:type=\"simple\"><path d=\"M250.02,201.31 C242.51,219.95 231.48,247.35 221.59,271.91 \" fill=\"none\" id=\"E10-&gt;E2\" style=\"stroke: #383838; stroke-width: 1.0;\"/><polygon fill=\"#FFFFFF\" points=\"213.99,290.77,214.5927,270.5305,227.5796,275.7593,213.99,290.77\" style=\"stroke: #383838; stroke-width: 1.0;\"/><ellipse cx=\"218.5768\" cy=\"265.9899\" fill=\"#383838\" rx=\"2\" ry=\"2\" style=\"stroke: #383838; stroke-width: 1.0;\"/><ellipse cx=\"227.8532\" cy=\"269.7248\" fill=\"#383838\" rx=\"2\" ry=\"2\" style=\"stroke: #383838; stroke-width: 1.0;\"/></a><!--MD5=[fef76c6cf378f8188780777283cff0c1]\n",
       "@startuml\r\n",
       " skinparam monochrome true\r\n",
       "skinparam classbackgroundcolor white\r\n",
       "skinparam shadowing false\r\n",
       "skinparam wrapWidth 300\r\n",
       "hide circle\r\n",
       "\r\n",
       "package \"VariabilityTest\" as E1  [[psysml:6e13bc12-600f-4176-9ee3-c77c18f0da6f ]]  {\r\n",
       "comp def \"P\" as E2  <<(T,blue) part def>> [[psysml:a47e4883-53c6-48e5-9729-358fb18738b5 ]] {\r\n",
       "- - attributes - -\r\n",
       "a\r\n",
       "}\r\n",
       "comp def \"Q\" as E3  <<(T,blue) part def>> [[psysml:64152dcd-188c-4285-9d2f-82b4222731ff ]] {\r\n",
       "}\r\n",
       "comp def \"B\" as E4  <<(T,blue) attribute def>> [[psysml:6204c3f0-143a-45cc-ac58-9ea86a3a8ea6 ]] {\r\n",
       "}\r\n",
       "comp def \"V\" as E5  <<(T,blue) part def>> [[psysml:58826ca2-a740-4eaa-a71e-521b590388a3 ]] {\r\n",
       "}\r\n",
       "comp usage \"x: Q\" as E6  <<(T,blue) part>> [[psysml:c2df0e2e-5a66-4a2b-abfc-b3b4dd7dd2c5 ]] {\r\n",
       "- - attributes - -\r\n",
       "b: B\\n//:>>P::a// \r\n",
       "}\r\n",
       "comp usage \"q: Q\" as E7  <<(T,blue) part>> [[psysml:d5aa7800-4c4d-4a74-9f82-8c5d7377a367 ]] {\r\n",
       "}\r\n",
       "comp usage \"v: P\" as E8  <<variation>>\\n <<(T,blue) part>> [[psysml:d7b3804f-80e3-4381-979e-bf8e2501fba8 ]] {\r\n",
       "}\r\n",
       "comp usage \"q\" as E9  <<(T,blue) reference>> [[psysml:aeeab6cc-3339-44ed-a45c-f65a5d97c376 ]] {\r\n",
       "- - attributes - -\r\n",
       "b: B\\n//:>>P::a// \r\n",
       "}\r\n",
       "comp usage \"y: P\" as E10  <<(T,blue) part>> [[psysml:fe63b1e8-840a-4f2e-b06a-2ce986f19d03 ]] {\r\n",
       "}\r\n",
       "E3 - -|> E2 [[psysml:6495a820-e8c0-4129-af26-6722c3b7b9e6 ]] \r\n",
       "E5 - -|> E2 [[psysml:bd00e4e7-d183-497a-b9f8-56660fc51e3e ]] \r\n",
       "E5 )- ->> E6 [[psysml:3ec706da-d65f-4ef5-8a1f-1e1b5df7e7c6 ]] : <<variant>>\r\n",
       "E7 - -:|> E3 [[psysml:9cf32953-475b-4011-b1f8-e7f09d5ce449 ]] \r\n",
       "E8 - -:|> E2 [[psysml:d1a9bfbc-b159-49c1-a5ca-956a4881ee49 ]] \r\n",
       "E8 )- ->> E9 [[psysml:4574f674-7c12-4143-bfb7-6a6844a72e64 ]] : <<variant>>\r\n",
       "E10 - -:|> E2 [[psysml:bd829215-07d4-45cb-8fe9-60748d4dd682 ]] \r\n",
       "}\r\n",
       "@enduml\r\n",
       "\n",
       "PlantUML version 1.2020.13(Sat Jun 13 12:26:38 UTC 2020)\n",
       "(EPL source distribution)\n",
       "Java Runtime: OpenJDK Runtime Environment\n",
       "JVM: OpenJDK 64-Bit Server VM\n",
       "Default Encoding: UTF-8\n",
       "Language: en\n",
       "Country: null\n",
       "--></g></svg>"
      ]
     },
     "execution_count": 3,
     "metadata": {},
     "output_type": "execute_result"
    }
   ],
   "source": [
    "%viz --style=\"COMPTREE\" --view=\"Tree\" \"VariabilityTest\""
   ]
  },
  {
   "cell_type": "code",
   "execution_count": 4,
   "id": "d2ceabca",
   "metadata": {
    "execution": {
     "iopub.execute_input": "2021-08-04T06:26:47.866349Z",
     "iopub.status.busy": "2021-08-04T06:26:47.866084Z",
     "iopub.status.idle": "2021-08-04T06:26:47.872473Z",
     "shell.execute_reply": "2021-08-04T06:26:47.872665Z"
    }
   },
   "outputs": [
    {
     "data": {
      "image/svg+xml": [
       "<?xml version=\"1.0\" encoding=\"UTF-8\" standalone=\"no\"?><svg xmlns=\"http://www.w3.org/2000/svg\" xmlns:xlink=\"http://www.w3.org/1999/xlink\" contentScriptType=\"application/ecmascript\" contentStyleType=\"text/css\" height=\"12px\" preserveAspectRatio=\"none\" style=\"width:12px;height:12px;\" version=\"1.1\" viewBox=\"0 0 12 12\" width=\"12px\" zoomAndPan=\"magnify\"><defs/><g><!--MD5=[f19188ef49e11757b5c46753f95d9edc]\n",
       "@startuml\r\n",
       " skinparam monochrome true\r\n",
       "skinparam classbackgroundcolor white\r\n",
       "skinparam shadowing false\r\n",
       "skinparam wrapWidth 300\r\n",
       "hide circle\r\n",
       "\r\n",
       "@enduml\r\n",
       "\n",
       "PlantUML version 1.2020.13(Sat Jun 13 12:26:38 UTC 2020)\n",
       "(EPL source distribution)\n",
       "Java Runtime: OpenJDK Runtime Environment\n",
       "JVM: OpenJDK 64-Bit Server VM\n",
       "Default Encoding: UTF-8\n",
       "Language: en\n",
       "Country: null\n",
       "--></g></svg>"
      ]
     },
     "execution_count": 4,
     "metadata": {},
     "output_type": "execute_result"
    }
   ],
   "source": [
    "%viz --style=\"COMPTREE\" --view=\"State\" \"VariabilityTest\""
   ]
  },
  {
   "cell_type": "code",
   "execution_count": 5,
   "id": "f9c1c202",
   "metadata": {
    "execution": {
     "iopub.execute_input": "2021-08-04T06:26:47.924002Z",
     "iopub.status.busy": "2021-08-04T06:26:47.923512Z",
     "iopub.status.idle": "2021-08-04T06:26:48.030627Z",
     "shell.execute_reply": "2021-08-04T06:26:48.029222Z"
    }
   },
   "outputs": [
    {
     "data": {
      "image/svg+xml": [
       "<?xml version=\"1.0\" encoding=\"UTF-8\" standalone=\"no\"?><svg xmlns=\"http://www.w3.org/2000/svg\" xmlns:xlink=\"http://www.w3.org/1999/xlink\" contentScriptType=\"application/ecmascript\" contentStyleType=\"text/css\" height=\"427px\" preserveAspectRatio=\"none\" style=\"width:783px;height:427px;\" version=\"1.1\" viewBox=\"0 0 783 427\" width=\"783px\" zoomAndPan=\"magnify\"><defs/><g><!--MD5=[fbc87193dbaf4d95561dea2c320d4a47]\n",
       "cluster E1--><a href=\"psysml:6e13bc12-600f-4176-9ee3-c77c18f0da6f\" target=\"_top\" title=\"psysml:6e13bc12-600f-4176-9ee3-c77c18f0da6f\" xlink:actuate=\"onRequest\" xlink:href=\"psysml:6e13bc12-600f-4176-9ee3-c77c18f0da6f\" xlink:show=\"new\" xlink:title=\"psysml:6e13bc12-600f-4176-9ee3-c77c18f0da6f\" xlink:type=\"simple\"><polygon fill=\"#FFFFFF\" points=\"16,6,134,6,141,28.2969,761,28.2969,761,415,16,415,16,6\" style=\"stroke: #000000; stroke-width: 1.5;\"/><line style=\"stroke: #000000; stroke-width: 1.5;\" x1=\"16\" x2=\"141\" y1=\"28.2969\" y2=\"28.2969\"/><text fill=\"#000000\" font-family=\"sans-serif\" font-size=\"14\" font-weight=\"bold\" lengthAdjust=\"spacingAndGlyphs\" textLength=\"112\" x=\"20\" y=\"20.9951\">VariabilityTest</text></a><!--MD5=[e4f7fae6ed58524ba242bb0b0d3be6b7]\n",
       "cluster E2--><a href=\"psysml:a47e4883-53c6-48e5-9729-358fb18738b5\" target=\"_top\" title=\"psysml:a47e4883-53c6-48e5-9729-358fb18738b5\" xlink:actuate=\"onRequest\" xlink:href=\"psysml:a47e4883-53c6-48e5-9729-358fb18738b5\" xlink:show=\"new\" xlink:title=\"psysml:a47e4883-53c6-48e5-9729-358fb18738b5\" xlink:type=\"simple\"><rect fill=\"#FFFFFF\" height=\"129\" id=\"E2\" style=\"stroke: #383838; stroke-width: 1.5;\" width=\"139\" x=\"424\" y=\"254\"/><rect fill=\"#F8F8F8\" height=\"37.9375\" style=\"stroke: #383838; stroke-width: 1.5;\" width=\"139\" x=\"424\" y=\"254\"/><text fill=\"#000000\" font-family=\"sans-serif\" font-size=\"12\" font-style=\"italic\" lengthAdjust=\"spacingAndGlyphs\" textLength=\"64\" x=\"461.5\" y=\"270.1387\">«part def»</text><text fill=\"#000000\" font-family=\"sans-serif\" font-size=\"12\" lengthAdjust=\"spacingAndGlyphs\" textLength=\"8\" x=\"489.5\" y=\"284.1074\">P</text></a><!--MD5=[14e3b0961a2654348d326746436168a1]\n",
       "cluster E6--><a href=\"psysml:58826ca2-a740-4eaa-a71e-521b590388a3\" target=\"_top\" title=\"psysml:58826ca2-a740-4eaa-a71e-521b590388a3\" xlink:actuate=\"onRequest\" xlink:href=\"psysml:58826ca2-a740-4eaa-a71e-521b590388a3\" xlink:show=\"new\" xlink:title=\"psysml:58826ca2-a740-4eaa-a71e-521b590388a3\" xlink:type=\"simple\"><rect fill=\"#FFFFFF\" height=\"157\" id=\"E6\" style=\"stroke: #383838; stroke-width: 1.5;\" width=\"131\" x=\"598\" y=\"57\"/><rect fill=\"#F8F8F8\" height=\"37.9375\" style=\"stroke: #383838; stroke-width: 1.5;\" width=\"131\" x=\"598\" y=\"57\"/><text fill=\"#000000\" font-family=\"sans-serif\" font-size=\"12\" font-style=\"italic\" lengthAdjust=\"spacingAndGlyphs\" textLength=\"64\" x=\"631.5\" y=\"73.1387\">«part def»</text><text fill=\"#000000\" font-family=\"sans-serif\" font-size=\"12\" lengthAdjust=\"spacingAndGlyphs\" textLength=\"8\" x=\"659.5\" y=\"87.1074\">V</text></a><!--MD5=[7f149f147074ac12df2cb0a7728a5fb0]\n",
       "cluster E9--><a href=\"psysml:d7b3804f-80e3-4381-979e-bf8e2501fba8\" target=\"_top\" title=\"psysml:d7b3804f-80e3-4381-979e-bf8e2501fba8\" xlink:actuate=\"onRequest\" xlink:href=\"psysml:d7b3804f-80e3-4381-979e-bf8e2501fba8\" xlink:show=\"new\" xlink:title=\"psysml:d7b3804f-80e3-4381-979e-bf8e2501fba8\" xlink:type=\"simple\"><rect fill=\"#FFFFFF\" height=\"139\" id=\"E9\" rx=\"10\" ry=\"10\" style=\"stroke: #383838; stroke-width: 1.5;\" width=\"110\" x=\"456\" y=\"74\"/><rect fill=\"#F8F8F8\" height=\"23.9688\" rx=\"10\" ry=\"10\" style=\"stroke: #F8F8F8; stroke-width: 1.5;\" width=\"110\" x=\"456\" y=\"74\"/><rect fill=\"#F8F8F8\" height=\"10\" style=\"stroke: #F8F8F8; stroke-width: 1.5;\" width=\"110\" x=\"456\" y=\"87.9688\"/><rect fill=\"none\" height=\"139\" id=\"E9\" rx=\"10\" ry=\"10\" style=\"stroke: #383838; stroke-width: 1.5;\" width=\"110\" x=\"456\" y=\"74\"/><text fill=\"#000000\" font-family=\"sans-serif\" font-size=\"12\" lengthAdjust=\"spacingAndGlyphs\" textLength=\"22\" x=\"500\" y=\"90.1387\">v: P</text><line style=\"stroke: #383838; stroke-width: 1.0;\" x1=\"456\" x2=\"566\" y1=\"97.9688\" y2=\"97.9688\"/></a><g id=\"E1.E5\"><a href=\"psysml:6204c3f0-143a-45cc-ac58-9ea86a3a8ea6\" target=\"_top\" title=\"psysml:6204c3f0-143a-45cc-ac58-9ea86a3a8ea6\" xlink:actuate=\"onRequest\" xlink:href=\"psysml:6204c3f0-143a-45cc-ac58-9ea86a3a8ea6\" xlink:show=\"new\" xlink:title=\"psysml:6204c3f0-143a-45cc-ac58-9ea86a3a8ea6\" xlink:type=\"simple\"><rect fill=\"#FFFFFF\" height=\"42.9375\" id=\"E5\" style=\"stroke: #383838; stroke-width: 1.5;\" width=\"100\" x=\"337\" y=\"131.5\"/><rect fill=\"#F8F8F8\" height=\"37.9375\" style=\"stroke: #383838; stroke-width: 1.5;\" width=\"100\" x=\"337\" y=\"131.5\"/><text fill=\"#000000\" font-family=\"sans-serif\" font-size=\"12\" font-style=\"italic\" lengthAdjust=\"spacingAndGlyphs\" textLength=\"93\" x=\"340.5\" y=\"147.6387\">«attribute def»</text><text fill=\"#000000\" font-family=\"sans-serif\" font-size=\"12\" lengthAdjust=\"spacingAndGlyphs\" textLength=\"8\" x=\"383\" y=\"161.6074\">B</text></a></g><!--MD5=[09b614a08d8cba4a07c9adeb5e0fee81]\n",
       "class E3--><a href=\"psysml:af83713f-f16b-4de7-b4a6-ecd5bab1fc22\" target=\"_top\" title=\"psysml:af83713f-f16b-4de7-b4a6-ecd5bab1fc22\" xlink:actuate=\"onRequest\" xlink:href=\"psysml:af83713f-f16b-4de7-b4a6-ecd5bab1fc22\" xlink:show=\"new\" xlink:title=\"psysml:af83713f-f16b-4de7-b4a6-ecd5bab1fc22\" xlink:type=\"simple\"><rect fill=\"#FFFFFF\" height=\"45.9375\" id=\"E3\" rx=\"10\" ry=\"10\" style=\"stroke: #383838; stroke-width: 1.5;\" width=\"71\" x=\"467.5\" y=\"313\"/><text fill=\"#000000\" font-family=\"sans-serif\" font-size=\"12\" font-style=\"italic\" lengthAdjust=\"spacingAndGlyphs\" textLength=\"69\" x=\"468.5\" y=\"329.1387\">«attribute»</text><text fill=\"#000000\" font-family=\"sans-serif\" font-size=\"12\" lengthAdjust=\"spacingAndGlyphs\" textLength=\"8\" x=\"499\" y=\"343.1074\">a</text><line style=\"stroke: #383838; stroke-width: 1.5;\" x1=\"468.5\" x2=\"537.5\" y1=\"350.9375\" y2=\"350.9375\"/></a><g id=\"E1.E4\"><a href=\"psysml:64152dcd-188c-4285-9d2f-82b4222731ff\" target=\"_top\" title=\"psysml:64152dcd-188c-4285-9d2f-82b4222731ff\" xlink:actuate=\"onRequest\" xlink:href=\"psysml:64152dcd-188c-4285-9d2f-82b4222731ff\" xlink:show=\"new\" xlink:title=\"psysml:64152dcd-188c-4285-9d2f-82b4222731ff\" xlink:type=\"simple\"><rect fill=\"#FFFFFF\" height=\"42.9375\" id=\"E4\" style=\"stroke: #383838; stroke-width: 1.5;\" width=\"71\" x=\"230.5\" y=\"131.5\"/><rect fill=\"#F8F8F8\" height=\"37.9375\" style=\"stroke: #383838; stroke-width: 1.5;\" width=\"71\" x=\"230.5\" y=\"131.5\"/><text fill=\"#000000\" font-family=\"sans-serif\" font-size=\"12\" font-style=\"italic\" lengthAdjust=\"spacingAndGlyphs\" textLength=\"64\" x=\"234\" y=\"147.6387\">«part def»</text><text fill=\"#000000\" font-family=\"sans-serif\" font-size=\"12\" lengthAdjust=\"spacingAndGlyphs\" textLength=\"9\" x=\"261.5\" y=\"161.6074\">Q</text></a></g><!--MD5=[2156ba9850f5573cc1fc38a6a4b2f02b]\n",
       "class E7--><a href=\"psysml:c2df0e2e-5a66-4a2b-abfc-b3b4dd7dd2c5\" target=\"_top\" title=\"psysml:c2df0e2e-5a66-4a2b-abfc-b3b4dd7dd2c5\" xlink:actuate=\"onRequest\" xlink:href=\"psysml:c2df0e2e-5a66-4a2b-abfc-b3b4dd7dd2c5\" xlink:show=\"new\" xlink:title=\"psysml:c2df0e2e-5a66-4a2b-abfc-b3b4dd7dd2c5\" xlink:type=\"simple\"><rect fill=\"#FFFFFF\" height=\"74.3828\" id=\"E7\" rx=\"10\" ry=\"10\" style=\"stroke: #383838; stroke-width: 1.5;\" width=\"63\" x=\"641.5\" y=\"116\"/><text fill=\"#000000\" font-family=\"sans-serif\" font-size=\"12\" lengthAdjust=\"spacingAndGlyphs\" textLength=\"23\" x=\"661.5\" y=\"132.1387\">x: Q</text><line style=\"stroke: #383838; stroke-width: 1.5;\" x1=\"642.5\" x2=\"703.5\" y1=\"139.9688\" y2=\"139.9688\"/><text fill=\"#000000\" font-family=\"sans-serif\" font-size=\"11\" lengthAdjust=\"spacingAndGlyphs\" textLength=\"23\" x=\"647.5\" y=\"170.9839\">b: B</text><text fill=\"#000000\" font-family=\"sans-serif\" font-size=\"11\" font-style=\"italic\" lengthAdjust=\"spacingAndGlyphs\" textLength=\"44\" x=\"647.5\" y=\"183.7886\">:&gt;&gt;P::a</text><line style=\"stroke: #383838; stroke-width: 1.0;\" x1=\"642.5\" x2=\"645.5\" y1=\"154.3711\" y2=\"154.3711\"/><text fill=\"#000000\" font-family=\"sans-serif\" font-size=\"11\" lengthAdjust=\"spacingAndGlyphs\" textLength=\"55\" x=\"645.5\" y=\"157.6792\">attributes</text><line style=\"stroke: #383838; stroke-width: 1.0;\" x1=\"700.5\" x2=\"703.5\" y1=\"154.3711\" y2=\"154.3711\"/></a><g id=\"E1.E8\"><a href=\"psysml:d5aa7800-4c4d-4a74-9f82-8c5d7377a367\" target=\"_top\" title=\"psysml:d5aa7800-4c4d-4a74-9f82-8c5d7377a367\" xlink:actuate=\"onRequest\" xlink:href=\"psysml:d5aa7800-4c4d-4a74-9f82-8c5d7377a367\" xlink:show=\"new\" xlink:title=\"psysml:d5aa7800-4c4d-4a74-9f82-8c5d7377a367\" xlink:type=\"simple\"><rect fill=\"#FFFFFF\" height=\"40\" id=\"E8\" rx=\"10\" ry=\"10\" style=\"stroke: #383838; stroke-width: 1.5;\" width=\"50\" x=\"145\" y=\"133\"/><rect fill=\"#F8F8F8\" height=\"23.9688\" rx=\"10\" ry=\"10\" style=\"stroke: #F8F8F8; stroke-width: 1.5;\" width=\"50\" x=\"145\" y=\"133\"/><rect fill=\"#F8F8F8\" height=\"10\" style=\"stroke: #F8F8F8; stroke-width: 1.5;\" width=\"50\" x=\"145\" y=\"146.9688\"/><rect fill=\"none\" height=\"40\" id=\"E8\" rx=\"10\" ry=\"10\" style=\"stroke: #383838; stroke-width: 1.5;\" width=\"50\" x=\"145\" y=\"133\"/><text fill=\"#000000\" font-family=\"sans-serif\" font-size=\"12\" lengthAdjust=\"spacingAndGlyphs\" textLength=\"25\" x=\"157.5\" y=\"149.1387\">q: Q</text></a></g><!--MD5=[96f4274e9e20536e775497830990834d]\n",
       "class E10--><a href=\"psysml:aeeab6cc-3339-44ed-a45c-f65a5d97c376\" target=\"_top\" title=\"psysml:aeeab6cc-3339-44ed-a45c-f65a5d97c376\" xlink:actuate=\"onRequest\" xlink:href=\"psysml:aeeab6cc-3339-44ed-a45c-f65a5d97c376\" xlink:show=\"new\" xlink:title=\"psysml:aeeab6cc-3339-44ed-a45c-f65a5d97c376\" xlink:type=\"simple\"><rect fill=\"#FFFFFF\" height=\"88.3516\" id=\"E10\" rx=\"10\" ry=\"10\" style=\"stroke: #383838; stroke-width: 1.5;\" width=\"77\" x=\"472.5\" y=\"109\"/><text fill=\"#000000\" font-family=\"sans-serif\" font-size=\"12\" font-style=\"italic\" lengthAdjust=\"spacingAndGlyphs\" textLength=\"75\" x=\"473.5\" y=\"125.1387\">«reference»</text><text fill=\"#000000\" font-family=\"sans-serif\" font-size=\"12\" lengthAdjust=\"spacingAndGlyphs\" textLength=\"8\" x=\"507\" y=\"139.1074\">q</text><line style=\"stroke: #383838; stroke-width: 1.5;\" x1=\"473.5\" x2=\"548.5\" y1=\"146.9375\" y2=\"146.9375\"/><text fill=\"#000000\" font-family=\"sans-serif\" font-size=\"11\" lengthAdjust=\"spacingAndGlyphs\" textLength=\"23\" x=\"478.5\" y=\"177.9526\">b: B</text><text fill=\"#000000\" font-family=\"sans-serif\" font-size=\"11\" font-style=\"italic\" lengthAdjust=\"spacingAndGlyphs\" textLength=\"44\" x=\"478.5\" y=\"190.7573\">:&gt;&gt;P::a</text><line style=\"stroke: #383838; stroke-width: 1.0;\" x1=\"473.5\" x2=\"483.5\" y1=\"161.3398\" y2=\"161.3398\"/><text fill=\"#000000\" font-family=\"sans-serif\" font-size=\"11\" lengthAdjust=\"spacingAndGlyphs\" textLength=\"55\" x=\"483.5\" y=\"164.6479\">attributes</text><line style=\"stroke: #383838; stroke-width: 1.0;\" x1=\"538.5\" x2=\"548.5\" y1=\"161.3398\" y2=\"161.3398\"/></a><g id=\"E1.E11\"><a href=\"psysml:fe63b1e8-840a-4f2e-b06a-2ce986f19d03\" target=\"_top\" title=\"psysml:fe63b1e8-840a-4f2e-b06a-2ce986f19d03\" xlink:actuate=\"onRequest\" xlink:href=\"psysml:fe63b1e8-840a-4f2e-b06a-2ce986f19d03\" xlink:show=\"new\" xlink:title=\"psysml:fe63b1e8-840a-4f2e-b06a-2ce986f19d03\" xlink:type=\"simple\"><rect fill=\"#FFFFFF\" height=\"40\" id=\"E11\" rx=\"10\" ry=\"10\" style=\"stroke: #383838; stroke-width: 1.5;\" width=\"77\" x=\"32.5\" y=\"133\"/><rect fill=\"#F8F8F8\" height=\"23.9688\" rx=\"10\" ry=\"10\" style=\"stroke: #F8F8F8; stroke-width: 1.5;\" width=\"77\" x=\"32.5\" y=\"133\"/><rect fill=\"#F8F8F8\" height=\"10\" style=\"stroke: #F8F8F8; stroke-width: 1.5;\" width=\"77\" x=\"32.5\" y=\"146.9688\"/><rect fill=\"none\" height=\"40\" id=\"E11\" rx=\"10\" ry=\"10\" style=\"stroke: #383838; stroke-width: 1.5;\" width=\"77\" x=\"32.5\" y=\"133\"/><text fill=\"#000000\" font-family=\"sans-serif\" font-size=\"12\" lengthAdjust=\"spacingAndGlyphs\" textLength=\"62\" x=\"38\" y=\"149.1387\">y: P= v::q;</text></a></g><!--MD5=[185131fc0dcab0a4505a2ebe144e961b]\n",
       "link E4 to E2--><a href=\"psysml:6495a820-e8c0-4129-af26-6722c3b7b9e6\" target=\"_top\" title=\"psysml:6495a820-e8c0-4129-af26-6722c3b7b9e6\" xlink:actuate=\"onRequest\" xlink:href=\"psysml:6495a820-e8c0-4129-af26-6722c3b7b9e6\" xlink:show=\"new\" xlink:title=\"psysml:6495a820-e8c0-4129-af26-6722c3b7b9e6\" xlink:type=\"simple\"><path d=\"M278.95,174.5 C289.29,190.29 304.57,212.32 320,230 C342.085,255.3 369.5625,281.1325 391.7738,300.8438 C402.8794,310.6994 412.6684,319.0247 419.8086,324.988 C420.7011,325.7334 421.5522,326.4419 422.3594,327.1119 C422.763,327.4468 423.1555,327.7722 423.5368,328.0877 C423.6321,328.1666 423.7267,328.2449 423.8206,328.3225 \" fill=\"none\" id=\"E4-&gt;E2\" style=\"stroke: #383838; stroke-width: 1.0;\"/><polygon fill=\"#FFFFFF\" points=\"423.8206,328.3225,413.6398,310.8196,404.7177,321.6083,423.8206,328.3225\" style=\"stroke: #383838; stroke-width: 1.0;\"/></a><!--MD5=[2351f337d6de0f557b50152ba70847b5]\n",
       "link E6 to E2--><a href=\"psysml:bd00e4e7-d183-497a-b9f8-56660fc51e3e\" target=\"_top\" title=\"psysml:bd00e4e7-d183-497a-b9f8-56660fc51e3e\" xlink:actuate=\"onRequest\" xlink:href=\"psysml:bd00e4e7-d183-497a-b9f8-56660fc51e3e\" xlink:show=\"new\" xlink:title=\"psysml:bd00e4e7-d183-497a-b9f8-56660fc51e3e\" xlink:type=\"simple\"><path d=\"M597.9695,184.2276 C597.7875,184.724 597.6019,185.2229 597.4125,185.7238 C591.3525,201.7525 581.485,219.9 566,230 C544.54,243.99 470.2,221.04 451,238 C446.9488,241.5788 443.6069,245.7455 440.8611,250.3013 C440.1747,251.4402 439.5255,252.6035 438.9118,253.788 \" fill=\"none\" id=\"E6-&gt;E2\" style=\"stroke: #383838; stroke-width: 1.0;\"/><polygon fill=\"#FFFFFF\" points=\"438.9118,253.788,453.8677,240.138,441.4371,233.6976,438.9118,253.788\" style=\"stroke: #383838; stroke-width: 1.0;\"/></a><!--MD5=[06792cd274a0a9272fe32d3b34c81290]\n",
       "@startuml\r\n",
       "skinparam ranksep 10\r\n",
       "skinparam rectangle {\r\n",
       " backgroundColor<<block>> LightGreen\r\n",
       "}\r\n",
       " skinparam monochrome true\r\n",
       "skinparam classbackgroundcolor white\r\n",
       "skinparam shadowing false\r\n",
       "skinparam wrapWidth 300\r\n",
       "hide circle\r\n",
       "\r\n",
       "package \"VariabilityTest\" as E1  [[psysml:6e13bc12-600f-4176-9ee3-c77c18f0da6f ]]  {\r\n",
       "rec def \"P\" as E2  <<(T,blue) part def>> [[psysml:a47e4883-53c6-48e5-9729-358fb18738b5 ]] {\r\n",
       "comp usage \"a\" as E3  <<(T,blue) attribute>> [[psysml:af83713f-f16b-4de7-b4a6-ecd5bab1fc22 ]] {\r\n",
       "}\r\n",
       "}\r\n",
       "rec def \"Q\" as E4  <<(T,blue) part def>> [[psysml:64152dcd-188c-4285-9d2f-82b4222731ff ]] {\r\n",
       "}\r\n",
       "def \"B\" as E5  <<(T,blue) attribute def>> [[psysml:6204c3f0-143a-45cc-ac58-9ea86a3a8ea6 ]] \r\n",
       "rec def \"V\" as E6  <<(T,blue) part def>> [[psysml:58826ca2-a740-4eaa-a71e-521b590388a3 ]] {\r\n",
       "comp usage \"x: Q\" as E7  [[psysml:c2df0e2e-5a66-4a2b-abfc-b3b4dd7dd2c5 ]] {\r\n",
       "- - attributes - -\r\n",
       "b: B\\n//:>>P::a// \r\n",
       "}\r\n",
       "}\r\n",
       "rec usage \"q: Q\" as E8  [[psysml:d5aa7800-4c4d-4a74-9f82-8c5d7377a367 ]] {\r\n",
       "}\r\n",
       "rec usage \"v: P\" as E9  [[psysml:d7b3804f-80e3-4381-979e-bf8e2501fba8 ]] {\r\n",
       "comp usage \"q\" as E10  <<(T,blue) reference>> [[psysml:aeeab6cc-3339-44ed-a45c-f65a5d97c376 ]] {\r\n",
       "- - attributes - -\r\n",
       "b: B\\n//:>>P::a// \r\n",
       "}\r\n",
       "}\r\n",
       "rec usage \"y: P= v::q; \" as E11  [[psysml:fe63b1e8-840a-4f2e-b06a-2ce986f19d03 ]] {\r\n",
       "}\r\n",
       "E4 - -|> E2 [[psysml:6495a820-e8c0-4129-af26-6722c3b7b9e6 ]] \r\n",
       "E6 - -|> E2 [[psysml:bd00e4e7-d183-497a-b9f8-56660fc51e3e ]] \r\n",
       "}\r\n",
       "@enduml\r\n",
       "\n",
       "PlantUML version 1.2020.13(Sat Jun 13 12:26:38 UTC 2020)\n",
       "(EPL source distribution)\n",
       "Java Runtime: OpenJDK Runtime Environment\n",
       "JVM: OpenJDK 64-Bit Server VM\n",
       "Default Encoding: UTF-8\n",
       "Language: en\n",
       "Country: null\n",
       "--></g></svg>"
      ]
     },
     "execution_count": 5,
     "metadata": {},
     "output_type": "execute_result"
    }
   ],
   "source": [
    "%viz --style=\"COMPTREE\" --view=\"Interconnection\" \"VariabilityTest\""
   ]
  },
  {
   "cell_type": "code",
   "execution_count": 6,
   "id": "d7234a00",
   "metadata": {
    "execution": {
     "iopub.execute_input": "2021-08-04T06:26:48.080666Z",
     "iopub.status.busy": "2021-08-04T06:26:48.080144Z",
     "iopub.status.idle": "2021-08-04T06:26:48.086873Z",
     "shell.execute_reply": "2021-08-04T06:26:48.087196Z"
    }
   },
   "outputs": [
    {
     "data": {
      "image/svg+xml": [
       "<?xml version=\"1.0\" encoding=\"UTF-8\" standalone=\"no\"?><svg xmlns=\"http://www.w3.org/2000/svg\" xmlns:xlink=\"http://www.w3.org/1999/xlink\" contentScriptType=\"application/ecmascript\" contentStyleType=\"text/css\" height=\"12px\" preserveAspectRatio=\"none\" style=\"width:12px;height:12px;\" version=\"1.1\" viewBox=\"0 0 12 12\" width=\"12px\" zoomAndPan=\"magnify\"><defs/><g><!--MD5=[655b888544ca4751ea36af1068543f84]\n",
       "@startuml\r\n",
       "skinparam ranksep 8\r\n",
       " skinparam monochrome true\r\n",
       "skinparam classbackgroundcolor white\r\n",
       "skinparam shadowing false\r\n",
       "skinparam wrapWidth 300\r\n",
       "hide circle\r\n",
       "\r\n",
       "@enduml\r\n",
       "\n",
       "PlantUML version 1.2020.13(Sat Jun 13 12:26:38 UTC 2020)\n",
       "(EPL source distribution)\n",
       "Java Runtime: OpenJDK Runtime Environment\n",
       "JVM: OpenJDK 64-Bit Server VM\n",
       "Default Encoding: UTF-8\n",
       "Language: en\n",
       "Country: null\n",
       "--></g></svg>"
      ]
     },
     "execution_count": 6,
     "metadata": {},
     "output_type": "execute_result"
    }
   ],
   "source": [
    "%viz --style=\"COMPTREE\" --view=\"Action\" \"VariabilityTest\""
   ]
  },
  {
   "cell_type": "code",
   "execution_count": 7,
   "id": "5ca17edc",
   "metadata": {
    "execution": {
     "iopub.execute_input": "2021-08-04T06:26:48.138006Z",
     "iopub.status.busy": "2021-08-04T06:26:48.137573Z",
     "iopub.status.idle": "2021-08-04T06:26:48.235500Z",
     "shell.execute_reply": "2021-08-04T06:26:48.234064Z"
    }
   },
   "outputs": [
    {
     "data": {
      "image/svg+xml": [
       "<?xml version=\"1.0\" encoding=\"UTF-8\" standalone=\"no\"?><svg xmlns=\"http://www.w3.org/2000/svg\" xmlns:xlink=\"http://www.w3.org/1999/xlink\" contentScriptType=\"application/ecmascript\" contentStyleType=\"text/css\" height=\"401px\" preserveAspectRatio=\"none\" style=\"width:419px;height:401px;\" version=\"1.1\" viewBox=\"0 0 419 401\" width=\"419px\" zoomAndPan=\"magnify\"><defs/><g><!--MD5=[fbc87193dbaf4d95561dea2c320d4a47]\n",
       "cluster E1--><a href=\"psysml:6e13bc12-600f-4176-9ee3-c77c18f0da6f\" target=\"_top\" title=\"psysml:6e13bc12-600f-4176-9ee3-c77c18f0da6f\" xlink:actuate=\"onRequest\" xlink:href=\"psysml:6e13bc12-600f-4176-9ee3-c77c18f0da6f\" xlink:show=\"new\" xlink:title=\"psysml:6e13bc12-600f-4176-9ee3-c77c18f0da6f\" xlink:type=\"simple\"><polygon fill=\"#FFFFFF\" points=\"16,6,134,6,141,28.2969,397,28.2969,397,389,16,389,16,6\" style=\"stroke: #000000; stroke-width: 1.5;\"/><line style=\"stroke: #000000; stroke-width: 1.5;\" x1=\"16\" x2=\"141\" y1=\"28.2969\" y2=\"28.2969\"/><text fill=\"#000000\" font-family=\"sans-serif\" font-size=\"14\" font-weight=\"bold\" lengthAdjust=\"spacingAndGlyphs\" textLength=\"112\" x=\"20\" y=\"20.9951\">VariabilityTest</text></a><!--MD5=[b4997ac47864f28c2f74865a473b2911]\n",
       "class E2--><a href=\"psysml:a47e4883-53c6-48e5-9729-358fb18738b5\" target=\"_top\" title=\"psysml:a47e4883-53c6-48e5-9729-358fb18738b5\" xlink:actuate=\"onRequest\" xlink:href=\"psysml:a47e4883-53c6-48e5-9729-358fb18738b5\" xlink:show=\"new\" xlink:title=\"psysml:a47e4883-53c6-48e5-9729-358fb18738b5\" xlink:type=\"simple\"><rect fill=\"#FFFFFF\" height=\"75.5469\" id=\"E2\" style=\"stroke: #383838; stroke-width: 1.5;\" width=\"66\" x=\"166\" y=\"291\"/><text fill=\"#000000\" font-family=\"sans-serif\" font-size=\"12\" font-style=\"italic\" lengthAdjust=\"spacingAndGlyphs\" textLength=\"64\" x=\"167\" y=\"307.1387\">«part def»</text><text fill=\"#000000\" font-family=\"sans-serif\" font-size=\"12\" lengthAdjust=\"spacingAndGlyphs\" textLength=\"8\" x=\"195\" y=\"321.1074\">P</text><line style=\"stroke: #383838; stroke-width: 1.5;\" x1=\"167\" x2=\"231\" y1=\"328.9375\" y2=\"328.9375\"/><text fill=\"#000000\" font-family=\"sans-serif\" font-size=\"11\" lengthAdjust=\"spacingAndGlyphs\" textLength=\"7\" x=\"172\" y=\"359.9526\">a</text><line style=\"stroke: #383838; stroke-width: 1.0;\" x1=\"167\" x2=\"171.5\" y1=\"343.3398\" y2=\"343.3398\"/><text fill=\"#000000\" font-family=\"sans-serif\" font-size=\"11\" lengthAdjust=\"spacingAndGlyphs\" textLength=\"55\" x=\"171.5\" y=\"346.6479\">attributes</text><line style=\"stroke: #383838; stroke-width: 1.0;\" x1=\"226.5\" x2=\"231\" y1=\"343.3398\" y2=\"343.3398\"/></a><!--MD5=[09b614a08d8cba4a07c9adeb5e0fee81]\n",
       "class E3--><a href=\"psysml:64152dcd-188c-4285-9d2f-82b4222731ff\" target=\"_top\" title=\"psysml:64152dcd-188c-4285-9d2f-82b4222731ff\" xlink:actuate=\"onRequest\" xlink:href=\"psysml:64152dcd-188c-4285-9d2f-82b4222731ff\" xlink:show=\"new\" xlink:title=\"psysml:64152dcd-188c-4285-9d2f-82b4222731ff\" xlink:type=\"simple\"><rect fill=\"#FFFFFF\" height=\"45.9375\" id=\"E3\" style=\"stroke: #383838; stroke-width: 1.5;\" width=\"66\" x=\"137\" y=\"155\"/><text fill=\"#000000\" font-family=\"sans-serif\" font-size=\"12\" font-style=\"italic\" lengthAdjust=\"spacingAndGlyphs\" textLength=\"64\" x=\"138\" y=\"171.1387\">«part def»</text><text fill=\"#000000\" font-family=\"sans-serif\" font-size=\"12\" lengthAdjust=\"spacingAndGlyphs\" textLength=\"9\" x=\"165.5\" y=\"185.1074\">Q</text><line style=\"stroke: #383838; stroke-width: 1.5;\" x1=\"138\" x2=\"202\" y1=\"192.9375\" y2=\"192.9375\"/></a><!--MD5=[ebbe1d658d1005bcc118a6aa81145e00]\n",
       "class E4--><a href=\"psysml:6204c3f0-143a-45cc-ac58-9ea86a3a8ea6\" target=\"_top\" title=\"psysml:6204c3f0-143a-45cc-ac58-9ea86a3a8ea6\" xlink:actuate=\"onRequest\" xlink:href=\"psysml:6204c3f0-143a-45cc-ac58-9ea86a3a8ea6\" xlink:show=\"new\" xlink:title=\"psysml:6204c3f0-143a-45cc-ac58-9ea86a3a8ea6\" xlink:type=\"simple\"><rect fill=\"#FFFFFF\" height=\"45.9375\" id=\"E4\" style=\"stroke: #383838; stroke-width: 1.5;\" width=\"95\" x=\"255.5\" y=\"41\"/><text fill=\"#000000\" font-family=\"sans-serif\" font-size=\"12\" font-style=\"italic\" lengthAdjust=\"spacingAndGlyphs\" textLength=\"93\" x=\"256.5\" y=\"57.1387\">«attribute def»</text><text fill=\"#000000\" font-family=\"sans-serif\" font-size=\"12\" lengthAdjust=\"spacingAndGlyphs\" textLength=\"8\" x=\"299\" y=\"71.1074\">B</text><line style=\"stroke: #383838; stroke-width: 1.5;\" x1=\"256.5\" x2=\"349.5\" y1=\"78.9375\" y2=\"78.9375\"/></a><!--MD5=[270fce915f116d4de14055a7c1d9a0f3]\n",
       "class E5--><a href=\"psysml:58826ca2-a740-4eaa-a71e-521b590388a3\" target=\"_top\" title=\"psysml:58826ca2-a740-4eaa-a71e-521b590388a3\" xlink:actuate=\"onRequest\" xlink:href=\"psysml:58826ca2-a740-4eaa-a71e-521b590388a3\" xlink:show=\"new\" xlink:title=\"psysml:58826ca2-a740-4eaa-a71e-521b590388a3\" xlink:type=\"simple\"><rect fill=\"#FFFFFF\" height=\"45.9375\" id=\"E5\" style=\"stroke: #383838; stroke-width: 1.5;\" width=\"66\" x=\"315\" y=\"155\"/><text fill=\"#000000\" font-family=\"sans-serif\" font-size=\"12\" font-style=\"italic\" lengthAdjust=\"spacingAndGlyphs\" textLength=\"64\" x=\"316\" y=\"171.1387\">«part def»</text><text fill=\"#000000\" font-family=\"sans-serif\" font-size=\"12\" lengthAdjust=\"spacingAndGlyphs\" textLength=\"8\" x=\"344\" y=\"185.1074\">V</text><line style=\"stroke: #383838; stroke-width: 1.5;\" x1=\"316\" x2=\"380\" y1=\"192.9375\" y2=\"192.9375\"/></a><!--MD5=[60a26617385b1d2d0262a64233df1f8d]\n",
       "class E6--><a href=\"psysml:c2df0e2e-5a66-4a2b-abfc-b3b4dd7dd2c5\" target=\"_top\" title=\"psysml:c2df0e2e-5a66-4a2b-abfc-b3b4dd7dd2c5\" xlink:actuate=\"onRequest\" xlink:href=\"psysml:c2df0e2e-5a66-4a2b-abfc-b3b4dd7dd2c5\" xlink:show=\"new\" xlink:title=\"psysml:c2df0e2e-5a66-4a2b-abfc-b3b4dd7dd2c5\" xlink:type=\"simple\"><rect fill=\"#FFFFFF\" height=\"88.3516\" id=\"E6\" rx=\"10\" ry=\"10\" style=\"stroke: #383838; stroke-width: 1.5;\" width=\"63\" x=\"287.5\" y=\"285\"/><text fill=\"#000000\" font-family=\"sans-serif\" font-size=\"12\" font-style=\"italic\" lengthAdjust=\"spacingAndGlyphs\" textLength=\"40\" x=\"299\" y=\"301.1387\">«part»</text><text fill=\"#000000\" font-family=\"sans-serif\" font-size=\"12\" lengthAdjust=\"spacingAndGlyphs\" textLength=\"23\" x=\"307.5\" y=\"315.1074\">x: Q</text><line style=\"stroke: #383838; stroke-width: 1.5;\" x1=\"288.5\" x2=\"349.5\" y1=\"322.9375\" y2=\"322.9375\"/><text fill=\"#000000\" font-family=\"sans-serif\" font-size=\"11\" lengthAdjust=\"spacingAndGlyphs\" textLength=\"23\" x=\"293.5\" y=\"353.9526\">b: B</text><text fill=\"#000000\" font-family=\"sans-serif\" font-size=\"11\" font-style=\"italic\" lengthAdjust=\"spacingAndGlyphs\" textLength=\"44\" x=\"293.5\" y=\"366.7573\">:&gt;&gt;P::a</text><line style=\"stroke: #383838; stroke-width: 1.0;\" x1=\"288.5\" x2=\"291.5\" y1=\"337.3398\" y2=\"337.3398\"/><text fill=\"#000000\" font-family=\"sans-serif\" font-size=\"11\" lengthAdjust=\"spacingAndGlyphs\" textLength=\"55\" x=\"291.5\" y=\"340.6479\">attributes</text><line style=\"stroke: #383838; stroke-width: 1.0;\" x1=\"346.5\" x2=\"349.5\" y1=\"337.3398\" y2=\"337.3398\"/></a><!--MD5=[2156ba9850f5573cc1fc38a6a4b2f02b]\n",
       "class E7--><a href=\"psysml:d5aa7800-4c4d-4a74-9f82-8c5d7377a367\" target=\"_top\" title=\"psysml:d5aa7800-4c4d-4a74-9f82-8c5d7377a367\" xlink:actuate=\"onRequest\" xlink:href=\"psysml:d5aa7800-4c4d-4a74-9f82-8c5d7377a367\" xlink:show=\"new\" xlink:title=\"psysml:d5aa7800-4c4d-4a74-9f82-8c5d7377a367\" xlink:type=\"simple\"><rect fill=\"#FFFFFF\" height=\"45.9375\" id=\"E7\" rx=\"10\" ry=\"10\" style=\"stroke: #383838; stroke-width: 1.5;\" width=\"42\" x=\"149\" y=\"41\"/><text fill=\"#000000\" font-family=\"sans-serif\" font-size=\"12\" font-style=\"italic\" lengthAdjust=\"spacingAndGlyphs\" textLength=\"40\" x=\"150\" y=\"57.1387\">«part»</text><text fill=\"#000000\" font-family=\"sans-serif\" font-size=\"12\" lengthAdjust=\"spacingAndGlyphs\" textLength=\"25\" x=\"157.5\" y=\"71.1074\">q: Q</text><line style=\"stroke: #383838; stroke-width: 1.5;\" x1=\"150\" x2=\"190\" y1=\"78.9375\" y2=\"78.9375\"/></a><!--MD5=[b9389687b975829384b498ac4b7476b2]\n",
       "class E8--><a href=\"psysml:d7b3804f-80e3-4381-979e-bf8e2501fba8\" target=\"_top\" title=\"psysml:d7b3804f-80e3-4381-979e-bf8e2501fba8\" xlink:actuate=\"onRequest\" xlink:href=\"psysml:d7b3804f-80e3-4381-979e-bf8e2501fba8\" xlink:show=\"new\" xlink:title=\"psysml:d7b3804f-80e3-4381-979e-bf8e2501fba8\" xlink:type=\"simple\"><rect fill=\"#FFFFFF\" height=\"59.9063\" id=\"E8\" rx=\"10\" ry=\"10\" style=\"stroke: #383838; stroke-width: 1.5;\" width=\"70\" x=\"32\" y=\"148\"/><text fill=\"#000000\" font-family=\"sans-serif\" font-size=\"12\" font-style=\"italic\" lengthAdjust=\"spacingAndGlyphs\" textLength=\"68\" x=\"33\" y=\"164.1387\">«variation»</text><text fill=\"#000000\" font-family=\"sans-serif\" font-size=\"12\" font-style=\"italic\" lengthAdjust=\"spacingAndGlyphs\" textLength=\"40\" x=\"47\" y=\"178.1074\">«part»</text><text fill=\"#000000\" font-family=\"sans-serif\" font-size=\"12\" lengthAdjust=\"spacingAndGlyphs\" textLength=\"22\" x=\"56\" y=\"192.0762\">v: P</text><line style=\"stroke: #383838; stroke-width: 1.5;\" x1=\"33\" x2=\"101\" y1=\"199.9063\" y2=\"199.9063\"/></a><!--MD5=[fd4143e9d270a159db93a4ea2a975926]\n",
       "class E9--><a href=\"psysml:aeeab6cc-3339-44ed-a45c-f65a5d97c376\" target=\"_top\" title=\"psysml:aeeab6cc-3339-44ed-a45c-f65a5d97c376\" xlink:actuate=\"onRequest\" xlink:href=\"psysml:aeeab6cc-3339-44ed-a45c-f65a5d97c376\" xlink:show=\"new\" xlink:title=\"psysml:aeeab6cc-3339-44ed-a45c-f65a5d97c376\" xlink:type=\"simple\"><rect fill=\"#FFFFFF\" height=\"88.3516\" id=\"E9\" rx=\"10\" ry=\"10\" style=\"stroke: #383838; stroke-width: 1.5;\" width=\"77\" x=\"32.5\" y=\"285\"/><text fill=\"#000000\" font-family=\"sans-serif\" font-size=\"12\" font-style=\"italic\" lengthAdjust=\"spacingAndGlyphs\" textLength=\"75\" x=\"33.5\" y=\"301.1387\">«reference»</text><text fill=\"#000000\" font-family=\"sans-serif\" font-size=\"12\" lengthAdjust=\"spacingAndGlyphs\" textLength=\"8\" x=\"67\" y=\"315.1074\">q</text><line style=\"stroke: #383838; stroke-width: 1.5;\" x1=\"33.5\" x2=\"108.5\" y1=\"322.9375\" y2=\"322.9375\"/><text fill=\"#000000\" font-family=\"sans-serif\" font-size=\"11\" lengthAdjust=\"spacingAndGlyphs\" textLength=\"23\" x=\"38.5\" y=\"353.9526\">b: B</text><text fill=\"#000000\" font-family=\"sans-serif\" font-size=\"11\" font-style=\"italic\" lengthAdjust=\"spacingAndGlyphs\" textLength=\"44\" x=\"38.5\" y=\"366.7573\">:&gt;&gt;P::a</text><line style=\"stroke: #383838; stroke-width: 1.0;\" x1=\"33.5\" x2=\"43.5\" y1=\"337.3398\" y2=\"337.3398\"/><text fill=\"#000000\" font-family=\"sans-serif\" font-size=\"11\" lengthAdjust=\"spacingAndGlyphs\" textLength=\"55\" x=\"43.5\" y=\"340.6479\">attributes</text><line style=\"stroke: #383838; stroke-width: 1.0;\" x1=\"98.5\" x2=\"108.5\" y1=\"337.3398\" y2=\"337.3398\"/></a><!--MD5=[96f4274e9e20536e775497830990834d]\n",
       "class E10--><a href=\"psysml:fe63b1e8-840a-4f2e-b06a-2ce986f19d03\" target=\"_top\" title=\"psysml:fe63b1e8-840a-4f2e-b06a-2ce986f19d03\" xlink:actuate=\"onRequest\" xlink:href=\"psysml:fe63b1e8-840a-4f2e-b06a-2ce986f19d03\" xlink:show=\"new\" xlink:title=\"psysml:fe63b1e8-840a-4f2e-b06a-2ce986f19d03\" xlink:type=\"simple\"><rect fill=\"#FFFFFF\" height=\"45.9375\" id=\"E10\" rx=\"10\" ry=\"10\" style=\"stroke: #383838; stroke-width: 1.5;\" width=\"42\" x=\"238\" y=\"155\"/><text fill=\"#000000\" font-family=\"sans-serif\" font-size=\"12\" font-style=\"italic\" lengthAdjust=\"spacingAndGlyphs\" textLength=\"40\" x=\"239\" y=\"171.1387\">«part»</text><text fill=\"#000000\" font-family=\"sans-serif\" font-size=\"12\" lengthAdjust=\"spacingAndGlyphs\" textLength=\"22\" x=\"248\" y=\"185.1074\">y: P</text><line style=\"stroke: #383838; stroke-width: 1.5;\" x1=\"239\" x2=\"279\" y1=\"192.9375\" y2=\"192.9375\"/></a><!--MD5=[05d275557350bfb9b23a4ef7222b4c39]\n",
       "link E3 to E2--><a href=\"psysml:6495a820-e8c0-4129-af26-6722c3b7b9e6\" target=\"_top\" title=\"psysml:6495a820-e8c0-4129-af26-6722c3b7b9e6\" xlink:actuate=\"onRequest\" xlink:href=\"psysml:6495a820-e8c0-4129-af26-6722c3b7b9e6\" xlink:show=\"new\" xlink:title=\"psysml:6495a820-e8c0-4129-af26-6722c3b7b9e6\" xlink:type=\"simple\"><path d=\"M174.34,201.31 C177.92,219.67 183.15,246.54 187.87,270.81 \" fill=\"none\" id=\"E3-&gt;E2\" style=\"stroke: #383838; stroke-width: 1.0;\"/><polygon fill=\"none\" points=\"194.8,269.8,191.75,290.77,181.06,272.47,194.8,269.8\" style=\"stroke: #383838; stroke-width: 1.0;\"/></a><!--MD5=[15ebcb19ae302d9b601edb458606d402]\n",
       "link E5 to E2--><a href=\"psysml:bd00e4e7-d183-497a-b9f8-56660fc51e3e\" target=\"_top\" title=\"psysml:bd00e4e7-d183-497a-b9f8-56660fc51e3e\" xlink:actuate=\"onRequest\" xlink:href=\"psysml:bd00e4e7-d183-497a-b9f8-56660fc51e3e\" xlink:show=\"new\" xlink:title=\"psysml:bd00e4e7-d183-497a-b9f8-56660fc51e3e\" xlink:type=\"simple\"><path d=\"M325.69,201.31 C304.9,222.1 273.2,253.8 246.71,280.29 \" fill=\"none\" id=\"E5-&gt;E2\" style=\"stroke: #383838; stroke-width: 1.0;\"/><polygon fill=\"none\" points=\"251.33,285.57,232.24,294.76,241.43,275.67,251.33,285.57\" style=\"stroke: #383838; stroke-width: 1.0;\"/></a><!--MD5=[9120cf2e5df3bff93db8f754bbbc09b4]\n",
       "link E5 to E6--><a href=\"psysml:3ec706da-d65f-4ef5-8a1f-1e1b5df7e7c6\" target=\"_top\" title=\"psysml:3ec706da-d65f-4ef5-8a1f-1e1b5df7e7c6\" xlink:actuate=\"onRequest\" xlink:href=\"psysml:3ec706da-d65f-4ef5-8a1f-1e1b5df7e7c6\" xlink:show=\"new\" xlink:title=\"psysml:3ec706da-d65f-4ef5-8a1f-1e1b5df7e7c6\" xlink:type=\"simple\"><path d=\"M341.72,211.26 C338.1,229.85 333.47,253.68 329.32,274.95 \" fill=\"none\" id=\"E5-E6\" style=\"stroke: #383838; stroke-width: 1.0;\"/><polygon fill=\"#383838\" points=\"327.4,284.84,331.8761,277.5623,325.987,276.4136,327.4,284.84\" style=\"stroke: #383838; stroke-width: 1.0;\"/><path d=\"M334.7699,202.7122 A9,9 0 0 0 351.3715 205.9503\" fill=\"none\" style=\"stroke: #383838; stroke-width: 1.5;\"/><text fill=\"#000000\" font-family=\"sans-serif\" font-size=\"13\" lengthAdjust=\"spacingAndGlyphs\" textLength=\"60\" x=\"337\" y=\"251.0669\">«variant»</text></a><!--MD5=[14ccda38c055a5c0da953d572bc50960]\n",
       "link E7 to E3--><a href=\"psysml:9cf32953-475b-4011-b1f8-e7f09d5ce449\" target=\"_top\" title=\"psysml:9cf32953-475b-4011-b1f8-e7f09d5ce449\" xlink:actuate=\"onRequest\" xlink:href=\"psysml:9cf32953-475b-4011-b1f8-e7f09d5ce449\" xlink:show=\"new\" xlink:title=\"psysml:9cf32953-475b-4011-b1f8-e7f09d5ce449\" xlink:type=\"simple\"><path d=\"M170,87.13 C170,100.7 170,118.53 170,134.73 \" fill=\"none\" id=\"E7-&gt;E3\" style=\"stroke: #383838; stroke-width: 1.0;\"/><polygon fill=\"#FFFFFF\" points=\"170,154.92,163,135.92,177,135.92,170,154.92\" style=\"stroke: #383838; stroke-width: 1.0;\"/><ellipse cx=\"165\" cy=\"130.22\" fill=\"#383838\" rx=\"2\" ry=\"2\" style=\"stroke: #383838; stroke-width: 1.0;\"/><ellipse cx=\"175\" cy=\"130.22\" fill=\"#383838\" rx=\"2\" ry=\"2\" style=\"stroke: #383838; stroke-width: 1.0;\"/></a><!--MD5=[f1f3f9f2fc535e6147756cb86a7f2e32]\n",
       "link E8 to E2--><a href=\"psysml:d1a9bfbc-b159-49c1-a5ca-956a4881ee49\" target=\"_top\" title=\"psysml:d1a9bfbc-b159-49c1-a5ca-956a4881ee49\" xlink:actuate=\"onRequest\" xlink:href=\"psysml:d1a9bfbc-b159-49c1-a5ca-956a4881ee49\" xlink:show=\"new\" xlink:title=\"psysml:d1a9bfbc-b159-49c1-a5ca-956a4881ee49\" xlink:type=\"simple\"><path d=\"M102.17,204.39 C114.52,214.17 128.04,225.9 139,238 C148.86,248.88 158.29,261.5 166.63,273.79 \" fill=\"none\" id=\"E8-&gt;E2\" style=\"stroke: #383838; stroke-width: 1.0;\"/><polygon fill=\"#FFFFFF\" points=\"177.64,290.73,161.4168,278.6135,173.1555,270.9844,177.64,290.73\" style=\"stroke: #383838; stroke-width: 1.0;\"/><ellipse cx=\"159.9876\" cy=\"272.7443\" fill=\"#383838\" rx=\"2\" ry=\"2\" style=\"stroke: #383838; stroke-width: 1.0;\"/><ellipse cx=\"168.3724\" cy=\"267.2949\" fill=\"#383838\" rx=\"2\" ry=\"2\" style=\"stroke: #383838; stroke-width: 1.0;\"/></a><!--MD5=[ed10624c06dd9a4fa49ccf290e8b16a8]\n",
       "link E8 to E9--><a href=\"psysml:4574f674-7c12-4143-bfb7-6a6844a72e64\" target=\"_top\" title=\"psysml:4574f674-7c12-4143-bfb7-6a6844a72e64\" xlink:actuate=\"onRequest\" xlink:href=\"psysml:4574f674-7c12-4143-bfb7-6a6844a72e64\" xlink:show=\"new\" xlink:title=\"psysml:4574f674-7c12-4143-bfb7-6a6844a72e64\" xlink:type=\"simple\"><path d=\"M68.06,218.32 C68.52,235.6 69.07,256.15 69.57,274.77 \" fill=\"none\" id=\"E8-E9\" style=\"stroke: #383838; stroke-width: 1.0;\"/><polygon fill=\"#383838\" points=\"69.84,284.88,72.6331,276.8054,66.6351,276.9599,69.84,284.88\" style=\"stroke: #383838; stroke-width: 1.0;\"/><path d=\"M59.4094,211.3865 A9,9 0 0 0 76.3176 210.9276\" fill=\"none\" style=\"stroke: #383838; stroke-width: 1.5;\"/><text fill=\"#000000\" font-family=\"sans-serif\" font-size=\"13\" lengthAdjust=\"spacingAndGlyphs\" textLength=\"60\" x=\"70\" y=\"251.0669\">«variant»</text></a><!--MD5=[0f36bececdf0dff6e600d6f64214b0f1]\n",
       "link E10 to E2--><a href=\"psysml:bd829215-07d4-45cb-8fe9-60748d4dd682\" target=\"_top\" title=\"psysml:bd829215-07d4-45cb-8fe9-60748d4dd682\" xlink:actuate=\"onRequest\" xlink:href=\"psysml:bd829215-07d4-45cb-8fe9-60748d4dd682\" xlink:show=\"new\" xlink:title=\"psysml:bd829215-07d4-45cb-8fe9-60748d4dd682\" xlink:type=\"simple\"><path d=\"M250.02,201.31 C242.51,219.95 231.48,247.35 221.59,271.91 \" fill=\"none\" id=\"E10-&gt;E2\" style=\"stroke: #383838; stroke-width: 1.0;\"/><polygon fill=\"#FFFFFF\" points=\"213.99,290.77,214.5927,270.5305,227.5796,275.7593,213.99,290.77\" style=\"stroke: #383838; stroke-width: 1.0;\"/><ellipse cx=\"218.5768\" cy=\"265.9899\" fill=\"#383838\" rx=\"2\" ry=\"2\" style=\"stroke: #383838; stroke-width: 1.0;\"/><ellipse cx=\"227.8532\" cy=\"269.7248\" fill=\"#383838\" rx=\"2\" ry=\"2\" style=\"stroke: #383838; stroke-width: 1.0;\"/></a><!--MD5=[fef76c6cf378f8188780777283cff0c1]\n",
       "@startuml\r\n",
       " skinparam monochrome true\r\n",
       "skinparam classbackgroundcolor white\r\n",
       "skinparam shadowing false\r\n",
       "skinparam wrapWidth 300\r\n",
       "hide circle\r\n",
       "\r\n",
       "package \"VariabilityTest\" as E1  [[psysml:6e13bc12-600f-4176-9ee3-c77c18f0da6f ]]  {\r\n",
       "comp def \"P\" as E2  <<(T,blue) part def>> [[psysml:a47e4883-53c6-48e5-9729-358fb18738b5 ]] {\r\n",
       "- - attributes - -\r\n",
       "a\r\n",
       "}\r\n",
       "comp def \"Q\" as E3  <<(T,blue) part def>> [[psysml:64152dcd-188c-4285-9d2f-82b4222731ff ]] {\r\n",
       "}\r\n",
       "comp def \"B\" as E4  <<(T,blue) attribute def>> [[psysml:6204c3f0-143a-45cc-ac58-9ea86a3a8ea6 ]] {\r\n",
       "}\r\n",
       "comp def \"V\" as E5  <<(T,blue) part def>> [[psysml:58826ca2-a740-4eaa-a71e-521b590388a3 ]] {\r\n",
       "}\r\n",
       "comp usage \"x: Q\" as E6  <<(T,blue) part>> [[psysml:c2df0e2e-5a66-4a2b-abfc-b3b4dd7dd2c5 ]] {\r\n",
       "- - attributes - -\r\n",
       "b: B\\n//:>>P::a// \r\n",
       "}\r\n",
       "comp usage \"q: Q\" as E7  <<(T,blue) part>> [[psysml:d5aa7800-4c4d-4a74-9f82-8c5d7377a367 ]] {\r\n",
       "}\r\n",
       "comp usage \"v: P\" as E8  <<variation>>\\n <<(T,blue) part>> [[psysml:d7b3804f-80e3-4381-979e-bf8e2501fba8 ]] {\r\n",
       "}\r\n",
       "comp usage \"q\" as E9  <<(T,blue) reference>> [[psysml:aeeab6cc-3339-44ed-a45c-f65a5d97c376 ]] {\r\n",
       "- - attributes - -\r\n",
       "b: B\\n//:>>P::a// \r\n",
       "}\r\n",
       "comp usage \"y: P\" as E10  <<(T,blue) part>> [[psysml:fe63b1e8-840a-4f2e-b06a-2ce986f19d03 ]] {\r\n",
       "}\r\n",
       "E3 - -|> E2 [[psysml:6495a820-e8c0-4129-af26-6722c3b7b9e6 ]] \r\n",
       "E5 - -|> E2 [[psysml:bd00e4e7-d183-497a-b9f8-56660fc51e3e ]] \r\n",
       "E5 )- ->> E6 [[psysml:3ec706da-d65f-4ef5-8a1f-1e1b5df7e7c6 ]] : <<variant>>\r\n",
       "E7 - -:|> E3 [[psysml:9cf32953-475b-4011-b1f8-e7f09d5ce449 ]] \r\n",
       "E8 - -:|> E2 [[psysml:d1a9bfbc-b159-49c1-a5ca-956a4881ee49 ]] \r\n",
       "E8 )- ->> E9 [[psysml:4574f674-7c12-4143-bfb7-6a6844a72e64 ]] : <<variant>>\r\n",
       "E10 - -:|> E2 [[psysml:bd829215-07d4-45cb-8fe9-60748d4dd682 ]] \r\n",
       "}\r\n",
       "@enduml\r\n",
       "\n",
       "PlantUML version 1.2020.13(Sat Jun 13 12:26:38 UTC 2020)\n",
       "(EPL source distribution)\n",
       "Java Runtime: OpenJDK Runtime Environment\n",
       "JVM: OpenJDK 64-Bit Server VM\n",
       "Default Encoding: UTF-8\n",
       "Language: en\n",
       "Country: null\n",
       "--></g></svg>"
      ]
     },
     "execution_count": 7,
     "metadata": {},
     "output_type": "execute_result"
    }
   ],
   "source": [
    "%viz --style=\"COMPTREE\" --view=\"Sequence\" \"VariabilityTest\""
   ]
  },
  {
   "cell_type": "code",
   "execution_count": 8,
   "id": "37a28129",
   "metadata": {
    "execution": {
     "iopub.execute_input": "2021-08-04T06:26:48.284941Z",
     "iopub.status.busy": "2021-08-04T06:26:48.284494Z",
     "iopub.status.idle": "2021-08-04T06:26:48.354847Z",
     "shell.execute_reply": "2021-08-04T06:26:48.354574Z"
    }
   },
   "outputs": [
    {
     "data": {
      "image/svg+xml": [
       "<?xml version=\"1.0\" encoding=\"UTF-8\" standalone=\"no\"?><svg xmlns=\"http://www.w3.org/2000/svg\" xmlns:xlink=\"http://www.w3.org/1999/xlink\" contentScriptType=\"application/ecmascript\" contentStyleType=\"text/css\" height=\"401px\" preserveAspectRatio=\"none\" style=\"width:419px;height:401px;\" version=\"1.1\" viewBox=\"0 0 419 401\" width=\"419px\" zoomAndPan=\"magnify\"><defs/><g><!--MD5=[fbc87193dbaf4d95561dea2c320d4a47]\n",
       "cluster E1--><a href=\"psysml:6e13bc12-600f-4176-9ee3-c77c18f0da6f\" target=\"_top\" title=\"psysml:6e13bc12-600f-4176-9ee3-c77c18f0da6f\" xlink:actuate=\"onRequest\" xlink:href=\"psysml:6e13bc12-600f-4176-9ee3-c77c18f0da6f\" xlink:show=\"new\" xlink:title=\"psysml:6e13bc12-600f-4176-9ee3-c77c18f0da6f\" xlink:type=\"simple\"><polygon fill=\"#FFFFFF\" points=\"16,6,134,6,141,28.2969,397,28.2969,397,389,16,389,16,6\" style=\"stroke: #000000; stroke-width: 1.5;\"/><line style=\"stroke: #000000; stroke-width: 1.5;\" x1=\"16\" x2=\"141\" y1=\"28.2969\" y2=\"28.2969\"/><text fill=\"#000000\" font-family=\"sans-serif\" font-size=\"14\" font-weight=\"bold\" lengthAdjust=\"spacingAndGlyphs\" textLength=\"112\" x=\"20\" y=\"20.9951\">VariabilityTest</text></a><!--MD5=[b4997ac47864f28c2f74865a473b2911]\n",
       "class E2--><a href=\"psysml:a47e4883-53c6-48e5-9729-358fb18738b5\" target=\"_top\" title=\"psysml:a47e4883-53c6-48e5-9729-358fb18738b5\" xlink:actuate=\"onRequest\" xlink:href=\"psysml:a47e4883-53c6-48e5-9729-358fb18738b5\" xlink:show=\"new\" xlink:title=\"psysml:a47e4883-53c6-48e5-9729-358fb18738b5\" xlink:type=\"simple\"><rect fill=\"#FFFFFF\" height=\"75.5469\" id=\"E2\" style=\"stroke: #383838; stroke-width: 1.5;\" width=\"66\" x=\"166\" y=\"291\"/><text fill=\"#000000\" font-family=\"sans-serif\" font-size=\"12\" font-style=\"italic\" lengthAdjust=\"spacingAndGlyphs\" textLength=\"64\" x=\"167\" y=\"307.1387\">«part def»</text><text fill=\"#000000\" font-family=\"sans-serif\" font-size=\"12\" lengthAdjust=\"spacingAndGlyphs\" textLength=\"8\" x=\"195\" y=\"321.1074\">P</text><line style=\"stroke: #383838; stroke-width: 1.5;\" x1=\"167\" x2=\"231\" y1=\"328.9375\" y2=\"328.9375\"/><text fill=\"#000000\" font-family=\"sans-serif\" font-size=\"11\" lengthAdjust=\"spacingAndGlyphs\" textLength=\"7\" x=\"172\" y=\"359.9526\">a</text><line style=\"stroke: #383838; stroke-width: 1.0;\" x1=\"167\" x2=\"171.5\" y1=\"343.3398\" y2=\"343.3398\"/><text fill=\"#000000\" font-family=\"sans-serif\" font-size=\"11\" lengthAdjust=\"spacingAndGlyphs\" textLength=\"55\" x=\"171.5\" y=\"346.6479\">attributes</text><line style=\"stroke: #383838; stroke-width: 1.0;\" x1=\"226.5\" x2=\"231\" y1=\"343.3398\" y2=\"343.3398\"/></a><!--MD5=[09b614a08d8cba4a07c9adeb5e0fee81]\n",
       "class E3--><a href=\"psysml:64152dcd-188c-4285-9d2f-82b4222731ff\" target=\"_top\" title=\"psysml:64152dcd-188c-4285-9d2f-82b4222731ff\" xlink:actuate=\"onRequest\" xlink:href=\"psysml:64152dcd-188c-4285-9d2f-82b4222731ff\" xlink:show=\"new\" xlink:title=\"psysml:64152dcd-188c-4285-9d2f-82b4222731ff\" xlink:type=\"simple\"><rect fill=\"#FFFFFF\" height=\"45.9375\" id=\"E3\" style=\"stroke: #383838; stroke-width: 1.5;\" width=\"66\" x=\"137\" y=\"155\"/><text fill=\"#000000\" font-family=\"sans-serif\" font-size=\"12\" font-style=\"italic\" lengthAdjust=\"spacingAndGlyphs\" textLength=\"64\" x=\"138\" y=\"171.1387\">«part def»</text><text fill=\"#000000\" font-family=\"sans-serif\" font-size=\"12\" lengthAdjust=\"spacingAndGlyphs\" textLength=\"9\" x=\"165.5\" y=\"185.1074\">Q</text><line style=\"stroke: #383838; stroke-width: 1.5;\" x1=\"138\" x2=\"202\" y1=\"192.9375\" y2=\"192.9375\"/></a><!--MD5=[ebbe1d658d1005bcc118a6aa81145e00]\n",
       "class E4--><a href=\"psysml:6204c3f0-143a-45cc-ac58-9ea86a3a8ea6\" target=\"_top\" title=\"psysml:6204c3f0-143a-45cc-ac58-9ea86a3a8ea6\" xlink:actuate=\"onRequest\" xlink:href=\"psysml:6204c3f0-143a-45cc-ac58-9ea86a3a8ea6\" xlink:show=\"new\" xlink:title=\"psysml:6204c3f0-143a-45cc-ac58-9ea86a3a8ea6\" xlink:type=\"simple\"><rect fill=\"#FFFFFF\" height=\"45.9375\" id=\"E4\" style=\"stroke: #383838; stroke-width: 1.5;\" width=\"95\" x=\"255.5\" y=\"41\"/><text fill=\"#000000\" font-family=\"sans-serif\" font-size=\"12\" font-style=\"italic\" lengthAdjust=\"spacingAndGlyphs\" textLength=\"93\" x=\"256.5\" y=\"57.1387\">«attribute def»</text><text fill=\"#000000\" font-family=\"sans-serif\" font-size=\"12\" lengthAdjust=\"spacingAndGlyphs\" textLength=\"8\" x=\"299\" y=\"71.1074\">B</text><line style=\"stroke: #383838; stroke-width: 1.5;\" x1=\"256.5\" x2=\"349.5\" y1=\"78.9375\" y2=\"78.9375\"/></a><!--MD5=[270fce915f116d4de14055a7c1d9a0f3]\n",
       "class E5--><a href=\"psysml:58826ca2-a740-4eaa-a71e-521b590388a3\" target=\"_top\" title=\"psysml:58826ca2-a740-4eaa-a71e-521b590388a3\" xlink:actuate=\"onRequest\" xlink:href=\"psysml:58826ca2-a740-4eaa-a71e-521b590388a3\" xlink:show=\"new\" xlink:title=\"psysml:58826ca2-a740-4eaa-a71e-521b590388a3\" xlink:type=\"simple\"><rect fill=\"#FFFFFF\" height=\"45.9375\" id=\"E5\" style=\"stroke: #383838; stroke-width: 1.5;\" width=\"66\" x=\"315\" y=\"155\"/><text fill=\"#000000\" font-family=\"sans-serif\" font-size=\"12\" font-style=\"italic\" lengthAdjust=\"spacingAndGlyphs\" textLength=\"64\" x=\"316\" y=\"171.1387\">«part def»</text><text fill=\"#000000\" font-family=\"sans-serif\" font-size=\"12\" lengthAdjust=\"spacingAndGlyphs\" textLength=\"8\" x=\"344\" y=\"185.1074\">V</text><line style=\"stroke: #383838; stroke-width: 1.5;\" x1=\"316\" x2=\"380\" y1=\"192.9375\" y2=\"192.9375\"/></a><!--MD5=[60a26617385b1d2d0262a64233df1f8d]\n",
       "class E6--><a href=\"psysml:c2df0e2e-5a66-4a2b-abfc-b3b4dd7dd2c5\" target=\"_top\" title=\"psysml:c2df0e2e-5a66-4a2b-abfc-b3b4dd7dd2c5\" xlink:actuate=\"onRequest\" xlink:href=\"psysml:c2df0e2e-5a66-4a2b-abfc-b3b4dd7dd2c5\" xlink:show=\"new\" xlink:title=\"psysml:c2df0e2e-5a66-4a2b-abfc-b3b4dd7dd2c5\" xlink:type=\"simple\"><rect fill=\"#FFFFFF\" height=\"88.3516\" id=\"E6\" rx=\"10\" ry=\"10\" style=\"stroke: #383838; stroke-width: 1.5;\" width=\"63\" x=\"287.5\" y=\"285\"/><text fill=\"#000000\" font-family=\"sans-serif\" font-size=\"12\" font-style=\"italic\" lengthAdjust=\"spacingAndGlyphs\" textLength=\"40\" x=\"299\" y=\"301.1387\">«part»</text><text fill=\"#000000\" font-family=\"sans-serif\" font-size=\"12\" lengthAdjust=\"spacingAndGlyphs\" textLength=\"23\" x=\"307.5\" y=\"315.1074\">x: Q</text><line style=\"stroke: #383838; stroke-width: 1.5;\" x1=\"288.5\" x2=\"349.5\" y1=\"322.9375\" y2=\"322.9375\"/><text fill=\"#000000\" font-family=\"sans-serif\" font-size=\"11\" lengthAdjust=\"spacingAndGlyphs\" textLength=\"23\" x=\"293.5\" y=\"353.9526\">b: B</text><text fill=\"#000000\" font-family=\"sans-serif\" font-size=\"11\" font-style=\"italic\" lengthAdjust=\"spacingAndGlyphs\" textLength=\"44\" x=\"293.5\" y=\"366.7573\">:&gt;&gt;P::a</text><line style=\"stroke: #383838; stroke-width: 1.0;\" x1=\"288.5\" x2=\"291.5\" y1=\"337.3398\" y2=\"337.3398\"/><text fill=\"#000000\" font-family=\"sans-serif\" font-size=\"11\" lengthAdjust=\"spacingAndGlyphs\" textLength=\"55\" x=\"291.5\" y=\"340.6479\">attributes</text><line style=\"stroke: #383838; stroke-width: 1.0;\" x1=\"346.5\" x2=\"349.5\" y1=\"337.3398\" y2=\"337.3398\"/></a><!--MD5=[2156ba9850f5573cc1fc38a6a4b2f02b]\n",
       "class E7--><a href=\"psysml:d5aa7800-4c4d-4a74-9f82-8c5d7377a367\" target=\"_top\" title=\"psysml:d5aa7800-4c4d-4a74-9f82-8c5d7377a367\" xlink:actuate=\"onRequest\" xlink:href=\"psysml:d5aa7800-4c4d-4a74-9f82-8c5d7377a367\" xlink:show=\"new\" xlink:title=\"psysml:d5aa7800-4c4d-4a74-9f82-8c5d7377a367\" xlink:type=\"simple\"><rect fill=\"#FFFFFF\" height=\"45.9375\" id=\"E7\" rx=\"10\" ry=\"10\" style=\"stroke: #383838; stroke-width: 1.5;\" width=\"42\" x=\"149\" y=\"41\"/><text fill=\"#000000\" font-family=\"sans-serif\" font-size=\"12\" font-style=\"italic\" lengthAdjust=\"spacingAndGlyphs\" textLength=\"40\" x=\"150\" y=\"57.1387\">«part»</text><text fill=\"#000000\" font-family=\"sans-serif\" font-size=\"12\" lengthAdjust=\"spacingAndGlyphs\" textLength=\"25\" x=\"157.5\" y=\"71.1074\">q: Q</text><line style=\"stroke: #383838; stroke-width: 1.5;\" x1=\"150\" x2=\"190\" y1=\"78.9375\" y2=\"78.9375\"/></a><!--MD5=[b9389687b975829384b498ac4b7476b2]\n",
       "class E8--><a href=\"psysml:d7b3804f-80e3-4381-979e-bf8e2501fba8\" target=\"_top\" title=\"psysml:d7b3804f-80e3-4381-979e-bf8e2501fba8\" xlink:actuate=\"onRequest\" xlink:href=\"psysml:d7b3804f-80e3-4381-979e-bf8e2501fba8\" xlink:show=\"new\" xlink:title=\"psysml:d7b3804f-80e3-4381-979e-bf8e2501fba8\" xlink:type=\"simple\"><rect fill=\"#FFFFFF\" height=\"59.9063\" id=\"E8\" rx=\"10\" ry=\"10\" style=\"stroke: #383838; stroke-width: 1.5;\" width=\"70\" x=\"32\" y=\"148\"/><text fill=\"#000000\" font-family=\"sans-serif\" font-size=\"12\" font-style=\"italic\" lengthAdjust=\"spacingAndGlyphs\" textLength=\"68\" x=\"33\" y=\"164.1387\">«variation»</text><text fill=\"#000000\" font-family=\"sans-serif\" font-size=\"12\" font-style=\"italic\" lengthAdjust=\"spacingAndGlyphs\" textLength=\"40\" x=\"47\" y=\"178.1074\">«part»</text><text fill=\"#000000\" font-family=\"sans-serif\" font-size=\"12\" lengthAdjust=\"spacingAndGlyphs\" textLength=\"22\" x=\"56\" y=\"192.0762\">v: P</text><line style=\"stroke: #383838; stroke-width: 1.5;\" x1=\"33\" x2=\"101\" y1=\"199.9063\" y2=\"199.9063\"/></a><!--MD5=[fd4143e9d270a159db93a4ea2a975926]\n",
       "class E9--><a href=\"psysml:aeeab6cc-3339-44ed-a45c-f65a5d97c376\" target=\"_top\" title=\"psysml:aeeab6cc-3339-44ed-a45c-f65a5d97c376\" xlink:actuate=\"onRequest\" xlink:href=\"psysml:aeeab6cc-3339-44ed-a45c-f65a5d97c376\" xlink:show=\"new\" xlink:title=\"psysml:aeeab6cc-3339-44ed-a45c-f65a5d97c376\" xlink:type=\"simple\"><rect fill=\"#FFFFFF\" height=\"88.3516\" id=\"E9\" rx=\"10\" ry=\"10\" style=\"stroke: #383838; stroke-width: 1.5;\" width=\"77\" x=\"32.5\" y=\"285\"/><text fill=\"#000000\" font-family=\"sans-serif\" font-size=\"12\" font-style=\"italic\" lengthAdjust=\"spacingAndGlyphs\" textLength=\"75\" x=\"33.5\" y=\"301.1387\">«reference»</text><text fill=\"#000000\" font-family=\"sans-serif\" font-size=\"12\" lengthAdjust=\"spacingAndGlyphs\" textLength=\"8\" x=\"67\" y=\"315.1074\">q</text><line style=\"stroke: #383838; stroke-width: 1.5;\" x1=\"33.5\" x2=\"108.5\" y1=\"322.9375\" y2=\"322.9375\"/><text fill=\"#000000\" font-family=\"sans-serif\" font-size=\"11\" lengthAdjust=\"spacingAndGlyphs\" textLength=\"23\" x=\"38.5\" y=\"353.9526\">b: B</text><text fill=\"#000000\" font-family=\"sans-serif\" font-size=\"11\" font-style=\"italic\" lengthAdjust=\"spacingAndGlyphs\" textLength=\"44\" x=\"38.5\" y=\"366.7573\">:&gt;&gt;P::a</text><line style=\"stroke: #383838; stroke-width: 1.0;\" x1=\"33.5\" x2=\"43.5\" y1=\"337.3398\" y2=\"337.3398\"/><text fill=\"#000000\" font-family=\"sans-serif\" font-size=\"11\" lengthAdjust=\"spacingAndGlyphs\" textLength=\"55\" x=\"43.5\" y=\"340.6479\">attributes</text><line style=\"stroke: #383838; stroke-width: 1.0;\" x1=\"98.5\" x2=\"108.5\" y1=\"337.3398\" y2=\"337.3398\"/></a><!--MD5=[96f4274e9e20536e775497830990834d]\n",
       "class E10--><a href=\"psysml:fe63b1e8-840a-4f2e-b06a-2ce986f19d03\" target=\"_top\" title=\"psysml:fe63b1e8-840a-4f2e-b06a-2ce986f19d03\" xlink:actuate=\"onRequest\" xlink:href=\"psysml:fe63b1e8-840a-4f2e-b06a-2ce986f19d03\" xlink:show=\"new\" xlink:title=\"psysml:fe63b1e8-840a-4f2e-b06a-2ce986f19d03\" xlink:type=\"simple\"><rect fill=\"#FFFFFF\" height=\"45.9375\" id=\"E10\" rx=\"10\" ry=\"10\" style=\"stroke: #383838; stroke-width: 1.5;\" width=\"42\" x=\"238\" y=\"155\"/><text fill=\"#000000\" font-family=\"sans-serif\" font-size=\"12\" font-style=\"italic\" lengthAdjust=\"spacingAndGlyphs\" textLength=\"40\" x=\"239\" y=\"171.1387\">«part»</text><text fill=\"#000000\" font-family=\"sans-serif\" font-size=\"12\" lengthAdjust=\"spacingAndGlyphs\" textLength=\"22\" x=\"248\" y=\"185.1074\">y: P</text><line style=\"stroke: #383838; stroke-width: 1.5;\" x1=\"239\" x2=\"279\" y1=\"192.9375\" y2=\"192.9375\"/></a><!--MD5=[05d275557350bfb9b23a4ef7222b4c39]\n",
       "link E3 to E2--><a href=\"psysml:6495a820-e8c0-4129-af26-6722c3b7b9e6\" target=\"_top\" title=\"psysml:6495a820-e8c0-4129-af26-6722c3b7b9e6\" xlink:actuate=\"onRequest\" xlink:href=\"psysml:6495a820-e8c0-4129-af26-6722c3b7b9e6\" xlink:show=\"new\" xlink:title=\"psysml:6495a820-e8c0-4129-af26-6722c3b7b9e6\" xlink:type=\"simple\"><path d=\"M174.34,201.31 C177.92,219.67 183.15,246.54 187.87,270.81 \" fill=\"none\" id=\"E3-&gt;E2\" style=\"stroke: #383838; stroke-width: 1.0;\"/><polygon fill=\"none\" points=\"194.8,269.8,191.75,290.77,181.06,272.47,194.8,269.8\" style=\"stroke: #383838; stroke-width: 1.0;\"/></a><!--MD5=[15ebcb19ae302d9b601edb458606d402]\n",
       "link E5 to E2--><a href=\"psysml:bd00e4e7-d183-497a-b9f8-56660fc51e3e\" target=\"_top\" title=\"psysml:bd00e4e7-d183-497a-b9f8-56660fc51e3e\" xlink:actuate=\"onRequest\" xlink:href=\"psysml:bd00e4e7-d183-497a-b9f8-56660fc51e3e\" xlink:show=\"new\" xlink:title=\"psysml:bd00e4e7-d183-497a-b9f8-56660fc51e3e\" xlink:type=\"simple\"><path d=\"M325.69,201.31 C304.9,222.1 273.2,253.8 246.71,280.29 \" fill=\"none\" id=\"E5-&gt;E2\" style=\"stroke: #383838; stroke-width: 1.0;\"/><polygon fill=\"none\" points=\"251.33,285.57,232.24,294.76,241.43,275.67,251.33,285.57\" style=\"stroke: #383838; stroke-width: 1.0;\"/></a><!--MD5=[9120cf2e5df3bff93db8f754bbbc09b4]\n",
       "link E5 to E6--><a href=\"psysml:3ec706da-d65f-4ef5-8a1f-1e1b5df7e7c6\" target=\"_top\" title=\"psysml:3ec706da-d65f-4ef5-8a1f-1e1b5df7e7c6\" xlink:actuate=\"onRequest\" xlink:href=\"psysml:3ec706da-d65f-4ef5-8a1f-1e1b5df7e7c6\" xlink:show=\"new\" xlink:title=\"psysml:3ec706da-d65f-4ef5-8a1f-1e1b5df7e7c6\" xlink:type=\"simple\"><path d=\"M341.72,211.26 C338.1,229.85 333.47,253.68 329.32,274.95 \" fill=\"none\" id=\"E5-E6\" style=\"stroke: #383838; stroke-width: 1.0;\"/><polygon fill=\"#383838\" points=\"327.4,284.84,331.8761,277.5623,325.987,276.4136,327.4,284.84\" style=\"stroke: #383838; stroke-width: 1.0;\"/><path d=\"M334.7699,202.7122 A9,9 0 0 0 351.3715 205.9503\" fill=\"none\" style=\"stroke: #383838; stroke-width: 1.5;\"/><text fill=\"#000000\" font-family=\"sans-serif\" font-size=\"13\" lengthAdjust=\"spacingAndGlyphs\" textLength=\"60\" x=\"337\" y=\"251.0669\">«variant»</text></a><!--MD5=[14ccda38c055a5c0da953d572bc50960]\n",
       "link E7 to E3--><a href=\"psysml:9cf32953-475b-4011-b1f8-e7f09d5ce449\" target=\"_top\" title=\"psysml:9cf32953-475b-4011-b1f8-e7f09d5ce449\" xlink:actuate=\"onRequest\" xlink:href=\"psysml:9cf32953-475b-4011-b1f8-e7f09d5ce449\" xlink:show=\"new\" xlink:title=\"psysml:9cf32953-475b-4011-b1f8-e7f09d5ce449\" xlink:type=\"simple\"><path d=\"M170,87.13 C170,100.7 170,118.53 170,134.73 \" fill=\"none\" id=\"E7-&gt;E3\" style=\"stroke: #383838; stroke-width: 1.0;\"/><polygon fill=\"#FFFFFF\" points=\"170,154.92,163,135.92,177,135.92,170,154.92\" style=\"stroke: #383838; stroke-width: 1.0;\"/><ellipse cx=\"165\" cy=\"130.22\" fill=\"#383838\" rx=\"2\" ry=\"2\" style=\"stroke: #383838; stroke-width: 1.0;\"/><ellipse cx=\"175\" cy=\"130.22\" fill=\"#383838\" rx=\"2\" ry=\"2\" style=\"stroke: #383838; stroke-width: 1.0;\"/></a><!--MD5=[f1f3f9f2fc535e6147756cb86a7f2e32]\n",
       "link E8 to E2--><a href=\"psysml:d1a9bfbc-b159-49c1-a5ca-956a4881ee49\" target=\"_top\" title=\"psysml:d1a9bfbc-b159-49c1-a5ca-956a4881ee49\" xlink:actuate=\"onRequest\" xlink:href=\"psysml:d1a9bfbc-b159-49c1-a5ca-956a4881ee49\" xlink:show=\"new\" xlink:title=\"psysml:d1a9bfbc-b159-49c1-a5ca-956a4881ee49\" xlink:type=\"simple\"><path d=\"M102.17,204.39 C114.52,214.17 128.04,225.9 139,238 C148.86,248.88 158.29,261.5 166.63,273.79 \" fill=\"none\" id=\"E8-&gt;E2\" style=\"stroke: #383838; stroke-width: 1.0;\"/><polygon fill=\"#FFFFFF\" points=\"177.64,290.73,161.4168,278.6135,173.1555,270.9844,177.64,290.73\" style=\"stroke: #383838; stroke-width: 1.0;\"/><ellipse cx=\"159.9876\" cy=\"272.7443\" fill=\"#383838\" rx=\"2\" ry=\"2\" style=\"stroke: #383838; stroke-width: 1.0;\"/><ellipse cx=\"168.3724\" cy=\"267.2949\" fill=\"#383838\" rx=\"2\" ry=\"2\" style=\"stroke: #383838; stroke-width: 1.0;\"/></a><!--MD5=[ed10624c06dd9a4fa49ccf290e8b16a8]\n",
       "link E8 to E9--><a href=\"psysml:4574f674-7c12-4143-bfb7-6a6844a72e64\" target=\"_top\" title=\"psysml:4574f674-7c12-4143-bfb7-6a6844a72e64\" xlink:actuate=\"onRequest\" xlink:href=\"psysml:4574f674-7c12-4143-bfb7-6a6844a72e64\" xlink:show=\"new\" xlink:title=\"psysml:4574f674-7c12-4143-bfb7-6a6844a72e64\" xlink:type=\"simple\"><path d=\"M68.06,218.32 C68.52,235.6 69.07,256.15 69.57,274.77 \" fill=\"none\" id=\"E8-E9\" style=\"stroke: #383838; stroke-width: 1.0;\"/><polygon fill=\"#383838\" points=\"69.84,284.88,72.6331,276.8054,66.6351,276.9599,69.84,284.88\" style=\"stroke: #383838; stroke-width: 1.0;\"/><path d=\"M59.4094,211.3865 A9,9 0 0 0 76.3176 210.9276\" fill=\"none\" style=\"stroke: #383838; stroke-width: 1.5;\"/><text fill=\"#000000\" font-family=\"sans-serif\" font-size=\"13\" lengthAdjust=\"spacingAndGlyphs\" textLength=\"60\" x=\"70\" y=\"251.0669\">«variant»</text></a><!--MD5=[0f36bececdf0dff6e600d6f64214b0f1]\n",
       "link E10 to E2--><a href=\"psysml:bd829215-07d4-45cb-8fe9-60748d4dd682\" target=\"_top\" title=\"psysml:bd829215-07d4-45cb-8fe9-60748d4dd682\" xlink:actuate=\"onRequest\" xlink:href=\"psysml:bd829215-07d4-45cb-8fe9-60748d4dd682\" xlink:show=\"new\" xlink:title=\"psysml:bd829215-07d4-45cb-8fe9-60748d4dd682\" xlink:type=\"simple\"><path d=\"M250.02,201.31 C242.51,219.95 231.48,247.35 221.59,271.91 \" fill=\"none\" id=\"E10-&gt;E2\" style=\"stroke: #383838; stroke-width: 1.0;\"/><polygon fill=\"#FFFFFF\" points=\"213.99,290.77,214.5927,270.5305,227.5796,275.7593,213.99,290.77\" style=\"stroke: #383838; stroke-width: 1.0;\"/><ellipse cx=\"218.5768\" cy=\"265.9899\" fill=\"#383838\" rx=\"2\" ry=\"2\" style=\"stroke: #383838; stroke-width: 1.0;\"/><ellipse cx=\"227.8532\" cy=\"269.7248\" fill=\"#383838\" rx=\"2\" ry=\"2\" style=\"stroke: #383838; stroke-width: 1.0;\"/></a><!--MD5=[fef76c6cf378f8188780777283cff0c1]\n",
       "@startuml\r\n",
       " skinparam monochrome true\r\n",
       "skinparam classbackgroundcolor white\r\n",
       "skinparam shadowing false\r\n",
       "skinparam wrapWidth 300\r\n",
       "hide circle\r\n",
       "\r\n",
       "package \"VariabilityTest\" as E1  [[psysml:6e13bc12-600f-4176-9ee3-c77c18f0da6f ]]  {\r\n",
       "comp def \"P\" as E2  <<(T,blue) part def>> [[psysml:a47e4883-53c6-48e5-9729-358fb18738b5 ]] {\r\n",
       "- - attributes - -\r\n",
       "a\r\n",
       "}\r\n",
       "comp def \"Q\" as E3  <<(T,blue) part def>> [[psysml:64152dcd-188c-4285-9d2f-82b4222731ff ]] {\r\n",
       "}\r\n",
       "comp def \"B\" as E4  <<(T,blue) attribute def>> [[psysml:6204c3f0-143a-45cc-ac58-9ea86a3a8ea6 ]] {\r\n",
       "}\r\n",
       "comp def \"V\" as E5  <<(T,blue) part def>> [[psysml:58826ca2-a740-4eaa-a71e-521b590388a3 ]] {\r\n",
       "}\r\n",
       "comp usage \"x: Q\" as E6  <<(T,blue) part>> [[psysml:c2df0e2e-5a66-4a2b-abfc-b3b4dd7dd2c5 ]] {\r\n",
       "- - attributes - -\r\n",
       "b: B\\n//:>>P::a// \r\n",
       "}\r\n",
       "comp usage \"q: Q\" as E7  <<(T,blue) part>> [[psysml:d5aa7800-4c4d-4a74-9f82-8c5d7377a367 ]] {\r\n",
       "}\r\n",
       "comp usage \"v: P\" as E8  <<variation>>\\n <<(T,blue) part>> [[psysml:d7b3804f-80e3-4381-979e-bf8e2501fba8 ]] {\r\n",
       "}\r\n",
       "comp usage \"q\" as E9  <<(T,blue) reference>> [[psysml:aeeab6cc-3339-44ed-a45c-f65a5d97c376 ]] {\r\n",
       "- - attributes - -\r\n",
       "b: B\\n//:>>P::a// \r\n",
       "}\r\n",
       "comp usage \"y: P\" as E10  <<(T,blue) part>> [[psysml:fe63b1e8-840a-4f2e-b06a-2ce986f19d03 ]] {\r\n",
       "}\r\n",
       "E3 - -|> E2 [[psysml:6495a820-e8c0-4129-af26-6722c3b7b9e6 ]] \r\n",
       "E5 - -|> E2 [[psysml:bd00e4e7-d183-497a-b9f8-56660fc51e3e ]] \r\n",
       "E5 )- ->> E6 [[psysml:3ec706da-d65f-4ef5-8a1f-1e1b5df7e7c6 ]] : <<variant>>\r\n",
       "E7 - -:|> E3 [[psysml:9cf32953-475b-4011-b1f8-e7f09d5ce449 ]] \r\n",
       "E8 - -:|> E2 [[psysml:d1a9bfbc-b159-49c1-a5ca-956a4881ee49 ]] \r\n",
       "E8 )- ->> E9 [[psysml:4574f674-7c12-4143-bfb7-6a6844a72e64 ]] : <<variant>>\r\n",
       "E10 - -:|> E2 [[psysml:bd829215-07d4-45cb-8fe9-60748d4dd682 ]] \r\n",
       "}\r\n",
       "@enduml\r\n",
       "\n",
       "PlantUML version 1.2020.13(Sat Jun 13 12:26:38 UTC 2020)\n",
       "(EPL source distribution)\n",
       "Java Runtime: OpenJDK Runtime Environment\n",
       "JVM: OpenJDK 64-Bit Server VM\n",
       "Default Encoding: UTF-8\n",
       "Language: en\n",
       "Country: null\n",
       "--></g></svg>"
      ]
     },
     "execution_count": 8,
     "metadata": {},
     "output_type": "execute_result"
    }
   ],
   "source": [
    "%viz --style=\"COMPTREE\" --view=\"MIXED\" \"VariabilityTest\""
   ]
  },
  {
   "cell_type": "code",
   "execution_count": 9,
   "id": "e1aa7752",
   "metadata": {
    "execution": {
     "iopub.execute_input": "2021-08-04T06:26:48.404453Z",
     "iopub.status.busy": "2021-08-04T06:26:48.404140Z",
     "iopub.status.idle": "2021-08-04T06:26:48.483683Z",
     "shell.execute_reply": "2021-08-04T06:26:48.482226Z"
    }
   },
   "outputs": [
    {
     "data": {
      "image/svg+xml": [
       "<?xml version=\"1.0\" encoding=\"UTF-8\" standalone=\"no\"?><svg xmlns=\"http://www.w3.org/2000/svg\" xmlns:xlink=\"http://www.w3.org/1999/xlink\" contentScriptType=\"application/ecmascript\" contentStyleType=\"text/css\" height=\"401px\" preserveAspectRatio=\"none\" style=\"width:419px;height:401px;\" version=\"1.1\" viewBox=\"0 0 419 401\" width=\"419px\" zoomAndPan=\"magnify\"><defs/><g><!--MD5=[fbc87193dbaf4d95561dea2c320d4a47]\n",
       "cluster E1--><a href=\"psysml:6e13bc12-600f-4176-9ee3-c77c18f0da6f\" target=\"_top\" title=\"psysml:6e13bc12-600f-4176-9ee3-c77c18f0da6f\" xlink:actuate=\"onRequest\" xlink:href=\"psysml:6e13bc12-600f-4176-9ee3-c77c18f0da6f\" xlink:show=\"new\" xlink:title=\"psysml:6e13bc12-600f-4176-9ee3-c77c18f0da6f\" xlink:type=\"simple\"><polygon fill=\"#FFFFFF\" points=\"16,6,134,6,141,28.2969,397,28.2969,397,389,16,389,16,6\" style=\"stroke: #000000; stroke-width: 1.5;\"/><line style=\"stroke: #000000; stroke-width: 1.5;\" x1=\"16\" x2=\"141\" y1=\"28.2969\" y2=\"28.2969\"/><text fill=\"#000000\" font-family=\"sans-serif\" font-size=\"14\" font-weight=\"bold\" lengthAdjust=\"spacingAndGlyphs\" textLength=\"112\" x=\"20\" y=\"20.9951\">VariabilityTest</text></a><!--MD5=[b4997ac47864f28c2f74865a473b2911]\n",
       "class E2--><a href=\"psysml:a47e4883-53c6-48e5-9729-358fb18738b5\" target=\"_top\" title=\"psysml:a47e4883-53c6-48e5-9729-358fb18738b5\" xlink:actuate=\"onRequest\" xlink:href=\"psysml:a47e4883-53c6-48e5-9729-358fb18738b5\" xlink:show=\"new\" xlink:title=\"psysml:a47e4883-53c6-48e5-9729-358fb18738b5\" xlink:type=\"simple\"><rect fill=\"#FFFFFF\" height=\"75.5469\" id=\"E2\" style=\"stroke: #383838; stroke-width: 1.5;\" width=\"66\" x=\"166\" y=\"291\"/><text fill=\"#000000\" font-family=\"sans-serif\" font-size=\"12\" font-style=\"italic\" lengthAdjust=\"spacingAndGlyphs\" textLength=\"64\" x=\"167\" y=\"307.1387\">«part def»</text><text fill=\"#000000\" font-family=\"sans-serif\" font-size=\"12\" lengthAdjust=\"spacingAndGlyphs\" textLength=\"8\" x=\"195\" y=\"321.1074\">P</text><line style=\"stroke: #383838; stroke-width: 1.5;\" x1=\"167\" x2=\"231\" y1=\"328.9375\" y2=\"328.9375\"/><text fill=\"#000000\" font-family=\"sans-serif\" font-size=\"11\" lengthAdjust=\"spacingAndGlyphs\" textLength=\"7\" x=\"172\" y=\"359.9526\">a</text><line style=\"stroke: #383838; stroke-width: 1.0;\" x1=\"167\" x2=\"171.5\" y1=\"343.3398\" y2=\"343.3398\"/><text fill=\"#000000\" font-family=\"sans-serif\" font-size=\"11\" lengthAdjust=\"spacingAndGlyphs\" textLength=\"55\" x=\"171.5\" y=\"346.6479\">attributes</text><line style=\"stroke: #383838; stroke-width: 1.0;\" x1=\"226.5\" x2=\"231\" y1=\"343.3398\" y2=\"343.3398\"/></a><!--MD5=[09b614a08d8cba4a07c9adeb5e0fee81]\n",
       "class E3--><a href=\"psysml:64152dcd-188c-4285-9d2f-82b4222731ff\" target=\"_top\" title=\"psysml:64152dcd-188c-4285-9d2f-82b4222731ff\" xlink:actuate=\"onRequest\" xlink:href=\"psysml:64152dcd-188c-4285-9d2f-82b4222731ff\" xlink:show=\"new\" xlink:title=\"psysml:64152dcd-188c-4285-9d2f-82b4222731ff\" xlink:type=\"simple\"><rect fill=\"#FFFFFF\" height=\"45.9375\" id=\"E3\" style=\"stroke: #383838; stroke-width: 1.5;\" width=\"66\" x=\"137\" y=\"155\"/><text fill=\"#000000\" font-family=\"sans-serif\" font-size=\"12\" font-style=\"italic\" lengthAdjust=\"spacingAndGlyphs\" textLength=\"64\" x=\"138\" y=\"171.1387\">«part def»</text><text fill=\"#000000\" font-family=\"sans-serif\" font-size=\"12\" lengthAdjust=\"spacingAndGlyphs\" textLength=\"9\" x=\"165.5\" y=\"185.1074\">Q</text><line style=\"stroke: #383838; stroke-width: 1.5;\" x1=\"138\" x2=\"202\" y1=\"192.9375\" y2=\"192.9375\"/></a><!--MD5=[ebbe1d658d1005bcc118a6aa81145e00]\n",
       "class E4--><a href=\"psysml:6204c3f0-143a-45cc-ac58-9ea86a3a8ea6\" target=\"_top\" title=\"psysml:6204c3f0-143a-45cc-ac58-9ea86a3a8ea6\" xlink:actuate=\"onRequest\" xlink:href=\"psysml:6204c3f0-143a-45cc-ac58-9ea86a3a8ea6\" xlink:show=\"new\" xlink:title=\"psysml:6204c3f0-143a-45cc-ac58-9ea86a3a8ea6\" xlink:type=\"simple\"><rect fill=\"#FFFFFF\" height=\"45.9375\" id=\"E4\" style=\"stroke: #383838; stroke-width: 1.5;\" width=\"95\" x=\"255.5\" y=\"41\"/><text fill=\"#000000\" font-family=\"sans-serif\" font-size=\"12\" font-style=\"italic\" lengthAdjust=\"spacingAndGlyphs\" textLength=\"93\" x=\"256.5\" y=\"57.1387\">«attribute def»</text><text fill=\"#000000\" font-family=\"sans-serif\" font-size=\"12\" lengthAdjust=\"spacingAndGlyphs\" textLength=\"8\" x=\"299\" y=\"71.1074\">B</text><line style=\"stroke: #383838; stroke-width: 1.5;\" x1=\"256.5\" x2=\"349.5\" y1=\"78.9375\" y2=\"78.9375\"/></a><!--MD5=[270fce915f116d4de14055a7c1d9a0f3]\n",
       "class E5--><a href=\"psysml:58826ca2-a740-4eaa-a71e-521b590388a3\" target=\"_top\" title=\"psysml:58826ca2-a740-4eaa-a71e-521b590388a3\" xlink:actuate=\"onRequest\" xlink:href=\"psysml:58826ca2-a740-4eaa-a71e-521b590388a3\" xlink:show=\"new\" xlink:title=\"psysml:58826ca2-a740-4eaa-a71e-521b590388a3\" xlink:type=\"simple\"><rect fill=\"#FFFFFF\" height=\"45.9375\" id=\"E5\" style=\"stroke: #383838; stroke-width: 1.5;\" width=\"66\" x=\"315\" y=\"155\"/><text fill=\"#000000\" font-family=\"sans-serif\" font-size=\"12\" font-style=\"italic\" lengthAdjust=\"spacingAndGlyphs\" textLength=\"64\" x=\"316\" y=\"171.1387\">«part def»</text><text fill=\"#000000\" font-family=\"sans-serif\" font-size=\"12\" lengthAdjust=\"spacingAndGlyphs\" textLength=\"8\" x=\"344\" y=\"185.1074\">V</text><line style=\"stroke: #383838; stroke-width: 1.5;\" x1=\"316\" x2=\"380\" y1=\"192.9375\" y2=\"192.9375\"/></a><!--MD5=[60a26617385b1d2d0262a64233df1f8d]\n",
       "class E6--><a href=\"psysml:c2df0e2e-5a66-4a2b-abfc-b3b4dd7dd2c5\" target=\"_top\" title=\"psysml:c2df0e2e-5a66-4a2b-abfc-b3b4dd7dd2c5\" xlink:actuate=\"onRequest\" xlink:href=\"psysml:c2df0e2e-5a66-4a2b-abfc-b3b4dd7dd2c5\" xlink:show=\"new\" xlink:title=\"psysml:c2df0e2e-5a66-4a2b-abfc-b3b4dd7dd2c5\" xlink:type=\"simple\"><rect fill=\"#FFFFFF\" height=\"88.3516\" id=\"E6\" rx=\"10\" ry=\"10\" style=\"stroke: #383838; stroke-width: 1.5;\" width=\"63\" x=\"287.5\" y=\"285\"/><text fill=\"#000000\" font-family=\"sans-serif\" font-size=\"12\" font-style=\"italic\" lengthAdjust=\"spacingAndGlyphs\" textLength=\"40\" x=\"299\" y=\"301.1387\">«part»</text><text fill=\"#000000\" font-family=\"sans-serif\" font-size=\"12\" lengthAdjust=\"spacingAndGlyphs\" textLength=\"23\" x=\"307.5\" y=\"315.1074\">x: Q</text><line style=\"stroke: #383838; stroke-width: 1.5;\" x1=\"288.5\" x2=\"349.5\" y1=\"322.9375\" y2=\"322.9375\"/><text fill=\"#000000\" font-family=\"sans-serif\" font-size=\"11\" lengthAdjust=\"spacingAndGlyphs\" textLength=\"23\" x=\"293.5\" y=\"353.9526\">b: B</text><text fill=\"#000000\" font-family=\"sans-serif\" font-size=\"11\" font-style=\"italic\" lengthAdjust=\"spacingAndGlyphs\" textLength=\"44\" x=\"293.5\" y=\"366.7573\">:&gt;&gt;P::a</text><line style=\"stroke: #383838; stroke-width: 1.0;\" x1=\"288.5\" x2=\"291.5\" y1=\"337.3398\" y2=\"337.3398\"/><text fill=\"#000000\" font-family=\"sans-serif\" font-size=\"11\" lengthAdjust=\"spacingAndGlyphs\" textLength=\"55\" x=\"291.5\" y=\"340.6479\">attributes</text><line style=\"stroke: #383838; stroke-width: 1.0;\" x1=\"346.5\" x2=\"349.5\" y1=\"337.3398\" y2=\"337.3398\"/></a><!--MD5=[2156ba9850f5573cc1fc38a6a4b2f02b]\n",
       "class E7--><a href=\"psysml:d5aa7800-4c4d-4a74-9f82-8c5d7377a367\" target=\"_top\" title=\"psysml:d5aa7800-4c4d-4a74-9f82-8c5d7377a367\" xlink:actuate=\"onRequest\" xlink:href=\"psysml:d5aa7800-4c4d-4a74-9f82-8c5d7377a367\" xlink:show=\"new\" xlink:title=\"psysml:d5aa7800-4c4d-4a74-9f82-8c5d7377a367\" xlink:type=\"simple\"><rect fill=\"#FFFFFF\" height=\"45.9375\" id=\"E7\" rx=\"10\" ry=\"10\" style=\"stroke: #383838; stroke-width: 1.5;\" width=\"42\" x=\"149\" y=\"41\"/><text fill=\"#000000\" font-family=\"sans-serif\" font-size=\"12\" font-style=\"italic\" lengthAdjust=\"spacingAndGlyphs\" textLength=\"40\" x=\"150\" y=\"57.1387\">«part»</text><text fill=\"#000000\" font-family=\"sans-serif\" font-size=\"12\" lengthAdjust=\"spacingAndGlyphs\" textLength=\"25\" x=\"157.5\" y=\"71.1074\">q: Q</text><line style=\"stroke: #383838; stroke-width: 1.5;\" x1=\"150\" x2=\"190\" y1=\"78.9375\" y2=\"78.9375\"/></a><!--MD5=[b9389687b975829384b498ac4b7476b2]\n",
       "class E8--><a href=\"psysml:d7b3804f-80e3-4381-979e-bf8e2501fba8\" target=\"_top\" title=\"psysml:d7b3804f-80e3-4381-979e-bf8e2501fba8\" xlink:actuate=\"onRequest\" xlink:href=\"psysml:d7b3804f-80e3-4381-979e-bf8e2501fba8\" xlink:show=\"new\" xlink:title=\"psysml:d7b3804f-80e3-4381-979e-bf8e2501fba8\" xlink:type=\"simple\"><rect fill=\"#FFFFFF\" height=\"59.9063\" id=\"E8\" rx=\"10\" ry=\"10\" style=\"stroke: #383838; stroke-width: 1.5;\" width=\"70\" x=\"32\" y=\"148\"/><text fill=\"#000000\" font-family=\"sans-serif\" font-size=\"12\" font-style=\"italic\" lengthAdjust=\"spacingAndGlyphs\" textLength=\"68\" x=\"33\" y=\"164.1387\">«variation»</text><text fill=\"#000000\" font-family=\"sans-serif\" font-size=\"12\" font-style=\"italic\" lengthAdjust=\"spacingAndGlyphs\" textLength=\"40\" x=\"47\" y=\"178.1074\">«part»</text><text fill=\"#000000\" font-family=\"sans-serif\" font-size=\"12\" lengthAdjust=\"spacingAndGlyphs\" textLength=\"22\" x=\"56\" y=\"192.0762\">v: P</text><line style=\"stroke: #383838; stroke-width: 1.5;\" x1=\"33\" x2=\"101\" y1=\"199.9063\" y2=\"199.9063\"/></a><!--MD5=[fd4143e9d270a159db93a4ea2a975926]\n",
       "class E9--><a href=\"psysml:aeeab6cc-3339-44ed-a45c-f65a5d97c376\" target=\"_top\" title=\"psysml:aeeab6cc-3339-44ed-a45c-f65a5d97c376\" xlink:actuate=\"onRequest\" xlink:href=\"psysml:aeeab6cc-3339-44ed-a45c-f65a5d97c376\" xlink:show=\"new\" xlink:title=\"psysml:aeeab6cc-3339-44ed-a45c-f65a5d97c376\" xlink:type=\"simple\"><rect fill=\"#FFFFFF\" height=\"88.3516\" id=\"E9\" rx=\"10\" ry=\"10\" style=\"stroke: #383838; stroke-width: 1.5;\" width=\"77\" x=\"32.5\" y=\"285\"/><text fill=\"#000000\" font-family=\"sans-serif\" font-size=\"12\" font-style=\"italic\" lengthAdjust=\"spacingAndGlyphs\" textLength=\"75\" x=\"33.5\" y=\"301.1387\">«reference»</text><text fill=\"#000000\" font-family=\"sans-serif\" font-size=\"12\" lengthAdjust=\"spacingAndGlyphs\" textLength=\"8\" x=\"67\" y=\"315.1074\">q</text><line style=\"stroke: #383838; stroke-width: 1.5;\" x1=\"33.5\" x2=\"108.5\" y1=\"322.9375\" y2=\"322.9375\"/><text fill=\"#000000\" font-family=\"sans-serif\" font-size=\"11\" lengthAdjust=\"spacingAndGlyphs\" textLength=\"23\" x=\"38.5\" y=\"353.9526\">b: B</text><text fill=\"#000000\" font-family=\"sans-serif\" font-size=\"11\" font-style=\"italic\" lengthAdjust=\"spacingAndGlyphs\" textLength=\"44\" x=\"38.5\" y=\"366.7573\">:&gt;&gt;P::a</text><line style=\"stroke: #383838; stroke-width: 1.0;\" x1=\"33.5\" x2=\"43.5\" y1=\"337.3398\" y2=\"337.3398\"/><text fill=\"#000000\" font-family=\"sans-serif\" font-size=\"11\" lengthAdjust=\"spacingAndGlyphs\" textLength=\"55\" x=\"43.5\" y=\"340.6479\">attributes</text><line style=\"stroke: #383838; stroke-width: 1.0;\" x1=\"98.5\" x2=\"108.5\" y1=\"337.3398\" y2=\"337.3398\"/></a><!--MD5=[96f4274e9e20536e775497830990834d]\n",
       "class E10--><a href=\"psysml:fe63b1e8-840a-4f2e-b06a-2ce986f19d03\" target=\"_top\" title=\"psysml:fe63b1e8-840a-4f2e-b06a-2ce986f19d03\" xlink:actuate=\"onRequest\" xlink:href=\"psysml:fe63b1e8-840a-4f2e-b06a-2ce986f19d03\" xlink:show=\"new\" xlink:title=\"psysml:fe63b1e8-840a-4f2e-b06a-2ce986f19d03\" xlink:type=\"simple\"><rect fill=\"#FFFFFF\" height=\"45.9375\" id=\"E10\" rx=\"10\" ry=\"10\" style=\"stroke: #383838; stroke-width: 1.5;\" width=\"42\" x=\"238\" y=\"155\"/><text fill=\"#000000\" font-family=\"sans-serif\" font-size=\"12\" font-style=\"italic\" lengthAdjust=\"spacingAndGlyphs\" textLength=\"40\" x=\"239\" y=\"171.1387\">«part»</text><text fill=\"#000000\" font-family=\"sans-serif\" font-size=\"12\" lengthAdjust=\"spacingAndGlyphs\" textLength=\"22\" x=\"248\" y=\"185.1074\">y: P</text><line style=\"stroke: #383838; stroke-width: 1.5;\" x1=\"239\" x2=\"279\" y1=\"192.9375\" y2=\"192.9375\"/></a><!--MD5=[05d275557350bfb9b23a4ef7222b4c39]\n",
       "link E3 to E2--><a href=\"psysml:6495a820-e8c0-4129-af26-6722c3b7b9e6\" target=\"_top\" title=\"psysml:6495a820-e8c0-4129-af26-6722c3b7b9e6\" xlink:actuate=\"onRequest\" xlink:href=\"psysml:6495a820-e8c0-4129-af26-6722c3b7b9e6\" xlink:show=\"new\" xlink:title=\"psysml:6495a820-e8c0-4129-af26-6722c3b7b9e6\" xlink:type=\"simple\"><path d=\"M174.34,201.31 C177.92,219.67 183.15,246.54 187.87,270.81 \" fill=\"none\" id=\"E3-&gt;E2\" style=\"stroke: #383838; stroke-width: 1.0;\"/><polygon fill=\"none\" points=\"194.8,269.8,191.75,290.77,181.06,272.47,194.8,269.8\" style=\"stroke: #383838; stroke-width: 1.0;\"/></a><!--MD5=[15ebcb19ae302d9b601edb458606d402]\n",
       "link E5 to E2--><a href=\"psysml:bd00e4e7-d183-497a-b9f8-56660fc51e3e\" target=\"_top\" title=\"psysml:bd00e4e7-d183-497a-b9f8-56660fc51e3e\" xlink:actuate=\"onRequest\" xlink:href=\"psysml:bd00e4e7-d183-497a-b9f8-56660fc51e3e\" xlink:show=\"new\" xlink:title=\"psysml:bd00e4e7-d183-497a-b9f8-56660fc51e3e\" xlink:type=\"simple\"><path d=\"M325.69,201.31 C304.9,222.1 273.2,253.8 246.71,280.29 \" fill=\"none\" id=\"E5-&gt;E2\" style=\"stroke: #383838; stroke-width: 1.0;\"/><polygon fill=\"none\" points=\"251.33,285.57,232.24,294.76,241.43,275.67,251.33,285.57\" style=\"stroke: #383838; stroke-width: 1.0;\"/></a><!--MD5=[9120cf2e5df3bff93db8f754bbbc09b4]\n",
       "link E5 to E6--><a href=\"psysml:3ec706da-d65f-4ef5-8a1f-1e1b5df7e7c6\" target=\"_top\" title=\"psysml:3ec706da-d65f-4ef5-8a1f-1e1b5df7e7c6\" xlink:actuate=\"onRequest\" xlink:href=\"psysml:3ec706da-d65f-4ef5-8a1f-1e1b5df7e7c6\" xlink:show=\"new\" xlink:title=\"psysml:3ec706da-d65f-4ef5-8a1f-1e1b5df7e7c6\" xlink:type=\"simple\"><path d=\"M341.72,211.26 C338.1,229.85 333.47,253.68 329.32,274.95 \" fill=\"none\" id=\"E5-E6\" style=\"stroke: #383838; stroke-width: 1.0;\"/><polygon fill=\"#383838\" points=\"327.4,284.84,331.8761,277.5623,325.987,276.4136,327.4,284.84\" style=\"stroke: #383838; stroke-width: 1.0;\"/><path d=\"M334.7699,202.7122 A9,9 0 0 0 351.3715 205.9503\" fill=\"none\" style=\"stroke: #383838; stroke-width: 1.5;\"/><text fill=\"#000000\" font-family=\"sans-serif\" font-size=\"13\" lengthAdjust=\"spacingAndGlyphs\" textLength=\"60\" x=\"337\" y=\"251.0669\">«variant»</text></a><!--MD5=[14ccda38c055a5c0da953d572bc50960]\n",
       "link E7 to E3--><a href=\"psysml:9cf32953-475b-4011-b1f8-e7f09d5ce449\" target=\"_top\" title=\"psysml:9cf32953-475b-4011-b1f8-e7f09d5ce449\" xlink:actuate=\"onRequest\" xlink:href=\"psysml:9cf32953-475b-4011-b1f8-e7f09d5ce449\" xlink:show=\"new\" xlink:title=\"psysml:9cf32953-475b-4011-b1f8-e7f09d5ce449\" xlink:type=\"simple\"><path d=\"M170,87.13 C170,100.7 170,118.53 170,134.73 \" fill=\"none\" id=\"E7-&gt;E3\" style=\"stroke: #383838; stroke-width: 1.0;\"/><polygon fill=\"#FFFFFF\" points=\"170,154.92,163,135.92,177,135.92,170,154.92\" style=\"stroke: #383838; stroke-width: 1.0;\"/><ellipse cx=\"165\" cy=\"130.22\" fill=\"#383838\" rx=\"2\" ry=\"2\" style=\"stroke: #383838; stroke-width: 1.0;\"/><ellipse cx=\"175\" cy=\"130.22\" fill=\"#383838\" rx=\"2\" ry=\"2\" style=\"stroke: #383838; stroke-width: 1.0;\"/></a><!--MD5=[f1f3f9f2fc535e6147756cb86a7f2e32]\n",
       "link E8 to E2--><a href=\"psysml:d1a9bfbc-b159-49c1-a5ca-956a4881ee49\" target=\"_top\" title=\"psysml:d1a9bfbc-b159-49c1-a5ca-956a4881ee49\" xlink:actuate=\"onRequest\" xlink:href=\"psysml:d1a9bfbc-b159-49c1-a5ca-956a4881ee49\" xlink:show=\"new\" xlink:title=\"psysml:d1a9bfbc-b159-49c1-a5ca-956a4881ee49\" xlink:type=\"simple\"><path d=\"M102.16,207.81 C120.43,222.79 139,238 139,238 C139,238 150.31,254.97 163.11,274.17 \" fill=\"none\" id=\"E8-&gt;E2\" style=\"stroke: #383838; stroke-width: 1.0;\"/><polygon fill=\"#FFFFFF\" points=\"174.25,290.87,157.884,278.9472,169.5311,271.1791,174.25,290.87\" style=\"stroke: #383838; stroke-width: 1.0;\"/><ellipse cx=\"156.3851\" cy=\"273.0954\" fill=\"#383838\" rx=\"2\" ry=\"2\" style=\"stroke: #383838; stroke-width: 1.0;\"/><ellipse cx=\"164.7045\" cy=\"267.5467\" fill=\"#383838\" rx=\"2\" ry=\"2\" style=\"stroke: #383838; stroke-width: 1.0;\"/></a><!--MD5=[ed10624c06dd9a4fa49ccf290e8b16a8]\n",
       "link E8 to E9--><a href=\"psysml:4574f674-7c12-4143-bfb7-6a6844a72e64\" target=\"_top\" title=\"psysml:4574f674-7c12-4143-bfb7-6a6844a72e64\" xlink:actuate=\"onRequest\" xlink:href=\"psysml:4574f674-7c12-4143-bfb7-6a6844a72e64\" xlink:show=\"new\" xlink:title=\"psysml:4574f674-7c12-4143-bfb7-6a6844a72e64\" xlink:type=\"simple\"><path d=\"M68.06,218.32 C68.52,235.6 69.07,256.15 69.57,274.77 \" fill=\"none\" id=\"E8-E9\" style=\"stroke: #383838; stroke-width: 1.0;\"/><polygon fill=\"#383838\" points=\"69.84,284.88,72.6331,276.8054,66.6351,276.9599,69.84,284.88\" style=\"stroke: #383838; stroke-width: 1.0;\"/><path d=\"M59.4094,211.3865 A9,9 0 0 0 76.3176 210.9276\" fill=\"none\" style=\"stroke: #383838; stroke-width: 1.5;\"/><text fill=\"#000000\" font-family=\"sans-serif\" font-size=\"13\" lengthAdjust=\"spacingAndGlyphs\" textLength=\"60\" x=\"70\" y=\"251.0669\">«variant»</text></a><!--MD5=[0f36bececdf0dff6e600d6f64214b0f1]\n",
       "link E10 to E2--><a href=\"psysml:bd829215-07d4-45cb-8fe9-60748d4dd682\" target=\"_top\" title=\"psysml:bd829215-07d4-45cb-8fe9-60748d4dd682\" xlink:actuate=\"onRequest\" xlink:href=\"psysml:bd829215-07d4-45cb-8fe9-60748d4dd682\" xlink:show=\"new\" xlink:title=\"psysml:bd829215-07d4-45cb-8fe9-60748d4dd682\" xlink:type=\"simple\"><path d=\"M250.02,201.31 C242.51,219.95 231.48,247.35 221.59,271.91 \" fill=\"none\" id=\"E10-&gt;E2\" style=\"stroke: #383838; stroke-width: 1.0;\"/><polygon fill=\"#FFFFFF\" points=\"213.99,290.77,214.5927,270.5305,227.5796,275.7593,213.99,290.77\" style=\"stroke: #383838; stroke-width: 1.0;\"/><ellipse cx=\"218.5768\" cy=\"265.9899\" fill=\"#383838\" rx=\"2\" ry=\"2\" style=\"stroke: #383838; stroke-width: 1.0;\"/><ellipse cx=\"227.8532\" cy=\"269.7248\" fill=\"#383838\" rx=\"2\" ry=\"2\" style=\"stroke: #383838; stroke-width: 1.0;\"/></a><!--MD5=[1e35f64115f8c4a5dba68934619851e9]\n",
       "@startuml\r\n",
       "skinparam linetype polyline\r\n",
       "skinparam monochrome true\r\n",
       "skinparam classbackgroundcolor white\r\n",
       "skinparam shadowing false\r\n",
       "skinparam wrapWidth 300\r\n",
       "hide circle\r\n",
       "\r\n",
       "package \"VariabilityTest\" as E1  [[psysml:6e13bc12-600f-4176-9ee3-c77c18f0da6f ]]  {\r\n",
       "comp def \"P\" as E2  <<(T,blue) part def>> [[psysml:a47e4883-53c6-48e5-9729-358fb18738b5 ]] {\r\n",
       "- - attributes - -\r\n",
       "a\r\n",
       "}\r\n",
       "comp def \"Q\" as E3  <<(T,blue) part def>> [[psysml:64152dcd-188c-4285-9d2f-82b4222731ff ]] {\r\n",
       "}\r\n",
       "comp def \"B\" as E4  <<(T,blue) attribute def>> [[psysml:6204c3f0-143a-45cc-ac58-9ea86a3a8ea6 ]] {\r\n",
       "}\r\n",
       "comp def \"V\" as E5  <<(T,blue) part def>> [[psysml:58826ca2-a740-4eaa-a71e-521b590388a3 ]] {\r\n",
       "}\r\n",
       "comp usage \"x: Q\" as E6  <<(T,blue) part>> [[psysml:c2df0e2e-5a66-4a2b-abfc-b3b4dd7dd2c5 ]] {\r\n",
       "- - attributes - -\r\n",
       "b: B\\n//:>>P::a// \r\n",
       "}\r\n",
       "comp usage \"q: Q\" as E7  <<(T,blue) part>> [[psysml:d5aa7800-4c4d-4a74-9f82-8c5d7377a367 ]] {\r\n",
       "}\r\n",
       "comp usage \"v: P\" as E8  <<variation>>\\n <<(T,blue) part>> [[psysml:d7b3804f-80e3-4381-979e-bf8e2501fba8 ]] {\r\n",
       "}\r\n",
       "comp usage \"q\" as E9  <<(T,blue) reference>> [[psysml:aeeab6cc-3339-44ed-a45c-f65a5d97c376 ]] {\r\n",
       "- - attributes - -\r\n",
       "b: B\\n//:>>P::a// \r\n",
       "}\r\n",
       "comp usage \"y: P\" as E10  <<(T,blue) part>> [[psysml:fe63b1e8-840a-4f2e-b06a-2ce986f19d03 ]] {\r\n",
       "}\r\n",
       "E3 - -|> E2 [[psysml:6495a820-e8c0-4129-af26-6722c3b7b9e6 ]] \r\n",
       "E5 - -|> E2 [[psysml:bd00e4e7-d183-497a-b9f8-56660fc51e3e ]] \r\n",
       "E5 )- ->> E6 [[psysml:3ec706da-d65f-4ef5-8a1f-1e1b5df7e7c6 ]] : <<variant>>\r\n",
       "E7 - -:|> E3 [[psysml:9cf32953-475b-4011-b1f8-e7f09d5ce449 ]] \r\n",
       "E8 - -:|> E2 [[psysml:d1a9bfbc-b159-49c1-a5ca-956a4881ee49 ]] \r\n",
       "E8 )- ->> E9 [[psysml:4574f674-7c12-4143-bfb7-6a6844a72e64 ]] : <<variant>>\r\n",
       "E10 - -:|> E2 [[psysml:bd829215-07d4-45cb-8fe9-60748d4dd682 ]] \r\n",
       "}\r\n",
       "@enduml\r\n",
       "\n",
       "PlantUML version 1.2020.13(Sat Jun 13 12:26:38 UTC 2020)\n",
       "(EPL source distribution)\n",
       "Java Runtime: OpenJDK Runtime Environment\n",
       "JVM: OpenJDK 64-Bit Server VM\n",
       "Default Encoding: UTF-8\n",
       "Language: en\n",
       "Country: null\n",
       "--></g></svg>"
      ]
     },
     "execution_count": 9,
     "metadata": {},
     "output_type": "execute_result"
    }
   ],
   "source": [
    "%viz --style=\"POLYLINE\" --view=\"Default\" \"VariabilityTest\""
   ]
  },
  {
   "cell_type": "code",
   "execution_count": 10,
   "id": "9b1b446b",
   "metadata": {
    "execution": {
     "iopub.execute_input": "2021-08-04T06:26:48.533534Z",
     "iopub.status.busy": "2021-08-04T06:26:48.533080Z",
     "iopub.status.idle": "2021-08-04T06:26:48.595785Z",
     "shell.execute_reply": "2021-08-04T06:26:48.593844Z"
    }
   },
   "outputs": [
    {
     "data": {
      "image/svg+xml": [
       "<?xml version=\"1.0\" encoding=\"UTF-8\" standalone=\"no\"?><svg xmlns=\"http://www.w3.org/2000/svg\" xmlns:xlink=\"http://www.w3.org/1999/xlink\" contentScriptType=\"application/ecmascript\" contentStyleType=\"text/css\" height=\"401px\" preserveAspectRatio=\"none\" style=\"width:419px;height:401px;\" version=\"1.1\" viewBox=\"0 0 419 401\" width=\"419px\" zoomAndPan=\"magnify\"><defs/><g><!--MD5=[fbc87193dbaf4d95561dea2c320d4a47]\n",
       "cluster E1--><a href=\"psysml:6e13bc12-600f-4176-9ee3-c77c18f0da6f\" target=\"_top\" title=\"psysml:6e13bc12-600f-4176-9ee3-c77c18f0da6f\" xlink:actuate=\"onRequest\" xlink:href=\"psysml:6e13bc12-600f-4176-9ee3-c77c18f0da6f\" xlink:show=\"new\" xlink:title=\"psysml:6e13bc12-600f-4176-9ee3-c77c18f0da6f\" xlink:type=\"simple\"><polygon fill=\"#FFFFFF\" points=\"16,6,134,6,141,28.2969,397,28.2969,397,389,16,389,16,6\" style=\"stroke: #000000; stroke-width: 1.5;\"/><line style=\"stroke: #000000; stroke-width: 1.5;\" x1=\"16\" x2=\"141\" y1=\"28.2969\" y2=\"28.2969\"/><text fill=\"#000000\" font-family=\"sans-serif\" font-size=\"14\" font-weight=\"bold\" lengthAdjust=\"spacingAndGlyphs\" textLength=\"112\" x=\"20\" y=\"20.9951\">VariabilityTest</text></a><!--MD5=[b4997ac47864f28c2f74865a473b2911]\n",
       "class E2--><a href=\"psysml:a47e4883-53c6-48e5-9729-358fb18738b5\" target=\"_top\" title=\"psysml:a47e4883-53c6-48e5-9729-358fb18738b5\" xlink:actuate=\"onRequest\" xlink:href=\"psysml:a47e4883-53c6-48e5-9729-358fb18738b5\" xlink:show=\"new\" xlink:title=\"psysml:a47e4883-53c6-48e5-9729-358fb18738b5\" xlink:type=\"simple\"><rect fill=\"#FFFFFF\" height=\"75.5469\" id=\"E2\" style=\"stroke: #383838; stroke-width: 1.5;\" width=\"66\" x=\"166\" y=\"291\"/><text fill=\"#000000\" font-family=\"sans-serif\" font-size=\"12\" font-style=\"italic\" lengthAdjust=\"spacingAndGlyphs\" textLength=\"64\" x=\"167\" y=\"307.1387\">«part def»</text><text fill=\"#000000\" font-family=\"sans-serif\" font-size=\"12\" lengthAdjust=\"spacingAndGlyphs\" textLength=\"8\" x=\"195\" y=\"321.1074\">P</text><line style=\"stroke: #383838; stroke-width: 1.5;\" x1=\"167\" x2=\"231\" y1=\"328.9375\" y2=\"328.9375\"/><text fill=\"#000000\" font-family=\"sans-serif\" font-size=\"11\" lengthAdjust=\"spacingAndGlyphs\" textLength=\"7\" x=\"172\" y=\"359.9526\">a</text><line style=\"stroke: #383838; stroke-width: 1.0;\" x1=\"167\" x2=\"171.5\" y1=\"343.3398\" y2=\"343.3398\"/><text fill=\"#000000\" font-family=\"sans-serif\" font-size=\"11\" lengthAdjust=\"spacingAndGlyphs\" textLength=\"55\" x=\"171.5\" y=\"346.6479\">attributes</text><line style=\"stroke: #383838; stroke-width: 1.0;\" x1=\"226.5\" x2=\"231\" y1=\"343.3398\" y2=\"343.3398\"/></a><!--MD5=[09b614a08d8cba4a07c9adeb5e0fee81]\n",
       "class E3--><a href=\"psysml:64152dcd-188c-4285-9d2f-82b4222731ff\" target=\"_top\" title=\"psysml:64152dcd-188c-4285-9d2f-82b4222731ff\" xlink:actuate=\"onRequest\" xlink:href=\"psysml:64152dcd-188c-4285-9d2f-82b4222731ff\" xlink:show=\"new\" xlink:title=\"psysml:64152dcd-188c-4285-9d2f-82b4222731ff\" xlink:type=\"simple\"><rect fill=\"#FFFFFF\" height=\"45.9375\" id=\"E3\" style=\"stroke: #383838; stroke-width: 1.5;\" width=\"66\" x=\"137\" y=\"155\"/><text fill=\"#000000\" font-family=\"sans-serif\" font-size=\"12\" font-style=\"italic\" lengthAdjust=\"spacingAndGlyphs\" textLength=\"64\" x=\"138\" y=\"171.1387\">«part def»</text><text fill=\"#000000\" font-family=\"sans-serif\" font-size=\"12\" lengthAdjust=\"spacingAndGlyphs\" textLength=\"9\" x=\"165.5\" y=\"185.1074\">Q</text><line style=\"stroke: #383838; stroke-width: 1.5;\" x1=\"138\" x2=\"202\" y1=\"192.9375\" y2=\"192.9375\"/></a><!--MD5=[ebbe1d658d1005bcc118a6aa81145e00]\n",
       "class E4--><a href=\"psysml:6204c3f0-143a-45cc-ac58-9ea86a3a8ea6\" target=\"_top\" title=\"psysml:6204c3f0-143a-45cc-ac58-9ea86a3a8ea6\" xlink:actuate=\"onRequest\" xlink:href=\"psysml:6204c3f0-143a-45cc-ac58-9ea86a3a8ea6\" xlink:show=\"new\" xlink:title=\"psysml:6204c3f0-143a-45cc-ac58-9ea86a3a8ea6\" xlink:type=\"simple\"><rect fill=\"#FFFFFF\" height=\"45.9375\" id=\"E4\" style=\"stroke: #383838; stroke-width: 1.5;\" width=\"95\" x=\"255.5\" y=\"41\"/><text fill=\"#000000\" font-family=\"sans-serif\" font-size=\"12\" font-style=\"italic\" lengthAdjust=\"spacingAndGlyphs\" textLength=\"93\" x=\"256.5\" y=\"57.1387\">«attribute def»</text><text fill=\"#000000\" font-family=\"sans-serif\" font-size=\"12\" lengthAdjust=\"spacingAndGlyphs\" textLength=\"8\" x=\"299\" y=\"71.1074\">B</text><line style=\"stroke: #383838; stroke-width: 1.5;\" x1=\"256.5\" x2=\"349.5\" y1=\"78.9375\" y2=\"78.9375\"/></a><!--MD5=[270fce915f116d4de14055a7c1d9a0f3]\n",
       "class E5--><a href=\"psysml:58826ca2-a740-4eaa-a71e-521b590388a3\" target=\"_top\" title=\"psysml:58826ca2-a740-4eaa-a71e-521b590388a3\" xlink:actuate=\"onRequest\" xlink:href=\"psysml:58826ca2-a740-4eaa-a71e-521b590388a3\" xlink:show=\"new\" xlink:title=\"psysml:58826ca2-a740-4eaa-a71e-521b590388a3\" xlink:type=\"simple\"><rect fill=\"#FFFFFF\" height=\"45.9375\" id=\"E5\" style=\"stroke: #383838; stroke-width: 1.5;\" width=\"66\" x=\"315\" y=\"155\"/><text fill=\"#000000\" font-family=\"sans-serif\" font-size=\"12\" font-style=\"italic\" lengthAdjust=\"spacingAndGlyphs\" textLength=\"64\" x=\"316\" y=\"171.1387\">«part def»</text><text fill=\"#000000\" font-family=\"sans-serif\" font-size=\"12\" lengthAdjust=\"spacingAndGlyphs\" textLength=\"8\" x=\"344\" y=\"185.1074\">V</text><line style=\"stroke: #383838; stroke-width: 1.5;\" x1=\"316\" x2=\"380\" y1=\"192.9375\" y2=\"192.9375\"/></a><!--MD5=[60a26617385b1d2d0262a64233df1f8d]\n",
       "class E6--><a href=\"psysml:c2df0e2e-5a66-4a2b-abfc-b3b4dd7dd2c5\" target=\"_top\" title=\"psysml:c2df0e2e-5a66-4a2b-abfc-b3b4dd7dd2c5\" xlink:actuate=\"onRequest\" xlink:href=\"psysml:c2df0e2e-5a66-4a2b-abfc-b3b4dd7dd2c5\" xlink:show=\"new\" xlink:title=\"psysml:c2df0e2e-5a66-4a2b-abfc-b3b4dd7dd2c5\" xlink:type=\"simple\"><rect fill=\"#FFFFFF\" height=\"88.3516\" id=\"E6\" rx=\"10\" ry=\"10\" style=\"stroke: #383838; stroke-width: 1.5;\" width=\"63\" x=\"287.5\" y=\"285\"/><text fill=\"#000000\" font-family=\"sans-serif\" font-size=\"12\" font-style=\"italic\" lengthAdjust=\"spacingAndGlyphs\" textLength=\"40\" x=\"299\" y=\"301.1387\">«part»</text><text fill=\"#000000\" font-family=\"sans-serif\" font-size=\"12\" lengthAdjust=\"spacingAndGlyphs\" textLength=\"23\" x=\"307.5\" y=\"315.1074\">x: Q</text><line style=\"stroke: #383838; stroke-width: 1.5;\" x1=\"288.5\" x2=\"349.5\" y1=\"322.9375\" y2=\"322.9375\"/><text fill=\"#000000\" font-family=\"sans-serif\" font-size=\"11\" lengthAdjust=\"spacingAndGlyphs\" textLength=\"23\" x=\"293.5\" y=\"353.9526\">b: B</text><text fill=\"#000000\" font-family=\"sans-serif\" font-size=\"11\" font-style=\"italic\" lengthAdjust=\"spacingAndGlyphs\" textLength=\"44\" x=\"293.5\" y=\"366.7573\">:&gt;&gt;P::a</text><line style=\"stroke: #383838; stroke-width: 1.0;\" x1=\"288.5\" x2=\"291.5\" y1=\"337.3398\" y2=\"337.3398\"/><text fill=\"#000000\" font-family=\"sans-serif\" font-size=\"11\" lengthAdjust=\"spacingAndGlyphs\" textLength=\"55\" x=\"291.5\" y=\"340.6479\">attributes</text><line style=\"stroke: #383838; stroke-width: 1.0;\" x1=\"346.5\" x2=\"349.5\" y1=\"337.3398\" y2=\"337.3398\"/></a><!--MD5=[2156ba9850f5573cc1fc38a6a4b2f02b]\n",
       "class E7--><a href=\"psysml:d5aa7800-4c4d-4a74-9f82-8c5d7377a367\" target=\"_top\" title=\"psysml:d5aa7800-4c4d-4a74-9f82-8c5d7377a367\" xlink:actuate=\"onRequest\" xlink:href=\"psysml:d5aa7800-4c4d-4a74-9f82-8c5d7377a367\" xlink:show=\"new\" xlink:title=\"psysml:d5aa7800-4c4d-4a74-9f82-8c5d7377a367\" xlink:type=\"simple\"><rect fill=\"#FFFFFF\" height=\"45.9375\" id=\"E7\" rx=\"10\" ry=\"10\" style=\"stroke: #383838; stroke-width: 1.5;\" width=\"42\" x=\"149\" y=\"41\"/><text fill=\"#000000\" font-family=\"sans-serif\" font-size=\"12\" font-style=\"italic\" lengthAdjust=\"spacingAndGlyphs\" textLength=\"40\" x=\"150\" y=\"57.1387\">«part»</text><text fill=\"#000000\" font-family=\"sans-serif\" font-size=\"12\" lengthAdjust=\"spacingAndGlyphs\" textLength=\"25\" x=\"157.5\" y=\"71.1074\">q: Q</text><line style=\"stroke: #383838; stroke-width: 1.5;\" x1=\"150\" x2=\"190\" y1=\"78.9375\" y2=\"78.9375\"/></a><!--MD5=[b9389687b975829384b498ac4b7476b2]\n",
       "class E8--><a href=\"psysml:d7b3804f-80e3-4381-979e-bf8e2501fba8\" target=\"_top\" title=\"psysml:d7b3804f-80e3-4381-979e-bf8e2501fba8\" xlink:actuate=\"onRequest\" xlink:href=\"psysml:d7b3804f-80e3-4381-979e-bf8e2501fba8\" xlink:show=\"new\" xlink:title=\"psysml:d7b3804f-80e3-4381-979e-bf8e2501fba8\" xlink:type=\"simple\"><rect fill=\"#FFFFFF\" height=\"59.9063\" id=\"E8\" rx=\"10\" ry=\"10\" style=\"stroke: #383838; stroke-width: 1.5;\" width=\"70\" x=\"32\" y=\"148\"/><text fill=\"#000000\" font-family=\"sans-serif\" font-size=\"12\" font-style=\"italic\" lengthAdjust=\"spacingAndGlyphs\" textLength=\"68\" x=\"33\" y=\"164.1387\">«variation»</text><text fill=\"#000000\" font-family=\"sans-serif\" font-size=\"12\" font-style=\"italic\" lengthAdjust=\"spacingAndGlyphs\" textLength=\"40\" x=\"47\" y=\"178.1074\">«part»</text><text fill=\"#000000\" font-family=\"sans-serif\" font-size=\"12\" lengthAdjust=\"spacingAndGlyphs\" textLength=\"22\" x=\"56\" y=\"192.0762\">v: P</text><line style=\"stroke: #383838; stroke-width: 1.5;\" x1=\"33\" x2=\"101\" y1=\"199.9063\" y2=\"199.9063\"/></a><!--MD5=[fd4143e9d270a159db93a4ea2a975926]\n",
       "class E9--><a href=\"psysml:aeeab6cc-3339-44ed-a45c-f65a5d97c376\" target=\"_top\" title=\"psysml:aeeab6cc-3339-44ed-a45c-f65a5d97c376\" xlink:actuate=\"onRequest\" xlink:href=\"psysml:aeeab6cc-3339-44ed-a45c-f65a5d97c376\" xlink:show=\"new\" xlink:title=\"psysml:aeeab6cc-3339-44ed-a45c-f65a5d97c376\" xlink:type=\"simple\"><rect fill=\"#FFFFFF\" height=\"88.3516\" id=\"E9\" rx=\"10\" ry=\"10\" style=\"stroke: #383838; stroke-width: 1.5;\" width=\"77\" x=\"32.5\" y=\"285\"/><text fill=\"#000000\" font-family=\"sans-serif\" font-size=\"12\" font-style=\"italic\" lengthAdjust=\"spacingAndGlyphs\" textLength=\"75\" x=\"33.5\" y=\"301.1387\">«reference»</text><text fill=\"#000000\" font-family=\"sans-serif\" font-size=\"12\" lengthAdjust=\"spacingAndGlyphs\" textLength=\"8\" x=\"67\" y=\"315.1074\">q</text><line style=\"stroke: #383838; stroke-width: 1.5;\" x1=\"33.5\" x2=\"108.5\" y1=\"322.9375\" y2=\"322.9375\"/><text fill=\"#000000\" font-family=\"sans-serif\" font-size=\"11\" lengthAdjust=\"spacingAndGlyphs\" textLength=\"23\" x=\"38.5\" y=\"353.9526\">b: B</text><text fill=\"#000000\" font-family=\"sans-serif\" font-size=\"11\" font-style=\"italic\" lengthAdjust=\"spacingAndGlyphs\" textLength=\"44\" x=\"38.5\" y=\"366.7573\">:&gt;&gt;P::a</text><line style=\"stroke: #383838; stroke-width: 1.0;\" x1=\"33.5\" x2=\"43.5\" y1=\"337.3398\" y2=\"337.3398\"/><text fill=\"#000000\" font-family=\"sans-serif\" font-size=\"11\" lengthAdjust=\"spacingAndGlyphs\" textLength=\"55\" x=\"43.5\" y=\"340.6479\">attributes</text><line style=\"stroke: #383838; stroke-width: 1.0;\" x1=\"98.5\" x2=\"108.5\" y1=\"337.3398\" y2=\"337.3398\"/></a><!--MD5=[96f4274e9e20536e775497830990834d]\n",
       "class E10--><a href=\"psysml:fe63b1e8-840a-4f2e-b06a-2ce986f19d03\" target=\"_top\" title=\"psysml:fe63b1e8-840a-4f2e-b06a-2ce986f19d03\" xlink:actuate=\"onRequest\" xlink:href=\"psysml:fe63b1e8-840a-4f2e-b06a-2ce986f19d03\" xlink:show=\"new\" xlink:title=\"psysml:fe63b1e8-840a-4f2e-b06a-2ce986f19d03\" xlink:type=\"simple\"><rect fill=\"#FFFFFF\" height=\"45.9375\" id=\"E10\" rx=\"10\" ry=\"10\" style=\"stroke: #383838; stroke-width: 1.5;\" width=\"42\" x=\"238\" y=\"155\"/><text fill=\"#000000\" font-family=\"sans-serif\" font-size=\"12\" font-style=\"italic\" lengthAdjust=\"spacingAndGlyphs\" textLength=\"40\" x=\"239\" y=\"171.1387\">«part»</text><text fill=\"#000000\" font-family=\"sans-serif\" font-size=\"12\" lengthAdjust=\"spacingAndGlyphs\" textLength=\"22\" x=\"248\" y=\"185.1074\">y: P</text><line style=\"stroke: #383838; stroke-width: 1.5;\" x1=\"239\" x2=\"279\" y1=\"192.9375\" y2=\"192.9375\"/></a><!--MD5=[05d275557350bfb9b23a4ef7222b4c39]\n",
       "link E3 to E2--><a href=\"psysml:6495a820-e8c0-4129-af26-6722c3b7b9e6\" target=\"_top\" title=\"psysml:6495a820-e8c0-4129-af26-6722c3b7b9e6\" xlink:actuate=\"onRequest\" xlink:href=\"psysml:6495a820-e8c0-4129-af26-6722c3b7b9e6\" xlink:show=\"new\" xlink:title=\"psysml:6495a820-e8c0-4129-af26-6722c3b7b9e6\" xlink:type=\"simple\"><path d=\"M174.34,201.31 C177.92,219.67 183.15,246.54 187.87,270.81 \" fill=\"none\" id=\"E3-&gt;E2\" style=\"stroke: #383838; stroke-width: 1.0;\"/><polygon fill=\"none\" points=\"194.8,269.8,191.75,290.77,181.06,272.47,194.8,269.8\" style=\"stroke: #383838; stroke-width: 1.0;\"/></a><!--MD5=[15ebcb19ae302d9b601edb458606d402]\n",
       "link E5 to E2--><a href=\"psysml:bd00e4e7-d183-497a-b9f8-56660fc51e3e\" target=\"_top\" title=\"psysml:bd00e4e7-d183-497a-b9f8-56660fc51e3e\" xlink:actuate=\"onRequest\" xlink:href=\"psysml:bd00e4e7-d183-497a-b9f8-56660fc51e3e\" xlink:show=\"new\" xlink:title=\"psysml:bd00e4e7-d183-497a-b9f8-56660fc51e3e\" xlink:type=\"simple\"><path d=\"M325.69,201.31 C304.9,222.1 273.2,253.8 246.71,280.29 \" fill=\"none\" id=\"E5-&gt;E2\" style=\"stroke: #383838; stroke-width: 1.0;\"/><polygon fill=\"none\" points=\"251.33,285.57,232.24,294.76,241.43,275.67,251.33,285.57\" style=\"stroke: #383838; stroke-width: 1.0;\"/></a><!--MD5=[9120cf2e5df3bff93db8f754bbbc09b4]\n",
       "link E5 to E6--><a href=\"psysml:3ec706da-d65f-4ef5-8a1f-1e1b5df7e7c6\" target=\"_top\" title=\"psysml:3ec706da-d65f-4ef5-8a1f-1e1b5df7e7c6\" xlink:actuate=\"onRequest\" xlink:href=\"psysml:3ec706da-d65f-4ef5-8a1f-1e1b5df7e7c6\" xlink:show=\"new\" xlink:title=\"psysml:3ec706da-d65f-4ef5-8a1f-1e1b5df7e7c6\" xlink:type=\"simple\"><path d=\"M341.72,211.26 C338.1,229.85 333.47,253.68 329.32,274.95 \" fill=\"none\" id=\"E5-E6\" style=\"stroke: #383838; stroke-width: 1.0;\"/><polygon fill=\"#383838\" points=\"327.4,284.84,331.8761,277.5623,325.987,276.4136,327.4,284.84\" style=\"stroke: #383838; stroke-width: 1.0;\"/><path d=\"M334.7699,202.7122 A9,9 0 0 0 351.3715 205.9503\" fill=\"none\" style=\"stroke: #383838; stroke-width: 1.5;\"/><text fill=\"#000000\" font-family=\"sans-serif\" font-size=\"13\" lengthAdjust=\"spacingAndGlyphs\" textLength=\"60\" x=\"337\" y=\"251.0669\">«variant»</text></a><!--MD5=[14ccda38c055a5c0da953d572bc50960]\n",
       "link E7 to E3--><a href=\"psysml:9cf32953-475b-4011-b1f8-e7f09d5ce449\" target=\"_top\" title=\"psysml:9cf32953-475b-4011-b1f8-e7f09d5ce449\" xlink:actuate=\"onRequest\" xlink:href=\"psysml:9cf32953-475b-4011-b1f8-e7f09d5ce449\" xlink:show=\"new\" xlink:title=\"psysml:9cf32953-475b-4011-b1f8-e7f09d5ce449\" xlink:type=\"simple\"><path d=\"M170,87.13 C170,100.7 170,118.53 170,134.73 \" fill=\"none\" id=\"E7-&gt;E3\" style=\"stroke: #383838; stroke-width: 1.0;\"/><polygon fill=\"#FFFFFF\" points=\"170,154.92,163,135.92,177,135.92,170,154.92\" style=\"stroke: #383838; stroke-width: 1.0;\"/><ellipse cx=\"165\" cy=\"130.22\" fill=\"#383838\" rx=\"2\" ry=\"2\" style=\"stroke: #383838; stroke-width: 1.0;\"/><ellipse cx=\"175\" cy=\"130.22\" fill=\"#383838\" rx=\"2\" ry=\"2\" style=\"stroke: #383838; stroke-width: 1.0;\"/></a><!--MD5=[f1f3f9f2fc535e6147756cb86a7f2e32]\n",
       "link E8 to E2--><a href=\"psysml:d1a9bfbc-b159-49c1-a5ca-956a4881ee49\" target=\"_top\" title=\"psysml:d1a9bfbc-b159-49c1-a5ca-956a4881ee49\" xlink:actuate=\"onRequest\" xlink:href=\"psysml:d1a9bfbc-b159-49c1-a5ca-956a4881ee49\" xlink:show=\"new\" xlink:title=\"psysml:d1a9bfbc-b159-49c1-a5ca-956a4881ee49\" xlink:type=\"simple\"><path d=\"M102.16,207.81 C120.43,222.79 139,238 139,238 C139,238 150.31,254.97 163.11,274.17 \" fill=\"none\" id=\"E8-&gt;E2\" style=\"stroke: #383838; stroke-width: 1.0;\"/><polygon fill=\"#FFFFFF\" points=\"174.25,290.87,157.884,278.9472,169.5311,271.1791,174.25,290.87\" style=\"stroke: #383838; stroke-width: 1.0;\"/><ellipse cx=\"156.3851\" cy=\"273.0954\" fill=\"#383838\" rx=\"2\" ry=\"2\" style=\"stroke: #383838; stroke-width: 1.0;\"/><ellipse cx=\"164.7045\" cy=\"267.5467\" fill=\"#383838\" rx=\"2\" ry=\"2\" style=\"stroke: #383838; stroke-width: 1.0;\"/></a><!--MD5=[ed10624c06dd9a4fa49ccf290e8b16a8]\n",
       "link E8 to E9--><a href=\"psysml:4574f674-7c12-4143-bfb7-6a6844a72e64\" target=\"_top\" title=\"psysml:4574f674-7c12-4143-bfb7-6a6844a72e64\" xlink:actuate=\"onRequest\" xlink:href=\"psysml:4574f674-7c12-4143-bfb7-6a6844a72e64\" xlink:show=\"new\" xlink:title=\"psysml:4574f674-7c12-4143-bfb7-6a6844a72e64\" xlink:type=\"simple\"><path d=\"M68.06,218.32 C68.52,235.6 69.07,256.15 69.57,274.77 \" fill=\"none\" id=\"E8-E9\" style=\"stroke: #383838; stroke-width: 1.0;\"/><polygon fill=\"#383838\" points=\"69.84,284.88,72.6331,276.8054,66.6351,276.9599,69.84,284.88\" style=\"stroke: #383838; stroke-width: 1.0;\"/><path d=\"M59.4094,211.3865 A9,9 0 0 0 76.3176 210.9276\" fill=\"none\" style=\"stroke: #383838; stroke-width: 1.5;\"/><text fill=\"#000000\" font-family=\"sans-serif\" font-size=\"13\" lengthAdjust=\"spacingAndGlyphs\" textLength=\"60\" x=\"70\" y=\"251.0669\">«variant»</text></a><!--MD5=[0f36bececdf0dff6e600d6f64214b0f1]\n",
       "link E10 to E2--><a href=\"psysml:bd829215-07d4-45cb-8fe9-60748d4dd682\" target=\"_top\" title=\"psysml:bd829215-07d4-45cb-8fe9-60748d4dd682\" xlink:actuate=\"onRequest\" xlink:href=\"psysml:bd829215-07d4-45cb-8fe9-60748d4dd682\" xlink:show=\"new\" xlink:title=\"psysml:bd829215-07d4-45cb-8fe9-60748d4dd682\" xlink:type=\"simple\"><path d=\"M250.02,201.31 C242.51,219.95 231.48,247.35 221.59,271.91 \" fill=\"none\" id=\"E10-&gt;E2\" style=\"stroke: #383838; stroke-width: 1.0;\"/><polygon fill=\"#FFFFFF\" points=\"213.99,290.77,214.5927,270.5305,227.5796,275.7593,213.99,290.77\" style=\"stroke: #383838; stroke-width: 1.0;\"/><ellipse cx=\"218.5768\" cy=\"265.9899\" fill=\"#383838\" rx=\"2\" ry=\"2\" style=\"stroke: #383838; stroke-width: 1.0;\"/><ellipse cx=\"227.8532\" cy=\"269.7248\" fill=\"#383838\" rx=\"2\" ry=\"2\" style=\"stroke: #383838; stroke-width: 1.0;\"/></a><!--MD5=[1e35f64115f8c4a5dba68934619851e9]\n",
       "@startuml\r\n",
       "skinparam linetype polyline\r\n",
       "skinparam monochrome true\r\n",
       "skinparam classbackgroundcolor white\r\n",
       "skinparam shadowing false\r\n",
       "skinparam wrapWidth 300\r\n",
       "hide circle\r\n",
       "\r\n",
       "package \"VariabilityTest\" as E1  [[psysml:6e13bc12-600f-4176-9ee3-c77c18f0da6f ]]  {\r\n",
       "comp def \"P\" as E2  <<(T,blue) part def>> [[psysml:a47e4883-53c6-48e5-9729-358fb18738b5 ]] {\r\n",
       "- - attributes - -\r\n",
       "a\r\n",
       "}\r\n",
       "comp def \"Q\" as E3  <<(T,blue) part def>> [[psysml:64152dcd-188c-4285-9d2f-82b4222731ff ]] {\r\n",
       "}\r\n",
       "comp def \"B\" as E4  <<(T,blue) attribute def>> [[psysml:6204c3f0-143a-45cc-ac58-9ea86a3a8ea6 ]] {\r\n",
       "}\r\n",
       "comp def \"V\" as E5  <<(T,blue) part def>> [[psysml:58826ca2-a740-4eaa-a71e-521b590388a3 ]] {\r\n",
       "}\r\n",
       "comp usage \"x: Q\" as E6  <<(T,blue) part>> [[psysml:c2df0e2e-5a66-4a2b-abfc-b3b4dd7dd2c5 ]] {\r\n",
       "- - attributes - -\r\n",
       "b: B\\n//:>>P::a// \r\n",
       "}\r\n",
       "comp usage \"q: Q\" as E7  <<(T,blue) part>> [[psysml:d5aa7800-4c4d-4a74-9f82-8c5d7377a367 ]] {\r\n",
       "}\r\n",
       "comp usage \"v: P\" as E8  <<variation>>\\n <<(T,blue) part>> [[psysml:d7b3804f-80e3-4381-979e-bf8e2501fba8 ]] {\r\n",
       "}\r\n",
       "comp usage \"q\" as E9  <<(T,blue) reference>> [[psysml:aeeab6cc-3339-44ed-a45c-f65a5d97c376 ]] {\r\n",
       "- - attributes - -\r\n",
       "b: B\\n//:>>P::a// \r\n",
       "}\r\n",
       "comp usage \"y: P\" as E10  <<(T,blue) part>> [[psysml:fe63b1e8-840a-4f2e-b06a-2ce986f19d03 ]] {\r\n",
       "}\r\n",
       "E3 - -|> E2 [[psysml:6495a820-e8c0-4129-af26-6722c3b7b9e6 ]] \r\n",
       "E5 - -|> E2 [[psysml:bd00e4e7-d183-497a-b9f8-56660fc51e3e ]] \r\n",
       "E5 )- ->> E6 [[psysml:3ec706da-d65f-4ef5-8a1f-1e1b5df7e7c6 ]] : <<variant>>\r\n",
       "E7 - -:|> E3 [[psysml:9cf32953-475b-4011-b1f8-e7f09d5ce449 ]] \r\n",
       "E8 - -:|> E2 [[psysml:d1a9bfbc-b159-49c1-a5ca-956a4881ee49 ]] \r\n",
       "E8 )- ->> E9 [[psysml:4574f674-7c12-4143-bfb7-6a6844a72e64 ]] : <<variant>>\r\n",
       "E10 - -:|> E2 [[psysml:bd829215-07d4-45cb-8fe9-60748d4dd682 ]] \r\n",
       "}\r\n",
       "@enduml\r\n",
       "\n",
       "PlantUML version 1.2020.13(Sat Jun 13 12:26:38 UTC 2020)\n",
       "(EPL source distribution)\n",
       "Java Runtime: OpenJDK Runtime Environment\n",
       "JVM: OpenJDK 64-Bit Server VM\n",
       "Default Encoding: UTF-8\n",
       "Language: en\n",
       "Country: null\n",
       "--></g></svg>"
      ]
     },
     "execution_count": 10,
     "metadata": {},
     "output_type": "execute_result"
    }
   ],
   "source": [
    "%viz --style=\"POLYLINE\" --view=\"Tree\" \"VariabilityTest\""
   ]
  },
  {
   "cell_type": "code",
   "execution_count": 11,
   "id": "373e9aca",
   "metadata": {
    "execution": {
     "iopub.execute_input": "2021-08-04T06:26:48.644652Z",
     "iopub.status.busy": "2021-08-04T06:26:48.644193Z",
     "iopub.status.idle": "2021-08-04T06:26:48.648571Z",
     "shell.execute_reply": "2021-08-04T06:26:48.648889Z"
    }
   },
   "outputs": [
    {
     "data": {
      "image/svg+xml": [
       "<?xml version=\"1.0\" encoding=\"UTF-8\" standalone=\"no\"?><svg xmlns=\"http://www.w3.org/2000/svg\" xmlns:xlink=\"http://www.w3.org/1999/xlink\" contentScriptType=\"application/ecmascript\" contentStyleType=\"text/css\" height=\"12px\" preserveAspectRatio=\"none\" style=\"width:12px;height:12px;\" version=\"1.1\" viewBox=\"0 0 12 12\" width=\"12px\" zoomAndPan=\"magnify\"><defs/><g><!--MD5=[896ac0e7a515d8dd7765a661cb4ee08b]\n",
       "@startuml\r\n",
       "skinparam linetype polyline\r\n",
       "skinparam monochrome true\r\n",
       "skinparam classbackgroundcolor white\r\n",
       "skinparam shadowing false\r\n",
       "skinparam wrapWidth 300\r\n",
       "hide circle\r\n",
       "\r\n",
       "@enduml\r\n",
       "\n",
       "PlantUML version 1.2020.13(Sat Jun 13 12:26:38 UTC 2020)\n",
       "(EPL source distribution)\n",
       "Java Runtime: OpenJDK Runtime Environment\n",
       "JVM: OpenJDK 64-Bit Server VM\n",
       "Default Encoding: UTF-8\n",
       "Language: en\n",
       "Country: null\n",
       "--></g></svg>"
      ]
     },
     "execution_count": 11,
     "metadata": {},
     "output_type": "execute_result"
    }
   ],
   "source": [
    "%viz --style=\"POLYLINE\" --view=\"State\" \"VariabilityTest\""
   ]
  },
  {
   "cell_type": "code",
   "execution_count": 12,
   "id": "c7b2adb3",
   "metadata": {
    "execution": {
     "iopub.execute_input": "2021-08-04T06:26:48.699090Z",
     "iopub.status.busy": "2021-08-04T06:26:48.698670Z",
     "iopub.status.idle": "2021-08-04T06:26:48.771314Z",
     "shell.execute_reply": "2021-08-04T06:26:48.770820Z"
    }
   },
   "outputs": [
    {
     "data": {
      "image/svg+xml": [
       "<?xml version=\"1.0\" encoding=\"UTF-8\" standalone=\"no\"?><svg xmlns=\"http://www.w3.org/2000/svg\" xmlns:xlink=\"http://www.w3.org/1999/xlink\" contentScriptType=\"application/ecmascript\" contentStyleType=\"text/css\" height=\"427px\" preserveAspectRatio=\"none\" style=\"width:783px;height:427px;\" version=\"1.1\" viewBox=\"0 0 783 427\" width=\"783px\" zoomAndPan=\"magnify\"><defs/><g><!--MD5=[fbc87193dbaf4d95561dea2c320d4a47]\n",
       "cluster E1--><a href=\"psysml:6e13bc12-600f-4176-9ee3-c77c18f0da6f\" target=\"_top\" title=\"psysml:6e13bc12-600f-4176-9ee3-c77c18f0da6f\" xlink:actuate=\"onRequest\" xlink:href=\"psysml:6e13bc12-600f-4176-9ee3-c77c18f0da6f\" xlink:show=\"new\" xlink:title=\"psysml:6e13bc12-600f-4176-9ee3-c77c18f0da6f\" xlink:type=\"simple\"><polygon fill=\"#FFFFFF\" points=\"16,6,134,6,141,28.2969,761,28.2969,761,415,16,415,16,6\" style=\"stroke: #000000; stroke-width: 1.5;\"/><line style=\"stroke: #000000; stroke-width: 1.5;\" x1=\"16\" x2=\"141\" y1=\"28.2969\" y2=\"28.2969\"/><text fill=\"#000000\" font-family=\"sans-serif\" font-size=\"14\" font-weight=\"bold\" lengthAdjust=\"spacingAndGlyphs\" textLength=\"112\" x=\"20\" y=\"20.9951\">VariabilityTest</text></a><!--MD5=[e4f7fae6ed58524ba242bb0b0d3be6b7]\n",
       "cluster E2--><a href=\"psysml:a47e4883-53c6-48e5-9729-358fb18738b5\" target=\"_top\" title=\"psysml:a47e4883-53c6-48e5-9729-358fb18738b5\" xlink:actuate=\"onRequest\" xlink:href=\"psysml:a47e4883-53c6-48e5-9729-358fb18738b5\" xlink:show=\"new\" xlink:title=\"psysml:a47e4883-53c6-48e5-9729-358fb18738b5\" xlink:type=\"simple\"><rect fill=\"#FFFFFF\" height=\"129\" id=\"E2\" style=\"stroke: #383838; stroke-width: 1.5;\" width=\"139\" x=\"424\" y=\"254\"/><rect fill=\"#F8F8F8\" height=\"37.9375\" style=\"stroke: #383838; stroke-width: 1.5;\" width=\"139\" x=\"424\" y=\"254\"/><text fill=\"#000000\" font-family=\"sans-serif\" font-size=\"12\" font-style=\"italic\" lengthAdjust=\"spacingAndGlyphs\" textLength=\"64\" x=\"461.5\" y=\"270.1387\">«part def»</text><text fill=\"#000000\" font-family=\"sans-serif\" font-size=\"12\" lengthAdjust=\"spacingAndGlyphs\" textLength=\"8\" x=\"489.5\" y=\"284.1074\">P</text></a><!--MD5=[14e3b0961a2654348d326746436168a1]\n",
       "cluster E6--><a href=\"psysml:58826ca2-a740-4eaa-a71e-521b590388a3\" target=\"_top\" title=\"psysml:58826ca2-a740-4eaa-a71e-521b590388a3\" xlink:actuate=\"onRequest\" xlink:href=\"psysml:58826ca2-a740-4eaa-a71e-521b590388a3\" xlink:show=\"new\" xlink:title=\"psysml:58826ca2-a740-4eaa-a71e-521b590388a3\" xlink:type=\"simple\"><rect fill=\"#FFFFFF\" height=\"157\" id=\"E6\" style=\"stroke: #383838; stroke-width: 1.5;\" width=\"131\" x=\"598\" y=\"57\"/><rect fill=\"#F8F8F8\" height=\"37.9375\" style=\"stroke: #383838; stroke-width: 1.5;\" width=\"131\" x=\"598\" y=\"57\"/><text fill=\"#000000\" font-family=\"sans-serif\" font-size=\"12\" font-style=\"italic\" lengthAdjust=\"spacingAndGlyphs\" textLength=\"64\" x=\"631.5\" y=\"73.1387\">«part def»</text><text fill=\"#000000\" font-family=\"sans-serif\" font-size=\"12\" lengthAdjust=\"spacingAndGlyphs\" textLength=\"8\" x=\"659.5\" y=\"87.1074\">V</text></a><!--MD5=[7f149f147074ac12df2cb0a7728a5fb0]\n",
       "cluster E9--><a href=\"psysml:d7b3804f-80e3-4381-979e-bf8e2501fba8\" target=\"_top\" title=\"psysml:d7b3804f-80e3-4381-979e-bf8e2501fba8\" xlink:actuate=\"onRequest\" xlink:href=\"psysml:d7b3804f-80e3-4381-979e-bf8e2501fba8\" xlink:show=\"new\" xlink:title=\"psysml:d7b3804f-80e3-4381-979e-bf8e2501fba8\" xlink:type=\"simple\"><rect fill=\"#FFFFFF\" height=\"139\" id=\"E9\" rx=\"10\" ry=\"10\" style=\"stroke: #383838; stroke-width: 1.5;\" width=\"110\" x=\"456\" y=\"74\"/><rect fill=\"#F8F8F8\" height=\"23.9688\" rx=\"10\" ry=\"10\" style=\"stroke: #F8F8F8; stroke-width: 1.5;\" width=\"110\" x=\"456\" y=\"74\"/><rect fill=\"#F8F8F8\" height=\"10\" style=\"stroke: #F8F8F8; stroke-width: 1.5;\" width=\"110\" x=\"456\" y=\"87.9688\"/><rect fill=\"none\" height=\"139\" id=\"E9\" rx=\"10\" ry=\"10\" style=\"stroke: #383838; stroke-width: 1.5;\" width=\"110\" x=\"456\" y=\"74\"/><text fill=\"#000000\" font-family=\"sans-serif\" font-size=\"12\" lengthAdjust=\"spacingAndGlyphs\" textLength=\"22\" x=\"500\" y=\"90.1387\">v: P</text><line style=\"stroke: #383838; stroke-width: 1.0;\" x1=\"456\" x2=\"566\" y1=\"97.9688\" y2=\"97.9688\"/></a><g id=\"E1.E5\"><a href=\"psysml:6204c3f0-143a-45cc-ac58-9ea86a3a8ea6\" target=\"_top\" title=\"psysml:6204c3f0-143a-45cc-ac58-9ea86a3a8ea6\" xlink:actuate=\"onRequest\" xlink:href=\"psysml:6204c3f0-143a-45cc-ac58-9ea86a3a8ea6\" xlink:show=\"new\" xlink:title=\"psysml:6204c3f0-143a-45cc-ac58-9ea86a3a8ea6\" xlink:type=\"simple\"><rect fill=\"#FFFFFF\" height=\"42.9375\" id=\"E5\" style=\"stroke: #383838; stroke-width: 1.5;\" width=\"100\" x=\"337\" y=\"131.5\"/><rect fill=\"#F8F8F8\" height=\"37.9375\" style=\"stroke: #383838; stroke-width: 1.5;\" width=\"100\" x=\"337\" y=\"131.5\"/><text fill=\"#000000\" font-family=\"sans-serif\" font-size=\"12\" font-style=\"italic\" lengthAdjust=\"spacingAndGlyphs\" textLength=\"93\" x=\"340.5\" y=\"147.6387\">«attribute def»</text><text fill=\"#000000\" font-family=\"sans-serif\" font-size=\"12\" lengthAdjust=\"spacingAndGlyphs\" textLength=\"8\" x=\"383\" y=\"161.6074\">B</text></a></g><!--MD5=[09b614a08d8cba4a07c9adeb5e0fee81]\n",
       "class E3--><a href=\"psysml:af83713f-f16b-4de7-b4a6-ecd5bab1fc22\" target=\"_top\" title=\"psysml:af83713f-f16b-4de7-b4a6-ecd5bab1fc22\" xlink:actuate=\"onRequest\" xlink:href=\"psysml:af83713f-f16b-4de7-b4a6-ecd5bab1fc22\" xlink:show=\"new\" xlink:title=\"psysml:af83713f-f16b-4de7-b4a6-ecd5bab1fc22\" xlink:type=\"simple\"><rect fill=\"#FFFFFF\" height=\"45.9375\" id=\"E3\" rx=\"10\" ry=\"10\" style=\"stroke: #383838; stroke-width: 1.5;\" width=\"71\" x=\"467.5\" y=\"313\"/><text fill=\"#000000\" font-family=\"sans-serif\" font-size=\"12\" font-style=\"italic\" lengthAdjust=\"spacingAndGlyphs\" textLength=\"69\" x=\"468.5\" y=\"329.1387\">«attribute»</text><text fill=\"#000000\" font-family=\"sans-serif\" font-size=\"12\" lengthAdjust=\"spacingAndGlyphs\" textLength=\"8\" x=\"499\" y=\"343.1074\">a</text><line style=\"stroke: #383838; stroke-width: 1.5;\" x1=\"468.5\" x2=\"537.5\" y1=\"350.9375\" y2=\"350.9375\"/></a><g id=\"E1.E4\"><a href=\"psysml:64152dcd-188c-4285-9d2f-82b4222731ff\" target=\"_top\" title=\"psysml:64152dcd-188c-4285-9d2f-82b4222731ff\" xlink:actuate=\"onRequest\" xlink:href=\"psysml:64152dcd-188c-4285-9d2f-82b4222731ff\" xlink:show=\"new\" xlink:title=\"psysml:64152dcd-188c-4285-9d2f-82b4222731ff\" xlink:type=\"simple\"><rect fill=\"#FFFFFF\" height=\"42.9375\" id=\"E4\" style=\"stroke: #383838; stroke-width: 1.5;\" width=\"71\" x=\"230.5\" y=\"131.5\"/><rect fill=\"#F8F8F8\" height=\"37.9375\" style=\"stroke: #383838; stroke-width: 1.5;\" width=\"71\" x=\"230.5\" y=\"131.5\"/><text fill=\"#000000\" font-family=\"sans-serif\" font-size=\"12\" font-style=\"italic\" lengthAdjust=\"spacingAndGlyphs\" textLength=\"64\" x=\"234\" y=\"147.6387\">«part def»</text><text fill=\"#000000\" font-family=\"sans-serif\" font-size=\"12\" lengthAdjust=\"spacingAndGlyphs\" textLength=\"9\" x=\"261.5\" y=\"161.6074\">Q</text></a></g><!--MD5=[2156ba9850f5573cc1fc38a6a4b2f02b]\n",
       "class E7--><a href=\"psysml:c2df0e2e-5a66-4a2b-abfc-b3b4dd7dd2c5\" target=\"_top\" title=\"psysml:c2df0e2e-5a66-4a2b-abfc-b3b4dd7dd2c5\" xlink:actuate=\"onRequest\" xlink:href=\"psysml:c2df0e2e-5a66-4a2b-abfc-b3b4dd7dd2c5\" xlink:show=\"new\" xlink:title=\"psysml:c2df0e2e-5a66-4a2b-abfc-b3b4dd7dd2c5\" xlink:type=\"simple\"><rect fill=\"#FFFFFF\" height=\"74.3828\" id=\"E7\" rx=\"10\" ry=\"10\" style=\"stroke: #383838; stroke-width: 1.5;\" width=\"63\" x=\"641.5\" y=\"116\"/><text fill=\"#000000\" font-family=\"sans-serif\" font-size=\"12\" lengthAdjust=\"spacingAndGlyphs\" textLength=\"23\" x=\"661.5\" y=\"132.1387\">x: Q</text><line style=\"stroke: #383838; stroke-width: 1.5;\" x1=\"642.5\" x2=\"703.5\" y1=\"139.9688\" y2=\"139.9688\"/><text fill=\"#000000\" font-family=\"sans-serif\" font-size=\"11\" lengthAdjust=\"spacingAndGlyphs\" textLength=\"23\" x=\"647.5\" y=\"170.9839\">b: B</text><text fill=\"#000000\" font-family=\"sans-serif\" font-size=\"11\" font-style=\"italic\" lengthAdjust=\"spacingAndGlyphs\" textLength=\"44\" x=\"647.5\" y=\"183.7886\">:&gt;&gt;P::a</text><line style=\"stroke: #383838; stroke-width: 1.0;\" x1=\"642.5\" x2=\"645.5\" y1=\"154.3711\" y2=\"154.3711\"/><text fill=\"#000000\" font-family=\"sans-serif\" font-size=\"11\" lengthAdjust=\"spacingAndGlyphs\" textLength=\"55\" x=\"645.5\" y=\"157.6792\">attributes</text><line style=\"stroke: #383838; stroke-width: 1.0;\" x1=\"700.5\" x2=\"703.5\" y1=\"154.3711\" y2=\"154.3711\"/></a><g id=\"E1.E8\"><a href=\"psysml:d5aa7800-4c4d-4a74-9f82-8c5d7377a367\" target=\"_top\" title=\"psysml:d5aa7800-4c4d-4a74-9f82-8c5d7377a367\" xlink:actuate=\"onRequest\" xlink:href=\"psysml:d5aa7800-4c4d-4a74-9f82-8c5d7377a367\" xlink:show=\"new\" xlink:title=\"psysml:d5aa7800-4c4d-4a74-9f82-8c5d7377a367\" xlink:type=\"simple\"><rect fill=\"#FFFFFF\" height=\"40\" id=\"E8\" rx=\"10\" ry=\"10\" style=\"stroke: #383838; stroke-width: 1.5;\" width=\"50\" x=\"145\" y=\"133\"/><rect fill=\"#F8F8F8\" height=\"23.9688\" rx=\"10\" ry=\"10\" style=\"stroke: #F8F8F8; stroke-width: 1.5;\" width=\"50\" x=\"145\" y=\"133\"/><rect fill=\"#F8F8F8\" height=\"10\" style=\"stroke: #F8F8F8; stroke-width: 1.5;\" width=\"50\" x=\"145\" y=\"146.9688\"/><rect fill=\"none\" height=\"40\" id=\"E8\" rx=\"10\" ry=\"10\" style=\"stroke: #383838; stroke-width: 1.5;\" width=\"50\" x=\"145\" y=\"133\"/><text fill=\"#000000\" font-family=\"sans-serif\" font-size=\"12\" lengthAdjust=\"spacingAndGlyphs\" textLength=\"25\" x=\"157.5\" y=\"149.1387\">q: Q</text></a></g><!--MD5=[96f4274e9e20536e775497830990834d]\n",
       "class E10--><a href=\"psysml:aeeab6cc-3339-44ed-a45c-f65a5d97c376\" target=\"_top\" title=\"psysml:aeeab6cc-3339-44ed-a45c-f65a5d97c376\" xlink:actuate=\"onRequest\" xlink:href=\"psysml:aeeab6cc-3339-44ed-a45c-f65a5d97c376\" xlink:show=\"new\" xlink:title=\"psysml:aeeab6cc-3339-44ed-a45c-f65a5d97c376\" xlink:type=\"simple\"><rect fill=\"#FFFFFF\" height=\"88.3516\" id=\"E10\" rx=\"10\" ry=\"10\" style=\"stroke: #383838; stroke-width: 1.5;\" width=\"77\" x=\"472.5\" y=\"109\"/><text fill=\"#000000\" font-family=\"sans-serif\" font-size=\"12\" font-style=\"italic\" lengthAdjust=\"spacingAndGlyphs\" textLength=\"75\" x=\"473.5\" y=\"125.1387\">«reference»</text><text fill=\"#000000\" font-family=\"sans-serif\" font-size=\"12\" lengthAdjust=\"spacingAndGlyphs\" textLength=\"8\" x=\"507\" y=\"139.1074\">q</text><line style=\"stroke: #383838; stroke-width: 1.5;\" x1=\"473.5\" x2=\"548.5\" y1=\"146.9375\" y2=\"146.9375\"/><text fill=\"#000000\" font-family=\"sans-serif\" font-size=\"11\" lengthAdjust=\"spacingAndGlyphs\" textLength=\"23\" x=\"478.5\" y=\"177.9526\">b: B</text><text fill=\"#000000\" font-family=\"sans-serif\" font-size=\"11\" font-style=\"italic\" lengthAdjust=\"spacingAndGlyphs\" textLength=\"44\" x=\"478.5\" y=\"190.7573\">:&gt;&gt;P::a</text><line style=\"stroke: #383838; stroke-width: 1.0;\" x1=\"473.5\" x2=\"483.5\" y1=\"161.3398\" y2=\"161.3398\"/><text fill=\"#000000\" font-family=\"sans-serif\" font-size=\"11\" lengthAdjust=\"spacingAndGlyphs\" textLength=\"55\" x=\"483.5\" y=\"164.6479\">attributes</text><line style=\"stroke: #383838; stroke-width: 1.0;\" x1=\"538.5\" x2=\"548.5\" y1=\"161.3398\" y2=\"161.3398\"/></a><g id=\"E1.E11\"><a href=\"psysml:fe63b1e8-840a-4f2e-b06a-2ce986f19d03\" target=\"_top\" title=\"psysml:fe63b1e8-840a-4f2e-b06a-2ce986f19d03\" xlink:actuate=\"onRequest\" xlink:href=\"psysml:fe63b1e8-840a-4f2e-b06a-2ce986f19d03\" xlink:show=\"new\" xlink:title=\"psysml:fe63b1e8-840a-4f2e-b06a-2ce986f19d03\" xlink:type=\"simple\"><rect fill=\"#FFFFFF\" height=\"40\" id=\"E11\" rx=\"10\" ry=\"10\" style=\"stroke: #383838; stroke-width: 1.5;\" width=\"77\" x=\"32.5\" y=\"133\"/><rect fill=\"#F8F8F8\" height=\"23.9688\" rx=\"10\" ry=\"10\" style=\"stroke: #F8F8F8; stroke-width: 1.5;\" width=\"77\" x=\"32.5\" y=\"133\"/><rect fill=\"#F8F8F8\" height=\"10\" style=\"stroke: #F8F8F8; stroke-width: 1.5;\" width=\"77\" x=\"32.5\" y=\"146.9688\"/><rect fill=\"none\" height=\"40\" id=\"E11\" rx=\"10\" ry=\"10\" style=\"stroke: #383838; stroke-width: 1.5;\" width=\"77\" x=\"32.5\" y=\"133\"/><text fill=\"#000000\" font-family=\"sans-serif\" font-size=\"12\" lengthAdjust=\"spacingAndGlyphs\" textLength=\"62\" x=\"38\" y=\"149.1387\">y: P= v::q;</text></a></g><!--MD5=[185131fc0dcab0a4505a2ebe144e961b]\n",
       "link E4 to E2--><a href=\"psysml:6495a820-e8c0-4129-af26-6722c3b7b9e6\" target=\"_top\" title=\"psysml:6495a820-e8c0-4129-af26-6722c3b7b9e6\" xlink:actuate=\"onRequest\" xlink:href=\"psysml:6495a820-e8c0-4129-af26-6722c3b7b9e6\" xlink:show=\"new\" xlink:title=\"psysml:6495a820-e8c0-4129-af26-6722c3b7b9e6\" xlink:type=\"simple\"><path d=\"M280.76,174.77 C296.74,197.27 320,230 320,230 C320,230 347.1325,255.435 374.6888,281.2675 C388.4669,294.1838 402.3509,307.1994 413.0023,317.1847 C415.6652,319.681 418.126,321.9879 420.3326,324.0566 C421.4359,325.0909 422.4757,326.0657 423.4453,326.9747 C423.5666,327.0883 423.6867,327.2009 423.8057,327.3125 \" fill=\"none\" id=\"E4-&gt;E2\" style=\"stroke: #383838; stroke-width: 1.0;\"/><polygon fill=\"#FFFFFF\" points=\"423.8057,327.3125,414.7319,309.2109,405.1568,319.4245,423.8057,327.3125\" style=\"stroke: #383838; stroke-width: 1.0;\"/></a><!--MD5=[2351f337d6de0f557b50152ba70847b5]\n",
       "link E6 to E2--><a href=\"psysml:bd00e4e7-d183-497a-b9f8-56660fc51e3e\" target=\"_top\" title=\"psysml:bd00e4e7-d183-497a-b9f8-56660fc51e3e\" xlink:actuate=\"onRequest\" xlink:href=\"psysml:bd00e4e7-d183-497a-b9f8-56660fc51e3e\" xlink:show=\"new\" xlink:title=\"psysml:bd00e4e7-d183-497a-b9f8-56660fc51e3e\" xlink:type=\"simple\"><path d=\"M597.9262,169.3431 C597.863,169.4631 597.7996,169.5836 597.736,169.7045 C597.2267,170.672 596.7018,171.6694 596.1634,172.6922 C595.0868,174.7378 593.9566,176.8851 592.7915,179.0986 C590.4613,183.5258 587.9916,188.2181 585.5313,192.8925 C575.69,211.59 566,230 566,230 C566,230 451,238 451,238 C451,238 449.8494,243.8744 448.1144,252.7319 C448.0602,253.0087 448.0054,253.2884 447.95,253.5709 C447.9224,253.7122 447.8945,253.8542 447.8666,253.9968 \" fill=\"none\" id=\"E6-&gt;E2\" style=\"stroke: #383838; stroke-width: 1.0;\"/><polygon fill=\"#FFFFFF\" points=\"447.8666,253.9968,458.3884,236.6968,444.6494,234.0056,447.8666,253.9968\" style=\"stroke: #383838; stroke-width: 1.0;\"/></a><!--MD5=[2372ad58b332deb12ba58deefdefb5cf]\n",
       "@startuml\r\n",
       "skinparam ranksep 10\r\n",
       "skinparam rectangle {\r\n",
       " backgroundColor<<block>> LightGreen\r\n",
       "}\r\n",
       "skinparam linetype polyline\r\n",
       "skinparam monochrome true\r\n",
       "skinparam classbackgroundcolor white\r\n",
       "skinparam shadowing false\r\n",
       "skinparam wrapWidth 300\r\n",
       "hide circle\r\n",
       "\r\n",
       "package \"VariabilityTest\" as E1  [[psysml:6e13bc12-600f-4176-9ee3-c77c18f0da6f ]]  {\r\n",
       "rec def \"P\" as E2  <<(T,blue) part def>> [[psysml:a47e4883-53c6-48e5-9729-358fb18738b5 ]] {\r\n",
       "comp usage \"a\" as E3  <<(T,blue) attribute>> [[psysml:af83713f-f16b-4de7-b4a6-ecd5bab1fc22 ]] {\r\n",
       "}\r\n",
       "}\r\n",
       "rec def \"Q\" as E4  <<(T,blue) part def>> [[psysml:64152dcd-188c-4285-9d2f-82b4222731ff ]] {\r\n",
       "}\r\n",
       "def \"B\" as E5  <<(T,blue) attribute def>> [[psysml:6204c3f0-143a-45cc-ac58-9ea86a3a8ea6 ]] \r\n",
       "rec def \"V\" as E6  <<(T,blue) part def>> [[psysml:58826ca2-a740-4eaa-a71e-521b590388a3 ]] {\r\n",
       "comp usage \"x: Q\" as E7  [[psysml:c2df0e2e-5a66-4a2b-abfc-b3b4dd7dd2c5 ]] {\r\n",
       "- - attributes - -\r\n",
       "b: B\\n//:>>P::a// \r\n",
       "}\r\n",
       "}\r\n",
       "rec usage \"q: Q\" as E8  [[psysml:d5aa7800-4c4d-4a74-9f82-8c5d7377a367 ]] {\r\n",
       "}\r\n",
       "rec usage \"v: P\" as E9  [[psysml:d7b3804f-80e3-4381-979e-bf8e2501fba8 ]] {\r\n",
       "comp usage \"q\" as E10  <<(T,blue) reference>> [[psysml:aeeab6cc-3339-44ed-a45c-f65a5d97c376 ]] {\r\n",
       "- - attributes - -\r\n",
       "b: B\\n//:>>P::a// \r\n",
       "}\r\n",
       "}\r\n",
       "rec usage \"y: P= v::q; \" as E11  [[psysml:fe63b1e8-840a-4f2e-b06a-2ce986f19d03 ]] {\r\n",
       "}\r\n",
       "E4 - -|> E2 [[psysml:6495a820-e8c0-4129-af26-6722c3b7b9e6 ]] \r\n",
       "E6 - -|> E2 [[psysml:bd00e4e7-d183-497a-b9f8-56660fc51e3e ]] \r\n",
       "}\r\n",
       "@enduml\r\n",
       "\n",
       "PlantUML version 1.2020.13(Sat Jun 13 12:26:38 UTC 2020)\n",
       "(EPL source distribution)\n",
       "Java Runtime: OpenJDK Runtime Environment\n",
       "JVM: OpenJDK 64-Bit Server VM\n",
       "Default Encoding: UTF-8\n",
       "Language: en\n",
       "Country: null\n",
       "--></g></svg>"
      ]
     },
     "execution_count": 12,
     "metadata": {},
     "output_type": "execute_result"
    }
   ],
   "source": [
    "%viz --style=\"POLYLINE\" --view=\"Interconnection\" \"VariabilityTest\""
   ]
  },
  {
   "cell_type": "code",
   "execution_count": 13,
   "id": "19ae8e3c",
   "metadata": {
    "execution": {
     "iopub.execute_input": "2021-08-04T06:26:48.820460Z",
     "iopub.status.busy": "2021-08-04T06:26:48.820032Z",
     "iopub.status.idle": "2021-08-04T06:26:48.823945Z",
     "shell.execute_reply": "2021-08-04T06:26:48.824350Z"
    }
   },
   "outputs": [
    {
     "data": {
      "image/svg+xml": [
       "<?xml version=\"1.0\" encoding=\"UTF-8\" standalone=\"no\"?><svg xmlns=\"http://www.w3.org/2000/svg\" xmlns:xlink=\"http://www.w3.org/1999/xlink\" contentScriptType=\"application/ecmascript\" contentStyleType=\"text/css\" height=\"12px\" preserveAspectRatio=\"none\" style=\"width:12px;height:12px;\" version=\"1.1\" viewBox=\"0 0 12 12\" width=\"12px\" zoomAndPan=\"magnify\"><defs/><g><!--MD5=[97bbf32f66ccd50cbc40d92ea8f5a65e]\n",
       "@startuml\r\n",
       "skinparam ranksep 8\r\n",
       "skinparam linetype polyline\r\n",
       "skinparam monochrome true\r\n",
       "skinparam classbackgroundcolor white\r\n",
       "skinparam shadowing false\r\n",
       "skinparam wrapWidth 300\r\n",
       "hide circle\r\n",
       "\r\n",
       "@enduml\r\n",
       "\n",
       "PlantUML version 1.2020.13(Sat Jun 13 12:26:38 UTC 2020)\n",
       "(EPL source distribution)\n",
       "Java Runtime: OpenJDK Runtime Environment\n",
       "JVM: OpenJDK 64-Bit Server VM\n",
       "Default Encoding: UTF-8\n",
       "Language: en\n",
       "Country: null\n",
       "--></g></svg>"
      ]
     },
     "execution_count": 13,
     "metadata": {},
     "output_type": "execute_result"
    }
   ],
   "source": [
    "%viz --style=\"POLYLINE\" --view=\"Action\" \"VariabilityTest\""
   ]
  },
  {
   "cell_type": "code",
   "execution_count": 14,
   "id": "edccd3f1",
   "metadata": {
    "execution": {
     "iopub.execute_input": "2021-08-04T06:26:48.874161Z",
     "iopub.status.busy": "2021-08-04T06:26:48.873787Z",
     "iopub.status.idle": "2021-08-04T06:26:48.930890Z",
     "shell.execute_reply": "2021-08-04T06:26:48.930346Z"
    }
   },
   "outputs": [
    {
     "data": {
      "image/svg+xml": [
       "<?xml version=\"1.0\" encoding=\"UTF-8\" standalone=\"no\"?><svg xmlns=\"http://www.w3.org/2000/svg\" xmlns:xlink=\"http://www.w3.org/1999/xlink\" contentScriptType=\"application/ecmascript\" contentStyleType=\"text/css\" height=\"401px\" preserveAspectRatio=\"none\" style=\"width:419px;height:401px;\" version=\"1.1\" viewBox=\"0 0 419 401\" width=\"419px\" zoomAndPan=\"magnify\"><defs/><g><!--MD5=[fbc87193dbaf4d95561dea2c320d4a47]\n",
       "cluster E1--><a href=\"psysml:6e13bc12-600f-4176-9ee3-c77c18f0da6f\" target=\"_top\" title=\"psysml:6e13bc12-600f-4176-9ee3-c77c18f0da6f\" xlink:actuate=\"onRequest\" xlink:href=\"psysml:6e13bc12-600f-4176-9ee3-c77c18f0da6f\" xlink:show=\"new\" xlink:title=\"psysml:6e13bc12-600f-4176-9ee3-c77c18f0da6f\" xlink:type=\"simple\"><polygon fill=\"#FFFFFF\" points=\"16,6,134,6,141,28.2969,397,28.2969,397,389,16,389,16,6\" style=\"stroke: #000000; stroke-width: 1.5;\"/><line style=\"stroke: #000000; stroke-width: 1.5;\" x1=\"16\" x2=\"141\" y1=\"28.2969\" y2=\"28.2969\"/><text fill=\"#000000\" font-family=\"sans-serif\" font-size=\"14\" font-weight=\"bold\" lengthAdjust=\"spacingAndGlyphs\" textLength=\"112\" x=\"20\" y=\"20.9951\">VariabilityTest</text></a><!--MD5=[b4997ac47864f28c2f74865a473b2911]\n",
       "class E2--><a href=\"psysml:a47e4883-53c6-48e5-9729-358fb18738b5\" target=\"_top\" title=\"psysml:a47e4883-53c6-48e5-9729-358fb18738b5\" xlink:actuate=\"onRequest\" xlink:href=\"psysml:a47e4883-53c6-48e5-9729-358fb18738b5\" xlink:show=\"new\" xlink:title=\"psysml:a47e4883-53c6-48e5-9729-358fb18738b5\" xlink:type=\"simple\"><rect fill=\"#FFFFFF\" height=\"75.5469\" id=\"E2\" style=\"stroke: #383838; stroke-width: 1.5;\" width=\"66\" x=\"166\" y=\"291\"/><text fill=\"#000000\" font-family=\"sans-serif\" font-size=\"12\" font-style=\"italic\" lengthAdjust=\"spacingAndGlyphs\" textLength=\"64\" x=\"167\" y=\"307.1387\">«part def»</text><text fill=\"#000000\" font-family=\"sans-serif\" font-size=\"12\" lengthAdjust=\"spacingAndGlyphs\" textLength=\"8\" x=\"195\" y=\"321.1074\">P</text><line style=\"stroke: #383838; stroke-width: 1.5;\" x1=\"167\" x2=\"231\" y1=\"328.9375\" y2=\"328.9375\"/><text fill=\"#000000\" font-family=\"sans-serif\" font-size=\"11\" lengthAdjust=\"spacingAndGlyphs\" textLength=\"7\" x=\"172\" y=\"359.9526\">a</text><line style=\"stroke: #383838; stroke-width: 1.0;\" x1=\"167\" x2=\"171.5\" y1=\"343.3398\" y2=\"343.3398\"/><text fill=\"#000000\" font-family=\"sans-serif\" font-size=\"11\" lengthAdjust=\"spacingAndGlyphs\" textLength=\"55\" x=\"171.5\" y=\"346.6479\">attributes</text><line style=\"stroke: #383838; stroke-width: 1.0;\" x1=\"226.5\" x2=\"231\" y1=\"343.3398\" y2=\"343.3398\"/></a><!--MD5=[09b614a08d8cba4a07c9adeb5e0fee81]\n",
       "class E3--><a href=\"psysml:64152dcd-188c-4285-9d2f-82b4222731ff\" target=\"_top\" title=\"psysml:64152dcd-188c-4285-9d2f-82b4222731ff\" xlink:actuate=\"onRequest\" xlink:href=\"psysml:64152dcd-188c-4285-9d2f-82b4222731ff\" xlink:show=\"new\" xlink:title=\"psysml:64152dcd-188c-4285-9d2f-82b4222731ff\" xlink:type=\"simple\"><rect fill=\"#FFFFFF\" height=\"45.9375\" id=\"E3\" style=\"stroke: #383838; stroke-width: 1.5;\" width=\"66\" x=\"137\" y=\"155\"/><text fill=\"#000000\" font-family=\"sans-serif\" font-size=\"12\" font-style=\"italic\" lengthAdjust=\"spacingAndGlyphs\" textLength=\"64\" x=\"138\" y=\"171.1387\">«part def»</text><text fill=\"#000000\" font-family=\"sans-serif\" font-size=\"12\" lengthAdjust=\"spacingAndGlyphs\" textLength=\"9\" x=\"165.5\" y=\"185.1074\">Q</text><line style=\"stroke: #383838; stroke-width: 1.5;\" x1=\"138\" x2=\"202\" y1=\"192.9375\" y2=\"192.9375\"/></a><!--MD5=[ebbe1d658d1005bcc118a6aa81145e00]\n",
       "class E4--><a href=\"psysml:6204c3f0-143a-45cc-ac58-9ea86a3a8ea6\" target=\"_top\" title=\"psysml:6204c3f0-143a-45cc-ac58-9ea86a3a8ea6\" xlink:actuate=\"onRequest\" xlink:href=\"psysml:6204c3f0-143a-45cc-ac58-9ea86a3a8ea6\" xlink:show=\"new\" xlink:title=\"psysml:6204c3f0-143a-45cc-ac58-9ea86a3a8ea6\" xlink:type=\"simple\"><rect fill=\"#FFFFFF\" height=\"45.9375\" id=\"E4\" style=\"stroke: #383838; stroke-width: 1.5;\" width=\"95\" x=\"255.5\" y=\"41\"/><text fill=\"#000000\" font-family=\"sans-serif\" font-size=\"12\" font-style=\"italic\" lengthAdjust=\"spacingAndGlyphs\" textLength=\"93\" x=\"256.5\" y=\"57.1387\">«attribute def»</text><text fill=\"#000000\" font-family=\"sans-serif\" font-size=\"12\" lengthAdjust=\"spacingAndGlyphs\" textLength=\"8\" x=\"299\" y=\"71.1074\">B</text><line style=\"stroke: #383838; stroke-width: 1.5;\" x1=\"256.5\" x2=\"349.5\" y1=\"78.9375\" y2=\"78.9375\"/></a><!--MD5=[270fce915f116d4de14055a7c1d9a0f3]\n",
       "class E5--><a href=\"psysml:58826ca2-a740-4eaa-a71e-521b590388a3\" target=\"_top\" title=\"psysml:58826ca2-a740-4eaa-a71e-521b590388a3\" xlink:actuate=\"onRequest\" xlink:href=\"psysml:58826ca2-a740-4eaa-a71e-521b590388a3\" xlink:show=\"new\" xlink:title=\"psysml:58826ca2-a740-4eaa-a71e-521b590388a3\" xlink:type=\"simple\"><rect fill=\"#FFFFFF\" height=\"45.9375\" id=\"E5\" style=\"stroke: #383838; stroke-width: 1.5;\" width=\"66\" x=\"315\" y=\"155\"/><text fill=\"#000000\" font-family=\"sans-serif\" font-size=\"12\" font-style=\"italic\" lengthAdjust=\"spacingAndGlyphs\" textLength=\"64\" x=\"316\" y=\"171.1387\">«part def»</text><text fill=\"#000000\" font-family=\"sans-serif\" font-size=\"12\" lengthAdjust=\"spacingAndGlyphs\" textLength=\"8\" x=\"344\" y=\"185.1074\">V</text><line style=\"stroke: #383838; stroke-width: 1.5;\" x1=\"316\" x2=\"380\" y1=\"192.9375\" y2=\"192.9375\"/></a><!--MD5=[60a26617385b1d2d0262a64233df1f8d]\n",
       "class E6--><a href=\"psysml:c2df0e2e-5a66-4a2b-abfc-b3b4dd7dd2c5\" target=\"_top\" title=\"psysml:c2df0e2e-5a66-4a2b-abfc-b3b4dd7dd2c5\" xlink:actuate=\"onRequest\" xlink:href=\"psysml:c2df0e2e-5a66-4a2b-abfc-b3b4dd7dd2c5\" xlink:show=\"new\" xlink:title=\"psysml:c2df0e2e-5a66-4a2b-abfc-b3b4dd7dd2c5\" xlink:type=\"simple\"><rect fill=\"#FFFFFF\" height=\"88.3516\" id=\"E6\" rx=\"10\" ry=\"10\" style=\"stroke: #383838; stroke-width: 1.5;\" width=\"63\" x=\"287.5\" y=\"285\"/><text fill=\"#000000\" font-family=\"sans-serif\" font-size=\"12\" font-style=\"italic\" lengthAdjust=\"spacingAndGlyphs\" textLength=\"40\" x=\"299\" y=\"301.1387\">«part»</text><text fill=\"#000000\" font-family=\"sans-serif\" font-size=\"12\" lengthAdjust=\"spacingAndGlyphs\" textLength=\"23\" x=\"307.5\" y=\"315.1074\">x: Q</text><line style=\"stroke: #383838; stroke-width: 1.5;\" x1=\"288.5\" x2=\"349.5\" y1=\"322.9375\" y2=\"322.9375\"/><text fill=\"#000000\" font-family=\"sans-serif\" font-size=\"11\" lengthAdjust=\"spacingAndGlyphs\" textLength=\"23\" x=\"293.5\" y=\"353.9526\">b: B</text><text fill=\"#000000\" font-family=\"sans-serif\" font-size=\"11\" font-style=\"italic\" lengthAdjust=\"spacingAndGlyphs\" textLength=\"44\" x=\"293.5\" y=\"366.7573\">:&gt;&gt;P::a</text><line style=\"stroke: #383838; stroke-width: 1.0;\" x1=\"288.5\" x2=\"291.5\" y1=\"337.3398\" y2=\"337.3398\"/><text fill=\"#000000\" font-family=\"sans-serif\" font-size=\"11\" lengthAdjust=\"spacingAndGlyphs\" textLength=\"55\" x=\"291.5\" y=\"340.6479\">attributes</text><line style=\"stroke: #383838; stroke-width: 1.0;\" x1=\"346.5\" x2=\"349.5\" y1=\"337.3398\" y2=\"337.3398\"/></a><!--MD5=[2156ba9850f5573cc1fc38a6a4b2f02b]\n",
       "class E7--><a href=\"psysml:d5aa7800-4c4d-4a74-9f82-8c5d7377a367\" target=\"_top\" title=\"psysml:d5aa7800-4c4d-4a74-9f82-8c5d7377a367\" xlink:actuate=\"onRequest\" xlink:href=\"psysml:d5aa7800-4c4d-4a74-9f82-8c5d7377a367\" xlink:show=\"new\" xlink:title=\"psysml:d5aa7800-4c4d-4a74-9f82-8c5d7377a367\" xlink:type=\"simple\"><rect fill=\"#FFFFFF\" height=\"45.9375\" id=\"E7\" rx=\"10\" ry=\"10\" style=\"stroke: #383838; stroke-width: 1.5;\" width=\"42\" x=\"149\" y=\"41\"/><text fill=\"#000000\" font-family=\"sans-serif\" font-size=\"12\" font-style=\"italic\" lengthAdjust=\"spacingAndGlyphs\" textLength=\"40\" x=\"150\" y=\"57.1387\">«part»</text><text fill=\"#000000\" font-family=\"sans-serif\" font-size=\"12\" lengthAdjust=\"spacingAndGlyphs\" textLength=\"25\" x=\"157.5\" y=\"71.1074\">q: Q</text><line style=\"stroke: #383838; stroke-width: 1.5;\" x1=\"150\" x2=\"190\" y1=\"78.9375\" y2=\"78.9375\"/></a><!--MD5=[b9389687b975829384b498ac4b7476b2]\n",
       "class E8--><a href=\"psysml:d7b3804f-80e3-4381-979e-bf8e2501fba8\" target=\"_top\" title=\"psysml:d7b3804f-80e3-4381-979e-bf8e2501fba8\" xlink:actuate=\"onRequest\" xlink:href=\"psysml:d7b3804f-80e3-4381-979e-bf8e2501fba8\" xlink:show=\"new\" xlink:title=\"psysml:d7b3804f-80e3-4381-979e-bf8e2501fba8\" xlink:type=\"simple\"><rect fill=\"#FFFFFF\" height=\"59.9063\" id=\"E8\" rx=\"10\" ry=\"10\" style=\"stroke: #383838; stroke-width: 1.5;\" width=\"70\" x=\"32\" y=\"148\"/><text fill=\"#000000\" font-family=\"sans-serif\" font-size=\"12\" font-style=\"italic\" lengthAdjust=\"spacingAndGlyphs\" textLength=\"68\" x=\"33\" y=\"164.1387\">«variation»</text><text fill=\"#000000\" font-family=\"sans-serif\" font-size=\"12\" font-style=\"italic\" lengthAdjust=\"spacingAndGlyphs\" textLength=\"40\" x=\"47\" y=\"178.1074\">«part»</text><text fill=\"#000000\" font-family=\"sans-serif\" font-size=\"12\" lengthAdjust=\"spacingAndGlyphs\" textLength=\"22\" x=\"56\" y=\"192.0762\">v: P</text><line style=\"stroke: #383838; stroke-width: 1.5;\" x1=\"33\" x2=\"101\" y1=\"199.9063\" y2=\"199.9063\"/></a><!--MD5=[fd4143e9d270a159db93a4ea2a975926]\n",
       "class E9--><a href=\"psysml:aeeab6cc-3339-44ed-a45c-f65a5d97c376\" target=\"_top\" title=\"psysml:aeeab6cc-3339-44ed-a45c-f65a5d97c376\" xlink:actuate=\"onRequest\" xlink:href=\"psysml:aeeab6cc-3339-44ed-a45c-f65a5d97c376\" xlink:show=\"new\" xlink:title=\"psysml:aeeab6cc-3339-44ed-a45c-f65a5d97c376\" xlink:type=\"simple\"><rect fill=\"#FFFFFF\" height=\"88.3516\" id=\"E9\" rx=\"10\" ry=\"10\" style=\"stroke: #383838; stroke-width: 1.5;\" width=\"77\" x=\"32.5\" y=\"285\"/><text fill=\"#000000\" font-family=\"sans-serif\" font-size=\"12\" font-style=\"italic\" lengthAdjust=\"spacingAndGlyphs\" textLength=\"75\" x=\"33.5\" y=\"301.1387\">«reference»</text><text fill=\"#000000\" font-family=\"sans-serif\" font-size=\"12\" lengthAdjust=\"spacingAndGlyphs\" textLength=\"8\" x=\"67\" y=\"315.1074\">q</text><line style=\"stroke: #383838; stroke-width: 1.5;\" x1=\"33.5\" x2=\"108.5\" y1=\"322.9375\" y2=\"322.9375\"/><text fill=\"#000000\" font-family=\"sans-serif\" font-size=\"11\" lengthAdjust=\"spacingAndGlyphs\" textLength=\"23\" x=\"38.5\" y=\"353.9526\">b: B</text><text fill=\"#000000\" font-family=\"sans-serif\" font-size=\"11\" font-style=\"italic\" lengthAdjust=\"spacingAndGlyphs\" textLength=\"44\" x=\"38.5\" y=\"366.7573\">:&gt;&gt;P::a</text><line style=\"stroke: #383838; stroke-width: 1.0;\" x1=\"33.5\" x2=\"43.5\" y1=\"337.3398\" y2=\"337.3398\"/><text fill=\"#000000\" font-family=\"sans-serif\" font-size=\"11\" lengthAdjust=\"spacingAndGlyphs\" textLength=\"55\" x=\"43.5\" y=\"340.6479\">attributes</text><line style=\"stroke: #383838; stroke-width: 1.0;\" x1=\"98.5\" x2=\"108.5\" y1=\"337.3398\" y2=\"337.3398\"/></a><!--MD5=[96f4274e9e20536e775497830990834d]\n",
       "class E10--><a href=\"psysml:fe63b1e8-840a-4f2e-b06a-2ce986f19d03\" target=\"_top\" title=\"psysml:fe63b1e8-840a-4f2e-b06a-2ce986f19d03\" xlink:actuate=\"onRequest\" xlink:href=\"psysml:fe63b1e8-840a-4f2e-b06a-2ce986f19d03\" xlink:show=\"new\" xlink:title=\"psysml:fe63b1e8-840a-4f2e-b06a-2ce986f19d03\" xlink:type=\"simple\"><rect fill=\"#FFFFFF\" height=\"45.9375\" id=\"E10\" rx=\"10\" ry=\"10\" style=\"stroke: #383838; stroke-width: 1.5;\" width=\"42\" x=\"238\" y=\"155\"/><text fill=\"#000000\" font-family=\"sans-serif\" font-size=\"12\" font-style=\"italic\" lengthAdjust=\"spacingAndGlyphs\" textLength=\"40\" x=\"239\" y=\"171.1387\">«part»</text><text fill=\"#000000\" font-family=\"sans-serif\" font-size=\"12\" lengthAdjust=\"spacingAndGlyphs\" textLength=\"22\" x=\"248\" y=\"185.1074\">y: P</text><line style=\"stroke: #383838; stroke-width: 1.5;\" x1=\"239\" x2=\"279\" y1=\"192.9375\" y2=\"192.9375\"/></a><!--MD5=[05d275557350bfb9b23a4ef7222b4c39]\n",
       "link E3 to E2--><a href=\"psysml:6495a820-e8c0-4129-af26-6722c3b7b9e6\" target=\"_top\" title=\"psysml:6495a820-e8c0-4129-af26-6722c3b7b9e6\" xlink:actuate=\"onRequest\" xlink:href=\"psysml:6495a820-e8c0-4129-af26-6722c3b7b9e6\" xlink:show=\"new\" xlink:title=\"psysml:6495a820-e8c0-4129-af26-6722c3b7b9e6\" xlink:type=\"simple\"><path d=\"M174.34,201.31 C177.92,219.67 183.15,246.54 187.87,270.81 \" fill=\"none\" id=\"E3-&gt;E2\" style=\"stroke: #383838; stroke-width: 1.0;\"/><polygon fill=\"none\" points=\"194.8,269.8,191.75,290.77,181.06,272.47,194.8,269.8\" style=\"stroke: #383838; stroke-width: 1.0;\"/></a><!--MD5=[15ebcb19ae302d9b601edb458606d402]\n",
       "link E5 to E2--><a href=\"psysml:bd00e4e7-d183-497a-b9f8-56660fc51e3e\" target=\"_top\" title=\"psysml:bd00e4e7-d183-497a-b9f8-56660fc51e3e\" xlink:actuate=\"onRequest\" xlink:href=\"psysml:bd00e4e7-d183-497a-b9f8-56660fc51e3e\" xlink:show=\"new\" xlink:title=\"psysml:bd00e4e7-d183-497a-b9f8-56660fc51e3e\" xlink:type=\"simple\"><path d=\"M325.69,201.31 C304.9,222.1 273.2,253.8 246.71,280.29 \" fill=\"none\" id=\"E5-&gt;E2\" style=\"stroke: #383838; stroke-width: 1.0;\"/><polygon fill=\"none\" points=\"251.33,285.57,232.24,294.76,241.43,275.67,251.33,285.57\" style=\"stroke: #383838; stroke-width: 1.0;\"/></a><!--MD5=[9120cf2e5df3bff93db8f754bbbc09b4]\n",
       "link E5 to E6--><a href=\"psysml:3ec706da-d65f-4ef5-8a1f-1e1b5df7e7c6\" target=\"_top\" title=\"psysml:3ec706da-d65f-4ef5-8a1f-1e1b5df7e7c6\" xlink:actuate=\"onRequest\" xlink:href=\"psysml:3ec706da-d65f-4ef5-8a1f-1e1b5df7e7c6\" xlink:show=\"new\" xlink:title=\"psysml:3ec706da-d65f-4ef5-8a1f-1e1b5df7e7c6\" xlink:type=\"simple\"><path d=\"M341.72,211.26 C338.1,229.85 333.47,253.68 329.32,274.95 \" fill=\"none\" id=\"E5-E6\" style=\"stroke: #383838; stroke-width: 1.0;\"/><polygon fill=\"#383838\" points=\"327.4,284.84,331.8761,277.5623,325.987,276.4136,327.4,284.84\" style=\"stroke: #383838; stroke-width: 1.0;\"/><path d=\"M334.7699,202.7122 A9,9 0 0 0 351.3715 205.9503\" fill=\"none\" style=\"stroke: #383838; stroke-width: 1.5;\"/><text fill=\"#000000\" font-family=\"sans-serif\" font-size=\"13\" lengthAdjust=\"spacingAndGlyphs\" textLength=\"60\" x=\"337\" y=\"251.0669\">«variant»</text></a><!--MD5=[14ccda38c055a5c0da953d572bc50960]\n",
       "link E7 to E3--><a href=\"psysml:9cf32953-475b-4011-b1f8-e7f09d5ce449\" target=\"_top\" title=\"psysml:9cf32953-475b-4011-b1f8-e7f09d5ce449\" xlink:actuate=\"onRequest\" xlink:href=\"psysml:9cf32953-475b-4011-b1f8-e7f09d5ce449\" xlink:show=\"new\" xlink:title=\"psysml:9cf32953-475b-4011-b1f8-e7f09d5ce449\" xlink:type=\"simple\"><path d=\"M170,87.13 C170,100.7 170,118.53 170,134.73 \" fill=\"none\" id=\"E7-&gt;E3\" style=\"stroke: #383838; stroke-width: 1.0;\"/><polygon fill=\"#FFFFFF\" points=\"170,154.92,163,135.92,177,135.92,170,154.92\" style=\"stroke: #383838; stroke-width: 1.0;\"/><ellipse cx=\"165\" cy=\"130.22\" fill=\"#383838\" rx=\"2\" ry=\"2\" style=\"stroke: #383838; stroke-width: 1.0;\"/><ellipse cx=\"175\" cy=\"130.22\" fill=\"#383838\" rx=\"2\" ry=\"2\" style=\"stroke: #383838; stroke-width: 1.0;\"/></a><!--MD5=[f1f3f9f2fc535e6147756cb86a7f2e32]\n",
       "link E8 to E2--><a href=\"psysml:d1a9bfbc-b159-49c1-a5ca-956a4881ee49\" target=\"_top\" title=\"psysml:d1a9bfbc-b159-49c1-a5ca-956a4881ee49\" xlink:actuate=\"onRequest\" xlink:href=\"psysml:d1a9bfbc-b159-49c1-a5ca-956a4881ee49\" xlink:show=\"new\" xlink:title=\"psysml:d1a9bfbc-b159-49c1-a5ca-956a4881ee49\" xlink:type=\"simple\"><path d=\"M102.16,207.81 C120.43,222.79 139,238 139,238 C139,238 150.31,254.97 163.11,274.17 \" fill=\"none\" id=\"E8-&gt;E2\" style=\"stroke: #383838; stroke-width: 1.0;\"/><polygon fill=\"#FFFFFF\" points=\"174.25,290.87,157.884,278.9472,169.5311,271.1791,174.25,290.87\" style=\"stroke: #383838; stroke-width: 1.0;\"/><ellipse cx=\"156.3851\" cy=\"273.0954\" fill=\"#383838\" rx=\"2\" ry=\"2\" style=\"stroke: #383838; stroke-width: 1.0;\"/><ellipse cx=\"164.7045\" cy=\"267.5467\" fill=\"#383838\" rx=\"2\" ry=\"2\" style=\"stroke: #383838; stroke-width: 1.0;\"/></a><!--MD5=[ed10624c06dd9a4fa49ccf290e8b16a8]\n",
       "link E8 to E9--><a href=\"psysml:4574f674-7c12-4143-bfb7-6a6844a72e64\" target=\"_top\" title=\"psysml:4574f674-7c12-4143-bfb7-6a6844a72e64\" xlink:actuate=\"onRequest\" xlink:href=\"psysml:4574f674-7c12-4143-bfb7-6a6844a72e64\" xlink:show=\"new\" xlink:title=\"psysml:4574f674-7c12-4143-bfb7-6a6844a72e64\" xlink:type=\"simple\"><path d=\"M68.06,218.32 C68.52,235.6 69.07,256.15 69.57,274.77 \" fill=\"none\" id=\"E8-E9\" style=\"stroke: #383838; stroke-width: 1.0;\"/><polygon fill=\"#383838\" points=\"69.84,284.88,72.6331,276.8054,66.6351,276.9599,69.84,284.88\" style=\"stroke: #383838; stroke-width: 1.0;\"/><path d=\"M59.4094,211.3865 A9,9 0 0 0 76.3176 210.9276\" fill=\"none\" style=\"stroke: #383838; stroke-width: 1.5;\"/><text fill=\"#000000\" font-family=\"sans-serif\" font-size=\"13\" lengthAdjust=\"spacingAndGlyphs\" textLength=\"60\" x=\"70\" y=\"251.0669\">«variant»</text></a><!--MD5=[0f36bececdf0dff6e600d6f64214b0f1]\n",
       "link E10 to E2--><a href=\"psysml:bd829215-07d4-45cb-8fe9-60748d4dd682\" target=\"_top\" title=\"psysml:bd829215-07d4-45cb-8fe9-60748d4dd682\" xlink:actuate=\"onRequest\" xlink:href=\"psysml:bd829215-07d4-45cb-8fe9-60748d4dd682\" xlink:show=\"new\" xlink:title=\"psysml:bd829215-07d4-45cb-8fe9-60748d4dd682\" xlink:type=\"simple\"><path d=\"M250.02,201.31 C242.51,219.95 231.48,247.35 221.59,271.91 \" fill=\"none\" id=\"E10-&gt;E2\" style=\"stroke: #383838; stroke-width: 1.0;\"/><polygon fill=\"#FFFFFF\" points=\"213.99,290.77,214.5927,270.5305,227.5796,275.7593,213.99,290.77\" style=\"stroke: #383838; stroke-width: 1.0;\"/><ellipse cx=\"218.5768\" cy=\"265.9899\" fill=\"#383838\" rx=\"2\" ry=\"2\" style=\"stroke: #383838; stroke-width: 1.0;\"/><ellipse cx=\"227.8532\" cy=\"269.7248\" fill=\"#383838\" rx=\"2\" ry=\"2\" style=\"stroke: #383838; stroke-width: 1.0;\"/></a><!--MD5=[1e35f64115f8c4a5dba68934619851e9]\n",
       "@startuml\r\n",
       "skinparam linetype polyline\r\n",
       "skinparam monochrome true\r\n",
       "skinparam classbackgroundcolor white\r\n",
       "skinparam shadowing false\r\n",
       "skinparam wrapWidth 300\r\n",
       "hide circle\r\n",
       "\r\n",
       "package \"VariabilityTest\" as E1  [[psysml:6e13bc12-600f-4176-9ee3-c77c18f0da6f ]]  {\r\n",
       "comp def \"P\" as E2  <<(T,blue) part def>> [[psysml:a47e4883-53c6-48e5-9729-358fb18738b5 ]] {\r\n",
       "- - attributes - -\r\n",
       "a\r\n",
       "}\r\n",
       "comp def \"Q\" as E3  <<(T,blue) part def>> [[psysml:64152dcd-188c-4285-9d2f-82b4222731ff ]] {\r\n",
       "}\r\n",
       "comp def \"B\" as E4  <<(T,blue) attribute def>> [[psysml:6204c3f0-143a-45cc-ac58-9ea86a3a8ea6 ]] {\r\n",
       "}\r\n",
       "comp def \"V\" as E5  <<(T,blue) part def>> [[psysml:58826ca2-a740-4eaa-a71e-521b590388a3 ]] {\r\n",
       "}\r\n",
       "comp usage \"x: Q\" as E6  <<(T,blue) part>> [[psysml:c2df0e2e-5a66-4a2b-abfc-b3b4dd7dd2c5 ]] {\r\n",
       "- - attributes - -\r\n",
       "b: B\\n//:>>P::a// \r\n",
       "}\r\n",
       "comp usage \"q: Q\" as E7  <<(T,blue) part>> [[psysml:d5aa7800-4c4d-4a74-9f82-8c5d7377a367 ]] {\r\n",
       "}\r\n",
       "comp usage \"v: P\" as E8  <<variation>>\\n <<(T,blue) part>> [[psysml:d7b3804f-80e3-4381-979e-bf8e2501fba8 ]] {\r\n",
       "}\r\n",
       "comp usage \"q\" as E9  <<(T,blue) reference>> [[psysml:aeeab6cc-3339-44ed-a45c-f65a5d97c376 ]] {\r\n",
       "- - attributes - -\r\n",
       "b: B\\n//:>>P::a// \r\n",
       "}\r\n",
       "comp usage \"y: P\" as E10  <<(T,blue) part>> [[psysml:fe63b1e8-840a-4f2e-b06a-2ce986f19d03 ]] {\r\n",
       "}\r\n",
       "E3 - -|> E2 [[psysml:6495a820-e8c0-4129-af26-6722c3b7b9e6 ]] \r\n",
       "E5 - -|> E2 [[psysml:bd00e4e7-d183-497a-b9f8-56660fc51e3e ]] \r\n",
       "E5 )- ->> E6 [[psysml:3ec706da-d65f-4ef5-8a1f-1e1b5df7e7c6 ]] : <<variant>>\r\n",
       "E7 - -:|> E3 [[psysml:9cf32953-475b-4011-b1f8-e7f09d5ce449 ]] \r\n",
       "E8 - -:|> E2 [[psysml:d1a9bfbc-b159-49c1-a5ca-956a4881ee49 ]] \r\n",
       "E8 )- ->> E9 [[psysml:4574f674-7c12-4143-bfb7-6a6844a72e64 ]] : <<variant>>\r\n",
       "E10 - -:|> E2 [[psysml:bd829215-07d4-45cb-8fe9-60748d4dd682 ]] \r\n",
       "}\r\n",
       "@enduml\r\n",
       "\n",
       "PlantUML version 1.2020.13(Sat Jun 13 12:26:38 UTC 2020)\n",
       "(EPL source distribution)\n",
       "Java Runtime: OpenJDK Runtime Environment\n",
       "JVM: OpenJDK 64-Bit Server VM\n",
       "Default Encoding: UTF-8\n",
       "Language: en\n",
       "Country: null\n",
       "--></g></svg>"
      ]
     },
     "execution_count": 14,
     "metadata": {},
     "output_type": "execute_result"
    }
   ],
   "source": [
    "%viz --style=\"POLYLINE\" --view=\"Sequence\" \"VariabilityTest\""
   ]
  },
  {
   "cell_type": "code",
   "execution_count": 15,
   "id": "99b1ed6d",
   "metadata": {
    "execution": {
     "iopub.execute_input": "2021-08-04T06:26:48.980095Z",
     "iopub.status.busy": "2021-08-04T06:26:48.979612Z",
     "iopub.status.idle": "2021-08-04T06:26:49.042546Z",
     "shell.execute_reply": "2021-08-04T06:26:49.041977Z"
    }
   },
   "outputs": [
    {
     "data": {
      "image/svg+xml": [
       "<?xml version=\"1.0\" encoding=\"UTF-8\" standalone=\"no\"?><svg xmlns=\"http://www.w3.org/2000/svg\" xmlns:xlink=\"http://www.w3.org/1999/xlink\" contentScriptType=\"application/ecmascript\" contentStyleType=\"text/css\" height=\"401px\" preserveAspectRatio=\"none\" style=\"width:419px;height:401px;\" version=\"1.1\" viewBox=\"0 0 419 401\" width=\"419px\" zoomAndPan=\"magnify\"><defs/><g><!--MD5=[fbc87193dbaf4d95561dea2c320d4a47]\n",
       "cluster E1--><a href=\"psysml:6e13bc12-600f-4176-9ee3-c77c18f0da6f\" target=\"_top\" title=\"psysml:6e13bc12-600f-4176-9ee3-c77c18f0da6f\" xlink:actuate=\"onRequest\" xlink:href=\"psysml:6e13bc12-600f-4176-9ee3-c77c18f0da6f\" xlink:show=\"new\" xlink:title=\"psysml:6e13bc12-600f-4176-9ee3-c77c18f0da6f\" xlink:type=\"simple\"><polygon fill=\"#FFFFFF\" points=\"16,6,134,6,141,28.2969,397,28.2969,397,389,16,389,16,6\" style=\"stroke: #000000; stroke-width: 1.5;\"/><line style=\"stroke: #000000; stroke-width: 1.5;\" x1=\"16\" x2=\"141\" y1=\"28.2969\" y2=\"28.2969\"/><text fill=\"#000000\" font-family=\"sans-serif\" font-size=\"14\" font-weight=\"bold\" lengthAdjust=\"spacingAndGlyphs\" textLength=\"112\" x=\"20\" y=\"20.9951\">VariabilityTest</text></a><!--MD5=[b4997ac47864f28c2f74865a473b2911]\n",
       "class E2--><a href=\"psysml:a47e4883-53c6-48e5-9729-358fb18738b5\" target=\"_top\" title=\"psysml:a47e4883-53c6-48e5-9729-358fb18738b5\" xlink:actuate=\"onRequest\" xlink:href=\"psysml:a47e4883-53c6-48e5-9729-358fb18738b5\" xlink:show=\"new\" xlink:title=\"psysml:a47e4883-53c6-48e5-9729-358fb18738b5\" xlink:type=\"simple\"><rect fill=\"#FFFFFF\" height=\"75.5469\" id=\"E2\" style=\"stroke: #383838; stroke-width: 1.5;\" width=\"66\" x=\"166\" y=\"291\"/><text fill=\"#000000\" font-family=\"sans-serif\" font-size=\"12\" font-style=\"italic\" lengthAdjust=\"spacingAndGlyphs\" textLength=\"64\" x=\"167\" y=\"307.1387\">«part def»</text><text fill=\"#000000\" font-family=\"sans-serif\" font-size=\"12\" lengthAdjust=\"spacingAndGlyphs\" textLength=\"8\" x=\"195\" y=\"321.1074\">P</text><line style=\"stroke: #383838; stroke-width: 1.5;\" x1=\"167\" x2=\"231\" y1=\"328.9375\" y2=\"328.9375\"/><text fill=\"#000000\" font-family=\"sans-serif\" font-size=\"11\" lengthAdjust=\"spacingAndGlyphs\" textLength=\"7\" x=\"172\" y=\"359.9526\">a</text><line style=\"stroke: #383838; stroke-width: 1.0;\" x1=\"167\" x2=\"171.5\" y1=\"343.3398\" y2=\"343.3398\"/><text fill=\"#000000\" font-family=\"sans-serif\" font-size=\"11\" lengthAdjust=\"spacingAndGlyphs\" textLength=\"55\" x=\"171.5\" y=\"346.6479\">attributes</text><line style=\"stroke: #383838; stroke-width: 1.0;\" x1=\"226.5\" x2=\"231\" y1=\"343.3398\" y2=\"343.3398\"/></a><!--MD5=[09b614a08d8cba4a07c9adeb5e0fee81]\n",
       "class E3--><a href=\"psysml:64152dcd-188c-4285-9d2f-82b4222731ff\" target=\"_top\" title=\"psysml:64152dcd-188c-4285-9d2f-82b4222731ff\" xlink:actuate=\"onRequest\" xlink:href=\"psysml:64152dcd-188c-4285-9d2f-82b4222731ff\" xlink:show=\"new\" xlink:title=\"psysml:64152dcd-188c-4285-9d2f-82b4222731ff\" xlink:type=\"simple\"><rect fill=\"#FFFFFF\" height=\"45.9375\" id=\"E3\" style=\"stroke: #383838; stroke-width: 1.5;\" width=\"66\" x=\"137\" y=\"155\"/><text fill=\"#000000\" font-family=\"sans-serif\" font-size=\"12\" font-style=\"italic\" lengthAdjust=\"spacingAndGlyphs\" textLength=\"64\" x=\"138\" y=\"171.1387\">«part def»</text><text fill=\"#000000\" font-family=\"sans-serif\" font-size=\"12\" lengthAdjust=\"spacingAndGlyphs\" textLength=\"9\" x=\"165.5\" y=\"185.1074\">Q</text><line style=\"stroke: #383838; stroke-width: 1.5;\" x1=\"138\" x2=\"202\" y1=\"192.9375\" y2=\"192.9375\"/></a><!--MD5=[ebbe1d658d1005bcc118a6aa81145e00]\n",
       "class E4--><a href=\"psysml:6204c3f0-143a-45cc-ac58-9ea86a3a8ea6\" target=\"_top\" title=\"psysml:6204c3f0-143a-45cc-ac58-9ea86a3a8ea6\" xlink:actuate=\"onRequest\" xlink:href=\"psysml:6204c3f0-143a-45cc-ac58-9ea86a3a8ea6\" xlink:show=\"new\" xlink:title=\"psysml:6204c3f0-143a-45cc-ac58-9ea86a3a8ea6\" xlink:type=\"simple\"><rect fill=\"#FFFFFF\" height=\"45.9375\" id=\"E4\" style=\"stroke: #383838; stroke-width: 1.5;\" width=\"95\" x=\"255.5\" y=\"41\"/><text fill=\"#000000\" font-family=\"sans-serif\" font-size=\"12\" font-style=\"italic\" lengthAdjust=\"spacingAndGlyphs\" textLength=\"93\" x=\"256.5\" y=\"57.1387\">«attribute def»</text><text fill=\"#000000\" font-family=\"sans-serif\" font-size=\"12\" lengthAdjust=\"spacingAndGlyphs\" textLength=\"8\" x=\"299\" y=\"71.1074\">B</text><line style=\"stroke: #383838; stroke-width: 1.5;\" x1=\"256.5\" x2=\"349.5\" y1=\"78.9375\" y2=\"78.9375\"/></a><!--MD5=[270fce915f116d4de14055a7c1d9a0f3]\n",
       "class E5--><a href=\"psysml:58826ca2-a740-4eaa-a71e-521b590388a3\" target=\"_top\" title=\"psysml:58826ca2-a740-4eaa-a71e-521b590388a3\" xlink:actuate=\"onRequest\" xlink:href=\"psysml:58826ca2-a740-4eaa-a71e-521b590388a3\" xlink:show=\"new\" xlink:title=\"psysml:58826ca2-a740-4eaa-a71e-521b590388a3\" xlink:type=\"simple\"><rect fill=\"#FFFFFF\" height=\"45.9375\" id=\"E5\" style=\"stroke: #383838; stroke-width: 1.5;\" width=\"66\" x=\"315\" y=\"155\"/><text fill=\"#000000\" font-family=\"sans-serif\" font-size=\"12\" font-style=\"italic\" lengthAdjust=\"spacingAndGlyphs\" textLength=\"64\" x=\"316\" y=\"171.1387\">«part def»</text><text fill=\"#000000\" font-family=\"sans-serif\" font-size=\"12\" lengthAdjust=\"spacingAndGlyphs\" textLength=\"8\" x=\"344\" y=\"185.1074\">V</text><line style=\"stroke: #383838; stroke-width: 1.5;\" x1=\"316\" x2=\"380\" y1=\"192.9375\" y2=\"192.9375\"/></a><!--MD5=[60a26617385b1d2d0262a64233df1f8d]\n",
       "class E6--><a href=\"psysml:c2df0e2e-5a66-4a2b-abfc-b3b4dd7dd2c5\" target=\"_top\" title=\"psysml:c2df0e2e-5a66-4a2b-abfc-b3b4dd7dd2c5\" xlink:actuate=\"onRequest\" xlink:href=\"psysml:c2df0e2e-5a66-4a2b-abfc-b3b4dd7dd2c5\" xlink:show=\"new\" xlink:title=\"psysml:c2df0e2e-5a66-4a2b-abfc-b3b4dd7dd2c5\" xlink:type=\"simple\"><rect fill=\"#FFFFFF\" height=\"88.3516\" id=\"E6\" rx=\"10\" ry=\"10\" style=\"stroke: #383838; stroke-width: 1.5;\" width=\"63\" x=\"287.5\" y=\"285\"/><text fill=\"#000000\" font-family=\"sans-serif\" font-size=\"12\" font-style=\"italic\" lengthAdjust=\"spacingAndGlyphs\" textLength=\"40\" x=\"299\" y=\"301.1387\">«part»</text><text fill=\"#000000\" font-family=\"sans-serif\" font-size=\"12\" lengthAdjust=\"spacingAndGlyphs\" textLength=\"23\" x=\"307.5\" y=\"315.1074\">x: Q</text><line style=\"stroke: #383838; stroke-width: 1.5;\" x1=\"288.5\" x2=\"349.5\" y1=\"322.9375\" y2=\"322.9375\"/><text fill=\"#000000\" font-family=\"sans-serif\" font-size=\"11\" lengthAdjust=\"spacingAndGlyphs\" textLength=\"23\" x=\"293.5\" y=\"353.9526\">b: B</text><text fill=\"#000000\" font-family=\"sans-serif\" font-size=\"11\" font-style=\"italic\" lengthAdjust=\"spacingAndGlyphs\" textLength=\"44\" x=\"293.5\" y=\"366.7573\">:&gt;&gt;P::a</text><line style=\"stroke: #383838; stroke-width: 1.0;\" x1=\"288.5\" x2=\"291.5\" y1=\"337.3398\" y2=\"337.3398\"/><text fill=\"#000000\" font-family=\"sans-serif\" font-size=\"11\" lengthAdjust=\"spacingAndGlyphs\" textLength=\"55\" x=\"291.5\" y=\"340.6479\">attributes</text><line style=\"stroke: #383838; stroke-width: 1.0;\" x1=\"346.5\" x2=\"349.5\" y1=\"337.3398\" y2=\"337.3398\"/></a><!--MD5=[2156ba9850f5573cc1fc38a6a4b2f02b]\n",
       "class E7--><a href=\"psysml:d5aa7800-4c4d-4a74-9f82-8c5d7377a367\" target=\"_top\" title=\"psysml:d5aa7800-4c4d-4a74-9f82-8c5d7377a367\" xlink:actuate=\"onRequest\" xlink:href=\"psysml:d5aa7800-4c4d-4a74-9f82-8c5d7377a367\" xlink:show=\"new\" xlink:title=\"psysml:d5aa7800-4c4d-4a74-9f82-8c5d7377a367\" xlink:type=\"simple\"><rect fill=\"#FFFFFF\" height=\"45.9375\" id=\"E7\" rx=\"10\" ry=\"10\" style=\"stroke: #383838; stroke-width: 1.5;\" width=\"42\" x=\"149\" y=\"41\"/><text fill=\"#000000\" font-family=\"sans-serif\" font-size=\"12\" font-style=\"italic\" lengthAdjust=\"spacingAndGlyphs\" textLength=\"40\" x=\"150\" y=\"57.1387\">«part»</text><text fill=\"#000000\" font-family=\"sans-serif\" font-size=\"12\" lengthAdjust=\"spacingAndGlyphs\" textLength=\"25\" x=\"157.5\" y=\"71.1074\">q: Q</text><line style=\"stroke: #383838; stroke-width: 1.5;\" x1=\"150\" x2=\"190\" y1=\"78.9375\" y2=\"78.9375\"/></a><!--MD5=[b9389687b975829384b498ac4b7476b2]\n",
       "class E8--><a href=\"psysml:d7b3804f-80e3-4381-979e-bf8e2501fba8\" target=\"_top\" title=\"psysml:d7b3804f-80e3-4381-979e-bf8e2501fba8\" xlink:actuate=\"onRequest\" xlink:href=\"psysml:d7b3804f-80e3-4381-979e-bf8e2501fba8\" xlink:show=\"new\" xlink:title=\"psysml:d7b3804f-80e3-4381-979e-bf8e2501fba8\" xlink:type=\"simple\"><rect fill=\"#FFFFFF\" height=\"59.9063\" id=\"E8\" rx=\"10\" ry=\"10\" style=\"stroke: #383838; stroke-width: 1.5;\" width=\"70\" x=\"32\" y=\"148\"/><text fill=\"#000000\" font-family=\"sans-serif\" font-size=\"12\" font-style=\"italic\" lengthAdjust=\"spacingAndGlyphs\" textLength=\"68\" x=\"33\" y=\"164.1387\">«variation»</text><text fill=\"#000000\" font-family=\"sans-serif\" font-size=\"12\" font-style=\"italic\" lengthAdjust=\"spacingAndGlyphs\" textLength=\"40\" x=\"47\" y=\"178.1074\">«part»</text><text fill=\"#000000\" font-family=\"sans-serif\" font-size=\"12\" lengthAdjust=\"spacingAndGlyphs\" textLength=\"22\" x=\"56\" y=\"192.0762\">v: P</text><line style=\"stroke: #383838; stroke-width: 1.5;\" x1=\"33\" x2=\"101\" y1=\"199.9063\" y2=\"199.9063\"/></a><!--MD5=[fd4143e9d270a159db93a4ea2a975926]\n",
       "class E9--><a href=\"psysml:aeeab6cc-3339-44ed-a45c-f65a5d97c376\" target=\"_top\" title=\"psysml:aeeab6cc-3339-44ed-a45c-f65a5d97c376\" xlink:actuate=\"onRequest\" xlink:href=\"psysml:aeeab6cc-3339-44ed-a45c-f65a5d97c376\" xlink:show=\"new\" xlink:title=\"psysml:aeeab6cc-3339-44ed-a45c-f65a5d97c376\" xlink:type=\"simple\"><rect fill=\"#FFFFFF\" height=\"88.3516\" id=\"E9\" rx=\"10\" ry=\"10\" style=\"stroke: #383838; stroke-width: 1.5;\" width=\"77\" x=\"32.5\" y=\"285\"/><text fill=\"#000000\" font-family=\"sans-serif\" font-size=\"12\" font-style=\"italic\" lengthAdjust=\"spacingAndGlyphs\" textLength=\"75\" x=\"33.5\" y=\"301.1387\">«reference»</text><text fill=\"#000000\" font-family=\"sans-serif\" font-size=\"12\" lengthAdjust=\"spacingAndGlyphs\" textLength=\"8\" x=\"67\" y=\"315.1074\">q</text><line style=\"stroke: #383838; stroke-width: 1.5;\" x1=\"33.5\" x2=\"108.5\" y1=\"322.9375\" y2=\"322.9375\"/><text fill=\"#000000\" font-family=\"sans-serif\" font-size=\"11\" lengthAdjust=\"spacingAndGlyphs\" textLength=\"23\" x=\"38.5\" y=\"353.9526\">b: B</text><text fill=\"#000000\" font-family=\"sans-serif\" font-size=\"11\" font-style=\"italic\" lengthAdjust=\"spacingAndGlyphs\" textLength=\"44\" x=\"38.5\" y=\"366.7573\">:&gt;&gt;P::a</text><line style=\"stroke: #383838; stroke-width: 1.0;\" x1=\"33.5\" x2=\"43.5\" y1=\"337.3398\" y2=\"337.3398\"/><text fill=\"#000000\" font-family=\"sans-serif\" font-size=\"11\" lengthAdjust=\"spacingAndGlyphs\" textLength=\"55\" x=\"43.5\" y=\"340.6479\">attributes</text><line style=\"stroke: #383838; stroke-width: 1.0;\" x1=\"98.5\" x2=\"108.5\" y1=\"337.3398\" y2=\"337.3398\"/></a><!--MD5=[96f4274e9e20536e775497830990834d]\n",
       "class E10--><a href=\"psysml:fe63b1e8-840a-4f2e-b06a-2ce986f19d03\" target=\"_top\" title=\"psysml:fe63b1e8-840a-4f2e-b06a-2ce986f19d03\" xlink:actuate=\"onRequest\" xlink:href=\"psysml:fe63b1e8-840a-4f2e-b06a-2ce986f19d03\" xlink:show=\"new\" xlink:title=\"psysml:fe63b1e8-840a-4f2e-b06a-2ce986f19d03\" xlink:type=\"simple\"><rect fill=\"#FFFFFF\" height=\"45.9375\" id=\"E10\" rx=\"10\" ry=\"10\" style=\"stroke: #383838; stroke-width: 1.5;\" width=\"42\" x=\"238\" y=\"155\"/><text fill=\"#000000\" font-family=\"sans-serif\" font-size=\"12\" font-style=\"italic\" lengthAdjust=\"spacingAndGlyphs\" textLength=\"40\" x=\"239\" y=\"171.1387\">«part»</text><text fill=\"#000000\" font-family=\"sans-serif\" font-size=\"12\" lengthAdjust=\"spacingAndGlyphs\" textLength=\"22\" x=\"248\" y=\"185.1074\">y: P</text><line style=\"stroke: #383838; stroke-width: 1.5;\" x1=\"239\" x2=\"279\" y1=\"192.9375\" y2=\"192.9375\"/></a><!--MD5=[05d275557350bfb9b23a4ef7222b4c39]\n",
       "link E3 to E2--><a href=\"psysml:6495a820-e8c0-4129-af26-6722c3b7b9e6\" target=\"_top\" title=\"psysml:6495a820-e8c0-4129-af26-6722c3b7b9e6\" xlink:actuate=\"onRequest\" xlink:href=\"psysml:6495a820-e8c0-4129-af26-6722c3b7b9e6\" xlink:show=\"new\" xlink:title=\"psysml:6495a820-e8c0-4129-af26-6722c3b7b9e6\" xlink:type=\"simple\"><path d=\"M174.34,201.31 C177.92,219.67 183.15,246.54 187.87,270.81 \" fill=\"none\" id=\"E3-&gt;E2\" style=\"stroke: #383838; stroke-width: 1.0;\"/><polygon fill=\"none\" points=\"194.8,269.8,191.75,290.77,181.06,272.47,194.8,269.8\" style=\"stroke: #383838; stroke-width: 1.0;\"/></a><!--MD5=[15ebcb19ae302d9b601edb458606d402]\n",
       "link E5 to E2--><a href=\"psysml:bd00e4e7-d183-497a-b9f8-56660fc51e3e\" target=\"_top\" title=\"psysml:bd00e4e7-d183-497a-b9f8-56660fc51e3e\" xlink:actuate=\"onRequest\" xlink:href=\"psysml:bd00e4e7-d183-497a-b9f8-56660fc51e3e\" xlink:show=\"new\" xlink:title=\"psysml:bd00e4e7-d183-497a-b9f8-56660fc51e3e\" xlink:type=\"simple\"><path d=\"M325.69,201.31 C304.9,222.1 273.2,253.8 246.71,280.29 \" fill=\"none\" id=\"E5-&gt;E2\" style=\"stroke: #383838; stroke-width: 1.0;\"/><polygon fill=\"none\" points=\"251.33,285.57,232.24,294.76,241.43,275.67,251.33,285.57\" style=\"stroke: #383838; stroke-width: 1.0;\"/></a><!--MD5=[9120cf2e5df3bff93db8f754bbbc09b4]\n",
       "link E5 to E6--><a href=\"psysml:3ec706da-d65f-4ef5-8a1f-1e1b5df7e7c6\" target=\"_top\" title=\"psysml:3ec706da-d65f-4ef5-8a1f-1e1b5df7e7c6\" xlink:actuate=\"onRequest\" xlink:href=\"psysml:3ec706da-d65f-4ef5-8a1f-1e1b5df7e7c6\" xlink:show=\"new\" xlink:title=\"psysml:3ec706da-d65f-4ef5-8a1f-1e1b5df7e7c6\" xlink:type=\"simple\"><path d=\"M341.72,211.26 C338.1,229.85 333.47,253.68 329.32,274.95 \" fill=\"none\" id=\"E5-E6\" style=\"stroke: #383838; stroke-width: 1.0;\"/><polygon fill=\"#383838\" points=\"327.4,284.84,331.8761,277.5623,325.987,276.4136,327.4,284.84\" style=\"stroke: #383838; stroke-width: 1.0;\"/><path d=\"M334.7699,202.7122 A9,9 0 0 0 351.3715 205.9503\" fill=\"none\" style=\"stroke: #383838; stroke-width: 1.5;\"/><text fill=\"#000000\" font-family=\"sans-serif\" font-size=\"13\" lengthAdjust=\"spacingAndGlyphs\" textLength=\"60\" x=\"337\" y=\"251.0669\">«variant»</text></a><!--MD5=[14ccda38c055a5c0da953d572bc50960]\n",
       "link E7 to E3--><a href=\"psysml:9cf32953-475b-4011-b1f8-e7f09d5ce449\" target=\"_top\" title=\"psysml:9cf32953-475b-4011-b1f8-e7f09d5ce449\" xlink:actuate=\"onRequest\" xlink:href=\"psysml:9cf32953-475b-4011-b1f8-e7f09d5ce449\" xlink:show=\"new\" xlink:title=\"psysml:9cf32953-475b-4011-b1f8-e7f09d5ce449\" xlink:type=\"simple\"><path d=\"M170,87.13 C170,100.7 170,118.53 170,134.73 \" fill=\"none\" id=\"E7-&gt;E3\" style=\"stroke: #383838; stroke-width: 1.0;\"/><polygon fill=\"#FFFFFF\" points=\"170,154.92,163,135.92,177,135.92,170,154.92\" style=\"stroke: #383838; stroke-width: 1.0;\"/><ellipse cx=\"165\" cy=\"130.22\" fill=\"#383838\" rx=\"2\" ry=\"2\" style=\"stroke: #383838; stroke-width: 1.0;\"/><ellipse cx=\"175\" cy=\"130.22\" fill=\"#383838\" rx=\"2\" ry=\"2\" style=\"stroke: #383838; stroke-width: 1.0;\"/></a><!--MD5=[f1f3f9f2fc535e6147756cb86a7f2e32]\n",
       "link E8 to E2--><a href=\"psysml:d1a9bfbc-b159-49c1-a5ca-956a4881ee49\" target=\"_top\" title=\"psysml:d1a9bfbc-b159-49c1-a5ca-956a4881ee49\" xlink:actuate=\"onRequest\" xlink:href=\"psysml:d1a9bfbc-b159-49c1-a5ca-956a4881ee49\" xlink:show=\"new\" xlink:title=\"psysml:d1a9bfbc-b159-49c1-a5ca-956a4881ee49\" xlink:type=\"simple\"><path d=\"M102.16,207.81 C120.43,222.79 139,238 139,238 C139,238 150.31,254.97 163.11,274.17 \" fill=\"none\" id=\"E8-&gt;E2\" style=\"stroke: #383838; stroke-width: 1.0;\"/><polygon fill=\"#FFFFFF\" points=\"174.25,290.87,157.884,278.9472,169.5311,271.1791,174.25,290.87\" style=\"stroke: #383838; stroke-width: 1.0;\"/><ellipse cx=\"156.3851\" cy=\"273.0954\" fill=\"#383838\" rx=\"2\" ry=\"2\" style=\"stroke: #383838; stroke-width: 1.0;\"/><ellipse cx=\"164.7045\" cy=\"267.5467\" fill=\"#383838\" rx=\"2\" ry=\"2\" style=\"stroke: #383838; stroke-width: 1.0;\"/></a><!--MD5=[ed10624c06dd9a4fa49ccf290e8b16a8]\n",
       "link E8 to E9--><a href=\"psysml:4574f674-7c12-4143-bfb7-6a6844a72e64\" target=\"_top\" title=\"psysml:4574f674-7c12-4143-bfb7-6a6844a72e64\" xlink:actuate=\"onRequest\" xlink:href=\"psysml:4574f674-7c12-4143-bfb7-6a6844a72e64\" xlink:show=\"new\" xlink:title=\"psysml:4574f674-7c12-4143-bfb7-6a6844a72e64\" xlink:type=\"simple\"><path d=\"M68.06,218.32 C68.52,235.6 69.07,256.15 69.57,274.77 \" fill=\"none\" id=\"E8-E9\" style=\"stroke: #383838; stroke-width: 1.0;\"/><polygon fill=\"#383838\" points=\"69.84,284.88,72.6331,276.8054,66.6351,276.9599,69.84,284.88\" style=\"stroke: #383838; stroke-width: 1.0;\"/><path d=\"M59.4094,211.3865 A9,9 0 0 0 76.3176 210.9276\" fill=\"none\" style=\"stroke: #383838; stroke-width: 1.5;\"/><text fill=\"#000000\" font-family=\"sans-serif\" font-size=\"13\" lengthAdjust=\"spacingAndGlyphs\" textLength=\"60\" x=\"70\" y=\"251.0669\">«variant»</text></a><!--MD5=[0f36bececdf0dff6e600d6f64214b0f1]\n",
       "link E10 to E2--><a href=\"psysml:bd829215-07d4-45cb-8fe9-60748d4dd682\" target=\"_top\" title=\"psysml:bd829215-07d4-45cb-8fe9-60748d4dd682\" xlink:actuate=\"onRequest\" xlink:href=\"psysml:bd829215-07d4-45cb-8fe9-60748d4dd682\" xlink:show=\"new\" xlink:title=\"psysml:bd829215-07d4-45cb-8fe9-60748d4dd682\" xlink:type=\"simple\"><path d=\"M250.02,201.31 C242.51,219.95 231.48,247.35 221.59,271.91 \" fill=\"none\" id=\"E10-&gt;E2\" style=\"stroke: #383838; stroke-width: 1.0;\"/><polygon fill=\"#FFFFFF\" points=\"213.99,290.77,214.5927,270.5305,227.5796,275.7593,213.99,290.77\" style=\"stroke: #383838; stroke-width: 1.0;\"/><ellipse cx=\"218.5768\" cy=\"265.9899\" fill=\"#383838\" rx=\"2\" ry=\"2\" style=\"stroke: #383838; stroke-width: 1.0;\"/><ellipse cx=\"227.8532\" cy=\"269.7248\" fill=\"#383838\" rx=\"2\" ry=\"2\" style=\"stroke: #383838; stroke-width: 1.0;\"/></a><!--MD5=[1e35f64115f8c4a5dba68934619851e9]\n",
       "@startuml\r\n",
       "skinparam linetype polyline\r\n",
       "skinparam monochrome true\r\n",
       "skinparam classbackgroundcolor white\r\n",
       "skinparam shadowing false\r\n",
       "skinparam wrapWidth 300\r\n",
       "hide circle\r\n",
       "\r\n",
       "package \"VariabilityTest\" as E1  [[psysml:6e13bc12-600f-4176-9ee3-c77c18f0da6f ]]  {\r\n",
       "comp def \"P\" as E2  <<(T,blue) part def>> [[psysml:a47e4883-53c6-48e5-9729-358fb18738b5 ]] {\r\n",
       "- - attributes - -\r\n",
       "a\r\n",
       "}\r\n",
       "comp def \"Q\" as E3  <<(T,blue) part def>> [[psysml:64152dcd-188c-4285-9d2f-82b4222731ff ]] {\r\n",
       "}\r\n",
       "comp def \"B\" as E4  <<(T,blue) attribute def>> [[psysml:6204c3f0-143a-45cc-ac58-9ea86a3a8ea6 ]] {\r\n",
       "}\r\n",
       "comp def \"V\" as E5  <<(T,blue) part def>> [[psysml:58826ca2-a740-4eaa-a71e-521b590388a3 ]] {\r\n",
       "}\r\n",
       "comp usage \"x: Q\" as E6  <<(T,blue) part>> [[psysml:c2df0e2e-5a66-4a2b-abfc-b3b4dd7dd2c5 ]] {\r\n",
       "- - attributes - -\r\n",
       "b: B\\n//:>>P::a// \r\n",
       "}\r\n",
       "comp usage \"q: Q\" as E7  <<(T,blue) part>> [[psysml:d5aa7800-4c4d-4a74-9f82-8c5d7377a367 ]] {\r\n",
       "}\r\n",
       "comp usage \"v: P\" as E8  <<variation>>\\n <<(T,blue) part>> [[psysml:d7b3804f-80e3-4381-979e-bf8e2501fba8 ]] {\r\n",
       "}\r\n",
       "comp usage \"q\" as E9  <<(T,blue) reference>> [[psysml:aeeab6cc-3339-44ed-a45c-f65a5d97c376 ]] {\r\n",
       "- - attributes - -\r\n",
       "b: B\\n//:>>P::a// \r\n",
       "}\r\n",
       "comp usage \"y: P\" as E10  <<(T,blue) part>> [[psysml:fe63b1e8-840a-4f2e-b06a-2ce986f19d03 ]] {\r\n",
       "}\r\n",
       "E3 - -|> E2 [[psysml:6495a820-e8c0-4129-af26-6722c3b7b9e6 ]] \r\n",
       "E5 - -|> E2 [[psysml:bd00e4e7-d183-497a-b9f8-56660fc51e3e ]] \r\n",
       "E5 )- ->> E6 [[psysml:3ec706da-d65f-4ef5-8a1f-1e1b5df7e7c6 ]] : <<variant>>\r\n",
       "E7 - -:|> E3 [[psysml:9cf32953-475b-4011-b1f8-e7f09d5ce449 ]] \r\n",
       "E8 - -:|> E2 [[psysml:d1a9bfbc-b159-49c1-a5ca-956a4881ee49 ]] \r\n",
       "E8 )- ->> E9 [[psysml:4574f674-7c12-4143-bfb7-6a6844a72e64 ]] : <<variant>>\r\n",
       "E10 - -:|> E2 [[psysml:bd829215-07d4-45cb-8fe9-60748d4dd682 ]] \r\n",
       "}\r\n",
       "@enduml\r\n",
       "\n",
       "PlantUML version 1.2020.13(Sat Jun 13 12:26:38 UTC 2020)\n",
       "(EPL source distribution)\n",
       "Java Runtime: OpenJDK Runtime Environment\n",
       "JVM: OpenJDK 64-Bit Server VM\n",
       "Default Encoding: UTF-8\n",
       "Language: en\n",
       "Country: null\n",
       "--></g></svg>"
      ]
     },
     "execution_count": 15,
     "metadata": {},
     "output_type": "execute_result"
    }
   ],
   "source": [
    "%viz --style=\"POLYLINE\" --view=\"MIXED\" \"VariabilityTest\""
   ]
  },
  {
   "cell_type": "code",
   "execution_count": 16,
   "id": "532995ab",
   "metadata": {
    "execution": {
     "iopub.execute_input": "2021-08-04T06:26:49.091673Z",
     "iopub.status.busy": "2021-08-04T06:26:49.091148Z",
     "iopub.status.idle": "2021-08-04T06:26:49.143635Z",
     "shell.execute_reply": "2021-08-04T06:26:49.143412Z"
    }
   },
   "outputs": [
    {
     "data": {
      "image/svg+xml": [
       "<?xml version=\"1.0\" encoding=\"UTF-8\" standalone=\"no\"?><svg xmlns=\"http://www.w3.org/2000/svg\" xmlns:xlink=\"http://www.w3.org/1999/xlink\" contentScriptType=\"application/ecmascript\" contentStyleType=\"text/css\" height=\"391px\" preserveAspectRatio=\"none\" style=\"width:495px;height:391px;\" version=\"1.1\" viewBox=\"0 0 495 391\" width=\"495px\" zoomAndPan=\"magnify\"><defs/><g><!--MD5=[fbc87193dbaf4d95561dea2c320d4a47]\n",
       "cluster E1--><a href=\"psysml:6e13bc12-600f-4176-9ee3-c77c18f0da6f\" target=\"_top\" title=\"psysml:6e13bc12-600f-4176-9ee3-c77c18f0da6f\" xlink:actuate=\"onRequest\" xlink:href=\"psysml:6e13bc12-600f-4176-9ee3-c77c18f0da6f\" xlink:show=\"new\" xlink:title=\"psysml:6e13bc12-600f-4176-9ee3-c77c18f0da6f\" xlink:type=\"simple\"><polygon fill=\"#FFFFFF\" points=\"16,6,134,6,141,28.2969,473,28.2969,473,379,16,379,16,6\" style=\"stroke: #000000; stroke-width: 1.5;\"/><line style=\"stroke: #000000; stroke-width: 1.5;\" x1=\"16\" x2=\"141\" y1=\"28.2969\" y2=\"28.2969\"/><text fill=\"#000000\" font-family=\"sans-serif\" font-size=\"14\" font-weight=\"bold\" lengthAdjust=\"spacingAndGlyphs\" textLength=\"112\" x=\"20\" y=\"20.9951\">VariabilityTest</text></a><!--MD5=[b4997ac47864f28c2f74865a473b2911]\n",
       "class E2--><a href=\"psysml:a47e4883-53c6-48e5-9729-358fb18738b5\" target=\"_top\" title=\"psysml:a47e4883-53c6-48e5-9729-358fb18738b5\" xlink:actuate=\"onRequest\" xlink:href=\"psysml:a47e4883-53c6-48e5-9729-358fb18738b5\" xlink:show=\"new\" xlink:title=\"psysml:a47e4883-53c6-48e5-9729-358fb18738b5\" xlink:type=\"simple\"><rect fill=\"#FFFFFF\" height=\"75.5469\" id=\"E2\" style=\"stroke: #383838; stroke-width: 1.5;\" width=\"66\" x=\"385.5\" y=\"164\"/><text fill=\"#000000\" font-family=\"sans-serif\" font-size=\"12\" font-style=\"italic\" lengthAdjust=\"spacingAndGlyphs\" textLength=\"64\" x=\"386.5\" y=\"180.1387\">«part def»</text><text fill=\"#000000\" font-family=\"sans-serif\" font-size=\"12\" lengthAdjust=\"spacingAndGlyphs\" textLength=\"8\" x=\"414.5\" y=\"194.1074\">P</text><line style=\"stroke: #383838; stroke-width: 1.5;\" x1=\"386.5\" x2=\"450.5\" y1=\"201.9375\" y2=\"201.9375\"/><text fill=\"#000000\" font-family=\"sans-serif\" font-size=\"11\" lengthAdjust=\"spacingAndGlyphs\" textLength=\"7\" x=\"391.5\" y=\"232.9526\">a</text><line style=\"stroke: #383838; stroke-width: 1.0;\" x1=\"386.5\" x2=\"391\" y1=\"216.3398\" y2=\"216.3398\"/><text fill=\"#000000\" font-family=\"sans-serif\" font-size=\"11\" lengthAdjust=\"spacingAndGlyphs\" textLength=\"55\" x=\"391\" y=\"219.6479\">attributes</text><line style=\"stroke: #383838; stroke-width: 1.0;\" x1=\"446\" x2=\"450.5\" y1=\"216.3398\" y2=\"216.3398\"/></a><!--MD5=[09b614a08d8cba4a07c9adeb5e0fee81]\n",
       "class E3--><a href=\"psysml:64152dcd-188c-4285-9d2f-82b4222731ff\" target=\"_top\" title=\"psysml:64152dcd-188c-4285-9d2f-82b4222731ff\" xlink:actuate=\"onRequest\" xlink:href=\"psysml:64152dcd-188c-4285-9d2f-82b4222731ff\" xlink:show=\"new\" xlink:title=\"psysml:64152dcd-188c-4285-9d2f-82b4222731ff\" xlink:type=\"simple\"><rect fill=\"#FFFFFF\" height=\"45.9375\" id=\"E3\" style=\"stroke: #383838; stroke-width: 1.5;\" width=\"66\" x=\"190\" y=\"215\"/><text fill=\"#000000\" font-family=\"sans-serif\" font-size=\"12\" font-style=\"italic\" lengthAdjust=\"spacingAndGlyphs\" textLength=\"64\" x=\"191\" y=\"231.1387\">«part def»</text><text fill=\"#000000\" font-family=\"sans-serif\" font-size=\"12\" lengthAdjust=\"spacingAndGlyphs\" textLength=\"9\" x=\"218.5\" y=\"245.1074\">Q</text><line style=\"stroke: #383838; stroke-width: 1.5;\" x1=\"191\" x2=\"255\" y1=\"252.9375\" y2=\"252.9375\"/></a><!--MD5=[ebbe1d658d1005bcc118a6aa81145e00]\n",
       "class E4--><a href=\"psysml:6204c3f0-143a-45cc-ac58-9ea86a3a8ea6\" target=\"_top\" title=\"psysml:6204c3f0-143a-45cc-ac58-9ea86a3a8ea6\" xlink:actuate=\"onRequest\" xlink:href=\"psysml:6204c3f0-143a-45cc-ac58-9ea86a3a8ea6\" xlink:show=\"new\" xlink:title=\"psysml:6204c3f0-143a-45cc-ac58-9ea86a3a8ea6\" xlink:type=\"simple\"><rect fill=\"#FFFFFF\" height=\"45.9375\" id=\"E4\" style=\"stroke: #383838; stroke-width: 1.5;\" width=\"95\" x=\"32\" y=\"84\"/><text fill=\"#000000\" font-family=\"sans-serif\" font-size=\"12\" font-style=\"italic\" lengthAdjust=\"spacingAndGlyphs\" textLength=\"93\" x=\"33\" y=\"100.1387\">«attribute def»</text><text fill=\"#000000\" font-family=\"sans-serif\" font-size=\"12\" lengthAdjust=\"spacingAndGlyphs\" textLength=\"8\" x=\"75.5\" y=\"114.1074\">B</text><line style=\"stroke: #383838; stroke-width: 1.5;\" x1=\"33\" x2=\"126\" y1=\"121.9375\" y2=\"121.9375\"/></a><!--MD5=[270fce915f116d4de14055a7c1d9a0f3]\n",
       "class E5--><a href=\"psysml:58826ca2-a740-4eaa-a71e-521b590388a3\" target=\"_top\" title=\"psysml:58826ca2-a740-4eaa-a71e-521b590388a3\" xlink:actuate=\"onRequest\" xlink:href=\"psysml:58826ca2-a740-4eaa-a71e-521b590388a3\" xlink:show=\"new\" xlink:title=\"psysml:58826ca2-a740-4eaa-a71e-521b590388a3\" xlink:type=\"simple\"><rect fill=\"#FFFFFF\" height=\"45.9375\" id=\"E5\" style=\"stroke: #383838; stroke-width: 1.5;\" width=\"66\" x=\"190\" y=\"53\"/><text fill=\"#000000\" font-family=\"sans-serif\" font-size=\"12\" font-style=\"italic\" lengthAdjust=\"spacingAndGlyphs\" textLength=\"64\" x=\"191\" y=\"69.1387\">«part def»</text><text fill=\"#000000\" font-family=\"sans-serif\" font-size=\"12\" lengthAdjust=\"spacingAndGlyphs\" textLength=\"8\" x=\"219\" y=\"83.1074\">V</text><line style=\"stroke: #383838; stroke-width: 1.5;\" x1=\"191\" x2=\"255\" y1=\"90.9375\" y2=\"90.9375\"/></a><!--MD5=[60a26617385b1d2d0262a64233df1f8d]\n",
       "class E6--><a href=\"psysml:c2df0e2e-5a66-4a2b-abfc-b3b4dd7dd2c5\" target=\"_top\" title=\"psysml:c2df0e2e-5a66-4a2b-abfc-b3b4dd7dd2c5\" xlink:actuate=\"onRequest\" xlink:href=\"psysml:c2df0e2e-5a66-4a2b-abfc-b3b4dd7dd2c5\" xlink:show=\"new\" xlink:title=\"psysml:c2df0e2e-5a66-4a2b-abfc-b3b4dd7dd2c5\" xlink:type=\"simple\"><rect fill=\"#FFFFFF\" height=\"88.3516\" id=\"E6\" rx=\"10\" ry=\"10\" style=\"stroke: #383838; stroke-width: 1.5;\" width=\"63\" x=\"387\" y=\"41\"/><text fill=\"#000000\" font-family=\"sans-serif\" font-size=\"12\" font-style=\"italic\" lengthAdjust=\"spacingAndGlyphs\" textLength=\"40\" x=\"398.5\" y=\"57.1387\">«part»</text><text fill=\"#000000\" font-family=\"sans-serif\" font-size=\"12\" lengthAdjust=\"spacingAndGlyphs\" textLength=\"23\" x=\"407\" y=\"71.1074\">x: Q</text><line style=\"stroke: #383838; stroke-width: 1.5;\" x1=\"388\" x2=\"449\" y1=\"78.9375\" y2=\"78.9375\"/><text fill=\"#000000\" font-family=\"sans-serif\" font-size=\"11\" lengthAdjust=\"spacingAndGlyphs\" textLength=\"23\" x=\"393\" y=\"109.9526\">b: B</text><text fill=\"#000000\" font-family=\"sans-serif\" font-size=\"11\" font-style=\"italic\" lengthAdjust=\"spacingAndGlyphs\" textLength=\"44\" x=\"393\" y=\"122.7573\">:&gt;&gt;P::a</text><line style=\"stroke: #383838; stroke-width: 1.0;\" x1=\"388\" x2=\"391\" y1=\"93.3398\" y2=\"93.3398\"/><text fill=\"#000000\" font-family=\"sans-serif\" font-size=\"11\" lengthAdjust=\"spacingAndGlyphs\" textLength=\"55\" x=\"391\" y=\"96.6479\">attributes</text><line style=\"stroke: #383838; stroke-width: 1.0;\" x1=\"446\" x2=\"449\" y1=\"93.3398\" y2=\"93.3398\"/></a><!--MD5=[2156ba9850f5573cc1fc38a6a4b2f02b]\n",
       "class E7--><a href=\"psysml:d5aa7800-4c4d-4a74-9f82-8c5d7377a367\" target=\"_top\" title=\"psysml:d5aa7800-4c4d-4a74-9f82-8c5d7377a367\" xlink:actuate=\"onRequest\" xlink:href=\"psysml:d5aa7800-4c4d-4a74-9f82-8c5d7377a367\" xlink:show=\"new\" xlink:title=\"psysml:d5aa7800-4c4d-4a74-9f82-8c5d7377a367\" xlink:type=\"simple\"><rect fill=\"#FFFFFF\" height=\"45.9375\" id=\"E7\" rx=\"10\" ry=\"10\" style=\"stroke: #383838; stroke-width: 1.5;\" width=\"42\" x=\"58.5\" y=\"215\"/><text fill=\"#000000\" font-family=\"sans-serif\" font-size=\"12\" font-style=\"italic\" lengthAdjust=\"spacingAndGlyphs\" textLength=\"40\" x=\"59.5\" y=\"231.1387\">«part»</text><text fill=\"#000000\" font-family=\"sans-serif\" font-size=\"12\" lengthAdjust=\"spacingAndGlyphs\" textLength=\"25\" x=\"67\" y=\"245.1074\">q: Q</text><line style=\"stroke: #383838; stroke-width: 1.5;\" x1=\"59.5\" x2=\"99.5\" y1=\"252.9375\" y2=\"252.9375\"/></a><!--MD5=[b9389687b975829384b498ac4b7476b2]\n",
       "class E8--><a href=\"psysml:d7b3804f-80e3-4381-979e-bf8e2501fba8\" target=\"_top\" title=\"psysml:d7b3804f-80e3-4381-979e-bf8e2501fba8\" xlink:actuate=\"onRequest\" xlink:href=\"psysml:d7b3804f-80e3-4381-979e-bf8e2501fba8\" xlink:show=\"new\" xlink:title=\"psysml:d7b3804f-80e3-4381-979e-bf8e2501fba8\" xlink:type=\"simple\"><rect fill=\"#FFFFFF\" height=\"59.9063\" id=\"E8\" rx=\"10\" ry=\"10\" style=\"stroke: #383838; stroke-width: 1.5;\" width=\"70\" x=\"188\" y=\"296\"/><text fill=\"#000000\" font-family=\"sans-serif\" font-size=\"12\" font-style=\"italic\" lengthAdjust=\"spacingAndGlyphs\" textLength=\"68\" x=\"189\" y=\"312.1387\">«variation»</text><text fill=\"#000000\" font-family=\"sans-serif\" font-size=\"12\" font-style=\"italic\" lengthAdjust=\"spacingAndGlyphs\" textLength=\"40\" x=\"203\" y=\"326.1074\">«part»</text><text fill=\"#000000\" font-family=\"sans-serif\" font-size=\"12\" lengthAdjust=\"spacingAndGlyphs\" textLength=\"22\" x=\"212\" y=\"340.0762\">v: P</text><line style=\"stroke: #383838; stroke-width: 1.5;\" x1=\"189\" x2=\"257\" y1=\"347.9063\" y2=\"347.9063\"/></a><!--MD5=[fd4143e9d270a159db93a4ea2a975926]\n",
       "class E9--><a href=\"psysml:aeeab6cc-3339-44ed-a45c-f65a5d97c376\" target=\"_top\" title=\"psysml:aeeab6cc-3339-44ed-a45c-f65a5d97c376\" xlink:actuate=\"onRequest\" xlink:href=\"psysml:aeeab6cc-3339-44ed-a45c-f65a5d97c376\" xlink:show=\"new\" xlink:title=\"psysml:aeeab6cc-3339-44ed-a45c-f65a5d97c376\" xlink:type=\"simple\"><rect fill=\"#FFFFFF\" height=\"88.3516\" id=\"E9\" rx=\"10\" ry=\"10\" style=\"stroke: #383838; stroke-width: 1.5;\" width=\"77\" x=\"380\" y=\"275\"/><text fill=\"#000000\" font-family=\"sans-serif\" font-size=\"12\" font-style=\"italic\" lengthAdjust=\"spacingAndGlyphs\" textLength=\"75\" x=\"381\" y=\"291.1387\">«reference»</text><text fill=\"#000000\" font-family=\"sans-serif\" font-size=\"12\" lengthAdjust=\"spacingAndGlyphs\" textLength=\"8\" x=\"414.5\" y=\"305.1074\">q</text><line style=\"stroke: #383838; stroke-width: 1.5;\" x1=\"381\" x2=\"456\" y1=\"312.9375\" y2=\"312.9375\"/><text fill=\"#000000\" font-family=\"sans-serif\" font-size=\"11\" lengthAdjust=\"spacingAndGlyphs\" textLength=\"23\" x=\"386\" y=\"343.9526\">b: B</text><text fill=\"#000000\" font-family=\"sans-serif\" font-size=\"11\" font-style=\"italic\" lengthAdjust=\"spacingAndGlyphs\" textLength=\"44\" x=\"386\" y=\"356.7573\">:&gt;&gt;P::a</text><line style=\"stroke: #383838; stroke-width: 1.0;\" x1=\"381\" x2=\"391\" y1=\"327.3398\" y2=\"327.3398\"/><text fill=\"#000000\" font-family=\"sans-serif\" font-size=\"11\" lengthAdjust=\"spacingAndGlyphs\" textLength=\"55\" x=\"391\" y=\"330.6479\">attributes</text><line style=\"stroke: #383838; stroke-width: 1.0;\" x1=\"446\" x2=\"456\" y1=\"327.3398\" y2=\"327.3398\"/></a><!--MD5=[96f4274e9e20536e775497830990834d]\n",
       "class E10--><a href=\"psysml:fe63b1e8-840a-4f2e-b06a-2ce986f19d03\" target=\"_top\" title=\"psysml:fe63b1e8-840a-4f2e-b06a-2ce986f19d03\" xlink:actuate=\"onRequest\" xlink:href=\"psysml:fe63b1e8-840a-4f2e-b06a-2ce986f19d03\" xlink:show=\"new\" xlink:title=\"psysml:fe63b1e8-840a-4f2e-b06a-2ce986f19d03\" xlink:type=\"simple\"><rect fill=\"#FFFFFF\" height=\"45.9375\" id=\"E10\" rx=\"10\" ry=\"10\" style=\"stroke: #383838; stroke-width: 1.5;\" width=\"42\" x=\"202\" y=\"134\"/><text fill=\"#000000\" font-family=\"sans-serif\" font-size=\"12\" font-style=\"italic\" lengthAdjust=\"spacingAndGlyphs\" textLength=\"40\" x=\"203\" y=\"150.1387\">«part»</text><text fill=\"#000000\" font-family=\"sans-serif\" font-size=\"12\" lengthAdjust=\"spacingAndGlyphs\" textLength=\"22\" x=\"212\" y=\"164.1074\">y: P</text><line style=\"stroke: #383838; stroke-width: 1.5;\" x1=\"203\" x2=\"243\" y1=\"171.9375\" y2=\"171.9375\"/></a><!--MD5=[05d275557350bfb9b23a4ef7222b4c39]\n",
       "link E3 to E2--><a href=\"psysml:6495a820-e8c0-4129-af26-6722c3b7b9e6\" target=\"_top\" title=\"psysml:6495a820-e8c0-4129-af26-6722c3b7b9e6\" xlink:actuate=\"onRequest\" xlink:href=\"psysml:6495a820-e8c0-4129-af26-6722c3b7b9e6\" xlink:show=\"new\" xlink:title=\"psysml:6495a820-e8c0-4129-af26-6722c3b7b9e6\" xlink:type=\"simple\"><path d=\"M256.39,231.97 C286.06,226.45 330.5,218.19 365.2,211.73 \" fill=\"none\" id=\"E3-&gt;E2\" style=\"stroke: #383838; stroke-width: 1.0;\"/><polygon fill=\"none\" points=\"364.39,204.76,385.33,207.99,366.95,218.53,364.39,204.76\" style=\"stroke: #383838; stroke-width: 1.0;\"/></a><!--MD5=[15ebcb19ae302d9b601edb458606d402]\n",
       "link E5 to E2--><a href=\"psysml:bd00e4e7-d183-497a-b9f8-56660fc51e3e\" target=\"_top\" title=\"psysml:bd00e4e7-d183-497a-b9f8-56660fc51e3e\" xlink:actuate=\"onRequest\" xlink:href=\"psysml:bd00e4e7-d183-497a-b9f8-56660fc51e3e\" xlink:show=\"new\" xlink:title=\"psysml:bd00e4e7-d183-497a-b9f8-56660fc51e3e\" xlink:type=\"simple\"><path d=\"M256.39,97.09 C286.9,116.96 333.03,147 368.13,169.85 \" fill=\"none\" id=\"E5-&gt;E2\" style=\"stroke: #383838; stroke-width: 1.0;\"/><polygon fill=\"none\" points=\"372.39,164.27,385.33,181.05,364.75,176,372.39,164.27\" style=\"stroke: #383838; stroke-width: 1.0;\"/></a><!--MD5=[9120cf2e5df3bff93db8f754bbbc09b4]\n",
       "link E5 to E6--><a href=\"psysml:3ec706da-d65f-4ef5-8a1f-1e1b5df7e7c6\" target=\"_top\" title=\"psysml:3ec706da-d65f-4ef5-8a1f-1e1b5df7e7c6\" xlink:actuate=\"onRequest\" xlink:href=\"psysml:3ec706da-d65f-4ef5-8a1f-1e1b5df7e7c6\" xlink:show=\"new\" xlink:title=\"psysml:3ec706da-d65f-4ef5-8a1f-1e1b5df7e7c6\" xlink:type=\"simple\"><path d=\"M266.69,77.99 C299.54,79.51 344.62,81.61 376.92,83.11 \" fill=\"none\" id=\"E5-E6\" style=\"stroke: #383838; stroke-width: 1.0;\"/><polygon fill=\"#383838\" points=\"386.92,83.58,379.0704,80.2061,378.7874,86.1994,386.92,83.58\" style=\"stroke: #383838; stroke-width: 1.0;\"/><path d=\"M259.0665,86.1028 A9,9 0 0 0 259.863 69.2071\" fill=\"none\" style=\"stroke: #383838; stroke-width: 1.5;\"/><text fill=\"#000000\" font-family=\"sans-serif\" font-size=\"13\" lengthAdjust=\"spacingAndGlyphs\" textLength=\"60\" x=\"289\" y=\"76.0669\">«variant»</text></a><!--MD5=[14ccda38c055a5c0da953d572bc50960]\n",
       "link E7 to E3--><a href=\"psysml:9cf32953-475b-4011-b1f8-e7f09d5ce449\" target=\"_top\" title=\"psysml:9cf32953-475b-4011-b1f8-e7f09d5ce449\" xlink:actuate=\"onRequest\" xlink:href=\"psysml:9cf32953-475b-4011-b1f8-e7f09d5ce449\" xlink:show=\"new\" xlink:title=\"psysml:9cf32953-475b-4011-b1f8-e7f09d5ce449\" xlink:type=\"simple\"><path d=\"M100.77,238 C118.65,238 145.5,238 169.39,238 \" fill=\"none\" id=\"E7-&gt;E3\" style=\"stroke: #383838; stroke-width: 1.0;\"/><polygon fill=\"#FFFFFF\" points=\"189.74,238,170.74,245,170.74,231,189.74,238\" style=\"stroke: #383838; stroke-width: 1.0;\"/><ellipse cx=\"165.04\" cy=\"243\" fill=\"#383838\" rx=\"2\" ry=\"2\" style=\"stroke: #383838; stroke-width: 1.0;\"/><ellipse cx=\"165.04\" cy=\"233\" fill=\"#383838\" rx=\"2\" ry=\"2\" style=\"stroke: #383838; stroke-width: 1.0;\"/></a><!--MD5=[f1f3f9f2fc535e6147756cb86a7f2e32]\n",
       "link E8 to E2--><a href=\"psysml:d1a9bfbc-b159-49c1-a5ca-956a4881ee49\" target=\"_top\" title=\"psysml:d1a9bfbc-b159-49c1-a5ca-956a4881ee49\" xlink:actuate=\"onRequest\" xlink:href=\"psysml:d1a9bfbc-b159-49c1-a5ca-956a4881ee49\" xlink:show=\"new\" xlink:title=\"psysml:d1a9bfbc-b159-49c1-a5ca-956a4881ee49\" xlink:type=\"simple\"><path d=\"M258.15,304.12 C288.73,284.52 333.94,255.55 368.39,233.47 \" fill=\"none\" id=\"E8-&gt;E2\" style=\"stroke: #383838; stroke-width: 1.0;\"/><polygon fill=\"#FFFFFF\" points=\"385.3,222.63,373.0842,238.7785,365.5272,226.9932,385.3,222.63\" style=\"stroke: #383838; stroke-width: 1.0;\"/><ellipse cx=\"367.2063\" cy=\"240.1717\" fill=\"#383838\" rx=\"2\" ry=\"2\" style=\"stroke: #383838; stroke-width: 1.0;\"/><ellipse cx=\"361.8085\" cy=\"231.7536\" fill=\"#383838\" rx=\"2\" ry=\"2\" style=\"stroke: #383838; stroke-width: 1.0;\"/></a><!--MD5=[ed10624c06dd9a4fa49ccf290e8b16a8]\n",
       "link E8 to E9--><a href=\"psysml:4574f674-7c12-4143-bfb7-6a6844a72e64\" target=\"_top\" title=\"psysml:4574f674-7c12-4143-bfb7-6a6844a72e64\" xlink:actuate=\"onRequest\" xlink:href=\"psysml:4574f674-7c12-4143-bfb7-6a6844a72e64\" xlink:show=\"new\" xlink:title=\"psysml:4574f674-7c12-4143-bfb7-6a6844a72e64\" xlink:type=\"simple\"><path d=\"M268.18,324.4 C298.44,323.31 338.55,321.86 369.58,320.73 \" fill=\"none\" id=\"E8-E9\" style=\"stroke: #383838; stroke-width: 1.0;\"/><polygon fill=\"#383838\" points=\"379.72,320.37,371.6142,317.669,371.8369,323.6649,379.72,320.37\" style=\"stroke: #383838; stroke-width: 1.0;\"/><path d=\"M261.5285,333.1018 A9,9 0 0 0 260.9239 316.1981\" fill=\"none\" style=\"stroke: #383838; stroke-width: 1.5;\"/><text fill=\"#000000\" font-family=\"sans-serif\" font-size=\"13\" lengthAdjust=\"spacingAndGlyphs\" textLength=\"60\" x=\"289\" y=\"318.0669\">«variant»</text></a><!--MD5=[0f36bececdf0dff6e600d6f64214b0f1]\n",
       "link E10 to E2--><a href=\"psysml:bd829215-07d4-45cb-8fe9-60748d4dd682\" target=\"_top\" title=\"psysml:bd829215-07d4-45cb-8fe9-60748d4dd682\" xlink:actuate=\"onRequest\" xlink:href=\"psysml:bd829215-07d4-45cb-8fe9-60748d4dd682\" xlink:show=\"new\" xlink:title=\"psysml:bd829215-07d4-45cb-8fe9-60748d4dd682\" xlink:type=\"simple\"><path d=\"M244.34,161.73 C272.87,168.36 325.72,180.66 365.56,189.92 \" fill=\"none\" id=\"E10-&gt;E2\" style=\"stroke: #383838; stroke-width: 1.0;\"/><polygon fill=\"#FFFFFF\" points=\"385.28,194.51,365.1886,197.0272,368.3578,183.3907,385.28,194.51\" style=\"stroke: #383838; stroke-width: 1.0;\"/><ellipse cx=\"360.0893\" cy=\"193.7888\" fill=\"#383838\" rx=\"2\" ry=\"2\" style=\"stroke: #383838; stroke-width: 1.0;\"/><ellipse cx=\"362.353\" cy=\"184.0484\" fill=\"#383838\" rx=\"2\" ry=\"2\" style=\"stroke: #383838; stroke-width: 1.0;\"/></a><!--MD5=[4b969c1f7867a8070edec865e4974ca4]\n",
       "@startuml\r\n",
       "left to right direction\r\n",
       "skinparam monochrome true\r\n",
       "skinparam classbackgroundcolor white\r\n",
       "skinparam shadowing false\r\n",
       "skinparam wrapWidth 300\r\n",
       "hide circle\r\n",
       "\r\n",
       "package \"VariabilityTest\" as E1  [[psysml:6e13bc12-600f-4176-9ee3-c77c18f0da6f ]]  {\r\n",
       "comp def \"P\" as E2  <<(T,blue) part def>> [[psysml:a47e4883-53c6-48e5-9729-358fb18738b5 ]] {\r\n",
       "- - attributes - -\r\n",
       "a\r\n",
       "}\r\n",
       "comp def \"Q\" as E3  <<(T,blue) part def>> [[psysml:64152dcd-188c-4285-9d2f-82b4222731ff ]] {\r\n",
       "}\r\n",
       "comp def \"B\" as E4  <<(T,blue) attribute def>> [[psysml:6204c3f0-143a-45cc-ac58-9ea86a3a8ea6 ]] {\r\n",
       "}\r\n",
       "comp def \"V\" as E5  <<(T,blue) part def>> [[psysml:58826ca2-a740-4eaa-a71e-521b590388a3 ]] {\r\n",
       "}\r\n",
       "comp usage \"x: Q\" as E6  <<(T,blue) part>> [[psysml:c2df0e2e-5a66-4a2b-abfc-b3b4dd7dd2c5 ]] {\r\n",
       "- - attributes - -\r\n",
       "b: B\\n//:>>P::a// \r\n",
       "}\r\n",
       "comp usage \"q: Q\" as E7  <<(T,blue) part>> [[psysml:d5aa7800-4c4d-4a74-9f82-8c5d7377a367 ]] {\r\n",
       "}\r\n",
       "comp usage \"v: P\" as E8  <<variation>>\\n <<(T,blue) part>> [[psysml:d7b3804f-80e3-4381-979e-bf8e2501fba8 ]] {\r\n",
       "}\r\n",
       "comp usage \"q\" as E9  <<(T,blue) reference>> [[psysml:aeeab6cc-3339-44ed-a45c-f65a5d97c376 ]] {\r\n",
       "- - attributes - -\r\n",
       "b: B\\n//:>>P::a// \r\n",
       "}\r\n",
       "comp usage \"y: P\" as E10  <<(T,blue) part>> [[psysml:fe63b1e8-840a-4f2e-b06a-2ce986f19d03 ]] {\r\n",
       "}\r\n",
       "E3 - -|> E2 [[psysml:6495a820-e8c0-4129-af26-6722c3b7b9e6 ]] \r\n",
       "E5 - -|> E2 [[psysml:bd00e4e7-d183-497a-b9f8-56660fc51e3e ]] \r\n",
       "E5 )- ->> E6 [[psysml:3ec706da-d65f-4ef5-8a1f-1e1b5df7e7c6 ]] : <<variant>>\r\n",
       "E7 - -:|> E3 [[psysml:9cf32953-475b-4011-b1f8-e7f09d5ce449 ]] \r\n",
       "E8 - -:|> E2 [[psysml:d1a9bfbc-b159-49c1-a5ca-956a4881ee49 ]] \r\n",
       "E8 )- ->> E9 [[psysml:4574f674-7c12-4143-bfb7-6a6844a72e64 ]] : <<variant>>\r\n",
       "E10 - -:|> E2 [[psysml:bd829215-07d4-45cb-8fe9-60748d4dd682 ]] \r\n",
       "}\r\n",
       "@enduml\r\n",
       "\n",
       "PlantUML version 1.2020.13(Sat Jun 13 12:26:38 UTC 2020)\n",
       "(EPL source distribution)\n",
       "Java Runtime: OpenJDK Runtime Environment\n",
       "JVM: OpenJDK 64-Bit Server VM\n",
       "Default Encoding: UTF-8\n",
       "Language: en\n",
       "Country: null\n",
       "--></g></svg>"
      ]
     },
     "execution_count": 16,
     "metadata": {},
     "output_type": "execute_result"
    }
   ],
   "source": [
    "%viz --style=\"LR\" --view=\"Default\" \"VariabilityTest\""
   ]
  },
  {
   "cell_type": "code",
   "execution_count": 17,
   "id": "843d4d44",
   "metadata": {
    "execution": {
     "iopub.execute_input": "2021-08-04T06:26:49.193978Z",
     "iopub.status.busy": "2021-08-04T06:26:49.193508Z",
     "iopub.status.idle": "2021-08-04T06:26:49.262333Z",
     "shell.execute_reply": "2021-08-04T06:26:49.260887Z"
    }
   },
   "outputs": [
    {
     "data": {
      "image/svg+xml": [
       "<?xml version=\"1.0\" encoding=\"UTF-8\" standalone=\"no\"?><svg xmlns=\"http://www.w3.org/2000/svg\" xmlns:xlink=\"http://www.w3.org/1999/xlink\" contentScriptType=\"application/ecmascript\" contentStyleType=\"text/css\" height=\"391px\" preserveAspectRatio=\"none\" style=\"width:495px;height:391px;\" version=\"1.1\" viewBox=\"0 0 495 391\" width=\"495px\" zoomAndPan=\"magnify\"><defs/><g><!--MD5=[fbc87193dbaf4d95561dea2c320d4a47]\n",
       "cluster E1--><a href=\"psysml:6e13bc12-600f-4176-9ee3-c77c18f0da6f\" target=\"_top\" title=\"psysml:6e13bc12-600f-4176-9ee3-c77c18f0da6f\" xlink:actuate=\"onRequest\" xlink:href=\"psysml:6e13bc12-600f-4176-9ee3-c77c18f0da6f\" xlink:show=\"new\" xlink:title=\"psysml:6e13bc12-600f-4176-9ee3-c77c18f0da6f\" xlink:type=\"simple\"><polygon fill=\"#FFFFFF\" points=\"16,6,134,6,141,28.2969,473,28.2969,473,379,16,379,16,6\" style=\"stroke: #000000; stroke-width: 1.5;\"/><line style=\"stroke: #000000; stroke-width: 1.5;\" x1=\"16\" x2=\"141\" y1=\"28.2969\" y2=\"28.2969\"/><text fill=\"#000000\" font-family=\"sans-serif\" font-size=\"14\" font-weight=\"bold\" lengthAdjust=\"spacingAndGlyphs\" textLength=\"112\" x=\"20\" y=\"20.9951\">VariabilityTest</text></a><!--MD5=[b4997ac47864f28c2f74865a473b2911]\n",
       "class E2--><a href=\"psysml:a47e4883-53c6-48e5-9729-358fb18738b5\" target=\"_top\" title=\"psysml:a47e4883-53c6-48e5-9729-358fb18738b5\" xlink:actuate=\"onRequest\" xlink:href=\"psysml:a47e4883-53c6-48e5-9729-358fb18738b5\" xlink:show=\"new\" xlink:title=\"psysml:a47e4883-53c6-48e5-9729-358fb18738b5\" xlink:type=\"simple\"><rect fill=\"#FFFFFF\" height=\"75.5469\" id=\"E2\" style=\"stroke: #383838; stroke-width: 1.5;\" width=\"66\" x=\"385.5\" y=\"164\"/><text fill=\"#000000\" font-family=\"sans-serif\" font-size=\"12\" font-style=\"italic\" lengthAdjust=\"spacingAndGlyphs\" textLength=\"64\" x=\"386.5\" y=\"180.1387\">«part def»</text><text fill=\"#000000\" font-family=\"sans-serif\" font-size=\"12\" lengthAdjust=\"spacingAndGlyphs\" textLength=\"8\" x=\"414.5\" y=\"194.1074\">P</text><line style=\"stroke: #383838; stroke-width: 1.5;\" x1=\"386.5\" x2=\"450.5\" y1=\"201.9375\" y2=\"201.9375\"/><text fill=\"#000000\" font-family=\"sans-serif\" font-size=\"11\" lengthAdjust=\"spacingAndGlyphs\" textLength=\"7\" x=\"391.5\" y=\"232.9526\">a</text><line style=\"stroke: #383838; stroke-width: 1.0;\" x1=\"386.5\" x2=\"391\" y1=\"216.3398\" y2=\"216.3398\"/><text fill=\"#000000\" font-family=\"sans-serif\" font-size=\"11\" lengthAdjust=\"spacingAndGlyphs\" textLength=\"55\" x=\"391\" y=\"219.6479\">attributes</text><line style=\"stroke: #383838; stroke-width: 1.0;\" x1=\"446\" x2=\"450.5\" y1=\"216.3398\" y2=\"216.3398\"/></a><!--MD5=[09b614a08d8cba4a07c9adeb5e0fee81]\n",
       "class E3--><a href=\"psysml:64152dcd-188c-4285-9d2f-82b4222731ff\" target=\"_top\" title=\"psysml:64152dcd-188c-4285-9d2f-82b4222731ff\" xlink:actuate=\"onRequest\" xlink:href=\"psysml:64152dcd-188c-4285-9d2f-82b4222731ff\" xlink:show=\"new\" xlink:title=\"psysml:64152dcd-188c-4285-9d2f-82b4222731ff\" xlink:type=\"simple\"><rect fill=\"#FFFFFF\" height=\"45.9375\" id=\"E3\" style=\"stroke: #383838; stroke-width: 1.5;\" width=\"66\" x=\"190\" y=\"215\"/><text fill=\"#000000\" font-family=\"sans-serif\" font-size=\"12\" font-style=\"italic\" lengthAdjust=\"spacingAndGlyphs\" textLength=\"64\" x=\"191\" y=\"231.1387\">«part def»</text><text fill=\"#000000\" font-family=\"sans-serif\" font-size=\"12\" lengthAdjust=\"spacingAndGlyphs\" textLength=\"9\" x=\"218.5\" y=\"245.1074\">Q</text><line style=\"stroke: #383838; stroke-width: 1.5;\" x1=\"191\" x2=\"255\" y1=\"252.9375\" y2=\"252.9375\"/></a><!--MD5=[ebbe1d658d1005bcc118a6aa81145e00]\n",
       "class E4--><a href=\"psysml:6204c3f0-143a-45cc-ac58-9ea86a3a8ea6\" target=\"_top\" title=\"psysml:6204c3f0-143a-45cc-ac58-9ea86a3a8ea6\" xlink:actuate=\"onRequest\" xlink:href=\"psysml:6204c3f0-143a-45cc-ac58-9ea86a3a8ea6\" xlink:show=\"new\" xlink:title=\"psysml:6204c3f0-143a-45cc-ac58-9ea86a3a8ea6\" xlink:type=\"simple\"><rect fill=\"#FFFFFF\" height=\"45.9375\" id=\"E4\" style=\"stroke: #383838; stroke-width: 1.5;\" width=\"95\" x=\"32\" y=\"84\"/><text fill=\"#000000\" font-family=\"sans-serif\" font-size=\"12\" font-style=\"italic\" lengthAdjust=\"spacingAndGlyphs\" textLength=\"93\" x=\"33\" y=\"100.1387\">«attribute def»</text><text fill=\"#000000\" font-family=\"sans-serif\" font-size=\"12\" lengthAdjust=\"spacingAndGlyphs\" textLength=\"8\" x=\"75.5\" y=\"114.1074\">B</text><line style=\"stroke: #383838; stroke-width: 1.5;\" x1=\"33\" x2=\"126\" y1=\"121.9375\" y2=\"121.9375\"/></a><!--MD5=[270fce915f116d4de14055a7c1d9a0f3]\n",
       "class E5--><a href=\"psysml:58826ca2-a740-4eaa-a71e-521b590388a3\" target=\"_top\" title=\"psysml:58826ca2-a740-4eaa-a71e-521b590388a3\" xlink:actuate=\"onRequest\" xlink:href=\"psysml:58826ca2-a740-4eaa-a71e-521b590388a3\" xlink:show=\"new\" xlink:title=\"psysml:58826ca2-a740-4eaa-a71e-521b590388a3\" xlink:type=\"simple\"><rect fill=\"#FFFFFF\" height=\"45.9375\" id=\"E5\" style=\"stroke: #383838; stroke-width: 1.5;\" width=\"66\" x=\"190\" y=\"53\"/><text fill=\"#000000\" font-family=\"sans-serif\" font-size=\"12\" font-style=\"italic\" lengthAdjust=\"spacingAndGlyphs\" textLength=\"64\" x=\"191\" y=\"69.1387\">«part def»</text><text fill=\"#000000\" font-family=\"sans-serif\" font-size=\"12\" lengthAdjust=\"spacingAndGlyphs\" textLength=\"8\" x=\"219\" y=\"83.1074\">V</text><line style=\"stroke: #383838; stroke-width: 1.5;\" x1=\"191\" x2=\"255\" y1=\"90.9375\" y2=\"90.9375\"/></a><!--MD5=[60a26617385b1d2d0262a64233df1f8d]\n",
       "class E6--><a href=\"psysml:c2df0e2e-5a66-4a2b-abfc-b3b4dd7dd2c5\" target=\"_top\" title=\"psysml:c2df0e2e-5a66-4a2b-abfc-b3b4dd7dd2c5\" xlink:actuate=\"onRequest\" xlink:href=\"psysml:c2df0e2e-5a66-4a2b-abfc-b3b4dd7dd2c5\" xlink:show=\"new\" xlink:title=\"psysml:c2df0e2e-5a66-4a2b-abfc-b3b4dd7dd2c5\" xlink:type=\"simple\"><rect fill=\"#FFFFFF\" height=\"88.3516\" id=\"E6\" rx=\"10\" ry=\"10\" style=\"stroke: #383838; stroke-width: 1.5;\" width=\"63\" x=\"387\" y=\"41\"/><text fill=\"#000000\" font-family=\"sans-serif\" font-size=\"12\" font-style=\"italic\" lengthAdjust=\"spacingAndGlyphs\" textLength=\"40\" x=\"398.5\" y=\"57.1387\">«part»</text><text fill=\"#000000\" font-family=\"sans-serif\" font-size=\"12\" lengthAdjust=\"spacingAndGlyphs\" textLength=\"23\" x=\"407\" y=\"71.1074\">x: Q</text><line style=\"stroke: #383838; stroke-width: 1.5;\" x1=\"388\" x2=\"449\" y1=\"78.9375\" y2=\"78.9375\"/><text fill=\"#000000\" font-family=\"sans-serif\" font-size=\"11\" lengthAdjust=\"spacingAndGlyphs\" textLength=\"23\" x=\"393\" y=\"109.9526\">b: B</text><text fill=\"#000000\" font-family=\"sans-serif\" font-size=\"11\" font-style=\"italic\" lengthAdjust=\"spacingAndGlyphs\" textLength=\"44\" x=\"393\" y=\"122.7573\">:&gt;&gt;P::a</text><line style=\"stroke: #383838; stroke-width: 1.0;\" x1=\"388\" x2=\"391\" y1=\"93.3398\" y2=\"93.3398\"/><text fill=\"#000000\" font-family=\"sans-serif\" font-size=\"11\" lengthAdjust=\"spacingAndGlyphs\" textLength=\"55\" x=\"391\" y=\"96.6479\">attributes</text><line style=\"stroke: #383838; stroke-width: 1.0;\" x1=\"446\" x2=\"449\" y1=\"93.3398\" y2=\"93.3398\"/></a><!--MD5=[2156ba9850f5573cc1fc38a6a4b2f02b]\n",
       "class E7--><a href=\"psysml:d5aa7800-4c4d-4a74-9f82-8c5d7377a367\" target=\"_top\" title=\"psysml:d5aa7800-4c4d-4a74-9f82-8c5d7377a367\" xlink:actuate=\"onRequest\" xlink:href=\"psysml:d5aa7800-4c4d-4a74-9f82-8c5d7377a367\" xlink:show=\"new\" xlink:title=\"psysml:d5aa7800-4c4d-4a74-9f82-8c5d7377a367\" xlink:type=\"simple\"><rect fill=\"#FFFFFF\" height=\"45.9375\" id=\"E7\" rx=\"10\" ry=\"10\" style=\"stroke: #383838; stroke-width: 1.5;\" width=\"42\" x=\"58.5\" y=\"215\"/><text fill=\"#000000\" font-family=\"sans-serif\" font-size=\"12\" font-style=\"italic\" lengthAdjust=\"spacingAndGlyphs\" textLength=\"40\" x=\"59.5\" y=\"231.1387\">«part»</text><text fill=\"#000000\" font-family=\"sans-serif\" font-size=\"12\" lengthAdjust=\"spacingAndGlyphs\" textLength=\"25\" x=\"67\" y=\"245.1074\">q: Q</text><line style=\"stroke: #383838; stroke-width: 1.5;\" x1=\"59.5\" x2=\"99.5\" y1=\"252.9375\" y2=\"252.9375\"/></a><!--MD5=[b9389687b975829384b498ac4b7476b2]\n",
       "class E8--><a href=\"psysml:d7b3804f-80e3-4381-979e-bf8e2501fba8\" target=\"_top\" title=\"psysml:d7b3804f-80e3-4381-979e-bf8e2501fba8\" xlink:actuate=\"onRequest\" xlink:href=\"psysml:d7b3804f-80e3-4381-979e-bf8e2501fba8\" xlink:show=\"new\" xlink:title=\"psysml:d7b3804f-80e3-4381-979e-bf8e2501fba8\" xlink:type=\"simple\"><rect fill=\"#FFFFFF\" height=\"59.9063\" id=\"E8\" rx=\"10\" ry=\"10\" style=\"stroke: #383838; stroke-width: 1.5;\" width=\"70\" x=\"188\" y=\"296\"/><text fill=\"#000000\" font-family=\"sans-serif\" font-size=\"12\" font-style=\"italic\" lengthAdjust=\"spacingAndGlyphs\" textLength=\"68\" x=\"189\" y=\"312.1387\">«variation»</text><text fill=\"#000000\" font-family=\"sans-serif\" font-size=\"12\" font-style=\"italic\" lengthAdjust=\"spacingAndGlyphs\" textLength=\"40\" x=\"203\" y=\"326.1074\">«part»</text><text fill=\"#000000\" font-family=\"sans-serif\" font-size=\"12\" lengthAdjust=\"spacingAndGlyphs\" textLength=\"22\" x=\"212\" y=\"340.0762\">v: P</text><line style=\"stroke: #383838; stroke-width: 1.5;\" x1=\"189\" x2=\"257\" y1=\"347.9063\" y2=\"347.9063\"/></a><!--MD5=[fd4143e9d270a159db93a4ea2a975926]\n",
       "class E9--><a href=\"psysml:aeeab6cc-3339-44ed-a45c-f65a5d97c376\" target=\"_top\" title=\"psysml:aeeab6cc-3339-44ed-a45c-f65a5d97c376\" xlink:actuate=\"onRequest\" xlink:href=\"psysml:aeeab6cc-3339-44ed-a45c-f65a5d97c376\" xlink:show=\"new\" xlink:title=\"psysml:aeeab6cc-3339-44ed-a45c-f65a5d97c376\" xlink:type=\"simple\"><rect fill=\"#FFFFFF\" height=\"88.3516\" id=\"E9\" rx=\"10\" ry=\"10\" style=\"stroke: #383838; stroke-width: 1.5;\" width=\"77\" x=\"380\" y=\"275\"/><text fill=\"#000000\" font-family=\"sans-serif\" font-size=\"12\" font-style=\"italic\" lengthAdjust=\"spacingAndGlyphs\" textLength=\"75\" x=\"381\" y=\"291.1387\">«reference»</text><text fill=\"#000000\" font-family=\"sans-serif\" font-size=\"12\" lengthAdjust=\"spacingAndGlyphs\" textLength=\"8\" x=\"414.5\" y=\"305.1074\">q</text><line style=\"stroke: #383838; stroke-width: 1.5;\" x1=\"381\" x2=\"456\" y1=\"312.9375\" y2=\"312.9375\"/><text fill=\"#000000\" font-family=\"sans-serif\" font-size=\"11\" lengthAdjust=\"spacingAndGlyphs\" textLength=\"23\" x=\"386\" y=\"343.9526\">b: B</text><text fill=\"#000000\" font-family=\"sans-serif\" font-size=\"11\" font-style=\"italic\" lengthAdjust=\"spacingAndGlyphs\" textLength=\"44\" x=\"386\" y=\"356.7573\">:&gt;&gt;P::a</text><line style=\"stroke: #383838; stroke-width: 1.0;\" x1=\"381\" x2=\"391\" y1=\"327.3398\" y2=\"327.3398\"/><text fill=\"#000000\" font-family=\"sans-serif\" font-size=\"11\" lengthAdjust=\"spacingAndGlyphs\" textLength=\"55\" x=\"391\" y=\"330.6479\">attributes</text><line style=\"stroke: #383838; stroke-width: 1.0;\" x1=\"446\" x2=\"456\" y1=\"327.3398\" y2=\"327.3398\"/></a><!--MD5=[96f4274e9e20536e775497830990834d]\n",
       "class E10--><a href=\"psysml:fe63b1e8-840a-4f2e-b06a-2ce986f19d03\" target=\"_top\" title=\"psysml:fe63b1e8-840a-4f2e-b06a-2ce986f19d03\" xlink:actuate=\"onRequest\" xlink:href=\"psysml:fe63b1e8-840a-4f2e-b06a-2ce986f19d03\" xlink:show=\"new\" xlink:title=\"psysml:fe63b1e8-840a-4f2e-b06a-2ce986f19d03\" xlink:type=\"simple\"><rect fill=\"#FFFFFF\" height=\"45.9375\" id=\"E10\" rx=\"10\" ry=\"10\" style=\"stroke: #383838; stroke-width: 1.5;\" width=\"42\" x=\"202\" y=\"134\"/><text fill=\"#000000\" font-family=\"sans-serif\" font-size=\"12\" font-style=\"italic\" lengthAdjust=\"spacingAndGlyphs\" textLength=\"40\" x=\"203\" y=\"150.1387\">«part»</text><text fill=\"#000000\" font-family=\"sans-serif\" font-size=\"12\" lengthAdjust=\"spacingAndGlyphs\" textLength=\"22\" x=\"212\" y=\"164.1074\">y: P</text><line style=\"stroke: #383838; stroke-width: 1.5;\" x1=\"203\" x2=\"243\" y1=\"171.9375\" y2=\"171.9375\"/></a><!--MD5=[05d275557350bfb9b23a4ef7222b4c39]\n",
       "link E3 to E2--><a href=\"psysml:6495a820-e8c0-4129-af26-6722c3b7b9e6\" target=\"_top\" title=\"psysml:6495a820-e8c0-4129-af26-6722c3b7b9e6\" xlink:actuate=\"onRequest\" xlink:href=\"psysml:6495a820-e8c0-4129-af26-6722c3b7b9e6\" xlink:show=\"new\" xlink:title=\"psysml:6495a820-e8c0-4129-af26-6722c3b7b9e6\" xlink:type=\"simple\"><path d=\"M256.39,231.97 C286.06,226.45 330.5,218.19 365.2,211.73 \" fill=\"none\" id=\"E3-&gt;E2\" style=\"stroke: #383838; stroke-width: 1.0;\"/><polygon fill=\"none\" points=\"364.39,204.76,385.33,207.99,366.95,218.53,364.39,204.76\" style=\"stroke: #383838; stroke-width: 1.0;\"/></a><!--MD5=[15ebcb19ae302d9b601edb458606d402]\n",
       "link E5 to E2--><a href=\"psysml:bd00e4e7-d183-497a-b9f8-56660fc51e3e\" target=\"_top\" title=\"psysml:bd00e4e7-d183-497a-b9f8-56660fc51e3e\" xlink:actuate=\"onRequest\" xlink:href=\"psysml:bd00e4e7-d183-497a-b9f8-56660fc51e3e\" xlink:show=\"new\" xlink:title=\"psysml:bd00e4e7-d183-497a-b9f8-56660fc51e3e\" xlink:type=\"simple\"><path d=\"M256.39,97.09 C286.9,116.96 333.03,147 368.13,169.85 \" fill=\"none\" id=\"E5-&gt;E2\" style=\"stroke: #383838; stroke-width: 1.0;\"/><polygon fill=\"none\" points=\"372.39,164.27,385.33,181.05,364.75,176,372.39,164.27\" style=\"stroke: #383838; stroke-width: 1.0;\"/></a><!--MD5=[9120cf2e5df3bff93db8f754bbbc09b4]\n",
       "link E5 to E6--><a href=\"psysml:3ec706da-d65f-4ef5-8a1f-1e1b5df7e7c6\" target=\"_top\" title=\"psysml:3ec706da-d65f-4ef5-8a1f-1e1b5df7e7c6\" xlink:actuate=\"onRequest\" xlink:href=\"psysml:3ec706da-d65f-4ef5-8a1f-1e1b5df7e7c6\" xlink:show=\"new\" xlink:title=\"psysml:3ec706da-d65f-4ef5-8a1f-1e1b5df7e7c6\" xlink:type=\"simple\"><path d=\"M266.69,77.99 C299.54,79.51 344.62,81.61 376.92,83.11 \" fill=\"none\" id=\"E5-E6\" style=\"stroke: #383838; stroke-width: 1.0;\"/><polygon fill=\"#383838\" points=\"386.92,83.58,379.0704,80.2061,378.7874,86.1994,386.92,83.58\" style=\"stroke: #383838; stroke-width: 1.0;\"/><path d=\"M259.0665,86.1028 A9,9 0 0 0 259.863 69.2071\" fill=\"none\" style=\"stroke: #383838; stroke-width: 1.5;\"/><text fill=\"#000000\" font-family=\"sans-serif\" font-size=\"13\" lengthAdjust=\"spacingAndGlyphs\" textLength=\"60\" x=\"289\" y=\"76.0669\">«variant»</text></a><!--MD5=[14ccda38c055a5c0da953d572bc50960]\n",
       "link E7 to E3--><a href=\"psysml:9cf32953-475b-4011-b1f8-e7f09d5ce449\" target=\"_top\" title=\"psysml:9cf32953-475b-4011-b1f8-e7f09d5ce449\" xlink:actuate=\"onRequest\" xlink:href=\"psysml:9cf32953-475b-4011-b1f8-e7f09d5ce449\" xlink:show=\"new\" xlink:title=\"psysml:9cf32953-475b-4011-b1f8-e7f09d5ce449\" xlink:type=\"simple\"><path d=\"M100.77,238 C118.65,238 145.5,238 169.39,238 \" fill=\"none\" id=\"E7-&gt;E3\" style=\"stroke: #383838; stroke-width: 1.0;\"/><polygon fill=\"#FFFFFF\" points=\"189.74,238,170.74,245,170.74,231,189.74,238\" style=\"stroke: #383838; stroke-width: 1.0;\"/><ellipse cx=\"165.04\" cy=\"243\" fill=\"#383838\" rx=\"2\" ry=\"2\" style=\"stroke: #383838; stroke-width: 1.0;\"/><ellipse cx=\"165.04\" cy=\"233\" fill=\"#383838\" rx=\"2\" ry=\"2\" style=\"stroke: #383838; stroke-width: 1.0;\"/></a><!--MD5=[f1f3f9f2fc535e6147756cb86a7f2e32]\n",
       "link E8 to E2--><a href=\"psysml:d1a9bfbc-b159-49c1-a5ca-956a4881ee49\" target=\"_top\" title=\"psysml:d1a9bfbc-b159-49c1-a5ca-956a4881ee49\" xlink:actuate=\"onRequest\" xlink:href=\"psysml:d1a9bfbc-b159-49c1-a5ca-956a4881ee49\" xlink:show=\"new\" xlink:title=\"psysml:d1a9bfbc-b159-49c1-a5ca-956a4881ee49\" xlink:type=\"simple\"><path d=\"M258.15,304.12 C288.73,284.52 333.94,255.55 368.39,233.47 \" fill=\"none\" id=\"E8-&gt;E2\" style=\"stroke: #383838; stroke-width: 1.0;\"/><polygon fill=\"#FFFFFF\" points=\"385.3,222.63,373.0842,238.7785,365.5272,226.9932,385.3,222.63\" style=\"stroke: #383838; stroke-width: 1.0;\"/><ellipse cx=\"367.2063\" cy=\"240.1717\" fill=\"#383838\" rx=\"2\" ry=\"2\" style=\"stroke: #383838; stroke-width: 1.0;\"/><ellipse cx=\"361.8085\" cy=\"231.7536\" fill=\"#383838\" rx=\"2\" ry=\"2\" style=\"stroke: #383838; stroke-width: 1.0;\"/></a><!--MD5=[ed10624c06dd9a4fa49ccf290e8b16a8]\n",
       "link E8 to E9--><a href=\"psysml:4574f674-7c12-4143-bfb7-6a6844a72e64\" target=\"_top\" title=\"psysml:4574f674-7c12-4143-bfb7-6a6844a72e64\" xlink:actuate=\"onRequest\" xlink:href=\"psysml:4574f674-7c12-4143-bfb7-6a6844a72e64\" xlink:show=\"new\" xlink:title=\"psysml:4574f674-7c12-4143-bfb7-6a6844a72e64\" xlink:type=\"simple\"><path d=\"M268.18,324.4 C298.44,323.31 338.55,321.86 369.58,320.73 \" fill=\"none\" id=\"E8-E9\" style=\"stroke: #383838; stroke-width: 1.0;\"/><polygon fill=\"#383838\" points=\"379.72,320.37,371.6142,317.669,371.8369,323.6649,379.72,320.37\" style=\"stroke: #383838; stroke-width: 1.0;\"/><path d=\"M261.5285,333.1018 A9,9 0 0 0 260.9239 316.1981\" fill=\"none\" style=\"stroke: #383838; stroke-width: 1.5;\"/><text fill=\"#000000\" font-family=\"sans-serif\" font-size=\"13\" lengthAdjust=\"spacingAndGlyphs\" textLength=\"60\" x=\"289\" y=\"318.0669\">«variant»</text></a><!--MD5=[0f36bececdf0dff6e600d6f64214b0f1]\n",
       "link E10 to E2--><a href=\"psysml:bd829215-07d4-45cb-8fe9-60748d4dd682\" target=\"_top\" title=\"psysml:bd829215-07d4-45cb-8fe9-60748d4dd682\" xlink:actuate=\"onRequest\" xlink:href=\"psysml:bd829215-07d4-45cb-8fe9-60748d4dd682\" xlink:show=\"new\" xlink:title=\"psysml:bd829215-07d4-45cb-8fe9-60748d4dd682\" xlink:type=\"simple\"><path d=\"M244.34,161.73 C272.87,168.36 325.72,180.66 365.56,189.92 \" fill=\"none\" id=\"E10-&gt;E2\" style=\"stroke: #383838; stroke-width: 1.0;\"/><polygon fill=\"#FFFFFF\" points=\"385.28,194.51,365.1886,197.0272,368.3578,183.3907,385.28,194.51\" style=\"stroke: #383838; stroke-width: 1.0;\"/><ellipse cx=\"360.0893\" cy=\"193.7888\" fill=\"#383838\" rx=\"2\" ry=\"2\" style=\"stroke: #383838; stroke-width: 1.0;\"/><ellipse cx=\"362.353\" cy=\"184.0484\" fill=\"#383838\" rx=\"2\" ry=\"2\" style=\"stroke: #383838; stroke-width: 1.0;\"/></a><!--MD5=[4b969c1f7867a8070edec865e4974ca4]\n",
       "@startuml\r\n",
       "left to right direction\r\n",
       "skinparam monochrome true\r\n",
       "skinparam classbackgroundcolor white\r\n",
       "skinparam shadowing false\r\n",
       "skinparam wrapWidth 300\r\n",
       "hide circle\r\n",
       "\r\n",
       "package \"VariabilityTest\" as E1  [[psysml:6e13bc12-600f-4176-9ee3-c77c18f0da6f ]]  {\r\n",
       "comp def \"P\" as E2  <<(T,blue) part def>> [[psysml:a47e4883-53c6-48e5-9729-358fb18738b5 ]] {\r\n",
       "- - attributes - -\r\n",
       "a\r\n",
       "}\r\n",
       "comp def \"Q\" as E3  <<(T,blue) part def>> [[psysml:64152dcd-188c-4285-9d2f-82b4222731ff ]] {\r\n",
       "}\r\n",
       "comp def \"B\" as E4  <<(T,blue) attribute def>> [[psysml:6204c3f0-143a-45cc-ac58-9ea86a3a8ea6 ]] {\r\n",
       "}\r\n",
       "comp def \"V\" as E5  <<(T,blue) part def>> [[psysml:58826ca2-a740-4eaa-a71e-521b590388a3 ]] {\r\n",
       "}\r\n",
       "comp usage \"x: Q\" as E6  <<(T,blue) part>> [[psysml:c2df0e2e-5a66-4a2b-abfc-b3b4dd7dd2c5 ]] {\r\n",
       "- - attributes - -\r\n",
       "b: B\\n//:>>P::a// \r\n",
       "}\r\n",
       "comp usage \"q: Q\" as E7  <<(T,blue) part>> [[psysml:d5aa7800-4c4d-4a74-9f82-8c5d7377a367 ]] {\r\n",
       "}\r\n",
       "comp usage \"v: P\" as E8  <<variation>>\\n <<(T,blue) part>> [[psysml:d7b3804f-80e3-4381-979e-bf8e2501fba8 ]] {\r\n",
       "}\r\n",
       "comp usage \"q\" as E9  <<(T,blue) reference>> [[psysml:aeeab6cc-3339-44ed-a45c-f65a5d97c376 ]] {\r\n",
       "- - attributes - -\r\n",
       "b: B\\n//:>>P::a// \r\n",
       "}\r\n",
       "comp usage \"y: P\" as E10  <<(T,blue) part>> [[psysml:fe63b1e8-840a-4f2e-b06a-2ce986f19d03 ]] {\r\n",
       "}\r\n",
       "E3 - -|> E2 [[psysml:6495a820-e8c0-4129-af26-6722c3b7b9e6 ]] \r\n",
       "E5 - -|> E2 [[psysml:bd00e4e7-d183-497a-b9f8-56660fc51e3e ]] \r\n",
       "E5 )- ->> E6 [[psysml:3ec706da-d65f-4ef5-8a1f-1e1b5df7e7c6 ]] : <<variant>>\r\n",
       "E7 - -:|> E3 [[psysml:9cf32953-475b-4011-b1f8-e7f09d5ce449 ]] \r\n",
       "E8 - -:|> E2 [[psysml:d1a9bfbc-b159-49c1-a5ca-956a4881ee49 ]] \r\n",
       "E8 )- ->> E9 [[psysml:4574f674-7c12-4143-bfb7-6a6844a72e64 ]] : <<variant>>\r\n",
       "E10 - -:|> E2 [[psysml:bd829215-07d4-45cb-8fe9-60748d4dd682 ]] \r\n",
       "}\r\n",
       "@enduml\r\n",
       "\n",
       "PlantUML version 1.2020.13(Sat Jun 13 12:26:38 UTC 2020)\n",
       "(EPL source distribution)\n",
       "Java Runtime: OpenJDK Runtime Environment\n",
       "JVM: OpenJDK 64-Bit Server VM\n",
       "Default Encoding: UTF-8\n",
       "Language: en\n",
       "Country: null\n",
       "--></g></svg>"
      ]
     },
     "execution_count": 17,
     "metadata": {},
     "output_type": "execute_result"
    }
   ],
   "source": [
    "%viz --style=\"LR\" --view=\"Tree\" \"VariabilityTest\""
   ]
  },
  {
   "cell_type": "code",
   "execution_count": 18,
   "id": "255ce4c4",
   "metadata": {
    "execution": {
     "iopub.execute_input": "2021-08-04T06:26:49.311878Z",
     "iopub.status.busy": "2021-08-04T06:26:49.311430Z",
     "iopub.status.idle": "2021-08-04T06:26:49.314946Z",
     "shell.execute_reply": "2021-08-04T06:26:49.315271Z"
    }
   },
   "outputs": [
    {
     "data": {
      "image/svg+xml": [
       "<?xml version=\"1.0\" encoding=\"UTF-8\" standalone=\"no\"?><svg xmlns=\"http://www.w3.org/2000/svg\" xmlns:xlink=\"http://www.w3.org/1999/xlink\" contentScriptType=\"application/ecmascript\" contentStyleType=\"text/css\" height=\"12px\" preserveAspectRatio=\"none\" style=\"width:12px;height:12px;\" version=\"1.1\" viewBox=\"0 0 12 12\" width=\"12px\" zoomAndPan=\"magnify\"><defs/><g><!--MD5=[19d285c9d72a204eba4e2cd117d745e8]\n",
       "@startuml\r\n",
       "left to right direction\r\n",
       "skinparam monochrome true\r\n",
       "skinparam classbackgroundcolor white\r\n",
       "skinparam shadowing false\r\n",
       "skinparam wrapWidth 300\r\n",
       "hide circle\r\n",
       "\r\n",
       "@enduml\r\n",
       "\n",
       "PlantUML version 1.2020.13(Sat Jun 13 12:26:38 UTC 2020)\n",
       "(EPL source distribution)\n",
       "Java Runtime: OpenJDK Runtime Environment\n",
       "JVM: OpenJDK 64-Bit Server VM\n",
       "Default Encoding: UTF-8\n",
       "Language: en\n",
       "Country: null\n",
       "--></g></svg>"
      ]
     },
     "execution_count": 18,
     "metadata": {},
     "output_type": "execute_result"
    }
   ],
   "source": [
    "%viz --style=\"LR\" --view=\"State\" \"VariabilityTest\""
   ]
  },
  {
   "cell_type": "code",
   "execution_count": 19,
   "id": "b1b97f8e",
   "metadata": {
    "execution": {
     "iopub.execute_input": "2021-08-04T06:26:49.365459Z",
     "iopub.status.busy": "2021-08-04T06:26:49.365040Z",
     "iopub.status.idle": "2021-08-04T06:26:49.457937Z",
     "shell.execute_reply": "2021-08-04T06:26:49.457536Z"
    }
   },
   "outputs": [
    {
     "data": {
      "image/svg+xml": [
       "<?xml version=\"1.0\" encoding=\"UTF-8\" standalone=\"no\"?><svg xmlns=\"http://www.w3.org/2000/svg\" xmlns:xlink=\"http://www.w3.org/1999/xlink\" contentScriptType=\"application/ecmascript\" contentStyleType=\"text/css\" height=\"723px\" preserveAspectRatio=\"none\" style=\"width:372px;height:723px;\" version=\"1.1\" viewBox=\"0 0 372 723\" width=\"372px\" zoomAndPan=\"magnify\"><defs/><g><!--MD5=[fbc87193dbaf4d95561dea2c320d4a47]\n",
       "cluster E1--><a href=\"psysml:6e13bc12-600f-4176-9ee3-c77c18f0da6f\" target=\"_top\" title=\"psysml:6e13bc12-600f-4176-9ee3-c77c18f0da6f\" xlink:actuate=\"onRequest\" xlink:href=\"psysml:6e13bc12-600f-4176-9ee3-c77c18f0da6f\" xlink:show=\"new\" xlink:title=\"psysml:6e13bc12-600f-4176-9ee3-c77c18f0da6f\" xlink:type=\"simple\"><polygon fill=\"#FFFFFF\" points=\"16,6,134,6,141,28.2969,350,28.2969,350,711,16,711,16,6\" style=\"stroke: #000000; stroke-width: 1.5;\"/><line style=\"stroke: #000000; stroke-width: 1.5;\" x1=\"16\" x2=\"141\" y1=\"28.2969\" y2=\"28.2969\"/><text fill=\"#000000\" font-family=\"sans-serif\" font-size=\"14\" font-weight=\"bold\" lengthAdjust=\"spacingAndGlyphs\" textLength=\"112\" x=\"20\" y=\"20.9951\">VariabilityTest</text></a><!--MD5=[e4f7fae6ed58524ba242bb0b0d3be6b7]\n",
       "cluster E2--><a href=\"psysml:a47e4883-53c6-48e5-9729-358fb18738b5\" target=\"_top\" title=\"psysml:a47e4883-53c6-48e5-9729-358fb18738b5\" xlink:actuate=\"onRequest\" xlink:href=\"psysml:a47e4883-53c6-48e5-9729-358fb18738b5\" xlink:show=\"new\" xlink:title=\"psysml:a47e4883-53c6-48e5-9729-358fb18738b5\" xlink:type=\"simple\"><rect fill=\"#FFFFFF\" height=\"148\" id=\"E2\" style=\"stroke: #383838; stroke-width: 1.5;\" width=\"119\" x=\"199\" y=\"234\"/><rect fill=\"#F8F8F8\" height=\"37.9375\" style=\"stroke: #383838; stroke-width: 1.5;\" width=\"119\" x=\"199\" y=\"234\"/><text fill=\"#000000\" font-family=\"sans-serif\" font-size=\"12\" font-style=\"italic\" lengthAdjust=\"spacingAndGlyphs\" textLength=\"64\" x=\"226.5\" y=\"250.1387\">«part def»</text><text fill=\"#000000\" font-family=\"sans-serif\" font-size=\"12\" lengthAdjust=\"spacingAndGlyphs\" textLength=\"8\" x=\"254.5\" y=\"264.1074\">P</text></a><!--MD5=[14e3b0961a2654348d326746436168a1]\n",
       "cluster E6--><a href=\"psysml:58826ca2-a740-4eaa-a71e-521b590388a3\" target=\"_top\" title=\"psysml:58826ca2-a740-4eaa-a71e-521b590388a3\" xlink:actuate=\"onRequest\" xlink:href=\"psysml:58826ca2-a740-4eaa-a71e-521b590388a3\" xlink:show=\"new\" xlink:title=\"psysml:58826ca2-a740-4eaa-a71e-521b590388a3\" xlink:type=\"simple\"><rect fill=\"#FFFFFF\" height=\"176\" id=\"E6\" style=\"stroke: #383838; stroke-width: 1.5;\" width=\"111\" x=\"48\" y=\"57\"/><rect fill=\"#F8F8F8\" height=\"37.9375\" style=\"stroke: #383838; stroke-width: 1.5;\" width=\"111\" x=\"48\" y=\"57\"/><text fill=\"#000000\" font-family=\"sans-serif\" font-size=\"12\" font-style=\"italic\" lengthAdjust=\"spacingAndGlyphs\" textLength=\"64\" x=\"71.5\" y=\"73.1387\">«part def»</text><text fill=\"#000000\" font-family=\"sans-serif\" font-size=\"12\" lengthAdjust=\"spacingAndGlyphs\" textLength=\"8\" x=\"99.5\" y=\"87.1074\">V</text></a><!--MD5=[7f149f147074ac12df2cb0a7728a5fb0]\n",
       "cluster E9--><a href=\"psysml:d7b3804f-80e3-4381-979e-bf8e2501fba8\" target=\"_top\" title=\"psysml:d7b3804f-80e3-4381-979e-bf8e2501fba8\" xlink:actuate=\"onRequest\" xlink:href=\"psysml:d7b3804f-80e3-4381-979e-bf8e2501fba8\" xlink:show=\"new\" xlink:title=\"psysml:d7b3804f-80e3-4381-979e-bf8e2501fba8\" xlink:type=\"simple\"><rect fill=\"#FFFFFF\" height=\"139\" id=\"E9\" rx=\"10\" ry=\"10\" style=\"stroke: #383838; stroke-width: 1.5;\" width=\"109\" x=\"49\" y=\"265\"/><rect fill=\"#F8F8F8\" height=\"23.9688\" rx=\"10\" ry=\"10\" style=\"stroke: #F8F8F8; stroke-width: 1.5;\" width=\"109\" x=\"49\" y=\"265\"/><rect fill=\"#F8F8F8\" height=\"10\" style=\"stroke: #F8F8F8; stroke-width: 1.5;\" width=\"109\" x=\"49\" y=\"278.9688\"/><rect fill=\"none\" height=\"139\" id=\"E9\" rx=\"10\" ry=\"10\" style=\"stroke: #383838; stroke-width: 1.5;\" width=\"109\" x=\"49\" y=\"265\"/><text fill=\"#000000\" font-family=\"sans-serif\" font-size=\"12\" lengthAdjust=\"spacingAndGlyphs\" textLength=\"22\" x=\"92.5\" y=\"281.1387\">v: P</text><line style=\"stroke: #383838; stroke-width: 1.0;\" x1=\"49\" x2=\"158\" y1=\"288.9688\" y2=\"288.9688\"/></a><g id=\"E1.E5\"><a href=\"psysml:6204c3f0-143a-45cc-ac58-9ea86a3a8ea6\" target=\"_top\" title=\"psysml:6204c3f0-143a-45cc-ac58-9ea86a3a8ea6\" xlink:actuate=\"onRequest\" xlink:href=\"psysml:6204c3f0-143a-45cc-ac58-9ea86a3a8ea6\" xlink:show=\"new\" xlink:title=\"psysml:6204c3f0-143a-45cc-ac58-9ea86a3a8ea6\" xlink:type=\"simple\"><rect fill=\"#FFFFFF\" height=\"42.9375\" id=\"E5\" style=\"stroke: #383838; stroke-width: 1.5;\" width=\"100\" x=\"53.5\" y=\"423.5\"/><rect fill=\"#F8F8F8\" height=\"37.9375\" style=\"stroke: #383838; stroke-width: 1.5;\" width=\"100\" x=\"53.5\" y=\"423.5\"/><text fill=\"#000000\" font-family=\"sans-serif\" font-size=\"12\" font-style=\"italic\" lengthAdjust=\"spacingAndGlyphs\" textLength=\"93\" x=\"57\" y=\"439.6387\">«attribute def»</text><text fill=\"#000000\" font-family=\"sans-serif\" font-size=\"12\" lengthAdjust=\"spacingAndGlyphs\" textLength=\"8\" x=\"99.5\" y=\"453.6074\">B</text></a></g><!--MD5=[09b614a08d8cba4a07c9adeb5e0fee81]\n",
       "class E3--><a href=\"psysml:af83713f-f16b-4de7-b4a6-ecd5bab1fc22\" target=\"_top\" title=\"psysml:af83713f-f16b-4de7-b4a6-ecd5bab1fc22\" xlink:actuate=\"onRequest\" xlink:href=\"psysml:af83713f-f16b-4de7-b4a6-ecd5bab1fc22\" xlink:show=\"new\" xlink:title=\"psysml:af83713f-f16b-4de7-b4a6-ecd5bab1fc22\" xlink:type=\"simple\"><rect fill=\"#FFFFFF\" height=\"45.9375\" id=\"E3\" rx=\"10\" ry=\"10\" style=\"stroke: #383838; stroke-width: 1.5;\" width=\"71\" x=\"223\" y=\"293\"/><text fill=\"#000000\" font-family=\"sans-serif\" font-size=\"12\" font-style=\"italic\" lengthAdjust=\"spacingAndGlyphs\" textLength=\"69\" x=\"224\" y=\"309.1387\">«attribute»</text><text fill=\"#000000\" font-family=\"sans-serif\" font-size=\"12\" lengthAdjust=\"spacingAndGlyphs\" textLength=\"8\" x=\"254.5\" y=\"323.1074\">a</text><line style=\"stroke: #383838; stroke-width: 1.5;\" x1=\"224\" x2=\"293\" y1=\"330.9375\" y2=\"330.9375\"/></a><g id=\"E1.E4\"><a href=\"psysml:64152dcd-188c-4285-9d2f-82b4222731ff\" target=\"_top\" title=\"psysml:64152dcd-188c-4285-9d2f-82b4222731ff\" xlink:actuate=\"onRequest\" xlink:href=\"psysml:64152dcd-188c-4285-9d2f-82b4222731ff\" xlink:show=\"new\" xlink:title=\"psysml:64152dcd-188c-4285-9d2f-82b4222731ff\" xlink:type=\"simple\"><rect fill=\"#FFFFFF\" height=\"42.9375\" id=\"E4\" style=\"stroke: #383838; stroke-width: 1.5;\" width=\"71\" x=\"68\" y=\"501.5\"/><rect fill=\"#F8F8F8\" height=\"37.9375\" style=\"stroke: #383838; stroke-width: 1.5;\" width=\"71\" x=\"68\" y=\"501.5\"/><text fill=\"#000000\" font-family=\"sans-serif\" font-size=\"12\" font-style=\"italic\" lengthAdjust=\"spacingAndGlyphs\" textLength=\"64\" x=\"71.5\" y=\"517.6387\">«part def»</text><text fill=\"#000000\" font-family=\"sans-serif\" font-size=\"12\" lengthAdjust=\"spacingAndGlyphs\" textLength=\"9\" x=\"99\" y=\"531.6074\">Q</text></a></g><!--MD5=[2156ba9850f5573cc1fc38a6a4b2f02b]\n",
       "class E7--><a href=\"psysml:c2df0e2e-5a66-4a2b-abfc-b3b4dd7dd2c5\" target=\"_top\" title=\"psysml:c2df0e2e-5a66-4a2b-abfc-b3b4dd7dd2c5\" xlink:actuate=\"onRequest\" xlink:href=\"psysml:c2df0e2e-5a66-4a2b-abfc-b3b4dd7dd2c5\" xlink:show=\"new\" xlink:title=\"psysml:c2df0e2e-5a66-4a2b-abfc-b3b4dd7dd2c5\" xlink:type=\"simple\"><rect fill=\"#FFFFFF\" height=\"74.3828\" id=\"E7\" rx=\"10\" ry=\"10\" style=\"stroke: #383838; stroke-width: 1.5;\" width=\"63\" x=\"72\" y=\"116\"/><text fill=\"#000000\" font-family=\"sans-serif\" font-size=\"12\" lengthAdjust=\"spacingAndGlyphs\" textLength=\"23\" x=\"92\" y=\"132.1387\">x: Q</text><line style=\"stroke: #383838; stroke-width: 1.5;\" x1=\"73\" x2=\"134\" y1=\"139.9688\" y2=\"139.9688\"/><text fill=\"#000000\" font-family=\"sans-serif\" font-size=\"11\" lengthAdjust=\"spacingAndGlyphs\" textLength=\"23\" x=\"78\" y=\"170.9839\">b: B</text><text fill=\"#000000\" font-family=\"sans-serif\" font-size=\"11\" font-style=\"italic\" lengthAdjust=\"spacingAndGlyphs\" textLength=\"44\" x=\"78\" y=\"183.7886\">:&gt;&gt;P::a</text><line style=\"stroke: #383838; stroke-width: 1.0;\" x1=\"73\" x2=\"76\" y1=\"154.3711\" y2=\"154.3711\"/><text fill=\"#000000\" font-family=\"sans-serif\" font-size=\"11\" lengthAdjust=\"spacingAndGlyphs\" textLength=\"55\" x=\"76\" y=\"157.6792\">attributes</text><line style=\"stroke: #383838; stroke-width: 1.0;\" x1=\"131\" x2=\"134\" y1=\"154.3711\" y2=\"154.3711\"/></a><g id=\"E1.E8\"><a href=\"psysml:d5aa7800-4c4d-4a74-9f82-8c5d7377a367\" target=\"_top\" title=\"psysml:d5aa7800-4c4d-4a74-9f82-8c5d7377a367\" xlink:actuate=\"onRequest\" xlink:href=\"psysml:d5aa7800-4c4d-4a74-9f82-8c5d7377a367\" xlink:show=\"new\" xlink:title=\"psysml:d5aa7800-4c4d-4a74-9f82-8c5d7377a367\" xlink:type=\"simple\"><rect fill=\"#FFFFFF\" height=\"40\" id=\"E8\" rx=\"10\" ry=\"10\" style=\"stroke: #383838; stroke-width: 1.5;\" width=\"50\" x=\"78.5\" y=\"580\"/><rect fill=\"#F8F8F8\" height=\"23.9688\" rx=\"10\" ry=\"10\" style=\"stroke: #F8F8F8; stroke-width: 1.5;\" width=\"50\" x=\"78.5\" y=\"580\"/><rect fill=\"#F8F8F8\" height=\"10\" style=\"stroke: #F8F8F8; stroke-width: 1.5;\" width=\"50\" x=\"78.5\" y=\"593.9688\"/><rect fill=\"none\" height=\"40\" id=\"E8\" rx=\"10\" ry=\"10\" style=\"stroke: #383838; stroke-width: 1.5;\" width=\"50\" x=\"78.5\" y=\"580\"/><text fill=\"#000000\" font-family=\"sans-serif\" font-size=\"12\" lengthAdjust=\"spacingAndGlyphs\" textLength=\"25\" x=\"91\" y=\"596.1387\">q: Q</text></a></g><!--MD5=[96f4274e9e20536e775497830990834d]\n",
       "class E10--><a href=\"psysml:aeeab6cc-3339-44ed-a45c-f65a5d97c376\" target=\"_top\" title=\"psysml:aeeab6cc-3339-44ed-a45c-f65a5d97c376\" xlink:actuate=\"onRequest\" xlink:href=\"psysml:aeeab6cc-3339-44ed-a45c-f65a5d97c376\" xlink:show=\"new\" xlink:title=\"psysml:aeeab6cc-3339-44ed-a45c-f65a5d97c376\" xlink:type=\"simple\"><rect fill=\"#FFFFFF\" height=\"88.3516\" id=\"E10\" rx=\"10\" ry=\"10\" style=\"stroke: #383838; stroke-width: 1.5;\" width=\"77\" x=\"65\" y=\"300\"/><text fill=\"#000000\" font-family=\"sans-serif\" font-size=\"12\" font-style=\"italic\" lengthAdjust=\"spacingAndGlyphs\" textLength=\"75\" x=\"66\" y=\"316.1387\">«reference»</text><text fill=\"#000000\" font-family=\"sans-serif\" font-size=\"12\" lengthAdjust=\"spacingAndGlyphs\" textLength=\"8\" x=\"99.5\" y=\"330.1074\">q</text><line style=\"stroke: #383838; stroke-width: 1.5;\" x1=\"66\" x2=\"141\" y1=\"337.9375\" y2=\"337.9375\"/><text fill=\"#000000\" font-family=\"sans-serif\" font-size=\"11\" lengthAdjust=\"spacingAndGlyphs\" textLength=\"23\" x=\"71\" y=\"368.9526\">b: B</text><text fill=\"#000000\" font-family=\"sans-serif\" font-size=\"11\" font-style=\"italic\" lengthAdjust=\"spacingAndGlyphs\" textLength=\"44\" x=\"71\" y=\"381.7573\">:&gt;&gt;P::a</text><line style=\"stroke: #383838; stroke-width: 1.0;\" x1=\"66\" x2=\"76\" y1=\"352.3398\" y2=\"352.3398\"/><text fill=\"#000000\" font-family=\"sans-serif\" font-size=\"11\" lengthAdjust=\"spacingAndGlyphs\" textLength=\"55\" x=\"76\" y=\"355.6479\">attributes</text><line style=\"stroke: #383838; stroke-width: 1.0;\" x1=\"131\" x2=\"141\" y1=\"352.3398\" y2=\"352.3398\"/></a><g id=\"E1.E11\"><a href=\"psysml:fe63b1e8-840a-4f2e-b06a-2ce986f19d03\" target=\"_top\" title=\"psysml:fe63b1e8-840a-4f2e-b06a-2ce986f19d03\" xlink:actuate=\"onRequest\" xlink:href=\"psysml:fe63b1e8-840a-4f2e-b06a-2ce986f19d03\" xlink:show=\"new\" xlink:title=\"psysml:fe63b1e8-840a-4f2e-b06a-2ce986f19d03\" xlink:type=\"simple\"><rect fill=\"#FFFFFF\" height=\"40\" id=\"E11\" rx=\"10\" ry=\"10\" style=\"stroke: #383838; stroke-width: 1.5;\" width=\"77\" x=\"65\" y=\"655\"/><rect fill=\"#F8F8F8\" height=\"23.9688\" rx=\"10\" ry=\"10\" style=\"stroke: #F8F8F8; stroke-width: 1.5;\" width=\"77\" x=\"65\" y=\"655\"/><rect fill=\"#F8F8F8\" height=\"10\" style=\"stroke: #F8F8F8; stroke-width: 1.5;\" width=\"77\" x=\"65\" y=\"668.9688\"/><rect fill=\"none\" height=\"40\" id=\"E11\" rx=\"10\" ry=\"10\" style=\"stroke: #383838; stroke-width: 1.5;\" width=\"77\" x=\"65\" y=\"655\"/><text fill=\"#000000\" font-family=\"sans-serif\" font-size=\"12\" lengthAdjust=\"spacingAndGlyphs\" textLength=\"62\" x=\"70.5\" y=\"671.1387\">y: P= v::q;</text></a></g><!--MD5=[185131fc0dcab0a4505a2ebe144e961b]\n",
       "link E4 to E2--><a href=\"psysml:6495a820-e8c0-4129-af26-6722c3b7b9e6\" target=\"_top\" title=\"psysml:6495a820-e8c0-4129-af26-6722c3b7b9e6\" xlink:actuate=\"onRequest\" xlink:href=\"psysml:6495a820-e8c0-4129-af26-6722c3b7b9e6\" xlink:show=\"new\" xlink:title=\"psysml:6495a820-e8c0-4129-af26-6722c3b7b9e6\" xlink:type=\"simple\"><path d=\"M139.02,507.62 C151.12,501.3 164.34,493.28 175,484 C197.685,464.25 218.025,437.295 232.8325,415.0113 C240.2363,403.8694 246.2569,393.8953 250.4959,386.5736 C251.0258,385.6584 251.5279,384.7846 252.0013,383.9552 C252.238,383.5405 252.4676,383.1368 252.6899,382.7447 C252.801,382.5486 252.9104,382.3553 253.0179,382.165 \" fill=\"none\" id=\"E4-&gt;E2\" style=\"stroke: #383838; stroke-width: 1.0;\"/><polygon fill=\"#FFFFFF\" points=\"253.0179,382.165,237.5778,395.2647,249.7672,402.1508,253.0179,382.165\" style=\"stroke: #383838; stroke-width: 1.0;\"/></a><!--MD5=[2351f337d6de0f557b50152ba70847b5]\n",
       "link E6 to E2--><a href=\"psysml:bd00e4e7-d183-497a-b9f8-56660fc51e3e\" target=\"_top\" title=\"psysml:bd00e4e7-d183-497a-b9f8-56660fc51e3e\" xlink:actuate=\"onRequest\" xlink:href=\"psysml:bd00e4e7-d183-497a-b9f8-56660fc51e3e\" xlink:show=\"new\" xlink:title=\"psysml:bd00e4e7-d183-497a-b9f8-56660fc51e3e\" xlink:type=\"simple\"><path d=\"M119.969,233.1558 C120.0666,233.2125 120.1644,233.2695 120.2625,233.3268 C120.4588,233.4413 120.6564,233.557 120.8551,233.6738 C121.65,234.1409 122.4641,234.6257 123.2951,235.128 C126.6191,237.1373 130.2131,239.4259 133.93,241.9763 C148.7975,252.1775 165.63,266.565 175,284 C182.52,297.99 172.57,343.03 183,355 C185.7175,358.12 188.8694,360.763 192.3106,362.9987 C194.0312,364.1166 195.8241,365.1326 197.6712,366.0556 C197.9021,366.1709 198.1338,366.2848 198.3664,366.3973 C198.4827,366.4536 198.5991,366.5094 198.7158,366.565 \" fill=\"none\" id=\"E6-&gt;E2\" style=\"stroke: #383838; stroke-width: 1.0;\"/><polygon fill=\"#FFFFFF\" points=\"198.7158,366.565,184.5672,352.0799,178.5514,364.7215,198.7158,366.565\" style=\"stroke: #383838; stroke-width: 1.0;\"/></a><!--MD5=[6053718855632bdb306fab0e614cd957]\n",
       "@startuml\r\n",
       "skinparam ranksep 10\r\n",
       "skinparam rectangle {\r\n",
       " backgroundColor<<block>> LightGreen\r\n",
       "}\r\n",
       "left to right direction\r\n",
       "skinparam monochrome true\r\n",
       "skinparam classbackgroundcolor white\r\n",
       "skinparam shadowing false\r\n",
       "skinparam wrapWidth 300\r\n",
       "hide circle\r\n",
       "\r\n",
       "package \"VariabilityTest\" as E1  [[psysml:6e13bc12-600f-4176-9ee3-c77c18f0da6f ]]  {\r\n",
       "rec def \"P\" as E2  <<(T,blue) part def>> [[psysml:a47e4883-53c6-48e5-9729-358fb18738b5 ]] {\r\n",
       "comp usage \"a\" as E3  <<(T,blue) attribute>> [[psysml:af83713f-f16b-4de7-b4a6-ecd5bab1fc22 ]] {\r\n",
       "}\r\n",
       "}\r\n",
       "rec def \"Q\" as E4  <<(T,blue) part def>> [[psysml:64152dcd-188c-4285-9d2f-82b4222731ff ]] {\r\n",
       "}\r\n",
       "def \"B\" as E5  <<(T,blue) attribute def>> [[psysml:6204c3f0-143a-45cc-ac58-9ea86a3a8ea6 ]] \r\n",
       "rec def \"V\" as E6  <<(T,blue) part def>> [[psysml:58826ca2-a740-4eaa-a71e-521b590388a3 ]] {\r\n",
       "comp usage \"x: Q\" as E7  [[psysml:c2df0e2e-5a66-4a2b-abfc-b3b4dd7dd2c5 ]] {\r\n",
       "- - attributes - -\r\n",
       "b: B\\n//:>>P::a// \r\n",
       "}\r\n",
       "}\r\n",
       "rec usage \"q: Q\" as E8  [[psysml:d5aa7800-4c4d-4a74-9f82-8c5d7377a367 ]] {\r\n",
       "}\r\n",
       "rec usage \"v: P\" as E9  [[psysml:d7b3804f-80e3-4381-979e-bf8e2501fba8 ]] {\r\n",
       "comp usage \"q\" as E10  <<(T,blue) reference>> [[psysml:aeeab6cc-3339-44ed-a45c-f65a5d97c376 ]] {\r\n",
       "- - attributes - -\r\n",
       "b: B\\n//:>>P::a// \r\n",
       "}\r\n",
       "}\r\n",
       "rec usage \"y: P= v::q; \" as E11  [[psysml:fe63b1e8-840a-4f2e-b06a-2ce986f19d03 ]] {\r\n",
       "}\r\n",
       "E4 - -|> E2 [[psysml:6495a820-e8c0-4129-af26-6722c3b7b9e6 ]] \r\n",
       "E6 - -|> E2 [[psysml:bd00e4e7-d183-497a-b9f8-56660fc51e3e ]] \r\n",
       "}\r\n",
       "@enduml\r\n",
       "\n",
       "PlantUML version 1.2020.13(Sat Jun 13 12:26:38 UTC 2020)\n",
       "(EPL source distribution)\n",
       "Java Runtime: OpenJDK Runtime Environment\n",
       "JVM: OpenJDK 64-Bit Server VM\n",
       "Default Encoding: UTF-8\n",
       "Language: en\n",
       "Country: null\n",
       "--></g></svg>"
      ]
     },
     "execution_count": 19,
     "metadata": {},
     "output_type": "execute_result"
    }
   ],
   "source": [
    "%viz --style=\"LR\" --view=\"Interconnection\" \"VariabilityTest\""
   ]
  },
  {
   "cell_type": "code",
   "execution_count": 20,
   "id": "85726749",
   "metadata": {
    "execution": {
     "iopub.execute_input": "2021-08-04T06:26:49.482553Z",
     "iopub.status.busy": "2021-08-04T06:26:49.482140Z",
     "iopub.status.idle": "2021-08-04T06:26:49.486503Z",
     "shell.execute_reply": "2021-08-04T06:26:49.486823Z"
    }
   },
   "outputs": [
    {
     "data": {
      "image/svg+xml": [
       "<?xml version=\"1.0\" encoding=\"UTF-8\" standalone=\"no\"?><svg xmlns=\"http://www.w3.org/2000/svg\" xmlns:xlink=\"http://www.w3.org/1999/xlink\" contentScriptType=\"application/ecmascript\" contentStyleType=\"text/css\" height=\"12px\" preserveAspectRatio=\"none\" style=\"width:12px;height:12px;\" version=\"1.1\" viewBox=\"0 0 12 12\" width=\"12px\" zoomAndPan=\"magnify\"><defs/><g><!--MD5=[7aeb398939421629f6affaa4a1a7b125]\n",
       "@startuml\r\n",
       "skinparam ranksep 8\r\n",
       "left to right direction\r\n",
       "skinparam monochrome true\r\n",
       "skinparam classbackgroundcolor white\r\n",
       "skinparam shadowing false\r\n",
       "skinparam wrapWidth 300\r\n",
       "hide circle\r\n",
       "\r\n",
       "@enduml\r\n",
       "\n",
       "PlantUML version 1.2020.13(Sat Jun 13 12:26:38 UTC 2020)\n",
       "(EPL source distribution)\n",
       "Java Runtime: OpenJDK Runtime Environment\n",
       "JVM: OpenJDK 64-Bit Server VM\n",
       "Default Encoding: UTF-8\n",
       "Language: en\n",
       "Country: null\n",
       "--></g></svg>"
      ]
     },
     "execution_count": 20,
     "metadata": {},
     "output_type": "execute_result"
    }
   ],
   "source": [
    "%viz --style=\"LR\" --view=\"Action\" \"VariabilityTest\""
   ]
  },
  {
   "cell_type": "code",
   "execution_count": 21,
   "id": "78c6e3f5",
   "metadata": {
    "execution": {
     "iopub.execute_input": "2021-08-04T06:26:49.537000Z",
     "iopub.status.busy": "2021-08-04T06:26:49.536575Z",
     "iopub.status.idle": "2021-08-04T06:26:49.589690Z",
     "shell.execute_reply": "2021-08-04T06:26:49.588379Z"
    }
   },
   "outputs": [
    {
     "data": {
      "image/svg+xml": [
       "<?xml version=\"1.0\" encoding=\"UTF-8\" standalone=\"no\"?><svg xmlns=\"http://www.w3.org/2000/svg\" xmlns:xlink=\"http://www.w3.org/1999/xlink\" contentScriptType=\"application/ecmascript\" contentStyleType=\"text/css\" height=\"391px\" preserveAspectRatio=\"none\" style=\"width:495px;height:391px;\" version=\"1.1\" viewBox=\"0 0 495 391\" width=\"495px\" zoomAndPan=\"magnify\"><defs/><g><!--MD5=[fbc87193dbaf4d95561dea2c320d4a47]\n",
       "cluster E1--><a href=\"psysml:6e13bc12-600f-4176-9ee3-c77c18f0da6f\" target=\"_top\" title=\"psysml:6e13bc12-600f-4176-9ee3-c77c18f0da6f\" xlink:actuate=\"onRequest\" xlink:href=\"psysml:6e13bc12-600f-4176-9ee3-c77c18f0da6f\" xlink:show=\"new\" xlink:title=\"psysml:6e13bc12-600f-4176-9ee3-c77c18f0da6f\" xlink:type=\"simple\"><polygon fill=\"#FFFFFF\" points=\"16,6,134,6,141,28.2969,473,28.2969,473,379,16,379,16,6\" style=\"stroke: #000000; stroke-width: 1.5;\"/><line style=\"stroke: #000000; stroke-width: 1.5;\" x1=\"16\" x2=\"141\" y1=\"28.2969\" y2=\"28.2969\"/><text fill=\"#000000\" font-family=\"sans-serif\" font-size=\"14\" font-weight=\"bold\" lengthAdjust=\"spacingAndGlyphs\" textLength=\"112\" x=\"20\" y=\"20.9951\">VariabilityTest</text></a><!--MD5=[b4997ac47864f28c2f74865a473b2911]\n",
       "class E2--><a href=\"psysml:a47e4883-53c6-48e5-9729-358fb18738b5\" target=\"_top\" title=\"psysml:a47e4883-53c6-48e5-9729-358fb18738b5\" xlink:actuate=\"onRequest\" xlink:href=\"psysml:a47e4883-53c6-48e5-9729-358fb18738b5\" xlink:show=\"new\" xlink:title=\"psysml:a47e4883-53c6-48e5-9729-358fb18738b5\" xlink:type=\"simple\"><rect fill=\"#FFFFFF\" height=\"75.5469\" id=\"E2\" style=\"stroke: #383838; stroke-width: 1.5;\" width=\"66\" x=\"385.5\" y=\"164\"/><text fill=\"#000000\" font-family=\"sans-serif\" font-size=\"12\" font-style=\"italic\" lengthAdjust=\"spacingAndGlyphs\" textLength=\"64\" x=\"386.5\" y=\"180.1387\">«part def»</text><text fill=\"#000000\" font-family=\"sans-serif\" font-size=\"12\" lengthAdjust=\"spacingAndGlyphs\" textLength=\"8\" x=\"414.5\" y=\"194.1074\">P</text><line style=\"stroke: #383838; stroke-width: 1.5;\" x1=\"386.5\" x2=\"450.5\" y1=\"201.9375\" y2=\"201.9375\"/><text fill=\"#000000\" font-family=\"sans-serif\" font-size=\"11\" lengthAdjust=\"spacingAndGlyphs\" textLength=\"7\" x=\"391.5\" y=\"232.9526\">a</text><line style=\"stroke: #383838; stroke-width: 1.0;\" x1=\"386.5\" x2=\"391\" y1=\"216.3398\" y2=\"216.3398\"/><text fill=\"#000000\" font-family=\"sans-serif\" font-size=\"11\" lengthAdjust=\"spacingAndGlyphs\" textLength=\"55\" x=\"391\" y=\"219.6479\">attributes</text><line style=\"stroke: #383838; stroke-width: 1.0;\" x1=\"446\" x2=\"450.5\" y1=\"216.3398\" y2=\"216.3398\"/></a><!--MD5=[09b614a08d8cba4a07c9adeb5e0fee81]\n",
       "class E3--><a href=\"psysml:64152dcd-188c-4285-9d2f-82b4222731ff\" target=\"_top\" title=\"psysml:64152dcd-188c-4285-9d2f-82b4222731ff\" xlink:actuate=\"onRequest\" xlink:href=\"psysml:64152dcd-188c-4285-9d2f-82b4222731ff\" xlink:show=\"new\" xlink:title=\"psysml:64152dcd-188c-4285-9d2f-82b4222731ff\" xlink:type=\"simple\"><rect fill=\"#FFFFFF\" height=\"45.9375\" id=\"E3\" style=\"stroke: #383838; stroke-width: 1.5;\" width=\"66\" x=\"190\" y=\"215\"/><text fill=\"#000000\" font-family=\"sans-serif\" font-size=\"12\" font-style=\"italic\" lengthAdjust=\"spacingAndGlyphs\" textLength=\"64\" x=\"191\" y=\"231.1387\">«part def»</text><text fill=\"#000000\" font-family=\"sans-serif\" font-size=\"12\" lengthAdjust=\"spacingAndGlyphs\" textLength=\"9\" x=\"218.5\" y=\"245.1074\">Q</text><line style=\"stroke: #383838; stroke-width: 1.5;\" x1=\"191\" x2=\"255\" y1=\"252.9375\" y2=\"252.9375\"/></a><!--MD5=[ebbe1d658d1005bcc118a6aa81145e00]\n",
       "class E4--><a href=\"psysml:6204c3f0-143a-45cc-ac58-9ea86a3a8ea6\" target=\"_top\" title=\"psysml:6204c3f0-143a-45cc-ac58-9ea86a3a8ea6\" xlink:actuate=\"onRequest\" xlink:href=\"psysml:6204c3f0-143a-45cc-ac58-9ea86a3a8ea6\" xlink:show=\"new\" xlink:title=\"psysml:6204c3f0-143a-45cc-ac58-9ea86a3a8ea6\" xlink:type=\"simple\"><rect fill=\"#FFFFFF\" height=\"45.9375\" id=\"E4\" style=\"stroke: #383838; stroke-width: 1.5;\" width=\"95\" x=\"32\" y=\"84\"/><text fill=\"#000000\" font-family=\"sans-serif\" font-size=\"12\" font-style=\"italic\" lengthAdjust=\"spacingAndGlyphs\" textLength=\"93\" x=\"33\" y=\"100.1387\">«attribute def»</text><text fill=\"#000000\" font-family=\"sans-serif\" font-size=\"12\" lengthAdjust=\"spacingAndGlyphs\" textLength=\"8\" x=\"75.5\" y=\"114.1074\">B</text><line style=\"stroke: #383838; stroke-width: 1.5;\" x1=\"33\" x2=\"126\" y1=\"121.9375\" y2=\"121.9375\"/></a><!--MD5=[270fce915f116d4de14055a7c1d9a0f3]\n",
       "class E5--><a href=\"psysml:58826ca2-a740-4eaa-a71e-521b590388a3\" target=\"_top\" title=\"psysml:58826ca2-a740-4eaa-a71e-521b590388a3\" xlink:actuate=\"onRequest\" xlink:href=\"psysml:58826ca2-a740-4eaa-a71e-521b590388a3\" xlink:show=\"new\" xlink:title=\"psysml:58826ca2-a740-4eaa-a71e-521b590388a3\" xlink:type=\"simple\"><rect fill=\"#FFFFFF\" height=\"45.9375\" id=\"E5\" style=\"stroke: #383838; stroke-width: 1.5;\" width=\"66\" x=\"190\" y=\"53\"/><text fill=\"#000000\" font-family=\"sans-serif\" font-size=\"12\" font-style=\"italic\" lengthAdjust=\"spacingAndGlyphs\" textLength=\"64\" x=\"191\" y=\"69.1387\">«part def»</text><text fill=\"#000000\" font-family=\"sans-serif\" font-size=\"12\" lengthAdjust=\"spacingAndGlyphs\" textLength=\"8\" x=\"219\" y=\"83.1074\">V</text><line style=\"stroke: #383838; stroke-width: 1.5;\" x1=\"191\" x2=\"255\" y1=\"90.9375\" y2=\"90.9375\"/></a><!--MD5=[60a26617385b1d2d0262a64233df1f8d]\n",
       "class E6--><a href=\"psysml:c2df0e2e-5a66-4a2b-abfc-b3b4dd7dd2c5\" target=\"_top\" title=\"psysml:c2df0e2e-5a66-4a2b-abfc-b3b4dd7dd2c5\" xlink:actuate=\"onRequest\" xlink:href=\"psysml:c2df0e2e-5a66-4a2b-abfc-b3b4dd7dd2c5\" xlink:show=\"new\" xlink:title=\"psysml:c2df0e2e-5a66-4a2b-abfc-b3b4dd7dd2c5\" xlink:type=\"simple\"><rect fill=\"#FFFFFF\" height=\"88.3516\" id=\"E6\" rx=\"10\" ry=\"10\" style=\"stroke: #383838; stroke-width: 1.5;\" width=\"63\" x=\"387\" y=\"41\"/><text fill=\"#000000\" font-family=\"sans-serif\" font-size=\"12\" font-style=\"italic\" lengthAdjust=\"spacingAndGlyphs\" textLength=\"40\" x=\"398.5\" y=\"57.1387\">«part»</text><text fill=\"#000000\" font-family=\"sans-serif\" font-size=\"12\" lengthAdjust=\"spacingAndGlyphs\" textLength=\"23\" x=\"407\" y=\"71.1074\">x: Q</text><line style=\"stroke: #383838; stroke-width: 1.5;\" x1=\"388\" x2=\"449\" y1=\"78.9375\" y2=\"78.9375\"/><text fill=\"#000000\" font-family=\"sans-serif\" font-size=\"11\" lengthAdjust=\"spacingAndGlyphs\" textLength=\"23\" x=\"393\" y=\"109.9526\">b: B</text><text fill=\"#000000\" font-family=\"sans-serif\" font-size=\"11\" font-style=\"italic\" lengthAdjust=\"spacingAndGlyphs\" textLength=\"44\" x=\"393\" y=\"122.7573\">:&gt;&gt;P::a</text><line style=\"stroke: #383838; stroke-width: 1.0;\" x1=\"388\" x2=\"391\" y1=\"93.3398\" y2=\"93.3398\"/><text fill=\"#000000\" font-family=\"sans-serif\" font-size=\"11\" lengthAdjust=\"spacingAndGlyphs\" textLength=\"55\" x=\"391\" y=\"96.6479\">attributes</text><line style=\"stroke: #383838; stroke-width: 1.0;\" x1=\"446\" x2=\"449\" y1=\"93.3398\" y2=\"93.3398\"/></a><!--MD5=[2156ba9850f5573cc1fc38a6a4b2f02b]\n",
       "class E7--><a href=\"psysml:d5aa7800-4c4d-4a74-9f82-8c5d7377a367\" target=\"_top\" title=\"psysml:d5aa7800-4c4d-4a74-9f82-8c5d7377a367\" xlink:actuate=\"onRequest\" xlink:href=\"psysml:d5aa7800-4c4d-4a74-9f82-8c5d7377a367\" xlink:show=\"new\" xlink:title=\"psysml:d5aa7800-4c4d-4a74-9f82-8c5d7377a367\" xlink:type=\"simple\"><rect fill=\"#FFFFFF\" height=\"45.9375\" id=\"E7\" rx=\"10\" ry=\"10\" style=\"stroke: #383838; stroke-width: 1.5;\" width=\"42\" x=\"58.5\" y=\"215\"/><text fill=\"#000000\" font-family=\"sans-serif\" font-size=\"12\" font-style=\"italic\" lengthAdjust=\"spacingAndGlyphs\" textLength=\"40\" x=\"59.5\" y=\"231.1387\">«part»</text><text fill=\"#000000\" font-family=\"sans-serif\" font-size=\"12\" lengthAdjust=\"spacingAndGlyphs\" textLength=\"25\" x=\"67\" y=\"245.1074\">q: Q</text><line style=\"stroke: #383838; stroke-width: 1.5;\" x1=\"59.5\" x2=\"99.5\" y1=\"252.9375\" y2=\"252.9375\"/></a><!--MD5=[b9389687b975829384b498ac4b7476b2]\n",
       "class E8--><a href=\"psysml:d7b3804f-80e3-4381-979e-bf8e2501fba8\" target=\"_top\" title=\"psysml:d7b3804f-80e3-4381-979e-bf8e2501fba8\" xlink:actuate=\"onRequest\" xlink:href=\"psysml:d7b3804f-80e3-4381-979e-bf8e2501fba8\" xlink:show=\"new\" xlink:title=\"psysml:d7b3804f-80e3-4381-979e-bf8e2501fba8\" xlink:type=\"simple\"><rect fill=\"#FFFFFF\" height=\"59.9063\" id=\"E8\" rx=\"10\" ry=\"10\" style=\"stroke: #383838; stroke-width: 1.5;\" width=\"70\" x=\"188\" y=\"296\"/><text fill=\"#000000\" font-family=\"sans-serif\" font-size=\"12\" font-style=\"italic\" lengthAdjust=\"spacingAndGlyphs\" textLength=\"68\" x=\"189\" y=\"312.1387\">«variation»</text><text fill=\"#000000\" font-family=\"sans-serif\" font-size=\"12\" font-style=\"italic\" lengthAdjust=\"spacingAndGlyphs\" textLength=\"40\" x=\"203\" y=\"326.1074\">«part»</text><text fill=\"#000000\" font-family=\"sans-serif\" font-size=\"12\" lengthAdjust=\"spacingAndGlyphs\" textLength=\"22\" x=\"212\" y=\"340.0762\">v: P</text><line style=\"stroke: #383838; stroke-width: 1.5;\" x1=\"189\" x2=\"257\" y1=\"347.9063\" y2=\"347.9063\"/></a><!--MD5=[fd4143e9d270a159db93a4ea2a975926]\n",
       "class E9--><a href=\"psysml:aeeab6cc-3339-44ed-a45c-f65a5d97c376\" target=\"_top\" title=\"psysml:aeeab6cc-3339-44ed-a45c-f65a5d97c376\" xlink:actuate=\"onRequest\" xlink:href=\"psysml:aeeab6cc-3339-44ed-a45c-f65a5d97c376\" xlink:show=\"new\" xlink:title=\"psysml:aeeab6cc-3339-44ed-a45c-f65a5d97c376\" xlink:type=\"simple\"><rect fill=\"#FFFFFF\" height=\"88.3516\" id=\"E9\" rx=\"10\" ry=\"10\" style=\"stroke: #383838; stroke-width: 1.5;\" width=\"77\" x=\"380\" y=\"275\"/><text fill=\"#000000\" font-family=\"sans-serif\" font-size=\"12\" font-style=\"italic\" lengthAdjust=\"spacingAndGlyphs\" textLength=\"75\" x=\"381\" y=\"291.1387\">«reference»</text><text fill=\"#000000\" font-family=\"sans-serif\" font-size=\"12\" lengthAdjust=\"spacingAndGlyphs\" textLength=\"8\" x=\"414.5\" y=\"305.1074\">q</text><line style=\"stroke: #383838; stroke-width: 1.5;\" x1=\"381\" x2=\"456\" y1=\"312.9375\" y2=\"312.9375\"/><text fill=\"#000000\" font-family=\"sans-serif\" font-size=\"11\" lengthAdjust=\"spacingAndGlyphs\" textLength=\"23\" x=\"386\" y=\"343.9526\">b: B</text><text fill=\"#000000\" font-family=\"sans-serif\" font-size=\"11\" font-style=\"italic\" lengthAdjust=\"spacingAndGlyphs\" textLength=\"44\" x=\"386\" y=\"356.7573\">:&gt;&gt;P::a</text><line style=\"stroke: #383838; stroke-width: 1.0;\" x1=\"381\" x2=\"391\" y1=\"327.3398\" y2=\"327.3398\"/><text fill=\"#000000\" font-family=\"sans-serif\" font-size=\"11\" lengthAdjust=\"spacingAndGlyphs\" textLength=\"55\" x=\"391\" y=\"330.6479\">attributes</text><line style=\"stroke: #383838; stroke-width: 1.0;\" x1=\"446\" x2=\"456\" y1=\"327.3398\" y2=\"327.3398\"/></a><!--MD5=[96f4274e9e20536e775497830990834d]\n",
       "class E10--><a href=\"psysml:fe63b1e8-840a-4f2e-b06a-2ce986f19d03\" target=\"_top\" title=\"psysml:fe63b1e8-840a-4f2e-b06a-2ce986f19d03\" xlink:actuate=\"onRequest\" xlink:href=\"psysml:fe63b1e8-840a-4f2e-b06a-2ce986f19d03\" xlink:show=\"new\" xlink:title=\"psysml:fe63b1e8-840a-4f2e-b06a-2ce986f19d03\" xlink:type=\"simple\"><rect fill=\"#FFFFFF\" height=\"45.9375\" id=\"E10\" rx=\"10\" ry=\"10\" style=\"stroke: #383838; stroke-width: 1.5;\" width=\"42\" x=\"202\" y=\"134\"/><text fill=\"#000000\" font-family=\"sans-serif\" font-size=\"12\" font-style=\"italic\" lengthAdjust=\"spacingAndGlyphs\" textLength=\"40\" x=\"203\" y=\"150.1387\">«part»</text><text fill=\"#000000\" font-family=\"sans-serif\" font-size=\"12\" lengthAdjust=\"spacingAndGlyphs\" textLength=\"22\" x=\"212\" y=\"164.1074\">y: P</text><line style=\"stroke: #383838; stroke-width: 1.5;\" x1=\"203\" x2=\"243\" y1=\"171.9375\" y2=\"171.9375\"/></a><!--MD5=[05d275557350bfb9b23a4ef7222b4c39]\n",
       "link E3 to E2--><a href=\"psysml:6495a820-e8c0-4129-af26-6722c3b7b9e6\" target=\"_top\" title=\"psysml:6495a820-e8c0-4129-af26-6722c3b7b9e6\" xlink:actuate=\"onRequest\" xlink:href=\"psysml:6495a820-e8c0-4129-af26-6722c3b7b9e6\" xlink:show=\"new\" xlink:title=\"psysml:6495a820-e8c0-4129-af26-6722c3b7b9e6\" xlink:type=\"simple\"><path d=\"M256.39,231.97 C286.06,226.45 330.5,218.19 365.2,211.73 \" fill=\"none\" id=\"E3-&gt;E2\" style=\"stroke: #383838; stroke-width: 1.0;\"/><polygon fill=\"none\" points=\"364.39,204.76,385.33,207.99,366.95,218.53,364.39,204.76\" style=\"stroke: #383838; stroke-width: 1.0;\"/></a><!--MD5=[15ebcb19ae302d9b601edb458606d402]\n",
       "link E5 to E2--><a href=\"psysml:bd00e4e7-d183-497a-b9f8-56660fc51e3e\" target=\"_top\" title=\"psysml:bd00e4e7-d183-497a-b9f8-56660fc51e3e\" xlink:actuate=\"onRequest\" xlink:href=\"psysml:bd00e4e7-d183-497a-b9f8-56660fc51e3e\" xlink:show=\"new\" xlink:title=\"psysml:bd00e4e7-d183-497a-b9f8-56660fc51e3e\" xlink:type=\"simple\"><path d=\"M256.39,97.09 C286.9,116.96 333.03,147 368.13,169.85 \" fill=\"none\" id=\"E5-&gt;E2\" style=\"stroke: #383838; stroke-width: 1.0;\"/><polygon fill=\"none\" points=\"372.39,164.27,385.33,181.05,364.75,176,372.39,164.27\" style=\"stroke: #383838; stroke-width: 1.0;\"/></a><!--MD5=[9120cf2e5df3bff93db8f754bbbc09b4]\n",
       "link E5 to E6--><a href=\"psysml:3ec706da-d65f-4ef5-8a1f-1e1b5df7e7c6\" target=\"_top\" title=\"psysml:3ec706da-d65f-4ef5-8a1f-1e1b5df7e7c6\" xlink:actuate=\"onRequest\" xlink:href=\"psysml:3ec706da-d65f-4ef5-8a1f-1e1b5df7e7c6\" xlink:show=\"new\" xlink:title=\"psysml:3ec706da-d65f-4ef5-8a1f-1e1b5df7e7c6\" xlink:type=\"simple\"><path d=\"M266.69,77.99 C299.54,79.51 344.62,81.61 376.92,83.11 \" fill=\"none\" id=\"E5-E6\" style=\"stroke: #383838; stroke-width: 1.0;\"/><polygon fill=\"#383838\" points=\"386.92,83.58,379.0704,80.2061,378.7874,86.1994,386.92,83.58\" style=\"stroke: #383838; stroke-width: 1.0;\"/><path d=\"M259.0665,86.1028 A9,9 0 0 0 259.863 69.2071\" fill=\"none\" style=\"stroke: #383838; stroke-width: 1.5;\"/><text fill=\"#000000\" font-family=\"sans-serif\" font-size=\"13\" lengthAdjust=\"spacingAndGlyphs\" textLength=\"60\" x=\"289\" y=\"76.0669\">«variant»</text></a><!--MD5=[14ccda38c055a5c0da953d572bc50960]\n",
       "link E7 to E3--><a href=\"psysml:9cf32953-475b-4011-b1f8-e7f09d5ce449\" target=\"_top\" title=\"psysml:9cf32953-475b-4011-b1f8-e7f09d5ce449\" xlink:actuate=\"onRequest\" xlink:href=\"psysml:9cf32953-475b-4011-b1f8-e7f09d5ce449\" xlink:show=\"new\" xlink:title=\"psysml:9cf32953-475b-4011-b1f8-e7f09d5ce449\" xlink:type=\"simple\"><path d=\"M100.77,238 C118.65,238 145.5,238 169.39,238 \" fill=\"none\" id=\"E7-&gt;E3\" style=\"stroke: #383838; stroke-width: 1.0;\"/><polygon fill=\"#FFFFFF\" points=\"189.74,238,170.74,245,170.74,231,189.74,238\" style=\"stroke: #383838; stroke-width: 1.0;\"/><ellipse cx=\"165.04\" cy=\"243\" fill=\"#383838\" rx=\"2\" ry=\"2\" style=\"stroke: #383838; stroke-width: 1.0;\"/><ellipse cx=\"165.04\" cy=\"233\" fill=\"#383838\" rx=\"2\" ry=\"2\" style=\"stroke: #383838; stroke-width: 1.0;\"/></a><!--MD5=[f1f3f9f2fc535e6147756cb86a7f2e32]\n",
       "link E8 to E2--><a href=\"psysml:d1a9bfbc-b159-49c1-a5ca-956a4881ee49\" target=\"_top\" title=\"psysml:d1a9bfbc-b159-49c1-a5ca-956a4881ee49\" xlink:actuate=\"onRequest\" xlink:href=\"psysml:d1a9bfbc-b159-49c1-a5ca-956a4881ee49\" xlink:show=\"new\" xlink:title=\"psysml:d1a9bfbc-b159-49c1-a5ca-956a4881ee49\" xlink:type=\"simple\"><path d=\"M258.15,304.12 C288.73,284.52 333.94,255.55 368.39,233.47 \" fill=\"none\" id=\"E8-&gt;E2\" style=\"stroke: #383838; stroke-width: 1.0;\"/><polygon fill=\"#FFFFFF\" points=\"385.3,222.63,373.0842,238.7785,365.5272,226.9932,385.3,222.63\" style=\"stroke: #383838; stroke-width: 1.0;\"/><ellipse cx=\"367.2063\" cy=\"240.1717\" fill=\"#383838\" rx=\"2\" ry=\"2\" style=\"stroke: #383838; stroke-width: 1.0;\"/><ellipse cx=\"361.8085\" cy=\"231.7536\" fill=\"#383838\" rx=\"2\" ry=\"2\" style=\"stroke: #383838; stroke-width: 1.0;\"/></a><!--MD5=[ed10624c06dd9a4fa49ccf290e8b16a8]\n",
       "link E8 to E9--><a href=\"psysml:4574f674-7c12-4143-bfb7-6a6844a72e64\" target=\"_top\" title=\"psysml:4574f674-7c12-4143-bfb7-6a6844a72e64\" xlink:actuate=\"onRequest\" xlink:href=\"psysml:4574f674-7c12-4143-bfb7-6a6844a72e64\" xlink:show=\"new\" xlink:title=\"psysml:4574f674-7c12-4143-bfb7-6a6844a72e64\" xlink:type=\"simple\"><path d=\"M268.18,324.4 C298.44,323.31 338.55,321.86 369.58,320.73 \" fill=\"none\" id=\"E8-E9\" style=\"stroke: #383838; stroke-width: 1.0;\"/><polygon fill=\"#383838\" points=\"379.72,320.37,371.6142,317.669,371.8369,323.6649,379.72,320.37\" style=\"stroke: #383838; stroke-width: 1.0;\"/><path d=\"M261.5285,333.1018 A9,9 0 0 0 260.9239 316.1981\" fill=\"none\" style=\"stroke: #383838; stroke-width: 1.5;\"/><text fill=\"#000000\" font-family=\"sans-serif\" font-size=\"13\" lengthAdjust=\"spacingAndGlyphs\" textLength=\"60\" x=\"289\" y=\"318.0669\">«variant»</text></a><!--MD5=[0f36bececdf0dff6e600d6f64214b0f1]\n",
       "link E10 to E2--><a href=\"psysml:bd829215-07d4-45cb-8fe9-60748d4dd682\" target=\"_top\" title=\"psysml:bd829215-07d4-45cb-8fe9-60748d4dd682\" xlink:actuate=\"onRequest\" xlink:href=\"psysml:bd829215-07d4-45cb-8fe9-60748d4dd682\" xlink:show=\"new\" xlink:title=\"psysml:bd829215-07d4-45cb-8fe9-60748d4dd682\" xlink:type=\"simple\"><path d=\"M244.34,161.73 C272.87,168.36 325.72,180.66 365.56,189.92 \" fill=\"none\" id=\"E10-&gt;E2\" style=\"stroke: #383838; stroke-width: 1.0;\"/><polygon fill=\"#FFFFFF\" points=\"385.28,194.51,365.1886,197.0272,368.3578,183.3907,385.28,194.51\" style=\"stroke: #383838; stroke-width: 1.0;\"/><ellipse cx=\"360.0893\" cy=\"193.7888\" fill=\"#383838\" rx=\"2\" ry=\"2\" style=\"stroke: #383838; stroke-width: 1.0;\"/><ellipse cx=\"362.353\" cy=\"184.0484\" fill=\"#383838\" rx=\"2\" ry=\"2\" style=\"stroke: #383838; stroke-width: 1.0;\"/></a><!--MD5=[4b969c1f7867a8070edec865e4974ca4]\n",
       "@startuml\r\n",
       "left to right direction\r\n",
       "skinparam monochrome true\r\n",
       "skinparam classbackgroundcolor white\r\n",
       "skinparam shadowing false\r\n",
       "skinparam wrapWidth 300\r\n",
       "hide circle\r\n",
       "\r\n",
       "package \"VariabilityTest\" as E1  [[psysml:6e13bc12-600f-4176-9ee3-c77c18f0da6f ]]  {\r\n",
       "comp def \"P\" as E2  <<(T,blue) part def>> [[psysml:a47e4883-53c6-48e5-9729-358fb18738b5 ]] {\r\n",
       "- - attributes - -\r\n",
       "a\r\n",
       "}\r\n",
       "comp def \"Q\" as E3  <<(T,blue) part def>> [[psysml:64152dcd-188c-4285-9d2f-82b4222731ff ]] {\r\n",
       "}\r\n",
       "comp def \"B\" as E4  <<(T,blue) attribute def>> [[psysml:6204c3f0-143a-45cc-ac58-9ea86a3a8ea6 ]] {\r\n",
       "}\r\n",
       "comp def \"V\" as E5  <<(T,blue) part def>> [[psysml:58826ca2-a740-4eaa-a71e-521b590388a3 ]] {\r\n",
       "}\r\n",
       "comp usage \"x: Q\" as E6  <<(T,blue) part>> [[psysml:c2df0e2e-5a66-4a2b-abfc-b3b4dd7dd2c5 ]] {\r\n",
       "- - attributes - -\r\n",
       "b: B\\n//:>>P::a// \r\n",
       "}\r\n",
       "comp usage \"q: Q\" as E7  <<(T,blue) part>> [[psysml:d5aa7800-4c4d-4a74-9f82-8c5d7377a367 ]] {\r\n",
       "}\r\n",
       "comp usage \"v: P\" as E8  <<variation>>\\n <<(T,blue) part>> [[psysml:d7b3804f-80e3-4381-979e-bf8e2501fba8 ]] {\r\n",
       "}\r\n",
       "comp usage \"q\" as E9  <<(T,blue) reference>> [[psysml:aeeab6cc-3339-44ed-a45c-f65a5d97c376 ]] {\r\n",
       "- - attributes - -\r\n",
       "b: B\\n//:>>P::a// \r\n",
       "}\r\n",
       "comp usage \"y: P\" as E10  <<(T,blue) part>> [[psysml:fe63b1e8-840a-4f2e-b06a-2ce986f19d03 ]] {\r\n",
       "}\r\n",
       "E3 - -|> E2 [[psysml:6495a820-e8c0-4129-af26-6722c3b7b9e6 ]] \r\n",
       "E5 - -|> E2 [[psysml:bd00e4e7-d183-497a-b9f8-56660fc51e3e ]] \r\n",
       "E5 )- ->> E6 [[psysml:3ec706da-d65f-4ef5-8a1f-1e1b5df7e7c6 ]] : <<variant>>\r\n",
       "E7 - -:|> E3 [[psysml:9cf32953-475b-4011-b1f8-e7f09d5ce449 ]] \r\n",
       "E8 - -:|> E2 [[psysml:d1a9bfbc-b159-49c1-a5ca-956a4881ee49 ]] \r\n",
       "E8 )- ->> E9 [[psysml:4574f674-7c12-4143-bfb7-6a6844a72e64 ]] : <<variant>>\r\n",
       "E10 - -:|> E2 [[psysml:bd829215-07d4-45cb-8fe9-60748d4dd682 ]] \r\n",
       "}\r\n",
       "@enduml\r\n",
       "\n",
       "PlantUML version 1.2020.13(Sat Jun 13 12:26:38 UTC 2020)\n",
       "(EPL source distribution)\n",
       "Java Runtime: OpenJDK Runtime Environment\n",
       "JVM: OpenJDK 64-Bit Server VM\n",
       "Default Encoding: UTF-8\n",
       "Language: en\n",
       "Country: null\n",
       "--></g></svg>"
      ]
     },
     "execution_count": 21,
     "metadata": {},
     "output_type": "execute_result"
    }
   ],
   "source": [
    "%viz --style=\"LR\" --view=\"Sequence\" \"VariabilityTest\""
   ]
  },
  {
   "cell_type": "code",
   "execution_count": 22,
   "id": "bb84817b",
   "metadata": {
    "execution": {
     "iopub.execute_input": "2021-08-04T06:26:49.639297Z",
     "iopub.status.busy": "2021-08-04T06:26:49.638893Z",
     "iopub.status.idle": "2021-08-04T06:26:49.700464Z",
     "shell.execute_reply": "2021-08-04T06:26:49.698888Z"
    }
   },
   "outputs": [
    {
     "data": {
      "image/svg+xml": [
       "<?xml version=\"1.0\" encoding=\"UTF-8\" standalone=\"no\"?><svg xmlns=\"http://www.w3.org/2000/svg\" xmlns:xlink=\"http://www.w3.org/1999/xlink\" contentScriptType=\"application/ecmascript\" contentStyleType=\"text/css\" height=\"391px\" preserveAspectRatio=\"none\" style=\"width:495px;height:391px;\" version=\"1.1\" viewBox=\"0 0 495 391\" width=\"495px\" zoomAndPan=\"magnify\"><defs/><g><!--MD5=[fbc87193dbaf4d95561dea2c320d4a47]\n",
       "cluster E1--><a href=\"psysml:6e13bc12-600f-4176-9ee3-c77c18f0da6f\" target=\"_top\" title=\"psysml:6e13bc12-600f-4176-9ee3-c77c18f0da6f\" xlink:actuate=\"onRequest\" xlink:href=\"psysml:6e13bc12-600f-4176-9ee3-c77c18f0da6f\" xlink:show=\"new\" xlink:title=\"psysml:6e13bc12-600f-4176-9ee3-c77c18f0da6f\" xlink:type=\"simple\"><polygon fill=\"#FFFFFF\" points=\"16,6,134,6,141,28.2969,473,28.2969,473,379,16,379,16,6\" style=\"stroke: #000000; stroke-width: 1.5;\"/><line style=\"stroke: #000000; stroke-width: 1.5;\" x1=\"16\" x2=\"141\" y1=\"28.2969\" y2=\"28.2969\"/><text fill=\"#000000\" font-family=\"sans-serif\" font-size=\"14\" font-weight=\"bold\" lengthAdjust=\"spacingAndGlyphs\" textLength=\"112\" x=\"20\" y=\"20.9951\">VariabilityTest</text></a><!--MD5=[b4997ac47864f28c2f74865a473b2911]\n",
       "class E2--><a href=\"psysml:a47e4883-53c6-48e5-9729-358fb18738b5\" target=\"_top\" title=\"psysml:a47e4883-53c6-48e5-9729-358fb18738b5\" xlink:actuate=\"onRequest\" xlink:href=\"psysml:a47e4883-53c6-48e5-9729-358fb18738b5\" xlink:show=\"new\" xlink:title=\"psysml:a47e4883-53c6-48e5-9729-358fb18738b5\" xlink:type=\"simple\"><rect fill=\"#FFFFFF\" height=\"75.5469\" id=\"E2\" style=\"stroke: #383838; stroke-width: 1.5;\" width=\"66\" x=\"385.5\" y=\"164\"/><text fill=\"#000000\" font-family=\"sans-serif\" font-size=\"12\" font-style=\"italic\" lengthAdjust=\"spacingAndGlyphs\" textLength=\"64\" x=\"386.5\" y=\"180.1387\">«part def»</text><text fill=\"#000000\" font-family=\"sans-serif\" font-size=\"12\" lengthAdjust=\"spacingAndGlyphs\" textLength=\"8\" x=\"414.5\" y=\"194.1074\">P</text><line style=\"stroke: #383838; stroke-width: 1.5;\" x1=\"386.5\" x2=\"450.5\" y1=\"201.9375\" y2=\"201.9375\"/><text fill=\"#000000\" font-family=\"sans-serif\" font-size=\"11\" lengthAdjust=\"spacingAndGlyphs\" textLength=\"7\" x=\"391.5\" y=\"232.9526\">a</text><line style=\"stroke: #383838; stroke-width: 1.0;\" x1=\"386.5\" x2=\"391\" y1=\"216.3398\" y2=\"216.3398\"/><text fill=\"#000000\" font-family=\"sans-serif\" font-size=\"11\" lengthAdjust=\"spacingAndGlyphs\" textLength=\"55\" x=\"391\" y=\"219.6479\">attributes</text><line style=\"stroke: #383838; stroke-width: 1.0;\" x1=\"446\" x2=\"450.5\" y1=\"216.3398\" y2=\"216.3398\"/></a><!--MD5=[09b614a08d8cba4a07c9adeb5e0fee81]\n",
       "class E3--><a href=\"psysml:64152dcd-188c-4285-9d2f-82b4222731ff\" target=\"_top\" title=\"psysml:64152dcd-188c-4285-9d2f-82b4222731ff\" xlink:actuate=\"onRequest\" xlink:href=\"psysml:64152dcd-188c-4285-9d2f-82b4222731ff\" xlink:show=\"new\" xlink:title=\"psysml:64152dcd-188c-4285-9d2f-82b4222731ff\" xlink:type=\"simple\"><rect fill=\"#FFFFFF\" height=\"45.9375\" id=\"E3\" style=\"stroke: #383838; stroke-width: 1.5;\" width=\"66\" x=\"190\" y=\"215\"/><text fill=\"#000000\" font-family=\"sans-serif\" font-size=\"12\" font-style=\"italic\" lengthAdjust=\"spacingAndGlyphs\" textLength=\"64\" x=\"191\" y=\"231.1387\">«part def»</text><text fill=\"#000000\" font-family=\"sans-serif\" font-size=\"12\" lengthAdjust=\"spacingAndGlyphs\" textLength=\"9\" x=\"218.5\" y=\"245.1074\">Q</text><line style=\"stroke: #383838; stroke-width: 1.5;\" x1=\"191\" x2=\"255\" y1=\"252.9375\" y2=\"252.9375\"/></a><!--MD5=[ebbe1d658d1005bcc118a6aa81145e00]\n",
       "class E4--><a href=\"psysml:6204c3f0-143a-45cc-ac58-9ea86a3a8ea6\" target=\"_top\" title=\"psysml:6204c3f0-143a-45cc-ac58-9ea86a3a8ea6\" xlink:actuate=\"onRequest\" xlink:href=\"psysml:6204c3f0-143a-45cc-ac58-9ea86a3a8ea6\" xlink:show=\"new\" xlink:title=\"psysml:6204c3f0-143a-45cc-ac58-9ea86a3a8ea6\" xlink:type=\"simple\"><rect fill=\"#FFFFFF\" height=\"45.9375\" id=\"E4\" style=\"stroke: #383838; stroke-width: 1.5;\" width=\"95\" x=\"32\" y=\"84\"/><text fill=\"#000000\" font-family=\"sans-serif\" font-size=\"12\" font-style=\"italic\" lengthAdjust=\"spacingAndGlyphs\" textLength=\"93\" x=\"33\" y=\"100.1387\">«attribute def»</text><text fill=\"#000000\" font-family=\"sans-serif\" font-size=\"12\" lengthAdjust=\"spacingAndGlyphs\" textLength=\"8\" x=\"75.5\" y=\"114.1074\">B</text><line style=\"stroke: #383838; stroke-width: 1.5;\" x1=\"33\" x2=\"126\" y1=\"121.9375\" y2=\"121.9375\"/></a><!--MD5=[270fce915f116d4de14055a7c1d9a0f3]\n",
       "class E5--><a href=\"psysml:58826ca2-a740-4eaa-a71e-521b590388a3\" target=\"_top\" title=\"psysml:58826ca2-a740-4eaa-a71e-521b590388a3\" xlink:actuate=\"onRequest\" xlink:href=\"psysml:58826ca2-a740-4eaa-a71e-521b590388a3\" xlink:show=\"new\" xlink:title=\"psysml:58826ca2-a740-4eaa-a71e-521b590388a3\" xlink:type=\"simple\"><rect fill=\"#FFFFFF\" height=\"45.9375\" id=\"E5\" style=\"stroke: #383838; stroke-width: 1.5;\" width=\"66\" x=\"190\" y=\"53\"/><text fill=\"#000000\" font-family=\"sans-serif\" font-size=\"12\" font-style=\"italic\" lengthAdjust=\"spacingAndGlyphs\" textLength=\"64\" x=\"191\" y=\"69.1387\">«part def»</text><text fill=\"#000000\" font-family=\"sans-serif\" font-size=\"12\" lengthAdjust=\"spacingAndGlyphs\" textLength=\"8\" x=\"219\" y=\"83.1074\">V</text><line style=\"stroke: #383838; stroke-width: 1.5;\" x1=\"191\" x2=\"255\" y1=\"90.9375\" y2=\"90.9375\"/></a><!--MD5=[60a26617385b1d2d0262a64233df1f8d]\n",
       "class E6--><a href=\"psysml:c2df0e2e-5a66-4a2b-abfc-b3b4dd7dd2c5\" target=\"_top\" title=\"psysml:c2df0e2e-5a66-4a2b-abfc-b3b4dd7dd2c5\" xlink:actuate=\"onRequest\" xlink:href=\"psysml:c2df0e2e-5a66-4a2b-abfc-b3b4dd7dd2c5\" xlink:show=\"new\" xlink:title=\"psysml:c2df0e2e-5a66-4a2b-abfc-b3b4dd7dd2c5\" xlink:type=\"simple\"><rect fill=\"#FFFFFF\" height=\"88.3516\" id=\"E6\" rx=\"10\" ry=\"10\" style=\"stroke: #383838; stroke-width: 1.5;\" width=\"63\" x=\"387\" y=\"41\"/><text fill=\"#000000\" font-family=\"sans-serif\" font-size=\"12\" font-style=\"italic\" lengthAdjust=\"spacingAndGlyphs\" textLength=\"40\" x=\"398.5\" y=\"57.1387\">«part»</text><text fill=\"#000000\" font-family=\"sans-serif\" font-size=\"12\" lengthAdjust=\"spacingAndGlyphs\" textLength=\"23\" x=\"407\" y=\"71.1074\">x: Q</text><line style=\"stroke: #383838; stroke-width: 1.5;\" x1=\"388\" x2=\"449\" y1=\"78.9375\" y2=\"78.9375\"/><text fill=\"#000000\" font-family=\"sans-serif\" font-size=\"11\" lengthAdjust=\"spacingAndGlyphs\" textLength=\"23\" x=\"393\" y=\"109.9526\">b: B</text><text fill=\"#000000\" font-family=\"sans-serif\" font-size=\"11\" font-style=\"italic\" lengthAdjust=\"spacingAndGlyphs\" textLength=\"44\" x=\"393\" y=\"122.7573\">:&gt;&gt;P::a</text><line style=\"stroke: #383838; stroke-width: 1.0;\" x1=\"388\" x2=\"391\" y1=\"93.3398\" y2=\"93.3398\"/><text fill=\"#000000\" font-family=\"sans-serif\" font-size=\"11\" lengthAdjust=\"spacingAndGlyphs\" textLength=\"55\" x=\"391\" y=\"96.6479\">attributes</text><line style=\"stroke: #383838; stroke-width: 1.0;\" x1=\"446\" x2=\"449\" y1=\"93.3398\" y2=\"93.3398\"/></a><!--MD5=[2156ba9850f5573cc1fc38a6a4b2f02b]\n",
       "class E7--><a href=\"psysml:d5aa7800-4c4d-4a74-9f82-8c5d7377a367\" target=\"_top\" title=\"psysml:d5aa7800-4c4d-4a74-9f82-8c5d7377a367\" xlink:actuate=\"onRequest\" xlink:href=\"psysml:d5aa7800-4c4d-4a74-9f82-8c5d7377a367\" xlink:show=\"new\" xlink:title=\"psysml:d5aa7800-4c4d-4a74-9f82-8c5d7377a367\" xlink:type=\"simple\"><rect fill=\"#FFFFFF\" height=\"45.9375\" id=\"E7\" rx=\"10\" ry=\"10\" style=\"stroke: #383838; stroke-width: 1.5;\" width=\"42\" x=\"58.5\" y=\"215\"/><text fill=\"#000000\" font-family=\"sans-serif\" font-size=\"12\" font-style=\"italic\" lengthAdjust=\"spacingAndGlyphs\" textLength=\"40\" x=\"59.5\" y=\"231.1387\">«part»</text><text fill=\"#000000\" font-family=\"sans-serif\" font-size=\"12\" lengthAdjust=\"spacingAndGlyphs\" textLength=\"25\" x=\"67\" y=\"245.1074\">q: Q</text><line style=\"stroke: #383838; stroke-width: 1.5;\" x1=\"59.5\" x2=\"99.5\" y1=\"252.9375\" y2=\"252.9375\"/></a><!--MD5=[b9389687b975829384b498ac4b7476b2]\n",
       "class E8--><a href=\"psysml:d7b3804f-80e3-4381-979e-bf8e2501fba8\" target=\"_top\" title=\"psysml:d7b3804f-80e3-4381-979e-bf8e2501fba8\" xlink:actuate=\"onRequest\" xlink:href=\"psysml:d7b3804f-80e3-4381-979e-bf8e2501fba8\" xlink:show=\"new\" xlink:title=\"psysml:d7b3804f-80e3-4381-979e-bf8e2501fba8\" xlink:type=\"simple\"><rect fill=\"#FFFFFF\" height=\"59.9063\" id=\"E8\" rx=\"10\" ry=\"10\" style=\"stroke: #383838; stroke-width: 1.5;\" width=\"70\" x=\"188\" y=\"296\"/><text fill=\"#000000\" font-family=\"sans-serif\" font-size=\"12\" font-style=\"italic\" lengthAdjust=\"spacingAndGlyphs\" textLength=\"68\" x=\"189\" y=\"312.1387\">«variation»</text><text fill=\"#000000\" font-family=\"sans-serif\" font-size=\"12\" font-style=\"italic\" lengthAdjust=\"spacingAndGlyphs\" textLength=\"40\" x=\"203\" y=\"326.1074\">«part»</text><text fill=\"#000000\" font-family=\"sans-serif\" font-size=\"12\" lengthAdjust=\"spacingAndGlyphs\" textLength=\"22\" x=\"212\" y=\"340.0762\">v: P</text><line style=\"stroke: #383838; stroke-width: 1.5;\" x1=\"189\" x2=\"257\" y1=\"347.9063\" y2=\"347.9063\"/></a><!--MD5=[fd4143e9d270a159db93a4ea2a975926]\n",
       "class E9--><a href=\"psysml:aeeab6cc-3339-44ed-a45c-f65a5d97c376\" target=\"_top\" title=\"psysml:aeeab6cc-3339-44ed-a45c-f65a5d97c376\" xlink:actuate=\"onRequest\" xlink:href=\"psysml:aeeab6cc-3339-44ed-a45c-f65a5d97c376\" xlink:show=\"new\" xlink:title=\"psysml:aeeab6cc-3339-44ed-a45c-f65a5d97c376\" xlink:type=\"simple\"><rect fill=\"#FFFFFF\" height=\"88.3516\" id=\"E9\" rx=\"10\" ry=\"10\" style=\"stroke: #383838; stroke-width: 1.5;\" width=\"77\" x=\"380\" y=\"275\"/><text fill=\"#000000\" font-family=\"sans-serif\" font-size=\"12\" font-style=\"italic\" lengthAdjust=\"spacingAndGlyphs\" textLength=\"75\" x=\"381\" y=\"291.1387\">«reference»</text><text fill=\"#000000\" font-family=\"sans-serif\" font-size=\"12\" lengthAdjust=\"spacingAndGlyphs\" textLength=\"8\" x=\"414.5\" y=\"305.1074\">q</text><line style=\"stroke: #383838; stroke-width: 1.5;\" x1=\"381\" x2=\"456\" y1=\"312.9375\" y2=\"312.9375\"/><text fill=\"#000000\" font-family=\"sans-serif\" font-size=\"11\" lengthAdjust=\"spacingAndGlyphs\" textLength=\"23\" x=\"386\" y=\"343.9526\">b: B</text><text fill=\"#000000\" font-family=\"sans-serif\" font-size=\"11\" font-style=\"italic\" lengthAdjust=\"spacingAndGlyphs\" textLength=\"44\" x=\"386\" y=\"356.7573\">:&gt;&gt;P::a</text><line style=\"stroke: #383838; stroke-width: 1.0;\" x1=\"381\" x2=\"391\" y1=\"327.3398\" y2=\"327.3398\"/><text fill=\"#000000\" font-family=\"sans-serif\" font-size=\"11\" lengthAdjust=\"spacingAndGlyphs\" textLength=\"55\" x=\"391\" y=\"330.6479\">attributes</text><line style=\"stroke: #383838; stroke-width: 1.0;\" x1=\"446\" x2=\"456\" y1=\"327.3398\" y2=\"327.3398\"/></a><!--MD5=[96f4274e9e20536e775497830990834d]\n",
       "class E10--><a href=\"psysml:fe63b1e8-840a-4f2e-b06a-2ce986f19d03\" target=\"_top\" title=\"psysml:fe63b1e8-840a-4f2e-b06a-2ce986f19d03\" xlink:actuate=\"onRequest\" xlink:href=\"psysml:fe63b1e8-840a-4f2e-b06a-2ce986f19d03\" xlink:show=\"new\" xlink:title=\"psysml:fe63b1e8-840a-4f2e-b06a-2ce986f19d03\" xlink:type=\"simple\"><rect fill=\"#FFFFFF\" height=\"45.9375\" id=\"E10\" rx=\"10\" ry=\"10\" style=\"stroke: #383838; stroke-width: 1.5;\" width=\"42\" x=\"202\" y=\"134\"/><text fill=\"#000000\" font-family=\"sans-serif\" font-size=\"12\" font-style=\"italic\" lengthAdjust=\"spacingAndGlyphs\" textLength=\"40\" x=\"203\" y=\"150.1387\">«part»</text><text fill=\"#000000\" font-family=\"sans-serif\" font-size=\"12\" lengthAdjust=\"spacingAndGlyphs\" textLength=\"22\" x=\"212\" y=\"164.1074\">y: P</text><line style=\"stroke: #383838; stroke-width: 1.5;\" x1=\"203\" x2=\"243\" y1=\"171.9375\" y2=\"171.9375\"/></a><!--MD5=[05d275557350bfb9b23a4ef7222b4c39]\n",
       "link E3 to E2--><a href=\"psysml:6495a820-e8c0-4129-af26-6722c3b7b9e6\" target=\"_top\" title=\"psysml:6495a820-e8c0-4129-af26-6722c3b7b9e6\" xlink:actuate=\"onRequest\" xlink:href=\"psysml:6495a820-e8c0-4129-af26-6722c3b7b9e6\" xlink:show=\"new\" xlink:title=\"psysml:6495a820-e8c0-4129-af26-6722c3b7b9e6\" xlink:type=\"simple\"><path d=\"M256.39,231.97 C286.06,226.45 330.5,218.19 365.2,211.73 \" fill=\"none\" id=\"E3-&gt;E2\" style=\"stroke: #383838; stroke-width: 1.0;\"/><polygon fill=\"none\" points=\"364.39,204.76,385.33,207.99,366.95,218.53,364.39,204.76\" style=\"stroke: #383838; stroke-width: 1.0;\"/></a><!--MD5=[15ebcb19ae302d9b601edb458606d402]\n",
       "link E5 to E2--><a href=\"psysml:bd00e4e7-d183-497a-b9f8-56660fc51e3e\" target=\"_top\" title=\"psysml:bd00e4e7-d183-497a-b9f8-56660fc51e3e\" xlink:actuate=\"onRequest\" xlink:href=\"psysml:bd00e4e7-d183-497a-b9f8-56660fc51e3e\" xlink:show=\"new\" xlink:title=\"psysml:bd00e4e7-d183-497a-b9f8-56660fc51e3e\" xlink:type=\"simple\"><path d=\"M256.39,97.09 C286.9,116.96 333.03,147 368.13,169.85 \" fill=\"none\" id=\"E5-&gt;E2\" style=\"stroke: #383838; stroke-width: 1.0;\"/><polygon fill=\"none\" points=\"372.39,164.27,385.33,181.05,364.75,176,372.39,164.27\" style=\"stroke: #383838; stroke-width: 1.0;\"/></a><!--MD5=[9120cf2e5df3bff93db8f754bbbc09b4]\n",
       "link E5 to E6--><a href=\"psysml:3ec706da-d65f-4ef5-8a1f-1e1b5df7e7c6\" target=\"_top\" title=\"psysml:3ec706da-d65f-4ef5-8a1f-1e1b5df7e7c6\" xlink:actuate=\"onRequest\" xlink:href=\"psysml:3ec706da-d65f-4ef5-8a1f-1e1b5df7e7c6\" xlink:show=\"new\" xlink:title=\"psysml:3ec706da-d65f-4ef5-8a1f-1e1b5df7e7c6\" xlink:type=\"simple\"><path d=\"M266.69,77.99 C299.54,79.51 344.62,81.61 376.92,83.11 \" fill=\"none\" id=\"E5-E6\" style=\"stroke: #383838; stroke-width: 1.0;\"/><polygon fill=\"#383838\" points=\"386.92,83.58,379.0704,80.2061,378.7874,86.1994,386.92,83.58\" style=\"stroke: #383838; stroke-width: 1.0;\"/><path d=\"M259.0665,86.1028 A9,9 0 0 0 259.863 69.2071\" fill=\"none\" style=\"stroke: #383838; stroke-width: 1.5;\"/><text fill=\"#000000\" font-family=\"sans-serif\" font-size=\"13\" lengthAdjust=\"spacingAndGlyphs\" textLength=\"60\" x=\"289\" y=\"76.0669\">«variant»</text></a><!--MD5=[14ccda38c055a5c0da953d572bc50960]\n",
       "link E7 to E3--><a href=\"psysml:9cf32953-475b-4011-b1f8-e7f09d5ce449\" target=\"_top\" title=\"psysml:9cf32953-475b-4011-b1f8-e7f09d5ce449\" xlink:actuate=\"onRequest\" xlink:href=\"psysml:9cf32953-475b-4011-b1f8-e7f09d5ce449\" xlink:show=\"new\" xlink:title=\"psysml:9cf32953-475b-4011-b1f8-e7f09d5ce449\" xlink:type=\"simple\"><path d=\"M100.77,238 C118.65,238 145.5,238 169.39,238 \" fill=\"none\" id=\"E7-&gt;E3\" style=\"stroke: #383838; stroke-width: 1.0;\"/><polygon fill=\"#FFFFFF\" points=\"189.74,238,170.74,245,170.74,231,189.74,238\" style=\"stroke: #383838; stroke-width: 1.0;\"/><ellipse cx=\"165.04\" cy=\"243\" fill=\"#383838\" rx=\"2\" ry=\"2\" style=\"stroke: #383838; stroke-width: 1.0;\"/><ellipse cx=\"165.04\" cy=\"233\" fill=\"#383838\" rx=\"2\" ry=\"2\" style=\"stroke: #383838; stroke-width: 1.0;\"/></a><!--MD5=[f1f3f9f2fc535e6147756cb86a7f2e32]\n",
       "link E8 to E2--><a href=\"psysml:d1a9bfbc-b159-49c1-a5ca-956a4881ee49\" target=\"_top\" title=\"psysml:d1a9bfbc-b159-49c1-a5ca-956a4881ee49\" xlink:actuate=\"onRequest\" xlink:href=\"psysml:d1a9bfbc-b159-49c1-a5ca-956a4881ee49\" xlink:show=\"new\" xlink:title=\"psysml:d1a9bfbc-b159-49c1-a5ca-956a4881ee49\" xlink:type=\"simple\"><path d=\"M258.15,304.12 C288.73,284.52 333.94,255.55 368.39,233.47 \" fill=\"none\" id=\"E8-&gt;E2\" style=\"stroke: #383838; stroke-width: 1.0;\"/><polygon fill=\"#FFFFFF\" points=\"385.3,222.63,373.0842,238.7785,365.5272,226.9932,385.3,222.63\" style=\"stroke: #383838; stroke-width: 1.0;\"/><ellipse cx=\"367.2063\" cy=\"240.1717\" fill=\"#383838\" rx=\"2\" ry=\"2\" style=\"stroke: #383838; stroke-width: 1.0;\"/><ellipse cx=\"361.8085\" cy=\"231.7536\" fill=\"#383838\" rx=\"2\" ry=\"2\" style=\"stroke: #383838; stroke-width: 1.0;\"/></a><!--MD5=[ed10624c06dd9a4fa49ccf290e8b16a8]\n",
       "link E8 to E9--><a href=\"psysml:4574f674-7c12-4143-bfb7-6a6844a72e64\" target=\"_top\" title=\"psysml:4574f674-7c12-4143-bfb7-6a6844a72e64\" xlink:actuate=\"onRequest\" xlink:href=\"psysml:4574f674-7c12-4143-bfb7-6a6844a72e64\" xlink:show=\"new\" xlink:title=\"psysml:4574f674-7c12-4143-bfb7-6a6844a72e64\" xlink:type=\"simple\"><path d=\"M268.18,324.4 C298.44,323.31 338.55,321.86 369.58,320.73 \" fill=\"none\" id=\"E8-E9\" style=\"stroke: #383838; stroke-width: 1.0;\"/><polygon fill=\"#383838\" points=\"379.72,320.37,371.6142,317.669,371.8369,323.6649,379.72,320.37\" style=\"stroke: #383838; stroke-width: 1.0;\"/><path d=\"M261.5285,333.1018 A9,9 0 0 0 260.9239 316.1981\" fill=\"none\" style=\"stroke: #383838; stroke-width: 1.5;\"/><text fill=\"#000000\" font-family=\"sans-serif\" font-size=\"13\" lengthAdjust=\"spacingAndGlyphs\" textLength=\"60\" x=\"289\" y=\"318.0669\">«variant»</text></a><!--MD5=[0f36bececdf0dff6e600d6f64214b0f1]\n",
       "link E10 to E2--><a href=\"psysml:bd829215-07d4-45cb-8fe9-60748d4dd682\" target=\"_top\" title=\"psysml:bd829215-07d4-45cb-8fe9-60748d4dd682\" xlink:actuate=\"onRequest\" xlink:href=\"psysml:bd829215-07d4-45cb-8fe9-60748d4dd682\" xlink:show=\"new\" xlink:title=\"psysml:bd829215-07d4-45cb-8fe9-60748d4dd682\" xlink:type=\"simple\"><path d=\"M244.34,161.73 C272.87,168.36 325.72,180.66 365.56,189.92 \" fill=\"none\" id=\"E10-&gt;E2\" style=\"stroke: #383838; stroke-width: 1.0;\"/><polygon fill=\"#FFFFFF\" points=\"385.28,194.51,365.1886,197.0272,368.3578,183.3907,385.28,194.51\" style=\"stroke: #383838; stroke-width: 1.0;\"/><ellipse cx=\"360.0893\" cy=\"193.7888\" fill=\"#383838\" rx=\"2\" ry=\"2\" style=\"stroke: #383838; stroke-width: 1.0;\"/><ellipse cx=\"362.353\" cy=\"184.0484\" fill=\"#383838\" rx=\"2\" ry=\"2\" style=\"stroke: #383838; stroke-width: 1.0;\"/></a><!--MD5=[4b969c1f7867a8070edec865e4974ca4]\n",
       "@startuml\r\n",
       "left to right direction\r\n",
       "skinparam monochrome true\r\n",
       "skinparam classbackgroundcolor white\r\n",
       "skinparam shadowing false\r\n",
       "skinparam wrapWidth 300\r\n",
       "hide circle\r\n",
       "\r\n",
       "package \"VariabilityTest\" as E1  [[psysml:6e13bc12-600f-4176-9ee3-c77c18f0da6f ]]  {\r\n",
       "comp def \"P\" as E2  <<(T,blue) part def>> [[psysml:a47e4883-53c6-48e5-9729-358fb18738b5 ]] {\r\n",
       "- - attributes - -\r\n",
       "a\r\n",
       "}\r\n",
       "comp def \"Q\" as E3  <<(T,blue) part def>> [[psysml:64152dcd-188c-4285-9d2f-82b4222731ff ]] {\r\n",
       "}\r\n",
       "comp def \"B\" as E4  <<(T,blue) attribute def>> [[psysml:6204c3f0-143a-45cc-ac58-9ea86a3a8ea6 ]] {\r\n",
       "}\r\n",
       "comp def \"V\" as E5  <<(T,blue) part def>> [[psysml:58826ca2-a740-4eaa-a71e-521b590388a3 ]] {\r\n",
       "}\r\n",
       "comp usage \"x: Q\" as E6  <<(T,blue) part>> [[psysml:c2df0e2e-5a66-4a2b-abfc-b3b4dd7dd2c5 ]] {\r\n",
       "- - attributes - -\r\n",
       "b: B\\n//:>>P::a// \r\n",
       "}\r\n",
       "comp usage \"q: Q\" as E7  <<(T,blue) part>> [[psysml:d5aa7800-4c4d-4a74-9f82-8c5d7377a367 ]] {\r\n",
       "}\r\n",
       "comp usage \"v: P\" as E8  <<variation>>\\n <<(T,blue) part>> [[psysml:d7b3804f-80e3-4381-979e-bf8e2501fba8 ]] {\r\n",
       "}\r\n",
       "comp usage \"q\" as E9  <<(T,blue) reference>> [[psysml:aeeab6cc-3339-44ed-a45c-f65a5d97c376 ]] {\r\n",
       "- - attributes - -\r\n",
       "b: B\\n//:>>P::a// \r\n",
       "}\r\n",
       "comp usage \"y: P\" as E10  <<(T,blue) part>> [[psysml:fe63b1e8-840a-4f2e-b06a-2ce986f19d03 ]] {\r\n",
       "}\r\n",
       "E3 - -|> E2 [[psysml:6495a820-e8c0-4129-af26-6722c3b7b9e6 ]] \r\n",
       "E5 - -|> E2 [[psysml:bd00e4e7-d183-497a-b9f8-56660fc51e3e ]] \r\n",
       "E5 )- ->> E6 [[psysml:3ec706da-d65f-4ef5-8a1f-1e1b5df7e7c6 ]] : <<variant>>\r\n",
       "E7 - -:|> E3 [[psysml:9cf32953-475b-4011-b1f8-e7f09d5ce449 ]] \r\n",
       "E8 - -:|> E2 [[psysml:d1a9bfbc-b159-49c1-a5ca-956a4881ee49 ]] \r\n",
       "E8 )- ->> E9 [[psysml:4574f674-7c12-4143-bfb7-6a6844a72e64 ]] : <<variant>>\r\n",
       "E10 - -:|> E2 [[psysml:bd829215-07d4-45cb-8fe9-60748d4dd682 ]] \r\n",
       "}\r\n",
       "@enduml\r\n",
       "\n",
       "PlantUML version 1.2020.13(Sat Jun 13 12:26:38 UTC 2020)\n",
       "(EPL source distribution)\n",
       "Java Runtime: OpenJDK Runtime Environment\n",
       "JVM: OpenJDK 64-Bit Server VM\n",
       "Default Encoding: UTF-8\n",
       "Language: en\n",
       "Country: null\n",
       "--></g></svg>"
      ]
     },
     "execution_count": 22,
     "metadata": {},
     "output_type": "execute_result"
    }
   ],
   "source": [
    "%viz --style=\"LR\" --view=\"MIXED\" \"VariabilityTest\""
   ]
  },
  {
   "cell_type": "code",
   "execution_count": 23,
   "id": "771b1534",
   "metadata": {
    "execution": {
     "iopub.execute_input": "2021-08-04T06:26:49.749722Z",
     "iopub.status.busy": "2021-08-04T06:26:49.749293Z",
     "iopub.status.idle": "2021-08-04T06:26:49.810531Z",
     "shell.execute_reply": "2021-08-04T06:26:49.809135Z"
    }
   },
   "outputs": [
    {
     "data": {
      "image/svg+xml": [
       "<?xml version=\"1.0\" encoding=\"UTF-8\" standalone=\"no\"?><svg xmlns=\"http://www.w3.org/2000/svg\" xmlns:xlink=\"http://www.w3.org/1999/xlink\" contentScriptType=\"application/ecmascript\" contentStyleType=\"text/css\" height=\"373px\" preserveAspectRatio=\"none\" style=\"width:419px;height:373px;\" version=\"1.1\" viewBox=\"0 0 419 373\" width=\"419px\" zoomAndPan=\"magnify\"><defs><filter height=\"300%\" id=\"frt026199m00o\" width=\"300%\" x=\"-1\" y=\"-1\"><feGaussianBlur result=\"blurOut\" stdDeviation=\"2.0\"/><feColorMatrix in=\"blurOut\" result=\"blurOut2\" type=\"matrix\" values=\"0 0 0 0 0 0 0 0 0 0 0 0 0 0 0 0 0 0 .4 0\"/><feOffset dx=\"4.0\" dy=\"4.0\" in=\"blurOut2\" result=\"blurOut3\"/><feBlend in=\"SourceGraphic\" in2=\"blurOut3\" mode=\"normal\"/></filter></defs><g><!--MD5=[fbc87193dbaf4d95561dea2c320d4a47]\n",
       "cluster E1--><a href=\"psysml:6e13bc12-600f-4176-9ee3-c77c18f0da6f\" target=\"_top\" title=\"psysml:6e13bc12-600f-4176-9ee3-c77c18f0da6f\" xlink:actuate=\"onRequest\" xlink:href=\"psysml:6e13bc12-600f-4176-9ee3-c77c18f0da6f\" xlink:show=\"new\" xlink:title=\"psysml:6e13bc12-600f-4176-9ee3-c77c18f0da6f\" xlink:type=\"simple\"><polygon fill=\"#FFFFFF\" filter=\"url(#frt026199m00o)\" points=\"16,6,134,6,141,28.2969,397,28.2969,397,361,16,361,16,6\" style=\"stroke: #000000; stroke-width: 1.5;\"/><line style=\"stroke: #000000; stroke-width: 1.5;\" x1=\"16\" x2=\"141\" y1=\"28.2969\" y2=\"28.2969\"/><text fill=\"#000000\" font-family=\"sans-serif\" font-size=\"14\" font-weight=\"bold\" lengthAdjust=\"spacingAndGlyphs\" textLength=\"112\" x=\"20\" y=\"20.9951\">VariabilityTest</text></a><!--MD5=[b4997ac47864f28c2f74865a473b2911]\n",
       "class E2--><a href=\"psysml:a47e4883-53c6-48e5-9729-358fb18738b5\" target=\"_top\" title=\"psysml:a47e4883-53c6-48e5-9729-358fb18738b5\" xlink:actuate=\"onRequest\" xlink:href=\"psysml:a47e4883-53c6-48e5-9729-358fb18738b5\" xlink:show=\"new\" xlink:title=\"psysml:a47e4883-53c6-48e5-9729-358fb18738b5\" xlink:type=\"simple\"><rect fill=\"#FEFECE\" filter=\"url(#frt026199m00o)\" height=\"58.7422\" id=\"E2\" style=\"stroke: #A80036; stroke-width: 1.5;\" width=\"66\" x=\"162\" y=\"285.5\"/><text fill=\"#000000\" font-family=\"sans-serif\" font-size=\"12\" font-style=\"italic\" lengthAdjust=\"spacingAndGlyphs\" textLength=\"64\" x=\"163\" y=\"301.6387\">«part def»</text><text fill=\"#000000\" font-family=\"sans-serif\" font-size=\"12\" lengthAdjust=\"spacingAndGlyphs\" textLength=\"8\" x=\"191\" y=\"315.6074\">P</text><line style=\"stroke: #A80036; stroke-width: 1.5;\" x1=\"163\" x2=\"227\" y1=\"323.4375\" y2=\"323.4375\"/><text fill=\"#000000\" font-family=\"sans-serif\" font-size=\"11\" lengthAdjust=\"spacingAndGlyphs\" textLength=\"7\" x=\"168\" y=\"337.6479\">a</text></a><!--MD5=[09b614a08d8cba4a07c9adeb5e0fee81]\n",
       "class E3--><a href=\"psysml:64152dcd-188c-4285-9d2f-82b4222731ff\" target=\"_top\" title=\"psysml:64152dcd-188c-4285-9d2f-82b4222731ff\" xlink:actuate=\"onRequest\" xlink:href=\"psysml:64152dcd-188c-4285-9d2f-82b4222731ff\" xlink:show=\"new\" xlink:title=\"psysml:64152dcd-188c-4285-9d2f-82b4222731ff\" xlink:type=\"simple\"><rect fill=\"#FEFECE\" filter=\"url(#frt026199m00o)\" height=\"45.9375\" id=\"E3\" style=\"stroke: #A80036; stroke-width: 1.5;\" width=\"66\" x=\"137\" y=\"155\"/><text fill=\"#000000\" font-family=\"sans-serif\" font-size=\"12\" font-style=\"italic\" lengthAdjust=\"spacingAndGlyphs\" textLength=\"64\" x=\"138\" y=\"171.1387\">«part def»</text><text fill=\"#000000\" font-family=\"sans-serif\" font-size=\"12\" lengthAdjust=\"spacingAndGlyphs\" textLength=\"9\" x=\"165.5\" y=\"185.1074\">Q</text><line style=\"stroke: #A80036; stroke-width: 1.5;\" x1=\"138\" x2=\"202\" y1=\"192.9375\" y2=\"192.9375\"/></a><!--MD5=[ebbe1d658d1005bcc118a6aa81145e00]\n",
       "class E4--><a href=\"psysml:6204c3f0-143a-45cc-ac58-9ea86a3a8ea6\" target=\"_top\" title=\"psysml:6204c3f0-143a-45cc-ac58-9ea86a3a8ea6\" xlink:actuate=\"onRequest\" xlink:href=\"psysml:6204c3f0-143a-45cc-ac58-9ea86a3a8ea6\" xlink:show=\"new\" xlink:title=\"psysml:6204c3f0-143a-45cc-ac58-9ea86a3a8ea6\" xlink:type=\"simple\"><rect fill=\"#FEFECE\" filter=\"url(#frt026199m00o)\" height=\"45.9375\" id=\"E4\" style=\"stroke: #A80036; stroke-width: 1.5;\" width=\"95\" x=\"255.5\" y=\"41\"/><text fill=\"#000000\" font-family=\"sans-serif\" font-size=\"12\" font-style=\"italic\" lengthAdjust=\"spacingAndGlyphs\" textLength=\"93\" x=\"256.5\" y=\"57.1387\">«attribute def»</text><text fill=\"#000000\" font-family=\"sans-serif\" font-size=\"12\" lengthAdjust=\"spacingAndGlyphs\" textLength=\"8\" x=\"299\" y=\"71.1074\">B</text><line style=\"stroke: #A80036; stroke-width: 1.5;\" x1=\"256.5\" x2=\"349.5\" y1=\"78.9375\" y2=\"78.9375\"/></a><!--MD5=[270fce915f116d4de14055a7c1d9a0f3]\n",
       "class E5--><a href=\"psysml:58826ca2-a740-4eaa-a71e-521b590388a3\" target=\"_top\" title=\"psysml:58826ca2-a740-4eaa-a71e-521b590388a3\" xlink:actuate=\"onRequest\" xlink:href=\"psysml:58826ca2-a740-4eaa-a71e-521b590388a3\" xlink:show=\"new\" xlink:title=\"psysml:58826ca2-a740-4eaa-a71e-521b590388a3\" xlink:type=\"simple\"><rect fill=\"#FEFECE\" filter=\"url(#frt026199m00o)\" height=\"45.9375\" id=\"E5\" style=\"stroke: #A80036; stroke-width: 1.5;\" width=\"66\" x=\"315\" y=\"155\"/><text fill=\"#000000\" font-family=\"sans-serif\" font-size=\"12\" font-style=\"italic\" lengthAdjust=\"spacingAndGlyphs\" textLength=\"64\" x=\"316\" y=\"171.1387\">«part def»</text><text fill=\"#000000\" font-family=\"sans-serif\" font-size=\"12\" lengthAdjust=\"spacingAndGlyphs\" textLength=\"8\" x=\"344\" y=\"185.1074\">V</text><line style=\"stroke: #A80036; stroke-width: 1.5;\" x1=\"316\" x2=\"380\" y1=\"192.9375\" y2=\"192.9375\"/></a><!--MD5=[60a26617385b1d2d0262a64233df1f8d]\n",
       "class E6--><a href=\"psysml:c2df0e2e-5a66-4a2b-abfc-b3b4dd7dd2c5\" target=\"_top\" title=\"psysml:c2df0e2e-5a66-4a2b-abfc-b3b4dd7dd2c5\" xlink:actuate=\"onRequest\" xlink:href=\"psysml:c2df0e2e-5a66-4a2b-abfc-b3b4dd7dd2c5\" xlink:show=\"new\" xlink:title=\"psysml:c2df0e2e-5a66-4a2b-abfc-b3b4dd7dd2c5\" xlink:type=\"simple\"><rect fill=\"#FEFECE\" filter=\"url(#frt026199m00o)\" height=\"59.6875\" id=\"E6\" rx=\"10\" ry=\"10\" style=\"stroke: #A80036; stroke-width: 1.5;\" width=\"78\" x=\"280\" y=\"285\"/><text fill=\"#000000\" font-family=\"sans-serif\" font-size=\"12\" font-style=\"italic\" lengthAdjust=\"spacingAndGlyphs\" textLength=\"40\" x=\"299\" y=\"301.1387\">«part»</text><text fill=\"#000000\" font-family=\"sans-serif\" font-size=\"12\" lengthAdjust=\"spacingAndGlyphs\" textLength=\"23\" x=\"307.5\" y=\"315.1074\">x: Q</text><line style=\"stroke: #A80036; stroke-width: 1.5;\" x1=\"281\" x2=\"357\" y1=\"322.9375\" y2=\"322.9375\"/><path d=\"M287.9167,327.8542 L287.9167,337.0208 L288.8333,337.0208 L288.8333,327.8542 M291.5833,327.8542 L291.5833,337.0208 L298.9167,332.4375 L291.5833,327.8542 L292.5,329.2292 L297.5417,332.4375 L292.5,335.6458 L292.5,329.2292 \" fill=\"#000000\" style=\"stroke: ; stroke-width: 0.0; stroke-dasharray: ;\"/><text fill=\"#000000\" font-family=\"sans-serif\" font-size=\"11\" lengthAdjust=\"spacingAndGlyphs\" textLength=\"23\" x=\"303\" y=\"338.0933\">b: B</text><text fill=\"#000000\" font-family=\"sans-serif\" font-size=\"11\" lengthAdjust=\"spacingAndGlyphs\" text-decoration=\"line-through\" textLength=\"22\" x=\"330\" y=\"338.0933\">P::a</text></a><!--MD5=[2156ba9850f5573cc1fc38a6a4b2f02b]\n",
       "class E7--><a href=\"psysml:d5aa7800-4c4d-4a74-9f82-8c5d7377a367\" target=\"_top\" title=\"psysml:d5aa7800-4c4d-4a74-9f82-8c5d7377a367\" xlink:actuate=\"onRequest\" xlink:href=\"psysml:d5aa7800-4c4d-4a74-9f82-8c5d7377a367\" xlink:show=\"new\" xlink:title=\"psysml:d5aa7800-4c4d-4a74-9f82-8c5d7377a367\" xlink:type=\"simple\"><rect fill=\"#FEFECE\" filter=\"url(#frt026199m00o)\" height=\"45.9375\" id=\"E7\" rx=\"10\" ry=\"10\" style=\"stroke: #A80036; stroke-width: 1.5;\" width=\"42\" x=\"149\" y=\"41\"/><text fill=\"#000000\" font-family=\"sans-serif\" font-size=\"12\" font-style=\"italic\" lengthAdjust=\"spacingAndGlyphs\" textLength=\"40\" x=\"150\" y=\"57.1387\">«part»</text><text fill=\"#000000\" font-family=\"sans-serif\" font-size=\"12\" lengthAdjust=\"spacingAndGlyphs\" textLength=\"25\" x=\"157.5\" y=\"71.1074\">q: Q</text><line style=\"stroke: #A80036; stroke-width: 1.5;\" x1=\"150\" x2=\"190\" y1=\"78.9375\" y2=\"78.9375\"/></a><!--MD5=[b9389687b975829384b498ac4b7476b2]\n",
       "class E8--><a href=\"psysml:d7b3804f-80e3-4381-979e-bf8e2501fba8\" target=\"_top\" title=\"psysml:d7b3804f-80e3-4381-979e-bf8e2501fba8\" xlink:actuate=\"onRequest\" xlink:href=\"psysml:d7b3804f-80e3-4381-979e-bf8e2501fba8\" xlink:show=\"new\" xlink:title=\"psysml:d7b3804f-80e3-4381-979e-bf8e2501fba8\" xlink:type=\"simple\"><rect fill=\"#FEFECE\" filter=\"url(#frt026199m00o)\" height=\"59.9063\" id=\"E8\" rx=\"10\" ry=\"10\" style=\"stroke: #A80036; stroke-width: 1.5;\" width=\"70\" x=\"32\" y=\"148\"/><text fill=\"#000000\" font-family=\"sans-serif\" font-size=\"12\" font-style=\"italic\" lengthAdjust=\"spacingAndGlyphs\" textLength=\"68\" x=\"33\" y=\"164.1387\">«variation»</text><text fill=\"#000000\" font-family=\"sans-serif\" font-size=\"12\" font-style=\"italic\" lengthAdjust=\"spacingAndGlyphs\" textLength=\"40\" x=\"47\" y=\"178.1074\">«part»</text><text fill=\"#000000\" font-family=\"sans-serif\" font-size=\"12\" lengthAdjust=\"spacingAndGlyphs\" textLength=\"22\" x=\"56\" y=\"192.0762\">v: P</text><line style=\"stroke: #A80036; stroke-width: 1.5;\" x1=\"33\" x2=\"101\" y1=\"199.9063\" y2=\"199.9063\"/></a><!--MD5=[fd4143e9d270a159db93a4ea2a975926]\n",
       "class E9--><a href=\"psysml:aeeab6cc-3339-44ed-a45c-f65a5d97c376\" target=\"_top\" title=\"psysml:aeeab6cc-3339-44ed-a45c-f65a5d97c376\" xlink:actuate=\"onRequest\" xlink:href=\"psysml:aeeab6cc-3339-44ed-a45c-f65a5d97c376\" xlink:show=\"new\" xlink:title=\"psysml:aeeab6cc-3339-44ed-a45c-f65a5d97c376\" xlink:type=\"simple\"><rect fill=\"#FEFECE\" filter=\"url(#frt026199m00o)\" height=\"59.6875\" id=\"E9\" rx=\"10\" ry=\"10\" style=\"stroke: #A80036; stroke-width: 1.5;\" width=\"78\" x=\"32\" y=\"285\"/><text fill=\"#000000\" font-family=\"sans-serif\" font-size=\"12\" font-style=\"italic\" lengthAdjust=\"spacingAndGlyphs\" textLength=\"75\" x=\"33.5\" y=\"301.1387\">«reference»</text><text fill=\"#000000\" font-family=\"sans-serif\" font-size=\"12\" lengthAdjust=\"spacingAndGlyphs\" textLength=\"8\" x=\"67\" y=\"315.1074\">q</text><line style=\"stroke: #A80036; stroke-width: 1.5;\" x1=\"33\" x2=\"109\" y1=\"322.9375\" y2=\"322.9375\"/><path d=\"M39.9167,327.8542 L39.9167,337.0208 L40.8333,337.0208 L40.8333,327.8542 M43.5833,327.8542 L43.5833,337.0208 L50.9167,332.4375 L43.5833,327.8542 L44.5,329.2292 L49.5417,332.4375 L44.5,335.6458 L44.5,329.2292 \" fill=\"#000000\" style=\"stroke: ; stroke-width: 0.0; stroke-dasharray: ;\"/><text fill=\"#000000\" font-family=\"sans-serif\" font-size=\"11\" lengthAdjust=\"spacingAndGlyphs\" textLength=\"23\" x=\"55\" y=\"338.0933\">b: B</text><text fill=\"#000000\" font-family=\"sans-serif\" font-size=\"11\" lengthAdjust=\"spacingAndGlyphs\" text-decoration=\"line-through\" textLength=\"22\" x=\"82\" y=\"338.0933\">P::a</text></a><!--MD5=[96f4274e9e20536e775497830990834d]\n",
       "class E10--><a href=\"psysml:fe63b1e8-840a-4f2e-b06a-2ce986f19d03\" target=\"_top\" title=\"psysml:fe63b1e8-840a-4f2e-b06a-2ce986f19d03\" xlink:actuate=\"onRequest\" xlink:href=\"psysml:fe63b1e8-840a-4f2e-b06a-2ce986f19d03\" xlink:show=\"new\" xlink:title=\"psysml:fe63b1e8-840a-4f2e-b06a-2ce986f19d03\" xlink:type=\"simple\"><rect fill=\"#FEFECE\" filter=\"url(#frt026199m00o)\" height=\"45.9375\" id=\"E10\" rx=\"10\" ry=\"10\" style=\"stroke: #A80036; stroke-width: 1.5;\" width=\"42\" x=\"238\" y=\"155\"/><text fill=\"#000000\" font-family=\"sans-serif\" font-size=\"12\" font-style=\"italic\" lengthAdjust=\"spacingAndGlyphs\" textLength=\"40\" x=\"239\" y=\"171.1387\">«part»</text><text fill=\"#000000\" font-family=\"sans-serif\" font-size=\"12\" lengthAdjust=\"spacingAndGlyphs\" textLength=\"22\" x=\"248\" y=\"185.1074\">y: P</text><line style=\"stroke: #A80036; stroke-width: 1.5;\" x1=\"239\" x2=\"279\" y1=\"192.9375\" y2=\"192.9375\"/></a><!--MD5=[05d275557350bfb9b23a4ef7222b4c39]\n",
       "link E3 to E2--><a href=\"psysml:6495a820-e8c0-4129-af26-6722c3b7b9e6\" target=\"_top\" title=\"psysml:6495a820-e8c0-4129-af26-6722c3b7b9e6\" xlink:actuate=\"onRequest\" xlink:href=\"psysml:6495a820-e8c0-4129-af26-6722c3b7b9e6\" xlink:show=\"new\" xlink:title=\"psysml:6495a820-e8c0-4129-af26-6722c3b7b9e6\" xlink:type=\"simple\"><path d=\"M174.13,201.29 C177.34,218.66 181.93,243.41 185.98,265.3 \" fill=\"none\" id=\"E3-&gt;E2\" style=\"stroke: #A80036; stroke-width: 1.0;\"/><polygon fill=\"none\" points=\"192.88,264.14,189.64,285.08,179.12,266.68,192.88,264.14\" style=\"stroke: #A80036; stroke-width: 1.0;\"/></a><!--MD5=[15ebcb19ae302d9b601edb458606d402]\n",
       "link E5 to E2--><a href=\"psysml:bd00e4e7-d183-497a-b9f8-56660fc51e3e\" target=\"_top\" title=\"psysml:bd00e4e7-d183-497a-b9f8-56660fc51e3e\" xlink:actuate=\"onRequest\" xlink:href=\"psysml:bd00e4e7-d183-497a-b9f8-56660fc51e3e\" xlink:show=\"new\" xlink:title=\"psysml:bd00e4e7-d183-497a-b9f8-56660fc51e3e\" xlink:type=\"simple\"><path d=\"M322.74,201.29 C301.06,220.42 269.21,248.52 242.75,271.87 \" fill=\"none\" id=\"E5-&gt;E2\" style=\"stroke: #A80036; stroke-width: 1.0;\"/><polygon fill=\"none\" points=\"247.13,277.34,227.5,285.32,237.87,266.84,247.13,277.34\" style=\"stroke: #A80036; stroke-width: 1.0;\"/></a><!--MD5=[9120cf2e5df3bff93db8f754bbbc09b4]\n",
       "link E5 to E6--><a href=\"psysml:3ec706da-d65f-4ef5-8a1f-1e1b5df7e7c6\" target=\"_top\" title=\"psysml:3ec706da-d65f-4ef5-8a1f-1e1b5df7e7c6\" xlink:actuate=\"onRequest\" xlink:href=\"psysml:3ec706da-d65f-4ef5-8a1f-1e1b5df7e7c6\" xlink:show=\"new\" xlink:title=\"psysml:3ec706da-d65f-4ef5-8a1f-1e1b5df7e7c6\" xlink:type=\"simple\"><path d=\"M341.07,211.28 C336.97,230.34 331.76,254.6 327.43,274.76 \" fill=\"none\" id=\"E5-E6\" style=\"stroke: #A80036; stroke-width: 1.0;\"/><polygon fill=\"#A80036\" points=\"325.32,284.58,329.9339,277.3889,324.0679,276.1282,325.32,284.58\" style=\"stroke: #A80036; stroke-width: 1.0;\"/><path d=\"M334.2948,202.5225 A9,9 0 0 0 350.8317 206.0765\" fill=\"none\" style=\"stroke: #A80036; stroke-width: 1.5;\"/><text fill=\"#000000\" font-family=\"sans-serif\" font-size=\"13\" lengthAdjust=\"spacingAndGlyphs\" textLength=\"60\" x=\"336\" y=\"251.0669\">«variant»</text></a><!--MD5=[14ccda38c055a5c0da953d572bc50960]\n",
       "link E7 to E3--><a href=\"psysml:9cf32953-475b-4011-b1f8-e7f09d5ce449\" target=\"_top\" title=\"psysml:9cf32953-475b-4011-b1f8-e7f09d5ce449\" xlink:actuate=\"onRequest\" xlink:href=\"psysml:9cf32953-475b-4011-b1f8-e7f09d5ce449\" xlink:show=\"new\" xlink:title=\"psysml:9cf32953-475b-4011-b1f8-e7f09d5ce449\" xlink:type=\"simple\"><path d=\"M170,87.13 C170,100.7 170,118.53 170,134.73 \" fill=\"none\" id=\"E7-&gt;E3\" style=\"stroke: #A80036; stroke-width: 1.0;\"/><polygon fill=\"#FFFFFF\" points=\"170,154.92,163,135.92,177,135.92,170,154.92\" style=\"stroke: #A80036; stroke-width: 1.0;\"/><ellipse cx=\"165\" cy=\"130.22\" fill=\"#A80036\" rx=\"2\" ry=\"2\" style=\"stroke: #A80036; stroke-width: 1.0;\"/><ellipse cx=\"175\" cy=\"130.22\" fill=\"#A80036\" rx=\"2\" ry=\"2\" style=\"stroke: #A80036; stroke-width: 1.0;\"/></a><!--MD5=[f1f3f9f2fc535e6147756cb86a7f2e32]\n",
       "link E8 to E2--><a href=\"psysml:d1a9bfbc-b159-49c1-a5ca-956a4881ee49\" target=\"_top\" title=\"psysml:d1a9bfbc-b159-49c1-a5ca-956a4881ee49\" xlink:actuate=\"onRequest\" xlink:href=\"psysml:d1a9bfbc-b159-49c1-a5ca-956a4881ee49\" xlink:show=\"new\" xlink:title=\"psysml:d1a9bfbc-b159-49c1-a5ca-956a4881ee49\" xlink:type=\"simple\"><path d=\"M102.23,204.97 C114.45,214.72 127.87,226.28 139,238 C147.93,247.4 156.69,258.25 164.53,268.75 \" fill=\"none\" id=\"E8-&gt;E2\" style=\"stroke: #A80036; stroke-width: 1.0;\"/><polygon fill=\"#FFFFFF\" points=\"176.35,285.25,159.5896,273.8883,170.967,265.7302,176.35,285.25\" style=\"stroke: #A80036; stroke-width: 1.0;\"/><ellipse cx=\"157.8934\" cy=\"268.0907\" fill=\"#A80036\" rx=\"2\" ry=\"2\" style=\"stroke: #A80036; stroke-width: 1.0;\"/><ellipse cx=\"166.0201\" cy=\"262.2634\" fill=\"#A80036\" rx=\"2\" ry=\"2\" style=\"stroke: #A80036; stroke-width: 1.0;\"/></a><!--MD5=[ed10624c06dd9a4fa49ccf290e8b16a8]\n",
       "link E8 to E9--><a href=\"psysml:4574f674-7c12-4143-bfb7-6a6844a72e64\" target=\"_top\" title=\"psysml:4574f674-7c12-4143-bfb7-6a6844a72e64\" xlink:actuate=\"onRequest\" xlink:href=\"psysml:4574f674-7c12-4143-bfb7-6a6844a72e64\" xlink:show=\"new\" xlink:title=\"psysml:4574f674-7c12-4143-bfb7-6a6844a72e64\" xlink:type=\"simple\"><path d=\"M68.16,218.31 C68.69,236.06 69.31,256.98 69.84,274.73 \" fill=\"none\" id=\"E8-E9\" style=\"stroke: #A80036; stroke-width: 1.0;\"/><polygon fill=\"#A80036\" points=\"70.13,284.76,72.8888,276.6736,66.8915,276.8536,70.13,284.76\" style=\"stroke: #A80036; stroke-width: 1.0;\"/><path d=\"M59.509,211.6208 A9,9 0 0 0 76.4159 211.1128\" fill=\"none\" style=\"stroke: #A80036; stroke-width: 1.5;\"/><text fill=\"#000000\" font-family=\"sans-serif\" font-size=\"13\" lengthAdjust=\"spacingAndGlyphs\" textLength=\"60\" x=\"70\" y=\"251.0669\">«variant»</text></a><!--MD5=[0f36bececdf0dff6e600d6f64214b0f1]\n",
       "link E10 to E2--><a href=\"psysml:bd829215-07d4-45cb-8fe9-60748d4dd682\" target=\"_top\" title=\"psysml:bd829215-07d4-45cb-8fe9-60748d4dd682\" xlink:actuate=\"onRequest\" xlink:href=\"psysml:bd829215-07d4-45cb-8fe9-60748d4dd682\" xlink:show=\"new\" xlink:title=\"psysml:bd829215-07d4-45cb-8fe9-60748d4dd682\" xlink:type=\"simple\"><path d=\"M248.43,201.29 C239.99,219.11 227.86,244.69 217.29,266.99 \" fill=\"none\" id=\"E10-&gt;E2\" style=\"stroke: #A80036; stroke-width: 1.0;\"/><polygon fill=\"#FFFFFF\" points=\"208.71,285.08,210.5216,264.9127,223.1727,270.9085,208.71,285.08\" style=\"stroke: #A80036; stroke-width: 1.0;\"/><ellipse cx=\"214.77\" cy=\"260.6185\" fill=\"#A80036\" rx=\"2\" ry=\"2\" style=\"stroke: #A80036; stroke-width: 1.0;\"/><ellipse cx=\"223.8065\" cy=\"264.9012\" fill=\"#A80036\" rx=\"2\" ry=\"2\" style=\"stroke: #A80036; stroke-width: 1.0;\"/></a><!--MD5=[2cc451eb72fbb310de27fbbd304545ad]\n",
       "@startuml\r\n",
       "skinparam wrapWidth 300\r\n",
       "hide circle\r\n",
       "\r\n",
       "package \"VariabilityTest\" as E1  [[psysml:6e13bc12-600f-4176-9ee3-c77c18f0da6f ]]  {\r\n",
       "comp def \"P\" as E2  <<(T,blue) part def>> [[psysml:a47e4883-53c6-48e5-9729-358fb18738b5 ]] {\r\n",
       "a\r\n",
       "}\r\n",
       "comp def \"Q\" as E3  <<(T,blue) part def>> [[psysml:64152dcd-188c-4285-9d2f-82b4222731ff ]] {\r\n",
       "}\r\n",
       "comp def \"B\" as E4  <<(T,blue) attribute def>> [[psysml:6204c3f0-143a-45cc-ac58-9ea86a3a8ea6 ]] {\r\n",
       "}\r\n",
       "comp def \"V\" as E5  <<(T,blue) part def>> [[psysml:58826ca2-a740-4eaa-a71e-521b590388a3 ]] {\r\n",
       "}\r\n",
       "comp usage \"x: Q\" as E6  <<(T,blue) part>> [[psysml:c2df0e2e-5a66-4a2b-abfc-b3b4dd7dd2c5 ]] {\r\n",
       "<&bar-trig> b: B <s>P::a</s>\r\n",
       "}\r\n",
       "comp usage \"q: Q\" as E7  <<(T,blue) part>> [[psysml:d5aa7800-4c4d-4a74-9f82-8c5d7377a367 ]] {\r\n",
       "}\r\n",
       "comp usage \"v: P\" as E8  <<variation>>\\n <<(T,blue) part>> [[psysml:d7b3804f-80e3-4381-979e-bf8e2501fba8 ]] {\r\n",
       "}\r\n",
       "comp usage \"q\" as E9  <<(T,blue) reference>> [[psysml:aeeab6cc-3339-44ed-a45c-f65a5d97c376 ]] {\r\n",
       "<&bar-trig> b: B <s>P::a</s>\r\n",
       "}\r\n",
       "comp usage \"y: P\" as E10  <<(T,blue) part>> [[psysml:fe63b1e8-840a-4f2e-b06a-2ce986f19d03 ]] {\r\n",
       "}\r\n",
       "E3 - -|> E2 [[psysml:6495a820-e8c0-4129-af26-6722c3b7b9e6 ]] \r\n",
       "E5 - -|> E2 [[psysml:bd00e4e7-d183-497a-b9f8-56660fc51e3e ]] \r\n",
       "E5 )- ->> E6 [[psysml:3ec706da-d65f-4ef5-8a1f-1e1b5df7e7c6 ]] : <<variant>>\r\n",
       "E7 - -:|> E3 [[psysml:9cf32953-475b-4011-b1f8-e7f09d5ce449 ]] \r\n",
       "E8 - -:|> E2 [[psysml:d1a9bfbc-b159-49c1-a5ca-956a4881ee49 ]] \r\n",
       "E8 )- ->> E9 [[psysml:4574f674-7c12-4143-bfb7-6a6844a72e64 ]] : <<variant>>\r\n",
       "E10 - -:|> E2 [[psysml:bd829215-07d4-45cb-8fe9-60748d4dd682 ]] \r\n",
       "}\r\n",
       "@enduml\r\n",
       "\n",
       "PlantUML version 1.2020.13(Sat Jun 13 12:26:38 UTC 2020)\n",
       "(EPL source distribution)\n",
       "Java Runtime: OpenJDK Runtime Environment\n",
       "JVM: OpenJDK 64-Bit Server VM\n",
       "Default Encoding: UTF-8\n",
       "Language: en\n",
       "Country: null\n",
       "--></g></svg>"
      ]
     },
     "execution_count": 23,
     "metadata": {},
     "output_type": "execute_result"
    }
   ],
   "source": [
    "%viz --style=\"STDCOLOR\" --view=\"Default\" \"VariabilityTest\""
   ]
  },
  {
   "cell_type": "code",
   "execution_count": 24,
   "id": "3863c442",
   "metadata": {
    "execution": {
     "iopub.execute_input": "2021-08-04T06:26:49.860250Z",
     "iopub.status.busy": "2021-08-04T06:26:49.859856Z",
     "iopub.status.idle": "2021-08-04T06:26:49.903700Z",
     "shell.execute_reply": "2021-08-04T06:26:49.902412Z"
    }
   },
   "outputs": [
    {
     "data": {
      "image/svg+xml": [
       "<?xml version=\"1.0\" encoding=\"UTF-8\" standalone=\"no\"?><svg xmlns=\"http://www.w3.org/2000/svg\" xmlns:xlink=\"http://www.w3.org/1999/xlink\" contentScriptType=\"application/ecmascript\" contentStyleType=\"text/css\" height=\"373px\" preserveAspectRatio=\"none\" style=\"width:419px;height:373px;\" version=\"1.1\" viewBox=\"0 0 419 373\" width=\"419px\" zoomAndPan=\"magnify\"><defs><filter height=\"300%\" id=\"frt026199m00o\" width=\"300%\" x=\"-1\" y=\"-1\"><feGaussianBlur result=\"blurOut\" stdDeviation=\"2.0\"/><feColorMatrix in=\"blurOut\" result=\"blurOut2\" type=\"matrix\" values=\"0 0 0 0 0 0 0 0 0 0 0 0 0 0 0 0 0 0 .4 0\"/><feOffset dx=\"4.0\" dy=\"4.0\" in=\"blurOut2\" result=\"blurOut3\"/><feBlend in=\"SourceGraphic\" in2=\"blurOut3\" mode=\"normal\"/></filter></defs><g><!--MD5=[fbc87193dbaf4d95561dea2c320d4a47]\n",
       "cluster E1--><a href=\"psysml:6e13bc12-600f-4176-9ee3-c77c18f0da6f\" target=\"_top\" title=\"psysml:6e13bc12-600f-4176-9ee3-c77c18f0da6f\" xlink:actuate=\"onRequest\" xlink:href=\"psysml:6e13bc12-600f-4176-9ee3-c77c18f0da6f\" xlink:show=\"new\" xlink:title=\"psysml:6e13bc12-600f-4176-9ee3-c77c18f0da6f\" xlink:type=\"simple\"><polygon fill=\"#FFFFFF\" filter=\"url(#frt026199m00o)\" points=\"16,6,134,6,141,28.2969,397,28.2969,397,361,16,361,16,6\" style=\"stroke: #000000; stroke-width: 1.5;\"/><line style=\"stroke: #000000; stroke-width: 1.5;\" x1=\"16\" x2=\"141\" y1=\"28.2969\" y2=\"28.2969\"/><text fill=\"#000000\" font-family=\"sans-serif\" font-size=\"14\" font-weight=\"bold\" lengthAdjust=\"spacingAndGlyphs\" textLength=\"112\" x=\"20\" y=\"20.9951\">VariabilityTest</text></a><!--MD5=[b4997ac47864f28c2f74865a473b2911]\n",
       "class E2--><a href=\"psysml:a47e4883-53c6-48e5-9729-358fb18738b5\" target=\"_top\" title=\"psysml:a47e4883-53c6-48e5-9729-358fb18738b5\" xlink:actuate=\"onRequest\" xlink:href=\"psysml:a47e4883-53c6-48e5-9729-358fb18738b5\" xlink:show=\"new\" xlink:title=\"psysml:a47e4883-53c6-48e5-9729-358fb18738b5\" xlink:type=\"simple\"><rect fill=\"#FEFECE\" filter=\"url(#frt026199m00o)\" height=\"58.7422\" id=\"E2\" style=\"stroke: #A80036; stroke-width: 1.5;\" width=\"66\" x=\"162\" y=\"285.5\"/><text fill=\"#000000\" font-family=\"sans-serif\" font-size=\"12\" font-style=\"italic\" lengthAdjust=\"spacingAndGlyphs\" textLength=\"64\" x=\"163\" y=\"301.6387\">«part def»</text><text fill=\"#000000\" font-family=\"sans-serif\" font-size=\"12\" lengthAdjust=\"spacingAndGlyphs\" textLength=\"8\" x=\"191\" y=\"315.6074\">P</text><line style=\"stroke: #A80036; stroke-width: 1.5;\" x1=\"163\" x2=\"227\" y1=\"323.4375\" y2=\"323.4375\"/><text fill=\"#000000\" font-family=\"sans-serif\" font-size=\"11\" lengthAdjust=\"spacingAndGlyphs\" textLength=\"7\" x=\"168\" y=\"337.6479\">a</text></a><!--MD5=[09b614a08d8cba4a07c9adeb5e0fee81]\n",
       "class E3--><a href=\"psysml:64152dcd-188c-4285-9d2f-82b4222731ff\" target=\"_top\" title=\"psysml:64152dcd-188c-4285-9d2f-82b4222731ff\" xlink:actuate=\"onRequest\" xlink:href=\"psysml:64152dcd-188c-4285-9d2f-82b4222731ff\" xlink:show=\"new\" xlink:title=\"psysml:64152dcd-188c-4285-9d2f-82b4222731ff\" xlink:type=\"simple\"><rect fill=\"#FEFECE\" filter=\"url(#frt026199m00o)\" height=\"45.9375\" id=\"E3\" style=\"stroke: #A80036; stroke-width: 1.5;\" width=\"66\" x=\"137\" y=\"155\"/><text fill=\"#000000\" font-family=\"sans-serif\" font-size=\"12\" font-style=\"italic\" lengthAdjust=\"spacingAndGlyphs\" textLength=\"64\" x=\"138\" y=\"171.1387\">«part def»</text><text fill=\"#000000\" font-family=\"sans-serif\" font-size=\"12\" lengthAdjust=\"spacingAndGlyphs\" textLength=\"9\" x=\"165.5\" y=\"185.1074\">Q</text><line style=\"stroke: #A80036; stroke-width: 1.5;\" x1=\"138\" x2=\"202\" y1=\"192.9375\" y2=\"192.9375\"/></a><!--MD5=[ebbe1d658d1005bcc118a6aa81145e00]\n",
       "class E4--><a href=\"psysml:6204c3f0-143a-45cc-ac58-9ea86a3a8ea6\" target=\"_top\" title=\"psysml:6204c3f0-143a-45cc-ac58-9ea86a3a8ea6\" xlink:actuate=\"onRequest\" xlink:href=\"psysml:6204c3f0-143a-45cc-ac58-9ea86a3a8ea6\" xlink:show=\"new\" xlink:title=\"psysml:6204c3f0-143a-45cc-ac58-9ea86a3a8ea6\" xlink:type=\"simple\"><rect fill=\"#FEFECE\" filter=\"url(#frt026199m00o)\" height=\"45.9375\" id=\"E4\" style=\"stroke: #A80036; stroke-width: 1.5;\" width=\"95\" x=\"255.5\" y=\"41\"/><text fill=\"#000000\" font-family=\"sans-serif\" font-size=\"12\" font-style=\"italic\" lengthAdjust=\"spacingAndGlyphs\" textLength=\"93\" x=\"256.5\" y=\"57.1387\">«attribute def»</text><text fill=\"#000000\" font-family=\"sans-serif\" font-size=\"12\" lengthAdjust=\"spacingAndGlyphs\" textLength=\"8\" x=\"299\" y=\"71.1074\">B</text><line style=\"stroke: #A80036; stroke-width: 1.5;\" x1=\"256.5\" x2=\"349.5\" y1=\"78.9375\" y2=\"78.9375\"/></a><!--MD5=[270fce915f116d4de14055a7c1d9a0f3]\n",
       "class E5--><a href=\"psysml:58826ca2-a740-4eaa-a71e-521b590388a3\" target=\"_top\" title=\"psysml:58826ca2-a740-4eaa-a71e-521b590388a3\" xlink:actuate=\"onRequest\" xlink:href=\"psysml:58826ca2-a740-4eaa-a71e-521b590388a3\" xlink:show=\"new\" xlink:title=\"psysml:58826ca2-a740-4eaa-a71e-521b590388a3\" xlink:type=\"simple\"><rect fill=\"#FEFECE\" filter=\"url(#frt026199m00o)\" height=\"45.9375\" id=\"E5\" style=\"stroke: #A80036; stroke-width: 1.5;\" width=\"66\" x=\"315\" y=\"155\"/><text fill=\"#000000\" font-family=\"sans-serif\" font-size=\"12\" font-style=\"italic\" lengthAdjust=\"spacingAndGlyphs\" textLength=\"64\" x=\"316\" y=\"171.1387\">«part def»</text><text fill=\"#000000\" font-family=\"sans-serif\" font-size=\"12\" lengthAdjust=\"spacingAndGlyphs\" textLength=\"8\" x=\"344\" y=\"185.1074\">V</text><line style=\"stroke: #A80036; stroke-width: 1.5;\" x1=\"316\" x2=\"380\" y1=\"192.9375\" y2=\"192.9375\"/></a><!--MD5=[60a26617385b1d2d0262a64233df1f8d]\n",
       "class E6--><a href=\"psysml:c2df0e2e-5a66-4a2b-abfc-b3b4dd7dd2c5\" target=\"_top\" title=\"psysml:c2df0e2e-5a66-4a2b-abfc-b3b4dd7dd2c5\" xlink:actuate=\"onRequest\" xlink:href=\"psysml:c2df0e2e-5a66-4a2b-abfc-b3b4dd7dd2c5\" xlink:show=\"new\" xlink:title=\"psysml:c2df0e2e-5a66-4a2b-abfc-b3b4dd7dd2c5\" xlink:type=\"simple\"><rect fill=\"#FEFECE\" filter=\"url(#frt026199m00o)\" height=\"59.6875\" id=\"E6\" rx=\"10\" ry=\"10\" style=\"stroke: #A80036; stroke-width: 1.5;\" width=\"78\" x=\"280\" y=\"285\"/><text fill=\"#000000\" font-family=\"sans-serif\" font-size=\"12\" font-style=\"italic\" lengthAdjust=\"spacingAndGlyphs\" textLength=\"40\" x=\"299\" y=\"301.1387\">«part»</text><text fill=\"#000000\" font-family=\"sans-serif\" font-size=\"12\" lengthAdjust=\"spacingAndGlyphs\" textLength=\"23\" x=\"307.5\" y=\"315.1074\">x: Q</text><line style=\"stroke: #A80036; stroke-width: 1.5;\" x1=\"281\" x2=\"357\" y1=\"322.9375\" y2=\"322.9375\"/><path d=\"M287.9167,327.8542 L287.9167,337.0208 L288.8333,337.0208 L288.8333,327.8542 M291.5833,327.8542 L291.5833,337.0208 L298.9167,332.4375 L291.5833,327.8542 L292.5,329.2292 L297.5417,332.4375 L292.5,335.6458 L292.5,329.2292 \" fill=\"#000000\" style=\"stroke: ; stroke-width: 0.0; stroke-dasharray: ;\"/><text fill=\"#000000\" font-family=\"sans-serif\" font-size=\"11\" lengthAdjust=\"spacingAndGlyphs\" textLength=\"23\" x=\"303\" y=\"338.0933\">b: B</text><text fill=\"#000000\" font-family=\"sans-serif\" font-size=\"11\" lengthAdjust=\"spacingAndGlyphs\" text-decoration=\"line-through\" textLength=\"22\" x=\"330\" y=\"338.0933\">P::a</text></a><!--MD5=[2156ba9850f5573cc1fc38a6a4b2f02b]\n",
       "class E7--><a href=\"psysml:d5aa7800-4c4d-4a74-9f82-8c5d7377a367\" target=\"_top\" title=\"psysml:d5aa7800-4c4d-4a74-9f82-8c5d7377a367\" xlink:actuate=\"onRequest\" xlink:href=\"psysml:d5aa7800-4c4d-4a74-9f82-8c5d7377a367\" xlink:show=\"new\" xlink:title=\"psysml:d5aa7800-4c4d-4a74-9f82-8c5d7377a367\" xlink:type=\"simple\"><rect fill=\"#FEFECE\" filter=\"url(#frt026199m00o)\" height=\"45.9375\" id=\"E7\" rx=\"10\" ry=\"10\" style=\"stroke: #A80036; stroke-width: 1.5;\" width=\"42\" x=\"149\" y=\"41\"/><text fill=\"#000000\" font-family=\"sans-serif\" font-size=\"12\" font-style=\"italic\" lengthAdjust=\"spacingAndGlyphs\" textLength=\"40\" x=\"150\" y=\"57.1387\">«part»</text><text fill=\"#000000\" font-family=\"sans-serif\" font-size=\"12\" lengthAdjust=\"spacingAndGlyphs\" textLength=\"25\" x=\"157.5\" y=\"71.1074\">q: Q</text><line style=\"stroke: #A80036; stroke-width: 1.5;\" x1=\"150\" x2=\"190\" y1=\"78.9375\" y2=\"78.9375\"/></a><!--MD5=[b9389687b975829384b498ac4b7476b2]\n",
       "class E8--><a href=\"psysml:d7b3804f-80e3-4381-979e-bf8e2501fba8\" target=\"_top\" title=\"psysml:d7b3804f-80e3-4381-979e-bf8e2501fba8\" xlink:actuate=\"onRequest\" xlink:href=\"psysml:d7b3804f-80e3-4381-979e-bf8e2501fba8\" xlink:show=\"new\" xlink:title=\"psysml:d7b3804f-80e3-4381-979e-bf8e2501fba8\" xlink:type=\"simple\"><rect fill=\"#FEFECE\" filter=\"url(#frt026199m00o)\" height=\"59.9063\" id=\"E8\" rx=\"10\" ry=\"10\" style=\"stroke: #A80036; stroke-width: 1.5;\" width=\"70\" x=\"32\" y=\"148\"/><text fill=\"#000000\" font-family=\"sans-serif\" font-size=\"12\" font-style=\"italic\" lengthAdjust=\"spacingAndGlyphs\" textLength=\"68\" x=\"33\" y=\"164.1387\">«variation»</text><text fill=\"#000000\" font-family=\"sans-serif\" font-size=\"12\" font-style=\"italic\" lengthAdjust=\"spacingAndGlyphs\" textLength=\"40\" x=\"47\" y=\"178.1074\">«part»</text><text fill=\"#000000\" font-family=\"sans-serif\" font-size=\"12\" lengthAdjust=\"spacingAndGlyphs\" textLength=\"22\" x=\"56\" y=\"192.0762\">v: P</text><line style=\"stroke: #A80036; stroke-width: 1.5;\" x1=\"33\" x2=\"101\" y1=\"199.9063\" y2=\"199.9063\"/></a><!--MD5=[fd4143e9d270a159db93a4ea2a975926]\n",
       "class E9--><a href=\"psysml:aeeab6cc-3339-44ed-a45c-f65a5d97c376\" target=\"_top\" title=\"psysml:aeeab6cc-3339-44ed-a45c-f65a5d97c376\" xlink:actuate=\"onRequest\" xlink:href=\"psysml:aeeab6cc-3339-44ed-a45c-f65a5d97c376\" xlink:show=\"new\" xlink:title=\"psysml:aeeab6cc-3339-44ed-a45c-f65a5d97c376\" xlink:type=\"simple\"><rect fill=\"#FEFECE\" filter=\"url(#frt026199m00o)\" height=\"59.6875\" id=\"E9\" rx=\"10\" ry=\"10\" style=\"stroke: #A80036; stroke-width: 1.5;\" width=\"78\" x=\"32\" y=\"285\"/><text fill=\"#000000\" font-family=\"sans-serif\" font-size=\"12\" font-style=\"italic\" lengthAdjust=\"spacingAndGlyphs\" textLength=\"75\" x=\"33.5\" y=\"301.1387\">«reference»</text><text fill=\"#000000\" font-family=\"sans-serif\" font-size=\"12\" lengthAdjust=\"spacingAndGlyphs\" textLength=\"8\" x=\"67\" y=\"315.1074\">q</text><line style=\"stroke: #A80036; stroke-width: 1.5;\" x1=\"33\" x2=\"109\" y1=\"322.9375\" y2=\"322.9375\"/><path d=\"M39.9167,327.8542 L39.9167,337.0208 L40.8333,337.0208 L40.8333,327.8542 M43.5833,327.8542 L43.5833,337.0208 L50.9167,332.4375 L43.5833,327.8542 L44.5,329.2292 L49.5417,332.4375 L44.5,335.6458 L44.5,329.2292 \" fill=\"#000000\" style=\"stroke: ; stroke-width: 0.0; stroke-dasharray: ;\"/><text fill=\"#000000\" font-family=\"sans-serif\" font-size=\"11\" lengthAdjust=\"spacingAndGlyphs\" textLength=\"23\" x=\"55\" y=\"338.0933\">b: B</text><text fill=\"#000000\" font-family=\"sans-serif\" font-size=\"11\" lengthAdjust=\"spacingAndGlyphs\" text-decoration=\"line-through\" textLength=\"22\" x=\"82\" y=\"338.0933\">P::a</text></a><!--MD5=[96f4274e9e20536e775497830990834d]\n",
       "class E10--><a href=\"psysml:fe63b1e8-840a-4f2e-b06a-2ce986f19d03\" target=\"_top\" title=\"psysml:fe63b1e8-840a-4f2e-b06a-2ce986f19d03\" xlink:actuate=\"onRequest\" xlink:href=\"psysml:fe63b1e8-840a-4f2e-b06a-2ce986f19d03\" xlink:show=\"new\" xlink:title=\"psysml:fe63b1e8-840a-4f2e-b06a-2ce986f19d03\" xlink:type=\"simple\"><rect fill=\"#FEFECE\" filter=\"url(#frt026199m00o)\" height=\"45.9375\" id=\"E10\" rx=\"10\" ry=\"10\" style=\"stroke: #A80036; stroke-width: 1.5;\" width=\"42\" x=\"238\" y=\"155\"/><text fill=\"#000000\" font-family=\"sans-serif\" font-size=\"12\" font-style=\"italic\" lengthAdjust=\"spacingAndGlyphs\" textLength=\"40\" x=\"239\" y=\"171.1387\">«part»</text><text fill=\"#000000\" font-family=\"sans-serif\" font-size=\"12\" lengthAdjust=\"spacingAndGlyphs\" textLength=\"22\" x=\"248\" y=\"185.1074\">y: P</text><line style=\"stroke: #A80036; stroke-width: 1.5;\" x1=\"239\" x2=\"279\" y1=\"192.9375\" y2=\"192.9375\"/></a><!--MD5=[05d275557350bfb9b23a4ef7222b4c39]\n",
       "link E3 to E2--><a href=\"psysml:6495a820-e8c0-4129-af26-6722c3b7b9e6\" target=\"_top\" title=\"psysml:6495a820-e8c0-4129-af26-6722c3b7b9e6\" xlink:actuate=\"onRequest\" xlink:href=\"psysml:6495a820-e8c0-4129-af26-6722c3b7b9e6\" xlink:show=\"new\" xlink:title=\"psysml:6495a820-e8c0-4129-af26-6722c3b7b9e6\" xlink:type=\"simple\"><path d=\"M174.13,201.29 C177.34,218.66 181.93,243.41 185.98,265.3 \" fill=\"none\" id=\"E3-&gt;E2\" style=\"stroke: #A80036; stroke-width: 1.0;\"/><polygon fill=\"none\" points=\"192.88,264.14,189.64,285.08,179.12,266.68,192.88,264.14\" style=\"stroke: #A80036; stroke-width: 1.0;\"/></a><!--MD5=[15ebcb19ae302d9b601edb458606d402]\n",
       "link E5 to E2--><a href=\"psysml:bd00e4e7-d183-497a-b9f8-56660fc51e3e\" target=\"_top\" title=\"psysml:bd00e4e7-d183-497a-b9f8-56660fc51e3e\" xlink:actuate=\"onRequest\" xlink:href=\"psysml:bd00e4e7-d183-497a-b9f8-56660fc51e3e\" xlink:show=\"new\" xlink:title=\"psysml:bd00e4e7-d183-497a-b9f8-56660fc51e3e\" xlink:type=\"simple\"><path d=\"M322.74,201.29 C301.06,220.42 269.21,248.52 242.75,271.87 \" fill=\"none\" id=\"E5-&gt;E2\" style=\"stroke: #A80036; stroke-width: 1.0;\"/><polygon fill=\"none\" points=\"247.13,277.34,227.5,285.32,237.87,266.84,247.13,277.34\" style=\"stroke: #A80036; stroke-width: 1.0;\"/></a><!--MD5=[9120cf2e5df3bff93db8f754bbbc09b4]\n",
       "link E5 to E6--><a href=\"psysml:3ec706da-d65f-4ef5-8a1f-1e1b5df7e7c6\" target=\"_top\" title=\"psysml:3ec706da-d65f-4ef5-8a1f-1e1b5df7e7c6\" xlink:actuate=\"onRequest\" xlink:href=\"psysml:3ec706da-d65f-4ef5-8a1f-1e1b5df7e7c6\" xlink:show=\"new\" xlink:title=\"psysml:3ec706da-d65f-4ef5-8a1f-1e1b5df7e7c6\" xlink:type=\"simple\"><path d=\"M341.07,211.28 C336.97,230.34 331.76,254.6 327.43,274.76 \" fill=\"none\" id=\"E5-E6\" style=\"stroke: #A80036; stroke-width: 1.0;\"/><polygon fill=\"#A80036\" points=\"325.32,284.58,329.9339,277.3889,324.0679,276.1282,325.32,284.58\" style=\"stroke: #A80036; stroke-width: 1.0;\"/><path d=\"M334.2948,202.5225 A9,9 0 0 0 350.8317 206.0765\" fill=\"none\" style=\"stroke: #A80036; stroke-width: 1.5;\"/><text fill=\"#000000\" font-family=\"sans-serif\" font-size=\"13\" lengthAdjust=\"spacingAndGlyphs\" textLength=\"60\" x=\"336\" y=\"251.0669\">«variant»</text></a><!--MD5=[14ccda38c055a5c0da953d572bc50960]\n",
       "link E7 to E3--><a href=\"psysml:9cf32953-475b-4011-b1f8-e7f09d5ce449\" target=\"_top\" title=\"psysml:9cf32953-475b-4011-b1f8-e7f09d5ce449\" xlink:actuate=\"onRequest\" xlink:href=\"psysml:9cf32953-475b-4011-b1f8-e7f09d5ce449\" xlink:show=\"new\" xlink:title=\"psysml:9cf32953-475b-4011-b1f8-e7f09d5ce449\" xlink:type=\"simple\"><path d=\"M170,87.13 C170,100.7 170,118.53 170,134.73 \" fill=\"none\" id=\"E7-&gt;E3\" style=\"stroke: #A80036; stroke-width: 1.0;\"/><polygon fill=\"#FFFFFF\" points=\"170,154.92,163,135.92,177,135.92,170,154.92\" style=\"stroke: #A80036; stroke-width: 1.0;\"/><ellipse cx=\"165\" cy=\"130.22\" fill=\"#A80036\" rx=\"2\" ry=\"2\" style=\"stroke: #A80036; stroke-width: 1.0;\"/><ellipse cx=\"175\" cy=\"130.22\" fill=\"#A80036\" rx=\"2\" ry=\"2\" style=\"stroke: #A80036; stroke-width: 1.0;\"/></a><!--MD5=[f1f3f9f2fc535e6147756cb86a7f2e32]\n",
       "link E8 to E2--><a href=\"psysml:d1a9bfbc-b159-49c1-a5ca-956a4881ee49\" target=\"_top\" title=\"psysml:d1a9bfbc-b159-49c1-a5ca-956a4881ee49\" xlink:actuate=\"onRequest\" xlink:href=\"psysml:d1a9bfbc-b159-49c1-a5ca-956a4881ee49\" xlink:show=\"new\" xlink:title=\"psysml:d1a9bfbc-b159-49c1-a5ca-956a4881ee49\" xlink:type=\"simple\"><path d=\"M102.23,204.97 C114.45,214.72 127.87,226.28 139,238 C147.93,247.4 156.69,258.25 164.53,268.75 \" fill=\"none\" id=\"E8-&gt;E2\" style=\"stroke: #A80036; stroke-width: 1.0;\"/><polygon fill=\"#FFFFFF\" points=\"176.35,285.25,159.5896,273.8883,170.967,265.7302,176.35,285.25\" style=\"stroke: #A80036; stroke-width: 1.0;\"/><ellipse cx=\"157.8934\" cy=\"268.0907\" fill=\"#A80036\" rx=\"2\" ry=\"2\" style=\"stroke: #A80036; stroke-width: 1.0;\"/><ellipse cx=\"166.0201\" cy=\"262.2634\" fill=\"#A80036\" rx=\"2\" ry=\"2\" style=\"stroke: #A80036; stroke-width: 1.0;\"/></a><!--MD5=[ed10624c06dd9a4fa49ccf290e8b16a8]\n",
       "link E8 to E9--><a href=\"psysml:4574f674-7c12-4143-bfb7-6a6844a72e64\" target=\"_top\" title=\"psysml:4574f674-7c12-4143-bfb7-6a6844a72e64\" xlink:actuate=\"onRequest\" xlink:href=\"psysml:4574f674-7c12-4143-bfb7-6a6844a72e64\" xlink:show=\"new\" xlink:title=\"psysml:4574f674-7c12-4143-bfb7-6a6844a72e64\" xlink:type=\"simple\"><path d=\"M68.16,218.31 C68.69,236.06 69.31,256.98 69.84,274.73 \" fill=\"none\" id=\"E8-E9\" style=\"stroke: #A80036; stroke-width: 1.0;\"/><polygon fill=\"#A80036\" points=\"70.13,284.76,72.8888,276.6736,66.8915,276.8536,70.13,284.76\" style=\"stroke: #A80036; stroke-width: 1.0;\"/><path d=\"M59.509,211.6208 A9,9 0 0 0 76.4159 211.1128\" fill=\"none\" style=\"stroke: #A80036; stroke-width: 1.5;\"/><text fill=\"#000000\" font-family=\"sans-serif\" font-size=\"13\" lengthAdjust=\"spacingAndGlyphs\" textLength=\"60\" x=\"70\" y=\"251.0669\">«variant»</text></a><!--MD5=[0f36bececdf0dff6e600d6f64214b0f1]\n",
       "link E10 to E2--><a href=\"psysml:bd829215-07d4-45cb-8fe9-60748d4dd682\" target=\"_top\" title=\"psysml:bd829215-07d4-45cb-8fe9-60748d4dd682\" xlink:actuate=\"onRequest\" xlink:href=\"psysml:bd829215-07d4-45cb-8fe9-60748d4dd682\" xlink:show=\"new\" xlink:title=\"psysml:bd829215-07d4-45cb-8fe9-60748d4dd682\" xlink:type=\"simple\"><path d=\"M248.43,201.29 C239.99,219.11 227.86,244.69 217.29,266.99 \" fill=\"none\" id=\"E10-&gt;E2\" style=\"stroke: #A80036; stroke-width: 1.0;\"/><polygon fill=\"#FFFFFF\" points=\"208.71,285.08,210.5216,264.9127,223.1727,270.9085,208.71,285.08\" style=\"stroke: #A80036; stroke-width: 1.0;\"/><ellipse cx=\"214.77\" cy=\"260.6185\" fill=\"#A80036\" rx=\"2\" ry=\"2\" style=\"stroke: #A80036; stroke-width: 1.0;\"/><ellipse cx=\"223.8065\" cy=\"264.9012\" fill=\"#A80036\" rx=\"2\" ry=\"2\" style=\"stroke: #A80036; stroke-width: 1.0;\"/></a><!--MD5=[2cc451eb72fbb310de27fbbd304545ad]\n",
       "@startuml\r\n",
       "skinparam wrapWidth 300\r\n",
       "hide circle\r\n",
       "\r\n",
       "package \"VariabilityTest\" as E1  [[psysml:6e13bc12-600f-4176-9ee3-c77c18f0da6f ]]  {\r\n",
       "comp def \"P\" as E2  <<(T,blue) part def>> [[psysml:a47e4883-53c6-48e5-9729-358fb18738b5 ]] {\r\n",
       "a\r\n",
       "}\r\n",
       "comp def \"Q\" as E3  <<(T,blue) part def>> [[psysml:64152dcd-188c-4285-9d2f-82b4222731ff ]] {\r\n",
       "}\r\n",
       "comp def \"B\" as E4  <<(T,blue) attribute def>> [[psysml:6204c3f0-143a-45cc-ac58-9ea86a3a8ea6 ]] {\r\n",
       "}\r\n",
       "comp def \"V\" as E5  <<(T,blue) part def>> [[psysml:58826ca2-a740-4eaa-a71e-521b590388a3 ]] {\r\n",
       "}\r\n",
       "comp usage \"x: Q\" as E6  <<(T,blue) part>> [[psysml:c2df0e2e-5a66-4a2b-abfc-b3b4dd7dd2c5 ]] {\r\n",
       "<&bar-trig> b: B <s>P::a</s>\r\n",
       "}\r\n",
       "comp usage \"q: Q\" as E7  <<(T,blue) part>> [[psysml:d5aa7800-4c4d-4a74-9f82-8c5d7377a367 ]] {\r\n",
       "}\r\n",
       "comp usage \"v: P\" as E8  <<variation>>\\n <<(T,blue) part>> [[psysml:d7b3804f-80e3-4381-979e-bf8e2501fba8 ]] {\r\n",
       "}\r\n",
       "comp usage \"q\" as E9  <<(T,blue) reference>> [[psysml:aeeab6cc-3339-44ed-a45c-f65a5d97c376 ]] {\r\n",
       "<&bar-trig> b: B <s>P::a</s>\r\n",
       "}\r\n",
       "comp usage \"y: P\" as E10  <<(T,blue) part>> [[psysml:fe63b1e8-840a-4f2e-b06a-2ce986f19d03 ]] {\r\n",
       "}\r\n",
       "E3 - -|> E2 [[psysml:6495a820-e8c0-4129-af26-6722c3b7b9e6 ]] \r\n",
       "E5 - -|> E2 [[psysml:bd00e4e7-d183-497a-b9f8-56660fc51e3e ]] \r\n",
       "E5 )- ->> E6 [[psysml:3ec706da-d65f-4ef5-8a1f-1e1b5df7e7c6 ]] : <<variant>>\r\n",
       "E7 - -:|> E3 [[psysml:9cf32953-475b-4011-b1f8-e7f09d5ce449 ]] \r\n",
       "E8 - -:|> E2 [[psysml:d1a9bfbc-b159-49c1-a5ca-956a4881ee49 ]] \r\n",
       "E8 )- ->> E9 [[psysml:4574f674-7c12-4143-bfb7-6a6844a72e64 ]] : <<variant>>\r\n",
       "E10 - -:|> E2 [[psysml:bd829215-07d4-45cb-8fe9-60748d4dd682 ]] \r\n",
       "}\r\n",
       "@enduml\r\n",
       "\n",
       "PlantUML version 1.2020.13(Sat Jun 13 12:26:38 UTC 2020)\n",
       "(EPL source distribution)\n",
       "Java Runtime: OpenJDK Runtime Environment\n",
       "JVM: OpenJDK 64-Bit Server VM\n",
       "Default Encoding: UTF-8\n",
       "Language: en\n",
       "Country: null\n",
       "--></g></svg>"
      ]
     },
     "execution_count": 24,
     "metadata": {},
     "output_type": "execute_result"
    }
   ],
   "source": [
    "%viz --style=\"STDCOLOR\" --view=\"Tree\" \"VariabilityTest\""
   ]
  },
  {
   "cell_type": "code",
   "execution_count": 25,
   "id": "1d8aa332",
   "metadata": {
    "execution": {
     "iopub.execute_input": "2021-08-04T06:26:49.953167Z",
     "iopub.status.busy": "2021-08-04T06:26:49.952766Z",
     "iopub.status.idle": "2021-08-04T06:26:49.955970Z",
     "shell.execute_reply": "2021-08-04T06:26:49.955598Z"
    }
   },
   "outputs": [
    {
     "data": {
      "image/svg+xml": [
       "<?xml version=\"1.0\" encoding=\"UTF-8\" standalone=\"no\"?><svg xmlns=\"http://www.w3.org/2000/svg\" xmlns:xlink=\"http://www.w3.org/1999/xlink\" contentScriptType=\"application/ecmascript\" contentStyleType=\"text/css\" height=\"12px\" preserveAspectRatio=\"none\" style=\"width:12px;height:12px;\" version=\"1.1\" viewBox=\"0 0 12 12\" width=\"12px\" zoomAndPan=\"magnify\"><defs/><g><!--MD5=[aeeef50f102b80d730deb6443d14f702]\n",
       "@startuml\r\n",
       "skinparam wrapWidth 300\r\n",
       "hide circle\r\n",
       "\r\n",
       "@enduml\r\n",
       "\n",
       "PlantUML version 1.2020.13(Sat Jun 13 12:26:38 UTC 2020)\n",
       "(EPL source distribution)\n",
       "Java Runtime: OpenJDK Runtime Environment\n",
       "JVM: OpenJDK 64-Bit Server VM\n",
       "Default Encoding: UTF-8\n",
       "Language: en\n",
       "Country: null\n",
       "--></g></svg>"
      ]
     },
     "execution_count": 25,
     "metadata": {},
     "output_type": "execute_result"
    }
   ],
   "source": [
    "%viz --style=\"STDCOLOR\" --view=\"State\" \"VariabilityTest\""
   ]
  },
  {
   "cell_type": "code",
   "execution_count": 26,
   "id": "ee91b661",
   "metadata": {
    "execution": {
     "iopub.execute_input": "2021-08-04T06:26:50.005779Z",
     "iopub.status.busy": "2021-08-04T06:26:50.005388Z",
     "iopub.status.idle": "2021-08-04T06:26:50.046934Z",
     "shell.execute_reply": "2021-08-04T06:26:50.045705Z"
    }
   },
   "outputs": [
    {
     "data": {
      "image/svg+xml": [
       "<?xml version=\"1.0\" encoding=\"UTF-8\" standalone=\"no\"?><svg xmlns=\"http://www.w3.org/2000/svg\" xmlns:xlink=\"http://www.w3.org/1999/xlink\" contentScriptType=\"application/ecmascript\" contentStyleType=\"text/css\" height=\"399px\" preserveAspectRatio=\"none\" style=\"width:797px;height:399px;\" version=\"1.1\" viewBox=\"0 0 797 399\" width=\"797px\" zoomAndPan=\"magnify\"><defs><filter height=\"300%\" id=\"f10q557nmn8vek\" width=\"300%\" x=\"-1\" y=\"-1\"><feGaussianBlur result=\"blurOut\" stdDeviation=\"2.0\"/><feColorMatrix in=\"blurOut\" result=\"blurOut2\" type=\"matrix\" values=\"0 0 0 0 0 0 0 0 0 0 0 0 0 0 0 0 0 0 .4 0\"/><feOffset dx=\"4.0\" dy=\"4.0\" in=\"blurOut2\" result=\"blurOut3\"/><feBlend in=\"SourceGraphic\" in2=\"blurOut3\" mode=\"normal\"/></filter></defs><g><!--MD5=[fbc87193dbaf4d95561dea2c320d4a47]\n",
       "cluster E1--><a href=\"psysml:6e13bc12-600f-4176-9ee3-c77c18f0da6f\" target=\"_top\" title=\"psysml:6e13bc12-600f-4176-9ee3-c77c18f0da6f\" xlink:actuate=\"onRequest\" xlink:href=\"psysml:6e13bc12-600f-4176-9ee3-c77c18f0da6f\" xlink:show=\"new\" xlink:title=\"psysml:6e13bc12-600f-4176-9ee3-c77c18f0da6f\" xlink:type=\"simple\"><polygon fill=\"#FFFFFF\" filter=\"url(#f10q557nmn8vek)\" points=\"16,6,134,6,141,28.2969,775,28.2969,775,387,16,387,16,6\" style=\"stroke: #000000; stroke-width: 1.5;\"/><line style=\"stroke: #000000; stroke-width: 1.5;\" x1=\"16\" x2=\"141\" y1=\"28.2969\" y2=\"28.2969\"/><text fill=\"#000000\" font-family=\"sans-serif\" font-size=\"14\" font-weight=\"bold\" lengthAdjust=\"spacingAndGlyphs\" textLength=\"112\" x=\"20\" y=\"20.9951\">VariabilityTest</text></a><!--MD5=[e4f7fae6ed58524ba242bb0b0d3be6b7]\n",
       "cluster E2--><a href=\"psysml:a47e4883-53c6-48e5-9729-358fb18738b5\" target=\"_top\" title=\"psysml:a47e4883-53c6-48e5-9729-358fb18738b5\" xlink:actuate=\"onRequest\" xlink:href=\"psysml:a47e4883-53c6-48e5-9729-358fb18738b5\" xlink:show=\"new\" xlink:title=\"psysml:a47e4883-53c6-48e5-9729-358fb18738b5\" xlink:type=\"simple\"><rect fill=\"#FFFFFF\" filter=\"url(#f10q557nmn8vek)\" height=\"129\" id=\"E2\" style=\"stroke: #A80036; stroke-width: 1.5;\" width=\"139\" x=\"428\" y=\"226\"/><rect fill=\"#FEFECE\" height=\"37.9375\" style=\"stroke: #A80036; stroke-width: 1.5;\" width=\"139\" x=\"428\" y=\"226\"/><text fill=\"#000000\" font-family=\"sans-serif\" font-size=\"12\" font-style=\"italic\" lengthAdjust=\"spacingAndGlyphs\" textLength=\"64\" x=\"465.5\" y=\"242.1387\">«part def»</text><text fill=\"#000000\" font-family=\"sans-serif\" font-size=\"12\" lengthAdjust=\"spacingAndGlyphs\" textLength=\"8\" x=\"493.5\" y=\"256.1074\">P</text></a><!--MD5=[14e3b0961a2654348d326746436168a1]\n",
       "cluster E6--><a href=\"psysml:58826ca2-a740-4eaa-a71e-521b590388a3\" target=\"_top\" title=\"psysml:58826ca2-a740-4eaa-a71e-521b590388a3\" xlink:actuate=\"onRequest\" xlink:href=\"psysml:58826ca2-a740-4eaa-a71e-521b590388a3\" xlink:show=\"new\" xlink:title=\"psysml:58826ca2-a740-4eaa-a71e-521b590388a3\" xlink:type=\"simple\"><rect fill=\"#FFFFFF\" filter=\"url(#f10q557nmn8vek)\" height=\"129\" id=\"E6\" style=\"stroke: #A80036; stroke-width: 1.5;\" width=\"145\" x=\"598\" y=\"57\"/><rect fill=\"#FEFECE\" height=\"37.9375\" style=\"stroke: #A80036; stroke-width: 1.5;\" width=\"145\" x=\"598\" y=\"57\"/><text fill=\"#000000\" font-family=\"sans-serif\" font-size=\"12\" font-style=\"italic\" lengthAdjust=\"spacingAndGlyphs\" textLength=\"64\" x=\"638.5\" y=\"73.1387\">«part def»</text><text fill=\"#000000\" font-family=\"sans-serif\" font-size=\"12\" lengthAdjust=\"spacingAndGlyphs\" textLength=\"8\" x=\"666.5\" y=\"87.1074\">V</text></a><!--MD5=[7f149f147074ac12df2cb0a7728a5fb0]\n",
       "cluster E9--><a href=\"psysml:d7b3804f-80e3-4381-979e-bf8e2501fba8\" target=\"_top\" title=\"psysml:d7b3804f-80e3-4381-979e-bf8e2501fba8\" xlink:actuate=\"onRequest\" xlink:href=\"psysml:d7b3804f-80e3-4381-979e-bf8e2501fba8\" xlink:show=\"new\" xlink:title=\"psysml:d7b3804f-80e3-4381-979e-bf8e2501fba8\" xlink:type=\"simple\"><rect fill=\"#FFFFFF\" filter=\"url(#f10q557nmn8vek)\" height=\"111\" id=\"E9\" rx=\"10\" ry=\"10\" style=\"stroke: #A80036; stroke-width: 1.5;\" width=\"110\" x=\"456\" y=\"74\"/><rect fill=\"#FEFECE\" height=\"23.9688\" rx=\"10\" ry=\"10\" style=\"stroke: #FEFECE; stroke-width: 1.5;\" width=\"110\" x=\"456\" y=\"74\"/><rect fill=\"#FEFECE\" height=\"10\" style=\"stroke: #FEFECE; stroke-width: 1.5;\" width=\"110\" x=\"456\" y=\"87.9688\"/><rect fill=\"none\" height=\"111\" id=\"E9\" rx=\"10\" ry=\"10\" style=\"stroke: #A80036; stroke-width: 1.5;\" width=\"110\" x=\"456\" y=\"74\"/><text fill=\"#000000\" font-family=\"sans-serif\" font-size=\"12\" lengthAdjust=\"spacingAndGlyphs\" textLength=\"22\" x=\"500\" y=\"90.1387\">v: P</text><line style=\"stroke: #A80036; stroke-width: 1.0;\" x1=\"456\" x2=\"566\" y1=\"97.9688\" y2=\"97.9688\"/></a><g id=\"E1.E5\"><a href=\"psysml:6204c3f0-143a-45cc-ac58-9ea86a3a8ea6\" target=\"_top\" title=\"psysml:6204c3f0-143a-45cc-ac58-9ea86a3a8ea6\" xlink:actuate=\"onRequest\" xlink:href=\"psysml:6204c3f0-143a-45cc-ac58-9ea86a3a8ea6\" xlink:show=\"new\" xlink:title=\"psysml:6204c3f0-143a-45cc-ac58-9ea86a3a8ea6\" xlink:type=\"simple\"><rect fill=\"#FEFECE\" filter=\"url(#f10q557nmn8vek)\" height=\"42.9375\" id=\"E5\" style=\"stroke: #A80036; stroke-width: 1.5;\" width=\"100\" x=\"337\" y=\"117.5\"/><text fill=\"#000000\" font-family=\"sans-serif\" font-size=\"12\" font-style=\"italic\" lengthAdjust=\"spacingAndGlyphs\" textLength=\"93\" x=\"340.5\" y=\"133.6387\">«attribute def»</text><text fill=\"#000000\" font-family=\"sans-serif\" font-size=\"12\" lengthAdjust=\"spacingAndGlyphs\" textLength=\"8\" x=\"383\" y=\"147.6074\">B</text></a></g><!--MD5=[09b614a08d8cba4a07c9adeb5e0fee81]\n",
       "class E3--><a href=\"psysml:af83713f-f16b-4de7-b4a6-ecd5bab1fc22\" target=\"_top\" title=\"psysml:af83713f-f16b-4de7-b4a6-ecd5bab1fc22\" xlink:actuate=\"onRequest\" xlink:href=\"psysml:af83713f-f16b-4de7-b4a6-ecd5bab1fc22\" xlink:show=\"new\" xlink:title=\"psysml:af83713f-f16b-4de7-b4a6-ecd5bab1fc22\" xlink:type=\"simple\"><rect fill=\"#FEFECE\" filter=\"url(#f10q557nmn8vek)\" height=\"45.9375\" id=\"E3\" rx=\"10\" ry=\"10\" style=\"stroke: #A80036; stroke-width: 1.5;\" width=\"71\" x=\"471.5\" y=\"285\"/><text fill=\"#000000\" font-family=\"sans-serif\" font-size=\"12\" font-style=\"italic\" lengthAdjust=\"spacingAndGlyphs\" textLength=\"69\" x=\"472.5\" y=\"301.1387\">«attribute»</text><text fill=\"#000000\" font-family=\"sans-serif\" font-size=\"12\" lengthAdjust=\"spacingAndGlyphs\" textLength=\"8\" x=\"503\" y=\"315.1074\">a</text><line style=\"stroke: #A80036; stroke-width: 1.5;\" x1=\"472.5\" x2=\"541.5\" y1=\"322.9375\" y2=\"322.9375\"/></a><g id=\"E1.E4\"><a href=\"psysml:64152dcd-188c-4285-9d2f-82b4222731ff\" target=\"_top\" title=\"psysml:64152dcd-188c-4285-9d2f-82b4222731ff\" xlink:actuate=\"onRequest\" xlink:href=\"psysml:64152dcd-188c-4285-9d2f-82b4222731ff\" xlink:show=\"new\" xlink:title=\"psysml:64152dcd-188c-4285-9d2f-82b4222731ff\" xlink:type=\"simple\"><rect fill=\"#FEFECE\" filter=\"url(#f10q557nmn8vek)\" height=\"42.9375\" id=\"E4\" style=\"stroke: #A80036; stroke-width: 1.5;\" width=\"71\" x=\"230.5\" y=\"117.5\"/><text fill=\"#000000\" font-family=\"sans-serif\" font-size=\"12\" font-style=\"italic\" lengthAdjust=\"spacingAndGlyphs\" textLength=\"64\" x=\"234\" y=\"133.6387\">«part def»</text><text fill=\"#000000\" font-family=\"sans-serif\" font-size=\"12\" lengthAdjust=\"spacingAndGlyphs\" textLength=\"9\" x=\"261.5\" y=\"147.6074\">Q</text></a></g><!--MD5=[2156ba9850f5573cc1fc38a6a4b2f02b]\n",
       "class E7--><a href=\"psysml:c2df0e2e-5a66-4a2b-abfc-b3b4dd7dd2c5\" target=\"_top\" title=\"psysml:c2df0e2e-5a66-4a2b-abfc-b3b4dd7dd2c5\" xlink:actuate=\"onRequest\" xlink:href=\"psysml:c2df0e2e-5a66-4a2b-abfc-b3b4dd7dd2c5\" xlink:show=\"new\" xlink:title=\"psysml:c2df0e2e-5a66-4a2b-abfc-b3b4dd7dd2c5\" xlink:type=\"simple\"><rect fill=\"#FEFECE\" filter=\"url(#f10q557nmn8vek)\" height=\"45.7188\" id=\"E7\" rx=\"10\" ry=\"10\" style=\"stroke: #A80036; stroke-width: 1.5;\" width=\"78\" x=\"641\" y=\"116\"/><text fill=\"#000000\" font-family=\"sans-serif\" font-size=\"12\" lengthAdjust=\"spacingAndGlyphs\" textLength=\"23\" x=\"668.5\" y=\"132.1387\">x: Q</text><line style=\"stroke: #A80036; stroke-width: 1.5;\" x1=\"642\" x2=\"718\" y1=\"139.9688\" y2=\"139.9688\"/><path d=\"M648.9167,144.8854 L648.9167,154.0521 L649.8333,154.0521 L649.8333,144.8854 M652.5833,144.8854 L652.5833,154.0521 L659.9167,149.4688 L652.5833,144.8854 L653.5,146.2604 L658.5417,149.4688 L653.5,152.6771 L653.5,146.2604 \" fill=\"#000000\" style=\"stroke: ; stroke-width: 0.0; stroke-dasharray: ;\"/><text fill=\"#000000\" font-family=\"sans-serif\" font-size=\"11\" lengthAdjust=\"spacingAndGlyphs\" textLength=\"23\" x=\"664\" y=\"155.1245\">b: B</text><text fill=\"#000000\" font-family=\"sans-serif\" font-size=\"11\" lengthAdjust=\"spacingAndGlyphs\" text-decoration=\"line-through\" textLength=\"22\" x=\"691\" y=\"155.1245\">P::a</text></a><g id=\"E1.E8\"><a href=\"psysml:d5aa7800-4c4d-4a74-9f82-8c5d7377a367\" target=\"_top\" title=\"psysml:d5aa7800-4c4d-4a74-9f82-8c5d7377a367\" xlink:actuate=\"onRequest\" xlink:href=\"psysml:d5aa7800-4c4d-4a74-9f82-8c5d7377a367\" xlink:show=\"new\" xlink:title=\"psysml:d5aa7800-4c4d-4a74-9f82-8c5d7377a367\" xlink:type=\"simple\"><rect fill=\"#FEFECE\" filter=\"url(#f10q557nmn8vek)\" height=\"40\" id=\"E8\" rx=\"10\" ry=\"10\" style=\"stroke: #A80036; stroke-width: 1.5;\" width=\"50\" x=\"145\" y=\"119\"/><text fill=\"#000000\" font-family=\"sans-serif\" font-size=\"12\" lengthAdjust=\"spacingAndGlyphs\" textLength=\"25\" x=\"157.5\" y=\"135.1387\">q: Q</text></a></g><!--MD5=[96f4274e9e20536e775497830990834d]\n",
       "class E10--><a href=\"psysml:aeeab6cc-3339-44ed-a45c-f65a5d97c376\" target=\"_top\" title=\"psysml:aeeab6cc-3339-44ed-a45c-f65a5d97c376\" xlink:actuate=\"onRequest\" xlink:href=\"psysml:aeeab6cc-3339-44ed-a45c-f65a5d97c376\" xlink:show=\"new\" xlink:title=\"psysml:aeeab6cc-3339-44ed-a45c-f65a5d97c376\" xlink:type=\"simple\"><rect fill=\"#FEFECE\" filter=\"url(#f10q557nmn8vek)\" height=\"59.6875\" id=\"E10\" rx=\"10\" ry=\"10\" style=\"stroke: #A80036; stroke-width: 1.5;\" width=\"78\" x=\"472\" y=\"109\"/><text fill=\"#000000\" font-family=\"sans-serif\" font-size=\"12\" font-style=\"italic\" lengthAdjust=\"spacingAndGlyphs\" textLength=\"75\" x=\"473.5\" y=\"125.1387\">«reference»</text><text fill=\"#000000\" font-family=\"sans-serif\" font-size=\"12\" lengthAdjust=\"spacingAndGlyphs\" textLength=\"8\" x=\"507\" y=\"139.1074\">q</text><line style=\"stroke: #A80036; stroke-width: 1.5;\" x1=\"473\" x2=\"549\" y1=\"146.9375\" y2=\"146.9375\"/><path d=\"M479.9167,151.8542 L479.9167,161.0208 L480.8333,161.0208 L480.8333,151.8542 M483.5833,151.8542 L483.5833,161.0208 L490.9167,156.4375 L483.5833,151.8542 L484.5,153.2292 L489.5417,156.4375 L484.5,159.6458 L484.5,153.2292 \" fill=\"#000000\" style=\"stroke: ; stroke-width: 0.0; stroke-dasharray: ;\"/><text fill=\"#000000\" font-family=\"sans-serif\" font-size=\"11\" lengthAdjust=\"spacingAndGlyphs\" textLength=\"23\" x=\"495\" y=\"162.0933\">b: B</text><text fill=\"#000000\" font-family=\"sans-serif\" font-size=\"11\" lengthAdjust=\"spacingAndGlyphs\" text-decoration=\"line-through\" textLength=\"22\" x=\"522\" y=\"162.0933\">P::a</text></a><g id=\"E1.E11\"><a href=\"psysml:fe63b1e8-840a-4f2e-b06a-2ce986f19d03\" target=\"_top\" title=\"psysml:fe63b1e8-840a-4f2e-b06a-2ce986f19d03\" xlink:actuate=\"onRequest\" xlink:href=\"psysml:fe63b1e8-840a-4f2e-b06a-2ce986f19d03\" xlink:show=\"new\" xlink:title=\"psysml:fe63b1e8-840a-4f2e-b06a-2ce986f19d03\" xlink:type=\"simple\"><rect fill=\"#FEFECE\" filter=\"url(#f10q557nmn8vek)\" height=\"40\" id=\"E11\" rx=\"10\" ry=\"10\" style=\"stroke: #A80036; stroke-width: 1.5;\" width=\"77\" x=\"32.5\" y=\"119\"/><text fill=\"#000000\" font-family=\"sans-serif\" font-size=\"12\" lengthAdjust=\"spacingAndGlyphs\" textLength=\"62\" x=\"38\" y=\"135.1387\">y: P= v::q;</text></a></g><!--MD5=[185131fc0dcab0a4505a2ebe144e961b]\n",
       "link E4 to E2--><a href=\"psysml:6495a820-e8c0-4129-af26-6722c3b7b9e6\" target=\"_top\" title=\"psysml:6495a820-e8c0-4129-af26-6722c3b7b9e6\" xlink:actuate=\"onRequest\" xlink:href=\"psysml:6495a820-e8c0-4129-af26-6722c3b7b9e6\" xlink:show=\"new\" xlink:title=\"psysml:6495a820-e8c0-4129-af26-6722c3b7b9e6\" xlink:type=\"simple\"><path d=\"M282.92,160.65 C293.28,172.97 307,188.75 320,202 C343.97,226.43 372.445,252.2475 395.1838,272.1688 C406.5531,282.1294 416.4884,290.6159 423.7095,296.718 C424.6122,297.4807 425.4724,298.2062 426.2877,298.8927 C426.6954,299.2359 427.0918,299.5694 427.4767,299.8929 C427.5729,299.9737 427.6684,300.054 427.7632,300.1336 \" fill=\"none\" id=\"E4-&gt;E2\" style=\"stroke: #A80036; stroke-width: 1.0;\"/><polygon fill=\"#FFFFFF\" points=\"427.7632,300.1336,417.7182,282.5524,408.7129,293.2717,427.7632,300.1336\" style=\"stroke: #A80036; stroke-width: 1.0;\"/></a><!--MD5=[2351f337d6de0f557b50152ba70847b5]\n",
       "link E6 to E2--><a href=\"psysml:bd00e4e7-d183-497a-b9f8-56660fc51e3e\" target=\"_top\" title=\"psysml:bd00e4e7-d183-497a-b9f8-56660fc51e3e\" xlink:actuate=\"onRequest\" xlink:href=\"psysml:bd00e4e7-d183-497a-b9f8-56660fc51e3e\" xlink:show=\"new\" xlink:title=\"psysml:bd00e4e7-d183-497a-b9f8-56660fc51e3e\" xlink:type=\"simple\"><path d=\"M597.9734,161.7649 C597.8833,161.9624 597.7924,162.1606 597.7007,162.3593 C597.5174,162.7568 597.3308,163.1567 597.1411,163.5587 C596.7615,164.3629 596.3691,165.1756 595.9638,165.995 C589.4775,179.105 579.665,193.905 566,202 C544.72,214.61 473.52,193.61 455,210 C450.9525,213.5838 447.6134,217.7542 444.8697,222.3128 C444.1838,223.4524 443.5351,224.6163 442.9218,225.8013 \" fill=\"none\" id=\"E6-&gt;E2\" style=\"stroke: #A80036; stroke-width: 1.0;\"/><polygon fill=\"#FFFFFF\" points=\"442.9218,225.8013,457.8713,212.1443,445.4376,205.7097,442.9218,225.8013\" style=\"stroke: #A80036; stroke-width: 1.0;\"/></a><!--MD5=[c7dd94164fa04be51c5a8e048f477f12]\n",
       "@startuml\r\n",
       "skinparam ranksep 10\r\n",
       "skinparam rectangle {\r\n",
       " backgroundColor<<block>> LightGreen\r\n",
       "}\r\n",
       "skinparam wrapWidth 300\r\n",
       "hide circle\r\n",
       "\r\n",
       "package \"VariabilityTest\" as E1  [[psysml:6e13bc12-600f-4176-9ee3-c77c18f0da6f ]]  {\r\n",
       "rec def \"P\" as E2  <<(T,blue) part def>> [[psysml:a47e4883-53c6-48e5-9729-358fb18738b5 ]] {\r\n",
       "comp usage \"a\" as E3  <<(T,blue) attribute>> [[psysml:af83713f-f16b-4de7-b4a6-ecd5bab1fc22 ]] {\r\n",
       "}\r\n",
       "}\r\n",
       "rec def \"Q\" as E4  <<(T,blue) part def>> [[psysml:64152dcd-188c-4285-9d2f-82b4222731ff ]] {\r\n",
       "}\r\n",
       "def \"B\" as E5  <<(T,blue) attribute def>> [[psysml:6204c3f0-143a-45cc-ac58-9ea86a3a8ea6 ]] \r\n",
       "rec def \"V\" as E6  <<(T,blue) part def>> [[psysml:58826ca2-a740-4eaa-a71e-521b590388a3 ]] {\r\n",
       "comp usage \"x: Q\" as E7  [[psysml:c2df0e2e-5a66-4a2b-abfc-b3b4dd7dd2c5 ]] {\r\n",
       "<&bar-trig> b: B <s>P::a</s>\r\n",
       "}\r\n",
       "}\r\n",
       "rec usage \"q: Q\" as E8  [[psysml:d5aa7800-4c4d-4a74-9f82-8c5d7377a367 ]] {\r\n",
       "}\r\n",
       "rec usage \"v: P\" as E9  [[psysml:d7b3804f-80e3-4381-979e-bf8e2501fba8 ]] {\r\n",
       "comp usage \"q\" as E10  <<(T,blue) reference>> [[psysml:aeeab6cc-3339-44ed-a45c-f65a5d97c376 ]] {\r\n",
       "<&bar-trig> b: B <s>P::a</s>\r\n",
       "}\r\n",
       "}\r\n",
       "rec usage \"y: P= v::q; \" as E11  [[psysml:fe63b1e8-840a-4f2e-b06a-2ce986f19d03 ]] {\r\n",
       "}\r\n",
       "E4 - -|> E2 [[psysml:6495a820-e8c0-4129-af26-6722c3b7b9e6 ]] \r\n",
       "E6 - -|> E2 [[psysml:bd00e4e7-d183-497a-b9f8-56660fc51e3e ]] \r\n",
       "}\r\n",
       "@enduml\r\n",
       "\n",
       "PlantUML version 1.2020.13(Sat Jun 13 12:26:38 UTC 2020)\n",
       "(EPL source distribution)\n",
       "Java Runtime: OpenJDK Runtime Environment\n",
       "JVM: OpenJDK 64-Bit Server VM\n",
       "Default Encoding: UTF-8\n",
       "Language: en\n",
       "Country: null\n",
       "--></g></svg>"
      ]
     },
     "execution_count": 26,
     "metadata": {},
     "output_type": "execute_result"
    }
   ],
   "source": [
    "%viz --style=\"STDCOLOR\" --view=\"Interconnection\" \"VariabilityTest\""
   ]
  },
  {
   "cell_type": "code",
   "execution_count": 27,
   "id": "637b43e5",
   "metadata": {
    "execution": {
     "iopub.execute_input": "2021-08-04T06:26:50.096394Z",
     "iopub.status.busy": "2021-08-04T06:26:50.096006Z",
     "iopub.status.idle": "2021-08-04T06:26:50.099395Z",
     "shell.execute_reply": "2021-08-04T06:26:50.099053Z"
    }
   },
   "outputs": [
    {
     "data": {
      "image/svg+xml": [
       "<?xml version=\"1.0\" encoding=\"UTF-8\" standalone=\"no\"?><svg xmlns=\"http://www.w3.org/2000/svg\" xmlns:xlink=\"http://www.w3.org/1999/xlink\" contentScriptType=\"application/ecmascript\" contentStyleType=\"text/css\" height=\"12px\" preserveAspectRatio=\"none\" style=\"width:12px;height:12px;\" version=\"1.1\" viewBox=\"0 0 12 12\" width=\"12px\" zoomAndPan=\"magnify\"><defs/><g><!--MD5=[9863325348a96a77dacc89509d8ee65e]\n",
       "@startuml\r\n",
       "skinparam ranksep 8\r\n",
       "skinparam wrapWidth 300\r\n",
       "hide circle\r\n",
       "\r\n",
       "@enduml\r\n",
       "\n",
       "PlantUML version 1.2020.13(Sat Jun 13 12:26:38 UTC 2020)\n",
       "(EPL source distribution)\n",
       "Java Runtime: OpenJDK Runtime Environment\n",
       "JVM: OpenJDK 64-Bit Server VM\n",
       "Default Encoding: UTF-8\n",
       "Language: en\n",
       "Country: null\n",
       "--></g></svg>"
      ]
     },
     "execution_count": 27,
     "metadata": {},
     "output_type": "execute_result"
    }
   ],
   "source": [
    "%viz --style=\"STDCOLOR\" --view=\"Action\" \"VariabilityTest\""
   ]
  },
  {
   "cell_type": "code",
   "execution_count": 28,
   "id": "a9f6a406",
   "metadata": {
    "execution": {
     "iopub.execute_input": "2021-08-04T06:26:50.149220Z",
     "iopub.status.busy": "2021-08-04T06:26:50.148829Z",
     "iopub.status.idle": "2021-08-04T06:26:50.190168Z",
     "shell.execute_reply": "2021-08-04T06:26:50.188903Z"
    }
   },
   "outputs": [
    {
     "data": {
      "image/svg+xml": [
       "<?xml version=\"1.0\" encoding=\"UTF-8\" standalone=\"no\"?><svg xmlns=\"http://www.w3.org/2000/svg\" xmlns:xlink=\"http://www.w3.org/1999/xlink\" contentScriptType=\"application/ecmascript\" contentStyleType=\"text/css\" height=\"373px\" preserveAspectRatio=\"none\" style=\"width:419px;height:373px;\" version=\"1.1\" viewBox=\"0 0 419 373\" width=\"419px\" zoomAndPan=\"magnify\"><defs><filter height=\"300%\" id=\"frt026199m00o\" width=\"300%\" x=\"-1\" y=\"-1\"><feGaussianBlur result=\"blurOut\" stdDeviation=\"2.0\"/><feColorMatrix in=\"blurOut\" result=\"blurOut2\" type=\"matrix\" values=\"0 0 0 0 0 0 0 0 0 0 0 0 0 0 0 0 0 0 .4 0\"/><feOffset dx=\"4.0\" dy=\"4.0\" in=\"blurOut2\" result=\"blurOut3\"/><feBlend in=\"SourceGraphic\" in2=\"blurOut3\" mode=\"normal\"/></filter></defs><g><!--MD5=[fbc87193dbaf4d95561dea2c320d4a47]\n",
       "cluster E1--><a href=\"psysml:6e13bc12-600f-4176-9ee3-c77c18f0da6f\" target=\"_top\" title=\"psysml:6e13bc12-600f-4176-9ee3-c77c18f0da6f\" xlink:actuate=\"onRequest\" xlink:href=\"psysml:6e13bc12-600f-4176-9ee3-c77c18f0da6f\" xlink:show=\"new\" xlink:title=\"psysml:6e13bc12-600f-4176-9ee3-c77c18f0da6f\" xlink:type=\"simple\"><polygon fill=\"#FFFFFF\" filter=\"url(#frt026199m00o)\" points=\"16,6,134,6,141,28.2969,397,28.2969,397,361,16,361,16,6\" style=\"stroke: #000000; stroke-width: 1.5;\"/><line style=\"stroke: #000000; stroke-width: 1.5;\" x1=\"16\" x2=\"141\" y1=\"28.2969\" y2=\"28.2969\"/><text fill=\"#000000\" font-family=\"sans-serif\" font-size=\"14\" font-weight=\"bold\" lengthAdjust=\"spacingAndGlyphs\" textLength=\"112\" x=\"20\" y=\"20.9951\">VariabilityTest</text></a><!--MD5=[b4997ac47864f28c2f74865a473b2911]\n",
       "class E2--><a href=\"psysml:a47e4883-53c6-48e5-9729-358fb18738b5\" target=\"_top\" title=\"psysml:a47e4883-53c6-48e5-9729-358fb18738b5\" xlink:actuate=\"onRequest\" xlink:href=\"psysml:a47e4883-53c6-48e5-9729-358fb18738b5\" xlink:show=\"new\" xlink:title=\"psysml:a47e4883-53c6-48e5-9729-358fb18738b5\" xlink:type=\"simple\"><rect fill=\"#FEFECE\" filter=\"url(#frt026199m00o)\" height=\"58.7422\" id=\"E2\" style=\"stroke: #A80036; stroke-width: 1.5;\" width=\"66\" x=\"162\" y=\"285.5\"/><text fill=\"#000000\" font-family=\"sans-serif\" font-size=\"12\" font-style=\"italic\" lengthAdjust=\"spacingAndGlyphs\" textLength=\"64\" x=\"163\" y=\"301.6387\">«part def»</text><text fill=\"#000000\" font-family=\"sans-serif\" font-size=\"12\" lengthAdjust=\"spacingAndGlyphs\" textLength=\"8\" x=\"191\" y=\"315.6074\">P</text><line style=\"stroke: #A80036; stroke-width: 1.5;\" x1=\"163\" x2=\"227\" y1=\"323.4375\" y2=\"323.4375\"/><text fill=\"#000000\" font-family=\"sans-serif\" font-size=\"11\" lengthAdjust=\"spacingAndGlyphs\" textLength=\"7\" x=\"168\" y=\"337.6479\">a</text></a><!--MD5=[09b614a08d8cba4a07c9adeb5e0fee81]\n",
       "class E3--><a href=\"psysml:64152dcd-188c-4285-9d2f-82b4222731ff\" target=\"_top\" title=\"psysml:64152dcd-188c-4285-9d2f-82b4222731ff\" xlink:actuate=\"onRequest\" xlink:href=\"psysml:64152dcd-188c-4285-9d2f-82b4222731ff\" xlink:show=\"new\" xlink:title=\"psysml:64152dcd-188c-4285-9d2f-82b4222731ff\" xlink:type=\"simple\"><rect fill=\"#FEFECE\" filter=\"url(#frt026199m00o)\" height=\"45.9375\" id=\"E3\" style=\"stroke: #A80036; stroke-width: 1.5;\" width=\"66\" x=\"137\" y=\"155\"/><text fill=\"#000000\" font-family=\"sans-serif\" font-size=\"12\" font-style=\"italic\" lengthAdjust=\"spacingAndGlyphs\" textLength=\"64\" x=\"138\" y=\"171.1387\">«part def»</text><text fill=\"#000000\" font-family=\"sans-serif\" font-size=\"12\" lengthAdjust=\"spacingAndGlyphs\" textLength=\"9\" x=\"165.5\" y=\"185.1074\">Q</text><line style=\"stroke: #A80036; stroke-width: 1.5;\" x1=\"138\" x2=\"202\" y1=\"192.9375\" y2=\"192.9375\"/></a><!--MD5=[ebbe1d658d1005bcc118a6aa81145e00]\n",
       "class E4--><a href=\"psysml:6204c3f0-143a-45cc-ac58-9ea86a3a8ea6\" target=\"_top\" title=\"psysml:6204c3f0-143a-45cc-ac58-9ea86a3a8ea6\" xlink:actuate=\"onRequest\" xlink:href=\"psysml:6204c3f0-143a-45cc-ac58-9ea86a3a8ea6\" xlink:show=\"new\" xlink:title=\"psysml:6204c3f0-143a-45cc-ac58-9ea86a3a8ea6\" xlink:type=\"simple\"><rect fill=\"#FEFECE\" filter=\"url(#frt026199m00o)\" height=\"45.9375\" id=\"E4\" style=\"stroke: #A80036; stroke-width: 1.5;\" width=\"95\" x=\"255.5\" y=\"41\"/><text fill=\"#000000\" font-family=\"sans-serif\" font-size=\"12\" font-style=\"italic\" lengthAdjust=\"spacingAndGlyphs\" textLength=\"93\" x=\"256.5\" y=\"57.1387\">«attribute def»</text><text fill=\"#000000\" font-family=\"sans-serif\" font-size=\"12\" lengthAdjust=\"spacingAndGlyphs\" textLength=\"8\" x=\"299\" y=\"71.1074\">B</text><line style=\"stroke: #A80036; stroke-width: 1.5;\" x1=\"256.5\" x2=\"349.5\" y1=\"78.9375\" y2=\"78.9375\"/></a><!--MD5=[270fce915f116d4de14055a7c1d9a0f3]\n",
       "class E5--><a href=\"psysml:58826ca2-a740-4eaa-a71e-521b590388a3\" target=\"_top\" title=\"psysml:58826ca2-a740-4eaa-a71e-521b590388a3\" xlink:actuate=\"onRequest\" xlink:href=\"psysml:58826ca2-a740-4eaa-a71e-521b590388a3\" xlink:show=\"new\" xlink:title=\"psysml:58826ca2-a740-4eaa-a71e-521b590388a3\" xlink:type=\"simple\"><rect fill=\"#FEFECE\" filter=\"url(#frt026199m00o)\" height=\"45.9375\" id=\"E5\" style=\"stroke: #A80036; stroke-width: 1.5;\" width=\"66\" x=\"315\" y=\"155\"/><text fill=\"#000000\" font-family=\"sans-serif\" font-size=\"12\" font-style=\"italic\" lengthAdjust=\"spacingAndGlyphs\" textLength=\"64\" x=\"316\" y=\"171.1387\">«part def»</text><text fill=\"#000000\" font-family=\"sans-serif\" font-size=\"12\" lengthAdjust=\"spacingAndGlyphs\" textLength=\"8\" x=\"344\" y=\"185.1074\">V</text><line style=\"stroke: #A80036; stroke-width: 1.5;\" x1=\"316\" x2=\"380\" y1=\"192.9375\" y2=\"192.9375\"/></a><!--MD5=[60a26617385b1d2d0262a64233df1f8d]\n",
       "class E6--><a href=\"psysml:c2df0e2e-5a66-4a2b-abfc-b3b4dd7dd2c5\" target=\"_top\" title=\"psysml:c2df0e2e-5a66-4a2b-abfc-b3b4dd7dd2c5\" xlink:actuate=\"onRequest\" xlink:href=\"psysml:c2df0e2e-5a66-4a2b-abfc-b3b4dd7dd2c5\" xlink:show=\"new\" xlink:title=\"psysml:c2df0e2e-5a66-4a2b-abfc-b3b4dd7dd2c5\" xlink:type=\"simple\"><rect fill=\"#FEFECE\" filter=\"url(#frt026199m00o)\" height=\"59.6875\" id=\"E6\" rx=\"10\" ry=\"10\" style=\"stroke: #A80036; stroke-width: 1.5;\" width=\"78\" x=\"280\" y=\"285\"/><text fill=\"#000000\" font-family=\"sans-serif\" font-size=\"12\" font-style=\"italic\" lengthAdjust=\"spacingAndGlyphs\" textLength=\"40\" x=\"299\" y=\"301.1387\">«part»</text><text fill=\"#000000\" font-family=\"sans-serif\" font-size=\"12\" lengthAdjust=\"spacingAndGlyphs\" textLength=\"23\" x=\"307.5\" y=\"315.1074\">x: Q</text><line style=\"stroke: #A80036; stroke-width: 1.5;\" x1=\"281\" x2=\"357\" y1=\"322.9375\" y2=\"322.9375\"/><path d=\"M287.9167,327.8542 L287.9167,337.0208 L288.8333,337.0208 L288.8333,327.8542 M291.5833,327.8542 L291.5833,337.0208 L298.9167,332.4375 L291.5833,327.8542 L292.5,329.2292 L297.5417,332.4375 L292.5,335.6458 L292.5,329.2292 \" fill=\"#000000\" style=\"stroke: ; stroke-width: 0.0; stroke-dasharray: ;\"/><text fill=\"#000000\" font-family=\"sans-serif\" font-size=\"11\" lengthAdjust=\"spacingAndGlyphs\" textLength=\"23\" x=\"303\" y=\"338.0933\">b: B</text><text fill=\"#000000\" font-family=\"sans-serif\" font-size=\"11\" lengthAdjust=\"spacingAndGlyphs\" text-decoration=\"line-through\" textLength=\"22\" x=\"330\" y=\"338.0933\">P::a</text></a><!--MD5=[2156ba9850f5573cc1fc38a6a4b2f02b]\n",
       "class E7--><a href=\"psysml:d5aa7800-4c4d-4a74-9f82-8c5d7377a367\" target=\"_top\" title=\"psysml:d5aa7800-4c4d-4a74-9f82-8c5d7377a367\" xlink:actuate=\"onRequest\" xlink:href=\"psysml:d5aa7800-4c4d-4a74-9f82-8c5d7377a367\" xlink:show=\"new\" xlink:title=\"psysml:d5aa7800-4c4d-4a74-9f82-8c5d7377a367\" xlink:type=\"simple\"><rect fill=\"#FEFECE\" filter=\"url(#frt026199m00o)\" height=\"45.9375\" id=\"E7\" rx=\"10\" ry=\"10\" style=\"stroke: #A80036; stroke-width: 1.5;\" width=\"42\" x=\"149\" y=\"41\"/><text fill=\"#000000\" font-family=\"sans-serif\" font-size=\"12\" font-style=\"italic\" lengthAdjust=\"spacingAndGlyphs\" textLength=\"40\" x=\"150\" y=\"57.1387\">«part»</text><text fill=\"#000000\" font-family=\"sans-serif\" font-size=\"12\" lengthAdjust=\"spacingAndGlyphs\" textLength=\"25\" x=\"157.5\" y=\"71.1074\">q: Q</text><line style=\"stroke: #A80036; stroke-width: 1.5;\" x1=\"150\" x2=\"190\" y1=\"78.9375\" y2=\"78.9375\"/></a><!--MD5=[b9389687b975829384b498ac4b7476b2]\n",
       "class E8--><a href=\"psysml:d7b3804f-80e3-4381-979e-bf8e2501fba8\" target=\"_top\" title=\"psysml:d7b3804f-80e3-4381-979e-bf8e2501fba8\" xlink:actuate=\"onRequest\" xlink:href=\"psysml:d7b3804f-80e3-4381-979e-bf8e2501fba8\" xlink:show=\"new\" xlink:title=\"psysml:d7b3804f-80e3-4381-979e-bf8e2501fba8\" xlink:type=\"simple\"><rect fill=\"#FEFECE\" filter=\"url(#frt026199m00o)\" height=\"59.9063\" id=\"E8\" rx=\"10\" ry=\"10\" style=\"stroke: #A80036; stroke-width: 1.5;\" width=\"70\" x=\"32\" y=\"148\"/><text fill=\"#000000\" font-family=\"sans-serif\" font-size=\"12\" font-style=\"italic\" lengthAdjust=\"spacingAndGlyphs\" textLength=\"68\" x=\"33\" y=\"164.1387\">«variation»</text><text fill=\"#000000\" font-family=\"sans-serif\" font-size=\"12\" font-style=\"italic\" lengthAdjust=\"spacingAndGlyphs\" textLength=\"40\" x=\"47\" y=\"178.1074\">«part»</text><text fill=\"#000000\" font-family=\"sans-serif\" font-size=\"12\" lengthAdjust=\"spacingAndGlyphs\" textLength=\"22\" x=\"56\" y=\"192.0762\">v: P</text><line style=\"stroke: #A80036; stroke-width: 1.5;\" x1=\"33\" x2=\"101\" y1=\"199.9063\" y2=\"199.9063\"/></a><!--MD5=[fd4143e9d270a159db93a4ea2a975926]\n",
       "class E9--><a href=\"psysml:aeeab6cc-3339-44ed-a45c-f65a5d97c376\" target=\"_top\" title=\"psysml:aeeab6cc-3339-44ed-a45c-f65a5d97c376\" xlink:actuate=\"onRequest\" xlink:href=\"psysml:aeeab6cc-3339-44ed-a45c-f65a5d97c376\" xlink:show=\"new\" xlink:title=\"psysml:aeeab6cc-3339-44ed-a45c-f65a5d97c376\" xlink:type=\"simple\"><rect fill=\"#FEFECE\" filter=\"url(#frt026199m00o)\" height=\"59.6875\" id=\"E9\" rx=\"10\" ry=\"10\" style=\"stroke: #A80036; stroke-width: 1.5;\" width=\"78\" x=\"32\" y=\"285\"/><text fill=\"#000000\" font-family=\"sans-serif\" font-size=\"12\" font-style=\"italic\" lengthAdjust=\"spacingAndGlyphs\" textLength=\"75\" x=\"33.5\" y=\"301.1387\">«reference»</text><text fill=\"#000000\" font-family=\"sans-serif\" font-size=\"12\" lengthAdjust=\"spacingAndGlyphs\" textLength=\"8\" x=\"67\" y=\"315.1074\">q</text><line style=\"stroke: #A80036; stroke-width: 1.5;\" x1=\"33\" x2=\"109\" y1=\"322.9375\" y2=\"322.9375\"/><path d=\"M39.9167,327.8542 L39.9167,337.0208 L40.8333,337.0208 L40.8333,327.8542 M43.5833,327.8542 L43.5833,337.0208 L50.9167,332.4375 L43.5833,327.8542 L44.5,329.2292 L49.5417,332.4375 L44.5,335.6458 L44.5,329.2292 \" fill=\"#000000\" style=\"stroke: ; stroke-width: 0.0; stroke-dasharray: ;\"/><text fill=\"#000000\" font-family=\"sans-serif\" font-size=\"11\" lengthAdjust=\"spacingAndGlyphs\" textLength=\"23\" x=\"55\" y=\"338.0933\">b: B</text><text fill=\"#000000\" font-family=\"sans-serif\" font-size=\"11\" lengthAdjust=\"spacingAndGlyphs\" text-decoration=\"line-through\" textLength=\"22\" x=\"82\" y=\"338.0933\">P::a</text></a><!--MD5=[96f4274e9e20536e775497830990834d]\n",
       "class E10--><a href=\"psysml:fe63b1e8-840a-4f2e-b06a-2ce986f19d03\" target=\"_top\" title=\"psysml:fe63b1e8-840a-4f2e-b06a-2ce986f19d03\" xlink:actuate=\"onRequest\" xlink:href=\"psysml:fe63b1e8-840a-4f2e-b06a-2ce986f19d03\" xlink:show=\"new\" xlink:title=\"psysml:fe63b1e8-840a-4f2e-b06a-2ce986f19d03\" xlink:type=\"simple\"><rect fill=\"#FEFECE\" filter=\"url(#frt026199m00o)\" height=\"45.9375\" id=\"E10\" rx=\"10\" ry=\"10\" style=\"stroke: #A80036; stroke-width: 1.5;\" width=\"42\" x=\"238\" y=\"155\"/><text fill=\"#000000\" font-family=\"sans-serif\" font-size=\"12\" font-style=\"italic\" lengthAdjust=\"spacingAndGlyphs\" textLength=\"40\" x=\"239\" y=\"171.1387\">«part»</text><text fill=\"#000000\" font-family=\"sans-serif\" font-size=\"12\" lengthAdjust=\"spacingAndGlyphs\" textLength=\"22\" x=\"248\" y=\"185.1074\">y: P</text><line style=\"stroke: #A80036; stroke-width: 1.5;\" x1=\"239\" x2=\"279\" y1=\"192.9375\" y2=\"192.9375\"/></a><!--MD5=[05d275557350bfb9b23a4ef7222b4c39]\n",
       "link E3 to E2--><a href=\"psysml:6495a820-e8c0-4129-af26-6722c3b7b9e6\" target=\"_top\" title=\"psysml:6495a820-e8c0-4129-af26-6722c3b7b9e6\" xlink:actuate=\"onRequest\" xlink:href=\"psysml:6495a820-e8c0-4129-af26-6722c3b7b9e6\" xlink:show=\"new\" xlink:title=\"psysml:6495a820-e8c0-4129-af26-6722c3b7b9e6\" xlink:type=\"simple\"><path d=\"M174.13,201.29 C177.34,218.66 181.93,243.41 185.98,265.3 \" fill=\"none\" id=\"E3-&gt;E2\" style=\"stroke: #A80036; stroke-width: 1.0;\"/><polygon fill=\"none\" points=\"192.88,264.14,189.64,285.08,179.12,266.68,192.88,264.14\" style=\"stroke: #A80036; stroke-width: 1.0;\"/></a><!--MD5=[15ebcb19ae302d9b601edb458606d402]\n",
       "link E5 to E2--><a href=\"psysml:bd00e4e7-d183-497a-b9f8-56660fc51e3e\" target=\"_top\" title=\"psysml:bd00e4e7-d183-497a-b9f8-56660fc51e3e\" xlink:actuate=\"onRequest\" xlink:href=\"psysml:bd00e4e7-d183-497a-b9f8-56660fc51e3e\" xlink:show=\"new\" xlink:title=\"psysml:bd00e4e7-d183-497a-b9f8-56660fc51e3e\" xlink:type=\"simple\"><path d=\"M322.74,201.29 C301.06,220.42 269.21,248.52 242.75,271.87 \" fill=\"none\" id=\"E5-&gt;E2\" style=\"stroke: #A80036; stroke-width: 1.0;\"/><polygon fill=\"none\" points=\"247.13,277.34,227.5,285.32,237.87,266.84,247.13,277.34\" style=\"stroke: #A80036; stroke-width: 1.0;\"/></a><!--MD5=[9120cf2e5df3bff93db8f754bbbc09b4]\n",
       "link E5 to E6--><a href=\"psysml:3ec706da-d65f-4ef5-8a1f-1e1b5df7e7c6\" target=\"_top\" title=\"psysml:3ec706da-d65f-4ef5-8a1f-1e1b5df7e7c6\" xlink:actuate=\"onRequest\" xlink:href=\"psysml:3ec706da-d65f-4ef5-8a1f-1e1b5df7e7c6\" xlink:show=\"new\" xlink:title=\"psysml:3ec706da-d65f-4ef5-8a1f-1e1b5df7e7c6\" xlink:type=\"simple\"><path d=\"M341.07,211.28 C336.97,230.34 331.76,254.6 327.43,274.76 \" fill=\"none\" id=\"E5-E6\" style=\"stroke: #A80036; stroke-width: 1.0;\"/><polygon fill=\"#A80036\" points=\"325.32,284.58,329.9339,277.3889,324.0679,276.1282,325.32,284.58\" style=\"stroke: #A80036; stroke-width: 1.0;\"/><path d=\"M334.2948,202.5225 A9,9 0 0 0 350.8317 206.0765\" fill=\"none\" style=\"stroke: #A80036; stroke-width: 1.5;\"/><text fill=\"#000000\" font-family=\"sans-serif\" font-size=\"13\" lengthAdjust=\"spacingAndGlyphs\" textLength=\"60\" x=\"336\" y=\"251.0669\">«variant»</text></a><!--MD5=[14ccda38c055a5c0da953d572bc50960]\n",
       "link E7 to E3--><a href=\"psysml:9cf32953-475b-4011-b1f8-e7f09d5ce449\" target=\"_top\" title=\"psysml:9cf32953-475b-4011-b1f8-e7f09d5ce449\" xlink:actuate=\"onRequest\" xlink:href=\"psysml:9cf32953-475b-4011-b1f8-e7f09d5ce449\" xlink:show=\"new\" xlink:title=\"psysml:9cf32953-475b-4011-b1f8-e7f09d5ce449\" xlink:type=\"simple\"><path d=\"M170,87.13 C170,100.7 170,118.53 170,134.73 \" fill=\"none\" id=\"E7-&gt;E3\" style=\"stroke: #A80036; stroke-width: 1.0;\"/><polygon fill=\"#FFFFFF\" points=\"170,154.92,163,135.92,177,135.92,170,154.92\" style=\"stroke: #A80036; stroke-width: 1.0;\"/><ellipse cx=\"165\" cy=\"130.22\" fill=\"#A80036\" rx=\"2\" ry=\"2\" style=\"stroke: #A80036; stroke-width: 1.0;\"/><ellipse cx=\"175\" cy=\"130.22\" fill=\"#A80036\" rx=\"2\" ry=\"2\" style=\"stroke: #A80036; stroke-width: 1.0;\"/></a><!--MD5=[f1f3f9f2fc535e6147756cb86a7f2e32]\n",
       "link E8 to E2--><a href=\"psysml:d1a9bfbc-b159-49c1-a5ca-956a4881ee49\" target=\"_top\" title=\"psysml:d1a9bfbc-b159-49c1-a5ca-956a4881ee49\" xlink:actuate=\"onRequest\" xlink:href=\"psysml:d1a9bfbc-b159-49c1-a5ca-956a4881ee49\" xlink:show=\"new\" xlink:title=\"psysml:d1a9bfbc-b159-49c1-a5ca-956a4881ee49\" xlink:type=\"simple\"><path d=\"M102.23,204.97 C114.45,214.72 127.87,226.28 139,238 C147.93,247.4 156.69,258.25 164.53,268.75 \" fill=\"none\" id=\"E8-&gt;E2\" style=\"stroke: #A80036; stroke-width: 1.0;\"/><polygon fill=\"#FFFFFF\" points=\"176.35,285.25,159.5896,273.8883,170.967,265.7302,176.35,285.25\" style=\"stroke: #A80036; stroke-width: 1.0;\"/><ellipse cx=\"157.8934\" cy=\"268.0907\" fill=\"#A80036\" rx=\"2\" ry=\"2\" style=\"stroke: #A80036; stroke-width: 1.0;\"/><ellipse cx=\"166.0201\" cy=\"262.2634\" fill=\"#A80036\" rx=\"2\" ry=\"2\" style=\"stroke: #A80036; stroke-width: 1.0;\"/></a><!--MD5=[ed10624c06dd9a4fa49ccf290e8b16a8]\n",
       "link E8 to E9--><a href=\"psysml:4574f674-7c12-4143-bfb7-6a6844a72e64\" target=\"_top\" title=\"psysml:4574f674-7c12-4143-bfb7-6a6844a72e64\" xlink:actuate=\"onRequest\" xlink:href=\"psysml:4574f674-7c12-4143-bfb7-6a6844a72e64\" xlink:show=\"new\" xlink:title=\"psysml:4574f674-7c12-4143-bfb7-6a6844a72e64\" xlink:type=\"simple\"><path d=\"M68.16,218.31 C68.69,236.06 69.31,256.98 69.84,274.73 \" fill=\"none\" id=\"E8-E9\" style=\"stroke: #A80036; stroke-width: 1.0;\"/><polygon fill=\"#A80036\" points=\"70.13,284.76,72.8888,276.6736,66.8915,276.8536,70.13,284.76\" style=\"stroke: #A80036; stroke-width: 1.0;\"/><path d=\"M59.509,211.6208 A9,9 0 0 0 76.4159 211.1128\" fill=\"none\" style=\"stroke: #A80036; stroke-width: 1.5;\"/><text fill=\"#000000\" font-family=\"sans-serif\" font-size=\"13\" lengthAdjust=\"spacingAndGlyphs\" textLength=\"60\" x=\"70\" y=\"251.0669\">«variant»</text></a><!--MD5=[0f36bececdf0dff6e600d6f64214b0f1]\n",
       "link E10 to E2--><a href=\"psysml:bd829215-07d4-45cb-8fe9-60748d4dd682\" target=\"_top\" title=\"psysml:bd829215-07d4-45cb-8fe9-60748d4dd682\" xlink:actuate=\"onRequest\" xlink:href=\"psysml:bd829215-07d4-45cb-8fe9-60748d4dd682\" xlink:show=\"new\" xlink:title=\"psysml:bd829215-07d4-45cb-8fe9-60748d4dd682\" xlink:type=\"simple\"><path d=\"M248.43,201.29 C239.99,219.11 227.86,244.69 217.29,266.99 \" fill=\"none\" id=\"E10-&gt;E2\" style=\"stroke: #A80036; stroke-width: 1.0;\"/><polygon fill=\"#FFFFFF\" points=\"208.71,285.08,210.5216,264.9127,223.1727,270.9085,208.71,285.08\" style=\"stroke: #A80036; stroke-width: 1.0;\"/><ellipse cx=\"214.77\" cy=\"260.6185\" fill=\"#A80036\" rx=\"2\" ry=\"2\" style=\"stroke: #A80036; stroke-width: 1.0;\"/><ellipse cx=\"223.8065\" cy=\"264.9012\" fill=\"#A80036\" rx=\"2\" ry=\"2\" style=\"stroke: #A80036; stroke-width: 1.0;\"/></a><!--MD5=[2cc451eb72fbb310de27fbbd304545ad]\n",
       "@startuml\r\n",
       "skinparam wrapWidth 300\r\n",
       "hide circle\r\n",
       "\r\n",
       "package \"VariabilityTest\" as E1  [[psysml:6e13bc12-600f-4176-9ee3-c77c18f0da6f ]]  {\r\n",
       "comp def \"P\" as E2  <<(T,blue) part def>> [[psysml:a47e4883-53c6-48e5-9729-358fb18738b5 ]] {\r\n",
       "a\r\n",
       "}\r\n",
       "comp def \"Q\" as E3  <<(T,blue) part def>> [[psysml:64152dcd-188c-4285-9d2f-82b4222731ff ]] {\r\n",
       "}\r\n",
       "comp def \"B\" as E4  <<(T,blue) attribute def>> [[psysml:6204c3f0-143a-45cc-ac58-9ea86a3a8ea6 ]] {\r\n",
       "}\r\n",
       "comp def \"V\" as E5  <<(T,blue) part def>> [[psysml:58826ca2-a740-4eaa-a71e-521b590388a3 ]] {\r\n",
       "}\r\n",
       "comp usage \"x: Q\" as E6  <<(T,blue) part>> [[psysml:c2df0e2e-5a66-4a2b-abfc-b3b4dd7dd2c5 ]] {\r\n",
       "<&bar-trig> b: B <s>P::a</s>\r\n",
       "}\r\n",
       "comp usage \"q: Q\" as E7  <<(T,blue) part>> [[psysml:d5aa7800-4c4d-4a74-9f82-8c5d7377a367 ]] {\r\n",
       "}\r\n",
       "comp usage \"v: P\" as E8  <<variation>>\\n <<(T,blue) part>> [[psysml:d7b3804f-80e3-4381-979e-bf8e2501fba8 ]] {\r\n",
       "}\r\n",
       "comp usage \"q\" as E9  <<(T,blue) reference>> [[psysml:aeeab6cc-3339-44ed-a45c-f65a5d97c376 ]] {\r\n",
       "<&bar-trig> b: B <s>P::a</s>\r\n",
       "}\r\n",
       "comp usage \"y: P\" as E10  <<(T,blue) part>> [[psysml:fe63b1e8-840a-4f2e-b06a-2ce986f19d03 ]] {\r\n",
       "}\r\n",
       "E3 - -|> E2 [[psysml:6495a820-e8c0-4129-af26-6722c3b7b9e6 ]] \r\n",
       "E5 - -|> E2 [[psysml:bd00e4e7-d183-497a-b9f8-56660fc51e3e ]] \r\n",
       "E5 )- ->> E6 [[psysml:3ec706da-d65f-4ef5-8a1f-1e1b5df7e7c6 ]] : <<variant>>\r\n",
       "E7 - -:|> E3 [[psysml:9cf32953-475b-4011-b1f8-e7f09d5ce449 ]] \r\n",
       "E8 - -:|> E2 [[psysml:d1a9bfbc-b159-49c1-a5ca-956a4881ee49 ]] \r\n",
       "E8 )- ->> E9 [[psysml:4574f674-7c12-4143-bfb7-6a6844a72e64 ]] : <<variant>>\r\n",
       "E10 - -:|> E2 [[psysml:bd829215-07d4-45cb-8fe9-60748d4dd682 ]] \r\n",
       "}\r\n",
       "@enduml\r\n",
       "\n",
       "PlantUML version 1.2020.13(Sat Jun 13 12:26:38 UTC 2020)\n",
       "(EPL source distribution)\n",
       "Java Runtime: OpenJDK Runtime Environment\n",
       "JVM: OpenJDK 64-Bit Server VM\n",
       "Default Encoding: UTF-8\n",
       "Language: en\n",
       "Country: null\n",
       "--></g></svg>"
      ]
     },
     "execution_count": 28,
     "metadata": {},
     "output_type": "execute_result"
    }
   ],
   "source": [
    "%viz --style=\"STDCOLOR\" --view=\"Sequence\" \"VariabilityTest\""
   ]
  },
  {
   "cell_type": "code",
   "execution_count": 29,
   "id": "bfc1eb72",
   "metadata": {
    "execution": {
     "iopub.execute_input": "2021-08-04T06:26:50.239567Z",
     "iopub.status.busy": "2021-08-04T06:26:50.239178Z",
     "iopub.status.idle": "2021-08-04T06:26:50.286142Z",
     "shell.execute_reply": "2021-08-04T06:26:50.285805Z"
    }
   },
   "outputs": [
    {
     "data": {
      "image/svg+xml": [
       "<?xml version=\"1.0\" encoding=\"UTF-8\" standalone=\"no\"?><svg xmlns=\"http://www.w3.org/2000/svg\" xmlns:xlink=\"http://www.w3.org/1999/xlink\" contentScriptType=\"application/ecmascript\" contentStyleType=\"text/css\" height=\"373px\" preserveAspectRatio=\"none\" style=\"width:419px;height:373px;\" version=\"1.1\" viewBox=\"0 0 419 373\" width=\"419px\" zoomAndPan=\"magnify\"><defs><filter height=\"300%\" id=\"frt026199m00o\" width=\"300%\" x=\"-1\" y=\"-1\"><feGaussianBlur result=\"blurOut\" stdDeviation=\"2.0\"/><feColorMatrix in=\"blurOut\" result=\"blurOut2\" type=\"matrix\" values=\"0 0 0 0 0 0 0 0 0 0 0 0 0 0 0 0 0 0 .4 0\"/><feOffset dx=\"4.0\" dy=\"4.0\" in=\"blurOut2\" result=\"blurOut3\"/><feBlend in=\"SourceGraphic\" in2=\"blurOut3\" mode=\"normal\"/></filter></defs><g><!--MD5=[fbc87193dbaf4d95561dea2c320d4a47]\n",
       "cluster E1--><a href=\"psysml:6e13bc12-600f-4176-9ee3-c77c18f0da6f\" target=\"_top\" title=\"psysml:6e13bc12-600f-4176-9ee3-c77c18f0da6f\" xlink:actuate=\"onRequest\" xlink:href=\"psysml:6e13bc12-600f-4176-9ee3-c77c18f0da6f\" xlink:show=\"new\" xlink:title=\"psysml:6e13bc12-600f-4176-9ee3-c77c18f0da6f\" xlink:type=\"simple\"><polygon fill=\"#FFFFFF\" filter=\"url(#frt026199m00o)\" points=\"16,6,134,6,141,28.2969,397,28.2969,397,361,16,361,16,6\" style=\"stroke: #000000; stroke-width: 1.5;\"/><line style=\"stroke: #000000; stroke-width: 1.5;\" x1=\"16\" x2=\"141\" y1=\"28.2969\" y2=\"28.2969\"/><text fill=\"#000000\" font-family=\"sans-serif\" font-size=\"14\" font-weight=\"bold\" lengthAdjust=\"spacingAndGlyphs\" textLength=\"112\" x=\"20\" y=\"20.9951\">VariabilityTest</text></a><!--MD5=[b4997ac47864f28c2f74865a473b2911]\n",
       "class E2--><a href=\"psysml:a47e4883-53c6-48e5-9729-358fb18738b5\" target=\"_top\" title=\"psysml:a47e4883-53c6-48e5-9729-358fb18738b5\" xlink:actuate=\"onRequest\" xlink:href=\"psysml:a47e4883-53c6-48e5-9729-358fb18738b5\" xlink:show=\"new\" xlink:title=\"psysml:a47e4883-53c6-48e5-9729-358fb18738b5\" xlink:type=\"simple\"><rect fill=\"#FEFECE\" filter=\"url(#frt026199m00o)\" height=\"58.7422\" id=\"E2\" style=\"stroke: #A80036; stroke-width: 1.5;\" width=\"66\" x=\"162\" y=\"285.5\"/><text fill=\"#000000\" font-family=\"sans-serif\" font-size=\"12\" font-style=\"italic\" lengthAdjust=\"spacingAndGlyphs\" textLength=\"64\" x=\"163\" y=\"301.6387\">«part def»</text><text fill=\"#000000\" font-family=\"sans-serif\" font-size=\"12\" lengthAdjust=\"spacingAndGlyphs\" textLength=\"8\" x=\"191\" y=\"315.6074\">P</text><line style=\"stroke: #A80036; stroke-width: 1.5;\" x1=\"163\" x2=\"227\" y1=\"323.4375\" y2=\"323.4375\"/><text fill=\"#000000\" font-family=\"sans-serif\" font-size=\"11\" lengthAdjust=\"spacingAndGlyphs\" textLength=\"7\" x=\"168\" y=\"337.6479\">a</text></a><!--MD5=[09b614a08d8cba4a07c9adeb5e0fee81]\n",
       "class E3--><a href=\"psysml:64152dcd-188c-4285-9d2f-82b4222731ff\" target=\"_top\" title=\"psysml:64152dcd-188c-4285-9d2f-82b4222731ff\" xlink:actuate=\"onRequest\" xlink:href=\"psysml:64152dcd-188c-4285-9d2f-82b4222731ff\" xlink:show=\"new\" xlink:title=\"psysml:64152dcd-188c-4285-9d2f-82b4222731ff\" xlink:type=\"simple\"><rect fill=\"#FEFECE\" filter=\"url(#frt026199m00o)\" height=\"45.9375\" id=\"E3\" style=\"stroke: #A80036; stroke-width: 1.5;\" width=\"66\" x=\"137\" y=\"155\"/><text fill=\"#000000\" font-family=\"sans-serif\" font-size=\"12\" font-style=\"italic\" lengthAdjust=\"spacingAndGlyphs\" textLength=\"64\" x=\"138\" y=\"171.1387\">«part def»</text><text fill=\"#000000\" font-family=\"sans-serif\" font-size=\"12\" lengthAdjust=\"spacingAndGlyphs\" textLength=\"9\" x=\"165.5\" y=\"185.1074\">Q</text><line style=\"stroke: #A80036; stroke-width: 1.5;\" x1=\"138\" x2=\"202\" y1=\"192.9375\" y2=\"192.9375\"/></a><!--MD5=[ebbe1d658d1005bcc118a6aa81145e00]\n",
       "class E4--><a href=\"psysml:6204c3f0-143a-45cc-ac58-9ea86a3a8ea6\" target=\"_top\" title=\"psysml:6204c3f0-143a-45cc-ac58-9ea86a3a8ea6\" xlink:actuate=\"onRequest\" xlink:href=\"psysml:6204c3f0-143a-45cc-ac58-9ea86a3a8ea6\" xlink:show=\"new\" xlink:title=\"psysml:6204c3f0-143a-45cc-ac58-9ea86a3a8ea6\" xlink:type=\"simple\"><rect fill=\"#FEFECE\" filter=\"url(#frt026199m00o)\" height=\"45.9375\" id=\"E4\" style=\"stroke: #A80036; stroke-width: 1.5;\" width=\"95\" x=\"255.5\" y=\"41\"/><text fill=\"#000000\" font-family=\"sans-serif\" font-size=\"12\" font-style=\"italic\" lengthAdjust=\"spacingAndGlyphs\" textLength=\"93\" x=\"256.5\" y=\"57.1387\">«attribute def»</text><text fill=\"#000000\" font-family=\"sans-serif\" font-size=\"12\" lengthAdjust=\"spacingAndGlyphs\" textLength=\"8\" x=\"299\" y=\"71.1074\">B</text><line style=\"stroke: #A80036; stroke-width: 1.5;\" x1=\"256.5\" x2=\"349.5\" y1=\"78.9375\" y2=\"78.9375\"/></a><!--MD5=[270fce915f116d4de14055a7c1d9a0f3]\n",
       "class E5--><a href=\"psysml:58826ca2-a740-4eaa-a71e-521b590388a3\" target=\"_top\" title=\"psysml:58826ca2-a740-4eaa-a71e-521b590388a3\" xlink:actuate=\"onRequest\" xlink:href=\"psysml:58826ca2-a740-4eaa-a71e-521b590388a3\" xlink:show=\"new\" xlink:title=\"psysml:58826ca2-a740-4eaa-a71e-521b590388a3\" xlink:type=\"simple\"><rect fill=\"#FEFECE\" filter=\"url(#frt026199m00o)\" height=\"45.9375\" id=\"E5\" style=\"stroke: #A80036; stroke-width: 1.5;\" width=\"66\" x=\"315\" y=\"155\"/><text fill=\"#000000\" font-family=\"sans-serif\" font-size=\"12\" font-style=\"italic\" lengthAdjust=\"spacingAndGlyphs\" textLength=\"64\" x=\"316\" y=\"171.1387\">«part def»</text><text fill=\"#000000\" font-family=\"sans-serif\" font-size=\"12\" lengthAdjust=\"spacingAndGlyphs\" textLength=\"8\" x=\"344\" y=\"185.1074\">V</text><line style=\"stroke: #A80036; stroke-width: 1.5;\" x1=\"316\" x2=\"380\" y1=\"192.9375\" y2=\"192.9375\"/></a><!--MD5=[60a26617385b1d2d0262a64233df1f8d]\n",
       "class E6--><a href=\"psysml:c2df0e2e-5a66-4a2b-abfc-b3b4dd7dd2c5\" target=\"_top\" title=\"psysml:c2df0e2e-5a66-4a2b-abfc-b3b4dd7dd2c5\" xlink:actuate=\"onRequest\" xlink:href=\"psysml:c2df0e2e-5a66-4a2b-abfc-b3b4dd7dd2c5\" xlink:show=\"new\" xlink:title=\"psysml:c2df0e2e-5a66-4a2b-abfc-b3b4dd7dd2c5\" xlink:type=\"simple\"><rect fill=\"#FEFECE\" filter=\"url(#frt026199m00o)\" height=\"59.6875\" id=\"E6\" rx=\"10\" ry=\"10\" style=\"stroke: #A80036; stroke-width: 1.5;\" width=\"78\" x=\"280\" y=\"285\"/><text fill=\"#000000\" font-family=\"sans-serif\" font-size=\"12\" font-style=\"italic\" lengthAdjust=\"spacingAndGlyphs\" textLength=\"40\" x=\"299\" y=\"301.1387\">«part»</text><text fill=\"#000000\" font-family=\"sans-serif\" font-size=\"12\" lengthAdjust=\"spacingAndGlyphs\" textLength=\"23\" x=\"307.5\" y=\"315.1074\">x: Q</text><line style=\"stroke: #A80036; stroke-width: 1.5;\" x1=\"281\" x2=\"357\" y1=\"322.9375\" y2=\"322.9375\"/><path d=\"M287.9167,327.8542 L287.9167,337.0208 L288.8333,337.0208 L288.8333,327.8542 M291.5833,327.8542 L291.5833,337.0208 L298.9167,332.4375 L291.5833,327.8542 L292.5,329.2292 L297.5417,332.4375 L292.5,335.6458 L292.5,329.2292 \" fill=\"#000000\" style=\"stroke: ; stroke-width: 0.0; stroke-dasharray: ;\"/><text fill=\"#000000\" font-family=\"sans-serif\" font-size=\"11\" lengthAdjust=\"spacingAndGlyphs\" textLength=\"23\" x=\"303\" y=\"338.0933\">b: B</text><text fill=\"#000000\" font-family=\"sans-serif\" font-size=\"11\" lengthAdjust=\"spacingAndGlyphs\" text-decoration=\"line-through\" textLength=\"22\" x=\"330\" y=\"338.0933\">P::a</text></a><!--MD5=[2156ba9850f5573cc1fc38a6a4b2f02b]\n",
       "class E7--><a href=\"psysml:d5aa7800-4c4d-4a74-9f82-8c5d7377a367\" target=\"_top\" title=\"psysml:d5aa7800-4c4d-4a74-9f82-8c5d7377a367\" xlink:actuate=\"onRequest\" xlink:href=\"psysml:d5aa7800-4c4d-4a74-9f82-8c5d7377a367\" xlink:show=\"new\" xlink:title=\"psysml:d5aa7800-4c4d-4a74-9f82-8c5d7377a367\" xlink:type=\"simple\"><rect fill=\"#FEFECE\" filter=\"url(#frt026199m00o)\" height=\"45.9375\" id=\"E7\" rx=\"10\" ry=\"10\" style=\"stroke: #A80036; stroke-width: 1.5;\" width=\"42\" x=\"149\" y=\"41\"/><text fill=\"#000000\" font-family=\"sans-serif\" font-size=\"12\" font-style=\"italic\" lengthAdjust=\"spacingAndGlyphs\" textLength=\"40\" x=\"150\" y=\"57.1387\">«part»</text><text fill=\"#000000\" font-family=\"sans-serif\" font-size=\"12\" lengthAdjust=\"spacingAndGlyphs\" textLength=\"25\" x=\"157.5\" y=\"71.1074\">q: Q</text><line style=\"stroke: #A80036; stroke-width: 1.5;\" x1=\"150\" x2=\"190\" y1=\"78.9375\" y2=\"78.9375\"/></a><!--MD5=[b9389687b975829384b498ac4b7476b2]\n",
       "class E8--><a href=\"psysml:d7b3804f-80e3-4381-979e-bf8e2501fba8\" target=\"_top\" title=\"psysml:d7b3804f-80e3-4381-979e-bf8e2501fba8\" xlink:actuate=\"onRequest\" xlink:href=\"psysml:d7b3804f-80e3-4381-979e-bf8e2501fba8\" xlink:show=\"new\" xlink:title=\"psysml:d7b3804f-80e3-4381-979e-bf8e2501fba8\" xlink:type=\"simple\"><rect fill=\"#FEFECE\" filter=\"url(#frt026199m00o)\" height=\"59.9063\" id=\"E8\" rx=\"10\" ry=\"10\" style=\"stroke: #A80036; stroke-width: 1.5;\" width=\"70\" x=\"32\" y=\"148\"/><text fill=\"#000000\" font-family=\"sans-serif\" font-size=\"12\" font-style=\"italic\" lengthAdjust=\"spacingAndGlyphs\" textLength=\"68\" x=\"33\" y=\"164.1387\">«variation»</text><text fill=\"#000000\" font-family=\"sans-serif\" font-size=\"12\" font-style=\"italic\" lengthAdjust=\"spacingAndGlyphs\" textLength=\"40\" x=\"47\" y=\"178.1074\">«part»</text><text fill=\"#000000\" font-family=\"sans-serif\" font-size=\"12\" lengthAdjust=\"spacingAndGlyphs\" textLength=\"22\" x=\"56\" y=\"192.0762\">v: P</text><line style=\"stroke: #A80036; stroke-width: 1.5;\" x1=\"33\" x2=\"101\" y1=\"199.9063\" y2=\"199.9063\"/></a><!--MD5=[fd4143e9d270a159db93a4ea2a975926]\n",
       "class E9--><a href=\"psysml:aeeab6cc-3339-44ed-a45c-f65a5d97c376\" target=\"_top\" title=\"psysml:aeeab6cc-3339-44ed-a45c-f65a5d97c376\" xlink:actuate=\"onRequest\" xlink:href=\"psysml:aeeab6cc-3339-44ed-a45c-f65a5d97c376\" xlink:show=\"new\" xlink:title=\"psysml:aeeab6cc-3339-44ed-a45c-f65a5d97c376\" xlink:type=\"simple\"><rect fill=\"#FEFECE\" filter=\"url(#frt026199m00o)\" height=\"59.6875\" id=\"E9\" rx=\"10\" ry=\"10\" style=\"stroke: #A80036; stroke-width: 1.5;\" width=\"78\" x=\"32\" y=\"285\"/><text fill=\"#000000\" font-family=\"sans-serif\" font-size=\"12\" font-style=\"italic\" lengthAdjust=\"spacingAndGlyphs\" textLength=\"75\" x=\"33.5\" y=\"301.1387\">«reference»</text><text fill=\"#000000\" font-family=\"sans-serif\" font-size=\"12\" lengthAdjust=\"spacingAndGlyphs\" textLength=\"8\" x=\"67\" y=\"315.1074\">q</text><line style=\"stroke: #A80036; stroke-width: 1.5;\" x1=\"33\" x2=\"109\" y1=\"322.9375\" y2=\"322.9375\"/><path d=\"M39.9167,327.8542 L39.9167,337.0208 L40.8333,337.0208 L40.8333,327.8542 M43.5833,327.8542 L43.5833,337.0208 L50.9167,332.4375 L43.5833,327.8542 L44.5,329.2292 L49.5417,332.4375 L44.5,335.6458 L44.5,329.2292 \" fill=\"#000000\" style=\"stroke: ; stroke-width: 0.0; stroke-dasharray: ;\"/><text fill=\"#000000\" font-family=\"sans-serif\" font-size=\"11\" lengthAdjust=\"spacingAndGlyphs\" textLength=\"23\" x=\"55\" y=\"338.0933\">b: B</text><text fill=\"#000000\" font-family=\"sans-serif\" font-size=\"11\" lengthAdjust=\"spacingAndGlyphs\" text-decoration=\"line-through\" textLength=\"22\" x=\"82\" y=\"338.0933\">P::a</text></a><!--MD5=[96f4274e9e20536e775497830990834d]\n",
       "class E10--><a href=\"psysml:fe63b1e8-840a-4f2e-b06a-2ce986f19d03\" target=\"_top\" title=\"psysml:fe63b1e8-840a-4f2e-b06a-2ce986f19d03\" xlink:actuate=\"onRequest\" xlink:href=\"psysml:fe63b1e8-840a-4f2e-b06a-2ce986f19d03\" xlink:show=\"new\" xlink:title=\"psysml:fe63b1e8-840a-4f2e-b06a-2ce986f19d03\" xlink:type=\"simple\"><rect fill=\"#FEFECE\" filter=\"url(#frt026199m00o)\" height=\"45.9375\" id=\"E10\" rx=\"10\" ry=\"10\" style=\"stroke: #A80036; stroke-width: 1.5;\" width=\"42\" x=\"238\" y=\"155\"/><text fill=\"#000000\" font-family=\"sans-serif\" font-size=\"12\" font-style=\"italic\" lengthAdjust=\"spacingAndGlyphs\" textLength=\"40\" x=\"239\" y=\"171.1387\">«part»</text><text fill=\"#000000\" font-family=\"sans-serif\" font-size=\"12\" lengthAdjust=\"spacingAndGlyphs\" textLength=\"22\" x=\"248\" y=\"185.1074\">y: P</text><line style=\"stroke: #A80036; stroke-width: 1.5;\" x1=\"239\" x2=\"279\" y1=\"192.9375\" y2=\"192.9375\"/></a><!--MD5=[05d275557350bfb9b23a4ef7222b4c39]\n",
       "link E3 to E2--><a href=\"psysml:6495a820-e8c0-4129-af26-6722c3b7b9e6\" target=\"_top\" title=\"psysml:6495a820-e8c0-4129-af26-6722c3b7b9e6\" xlink:actuate=\"onRequest\" xlink:href=\"psysml:6495a820-e8c0-4129-af26-6722c3b7b9e6\" xlink:show=\"new\" xlink:title=\"psysml:6495a820-e8c0-4129-af26-6722c3b7b9e6\" xlink:type=\"simple\"><path d=\"M174.13,201.29 C177.34,218.66 181.93,243.41 185.98,265.3 \" fill=\"none\" id=\"E3-&gt;E2\" style=\"stroke: #A80036; stroke-width: 1.0;\"/><polygon fill=\"none\" points=\"192.88,264.14,189.64,285.08,179.12,266.68,192.88,264.14\" style=\"stroke: #A80036; stroke-width: 1.0;\"/></a><!--MD5=[15ebcb19ae302d9b601edb458606d402]\n",
       "link E5 to E2--><a href=\"psysml:bd00e4e7-d183-497a-b9f8-56660fc51e3e\" target=\"_top\" title=\"psysml:bd00e4e7-d183-497a-b9f8-56660fc51e3e\" xlink:actuate=\"onRequest\" xlink:href=\"psysml:bd00e4e7-d183-497a-b9f8-56660fc51e3e\" xlink:show=\"new\" xlink:title=\"psysml:bd00e4e7-d183-497a-b9f8-56660fc51e3e\" xlink:type=\"simple\"><path d=\"M322.74,201.29 C301.06,220.42 269.21,248.52 242.75,271.87 \" fill=\"none\" id=\"E5-&gt;E2\" style=\"stroke: #A80036; stroke-width: 1.0;\"/><polygon fill=\"none\" points=\"247.13,277.34,227.5,285.32,237.87,266.84,247.13,277.34\" style=\"stroke: #A80036; stroke-width: 1.0;\"/></a><!--MD5=[9120cf2e5df3bff93db8f754bbbc09b4]\n",
       "link E5 to E6--><a href=\"psysml:3ec706da-d65f-4ef5-8a1f-1e1b5df7e7c6\" target=\"_top\" title=\"psysml:3ec706da-d65f-4ef5-8a1f-1e1b5df7e7c6\" xlink:actuate=\"onRequest\" xlink:href=\"psysml:3ec706da-d65f-4ef5-8a1f-1e1b5df7e7c6\" xlink:show=\"new\" xlink:title=\"psysml:3ec706da-d65f-4ef5-8a1f-1e1b5df7e7c6\" xlink:type=\"simple\"><path d=\"M341.07,211.28 C336.97,230.34 331.76,254.6 327.43,274.76 \" fill=\"none\" id=\"E5-E6\" style=\"stroke: #A80036; stroke-width: 1.0;\"/><polygon fill=\"#A80036\" points=\"325.32,284.58,329.9339,277.3889,324.0679,276.1282,325.32,284.58\" style=\"stroke: #A80036; stroke-width: 1.0;\"/><path d=\"M334.2948,202.5225 A9,9 0 0 0 350.8317 206.0765\" fill=\"none\" style=\"stroke: #A80036; stroke-width: 1.5;\"/><text fill=\"#000000\" font-family=\"sans-serif\" font-size=\"13\" lengthAdjust=\"spacingAndGlyphs\" textLength=\"60\" x=\"336\" y=\"251.0669\">«variant»</text></a><!--MD5=[14ccda38c055a5c0da953d572bc50960]\n",
       "link E7 to E3--><a href=\"psysml:9cf32953-475b-4011-b1f8-e7f09d5ce449\" target=\"_top\" title=\"psysml:9cf32953-475b-4011-b1f8-e7f09d5ce449\" xlink:actuate=\"onRequest\" xlink:href=\"psysml:9cf32953-475b-4011-b1f8-e7f09d5ce449\" xlink:show=\"new\" xlink:title=\"psysml:9cf32953-475b-4011-b1f8-e7f09d5ce449\" xlink:type=\"simple\"><path d=\"M170,87.13 C170,100.7 170,118.53 170,134.73 \" fill=\"none\" id=\"E7-&gt;E3\" style=\"stroke: #A80036; stroke-width: 1.0;\"/><polygon fill=\"#FFFFFF\" points=\"170,154.92,163,135.92,177,135.92,170,154.92\" style=\"stroke: #A80036; stroke-width: 1.0;\"/><ellipse cx=\"165\" cy=\"130.22\" fill=\"#A80036\" rx=\"2\" ry=\"2\" style=\"stroke: #A80036; stroke-width: 1.0;\"/><ellipse cx=\"175\" cy=\"130.22\" fill=\"#A80036\" rx=\"2\" ry=\"2\" style=\"stroke: #A80036; stroke-width: 1.0;\"/></a><!--MD5=[f1f3f9f2fc535e6147756cb86a7f2e32]\n",
       "link E8 to E2--><a href=\"psysml:d1a9bfbc-b159-49c1-a5ca-956a4881ee49\" target=\"_top\" title=\"psysml:d1a9bfbc-b159-49c1-a5ca-956a4881ee49\" xlink:actuate=\"onRequest\" xlink:href=\"psysml:d1a9bfbc-b159-49c1-a5ca-956a4881ee49\" xlink:show=\"new\" xlink:title=\"psysml:d1a9bfbc-b159-49c1-a5ca-956a4881ee49\" xlink:type=\"simple\"><path d=\"M102.23,204.97 C114.45,214.72 127.87,226.28 139,238 C147.93,247.4 156.69,258.25 164.53,268.75 \" fill=\"none\" id=\"E8-&gt;E2\" style=\"stroke: #A80036; stroke-width: 1.0;\"/><polygon fill=\"#FFFFFF\" points=\"176.35,285.25,159.5896,273.8883,170.967,265.7302,176.35,285.25\" style=\"stroke: #A80036; stroke-width: 1.0;\"/><ellipse cx=\"157.8934\" cy=\"268.0907\" fill=\"#A80036\" rx=\"2\" ry=\"2\" style=\"stroke: #A80036; stroke-width: 1.0;\"/><ellipse cx=\"166.0201\" cy=\"262.2634\" fill=\"#A80036\" rx=\"2\" ry=\"2\" style=\"stroke: #A80036; stroke-width: 1.0;\"/></a><!--MD5=[ed10624c06dd9a4fa49ccf290e8b16a8]\n",
       "link E8 to E9--><a href=\"psysml:4574f674-7c12-4143-bfb7-6a6844a72e64\" target=\"_top\" title=\"psysml:4574f674-7c12-4143-bfb7-6a6844a72e64\" xlink:actuate=\"onRequest\" xlink:href=\"psysml:4574f674-7c12-4143-bfb7-6a6844a72e64\" xlink:show=\"new\" xlink:title=\"psysml:4574f674-7c12-4143-bfb7-6a6844a72e64\" xlink:type=\"simple\"><path d=\"M68.16,218.31 C68.69,236.06 69.31,256.98 69.84,274.73 \" fill=\"none\" id=\"E8-E9\" style=\"stroke: #A80036; stroke-width: 1.0;\"/><polygon fill=\"#A80036\" points=\"70.13,284.76,72.8888,276.6736,66.8915,276.8536,70.13,284.76\" style=\"stroke: #A80036; stroke-width: 1.0;\"/><path d=\"M59.509,211.6208 A9,9 0 0 0 76.4159 211.1128\" fill=\"none\" style=\"stroke: #A80036; stroke-width: 1.5;\"/><text fill=\"#000000\" font-family=\"sans-serif\" font-size=\"13\" lengthAdjust=\"spacingAndGlyphs\" textLength=\"60\" x=\"70\" y=\"251.0669\">«variant»</text></a><!--MD5=[0f36bececdf0dff6e600d6f64214b0f1]\n",
       "link E10 to E2--><a href=\"psysml:bd829215-07d4-45cb-8fe9-60748d4dd682\" target=\"_top\" title=\"psysml:bd829215-07d4-45cb-8fe9-60748d4dd682\" xlink:actuate=\"onRequest\" xlink:href=\"psysml:bd829215-07d4-45cb-8fe9-60748d4dd682\" xlink:show=\"new\" xlink:title=\"psysml:bd829215-07d4-45cb-8fe9-60748d4dd682\" xlink:type=\"simple\"><path d=\"M248.43,201.29 C239.99,219.11 227.86,244.69 217.29,266.99 \" fill=\"none\" id=\"E10-&gt;E2\" style=\"stroke: #A80036; stroke-width: 1.0;\"/><polygon fill=\"#FFFFFF\" points=\"208.71,285.08,210.5216,264.9127,223.1727,270.9085,208.71,285.08\" style=\"stroke: #A80036; stroke-width: 1.0;\"/><ellipse cx=\"214.77\" cy=\"260.6185\" fill=\"#A80036\" rx=\"2\" ry=\"2\" style=\"stroke: #A80036; stroke-width: 1.0;\"/><ellipse cx=\"223.8065\" cy=\"264.9012\" fill=\"#A80036\" rx=\"2\" ry=\"2\" style=\"stroke: #A80036; stroke-width: 1.0;\"/></a><!--MD5=[2cc451eb72fbb310de27fbbd304545ad]\n",
       "@startuml\r\n",
       "skinparam wrapWidth 300\r\n",
       "hide circle\r\n",
       "\r\n",
       "package \"VariabilityTest\" as E1  [[psysml:6e13bc12-600f-4176-9ee3-c77c18f0da6f ]]  {\r\n",
       "comp def \"P\" as E2  <<(T,blue) part def>> [[psysml:a47e4883-53c6-48e5-9729-358fb18738b5 ]] {\r\n",
       "a\r\n",
       "}\r\n",
       "comp def \"Q\" as E3  <<(T,blue) part def>> [[psysml:64152dcd-188c-4285-9d2f-82b4222731ff ]] {\r\n",
       "}\r\n",
       "comp def \"B\" as E4  <<(T,blue) attribute def>> [[psysml:6204c3f0-143a-45cc-ac58-9ea86a3a8ea6 ]] {\r\n",
       "}\r\n",
       "comp def \"V\" as E5  <<(T,blue) part def>> [[psysml:58826ca2-a740-4eaa-a71e-521b590388a3 ]] {\r\n",
       "}\r\n",
       "comp usage \"x: Q\" as E6  <<(T,blue) part>> [[psysml:c2df0e2e-5a66-4a2b-abfc-b3b4dd7dd2c5 ]] {\r\n",
       "<&bar-trig> b: B <s>P::a</s>\r\n",
       "}\r\n",
       "comp usage \"q: Q\" as E7  <<(T,blue) part>> [[psysml:d5aa7800-4c4d-4a74-9f82-8c5d7377a367 ]] {\r\n",
       "}\r\n",
       "comp usage \"v: P\" as E8  <<variation>>\\n <<(T,blue) part>> [[psysml:d7b3804f-80e3-4381-979e-bf8e2501fba8 ]] {\r\n",
       "}\r\n",
       "comp usage \"q\" as E9  <<(T,blue) reference>> [[psysml:aeeab6cc-3339-44ed-a45c-f65a5d97c376 ]] {\r\n",
       "<&bar-trig> b: B <s>P::a</s>\r\n",
       "}\r\n",
       "comp usage \"y: P\" as E10  <<(T,blue) part>> [[psysml:fe63b1e8-840a-4f2e-b06a-2ce986f19d03 ]] {\r\n",
       "}\r\n",
       "E3 - -|> E2 [[psysml:6495a820-e8c0-4129-af26-6722c3b7b9e6 ]] \r\n",
       "E5 - -|> E2 [[psysml:bd00e4e7-d183-497a-b9f8-56660fc51e3e ]] \r\n",
       "E5 )- ->> E6 [[psysml:3ec706da-d65f-4ef5-8a1f-1e1b5df7e7c6 ]] : <<variant>>\r\n",
       "E7 - -:|> E3 [[psysml:9cf32953-475b-4011-b1f8-e7f09d5ce449 ]] \r\n",
       "E8 - -:|> E2 [[psysml:d1a9bfbc-b159-49c1-a5ca-956a4881ee49 ]] \r\n",
       "E8 )- ->> E9 [[psysml:4574f674-7c12-4143-bfb7-6a6844a72e64 ]] : <<variant>>\r\n",
       "E10 - -:|> E2 [[psysml:bd829215-07d4-45cb-8fe9-60748d4dd682 ]] \r\n",
       "}\r\n",
       "@enduml\r\n",
       "\n",
       "PlantUML version 1.2020.13(Sat Jun 13 12:26:38 UTC 2020)\n",
       "(EPL source distribution)\n",
       "Java Runtime: OpenJDK Runtime Environment\n",
       "JVM: OpenJDK 64-Bit Server VM\n",
       "Default Encoding: UTF-8\n",
       "Language: en\n",
       "Country: null\n",
       "--></g></svg>"
      ]
     },
     "execution_count": 29,
     "metadata": {},
     "output_type": "execute_result"
    }
   ],
   "source": [
    "%viz --style=\"STDCOLOR\" --view=\"MIXED\" \"VariabilityTest\""
   ]
  },
  {
   "cell_type": "code",
   "execution_count": 30,
   "id": "e03dac8e",
   "metadata": {
    "execution": {
     "iopub.execute_input": "2021-08-04T06:26:50.335852Z",
     "iopub.status.busy": "2021-08-04T06:26:50.335415Z",
     "iopub.status.idle": "2021-08-04T06:26:50.409075Z",
     "shell.execute_reply": "2021-08-04T06:26:50.408727Z"
    }
   },
   "outputs": [
    {
     "data": {
      "image/svg+xml": [
       "<?xml version=\"1.0\" encoding=\"UTF-8\" standalone=\"no\"?><svg xmlns=\"http://www.w3.org/2000/svg\" xmlns:xlink=\"http://www.w3.org/1999/xlink\" contentScriptType=\"application/ecmascript\" contentStyleType=\"text/css\" height=\"385px\" preserveAspectRatio=\"none\" style=\"width:421px;height:385px;\" version=\"1.1\" viewBox=\"0 0 421 385\" width=\"421px\" zoomAndPan=\"magnify\"><defs><filter height=\"300%\" id=\"f1jlvh6464ajmn\" width=\"300%\" x=\"-1\" y=\"-1\"><feGaussianBlur result=\"blurOut\" stdDeviation=\"2.0\"/><feColorMatrix in=\"blurOut\" result=\"blurOut2\" type=\"matrix\" values=\"0 0 0 0 0 0 0 0 0 0 0 0 0 0 0 0 0 0 .4 0\"/><feOffset dx=\"4.0\" dy=\"4.0\" in=\"blurOut2\" result=\"blurOut3\"/><feBlend in=\"SourceGraphic\" in2=\"blurOut3\" mode=\"normal\"/></filter></defs><g><!--MD5=[fbc87193dbaf4d95561dea2c320d4a47]\n",
       "cluster E1--><a href=\"psysml:6e13bc12-600f-4176-9ee3-c77c18f0da6f\" target=\"_top\" title=\"psysml:6e13bc12-600f-4176-9ee3-c77c18f0da6f\" xlink:actuate=\"onRequest\" xlink:href=\"psysml:6e13bc12-600f-4176-9ee3-c77c18f0da6f\" xlink:show=\"new\" xlink:title=\"psysml:6e13bc12-600f-4176-9ee3-c77c18f0da6f\" xlink:type=\"simple\"><polygon fill=\"#FFFFFF\" filter=\"url(#f1jlvh6464ajmn)\" points=\"16,6,134,6,141,28.2969,399,28.2969,399,373,16,373,16,6\" style=\"stroke: #000000; stroke-width: 1.5;\"/><line style=\"stroke: #000000; stroke-width: 1.5;\" x1=\"16\" x2=\"141\" y1=\"28.2969\" y2=\"28.2969\"/><text fill=\"#000000\" font-family=\"sans-serif\" font-size=\"14\" font-weight=\"bold\" lengthAdjust=\"spacingAndGlyphs\" textLength=\"112\" x=\"20\" y=\"20.9951\">VariabilityTest</text></a><!--MD5=[b4997ac47864f28c2f74865a473b2911]\n",
       "class E2--><a href=\"psysml:a47e4883-53c6-48e5-9729-358fb18738b5\" target=\"_top\" title=\"psysml:a47e4883-53c6-48e5-9729-358fb18738b5\" xlink:actuate=\"onRequest\" xlink:href=\"psysml:a47e4883-53c6-48e5-9729-358fb18738b5\" xlink:show=\"new\" xlink:title=\"psysml:a47e4883-53c6-48e5-9729-358fb18738b5\" xlink:type=\"simple\"><rect fill=\"#FEFECE\" filter=\"url(#f1jlvh6464ajmn)\" height=\"52.8047\" id=\"E2\" style=\"stroke: #A80036; stroke-width: 1.5;\" width=\"40\" x=\"192\" y=\"294.5\"/><ellipse cx=\"207\" cy=\"310.5\" fill=\"#008000\" rx=\"11\" ry=\"11\" style=\"stroke: #A80036; stroke-width: 1.0;\"/><path d=\"M205.9063,310.875 L205.9063,314.5469 L207.5313,314.5469 Q208.7031,314.5469 209.1719,314.1563 Q209.6406,313.75 209.6406,312.75 Q209.6406,311.75 209.1406,311.3125 Q208.6563,310.875 207.5313,310.875 L205.9063,310.875 Z M205.9063,306.0469 L205.9063,308.9219 L207.5313,308.9219 Q208.4531,308.9219 208.8438,308.5938 Q209.25,308.25 209.25,307.5 Q209.25,306.7344 208.8438,306.3906 Q208.4375,306.0469 207.5313,306.0469 L205.9063,306.0469 Z M203.5313,304.0938 L207.5313,304.0938 Q209.5938,304.0938 210.6406,304.875 Q211.6875,305.6563 211.6875,307.2188 Q211.6875,308.4219 211.0625,309.0938 Q210.4531,309.7656 209.2656,309.875 Q210.6875,310.0156 211.4063,310.8281 Q212.125,311.6406 212.125,313.0938 Q212.125,314.8906 211.0469,315.7031 Q209.9688,316.5 207.5313,316.5 L203.5313,316.5 L203.5313,304.0938 Z \"/><text fill=\"#000000\" font-family=\"sans-serif\" font-size=\"12\" lengthAdjust=\"spacingAndGlyphs\" textLength=\"8\" x=\"221\" y=\"314.6543\">P</text><line style=\"stroke: #A80036; stroke-width: 1.5;\" x1=\"193\" x2=\"231\" y1=\"326.5\" y2=\"326.5\"/><text fill=\"#000000\" font-family=\"sans-serif\" font-size=\"11\" lengthAdjust=\"spacingAndGlyphs\" textLength=\"7\" x=\"198\" y=\"340.7104\">a</text></a><!--MD5=[09b614a08d8cba4a07c9adeb5e0fee81]\n",
       "class E3--><a href=\"psysml:64152dcd-188c-4285-9d2f-82b4222731ff\" target=\"_top\" title=\"psysml:64152dcd-188c-4285-9d2f-82b4222731ff\" xlink:actuate=\"onRequest\" xlink:href=\"psysml:64152dcd-188c-4285-9d2f-82b4222731ff\" xlink:show=\"new\" xlink:title=\"psysml:64152dcd-188c-4285-9d2f-82b4222731ff\" xlink:type=\"simple\"><rect fill=\"#FEFECE\" filter=\"url(#f1jlvh6464ajmn)\" height=\"40\" id=\"E3\" style=\"stroke: #A80036; stroke-width: 1.5;\" width=\"41\" x=\"163.5\" y=\"158\"/><ellipse cx=\"178.5\" cy=\"174\" fill=\"#008000\" rx=\"11\" ry=\"11\" style=\"stroke: #A80036; stroke-width: 1.0;\"/><path d=\"M177.4063,174.375 L177.4063,178.0469 L179.0313,178.0469 Q180.2031,178.0469 180.6719,177.6563 Q181.1406,177.25 181.1406,176.25 Q181.1406,175.25 180.6406,174.8125 Q180.1563,174.375 179.0313,174.375 L177.4063,174.375 Z M177.4063,169.5469 L177.4063,172.4219 L179.0313,172.4219 Q179.9531,172.4219 180.3438,172.0938 Q180.75,171.75 180.75,171 Q180.75,170.2344 180.3438,169.8906 Q179.9375,169.5469 179.0313,169.5469 L177.4063,169.5469 Z M175.0313,167.5938 L179.0313,167.5938 Q181.0938,167.5938 182.1406,168.375 Q183.1875,169.1563 183.1875,170.7188 Q183.1875,171.9219 182.5625,172.5938 Q181.9531,173.2656 180.7656,173.375 Q182.1875,173.5156 182.9063,174.3281 Q183.625,175.1406 183.625,176.5938 Q183.625,178.3906 182.5469,179.2031 Q181.4688,180 179.0313,180 L175.0313,180 L175.0313,167.5938 Z \"/><text fill=\"#000000\" font-family=\"sans-serif\" font-size=\"12\" lengthAdjust=\"spacingAndGlyphs\" textLength=\"9\" x=\"192.5\" y=\"178.1543\">Q</text><line style=\"stroke: #A80036; stroke-width: 1.5;\" x1=\"164.5\" x2=\"203.5\" y1=\"190\" y2=\"190\"/></a><!--MD5=[ebbe1d658d1005bcc118a6aa81145e00]\n",
       "class E4--><a href=\"psysml:6204c3f0-143a-45cc-ac58-9ea86a3a8ea6\" target=\"_top\" title=\"psysml:6204c3f0-143a-45cc-ac58-9ea86a3a8ea6\" xlink:actuate=\"onRequest\" xlink:href=\"psysml:6204c3f0-143a-45cc-ac58-9ea86a3a8ea6\" xlink:show=\"new\" xlink:title=\"psysml:6204c3f0-143a-45cc-ac58-9ea86a3a8ea6\" xlink:type=\"simple\"><rect fill=\"#FEFECE\" filter=\"url(#f1jlvh6464ajmn)\" height=\"45.9375\" id=\"E4\" style=\"stroke: #A80036; stroke-width: 1.5;\" width=\"121\" x=\"257.5\" y=\"41\"/><ellipse cx=\"272.5\" cy=\"59.9688\" fill=\"#A52A2A\" rx=\"11\" ry=\"11\" style=\"stroke: #A80036; stroke-width: 1.0;\"/><path d=\"M272.0938,55.7813 L272.0938,63.7656 L272.75,63.7656 Q274.1875,63.7656 274.7969,62.8594 Q275.4219,61.9375 275.4219,59.7656 Q275.4219,57.5938 274.7969,56.6875 Q274.1875,55.7813 272.75,55.7813 L272.0938,55.7813 Z M269.6406,53.5781 L272.2656,53.5781 Q275.2969,53.5781 276.625,55.0313 Q277.9688,56.4688 277.9688,59.7656 Q277.9688,63.0625 276.625,64.5156 Q275.2969,65.9688 272.2656,65.9688 L269.6406,65.9688 L269.6406,53.5781 Z \"/><text fill=\"#000000\" font-family=\"sans-serif\" font-size=\"12\" font-style=\"italic\" lengthAdjust=\"spacingAndGlyphs\" textLength=\"93\" x=\"284.5\" y=\"57.1387\">«attribute def»</text><text fill=\"#000000\" font-family=\"sans-serif\" font-size=\"12\" lengthAdjust=\"spacingAndGlyphs\" textLength=\"8\" x=\"327\" y=\"71.1074\">B</text><line style=\"stroke: #A80036; stroke-width: 1.5;\" x1=\"258.5\" x2=\"377.5\" y1=\"78.9375\" y2=\"78.9375\"/></a><!--MD5=[270fce915f116d4de14055a7c1d9a0f3]\n",
       "class E5--><a href=\"psysml:58826ca2-a740-4eaa-a71e-521b590388a3\" target=\"_top\" title=\"psysml:58826ca2-a740-4eaa-a71e-521b590388a3\" xlink:actuate=\"onRequest\" xlink:href=\"psysml:58826ca2-a740-4eaa-a71e-521b590388a3\" xlink:show=\"new\" xlink:title=\"psysml:58826ca2-a740-4eaa-a71e-521b590388a3\" xlink:type=\"simple\"><rect fill=\"#FEFECE\" filter=\"url(#f1jlvh6464ajmn)\" height=\"40\" id=\"E5\" style=\"stroke: #A80036; stroke-width: 1.5;\" width=\"40\" x=\"343\" y=\"158\"/><ellipse cx=\"358\" cy=\"174\" fill=\"#008000\" rx=\"11\" ry=\"11\" style=\"stroke: #A80036; stroke-width: 1.0;\"/><path d=\"M356.9063,174.375 L356.9063,178.0469 L358.5313,178.0469 Q359.7031,178.0469 360.1719,177.6563 Q360.6406,177.25 360.6406,176.25 Q360.6406,175.25 360.1406,174.8125 Q359.6563,174.375 358.5313,174.375 L356.9063,174.375 Z M356.9063,169.5469 L356.9063,172.4219 L358.5313,172.4219 Q359.4531,172.4219 359.8438,172.0938 Q360.25,171.75 360.25,171 Q360.25,170.2344 359.8438,169.8906 Q359.4375,169.5469 358.5313,169.5469 L356.9063,169.5469 Z M354.5313,167.5938 L358.5313,167.5938 Q360.5938,167.5938 361.6406,168.375 Q362.6875,169.1563 362.6875,170.7188 Q362.6875,171.9219 362.0625,172.5938 Q361.4531,173.2656 360.2656,173.375 Q361.6875,173.5156 362.4063,174.3281 Q363.125,175.1406 363.125,176.5938 Q363.125,178.3906 362.0469,179.2031 Q360.9688,180 358.5313,180 L354.5313,180 L354.5313,167.5938 Z \"/><text fill=\"#000000\" font-family=\"sans-serif\" font-size=\"12\" lengthAdjust=\"spacingAndGlyphs\" textLength=\"8\" x=\"372\" y=\"178.1543\">V</text><line style=\"stroke: #A80036; stroke-width: 1.5;\" x1=\"344\" x2=\"382\" y1=\"190\" y2=\"190\"/></a><!--MD5=[60a26617385b1d2d0262a64233df1f8d]\n",
       "class E6--><a href=\"psysml:c2df0e2e-5a66-4a2b-abfc-b3b4dd7dd2c5\" target=\"_top\" title=\"psysml:c2df0e2e-5a66-4a2b-abfc-b3b4dd7dd2c5\" xlink:actuate=\"onRequest\" xlink:href=\"psysml:c2df0e2e-5a66-4a2b-abfc-b3b4dd7dd2c5\" xlink:show=\"new\" xlink:title=\"psysml:c2df0e2e-5a66-4a2b-abfc-b3b4dd7dd2c5\" xlink:type=\"simple\"><rect fill=\"#FEFECE\" filter=\"url(#f1jlvh6464ajmn)\" height=\"71.5469\" id=\"E6\" rx=\"10\" ry=\"10\" style=\"stroke: #A80036; stroke-width: 1.5;\" width=\"68\" x=\"287\" y=\"285\"/><ellipse cx=\"302\" cy=\"303.9688\" fill=\"#32CD32\" rx=\"11\" ry=\"11\" style=\"stroke: #A80036; stroke-width: 1.0;\"/><path d=\"M301.7969,299.6406 L301.7969,303.2656 L302.7969,303.2656 Q304,303.2656 304.4844,302.8594 Q304.9688,302.4531 304.9688,301.4531 Q304.9688,300.4531 304.4844,300.0469 Q304,299.6406 302.7969,299.6406 L301.7969,299.6406 Z M299.3438,297.5781 L302.7031,297.5781 Q305.2656,297.5781 306.3906,298.5 Q307.5156,299.4063 307.5156,301.4531 Q307.5156,303.5 306.3906,304.4219 Q305.2656,305.3281 302.7031,305.3281 L301.7969,305.3281 L301.7969,309.9688 L299.3438,309.9688 L299.3438,297.5781 Z \"/><text fill=\"#000000\" font-family=\"sans-serif\" font-size=\"12\" font-style=\"italic\" lengthAdjust=\"spacingAndGlyphs\" textLength=\"40\" x=\"314\" y=\"301.1387\">«part»</text><text fill=\"#000000\" font-family=\"sans-serif\" font-size=\"12\" lengthAdjust=\"spacingAndGlyphs\" textLength=\"23\" x=\"322.5\" y=\"315.1074\">x: Q</text><line style=\"stroke: #A80036; stroke-width: 1.5;\" x1=\"288\" x2=\"354\" y1=\"322.9375\" y2=\"322.9375\"/><text fill=\"#000000\" font-family=\"sans-serif\" font-size=\"11\" lengthAdjust=\"spacingAndGlyphs\" textLength=\"23\" x=\"293\" y=\"337.1479\">b: B</text><text fill=\"#000000\" font-family=\"sans-serif\" font-size=\"11\" font-style=\"italic\" lengthAdjust=\"spacingAndGlyphs\" textLength=\"44\" x=\"293\" y=\"349.9526\">:&gt;&gt;P::a</text></a><!--MD5=[2156ba9850f5573cc1fc38a6a4b2f02b]\n",
       "class E7--><a href=\"psysml:d5aa7800-4c4d-4a74-9f82-8c5d7377a367\" target=\"_top\" title=\"psysml:d5aa7800-4c4d-4a74-9f82-8c5d7377a367\" xlink:actuate=\"onRequest\" xlink:href=\"psysml:d5aa7800-4c4d-4a74-9f82-8c5d7377a367\" xlink:show=\"new\" xlink:title=\"psysml:d5aa7800-4c4d-4a74-9f82-8c5d7377a367\" xlink:type=\"simple\"><rect fill=\"#FEFECE\" filter=\"url(#f1jlvh6464ajmn)\" height=\"45.9375\" id=\"E7\" rx=\"10\" ry=\"10\" style=\"stroke: #A80036; stroke-width: 1.5;\" width=\"68\" x=\"150\" y=\"41\"/><ellipse cx=\"165\" cy=\"59.9688\" fill=\"#32CD32\" rx=\"11\" ry=\"11\" style=\"stroke: #A80036; stroke-width: 1.0;\"/><path d=\"M164.7969,55.6406 L164.7969,59.2656 L165.7969,59.2656 Q167,59.2656 167.4844,58.8594 Q167.9688,58.4531 167.9688,57.4531 Q167.9688,56.4531 167.4844,56.0469 Q167,55.6406 165.7969,55.6406 L164.7969,55.6406 Z M162.3438,53.5781 L165.7031,53.5781 Q168.2656,53.5781 169.3906,54.5 Q170.5156,55.4063 170.5156,57.4531 Q170.5156,59.5 169.3906,60.4219 Q168.2656,61.3281 165.7031,61.3281 L164.7969,61.3281 L164.7969,65.9688 L162.3438,65.9688 L162.3438,53.5781 Z \"/><text fill=\"#000000\" font-family=\"sans-serif\" font-size=\"12\" font-style=\"italic\" lengthAdjust=\"spacingAndGlyphs\" textLength=\"40\" x=\"177\" y=\"57.1387\">«part»</text><text fill=\"#000000\" font-family=\"sans-serif\" font-size=\"12\" lengthAdjust=\"spacingAndGlyphs\" textLength=\"25\" x=\"184.5\" y=\"71.1074\">q: Q</text><line style=\"stroke: #A80036; stroke-width: 1.5;\" x1=\"151\" x2=\"217\" y1=\"78.9375\" y2=\"78.9375\"/></a><!--MD5=[b9389687b975829384b498ac4b7476b2]\n",
       "class E8--><a href=\"psysml:d7b3804f-80e3-4381-979e-bf8e2501fba8\" target=\"_top\" title=\"psysml:d7b3804f-80e3-4381-979e-bf8e2501fba8\" xlink:actuate=\"onRequest\" xlink:href=\"psysml:d7b3804f-80e3-4381-979e-bf8e2501fba8\" xlink:show=\"new\" xlink:title=\"psysml:d7b3804f-80e3-4381-979e-bf8e2501fba8\" xlink:type=\"simple\"><rect fill=\"#FEFECE\" filter=\"url(#f1jlvh6464ajmn)\" height=\"59.9063\" id=\"E8\" rx=\"10\" ry=\"10\" style=\"stroke: #A80036; stroke-width: 1.5;\" width=\"96\" x=\"32\" y=\"148\"/><ellipse cx=\"47\" cy=\"173.9531\" fill=\"#32CD32\" rx=\"11\" ry=\"11\" style=\"stroke: #A80036; stroke-width: 1.0;\"/><path d=\"M46.7969,169.625 L46.7969,173.25 L47.7969,173.25 Q49,173.25 49.4844,172.8438 Q49.9688,172.4375 49.9688,171.4375 Q49.9688,170.4375 49.4844,170.0313 Q49,169.625 47.7969,169.625 L46.7969,169.625 Z M44.3438,167.5625 L47.7031,167.5625 Q50.2656,167.5625 51.3906,168.4844 Q52.5156,169.3906 52.5156,171.4375 Q52.5156,173.4844 51.3906,174.4063 Q50.2656,175.3125 47.7031,175.3125 L46.7969,175.3125 L46.7969,179.9531 L44.3438,179.9531 L44.3438,167.5625 Z \"/><text fill=\"#000000\" font-family=\"sans-serif\" font-size=\"12\" font-style=\"italic\" lengthAdjust=\"spacingAndGlyphs\" textLength=\"68\" x=\"59\" y=\"164.1387\">«variation»</text><text fill=\"#000000\" font-family=\"sans-serif\" font-size=\"12\" font-style=\"italic\" lengthAdjust=\"spacingAndGlyphs\" textLength=\"40\" x=\"73\" y=\"178.1074\">«part»</text><text fill=\"#000000\" font-family=\"sans-serif\" font-size=\"12\" lengthAdjust=\"spacingAndGlyphs\" textLength=\"22\" x=\"82\" y=\"192.0762\">v: P</text><line style=\"stroke: #A80036; stroke-width: 1.5;\" x1=\"33\" x2=\"127\" y1=\"199.9063\" y2=\"199.9063\"/></a><!--MD5=[fd4143e9d270a159db93a4ea2a975926]\n",
       "class E9--><a href=\"psysml:aeeab6cc-3339-44ed-a45c-f65a5d97c376\" target=\"_top\" title=\"psysml:aeeab6cc-3339-44ed-a45c-f65a5d97c376\" xlink:actuate=\"onRequest\" xlink:href=\"psysml:aeeab6cc-3339-44ed-a45c-f65a5d97c376\" xlink:show=\"new\" xlink:title=\"psysml:aeeab6cc-3339-44ed-a45c-f65a5d97c376\" xlink:type=\"simple\"><rect fill=\"#FEFECE\" filter=\"url(#f1jlvh6464ajmn)\" height=\"71.5469\" id=\"E9\" rx=\"10\" ry=\"10\" style=\"stroke: #A80036; stroke-width: 1.5;\" width=\"103\" x=\"32.5\" y=\"285\"/><ellipse cx=\"47.5\" cy=\"303.9688\" fill=\"#FFA500\" rx=\"11\" ry=\"11\" style=\"stroke: #A80036; stroke-width: 1.0;\"/><path d=\"M43.375,305.8906 L43.375,298.0781 L45.8281,298.0781 L45.8281,306.5156 Q45.8281,307.4375 46.2969,307.9688 Q46.7813,308.5 47.6094,308.5 Q48.4531,308.5 48.9219,307.9688 Q49.3906,307.4375 49.3906,306.5156 L49.3906,298.0781 L51.8438,298.0781 L51.8438,305.8906 Q51.8438,308.4219 50.8438,309.5625 Q49.8438,310.7031 47.6094,310.7031 Q45.3906,310.7031 44.375,309.5625 Q43.375,308.4219 43.375,305.8906 Z \"/><text fill=\"#000000\" font-family=\"sans-serif\" font-size=\"12\" font-style=\"italic\" lengthAdjust=\"spacingAndGlyphs\" textLength=\"75\" x=\"59.5\" y=\"301.1387\">«reference»</text><text fill=\"#000000\" font-family=\"sans-serif\" font-size=\"12\" lengthAdjust=\"spacingAndGlyphs\" textLength=\"8\" x=\"93\" y=\"315.1074\">q</text><line style=\"stroke: #A80036; stroke-width: 1.5;\" x1=\"33.5\" x2=\"134.5\" y1=\"322.9375\" y2=\"322.9375\"/><text fill=\"#000000\" font-family=\"sans-serif\" font-size=\"11\" lengthAdjust=\"spacingAndGlyphs\" textLength=\"23\" x=\"38.5\" y=\"337.1479\">b: B</text><text fill=\"#000000\" font-family=\"sans-serif\" font-size=\"11\" font-style=\"italic\" lengthAdjust=\"spacingAndGlyphs\" textLength=\"44\" x=\"38.5\" y=\"349.9526\">:&gt;&gt;P::a</text></a><!--MD5=[96f4274e9e20536e775497830990834d]\n",
       "class E10--><a href=\"psysml:fe63b1e8-840a-4f2e-b06a-2ce986f19d03\" target=\"_top\" title=\"psysml:fe63b1e8-840a-4f2e-b06a-2ce986f19d03\" xlink:actuate=\"onRequest\" xlink:href=\"psysml:fe63b1e8-840a-4f2e-b06a-2ce986f19d03\" xlink:show=\"new\" xlink:title=\"psysml:fe63b1e8-840a-4f2e-b06a-2ce986f19d03\" xlink:type=\"simple\"><rect fill=\"#FEFECE\" filter=\"url(#f1jlvh6464ajmn)\" height=\"45.9375\" id=\"E10\" rx=\"10\" ry=\"10\" style=\"stroke: #A80036; stroke-width: 1.5;\" width=\"68\" x=\"240\" y=\"155\"/><ellipse cx=\"255\" cy=\"173.9688\" fill=\"#32CD32\" rx=\"11\" ry=\"11\" style=\"stroke: #A80036; stroke-width: 1.0;\"/><path d=\"M254.7969,169.6406 L254.7969,173.2656 L255.7969,173.2656 Q257,173.2656 257.4844,172.8594 Q257.9688,172.4531 257.9688,171.4531 Q257.9688,170.4531 257.4844,170.0469 Q257,169.6406 255.7969,169.6406 L254.7969,169.6406 Z M252.3438,167.5781 L255.7031,167.5781 Q258.2656,167.5781 259.3906,168.5 Q260.5156,169.4063 260.5156,171.4531 Q260.5156,173.5 259.3906,174.4219 Q258.2656,175.3281 255.7031,175.3281 L254.7969,175.3281 L254.7969,179.9688 L252.3438,179.9688 L252.3438,167.5781 Z \"/><text fill=\"#000000\" font-family=\"sans-serif\" font-size=\"12\" font-style=\"italic\" lengthAdjust=\"spacingAndGlyphs\" textLength=\"40\" x=\"267\" y=\"171.1387\">«part»</text><text fill=\"#000000\" font-family=\"sans-serif\" font-size=\"12\" lengthAdjust=\"spacingAndGlyphs\" textLength=\"22\" x=\"276\" y=\"185.1074\">y: P</text><line style=\"stroke: #A80036; stroke-width: 1.5;\" x1=\"241\" x2=\"307\" y1=\"192.9375\" y2=\"192.9375\"/></a><!--MD5=[05d275557350bfb9b23a4ef7222b4c39]\n",
       "link E3 to E2--><a href=\"psysml:6495a820-e8c0-4129-af26-6722c3b7b9e6\" target=\"_top\" title=\"psysml:6495a820-e8c0-4129-af26-6722c3b7b9e6\" xlink:actuate=\"onRequest\" xlink:href=\"psysml:6495a820-e8c0-4129-af26-6722c3b7b9e6\" xlink:show=\"new\" xlink:title=\"psysml:6495a820-e8c0-4129-af26-6722c3b7b9e6\" xlink:type=\"simple\"><path d=\"M187.78,198.02 C191.66,217.55 197.84,248.68 202.99,274.61 \" fill=\"none\" id=\"E3-&gt;E2\" style=\"stroke: #A80036; stroke-width: 1.0;\"/><polygon fill=\"none\" points=\"209.88,273.39,206.91,294.37,196.15,276.12,209.88,273.39\" style=\"stroke: #A80036; stroke-width: 1.0;\"/></a><!--MD5=[15ebcb19ae302d9b601edb458606d402]\n",
       "link E5 to E2--><a href=\"psysml:bd00e4e7-d183-497a-b9f8-56660fc51e3e\" target=\"_top\" title=\"psysml:bd00e4e7-d183-497a-b9f8-56660fc51e3e\" xlink:actuate=\"onRequest\" xlink:href=\"psysml:bd00e4e7-d183-497a-b9f8-56660fc51e3e\" xlink:show=\"new\" xlink:title=\"psysml:bd00e4e7-d183-497a-b9f8-56660fc51e3e\" xlink:type=\"simple\"><path d=\"M342.95,197.72 C318.47,220.58 276.65,259.63 246.86,287.45 \" fill=\"none\" id=\"E5-&gt;E2\" style=\"stroke: #A80036; stroke-width: 1.0;\"/><polygon fill=\"none\" points=\"251.53,292.67,232.13,301.2,241.98,282.43,251.53,292.67\" style=\"stroke: #A80036; stroke-width: 1.0;\"/></a><!--MD5=[9120cf2e5df3bff93db8f754bbbc09b4]\n",
       "link E5 to E6--><a href=\"psysml:3ec706da-d65f-4ef5-8a1f-1e1b5df7e7c6\" target=\"_top\" title=\"psysml:3ec706da-d65f-4ef5-8a1f-1e1b5df7e7c6\" xlink:actuate=\"onRequest\" xlink:href=\"psysml:3ec706da-d65f-4ef5-8a1f-1e1b5df7e7c6\" xlink:show=\"new\" xlink:title=\"psysml:3ec706da-d65f-4ef5-8a1f-1e1b5df7e7c6\" xlink:type=\"simple\"><path d=\"M354.4,207.89 C348.64,227.2 340.95,253.01 334.41,274.99 \" fill=\"none\" id=\"E5-E6\" style=\"stroke: #A80036; stroke-width: 1.0;\"/><polygon fill=\"#A80036\" points=\"331.49,284.79,336.6502,277.9802,330.9001,276.2664,331.49,284.79\" style=\"stroke: #A80036; stroke-width: 1.0;\"/><path d=\"M348.3559,198.5542 A9,9 0 0 0 364.5656 203.3857\" fill=\"none\" style=\"stroke: #A80036; stroke-width: 1.5;\"/><text fill=\"#000000\" font-family=\"sans-serif\" font-size=\"13\" lengthAdjust=\"spacingAndGlyphs\" textLength=\"60\" x=\"345\" y=\"251.0669\">«variant»</text></a><!--MD5=[14ccda38c055a5c0da953d572bc50960]\n",
       "link E7 to E3--><a href=\"psysml:9cf32953-475b-4011-b1f8-e7f09d5ce449\" target=\"_top\" title=\"psysml:9cf32953-475b-4011-b1f8-e7f09d5ce449\" xlink:actuate=\"onRequest\" xlink:href=\"psysml:9cf32953-475b-4011-b1f8-e7f09d5ce449\" xlink:show=\"new\" xlink:title=\"psysml:9cf32953-475b-4011-b1f8-e7f09d5ce449\" xlink:type=\"simple\"><path d=\"M184,87.13 C184,101.57 184,120.83 184,137.81 \" fill=\"none\" id=\"E7-&gt;E3\" style=\"stroke: #A80036; stroke-width: 1.0;\"/><polygon fill=\"#FFFFFF\" points=\"184,157.9,177,138.9,191,138.9,184,157.9\" style=\"stroke: #A80036; stroke-width: 1.0;\"/><ellipse cx=\"179\" cy=\"133.2\" fill=\"#A80036\" rx=\"2\" ry=\"2\" style=\"stroke: #A80036; stroke-width: 1.0;\"/><ellipse cx=\"189\" cy=\"133.2\" fill=\"#A80036\" rx=\"2\" ry=\"2\" style=\"stroke: #A80036; stroke-width: 1.0;\"/></a><!--MD5=[f1f3f9f2fc535e6147756cb86a7f2e32]\n",
       "link E8 to E2--><a href=\"psysml:d1a9bfbc-b159-49c1-a5ca-956a4881ee49\" target=\"_top\" title=\"psysml:d1a9bfbc-b159-49c1-a5ca-956a4881ee49\" xlink:actuate=\"onRequest\" xlink:href=\"psysml:d1a9bfbc-b159-49c1-a5ca-956a4881ee49\" xlink:show=\"new\" xlink:title=\"psysml:d1a9bfbc-b159-49c1-a5ca-956a4881ee49\" xlink:type=\"simple\"><path d=\"M119.32,208.23 C130.4,217.24 142.11,227.55 152,238 C163.47,250.11 174.65,264.47 184.19,277.75 \" fill=\"none\" id=\"E8-&gt;E2\" style=\"stroke: #A80036; stroke-width: 1.0;\"/><polygon fill=\"#FFFFFF\" points=\"195.68,294.32,179.1086,282.6843,190.6186,274.7143,195.68,294.32\" style=\"stroke: #A80036; stroke-width: 1.0;\"/><ellipse cx=\"177.508\" cy=\"276.8595\" fill=\"#A80036\" rx=\"2\" ry=\"2\" style=\"stroke: #A80036; stroke-width: 1.0;\"/><ellipse cx=\"185.7294\" cy=\"271.1667\" fill=\"#A80036\" rx=\"2\" ry=\"2\" style=\"stroke: #A80036; stroke-width: 1.0;\"/></a><!--MD5=[ed10624c06dd9a4fa49ccf290e8b16a8]\n",
       "link E8 to E9--><a href=\"psysml:4574f674-7c12-4143-bfb7-6a6844a72e64\" target=\"_top\" title=\"psysml:4574f674-7c12-4143-bfb7-6a6844a72e64\" xlink:actuate=\"onRequest\" xlink:href=\"psysml:4574f674-7c12-4143-bfb7-6a6844a72e64\" xlink:show=\"new\" xlink:title=\"psysml:4574f674-7c12-4143-bfb7-6a6844a72e64\" xlink:type=\"simple\"><path d=\"M81.12,218.35 C81.61,235.87 82.2,256.61 82.72,274.77 \" fill=\"none\" id=\"E8-E9\" style=\"stroke: #A80036; stroke-width: 1.0;\"/><polygon fill=\"#A80036\" points=\"83,284.83,85.7703,276.7476,79.7727,276.9189,83,284.83\" style=\"stroke: #A80036; stroke-width: 1.0;\"/><path d=\"M72.4641,211.5385 A9,9 0 0 0 89.3717 211.0554\" fill=\"none\" style=\"stroke: #A80036; stroke-width: 1.5;\"/><text fill=\"#000000\" font-family=\"sans-serif\" font-size=\"13\" lengthAdjust=\"spacingAndGlyphs\" textLength=\"60\" x=\"83\" y=\"251.0669\">«variant»</text></a><!--MD5=[0f36bececdf0dff6e600d6f64214b0f1]\n",
       "link E10 to E2--><a href=\"psysml:bd829215-07d4-45cb-8fe9-60748d4dd682\" target=\"_top\" title=\"psysml:bd829215-07d4-45cb-8fe9-60748d4dd682\" xlink:actuate=\"onRequest\" xlink:href=\"psysml:bd829215-07d4-45cb-8fe9-60748d4dd682\" xlink:show=\"new\" xlink:title=\"psysml:bd829215-07d4-45cb-8fe9-60748d4dd682\" xlink:type=\"simple\"><path d=\"M264.31,201.03 C255.55,220.95 242.39,250.89 231.46,275.74 \" fill=\"none\" id=\"E10-&gt;E2\" style=\"stroke: #A80036; stroke-width: 1.0;\"/><polygon fill=\"#FFFFFF\" points=\"223.3,294.3,224.5306,274.089,237.3489,279.7183,223.3,294.3\" style=\"stroke: #A80036; stroke-width: 1.0;\"/><ellipse cx=\"228.6537\" cy=\"269.6742\" fill=\"#A80036\" rx=\"2\" ry=\"2\" style=\"stroke: #A80036; stroke-width: 1.0;\"/><ellipse cx=\"237.8097\" cy=\"273.6952\" fill=\"#A80036\" rx=\"2\" ry=\"2\" style=\"stroke: #A80036; stroke-width: 1.0;\"/></a><!--MD5=[b987ca02f01165333bb65d7ee1b84ee3]\n",
       "@startuml\r\n",
       " \r\n",
       "package \"VariabilityTest\" as E1  [[psysml:6e13bc12-600f-4176-9ee3-c77c18f0da6f ]]  {\r\n",
       "comp def \"P\" as E2 << << (B,green) >> [[psysml:a47e4883-53c6-48e5-9729-358fb18738b5 ]] {\r\n",
       "a\r\n",
       "}\r\n",
       "comp def \"Q\" as E3 << << (B,green) >> [[psysml:64152dcd-188c-4285-9d2f-82b4222731ff ]] {\r\n",
       "}\r\n",
       "comp def \"B\" as E4 << <<(D,brown) attribute def>> [[psysml:6204c3f0-143a-45cc-ac58-9ea86a3a8ea6 ]] {\r\n",
       "}\r\n",
       "comp def \"V\" as E5 << << (B,green) >> [[psysml:58826ca2-a740-4eaa-a71e-521b590388a3 ]] {\r\n",
       "}\r\n",
       "comp usage \"x: Q\" as E6 << << (P,limegreen) part>> [[psysml:c2df0e2e-5a66-4a2b-abfc-b3b4dd7dd2c5 ]] {\r\n",
       "b: B\\n//:>>P::a// \r\n",
       "}\r\n",
       "comp usage \"q: Q\" as E7 << << (P,limegreen) part>> [[psysml:d5aa7800-4c4d-4a74-9f82-8c5d7377a367 ]] {\r\n",
       "}\r\n",
       "comp usage \"v: P\" as E8  <<variation>>\\n<< << (P,limegreen) part>> [[psysml:d7b3804f-80e3-4381-979e-bf8e2501fba8 ]] {\r\n",
       "}\r\n",
       "comp usage \"q\" as E9 << <<(U,orange) reference>> [[psysml:aeeab6cc-3339-44ed-a45c-f65a5d97c376 ]] {\r\n",
       "b: B\\n//:>>P::a// \r\n",
       "}\r\n",
       "comp usage \"y: P\" as E10 << << (P,limegreen) part>> [[psysml:fe63b1e8-840a-4f2e-b06a-2ce986f19d03 ]] {\r\n",
       "}\r\n",
       "E3 - -|> E2 [[psysml:6495a820-e8c0-4129-af26-6722c3b7b9e6 ]] \r\n",
       "E5 - -|> E2 [[psysml:bd00e4e7-d183-497a-b9f8-56660fc51e3e ]] \r\n",
       "E5 )- ->> E6 [[psysml:3ec706da-d65f-4ef5-8a1f-1e1b5df7e7c6 ]] : <<variant>>\r\n",
       "E7 - -:|> E3 [[psysml:9cf32953-475b-4011-b1f8-e7f09d5ce449 ]] \r\n",
       "E8 - -:|> E2 [[psysml:d1a9bfbc-b159-49c1-a5ca-956a4881ee49 ]] \r\n",
       "E8 )- ->> E9 [[psysml:4574f674-7c12-4143-bfb7-6a6844a72e64 ]] : <<variant>>\r\n",
       "E10 - -:|> E2 [[psysml:bd829215-07d4-45cb-8fe9-60748d4dd682 ]] \r\n",
       "}\r\n",
       "@enduml\r\n",
       "\n",
       "PlantUML version 1.2020.13(Sat Jun 13 12:26:38 UTC 2020)\n",
       "(EPL source distribution)\n",
       "Java Runtime: OpenJDK Runtime Environment\n",
       "JVM: OpenJDK 64-Bit Server VM\n",
       "Default Encoding: UTF-8\n",
       "Language: en\n",
       "Country: null\n",
       "--></g></svg>"
      ]
     },
     "execution_count": 30,
     "metadata": {},
     "output_type": "execute_result"
    }
   ],
   "source": [
    "%viz --style=\"PLANTUML\" --view=\"Default\" \"VariabilityTest\""
   ]
  },
  {
   "cell_type": "code",
   "execution_count": 31,
   "id": "737e11a1",
   "metadata": {
    "execution": {
     "iopub.execute_input": "2021-08-04T06:26:50.458731Z",
     "iopub.status.busy": "2021-08-04T06:26:50.458120Z",
     "iopub.status.idle": "2021-08-04T06:26:50.509921Z",
     "shell.execute_reply": "2021-08-04T06:26:50.509587Z"
    }
   },
   "outputs": [
    {
     "data": {
      "image/svg+xml": [
       "<?xml version=\"1.0\" encoding=\"UTF-8\" standalone=\"no\"?><svg xmlns=\"http://www.w3.org/2000/svg\" xmlns:xlink=\"http://www.w3.org/1999/xlink\" contentScriptType=\"application/ecmascript\" contentStyleType=\"text/css\" height=\"385px\" preserveAspectRatio=\"none\" style=\"width:421px;height:385px;\" version=\"1.1\" viewBox=\"0 0 421 385\" width=\"421px\" zoomAndPan=\"magnify\"><defs><filter height=\"300%\" id=\"f1jlvh6464ajmn\" width=\"300%\" x=\"-1\" y=\"-1\"><feGaussianBlur result=\"blurOut\" stdDeviation=\"2.0\"/><feColorMatrix in=\"blurOut\" result=\"blurOut2\" type=\"matrix\" values=\"0 0 0 0 0 0 0 0 0 0 0 0 0 0 0 0 0 0 .4 0\"/><feOffset dx=\"4.0\" dy=\"4.0\" in=\"blurOut2\" result=\"blurOut3\"/><feBlend in=\"SourceGraphic\" in2=\"blurOut3\" mode=\"normal\"/></filter></defs><g><!--MD5=[fbc87193dbaf4d95561dea2c320d4a47]\n",
       "cluster E1--><a href=\"psysml:6e13bc12-600f-4176-9ee3-c77c18f0da6f\" target=\"_top\" title=\"psysml:6e13bc12-600f-4176-9ee3-c77c18f0da6f\" xlink:actuate=\"onRequest\" xlink:href=\"psysml:6e13bc12-600f-4176-9ee3-c77c18f0da6f\" xlink:show=\"new\" xlink:title=\"psysml:6e13bc12-600f-4176-9ee3-c77c18f0da6f\" xlink:type=\"simple\"><polygon fill=\"#FFFFFF\" filter=\"url(#f1jlvh6464ajmn)\" points=\"16,6,134,6,141,28.2969,399,28.2969,399,373,16,373,16,6\" style=\"stroke: #000000; stroke-width: 1.5;\"/><line style=\"stroke: #000000; stroke-width: 1.5;\" x1=\"16\" x2=\"141\" y1=\"28.2969\" y2=\"28.2969\"/><text fill=\"#000000\" font-family=\"sans-serif\" font-size=\"14\" font-weight=\"bold\" lengthAdjust=\"spacingAndGlyphs\" textLength=\"112\" x=\"20\" y=\"20.9951\">VariabilityTest</text></a><!--MD5=[b4997ac47864f28c2f74865a473b2911]\n",
       "class E2--><a href=\"psysml:a47e4883-53c6-48e5-9729-358fb18738b5\" target=\"_top\" title=\"psysml:a47e4883-53c6-48e5-9729-358fb18738b5\" xlink:actuate=\"onRequest\" xlink:href=\"psysml:a47e4883-53c6-48e5-9729-358fb18738b5\" xlink:show=\"new\" xlink:title=\"psysml:a47e4883-53c6-48e5-9729-358fb18738b5\" xlink:type=\"simple\"><rect fill=\"#FEFECE\" filter=\"url(#f1jlvh6464ajmn)\" height=\"52.8047\" id=\"E2\" style=\"stroke: #A80036; stroke-width: 1.5;\" width=\"40\" x=\"192\" y=\"294.5\"/><ellipse cx=\"207\" cy=\"310.5\" fill=\"#008000\" rx=\"11\" ry=\"11\" style=\"stroke: #A80036; stroke-width: 1.0;\"/><path d=\"M205.9063,310.875 L205.9063,314.5469 L207.5313,314.5469 Q208.7031,314.5469 209.1719,314.1563 Q209.6406,313.75 209.6406,312.75 Q209.6406,311.75 209.1406,311.3125 Q208.6563,310.875 207.5313,310.875 L205.9063,310.875 Z M205.9063,306.0469 L205.9063,308.9219 L207.5313,308.9219 Q208.4531,308.9219 208.8438,308.5938 Q209.25,308.25 209.25,307.5 Q209.25,306.7344 208.8438,306.3906 Q208.4375,306.0469 207.5313,306.0469 L205.9063,306.0469 Z M203.5313,304.0938 L207.5313,304.0938 Q209.5938,304.0938 210.6406,304.875 Q211.6875,305.6563 211.6875,307.2188 Q211.6875,308.4219 211.0625,309.0938 Q210.4531,309.7656 209.2656,309.875 Q210.6875,310.0156 211.4063,310.8281 Q212.125,311.6406 212.125,313.0938 Q212.125,314.8906 211.0469,315.7031 Q209.9688,316.5 207.5313,316.5 L203.5313,316.5 L203.5313,304.0938 Z \"/><text fill=\"#000000\" font-family=\"sans-serif\" font-size=\"12\" lengthAdjust=\"spacingAndGlyphs\" textLength=\"8\" x=\"221\" y=\"314.6543\">P</text><line style=\"stroke: #A80036; stroke-width: 1.5;\" x1=\"193\" x2=\"231\" y1=\"326.5\" y2=\"326.5\"/><text fill=\"#000000\" font-family=\"sans-serif\" font-size=\"11\" lengthAdjust=\"spacingAndGlyphs\" textLength=\"7\" x=\"198\" y=\"340.7104\">a</text></a><!--MD5=[09b614a08d8cba4a07c9adeb5e0fee81]\n",
       "class E3--><a href=\"psysml:64152dcd-188c-4285-9d2f-82b4222731ff\" target=\"_top\" title=\"psysml:64152dcd-188c-4285-9d2f-82b4222731ff\" xlink:actuate=\"onRequest\" xlink:href=\"psysml:64152dcd-188c-4285-9d2f-82b4222731ff\" xlink:show=\"new\" xlink:title=\"psysml:64152dcd-188c-4285-9d2f-82b4222731ff\" xlink:type=\"simple\"><rect fill=\"#FEFECE\" filter=\"url(#f1jlvh6464ajmn)\" height=\"40\" id=\"E3\" style=\"stroke: #A80036; stroke-width: 1.5;\" width=\"41\" x=\"163.5\" y=\"158\"/><ellipse cx=\"178.5\" cy=\"174\" fill=\"#008000\" rx=\"11\" ry=\"11\" style=\"stroke: #A80036; stroke-width: 1.0;\"/><path d=\"M177.4063,174.375 L177.4063,178.0469 L179.0313,178.0469 Q180.2031,178.0469 180.6719,177.6563 Q181.1406,177.25 181.1406,176.25 Q181.1406,175.25 180.6406,174.8125 Q180.1563,174.375 179.0313,174.375 L177.4063,174.375 Z M177.4063,169.5469 L177.4063,172.4219 L179.0313,172.4219 Q179.9531,172.4219 180.3438,172.0938 Q180.75,171.75 180.75,171 Q180.75,170.2344 180.3438,169.8906 Q179.9375,169.5469 179.0313,169.5469 L177.4063,169.5469 Z M175.0313,167.5938 L179.0313,167.5938 Q181.0938,167.5938 182.1406,168.375 Q183.1875,169.1563 183.1875,170.7188 Q183.1875,171.9219 182.5625,172.5938 Q181.9531,173.2656 180.7656,173.375 Q182.1875,173.5156 182.9063,174.3281 Q183.625,175.1406 183.625,176.5938 Q183.625,178.3906 182.5469,179.2031 Q181.4688,180 179.0313,180 L175.0313,180 L175.0313,167.5938 Z \"/><text fill=\"#000000\" font-family=\"sans-serif\" font-size=\"12\" lengthAdjust=\"spacingAndGlyphs\" textLength=\"9\" x=\"192.5\" y=\"178.1543\">Q</text><line style=\"stroke: #A80036; stroke-width: 1.5;\" x1=\"164.5\" x2=\"203.5\" y1=\"190\" y2=\"190\"/></a><!--MD5=[ebbe1d658d1005bcc118a6aa81145e00]\n",
       "class E4--><a href=\"psysml:6204c3f0-143a-45cc-ac58-9ea86a3a8ea6\" target=\"_top\" title=\"psysml:6204c3f0-143a-45cc-ac58-9ea86a3a8ea6\" xlink:actuate=\"onRequest\" xlink:href=\"psysml:6204c3f0-143a-45cc-ac58-9ea86a3a8ea6\" xlink:show=\"new\" xlink:title=\"psysml:6204c3f0-143a-45cc-ac58-9ea86a3a8ea6\" xlink:type=\"simple\"><rect fill=\"#FEFECE\" filter=\"url(#f1jlvh6464ajmn)\" height=\"45.9375\" id=\"E4\" style=\"stroke: #A80036; stroke-width: 1.5;\" width=\"121\" x=\"257.5\" y=\"41\"/><ellipse cx=\"272.5\" cy=\"59.9688\" fill=\"#A52A2A\" rx=\"11\" ry=\"11\" style=\"stroke: #A80036; stroke-width: 1.0;\"/><path d=\"M272.0938,55.7813 L272.0938,63.7656 L272.75,63.7656 Q274.1875,63.7656 274.7969,62.8594 Q275.4219,61.9375 275.4219,59.7656 Q275.4219,57.5938 274.7969,56.6875 Q274.1875,55.7813 272.75,55.7813 L272.0938,55.7813 Z M269.6406,53.5781 L272.2656,53.5781 Q275.2969,53.5781 276.625,55.0313 Q277.9688,56.4688 277.9688,59.7656 Q277.9688,63.0625 276.625,64.5156 Q275.2969,65.9688 272.2656,65.9688 L269.6406,65.9688 L269.6406,53.5781 Z \"/><text fill=\"#000000\" font-family=\"sans-serif\" font-size=\"12\" font-style=\"italic\" lengthAdjust=\"spacingAndGlyphs\" textLength=\"93\" x=\"284.5\" y=\"57.1387\">«attribute def»</text><text fill=\"#000000\" font-family=\"sans-serif\" font-size=\"12\" lengthAdjust=\"spacingAndGlyphs\" textLength=\"8\" x=\"327\" y=\"71.1074\">B</text><line style=\"stroke: #A80036; stroke-width: 1.5;\" x1=\"258.5\" x2=\"377.5\" y1=\"78.9375\" y2=\"78.9375\"/></a><!--MD5=[270fce915f116d4de14055a7c1d9a0f3]\n",
       "class E5--><a href=\"psysml:58826ca2-a740-4eaa-a71e-521b590388a3\" target=\"_top\" title=\"psysml:58826ca2-a740-4eaa-a71e-521b590388a3\" xlink:actuate=\"onRequest\" xlink:href=\"psysml:58826ca2-a740-4eaa-a71e-521b590388a3\" xlink:show=\"new\" xlink:title=\"psysml:58826ca2-a740-4eaa-a71e-521b590388a3\" xlink:type=\"simple\"><rect fill=\"#FEFECE\" filter=\"url(#f1jlvh6464ajmn)\" height=\"40\" id=\"E5\" style=\"stroke: #A80036; stroke-width: 1.5;\" width=\"40\" x=\"343\" y=\"158\"/><ellipse cx=\"358\" cy=\"174\" fill=\"#008000\" rx=\"11\" ry=\"11\" style=\"stroke: #A80036; stroke-width: 1.0;\"/><path d=\"M356.9063,174.375 L356.9063,178.0469 L358.5313,178.0469 Q359.7031,178.0469 360.1719,177.6563 Q360.6406,177.25 360.6406,176.25 Q360.6406,175.25 360.1406,174.8125 Q359.6563,174.375 358.5313,174.375 L356.9063,174.375 Z M356.9063,169.5469 L356.9063,172.4219 L358.5313,172.4219 Q359.4531,172.4219 359.8438,172.0938 Q360.25,171.75 360.25,171 Q360.25,170.2344 359.8438,169.8906 Q359.4375,169.5469 358.5313,169.5469 L356.9063,169.5469 Z M354.5313,167.5938 L358.5313,167.5938 Q360.5938,167.5938 361.6406,168.375 Q362.6875,169.1563 362.6875,170.7188 Q362.6875,171.9219 362.0625,172.5938 Q361.4531,173.2656 360.2656,173.375 Q361.6875,173.5156 362.4063,174.3281 Q363.125,175.1406 363.125,176.5938 Q363.125,178.3906 362.0469,179.2031 Q360.9688,180 358.5313,180 L354.5313,180 L354.5313,167.5938 Z \"/><text fill=\"#000000\" font-family=\"sans-serif\" font-size=\"12\" lengthAdjust=\"spacingAndGlyphs\" textLength=\"8\" x=\"372\" y=\"178.1543\">V</text><line style=\"stroke: #A80036; stroke-width: 1.5;\" x1=\"344\" x2=\"382\" y1=\"190\" y2=\"190\"/></a><!--MD5=[60a26617385b1d2d0262a64233df1f8d]\n",
       "class E6--><a href=\"psysml:c2df0e2e-5a66-4a2b-abfc-b3b4dd7dd2c5\" target=\"_top\" title=\"psysml:c2df0e2e-5a66-4a2b-abfc-b3b4dd7dd2c5\" xlink:actuate=\"onRequest\" xlink:href=\"psysml:c2df0e2e-5a66-4a2b-abfc-b3b4dd7dd2c5\" xlink:show=\"new\" xlink:title=\"psysml:c2df0e2e-5a66-4a2b-abfc-b3b4dd7dd2c5\" xlink:type=\"simple\"><rect fill=\"#FEFECE\" filter=\"url(#f1jlvh6464ajmn)\" height=\"71.5469\" id=\"E6\" rx=\"10\" ry=\"10\" style=\"stroke: #A80036; stroke-width: 1.5;\" width=\"68\" x=\"287\" y=\"285\"/><ellipse cx=\"302\" cy=\"303.9688\" fill=\"#32CD32\" rx=\"11\" ry=\"11\" style=\"stroke: #A80036; stroke-width: 1.0;\"/><path d=\"M301.7969,299.6406 L301.7969,303.2656 L302.7969,303.2656 Q304,303.2656 304.4844,302.8594 Q304.9688,302.4531 304.9688,301.4531 Q304.9688,300.4531 304.4844,300.0469 Q304,299.6406 302.7969,299.6406 L301.7969,299.6406 Z M299.3438,297.5781 L302.7031,297.5781 Q305.2656,297.5781 306.3906,298.5 Q307.5156,299.4063 307.5156,301.4531 Q307.5156,303.5 306.3906,304.4219 Q305.2656,305.3281 302.7031,305.3281 L301.7969,305.3281 L301.7969,309.9688 L299.3438,309.9688 L299.3438,297.5781 Z \"/><text fill=\"#000000\" font-family=\"sans-serif\" font-size=\"12\" font-style=\"italic\" lengthAdjust=\"spacingAndGlyphs\" textLength=\"40\" x=\"314\" y=\"301.1387\">«part»</text><text fill=\"#000000\" font-family=\"sans-serif\" font-size=\"12\" lengthAdjust=\"spacingAndGlyphs\" textLength=\"23\" x=\"322.5\" y=\"315.1074\">x: Q</text><line style=\"stroke: #A80036; stroke-width: 1.5;\" x1=\"288\" x2=\"354\" y1=\"322.9375\" y2=\"322.9375\"/><text fill=\"#000000\" font-family=\"sans-serif\" font-size=\"11\" lengthAdjust=\"spacingAndGlyphs\" textLength=\"23\" x=\"293\" y=\"337.1479\">b: B</text><text fill=\"#000000\" font-family=\"sans-serif\" font-size=\"11\" font-style=\"italic\" lengthAdjust=\"spacingAndGlyphs\" textLength=\"44\" x=\"293\" y=\"349.9526\">:&gt;&gt;P::a</text></a><!--MD5=[2156ba9850f5573cc1fc38a6a4b2f02b]\n",
       "class E7--><a href=\"psysml:d5aa7800-4c4d-4a74-9f82-8c5d7377a367\" target=\"_top\" title=\"psysml:d5aa7800-4c4d-4a74-9f82-8c5d7377a367\" xlink:actuate=\"onRequest\" xlink:href=\"psysml:d5aa7800-4c4d-4a74-9f82-8c5d7377a367\" xlink:show=\"new\" xlink:title=\"psysml:d5aa7800-4c4d-4a74-9f82-8c5d7377a367\" xlink:type=\"simple\"><rect fill=\"#FEFECE\" filter=\"url(#f1jlvh6464ajmn)\" height=\"45.9375\" id=\"E7\" rx=\"10\" ry=\"10\" style=\"stroke: #A80036; stroke-width: 1.5;\" width=\"68\" x=\"150\" y=\"41\"/><ellipse cx=\"165\" cy=\"59.9688\" fill=\"#32CD32\" rx=\"11\" ry=\"11\" style=\"stroke: #A80036; stroke-width: 1.0;\"/><path d=\"M164.7969,55.6406 L164.7969,59.2656 L165.7969,59.2656 Q167,59.2656 167.4844,58.8594 Q167.9688,58.4531 167.9688,57.4531 Q167.9688,56.4531 167.4844,56.0469 Q167,55.6406 165.7969,55.6406 L164.7969,55.6406 Z M162.3438,53.5781 L165.7031,53.5781 Q168.2656,53.5781 169.3906,54.5 Q170.5156,55.4063 170.5156,57.4531 Q170.5156,59.5 169.3906,60.4219 Q168.2656,61.3281 165.7031,61.3281 L164.7969,61.3281 L164.7969,65.9688 L162.3438,65.9688 L162.3438,53.5781 Z \"/><text fill=\"#000000\" font-family=\"sans-serif\" font-size=\"12\" font-style=\"italic\" lengthAdjust=\"spacingAndGlyphs\" textLength=\"40\" x=\"177\" y=\"57.1387\">«part»</text><text fill=\"#000000\" font-family=\"sans-serif\" font-size=\"12\" lengthAdjust=\"spacingAndGlyphs\" textLength=\"25\" x=\"184.5\" y=\"71.1074\">q: Q</text><line style=\"stroke: #A80036; stroke-width: 1.5;\" x1=\"151\" x2=\"217\" y1=\"78.9375\" y2=\"78.9375\"/></a><!--MD5=[b9389687b975829384b498ac4b7476b2]\n",
       "class E8--><a href=\"psysml:d7b3804f-80e3-4381-979e-bf8e2501fba8\" target=\"_top\" title=\"psysml:d7b3804f-80e3-4381-979e-bf8e2501fba8\" xlink:actuate=\"onRequest\" xlink:href=\"psysml:d7b3804f-80e3-4381-979e-bf8e2501fba8\" xlink:show=\"new\" xlink:title=\"psysml:d7b3804f-80e3-4381-979e-bf8e2501fba8\" xlink:type=\"simple\"><rect fill=\"#FEFECE\" filter=\"url(#f1jlvh6464ajmn)\" height=\"59.9063\" id=\"E8\" rx=\"10\" ry=\"10\" style=\"stroke: #A80036; stroke-width: 1.5;\" width=\"96\" x=\"32\" y=\"148\"/><ellipse cx=\"47\" cy=\"173.9531\" fill=\"#32CD32\" rx=\"11\" ry=\"11\" style=\"stroke: #A80036; stroke-width: 1.0;\"/><path d=\"M46.7969,169.625 L46.7969,173.25 L47.7969,173.25 Q49,173.25 49.4844,172.8438 Q49.9688,172.4375 49.9688,171.4375 Q49.9688,170.4375 49.4844,170.0313 Q49,169.625 47.7969,169.625 L46.7969,169.625 Z M44.3438,167.5625 L47.7031,167.5625 Q50.2656,167.5625 51.3906,168.4844 Q52.5156,169.3906 52.5156,171.4375 Q52.5156,173.4844 51.3906,174.4063 Q50.2656,175.3125 47.7031,175.3125 L46.7969,175.3125 L46.7969,179.9531 L44.3438,179.9531 L44.3438,167.5625 Z \"/><text fill=\"#000000\" font-family=\"sans-serif\" font-size=\"12\" font-style=\"italic\" lengthAdjust=\"spacingAndGlyphs\" textLength=\"68\" x=\"59\" y=\"164.1387\">«variation»</text><text fill=\"#000000\" font-family=\"sans-serif\" font-size=\"12\" font-style=\"italic\" lengthAdjust=\"spacingAndGlyphs\" textLength=\"40\" x=\"73\" y=\"178.1074\">«part»</text><text fill=\"#000000\" font-family=\"sans-serif\" font-size=\"12\" lengthAdjust=\"spacingAndGlyphs\" textLength=\"22\" x=\"82\" y=\"192.0762\">v: P</text><line style=\"stroke: #A80036; stroke-width: 1.5;\" x1=\"33\" x2=\"127\" y1=\"199.9063\" y2=\"199.9063\"/></a><!--MD5=[fd4143e9d270a159db93a4ea2a975926]\n",
       "class E9--><a href=\"psysml:aeeab6cc-3339-44ed-a45c-f65a5d97c376\" target=\"_top\" title=\"psysml:aeeab6cc-3339-44ed-a45c-f65a5d97c376\" xlink:actuate=\"onRequest\" xlink:href=\"psysml:aeeab6cc-3339-44ed-a45c-f65a5d97c376\" xlink:show=\"new\" xlink:title=\"psysml:aeeab6cc-3339-44ed-a45c-f65a5d97c376\" xlink:type=\"simple\"><rect fill=\"#FEFECE\" filter=\"url(#f1jlvh6464ajmn)\" height=\"71.5469\" id=\"E9\" rx=\"10\" ry=\"10\" style=\"stroke: #A80036; stroke-width: 1.5;\" width=\"103\" x=\"32.5\" y=\"285\"/><ellipse cx=\"47.5\" cy=\"303.9688\" fill=\"#FFA500\" rx=\"11\" ry=\"11\" style=\"stroke: #A80036; stroke-width: 1.0;\"/><path d=\"M43.375,305.8906 L43.375,298.0781 L45.8281,298.0781 L45.8281,306.5156 Q45.8281,307.4375 46.2969,307.9688 Q46.7813,308.5 47.6094,308.5 Q48.4531,308.5 48.9219,307.9688 Q49.3906,307.4375 49.3906,306.5156 L49.3906,298.0781 L51.8438,298.0781 L51.8438,305.8906 Q51.8438,308.4219 50.8438,309.5625 Q49.8438,310.7031 47.6094,310.7031 Q45.3906,310.7031 44.375,309.5625 Q43.375,308.4219 43.375,305.8906 Z \"/><text fill=\"#000000\" font-family=\"sans-serif\" font-size=\"12\" font-style=\"italic\" lengthAdjust=\"spacingAndGlyphs\" textLength=\"75\" x=\"59.5\" y=\"301.1387\">«reference»</text><text fill=\"#000000\" font-family=\"sans-serif\" font-size=\"12\" lengthAdjust=\"spacingAndGlyphs\" textLength=\"8\" x=\"93\" y=\"315.1074\">q</text><line style=\"stroke: #A80036; stroke-width: 1.5;\" x1=\"33.5\" x2=\"134.5\" y1=\"322.9375\" y2=\"322.9375\"/><text fill=\"#000000\" font-family=\"sans-serif\" font-size=\"11\" lengthAdjust=\"spacingAndGlyphs\" textLength=\"23\" x=\"38.5\" y=\"337.1479\">b: B</text><text fill=\"#000000\" font-family=\"sans-serif\" font-size=\"11\" font-style=\"italic\" lengthAdjust=\"spacingAndGlyphs\" textLength=\"44\" x=\"38.5\" y=\"349.9526\">:&gt;&gt;P::a</text></a><!--MD5=[96f4274e9e20536e775497830990834d]\n",
       "class E10--><a href=\"psysml:fe63b1e8-840a-4f2e-b06a-2ce986f19d03\" target=\"_top\" title=\"psysml:fe63b1e8-840a-4f2e-b06a-2ce986f19d03\" xlink:actuate=\"onRequest\" xlink:href=\"psysml:fe63b1e8-840a-4f2e-b06a-2ce986f19d03\" xlink:show=\"new\" xlink:title=\"psysml:fe63b1e8-840a-4f2e-b06a-2ce986f19d03\" xlink:type=\"simple\"><rect fill=\"#FEFECE\" filter=\"url(#f1jlvh6464ajmn)\" height=\"45.9375\" id=\"E10\" rx=\"10\" ry=\"10\" style=\"stroke: #A80036; stroke-width: 1.5;\" width=\"68\" x=\"240\" y=\"155\"/><ellipse cx=\"255\" cy=\"173.9688\" fill=\"#32CD32\" rx=\"11\" ry=\"11\" style=\"stroke: #A80036; stroke-width: 1.0;\"/><path d=\"M254.7969,169.6406 L254.7969,173.2656 L255.7969,173.2656 Q257,173.2656 257.4844,172.8594 Q257.9688,172.4531 257.9688,171.4531 Q257.9688,170.4531 257.4844,170.0469 Q257,169.6406 255.7969,169.6406 L254.7969,169.6406 Z M252.3438,167.5781 L255.7031,167.5781 Q258.2656,167.5781 259.3906,168.5 Q260.5156,169.4063 260.5156,171.4531 Q260.5156,173.5 259.3906,174.4219 Q258.2656,175.3281 255.7031,175.3281 L254.7969,175.3281 L254.7969,179.9688 L252.3438,179.9688 L252.3438,167.5781 Z \"/><text fill=\"#000000\" font-family=\"sans-serif\" font-size=\"12\" font-style=\"italic\" lengthAdjust=\"spacingAndGlyphs\" textLength=\"40\" x=\"267\" y=\"171.1387\">«part»</text><text fill=\"#000000\" font-family=\"sans-serif\" font-size=\"12\" lengthAdjust=\"spacingAndGlyphs\" textLength=\"22\" x=\"276\" y=\"185.1074\">y: P</text><line style=\"stroke: #A80036; stroke-width: 1.5;\" x1=\"241\" x2=\"307\" y1=\"192.9375\" y2=\"192.9375\"/></a><!--MD5=[05d275557350bfb9b23a4ef7222b4c39]\n",
       "link E3 to E2--><a href=\"psysml:6495a820-e8c0-4129-af26-6722c3b7b9e6\" target=\"_top\" title=\"psysml:6495a820-e8c0-4129-af26-6722c3b7b9e6\" xlink:actuate=\"onRequest\" xlink:href=\"psysml:6495a820-e8c0-4129-af26-6722c3b7b9e6\" xlink:show=\"new\" xlink:title=\"psysml:6495a820-e8c0-4129-af26-6722c3b7b9e6\" xlink:type=\"simple\"><path d=\"M187.78,198.02 C191.66,217.55 197.84,248.68 202.99,274.61 \" fill=\"none\" id=\"E3-&gt;E2\" style=\"stroke: #A80036; stroke-width: 1.0;\"/><polygon fill=\"none\" points=\"209.88,273.39,206.91,294.37,196.15,276.12,209.88,273.39\" style=\"stroke: #A80036; stroke-width: 1.0;\"/></a><!--MD5=[15ebcb19ae302d9b601edb458606d402]\n",
       "link E5 to E2--><a href=\"psysml:bd00e4e7-d183-497a-b9f8-56660fc51e3e\" target=\"_top\" title=\"psysml:bd00e4e7-d183-497a-b9f8-56660fc51e3e\" xlink:actuate=\"onRequest\" xlink:href=\"psysml:bd00e4e7-d183-497a-b9f8-56660fc51e3e\" xlink:show=\"new\" xlink:title=\"psysml:bd00e4e7-d183-497a-b9f8-56660fc51e3e\" xlink:type=\"simple\"><path d=\"M342.95,197.72 C318.47,220.58 276.65,259.63 246.86,287.45 \" fill=\"none\" id=\"E5-&gt;E2\" style=\"stroke: #A80036; stroke-width: 1.0;\"/><polygon fill=\"none\" points=\"251.53,292.67,232.13,301.2,241.98,282.43,251.53,292.67\" style=\"stroke: #A80036; stroke-width: 1.0;\"/></a><!--MD5=[9120cf2e5df3bff93db8f754bbbc09b4]\n",
       "link E5 to E6--><a href=\"psysml:3ec706da-d65f-4ef5-8a1f-1e1b5df7e7c6\" target=\"_top\" title=\"psysml:3ec706da-d65f-4ef5-8a1f-1e1b5df7e7c6\" xlink:actuate=\"onRequest\" xlink:href=\"psysml:3ec706da-d65f-4ef5-8a1f-1e1b5df7e7c6\" xlink:show=\"new\" xlink:title=\"psysml:3ec706da-d65f-4ef5-8a1f-1e1b5df7e7c6\" xlink:type=\"simple\"><path d=\"M354.4,207.89 C348.64,227.2 340.95,253.01 334.41,274.99 \" fill=\"none\" id=\"E5-E6\" style=\"stroke: #A80036; stroke-width: 1.0;\"/><polygon fill=\"#A80036\" points=\"331.49,284.79,336.6502,277.9802,330.9001,276.2664,331.49,284.79\" style=\"stroke: #A80036; stroke-width: 1.0;\"/><path d=\"M348.3559,198.5542 A9,9 0 0 0 364.5656 203.3857\" fill=\"none\" style=\"stroke: #A80036; stroke-width: 1.5;\"/><text fill=\"#000000\" font-family=\"sans-serif\" font-size=\"13\" lengthAdjust=\"spacingAndGlyphs\" textLength=\"60\" x=\"345\" y=\"251.0669\">«variant»</text></a><!--MD5=[14ccda38c055a5c0da953d572bc50960]\n",
       "link E7 to E3--><a href=\"psysml:9cf32953-475b-4011-b1f8-e7f09d5ce449\" target=\"_top\" title=\"psysml:9cf32953-475b-4011-b1f8-e7f09d5ce449\" xlink:actuate=\"onRequest\" xlink:href=\"psysml:9cf32953-475b-4011-b1f8-e7f09d5ce449\" xlink:show=\"new\" xlink:title=\"psysml:9cf32953-475b-4011-b1f8-e7f09d5ce449\" xlink:type=\"simple\"><path d=\"M184,87.13 C184,101.57 184,120.83 184,137.81 \" fill=\"none\" id=\"E7-&gt;E3\" style=\"stroke: #A80036; stroke-width: 1.0;\"/><polygon fill=\"#FFFFFF\" points=\"184,157.9,177,138.9,191,138.9,184,157.9\" style=\"stroke: #A80036; stroke-width: 1.0;\"/><ellipse cx=\"179\" cy=\"133.2\" fill=\"#A80036\" rx=\"2\" ry=\"2\" style=\"stroke: #A80036; stroke-width: 1.0;\"/><ellipse cx=\"189\" cy=\"133.2\" fill=\"#A80036\" rx=\"2\" ry=\"2\" style=\"stroke: #A80036; stroke-width: 1.0;\"/></a><!--MD5=[f1f3f9f2fc535e6147756cb86a7f2e32]\n",
       "link E8 to E2--><a href=\"psysml:d1a9bfbc-b159-49c1-a5ca-956a4881ee49\" target=\"_top\" title=\"psysml:d1a9bfbc-b159-49c1-a5ca-956a4881ee49\" xlink:actuate=\"onRequest\" xlink:href=\"psysml:d1a9bfbc-b159-49c1-a5ca-956a4881ee49\" xlink:show=\"new\" xlink:title=\"psysml:d1a9bfbc-b159-49c1-a5ca-956a4881ee49\" xlink:type=\"simple\"><path d=\"M119.32,208.23 C130.4,217.24 142.11,227.55 152,238 C163.47,250.11 174.65,264.47 184.19,277.75 \" fill=\"none\" id=\"E8-&gt;E2\" style=\"stroke: #A80036; stroke-width: 1.0;\"/><polygon fill=\"#FFFFFF\" points=\"195.68,294.32,179.1086,282.6843,190.6186,274.7143,195.68,294.32\" style=\"stroke: #A80036; stroke-width: 1.0;\"/><ellipse cx=\"177.508\" cy=\"276.8595\" fill=\"#A80036\" rx=\"2\" ry=\"2\" style=\"stroke: #A80036; stroke-width: 1.0;\"/><ellipse cx=\"185.7294\" cy=\"271.1667\" fill=\"#A80036\" rx=\"2\" ry=\"2\" style=\"stroke: #A80036; stroke-width: 1.0;\"/></a><!--MD5=[ed10624c06dd9a4fa49ccf290e8b16a8]\n",
       "link E8 to E9--><a href=\"psysml:4574f674-7c12-4143-bfb7-6a6844a72e64\" target=\"_top\" title=\"psysml:4574f674-7c12-4143-bfb7-6a6844a72e64\" xlink:actuate=\"onRequest\" xlink:href=\"psysml:4574f674-7c12-4143-bfb7-6a6844a72e64\" xlink:show=\"new\" xlink:title=\"psysml:4574f674-7c12-4143-bfb7-6a6844a72e64\" xlink:type=\"simple\"><path d=\"M81.12,218.35 C81.61,235.87 82.2,256.61 82.72,274.77 \" fill=\"none\" id=\"E8-E9\" style=\"stroke: #A80036; stroke-width: 1.0;\"/><polygon fill=\"#A80036\" points=\"83,284.83,85.7703,276.7476,79.7727,276.9189,83,284.83\" style=\"stroke: #A80036; stroke-width: 1.0;\"/><path d=\"M72.4641,211.5385 A9,9 0 0 0 89.3717 211.0554\" fill=\"none\" style=\"stroke: #A80036; stroke-width: 1.5;\"/><text fill=\"#000000\" font-family=\"sans-serif\" font-size=\"13\" lengthAdjust=\"spacingAndGlyphs\" textLength=\"60\" x=\"83\" y=\"251.0669\">«variant»</text></a><!--MD5=[0f36bececdf0dff6e600d6f64214b0f1]\n",
       "link E10 to E2--><a href=\"psysml:bd829215-07d4-45cb-8fe9-60748d4dd682\" target=\"_top\" title=\"psysml:bd829215-07d4-45cb-8fe9-60748d4dd682\" xlink:actuate=\"onRequest\" xlink:href=\"psysml:bd829215-07d4-45cb-8fe9-60748d4dd682\" xlink:show=\"new\" xlink:title=\"psysml:bd829215-07d4-45cb-8fe9-60748d4dd682\" xlink:type=\"simple\"><path d=\"M264.31,201.03 C255.55,220.95 242.39,250.89 231.46,275.74 \" fill=\"none\" id=\"E10-&gt;E2\" style=\"stroke: #A80036; stroke-width: 1.0;\"/><polygon fill=\"#FFFFFF\" points=\"223.3,294.3,224.5306,274.089,237.3489,279.7183,223.3,294.3\" style=\"stroke: #A80036; stroke-width: 1.0;\"/><ellipse cx=\"228.6537\" cy=\"269.6742\" fill=\"#A80036\" rx=\"2\" ry=\"2\" style=\"stroke: #A80036; stroke-width: 1.0;\"/><ellipse cx=\"237.8097\" cy=\"273.6952\" fill=\"#A80036\" rx=\"2\" ry=\"2\" style=\"stroke: #A80036; stroke-width: 1.0;\"/></a><!--MD5=[b987ca02f01165333bb65d7ee1b84ee3]\n",
       "@startuml\r\n",
       " \r\n",
       "package \"VariabilityTest\" as E1  [[psysml:6e13bc12-600f-4176-9ee3-c77c18f0da6f ]]  {\r\n",
       "comp def \"P\" as E2 << << (B,green) >> [[psysml:a47e4883-53c6-48e5-9729-358fb18738b5 ]] {\r\n",
       "a\r\n",
       "}\r\n",
       "comp def \"Q\" as E3 << << (B,green) >> [[psysml:64152dcd-188c-4285-9d2f-82b4222731ff ]] {\r\n",
       "}\r\n",
       "comp def \"B\" as E4 << <<(D,brown) attribute def>> [[psysml:6204c3f0-143a-45cc-ac58-9ea86a3a8ea6 ]] {\r\n",
       "}\r\n",
       "comp def \"V\" as E5 << << (B,green) >> [[psysml:58826ca2-a740-4eaa-a71e-521b590388a3 ]] {\r\n",
       "}\r\n",
       "comp usage \"x: Q\" as E6 << << (P,limegreen) part>> [[psysml:c2df0e2e-5a66-4a2b-abfc-b3b4dd7dd2c5 ]] {\r\n",
       "b: B\\n//:>>P::a// \r\n",
       "}\r\n",
       "comp usage \"q: Q\" as E7 << << (P,limegreen) part>> [[psysml:d5aa7800-4c4d-4a74-9f82-8c5d7377a367 ]] {\r\n",
       "}\r\n",
       "comp usage \"v: P\" as E8  <<variation>>\\n<< << (P,limegreen) part>> [[psysml:d7b3804f-80e3-4381-979e-bf8e2501fba8 ]] {\r\n",
       "}\r\n",
       "comp usage \"q\" as E9 << <<(U,orange) reference>> [[psysml:aeeab6cc-3339-44ed-a45c-f65a5d97c376 ]] {\r\n",
       "b: B\\n//:>>P::a// \r\n",
       "}\r\n",
       "comp usage \"y: P\" as E10 << << (P,limegreen) part>> [[psysml:fe63b1e8-840a-4f2e-b06a-2ce986f19d03 ]] {\r\n",
       "}\r\n",
       "E3 - -|> E2 [[psysml:6495a820-e8c0-4129-af26-6722c3b7b9e6 ]] \r\n",
       "E5 - -|> E2 [[psysml:bd00e4e7-d183-497a-b9f8-56660fc51e3e ]] \r\n",
       "E5 )- ->> E6 [[psysml:3ec706da-d65f-4ef5-8a1f-1e1b5df7e7c6 ]] : <<variant>>\r\n",
       "E7 - -:|> E3 [[psysml:9cf32953-475b-4011-b1f8-e7f09d5ce449 ]] \r\n",
       "E8 - -:|> E2 [[psysml:d1a9bfbc-b159-49c1-a5ca-956a4881ee49 ]] \r\n",
       "E8 )- ->> E9 [[psysml:4574f674-7c12-4143-bfb7-6a6844a72e64 ]] : <<variant>>\r\n",
       "E10 - -:|> E2 [[psysml:bd829215-07d4-45cb-8fe9-60748d4dd682 ]] \r\n",
       "}\r\n",
       "@enduml\r\n",
       "\n",
       "PlantUML version 1.2020.13(Sat Jun 13 12:26:38 UTC 2020)\n",
       "(EPL source distribution)\n",
       "Java Runtime: OpenJDK Runtime Environment\n",
       "JVM: OpenJDK 64-Bit Server VM\n",
       "Default Encoding: UTF-8\n",
       "Language: en\n",
       "Country: null\n",
       "--></g></svg>"
      ]
     },
     "execution_count": 31,
     "metadata": {},
     "output_type": "execute_result"
    }
   ],
   "source": [
    "%viz --style=\"PLANTUML\" --view=\"Tree\" \"VariabilityTest\""
   ]
  },
  {
   "cell_type": "code",
   "execution_count": 32,
   "id": "1a225005",
   "metadata": {
    "execution": {
     "iopub.execute_input": "2021-08-04T06:26:50.559559Z",
     "iopub.status.busy": "2021-08-04T06:26:50.559163Z",
     "iopub.status.idle": "2021-08-04T06:26:50.633203Z",
     "shell.execute_reply": "2021-08-04T06:26:50.632079Z"
    }
   },
   "outputs": [
    {
     "data": {
      "image/svg+xml": [
       "<?xml version=\"1.0\" encoding=\"UTF-8\" standalone=\"no\"?><svg xmlns=\"http://www.w3.org/2000/svg\" xmlns:xlink=\"http://www.w3.org/1999/xlink\" contentScriptType=\"application/ecmascript\" contentStyleType=\"text/css\" height=\"303px\" preserveAspectRatio=\"none\" style=\"width:603px;height:303px;background:#000000;\" version=\"1.1\" viewBox=\"0 0 603 303\" width=\"603px\" zoomAndPan=\"magnify\"><defs/><g><rect fill=\"#10100A\" height=\"1\" style=\"stroke: #10100A; stroke-width: 1.0;\" width=\"1\" x=\"0\" y=\"0\"/><rect fill=\"#FFFFFF\" height=\"205.5625\" style=\"stroke: #FFFFFF; stroke-width: 1.0;\" width=\"602\" x=\"0\" y=\"0\"/><text fill=\"#000000\" font-family=\"sans-serif\" font-size=\"12\" font-weight=\"bold\" lengthAdjust=\"spacingAndGlyphs\" textLength=\"159\" x=\"5\" y=\"16.1387\">Welcome to PlantUML!</text><text fill=\"#000000\" font-family=\"sans-serif\" font-size=\"12\" lengthAdjust=\"spacingAndGlyphs\" textLength=\"0\" x=\"9\" y=\"30.1074\"/><text fill=\"#000000\" font-family=\"sans-serif\" font-size=\"12\" lengthAdjust=\"spacingAndGlyphs\" textLength=\"293\" x=\"5\" y=\"44.0762\">If you use this software, you accept its license.</text><text fill=\"#000000\" font-family=\"sans-serif\" font-size=\"12\" lengthAdjust=\"spacingAndGlyphs\" textLength=\"107\" x=\"5\" y=\"58.0449\">(details by typing</text><text fill=\"#000000\" font-family=\"monospace\" font-size=\"12\" lengthAdjust=\"spacingAndGlyphs\" textLength=\"49\" x=\"116\" y=\"58.0449\">license</text><text fill=\"#000000\" font-family=\"sans-serif\" font-size=\"12\" lengthAdjust=\"spacingAndGlyphs\" textLength=\"56\" x=\"169\" y=\"58.0449\">keyword)</text><text fill=\"#000000\" font-family=\"sans-serif\" font-size=\"12\" lengthAdjust=\"spacingAndGlyphs\" textLength=\"0\" x=\"9\" y=\"72.0137\"/><text fill=\"#000000\" font-family=\"sans-serif\" font-size=\"12\" lengthAdjust=\"spacingAndGlyphs\" textLength=\"283\" x=\"5\" y=\"85.9824\">You can start with a simple UML Diagram like:</text><text fill=\"#000000\" font-family=\"sans-serif\" font-size=\"12\" lengthAdjust=\"spacingAndGlyphs\" textLength=\"0\" x=\"9\" y=\"99.9512\"/><text fill=\"#000000\" font-family=\"monospace\" font-size=\"12\" lengthAdjust=\"spacingAndGlyphs\" textLength=\"119\" x=\"5\" y=\"113.9199\">Bob-&gt;Alice: Hello</text><text fill=\"#000000\" font-family=\"sans-serif\" font-size=\"12\" lengthAdjust=\"spacingAndGlyphs\" textLength=\"0\" x=\"9\" y=\"127.8887\"/><text fill=\"#000000\" font-family=\"sans-serif\" font-size=\"12\" lengthAdjust=\"spacingAndGlyphs\" textLength=\"14\" x=\"5\" y=\"141.8574\">Or</text><text fill=\"#000000\" font-family=\"sans-serif\" font-size=\"12\" lengthAdjust=\"spacingAndGlyphs\" textLength=\"0\" x=\"9\" y=\"155.8262\"/><text fill=\"#000000\" font-family=\"monospace\" font-size=\"12\" lengthAdjust=\"spacingAndGlyphs\" textLength=\"91\" x=\"5\" y=\"169.7949\">class Example</text><text fill=\"#000000\" font-family=\"sans-serif\" font-size=\"12\" lengthAdjust=\"spacingAndGlyphs\" textLength=\"0\" x=\"9\" y=\"183.7637\"/><text fill=\"#000000\" font-family=\"sans-serif\" font-size=\"12\" lengthAdjust=\"spacingAndGlyphs\" textLength=\"349\" x=\"5\" y=\"197.7324\">You will find more information about PlantUML syntax on</text><text fill=\"#000000\" font-family=\"sans-serif\" font-size=\"12\" lengthAdjust=\"spacingAndGlyphs\" text-decoration=\"underline\" textLength=\"129\" x=\"358\" y=\"197.7324\">https://plantuml.com</text><image height=\"71\" width=\"80\" x=\"516\" xlink:href=\"data:image/png;base64,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\" y=\"6\"/><rect fill=\"#000000\" height=\"96.4844\" style=\"stroke: #000000; stroke-width: 1.0;\" width=\"602\" x=\"0\" y=\"205.5625\"/><rect fill=\"#33FF02\" height=\"21.2969\" style=\"stroke: #33FF02; stroke-width: 1.0;\" width=\"170\" x=\"5\" y=\"210.5625\"/><text fill=\"#000000\" font-family=\"sans-serif\" font-size=\"14\" font-weight=\"bold\" lengthAdjust=\"spacingAndGlyphs\" textLength=\"168\" x=\"6\" y=\"225.5625\">[From string (line 2) ]</text><text fill=\"#33FF02\" font-family=\"sans-serif\" font-size=\"14\" font-weight=\"bold\" lengthAdjust=\"spacingAndGlyphs\" textLength=\"0\" x=\"10\" y=\"245.8594\"/><text fill=\"#33FF02\" font-family=\"sans-serif\" font-size=\"14\" font-weight=\"bold\" lengthAdjust=\"spacingAndGlyphs\" textLength=\"79\" x=\"5\" y=\"262.1563\">@startuml</text><text fill=\"#33FF02\" font-family=\"sans-serif\" font-size=\"14\" font-weight=\"bold\" lengthAdjust=\"spacingAndGlyphs\" textLength=\"0\" x=\"10\" y=\"278.4531\"/><text fill=\"#FF0000\" font-family=\"sans-serif\" font-size=\"14\" font-weight=\"bold\" lengthAdjust=\"spacingAndGlyphs\" textLength=\"142\" x=\"10\" y=\"294.75\">Empty description</text><!--MD5=[f59edd8218d337f74d0c332fc6737304]\n",
       "@startuml\r\n",
       " \r\n",
       "@enduml\r\n",
       "\n",
       "PlantUML version 1.2020.13(Sat Jun 13 12:26:38 UTC 2020)\n",
       "(EPL source distribution)\n",
       "Java Runtime: OpenJDK Runtime Environment\n",
       "JVM: OpenJDK 64-Bit Server VM\n",
       "Default Encoding: UTF-8\n",
       "Language: en\n",
       "Country: null\n",
       "--></g></svg>"
      ]
     },
     "execution_count": 32,
     "metadata": {},
     "output_type": "execute_result"
    }
   ],
   "source": [
    "%viz --style=\"PLANTUML\" --view=\"State\" \"VariabilityTest\""
   ]
  },
  {
   "cell_type": "code",
   "execution_count": 33,
   "id": "1c79dffd",
   "metadata": {
    "execution": {
     "iopub.execute_input": "2021-08-04T06:26:50.682856Z",
     "iopub.status.busy": "2021-08-04T06:26:50.682459Z",
     "iopub.status.idle": "2021-08-04T06:26:50.720451Z",
     "shell.execute_reply": "2021-08-04T06:26:50.719150Z"
    }
   },
   "outputs": [
    {
     "data": {
      "image/svg+xml": [
       "<?xml version=\"1.0\" encoding=\"UTF-8\" standalone=\"no\"?><svg xmlns=\"http://www.w3.org/2000/svg\" xmlns:xlink=\"http://www.w3.org/1999/xlink\" contentScriptType=\"application/ecmascript\" contentStyleType=\"text/css\" height=\"387px\" preserveAspectRatio=\"none\" style=\"width:843px;height:387px;\" version=\"1.1\" viewBox=\"0 0 843 387\" width=\"843px\" zoomAndPan=\"magnify\"><defs><filter height=\"300%\" id=\"fcjwjpbij3ncy\" width=\"300%\" x=\"-1\" y=\"-1\"><feGaussianBlur result=\"blurOut\" stdDeviation=\"2.0\"/><feColorMatrix in=\"blurOut\" result=\"blurOut2\" type=\"matrix\" values=\"0 0 0 0 0 0 0 0 0 0 0 0 0 0 0 0 0 0 .4 0\"/><feOffset dx=\"4.0\" dy=\"4.0\" in=\"blurOut2\" result=\"blurOut3\"/><feBlend in=\"SourceGraphic\" in2=\"blurOut3\" mode=\"normal\"/></filter></defs><g><!--MD5=[fbc87193dbaf4d95561dea2c320d4a47]\n",
       "cluster E1--><a href=\"psysml:6e13bc12-600f-4176-9ee3-c77c18f0da6f\" target=\"_top\" title=\"psysml:6e13bc12-600f-4176-9ee3-c77c18f0da6f\" xlink:actuate=\"onRequest\" xlink:href=\"psysml:6e13bc12-600f-4176-9ee3-c77c18f0da6f\" xlink:show=\"new\" xlink:title=\"psysml:6e13bc12-600f-4176-9ee3-c77c18f0da6f\" xlink:type=\"simple\"><polygon fill=\"#FFFFFF\" filter=\"url(#fcjwjpbij3ncy)\" points=\"16,6,134,6,141,28.2969,821,28.2969,821,375,16,375,16,6\" style=\"stroke: #000000; stroke-width: 1.5;\"/><line style=\"stroke: #000000; stroke-width: 1.5;\" x1=\"16\" x2=\"141\" y1=\"28.2969\" y2=\"28.2969\"/><text fill=\"#000000\" font-family=\"sans-serif\" font-size=\"14\" font-weight=\"bold\" lengthAdjust=\"spacingAndGlyphs\" textLength=\"112\" x=\"20\" y=\"20.9951\">VariabilityTest</text></a><!--MD5=[e4f7fae6ed58524ba242bb0b0d3be6b7]\n",
       "cluster E2--><a href=\"psysml:a47e4883-53c6-48e5-9729-358fb18738b5\" target=\"_top\" title=\"psysml:a47e4883-53c6-48e5-9729-358fb18738b5\" xlink:actuate=\"onRequest\" xlink:href=\"psysml:a47e4883-53c6-48e5-9729-358fb18738b5\" xlink:show=\"new\" xlink:title=\"psysml:a47e4883-53c6-48e5-9729-358fb18738b5\" xlink:type=\"simple\"><rect fill=\"#FFFFFF\" filter=\"url(#fcjwjpbij3ncy)\" height=\"113\" id=\"E2\" style=\"stroke: #A80036; stroke-width: 1.5;\" width=\"164\" x=\"455\" y=\"230\"/><rect fill=\"#FEFECE\" height=\"23.9688\" style=\"stroke: #A80036; stroke-width: 1.5;\" width=\"164\" x=\"455\" y=\"230\"/><text fill=\"#000000\" font-family=\"sans-serif\" font-size=\"12\" lengthAdjust=\"spacingAndGlyphs\" textLength=\"8\" x=\"533\" y=\"246.1387\">P</text></a><!--MD5=[14e3b0961a2654348d326746436168a1]\n",
       "cluster E6--><a href=\"psysml:58826ca2-a740-4eaa-a71e-521b590388a3\" target=\"_top\" title=\"psysml:58826ca2-a740-4eaa-a71e-521b590388a3\" xlink:actuate=\"onRequest\" xlink:href=\"psysml:58826ca2-a740-4eaa-a71e-521b590388a3\" xlink:show=\"new\" xlink:title=\"psysml:58826ca2-a740-4eaa-a71e-521b590388a3\" xlink:type=\"simple\"><rect fill=\"#FFFFFF\" filter=\"url(#fcjwjpbij3ncy)\" height=\"133\" id=\"E6\" style=\"stroke: #A80036; stroke-width: 1.5;\" width=\"123\" x=\"666\" y=\"57\"/><rect fill=\"#FEFECE\" height=\"23.9688\" style=\"stroke: #A80036; stroke-width: 1.5;\" width=\"123\" x=\"666\" y=\"57\"/><text fill=\"#000000\" font-family=\"sans-serif\" font-size=\"12\" lengthAdjust=\"spacingAndGlyphs\" textLength=\"8\" x=\"723.5\" y=\"73.1387\">V</text></a><!--MD5=[7f149f147074ac12df2cb0a7728a5fb0]\n",
       "cluster E9--><a href=\"psysml:d7b3804f-80e3-4381-979e-bf8e2501fba8\" target=\"_top\" title=\"psysml:d7b3804f-80e3-4381-979e-bf8e2501fba8\" xlink:actuate=\"onRequest\" xlink:href=\"psysml:d7b3804f-80e3-4381-979e-bf8e2501fba8\" xlink:show=\"new\" xlink:title=\"psysml:d7b3804f-80e3-4381-979e-bf8e2501fba8\" xlink:type=\"simple\"><rect fill=\"#FFFFFF\" filter=\"url(#fcjwjpbij3ncy)\" height=\"123\" id=\"E9\" rx=\"10\" ry=\"10\" style=\"stroke: #A80036; stroke-width: 1.5;\" width=\"136\" x=\"498\" y=\"62\"/><rect fill=\"#FEFECE\" height=\"23.9688\" rx=\"10\" ry=\"10\" style=\"stroke: #FEFECE; stroke-width: 1.5;\" width=\"136\" x=\"498\" y=\"62\"/><rect fill=\"#FEFECE\" height=\"10\" style=\"stroke: #FEFECE; stroke-width: 1.5;\" width=\"136\" x=\"498\" y=\"75.9688\"/><rect fill=\"none\" height=\"123\" id=\"E9\" rx=\"10\" ry=\"10\" style=\"stroke: #A80036; stroke-width: 1.5;\" width=\"136\" x=\"498\" y=\"62\"/><text fill=\"#000000\" font-family=\"sans-serif\" font-size=\"12\" lengthAdjust=\"spacingAndGlyphs\" textLength=\"22\" x=\"555\" y=\"78.1387\">v: P</text><line style=\"stroke: #A80036; stroke-width: 1.0;\" x1=\"498\" x2=\"634\" y1=\"85.9688\" y2=\"85.9688\"/></a><g id=\"E1.E5\"><a href=\"psysml:6204c3f0-143a-45cc-ac58-9ea86a3a8ea6\" target=\"_top\" title=\"psysml:6204c3f0-143a-45cc-ac58-9ea86a3a8ea6\" xlink:actuate=\"onRequest\" xlink:href=\"psysml:6204c3f0-143a-45cc-ac58-9ea86a3a8ea6\" xlink:show=\"new\" xlink:title=\"psysml:6204c3f0-143a-45cc-ac58-9ea86a3a8ea6\" xlink:type=\"simple\"><rect fill=\"#FEFECE\" filter=\"url(#fcjwjpbij3ncy)\" height=\"42.9375\" id=\"E5\" style=\"stroke: #A80036; stroke-width: 1.5;\" width=\"126\" x=\"353\" y=\"111.5\"/><ellipse cx=\"370.25\" cy=\"130.4688\" fill=\"#A52A2A\" rx=\"11\" ry=\"11\" style=\"stroke: #A80036; stroke-width: 1.0;\"/><path d=\"M369.8438,126.2813 L369.8438,134.2656 L370.5,134.2656 Q371.9375,134.2656 372.5469,133.3594 Q373.1719,132.4375 373.1719,130.2656 Q373.1719,128.0938 372.5469,127.1875 Q371.9375,126.2813 370.5,126.2813 L369.8438,126.2813 Z M367.3906,124.0781 L370.0156,124.0781 Q373.0469,124.0781 374.375,125.5313 Q375.7188,126.9688 375.7188,130.2656 Q375.7188,133.5625 374.375,135.0156 Q373.0469,136.4688 370.0156,136.4688 L367.3906,136.4688 L367.3906,124.0781 Z \"/><text fill=\"#000000\" font-family=\"sans-serif\" font-size=\"12\" font-style=\"italic\" lengthAdjust=\"spacingAndGlyphs\" textLength=\"93\" x=\"382.75\" y=\"127.6387\">«attribute def»</text><text fill=\"#000000\" font-family=\"sans-serif\" font-size=\"12\" lengthAdjust=\"spacingAndGlyphs\" textLength=\"8\" x=\"425.25\" y=\"141.6074\">B</text></a></g><!--MD5=[09b614a08d8cba4a07c9adeb5e0fee81]\n",
       "class E3--><a href=\"psysml:af83713f-f16b-4de7-b4a6-ecd5bab1fc22\" target=\"_top\" title=\"psysml:af83713f-f16b-4de7-b4a6-ecd5bab1fc22\" xlink:actuate=\"onRequest\" xlink:href=\"psysml:af83713f-f16b-4de7-b4a6-ecd5bab1fc22\" xlink:show=\"new\" xlink:title=\"psysml:af83713f-f16b-4de7-b4a6-ecd5bab1fc22\" xlink:type=\"simple\"><rect fill=\"#FEFECE\" filter=\"url(#fcjwjpbij3ncy)\" height=\"45.9375\" id=\"E3\" rx=\"10\" ry=\"10\" style=\"stroke: #A80036; stroke-width: 1.5;\" width=\"97\" x=\"498.5\" y=\"273\"/><ellipse cx=\"513.5\" cy=\"291.9688\" fill=\"#FFA500\" rx=\"11\" ry=\"11\" style=\"stroke: #A80036; stroke-width: 1.0;\"/><path d=\"M509.375,293.8906 L509.375,286.0781 L511.8281,286.0781 L511.8281,294.5156 Q511.8281,295.4375 512.2969,295.9688 Q512.7813,296.5 513.6094,296.5 Q514.4531,296.5 514.9219,295.9688 Q515.3906,295.4375 515.3906,294.5156 L515.3906,286.0781 L517.8438,286.0781 L517.8438,293.8906 Q517.8438,296.4219 516.8438,297.5625 Q515.8438,298.7031 513.6094,298.7031 Q511.3906,298.7031 510.375,297.5625 Q509.375,296.4219 509.375,293.8906 Z \"/><text fill=\"#000000\" font-family=\"sans-serif\" font-size=\"12\" font-style=\"italic\" lengthAdjust=\"spacingAndGlyphs\" textLength=\"69\" x=\"525.5\" y=\"289.1387\">«attribute»</text><text fill=\"#000000\" font-family=\"sans-serif\" font-size=\"12\" lengthAdjust=\"spacingAndGlyphs\" textLength=\"8\" x=\"556\" y=\"303.1074\">a</text><line style=\"stroke: #A80036; stroke-width: 1.5;\" x1=\"499.5\" x2=\"594.5\" y1=\"310.9375\" y2=\"310.9375\"/></a><g id=\"E1.E4\"><a href=\"psysml:64152dcd-188c-4285-9d2f-82b4222731ff\" target=\"_top\" title=\"psysml:64152dcd-188c-4285-9d2f-82b4222731ff\" xlink:actuate=\"onRequest\" xlink:href=\"psysml:64152dcd-188c-4285-9d2f-82b4222731ff\" xlink:show=\"new\" xlink:title=\"psysml:64152dcd-188c-4285-9d2f-82b4222731ff\" xlink:type=\"simple\"><rect fill=\"#FEFECE\" filter=\"url(#fcjwjpbij3ncy)\" height=\"40\" id=\"E4\" style=\"stroke: #A80036; stroke-width: 1.5;\" width=\"50\" x=\"268\" y=\"113\"/><ellipse cx=\"287.05\" cy=\"129\" fill=\"#008000\" rx=\"11\" ry=\"11\" style=\"stroke: #A80036; stroke-width: 1.0;\"/><path d=\"M285.9563,129.375 L285.9563,133.0469 L287.5813,133.0469 Q288.7531,133.0469 289.2219,132.6563 Q289.6906,132.25 289.6906,131.25 Q289.6906,130.25 289.1906,129.8125 Q288.7063,129.375 287.5813,129.375 L285.9563,129.375 Z M285.9563,124.5469 L285.9563,127.4219 L287.5813,127.4219 Q288.5031,127.4219 288.8938,127.0938 Q289.3,126.75 289.3,126 Q289.3,125.2344 288.8938,124.8906 Q288.4875,124.5469 287.5813,124.5469 L285.9563,124.5469 Z M283.5813,122.5938 L287.5813,122.5938 Q289.6438,122.5938 290.6906,123.375 Q291.7375,124.1563 291.7375,125.7188 Q291.7375,126.9219 291.1125,127.5938 Q290.5031,128.2656 289.3156,128.375 Q290.7375,128.5156 291.4563,129.3281 Q292.175,130.1406 292.175,131.5938 Q292.175,133.3906 291.0969,134.2031 Q290.0188,135 287.5813,135 L283.5813,135 L283.5813,122.5938 Z \"/><text fill=\"#000000\" font-family=\"sans-serif\" font-size=\"12\" lengthAdjust=\"spacingAndGlyphs\" textLength=\"9\" x=\"301.95\" y=\"133.1543\">Q</text></a></g><!--MD5=[2156ba9850f5573cc1fc38a6a4b2f02b]\n",
       "class E7--><a href=\"psysml:c2df0e2e-5a66-4a2b-abfc-b3b4dd7dd2c5\" target=\"_top\" title=\"psysml:c2df0e2e-5a66-4a2b-abfc-b3b4dd7dd2c5\" xlink:actuate=\"onRequest\" xlink:href=\"psysml:c2df0e2e-5a66-4a2b-abfc-b3b4dd7dd2c5\" xlink:show=\"new\" xlink:title=\"psysml:c2df0e2e-5a66-4a2b-abfc-b3b4dd7dd2c5\" xlink:type=\"simple\"><rect fill=\"#FEFECE\" filter=\"url(#fcjwjpbij3ncy)\" height=\"65.6094\" id=\"E7\" rx=\"10\" ry=\"10\" style=\"stroke: #A80036; stroke-width: 1.5;\" width=\"56\" x=\"709\" y=\"100\"/><ellipse cx=\"724.45\" cy=\"116\" fill=\"#B6DBBB\" rx=\"11\" ry=\"11\" style=\"stroke: #A80036; stroke-width: 1.0;\"/><path d=\"M720.325,117.9219 L720.325,110.1094 L722.7781,110.1094 L722.7781,118.5469 Q722.7781,119.4688 723.2469,120 Q723.7313,120.5313 724.5594,120.5313 Q725.4031,120.5313 725.8719,120 Q726.3406,119.4688 726.3406,118.5469 L726.3406,110.1094 L728.7938,110.1094 L728.7938,117.9219 Q728.7938,120.4531 727.7938,121.5938 Q726.7938,122.7344 724.5594,122.7344 Q722.3406,122.7344 721.325,121.5938 Q720.325,120.4531 720.325,117.9219 Z \"/><text fill=\"#000000\" font-family=\"sans-serif\" font-size=\"12\" lengthAdjust=\"spacingAndGlyphs\" textLength=\"23\" x=\"738.55\" y=\"120.1543\">x: Q</text><line style=\"stroke: #A80036; stroke-width: 1.5;\" x1=\"710\" x2=\"764\" y1=\"132\" y2=\"132\"/><text fill=\"#000000\" font-family=\"sans-serif\" font-size=\"11\" lengthAdjust=\"spacingAndGlyphs\" textLength=\"23\" x=\"715\" y=\"146.2104\">b: B</text><text fill=\"#000000\" font-family=\"sans-serif\" font-size=\"11\" font-style=\"italic\" lengthAdjust=\"spacingAndGlyphs\" textLength=\"44\" x=\"715\" y=\"159.0151\">:&gt;&gt;P::a</text></a><g id=\"E1.E8\"><a href=\"psysml:d5aa7800-4c4d-4a74-9f82-8c5d7377a367\" target=\"_top\" title=\"psysml:d5aa7800-4c4d-4a74-9f82-8c5d7377a367\" xlink:actuate=\"onRequest\" xlink:href=\"psysml:d5aa7800-4c4d-4a74-9f82-8c5d7377a367\" xlink:show=\"new\" xlink:title=\"psysml:d5aa7800-4c4d-4a74-9f82-8c5d7377a367\" xlink:type=\"simple\"><rect fill=\"#FEFECE\" filter=\"url(#fcjwjpbij3ncy)\" height=\"40\" id=\"E8\" rx=\"10\" ry=\"10\" style=\"stroke: #A80036; stroke-width: 1.5;\" width=\"62\" x=\"171\" y=\"113\"/><ellipse cx=\"188.25\" cy=\"129\" fill=\"#B6DBBB\" rx=\"11\" ry=\"11\" style=\"stroke: #A80036; stroke-width: 1.0;\"/><path d=\"M184.125,130.9219 L184.125,123.1094 L186.5781,123.1094 L186.5781,131.5469 Q186.5781,132.4688 187.0469,133 Q187.5313,133.5313 188.3594,133.5313 Q189.2031,133.5313 189.6719,133 Q190.1406,132.4688 190.1406,131.5469 L190.1406,123.1094 L192.5938,123.1094 L192.5938,130.9219 Q192.5938,133.4531 191.5938,134.5938 Q190.5938,135.7344 188.3594,135.7344 Q186.1406,135.7344 185.125,134.5938 Q184.125,133.4531 184.125,130.9219 Z \"/><text fill=\"#000000\" font-family=\"sans-serif\" font-size=\"12\" lengthAdjust=\"spacingAndGlyphs\" textLength=\"25\" x=\"202.75\" y=\"133.1543\">q: Q</text></a></g><!--MD5=[96f4274e9e20536e775497830990834d]\n",
       "class E10--><a href=\"psysml:aeeab6cc-3339-44ed-a45c-f65a5d97c376\" target=\"_top\" title=\"psysml:aeeab6cc-3339-44ed-a45c-f65a5d97c376\" xlink:actuate=\"onRequest\" xlink:href=\"psysml:aeeab6cc-3339-44ed-a45c-f65a5d97c376\" xlink:show=\"new\" xlink:title=\"psysml:aeeab6cc-3339-44ed-a45c-f65a5d97c376\" xlink:type=\"simple\"><rect fill=\"#FEFECE\" filter=\"url(#fcjwjpbij3ncy)\" height=\"71.5469\" id=\"E10\" rx=\"10\" ry=\"10\" style=\"stroke: #A80036; stroke-width: 1.5;\" width=\"103\" x=\"514.5\" y=\"97\"/><ellipse cx=\"529.5\" cy=\"115.9688\" fill=\"#FFA500\" rx=\"11\" ry=\"11\" style=\"stroke: #A80036; stroke-width: 1.0;\"/><path d=\"M525.375,117.8906 L525.375,110.0781 L527.8281,110.0781 L527.8281,118.5156 Q527.8281,119.4375 528.2969,119.9688 Q528.7813,120.5 529.6094,120.5 Q530.4531,120.5 530.9219,119.9688 Q531.3906,119.4375 531.3906,118.5156 L531.3906,110.0781 L533.8438,110.0781 L533.8438,117.8906 Q533.8438,120.4219 532.8438,121.5625 Q531.8438,122.7031 529.6094,122.7031 Q527.3906,122.7031 526.375,121.5625 Q525.375,120.4219 525.375,117.8906 Z \"/><text fill=\"#000000\" font-family=\"sans-serif\" font-size=\"12\" font-style=\"italic\" lengthAdjust=\"spacingAndGlyphs\" textLength=\"75\" x=\"541.5\" y=\"113.1387\">«reference»</text><text fill=\"#000000\" font-family=\"sans-serif\" font-size=\"12\" lengthAdjust=\"spacingAndGlyphs\" textLength=\"8\" x=\"575\" y=\"127.1074\">q</text><line style=\"stroke: #A80036; stroke-width: 1.5;\" x1=\"515.5\" x2=\"616.5\" y1=\"134.9375\" y2=\"134.9375\"/><text fill=\"#000000\" font-family=\"sans-serif\" font-size=\"11\" lengthAdjust=\"spacingAndGlyphs\" textLength=\"23\" x=\"520.5\" y=\"149.1479\">b: B</text><text fill=\"#000000\" font-family=\"sans-serif\" font-size=\"11\" font-style=\"italic\" lengthAdjust=\"spacingAndGlyphs\" textLength=\"44\" x=\"520.5\" y=\"161.9526\">:&gt;&gt;P::a</text></a><g id=\"E1.E11\"><a href=\"psysml:fe63b1e8-840a-4f2e-b06a-2ce986f19d03\" target=\"_top\" title=\"psysml:fe63b1e8-840a-4f2e-b06a-2ce986f19d03\" xlink:actuate=\"onRequest\" xlink:href=\"psysml:fe63b1e8-840a-4f2e-b06a-2ce986f19d03\" xlink:show=\"new\" xlink:title=\"psysml:fe63b1e8-840a-4f2e-b06a-2ce986f19d03\" xlink:type=\"simple\"><rect fill=\"#FEFECE\" filter=\"url(#fcjwjpbij3ncy)\" height=\"40\" id=\"E11\" rx=\"10\" ry=\"10\" style=\"stroke: #A80036; stroke-width: 1.5;\" width=\"103\" x=\"32.5\" y=\"113\"/><ellipse cx=\"49.75\" cy=\"129\" fill=\"#B6DBBB\" rx=\"11\" ry=\"11\" style=\"stroke: #A80036; stroke-width: 1.0;\"/><path d=\"M45.625,130.9219 L45.625,123.1094 L48.0781,123.1094 L48.0781,131.5469 Q48.0781,132.4688 48.5469,133 Q49.0313,133.5313 49.8594,133.5313 Q50.7031,133.5313 51.1719,133 Q51.6406,132.4688 51.6406,131.5469 L51.6406,123.1094 L54.0938,123.1094 L54.0938,130.9219 Q54.0938,133.4531 53.0938,134.5938 Q52.0938,135.7344 49.8594,135.7344 Q47.6406,135.7344 46.625,134.5938 Q45.625,133.4531 45.625,130.9219 Z \"/><text fill=\"#000000\" font-family=\"sans-serif\" font-size=\"12\" lengthAdjust=\"spacingAndGlyphs\" textLength=\"62\" x=\"64.25\" y=\"133.1543\">y: P= v::q;</text></a></g><!--MD5=[185131fc0dcab0a4505a2ebe144e961b]\n",
       "link E4 to E2--><a href=\"psysml:6495a820-e8c0-4129-af26-6722c3b7b9e6\" target=\"_top\" title=\"psysml:6495a820-e8c0-4129-af26-6722c3b7b9e6\" xlink:actuate=\"onRequest\" xlink:href=\"psysml:6495a820-e8c0-4129-af26-6722c3b7b9e6\" xlink:show=\"new\" xlink:title=\"psysml:6495a820-e8c0-4129-af26-6722c3b7b9e6\" xlink:type=\"simple\"><path d=\"M301.67,153.2 C309.25,168.62 321.33,190.22 336,206 C359.1,230.845 390.2275,252.7925 415.8838,268.6763 C428.7119,276.6181 440.1722,283.0441 448.5773,287.5583 C450.6786,288.6868 452.589,289.6959 454.282,290.5793 C454.4936,290.6897 454.7019,290.7982 454.9067,290.9047 \" fill=\"none\" id=\"E4-&gt;E2\" style=\"stroke: #A80036; stroke-width: 1.0;\"/><polygon fill=\"#FFFFFF\" points=\"454.9067,290.9047,441.2789,275.9286,434.82,288.3497,454.9067,290.9047\" style=\"stroke: #A80036; stroke-width: 1.0;\"/></a><!--MD5=[2351f337d6de0f557b50152ba70847b5]\n",
       "link E6 to E2--><a href=\"psysml:bd00e4e7-d183-497a-b9f8-56660fc51e3e\" target=\"_top\" title=\"psysml:bd00e4e7-d183-497a-b9f8-56660fc51e3e\" xlink:actuate=\"onRequest\" xlink:href=\"psysml:bd00e4e7-d183-497a-b9f8-56660fc51e3e\" xlink:show=\"new\" xlink:title=\"psysml:bd00e4e7-d183-497a-b9f8-56660fc51e3e\" xlink:type=\"simple\"><path d=\"M665.9013,162.0679 C665.8104,162.3026 665.7186,162.5379 665.6258,162.7737 C665.4404,163.2454 665.2514,163.7192 665.0587,164.195 C658.895,179.42 649.04,196.605 634,206 C605.5,223.8 508.9,192.59 483,214 C479.5388,216.8612 476.6225,220.2173 474.17,223.9065 C472.9438,225.751 471.8335,227.6788 470.829,229.6697 \" fill=\"none\" id=\"E6-&gt;E2\" style=\"stroke: #A80036; stroke-width: 1.0;\"/><polygon fill=\"#FFFFFF\" points=\"470.829,229.6697,485.6374,215.8599,473.1384,209.5534,470.829,229.6697\" style=\"stroke: #A80036; stroke-width: 1.0;\"/></a><!--MD5=[afd60d4090e583db3694f40724f09aba]\n",
       "@startuml\r\n",
       "skinparam ranksep 10\r\n",
       "skinparam rectangle {\r\n",
       " backgroundColor<<block>> LightGreen\r\n",
       "}\r\n",
       " \r\n",
       "package \"VariabilityTest\" as E1  [[psysml:6e13bc12-600f-4176-9ee3-c77c18f0da6f ]]  {\r\n",
       "rec def \"P\" as E2 << << (B,green) >> [[psysml:a47e4883-53c6-48e5-9729-358fb18738b5 ]] {\r\n",
       "comp usage \"a\" as E3 << <<(U,orange) attribute>> [[psysml:af83713f-f16b-4de7-b4a6-ecd5bab1fc22 ]] {\r\n",
       "}\r\n",
       "}\r\n",
       "rec def \"Q\" as E4 << << (B,green) >> [[psysml:64152dcd-188c-4285-9d2f-82b4222731ff ]] {\r\n",
       "}\r\n",
       "def \"B\" as E5 << <<(D,brown) attribute def>> [[psysml:6204c3f0-143a-45cc-ac58-9ea86a3a8ea6 ]] \r\n",
       "rec def \"V\" as E6 << << (B,green) >> [[psysml:58826ca2-a740-4eaa-a71e-521b590388a3 ]] {\r\n",
       "comp usage \"x: Q\" as E7  [[psysml:c2df0e2e-5a66-4a2b-abfc-b3b4dd7dd2c5 ]] {\r\n",
       "b: B\\n//:>>P::a// \r\n",
       "}\r\n",
       "}\r\n",
       "rec usage \"q: Q\" as E8  [[psysml:d5aa7800-4c4d-4a74-9f82-8c5d7377a367 ]] {\r\n",
       "}\r\n",
       "rec usage \"v: P\" as E9  [[psysml:d7b3804f-80e3-4381-979e-bf8e2501fba8 ]] {\r\n",
       "comp usage \"q\" as E10 << <<(U,orange) reference>> [[psysml:aeeab6cc-3339-44ed-a45c-f65a5d97c376 ]] {\r\n",
       "b: B\\n//:>>P::a// \r\n",
       "}\r\n",
       "}\r\n",
       "rec usage \"y: P= v::q; \" as E11  [[psysml:fe63b1e8-840a-4f2e-b06a-2ce986f19d03 ]] {\r\n",
       "}\r\n",
       "E4 - -|> E2 [[psysml:6495a820-e8c0-4129-af26-6722c3b7b9e6 ]] \r\n",
       "E6 - -|> E2 [[psysml:bd00e4e7-d183-497a-b9f8-56660fc51e3e ]] \r\n",
       "}\r\n",
       "@enduml\r\n",
       "\n",
       "PlantUML version 1.2020.13(Sat Jun 13 12:26:38 UTC 2020)\n",
       "(EPL source distribution)\n",
       "Java Runtime: OpenJDK Runtime Environment\n",
       "JVM: OpenJDK 64-Bit Server VM\n",
       "Default Encoding: UTF-8\n",
       "Language: en\n",
       "Country: null\n",
       "--></g></svg>"
      ]
     },
     "execution_count": 33,
     "metadata": {},
     "output_type": "execute_result"
    }
   ],
   "source": [
    "%viz --style=\"PLANTUML\" --view=\"Interconnection\" \"VariabilityTest\""
   ]
  },
  {
   "cell_type": "code",
   "execution_count": 34,
   "id": "258936ae",
   "metadata": {
    "execution": {
     "iopub.execute_input": "2021-08-04T06:26:50.769995Z",
     "iopub.status.busy": "2021-08-04T06:26:50.769600Z",
     "iopub.status.idle": "2021-08-04T06:26:50.773206Z",
     "shell.execute_reply": "2021-08-04T06:26:50.772881Z"
    }
   },
   "outputs": [
    {
     "data": {
      "image/svg+xml": [
       "<?xml version=\"1.0\" encoding=\"UTF-8\" standalone=\"no\"?><svg xmlns=\"http://www.w3.org/2000/svg\" xmlns:xlink=\"http://www.w3.org/1999/xlink\" contentScriptType=\"application/ecmascript\" contentStyleType=\"text/css\" height=\"12px\" preserveAspectRatio=\"none\" style=\"width:12px;height:12px;\" version=\"1.1\" viewBox=\"0 0 12 12\" width=\"12px\" zoomAndPan=\"magnify\"><defs/><g><!--MD5=[6a4cb978cab31700e1ce5529f947a75d]\n",
       "@startuml\r\n",
       "skinparam ranksep 8\r\n",
       " \r\n",
       "@enduml\r\n",
       "\n",
       "PlantUML version 1.2020.13(Sat Jun 13 12:26:38 UTC 2020)\n",
       "(EPL source distribution)\n",
       "Java Runtime: OpenJDK Runtime Environment\n",
       "JVM: OpenJDK 64-Bit Server VM\n",
       "Default Encoding: UTF-8\n",
       "Language: en\n",
       "Country: null\n",
       "--></g></svg>"
      ]
     },
     "execution_count": 34,
     "metadata": {},
     "output_type": "execute_result"
    }
   ],
   "source": [
    "%viz --style=\"PLANTUML\" --view=\"Action\" \"VariabilityTest\""
   ]
  },
  {
   "cell_type": "code",
   "execution_count": 35,
   "id": "d597abd4",
   "metadata": {
    "execution": {
     "iopub.execute_input": "2021-08-04T06:26:50.823129Z",
     "iopub.status.busy": "2021-08-04T06:26:50.822734Z",
     "iopub.status.idle": "2021-08-04T06:26:50.862742Z",
     "shell.execute_reply": "2021-08-04T06:26:50.861399Z"
    }
   },
   "outputs": [
    {
     "data": {
      "image/svg+xml": [
       "<?xml version=\"1.0\" encoding=\"UTF-8\" standalone=\"no\"?><svg xmlns=\"http://www.w3.org/2000/svg\" xmlns:xlink=\"http://www.w3.org/1999/xlink\" contentScriptType=\"application/ecmascript\" contentStyleType=\"text/css\" height=\"385px\" preserveAspectRatio=\"none\" style=\"width:421px;height:385px;\" version=\"1.1\" viewBox=\"0 0 421 385\" width=\"421px\" zoomAndPan=\"magnify\"><defs><filter height=\"300%\" id=\"f1jlvh6464ajmn\" width=\"300%\" x=\"-1\" y=\"-1\"><feGaussianBlur result=\"blurOut\" stdDeviation=\"2.0\"/><feColorMatrix in=\"blurOut\" result=\"blurOut2\" type=\"matrix\" values=\"0 0 0 0 0 0 0 0 0 0 0 0 0 0 0 0 0 0 .4 0\"/><feOffset dx=\"4.0\" dy=\"4.0\" in=\"blurOut2\" result=\"blurOut3\"/><feBlend in=\"SourceGraphic\" in2=\"blurOut3\" mode=\"normal\"/></filter></defs><g><!--MD5=[fbc87193dbaf4d95561dea2c320d4a47]\n",
       "cluster E1--><a href=\"psysml:6e13bc12-600f-4176-9ee3-c77c18f0da6f\" target=\"_top\" title=\"psysml:6e13bc12-600f-4176-9ee3-c77c18f0da6f\" xlink:actuate=\"onRequest\" xlink:href=\"psysml:6e13bc12-600f-4176-9ee3-c77c18f0da6f\" xlink:show=\"new\" xlink:title=\"psysml:6e13bc12-600f-4176-9ee3-c77c18f0da6f\" xlink:type=\"simple\"><polygon fill=\"#FFFFFF\" filter=\"url(#f1jlvh6464ajmn)\" points=\"16,6,134,6,141,28.2969,399,28.2969,399,373,16,373,16,6\" style=\"stroke: #000000; stroke-width: 1.5;\"/><line style=\"stroke: #000000; stroke-width: 1.5;\" x1=\"16\" x2=\"141\" y1=\"28.2969\" y2=\"28.2969\"/><text fill=\"#000000\" font-family=\"sans-serif\" font-size=\"14\" font-weight=\"bold\" lengthAdjust=\"spacingAndGlyphs\" textLength=\"112\" x=\"20\" y=\"20.9951\">VariabilityTest</text></a><!--MD5=[b4997ac47864f28c2f74865a473b2911]\n",
       "class E2--><a href=\"psysml:a47e4883-53c6-48e5-9729-358fb18738b5\" target=\"_top\" title=\"psysml:a47e4883-53c6-48e5-9729-358fb18738b5\" xlink:actuate=\"onRequest\" xlink:href=\"psysml:a47e4883-53c6-48e5-9729-358fb18738b5\" xlink:show=\"new\" xlink:title=\"psysml:a47e4883-53c6-48e5-9729-358fb18738b5\" xlink:type=\"simple\"><rect fill=\"#FEFECE\" filter=\"url(#f1jlvh6464ajmn)\" height=\"52.8047\" id=\"E2\" style=\"stroke: #A80036; stroke-width: 1.5;\" width=\"40\" x=\"192\" y=\"294.5\"/><ellipse cx=\"207\" cy=\"310.5\" fill=\"#008000\" rx=\"11\" ry=\"11\" style=\"stroke: #A80036; stroke-width: 1.0;\"/><path d=\"M205.9063,310.875 L205.9063,314.5469 L207.5313,314.5469 Q208.7031,314.5469 209.1719,314.1563 Q209.6406,313.75 209.6406,312.75 Q209.6406,311.75 209.1406,311.3125 Q208.6563,310.875 207.5313,310.875 L205.9063,310.875 Z M205.9063,306.0469 L205.9063,308.9219 L207.5313,308.9219 Q208.4531,308.9219 208.8438,308.5938 Q209.25,308.25 209.25,307.5 Q209.25,306.7344 208.8438,306.3906 Q208.4375,306.0469 207.5313,306.0469 L205.9063,306.0469 Z M203.5313,304.0938 L207.5313,304.0938 Q209.5938,304.0938 210.6406,304.875 Q211.6875,305.6563 211.6875,307.2188 Q211.6875,308.4219 211.0625,309.0938 Q210.4531,309.7656 209.2656,309.875 Q210.6875,310.0156 211.4063,310.8281 Q212.125,311.6406 212.125,313.0938 Q212.125,314.8906 211.0469,315.7031 Q209.9688,316.5 207.5313,316.5 L203.5313,316.5 L203.5313,304.0938 Z \"/><text fill=\"#000000\" font-family=\"sans-serif\" font-size=\"12\" lengthAdjust=\"spacingAndGlyphs\" textLength=\"8\" x=\"221\" y=\"314.6543\">P</text><line style=\"stroke: #A80036; stroke-width: 1.5;\" x1=\"193\" x2=\"231\" y1=\"326.5\" y2=\"326.5\"/><text fill=\"#000000\" font-family=\"sans-serif\" font-size=\"11\" lengthAdjust=\"spacingAndGlyphs\" textLength=\"7\" x=\"198\" y=\"340.7104\">a</text></a><!--MD5=[09b614a08d8cba4a07c9adeb5e0fee81]\n",
       "class E3--><a href=\"psysml:64152dcd-188c-4285-9d2f-82b4222731ff\" target=\"_top\" title=\"psysml:64152dcd-188c-4285-9d2f-82b4222731ff\" xlink:actuate=\"onRequest\" xlink:href=\"psysml:64152dcd-188c-4285-9d2f-82b4222731ff\" xlink:show=\"new\" xlink:title=\"psysml:64152dcd-188c-4285-9d2f-82b4222731ff\" xlink:type=\"simple\"><rect fill=\"#FEFECE\" filter=\"url(#f1jlvh6464ajmn)\" height=\"40\" id=\"E3\" style=\"stroke: #A80036; stroke-width: 1.5;\" width=\"41\" x=\"163.5\" y=\"158\"/><ellipse cx=\"178.5\" cy=\"174\" fill=\"#008000\" rx=\"11\" ry=\"11\" style=\"stroke: #A80036; stroke-width: 1.0;\"/><path d=\"M177.4063,174.375 L177.4063,178.0469 L179.0313,178.0469 Q180.2031,178.0469 180.6719,177.6563 Q181.1406,177.25 181.1406,176.25 Q181.1406,175.25 180.6406,174.8125 Q180.1563,174.375 179.0313,174.375 L177.4063,174.375 Z M177.4063,169.5469 L177.4063,172.4219 L179.0313,172.4219 Q179.9531,172.4219 180.3438,172.0938 Q180.75,171.75 180.75,171 Q180.75,170.2344 180.3438,169.8906 Q179.9375,169.5469 179.0313,169.5469 L177.4063,169.5469 Z M175.0313,167.5938 L179.0313,167.5938 Q181.0938,167.5938 182.1406,168.375 Q183.1875,169.1563 183.1875,170.7188 Q183.1875,171.9219 182.5625,172.5938 Q181.9531,173.2656 180.7656,173.375 Q182.1875,173.5156 182.9063,174.3281 Q183.625,175.1406 183.625,176.5938 Q183.625,178.3906 182.5469,179.2031 Q181.4688,180 179.0313,180 L175.0313,180 L175.0313,167.5938 Z \"/><text fill=\"#000000\" font-family=\"sans-serif\" font-size=\"12\" lengthAdjust=\"spacingAndGlyphs\" textLength=\"9\" x=\"192.5\" y=\"178.1543\">Q</text><line style=\"stroke: #A80036; stroke-width: 1.5;\" x1=\"164.5\" x2=\"203.5\" y1=\"190\" y2=\"190\"/></a><!--MD5=[ebbe1d658d1005bcc118a6aa81145e00]\n",
       "class E4--><a href=\"psysml:6204c3f0-143a-45cc-ac58-9ea86a3a8ea6\" target=\"_top\" title=\"psysml:6204c3f0-143a-45cc-ac58-9ea86a3a8ea6\" xlink:actuate=\"onRequest\" xlink:href=\"psysml:6204c3f0-143a-45cc-ac58-9ea86a3a8ea6\" xlink:show=\"new\" xlink:title=\"psysml:6204c3f0-143a-45cc-ac58-9ea86a3a8ea6\" xlink:type=\"simple\"><rect fill=\"#FEFECE\" filter=\"url(#f1jlvh6464ajmn)\" height=\"45.9375\" id=\"E4\" style=\"stroke: #A80036; stroke-width: 1.5;\" width=\"121\" x=\"257.5\" y=\"41\"/><ellipse cx=\"272.5\" cy=\"59.9688\" fill=\"#A52A2A\" rx=\"11\" ry=\"11\" style=\"stroke: #A80036; stroke-width: 1.0;\"/><path d=\"M272.0938,55.7813 L272.0938,63.7656 L272.75,63.7656 Q274.1875,63.7656 274.7969,62.8594 Q275.4219,61.9375 275.4219,59.7656 Q275.4219,57.5938 274.7969,56.6875 Q274.1875,55.7813 272.75,55.7813 L272.0938,55.7813 Z M269.6406,53.5781 L272.2656,53.5781 Q275.2969,53.5781 276.625,55.0313 Q277.9688,56.4688 277.9688,59.7656 Q277.9688,63.0625 276.625,64.5156 Q275.2969,65.9688 272.2656,65.9688 L269.6406,65.9688 L269.6406,53.5781 Z \"/><text fill=\"#000000\" font-family=\"sans-serif\" font-size=\"12\" font-style=\"italic\" lengthAdjust=\"spacingAndGlyphs\" textLength=\"93\" x=\"284.5\" y=\"57.1387\">«attribute def»</text><text fill=\"#000000\" font-family=\"sans-serif\" font-size=\"12\" lengthAdjust=\"spacingAndGlyphs\" textLength=\"8\" x=\"327\" y=\"71.1074\">B</text><line style=\"stroke: #A80036; stroke-width: 1.5;\" x1=\"258.5\" x2=\"377.5\" y1=\"78.9375\" y2=\"78.9375\"/></a><!--MD5=[270fce915f116d4de14055a7c1d9a0f3]\n",
       "class E5--><a href=\"psysml:58826ca2-a740-4eaa-a71e-521b590388a3\" target=\"_top\" title=\"psysml:58826ca2-a740-4eaa-a71e-521b590388a3\" xlink:actuate=\"onRequest\" xlink:href=\"psysml:58826ca2-a740-4eaa-a71e-521b590388a3\" xlink:show=\"new\" xlink:title=\"psysml:58826ca2-a740-4eaa-a71e-521b590388a3\" xlink:type=\"simple\"><rect fill=\"#FEFECE\" filter=\"url(#f1jlvh6464ajmn)\" height=\"40\" id=\"E5\" style=\"stroke: #A80036; stroke-width: 1.5;\" width=\"40\" x=\"343\" y=\"158\"/><ellipse cx=\"358\" cy=\"174\" fill=\"#008000\" rx=\"11\" ry=\"11\" style=\"stroke: #A80036; stroke-width: 1.0;\"/><path d=\"M356.9063,174.375 L356.9063,178.0469 L358.5313,178.0469 Q359.7031,178.0469 360.1719,177.6563 Q360.6406,177.25 360.6406,176.25 Q360.6406,175.25 360.1406,174.8125 Q359.6563,174.375 358.5313,174.375 L356.9063,174.375 Z M356.9063,169.5469 L356.9063,172.4219 L358.5313,172.4219 Q359.4531,172.4219 359.8438,172.0938 Q360.25,171.75 360.25,171 Q360.25,170.2344 359.8438,169.8906 Q359.4375,169.5469 358.5313,169.5469 L356.9063,169.5469 Z M354.5313,167.5938 L358.5313,167.5938 Q360.5938,167.5938 361.6406,168.375 Q362.6875,169.1563 362.6875,170.7188 Q362.6875,171.9219 362.0625,172.5938 Q361.4531,173.2656 360.2656,173.375 Q361.6875,173.5156 362.4063,174.3281 Q363.125,175.1406 363.125,176.5938 Q363.125,178.3906 362.0469,179.2031 Q360.9688,180 358.5313,180 L354.5313,180 L354.5313,167.5938 Z \"/><text fill=\"#000000\" font-family=\"sans-serif\" font-size=\"12\" lengthAdjust=\"spacingAndGlyphs\" textLength=\"8\" x=\"372\" y=\"178.1543\">V</text><line style=\"stroke: #A80036; stroke-width: 1.5;\" x1=\"344\" x2=\"382\" y1=\"190\" y2=\"190\"/></a><!--MD5=[60a26617385b1d2d0262a64233df1f8d]\n",
       "class E6--><a href=\"psysml:c2df0e2e-5a66-4a2b-abfc-b3b4dd7dd2c5\" target=\"_top\" title=\"psysml:c2df0e2e-5a66-4a2b-abfc-b3b4dd7dd2c5\" xlink:actuate=\"onRequest\" xlink:href=\"psysml:c2df0e2e-5a66-4a2b-abfc-b3b4dd7dd2c5\" xlink:show=\"new\" xlink:title=\"psysml:c2df0e2e-5a66-4a2b-abfc-b3b4dd7dd2c5\" xlink:type=\"simple\"><rect fill=\"#FEFECE\" filter=\"url(#f1jlvh6464ajmn)\" height=\"71.5469\" id=\"E6\" rx=\"10\" ry=\"10\" style=\"stroke: #A80036; stroke-width: 1.5;\" width=\"68\" x=\"287\" y=\"285\"/><ellipse cx=\"302\" cy=\"303.9688\" fill=\"#32CD32\" rx=\"11\" ry=\"11\" style=\"stroke: #A80036; stroke-width: 1.0;\"/><path d=\"M301.7969,299.6406 L301.7969,303.2656 L302.7969,303.2656 Q304,303.2656 304.4844,302.8594 Q304.9688,302.4531 304.9688,301.4531 Q304.9688,300.4531 304.4844,300.0469 Q304,299.6406 302.7969,299.6406 L301.7969,299.6406 Z M299.3438,297.5781 L302.7031,297.5781 Q305.2656,297.5781 306.3906,298.5 Q307.5156,299.4063 307.5156,301.4531 Q307.5156,303.5 306.3906,304.4219 Q305.2656,305.3281 302.7031,305.3281 L301.7969,305.3281 L301.7969,309.9688 L299.3438,309.9688 L299.3438,297.5781 Z \"/><text fill=\"#000000\" font-family=\"sans-serif\" font-size=\"12\" font-style=\"italic\" lengthAdjust=\"spacingAndGlyphs\" textLength=\"40\" x=\"314\" y=\"301.1387\">«part»</text><text fill=\"#000000\" font-family=\"sans-serif\" font-size=\"12\" lengthAdjust=\"spacingAndGlyphs\" textLength=\"23\" x=\"322.5\" y=\"315.1074\">x: Q</text><line style=\"stroke: #A80036; stroke-width: 1.5;\" x1=\"288\" x2=\"354\" y1=\"322.9375\" y2=\"322.9375\"/><text fill=\"#000000\" font-family=\"sans-serif\" font-size=\"11\" lengthAdjust=\"spacingAndGlyphs\" textLength=\"23\" x=\"293\" y=\"337.1479\">b: B</text><text fill=\"#000000\" font-family=\"sans-serif\" font-size=\"11\" font-style=\"italic\" lengthAdjust=\"spacingAndGlyphs\" textLength=\"44\" x=\"293\" y=\"349.9526\">:&gt;&gt;P::a</text></a><!--MD5=[2156ba9850f5573cc1fc38a6a4b2f02b]\n",
       "class E7--><a href=\"psysml:d5aa7800-4c4d-4a74-9f82-8c5d7377a367\" target=\"_top\" title=\"psysml:d5aa7800-4c4d-4a74-9f82-8c5d7377a367\" xlink:actuate=\"onRequest\" xlink:href=\"psysml:d5aa7800-4c4d-4a74-9f82-8c5d7377a367\" xlink:show=\"new\" xlink:title=\"psysml:d5aa7800-4c4d-4a74-9f82-8c5d7377a367\" xlink:type=\"simple\"><rect fill=\"#FEFECE\" filter=\"url(#f1jlvh6464ajmn)\" height=\"45.9375\" id=\"E7\" rx=\"10\" ry=\"10\" style=\"stroke: #A80036; stroke-width: 1.5;\" width=\"68\" x=\"150\" y=\"41\"/><ellipse cx=\"165\" cy=\"59.9688\" fill=\"#32CD32\" rx=\"11\" ry=\"11\" style=\"stroke: #A80036; stroke-width: 1.0;\"/><path d=\"M164.7969,55.6406 L164.7969,59.2656 L165.7969,59.2656 Q167,59.2656 167.4844,58.8594 Q167.9688,58.4531 167.9688,57.4531 Q167.9688,56.4531 167.4844,56.0469 Q167,55.6406 165.7969,55.6406 L164.7969,55.6406 Z M162.3438,53.5781 L165.7031,53.5781 Q168.2656,53.5781 169.3906,54.5 Q170.5156,55.4063 170.5156,57.4531 Q170.5156,59.5 169.3906,60.4219 Q168.2656,61.3281 165.7031,61.3281 L164.7969,61.3281 L164.7969,65.9688 L162.3438,65.9688 L162.3438,53.5781 Z \"/><text fill=\"#000000\" font-family=\"sans-serif\" font-size=\"12\" font-style=\"italic\" lengthAdjust=\"spacingAndGlyphs\" textLength=\"40\" x=\"177\" y=\"57.1387\">«part»</text><text fill=\"#000000\" font-family=\"sans-serif\" font-size=\"12\" lengthAdjust=\"spacingAndGlyphs\" textLength=\"25\" x=\"184.5\" y=\"71.1074\">q: Q</text><line style=\"stroke: #A80036; stroke-width: 1.5;\" x1=\"151\" x2=\"217\" y1=\"78.9375\" y2=\"78.9375\"/></a><!--MD5=[b9389687b975829384b498ac4b7476b2]\n",
       "class E8--><a href=\"psysml:d7b3804f-80e3-4381-979e-bf8e2501fba8\" target=\"_top\" title=\"psysml:d7b3804f-80e3-4381-979e-bf8e2501fba8\" xlink:actuate=\"onRequest\" xlink:href=\"psysml:d7b3804f-80e3-4381-979e-bf8e2501fba8\" xlink:show=\"new\" xlink:title=\"psysml:d7b3804f-80e3-4381-979e-bf8e2501fba8\" xlink:type=\"simple\"><rect fill=\"#FEFECE\" filter=\"url(#f1jlvh6464ajmn)\" height=\"59.9063\" id=\"E8\" rx=\"10\" ry=\"10\" style=\"stroke: #A80036; stroke-width: 1.5;\" width=\"96\" x=\"32\" y=\"148\"/><ellipse cx=\"47\" cy=\"173.9531\" fill=\"#32CD32\" rx=\"11\" ry=\"11\" style=\"stroke: #A80036; stroke-width: 1.0;\"/><path d=\"M46.7969,169.625 L46.7969,173.25 L47.7969,173.25 Q49,173.25 49.4844,172.8438 Q49.9688,172.4375 49.9688,171.4375 Q49.9688,170.4375 49.4844,170.0313 Q49,169.625 47.7969,169.625 L46.7969,169.625 Z M44.3438,167.5625 L47.7031,167.5625 Q50.2656,167.5625 51.3906,168.4844 Q52.5156,169.3906 52.5156,171.4375 Q52.5156,173.4844 51.3906,174.4063 Q50.2656,175.3125 47.7031,175.3125 L46.7969,175.3125 L46.7969,179.9531 L44.3438,179.9531 L44.3438,167.5625 Z \"/><text fill=\"#000000\" font-family=\"sans-serif\" font-size=\"12\" font-style=\"italic\" lengthAdjust=\"spacingAndGlyphs\" textLength=\"68\" x=\"59\" y=\"164.1387\">«variation»</text><text fill=\"#000000\" font-family=\"sans-serif\" font-size=\"12\" font-style=\"italic\" lengthAdjust=\"spacingAndGlyphs\" textLength=\"40\" x=\"73\" y=\"178.1074\">«part»</text><text fill=\"#000000\" font-family=\"sans-serif\" font-size=\"12\" lengthAdjust=\"spacingAndGlyphs\" textLength=\"22\" x=\"82\" y=\"192.0762\">v: P</text><line style=\"stroke: #A80036; stroke-width: 1.5;\" x1=\"33\" x2=\"127\" y1=\"199.9063\" y2=\"199.9063\"/></a><!--MD5=[fd4143e9d270a159db93a4ea2a975926]\n",
       "class E9--><a href=\"psysml:aeeab6cc-3339-44ed-a45c-f65a5d97c376\" target=\"_top\" title=\"psysml:aeeab6cc-3339-44ed-a45c-f65a5d97c376\" xlink:actuate=\"onRequest\" xlink:href=\"psysml:aeeab6cc-3339-44ed-a45c-f65a5d97c376\" xlink:show=\"new\" xlink:title=\"psysml:aeeab6cc-3339-44ed-a45c-f65a5d97c376\" xlink:type=\"simple\"><rect fill=\"#FEFECE\" filter=\"url(#f1jlvh6464ajmn)\" height=\"71.5469\" id=\"E9\" rx=\"10\" ry=\"10\" style=\"stroke: #A80036; stroke-width: 1.5;\" width=\"103\" x=\"32.5\" y=\"285\"/><ellipse cx=\"47.5\" cy=\"303.9688\" fill=\"#FFA500\" rx=\"11\" ry=\"11\" style=\"stroke: #A80036; stroke-width: 1.0;\"/><path d=\"M43.375,305.8906 L43.375,298.0781 L45.8281,298.0781 L45.8281,306.5156 Q45.8281,307.4375 46.2969,307.9688 Q46.7813,308.5 47.6094,308.5 Q48.4531,308.5 48.9219,307.9688 Q49.3906,307.4375 49.3906,306.5156 L49.3906,298.0781 L51.8438,298.0781 L51.8438,305.8906 Q51.8438,308.4219 50.8438,309.5625 Q49.8438,310.7031 47.6094,310.7031 Q45.3906,310.7031 44.375,309.5625 Q43.375,308.4219 43.375,305.8906 Z \"/><text fill=\"#000000\" font-family=\"sans-serif\" font-size=\"12\" font-style=\"italic\" lengthAdjust=\"spacingAndGlyphs\" textLength=\"75\" x=\"59.5\" y=\"301.1387\">«reference»</text><text fill=\"#000000\" font-family=\"sans-serif\" font-size=\"12\" lengthAdjust=\"spacingAndGlyphs\" textLength=\"8\" x=\"93\" y=\"315.1074\">q</text><line style=\"stroke: #A80036; stroke-width: 1.5;\" x1=\"33.5\" x2=\"134.5\" y1=\"322.9375\" y2=\"322.9375\"/><text fill=\"#000000\" font-family=\"sans-serif\" font-size=\"11\" lengthAdjust=\"spacingAndGlyphs\" textLength=\"23\" x=\"38.5\" y=\"337.1479\">b: B</text><text fill=\"#000000\" font-family=\"sans-serif\" font-size=\"11\" font-style=\"italic\" lengthAdjust=\"spacingAndGlyphs\" textLength=\"44\" x=\"38.5\" y=\"349.9526\">:&gt;&gt;P::a</text></a><!--MD5=[96f4274e9e20536e775497830990834d]\n",
       "class E10--><a href=\"psysml:fe63b1e8-840a-4f2e-b06a-2ce986f19d03\" target=\"_top\" title=\"psysml:fe63b1e8-840a-4f2e-b06a-2ce986f19d03\" xlink:actuate=\"onRequest\" xlink:href=\"psysml:fe63b1e8-840a-4f2e-b06a-2ce986f19d03\" xlink:show=\"new\" xlink:title=\"psysml:fe63b1e8-840a-4f2e-b06a-2ce986f19d03\" xlink:type=\"simple\"><rect fill=\"#FEFECE\" filter=\"url(#f1jlvh6464ajmn)\" height=\"45.9375\" id=\"E10\" rx=\"10\" ry=\"10\" style=\"stroke: #A80036; stroke-width: 1.5;\" width=\"68\" x=\"240\" y=\"155\"/><ellipse cx=\"255\" cy=\"173.9688\" fill=\"#32CD32\" rx=\"11\" ry=\"11\" style=\"stroke: #A80036; stroke-width: 1.0;\"/><path d=\"M254.7969,169.6406 L254.7969,173.2656 L255.7969,173.2656 Q257,173.2656 257.4844,172.8594 Q257.9688,172.4531 257.9688,171.4531 Q257.9688,170.4531 257.4844,170.0469 Q257,169.6406 255.7969,169.6406 L254.7969,169.6406 Z M252.3438,167.5781 L255.7031,167.5781 Q258.2656,167.5781 259.3906,168.5 Q260.5156,169.4063 260.5156,171.4531 Q260.5156,173.5 259.3906,174.4219 Q258.2656,175.3281 255.7031,175.3281 L254.7969,175.3281 L254.7969,179.9688 L252.3438,179.9688 L252.3438,167.5781 Z \"/><text fill=\"#000000\" font-family=\"sans-serif\" font-size=\"12\" font-style=\"italic\" lengthAdjust=\"spacingAndGlyphs\" textLength=\"40\" x=\"267\" y=\"171.1387\">«part»</text><text fill=\"#000000\" font-family=\"sans-serif\" font-size=\"12\" lengthAdjust=\"spacingAndGlyphs\" textLength=\"22\" x=\"276\" y=\"185.1074\">y: P</text><line style=\"stroke: #A80036; stroke-width: 1.5;\" x1=\"241\" x2=\"307\" y1=\"192.9375\" y2=\"192.9375\"/></a><!--MD5=[05d275557350bfb9b23a4ef7222b4c39]\n",
       "link E3 to E2--><a href=\"psysml:6495a820-e8c0-4129-af26-6722c3b7b9e6\" target=\"_top\" title=\"psysml:6495a820-e8c0-4129-af26-6722c3b7b9e6\" xlink:actuate=\"onRequest\" xlink:href=\"psysml:6495a820-e8c0-4129-af26-6722c3b7b9e6\" xlink:show=\"new\" xlink:title=\"psysml:6495a820-e8c0-4129-af26-6722c3b7b9e6\" xlink:type=\"simple\"><path d=\"M187.78,198.02 C191.66,217.55 197.84,248.68 202.99,274.61 \" fill=\"none\" id=\"E3-&gt;E2\" style=\"stroke: #A80036; stroke-width: 1.0;\"/><polygon fill=\"none\" points=\"209.88,273.39,206.91,294.37,196.15,276.12,209.88,273.39\" style=\"stroke: #A80036; stroke-width: 1.0;\"/></a><!--MD5=[15ebcb19ae302d9b601edb458606d402]\n",
       "link E5 to E2--><a href=\"psysml:bd00e4e7-d183-497a-b9f8-56660fc51e3e\" target=\"_top\" title=\"psysml:bd00e4e7-d183-497a-b9f8-56660fc51e3e\" xlink:actuate=\"onRequest\" xlink:href=\"psysml:bd00e4e7-d183-497a-b9f8-56660fc51e3e\" xlink:show=\"new\" xlink:title=\"psysml:bd00e4e7-d183-497a-b9f8-56660fc51e3e\" xlink:type=\"simple\"><path d=\"M342.95,197.72 C318.47,220.58 276.65,259.63 246.86,287.45 \" fill=\"none\" id=\"E5-&gt;E2\" style=\"stroke: #A80036; stroke-width: 1.0;\"/><polygon fill=\"none\" points=\"251.53,292.67,232.13,301.2,241.98,282.43,251.53,292.67\" style=\"stroke: #A80036; stroke-width: 1.0;\"/></a><!--MD5=[9120cf2e5df3bff93db8f754bbbc09b4]\n",
       "link E5 to E6--><a href=\"psysml:3ec706da-d65f-4ef5-8a1f-1e1b5df7e7c6\" target=\"_top\" title=\"psysml:3ec706da-d65f-4ef5-8a1f-1e1b5df7e7c6\" xlink:actuate=\"onRequest\" xlink:href=\"psysml:3ec706da-d65f-4ef5-8a1f-1e1b5df7e7c6\" xlink:show=\"new\" xlink:title=\"psysml:3ec706da-d65f-4ef5-8a1f-1e1b5df7e7c6\" xlink:type=\"simple\"><path d=\"M354.4,207.89 C348.64,227.2 340.95,253.01 334.41,274.99 \" fill=\"none\" id=\"E5-E6\" style=\"stroke: #A80036; stroke-width: 1.0;\"/><polygon fill=\"#A80036\" points=\"331.49,284.79,336.6502,277.9802,330.9001,276.2664,331.49,284.79\" style=\"stroke: #A80036; stroke-width: 1.0;\"/><path d=\"M348.3559,198.5542 A9,9 0 0 0 364.5656 203.3857\" fill=\"none\" style=\"stroke: #A80036; stroke-width: 1.5;\"/><text fill=\"#000000\" font-family=\"sans-serif\" font-size=\"13\" lengthAdjust=\"spacingAndGlyphs\" textLength=\"60\" x=\"345\" y=\"251.0669\">«variant»</text></a><!--MD5=[14ccda38c055a5c0da953d572bc50960]\n",
       "link E7 to E3--><a href=\"psysml:9cf32953-475b-4011-b1f8-e7f09d5ce449\" target=\"_top\" title=\"psysml:9cf32953-475b-4011-b1f8-e7f09d5ce449\" xlink:actuate=\"onRequest\" xlink:href=\"psysml:9cf32953-475b-4011-b1f8-e7f09d5ce449\" xlink:show=\"new\" xlink:title=\"psysml:9cf32953-475b-4011-b1f8-e7f09d5ce449\" xlink:type=\"simple\"><path d=\"M184,87.13 C184,101.57 184,120.83 184,137.81 \" fill=\"none\" id=\"E7-&gt;E3\" style=\"stroke: #A80036; stroke-width: 1.0;\"/><polygon fill=\"#FFFFFF\" points=\"184,157.9,177,138.9,191,138.9,184,157.9\" style=\"stroke: #A80036; stroke-width: 1.0;\"/><ellipse cx=\"179\" cy=\"133.2\" fill=\"#A80036\" rx=\"2\" ry=\"2\" style=\"stroke: #A80036; stroke-width: 1.0;\"/><ellipse cx=\"189\" cy=\"133.2\" fill=\"#A80036\" rx=\"2\" ry=\"2\" style=\"stroke: #A80036; stroke-width: 1.0;\"/></a><!--MD5=[f1f3f9f2fc535e6147756cb86a7f2e32]\n",
       "link E8 to E2--><a href=\"psysml:d1a9bfbc-b159-49c1-a5ca-956a4881ee49\" target=\"_top\" title=\"psysml:d1a9bfbc-b159-49c1-a5ca-956a4881ee49\" xlink:actuate=\"onRequest\" xlink:href=\"psysml:d1a9bfbc-b159-49c1-a5ca-956a4881ee49\" xlink:show=\"new\" xlink:title=\"psysml:d1a9bfbc-b159-49c1-a5ca-956a4881ee49\" xlink:type=\"simple\"><path d=\"M119.32,208.23 C130.4,217.24 142.11,227.55 152,238 C163.47,250.11 174.65,264.47 184.19,277.75 \" fill=\"none\" id=\"E8-&gt;E2\" style=\"stroke: #A80036; stroke-width: 1.0;\"/><polygon fill=\"#FFFFFF\" points=\"195.68,294.32,179.1086,282.6843,190.6186,274.7143,195.68,294.32\" style=\"stroke: #A80036; stroke-width: 1.0;\"/><ellipse cx=\"177.508\" cy=\"276.8595\" fill=\"#A80036\" rx=\"2\" ry=\"2\" style=\"stroke: #A80036; stroke-width: 1.0;\"/><ellipse cx=\"185.7294\" cy=\"271.1667\" fill=\"#A80036\" rx=\"2\" ry=\"2\" style=\"stroke: #A80036; stroke-width: 1.0;\"/></a><!--MD5=[ed10624c06dd9a4fa49ccf290e8b16a8]\n",
       "link E8 to E9--><a href=\"psysml:4574f674-7c12-4143-bfb7-6a6844a72e64\" target=\"_top\" title=\"psysml:4574f674-7c12-4143-bfb7-6a6844a72e64\" xlink:actuate=\"onRequest\" xlink:href=\"psysml:4574f674-7c12-4143-bfb7-6a6844a72e64\" xlink:show=\"new\" xlink:title=\"psysml:4574f674-7c12-4143-bfb7-6a6844a72e64\" xlink:type=\"simple\"><path d=\"M81.12,218.35 C81.61,235.87 82.2,256.61 82.72,274.77 \" fill=\"none\" id=\"E8-E9\" style=\"stroke: #A80036; stroke-width: 1.0;\"/><polygon fill=\"#A80036\" points=\"83,284.83,85.7703,276.7476,79.7727,276.9189,83,284.83\" style=\"stroke: #A80036; stroke-width: 1.0;\"/><path d=\"M72.4641,211.5385 A9,9 0 0 0 89.3717 211.0554\" fill=\"none\" style=\"stroke: #A80036; stroke-width: 1.5;\"/><text fill=\"#000000\" font-family=\"sans-serif\" font-size=\"13\" lengthAdjust=\"spacingAndGlyphs\" textLength=\"60\" x=\"83\" y=\"251.0669\">«variant»</text></a><!--MD5=[0f36bececdf0dff6e600d6f64214b0f1]\n",
       "link E10 to E2--><a href=\"psysml:bd829215-07d4-45cb-8fe9-60748d4dd682\" target=\"_top\" title=\"psysml:bd829215-07d4-45cb-8fe9-60748d4dd682\" xlink:actuate=\"onRequest\" xlink:href=\"psysml:bd829215-07d4-45cb-8fe9-60748d4dd682\" xlink:show=\"new\" xlink:title=\"psysml:bd829215-07d4-45cb-8fe9-60748d4dd682\" xlink:type=\"simple\"><path d=\"M264.31,201.03 C255.55,220.95 242.39,250.89 231.46,275.74 \" fill=\"none\" id=\"E10-&gt;E2\" style=\"stroke: #A80036; stroke-width: 1.0;\"/><polygon fill=\"#FFFFFF\" points=\"223.3,294.3,224.5306,274.089,237.3489,279.7183,223.3,294.3\" style=\"stroke: #A80036; stroke-width: 1.0;\"/><ellipse cx=\"228.6537\" cy=\"269.6742\" fill=\"#A80036\" rx=\"2\" ry=\"2\" style=\"stroke: #A80036; stroke-width: 1.0;\"/><ellipse cx=\"237.8097\" cy=\"273.6952\" fill=\"#A80036\" rx=\"2\" ry=\"2\" style=\"stroke: #A80036; stroke-width: 1.0;\"/></a><!--MD5=[b987ca02f01165333bb65d7ee1b84ee3]\n",
       "@startuml\r\n",
       " \r\n",
       "package \"VariabilityTest\" as E1  [[psysml:6e13bc12-600f-4176-9ee3-c77c18f0da6f ]]  {\r\n",
       "comp def \"P\" as E2 << << (B,green) >> [[psysml:a47e4883-53c6-48e5-9729-358fb18738b5 ]] {\r\n",
       "a\r\n",
       "}\r\n",
       "comp def \"Q\" as E3 << << (B,green) >> [[psysml:64152dcd-188c-4285-9d2f-82b4222731ff ]] {\r\n",
       "}\r\n",
       "comp def \"B\" as E4 << <<(D,brown) attribute def>> [[psysml:6204c3f0-143a-45cc-ac58-9ea86a3a8ea6 ]] {\r\n",
       "}\r\n",
       "comp def \"V\" as E5 << << (B,green) >> [[psysml:58826ca2-a740-4eaa-a71e-521b590388a3 ]] {\r\n",
       "}\r\n",
       "comp usage \"x: Q\" as E6 << << (P,limegreen) part>> [[psysml:c2df0e2e-5a66-4a2b-abfc-b3b4dd7dd2c5 ]] {\r\n",
       "b: B\\n//:>>P::a// \r\n",
       "}\r\n",
       "comp usage \"q: Q\" as E7 << << (P,limegreen) part>> [[psysml:d5aa7800-4c4d-4a74-9f82-8c5d7377a367 ]] {\r\n",
       "}\r\n",
       "comp usage \"v: P\" as E8  <<variation>>\\n<< << (P,limegreen) part>> [[psysml:d7b3804f-80e3-4381-979e-bf8e2501fba8 ]] {\r\n",
       "}\r\n",
       "comp usage \"q\" as E9 << <<(U,orange) reference>> [[psysml:aeeab6cc-3339-44ed-a45c-f65a5d97c376 ]] {\r\n",
       "b: B\\n//:>>P::a// \r\n",
       "}\r\n",
       "comp usage \"y: P\" as E10 << << (P,limegreen) part>> [[psysml:fe63b1e8-840a-4f2e-b06a-2ce986f19d03 ]] {\r\n",
       "}\r\n",
       "E3 - -|> E2 [[psysml:6495a820-e8c0-4129-af26-6722c3b7b9e6 ]] \r\n",
       "E5 - -|> E2 [[psysml:bd00e4e7-d183-497a-b9f8-56660fc51e3e ]] \r\n",
       "E5 )- ->> E6 [[psysml:3ec706da-d65f-4ef5-8a1f-1e1b5df7e7c6 ]] : <<variant>>\r\n",
       "E7 - -:|> E3 [[psysml:9cf32953-475b-4011-b1f8-e7f09d5ce449 ]] \r\n",
       "E8 - -:|> E2 [[psysml:d1a9bfbc-b159-49c1-a5ca-956a4881ee49 ]] \r\n",
       "E8 )- ->> E9 [[psysml:4574f674-7c12-4143-bfb7-6a6844a72e64 ]] : <<variant>>\r\n",
       "E10 - -:|> E2 [[psysml:bd829215-07d4-45cb-8fe9-60748d4dd682 ]] \r\n",
       "}\r\n",
       "@enduml\r\n",
       "\n",
       "PlantUML version 1.2020.13(Sat Jun 13 12:26:38 UTC 2020)\n",
       "(EPL source distribution)\n",
       "Java Runtime: OpenJDK Runtime Environment\n",
       "JVM: OpenJDK 64-Bit Server VM\n",
       "Default Encoding: UTF-8\n",
       "Language: en\n",
       "Country: null\n",
       "--></g></svg>"
      ]
     },
     "execution_count": 35,
     "metadata": {},
     "output_type": "execute_result"
    }
   ],
   "source": [
    "%viz --style=\"PLANTUML\" --view=\"Sequence\" \"VariabilityTest\""
   ]
  },
  {
   "cell_type": "code",
   "execution_count": 36,
   "id": "c34d9e83",
   "metadata": {
    "execution": {
     "iopub.execute_input": "2021-08-04T06:26:50.912045Z",
     "iopub.status.busy": "2021-08-04T06:26:50.911652Z",
     "iopub.status.idle": "2021-08-04T06:26:50.941952Z",
     "shell.execute_reply": "2021-08-04T06:26:50.940567Z"
    }
   },
   "outputs": [
    {
     "data": {
      "image/svg+xml": [
       "<?xml version=\"1.0\" encoding=\"UTF-8\" standalone=\"no\"?><svg xmlns=\"http://www.w3.org/2000/svg\" xmlns:xlink=\"http://www.w3.org/1999/xlink\" contentScriptType=\"application/ecmascript\" contentStyleType=\"text/css\" height=\"385px\" preserveAspectRatio=\"none\" style=\"width:421px;height:385px;\" version=\"1.1\" viewBox=\"0 0 421 385\" width=\"421px\" zoomAndPan=\"magnify\"><defs><filter height=\"300%\" id=\"f1jlvh6464ajmn\" width=\"300%\" x=\"-1\" y=\"-1\"><feGaussianBlur result=\"blurOut\" stdDeviation=\"2.0\"/><feColorMatrix in=\"blurOut\" result=\"blurOut2\" type=\"matrix\" values=\"0 0 0 0 0 0 0 0 0 0 0 0 0 0 0 0 0 0 .4 0\"/><feOffset dx=\"4.0\" dy=\"4.0\" in=\"blurOut2\" result=\"blurOut3\"/><feBlend in=\"SourceGraphic\" in2=\"blurOut3\" mode=\"normal\"/></filter></defs><g><!--MD5=[fbc87193dbaf4d95561dea2c320d4a47]\n",
       "cluster E1--><a href=\"psysml:6e13bc12-600f-4176-9ee3-c77c18f0da6f\" target=\"_top\" title=\"psysml:6e13bc12-600f-4176-9ee3-c77c18f0da6f\" xlink:actuate=\"onRequest\" xlink:href=\"psysml:6e13bc12-600f-4176-9ee3-c77c18f0da6f\" xlink:show=\"new\" xlink:title=\"psysml:6e13bc12-600f-4176-9ee3-c77c18f0da6f\" xlink:type=\"simple\"><polygon fill=\"#FFFFFF\" filter=\"url(#f1jlvh6464ajmn)\" points=\"16,6,134,6,141,28.2969,399,28.2969,399,373,16,373,16,6\" style=\"stroke: #000000; stroke-width: 1.5;\"/><line style=\"stroke: #000000; stroke-width: 1.5;\" x1=\"16\" x2=\"141\" y1=\"28.2969\" y2=\"28.2969\"/><text fill=\"#000000\" font-family=\"sans-serif\" font-size=\"14\" font-weight=\"bold\" lengthAdjust=\"spacingAndGlyphs\" textLength=\"112\" x=\"20\" y=\"20.9951\">VariabilityTest</text></a><!--MD5=[b4997ac47864f28c2f74865a473b2911]\n",
       "class E2--><a href=\"psysml:a47e4883-53c6-48e5-9729-358fb18738b5\" target=\"_top\" title=\"psysml:a47e4883-53c6-48e5-9729-358fb18738b5\" xlink:actuate=\"onRequest\" xlink:href=\"psysml:a47e4883-53c6-48e5-9729-358fb18738b5\" xlink:show=\"new\" xlink:title=\"psysml:a47e4883-53c6-48e5-9729-358fb18738b5\" xlink:type=\"simple\"><rect fill=\"#FEFECE\" filter=\"url(#f1jlvh6464ajmn)\" height=\"52.8047\" id=\"E2\" style=\"stroke: #A80036; stroke-width: 1.5;\" width=\"40\" x=\"192\" y=\"294.5\"/><ellipse cx=\"207\" cy=\"310.5\" fill=\"#008000\" rx=\"11\" ry=\"11\" style=\"stroke: #A80036; stroke-width: 1.0;\"/><path d=\"M205.9063,310.875 L205.9063,314.5469 L207.5313,314.5469 Q208.7031,314.5469 209.1719,314.1563 Q209.6406,313.75 209.6406,312.75 Q209.6406,311.75 209.1406,311.3125 Q208.6563,310.875 207.5313,310.875 L205.9063,310.875 Z M205.9063,306.0469 L205.9063,308.9219 L207.5313,308.9219 Q208.4531,308.9219 208.8438,308.5938 Q209.25,308.25 209.25,307.5 Q209.25,306.7344 208.8438,306.3906 Q208.4375,306.0469 207.5313,306.0469 L205.9063,306.0469 Z M203.5313,304.0938 L207.5313,304.0938 Q209.5938,304.0938 210.6406,304.875 Q211.6875,305.6563 211.6875,307.2188 Q211.6875,308.4219 211.0625,309.0938 Q210.4531,309.7656 209.2656,309.875 Q210.6875,310.0156 211.4063,310.8281 Q212.125,311.6406 212.125,313.0938 Q212.125,314.8906 211.0469,315.7031 Q209.9688,316.5 207.5313,316.5 L203.5313,316.5 L203.5313,304.0938 Z \"/><text fill=\"#000000\" font-family=\"sans-serif\" font-size=\"12\" lengthAdjust=\"spacingAndGlyphs\" textLength=\"8\" x=\"221\" y=\"314.6543\">P</text><line style=\"stroke: #A80036; stroke-width: 1.5;\" x1=\"193\" x2=\"231\" y1=\"326.5\" y2=\"326.5\"/><text fill=\"#000000\" font-family=\"sans-serif\" font-size=\"11\" lengthAdjust=\"spacingAndGlyphs\" textLength=\"7\" x=\"198\" y=\"340.7104\">a</text></a><!--MD5=[09b614a08d8cba4a07c9adeb5e0fee81]\n",
       "class E3--><a href=\"psysml:64152dcd-188c-4285-9d2f-82b4222731ff\" target=\"_top\" title=\"psysml:64152dcd-188c-4285-9d2f-82b4222731ff\" xlink:actuate=\"onRequest\" xlink:href=\"psysml:64152dcd-188c-4285-9d2f-82b4222731ff\" xlink:show=\"new\" xlink:title=\"psysml:64152dcd-188c-4285-9d2f-82b4222731ff\" xlink:type=\"simple\"><rect fill=\"#FEFECE\" filter=\"url(#f1jlvh6464ajmn)\" height=\"40\" id=\"E3\" style=\"stroke: #A80036; stroke-width: 1.5;\" width=\"41\" x=\"163.5\" y=\"158\"/><ellipse cx=\"178.5\" cy=\"174\" fill=\"#008000\" rx=\"11\" ry=\"11\" style=\"stroke: #A80036; stroke-width: 1.0;\"/><path d=\"M177.4063,174.375 L177.4063,178.0469 L179.0313,178.0469 Q180.2031,178.0469 180.6719,177.6563 Q181.1406,177.25 181.1406,176.25 Q181.1406,175.25 180.6406,174.8125 Q180.1563,174.375 179.0313,174.375 L177.4063,174.375 Z M177.4063,169.5469 L177.4063,172.4219 L179.0313,172.4219 Q179.9531,172.4219 180.3438,172.0938 Q180.75,171.75 180.75,171 Q180.75,170.2344 180.3438,169.8906 Q179.9375,169.5469 179.0313,169.5469 L177.4063,169.5469 Z M175.0313,167.5938 L179.0313,167.5938 Q181.0938,167.5938 182.1406,168.375 Q183.1875,169.1563 183.1875,170.7188 Q183.1875,171.9219 182.5625,172.5938 Q181.9531,173.2656 180.7656,173.375 Q182.1875,173.5156 182.9063,174.3281 Q183.625,175.1406 183.625,176.5938 Q183.625,178.3906 182.5469,179.2031 Q181.4688,180 179.0313,180 L175.0313,180 L175.0313,167.5938 Z \"/><text fill=\"#000000\" font-family=\"sans-serif\" font-size=\"12\" lengthAdjust=\"spacingAndGlyphs\" textLength=\"9\" x=\"192.5\" y=\"178.1543\">Q</text><line style=\"stroke: #A80036; stroke-width: 1.5;\" x1=\"164.5\" x2=\"203.5\" y1=\"190\" y2=\"190\"/></a><!--MD5=[ebbe1d658d1005bcc118a6aa81145e00]\n",
       "class E4--><a href=\"psysml:6204c3f0-143a-45cc-ac58-9ea86a3a8ea6\" target=\"_top\" title=\"psysml:6204c3f0-143a-45cc-ac58-9ea86a3a8ea6\" xlink:actuate=\"onRequest\" xlink:href=\"psysml:6204c3f0-143a-45cc-ac58-9ea86a3a8ea6\" xlink:show=\"new\" xlink:title=\"psysml:6204c3f0-143a-45cc-ac58-9ea86a3a8ea6\" xlink:type=\"simple\"><rect fill=\"#FEFECE\" filter=\"url(#f1jlvh6464ajmn)\" height=\"45.9375\" id=\"E4\" style=\"stroke: #A80036; stroke-width: 1.5;\" width=\"121\" x=\"257.5\" y=\"41\"/><ellipse cx=\"272.5\" cy=\"59.9688\" fill=\"#A52A2A\" rx=\"11\" ry=\"11\" style=\"stroke: #A80036; stroke-width: 1.0;\"/><path d=\"M272.0938,55.7813 L272.0938,63.7656 L272.75,63.7656 Q274.1875,63.7656 274.7969,62.8594 Q275.4219,61.9375 275.4219,59.7656 Q275.4219,57.5938 274.7969,56.6875 Q274.1875,55.7813 272.75,55.7813 L272.0938,55.7813 Z M269.6406,53.5781 L272.2656,53.5781 Q275.2969,53.5781 276.625,55.0313 Q277.9688,56.4688 277.9688,59.7656 Q277.9688,63.0625 276.625,64.5156 Q275.2969,65.9688 272.2656,65.9688 L269.6406,65.9688 L269.6406,53.5781 Z \"/><text fill=\"#000000\" font-family=\"sans-serif\" font-size=\"12\" font-style=\"italic\" lengthAdjust=\"spacingAndGlyphs\" textLength=\"93\" x=\"284.5\" y=\"57.1387\">«attribute def»</text><text fill=\"#000000\" font-family=\"sans-serif\" font-size=\"12\" lengthAdjust=\"spacingAndGlyphs\" textLength=\"8\" x=\"327\" y=\"71.1074\">B</text><line style=\"stroke: #A80036; stroke-width: 1.5;\" x1=\"258.5\" x2=\"377.5\" y1=\"78.9375\" y2=\"78.9375\"/></a><!--MD5=[270fce915f116d4de14055a7c1d9a0f3]\n",
       "class E5--><a href=\"psysml:58826ca2-a740-4eaa-a71e-521b590388a3\" target=\"_top\" title=\"psysml:58826ca2-a740-4eaa-a71e-521b590388a3\" xlink:actuate=\"onRequest\" xlink:href=\"psysml:58826ca2-a740-4eaa-a71e-521b590388a3\" xlink:show=\"new\" xlink:title=\"psysml:58826ca2-a740-4eaa-a71e-521b590388a3\" xlink:type=\"simple\"><rect fill=\"#FEFECE\" filter=\"url(#f1jlvh6464ajmn)\" height=\"40\" id=\"E5\" style=\"stroke: #A80036; stroke-width: 1.5;\" width=\"40\" x=\"343\" y=\"158\"/><ellipse cx=\"358\" cy=\"174\" fill=\"#008000\" rx=\"11\" ry=\"11\" style=\"stroke: #A80036; stroke-width: 1.0;\"/><path d=\"M356.9063,174.375 L356.9063,178.0469 L358.5313,178.0469 Q359.7031,178.0469 360.1719,177.6563 Q360.6406,177.25 360.6406,176.25 Q360.6406,175.25 360.1406,174.8125 Q359.6563,174.375 358.5313,174.375 L356.9063,174.375 Z M356.9063,169.5469 L356.9063,172.4219 L358.5313,172.4219 Q359.4531,172.4219 359.8438,172.0938 Q360.25,171.75 360.25,171 Q360.25,170.2344 359.8438,169.8906 Q359.4375,169.5469 358.5313,169.5469 L356.9063,169.5469 Z M354.5313,167.5938 L358.5313,167.5938 Q360.5938,167.5938 361.6406,168.375 Q362.6875,169.1563 362.6875,170.7188 Q362.6875,171.9219 362.0625,172.5938 Q361.4531,173.2656 360.2656,173.375 Q361.6875,173.5156 362.4063,174.3281 Q363.125,175.1406 363.125,176.5938 Q363.125,178.3906 362.0469,179.2031 Q360.9688,180 358.5313,180 L354.5313,180 L354.5313,167.5938 Z \"/><text fill=\"#000000\" font-family=\"sans-serif\" font-size=\"12\" lengthAdjust=\"spacingAndGlyphs\" textLength=\"8\" x=\"372\" y=\"178.1543\">V</text><line style=\"stroke: #A80036; stroke-width: 1.5;\" x1=\"344\" x2=\"382\" y1=\"190\" y2=\"190\"/></a><!--MD5=[60a26617385b1d2d0262a64233df1f8d]\n",
       "class E6--><a href=\"psysml:c2df0e2e-5a66-4a2b-abfc-b3b4dd7dd2c5\" target=\"_top\" title=\"psysml:c2df0e2e-5a66-4a2b-abfc-b3b4dd7dd2c5\" xlink:actuate=\"onRequest\" xlink:href=\"psysml:c2df0e2e-5a66-4a2b-abfc-b3b4dd7dd2c5\" xlink:show=\"new\" xlink:title=\"psysml:c2df0e2e-5a66-4a2b-abfc-b3b4dd7dd2c5\" xlink:type=\"simple\"><rect fill=\"#FEFECE\" filter=\"url(#f1jlvh6464ajmn)\" height=\"71.5469\" id=\"E6\" rx=\"10\" ry=\"10\" style=\"stroke: #A80036; stroke-width: 1.5;\" width=\"68\" x=\"287\" y=\"285\"/><ellipse cx=\"302\" cy=\"303.9688\" fill=\"#32CD32\" rx=\"11\" ry=\"11\" style=\"stroke: #A80036; stroke-width: 1.0;\"/><path d=\"M301.7969,299.6406 L301.7969,303.2656 L302.7969,303.2656 Q304,303.2656 304.4844,302.8594 Q304.9688,302.4531 304.9688,301.4531 Q304.9688,300.4531 304.4844,300.0469 Q304,299.6406 302.7969,299.6406 L301.7969,299.6406 Z M299.3438,297.5781 L302.7031,297.5781 Q305.2656,297.5781 306.3906,298.5 Q307.5156,299.4063 307.5156,301.4531 Q307.5156,303.5 306.3906,304.4219 Q305.2656,305.3281 302.7031,305.3281 L301.7969,305.3281 L301.7969,309.9688 L299.3438,309.9688 L299.3438,297.5781 Z \"/><text fill=\"#000000\" font-family=\"sans-serif\" font-size=\"12\" font-style=\"italic\" lengthAdjust=\"spacingAndGlyphs\" textLength=\"40\" x=\"314\" y=\"301.1387\">«part»</text><text fill=\"#000000\" font-family=\"sans-serif\" font-size=\"12\" lengthAdjust=\"spacingAndGlyphs\" textLength=\"23\" x=\"322.5\" y=\"315.1074\">x: Q</text><line style=\"stroke: #A80036; stroke-width: 1.5;\" x1=\"288\" x2=\"354\" y1=\"322.9375\" y2=\"322.9375\"/><text fill=\"#000000\" font-family=\"sans-serif\" font-size=\"11\" lengthAdjust=\"spacingAndGlyphs\" textLength=\"23\" x=\"293\" y=\"337.1479\">b: B</text><text fill=\"#000000\" font-family=\"sans-serif\" font-size=\"11\" font-style=\"italic\" lengthAdjust=\"spacingAndGlyphs\" textLength=\"44\" x=\"293\" y=\"349.9526\">:&gt;&gt;P::a</text></a><!--MD5=[2156ba9850f5573cc1fc38a6a4b2f02b]\n",
       "class E7--><a href=\"psysml:d5aa7800-4c4d-4a74-9f82-8c5d7377a367\" target=\"_top\" title=\"psysml:d5aa7800-4c4d-4a74-9f82-8c5d7377a367\" xlink:actuate=\"onRequest\" xlink:href=\"psysml:d5aa7800-4c4d-4a74-9f82-8c5d7377a367\" xlink:show=\"new\" xlink:title=\"psysml:d5aa7800-4c4d-4a74-9f82-8c5d7377a367\" xlink:type=\"simple\"><rect fill=\"#FEFECE\" filter=\"url(#f1jlvh6464ajmn)\" height=\"45.9375\" id=\"E7\" rx=\"10\" ry=\"10\" style=\"stroke: #A80036; stroke-width: 1.5;\" width=\"68\" x=\"150\" y=\"41\"/><ellipse cx=\"165\" cy=\"59.9688\" fill=\"#32CD32\" rx=\"11\" ry=\"11\" style=\"stroke: #A80036; stroke-width: 1.0;\"/><path d=\"M164.7969,55.6406 L164.7969,59.2656 L165.7969,59.2656 Q167,59.2656 167.4844,58.8594 Q167.9688,58.4531 167.9688,57.4531 Q167.9688,56.4531 167.4844,56.0469 Q167,55.6406 165.7969,55.6406 L164.7969,55.6406 Z M162.3438,53.5781 L165.7031,53.5781 Q168.2656,53.5781 169.3906,54.5 Q170.5156,55.4063 170.5156,57.4531 Q170.5156,59.5 169.3906,60.4219 Q168.2656,61.3281 165.7031,61.3281 L164.7969,61.3281 L164.7969,65.9688 L162.3438,65.9688 L162.3438,53.5781 Z \"/><text fill=\"#000000\" font-family=\"sans-serif\" font-size=\"12\" font-style=\"italic\" lengthAdjust=\"spacingAndGlyphs\" textLength=\"40\" x=\"177\" y=\"57.1387\">«part»</text><text fill=\"#000000\" font-family=\"sans-serif\" font-size=\"12\" lengthAdjust=\"spacingAndGlyphs\" textLength=\"25\" x=\"184.5\" y=\"71.1074\">q: Q</text><line style=\"stroke: #A80036; stroke-width: 1.5;\" x1=\"151\" x2=\"217\" y1=\"78.9375\" y2=\"78.9375\"/></a><!--MD5=[b9389687b975829384b498ac4b7476b2]\n",
       "class E8--><a href=\"psysml:d7b3804f-80e3-4381-979e-bf8e2501fba8\" target=\"_top\" title=\"psysml:d7b3804f-80e3-4381-979e-bf8e2501fba8\" xlink:actuate=\"onRequest\" xlink:href=\"psysml:d7b3804f-80e3-4381-979e-bf8e2501fba8\" xlink:show=\"new\" xlink:title=\"psysml:d7b3804f-80e3-4381-979e-bf8e2501fba8\" xlink:type=\"simple\"><rect fill=\"#FEFECE\" filter=\"url(#f1jlvh6464ajmn)\" height=\"59.9063\" id=\"E8\" rx=\"10\" ry=\"10\" style=\"stroke: #A80036; stroke-width: 1.5;\" width=\"96\" x=\"32\" y=\"148\"/><ellipse cx=\"47\" cy=\"173.9531\" fill=\"#32CD32\" rx=\"11\" ry=\"11\" style=\"stroke: #A80036; stroke-width: 1.0;\"/><path d=\"M46.7969,169.625 L46.7969,173.25 L47.7969,173.25 Q49,173.25 49.4844,172.8438 Q49.9688,172.4375 49.9688,171.4375 Q49.9688,170.4375 49.4844,170.0313 Q49,169.625 47.7969,169.625 L46.7969,169.625 Z M44.3438,167.5625 L47.7031,167.5625 Q50.2656,167.5625 51.3906,168.4844 Q52.5156,169.3906 52.5156,171.4375 Q52.5156,173.4844 51.3906,174.4063 Q50.2656,175.3125 47.7031,175.3125 L46.7969,175.3125 L46.7969,179.9531 L44.3438,179.9531 L44.3438,167.5625 Z \"/><text fill=\"#000000\" font-family=\"sans-serif\" font-size=\"12\" font-style=\"italic\" lengthAdjust=\"spacingAndGlyphs\" textLength=\"68\" x=\"59\" y=\"164.1387\">«variation»</text><text fill=\"#000000\" font-family=\"sans-serif\" font-size=\"12\" font-style=\"italic\" lengthAdjust=\"spacingAndGlyphs\" textLength=\"40\" x=\"73\" y=\"178.1074\">«part»</text><text fill=\"#000000\" font-family=\"sans-serif\" font-size=\"12\" lengthAdjust=\"spacingAndGlyphs\" textLength=\"22\" x=\"82\" y=\"192.0762\">v: P</text><line style=\"stroke: #A80036; stroke-width: 1.5;\" x1=\"33\" x2=\"127\" y1=\"199.9063\" y2=\"199.9063\"/></a><!--MD5=[fd4143e9d270a159db93a4ea2a975926]\n",
       "class E9--><a href=\"psysml:aeeab6cc-3339-44ed-a45c-f65a5d97c376\" target=\"_top\" title=\"psysml:aeeab6cc-3339-44ed-a45c-f65a5d97c376\" xlink:actuate=\"onRequest\" xlink:href=\"psysml:aeeab6cc-3339-44ed-a45c-f65a5d97c376\" xlink:show=\"new\" xlink:title=\"psysml:aeeab6cc-3339-44ed-a45c-f65a5d97c376\" xlink:type=\"simple\"><rect fill=\"#FEFECE\" filter=\"url(#f1jlvh6464ajmn)\" height=\"71.5469\" id=\"E9\" rx=\"10\" ry=\"10\" style=\"stroke: #A80036; stroke-width: 1.5;\" width=\"103\" x=\"32.5\" y=\"285\"/><ellipse cx=\"47.5\" cy=\"303.9688\" fill=\"#FFA500\" rx=\"11\" ry=\"11\" style=\"stroke: #A80036; stroke-width: 1.0;\"/><path d=\"M43.375,305.8906 L43.375,298.0781 L45.8281,298.0781 L45.8281,306.5156 Q45.8281,307.4375 46.2969,307.9688 Q46.7813,308.5 47.6094,308.5 Q48.4531,308.5 48.9219,307.9688 Q49.3906,307.4375 49.3906,306.5156 L49.3906,298.0781 L51.8438,298.0781 L51.8438,305.8906 Q51.8438,308.4219 50.8438,309.5625 Q49.8438,310.7031 47.6094,310.7031 Q45.3906,310.7031 44.375,309.5625 Q43.375,308.4219 43.375,305.8906 Z \"/><text fill=\"#000000\" font-family=\"sans-serif\" font-size=\"12\" font-style=\"italic\" lengthAdjust=\"spacingAndGlyphs\" textLength=\"75\" x=\"59.5\" y=\"301.1387\">«reference»</text><text fill=\"#000000\" font-family=\"sans-serif\" font-size=\"12\" lengthAdjust=\"spacingAndGlyphs\" textLength=\"8\" x=\"93\" y=\"315.1074\">q</text><line style=\"stroke: #A80036; stroke-width: 1.5;\" x1=\"33.5\" x2=\"134.5\" y1=\"322.9375\" y2=\"322.9375\"/><text fill=\"#000000\" font-family=\"sans-serif\" font-size=\"11\" lengthAdjust=\"spacingAndGlyphs\" textLength=\"23\" x=\"38.5\" y=\"337.1479\">b: B</text><text fill=\"#000000\" font-family=\"sans-serif\" font-size=\"11\" font-style=\"italic\" lengthAdjust=\"spacingAndGlyphs\" textLength=\"44\" x=\"38.5\" y=\"349.9526\">:&gt;&gt;P::a</text></a><!--MD5=[96f4274e9e20536e775497830990834d]\n",
       "class E10--><a href=\"psysml:fe63b1e8-840a-4f2e-b06a-2ce986f19d03\" target=\"_top\" title=\"psysml:fe63b1e8-840a-4f2e-b06a-2ce986f19d03\" xlink:actuate=\"onRequest\" xlink:href=\"psysml:fe63b1e8-840a-4f2e-b06a-2ce986f19d03\" xlink:show=\"new\" xlink:title=\"psysml:fe63b1e8-840a-4f2e-b06a-2ce986f19d03\" xlink:type=\"simple\"><rect fill=\"#FEFECE\" filter=\"url(#f1jlvh6464ajmn)\" height=\"45.9375\" id=\"E10\" rx=\"10\" ry=\"10\" style=\"stroke: #A80036; stroke-width: 1.5;\" width=\"68\" x=\"240\" y=\"155\"/><ellipse cx=\"255\" cy=\"173.9688\" fill=\"#32CD32\" rx=\"11\" ry=\"11\" style=\"stroke: #A80036; stroke-width: 1.0;\"/><path d=\"M254.7969,169.6406 L254.7969,173.2656 L255.7969,173.2656 Q257,173.2656 257.4844,172.8594 Q257.9688,172.4531 257.9688,171.4531 Q257.9688,170.4531 257.4844,170.0469 Q257,169.6406 255.7969,169.6406 L254.7969,169.6406 Z M252.3438,167.5781 L255.7031,167.5781 Q258.2656,167.5781 259.3906,168.5 Q260.5156,169.4063 260.5156,171.4531 Q260.5156,173.5 259.3906,174.4219 Q258.2656,175.3281 255.7031,175.3281 L254.7969,175.3281 L254.7969,179.9688 L252.3438,179.9688 L252.3438,167.5781 Z \"/><text fill=\"#000000\" font-family=\"sans-serif\" font-size=\"12\" font-style=\"italic\" lengthAdjust=\"spacingAndGlyphs\" textLength=\"40\" x=\"267\" y=\"171.1387\">«part»</text><text fill=\"#000000\" font-family=\"sans-serif\" font-size=\"12\" lengthAdjust=\"spacingAndGlyphs\" textLength=\"22\" x=\"276\" y=\"185.1074\">y: P</text><line style=\"stroke: #A80036; stroke-width: 1.5;\" x1=\"241\" x2=\"307\" y1=\"192.9375\" y2=\"192.9375\"/></a><!--MD5=[05d275557350bfb9b23a4ef7222b4c39]\n",
       "link E3 to E2--><a href=\"psysml:6495a820-e8c0-4129-af26-6722c3b7b9e6\" target=\"_top\" title=\"psysml:6495a820-e8c0-4129-af26-6722c3b7b9e6\" xlink:actuate=\"onRequest\" xlink:href=\"psysml:6495a820-e8c0-4129-af26-6722c3b7b9e6\" xlink:show=\"new\" xlink:title=\"psysml:6495a820-e8c0-4129-af26-6722c3b7b9e6\" xlink:type=\"simple\"><path d=\"M187.78,198.02 C191.66,217.55 197.84,248.68 202.99,274.61 \" fill=\"none\" id=\"E3-&gt;E2\" style=\"stroke: #A80036; stroke-width: 1.0;\"/><polygon fill=\"none\" points=\"209.88,273.39,206.91,294.37,196.15,276.12,209.88,273.39\" style=\"stroke: #A80036; stroke-width: 1.0;\"/></a><!--MD5=[15ebcb19ae302d9b601edb458606d402]\n",
       "link E5 to E2--><a href=\"psysml:bd00e4e7-d183-497a-b9f8-56660fc51e3e\" target=\"_top\" title=\"psysml:bd00e4e7-d183-497a-b9f8-56660fc51e3e\" xlink:actuate=\"onRequest\" xlink:href=\"psysml:bd00e4e7-d183-497a-b9f8-56660fc51e3e\" xlink:show=\"new\" xlink:title=\"psysml:bd00e4e7-d183-497a-b9f8-56660fc51e3e\" xlink:type=\"simple\"><path d=\"M342.95,197.72 C318.47,220.58 276.65,259.63 246.86,287.45 \" fill=\"none\" id=\"E5-&gt;E2\" style=\"stroke: #A80036; stroke-width: 1.0;\"/><polygon fill=\"none\" points=\"251.53,292.67,232.13,301.2,241.98,282.43,251.53,292.67\" style=\"stroke: #A80036; stroke-width: 1.0;\"/></a><!--MD5=[9120cf2e5df3bff93db8f754bbbc09b4]\n",
       "link E5 to E6--><a href=\"psysml:3ec706da-d65f-4ef5-8a1f-1e1b5df7e7c6\" target=\"_top\" title=\"psysml:3ec706da-d65f-4ef5-8a1f-1e1b5df7e7c6\" xlink:actuate=\"onRequest\" xlink:href=\"psysml:3ec706da-d65f-4ef5-8a1f-1e1b5df7e7c6\" xlink:show=\"new\" xlink:title=\"psysml:3ec706da-d65f-4ef5-8a1f-1e1b5df7e7c6\" xlink:type=\"simple\"><path d=\"M354.4,207.89 C348.64,227.2 340.95,253.01 334.41,274.99 \" fill=\"none\" id=\"E5-E6\" style=\"stroke: #A80036; stroke-width: 1.0;\"/><polygon fill=\"#A80036\" points=\"331.49,284.79,336.6502,277.9802,330.9001,276.2664,331.49,284.79\" style=\"stroke: #A80036; stroke-width: 1.0;\"/><path d=\"M348.3559,198.5542 A9,9 0 0 0 364.5656 203.3857\" fill=\"none\" style=\"stroke: #A80036; stroke-width: 1.5;\"/><text fill=\"#000000\" font-family=\"sans-serif\" font-size=\"13\" lengthAdjust=\"spacingAndGlyphs\" textLength=\"60\" x=\"345\" y=\"251.0669\">«variant»</text></a><!--MD5=[14ccda38c055a5c0da953d572bc50960]\n",
       "link E7 to E3--><a href=\"psysml:9cf32953-475b-4011-b1f8-e7f09d5ce449\" target=\"_top\" title=\"psysml:9cf32953-475b-4011-b1f8-e7f09d5ce449\" xlink:actuate=\"onRequest\" xlink:href=\"psysml:9cf32953-475b-4011-b1f8-e7f09d5ce449\" xlink:show=\"new\" xlink:title=\"psysml:9cf32953-475b-4011-b1f8-e7f09d5ce449\" xlink:type=\"simple\"><path d=\"M184,87.13 C184,101.57 184,120.83 184,137.81 \" fill=\"none\" id=\"E7-&gt;E3\" style=\"stroke: #A80036; stroke-width: 1.0;\"/><polygon fill=\"#FFFFFF\" points=\"184,157.9,177,138.9,191,138.9,184,157.9\" style=\"stroke: #A80036; stroke-width: 1.0;\"/><ellipse cx=\"179\" cy=\"133.2\" fill=\"#A80036\" rx=\"2\" ry=\"2\" style=\"stroke: #A80036; stroke-width: 1.0;\"/><ellipse cx=\"189\" cy=\"133.2\" fill=\"#A80036\" rx=\"2\" ry=\"2\" style=\"stroke: #A80036; stroke-width: 1.0;\"/></a><!--MD5=[f1f3f9f2fc535e6147756cb86a7f2e32]\n",
       "link E8 to E2--><a href=\"psysml:d1a9bfbc-b159-49c1-a5ca-956a4881ee49\" target=\"_top\" title=\"psysml:d1a9bfbc-b159-49c1-a5ca-956a4881ee49\" xlink:actuate=\"onRequest\" xlink:href=\"psysml:d1a9bfbc-b159-49c1-a5ca-956a4881ee49\" xlink:show=\"new\" xlink:title=\"psysml:d1a9bfbc-b159-49c1-a5ca-956a4881ee49\" xlink:type=\"simple\"><path d=\"M119.32,208.23 C130.4,217.24 142.11,227.55 152,238 C163.47,250.11 174.65,264.47 184.19,277.75 \" fill=\"none\" id=\"E8-&gt;E2\" style=\"stroke: #A80036; stroke-width: 1.0;\"/><polygon fill=\"#FFFFFF\" points=\"195.68,294.32,179.1086,282.6843,190.6186,274.7143,195.68,294.32\" style=\"stroke: #A80036; stroke-width: 1.0;\"/><ellipse cx=\"177.508\" cy=\"276.8595\" fill=\"#A80036\" rx=\"2\" ry=\"2\" style=\"stroke: #A80036; stroke-width: 1.0;\"/><ellipse cx=\"185.7294\" cy=\"271.1667\" fill=\"#A80036\" rx=\"2\" ry=\"2\" style=\"stroke: #A80036; stroke-width: 1.0;\"/></a><!--MD5=[ed10624c06dd9a4fa49ccf290e8b16a8]\n",
       "link E8 to E9--><a href=\"psysml:4574f674-7c12-4143-bfb7-6a6844a72e64\" target=\"_top\" title=\"psysml:4574f674-7c12-4143-bfb7-6a6844a72e64\" xlink:actuate=\"onRequest\" xlink:href=\"psysml:4574f674-7c12-4143-bfb7-6a6844a72e64\" xlink:show=\"new\" xlink:title=\"psysml:4574f674-7c12-4143-bfb7-6a6844a72e64\" xlink:type=\"simple\"><path d=\"M81.12,218.35 C81.61,235.87 82.2,256.61 82.72,274.77 \" fill=\"none\" id=\"E8-E9\" style=\"stroke: #A80036; stroke-width: 1.0;\"/><polygon fill=\"#A80036\" points=\"83,284.83,85.7703,276.7476,79.7727,276.9189,83,284.83\" style=\"stroke: #A80036; stroke-width: 1.0;\"/><path d=\"M72.4641,211.5385 A9,9 0 0 0 89.3717 211.0554\" fill=\"none\" style=\"stroke: #A80036; stroke-width: 1.5;\"/><text fill=\"#000000\" font-family=\"sans-serif\" font-size=\"13\" lengthAdjust=\"spacingAndGlyphs\" textLength=\"60\" x=\"83\" y=\"251.0669\">«variant»</text></a><!--MD5=[0f36bececdf0dff6e600d6f64214b0f1]\n",
       "link E10 to E2--><a href=\"psysml:bd829215-07d4-45cb-8fe9-60748d4dd682\" target=\"_top\" title=\"psysml:bd829215-07d4-45cb-8fe9-60748d4dd682\" xlink:actuate=\"onRequest\" xlink:href=\"psysml:bd829215-07d4-45cb-8fe9-60748d4dd682\" xlink:show=\"new\" xlink:title=\"psysml:bd829215-07d4-45cb-8fe9-60748d4dd682\" xlink:type=\"simple\"><path d=\"M264.31,201.03 C255.55,220.95 242.39,250.89 231.46,275.74 \" fill=\"none\" id=\"E10-&gt;E2\" style=\"stroke: #A80036; stroke-width: 1.0;\"/><polygon fill=\"#FFFFFF\" points=\"223.3,294.3,224.5306,274.089,237.3489,279.7183,223.3,294.3\" style=\"stroke: #A80036; stroke-width: 1.0;\"/><ellipse cx=\"228.6537\" cy=\"269.6742\" fill=\"#A80036\" rx=\"2\" ry=\"2\" style=\"stroke: #A80036; stroke-width: 1.0;\"/><ellipse cx=\"237.8097\" cy=\"273.6952\" fill=\"#A80036\" rx=\"2\" ry=\"2\" style=\"stroke: #A80036; stroke-width: 1.0;\"/></a><!--MD5=[b987ca02f01165333bb65d7ee1b84ee3]\n",
       "@startuml\r\n",
       " \r\n",
       "package \"VariabilityTest\" as E1  [[psysml:6e13bc12-600f-4176-9ee3-c77c18f0da6f ]]  {\r\n",
       "comp def \"P\" as E2 << << (B,green) >> [[psysml:a47e4883-53c6-48e5-9729-358fb18738b5 ]] {\r\n",
       "a\r\n",
       "}\r\n",
       "comp def \"Q\" as E3 << << (B,green) >> [[psysml:64152dcd-188c-4285-9d2f-82b4222731ff ]] {\r\n",
       "}\r\n",
       "comp def \"B\" as E4 << <<(D,brown) attribute def>> [[psysml:6204c3f0-143a-45cc-ac58-9ea86a3a8ea6 ]] {\r\n",
       "}\r\n",
       "comp def \"V\" as E5 << << (B,green) >> [[psysml:58826ca2-a740-4eaa-a71e-521b590388a3 ]] {\r\n",
       "}\r\n",
       "comp usage \"x: Q\" as E6 << << (P,limegreen) part>> [[psysml:c2df0e2e-5a66-4a2b-abfc-b3b4dd7dd2c5 ]] {\r\n",
       "b: B\\n//:>>P::a// \r\n",
       "}\r\n",
       "comp usage \"q: Q\" as E7 << << (P,limegreen) part>> [[psysml:d5aa7800-4c4d-4a74-9f82-8c5d7377a367 ]] {\r\n",
       "}\r\n",
       "comp usage \"v: P\" as E8  <<variation>>\\n<< << (P,limegreen) part>> [[psysml:d7b3804f-80e3-4381-979e-bf8e2501fba8 ]] {\r\n",
       "}\r\n",
       "comp usage \"q\" as E9 << <<(U,orange) reference>> [[psysml:aeeab6cc-3339-44ed-a45c-f65a5d97c376 ]] {\r\n",
       "b: B\\n//:>>P::a// \r\n",
       "}\r\n",
       "comp usage \"y: P\" as E10 << << (P,limegreen) part>> [[psysml:fe63b1e8-840a-4f2e-b06a-2ce986f19d03 ]] {\r\n",
       "}\r\n",
       "E3 - -|> E2 [[psysml:6495a820-e8c0-4129-af26-6722c3b7b9e6 ]] \r\n",
       "E5 - -|> E2 [[psysml:bd00e4e7-d183-497a-b9f8-56660fc51e3e ]] \r\n",
       "E5 )- ->> E6 [[psysml:3ec706da-d65f-4ef5-8a1f-1e1b5df7e7c6 ]] : <<variant>>\r\n",
       "E7 - -:|> E3 [[psysml:9cf32953-475b-4011-b1f8-e7f09d5ce449 ]] \r\n",
       "E8 - -:|> E2 [[psysml:d1a9bfbc-b159-49c1-a5ca-956a4881ee49 ]] \r\n",
       "E8 )- ->> E9 [[psysml:4574f674-7c12-4143-bfb7-6a6844a72e64 ]] : <<variant>>\r\n",
       "E10 - -:|> E2 [[psysml:bd829215-07d4-45cb-8fe9-60748d4dd682 ]] \r\n",
       "}\r\n",
       "@enduml\r\n",
       "\n",
       "PlantUML version 1.2020.13(Sat Jun 13 12:26:38 UTC 2020)\n",
       "(EPL source distribution)\n",
       "Java Runtime: OpenJDK Runtime Environment\n",
       "JVM: OpenJDK 64-Bit Server VM\n",
       "Default Encoding: UTF-8\n",
       "Language: en\n",
       "Country: null\n",
       "--></g></svg>"
      ]
     },
     "execution_count": 36,
     "metadata": {},
     "output_type": "execute_result"
    }
   ],
   "source": [
    "%viz --style=\"PLANTUML\" --view=\"MIXED\" \"VariabilityTest\""
   ]
  },
  {
   "cell_type": "code",
   "execution_count": 37,
   "id": "e5b3506e",
   "metadata": {
    "execution": {
     "iopub.execute_input": "2021-08-04T06:26:50.991402Z",
     "iopub.status.busy": "2021-08-04T06:26:50.990987Z",
     "iopub.status.idle": "2021-08-04T06:26:51.041059Z",
     "shell.execute_reply": "2021-08-04T06:26:51.039659Z"
    }
   },
   "outputs": [
    {
     "data": {
      "image/svg+xml": [
       "<?xml version=\"1.0\" encoding=\"UTF-8\" standalone=\"no\"?><svg xmlns=\"http://www.w3.org/2000/svg\" xmlns:xlink=\"http://www.w3.org/1999/xlink\" contentScriptType=\"application/ecmascript\" contentStyleType=\"text/css\" height=\"401px\" preserveAspectRatio=\"none\" style=\"width:419px;height:401px;\" version=\"1.1\" viewBox=\"0 0 419 401\" width=\"419px\" zoomAndPan=\"magnify\"><defs/><g><!--MD5=[fbc87193dbaf4d95561dea2c320d4a47]\n",
       "cluster E1--><a href=\"psysml:6e13bc12-600f-4176-9ee3-c77c18f0da6f\" target=\"_top\" title=\"psysml:6e13bc12-600f-4176-9ee3-c77c18f0da6f\" xlink:actuate=\"onRequest\" xlink:href=\"psysml:6e13bc12-600f-4176-9ee3-c77c18f0da6f\" xlink:show=\"new\" xlink:title=\"psysml:6e13bc12-600f-4176-9ee3-c77c18f0da6f\" xlink:type=\"simple\"><polygon fill=\"#FFFFFF\" points=\"16,6,134,6,141,28.2969,397,28.2969,397,389,16,389,16,6\" style=\"stroke: #000000; stroke-width: 1.5;\"/><line style=\"stroke: #000000; stroke-width: 1.5;\" x1=\"16\" x2=\"141\" y1=\"28.2969\" y2=\"28.2969\"/><text fill=\"#000000\" font-family=\"sans-serif\" font-size=\"14\" font-weight=\"bold\" lengthAdjust=\"spacingAndGlyphs\" textLength=\"112\" x=\"20\" y=\"20.9951\">VariabilityTest</text></a><!--MD5=[b4997ac47864f28c2f74865a473b2911]\n",
       "class E2--><a href=\"psysml:a47e4883-53c6-48e5-9729-358fb18738b5\" target=\"_top\" title=\"psysml:a47e4883-53c6-48e5-9729-358fb18738b5\" xlink:actuate=\"onRequest\" xlink:href=\"psysml:a47e4883-53c6-48e5-9729-358fb18738b5\" xlink:show=\"new\" xlink:title=\"psysml:a47e4883-53c6-48e5-9729-358fb18738b5\" xlink:type=\"simple\"><rect fill=\"#FFFFFF\" height=\"75.5469\" id=\"E2\" style=\"stroke: #383838; stroke-width: 1.5;\" width=\"66\" x=\"166\" y=\"291\"/><text fill=\"#000000\" font-family=\"sans-serif\" font-size=\"12\" font-style=\"italic\" lengthAdjust=\"spacingAndGlyphs\" textLength=\"64\" x=\"167\" y=\"307.1387\">«part def»</text><text fill=\"#000000\" font-family=\"sans-serif\" font-size=\"12\" lengthAdjust=\"spacingAndGlyphs\" textLength=\"8\" x=\"195\" y=\"321.1074\">P</text><line style=\"stroke: #383838; stroke-width: 1.5;\" x1=\"167\" x2=\"231\" y1=\"328.9375\" y2=\"328.9375\"/><text fill=\"#000000\" font-family=\"sans-serif\" font-size=\"11\" lengthAdjust=\"spacingAndGlyphs\" textLength=\"7\" x=\"172\" y=\"359.9526\">a</text><line style=\"stroke: #383838; stroke-width: 1.0;\" x1=\"167\" x2=\"171.5\" y1=\"343.3398\" y2=\"343.3398\"/><text fill=\"#000000\" font-family=\"sans-serif\" font-size=\"11\" lengthAdjust=\"spacingAndGlyphs\" textLength=\"55\" x=\"171.5\" y=\"346.6479\">attributes</text><line style=\"stroke: #383838; stroke-width: 1.0;\" x1=\"226.5\" x2=\"231\" y1=\"343.3398\" y2=\"343.3398\"/></a><!--MD5=[09b614a08d8cba4a07c9adeb5e0fee81]\n",
       "class E3--><a href=\"psysml:64152dcd-188c-4285-9d2f-82b4222731ff\" target=\"_top\" title=\"psysml:64152dcd-188c-4285-9d2f-82b4222731ff\" xlink:actuate=\"onRequest\" xlink:href=\"psysml:64152dcd-188c-4285-9d2f-82b4222731ff\" xlink:show=\"new\" xlink:title=\"psysml:64152dcd-188c-4285-9d2f-82b4222731ff\" xlink:type=\"simple\"><rect fill=\"#FFFFFF\" height=\"45.9375\" id=\"E3\" style=\"stroke: #383838; stroke-width: 1.5;\" width=\"66\" x=\"137\" y=\"155\"/><text fill=\"#000000\" font-family=\"sans-serif\" font-size=\"12\" font-style=\"italic\" lengthAdjust=\"spacingAndGlyphs\" textLength=\"64\" x=\"138\" y=\"171.1387\">«part def»</text><text fill=\"#000000\" font-family=\"sans-serif\" font-size=\"12\" lengthAdjust=\"spacingAndGlyphs\" textLength=\"9\" x=\"165.5\" y=\"185.1074\">Q</text><line style=\"stroke: #383838; stroke-width: 1.5;\" x1=\"138\" x2=\"202\" y1=\"192.9375\" y2=\"192.9375\"/></a><!--MD5=[ebbe1d658d1005bcc118a6aa81145e00]\n",
       "class E4--><a href=\"psysml:6204c3f0-143a-45cc-ac58-9ea86a3a8ea6\" target=\"_top\" title=\"psysml:6204c3f0-143a-45cc-ac58-9ea86a3a8ea6\" xlink:actuate=\"onRequest\" xlink:href=\"psysml:6204c3f0-143a-45cc-ac58-9ea86a3a8ea6\" xlink:show=\"new\" xlink:title=\"psysml:6204c3f0-143a-45cc-ac58-9ea86a3a8ea6\" xlink:type=\"simple\"><rect fill=\"#FFFFFF\" height=\"45.9375\" id=\"E4\" style=\"stroke: #383838; stroke-width: 1.5;\" width=\"95\" x=\"255.5\" y=\"41\"/><text fill=\"#000000\" font-family=\"sans-serif\" font-size=\"12\" font-style=\"italic\" lengthAdjust=\"spacingAndGlyphs\" textLength=\"93\" x=\"256.5\" y=\"57.1387\">«attribute def»</text><text fill=\"#000000\" font-family=\"sans-serif\" font-size=\"12\" lengthAdjust=\"spacingAndGlyphs\" textLength=\"8\" x=\"299\" y=\"71.1074\">B</text><line style=\"stroke: #383838; stroke-width: 1.5;\" x1=\"256.5\" x2=\"349.5\" y1=\"78.9375\" y2=\"78.9375\"/></a><!--MD5=[270fce915f116d4de14055a7c1d9a0f3]\n",
       "class E5--><a href=\"psysml:58826ca2-a740-4eaa-a71e-521b590388a3\" target=\"_top\" title=\"psysml:58826ca2-a740-4eaa-a71e-521b590388a3\" xlink:actuate=\"onRequest\" xlink:href=\"psysml:58826ca2-a740-4eaa-a71e-521b590388a3\" xlink:show=\"new\" xlink:title=\"psysml:58826ca2-a740-4eaa-a71e-521b590388a3\" xlink:type=\"simple\"><rect fill=\"#FFFFFF\" height=\"45.9375\" id=\"E5\" style=\"stroke: #383838; stroke-width: 1.5;\" width=\"66\" x=\"315\" y=\"155\"/><text fill=\"#000000\" font-family=\"sans-serif\" font-size=\"12\" font-style=\"italic\" lengthAdjust=\"spacingAndGlyphs\" textLength=\"64\" x=\"316\" y=\"171.1387\">«part def»</text><text fill=\"#000000\" font-family=\"sans-serif\" font-size=\"12\" lengthAdjust=\"spacingAndGlyphs\" textLength=\"8\" x=\"344\" y=\"185.1074\">V</text><line style=\"stroke: #383838; stroke-width: 1.5;\" x1=\"316\" x2=\"380\" y1=\"192.9375\" y2=\"192.9375\"/></a><!--MD5=[60a26617385b1d2d0262a64233df1f8d]\n",
       "class E6--><a href=\"psysml:c2df0e2e-5a66-4a2b-abfc-b3b4dd7dd2c5\" target=\"_top\" title=\"psysml:c2df0e2e-5a66-4a2b-abfc-b3b4dd7dd2c5\" xlink:actuate=\"onRequest\" xlink:href=\"psysml:c2df0e2e-5a66-4a2b-abfc-b3b4dd7dd2c5\" xlink:show=\"new\" xlink:title=\"psysml:c2df0e2e-5a66-4a2b-abfc-b3b4dd7dd2c5\" xlink:type=\"simple\"><rect fill=\"#FFFFFF\" height=\"88.3516\" id=\"E6\" rx=\"10\" ry=\"10\" style=\"stroke: #383838; stroke-width: 1.5;\" width=\"63\" x=\"287.5\" y=\"285\"/><text fill=\"#000000\" font-family=\"sans-serif\" font-size=\"12\" font-style=\"italic\" lengthAdjust=\"spacingAndGlyphs\" textLength=\"40\" x=\"299\" y=\"301.1387\">«part»</text><text fill=\"#000000\" font-family=\"sans-serif\" font-size=\"12\" lengthAdjust=\"spacingAndGlyphs\" textLength=\"23\" x=\"307.5\" y=\"315.1074\">x: Q</text><line style=\"stroke: #383838; stroke-width: 1.5;\" x1=\"288.5\" x2=\"349.5\" y1=\"322.9375\" y2=\"322.9375\"/><text fill=\"#000000\" font-family=\"sans-serif\" font-size=\"11\" lengthAdjust=\"spacingAndGlyphs\" textLength=\"23\" x=\"293.5\" y=\"353.9526\">b: B</text><text fill=\"#000000\" font-family=\"sans-serif\" font-size=\"11\" font-style=\"italic\" lengthAdjust=\"spacingAndGlyphs\" textLength=\"44\" x=\"293.5\" y=\"366.7573\">:&gt;&gt;P::a</text><line style=\"stroke: #383838; stroke-width: 1.0;\" x1=\"288.5\" x2=\"291.5\" y1=\"337.3398\" y2=\"337.3398\"/><text fill=\"#000000\" font-family=\"sans-serif\" font-size=\"11\" lengthAdjust=\"spacingAndGlyphs\" textLength=\"55\" x=\"291.5\" y=\"340.6479\">attributes</text><line style=\"stroke: #383838; stroke-width: 1.0;\" x1=\"346.5\" x2=\"349.5\" y1=\"337.3398\" y2=\"337.3398\"/></a><!--MD5=[2156ba9850f5573cc1fc38a6a4b2f02b]\n",
       "class E7--><a href=\"psysml:d5aa7800-4c4d-4a74-9f82-8c5d7377a367\" target=\"_top\" title=\"psysml:d5aa7800-4c4d-4a74-9f82-8c5d7377a367\" xlink:actuate=\"onRequest\" xlink:href=\"psysml:d5aa7800-4c4d-4a74-9f82-8c5d7377a367\" xlink:show=\"new\" xlink:title=\"psysml:d5aa7800-4c4d-4a74-9f82-8c5d7377a367\" xlink:type=\"simple\"><rect fill=\"#FFFFFF\" height=\"45.9375\" id=\"E7\" rx=\"10\" ry=\"10\" style=\"stroke: #383838; stroke-width: 1.5;\" width=\"42\" x=\"149\" y=\"41\"/><text fill=\"#000000\" font-family=\"sans-serif\" font-size=\"12\" font-style=\"italic\" lengthAdjust=\"spacingAndGlyphs\" textLength=\"40\" x=\"150\" y=\"57.1387\">«part»</text><text fill=\"#000000\" font-family=\"sans-serif\" font-size=\"12\" lengthAdjust=\"spacingAndGlyphs\" textLength=\"25\" x=\"157.5\" y=\"71.1074\">q: Q</text><line style=\"stroke: #383838; stroke-width: 1.5;\" x1=\"150\" x2=\"190\" y1=\"78.9375\" y2=\"78.9375\"/></a><!--MD5=[b9389687b975829384b498ac4b7476b2]\n",
       "class E8--><a href=\"psysml:d7b3804f-80e3-4381-979e-bf8e2501fba8\" target=\"_top\" title=\"psysml:d7b3804f-80e3-4381-979e-bf8e2501fba8\" xlink:actuate=\"onRequest\" xlink:href=\"psysml:d7b3804f-80e3-4381-979e-bf8e2501fba8\" xlink:show=\"new\" xlink:title=\"psysml:d7b3804f-80e3-4381-979e-bf8e2501fba8\" xlink:type=\"simple\"><rect fill=\"#FFFFFF\" height=\"59.9063\" id=\"E8\" rx=\"10\" ry=\"10\" style=\"stroke: #383838; stroke-width: 1.5;\" width=\"70\" x=\"32\" y=\"148\"/><text fill=\"#000000\" font-family=\"sans-serif\" font-size=\"12\" font-style=\"italic\" lengthAdjust=\"spacingAndGlyphs\" textLength=\"68\" x=\"33\" y=\"164.1387\">«variation»</text><text fill=\"#000000\" font-family=\"sans-serif\" font-size=\"12\" font-style=\"italic\" lengthAdjust=\"spacingAndGlyphs\" textLength=\"40\" x=\"47\" y=\"178.1074\">«part»</text><text fill=\"#000000\" font-family=\"sans-serif\" font-size=\"12\" lengthAdjust=\"spacingAndGlyphs\" textLength=\"22\" x=\"56\" y=\"192.0762\">v: P</text><line style=\"stroke: #383838; stroke-width: 1.5;\" x1=\"33\" x2=\"101\" y1=\"199.9063\" y2=\"199.9063\"/></a><!--MD5=[fd4143e9d270a159db93a4ea2a975926]\n",
       "class E9--><a href=\"psysml:aeeab6cc-3339-44ed-a45c-f65a5d97c376\" target=\"_top\" title=\"psysml:aeeab6cc-3339-44ed-a45c-f65a5d97c376\" xlink:actuate=\"onRequest\" xlink:href=\"psysml:aeeab6cc-3339-44ed-a45c-f65a5d97c376\" xlink:show=\"new\" xlink:title=\"psysml:aeeab6cc-3339-44ed-a45c-f65a5d97c376\" xlink:type=\"simple\"><rect fill=\"#FFFFFF\" height=\"88.3516\" id=\"E9\" rx=\"10\" ry=\"10\" style=\"stroke: #383838; stroke-width: 1.5;\" width=\"77\" x=\"32.5\" y=\"285\"/><text fill=\"#000000\" font-family=\"sans-serif\" font-size=\"12\" font-style=\"italic\" lengthAdjust=\"spacingAndGlyphs\" textLength=\"75\" x=\"33.5\" y=\"301.1387\">«reference»</text><text fill=\"#000000\" font-family=\"sans-serif\" font-size=\"12\" lengthAdjust=\"spacingAndGlyphs\" textLength=\"8\" x=\"67\" y=\"315.1074\">q</text><line style=\"stroke: #383838; stroke-width: 1.5;\" x1=\"33.5\" x2=\"108.5\" y1=\"322.9375\" y2=\"322.9375\"/><text fill=\"#000000\" font-family=\"sans-serif\" font-size=\"11\" lengthAdjust=\"spacingAndGlyphs\" textLength=\"23\" x=\"38.5\" y=\"353.9526\">b: B</text><text fill=\"#000000\" font-family=\"sans-serif\" font-size=\"11\" font-style=\"italic\" lengthAdjust=\"spacingAndGlyphs\" textLength=\"44\" x=\"38.5\" y=\"366.7573\">:&gt;&gt;P::a</text><line style=\"stroke: #383838; stroke-width: 1.0;\" x1=\"33.5\" x2=\"43.5\" y1=\"337.3398\" y2=\"337.3398\"/><text fill=\"#000000\" font-family=\"sans-serif\" font-size=\"11\" lengthAdjust=\"spacingAndGlyphs\" textLength=\"55\" x=\"43.5\" y=\"340.6479\">attributes</text><line style=\"stroke: #383838; stroke-width: 1.0;\" x1=\"98.5\" x2=\"108.5\" y1=\"337.3398\" y2=\"337.3398\"/></a><!--MD5=[96f4274e9e20536e775497830990834d]\n",
       "class E10--><a href=\"psysml:fe63b1e8-840a-4f2e-b06a-2ce986f19d03\" target=\"_top\" title=\"psysml:fe63b1e8-840a-4f2e-b06a-2ce986f19d03\" xlink:actuate=\"onRequest\" xlink:href=\"psysml:fe63b1e8-840a-4f2e-b06a-2ce986f19d03\" xlink:show=\"new\" xlink:title=\"psysml:fe63b1e8-840a-4f2e-b06a-2ce986f19d03\" xlink:type=\"simple\"><rect fill=\"#FFFFFF\" height=\"45.9375\" id=\"E10\" rx=\"10\" ry=\"10\" style=\"stroke: #383838; stroke-width: 1.5;\" width=\"42\" x=\"238\" y=\"155\"/><text fill=\"#000000\" font-family=\"sans-serif\" font-size=\"12\" font-style=\"italic\" lengthAdjust=\"spacingAndGlyphs\" textLength=\"40\" x=\"239\" y=\"171.1387\">«part»</text><text fill=\"#000000\" font-family=\"sans-serif\" font-size=\"12\" lengthAdjust=\"spacingAndGlyphs\" textLength=\"22\" x=\"248\" y=\"185.1074\">y: P</text><line style=\"stroke: #383838; stroke-width: 1.5;\" x1=\"239\" x2=\"279\" y1=\"192.9375\" y2=\"192.9375\"/></a><!--MD5=[05d275557350bfb9b23a4ef7222b4c39]\n",
       "link E3 to E2--><a href=\"psysml:6495a820-e8c0-4129-af26-6722c3b7b9e6\" target=\"_top\" title=\"psysml:6495a820-e8c0-4129-af26-6722c3b7b9e6\" xlink:actuate=\"onRequest\" xlink:href=\"psysml:6495a820-e8c0-4129-af26-6722c3b7b9e6\" xlink:show=\"new\" xlink:title=\"psysml:6495a820-e8c0-4129-af26-6722c3b7b9e6\" xlink:type=\"simple\"><path d=\"M174.34,201.31 C177.92,219.67 183.15,246.54 187.87,270.81 \" fill=\"none\" id=\"E3-&gt;E2\" style=\"stroke: #383838; stroke-width: 1.0;\"/><polygon fill=\"none\" points=\"194.8,269.8,191.75,290.77,181.06,272.47,194.8,269.8\" style=\"stroke: #383838; stroke-width: 1.0;\"/></a><!--MD5=[15ebcb19ae302d9b601edb458606d402]\n",
       "link E5 to E2--><a href=\"psysml:bd00e4e7-d183-497a-b9f8-56660fc51e3e\" target=\"_top\" title=\"psysml:bd00e4e7-d183-497a-b9f8-56660fc51e3e\" xlink:actuate=\"onRequest\" xlink:href=\"psysml:bd00e4e7-d183-497a-b9f8-56660fc51e3e\" xlink:show=\"new\" xlink:title=\"psysml:bd00e4e7-d183-497a-b9f8-56660fc51e3e\" xlink:type=\"simple\"><path d=\"M325.69,201.31 C304.9,222.1 273.2,253.8 246.71,280.29 \" fill=\"none\" id=\"E5-&gt;E2\" style=\"stroke: #383838; stroke-width: 1.0;\"/><polygon fill=\"none\" points=\"251.33,285.57,232.24,294.76,241.43,275.67,251.33,285.57\" style=\"stroke: #383838; stroke-width: 1.0;\"/></a><!--MD5=[9120cf2e5df3bff93db8f754bbbc09b4]\n",
       "link E5 to E6--><a href=\"psysml:3ec706da-d65f-4ef5-8a1f-1e1b5df7e7c6\" target=\"_top\" title=\"psysml:3ec706da-d65f-4ef5-8a1f-1e1b5df7e7c6\" xlink:actuate=\"onRequest\" xlink:href=\"psysml:3ec706da-d65f-4ef5-8a1f-1e1b5df7e7c6\" xlink:show=\"new\" xlink:title=\"psysml:3ec706da-d65f-4ef5-8a1f-1e1b5df7e7c6\" xlink:type=\"simple\"><path d=\"M341.72,211.26 C338.1,229.85 333.47,253.68 329.32,274.95 \" fill=\"none\" id=\"E5-E6\" style=\"stroke: #383838; stroke-width: 1.0;\"/><polygon fill=\"#383838\" points=\"327.4,284.84,331.8761,277.5623,325.987,276.4136,327.4,284.84\" style=\"stroke: #383838; stroke-width: 1.0;\"/><path d=\"M334.7699,202.7122 A9,9 0 0 0 351.3715 205.9503\" fill=\"none\" style=\"stroke: #383838; stroke-width: 1.5;\"/><text fill=\"#000000\" font-family=\"sans-serif\" font-size=\"13\" lengthAdjust=\"spacingAndGlyphs\" textLength=\"60\" x=\"337\" y=\"251.0669\">«variant»</text></a><!--MD5=[14ccda38c055a5c0da953d572bc50960]\n",
       "link E7 to E3--><a href=\"psysml:9cf32953-475b-4011-b1f8-e7f09d5ce449\" target=\"_top\" title=\"psysml:9cf32953-475b-4011-b1f8-e7f09d5ce449\" xlink:actuate=\"onRequest\" xlink:href=\"psysml:9cf32953-475b-4011-b1f8-e7f09d5ce449\" xlink:show=\"new\" xlink:title=\"psysml:9cf32953-475b-4011-b1f8-e7f09d5ce449\" xlink:type=\"simple\"><path d=\"M170,87.13 C170,100.7 170,118.53 170,134.73 \" fill=\"none\" id=\"E7-&gt;E3\" style=\"stroke: #383838; stroke-width: 1.0;\"/><polygon fill=\"#FFFFFF\" points=\"170,154.92,163,135.92,177,135.92,170,154.92\" style=\"stroke: #383838; stroke-width: 1.0;\"/><ellipse cx=\"165\" cy=\"130.22\" fill=\"#383838\" rx=\"2\" ry=\"2\" style=\"stroke: #383838; stroke-width: 1.0;\"/><ellipse cx=\"175\" cy=\"130.22\" fill=\"#383838\" rx=\"2\" ry=\"2\" style=\"stroke: #383838; stroke-width: 1.0;\"/></a><!--MD5=[f1f3f9f2fc535e6147756cb86a7f2e32]\n",
       "link E8 to E2--><a href=\"psysml:d1a9bfbc-b159-49c1-a5ca-956a4881ee49\" target=\"_top\" title=\"psysml:d1a9bfbc-b159-49c1-a5ca-956a4881ee49\" xlink:actuate=\"onRequest\" xlink:href=\"psysml:d1a9bfbc-b159-49c1-a5ca-956a4881ee49\" xlink:show=\"new\" xlink:title=\"psysml:d1a9bfbc-b159-49c1-a5ca-956a4881ee49\" xlink:type=\"simple\"><path d=\"M102.17,204.39 C114.52,214.17 128.04,225.9 139,238 C148.86,248.88 158.29,261.5 166.63,273.79 \" fill=\"none\" id=\"E8-&gt;E2\" style=\"stroke: #383838; stroke-width: 1.0;\"/><polygon fill=\"#FFFFFF\" points=\"177.64,290.73,161.4168,278.6135,173.1555,270.9844,177.64,290.73\" style=\"stroke: #383838; stroke-width: 1.0;\"/><ellipse cx=\"159.9876\" cy=\"272.7443\" fill=\"#383838\" rx=\"2\" ry=\"2\" style=\"stroke: #383838; stroke-width: 1.0;\"/><ellipse cx=\"168.3724\" cy=\"267.2949\" fill=\"#383838\" rx=\"2\" ry=\"2\" style=\"stroke: #383838; stroke-width: 1.0;\"/></a><!--MD5=[ed10624c06dd9a4fa49ccf290e8b16a8]\n",
       "link E8 to E9--><a href=\"psysml:4574f674-7c12-4143-bfb7-6a6844a72e64\" target=\"_top\" title=\"psysml:4574f674-7c12-4143-bfb7-6a6844a72e64\" xlink:actuate=\"onRequest\" xlink:href=\"psysml:4574f674-7c12-4143-bfb7-6a6844a72e64\" xlink:show=\"new\" xlink:title=\"psysml:4574f674-7c12-4143-bfb7-6a6844a72e64\" xlink:type=\"simple\"><path d=\"M68.06,218.32 C68.52,235.6 69.07,256.15 69.57,274.77 \" fill=\"none\" id=\"E8-E9\" style=\"stroke: #383838; stroke-width: 1.0;\"/><polygon fill=\"#383838\" points=\"69.84,284.88,72.6331,276.8054,66.6351,276.9599,69.84,284.88\" style=\"stroke: #383838; stroke-width: 1.0;\"/><path d=\"M59.4094,211.3865 A9,9 0 0 0 76.3176 210.9276\" fill=\"none\" style=\"stroke: #383838; stroke-width: 1.5;\"/><text fill=\"#000000\" font-family=\"sans-serif\" font-size=\"13\" lengthAdjust=\"spacingAndGlyphs\" textLength=\"60\" x=\"70\" y=\"251.0669\">«variant»</text></a><!--MD5=[0f36bececdf0dff6e600d6f64214b0f1]\n",
       "link E10 to E2--><a href=\"psysml:bd829215-07d4-45cb-8fe9-60748d4dd682\" target=\"_top\" title=\"psysml:bd829215-07d4-45cb-8fe9-60748d4dd682\" xlink:actuate=\"onRequest\" xlink:href=\"psysml:bd829215-07d4-45cb-8fe9-60748d4dd682\" xlink:show=\"new\" xlink:title=\"psysml:bd829215-07d4-45cb-8fe9-60748d4dd682\" xlink:type=\"simple\"><path d=\"M250.02,201.31 C242.51,219.95 231.48,247.35 221.59,271.91 \" fill=\"none\" id=\"E10-&gt;E2\" style=\"stroke: #383838; stroke-width: 1.0;\"/><polygon fill=\"#FFFFFF\" points=\"213.99,290.77,214.5927,270.5305,227.5796,275.7593,213.99,290.77\" style=\"stroke: #383838; stroke-width: 1.0;\"/><ellipse cx=\"218.5768\" cy=\"265.9899\" fill=\"#383838\" rx=\"2\" ry=\"2\" style=\"stroke: #383838; stroke-width: 1.0;\"/><ellipse cx=\"227.8532\" cy=\"269.7248\" fill=\"#383838\" rx=\"2\" ry=\"2\" style=\"stroke: #383838; stroke-width: 1.0;\"/></a><!--MD5=[d50e44985937209ae5cef6a1e8a75216]\n",
       "@startuml\r\n",
       "skinparam monochrome true\r\n",
       "skinparam classbackgroundcolor white\r\n",
       "skinparam shadowing false\r\n",
       "skinparam wrapWidth 300\r\n",
       "hide circle\r\n",
       "\r\n",
       "package \"VariabilityTest\" as E1  [[psysml:6e13bc12-600f-4176-9ee3-c77c18f0da6f ]]  {\r\n",
       "comp def \"P\" as E2  <<(T,blue) part def>> [[psysml:a47e4883-53c6-48e5-9729-358fb18738b5 ]] {\r\n",
       "- - attributes - -\r\n",
       "a\r\n",
       "}\r\n",
       "comp def \"Q\" as E3  <<(T,blue) part def>> [[psysml:64152dcd-188c-4285-9d2f-82b4222731ff ]] {\r\n",
       "}\r\n",
       "comp def \"B\" as E4  <<(T,blue) attribute def>> [[psysml:6204c3f0-143a-45cc-ac58-9ea86a3a8ea6 ]] {\r\n",
       "}\r\n",
       "comp def \"V\" as E5  <<(T,blue) part def>> [[psysml:58826ca2-a740-4eaa-a71e-521b590388a3 ]] {\r\n",
       "}\r\n",
       "comp usage \"x: Q\" as E6  <<(T,blue) part>> [[psysml:c2df0e2e-5a66-4a2b-abfc-b3b4dd7dd2c5 ]] {\r\n",
       "- - attributes - -\r\n",
       "b: B\\n//:>>P::a// \r\n",
       "}\r\n",
       "comp usage \"q: Q\" as E7  <<(T,blue) part>> [[psysml:d5aa7800-4c4d-4a74-9f82-8c5d7377a367 ]] {\r\n",
       "}\r\n",
       "comp usage \"v: P\" as E8  <<variation>>\\n <<(T,blue) part>> [[psysml:d7b3804f-80e3-4381-979e-bf8e2501fba8 ]] {\r\n",
       "}\r\n",
       "comp usage \"q\" as E9  <<(T,blue) reference>> [[psysml:aeeab6cc-3339-44ed-a45c-f65a5d97c376 ]] {\r\n",
       "- - attributes - -\r\n",
       "b: B\\n//:>>P::a// \r\n",
       "}\r\n",
       "comp usage \"y: P\" as E10  <<(T,blue) part>> [[psysml:fe63b1e8-840a-4f2e-b06a-2ce986f19d03 ]] {\r\n",
       "}\r\n",
       "E3 - -|> E2 [[psysml:6495a820-e8c0-4129-af26-6722c3b7b9e6 ]] \r\n",
       "E5 - -|> E2 [[psysml:bd00e4e7-d183-497a-b9f8-56660fc51e3e ]] \r\n",
       "E5 )- ->> E6 [[psysml:3ec706da-d65f-4ef5-8a1f-1e1b5df7e7c6 ]] : <<variant>>\r\n",
       "E7 - -:|> E3 [[psysml:9cf32953-475b-4011-b1f8-e7f09d5ce449 ]] \r\n",
       "E8 - -:|> E2 [[psysml:d1a9bfbc-b159-49c1-a5ca-956a4881ee49 ]] \r\n",
       "E8 )- ->> E9 [[psysml:4574f674-7c12-4143-bfb7-6a6844a72e64 ]] : <<variant>>\r\n",
       "E10 - -:|> E2 [[psysml:bd829215-07d4-45cb-8fe9-60748d4dd682 ]] \r\n",
       "}\r\n",
       "@enduml\r\n",
       "\n",
       "PlantUML version 1.2020.13(Sat Jun 13 12:26:38 UTC 2020)\n",
       "(EPL source distribution)\n",
       "Java Runtime: OpenJDK Runtime Environment\n",
       "JVM: OpenJDK 64-Bit Server VM\n",
       "Default Encoding: UTF-8\n",
       "Language: en\n",
       "Country: null\n",
       "--></g></svg>"
      ]
     },
     "execution_count": 37,
     "metadata": {},
     "output_type": "execute_result"
    }
   ],
   "source": [
    "%viz --style=\"DEFAULT\" --view=\"Default\" \"VariabilityTest\""
   ]
  },
  {
   "cell_type": "code",
   "execution_count": 38,
   "id": "fa04659a",
   "metadata": {
    "execution": {
     "iopub.execute_input": "2021-08-04T06:26:51.090248Z",
     "iopub.status.busy": "2021-08-04T06:26:51.089851Z",
     "iopub.status.idle": "2021-08-04T06:26:51.146796Z",
     "shell.execute_reply": "2021-08-04T06:26:51.145472Z"
    }
   },
   "outputs": [
    {
     "data": {
      "image/svg+xml": [
       "<?xml version=\"1.0\" encoding=\"UTF-8\" standalone=\"no\"?><svg xmlns=\"http://www.w3.org/2000/svg\" xmlns:xlink=\"http://www.w3.org/1999/xlink\" contentScriptType=\"application/ecmascript\" contentStyleType=\"text/css\" height=\"401px\" preserveAspectRatio=\"none\" style=\"width:419px;height:401px;\" version=\"1.1\" viewBox=\"0 0 419 401\" width=\"419px\" zoomAndPan=\"magnify\"><defs/><g><!--MD5=[fbc87193dbaf4d95561dea2c320d4a47]\n",
       "cluster E1--><a href=\"psysml:6e13bc12-600f-4176-9ee3-c77c18f0da6f\" target=\"_top\" title=\"psysml:6e13bc12-600f-4176-9ee3-c77c18f0da6f\" xlink:actuate=\"onRequest\" xlink:href=\"psysml:6e13bc12-600f-4176-9ee3-c77c18f0da6f\" xlink:show=\"new\" xlink:title=\"psysml:6e13bc12-600f-4176-9ee3-c77c18f0da6f\" xlink:type=\"simple\"><polygon fill=\"#FFFFFF\" points=\"16,6,134,6,141,28.2969,397,28.2969,397,389,16,389,16,6\" style=\"stroke: #000000; stroke-width: 1.5;\"/><line style=\"stroke: #000000; stroke-width: 1.5;\" x1=\"16\" x2=\"141\" y1=\"28.2969\" y2=\"28.2969\"/><text fill=\"#000000\" font-family=\"sans-serif\" font-size=\"14\" font-weight=\"bold\" lengthAdjust=\"spacingAndGlyphs\" textLength=\"112\" x=\"20\" y=\"20.9951\">VariabilityTest</text></a><!--MD5=[b4997ac47864f28c2f74865a473b2911]\n",
       "class E2--><a href=\"psysml:a47e4883-53c6-48e5-9729-358fb18738b5\" target=\"_top\" title=\"psysml:a47e4883-53c6-48e5-9729-358fb18738b5\" xlink:actuate=\"onRequest\" xlink:href=\"psysml:a47e4883-53c6-48e5-9729-358fb18738b5\" xlink:show=\"new\" xlink:title=\"psysml:a47e4883-53c6-48e5-9729-358fb18738b5\" xlink:type=\"simple\"><rect fill=\"#FFFFFF\" height=\"75.5469\" id=\"E2\" style=\"stroke: #383838; stroke-width: 1.5;\" width=\"66\" x=\"166\" y=\"291\"/><text fill=\"#000000\" font-family=\"sans-serif\" font-size=\"12\" font-style=\"italic\" lengthAdjust=\"spacingAndGlyphs\" textLength=\"64\" x=\"167\" y=\"307.1387\">«part def»</text><text fill=\"#000000\" font-family=\"sans-serif\" font-size=\"12\" lengthAdjust=\"spacingAndGlyphs\" textLength=\"8\" x=\"195\" y=\"321.1074\">P</text><line style=\"stroke: #383838; stroke-width: 1.5;\" x1=\"167\" x2=\"231\" y1=\"328.9375\" y2=\"328.9375\"/><text fill=\"#000000\" font-family=\"sans-serif\" font-size=\"11\" lengthAdjust=\"spacingAndGlyphs\" textLength=\"7\" x=\"172\" y=\"359.9526\">a</text><line style=\"stroke: #383838; stroke-width: 1.0;\" x1=\"167\" x2=\"171.5\" y1=\"343.3398\" y2=\"343.3398\"/><text fill=\"#000000\" font-family=\"sans-serif\" font-size=\"11\" lengthAdjust=\"spacingAndGlyphs\" textLength=\"55\" x=\"171.5\" y=\"346.6479\">attributes</text><line style=\"stroke: #383838; stroke-width: 1.0;\" x1=\"226.5\" x2=\"231\" y1=\"343.3398\" y2=\"343.3398\"/></a><!--MD5=[09b614a08d8cba4a07c9adeb5e0fee81]\n",
       "class E3--><a href=\"psysml:64152dcd-188c-4285-9d2f-82b4222731ff\" target=\"_top\" title=\"psysml:64152dcd-188c-4285-9d2f-82b4222731ff\" xlink:actuate=\"onRequest\" xlink:href=\"psysml:64152dcd-188c-4285-9d2f-82b4222731ff\" xlink:show=\"new\" xlink:title=\"psysml:64152dcd-188c-4285-9d2f-82b4222731ff\" xlink:type=\"simple\"><rect fill=\"#FFFFFF\" height=\"45.9375\" id=\"E3\" style=\"stroke: #383838; stroke-width: 1.5;\" width=\"66\" x=\"137\" y=\"155\"/><text fill=\"#000000\" font-family=\"sans-serif\" font-size=\"12\" font-style=\"italic\" lengthAdjust=\"spacingAndGlyphs\" textLength=\"64\" x=\"138\" y=\"171.1387\">«part def»</text><text fill=\"#000000\" font-family=\"sans-serif\" font-size=\"12\" lengthAdjust=\"spacingAndGlyphs\" textLength=\"9\" x=\"165.5\" y=\"185.1074\">Q</text><line style=\"stroke: #383838; stroke-width: 1.5;\" x1=\"138\" x2=\"202\" y1=\"192.9375\" y2=\"192.9375\"/></a><!--MD5=[ebbe1d658d1005bcc118a6aa81145e00]\n",
       "class E4--><a href=\"psysml:6204c3f0-143a-45cc-ac58-9ea86a3a8ea6\" target=\"_top\" title=\"psysml:6204c3f0-143a-45cc-ac58-9ea86a3a8ea6\" xlink:actuate=\"onRequest\" xlink:href=\"psysml:6204c3f0-143a-45cc-ac58-9ea86a3a8ea6\" xlink:show=\"new\" xlink:title=\"psysml:6204c3f0-143a-45cc-ac58-9ea86a3a8ea6\" xlink:type=\"simple\"><rect fill=\"#FFFFFF\" height=\"45.9375\" id=\"E4\" style=\"stroke: #383838; stroke-width: 1.5;\" width=\"95\" x=\"255.5\" y=\"41\"/><text fill=\"#000000\" font-family=\"sans-serif\" font-size=\"12\" font-style=\"italic\" lengthAdjust=\"spacingAndGlyphs\" textLength=\"93\" x=\"256.5\" y=\"57.1387\">«attribute def»</text><text fill=\"#000000\" font-family=\"sans-serif\" font-size=\"12\" lengthAdjust=\"spacingAndGlyphs\" textLength=\"8\" x=\"299\" y=\"71.1074\">B</text><line style=\"stroke: #383838; stroke-width: 1.5;\" x1=\"256.5\" x2=\"349.5\" y1=\"78.9375\" y2=\"78.9375\"/></a><!--MD5=[270fce915f116d4de14055a7c1d9a0f3]\n",
       "class E5--><a href=\"psysml:58826ca2-a740-4eaa-a71e-521b590388a3\" target=\"_top\" title=\"psysml:58826ca2-a740-4eaa-a71e-521b590388a3\" xlink:actuate=\"onRequest\" xlink:href=\"psysml:58826ca2-a740-4eaa-a71e-521b590388a3\" xlink:show=\"new\" xlink:title=\"psysml:58826ca2-a740-4eaa-a71e-521b590388a3\" xlink:type=\"simple\"><rect fill=\"#FFFFFF\" height=\"45.9375\" id=\"E5\" style=\"stroke: #383838; stroke-width: 1.5;\" width=\"66\" x=\"315\" y=\"155\"/><text fill=\"#000000\" font-family=\"sans-serif\" font-size=\"12\" font-style=\"italic\" lengthAdjust=\"spacingAndGlyphs\" textLength=\"64\" x=\"316\" y=\"171.1387\">«part def»</text><text fill=\"#000000\" font-family=\"sans-serif\" font-size=\"12\" lengthAdjust=\"spacingAndGlyphs\" textLength=\"8\" x=\"344\" y=\"185.1074\">V</text><line style=\"stroke: #383838; stroke-width: 1.5;\" x1=\"316\" x2=\"380\" y1=\"192.9375\" y2=\"192.9375\"/></a><!--MD5=[60a26617385b1d2d0262a64233df1f8d]\n",
       "class E6--><a href=\"psysml:c2df0e2e-5a66-4a2b-abfc-b3b4dd7dd2c5\" target=\"_top\" title=\"psysml:c2df0e2e-5a66-4a2b-abfc-b3b4dd7dd2c5\" xlink:actuate=\"onRequest\" xlink:href=\"psysml:c2df0e2e-5a66-4a2b-abfc-b3b4dd7dd2c5\" xlink:show=\"new\" xlink:title=\"psysml:c2df0e2e-5a66-4a2b-abfc-b3b4dd7dd2c5\" xlink:type=\"simple\"><rect fill=\"#FFFFFF\" height=\"88.3516\" id=\"E6\" rx=\"10\" ry=\"10\" style=\"stroke: #383838; stroke-width: 1.5;\" width=\"63\" x=\"287.5\" y=\"285\"/><text fill=\"#000000\" font-family=\"sans-serif\" font-size=\"12\" font-style=\"italic\" lengthAdjust=\"spacingAndGlyphs\" textLength=\"40\" x=\"299\" y=\"301.1387\">«part»</text><text fill=\"#000000\" font-family=\"sans-serif\" font-size=\"12\" lengthAdjust=\"spacingAndGlyphs\" textLength=\"23\" x=\"307.5\" y=\"315.1074\">x: Q</text><line style=\"stroke: #383838; stroke-width: 1.5;\" x1=\"288.5\" x2=\"349.5\" y1=\"322.9375\" y2=\"322.9375\"/><text fill=\"#000000\" font-family=\"sans-serif\" font-size=\"11\" lengthAdjust=\"spacingAndGlyphs\" textLength=\"23\" x=\"293.5\" y=\"353.9526\">b: B</text><text fill=\"#000000\" font-family=\"sans-serif\" font-size=\"11\" font-style=\"italic\" lengthAdjust=\"spacingAndGlyphs\" textLength=\"44\" x=\"293.5\" y=\"366.7573\">:&gt;&gt;P::a</text><line style=\"stroke: #383838; stroke-width: 1.0;\" x1=\"288.5\" x2=\"291.5\" y1=\"337.3398\" y2=\"337.3398\"/><text fill=\"#000000\" font-family=\"sans-serif\" font-size=\"11\" lengthAdjust=\"spacingAndGlyphs\" textLength=\"55\" x=\"291.5\" y=\"340.6479\">attributes</text><line style=\"stroke: #383838; stroke-width: 1.0;\" x1=\"346.5\" x2=\"349.5\" y1=\"337.3398\" y2=\"337.3398\"/></a><!--MD5=[2156ba9850f5573cc1fc38a6a4b2f02b]\n",
       "class E7--><a href=\"psysml:d5aa7800-4c4d-4a74-9f82-8c5d7377a367\" target=\"_top\" title=\"psysml:d5aa7800-4c4d-4a74-9f82-8c5d7377a367\" xlink:actuate=\"onRequest\" xlink:href=\"psysml:d5aa7800-4c4d-4a74-9f82-8c5d7377a367\" xlink:show=\"new\" xlink:title=\"psysml:d5aa7800-4c4d-4a74-9f82-8c5d7377a367\" xlink:type=\"simple\"><rect fill=\"#FFFFFF\" height=\"45.9375\" id=\"E7\" rx=\"10\" ry=\"10\" style=\"stroke: #383838; stroke-width: 1.5;\" width=\"42\" x=\"149\" y=\"41\"/><text fill=\"#000000\" font-family=\"sans-serif\" font-size=\"12\" font-style=\"italic\" lengthAdjust=\"spacingAndGlyphs\" textLength=\"40\" x=\"150\" y=\"57.1387\">«part»</text><text fill=\"#000000\" font-family=\"sans-serif\" font-size=\"12\" lengthAdjust=\"spacingAndGlyphs\" textLength=\"25\" x=\"157.5\" y=\"71.1074\">q: Q</text><line style=\"stroke: #383838; stroke-width: 1.5;\" x1=\"150\" x2=\"190\" y1=\"78.9375\" y2=\"78.9375\"/></a><!--MD5=[b9389687b975829384b498ac4b7476b2]\n",
       "class E8--><a href=\"psysml:d7b3804f-80e3-4381-979e-bf8e2501fba8\" target=\"_top\" title=\"psysml:d7b3804f-80e3-4381-979e-bf8e2501fba8\" xlink:actuate=\"onRequest\" xlink:href=\"psysml:d7b3804f-80e3-4381-979e-bf8e2501fba8\" xlink:show=\"new\" xlink:title=\"psysml:d7b3804f-80e3-4381-979e-bf8e2501fba8\" xlink:type=\"simple\"><rect fill=\"#FFFFFF\" height=\"59.9063\" id=\"E8\" rx=\"10\" ry=\"10\" style=\"stroke: #383838; stroke-width: 1.5;\" width=\"70\" x=\"32\" y=\"148\"/><text fill=\"#000000\" font-family=\"sans-serif\" font-size=\"12\" font-style=\"italic\" lengthAdjust=\"spacingAndGlyphs\" textLength=\"68\" x=\"33\" y=\"164.1387\">«variation»</text><text fill=\"#000000\" font-family=\"sans-serif\" font-size=\"12\" font-style=\"italic\" lengthAdjust=\"spacingAndGlyphs\" textLength=\"40\" x=\"47\" y=\"178.1074\">«part»</text><text fill=\"#000000\" font-family=\"sans-serif\" font-size=\"12\" lengthAdjust=\"spacingAndGlyphs\" textLength=\"22\" x=\"56\" y=\"192.0762\">v: P</text><line style=\"stroke: #383838; stroke-width: 1.5;\" x1=\"33\" x2=\"101\" y1=\"199.9063\" y2=\"199.9063\"/></a><!--MD5=[fd4143e9d270a159db93a4ea2a975926]\n",
       "class E9--><a href=\"psysml:aeeab6cc-3339-44ed-a45c-f65a5d97c376\" target=\"_top\" title=\"psysml:aeeab6cc-3339-44ed-a45c-f65a5d97c376\" xlink:actuate=\"onRequest\" xlink:href=\"psysml:aeeab6cc-3339-44ed-a45c-f65a5d97c376\" xlink:show=\"new\" xlink:title=\"psysml:aeeab6cc-3339-44ed-a45c-f65a5d97c376\" xlink:type=\"simple\"><rect fill=\"#FFFFFF\" height=\"88.3516\" id=\"E9\" rx=\"10\" ry=\"10\" style=\"stroke: #383838; stroke-width: 1.5;\" width=\"77\" x=\"32.5\" y=\"285\"/><text fill=\"#000000\" font-family=\"sans-serif\" font-size=\"12\" font-style=\"italic\" lengthAdjust=\"spacingAndGlyphs\" textLength=\"75\" x=\"33.5\" y=\"301.1387\">«reference»</text><text fill=\"#000000\" font-family=\"sans-serif\" font-size=\"12\" lengthAdjust=\"spacingAndGlyphs\" textLength=\"8\" x=\"67\" y=\"315.1074\">q</text><line style=\"stroke: #383838; stroke-width: 1.5;\" x1=\"33.5\" x2=\"108.5\" y1=\"322.9375\" y2=\"322.9375\"/><text fill=\"#000000\" font-family=\"sans-serif\" font-size=\"11\" lengthAdjust=\"spacingAndGlyphs\" textLength=\"23\" x=\"38.5\" y=\"353.9526\">b: B</text><text fill=\"#000000\" font-family=\"sans-serif\" font-size=\"11\" font-style=\"italic\" lengthAdjust=\"spacingAndGlyphs\" textLength=\"44\" x=\"38.5\" y=\"366.7573\">:&gt;&gt;P::a</text><line style=\"stroke: #383838; stroke-width: 1.0;\" x1=\"33.5\" x2=\"43.5\" y1=\"337.3398\" y2=\"337.3398\"/><text fill=\"#000000\" font-family=\"sans-serif\" font-size=\"11\" lengthAdjust=\"spacingAndGlyphs\" textLength=\"55\" x=\"43.5\" y=\"340.6479\">attributes</text><line style=\"stroke: #383838; stroke-width: 1.0;\" x1=\"98.5\" x2=\"108.5\" y1=\"337.3398\" y2=\"337.3398\"/></a><!--MD5=[96f4274e9e20536e775497830990834d]\n",
       "class E10--><a href=\"psysml:fe63b1e8-840a-4f2e-b06a-2ce986f19d03\" target=\"_top\" title=\"psysml:fe63b1e8-840a-4f2e-b06a-2ce986f19d03\" xlink:actuate=\"onRequest\" xlink:href=\"psysml:fe63b1e8-840a-4f2e-b06a-2ce986f19d03\" xlink:show=\"new\" xlink:title=\"psysml:fe63b1e8-840a-4f2e-b06a-2ce986f19d03\" xlink:type=\"simple\"><rect fill=\"#FFFFFF\" height=\"45.9375\" id=\"E10\" rx=\"10\" ry=\"10\" style=\"stroke: #383838; stroke-width: 1.5;\" width=\"42\" x=\"238\" y=\"155\"/><text fill=\"#000000\" font-family=\"sans-serif\" font-size=\"12\" font-style=\"italic\" lengthAdjust=\"spacingAndGlyphs\" textLength=\"40\" x=\"239\" y=\"171.1387\">«part»</text><text fill=\"#000000\" font-family=\"sans-serif\" font-size=\"12\" lengthAdjust=\"spacingAndGlyphs\" textLength=\"22\" x=\"248\" y=\"185.1074\">y: P</text><line style=\"stroke: #383838; stroke-width: 1.5;\" x1=\"239\" x2=\"279\" y1=\"192.9375\" y2=\"192.9375\"/></a><!--MD5=[05d275557350bfb9b23a4ef7222b4c39]\n",
       "link E3 to E2--><a href=\"psysml:6495a820-e8c0-4129-af26-6722c3b7b9e6\" target=\"_top\" title=\"psysml:6495a820-e8c0-4129-af26-6722c3b7b9e6\" xlink:actuate=\"onRequest\" xlink:href=\"psysml:6495a820-e8c0-4129-af26-6722c3b7b9e6\" xlink:show=\"new\" xlink:title=\"psysml:6495a820-e8c0-4129-af26-6722c3b7b9e6\" xlink:type=\"simple\"><path d=\"M174.34,201.31 C177.92,219.67 183.15,246.54 187.87,270.81 \" fill=\"none\" id=\"E3-&gt;E2\" style=\"stroke: #383838; stroke-width: 1.0;\"/><polygon fill=\"none\" points=\"194.8,269.8,191.75,290.77,181.06,272.47,194.8,269.8\" style=\"stroke: #383838; stroke-width: 1.0;\"/></a><!--MD5=[15ebcb19ae302d9b601edb458606d402]\n",
       "link E5 to E2--><a href=\"psysml:bd00e4e7-d183-497a-b9f8-56660fc51e3e\" target=\"_top\" title=\"psysml:bd00e4e7-d183-497a-b9f8-56660fc51e3e\" xlink:actuate=\"onRequest\" xlink:href=\"psysml:bd00e4e7-d183-497a-b9f8-56660fc51e3e\" xlink:show=\"new\" xlink:title=\"psysml:bd00e4e7-d183-497a-b9f8-56660fc51e3e\" xlink:type=\"simple\"><path d=\"M325.69,201.31 C304.9,222.1 273.2,253.8 246.71,280.29 \" fill=\"none\" id=\"E5-&gt;E2\" style=\"stroke: #383838; stroke-width: 1.0;\"/><polygon fill=\"none\" points=\"251.33,285.57,232.24,294.76,241.43,275.67,251.33,285.57\" style=\"stroke: #383838; stroke-width: 1.0;\"/></a><!--MD5=[9120cf2e5df3bff93db8f754bbbc09b4]\n",
       "link E5 to E6--><a href=\"psysml:3ec706da-d65f-4ef5-8a1f-1e1b5df7e7c6\" target=\"_top\" title=\"psysml:3ec706da-d65f-4ef5-8a1f-1e1b5df7e7c6\" xlink:actuate=\"onRequest\" xlink:href=\"psysml:3ec706da-d65f-4ef5-8a1f-1e1b5df7e7c6\" xlink:show=\"new\" xlink:title=\"psysml:3ec706da-d65f-4ef5-8a1f-1e1b5df7e7c6\" xlink:type=\"simple\"><path d=\"M341.72,211.26 C338.1,229.85 333.47,253.68 329.32,274.95 \" fill=\"none\" id=\"E5-E6\" style=\"stroke: #383838; stroke-width: 1.0;\"/><polygon fill=\"#383838\" points=\"327.4,284.84,331.8761,277.5623,325.987,276.4136,327.4,284.84\" style=\"stroke: #383838; stroke-width: 1.0;\"/><path d=\"M334.7699,202.7122 A9,9 0 0 0 351.3715 205.9503\" fill=\"none\" style=\"stroke: #383838; stroke-width: 1.5;\"/><text fill=\"#000000\" font-family=\"sans-serif\" font-size=\"13\" lengthAdjust=\"spacingAndGlyphs\" textLength=\"60\" x=\"337\" y=\"251.0669\">«variant»</text></a><!--MD5=[14ccda38c055a5c0da953d572bc50960]\n",
       "link E7 to E3--><a href=\"psysml:9cf32953-475b-4011-b1f8-e7f09d5ce449\" target=\"_top\" title=\"psysml:9cf32953-475b-4011-b1f8-e7f09d5ce449\" xlink:actuate=\"onRequest\" xlink:href=\"psysml:9cf32953-475b-4011-b1f8-e7f09d5ce449\" xlink:show=\"new\" xlink:title=\"psysml:9cf32953-475b-4011-b1f8-e7f09d5ce449\" xlink:type=\"simple\"><path d=\"M170,87.13 C170,100.7 170,118.53 170,134.73 \" fill=\"none\" id=\"E7-&gt;E3\" style=\"stroke: #383838; stroke-width: 1.0;\"/><polygon fill=\"#FFFFFF\" points=\"170,154.92,163,135.92,177,135.92,170,154.92\" style=\"stroke: #383838; stroke-width: 1.0;\"/><ellipse cx=\"165\" cy=\"130.22\" fill=\"#383838\" rx=\"2\" ry=\"2\" style=\"stroke: #383838; stroke-width: 1.0;\"/><ellipse cx=\"175\" cy=\"130.22\" fill=\"#383838\" rx=\"2\" ry=\"2\" style=\"stroke: #383838; stroke-width: 1.0;\"/></a><!--MD5=[f1f3f9f2fc535e6147756cb86a7f2e32]\n",
       "link E8 to E2--><a href=\"psysml:d1a9bfbc-b159-49c1-a5ca-956a4881ee49\" target=\"_top\" title=\"psysml:d1a9bfbc-b159-49c1-a5ca-956a4881ee49\" xlink:actuate=\"onRequest\" xlink:href=\"psysml:d1a9bfbc-b159-49c1-a5ca-956a4881ee49\" xlink:show=\"new\" xlink:title=\"psysml:d1a9bfbc-b159-49c1-a5ca-956a4881ee49\" xlink:type=\"simple\"><path d=\"M102.17,204.39 C114.52,214.17 128.04,225.9 139,238 C148.86,248.88 158.29,261.5 166.63,273.79 \" fill=\"none\" id=\"E8-&gt;E2\" style=\"stroke: #383838; stroke-width: 1.0;\"/><polygon fill=\"#FFFFFF\" points=\"177.64,290.73,161.4168,278.6135,173.1555,270.9844,177.64,290.73\" style=\"stroke: #383838; stroke-width: 1.0;\"/><ellipse cx=\"159.9876\" cy=\"272.7443\" fill=\"#383838\" rx=\"2\" ry=\"2\" style=\"stroke: #383838; stroke-width: 1.0;\"/><ellipse cx=\"168.3724\" cy=\"267.2949\" fill=\"#383838\" rx=\"2\" ry=\"2\" style=\"stroke: #383838; stroke-width: 1.0;\"/></a><!--MD5=[ed10624c06dd9a4fa49ccf290e8b16a8]\n",
       "link E8 to E9--><a href=\"psysml:4574f674-7c12-4143-bfb7-6a6844a72e64\" target=\"_top\" title=\"psysml:4574f674-7c12-4143-bfb7-6a6844a72e64\" xlink:actuate=\"onRequest\" xlink:href=\"psysml:4574f674-7c12-4143-bfb7-6a6844a72e64\" xlink:show=\"new\" xlink:title=\"psysml:4574f674-7c12-4143-bfb7-6a6844a72e64\" xlink:type=\"simple\"><path d=\"M68.06,218.32 C68.52,235.6 69.07,256.15 69.57,274.77 \" fill=\"none\" id=\"E8-E9\" style=\"stroke: #383838; stroke-width: 1.0;\"/><polygon fill=\"#383838\" points=\"69.84,284.88,72.6331,276.8054,66.6351,276.9599,69.84,284.88\" style=\"stroke: #383838; stroke-width: 1.0;\"/><path d=\"M59.4094,211.3865 A9,9 0 0 0 76.3176 210.9276\" fill=\"none\" style=\"stroke: #383838; stroke-width: 1.5;\"/><text fill=\"#000000\" font-family=\"sans-serif\" font-size=\"13\" lengthAdjust=\"spacingAndGlyphs\" textLength=\"60\" x=\"70\" y=\"251.0669\">«variant»</text></a><!--MD5=[0f36bececdf0dff6e600d6f64214b0f1]\n",
       "link E10 to E2--><a href=\"psysml:bd829215-07d4-45cb-8fe9-60748d4dd682\" target=\"_top\" title=\"psysml:bd829215-07d4-45cb-8fe9-60748d4dd682\" xlink:actuate=\"onRequest\" xlink:href=\"psysml:bd829215-07d4-45cb-8fe9-60748d4dd682\" xlink:show=\"new\" xlink:title=\"psysml:bd829215-07d4-45cb-8fe9-60748d4dd682\" xlink:type=\"simple\"><path d=\"M250.02,201.31 C242.51,219.95 231.48,247.35 221.59,271.91 \" fill=\"none\" id=\"E10-&gt;E2\" style=\"stroke: #383838; stroke-width: 1.0;\"/><polygon fill=\"#FFFFFF\" points=\"213.99,290.77,214.5927,270.5305,227.5796,275.7593,213.99,290.77\" style=\"stroke: #383838; stroke-width: 1.0;\"/><ellipse cx=\"218.5768\" cy=\"265.9899\" fill=\"#383838\" rx=\"2\" ry=\"2\" style=\"stroke: #383838; stroke-width: 1.0;\"/><ellipse cx=\"227.8532\" cy=\"269.7248\" fill=\"#383838\" rx=\"2\" ry=\"2\" style=\"stroke: #383838; stroke-width: 1.0;\"/></a><!--MD5=[d50e44985937209ae5cef6a1e8a75216]\n",
       "@startuml\r\n",
       "skinparam monochrome true\r\n",
       "skinparam classbackgroundcolor white\r\n",
       "skinparam shadowing false\r\n",
       "skinparam wrapWidth 300\r\n",
       "hide circle\r\n",
       "\r\n",
       "package \"VariabilityTest\" as E1  [[psysml:6e13bc12-600f-4176-9ee3-c77c18f0da6f ]]  {\r\n",
       "comp def \"P\" as E2  <<(T,blue) part def>> [[psysml:a47e4883-53c6-48e5-9729-358fb18738b5 ]] {\r\n",
       "- - attributes - -\r\n",
       "a\r\n",
       "}\r\n",
       "comp def \"Q\" as E3  <<(T,blue) part def>> [[psysml:64152dcd-188c-4285-9d2f-82b4222731ff ]] {\r\n",
       "}\r\n",
       "comp def \"B\" as E4  <<(T,blue) attribute def>> [[psysml:6204c3f0-143a-45cc-ac58-9ea86a3a8ea6 ]] {\r\n",
       "}\r\n",
       "comp def \"V\" as E5  <<(T,blue) part def>> [[psysml:58826ca2-a740-4eaa-a71e-521b590388a3 ]] {\r\n",
       "}\r\n",
       "comp usage \"x: Q\" as E6  <<(T,blue) part>> [[psysml:c2df0e2e-5a66-4a2b-abfc-b3b4dd7dd2c5 ]] {\r\n",
       "- - attributes - -\r\n",
       "b: B\\n//:>>P::a// \r\n",
       "}\r\n",
       "comp usage \"q: Q\" as E7  <<(T,blue) part>> [[psysml:d5aa7800-4c4d-4a74-9f82-8c5d7377a367 ]] {\r\n",
       "}\r\n",
       "comp usage \"v: P\" as E8  <<variation>>\\n <<(T,blue) part>> [[psysml:d7b3804f-80e3-4381-979e-bf8e2501fba8 ]] {\r\n",
       "}\r\n",
       "comp usage \"q\" as E9  <<(T,blue) reference>> [[psysml:aeeab6cc-3339-44ed-a45c-f65a5d97c376 ]] {\r\n",
       "- - attributes - -\r\n",
       "b: B\\n//:>>P::a// \r\n",
       "}\r\n",
       "comp usage \"y: P\" as E10  <<(T,blue) part>> [[psysml:fe63b1e8-840a-4f2e-b06a-2ce986f19d03 ]] {\r\n",
       "}\r\n",
       "E3 - -|> E2 [[psysml:6495a820-e8c0-4129-af26-6722c3b7b9e6 ]] \r\n",
       "E5 - -|> E2 [[psysml:bd00e4e7-d183-497a-b9f8-56660fc51e3e ]] \r\n",
       "E5 )- ->> E6 [[psysml:3ec706da-d65f-4ef5-8a1f-1e1b5df7e7c6 ]] : <<variant>>\r\n",
       "E7 - -:|> E3 [[psysml:9cf32953-475b-4011-b1f8-e7f09d5ce449 ]] \r\n",
       "E8 - -:|> E2 [[psysml:d1a9bfbc-b159-49c1-a5ca-956a4881ee49 ]] \r\n",
       "E8 )- ->> E9 [[psysml:4574f674-7c12-4143-bfb7-6a6844a72e64 ]] : <<variant>>\r\n",
       "E10 - -:|> E2 [[psysml:bd829215-07d4-45cb-8fe9-60748d4dd682 ]] \r\n",
       "}\r\n",
       "@enduml\r\n",
       "\n",
       "PlantUML version 1.2020.13(Sat Jun 13 12:26:38 UTC 2020)\n",
       "(EPL source distribution)\n",
       "Java Runtime: OpenJDK Runtime Environment\n",
       "JVM: OpenJDK 64-Bit Server VM\n",
       "Default Encoding: UTF-8\n",
       "Language: en\n",
       "Country: null\n",
       "--></g></svg>"
      ]
     },
     "execution_count": 38,
     "metadata": {},
     "output_type": "execute_result"
    }
   ],
   "source": [
    "%viz --style=\"DEFAULT\" --view=\"Tree\" \"VariabilityTest\""
   ]
  },
  {
   "cell_type": "code",
   "execution_count": 39,
   "id": "3545e414",
   "metadata": {
    "execution": {
     "iopub.execute_input": "2021-08-04T06:26:51.196330Z",
     "iopub.status.busy": "2021-08-04T06:26:51.195917Z",
     "iopub.status.idle": "2021-08-04T06:26:51.199263Z",
     "shell.execute_reply": "2021-08-04T06:26:51.198867Z"
    }
   },
   "outputs": [
    {
     "data": {
      "image/svg+xml": [
       "<?xml version=\"1.0\" encoding=\"UTF-8\" standalone=\"no\"?><svg xmlns=\"http://www.w3.org/2000/svg\" xmlns:xlink=\"http://www.w3.org/1999/xlink\" contentScriptType=\"application/ecmascript\" contentStyleType=\"text/css\" height=\"12px\" preserveAspectRatio=\"none\" style=\"width:12px;height:12px;\" version=\"1.1\" viewBox=\"0 0 12 12\" width=\"12px\" zoomAndPan=\"magnify\"><defs/><g><!--MD5=[c5f280e076d0d61ccf4b0f27871bda1d]\n",
       "@startuml\r\n",
       "skinparam monochrome true\r\n",
       "skinparam classbackgroundcolor white\r\n",
       "skinparam shadowing false\r\n",
       "skinparam wrapWidth 300\r\n",
       "hide circle\r\n",
       "\r\n",
       "@enduml\r\n",
       "\n",
       "PlantUML version 1.2020.13(Sat Jun 13 12:26:38 UTC 2020)\n",
       "(EPL source distribution)\n",
       "Java Runtime: OpenJDK Runtime Environment\n",
       "JVM: OpenJDK 64-Bit Server VM\n",
       "Default Encoding: UTF-8\n",
       "Language: en\n",
       "Country: null\n",
       "--></g></svg>"
      ]
     },
     "execution_count": 39,
     "metadata": {},
     "output_type": "execute_result"
    }
   ],
   "source": [
    "%viz --style=\"DEFAULT\" --view=\"State\" \"VariabilityTest\""
   ]
  },
  {
   "cell_type": "code",
   "execution_count": 40,
   "id": "2ee93970",
   "metadata": {
    "execution": {
     "iopub.execute_input": "2021-08-04T06:26:51.248847Z",
     "iopub.status.busy": "2021-08-04T06:26:51.248446Z",
     "iopub.status.idle": "2021-08-04T06:26:51.313411Z",
     "shell.execute_reply": "2021-08-04T06:26:51.312163Z"
    }
   },
   "outputs": [
    {
     "data": {
      "image/svg+xml": [
       "<?xml version=\"1.0\" encoding=\"UTF-8\" standalone=\"no\"?><svg xmlns=\"http://www.w3.org/2000/svg\" xmlns:xlink=\"http://www.w3.org/1999/xlink\" contentScriptType=\"application/ecmascript\" contentStyleType=\"text/css\" height=\"427px\" preserveAspectRatio=\"none\" style=\"width:783px;height:427px;\" version=\"1.1\" viewBox=\"0 0 783 427\" width=\"783px\" zoomAndPan=\"magnify\"><defs/><g><!--MD5=[fbc87193dbaf4d95561dea2c320d4a47]\n",
       "cluster E1--><a href=\"psysml:6e13bc12-600f-4176-9ee3-c77c18f0da6f\" target=\"_top\" title=\"psysml:6e13bc12-600f-4176-9ee3-c77c18f0da6f\" xlink:actuate=\"onRequest\" xlink:href=\"psysml:6e13bc12-600f-4176-9ee3-c77c18f0da6f\" xlink:show=\"new\" xlink:title=\"psysml:6e13bc12-600f-4176-9ee3-c77c18f0da6f\" xlink:type=\"simple\"><polygon fill=\"#FFFFFF\" points=\"16,6,134,6,141,28.2969,761,28.2969,761,415,16,415,16,6\" style=\"stroke: #000000; stroke-width: 1.5;\"/><line style=\"stroke: #000000; stroke-width: 1.5;\" x1=\"16\" x2=\"141\" y1=\"28.2969\" y2=\"28.2969\"/><text fill=\"#000000\" font-family=\"sans-serif\" font-size=\"14\" font-weight=\"bold\" lengthAdjust=\"spacingAndGlyphs\" textLength=\"112\" x=\"20\" y=\"20.9951\">VariabilityTest</text></a><!--MD5=[e4f7fae6ed58524ba242bb0b0d3be6b7]\n",
       "cluster E2--><a href=\"psysml:a47e4883-53c6-48e5-9729-358fb18738b5\" target=\"_top\" title=\"psysml:a47e4883-53c6-48e5-9729-358fb18738b5\" xlink:actuate=\"onRequest\" xlink:href=\"psysml:a47e4883-53c6-48e5-9729-358fb18738b5\" xlink:show=\"new\" xlink:title=\"psysml:a47e4883-53c6-48e5-9729-358fb18738b5\" xlink:type=\"simple\"><rect fill=\"#FFFFFF\" height=\"129\" id=\"E2\" style=\"stroke: #383838; stroke-width: 1.5;\" width=\"139\" x=\"424\" y=\"254\"/><rect fill=\"#F8F8F8\" height=\"37.9375\" style=\"stroke: #383838; stroke-width: 1.5;\" width=\"139\" x=\"424\" y=\"254\"/><text fill=\"#000000\" font-family=\"sans-serif\" font-size=\"12\" font-style=\"italic\" lengthAdjust=\"spacingAndGlyphs\" textLength=\"64\" x=\"461.5\" y=\"270.1387\">«part def»</text><text fill=\"#000000\" font-family=\"sans-serif\" font-size=\"12\" lengthAdjust=\"spacingAndGlyphs\" textLength=\"8\" x=\"489.5\" y=\"284.1074\">P</text></a><!--MD5=[14e3b0961a2654348d326746436168a1]\n",
       "cluster E6--><a href=\"psysml:58826ca2-a740-4eaa-a71e-521b590388a3\" target=\"_top\" title=\"psysml:58826ca2-a740-4eaa-a71e-521b590388a3\" xlink:actuate=\"onRequest\" xlink:href=\"psysml:58826ca2-a740-4eaa-a71e-521b590388a3\" xlink:show=\"new\" xlink:title=\"psysml:58826ca2-a740-4eaa-a71e-521b590388a3\" xlink:type=\"simple\"><rect fill=\"#FFFFFF\" height=\"157\" id=\"E6\" style=\"stroke: #383838; stroke-width: 1.5;\" width=\"131\" x=\"598\" y=\"57\"/><rect fill=\"#F8F8F8\" height=\"37.9375\" style=\"stroke: #383838; stroke-width: 1.5;\" width=\"131\" x=\"598\" y=\"57\"/><text fill=\"#000000\" font-family=\"sans-serif\" font-size=\"12\" font-style=\"italic\" lengthAdjust=\"spacingAndGlyphs\" textLength=\"64\" x=\"631.5\" y=\"73.1387\">«part def»</text><text fill=\"#000000\" font-family=\"sans-serif\" font-size=\"12\" lengthAdjust=\"spacingAndGlyphs\" textLength=\"8\" x=\"659.5\" y=\"87.1074\">V</text></a><!--MD5=[7f149f147074ac12df2cb0a7728a5fb0]\n",
       "cluster E9--><a href=\"psysml:d7b3804f-80e3-4381-979e-bf8e2501fba8\" target=\"_top\" title=\"psysml:d7b3804f-80e3-4381-979e-bf8e2501fba8\" xlink:actuate=\"onRequest\" xlink:href=\"psysml:d7b3804f-80e3-4381-979e-bf8e2501fba8\" xlink:show=\"new\" xlink:title=\"psysml:d7b3804f-80e3-4381-979e-bf8e2501fba8\" xlink:type=\"simple\"><rect fill=\"#FFFFFF\" height=\"139\" id=\"E9\" rx=\"10\" ry=\"10\" style=\"stroke: #383838; stroke-width: 1.5;\" width=\"110\" x=\"456\" y=\"74\"/><rect fill=\"#F8F8F8\" height=\"23.9688\" rx=\"10\" ry=\"10\" style=\"stroke: #F8F8F8; stroke-width: 1.5;\" width=\"110\" x=\"456\" y=\"74\"/><rect fill=\"#F8F8F8\" height=\"10\" style=\"stroke: #F8F8F8; stroke-width: 1.5;\" width=\"110\" x=\"456\" y=\"87.9688\"/><rect fill=\"none\" height=\"139\" id=\"E9\" rx=\"10\" ry=\"10\" style=\"stroke: #383838; stroke-width: 1.5;\" width=\"110\" x=\"456\" y=\"74\"/><text fill=\"#000000\" font-family=\"sans-serif\" font-size=\"12\" lengthAdjust=\"spacingAndGlyphs\" textLength=\"22\" x=\"500\" y=\"90.1387\">v: P</text><line style=\"stroke: #383838; stroke-width: 1.0;\" x1=\"456\" x2=\"566\" y1=\"97.9688\" y2=\"97.9688\"/></a><g id=\"E1.E5\"><a href=\"psysml:6204c3f0-143a-45cc-ac58-9ea86a3a8ea6\" target=\"_top\" title=\"psysml:6204c3f0-143a-45cc-ac58-9ea86a3a8ea6\" xlink:actuate=\"onRequest\" xlink:href=\"psysml:6204c3f0-143a-45cc-ac58-9ea86a3a8ea6\" xlink:show=\"new\" xlink:title=\"psysml:6204c3f0-143a-45cc-ac58-9ea86a3a8ea6\" xlink:type=\"simple\"><rect fill=\"#FFFFFF\" height=\"42.9375\" id=\"E5\" style=\"stroke: #383838; stroke-width: 1.5;\" width=\"100\" x=\"337\" y=\"131.5\"/><rect fill=\"#F8F8F8\" height=\"37.9375\" style=\"stroke: #383838; stroke-width: 1.5;\" width=\"100\" x=\"337\" y=\"131.5\"/><text fill=\"#000000\" font-family=\"sans-serif\" font-size=\"12\" font-style=\"italic\" lengthAdjust=\"spacingAndGlyphs\" textLength=\"93\" x=\"340.5\" y=\"147.6387\">«attribute def»</text><text fill=\"#000000\" font-family=\"sans-serif\" font-size=\"12\" lengthAdjust=\"spacingAndGlyphs\" textLength=\"8\" x=\"383\" y=\"161.6074\">B</text></a></g><!--MD5=[09b614a08d8cba4a07c9adeb5e0fee81]\n",
       "class E3--><a href=\"psysml:af83713f-f16b-4de7-b4a6-ecd5bab1fc22\" target=\"_top\" title=\"psysml:af83713f-f16b-4de7-b4a6-ecd5bab1fc22\" xlink:actuate=\"onRequest\" xlink:href=\"psysml:af83713f-f16b-4de7-b4a6-ecd5bab1fc22\" xlink:show=\"new\" xlink:title=\"psysml:af83713f-f16b-4de7-b4a6-ecd5bab1fc22\" xlink:type=\"simple\"><rect fill=\"#FFFFFF\" height=\"45.9375\" id=\"E3\" rx=\"10\" ry=\"10\" style=\"stroke: #383838; stroke-width: 1.5;\" width=\"71\" x=\"467.5\" y=\"313\"/><text fill=\"#000000\" font-family=\"sans-serif\" font-size=\"12\" font-style=\"italic\" lengthAdjust=\"spacingAndGlyphs\" textLength=\"69\" x=\"468.5\" y=\"329.1387\">«attribute»</text><text fill=\"#000000\" font-family=\"sans-serif\" font-size=\"12\" lengthAdjust=\"spacingAndGlyphs\" textLength=\"8\" x=\"499\" y=\"343.1074\">a</text><line style=\"stroke: #383838; stroke-width: 1.5;\" x1=\"468.5\" x2=\"537.5\" y1=\"350.9375\" y2=\"350.9375\"/></a><g id=\"E1.E4\"><a href=\"psysml:64152dcd-188c-4285-9d2f-82b4222731ff\" target=\"_top\" title=\"psysml:64152dcd-188c-4285-9d2f-82b4222731ff\" xlink:actuate=\"onRequest\" xlink:href=\"psysml:64152dcd-188c-4285-9d2f-82b4222731ff\" xlink:show=\"new\" xlink:title=\"psysml:64152dcd-188c-4285-9d2f-82b4222731ff\" xlink:type=\"simple\"><rect fill=\"#FFFFFF\" height=\"42.9375\" id=\"E4\" style=\"stroke: #383838; stroke-width: 1.5;\" width=\"71\" x=\"230.5\" y=\"131.5\"/><rect fill=\"#F8F8F8\" height=\"37.9375\" style=\"stroke: #383838; stroke-width: 1.5;\" width=\"71\" x=\"230.5\" y=\"131.5\"/><text fill=\"#000000\" font-family=\"sans-serif\" font-size=\"12\" font-style=\"italic\" lengthAdjust=\"spacingAndGlyphs\" textLength=\"64\" x=\"234\" y=\"147.6387\">«part def»</text><text fill=\"#000000\" font-family=\"sans-serif\" font-size=\"12\" lengthAdjust=\"spacingAndGlyphs\" textLength=\"9\" x=\"261.5\" y=\"161.6074\">Q</text></a></g><!--MD5=[2156ba9850f5573cc1fc38a6a4b2f02b]\n",
       "class E7--><a href=\"psysml:c2df0e2e-5a66-4a2b-abfc-b3b4dd7dd2c5\" target=\"_top\" title=\"psysml:c2df0e2e-5a66-4a2b-abfc-b3b4dd7dd2c5\" xlink:actuate=\"onRequest\" xlink:href=\"psysml:c2df0e2e-5a66-4a2b-abfc-b3b4dd7dd2c5\" xlink:show=\"new\" xlink:title=\"psysml:c2df0e2e-5a66-4a2b-abfc-b3b4dd7dd2c5\" xlink:type=\"simple\"><rect fill=\"#FFFFFF\" height=\"74.3828\" id=\"E7\" rx=\"10\" ry=\"10\" style=\"stroke: #383838; stroke-width: 1.5;\" width=\"63\" x=\"641.5\" y=\"116\"/><text fill=\"#000000\" font-family=\"sans-serif\" font-size=\"12\" lengthAdjust=\"spacingAndGlyphs\" textLength=\"23\" x=\"661.5\" y=\"132.1387\">x: Q</text><line style=\"stroke: #383838; stroke-width: 1.5;\" x1=\"642.5\" x2=\"703.5\" y1=\"139.9688\" y2=\"139.9688\"/><text fill=\"#000000\" font-family=\"sans-serif\" font-size=\"11\" lengthAdjust=\"spacingAndGlyphs\" textLength=\"23\" x=\"647.5\" y=\"170.9839\">b: B</text><text fill=\"#000000\" font-family=\"sans-serif\" font-size=\"11\" font-style=\"italic\" lengthAdjust=\"spacingAndGlyphs\" textLength=\"44\" x=\"647.5\" y=\"183.7886\">:&gt;&gt;P::a</text><line style=\"stroke: #383838; stroke-width: 1.0;\" x1=\"642.5\" x2=\"645.5\" y1=\"154.3711\" y2=\"154.3711\"/><text fill=\"#000000\" font-family=\"sans-serif\" font-size=\"11\" lengthAdjust=\"spacingAndGlyphs\" textLength=\"55\" x=\"645.5\" y=\"157.6792\">attributes</text><line style=\"stroke: #383838; stroke-width: 1.0;\" x1=\"700.5\" x2=\"703.5\" y1=\"154.3711\" y2=\"154.3711\"/></a><g id=\"E1.E8\"><a href=\"psysml:d5aa7800-4c4d-4a74-9f82-8c5d7377a367\" target=\"_top\" title=\"psysml:d5aa7800-4c4d-4a74-9f82-8c5d7377a367\" xlink:actuate=\"onRequest\" xlink:href=\"psysml:d5aa7800-4c4d-4a74-9f82-8c5d7377a367\" xlink:show=\"new\" xlink:title=\"psysml:d5aa7800-4c4d-4a74-9f82-8c5d7377a367\" xlink:type=\"simple\"><rect fill=\"#FFFFFF\" height=\"40\" id=\"E8\" rx=\"10\" ry=\"10\" style=\"stroke: #383838; stroke-width: 1.5;\" width=\"50\" x=\"145\" y=\"133\"/><rect fill=\"#F8F8F8\" height=\"23.9688\" rx=\"10\" ry=\"10\" style=\"stroke: #F8F8F8; stroke-width: 1.5;\" width=\"50\" x=\"145\" y=\"133\"/><rect fill=\"#F8F8F8\" height=\"10\" style=\"stroke: #F8F8F8; stroke-width: 1.5;\" width=\"50\" x=\"145\" y=\"146.9688\"/><rect fill=\"none\" height=\"40\" id=\"E8\" rx=\"10\" ry=\"10\" style=\"stroke: #383838; stroke-width: 1.5;\" width=\"50\" x=\"145\" y=\"133\"/><text fill=\"#000000\" font-family=\"sans-serif\" font-size=\"12\" lengthAdjust=\"spacingAndGlyphs\" textLength=\"25\" x=\"157.5\" y=\"149.1387\">q: Q</text></a></g><!--MD5=[96f4274e9e20536e775497830990834d]\n",
       "class E10--><a href=\"psysml:aeeab6cc-3339-44ed-a45c-f65a5d97c376\" target=\"_top\" title=\"psysml:aeeab6cc-3339-44ed-a45c-f65a5d97c376\" xlink:actuate=\"onRequest\" xlink:href=\"psysml:aeeab6cc-3339-44ed-a45c-f65a5d97c376\" xlink:show=\"new\" xlink:title=\"psysml:aeeab6cc-3339-44ed-a45c-f65a5d97c376\" xlink:type=\"simple\"><rect fill=\"#FFFFFF\" height=\"88.3516\" id=\"E10\" rx=\"10\" ry=\"10\" style=\"stroke: #383838; stroke-width: 1.5;\" width=\"77\" x=\"472.5\" y=\"109\"/><text fill=\"#000000\" font-family=\"sans-serif\" font-size=\"12\" font-style=\"italic\" lengthAdjust=\"spacingAndGlyphs\" textLength=\"75\" x=\"473.5\" y=\"125.1387\">«reference»</text><text fill=\"#000000\" font-family=\"sans-serif\" font-size=\"12\" lengthAdjust=\"spacingAndGlyphs\" textLength=\"8\" x=\"507\" y=\"139.1074\">q</text><line style=\"stroke: #383838; stroke-width: 1.5;\" x1=\"473.5\" x2=\"548.5\" y1=\"146.9375\" y2=\"146.9375\"/><text fill=\"#000000\" font-family=\"sans-serif\" font-size=\"11\" lengthAdjust=\"spacingAndGlyphs\" textLength=\"23\" x=\"478.5\" y=\"177.9526\">b: B</text><text fill=\"#000000\" font-family=\"sans-serif\" font-size=\"11\" font-style=\"italic\" lengthAdjust=\"spacingAndGlyphs\" textLength=\"44\" x=\"478.5\" y=\"190.7573\">:&gt;&gt;P::a</text><line style=\"stroke: #383838; stroke-width: 1.0;\" x1=\"473.5\" x2=\"483.5\" y1=\"161.3398\" y2=\"161.3398\"/><text fill=\"#000000\" font-family=\"sans-serif\" font-size=\"11\" lengthAdjust=\"spacingAndGlyphs\" textLength=\"55\" x=\"483.5\" y=\"164.6479\">attributes</text><line style=\"stroke: #383838; stroke-width: 1.0;\" x1=\"538.5\" x2=\"548.5\" y1=\"161.3398\" y2=\"161.3398\"/></a><g id=\"E1.E11\"><a href=\"psysml:fe63b1e8-840a-4f2e-b06a-2ce986f19d03\" target=\"_top\" title=\"psysml:fe63b1e8-840a-4f2e-b06a-2ce986f19d03\" xlink:actuate=\"onRequest\" xlink:href=\"psysml:fe63b1e8-840a-4f2e-b06a-2ce986f19d03\" xlink:show=\"new\" xlink:title=\"psysml:fe63b1e8-840a-4f2e-b06a-2ce986f19d03\" xlink:type=\"simple\"><rect fill=\"#FFFFFF\" height=\"40\" id=\"E11\" rx=\"10\" ry=\"10\" style=\"stroke: #383838; stroke-width: 1.5;\" width=\"77\" x=\"32.5\" y=\"133\"/><rect fill=\"#F8F8F8\" height=\"23.9688\" rx=\"10\" ry=\"10\" style=\"stroke: #F8F8F8; stroke-width: 1.5;\" width=\"77\" x=\"32.5\" y=\"133\"/><rect fill=\"#F8F8F8\" height=\"10\" style=\"stroke: #F8F8F8; stroke-width: 1.5;\" width=\"77\" x=\"32.5\" y=\"146.9688\"/><rect fill=\"none\" height=\"40\" id=\"E11\" rx=\"10\" ry=\"10\" style=\"stroke: #383838; stroke-width: 1.5;\" width=\"77\" x=\"32.5\" y=\"133\"/><text fill=\"#000000\" font-family=\"sans-serif\" font-size=\"12\" lengthAdjust=\"spacingAndGlyphs\" textLength=\"62\" x=\"38\" y=\"149.1387\">y: P= v::q;</text></a></g><!--MD5=[185131fc0dcab0a4505a2ebe144e961b]\n",
       "link E4 to E2--><a href=\"psysml:6495a820-e8c0-4129-af26-6722c3b7b9e6\" target=\"_top\" title=\"psysml:6495a820-e8c0-4129-af26-6722c3b7b9e6\" xlink:actuate=\"onRequest\" xlink:href=\"psysml:6495a820-e8c0-4129-af26-6722c3b7b9e6\" xlink:show=\"new\" xlink:title=\"psysml:6495a820-e8c0-4129-af26-6722c3b7b9e6\" xlink:type=\"simple\"><path d=\"M278.95,174.5 C289.29,190.29 304.57,212.32 320,230 C342.085,255.3 369.5625,281.1325 391.7738,300.8438 C402.8794,310.6994 412.6684,319.0247 419.8086,324.988 C420.7011,325.7334 421.5522,326.4419 422.3594,327.1119 C422.763,327.4468 423.1555,327.7722 423.5368,328.0877 C423.6321,328.1666 423.7267,328.2449 423.8206,328.3225 \" fill=\"none\" id=\"E4-&gt;E2\" style=\"stroke: #383838; stroke-width: 1.0;\"/><polygon fill=\"#FFFFFF\" points=\"423.8206,328.3225,413.6398,310.8196,404.7177,321.6083,423.8206,328.3225\" style=\"stroke: #383838; stroke-width: 1.0;\"/></a><!--MD5=[2351f337d6de0f557b50152ba70847b5]\n",
       "link E6 to E2--><a href=\"psysml:bd00e4e7-d183-497a-b9f8-56660fc51e3e\" target=\"_top\" title=\"psysml:bd00e4e7-d183-497a-b9f8-56660fc51e3e\" xlink:actuate=\"onRequest\" xlink:href=\"psysml:bd00e4e7-d183-497a-b9f8-56660fc51e3e\" xlink:show=\"new\" xlink:title=\"psysml:bd00e4e7-d183-497a-b9f8-56660fc51e3e\" xlink:type=\"simple\"><path d=\"M597.9695,184.2276 C597.7875,184.724 597.6019,185.2229 597.4125,185.7238 C591.3525,201.7525 581.485,219.9 566,230 C544.54,243.99 470.2,221.04 451,238 C446.9488,241.5788 443.6069,245.7455 440.8611,250.3013 C440.1747,251.4402 439.5255,252.6035 438.9118,253.788 \" fill=\"none\" id=\"E6-&gt;E2\" style=\"stroke: #383838; stroke-width: 1.0;\"/><polygon fill=\"#FFFFFF\" points=\"438.9118,253.788,453.8677,240.138,441.4371,233.6976,438.9118,253.788\" style=\"stroke: #383838; stroke-width: 1.0;\"/></a><!--MD5=[c7944d145dc3e268965c14f3cbb2ec37]\n",
       "@startuml\r\n",
       "skinparam ranksep 10\r\n",
       "skinparam rectangle {\r\n",
       " backgroundColor<<block>> LightGreen\r\n",
       "}\r\n",
       "skinparam monochrome true\r\n",
       "skinparam classbackgroundcolor white\r\n",
       "skinparam shadowing false\r\n",
       "skinparam wrapWidth 300\r\n",
       "hide circle\r\n",
       "\r\n",
       "package \"VariabilityTest\" as E1  [[psysml:6e13bc12-600f-4176-9ee3-c77c18f0da6f ]]  {\r\n",
       "rec def \"P\" as E2  <<(T,blue) part def>> [[psysml:a47e4883-53c6-48e5-9729-358fb18738b5 ]] {\r\n",
       "comp usage \"a\" as E3  <<(T,blue) attribute>> [[psysml:af83713f-f16b-4de7-b4a6-ecd5bab1fc22 ]] {\r\n",
       "}\r\n",
       "}\r\n",
       "rec def \"Q\" as E4  <<(T,blue) part def>> [[psysml:64152dcd-188c-4285-9d2f-82b4222731ff ]] {\r\n",
       "}\r\n",
       "def \"B\" as E5  <<(T,blue) attribute def>> [[psysml:6204c3f0-143a-45cc-ac58-9ea86a3a8ea6 ]] \r\n",
       "rec def \"V\" as E6  <<(T,blue) part def>> [[psysml:58826ca2-a740-4eaa-a71e-521b590388a3 ]] {\r\n",
       "comp usage \"x: Q\" as E7  [[psysml:c2df0e2e-5a66-4a2b-abfc-b3b4dd7dd2c5 ]] {\r\n",
       "- - attributes - -\r\n",
       "b: B\\n//:>>P::a// \r\n",
       "}\r\n",
       "}\r\n",
       "rec usage \"q: Q\" as E8  [[psysml:d5aa7800-4c4d-4a74-9f82-8c5d7377a367 ]] {\r\n",
       "}\r\n",
       "rec usage \"v: P\" as E9  [[psysml:d7b3804f-80e3-4381-979e-bf8e2501fba8 ]] {\r\n",
       "comp usage \"q\" as E10  <<(T,blue) reference>> [[psysml:aeeab6cc-3339-44ed-a45c-f65a5d97c376 ]] {\r\n",
       "- - attributes - -\r\n",
       "b: B\\n//:>>P::a// \r\n",
       "}\r\n",
       "}\r\n",
       "rec usage \"y: P= v::q; \" as E11  [[psysml:fe63b1e8-840a-4f2e-b06a-2ce986f19d03 ]] {\r\n",
       "}\r\n",
       "E4 - -|> E2 [[psysml:6495a820-e8c0-4129-af26-6722c3b7b9e6 ]] \r\n",
       "E6 - -|> E2 [[psysml:bd00e4e7-d183-497a-b9f8-56660fc51e3e ]] \r\n",
       "}\r\n",
       "@enduml\r\n",
       "\n",
       "PlantUML version 1.2020.13(Sat Jun 13 12:26:38 UTC 2020)\n",
       "(EPL source distribution)\n",
       "Java Runtime: OpenJDK Runtime Environment\n",
       "JVM: OpenJDK 64-Bit Server VM\n",
       "Default Encoding: UTF-8\n",
       "Language: en\n",
       "Country: null\n",
       "--></g></svg>"
      ]
     },
     "execution_count": 40,
     "metadata": {},
     "output_type": "execute_result"
    }
   ],
   "source": [
    "%viz --style=\"DEFAULT\" --view=\"Interconnection\" \"VariabilityTest\""
   ]
  },
  {
   "cell_type": "code",
   "execution_count": 41,
   "id": "b9305860",
   "metadata": {
    "execution": {
     "iopub.execute_input": "2021-08-04T06:26:51.363014Z",
     "iopub.status.busy": "2021-08-04T06:26:51.362625Z",
     "iopub.status.idle": "2021-08-04T06:26:51.366190Z",
     "shell.execute_reply": "2021-08-04T06:26:51.366473Z"
    }
   },
   "outputs": [
    {
     "data": {
      "image/svg+xml": [
       "<?xml version=\"1.0\" encoding=\"UTF-8\" standalone=\"no\"?><svg xmlns=\"http://www.w3.org/2000/svg\" xmlns:xlink=\"http://www.w3.org/1999/xlink\" contentScriptType=\"application/ecmascript\" contentStyleType=\"text/css\" height=\"12px\" preserveAspectRatio=\"none\" style=\"width:12px;height:12px;\" version=\"1.1\" viewBox=\"0 0 12 12\" width=\"12px\" zoomAndPan=\"magnify\"><defs/><g><!--MD5=[388f21188e31bfdd97050473b19af356]\n",
       "@startuml\r\n",
       "skinparam ranksep 8\r\n",
       "skinparam monochrome true\r\n",
       "skinparam classbackgroundcolor white\r\n",
       "skinparam shadowing false\r\n",
       "skinparam wrapWidth 300\r\n",
       "hide circle\r\n",
       "\r\n",
       "@enduml\r\n",
       "\n",
       "PlantUML version 1.2020.13(Sat Jun 13 12:26:38 UTC 2020)\n",
       "(EPL source distribution)\n",
       "Java Runtime: OpenJDK Runtime Environment\n",
       "JVM: OpenJDK 64-Bit Server VM\n",
       "Default Encoding: UTF-8\n",
       "Language: en\n",
       "Country: null\n",
       "--></g></svg>"
      ]
     },
     "execution_count": 41,
     "metadata": {},
     "output_type": "execute_result"
    }
   ],
   "source": [
    "%viz --style=\"DEFAULT\" --view=\"Action\" \"VariabilityTest\""
   ]
  },
  {
   "cell_type": "code",
   "execution_count": 42,
   "id": "9f7ad7cd",
   "metadata": {
    "execution": {
     "iopub.execute_input": "2021-08-04T06:26:51.416517Z",
     "iopub.status.busy": "2021-08-04T06:26:51.416110Z",
     "iopub.status.idle": "2021-08-04T06:26:51.466381Z",
     "shell.execute_reply": "2021-08-04T06:26:51.464894Z"
    }
   },
   "outputs": [
    {
     "data": {
      "image/svg+xml": [
       "<?xml version=\"1.0\" encoding=\"UTF-8\" standalone=\"no\"?><svg xmlns=\"http://www.w3.org/2000/svg\" xmlns:xlink=\"http://www.w3.org/1999/xlink\" contentScriptType=\"application/ecmascript\" contentStyleType=\"text/css\" height=\"401px\" preserveAspectRatio=\"none\" style=\"width:419px;height:401px;\" version=\"1.1\" viewBox=\"0 0 419 401\" width=\"419px\" zoomAndPan=\"magnify\"><defs/><g><!--MD5=[fbc87193dbaf4d95561dea2c320d4a47]\n",
       "cluster E1--><a href=\"psysml:6e13bc12-600f-4176-9ee3-c77c18f0da6f\" target=\"_top\" title=\"psysml:6e13bc12-600f-4176-9ee3-c77c18f0da6f\" xlink:actuate=\"onRequest\" xlink:href=\"psysml:6e13bc12-600f-4176-9ee3-c77c18f0da6f\" xlink:show=\"new\" xlink:title=\"psysml:6e13bc12-600f-4176-9ee3-c77c18f0da6f\" xlink:type=\"simple\"><polygon fill=\"#FFFFFF\" points=\"16,6,134,6,141,28.2969,397,28.2969,397,389,16,389,16,6\" style=\"stroke: #000000; stroke-width: 1.5;\"/><line style=\"stroke: #000000; stroke-width: 1.5;\" x1=\"16\" x2=\"141\" y1=\"28.2969\" y2=\"28.2969\"/><text fill=\"#000000\" font-family=\"sans-serif\" font-size=\"14\" font-weight=\"bold\" lengthAdjust=\"spacingAndGlyphs\" textLength=\"112\" x=\"20\" y=\"20.9951\">VariabilityTest</text></a><!--MD5=[b4997ac47864f28c2f74865a473b2911]\n",
       "class E2--><a href=\"psysml:a47e4883-53c6-48e5-9729-358fb18738b5\" target=\"_top\" title=\"psysml:a47e4883-53c6-48e5-9729-358fb18738b5\" xlink:actuate=\"onRequest\" xlink:href=\"psysml:a47e4883-53c6-48e5-9729-358fb18738b5\" xlink:show=\"new\" xlink:title=\"psysml:a47e4883-53c6-48e5-9729-358fb18738b5\" xlink:type=\"simple\"><rect fill=\"#FFFFFF\" height=\"75.5469\" id=\"E2\" style=\"stroke: #383838; stroke-width: 1.5;\" width=\"66\" x=\"166\" y=\"291\"/><text fill=\"#000000\" font-family=\"sans-serif\" font-size=\"12\" font-style=\"italic\" lengthAdjust=\"spacingAndGlyphs\" textLength=\"64\" x=\"167\" y=\"307.1387\">«part def»</text><text fill=\"#000000\" font-family=\"sans-serif\" font-size=\"12\" lengthAdjust=\"spacingAndGlyphs\" textLength=\"8\" x=\"195\" y=\"321.1074\">P</text><line style=\"stroke: #383838; stroke-width: 1.5;\" x1=\"167\" x2=\"231\" y1=\"328.9375\" y2=\"328.9375\"/><text fill=\"#000000\" font-family=\"sans-serif\" font-size=\"11\" lengthAdjust=\"spacingAndGlyphs\" textLength=\"7\" x=\"172\" y=\"359.9526\">a</text><line style=\"stroke: #383838; stroke-width: 1.0;\" x1=\"167\" x2=\"171.5\" y1=\"343.3398\" y2=\"343.3398\"/><text fill=\"#000000\" font-family=\"sans-serif\" font-size=\"11\" lengthAdjust=\"spacingAndGlyphs\" textLength=\"55\" x=\"171.5\" y=\"346.6479\">attributes</text><line style=\"stroke: #383838; stroke-width: 1.0;\" x1=\"226.5\" x2=\"231\" y1=\"343.3398\" y2=\"343.3398\"/></a><!--MD5=[09b614a08d8cba4a07c9adeb5e0fee81]\n",
       "class E3--><a href=\"psysml:64152dcd-188c-4285-9d2f-82b4222731ff\" target=\"_top\" title=\"psysml:64152dcd-188c-4285-9d2f-82b4222731ff\" xlink:actuate=\"onRequest\" xlink:href=\"psysml:64152dcd-188c-4285-9d2f-82b4222731ff\" xlink:show=\"new\" xlink:title=\"psysml:64152dcd-188c-4285-9d2f-82b4222731ff\" xlink:type=\"simple\"><rect fill=\"#FFFFFF\" height=\"45.9375\" id=\"E3\" style=\"stroke: #383838; stroke-width: 1.5;\" width=\"66\" x=\"137\" y=\"155\"/><text fill=\"#000000\" font-family=\"sans-serif\" font-size=\"12\" font-style=\"italic\" lengthAdjust=\"spacingAndGlyphs\" textLength=\"64\" x=\"138\" y=\"171.1387\">«part def»</text><text fill=\"#000000\" font-family=\"sans-serif\" font-size=\"12\" lengthAdjust=\"spacingAndGlyphs\" textLength=\"9\" x=\"165.5\" y=\"185.1074\">Q</text><line style=\"stroke: #383838; stroke-width: 1.5;\" x1=\"138\" x2=\"202\" y1=\"192.9375\" y2=\"192.9375\"/></a><!--MD5=[ebbe1d658d1005bcc118a6aa81145e00]\n",
       "class E4--><a href=\"psysml:6204c3f0-143a-45cc-ac58-9ea86a3a8ea6\" target=\"_top\" title=\"psysml:6204c3f0-143a-45cc-ac58-9ea86a3a8ea6\" xlink:actuate=\"onRequest\" xlink:href=\"psysml:6204c3f0-143a-45cc-ac58-9ea86a3a8ea6\" xlink:show=\"new\" xlink:title=\"psysml:6204c3f0-143a-45cc-ac58-9ea86a3a8ea6\" xlink:type=\"simple\"><rect fill=\"#FFFFFF\" height=\"45.9375\" id=\"E4\" style=\"stroke: #383838; stroke-width: 1.5;\" width=\"95\" x=\"255.5\" y=\"41\"/><text fill=\"#000000\" font-family=\"sans-serif\" font-size=\"12\" font-style=\"italic\" lengthAdjust=\"spacingAndGlyphs\" textLength=\"93\" x=\"256.5\" y=\"57.1387\">«attribute def»</text><text fill=\"#000000\" font-family=\"sans-serif\" font-size=\"12\" lengthAdjust=\"spacingAndGlyphs\" textLength=\"8\" x=\"299\" y=\"71.1074\">B</text><line style=\"stroke: #383838; stroke-width: 1.5;\" x1=\"256.5\" x2=\"349.5\" y1=\"78.9375\" y2=\"78.9375\"/></a><!--MD5=[270fce915f116d4de14055a7c1d9a0f3]\n",
       "class E5--><a href=\"psysml:58826ca2-a740-4eaa-a71e-521b590388a3\" target=\"_top\" title=\"psysml:58826ca2-a740-4eaa-a71e-521b590388a3\" xlink:actuate=\"onRequest\" xlink:href=\"psysml:58826ca2-a740-4eaa-a71e-521b590388a3\" xlink:show=\"new\" xlink:title=\"psysml:58826ca2-a740-4eaa-a71e-521b590388a3\" xlink:type=\"simple\"><rect fill=\"#FFFFFF\" height=\"45.9375\" id=\"E5\" style=\"stroke: #383838; stroke-width: 1.5;\" width=\"66\" x=\"315\" y=\"155\"/><text fill=\"#000000\" font-family=\"sans-serif\" font-size=\"12\" font-style=\"italic\" lengthAdjust=\"spacingAndGlyphs\" textLength=\"64\" x=\"316\" y=\"171.1387\">«part def»</text><text fill=\"#000000\" font-family=\"sans-serif\" font-size=\"12\" lengthAdjust=\"spacingAndGlyphs\" textLength=\"8\" x=\"344\" y=\"185.1074\">V</text><line style=\"stroke: #383838; stroke-width: 1.5;\" x1=\"316\" x2=\"380\" y1=\"192.9375\" y2=\"192.9375\"/></a><!--MD5=[60a26617385b1d2d0262a64233df1f8d]\n",
       "class E6--><a href=\"psysml:c2df0e2e-5a66-4a2b-abfc-b3b4dd7dd2c5\" target=\"_top\" title=\"psysml:c2df0e2e-5a66-4a2b-abfc-b3b4dd7dd2c5\" xlink:actuate=\"onRequest\" xlink:href=\"psysml:c2df0e2e-5a66-4a2b-abfc-b3b4dd7dd2c5\" xlink:show=\"new\" xlink:title=\"psysml:c2df0e2e-5a66-4a2b-abfc-b3b4dd7dd2c5\" xlink:type=\"simple\"><rect fill=\"#FFFFFF\" height=\"88.3516\" id=\"E6\" rx=\"10\" ry=\"10\" style=\"stroke: #383838; stroke-width: 1.5;\" width=\"63\" x=\"287.5\" y=\"285\"/><text fill=\"#000000\" font-family=\"sans-serif\" font-size=\"12\" font-style=\"italic\" lengthAdjust=\"spacingAndGlyphs\" textLength=\"40\" x=\"299\" y=\"301.1387\">«part»</text><text fill=\"#000000\" font-family=\"sans-serif\" font-size=\"12\" lengthAdjust=\"spacingAndGlyphs\" textLength=\"23\" x=\"307.5\" y=\"315.1074\">x: Q</text><line style=\"stroke: #383838; stroke-width: 1.5;\" x1=\"288.5\" x2=\"349.5\" y1=\"322.9375\" y2=\"322.9375\"/><text fill=\"#000000\" font-family=\"sans-serif\" font-size=\"11\" lengthAdjust=\"spacingAndGlyphs\" textLength=\"23\" x=\"293.5\" y=\"353.9526\">b: B</text><text fill=\"#000000\" font-family=\"sans-serif\" font-size=\"11\" font-style=\"italic\" lengthAdjust=\"spacingAndGlyphs\" textLength=\"44\" x=\"293.5\" y=\"366.7573\">:&gt;&gt;P::a</text><line style=\"stroke: #383838; stroke-width: 1.0;\" x1=\"288.5\" x2=\"291.5\" y1=\"337.3398\" y2=\"337.3398\"/><text fill=\"#000000\" font-family=\"sans-serif\" font-size=\"11\" lengthAdjust=\"spacingAndGlyphs\" textLength=\"55\" x=\"291.5\" y=\"340.6479\">attributes</text><line style=\"stroke: #383838; stroke-width: 1.0;\" x1=\"346.5\" x2=\"349.5\" y1=\"337.3398\" y2=\"337.3398\"/></a><!--MD5=[2156ba9850f5573cc1fc38a6a4b2f02b]\n",
       "class E7--><a href=\"psysml:d5aa7800-4c4d-4a74-9f82-8c5d7377a367\" target=\"_top\" title=\"psysml:d5aa7800-4c4d-4a74-9f82-8c5d7377a367\" xlink:actuate=\"onRequest\" xlink:href=\"psysml:d5aa7800-4c4d-4a74-9f82-8c5d7377a367\" xlink:show=\"new\" xlink:title=\"psysml:d5aa7800-4c4d-4a74-9f82-8c5d7377a367\" xlink:type=\"simple\"><rect fill=\"#FFFFFF\" height=\"45.9375\" id=\"E7\" rx=\"10\" ry=\"10\" style=\"stroke: #383838; stroke-width: 1.5;\" width=\"42\" x=\"149\" y=\"41\"/><text fill=\"#000000\" font-family=\"sans-serif\" font-size=\"12\" font-style=\"italic\" lengthAdjust=\"spacingAndGlyphs\" textLength=\"40\" x=\"150\" y=\"57.1387\">«part»</text><text fill=\"#000000\" font-family=\"sans-serif\" font-size=\"12\" lengthAdjust=\"spacingAndGlyphs\" textLength=\"25\" x=\"157.5\" y=\"71.1074\">q: Q</text><line style=\"stroke: #383838; stroke-width: 1.5;\" x1=\"150\" x2=\"190\" y1=\"78.9375\" y2=\"78.9375\"/></a><!--MD5=[b9389687b975829384b498ac4b7476b2]\n",
       "class E8--><a href=\"psysml:d7b3804f-80e3-4381-979e-bf8e2501fba8\" target=\"_top\" title=\"psysml:d7b3804f-80e3-4381-979e-bf8e2501fba8\" xlink:actuate=\"onRequest\" xlink:href=\"psysml:d7b3804f-80e3-4381-979e-bf8e2501fba8\" xlink:show=\"new\" xlink:title=\"psysml:d7b3804f-80e3-4381-979e-bf8e2501fba8\" xlink:type=\"simple\"><rect fill=\"#FFFFFF\" height=\"59.9063\" id=\"E8\" rx=\"10\" ry=\"10\" style=\"stroke: #383838; stroke-width: 1.5;\" width=\"70\" x=\"32\" y=\"148\"/><text fill=\"#000000\" font-family=\"sans-serif\" font-size=\"12\" font-style=\"italic\" lengthAdjust=\"spacingAndGlyphs\" textLength=\"68\" x=\"33\" y=\"164.1387\">«variation»</text><text fill=\"#000000\" font-family=\"sans-serif\" font-size=\"12\" font-style=\"italic\" lengthAdjust=\"spacingAndGlyphs\" textLength=\"40\" x=\"47\" y=\"178.1074\">«part»</text><text fill=\"#000000\" font-family=\"sans-serif\" font-size=\"12\" lengthAdjust=\"spacingAndGlyphs\" textLength=\"22\" x=\"56\" y=\"192.0762\">v: P</text><line style=\"stroke: #383838; stroke-width: 1.5;\" x1=\"33\" x2=\"101\" y1=\"199.9063\" y2=\"199.9063\"/></a><!--MD5=[fd4143e9d270a159db93a4ea2a975926]\n",
       "class E9--><a href=\"psysml:aeeab6cc-3339-44ed-a45c-f65a5d97c376\" target=\"_top\" title=\"psysml:aeeab6cc-3339-44ed-a45c-f65a5d97c376\" xlink:actuate=\"onRequest\" xlink:href=\"psysml:aeeab6cc-3339-44ed-a45c-f65a5d97c376\" xlink:show=\"new\" xlink:title=\"psysml:aeeab6cc-3339-44ed-a45c-f65a5d97c376\" xlink:type=\"simple\"><rect fill=\"#FFFFFF\" height=\"88.3516\" id=\"E9\" rx=\"10\" ry=\"10\" style=\"stroke: #383838; stroke-width: 1.5;\" width=\"77\" x=\"32.5\" y=\"285\"/><text fill=\"#000000\" font-family=\"sans-serif\" font-size=\"12\" font-style=\"italic\" lengthAdjust=\"spacingAndGlyphs\" textLength=\"75\" x=\"33.5\" y=\"301.1387\">«reference»</text><text fill=\"#000000\" font-family=\"sans-serif\" font-size=\"12\" lengthAdjust=\"spacingAndGlyphs\" textLength=\"8\" x=\"67\" y=\"315.1074\">q</text><line style=\"stroke: #383838; stroke-width: 1.5;\" x1=\"33.5\" x2=\"108.5\" y1=\"322.9375\" y2=\"322.9375\"/><text fill=\"#000000\" font-family=\"sans-serif\" font-size=\"11\" lengthAdjust=\"spacingAndGlyphs\" textLength=\"23\" x=\"38.5\" y=\"353.9526\">b: B</text><text fill=\"#000000\" font-family=\"sans-serif\" font-size=\"11\" font-style=\"italic\" lengthAdjust=\"spacingAndGlyphs\" textLength=\"44\" x=\"38.5\" y=\"366.7573\">:&gt;&gt;P::a</text><line style=\"stroke: #383838; stroke-width: 1.0;\" x1=\"33.5\" x2=\"43.5\" y1=\"337.3398\" y2=\"337.3398\"/><text fill=\"#000000\" font-family=\"sans-serif\" font-size=\"11\" lengthAdjust=\"spacingAndGlyphs\" textLength=\"55\" x=\"43.5\" y=\"340.6479\">attributes</text><line style=\"stroke: #383838; stroke-width: 1.0;\" x1=\"98.5\" x2=\"108.5\" y1=\"337.3398\" y2=\"337.3398\"/></a><!--MD5=[96f4274e9e20536e775497830990834d]\n",
       "class E10--><a href=\"psysml:fe63b1e8-840a-4f2e-b06a-2ce986f19d03\" target=\"_top\" title=\"psysml:fe63b1e8-840a-4f2e-b06a-2ce986f19d03\" xlink:actuate=\"onRequest\" xlink:href=\"psysml:fe63b1e8-840a-4f2e-b06a-2ce986f19d03\" xlink:show=\"new\" xlink:title=\"psysml:fe63b1e8-840a-4f2e-b06a-2ce986f19d03\" xlink:type=\"simple\"><rect fill=\"#FFFFFF\" height=\"45.9375\" id=\"E10\" rx=\"10\" ry=\"10\" style=\"stroke: #383838; stroke-width: 1.5;\" width=\"42\" x=\"238\" y=\"155\"/><text fill=\"#000000\" font-family=\"sans-serif\" font-size=\"12\" font-style=\"italic\" lengthAdjust=\"spacingAndGlyphs\" textLength=\"40\" x=\"239\" y=\"171.1387\">«part»</text><text fill=\"#000000\" font-family=\"sans-serif\" font-size=\"12\" lengthAdjust=\"spacingAndGlyphs\" textLength=\"22\" x=\"248\" y=\"185.1074\">y: P</text><line style=\"stroke: #383838; stroke-width: 1.5;\" x1=\"239\" x2=\"279\" y1=\"192.9375\" y2=\"192.9375\"/></a><!--MD5=[05d275557350bfb9b23a4ef7222b4c39]\n",
       "link E3 to E2--><a href=\"psysml:6495a820-e8c0-4129-af26-6722c3b7b9e6\" target=\"_top\" title=\"psysml:6495a820-e8c0-4129-af26-6722c3b7b9e6\" xlink:actuate=\"onRequest\" xlink:href=\"psysml:6495a820-e8c0-4129-af26-6722c3b7b9e6\" xlink:show=\"new\" xlink:title=\"psysml:6495a820-e8c0-4129-af26-6722c3b7b9e6\" xlink:type=\"simple\"><path d=\"M174.34,201.31 C177.92,219.67 183.15,246.54 187.87,270.81 \" fill=\"none\" id=\"E3-&gt;E2\" style=\"stroke: #383838; stroke-width: 1.0;\"/><polygon fill=\"none\" points=\"194.8,269.8,191.75,290.77,181.06,272.47,194.8,269.8\" style=\"stroke: #383838; stroke-width: 1.0;\"/></a><!--MD5=[15ebcb19ae302d9b601edb458606d402]\n",
       "link E5 to E2--><a href=\"psysml:bd00e4e7-d183-497a-b9f8-56660fc51e3e\" target=\"_top\" title=\"psysml:bd00e4e7-d183-497a-b9f8-56660fc51e3e\" xlink:actuate=\"onRequest\" xlink:href=\"psysml:bd00e4e7-d183-497a-b9f8-56660fc51e3e\" xlink:show=\"new\" xlink:title=\"psysml:bd00e4e7-d183-497a-b9f8-56660fc51e3e\" xlink:type=\"simple\"><path d=\"M325.69,201.31 C304.9,222.1 273.2,253.8 246.71,280.29 \" fill=\"none\" id=\"E5-&gt;E2\" style=\"stroke: #383838; stroke-width: 1.0;\"/><polygon fill=\"none\" points=\"251.33,285.57,232.24,294.76,241.43,275.67,251.33,285.57\" style=\"stroke: #383838; stroke-width: 1.0;\"/></a><!--MD5=[9120cf2e5df3bff93db8f754bbbc09b4]\n",
       "link E5 to E6--><a href=\"psysml:3ec706da-d65f-4ef5-8a1f-1e1b5df7e7c6\" target=\"_top\" title=\"psysml:3ec706da-d65f-4ef5-8a1f-1e1b5df7e7c6\" xlink:actuate=\"onRequest\" xlink:href=\"psysml:3ec706da-d65f-4ef5-8a1f-1e1b5df7e7c6\" xlink:show=\"new\" xlink:title=\"psysml:3ec706da-d65f-4ef5-8a1f-1e1b5df7e7c6\" xlink:type=\"simple\"><path d=\"M341.72,211.26 C338.1,229.85 333.47,253.68 329.32,274.95 \" fill=\"none\" id=\"E5-E6\" style=\"stroke: #383838; stroke-width: 1.0;\"/><polygon fill=\"#383838\" points=\"327.4,284.84,331.8761,277.5623,325.987,276.4136,327.4,284.84\" style=\"stroke: #383838; stroke-width: 1.0;\"/><path d=\"M334.7699,202.7122 A9,9 0 0 0 351.3715 205.9503\" fill=\"none\" style=\"stroke: #383838; stroke-width: 1.5;\"/><text fill=\"#000000\" font-family=\"sans-serif\" font-size=\"13\" lengthAdjust=\"spacingAndGlyphs\" textLength=\"60\" x=\"337\" y=\"251.0669\">«variant»</text></a><!--MD5=[14ccda38c055a5c0da953d572bc50960]\n",
       "link E7 to E3--><a href=\"psysml:9cf32953-475b-4011-b1f8-e7f09d5ce449\" target=\"_top\" title=\"psysml:9cf32953-475b-4011-b1f8-e7f09d5ce449\" xlink:actuate=\"onRequest\" xlink:href=\"psysml:9cf32953-475b-4011-b1f8-e7f09d5ce449\" xlink:show=\"new\" xlink:title=\"psysml:9cf32953-475b-4011-b1f8-e7f09d5ce449\" xlink:type=\"simple\"><path d=\"M170,87.13 C170,100.7 170,118.53 170,134.73 \" fill=\"none\" id=\"E7-&gt;E3\" style=\"stroke: #383838; stroke-width: 1.0;\"/><polygon fill=\"#FFFFFF\" points=\"170,154.92,163,135.92,177,135.92,170,154.92\" style=\"stroke: #383838; stroke-width: 1.0;\"/><ellipse cx=\"165\" cy=\"130.22\" fill=\"#383838\" rx=\"2\" ry=\"2\" style=\"stroke: #383838; stroke-width: 1.0;\"/><ellipse cx=\"175\" cy=\"130.22\" fill=\"#383838\" rx=\"2\" ry=\"2\" style=\"stroke: #383838; stroke-width: 1.0;\"/></a><!--MD5=[f1f3f9f2fc535e6147756cb86a7f2e32]\n",
       "link E8 to E2--><a href=\"psysml:d1a9bfbc-b159-49c1-a5ca-956a4881ee49\" target=\"_top\" title=\"psysml:d1a9bfbc-b159-49c1-a5ca-956a4881ee49\" xlink:actuate=\"onRequest\" xlink:href=\"psysml:d1a9bfbc-b159-49c1-a5ca-956a4881ee49\" xlink:show=\"new\" xlink:title=\"psysml:d1a9bfbc-b159-49c1-a5ca-956a4881ee49\" xlink:type=\"simple\"><path d=\"M102.17,204.39 C114.52,214.17 128.04,225.9 139,238 C148.86,248.88 158.29,261.5 166.63,273.79 \" fill=\"none\" id=\"E8-&gt;E2\" style=\"stroke: #383838; stroke-width: 1.0;\"/><polygon fill=\"#FFFFFF\" points=\"177.64,290.73,161.4168,278.6135,173.1555,270.9844,177.64,290.73\" style=\"stroke: #383838; stroke-width: 1.0;\"/><ellipse cx=\"159.9876\" cy=\"272.7443\" fill=\"#383838\" rx=\"2\" ry=\"2\" style=\"stroke: #383838; stroke-width: 1.0;\"/><ellipse cx=\"168.3724\" cy=\"267.2949\" fill=\"#383838\" rx=\"2\" ry=\"2\" style=\"stroke: #383838; stroke-width: 1.0;\"/></a><!--MD5=[ed10624c06dd9a4fa49ccf290e8b16a8]\n",
       "link E8 to E9--><a href=\"psysml:4574f674-7c12-4143-bfb7-6a6844a72e64\" target=\"_top\" title=\"psysml:4574f674-7c12-4143-bfb7-6a6844a72e64\" xlink:actuate=\"onRequest\" xlink:href=\"psysml:4574f674-7c12-4143-bfb7-6a6844a72e64\" xlink:show=\"new\" xlink:title=\"psysml:4574f674-7c12-4143-bfb7-6a6844a72e64\" xlink:type=\"simple\"><path d=\"M68.06,218.32 C68.52,235.6 69.07,256.15 69.57,274.77 \" fill=\"none\" id=\"E8-E9\" style=\"stroke: #383838; stroke-width: 1.0;\"/><polygon fill=\"#383838\" points=\"69.84,284.88,72.6331,276.8054,66.6351,276.9599,69.84,284.88\" style=\"stroke: #383838; stroke-width: 1.0;\"/><path d=\"M59.4094,211.3865 A9,9 0 0 0 76.3176 210.9276\" fill=\"none\" style=\"stroke: #383838; stroke-width: 1.5;\"/><text fill=\"#000000\" font-family=\"sans-serif\" font-size=\"13\" lengthAdjust=\"spacingAndGlyphs\" textLength=\"60\" x=\"70\" y=\"251.0669\">«variant»</text></a><!--MD5=[0f36bececdf0dff6e600d6f64214b0f1]\n",
       "link E10 to E2--><a href=\"psysml:bd829215-07d4-45cb-8fe9-60748d4dd682\" target=\"_top\" title=\"psysml:bd829215-07d4-45cb-8fe9-60748d4dd682\" xlink:actuate=\"onRequest\" xlink:href=\"psysml:bd829215-07d4-45cb-8fe9-60748d4dd682\" xlink:show=\"new\" xlink:title=\"psysml:bd829215-07d4-45cb-8fe9-60748d4dd682\" xlink:type=\"simple\"><path d=\"M250.02,201.31 C242.51,219.95 231.48,247.35 221.59,271.91 \" fill=\"none\" id=\"E10-&gt;E2\" style=\"stroke: #383838; stroke-width: 1.0;\"/><polygon fill=\"#FFFFFF\" points=\"213.99,290.77,214.5927,270.5305,227.5796,275.7593,213.99,290.77\" style=\"stroke: #383838; stroke-width: 1.0;\"/><ellipse cx=\"218.5768\" cy=\"265.9899\" fill=\"#383838\" rx=\"2\" ry=\"2\" style=\"stroke: #383838; stroke-width: 1.0;\"/><ellipse cx=\"227.8532\" cy=\"269.7248\" fill=\"#383838\" rx=\"2\" ry=\"2\" style=\"stroke: #383838; stroke-width: 1.0;\"/></a><!--MD5=[d50e44985937209ae5cef6a1e8a75216]\n",
       "@startuml\r\n",
       "skinparam monochrome true\r\n",
       "skinparam classbackgroundcolor white\r\n",
       "skinparam shadowing false\r\n",
       "skinparam wrapWidth 300\r\n",
       "hide circle\r\n",
       "\r\n",
       "package \"VariabilityTest\" as E1  [[psysml:6e13bc12-600f-4176-9ee3-c77c18f0da6f ]]  {\r\n",
       "comp def \"P\" as E2  <<(T,blue) part def>> [[psysml:a47e4883-53c6-48e5-9729-358fb18738b5 ]] {\r\n",
       "- - attributes - -\r\n",
       "a\r\n",
       "}\r\n",
       "comp def \"Q\" as E3  <<(T,blue) part def>> [[psysml:64152dcd-188c-4285-9d2f-82b4222731ff ]] {\r\n",
       "}\r\n",
       "comp def \"B\" as E4  <<(T,blue) attribute def>> [[psysml:6204c3f0-143a-45cc-ac58-9ea86a3a8ea6 ]] {\r\n",
       "}\r\n",
       "comp def \"V\" as E5  <<(T,blue) part def>> [[psysml:58826ca2-a740-4eaa-a71e-521b590388a3 ]] {\r\n",
       "}\r\n",
       "comp usage \"x: Q\" as E6  <<(T,blue) part>> [[psysml:c2df0e2e-5a66-4a2b-abfc-b3b4dd7dd2c5 ]] {\r\n",
       "- - attributes - -\r\n",
       "b: B\\n//:>>P::a// \r\n",
       "}\r\n",
       "comp usage \"q: Q\" as E7  <<(T,blue) part>> [[psysml:d5aa7800-4c4d-4a74-9f82-8c5d7377a367 ]] {\r\n",
       "}\r\n",
       "comp usage \"v: P\" as E8  <<variation>>\\n <<(T,blue) part>> [[psysml:d7b3804f-80e3-4381-979e-bf8e2501fba8 ]] {\r\n",
       "}\r\n",
       "comp usage \"q\" as E9  <<(T,blue) reference>> [[psysml:aeeab6cc-3339-44ed-a45c-f65a5d97c376 ]] {\r\n",
       "- - attributes - -\r\n",
       "b: B\\n//:>>P::a// \r\n",
       "}\r\n",
       "comp usage \"y: P\" as E10  <<(T,blue) part>> [[psysml:fe63b1e8-840a-4f2e-b06a-2ce986f19d03 ]] {\r\n",
       "}\r\n",
       "E3 - -|> E2 [[psysml:6495a820-e8c0-4129-af26-6722c3b7b9e6 ]] \r\n",
       "E5 - -|> E2 [[psysml:bd00e4e7-d183-497a-b9f8-56660fc51e3e ]] \r\n",
       "E5 )- ->> E6 [[psysml:3ec706da-d65f-4ef5-8a1f-1e1b5df7e7c6 ]] : <<variant>>\r\n",
       "E7 - -:|> E3 [[psysml:9cf32953-475b-4011-b1f8-e7f09d5ce449 ]] \r\n",
       "E8 - -:|> E2 [[psysml:d1a9bfbc-b159-49c1-a5ca-956a4881ee49 ]] \r\n",
       "E8 )- ->> E9 [[psysml:4574f674-7c12-4143-bfb7-6a6844a72e64 ]] : <<variant>>\r\n",
       "E10 - -:|> E2 [[psysml:bd829215-07d4-45cb-8fe9-60748d4dd682 ]] \r\n",
       "}\r\n",
       "@enduml\r\n",
       "\n",
       "PlantUML version 1.2020.13(Sat Jun 13 12:26:38 UTC 2020)\n",
       "(EPL source distribution)\n",
       "Java Runtime: OpenJDK Runtime Environment\n",
       "JVM: OpenJDK 64-Bit Server VM\n",
       "Default Encoding: UTF-8\n",
       "Language: en\n",
       "Country: null\n",
       "--></g></svg>"
      ]
     },
     "execution_count": 42,
     "metadata": {},
     "output_type": "execute_result"
    }
   ],
   "source": [
    "%viz --style=\"DEFAULT\" --view=\"Sequence\" \"VariabilityTest\""
   ]
  },
  {
   "cell_type": "code",
   "execution_count": 43,
   "id": "b982ea95",
   "metadata": {
    "execution": {
     "iopub.execute_input": "2021-08-04T06:26:51.515500Z",
     "iopub.status.busy": "2021-08-04T06:26:51.515056Z",
     "iopub.status.idle": "2021-08-04T06:26:51.558756Z",
     "shell.execute_reply": "2021-08-04T06:26:51.557572Z"
    }
   },
   "outputs": [
    {
     "data": {
      "image/svg+xml": [
       "<?xml version=\"1.0\" encoding=\"UTF-8\" standalone=\"no\"?><svg xmlns=\"http://www.w3.org/2000/svg\" xmlns:xlink=\"http://www.w3.org/1999/xlink\" contentScriptType=\"application/ecmascript\" contentStyleType=\"text/css\" height=\"401px\" preserveAspectRatio=\"none\" style=\"width:419px;height:401px;\" version=\"1.1\" viewBox=\"0 0 419 401\" width=\"419px\" zoomAndPan=\"magnify\"><defs/><g><!--MD5=[fbc87193dbaf4d95561dea2c320d4a47]\n",
       "cluster E1--><a href=\"psysml:6e13bc12-600f-4176-9ee3-c77c18f0da6f\" target=\"_top\" title=\"psysml:6e13bc12-600f-4176-9ee3-c77c18f0da6f\" xlink:actuate=\"onRequest\" xlink:href=\"psysml:6e13bc12-600f-4176-9ee3-c77c18f0da6f\" xlink:show=\"new\" xlink:title=\"psysml:6e13bc12-600f-4176-9ee3-c77c18f0da6f\" xlink:type=\"simple\"><polygon fill=\"#FFFFFF\" points=\"16,6,134,6,141,28.2969,397,28.2969,397,389,16,389,16,6\" style=\"stroke: #000000; stroke-width: 1.5;\"/><line style=\"stroke: #000000; stroke-width: 1.5;\" x1=\"16\" x2=\"141\" y1=\"28.2969\" y2=\"28.2969\"/><text fill=\"#000000\" font-family=\"sans-serif\" font-size=\"14\" font-weight=\"bold\" lengthAdjust=\"spacingAndGlyphs\" textLength=\"112\" x=\"20\" y=\"20.9951\">VariabilityTest</text></a><!--MD5=[b4997ac47864f28c2f74865a473b2911]\n",
       "class E2--><a href=\"psysml:a47e4883-53c6-48e5-9729-358fb18738b5\" target=\"_top\" title=\"psysml:a47e4883-53c6-48e5-9729-358fb18738b5\" xlink:actuate=\"onRequest\" xlink:href=\"psysml:a47e4883-53c6-48e5-9729-358fb18738b5\" xlink:show=\"new\" xlink:title=\"psysml:a47e4883-53c6-48e5-9729-358fb18738b5\" xlink:type=\"simple\"><rect fill=\"#FFFFFF\" height=\"75.5469\" id=\"E2\" style=\"stroke: #383838; stroke-width: 1.5;\" width=\"66\" x=\"166\" y=\"291\"/><text fill=\"#000000\" font-family=\"sans-serif\" font-size=\"12\" font-style=\"italic\" lengthAdjust=\"spacingAndGlyphs\" textLength=\"64\" x=\"167\" y=\"307.1387\">«part def»</text><text fill=\"#000000\" font-family=\"sans-serif\" font-size=\"12\" lengthAdjust=\"spacingAndGlyphs\" textLength=\"8\" x=\"195\" y=\"321.1074\">P</text><line style=\"stroke: #383838; stroke-width: 1.5;\" x1=\"167\" x2=\"231\" y1=\"328.9375\" y2=\"328.9375\"/><text fill=\"#000000\" font-family=\"sans-serif\" font-size=\"11\" lengthAdjust=\"spacingAndGlyphs\" textLength=\"7\" x=\"172\" y=\"359.9526\">a</text><line style=\"stroke: #383838; stroke-width: 1.0;\" x1=\"167\" x2=\"171.5\" y1=\"343.3398\" y2=\"343.3398\"/><text fill=\"#000000\" font-family=\"sans-serif\" font-size=\"11\" lengthAdjust=\"spacingAndGlyphs\" textLength=\"55\" x=\"171.5\" y=\"346.6479\">attributes</text><line style=\"stroke: #383838; stroke-width: 1.0;\" x1=\"226.5\" x2=\"231\" y1=\"343.3398\" y2=\"343.3398\"/></a><!--MD5=[09b614a08d8cba4a07c9adeb5e0fee81]\n",
       "class E3--><a href=\"psysml:64152dcd-188c-4285-9d2f-82b4222731ff\" target=\"_top\" title=\"psysml:64152dcd-188c-4285-9d2f-82b4222731ff\" xlink:actuate=\"onRequest\" xlink:href=\"psysml:64152dcd-188c-4285-9d2f-82b4222731ff\" xlink:show=\"new\" xlink:title=\"psysml:64152dcd-188c-4285-9d2f-82b4222731ff\" xlink:type=\"simple\"><rect fill=\"#FFFFFF\" height=\"45.9375\" id=\"E3\" style=\"stroke: #383838; stroke-width: 1.5;\" width=\"66\" x=\"137\" y=\"155\"/><text fill=\"#000000\" font-family=\"sans-serif\" font-size=\"12\" font-style=\"italic\" lengthAdjust=\"spacingAndGlyphs\" textLength=\"64\" x=\"138\" y=\"171.1387\">«part def»</text><text fill=\"#000000\" font-family=\"sans-serif\" font-size=\"12\" lengthAdjust=\"spacingAndGlyphs\" textLength=\"9\" x=\"165.5\" y=\"185.1074\">Q</text><line style=\"stroke: #383838; stroke-width: 1.5;\" x1=\"138\" x2=\"202\" y1=\"192.9375\" y2=\"192.9375\"/></a><!--MD5=[ebbe1d658d1005bcc118a6aa81145e00]\n",
       "class E4--><a href=\"psysml:6204c3f0-143a-45cc-ac58-9ea86a3a8ea6\" target=\"_top\" title=\"psysml:6204c3f0-143a-45cc-ac58-9ea86a3a8ea6\" xlink:actuate=\"onRequest\" xlink:href=\"psysml:6204c3f0-143a-45cc-ac58-9ea86a3a8ea6\" xlink:show=\"new\" xlink:title=\"psysml:6204c3f0-143a-45cc-ac58-9ea86a3a8ea6\" xlink:type=\"simple\"><rect fill=\"#FFFFFF\" height=\"45.9375\" id=\"E4\" style=\"stroke: #383838; stroke-width: 1.5;\" width=\"95\" x=\"255.5\" y=\"41\"/><text fill=\"#000000\" font-family=\"sans-serif\" font-size=\"12\" font-style=\"italic\" lengthAdjust=\"spacingAndGlyphs\" textLength=\"93\" x=\"256.5\" y=\"57.1387\">«attribute def»</text><text fill=\"#000000\" font-family=\"sans-serif\" font-size=\"12\" lengthAdjust=\"spacingAndGlyphs\" textLength=\"8\" x=\"299\" y=\"71.1074\">B</text><line style=\"stroke: #383838; stroke-width: 1.5;\" x1=\"256.5\" x2=\"349.5\" y1=\"78.9375\" y2=\"78.9375\"/></a><!--MD5=[270fce915f116d4de14055a7c1d9a0f3]\n",
       "class E5--><a href=\"psysml:58826ca2-a740-4eaa-a71e-521b590388a3\" target=\"_top\" title=\"psysml:58826ca2-a740-4eaa-a71e-521b590388a3\" xlink:actuate=\"onRequest\" xlink:href=\"psysml:58826ca2-a740-4eaa-a71e-521b590388a3\" xlink:show=\"new\" xlink:title=\"psysml:58826ca2-a740-4eaa-a71e-521b590388a3\" xlink:type=\"simple\"><rect fill=\"#FFFFFF\" height=\"45.9375\" id=\"E5\" style=\"stroke: #383838; stroke-width: 1.5;\" width=\"66\" x=\"315\" y=\"155\"/><text fill=\"#000000\" font-family=\"sans-serif\" font-size=\"12\" font-style=\"italic\" lengthAdjust=\"spacingAndGlyphs\" textLength=\"64\" x=\"316\" y=\"171.1387\">«part def»</text><text fill=\"#000000\" font-family=\"sans-serif\" font-size=\"12\" lengthAdjust=\"spacingAndGlyphs\" textLength=\"8\" x=\"344\" y=\"185.1074\">V</text><line style=\"stroke: #383838; stroke-width: 1.5;\" x1=\"316\" x2=\"380\" y1=\"192.9375\" y2=\"192.9375\"/></a><!--MD5=[60a26617385b1d2d0262a64233df1f8d]\n",
       "class E6--><a href=\"psysml:c2df0e2e-5a66-4a2b-abfc-b3b4dd7dd2c5\" target=\"_top\" title=\"psysml:c2df0e2e-5a66-4a2b-abfc-b3b4dd7dd2c5\" xlink:actuate=\"onRequest\" xlink:href=\"psysml:c2df0e2e-5a66-4a2b-abfc-b3b4dd7dd2c5\" xlink:show=\"new\" xlink:title=\"psysml:c2df0e2e-5a66-4a2b-abfc-b3b4dd7dd2c5\" xlink:type=\"simple\"><rect fill=\"#FFFFFF\" height=\"88.3516\" id=\"E6\" rx=\"10\" ry=\"10\" style=\"stroke: #383838; stroke-width: 1.5;\" width=\"63\" x=\"287.5\" y=\"285\"/><text fill=\"#000000\" font-family=\"sans-serif\" font-size=\"12\" font-style=\"italic\" lengthAdjust=\"spacingAndGlyphs\" textLength=\"40\" x=\"299\" y=\"301.1387\">«part»</text><text fill=\"#000000\" font-family=\"sans-serif\" font-size=\"12\" lengthAdjust=\"spacingAndGlyphs\" textLength=\"23\" x=\"307.5\" y=\"315.1074\">x: Q</text><line style=\"stroke: #383838; stroke-width: 1.5;\" x1=\"288.5\" x2=\"349.5\" y1=\"322.9375\" y2=\"322.9375\"/><text fill=\"#000000\" font-family=\"sans-serif\" font-size=\"11\" lengthAdjust=\"spacingAndGlyphs\" textLength=\"23\" x=\"293.5\" y=\"353.9526\">b: B</text><text fill=\"#000000\" font-family=\"sans-serif\" font-size=\"11\" font-style=\"italic\" lengthAdjust=\"spacingAndGlyphs\" textLength=\"44\" x=\"293.5\" y=\"366.7573\">:&gt;&gt;P::a</text><line style=\"stroke: #383838; stroke-width: 1.0;\" x1=\"288.5\" x2=\"291.5\" y1=\"337.3398\" y2=\"337.3398\"/><text fill=\"#000000\" font-family=\"sans-serif\" font-size=\"11\" lengthAdjust=\"spacingAndGlyphs\" textLength=\"55\" x=\"291.5\" y=\"340.6479\">attributes</text><line style=\"stroke: #383838; stroke-width: 1.0;\" x1=\"346.5\" x2=\"349.5\" y1=\"337.3398\" y2=\"337.3398\"/></a><!--MD5=[2156ba9850f5573cc1fc38a6a4b2f02b]\n",
       "class E7--><a href=\"psysml:d5aa7800-4c4d-4a74-9f82-8c5d7377a367\" target=\"_top\" title=\"psysml:d5aa7800-4c4d-4a74-9f82-8c5d7377a367\" xlink:actuate=\"onRequest\" xlink:href=\"psysml:d5aa7800-4c4d-4a74-9f82-8c5d7377a367\" xlink:show=\"new\" xlink:title=\"psysml:d5aa7800-4c4d-4a74-9f82-8c5d7377a367\" xlink:type=\"simple\"><rect fill=\"#FFFFFF\" height=\"45.9375\" id=\"E7\" rx=\"10\" ry=\"10\" style=\"stroke: #383838; stroke-width: 1.5;\" width=\"42\" x=\"149\" y=\"41\"/><text fill=\"#000000\" font-family=\"sans-serif\" font-size=\"12\" font-style=\"italic\" lengthAdjust=\"spacingAndGlyphs\" textLength=\"40\" x=\"150\" y=\"57.1387\">«part»</text><text fill=\"#000000\" font-family=\"sans-serif\" font-size=\"12\" lengthAdjust=\"spacingAndGlyphs\" textLength=\"25\" x=\"157.5\" y=\"71.1074\">q: Q</text><line style=\"stroke: #383838; stroke-width: 1.5;\" x1=\"150\" x2=\"190\" y1=\"78.9375\" y2=\"78.9375\"/></a><!--MD5=[b9389687b975829384b498ac4b7476b2]\n",
       "class E8--><a href=\"psysml:d7b3804f-80e3-4381-979e-bf8e2501fba8\" target=\"_top\" title=\"psysml:d7b3804f-80e3-4381-979e-bf8e2501fba8\" xlink:actuate=\"onRequest\" xlink:href=\"psysml:d7b3804f-80e3-4381-979e-bf8e2501fba8\" xlink:show=\"new\" xlink:title=\"psysml:d7b3804f-80e3-4381-979e-bf8e2501fba8\" xlink:type=\"simple\"><rect fill=\"#FFFFFF\" height=\"59.9063\" id=\"E8\" rx=\"10\" ry=\"10\" style=\"stroke: #383838; stroke-width: 1.5;\" width=\"70\" x=\"32\" y=\"148\"/><text fill=\"#000000\" font-family=\"sans-serif\" font-size=\"12\" font-style=\"italic\" lengthAdjust=\"spacingAndGlyphs\" textLength=\"68\" x=\"33\" y=\"164.1387\">«variation»</text><text fill=\"#000000\" font-family=\"sans-serif\" font-size=\"12\" font-style=\"italic\" lengthAdjust=\"spacingAndGlyphs\" textLength=\"40\" x=\"47\" y=\"178.1074\">«part»</text><text fill=\"#000000\" font-family=\"sans-serif\" font-size=\"12\" lengthAdjust=\"spacingAndGlyphs\" textLength=\"22\" x=\"56\" y=\"192.0762\">v: P</text><line style=\"stroke: #383838; stroke-width: 1.5;\" x1=\"33\" x2=\"101\" y1=\"199.9063\" y2=\"199.9063\"/></a><!--MD5=[fd4143e9d270a159db93a4ea2a975926]\n",
       "class E9--><a href=\"psysml:aeeab6cc-3339-44ed-a45c-f65a5d97c376\" target=\"_top\" title=\"psysml:aeeab6cc-3339-44ed-a45c-f65a5d97c376\" xlink:actuate=\"onRequest\" xlink:href=\"psysml:aeeab6cc-3339-44ed-a45c-f65a5d97c376\" xlink:show=\"new\" xlink:title=\"psysml:aeeab6cc-3339-44ed-a45c-f65a5d97c376\" xlink:type=\"simple\"><rect fill=\"#FFFFFF\" height=\"88.3516\" id=\"E9\" rx=\"10\" ry=\"10\" style=\"stroke: #383838; stroke-width: 1.5;\" width=\"77\" x=\"32.5\" y=\"285\"/><text fill=\"#000000\" font-family=\"sans-serif\" font-size=\"12\" font-style=\"italic\" lengthAdjust=\"spacingAndGlyphs\" textLength=\"75\" x=\"33.5\" y=\"301.1387\">«reference»</text><text fill=\"#000000\" font-family=\"sans-serif\" font-size=\"12\" lengthAdjust=\"spacingAndGlyphs\" textLength=\"8\" x=\"67\" y=\"315.1074\">q</text><line style=\"stroke: #383838; stroke-width: 1.5;\" x1=\"33.5\" x2=\"108.5\" y1=\"322.9375\" y2=\"322.9375\"/><text fill=\"#000000\" font-family=\"sans-serif\" font-size=\"11\" lengthAdjust=\"spacingAndGlyphs\" textLength=\"23\" x=\"38.5\" y=\"353.9526\">b: B</text><text fill=\"#000000\" font-family=\"sans-serif\" font-size=\"11\" font-style=\"italic\" lengthAdjust=\"spacingAndGlyphs\" textLength=\"44\" x=\"38.5\" y=\"366.7573\">:&gt;&gt;P::a</text><line style=\"stroke: #383838; stroke-width: 1.0;\" x1=\"33.5\" x2=\"43.5\" y1=\"337.3398\" y2=\"337.3398\"/><text fill=\"#000000\" font-family=\"sans-serif\" font-size=\"11\" lengthAdjust=\"spacingAndGlyphs\" textLength=\"55\" x=\"43.5\" y=\"340.6479\">attributes</text><line style=\"stroke: #383838; stroke-width: 1.0;\" x1=\"98.5\" x2=\"108.5\" y1=\"337.3398\" y2=\"337.3398\"/></a><!--MD5=[96f4274e9e20536e775497830990834d]\n",
       "class E10--><a href=\"psysml:fe63b1e8-840a-4f2e-b06a-2ce986f19d03\" target=\"_top\" title=\"psysml:fe63b1e8-840a-4f2e-b06a-2ce986f19d03\" xlink:actuate=\"onRequest\" xlink:href=\"psysml:fe63b1e8-840a-4f2e-b06a-2ce986f19d03\" xlink:show=\"new\" xlink:title=\"psysml:fe63b1e8-840a-4f2e-b06a-2ce986f19d03\" xlink:type=\"simple\"><rect fill=\"#FFFFFF\" height=\"45.9375\" id=\"E10\" rx=\"10\" ry=\"10\" style=\"stroke: #383838; stroke-width: 1.5;\" width=\"42\" x=\"238\" y=\"155\"/><text fill=\"#000000\" font-family=\"sans-serif\" font-size=\"12\" font-style=\"italic\" lengthAdjust=\"spacingAndGlyphs\" textLength=\"40\" x=\"239\" y=\"171.1387\">«part»</text><text fill=\"#000000\" font-family=\"sans-serif\" font-size=\"12\" lengthAdjust=\"spacingAndGlyphs\" textLength=\"22\" x=\"248\" y=\"185.1074\">y: P</text><line style=\"stroke: #383838; stroke-width: 1.5;\" x1=\"239\" x2=\"279\" y1=\"192.9375\" y2=\"192.9375\"/></a><!--MD5=[05d275557350bfb9b23a4ef7222b4c39]\n",
       "link E3 to E2--><a href=\"psysml:6495a820-e8c0-4129-af26-6722c3b7b9e6\" target=\"_top\" title=\"psysml:6495a820-e8c0-4129-af26-6722c3b7b9e6\" xlink:actuate=\"onRequest\" xlink:href=\"psysml:6495a820-e8c0-4129-af26-6722c3b7b9e6\" xlink:show=\"new\" xlink:title=\"psysml:6495a820-e8c0-4129-af26-6722c3b7b9e6\" xlink:type=\"simple\"><path d=\"M174.34,201.31 C177.92,219.67 183.15,246.54 187.87,270.81 \" fill=\"none\" id=\"E3-&gt;E2\" style=\"stroke: #383838; stroke-width: 1.0;\"/><polygon fill=\"none\" points=\"194.8,269.8,191.75,290.77,181.06,272.47,194.8,269.8\" style=\"stroke: #383838; stroke-width: 1.0;\"/></a><!--MD5=[15ebcb19ae302d9b601edb458606d402]\n",
       "link E5 to E2--><a href=\"psysml:bd00e4e7-d183-497a-b9f8-56660fc51e3e\" target=\"_top\" title=\"psysml:bd00e4e7-d183-497a-b9f8-56660fc51e3e\" xlink:actuate=\"onRequest\" xlink:href=\"psysml:bd00e4e7-d183-497a-b9f8-56660fc51e3e\" xlink:show=\"new\" xlink:title=\"psysml:bd00e4e7-d183-497a-b9f8-56660fc51e3e\" xlink:type=\"simple\"><path d=\"M325.69,201.31 C304.9,222.1 273.2,253.8 246.71,280.29 \" fill=\"none\" id=\"E5-&gt;E2\" style=\"stroke: #383838; stroke-width: 1.0;\"/><polygon fill=\"none\" points=\"251.33,285.57,232.24,294.76,241.43,275.67,251.33,285.57\" style=\"stroke: #383838; stroke-width: 1.0;\"/></a><!--MD5=[9120cf2e5df3bff93db8f754bbbc09b4]\n",
       "link E5 to E6--><a href=\"psysml:3ec706da-d65f-4ef5-8a1f-1e1b5df7e7c6\" target=\"_top\" title=\"psysml:3ec706da-d65f-4ef5-8a1f-1e1b5df7e7c6\" xlink:actuate=\"onRequest\" xlink:href=\"psysml:3ec706da-d65f-4ef5-8a1f-1e1b5df7e7c6\" xlink:show=\"new\" xlink:title=\"psysml:3ec706da-d65f-4ef5-8a1f-1e1b5df7e7c6\" xlink:type=\"simple\"><path d=\"M341.72,211.26 C338.1,229.85 333.47,253.68 329.32,274.95 \" fill=\"none\" id=\"E5-E6\" style=\"stroke: #383838; stroke-width: 1.0;\"/><polygon fill=\"#383838\" points=\"327.4,284.84,331.8761,277.5623,325.987,276.4136,327.4,284.84\" style=\"stroke: #383838; stroke-width: 1.0;\"/><path d=\"M334.7699,202.7122 A9,9 0 0 0 351.3715 205.9503\" fill=\"none\" style=\"stroke: #383838; stroke-width: 1.5;\"/><text fill=\"#000000\" font-family=\"sans-serif\" font-size=\"13\" lengthAdjust=\"spacingAndGlyphs\" textLength=\"60\" x=\"337\" y=\"251.0669\">«variant»</text></a><!--MD5=[14ccda38c055a5c0da953d572bc50960]\n",
       "link E7 to E3--><a href=\"psysml:9cf32953-475b-4011-b1f8-e7f09d5ce449\" target=\"_top\" title=\"psysml:9cf32953-475b-4011-b1f8-e7f09d5ce449\" xlink:actuate=\"onRequest\" xlink:href=\"psysml:9cf32953-475b-4011-b1f8-e7f09d5ce449\" xlink:show=\"new\" xlink:title=\"psysml:9cf32953-475b-4011-b1f8-e7f09d5ce449\" xlink:type=\"simple\"><path d=\"M170,87.13 C170,100.7 170,118.53 170,134.73 \" fill=\"none\" id=\"E7-&gt;E3\" style=\"stroke: #383838; stroke-width: 1.0;\"/><polygon fill=\"#FFFFFF\" points=\"170,154.92,163,135.92,177,135.92,170,154.92\" style=\"stroke: #383838; stroke-width: 1.0;\"/><ellipse cx=\"165\" cy=\"130.22\" fill=\"#383838\" rx=\"2\" ry=\"2\" style=\"stroke: #383838; stroke-width: 1.0;\"/><ellipse cx=\"175\" cy=\"130.22\" fill=\"#383838\" rx=\"2\" ry=\"2\" style=\"stroke: #383838; stroke-width: 1.0;\"/></a><!--MD5=[f1f3f9f2fc535e6147756cb86a7f2e32]\n",
       "link E8 to E2--><a href=\"psysml:d1a9bfbc-b159-49c1-a5ca-956a4881ee49\" target=\"_top\" title=\"psysml:d1a9bfbc-b159-49c1-a5ca-956a4881ee49\" xlink:actuate=\"onRequest\" xlink:href=\"psysml:d1a9bfbc-b159-49c1-a5ca-956a4881ee49\" xlink:show=\"new\" xlink:title=\"psysml:d1a9bfbc-b159-49c1-a5ca-956a4881ee49\" xlink:type=\"simple\"><path d=\"M102.17,204.39 C114.52,214.17 128.04,225.9 139,238 C148.86,248.88 158.29,261.5 166.63,273.79 \" fill=\"none\" id=\"E8-&gt;E2\" style=\"stroke: #383838; stroke-width: 1.0;\"/><polygon fill=\"#FFFFFF\" points=\"177.64,290.73,161.4168,278.6135,173.1555,270.9844,177.64,290.73\" style=\"stroke: #383838; stroke-width: 1.0;\"/><ellipse cx=\"159.9876\" cy=\"272.7443\" fill=\"#383838\" rx=\"2\" ry=\"2\" style=\"stroke: #383838; stroke-width: 1.0;\"/><ellipse cx=\"168.3724\" cy=\"267.2949\" fill=\"#383838\" rx=\"2\" ry=\"2\" style=\"stroke: #383838; stroke-width: 1.0;\"/></a><!--MD5=[ed10624c06dd9a4fa49ccf290e8b16a8]\n",
       "link E8 to E9--><a href=\"psysml:4574f674-7c12-4143-bfb7-6a6844a72e64\" target=\"_top\" title=\"psysml:4574f674-7c12-4143-bfb7-6a6844a72e64\" xlink:actuate=\"onRequest\" xlink:href=\"psysml:4574f674-7c12-4143-bfb7-6a6844a72e64\" xlink:show=\"new\" xlink:title=\"psysml:4574f674-7c12-4143-bfb7-6a6844a72e64\" xlink:type=\"simple\"><path d=\"M68.06,218.32 C68.52,235.6 69.07,256.15 69.57,274.77 \" fill=\"none\" id=\"E8-E9\" style=\"stroke: #383838; stroke-width: 1.0;\"/><polygon fill=\"#383838\" points=\"69.84,284.88,72.6331,276.8054,66.6351,276.9599,69.84,284.88\" style=\"stroke: #383838; stroke-width: 1.0;\"/><path d=\"M59.4094,211.3865 A9,9 0 0 0 76.3176 210.9276\" fill=\"none\" style=\"stroke: #383838; stroke-width: 1.5;\"/><text fill=\"#000000\" font-family=\"sans-serif\" font-size=\"13\" lengthAdjust=\"spacingAndGlyphs\" textLength=\"60\" x=\"70\" y=\"251.0669\">«variant»</text></a><!--MD5=[0f36bececdf0dff6e600d6f64214b0f1]\n",
       "link E10 to E2--><a href=\"psysml:bd829215-07d4-45cb-8fe9-60748d4dd682\" target=\"_top\" title=\"psysml:bd829215-07d4-45cb-8fe9-60748d4dd682\" xlink:actuate=\"onRequest\" xlink:href=\"psysml:bd829215-07d4-45cb-8fe9-60748d4dd682\" xlink:show=\"new\" xlink:title=\"psysml:bd829215-07d4-45cb-8fe9-60748d4dd682\" xlink:type=\"simple\"><path d=\"M250.02,201.31 C242.51,219.95 231.48,247.35 221.59,271.91 \" fill=\"none\" id=\"E10-&gt;E2\" style=\"stroke: #383838; stroke-width: 1.0;\"/><polygon fill=\"#FFFFFF\" points=\"213.99,290.77,214.5927,270.5305,227.5796,275.7593,213.99,290.77\" style=\"stroke: #383838; stroke-width: 1.0;\"/><ellipse cx=\"218.5768\" cy=\"265.9899\" fill=\"#383838\" rx=\"2\" ry=\"2\" style=\"stroke: #383838; stroke-width: 1.0;\"/><ellipse cx=\"227.8532\" cy=\"269.7248\" fill=\"#383838\" rx=\"2\" ry=\"2\" style=\"stroke: #383838; stroke-width: 1.0;\"/></a><!--MD5=[d50e44985937209ae5cef6a1e8a75216]\n",
       "@startuml\r\n",
       "skinparam monochrome true\r\n",
       "skinparam classbackgroundcolor white\r\n",
       "skinparam shadowing false\r\n",
       "skinparam wrapWidth 300\r\n",
       "hide circle\r\n",
       "\r\n",
       "package \"VariabilityTest\" as E1  [[psysml:6e13bc12-600f-4176-9ee3-c77c18f0da6f ]]  {\r\n",
       "comp def \"P\" as E2  <<(T,blue) part def>> [[psysml:a47e4883-53c6-48e5-9729-358fb18738b5 ]] {\r\n",
       "- - attributes - -\r\n",
       "a\r\n",
       "}\r\n",
       "comp def \"Q\" as E3  <<(T,blue) part def>> [[psysml:64152dcd-188c-4285-9d2f-82b4222731ff ]] {\r\n",
       "}\r\n",
       "comp def \"B\" as E4  <<(T,blue) attribute def>> [[psysml:6204c3f0-143a-45cc-ac58-9ea86a3a8ea6 ]] {\r\n",
       "}\r\n",
       "comp def \"V\" as E5  <<(T,blue) part def>> [[psysml:58826ca2-a740-4eaa-a71e-521b590388a3 ]] {\r\n",
       "}\r\n",
       "comp usage \"x: Q\" as E6  <<(T,blue) part>> [[psysml:c2df0e2e-5a66-4a2b-abfc-b3b4dd7dd2c5 ]] {\r\n",
       "- - attributes - -\r\n",
       "b: B\\n//:>>P::a// \r\n",
       "}\r\n",
       "comp usage \"q: Q\" as E7  <<(T,blue) part>> [[psysml:d5aa7800-4c4d-4a74-9f82-8c5d7377a367 ]] {\r\n",
       "}\r\n",
       "comp usage \"v: P\" as E8  <<variation>>\\n <<(T,blue) part>> [[psysml:d7b3804f-80e3-4381-979e-bf8e2501fba8 ]] {\r\n",
       "}\r\n",
       "comp usage \"q\" as E9  <<(T,blue) reference>> [[psysml:aeeab6cc-3339-44ed-a45c-f65a5d97c376 ]] {\r\n",
       "- - attributes - -\r\n",
       "b: B\\n//:>>P::a// \r\n",
       "}\r\n",
       "comp usage \"y: P\" as E10  <<(T,blue) part>> [[psysml:fe63b1e8-840a-4f2e-b06a-2ce986f19d03 ]] {\r\n",
       "}\r\n",
       "E3 - -|> E2 [[psysml:6495a820-e8c0-4129-af26-6722c3b7b9e6 ]] \r\n",
       "E5 - -|> E2 [[psysml:bd00e4e7-d183-497a-b9f8-56660fc51e3e ]] \r\n",
       "E5 )- ->> E6 [[psysml:3ec706da-d65f-4ef5-8a1f-1e1b5df7e7c6 ]] : <<variant>>\r\n",
       "E7 - -:|> E3 [[psysml:9cf32953-475b-4011-b1f8-e7f09d5ce449 ]] \r\n",
       "E8 - -:|> E2 [[psysml:d1a9bfbc-b159-49c1-a5ca-956a4881ee49 ]] \r\n",
       "E8 )- ->> E9 [[psysml:4574f674-7c12-4143-bfb7-6a6844a72e64 ]] : <<variant>>\r\n",
       "E10 - -:|> E2 [[psysml:bd829215-07d4-45cb-8fe9-60748d4dd682 ]] \r\n",
       "}\r\n",
       "@enduml\r\n",
       "\n",
       "PlantUML version 1.2020.13(Sat Jun 13 12:26:38 UTC 2020)\n",
       "(EPL source distribution)\n",
       "Java Runtime: OpenJDK Runtime Environment\n",
       "JVM: OpenJDK 64-Bit Server VM\n",
       "Default Encoding: UTF-8\n",
       "Language: en\n",
       "Country: null\n",
       "--></g></svg>"
      ]
     },
     "execution_count": 43,
     "metadata": {},
     "output_type": "execute_result"
    }
   ],
   "source": [
    "%viz --style=\"DEFAULT\" --view=\"MIXED\" \"VariabilityTest\""
   ]
  },
  {
   "cell_type": "code",
   "execution_count": 44,
   "id": "a7cd6b00",
   "metadata": {
    "execution": {
     "iopub.execute_input": "2021-08-04T06:26:51.608182Z",
     "iopub.status.busy": "2021-08-04T06:26:51.607830Z",
     "iopub.status.idle": "2021-08-04T06:26:51.653140Z",
     "shell.execute_reply": "2021-08-04T06:26:51.651785Z"
    }
   },
   "outputs": [
    {
     "data": {
      "image/svg+xml": [
       "<?xml version=\"1.0\" encoding=\"UTF-8\" standalone=\"no\"?><svg xmlns=\"http://www.w3.org/2000/svg\" xmlns:xlink=\"http://www.w3.org/1999/xlink\" contentScriptType=\"application/ecmascript\" contentStyleType=\"text/css\" height=\"401px\" preserveAspectRatio=\"none\" style=\"width:419px;height:401px;\" version=\"1.1\" viewBox=\"0 0 419 401\" width=\"419px\" zoomAndPan=\"magnify\"><defs/><g><!--MD5=[fbc87193dbaf4d95561dea2c320d4a47]\n",
       "cluster E1--><a href=\"psysml:6e13bc12-600f-4176-9ee3-c77c18f0da6f\" target=\"_top\" title=\"psysml:6e13bc12-600f-4176-9ee3-c77c18f0da6f\" xlink:actuate=\"onRequest\" xlink:href=\"psysml:6e13bc12-600f-4176-9ee3-c77c18f0da6f\" xlink:show=\"new\" xlink:title=\"psysml:6e13bc12-600f-4176-9ee3-c77c18f0da6f\" xlink:type=\"simple\"><polygon fill=\"#FFFFFF\" points=\"16,6,134,6,141,28.2969,397,28.2969,397,389,16,389,16,6\" style=\"stroke: #000000; stroke-width: 1.5;\"/><line style=\"stroke: #000000; stroke-width: 1.5;\" x1=\"16\" x2=\"141\" y1=\"28.2969\" y2=\"28.2969\"/><text fill=\"#000000\" font-family=\"sans-serif\" font-size=\"14\" font-weight=\"bold\" lengthAdjust=\"spacingAndGlyphs\" textLength=\"112\" x=\"20\" y=\"20.9951\">VariabilityTest</text></a><!--MD5=[b4997ac47864f28c2f74865a473b2911]\n",
       "class E2--><a href=\"psysml:a47e4883-53c6-48e5-9729-358fb18738b5\" target=\"_top\" title=\"psysml:a47e4883-53c6-48e5-9729-358fb18738b5\" xlink:actuate=\"onRequest\" xlink:href=\"psysml:a47e4883-53c6-48e5-9729-358fb18738b5\" xlink:show=\"new\" xlink:title=\"psysml:a47e4883-53c6-48e5-9729-358fb18738b5\" xlink:type=\"simple\"><rect fill=\"#FFFFFF\" height=\"75.5469\" id=\"E2\" style=\"stroke: #383838; stroke-width: 1.5;\" width=\"66\" x=\"166\" y=\"291\"/><text fill=\"#000000\" font-family=\"sans-serif\" font-size=\"12\" font-style=\"italic\" lengthAdjust=\"spacingAndGlyphs\" textLength=\"64\" x=\"167\" y=\"307.1387\">«part def»</text><text fill=\"#000000\" font-family=\"sans-serif\" font-size=\"12\" lengthAdjust=\"spacingAndGlyphs\" textLength=\"8\" x=\"195\" y=\"321.1074\">P</text><line style=\"stroke: #383838; stroke-width: 1.5;\" x1=\"167\" x2=\"231\" y1=\"328.9375\" y2=\"328.9375\"/><text fill=\"#000000\" font-family=\"sans-serif\" font-size=\"11\" lengthAdjust=\"spacingAndGlyphs\" textLength=\"7\" x=\"172\" y=\"359.9526\">a</text><line style=\"stroke: #383838; stroke-width: 1.0;\" x1=\"167\" x2=\"171.5\" y1=\"343.3398\" y2=\"343.3398\"/><text fill=\"#000000\" font-family=\"sans-serif\" font-size=\"11\" lengthAdjust=\"spacingAndGlyphs\" textLength=\"55\" x=\"171.5\" y=\"346.6479\">attributes</text><line style=\"stroke: #383838; stroke-width: 1.0;\" x1=\"226.5\" x2=\"231\" y1=\"343.3398\" y2=\"343.3398\"/></a><!--MD5=[09b614a08d8cba4a07c9adeb5e0fee81]\n",
       "class E3--><a href=\"psysml:64152dcd-188c-4285-9d2f-82b4222731ff\" target=\"_top\" title=\"psysml:64152dcd-188c-4285-9d2f-82b4222731ff\" xlink:actuate=\"onRequest\" xlink:href=\"psysml:64152dcd-188c-4285-9d2f-82b4222731ff\" xlink:show=\"new\" xlink:title=\"psysml:64152dcd-188c-4285-9d2f-82b4222731ff\" xlink:type=\"simple\"><rect fill=\"#FFFFFF\" height=\"45.9375\" id=\"E3\" style=\"stroke: #383838; stroke-width: 1.5;\" width=\"66\" x=\"137\" y=\"155\"/><text fill=\"#000000\" font-family=\"sans-serif\" font-size=\"12\" font-style=\"italic\" lengthAdjust=\"spacingAndGlyphs\" textLength=\"64\" x=\"138\" y=\"171.1387\">«part def»</text><text fill=\"#000000\" font-family=\"sans-serif\" font-size=\"12\" lengthAdjust=\"spacingAndGlyphs\" textLength=\"9\" x=\"165.5\" y=\"185.1074\">Q</text><line style=\"stroke: #383838; stroke-width: 1.5;\" x1=\"138\" x2=\"202\" y1=\"192.9375\" y2=\"192.9375\"/></a><!--MD5=[ebbe1d658d1005bcc118a6aa81145e00]\n",
       "class E4--><a href=\"psysml:6204c3f0-143a-45cc-ac58-9ea86a3a8ea6\" target=\"_top\" title=\"psysml:6204c3f0-143a-45cc-ac58-9ea86a3a8ea6\" xlink:actuate=\"onRequest\" xlink:href=\"psysml:6204c3f0-143a-45cc-ac58-9ea86a3a8ea6\" xlink:show=\"new\" xlink:title=\"psysml:6204c3f0-143a-45cc-ac58-9ea86a3a8ea6\" xlink:type=\"simple\"><rect fill=\"#FFFFFF\" height=\"45.9375\" id=\"E4\" style=\"stroke: #383838; stroke-width: 1.5;\" width=\"95\" x=\"255.5\" y=\"41\"/><text fill=\"#000000\" font-family=\"sans-serif\" font-size=\"12\" font-style=\"italic\" lengthAdjust=\"spacingAndGlyphs\" textLength=\"93\" x=\"256.5\" y=\"57.1387\">«attribute def»</text><text fill=\"#000000\" font-family=\"sans-serif\" font-size=\"12\" lengthAdjust=\"spacingAndGlyphs\" textLength=\"8\" x=\"299\" y=\"71.1074\">B</text><line style=\"stroke: #383838; stroke-width: 1.5;\" x1=\"256.5\" x2=\"349.5\" y1=\"78.9375\" y2=\"78.9375\"/></a><!--MD5=[270fce915f116d4de14055a7c1d9a0f3]\n",
       "class E5--><a href=\"psysml:58826ca2-a740-4eaa-a71e-521b590388a3\" target=\"_top\" title=\"psysml:58826ca2-a740-4eaa-a71e-521b590388a3\" xlink:actuate=\"onRequest\" xlink:href=\"psysml:58826ca2-a740-4eaa-a71e-521b590388a3\" xlink:show=\"new\" xlink:title=\"psysml:58826ca2-a740-4eaa-a71e-521b590388a3\" xlink:type=\"simple\"><rect fill=\"#FFFFFF\" height=\"45.9375\" id=\"E5\" style=\"stroke: #383838; stroke-width: 1.5;\" width=\"66\" x=\"315\" y=\"155\"/><text fill=\"#000000\" font-family=\"sans-serif\" font-size=\"12\" font-style=\"italic\" lengthAdjust=\"spacingAndGlyphs\" textLength=\"64\" x=\"316\" y=\"171.1387\">«part def»</text><text fill=\"#000000\" font-family=\"sans-serif\" font-size=\"12\" lengthAdjust=\"spacingAndGlyphs\" textLength=\"8\" x=\"344\" y=\"185.1074\">V</text><line style=\"stroke: #383838; stroke-width: 1.5;\" x1=\"316\" x2=\"380\" y1=\"192.9375\" y2=\"192.9375\"/></a><!--MD5=[60a26617385b1d2d0262a64233df1f8d]\n",
       "class E6--><a href=\"psysml:c2df0e2e-5a66-4a2b-abfc-b3b4dd7dd2c5\" target=\"_top\" title=\"psysml:c2df0e2e-5a66-4a2b-abfc-b3b4dd7dd2c5\" xlink:actuate=\"onRequest\" xlink:href=\"psysml:c2df0e2e-5a66-4a2b-abfc-b3b4dd7dd2c5\" xlink:show=\"new\" xlink:title=\"psysml:c2df0e2e-5a66-4a2b-abfc-b3b4dd7dd2c5\" xlink:type=\"simple\"><rect fill=\"#FFFFFF\" height=\"88.3516\" id=\"E6\" rx=\"10\" ry=\"10\" style=\"stroke: #383838; stroke-width: 1.5;\" width=\"63\" x=\"287.5\" y=\"285\"/><text fill=\"#000000\" font-family=\"sans-serif\" font-size=\"12\" font-style=\"italic\" lengthAdjust=\"spacingAndGlyphs\" textLength=\"40\" x=\"299\" y=\"301.1387\">«part»</text><text fill=\"#000000\" font-family=\"sans-serif\" font-size=\"12\" lengthAdjust=\"spacingAndGlyphs\" textLength=\"23\" x=\"307.5\" y=\"315.1074\">x: Q</text><line style=\"stroke: #383838; stroke-width: 1.5;\" x1=\"288.5\" x2=\"349.5\" y1=\"322.9375\" y2=\"322.9375\"/><text fill=\"#000000\" font-family=\"sans-serif\" font-size=\"11\" lengthAdjust=\"spacingAndGlyphs\" textLength=\"23\" x=\"293.5\" y=\"353.9526\">b: B</text><text fill=\"#000000\" font-family=\"sans-serif\" font-size=\"11\" font-style=\"italic\" lengthAdjust=\"spacingAndGlyphs\" textLength=\"44\" x=\"293.5\" y=\"366.7573\">:&gt;&gt;P::a</text><line style=\"stroke: #383838; stroke-width: 1.0;\" x1=\"288.5\" x2=\"291.5\" y1=\"337.3398\" y2=\"337.3398\"/><text fill=\"#000000\" font-family=\"sans-serif\" font-size=\"11\" lengthAdjust=\"spacingAndGlyphs\" textLength=\"55\" x=\"291.5\" y=\"340.6479\">attributes</text><line style=\"stroke: #383838; stroke-width: 1.0;\" x1=\"346.5\" x2=\"349.5\" y1=\"337.3398\" y2=\"337.3398\"/></a><!--MD5=[2156ba9850f5573cc1fc38a6a4b2f02b]\n",
       "class E7--><a href=\"psysml:d5aa7800-4c4d-4a74-9f82-8c5d7377a367\" target=\"_top\" title=\"psysml:d5aa7800-4c4d-4a74-9f82-8c5d7377a367\" xlink:actuate=\"onRequest\" xlink:href=\"psysml:d5aa7800-4c4d-4a74-9f82-8c5d7377a367\" xlink:show=\"new\" xlink:title=\"psysml:d5aa7800-4c4d-4a74-9f82-8c5d7377a367\" xlink:type=\"simple\"><rect fill=\"#FFFFFF\" height=\"45.9375\" id=\"E7\" rx=\"10\" ry=\"10\" style=\"stroke: #383838; stroke-width: 1.5;\" width=\"42\" x=\"149\" y=\"41\"/><text fill=\"#000000\" font-family=\"sans-serif\" font-size=\"12\" font-style=\"italic\" lengthAdjust=\"spacingAndGlyphs\" textLength=\"40\" x=\"150\" y=\"57.1387\">«part»</text><text fill=\"#000000\" font-family=\"sans-serif\" font-size=\"12\" lengthAdjust=\"spacingAndGlyphs\" textLength=\"25\" x=\"157.5\" y=\"71.1074\">q: Q</text><line style=\"stroke: #383838; stroke-width: 1.5;\" x1=\"150\" x2=\"190\" y1=\"78.9375\" y2=\"78.9375\"/></a><!--MD5=[b9389687b975829384b498ac4b7476b2]\n",
       "class E8--><a href=\"psysml:d7b3804f-80e3-4381-979e-bf8e2501fba8\" target=\"_top\" title=\"psysml:d7b3804f-80e3-4381-979e-bf8e2501fba8\" xlink:actuate=\"onRequest\" xlink:href=\"psysml:d7b3804f-80e3-4381-979e-bf8e2501fba8\" xlink:show=\"new\" xlink:title=\"psysml:d7b3804f-80e3-4381-979e-bf8e2501fba8\" xlink:type=\"simple\"><rect fill=\"#FFFFFF\" height=\"59.9063\" id=\"E8\" rx=\"10\" ry=\"10\" style=\"stroke: #383838; stroke-width: 1.5;\" width=\"70\" x=\"32\" y=\"148\"/><text fill=\"#000000\" font-family=\"sans-serif\" font-size=\"12\" font-style=\"italic\" lengthAdjust=\"spacingAndGlyphs\" textLength=\"68\" x=\"33\" y=\"164.1387\">«variation»</text><text fill=\"#000000\" font-family=\"sans-serif\" font-size=\"12\" font-style=\"italic\" lengthAdjust=\"spacingAndGlyphs\" textLength=\"40\" x=\"47\" y=\"178.1074\">«part»</text><text fill=\"#000000\" font-family=\"sans-serif\" font-size=\"12\" lengthAdjust=\"spacingAndGlyphs\" textLength=\"22\" x=\"56\" y=\"192.0762\">v: P</text><line style=\"stroke: #383838; stroke-width: 1.5;\" x1=\"33\" x2=\"101\" y1=\"199.9063\" y2=\"199.9063\"/></a><!--MD5=[fd4143e9d270a159db93a4ea2a975926]\n",
       "class E9--><a href=\"psysml:aeeab6cc-3339-44ed-a45c-f65a5d97c376\" target=\"_top\" title=\"psysml:aeeab6cc-3339-44ed-a45c-f65a5d97c376\" xlink:actuate=\"onRequest\" xlink:href=\"psysml:aeeab6cc-3339-44ed-a45c-f65a5d97c376\" xlink:show=\"new\" xlink:title=\"psysml:aeeab6cc-3339-44ed-a45c-f65a5d97c376\" xlink:type=\"simple\"><rect fill=\"#FFFFFF\" height=\"88.3516\" id=\"E9\" rx=\"10\" ry=\"10\" style=\"stroke: #383838; stroke-width: 1.5;\" width=\"77\" x=\"32.5\" y=\"285\"/><text fill=\"#000000\" font-family=\"sans-serif\" font-size=\"12\" font-style=\"italic\" lengthAdjust=\"spacingAndGlyphs\" textLength=\"75\" x=\"33.5\" y=\"301.1387\">«reference»</text><text fill=\"#000000\" font-family=\"sans-serif\" font-size=\"12\" lengthAdjust=\"spacingAndGlyphs\" textLength=\"8\" x=\"67\" y=\"315.1074\">q</text><line style=\"stroke: #383838; stroke-width: 1.5;\" x1=\"33.5\" x2=\"108.5\" y1=\"322.9375\" y2=\"322.9375\"/><text fill=\"#000000\" font-family=\"sans-serif\" font-size=\"11\" lengthAdjust=\"spacingAndGlyphs\" textLength=\"23\" x=\"38.5\" y=\"353.9526\">b: B</text><text fill=\"#000000\" font-family=\"sans-serif\" font-size=\"11\" font-style=\"italic\" lengthAdjust=\"spacingAndGlyphs\" textLength=\"44\" x=\"38.5\" y=\"366.7573\">:&gt;&gt;P::a</text><line style=\"stroke: #383838; stroke-width: 1.0;\" x1=\"33.5\" x2=\"43.5\" y1=\"337.3398\" y2=\"337.3398\"/><text fill=\"#000000\" font-family=\"sans-serif\" font-size=\"11\" lengthAdjust=\"spacingAndGlyphs\" textLength=\"55\" x=\"43.5\" y=\"340.6479\">attributes</text><line style=\"stroke: #383838; stroke-width: 1.0;\" x1=\"98.5\" x2=\"108.5\" y1=\"337.3398\" y2=\"337.3398\"/></a><!--MD5=[96f4274e9e20536e775497830990834d]\n",
       "class E10--><a href=\"psysml:fe63b1e8-840a-4f2e-b06a-2ce986f19d03\" target=\"_top\" title=\"psysml:fe63b1e8-840a-4f2e-b06a-2ce986f19d03\" xlink:actuate=\"onRequest\" xlink:href=\"psysml:fe63b1e8-840a-4f2e-b06a-2ce986f19d03\" xlink:show=\"new\" xlink:title=\"psysml:fe63b1e8-840a-4f2e-b06a-2ce986f19d03\" xlink:type=\"simple\"><rect fill=\"#FFFFFF\" height=\"45.9375\" id=\"E10\" rx=\"10\" ry=\"10\" style=\"stroke: #383838; stroke-width: 1.5;\" width=\"42\" x=\"238\" y=\"155\"/><text fill=\"#000000\" font-family=\"sans-serif\" font-size=\"12\" font-style=\"italic\" lengthAdjust=\"spacingAndGlyphs\" textLength=\"40\" x=\"239\" y=\"171.1387\">«part»</text><text fill=\"#000000\" font-family=\"sans-serif\" font-size=\"12\" lengthAdjust=\"spacingAndGlyphs\" textLength=\"22\" x=\"248\" y=\"185.1074\">y: P</text><line style=\"stroke: #383838; stroke-width: 1.5;\" x1=\"239\" x2=\"279\" y1=\"192.9375\" y2=\"192.9375\"/></a><!--MD5=[05d275557350bfb9b23a4ef7222b4c39]\n",
       "link E3 to E2--><a href=\"psysml:6495a820-e8c0-4129-af26-6722c3b7b9e6\" target=\"_top\" title=\"psysml:6495a820-e8c0-4129-af26-6722c3b7b9e6\" xlink:actuate=\"onRequest\" xlink:href=\"psysml:6495a820-e8c0-4129-af26-6722c3b7b9e6\" xlink:show=\"new\" xlink:title=\"psysml:6495a820-e8c0-4129-af26-6722c3b7b9e6\" xlink:type=\"simple\"><path d=\"M174.34,201.31 C177.92,219.67 183.15,246.54 187.87,270.81 \" fill=\"none\" id=\"E3-&gt;E2\" style=\"stroke: #383838; stroke-width: 1.0;\"/><polygon fill=\"none\" points=\"194.8,269.8,191.75,290.77,181.06,272.47,194.8,269.8\" style=\"stroke: #383838; stroke-width: 1.0;\"/></a><!--MD5=[15ebcb19ae302d9b601edb458606d402]\n",
       "link E5 to E2--><a href=\"psysml:bd00e4e7-d183-497a-b9f8-56660fc51e3e\" target=\"_top\" title=\"psysml:bd00e4e7-d183-497a-b9f8-56660fc51e3e\" xlink:actuate=\"onRequest\" xlink:href=\"psysml:bd00e4e7-d183-497a-b9f8-56660fc51e3e\" xlink:show=\"new\" xlink:title=\"psysml:bd00e4e7-d183-497a-b9f8-56660fc51e3e\" xlink:type=\"simple\"><path d=\"M325.69,201.31 C304.9,222.1 273.2,253.8 246.71,280.29 \" fill=\"none\" id=\"E5-&gt;E2\" style=\"stroke: #383838; stroke-width: 1.0;\"/><polygon fill=\"none\" points=\"251.33,285.57,232.24,294.76,241.43,275.67,251.33,285.57\" style=\"stroke: #383838; stroke-width: 1.0;\"/></a><!--MD5=[9120cf2e5df3bff93db8f754bbbc09b4]\n",
       "link E5 to E6--><a href=\"psysml:3ec706da-d65f-4ef5-8a1f-1e1b5df7e7c6\" target=\"_top\" title=\"psysml:3ec706da-d65f-4ef5-8a1f-1e1b5df7e7c6\" xlink:actuate=\"onRequest\" xlink:href=\"psysml:3ec706da-d65f-4ef5-8a1f-1e1b5df7e7c6\" xlink:show=\"new\" xlink:title=\"psysml:3ec706da-d65f-4ef5-8a1f-1e1b5df7e7c6\" xlink:type=\"simple\"><path d=\"M341.72,211.26 C338.1,229.85 333.47,253.68 329.32,274.95 \" fill=\"none\" id=\"E5-E6\" style=\"stroke: #383838; stroke-width: 1.0;\"/><polygon fill=\"#383838\" points=\"327.4,284.84,331.8761,277.5623,325.987,276.4136,327.4,284.84\" style=\"stroke: #383838; stroke-width: 1.0;\"/><path d=\"M334.7699,202.7122 A9,9 0 0 0 351.3715 205.9503\" fill=\"none\" style=\"stroke: #383838; stroke-width: 1.5;\"/><text fill=\"#000000\" font-family=\"sans-serif\" font-size=\"13\" lengthAdjust=\"spacingAndGlyphs\" textLength=\"60\" x=\"337\" y=\"251.0669\">«variant»</text></a><!--MD5=[14ccda38c055a5c0da953d572bc50960]\n",
       "link E7 to E3--><a href=\"psysml:9cf32953-475b-4011-b1f8-e7f09d5ce449\" target=\"_top\" title=\"psysml:9cf32953-475b-4011-b1f8-e7f09d5ce449\" xlink:actuate=\"onRequest\" xlink:href=\"psysml:9cf32953-475b-4011-b1f8-e7f09d5ce449\" xlink:show=\"new\" xlink:title=\"psysml:9cf32953-475b-4011-b1f8-e7f09d5ce449\" xlink:type=\"simple\"><path d=\"M170,87.13 C170,100.7 170,118.53 170,134.73 \" fill=\"none\" id=\"E7-&gt;E3\" style=\"stroke: #383838; stroke-width: 1.0;\"/><polygon fill=\"#FFFFFF\" points=\"170,154.92,163,135.92,177,135.92,170,154.92\" style=\"stroke: #383838; stroke-width: 1.0;\"/><ellipse cx=\"165\" cy=\"130.22\" fill=\"#383838\" rx=\"2\" ry=\"2\" style=\"stroke: #383838; stroke-width: 1.0;\"/><ellipse cx=\"175\" cy=\"130.22\" fill=\"#383838\" rx=\"2\" ry=\"2\" style=\"stroke: #383838; stroke-width: 1.0;\"/></a><!--MD5=[f1f3f9f2fc535e6147756cb86a7f2e32]\n",
       "link E8 to E2--><a href=\"psysml:d1a9bfbc-b159-49c1-a5ca-956a4881ee49\" target=\"_top\" title=\"psysml:d1a9bfbc-b159-49c1-a5ca-956a4881ee49\" xlink:actuate=\"onRequest\" xlink:href=\"psysml:d1a9bfbc-b159-49c1-a5ca-956a4881ee49\" xlink:show=\"new\" xlink:title=\"psysml:d1a9bfbc-b159-49c1-a5ca-956a4881ee49\" xlink:type=\"simple\"><path d=\"M102.17,204.39 C114.52,214.17 128.04,225.9 139,238 C148.86,248.88 158.29,261.5 166.63,273.79 \" fill=\"none\" id=\"E8-&gt;E2\" style=\"stroke: #383838; stroke-width: 1.0;\"/><polygon fill=\"#FFFFFF\" points=\"177.64,290.73,161.4168,278.6135,173.1555,270.9844,177.64,290.73\" style=\"stroke: #383838; stroke-width: 1.0;\"/><ellipse cx=\"159.9876\" cy=\"272.7443\" fill=\"#383838\" rx=\"2\" ry=\"2\" style=\"stroke: #383838; stroke-width: 1.0;\"/><ellipse cx=\"168.3724\" cy=\"267.2949\" fill=\"#383838\" rx=\"2\" ry=\"2\" style=\"stroke: #383838; stroke-width: 1.0;\"/></a><!--MD5=[ed10624c06dd9a4fa49ccf290e8b16a8]\n",
       "link E8 to E9--><a href=\"psysml:4574f674-7c12-4143-bfb7-6a6844a72e64\" target=\"_top\" title=\"psysml:4574f674-7c12-4143-bfb7-6a6844a72e64\" xlink:actuate=\"onRequest\" xlink:href=\"psysml:4574f674-7c12-4143-bfb7-6a6844a72e64\" xlink:show=\"new\" xlink:title=\"psysml:4574f674-7c12-4143-bfb7-6a6844a72e64\" xlink:type=\"simple\"><path d=\"M68.06,218.32 C68.52,235.6 69.07,256.15 69.57,274.77 \" fill=\"none\" id=\"E8-E9\" style=\"stroke: #383838; stroke-width: 1.0;\"/><polygon fill=\"#383838\" points=\"69.84,284.88,72.6331,276.8054,66.6351,276.9599,69.84,284.88\" style=\"stroke: #383838; stroke-width: 1.0;\"/><path d=\"M59.4094,211.3865 A9,9 0 0 0 76.3176 210.9276\" fill=\"none\" style=\"stroke: #383838; stroke-width: 1.5;\"/><text fill=\"#000000\" font-family=\"sans-serif\" font-size=\"13\" lengthAdjust=\"spacingAndGlyphs\" textLength=\"60\" x=\"70\" y=\"251.0669\">«variant»</text></a><!--MD5=[0f36bececdf0dff6e600d6f64214b0f1]\n",
       "link E10 to E2--><a href=\"psysml:bd829215-07d4-45cb-8fe9-60748d4dd682\" target=\"_top\" title=\"psysml:bd829215-07d4-45cb-8fe9-60748d4dd682\" xlink:actuate=\"onRequest\" xlink:href=\"psysml:bd829215-07d4-45cb-8fe9-60748d4dd682\" xlink:show=\"new\" xlink:title=\"psysml:bd829215-07d4-45cb-8fe9-60748d4dd682\" xlink:type=\"simple\"><path d=\"M250.02,201.31 C242.51,219.95 231.48,247.35 221.59,271.91 \" fill=\"none\" id=\"E10-&gt;E2\" style=\"stroke: #383838; stroke-width: 1.0;\"/><polygon fill=\"#FFFFFF\" points=\"213.99,290.77,214.5927,270.5305,227.5796,275.7593,213.99,290.77\" style=\"stroke: #383838; stroke-width: 1.0;\"/><ellipse cx=\"218.5768\" cy=\"265.9899\" fill=\"#383838\" rx=\"2\" ry=\"2\" style=\"stroke: #383838; stroke-width: 1.0;\"/><ellipse cx=\"227.8532\" cy=\"269.7248\" fill=\"#383838\" rx=\"2\" ry=\"2\" style=\"stroke: #383838; stroke-width: 1.0;\"/></a><!--MD5=[845e6076adcc785e866970314ad49c83]\n",
       "@startuml\r\n",
       "top to bottom direction\r\n",
       "skinparam monochrome true\r\n",
       "skinparam classbackgroundcolor white\r\n",
       "skinparam shadowing false\r\n",
       "skinparam wrapWidth 300\r\n",
       "hide circle\r\n",
       "\r\n",
       "package \"VariabilityTest\" as E1  [[psysml:6e13bc12-600f-4176-9ee3-c77c18f0da6f ]]  {\r\n",
       "comp def \"P\" as E2  <<(T,blue) part def>> [[psysml:a47e4883-53c6-48e5-9729-358fb18738b5 ]] {\r\n",
       "- - attributes - -\r\n",
       "a\r\n",
       "}\r\n",
       "comp def \"Q\" as E3  <<(T,blue) part def>> [[psysml:64152dcd-188c-4285-9d2f-82b4222731ff ]] {\r\n",
       "}\r\n",
       "comp def \"B\" as E4  <<(T,blue) attribute def>> [[psysml:6204c3f0-143a-45cc-ac58-9ea86a3a8ea6 ]] {\r\n",
       "}\r\n",
       "comp def \"V\" as E5  <<(T,blue) part def>> [[psysml:58826ca2-a740-4eaa-a71e-521b590388a3 ]] {\r\n",
       "}\r\n",
       "comp usage \"x: Q\" as E6  <<(T,blue) part>> [[psysml:c2df0e2e-5a66-4a2b-abfc-b3b4dd7dd2c5 ]] {\r\n",
       "- - attributes - -\r\n",
       "b: B\\n//:>>P::a// \r\n",
       "}\r\n",
       "comp usage \"q: Q\" as E7  <<(T,blue) part>> [[psysml:d5aa7800-4c4d-4a74-9f82-8c5d7377a367 ]] {\r\n",
       "}\r\n",
       "comp usage \"v: P\" as E8  <<variation>>\\n <<(T,blue) part>> [[psysml:d7b3804f-80e3-4381-979e-bf8e2501fba8 ]] {\r\n",
       "}\r\n",
       "comp usage \"q\" as E9  <<(T,blue) reference>> [[psysml:aeeab6cc-3339-44ed-a45c-f65a5d97c376 ]] {\r\n",
       "- - attributes - -\r\n",
       "b: B\\n//:>>P::a// \r\n",
       "}\r\n",
       "comp usage \"y: P\" as E10  <<(T,blue) part>> [[psysml:fe63b1e8-840a-4f2e-b06a-2ce986f19d03 ]] {\r\n",
       "}\r\n",
       "E3 - -|> E2 [[psysml:6495a820-e8c0-4129-af26-6722c3b7b9e6 ]] \r\n",
       "E5 - -|> E2 [[psysml:bd00e4e7-d183-497a-b9f8-56660fc51e3e ]] \r\n",
       "E5 )- ->> E6 [[psysml:3ec706da-d65f-4ef5-8a1f-1e1b5df7e7c6 ]] : <<variant>>\r\n",
       "E7 - -:|> E3 [[psysml:9cf32953-475b-4011-b1f8-e7f09d5ce449 ]] \r\n",
       "E8 - -:|> E2 [[psysml:d1a9bfbc-b159-49c1-a5ca-956a4881ee49 ]] \r\n",
       "E8 )- ->> E9 [[psysml:4574f674-7c12-4143-bfb7-6a6844a72e64 ]] : <<variant>>\r\n",
       "E10 - -:|> E2 [[psysml:bd829215-07d4-45cb-8fe9-60748d4dd682 ]] \r\n",
       "}\r\n",
       "@enduml\r\n",
       "\n",
       "PlantUML version 1.2020.13(Sat Jun 13 12:26:38 UTC 2020)\n",
       "(EPL source distribution)\n",
       "Java Runtime: OpenJDK Runtime Environment\n",
       "JVM: OpenJDK 64-Bit Server VM\n",
       "Default Encoding: UTF-8\n",
       "Language: en\n",
       "Country: null\n",
       "--></g></svg>"
      ]
     },
     "execution_count": 44,
     "metadata": {},
     "output_type": "execute_result"
    }
   ],
   "source": [
    "%viz --style=\"TB\" --view=\"Default\" \"VariabilityTest\""
   ]
  },
  {
   "cell_type": "code",
   "execution_count": 45,
   "id": "e601a7c2",
   "metadata": {
    "execution": {
     "iopub.execute_input": "2021-08-04T06:26:51.702411Z",
     "iopub.status.busy": "2021-08-04T06:26:51.702018Z",
     "iopub.status.idle": "2021-08-04T06:26:51.742756Z",
     "shell.execute_reply": "2021-08-04T06:26:51.742019Z"
    }
   },
   "outputs": [
    {
     "data": {
      "image/svg+xml": [
       "<?xml version=\"1.0\" encoding=\"UTF-8\" standalone=\"no\"?><svg xmlns=\"http://www.w3.org/2000/svg\" xmlns:xlink=\"http://www.w3.org/1999/xlink\" contentScriptType=\"application/ecmascript\" contentStyleType=\"text/css\" height=\"401px\" preserveAspectRatio=\"none\" style=\"width:419px;height:401px;\" version=\"1.1\" viewBox=\"0 0 419 401\" width=\"419px\" zoomAndPan=\"magnify\"><defs/><g><!--MD5=[fbc87193dbaf4d95561dea2c320d4a47]\n",
       "cluster E1--><a href=\"psysml:6e13bc12-600f-4176-9ee3-c77c18f0da6f\" target=\"_top\" title=\"psysml:6e13bc12-600f-4176-9ee3-c77c18f0da6f\" xlink:actuate=\"onRequest\" xlink:href=\"psysml:6e13bc12-600f-4176-9ee3-c77c18f0da6f\" xlink:show=\"new\" xlink:title=\"psysml:6e13bc12-600f-4176-9ee3-c77c18f0da6f\" xlink:type=\"simple\"><polygon fill=\"#FFFFFF\" points=\"16,6,134,6,141,28.2969,397,28.2969,397,389,16,389,16,6\" style=\"stroke: #000000; stroke-width: 1.5;\"/><line style=\"stroke: #000000; stroke-width: 1.5;\" x1=\"16\" x2=\"141\" y1=\"28.2969\" y2=\"28.2969\"/><text fill=\"#000000\" font-family=\"sans-serif\" font-size=\"14\" font-weight=\"bold\" lengthAdjust=\"spacingAndGlyphs\" textLength=\"112\" x=\"20\" y=\"20.9951\">VariabilityTest</text></a><!--MD5=[b4997ac47864f28c2f74865a473b2911]\n",
       "class E2--><a href=\"psysml:a47e4883-53c6-48e5-9729-358fb18738b5\" target=\"_top\" title=\"psysml:a47e4883-53c6-48e5-9729-358fb18738b5\" xlink:actuate=\"onRequest\" xlink:href=\"psysml:a47e4883-53c6-48e5-9729-358fb18738b5\" xlink:show=\"new\" xlink:title=\"psysml:a47e4883-53c6-48e5-9729-358fb18738b5\" xlink:type=\"simple\"><rect fill=\"#FFFFFF\" height=\"75.5469\" id=\"E2\" style=\"stroke: #383838; stroke-width: 1.5;\" width=\"66\" x=\"166\" y=\"291\"/><text fill=\"#000000\" font-family=\"sans-serif\" font-size=\"12\" font-style=\"italic\" lengthAdjust=\"spacingAndGlyphs\" textLength=\"64\" x=\"167\" y=\"307.1387\">«part def»</text><text fill=\"#000000\" font-family=\"sans-serif\" font-size=\"12\" lengthAdjust=\"spacingAndGlyphs\" textLength=\"8\" x=\"195\" y=\"321.1074\">P</text><line style=\"stroke: #383838; stroke-width: 1.5;\" x1=\"167\" x2=\"231\" y1=\"328.9375\" y2=\"328.9375\"/><text fill=\"#000000\" font-family=\"sans-serif\" font-size=\"11\" lengthAdjust=\"spacingAndGlyphs\" textLength=\"7\" x=\"172\" y=\"359.9526\">a</text><line style=\"stroke: #383838; stroke-width: 1.0;\" x1=\"167\" x2=\"171.5\" y1=\"343.3398\" y2=\"343.3398\"/><text fill=\"#000000\" font-family=\"sans-serif\" font-size=\"11\" lengthAdjust=\"spacingAndGlyphs\" textLength=\"55\" x=\"171.5\" y=\"346.6479\">attributes</text><line style=\"stroke: #383838; stroke-width: 1.0;\" x1=\"226.5\" x2=\"231\" y1=\"343.3398\" y2=\"343.3398\"/></a><!--MD5=[09b614a08d8cba4a07c9adeb5e0fee81]\n",
       "class E3--><a href=\"psysml:64152dcd-188c-4285-9d2f-82b4222731ff\" target=\"_top\" title=\"psysml:64152dcd-188c-4285-9d2f-82b4222731ff\" xlink:actuate=\"onRequest\" xlink:href=\"psysml:64152dcd-188c-4285-9d2f-82b4222731ff\" xlink:show=\"new\" xlink:title=\"psysml:64152dcd-188c-4285-9d2f-82b4222731ff\" xlink:type=\"simple\"><rect fill=\"#FFFFFF\" height=\"45.9375\" id=\"E3\" style=\"stroke: #383838; stroke-width: 1.5;\" width=\"66\" x=\"137\" y=\"155\"/><text fill=\"#000000\" font-family=\"sans-serif\" font-size=\"12\" font-style=\"italic\" lengthAdjust=\"spacingAndGlyphs\" textLength=\"64\" x=\"138\" y=\"171.1387\">«part def»</text><text fill=\"#000000\" font-family=\"sans-serif\" font-size=\"12\" lengthAdjust=\"spacingAndGlyphs\" textLength=\"9\" x=\"165.5\" y=\"185.1074\">Q</text><line style=\"stroke: #383838; stroke-width: 1.5;\" x1=\"138\" x2=\"202\" y1=\"192.9375\" y2=\"192.9375\"/></a><!--MD5=[ebbe1d658d1005bcc118a6aa81145e00]\n",
       "class E4--><a href=\"psysml:6204c3f0-143a-45cc-ac58-9ea86a3a8ea6\" target=\"_top\" title=\"psysml:6204c3f0-143a-45cc-ac58-9ea86a3a8ea6\" xlink:actuate=\"onRequest\" xlink:href=\"psysml:6204c3f0-143a-45cc-ac58-9ea86a3a8ea6\" xlink:show=\"new\" xlink:title=\"psysml:6204c3f0-143a-45cc-ac58-9ea86a3a8ea6\" xlink:type=\"simple\"><rect fill=\"#FFFFFF\" height=\"45.9375\" id=\"E4\" style=\"stroke: #383838; stroke-width: 1.5;\" width=\"95\" x=\"255.5\" y=\"41\"/><text fill=\"#000000\" font-family=\"sans-serif\" font-size=\"12\" font-style=\"italic\" lengthAdjust=\"spacingAndGlyphs\" textLength=\"93\" x=\"256.5\" y=\"57.1387\">«attribute def»</text><text fill=\"#000000\" font-family=\"sans-serif\" font-size=\"12\" lengthAdjust=\"spacingAndGlyphs\" textLength=\"8\" x=\"299\" y=\"71.1074\">B</text><line style=\"stroke: #383838; stroke-width: 1.5;\" x1=\"256.5\" x2=\"349.5\" y1=\"78.9375\" y2=\"78.9375\"/></a><!--MD5=[270fce915f116d4de14055a7c1d9a0f3]\n",
       "class E5--><a href=\"psysml:58826ca2-a740-4eaa-a71e-521b590388a3\" target=\"_top\" title=\"psysml:58826ca2-a740-4eaa-a71e-521b590388a3\" xlink:actuate=\"onRequest\" xlink:href=\"psysml:58826ca2-a740-4eaa-a71e-521b590388a3\" xlink:show=\"new\" xlink:title=\"psysml:58826ca2-a740-4eaa-a71e-521b590388a3\" xlink:type=\"simple\"><rect fill=\"#FFFFFF\" height=\"45.9375\" id=\"E5\" style=\"stroke: #383838; stroke-width: 1.5;\" width=\"66\" x=\"315\" y=\"155\"/><text fill=\"#000000\" font-family=\"sans-serif\" font-size=\"12\" font-style=\"italic\" lengthAdjust=\"spacingAndGlyphs\" textLength=\"64\" x=\"316\" y=\"171.1387\">«part def»</text><text fill=\"#000000\" font-family=\"sans-serif\" font-size=\"12\" lengthAdjust=\"spacingAndGlyphs\" textLength=\"8\" x=\"344\" y=\"185.1074\">V</text><line style=\"stroke: #383838; stroke-width: 1.5;\" x1=\"316\" x2=\"380\" y1=\"192.9375\" y2=\"192.9375\"/></a><!--MD5=[60a26617385b1d2d0262a64233df1f8d]\n",
       "class E6--><a href=\"psysml:c2df0e2e-5a66-4a2b-abfc-b3b4dd7dd2c5\" target=\"_top\" title=\"psysml:c2df0e2e-5a66-4a2b-abfc-b3b4dd7dd2c5\" xlink:actuate=\"onRequest\" xlink:href=\"psysml:c2df0e2e-5a66-4a2b-abfc-b3b4dd7dd2c5\" xlink:show=\"new\" xlink:title=\"psysml:c2df0e2e-5a66-4a2b-abfc-b3b4dd7dd2c5\" xlink:type=\"simple\"><rect fill=\"#FFFFFF\" height=\"88.3516\" id=\"E6\" rx=\"10\" ry=\"10\" style=\"stroke: #383838; stroke-width: 1.5;\" width=\"63\" x=\"287.5\" y=\"285\"/><text fill=\"#000000\" font-family=\"sans-serif\" font-size=\"12\" font-style=\"italic\" lengthAdjust=\"spacingAndGlyphs\" textLength=\"40\" x=\"299\" y=\"301.1387\">«part»</text><text fill=\"#000000\" font-family=\"sans-serif\" font-size=\"12\" lengthAdjust=\"spacingAndGlyphs\" textLength=\"23\" x=\"307.5\" y=\"315.1074\">x: Q</text><line style=\"stroke: #383838; stroke-width: 1.5;\" x1=\"288.5\" x2=\"349.5\" y1=\"322.9375\" y2=\"322.9375\"/><text fill=\"#000000\" font-family=\"sans-serif\" font-size=\"11\" lengthAdjust=\"spacingAndGlyphs\" textLength=\"23\" x=\"293.5\" y=\"353.9526\">b: B</text><text fill=\"#000000\" font-family=\"sans-serif\" font-size=\"11\" font-style=\"italic\" lengthAdjust=\"spacingAndGlyphs\" textLength=\"44\" x=\"293.5\" y=\"366.7573\">:&gt;&gt;P::a</text><line style=\"stroke: #383838; stroke-width: 1.0;\" x1=\"288.5\" x2=\"291.5\" y1=\"337.3398\" y2=\"337.3398\"/><text fill=\"#000000\" font-family=\"sans-serif\" font-size=\"11\" lengthAdjust=\"spacingAndGlyphs\" textLength=\"55\" x=\"291.5\" y=\"340.6479\">attributes</text><line style=\"stroke: #383838; stroke-width: 1.0;\" x1=\"346.5\" x2=\"349.5\" y1=\"337.3398\" y2=\"337.3398\"/></a><!--MD5=[2156ba9850f5573cc1fc38a6a4b2f02b]\n",
       "class E7--><a href=\"psysml:d5aa7800-4c4d-4a74-9f82-8c5d7377a367\" target=\"_top\" title=\"psysml:d5aa7800-4c4d-4a74-9f82-8c5d7377a367\" xlink:actuate=\"onRequest\" xlink:href=\"psysml:d5aa7800-4c4d-4a74-9f82-8c5d7377a367\" xlink:show=\"new\" xlink:title=\"psysml:d5aa7800-4c4d-4a74-9f82-8c5d7377a367\" xlink:type=\"simple\"><rect fill=\"#FFFFFF\" height=\"45.9375\" id=\"E7\" rx=\"10\" ry=\"10\" style=\"stroke: #383838; stroke-width: 1.5;\" width=\"42\" x=\"149\" y=\"41\"/><text fill=\"#000000\" font-family=\"sans-serif\" font-size=\"12\" font-style=\"italic\" lengthAdjust=\"spacingAndGlyphs\" textLength=\"40\" x=\"150\" y=\"57.1387\">«part»</text><text fill=\"#000000\" font-family=\"sans-serif\" font-size=\"12\" lengthAdjust=\"spacingAndGlyphs\" textLength=\"25\" x=\"157.5\" y=\"71.1074\">q: Q</text><line style=\"stroke: #383838; stroke-width: 1.5;\" x1=\"150\" x2=\"190\" y1=\"78.9375\" y2=\"78.9375\"/></a><!--MD5=[b9389687b975829384b498ac4b7476b2]\n",
       "class E8--><a href=\"psysml:d7b3804f-80e3-4381-979e-bf8e2501fba8\" target=\"_top\" title=\"psysml:d7b3804f-80e3-4381-979e-bf8e2501fba8\" xlink:actuate=\"onRequest\" xlink:href=\"psysml:d7b3804f-80e3-4381-979e-bf8e2501fba8\" xlink:show=\"new\" xlink:title=\"psysml:d7b3804f-80e3-4381-979e-bf8e2501fba8\" xlink:type=\"simple\"><rect fill=\"#FFFFFF\" height=\"59.9063\" id=\"E8\" rx=\"10\" ry=\"10\" style=\"stroke: #383838; stroke-width: 1.5;\" width=\"70\" x=\"32\" y=\"148\"/><text fill=\"#000000\" font-family=\"sans-serif\" font-size=\"12\" font-style=\"italic\" lengthAdjust=\"spacingAndGlyphs\" textLength=\"68\" x=\"33\" y=\"164.1387\">«variation»</text><text fill=\"#000000\" font-family=\"sans-serif\" font-size=\"12\" font-style=\"italic\" lengthAdjust=\"spacingAndGlyphs\" textLength=\"40\" x=\"47\" y=\"178.1074\">«part»</text><text fill=\"#000000\" font-family=\"sans-serif\" font-size=\"12\" lengthAdjust=\"spacingAndGlyphs\" textLength=\"22\" x=\"56\" y=\"192.0762\">v: P</text><line style=\"stroke: #383838; stroke-width: 1.5;\" x1=\"33\" x2=\"101\" y1=\"199.9063\" y2=\"199.9063\"/></a><!--MD5=[fd4143e9d270a159db93a4ea2a975926]\n",
       "class E9--><a href=\"psysml:aeeab6cc-3339-44ed-a45c-f65a5d97c376\" target=\"_top\" title=\"psysml:aeeab6cc-3339-44ed-a45c-f65a5d97c376\" xlink:actuate=\"onRequest\" xlink:href=\"psysml:aeeab6cc-3339-44ed-a45c-f65a5d97c376\" xlink:show=\"new\" xlink:title=\"psysml:aeeab6cc-3339-44ed-a45c-f65a5d97c376\" xlink:type=\"simple\"><rect fill=\"#FFFFFF\" height=\"88.3516\" id=\"E9\" rx=\"10\" ry=\"10\" style=\"stroke: #383838; stroke-width: 1.5;\" width=\"77\" x=\"32.5\" y=\"285\"/><text fill=\"#000000\" font-family=\"sans-serif\" font-size=\"12\" font-style=\"italic\" lengthAdjust=\"spacingAndGlyphs\" textLength=\"75\" x=\"33.5\" y=\"301.1387\">«reference»</text><text fill=\"#000000\" font-family=\"sans-serif\" font-size=\"12\" lengthAdjust=\"spacingAndGlyphs\" textLength=\"8\" x=\"67\" y=\"315.1074\">q</text><line style=\"stroke: #383838; stroke-width: 1.5;\" x1=\"33.5\" x2=\"108.5\" y1=\"322.9375\" y2=\"322.9375\"/><text fill=\"#000000\" font-family=\"sans-serif\" font-size=\"11\" lengthAdjust=\"spacingAndGlyphs\" textLength=\"23\" x=\"38.5\" y=\"353.9526\">b: B</text><text fill=\"#000000\" font-family=\"sans-serif\" font-size=\"11\" font-style=\"italic\" lengthAdjust=\"spacingAndGlyphs\" textLength=\"44\" x=\"38.5\" y=\"366.7573\">:&gt;&gt;P::a</text><line style=\"stroke: #383838; stroke-width: 1.0;\" x1=\"33.5\" x2=\"43.5\" y1=\"337.3398\" y2=\"337.3398\"/><text fill=\"#000000\" font-family=\"sans-serif\" font-size=\"11\" lengthAdjust=\"spacingAndGlyphs\" textLength=\"55\" x=\"43.5\" y=\"340.6479\">attributes</text><line style=\"stroke: #383838; stroke-width: 1.0;\" x1=\"98.5\" x2=\"108.5\" y1=\"337.3398\" y2=\"337.3398\"/></a><!--MD5=[96f4274e9e20536e775497830990834d]\n",
       "class E10--><a href=\"psysml:fe63b1e8-840a-4f2e-b06a-2ce986f19d03\" target=\"_top\" title=\"psysml:fe63b1e8-840a-4f2e-b06a-2ce986f19d03\" xlink:actuate=\"onRequest\" xlink:href=\"psysml:fe63b1e8-840a-4f2e-b06a-2ce986f19d03\" xlink:show=\"new\" xlink:title=\"psysml:fe63b1e8-840a-4f2e-b06a-2ce986f19d03\" xlink:type=\"simple\"><rect fill=\"#FFFFFF\" height=\"45.9375\" id=\"E10\" rx=\"10\" ry=\"10\" style=\"stroke: #383838; stroke-width: 1.5;\" width=\"42\" x=\"238\" y=\"155\"/><text fill=\"#000000\" font-family=\"sans-serif\" font-size=\"12\" font-style=\"italic\" lengthAdjust=\"spacingAndGlyphs\" textLength=\"40\" x=\"239\" y=\"171.1387\">«part»</text><text fill=\"#000000\" font-family=\"sans-serif\" font-size=\"12\" lengthAdjust=\"spacingAndGlyphs\" textLength=\"22\" x=\"248\" y=\"185.1074\">y: P</text><line style=\"stroke: #383838; stroke-width: 1.5;\" x1=\"239\" x2=\"279\" y1=\"192.9375\" y2=\"192.9375\"/></a><!--MD5=[05d275557350bfb9b23a4ef7222b4c39]\n",
       "link E3 to E2--><a href=\"psysml:6495a820-e8c0-4129-af26-6722c3b7b9e6\" target=\"_top\" title=\"psysml:6495a820-e8c0-4129-af26-6722c3b7b9e6\" xlink:actuate=\"onRequest\" xlink:href=\"psysml:6495a820-e8c0-4129-af26-6722c3b7b9e6\" xlink:show=\"new\" xlink:title=\"psysml:6495a820-e8c0-4129-af26-6722c3b7b9e6\" xlink:type=\"simple\"><path d=\"M174.34,201.31 C177.92,219.67 183.15,246.54 187.87,270.81 \" fill=\"none\" id=\"E3-&gt;E2\" style=\"stroke: #383838; stroke-width: 1.0;\"/><polygon fill=\"none\" points=\"194.8,269.8,191.75,290.77,181.06,272.47,194.8,269.8\" style=\"stroke: #383838; stroke-width: 1.0;\"/></a><!--MD5=[15ebcb19ae302d9b601edb458606d402]\n",
       "link E5 to E2--><a href=\"psysml:bd00e4e7-d183-497a-b9f8-56660fc51e3e\" target=\"_top\" title=\"psysml:bd00e4e7-d183-497a-b9f8-56660fc51e3e\" xlink:actuate=\"onRequest\" xlink:href=\"psysml:bd00e4e7-d183-497a-b9f8-56660fc51e3e\" xlink:show=\"new\" xlink:title=\"psysml:bd00e4e7-d183-497a-b9f8-56660fc51e3e\" xlink:type=\"simple\"><path d=\"M325.69,201.31 C304.9,222.1 273.2,253.8 246.71,280.29 \" fill=\"none\" id=\"E5-&gt;E2\" style=\"stroke: #383838; stroke-width: 1.0;\"/><polygon fill=\"none\" points=\"251.33,285.57,232.24,294.76,241.43,275.67,251.33,285.57\" style=\"stroke: #383838; stroke-width: 1.0;\"/></a><!--MD5=[9120cf2e5df3bff93db8f754bbbc09b4]\n",
       "link E5 to E6--><a href=\"psysml:3ec706da-d65f-4ef5-8a1f-1e1b5df7e7c6\" target=\"_top\" title=\"psysml:3ec706da-d65f-4ef5-8a1f-1e1b5df7e7c6\" xlink:actuate=\"onRequest\" xlink:href=\"psysml:3ec706da-d65f-4ef5-8a1f-1e1b5df7e7c6\" xlink:show=\"new\" xlink:title=\"psysml:3ec706da-d65f-4ef5-8a1f-1e1b5df7e7c6\" xlink:type=\"simple\"><path d=\"M341.72,211.26 C338.1,229.85 333.47,253.68 329.32,274.95 \" fill=\"none\" id=\"E5-E6\" style=\"stroke: #383838; stroke-width: 1.0;\"/><polygon fill=\"#383838\" points=\"327.4,284.84,331.8761,277.5623,325.987,276.4136,327.4,284.84\" style=\"stroke: #383838; stroke-width: 1.0;\"/><path d=\"M334.7699,202.7122 A9,9 0 0 0 351.3715 205.9503\" fill=\"none\" style=\"stroke: #383838; stroke-width: 1.5;\"/><text fill=\"#000000\" font-family=\"sans-serif\" font-size=\"13\" lengthAdjust=\"spacingAndGlyphs\" textLength=\"60\" x=\"337\" y=\"251.0669\">«variant»</text></a><!--MD5=[14ccda38c055a5c0da953d572bc50960]\n",
       "link E7 to E3--><a href=\"psysml:9cf32953-475b-4011-b1f8-e7f09d5ce449\" target=\"_top\" title=\"psysml:9cf32953-475b-4011-b1f8-e7f09d5ce449\" xlink:actuate=\"onRequest\" xlink:href=\"psysml:9cf32953-475b-4011-b1f8-e7f09d5ce449\" xlink:show=\"new\" xlink:title=\"psysml:9cf32953-475b-4011-b1f8-e7f09d5ce449\" xlink:type=\"simple\"><path d=\"M170,87.13 C170,100.7 170,118.53 170,134.73 \" fill=\"none\" id=\"E7-&gt;E3\" style=\"stroke: #383838; stroke-width: 1.0;\"/><polygon fill=\"#FFFFFF\" points=\"170,154.92,163,135.92,177,135.92,170,154.92\" style=\"stroke: #383838; stroke-width: 1.0;\"/><ellipse cx=\"165\" cy=\"130.22\" fill=\"#383838\" rx=\"2\" ry=\"2\" style=\"stroke: #383838; stroke-width: 1.0;\"/><ellipse cx=\"175\" cy=\"130.22\" fill=\"#383838\" rx=\"2\" ry=\"2\" style=\"stroke: #383838; stroke-width: 1.0;\"/></a><!--MD5=[f1f3f9f2fc535e6147756cb86a7f2e32]\n",
       "link E8 to E2--><a href=\"psysml:d1a9bfbc-b159-49c1-a5ca-956a4881ee49\" target=\"_top\" title=\"psysml:d1a9bfbc-b159-49c1-a5ca-956a4881ee49\" xlink:actuate=\"onRequest\" xlink:href=\"psysml:d1a9bfbc-b159-49c1-a5ca-956a4881ee49\" xlink:show=\"new\" xlink:title=\"psysml:d1a9bfbc-b159-49c1-a5ca-956a4881ee49\" xlink:type=\"simple\"><path d=\"M102.17,204.39 C114.52,214.17 128.04,225.9 139,238 C148.86,248.88 158.29,261.5 166.63,273.79 \" fill=\"none\" id=\"E8-&gt;E2\" style=\"stroke: #383838; stroke-width: 1.0;\"/><polygon fill=\"#FFFFFF\" points=\"177.64,290.73,161.4168,278.6135,173.1555,270.9844,177.64,290.73\" style=\"stroke: #383838; stroke-width: 1.0;\"/><ellipse cx=\"159.9876\" cy=\"272.7443\" fill=\"#383838\" rx=\"2\" ry=\"2\" style=\"stroke: #383838; stroke-width: 1.0;\"/><ellipse cx=\"168.3724\" cy=\"267.2949\" fill=\"#383838\" rx=\"2\" ry=\"2\" style=\"stroke: #383838; stroke-width: 1.0;\"/></a><!--MD5=[ed10624c06dd9a4fa49ccf290e8b16a8]\n",
       "link E8 to E9--><a href=\"psysml:4574f674-7c12-4143-bfb7-6a6844a72e64\" target=\"_top\" title=\"psysml:4574f674-7c12-4143-bfb7-6a6844a72e64\" xlink:actuate=\"onRequest\" xlink:href=\"psysml:4574f674-7c12-4143-bfb7-6a6844a72e64\" xlink:show=\"new\" xlink:title=\"psysml:4574f674-7c12-4143-bfb7-6a6844a72e64\" xlink:type=\"simple\"><path d=\"M68.06,218.32 C68.52,235.6 69.07,256.15 69.57,274.77 \" fill=\"none\" id=\"E8-E9\" style=\"stroke: #383838; stroke-width: 1.0;\"/><polygon fill=\"#383838\" points=\"69.84,284.88,72.6331,276.8054,66.6351,276.9599,69.84,284.88\" style=\"stroke: #383838; stroke-width: 1.0;\"/><path d=\"M59.4094,211.3865 A9,9 0 0 0 76.3176 210.9276\" fill=\"none\" style=\"stroke: #383838; stroke-width: 1.5;\"/><text fill=\"#000000\" font-family=\"sans-serif\" font-size=\"13\" lengthAdjust=\"spacingAndGlyphs\" textLength=\"60\" x=\"70\" y=\"251.0669\">«variant»</text></a><!--MD5=[0f36bececdf0dff6e600d6f64214b0f1]\n",
       "link E10 to E2--><a href=\"psysml:bd829215-07d4-45cb-8fe9-60748d4dd682\" target=\"_top\" title=\"psysml:bd829215-07d4-45cb-8fe9-60748d4dd682\" xlink:actuate=\"onRequest\" xlink:href=\"psysml:bd829215-07d4-45cb-8fe9-60748d4dd682\" xlink:show=\"new\" xlink:title=\"psysml:bd829215-07d4-45cb-8fe9-60748d4dd682\" xlink:type=\"simple\"><path d=\"M250.02,201.31 C242.51,219.95 231.48,247.35 221.59,271.91 \" fill=\"none\" id=\"E10-&gt;E2\" style=\"stroke: #383838; stroke-width: 1.0;\"/><polygon fill=\"#FFFFFF\" points=\"213.99,290.77,214.5927,270.5305,227.5796,275.7593,213.99,290.77\" style=\"stroke: #383838; stroke-width: 1.0;\"/><ellipse cx=\"218.5768\" cy=\"265.9899\" fill=\"#383838\" rx=\"2\" ry=\"2\" style=\"stroke: #383838; stroke-width: 1.0;\"/><ellipse cx=\"227.8532\" cy=\"269.7248\" fill=\"#383838\" rx=\"2\" ry=\"2\" style=\"stroke: #383838; stroke-width: 1.0;\"/></a><!--MD5=[845e6076adcc785e866970314ad49c83]\n",
       "@startuml\r\n",
       "top to bottom direction\r\n",
       "skinparam monochrome true\r\n",
       "skinparam classbackgroundcolor white\r\n",
       "skinparam shadowing false\r\n",
       "skinparam wrapWidth 300\r\n",
       "hide circle\r\n",
       "\r\n",
       "package \"VariabilityTest\" as E1  [[psysml:6e13bc12-600f-4176-9ee3-c77c18f0da6f ]]  {\r\n",
       "comp def \"P\" as E2  <<(T,blue) part def>> [[psysml:a47e4883-53c6-48e5-9729-358fb18738b5 ]] {\r\n",
       "- - attributes - -\r\n",
       "a\r\n",
       "}\r\n",
       "comp def \"Q\" as E3  <<(T,blue) part def>> [[psysml:64152dcd-188c-4285-9d2f-82b4222731ff ]] {\r\n",
       "}\r\n",
       "comp def \"B\" as E4  <<(T,blue) attribute def>> [[psysml:6204c3f0-143a-45cc-ac58-9ea86a3a8ea6 ]] {\r\n",
       "}\r\n",
       "comp def \"V\" as E5  <<(T,blue) part def>> [[psysml:58826ca2-a740-4eaa-a71e-521b590388a3 ]] {\r\n",
       "}\r\n",
       "comp usage \"x: Q\" as E6  <<(T,blue) part>> [[psysml:c2df0e2e-5a66-4a2b-abfc-b3b4dd7dd2c5 ]] {\r\n",
       "- - attributes - -\r\n",
       "b: B\\n//:>>P::a// \r\n",
       "}\r\n",
       "comp usage \"q: Q\" as E7  <<(T,blue) part>> [[psysml:d5aa7800-4c4d-4a74-9f82-8c5d7377a367 ]] {\r\n",
       "}\r\n",
       "comp usage \"v: P\" as E8  <<variation>>\\n <<(T,blue) part>> [[psysml:d7b3804f-80e3-4381-979e-bf8e2501fba8 ]] {\r\n",
       "}\r\n",
       "comp usage \"q\" as E9  <<(T,blue) reference>> [[psysml:aeeab6cc-3339-44ed-a45c-f65a5d97c376 ]] {\r\n",
       "- - attributes - -\r\n",
       "b: B\\n//:>>P::a// \r\n",
       "}\r\n",
       "comp usage \"y: P\" as E10  <<(T,blue) part>> [[psysml:fe63b1e8-840a-4f2e-b06a-2ce986f19d03 ]] {\r\n",
       "}\r\n",
       "E3 - -|> E2 [[psysml:6495a820-e8c0-4129-af26-6722c3b7b9e6 ]] \r\n",
       "E5 - -|> E2 [[psysml:bd00e4e7-d183-497a-b9f8-56660fc51e3e ]] \r\n",
       "E5 )- ->> E6 [[psysml:3ec706da-d65f-4ef5-8a1f-1e1b5df7e7c6 ]] : <<variant>>\r\n",
       "E7 - -:|> E3 [[psysml:9cf32953-475b-4011-b1f8-e7f09d5ce449 ]] \r\n",
       "E8 - -:|> E2 [[psysml:d1a9bfbc-b159-49c1-a5ca-956a4881ee49 ]] \r\n",
       "E8 )- ->> E9 [[psysml:4574f674-7c12-4143-bfb7-6a6844a72e64 ]] : <<variant>>\r\n",
       "E10 - -:|> E2 [[psysml:bd829215-07d4-45cb-8fe9-60748d4dd682 ]] \r\n",
       "}\r\n",
       "@enduml\r\n",
       "\n",
       "PlantUML version 1.2020.13(Sat Jun 13 12:26:38 UTC 2020)\n",
       "(EPL source distribution)\n",
       "Java Runtime: OpenJDK Runtime Environment\n",
       "JVM: OpenJDK 64-Bit Server VM\n",
       "Default Encoding: UTF-8\n",
       "Language: en\n",
       "Country: null\n",
       "--></g></svg>"
      ]
     },
     "execution_count": 45,
     "metadata": {},
     "output_type": "execute_result"
    }
   ],
   "source": [
    "%viz --style=\"TB\" --view=\"Tree\" \"VariabilityTest\""
   ]
  },
  {
   "cell_type": "code",
   "execution_count": 46,
   "id": "3468b91f",
   "metadata": {
    "execution": {
     "iopub.execute_input": "2021-08-04T06:26:51.792474Z",
     "iopub.status.busy": "2021-08-04T06:26:51.792235Z",
     "iopub.status.idle": "2021-08-04T06:26:51.794737Z",
     "shell.execute_reply": "2021-08-04T06:26:51.794561Z"
    }
   },
   "outputs": [
    {
     "data": {
      "image/svg+xml": [
       "<?xml version=\"1.0\" encoding=\"UTF-8\" standalone=\"no\"?><svg xmlns=\"http://www.w3.org/2000/svg\" xmlns:xlink=\"http://www.w3.org/1999/xlink\" contentScriptType=\"application/ecmascript\" contentStyleType=\"text/css\" height=\"12px\" preserveAspectRatio=\"none\" style=\"width:12px;height:12px;\" version=\"1.1\" viewBox=\"0 0 12 12\" width=\"12px\" zoomAndPan=\"magnify\"><defs/><g><!--MD5=[f4ee21bc66e489b5061b7c3e9601fdef]\n",
       "@startuml\r\n",
       "top to bottom direction\r\n",
       "skinparam monochrome true\r\n",
       "skinparam classbackgroundcolor white\r\n",
       "skinparam shadowing false\r\n",
       "skinparam wrapWidth 300\r\n",
       "hide circle\r\n",
       "\r\n",
       "@enduml\r\n",
       "\n",
       "PlantUML version 1.2020.13(Sat Jun 13 12:26:38 UTC 2020)\n",
       "(EPL source distribution)\n",
       "Java Runtime: OpenJDK Runtime Environment\n",
       "JVM: OpenJDK 64-Bit Server VM\n",
       "Default Encoding: UTF-8\n",
       "Language: en\n",
       "Country: null\n",
       "--></g></svg>"
      ]
     },
     "execution_count": 46,
     "metadata": {},
     "output_type": "execute_result"
    }
   ],
   "source": [
    "%viz --style=\"TB\" --view=\"State\" \"VariabilityTest\""
   ]
  },
  {
   "cell_type": "code",
   "execution_count": 47,
   "id": "1883ede7",
   "metadata": {
    "execution": {
     "iopub.execute_input": "2021-08-04T06:26:51.845228Z",
     "iopub.status.busy": "2021-08-04T06:26:51.844836Z",
     "iopub.status.idle": "2021-08-04T06:26:51.893461Z",
     "shell.execute_reply": "2021-08-04T06:26:51.892152Z"
    }
   },
   "outputs": [
    {
     "data": {
      "image/svg+xml": [
       "<?xml version=\"1.0\" encoding=\"UTF-8\" standalone=\"no\"?><svg xmlns=\"http://www.w3.org/2000/svg\" xmlns:xlink=\"http://www.w3.org/1999/xlink\" contentScriptType=\"application/ecmascript\" contentStyleType=\"text/css\" height=\"427px\" preserveAspectRatio=\"none\" style=\"width:783px;height:427px;\" version=\"1.1\" viewBox=\"0 0 783 427\" width=\"783px\" zoomAndPan=\"magnify\"><defs/><g><!--MD5=[fbc87193dbaf4d95561dea2c320d4a47]\n",
       "cluster E1--><a href=\"psysml:6e13bc12-600f-4176-9ee3-c77c18f0da6f\" target=\"_top\" title=\"psysml:6e13bc12-600f-4176-9ee3-c77c18f0da6f\" xlink:actuate=\"onRequest\" xlink:href=\"psysml:6e13bc12-600f-4176-9ee3-c77c18f0da6f\" xlink:show=\"new\" xlink:title=\"psysml:6e13bc12-600f-4176-9ee3-c77c18f0da6f\" xlink:type=\"simple\"><polygon fill=\"#FFFFFF\" points=\"16,6,134,6,141,28.2969,761,28.2969,761,415,16,415,16,6\" style=\"stroke: #000000; stroke-width: 1.5;\"/><line style=\"stroke: #000000; stroke-width: 1.5;\" x1=\"16\" x2=\"141\" y1=\"28.2969\" y2=\"28.2969\"/><text fill=\"#000000\" font-family=\"sans-serif\" font-size=\"14\" font-weight=\"bold\" lengthAdjust=\"spacingAndGlyphs\" textLength=\"112\" x=\"20\" y=\"20.9951\">VariabilityTest</text></a><!--MD5=[e4f7fae6ed58524ba242bb0b0d3be6b7]\n",
       "cluster E2--><a href=\"psysml:a47e4883-53c6-48e5-9729-358fb18738b5\" target=\"_top\" title=\"psysml:a47e4883-53c6-48e5-9729-358fb18738b5\" xlink:actuate=\"onRequest\" xlink:href=\"psysml:a47e4883-53c6-48e5-9729-358fb18738b5\" xlink:show=\"new\" xlink:title=\"psysml:a47e4883-53c6-48e5-9729-358fb18738b5\" xlink:type=\"simple\"><rect fill=\"#FFFFFF\" height=\"129\" id=\"E2\" style=\"stroke: #383838; stroke-width: 1.5;\" width=\"139\" x=\"424\" y=\"254\"/><rect fill=\"#F8F8F8\" height=\"37.9375\" style=\"stroke: #383838; stroke-width: 1.5;\" width=\"139\" x=\"424\" y=\"254\"/><text fill=\"#000000\" font-family=\"sans-serif\" font-size=\"12\" font-style=\"italic\" lengthAdjust=\"spacingAndGlyphs\" textLength=\"64\" x=\"461.5\" y=\"270.1387\">«part def»</text><text fill=\"#000000\" font-family=\"sans-serif\" font-size=\"12\" lengthAdjust=\"spacingAndGlyphs\" textLength=\"8\" x=\"489.5\" y=\"284.1074\">P</text></a><!--MD5=[14e3b0961a2654348d326746436168a1]\n",
       "cluster E6--><a href=\"psysml:58826ca2-a740-4eaa-a71e-521b590388a3\" target=\"_top\" title=\"psysml:58826ca2-a740-4eaa-a71e-521b590388a3\" xlink:actuate=\"onRequest\" xlink:href=\"psysml:58826ca2-a740-4eaa-a71e-521b590388a3\" xlink:show=\"new\" xlink:title=\"psysml:58826ca2-a740-4eaa-a71e-521b590388a3\" xlink:type=\"simple\"><rect fill=\"#FFFFFF\" height=\"157\" id=\"E6\" style=\"stroke: #383838; stroke-width: 1.5;\" width=\"131\" x=\"598\" y=\"57\"/><rect fill=\"#F8F8F8\" height=\"37.9375\" style=\"stroke: #383838; stroke-width: 1.5;\" width=\"131\" x=\"598\" y=\"57\"/><text fill=\"#000000\" font-family=\"sans-serif\" font-size=\"12\" font-style=\"italic\" lengthAdjust=\"spacingAndGlyphs\" textLength=\"64\" x=\"631.5\" y=\"73.1387\">«part def»</text><text fill=\"#000000\" font-family=\"sans-serif\" font-size=\"12\" lengthAdjust=\"spacingAndGlyphs\" textLength=\"8\" x=\"659.5\" y=\"87.1074\">V</text></a><!--MD5=[7f149f147074ac12df2cb0a7728a5fb0]\n",
       "cluster E9--><a href=\"psysml:d7b3804f-80e3-4381-979e-bf8e2501fba8\" target=\"_top\" title=\"psysml:d7b3804f-80e3-4381-979e-bf8e2501fba8\" xlink:actuate=\"onRequest\" xlink:href=\"psysml:d7b3804f-80e3-4381-979e-bf8e2501fba8\" xlink:show=\"new\" xlink:title=\"psysml:d7b3804f-80e3-4381-979e-bf8e2501fba8\" xlink:type=\"simple\"><rect fill=\"#FFFFFF\" height=\"139\" id=\"E9\" rx=\"10\" ry=\"10\" style=\"stroke: #383838; stroke-width: 1.5;\" width=\"110\" x=\"456\" y=\"74\"/><rect fill=\"#F8F8F8\" height=\"23.9688\" rx=\"10\" ry=\"10\" style=\"stroke: #F8F8F8; stroke-width: 1.5;\" width=\"110\" x=\"456\" y=\"74\"/><rect fill=\"#F8F8F8\" height=\"10\" style=\"stroke: #F8F8F8; stroke-width: 1.5;\" width=\"110\" x=\"456\" y=\"87.9688\"/><rect fill=\"none\" height=\"139\" id=\"E9\" rx=\"10\" ry=\"10\" style=\"stroke: #383838; stroke-width: 1.5;\" width=\"110\" x=\"456\" y=\"74\"/><text fill=\"#000000\" font-family=\"sans-serif\" font-size=\"12\" lengthAdjust=\"spacingAndGlyphs\" textLength=\"22\" x=\"500\" y=\"90.1387\">v: P</text><line style=\"stroke: #383838; stroke-width: 1.0;\" x1=\"456\" x2=\"566\" y1=\"97.9688\" y2=\"97.9688\"/></a><g id=\"E1.E5\"><a href=\"psysml:6204c3f0-143a-45cc-ac58-9ea86a3a8ea6\" target=\"_top\" title=\"psysml:6204c3f0-143a-45cc-ac58-9ea86a3a8ea6\" xlink:actuate=\"onRequest\" xlink:href=\"psysml:6204c3f0-143a-45cc-ac58-9ea86a3a8ea6\" xlink:show=\"new\" xlink:title=\"psysml:6204c3f0-143a-45cc-ac58-9ea86a3a8ea6\" xlink:type=\"simple\"><rect fill=\"#FFFFFF\" height=\"42.9375\" id=\"E5\" style=\"stroke: #383838; stroke-width: 1.5;\" width=\"100\" x=\"337\" y=\"131.5\"/><rect fill=\"#F8F8F8\" height=\"37.9375\" style=\"stroke: #383838; stroke-width: 1.5;\" width=\"100\" x=\"337\" y=\"131.5\"/><text fill=\"#000000\" font-family=\"sans-serif\" font-size=\"12\" font-style=\"italic\" lengthAdjust=\"spacingAndGlyphs\" textLength=\"93\" x=\"340.5\" y=\"147.6387\">«attribute def»</text><text fill=\"#000000\" font-family=\"sans-serif\" font-size=\"12\" lengthAdjust=\"spacingAndGlyphs\" textLength=\"8\" x=\"383\" y=\"161.6074\">B</text></a></g><!--MD5=[09b614a08d8cba4a07c9adeb5e0fee81]\n",
       "class E3--><a href=\"psysml:af83713f-f16b-4de7-b4a6-ecd5bab1fc22\" target=\"_top\" title=\"psysml:af83713f-f16b-4de7-b4a6-ecd5bab1fc22\" xlink:actuate=\"onRequest\" xlink:href=\"psysml:af83713f-f16b-4de7-b4a6-ecd5bab1fc22\" xlink:show=\"new\" xlink:title=\"psysml:af83713f-f16b-4de7-b4a6-ecd5bab1fc22\" xlink:type=\"simple\"><rect fill=\"#FFFFFF\" height=\"45.9375\" id=\"E3\" rx=\"10\" ry=\"10\" style=\"stroke: #383838; stroke-width: 1.5;\" width=\"71\" x=\"467.5\" y=\"313\"/><text fill=\"#000000\" font-family=\"sans-serif\" font-size=\"12\" font-style=\"italic\" lengthAdjust=\"spacingAndGlyphs\" textLength=\"69\" x=\"468.5\" y=\"329.1387\">«attribute»</text><text fill=\"#000000\" font-family=\"sans-serif\" font-size=\"12\" lengthAdjust=\"spacingAndGlyphs\" textLength=\"8\" x=\"499\" y=\"343.1074\">a</text><line style=\"stroke: #383838; stroke-width: 1.5;\" x1=\"468.5\" x2=\"537.5\" y1=\"350.9375\" y2=\"350.9375\"/></a><g id=\"E1.E4\"><a href=\"psysml:64152dcd-188c-4285-9d2f-82b4222731ff\" target=\"_top\" title=\"psysml:64152dcd-188c-4285-9d2f-82b4222731ff\" xlink:actuate=\"onRequest\" xlink:href=\"psysml:64152dcd-188c-4285-9d2f-82b4222731ff\" xlink:show=\"new\" xlink:title=\"psysml:64152dcd-188c-4285-9d2f-82b4222731ff\" xlink:type=\"simple\"><rect fill=\"#FFFFFF\" height=\"42.9375\" id=\"E4\" style=\"stroke: #383838; stroke-width: 1.5;\" width=\"71\" x=\"230.5\" y=\"131.5\"/><rect fill=\"#F8F8F8\" height=\"37.9375\" style=\"stroke: #383838; stroke-width: 1.5;\" width=\"71\" x=\"230.5\" y=\"131.5\"/><text fill=\"#000000\" font-family=\"sans-serif\" font-size=\"12\" font-style=\"italic\" lengthAdjust=\"spacingAndGlyphs\" textLength=\"64\" x=\"234\" y=\"147.6387\">«part def»</text><text fill=\"#000000\" font-family=\"sans-serif\" font-size=\"12\" lengthAdjust=\"spacingAndGlyphs\" textLength=\"9\" x=\"261.5\" y=\"161.6074\">Q</text></a></g><!--MD5=[2156ba9850f5573cc1fc38a6a4b2f02b]\n",
       "class E7--><a href=\"psysml:c2df0e2e-5a66-4a2b-abfc-b3b4dd7dd2c5\" target=\"_top\" title=\"psysml:c2df0e2e-5a66-4a2b-abfc-b3b4dd7dd2c5\" xlink:actuate=\"onRequest\" xlink:href=\"psysml:c2df0e2e-5a66-4a2b-abfc-b3b4dd7dd2c5\" xlink:show=\"new\" xlink:title=\"psysml:c2df0e2e-5a66-4a2b-abfc-b3b4dd7dd2c5\" xlink:type=\"simple\"><rect fill=\"#FFFFFF\" height=\"74.3828\" id=\"E7\" rx=\"10\" ry=\"10\" style=\"stroke: #383838; stroke-width: 1.5;\" width=\"63\" x=\"641.5\" y=\"116\"/><text fill=\"#000000\" font-family=\"sans-serif\" font-size=\"12\" lengthAdjust=\"spacingAndGlyphs\" textLength=\"23\" x=\"661.5\" y=\"132.1387\">x: Q</text><line style=\"stroke: #383838; stroke-width: 1.5;\" x1=\"642.5\" x2=\"703.5\" y1=\"139.9688\" y2=\"139.9688\"/><text fill=\"#000000\" font-family=\"sans-serif\" font-size=\"11\" lengthAdjust=\"spacingAndGlyphs\" textLength=\"23\" x=\"647.5\" y=\"170.9839\">b: B</text><text fill=\"#000000\" font-family=\"sans-serif\" font-size=\"11\" font-style=\"italic\" lengthAdjust=\"spacingAndGlyphs\" textLength=\"44\" x=\"647.5\" y=\"183.7886\">:&gt;&gt;P::a</text><line style=\"stroke: #383838; stroke-width: 1.0;\" x1=\"642.5\" x2=\"645.5\" y1=\"154.3711\" y2=\"154.3711\"/><text fill=\"#000000\" font-family=\"sans-serif\" font-size=\"11\" lengthAdjust=\"spacingAndGlyphs\" textLength=\"55\" x=\"645.5\" y=\"157.6792\">attributes</text><line style=\"stroke: #383838; stroke-width: 1.0;\" x1=\"700.5\" x2=\"703.5\" y1=\"154.3711\" y2=\"154.3711\"/></a><g id=\"E1.E8\"><a href=\"psysml:d5aa7800-4c4d-4a74-9f82-8c5d7377a367\" target=\"_top\" title=\"psysml:d5aa7800-4c4d-4a74-9f82-8c5d7377a367\" xlink:actuate=\"onRequest\" xlink:href=\"psysml:d5aa7800-4c4d-4a74-9f82-8c5d7377a367\" xlink:show=\"new\" xlink:title=\"psysml:d5aa7800-4c4d-4a74-9f82-8c5d7377a367\" xlink:type=\"simple\"><rect fill=\"#FFFFFF\" height=\"40\" id=\"E8\" rx=\"10\" ry=\"10\" style=\"stroke: #383838; stroke-width: 1.5;\" width=\"50\" x=\"145\" y=\"133\"/><rect fill=\"#F8F8F8\" height=\"23.9688\" rx=\"10\" ry=\"10\" style=\"stroke: #F8F8F8; stroke-width: 1.5;\" width=\"50\" x=\"145\" y=\"133\"/><rect fill=\"#F8F8F8\" height=\"10\" style=\"stroke: #F8F8F8; stroke-width: 1.5;\" width=\"50\" x=\"145\" y=\"146.9688\"/><rect fill=\"none\" height=\"40\" id=\"E8\" rx=\"10\" ry=\"10\" style=\"stroke: #383838; stroke-width: 1.5;\" width=\"50\" x=\"145\" y=\"133\"/><text fill=\"#000000\" font-family=\"sans-serif\" font-size=\"12\" lengthAdjust=\"spacingAndGlyphs\" textLength=\"25\" x=\"157.5\" y=\"149.1387\">q: Q</text></a></g><!--MD5=[96f4274e9e20536e775497830990834d]\n",
       "class E10--><a href=\"psysml:aeeab6cc-3339-44ed-a45c-f65a5d97c376\" target=\"_top\" title=\"psysml:aeeab6cc-3339-44ed-a45c-f65a5d97c376\" xlink:actuate=\"onRequest\" xlink:href=\"psysml:aeeab6cc-3339-44ed-a45c-f65a5d97c376\" xlink:show=\"new\" xlink:title=\"psysml:aeeab6cc-3339-44ed-a45c-f65a5d97c376\" xlink:type=\"simple\"><rect fill=\"#FFFFFF\" height=\"88.3516\" id=\"E10\" rx=\"10\" ry=\"10\" style=\"stroke: #383838; stroke-width: 1.5;\" width=\"77\" x=\"472.5\" y=\"109\"/><text fill=\"#000000\" font-family=\"sans-serif\" font-size=\"12\" font-style=\"italic\" lengthAdjust=\"spacingAndGlyphs\" textLength=\"75\" x=\"473.5\" y=\"125.1387\">«reference»</text><text fill=\"#000000\" font-family=\"sans-serif\" font-size=\"12\" lengthAdjust=\"spacingAndGlyphs\" textLength=\"8\" x=\"507\" y=\"139.1074\">q</text><line style=\"stroke: #383838; stroke-width: 1.5;\" x1=\"473.5\" x2=\"548.5\" y1=\"146.9375\" y2=\"146.9375\"/><text fill=\"#000000\" font-family=\"sans-serif\" font-size=\"11\" lengthAdjust=\"spacingAndGlyphs\" textLength=\"23\" x=\"478.5\" y=\"177.9526\">b: B</text><text fill=\"#000000\" font-family=\"sans-serif\" font-size=\"11\" font-style=\"italic\" lengthAdjust=\"spacingAndGlyphs\" textLength=\"44\" x=\"478.5\" y=\"190.7573\">:&gt;&gt;P::a</text><line style=\"stroke: #383838; stroke-width: 1.0;\" x1=\"473.5\" x2=\"483.5\" y1=\"161.3398\" y2=\"161.3398\"/><text fill=\"#000000\" font-family=\"sans-serif\" font-size=\"11\" lengthAdjust=\"spacingAndGlyphs\" textLength=\"55\" x=\"483.5\" y=\"164.6479\">attributes</text><line style=\"stroke: #383838; stroke-width: 1.0;\" x1=\"538.5\" x2=\"548.5\" y1=\"161.3398\" y2=\"161.3398\"/></a><g id=\"E1.E11\"><a href=\"psysml:fe63b1e8-840a-4f2e-b06a-2ce986f19d03\" target=\"_top\" title=\"psysml:fe63b1e8-840a-4f2e-b06a-2ce986f19d03\" xlink:actuate=\"onRequest\" xlink:href=\"psysml:fe63b1e8-840a-4f2e-b06a-2ce986f19d03\" xlink:show=\"new\" xlink:title=\"psysml:fe63b1e8-840a-4f2e-b06a-2ce986f19d03\" xlink:type=\"simple\"><rect fill=\"#FFFFFF\" height=\"40\" id=\"E11\" rx=\"10\" ry=\"10\" style=\"stroke: #383838; stroke-width: 1.5;\" width=\"77\" x=\"32.5\" y=\"133\"/><rect fill=\"#F8F8F8\" height=\"23.9688\" rx=\"10\" ry=\"10\" style=\"stroke: #F8F8F8; stroke-width: 1.5;\" width=\"77\" x=\"32.5\" y=\"133\"/><rect fill=\"#F8F8F8\" height=\"10\" style=\"stroke: #F8F8F8; stroke-width: 1.5;\" width=\"77\" x=\"32.5\" y=\"146.9688\"/><rect fill=\"none\" height=\"40\" id=\"E11\" rx=\"10\" ry=\"10\" style=\"stroke: #383838; stroke-width: 1.5;\" width=\"77\" x=\"32.5\" y=\"133\"/><text fill=\"#000000\" font-family=\"sans-serif\" font-size=\"12\" lengthAdjust=\"spacingAndGlyphs\" textLength=\"62\" x=\"38\" y=\"149.1387\">y: P= v::q;</text></a></g><!--MD5=[185131fc0dcab0a4505a2ebe144e961b]\n",
       "link E4 to E2--><a href=\"psysml:6495a820-e8c0-4129-af26-6722c3b7b9e6\" target=\"_top\" title=\"psysml:6495a820-e8c0-4129-af26-6722c3b7b9e6\" xlink:actuate=\"onRequest\" xlink:href=\"psysml:6495a820-e8c0-4129-af26-6722c3b7b9e6\" xlink:show=\"new\" xlink:title=\"psysml:6495a820-e8c0-4129-af26-6722c3b7b9e6\" xlink:type=\"simple\"><path d=\"M278.95,174.5 C289.29,190.29 304.57,212.32 320,230 C342.085,255.3 369.5625,281.1325 391.7738,300.8438 C402.8794,310.6994 412.6684,319.0247 419.8086,324.988 C420.7011,325.7334 421.5522,326.4419 422.3594,327.1119 C422.763,327.4468 423.1555,327.7722 423.5368,328.0877 C423.6321,328.1666 423.7267,328.2449 423.8206,328.3225 \" fill=\"none\" id=\"E4-&gt;E2\" style=\"stroke: #383838; stroke-width: 1.0;\"/><polygon fill=\"#FFFFFF\" points=\"423.8206,328.3225,413.6398,310.8196,404.7177,321.6083,423.8206,328.3225\" style=\"stroke: #383838; stroke-width: 1.0;\"/></a><!--MD5=[2351f337d6de0f557b50152ba70847b5]\n",
       "link E6 to E2--><a href=\"psysml:bd00e4e7-d183-497a-b9f8-56660fc51e3e\" target=\"_top\" title=\"psysml:bd00e4e7-d183-497a-b9f8-56660fc51e3e\" xlink:actuate=\"onRequest\" xlink:href=\"psysml:bd00e4e7-d183-497a-b9f8-56660fc51e3e\" xlink:show=\"new\" xlink:title=\"psysml:bd00e4e7-d183-497a-b9f8-56660fc51e3e\" xlink:type=\"simple\"><path d=\"M597.9695,184.2276 C597.7875,184.724 597.6019,185.2229 597.4125,185.7238 C591.3525,201.7525 581.485,219.9 566,230 C544.54,243.99 470.2,221.04 451,238 C446.9488,241.5788 443.6069,245.7455 440.8611,250.3013 C440.1747,251.4402 439.5255,252.6035 438.9118,253.788 \" fill=\"none\" id=\"E6-&gt;E2\" style=\"stroke: #383838; stroke-width: 1.0;\"/><polygon fill=\"#FFFFFF\" points=\"438.9118,253.788,453.8677,240.138,441.4371,233.6976,438.9118,253.788\" style=\"stroke: #383838; stroke-width: 1.0;\"/></a><!--MD5=[a1fc651d36bf858833c115301e2cb68f]\n",
       "@startuml\r\n",
       "skinparam ranksep 10\r\n",
       "skinparam rectangle {\r\n",
       " backgroundColor<<block>> LightGreen\r\n",
       "}\r\n",
       "top to bottom direction\r\n",
       "skinparam monochrome true\r\n",
       "skinparam classbackgroundcolor white\r\n",
       "skinparam shadowing false\r\n",
       "skinparam wrapWidth 300\r\n",
       "hide circle\r\n",
       "\r\n",
       "package \"VariabilityTest\" as E1  [[psysml:6e13bc12-600f-4176-9ee3-c77c18f0da6f ]]  {\r\n",
       "rec def \"P\" as E2  <<(T,blue) part def>> [[psysml:a47e4883-53c6-48e5-9729-358fb18738b5 ]] {\r\n",
       "comp usage \"a\" as E3  <<(T,blue) attribute>> [[psysml:af83713f-f16b-4de7-b4a6-ecd5bab1fc22 ]] {\r\n",
       "}\r\n",
       "}\r\n",
       "rec def \"Q\" as E4  <<(T,blue) part def>> [[psysml:64152dcd-188c-4285-9d2f-82b4222731ff ]] {\r\n",
       "}\r\n",
       "def \"B\" as E5  <<(T,blue) attribute def>> [[psysml:6204c3f0-143a-45cc-ac58-9ea86a3a8ea6 ]] \r\n",
       "rec def \"V\" as E6  <<(T,blue) part def>> [[psysml:58826ca2-a740-4eaa-a71e-521b590388a3 ]] {\r\n",
       "comp usage \"x: Q\" as E7  [[psysml:c2df0e2e-5a66-4a2b-abfc-b3b4dd7dd2c5 ]] {\r\n",
       "- - attributes - -\r\n",
       "b: B\\n//:>>P::a// \r\n",
       "}\r\n",
       "}\r\n",
       "rec usage \"q: Q\" as E8  [[psysml:d5aa7800-4c4d-4a74-9f82-8c5d7377a367 ]] {\r\n",
       "}\r\n",
       "rec usage \"v: P\" as E9  [[psysml:d7b3804f-80e3-4381-979e-bf8e2501fba8 ]] {\r\n",
       "comp usage \"q\" as E10  <<(T,blue) reference>> [[psysml:aeeab6cc-3339-44ed-a45c-f65a5d97c376 ]] {\r\n",
       "- - attributes - -\r\n",
       "b: B\\n//:>>P::a// \r\n",
       "}\r\n",
       "}\r\n",
       "rec usage \"y: P= v::q; \" as E11  [[psysml:fe63b1e8-840a-4f2e-b06a-2ce986f19d03 ]] {\r\n",
       "}\r\n",
       "E4 - -|> E2 [[psysml:6495a820-e8c0-4129-af26-6722c3b7b9e6 ]] \r\n",
       "E6 - -|> E2 [[psysml:bd00e4e7-d183-497a-b9f8-56660fc51e3e ]] \r\n",
       "}\r\n",
       "@enduml\r\n",
       "\n",
       "PlantUML version 1.2020.13(Sat Jun 13 12:26:38 UTC 2020)\n",
       "(EPL source distribution)\n",
       "Java Runtime: OpenJDK Runtime Environment\n",
       "JVM: OpenJDK 64-Bit Server VM\n",
       "Default Encoding: UTF-8\n",
       "Language: en\n",
       "Country: null\n",
       "--></g></svg>"
      ]
     },
     "execution_count": 47,
     "metadata": {},
     "output_type": "execute_result"
    }
   ],
   "source": [
    "%viz --style=\"TB\" --view=\"Interconnection\" \"VariabilityTest\""
   ]
  },
  {
   "cell_type": "code",
   "execution_count": 48,
   "id": "ace32e5f",
   "metadata": {
    "execution": {
     "iopub.execute_input": "2021-08-04T06:26:51.943122Z",
     "iopub.status.busy": "2021-08-04T06:26:51.942406Z",
     "iopub.status.idle": "2021-08-04T06:26:51.946145Z",
     "shell.execute_reply": "2021-08-04T06:26:51.945806Z"
    }
   },
   "outputs": [
    {
     "data": {
      "image/svg+xml": [
       "<?xml version=\"1.0\" encoding=\"UTF-8\" standalone=\"no\"?><svg xmlns=\"http://www.w3.org/2000/svg\" xmlns:xlink=\"http://www.w3.org/1999/xlink\" contentScriptType=\"application/ecmascript\" contentStyleType=\"text/css\" height=\"12px\" preserveAspectRatio=\"none\" style=\"width:12px;height:12px;\" version=\"1.1\" viewBox=\"0 0 12 12\" width=\"12px\" zoomAndPan=\"magnify\"><defs/><g><!--MD5=[06afc254b03ac5e9d9fb7773b07d0800]\n",
       "@startuml\r\n",
       "skinparam ranksep 8\r\n",
       "top to bottom direction\r\n",
       "skinparam monochrome true\r\n",
       "skinparam classbackgroundcolor white\r\n",
       "skinparam shadowing false\r\n",
       "skinparam wrapWidth 300\r\n",
       "hide circle\r\n",
       "\r\n",
       "@enduml\r\n",
       "\n",
       "PlantUML version 1.2020.13(Sat Jun 13 12:26:38 UTC 2020)\n",
       "(EPL source distribution)\n",
       "Java Runtime: OpenJDK Runtime Environment\n",
       "JVM: OpenJDK 64-Bit Server VM\n",
       "Default Encoding: UTF-8\n",
       "Language: en\n",
       "Country: null\n",
       "--></g></svg>"
      ]
     },
     "execution_count": 48,
     "metadata": {},
     "output_type": "execute_result"
    }
   ],
   "source": [
    "%viz --style=\"TB\" --view=\"Action\" \"VariabilityTest\""
   ]
  },
  {
   "cell_type": "code",
   "execution_count": 49,
   "id": "60428e2b",
   "metadata": {
    "execution": {
     "iopub.execute_input": "2021-08-04T06:26:51.996395Z",
     "iopub.status.busy": "2021-08-04T06:26:51.995970Z",
     "iopub.status.idle": "2021-08-04T06:26:52.066694Z",
     "shell.execute_reply": "2021-08-04T06:26:52.065305Z"
    }
   },
   "outputs": [
    {
     "data": {
      "image/svg+xml": [
       "<?xml version=\"1.0\" encoding=\"UTF-8\" standalone=\"no\"?><svg xmlns=\"http://www.w3.org/2000/svg\" xmlns:xlink=\"http://www.w3.org/1999/xlink\" contentScriptType=\"application/ecmascript\" contentStyleType=\"text/css\" height=\"401px\" preserveAspectRatio=\"none\" style=\"width:419px;height:401px;\" version=\"1.1\" viewBox=\"0 0 419 401\" width=\"419px\" zoomAndPan=\"magnify\"><defs/><g><!--MD5=[fbc87193dbaf4d95561dea2c320d4a47]\n",
       "cluster E1--><a href=\"psysml:6e13bc12-600f-4176-9ee3-c77c18f0da6f\" target=\"_top\" title=\"psysml:6e13bc12-600f-4176-9ee3-c77c18f0da6f\" xlink:actuate=\"onRequest\" xlink:href=\"psysml:6e13bc12-600f-4176-9ee3-c77c18f0da6f\" xlink:show=\"new\" xlink:title=\"psysml:6e13bc12-600f-4176-9ee3-c77c18f0da6f\" xlink:type=\"simple\"><polygon fill=\"#FFFFFF\" points=\"16,6,134,6,141,28.2969,397,28.2969,397,389,16,389,16,6\" style=\"stroke: #000000; stroke-width: 1.5;\"/><line style=\"stroke: #000000; stroke-width: 1.5;\" x1=\"16\" x2=\"141\" y1=\"28.2969\" y2=\"28.2969\"/><text fill=\"#000000\" font-family=\"sans-serif\" font-size=\"14\" font-weight=\"bold\" lengthAdjust=\"spacingAndGlyphs\" textLength=\"112\" x=\"20\" y=\"20.9951\">VariabilityTest</text></a><!--MD5=[b4997ac47864f28c2f74865a473b2911]\n",
       "class E2--><a href=\"psysml:a47e4883-53c6-48e5-9729-358fb18738b5\" target=\"_top\" title=\"psysml:a47e4883-53c6-48e5-9729-358fb18738b5\" xlink:actuate=\"onRequest\" xlink:href=\"psysml:a47e4883-53c6-48e5-9729-358fb18738b5\" xlink:show=\"new\" xlink:title=\"psysml:a47e4883-53c6-48e5-9729-358fb18738b5\" xlink:type=\"simple\"><rect fill=\"#FFFFFF\" height=\"75.5469\" id=\"E2\" style=\"stroke: #383838; stroke-width: 1.5;\" width=\"66\" x=\"166\" y=\"291\"/><text fill=\"#000000\" font-family=\"sans-serif\" font-size=\"12\" font-style=\"italic\" lengthAdjust=\"spacingAndGlyphs\" textLength=\"64\" x=\"167\" y=\"307.1387\">«part def»</text><text fill=\"#000000\" font-family=\"sans-serif\" font-size=\"12\" lengthAdjust=\"spacingAndGlyphs\" textLength=\"8\" x=\"195\" y=\"321.1074\">P</text><line style=\"stroke: #383838; stroke-width: 1.5;\" x1=\"167\" x2=\"231\" y1=\"328.9375\" y2=\"328.9375\"/><text fill=\"#000000\" font-family=\"sans-serif\" font-size=\"11\" lengthAdjust=\"spacingAndGlyphs\" textLength=\"7\" x=\"172\" y=\"359.9526\">a</text><line style=\"stroke: #383838; stroke-width: 1.0;\" x1=\"167\" x2=\"171.5\" y1=\"343.3398\" y2=\"343.3398\"/><text fill=\"#000000\" font-family=\"sans-serif\" font-size=\"11\" lengthAdjust=\"spacingAndGlyphs\" textLength=\"55\" x=\"171.5\" y=\"346.6479\">attributes</text><line style=\"stroke: #383838; stroke-width: 1.0;\" x1=\"226.5\" x2=\"231\" y1=\"343.3398\" y2=\"343.3398\"/></a><!--MD5=[09b614a08d8cba4a07c9adeb5e0fee81]\n",
       "class E3--><a href=\"psysml:64152dcd-188c-4285-9d2f-82b4222731ff\" target=\"_top\" title=\"psysml:64152dcd-188c-4285-9d2f-82b4222731ff\" xlink:actuate=\"onRequest\" xlink:href=\"psysml:64152dcd-188c-4285-9d2f-82b4222731ff\" xlink:show=\"new\" xlink:title=\"psysml:64152dcd-188c-4285-9d2f-82b4222731ff\" xlink:type=\"simple\"><rect fill=\"#FFFFFF\" height=\"45.9375\" id=\"E3\" style=\"stroke: #383838; stroke-width: 1.5;\" width=\"66\" x=\"137\" y=\"155\"/><text fill=\"#000000\" font-family=\"sans-serif\" font-size=\"12\" font-style=\"italic\" lengthAdjust=\"spacingAndGlyphs\" textLength=\"64\" x=\"138\" y=\"171.1387\">«part def»</text><text fill=\"#000000\" font-family=\"sans-serif\" font-size=\"12\" lengthAdjust=\"spacingAndGlyphs\" textLength=\"9\" x=\"165.5\" y=\"185.1074\">Q</text><line style=\"stroke: #383838; stroke-width: 1.5;\" x1=\"138\" x2=\"202\" y1=\"192.9375\" y2=\"192.9375\"/></a><!--MD5=[ebbe1d658d1005bcc118a6aa81145e00]\n",
       "class E4--><a href=\"psysml:6204c3f0-143a-45cc-ac58-9ea86a3a8ea6\" target=\"_top\" title=\"psysml:6204c3f0-143a-45cc-ac58-9ea86a3a8ea6\" xlink:actuate=\"onRequest\" xlink:href=\"psysml:6204c3f0-143a-45cc-ac58-9ea86a3a8ea6\" xlink:show=\"new\" xlink:title=\"psysml:6204c3f0-143a-45cc-ac58-9ea86a3a8ea6\" xlink:type=\"simple\"><rect fill=\"#FFFFFF\" height=\"45.9375\" id=\"E4\" style=\"stroke: #383838; stroke-width: 1.5;\" width=\"95\" x=\"255.5\" y=\"41\"/><text fill=\"#000000\" font-family=\"sans-serif\" font-size=\"12\" font-style=\"italic\" lengthAdjust=\"spacingAndGlyphs\" textLength=\"93\" x=\"256.5\" y=\"57.1387\">«attribute def»</text><text fill=\"#000000\" font-family=\"sans-serif\" font-size=\"12\" lengthAdjust=\"spacingAndGlyphs\" textLength=\"8\" x=\"299\" y=\"71.1074\">B</text><line style=\"stroke: #383838; stroke-width: 1.5;\" x1=\"256.5\" x2=\"349.5\" y1=\"78.9375\" y2=\"78.9375\"/></a><!--MD5=[270fce915f116d4de14055a7c1d9a0f3]\n",
       "class E5--><a href=\"psysml:58826ca2-a740-4eaa-a71e-521b590388a3\" target=\"_top\" title=\"psysml:58826ca2-a740-4eaa-a71e-521b590388a3\" xlink:actuate=\"onRequest\" xlink:href=\"psysml:58826ca2-a740-4eaa-a71e-521b590388a3\" xlink:show=\"new\" xlink:title=\"psysml:58826ca2-a740-4eaa-a71e-521b590388a3\" xlink:type=\"simple\"><rect fill=\"#FFFFFF\" height=\"45.9375\" id=\"E5\" style=\"stroke: #383838; stroke-width: 1.5;\" width=\"66\" x=\"315\" y=\"155\"/><text fill=\"#000000\" font-family=\"sans-serif\" font-size=\"12\" font-style=\"italic\" lengthAdjust=\"spacingAndGlyphs\" textLength=\"64\" x=\"316\" y=\"171.1387\">«part def»</text><text fill=\"#000000\" font-family=\"sans-serif\" font-size=\"12\" lengthAdjust=\"spacingAndGlyphs\" textLength=\"8\" x=\"344\" y=\"185.1074\">V</text><line style=\"stroke: #383838; stroke-width: 1.5;\" x1=\"316\" x2=\"380\" y1=\"192.9375\" y2=\"192.9375\"/></a><!--MD5=[60a26617385b1d2d0262a64233df1f8d]\n",
       "class E6--><a href=\"psysml:c2df0e2e-5a66-4a2b-abfc-b3b4dd7dd2c5\" target=\"_top\" title=\"psysml:c2df0e2e-5a66-4a2b-abfc-b3b4dd7dd2c5\" xlink:actuate=\"onRequest\" xlink:href=\"psysml:c2df0e2e-5a66-4a2b-abfc-b3b4dd7dd2c5\" xlink:show=\"new\" xlink:title=\"psysml:c2df0e2e-5a66-4a2b-abfc-b3b4dd7dd2c5\" xlink:type=\"simple\"><rect fill=\"#FFFFFF\" height=\"88.3516\" id=\"E6\" rx=\"10\" ry=\"10\" style=\"stroke: #383838; stroke-width: 1.5;\" width=\"63\" x=\"287.5\" y=\"285\"/><text fill=\"#000000\" font-family=\"sans-serif\" font-size=\"12\" font-style=\"italic\" lengthAdjust=\"spacingAndGlyphs\" textLength=\"40\" x=\"299\" y=\"301.1387\">«part»</text><text fill=\"#000000\" font-family=\"sans-serif\" font-size=\"12\" lengthAdjust=\"spacingAndGlyphs\" textLength=\"23\" x=\"307.5\" y=\"315.1074\">x: Q</text><line style=\"stroke: #383838; stroke-width: 1.5;\" x1=\"288.5\" x2=\"349.5\" y1=\"322.9375\" y2=\"322.9375\"/><text fill=\"#000000\" font-family=\"sans-serif\" font-size=\"11\" lengthAdjust=\"spacingAndGlyphs\" textLength=\"23\" x=\"293.5\" y=\"353.9526\">b: B</text><text fill=\"#000000\" font-family=\"sans-serif\" font-size=\"11\" font-style=\"italic\" lengthAdjust=\"spacingAndGlyphs\" textLength=\"44\" x=\"293.5\" y=\"366.7573\">:&gt;&gt;P::a</text><line style=\"stroke: #383838; stroke-width: 1.0;\" x1=\"288.5\" x2=\"291.5\" y1=\"337.3398\" y2=\"337.3398\"/><text fill=\"#000000\" font-family=\"sans-serif\" font-size=\"11\" lengthAdjust=\"spacingAndGlyphs\" textLength=\"55\" x=\"291.5\" y=\"340.6479\">attributes</text><line style=\"stroke: #383838; stroke-width: 1.0;\" x1=\"346.5\" x2=\"349.5\" y1=\"337.3398\" y2=\"337.3398\"/></a><!--MD5=[2156ba9850f5573cc1fc38a6a4b2f02b]\n",
       "class E7--><a href=\"psysml:d5aa7800-4c4d-4a74-9f82-8c5d7377a367\" target=\"_top\" title=\"psysml:d5aa7800-4c4d-4a74-9f82-8c5d7377a367\" xlink:actuate=\"onRequest\" xlink:href=\"psysml:d5aa7800-4c4d-4a74-9f82-8c5d7377a367\" xlink:show=\"new\" xlink:title=\"psysml:d5aa7800-4c4d-4a74-9f82-8c5d7377a367\" xlink:type=\"simple\"><rect fill=\"#FFFFFF\" height=\"45.9375\" id=\"E7\" rx=\"10\" ry=\"10\" style=\"stroke: #383838; stroke-width: 1.5;\" width=\"42\" x=\"149\" y=\"41\"/><text fill=\"#000000\" font-family=\"sans-serif\" font-size=\"12\" font-style=\"italic\" lengthAdjust=\"spacingAndGlyphs\" textLength=\"40\" x=\"150\" y=\"57.1387\">«part»</text><text fill=\"#000000\" font-family=\"sans-serif\" font-size=\"12\" lengthAdjust=\"spacingAndGlyphs\" textLength=\"25\" x=\"157.5\" y=\"71.1074\">q: Q</text><line style=\"stroke: #383838; stroke-width: 1.5;\" x1=\"150\" x2=\"190\" y1=\"78.9375\" y2=\"78.9375\"/></a><!--MD5=[b9389687b975829384b498ac4b7476b2]\n",
       "class E8--><a href=\"psysml:d7b3804f-80e3-4381-979e-bf8e2501fba8\" target=\"_top\" title=\"psysml:d7b3804f-80e3-4381-979e-bf8e2501fba8\" xlink:actuate=\"onRequest\" xlink:href=\"psysml:d7b3804f-80e3-4381-979e-bf8e2501fba8\" xlink:show=\"new\" xlink:title=\"psysml:d7b3804f-80e3-4381-979e-bf8e2501fba8\" xlink:type=\"simple\"><rect fill=\"#FFFFFF\" height=\"59.9063\" id=\"E8\" rx=\"10\" ry=\"10\" style=\"stroke: #383838; stroke-width: 1.5;\" width=\"70\" x=\"32\" y=\"148\"/><text fill=\"#000000\" font-family=\"sans-serif\" font-size=\"12\" font-style=\"italic\" lengthAdjust=\"spacingAndGlyphs\" textLength=\"68\" x=\"33\" y=\"164.1387\">«variation»</text><text fill=\"#000000\" font-family=\"sans-serif\" font-size=\"12\" font-style=\"italic\" lengthAdjust=\"spacingAndGlyphs\" textLength=\"40\" x=\"47\" y=\"178.1074\">«part»</text><text fill=\"#000000\" font-family=\"sans-serif\" font-size=\"12\" lengthAdjust=\"spacingAndGlyphs\" textLength=\"22\" x=\"56\" y=\"192.0762\">v: P</text><line style=\"stroke: #383838; stroke-width: 1.5;\" x1=\"33\" x2=\"101\" y1=\"199.9063\" y2=\"199.9063\"/></a><!--MD5=[fd4143e9d270a159db93a4ea2a975926]\n",
       "class E9--><a href=\"psysml:aeeab6cc-3339-44ed-a45c-f65a5d97c376\" target=\"_top\" title=\"psysml:aeeab6cc-3339-44ed-a45c-f65a5d97c376\" xlink:actuate=\"onRequest\" xlink:href=\"psysml:aeeab6cc-3339-44ed-a45c-f65a5d97c376\" xlink:show=\"new\" xlink:title=\"psysml:aeeab6cc-3339-44ed-a45c-f65a5d97c376\" xlink:type=\"simple\"><rect fill=\"#FFFFFF\" height=\"88.3516\" id=\"E9\" rx=\"10\" ry=\"10\" style=\"stroke: #383838; stroke-width: 1.5;\" width=\"77\" x=\"32.5\" y=\"285\"/><text fill=\"#000000\" font-family=\"sans-serif\" font-size=\"12\" font-style=\"italic\" lengthAdjust=\"spacingAndGlyphs\" textLength=\"75\" x=\"33.5\" y=\"301.1387\">«reference»</text><text fill=\"#000000\" font-family=\"sans-serif\" font-size=\"12\" lengthAdjust=\"spacingAndGlyphs\" textLength=\"8\" x=\"67\" y=\"315.1074\">q</text><line style=\"stroke: #383838; stroke-width: 1.5;\" x1=\"33.5\" x2=\"108.5\" y1=\"322.9375\" y2=\"322.9375\"/><text fill=\"#000000\" font-family=\"sans-serif\" font-size=\"11\" lengthAdjust=\"spacingAndGlyphs\" textLength=\"23\" x=\"38.5\" y=\"353.9526\">b: B</text><text fill=\"#000000\" font-family=\"sans-serif\" font-size=\"11\" font-style=\"italic\" lengthAdjust=\"spacingAndGlyphs\" textLength=\"44\" x=\"38.5\" y=\"366.7573\">:&gt;&gt;P::a</text><line style=\"stroke: #383838; stroke-width: 1.0;\" x1=\"33.5\" x2=\"43.5\" y1=\"337.3398\" y2=\"337.3398\"/><text fill=\"#000000\" font-family=\"sans-serif\" font-size=\"11\" lengthAdjust=\"spacingAndGlyphs\" textLength=\"55\" x=\"43.5\" y=\"340.6479\">attributes</text><line style=\"stroke: #383838; stroke-width: 1.0;\" x1=\"98.5\" x2=\"108.5\" y1=\"337.3398\" y2=\"337.3398\"/></a><!--MD5=[96f4274e9e20536e775497830990834d]\n",
       "class E10--><a href=\"psysml:fe63b1e8-840a-4f2e-b06a-2ce986f19d03\" target=\"_top\" title=\"psysml:fe63b1e8-840a-4f2e-b06a-2ce986f19d03\" xlink:actuate=\"onRequest\" xlink:href=\"psysml:fe63b1e8-840a-4f2e-b06a-2ce986f19d03\" xlink:show=\"new\" xlink:title=\"psysml:fe63b1e8-840a-4f2e-b06a-2ce986f19d03\" xlink:type=\"simple\"><rect fill=\"#FFFFFF\" height=\"45.9375\" id=\"E10\" rx=\"10\" ry=\"10\" style=\"stroke: #383838; stroke-width: 1.5;\" width=\"42\" x=\"238\" y=\"155\"/><text fill=\"#000000\" font-family=\"sans-serif\" font-size=\"12\" font-style=\"italic\" lengthAdjust=\"spacingAndGlyphs\" textLength=\"40\" x=\"239\" y=\"171.1387\">«part»</text><text fill=\"#000000\" font-family=\"sans-serif\" font-size=\"12\" lengthAdjust=\"spacingAndGlyphs\" textLength=\"22\" x=\"248\" y=\"185.1074\">y: P</text><line style=\"stroke: #383838; stroke-width: 1.5;\" x1=\"239\" x2=\"279\" y1=\"192.9375\" y2=\"192.9375\"/></a><!--MD5=[05d275557350bfb9b23a4ef7222b4c39]\n",
       "link E3 to E2--><a href=\"psysml:6495a820-e8c0-4129-af26-6722c3b7b9e6\" target=\"_top\" title=\"psysml:6495a820-e8c0-4129-af26-6722c3b7b9e6\" xlink:actuate=\"onRequest\" xlink:href=\"psysml:6495a820-e8c0-4129-af26-6722c3b7b9e6\" xlink:show=\"new\" xlink:title=\"psysml:6495a820-e8c0-4129-af26-6722c3b7b9e6\" xlink:type=\"simple\"><path d=\"M174.34,201.31 C177.92,219.67 183.15,246.54 187.87,270.81 \" fill=\"none\" id=\"E3-&gt;E2\" style=\"stroke: #383838; stroke-width: 1.0;\"/><polygon fill=\"none\" points=\"194.8,269.8,191.75,290.77,181.06,272.47,194.8,269.8\" style=\"stroke: #383838; stroke-width: 1.0;\"/></a><!--MD5=[15ebcb19ae302d9b601edb458606d402]\n",
       "link E5 to E2--><a href=\"psysml:bd00e4e7-d183-497a-b9f8-56660fc51e3e\" target=\"_top\" title=\"psysml:bd00e4e7-d183-497a-b9f8-56660fc51e3e\" xlink:actuate=\"onRequest\" xlink:href=\"psysml:bd00e4e7-d183-497a-b9f8-56660fc51e3e\" xlink:show=\"new\" xlink:title=\"psysml:bd00e4e7-d183-497a-b9f8-56660fc51e3e\" xlink:type=\"simple\"><path d=\"M325.69,201.31 C304.9,222.1 273.2,253.8 246.71,280.29 \" fill=\"none\" id=\"E5-&gt;E2\" style=\"stroke: #383838; stroke-width: 1.0;\"/><polygon fill=\"none\" points=\"251.33,285.57,232.24,294.76,241.43,275.67,251.33,285.57\" style=\"stroke: #383838; stroke-width: 1.0;\"/></a><!--MD5=[9120cf2e5df3bff93db8f754bbbc09b4]\n",
       "link E5 to E6--><a href=\"psysml:3ec706da-d65f-4ef5-8a1f-1e1b5df7e7c6\" target=\"_top\" title=\"psysml:3ec706da-d65f-4ef5-8a1f-1e1b5df7e7c6\" xlink:actuate=\"onRequest\" xlink:href=\"psysml:3ec706da-d65f-4ef5-8a1f-1e1b5df7e7c6\" xlink:show=\"new\" xlink:title=\"psysml:3ec706da-d65f-4ef5-8a1f-1e1b5df7e7c6\" xlink:type=\"simple\"><path d=\"M341.72,211.26 C338.1,229.85 333.47,253.68 329.32,274.95 \" fill=\"none\" id=\"E5-E6\" style=\"stroke: #383838; stroke-width: 1.0;\"/><polygon fill=\"#383838\" points=\"327.4,284.84,331.8761,277.5623,325.987,276.4136,327.4,284.84\" style=\"stroke: #383838; stroke-width: 1.0;\"/><path d=\"M334.7699,202.7122 A9,9 0 0 0 351.3715 205.9503\" fill=\"none\" style=\"stroke: #383838; stroke-width: 1.5;\"/><text fill=\"#000000\" font-family=\"sans-serif\" font-size=\"13\" lengthAdjust=\"spacingAndGlyphs\" textLength=\"60\" x=\"337\" y=\"251.0669\">«variant»</text></a><!--MD5=[14ccda38c055a5c0da953d572bc50960]\n",
       "link E7 to E3--><a href=\"psysml:9cf32953-475b-4011-b1f8-e7f09d5ce449\" target=\"_top\" title=\"psysml:9cf32953-475b-4011-b1f8-e7f09d5ce449\" xlink:actuate=\"onRequest\" xlink:href=\"psysml:9cf32953-475b-4011-b1f8-e7f09d5ce449\" xlink:show=\"new\" xlink:title=\"psysml:9cf32953-475b-4011-b1f8-e7f09d5ce449\" xlink:type=\"simple\"><path d=\"M170,87.13 C170,100.7 170,118.53 170,134.73 \" fill=\"none\" id=\"E7-&gt;E3\" style=\"stroke: #383838; stroke-width: 1.0;\"/><polygon fill=\"#FFFFFF\" points=\"170,154.92,163,135.92,177,135.92,170,154.92\" style=\"stroke: #383838; stroke-width: 1.0;\"/><ellipse cx=\"165\" cy=\"130.22\" fill=\"#383838\" rx=\"2\" ry=\"2\" style=\"stroke: #383838; stroke-width: 1.0;\"/><ellipse cx=\"175\" cy=\"130.22\" fill=\"#383838\" rx=\"2\" ry=\"2\" style=\"stroke: #383838; stroke-width: 1.0;\"/></a><!--MD5=[f1f3f9f2fc535e6147756cb86a7f2e32]\n",
       "link E8 to E2--><a href=\"psysml:d1a9bfbc-b159-49c1-a5ca-956a4881ee49\" target=\"_top\" title=\"psysml:d1a9bfbc-b159-49c1-a5ca-956a4881ee49\" xlink:actuate=\"onRequest\" xlink:href=\"psysml:d1a9bfbc-b159-49c1-a5ca-956a4881ee49\" xlink:show=\"new\" xlink:title=\"psysml:d1a9bfbc-b159-49c1-a5ca-956a4881ee49\" xlink:type=\"simple\"><path d=\"M102.17,204.39 C114.52,214.17 128.04,225.9 139,238 C148.86,248.88 158.29,261.5 166.63,273.79 \" fill=\"none\" id=\"E8-&gt;E2\" style=\"stroke: #383838; stroke-width: 1.0;\"/><polygon fill=\"#FFFFFF\" points=\"177.64,290.73,161.4168,278.6135,173.1555,270.9844,177.64,290.73\" style=\"stroke: #383838; stroke-width: 1.0;\"/><ellipse cx=\"159.9876\" cy=\"272.7443\" fill=\"#383838\" rx=\"2\" ry=\"2\" style=\"stroke: #383838; stroke-width: 1.0;\"/><ellipse cx=\"168.3724\" cy=\"267.2949\" fill=\"#383838\" rx=\"2\" ry=\"2\" style=\"stroke: #383838; stroke-width: 1.0;\"/></a><!--MD5=[ed10624c06dd9a4fa49ccf290e8b16a8]\n",
       "link E8 to E9--><a href=\"psysml:4574f674-7c12-4143-bfb7-6a6844a72e64\" target=\"_top\" title=\"psysml:4574f674-7c12-4143-bfb7-6a6844a72e64\" xlink:actuate=\"onRequest\" xlink:href=\"psysml:4574f674-7c12-4143-bfb7-6a6844a72e64\" xlink:show=\"new\" xlink:title=\"psysml:4574f674-7c12-4143-bfb7-6a6844a72e64\" xlink:type=\"simple\"><path d=\"M68.06,218.32 C68.52,235.6 69.07,256.15 69.57,274.77 \" fill=\"none\" id=\"E8-E9\" style=\"stroke: #383838; stroke-width: 1.0;\"/><polygon fill=\"#383838\" points=\"69.84,284.88,72.6331,276.8054,66.6351,276.9599,69.84,284.88\" style=\"stroke: #383838; stroke-width: 1.0;\"/><path d=\"M59.4094,211.3865 A9,9 0 0 0 76.3176 210.9276\" fill=\"none\" style=\"stroke: #383838; stroke-width: 1.5;\"/><text fill=\"#000000\" font-family=\"sans-serif\" font-size=\"13\" lengthAdjust=\"spacingAndGlyphs\" textLength=\"60\" x=\"70\" y=\"251.0669\">«variant»</text></a><!--MD5=[0f36bececdf0dff6e600d6f64214b0f1]\n",
       "link E10 to E2--><a href=\"psysml:bd829215-07d4-45cb-8fe9-60748d4dd682\" target=\"_top\" title=\"psysml:bd829215-07d4-45cb-8fe9-60748d4dd682\" xlink:actuate=\"onRequest\" xlink:href=\"psysml:bd829215-07d4-45cb-8fe9-60748d4dd682\" xlink:show=\"new\" xlink:title=\"psysml:bd829215-07d4-45cb-8fe9-60748d4dd682\" xlink:type=\"simple\"><path d=\"M250.02,201.31 C242.51,219.95 231.48,247.35 221.59,271.91 \" fill=\"none\" id=\"E10-&gt;E2\" style=\"stroke: #383838; stroke-width: 1.0;\"/><polygon fill=\"#FFFFFF\" points=\"213.99,290.77,214.5927,270.5305,227.5796,275.7593,213.99,290.77\" style=\"stroke: #383838; stroke-width: 1.0;\"/><ellipse cx=\"218.5768\" cy=\"265.9899\" fill=\"#383838\" rx=\"2\" ry=\"2\" style=\"stroke: #383838; stroke-width: 1.0;\"/><ellipse cx=\"227.8532\" cy=\"269.7248\" fill=\"#383838\" rx=\"2\" ry=\"2\" style=\"stroke: #383838; stroke-width: 1.0;\"/></a><!--MD5=[845e6076adcc785e866970314ad49c83]\n",
       "@startuml\r\n",
       "top to bottom direction\r\n",
       "skinparam monochrome true\r\n",
       "skinparam classbackgroundcolor white\r\n",
       "skinparam shadowing false\r\n",
       "skinparam wrapWidth 300\r\n",
       "hide circle\r\n",
       "\r\n",
       "package \"VariabilityTest\" as E1  [[psysml:6e13bc12-600f-4176-9ee3-c77c18f0da6f ]]  {\r\n",
       "comp def \"P\" as E2  <<(T,blue) part def>> [[psysml:a47e4883-53c6-48e5-9729-358fb18738b5 ]] {\r\n",
       "- - attributes - -\r\n",
       "a\r\n",
       "}\r\n",
       "comp def \"Q\" as E3  <<(T,blue) part def>> [[psysml:64152dcd-188c-4285-9d2f-82b4222731ff ]] {\r\n",
       "}\r\n",
       "comp def \"B\" as E4  <<(T,blue) attribute def>> [[psysml:6204c3f0-143a-45cc-ac58-9ea86a3a8ea6 ]] {\r\n",
       "}\r\n",
       "comp def \"V\" as E5  <<(T,blue) part def>> [[psysml:58826ca2-a740-4eaa-a71e-521b590388a3 ]] {\r\n",
       "}\r\n",
       "comp usage \"x: Q\" as E6  <<(T,blue) part>> [[psysml:c2df0e2e-5a66-4a2b-abfc-b3b4dd7dd2c5 ]] {\r\n",
       "- - attributes - -\r\n",
       "b: B\\n//:>>P::a// \r\n",
       "}\r\n",
       "comp usage \"q: Q\" as E7  <<(T,blue) part>> [[psysml:d5aa7800-4c4d-4a74-9f82-8c5d7377a367 ]] {\r\n",
       "}\r\n",
       "comp usage \"v: P\" as E8  <<variation>>\\n <<(T,blue) part>> [[psysml:d7b3804f-80e3-4381-979e-bf8e2501fba8 ]] {\r\n",
       "}\r\n",
       "comp usage \"q\" as E9  <<(T,blue) reference>> [[psysml:aeeab6cc-3339-44ed-a45c-f65a5d97c376 ]] {\r\n",
       "- - attributes - -\r\n",
       "b: B\\n//:>>P::a// \r\n",
       "}\r\n",
       "comp usage \"y: P\" as E10  <<(T,blue) part>> [[psysml:fe63b1e8-840a-4f2e-b06a-2ce986f19d03 ]] {\r\n",
       "}\r\n",
       "E3 - -|> E2 [[psysml:6495a820-e8c0-4129-af26-6722c3b7b9e6 ]] \r\n",
       "E5 - -|> E2 [[psysml:bd00e4e7-d183-497a-b9f8-56660fc51e3e ]] \r\n",
       "E5 )- ->> E6 [[psysml:3ec706da-d65f-4ef5-8a1f-1e1b5df7e7c6 ]] : <<variant>>\r\n",
       "E7 - -:|> E3 [[psysml:9cf32953-475b-4011-b1f8-e7f09d5ce449 ]] \r\n",
       "E8 - -:|> E2 [[psysml:d1a9bfbc-b159-49c1-a5ca-956a4881ee49 ]] \r\n",
       "E8 )- ->> E9 [[psysml:4574f674-7c12-4143-bfb7-6a6844a72e64 ]] : <<variant>>\r\n",
       "E10 - -:|> E2 [[psysml:bd829215-07d4-45cb-8fe9-60748d4dd682 ]] \r\n",
       "}\r\n",
       "@enduml\r\n",
       "\n",
       "PlantUML version 1.2020.13(Sat Jun 13 12:26:38 UTC 2020)\n",
       "(EPL source distribution)\n",
       "Java Runtime: OpenJDK Runtime Environment\n",
       "JVM: OpenJDK 64-Bit Server VM\n",
       "Default Encoding: UTF-8\n",
       "Language: en\n",
       "Country: null\n",
       "--></g></svg>"
      ]
     },
     "execution_count": 49,
     "metadata": {},
     "output_type": "execute_result"
    }
   ],
   "source": [
    "%viz --style=\"TB\" --view=\"Sequence\" \"VariabilityTest\""
   ]
  },
  {
   "cell_type": "code",
   "execution_count": 50,
   "id": "a6995dd4",
   "metadata": {
    "execution": {
     "iopub.execute_input": "2021-08-04T06:26:52.115947Z",
     "iopub.status.busy": "2021-08-04T06:26:52.115551Z",
     "iopub.status.idle": "2021-08-04T06:26:52.180311Z",
     "shell.execute_reply": "2021-08-04T06:26:52.178929Z"
    }
   },
   "outputs": [
    {
     "data": {
      "image/svg+xml": [
       "<?xml version=\"1.0\" encoding=\"UTF-8\" standalone=\"no\"?><svg xmlns=\"http://www.w3.org/2000/svg\" xmlns:xlink=\"http://www.w3.org/1999/xlink\" contentScriptType=\"application/ecmascript\" contentStyleType=\"text/css\" height=\"401px\" preserveAspectRatio=\"none\" style=\"width:419px;height:401px;\" version=\"1.1\" viewBox=\"0 0 419 401\" width=\"419px\" zoomAndPan=\"magnify\"><defs/><g><!--MD5=[fbc87193dbaf4d95561dea2c320d4a47]\n",
       "cluster E1--><a href=\"psysml:6e13bc12-600f-4176-9ee3-c77c18f0da6f\" target=\"_top\" title=\"psysml:6e13bc12-600f-4176-9ee3-c77c18f0da6f\" xlink:actuate=\"onRequest\" xlink:href=\"psysml:6e13bc12-600f-4176-9ee3-c77c18f0da6f\" xlink:show=\"new\" xlink:title=\"psysml:6e13bc12-600f-4176-9ee3-c77c18f0da6f\" xlink:type=\"simple\"><polygon fill=\"#FFFFFF\" points=\"16,6,134,6,141,28.2969,397,28.2969,397,389,16,389,16,6\" style=\"stroke: #000000; stroke-width: 1.5;\"/><line style=\"stroke: #000000; stroke-width: 1.5;\" x1=\"16\" x2=\"141\" y1=\"28.2969\" y2=\"28.2969\"/><text fill=\"#000000\" font-family=\"sans-serif\" font-size=\"14\" font-weight=\"bold\" lengthAdjust=\"spacingAndGlyphs\" textLength=\"112\" x=\"20\" y=\"20.9951\">VariabilityTest</text></a><!--MD5=[b4997ac47864f28c2f74865a473b2911]\n",
       "class E2--><a href=\"psysml:a47e4883-53c6-48e5-9729-358fb18738b5\" target=\"_top\" title=\"psysml:a47e4883-53c6-48e5-9729-358fb18738b5\" xlink:actuate=\"onRequest\" xlink:href=\"psysml:a47e4883-53c6-48e5-9729-358fb18738b5\" xlink:show=\"new\" xlink:title=\"psysml:a47e4883-53c6-48e5-9729-358fb18738b5\" xlink:type=\"simple\"><rect fill=\"#FFFFFF\" height=\"75.5469\" id=\"E2\" style=\"stroke: #383838; stroke-width: 1.5;\" width=\"66\" x=\"166\" y=\"291\"/><text fill=\"#000000\" font-family=\"sans-serif\" font-size=\"12\" font-style=\"italic\" lengthAdjust=\"spacingAndGlyphs\" textLength=\"64\" x=\"167\" y=\"307.1387\">«part def»</text><text fill=\"#000000\" font-family=\"sans-serif\" font-size=\"12\" lengthAdjust=\"spacingAndGlyphs\" textLength=\"8\" x=\"195\" y=\"321.1074\">P</text><line style=\"stroke: #383838; stroke-width: 1.5;\" x1=\"167\" x2=\"231\" y1=\"328.9375\" y2=\"328.9375\"/><text fill=\"#000000\" font-family=\"sans-serif\" font-size=\"11\" lengthAdjust=\"spacingAndGlyphs\" textLength=\"7\" x=\"172\" y=\"359.9526\">a</text><line style=\"stroke: #383838; stroke-width: 1.0;\" x1=\"167\" x2=\"171.5\" y1=\"343.3398\" y2=\"343.3398\"/><text fill=\"#000000\" font-family=\"sans-serif\" font-size=\"11\" lengthAdjust=\"spacingAndGlyphs\" textLength=\"55\" x=\"171.5\" y=\"346.6479\">attributes</text><line style=\"stroke: #383838; stroke-width: 1.0;\" x1=\"226.5\" x2=\"231\" y1=\"343.3398\" y2=\"343.3398\"/></a><!--MD5=[09b614a08d8cba4a07c9adeb5e0fee81]\n",
       "class E3--><a href=\"psysml:64152dcd-188c-4285-9d2f-82b4222731ff\" target=\"_top\" title=\"psysml:64152dcd-188c-4285-9d2f-82b4222731ff\" xlink:actuate=\"onRequest\" xlink:href=\"psysml:64152dcd-188c-4285-9d2f-82b4222731ff\" xlink:show=\"new\" xlink:title=\"psysml:64152dcd-188c-4285-9d2f-82b4222731ff\" xlink:type=\"simple\"><rect fill=\"#FFFFFF\" height=\"45.9375\" id=\"E3\" style=\"stroke: #383838; stroke-width: 1.5;\" width=\"66\" x=\"137\" y=\"155\"/><text fill=\"#000000\" font-family=\"sans-serif\" font-size=\"12\" font-style=\"italic\" lengthAdjust=\"spacingAndGlyphs\" textLength=\"64\" x=\"138\" y=\"171.1387\">«part def»</text><text fill=\"#000000\" font-family=\"sans-serif\" font-size=\"12\" lengthAdjust=\"spacingAndGlyphs\" textLength=\"9\" x=\"165.5\" y=\"185.1074\">Q</text><line style=\"stroke: #383838; stroke-width: 1.5;\" x1=\"138\" x2=\"202\" y1=\"192.9375\" y2=\"192.9375\"/></a><!--MD5=[ebbe1d658d1005bcc118a6aa81145e00]\n",
       "class E4--><a href=\"psysml:6204c3f0-143a-45cc-ac58-9ea86a3a8ea6\" target=\"_top\" title=\"psysml:6204c3f0-143a-45cc-ac58-9ea86a3a8ea6\" xlink:actuate=\"onRequest\" xlink:href=\"psysml:6204c3f0-143a-45cc-ac58-9ea86a3a8ea6\" xlink:show=\"new\" xlink:title=\"psysml:6204c3f0-143a-45cc-ac58-9ea86a3a8ea6\" xlink:type=\"simple\"><rect fill=\"#FFFFFF\" height=\"45.9375\" id=\"E4\" style=\"stroke: #383838; stroke-width: 1.5;\" width=\"95\" x=\"255.5\" y=\"41\"/><text fill=\"#000000\" font-family=\"sans-serif\" font-size=\"12\" font-style=\"italic\" lengthAdjust=\"spacingAndGlyphs\" textLength=\"93\" x=\"256.5\" y=\"57.1387\">«attribute def»</text><text fill=\"#000000\" font-family=\"sans-serif\" font-size=\"12\" lengthAdjust=\"spacingAndGlyphs\" textLength=\"8\" x=\"299\" y=\"71.1074\">B</text><line style=\"stroke: #383838; stroke-width: 1.5;\" x1=\"256.5\" x2=\"349.5\" y1=\"78.9375\" y2=\"78.9375\"/></a><!--MD5=[270fce915f116d4de14055a7c1d9a0f3]\n",
       "class E5--><a href=\"psysml:58826ca2-a740-4eaa-a71e-521b590388a3\" target=\"_top\" title=\"psysml:58826ca2-a740-4eaa-a71e-521b590388a3\" xlink:actuate=\"onRequest\" xlink:href=\"psysml:58826ca2-a740-4eaa-a71e-521b590388a3\" xlink:show=\"new\" xlink:title=\"psysml:58826ca2-a740-4eaa-a71e-521b590388a3\" xlink:type=\"simple\"><rect fill=\"#FFFFFF\" height=\"45.9375\" id=\"E5\" style=\"stroke: #383838; stroke-width: 1.5;\" width=\"66\" x=\"315\" y=\"155\"/><text fill=\"#000000\" font-family=\"sans-serif\" font-size=\"12\" font-style=\"italic\" lengthAdjust=\"spacingAndGlyphs\" textLength=\"64\" x=\"316\" y=\"171.1387\">«part def»</text><text fill=\"#000000\" font-family=\"sans-serif\" font-size=\"12\" lengthAdjust=\"spacingAndGlyphs\" textLength=\"8\" x=\"344\" y=\"185.1074\">V</text><line style=\"stroke: #383838; stroke-width: 1.5;\" x1=\"316\" x2=\"380\" y1=\"192.9375\" y2=\"192.9375\"/></a><!--MD5=[60a26617385b1d2d0262a64233df1f8d]\n",
       "class E6--><a href=\"psysml:c2df0e2e-5a66-4a2b-abfc-b3b4dd7dd2c5\" target=\"_top\" title=\"psysml:c2df0e2e-5a66-4a2b-abfc-b3b4dd7dd2c5\" xlink:actuate=\"onRequest\" xlink:href=\"psysml:c2df0e2e-5a66-4a2b-abfc-b3b4dd7dd2c5\" xlink:show=\"new\" xlink:title=\"psysml:c2df0e2e-5a66-4a2b-abfc-b3b4dd7dd2c5\" xlink:type=\"simple\"><rect fill=\"#FFFFFF\" height=\"88.3516\" id=\"E6\" rx=\"10\" ry=\"10\" style=\"stroke: #383838; stroke-width: 1.5;\" width=\"63\" x=\"287.5\" y=\"285\"/><text fill=\"#000000\" font-family=\"sans-serif\" font-size=\"12\" font-style=\"italic\" lengthAdjust=\"spacingAndGlyphs\" textLength=\"40\" x=\"299\" y=\"301.1387\">«part»</text><text fill=\"#000000\" font-family=\"sans-serif\" font-size=\"12\" lengthAdjust=\"spacingAndGlyphs\" textLength=\"23\" x=\"307.5\" y=\"315.1074\">x: Q</text><line style=\"stroke: #383838; stroke-width: 1.5;\" x1=\"288.5\" x2=\"349.5\" y1=\"322.9375\" y2=\"322.9375\"/><text fill=\"#000000\" font-family=\"sans-serif\" font-size=\"11\" lengthAdjust=\"spacingAndGlyphs\" textLength=\"23\" x=\"293.5\" y=\"353.9526\">b: B</text><text fill=\"#000000\" font-family=\"sans-serif\" font-size=\"11\" font-style=\"italic\" lengthAdjust=\"spacingAndGlyphs\" textLength=\"44\" x=\"293.5\" y=\"366.7573\">:&gt;&gt;P::a</text><line style=\"stroke: #383838; stroke-width: 1.0;\" x1=\"288.5\" x2=\"291.5\" y1=\"337.3398\" y2=\"337.3398\"/><text fill=\"#000000\" font-family=\"sans-serif\" font-size=\"11\" lengthAdjust=\"spacingAndGlyphs\" textLength=\"55\" x=\"291.5\" y=\"340.6479\">attributes</text><line style=\"stroke: #383838; stroke-width: 1.0;\" x1=\"346.5\" x2=\"349.5\" y1=\"337.3398\" y2=\"337.3398\"/></a><!--MD5=[2156ba9850f5573cc1fc38a6a4b2f02b]\n",
       "class E7--><a href=\"psysml:d5aa7800-4c4d-4a74-9f82-8c5d7377a367\" target=\"_top\" title=\"psysml:d5aa7800-4c4d-4a74-9f82-8c5d7377a367\" xlink:actuate=\"onRequest\" xlink:href=\"psysml:d5aa7800-4c4d-4a74-9f82-8c5d7377a367\" xlink:show=\"new\" xlink:title=\"psysml:d5aa7800-4c4d-4a74-9f82-8c5d7377a367\" xlink:type=\"simple\"><rect fill=\"#FFFFFF\" height=\"45.9375\" id=\"E7\" rx=\"10\" ry=\"10\" style=\"stroke: #383838; stroke-width: 1.5;\" width=\"42\" x=\"149\" y=\"41\"/><text fill=\"#000000\" font-family=\"sans-serif\" font-size=\"12\" font-style=\"italic\" lengthAdjust=\"spacingAndGlyphs\" textLength=\"40\" x=\"150\" y=\"57.1387\">«part»</text><text fill=\"#000000\" font-family=\"sans-serif\" font-size=\"12\" lengthAdjust=\"spacingAndGlyphs\" textLength=\"25\" x=\"157.5\" y=\"71.1074\">q: Q</text><line style=\"stroke: #383838; stroke-width: 1.5;\" x1=\"150\" x2=\"190\" y1=\"78.9375\" y2=\"78.9375\"/></a><!--MD5=[b9389687b975829384b498ac4b7476b2]\n",
       "class E8--><a href=\"psysml:d7b3804f-80e3-4381-979e-bf8e2501fba8\" target=\"_top\" title=\"psysml:d7b3804f-80e3-4381-979e-bf8e2501fba8\" xlink:actuate=\"onRequest\" xlink:href=\"psysml:d7b3804f-80e3-4381-979e-bf8e2501fba8\" xlink:show=\"new\" xlink:title=\"psysml:d7b3804f-80e3-4381-979e-bf8e2501fba8\" xlink:type=\"simple\"><rect fill=\"#FFFFFF\" height=\"59.9063\" id=\"E8\" rx=\"10\" ry=\"10\" style=\"stroke: #383838; stroke-width: 1.5;\" width=\"70\" x=\"32\" y=\"148\"/><text fill=\"#000000\" font-family=\"sans-serif\" font-size=\"12\" font-style=\"italic\" lengthAdjust=\"spacingAndGlyphs\" textLength=\"68\" x=\"33\" y=\"164.1387\">«variation»</text><text fill=\"#000000\" font-family=\"sans-serif\" font-size=\"12\" font-style=\"italic\" lengthAdjust=\"spacingAndGlyphs\" textLength=\"40\" x=\"47\" y=\"178.1074\">«part»</text><text fill=\"#000000\" font-family=\"sans-serif\" font-size=\"12\" lengthAdjust=\"spacingAndGlyphs\" textLength=\"22\" x=\"56\" y=\"192.0762\">v: P</text><line style=\"stroke: #383838; stroke-width: 1.5;\" x1=\"33\" x2=\"101\" y1=\"199.9063\" y2=\"199.9063\"/></a><!--MD5=[fd4143e9d270a159db93a4ea2a975926]\n",
       "class E9--><a href=\"psysml:aeeab6cc-3339-44ed-a45c-f65a5d97c376\" target=\"_top\" title=\"psysml:aeeab6cc-3339-44ed-a45c-f65a5d97c376\" xlink:actuate=\"onRequest\" xlink:href=\"psysml:aeeab6cc-3339-44ed-a45c-f65a5d97c376\" xlink:show=\"new\" xlink:title=\"psysml:aeeab6cc-3339-44ed-a45c-f65a5d97c376\" xlink:type=\"simple\"><rect fill=\"#FFFFFF\" height=\"88.3516\" id=\"E9\" rx=\"10\" ry=\"10\" style=\"stroke: #383838; stroke-width: 1.5;\" width=\"77\" x=\"32.5\" y=\"285\"/><text fill=\"#000000\" font-family=\"sans-serif\" font-size=\"12\" font-style=\"italic\" lengthAdjust=\"spacingAndGlyphs\" textLength=\"75\" x=\"33.5\" y=\"301.1387\">«reference»</text><text fill=\"#000000\" font-family=\"sans-serif\" font-size=\"12\" lengthAdjust=\"spacingAndGlyphs\" textLength=\"8\" x=\"67\" y=\"315.1074\">q</text><line style=\"stroke: #383838; stroke-width: 1.5;\" x1=\"33.5\" x2=\"108.5\" y1=\"322.9375\" y2=\"322.9375\"/><text fill=\"#000000\" font-family=\"sans-serif\" font-size=\"11\" lengthAdjust=\"spacingAndGlyphs\" textLength=\"23\" x=\"38.5\" y=\"353.9526\">b: B</text><text fill=\"#000000\" font-family=\"sans-serif\" font-size=\"11\" font-style=\"italic\" lengthAdjust=\"spacingAndGlyphs\" textLength=\"44\" x=\"38.5\" y=\"366.7573\">:&gt;&gt;P::a</text><line style=\"stroke: #383838; stroke-width: 1.0;\" x1=\"33.5\" x2=\"43.5\" y1=\"337.3398\" y2=\"337.3398\"/><text fill=\"#000000\" font-family=\"sans-serif\" font-size=\"11\" lengthAdjust=\"spacingAndGlyphs\" textLength=\"55\" x=\"43.5\" y=\"340.6479\">attributes</text><line style=\"stroke: #383838; stroke-width: 1.0;\" x1=\"98.5\" x2=\"108.5\" y1=\"337.3398\" y2=\"337.3398\"/></a><!--MD5=[96f4274e9e20536e775497830990834d]\n",
       "class E10--><a href=\"psysml:fe63b1e8-840a-4f2e-b06a-2ce986f19d03\" target=\"_top\" title=\"psysml:fe63b1e8-840a-4f2e-b06a-2ce986f19d03\" xlink:actuate=\"onRequest\" xlink:href=\"psysml:fe63b1e8-840a-4f2e-b06a-2ce986f19d03\" xlink:show=\"new\" xlink:title=\"psysml:fe63b1e8-840a-4f2e-b06a-2ce986f19d03\" xlink:type=\"simple\"><rect fill=\"#FFFFFF\" height=\"45.9375\" id=\"E10\" rx=\"10\" ry=\"10\" style=\"stroke: #383838; stroke-width: 1.5;\" width=\"42\" x=\"238\" y=\"155\"/><text fill=\"#000000\" font-family=\"sans-serif\" font-size=\"12\" font-style=\"italic\" lengthAdjust=\"spacingAndGlyphs\" textLength=\"40\" x=\"239\" y=\"171.1387\">«part»</text><text fill=\"#000000\" font-family=\"sans-serif\" font-size=\"12\" lengthAdjust=\"spacingAndGlyphs\" textLength=\"22\" x=\"248\" y=\"185.1074\">y: P</text><line style=\"stroke: #383838; stroke-width: 1.5;\" x1=\"239\" x2=\"279\" y1=\"192.9375\" y2=\"192.9375\"/></a><!--MD5=[05d275557350bfb9b23a4ef7222b4c39]\n",
       "link E3 to E2--><a href=\"psysml:6495a820-e8c0-4129-af26-6722c3b7b9e6\" target=\"_top\" title=\"psysml:6495a820-e8c0-4129-af26-6722c3b7b9e6\" xlink:actuate=\"onRequest\" xlink:href=\"psysml:6495a820-e8c0-4129-af26-6722c3b7b9e6\" xlink:show=\"new\" xlink:title=\"psysml:6495a820-e8c0-4129-af26-6722c3b7b9e6\" xlink:type=\"simple\"><path d=\"M174.34,201.31 C177.92,219.67 183.15,246.54 187.87,270.81 \" fill=\"none\" id=\"E3-&gt;E2\" style=\"stroke: #383838; stroke-width: 1.0;\"/><polygon fill=\"none\" points=\"194.8,269.8,191.75,290.77,181.06,272.47,194.8,269.8\" style=\"stroke: #383838; stroke-width: 1.0;\"/></a><!--MD5=[15ebcb19ae302d9b601edb458606d402]\n",
       "link E5 to E2--><a href=\"psysml:bd00e4e7-d183-497a-b9f8-56660fc51e3e\" target=\"_top\" title=\"psysml:bd00e4e7-d183-497a-b9f8-56660fc51e3e\" xlink:actuate=\"onRequest\" xlink:href=\"psysml:bd00e4e7-d183-497a-b9f8-56660fc51e3e\" xlink:show=\"new\" xlink:title=\"psysml:bd00e4e7-d183-497a-b9f8-56660fc51e3e\" xlink:type=\"simple\"><path d=\"M325.69,201.31 C304.9,222.1 273.2,253.8 246.71,280.29 \" fill=\"none\" id=\"E5-&gt;E2\" style=\"stroke: #383838; stroke-width: 1.0;\"/><polygon fill=\"none\" points=\"251.33,285.57,232.24,294.76,241.43,275.67,251.33,285.57\" style=\"stroke: #383838; stroke-width: 1.0;\"/></a><!--MD5=[9120cf2e5df3bff93db8f754bbbc09b4]\n",
       "link E5 to E6--><a href=\"psysml:3ec706da-d65f-4ef5-8a1f-1e1b5df7e7c6\" target=\"_top\" title=\"psysml:3ec706da-d65f-4ef5-8a1f-1e1b5df7e7c6\" xlink:actuate=\"onRequest\" xlink:href=\"psysml:3ec706da-d65f-4ef5-8a1f-1e1b5df7e7c6\" xlink:show=\"new\" xlink:title=\"psysml:3ec706da-d65f-4ef5-8a1f-1e1b5df7e7c6\" xlink:type=\"simple\"><path d=\"M341.72,211.26 C338.1,229.85 333.47,253.68 329.32,274.95 \" fill=\"none\" id=\"E5-E6\" style=\"stroke: #383838; stroke-width: 1.0;\"/><polygon fill=\"#383838\" points=\"327.4,284.84,331.8761,277.5623,325.987,276.4136,327.4,284.84\" style=\"stroke: #383838; stroke-width: 1.0;\"/><path d=\"M334.7699,202.7122 A9,9 0 0 0 351.3715 205.9503\" fill=\"none\" style=\"stroke: #383838; stroke-width: 1.5;\"/><text fill=\"#000000\" font-family=\"sans-serif\" font-size=\"13\" lengthAdjust=\"spacingAndGlyphs\" textLength=\"60\" x=\"337\" y=\"251.0669\">«variant»</text></a><!--MD5=[14ccda38c055a5c0da953d572bc50960]\n",
       "link E7 to E3--><a href=\"psysml:9cf32953-475b-4011-b1f8-e7f09d5ce449\" target=\"_top\" title=\"psysml:9cf32953-475b-4011-b1f8-e7f09d5ce449\" xlink:actuate=\"onRequest\" xlink:href=\"psysml:9cf32953-475b-4011-b1f8-e7f09d5ce449\" xlink:show=\"new\" xlink:title=\"psysml:9cf32953-475b-4011-b1f8-e7f09d5ce449\" xlink:type=\"simple\"><path d=\"M170,87.13 C170,100.7 170,118.53 170,134.73 \" fill=\"none\" id=\"E7-&gt;E3\" style=\"stroke: #383838; stroke-width: 1.0;\"/><polygon fill=\"#FFFFFF\" points=\"170,154.92,163,135.92,177,135.92,170,154.92\" style=\"stroke: #383838; stroke-width: 1.0;\"/><ellipse cx=\"165\" cy=\"130.22\" fill=\"#383838\" rx=\"2\" ry=\"2\" style=\"stroke: #383838; stroke-width: 1.0;\"/><ellipse cx=\"175\" cy=\"130.22\" fill=\"#383838\" rx=\"2\" ry=\"2\" style=\"stroke: #383838; stroke-width: 1.0;\"/></a><!--MD5=[f1f3f9f2fc535e6147756cb86a7f2e32]\n",
       "link E8 to E2--><a href=\"psysml:d1a9bfbc-b159-49c1-a5ca-956a4881ee49\" target=\"_top\" title=\"psysml:d1a9bfbc-b159-49c1-a5ca-956a4881ee49\" xlink:actuate=\"onRequest\" xlink:href=\"psysml:d1a9bfbc-b159-49c1-a5ca-956a4881ee49\" xlink:show=\"new\" xlink:title=\"psysml:d1a9bfbc-b159-49c1-a5ca-956a4881ee49\" xlink:type=\"simple\"><path d=\"M102.17,204.39 C114.52,214.17 128.04,225.9 139,238 C148.86,248.88 158.29,261.5 166.63,273.79 \" fill=\"none\" id=\"E8-&gt;E2\" style=\"stroke: #383838; stroke-width: 1.0;\"/><polygon fill=\"#FFFFFF\" points=\"177.64,290.73,161.4168,278.6135,173.1555,270.9844,177.64,290.73\" style=\"stroke: #383838; stroke-width: 1.0;\"/><ellipse cx=\"159.9876\" cy=\"272.7443\" fill=\"#383838\" rx=\"2\" ry=\"2\" style=\"stroke: #383838; stroke-width: 1.0;\"/><ellipse cx=\"168.3724\" cy=\"267.2949\" fill=\"#383838\" rx=\"2\" ry=\"2\" style=\"stroke: #383838; stroke-width: 1.0;\"/></a><!--MD5=[ed10624c06dd9a4fa49ccf290e8b16a8]\n",
       "link E8 to E9--><a href=\"psysml:4574f674-7c12-4143-bfb7-6a6844a72e64\" target=\"_top\" title=\"psysml:4574f674-7c12-4143-bfb7-6a6844a72e64\" xlink:actuate=\"onRequest\" xlink:href=\"psysml:4574f674-7c12-4143-bfb7-6a6844a72e64\" xlink:show=\"new\" xlink:title=\"psysml:4574f674-7c12-4143-bfb7-6a6844a72e64\" xlink:type=\"simple\"><path d=\"M68.06,218.32 C68.52,235.6 69.07,256.15 69.57,274.77 \" fill=\"none\" id=\"E8-E9\" style=\"stroke: #383838; stroke-width: 1.0;\"/><polygon fill=\"#383838\" points=\"69.84,284.88,72.6331,276.8054,66.6351,276.9599,69.84,284.88\" style=\"stroke: #383838; stroke-width: 1.0;\"/><path d=\"M59.4094,211.3865 A9,9 0 0 0 76.3176 210.9276\" fill=\"none\" style=\"stroke: #383838; stroke-width: 1.5;\"/><text fill=\"#000000\" font-family=\"sans-serif\" font-size=\"13\" lengthAdjust=\"spacingAndGlyphs\" textLength=\"60\" x=\"70\" y=\"251.0669\">«variant»</text></a><!--MD5=[0f36bececdf0dff6e600d6f64214b0f1]\n",
       "link E10 to E2--><a href=\"psysml:bd829215-07d4-45cb-8fe9-60748d4dd682\" target=\"_top\" title=\"psysml:bd829215-07d4-45cb-8fe9-60748d4dd682\" xlink:actuate=\"onRequest\" xlink:href=\"psysml:bd829215-07d4-45cb-8fe9-60748d4dd682\" xlink:show=\"new\" xlink:title=\"psysml:bd829215-07d4-45cb-8fe9-60748d4dd682\" xlink:type=\"simple\"><path d=\"M250.02,201.31 C242.51,219.95 231.48,247.35 221.59,271.91 \" fill=\"none\" id=\"E10-&gt;E2\" style=\"stroke: #383838; stroke-width: 1.0;\"/><polygon fill=\"#FFFFFF\" points=\"213.99,290.77,214.5927,270.5305,227.5796,275.7593,213.99,290.77\" style=\"stroke: #383838; stroke-width: 1.0;\"/><ellipse cx=\"218.5768\" cy=\"265.9899\" fill=\"#383838\" rx=\"2\" ry=\"2\" style=\"stroke: #383838; stroke-width: 1.0;\"/><ellipse cx=\"227.8532\" cy=\"269.7248\" fill=\"#383838\" rx=\"2\" ry=\"2\" style=\"stroke: #383838; stroke-width: 1.0;\"/></a><!--MD5=[845e6076adcc785e866970314ad49c83]\n",
       "@startuml\r\n",
       "top to bottom direction\r\n",
       "skinparam monochrome true\r\n",
       "skinparam classbackgroundcolor white\r\n",
       "skinparam shadowing false\r\n",
       "skinparam wrapWidth 300\r\n",
       "hide circle\r\n",
       "\r\n",
       "package \"VariabilityTest\" as E1  [[psysml:6e13bc12-600f-4176-9ee3-c77c18f0da6f ]]  {\r\n",
       "comp def \"P\" as E2  <<(T,blue) part def>> [[psysml:a47e4883-53c6-48e5-9729-358fb18738b5 ]] {\r\n",
       "- - attributes - -\r\n",
       "a\r\n",
       "}\r\n",
       "comp def \"Q\" as E3  <<(T,blue) part def>> [[psysml:64152dcd-188c-4285-9d2f-82b4222731ff ]] {\r\n",
       "}\r\n",
       "comp def \"B\" as E4  <<(T,blue) attribute def>> [[psysml:6204c3f0-143a-45cc-ac58-9ea86a3a8ea6 ]] {\r\n",
       "}\r\n",
       "comp def \"V\" as E5  <<(T,blue) part def>> [[psysml:58826ca2-a740-4eaa-a71e-521b590388a3 ]] {\r\n",
       "}\r\n",
       "comp usage \"x: Q\" as E6  <<(T,blue) part>> [[psysml:c2df0e2e-5a66-4a2b-abfc-b3b4dd7dd2c5 ]] {\r\n",
       "- - attributes - -\r\n",
       "b: B\\n//:>>P::a// \r\n",
       "}\r\n",
       "comp usage \"q: Q\" as E7  <<(T,blue) part>> [[psysml:d5aa7800-4c4d-4a74-9f82-8c5d7377a367 ]] {\r\n",
       "}\r\n",
       "comp usage \"v: P\" as E8  <<variation>>\\n <<(T,blue) part>> [[psysml:d7b3804f-80e3-4381-979e-bf8e2501fba8 ]] {\r\n",
       "}\r\n",
       "comp usage \"q\" as E9  <<(T,blue) reference>> [[psysml:aeeab6cc-3339-44ed-a45c-f65a5d97c376 ]] {\r\n",
       "- - attributes - -\r\n",
       "b: B\\n//:>>P::a// \r\n",
       "}\r\n",
       "comp usage \"y: P\" as E10  <<(T,blue) part>> [[psysml:fe63b1e8-840a-4f2e-b06a-2ce986f19d03 ]] {\r\n",
       "}\r\n",
       "E3 - -|> E2 [[psysml:6495a820-e8c0-4129-af26-6722c3b7b9e6 ]] \r\n",
       "E5 - -|> E2 [[psysml:bd00e4e7-d183-497a-b9f8-56660fc51e3e ]] \r\n",
       "E5 )- ->> E6 [[psysml:3ec706da-d65f-4ef5-8a1f-1e1b5df7e7c6 ]] : <<variant>>\r\n",
       "E7 - -:|> E3 [[psysml:9cf32953-475b-4011-b1f8-e7f09d5ce449 ]] \r\n",
       "E8 - -:|> E2 [[psysml:d1a9bfbc-b159-49c1-a5ca-956a4881ee49 ]] \r\n",
       "E8 )- ->> E9 [[psysml:4574f674-7c12-4143-bfb7-6a6844a72e64 ]] : <<variant>>\r\n",
       "E10 - -:|> E2 [[psysml:bd829215-07d4-45cb-8fe9-60748d4dd682 ]] \r\n",
       "}\r\n",
       "@enduml\r\n",
       "\n",
       "PlantUML version 1.2020.13(Sat Jun 13 12:26:38 UTC 2020)\n",
       "(EPL source distribution)\n",
       "Java Runtime: OpenJDK Runtime Environment\n",
       "JVM: OpenJDK 64-Bit Server VM\n",
       "Default Encoding: UTF-8\n",
       "Language: en\n",
       "Country: null\n",
       "--></g></svg>"
      ]
     },
     "execution_count": 50,
     "metadata": {},
     "output_type": "execute_result"
    }
   ],
   "source": [
    "%viz --style=\"TB\" --view=\"MIXED\" \"VariabilityTest\""
   ]
  },
  {
   "cell_type": "code",
   "execution_count": 51,
   "id": "888aa14f",
   "metadata": {
    "execution": {
     "iopub.execute_input": "2021-08-04T06:26:52.229677Z",
     "iopub.status.busy": "2021-08-04T06:26:52.229257Z",
     "iopub.status.idle": "2021-08-04T06:26:52.269887Z",
     "shell.execute_reply": "2021-08-04T06:26:52.268556Z"
    }
   },
   "outputs": [
    {
     "data": {
      "image/svg+xml": [
       "<?xml version=\"1.0\" encoding=\"UTF-8\" standalone=\"no\"?><svg xmlns=\"http://www.w3.org/2000/svg\" xmlns:xlink=\"http://www.w3.org/1999/xlink\" contentScriptType=\"application/ecmascript\" contentStyleType=\"text/css\" height=\"401px\" preserveAspectRatio=\"none\" style=\"width:419px;height:401px;\" version=\"1.1\" viewBox=\"0 0 419 401\" width=\"419px\" zoomAndPan=\"magnify\"><defs/><g><!--MD5=[fbc87193dbaf4d95561dea2c320d4a47]\n",
       "cluster E1--><a href=\"psysml:6e13bc12-600f-4176-9ee3-c77c18f0da6f\" target=\"_top\" title=\"psysml:6e13bc12-600f-4176-9ee3-c77c18f0da6f\" xlink:actuate=\"onRequest\" xlink:href=\"psysml:6e13bc12-600f-4176-9ee3-c77c18f0da6f\" xlink:show=\"new\" xlink:title=\"psysml:6e13bc12-600f-4176-9ee3-c77c18f0da6f\" xlink:type=\"simple\"><polygon fill=\"#FFFFFF\" points=\"16,6,134,6,141,28.2969,397,28.2969,397,389,16,389,16,6\" style=\"stroke: #000000; stroke-width: 1.5;\"/><line style=\"stroke: #000000; stroke-width: 1.5;\" x1=\"16\" x2=\"141\" y1=\"28.2969\" y2=\"28.2969\"/><text fill=\"#000000\" font-family=\"sans-serif\" font-size=\"14\" font-weight=\"bold\" lengthAdjust=\"spacingAndGlyphs\" textLength=\"112\" x=\"20\" y=\"20.9951\">VariabilityTest</text></a><!--MD5=[b4997ac47864f28c2f74865a473b2911]\n",
       "class E2--><a href=\"psysml:a47e4883-53c6-48e5-9729-358fb18738b5\" target=\"_top\" title=\"psysml:a47e4883-53c6-48e5-9729-358fb18738b5\" xlink:actuate=\"onRequest\" xlink:href=\"psysml:a47e4883-53c6-48e5-9729-358fb18738b5\" xlink:show=\"new\" xlink:title=\"psysml:a47e4883-53c6-48e5-9729-358fb18738b5\" xlink:type=\"simple\"><rect fill=\"#FFFFFF\" height=\"75.5469\" id=\"E2\" style=\"stroke: #383838; stroke-width: 1.5;\" width=\"66\" x=\"166\" y=\"291\"/><text fill=\"#000000\" font-family=\"sans-serif\" font-size=\"12\" font-style=\"italic\" lengthAdjust=\"spacingAndGlyphs\" textLength=\"64\" x=\"167\" y=\"307.1387\">«part def»</text><text fill=\"#000000\" font-family=\"sans-serif\" font-size=\"12\" lengthAdjust=\"spacingAndGlyphs\" textLength=\"8\" x=\"195\" y=\"321.1074\">P</text><line style=\"stroke: #383838; stroke-width: 1.5;\" x1=\"167\" x2=\"231\" y1=\"328.9375\" y2=\"328.9375\"/><text fill=\"#000000\" font-family=\"sans-serif\" font-size=\"11\" lengthAdjust=\"spacingAndGlyphs\" textLength=\"7\" x=\"172\" y=\"359.9526\">a</text><line style=\"stroke: #383838; stroke-width: 1.0;\" x1=\"167\" x2=\"171.5\" y1=\"343.3398\" y2=\"343.3398\"/><text fill=\"#000000\" font-family=\"sans-serif\" font-size=\"11\" lengthAdjust=\"spacingAndGlyphs\" textLength=\"55\" x=\"171.5\" y=\"346.6479\">attributes</text><line style=\"stroke: #383838; stroke-width: 1.0;\" x1=\"226.5\" x2=\"231\" y1=\"343.3398\" y2=\"343.3398\"/></a><!--MD5=[09b614a08d8cba4a07c9adeb5e0fee81]\n",
       "class E3--><a href=\"psysml:64152dcd-188c-4285-9d2f-82b4222731ff\" target=\"_top\" title=\"psysml:64152dcd-188c-4285-9d2f-82b4222731ff\" xlink:actuate=\"onRequest\" xlink:href=\"psysml:64152dcd-188c-4285-9d2f-82b4222731ff\" xlink:show=\"new\" xlink:title=\"psysml:64152dcd-188c-4285-9d2f-82b4222731ff\" xlink:type=\"simple\"><rect fill=\"#FFFFFF\" height=\"45.9375\" id=\"E3\" style=\"stroke: #383838; stroke-width: 1.5;\" width=\"66\" x=\"137\" y=\"155\"/><text fill=\"#000000\" font-family=\"sans-serif\" font-size=\"12\" font-style=\"italic\" lengthAdjust=\"spacingAndGlyphs\" textLength=\"64\" x=\"138\" y=\"171.1387\">«part def»</text><text fill=\"#000000\" font-family=\"sans-serif\" font-size=\"12\" lengthAdjust=\"spacingAndGlyphs\" textLength=\"9\" x=\"165.5\" y=\"185.1074\">Q</text><line style=\"stroke: #383838; stroke-width: 1.5;\" x1=\"138\" x2=\"202\" y1=\"192.9375\" y2=\"192.9375\"/></a><!--MD5=[ebbe1d658d1005bcc118a6aa81145e00]\n",
       "class E4--><a href=\"psysml:6204c3f0-143a-45cc-ac58-9ea86a3a8ea6\" target=\"_top\" title=\"psysml:6204c3f0-143a-45cc-ac58-9ea86a3a8ea6\" xlink:actuate=\"onRequest\" xlink:href=\"psysml:6204c3f0-143a-45cc-ac58-9ea86a3a8ea6\" xlink:show=\"new\" xlink:title=\"psysml:6204c3f0-143a-45cc-ac58-9ea86a3a8ea6\" xlink:type=\"simple\"><rect fill=\"#FFFFFF\" height=\"45.9375\" id=\"E4\" style=\"stroke: #383838; stroke-width: 1.5;\" width=\"95\" x=\"255.5\" y=\"41\"/><text fill=\"#000000\" font-family=\"sans-serif\" font-size=\"12\" font-style=\"italic\" lengthAdjust=\"spacingAndGlyphs\" textLength=\"93\" x=\"256.5\" y=\"57.1387\">«attribute def»</text><text fill=\"#000000\" font-family=\"sans-serif\" font-size=\"12\" lengthAdjust=\"spacingAndGlyphs\" textLength=\"8\" x=\"299\" y=\"71.1074\">B</text><line style=\"stroke: #383838; stroke-width: 1.5;\" x1=\"256.5\" x2=\"349.5\" y1=\"78.9375\" y2=\"78.9375\"/></a><!--MD5=[270fce915f116d4de14055a7c1d9a0f3]\n",
       "class E5--><a href=\"psysml:58826ca2-a740-4eaa-a71e-521b590388a3\" target=\"_top\" title=\"psysml:58826ca2-a740-4eaa-a71e-521b590388a3\" xlink:actuate=\"onRequest\" xlink:href=\"psysml:58826ca2-a740-4eaa-a71e-521b590388a3\" xlink:show=\"new\" xlink:title=\"psysml:58826ca2-a740-4eaa-a71e-521b590388a3\" xlink:type=\"simple\"><rect fill=\"#FFFFFF\" height=\"45.9375\" id=\"E5\" style=\"stroke: #383838; stroke-width: 1.5;\" width=\"66\" x=\"315\" y=\"155\"/><text fill=\"#000000\" font-family=\"sans-serif\" font-size=\"12\" font-style=\"italic\" lengthAdjust=\"spacingAndGlyphs\" textLength=\"64\" x=\"316\" y=\"171.1387\">«part def»</text><text fill=\"#000000\" font-family=\"sans-serif\" font-size=\"12\" lengthAdjust=\"spacingAndGlyphs\" textLength=\"8\" x=\"344\" y=\"185.1074\">V</text><line style=\"stroke: #383838; stroke-width: 1.5;\" x1=\"316\" x2=\"380\" y1=\"192.9375\" y2=\"192.9375\"/></a><!--MD5=[60a26617385b1d2d0262a64233df1f8d]\n",
       "class E6--><a href=\"psysml:c2df0e2e-5a66-4a2b-abfc-b3b4dd7dd2c5\" target=\"_top\" title=\"psysml:c2df0e2e-5a66-4a2b-abfc-b3b4dd7dd2c5\" xlink:actuate=\"onRequest\" xlink:href=\"psysml:c2df0e2e-5a66-4a2b-abfc-b3b4dd7dd2c5\" xlink:show=\"new\" xlink:title=\"psysml:c2df0e2e-5a66-4a2b-abfc-b3b4dd7dd2c5\" xlink:type=\"simple\"><rect fill=\"#FFFFFF\" height=\"88.3516\" id=\"E6\" rx=\"10\" ry=\"10\" style=\"stroke: #383838; stroke-width: 1.5;\" width=\"63\" x=\"287.5\" y=\"285\"/><text fill=\"#000000\" font-family=\"sans-serif\" font-size=\"12\" font-style=\"italic\" lengthAdjust=\"spacingAndGlyphs\" textLength=\"40\" x=\"299\" y=\"301.1387\">«part»</text><text fill=\"#000000\" font-family=\"sans-serif\" font-size=\"12\" lengthAdjust=\"spacingAndGlyphs\" textLength=\"23\" x=\"307.5\" y=\"315.1074\">x: Q</text><line style=\"stroke: #383838; stroke-width: 1.5;\" x1=\"288.5\" x2=\"349.5\" y1=\"322.9375\" y2=\"322.9375\"/><text fill=\"#000000\" font-family=\"sans-serif\" font-size=\"11\" lengthAdjust=\"spacingAndGlyphs\" textLength=\"23\" x=\"293.5\" y=\"353.9526\">b: B</text><text fill=\"#000000\" font-family=\"sans-serif\" font-size=\"11\" font-style=\"italic\" lengthAdjust=\"spacingAndGlyphs\" textLength=\"44\" x=\"293.5\" y=\"366.7573\">:&gt;&gt;P::a</text><line style=\"stroke: #383838; stroke-width: 1.0;\" x1=\"288.5\" x2=\"291.5\" y1=\"337.3398\" y2=\"337.3398\"/><text fill=\"#000000\" font-family=\"sans-serif\" font-size=\"11\" lengthAdjust=\"spacingAndGlyphs\" textLength=\"55\" x=\"291.5\" y=\"340.6479\">attributes</text><line style=\"stroke: #383838; stroke-width: 1.0;\" x1=\"346.5\" x2=\"349.5\" y1=\"337.3398\" y2=\"337.3398\"/></a><!--MD5=[2156ba9850f5573cc1fc38a6a4b2f02b]\n",
       "class E7--><a href=\"psysml:d5aa7800-4c4d-4a74-9f82-8c5d7377a367\" target=\"_top\" title=\"psysml:d5aa7800-4c4d-4a74-9f82-8c5d7377a367\" xlink:actuate=\"onRequest\" xlink:href=\"psysml:d5aa7800-4c4d-4a74-9f82-8c5d7377a367\" xlink:show=\"new\" xlink:title=\"psysml:d5aa7800-4c4d-4a74-9f82-8c5d7377a367\" xlink:type=\"simple\"><rect fill=\"#FFFFFF\" height=\"45.9375\" id=\"E7\" rx=\"10\" ry=\"10\" style=\"stroke: #383838; stroke-width: 1.5;\" width=\"42\" x=\"149\" y=\"41\"/><text fill=\"#000000\" font-family=\"sans-serif\" font-size=\"12\" font-style=\"italic\" lengthAdjust=\"spacingAndGlyphs\" textLength=\"40\" x=\"150\" y=\"57.1387\">«part»</text><text fill=\"#000000\" font-family=\"sans-serif\" font-size=\"12\" lengthAdjust=\"spacingAndGlyphs\" textLength=\"25\" x=\"157.5\" y=\"71.1074\">q: Q</text><line style=\"stroke: #383838; stroke-width: 1.5;\" x1=\"150\" x2=\"190\" y1=\"78.9375\" y2=\"78.9375\"/></a><!--MD5=[b9389687b975829384b498ac4b7476b2]\n",
       "class E8--><a href=\"psysml:d7b3804f-80e3-4381-979e-bf8e2501fba8\" target=\"_top\" title=\"psysml:d7b3804f-80e3-4381-979e-bf8e2501fba8\" xlink:actuate=\"onRequest\" xlink:href=\"psysml:d7b3804f-80e3-4381-979e-bf8e2501fba8\" xlink:show=\"new\" xlink:title=\"psysml:d7b3804f-80e3-4381-979e-bf8e2501fba8\" xlink:type=\"simple\"><rect fill=\"#FFFFFF\" height=\"59.9063\" id=\"E8\" rx=\"10\" ry=\"10\" style=\"stroke: #383838; stroke-width: 1.5;\" width=\"70\" x=\"32\" y=\"148\"/><text fill=\"#000000\" font-family=\"sans-serif\" font-size=\"12\" font-style=\"italic\" lengthAdjust=\"spacingAndGlyphs\" textLength=\"68\" x=\"33\" y=\"164.1387\">«variation»</text><text fill=\"#000000\" font-family=\"sans-serif\" font-size=\"12\" font-style=\"italic\" lengthAdjust=\"spacingAndGlyphs\" textLength=\"40\" x=\"47\" y=\"178.1074\">«part»</text><text fill=\"#000000\" font-family=\"sans-serif\" font-size=\"12\" lengthAdjust=\"spacingAndGlyphs\" textLength=\"22\" x=\"56\" y=\"192.0762\">v: P</text><line style=\"stroke: #383838; stroke-width: 1.5;\" x1=\"33\" x2=\"101\" y1=\"199.9063\" y2=\"199.9063\"/></a><!--MD5=[fd4143e9d270a159db93a4ea2a975926]\n",
       "class E9--><a href=\"psysml:aeeab6cc-3339-44ed-a45c-f65a5d97c376\" target=\"_top\" title=\"psysml:aeeab6cc-3339-44ed-a45c-f65a5d97c376\" xlink:actuate=\"onRequest\" xlink:href=\"psysml:aeeab6cc-3339-44ed-a45c-f65a5d97c376\" xlink:show=\"new\" xlink:title=\"psysml:aeeab6cc-3339-44ed-a45c-f65a5d97c376\" xlink:type=\"simple\"><rect fill=\"#FFFFFF\" height=\"88.3516\" id=\"E9\" rx=\"10\" ry=\"10\" style=\"stroke: #383838; stroke-width: 1.5;\" width=\"77\" x=\"32.5\" y=\"285\"/><text fill=\"#000000\" font-family=\"sans-serif\" font-size=\"12\" font-style=\"italic\" lengthAdjust=\"spacingAndGlyphs\" textLength=\"75\" x=\"33.5\" y=\"301.1387\">«reference»</text><text fill=\"#000000\" font-family=\"sans-serif\" font-size=\"12\" lengthAdjust=\"spacingAndGlyphs\" textLength=\"8\" x=\"67\" y=\"315.1074\">q</text><line style=\"stroke: #383838; stroke-width: 1.5;\" x1=\"33.5\" x2=\"108.5\" y1=\"322.9375\" y2=\"322.9375\"/><text fill=\"#000000\" font-family=\"sans-serif\" font-size=\"11\" lengthAdjust=\"spacingAndGlyphs\" textLength=\"23\" x=\"38.5\" y=\"353.9526\">b: B</text><text fill=\"#000000\" font-family=\"sans-serif\" font-size=\"11\" font-style=\"italic\" lengthAdjust=\"spacingAndGlyphs\" textLength=\"44\" x=\"38.5\" y=\"366.7573\">:&gt;&gt;P::a</text><line style=\"stroke: #383838; stroke-width: 1.0;\" x1=\"33.5\" x2=\"43.5\" y1=\"337.3398\" y2=\"337.3398\"/><text fill=\"#000000\" font-family=\"sans-serif\" font-size=\"11\" lengthAdjust=\"spacingAndGlyphs\" textLength=\"55\" x=\"43.5\" y=\"340.6479\">attributes</text><line style=\"stroke: #383838; stroke-width: 1.0;\" x1=\"98.5\" x2=\"108.5\" y1=\"337.3398\" y2=\"337.3398\"/></a><!--MD5=[96f4274e9e20536e775497830990834d]\n",
       "class E10--><a href=\"psysml:fe63b1e8-840a-4f2e-b06a-2ce986f19d03\" target=\"_top\" title=\"psysml:fe63b1e8-840a-4f2e-b06a-2ce986f19d03\" xlink:actuate=\"onRequest\" xlink:href=\"psysml:fe63b1e8-840a-4f2e-b06a-2ce986f19d03\" xlink:show=\"new\" xlink:title=\"psysml:fe63b1e8-840a-4f2e-b06a-2ce986f19d03\" xlink:type=\"simple\"><rect fill=\"#FFFFFF\" height=\"45.9375\" id=\"E10\" rx=\"10\" ry=\"10\" style=\"stroke: #383838; stroke-width: 1.5;\" width=\"42\" x=\"238\" y=\"155\"/><text fill=\"#000000\" font-family=\"sans-serif\" font-size=\"12\" font-style=\"italic\" lengthAdjust=\"spacingAndGlyphs\" textLength=\"40\" x=\"239\" y=\"171.1387\">«part»</text><text fill=\"#000000\" font-family=\"sans-serif\" font-size=\"12\" lengthAdjust=\"spacingAndGlyphs\" textLength=\"22\" x=\"248\" y=\"185.1074\">y: P</text><line style=\"stroke: #383838; stroke-width: 1.5;\" x1=\"239\" x2=\"279\" y1=\"192.9375\" y2=\"192.9375\"/></a><!--MD5=[05d275557350bfb9b23a4ef7222b4c39]\n",
       "link E3 to E2--><a href=\"psysml:6495a820-e8c0-4129-af26-6722c3b7b9e6\" target=\"_top\" title=\"psysml:6495a820-e8c0-4129-af26-6722c3b7b9e6\" xlink:actuate=\"onRequest\" xlink:href=\"psysml:6495a820-e8c0-4129-af26-6722c3b7b9e6\" xlink:show=\"new\" xlink:title=\"psysml:6495a820-e8c0-4129-af26-6722c3b7b9e6\" xlink:type=\"simple\"><path d=\"M190.67,201.26 C190.67,201.26 190.67,270.73 190.67,270.73 \" fill=\"none\" id=\"E3-&gt;E2\" style=\"stroke: #383838; stroke-width: 1.0;\"/><polygon fill=\"none\" points=\"197.67,270.73,190.67,290.73,183.67,270.73,197.67,270.73\" style=\"stroke: #383838; stroke-width: 1.0;\"/></a><!--MD5=[15ebcb19ae302d9b601edb458606d402]\n",
       "link E5 to E2--><a href=\"psysml:bd00e4e7-d183-497a-b9f8-56660fc51e3e\" target=\"_top\" title=\"psysml:bd00e4e7-d183-497a-b9f8-56660fc51e3e\" xlink:actuate=\"onRequest\" xlink:href=\"psysml:bd00e4e7-d183-497a-b9f8-56660fc51e3e\" xlink:show=\"new\" xlink:title=\"psysml:bd00e4e7-d183-497a-b9f8-56660fc51e3e\" xlink:type=\"simple\"><path d=\"M326.83,201.22 C326.83,202.93 326.83,204 326.83,204 C326.83,204 222.33,204 222.33,204 C222.33,204 222.33,270.82 222.33,270.82 \" fill=\"none\" id=\"E5-&gt;E2\" style=\"stroke: #383838; stroke-width: 1.0;\"/><polygon fill=\"none\" points=\"229.33,270.82,222.33,290.82,215.33,270.82,229.33,270.82\" style=\"stroke: #383838; stroke-width: 1.0;\"/></a><!--MD5=[9120cf2e5df3bff93db8f754bbbc09b4]\n",
       "link E5 to E6--><a href=\"psysml:3ec706da-d65f-4ef5-8a1f-1e1b5df7e7c6\" target=\"_top\" title=\"psysml:3ec706da-d65f-4ef5-8a1f-1e1b5df7e7c6\" xlink:actuate=\"onRequest\" xlink:href=\"psysml:3ec706da-d65f-4ef5-8a1f-1e1b5df7e7c6\" xlink:show=\"new\" xlink:title=\"psysml:3ec706da-d65f-4ef5-8a1f-1e1b5df7e7c6\" xlink:type=\"simple\"><path d=\"M338.67,211.26 C338.67,211.26 338.67,274.72 338.67,274.72 \" fill=\"none\" id=\"E5-E6\" style=\"stroke: #383838; stroke-width: 1.0;\"/><polygon fill=\"#383838\" points=\"338.67,284.72,341.67,276.72,335.67,276.72,338.67,284.72\" style=\"stroke: #383838; stroke-width: 1.0;\"/><path d=\"M330.2128,204.3382 A9,9 0 0 0 347.1272 204.3382\" fill=\"none\" style=\"stroke: #383838; stroke-width: 1.5;\"/><text fill=\"#000000\" font-family=\"sans-serif\" font-size=\"13\" lengthAdjust=\"spacingAndGlyphs\" textLength=\"60\" x=\"320\" y=\"251.0669\">«variant»</text></a><!--MD5=[14ccda38c055a5c0da953d572bc50960]\n",
       "link E7 to E3--><a href=\"psysml:9cf32953-475b-4011-b1f8-e7f09d5ce449\" target=\"_top\" title=\"psysml:9cf32953-475b-4011-b1f8-e7f09d5ce449\" xlink:actuate=\"onRequest\" xlink:href=\"psysml:9cf32953-475b-4011-b1f8-e7f09d5ce449\" xlink:show=\"new\" xlink:title=\"psysml:9cf32953-475b-4011-b1f8-e7f09d5ce449\" xlink:type=\"simple\"><path d=\"M170,87.07 C170,87.07 170,134.96 170,134.96 \" fill=\"none\" id=\"E7-&gt;E3\" style=\"stroke: #383838; stroke-width: 1.0;\"/><polygon fill=\"#FFFFFF\" points=\"170,154.96,163,135.96,177,135.96,170,154.96\" style=\"stroke: #383838; stroke-width: 1.0;\"/><ellipse cx=\"165\" cy=\"130.26\" fill=\"#383838\" rx=\"2\" ry=\"2\" style=\"stroke: #383838; stroke-width: 1.0;\"/><ellipse cx=\"175\" cy=\"130.26\" fill=\"#383838\" rx=\"2\" ry=\"2\" style=\"stroke: #383838; stroke-width: 1.0;\"/></a><!--MD5=[f1f3f9f2fc535e6147756cb86a7f2e32]\n",
       "link E8 to E2--><a href=\"psysml:d1a9bfbc-b159-49c1-a5ca-956a4881ee49\" target=\"_top\" title=\"psysml:d1a9bfbc-b159-49c1-a5ca-956a4881ee49\" xlink:actuate=\"onRequest\" xlink:href=\"psysml:d1a9bfbc-b159-49c1-a5ca-956a4881ee49\" xlink:show=\"new\" xlink:title=\"psysml:d1a9bfbc-b159-49c1-a5ca-956a4881ee49\" xlink:type=\"simple\"><path d=\"M102.23,206 C134.84,206 178.33,206 178.33,206 C178.33,206 178.33,270.76 178.33,270.76 \" fill=\"none\" id=\"E8-&gt;E2\" style=\"stroke: #383838; stroke-width: 1.0;\"/><polygon fill=\"#FFFFFF\" points=\"178.33,290.76,171.33,271.76,185.33,271.76,178.33,290.76\" style=\"stroke: #383838; stroke-width: 1.0;\"/><ellipse cx=\"173.33\" cy=\"266.06\" fill=\"#383838\" rx=\"2\" ry=\"2\" style=\"stroke: #383838; stroke-width: 1.0;\"/><ellipse cx=\"183.33\" cy=\"266.06\" fill=\"#383838\" rx=\"2\" ry=\"2\" style=\"stroke: #383838; stroke-width: 1.0;\"/></a><!--MD5=[ed10624c06dd9a4fa49ccf290e8b16a8]\n",
       "link E8 to E9--><a href=\"psysml:4574f674-7c12-4143-bfb7-6a6844a72e64\" target=\"_top\" title=\"psysml:4574f674-7c12-4143-bfb7-6a6844a72e64\" xlink:actuate=\"onRequest\" xlink:href=\"psysml:4574f674-7c12-4143-bfb7-6a6844a72e64\" xlink:show=\"new\" xlink:title=\"psysml:4574f674-7c12-4143-bfb7-6a6844a72e64\" xlink:type=\"simple\"><path d=\"M67.25,218.19 C67.25,218.19 67.25,274.83 67.25,274.83 \" fill=\"none\" id=\"E8-E9\" style=\"stroke: #383838; stroke-width: 1.0;\"/><polygon fill=\"#383838\" points=\"67.25,284.83,70.25,276.83,64.25,276.83,67.25,284.83\" style=\"stroke: #383838; stroke-width: 1.0;\"/><path d=\"M58.7928,211.2682 A9,9 0 0 0 75.7072 211.2682\" fill=\"none\" style=\"stroke: #383838; stroke-width: 1.5;\"/><text fill=\"#000000\" font-family=\"sans-serif\" font-size=\"13\" lengthAdjust=\"spacingAndGlyphs\" textLength=\"60\" x=\"70\" y=\"251.0669\">«variant»</text></a><!--MD5=[0f36bececdf0dff6e600d6f64214b0f1]\n",
       "link E10 to E2--><a href=\"psysml:bd829215-07d4-45cb-8fe9-60748d4dd682\" target=\"_top\" title=\"psysml:bd829215-07d4-45cb-8fe9-60748d4dd682\" xlink:actuate=\"onRequest\" xlink:href=\"psysml:bd829215-07d4-45cb-8fe9-60748d4dd682\" xlink:show=\"new\" xlink:title=\"psysml:bd829215-07d4-45cb-8fe9-60748d4dd682\" xlink:type=\"simple\"><path d=\"M237.73,178 C225.55,178 212.67,178 212.67,178 C212.67,178 212.67,270.9 212.67,270.9 \" fill=\"none\" id=\"E10-&gt;E2\" style=\"stroke: #383838; stroke-width: 1.0;\"/><polygon fill=\"#FFFFFF\" points=\"212.67,290.9,205.67,271.9,219.67,271.9,212.67,290.9\" style=\"stroke: #383838; stroke-width: 1.0;\"/><ellipse cx=\"207.67\" cy=\"266.2\" fill=\"#383838\" rx=\"2\" ry=\"2\" style=\"stroke: #383838; stroke-width: 1.0;\"/><ellipse cx=\"217.67\" cy=\"266.2\" fill=\"#383838\" rx=\"2\" ry=\"2\" style=\"stroke: #383838; stroke-width: 1.0;\"/></a><!--MD5=[4f07bffb6a715e84fbfef5cc7cec2c12]\n",
       "@startuml\r\n",
       "skinparam linetype ortho\r\n",
       "skinparam monochrome true\r\n",
       "skinparam classbackgroundcolor white\r\n",
       "skinparam shadowing false\r\n",
       "skinparam wrapWidth 300\r\n",
       "hide circle\r\n",
       "\r\n",
       "package \"VariabilityTest\" as E1  [[psysml:6e13bc12-600f-4176-9ee3-c77c18f0da6f ]]  {\r\n",
       "comp def \"P\" as E2  <<(T,blue) part def>> [[psysml:a47e4883-53c6-48e5-9729-358fb18738b5 ]] {\r\n",
       "- - attributes - -\r\n",
       "a\r\n",
       "}\r\n",
       "comp def \"Q\" as E3  <<(T,blue) part def>> [[psysml:64152dcd-188c-4285-9d2f-82b4222731ff ]] {\r\n",
       "}\r\n",
       "comp def \"B\" as E4  <<(T,blue) attribute def>> [[psysml:6204c3f0-143a-45cc-ac58-9ea86a3a8ea6 ]] {\r\n",
       "}\r\n",
       "comp def \"V\" as E5  <<(T,blue) part def>> [[psysml:58826ca2-a740-4eaa-a71e-521b590388a3 ]] {\r\n",
       "}\r\n",
       "comp usage \"x: Q\" as E6  <<(T,blue) part>> [[psysml:c2df0e2e-5a66-4a2b-abfc-b3b4dd7dd2c5 ]] {\r\n",
       "- - attributes - -\r\n",
       "b: B\\n//:>>P::a// \r\n",
       "}\r\n",
       "comp usage \"q: Q\" as E7  <<(T,blue) part>> [[psysml:d5aa7800-4c4d-4a74-9f82-8c5d7377a367 ]] {\r\n",
       "}\r\n",
       "comp usage \"v: P\" as E8  <<variation>>\\n <<(T,blue) part>> [[psysml:d7b3804f-80e3-4381-979e-bf8e2501fba8 ]] {\r\n",
       "}\r\n",
       "comp usage \"q\" as E9  <<(T,blue) reference>> [[psysml:aeeab6cc-3339-44ed-a45c-f65a5d97c376 ]] {\r\n",
       "- - attributes - -\r\n",
       "b: B\\n//:>>P::a// \r\n",
       "}\r\n",
       "comp usage \"y: P\" as E10  <<(T,blue) part>> [[psysml:fe63b1e8-840a-4f2e-b06a-2ce986f19d03 ]] {\r\n",
       "}\r\n",
       "E3 - -|> E2 [[psysml:6495a820-e8c0-4129-af26-6722c3b7b9e6 ]] \r\n",
       "E5 - -|> E2 [[psysml:bd00e4e7-d183-497a-b9f8-56660fc51e3e ]] \r\n",
       "E5 )- ->> E6 [[psysml:3ec706da-d65f-4ef5-8a1f-1e1b5df7e7c6 ]] : <<variant>>\r\n",
       "E7 - -:|> E3 [[psysml:9cf32953-475b-4011-b1f8-e7f09d5ce449 ]] \r\n",
       "E8 - -:|> E2 [[psysml:d1a9bfbc-b159-49c1-a5ca-956a4881ee49 ]] \r\n",
       "E8 )- ->> E9 [[psysml:4574f674-7c12-4143-bfb7-6a6844a72e64 ]] : <<variant>>\r\n",
       "E10 - -:|> E2 [[psysml:bd829215-07d4-45cb-8fe9-60748d4dd682 ]] \r\n",
       "}\r\n",
       "@enduml\r\n",
       "\n",
       "PlantUML version 1.2020.13(Sat Jun 13 12:26:38 UTC 2020)\n",
       "(EPL source distribution)\n",
       "Java Runtime: OpenJDK Runtime Environment\n",
       "JVM: OpenJDK 64-Bit Server VM\n",
       "Default Encoding: UTF-8\n",
       "Language: en\n",
       "Country: null\n",
       "--></g></svg>"
      ]
     },
     "execution_count": 51,
     "metadata": {},
     "output_type": "execute_result"
    }
   ],
   "source": [
    "%viz --style=\"ORTHOLINE\" --view=\"Default\" \"VariabilityTest\""
   ]
  },
  {
   "cell_type": "code",
   "execution_count": 52,
   "id": "9456127e",
   "metadata": {
    "execution": {
     "iopub.execute_input": "2021-08-04T06:26:52.319220Z",
     "iopub.status.busy": "2021-08-04T06:26:52.318813Z",
     "iopub.status.idle": "2021-08-04T06:26:52.360746Z",
     "shell.execute_reply": "2021-08-04T06:26:52.359371Z"
    }
   },
   "outputs": [
    {
     "data": {
      "image/svg+xml": [
       "<?xml version=\"1.0\" encoding=\"UTF-8\" standalone=\"no\"?><svg xmlns=\"http://www.w3.org/2000/svg\" xmlns:xlink=\"http://www.w3.org/1999/xlink\" contentScriptType=\"application/ecmascript\" contentStyleType=\"text/css\" height=\"401px\" preserveAspectRatio=\"none\" style=\"width:419px;height:401px;\" version=\"1.1\" viewBox=\"0 0 419 401\" width=\"419px\" zoomAndPan=\"magnify\"><defs/><g><!--MD5=[fbc87193dbaf4d95561dea2c320d4a47]\n",
       "cluster E1--><a href=\"psysml:6e13bc12-600f-4176-9ee3-c77c18f0da6f\" target=\"_top\" title=\"psysml:6e13bc12-600f-4176-9ee3-c77c18f0da6f\" xlink:actuate=\"onRequest\" xlink:href=\"psysml:6e13bc12-600f-4176-9ee3-c77c18f0da6f\" xlink:show=\"new\" xlink:title=\"psysml:6e13bc12-600f-4176-9ee3-c77c18f0da6f\" xlink:type=\"simple\"><polygon fill=\"#FFFFFF\" points=\"16,6,134,6,141,28.2969,397,28.2969,397,389,16,389,16,6\" style=\"stroke: #000000; stroke-width: 1.5;\"/><line style=\"stroke: #000000; stroke-width: 1.5;\" x1=\"16\" x2=\"141\" y1=\"28.2969\" y2=\"28.2969\"/><text fill=\"#000000\" font-family=\"sans-serif\" font-size=\"14\" font-weight=\"bold\" lengthAdjust=\"spacingAndGlyphs\" textLength=\"112\" x=\"20\" y=\"20.9951\">VariabilityTest</text></a><!--MD5=[b4997ac47864f28c2f74865a473b2911]\n",
       "class E2--><a href=\"psysml:a47e4883-53c6-48e5-9729-358fb18738b5\" target=\"_top\" title=\"psysml:a47e4883-53c6-48e5-9729-358fb18738b5\" xlink:actuate=\"onRequest\" xlink:href=\"psysml:a47e4883-53c6-48e5-9729-358fb18738b5\" xlink:show=\"new\" xlink:title=\"psysml:a47e4883-53c6-48e5-9729-358fb18738b5\" xlink:type=\"simple\"><rect fill=\"#FFFFFF\" height=\"75.5469\" id=\"E2\" style=\"stroke: #383838; stroke-width: 1.5;\" width=\"66\" x=\"166\" y=\"291\"/><text fill=\"#000000\" font-family=\"sans-serif\" font-size=\"12\" font-style=\"italic\" lengthAdjust=\"spacingAndGlyphs\" textLength=\"64\" x=\"167\" y=\"307.1387\">«part def»</text><text fill=\"#000000\" font-family=\"sans-serif\" font-size=\"12\" lengthAdjust=\"spacingAndGlyphs\" textLength=\"8\" x=\"195\" y=\"321.1074\">P</text><line style=\"stroke: #383838; stroke-width: 1.5;\" x1=\"167\" x2=\"231\" y1=\"328.9375\" y2=\"328.9375\"/><text fill=\"#000000\" font-family=\"sans-serif\" font-size=\"11\" lengthAdjust=\"spacingAndGlyphs\" textLength=\"7\" x=\"172\" y=\"359.9526\">a</text><line style=\"stroke: #383838; stroke-width: 1.0;\" x1=\"167\" x2=\"171.5\" y1=\"343.3398\" y2=\"343.3398\"/><text fill=\"#000000\" font-family=\"sans-serif\" font-size=\"11\" lengthAdjust=\"spacingAndGlyphs\" textLength=\"55\" x=\"171.5\" y=\"346.6479\">attributes</text><line style=\"stroke: #383838; stroke-width: 1.0;\" x1=\"226.5\" x2=\"231\" y1=\"343.3398\" y2=\"343.3398\"/></a><!--MD5=[09b614a08d8cba4a07c9adeb5e0fee81]\n",
       "class E3--><a href=\"psysml:64152dcd-188c-4285-9d2f-82b4222731ff\" target=\"_top\" title=\"psysml:64152dcd-188c-4285-9d2f-82b4222731ff\" xlink:actuate=\"onRequest\" xlink:href=\"psysml:64152dcd-188c-4285-9d2f-82b4222731ff\" xlink:show=\"new\" xlink:title=\"psysml:64152dcd-188c-4285-9d2f-82b4222731ff\" xlink:type=\"simple\"><rect fill=\"#FFFFFF\" height=\"45.9375\" id=\"E3\" style=\"stroke: #383838; stroke-width: 1.5;\" width=\"66\" x=\"137\" y=\"155\"/><text fill=\"#000000\" font-family=\"sans-serif\" font-size=\"12\" font-style=\"italic\" lengthAdjust=\"spacingAndGlyphs\" textLength=\"64\" x=\"138\" y=\"171.1387\">«part def»</text><text fill=\"#000000\" font-family=\"sans-serif\" font-size=\"12\" lengthAdjust=\"spacingAndGlyphs\" textLength=\"9\" x=\"165.5\" y=\"185.1074\">Q</text><line style=\"stroke: #383838; stroke-width: 1.5;\" x1=\"138\" x2=\"202\" y1=\"192.9375\" y2=\"192.9375\"/></a><!--MD5=[ebbe1d658d1005bcc118a6aa81145e00]\n",
       "class E4--><a href=\"psysml:6204c3f0-143a-45cc-ac58-9ea86a3a8ea6\" target=\"_top\" title=\"psysml:6204c3f0-143a-45cc-ac58-9ea86a3a8ea6\" xlink:actuate=\"onRequest\" xlink:href=\"psysml:6204c3f0-143a-45cc-ac58-9ea86a3a8ea6\" xlink:show=\"new\" xlink:title=\"psysml:6204c3f0-143a-45cc-ac58-9ea86a3a8ea6\" xlink:type=\"simple\"><rect fill=\"#FFFFFF\" height=\"45.9375\" id=\"E4\" style=\"stroke: #383838; stroke-width: 1.5;\" width=\"95\" x=\"255.5\" y=\"41\"/><text fill=\"#000000\" font-family=\"sans-serif\" font-size=\"12\" font-style=\"italic\" lengthAdjust=\"spacingAndGlyphs\" textLength=\"93\" x=\"256.5\" y=\"57.1387\">«attribute def»</text><text fill=\"#000000\" font-family=\"sans-serif\" font-size=\"12\" lengthAdjust=\"spacingAndGlyphs\" textLength=\"8\" x=\"299\" y=\"71.1074\">B</text><line style=\"stroke: #383838; stroke-width: 1.5;\" x1=\"256.5\" x2=\"349.5\" y1=\"78.9375\" y2=\"78.9375\"/></a><!--MD5=[270fce915f116d4de14055a7c1d9a0f3]\n",
       "class E5--><a href=\"psysml:58826ca2-a740-4eaa-a71e-521b590388a3\" target=\"_top\" title=\"psysml:58826ca2-a740-4eaa-a71e-521b590388a3\" xlink:actuate=\"onRequest\" xlink:href=\"psysml:58826ca2-a740-4eaa-a71e-521b590388a3\" xlink:show=\"new\" xlink:title=\"psysml:58826ca2-a740-4eaa-a71e-521b590388a3\" xlink:type=\"simple\"><rect fill=\"#FFFFFF\" height=\"45.9375\" id=\"E5\" style=\"stroke: #383838; stroke-width: 1.5;\" width=\"66\" x=\"315\" y=\"155\"/><text fill=\"#000000\" font-family=\"sans-serif\" font-size=\"12\" font-style=\"italic\" lengthAdjust=\"spacingAndGlyphs\" textLength=\"64\" x=\"316\" y=\"171.1387\">«part def»</text><text fill=\"#000000\" font-family=\"sans-serif\" font-size=\"12\" lengthAdjust=\"spacingAndGlyphs\" textLength=\"8\" x=\"344\" y=\"185.1074\">V</text><line style=\"stroke: #383838; stroke-width: 1.5;\" x1=\"316\" x2=\"380\" y1=\"192.9375\" y2=\"192.9375\"/></a><!--MD5=[60a26617385b1d2d0262a64233df1f8d]\n",
       "class E6--><a href=\"psysml:c2df0e2e-5a66-4a2b-abfc-b3b4dd7dd2c5\" target=\"_top\" title=\"psysml:c2df0e2e-5a66-4a2b-abfc-b3b4dd7dd2c5\" xlink:actuate=\"onRequest\" xlink:href=\"psysml:c2df0e2e-5a66-4a2b-abfc-b3b4dd7dd2c5\" xlink:show=\"new\" xlink:title=\"psysml:c2df0e2e-5a66-4a2b-abfc-b3b4dd7dd2c5\" xlink:type=\"simple\"><rect fill=\"#FFFFFF\" height=\"88.3516\" id=\"E6\" rx=\"10\" ry=\"10\" style=\"stroke: #383838; stroke-width: 1.5;\" width=\"63\" x=\"287.5\" y=\"285\"/><text fill=\"#000000\" font-family=\"sans-serif\" font-size=\"12\" font-style=\"italic\" lengthAdjust=\"spacingAndGlyphs\" textLength=\"40\" x=\"299\" y=\"301.1387\">«part»</text><text fill=\"#000000\" font-family=\"sans-serif\" font-size=\"12\" lengthAdjust=\"spacingAndGlyphs\" textLength=\"23\" x=\"307.5\" y=\"315.1074\">x: Q</text><line style=\"stroke: #383838; stroke-width: 1.5;\" x1=\"288.5\" x2=\"349.5\" y1=\"322.9375\" y2=\"322.9375\"/><text fill=\"#000000\" font-family=\"sans-serif\" font-size=\"11\" lengthAdjust=\"spacingAndGlyphs\" textLength=\"23\" x=\"293.5\" y=\"353.9526\">b: B</text><text fill=\"#000000\" font-family=\"sans-serif\" font-size=\"11\" font-style=\"italic\" lengthAdjust=\"spacingAndGlyphs\" textLength=\"44\" x=\"293.5\" y=\"366.7573\">:&gt;&gt;P::a</text><line style=\"stroke: #383838; stroke-width: 1.0;\" x1=\"288.5\" x2=\"291.5\" y1=\"337.3398\" y2=\"337.3398\"/><text fill=\"#000000\" font-family=\"sans-serif\" font-size=\"11\" lengthAdjust=\"spacingAndGlyphs\" textLength=\"55\" x=\"291.5\" y=\"340.6479\">attributes</text><line style=\"stroke: #383838; stroke-width: 1.0;\" x1=\"346.5\" x2=\"349.5\" y1=\"337.3398\" y2=\"337.3398\"/></a><!--MD5=[2156ba9850f5573cc1fc38a6a4b2f02b]\n",
       "class E7--><a href=\"psysml:d5aa7800-4c4d-4a74-9f82-8c5d7377a367\" target=\"_top\" title=\"psysml:d5aa7800-4c4d-4a74-9f82-8c5d7377a367\" xlink:actuate=\"onRequest\" xlink:href=\"psysml:d5aa7800-4c4d-4a74-9f82-8c5d7377a367\" xlink:show=\"new\" xlink:title=\"psysml:d5aa7800-4c4d-4a74-9f82-8c5d7377a367\" xlink:type=\"simple\"><rect fill=\"#FFFFFF\" height=\"45.9375\" id=\"E7\" rx=\"10\" ry=\"10\" style=\"stroke: #383838; stroke-width: 1.5;\" width=\"42\" x=\"149\" y=\"41\"/><text fill=\"#000000\" font-family=\"sans-serif\" font-size=\"12\" font-style=\"italic\" lengthAdjust=\"spacingAndGlyphs\" textLength=\"40\" x=\"150\" y=\"57.1387\">«part»</text><text fill=\"#000000\" font-family=\"sans-serif\" font-size=\"12\" lengthAdjust=\"spacingAndGlyphs\" textLength=\"25\" x=\"157.5\" y=\"71.1074\">q: Q</text><line style=\"stroke: #383838; stroke-width: 1.5;\" x1=\"150\" x2=\"190\" y1=\"78.9375\" y2=\"78.9375\"/></a><!--MD5=[b9389687b975829384b498ac4b7476b2]\n",
       "class E8--><a href=\"psysml:d7b3804f-80e3-4381-979e-bf8e2501fba8\" target=\"_top\" title=\"psysml:d7b3804f-80e3-4381-979e-bf8e2501fba8\" xlink:actuate=\"onRequest\" xlink:href=\"psysml:d7b3804f-80e3-4381-979e-bf8e2501fba8\" xlink:show=\"new\" xlink:title=\"psysml:d7b3804f-80e3-4381-979e-bf8e2501fba8\" xlink:type=\"simple\"><rect fill=\"#FFFFFF\" height=\"59.9063\" id=\"E8\" rx=\"10\" ry=\"10\" style=\"stroke: #383838; stroke-width: 1.5;\" width=\"70\" x=\"32\" y=\"148\"/><text fill=\"#000000\" font-family=\"sans-serif\" font-size=\"12\" font-style=\"italic\" lengthAdjust=\"spacingAndGlyphs\" textLength=\"68\" x=\"33\" y=\"164.1387\">«variation»</text><text fill=\"#000000\" font-family=\"sans-serif\" font-size=\"12\" font-style=\"italic\" lengthAdjust=\"spacingAndGlyphs\" textLength=\"40\" x=\"47\" y=\"178.1074\">«part»</text><text fill=\"#000000\" font-family=\"sans-serif\" font-size=\"12\" lengthAdjust=\"spacingAndGlyphs\" textLength=\"22\" x=\"56\" y=\"192.0762\">v: P</text><line style=\"stroke: #383838; stroke-width: 1.5;\" x1=\"33\" x2=\"101\" y1=\"199.9063\" y2=\"199.9063\"/></a><!--MD5=[fd4143e9d270a159db93a4ea2a975926]\n",
       "class E9--><a href=\"psysml:aeeab6cc-3339-44ed-a45c-f65a5d97c376\" target=\"_top\" title=\"psysml:aeeab6cc-3339-44ed-a45c-f65a5d97c376\" xlink:actuate=\"onRequest\" xlink:href=\"psysml:aeeab6cc-3339-44ed-a45c-f65a5d97c376\" xlink:show=\"new\" xlink:title=\"psysml:aeeab6cc-3339-44ed-a45c-f65a5d97c376\" xlink:type=\"simple\"><rect fill=\"#FFFFFF\" height=\"88.3516\" id=\"E9\" rx=\"10\" ry=\"10\" style=\"stroke: #383838; stroke-width: 1.5;\" width=\"77\" x=\"32.5\" y=\"285\"/><text fill=\"#000000\" font-family=\"sans-serif\" font-size=\"12\" font-style=\"italic\" lengthAdjust=\"spacingAndGlyphs\" textLength=\"75\" x=\"33.5\" y=\"301.1387\">«reference»</text><text fill=\"#000000\" font-family=\"sans-serif\" font-size=\"12\" lengthAdjust=\"spacingAndGlyphs\" textLength=\"8\" x=\"67\" y=\"315.1074\">q</text><line style=\"stroke: #383838; stroke-width: 1.5;\" x1=\"33.5\" x2=\"108.5\" y1=\"322.9375\" y2=\"322.9375\"/><text fill=\"#000000\" font-family=\"sans-serif\" font-size=\"11\" lengthAdjust=\"spacingAndGlyphs\" textLength=\"23\" x=\"38.5\" y=\"353.9526\">b: B</text><text fill=\"#000000\" font-family=\"sans-serif\" font-size=\"11\" font-style=\"italic\" lengthAdjust=\"spacingAndGlyphs\" textLength=\"44\" x=\"38.5\" y=\"366.7573\">:&gt;&gt;P::a</text><line style=\"stroke: #383838; stroke-width: 1.0;\" x1=\"33.5\" x2=\"43.5\" y1=\"337.3398\" y2=\"337.3398\"/><text fill=\"#000000\" font-family=\"sans-serif\" font-size=\"11\" lengthAdjust=\"spacingAndGlyphs\" textLength=\"55\" x=\"43.5\" y=\"340.6479\">attributes</text><line style=\"stroke: #383838; stroke-width: 1.0;\" x1=\"98.5\" x2=\"108.5\" y1=\"337.3398\" y2=\"337.3398\"/></a><!--MD5=[96f4274e9e20536e775497830990834d]\n",
       "class E10--><a href=\"psysml:fe63b1e8-840a-4f2e-b06a-2ce986f19d03\" target=\"_top\" title=\"psysml:fe63b1e8-840a-4f2e-b06a-2ce986f19d03\" xlink:actuate=\"onRequest\" xlink:href=\"psysml:fe63b1e8-840a-4f2e-b06a-2ce986f19d03\" xlink:show=\"new\" xlink:title=\"psysml:fe63b1e8-840a-4f2e-b06a-2ce986f19d03\" xlink:type=\"simple\"><rect fill=\"#FFFFFF\" height=\"45.9375\" id=\"E10\" rx=\"10\" ry=\"10\" style=\"stroke: #383838; stroke-width: 1.5;\" width=\"42\" x=\"238\" y=\"155\"/><text fill=\"#000000\" font-family=\"sans-serif\" font-size=\"12\" font-style=\"italic\" lengthAdjust=\"spacingAndGlyphs\" textLength=\"40\" x=\"239\" y=\"171.1387\">«part»</text><text fill=\"#000000\" font-family=\"sans-serif\" font-size=\"12\" lengthAdjust=\"spacingAndGlyphs\" textLength=\"22\" x=\"248\" y=\"185.1074\">y: P</text><line style=\"stroke: #383838; stroke-width: 1.5;\" x1=\"239\" x2=\"279\" y1=\"192.9375\" y2=\"192.9375\"/></a><!--MD5=[05d275557350bfb9b23a4ef7222b4c39]\n",
       "link E3 to E2--><a href=\"psysml:6495a820-e8c0-4129-af26-6722c3b7b9e6\" target=\"_top\" title=\"psysml:6495a820-e8c0-4129-af26-6722c3b7b9e6\" xlink:actuate=\"onRequest\" xlink:href=\"psysml:6495a820-e8c0-4129-af26-6722c3b7b9e6\" xlink:show=\"new\" xlink:title=\"psysml:6495a820-e8c0-4129-af26-6722c3b7b9e6\" xlink:type=\"simple\"><path d=\"M190.67,201.26 C190.67,201.26 190.67,270.73 190.67,270.73 \" fill=\"none\" id=\"E3-&gt;E2\" style=\"stroke: #383838; stroke-width: 1.0;\"/><polygon fill=\"none\" points=\"197.67,270.73,190.67,290.73,183.67,270.73,197.67,270.73\" style=\"stroke: #383838; stroke-width: 1.0;\"/></a><!--MD5=[15ebcb19ae302d9b601edb458606d402]\n",
       "link E5 to E2--><a href=\"psysml:bd00e4e7-d183-497a-b9f8-56660fc51e3e\" target=\"_top\" title=\"psysml:bd00e4e7-d183-497a-b9f8-56660fc51e3e\" xlink:actuate=\"onRequest\" xlink:href=\"psysml:bd00e4e7-d183-497a-b9f8-56660fc51e3e\" xlink:show=\"new\" xlink:title=\"psysml:bd00e4e7-d183-497a-b9f8-56660fc51e3e\" xlink:type=\"simple\"><path d=\"M326.83,201.22 C326.83,202.93 326.83,204 326.83,204 C326.83,204 222.33,204 222.33,204 C222.33,204 222.33,270.82 222.33,270.82 \" fill=\"none\" id=\"E5-&gt;E2\" style=\"stroke: #383838; stroke-width: 1.0;\"/><polygon fill=\"none\" points=\"229.33,270.82,222.33,290.82,215.33,270.82,229.33,270.82\" style=\"stroke: #383838; stroke-width: 1.0;\"/></a><!--MD5=[9120cf2e5df3bff93db8f754bbbc09b4]\n",
       "link E5 to E6--><a href=\"psysml:3ec706da-d65f-4ef5-8a1f-1e1b5df7e7c6\" target=\"_top\" title=\"psysml:3ec706da-d65f-4ef5-8a1f-1e1b5df7e7c6\" xlink:actuate=\"onRequest\" xlink:href=\"psysml:3ec706da-d65f-4ef5-8a1f-1e1b5df7e7c6\" xlink:show=\"new\" xlink:title=\"psysml:3ec706da-d65f-4ef5-8a1f-1e1b5df7e7c6\" xlink:type=\"simple\"><path d=\"M338.67,211.26 C338.67,211.26 338.67,274.72 338.67,274.72 \" fill=\"none\" id=\"E5-E6\" style=\"stroke: #383838; stroke-width: 1.0;\"/><polygon fill=\"#383838\" points=\"338.67,284.72,341.67,276.72,335.67,276.72,338.67,284.72\" style=\"stroke: #383838; stroke-width: 1.0;\"/><path d=\"M330.2128,204.3382 A9,9 0 0 0 347.1272 204.3382\" fill=\"none\" style=\"stroke: #383838; stroke-width: 1.5;\"/><text fill=\"#000000\" font-family=\"sans-serif\" font-size=\"13\" lengthAdjust=\"spacingAndGlyphs\" textLength=\"60\" x=\"320\" y=\"251.0669\">«variant»</text></a><!--MD5=[14ccda38c055a5c0da953d572bc50960]\n",
       "link E7 to E3--><a href=\"psysml:9cf32953-475b-4011-b1f8-e7f09d5ce449\" target=\"_top\" title=\"psysml:9cf32953-475b-4011-b1f8-e7f09d5ce449\" xlink:actuate=\"onRequest\" xlink:href=\"psysml:9cf32953-475b-4011-b1f8-e7f09d5ce449\" xlink:show=\"new\" xlink:title=\"psysml:9cf32953-475b-4011-b1f8-e7f09d5ce449\" xlink:type=\"simple\"><path d=\"M170,87.07 C170,87.07 170,134.96 170,134.96 \" fill=\"none\" id=\"E7-&gt;E3\" style=\"stroke: #383838; stroke-width: 1.0;\"/><polygon fill=\"#FFFFFF\" points=\"170,154.96,163,135.96,177,135.96,170,154.96\" style=\"stroke: #383838; stroke-width: 1.0;\"/><ellipse cx=\"165\" cy=\"130.26\" fill=\"#383838\" rx=\"2\" ry=\"2\" style=\"stroke: #383838; stroke-width: 1.0;\"/><ellipse cx=\"175\" cy=\"130.26\" fill=\"#383838\" rx=\"2\" ry=\"2\" style=\"stroke: #383838; stroke-width: 1.0;\"/></a><!--MD5=[f1f3f9f2fc535e6147756cb86a7f2e32]\n",
       "link E8 to E2--><a href=\"psysml:d1a9bfbc-b159-49c1-a5ca-956a4881ee49\" target=\"_top\" title=\"psysml:d1a9bfbc-b159-49c1-a5ca-956a4881ee49\" xlink:actuate=\"onRequest\" xlink:href=\"psysml:d1a9bfbc-b159-49c1-a5ca-956a4881ee49\" xlink:show=\"new\" xlink:title=\"psysml:d1a9bfbc-b159-49c1-a5ca-956a4881ee49\" xlink:type=\"simple\"><path d=\"M102.23,206 C134.84,206 178.33,206 178.33,206 C178.33,206 178.33,270.76 178.33,270.76 \" fill=\"none\" id=\"E8-&gt;E2\" style=\"stroke: #383838; stroke-width: 1.0;\"/><polygon fill=\"#FFFFFF\" points=\"178.33,290.76,171.33,271.76,185.33,271.76,178.33,290.76\" style=\"stroke: #383838; stroke-width: 1.0;\"/><ellipse cx=\"173.33\" cy=\"266.06\" fill=\"#383838\" rx=\"2\" ry=\"2\" style=\"stroke: #383838; stroke-width: 1.0;\"/><ellipse cx=\"183.33\" cy=\"266.06\" fill=\"#383838\" rx=\"2\" ry=\"2\" style=\"stroke: #383838; stroke-width: 1.0;\"/></a><!--MD5=[ed10624c06dd9a4fa49ccf290e8b16a8]\n",
       "link E8 to E9--><a href=\"psysml:4574f674-7c12-4143-bfb7-6a6844a72e64\" target=\"_top\" title=\"psysml:4574f674-7c12-4143-bfb7-6a6844a72e64\" xlink:actuate=\"onRequest\" xlink:href=\"psysml:4574f674-7c12-4143-bfb7-6a6844a72e64\" xlink:show=\"new\" xlink:title=\"psysml:4574f674-7c12-4143-bfb7-6a6844a72e64\" xlink:type=\"simple\"><path d=\"M67.25,218.19 C67.25,218.19 67.25,274.83 67.25,274.83 \" fill=\"none\" id=\"E8-E9\" style=\"stroke: #383838; stroke-width: 1.0;\"/><polygon fill=\"#383838\" points=\"67.25,284.83,70.25,276.83,64.25,276.83,67.25,284.83\" style=\"stroke: #383838; stroke-width: 1.0;\"/><path d=\"M58.7928,211.2682 A9,9 0 0 0 75.7072 211.2682\" fill=\"none\" style=\"stroke: #383838; stroke-width: 1.5;\"/><text fill=\"#000000\" font-family=\"sans-serif\" font-size=\"13\" lengthAdjust=\"spacingAndGlyphs\" textLength=\"60\" x=\"70\" y=\"251.0669\">«variant»</text></a><!--MD5=[0f36bececdf0dff6e600d6f64214b0f1]\n",
       "link E10 to E2--><a href=\"psysml:bd829215-07d4-45cb-8fe9-60748d4dd682\" target=\"_top\" title=\"psysml:bd829215-07d4-45cb-8fe9-60748d4dd682\" xlink:actuate=\"onRequest\" xlink:href=\"psysml:bd829215-07d4-45cb-8fe9-60748d4dd682\" xlink:show=\"new\" xlink:title=\"psysml:bd829215-07d4-45cb-8fe9-60748d4dd682\" xlink:type=\"simple\"><path d=\"M237.73,178 C225.55,178 212.67,178 212.67,178 C212.67,178 212.67,270.9 212.67,270.9 \" fill=\"none\" id=\"E10-&gt;E2\" style=\"stroke: #383838; stroke-width: 1.0;\"/><polygon fill=\"#FFFFFF\" points=\"212.67,290.9,205.67,271.9,219.67,271.9,212.67,290.9\" style=\"stroke: #383838; stroke-width: 1.0;\"/><ellipse cx=\"207.67\" cy=\"266.2\" fill=\"#383838\" rx=\"2\" ry=\"2\" style=\"stroke: #383838; stroke-width: 1.0;\"/><ellipse cx=\"217.67\" cy=\"266.2\" fill=\"#383838\" rx=\"2\" ry=\"2\" style=\"stroke: #383838; stroke-width: 1.0;\"/></a><!--MD5=[4f07bffb6a715e84fbfef5cc7cec2c12]\n",
       "@startuml\r\n",
       "skinparam linetype ortho\r\n",
       "skinparam monochrome true\r\n",
       "skinparam classbackgroundcolor white\r\n",
       "skinparam shadowing false\r\n",
       "skinparam wrapWidth 300\r\n",
       "hide circle\r\n",
       "\r\n",
       "package \"VariabilityTest\" as E1  [[psysml:6e13bc12-600f-4176-9ee3-c77c18f0da6f ]]  {\r\n",
       "comp def \"P\" as E2  <<(T,blue) part def>> [[psysml:a47e4883-53c6-48e5-9729-358fb18738b5 ]] {\r\n",
       "- - attributes - -\r\n",
       "a\r\n",
       "}\r\n",
       "comp def \"Q\" as E3  <<(T,blue) part def>> [[psysml:64152dcd-188c-4285-9d2f-82b4222731ff ]] {\r\n",
       "}\r\n",
       "comp def \"B\" as E4  <<(T,blue) attribute def>> [[psysml:6204c3f0-143a-45cc-ac58-9ea86a3a8ea6 ]] {\r\n",
       "}\r\n",
       "comp def \"V\" as E5  <<(T,blue) part def>> [[psysml:58826ca2-a740-4eaa-a71e-521b590388a3 ]] {\r\n",
       "}\r\n",
       "comp usage \"x: Q\" as E6  <<(T,blue) part>> [[psysml:c2df0e2e-5a66-4a2b-abfc-b3b4dd7dd2c5 ]] {\r\n",
       "- - attributes - -\r\n",
       "b: B\\n//:>>P::a// \r\n",
       "}\r\n",
       "comp usage \"q: Q\" as E7  <<(T,blue) part>> [[psysml:d5aa7800-4c4d-4a74-9f82-8c5d7377a367 ]] {\r\n",
       "}\r\n",
       "comp usage \"v: P\" as E8  <<variation>>\\n <<(T,blue) part>> [[psysml:d7b3804f-80e3-4381-979e-bf8e2501fba8 ]] {\r\n",
       "}\r\n",
       "comp usage \"q\" as E9  <<(T,blue) reference>> [[psysml:aeeab6cc-3339-44ed-a45c-f65a5d97c376 ]] {\r\n",
       "- - attributes - -\r\n",
       "b: B\\n//:>>P::a// \r\n",
       "}\r\n",
       "comp usage \"y: P\" as E10  <<(T,blue) part>> [[psysml:fe63b1e8-840a-4f2e-b06a-2ce986f19d03 ]] {\r\n",
       "}\r\n",
       "E3 - -|> E2 [[psysml:6495a820-e8c0-4129-af26-6722c3b7b9e6 ]] \r\n",
       "E5 - -|> E2 [[psysml:bd00e4e7-d183-497a-b9f8-56660fc51e3e ]] \r\n",
       "E5 )- ->> E6 [[psysml:3ec706da-d65f-4ef5-8a1f-1e1b5df7e7c6 ]] : <<variant>>\r\n",
       "E7 - -:|> E3 [[psysml:9cf32953-475b-4011-b1f8-e7f09d5ce449 ]] \r\n",
       "E8 - -:|> E2 [[psysml:d1a9bfbc-b159-49c1-a5ca-956a4881ee49 ]] \r\n",
       "E8 )- ->> E9 [[psysml:4574f674-7c12-4143-bfb7-6a6844a72e64 ]] : <<variant>>\r\n",
       "E10 - -:|> E2 [[psysml:bd829215-07d4-45cb-8fe9-60748d4dd682 ]] \r\n",
       "}\r\n",
       "@enduml\r\n",
       "\n",
       "PlantUML version 1.2020.13(Sat Jun 13 12:26:38 UTC 2020)\n",
       "(EPL source distribution)\n",
       "Java Runtime: OpenJDK Runtime Environment\n",
       "JVM: OpenJDK 64-Bit Server VM\n",
       "Default Encoding: UTF-8\n",
       "Language: en\n",
       "Country: null\n",
       "--></g></svg>"
      ]
     },
     "execution_count": 52,
     "metadata": {},
     "output_type": "execute_result"
    }
   ],
   "source": [
    "%viz --style=\"ORTHOLINE\" --view=\"Tree\" \"VariabilityTest\""
   ]
  },
  {
   "cell_type": "code",
   "execution_count": 53,
   "id": "e3132391",
   "metadata": {
    "execution": {
     "iopub.execute_input": "2021-08-04T06:26:52.409993Z",
     "iopub.status.busy": "2021-08-04T06:26:52.409600Z",
     "iopub.status.idle": "2021-08-04T06:26:52.413029Z",
     "shell.execute_reply": "2021-08-04T06:26:52.412655Z"
    }
   },
   "outputs": [
    {
     "data": {
      "image/svg+xml": [
       "<?xml version=\"1.0\" encoding=\"UTF-8\" standalone=\"no\"?><svg xmlns=\"http://www.w3.org/2000/svg\" xmlns:xlink=\"http://www.w3.org/1999/xlink\" contentScriptType=\"application/ecmascript\" contentStyleType=\"text/css\" height=\"12px\" preserveAspectRatio=\"none\" style=\"width:12px;height:12px;\" version=\"1.1\" viewBox=\"0 0 12 12\" width=\"12px\" zoomAndPan=\"magnify\"><defs/><g><!--MD5=[97d6f38768b311333d388e66b2b27985]\n",
       "@startuml\r\n",
       "skinparam linetype ortho\r\n",
       "skinparam monochrome true\r\n",
       "skinparam classbackgroundcolor white\r\n",
       "skinparam shadowing false\r\n",
       "skinparam wrapWidth 300\r\n",
       "hide circle\r\n",
       "\r\n",
       "@enduml\r\n",
       "\n",
       "PlantUML version 1.2020.13(Sat Jun 13 12:26:38 UTC 2020)\n",
       "(EPL source distribution)\n",
       "Java Runtime: OpenJDK Runtime Environment\n",
       "JVM: OpenJDK 64-Bit Server VM\n",
       "Default Encoding: UTF-8\n",
       "Language: en\n",
       "Country: null\n",
       "--></g></svg>"
      ]
     },
     "execution_count": 53,
     "metadata": {},
     "output_type": "execute_result"
    }
   ],
   "source": [
    "%viz --style=\"ORTHOLINE\" --view=\"State\" \"VariabilityTest\""
   ]
  },
  {
   "cell_type": "code",
   "execution_count": 54,
   "id": "54680a20",
   "metadata": {
    "execution": {
     "iopub.execute_input": "2021-08-04T06:26:52.462836Z",
     "iopub.status.busy": "2021-08-04T06:26:52.462441Z",
     "iopub.status.idle": "2021-08-04T06:26:52.505769Z",
     "shell.execute_reply": "2021-08-04T06:26:52.504421Z"
    }
   },
   "outputs": [
    {
     "data": {
      "image/svg+xml": [
       "<?xml version=\"1.0\" encoding=\"UTF-8\" standalone=\"no\"?><svg xmlns=\"http://www.w3.org/2000/svg\" xmlns:xlink=\"http://www.w3.org/1999/xlink\" contentScriptType=\"application/ecmascript\" contentStyleType=\"text/css\" height=\"427px\" preserveAspectRatio=\"none\" style=\"width:783px;height:427px;\" version=\"1.1\" viewBox=\"0 0 783 427\" width=\"783px\" zoomAndPan=\"magnify\"><defs/><g><!--MD5=[fbc87193dbaf4d95561dea2c320d4a47]\n",
       "cluster E1--><a href=\"psysml:6e13bc12-600f-4176-9ee3-c77c18f0da6f\" target=\"_top\" title=\"psysml:6e13bc12-600f-4176-9ee3-c77c18f0da6f\" xlink:actuate=\"onRequest\" xlink:href=\"psysml:6e13bc12-600f-4176-9ee3-c77c18f0da6f\" xlink:show=\"new\" xlink:title=\"psysml:6e13bc12-600f-4176-9ee3-c77c18f0da6f\" xlink:type=\"simple\"><polygon fill=\"#FFFFFF\" points=\"16,6,134,6,141,28.2969,761,28.2969,761,415,16,415,16,6\" style=\"stroke: #000000; stroke-width: 1.5;\"/><line style=\"stroke: #000000; stroke-width: 1.5;\" x1=\"16\" x2=\"141\" y1=\"28.2969\" y2=\"28.2969\"/><text fill=\"#000000\" font-family=\"sans-serif\" font-size=\"14\" font-weight=\"bold\" lengthAdjust=\"spacingAndGlyphs\" textLength=\"112\" x=\"20\" y=\"20.9951\">VariabilityTest</text></a><!--MD5=[e4f7fae6ed58524ba242bb0b0d3be6b7]\n",
       "cluster E2--><a href=\"psysml:a47e4883-53c6-48e5-9729-358fb18738b5\" target=\"_top\" title=\"psysml:a47e4883-53c6-48e5-9729-358fb18738b5\" xlink:actuate=\"onRequest\" xlink:href=\"psysml:a47e4883-53c6-48e5-9729-358fb18738b5\" xlink:show=\"new\" xlink:title=\"psysml:a47e4883-53c6-48e5-9729-358fb18738b5\" xlink:type=\"simple\"><rect fill=\"#FFFFFF\" height=\"129\" id=\"E2\" style=\"stroke: #383838; stroke-width: 1.5;\" width=\"139\" x=\"424\" y=\"254\"/><rect fill=\"#F8F8F8\" height=\"37.9375\" style=\"stroke: #383838; stroke-width: 1.5;\" width=\"139\" x=\"424\" y=\"254\"/><text fill=\"#000000\" font-family=\"sans-serif\" font-size=\"12\" font-style=\"italic\" lengthAdjust=\"spacingAndGlyphs\" textLength=\"64\" x=\"461.5\" y=\"270.1387\">«part def»</text><text fill=\"#000000\" font-family=\"sans-serif\" font-size=\"12\" lengthAdjust=\"spacingAndGlyphs\" textLength=\"8\" x=\"489.5\" y=\"284.1074\">P</text></a><!--MD5=[14e3b0961a2654348d326746436168a1]\n",
       "cluster E6--><a href=\"psysml:58826ca2-a740-4eaa-a71e-521b590388a3\" target=\"_top\" title=\"psysml:58826ca2-a740-4eaa-a71e-521b590388a3\" xlink:actuate=\"onRequest\" xlink:href=\"psysml:58826ca2-a740-4eaa-a71e-521b590388a3\" xlink:show=\"new\" xlink:title=\"psysml:58826ca2-a740-4eaa-a71e-521b590388a3\" xlink:type=\"simple\"><rect fill=\"#FFFFFF\" height=\"157\" id=\"E6\" style=\"stroke: #383838; stroke-width: 1.5;\" width=\"131\" x=\"598\" y=\"57\"/><rect fill=\"#F8F8F8\" height=\"37.9375\" style=\"stroke: #383838; stroke-width: 1.5;\" width=\"131\" x=\"598\" y=\"57\"/><text fill=\"#000000\" font-family=\"sans-serif\" font-size=\"12\" font-style=\"italic\" lengthAdjust=\"spacingAndGlyphs\" textLength=\"64\" x=\"631.5\" y=\"73.1387\">«part def»</text><text fill=\"#000000\" font-family=\"sans-serif\" font-size=\"12\" lengthAdjust=\"spacingAndGlyphs\" textLength=\"8\" x=\"659.5\" y=\"87.1074\">V</text></a><!--MD5=[7f149f147074ac12df2cb0a7728a5fb0]\n",
       "cluster E9--><a href=\"psysml:d7b3804f-80e3-4381-979e-bf8e2501fba8\" target=\"_top\" title=\"psysml:d7b3804f-80e3-4381-979e-bf8e2501fba8\" xlink:actuate=\"onRequest\" xlink:href=\"psysml:d7b3804f-80e3-4381-979e-bf8e2501fba8\" xlink:show=\"new\" xlink:title=\"psysml:d7b3804f-80e3-4381-979e-bf8e2501fba8\" xlink:type=\"simple\"><rect fill=\"#FFFFFF\" height=\"139\" id=\"E9\" rx=\"10\" ry=\"10\" style=\"stroke: #383838; stroke-width: 1.5;\" width=\"110\" x=\"456\" y=\"74\"/><rect fill=\"#F8F8F8\" height=\"23.9688\" rx=\"10\" ry=\"10\" style=\"stroke: #F8F8F8; stroke-width: 1.5;\" width=\"110\" x=\"456\" y=\"74\"/><rect fill=\"#F8F8F8\" height=\"10\" style=\"stroke: #F8F8F8; stroke-width: 1.5;\" width=\"110\" x=\"456\" y=\"87.9688\"/><rect fill=\"none\" height=\"139\" id=\"E9\" rx=\"10\" ry=\"10\" style=\"stroke: #383838; stroke-width: 1.5;\" width=\"110\" x=\"456\" y=\"74\"/><text fill=\"#000000\" font-family=\"sans-serif\" font-size=\"12\" lengthAdjust=\"spacingAndGlyphs\" textLength=\"22\" x=\"500\" y=\"90.1387\">v: P</text><line style=\"stroke: #383838; stroke-width: 1.0;\" x1=\"456\" x2=\"566\" y1=\"97.9688\" y2=\"97.9688\"/></a><g id=\"E1.E5\"><a href=\"psysml:6204c3f0-143a-45cc-ac58-9ea86a3a8ea6\" target=\"_top\" title=\"psysml:6204c3f0-143a-45cc-ac58-9ea86a3a8ea6\" xlink:actuate=\"onRequest\" xlink:href=\"psysml:6204c3f0-143a-45cc-ac58-9ea86a3a8ea6\" xlink:show=\"new\" xlink:title=\"psysml:6204c3f0-143a-45cc-ac58-9ea86a3a8ea6\" xlink:type=\"simple\"><rect fill=\"#FFFFFF\" height=\"42.9375\" id=\"E5\" style=\"stroke: #383838; stroke-width: 1.5;\" width=\"100\" x=\"337\" y=\"131.5\"/><rect fill=\"#F8F8F8\" height=\"37.9375\" style=\"stroke: #383838; stroke-width: 1.5;\" width=\"100\" x=\"337\" y=\"131.5\"/><text fill=\"#000000\" font-family=\"sans-serif\" font-size=\"12\" font-style=\"italic\" lengthAdjust=\"spacingAndGlyphs\" textLength=\"93\" x=\"340.5\" y=\"147.6387\">«attribute def»</text><text fill=\"#000000\" font-family=\"sans-serif\" font-size=\"12\" lengthAdjust=\"spacingAndGlyphs\" textLength=\"8\" x=\"383\" y=\"161.6074\">B</text></a></g><!--MD5=[09b614a08d8cba4a07c9adeb5e0fee81]\n",
       "class E3--><a href=\"psysml:af83713f-f16b-4de7-b4a6-ecd5bab1fc22\" target=\"_top\" title=\"psysml:af83713f-f16b-4de7-b4a6-ecd5bab1fc22\" xlink:actuate=\"onRequest\" xlink:href=\"psysml:af83713f-f16b-4de7-b4a6-ecd5bab1fc22\" xlink:show=\"new\" xlink:title=\"psysml:af83713f-f16b-4de7-b4a6-ecd5bab1fc22\" xlink:type=\"simple\"><rect fill=\"#FFFFFF\" height=\"45.9375\" id=\"E3\" rx=\"10\" ry=\"10\" style=\"stroke: #383838; stroke-width: 1.5;\" width=\"71\" x=\"467.5\" y=\"313\"/><text fill=\"#000000\" font-family=\"sans-serif\" font-size=\"12\" font-style=\"italic\" lengthAdjust=\"spacingAndGlyphs\" textLength=\"69\" x=\"468.5\" y=\"329.1387\">«attribute»</text><text fill=\"#000000\" font-family=\"sans-serif\" font-size=\"12\" lengthAdjust=\"spacingAndGlyphs\" textLength=\"8\" x=\"499\" y=\"343.1074\">a</text><line style=\"stroke: #383838; stroke-width: 1.5;\" x1=\"468.5\" x2=\"537.5\" y1=\"350.9375\" y2=\"350.9375\"/></a><g id=\"E1.E4\"><a href=\"psysml:64152dcd-188c-4285-9d2f-82b4222731ff\" target=\"_top\" title=\"psysml:64152dcd-188c-4285-9d2f-82b4222731ff\" xlink:actuate=\"onRequest\" xlink:href=\"psysml:64152dcd-188c-4285-9d2f-82b4222731ff\" xlink:show=\"new\" xlink:title=\"psysml:64152dcd-188c-4285-9d2f-82b4222731ff\" xlink:type=\"simple\"><rect fill=\"#FFFFFF\" height=\"42.9375\" id=\"E4\" style=\"stroke: #383838; stroke-width: 1.5;\" width=\"71\" x=\"230.5\" y=\"131.5\"/><rect fill=\"#F8F8F8\" height=\"37.9375\" style=\"stroke: #383838; stroke-width: 1.5;\" width=\"71\" x=\"230.5\" y=\"131.5\"/><text fill=\"#000000\" font-family=\"sans-serif\" font-size=\"12\" font-style=\"italic\" lengthAdjust=\"spacingAndGlyphs\" textLength=\"64\" x=\"234\" y=\"147.6387\">«part def»</text><text fill=\"#000000\" font-family=\"sans-serif\" font-size=\"12\" lengthAdjust=\"spacingAndGlyphs\" textLength=\"9\" x=\"261.5\" y=\"161.6074\">Q</text></a></g><!--MD5=[2156ba9850f5573cc1fc38a6a4b2f02b]\n",
       "class E7--><a href=\"psysml:c2df0e2e-5a66-4a2b-abfc-b3b4dd7dd2c5\" target=\"_top\" title=\"psysml:c2df0e2e-5a66-4a2b-abfc-b3b4dd7dd2c5\" xlink:actuate=\"onRequest\" xlink:href=\"psysml:c2df0e2e-5a66-4a2b-abfc-b3b4dd7dd2c5\" xlink:show=\"new\" xlink:title=\"psysml:c2df0e2e-5a66-4a2b-abfc-b3b4dd7dd2c5\" xlink:type=\"simple\"><rect fill=\"#FFFFFF\" height=\"74.3828\" id=\"E7\" rx=\"10\" ry=\"10\" style=\"stroke: #383838; stroke-width: 1.5;\" width=\"63\" x=\"641.5\" y=\"116\"/><text fill=\"#000000\" font-family=\"sans-serif\" font-size=\"12\" lengthAdjust=\"spacingAndGlyphs\" textLength=\"23\" x=\"661.5\" y=\"132.1387\">x: Q</text><line style=\"stroke: #383838; stroke-width: 1.5;\" x1=\"642.5\" x2=\"703.5\" y1=\"139.9688\" y2=\"139.9688\"/><text fill=\"#000000\" font-family=\"sans-serif\" font-size=\"11\" lengthAdjust=\"spacingAndGlyphs\" textLength=\"23\" x=\"647.5\" y=\"170.9839\">b: B</text><text fill=\"#000000\" font-family=\"sans-serif\" font-size=\"11\" font-style=\"italic\" lengthAdjust=\"spacingAndGlyphs\" textLength=\"44\" x=\"647.5\" y=\"183.7886\">:&gt;&gt;P::a</text><line style=\"stroke: #383838; stroke-width: 1.0;\" x1=\"642.5\" x2=\"645.5\" y1=\"154.3711\" y2=\"154.3711\"/><text fill=\"#000000\" font-family=\"sans-serif\" font-size=\"11\" lengthAdjust=\"spacingAndGlyphs\" textLength=\"55\" x=\"645.5\" y=\"157.6792\">attributes</text><line style=\"stroke: #383838; stroke-width: 1.0;\" x1=\"700.5\" x2=\"703.5\" y1=\"154.3711\" y2=\"154.3711\"/></a><g id=\"E1.E8\"><a href=\"psysml:d5aa7800-4c4d-4a74-9f82-8c5d7377a367\" target=\"_top\" title=\"psysml:d5aa7800-4c4d-4a74-9f82-8c5d7377a367\" xlink:actuate=\"onRequest\" xlink:href=\"psysml:d5aa7800-4c4d-4a74-9f82-8c5d7377a367\" xlink:show=\"new\" xlink:title=\"psysml:d5aa7800-4c4d-4a74-9f82-8c5d7377a367\" xlink:type=\"simple\"><rect fill=\"#FFFFFF\" height=\"40\" id=\"E8\" rx=\"10\" ry=\"10\" style=\"stroke: #383838; stroke-width: 1.5;\" width=\"50\" x=\"145\" y=\"133\"/><rect fill=\"#F8F8F8\" height=\"23.9688\" rx=\"10\" ry=\"10\" style=\"stroke: #F8F8F8; stroke-width: 1.5;\" width=\"50\" x=\"145\" y=\"133\"/><rect fill=\"#F8F8F8\" height=\"10\" style=\"stroke: #F8F8F8; stroke-width: 1.5;\" width=\"50\" x=\"145\" y=\"146.9688\"/><rect fill=\"none\" height=\"40\" id=\"E8\" rx=\"10\" ry=\"10\" style=\"stroke: #383838; stroke-width: 1.5;\" width=\"50\" x=\"145\" y=\"133\"/><text fill=\"#000000\" font-family=\"sans-serif\" font-size=\"12\" lengthAdjust=\"spacingAndGlyphs\" textLength=\"25\" x=\"157.5\" y=\"149.1387\">q: Q</text></a></g><!--MD5=[96f4274e9e20536e775497830990834d]\n",
       "class E10--><a href=\"psysml:aeeab6cc-3339-44ed-a45c-f65a5d97c376\" target=\"_top\" title=\"psysml:aeeab6cc-3339-44ed-a45c-f65a5d97c376\" xlink:actuate=\"onRequest\" xlink:href=\"psysml:aeeab6cc-3339-44ed-a45c-f65a5d97c376\" xlink:show=\"new\" xlink:title=\"psysml:aeeab6cc-3339-44ed-a45c-f65a5d97c376\" xlink:type=\"simple\"><rect fill=\"#FFFFFF\" height=\"88.3516\" id=\"E10\" rx=\"10\" ry=\"10\" style=\"stroke: #383838; stroke-width: 1.5;\" width=\"77\" x=\"472.5\" y=\"109\"/><text fill=\"#000000\" font-family=\"sans-serif\" font-size=\"12\" font-style=\"italic\" lengthAdjust=\"spacingAndGlyphs\" textLength=\"75\" x=\"473.5\" y=\"125.1387\">«reference»</text><text fill=\"#000000\" font-family=\"sans-serif\" font-size=\"12\" lengthAdjust=\"spacingAndGlyphs\" textLength=\"8\" x=\"507\" y=\"139.1074\">q</text><line style=\"stroke: #383838; stroke-width: 1.5;\" x1=\"473.5\" x2=\"548.5\" y1=\"146.9375\" y2=\"146.9375\"/><text fill=\"#000000\" font-family=\"sans-serif\" font-size=\"11\" lengthAdjust=\"spacingAndGlyphs\" textLength=\"23\" x=\"478.5\" y=\"177.9526\">b: B</text><text fill=\"#000000\" font-family=\"sans-serif\" font-size=\"11\" font-style=\"italic\" lengthAdjust=\"spacingAndGlyphs\" textLength=\"44\" x=\"478.5\" y=\"190.7573\">:&gt;&gt;P::a</text><line style=\"stroke: #383838; stroke-width: 1.0;\" x1=\"473.5\" x2=\"483.5\" y1=\"161.3398\" y2=\"161.3398\"/><text fill=\"#000000\" font-family=\"sans-serif\" font-size=\"11\" lengthAdjust=\"spacingAndGlyphs\" textLength=\"55\" x=\"483.5\" y=\"164.6479\">attributes</text><line style=\"stroke: #383838; stroke-width: 1.0;\" x1=\"538.5\" x2=\"548.5\" y1=\"161.3398\" y2=\"161.3398\"/></a><g id=\"E1.E11\"><a href=\"psysml:fe63b1e8-840a-4f2e-b06a-2ce986f19d03\" target=\"_top\" title=\"psysml:fe63b1e8-840a-4f2e-b06a-2ce986f19d03\" xlink:actuate=\"onRequest\" xlink:href=\"psysml:fe63b1e8-840a-4f2e-b06a-2ce986f19d03\" xlink:show=\"new\" xlink:title=\"psysml:fe63b1e8-840a-4f2e-b06a-2ce986f19d03\" xlink:type=\"simple\"><rect fill=\"#FFFFFF\" height=\"40\" id=\"E11\" rx=\"10\" ry=\"10\" style=\"stroke: #383838; stroke-width: 1.5;\" width=\"77\" x=\"32.5\" y=\"133\"/><rect fill=\"#F8F8F8\" height=\"23.9688\" rx=\"10\" ry=\"10\" style=\"stroke: #F8F8F8; stroke-width: 1.5;\" width=\"77\" x=\"32.5\" y=\"133\"/><rect fill=\"#F8F8F8\" height=\"10\" style=\"stroke: #F8F8F8; stroke-width: 1.5;\" width=\"77\" x=\"32.5\" y=\"146.9688\"/><rect fill=\"none\" height=\"40\" id=\"E11\" rx=\"10\" ry=\"10\" style=\"stroke: #383838; stroke-width: 1.5;\" width=\"77\" x=\"32.5\" y=\"133\"/><text fill=\"#000000\" font-family=\"sans-serif\" font-size=\"12\" lengthAdjust=\"spacingAndGlyphs\" textLength=\"62\" x=\"38\" y=\"149.1387\">y: P= v::q;</text></a></g><!--MD5=[185131fc0dcab0a4505a2ebe144e961b]\n",
       "link E4 to E2--><a href=\"psysml:6495a820-e8c0-4129-af26-6722c3b7b9e6\" target=\"_top\" title=\"psysml:6495a820-e8c0-4129-af26-6722c3b7b9e6\" xlink:actuate=\"onRequest\" xlink:href=\"psysml:6495a820-e8c0-4129-af26-6722c3b7b9e6\" xlink:show=\"new\" xlink:title=\"psysml:6495a820-e8c0-4129-af26-6722c3b7b9e6\" xlink:type=\"simple\"><path d=\"M266,174.71 C266,223.19 266,336 266,336 C266,336 304.9475,336 345.1113,336 C365.1931,336 385.5791,336 401.5527,336 C409.5395,336 416.4232,336 421.6142,336 C422.2631,336 422.8856,336 423.4804,336 C423.6291,336 423.7761,336 423.9213,336 \" fill=\"none\" id=\"E4-&gt;E2\" style=\"stroke: #383838; stroke-width: 1.0;\"/><polygon fill=\"#FFFFFF\" points=\"423.9213,336,404.9213,329,404.9213,343,423.9213,336\" style=\"stroke: #383838; stroke-width: 1.0;\"/></a><!--MD5=[2351f337d6de0f557b50152ba70847b5]\n",
       "link E6 to E2--><a href=\"psysml:bd00e4e7-d183-497a-b9f8-56660fc51e3e\" target=\"_top\" title=\"psysml:bd00e4e7-d183-497a-b9f8-56660fc51e3e\" xlink:actuate=\"onRequest\" xlink:href=\"psysml:bd00e4e7-d183-497a-b9f8-56660fc51e3e\" xlink:show=\"new\" xlink:title=\"psysml:bd00e4e7-d183-497a-b9f8-56660fc51e3e\" xlink:type=\"simple\"><path d=\"M606,214.3576 C606,215.103 606,215.8453 606,216.5839 C606,219.5383 606,222.4325 606,225.2235 C606,230.8056 606,235.9748 606,240.3861 C606,249.2088 606,255 606,255 C606,255 595.125,255 578.8125,255 C574.7344,255 570.3164,255 565.6436,255 C565.0594,255 564.4714,255 563.8795,255 \" fill=\"none\" id=\"E6-&gt;E2\" style=\"stroke: #383838; stroke-width: 1.0;\"/><polygon fill=\"#FFFFFF\" points=\"563.8795,255,582.8795,262,582.8795,248,563.8795,255\" style=\"stroke: #383838; stroke-width: 1.0;\"/></a><!--MD5=[3fe029ae31656df681a3aa43d396f508]\n",
       "@startuml\r\n",
       "skinparam ranksep 10\r\n",
       "skinparam rectangle {\r\n",
       " backgroundColor<<block>> LightGreen\r\n",
       "}\r\n",
       "skinparam linetype ortho\r\n",
       "skinparam monochrome true\r\n",
       "skinparam classbackgroundcolor white\r\n",
       "skinparam shadowing false\r\n",
       "skinparam wrapWidth 300\r\n",
       "hide circle\r\n",
       "\r\n",
       "package \"VariabilityTest\" as E1  [[psysml:6e13bc12-600f-4176-9ee3-c77c18f0da6f ]]  {\r\n",
       "rec def \"P\" as E2  <<(T,blue) part def>> [[psysml:a47e4883-53c6-48e5-9729-358fb18738b5 ]] {\r\n",
       "comp usage \"a\" as E3  <<(T,blue) attribute>> [[psysml:af83713f-f16b-4de7-b4a6-ecd5bab1fc22 ]] {\r\n",
       "}\r\n",
       "}\r\n",
       "rec def \"Q\" as E4  <<(T,blue) part def>> [[psysml:64152dcd-188c-4285-9d2f-82b4222731ff ]] {\r\n",
       "}\r\n",
       "def \"B\" as E5  <<(T,blue) attribute def>> [[psysml:6204c3f0-143a-45cc-ac58-9ea86a3a8ea6 ]] \r\n",
       "rec def \"V\" as E6  <<(T,blue) part def>> [[psysml:58826ca2-a740-4eaa-a71e-521b590388a3 ]] {\r\n",
       "comp usage \"x: Q\" as E7  [[psysml:c2df0e2e-5a66-4a2b-abfc-b3b4dd7dd2c5 ]] {\r\n",
       "- - attributes - -\r\n",
       "b: B\\n//:>>P::a// \r\n",
       "}\r\n",
       "}\r\n",
       "rec usage \"q: Q\" as E8  [[psysml:d5aa7800-4c4d-4a74-9f82-8c5d7377a367 ]] {\r\n",
       "}\r\n",
       "rec usage \"v: P\" as E9  [[psysml:d7b3804f-80e3-4381-979e-bf8e2501fba8 ]] {\r\n",
       "comp usage \"q\" as E10  <<(T,blue) reference>> [[psysml:aeeab6cc-3339-44ed-a45c-f65a5d97c376 ]] {\r\n",
       "- - attributes - -\r\n",
       "b: B\\n//:>>P::a// \r\n",
       "}\r\n",
       "}\r\n",
       "rec usage \"y: P= v::q; \" as E11  [[psysml:fe63b1e8-840a-4f2e-b06a-2ce986f19d03 ]] {\r\n",
       "}\r\n",
       "E4 - -|> E2 [[psysml:6495a820-e8c0-4129-af26-6722c3b7b9e6 ]] \r\n",
       "E6 - -|> E2 [[psysml:bd00e4e7-d183-497a-b9f8-56660fc51e3e ]] \r\n",
       "}\r\n",
       "@enduml\r\n",
       "\n",
       "PlantUML version 1.2020.13(Sat Jun 13 12:26:38 UTC 2020)\n",
       "(EPL source distribution)\n",
       "Java Runtime: OpenJDK Runtime Environment\n",
       "JVM: OpenJDK 64-Bit Server VM\n",
       "Default Encoding: UTF-8\n",
       "Language: en\n",
       "Country: null\n",
       "--></g></svg>"
      ]
     },
     "execution_count": 54,
     "metadata": {},
     "output_type": "execute_result"
    }
   ],
   "source": [
    "%viz --style=\"ORTHOLINE\" --view=\"Interconnection\" \"VariabilityTest\""
   ]
  },
  {
   "cell_type": "code",
   "execution_count": 55,
   "id": "a7c69de6",
   "metadata": {
    "execution": {
     "iopub.execute_input": "2021-08-04T06:26:52.555115Z",
     "iopub.status.busy": "2021-08-04T06:26:52.554662Z",
     "iopub.status.idle": "2021-08-04T06:26:52.557992Z",
     "shell.execute_reply": "2021-08-04T06:26:52.557649Z"
    }
   },
   "outputs": [
    {
     "data": {
      "image/svg+xml": [
       "<?xml version=\"1.0\" encoding=\"UTF-8\" standalone=\"no\"?><svg xmlns=\"http://www.w3.org/2000/svg\" xmlns:xlink=\"http://www.w3.org/1999/xlink\" contentScriptType=\"application/ecmascript\" contentStyleType=\"text/css\" height=\"12px\" preserveAspectRatio=\"none\" style=\"width:12px;height:12px;\" version=\"1.1\" viewBox=\"0 0 12 12\" width=\"12px\" zoomAndPan=\"magnify\"><defs/><g><!--MD5=[72934c63077099a26744516a776b4749]\n",
       "@startuml\r\n",
       "skinparam ranksep 8\r\n",
       "skinparam linetype ortho\r\n",
       "skinparam monochrome true\r\n",
       "skinparam classbackgroundcolor white\r\n",
       "skinparam shadowing false\r\n",
       "skinparam wrapWidth 300\r\n",
       "hide circle\r\n",
       "\r\n",
       "@enduml\r\n",
       "\n",
       "PlantUML version 1.2020.13(Sat Jun 13 12:26:38 UTC 2020)\n",
       "(EPL source distribution)\n",
       "Java Runtime: OpenJDK Runtime Environment\n",
       "JVM: OpenJDK 64-Bit Server VM\n",
       "Default Encoding: UTF-8\n",
       "Language: en\n",
       "Country: null\n",
       "--></g></svg>"
      ]
     },
     "execution_count": 55,
     "metadata": {},
     "output_type": "execute_result"
    }
   ],
   "source": [
    "%viz --style=\"ORTHOLINE\" --view=\"Action\" \"VariabilityTest\""
   ]
  },
  {
   "cell_type": "code",
   "execution_count": 56,
   "id": "40b44f60",
   "metadata": {
    "execution": {
     "iopub.execute_input": "2021-08-04T06:26:52.607615Z",
     "iopub.status.busy": "2021-08-04T06:26:52.607223Z",
     "iopub.status.idle": "2021-08-04T06:26:52.672606Z",
     "shell.execute_reply": "2021-08-04T06:26:52.671352Z"
    }
   },
   "outputs": [
    {
     "data": {
      "image/svg+xml": [
       "<?xml version=\"1.0\" encoding=\"UTF-8\" standalone=\"no\"?><svg xmlns=\"http://www.w3.org/2000/svg\" xmlns:xlink=\"http://www.w3.org/1999/xlink\" contentScriptType=\"application/ecmascript\" contentStyleType=\"text/css\" height=\"401px\" preserveAspectRatio=\"none\" style=\"width:419px;height:401px;\" version=\"1.1\" viewBox=\"0 0 419 401\" width=\"419px\" zoomAndPan=\"magnify\"><defs/><g><!--MD5=[fbc87193dbaf4d95561dea2c320d4a47]\n",
       "cluster E1--><a href=\"psysml:6e13bc12-600f-4176-9ee3-c77c18f0da6f\" target=\"_top\" title=\"psysml:6e13bc12-600f-4176-9ee3-c77c18f0da6f\" xlink:actuate=\"onRequest\" xlink:href=\"psysml:6e13bc12-600f-4176-9ee3-c77c18f0da6f\" xlink:show=\"new\" xlink:title=\"psysml:6e13bc12-600f-4176-9ee3-c77c18f0da6f\" xlink:type=\"simple\"><polygon fill=\"#FFFFFF\" points=\"16,6,134,6,141,28.2969,397,28.2969,397,389,16,389,16,6\" style=\"stroke: #000000; stroke-width: 1.5;\"/><line style=\"stroke: #000000; stroke-width: 1.5;\" x1=\"16\" x2=\"141\" y1=\"28.2969\" y2=\"28.2969\"/><text fill=\"#000000\" font-family=\"sans-serif\" font-size=\"14\" font-weight=\"bold\" lengthAdjust=\"spacingAndGlyphs\" textLength=\"112\" x=\"20\" y=\"20.9951\">VariabilityTest</text></a><!--MD5=[b4997ac47864f28c2f74865a473b2911]\n",
       "class E2--><a href=\"psysml:a47e4883-53c6-48e5-9729-358fb18738b5\" target=\"_top\" title=\"psysml:a47e4883-53c6-48e5-9729-358fb18738b5\" xlink:actuate=\"onRequest\" xlink:href=\"psysml:a47e4883-53c6-48e5-9729-358fb18738b5\" xlink:show=\"new\" xlink:title=\"psysml:a47e4883-53c6-48e5-9729-358fb18738b5\" xlink:type=\"simple\"><rect fill=\"#FFFFFF\" height=\"75.5469\" id=\"E2\" style=\"stroke: #383838; stroke-width: 1.5;\" width=\"66\" x=\"166\" y=\"291\"/><text fill=\"#000000\" font-family=\"sans-serif\" font-size=\"12\" font-style=\"italic\" lengthAdjust=\"spacingAndGlyphs\" textLength=\"64\" x=\"167\" y=\"307.1387\">«part def»</text><text fill=\"#000000\" font-family=\"sans-serif\" font-size=\"12\" lengthAdjust=\"spacingAndGlyphs\" textLength=\"8\" x=\"195\" y=\"321.1074\">P</text><line style=\"stroke: #383838; stroke-width: 1.5;\" x1=\"167\" x2=\"231\" y1=\"328.9375\" y2=\"328.9375\"/><text fill=\"#000000\" font-family=\"sans-serif\" font-size=\"11\" lengthAdjust=\"spacingAndGlyphs\" textLength=\"7\" x=\"172\" y=\"359.9526\">a</text><line style=\"stroke: #383838; stroke-width: 1.0;\" x1=\"167\" x2=\"171.5\" y1=\"343.3398\" y2=\"343.3398\"/><text fill=\"#000000\" font-family=\"sans-serif\" font-size=\"11\" lengthAdjust=\"spacingAndGlyphs\" textLength=\"55\" x=\"171.5\" y=\"346.6479\">attributes</text><line style=\"stroke: #383838; stroke-width: 1.0;\" x1=\"226.5\" x2=\"231\" y1=\"343.3398\" y2=\"343.3398\"/></a><!--MD5=[09b614a08d8cba4a07c9adeb5e0fee81]\n",
       "class E3--><a href=\"psysml:64152dcd-188c-4285-9d2f-82b4222731ff\" target=\"_top\" title=\"psysml:64152dcd-188c-4285-9d2f-82b4222731ff\" xlink:actuate=\"onRequest\" xlink:href=\"psysml:64152dcd-188c-4285-9d2f-82b4222731ff\" xlink:show=\"new\" xlink:title=\"psysml:64152dcd-188c-4285-9d2f-82b4222731ff\" xlink:type=\"simple\"><rect fill=\"#FFFFFF\" height=\"45.9375\" id=\"E3\" style=\"stroke: #383838; stroke-width: 1.5;\" width=\"66\" x=\"137\" y=\"155\"/><text fill=\"#000000\" font-family=\"sans-serif\" font-size=\"12\" font-style=\"italic\" lengthAdjust=\"spacingAndGlyphs\" textLength=\"64\" x=\"138\" y=\"171.1387\">«part def»</text><text fill=\"#000000\" font-family=\"sans-serif\" font-size=\"12\" lengthAdjust=\"spacingAndGlyphs\" textLength=\"9\" x=\"165.5\" y=\"185.1074\">Q</text><line style=\"stroke: #383838; stroke-width: 1.5;\" x1=\"138\" x2=\"202\" y1=\"192.9375\" y2=\"192.9375\"/></a><!--MD5=[ebbe1d658d1005bcc118a6aa81145e00]\n",
       "class E4--><a href=\"psysml:6204c3f0-143a-45cc-ac58-9ea86a3a8ea6\" target=\"_top\" title=\"psysml:6204c3f0-143a-45cc-ac58-9ea86a3a8ea6\" xlink:actuate=\"onRequest\" xlink:href=\"psysml:6204c3f0-143a-45cc-ac58-9ea86a3a8ea6\" xlink:show=\"new\" xlink:title=\"psysml:6204c3f0-143a-45cc-ac58-9ea86a3a8ea6\" xlink:type=\"simple\"><rect fill=\"#FFFFFF\" height=\"45.9375\" id=\"E4\" style=\"stroke: #383838; stroke-width: 1.5;\" width=\"95\" x=\"255.5\" y=\"41\"/><text fill=\"#000000\" font-family=\"sans-serif\" font-size=\"12\" font-style=\"italic\" lengthAdjust=\"spacingAndGlyphs\" textLength=\"93\" x=\"256.5\" y=\"57.1387\">«attribute def»</text><text fill=\"#000000\" font-family=\"sans-serif\" font-size=\"12\" lengthAdjust=\"spacingAndGlyphs\" textLength=\"8\" x=\"299\" y=\"71.1074\">B</text><line style=\"stroke: #383838; stroke-width: 1.5;\" x1=\"256.5\" x2=\"349.5\" y1=\"78.9375\" y2=\"78.9375\"/></a><!--MD5=[270fce915f116d4de14055a7c1d9a0f3]\n",
       "class E5--><a href=\"psysml:58826ca2-a740-4eaa-a71e-521b590388a3\" target=\"_top\" title=\"psysml:58826ca2-a740-4eaa-a71e-521b590388a3\" xlink:actuate=\"onRequest\" xlink:href=\"psysml:58826ca2-a740-4eaa-a71e-521b590388a3\" xlink:show=\"new\" xlink:title=\"psysml:58826ca2-a740-4eaa-a71e-521b590388a3\" xlink:type=\"simple\"><rect fill=\"#FFFFFF\" height=\"45.9375\" id=\"E5\" style=\"stroke: #383838; stroke-width: 1.5;\" width=\"66\" x=\"315\" y=\"155\"/><text fill=\"#000000\" font-family=\"sans-serif\" font-size=\"12\" font-style=\"italic\" lengthAdjust=\"spacingAndGlyphs\" textLength=\"64\" x=\"316\" y=\"171.1387\">«part def»</text><text fill=\"#000000\" font-family=\"sans-serif\" font-size=\"12\" lengthAdjust=\"spacingAndGlyphs\" textLength=\"8\" x=\"344\" y=\"185.1074\">V</text><line style=\"stroke: #383838; stroke-width: 1.5;\" x1=\"316\" x2=\"380\" y1=\"192.9375\" y2=\"192.9375\"/></a><!--MD5=[60a26617385b1d2d0262a64233df1f8d]\n",
       "class E6--><a href=\"psysml:c2df0e2e-5a66-4a2b-abfc-b3b4dd7dd2c5\" target=\"_top\" title=\"psysml:c2df0e2e-5a66-4a2b-abfc-b3b4dd7dd2c5\" xlink:actuate=\"onRequest\" xlink:href=\"psysml:c2df0e2e-5a66-4a2b-abfc-b3b4dd7dd2c5\" xlink:show=\"new\" xlink:title=\"psysml:c2df0e2e-5a66-4a2b-abfc-b3b4dd7dd2c5\" xlink:type=\"simple\"><rect fill=\"#FFFFFF\" height=\"88.3516\" id=\"E6\" rx=\"10\" ry=\"10\" style=\"stroke: #383838; stroke-width: 1.5;\" width=\"63\" x=\"287.5\" y=\"285\"/><text fill=\"#000000\" font-family=\"sans-serif\" font-size=\"12\" font-style=\"italic\" lengthAdjust=\"spacingAndGlyphs\" textLength=\"40\" x=\"299\" y=\"301.1387\">«part»</text><text fill=\"#000000\" font-family=\"sans-serif\" font-size=\"12\" lengthAdjust=\"spacingAndGlyphs\" textLength=\"23\" x=\"307.5\" y=\"315.1074\">x: Q</text><line style=\"stroke: #383838; stroke-width: 1.5;\" x1=\"288.5\" x2=\"349.5\" y1=\"322.9375\" y2=\"322.9375\"/><text fill=\"#000000\" font-family=\"sans-serif\" font-size=\"11\" lengthAdjust=\"spacingAndGlyphs\" textLength=\"23\" x=\"293.5\" y=\"353.9526\">b: B</text><text fill=\"#000000\" font-family=\"sans-serif\" font-size=\"11\" font-style=\"italic\" lengthAdjust=\"spacingAndGlyphs\" textLength=\"44\" x=\"293.5\" y=\"366.7573\">:&gt;&gt;P::a</text><line style=\"stroke: #383838; stroke-width: 1.0;\" x1=\"288.5\" x2=\"291.5\" y1=\"337.3398\" y2=\"337.3398\"/><text fill=\"#000000\" font-family=\"sans-serif\" font-size=\"11\" lengthAdjust=\"spacingAndGlyphs\" textLength=\"55\" x=\"291.5\" y=\"340.6479\">attributes</text><line style=\"stroke: #383838; stroke-width: 1.0;\" x1=\"346.5\" x2=\"349.5\" y1=\"337.3398\" y2=\"337.3398\"/></a><!--MD5=[2156ba9850f5573cc1fc38a6a4b2f02b]\n",
       "class E7--><a href=\"psysml:d5aa7800-4c4d-4a74-9f82-8c5d7377a367\" target=\"_top\" title=\"psysml:d5aa7800-4c4d-4a74-9f82-8c5d7377a367\" xlink:actuate=\"onRequest\" xlink:href=\"psysml:d5aa7800-4c4d-4a74-9f82-8c5d7377a367\" xlink:show=\"new\" xlink:title=\"psysml:d5aa7800-4c4d-4a74-9f82-8c5d7377a367\" xlink:type=\"simple\"><rect fill=\"#FFFFFF\" height=\"45.9375\" id=\"E7\" rx=\"10\" ry=\"10\" style=\"stroke: #383838; stroke-width: 1.5;\" width=\"42\" x=\"149\" y=\"41\"/><text fill=\"#000000\" font-family=\"sans-serif\" font-size=\"12\" font-style=\"italic\" lengthAdjust=\"spacingAndGlyphs\" textLength=\"40\" x=\"150\" y=\"57.1387\">«part»</text><text fill=\"#000000\" font-family=\"sans-serif\" font-size=\"12\" lengthAdjust=\"spacingAndGlyphs\" textLength=\"25\" x=\"157.5\" y=\"71.1074\">q: Q</text><line style=\"stroke: #383838; stroke-width: 1.5;\" x1=\"150\" x2=\"190\" y1=\"78.9375\" y2=\"78.9375\"/></a><!--MD5=[b9389687b975829384b498ac4b7476b2]\n",
       "class E8--><a href=\"psysml:d7b3804f-80e3-4381-979e-bf8e2501fba8\" target=\"_top\" title=\"psysml:d7b3804f-80e3-4381-979e-bf8e2501fba8\" xlink:actuate=\"onRequest\" xlink:href=\"psysml:d7b3804f-80e3-4381-979e-bf8e2501fba8\" xlink:show=\"new\" xlink:title=\"psysml:d7b3804f-80e3-4381-979e-bf8e2501fba8\" xlink:type=\"simple\"><rect fill=\"#FFFFFF\" height=\"59.9063\" id=\"E8\" rx=\"10\" ry=\"10\" style=\"stroke: #383838; stroke-width: 1.5;\" width=\"70\" x=\"32\" y=\"148\"/><text fill=\"#000000\" font-family=\"sans-serif\" font-size=\"12\" font-style=\"italic\" lengthAdjust=\"spacingAndGlyphs\" textLength=\"68\" x=\"33\" y=\"164.1387\">«variation»</text><text fill=\"#000000\" font-family=\"sans-serif\" font-size=\"12\" font-style=\"italic\" lengthAdjust=\"spacingAndGlyphs\" textLength=\"40\" x=\"47\" y=\"178.1074\">«part»</text><text fill=\"#000000\" font-family=\"sans-serif\" font-size=\"12\" lengthAdjust=\"spacingAndGlyphs\" textLength=\"22\" x=\"56\" y=\"192.0762\">v: P</text><line style=\"stroke: #383838; stroke-width: 1.5;\" x1=\"33\" x2=\"101\" y1=\"199.9063\" y2=\"199.9063\"/></a><!--MD5=[fd4143e9d270a159db93a4ea2a975926]\n",
       "class E9--><a href=\"psysml:aeeab6cc-3339-44ed-a45c-f65a5d97c376\" target=\"_top\" title=\"psysml:aeeab6cc-3339-44ed-a45c-f65a5d97c376\" xlink:actuate=\"onRequest\" xlink:href=\"psysml:aeeab6cc-3339-44ed-a45c-f65a5d97c376\" xlink:show=\"new\" xlink:title=\"psysml:aeeab6cc-3339-44ed-a45c-f65a5d97c376\" xlink:type=\"simple\"><rect fill=\"#FFFFFF\" height=\"88.3516\" id=\"E9\" rx=\"10\" ry=\"10\" style=\"stroke: #383838; stroke-width: 1.5;\" width=\"77\" x=\"32.5\" y=\"285\"/><text fill=\"#000000\" font-family=\"sans-serif\" font-size=\"12\" font-style=\"italic\" lengthAdjust=\"spacingAndGlyphs\" textLength=\"75\" x=\"33.5\" y=\"301.1387\">«reference»</text><text fill=\"#000000\" font-family=\"sans-serif\" font-size=\"12\" lengthAdjust=\"spacingAndGlyphs\" textLength=\"8\" x=\"67\" y=\"315.1074\">q</text><line style=\"stroke: #383838; stroke-width: 1.5;\" x1=\"33.5\" x2=\"108.5\" y1=\"322.9375\" y2=\"322.9375\"/><text fill=\"#000000\" font-family=\"sans-serif\" font-size=\"11\" lengthAdjust=\"spacingAndGlyphs\" textLength=\"23\" x=\"38.5\" y=\"353.9526\">b: B</text><text fill=\"#000000\" font-family=\"sans-serif\" font-size=\"11\" font-style=\"italic\" lengthAdjust=\"spacingAndGlyphs\" textLength=\"44\" x=\"38.5\" y=\"366.7573\">:&gt;&gt;P::a</text><line style=\"stroke: #383838; stroke-width: 1.0;\" x1=\"33.5\" x2=\"43.5\" y1=\"337.3398\" y2=\"337.3398\"/><text fill=\"#000000\" font-family=\"sans-serif\" font-size=\"11\" lengthAdjust=\"spacingAndGlyphs\" textLength=\"55\" x=\"43.5\" y=\"340.6479\">attributes</text><line style=\"stroke: #383838; stroke-width: 1.0;\" x1=\"98.5\" x2=\"108.5\" y1=\"337.3398\" y2=\"337.3398\"/></a><!--MD5=[96f4274e9e20536e775497830990834d]\n",
       "class E10--><a href=\"psysml:fe63b1e8-840a-4f2e-b06a-2ce986f19d03\" target=\"_top\" title=\"psysml:fe63b1e8-840a-4f2e-b06a-2ce986f19d03\" xlink:actuate=\"onRequest\" xlink:href=\"psysml:fe63b1e8-840a-4f2e-b06a-2ce986f19d03\" xlink:show=\"new\" xlink:title=\"psysml:fe63b1e8-840a-4f2e-b06a-2ce986f19d03\" xlink:type=\"simple\"><rect fill=\"#FFFFFF\" height=\"45.9375\" id=\"E10\" rx=\"10\" ry=\"10\" style=\"stroke: #383838; stroke-width: 1.5;\" width=\"42\" x=\"238\" y=\"155\"/><text fill=\"#000000\" font-family=\"sans-serif\" font-size=\"12\" font-style=\"italic\" lengthAdjust=\"spacingAndGlyphs\" textLength=\"40\" x=\"239\" y=\"171.1387\">«part»</text><text fill=\"#000000\" font-family=\"sans-serif\" font-size=\"12\" lengthAdjust=\"spacingAndGlyphs\" textLength=\"22\" x=\"248\" y=\"185.1074\">y: P</text><line style=\"stroke: #383838; stroke-width: 1.5;\" x1=\"239\" x2=\"279\" y1=\"192.9375\" y2=\"192.9375\"/></a><!--MD5=[05d275557350bfb9b23a4ef7222b4c39]\n",
       "link E3 to E2--><a href=\"psysml:6495a820-e8c0-4129-af26-6722c3b7b9e6\" target=\"_top\" title=\"psysml:6495a820-e8c0-4129-af26-6722c3b7b9e6\" xlink:actuate=\"onRequest\" xlink:href=\"psysml:6495a820-e8c0-4129-af26-6722c3b7b9e6\" xlink:show=\"new\" xlink:title=\"psysml:6495a820-e8c0-4129-af26-6722c3b7b9e6\" xlink:type=\"simple\"><path d=\"M190.67,201.26 C190.67,201.26 190.67,270.73 190.67,270.73 \" fill=\"none\" id=\"E3-&gt;E2\" style=\"stroke: #383838; stroke-width: 1.0;\"/><polygon fill=\"none\" points=\"197.67,270.73,190.67,290.73,183.67,270.73,197.67,270.73\" style=\"stroke: #383838; stroke-width: 1.0;\"/></a><!--MD5=[15ebcb19ae302d9b601edb458606d402]\n",
       "link E5 to E2--><a href=\"psysml:bd00e4e7-d183-497a-b9f8-56660fc51e3e\" target=\"_top\" title=\"psysml:bd00e4e7-d183-497a-b9f8-56660fc51e3e\" xlink:actuate=\"onRequest\" xlink:href=\"psysml:bd00e4e7-d183-497a-b9f8-56660fc51e3e\" xlink:show=\"new\" xlink:title=\"psysml:bd00e4e7-d183-497a-b9f8-56660fc51e3e\" xlink:type=\"simple\"><path d=\"M326.83,201.22 C326.83,202.93 326.83,204 326.83,204 C326.83,204 222.33,204 222.33,204 C222.33,204 222.33,270.82 222.33,270.82 \" fill=\"none\" id=\"E5-&gt;E2\" style=\"stroke: #383838; stroke-width: 1.0;\"/><polygon fill=\"none\" points=\"229.33,270.82,222.33,290.82,215.33,270.82,229.33,270.82\" style=\"stroke: #383838; stroke-width: 1.0;\"/></a><!--MD5=[9120cf2e5df3bff93db8f754bbbc09b4]\n",
       "link E5 to E6--><a href=\"psysml:3ec706da-d65f-4ef5-8a1f-1e1b5df7e7c6\" target=\"_top\" title=\"psysml:3ec706da-d65f-4ef5-8a1f-1e1b5df7e7c6\" xlink:actuate=\"onRequest\" xlink:href=\"psysml:3ec706da-d65f-4ef5-8a1f-1e1b5df7e7c6\" xlink:show=\"new\" xlink:title=\"psysml:3ec706da-d65f-4ef5-8a1f-1e1b5df7e7c6\" xlink:type=\"simple\"><path d=\"M338.67,211.26 C338.67,211.26 338.67,274.72 338.67,274.72 \" fill=\"none\" id=\"E5-E6\" style=\"stroke: #383838; stroke-width: 1.0;\"/><polygon fill=\"#383838\" points=\"338.67,284.72,341.67,276.72,335.67,276.72,338.67,284.72\" style=\"stroke: #383838; stroke-width: 1.0;\"/><path d=\"M330.2128,204.3382 A9,9 0 0 0 347.1272 204.3382\" fill=\"none\" style=\"stroke: #383838; stroke-width: 1.5;\"/><text fill=\"#000000\" font-family=\"sans-serif\" font-size=\"13\" lengthAdjust=\"spacingAndGlyphs\" textLength=\"60\" x=\"320\" y=\"251.0669\">«variant»</text></a><!--MD5=[14ccda38c055a5c0da953d572bc50960]\n",
       "link E7 to E3--><a href=\"psysml:9cf32953-475b-4011-b1f8-e7f09d5ce449\" target=\"_top\" title=\"psysml:9cf32953-475b-4011-b1f8-e7f09d5ce449\" xlink:actuate=\"onRequest\" xlink:href=\"psysml:9cf32953-475b-4011-b1f8-e7f09d5ce449\" xlink:show=\"new\" xlink:title=\"psysml:9cf32953-475b-4011-b1f8-e7f09d5ce449\" xlink:type=\"simple\"><path d=\"M170,87.07 C170,87.07 170,134.96 170,134.96 \" fill=\"none\" id=\"E7-&gt;E3\" style=\"stroke: #383838; stroke-width: 1.0;\"/><polygon fill=\"#FFFFFF\" points=\"170,154.96,163,135.96,177,135.96,170,154.96\" style=\"stroke: #383838; stroke-width: 1.0;\"/><ellipse cx=\"165\" cy=\"130.26\" fill=\"#383838\" rx=\"2\" ry=\"2\" style=\"stroke: #383838; stroke-width: 1.0;\"/><ellipse cx=\"175\" cy=\"130.26\" fill=\"#383838\" rx=\"2\" ry=\"2\" style=\"stroke: #383838; stroke-width: 1.0;\"/></a><!--MD5=[f1f3f9f2fc535e6147756cb86a7f2e32]\n",
       "link E8 to E2--><a href=\"psysml:d1a9bfbc-b159-49c1-a5ca-956a4881ee49\" target=\"_top\" title=\"psysml:d1a9bfbc-b159-49c1-a5ca-956a4881ee49\" xlink:actuate=\"onRequest\" xlink:href=\"psysml:d1a9bfbc-b159-49c1-a5ca-956a4881ee49\" xlink:show=\"new\" xlink:title=\"psysml:d1a9bfbc-b159-49c1-a5ca-956a4881ee49\" xlink:type=\"simple\"><path d=\"M102.23,206 C134.84,206 178.33,206 178.33,206 C178.33,206 178.33,270.76 178.33,270.76 \" fill=\"none\" id=\"E8-&gt;E2\" style=\"stroke: #383838; stroke-width: 1.0;\"/><polygon fill=\"#FFFFFF\" points=\"178.33,290.76,171.33,271.76,185.33,271.76,178.33,290.76\" style=\"stroke: #383838; stroke-width: 1.0;\"/><ellipse cx=\"173.33\" cy=\"266.06\" fill=\"#383838\" rx=\"2\" ry=\"2\" style=\"stroke: #383838; stroke-width: 1.0;\"/><ellipse cx=\"183.33\" cy=\"266.06\" fill=\"#383838\" rx=\"2\" ry=\"2\" style=\"stroke: #383838; stroke-width: 1.0;\"/></a><!--MD5=[ed10624c06dd9a4fa49ccf290e8b16a8]\n",
       "link E8 to E9--><a href=\"psysml:4574f674-7c12-4143-bfb7-6a6844a72e64\" target=\"_top\" title=\"psysml:4574f674-7c12-4143-bfb7-6a6844a72e64\" xlink:actuate=\"onRequest\" xlink:href=\"psysml:4574f674-7c12-4143-bfb7-6a6844a72e64\" xlink:show=\"new\" xlink:title=\"psysml:4574f674-7c12-4143-bfb7-6a6844a72e64\" xlink:type=\"simple\"><path d=\"M67.25,218.19 C67.25,218.19 67.25,274.83 67.25,274.83 \" fill=\"none\" id=\"E8-E9\" style=\"stroke: #383838; stroke-width: 1.0;\"/><polygon fill=\"#383838\" points=\"67.25,284.83,70.25,276.83,64.25,276.83,67.25,284.83\" style=\"stroke: #383838; stroke-width: 1.0;\"/><path d=\"M58.7928,211.2682 A9,9 0 0 0 75.7072 211.2682\" fill=\"none\" style=\"stroke: #383838; stroke-width: 1.5;\"/><text fill=\"#000000\" font-family=\"sans-serif\" font-size=\"13\" lengthAdjust=\"spacingAndGlyphs\" textLength=\"60\" x=\"70\" y=\"251.0669\">«variant»</text></a><!--MD5=[0f36bececdf0dff6e600d6f64214b0f1]\n",
       "link E10 to E2--><a href=\"psysml:bd829215-07d4-45cb-8fe9-60748d4dd682\" target=\"_top\" title=\"psysml:bd829215-07d4-45cb-8fe9-60748d4dd682\" xlink:actuate=\"onRequest\" xlink:href=\"psysml:bd829215-07d4-45cb-8fe9-60748d4dd682\" xlink:show=\"new\" xlink:title=\"psysml:bd829215-07d4-45cb-8fe9-60748d4dd682\" xlink:type=\"simple\"><path d=\"M237.73,178 C225.55,178 212.67,178 212.67,178 C212.67,178 212.67,270.9 212.67,270.9 \" fill=\"none\" id=\"E10-&gt;E2\" style=\"stroke: #383838; stroke-width: 1.0;\"/><polygon fill=\"#FFFFFF\" points=\"212.67,290.9,205.67,271.9,219.67,271.9,212.67,290.9\" style=\"stroke: #383838; stroke-width: 1.0;\"/><ellipse cx=\"207.67\" cy=\"266.2\" fill=\"#383838\" rx=\"2\" ry=\"2\" style=\"stroke: #383838; stroke-width: 1.0;\"/><ellipse cx=\"217.67\" cy=\"266.2\" fill=\"#383838\" rx=\"2\" ry=\"2\" style=\"stroke: #383838; stroke-width: 1.0;\"/></a><!--MD5=[4f07bffb6a715e84fbfef5cc7cec2c12]\n",
       "@startuml\r\n",
       "skinparam linetype ortho\r\n",
       "skinparam monochrome true\r\n",
       "skinparam classbackgroundcolor white\r\n",
       "skinparam shadowing false\r\n",
       "skinparam wrapWidth 300\r\n",
       "hide circle\r\n",
       "\r\n",
       "package \"VariabilityTest\" as E1  [[psysml:6e13bc12-600f-4176-9ee3-c77c18f0da6f ]]  {\r\n",
       "comp def \"P\" as E2  <<(T,blue) part def>> [[psysml:a47e4883-53c6-48e5-9729-358fb18738b5 ]] {\r\n",
       "- - attributes - -\r\n",
       "a\r\n",
       "}\r\n",
       "comp def \"Q\" as E3  <<(T,blue) part def>> [[psysml:64152dcd-188c-4285-9d2f-82b4222731ff ]] {\r\n",
       "}\r\n",
       "comp def \"B\" as E4  <<(T,blue) attribute def>> [[psysml:6204c3f0-143a-45cc-ac58-9ea86a3a8ea6 ]] {\r\n",
       "}\r\n",
       "comp def \"V\" as E5  <<(T,blue) part def>> [[psysml:58826ca2-a740-4eaa-a71e-521b590388a3 ]] {\r\n",
       "}\r\n",
       "comp usage \"x: Q\" as E6  <<(T,blue) part>> [[psysml:c2df0e2e-5a66-4a2b-abfc-b3b4dd7dd2c5 ]] {\r\n",
       "- - attributes - -\r\n",
       "b: B\\n//:>>P::a// \r\n",
       "}\r\n",
       "comp usage \"q: Q\" as E7  <<(T,blue) part>> [[psysml:d5aa7800-4c4d-4a74-9f82-8c5d7377a367 ]] {\r\n",
       "}\r\n",
       "comp usage \"v: P\" as E8  <<variation>>\\n <<(T,blue) part>> [[psysml:d7b3804f-80e3-4381-979e-bf8e2501fba8 ]] {\r\n",
       "}\r\n",
       "comp usage \"q\" as E9  <<(T,blue) reference>> [[psysml:aeeab6cc-3339-44ed-a45c-f65a5d97c376 ]] {\r\n",
       "- - attributes - -\r\n",
       "b: B\\n//:>>P::a// \r\n",
       "}\r\n",
       "comp usage \"y: P\" as E10  <<(T,blue) part>> [[psysml:fe63b1e8-840a-4f2e-b06a-2ce986f19d03 ]] {\r\n",
       "}\r\n",
       "E3 - -|> E2 [[psysml:6495a820-e8c0-4129-af26-6722c3b7b9e6 ]] \r\n",
       "E5 - -|> E2 [[psysml:bd00e4e7-d183-497a-b9f8-56660fc51e3e ]] \r\n",
       "E5 )- ->> E6 [[psysml:3ec706da-d65f-4ef5-8a1f-1e1b5df7e7c6 ]] : <<variant>>\r\n",
       "E7 - -:|> E3 [[psysml:9cf32953-475b-4011-b1f8-e7f09d5ce449 ]] \r\n",
       "E8 - -:|> E2 [[psysml:d1a9bfbc-b159-49c1-a5ca-956a4881ee49 ]] \r\n",
       "E8 )- ->> E9 [[psysml:4574f674-7c12-4143-bfb7-6a6844a72e64 ]] : <<variant>>\r\n",
       "E10 - -:|> E2 [[psysml:bd829215-07d4-45cb-8fe9-60748d4dd682 ]] \r\n",
       "}\r\n",
       "@enduml\r\n",
       "\n",
       "PlantUML version 1.2020.13(Sat Jun 13 12:26:38 UTC 2020)\n",
       "(EPL source distribution)\n",
       "Java Runtime: OpenJDK Runtime Environment\n",
       "JVM: OpenJDK 64-Bit Server VM\n",
       "Default Encoding: UTF-8\n",
       "Language: en\n",
       "Country: null\n",
       "--></g></svg>"
      ]
     },
     "execution_count": 56,
     "metadata": {},
     "output_type": "execute_result"
    }
   ],
   "source": [
    "%viz --style=\"ORTHOLINE\" --view=\"Sequence\" \"VariabilityTest\""
   ]
  },
  {
   "cell_type": "code",
   "execution_count": 57,
   "id": "fb66746b",
   "metadata": {
    "execution": {
     "iopub.execute_input": "2021-08-04T06:26:52.722002Z",
     "iopub.status.busy": "2021-08-04T06:26:52.721611Z",
     "iopub.status.idle": "2021-08-04T06:26:52.786541Z",
     "shell.execute_reply": "2021-08-04T06:26:52.785798Z"
    }
   },
   "outputs": [
    {
     "data": {
      "image/svg+xml": [
       "<?xml version=\"1.0\" encoding=\"UTF-8\" standalone=\"no\"?><svg xmlns=\"http://www.w3.org/2000/svg\" xmlns:xlink=\"http://www.w3.org/1999/xlink\" contentScriptType=\"application/ecmascript\" contentStyleType=\"text/css\" height=\"401px\" preserveAspectRatio=\"none\" style=\"width:419px;height:401px;\" version=\"1.1\" viewBox=\"0 0 419 401\" width=\"419px\" zoomAndPan=\"magnify\"><defs/><g><!--MD5=[fbc87193dbaf4d95561dea2c320d4a47]\n",
       "cluster E1--><a href=\"psysml:6e13bc12-600f-4176-9ee3-c77c18f0da6f\" target=\"_top\" title=\"psysml:6e13bc12-600f-4176-9ee3-c77c18f0da6f\" xlink:actuate=\"onRequest\" xlink:href=\"psysml:6e13bc12-600f-4176-9ee3-c77c18f0da6f\" xlink:show=\"new\" xlink:title=\"psysml:6e13bc12-600f-4176-9ee3-c77c18f0da6f\" xlink:type=\"simple\"><polygon fill=\"#FFFFFF\" points=\"16,6,134,6,141,28.2969,397,28.2969,397,389,16,389,16,6\" style=\"stroke: #000000; stroke-width: 1.5;\"/><line style=\"stroke: #000000; stroke-width: 1.5;\" x1=\"16\" x2=\"141\" y1=\"28.2969\" y2=\"28.2969\"/><text fill=\"#000000\" font-family=\"sans-serif\" font-size=\"14\" font-weight=\"bold\" lengthAdjust=\"spacingAndGlyphs\" textLength=\"112\" x=\"20\" y=\"20.9951\">VariabilityTest</text></a><!--MD5=[b4997ac47864f28c2f74865a473b2911]\n",
       "class E2--><a href=\"psysml:a47e4883-53c6-48e5-9729-358fb18738b5\" target=\"_top\" title=\"psysml:a47e4883-53c6-48e5-9729-358fb18738b5\" xlink:actuate=\"onRequest\" xlink:href=\"psysml:a47e4883-53c6-48e5-9729-358fb18738b5\" xlink:show=\"new\" xlink:title=\"psysml:a47e4883-53c6-48e5-9729-358fb18738b5\" xlink:type=\"simple\"><rect fill=\"#FFFFFF\" height=\"75.5469\" id=\"E2\" style=\"stroke: #383838; stroke-width: 1.5;\" width=\"66\" x=\"166\" y=\"291\"/><text fill=\"#000000\" font-family=\"sans-serif\" font-size=\"12\" font-style=\"italic\" lengthAdjust=\"spacingAndGlyphs\" textLength=\"64\" x=\"167\" y=\"307.1387\">«part def»</text><text fill=\"#000000\" font-family=\"sans-serif\" font-size=\"12\" lengthAdjust=\"spacingAndGlyphs\" textLength=\"8\" x=\"195\" y=\"321.1074\">P</text><line style=\"stroke: #383838; stroke-width: 1.5;\" x1=\"167\" x2=\"231\" y1=\"328.9375\" y2=\"328.9375\"/><text fill=\"#000000\" font-family=\"sans-serif\" font-size=\"11\" lengthAdjust=\"spacingAndGlyphs\" textLength=\"7\" x=\"172\" y=\"359.9526\">a</text><line style=\"stroke: #383838; stroke-width: 1.0;\" x1=\"167\" x2=\"171.5\" y1=\"343.3398\" y2=\"343.3398\"/><text fill=\"#000000\" font-family=\"sans-serif\" font-size=\"11\" lengthAdjust=\"spacingAndGlyphs\" textLength=\"55\" x=\"171.5\" y=\"346.6479\">attributes</text><line style=\"stroke: #383838; stroke-width: 1.0;\" x1=\"226.5\" x2=\"231\" y1=\"343.3398\" y2=\"343.3398\"/></a><!--MD5=[09b614a08d8cba4a07c9adeb5e0fee81]\n",
       "class E3--><a href=\"psysml:64152dcd-188c-4285-9d2f-82b4222731ff\" target=\"_top\" title=\"psysml:64152dcd-188c-4285-9d2f-82b4222731ff\" xlink:actuate=\"onRequest\" xlink:href=\"psysml:64152dcd-188c-4285-9d2f-82b4222731ff\" xlink:show=\"new\" xlink:title=\"psysml:64152dcd-188c-4285-9d2f-82b4222731ff\" xlink:type=\"simple\"><rect fill=\"#FFFFFF\" height=\"45.9375\" id=\"E3\" style=\"stroke: #383838; stroke-width: 1.5;\" width=\"66\" x=\"137\" y=\"155\"/><text fill=\"#000000\" font-family=\"sans-serif\" font-size=\"12\" font-style=\"italic\" lengthAdjust=\"spacingAndGlyphs\" textLength=\"64\" x=\"138\" y=\"171.1387\">«part def»</text><text fill=\"#000000\" font-family=\"sans-serif\" font-size=\"12\" lengthAdjust=\"spacingAndGlyphs\" textLength=\"9\" x=\"165.5\" y=\"185.1074\">Q</text><line style=\"stroke: #383838; stroke-width: 1.5;\" x1=\"138\" x2=\"202\" y1=\"192.9375\" y2=\"192.9375\"/></a><!--MD5=[ebbe1d658d1005bcc118a6aa81145e00]\n",
       "class E4--><a href=\"psysml:6204c3f0-143a-45cc-ac58-9ea86a3a8ea6\" target=\"_top\" title=\"psysml:6204c3f0-143a-45cc-ac58-9ea86a3a8ea6\" xlink:actuate=\"onRequest\" xlink:href=\"psysml:6204c3f0-143a-45cc-ac58-9ea86a3a8ea6\" xlink:show=\"new\" xlink:title=\"psysml:6204c3f0-143a-45cc-ac58-9ea86a3a8ea6\" xlink:type=\"simple\"><rect fill=\"#FFFFFF\" height=\"45.9375\" id=\"E4\" style=\"stroke: #383838; stroke-width: 1.5;\" width=\"95\" x=\"255.5\" y=\"41\"/><text fill=\"#000000\" font-family=\"sans-serif\" font-size=\"12\" font-style=\"italic\" lengthAdjust=\"spacingAndGlyphs\" textLength=\"93\" x=\"256.5\" y=\"57.1387\">«attribute def»</text><text fill=\"#000000\" font-family=\"sans-serif\" font-size=\"12\" lengthAdjust=\"spacingAndGlyphs\" textLength=\"8\" x=\"299\" y=\"71.1074\">B</text><line style=\"stroke: #383838; stroke-width: 1.5;\" x1=\"256.5\" x2=\"349.5\" y1=\"78.9375\" y2=\"78.9375\"/></a><!--MD5=[270fce915f116d4de14055a7c1d9a0f3]\n",
       "class E5--><a href=\"psysml:58826ca2-a740-4eaa-a71e-521b590388a3\" target=\"_top\" title=\"psysml:58826ca2-a740-4eaa-a71e-521b590388a3\" xlink:actuate=\"onRequest\" xlink:href=\"psysml:58826ca2-a740-4eaa-a71e-521b590388a3\" xlink:show=\"new\" xlink:title=\"psysml:58826ca2-a740-4eaa-a71e-521b590388a3\" xlink:type=\"simple\"><rect fill=\"#FFFFFF\" height=\"45.9375\" id=\"E5\" style=\"stroke: #383838; stroke-width: 1.5;\" width=\"66\" x=\"315\" y=\"155\"/><text fill=\"#000000\" font-family=\"sans-serif\" font-size=\"12\" font-style=\"italic\" lengthAdjust=\"spacingAndGlyphs\" textLength=\"64\" x=\"316\" y=\"171.1387\">«part def»</text><text fill=\"#000000\" font-family=\"sans-serif\" font-size=\"12\" lengthAdjust=\"spacingAndGlyphs\" textLength=\"8\" x=\"344\" y=\"185.1074\">V</text><line style=\"stroke: #383838; stroke-width: 1.5;\" x1=\"316\" x2=\"380\" y1=\"192.9375\" y2=\"192.9375\"/></a><!--MD5=[60a26617385b1d2d0262a64233df1f8d]\n",
       "class E6--><a href=\"psysml:c2df0e2e-5a66-4a2b-abfc-b3b4dd7dd2c5\" target=\"_top\" title=\"psysml:c2df0e2e-5a66-4a2b-abfc-b3b4dd7dd2c5\" xlink:actuate=\"onRequest\" xlink:href=\"psysml:c2df0e2e-5a66-4a2b-abfc-b3b4dd7dd2c5\" xlink:show=\"new\" xlink:title=\"psysml:c2df0e2e-5a66-4a2b-abfc-b3b4dd7dd2c5\" xlink:type=\"simple\"><rect fill=\"#FFFFFF\" height=\"88.3516\" id=\"E6\" rx=\"10\" ry=\"10\" style=\"stroke: #383838; stroke-width: 1.5;\" width=\"63\" x=\"287.5\" y=\"285\"/><text fill=\"#000000\" font-family=\"sans-serif\" font-size=\"12\" font-style=\"italic\" lengthAdjust=\"spacingAndGlyphs\" textLength=\"40\" x=\"299\" y=\"301.1387\">«part»</text><text fill=\"#000000\" font-family=\"sans-serif\" font-size=\"12\" lengthAdjust=\"spacingAndGlyphs\" textLength=\"23\" x=\"307.5\" y=\"315.1074\">x: Q</text><line style=\"stroke: #383838; stroke-width: 1.5;\" x1=\"288.5\" x2=\"349.5\" y1=\"322.9375\" y2=\"322.9375\"/><text fill=\"#000000\" font-family=\"sans-serif\" font-size=\"11\" lengthAdjust=\"spacingAndGlyphs\" textLength=\"23\" x=\"293.5\" y=\"353.9526\">b: B</text><text fill=\"#000000\" font-family=\"sans-serif\" font-size=\"11\" font-style=\"italic\" lengthAdjust=\"spacingAndGlyphs\" textLength=\"44\" x=\"293.5\" y=\"366.7573\">:&gt;&gt;P::a</text><line style=\"stroke: #383838; stroke-width: 1.0;\" x1=\"288.5\" x2=\"291.5\" y1=\"337.3398\" y2=\"337.3398\"/><text fill=\"#000000\" font-family=\"sans-serif\" font-size=\"11\" lengthAdjust=\"spacingAndGlyphs\" textLength=\"55\" x=\"291.5\" y=\"340.6479\">attributes</text><line style=\"stroke: #383838; stroke-width: 1.0;\" x1=\"346.5\" x2=\"349.5\" y1=\"337.3398\" y2=\"337.3398\"/></a><!--MD5=[2156ba9850f5573cc1fc38a6a4b2f02b]\n",
       "class E7--><a href=\"psysml:d5aa7800-4c4d-4a74-9f82-8c5d7377a367\" target=\"_top\" title=\"psysml:d5aa7800-4c4d-4a74-9f82-8c5d7377a367\" xlink:actuate=\"onRequest\" xlink:href=\"psysml:d5aa7800-4c4d-4a74-9f82-8c5d7377a367\" xlink:show=\"new\" xlink:title=\"psysml:d5aa7800-4c4d-4a74-9f82-8c5d7377a367\" xlink:type=\"simple\"><rect fill=\"#FFFFFF\" height=\"45.9375\" id=\"E7\" rx=\"10\" ry=\"10\" style=\"stroke: #383838; stroke-width: 1.5;\" width=\"42\" x=\"149\" y=\"41\"/><text fill=\"#000000\" font-family=\"sans-serif\" font-size=\"12\" font-style=\"italic\" lengthAdjust=\"spacingAndGlyphs\" textLength=\"40\" x=\"150\" y=\"57.1387\">«part»</text><text fill=\"#000000\" font-family=\"sans-serif\" font-size=\"12\" lengthAdjust=\"spacingAndGlyphs\" textLength=\"25\" x=\"157.5\" y=\"71.1074\">q: Q</text><line style=\"stroke: #383838; stroke-width: 1.5;\" x1=\"150\" x2=\"190\" y1=\"78.9375\" y2=\"78.9375\"/></a><!--MD5=[b9389687b975829384b498ac4b7476b2]\n",
       "class E8--><a href=\"psysml:d7b3804f-80e3-4381-979e-bf8e2501fba8\" target=\"_top\" title=\"psysml:d7b3804f-80e3-4381-979e-bf8e2501fba8\" xlink:actuate=\"onRequest\" xlink:href=\"psysml:d7b3804f-80e3-4381-979e-bf8e2501fba8\" xlink:show=\"new\" xlink:title=\"psysml:d7b3804f-80e3-4381-979e-bf8e2501fba8\" xlink:type=\"simple\"><rect fill=\"#FFFFFF\" height=\"59.9063\" id=\"E8\" rx=\"10\" ry=\"10\" style=\"stroke: #383838; stroke-width: 1.5;\" width=\"70\" x=\"32\" y=\"148\"/><text fill=\"#000000\" font-family=\"sans-serif\" font-size=\"12\" font-style=\"italic\" lengthAdjust=\"spacingAndGlyphs\" textLength=\"68\" x=\"33\" y=\"164.1387\">«variation»</text><text fill=\"#000000\" font-family=\"sans-serif\" font-size=\"12\" font-style=\"italic\" lengthAdjust=\"spacingAndGlyphs\" textLength=\"40\" x=\"47\" y=\"178.1074\">«part»</text><text fill=\"#000000\" font-family=\"sans-serif\" font-size=\"12\" lengthAdjust=\"spacingAndGlyphs\" textLength=\"22\" x=\"56\" y=\"192.0762\">v: P</text><line style=\"stroke: #383838; stroke-width: 1.5;\" x1=\"33\" x2=\"101\" y1=\"199.9063\" y2=\"199.9063\"/></a><!--MD5=[fd4143e9d270a159db93a4ea2a975926]\n",
       "class E9--><a href=\"psysml:aeeab6cc-3339-44ed-a45c-f65a5d97c376\" target=\"_top\" title=\"psysml:aeeab6cc-3339-44ed-a45c-f65a5d97c376\" xlink:actuate=\"onRequest\" xlink:href=\"psysml:aeeab6cc-3339-44ed-a45c-f65a5d97c376\" xlink:show=\"new\" xlink:title=\"psysml:aeeab6cc-3339-44ed-a45c-f65a5d97c376\" xlink:type=\"simple\"><rect fill=\"#FFFFFF\" height=\"88.3516\" id=\"E9\" rx=\"10\" ry=\"10\" style=\"stroke: #383838; stroke-width: 1.5;\" width=\"77\" x=\"32.5\" y=\"285\"/><text fill=\"#000000\" font-family=\"sans-serif\" font-size=\"12\" font-style=\"italic\" lengthAdjust=\"spacingAndGlyphs\" textLength=\"75\" x=\"33.5\" y=\"301.1387\">«reference»</text><text fill=\"#000000\" font-family=\"sans-serif\" font-size=\"12\" lengthAdjust=\"spacingAndGlyphs\" textLength=\"8\" x=\"67\" y=\"315.1074\">q</text><line style=\"stroke: #383838; stroke-width: 1.5;\" x1=\"33.5\" x2=\"108.5\" y1=\"322.9375\" y2=\"322.9375\"/><text fill=\"#000000\" font-family=\"sans-serif\" font-size=\"11\" lengthAdjust=\"spacingAndGlyphs\" textLength=\"23\" x=\"38.5\" y=\"353.9526\">b: B</text><text fill=\"#000000\" font-family=\"sans-serif\" font-size=\"11\" font-style=\"italic\" lengthAdjust=\"spacingAndGlyphs\" textLength=\"44\" x=\"38.5\" y=\"366.7573\">:&gt;&gt;P::a</text><line style=\"stroke: #383838; stroke-width: 1.0;\" x1=\"33.5\" x2=\"43.5\" y1=\"337.3398\" y2=\"337.3398\"/><text fill=\"#000000\" font-family=\"sans-serif\" font-size=\"11\" lengthAdjust=\"spacingAndGlyphs\" textLength=\"55\" x=\"43.5\" y=\"340.6479\">attributes</text><line style=\"stroke: #383838; stroke-width: 1.0;\" x1=\"98.5\" x2=\"108.5\" y1=\"337.3398\" y2=\"337.3398\"/></a><!--MD5=[96f4274e9e20536e775497830990834d]\n",
       "class E10--><a href=\"psysml:fe63b1e8-840a-4f2e-b06a-2ce986f19d03\" target=\"_top\" title=\"psysml:fe63b1e8-840a-4f2e-b06a-2ce986f19d03\" xlink:actuate=\"onRequest\" xlink:href=\"psysml:fe63b1e8-840a-4f2e-b06a-2ce986f19d03\" xlink:show=\"new\" xlink:title=\"psysml:fe63b1e8-840a-4f2e-b06a-2ce986f19d03\" xlink:type=\"simple\"><rect fill=\"#FFFFFF\" height=\"45.9375\" id=\"E10\" rx=\"10\" ry=\"10\" style=\"stroke: #383838; stroke-width: 1.5;\" width=\"42\" x=\"238\" y=\"155\"/><text fill=\"#000000\" font-family=\"sans-serif\" font-size=\"12\" font-style=\"italic\" lengthAdjust=\"spacingAndGlyphs\" textLength=\"40\" x=\"239\" y=\"171.1387\">«part»</text><text fill=\"#000000\" font-family=\"sans-serif\" font-size=\"12\" lengthAdjust=\"spacingAndGlyphs\" textLength=\"22\" x=\"248\" y=\"185.1074\">y: P</text><line style=\"stroke: #383838; stroke-width: 1.5;\" x1=\"239\" x2=\"279\" y1=\"192.9375\" y2=\"192.9375\"/></a><!--MD5=[05d275557350bfb9b23a4ef7222b4c39]\n",
       "link E3 to E2--><a href=\"psysml:6495a820-e8c0-4129-af26-6722c3b7b9e6\" target=\"_top\" title=\"psysml:6495a820-e8c0-4129-af26-6722c3b7b9e6\" xlink:actuate=\"onRequest\" xlink:href=\"psysml:6495a820-e8c0-4129-af26-6722c3b7b9e6\" xlink:show=\"new\" xlink:title=\"psysml:6495a820-e8c0-4129-af26-6722c3b7b9e6\" xlink:type=\"simple\"><path d=\"M190.67,201.26 C190.67,201.26 190.67,270.73 190.67,270.73 \" fill=\"none\" id=\"E3-&gt;E2\" style=\"stroke: #383838; stroke-width: 1.0;\"/><polygon fill=\"none\" points=\"197.67,270.73,190.67,290.73,183.67,270.73,197.67,270.73\" style=\"stroke: #383838; stroke-width: 1.0;\"/></a><!--MD5=[15ebcb19ae302d9b601edb458606d402]\n",
       "link E5 to E2--><a href=\"psysml:bd00e4e7-d183-497a-b9f8-56660fc51e3e\" target=\"_top\" title=\"psysml:bd00e4e7-d183-497a-b9f8-56660fc51e3e\" xlink:actuate=\"onRequest\" xlink:href=\"psysml:bd00e4e7-d183-497a-b9f8-56660fc51e3e\" xlink:show=\"new\" xlink:title=\"psysml:bd00e4e7-d183-497a-b9f8-56660fc51e3e\" xlink:type=\"simple\"><path d=\"M326.83,201.22 C326.83,202.93 326.83,204 326.83,204 C326.83,204 222.33,204 222.33,204 C222.33,204 222.33,270.82 222.33,270.82 \" fill=\"none\" id=\"E5-&gt;E2\" style=\"stroke: #383838; stroke-width: 1.0;\"/><polygon fill=\"none\" points=\"229.33,270.82,222.33,290.82,215.33,270.82,229.33,270.82\" style=\"stroke: #383838; stroke-width: 1.0;\"/></a><!--MD5=[9120cf2e5df3bff93db8f754bbbc09b4]\n",
       "link E5 to E6--><a href=\"psysml:3ec706da-d65f-4ef5-8a1f-1e1b5df7e7c6\" target=\"_top\" title=\"psysml:3ec706da-d65f-4ef5-8a1f-1e1b5df7e7c6\" xlink:actuate=\"onRequest\" xlink:href=\"psysml:3ec706da-d65f-4ef5-8a1f-1e1b5df7e7c6\" xlink:show=\"new\" xlink:title=\"psysml:3ec706da-d65f-4ef5-8a1f-1e1b5df7e7c6\" xlink:type=\"simple\"><path d=\"M338.67,211.26 C338.67,211.26 338.67,274.72 338.67,274.72 \" fill=\"none\" id=\"E5-E6\" style=\"stroke: #383838; stroke-width: 1.0;\"/><polygon fill=\"#383838\" points=\"338.67,284.72,341.67,276.72,335.67,276.72,338.67,284.72\" style=\"stroke: #383838; stroke-width: 1.0;\"/><path d=\"M330.2128,204.3382 A9,9 0 0 0 347.1272 204.3382\" fill=\"none\" style=\"stroke: #383838; stroke-width: 1.5;\"/><text fill=\"#000000\" font-family=\"sans-serif\" font-size=\"13\" lengthAdjust=\"spacingAndGlyphs\" textLength=\"60\" x=\"320\" y=\"251.0669\">«variant»</text></a><!--MD5=[14ccda38c055a5c0da953d572bc50960]\n",
       "link E7 to E3--><a href=\"psysml:9cf32953-475b-4011-b1f8-e7f09d5ce449\" target=\"_top\" title=\"psysml:9cf32953-475b-4011-b1f8-e7f09d5ce449\" xlink:actuate=\"onRequest\" xlink:href=\"psysml:9cf32953-475b-4011-b1f8-e7f09d5ce449\" xlink:show=\"new\" xlink:title=\"psysml:9cf32953-475b-4011-b1f8-e7f09d5ce449\" xlink:type=\"simple\"><path d=\"M170,87.07 C170,87.07 170,134.96 170,134.96 \" fill=\"none\" id=\"E7-&gt;E3\" style=\"stroke: #383838; stroke-width: 1.0;\"/><polygon fill=\"#FFFFFF\" points=\"170,154.96,163,135.96,177,135.96,170,154.96\" style=\"stroke: #383838; stroke-width: 1.0;\"/><ellipse cx=\"165\" cy=\"130.26\" fill=\"#383838\" rx=\"2\" ry=\"2\" style=\"stroke: #383838; stroke-width: 1.0;\"/><ellipse cx=\"175\" cy=\"130.26\" fill=\"#383838\" rx=\"2\" ry=\"2\" style=\"stroke: #383838; stroke-width: 1.0;\"/></a><!--MD5=[f1f3f9f2fc535e6147756cb86a7f2e32]\n",
       "link E8 to E2--><a href=\"psysml:d1a9bfbc-b159-49c1-a5ca-956a4881ee49\" target=\"_top\" title=\"psysml:d1a9bfbc-b159-49c1-a5ca-956a4881ee49\" xlink:actuate=\"onRequest\" xlink:href=\"psysml:d1a9bfbc-b159-49c1-a5ca-956a4881ee49\" xlink:show=\"new\" xlink:title=\"psysml:d1a9bfbc-b159-49c1-a5ca-956a4881ee49\" xlink:type=\"simple\"><path d=\"M102.23,206 C134.84,206 178.33,206 178.33,206 C178.33,206 178.33,270.76 178.33,270.76 \" fill=\"none\" id=\"E8-&gt;E2\" style=\"stroke: #383838; stroke-width: 1.0;\"/><polygon fill=\"#FFFFFF\" points=\"178.33,290.76,171.33,271.76,185.33,271.76,178.33,290.76\" style=\"stroke: #383838; stroke-width: 1.0;\"/><ellipse cx=\"173.33\" cy=\"266.06\" fill=\"#383838\" rx=\"2\" ry=\"2\" style=\"stroke: #383838; stroke-width: 1.0;\"/><ellipse cx=\"183.33\" cy=\"266.06\" fill=\"#383838\" rx=\"2\" ry=\"2\" style=\"stroke: #383838; stroke-width: 1.0;\"/></a><!--MD5=[ed10624c06dd9a4fa49ccf290e8b16a8]\n",
       "link E8 to E9--><a href=\"psysml:4574f674-7c12-4143-bfb7-6a6844a72e64\" target=\"_top\" title=\"psysml:4574f674-7c12-4143-bfb7-6a6844a72e64\" xlink:actuate=\"onRequest\" xlink:href=\"psysml:4574f674-7c12-4143-bfb7-6a6844a72e64\" xlink:show=\"new\" xlink:title=\"psysml:4574f674-7c12-4143-bfb7-6a6844a72e64\" xlink:type=\"simple\"><path d=\"M67.25,218.19 C67.25,218.19 67.25,274.83 67.25,274.83 \" fill=\"none\" id=\"E8-E9\" style=\"stroke: #383838; stroke-width: 1.0;\"/><polygon fill=\"#383838\" points=\"67.25,284.83,70.25,276.83,64.25,276.83,67.25,284.83\" style=\"stroke: #383838; stroke-width: 1.0;\"/><path d=\"M58.7928,211.2682 A9,9 0 0 0 75.7072 211.2682\" fill=\"none\" style=\"stroke: #383838; stroke-width: 1.5;\"/><text fill=\"#000000\" font-family=\"sans-serif\" font-size=\"13\" lengthAdjust=\"spacingAndGlyphs\" textLength=\"60\" x=\"70\" y=\"251.0669\">«variant»</text></a><!--MD5=[0f36bececdf0dff6e600d6f64214b0f1]\n",
       "link E10 to E2--><a href=\"psysml:bd829215-07d4-45cb-8fe9-60748d4dd682\" target=\"_top\" title=\"psysml:bd829215-07d4-45cb-8fe9-60748d4dd682\" xlink:actuate=\"onRequest\" xlink:href=\"psysml:bd829215-07d4-45cb-8fe9-60748d4dd682\" xlink:show=\"new\" xlink:title=\"psysml:bd829215-07d4-45cb-8fe9-60748d4dd682\" xlink:type=\"simple\"><path d=\"M237.73,178 C225.55,178 212.67,178 212.67,178 C212.67,178 212.67,270.9 212.67,270.9 \" fill=\"none\" id=\"E10-&gt;E2\" style=\"stroke: #383838; stroke-width: 1.0;\"/><polygon fill=\"#FFFFFF\" points=\"212.67,290.9,205.67,271.9,219.67,271.9,212.67,290.9\" style=\"stroke: #383838; stroke-width: 1.0;\"/><ellipse cx=\"207.67\" cy=\"266.2\" fill=\"#383838\" rx=\"2\" ry=\"2\" style=\"stroke: #383838; stroke-width: 1.0;\"/><ellipse cx=\"217.67\" cy=\"266.2\" fill=\"#383838\" rx=\"2\" ry=\"2\" style=\"stroke: #383838; stroke-width: 1.0;\"/></a><!--MD5=[4f07bffb6a715e84fbfef5cc7cec2c12]\n",
       "@startuml\r\n",
       "skinparam linetype ortho\r\n",
       "skinparam monochrome true\r\n",
       "skinparam classbackgroundcolor white\r\n",
       "skinparam shadowing false\r\n",
       "skinparam wrapWidth 300\r\n",
       "hide circle\r\n",
       "\r\n",
       "package \"VariabilityTest\" as E1  [[psysml:6e13bc12-600f-4176-9ee3-c77c18f0da6f ]]  {\r\n",
       "comp def \"P\" as E2  <<(T,blue) part def>> [[psysml:a47e4883-53c6-48e5-9729-358fb18738b5 ]] {\r\n",
       "- - attributes - -\r\n",
       "a\r\n",
       "}\r\n",
       "comp def \"Q\" as E3  <<(T,blue) part def>> [[psysml:64152dcd-188c-4285-9d2f-82b4222731ff ]] {\r\n",
       "}\r\n",
       "comp def \"B\" as E4  <<(T,blue) attribute def>> [[psysml:6204c3f0-143a-45cc-ac58-9ea86a3a8ea6 ]] {\r\n",
       "}\r\n",
       "comp def \"V\" as E5  <<(T,blue) part def>> [[psysml:58826ca2-a740-4eaa-a71e-521b590388a3 ]] {\r\n",
       "}\r\n",
       "comp usage \"x: Q\" as E6  <<(T,blue) part>> [[psysml:c2df0e2e-5a66-4a2b-abfc-b3b4dd7dd2c5 ]] {\r\n",
       "- - attributes - -\r\n",
       "b: B\\n//:>>P::a// \r\n",
       "}\r\n",
       "comp usage \"q: Q\" as E7  <<(T,blue) part>> [[psysml:d5aa7800-4c4d-4a74-9f82-8c5d7377a367 ]] {\r\n",
       "}\r\n",
       "comp usage \"v: P\" as E8  <<variation>>\\n <<(T,blue) part>> [[psysml:d7b3804f-80e3-4381-979e-bf8e2501fba8 ]] {\r\n",
       "}\r\n",
       "comp usage \"q\" as E9  <<(T,blue) reference>> [[psysml:aeeab6cc-3339-44ed-a45c-f65a5d97c376 ]] {\r\n",
       "- - attributes - -\r\n",
       "b: B\\n//:>>P::a// \r\n",
       "}\r\n",
       "comp usage \"y: P\" as E10  <<(T,blue) part>> [[psysml:fe63b1e8-840a-4f2e-b06a-2ce986f19d03 ]] {\r\n",
       "}\r\n",
       "E3 - -|> E2 [[psysml:6495a820-e8c0-4129-af26-6722c3b7b9e6 ]] \r\n",
       "E5 - -|> E2 [[psysml:bd00e4e7-d183-497a-b9f8-56660fc51e3e ]] \r\n",
       "E5 )- ->> E6 [[psysml:3ec706da-d65f-4ef5-8a1f-1e1b5df7e7c6 ]] : <<variant>>\r\n",
       "E7 - -:|> E3 [[psysml:9cf32953-475b-4011-b1f8-e7f09d5ce449 ]] \r\n",
       "E8 - -:|> E2 [[psysml:d1a9bfbc-b159-49c1-a5ca-956a4881ee49 ]] \r\n",
       "E8 )- ->> E9 [[psysml:4574f674-7c12-4143-bfb7-6a6844a72e64 ]] : <<variant>>\r\n",
       "E10 - -:|> E2 [[psysml:bd829215-07d4-45cb-8fe9-60748d4dd682 ]] \r\n",
       "}\r\n",
       "@enduml\r\n",
       "\n",
       "PlantUML version 1.2020.13(Sat Jun 13 12:26:38 UTC 2020)\n",
       "(EPL source distribution)\n",
       "Java Runtime: OpenJDK Runtime Environment\n",
       "JVM: OpenJDK 64-Bit Server VM\n",
       "Default Encoding: UTF-8\n",
       "Language: en\n",
       "Country: null\n",
       "--></g></svg>"
      ]
     },
     "execution_count": 57,
     "metadata": {},
     "output_type": "execute_result"
    }
   ],
   "source": [
    "%viz --style=\"ORTHOLINE\" --view=\"MIXED\" \"VariabilityTest\""
   ]
  }
 ],
 "metadata": {
  "kernelspec": {
   "display_name": "SysML",
   "language": "sysml",
   "name": "sysml"
  },
  "language_info": {
   "codemirror_mode": "sysml",
   "file_extension": ".sysml",
   "mimetype": "text/x-sysml",
   "name": "SysML",
   "pygments_lexer": "java",
   "version": "1.0.0"
  }
 },
 "nbformat": 4,
 "nbformat_minor": 5
}
