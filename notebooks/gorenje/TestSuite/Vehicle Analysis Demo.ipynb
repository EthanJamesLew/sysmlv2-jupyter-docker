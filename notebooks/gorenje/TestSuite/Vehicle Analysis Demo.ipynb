{
 "cells": [
  {
   "cell_type": "markdown",
   "id": "a36a5cce",
   "metadata": {},
   "source": [
    "# SysML v2 Test Suite\n",
    "\n",
    "This can notebook can be cleared using menu `Edit --> Clear All Outputs` and then all cells can be\n",
    "run using menu `Run --> Run All Cells`.\n",
    "\n",
    "**WARNING**: This file is generated, all modifications here will be ignored.\n"
   ]
  },
  {
   "cell_type": "markdown",
   "id": "cc73e106",
   "metadata": {},
   "source": [
    "## File: ../../sysml/src/examples/Analysis Examples/Vehicle Analysis Demo.sysml"
   ]
  },
  {
   "cell_type": "code",
   "execution_count": 1,
   "id": "6de5e2f7",
   "metadata": {
    "execution": {
     "iopub.execute_input": "2021-04-20T07:30:39.827941Z",
     "iopub.status.busy": "2021-04-20T07:30:39.793955Z",
     "iopub.status.idle": "2021-04-20T07:30:46.904114Z",
     "shell.execute_reply": "2021-04-20T07:30:46.903006Z"
    }
   },
   "outputs": [
    {
     "data": {
      "text/plain": [
       "Package Vehicle Analysis Demo (6fff8ac8-69ee-40ac-9640-a3b633a5e15d)\n"
      ]
     },
     "execution_count": 1,
     "metadata": {},
     "output_type": "execute_result"
    }
   ],
   "source": [
    "package 'Vehicle Analysis Demo' {\n",
    "\tpackage VehicleQuantities {\n",
    "\t    import ScalarValues::*;\n",
    "\t    import Quantities::*;\n",
    "\t    import UnitsAndScales::*;\n",
    "\t    import ISQ::*;\n",
    "\t    import USCustomaryUnits::*;\n",
    "\t    \n",
    "\t    attribute def DistancePerVolumeUnit :> DerivedUnit {\n",
    "\t    \tprivate attribute distancePF: QuantityPowerFactor[1] { :>> quantity = isq::L; :>> exponent = 1; }\n",
    "\t        private attribute volumePF: QuantityPowerFactor[1] { :>> quantity = isq::L; :>> exponent = -3; }\n",
    "\t        attribute :>> quantityDimension { :>> quantityPowerFactors = {distancePF, volumePF}; }\n",
    "\t    }\n",
    "\n",
    "\t    attribute def DistancePerVolumeValue :> QuantityValue {\n",
    "\t        :>> num : Real;\n",
    "\t        :>> mRef : DistancePerVolumeUnit;\n",
    "\t    }\n",
    "\t    \n",
    "\t    attribute gallon : VolumeUnit = 231.0 * 'in' ** 3;\n",
    "\t    attribute mpg : DistancePerVolumeUnit = 'mi' / gallon;\n",
    "\t}\n",
    "\t\n",
    "\tpackage VehicleModel {\n",
    "\t    import VehicleQuantities::*;\n",
    "\t    \n",
    "\t    item def Fuel;\n",
    "\t        \n",
    "\t    port def FuelPort {\n",
    "\t        out item fuel: Fuel;\n",
    "\t    }\n",
    "\t    \n",
    "\t    part def FuelTank {\n",
    "\t        attribute volumeMax : VolumeValue;\n",
    "\t        attribute fuelVolume : VolumeValue;\n",
    "\t        attribute fuelLevel : Real = fuelVolume / volumeMax;\n",
    "\t        \n",
    "\t        port fuelInPort : ~FuelPort;\n",
    "\t        port fuelOutPort : FuelPort;\n",
    "\t    }\n",
    "\t    \n",
    "\t    part def Wheel {\n",
    "\t        attribute diameter : LengthValue;\n",
    "\t    }\n",
    "\t\n",
    "\t    part def Vehicle {\n",
    "\t        attribute mass : MassValue;\n",
    "\t        attribute cargoMass : MassValue;\n",
    "\t        \n",
    "\t        attribute wheelDiameter : LengthValue;\n",
    "\t        attribute driveTrainEfficiency : Real;\n",
    "\t        \n",
    "\t        attribute fuelEconomy_city : DistancePerVolumeValue;\n",
    "\t        attribute fuelEconomy_highway : DistancePerVolumeValue;\n",
    "\t\n",
    "\t        port fuelInPort : ~FuelPort;\n",
    "\t    }\n",
    "\t    \n",
    "\t    part vehicle_c1 : Vehicle {\n",
    "\t        port :>> fuelInPort {\n",
    "\t            in item :>> fuel;\n",
    "\t        }\n",
    "\t\n",
    "\t        part fuelTank : FuelTank {\n",
    "\t            port :>> fuelInPort {\n",
    "\t                in item :>> fuel;\n",
    "\t            }\n",
    "\t        }\n",
    "\t\n",
    "\t        bind fuelInPort::fuel = fuelTank::fuelInPort::fuel;\n",
    "\t\n",
    "\t        part wheel : Wheel[4] {\n",
    "\t            :>> diameter = wheelDiameter;\n",
    "\t        }\n",
    "\t    }\n",
    "\t}\n",
    "\t\n",
    "\tpackage FuelEconomyRequirementsModel {\n",
    "\t    import VehicleQuantities::*;\n",
    "\t\n",
    "\t    requirement def FuelEconomyRequirement {\n",
    "\t        attribute actualFuelEconomy : DistancePerVolumeValue;\n",
    "\t        attribute requiredFuelEconomy : DistancePerVolumeValue;\n",
    "\t\n",
    "\t        require constraint { actualFuelEconomy >= requiredFuelEconomy }\n",
    "\t    }\n",
    "\t\n",
    "\t    requirement cityFuelEconomyRequirement : FuelEconomyRequirement {\n",
    "\t        :>> requiredFuelEconomy = 25@[mpg];\n",
    "\t    }\n",
    "\t\n",
    "\t    requirement highwayFuelEconomyRequirement : FuelEconomyRequirement {\n",
    "\t        :>> requiredFuelEconomy = 30@[mpg];\n",
    "\t    }\n",
    "\t}\n",
    "\t\n",
    "\tpackage DynamicsModel {\n",
    "\t    import VehicleQuantities::*;\n",
    "\t    \n",
    "\t    calc def Acceleration(p : PowerValue, m : MassValue, v : SpeedValue) : AccelerationValue =\n",
    "\t        p / (m * v);\n",
    "\t    \n",
    "\t    calc def Velocity(v0 : SpeedValue, a : AccelerationValue, dt : TimeValue) : SpeedValue =\n",
    "\t        v0 + a * dt;\n",
    "\t    \n",
    "\t    calc def Position(x0 : LengthValue, v : SpeedValue, dt : TimeValue) : LengthValue =\n",
    "\t        x0 + v * dt;\n",
    "\t    \n",
    "\t    constraint def StraightLineDynamicsEquations(\n",
    "\t        p : PowerValue,\n",
    "\t        m : MassValue,\n",
    "\t        dt : TimeValue,\n",
    "\t        x_i : LengthValue,\n",
    "\t        v_i : SpeedValue,\n",
    "\t        x_f : LengthValue,\n",
    "\t        v_f : SpeedValue,\n",
    "\t        a : AccelerationValue\n",
    "\t    ) {\n",
    "\t        attribute v_avg : SpeedValue = (v_i + v_f)/2;\n",
    "\t\n",
    "\t        a == Acceleration(p, m, v_avg) &\n",
    "\t        v_f == Velocity(v_i, a, dt) &\n",
    "\t        x_f == Position(x_i, v_avg, dt)\n",
    "\t    }\n",
    "\t    \n",
    "\t    action def StraightLineDynamics (\n",
    "\t        in power : PowerValue,\n",
    "\t        in mass : MassValue,\n",
    "\t        in delta_t : TimeValue,\n",
    "\t        in x_in : LengthValue,\n",
    "\t        in v_in : SpeedValue,\n",
    "\t        out x_out : LengthValue,\n",
    "\t        out v_out : SpeedValue,\n",
    "\t        out a_out : AccelerationValue\n",
    "\t    ) {\n",
    "\t        assert constraint dynamics : StraightLineDynamicsEquations (\n",
    "\t            p = power,\n",
    "\t            m = mass,\n",
    "\t            dt = delta_t,\n",
    "\t            x_i = x_in,\n",
    "\t            v_i = v_in,\n",
    "\t            x_f = x_out,\n",
    "\t            v_f = v_out,\n",
    "\t            a = a_out\n",
    "\t        );\n",
    "\t    }\n",
    "\t}\n",
    "\t\n",
    "\tpackage FuelEconomyAnalysisModel {\n",
    "\t    import VehicleModel::*;\n",
    "\t    import FuelEconomyRequirementsModel::*;\n",
    "\t    import DynamicsModel::*;\n",
    "\t    import BaseFunctions::size;\n",
    "\t    import Collections::SampledFunction;\n",
    "\t    import Collections::SamplePair;\n",
    "\t\n",
    "\t\tattribute def ScenarioState {\n",
    "\t\t\tposition : LengthValue;\n",
    "\t\t\tvelocity : SpeedValue;\n",
    "\t\t}\n",
    "\t\t\n",
    "\t\tattribute def NominalScenario :> SampledFunction {\n",
    "\t\t\tattribute def TimeStateRecord :> SamplePair {\n",
    "\t\t\t\tt : TimeValue :>> domainValue;\n",
    "\t\t\t\ts : ScenarioState :>> rangeValue;\n",
    "\t\t\t}\n",
    "\t\t\t:>> samples : TimeStateRecord;\n",
    "\t\t\tn : Natural = size(samples);\n",
    "\t\t}\n",
    "\t\t\n",
    "\t\tanalysis def FuelEconomyAnalysis () calculatedFuelEconomy : DistancePerVolumeValue {\n",
    "\t\t\tsubject vehicle: Vehicle;\n",
    "\t\t\tin attribute scenario : NominalScenario;\n",
    "\t\t\tin requirement fuelEconomyRequirement : FuelEconomyRequirement;\n",
    "\t\t\t\n",
    "\t\t\tobjective fuelEconomyAnalysisObjective {\n",
    "\t\t\t\tdoc \n",
    "\t\t\t\t/*\n",
    "\t\t\t\t * The objective of this analysis is to determine whether the\n",
    "\t\t\t\t * current vehicle design configuration can satisfy the fuel\n",
    "\t\t\t\t * economy requirement.\n",
    "\t\t\t\t */\n",
    "\t\t\t\t\n",
    "\t\t\t\tassume constraint {\n",
    "\t\t\t\t\tvehicle::wheelDiameter == 33@['in'] &\n",
    "\t\t\t\t\tvehicle::driveTrainEfficiency == 0.4\n",
    "\t\t\t\t}\n",
    "\t\t\t\t\n",
    "\t\t\t\trequire fuelEconomyRequirement {\n",
    "\t\t\t\t\t:>> actualFuelEconomy = calculatedFuelEconomy;\n",
    "\t\t\t\t}\n",
    "\t\t\t}\n",
    "\t\t\t\n",
    "\t\t    \n",
    "\t\t\t//import scenario::*;\n",
    "\t\t\n",
    "\t\t\taction dynamicsAnalysis(\n",
    "\t\t\t\tin sc: NominalScenario,\n",
    "\t\t\t\tout power : PowerValue[*],\n",
    "\t\t\t\tout acceleration : AccelerationValue[*]\t) {\n",
    "\t\t\t\t/*\n",
    "\t\t\t\t * Solve for the required engine power as a function of time\n",
    "\t\t\t\t * to support the scenarios.\n",
    "\t\t\t\t */\n",
    "\t\t\t\tassert constraint straightLineDynamics {\n",
    "\t\t\t\t\t{1..sc.n-1}->forAll i (\n",
    "\t\t\t\t\t\tStraightLineDynamicsEquations (\n",
    "\t\t\t\t\t\t\tp => power[i],\n",
    "\t\t\t\t\t\t\tm => vehicle::mass,\n",
    "\t\t\t\t\t\t\tdt => sc.samples.t[i+1] - sc.samples.t[i],\n",
    "\t\t\t\t\t\t\tx_i => sc.samples.s.position[i],\n",
    "\t\t\t\t\t\t\tv_i => sc.samples.s.velocity[i],\n",
    "\t\t\t\t\t\t\tx_f => sc.samples.s.position[i+1],\n",
    "\t\t\t\t\t\t\tv_f => sc.samples.s.velocity[i+1],\n",
    "\t\t\t\t\t\t\ta => acceleration[i]                    \n",
    "\t\t\t\t\t\t)\n",
    "\t\t\t\t\t)\n",
    "\t\t\t\t}\n",
    "\t\t\t}\n",
    "\n",
    "\t\t    action fuelConsumptionAnalysis(\n",
    "\t\t        in power : PowerValue[*] = dynamicsAnalysis::power,\n",
    "\t\t        in acceleration : AccelerationValue[*] = dynamicsAnalysis::acceleration,\n",
    "\t\t        out fuelEconomy : DistancePerVolumeValue = calculatedFuelEconomy ) {\n",
    "\t\t        /*\n",
    "\t\t         * Solve the engine equations to determine how much fuel is\n",
    "\t\t         * consumed. The engine RPM is a function of the speed of the\n",
    "\t\t         * vehicle and the gear state.\n",
    "\t\t         */\n",
    "\t        }\n",
    "\t    }\n",
    "\t}\n",
    "\n",
    "\t\n",
    "\tpart vehicleFuelEconomyAnalysisContext {\n",
    "\t    import FuelEconomyAnalysisModel::*;\n",
    "\t\n",
    "\t    requirement vehicleFuelEconomyRequirementsGroup {\n",
    "\t        import FuelEconomyRequirementsModel::*;\n",
    "\t        \n",
    "\t        subject vehicle : Vehicle;\n",
    "\t\n",
    "\t        requirement vehicleFuelEconomyRequirement_city :> cityFuelEconomyRequirement {\n",
    "\t            doc /* The vehicle shall provide a fuel economy that is greater than or equal to\n",
    "\t             * 25 miles per gallon for the nominal city driving scenarios.\n",
    "\t             */\n",
    "\t\n",
    "\t            :>> actualFuelEconomy = vehicle::fuelEconomy_city;\n",
    "\t\n",
    "\t            assume constraint { vehicle::cargoMass == 1000@[lb] }\n",
    "\t        }\n",
    "\t\n",
    "\t        requirement vehicleFuelEconomyRequirement_highway :> highwayFuelEconomyRequirement {\n",
    "\t            doc /* The vehicle shall provide a fuel economy that is greater than or equal to\n",
    "\t             * 30 miles per gallon for the nominal highway driving scenarios.\n",
    "\t             */\n",
    "\t\n",
    "\t            :>> actualFuelEconomy = vehicle::fuelEconomy_highway;\n",
    "\t\n",
    "\t            assume constraint { vehicle::cargoMass == 1000@[lb] }\n",
    "\t        }\n",
    "\t\n",
    "\t    }\n",
    "\t    \n",
    "\t    attribute cityScenario : NominalScenario;\n",
    "\t    attribute highwayScenario : NominalScenario;\n",
    "\t\n",
    "\t    analysis cityFuelEconomyAnalysis : FuelEconomyAnalysis () {\n",
    "\t        subject vehicle = vehicle_c1;\n",
    "\t        attribute :>> scenario = cityScenario;\n",
    "\t        requirement :>> fuelEconomyRequirement = cityFuelEconomyRequirement;\n",
    "\t    }\n",
    "\t\n",
    "\t    analysis highwayFuelEconomyAnalysis : FuelEconomyAnalysis () {\n",
    "\t        subject vehicle = vehicle_c1;\n",
    "\t        attribute :>> scenario = highwayScenario;\n",
    "\t        requirement :>> fuelEconomyRequirement = highwayFuelEconomyRequirement;\n",
    "\t    }\n",
    "\t\n",
    "\t    part vehicle_c1_analysized :> vehicle_c1 {\n",
    "\t        attribute :>> fuelEconomy_city = cityFuelEconomyAnalysis::calculatedFuelEconomy;\n",
    "\t        attribute :>> fuelEconomy_highway = highwayFuelEconomyAnalysis::calculatedFuelEconomy;\n",
    "\t    }\n",
    "\t\n",
    "\t    satisfy vehicleFuelEconomyRequirementsGroup by vehicle_c1_analysized;\n",
    "\t}\n",
    "}"
   ]
  },
  {
   "cell_type": "code",
   "execution_count": 2,
   "id": "1bf30f8c",
   "metadata": {
    "execution": {
     "iopub.execute_input": "2021-04-20T07:30:46.957071Z",
     "iopub.status.busy": "2021-04-20T07:30:46.956111Z",
     "iopub.status.idle": "2021-04-20T07:30:46.970601Z",
     "shell.execute_reply": "2021-04-20T07:30:46.969938Z"
    }
   },
   "outputs": [
    {
     "data": {
      "text/plain": [
       "ERROR:Couldn't resolve reference to Element ''Vehicle'\n"
      ]
     },
     "execution_count": 2,
     "metadata": {},
     "output_type": "execute_result"
    }
   ],
   "source": [
    "%viz --style=\"COMPTREE\" --view=\"Default\" \"'Vehicle\""
   ]
  },
  {
   "cell_type": "code",
   "execution_count": 3,
   "id": "7c10f0d6",
   "metadata": {
    "execution": {
     "iopub.execute_input": "2021-04-20T07:30:47.022239Z",
     "iopub.status.busy": "2021-04-20T07:30:47.021573Z",
     "iopub.status.idle": "2021-04-20T07:30:47.025915Z",
     "shell.execute_reply": "2021-04-20T07:30:47.026882Z"
    }
   },
   "outputs": [
    {
     "data": {
      "text/plain": [
       "ERROR:Couldn't resolve reference to Element ''Vehicle'\n"
      ]
     },
     "execution_count": 3,
     "metadata": {},
     "output_type": "execute_result"
    }
   ],
   "source": [
    "%viz --style=\"COMPTREE\" --view=\"Tree\" \"'Vehicle\""
   ]
  },
  {
   "cell_type": "code",
   "execution_count": 4,
   "id": "136abca9",
   "metadata": {
    "execution": {
     "iopub.execute_input": "2021-04-20T07:30:47.082084Z",
     "iopub.status.busy": "2021-04-20T07:30:47.081032Z",
     "iopub.status.idle": "2021-04-20T07:30:47.083454Z",
     "shell.execute_reply": "2021-04-20T07:30:47.081645Z"
    }
   },
   "outputs": [
    {
     "data": {
      "text/plain": [
       "ERROR:Couldn't resolve reference to Element ''Vehicle'\n"
      ]
     },
     "execution_count": 4,
     "metadata": {},
     "output_type": "execute_result"
    }
   ],
   "source": [
    "%viz --style=\"COMPTREE\" --view=\"State\" \"'Vehicle\""
   ]
  },
  {
   "cell_type": "code",
   "execution_count": 5,
   "id": "deaf14a5",
   "metadata": {
    "execution": {
     "iopub.execute_input": "2021-04-20T07:30:47.133772Z",
     "iopub.status.busy": "2021-04-20T07:30:47.132919Z",
     "iopub.status.idle": "2021-04-20T07:30:47.136496Z",
     "shell.execute_reply": "2021-04-20T07:30:47.134445Z"
    }
   },
   "outputs": [
    {
     "data": {
      "text/plain": [
       "ERROR:Couldn't resolve reference to Element ''Vehicle'\n"
      ]
     },
     "execution_count": 5,
     "metadata": {},
     "output_type": "execute_result"
    }
   ],
   "source": [
    "%viz --style=\"COMPTREE\" --view=\"Interconnection\" \"'Vehicle\""
   ]
  },
  {
   "cell_type": "code",
   "execution_count": 6,
   "id": "bfd8e834",
   "metadata": {
    "execution": {
     "iopub.execute_input": "2021-04-20T07:30:47.189335Z",
     "iopub.status.busy": "2021-04-20T07:30:47.187498Z",
     "iopub.status.idle": "2021-04-20T07:30:47.191627Z",
     "shell.execute_reply": "2021-04-20T07:30:47.189894Z"
    }
   },
   "outputs": [
    {
     "data": {
      "text/plain": [
       "ERROR:Couldn't resolve reference to Element ''Vehicle'\n"
      ]
     },
     "execution_count": 6,
     "metadata": {},
     "output_type": "execute_result"
    }
   ],
   "source": [
    "%viz --style=\"COMPTREE\" --view=\"Action\" \"'Vehicle\""
   ]
  },
  {
   "cell_type": "code",
   "execution_count": 7,
   "id": "d9dc5b8f",
   "metadata": {
    "execution": {
     "iopub.execute_input": "2021-04-20T07:30:47.244001Z",
     "iopub.status.busy": "2021-04-20T07:30:47.243136Z",
     "iopub.status.idle": "2021-04-20T07:30:47.245941Z",
     "shell.execute_reply": "2021-04-20T07:30:47.244562Z"
    }
   },
   "outputs": [
    {
     "data": {
      "text/plain": [
       "ERROR:Couldn't resolve reference to Element ''Vehicle'\n"
      ]
     },
     "execution_count": 7,
     "metadata": {},
     "output_type": "execute_result"
    }
   ],
   "source": [
    "%viz --style=\"COMPTREE\" --view=\"Sequence\" \"'Vehicle\""
   ]
  },
  {
   "cell_type": "code",
   "execution_count": 8,
   "id": "3ea1f474",
   "metadata": {
    "execution": {
     "iopub.execute_input": "2021-04-20T07:30:47.300041Z",
     "iopub.status.busy": "2021-04-20T07:30:47.299019Z",
     "iopub.status.idle": "2021-04-20T07:30:47.304206Z",
     "shell.execute_reply": "2021-04-20T07:30:47.299419Z"
    }
   },
   "outputs": [
    {
     "data": {
      "text/plain": [
       "ERROR:Couldn't resolve reference to Element ''Vehicle'\n"
      ]
     },
     "execution_count": 8,
     "metadata": {},
     "output_type": "execute_result"
    }
   ],
   "source": [
    "%viz --style=\"COMPTREE\" --view=\"MIXED\" \"'Vehicle\""
   ]
  },
  {
   "cell_type": "code",
   "execution_count": 9,
   "id": "5ffdcea7",
   "metadata": {
    "execution": {
     "iopub.execute_input": "2021-04-20T07:30:47.353338Z",
     "iopub.status.busy": "2021-04-20T07:30:47.350742Z",
     "iopub.status.idle": "2021-04-20T07:30:47.356698Z",
     "shell.execute_reply": "2021-04-20T07:30:47.356121Z"
    }
   },
   "outputs": [
    {
     "data": {
      "text/plain": [
       "ERROR:Couldn't resolve reference to Element ''Vehicle'\n"
      ]
     },
     "execution_count": 9,
     "metadata": {},
     "output_type": "execute_result"
    }
   ],
   "source": [
    "%viz --style=\"POLYLINE\" --view=\"Default\" \"'Vehicle\""
   ]
  },
  {
   "cell_type": "code",
   "execution_count": 10,
   "id": "44b71210",
   "metadata": {
    "execution": {
     "iopub.execute_input": "2021-04-20T07:30:47.408881Z",
     "iopub.status.busy": "2021-04-20T07:30:47.405135Z",
     "iopub.status.idle": "2021-04-20T07:30:47.411560Z",
     "shell.execute_reply": "2021-04-20T07:30:47.409761Z"
    }
   },
   "outputs": [
    {
     "data": {
      "text/plain": [
       "ERROR:Couldn't resolve reference to Element ''Vehicle'\n"
      ]
     },
     "execution_count": 10,
     "metadata": {},
     "output_type": "execute_result"
    }
   ],
   "source": [
    "%viz --style=\"POLYLINE\" --view=\"Tree\" \"'Vehicle\""
   ]
  },
  {
   "cell_type": "code",
   "execution_count": 11,
   "id": "df85fe5f",
   "metadata": {
    "execution": {
     "iopub.execute_input": "2021-04-20T07:30:47.459146Z",
     "iopub.status.busy": "2021-04-20T07:30:47.458564Z",
     "iopub.status.idle": "2021-04-20T07:30:47.460819Z",
     "shell.execute_reply": "2021-04-20T07:30:47.460429Z"
    }
   },
   "outputs": [
    {
     "data": {
      "text/plain": [
       "ERROR:Couldn't resolve reference to Element ''Vehicle'\n"
      ]
     },
     "execution_count": 11,
     "metadata": {},
     "output_type": "execute_result"
    }
   ],
   "source": [
    "%viz --style=\"POLYLINE\" --view=\"State\" \"'Vehicle\""
   ]
  },
  {
   "cell_type": "code",
   "execution_count": 12,
   "id": "dd4a5005",
   "metadata": {
    "execution": {
     "iopub.execute_input": "2021-04-20T07:30:47.511922Z",
     "iopub.status.busy": "2021-04-20T07:30:47.511308Z",
     "iopub.status.idle": "2021-04-20T07:30:47.513401Z",
     "shell.execute_reply": "2021-04-20T07:30:47.512335Z"
    }
   },
   "outputs": [
    {
     "data": {
      "text/plain": [
       "ERROR:Couldn't resolve reference to Element ''Vehicle'\n"
      ]
     },
     "execution_count": 12,
     "metadata": {},
     "output_type": "execute_result"
    }
   ],
   "source": [
    "%viz --style=\"POLYLINE\" --view=\"Interconnection\" \"'Vehicle\""
   ]
  },
  {
   "cell_type": "code",
   "execution_count": 13,
   "id": "05fb1e0e",
   "metadata": {
    "execution": {
     "iopub.execute_input": "2021-04-20T07:30:47.564694Z",
     "iopub.status.busy": "2021-04-20T07:30:47.563978Z",
     "iopub.status.idle": "2021-04-20T07:30:47.566195Z",
     "shell.execute_reply": "2021-04-20T07:30:47.565123Z"
    }
   },
   "outputs": [
    {
     "data": {
      "text/plain": [
       "ERROR:Couldn't resolve reference to Element ''Vehicle'\n"
      ]
     },
     "execution_count": 13,
     "metadata": {},
     "output_type": "execute_result"
    }
   ],
   "source": [
    "%viz --style=\"POLYLINE\" --view=\"Action\" \"'Vehicle\""
   ]
  },
  {
   "cell_type": "code",
   "execution_count": 14,
   "id": "8db8717a",
   "metadata": {
    "execution": {
     "iopub.execute_input": "2021-04-20T07:30:47.617261Z",
     "iopub.status.busy": "2021-04-20T07:30:47.616721Z",
     "iopub.status.idle": "2021-04-20T07:30:47.618809Z",
     "shell.execute_reply": "2021-04-20T07:30:47.618447Z"
    }
   },
   "outputs": [
    {
     "data": {
      "text/plain": [
       "ERROR:Couldn't resolve reference to Element ''Vehicle'\n"
      ]
     },
     "execution_count": 14,
     "metadata": {},
     "output_type": "execute_result"
    }
   ],
   "source": [
    "%viz --style=\"POLYLINE\" --view=\"Sequence\" \"'Vehicle\""
   ]
  },
  {
   "cell_type": "code",
   "execution_count": 15,
   "id": "4fba2612",
   "metadata": {
    "execution": {
     "iopub.execute_input": "2021-04-20T07:30:47.670716Z",
     "iopub.status.busy": "2021-04-20T07:30:47.669926Z",
     "iopub.status.idle": "2021-04-20T07:30:47.673800Z",
     "shell.execute_reply": "2021-04-20T07:30:47.673213Z"
    }
   },
   "outputs": [
    {
     "data": {
      "text/plain": [
       "ERROR:Couldn't resolve reference to Element ''Vehicle'\n"
      ]
     },
     "execution_count": 15,
     "metadata": {},
     "output_type": "execute_result"
    }
   ],
   "source": [
    "%viz --style=\"POLYLINE\" --view=\"MIXED\" \"'Vehicle\""
   ]
  },
  {
   "cell_type": "code",
   "execution_count": 16,
   "id": "146a47f9",
   "metadata": {
    "execution": {
     "iopub.execute_input": "2021-04-20T07:30:47.724059Z",
     "iopub.status.busy": "2021-04-20T07:30:47.723270Z",
     "iopub.status.idle": "2021-04-20T07:30:47.725946Z",
     "shell.execute_reply": "2021-04-20T07:30:47.726364Z"
    }
   },
   "outputs": [
    {
     "data": {
      "text/plain": [
       "ERROR:Couldn't resolve reference to Element ''Vehicle'\n"
      ]
     },
     "execution_count": 16,
     "metadata": {},
     "output_type": "execute_result"
    }
   ],
   "source": [
    "%viz --style=\"LR\" --view=\"Default\" \"'Vehicle\""
   ]
  },
  {
   "cell_type": "code",
   "execution_count": 17,
   "id": "d729c07f",
   "metadata": {
    "execution": {
     "iopub.execute_input": "2021-04-20T07:30:47.777013Z",
     "iopub.status.busy": "2021-04-20T07:30:47.776226Z",
     "iopub.status.idle": "2021-04-20T07:30:47.778857Z",
     "shell.execute_reply": "2021-04-20T07:30:47.779318Z"
    }
   },
   "outputs": [
    {
     "data": {
      "text/plain": [
       "ERROR:Couldn't resolve reference to Element ''Vehicle'\n"
      ]
     },
     "execution_count": 17,
     "metadata": {},
     "output_type": "execute_result"
    }
   ],
   "source": [
    "%viz --style=\"LR\" --view=\"Tree\" \"'Vehicle\""
   ]
  },
  {
   "cell_type": "code",
   "execution_count": 18,
   "id": "fc5d40a8",
   "metadata": {
    "execution": {
     "iopub.execute_input": "2021-04-20T07:30:47.831682Z",
     "iopub.status.busy": "2021-04-20T07:30:47.830611Z",
     "iopub.status.idle": "2021-04-20T07:30:47.833931Z",
     "shell.execute_reply": "2021-04-20T07:30:47.832293Z"
    }
   },
   "outputs": [
    {
     "data": {
      "text/plain": [
       "ERROR:Couldn't resolve reference to Element ''Vehicle'\n"
      ]
     },
     "execution_count": 18,
     "metadata": {},
     "output_type": "execute_result"
    }
   ],
   "source": [
    "%viz --style=\"LR\" --view=\"State\" \"'Vehicle\""
   ]
  },
  {
   "cell_type": "code",
   "execution_count": 19,
   "id": "893b532c",
   "metadata": {
    "execution": {
     "iopub.execute_input": "2021-04-20T07:30:47.884780Z",
     "iopub.status.busy": "2021-04-20T07:30:47.884156Z",
     "iopub.status.idle": "2021-04-20T07:30:47.886761Z",
     "shell.execute_reply": "2021-04-20T07:30:47.886312Z"
    }
   },
   "outputs": [
    {
     "data": {
      "text/plain": [
       "ERROR:Couldn't resolve reference to Element ''Vehicle'\n"
      ]
     },
     "execution_count": 19,
     "metadata": {},
     "output_type": "execute_result"
    }
   ],
   "source": [
    "%viz --style=\"LR\" --view=\"Interconnection\" \"'Vehicle\""
   ]
  },
  {
   "cell_type": "code",
   "execution_count": 20,
   "id": "7989316a",
   "metadata": {
    "execution": {
     "iopub.execute_input": "2021-04-20T07:30:47.937230Z",
     "iopub.status.busy": "2021-04-20T07:30:47.936630Z",
     "iopub.status.idle": "2021-04-20T07:30:47.938866Z",
     "shell.execute_reply": "2021-04-20T07:30:47.937704Z"
    }
   },
   "outputs": [
    {
     "data": {
      "text/plain": [
       "ERROR:Couldn't resolve reference to Element ''Vehicle'\n"
      ]
     },
     "execution_count": 20,
     "metadata": {},
     "output_type": "execute_result"
    }
   ],
   "source": [
    "%viz --style=\"LR\" --view=\"Action\" \"'Vehicle\""
   ]
  },
  {
   "cell_type": "code",
   "execution_count": 21,
   "id": "16e1eff4",
   "metadata": {
    "execution": {
     "iopub.execute_input": "2021-04-20T07:30:47.989866Z",
     "iopub.status.busy": "2021-04-20T07:30:47.989232Z",
     "iopub.status.idle": "2021-04-20T07:30:47.991416Z",
     "shell.execute_reply": "2021-04-20T07:30:47.991099Z"
    }
   },
   "outputs": [
    {
     "data": {
      "text/plain": [
       "ERROR:Couldn't resolve reference to Element ''Vehicle'\n"
      ]
     },
     "execution_count": 21,
     "metadata": {},
     "output_type": "execute_result"
    }
   ],
   "source": [
    "%viz --style=\"LR\" --view=\"Sequence\" \"'Vehicle\""
   ]
  },
  {
   "cell_type": "code",
   "execution_count": 22,
   "id": "f4c49357",
   "metadata": {
    "execution": {
     "iopub.execute_input": "2021-04-20T07:30:48.042623Z",
     "iopub.status.busy": "2021-04-20T07:30:48.041799Z",
     "iopub.status.idle": "2021-04-20T07:30:48.044216Z",
     "shell.execute_reply": "2021-04-20T07:30:48.043872Z"
    }
   },
   "outputs": [
    {
     "data": {
      "text/plain": [
       "ERROR:Couldn't resolve reference to Element ''Vehicle'\n"
      ]
     },
     "execution_count": 22,
     "metadata": {},
     "output_type": "execute_result"
    }
   ],
   "source": [
    "%viz --style=\"LR\" --view=\"MIXED\" \"'Vehicle\""
   ]
  },
  {
   "cell_type": "code",
   "execution_count": 23,
   "id": "384e0e8e",
   "metadata": {
    "execution": {
     "iopub.execute_input": "2021-04-20T07:30:48.095365Z",
     "iopub.status.busy": "2021-04-20T07:30:48.094887Z",
     "iopub.status.idle": "2021-04-20T07:30:48.098864Z",
     "shell.execute_reply": "2021-04-20T07:30:48.098468Z"
    }
   },
   "outputs": [
    {
     "data": {
      "text/plain": [
       "ERROR:Couldn't resolve reference to Element ''Vehicle'\n"
      ]
     },
     "execution_count": 23,
     "metadata": {},
     "output_type": "execute_result"
    }
   ],
   "source": [
    "%viz --style=\"STDCOLOR\" --view=\"Default\" \"'Vehicle\""
   ]
  },
  {
   "cell_type": "code",
   "execution_count": 24,
   "id": "6c242ef9",
   "metadata": {
    "execution": {
     "iopub.execute_input": "2021-04-20T07:30:48.148307Z",
     "iopub.status.busy": "2021-04-20T07:30:48.147639Z",
     "iopub.status.idle": "2021-04-20T07:30:48.150123Z",
     "shell.execute_reply": "2021-04-20T07:30:48.149835Z"
    }
   },
   "outputs": [
    {
     "data": {
      "text/plain": [
       "ERROR:Couldn't resolve reference to Element ''Vehicle'\n"
      ]
     },
     "execution_count": 24,
     "metadata": {},
     "output_type": "execute_result"
    }
   ],
   "source": [
    "%viz --style=\"STDCOLOR\" --view=\"Tree\" \"'Vehicle\""
   ]
  },
  {
   "cell_type": "code",
   "execution_count": 25,
   "id": "64a2979e",
   "metadata": {
    "execution": {
     "iopub.execute_input": "2021-04-20T07:30:48.200924Z",
     "iopub.status.busy": "2021-04-20T07:30:48.200349Z",
     "iopub.status.idle": "2021-04-20T07:30:48.203011Z",
     "shell.execute_reply": "2021-04-20T07:30:48.202672Z"
    }
   },
   "outputs": [
    {
     "data": {
      "text/plain": [
       "ERROR:Couldn't resolve reference to Element ''Vehicle'\n"
      ]
     },
     "execution_count": 25,
     "metadata": {},
     "output_type": "execute_result"
    }
   ],
   "source": [
    "%viz --style=\"STDCOLOR\" --view=\"State\" \"'Vehicle\""
   ]
  },
  {
   "cell_type": "code",
   "execution_count": 26,
   "id": "17acfa16",
   "metadata": {
    "execution": {
     "iopub.execute_input": "2021-04-20T07:30:48.253915Z",
     "iopub.status.busy": "2021-04-20T07:30:48.253336Z",
     "iopub.status.idle": "2021-04-20T07:30:48.255305Z",
     "shell.execute_reply": "2021-04-20T07:30:48.254303Z"
    }
   },
   "outputs": [
    {
     "data": {
      "text/plain": [
       "ERROR:Couldn't resolve reference to Element ''Vehicle'\n"
      ]
     },
     "execution_count": 26,
     "metadata": {},
     "output_type": "execute_result"
    }
   ],
   "source": [
    "%viz --style=\"STDCOLOR\" --view=\"Interconnection\" \"'Vehicle\""
   ]
  },
  {
   "cell_type": "code",
   "execution_count": 27,
   "id": "cc2e4f73",
   "metadata": {
    "execution": {
     "iopub.execute_input": "2021-04-20T07:30:48.306040Z",
     "iopub.status.busy": "2021-04-20T07:30:48.305497Z",
     "iopub.status.idle": "2021-04-20T07:30:48.307467Z",
     "shell.execute_reply": "2021-04-20T07:30:48.307154Z"
    }
   },
   "outputs": [
    {
     "data": {
      "text/plain": [
       "ERROR:Couldn't resolve reference to Element ''Vehicle'\n"
      ]
     },
     "execution_count": 27,
     "metadata": {},
     "output_type": "execute_result"
    }
   ],
   "source": [
    "%viz --style=\"STDCOLOR\" --view=\"Action\" \"'Vehicle\""
   ]
  },
  {
   "cell_type": "code",
   "execution_count": 28,
   "id": "e8ff24a7",
   "metadata": {
    "execution": {
     "iopub.execute_input": "2021-04-20T07:30:48.358478Z",
     "iopub.status.busy": "2021-04-20T07:30:48.357992Z",
     "iopub.status.idle": "2021-04-20T07:30:48.360153Z",
     "shell.execute_reply": "2021-04-20T07:30:48.359800Z"
    }
   },
   "outputs": [
    {
     "data": {
      "text/plain": [
       "ERROR:Couldn't resolve reference to Element ''Vehicle'\n"
      ]
     },
     "execution_count": 28,
     "metadata": {},
     "output_type": "execute_result"
    }
   ],
   "source": [
    "%viz --style=\"STDCOLOR\" --view=\"Sequence\" \"'Vehicle\""
   ]
  },
  {
   "cell_type": "code",
   "execution_count": 29,
   "id": "9f647ec4",
   "metadata": {
    "execution": {
     "iopub.execute_input": "2021-04-20T07:30:48.411137Z",
     "iopub.status.busy": "2021-04-20T07:30:48.410588Z",
     "iopub.status.idle": "2021-04-20T07:30:48.412742Z",
     "shell.execute_reply": "2021-04-20T07:30:48.411491Z"
    }
   },
   "outputs": [
    {
     "data": {
      "text/plain": [
       "ERROR:Couldn't resolve reference to Element ''Vehicle'\n"
      ]
     },
     "execution_count": 29,
     "metadata": {},
     "output_type": "execute_result"
    }
   ],
   "source": [
    "%viz --style=\"STDCOLOR\" --view=\"MIXED\" \"'Vehicle\""
   ]
  },
  {
   "cell_type": "code",
   "execution_count": 30,
   "id": "51ef7600",
   "metadata": {
    "execution": {
     "iopub.execute_input": "2021-04-20T07:30:48.463393Z",
     "iopub.status.busy": "2021-04-20T07:30:48.462853Z",
     "iopub.status.idle": "2021-04-20T07:30:48.464785Z",
     "shell.execute_reply": "2021-04-20T07:30:48.463778Z"
    }
   },
   "outputs": [
    {
     "data": {
      "text/plain": [
       "ERROR:Couldn't resolve reference to Element ''Vehicle'\n"
      ]
     },
     "execution_count": 30,
     "metadata": {},
     "output_type": "execute_result"
    }
   ],
   "source": [
    "%viz --style=\"PLANTUML\" --view=\"Default\" \"'Vehicle\""
   ]
  },
  {
   "cell_type": "code",
   "execution_count": 31,
   "id": "8518a92c",
   "metadata": {
    "execution": {
     "iopub.execute_input": "2021-04-20T07:30:48.515583Z",
     "iopub.status.busy": "2021-04-20T07:30:48.514983Z",
     "iopub.status.idle": "2021-04-20T07:30:48.516810Z",
     "shell.execute_reply": "2021-04-20T07:30:48.515928Z"
    }
   },
   "outputs": [
    {
     "data": {
      "text/plain": [
       "ERROR:Couldn't resolve reference to Element ''Vehicle'\n"
      ]
     },
     "execution_count": 31,
     "metadata": {},
     "output_type": "execute_result"
    }
   ],
   "source": [
    "%viz --style=\"PLANTUML\" --view=\"Tree\" \"'Vehicle\""
   ]
  },
  {
   "cell_type": "code",
   "execution_count": 32,
   "id": "78766f20",
   "metadata": {
    "execution": {
     "iopub.execute_input": "2021-04-20T07:30:48.568145Z",
     "iopub.status.busy": "2021-04-20T07:30:48.567531Z",
     "iopub.status.idle": "2021-04-20T07:30:48.569723Z",
     "shell.execute_reply": "2021-04-20T07:30:48.568550Z"
    }
   },
   "outputs": [
    {
     "data": {
      "text/plain": [
       "ERROR:Couldn't resolve reference to Element ''Vehicle'\n"
      ]
     },
     "execution_count": 32,
     "metadata": {},
     "output_type": "execute_result"
    }
   ],
   "source": [
    "%viz --style=\"PLANTUML\" --view=\"State\" \"'Vehicle\""
   ]
  },
  {
   "cell_type": "code",
   "execution_count": 33,
   "id": "6b0e42f0",
   "metadata": {
    "execution": {
     "iopub.execute_input": "2021-04-20T07:30:48.620750Z",
     "iopub.status.busy": "2021-04-20T07:30:48.620237Z",
     "iopub.status.idle": "2021-04-20T07:30:48.622098Z",
     "shell.execute_reply": "2021-04-20T07:30:48.621766Z"
    }
   },
   "outputs": [
    {
     "data": {
      "text/plain": [
       "ERROR:Couldn't resolve reference to Element ''Vehicle'\n"
      ]
     },
     "execution_count": 33,
     "metadata": {},
     "output_type": "execute_result"
    }
   ],
   "source": [
    "%viz --style=\"PLANTUML\" --view=\"Interconnection\" \"'Vehicle\""
   ]
  },
  {
   "cell_type": "code",
   "execution_count": 34,
   "id": "4e0b29e2",
   "metadata": {
    "execution": {
     "iopub.execute_input": "2021-04-20T07:30:48.672976Z",
     "iopub.status.busy": "2021-04-20T07:30:48.672404Z",
     "iopub.status.idle": "2021-04-20T07:30:48.674365Z",
     "shell.execute_reply": "2021-04-20T07:30:48.673301Z"
    }
   },
   "outputs": [
    {
     "data": {
      "text/plain": [
       "ERROR:Couldn't resolve reference to Element ''Vehicle'\n"
      ]
     },
     "execution_count": 34,
     "metadata": {},
     "output_type": "execute_result"
    }
   ],
   "source": [
    "%viz --style=\"PLANTUML\" --view=\"Action\" \"'Vehicle\""
   ]
  },
  {
   "cell_type": "code",
   "execution_count": 35,
   "id": "23a9974a",
   "metadata": {
    "execution": {
     "iopub.execute_input": "2021-04-20T07:30:48.725299Z",
     "iopub.status.busy": "2021-04-20T07:30:48.724674Z",
     "iopub.status.idle": "2021-04-20T07:30:48.726813Z",
     "shell.execute_reply": "2021-04-20T07:30:48.725765Z"
    }
   },
   "outputs": [
    {
     "data": {
      "text/plain": [
       "ERROR:Couldn't resolve reference to Element ''Vehicle'\n"
      ]
     },
     "execution_count": 35,
     "metadata": {},
     "output_type": "execute_result"
    }
   ],
   "source": [
    "%viz --style=\"PLANTUML\" --view=\"Sequence\" \"'Vehicle\""
   ]
  },
  {
   "cell_type": "code",
   "execution_count": 36,
   "id": "60290471",
   "metadata": {
    "execution": {
     "iopub.execute_input": "2021-04-20T07:30:48.777480Z",
     "iopub.status.busy": "2021-04-20T07:30:48.776950Z",
     "iopub.status.idle": "2021-04-20T07:30:48.778750Z",
     "shell.execute_reply": "2021-04-20T07:30:48.777826Z"
    }
   },
   "outputs": [
    {
     "data": {
      "text/plain": [
       "ERROR:Couldn't resolve reference to Element ''Vehicle'\n"
      ]
     },
     "execution_count": 36,
     "metadata": {},
     "output_type": "execute_result"
    }
   ],
   "source": [
    "%viz --style=\"PLANTUML\" --view=\"MIXED\" \"'Vehicle\""
   ]
  },
  {
   "cell_type": "code",
   "execution_count": 37,
   "id": "530db010",
   "metadata": {
    "execution": {
     "iopub.execute_input": "2021-04-20T07:30:48.829633Z",
     "iopub.status.busy": "2021-04-20T07:30:48.828974Z",
     "iopub.status.idle": "2021-04-20T07:30:48.831039Z",
     "shell.execute_reply": "2021-04-20T07:30:48.829975Z"
    }
   },
   "outputs": [
    {
     "data": {
      "text/plain": [
       "ERROR:Couldn't resolve reference to Element ''Vehicle'\n"
      ]
     },
     "execution_count": 37,
     "metadata": {},
     "output_type": "execute_result"
    }
   ],
   "source": [
    "%viz --style=\"DEFAULT\" --view=\"Default\" \"'Vehicle\""
   ]
  },
  {
   "cell_type": "code",
   "execution_count": 38,
   "id": "6ebf5a5d",
   "metadata": {
    "execution": {
     "iopub.execute_input": "2021-04-20T07:30:48.881636Z",
     "iopub.status.busy": "2021-04-20T07:30:48.881158Z",
     "iopub.status.idle": "2021-04-20T07:30:48.882927Z",
     "shell.execute_reply": "2021-04-20T07:30:48.881943Z"
    }
   },
   "outputs": [
    {
     "data": {
      "text/plain": [
       "ERROR:Couldn't resolve reference to Element ''Vehicle'\n"
      ]
     },
     "execution_count": 38,
     "metadata": {},
     "output_type": "execute_result"
    }
   ],
   "source": [
    "%viz --style=\"DEFAULT\" --view=\"Tree\" \"'Vehicle\""
   ]
  },
  {
   "cell_type": "code",
   "execution_count": 39,
   "id": "183ac8e0",
   "metadata": {
    "execution": {
     "iopub.execute_input": "2021-04-20T07:30:48.933519Z",
     "iopub.status.busy": "2021-04-20T07:30:48.933046Z",
     "iopub.status.idle": "2021-04-20T07:30:48.935871Z",
     "shell.execute_reply": "2021-04-20T07:30:48.935529Z"
    }
   },
   "outputs": [
    {
     "data": {
      "text/plain": [
       "ERROR:Couldn't resolve reference to Element ''Vehicle'\n"
      ]
     },
     "execution_count": 39,
     "metadata": {},
     "output_type": "execute_result"
    }
   ],
   "source": [
    "%viz --style=\"DEFAULT\" --view=\"State\" \"'Vehicle\""
   ]
  },
  {
   "cell_type": "code",
   "execution_count": 40,
   "id": "c005e02c",
   "metadata": {
    "execution": {
     "iopub.execute_input": "2021-04-20T07:30:48.987879Z",
     "iopub.status.busy": "2021-04-20T07:30:48.987163Z",
     "iopub.status.idle": "2021-04-20T07:30:48.989189Z",
     "shell.execute_reply": "2021-04-20T07:30:48.987492Z"
    }
   },
   "outputs": [
    {
     "data": {
      "text/plain": [
       "ERROR:Couldn't resolve reference to Element ''Vehicle'\n"
      ]
     },
     "execution_count": 40,
     "metadata": {},
     "output_type": "execute_result"
    }
   ],
   "source": [
    "%viz --style=\"DEFAULT\" --view=\"Interconnection\" \"'Vehicle\""
   ]
  },
  {
   "cell_type": "code",
   "execution_count": 41,
   "id": "44b16957",
   "metadata": {
    "execution": {
     "iopub.execute_input": "2021-04-20T07:30:49.038791Z",
     "iopub.status.busy": "2021-04-20T07:30:49.038298Z",
     "iopub.status.idle": "2021-04-20T07:30:49.040616Z",
     "shell.execute_reply": "2021-04-20T07:30:49.039186Z"
    }
   },
   "outputs": [
    {
     "data": {
      "text/plain": [
       "ERROR:Couldn't resolve reference to Element ''Vehicle'\n"
      ]
     },
     "execution_count": 41,
     "metadata": {},
     "output_type": "execute_result"
    }
   ],
   "source": [
    "%viz --style=\"DEFAULT\" --view=\"Action\" \"'Vehicle\""
   ]
  },
  {
   "cell_type": "code",
   "execution_count": 42,
   "id": "d5bae097",
   "metadata": {
    "execution": {
     "iopub.execute_input": "2021-04-20T07:30:49.092084Z",
     "iopub.status.busy": "2021-04-20T07:30:49.091409Z",
     "iopub.status.idle": "2021-04-20T07:30:49.093008Z",
     "shell.execute_reply": "2021-04-20T07:30:49.091769Z"
    }
   },
   "outputs": [
    {
     "data": {
      "text/plain": [
       "ERROR:Couldn't resolve reference to Element ''Vehicle'\n"
      ]
     },
     "execution_count": 42,
     "metadata": {},
     "output_type": "execute_result"
    }
   ],
   "source": [
    "%viz --style=\"DEFAULT\" --view=\"Sequence\" \"'Vehicle\""
   ]
  },
  {
   "cell_type": "code",
   "execution_count": 43,
   "id": "62a9fa5d",
   "metadata": {
    "execution": {
     "iopub.execute_input": "2021-04-20T07:30:49.143201Z",
     "iopub.status.busy": "2021-04-20T07:30:49.142526Z",
     "iopub.status.idle": "2021-04-20T07:30:49.144519Z",
     "shell.execute_reply": "2021-04-20T07:30:49.144226Z"
    }
   },
   "outputs": [
    {
     "data": {
      "text/plain": [
       "ERROR:Couldn't resolve reference to Element ''Vehicle'\n"
      ]
     },
     "execution_count": 43,
     "metadata": {},
     "output_type": "execute_result"
    }
   ],
   "source": [
    "%viz --style=\"DEFAULT\" --view=\"MIXED\" \"'Vehicle\""
   ]
  },
  {
   "cell_type": "code",
   "execution_count": 44,
   "id": "90579cbd",
   "metadata": {
    "execution": {
     "iopub.execute_input": "2021-04-20T07:30:49.196263Z",
     "iopub.status.busy": "2021-04-20T07:30:49.195468Z",
     "iopub.status.idle": "2021-04-20T07:30:49.197784Z",
     "shell.execute_reply": "2021-04-20T07:30:49.196622Z"
    }
   },
   "outputs": [
    {
     "data": {
      "text/plain": [
       "ERROR:Couldn't resolve reference to Element ''Vehicle'\n"
      ]
     },
     "execution_count": 44,
     "metadata": {},
     "output_type": "execute_result"
    }
   ],
   "source": [
    "%viz --style=\"TB\" --view=\"Default\" \"'Vehicle\""
   ]
  },
  {
   "cell_type": "code",
   "execution_count": 45,
   "id": "1f8c7114",
   "metadata": {
    "execution": {
     "iopub.execute_input": "2021-04-20T07:30:49.248080Z",
     "iopub.status.busy": "2021-04-20T07:30:49.247516Z",
     "iopub.status.idle": "2021-04-20T07:30:49.249441Z",
     "shell.execute_reply": "2021-04-20T07:30:49.248396Z"
    }
   },
   "outputs": [
    {
     "data": {
      "text/plain": [
       "ERROR:Couldn't resolve reference to Element ''Vehicle'\n"
      ]
     },
     "execution_count": 45,
     "metadata": {},
     "output_type": "execute_result"
    }
   ],
   "source": [
    "%viz --style=\"TB\" --view=\"Tree\" \"'Vehicle\""
   ]
  },
  {
   "cell_type": "code",
   "execution_count": 46,
   "id": "7887a864",
   "metadata": {
    "execution": {
     "iopub.execute_input": "2021-04-20T07:30:49.300218Z",
     "iopub.status.busy": "2021-04-20T07:30:49.299682Z",
     "iopub.status.idle": "2021-04-20T07:30:49.301460Z",
     "shell.execute_reply": "2021-04-20T07:30:49.300529Z"
    }
   },
   "outputs": [
    {
     "data": {
      "text/plain": [
       "ERROR:Couldn't resolve reference to Element ''Vehicle'\n"
      ]
     },
     "execution_count": 46,
     "metadata": {},
     "output_type": "execute_result"
    }
   ],
   "source": [
    "%viz --style=\"TB\" --view=\"State\" \"'Vehicle\""
   ]
  },
  {
   "cell_type": "code",
   "execution_count": 47,
   "id": "2e245fa7",
   "metadata": {
    "execution": {
     "iopub.execute_input": "2021-04-20T07:30:49.353017Z",
     "iopub.status.busy": "2021-04-20T07:30:49.352409Z",
     "iopub.status.idle": "2021-04-20T07:30:49.354376Z",
     "shell.execute_reply": "2021-04-20T07:30:49.353348Z"
    }
   },
   "outputs": [
    {
     "data": {
      "text/plain": [
       "ERROR:Couldn't resolve reference to Element ''Vehicle'\n"
      ]
     },
     "execution_count": 47,
     "metadata": {},
     "output_type": "execute_result"
    }
   ],
   "source": [
    "%viz --style=\"TB\" --view=\"Interconnection\" \"'Vehicle\""
   ]
  },
  {
   "cell_type": "code",
   "execution_count": 48,
   "id": "1ce74dad",
   "metadata": {
    "execution": {
     "iopub.execute_input": "2021-04-20T07:30:49.404439Z",
     "iopub.status.busy": "2021-04-20T07:30:49.403685Z",
     "iopub.status.idle": "2021-04-20T07:30:49.405976Z",
     "shell.execute_reply": "2021-04-20T07:30:49.404921Z"
    }
   },
   "outputs": [
    {
     "data": {
      "text/plain": [
       "ERROR:Couldn't resolve reference to Element ''Vehicle'\n"
      ]
     },
     "execution_count": 48,
     "metadata": {},
     "output_type": "execute_result"
    }
   ],
   "source": [
    "%viz --style=\"TB\" --view=\"Action\" \"'Vehicle\""
   ]
  },
  {
   "cell_type": "code",
   "execution_count": 49,
   "id": "25cf4ca4",
   "metadata": {
    "execution": {
     "iopub.execute_input": "2021-04-20T07:30:49.456438Z",
     "iopub.status.busy": "2021-04-20T07:30:49.455851Z",
     "iopub.status.idle": "2021-04-20T07:30:49.457959Z",
     "shell.execute_reply": "2021-04-20T07:30:49.456910Z"
    }
   },
   "outputs": [
    {
     "data": {
      "text/plain": [
       "ERROR:Couldn't resolve reference to Element ''Vehicle'\n"
      ]
     },
     "execution_count": 49,
     "metadata": {},
     "output_type": "execute_result"
    }
   ],
   "source": [
    "%viz --style=\"TB\" --view=\"Sequence\" \"'Vehicle\""
   ]
  },
  {
   "cell_type": "code",
   "execution_count": 50,
   "id": "40d65199",
   "metadata": {
    "execution": {
     "iopub.execute_input": "2021-04-20T07:30:49.508084Z",
     "iopub.status.busy": "2021-04-20T07:30:49.507573Z",
     "iopub.status.idle": "2021-04-20T07:30:49.509333Z",
     "shell.execute_reply": "2021-04-20T07:30:49.508354Z"
    }
   },
   "outputs": [
    {
     "data": {
      "text/plain": [
       "ERROR:Couldn't resolve reference to Element ''Vehicle'\n"
      ]
     },
     "execution_count": 50,
     "metadata": {},
     "output_type": "execute_result"
    }
   ],
   "source": [
    "%viz --style=\"TB\" --view=\"MIXED\" \"'Vehicle\""
   ]
  },
  {
   "cell_type": "code",
   "execution_count": 51,
   "id": "915b9211",
   "metadata": {
    "execution": {
     "iopub.execute_input": "2021-04-20T07:30:49.559781Z",
     "iopub.status.busy": "2021-04-20T07:30:49.559050Z",
     "iopub.status.idle": "2021-04-20T07:30:49.560700Z",
     "shell.execute_reply": "2021-04-20T07:30:49.559422Z"
    }
   },
   "outputs": [
    {
     "data": {
      "text/plain": [
       "ERROR:Couldn't resolve reference to Element ''Vehicle'\n"
      ]
     },
     "execution_count": 51,
     "metadata": {},
     "output_type": "execute_result"
    }
   ],
   "source": [
    "%viz --style=\"ORTHOLINE\" --view=\"Default\" \"'Vehicle\""
   ]
  },
  {
   "cell_type": "code",
   "execution_count": 52,
   "id": "4ca8be44",
   "metadata": {
    "execution": {
     "iopub.execute_input": "2021-04-20T07:30:49.611527Z",
     "iopub.status.busy": "2021-04-20T07:30:49.611103Z",
     "iopub.status.idle": "2021-04-20T07:30:49.613846Z",
     "shell.execute_reply": "2021-04-20T07:30:49.612925Z"
    }
   },
   "outputs": [
    {
     "data": {
      "text/plain": [
       "ERROR:Couldn't resolve reference to Element ''Vehicle'\n"
      ]
     },
     "execution_count": 52,
     "metadata": {},
     "output_type": "execute_result"
    }
   ],
   "source": [
    "%viz --style=\"ORTHOLINE\" --view=\"Tree\" \"'Vehicle\""
   ]
  },
  {
   "cell_type": "code",
   "execution_count": 53,
   "id": "d20e6396",
   "metadata": {
    "execution": {
     "iopub.execute_input": "2021-04-20T07:30:49.663203Z",
     "iopub.status.busy": "2021-04-20T07:30:49.662561Z",
     "iopub.status.idle": "2021-04-20T07:30:49.664698Z",
     "shell.execute_reply": "2021-04-20T07:30:49.663546Z"
    }
   },
   "outputs": [
    {
     "data": {
      "text/plain": [
       "ERROR:Couldn't resolve reference to Element ''Vehicle'\n"
      ]
     },
     "execution_count": 53,
     "metadata": {},
     "output_type": "execute_result"
    }
   ],
   "source": [
    "%viz --style=\"ORTHOLINE\" --view=\"State\" \"'Vehicle\""
   ]
  },
  {
   "cell_type": "code",
   "execution_count": 54,
   "id": "afd2bbc9",
   "metadata": {
    "execution": {
     "iopub.execute_input": "2021-04-20T07:30:49.715102Z",
     "iopub.status.busy": "2021-04-20T07:30:49.714448Z",
     "iopub.status.idle": "2021-04-20T07:30:49.717060Z",
     "shell.execute_reply": "2021-04-20T07:30:49.715499Z"
    }
   },
   "outputs": [
    {
     "data": {
      "text/plain": [
       "ERROR:Couldn't resolve reference to Element ''Vehicle'\n"
      ]
     },
     "execution_count": 54,
     "metadata": {},
     "output_type": "execute_result"
    }
   ],
   "source": [
    "%viz --style=\"ORTHOLINE\" --view=\"Interconnection\" \"'Vehicle\""
   ]
  },
  {
   "cell_type": "code",
   "execution_count": 55,
   "id": "22be7892",
   "metadata": {
    "execution": {
     "iopub.execute_input": "2021-04-20T07:30:49.772004Z",
     "iopub.status.busy": "2021-04-20T07:30:49.770515Z",
     "iopub.status.idle": "2021-04-20T07:30:49.774008Z",
     "shell.execute_reply": "2021-04-20T07:30:49.772814Z"
    }
   },
   "outputs": [
    {
     "data": {
      "text/plain": [
       "ERROR:Couldn't resolve reference to Element ''Vehicle'\n"
      ]
     },
     "execution_count": 55,
     "metadata": {},
     "output_type": "execute_result"
    }
   ],
   "source": [
    "%viz --style=\"ORTHOLINE\" --view=\"Action\" \"'Vehicle\""
   ]
  },
  {
   "cell_type": "code",
   "execution_count": 56,
   "id": "294a5f56",
   "metadata": {
    "execution": {
     "iopub.execute_input": "2021-04-20T07:30:49.824236Z",
     "iopub.status.busy": "2021-04-20T07:30:49.823535Z",
     "iopub.status.idle": "2021-04-20T07:30:49.826790Z",
     "shell.execute_reply": "2021-04-20T07:30:49.824912Z"
    }
   },
   "outputs": [
    {
     "data": {
      "text/plain": [
       "ERROR:Couldn't resolve reference to Element ''Vehicle'\n"
      ]
     },
     "execution_count": 56,
     "metadata": {},
     "output_type": "execute_result"
    }
   ],
   "source": [
    "%viz --style=\"ORTHOLINE\" --view=\"Sequence\" \"'Vehicle\""
   ]
  },
  {
   "cell_type": "code",
   "execution_count": 57,
   "id": "44d1f73e",
   "metadata": {
    "execution": {
     "iopub.execute_input": "2021-04-20T07:30:49.876340Z",
     "iopub.status.busy": "2021-04-20T07:30:49.875685Z",
     "iopub.status.idle": "2021-04-20T07:30:49.879770Z",
     "shell.execute_reply": "2021-04-20T07:30:49.877009Z"
    }
   },
   "outputs": [
    {
     "data": {
      "text/plain": [
       "ERROR:Couldn't resolve reference to Element ''Vehicle'\n"
      ]
     },
     "execution_count": 57,
     "metadata": {},
     "output_type": "execute_result"
    }
   ],
   "source": [
    "%viz --style=\"ORTHOLINE\" --view=\"MIXED\" \"'Vehicle\""
   ]
  }
 ],
 "metadata": {
  "kernelspec": {
   "display_name": "SysML",
   "language": "sysml",
   "name": "sysml"
  },
  "language_info": {
   "codemirror_mode": "sysml",
   "file_extension": ".sysml",
   "mimetype": "text/x-sysml",
   "name": "SysML",
   "pygments_lexer": "java",
   "version": "1.0.0"
  }
 },
 "nbformat": 4,
 "nbformat_minor": 5
}
