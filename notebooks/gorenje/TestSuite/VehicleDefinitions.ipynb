{
 "cells": [
  {
   "cell_type": "markdown",
   "id": "7cf91641",
   "metadata": {},
   "source": [
    "# SysML v2 Test Suite\n",
    "\n",
    "This can notebook can be cleared using menu `Edit --> Clear All Outputs` and then all cells can be\n",
    "run using menu `Run --> Run All Cells`.\n",
    "\n",
    "**WARNING**: This file is generated, all modifications here will be ignored.\n"
   ]
  },
  {
   "cell_type": "markdown",
   "id": "4ad062a1",
   "metadata": {},
   "source": [
    "## File: ../../sysml/src/examples/Vehicle Example/VehicleDefinitions.sysml"
   ]
  },
  {
   "cell_type": "code",
   "execution_count": 1,
   "id": "34791010",
   "metadata": {
    "execution": {
     "iopub.execute_input": "2021-04-20T07:31:24.331292Z",
     "iopub.status.busy": "2021-04-20T07:31:24.330612Z",
     "iopub.status.idle": "2021-04-20T07:31:25.166301Z",
     "shell.execute_reply": "2021-04-20T07:31:25.164699Z"
    }
   },
   "outputs": [
    {
     "data": {
      "text/plain": [
       "Package VehicleDefinitions (ffe44a8f-2e11-41fb-8c85-a61934b1b39c)\n"
      ]
     },
     "execution_count": 1,
     "metadata": {},
     "output_type": "execute_result"
    }
   ],
   "source": [
    "/**\n",
    " * Example vehicle definitions model.\n",
    " **/\n",
    "package VehicleDefinitions {\n",
    "\timport ScalarValues::*;\n",
    "\timport Quantities::*;\n",
    "\timport UnitsAndScales::*;\n",
    "\timport ISQ::*;\n",
    "\timport SI::*;\n",
    "\t\n",
    "\t/* BLOCKS */\n",
    "\t\n",
    "\tpart def Vehicle;\t\n",
    "\tpart def Transmission;\t\n",
    "\tpart def AxleAssembly;\n",
    "\tpart def Axle;\t\n",
    "\tpart def Wheel;\n",
    "\tpart def Lugbolt {\n",
    "\t\tattribute tighteningTorque :> ISQ::torque;\n",
    "\t}\n",
    "\t\n",
    "\t/* INTERFACE BLOCKS */\n",
    "\t\n",
    "\tport def DriveIF { \n",
    "\t\tin driveTorque :> ISQ::torque;\n",
    "\t}\n",
    "\t\n",
    "\tport def AxleMountIF { \n",
    "\t\tout transferredTorque :> ISQ::torque;\n",
    "\t}\n",
    "\t\n",
    "\tport def WheelHubIF { \n",
    "\t\tin appliedTorque :> ISQ::torque;\n",
    "\t}\n",
    "\t\n",
    "\t/* ASSOCIATION BLOCKS */\n",
    "\t\n",
    "\t/** An association intended to be used as the type of a connector\n",
    "\t *  mounting a Wheel to an Axle.\n",
    "\t **/\n",
    "\tinterface def Mounting {\n",
    "\t\tend axleMount: AxleMountIF;\n",
    "\t\tend hub: WheelHubIF;\n",
    "\t}\n",
    "}"
   ]
  }
 ],
 "metadata": {
  "kernelspec": {
   "display_name": "SysML",
   "language": "sysml",
   "name": "sysml"
  },
  "language_info": {
   "codemirror_mode": "sysml",
   "file_extension": ".sysml",
   "mimetype": "text/x-sysml",
   "name": "SysML",
   "pygments_lexer": "java",
   "version": "1.0.0"
  }
 },
 "nbformat": 4,
 "nbformat_minor": 5
}
