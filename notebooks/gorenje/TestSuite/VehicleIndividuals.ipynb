{
 "cells": [
  {
   "cell_type": "markdown",
   "id": "6f69e7d5",
   "metadata": {},
   "source": [
    "# SysML v2 Test Suite\n",
    "\n",
    "This can notebook can be cleared using menu `Edit --> Clear All Outputs` and then all cells can be\n",
    "run using menu `Run --> Run All Cells`.\n",
    "\n",
    "**WARNING**: This file is generated, all modifications here will be ignored.\n"
   ]
  },
  {
   "cell_type": "markdown",
   "id": "3564ef41",
   "metadata": {},
   "source": [
    "## File: ../../sysml/src/examples/Vehicle Example/VehicleIndividuals.sysml"
   ]
  },
  {
   "cell_type": "code",
   "execution_count": 1,
   "id": "ff1c67d1",
   "metadata": {
    "execution": {
     "iopub.execute_input": "2021-04-20T07:23:44.065363Z",
     "iopub.status.busy": "2021-04-20T07:23:44.059289Z",
     "iopub.status.idle": "2021-04-20T07:23:45.047240Z",
     "shell.execute_reply": "2021-04-20T07:23:45.042924Z"
    }
   },
   "outputs": [
    {
     "name": "stderr",
     "output_type": "stream",
     "text": [
      "ERROR:Couldn't resolve reference to Namespace 'VehicleUsages'. (1.sysml line : 2 column : 9)\n"
     ]
    },
    {
     "name": "stderr",
     "output_type": "stream",
     "text": [
      "ERROR:Couldn't resolve reference to Classifier 'Vehicle'. (1.sysml line : 10 column : 30)\n"
     ]
    },
    {
     "name": "stderr",
     "output_type": "stream",
     "text": [
      "ERROR:Couldn't resolve reference to Feature 'mass'. (1.sysml line : 11 column : 24)\n"
     ]
    },
    {
     "name": "stderr",
     "output_type": "stream",
     "text": [
      "ERROR:Couldn't resolve reference to Element 'kg'. (1.sysml line : 11 column : 37)\n"
     ]
    },
    {
     "name": "stderr",
     "output_type": "stream",
     "text": [
      "ERROR:Couldn't resolve reference to Classifier 'Vehicle'. (1.sysml line : 17 column : 30)\n"
     ]
    },
    {
     "name": "stderr",
     "output_type": "stream",
     "text": [
      "ERROR:Couldn't resolve reference to Feature 'mass'. (1.sysml line : 18 column : 24)\n"
     ]
    },
    {
     "name": "stderr",
     "output_type": "stream",
     "text": [
      "ERROR:Couldn't resolve reference to Element 'kg'. (1.sysml line : 18 column : 37)\n"
     ]
    },
    {
     "name": "stderr",
     "output_type": "stream",
     "text": [
      "ERROR:Couldn't resolve reference to Classifier 'AxleAssembly'. (1.sysml line : 21 column : 35)\n"
     ]
    },
    {
     "name": "stderr",
     "output_type": "stream",
     "text": [
      "ERROR:Couldn't resolve reference to Classifier 'Wheel'. (1.sysml line : 23 column : 28)\n"
     ]
    },
    {
     "name": "stderr",
     "output_type": "stream",
     "text": [
      "ERROR:Couldn't resolve reference to Classifier 'Wheel'. (1.sysml line : 24 column : 28)\n"
     ]
    },
    {
     "name": "stderr",
     "output_type": "stream",
     "text": [
      "ERROR:Couldn't resolve reference to Feature 'vehicle_C2'. (1.sysml line : 60 column : 39)\n"
     ]
    },
    {
     "name": "stderr",
     "output_type": "stream",
     "text": [
      "ERROR:Couldn't resolve reference to Feature 'frontAxleAssembly'. (1.sysml line : 69 column : 49)\n"
     ]
    },
    {
     "name": "stderr",
     "output_type": "stream",
     "text": [
      "ERROR:Couldn't resolve reference to Feature 'leftFrontWheel'. (1.sysml line : 74 column : 44)\n"
     ]
    },
    {
     "name": "stderr",
     "output_type": "stream",
     "text": [
      "ERROR:Couldn't resolve reference to Feature 'frontAxleAssembly'. (1.sysml line : 82 column : 49)\n"
     ]
    },
    {
     "name": "stderr",
     "output_type": "stream",
     "text": [
      "ERROR:Couldn't resolve reference to Feature 'rightFrontWheel'. (1.sysml line : 86 column : 45)\n"
     ]
    },
    {
     "name": "stderr",
     "output_type": "stream",
     "text": [
      "ERROR:Features must have at least one type (1.sysml line : 11 column : 4)\n"
     ]
    },
    {
     "name": "stderr",
     "output_type": "stream",
     "text": [
      "ERROR:Features must have at least one type (1.sysml line : 18 column : 4)\n"
     ]
    },
    {
     "name": "stderr",
     "output_type": "stream",
     "text": [
      "ERROR:An individual must be typed by one individual definition. (1.sysml line : 36 column : 3)\n"
     ]
    },
    {
     "name": "stderr",
     "output_type": "stream",
     "text": [
      "ERROR:An individual must be typed by one individual definition. (1.sysml line : 45 column : 3)\n"
     ]
    },
    {
     "name": "stderr",
     "output_type": "stream",
     "text": [
      "ERROR:An individual must be typed by one individual definition. (1.sysml line : 46 column : 4)\n"
     ]
    },
    {
     "name": "stderr",
     "output_type": "stream",
     "text": [
      "ERROR:An individual must be typed by one individual definition. (1.sysml line : 47 column : 4)\n"
     ]
    },
    {
     "name": "stderr",
     "output_type": "stream",
     "text": [
      "ERROR:An individual must be typed by one individual definition. (1.sysml line : 65 column : 3)\n"
     ]
    },
    {
     "name": "stderr",
     "output_type": "stream",
     "text": [
      "ERROR:An individual must be typed by one individual definition. (1.sysml line : 81 column : 3)\n"
     ]
    },
    {
     "data": {
      "text/plain": []
     },
     "execution_count": 1,
     "metadata": {},
     "output_type": "execute_result"
    }
   ],
   "source": [
    "package VehicleIndividuals {\n",
    "\timport VehicleUsages::*;\n",
    "\timport Time::DateTime;\n",
    "\t\n",
    "\tpackage IndividualDefinitions {\n",
    "\n",
    "\t\t/**\n",
    "\t\t * This is an individual Vehicle with a mass of 1800 kg.\n",
    "\t\t */\n",
    "\t\tindividual def Vehicle1 :> Vehicle {\n",
    "\t\t\tattribute redefines mass = 1800@[kg];\n",
    "\t\t}\n",
    "\t\t\n",
    "\t\t/**\n",
    "\t\t * This is an individual Vehicle with a mass of 1700 kg.\n",
    "\t\t */\n",
    "\t\tindividual def Vehicle2 :> Vehicle {\n",
    "\t\t\tattribute redefines mass = 1700@[kg];\n",
    "\t\t}\n",
    "\t\t\n",
    "\t\tindividual def AxleAssembly1 :> AxleAssembly;\n",
    "\t\t\n",
    "\t\tindividual def Wheel1 :> Wheel;\n",
    "\t\tindividual def Wheel2 :> Wheel;\n",
    "\t}\n",
    "\t\n",
    "\tpackage IndividualSnapshots {\n",
    "\t\timport IndividualDefinitions::*;\n",
    "\t\n",
    "\t\tattribute t0: DateTime;\n",
    "\t\tattribute t1: DateTime;\n",
    "\t\t\n",
    "\t\t/**\n",
    "\t\t * This is a snapshot of Vehicle1 at time t0;\n",
    "\t\t */\n",
    "\t\tsnapshot vehicle1_t0: Vehicle1 {\n",
    "\t\t\t// Note: Timestamping of snapshots is not yet formalized.\n",
    "\t\t\tattribute t = t0;\n",
    "\t\t}\n",
    "\t\t\n",
    "\t\t/**\n",
    "\t\t * This is a time slice of Vehicle1 starting at snapshot vehicle1_t0 \n",
    "\t\t * (time t0) and ending at time t1.\n",
    "\t\t */\n",
    "\t\ttimeslice vehicle1_t0_t1: Vehicle1 {\n",
    "\t\t\tsnapshot :>> start = vehicle1_t0;\n",
    "\t\t\tsnapshot :>> done {\n",
    "\t\t\t\tattribute t = t1;\n",
    "\t\t\t}\n",
    "\t\t}\t\n",
    "\t}\n",
    "\t\n",
    "\tpackage IndividualConfigurations {\n",
    "\t\timport IndividualSnapshots::*;\n",
    "\t\n",
    "\t\t/** \n",
    "\t\t * This asserts that for some portion of its lifetime, Vehicle1 conforms\n",
    "\t\t * to the configuration vehicle_C2;\n",
    "\t\t */\n",
    "\t\tindividual vehicle1_C2: Vehicle1 :> vehicle_C2;\n",
    "\t\t\n",
    "\t\t/**\n",
    "\t\t * This is a snapshot of Vehicle1 in configuration vehicle1_C2 at time t0.\n",
    "\t\t */\n",
    "\t\tsnapshot vehicle1_C2_t0 :> vehicle1_C2, vehicle1_t0 {\n",
    "\t\t\t/**\n",
    "\t\t\t * frontAxleAssembly is a feature of vehicle1_C2.\n",
    "\t\t\t */\n",
    "\t\t\tsnapshot axleAssembly1_t0: AxleAssembly1 :>> frontAxleAssembly {\n",
    "\t\t\t\t/**\n",
    "\t\t\t\t * This asserts that Wheel1 is the leftFrontWheel of vehicle_C2_t0\n",
    "\t\t\t\t * (leftFrontWheel is a feature of vehicle_C2::frontAxleAssembly).\n",
    "\t\t\t\t */\n",
    "\t\t\t\tsnapshot leftFrontWheel_t0: Wheel1 :>> leftFrontWheel;\n",
    "\t\t\t}\n",
    "\t\t}\n",
    "\t\t\n",
    "\t\t/**\n",
    "\t\t * This is a snapshot of Vehicle1 in configuration vehicle_C2 at time t1.\n",
    "\t\t */\n",
    "\t\tsnapshot vehicle1_C2_t1 :> vehicle1_C2, vehicle1_t0_t1::done {\n",
    "\t\t\tsnapshot axleAssembly1_t1: AxleAssembly1 :>> frontAxleAssembly {\n",
    "\t\t\t\t/**\n",
    "\t\t\t\t * This asserts that Wheel1 is the rightFrontWheel of vehicle_C2_t1.\n",
    "\t\t\t\t */\n",
    "\t\t\t\tsnapshot rightFrontWheel_t1: Wheel1 :>> rightFrontWheel;\n",
    "\t\t\t}\n",
    "\t\t}\t\n",
    "\t}\n",
    "}"
   ]
  },
  {
   "cell_type": "code",
   "execution_count": 2,
   "id": "51ebb0af",
   "metadata": {
    "execution": {
     "iopub.execute_input": "2021-04-20T07:23:45.094850Z",
     "iopub.status.busy": "2021-04-20T07:23:45.094354Z",
     "iopub.status.idle": "2021-04-20T07:23:45.103331Z",
     "shell.execute_reply": "2021-04-20T07:23:45.102774Z"
    }
   },
   "outputs": [
    {
     "data": {
      "text/plain": [
       "ERROR:Couldn't resolve reference to Element 'VehicleIndividuals'\n"
      ]
     },
     "execution_count": 2,
     "metadata": {},
     "output_type": "execute_result"
    }
   ],
   "source": [
    "%viz --style=\"COMPTREE\" --view=\"Default\" \"VehicleIndividuals\""
   ]
  },
  {
   "cell_type": "code",
   "execution_count": 3,
   "id": "758a244e",
   "metadata": {
    "execution": {
     "iopub.execute_input": "2021-04-20T07:23:45.158450Z",
     "iopub.status.busy": "2021-04-20T07:23:45.156174Z",
     "iopub.status.idle": "2021-04-20T07:23:45.161457Z",
     "shell.execute_reply": "2021-04-20T07:23:45.160875Z"
    }
   },
   "outputs": [
    {
     "data": {
      "text/plain": [
       "ERROR:Couldn't resolve reference to Element 'VehicleIndividuals'\n"
      ]
     },
     "execution_count": 3,
     "metadata": {},
     "output_type": "execute_result"
    }
   ],
   "source": [
    "%viz --style=\"COMPTREE\" --view=\"Tree\" \"VehicleIndividuals\""
   ]
  },
  {
   "cell_type": "code",
   "execution_count": 4,
   "id": "47fc512b",
   "metadata": {
    "execution": {
     "iopub.execute_input": "2021-04-20T07:23:45.214596Z",
     "iopub.status.busy": "2021-04-20T07:23:45.213657Z",
     "iopub.status.idle": "2021-04-20T07:23:45.217077Z",
     "shell.execute_reply": "2021-04-20T07:23:45.215342Z"
    }
   },
   "outputs": [
    {
     "data": {
      "text/plain": [
       "ERROR:Couldn't resolve reference to Element 'VehicleIndividuals'\n"
      ]
     },
     "execution_count": 4,
     "metadata": {},
     "output_type": "execute_result"
    }
   ],
   "source": [
    "%viz --style=\"COMPTREE\" --view=\"State\" \"VehicleIndividuals\""
   ]
  },
  {
   "cell_type": "code",
   "execution_count": 5,
   "id": "bf654759",
   "metadata": {
    "execution": {
     "iopub.execute_input": "2021-04-20T07:23:45.268359Z",
     "iopub.status.busy": "2021-04-20T07:23:45.266925Z",
     "iopub.status.idle": "2021-04-20T07:23:45.270606Z",
     "shell.execute_reply": "2021-04-20T07:23:45.268862Z"
    }
   },
   "outputs": [
    {
     "data": {
      "text/plain": [
       "ERROR:Couldn't resolve reference to Element 'VehicleIndividuals'\n"
      ]
     },
     "execution_count": 5,
     "metadata": {},
     "output_type": "execute_result"
    }
   ],
   "source": [
    "%viz --style=\"COMPTREE\" --view=\"Interconnection\" \"VehicleIndividuals\""
   ]
  },
  {
   "cell_type": "code",
   "execution_count": 6,
   "id": "de551858",
   "metadata": {
    "execution": {
     "iopub.execute_input": "2021-04-20T07:23:45.324634Z",
     "iopub.status.busy": "2021-04-20T07:23:45.323485Z",
     "iopub.status.idle": "2021-04-20T07:23:45.330854Z",
     "shell.execute_reply": "2021-04-20T07:23:45.329677Z"
    }
   },
   "outputs": [
    {
     "data": {
      "text/plain": [
       "ERROR:Couldn't resolve reference to Element 'VehicleIndividuals'\n"
      ]
     },
     "execution_count": 6,
     "metadata": {},
     "output_type": "execute_result"
    }
   ],
   "source": [
    "%viz --style=\"COMPTREE\" --view=\"Action\" \"VehicleIndividuals\""
   ]
  },
  {
   "cell_type": "code",
   "execution_count": 7,
   "id": "47373802",
   "metadata": {
    "execution": {
     "iopub.execute_input": "2021-04-20T07:23:45.384892Z",
     "iopub.status.busy": "2021-04-20T07:23:45.383935Z",
     "iopub.status.idle": "2021-04-20T07:23:45.389035Z",
     "shell.execute_reply": "2021-04-20T07:23:45.386304Z"
    }
   },
   "outputs": [
    {
     "data": {
      "text/plain": [
       "ERROR:Couldn't resolve reference to Element 'VehicleIndividuals'\n"
      ]
     },
     "execution_count": 7,
     "metadata": {},
     "output_type": "execute_result"
    }
   ],
   "source": [
    "%viz --style=\"COMPTREE\" --view=\"Sequence\" \"VehicleIndividuals\""
   ]
  },
  {
   "cell_type": "code",
   "execution_count": 8,
   "id": "9715e568",
   "metadata": {
    "execution": {
     "iopub.execute_input": "2021-04-20T07:23:45.438632Z",
     "iopub.status.busy": "2021-04-20T07:23:45.437681Z",
     "iopub.status.idle": "2021-04-20T07:23:45.439761Z",
     "shell.execute_reply": "2021-04-20T07:23:45.438198Z"
    }
   },
   "outputs": [
    {
     "data": {
      "text/plain": [
       "ERROR:Couldn't resolve reference to Element 'VehicleIndividuals'\n"
      ]
     },
     "execution_count": 8,
     "metadata": {},
     "output_type": "execute_result"
    }
   ],
   "source": [
    "%viz --style=\"COMPTREE\" --view=\"MIXED\" \"VehicleIndividuals\""
   ]
  },
  {
   "cell_type": "code",
   "execution_count": 9,
   "id": "6f94bf94",
   "metadata": {
    "execution": {
     "iopub.execute_input": "2021-04-20T07:23:45.492180Z",
     "iopub.status.busy": "2021-04-20T07:23:45.491319Z",
     "iopub.status.idle": "2021-04-20T07:23:45.493184Z",
     "shell.execute_reply": "2021-04-20T07:23:45.491669Z"
    }
   },
   "outputs": [
    {
     "data": {
      "text/plain": [
       "ERROR:Couldn't resolve reference to Element 'VehicleIndividuals'\n"
      ]
     },
     "execution_count": 9,
     "metadata": {},
     "output_type": "execute_result"
    }
   ],
   "source": [
    "%viz --style=\"POLYLINE\" --view=\"Default\" \"VehicleIndividuals\""
   ]
  },
  {
   "cell_type": "code",
   "execution_count": 10,
   "id": "c0e5cd33",
   "metadata": {
    "execution": {
     "iopub.execute_input": "2021-04-20T07:23:45.544740Z",
     "iopub.status.busy": "2021-04-20T07:23:45.543756Z",
     "iopub.status.idle": "2021-04-20T07:23:45.545876Z",
     "shell.execute_reply": "2021-04-20T07:23:45.544259Z"
    }
   },
   "outputs": [
    {
     "data": {
      "text/plain": [
       "ERROR:Couldn't resolve reference to Element 'VehicleIndividuals'\n"
      ]
     },
     "execution_count": 10,
     "metadata": {},
     "output_type": "execute_result"
    }
   ],
   "source": [
    "%viz --style=\"POLYLINE\" --view=\"Tree\" \"VehicleIndividuals\""
   ]
  },
  {
   "cell_type": "code",
   "execution_count": 11,
   "id": "8ef4a3e1",
   "metadata": {
    "execution": {
     "iopub.execute_input": "2021-04-20T07:23:45.595426Z",
     "iopub.status.busy": "2021-04-20T07:23:45.594641Z",
     "iopub.status.idle": "2021-04-20T07:23:45.596492Z",
     "shell.execute_reply": "2021-04-20T07:23:45.595066Z"
    }
   },
   "outputs": [
    {
     "data": {
      "text/plain": [
       "ERROR:Couldn't resolve reference to Element 'VehicleIndividuals'\n"
      ]
     },
     "execution_count": 11,
     "metadata": {},
     "output_type": "execute_result"
    }
   ],
   "source": [
    "%viz --style=\"POLYLINE\" --view=\"State\" \"VehicleIndividuals\""
   ]
  },
  {
   "cell_type": "code",
   "execution_count": 12,
   "id": "7ff2f5e5",
   "metadata": {
    "execution": {
     "iopub.execute_input": "2021-04-20T07:23:45.647114Z",
     "iopub.status.busy": "2021-04-20T07:23:45.646287Z",
     "iopub.status.idle": "2021-04-20T07:23:45.648200Z",
     "shell.execute_reply": "2021-04-20T07:23:45.646750Z"
    }
   },
   "outputs": [
    {
     "data": {
      "text/plain": [
       "ERROR:Couldn't resolve reference to Element 'VehicleIndividuals'\n"
      ]
     },
     "execution_count": 12,
     "metadata": {},
     "output_type": "execute_result"
    }
   ],
   "source": [
    "%viz --style=\"POLYLINE\" --view=\"Interconnection\" \"VehicleIndividuals\""
   ]
  },
  {
   "cell_type": "code",
   "execution_count": 13,
   "id": "4bca2d29",
   "metadata": {
    "execution": {
     "iopub.execute_input": "2021-04-20T07:23:45.701250Z",
     "iopub.status.busy": "2021-04-20T07:23:45.700569Z",
     "iopub.status.idle": "2021-04-20T07:23:45.702215Z",
     "shell.execute_reply": "2021-04-20T07:23:45.700908Z"
    }
   },
   "outputs": [
    {
     "data": {
      "text/plain": [
       "ERROR:Couldn't resolve reference to Element 'VehicleIndividuals'\n"
      ]
     },
     "execution_count": 13,
     "metadata": {},
     "output_type": "execute_result"
    }
   ],
   "source": [
    "%viz --style=\"POLYLINE\" --view=\"Action\" \"VehicleIndividuals\""
   ]
  },
  {
   "cell_type": "code",
   "execution_count": 14,
   "id": "ec7682a8",
   "metadata": {
    "execution": {
     "iopub.execute_input": "2021-04-20T07:23:45.753364Z",
     "iopub.status.busy": "2021-04-20T07:23:45.752788Z",
     "iopub.status.idle": "2021-04-20T07:23:45.754763Z",
     "shell.execute_reply": "2021-04-20T07:23:45.753716Z"
    }
   },
   "outputs": [
    {
     "data": {
      "text/plain": [
       "ERROR:Couldn't resolve reference to Element 'VehicleIndividuals'\n"
      ]
     },
     "execution_count": 14,
     "metadata": {},
     "output_type": "execute_result"
    }
   ],
   "source": [
    "%viz --style=\"POLYLINE\" --view=\"Sequence\" \"VehicleIndividuals\""
   ]
  },
  {
   "cell_type": "code",
   "execution_count": 15,
   "id": "2a19b214",
   "metadata": {
    "execution": {
     "iopub.execute_input": "2021-04-20T07:23:45.805466Z",
     "iopub.status.busy": "2021-04-20T07:23:45.804824Z",
     "iopub.status.idle": "2021-04-20T07:23:45.807043Z",
     "shell.execute_reply": "2021-04-20T07:23:45.805844Z"
    }
   },
   "outputs": [
    {
     "data": {
      "text/plain": [
       "ERROR:Couldn't resolve reference to Element 'VehicleIndividuals'\n"
      ]
     },
     "execution_count": 15,
     "metadata": {},
     "output_type": "execute_result"
    }
   ],
   "source": [
    "%viz --style=\"POLYLINE\" --view=\"MIXED\" \"VehicleIndividuals\""
   ]
  },
  {
   "cell_type": "code",
   "execution_count": 16,
   "id": "7860b8c9",
   "metadata": {
    "execution": {
     "iopub.execute_input": "2021-04-20T07:23:45.858531Z",
     "iopub.status.busy": "2021-04-20T07:23:45.857918Z",
     "iopub.status.idle": "2021-04-20T07:23:45.860031Z",
     "shell.execute_reply": "2021-04-20T07:23:45.859001Z"
    }
   },
   "outputs": [
    {
     "data": {
      "text/plain": [
       "ERROR:Couldn't resolve reference to Element 'VehicleIndividuals'\n"
      ]
     },
     "execution_count": 16,
     "metadata": {},
     "output_type": "execute_result"
    }
   ],
   "source": [
    "%viz --style=\"LR\" --view=\"Default\" \"VehicleIndividuals\""
   ]
  },
  {
   "cell_type": "code",
   "execution_count": 17,
   "id": "31a6f7f7",
   "metadata": {
    "execution": {
     "iopub.execute_input": "2021-04-20T07:23:45.911387Z",
     "iopub.status.busy": "2021-04-20T07:23:45.910587Z",
     "iopub.status.idle": "2021-04-20T07:23:45.912989Z",
     "shell.execute_reply": "2021-04-20T07:23:45.912641Z"
    }
   },
   "outputs": [
    {
     "data": {
      "text/plain": [
       "ERROR:Couldn't resolve reference to Element 'VehicleIndividuals'\n"
      ]
     },
     "execution_count": 17,
     "metadata": {},
     "output_type": "execute_result"
    }
   ],
   "source": [
    "%viz --style=\"LR\" --view=\"Tree\" \"VehicleIndividuals\""
   ]
  },
  {
   "cell_type": "code",
   "execution_count": 18,
   "id": "fe596a68",
   "metadata": {
    "execution": {
     "iopub.execute_input": "2021-04-20T07:23:45.964228Z",
     "iopub.status.busy": "2021-04-20T07:23:45.963577Z",
     "iopub.status.idle": "2021-04-20T07:23:45.965665Z",
     "shell.execute_reply": "2021-04-20T07:23:45.964644Z"
    }
   },
   "outputs": [
    {
     "data": {
      "text/plain": [
       "ERROR:Couldn't resolve reference to Element 'VehicleIndividuals'\n"
      ]
     },
     "execution_count": 18,
     "metadata": {},
     "output_type": "execute_result"
    }
   ],
   "source": [
    "%viz --style=\"LR\" --view=\"State\" \"VehicleIndividuals\""
   ]
  },
  {
   "cell_type": "code",
   "execution_count": 19,
   "id": "28d949a6",
   "metadata": {
    "execution": {
     "iopub.execute_input": "2021-04-20T07:23:46.017117Z",
     "iopub.status.busy": "2021-04-20T07:23:46.016338Z",
     "iopub.status.idle": "2021-04-20T07:23:46.018564Z",
     "shell.execute_reply": "2021-04-20T07:23:46.017527Z"
    }
   },
   "outputs": [
    {
     "data": {
      "text/plain": [
       "ERROR:Couldn't resolve reference to Element 'VehicleIndividuals'\n"
      ]
     },
     "execution_count": 19,
     "metadata": {},
     "output_type": "execute_result"
    }
   ],
   "source": [
    "%viz --style=\"LR\" --view=\"Interconnection\" \"VehicleIndividuals\""
   ]
  },
  {
   "cell_type": "code",
   "execution_count": 20,
   "id": "d18b2b57",
   "metadata": {
    "execution": {
     "iopub.execute_input": "2021-04-20T07:23:46.069730Z",
     "iopub.status.busy": "2021-04-20T07:23:46.069118Z",
     "iopub.status.idle": "2021-04-20T07:23:46.071389Z",
     "shell.execute_reply": "2021-04-20T07:23:46.070144Z"
    }
   },
   "outputs": [
    {
     "data": {
      "text/plain": [
       "ERROR:Couldn't resolve reference to Element 'VehicleIndividuals'\n"
      ]
     },
     "execution_count": 20,
     "metadata": {},
     "output_type": "execute_result"
    }
   ],
   "source": [
    "%viz --style=\"LR\" --view=\"Action\" \"VehicleIndividuals\""
   ]
  },
  {
   "cell_type": "code",
   "execution_count": 21,
   "id": "b8168cce",
   "metadata": {
    "execution": {
     "iopub.execute_input": "2021-04-20T07:23:46.123428Z",
     "iopub.status.busy": "2021-04-20T07:23:46.122626Z",
     "iopub.status.idle": "2021-04-20T07:23:46.125187Z",
     "shell.execute_reply": "2021-04-20T07:23:46.124779Z"
    }
   },
   "outputs": [
    {
     "data": {
      "text/plain": [
       "ERROR:Couldn't resolve reference to Element 'VehicleIndividuals'\n"
      ]
     },
     "execution_count": 21,
     "metadata": {},
     "output_type": "execute_result"
    }
   ],
   "source": [
    "%viz --style=\"LR\" --view=\"Sequence\" \"VehicleIndividuals\""
   ]
  },
  {
   "cell_type": "code",
   "execution_count": 22,
   "id": "c012f298",
   "metadata": {
    "execution": {
     "iopub.execute_input": "2021-04-20T07:23:46.176680Z",
     "iopub.status.busy": "2021-04-20T07:23:46.176053Z",
     "iopub.status.idle": "2021-04-20T07:23:46.178138Z",
     "shell.execute_reply": "2021-04-20T07:23:46.177080Z"
    }
   },
   "outputs": [
    {
     "data": {
      "text/plain": [
       "ERROR:Couldn't resolve reference to Element 'VehicleIndividuals'\n"
      ]
     },
     "execution_count": 22,
     "metadata": {},
     "output_type": "execute_result"
    }
   ],
   "source": [
    "%viz --style=\"LR\" --view=\"MIXED\" \"VehicleIndividuals\""
   ]
  },
  {
   "cell_type": "code",
   "execution_count": 23,
   "id": "ede72a00",
   "metadata": {
    "execution": {
     "iopub.execute_input": "2021-04-20T07:23:46.229476Z",
     "iopub.status.busy": "2021-04-20T07:23:46.228897Z",
     "iopub.status.idle": "2021-04-20T07:23:46.231336Z",
     "shell.execute_reply": "2021-04-20T07:23:46.229858Z"
    }
   },
   "outputs": [
    {
     "data": {
      "text/plain": [
       "ERROR:Couldn't resolve reference to Element 'VehicleIndividuals'\n"
      ]
     },
     "execution_count": 23,
     "metadata": {},
     "output_type": "execute_result"
    }
   ],
   "source": [
    "%viz --style=\"STDCOLOR\" --view=\"Default\" \"VehicleIndividuals\""
   ]
  },
  {
   "cell_type": "code",
   "execution_count": 24,
   "id": "22b3c660",
   "metadata": {
    "execution": {
     "iopub.execute_input": "2021-04-20T07:23:46.282425Z",
     "iopub.status.busy": "2021-04-20T07:23:46.281596Z",
     "iopub.status.idle": "2021-04-20T07:23:46.284087Z",
     "shell.execute_reply": "2021-04-20T07:23:46.282877Z"
    }
   },
   "outputs": [
    {
     "data": {
      "text/plain": [
       "ERROR:Couldn't resolve reference to Element 'VehicleIndividuals'\n"
      ]
     },
     "execution_count": 24,
     "metadata": {},
     "output_type": "execute_result"
    }
   ],
   "source": [
    "%viz --style=\"STDCOLOR\" --view=\"Tree\" \"VehicleIndividuals\""
   ]
  },
  {
   "cell_type": "code",
   "execution_count": 25,
   "id": "036a66b3",
   "metadata": {
    "execution": {
     "iopub.execute_input": "2021-04-20T07:23:46.335135Z",
     "iopub.status.busy": "2021-04-20T07:23:46.334392Z",
     "iopub.status.idle": "2021-04-20T07:23:46.336674Z",
     "shell.execute_reply": "2021-04-20T07:23:46.335529Z"
    }
   },
   "outputs": [
    {
     "data": {
      "text/plain": [
       "ERROR:Couldn't resolve reference to Element 'VehicleIndividuals'\n"
      ]
     },
     "execution_count": 25,
     "metadata": {},
     "output_type": "execute_result"
    }
   ],
   "source": [
    "%viz --style=\"STDCOLOR\" --view=\"State\" \"VehicleIndividuals\""
   ]
  },
  {
   "cell_type": "code",
   "execution_count": 26,
   "id": "f256146f",
   "metadata": {
    "execution": {
     "iopub.execute_input": "2021-04-20T07:23:46.388592Z",
     "iopub.status.busy": "2021-04-20T07:23:46.387948Z",
     "iopub.status.idle": "2021-04-20T07:23:46.389993Z",
     "shell.execute_reply": "2021-04-20T07:23:46.388940Z"
    }
   },
   "outputs": [
    {
     "data": {
      "text/plain": [
       "ERROR:Couldn't resolve reference to Element 'VehicleIndividuals'\n"
      ]
     },
     "execution_count": 26,
     "metadata": {},
     "output_type": "execute_result"
    }
   ],
   "source": [
    "%viz --style=\"STDCOLOR\" --view=\"Interconnection\" \"VehicleIndividuals\""
   ]
  },
  {
   "cell_type": "code",
   "execution_count": 27,
   "id": "6e707eaf",
   "metadata": {
    "execution": {
     "iopub.execute_input": "2021-04-20T07:23:46.443199Z",
     "iopub.status.busy": "2021-04-20T07:23:46.442197Z",
     "iopub.status.idle": "2021-04-20T07:23:46.445201Z",
     "shell.execute_reply": "2021-04-20T07:23:46.443709Z"
    }
   },
   "outputs": [
    {
     "data": {
      "text/plain": [
       "ERROR:Couldn't resolve reference to Element 'VehicleIndividuals'\n"
      ]
     },
     "execution_count": 27,
     "metadata": {},
     "output_type": "execute_result"
    }
   ],
   "source": [
    "%viz --style=\"STDCOLOR\" --view=\"Action\" \"VehicleIndividuals\""
   ]
  },
  {
   "cell_type": "code",
   "execution_count": 28,
   "id": "a47b9f35",
   "metadata": {
    "execution": {
     "iopub.execute_input": "2021-04-20T07:23:46.496237Z",
     "iopub.status.busy": "2021-04-20T07:23:46.495154Z",
     "iopub.status.idle": "2021-04-20T07:23:46.498655Z",
     "shell.execute_reply": "2021-04-20T07:23:46.496924Z"
    }
   },
   "outputs": [
    {
     "data": {
      "text/plain": [
       "ERROR:Couldn't resolve reference to Element 'VehicleIndividuals'\n"
      ]
     },
     "execution_count": 28,
     "metadata": {},
     "output_type": "execute_result"
    }
   ],
   "source": [
    "%viz --style=\"STDCOLOR\" --view=\"Sequence\" \"VehicleIndividuals\""
   ]
  },
  {
   "cell_type": "code",
   "execution_count": 29,
   "id": "e3eb89d0",
   "metadata": {
    "execution": {
     "iopub.execute_input": "2021-04-20T07:23:46.548258Z",
     "iopub.status.busy": "2021-04-20T07:23:46.547667Z",
     "iopub.status.idle": "2021-04-20T07:23:46.549646Z",
     "shell.execute_reply": "2021-04-20T07:23:46.548606Z"
    }
   },
   "outputs": [
    {
     "data": {
      "text/plain": [
       "ERROR:Couldn't resolve reference to Element 'VehicleIndividuals'\n"
      ]
     },
     "execution_count": 29,
     "metadata": {},
     "output_type": "execute_result"
    }
   ],
   "source": [
    "%viz --style=\"STDCOLOR\" --view=\"MIXED\" \"VehicleIndividuals\""
   ]
  },
  {
   "cell_type": "code",
   "execution_count": 30,
   "id": "1c00561d",
   "metadata": {
    "execution": {
     "iopub.execute_input": "2021-04-20T07:23:46.600692Z",
     "iopub.status.busy": "2021-04-20T07:23:46.600007Z",
     "iopub.status.idle": "2021-04-20T07:23:46.602404Z",
     "shell.execute_reply": "2021-04-20T07:23:46.601250Z"
    }
   },
   "outputs": [
    {
     "data": {
      "text/plain": [
       "ERROR:Couldn't resolve reference to Element 'VehicleIndividuals'\n"
      ]
     },
     "execution_count": 30,
     "metadata": {},
     "output_type": "execute_result"
    }
   ],
   "source": [
    "%viz --style=\"PLANTUML\" --view=\"Default\" \"VehicleIndividuals\""
   ]
  },
  {
   "cell_type": "code",
   "execution_count": 31,
   "id": "584a0c69",
   "metadata": {
    "execution": {
     "iopub.execute_input": "2021-04-20T07:23:46.653227Z",
     "iopub.status.busy": "2021-04-20T07:23:46.652636Z",
     "iopub.status.idle": "2021-04-20T07:23:46.654601Z",
     "shell.execute_reply": "2021-04-20T07:23:46.653594Z"
    }
   },
   "outputs": [
    {
     "data": {
      "text/plain": [
       "ERROR:Couldn't resolve reference to Element 'VehicleIndividuals'\n"
      ]
     },
     "execution_count": 31,
     "metadata": {},
     "output_type": "execute_result"
    }
   ],
   "source": [
    "%viz --style=\"PLANTUML\" --view=\"Tree\" \"VehicleIndividuals\""
   ]
  },
  {
   "cell_type": "code",
   "execution_count": 32,
   "id": "5d31bf5c",
   "metadata": {
    "execution": {
     "iopub.execute_input": "2021-04-20T07:23:46.704963Z",
     "iopub.status.busy": "2021-04-20T07:23:46.704436Z",
     "iopub.status.idle": "2021-04-20T07:23:46.706560Z",
     "shell.execute_reply": "2021-04-20T07:23:46.705493Z"
    }
   },
   "outputs": [
    {
     "data": {
      "text/plain": [
       "ERROR:Couldn't resolve reference to Element 'VehicleIndividuals'\n"
      ]
     },
     "execution_count": 32,
     "metadata": {},
     "output_type": "execute_result"
    }
   ],
   "source": [
    "%viz --style=\"PLANTUML\" --view=\"State\" \"VehicleIndividuals\""
   ]
  },
  {
   "cell_type": "code",
   "execution_count": 33,
   "id": "6a1c61b0",
   "metadata": {
    "execution": {
     "iopub.execute_input": "2021-04-20T07:23:46.757932Z",
     "iopub.status.busy": "2021-04-20T07:23:46.757274Z",
     "iopub.status.idle": "2021-04-20T07:23:46.759708Z",
     "shell.execute_reply": "2021-04-20T07:23:46.759331Z"
    }
   },
   "outputs": [
    {
     "data": {
      "text/plain": [
       "ERROR:Couldn't resolve reference to Element 'VehicleIndividuals'\n"
      ]
     },
     "execution_count": 33,
     "metadata": {},
     "output_type": "execute_result"
    }
   ],
   "source": [
    "%viz --style=\"PLANTUML\" --view=\"Interconnection\" \"VehicleIndividuals\""
   ]
  },
  {
   "cell_type": "code",
   "execution_count": 34,
   "id": "5fed4dde",
   "metadata": {
    "execution": {
     "iopub.execute_input": "2021-04-20T07:23:46.811763Z",
     "iopub.status.busy": "2021-04-20T07:23:46.810735Z",
     "iopub.status.idle": "2021-04-20T07:23:46.813960Z",
     "shell.execute_reply": "2021-04-20T07:23:46.812546Z"
    }
   },
   "outputs": [
    {
     "data": {
      "text/plain": [
       "ERROR:Couldn't resolve reference to Element 'VehicleIndividuals'\n"
      ]
     },
     "execution_count": 34,
     "metadata": {},
     "output_type": "execute_result"
    }
   ],
   "source": [
    "%viz --style=\"PLANTUML\" --view=\"Action\" \"VehicleIndividuals\""
   ]
  },
  {
   "cell_type": "code",
   "execution_count": 35,
   "id": "ac62b007",
   "metadata": {
    "execution": {
     "iopub.execute_input": "2021-04-20T07:23:46.867321Z",
     "iopub.status.busy": "2021-04-20T07:23:46.866428Z",
     "iopub.status.idle": "2021-04-20T07:23:46.869470Z",
     "shell.execute_reply": "2021-04-20T07:23:46.868213Z"
    }
   },
   "outputs": [
    {
     "data": {
      "text/plain": [
       "ERROR:Couldn't resolve reference to Element 'VehicleIndividuals'\n"
      ]
     },
     "execution_count": 35,
     "metadata": {},
     "output_type": "execute_result"
    }
   ],
   "source": [
    "%viz --style=\"PLANTUML\" --view=\"Sequence\" \"VehicleIndividuals\""
   ]
  },
  {
   "cell_type": "code",
   "execution_count": 36,
   "id": "4b93c45f",
   "metadata": {
    "execution": {
     "iopub.execute_input": "2021-04-20T07:23:46.918756Z",
     "iopub.status.busy": "2021-04-20T07:23:46.918211Z",
     "iopub.status.idle": "2021-04-20T07:23:46.922258Z",
     "shell.execute_reply": "2021-04-20T07:23:46.921564Z"
    }
   },
   "outputs": [
    {
     "data": {
      "text/plain": [
       "ERROR:Couldn't resolve reference to Element 'VehicleIndividuals'\n"
      ]
     },
     "execution_count": 36,
     "metadata": {},
     "output_type": "execute_result"
    }
   ],
   "source": [
    "%viz --style=\"PLANTUML\" --view=\"MIXED\" \"VehicleIndividuals\""
   ]
  },
  {
   "cell_type": "code",
   "execution_count": 37,
   "id": "56dfd01f",
   "metadata": {
    "execution": {
     "iopub.execute_input": "2021-04-20T07:23:46.972940Z",
     "iopub.status.busy": "2021-04-20T07:23:46.972441Z",
     "iopub.status.idle": "2021-04-20T07:23:46.974443Z",
     "shell.execute_reply": "2021-04-20T07:23:46.973326Z"
    }
   },
   "outputs": [
    {
     "data": {
      "text/plain": [
       "ERROR:Couldn't resolve reference to Element 'VehicleIndividuals'\n"
      ]
     },
     "execution_count": 37,
     "metadata": {},
     "output_type": "execute_result"
    }
   ],
   "source": [
    "%viz --style=\"DEFAULT\" --view=\"Default\" \"VehicleIndividuals\""
   ]
  },
  {
   "cell_type": "code",
   "execution_count": 38,
   "id": "94c60756",
   "metadata": {
    "execution": {
     "iopub.execute_input": "2021-04-20T07:23:47.025591Z",
     "iopub.status.busy": "2021-04-20T07:23:47.024900Z",
     "iopub.status.idle": "2021-04-20T07:23:47.026994Z",
     "shell.execute_reply": "2021-04-20T07:23:47.026001Z"
    }
   },
   "outputs": [
    {
     "data": {
      "text/plain": [
       "ERROR:Couldn't resolve reference to Element 'VehicleIndividuals'\n"
      ]
     },
     "execution_count": 38,
     "metadata": {},
     "output_type": "execute_result"
    }
   ],
   "source": [
    "%viz --style=\"DEFAULT\" --view=\"Tree\" \"VehicleIndividuals\""
   ]
  },
  {
   "cell_type": "code",
   "execution_count": 39,
   "id": "e1a5986d",
   "metadata": {
    "execution": {
     "iopub.execute_input": "2021-04-20T07:23:47.077565Z",
     "iopub.status.busy": "2021-04-20T07:23:47.077090Z",
     "iopub.status.idle": "2021-04-20T07:23:47.078923Z",
     "shell.execute_reply": "2021-04-20T07:23:47.077929Z"
    }
   },
   "outputs": [
    {
     "data": {
      "text/plain": [
       "ERROR:Couldn't resolve reference to Element 'VehicleIndividuals'\n"
      ]
     },
     "execution_count": 39,
     "metadata": {},
     "output_type": "execute_result"
    }
   ],
   "source": [
    "%viz --style=\"DEFAULT\" --view=\"State\" \"VehicleIndividuals\""
   ]
  },
  {
   "cell_type": "code",
   "execution_count": 40,
   "id": "af4770b5",
   "metadata": {
    "execution": {
     "iopub.execute_input": "2021-04-20T07:23:47.132343Z",
     "iopub.status.busy": "2021-04-20T07:23:47.131591Z",
     "iopub.status.idle": "2021-04-20T07:23:47.136699Z",
     "shell.execute_reply": "2021-04-20T07:23:47.132789Z"
    }
   },
   "outputs": [
    {
     "data": {
      "text/plain": [
       "ERROR:Couldn't resolve reference to Element 'VehicleIndividuals'\n"
      ]
     },
     "execution_count": 40,
     "metadata": {},
     "output_type": "execute_result"
    }
   ],
   "source": [
    "%viz --style=\"DEFAULT\" --view=\"Interconnection\" \"VehicleIndividuals\""
   ]
  },
  {
   "cell_type": "code",
   "execution_count": 41,
   "id": "8dd62dbc",
   "metadata": {
    "execution": {
     "iopub.execute_input": "2021-04-20T07:23:47.185654Z",
     "iopub.status.busy": "2021-04-20T07:23:47.184697Z",
     "iopub.status.idle": "2021-04-20T07:23:47.187371Z",
     "shell.execute_reply": "2021-04-20T07:23:47.186186Z"
    }
   },
   "outputs": [
    {
     "data": {
      "text/plain": [
       "ERROR:Couldn't resolve reference to Element 'VehicleIndividuals'\n"
      ]
     },
     "execution_count": 41,
     "metadata": {},
     "output_type": "execute_result"
    }
   ],
   "source": [
    "%viz --style=\"DEFAULT\" --view=\"Action\" \"VehicleIndividuals\""
   ]
  },
  {
   "cell_type": "code",
   "execution_count": 42,
   "id": "2eef746f",
   "metadata": {
    "execution": {
     "iopub.execute_input": "2021-04-20T07:23:47.238194Z",
     "iopub.status.busy": "2021-04-20T07:23:47.237617Z",
     "iopub.status.idle": "2021-04-20T07:23:47.239608Z",
     "shell.execute_reply": "2021-04-20T07:23:47.238566Z"
    }
   },
   "outputs": [
    {
     "data": {
      "text/plain": [
       "ERROR:Couldn't resolve reference to Element 'VehicleIndividuals'\n"
      ]
     },
     "execution_count": 42,
     "metadata": {},
     "output_type": "execute_result"
    }
   ],
   "source": [
    "%viz --style=\"DEFAULT\" --view=\"Sequence\" \"VehicleIndividuals\""
   ]
  },
  {
   "cell_type": "code",
   "execution_count": 43,
   "id": "b6ee8733",
   "metadata": {
    "execution": {
     "iopub.execute_input": "2021-04-20T07:23:47.294534Z",
     "iopub.status.busy": "2021-04-20T07:23:47.292482Z",
     "iopub.status.idle": "2021-04-20T07:23:47.296912Z",
     "shell.execute_reply": "2021-04-20T07:23:47.295404Z"
    }
   },
   "outputs": [
    {
     "data": {
      "text/plain": [
       "ERROR:Couldn't resolve reference to Element 'VehicleIndividuals'\n"
      ]
     },
     "execution_count": 43,
     "metadata": {},
     "output_type": "execute_result"
    }
   ],
   "source": [
    "%viz --style=\"DEFAULT\" --view=\"MIXED\" \"VehicleIndividuals\""
   ]
  },
  {
   "cell_type": "code",
   "execution_count": 44,
   "id": "3ef53312",
   "metadata": {
    "execution": {
     "iopub.execute_input": "2021-04-20T07:23:47.345241Z",
     "iopub.status.busy": "2021-04-20T07:23:47.344685Z",
     "iopub.status.idle": "2021-04-20T07:23:47.346644Z",
     "shell.execute_reply": "2021-04-20T07:23:47.345638Z"
    }
   },
   "outputs": [
    {
     "data": {
      "text/plain": [
       "ERROR:Couldn't resolve reference to Element 'VehicleIndividuals'\n"
      ]
     },
     "execution_count": 44,
     "metadata": {},
     "output_type": "execute_result"
    }
   ],
   "source": [
    "%viz --style=\"TB\" --view=\"Default\" \"VehicleIndividuals\""
   ]
  },
  {
   "cell_type": "code",
   "execution_count": 45,
   "id": "512a4591",
   "metadata": {
    "execution": {
     "iopub.execute_input": "2021-04-20T07:23:47.399519Z",
     "iopub.status.busy": "2021-04-20T07:23:47.398790Z",
     "iopub.status.idle": "2021-04-20T07:23:47.401204Z",
     "shell.execute_reply": "2021-04-20T07:23:47.400026Z"
    }
   },
   "outputs": [
    {
     "data": {
      "text/plain": [
       "ERROR:Couldn't resolve reference to Element 'VehicleIndividuals'\n"
      ]
     },
     "execution_count": 45,
     "metadata": {},
     "output_type": "execute_result"
    }
   ],
   "source": [
    "%viz --style=\"TB\" --view=\"Tree\" \"VehicleIndividuals\""
   ]
  },
  {
   "cell_type": "code",
   "execution_count": 46,
   "id": "3a96d7c8",
   "metadata": {
    "execution": {
     "iopub.execute_input": "2021-04-20T07:23:47.453896Z",
     "iopub.status.busy": "2021-04-20T07:23:47.452968Z",
     "iopub.status.idle": "2021-04-20T07:23:47.455706Z",
     "shell.execute_reply": "2021-04-20T07:23:47.454406Z"
    }
   },
   "outputs": [
    {
     "data": {
      "text/plain": [
       "ERROR:Couldn't resolve reference to Element 'VehicleIndividuals'\n"
      ]
     },
     "execution_count": 46,
     "metadata": {},
     "output_type": "execute_result"
    }
   ],
   "source": [
    "%viz --style=\"TB\" --view=\"State\" \"VehicleIndividuals\""
   ]
  },
  {
   "cell_type": "code",
   "execution_count": 47,
   "id": "4f8ff3e0",
   "metadata": {
    "execution": {
     "iopub.execute_input": "2021-04-20T07:23:47.507079Z",
     "iopub.status.busy": "2021-04-20T07:23:47.505979Z",
     "iopub.status.idle": "2021-04-20T07:23:47.511096Z",
     "shell.execute_reply": "2021-04-20T07:23:47.508412Z"
    }
   },
   "outputs": [
    {
     "data": {
      "text/plain": [
       "ERROR:Couldn't resolve reference to Element 'VehicleIndividuals'\n"
      ]
     },
     "execution_count": 47,
     "metadata": {},
     "output_type": "execute_result"
    }
   ],
   "source": [
    "%viz --style=\"TB\" --view=\"Interconnection\" \"VehicleIndividuals\""
   ]
  },
  {
   "cell_type": "code",
   "execution_count": 48,
   "id": "c6d302a3",
   "metadata": {
    "execution": {
     "iopub.execute_input": "2021-04-20T07:23:47.561032Z",
     "iopub.status.busy": "2021-04-20T07:23:47.560311Z",
     "iopub.status.idle": "2021-04-20T07:23:47.562774Z",
     "shell.execute_reply": "2021-04-20T07:23:47.561579Z"
    }
   },
   "outputs": [
    {
     "data": {
      "text/plain": [
       "ERROR:Couldn't resolve reference to Element 'VehicleIndividuals'\n"
      ]
     },
     "execution_count": 48,
     "metadata": {},
     "output_type": "execute_result"
    }
   ],
   "source": [
    "%viz --style=\"TB\" --view=\"Action\" \"VehicleIndividuals\""
   ]
  },
  {
   "cell_type": "code",
   "execution_count": 49,
   "id": "4c7175b5",
   "metadata": {
    "execution": {
     "iopub.execute_input": "2021-04-20T07:23:47.612269Z",
     "iopub.status.busy": "2021-04-20T07:23:47.611674Z",
     "iopub.status.idle": "2021-04-20T07:23:47.613688Z",
     "shell.execute_reply": "2021-04-20T07:23:47.612657Z"
    }
   },
   "outputs": [
    {
     "data": {
      "text/plain": [
       "ERROR:Couldn't resolve reference to Element 'VehicleIndividuals'\n"
      ]
     },
     "execution_count": 49,
     "metadata": {},
     "output_type": "execute_result"
    }
   ],
   "source": [
    "%viz --style=\"TB\" --view=\"Sequence\" \"VehicleIndividuals\""
   ]
  },
  {
   "cell_type": "code",
   "execution_count": 50,
   "id": "988ffbeb",
   "metadata": {
    "execution": {
     "iopub.execute_input": "2021-04-20T07:23:47.665168Z",
     "iopub.status.busy": "2021-04-20T07:23:47.663714Z",
     "iopub.status.idle": "2021-04-20T07:23:47.667219Z",
     "shell.execute_reply": "2021-04-20T07:23:47.665641Z"
    }
   },
   "outputs": [
    {
     "data": {
      "text/plain": [
       "ERROR:Couldn't resolve reference to Element 'VehicleIndividuals'\n"
      ]
     },
     "execution_count": 50,
     "metadata": {},
     "output_type": "execute_result"
    }
   ],
   "source": [
    "%viz --style=\"TB\" --view=\"MIXED\" \"VehicleIndividuals\""
   ]
  },
  {
   "cell_type": "code",
   "execution_count": 51,
   "id": "34d62280",
   "metadata": {
    "execution": {
     "iopub.execute_input": "2021-04-20T07:23:47.718353Z",
     "iopub.status.busy": "2021-04-20T07:23:47.717233Z",
     "iopub.status.idle": "2021-04-20T07:23:47.720240Z",
     "shell.execute_reply": "2021-04-20T07:23:47.718785Z"
    }
   },
   "outputs": [
    {
     "data": {
      "text/plain": [
       "ERROR:Couldn't resolve reference to Element 'VehicleIndividuals'\n"
      ]
     },
     "execution_count": 51,
     "metadata": {},
     "output_type": "execute_result"
    }
   ],
   "source": [
    "%viz --style=\"ORTHOLINE\" --view=\"Default\" \"VehicleIndividuals\""
   ]
  },
  {
   "cell_type": "code",
   "execution_count": 52,
   "id": "65f5adc6",
   "metadata": {
    "execution": {
     "iopub.execute_input": "2021-04-20T07:23:47.771886Z",
     "iopub.status.busy": "2021-04-20T07:23:47.771159Z",
     "iopub.status.idle": "2021-04-20T07:23:47.773537Z",
     "shell.execute_reply": "2021-04-20T07:23:47.772361Z"
    }
   },
   "outputs": [
    {
     "data": {
      "text/plain": [
       "ERROR:Couldn't resolve reference to Element 'VehicleIndividuals'\n"
      ]
     },
     "execution_count": 52,
     "metadata": {},
     "output_type": "execute_result"
    }
   ],
   "source": [
    "%viz --style=\"ORTHOLINE\" --view=\"Tree\" \"VehicleIndividuals\""
   ]
  },
  {
   "cell_type": "code",
   "execution_count": 53,
   "id": "b4d7e3fb",
   "metadata": {
    "execution": {
     "iopub.execute_input": "2021-04-20T07:23:47.823612Z",
     "iopub.status.busy": "2021-04-20T07:23:47.823031Z",
     "iopub.status.idle": "2021-04-20T07:23:47.825100Z",
     "shell.execute_reply": "2021-04-20T07:23:47.823973Z"
    }
   },
   "outputs": [
    {
     "data": {
      "text/plain": [
       "ERROR:Couldn't resolve reference to Element 'VehicleIndividuals'\n"
      ]
     },
     "execution_count": 53,
     "metadata": {},
     "output_type": "execute_result"
    }
   ],
   "source": [
    "%viz --style=\"ORTHOLINE\" --view=\"State\" \"VehicleIndividuals\""
   ]
  },
  {
   "cell_type": "code",
   "execution_count": 54,
   "id": "d562d884",
   "metadata": {
    "execution": {
     "iopub.execute_input": "2021-04-20T07:23:47.875830Z",
     "iopub.status.busy": "2021-04-20T07:23:47.875188Z",
     "iopub.status.idle": "2021-04-20T07:23:47.877304Z",
     "shell.execute_reply": "2021-04-20T07:23:47.876267Z"
    }
   },
   "outputs": [
    {
     "data": {
      "text/plain": [
       "ERROR:Couldn't resolve reference to Element 'VehicleIndividuals'\n"
      ]
     },
     "execution_count": 54,
     "metadata": {},
     "output_type": "execute_result"
    }
   ],
   "source": [
    "%viz --style=\"ORTHOLINE\" --view=\"Interconnection\" \"VehicleIndividuals\""
   ]
  },
  {
   "cell_type": "code",
   "execution_count": 55,
   "id": "7c46b77e",
   "metadata": {
    "execution": {
     "iopub.execute_input": "2021-04-20T07:23:47.927860Z",
     "iopub.status.busy": "2021-04-20T07:23:47.927177Z",
     "iopub.status.idle": "2021-04-20T07:23:47.929536Z",
     "shell.execute_reply": "2021-04-20T07:23:47.928390Z"
    }
   },
   "outputs": [
    {
     "data": {
      "text/plain": [
       "ERROR:Couldn't resolve reference to Element 'VehicleIndividuals'\n"
      ]
     },
     "execution_count": 55,
     "metadata": {},
     "output_type": "execute_result"
    }
   ],
   "source": [
    "%viz --style=\"ORTHOLINE\" --view=\"Action\" \"VehicleIndividuals\""
   ]
  },
  {
   "cell_type": "code",
   "execution_count": 56,
   "id": "8386d873",
   "metadata": {
    "execution": {
     "iopub.execute_input": "2021-04-20T07:23:47.980074Z",
     "iopub.status.busy": "2021-04-20T07:23:47.979400Z",
     "iopub.status.idle": "2021-04-20T07:23:47.981680Z",
     "shell.execute_reply": "2021-04-20T07:23:47.980604Z"
    }
   },
   "outputs": [
    {
     "data": {
      "text/plain": [
       "ERROR:Couldn't resolve reference to Element 'VehicleIndividuals'\n"
      ]
     },
     "execution_count": 56,
     "metadata": {},
     "output_type": "execute_result"
    }
   ],
   "source": [
    "%viz --style=\"ORTHOLINE\" --view=\"Sequence\" \"VehicleIndividuals\""
   ]
  },
  {
   "cell_type": "code",
   "execution_count": 57,
   "id": "38ebd868",
   "metadata": {
    "execution": {
     "iopub.execute_input": "2021-04-20T07:23:48.034173Z",
     "iopub.status.busy": "2021-04-20T07:23:48.033267Z",
     "iopub.status.idle": "2021-04-20T07:23:48.036783Z",
     "shell.execute_reply": "2021-04-20T07:23:48.034814Z"
    }
   },
   "outputs": [
    {
     "data": {
      "text/plain": [
       "ERROR:Couldn't resolve reference to Element 'VehicleIndividuals'\n"
      ]
     },
     "execution_count": 57,
     "metadata": {},
     "output_type": "execute_result"
    }
   ],
   "source": [
    "%viz --style=\"ORTHOLINE\" --view=\"MIXED\" \"VehicleIndividuals\""
   ]
  }
 ],
 "metadata": {
  "kernelspec": {
   "display_name": "SysML",
   "language": "sysml",
   "name": "sysml"
  },
  "language_info": {
   "codemirror_mode": "sysml",
   "file_extension": ".sysml",
   "mimetype": "text/x-sysml",
   "name": "SysML",
   "pygments_lexer": "java",
   "version": "1.0.0"
  }
 },
 "nbformat": 4,
 "nbformat_minor": 5
}
