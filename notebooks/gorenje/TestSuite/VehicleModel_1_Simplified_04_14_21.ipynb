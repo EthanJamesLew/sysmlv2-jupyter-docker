{
 "cells": [
  {
   "cell_type": "markdown",
   "id": "ea71ddb4",
   "metadata": {},
   "source": [
    "# SysML v2 Test Suite\n",
    "\n",
    "This can notebook can be cleared using menu `Edit --> Clear All Outputs` and then all cells can be\n",
    "run using menu `Run --> Run All Cells`.\n",
    "\n",
    "**WARNING**: This file is generated, all modifications here will be ignored.\n"
   ]
  },
  {
   "cell_type": "markdown",
   "id": "57692f47",
   "metadata": {},
   "source": [
    "## File: ../../sysml/src/examples/Vehicle Example/VehicleModel_1_Simplified_04_14_21.sysml"
   ]
  },
  {
   "cell_type": "code",
   "execution_count": 1,
   "id": "87a1c391",
   "metadata": {
    "execution": {
     "iopub.execute_input": "2021-04-20T07:22:15.815811Z",
     "iopub.status.busy": "2021-04-20T07:22:15.808798Z",
     "iopub.status.idle": "2021-04-20T07:22:29.390463Z",
     "shell.execute_reply": "2021-04-20T07:22:29.391480Z"
    }
   },
   "outputs": [
    {
     "data": {
      "text/plain": [
       "Package sfriedenthal_VehicleModel_1_simplified (d472edaa-353e-43ef-87b9-ffe5ac7dfa41)\n"
      ]
     },
     "execution_count": 1,
     "metadata": {},
     "output_type": "execute_result"
    }
   ],
   "source": [
    "package sfriedenthal_VehicleModel_1_simplified{\n",
    "    import Definitions::*;\n",
    "    package Definitions{\n",
    "        //these imports eliminate the need to import into each nested package\n",
    "        import PartDefinitions::*;\n",
    "        import PortDefinitions::*;\n",
    "        import ItemDefinitions::*;\n",
    "        import SignalDefinitions::*;\n",
    "        import InterfaceDefinitions::*;\n",
    "        import ActionDefinitions::*;\n",
    "        import StateDefinitions::*;\n",
    "        import RequirementDefinitions::*;\n",
    "        import AttributeDefinitions::*;\n",
    "        import IndividualDefinitions::*;\n",
    "        import AnnotationDefinitions::**;\n",
    "        package PartDefinitions{\n",
    "            part def Vehicle:>PhysicalComponent {\n",
    "                attribute mass :> ISQ::mass;\n",
    "                attribute dryMass:>ISQ::mass;\n",
    "                attribute cargoMass:>ISQ::mass;\n",
    "                //attribute position:ISQ::LengthValue;\n",
    "                attribute position:>ISQ::length;\n",
    "                attribute velocity:>ISQ::speed;\n",
    "                attribute acceleration:>ISQ::acceleration;\n",
    "                attribute electricalPower:>ISQ::power;\n",
    "                attribute Tmax:>ISQ::temperature;\n",
    "                attribute maintenanceTime: Time::DateTime; \n",
    "                attribute brakePedalDepressed: Boolean;\n",
    "                port pwrCmdPort:PwrCmdPort;\n",
    "                port vehicleToRoadPort:VehicleToRoadPort;\n",
    "                perform action providePower;\n",
    "                perform action provideBraking;\n",
    "                perform action controlDirection;\n",
    "                perform action performSelfTest;\n",
    "                perform action applyParkingBrake;\n",
    "                perform action senseTemperature;\n",
    "                exhibit state vehicleStates;\n",
    "            }\n",
    "            part def Engine{\n",
    "                attribute mass :> ISQ::mass;\n",
    "                attribute peakHorsePower:>ISQ::power;\n",
    "                attribute fuelEfficiency:Real;\n",
    "                attribute cost:Real;\n",
    "                attribute displacement :> ISQ::volume;\n",
    "                port engineControlPort: ~ControlPort;\n",
    "                port fuelInPort: ~ FuelPort{\n",
    "                    in item fuel redefines fuel;\n",
    "                }\n",
    "                port fuelCmdPort:FuelCmdPort{\n",
    "                    in item redefines fuelCmd;\n",
    "                }\n",
    "                port drivePwrPort:DrivePwrPort{\n",
    "                    out redefines engineTorque;\n",
    "                }\n",
    "                perform action generateTorque;\n",
    "            }\n",
    "            part def Cylinder;\n",
    "            part def Transmission;\n",
    "            part def Driveshaft;\n",
    "            part def AxleAssembly;\n",
    "            part def Axle{\n",
    "                attribute mass:>ISQ::mass;\n",
    "            }\n",
    "            part def FrontAxle:>Axle{\n",
    "                attribute steeringAngle:ScalarValues::Real;\n",
    "            }\n",
    "            part def HalfAxle;\n",
    "            part def Differential;\n",
    "            part def Wheel {\n",
    "                attribute diameter:LengthValue;\n",
    "            }\n",
    "            abstract part def Software;\n",
    "            part def VehicleSoftware:>Software;\n",
    "            part def VehicleController:>Software {\n",
    "                port controlPort:ControlPort;\n",
    "                exhibit state controllerStates: ControllerStates;\n",
    "            }\n",
    "            part def FuelTank{\n",
    "                attribute mass :> ISQ::mass;\n",
    "                // should use fuel volume instead of fuel mass and fuelCopacity instead of fuelMassMax\n",
    "                ref item fuel:Fuel{\n",
    "                    attribute redefines fuelMass;\n",
    "                }\n",
    "                attribute fuelMassMax:>ISQ::mass;\n",
    "                assert constraint {fuel::fuelMass<=fuelMassMax}\n",
    "                port fuelOutPort:FuelPort;\n",
    "            }\n",
    "            part def BodyAssy;\n",
    "            part def Body{\n",
    "                attribute color:Colors;\n",
    "            }\n",
    "            part def Road{\n",
    "                attribute incline:Real;\n",
    "                attribute friction:Real;\n",
    "            }\n",
    "            part def VehicleRoadContext{\n",
    "                attribute time:TimeValue;\n",
    "            }\n",
    "            // Used for Specifying Context for Individuals\n",
    "            part def SpatialTemporalReference;\n",
    "            \n",
    "            // Used for Defining Variants for Superset Model\n",
    "            part def Engine4Cyl;\n",
    "            part def Engine6Cyl;\n",
    "            part def TransmissionChoices;\n",
    "            part def TransmissionAutomatic;\n",
    "            part def TransmissionManual;\n",
    "            part def Sunroof;\n",
    "            \n",
    "            //create abstract physical element to support allocation def from logical to Physical\n",
    "            part def PhysicalComponent:>PhysicalElement;\n",
    "            //logical Components\n",
    "            part def LogicalComponent:>LogicalElement;\n",
    "            part def VehicleLogical:>LogicalComponent;\n",
    "            part def ElectricalGenerator;\n",
    "            part def TorqueGenerator;\n",
    "            part def SteeringSubsystem;\n",
    "            part def BrakingSubsystem;\n",
    "            \n",
    "            \n",
    "        }\n",
    "        package PortDefinitions{\n",
    "            port def PwrCmdPort{\n",
    "                in item pwrCmd:PwrCmd;\n",
    "            }\n",
    "            port def FuelCmdPort:>PwrCmdPort{\n",
    "                in item fuelCmd:FuelCmd redefines pwrCmd;\n",
    "            }\n",
    "            port def FuelPort{\n",
    "                out item fuel:Fuel;\n",
    "            }\n",
    "            port def DrivePwrPort{\n",
    "                out engineTorque:Torque;\n",
    "            }\n",
    "            port def ClutchPort;\n",
    "            port def ShaftPort_a;\n",
    "            port def ShaftPort_b;\n",
    "            port def ShaftPort_c;\n",
    "            port def ShaftPort_d;\n",
    "            port def DiffPort;\n",
    "            port def AxlePort;\n",
    "            port def AxleToWheelPort;\n",
    "            port def WheelToAxlePort;\n",
    "            port def WheelToRoadPort;\n",
    "            port def VehicleToRoadPort;\n",
    "            port def ControlPort;\n",
    "        }\n",
    "        package ItemDefinitions{\n",
    "            item def Fuel{\n",
    "                attribute fuelMass:>ISQ::mass;\n",
    "            }\n",
    "            item def FuelCmd:>PwrCmd;\n",
    "            item def PwrCmd{\n",
    "                attribute throttleLevel:Real;\n",
    "            }\n",
    "            item def LogicalElement;\n",
    "            item def PhysicalElement;\n",
    "        }\n",
    "        package SignalDefinitions{\n",
    "            // should the following signals be item def vs attribute def?\n",
    "            attribute def VehicleStartSignal;\n",
    "            attribute def VehicleOnSignal;\n",
    "            attribute def VehicleOffSignal;\n",
    "            attribute def StartSignal;\n",
    "            attribute def OffSignal;\n",
    "            attribute def OverTemp;\n",
    "            attribute def ReturnToNormal;\n",
    "            // the following are work arounds until time events and change events are available\n",
    "            attribute def 'at(vehicle::maintenanceTime)';\n",
    "            attribute def 'when(temp>vehicle::Tmax)';\n",
    "        }\n",
    "        package InterfaceDefinitions{\n",
    "            interface def EngineToTransmissionInterface{\n",
    "                end p1:DrivePwrPort;\n",
    "                end p2:ClutchPort;\n",
    "            }\n",
    "            interface def FuelInterface {\n",
    "                end fuelOutPort : FuelPort{\n",
    "                    out item :>> fuel;\n",
    "                }\n",
    "                end fuelInPort : ~FuelPort {\n",
    "                    in item :>> fuel;\n",
    "                }\n",
    "                stream fuelOutPort::fuel to fuelInPort::fuel;\n",
    "            }\n",
    "        }\n",
    "        package AllocationDefinitions{\n",
    "            allocation def LogicalToPhysical{\n",
    "                end logical:LogicalElement;\n",
    "                end physical:PhysicalElement;\n",
    "            }\n",
    "        }\n",
    "        package ActionDefinitions{\n",
    "            // why is item key word not required here for fuelCmd\n",
    "            action def ProvidePower {\n",
    "                in item pwrCmd:PwrCmd;\n",
    "                out wheelToRoadTorque:Torque[2];\n",
    "            }\n",
    "            action def GenerateTorque {\n",
    "                in item fuelCmd:FuelCmd;\n",
    "                out engineTorque:Torque;\n",
    "            }\n",
    "            action def AmplifyTorque {\n",
    "                in engineTorque:Torque;\n",
    "                out transmissionTorque:Torque;\n",
    "            }\n",
    "            action def TransferTorque {\n",
    "                in transmissionTorque:Torque;\n",
    "                out driveshaftTorque:Torque;\n",
    "            }\n",
    "            action def DistributeTorque {\n",
    "                in driveshaftTorque:Torque;\n",
    "                out wheelToRoadTorque:Torque[2];\n",
    "            }\n",
    "            action def PerformSelfTest;\n",
    "            action def ApplyParkingBrake;\n",
    "            action def SenseTemperature{\n",
    "                out temp: ISQ::TemperatureValue;\n",
    "            }\n",
    "        }    \n",
    "        package StateDefinitions {\n",
    "            state def VehicleStates;\n",
    "            state def ControllerStates;  \n",
    "        }\n",
    "        package RequirementDefinitions{\n",
    "            requirement def MassRequirement{\n",
    "                doc /*The actual mass shall be less than the required mass*/\n",
    "                attribute massRequired:>ISQ::mass;\n",
    "                attribute massActual:>ISQ::mass;\n",
    "                require constraint {massActual<=massRequired}\n",
    "            }\n",
    "            requirement def ReliabilityRequirement{\n",
    "                doc /*The actual reliability shall be greater than the required reliability*/\n",
    "                attribute reliabilityRequired:Real;\n",
    "                attribute reliabilityActual:Real;\n",
    "                require constraint {reliabilityActual>=reliabilityRequired}\n",
    "            }\n",
    "            requirement def TorqueGenerationRequirement {\n",
    "                doc /* The engine shall generate torque as a function of RPM as shown in Table 1. */\n",
    "                subject generateTorque:ActionDefinitions::GenerateTorque;\n",
    "            }\n",
    "            requirement def DrivePowerOutputRequirement { \n",
    "                doc /* The engine shall provide a connection point to transfer torque to the transmission.*/\n",
    "            }\n",
    "            requirement def FuelEconomyRequirement {\n",
    "                doc /* The vehicle shall maintain an average fuel economomy of at least x miles per gallon for the nominal \n",
    "                driving scenario */\n",
    "                //attribute actualFuelEconomy : DistancePerVolumeValue;\n",
    "                //attribute requiredFuelEconomy : DistancePerVolumeValue;\n",
    "                attribute actualFuelEconomy :> distancePerVolume;\n",
    "                attribute requiredFuelEconomy :> distancePerVolume;\n",
    "                require constraint {actualFuelEconomy >= requiredFuelEconomy}\n",
    "            }\n",
    "        }\n",
    "        package AttributeDefinitions{\n",
    "            import ScalarValues::*;\n",
    "            // Scalar Functions provides Sum expression\n",
    "            import ScalarFunctions::*;\n",
    "            import ISQ::*;\n",
    "            import SI::*;\n",
    "            alias ISQ::TorqueValue as Torque;\n",
    "            \n",
    "            //examples of enumberations\n",
    "            enum def Colors {black;grey;red;}\n",
    "            enum def DiameterChoices:>ISQ::LengthValue{\n",
    "                enum = 60 @[mm];\n",
    "                enum = 80 @[mm];\n",
    "                enum = 100 @[mm];\n",
    "            }\n",
    "            attribute cylinderDiameter: DiameterChoices = 80 @[mm];       \n",
    "\n",
    "            // (from Ed's model) the following defines new quantities and units used in fuel economy reqts and analysis\n",
    "            import Quantities::*;\n",
    "            import UnitsAndScales::DerivedUnit;\n",
    "            import SIPrefixes::kilo;\n",
    "            \n",
    "            /* should we add quantity and unit as key words? */\n",
    "            distancePerVolume :> scalarQuantities = distance / volume;\n",
    "            timePerDistance :> scalarQuantities = time / distance;\n",
    "            volumePerDistance :> scalarQuantities = volume / distance;\n",
    "            volumePerTime :> scalarQuantities = volume / time;\n",
    "            \n",
    "            // kpl is approx .425 * mpg\n",
    "            kpl : DerivedUnit = km / L;\n",
    "            rpm : DerivedUnit = 1 / min;\n",
    "            kW : DerivedUnit = kilo * W;\n",
    "            //\n",
    "        }\n",
    "        package IndividualDefinitions{\n",
    "            individual def SpatialTemporalReference_1:>SpatialTemporalReference;\n",
    "            individual def VehicleRoadContext_1:>VehicleRoadContext;\n",
    "            individual def Vehicle_1:>Vehicle;\n",
    "            individual def FrontAxleAssembly_1:>AxleAssembly;\n",
    "            individual def FrontAxle_1:>FrontAxle;\n",
    "            individual def Wheel_1:>Wheel;\n",
    "            individual def Wheel_2:>Wheel;\n",
    "            individual def RearAxleAssembly_1:>AxleAssembly;\n",
    "            individual def Road_1:>Road;\n",
    "        }\n",
    "        package AnnotationDefinitions {\n",
    "            \n",
    "            import AnalysisTooling::*;   \n",
    "            //define the metadata as follows if not included in the AnalysisTooling library\n",
    "            /*\n",
    "            attribute def ToolExecution {\n",
    "                attribute toolName:String;\n",
    "                attribute uri:String;\n",
    "            }\n",
    "            */ \n",
    "            \n",
    "            attribute def Safety {\n",
    "                attribute isMandatory : Boolean;\n",
    "            }\n",
    "            attribute def Security;\n",
    "        }\n",
    "    }\n",
    "    package VehicleLogicalConfiguration{\n",
    "        package PartsTree{\n",
    "            part vehicleLogical:VehicleLogical{\n",
    "                part torqueGenerator:TorqueGenerator{\n",
    "                    action generateTorque;\n",
    "                }\n",
    "                part electricalGenerator:ElectricalGenerator{\n",
    "                    action generateElectricity;\n",
    "                }\n",
    "                part steeringSystem:SteeringSubsystem;\n",
    "                part brakingSubsystem:BrakingSubsystem;\n",
    "            }\n",
    "        }\n",
    "    }\n",
    "    package VehicleLogicalToPhysicalAllocation{\n",
    "        import VehicleLogicalConfiguration::PartsTree::*;\n",
    "        import VehicleConfigurations::VehicleConfiguration_b::PartsTree::**;\n",
    "        allocation vehicleLogicalToPhysicalAllocation:AllocationDefinitions::LogicalToPhysical\n",
    "            allocate vehicleLogical to vehicle_b{\n",
    "                allocate vehicleLogical::torqueGenerator to vehicle_b::engine{\n",
    "                    allocate vehicleLogical::torqueGenerator::generateTorque to vehicle_b::engine::generateTorque;\n",
    "                }\n",
    "                allocate vehicleLogical::electricalGenerator to vehicle_b::engine{\n",
    "                    allocate vehicleLogical::electricalGenerator::generateElectricity to vehicle_b::engine::alternator::generateElectricity;\n",
    "                }\n",
    "            }\n",
    "    }\n",
    "    package VehicleConfigurations{\n",
    "        package VehicleConfiguration_a{\n",
    "            package PartsTree{\n",
    "                part vehicle_a:Vehicle{\n",
    "                    attribute mass redefines Vehicle::mass=dryMass+cargoMass+fuelTank::fuel::fuelMass;\n",
    "                    attribute dryMass redefines Vehicle::dryMass=sum(partMasses);\n",
    "                    attribute redefines Vehicle::cargoMass=0;\n",
    "                    attribute partMasses [*] nonunique :>ISQ::mass;\n",
    "                    //attribute partMasses={fuelTank::mass,frontAxleAssembly::mass,rearAxleAssembly::mass};\n",
    "                    part fuelTank:FuelTank{\n",
    "                        attribute redefines mass=75@[kg];\n",
    "                        ref item redefines fuel{\n",
    "                            attribute redefines fuelMass=50@[kg];\n",
    "                        }   \n",
    "                    }\n",
    "                    part frontAxleAssembly:AxleAssembly{\n",
    "                        attribute mass :> ISQ::mass=800@[kg];\n",
    "                        part frontAxle:Axle;\n",
    "                        part frontWheels:Wheel[2];\n",
    "                    }\n",
    "                    part rearAxleAssembly:AxleAssembly{\n",
    "                        attribute mass :> ISQ::mass=875@[kg];\n",
    "                        attribute driveTrainEfficiency:Real = 0.6;\n",
    "                        part rearAxle:Axle;\n",
    "                        part rearWheels:Wheel[2]{\n",
    "                            attribute redefines diameter;\n",
    "                        }\n",
    "                    }\n",
    "                }\n",
    "            }\n",
    "            package ActionTree{\n",
    "                \n",
    "            }\n",
    "        }\n",
    "        package VehicleConfiguration_b{\n",
    "            package PartsTree{\n",
    "                part vehicle_b : Vehicle{\n",
    "                    attribute mass redefines mass=dryMass+cargoMass+fuelTank::fuel::fuelMass;\n",
    "                    attribute dryMass redefines dryMass=sum(partMasses);\n",
    "                    attribute redefines cargoMass=0;\n",
    "                    attribute partMasses={fuelTank::mass,frontAxleAssembly::mass,rearAxleAssembly::mass,engine::mass,transmission::mass,driveshaft::mass};\n",
    "                    attribute avgFuelEconomy :> distancePerVolume;\n",
    "                    port fuelCmdPort: FuelCmdPort redefines pwrCmdPort {\n",
    "                        in item redefines fuelCmd;\n",
    "                    }\n",
    "                    port vehicleToRoadPort redefines vehicleToRoadPort{\n",
    "                        port wheelToRoadPort1:WheelToRoadPort;\n",
    "                        port wheelToRoadPort2:WheelToRoadPort;\n",
    "                    }\n",
    "                    perform ActionTree::providePower redefines providePower;\n",
    "                    perform ActionTree::performSelfTest redefines performSelfTest;\n",
    "                    perform ActionTree::applyParkingBrake redefines applyParkingBrake;\n",
    "                    perform ActionTree::senseTemperature redefines senseTemperature;\n",
    "                    exhibit States::vehicleStates redefines vehicleStates {\n",
    "                        ref vehicle redefines vehicle = vehicle_b;\n",
    "                    }\n",
    "                    part fuelTank:FuelTank{\n",
    "                        attribute redefines mass=75@[kg];\n",
    "                        ref item redefines fuel{\n",
    "                            attribute redefines fuelMass=60@[kg];\n",
    "                        }\n",
    "                        attribute redefines fuelMassMax=60;\n",
    "                        port fuelOutPort redefines fuelOutPort{\n",
    "                            out item redefines fuel;\n",
    "                        }\n",
    "                    }\n",
    "                    part frontAxleAssembly:AxleAssembly{\n",
    "                        attribute mass :> ISQ::mass=800@[kg];\n",
    "                        port shaftPort_d:ShaftPort_d;\n",
    "                        part frontAxle:FrontAxle;\n",
    "                        part frontWheels:Wheel[2];\n",
    "                    }\n",
    "                    part rearAxleAssembly:AxleAssembly{\n",
    "                        attribute mass :> ISQ::mass=875@[kg];\n",
    "                        attribute driveTrainEfficiency:Real = 0.6;\n",
    "                        port shaftPort_d:ShaftPort_d;\n",
    "                        perform ActionTree::providePower::distributeTorque;\n",
    "                        part rearWheel1:Wheel{\n",
    "                            attribute redefines diameter;\n",
    "                            port wheelToAxlePort:WheelToAxlePort;\n",
    "                            port wheelToRoadPort:WheelToRoadPort;\n",
    "                        }\n",
    "                        part rearWheel2:Wheel{\n",
    "                            attribute redefines diameter;\n",
    "                            port wheelToRoadPort:WheelToRoadPort;\n",
    "                            port wheelToAxlePort:WheelToAxlePort;\n",
    "                        }\n",
    "                        part differential:Differential{\n",
    "                            port shaftPort_d:ShaftPort_d;\n",
    "                            port leftDiffPort:DiffPort;\n",
    "                            port rightDiffPort:DiffPort;\n",
    "                        }\n",
    "                        part rearAxle{\n",
    "                            part leftHalfAxle:HalfAxle{\n",
    "                                port leftAxleToDiffPort:AxlePort;\n",
    "                                port leftAxleToWheelPort:AxlePort;\n",
    "                            }\n",
    "                            part rightHalfAxle:HalfAxle{\n",
    "                                port rightAxleToDiffPort:AxlePort;\n",
    "                                port rightAxleToWheelPort:AxlePort;\n",
    "                            }\n",
    "                        }\n",
    "                        \n",
    "                        bind shaftPort_d=differential::shaftPort_d;\n",
    "                        connect differential::leftDiffPort to rearAxle::leftHalfAxle::leftAxleToDiffPort;\n",
    "                        connect differential::rightDiffPort to rearAxle::rightHalfAxle::rightAxleToDiffPort;\n",
    "                        connect rearAxle::leftHalfAxle::leftAxleToWheelPort to rearWheel1::wheelToAxlePort;\n",
    "                        connect rearAxle::rightHalfAxle::rightAxleToWheelPort to rearWheel2::wheelToAxlePort;\n",
    "                    }\n",
    "                    part engine:Engine{\n",
    "                        attribute :>> mass;\n",
    "                        attribute :>> peakHorsePower;\n",
    "                        attribute :>> fuelEfficiency;\n",
    "                        attribute :>> cost;\n",
    "                        port engineControlPort:>> engineControlPort;\n",
    "                        port fuelInPort:>> fuelInPort{\n",
    "                            in item fuel redefines fuel;\n",
    "                        }\n",
    "                        port fuelCmdPort:>> fuelCmdPort {\n",
    "                            in item redefines fuelCmd;\n",
    "                        }\n",
    "                        port drivePwrPort:>> drivePwrPort {\n",
    "                            out redefines engineTorque;\n",
    "                        }\n",
    "                        perform ActionTree::providePower::generateTorque redefines generateTorque;            \n",
    "                        part cylinders:Cylinder[4..6];\n",
    "                        part alternator{\n",
    "                            action generateElectricity;\n",
    "                        }\n",
    "                        satisfy Requirements::engineSpecification by vehicle_b::engine{ \n",
    "                            //subject engine1 = vehicle_b::engine;\n",
    "                            requirement torqueGenerationRequirement :>> torqueGenerationRequirement{\n",
    "                                subject generateTorque redefines generateTorque = vehicle_b::engine::generateTorque;\n",
    "                            }\n",
    "                            requirement drivePowerOuputRequirement :>> drivePowerOutputRequirement{\n",
    "                                port torqueOutPort redefines torqueOutPort=vehicle_b::engine::drivePwrPort;\n",
    "                            }\n",
    "                        } \n",
    "                    }\n",
    "                    part transmission:Transmission{\n",
    "                        attribute mass :> ISQ::mass=100@[kg];\n",
    "                        //conjugate notation ~\n",
    "                        port clutchPort:~DrivePwrPort;\n",
    "                        port shaftPort_a:ShaftPort_a;\n",
    "                        perform ActionTree::providePower::amplifyTorque;\n",
    "                    }\n",
    "                    part driveshaft:Driveshaft{\n",
    "                        attribute mass :> ISQ::mass=100@[kg];\n",
    "                        port shaftPort_b:ShaftPort_b;\n",
    "                        port shaftPort_c:ShaftPort_c;\n",
    "                        perform ActionTree::providePower::transferTorque;\n",
    "                    }\n",
    "                    part vehicleSoftware:VehicleSoftware{\n",
    "                        part vehicleController: VehicleController {\n",
    "                            port controlPort redefines controlPort;\n",
    "                            exhibit States::controllerStates redefines controllerStates{\n",
    "                                ref controller = vehicleController;\n",
    "                            }\n",
    "                        }\n",
    "                    }\n",
    "                    // parts in bodyAssy and interioer are marked as safety or security features\n",
    "                    part bodyAssy:BodyAssy{\n",
    "                        part body:Body{\n",
    "                            attribute :>> color = red;  \n",
    "                        }\n",
    "                        part bumper {@Safety{isMandatory = true;}}\n",
    "                        part keylessEntry {@Security;}\n",
    "                    }\n",
    "                    part interior {\n",
    "                        part alarm {@Security;}\n",
    "                        part seatBelt[2] {@Safety{isMandatory = true;}}\n",
    "                        part frontSeat[2];\n",
    "                        part driverAirBag {@Safety{isMandatory = false;}}\n",
    "                    }\n",
    "                    bind engine::fuelCmdPort=fuelCmdPort;\n",
    "                    \n",
    "                    //connect engine::drivePwrPort to transmission::clutchPort; \n",
    "                    /** the following interface replaces the above connection. Would like to reference the stream (obj flow)*/\n",
    "                    interface engineToTransmissionInterface:EngineToTransmissionInterface\n",
    "                        connect engine::drivePwrPort to transmission::clutchPort{\n",
    "                            ref generateToAmplify :> ActionTree::providePower::generateToAmplify;\n",
    "                        }\n",
    "                    \n",
    "                    //connect fuelTank::fuelOutPort to engine::fuelInPort;\n",
    "                    interface fuelInterface:FuelInterface\n",
    "                        connect fuelTank::fuelOutPort to engine::fuelInPort;\n",
    "                    \n",
    "                    connect vehicleSoftware::vehicleController::controlPort to engine::engineControlPort;\n",
    "                    connect transmission::shaftPort_a to driveshaft::shaftPort_b; \n",
    "                    connect driveshaft::shaftPort_c to rearAxleAssembly::shaftPort_d;\n",
    "                    bind rearAxleAssembly::rearWheel1::wheelToRoadPort=vehicleToRoadPort::wheelToRoadPort1;\n",
    "                    bind rearAxleAssembly::rearWheel2::wheelToRoadPort=vehicleToRoadPort::wheelToRoadPort2;\n",
    "                    \n",
    "                    // assert the vehicle features (e.g, mass, reliability) satisfy the requirements\n",
    "                    satisfy Requirements::vehicleSpecification by vehicle_b{\n",
    "                        requirement vehicleMassRequirement:>>vehicleMassRequirement{\n",
    "                            attribute redefines massActual=vehicle_b::mass;\n",
    "                        }\n",
    "                    }\n",
    "                }\n",
    "            }\n",
    "            package ActionTree{\n",
    "                action providePower:ProvidePower{\n",
    "                    in item fuelCmd:FuelCmd redefines pwrCmd;\n",
    "                    out wheelToRoadTorque redefines wheelToRoadTorque [2] = distributeTorque::wheelToRoadTorque;\n",
    "                    // No successions (control flows) between these actions, because the\n",
    "                    // flows between them are continuous streams.\n",
    "                    action generateTorque:GenerateTorque {\n",
    "                        in item = providePower::fuelCmd;\n",
    "                        out engineTorque redefines engineTorque;\n",
    "                    }\n",
    "                    action amplifyTorque:AmplifyTorque {\n",
    "                        in engineTorque redefines engineTorque;\n",
    "                        out transmissionTorque redefines transmissionTorque;\n",
    "                    }\n",
    "                    action transferTorque:TransferTorque {\n",
    "                        // This is a shorthand for the stream commented out below.\n",
    "                        in transmissionTorque redefines transmissionTorque;\n",
    "                        out driveshaftTorque redefines driveshaftTorque;\n",
    "                    }\n",
    "                    action distributeTorque:DistributeTorque{\n",
    "                        in driveshaftTorque redefines driveshaftTorque;\n",
    "                        out wheelToRoadTorque redefines wheelToRoadTorque [2];\n",
    "                    }\n",
    "\n",
    "                    stream generateToAmplify from generateTorque::engineTorque to amplifyTorque::engineTorque;\n",
    "                    //stream from generateTorque::engineTorque to amplifyTorque::engineTorque;\n",
    "                    stream amplifyTorque::transmissionTorque to transferTorque::transmissionTorque;\n",
    "                    stream transferTorque::driveshaftTorque to distributeTorque::driveshaftTorque;\n",
    "                }\n",
    "                action performSelfTest: PerformSelfTest;\n",
    "                action applyParkingBrake: ApplyParkingBrake;\n",
    "                action senseTemperature: SenseTemperature;\n",
    "            }                \n",
    "            package States{\n",
    "                //the following uses a single concept of event for signal, change, and time event\n",
    "                //the time event will be replaced by when eventname\n",
    "                state vehicleStates: VehicleStates {\n",
    "                    ref vehicle : Vehicle;\n",
    "                    ref controller : VehicleController;\n",
    "\n",
    "                    state operatingStates {\n",
    "                        entry action initial;\n",
    "\n",
    "                        state off;                    \n",
    "                        state starting;                    \n",
    "                        state on {\n",
    "                            entry vehicle::performSelfTest;\n",
    "                            // was vehicle::providePower;\n",
    "                            do vehicle::providePower;\n",
    "                            exit vehicle::applyParkingBrake;\n",
    "                            constraint {vehicle::electricalPower<=500@[W]}\n",
    "                        }\n",
    "\n",
    "                        transition initial then off;\n",
    "\n",
    "                        transition 'off-starting'\n",
    "                            first off\n",
    "                            accept VehicleStartSignal\n",
    "                            if vehicle::brakePedalDepressed\n",
    "                            do send StartSignal() to controller\n",
    "                            then starting;\n",
    "\n",
    "                        transition 'starting-on'\n",
    "                            first starting\n",
    "                            accept VehicleOnSignal\n",
    "                            then on;\n",
    "                        \n",
    "                        transition 'on-off'\n",
    "                            first on\n",
    "                            accept VehicleOffSignal\n",
    "                            do send OffSignal() to controller\n",
    "                            then off;\n",
    "                    }\n",
    "\n",
    "                    state healthStates {\n",
    "                        entry action initial;\n",
    "                        do vehicle::senseTemperature (out temp);\n",
    "\n",
    "                        state normal;\n",
    "                        state maintenance;\n",
    "                        state degraded;                    \n",
    "\n",
    "                        transition initial then normal;\n",
    "\n",
    "                        transition 'normal-maintenance'\n",
    "                            first normal\n",
    "                            accept 'at(vehicle::maintenanceTime)'\n",
    "                            then maintenance;\n",
    "\n",
    "                        transition 'normal-degraded'\n",
    "                            first normal\n",
    "                            accept 'when(temp>vehicle::Tmax)' \n",
    "                            do send OverTemp() to controller\n",
    "                            then degraded;\n",
    "\n",
    "                        transition 'maintenance-normal'\n",
    "                            first maintenance\n",
    "                            accept ReturnToNormal\n",
    "                            then normal;\n",
    "\n",
    "                        transition 'degraded-normal'\n",
    "                            first degraded\n",
    "                            accept ReturnToNormal\n",
    "                            then normal;\n",
    "                    }\n",
    "            }\n",
    "                state controllerStates: ControllerStates {\n",
    "                    //ref controller : VehicleController;\n",
    "                    state operatingStates {\n",
    "                        entry action initial; \n",
    "                        state off;\n",
    "                        state on;\n",
    "                        \n",
    "                        transition initial then off;\n",
    "                        transition 'off-on'\n",
    "                            first off\n",
    "                            //why not a usage of StartSignal?\n",
    "                            accept StartSignal\n",
    "                            then on;\n",
    "                        transition 'on-off'\n",
    "                            first on\n",
    "                            accept OffSignal\n",
    "                            then off;\n",
    "                    }\n",
    "                }  \n",
    "            }\n",
    "            package Requirements{\n",
    "                item marketSurvey;\n",
    "                dependency from vehicleSpecification to marketSurvey;\n",
    "                \n",
    "                requirement vehicleSpecification{\n",
    "                    subject vehicle:Vehicle;\n",
    "                    requirement id '1' vehicleMassRequirement: MassRequirement {\n",
    "                        doc /* The total mass of a vehicle shall be less than or equal to the required mass. */\n",
    "                        /* Assume total mass includes a full tank of gas*/\n",
    "                        attribute redefines massRequired=2000 @[kg];\n",
    "                        attribute redefines massActual = vehicle::mass;\n",
    "                    }\n",
    "                    requirement id '2' vehicleFuelEconomyRequirements{\n",
    "                        doc /* fuel economy requirements group */\n",
    "                        attribute assumedCargoMass:>ISQ::mass;\n",
    "                        requirement id '2_1' cityFuelEconomyRequirement:FuelEconomyRequirement{\n",
    "                            redefines requiredFuelEconomy= 10 @[km / L];\n",
    "                            assume constraint {assumedCargoMass>=500 @[kg]}\n",
    "                        }\n",
    "                        requirement id ' 2_2' highwayFuelEconomyRequirement:FuelEconomyRequirement{\n",
    "                            redefines requiredFuelEconomy= 12.75 @[km / L];\n",
    "                            attribute assumedCargoMass:>ISQ::mass;\n",
    "                            assume constraint {assumedCargoMass>=500 @[kg]}\n",
    "                        }\n",
    "                    }\n",
    "                }\n",
    "                requirement engineSpecification {\n",
    "                    subject engine1:Engine;\n",
    "                    requirement torqueGenerationRequirement : TorqueGenerationRequirement{\n",
    "                        subject generateTorque = engine1::generateTorque;\n",
    "                    }\n",
    "\n",
    "                    requirement drivePowerOutputRequirement : DrivePowerOutputRequirement{\n",
    "                        port torqueOutPort{\n",
    "                            out torque:Torque;\n",
    "                        }\n",
    "                    }\n",
    "                }\n",
    "            }\n",
    "        }\n",
    "        // the following shows the vehicle decomposition using part definitions similar to SysML v1\n",
    "        package VehicleConfiguration_B{\n",
    "            package VehicleDecomposition{\n",
    "                part def Vehicle_B:>Vehicle{\n",
    "                    port fuelCmdPort: FuelCmdPort redefines pwrCmdPort {\n",
    "                        in item redefines fuelCmd;\n",
    "                    }\n",
    "                    port vehicleToRoadPort redefines vehicleToRoadPort{\n",
    "                        port wheelToRoadPort1:WheelToRoadPort;\n",
    "                        port wheelToRoadPort2:WheelToRoadPort;\n",
    "                    }\n",
    "                    part fuelTank:FuelTank_B{\n",
    "                        port fuelOutPort redefines fuelOutPort{\n",
    "                            out item redefines fuel;\n",
    "                        }\n",
    "                    }\n",
    "                    part frontAxleAssy:FrontAxleAssy_B;\n",
    "                    part rearAxleAssy:RearAxleAssy_B;\n",
    "                    part engine:Engine_B{\n",
    "                        port engineControlPort:>> engineControlPort;\n",
    "                        port fuelInPort:>> fuelInPort{\n",
    "                            in item fuel redefines fuel;\n",
    "                        }\n",
    "                        port fuelCmdPort:>> fuelCmdPort {\n",
    "                            in item redefines fuelCmd;\n",
    "                        }\n",
    "                        port drivePwrPort:>> drivePwrPort {\n",
    "                            out redefines engineTorque;\n",
    "                        }                    \n",
    "                    }\n",
    "                    part transmission:Transmission_B{\n",
    "                        port clutchPort:>>clutchPort;\n",
    "                        port shaftPort_a:>>shaftPort_a;\n",
    "                    }\n",
    "                    part driveshaft:Driveshaft_B{\n",
    "                        port shaftPort_b:>>shaftPort_b;\n",
    "                        port shaftPort_c:>>shaftPort_c;\n",
    "                    }\n",
    "                    part vehicleSoftware:VehicleSoftware_B;\n",
    "                    part bodyAssy:BodyAssy_B;\n",
    "                    part interior{\n",
    "                        part alarm {@Security;}\n",
    "                        part seatBelt[2] {@Safety{isMandatory = true;}}\n",
    "                        part frontSeat[2];\n",
    "                        part driverAirBag {@Safety{isMandatory = false;}}\n",
    "                    }\n",
    "                    bind engine::fuelCmdPort=fuelCmdPort;\n",
    "                    connect fuelTank::fuelOutPort to engine::fuelInPort;\n",
    "                    connect engine::drivePwrPort to transmission::clutchPort;\n",
    "                    connect transmission::shaftPort_a to driveshaft::shaftPort_b; \n",
    "                }\n",
    "                part def FuelTank_B:>FuelTank;\n",
    "                part def FrontAxleAssy_B:>AxleAssembly{\n",
    "                    part frontWheels:Wheel_B[2];\n",
    "                    part frontAxle:FrontAxle_B;\n",
    "                }\n",
    "                part def RearAxleAssy_B:>AxleAssembly{\n",
    "                    part rearWheel1:Wheel_B;\n",
    "                    part rearWheel2:Wheel_B;\n",
    "                    part rearAxle{\n",
    "                        part leftHalfAxle:HalfAxle_B;\n",
    "                        part rightHalfAxle:HalfAxle_B;\n",
    "                    }\n",
    "                }\n",
    "                part def FrontAxle_B:>FrontAxle;\n",
    "                part def HalfAxle_B:>HalfAxle;\n",
    "                part def Differential_B:>Differential;\n",
    "                part def Wheel_B:>Wheel;\n",
    "                part def Engine_B:>Engine{\n",
    "                    port engineControlPort:>> engineControlPort;\n",
    "                    port fuelInPort:>> fuelInPort{\n",
    "                        in item fuel redefines fuel;\n",
    "                    }\n",
    "                    port fuelCmdPort:>> fuelCmdPort {\n",
    "                        in item redefines fuelCmd;\n",
    "                    }\n",
    "                    port drivePwrPort:>> drivePwrPort {\n",
    "                        out redefines engineTorque;\n",
    "                    }\n",
    "                    part cylinders:Cylinder_B[4..6];\n",
    "                }\n",
    "                part def Cylinder_B:>Cylinder;\n",
    "                part def Transmission_B:>Transmission{\n",
    "                    port clutchPort:~DrivePwrPort;\n",
    "                    port shaftPort_a:ShaftPort_a;\n",
    "                }\n",
    "                part def Driveshaft_B:>Driveshaft{\n",
    "                    port shaftPort_b:ShaftPort_b;\n",
    "                    port shaftPort_c:ShaftPort_c;\n",
    "                }\n",
    "                part def VehicleSoftware_B:>VehicleSoftware{\n",
    "                    part vehicleController:VehicleController_B;\n",
    "                }\n",
    "                part def VehicleController_B:>VehicleController{\n",
    "                    port controlPort redefines controlPort;\n",
    "                }\n",
    "                part def BodyAssy_B:>BodyAssy{\n",
    "                    part body:Body_B;\n",
    "                    part bumper;\n",
    "                    part keylessEntry;\n",
    "                }\n",
    "                part def Body_B:>Body;\n",
    "            }\n",
    "        }\n",
    "    }\n",
    "    package VehicleAnalysis{\n",
    "        // recursive import uses double asterist **\n",
    "        import VehicleConfigurations::VehicleConfiguration_b::**;\n",
    "        package FuelEconomyAnalysisModel{\n",
    "            //import NonScalarValues::SampledFunctionValue;\n",
    "            import Collections::SampledFunction;\n",
    "              \n",
    "            /*\n",
    "            This analysis model was provided by Hisashi Miyashita on January 27, 2021\n",
    "              We use the simplest fuel consumption analysis model introduced in:\n",
    "              Akcelik, R. \"Fuel efficiency and other objectives in traffic system management.\" Traffic Engineering and Control 22.2 (1981): 54-65. \n",
    "\n",
    "              Fuel consumption rate f can be decomposed to:\n",
    "              f = f_a + f_b * tpd_avg,\n",
    "              where tpd_avg is average interrupted travel time per unit distance, actually the inverse of the average velocity [t/km];\n",
    "              f_a is the best fuel consumption per distance; and\n",
    "              f_b is the additional fuel consumption per distance and average travel time, which can be regarded as the idling fuel consumption.\n",
    "              Approximately, it is proportional to engine displacement and it ranges from 0.5 to 0.6 [l/hour/litre of engine displacement]\n",
    "              according to:\n",
    "              Review of the Incidence, Energy Use and Costs of Passenger Vehicle Idling; Gordon W. Taylor, P.Eng. Prepared for the Office of Energy Efficiency, Natural Resources Canada, 2003\n",
    "\n",
    "              We assume f_a can be approximated to\n",
    "              fuel_consumption / distance = BSFC * SGG * required_power_avg * tpd_avg,\n",
    "              where required_power_avg is the required power, and it can be approximately derived from:\n",
    "                  total_energy == P_req * tpd_avg * distance == 1/2 * mass / tpd_avg^2\n",
    "              This part is computed with BestFuelConsumptionPerDistance calc def.\n",
    "\n",
    "              BSFC means Brake-Specific Fuel Consumption, defined as gram/power.  SGG is the specific gravity of gasoline.\n",
    "              The high octane gasoline is about 0.76[l/kg].\n",
    "            */\n",
    "            \n",
    "            attribute def Scenario :> SampledFunction {\n",
    "                attribute wayPoint[1..*] {\n",
    "                    attribute elapseTime[1] :> ISQ::time;\n",
    "                    attribute position[1] :> ISQ::distance;\n",
    "                }\n",
    "            }\n",
    "\n",
    "            //calc def FuelConsumption (bestFuelConsumption: Real, idlingFuelConsumption: Real, tpd_avg: Real) : KilometersPerLitre {\n",
    "            calc def FuelConsumption (bestFuelConsumption: Real, idlingFuelConsumption: Real, tpd_avg:>timePerDistance) :> distancePerVolume {\n",
    "                attribute f = bestFuelConsumption + idlingFuelConsumption * tpd_avg;\n",
    "                1/f\n",
    "            }\n",
    "            calc def AverageTravelTimePerDistance(scenario: Scenario) tpd_avg:>timePerDistance;\n",
    "            calc def TraveledDistance(scenario: Scenario) distance:> length;\n",
    "            calc def IdlingFuelConsumptionPerTime(engine: Engine) f_a : Real {\n",
    "                attribute idlingFuelConsumptionPerDisplacement: Real = 0.5;\n",
    "                engine::displacement * idlingFuelConsumptionPerDisplacement\n",
    "            }\n",
    "\n",
    "            attribute specificGravityOfGasoline: Real = 0.76;\n",
    "            calc def BestFuelConsumptionPerDistance(mass: MassValue, bsfc: Real, tpd_avg:> timePerDistance, distance:>length) f_b : Real {\n",
    "                attribute required_power_avg:> power;\n",
    "                constraint {\n",
    "                    required_power_avg == 1/2 * mass * tpd_avg **(-3) / distance\n",
    "                }\n",
    "                bsfc * specificGravityOfGasoline * required_power_avg * tpd_avg\n",
    "            }\n",
    "\n",
    "            calc def ComputeBSFC(engine: Engine): Real;\n",
    "            \n",
    "            analysis fuelEconomyAnalysis  {\n",
    "                \n",
    "                // metadata defined in Annotation Definitions\n",
    "                metadata ToolExecution {\n",
    "                    toolName = \"ModelCenter\";\n",
    "                    uri = \"aserv://localhost/Vehicle/Equation1\";\n",
    "                }             \n",
    "                \n",
    "                in attribute scenario: Scenario;\n",
    "                subject = vehicle_b;\n",
    "                \n",
    "                objective fuelEconomyAnalysisObjective {\n",
    "                    doc /*the objective of this analysis is to determine whether the vehicle design configuration can \n",
    "                    satisfy the fuel economy requirements*/\n",
    "                    require vehicleSpecification::vehicleFuelEconomyRequirements;\n",
    "                }\n",
    "                /* this is the longhand for a calc\n",
    "                calc calc1:TraveledDistance(in=scenario) result;\n",
    "                attribute distance=calc1::result;\n",
    "                */\n",
    "                \n",
    "                // specify the engine_b::displacement\n",
    "                \n",
    "                attribute distance = TraveledDistance(scenario);\n",
    "                attribute tpd_avg = AverageTravelTimePerDistance(scenario);\n",
    "                attribute bsfc = ComputeBSFC(vehicle_b::engine);\n",
    "                attribute f_a = BestFuelConsumptionPerDistance(vehicle_b::mass, bsfc, tpd_avg, distance);\n",
    "                attribute f_b = IdlingFuelConsumptionPerTime(vehicle_b::engine);\n",
    "\n",
    "                //return attribute calculatedFuelEconomy:KilometersPerLitre=FuelConsumption(f_a, f_b, tpd_avg) ;\n",
    "                return attribute calculatedFuelEconomy:>distancePerVolume=FuelConsumption(f_a, f_b, tpd_avg);\n",
    "            }\n",
    "        }\n",
    "        package ElectricalPowerAnalysis{\n",
    "        }\n",
    "        package ReliabilityAnalyis{\n",
    "        }\n",
    "        package VehicleTradeOffAnalysis{\n",
    "            // the following provides the rationale that ould be contained in the vehicle configuration with the selected engine\n",
    "            part engine4cyl;\n",
    "            // the following should be the explained by relationship that refers to the rationale for selecting the engine4cyl\n",
    "            dependency from engine4cyl to EngineSelectionRationale;\n",
    "            comment EngineSelectionRationale about engineTradeOffAnalysis \n",
    "            /*this is the rationale that refers to the engineTradeOffAnalysis*/\n",
    "            \n",
    "            import TradeStudies::*;\n",
    "            //objective function with criterion engine mass, engine power, and engine cost\n",
    "            calc def EngineEvaluation (engineMass:>ISQ::mass, enginePower:>ISQ::power, engineFuelEfficiency:Real,engineCost:Real) eval:Real;\n",
    "            calc def EngineEvaluation_4cyl (engineMass:>ISQ::mass, enginePower:>ISQ::power, engineFuelEfficiency:Real,engineCost:Real) eval:Real;\n",
    "            calc def EngineEvaluation_6cyl (engineMass:>ISQ::mass, enginePower:>ISQ::power, engineFuelEfficiency:Real,engineCost:Real) eval:Real;\n",
    "            analysis engineTradeOffAnalysis:TradeStudy{\n",
    "                subject vehicleAlternatives[2]:>vehicle_b;   \n",
    "                \n",
    "                part vehicle_b_engine4cyl:>vehicleAlternatives{   \n",
    "                    part engine redefines engine{\n",
    "                        part cylinders :>> cylinders [4];\n",
    "                        attribute mass redefines mass=180 @[kg];\n",
    "                        attribute peakHorsePower redefines peakHorsePower = 180;\n",
    "                        attribute fuelEfficiency redefines fuelEfficiency=.6;\n",
    "                        attribute cost redefines cost = 1000;                     \n",
    "                    }\n",
    "                }\n",
    "                part vehicle_b_engine6cyl:>vehicleAlternatives{   \n",
    "                    part engine redefines engine{  \n",
    "                        part cylinders redefines cylinders [6];\n",
    "                        attribute mass redefines mass=220;\n",
    "                        attribute peakHorsePower redefines peakHorsePower = 220;\n",
    "                        attribute fuelEfficiency redefines fuelEfficiency=.5;\n",
    "                        attribute cost redefines cost = 1500;\n",
    "                    }\n",
    "                }\n",
    "                \n",
    "                // the objective includes the objectiveFunction to select the maximum\n",
    "                objective :MaximizeObjective;\n",
    "                    /*Select vehicle alternative with the engine whose evaluation function returns the max value*/\n",
    "                \n",
    "                // Use the following if the evaluation function is the same for each alternative\n",
    "                /*\n",
    "                calc :>> objectiveFunction {\n",
    "                    in part vehicle:>vehicle_b;\n",
    "                    return attribute eval:Real=EngineEvaluation (vehicle::engine::mass, vehicle::engine::peakHorsePower, vehicle::engine::fuelEfficiency, vehicle::engine::cost);               \n",
    "                }\n",
    "                */\n",
    "                \n",
    "                // Use the following if the evaluation function is different for each alternative\n",
    "                calc :> objectiveFunction{\n",
    "                    in part vehicle:>vehicle_b_engine4cyl;\n",
    "                    return attribute eval:Real=EngineEvaluation_4cyl (vehicle::engine::mass, vehicle::engine::peakHorsePower, vehicle::engine::fuelEfficiency, vehicle::engine::cost); \n",
    "                }\n",
    "                calc :> objectiveFunction{\n",
    "                    in part vehicle:>vehicle_b_engine6cyl;\n",
    "                    return attribute eval:Real=EngineEvaluation_6cyl (vehicle::engine::mass, vehicle::engine::peakHorsePower, vehicle::engine::fuelEfficiency, vehicle::engine::cost); \n",
    "                }                                                  \n",
    "                return part selectedVehicle:>vehicle_b;\n",
    "            }\n",
    "        }\n",
    "    }\n",
    "    package VehicleVerification{\n",
    "        import VehicleConfigurations::VehicleConfiguration_b::**;\n",
    "        import VerificationCaseDefinitions::*;\n",
    "        import VerificationCases1::*;\n",
    "        // the following is a model library which contains VerfictKind\n",
    "        import VerificationCases::*;\n",
    "        package VerificationCaseDefinitions{\n",
    "            verification def MassTest;\n",
    "            verification def AccelerationTest;\n",
    "            verification def ReliabilityTest;\n",
    "        }\n",
    "        package VerificationCases1{\n",
    "            verification massTests:MassTest {\n",
    "                subject = vehicle_b;\n",
    "                objective {\n",
    "                    verify vehicleSpecification::vehicleMassRequirement{\n",
    "                        redefines massActual=weighVehicle::massMeasured;\n",
    "                    }\n",
    "                }\n",
    "                action weighVehicle (\n",
    "                    out massMeasured:>ISQ::mass);\n",
    "                //return :>> verdict = PassIf(vehicleSpecification::vehicleMassRequirement(vehicle_b));\n",
    "                // the following statement is not intended to be part of the model, but just confirm VerdictKind\n",
    "                return :>> verdict:VerdictKind = pass;\n",
    "            }\n",
    "        }\n",
    "        package VerificationSystem{\n",
    "            part massVerificationSystem{\n",
    "                perform massTests;\n",
    "                part scale{\n",
    "                    perform massTests::weighVehicle;\n",
    "                }\n",
    "                part operator;\n",
    "            }\n",
    "        }\n",
    "    }\n",
    "    package VehicleIndividuals{\n",
    "        individual a:SpatialTemporalReference_1{\n",
    "            timeslice t0_t2:VehicleRoadContext_1{\n",
    "                snapshot start redefines start{:>>time=0;}\n",
    "                snapshot done redefines done {:>>time=2;}\n",
    "            }\n",
    "            snapshot t0:VehicleRoadContext_1{\n",
    "                attribute t0 redefines time=0;\n",
    "                snapshot t0_r:Road_1{\n",
    "                    :>>Road::incline =0;\n",
    "                    :>>Road::friction=.1;\n",
    "                }\n",
    "                snapshot t0_v:Vehicle_1{\n",
    "                    :>>Vehicle::position=0;\n",
    "                    :>>Vehicle::velocity=0;\n",
    "                    :>>Vehicle::acceleration=1.96;\n",
    "                    // .2 g where 1 g = 9.8 meters/sec^2\n",
    "                    // how do you represent state=on;\n",
    "                    snapshot t0_fa:FrontAxleAssembly_1{\n",
    "                        snapshot t0_leftFront:Wheel_1;\n",
    "                        snapshot t0_rightFront:Wheel_2;\n",
    "                    }\n",
    "                }\n",
    "            }\n",
    "            snapshot t1:VehicleRoadContext_1{\n",
    "                attribute t1 redefines time=1;\n",
    "                snapshot t1_r:Road_1{\n",
    "                    :>>Road::incline =0;\n",
    "                    :>>Road::friction=.1;\n",
    "                }\n",
    "                snapshot t1_v:Vehicle_1{\n",
    "                    :>>Vehicle::position=.98;\n",
    "                    :>>Vehicle::velocity=1.96;\n",
    "                    :>>Vehicle::acceleration=1.96;\n",
    "                    // .2 g where 1 g = 9.8 meters/sec^2\n",
    "                    // how do you represent state=on;\n",
    "                    snapshot t1_fa:FrontAxleAssembly_1{\n",
    "                        snapshot t1_leftFront:Wheel_1;\n",
    "                        snapshot t1_rightFront:Wheel_2;\n",
    "                    }\n",
    "                }\n",
    "            }\n",
    "            snapshot t2:VehicleRoadContext_1{\n",
    "                attribute t2 redefines time=2;\n",
    "                snapshot t2_r:Road_1{\n",
    "                    :>>Road::incline =0;\n",
    "                    :>>Road::friction=.1;\n",
    "                }\n",
    "                snapshot t2_v:Vehicle_1{\n",
    "                    :>>Vehicle::position=3.92;\n",
    "                    :>>Vehicle::velocity=3.92;\n",
    "                    :>>Vehicle::acceleration=1.96;\n",
    "                    // .2 g where 1 g = 9.8 meters/sec^2\n",
    "                    // how do you represent state=on;\n",
    "                    snapshot t2_fa:FrontAxleAssembly_1{\n",
    "                        snapshot t2_leftFront:Wheel_1;\n",
    "                        snapshot t2_rightFront:Wheel_2;\n",
    "                    }\n",
    "                }\n",
    "            }\n",
    "        }\n",
    "    }\n",
    "    package MissionContext{\n",
    "        // Very crude example to illustrate how a use case can be defined\n",
    "        /* Define mission context with mission use cases for vehicle_b */\n",
    "        import VehicleConfigurations::VehicleConfiguration_b::**;\n",
    "        //import VehicleConfigurations::VehicleConfiguration_b::PartsTree::*;\n",
    "        //import VehicleConfigurations::VehicleConfiguration_b::ActionTree::*;\n",
    "        import TransportPassengerScenario::*;\n",
    "        package ContextDefinitions{\n",
    "            part def MissionContext;\n",
    "            part def Driver;\n",
    "            part def Passenger;\n",
    "            // replace action def with use case def where vehicle_b is subject and objective is defined\n",
    "            action def TransportPassenger;\n",
    "        }\n",
    "        package TransportPassengerScenario{\n",
    "            // replace action with use case\n",
    "            action transportPassenger{\n",
    "                action unlockDoor_1;\n",
    "                then action openDoor_1;\n",
    "                then action enterVehicle_1;\n",
    "                then action closeDoor_1;\n",
    "                then accept VehicleOnSignal;\n",
    "                then fork;\n",
    "                    then action driveVehicleToDestination;\n",
    "                    then action providePower;\n",
    "                then action openDoor_2;\n",
    "                then action exitVehicle_2;\n",
    "                then action closeDoor_2;\n",
    "                then action lockDoor_2;\n",
    "            }\n",
    "        }\n",
    "        part missionContext:ContextDefinitions::MissionContext{\n",
    "            perform transportPassenger;\n",
    "            part driver:ContextDefinitions::Driver{\n",
    "                perform transportPassenger::unlockDoor_1;\n",
    "                perform transportPassenger::lockDoor_2;\n",
    "            }\n",
    "            part passenger:ContextDefinitions::Passenger{\n",
    "                perform transportPassenger::openDoor_1;\n",
    "                perform transportPassenger::enterVehicle_1; \n",
    "                perform transportPassenger::closeDoor_1;\n",
    "                perform transportPassenger::openDoor_2;\n",
    "                perform transportPassenger::exitVehicle_2;\n",
    "                perform transportPassenger::closeDoor_2;\n",
    "            }\n",
    "            part vehicle_b_1:>vehicle_b {\n",
    "                perform transportPassenger::providePower redefines providePower;\n",
    "            }\n",
    "        }\n",
    "    }\n",
    "    package VehicleSuperSetModel{\n",
    "        import VehicleConfigurations::VehicleConfiguration_a::**;\n",
    "        //import VehicleConfigurations::VehicleConfiguration_a::PartsTree::*;\n",
    "        //import VehicleConfigurations::VehicleConfiguration_a::ActionTree::*;\n",
    "        // make vehicle_b a specific vehicle configuration from this product family instead of a subset of vehicle_a\n",
    "        // this requires that we add all of vehicle_b into the superset model\n",
    "        package VariationPointDefinitions {\n",
    "            variation part def TransmissionChoices:>Transmission {\n",
    "                variant part transmissionAutomatic:TransmissionAutomatic;\n",
    "                variant part transmissionManual:TransmissionManual;\n",
    "            }\n",
    "        }\n",
    "        package VehiclePartsTree{\n",
    "            import VariationPointDefinitions::*;\n",
    "            abstract part vehicleFamily:>vehicle_a{\n",
    "                // variation with nested variation\n",
    "                variation part engine:Engine{\n",
    "                    variant part engine4Cyl:Engine4Cyl;\n",
    "                    variant part engine6Cyl:Engine6Cyl{\n",
    "                        part cylinder:Cylinder [6]{\n",
    "                            variation attribute diameter:LengthValue{\n",
    "                                variant attribute smallDiameter:LengthValue;\n",
    "                                variant attribute largeDiagmeter:LengthValue;\n",
    "                            }\n",
    "                        }\n",
    "                    }\n",
    "                }\n",
    "                // varaition point based on variation of part definition\n",
    "                variation part transmissionChoices:TransmissionChoices;\n",
    "                // optional variation point\n",
    "                variation part sunroof:Sunroof;\n",
    "                // selection constraint\n",
    "                assert constraint {\n",
    "                    (engine==engine::engine4Cyl & transmissionChoices==TransmissionChoices::transmissionManual) ^\n",
    "                    (engine==engine::engine6Cyl & transmissionChoices==TransmissionChoices::transmissionAutomatic)\n",
    "                }\n",
    "            }\n",
    "        }\n",
    "    }\n",
    "    package SafetyandSecurityGroups {\n",
    "        import VehicleConfigurations::VehicleConfiguration_b::PartsTree::*;\n",
    "        package SafetyGroup {\n",
    "            /* Parts that contribute to safety. */\t\t\n",
    "            import vehicle_b::**;\n",
    "            filter @Safety;\n",
    "        }\n",
    "        package SecurityGroup {\n",
    "            /* Parts that contribute to security. */\t\t\n",
    "            import vehicle_b::**;\n",
    "            filter @Security;\n",
    "        }\n",
    "        package SafetyandSecurityGroup {\n",
    "            /* Parts that contribute to safety OR security. */\t\t \n",
    "            import vehicle_b::**;\n",
    "            filter @Safety || @Security;\n",
    "        }\n",
    "        package MandatorySafetyGroup {\n",
    "            /* Parts that contribute to safety AND are mandatory. */\n",
    "            import vehicle_b::**;\n",
    "            filter @Safety && Safety::isMandatory;\n",
    "        }\n",
    "    }\n",
    "    package Views_Viewpoints{\n",
    "        package ViewpointDefinitions{\n",
    "            viewpoint def StructureViewpoint;\n",
    "            viewpoint def BehaviorViewpoint;\n",
    "        }\n",
    "        package RenderingDefinitions{\n",
    "            rendering def Table;\n",
    "        }\n",
    "        package ViewDefinitions{\n",
    "            view def TreeView;\n",
    "            view def NestedView; \n",
    "            view def RelationshipView;\n",
    "            view def TableView;\n",
    "            view def PartsTree:>TreeView {\n",
    "                // include query expression\n",
    "                filter @Safety;\n",
    "                view attributes[*]{\n",
    "                }\n",
    "            view def PartsInterconnection:>NestedView;\n",
    "            }\n",
    "        }\n",
    "        package Views{\n",
    "            import ViewpointDefinitions::*;\n",
    "            import RenderingDefinitions::*;\n",
    "            import ViewDefinitions::*;\n",
    "            import VehicleConfigurations::VehicleConfiguration_b::*;\n",
    "            view vehiclePartsTree_Safety:PartsTree{\n",
    "                viewpoint treeDiagram:StructureViewpoint;\n",
    "                expose PartsTree::*;\n",
    "                rendering partsTreeTable:Table;\n",
    "            }\n",
    "        }\n",
    "    }\n",
    "}\n",
    "\n",
    "\n"
   ]
  },
  {
   "cell_type": "code",
   "execution_count": 2,
   "id": "8dffd35e",
   "metadata": {
    "execution": {
     "iopub.execute_input": "2021-04-20T07:22:29.440354Z",
     "iopub.status.busy": "2021-04-20T07:22:29.439760Z",
     "iopub.status.idle": "2021-04-20T07:22:29.459421Z",
     "shell.execute_reply": "2021-04-20T07:22:29.458439Z"
    }
   },
   "outputs": [
    {
     "data": {
      "text/plain": [
       "ERROR:Couldn't resolve reference to Element 'sfriedenthal_VehicleModel_1_simplified{'\n"
      ]
     },
     "execution_count": 2,
     "metadata": {},
     "output_type": "execute_result"
    }
   ],
   "source": [
    "%viz --style=\"COMPTREE\" --view=\"Default\" \"sfriedenthal_VehicleModel_1_simplified{\""
   ]
  },
  {
   "cell_type": "code",
   "execution_count": 3,
   "id": "27528400",
   "metadata": {
    "execution": {
     "iopub.execute_input": "2021-04-20T07:22:29.510173Z",
     "iopub.status.busy": "2021-04-20T07:22:29.508759Z",
     "iopub.status.idle": "2021-04-20T07:22:29.514017Z",
     "shell.execute_reply": "2021-04-20T07:22:29.514822Z"
    }
   },
   "outputs": [
    {
     "data": {
      "text/plain": [
       "ERROR:Couldn't resolve reference to Element 'sfriedenthal_VehicleModel_1_simplified{'\n"
      ]
     },
     "execution_count": 3,
     "metadata": {},
     "output_type": "execute_result"
    }
   ],
   "source": [
    "%viz --style=\"COMPTREE\" --view=\"Tree\" \"sfriedenthal_VehicleModel_1_simplified{\""
   ]
  },
  {
   "cell_type": "code",
   "execution_count": 4,
   "id": "c0381569",
   "metadata": {
    "execution": {
     "iopub.execute_input": "2021-04-20T07:22:29.570881Z",
     "iopub.status.busy": "2021-04-20T07:22:29.569617Z",
     "iopub.status.idle": "2021-04-20T07:22:29.572426Z",
     "shell.execute_reply": "2021-04-20T07:22:29.570243Z"
    }
   },
   "outputs": [
    {
     "data": {
      "text/plain": [
       "ERROR:Couldn't resolve reference to Element 'sfriedenthal_VehicleModel_1_simplified{'\n"
      ]
     },
     "execution_count": 4,
     "metadata": {},
     "output_type": "execute_result"
    }
   ],
   "source": [
    "%viz --style=\"COMPTREE\" --view=\"State\" \"sfriedenthal_VehicleModel_1_simplified{\""
   ]
  },
  {
   "cell_type": "code",
   "execution_count": 5,
   "id": "6baf709a",
   "metadata": {
    "execution": {
     "iopub.execute_input": "2021-04-20T07:22:29.625094Z",
     "iopub.status.busy": "2021-04-20T07:22:29.623836Z",
     "iopub.status.idle": "2021-04-20T07:22:29.629432Z",
     "shell.execute_reply": "2021-04-20T07:22:29.628441Z"
    }
   },
   "outputs": [
    {
     "data": {
      "text/plain": [
       "ERROR:Couldn't resolve reference to Element 'sfriedenthal_VehicleModel_1_simplified{'\n"
      ]
     },
     "execution_count": 5,
     "metadata": {},
     "output_type": "execute_result"
    }
   ],
   "source": [
    "%viz --style=\"COMPTREE\" --view=\"Interconnection\" \"sfriedenthal_VehicleModel_1_simplified{\""
   ]
  },
  {
   "cell_type": "code",
   "execution_count": 6,
   "id": "2cf9dc9c",
   "metadata": {
    "execution": {
     "iopub.execute_input": "2021-04-20T07:22:29.681639Z",
     "iopub.status.busy": "2021-04-20T07:22:29.679379Z",
     "iopub.status.idle": "2021-04-20T07:22:29.692332Z",
     "shell.execute_reply": "2021-04-20T07:22:29.691432Z"
    }
   },
   "outputs": [
    {
     "data": {
      "text/plain": [
       "ERROR:Couldn't resolve reference to Element 'sfriedenthal_VehicleModel_1_simplified{'\n"
      ]
     },
     "execution_count": 6,
     "metadata": {},
     "output_type": "execute_result"
    }
   ],
   "source": [
    "%viz --style=\"COMPTREE\" --view=\"Action\" \"sfriedenthal_VehicleModel_1_simplified{\""
   ]
  },
  {
   "cell_type": "code",
   "execution_count": 7,
   "id": "5d8a0bd4",
   "metadata": {
    "execution": {
     "iopub.execute_input": "2021-04-20T07:22:29.736257Z",
     "iopub.status.busy": "2021-04-20T07:22:29.735059Z",
     "iopub.status.idle": "2021-04-20T07:22:29.738316Z",
     "shell.execute_reply": "2021-04-20T07:22:29.737777Z"
    }
   },
   "outputs": [
    {
     "data": {
      "text/plain": [
       "ERROR:Couldn't resolve reference to Element 'sfriedenthal_VehicleModel_1_simplified{'\n"
      ]
     },
     "execution_count": 7,
     "metadata": {},
     "output_type": "execute_result"
    }
   ],
   "source": [
    "%viz --style=\"COMPTREE\" --view=\"Sequence\" \"sfriedenthal_VehicleModel_1_simplified{\""
   ]
  },
  {
   "cell_type": "code",
   "execution_count": 8,
   "id": "472484ac",
   "metadata": {
    "execution": {
     "iopub.execute_input": "2021-04-20T07:22:29.791075Z",
     "iopub.status.busy": "2021-04-20T07:22:29.788474Z",
     "iopub.status.idle": "2021-04-20T07:22:29.793608Z",
     "shell.execute_reply": "2021-04-20T07:22:29.792397Z"
    }
   },
   "outputs": [
    {
     "data": {
      "text/plain": [
       "ERROR:Couldn't resolve reference to Element 'sfriedenthal_VehicleModel_1_simplified{'\n"
      ]
     },
     "execution_count": 8,
     "metadata": {},
     "output_type": "execute_result"
    }
   ],
   "source": [
    "%viz --style=\"COMPTREE\" --view=\"MIXED\" \"sfriedenthal_VehicleModel_1_simplified{\""
   ]
  },
  {
   "cell_type": "code",
   "execution_count": 9,
   "id": "e27def5e",
   "metadata": {
    "execution": {
     "iopub.execute_input": "2021-04-20T07:22:29.842995Z",
     "iopub.status.busy": "2021-04-20T07:22:29.842382Z",
     "iopub.status.idle": "2021-04-20T07:22:29.844597Z",
     "shell.execute_reply": "2021-04-20T07:22:29.844277Z"
    }
   },
   "outputs": [
    {
     "data": {
      "text/plain": [
       "ERROR:Couldn't resolve reference to Element 'sfriedenthal_VehicleModel_1_simplified{'\n"
      ]
     },
     "execution_count": 9,
     "metadata": {},
     "output_type": "execute_result"
    }
   ],
   "source": [
    "%viz --style=\"POLYLINE\" --view=\"Default\" \"sfriedenthal_VehicleModel_1_simplified{\""
   ]
  },
  {
   "cell_type": "code",
   "execution_count": 10,
   "id": "0806ad4a",
   "metadata": {
    "execution": {
     "iopub.execute_input": "2021-04-20T07:22:29.896899Z",
     "iopub.status.busy": "2021-04-20T07:22:29.896167Z",
     "iopub.status.idle": "2021-04-20T07:22:29.898251Z",
     "shell.execute_reply": "2021-04-20T07:22:29.897310Z"
    }
   },
   "outputs": [
    {
     "data": {
      "text/plain": [
       "ERROR:Couldn't resolve reference to Element 'sfriedenthal_VehicleModel_1_simplified{'\n"
      ]
     },
     "execution_count": 10,
     "metadata": {},
     "output_type": "execute_result"
    }
   ],
   "source": [
    "%viz --style=\"POLYLINE\" --view=\"Tree\" \"sfriedenthal_VehicleModel_1_simplified{\""
   ]
  },
  {
   "cell_type": "code",
   "execution_count": 11,
   "id": "7b9ec3a7",
   "metadata": {
    "execution": {
     "iopub.execute_input": "2021-04-20T07:22:29.976554Z",
     "iopub.status.busy": "2021-04-20T07:22:29.970724Z",
     "iopub.status.idle": "2021-04-20T07:22:29.980070Z",
     "shell.execute_reply": "2021-04-20T07:22:29.977698Z"
    }
   },
   "outputs": [
    {
     "data": {
      "text/plain": [
       "ERROR:Couldn't resolve reference to Element 'sfriedenthal_VehicleModel_1_simplified{'\n"
      ]
     },
     "execution_count": 11,
     "metadata": {},
     "output_type": "execute_result"
    }
   ],
   "source": [
    "%viz --style=\"POLYLINE\" --view=\"State\" \"sfriedenthal_VehicleModel_1_simplified{\""
   ]
  },
  {
   "cell_type": "code",
   "execution_count": 12,
   "id": "32b7a19f",
   "metadata": {
    "execution": {
     "iopub.execute_input": "2021-04-20T07:22:30.021423Z",
     "iopub.status.busy": "2021-04-20T07:22:30.020504Z",
     "iopub.status.idle": "2021-04-20T07:22:30.024552Z",
     "shell.execute_reply": "2021-04-20T07:22:30.025092Z"
    }
   },
   "outputs": [
    {
     "data": {
      "text/plain": [
       "ERROR:Couldn't resolve reference to Element 'sfriedenthal_VehicleModel_1_simplified{'\n"
      ]
     },
     "execution_count": 12,
     "metadata": {},
     "output_type": "execute_result"
    }
   ],
   "source": [
    "%viz --style=\"POLYLINE\" --view=\"Interconnection\" \"sfriedenthal_VehicleModel_1_simplified{\""
   ]
  },
  {
   "cell_type": "code",
   "execution_count": 13,
   "id": "4efbd645",
   "metadata": {
    "execution": {
     "iopub.execute_input": "2021-04-20T07:22:30.074010Z",
     "iopub.status.busy": "2021-04-20T07:22:30.073393Z",
     "iopub.status.idle": "2021-04-20T07:22:30.075550Z",
     "shell.execute_reply": "2021-04-20T07:22:30.075190Z"
    }
   },
   "outputs": [
    {
     "data": {
      "text/plain": [
       "ERROR:Couldn't resolve reference to Element 'sfriedenthal_VehicleModel_1_simplified{'\n"
      ]
     },
     "execution_count": 13,
     "metadata": {},
     "output_type": "execute_result"
    }
   ],
   "source": [
    "%viz --style=\"POLYLINE\" --view=\"Action\" \"sfriedenthal_VehicleModel_1_simplified{\""
   ]
  },
  {
   "cell_type": "code",
   "execution_count": 14,
   "id": "deae7128",
   "metadata": {
    "execution": {
     "iopub.execute_input": "2021-04-20T07:22:30.127495Z",
     "iopub.status.busy": "2021-04-20T07:22:30.126086Z",
     "iopub.status.idle": "2021-04-20T07:22:30.129182Z",
     "shell.execute_reply": "2021-04-20T07:22:30.127975Z"
    }
   },
   "outputs": [
    {
     "data": {
      "text/plain": [
       "ERROR:Couldn't resolve reference to Element 'sfriedenthal_VehicleModel_1_simplified{'\n"
      ]
     },
     "execution_count": 14,
     "metadata": {},
     "output_type": "execute_result"
    }
   ],
   "source": [
    "%viz --style=\"POLYLINE\" --view=\"Sequence\" \"sfriedenthal_VehicleModel_1_simplified{\""
   ]
  },
  {
   "cell_type": "code",
   "execution_count": 15,
   "id": "24c7f379",
   "metadata": {
    "execution": {
     "iopub.execute_input": "2021-04-20T07:22:30.181067Z",
     "iopub.status.busy": "2021-04-20T07:22:30.179936Z",
     "iopub.status.idle": "2021-04-20T07:22:30.183448Z",
     "shell.execute_reply": "2021-04-20T07:22:30.181751Z"
    }
   },
   "outputs": [
    {
     "data": {
      "text/plain": [
       "ERROR:Couldn't resolve reference to Element 'sfriedenthal_VehicleModel_1_simplified{'\n"
      ]
     },
     "execution_count": 15,
     "metadata": {},
     "output_type": "execute_result"
    }
   ],
   "source": [
    "%viz --style=\"POLYLINE\" --view=\"MIXED\" \"sfriedenthal_VehicleModel_1_simplified{\""
   ]
  },
  {
   "cell_type": "code",
   "execution_count": 16,
   "id": "daed5b8b",
   "metadata": {
    "execution": {
     "iopub.execute_input": "2021-04-20T07:22:30.233421Z",
     "iopub.status.busy": "2021-04-20T07:22:30.232819Z",
     "iopub.status.idle": "2021-04-20T07:22:30.234878Z",
     "shell.execute_reply": "2021-04-20T07:22:30.233780Z"
    }
   },
   "outputs": [
    {
     "data": {
      "text/plain": [
       "ERROR:Couldn't resolve reference to Element 'sfriedenthal_VehicleModel_1_simplified{'\n"
      ]
     },
     "execution_count": 16,
     "metadata": {},
     "output_type": "execute_result"
    }
   ],
   "source": [
    "%viz --style=\"LR\" --view=\"Default\" \"sfriedenthal_VehicleModel_1_simplified{\""
   ]
  },
  {
   "cell_type": "code",
   "execution_count": 17,
   "id": "f38a8c51",
   "metadata": {
    "execution": {
     "iopub.execute_input": "2021-04-20T07:22:30.287344Z",
     "iopub.status.busy": "2021-04-20T07:22:30.286445Z",
     "iopub.status.idle": "2021-04-20T07:22:30.289679Z",
     "shell.execute_reply": "2021-04-20T07:22:30.289204Z"
    }
   },
   "outputs": [
    {
     "data": {
      "text/plain": [
       "ERROR:Couldn't resolve reference to Element 'sfriedenthal_VehicleModel_1_simplified{'\n"
      ]
     },
     "execution_count": 17,
     "metadata": {},
     "output_type": "execute_result"
    }
   ],
   "source": [
    "%viz --style=\"LR\" --view=\"Tree\" \"sfriedenthal_VehicleModel_1_simplified{\""
   ]
  },
  {
   "cell_type": "code",
   "execution_count": 18,
   "id": "986a1394",
   "metadata": {
    "execution": {
     "iopub.execute_input": "2021-04-20T07:22:30.340319Z",
     "iopub.status.busy": "2021-04-20T07:22:30.339469Z",
     "iopub.status.idle": "2021-04-20T07:22:30.342006Z",
     "shell.execute_reply": "2021-04-20T07:22:30.341605Z"
    }
   },
   "outputs": [
    {
     "data": {
      "text/plain": [
       "ERROR:Couldn't resolve reference to Element 'sfriedenthal_VehicleModel_1_simplified{'\n"
      ]
     },
     "execution_count": 18,
     "metadata": {},
     "output_type": "execute_result"
    }
   ],
   "source": [
    "%viz --style=\"LR\" --view=\"State\" \"sfriedenthal_VehicleModel_1_simplified{\""
   ]
  },
  {
   "cell_type": "code",
   "execution_count": 19,
   "id": "cfbc8ae8",
   "metadata": {
    "execution": {
     "iopub.execute_input": "2021-04-20T07:22:30.393665Z",
     "iopub.status.busy": "2021-04-20T07:22:30.392750Z",
     "iopub.status.idle": "2021-04-20T07:22:30.395081Z",
     "shell.execute_reply": "2021-04-20T07:22:30.394041Z"
    }
   },
   "outputs": [
    {
     "data": {
      "text/plain": [
       "ERROR:Couldn't resolve reference to Element 'sfriedenthal_VehicleModel_1_simplified{'\n"
      ]
     },
     "execution_count": 19,
     "metadata": {},
     "output_type": "execute_result"
    }
   ],
   "source": [
    "%viz --style=\"LR\" --view=\"Interconnection\" \"sfriedenthal_VehicleModel_1_simplified{\""
   ]
  },
  {
   "cell_type": "code",
   "execution_count": 20,
   "id": "9ca6d5ee",
   "metadata": {
    "execution": {
     "iopub.execute_input": "2021-04-20T07:22:30.446501Z",
     "iopub.status.busy": "2021-04-20T07:22:30.445551Z",
     "iopub.status.idle": "2021-04-20T07:22:30.448060Z",
     "shell.execute_reply": "2021-04-20T07:22:30.446865Z"
    }
   },
   "outputs": [
    {
     "data": {
      "text/plain": [
       "ERROR:Couldn't resolve reference to Element 'sfriedenthal_VehicleModel_1_simplified{'\n"
      ]
     },
     "execution_count": 20,
     "metadata": {},
     "output_type": "execute_result"
    }
   ],
   "source": [
    "%viz --style=\"LR\" --view=\"Action\" \"sfriedenthal_VehicleModel_1_simplified{\""
   ]
  },
  {
   "cell_type": "code",
   "execution_count": 21,
   "id": "6cd091bf",
   "metadata": {
    "execution": {
     "iopub.execute_input": "2021-04-20T07:22:30.499570Z",
     "iopub.status.busy": "2021-04-20T07:22:30.498676Z",
     "iopub.status.idle": "2021-04-20T07:22:30.501000Z",
     "shell.execute_reply": "2021-04-20T07:22:30.499923Z"
    }
   },
   "outputs": [
    {
     "data": {
      "text/plain": [
       "ERROR:Couldn't resolve reference to Element 'sfriedenthal_VehicleModel_1_simplified{'\n"
      ]
     },
     "execution_count": 21,
     "metadata": {},
     "output_type": "execute_result"
    }
   ],
   "source": [
    "%viz --style=\"LR\" --view=\"Sequence\" \"sfriedenthal_VehicleModel_1_simplified{\""
   ]
  },
  {
   "cell_type": "code",
   "execution_count": 22,
   "id": "36022e13",
   "metadata": {
    "execution": {
     "iopub.execute_input": "2021-04-20T07:22:30.551853Z",
     "iopub.status.busy": "2021-04-20T07:22:30.551159Z",
     "iopub.status.idle": "2021-04-20T07:22:30.553623Z",
     "shell.execute_reply": "2021-04-20T07:22:30.553124Z"
    }
   },
   "outputs": [
    {
     "data": {
      "text/plain": [
       "ERROR:Couldn't resolve reference to Element 'sfriedenthal_VehicleModel_1_simplified{'\n"
      ]
     },
     "execution_count": 22,
     "metadata": {},
     "output_type": "execute_result"
    }
   ],
   "source": [
    "%viz --style=\"LR\" --view=\"MIXED\" \"sfriedenthal_VehicleModel_1_simplified{\""
   ]
  },
  {
   "cell_type": "code",
   "execution_count": 23,
   "id": "e2f5921b",
   "metadata": {
    "execution": {
     "iopub.execute_input": "2021-04-20T07:22:30.605457Z",
     "iopub.status.busy": "2021-04-20T07:22:30.604483Z",
     "iopub.status.idle": "2021-04-20T07:22:30.606709Z",
     "shell.execute_reply": "2021-04-20T07:22:30.605786Z"
    }
   },
   "outputs": [
    {
     "data": {
      "text/plain": [
       "ERROR:Couldn't resolve reference to Element 'sfriedenthal_VehicleModel_1_simplified{'\n"
      ]
     },
     "execution_count": 23,
     "metadata": {},
     "output_type": "execute_result"
    }
   ],
   "source": [
    "%viz --style=\"STDCOLOR\" --view=\"Default\" \"sfriedenthal_VehicleModel_1_simplified{\""
   ]
  },
  {
   "cell_type": "code",
   "execution_count": 24,
   "id": "c7606570",
   "metadata": {
    "execution": {
     "iopub.execute_input": "2021-04-20T07:22:30.657378Z",
     "iopub.status.busy": "2021-04-20T07:22:30.656904Z",
     "iopub.status.idle": "2021-04-20T07:22:30.658661Z",
     "shell.execute_reply": "2021-04-20T07:22:30.657675Z"
    }
   },
   "outputs": [
    {
     "data": {
      "text/plain": [
       "ERROR:Couldn't resolve reference to Element 'sfriedenthal_VehicleModel_1_simplified{'\n"
      ]
     },
     "execution_count": 24,
     "metadata": {},
     "output_type": "execute_result"
    }
   ],
   "source": [
    "%viz --style=\"STDCOLOR\" --view=\"Tree\" \"sfriedenthal_VehicleModel_1_simplified{\""
   ]
  },
  {
   "cell_type": "code",
   "execution_count": 25,
   "id": "7f73fc4b",
   "metadata": {
    "execution": {
     "iopub.execute_input": "2021-04-20T07:22:30.709930Z",
     "iopub.status.busy": "2021-04-20T07:22:30.709164Z",
     "iopub.status.idle": "2021-04-20T07:22:30.713013Z",
     "shell.execute_reply": "2021-04-20T07:22:30.712558Z"
    }
   },
   "outputs": [
    {
     "data": {
      "text/plain": [
       "ERROR:Couldn't resolve reference to Element 'sfriedenthal_VehicleModel_1_simplified{'\n"
      ]
     },
     "execution_count": 25,
     "metadata": {},
     "output_type": "execute_result"
    }
   ],
   "source": [
    "%viz --style=\"STDCOLOR\" --view=\"State\" \"sfriedenthal_VehicleModel_1_simplified{\""
   ]
  },
  {
   "cell_type": "code",
   "execution_count": 26,
   "id": "2d67d32b",
   "metadata": {
    "execution": {
     "iopub.execute_input": "2021-04-20T07:22:30.763354Z",
     "iopub.status.busy": "2021-04-20T07:22:30.762807Z",
     "iopub.status.idle": "2021-04-20T07:22:30.764642Z",
     "shell.execute_reply": "2021-04-20T07:22:30.763679Z"
    }
   },
   "outputs": [
    {
     "data": {
      "text/plain": [
       "ERROR:Couldn't resolve reference to Element 'sfriedenthal_VehicleModel_1_simplified{'\n"
      ]
     },
     "execution_count": 26,
     "metadata": {},
     "output_type": "execute_result"
    }
   ],
   "source": [
    "%viz --style=\"STDCOLOR\" --view=\"Interconnection\" \"sfriedenthal_VehicleModel_1_simplified{\""
   ]
  },
  {
   "cell_type": "code",
   "execution_count": 27,
   "id": "3ae96890",
   "metadata": {
    "execution": {
     "iopub.execute_input": "2021-04-20T07:22:30.815437Z",
     "iopub.status.busy": "2021-04-20T07:22:30.814954Z",
     "iopub.status.idle": "2021-04-20T07:22:30.816680Z",
     "shell.execute_reply": "2021-04-20T07:22:30.815779Z"
    }
   },
   "outputs": [
    {
     "data": {
      "text/plain": [
       "ERROR:Couldn't resolve reference to Element 'sfriedenthal_VehicleModel_1_simplified{'\n"
      ]
     },
     "execution_count": 27,
     "metadata": {},
     "output_type": "execute_result"
    }
   ],
   "source": [
    "%viz --style=\"STDCOLOR\" --view=\"Action\" \"sfriedenthal_VehicleModel_1_simplified{\""
   ]
  },
  {
   "cell_type": "code",
   "execution_count": 28,
   "id": "0a3da44f",
   "metadata": {
    "execution": {
     "iopub.execute_input": "2021-04-20T07:22:30.868906Z",
     "iopub.status.busy": "2021-04-20T07:22:30.868201Z",
     "iopub.status.idle": "2021-04-20T07:22:30.870207Z",
     "shell.execute_reply": "2021-04-20T07:22:30.870574Z"
    }
   },
   "outputs": [
    {
     "data": {
      "text/plain": [
       "ERROR:Couldn't resolve reference to Element 'sfriedenthal_VehicleModel_1_simplified{'\n"
      ]
     },
     "execution_count": 28,
     "metadata": {},
     "output_type": "execute_result"
    }
   ],
   "source": [
    "%viz --style=\"STDCOLOR\" --view=\"Sequence\" \"sfriedenthal_VehicleModel_1_simplified{\""
   ]
  },
  {
   "cell_type": "code",
   "execution_count": 29,
   "id": "d24d9de5",
   "metadata": {
    "execution": {
     "iopub.execute_input": "2021-04-20T07:22:30.924053Z",
     "iopub.status.busy": "2021-04-20T07:22:30.923182Z",
     "iopub.status.idle": "2021-04-20T07:22:30.925853Z",
     "shell.execute_reply": "2021-04-20T07:22:30.924469Z"
    }
   },
   "outputs": [
    {
     "data": {
      "text/plain": [
       "ERROR:Couldn't resolve reference to Element 'sfriedenthal_VehicleModel_1_simplified{'\n"
      ]
     },
     "execution_count": 29,
     "metadata": {},
     "output_type": "execute_result"
    }
   ],
   "source": [
    "%viz --style=\"STDCOLOR\" --view=\"MIXED\" \"sfriedenthal_VehicleModel_1_simplified{\""
   ]
  },
  {
   "cell_type": "code",
   "execution_count": 30,
   "id": "3aa1777b",
   "metadata": {
    "execution": {
     "iopub.execute_input": "2021-04-20T07:22:30.979013Z",
     "iopub.status.busy": "2021-04-20T07:22:30.977176Z",
     "iopub.status.idle": "2021-04-20T07:22:30.981218Z",
     "shell.execute_reply": "2021-04-20T07:22:30.980686Z"
    }
   },
   "outputs": [
    {
     "data": {
      "text/plain": [
       "ERROR:Couldn't resolve reference to Element 'sfriedenthal_VehicleModel_1_simplified{'\n"
      ]
     },
     "execution_count": 30,
     "metadata": {},
     "output_type": "execute_result"
    }
   ],
   "source": [
    "%viz --style=\"PLANTUML\" --view=\"Default\" \"sfriedenthal_VehicleModel_1_simplified{\""
   ]
  },
  {
   "cell_type": "code",
   "execution_count": 31,
   "id": "e83255a3",
   "metadata": {
    "execution": {
     "iopub.execute_input": "2021-04-20T07:22:31.031714Z",
     "iopub.status.busy": "2021-04-20T07:22:31.030988Z",
     "iopub.status.idle": "2021-04-20T07:22:31.033845Z",
     "shell.execute_reply": "2021-04-20T07:22:31.033382Z"
    }
   },
   "outputs": [
    {
     "data": {
      "text/plain": [
       "ERROR:Couldn't resolve reference to Element 'sfriedenthal_VehicleModel_1_simplified{'\n"
      ]
     },
     "execution_count": 31,
     "metadata": {},
     "output_type": "execute_result"
    }
   ],
   "source": [
    "%viz --style=\"PLANTUML\" --view=\"Tree\" \"sfriedenthal_VehicleModel_1_simplified{\""
   ]
  },
  {
   "cell_type": "code",
   "execution_count": 32,
   "id": "77da6075",
   "metadata": {
    "execution": {
     "iopub.execute_input": "2021-04-20T07:22:31.086333Z",
     "iopub.status.busy": "2021-04-20T07:22:31.084813Z",
     "iopub.status.idle": "2021-04-20T07:22:31.089756Z",
     "shell.execute_reply": "2021-04-20T07:22:31.089288Z"
    }
   },
   "outputs": [
    {
     "data": {
      "text/plain": [
       "ERROR:Couldn't resolve reference to Element 'sfriedenthal_VehicleModel_1_simplified{'\n"
      ]
     },
     "execution_count": 32,
     "metadata": {},
     "output_type": "execute_result"
    }
   ],
   "source": [
    "%viz --style=\"PLANTUML\" --view=\"State\" \"sfriedenthal_VehicleModel_1_simplified{\""
   ]
  },
  {
   "cell_type": "code",
   "execution_count": 33,
   "id": "70855bda",
   "metadata": {
    "execution": {
     "iopub.execute_input": "2021-04-20T07:22:31.139426Z",
     "iopub.status.busy": "2021-04-20T07:22:31.138526Z",
     "iopub.status.idle": "2021-04-20T07:22:31.141612Z",
     "shell.execute_reply": "2021-04-20T07:22:31.140001Z"
    }
   },
   "outputs": [
    {
     "data": {
      "text/plain": [
       "ERROR:Couldn't resolve reference to Element 'sfriedenthal_VehicleModel_1_simplified{'\n"
      ]
     },
     "execution_count": 33,
     "metadata": {},
     "output_type": "execute_result"
    }
   ],
   "source": [
    "%viz --style=\"PLANTUML\" --view=\"Interconnection\" \"sfriedenthal_VehicleModel_1_simplified{\""
   ]
  },
  {
   "cell_type": "code",
   "execution_count": 34,
   "id": "b2f826ab",
   "metadata": {
    "execution": {
     "iopub.execute_input": "2021-04-20T07:22:31.194448Z",
     "iopub.status.busy": "2021-04-20T07:22:31.192096Z",
     "iopub.status.idle": "2021-04-20T07:22:31.200199Z",
     "shell.execute_reply": "2021-04-20T07:22:31.198934Z"
    }
   },
   "outputs": [
    {
     "data": {
      "text/plain": [
       "ERROR:Couldn't resolve reference to Element 'sfriedenthal_VehicleModel_1_simplified{'\n"
      ]
     },
     "execution_count": 34,
     "metadata": {},
     "output_type": "execute_result"
    }
   ],
   "source": [
    "%viz --style=\"PLANTUML\" --view=\"Action\" \"sfriedenthal_VehicleModel_1_simplified{\""
   ]
  },
  {
   "cell_type": "code",
   "execution_count": 35,
   "id": "6a647e96",
   "metadata": {
    "execution": {
     "iopub.execute_input": "2021-04-20T07:22:31.249779Z",
     "iopub.status.busy": "2021-04-20T07:22:31.248393Z",
     "iopub.status.idle": "2021-04-20T07:22:31.252834Z",
     "shell.execute_reply": "2021-04-20T07:22:31.252232Z"
    }
   },
   "outputs": [
    {
     "data": {
      "text/plain": [
       "ERROR:Couldn't resolve reference to Element 'sfriedenthal_VehicleModel_1_simplified{'\n"
      ]
     },
     "execution_count": 35,
     "metadata": {},
     "output_type": "execute_result"
    }
   ],
   "source": [
    "%viz --style=\"PLANTUML\" --view=\"Sequence\" \"sfriedenthal_VehicleModel_1_simplified{\""
   ]
  },
  {
   "cell_type": "code",
   "execution_count": 36,
   "id": "580dd56f",
   "metadata": {
    "execution": {
     "iopub.execute_input": "2021-04-20T07:22:31.306801Z",
     "iopub.status.busy": "2021-04-20T07:22:31.304356Z",
     "iopub.status.idle": "2021-04-20T07:22:31.309815Z",
     "shell.execute_reply": "2021-04-20T07:22:31.309365Z"
    }
   },
   "outputs": [
    {
     "data": {
      "text/plain": [
       "ERROR:Couldn't resolve reference to Element 'sfriedenthal_VehicleModel_1_simplified{'\n"
      ]
     },
     "execution_count": 36,
     "metadata": {},
     "output_type": "execute_result"
    }
   ],
   "source": [
    "%viz --style=\"PLANTUML\" --view=\"MIXED\" \"sfriedenthal_VehicleModel_1_simplified{\""
   ]
  },
  {
   "cell_type": "code",
   "execution_count": 37,
   "id": "90c10332",
   "metadata": {
    "execution": {
     "iopub.execute_input": "2021-04-20T07:22:31.361448Z",
     "iopub.status.busy": "2021-04-20T07:22:31.358572Z",
     "iopub.status.idle": "2021-04-20T07:22:31.364935Z",
     "shell.execute_reply": "2021-04-20T07:22:31.362309Z"
    }
   },
   "outputs": [
    {
     "data": {
      "text/plain": [
       "ERROR:Couldn't resolve reference to Element 'sfriedenthal_VehicleModel_1_simplified{'\n"
      ]
     },
     "execution_count": 37,
     "metadata": {},
     "output_type": "execute_result"
    }
   ],
   "source": [
    "%viz --style=\"DEFAULT\" --view=\"Default\" \"sfriedenthal_VehicleModel_1_simplified{\""
   ]
  },
  {
   "cell_type": "code",
   "execution_count": 38,
   "id": "16f8966f",
   "metadata": {
    "execution": {
     "iopub.execute_input": "2021-04-20T07:22:31.412475Z",
     "iopub.status.busy": "2021-04-20T07:22:31.411597Z",
     "iopub.status.idle": "2021-04-20T07:22:31.414076Z",
     "shell.execute_reply": "2021-04-20T07:22:31.412908Z"
    }
   },
   "outputs": [
    {
     "data": {
      "text/plain": [
       "ERROR:Couldn't resolve reference to Element 'sfriedenthal_VehicleModel_1_simplified{'\n"
      ]
     },
     "execution_count": 38,
     "metadata": {},
     "output_type": "execute_result"
    }
   ],
   "source": [
    "%viz --style=\"DEFAULT\" --view=\"Tree\" \"sfriedenthal_VehicleModel_1_simplified{\""
   ]
  },
  {
   "cell_type": "code",
   "execution_count": 39,
   "id": "4e6945d1",
   "metadata": {
    "execution": {
     "iopub.execute_input": "2021-04-20T07:22:31.467257Z",
     "iopub.status.busy": "2021-04-20T07:22:31.466059Z",
     "iopub.status.idle": "2021-04-20T07:22:31.470174Z",
     "shell.execute_reply": "2021-04-20T07:22:31.469580Z"
    }
   },
   "outputs": [
    {
     "data": {
      "text/plain": [
       "ERROR:Couldn't resolve reference to Element 'sfriedenthal_VehicleModel_1_simplified{'\n"
      ]
     },
     "execution_count": 39,
     "metadata": {},
     "output_type": "execute_result"
    }
   ],
   "source": [
    "%viz --style=\"DEFAULT\" --view=\"State\" \"sfriedenthal_VehicleModel_1_simplified{\""
   ]
  },
  {
   "cell_type": "code",
   "execution_count": 40,
   "id": "02be1eb1",
   "metadata": {
    "execution": {
     "iopub.execute_input": "2021-04-20T07:22:31.524781Z",
     "iopub.status.busy": "2021-04-20T07:22:31.523219Z",
     "iopub.status.idle": "2021-04-20T07:22:31.528717Z",
     "shell.execute_reply": "2021-04-20T07:22:31.527625Z"
    }
   },
   "outputs": [
    {
     "data": {
      "text/plain": [
       "ERROR:Couldn't resolve reference to Element 'sfriedenthal_VehicleModel_1_simplified{'\n"
      ]
     },
     "execution_count": 40,
     "metadata": {},
     "output_type": "execute_result"
    }
   ],
   "source": [
    "%viz --style=\"DEFAULT\" --view=\"Interconnection\" \"sfriedenthal_VehicleModel_1_simplified{\""
   ]
  },
  {
   "cell_type": "code",
   "execution_count": 41,
   "id": "1ba51807",
   "metadata": {
    "execution": {
     "iopub.execute_input": "2021-04-20T07:22:31.581674Z",
     "iopub.status.busy": "2021-04-20T07:22:31.580385Z",
     "iopub.status.idle": "2021-04-20T07:22:31.584245Z",
     "shell.execute_reply": "2021-04-20T07:22:31.582224Z"
    }
   },
   "outputs": [
    {
     "data": {
      "text/plain": [
       "ERROR:Couldn't resolve reference to Element 'sfriedenthal_VehicleModel_1_simplified{'\n"
      ]
     },
     "execution_count": 41,
     "metadata": {},
     "output_type": "execute_result"
    }
   ],
   "source": [
    "%viz --style=\"DEFAULT\" --view=\"Action\" \"sfriedenthal_VehicleModel_1_simplified{\""
   ]
  },
  {
   "cell_type": "code",
   "execution_count": 42,
   "id": "cd1c7dfb",
   "metadata": {
    "execution": {
     "iopub.execute_input": "2021-04-20T07:22:31.633583Z",
     "iopub.status.busy": "2021-04-20T07:22:31.632727Z",
     "iopub.status.idle": "2021-04-20T07:22:31.637503Z",
     "shell.execute_reply": "2021-04-20T07:22:31.636669Z"
    }
   },
   "outputs": [
    {
     "data": {
      "text/plain": [
       "ERROR:Couldn't resolve reference to Element 'sfriedenthal_VehicleModel_1_simplified{'\n"
      ]
     },
     "execution_count": 42,
     "metadata": {},
     "output_type": "execute_result"
    }
   ],
   "source": [
    "%viz --style=\"DEFAULT\" --view=\"Sequence\" \"sfriedenthal_VehicleModel_1_simplified{\""
   ]
  },
  {
   "cell_type": "code",
   "execution_count": 43,
   "id": "eaaa4f03",
   "metadata": {
    "execution": {
     "iopub.execute_input": "2021-04-20T07:22:31.690140Z",
     "iopub.status.busy": "2021-04-20T07:22:31.689162Z",
     "iopub.status.idle": "2021-04-20T07:22:31.691803Z",
     "shell.execute_reply": "2021-04-20T07:22:31.690627Z"
    }
   },
   "outputs": [
    {
     "data": {
      "text/plain": [
       "ERROR:Couldn't resolve reference to Element 'sfriedenthal_VehicleModel_1_simplified{'\n"
      ]
     },
     "execution_count": 43,
     "metadata": {},
     "output_type": "execute_result"
    }
   ],
   "source": [
    "%viz --style=\"DEFAULT\" --view=\"MIXED\" \"sfriedenthal_VehicleModel_1_simplified{\""
   ]
  },
  {
   "cell_type": "code",
   "execution_count": 44,
   "id": "f45dd7a0",
   "metadata": {
    "execution": {
     "iopub.execute_input": "2021-04-20T07:22:31.747789Z",
     "iopub.status.busy": "2021-04-20T07:22:31.746548Z",
     "iopub.status.idle": "2021-04-20T07:22:31.750577Z",
     "shell.execute_reply": "2021-04-20T07:22:31.747161Z"
    }
   },
   "outputs": [
    {
     "data": {
      "text/plain": [
       "ERROR:Couldn't resolve reference to Element 'sfriedenthal_VehicleModel_1_simplified{'\n"
      ]
     },
     "execution_count": 44,
     "metadata": {},
     "output_type": "execute_result"
    }
   ],
   "source": [
    "%viz --style=\"TB\" --view=\"Default\" \"sfriedenthal_VehicleModel_1_simplified{\""
   ]
  },
  {
   "cell_type": "code",
   "execution_count": 45,
   "id": "d0583c55",
   "metadata": {
    "execution": {
     "iopub.execute_input": "2021-04-20T07:22:31.800735Z",
     "iopub.status.busy": "2021-04-20T07:22:31.799165Z",
     "iopub.status.idle": "2021-04-20T07:22:31.804018Z",
     "shell.execute_reply": "2021-04-20T07:22:31.803468Z"
    }
   },
   "outputs": [
    {
     "data": {
      "text/plain": [
       "ERROR:Couldn't resolve reference to Element 'sfriedenthal_VehicleModel_1_simplified{'\n"
      ]
     },
     "execution_count": 45,
     "metadata": {},
     "output_type": "execute_result"
    }
   ],
   "source": [
    "%viz --style=\"TB\" --view=\"Tree\" \"sfriedenthal_VehicleModel_1_simplified{\""
   ]
  },
  {
   "cell_type": "code",
   "execution_count": 46,
   "id": "8995d493",
   "metadata": {
    "execution": {
     "iopub.execute_input": "2021-04-20T07:22:31.853694Z",
     "iopub.status.busy": "2021-04-20T07:22:31.852977Z",
     "iopub.status.idle": "2021-04-20T07:22:31.857543Z",
     "shell.execute_reply": "2021-04-20T07:22:31.854105Z"
    }
   },
   "outputs": [
    {
     "data": {
      "text/plain": [
       "ERROR:Couldn't resolve reference to Element 'sfriedenthal_VehicleModel_1_simplified{'\n"
      ]
     },
     "execution_count": 46,
     "metadata": {},
     "output_type": "execute_result"
    }
   ],
   "source": [
    "%viz --style=\"TB\" --view=\"State\" \"sfriedenthal_VehicleModel_1_simplified{\""
   ]
  },
  {
   "cell_type": "code",
   "execution_count": 47,
   "id": "839c222c",
   "metadata": {
    "execution": {
     "iopub.execute_input": "2021-04-20T07:22:31.909061Z",
     "iopub.status.busy": "2021-04-20T07:22:31.907836Z",
     "iopub.status.idle": "2021-04-20T07:22:31.911831Z",
     "shell.execute_reply": "2021-04-20T07:22:31.910401Z"
    }
   },
   "outputs": [
    {
     "data": {
      "text/plain": [
       "ERROR:Couldn't resolve reference to Element 'sfriedenthal_VehicleModel_1_simplified{'\n"
      ]
     },
     "execution_count": 47,
     "metadata": {},
     "output_type": "execute_result"
    }
   ],
   "source": [
    "%viz --style=\"TB\" --view=\"Interconnection\" \"sfriedenthal_VehicleModel_1_simplified{\""
   ]
  },
  {
   "cell_type": "code",
   "execution_count": 48,
   "id": "56ff711c",
   "metadata": {
    "execution": {
     "iopub.execute_input": "2021-04-20T07:22:31.964924Z",
     "iopub.status.busy": "2021-04-20T07:22:31.963440Z",
     "iopub.status.idle": "2021-04-20T07:22:31.968222Z",
     "shell.execute_reply": "2021-04-20T07:22:31.967751Z"
    }
   },
   "outputs": [
    {
     "data": {
      "text/plain": [
       "ERROR:Couldn't resolve reference to Element 'sfriedenthal_VehicleModel_1_simplified{'\n"
      ]
     },
     "execution_count": 48,
     "metadata": {},
     "output_type": "execute_result"
    }
   ],
   "source": [
    "%viz --style=\"TB\" --view=\"Action\" \"sfriedenthal_VehicleModel_1_simplified{\""
   ]
  },
  {
   "cell_type": "code",
   "execution_count": 49,
   "id": "abf2728b",
   "metadata": {
    "execution": {
     "iopub.execute_input": "2021-04-20T07:22:32.018164Z",
     "iopub.status.busy": "2021-04-20T07:22:32.017618Z",
     "iopub.status.idle": "2021-04-20T07:22:32.019868Z",
     "shell.execute_reply": "2021-04-20T07:22:32.018685Z"
    }
   },
   "outputs": [
    {
     "data": {
      "text/plain": [
       "ERROR:Couldn't resolve reference to Element 'sfriedenthal_VehicleModel_1_simplified{'\n"
      ]
     },
     "execution_count": 49,
     "metadata": {},
     "output_type": "execute_result"
    }
   ],
   "source": [
    "%viz --style=\"TB\" --view=\"Sequence\" \"sfriedenthal_VehicleModel_1_simplified{\""
   ]
  },
  {
   "cell_type": "code",
   "execution_count": 50,
   "id": "3f22e539",
   "metadata": {
    "execution": {
     "iopub.execute_input": "2021-04-20T07:22:32.070284Z",
     "iopub.status.busy": "2021-04-20T07:22:32.069735Z",
     "iopub.status.idle": "2021-04-20T07:22:32.071524Z",
     "shell.execute_reply": "2021-04-20T07:22:32.070606Z"
    }
   },
   "outputs": [
    {
     "data": {
      "text/plain": [
       "ERROR:Couldn't resolve reference to Element 'sfriedenthal_VehicleModel_1_simplified{'\n"
      ]
     },
     "execution_count": 50,
     "metadata": {},
     "output_type": "execute_result"
    }
   ],
   "source": [
    "%viz --style=\"TB\" --view=\"MIXED\" \"sfriedenthal_VehicleModel_1_simplified{\""
   ]
  },
  {
   "cell_type": "code",
   "execution_count": 51,
   "id": "cd2de43e",
   "metadata": {
    "execution": {
     "iopub.execute_input": "2021-04-20T07:22:32.124669Z",
     "iopub.status.busy": "2021-04-20T07:22:32.123047Z",
     "iopub.status.idle": "2021-04-20T07:22:32.127340Z",
     "shell.execute_reply": "2021-04-20T07:22:32.125921Z"
    }
   },
   "outputs": [
    {
     "data": {
      "text/plain": [
       "ERROR:Couldn't resolve reference to Element 'sfriedenthal_VehicleModel_1_simplified{'\n"
      ]
     },
     "execution_count": 51,
     "metadata": {},
     "output_type": "execute_result"
    }
   ],
   "source": [
    "%viz --style=\"ORTHOLINE\" --view=\"Default\" \"sfriedenthal_VehicleModel_1_simplified{\""
   ]
  },
  {
   "cell_type": "code",
   "execution_count": 52,
   "id": "35ec2c48",
   "metadata": {
    "execution": {
     "iopub.execute_input": "2021-04-20T07:22:32.178891Z",
     "iopub.status.busy": "2021-04-20T07:22:32.177452Z",
     "iopub.status.idle": "2021-04-20T07:22:32.182223Z",
     "shell.execute_reply": "2021-04-20T07:22:32.179685Z"
    }
   },
   "outputs": [
    {
     "data": {
      "text/plain": [
       "ERROR:Couldn't resolve reference to Element 'sfriedenthal_VehicleModel_1_simplified{'\n"
      ]
     },
     "execution_count": 52,
     "metadata": {},
     "output_type": "execute_result"
    }
   ],
   "source": [
    "%viz --style=\"ORTHOLINE\" --view=\"Tree\" \"sfriedenthal_VehicleModel_1_simplified{\""
   ]
  },
  {
   "cell_type": "code",
   "execution_count": 53,
   "id": "b783eb7c",
   "metadata": {
    "execution": {
     "iopub.execute_input": "2021-04-20T07:22:32.231825Z",
     "iopub.status.busy": "2021-04-20T07:22:32.229765Z",
     "iopub.status.idle": "2021-04-20T07:22:32.235026Z",
     "shell.execute_reply": "2021-04-20T07:22:32.232637Z"
    }
   },
   "outputs": [
    {
     "data": {
      "text/plain": [
       "ERROR:Couldn't resolve reference to Element 'sfriedenthal_VehicleModel_1_simplified{'\n"
      ]
     },
     "execution_count": 53,
     "metadata": {},
     "output_type": "execute_result"
    }
   ],
   "source": [
    "%viz --style=\"ORTHOLINE\" --view=\"State\" \"sfriedenthal_VehicleModel_1_simplified{\""
   ]
  },
  {
   "cell_type": "code",
   "execution_count": 54,
   "id": "78221425",
   "metadata": {
    "execution": {
     "iopub.execute_input": "2021-04-20T07:22:32.284549Z",
     "iopub.status.busy": "2021-04-20T07:22:32.283248Z",
     "iopub.status.idle": "2021-04-20T07:22:32.286853Z",
     "shell.execute_reply": "2021-04-20T07:22:32.285689Z"
    }
   },
   "outputs": [
    {
     "data": {
      "text/plain": [
       "ERROR:Couldn't resolve reference to Element 'sfriedenthal_VehicleModel_1_simplified{'\n"
      ]
     },
     "execution_count": 54,
     "metadata": {},
     "output_type": "execute_result"
    }
   ],
   "source": [
    "%viz --style=\"ORTHOLINE\" --view=\"Interconnection\" \"sfriedenthal_VehicleModel_1_simplified{\""
   ]
  },
  {
   "cell_type": "code",
   "execution_count": 55,
   "id": "792e1b68",
   "metadata": {
    "execution": {
     "iopub.execute_input": "2021-04-20T07:22:32.337522Z",
     "iopub.status.busy": "2021-04-20T07:22:32.336873Z",
     "iopub.status.idle": "2021-04-20T07:22:32.339091Z",
     "shell.execute_reply": "2021-04-20T07:22:32.338747Z"
    }
   },
   "outputs": [
    {
     "data": {
      "text/plain": [
       "ERROR:Couldn't resolve reference to Element 'sfriedenthal_VehicleModel_1_simplified{'\n"
      ]
     },
     "execution_count": 55,
     "metadata": {},
     "output_type": "execute_result"
    }
   ],
   "source": [
    "%viz --style=\"ORTHOLINE\" --view=\"Action\" \"sfriedenthal_VehicleModel_1_simplified{\""
   ]
  },
  {
   "cell_type": "code",
   "execution_count": 56,
   "id": "656dca0c",
   "metadata": {
    "execution": {
     "iopub.execute_input": "2021-04-20T07:22:32.393426Z",
     "iopub.status.busy": "2021-04-20T07:22:32.391547Z",
     "iopub.status.idle": "2021-04-20T07:22:32.396401Z",
     "shell.execute_reply": "2021-04-20T07:22:32.394371Z"
    }
   },
   "outputs": [
    {
     "data": {
      "text/plain": [
       "ERROR:Couldn't resolve reference to Element 'sfriedenthal_VehicleModel_1_simplified{'\n"
      ]
     },
     "execution_count": 56,
     "metadata": {},
     "output_type": "execute_result"
    }
   ],
   "source": [
    "%viz --style=\"ORTHOLINE\" --view=\"Sequence\" \"sfriedenthal_VehicleModel_1_simplified{\""
   ]
  },
  {
   "cell_type": "code",
   "execution_count": 57,
   "id": "667fdb12",
   "metadata": {
    "execution": {
     "iopub.execute_input": "2021-04-20T07:22:32.445260Z",
     "iopub.status.busy": "2021-04-20T07:22:32.444560Z",
     "iopub.status.idle": "2021-04-20T07:22:32.447585Z",
     "shell.execute_reply": "2021-04-20T07:22:32.447189Z"
    }
   },
   "outputs": [
    {
     "data": {
      "text/plain": [
       "ERROR:Couldn't resolve reference to Element 'sfriedenthal_VehicleModel_1_simplified{'\n"
      ]
     },
     "execution_count": 57,
     "metadata": {},
     "output_type": "execute_result"
    }
   ],
   "source": [
    "%viz --style=\"ORTHOLINE\" --view=\"MIXED\" \"sfriedenthal_VehicleModel_1_simplified{\""
   ]
  }
 ],
 "metadata": {
  "kernelspec": {
   "display_name": "SysML",
   "language": "sysml",
   "name": "sysml"
  },
  "language_info": {
   "codemirror_mode": "sysml",
   "file_extension": ".sysml",
   "mimetype": "text/x-sysml",
   "name": "SysML",
   "pygments_lexer": "java",
   "version": "1.0.0"
  }
 },
 "nbformat": 4,
 "nbformat_minor": 5
}
