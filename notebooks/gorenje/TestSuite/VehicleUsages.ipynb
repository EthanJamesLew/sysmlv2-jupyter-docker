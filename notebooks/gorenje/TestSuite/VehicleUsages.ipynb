{
 "cells": [
  {
   "cell_type": "markdown",
   "id": "57ddefa1",
   "metadata": {},
   "source": [
    "# SysML v2 Test Suite\n",
    "\n",
    "This can notebook can be cleared using menu `Edit --> Clear All Outputs` and then all cells can be\n",
    "run using menu `Run --> Run All Cells`.\n",
    "\n",
    "**WARNING**: This file is generated, all modifications here will be ignored.\n"
   ]
  },
  {
   "cell_type": "markdown",
   "id": "ff95c470",
   "metadata": {},
   "source": [
    "## File: ../../sysml/src/examples/Vehicle Example/VehicleUsages.sysml"
   ]
  },
  {
   "cell_type": "code",
   "execution_count": 1,
   "id": "3aa17ca5",
   "metadata": {
    "execution": {
     "iopub.execute_input": "2021-04-20T07:25:18.079209Z",
     "iopub.status.busy": "2021-04-20T07:25:18.076750Z",
     "iopub.status.idle": "2021-04-20T07:25:19.833587Z",
     "shell.execute_reply": "2021-04-20T07:25:19.798800Z"
    }
   },
   "outputs": [
    {
     "name": "stderr",
     "output_type": "stream",
     "text": [
      "ERROR:Couldn't resolve reference to Namespace 'VehicleDefinitions'. (1.sysml line : 7 column : 9)\n"
     ]
    },
    {
     "name": "stderr",
     "output_type": "stream",
     "text": [
      "ERROR:Couldn't resolve reference to Type 'Vehicle'. (1.sysml line : 26 column : 19)\n"
     ]
    },
    {
     "name": "stderr",
     "output_type": "stream",
     "text": [
      "ERROR:Couldn't resolve reference to Type 'AxleAssembly'. (1.sysml line : 27 column : 27)\n"
     ]
    },
    {
     "name": "stderr",
     "output_type": "stream",
     "text": [
      "ERROR:Couldn't resolve reference to Type 'Wheel'. (1.sysml line : 16 column : 23)\n"
     ]
    },
    {
     "name": "stderr",
     "output_type": "stream",
     "text": [
      "ERROR:Couldn't resolve reference to Type 'Lugbolt'. (1.sysml line : 17 column : 17)\n"
     ]
    },
    {
     "name": "stderr",
     "output_type": "stream",
     "text": [
      "ERROR:Couldn't resolve reference to Feature 'Lugbolt::tighteningTorque'. (1.sysml line : 30 column : 43)\n"
     ]
    },
    {
     "name": "stderr",
     "output_type": "stream",
     "text": [
      "ERROR:Couldn't resolve reference to Type 'VehicleDefinitions::AxleAssembly'. (1.sysml line : 35 column : 26)\n"
     ]
    },
    {
     "name": "stderr",
     "output_type": "stream",
     "text": [
      "ERROR:Couldn't resolve reference to Type 'Wheel'. (1.sysml line : 21 column : 21)\n"
     ]
    },
    {
     "name": "stderr",
     "output_type": "stream",
     "text": [
      "ERROR:Couldn't resolve reference to Type 'Lugbolt'. (1.sysml line : 22 column : 17)\n"
     ]
    },
    {
     "name": "stderr",
     "output_type": "stream",
     "text": [
      "ERROR:Couldn't resolve reference to Feature 'Lugbolt::tighteningTorque'. (1.sysml line : 38 column : 43)\n"
     ]
    },
    {
     "name": "stderr",
     "output_type": "stream",
     "text": [
      "ERROR:Couldn't resolve reference to Type 'Mounting'. (1.sysml line : 60 column : 30)\n"
     ]
    },
    {
     "name": "stderr",
     "output_type": "stream",
     "text": [
      "ERROR:Couldn't resolve reference to Type 'Mounting'. (1.sysml line : 63 column : 31)\n"
     ]
    },
    {
     "name": "stderr",
     "output_type": "stream",
     "text": [
      "ERROR:Couldn't resolve reference to Type 'Mounting'. (1.sysml line : 80 column : 29)\n"
     ]
    },
    {
     "name": "stderr",
     "output_type": "stream",
     "text": [
      "ERROR:Couldn't resolve reference to Type 'Mounting'. (1.sysml line : 83 column : 30)\n"
     ]
    },
    {
     "name": "stderr",
     "output_type": "stream",
     "text": [
      "ERROR:Couldn't resolve reference to Type 'Axle'. (1.sysml line : 33 column : 20)\n"
     ]
    },
    {
     "name": "stderr",
     "output_type": "stream",
     "text": [
      "ERROR:Couldn't resolve reference to Type 'Axle'. (1.sysml line : 41 column : 19)\n"
     ]
    },
    {
     "name": "stderr",
     "output_type": "stream",
     "text": [
      "ERROR:Couldn't resolve reference to Type 'VehicleDefinitions::WheelHubIF'. (1.sysml line : 49 column : 15)\n"
     ]
    },
    {
     "name": "stderr",
     "output_type": "stream",
     "text": [
      "ERROR:Couldn't resolve reference to Type 'VehicleDefinitions::WheelHubIF'. (1.sysml line : 52 column : 15)\n"
     ]
    },
    {
     "name": "stderr",
     "output_type": "stream",
     "text": [
      "ERROR:Couldn't resolve reference to Type 'AxleMountIF'. (1.sysml line : 56 column : 29)\n"
     ]
    },
    {
     "name": "stderr",
     "output_type": "stream",
     "text": [
      "ERROR:Couldn't resolve reference to Type 'AxleMountIF'. (1.sysml line : 57 column : 30)\n"
     ]
    },
    {
     "name": "stderr",
     "output_type": "stream",
     "text": [
      "ERROR:Couldn't resolve reference to Type 'WheelHubIF'. (1.sysml line : 69 column : 15)\n"
     ]
    },
    {
     "name": "stderr",
     "output_type": "stream",
     "text": [
      "ERROR:Couldn't resolve reference to Type 'WheelHubIF'. (1.sysml line : 72 column : 15)\n"
     ]
    },
    {
     "name": "stderr",
     "output_type": "stream",
     "text": [
      "ERROR:Couldn't resolve reference to Type 'AxleMountIF'. (1.sysml line : 76 column : 29)\n"
     ]
    },
    {
     "name": "stderr",
     "output_type": "stream",
     "text": [
      "ERROR:Couldn't resolve reference to Type 'AxleMountIF'. (1.sysml line : 77 column : 30)\n"
     ]
    },
    {
     "name": "stderr",
     "output_type": "stream",
     "text": [
      "ERROR:Couldn't resolve reference to Type 'Transmission'. (1.sysml line : 91 column : 22)\n"
     ]
    },
    {
     "name": "stderr",
     "output_type": "stream",
     "text": [
      "ERROR:Couldn't resolve reference to Type 'DriveIF'. (1.sysml line : 92 column : 16)\n"
     ]
    },
    {
     "name": "stderr",
     "output_type": "stream",
     "text": [
      "ERROR:Couldn't resolve reference to Type 'DriveIF'. (1.sysml line : 97 column : 17)\n"
     ]
    },
    {
     "name": "stderr",
     "output_type": "stream",
     "text": [
      "ERROR:A part usage must be typed by item definitions and at least one part definition. (1.sysml line : 16 column : 2)\n"
     ]
    },
    {
     "name": "stderr",
     "output_type": "stream",
     "text": [
      "ERROR:A part usage must be typed by item definitions and at least one part definition. (1.sysml line : 17 column : 3)\n"
     ]
    },
    {
     "name": "stderr",
     "output_type": "stream",
     "text": [
      "ERROR:A part usage must be typed by item definitions and at least one part definition. (1.sysml line : 21 column : 2)\n"
     ]
    },
    {
     "name": "stderr",
     "output_type": "stream",
     "text": [
      "ERROR:A part usage must be typed by item definitions and at least one part definition. (1.sysml line : 22 column : 3)\n"
     ]
    },
    {
     "name": "stderr",
     "output_type": "stream",
     "text": [
      "ERROR:A part usage must be typed by item definitions and at least one part definition. (1.sysml line : 26 column : 2)\n"
     ]
    },
    {
     "name": "stderr",
     "output_type": "stream",
     "text": [
      "ERROR:A part usage must be typed by item definitions and at least one part definition. (1.sysml line : 27 column : 3)\n"
     ]
    },
    {
     "name": "stderr",
     "output_type": "stream",
     "text": [
      "ERROR:A part usage must be typed by item definitions and at least one part definition. (1.sysml line : 28 column : 4)\n"
     ]
    },
    {
     "name": "stderr",
     "output_type": "stream",
     "text": [
      "ERROR:A part usage must be typed by item definitions and at least one part definition. (1.sysml line : 29 column : 5)\n"
     ]
    },
    {
     "name": "stderr",
     "output_type": "stream",
     "text": [
      "ERROR:Features must have at least one type (1.sysml line : 30 column : 6)\n"
     ]
    },
    {
     "name": "stderr",
     "output_type": "stream",
     "text": [
      "ERROR:A part usage must be typed by item definitions and at least one part definition. (1.sysml line : 33 column : 4)\n"
     ]
    },
    {
     "name": "stderr",
     "output_type": "stream",
     "text": [
      "ERROR:A part usage must be typed by item definitions and at least one part definition. (1.sysml line : 35 column : 3)\n"
     ]
    },
    {
     "name": "stderr",
     "output_type": "stream",
     "text": [
      "ERROR:A part usage must be typed by item definitions and at least one part definition. (1.sysml line : 36 column : 4)\n"
     ]
    },
    {
     "name": "stderr",
     "output_type": "stream",
     "text": [
      "ERROR:A part usage must be typed by item definitions and at least one part definition. (1.sysml line : 37 column : 5)\n"
     ]
    },
    {
     "name": "stderr",
     "output_type": "stream",
     "text": [
      "ERROR:Features must have at least one type (1.sysml line : 38 column : 6)\n"
     ]
    },
    {
     "name": "stderr",
     "output_type": "stream",
     "text": [
      "ERROR:A part usage must be typed by item definitions and at least one part definition. (1.sysml line : 41 column : 4)\n"
     ]
    },
    {
     "name": "stderr",
     "output_type": "stream",
     "text": [
      "ERROR:A part usage must be typed by item definitions and at least one part definition. (1.sysml line : 46 column : 2)\n"
     ]
    },
    {
     "name": "stderr",
     "output_type": "stream",
     "text": [
      "ERROR:A part usage must be typed by item definitions and at least one part definition. (1.sysml line : 47 column : 3)\n"
     ]
    },
    {
     "name": "stderr",
     "output_type": "stream",
     "text": [
      "ERROR:A part usage must be typed by item definitions and at least one part definition. (1.sysml line : 48 column : 4)\n"
     ]
    },
    {
     "name": "stderr",
     "output_type": "stream",
     "text": [
      "ERROR:A port must be typed by port definitions. (1.sysml line : 49 column : 5)\n"
     ]
    },
    {
     "name": "stderr",
     "output_type": "stream",
     "text": [
      "ERROR:A part usage must be typed by item definitions and at least one part definition. (1.sysml line : 51 column : 4)\n"
     ]
    },
    {
     "name": "stderr",
     "output_type": "stream",
     "text": [
      "ERROR:A port must be typed by port definitions. (1.sysml line : 52 column : 5)\n"
     ]
    },
    {
     "name": "stderr",
     "output_type": "stream",
     "text": [
      "ERROR:A part usage must be typed by item definitions and at least one part definition. (1.sysml line : 55 column : 4)\n"
     ]
    },
    {
     "name": "stderr",
     "output_type": "stream",
     "text": [
      "ERROR:A port must be typed by port definitions. (1.sysml line : 56 column : 5)\n"
     ]
    },
    {
     "name": "stderr",
     "output_type": "stream",
     "text": [
      "ERROR:A port must be typed by port definitions. (1.sysml line : 57 column : 5)\n"
     ]
    },
    {
     "name": "stderr",
     "output_type": "stream",
     "text": [
      "ERROR:An interface must be typed by one interface definition. (1.sysml line : 60 column : 4)\n"
     ]
    },
    {
     "name": "stderr",
     "output_type": "stream",
     "text": [
      "ERROR:An interface must be typed by one interface definition. (1.sysml line : 63 column : 4)\n"
     ]
    },
    {
     "name": "stderr",
     "output_type": "stream",
     "text": [
      "ERROR:A part usage must be typed by item definitions and at least one part definition. (1.sysml line : 67 column : 3)\n"
     ]
    },
    {
     "name": "stderr",
     "output_type": "stream",
     "text": [
      "ERROR:A part usage must be typed by item definitions and at least one part definition. (1.sysml line : 68 column : 4)\n"
     ]
    },
    {
     "name": "stderr",
     "output_type": "stream",
     "text": [
      "ERROR:A port must be typed by port definitions. (1.sysml line : 69 column : 5)\n"
     ]
    },
    {
     "name": "stderr",
     "output_type": "stream",
     "text": [
      "ERROR:A part usage must be typed by item definitions and at least one part definition. (1.sysml line : 71 column : 4)\n"
     ]
    },
    {
     "name": "stderr",
     "output_type": "stream",
     "text": [
      "ERROR:A port must be typed by port definitions. (1.sysml line : 72 column : 5)\n"
     ]
    },
    {
     "name": "stderr",
     "output_type": "stream",
     "text": [
      "ERROR:A part usage must be typed by item definitions and at least one part definition. (1.sysml line : 75 column : 4)\n"
     ]
    },
    {
     "name": "stderr",
     "output_type": "stream",
     "text": [
      "ERROR:A port must be typed by port definitions. (1.sysml line : 76 column : 5)\n"
     ]
    },
    {
     "name": "stderr",
     "output_type": "stream",
     "text": [
      "ERROR:A port must be typed by port definitions. (1.sysml line : 77 column : 5)\n"
     ]
    },
    {
     "name": "stderr",
     "output_type": "stream",
     "text": [
      "ERROR:An interface must be typed by one interface definition. (1.sysml line : 80 column : 4)\n"
     ]
    },
    {
     "name": "stderr",
     "output_type": "stream",
     "text": [
      "ERROR:An interface must be typed by one interface definition. (1.sysml line : 83 column : 4)\n"
     ]
    },
    {
     "name": "stderr",
     "output_type": "stream",
     "text": [
      "ERROR:A part usage must be typed by item definitions and at least one part definition. (1.sysml line : 89 column : 2)\n"
     ]
    },
    {
     "name": "stderr",
     "output_type": "stream",
     "text": [
      "ERROR:A part usage must be typed by item definitions and at least one part definition. (1.sysml line : 91 column : 3)\n"
     ]
    },
    {
     "name": "stderr",
     "output_type": "stream",
     "text": [
      "ERROR:A port must be typed by port definitions. (1.sysml line : 92 column : 4)\n"
     ]
    },
    {
     "name": "stderr",
     "output_type": "stream",
     "text": [
      "ERROR:A part usage must be typed by item definitions and at least one part definition. (1.sysml line : 95 column : 3)\n"
     ]
    },
    {
     "name": "stderr",
     "output_type": "stream",
     "text": [
      "ERROR:A part usage must be typed by item definitions and at least one part definition. (1.sysml line : 96 column : 4)\n"
     ]
    },
    {
     "name": "stderr",
     "output_type": "stream",
     "text": [
      "ERROR:A port must be typed by port definitions. (1.sysml line : 97 column : 5)\n"
     ]
    },
    {
     "data": {
      "text/plain": []
     },
     "execution_count": 1,
     "metadata": {},
     "output_type": "execute_result"
    }
   ],
   "source": [
    "/**\n",
    " * Example usages of elements from the vehicle definitions model.\n",
    " **/\n",
    "package VehicleUsages {\n",
    "\timport SI::N;\n",
    "\timport SI::m;\n",
    "\timport VehicleDefinitions::*;\n",
    "\timport ScalarFunctions::*;\n",
    "\n",
    "\t/* VALUES */\t \n",
    "\tT1 = 10.0@[N * m];\n",
    "\tT2 = 20.0@[N * m];\n",
    "\t\n",
    "\t/* PARTS */\t\n",
    "\t/** Narrow-rim wheel configuration with 4 to 5 lugbolts. **/\n",
    "\tpart narrowRimWheel: Wheel {\n",
    "\t\tpart lugbolt: Lugbolt[4..5];\n",
    "\t}\n",
    "\t\n",
    "\t/** Wide-rim wheel configuration with 4 to 6 lugbolts. **/\t\n",
    "\tpart wideRimWheel: Wheel {\n",
    "\t\tpart lugbolt: Lugbolt[4..6];\n",
    "\t}\n",
    "\n",
    "\t/** Basic Vehicle configuration showing a part hierarchy. **/\n",
    "\tpart vehicle_C1: Vehicle {\n",
    "\t\tpart frontAxleAssembly: AxleAssembly {\n",
    "\t\t\tpart frontWheel[2] redefines narrowRimWheel {\n",
    "\t\t\t\tpart lugbolt[4] redefines narrowRimWheel::lugbolt {\n",
    "\t\t\t\t\tattribute tighteningTorque redefines Lugbolt::tighteningTorque = T1;\n",
    "\t\t\t\t}\n",
    "\t\t\t}\n",
    "\t\t\tpart frontAxle: Axle;\n",
    "\t\t}\t\t\n",
    "\t\tpart rearAxleAssembly: VehicleDefinitions::AxleAssembly {\n",
    "\t\t\tpart rearWheel[2] redefines wideRimWheel {\n",
    "\t\t\t\tpart lugbolt[6] redefines wideRimWheel::lugbolt {\n",
    "\t\t\t\t\tattribute tighteningTorque redefines Lugbolt::tighteningTorque = T2;\n",
    "\t\t\t\t}\n",
    "\t\t\t}\n",
    "\t\t\tpart rearAxle: Axle;\t\t\t\n",
    "\t\t}\n",
    "\t}\n",
    "\t\n",
    "\t/** Specialized configuration with part-specific ports. **/\n",
    "\tpart vehicle_C2 subsets vehicle_C1 {\n",
    "\t\tpart frontAxleAssembly redefines vehicle_C1::frontAxleAssembly {\n",
    "\t\t\tpart leftFrontWheel subsets vehicle_C1::frontAxleAssembly::frontWheel = vehicle_C1::frontAxleAssembly::frontWheel[1] {\n",
    "\t\t\t\tport hub: VehicleDefinitions::WheelHubIF;\n",
    "\t\t\t}\n",
    "\t\t\tpart rightFrontWheel subsets vehicle_C1::frontAxleAssembly::frontWheel = vehicle_C1::frontAxleAssembly::frontWheel[2] {\n",
    "\t\t\t\tport hub: VehicleDefinitions::WheelHubIF;\n",
    "\t\t\t}\n",
    "\t\t\t\n",
    "\t\t\tpart frontAxle redefines vehicle_C1::frontAxleAssembly::frontAxle {\n",
    "\t\t\t\tport leftMountingPoint: AxleMountIF;\n",
    "\t\t\t\tport rightMountingPoint: AxleMountIF;\n",
    "\t\t\t}\n",
    "\t\t\n",
    "\t\t\tinterface leftFrontMount: Mounting connect \n",
    "\t\t\t\tfrontAxle::leftMountingPoint to leftFrontWheel::hub;\n",
    "\t\t\t\t\n",
    "\t\t\tinterface rightFrontMount: Mounting connect \n",
    "\t\t\t\tfrontAxle::rightMountingPoint to rightFrontWheel::hub;\n",
    "\t\t}\n",
    "\t\t\n",
    "\t\tpart rearAxleAssembly redefines vehicle_C1::rearAxleAssembly {\n",
    "\t\t\tpart leftRearWheel subsets vehicle_C1::rearAxleAssembly::rearWheel = vehicle_C1::rearAxleAssembly::rearWheel[1] {\n",
    "\t\t\t\tport hub: WheelHubIF;\n",
    "\t\t\t}\n",
    "\t\t\tpart rightRearWheel subsets vehicle_C1::rearAxleAssembly::rearWheel = vehicle_C1::rearAxleAssembly::rearWheel[2] {\n",
    "\t\t\t\tport hub: WheelHubIF;\n",
    "\t\t\t}\n",
    "\n",
    "\t\t\tpart rearAxle redefines vehicle_C1::rearAxleAssembly::rearAxle {\n",
    "\t\t\t\tport leftMountingPoint: AxleMountIF;\n",
    "\t\t\t\tport rightMountingPoint: AxleMountIF;\n",
    "\t\t\t}\n",
    "\t\t\t\n",
    "\t\t\tinterface leftRearMount: Mounting connect \n",
    "\t\t\t\trearAxle::leftMountingPoint to leftRearWheel::hub;\n",
    "\t\t\t\t\n",
    "\t\t\tinterface rightRearMount: Mounting connect \n",
    "\t\t\t\trearAxle::rightMountingPoint to rightRearWheel::hub;\n",
    "\t\t}\t\t\n",
    "\t}\n",
    "\t\n",
    "\t/** Further specialized configuration with a connector to a deeply-nested port. **/\n",
    "\tpart vehicle_C3 subsets vehicle_C2 {\n",
    "\t\t\n",
    "\t\tpart transmission: Transmission {\n",
    "\t\t\tport drive: DriveIF;\n",
    "\t\t}\n",
    "\t\t\n",
    "\t\tpart rearAxleAssembly redefines vehicle_C2::rearAxleAssembly {\n",
    "\t\t\tpart rearAxle redefines vehicle_C2::rearAxleAssembly::rearAxle {\n",
    "\t\t\t\tport drive: DriveIF;\n",
    "\t\t\t}\n",
    "\t\t}\n",
    "\t\t\n",
    "\t\tinterface driveShaft connect \n",
    "\t\t\ttransmission::drive to rearAxleAssembly::rearAxle::drive;\t\t\t\n",
    "\t}\n",
    "}"
   ]
  }
 ],
 "metadata": {
  "kernelspec": {
   "display_name": "SysML",
   "language": "sysml",
   "name": "sysml"
  },
  "language_info": {
   "codemirror_mode": "sysml",
   "file_extension": ".sysml",
   "mimetype": "text/x-sysml",
   "name": "SysML",
   "pygments_lexer": "java",
   "version": "1.0.0"
  }
 },
 "nbformat": 4,
 "nbformat_minor": 5
}
