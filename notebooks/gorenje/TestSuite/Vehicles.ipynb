{
 "cells": [
  {
   "cell_type": "markdown",
   "id": "bce54cd9",
   "metadata": {},
   "source": [
    "# SysML v2 Test Suite\n",
    "\n",
    "This can notebook can be cleared using menu `Edit --> Clear All Outputs` and then all cells can be\n",
    "run using menu `Run --> Run All Cells`.\n",
    "\n",
    "**WARNING**: This file is generated, all modifications here will be ignored.\n"
   ]
  },
  {
   "cell_type": "markdown",
   "id": "903f8398",
   "metadata": {},
   "source": [
    "## File: ../../sysml/src/examples/Mass Roll-up Example/Vehicles.sysml"
   ]
  },
  {
   "cell_type": "code",
   "execution_count": 1,
   "id": "8fdbc069",
   "metadata": {
    "execution": {
     "iopub.execute_input": "2021-04-20T07:32:58.010458Z",
     "iopub.status.busy": "2021-04-20T07:32:58.009337Z",
     "iopub.status.idle": "2021-04-20T07:32:58.932510Z",
     "shell.execute_reply": "2021-04-20T07:32:58.929159Z"
    }
   },
   "outputs": [
    {
     "name": "stderr",
     "output_type": "stream",
     "text": [
      "ERROR:Couldn't resolve reference to Namespace 'MassRollup'. (1.sysml line : 3 column : 9)\n"
     ]
    },
    {
     "name": "stderr",
     "output_type": "stream",
     "text": [
      "ERROR:Couldn't resolve reference to Classifier 'MassedThing'. (1.sysml line : 5 column : 22)\n"
     ]
    },
    {
     "name": "stderr",
     "output_type": "stream",
     "text": [
      "ERROR:Couldn't resolve reference to Feature 'compositeThing'. (1.sysml line : 9 column : 23)\n"
     ]
    },
    {
     "name": "stderr",
     "output_type": "stream",
     "text": [
      "ERROR:Couldn't resolve reference to Feature 'subcomponents'. (1.sysml line : 12 column : 39)\n"
     ]
    },
    {
     "name": "stderr",
     "output_type": "stream",
     "text": [
      "ERROR:Couldn't resolve reference to Feature 'simpleThing'. (1.sysml line : 14 column : 18)\n"
     ]
    },
    {
     "name": "stderr",
     "output_type": "stream",
     "text": [
      "ERROR:Couldn't resolve reference to Feature 'car::engine::mass'. (1.sysml line : 28 column : 14)\n"
     ]
    },
    {
     "name": "stderr",
     "output_type": "stream",
     "text": [
      "ERROR:Couldn't resolve reference to Feature 'simpleThing'. (1.sysml line : 18 column : 24)\n"
     ]
    },
    {
     "name": "stderr",
     "output_type": "stream",
     "text": [
      "ERROR:Couldn't resolve reference to Feature 'car::engine::mass'. (1.sysml line : 32 column : 14)\n"
     ]
    },
    {
     "name": "stderr",
     "output_type": "stream",
     "text": [
      "ERROR:Features must have at least one type (1.sysml line : 28 column : 4)\n"
     ]
    },
    {
     "name": "stderr",
     "output_type": "stream",
     "text": [
      "ERROR:Features must have at least one type (1.sysml line : 32 column : 4)\n"
     ]
    },
    {
     "data": {
      "text/plain": []
     },
     "execution_count": 1,
     "metadata": {},
     "output_type": "execute_result"
    }
   ],
   "source": [
    "package VehicleMasses {\n",
    "\timport ScalarValues::*;\n",
    "\timport MassRollup::*;\n",
    "\t\n",
    "\tpart def CarPart :> MassedThing {\t\t\t\n",
    "\t\tattribute serialNumber: String;\n",
    "\t}\n",
    "\t\n",
    "\tpart car: CarPart :> compositeThing {\t\n",
    "\t\tattribute vin redefines serialNumber;\n",
    "\t\t\n",
    "\t\tpart carParts: CarPart[*] redefines subcomponents;\n",
    "\t\t\n",
    "\t\tpart engine :> simpleThing, carParts {\n",
    "\t\t\t//...\n",
    "\t\t}\n",
    "\t\t\n",
    "\t\tpart transmission :> simpleThing, carParts {\n",
    "\t\t\t//...\n",
    "\t\t}\n",
    "\t}\n",
    "\n",
    "\t// Example usage\n",
    "\timport SI::*;\t\n",
    "\tpart c :> car {\n",
    "\t\tredefines mass = 1000@[kg];\n",
    "\t\tpart redefines engine {\n",
    "\t\t\tredefines car::engine::mass = 100@[kg];\n",
    "\t\t}\n",
    "\t\t\n",
    "\t\tpart redefines transmission {\n",
    "\t\t\tredefines car::engine::mass = 50@[kg];\n",
    "\t\t}\t\n",
    "\t}\n",
    "\t\n",
    "\t// c::totalMass --> 1150.0@[kg]\n",
    "}"
   ]
  },
  {
   "cell_type": "code",
   "execution_count": 2,
   "id": "03a2cba8",
   "metadata": {
    "execution": {
     "iopub.execute_input": "2021-04-20T07:32:58.984686Z",
     "iopub.status.busy": "2021-04-20T07:32:58.978978Z",
     "iopub.status.idle": "2021-04-20T07:32:59.002311Z",
     "shell.execute_reply": "2021-04-20T07:32:59.001553Z"
    }
   },
   "outputs": [
    {
     "data": {
      "text/plain": [
       "ERROR:Couldn't resolve reference to Element 'VehicleMasses'\n"
      ]
     },
     "execution_count": 2,
     "metadata": {},
     "output_type": "execute_result"
    }
   ],
   "source": [
    "%viz --style=\"COMPTREE\" --view=\"Default\" \"VehicleMasses\""
   ]
  },
  {
   "cell_type": "code",
   "execution_count": 3,
   "id": "adef4b03",
   "metadata": {
    "execution": {
     "iopub.execute_input": "2021-04-20T07:32:59.057172Z",
     "iopub.status.busy": "2021-04-20T07:32:59.053951Z",
     "iopub.status.idle": "2021-04-20T07:32:59.059693Z",
     "shell.execute_reply": "2021-04-20T07:32:59.057893Z"
    }
   },
   "outputs": [
    {
     "data": {
      "text/plain": [
       "ERROR:Couldn't resolve reference to Element 'VehicleMasses'\n"
      ]
     },
     "execution_count": 3,
     "metadata": {},
     "output_type": "execute_result"
    }
   ],
   "source": [
    "%viz --style=\"COMPTREE\" --view=\"Tree\" \"VehicleMasses\""
   ]
  },
  {
   "cell_type": "code",
   "execution_count": 4,
   "id": "721f2929",
   "metadata": {
    "execution": {
     "iopub.execute_input": "2021-04-20T07:32:59.119961Z",
     "iopub.status.busy": "2021-04-20T07:32:59.118548Z",
     "iopub.status.idle": "2021-04-20T07:32:59.124796Z",
     "shell.execute_reply": "2021-04-20T07:32:59.123411Z"
    }
   },
   "outputs": [
    {
     "data": {
      "text/plain": [
       "ERROR:Couldn't resolve reference to Element 'VehicleMasses'\n"
      ]
     },
     "execution_count": 4,
     "metadata": {},
     "output_type": "execute_result"
    }
   ],
   "source": [
    "%viz --style=\"COMPTREE\" --view=\"State\" \"VehicleMasses\""
   ]
  },
  {
   "cell_type": "code",
   "execution_count": 5,
   "id": "5f75e6f5",
   "metadata": {
    "execution": {
     "iopub.execute_input": "2021-04-20T07:32:59.191510Z",
     "iopub.status.busy": "2021-04-20T07:32:59.187545Z",
     "iopub.status.idle": "2021-04-20T07:32:59.193010Z",
     "shell.execute_reply": "2021-04-20T07:32:59.188959Z"
    }
   },
   "outputs": [
    {
     "data": {
      "text/plain": [
       "ERROR:Couldn't resolve reference to Element 'VehicleMasses'\n"
      ]
     },
     "execution_count": 5,
     "metadata": {},
     "output_type": "execute_result"
    }
   ],
   "source": [
    "%viz --style=\"COMPTREE\" --view=\"Interconnection\" \"VehicleMasses\""
   ]
  },
  {
   "cell_type": "code",
   "execution_count": 6,
   "id": "5645b81f",
   "metadata": {
    "execution": {
     "iopub.execute_input": "2021-04-20T07:32:59.243681Z",
     "iopub.status.busy": "2021-04-20T07:32:59.242655Z",
     "iopub.status.idle": "2021-04-20T07:32:59.246266Z",
     "shell.execute_reply": "2021-04-20T07:32:59.243094Z"
    }
   },
   "outputs": [
    {
     "data": {
      "text/plain": [
       "ERROR:Couldn't resolve reference to Element 'VehicleMasses'\n"
      ]
     },
     "execution_count": 6,
     "metadata": {},
     "output_type": "execute_result"
    }
   ],
   "source": [
    "%viz --style=\"COMPTREE\" --view=\"Action\" \"VehicleMasses\""
   ]
  },
  {
   "cell_type": "code",
   "execution_count": 7,
   "id": "6767d048",
   "metadata": {
    "execution": {
     "iopub.execute_input": "2021-04-20T07:32:59.294802Z",
     "iopub.status.busy": "2021-04-20T07:32:59.294349Z",
     "iopub.status.idle": "2021-04-20T07:32:59.298666Z",
     "shell.execute_reply": "2021-04-20T07:32:59.299199Z"
    }
   },
   "outputs": [
    {
     "data": {
      "text/plain": [
       "ERROR:Couldn't resolve reference to Element 'VehicleMasses'\n"
      ]
     },
     "execution_count": 7,
     "metadata": {},
     "output_type": "execute_result"
    }
   ],
   "source": [
    "%viz --style=\"COMPTREE\" --view=\"Sequence\" \"VehicleMasses\""
   ]
  },
  {
   "cell_type": "code",
   "execution_count": 8,
   "id": "52e298ba",
   "metadata": {
    "execution": {
     "iopub.execute_input": "2021-04-20T07:32:59.350710Z",
     "iopub.status.busy": "2021-04-20T07:32:59.349794Z",
     "iopub.status.idle": "2021-04-20T07:32:59.353475Z",
     "shell.execute_reply": "2021-04-20T07:32:59.353003Z"
    }
   },
   "outputs": [
    {
     "data": {
      "text/plain": [
       "ERROR:Couldn't resolve reference to Element 'VehicleMasses'\n"
      ]
     },
     "execution_count": 8,
     "metadata": {},
     "output_type": "execute_result"
    }
   ],
   "source": [
    "%viz --style=\"COMPTREE\" --view=\"MIXED\" \"VehicleMasses\""
   ]
  },
  {
   "cell_type": "code",
   "execution_count": 9,
   "id": "0d286144",
   "metadata": {
    "execution": {
     "iopub.execute_input": "2021-04-20T07:32:59.405377Z",
     "iopub.status.busy": "2021-04-20T07:32:59.403080Z",
     "iopub.status.idle": "2021-04-20T07:32:59.409076Z",
     "shell.execute_reply": "2021-04-20T07:32:59.408647Z"
    }
   },
   "outputs": [
    {
     "data": {
      "text/plain": [
       "ERROR:Couldn't resolve reference to Element 'VehicleMasses'\n"
      ]
     },
     "execution_count": 9,
     "metadata": {},
     "output_type": "execute_result"
    }
   ],
   "source": [
    "%viz --style=\"POLYLINE\" --view=\"Default\" \"VehicleMasses\""
   ]
  },
  {
   "cell_type": "code",
   "execution_count": 10,
   "id": "4f70954a",
   "metadata": {
    "execution": {
     "iopub.execute_input": "2021-04-20T07:32:59.468274Z",
     "iopub.status.busy": "2021-04-20T07:32:59.466544Z",
     "iopub.status.idle": "2021-04-20T07:32:59.471837Z",
     "shell.execute_reply": "2021-04-20T07:32:59.468797Z"
    }
   },
   "outputs": [
    {
     "data": {
      "text/plain": [
       "ERROR:Couldn't resolve reference to Element 'VehicleMasses'\n"
      ]
     },
     "execution_count": 10,
     "metadata": {},
     "output_type": "execute_result"
    }
   ],
   "source": [
    "%viz --style=\"POLYLINE\" --view=\"Tree\" \"VehicleMasses\""
   ]
  },
  {
   "cell_type": "code",
   "execution_count": 11,
   "id": "988e4833",
   "metadata": {
    "execution": {
     "iopub.execute_input": "2021-04-20T07:32:59.519479Z",
     "iopub.status.busy": "2021-04-20T07:32:59.518752Z",
     "iopub.status.idle": "2021-04-20T07:32:59.520899Z",
     "shell.execute_reply": "2021-04-20T07:32:59.519858Z"
    }
   },
   "outputs": [
    {
     "data": {
      "text/plain": [
       "ERROR:Couldn't resolve reference to Element 'VehicleMasses'\n"
      ]
     },
     "execution_count": 11,
     "metadata": {},
     "output_type": "execute_result"
    }
   ],
   "source": [
    "%viz --style=\"POLYLINE\" --view=\"State\" \"VehicleMasses\""
   ]
  },
  {
   "cell_type": "code",
   "execution_count": 12,
   "id": "10cd45a0",
   "metadata": {
    "execution": {
     "iopub.execute_input": "2021-04-20T07:32:59.572348Z",
     "iopub.status.busy": "2021-04-20T07:32:59.571708Z",
     "iopub.status.idle": "2021-04-20T07:32:59.573895Z",
     "shell.execute_reply": "2021-04-20T07:32:59.572722Z"
    }
   },
   "outputs": [
    {
     "data": {
      "text/plain": [
       "ERROR:Couldn't resolve reference to Element 'VehicleMasses'\n"
      ]
     },
     "execution_count": 12,
     "metadata": {},
     "output_type": "execute_result"
    }
   ],
   "source": [
    "%viz --style=\"POLYLINE\" --view=\"Interconnection\" \"VehicleMasses\""
   ]
  },
  {
   "cell_type": "code",
   "execution_count": 13,
   "id": "85b2980f",
   "metadata": {
    "execution": {
     "iopub.execute_input": "2021-04-20T07:32:59.626003Z",
     "iopub.status.busy": "2021-04-20T07:32:59.625321Z",
     "iopub.status.idle": "2021-04-20T07:32:59.628718Z",
     "shell.execute_reply": "2021-04-20T07:32:59.626558Z"
    }
   },
   "outputs": [
    {
     "data": {
      "text/plain": [
       "ERROR:Couldn't resolve reference to Element 'VehicleMasses'\n"
      ]
     },
     "execution_count": 13,
     "metadata": {},
     "output_type": "execute_result"
    }
   ],
   "source": [
    "%viz --style=\"POLYLINE\" --view=\"Action\" \"VehicleMasses\""
   ]
  },
  {
   "cell_type": "code",
   "execution_count": 14,
   "id": "3bed32b0",
   "metadata": {
    "execution": {
     "iopub.execute_input": "2021-04-20T07:32:59.679459Z",
     "iopub.status.busy": "2021-04-20T07:32:59.678703Z",
     "iopub.status.idle": "2021-04-20T07:32:59.681039Z",
     "shell.execute_reply": "2021-04-20T07:32:59.679874Z"
    }
   },
   "outputs": [
    {
     "data": {
      "text/plain": [
       "ERROR:Couldn't resolve reference to Element 'VehicleMasses'\n"
      ]
     },
     "execution_count": 14,
     "metadata": {},
     "output_type": "execute_result"
    }
   ],
   "source": [
    "%viz --style=\"POLYLINE\" --view=\"Sequence\" \"VehicleMasses\""
   ]
  },
  {
   "cell_type": "code",
   "execution_count": 15,
   "id": "8446daf4",
   "metadata": {
    "execution": {
     "iopub.execute_input": "2021-04-20T07:32:59.731691Z",
     "iopub.status.busy": "2021-04-20T07:32:59.730821Z",
     "iopub.status.idle": "2021-04-20T07:32:59.740902Z",
     "shell.execute_reply": "2021-04-20T07:32:59.739371Z"
    }
   },
   "outputs": [
    {
     "data": {
      "text/plain": [
       "ERROR:Couldn't resolve reference to Element 'VehicleMasses'\n"
      ]
     },
     "execution_count": 15,
     "metadata": {},
     "output_type": "execute_result"
    }
   ],
   "source": [
    "%viz --style=\"POLYLINE\" --view=\"MIXED\" \"VehicleMasses\""
   ]
  },
  {
   "cell_type": "code",
   "execution_count": 16,
   "id": "604ff07f",
   "metadata": {
    "execution": {
     "iopub.execute_input": "2021-04-20T07:32:59.792986Z",
     "iopub.status.busy": "2021-04-20T07:32:59.792551Z",
     "iopub.status.idle": "2021-04-20T07:32:59.795475Z",
     "shell.execute_reply": "2021-04-20T07:32:59.795777Z"
    }
   },
   "outputs": [
    {
     "data": {
      "text/plain": [
       "ERROR:Couldn't resolve reference to Element 'VehicleMasses'\n"
      ]
     },
     "execution_count": 16,
     "metadata": {},
     "output_type": "execute_result"
    }
   ],
   "source": [
    "%viz --style=\"LR\" --view=\"Default\" \"VehicleMasses\""
   ]
  },
  {
   "cell_type": "code",
   "execution_count": 17,
   "id": "39d27ae7",
   "metadata": {
    "execution": {
     "iopub.execute_input": "2021-04-20T07:32:59.847097Z",
     "iopub.status.busy": "2021-04-20T07:32:59.846671Z",
     "iopub.status.idle": "2021-04-20T07:32:59.851389Z",
     "shell.execute_reply": "2021-04-20T07:32:59.849995Z"
    }
   },
   "outputs": [
    {
     "data": {
      "text/plain": [
       "ERROR:Couldn't resolve reference to Element 'VehicleMasses'\n"
      ]
     },
     "execution_count": 17,
     "metadata": {},
     "output_type": "execute_result"
    }
   ],
   "source": [
    "%viz --style=\"LR\" --view=\"Tree\" \"VehicleMasses\""
   ]
  },
  {
   "cell_type": "code",
   "execution_count": 18,
   "id": "3340d935",
   "metadata": {
    "execution": {
     "iopub.execute_input": "2021-04-20T07:32:59.903315Z",
     "iopub.status.busy": "2021-04-20T07:32:59.902579Z",
     "iopub.status.idle": "2021-04-20T07:32:59.905067Z",
     "shell.execute_reply": "2021-04-20T07:32:59.903746Z"
    }
   },
   "outputs": [
    {
     "data": {
      "text/plain": [
       "ERROR:Couldn't resolve reference to Element 'VehicleMasses'\n"
      ]
     },
     "execution_count": 18,
     "metadata": {},
     "output_type": "execute_result"
    }
   ],
   "source": [
    "%viz --style=\"LR\" --view=\"State\" \"VehicleMasses\""
   ]
  },
  {
   "cell_type": "code",
   "execution_count": 19,
   "id": "0e968856",
   "metadata": {
    "execution": {
     "iopub.execute_input": "2021-04-20T07:32:59.958780Z",
     "iopub.status.busy": "2021-04-20T07:32:59.957867Z",
     "iopub.status.idle": "2021-04-20T07:32:59.960224Z",
     "shell.execute_reply": "2021-04-20T07:32:59.959207Z"
    }
   },
   "outputs": [
    {
     "data": {
      "text/plain": [
       "ERROR:Couldn't resolve reference to Element 'VehicleMasses'\n"
      ]
     },
     "execution_count": 19,
     "metadata": {},
     "output_type": "execute_result"
    }
   ],
   "source": [
    "%viz --style=\"LR\" --view=\"Interconnection\" \"VehicleMasses\""
   ]
  },
  {
   "cell_type": "code",
   "execution_count": 20,
   "id": "7e9b1866",
   "metadata": {
    "execution": {
     "iopub.execute_input": "2021-04-20T07:33:00.010789Z",
     "iopub.status.busy": "2021-04-20T07:33:00.010246Z",
     "iopub.status.idle": "2021-04-20T07:33:00.012414Z",
     "shell.execute_reply": "2021-04-20T07:33:00.012058Z"
    }
   },
   "outputs": [
    {
     "data": {
      "text/plain": [
       "ERROR:Couldn't resolve reference to Element 'VehicleMasses'\n"
      ]
     },
     "execution_count": 20,
     "metadata": {},
     "output_type": "execute_result"
    }
   ],
   "source": [
    "%viz --style=\"LR\" --view=\"Action\" \"VehicleMasses\""
   ]
  },
  {
   "cell_type": "code",
   "execution_count": 21,
   "id": "294548d7",
   "metadata": {
    "execution": {
     "iopub.execute_input": "2021-04-20T07:33:00.064220Z",
     "iopub.status.busy": "2021-04-20T07:33:00.063653Z",
     "iopub.status.idle": "2021-04-20T07:33:00.066959Z",
     "shell.execute_reply": "2021-04-20T07:33:00.067455Z"
    }
   },
   "outputs": [
    {
     "data": {
      "text/plain": [
       "ERROR:Couldn't resolve reference to Element 'VehicleMasses'\n"
      ]
     },
     "execution_count": 21,
     "metadata": {},
     "output_type": "execute_result"
    }
   ],
   "source": [
    "%viz --style=\"LR\" --view=\"Sequence\" \"VehicleMasses\""
   ]
  },
  {
   "cell_type": "code",
   "execution_count": 22,
   "id": "b949882d",
   "metadata": {
    "execution": {
     "iopub.execute_input": "2021-04-20T07:33:00.120094Z",
     "iopub.status.busy": "2021-04-20T07:33:00.119439Z",
     "iopub.status.idle": "2021-04-20T07:33:00.122053Z",
     "shell.execute_reply": "2021-04-20T07:33:00.121631Z"
    }
   },
   "outputs": [
    {
     "data": {
      "text/plain": [
       "ERROR:Couldn't resolve reference to Element 'VehicleMasses'\n"
      ]
     },
     "execution_count": 22,
     "metadata": {},
     "output_type": "execute_result"
    }
   ],
   "source": [
    "%viz --style=\"LR\" --view=\"MIXED\" \"VehicleMasses\""
   ]
  },
  {
   "cell_type": "code",
   "execution_count": 23,
   "id": "488e6f27",
   "metadata": {
    "execution": {
     "iopub.execute_input": "2021-04-20T07:33:00.174710Z",
     "iopub.status.busy": "2021-04-20T07:33:00.173828Z",
     "iopub.status.idle": "2021-04-20T07:33:00.176449Z",
     "shell.execute_reply": "2021-04-20T07:33:00.176076Z"
    }
   },
   "outputs": [
    {
     "data": {
      "text/plain": [
       "ERROR:Couldn't resolve reference to Element 'VehicleMasses'\n"
      ]
     },
     "execution_count": 23,
     "metadata": {},
     "output_type": "execute_result"
    }
   ],
   "source": [
    "%viz --style=\"STDCOLOR\" --view=\"Default\" \"VehicleMasses\""
   ]
  },
  {
   "cell_type": "code",
   "execution_count": 24,
   "id": "723f8cfd",
   "metadata": {
    "execution": {
     "iopub.execute_input": "2021-04-20T07:33:00.227491Z",
     "iopub.status.busy": "2021-04-20T07:33:00.227040Z",
     "iopub.status.idle": "2021-04-20T07:33:00.231096Z",
     "shell.execute_reply": "2021-04-20T07:33:00.230728Z"
    }
   },
   "outputs": [
    {
     "data": {
      "text/plain": [
       "ERROR:Couldn't resolve reference to Element 'VehicleMasses'\n"
      ]
     },
     "execution_count": 24,
     "metadata": {},
     "output_type": "execute_result"
    }
   ],
   "source": [
    "%viz --style=\"STDCOLOR\" --view=\"Tree\" \"VehicleMasses\""
   ]
  },
  {
   "cell_type": "code",
   "execution_count": 25,
   "id": "80fa7e8b",
   "metadata": {
    "execution": {
     "iopub.execute_input": "2021-04-20T07:33:00.280959Z",
     "iopub.status.busy": "2021-04-20T07:33:00.280349Z",
     "iopub.status.idle": "2021-04-20T07:33:00.283945Z",
     "shell.execute_reply": "2021-04-20T07:33:00.281355Z"
    }
   },
   "outputs": [
    {
     "data": {
      "text/plain": [
       "ERROR:Couldn't resolve reference to Element 'VehicleMasses'\n"
      ]
     },
     "execution_count": 25,
     "metadata": {},
     "output_type": "execute_result"
    }
   ],
   "source": [
    "%viz --style=\"STDCOLOR\" --view=\"State\" \"VehicleMasses\""
   ]
  },
  {
   "cell_type": "code",
   "execution_count": 26,
   "id": "211867dc",
   "metadata": {
    "execution": {
     "iopub.execute_input": "2021-04-20T07:33:00.335452Z",
     "iopub.status.busy": "2021-04-20T07:33:00.334215Z",
     "iopub.status.idle": "2021-04-20T07:33:00.337471Z",
     "shell.execute_reply": "2021-04-20T07:33:00.336015Z"
    }
   },
   "outputs": [
    {
     "data": {
      "text/plain": [
       "ERROR:Couldn't resolve reference to Element 'VehicleMasses'\n"
      ]
     },
     "execution_count": 26,
     "metadata": {},
     "output_type": "execute_result"
    }
   ],
   "source": [
    "%viz --style=\"STDCOLOR\" --view=\"Interconnection\" \"VehicleMasses\""
   ]
  },
  {
   "cell_type": "code",
   "execution_count": 27,
   "id": "2326d1b9",
   "metadata": {
    "execution": {
     "iopub.execute_input": "2021-04-20T07:33:00.388543Z",
     "iopub.status.busy": "2021-04-20T07:33:00.387741Z",
     "iopub.status.idle": "2021-04-20T07:33:00.392000Z",
     "shell.execute_reply": "2021-04-20T07:33:00.389004Z"
    }
   },
   "outputs": [
    {
     "data": {
      "text/plain": [
       "ERROR:Couldn't resolve reference to Element 'VehicleMasses'\n"
      ]
     },
     "execution_count": 27,
     "metadata": {},
     "output_type": "execute_result"
    }
   ],
   "source": [
    "%viz --style=\"STDCOLOR\" --view=\"Action\" \"VehicleMasses\""
   ]
  },
  {
   "cell_type": "code",
   "execution_count": 28,
   "id": "90a24f39",
   "metadata": {
    "execution": {
     "iopub.execute_input": "2021-04-20T07:33:00.442862Z",
     "iopub.status.busy": "2021-04-20T07:33:00.442035Z",
     "iopub.status.idle": "2021-04-20T07:33:00.444458Z",
     "shell.execute_reply": "2021-04-20T07:33:00.444821Z"
    }
   },
   "outputs": [
    {
     "data": {
      "text/plain": [
       "ERROR:Couldn't resolve reference to Element 'VehicleMasses'\n"
      ]
     },
     "execution_count": 28,
     "metadata": {},
     "output_type": "execute_result"
    }
   ],
   "source": [
    "%viz --style=\"STDCOLOR\" --view=\"Sequence\" \"VehicleMasses\""
   ]
  },
  {
   "cell_type": "code",
   "execution_count": 29,
   "id": "92b36637",
   "metadata": {
    "execution": {
     "iopub.execute_input": "2021-04-20T07:33:00.494825Z",
     "iopub.status.busy": "2021-04-20T07:33:00.494283Z",
     "iopub.status.idle": "2021-04-20T07:33:00.496433Z",
     "shell.execute_reply": "2021-04-20T07:33:00.495255Z"
    }
   },
   "outputs": [
    {
     "data": {
      "text/plain": [
       "ERROR:Couldn't resolve reference to Element 'VehicleMasses'\n"
      ]
     },
     "execution_count": 29,
     "metadata": {},
     "output_type": "execute_result"
    }
   ],
   "source": [
    "%viz --style=\"STDCOLOR\" --view=\"MIXED\" \"VehicleMasses\""
   ]
  },
  {
   "cell_type": "code",
   "execution_count": 30,
   "id": "9505102a",
   "metadata": {
    "execution": {
     "iopub.execute_input": "2021-04-20T07:33:00.547095Z",
     "iopub.status.busy": "2021-04-20T07:33:00.546454Z",
     "iopub.status.idle": "2021-04-20T07:33:00.548484Z",
     "shell.execute_reply": "2021-04-20T07:33:00.548178Z"
    }
   },
   "outputs": [
    {
     "data": {
      "text/plain": [
       "ERROR:Couldn't resolve reference to Element 'VehicleMasses'\n"
      ]
     },
     "execution_count": 30,
     "metadata": {},
     "output_type": "execute_result"
    }
   ],
   "source": [
    "%viz --style=\"PLANTUML\" --view=\"Default\" \"VehicleMasses\""
   ]
  },
  {
   "cell_type": "code",
   "execution_count": 31,
   "id": "21d7b99c",
   "metadata": {
    "execution": {
     "iopub.execute_input": "2021-04-20T07:33:00.601404Z",
     "iopub.status.busy": "2021-04-20T07:33:00.599722Z",
     "iopub.status.idle": "2021-04-20T07:33:00.603722Z",
     "shell.execute_reply": "2021-04-20T07:33:00.602336Z"
    }
   },
   "outputs": [
    {
     "data": {
      "text/plain": [
       "ERROR:Couldn't resolve reference to Element 'VehicleMasses'\n"
      ]
     },
     "execution_count": 31,
     "metadata": {},
     "output_type": "execute_result"
    }
   ],
   "source": [
    "%viz --style=\"PLANTUML\" --view=\"Tree\" \"VehicleMasses\""
   ]
  },
  {
   "cell_type": "code",
   "execution_count": 32,
   "id": "411942c0",
   "metadata": {
    "execution": {
     "iopub.execute_input": "2021-04-20T07:33:00.654787Z",
     "iopub.status.busy": "2021-04-20T07:33:00.653898Z",
     "iopub.status.idle": "2021-04-20T07:33:00.656483Z",
     "shell.execute_reply": "2021-04-20T07:33:00.655242Z"
    }
   },
   "outputs": [
    {
     "data": {
      "text/plain": [
       "ERROR:Couldn't resolve reference to Element 'VehicleMasses'\n"
      ]
     },
     "execution_count": 32,
     "metadata": {},
     "output_type": "execute_result"
    }
   ],
   "source": [
    "%viz --style=\"PLANTUML\" --view=\"State\" \"VehicleMasses\""
   ]
  },
  {
   "cell_type": "code",
   "execution_count": 33,
   "id": "03906d97",
   "metadata": {
    "execution": {
     "iopub.execute_input": "2021-04-20T07:33:00.709062Z",
     "iopub.status.busy": "2021-04-20T07:33:00.707644Z",
     "iopub.status.idle": "2021-04-20T07:33:00.710965Z",
     "shell.execute_reply": "2021-04-20T07:33:00.709737Z"
    }
   },
   "outputs": [
    {
     "data": {
      "text/plain": [
       "ERROR:Couldn't resolve reference to Element 'VehicleMasses'\n"
      ]
     },
     "execution_count": 33,
     "metadata": {},
     "output_type": "execute_result"
    }
   ],
   "source": [
    "%viz --style=\"PLANTUML\" --view=\"Interconnection\" \"VehicleMasses\""
   ]
  },
  {
   "cell_type": "code",
   "execution_count": 34,
   "id": "60f445e0",
   "metadata": {
    "execution": {
     "iopub.execute_input": "2021-04-20T07:33:00.762659Z",
     "iopub.status.busy": "2021-04-20T07:33:00.762124Z",
     "iopub.status.idle": "2021-04-20T07:33:00.763943Z",
     "shell.execute_reply": "2021-04-20T07:33:00.763040Z"
    }
   },
   "outputs": [
    {
     "data": {
      "text/plain": [
       "ERROR:Couldn't resolve reference to Element 'VehicleMasses'\n"
      ]
     },
     "execution_count": 34,
     "metadata": {},
     "output_type": "execute_result"
    }
   ],
   "source": [
    "%viz --style=\"PLANTUML\" --view=\"Action\" \"VehicleMasses\""
   ]
  },
  {
   "cell_type": "code",
   "execution_count": 35,
   "id": "745d73f2",
   "metadata": {
    "execution": {
     "iopub.execute_input": "2021-04-20T07:33:00.814494Z",
     "iopub.status.busy": "2021-04-20T07:33:00.813925Z",
     "iopub.status.idle": "2021-04-20T07:33:00.815840Z",
     "shell.execute_reply": "2021-04-20T07:33:00.815435Z"
    }
   },
   "outputs": [
    {
     "data": {
      "text/plain": [
       "ERROR:Couldn't resolve reference to Element 'VehicleMasses'\n"
      ]
     },
     "execution_count": 35,
     "metadata": {},
     "output_type": "execute_result"
    }
   ],
   "source": [
    "%viz --style=\"PLANTUML\" --view=\"Sequence\" \"VehicleMasses\""
   ]
  },
  {
   "cell_type": "code",
   "execution_count": 36,
   "id": "98a1ecc6",
   "metadata": {
    "execution": {
     "iopub.execute_input": "2021-04-20T07:33:00.867718Z",
     "iopub.status.busy": "2021-04-20T07:33:00.866295Z",
     "iopub.status.idle": "2021-04-20T07:33:00.869843Z",
     "shell.execute_reply": "2021-04-20T07:33:00.868280Z"
    }
   },
   "outputs": [
    {
     "data": {
      "text/plain": [
       "ERROR:Couldn't resolve reference to Element 'VehicleMasses'\n"
      ]
     },
     "execution_count": 36,
     "metadata": {},
     "output_type": "execute_result"
    }
   ],
   "source": [
    "%viz --style=\"PLANTUML\" --view=\"MIXED\" \"VehicleMasses\""
   ]
  },
  {
   "cell_type": "code",
   "execution_count": 37,
   "id": "3514ec8e",
   "metadata": {
    "execution": {
     "iopub.execute_input": "2021-04-20T07:33:00.920148Z",
     "iopub.status.busy": "2021-04-20T07:33:00.919420Z",
     "iopub.status.idle": "2021-04-20T07:33:00.921556Z",
     "shell.execute_reply": "2021-04-20T07:33:00.920604Z"
    }
   },
   "outputs": [
    {
     "data": {
      "text/plain": [
       "ERROR:Couldn't resolve reference to Element 'VehicleMasses'\n"
      ]
     },
     "execution_count": 37,
     "metadata": {},
     "output_type": "execute_result"
    }
   ],
   "source": [
    "%viz --style=\"DEFAULT\" --view=\"Default\" \"VehicleMasses\""
   ]
  },
  {
   "cell_type": "code",
   "execution_count": 38,
   "id": "32d08892",
   "metadata": {
    "execution": {
     "iopub.execute_input": "2021-04-20T07:33:00.972923Z",
     "iopub.status.busy": "2021-04-20T07:33:00.972129Z",
     "iopub.status.idle": "2021-04-20T07:33:00.975683Z",
     "shell.execute_reply": "2021-04-20T07:33:00.973710Z"
    }
   },
   "outputs": [
    {
     "data": {
      "text/plain": [
       "ERROR:Couldn't resolve reference to Element 'VehicleMasses'\n"
      ]
     },
     "execution_count": 38,
     "metadata": {},
     "output_type": "execute_result"
    }
   ],
   "source": [
    "%viz --style=\"DEFAULT\" --view=\"Tree\" \"VehicleMasses\""
   ]
  },
  {
   "cell_type": "code",
   "execution_count": 39,
   "id": "9bceab2a",
   "metadata": {
    "execution": {
     "iopub.execute_input": "2021-04-20T07:33:01.025345Z",
     "iopub.status.busy": "2021-04-20T07:33:01.024627Z",
     "iopub.status.idle": "2021-04-20T07:33:01.027002Z",
     "shell.execute_reply": "2021-04-20T07:33:01.025737Z"
    }
   },
   "outputs": [
    {
     "data": {
      "text/plain": [
       "ERROR:Couldn't resolve reference to Element 'VehicleMasses'\n"
      ]
     },
     "execution_count": 39,
     "metadata": {},
     "output_type": "execute_result"
    }
   ],
   "source": [
    "%viz --style=\"DEFAULT\" --view=\"State\" \"VehicleMasses\""
   ]
  },
  {
   "cell_type": "code",
   "execution_count": 40,
   "id": "ac0f3d3e",
   "metadata": {
    "execution": {
     "iopub.execute_input": "2021-04-20T07:33:01.077785Z",
     "iopub.status.busy": "2021-04-20T07:33:01.077188Z",
     "iopub.status.idle": "2021-04-20T07:33:01.079417Z",
     "shell.execute_reply": "2021-04-20T07:33:01.078240Z"
    }
   },
   "outputs": [
    {
     "data": {
      "text/plain": [
       "ERROR:Couldn't resolve reference to Element 'VehicleMasses'\n"
      ]
     },
     "execution_count": 40,
     "metadata": {},
     "output_type": "execute_result"
    }
   ],
   "source": [
    "%viz --style=\"DEFAULT\" --view=\"Interconnection\" \"VehicleMasses\""
   ]
  },
  {
   "cell_type": "code",
   "execution_count": 41,
   "id": "ad23cee4",
   "metadata": {
    "execution": {
     "iopub.execute_input": "2021-04-20T07:33:01.131473Z",
     "iopub.status.busy": "2021-04-20T07:33:01.130541Z",
     "iopub.status.idle": "2021-04-20T07:33:01.135080Z",
     "shell.execute_reply": "2021-04-20T07:33:01.131929Z"
    }
   },
   "outputs": [
    {
     "data": {
      "text/plain": [
       "ERROR:Couldn't resolve reference to Element 'VehicleMasses'\n"
      ]
     },
     "execution_count": 41,
     "metadata": {},
     "output_type": "execute_result"
    }
   ],
   "source": [
    "%viz --style=\"DEFAULT\" --view=\"Action\" \"VehicleMasses\""
   ]
  },
  {
   "cell_type": "code",
   "execution_count": 42,
   "id": "f54453e7",
   "metadata": {
    "execution": {
     "iopub.execute_input": "2021-04-20T07:33:01.184075Z",
     "iopub.status.busy": "2021-04-20T07:33:01.183403Z",
     "iopub.status.idle": "2021-04-20T07:33:01.185694Z",
     "shell.execute_reply": "2021-04-20T07:33:01.184548Z"
    }
   },
   "outputs": [
    {
     "data": {
      "text/plain": [
       "ERROR:Couldn't resolve reference to Element 'VehicleMasses'\n"
      ]
     },
     "execution_count": 42,
     "metadata": {},
     "output_type": "execute_result"
    }
   ],
   "source": [
    "%viz --style=\"DEFAULT\" --view=\"Sequence\" \"VehicleMasses\""
   ]
  },
  {
   "cell_type": "code",
   "execution_count": 43,
   "id": "bd2e22c7",
   "metadata": {
    "execution": {
     "iopub.execute_input": "2021-04-20T07:33:01.237601Z",
     "iopub.status.busy": "2021-04-20T07:33:01.236955Z",
     "iopub.status.idle": "2021-04-20T07:33:01.239092Z",
     "shell.execute_reply": "2021-04-20T07:33:01.237955Z"
    }
   },
   "outputs": [
    {
     "data": {
      "text/plain": [
       "ERROR:Couldn't resolve reference to Element 'VehicleMasses'\n"
      ]
     },
     "execution_count": 43,
     "metadata": {},
     "output_type": "execute_result"
    }
   ],
   "source": [
    "%viz --style=\"DEFAULT\" --view=\"MIXED\" \"VehicleMasses\""
   ]
  },
  {
   "cell_type": "code",
   "execution_count": 44,
   "id": "f16a678b",
   "metadata": {
    "execution": {
     "iopub.execute_input": "2021-04-20T07:33:01.290056Z",
     "iopub.status.busy": "2021-04-20T07:33:01.289426Z",
     "iopub.status.idle": "2021-04-20T07:33:01.291514Z",
     "shell.execute_reply": "2021-04-20T07:33:01.290478Z"
    }
   },
   "outputs": [
    {
     "data": {
      "text/plain": [
       "ERROR:Couldn't resolve reference to Element 'VehicleMasses'\n"
      ]
     },
     "execution_count": 44,
     "metadata": {},
     "output_type": "execute_result"
    }
   ],
   "source": [
    "%viz --style=\"TB\" --view=\"Default\" \"VehicleMasses\""
   ]
  },
  {
   "cell_type": "code",
   "execution_count": 45,
   "id": "455f0a61",
   "metadata": {
    "execution": {
     "iopub.execute_input": "2021-04-20T07:33:01.343202Z",
     "iopub.status.busy": "2021-04-20T07:33:01.342229Z",
     "iopub.status.idle": "2021-04-20T07:33:01.345280Z",
     "shell.execute_reply": "2021-04-20T07:33:01.343715Z"
    }
   },
   "outputs": [
    {
     "data": {
      "text/plain": [
       "ERROR:Couldn't resolve reference to Element 'VehicleMasses'\n"
      ]
     },
     "execution_count": 45,
     "metadata": {},
     "output_type": "execute_result"
    }
   ],
   "source": [
    "%viz --style=\"TB\" --view=\"Tree\" \"VehicleMasses\""
   ]
  },
  {
   "cell_type": "code",
   "execution_count": 46,
   "id": "9c8040f0",
   "metadata": {
    "execution": {
     "iopub.execute_input": "2021-04-20T07:33:01.394655Z",
     "iopub.status.busy": "2021-04-20T07:33:01.394135Z",
     "iopub.status.idle": "2021-04-20T07:33:01.395810Z",
     "shell.execute_reply": "2021-04-20T07:33:01.394953Z"
    }
   },
   "outputs": [
    {
     "data": {
      "text/plain": [
       "ERROR:Couldn't resolve reference to Element 'VehicleMasses'\n"
      ]
     },
     "execution_count": 46,
     "metadata": {},
     "output_type": "execute_result"
    }
   ],
   "source": [
    "%viz --style=\"TB\" --view=\"State\" \"VehicleMasses\""
   ]
  },
  {
   "cell_type": "code",
   "execution_count": 47,
   "id": "981c7ea3",
   "metadata": {
    "execution": {
     "iopub.execute_input": "2021-04-20T07:33:01.446970Z",
     "iopub.status.busy": "2021-04-20T07:33:01.446415Z",
     "iopub.status.idle": "2021-04-20T07:33:01.448598Z",
     "shell.execute_reply": "2021-04-20T07:33:01.447356Z"
    }
   },
   "outputs": [
    {
     "data": {
      "text/plain": [
       "ERROR:Couldn't resolve reference to Element 'VehicleMasses'\n"
      ]
     },
     "execution_count": 47,
     "metadata": {},
     "output_type": "execute_result"
    }
   ],
   "source": [
    "%viz --style=\"TB\" --view=\"Interconnection\" \"VehicleMasses\""
   ]
  },
  {
   "cell_type": "code",
   "execution_count": 48,
   "id": "0c75e991",
   "metadata": {
    "execution": {
     "iopub.execute_input": "2021-04-20T07:33:01.499267Z",
     "iopub.status.busy": "2021-04-20T07:33:01.498704Z",
     "iopub.status.idle": "2021-04-20T07:33:01.501067Z",
     "shell.execute_reply": "2021-04-20T07:33:01.499618Z"
    }
   },
   "outputs": [
    {
     "data": {
      "text/plain": [
       "ERROR:Couldn't resolve reference to Element 'VehicleMasses'\n"
      ]
     },
     "execution_count": 48,
     "metadata": {},
     "output_type": "execute_result"
    }
   ],
   "source": [
    "%viz --style=\"TB\" --view=\"Action\" \"VehicleMasses\""
   ]
  },
  {
   "cell_type": "code",
   "execution_count": 49,
   "id": "8699c3ca",
   "metadata": {
    "execution": {
     "iopub.execute_input": "2021-04-20T07:33:01.554212Z",
     "iopub.status.busy": "2021-04-20T07:33:01.552595Z",
     "iopub.status.idle": "2021-04-20T07:33:01.555768Z",
     "shell.execute_reply": "2021-04-20T07:33:01.554645Z"
    }
   },
   "outputs": [
    {
     "data": {
      "text/plain": [
       "ERROR:Couldn't resolve reference to Element 'VehicleMasses'\n"
      ]
     },
     "execution_count": 49,
     "metadata": {},
     "output_type": "execute_result"
    }
   ],
   "source": [
    "%viz --style=\"TB\" --view=\"Sequence\" \"VehicleMasses\""
   ]
  },
  {
   "cell_type": "code",
   "execution_count": 50,
   "id": "3645c454",
   "metadata": {
    "execution": {
     "iopub.execute_input": "2021-04-20T07:33:01.605863Z",
     "iopub.status.busy": "2021-04-20T07:33:01.605433Z",
     "iopub.status.idle": "2021-04-20T07:33:01.607099Z",
     "shell.execute_reply": "2021-04-20T07:33:01.606189Z"
    }
   },
   "outputs": [
    {
     "data": {
      "text/plain": [
       "ERROR:Couldn't resolve reference to Element 'VehicleMasses'\n"
      ]
     },
     "execution_count": 50,
     "metadata": {},
     "output_type": "execute_result"
    }
   ],
   "source": [
    "%viz --style=\"TB\" --view=\"MIXED\" \"VehicleMasses\""
   ]
  },
  {
   "cell_type": "code",
   "execution_count": 51,
   "id": "8c3b358d",
   "metadata": {
    "execution": {
     "iopub.execute_input": "2021-04-20T07:33:01.658118Z",
     "iopub.status.busy": "2021-04-20T07:33:01.657505Z",
     "iopub.status.idle": "2021-04-20T07:33:01.659638Z",
     "shell.execute_reply": "2021-04-20T07:33:01.658578Z"
    }
   },
   "outputs": [
    {
     "data": {
      "text/plain": [
       "ERROR:Couldn't resolve reference to Element 'VehicleMasses'\n"
      ]
     },
     "execution_count": 51,
     "metadata": {},
     "output_type": "execute_result"
    }
   ],
   "source": [
    "%viz --style=\"ORTHOLINE\" --view=\"Default\" \"VehicleMasses\""
   ]
  },
  {
   "cell_type": "code",
   "execution_count": 52,
   "id": "5bce5073",
   "metadata": {
    "execution": {
     "iopub.execute_input": "2021-04-20T07:33:01.711567Z",
     "iopub.status.busy": "2021-04-20T07:33:01.710749Z",
     "iopub.status.idle": "2021-04-20T07:33:01.713254Z",
     "shell.execute_reply": "2021-04-20T07:33:01.711994Z"
    }
   },
   "outputs": [
    {
     "data": {
      "text/plain": [
       "ERROR:Couldn't resolve reference to Element 'VehicleMasses'\n"
      ]
     },
     "execution_count": 52,
     "metadata": {},
     "output_type": "execute_result"
    }
   ],
   "source": [
    "%viz --style=\"ORTHOLINE\" --view=\"Tree\" \"VehicleMasses\""
   ]
  },
  {
   "cell_type": "code",
   "execution_count": 53,
   "id": "6d13f62f",
   "metadata": {
    "execution": {
     "iopub.execute_input": "2021-04-20T07:33:01.763037Z",
     "iopub.status.busy": "2021-04-20T07:33:01.762508Z",
     "iopub.status.idle": "2021-04-20T07:33:01.764534Z",
     "shell.execute_reply": "2021-04-20T07:33:01.763485Z"
    }
   },
   "outputs": [
    {
     "data": {
      "text/plain": [
       "ERROR:Couldn't resolve reference to Element 'VehicleMasses'\n"
      ]
     },
     "execution_count": 53,
     "metadata": {},
     "output_type": "execute_result"
    }
   ],
   "source": [
    "%viz --style=\"ORTHOLINE\" --view=\"State\" \"VehicleMasses\""
   ]
  },
  {
   "cell_type": "code",
   "execution_count": 54,
   "id": "4ea09a88",
   "metadata": {
    "execution": {
     "iopub.execute_input": "2021-04-20T07:33:01.815572Z",
     "iopub.status.busy": "2021-04-20T07:33:01.814899Z",
     "iopub.status.idle": "2021-04-20T07:33:01.817167Z",
     "shell.execute_reply": "2021-04-20T07:33:01.815995Z"
    }
   },
   "outputs": [
    {
     "data": {
      "text/plain": [
       "ERROR:Couldn't resolve reference to Element 'VehicleMasses'\n"
      ]
     },
     "execution_count": 54,
     "metadata": {},
     "output_type": "execute_result"
    }
   ],
   "source": [
    "%viz --style=\"ORTHOLINE\" --view=\"Interconnection\" \"VehicleMasses\""
   ]
  },
  {
   "cell_type": "code",
   "execution_count": 55,
   "id": "38009ed0",
   "metadata": {
    "execution": {
     "iopub.execute_input": "2021-04-20T07:33:01.868202Z",
     "iopub.status.busy": "2021-04-20T07:33:01.867272Z",
     "iopub.status.idle": "2021-04-20T07:33:01.869298Z",
     "shell.execute_reply": "2021-04-20T07:33:01.867800Z"
    }
   },
   "outputs": [
    {
     "data": {
      "text/plain": [
       "ERROR:Couldn't resolve reference to Element 'VehicleMasses'\n"
      ]
     },
     "execution_count": 55,
     "metadata": {},
     "output_type": "execute_result"
    }
   ],
   "source": [
    "%viz --style=\"ORTHOLINE\" --view=\"Action\" \"VehicleMasses\""
   ]
  },
  {
   "cell_type": "code",
   "execution_count": 56,
   "id": "84bb9633",
   "metadata": {
    "execution": {
     "iopub.execute_input": "2021-04-20T07:33:01.920140Z",
     "iopub.status.busy": "2021-04-20T07:33:01.919340Z",
     "iopub.status.idle": "2021-04-20T07:33:01.921557Z",
     "shell.execute_reply": "2021-04-20T07:33:01.920555Z"
    }
   },
   "outputs": [
    {
     "data": {
      "text/plain": [
       "ERROR:Couldn't resolve reference to Element 'VehicleMasses'\n"
      ]
     },
     "execution_count": 56,
     "metadata": {},
     "output_type": "execute_result"
    }
   ],
   "source": [
    "%viz --style=\"ORTHOLINE\" --view=\"Sequence\" \"VehicleMasses\""
   ]
  },
  {
   "cell_type": "code",
   "execution_count": 57,
   "id": "73f0917a",
   "metadata": {
    "execution": {
     "iopub.execute_input": "2021-04-20T07:33:01.972805Z",
     "iopub.status.busy": "2021-04-20T07:33:01.971929Z",
     "iopub.status.idle": "2021-04-20T07:33:01.973953Z",
     "shell.execute_reply": "2021-04-20T07:33:01.972441Z"
    }
   },
   "outputs": [
    {
     "data": {
      "text/plain": [
       "ERROR:Couldn't resolve reference to Element 'VehicleMasses'\n"
      ]
     },
     "execution_count": 57,
     "metadata": {},
     "output_type": "execute_result"
    }
   ],
   "source": [
    "%viz --style=\"ORTHOLINE\" --view=\"MIXED\" \"VehicleMasses\""
   ]
  }
 ],
 "metadata": {
  "kernelspec": {
   "display_name": "SysML",
   "language": "sysml",
   "name": "sysml"
  },
  "language_info": {
   "codemirror_mode": "sysml",
   "file_extension": ".sysml",
   "mimetype": "text/x-sysml",
   "name": "SysML",
   "pygments_lexer": "java",
   "version": "1.0.0"
  }
 },
 "nbformat": 4,
 "nbformat_minor": 5
}
