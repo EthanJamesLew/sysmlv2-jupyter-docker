{
 "cells": [
  {
   "cell_type": "markdown",
   "id": "f7e526be",
   "metadata": {},
   "source": [
    "# SysML v2 Test Suite\n",
    "\n",
    "This can notebook can be cleared using menu `Edit --> Clear All Outputs` and then all cells can be\n",
    "run using menu `Run --> Run All Cells`.\n",
    "\n",
    "**WARNING**: This file is generated, all modifications here will be ignored.\n"
   ]
  },
  {
   "cell_type": "markdown",
   "id": "3ebec021",
   "metadata": {},
   "source": [
    "## File: ../../sysml/src/examples/Simple Tests/VerificationTest.sysml"
   ]
  },
  {
   "cell_type": "code",
   "execution_count": 1,
   "id": "12da2da6",
   "metadata": {
    "execution": {
     "iopub.execute_input": "2021-10-03T08:26:45.271995Z",
     "iopub.status.busy": "2021-10-03T08:26:45.270615Z",
     "iopub.status.idle": "2021-10-03T08:26:45.832331Z",
     "shell.execute_reply": "2021-10-03T08:26:45.832675Z"
    }
   },
   "outputs": [
    {
     "data": {
      "text/plain": [
       "Package VerificationTest (294e286f-48d3-47e9-80c3-9aee266a225f)\n"
      ]
     },
     "execution_count": 1,
     "metadata": {},
     "output_type": "execute_result"
    }
   ],
   "source": [
    "package VerificationTest {\n",
    "\n",
    "\tpart def V {\n",
    "\t\tm : ScalarValues::Integer;\n",
    "\t}\n",
    "\t\n",
    "\tpart vv : V;\n",
    "\t\n",
    "\trequirement def R {\n",
    "\t\tdoc /* ... */\n",
    "\t}\n",
    "\t\n",
    "\trequirement r : R;\n",
    "\n",
    "\tverification def VerificationCase {\t\t\n",
    "\t\tsubject v : V;\t\n",
    "\t\tobjective {\n",
    "\t\t\tverify requirement : R;\n",
    "\t\t}\n",
    "\t\t\n",
    "\t\tVerificationCases::PassIf(v.m == 0)\n",
    "\t}\n",
    "\t\n",
    "\tverification def VerificationPlan {\n",
    "\t\tsubject v : V;\n",
    "\t\t\n",
    "\t\tobjective {\n",
    "\t\t\tverify r;\n",
    "\t\t}\n",
    "\t\t\n",
    "\t\tverification verificationCase : VerificationCase;\n",
    "\t}\n",
    "\t\n",
    "\tpart verificationContext {\n",
    "\t\tverification verificationPlan : VerificationPlan {\n",
    "\t\t\tsubject v = vv;\n",
    "\t\t}\n",
    "\t}\n",
    "}"
   ]
  },
  {
   "cell_type": "code",
   "execution_count": 2,
   "id": "1662710b",
   "metadata": {
    "execution": {
     "iopub.execute_input": "2021-10-03T08:26:45.883178Z",
     "iopub.status.busy": "2021-10-03T08:26:45.882755Z",
     "iopub.status.idle": "2021-10-03T08:26:46.400896Z",
     "shell.execute_reply": "2021-10-03T08:26:46.400504Z"
    }
   },
   "outputs": [
    {
     "data": {
      "image/svg+xml": [
       "<?xml version=\"1.0\" encoding=\"UTF-8\" standalone=\"no\"?><svg xmlns=\"http://www.w3.org/2000/svg\" xmlns:xlink=\"http://www.w3.org/1999/xlink\" contentScriptType=\"application/ecmascript\" contentStyleType=\"text/css\" height=\"628px\" preserveAspectRatio=\"none\" style=\"width:1172px;height:628px;\" version=\"1.1\" viewBox=\"0 0 1172 628\" width=\"1172px\" zoomAndPan=\"magnify\"><defs/><g><!--MD5=[fbc87193dbaf4d95561dea2c320d4a47]\n",
       "cluster E1--><a href=\"psysml:7303dfcd-df1a-4034-bc74-eb93457ec7c0\" target=\"_top\" title=\"psysml:7303dfcd-df1a-4034-bc74-eb93457ec7c0\" xlink:actuate=\"onRequest\" xlink:href=\"psysml:7303dfcd-df1a-4034-bc74-eb93457ec7c0\" xlink:show=\"new\" xlink:title=\"psysml:7303dfcd-df1a-4034-bc74-eb93457ec7c0\" xlink:type=\"simple\"><polygon fill=\"#FFFFFF\" points=\"16,6,128,6,135,28.2969,1150,28.2969,1150,616,16,616,16,6\" style=\"stroke: #000000; stroke-width: 1.5;\"/><line style=\"stroke: #000000; stroke-width: 1.5;\" x1=\"16\" x2=\"135\" y1=\"28.2969\" y2=\"28.2969\"/><text fill=\"#000000\" font-family=\"sans-serif\" font-size=\"14\" font-weight=\"bold\" lengthAdjust=\"spacingAndGlyphs\" textLength=\"106\" x=\"20\" y=\"20.9951\">VerificationTest</text></a><!--MD5=[14e3b0961a2654348d326746436168a1]\n",
       "cluster E6--><a href=\"psysml:f44943ce-87bd-4d2b-91db-f66bd879bf72\" target=\"_top\" title=\"psysml:f44943ce-87bd-4d2b-91db-f66bd879bf72\" xlink:actuate=\"onRequest\" xlink:href=\"psysml:f44943ce-87bd-4d2b-91db-f66bd879bf72\" xlink:show=\"new\" xlink:title=\"psysml:f44943ce-87bd-4d2b-91db-f66bd879bf72\" xlink:type=\"simple\"><rect fill=\"#FFFFFF\" height=\"310\" id=\"E6\" style=\"stroke: #383838; stroke-width: 1.5;\" width=\"200\" x=\"934\" y=\"64\"/><rect fill=\"#F8F8F8\" height=\"37.9375\" style=\"stroke: #383838; stroke-width: 1.5;\" width=\"200\" x=\"934\" y=\"64\"/><text fill=\"#000000\" font-family=\"sans-serif\" font-size=\"12\" font-style=\"italic\" lengthAdjust=\"spacingAndGlyphs\" textLength=\"137\" x=\"965.5\" y=\"80.1387\">«verificationCase def»</text><text fill=\"#000000\" font-family=\"sans-serif\" font-size=\"12\" lengthAdjust=\"spacingAndGlyphs\" textLength=\"101\" x=\"983.5\" y=\"94.1074\">VerificationCase</text></a><!--MD5=[7f149f147074ac12df2cb0a7728a5fb0]\n",
       "cluster E9--><a href=\"psysml:109e665d-9569-4e28-8454-db86a3b7365b\" target=\"_top\" title=\"psysml:109e665d-9569-4e28-8454-db86a3b7365b\" xlink:actuate=\"onRequest\" xlink:href=\"psysml:109e665d-9569-4e28-8454-db86a3b7365b\" xlink:show=\"new\" xlink:title=\"psysml:109e665d-9569-4e28-8454-db86a3b7365b\" xlink:type=\"simple\"><rect fill=\"#FFFFFF\" height=\"410.5\" id=\"E9\" style=\"stroke: #383838; stroke-width: 1.5;\" width=\"322\" x=\"344\" y=\"181.5\"/><rect fill=\"#F8F8F8\" height=\"37.9375\" style=\"stroke: #383838; stroke-width: 1.5;\" width=\"322\" x=\"344\" y=\"181.5\"/><text fill=\"#000000\" font-family=\"sans-serif\" font-size=\"12\" font-style=\"italic\" lengthAdjust=\"spacingAndGlyphs\" textLength=\"137\" x=\"436.5\" y=\"197.6387\">«verificationCase def»</text><text fill=\"#000000\" font-family=\"sans-serif\" font-size=\"12\" lengthAdjust=\"spacingAndGlyphs\" textLength=\"97\" x=\"456.5\" y=\"211.6074\">VerificationPlan</text></a><!--MD5=[917b9dd0c7eca3ee5f47219d1a84c0ad]\n",
       "cluster E11--><a href=\"psysml:d8eec309-4539-4ef6-b593-f8d5221313a5\" target=\"_top\" title=\"psysml:d8eec309-4539-4ef6-b593-f8d5221313a5\" xlink:actuate=\"onRequest\" xlink:href=\"psysml:d8eec309-4539-4ef6-b593-f8d5221313a5\" xlink:show=\"new\" xlink:title=\"psysml:d8eec309-4539-4ef6-b593-f8d5221313a5\" xlink:type=\"simple\"><rect fill=\"#FFFFFF\" height=\"239\" id=\"E11\" rx=\"10\" ry=\"10\" style=\"stroke: #383838; stroke-width: 1.5;\" width=\"174\" x=\"454\" y=\"315\"/><rect fill=\"#F8F8F8\" height=\"37.9375\" rx=\"10\" ry=\"10\" style=\"stroke: #F8F8F8; stroke-width: 1.5;\" width=\"174\" x=\"454\" y=\"315\"/><rect fill=\"#F8F8F8\" height=\"10\" style=\"stroke: #F8F8F8; stroke-width: 1.5;\" width=\"174\" x=\"454\" y=\"342.9375\"/><rect fill=\"none\" height=\"239\" id=\"E11\" rx=\"10\" ry=\"10\" style=\"stroke: #383838; stroke-width: 1.5;\" width=\"174\" x=\"454\" y=\"315\"/><text fill=\"#000000\" font-family=\"sans-serif\" font-size=\"12\" font-style=\"italic\" lengthAdjust=\"spacingAndGlyphs\" textLength=\"113\" x=\"484.5\" y=\"331.1387\">«verificationCase»</text><text fill=\"#000000\" font-family=\"sans-serif\" font-size=\"12\" lengthAdjust=\"spacingAndGlyphs\" textLength=\"99\" x=\"491.5\" y=\"345.1074\">verificationCase</text><line style=\"stroke: #383838; stroke-width: 1.0;\" x1=\"454\" x2=\"628\" y1=\"352.9375\" y2=\"352.9375\"/></a><!--MD5=[b4997ac47864f28c2f74865a473b2911]\n",
       "class E2--><a href=\"psysml:ee2cd088-4b38-485a-bdcf-f034eebaa933\" target=\"_top\" title=\"psysml:ee2cd088-4b38-485a-bdcf-f034eebaa933\" xlink:actuate=\"onRequest\" xlink:href=\"psysml:ee2cd088-4b38-485a-bdcf-f034eebaa933\" xlink:show=\"new\" xlink:title=\"psysml:ee2cd088-4b38-485a-bdcf-f034eebaa933\" xlink:type=\"simple\"><rect fill=\"#FFFFFF\" height=\"45.9375\" id=\"E2\" style=\"stroke: #383838; stroke-width: 1.5;\" width=\"66\" x=\"849\" y=\"158.5\"/><text fill=\"#000000\" font-family=\"sans-serif\" font-size=\"12\" font-style=\"italic\" lengthAdjust=\"spacingAndGlyphs\" textLength=\"64\" x=\"850\" y=\"174.6387\">«part def»</text><text fill=\"#000000\" font-family=\"sans-serif\" font-size=\"12\" lengthAdjust=\"spacingAndGlyphs\" textLength=\"8\" x=\"878\" y=\"188.6074\">V</text><line style=\"stroke: #383838; stroke-width: 1.5;\" x1=\"850\" x2=\"914\" y1=\"196.4375\" y2=\"196.4375\"/></a><!--MD5=[09b614a08d8cba4a07c9adeb5e0fee81]\n",
       "class E3--><a href=\"psysml:ea23779d-7b91-41e0-a4d1-5f0745e774d2\" target=\"_top\" title=\"psysml:ea23779d-7b91-41e0-a4d1-5f0745e774d2\" xlink:actuate=\"onRequest\" xlink:href=\"psysml:ea23779d-7b91-41e0-a4d1-5f0745e774d2\" xlink:show=\"new\" xlink:title=\"psysml:ea23779d-7b91-41e0-a4d1-5f0745e774d2\" xlink:type=\"simple\"><rect fill=\"#FFFFFF\" height=\"45.9375\" id=\"E3\" rx=\"10\" ry=\"10\" style=\"stroke: #383838; stroke-width: 1.5;\" width=\"42\" x=\"861\" y=\"41\"/><text fill=\"#000000\" font-family=\"sans-serif\" font-size=\"12\" font-style=\"italic\" lengthAdjust=\"spacingAndGlyphs\" textLength=\"40\" x=\"862\" y=\"57.1387\">«part»</text><text fill=\"#000000\" font-family=\"sans-serif\" font-size=\"12\" lengthAdjust=\"spacingAndGlyphs\" textLength=\"28\" x=\"868\" y=\"71.1074\">vv: V</text><line style=\"stroke: #383838; stroke-width: 1.5;\" x1=\"862\" x2=\"902\" y1=\"78.9375\" y2=\"78.9375\"/></a><!--MD5=[ebbe1d658d1005bcc118a6aa81145e00]\n",
       "class E4--><a href=\"psysml:971e85b9-9957-4674-90a7-be3bf98856c5\" target=\"_top\" title=\"psysml:971e85b9-9957-4674-90a7-be3bf98856c5\" xlink:actuate=\"onRequest\" xlink:href=\"psysml:971e85b9-9957-4674-90a7-be3bf98856c5\" xlink:show=\"new\" xlink:title=\"psysml:971e85b9-9957-4674-90a7-be3bf98856c5\" xlink:type=\"simple\"><rect fill=\"#FFFFFF\" height=\"66.7422\" id=\"E4\" style=\"stroke: #383838; stroke-width: 1.5;\" width=\"117\" x=\"696.5\" y=\"148\"/><text fill=\"#000000\" font-family=\"sans-serif\" font-size=\"12\" font-style=\"italic\" lengthAdjust=\"spacingAndGlyphs\" textLength=\"115\" x=\"697.5\" y=\"164.1387\">«requirement def»</text><text fill=\"#000000\" font-family=\"sans-serif\" font-size=\"12\" lengthAdjust=\"spacingAndGlyphs\" textLength=\"8\" x=\"751\" y=\"178.1074\">R</text><line style=\"stroke: #383838; stroke-width: 1.5;\" x1=\"697.5\" x2=\"812.5\" y1=\"185.9375\" y2=\"185.9375\"/><text fill=\"#000000\" font-family=\"sans-serif\" font-size=\"11\" lengthAdjust=\"spacingAndGlyphs\" textLength=\"12\" x=\"702.5\" y=\"200.1479\">...</text><line style=\"stroke: #383838; stroke-width: 1.0;\" x1=\"697.5\" x2=\"812.5\" y1=\"206.7422\" y2=\"206.7422\"/></a><!--MD5=[270fce915f116d4de14055a7c1d9a0f3]\n",
       "class E5--><a href=\"psysml:bbcd2223-85a4-4701-a24f-5592c5712336\" target=\"_top\" title=\"psysml:bbcd2223-85a4-4701-a24f-5592c5712336\" xlink:actuate=\"onRequest\" xlink:href=\"psysml:bbcd2223-85a4-4701-a24f-5592c5712336\" xlink:show=\"new\" xlink:title=\"psysml:bbcd2223-85a4-4701-a24f-5592c5712336\" xlink:type=\"simple\"><rect fill=\"#FFFFFF\" height=\"45.9375\" id=\"E5\" rx=\"10\" ry=\"10\" style=\"stroke: #383838; stroke-width: 1.5;\" width=\"93\" x=\"708.5\" y=\"41\"/><text fill=\"#000000\" font-family=\"sans-serif\" font-size=\"12\" font-style=\"italic\" lengthAdjust=\"spacingAndGlyphs\" textLength=\"91\" x=\"709.5\" y=\"57.1387\">«requirement»</text><text fill=\"#000000\" font-family=\"sans-serif\" font-size=\"12\" lengthAdjust=\"spacingAndGlyphs\" textLength=\"21\" x=\"744.5\" y=\"71.1074\">r: R</text><line style=\"stroke: #383838; stroke-width: 1.5;\" x1=\"709.5\" x2=\"800.5\" y1=\"78.9375\" y2=\"78.9375\"/></a><!--MD5=[0c48fb7552dae8cbbef69381101a84c8]\n",
       "class E15--><a href=\"psysml:1ba0f1fa-2142-46f9-b759-d2e88bd368a2\" target=\"_top\" title=\"psysml:1ba0f1fa-2142-46f9-b759-d2e88bd368a2\" xlink:actuate=\"onRequest\" xlink:href=\"psysml:1ba0f1fa-2142-46f9-b759-d2e88bd368a2\" xlink:show=\"new\" xlink:title=\"psysml:1ba0f1fa-2142-46f9-b759-d2e88bd368a2\" xlink:type=\"simple\"><rect fill=\"#FFFFFF\" height=\"45.9375\" id=\"E15\" rx=\"10\" ry=\"10\" style=\"stroke: #383838; stroke-width: 1.5;\" width=\"122\" x=\"74\" y=\"41\"/><text fill=\"#000000\" font-family=\"sans-serif\" font-size=\"12\" font-style=\"italic\" lengthAdjust=\"spacingAndGlyphs\" textLength=\"40\" x=\"115\" y=\"57.1387\">«part»</text><text fill=\"#000000\" font-family=\"sans-serif\" font-size=\"12\" lengthAdjust=\"spacingAndGlyphs\" textLength=\"116\" x=\"77\" y=\"71.1074\">verificationContext</text><line style=\"stroke: #383838; stroke-width: 1.5;\" x1=\"75\" x2=\"195\" y1=\"78.9375\" y2=\"78.9375\"/></a><!--MD5=[35f0587eaee8d5bb9a02e25b63afc23b]\n",
       "class E16--><a href=\"psysml:f139e62b-7bf9-43a0-a382-40038ed35c63\" target=\"_top\" title=\"psysml:f139e62b-7bf9-43a0-a382-40038ed35c63\" xlink:actuate=\"onRequest\" xlink:href=\"psysml:f139e62b-7bf9-43a0-a382-40038ed35c63\" xlink:show=\"new\" xlink:title=\"psysml:f139e62b-7bf9-43a0-a382-40038ed35c63\" xlink:type=\"simple\"><rect fill=\"#FFFFFF\" height=\"45.9375\" id=\"E16\" rx=\"10\" ry=\"10\" style=\"stroke: #383838; stroke-width: 1.5;\" width=\"206\" x=\"32\" y=\"158.5\"/><text fill=\"#000000\" font-family=\"sans-serif\" font-size=\"12\" font-style=\"italic\" lengthAdjust=\"spacingAndGlyphs\" textLength=\"113\" x=\"78.5\" y=\"174.6387\">«verificationCase»</text><text fill=\"#000000\" font-family=\"sans-serif\" font-size=\"12\" lengthAdjust=\"spacingAndGlyphs\" textLength=\"200\" x=\"35\" y=\"188.6074\">verificationPlan: VerificationPlan</text><line style=\"stroke: #383838; stroke-width: 1.5;\" x1=\"33\" x2=\"237\" y1=\"196.4375\" y2=\"196.4375\"/></a><!--MD5=[60e55a4a9b2f0dc0a36787c5a2095786]\n",
       "class E17--><a href=\"psysml:fe640fc2-093c-44fe-a9fd-0ceecb8f463c\" target=\"_top\" title=\"psysml:fe640fc2-093c-44fe-a9fd-0ceecb8f463c\" xlink:actuate=\"onRequest\" xlink:href=\"psysml:fe640fc2-093c-44fe-a9fd-0ceecb8f463c\" xlink:show=\"new\" xlink:title=\"psysml:fe640fc2-093c-44fe-a9fd-0ceecb8f463c\" xlink:type=\"simple\"><rect fill=\"#FFFFFF\" height=\"45.9375\" id=\"E17\" rx=\"10\" ry=\"10\" style=\"stroke: #383838; stroke-width: 1.5;\" width=\"93\" x=\"88.5\" y=\"292\"/><text fill=\"#000000\" font-family=\"sans-serif\" font-size=\"12\" font-style=\"italic\" lengthAdjust=\"spacingAndGlyphs\" textLength=\"91\" x=\"89.5\" y=\"308.1387\">«requirement»</text><text fill=\"#000000\" font-family=\"sans-serif\" font-size=\"12\" lengthAdjust=\"spacingAndGlyphs\" textLength=\"19\" x=\"125.5\" y=\"322.1074\">obj</text><line style=\"stroke: #383838; stroke-width: 1.5;\" x1=\"89.5\" x2=\"180.5\" y1=\"329.9375\" y2=\"329.9375\"/></a><text fill=\"#000000\" font-family=\"sans-serif\" font-size=\"14\" lengthAdjust=\"spacingAndGlyphs\" textLength=\"7\" x=\"1030.5\" y=\"42.6982\">v</text><rect fill=\"#383838\" height=\"12\" style=\"stroke: #F8F8F8; stroke-width: 1.5;\" width=\"12\" x=\"1028\" y=\"58\"/><text fill=\"#000000\" font-family=\"sans-serif\" font-size=\"14\" lengthAdjust=\"spacingAndGlyphs\" textLength=\"46\" x=\"1011\" y=\"392.9951\">verdict</text><rect fill=\"#383838\" height=\"12\" style=\"stroke: #F8F8F8; stroke-width: 1.5;\" width=\"12\" x=\"1028\" y=\"368\"/><text fill=\"#000000\" font-family=\"sans-serif\" font-size=\"14\" lengthAdjust=\"spacingAndGlyphs\" textLength=\"7\" x=\"358.5\" y=\"160.1982\">v</text><rect fill=\"#383838\" height=\"12\" style=\"stroke: #F8F8F8; stroke-width: 1.5;\" width=\"12\" x=\"356\" y=\"175.5\"/><text fill=\"#000000\" font-family=\"sans-serif\" font-size=\"14\" lengthAdjust=\"spacingAndGlyphs\" textLength=\"46\" x=\"643\" y=\"499.9951\">verdict</text><rect fill=\"#383838\" height=\"12\" style=\"stroke: #F8F8F8; stroke-width: 1.5;\" width=\"12\" x=\"660\" y=\"475\"/><text fill=\"#000000\" font-family=\"sans-serif\" font-size=\"14\" lengthAdjust=\"spacingAndGlyphs\" textLength=\"46\" x=\"518\" y=\"572.9951\">verdict</text><rect fill=\"#383838\" height=\"12\" style=\"stroke: #F8F8F8; stroke-width: 1.5;\" width=\"12\" x=\"535\" y=\"548\"/><text fill=\"#000000\" font-family=\"sans-serif\" font-size=\"14\" lengthAdjust=\"spacingAndGlyphs\" textLength=\"7\" x=\"537.5\" y=\"293.6982\">v</text><rect fill=\"#383838\" height=\"12\" style=\"stroke: #F8F8F8; stroke-width: 1.5;\" width=\"12\" x=\"535\" y=\"309\"/><!--MD5=[05d275557350bfb9b23a4ef7222b4c39]\n",
       "link E3 to E2--><a href=\"psysml:2b222a15-a90b-432a-993d-d339516ea993\" target=\"_top\" title=\"psysml:2b222a15-a90b-432a-993d-d339516ea993\" xlink:actuate=\"onRequest\" xlink:href=\"psysml:2b222a15-a90b-432a-993d-d339516ea993\" xlink:show=\"new\" xlink:title=\"psysml:2b222a15-a90b-432a-993d-d339516ea993\" xlink:type=\"simple\"><path d=\"M882,87.27 C882,101.65 882,120.82 882,138.04 \" fill=\"none\" id=\"E3-&gt;E2\" style=\"stroke: #383838; stroke-width: 1.0;\"/><polygon fill=\"#FFFFFF\" points=\"882,158.3,875,139.3,889,139.3,882,158.3\" style=\"stroke: #383838; stroke-width: 1.0;\"/><ellipse cx=\"877\" cy=\"133.6\" fill=\"#383838\" rx=\"2\" ry=\"2\" style=\"stroke: #383838; stroke-width: 1.0;\"/><ellipse cx=\"887\" cy=\"133.6\" fill=\"#383838\" rx=\"2\" ry=\"2\" style=\"stroke: #383838; stroke-width: 1.0;\"/></a><!--MD5=[1c62de2aa5b76f0fb657ff8443a1a700]\n",
       "link E5 to E4--><a href=\"psysml:4afeeb28-a204-4e17-a080-31f9a6d380ec\" target=\"_top\" title=\"psysml:4afeeb28-a204-4e17-a080-31f9a6d380ec\" xlink:actuate=\"onRequest\" xlink:href=\"psysml:4afeeb28-a204-4e17-a080-31f9a6d380ec\" xlink:show=\"new\" xlink:title=\"psysml:4afeeb28-a204-4e17-a080-31f9a6d380ec\" xlink:type=\"simple\"><path d=\"M755,87.27 C755,98.81 755,113.43 755,127.66 \" fill=\"none\" id=\"E5-&gt;E4\" style=\"stroke: #383838; stroke-width: 1.0;\"/><polygon fill=\"#FFFFFF\" points=\"755,147.81,748,128.81,762,128.81,755,147.81\" style=\"stroke: #383838; stroke-width: 1.0;\"/><ellipse cx=\"750\" cy=\"123.11\" fill=\"#383838\" rx=\"2\" ry=\"2\" style=\"stroke: #383838; stroke-width: 1.0;\"/><ellipse cx=\"760\" cy=\"123.11\" fill=\"#383838\" rx=\"2\" ry=\"2\" style=\"stroke: #383838; stroke-width: 1.0;\"/></a><!--MD5=[58e4cf537c4d67f6b3da95fd5b934e63]\n",
       "reverse link E15 to E16--><a href=\"psysml:4d9ca163-dfe0-49d5-81cb-3058dc3dad3f\" target=\"_top\" title=\"psysml:4d9ca163-dfe0-49d5-81cb-3058dc3dad3f\" xlink:actuate=\"onRequest\" xlink:href=\"psysml:4d9ca163-dfe0-49d5-81cb-3058dc3dad3f\" xlink:show=\"new\" xlink:title=\"psysml:4d9ca163-dfe0-49d5-81cb-3058dc3dad3f\" xlink:type=\"simple\"><path d=\"M135,100.49 C135,119.35 135,141.94 135,158.3 \" fill=\"none\" id=\"E15&lt;-E16\" style=\"stroke: #383838; stroke-width: 1.0;\"/><polygon fill=\"#383838\" points=\"135,87.27,131,93.27,135,99.27,139,93.27,135,87.27\" style=\"stroke: #383838; stroke-width: 1.0;\"/></a><!--MD5=[4de2d328c39b6d65fb95a84ef336270e]\n",
       "link E16 to E9--><a href=\"psysml:cd73bb42-520f-4e04-8240-7f040abbe442\" target=\"_top\" title=\"psysml:cd73bb42-520f-4e04-8240-7f040abbe442\" xlink:actuate=\"onRequest\" xlink:href=\"psysml:cd73bb42-520f-4e04-8240-7f040abbe442\" xlink:show=\"new\" xlink:title=\"psysml:cd73bb42-520f-4e04-8240-7f040abbe442\" xlink:type=\"simple\"><path d=\"M172.99,204.51 C218.18,230.69 292.58,273.79 333.25,297.35 \" fill=\"none\" id=\"E16-&gt;E9\" style=\"stroke: #383838; stroke-width: 1.0;\"/><polygon fill=\"#FFFFFF\" points=\"333.25,297.35,313.3006,293.8831,320.3182,281.7689,333.25,297.35\" style=\"stroke: #383838; stroke-width: 1.0;\"/><ellipse cx=\"309.3709\" cy=\"289.2953\" fill=\"#383838\" rx=\"2\" ry=\"2\" style=\"stroke: #383838; stroke-width: 1.0;\"/><ellipse cx=\"314.3835\" cy=\"280.6423\" fill=\"#383838\" rx=\"2\" ry=\"2\" style=\"stroke: #383838; stroke-width: 1.0;\"/></a><!--MD5=[450e3481f1c83a03a55fcf78b0bbbde6]\n",
       "link E16 to E17--><a href=\"psysml:e29f10bd-d5bc-4797-97ab-a37fb0e5db5b\" target=\"_top\" title=\"psysml:e29f10bd-d5bc-4797-97ab-a37fb0e5db5b\" xlink:actuate=\"onRequest\" xlink:href=\"psysml:e29f10bd-d5bc-4797-97ab-a37fb0e5db5b\" xlink:show=\"new\" xlink:title=\"psysml:e29f10bd-d5bc-4797-97ab-a37fb0e5db5b\" xlink:type=\"simple\"><path d=\"M135,204.51 C135,226.22 135,259.59 135,283.78 \" fill=\"none\" id=\"E16-&gt;E17\" style=\"stroke: #383838; stroke-width: 1.0;\"/><polygon fill=\"#383838\" points=\"135,291.92,138,283.92,132,283.92,135,291.92\" style=\"stroke: #383838; stroke-width: 1.0;\"/><text fill=\"#000000\" font-family=\"sans-serif\" font-size=\"13\" lengthAdjust=\"spacingAndGlyphs\" textLength=\"73\" x=\"136\" y=\"258.0669\">«objective»</text><text fill=\"#000000\" font-family=\"sans-serif\" font-size=\"13\" lengthAdjust=\"spacingAndGlyphs\" textLength=\"7\" x=\"127.0594\" y=\"280.7948\">*</text></a><!--MD5=[80ea5632cb236f8be5ac9b09e1c23e4d]\n",
       "@startuml\r\n",
       " skinparam monochrome true\r\n",
       "skinparam classbackgroundcolor white\r\n",
       "skinparam shadowing false\r\n",
       "skinparam wrapWidth 300\r\n",
       "hide circle\r\n",
       "\r\n",
       "package \"VerificationTest\" as E1  [[psysml:7303dfcd-df1a-4034-bc74-eb93457ec7c0 ]]  {\r\n",
       "comp def \"V\" as E2  <<(T,blue) part def>> [[psysml:ee2cd088-4b38-485a-bdcf-f034eebaa933 ]] {\r\n",
       "}\r\n",
       "comp usage \"vv: V\" as E3  <<(T,blue) part>> [[psysml:ea23779d-7b91-41e0-a4d1-5f0745e774d2 ]] {\r\n",
       "}\r\n",
       "comp def \"R\" as E4  <<(T,blue) requirement def>> [[psysml:971e85b9-9957-4674-90a7-be3bf98856c5 ]] {\r\n",
       "...\r\n",
       "- -\r\n",
       "}\r\n",
       "comp usage \"r: R\" as E5  <<(T,blue) requirement>> [[psysml:bbcd2223-85a4-4701-a24f-5592c5712336 ]] {\r\n",
       "}\r\n",
       "rec def \"VerificationCase\" as E6  <<(T,blue) verificationCase def>> [[psysml:f44943ce-87bd-4d2b-91db-f66bd879bf72 ]] {\r\n",
       "portin \"v\" as E7  [[psysml:39e4c68a-7e48-4018-a595-005447bc25d1 ]] \r\n",
       "portout \"verdict\" as E8  [[psysml:e7480a5a-bc03-4bfb-926c-ff77790341ab ]] \r\n",
       "}\r\n",
       "\r\n",
       "rec def \"VerificationPlan\" as E9  <<(T,blue) verificationCase def>> [[psysml:109e665d-9569-4e28-8454-db86a3b7365b ]] {\r\n",
       "portin \"v\" as E10  [[psysml:bc04aa0f-1251-4bd1-9492-821de83ad0f4 ]] \r\n",
       "rec usage \"verificationCase\" as E11  <<(T,blue) verificationCase>> [[psysml:d8eec309-4539-4ef6-b593-f8d5221313a5 ]] {\r\n",
       "portout \"verdict\" as E12  [[psysml:d4b19012-2d8f-412c-81cb-04106ed54ab9 ]] \r\n",
       "portin \"v\" as E13  [[psysml:101691aa-2b16-4439-bb49-3b5a9750b72a ]] \r\n",
       "}\r\n",
       "\r\n",
       "portout \"verdict\" as E14  [[psysml:d1cc474d-a7ae-4245-8f3b-eac2c389ad3d ]] \r\n",
       "}\r\n",
       "\r\n",
       "comp usage \"verificationContext\" as E15  <<(T,blue) part>> [[psysml:1ba0f1fa-2142-46f9-b759-d2e88bd368a2 ]] {\r\n",
       "}\r\n",
       "comp usage \"verificationPlan: VerificationPlan\" as E16  <<(T,blue) verificationCase>> [[psysml:f139e62b-7bf9-43a0-a382-40038ed35c63 ]] {\r\n",
       "}\r\n",
       "comp usage \"obj\" as E17  <<(T,blue) requirement>> [[psysml:fe640fc2-093c-44fe-a9fd-0ceecb8f463c ]] {\r\n",
       "}\r\n",
       "}\r\n",
       "E3 - -:|> E2 [[psysml:2b222a15-a90b-432a-993d-d339516ea993 ]] \r\n",
       "E5 - -:|> E4 [[psysml:4afeeb28-a204-4e17-a080-31f9a6d380ec ]] \r\n",
       "E15 *- - E16 [[psysml:4d9ca163-dfe0-49d5-81cb-3058dc3dad3f ]] \r\n",
       "E16 - -:|> E9 [[psysml:cd73bb42-520f-4e04-8240-7f040abbe442 ]] \r\n",
       "E16 - ->> \"*\"E17 [[psysml:e29f10bd-d5bc-4797-97ab-a37fb0e5db5b ]] : <<objective>>\r\n",
       "@enduml\r\n",
       "\n",
       "PlantUML version 1.2020.13(Sat Jun 13 12:26:38 UTC 2020)\n",
       "(EPL source distribution)\n",
       "Java Runtime: OpenJDK Runtime Environment\n",
       "JVM: OpenJDK 64-Bit Server VM\n",
       "Default Encoding: UTF-8\n",
       "Language: en\n",
       "Country: null\n",
       "--></g></svg>"
      ]
     },
     "execution_count": 2,
     "metadata": {},
     "output_type": "execute_result"
    }
   ],
   "source": [
    "%viz --style=\"COMPTREE\" --view=\"Default\" \"VerificationTest\""
   ]
  },
  {
   "cell_type": "code",
   "execution_count": 3,
   "id": "c1afd5fc",
   "metadata": {
    "execution": {
     "iopub.execute_input": "2021-10-03T08:26:46.450199Z",
     "iopub.status.busy": "2021-10-03T08:26:46.449770Z",
     "iopub.status.idle": "2021-10-03T08:26:46.560403Z",
     "shell.execute_reply": "2021-10-03T08:26:46.558428Z"
    }
   },
   "outputs": [
    {
     "data": {
      "image/svg+xml": [
       "<?xml version=\"1.0\" encoding=\"UTF-8\" standalone=\"no\"?><svg xmlns=\"http://www.w3.org/2000/svg\" xmlns:xlink=\"http://www.w3.org/1999/xlink\" contentScriptType=\"application/ecmascript\" contentStyleType=\"text/css\" height=\"268px\" preserveAspectRatio=\"none\" style=\"width:746px;height:268px;\" version=\"1.1\" viewBox=\"0 0 746 268\" width=\"746px\" zoomAndPan=\"magnify\"><defs/><g><!--MD5=[fbc87193dbaf4d95561dea2c320d4a47]\n",
       "cluster E1--><a href=\"psysml:7303dfcd-df1a-4034-bc74-eb93457ec7c0\" target=\"_top\" title=\"psysml:7303dfcd-df1a-4034-bc74-eb93457ec7c0\" xlink:actuate=\"onRequest\" xlink:href=\"psysml:7303dfcd-df1a-4034-bc74-eb93457ec7c0\" xlink:show=\"new\" xlink:title=\"psysml:7303dfcd-df1a-4034-bc74-eb93457ec7c0\" xlink:type=\"simple\"><polygon fill=\"#FFFFFF\" points=\"16,6,128,6,135,28.2969,724,28.2969,724,256,16,256,16,6\" style=\"stroke: #000000; stroke-width: 1.5;\"/><line style=\"stroke: #000000; stroke-width: 1.5;\" x1=\"16\" x2=\"135\" y1=\"28.2969\" y2=\"28.2969\"/><text fill=\"#000000\" font-family=\"sans-serif\" font-size=\"14\" font-weight=\"bold\" lengthAdjust=\"spacingAndGlyphs\" textLength=\"106\" x=\"20\" y=\"20.9951\">VerificationTest</text></a><!--MD5=[b4997ac47864f28c2f74865a473b2911]\n",
       "class E2--><a href=\"psysml:ee2cd088-4b38-485a-bdcf-f034eebaa933\" target=\"_top\" title=\"psysml:ee2cd088-4b38-485a-bdcf-f034eebaa933\" xlink:actuate=\"onRequest\" xlink:href=\"psysml:ee2cd088-4b38-485a-bdcf-f034eebaa933\" xlink:show=\"new\" xlink:title=\"psysml:ee2cd088-4b38-485a-bdcf-f034eebaa933\" xlink:type=\"simple\"><rect fill=\"#FFFFFF\" height=\"45.9375\" id=\"E2\" style=\"stroke: #383838; stroke-width: 1.5;\" width=\"66\" x=\"342\" y=\"179\"/><text fill=\"#000000\" font-family=\"sans-serif\" font-size=\"12\" font-style=\"italic\" lengthAdjust=\"spacingAndGlyphs\" textLength=\"64\" x=\"343\" y=\"195.1387\">«part def»</text><text fill=\"#000000\" font-family=\"sans-serif\" font-size=\"12\" lengthAdjust=\"spacingAndGlyphs\" textLength=\"8\" x=\"371\" y=\"209.1074\">V</text><line style=\"stroke: #383838; stroke-width: 1.5;\" x1=\"343\" x2=\"407\" y1=\"216.9375\" y2=\"216.9375\"/></a><!--MD5=[09b614a08d8cba4a07c9adeb5e0fee81]\n",
       "class E3--><a href=\"psysml:ea23779d-7b91-41e0-a4d1-5f0745e774d2\" target=\"_top\" title=\"psysml:ea23779d-7b91-41e0-a4d1-5f0745e774d2\" xlink:actuate=\"onRequest\" xlink:href=\"psysml:ea23779d-7b91-41e0-a4d1-5f0745e774d2\" xlink:show=\"new\" xlink:title=\"psysml:ea23779d-7b91-41e0-a4d1-5f0745e774d2\" xlink:type=\"simple\"><rect fill=\"#FFFFFF\" height=\"45.9375\" id=\"E3\" rx=\"10\" ry=\"10\" style=\"stroke: #383838; stroke-width: 1.5;\" width=\"42\" x=\"364\" y=\"41\"/><text fill=\"#000000\" font-family=\"sans-serif\" font-size=\"12\" font-style=\"italic\" lengthAdjust=\"spacingAndGlyphs\" textLength=\"40\" x=\"365\" y=\"57.1387\">«part»</text><text fill=\"#000000\" font-family=\"sans-serif\" font-size=\"12\" lengthAdjust=\"spacingAndGlyphs\" textLength=\"28\" x=\"371\" y=\"71.1074\">vv: V</text><line style=\"stroke: #383838; stroke-width: 1.5;\" x1=\"365\" x2=\"405\" y1=\"78.9375\" y2=\"78.9375\"/></a><!--MD5=[ebbe1d658d1005bcc118a6aa81145e00]\n",
       "class E4--><a href=\"psysml:971e85b9-9957-4674-90a7-be3bf98856c5\" target=\"_top\" title=\"psysml:971e85b9-9957-4674-90a7-be3bf98856c5\" xlink:actuate=\"onRequest\" xlink:href=\"psysml:971e85b9-9957-4674-90a7-be3bf98856c5\" xlink:show=\"new\" xlink:title=\"psysml:971e85b9-9957-4674-90a7-be3bf98856c5\" xlink:type=\"simple\"><rect fill=\"#FFFFFF\" height=\"66.7422\" id=\"E4\" style=\"stroke: #383838; stroke-width: 1.5;\" width=\"117\" x=\"590.5\" y=\"168.5\"/><text fill=\"#000000\" font-family=\"sans-serif\" font-size=\"12\" font-style=\"italic\" lengthAdjust=\"spacingAndGlyphs\" textLength=\"115\" x=\"591.5\" y=\"184.6387\">«requirement def»</text><text fill=\"#000000\" font-family=\"sans-serif\" font-size=\"12\" lengthAdjust=\"spacingAndGlyphs\" textLength=\"8\" x=\"645\" y=\"198.6074\">R</text><line style=\"stroke: #383838; stroke-width: 1.5;\" x1=\"591.5\" x2=\"706.5\" y1=\"206.4375\" y2=\"206.4375\"/><text fill=\"#000000\" font-family=\"sans-serif\" font-size=\"11\" lengthAdjust=\"spacingAndGlyphs\" textLength=\"12\" x=\"596.5\" y=\"220.6479\">...</text><line style=\"stroke: #383838; stroke-width: 1.0;\" x1=\"591.5\" x2=\"706.5\" y1=\"227.2422\" y2=\"227.2422\"/></a><!--MD5=[270fce915f116d4de14055a7c1d9a0f3]\n",
       "class E5--><a href=\"psysml:bbcd2223-85a4-4701-a24f-5592c5712336\" target=\"_top\" title=\"psysml:bbcd2223-85a4-4701-a24f-5592c5712336\" xlink:actuate=\"onRequest\" xlink:href=\"psysml:bbcd2223-85a4-4701-a24f-5592c5712336\" xlink:show=\"new\" xlink:title=\"psysml:bbcd2223-85a4-4701-a24f-5592c5712336\" xlink:type=\"simple\"><rect fill=\"#FFFFFF\" height=\"45.9375\" id=\"E5\" rx=\"10\" ry=\"10\" style=\"stroke: #383838; stroke-width: 1.5;\" width=\"93\" x=\"615.5\" y=\"41\"/><text fill=\"#000000\" font-family=\"sans-serif\" font-size=\"12\" font-style=\"italic\" lengthAdjust=\"spacingAndGlyphs\" textLength=\"91\" x=\"616.5\" y=\"57.1387\">«requirement»</text><text fill=\"#000000\" font-family=\"sans-serif\" font-size=\"12\" lengthAdjust=\"spacingAndGlyphs\" textLength=\"21\" x=\"651.5\" y=\"71.1074\">r: R</text><line style=\"stroke: #383838; stroke-width: 1.5;\" x1=\"616.5\" x2=\"707.5\" y1=\"78.9375\" y2=\"78.9375\"/></a><!--MD5=[60a26617385b1d2d0262a64233df1f8d]\n",
       "class E6--><a href=\"psysml:f44943ce-87bd-4d2b-91db-f66bd879bf72\" target=\"_top\" title=\"psysml:f44943ce-87bd-4d2b-91db-f66bd879bf72\" xlink:actuate=\"onRequest\" xlink:href=\"psysml:f44943ce-87bd-4d2b-91db-f66bd879bf72\" xlink:show=\"new\" xlink:title=\"psysml:f44943ce-87bd-4d2b-91db-f66bd879bf72\" xlink:type=\"simple\"><rect fill=\"#FFFFFF\" height=\"45.9375\" id=\"E6\" style=\"stroke: #383838; stroke-width: 1.5;\" width=\"139\" x=\"441.5\" y=\"41\"/><text fill=\"#000000\" font-family=\"sans-serif\" font-size=\"12\" font-style=\"italic\" lengthAdjust=\"spacingAndGlyphs\" textLength=\"137\" x=\"442.5\" y=\"57.1387\">«verificationCase def»</text><text fill=\"#000000\" font-family=\"sans-serif\" font-size=\"12\" lengthAdjust=\"spacingAndGlyphs\" textLength=\"101\" x=\"460.5\" y=\"71.1074\">VerificationCase</text><line style=\"stroke: #383838; stroke-width: 1.5;\" x1=\"442.5\" x2=\"579.5\" y1=\"78.9375\" y2=\"78.9375\"/></a><!--MD5=[2156ba9850f5573cc1fc38a6a4b2f02b]\n",
       "class E7--><a href=\"psysml:c1b61795-7b30-4440-a267-41d24baf94c2\" target=\"_top\" title=\"psysml:c1b61795-7b30-4440-a267-41d24baf94c2\" xlink:actuate=\"onRequest\" xlink:href=\"psysml:c1b61795-7b30-4440-a267-41d24baf94c2\" xlink:show=\"new\" xlink:title=\"psysml:c1b61795-7b30-4440-a267-41d24baf94c2\" xlink:type=\"simple\"><rect fill=\"#FFFFFF\" height=\"75.5469\" id=\"E7\" rx=\"10\" ry=\"10\" style=\"stroke: #383838; stroke-width: 1.5;\" width=\"93\" x=\"462.5\" y=\"164\"/><text fill=\"#000000\" font-family=\"sans-serif\" font-size=\"12\" font-style=\"italic\" lengthAdjust=\"spacingAndGlyphs\" textLength=\"91\" x=\"463.5\" y=\"180.1387\">«requirement»</text><text fill=\"#000000\" font-family=\"sans-serif\" font-size=\"12\" lengthAdjust=\"spacingAndGlyphs\" textLength=\"19\" x=\"499.5\" y=\"194.1074\">obj</text><line style=\"stroke: #383838; stroke-width: 1.5;\" x1=\"463.5\" x2=\"554.5\" y1=\"201.9375\" y2=\"201.9375\"/><text fill=\"#000000\" font-family=\"sans-serif\" font-size=\"11\" font-weight=\"bold\" lengthAdjust=\"spacingAndGlyphs\" textLength=\"41\" x=\"468.5\" y=\"232.9526\">require</text><text fill=\"#000000\" font-family=\"sans-serif\" font-size=\"11\" lengthAdjust=\"spacingAndGlyphs\" textLength=\"15\" x=\"513.5\" y=\"232.9526\">: R</text><line style=\"stroke: #383838; stroke-width: 1.0;\" x1=\"463.5\" x2=\"470.5\" y1=\"216.3398\" y2=\"216.3398\"/><text fill=\"#000000\" font-family=\"sans-serif\" font-size=\"11\" lengthAdjust=\"spacingAndGlyphs\" textLength=\"77\" x=\"470.5\" y=\"219.6479\">requirements</text><line style=\"stroke: #383838; stroke-width: 1.0;\" x1=\"547.5\" x2=\"554.5\" y1=\"216.3398\" y2=\"216.3398\"/></a><!--MD5=[fd4143e9d270a159db93a4ea2a975926]\n",
       "class E9--><a href=\"psysml:109e665d-9569-4e28-8454-db86a3b7365b\" target=\"_top\" title=\"psysml:109e665d-9569-4e28-8454-db86a3b7365b\" xlink:actuate=\"onRequest\" xlink:href=\"psysml:109e665d-9569-4e28-8454-db86a3b7365b\" xlink:show=\"new\" xlink:title=\"psysml:109e665d-9569-4e28-8454-db86a3b7365b\" xlink:type=\"simple\"><rect fill=\"#FFFFFF\" height=\"45.9375\" id=\"E9\" style=\"stroke: #383838; stroke-width: 1.5;\" width=\"139\" x=\"189.5\" y=\"41\"/><text fill=\"#000000\" font-family=\"sans-serif\" font-size=\"12\" font-style=\"italic\" lengthAdjust=\"spacingAndGlyphs\" textLength=\"137\" x=\"190.5\" y=\"57.1387\">«verificationCase def»</text><text fill=\"#000000\" font-family=\"sans-serif\" font-size=\"12\" lengthAdjust=\"spacingAndGlyphs\" textLength=\"97\" x=\"210.5\" y=\"71.1074\">VerificationPlan</text><line style=\"stroke: #383838; stroke-width: 1.5;\" x1=\"190.5\" x2=\"327.5\" y1=\"78.9375\" y2=\"78.9375\"/></a><!--MD5=[96f4274e9e20536e775497830990834d]\n",
       "class E10--><a href=\"psysml:7031c3a4-5568-406f-9713-a580e51688a6\" target=\"_top\" title=\"psysml:7031c3a4-5568-406f-9713-a580e51688a6\" xlink:actuate=\"onRequest\" xlink:href=\"psysml:7031c3a4-5568-406f-9713-a580e51688a6\" xlink:show=\"new\" xlink:title=\"psysml:7031c3a4-5568-406f-9713-a580e51688a6\" xlink:type=\"simple\"><rect fill=\"#FFFFFF\" height=\"75.5469\" id=\"E10\" rx=\"10\" ry=\"10\" style=\"stroke: #383838; stroke-width: 1.5;\" width=\"93\" x=\"143.5\" y=\"164\"/><text fill=\"#000000\" font-family=\"sans-serif\" font-size=\"12\" font-style=\"italic\" lengthAdjust=\"spacingAndGlyphs\" textLength=\"91\" x=\"144.5\" y=\"180.1387\">«requirement»</text><text fill=\"#000000\" font-family=\"sans-serif\" font-size=\"12\" lengthAdjust=\"spacingAndGlyphs\" textLength=\"19\" x=\"180.5\" y=\"194.1074\">obj</text><line style=\"stroke: #383838; stroke-width: 1.5;\" x1=\"144.5\" x2=\"235.5\" y1=\"201.9375\" y2=\"201.9375\"/><text fill=\"#000000\" font-family=\"sans-serif\" font-size=\"11\" font-weight=\"bold\" lengthAdjust=\"spacingAndGlyphs\" textLength=\"41\" x=\"149.5\" y=\"232.9526\">require</text><text fill=\"#000000\" font-family=\"sans-serif\" font-size=\"11\" lengthAdjust=\"spacingAndGlyphs\" textLength=\"5\" x=\"194.5\" y=\"232.9526\">r</text><line style=\"stroke: #383838; stroke-width: 1.0;\" x1=\"144.5\" x2=\"151.5\" y1=\"216.3398\" y2=\"216.3398\"/><text fill=\"#000000\" font-family=\"sans-serif\" font-size=\"11\" lengthAdjust=\"spacingAndGlyphs\" textLength=\"77\" x=\"151.5\" y=\"219.6479\">requirements</text><line style=\"stroke: #383838; stroke-width: 1.0;\" x1=\"228.5\" x2=\"235.5\" y1=\"216.3398\" y2=\"216.3398\"/></a><!--MD5=[49a0ec8f00dab7302a31f22d0f0fe584]\n",
       "class E12--><a href=\"psysml:1ba0f1fa-2142-46f9-b759-d2e88bd368a2\" target=\"_top\" title=\"psysml:1ba0f1fa-2142-46f9-b759-d2e88bd368a2\" xlink:actuate=\"onRequest\" xlink:href=\"psysml:1ba0f1fa-2142-46f9-b759-d2e88bd368a2\" xlink:show=\"new\" xlink:title=\"psysml:1ba0f1fa-2142-46f9-b759-d2e88bd368a2\" xlink:type=\"simple\"><rect fill=\"#FFFFFF\" height=\"45.9375\" id=\"E12\" rx=\"10\" ry=\"10\" style=\"stroke: #383838; stroke-width: 1.5;\" width=\"122\" x=\"32\" y=\"41\"/><text fill=\"#000000\" font-family=\"sans-serif\" font-size=\"12\" font-style=\"italic\" lengthAdjust=\"spacingAndGlyphs\" textLength=\"40\" x=\"73\" y=\"57.1387\">«part»</text><text fill=\"#000000\" font-family=\"sans-serif\" font-size=\"12\" lengthAdjust=\"spacingAndGlyphs\" textLength=\"116\" x=\"35\" y=\"71.1074\">verificationContext</text><line style=\"stroke: #383838; stroke-width: 1.5;\" x1=\"33\" x2=\"153\" y1=\"78.9375\" y2=\"78.9375\"/></a><!--MD5=[05d275557350bfb9b23a4ef7222b4c39]\n",
       "link E3 to E2--><a href=\"psysml:2b222a15-a90b-432a-993d-d339516ea993\" target=\"_top\" title=\"psysml:2b222a15-a90b-432a-993d-d339516ea993\" xlink:actuate=\"onRequest\" xlink:href=\"psysml:2b222a15-a90b-432a-993d-d339516ea993\" xlink:show=\"new\" xlink:title=\"psysml:2b222a15-a90b-432a-993d-d339516ea993\" xlink:type=\"simple\"><path d=\"M382.68,87.25 C381.77,96.45 380.76,107.23 380,117 C378.94,130.6 377.99,145.45 377.21,158.84 \" fill=\"none\" id=\"E3-&gt;E2\" style=\"stroke: #383838; stroke-width: 1.0;\"/><polygon fill=\"#FFFFFF\" points=\"376.1,178.88,370.1701,159.5193,384.1483,160.2998,376.1,178.88\" style=\"stroke: #383838; stroke-width: 1.0;\"/><ellipse cx=\"372.4847\" cy=\"153.9397\" fill=\"#383838\" rx=\"2\" ry=\"2\" style=\"stroke: #383838; stroke-width: 1.0;\"/><ellipse cx=\"382.4692\" cy=\"154.4971\" fill=\"#383838\" rx=\"2\" ry=\"2\" style=\"stroke: #383838; stroke-width: 1.0;\"/></a><!--MD5=[1c62de2aa5b76f0fb657ff8443a1a700]\n",
       "link E5 to E4--><a href=\"psysml:4afeeb28-a204-4e17-a080-31f9a6d380ec\" target=\"_top\" title=\"psysml:4afeeb28-a204-4e17-a080-31f9a6d380ec\" xlink:actuate=\"onRequest\" xlink:href=\"psysml:4afeeb28-a204-4e17-a080-31f9a6d380ec\" xlink:show=\"new\" xlink:title=\"psysml:4afeeb28-a204-4e17-a080-31f9a6d380ec\" xlink:type=\"simple\"><path d=\"M659.88,87.15 C658.3,103.69 656.07,127.01 654.04,148.23 \" fill=\"none\" id=\"E5-&gt;E4\" style=\"stroke: #383838; stroke-width: 1.0;\"/><polygon fill=\"#FFFFFF\" points=\"652.11,168.44,646.9475,148.8607,660.8842,150.1913,652.11,168.44\" style=\"stroke: #383838; stroke-width: 1.0;\"/><ellipse cx=\"649.4803\" cy=\"143.3766\" fill=\"#383838\" rx=\"2\" ry=\"2\" style=\"stroke: #383838; stroke-width: 1.0;\"/><ellipse cx=\"659.435\" cy=\"144.327\" fill=\"#383838\" rx=\"2\" ry=\"2\" style=\"stroke: #383838; stroke-width: 1.0;\"/></a><!--MD5=[2351f337d6de0f557b50152ba70847b5]\n",
       "link E6 to E2--><a href=\"psysml:0a65a73b-aad1-46f6-97e3-b503c188383c\" target=\"_top\" title=\"psysml:0a65a73b-aad1-46f6-97e3-b503c188383c\" xlink:actuate=\"onRequest\" xlink:href=\"psysml:0a65a73b-aad1-46f6-97e3-b503c188383c\" xlink:show=\"new\" xlink:title=\"psysml:0a65a73b-aad1-46f6-97e3-b503c188383c\" xlink:type=\"simple\"><path d=\"M475.49,87.03 C462.98,95.62 449.25,106.02 438,117 C420.2,134.37 403.48,157.08 391.74,174.51 \" fill=\"none\" id=\"E6-&gt;E2\" style=\"stroke: #383838; stroke-width: 1.0; stroke-dasharray: 7.0,7.0;\"/><polygon fill=\"#383838\" points=\"388.87,178.82,397.1822,173.5372,391.6369,174.6554,390.5187,169.1101,388.87,178.82\" style=\"stroke: #383838; stroke-width: 1.0;\"/><text fill=\"#000000\" font-family=\"sans-serif\" font-size=\"13\" lengthAdjust=\"spacingAndGlyphs\" textLength=\"62\" x=\"439\" y=\"130.0669\">«subject»</text></a><!--MD5=[02c70b7c851c11e3980e4e90450dc5dd]\n",
       "link E6 to E7--><a href=\"psysml:ca392d64-6b44-4e33-bff2-bf36fcd3e380\" target=\"_top\" title=\"psysml:ca392d64-6b44-4e33-bff2-bf36fcd3e380\" xlink:actuate=\"onRequest\" xlink:href=\"psysml:ca392d64-6b44-4e33-bff2-bf36fcd3e380\" xlink:show=\"new\" xlink:title=\"psysml:ca392d64-6b44-4e33-bff2-bf36fcd3e380\" xlink:type=\"simple\"><path d=\"M510.67,87.15 C510.4,105.66 510.01,132.63 509.67,155.68 \" fill=\"none\" id=\"E6-&gt;E7\" style=\"stroke: #383838; stroke-width: 1.0;\"/><polygon fill=\"#383838\" points=\"509.54,163.97,512.6682,156.0192,506.6689,155.9228,509.54,163.97\" style=\"stroke: #383838; stroke-width: 1.0;\"/><text fill=\"#000000\" font-family=\"sans-serif\" font-size=\"13\" lengthAdjust=\"spacingAndGlyphs\" textLength=\"73\" x=\"511\" y=\"130.0669\">«objective»</text><text fill=\"#000000\" font-family=\"sans-serif\" font-size=\"13\" lengthAdjust=\"spacingAndGlyphs\" textLength=\"7\" x=\"502.0128\" y=\"152.979\">*</text></a><!--MD5=[5c3bb36fe832a92c7f0e1807dd65209d]\n",
       "link E9 to E2--><a href=\"psysml:e35a8663-5a9e-49b1-9953-8d2b3225b6ac\" target=\"_top\" title=\"psysml:e35a8663-5a9e-49b1-9953-8d2b3225b6ac\" xlink:actuate=\"onRequest\" xlink:href=\"psysml:e35a8663-5a9e-49b1-9953-8d2b3225b6ac\" xlink:show=\"new\" xlink:title=\"psysml:e35a8663-5a9e-49b1-9953-8d2b3225b6ac\" xlink:type=\"simple\"><path d=\"M272.53,87.26 C281.39,101.2 293.6,119.24 306,134 C318.17,148.48 333.08,163.26 345.92,175.25 \" fill=\"none\" id=\"E9-&gt;E2\" style=\"stroke: #383838; stroke-width: 1.0; stroke-dasharray: 7.0,7.0;\"/><polygon fill=\"#383838\" points=\"349.84,178.87,345.9545,169.82,346.1715,175.4727,340.5188,175.6896,349.84,178.87\" style=\"stroke: #383838; stroke-width: 1.0;\"/><text fill=\"#000000\" font-family=\"sans-serif\" font-size=\"13\" lengthAdjust=\"spacingAndGlyphs\" textLength=\"62\" x=\"307\" y=\"130.0669\">«subject»</text></a><!--MD5=[35e5f1cbde42fa304a029880aa2bc7f2]\n",
       "link E9 to E10--><a href=\"psysml:a2e94b2d-09ed-4b49-b784-abde9df75390\" target=\"_top\" title=\"psysml:a2e94b2d-09ed-4b49-b784-abde9df75390\" xlink:actuate=\"onRequest\" xlink:href=\"psysml:a2e94b2d-09ed-4b49-b784-abde9df75390\" xlink:show=\"new\" xlink:title=\"psysml:a2e94b2d-09ed-4b49-b784-abde9df75390\" xlink:type=\"simple\"><path d=\"M214.66,87.18 C203.62,95 193.18,104.92 187,117 C181,128.73 179.61,142.63 180.32,155.71 \" fill=\"none\" id=\"E9-&gt;E10\" style=\"stroke: #383838; stroke-width: 1.0;\"/><polygon fill=\"#383838\" points=\"181.01,163.73,183.3133,155.5023,177.3354,156.0166,181.01,163.73\" style=\"stroke: #383838; stroke-width: 1.0;\"/><text fill=\"#000000\" font-family=\"sans-serif\" font-size=\"13\" lengthAdjust=\"spacingAndGlyphs\" textLength=\"73\" x=\"188\" y=\"130.0669\">«objective»</text><text fill=\"#000000\" font-family=\"sans-serif\" font-size=\"13\" lengthAdjust=\"spacingAndGlyphs\" textLength=\"7\" x=\"171.8633\" y=\"152.9805\">*</text></a><!--MD5=[d0708775e879ac4aa936ede5e631ffec]\n",
       "@startuml\r\n",
       " skinparam monochrome true\r\n",
       "skinparam classbackgroundcolor white\r\n",
       "skinparam shadowing false\r\n",
       "skinparam wrapWidth 300\r\n",
       "hide circle\r\n",
       "\r\n",
       "package \"VerificationTest\" as E1  [[psysml:7303dfcd-df1a-4034-bc74-eb93457ec7c0 ]]  {\r\n",
       "comp def \"V\" as E2  <<(T,blue) part def>> [[psysml:ee2cd088-4b38-485a-bdcf-f034eebaa933 ]] {\r\n",
       "}\r\n",
       "comp usage \"vv: V\" as E3  <<(T,blue) part>> [[psysml:ea23779d-7b91-41e0-a4d1-5f0745e774d2 ]] {\r\n",
       "}\r\n",
       "comp def \"R\" as E4  <<(T,blue) requirement def>> [[psysml:971e85b9-9957-4674-90a7-be3bf98856c5 ]] {\r\n",
       "...\r\n",
       "- -\r\n",
       "}\r\n",
       "comp usage \"r: R\" as E5  <<(T,blue) requirement>> [[psysml:bbcd2223-85a4-4701-a24f-5592c5712336 ]] {\r\n",
       "}\r\n",
       "comp def \"VerificationCase\" as E6  <<(T,blue) verificationCase def>> [[psysml:f44943ce-87bd-4d2b-91db-f66bd879bf72 ]] {\r\n",
       "}\r\n",
       "comp usage \"obj\" as E7  <<(T,blue) requirement>> [[psysml:c1b61795-7b30-4440-a267-41d24baf94c2 ]] {\r\n",
       "- - requirements - -\r\n",
       "<b>require</b> : R\r\n",
       "}\r\n",
       "comp def \"VerificationPlan\" as E9  <<(T,blue) verificationCase def>> [[psysml:109e665d-9569-4e28-8454-db86a3b7365b ]] {\r\n",
       "}\r\n",
       "comp usage \"obj\" as E10  <<(T,blue) requirement>> [[psysml:7031c3a4-5568-406f-9713-a580e51688a6 ]] {\r\n",
       "- - requirements - -\r\n",
       "<b>require</b> r\r\n",
       "}\r\n",
       "comp usage \"verificationContext\" as E12  <<(T,blue) part>> [[psysml:1ba0f1fa-2142-46f9-b759-d2e88bd368a2 ]] {\r\n",
       "}\r\n",
       "}\r\n",
       "E3 - -:|> E2 [[psysml:2b222a15-a90b-432a-993d-d339516ea993 ]] \r\n",
       "E5 - -:|> E4 [[psysml:4afeeb28-a204-4e17-a080-31f9a6d380ec ]] \r\n",
       "E6 ..> E2 [[psysml:0a65a73b-aad1-46f6-97e3-b503c188383c ]] : <<subject>>\r\n",
       "E6 - ->> \"*\"E7 [[psysml:ca392d64-6b44-4e33-bff2-bf36fcd3e380 ]] : <<objective>>\r\n",
       "E9 ..> E2 [[psysml:e35a8663-5a9e-49b1-9953-8d2b3225b6ac ]] : <<subject>>\r\n",
       "E9 - ->> \"*\"E10 [[psysml:a2e94b2d-09ed-4b49-b784-abde9df75390 ]] : <<objective>>\r\n",
       "@enduml\r\n",
       "\n",
       "PlantUML version 1.2020.13(Sat Jun 13 12:26:38 UTC 2020)\n",
       "(EPL source distribution)\n",
       "Java Runtime: OpenJDK Runtime Environment\n",
       "JVM: OpenJDK 64-Bit Server VM\n",
       "Default Encoding: UTF-8\n",
       "Language: en\n",
       "Country: null\n",
       "--></g></svg>"
      ]
     },
     "execution_count": 3,
     "metadata": {},
     "output_type": "execute_result"
    }
   ],
   "source": [
    "%viz --style=\"COMPTREE\" --view=\"Tree\" \"VerificationTest\""
   ]
  },
  {
   "cell_type": "code",
   "execution_count": 4,
   "id": "826f7901",
   "metadata": {
    "execution": {
     "iopub.execute_input": "2021-10-03T08:26:46.609495Z",
     "iopub.status.busy": "2021-10-03T08:26:46.609083Z",
     "iopub.status.idle": "2021-10-03T08:26:46.615662Z",
     "shell.execute_reply": "2021-10-03T08:26:46.615991Z"
    }
   },
   "outputs": [
    {
     "data": {
      "image/svg+xml": [
       "<?xml version=\"1.0\" encoding=\"UTF-8\" standalone=\"no\"?><svg xmlns=\"http://www.w3.org/2000/svg\" xmlns:xlink=\"http://www.w3.org/1999/xlink\" contentScriptType=\"application/ecmascript\" contentStyleType=\"text/css\" height=\"12px\" preserveAspectRatio=\"none\" style=\"width:12px;height:12px;\" version=\"1.1\" viewBox=\"0 0 12 12\" width=\"12px\" zoomAndPan=\"magnify\"><defs/><g><!--MD5=[f19188ef49e11757b5c46753f95d9edc]\n",
       "@startuml\r\n",
       " skinparam monochrome true\r\n",
       "skinparam classbackgroundcolor white\r\n",
       "skinparam shadowing false\r\n",
       "skinparam wrapWidth 300\r\n",
       "hide circle\r\n",
       "\r\n",
       "@enduml\r\n",
       "\n",
       "PlantUML version 1.2020.13(Sat Jun 13 12:26:38 UTC 2020)\n",
       "(EPL source distribution)\n",
       "Java Runtime: OpenJDK Runtime Environment\n",
       "JVM: OpenJDK 64-Bit Server VM\n",
       "Default Encoding: UTF-8\n",
       "Language: en\n",
       "Country: null\n",
       "--></g></svg>"
      ]
     },
     "execution_count": 4,
     "metadata": {},
     "output_type": "execute_result"
    }
   ],
   "source": [
    "%viz --style=\"COMPTREE\" --view=\"State\" \"VerificationTest\""
   ]
  },
  {
   "cell_type": "code",
   "execution_count": 5,
   "id": "37a36834",
   "metadata": {
    "execution": {
     "iopub.execute_input": "2021-10-03T08:26:46.665977Z",
     "iopub.status.busy": "2021-10-03T08:26:46.665576Z",
     "iopub.status.idle": "2021-10-03T08:26:46.765855Z",
     "shell.execute_reply": "2021-10-03T08:26:46.765506Z"
    }
   },
   "outputs": [
    {
     "data": {
      "image/svg+xml": [
       "<?xml version=\"1.0\" encoding=\"UTF-8\" standalone=\"no\"?><svg xmlns=\"http://www.w3.org/2000/svg\" xmlns:xlink=\"http://www.w3.org/1999/xlink\" contentScriptType=\"application/ecmascript\" contentStyleType=\"text/css\" height=\"436px\" preserveAspectRatio=\"none\" style=\"width:1278px;height:436px;\" version=\"1.1\" viewBox=\"0 0 1278 436\" width=\"1278px\" zoomAndPan=\"magnify\"><defs/><g><!--MD5=[fbc87193dbaf4d95561dea2c320d4a47]\n",
       "cluster E1--><a href=\"psysml:7303dfcd-df1a-4034-bc74-eb93457ec7c0\" target=\"_top\" title=\"psysml:7303dfcd-df1a-4034-bc74-eb93457ec7c0\" xlink:actuate=\"onRequest\" xlink:href=\"psysml:7303dfcd-df1a-4034-bc74-eb93457ec7c0\" xlink:show=\"new\" xlink:title=\"psysml:7303dfcd-df1a-4034-bc74-eb93457ec7c0\" xlink:type=\"simple\"><polygon fill=\"#FFFFFF\" points=\"16,6,128,6,135,28.2969,1256,28.2969,1256,424.36,16,424.36,16,6\" style=\"stroke: #000000; stroke-width: 1.5;\"/><line style=\"stroke: #000000; stroke-width: 1.5;\" x1=\"16\" x2=\"135\" y1=\"28.2969\" y2=\"28.2969\"/><text fill=\"#000000\" font-family=\"sans-serif\" font-size=\"14\" font-weight=\"bold\" lengthAdjust=\"spacingAndGlyphs\" textLength=\"106\" x=\"20\" y=\"20.9951\">VerificationTest</text></a><!--MD5=[14e3b0961a2654348d326746436168a1]\n",
       "cluster E6--><a href=\"psysml:f44943ce-87bd-4d2b-91db-f66bd879bf72\" target=\"_top\" title=\"psysml:f44943ce-87bd-4d2b-91db-f66bd879bf72\" xlink:actuate=\"onRequest\" xlink:href=\"psysml:f44943ce-87bd-4d2b-91db-f66bd879bf72\" xlink:show=\"new\" xlink:title=\"psysml:f44943ce-87bd-4d2b-91db-f66bd879bf72\" xlink:type=\"simple\"><rect fill=\"#FFFFFF\" height=\"218.36\" id=\"E6\" style=\"stroke: #383838; stroke-width: 1.5;\" width=\"200\" x=\"1040\" y=\"107\"/><rect fill=\"#F8F8F8\" height=\"37.9375\" style=\"stroke: #383838; stroke-width: 1.5;\" width=\"200\" x=\"1040\" y=\"107\"/><text fill=\"#000000\" font-family=\"sans-serif\" font-size=\"12\" font-style=\"italic\" lengthAdjust=\"spacingAndGlyphs\" textLength=\"137\" x=\"1071.5\" y=\"123.1387\">«verificationCase def»</text><text fill=\"#000000\" font-family=\"sans-serif\" font-size=\"12\" lengthAdjust=\"spacingAndGlyphs\" textLength=\"101\" x=\"1089.5\" y=\"137.1074\">VerificationCase</text></a><!--MD5=[7f149f147074ac12df2cb0a7728a5fb0]\n",
       "cluster E9--><a href=\"psysml:109e665d-9569-4e28-8454-db86a3b7365b\" target=\"_top\" title=\"psysml:109e665d-9569-4e28-8454-db86a3b7365b\" xlink:actuate=\"onRequest\" xlink:href=\"psysml:109e665d-9569-4e28-8454-db86a3b7365b\" xlink:show=\"new\" xlink:title=\"psysml:109e665d-9569-4e28-8454-db86a3b7365b\" xlink:type=\"simple\"><rect fill=\"#FFFFFF\" height=\"293.36\" id=\"E9\" style=\"stroke: #383838; stroke-width: 1.5;\" width=\"322\" x=\"688\" y=\"107\"/><rect fill=\"#F8F8F8\" height=\"37.9375\" style=\"stroke: #383838; stroke-width: 1.5;\" width=\"322\" x=\"688\" y=\"107\"/><text fill=\"#000000\" font-family=\"sans-serif\" font-size=\"12\" font-style=\"italic\" lengthAdjust=\"spacingAndGlyphs\" textLength=\"137\" x=\"780.5\" y=\"123.1387\">«verificationCase def»</text><text fill=\"#000000\" font-family=\"sans-serif\" font-size=\"12\" lengthAdjust=\"spacingAndGlyphs\" textLength=\"97\" x=\"800.5\" y=\"137.1074\">VerificationPlan</text></a><!--MD5=[917b9dd0c7eca3ee5f47219d1a84c0ad]\n",
       "cluster E11--><a href=\"psysml:d8eec309-4539-4ef6-b593-f8d5221313a5\" target=\"_top\" title=\"psysml:d8eec309-4539-4ef6-b593-f8d5221313a5\" xlink:actuate=\"onRequest\" xlink:href=\"psysml:d8eec309-4539-4ef6-b593-f8d5221313a5\" xlink:show=\"new\" xlink:title=\"psysml:d8eec309-4539-4ef6-b593-f8d5221313a5\" xlink:type=\"simple\"><rect fill=\"#FFFFFF\" height=\"165.86\" id=\"E11\" rx=\"10\" ry=\"10\" style=\"stroke: #383838; stroke-width: 1.5;\" width=\"174\" x=\"798\" y=\"196.5\"/><rect fill=\"#F8F8F8\" height=\"37.9375\" rx=\"10\" ry=\"10\" style=\"stroke: #F8F8F8; stroke-width: 1.5;\" width=\"174\" x=\"798\" y=\"196.5\"/><rect fill=\"#F8F8F8\" height=\"10\" style=\"stroke: #F8F8F8; stroke-width: 1.5;\" width=\"174\" x=\"798\" y=\"224.4375\"/><rect fill=\"none\" height=\"165.86\" id=\"E11\" rx=\"10\" ry=\"10\" style=\"stroke: #383838; stroke-width: 1.5;\" width=\"174\" x=\"798\" y=\"196.5\"/><text fill=\"#000000\" font-family=\"sans-serif\" font-size=\"12\" font-style=\"italic\" lengthAdjust=\"spacingAndGlyphs\" textLength=\"113\" x=\"828.5\" y=\"212.6387\">«verificationCase»</text><text fill=\"#000000\" font-family=\"sans-serif\" font-size=\"12\" lengthAdjust=\"spacingAndGlyphs\" textLength=\"99\" x=\"835.5\" y=\"226.6074\">verificationCase</text><line style=\"stroke: #383838; stroke-width: 1.0;\" x1=\"798\" x2=\"972\" y1=\"234.4375\" y2=\"234.4375\"/></a><!--MD5=[ab3548ab6224ff035c4047a4d30b7567]\n",
       "cluster E15--><a href=\"psysml:1ba0f1fa-2142-46f9-b759-d2e88bd368a2\" target=\"_top\" title=\"psysml:1ba0f1fa-2142-46f9-b759-d2e88bd368a2\" xlink:actuate=\"onRequest\" xlink:href=\"psysml:1ba0f1fa-2142-46f9-b759-d2e88bd368a2\" xlink:show=\"new\" xlink:title=\"psysml:1ba0f1fa-2142-46f9-b759-d2e88bd368a2\" xlink:type=\"simple\"><rect fill=\"#FFFFFF\" height=\"186.5\" id=\"E15\" rx=\"10\" ry=\"10\" style=\"stroke: #383838; stroke-width: 1.5;\" width=\"238\" x=\"336\" y=\"49\"/><rect fill=\"#F8F8F8\" height=\"23.9688\" rx=\"10\" ry=\"10\" style=\"stroke: #F8F8F8; stroke-width: 1.5;\" width=\"238\" x=\"336\" y=\"49\"/><rect fill=\"#F8F8F8\" height=\"10\" style=\"stroke: #F8F8F8; stroke-width: 1.5;\" width=\"238\" x=\"336\" y=\"62.9688\"/><rect fill=\"none\" height=\"186.5\" id=\"E15\" rx=\"10\" ry=\"10\" style=\"stroke: #383838; stroke-width: 1.5;\" width=\"238\" x=\"336\" y=\"49\"/><text fill=\"#000000\" font-family=\"sans-serif\" font-size=\"12\" lengthAdjust=\"spacingAndGlyphs\" textLength=\"116\" x=\"397\" y=\"65.1387\">verificationContext</text><line style=\"stroke: #383838; stroke-width: 1.0;\" x1=\"336\" x2=\"574\" y1=\"72.9688\" y2=\"72.9688\"/></a><!--MD5=[ebbe1d658d1005bcc118a6aa81145e00]\n",
       "class E4--><a href=\"psysml:971e85b9-9957-4674-90a7-be3bf98856c5\" target=\"_top\" title=\"psysml:971e85b9-9957-4674-90a7-be3bf98856c5\" xlink:actuate=\"onRequest\" xlink:href=\"psysml:971e85b9-9957-4674-90a7-be3bf98856c5\" xlink:show=\"new\" xlink:title=\"psysml:971e85b9-9957-4674-90a7-be3bf98856c5\" xlink:type=\"simple\"><rect fill=\"#FFFFFF\" height=\"66.7422\" id=\"E4\" style=\"stroke: #383838; stroke-width: 1.5;\" width=\"117\" x=\"202.5\" y=\"163\"/><text fill=\"#000000\" font-family=\"sans-serif\" font-size=\"12\" font-style=\"italic\" lengthAdjust=\"spacingAndGlyphs\" textLength=\"115\" x=\"203.5\" y=\"179.1387\">«requirement def»</text><text fill=\"#000000\" font-family=\"sans-serif\" font-size=\"12\" lengthAdjust=\"spacingAndGlyphs\" textLength=\"8\" x=\"257\" y=\"193.1074\">R</text><line style=\"stroke: #383838; stroke-width: 1.5;\" x1=\"203.5\" x2=\"318.5\" y1=\"200.9375\" y2=\"200.9375\"/><text fill=\"#000000\" font-family=\"sans-serif\" font-size=\"11\" lengthAdjust=\"spacingAndGlyphs\" textLength=\"12\" x=\"208.5\" y=\"215.1479\">...</text><line style=\"stroke: #383838; stroke-width: 1.0;\" x1=\"203.5\" x2=\"318.5\" y1=\"221.7422\" y2=\"221.7422\"/></a><!--MD5=[270fce915f116d4de14055a7c1d9a0f3]\n",
       "class E5--><a href=\"psysml:bbcd2223-85a4-4701-a24f-5592c5712336\" target=\"_top\" title=\"psysml:bbcd2223-85a4-4701-a24f-5592c5712336\" xlink:actuate=\"onRequest\" xlink:href=\"psysml:bbcd2223-85a4-4701-a24f-5592c5712336\" xlink:show=\"new\" xlink:title=\"psysml:bbcd2223-85a4-4701-a24f-5592c5712336\" xlink:type=\"simple\"><rect fill=\"#FFFFFF\" height=\"45.9375\" id=\"E5\" rx=\"10\" ry=\"10\" style=\"stroke: #383838; stroke-width: 1.5;\" width=\"93\" x=\"223.5\" y=\"84\"/><text fill=\"#000000\" font-family=\"sans-serif\" font-size=\"12\" font-style=\"italic\" lengthAdjust=\"spacingAndGlyphs\" textLength=\"91\" x=\"224.5\" y=\"100.1387\">«requirement»</text><text fill=\"#000000\" font-family=\"sans-serif\" font-size=\"12\" lengthAdjust=\"spacingAndGlyphs\" textLength=\"21\" x=\"259.5\" y=\"114.1074\">r: R</text><line style=\"stroke: #383838; stroke-width: 1.5;\" x1=\"224.5\" x2=\"315.5\" y1=\"121.9375\" y2=\"121.9375\"/></a><g id=\"E1.E2\"><a href=\"psysml:ee2cd088-4b38-485a-bdcf-f034eebaa933\" target=\"_top\" title=\"psysml:ee2cd088-4b38-485a-bdcf-f034eebaa933\" xlink:actuate=\"onRequest\" xlink:href=\"psysml:ee2cd088-4b38-485a-bdcf-f034eebaa933\" xlink:show=\"new\" xlink:title=\"psysml:ee2cd088-4b38-485a-bdcf-f034eebaa933\" xlink:type=\"simple\"><rect fill=\"#FFFFFF\" height=\"42.9375\" id=\"E2\" style=\"stroke: #383838; stroke-width: 1.5;\" width=\"71\" x=\"117.5\" y=\"85.5\"/><rect fill=\"#F8F8F8\" height=\"37.9375\" style=\"stroke: #383838; stroke-width: 1.5;\" width=\"71\" x=\"117.5\" y=\"85.5\"/><text fill=\"#000000\" font-family=\"sans-serif\" font-size=\"12\" font-style=\"italic\" lengthAdjust=\"spacingAndGlyphs\" textLength=\"64\" x=\"121\" y=\"101.6387\">«part def»</text><text fill=\"#000000\" font-family=\"sans-serif\" font-size=\"12\" lengthAdjust=\"spacingAndGlyphs\" textLength=\"8\" x=\"149\" y=\"115.6074\">V</text></a></g><g id=\"E1.E3\"><a href=\"psysml:ea23779d-7b91-41e0-a4d1-5f0745e774d2\" target=\"_top\" title=\"psysml:ea23779d-7b91-41e0-a4d1-5f0745e774d2\" xlink:actuate=\"onRequest\" xlink:href=\"psysml:ea23779d-7b91-41e0-a4d1-5f0745e774d2\" xlink:show=\"new\" xlink:title=\"psysml:ea23779d-7b91-41e0-a4d1-5f0745e774d2\" xlink:type=\"simple\"><rect fill=\"#FFFFFF\" height=\"40\" id=\"E3\" rx=\"10\" ry=\"10\" style=\"stroke: #383838; stroke-width: 1.5;\" width=\"50\" x=\"32\" y=\"87\"/><rect fill=\"#F8F8F8\" height=\"23.9688\" rx=\"10\" ry=\"10\" style=\"stroke: #F8F8F8; stroke-width: 1.5;\" width=\"50\" x=\"32\" y=\"87\"/><rect fill=\"#F8F8F8\" height=\"10\" style=\"stroke: #F8F8F8; stroke-width: 1.5;\" width=\"50\" x=\"32\" y=\"100.9688\"/><rect fill=\"none\" height=\"40\" id=\"E3\" rx=\"10\" ry=\"10\" style=\"stroke: #383838; stroke-width: 1.5;\" width=\"50\" x=\"32\" y=\"87\"/><text fill=\"#000000\" font-family=\"sans-serif\" font-size=\"12\" lengthAdjust=\"spacingAndGlyphs\" textLength=\"28\" x=\"43\" y=\"103.1387\">vv: V</text></a></g><text fill=\"#000000\" font-family=\"sans-serif\" font-size=\"14\" lengthAdjust=\"spacingAndGlyphs\" textLength=\"7\" x=\"1136.5\" y=\"85.6982\">v</text><rect fill=\"#383838\" height=\"12\" style=\"stroke: #F8F8F8; stroke-width: 1.5;\" width=\"12\" x=\"1134\" y=\"101\"/><text fill=\"#000000\" font-family=\"sans-serif\" font-size=\"14\" lengthAdjust=\"spacingAndGlyphs\" textLength=\"46\" x=\"1117\" y=\"344.3551\">verdict</text><rect fill=\"#383838\" height=\"12\" style=\"stroke: #F8F8F8; stroke-width: 1.5;\" width=\"12\" x=\"1134\" y=\"319.36\"/><text fill=\"#000000\" font-family=\"sans-serif\" font-size=\"14\" lengthAdjust=\"spacingAndGlyphs\" textLength=\"7\" x=\"702.5\" y=\"85.6982\">v</text><rect fill=\"#383838\" height=\"12\" style=\"stroke: #F8F8F8; stroke-width: 1.5;\" width=\"12\" x=\"700\" y=\"101\"/><text fill=\"#000000\" font-family=\"sans-serif\" font-size=\"14\" lengthAdjust=\"spacingAndGlyphs\" textLength=\"46\" x=\"987\" y=\"344.3551\">verdict</text><rect fill=\"#383838\" height=\"12\" style=\"stroke: #F8F8F8; stroke-width: 1.5;\" width=\"12\" x=\"1004\" y=\"319.36\"/><text fill=\"#000000\" font-family=\"sans-serif\" font-size=\"14\" lengthAdjust=\"spacingAndGlyphs\" textLength=\"46\" x=\"862\" y=\"381.3551\">verdict</text><rect fill=\"#383838\" height=\"12\" style=\"stroke: #F8F8F8; stroke-width: 1.5;\" width=\"12\" x=\"879\" y=\"356.36\"/><text fill=\"#000000\" font-family=\"sans-serif\" font-size=\"14\" lengthAdjust=\"spacingAndGlyphs\" textLength=\"7\" x=\"881.5\" y=\"175.1982\">v</text><rect fill=\"#383838\" height=\"12\" style=\"stroke: #F8F8F8; stroke-width: 1.5;\" width=\"12\" x=\"879\" y=\"190.5\"/><!--MD5=[35f0587eaee8d5bb9a02e25b63afc23b]\n",
       "class E16--><a href=\"psysml:f139e62b-7bf9-43a0-a382-40038ed35c63\" target=\"_top\" title=\"psysml:f139e62b-7bf9-43a0-a382-40038ed35c63\" xlink:actuate=\"onRequest\" xlink:href=\"psysml:f139e62b-7bf9-43a0-a382-40038ed35c63\" xlink:show=\"new\" xlink:title=\"psysml:f139e62b-7bf9-43a0-a382-40038ed35c63\" xlink:type=\"simple\"><rect fill=\"#FFFFFF\" height=\"45.9375\" id=\"E16\" rx=\"10\" ry=\"10\" style=\"stroke: #383838; stroke-width: 1.5;\" width=\"206\" x=\"352\" y=\"84\"/><text fill=\"#000000\" font-family=\"sans-serif\" font-size=\"12\" font-style=\"italic\" lengthAdjust=\"spacingAndGlyphs\" textLength=\"113\" x=\"398.5\" y=\"100.1387\">«verificationCase»</text><text fill=\"#000000\" font-family=\"sans-serif\" font-size=\"12\" lengthAdjust=\"spacingAndGlyphs\" textLength=\"200\" x=\"355\" y=\"114.1074\">verificationPlan: VerificationPlan</text><line style=\"stroke: #383838; stroke-width: 1.5;\" x1=\"353\" x2=\"557\" y1=\"121.9375\" y2=\"121.9375\"/></a><!--MD5=[60e55a4a9b2f0dc0a36787c5a2095786]\n",
       "class E17--><a href=\"psysml:fe640fc2-093c-44fe-a9fd-0ceecb8f463c\" target=\"_top\" title=\"psysml:fe640fc2-093c-44fe-a9fd-0ceecb8f463c\" xlink:actuate=\"onRequest\" xlink:href=\"psysml:fe640fc2-093c-44fe-a9fd-0ceecb8f463c\" xlink:show=\"new\" xlink:title=\"psysml:fe640fc2-093c-44fe-a9fd-0ceecb8f463c\" xlink:type=\"simple\"><rect fill=\"#FFFFFF\" height=\"45.9375\" id=\"E17\" rx=\"10\" ry=\"10\" style=\"stroke: #383838; stroke-width: 1.5;\" width=\"93\" x=\"408.5\" y=\"173.5\"/><text fill=\"#000000\" font-family=\"sans-serif\" font-size=\"12\" font-style=\"italic\" lengthAdjust=\"spacingAndGlyphs\" textLength=\"91\" x=\"409.5\" y=\"189.6387\">«requirement»</text><text fill=\"#000000\" font-family=\"sans-serif\" font-size=\"12\" lengthAdjust=\"spacingAndGlyphs\" textLength=\"19\" x=\"445.5\" y=\"203.6074\">obj</text><line style=\"stroke: #383838; stroke-width: 1.5;\" x1=\"409.5\" x2=\"500.5\" y1=\"211.4375\" y2=\"211.4375\"/></a><!--MD5=[1c62de2aa5b76f0fb657ff8443a1a700]\n",
       "link E5 to E4--><a href=\"psysml:4afeeb28-a204-4e17-a080-31f9a6d380ec\" target=\"_top\" title=\"psysml:4afeeb28-a204-4e17-a080-31f9a6d380ec\" xlink:actuate=\"onRequest\" xlink:href=\"psysml:4afeeb28-a204-4e17-a080-31f9a6d380ec\" xlink:show=\"new\" xlink:title=\"psysml:4afeeb28-a204-4e17-a080-31f9a6d380ec\" xlink:type=\"simple\"><path d=\"M267.73,130.08 C267.32,134.03 266.88,138.3 266.43,142.7 \" fill=\"none\" id=\"E5-&gt;E4\" style=\"stroke: #383838; stroke-width: 1.0;\"/><polygon fill=\"#FFFFFF\" points=\"264.36,162.84,259.3369,143.2245,273.2637,144.6542,264.36,162.84\" style=\"stroke: #383838; stroke-width: 1.0;\"/><ellipse cx=\"261.9085\" cy=\"137.7585\" fill=\"#383838\" rx=\"2\" ry=\"2\" style=\"stroke: #383838; stroke-width: 1.0;\"/><ellipse cx=\"271.8562\" cy=\"138.7797\" fill=\"#383838\" rx=\"2\" ry=\"2\" style=\"stroke: #383838; stroke-width: 1.0;\"/></a><!--MD5=[4de2d328c39b6d65fb95a84ef336270e]\n",
       "link E16 to E9--><a href=\"psysml:cd73bb42-520f-4e04-8240-7f040abbe442\" target=\"_top\" title=\"psysml:cd73bb42-520f-4e04-8240-7f040abbe442\" xlink:actuate=\"onRequest\" xlink:href=\"psysml:cd73bb42-520f-4e04-8240-7f040abbe442\" xlink:show=\"new\" xlink:title=\"psysml:cd73bb42-520f-4e04-8240-7f040abbe442\" xlink:type=\"simple\"><path d=\"M518.34,130.08 C561.91,145.27 618.85,165.12 658.53,178.95 \" fill=\"none\" id=\"E16-&gt;E9\" style=\"stroke: #383838; stroke-width: 1.0;\"/><polygon fill=\"#FFFFFF\" points=\"658.53,178.95,638.2847,179.3067,642.8924,166.0867,658.53,178.95\" style=\"stroke: #383838; stroke-width: 1.0;\"/><ellipse cx=\"633.5605\" cy=\"175.5422\" fill=\"#383838\" rx=\"2\" ry=\"2\" style=\"stroke: #383838; stroke-width: 1.0;\"/><ellipse cx=\"636.8517\" cy=\"166.0993\" fill=\"#383838\" rx=\"2\" ry=\"2\" style=\"stroke: #383838; stroke-width: 1.0;\"/></a><!--MD5=[450e3481f1c83a03a55fcf78b0bbbde6]\n",
       "link E16 to E17--><a href=\"psysml:e29f10bd-d5bc-4797-97ab-a37fb0e5db5b\" target=\"_top\" title=\"psysml:e29f10bd-d5bc-4797-97ab-a37fb0e5db5b\" xlink:actuate=\"onRequest\" xlink:href=\"psysml:e29f10bd-d5bc-4797-97ab-a37fb0e5db5b\" xlink:show=\"new\" xlink:title=\"psysml:e29f10bd-d5bc-4797-97ab-a37fb0e5db5b\" xlink:type=\"simple\"><path d=\"M455,130.08 C455,140.75 455,153.73 455,165.3 \" fill=\"none\" id=\"E16-&gt;E17\" style=\"stroke: #383838; stroke-width: 1.0;\"/><polygon fill=\"#383838\" points=\"455,173.43,458,165.43,452,165.43,455,173.43\" style=\"stroke: #383838; stroke-width: 1.0;\"/><text fill=\"#000000\" font-family=\"sans-serif\" font-size=\"13\" lengthAdjust=\"spacingAndGlyphs\" textLength=\"73\" x=\"456\" y=\"151.0669\">«objective»</text><text fill=\"#000000\" font-family=\"sans-serif\" font-size=\"13\" lengthAdjust=\"spacingAndGlyphs\" textLength=\"7\" x=\"447.0594\" y=\"162.3075\">*</text></a><!--MD5=[f9dd6cc471b785f13b0e3017d2f55d1f]\n",
       "@startuml\r\n",
       "skinparam ranksep 10\r\n",
       "skinparam rectangle {\r\n",
       " backgroundColor<<block>> LightGreen\r\n",
       "}\r\n",
       " skinparam monochrome true\r\n",
       "skinparam classbackgroundcolor white\r\n",
       "skinparam shadowing false\r\n",
       "skinparam wrapWidth 300\r\n",
       "hide circle\r\n",
       "\r\n",
       "package \"VerificationTest\" as E1  [[psysml:7303dfcd-df1a-4034-bc74-eb93457ec7c0 ]]  {\r\n",
       "rec def \"V\" as E2  <<(T,blue) part def>> [[psysml:ee2cd088-4b38-485a-bdcf-f034eebaa933 ]] {\r\n",
       "}\r\n",
       "rec usage \"vv: V\" as E3  [[psysml:ea23779d-7b91-41e0-a4d1-5f0745e774d2 ]] {\r\n",
       "}\r\n",
       "comp def \"R\" as E4  <<(T,blue) requirement def>> [[psysml:971e85b9-9957-4674-90a7-be3bf98856c5 ]] {\r\n",
       "...\r\n",
       "- -\r\n",
       "}\r\n",
       "comp usage \"r: R\" as E5  <<(T,blue) requirement>> [[psysml:bbcd2223-85a4-4701-a24f-5592c5712336 ]] {\r\n",
       "}\r\n",
       "rec def \"VerificationCase\" as E6  <<(T,blue) verificationCase def>> [[psysml:f44943ce-87bd-4d2b-91db-f66bd879bf72 ]] {\r\n",
       "portin \"v\" as E7  [[psysml:39e4c68a-7e48-4018-a595-005447bc25d1 ]] \r\n",
       "portout \"verdict\" as E8  [[psysml:e7480a5a-bc03-4bfb-926c-ff77790341ab ]] \r\n",
       "}\r\n",
       "\r\n",
       "rec def \"VerificationPlan\" as E9  <<(T,blue) verificationCase def>> [[psysml:109e665d-9569-4e28-8454-db86a3b7365b ]] {\r\n",
       "portin \"v\" as E10  [[psysml:bc04aa0f-1251-4bd1-9492-821de83ad0f4 ]] \r\n",
       "rec usage \"verificationCase\" as E11  <<(T,blue) verificationCase>> [[psysml:d8eec309-4539-4ef6-b593-f8d5221313a5 ]] {\r\n",
       "portout \"verdict\" as E12  [[psysml:d4b19012-2d8f-412c-81cb-04106ed54ab9 ]] \r\n",
       "portin \"v\" as E13  [[psysml:101691aa-2b16-4439-bb49-3b5a9750b72a ]] \r\n",
       "}\r\n",
       "\r\n",
       "portout \"verdict\" as E14  [[psysml:d1cc474d-a7ae-4245-8f3b-eac2c389ad3d ]] \r\n",
       "}\r\n",
       "\r\n",
       "rec usage \"verificationContext\" as E15  [[psysml:1ba0f1fa-2142-46f9-b759-d2e88bd368a2 ]] {\r\n",
       "comp usage \"verificationPlan: VerificationPlan\" as E16  <<(T,blue) verificationCase>> [[psysml:f139e62b-7bf9-43a0-a382-40038ed35c63 ]] {\r\n",
       "}\r\n",
       "comp usage \"obj\" as E17  <<(T,blue) requirement>> [[psysml:fe640fc2-093c-44fe-a9fd-0ceecb8f463c ]] {\r\n",
       "}\r\n",
       "}\r\n",
       "}\r\n",
       "E5 - -:|> E4 [[psysml:4afeeb28-a204-4e17-a080-31f9a6d380ec ]] \r\n",
       "E16 - -:|> E9 [[psysml:cd73bb42-520f-4e04-8240-7f040abbe442 ]] \r\n",
       "E16 - ->> \"*\"E17 [[psysml:e29f10bd-d5bc-4797-97ab-a37fb0e5db5b ]] : <<objective>>\r\n",
       "@enduml\r\n",
       "\n",
       "PlantUML version 1.2020.13(Sat Jun 13 12:26:38 UTC 2020)\n",
       "(EPL source distribution)\n",
       "Java Runtime: OpenJDK Runtime Environment\n",
       "JVM: OpenJDK 64-Bit Server VM\n",
       "Default Encoding: UTF-8\n",
       "Language: en\n",
       "Country: null\n",
       "--></g></svg>"
      ]
     },
     "execution_count": 5,
     "metadata": {},
     "output_type": "execute_result"
    }
   ],
   "source": [
    "%viz --style=\"COMPTREE\" --view=\"Interconnection\" \"VerificationTest\""
   ]
  },
  {
   "cell_type": "code",
   "execution_count": 6,
   "id": "a2763138",
   "metadata": {
    "execution": {
     "iopub.execute_input": "2021-10-03T08:26:46.815113Z",
     "iopub.status.busy": "2021-10-03T08:26:46.814688Z",
     "iopub.status.idle": "2021-10-03T08:26:46.871078Z",
     "shell.execute_reply": "2021-10-03T08:26:46.870701Z"
    }
   },
   "outputs": [
    {
     "data": {
      "image/svg+xml": [
       "<?xml version=\"1.0\" encoding=\"UTF-8\" standalone=\"no\"?><svg xmlns=\"http://www.w3.org/2000/svg\" xmlns:xlink=\"http://www.w3.org/1999/xlink\" contentScriptType=\"application/ecmascript\" contentStyleType=\"text/css\" height=\"233px\" preserveAspectRatio=\"none\" style=\"width:835px;height:233px;\" version=\"1.1\" viewBox=\"0 0 835 233\" width=\"835px\" zoomAndPan=\"magnify\"><defs/><g><!--MD5=[fbc87193dbaf4d95561dea2c320d4a47]\n",
       "cluster E1--><a href=\"psysml:f44943ce-87bd-4d2b-91db-f66bd879bf72\" target=\"_top\" title=\"psysml:f44943ce-87bd-4d2b-91db-f66bd879bf72\" xlink:actuate=\"onRequest\" xlink:href=\"psysml:f44943ce-87bd-4d2b-91db-f66bd879bf72\" xlink:show=\"new\" xlink:title=\"psysml:f44943ce-87bd-4d2b-91db-f66bd879bf72\" xlink:type=\"simple\"><rect fill=\"#FFFFFF\" height=\"122\" id=\"E1\" style=\"stroke: #383838; stroke-width: 1.5;\" width=\"200\" x=\"7\" y=\"42.0986\"/><rect fill=\"#F8F8F8\" height=\"37.9375\" style=\"stroke: #383838; stroke-width: 1.5;\" width=\"200\" x=\"7\" y=\"42.0986\"/><text fill=\"#000000\" font-family=\"sans-serif\" font-size=\"12\" font-style=\"italic\" lengthAdjust=\"spacingAndGlyphs\" textLength=\"137\" x=\"38.5\" y=\"58.2373\">«verificationCase def»</text><text fill=\"#000000\" font-family=\"sans-serif\" font-size=\"12\" lengthAdjust=\"spacingAndGlyphs\" textLength=\"101\" x=\"56.5\" y=\"72.2061\">VerificationCase</text></a><!--MD5=[f6df4d0ebaf0b5dfb2ced0ae5af7c670]\n",
       "cluster E4--><a href=\"psysml:109e665d-9569-4e28-8454-db86a3b7365b\" target=\"_top\" title=\"psysml:109e665d-9569-4e28-8454-db86a3b7365b\" xlink:actuate=\"onRequest\" xlink:href=\"psysml:109e665d-9569-4e28-8454-db86a3b7365b\" xlink:show=\"new\" xlink:title=\"psysml:109e665d-9569-4e28-8454-db86a3b7365b\" xlink:type=\"simple\"><rect fill=\"#FFFFFF\" height=\"180\" id=\"E4\" style=\"stroke: #383838; stroke-width: 1.5;\" width=\"325\" x=\"297\" y=\"42.0986\"/><rect fill=\"#F8F8F8\" height=\"37.9375\" style=\"stroke: #383838; stroke-width: 1.5;\" width=\"325\" x=\"297\" y=\"42.0986\"/><text fill=\"#000000\" font-family=\"sans-serif\" font-size=\"12\" font-style=\"italic\" lengthAdjust=\"spacingAndGlyphs\" textLength=\"137\" x=\"391\" y=\"58.2373\">«verificationCase def»</text><text fill=\"#000000\" font-family=\"sans-serif\" font-size=\"12\" lengthAdjust=\"spacingAndGlyphs\" textLength=\"97\" x=\"411\" y=\"72.2061\">VerificationPlan</text></a><!--MD5=[14e3b0961a2654348d326746436168a1]\n",
       "cluster E6--><a href=\"psysml:d8eec309-4539-4ef6-b593-f8d5221313a5\" target=\"_top\" title=\"psysml:d8eec309-4539-4ef6-b593-f8d5221313a5\" xlink:actuate=\"onRequest\" xlink:href=\"psysml:d8eec309-4539-4ef6-b593-f8d5221313a5\" xlink:show=\"new\" xlink:title=\"psysml:d8eec309-4539-4ef6-b593-f8d5221313a5\" xlink:type=\"simple\"><rect fill=\"#FFFFFF\" height=\"110.5\" id=\"E6\" rx=\"10\" ry=\"10\" style=\"stroke: #383838; stroke-width: 1.5;\" width=\"174\" x=\"407\" y=\"81.5986\"/><rect fill=\"#F8F8F8\" height=\"37.9375\" rx=\"10\" ry=\"10\" style=\"stroke: #F8F8F8; stroke-width: 1.5;\" width=\"174\" x=\"407\" y=\"81.5986\"/><rect fill=\"#F8F8F8\" height=\"10\" style=\"stroke: #F8F8F8; stroke-width: 1.5;\" width=\"174\" x=\"407\" y=\"109.5361\"/><rect fill=\"none\" height=\"110.5\" id=\"E6\" rx=\"10\" ry=\"10\" style=\"stroke: #383838; stroke-width: 1.5;\" width=\"174\" x=\"407\" y=\"81.5986\"/><text fill=\"#000000\" font-family=\"sans-serif\" font-size=\"12\" font-style=\"italic\" lengthAdjust=\"spacingAndGlyphs\" textLength=\"113\" x=\"437.5\" y=\"97.7373\">«verificationCase»</text><text fill=\"#000000\" font-family=\"sans-serif\" font-size=\"12\" lengthAdjust=\"spacingAndGlyphs\" textLength=\"99\" x=\"444.5\" y=\"111.7061\">verificationCase</text><line style=\"stroke: #383838; stroke-width: 1.0;\" x1=\"407\" x2=\"581\" y1=\"119.5361\" y2=\"119.5361\"/></a><!--MD5=[a84b4591f868c1fa4a211716a82f2f0d]\n",
       "cluster E10--><a href=\"psysml:f139e62b-7bf9-43a0-a382-40038ed35c63\" target=\"_top\" title=\"psysml:f139e62b-7bf9-43a0-a382-40038ed35c63\" xlink:actuate=\"onRequest\" xlink:href=\"psysml:f139e62b-7bf9-43a0-a382-40038ed35c63\" xlink:show=\"new\" xlink:title=\"psysml:f139e62b-7bf9-43a0-a382-40038ed35c63\" xlink:type=\"simple\"><rect fill=\"#FFFFFF\" height=\"122\" id=\"E10\" rx=\"10\" ry=\"10\" style=\"stroke: #383838; stroke-width: 1.5;\" width=\"172\" x=\"651\" y=\"42.0986\"/><rect fill=\"#F8F8F8\" height=\"37.9375\" rx=\"10\" ry=\"10\" style=\"stroke: #F8F8F8; stroke-width: 1.5;\" width=\"172\" x=\"651\" y=\"42.0986\"/><rect fill=\"#F8F8F8\" height=\"10\" style=\"stroke: #F8F8F8; stroke-width: 1.5;\" width=\"172\" x=\"651\" y=\"70.0361\"/><rect fill=\"none\" height=\"122\" id=\"E10\" rx=\"10\" ry=\"10\" style=\"stroke: #383838; stroke-width: 1.5;\" width=\"172\" x=\"651\" y=\"42.0986\"/><text fill=\"#000000\" font-family=\"sans-serif\" font-size=\"12\" font-style=\"italic\" lengthAdjust=\"spacingAndGlyphs\" textLength=\"113\" x=\"680.5\" y=\"58.2373\">«verificationCase»</text><text fill=\"#000000\" font-family=\"sans-serif\" font-size=\"12\" lengthAdjust=\"spacingAndGlyphs\" textLength=\"95\" x=\"689.5\" y=\"72.2061\">verificationPlan</text><line style=\"stroke: #383838; stroke-width: 1.0;\" x1=\"651\" x2=\"823\" y1=\"80.0361\" y2=\"80.0361\"/></a><text fill=\"#000000\" font-family=\"sans-serif\" font-size=\"14\" lengthAdjust=\"spacingAndGlyphs\" textLength=\"7\" x=\"103.5\" y=\"20.7969\">v</text><rect fill=\"#383838\" height=\"12\" style=\"stroke: #F8F8F8; stroke-width: 1.5;\" width=\"12\" x=\"101\" y=\"36.0986\"/><text fill=\"#000000\" font-family=\"sans-serif\" font-size=\"14\" lengthAdjust=\"spacingAndGlyphs\" textLength=\"46\" x=\"84\" y=\"183.0938\">verdict</text><rect fill=\"#383838\" height=\"12\" style=\"stroke: #F8F8F8; stroke-width: 1.5;\" width=\"12\" x=\"101\" y=\"158.0986\"/><text fill=\"#000000\" font-family=\"sans-serif\" font-size=\"14\" lengthAdjust=\"spacingAndGlyphs\" textLength=\"7\" x=\"311.5\" y=\"20.7969\">v</text><rect fill=\"#383838\" height=\"12\" style=\"stroke: #F8F8F8; stroke-width: 1.5;\" width=\"12\" x=\"309\" y=\"36.0986\"/><text fill=\"#000000\" font-family=\"sans-serif\" font-size=\"14\" lengthAdjust=\"spacingAndGlyphs\" textLength=\"46\" x=\"599\" y=\"183.0938\">verdict</text><rect fill=\"#383838\" height=\"12\" style=\"stroke: #F8F8F8; stroke-width: 1.5;\" width=\"12\" x=\"616\" y=\"158.0986\"/><text fill=\"#000000\" font-family=\"sans-serif\" font-size=\"14\" lengthAdjust=\"spacingAndGlyphs\" textLength=\"46\" x=\"471\" y=\"211.0938\">verdict</text><rect fill=\"#383838\" height=\"12\" style=\"stroke: #F8F8F8; stroke-width: 1.5;\" width=\"12\" x=\"488\" y=\"186.0986\"/><text fill=\"#000000\" font-family=\"sans-serif\" font-size=\"14\" lengthAdjust=\"spacingAndGlyphs\" textLength=\"7\" x=\"490.5\" y=\"60.2969\">v</text><rect fill=\"#383838\" height=\"12\" style=\"stroke: #F8F8F8; stroke-width: 1.5;\" width=\"12\" x=\"488\" y=\"75.5986\"/><text fill=\"#000000\" font-family=\"sans-serif\" font-size=\"14\" lengthAdjust=\"spacingAndGlyphs\" textLength=\"7\" x=\"732.5\" y=\"20.7969\">v</text><rect fill=\"#383838\" height=\"12\" style=\"stroke: #F8F8F8; stroke-width: 1.5;\" width=\"12\" x=\"730\" y=\"36.0986\"/><text fill=\"#000000\" font-family=\"sans-serif\" font-size=\"14\" lengthAdjust=\"spacingAndGlyphs\" textLength=\"46\" x=\"646\" y=\"183.0938\">verdict</text><rect fill=\"#383838\" height=\"12\" style=\"stroke: #F8F8F8; stroke-width: 1.5;\" width=\"12\" x=\"663\" y=\"158.0986\"/><!--MD5=[c60b0c24acb20878221586f7f5f24eab]\n",
       "@startuml\r\n",
       "skinparam ranksep 8\r\n",
       " skinparam monochrome true\r\n",
       "skinparam classbackgroundcolor white\r\n",
       "skinparam shadowing false\r\n",
       "skinparam wrapWidth 300\r\n",
       "hide circle\r\n",
       "\r\n",
       "rec def \"VerificationCase\" as E1  <<(T,blue) verificationCase def>> [[psysml:f44943ce-87bd-4d2b-91db-f66bd879bf72 ]] {\r\n",
       "portin \"v\" as E2  [[psysml:39e4c68a-7e48-4018-a595-005447bc25d1 ]] \r\n",
       "portout \"verdict\" as E3  [[psysml:e7480a5a-bc03-4bfb-926c-ff77790341ab ]] \r\n",
       "}\r\n",
       "\r\n",
       "rec def \"VerificationPlan\" as E4  <<(T,blue) verificationCase def>> [[psysml:109e665d-9569-4e28-8454-db86a3b7365b ]] {\r\n",
       "portin \"v\" as E5  [[psysml:bc04aa0f-1251-4bd1-9492-821de83ad0f4 ]] \r\n",
       "rec usage \"verificationCase\" as E6  <<(T,blue) verificationCase>> [[psysml:d8eec309-4539-4ef6-b593-f8d5221313a5 ]] {\r\n",
       "portout \"verdict\" as E7  [[psysml:d4b19012-2d8f-412c-81cb-04106ed54ab9 ]] \r\n",
       "portin \"v\" as E8  [[psysml:101691aa-2b16-4439-bb49-3b5a9750b72a ]] \r\n",
       "}\r\n",
       "\r\n",
       "portout \"verdict\" as E9  [[psysml:d1cc474d-a7ae-4245-8f3b-eac2c389ad3d ]] \r\n",
       "}\r\n",
       "\r\n",
       "rec usage \"verificationPlan\" as E10  <<(T,blue) verificationCase>> [[psysml:f139e62b-7bf9-43a0-a382-40038ed35c63 ]] {\r\n",
       "portin \"v\" as E11  [[psysml:e60d74c1-8e27-4253-b6e4-c059af187aab ]] \r\n",
       "portout \"verdict\" as E12  [[psysml:d1cf56c3-055d-4e01-94eb-7c3e50de0a09 ]] \r\n",
       "}\r\n",
       "\r\n",
       "@enduml\r\n",
       "\n",
       "PlantUML version 1.2020.13(Sat Jun 13 12:26:38 UTC 2020)\n",
       "(EPL source distribution)\n",
       "Java Runtime: OpenJDK Runtime Environment\n",
       "JVM: OpenJDK 64-Bit Server VM\n",
       "Default Encoding: UTF-8\n",
       "Language: en\n",
       "Country: null\n",
       "--></g></svg>"
      ]
     },
     "execution_count": 6,
     "metadata": {},
     "output_type": "execute_result"
    }
   ],
   "source": [
    "%viz --style=\"COMPTREE\" --view=\"Action\" \"VerificationTest\""
   ]
  },
  {
   "cell_type": "code",
   "execution_count": 7,
   "id": "0e236c03",
   "metadata": {
    "execution": {
     "iopub.execute_input": "2021-10-03T08:26:46.920625Z",
     "iopub.status.busy": "2021-10-03T08:26:46.920221Z",
     "iopub.status.idle": "2021-10-03T08:26:46.932741Z",
     "shell.execute_reply": "2021-10-03T08:26:46.933057Z"
    }
   },
   "outputs": [
    {
     "data": {
      "image/svg+xml": [
       "<?xml version=\"1.0\" encoding=\"UTF-8\" standalone=\"no\"?><svg xmlns=\"http://www.w3.org/2000/svg\" xmlns:xlink=\"http://www.w3.org/1999/xlink\" contentScriptType=\"application/ecmascript\" contentStyleType=\"text/css\" height=\"12px\" preserveAspectRatio=\"none\" style=\"width:12px;height:12px;\" version=\"1.1\" viewBox=\"0 0 12 12\" width=\"12px\" zoomAndPan=\"magnify\"><defs/><g><!--MD5=[803fc46c337be7a5c8a9831e35356779]\n",
       "@startuml\r\n",
       "skinparam roundcorner 20\r\n",
       "skinparam BoxPadding 20\r\n",
       "skinparam SequenceBoxBackgroundColor #white\r\n",
       "skinparam style strictuml\r\n",
       "skinparam maxMessageSize 100\r\n",
       " skinparam monochrome true\r\n",
       "skinparam classbackgroundcolor white\r\n",
       "skinparam shadowing false\r\n",
       "skinparam wrapWidth 300\r\n",
       "hide circle\r\n",
       "\r\n",
       "@enduml\r\n",
       "\n",
       "PlantUML version 1.2020.13(Sat Jun 13 12:26:38 UTC 2020)\n",
       "(EPL source distribution)\n",
       "Java Runtime: OpenJDK Runtime Environment\n",
       "JVM: OpenJDK 64-Bit Server VM\n",
       "Default Encoding: UTF-8\n",
       "Language: en\n",
       "Country: null\n",
       "--></g></svg>"
      ]
     },
     "execution_count": 7,
     "metadata": {},
     "output_type": "execute_result"
    }
   ],
   "source": [
    "%viz --style=\"COMPTREE\" --view=\"Sequence\" \"VerificationTest\""
   ]
  },
  {
   "cell_type": "code",
   "execution_count": 8,
   "id": "a0868faa",
   "metadata": {
    "execution": {
     "iopub.execute_input": "2021-10-03T08:26:46.983232Z",
     "iopub.status.busy": "2021-10-03T08:26:46.982819Z",
     "iopub.status.idle": "2021-10-03T08:26:47.073886Z",
     "shell.execute_reply": "2021-10-03T08:26:47.074202Z"
    }
   },
   "outputs": [
    {
     "data": {
      "image/svg+xml": [
       "<?xml version=\"1.0\" encoding=\"UTF-8\" standalone=\"no\"?><svg xmlns=\"http://www.w3.org/2000/svg\" xmlns:xlink=\"http://www.w3.org/1999/xlink\" contentScriptType=\"application/ecmascript\" contentStyleType=\"text/css\" height=\"628px\" preserveAspectRatio=\"none\" style=\"width:1172px;height:628px;\" version=\"1.1\" viewBox=\"0 0 1172 628\" width=\"1172px\" zoomAndPan=\"magnify\"><defs/><g><!--MD5=[fbc87193dbaf4d95561dea2c320d4a47]\n",
       "cluster E1--><a href=\"psysml:7303dfcd-df1a-4034-bc74-eb93457ec7c0\" target=\"_top\" title=\"psysml:7303dfcd-df1a-4034-bc74-eb93457ec7c0\" xlink:actuate=\"onRequest\" xlink:href=\"psysml:7303dfcd-df1a-4034-bc74-eb93457ec7c0\" xlink:show=\"new\" xlink:title=\"psysml:7303dfcd-df1a-4034-bc74-eb93457ec7c0\" xlink:type=\"simple\"><polygon fill=\"#FFFFFF\" points=\"16,6,128,6,135,28.2969,1150,28.2969,1150,616,16,616,16,6\" style=\"stroke: #000000; stroke-width: 1.5;\"/><line style=\"stroke: #000000; stroke-width: 1.5;\" x1=\"16\" x2=\"135\" y1=\"28.2969\" y2=\"28.2969\"/><text fill=\"#000000\" font-family=\"sans-serif\" font-size=\"14\" font-weight=\"bold\" lengthAdjust=\"spacingAndGlyphs\" textLength=\"106\" x=\"20\" y=\"20.9951\">VerificationTest</text></a><!--MD5=[14e3b0961a2654348d326746436168a1]\n",
       "cluster E6--><a href=\"psysml:f44943ce-87bd-4d2b-91db-f66bd879bf72\" target=\"_top\" title=\"psysml:f44943ce-87bd-4d2b-91db-f66bd879bf72\" xlink:actuate=\"onRequest\" xlink:href=\"psysml:f44943ce-87bd-4d2b-91db-f66bd879bf72\" xlink:show=\"new\" xlink:title=\"psysml:f44943ce-87bd-4d2b-91db-f66bd879bf72\" xlink:type=\"simple\"><rect fill=\"#FFFFFF\" height=\"310\" id=\"E6\" style=\"stroke: #383838; stroke-width: 1.5;\" width=\"200\" x=\"934\" y=\"64\"/><rect fill=\"#F8F8F8\" height=\"37.9375\" style=\"stroke: #383838; stroke-width: 1.5;\" width=\"200\" x=\"934\" y=\"64\"/><text fill=\"#000000\" font-family=\"sans-serif\" font-size=\"12\" font-style=\"italic\" lengthAdjust=\"spacingAndGlyphs\" textLength=\"137\" x=\"965.5\" y=\"80.1387\">«verificationCase def»</text><text fill=\"#000000\" font-family=\"sans-serif\" font-size=\"12\" lengthAdjust=\"spacingAndGlyphs\" textLength=\"101\" x=\"983.5\" y=\"94.1074\">VerificationCase</text></a><!--MD5=[7f149f147074ac12df2cb0a7728a5fb0]\n",
       "cluster E9--><a href=\"psysml:109e665d-9569-4e28-8454-db86a3b7365b\" target=\"_top\" title=\"psysml:109e665d-9569-4e28-8454-db86a3b7365b\" xlink:actuate=\"onRequest\" xlink:href=\"psysml:109e665d-9569-4e28-8454-db86a3b7365b\" xlink:show=\"new\" xlink:title=\"psysml:109e665d-9569-4e28-8454-db86a3b7365b\" xlink:type=\"simple\"><rect fill=\"#FFFFFF\" height=\"410.5\" id=\"E9\" style=\"stroke: #383838; stroke-width: 1.5;\" width=\"322\" x=\"344\" y=\"181.5\"/><rect fill=\"#F8F8F8\" height=\"37.9375\" style=\"stroke: #383838; stroke-width: 1.5;\" width=\"322\" x=\"344\" y=\"181.5\"/><text fill=\"#000000\" font-family=\"sans-serif\" font-size=\"12\" font-style=\"italic\" lengthAdjust=\"spacingAndGlyphs\" textLength=\"137\" x=\"436.5\" y=\"197.6387\">«verificationCase def»</text><text fill=\"#000000\" font-family=\"sans-serif\" font-size=\"12\" lengthAdjust=\"spacingAndGlyphs\" textLength=\"97\" x=\"456.5\" y=\"211.6074\">VerificationPlan</text></a><!--MD5=[917b9dd0c7eca3ee5f47219d1a84c0ad]\n",
       "cluster E11--><a href=\"psysml:d8eec309-4539-4ef6-b593-f8d5221313a5\" target=\"_top\" title=\"psysml:d8eec309-4539-4ef6-b593-f8d5221313a5\" xlink:actuate=\"onRequest\" xlink:href=\"psysml:d8eec309-4539-4ef6-b593-f8d5221313a5\" xlink:show=\"new\" xlink:title=\"psysml:d8eec309-4539-4ef6-b593-f8d5221313a5\" xlink:type=\"simple\"><rect fill=\"#FFFFFF\" height=\"239\" id=\"E11\" rx=\"10\" ry=\"10\" style=\"stroke: #383838; stroke-width: 1.5;\" width=\"174\" x=\"454\" y=\"315\"/><rect fill=\"#F8F8F8\" height=\"37.9375\" rx=\"10\" ry=\"10\" style=\"stroke: #F8F8F8; stroke-width: 1.5;\" width=\"174\" x=\"454\" y=\"315\"/><rect fill=\"#F8F8F8\" height=\"10\" style=\"stroke: #F8F8F8; stroke-width: 1.5;\" width=\"174\" x=\"454\" y=\"342.9375\"/><rect fill=\"none\" height=\"239\" id=\"E11\" rx=\"10\" ry=\"10\" style=\"stroke: #383838; stroke-width: 1.5;\" width=\"174\" x=\"454\" y=\"315\"/><text fill=\"#000000\" font-family=\"sans-serif\" font-size=\"12\" font-style=\"italic\" lengthAdjust=\"spacingAndGlyphs\" textLength=\"113\" x=\"484.5\" y=\"331.1387\">«verificationCase»</text><text fill=\"#000000\" font-family=\"sans-serif\" font-size=\"12\" lengthAdjust=\"spacingAndGlyphs\" textLength=\"99\" x=\"491.5\" y=\"345.1074\">verificationCase</text><line style=\"stroke: #383838; stroke-width: 1.0;\" x1=\"454\" x2=\"628\" y1=\"352.9375\" y2=\"352.9375\"/></a><!--MD5=[b4997ac47864f28c2f74865a473b2911]\n",
       "class E2--><a href=\"psysml:ee2cd088-4b38-485a-bdcf-f034eebaa933\" target=\"_top\" title=\"psysml:ee2cd088-4b38-485a-bdcf-f034eebaa933\" xlink:actuate=\"onRequest\" xlink:href=\"psysml:ee2cd088-4b38-485a-bdcf-f034eebaa933\" xlink:show=\"new\" xlink:title=\"psysml:ee2cd088-4b38-485a-bdcf-f034eebaa933\" xlink:type=\"simple\"><rect fill=\"#FFFFFF\" height=\"45.9375\" id=\"E2\" style=\"stroke: #383838; stroke-width: 1.5;\" width=\"66\" x=\"849\" y=\"158.5\"/><text fill=\"#000000\" font-family=\"sans-serif\" font-size=\"12\" font-style=\"italic\" lengthAdjust=\"spacingAndGlyphs\" textLength=\"64\" x=\"850\" y=\"174.6387\">«part def»</text><text fill=\"#000000\" font-family=\"sans-serif\" font-size=\"12\" lengthAdjust=\"spacingAndGlyphs\" textLength=\"8\" x=\"878\" y=\"188.6074\">V</text><line style=\"stroke: #383838; stroke-width: 1.5;\" x1=\"850\" x2=\"914\" y1=\"196.4375\" y2=\"196.4375\"/></a><!--MD5=[09b614a08d8cba4a07c9adeb5e0fee81]\n",
       "class E3--><a href=\"psysml:ea23779d-7b91-41e0-a4d1-5f0745e774d2\" target=\"_top\" title=\"psysml:ea23779d-7b91-41e0-a4d1-5f0745e774d2\" xlink:actuate=\"onRequest\" xlink:href=\"psysml:ea23779d-7b91-41e0-a4d1-5f0745e774d2\" xlink:show=\"new\" xlink:title=\"psysml:ea23779d-7b91-41e0-a4d1-5f0745e774d2\" xlink:type=\"simple\"><rect fill=\"#FFFFFF\" height=\"45.9375\" id=\"E3\" rx=\"10\" ry=\"10\" style=\"stroke: #383838; stroke-width: 1.5;\" width=\"42\" x=\"861\" y=\"41\"/><text fill=\"#000000\" font-family=\"sans-serif\" font-size=\"12\" font-style=\"italic\" lengthAdjust=\"spacingAndGlyphs\" textLength=\"40\" x=\"862\" y=\"57.1387\">«part»</text><text fill=\"#000000\" font-family=\"sans-serif\" font-size=\"12\" lengthAdjust=\"spacingAndGlyphs\" textLength=\"28\" x=\"868\" y=\"71.1074\">vv: V</text><line style=\"stroke: #383838; stroke-width: 1.5;\" x1=\"862\" x2=\"902\" y1=\"78.9375\" y2=\"78.9375\"/></a><!--MD5=[ebbe1d658d1005bcc118a6aa81145e00]\n",
       "class E4--><a href=\"psysml:971e85b9-9957-4674-90a7-be3bf98856c5\" target=\"_top\" title=\"psysml:971e85b9-9957-4674-90a7-be3bf98856c5\" xlink:actuate=\"onRequest\" xlink:href=\"psysml:971e85b9-9957-4674-90a7-be3bf98856c5\" xlink:show=\"new\" xlink:title=\"psysml:971e85b9-9957-4674-90a7-be3bf98856c5\" xlink:type=\"simple\"><rect fill=\"#FFFFFF\" height=\"66.7422\" id=\"E4\" style=\"stroke: #383838; stroke-width: 1.5;\" width=\"117\" x=\"696.5\" y=\"148\"/><text fill=\"#000000\" font-family=\"sans-serif\" font-size=\"12\" font-style=\"italic\" lengthAdjust=\"spacingAndGlyphs\" textLength=\"115\" x=\"697.5\" y=\"164.1387\">«requirement def»</text><text fill=\"#000000\" font-family=\"sans-serif\" font-size=\"12\" lengthAdjust=\"spacingAndGlyphs\" textLength=\"8\" x=\"751\" y=\"178.1074\">R</text><line style=\"stroke: #383838; stroke-width: 1.5;\" x1=\"697.5\" x2=\"812.5\" y1=\"185.9375\" y2=\"185.9375\"/><text fill=\"#000000\" font-family=\"sans-serif\" font-size=\"11\" lengthAdjust=\"spacingAndGlyphs\" textLength=\"12\" x=\"702.5\" y=\"200.1479\">...</text><line style=\"stroke: #383838; stroke-width: 1.0;\" x1=\"697.5\" x2=\"812.5\" y1=\"206.7422\" y2=\"206.7422\"/></a><!--MD5=[270fce915f116d4de14055a7c1d9a0f3]\n",
       "class E5--><a href=\"psysml:bbcd2223-85a4-4701-a24f-5592c5712336\" target=\"_top\" title=\"psysml:bbcd2223-85a4-4701-a24f-5592c5712336\" xlink:actuate=\"onRequest\" xlink:href=\"psysml:bbcd2223-85a4-4701-a24f-5592c5712336\" xlink:show=\"new\" xlink:title=\"psysml:bbcd2223-85a4-4701-a24f-5592c5712336\" xlink:type=\"simple\"><rect fill=\"#FFFFFF\" height=\"45.9375\" id=\"E5\" rx=\"10\" ry=\"10\" style=\"stroke: #383838; stroke-width: 1.5;\" width=\"93\" x=\"708.5\" y=\"41\"/><text fill=\"#000000\" font-family=\"sans-serif\" font-size=\"12\" font-style=\"italic\" lengthAdjust=\"spacingAndGlyphs\" textLength=\"91\" x=\"709.5\" y=\"57.1387\">«requirement»</text><text fill=\"#000000\" font-family=\"sans-serif\" font-size=\"12\" lengthAdjust=\"spacingAndGlyphs\" textLength=\"21\" x=\"744.5\" y=\"71.1074\">r: R</text><line style=\"stroke: #383838; stroke-width: 1.5;\" x1=\"709.5\" x2=\"800.5\" y1=\"78.9375\" y2=\"78.9375\"/></a><!--MD5=[0c48fb7552dae8cbbef69381101a84c8]\n",
       "class E15--><a href=\"psysml:1ba0f1fa-2142-46f9-b759-d2e88bd368a2\" target=\"_top\" title=\"psysml:1ba0f1fa-2142-46f9-b759-d2e88bd368a2\" xlink:actuate=\"onRequest\" xlink:href=\"psysml:1ba0f1fa-2142-46f9-b759-d2e88bd368a2\" xlink:show=\"new\" xlink:title=\"psysml:1ba0f1fa-2142-46f9-b759-d2e88bd368a2\" xlink:type=\"simple\"><rect fill=\"#FFFFFF\" height=\"45.9375\" id=\"E15\" rx=\"10\" ry=\"10\" style=\"stroke: #383838; stroke-width: 1.5;\" width=\"122\" x=\"74\" y=\"41\"/><text fill=\"#000000\" font-family=\"sans-serif\" font-size=\"12\" font-style=\"italic\" lengthAdjust=\"spacingAndGlyphs\" textLength=\"40\" x=\"115\" y=\"57.1387\">«part»</text><text fill=\"#000000\" font-family=\"sans-serif\" font-size=\"12\" lengthAdjust=\"spacingAndGlyphs\" textLength=\"116\" x=\"77\" y=\"71.1074\">verificationContext</text><line style=\"stroke: #383838; stroke-width: 1.5;\" x1=\"75\" x2=\"195\" y1=\"78.9375\" y2=\"78.9375\"/></a><!--MD5=[35f0587eaee8d5bb9a02e25b63afc23b]\n",
       "class E16--><a href=\"psysml:f139e62b-7bf9-43a0-a382-40038ed35c63\" target=\"_top\" title=\"psysml:f139e62b-7bf9-43a0-a382-40038ed35c63\" xlink:actuate=\"onRequest\" xlink:href=\"psysml:f139e62b-7bf9-43a0-a382-40038ed35c63\" xlink:show=\"new\" xlink:title=\"psysml:f139e62b-7bf9-43a0-a382-40038ed35c63\" xlink:type=\"simple\"><rect fill=\"#FFFFFF\" height=\"45.9375\" id=\"E16\" rx=\"10\" ry=\"10\" style=\"stroke: #383838; stroke-width: 1.5;\" width=\"206\" x=\"32\" y=\"158.5\"/><text fill=\"#000000\" font-family=\"sans-serif\" font-size=\"12\" font-style=\"italic\" lengthAdjust=\"spacingAndGlyphs\" textLength=\"113\" x=\"78.5\" y=\"174.6387\">«verificationCase»</text><text fill=\"#000000\" font-family=\"sans-serif\" font-size=\"12\" lengthAdjust=\"spacingAndGlyphs\" textLength=\"200\" x=\"35\" y=\"188.6074\">verificationPlan: VerificationPlan</text><line style=\"stroke: #383838; stroke-width: 1.5;\" x1=\"33\" x2=\"237\" y1=\"196.4375\" y2=\"196.4375\"/></a><!--MD5=[60e55a4a9b2f0dc0a36787c5a2095786]\n",
       "class E17--><a href=\"psysml:fe640fc2-093c-44fe-a9fd-0ceecb8f463c\" target=\"_top\" title=\"psysml:fe640fc2-093c-44fe-a9fd-0ceecb8f463c\" xlink:actuate=\"onRequest\" xlink:href=\"psysml:fe640fc2-093c-44fe-a9fd-0ceecb8f463c\" xlink:show=\"new\" xlink:title=\"psysml:fe640fc2-093c-44fe-a9fd-0ceecb8f463c\" xlink:type=\"simple\"><rect fill=\"#FFFFFF\" height=\"45.9375\" id=\"E17\" rx=\"10\" ry=\"10\" style=\"stroke: #383838; stroke-width: 1.5;\" width=\"93\" x=\"88.5\" y=\"292\"/><text fill=\"#000000\" font-family=\"sans-serif\" font-size=\"12\" font-style=\"italic\" lengthAdjust=\"spacingAndGlyphs\" textLength=\"91\" x=\"89.5\" y=\"308.1387\">«requirement»</text><text fill=\"#000000\" font-family=\"sans-serif\" font-size=\"12\" lengthAdjust=\"spacingAndGlyphs\" textLength=\"19\" x=\"125.5\" y=\"322.1074\">obj</text><line style=\"stroke: #383838; stroke-width: 1.5;\" x1=\"89.5\" x2=\"180.5\" y1=\"329.9375\" y2=\"329.9375\"/></a><text fill=\"#000000\" font-family=\"sans-serif\" font-size=\"14\" lengthAdjust=\"spacingAndGlyphs\" textLength=\"7\" x=\"1030.5\" y=\"42.6982\">v</text><rect fill=\"#383838\" height=\"12\" style=\"stroke: #F8F8F8; stroke-width: 1.5;\" width=\"12\" x=\"1028\" y=\"58\"/><text fill=\"#000000\" font-family=\"sans-serif\" font-size=\"14\" lengthAdjust=\"spacingAndGlyphs\" textLength=\"46\" x=\"1011\" y=\"392.9951\">verdict</text><rect fill=\"#383838\" height=\"12\" style=\"stroke: #F8F8F8; stroke-width: 1.5;\" width=\"12\" x=\"1028\" y=\"368\"/><text fill=\"#000000\" font-family=\"sans-serif\" font-size=\"14\" lengthAdjust=\"spacingAndGlyphs\" textLength=\"7\" x=\"358.5\" y=\"160.1982\">v</text><rect fill=\"#383838\" height=\"12\" style=\"stroke: #F8F8F8; stroke-width: 1.5;\" width=\"12\" x=\"356\" y=\"175.5\"/><text fill=\"#000000\" font-family=\"sans-serif\" font-size=\"14\" lengthAdjust=\"spacingAndGlyphs\" textLength=\"46\" x=\"643\" y=\"499.9951\">verdict</text><rect fill=\"#383838\" height=\"12\" style=\"stroke: #F8F8F8; stroke-width: 1.5;\" width=\"12\" x=\"660\" y=\"475\"/><text fill=\"#000000\" font-family=\"sans-serif\" font-size=\"14\" lengthAdjust=\"spacingAndGlyphs\" textLength=\"46\" x=\"518\" y=\"572.9951\">verdict</text><rect fill=\"#383838\" height=\"12\" style=\"stroke: #F8F8F8; stroke-width: 1.5;\" width=\"12\" x=\"535\" y=\"548\"/><text fill=\"#000000\" font-family=\"sans-serif\" font-size=\"14\" lengthAdjust=\"spacingAndGlyphs\" textLength=\"7\" x=\"537.5\" y=\"293.6982\">v</text><rect fill=\"#383838\" height=\"12\" style=\"stroke: #F8F8F8; stroke-width: 1.5;\" width=\"12\" x=\"535\" y=\"309\"/><!--MD5=[05d275557350bfb9b23a4ef7222b4c39]\n",
       "link E3 to E2--><a href=\"psysml:2b222a15-a90b-432a-993d-d339516ea993\" target=\"_top\" title=\"psysml:2b222a15-a90b-432a-993d-d339516ea993\" xlink:actuate=\"onRequest\" xlink:href=\"psysml:2b222a15-a90b-432a-993d-d339516ea993\" xlink:show=\"new\" xlink:title=\"psysml:2b222a15-a90b-432a-993d-d339516ea993\" xlink:type=\"simple\"><path d=\"M882,87.27 C882,101.65 882,120.82 882,138.04 \" fill=\"none\" id=\"E3-&gt;E2\" style=\"stroke: #383838; stroke-width: 1.0;\"/><polygon fill=\"#FFFFFF\" points=\"882,158.3,875,139.3,889,139.3,882,158.3\" style=\"stroke: #383838; stroke-width: 1.0;\"/><ellipse cx=\"877\" cy=\"133.6\" fill=\"#383838\" rx=\"2\" ry=\"2\" style=\"stroke: #383838; stroke-width: 1.0;\"/><ellipse cx=\"887\" cy=\"133.6\" fill=\"#383838\" rx=\"2\" ry=\"2\" style=\"stroke: #383838; stroke-width: 1.0;\"/></a><!--MD5=[1c62de2aa5b76f0fb657ff8443a1a700]\n",
       "link E5 to E4--><a href=\"psysml:4afeeb28-a204-4e17-a080-31f9a6d380ec\" target=\"_top\" title=\"psysml:4afeeb28-a204-4e17-a080-31f9a6d380ec\" xlink:actuate=\"onRequest\" xlink:href=\"psysml:4afeeb28-a204-4e17-a080-31f9a6d380ec\" xlink:show=\"new\" xlink:title=\"psysml:4afeeb28-a204-4e17-a080-31f9a6d380ec\" xlink:type=\"simple\"><path d=\"M755,87.27 C755,98.81 755,113.43 755,127.66 \" fill=\"none\" id=\"E5-&gt;E4\" style=\"stroke: #383838; stroke-width: 1.0;\"/><polygon fill=\"#FFFFFF\" points=\"755,147.81,748,128.81,762,128.81,755,147.81\" style=\"stroke: #383838; stroke-width: 1.0;\"/><ellipse cx=\"750\" cy=\"123.11\" fill=\"#383838\" rx=\"2\" ry=\"2\" style=\"stroke: #383838; stroke-width: 1.0;\"/><ellipse cx=\"760\" cy=\"123.11\" fill=\"#383838\" rx=\"2\" ry=\"2\" style=\"stroke: #383838; stroke-width: 1.0;\"/></a><!--MD5=[58e4cf537c4d67f6b3da95fd5b934e63]\n",
       "reverse link E15 to E16--><a href=\"psysml:4d9ca163-dfe0-49d5-81cb-3058dc3dad3f\" target=\"_top\" title=\"psysml:4d9ca163-dfe0-49d5-81cb-3058dc3dad3f\" xlink:actuate=\"onRequest\" xlink:href=\"psysml:4d9ca163-dfe0-49d5-81cb-3058dc3dad3f\" xlink:show=\"new\" xlink:title=\"psysml:4d9ca163-dfe0-49d5-81cb-3058dc3dad3f\" xlink:type=\"simple\"><path d=\"M135,100.49 C135,119.35 135,141.94 135,158.3 \" fill=\"none\" id=\"E15&lt;-E16\" style=\"stroke: #383838; stroke-width: 1.0;\"/><polygon fill=\"#383838\" points=\"135,87.27,131,93.27,135,99.27,139,93.27,135,87.27\" style=\"stroke: #383838; stroke-width: 1.0;\"/></a><!--MD5=[4de2d328c39b6d65fb95a84ef336270e]\n",
       "link E16 to E9--><a href=\"psysml:cd73bb42-520f-4e04-8240-7f040abbe442\" target=\"_top\" title=\"psysml:cd73bb42-520f-4e04-8240-7f040abbe442\" xlink:actuate=\"onRequest\" xlink:href=\"psysml:cd73bb42-520f-4e04-8240-7f040abbe442\" xlink:show=\"new\" xlink:title=\"psysml:cd73bb42-520f-4e04-8240-7f040abbe442\" xlink:type=\"simple\"><path d=\"M172.99,204.51 C218.18,230.69 292.58,273.79 333.25,297.35 \" fill=\"none\" id=\"E16-&gt;E9\" style=\"stroke: #383838; stroke-width: 1.0;\"/><polygon fill=\"#FFFFFF\" points=\"333.25,297.35,313.3006,293.8831,320.3182,281.7689,333.25,297.35\" style=\"stroke: #383838; stroke-width: 1.0;\"/><ellipse cx=\"309.3709\" cy=\"289.2953\" fill=\"#383838\" rx=\"2\" ry=\"2\" style=\"stroke: #383838; stroke-width: 1.0;\"/><ellipse cx=\"314.3835\" cy=\"280.6423\" fill=\"#383838\" rx=\"2\" ry=\"2\" style=\"stroke: #383838; stroke-width: 1.0;\"/></a><!--MD5=[450e3481f1c83a03a55fcf78b0bbbde6]\n",
       "link E16 to E17--><a href=\"psysml:e29f10bd-d5bc-4797-97ab-a37fb0e5db5b\" target=\"_top\" title=\"psysml:e29f10bd-d5bc-4797-97ab-a37fb0e5db5b\" xlink:actuate=\"onRequest\" xlink:href=\"psysml:e29f10bd-d5bc-4797-97ab-a37fb0e5db5b\" xlink:show=\"new\" xlink:title=\"psysml:e29f10bd-d5bc-4797-97ab-a37fb0e5db5b\" xlink:type=\"simple\"><path d=\"M135,204.51 C135,226.22 135,259.59 135,283.78 \" fill=\"none\" id=\"E16-&gt;E17\" style=\"stroke: #383838; stroke-width: 1.0;\"/><polygon fill=\"#383838\" points=\"135,291.92,138,283.92,132,283.92,135,291.92\" style=\"stroke: #383838; stroke-width: 1.0;\"/><text fill=\"#000000\" font-family=\"sans-serif\" font-size=\"13\" lengthAdjust=\"spacingAndGlyphs\" textLength=\"73\" x=\"136\" y=\"258.0669\">«objective»</text><text fill=\"#000000\" font-family=\"sans-serif\" font-size=\"13\" lengthAdjust=\"spacingAndGlyphs\" textLength=\"7\" x=\"127.0594\" y=\"280.7948\">*</text></a><!--MD5=[80ea5632cb236f8be5ac9b09e1c23e4d]\n",
       "@startuml\r\n",
       " skinparam monochrome true\r\n",
       "skinparam classbackgroundcolor white\r\n",
       "skinparam shadowing false\r\n",
       "skinparam wrapWidth 300\r\n",
       "hide circle\r\n",
       "\r\n",
       "package \"VerificationTest\" as E1  [[psysml:7303dfcd-df1a-4034-bc74-eb93457ec7c0 ]]  {\r\n",
       "comp def \"V\" as E2  <<(T,blue) part def>> [[psysml:ee2cd088-4b38-485a-bdcf-f034eebaa933 ]] {\r\n",
       "}\r\n",
       "comp usage \"vv: V\" as E3  <<(T,blue) part>> [[psysml:ea23779d-7b91-41e0-a4d1-5f0745e774d2 ]] {\r\n",
       "}\r\n",
       "comp def \"R\" as E4  <<(T,blue) requirement def>> [[psysml:971e85b9-9957-4674-90a7-be3bf98856c5 ]] {\r\n",
       "...\r\n",
       "- -\r\n",
       "}\r\n",
       "comp usage \"r: R\" as E5  <<(T,blue) requirement>> [[psysml:bbcd2223-85a4-4701-a24f-5592c5712336 ]] {\r\n",
       "}\r\n",
       "rec def \"VerificationCase\" as E6  <<(T,blue) verificationCase def>> [[psysml:f44943ce-87bd-4d2b-91db-f66bd879bf72 ]] {\r\n",
       "portin \"v\" as E7  [[psysml:39e4c68a-7e48-4018-a595-005447bc25d1 ]] \r\n",
       "portout \"verdict\" as E8  [[psysml:e7480a5a-bc03-4bfb-926c-ff77790341ab ]] \r\n",
       "}\r\n",
       "\r\n",
       "rec def \"VerificationPlan\" as E9  <<(T,blue) verificationCase def>> [[psysml:109e665d-9569-4e28-8454-db86a3b7365b ]] {\r\n",
       "portin \"v\" as E10  [[psysml:bc04aa0f-1251-4bd1-9492-821de83ad0f4 ]] \r\n",
       "rec usage \"verificationCase\" as E11  <<(T,blue) verificationCase>> [[psysml:d8eec309-4539-4ef6-b593-f8d5221313a5 ]] {\r\n",
       "portout \"verdict\" as E12  [[psysml:d4b19012-2d8f-412c-81cb-04106ed54ab9 ]] \r\n",
       "portin \"v\" as E13  [[psysml:101691aa-2b16-4439-bb49-3b5a9750b72a ]] \r\n",
       "}\r\n",
       "\r\n",
       "portout \"verdict\" as E14  [[psysml:d1cc474d-a7ae-4245-8f3b-eac2c389ad3d ]] \r\n",
       "}\r\n",
       "\r\n",
       "comp usage \"verificationContext\" as E15  <<(T,blue) part>> [[psysml:1ba0f1fa-2142-46f9-b759-d2e88bd368a2 ]] {\r\n",
       "}\r\n",
       "comp usage \"verificationPlan: VerificationPlan\" as E16  <<(T,blue) verificationCase>> [[psysml:f139e62b-7bf9-43a0-a382-40038ed35c63 ]] {\r\n",
       "}\r\n",
       "comp usage \"obj\" as E17  <<(T,blue) requirement>> [[psysml:fe640fc2-093c-44fe-a9fd-0ceecb8f463c ]] {\r\n",
       "}\r\n",
       "}\r\n",
       "E3 - -:|> E2 [[psysml:2b222a15-a90b-432a-993d-d339516ea993 ]] \r\n",
       "E5 - -:|> E4 [[psysml:4afeeb28-a204-4e17-a080-31f9a6d380ec ]] \r\n",
       "E15 *- - E16 [[psysml:4d9ca163-dfe0-49d5-81cb-3058dc3dad3f ]] \r\n",
       "E16 - -:|> E9 [[psysml:cd73bb42-520f-4e04-8240-7f040abbe442 ]] \r\n",
       "E16 - ->> \"*\"E17 [[psysml:e29f10bd-d5bc-4797-97ab-a37fb0e5db5b ]] : <<objective>>\r\n",
       "@enduml\r\n",
       "\n",
       "PlantUML version 1.2020.13(Sat Jun 13 12:26:38 UTC 2020)\n",
       "(EPL source distribution)\n",
       "Java Runtime: OpenJDK Runtime Environment\n",
       "JVM: OpenJDK 64-Bit Server VM\n",
       "Default Encoding: UTF-8\n",
       "Language: en\n",
       "Country: null\n",
       "--></g></svg>"
      ]
     },
     "execution_count": 8,
     "metadata": {},
     "output_type": "execute_result"
    }
   ],
   "source": [
    "%viz --style=\"COMPTREE\" --view=\"MIXED\" \"VerificationTest\""
   ]
  },
  {
   "cell_type": "code",
   "execution_count": 9,
   "id": "c868e055",
   "metadata": {
    "execution": {
     "iopub.execute_input": "2021-10-03T08:26:47.124285Z",
     "iopub.status.busy": "2021-10-03T08:26:47.123881Z",
     "iopub.status.idle": "2021-10-03T08:26:47.201493Z",
     "shell.execute_reply": "2021-10-03T08:26:47.201131Z"
    }
   },
   "outputs": [
    {
     "data": {
      "image/svg+xml": [
       "<?xml version=\"1.0\" encoding=\"UTF-8\" standalone=\"no\"?><svg xmlns=\"http://www.w3.org/2000/svg\" xmlns:xlink=\"http://www.w3.org/1999/xlink\" contentScriptType=\"application/ecmascript\" contentStyleType=\"text/css\" height=\"628px\" preserveAspectRatio=\"none\" style=\"width:1172px;height:628px;\" version=\"1.1\" viewBox=\"0 0 1172 628\" width=\"1172px\" zoomAndPan=\"magnify\"><defs/><g><!--MD5=[fbc87193dbaf4d95561dea2c320d4a47]\n",
       "cluster E1--><a href=\"psysml:7303dfcd-df1a-4034-bc74-eb93457ec7c0\" target=\"_top\" title=\"psysml:7303dfcd-df1a-4034-bc74-eb93457ec7c0\" xlink:actuate=\"onRequest\" xlink:href=\"psysml:7303dfcd-df1a-4034-bc74-eb93457ec7c0\" xlink:show=\"new\" xlink:title=\"psysml:7303dfcd-df1a-4034-bc74-eb93457ec7c0\" xlink:type=\"simple\"><polygon fill=\"#FFFFFF\" points=\"16,6,128,6,135,28.2969,1150,28.2969,1150,616,16,616,16,6\" style=\"stroke: #000000; stroke-width: 1.5;\"/><line style=\"stroke: #000000; stroke-width: 1.5;\" x1=\"16\" x2=\"135\" y1=\"28.2969\" y2=\"28.2969\"/><text fill=\"#000000\" font-family=\"sans-serif\" font-size=\"14\" font-weight=\"bold\" lengthAdjust=\"spacingAndGlyphs\" textLength=\"106\" x=\"20\" y=\"20.9951\">VerificationTest</text></a><!--MD5=[14e3b0961a2654348d326746436168a1]\n",
       "cluster E6--><a href=\"psysml:f44943ce-87bd-4d2b-91db-f66bd879bf72\" target=\"_top\" title=\"psysml:f44943ce-87bd-4d2b-91db-f66bd879bf72\" xlink:actuate=\"onRequest\" xlink:href=\"psysml:f44943ce-87bd-4d2b-91db-f66bd879bf72\" xlink:show=\"new\" xlink:title=\"psysml:f44943ce-87bd-4d2b-91db-f66bd879bf72\" xlink:type=\"simple\"><rect fill=\"#FFFFFF\" height=\"310\" id=\"E6\" style=\"stroke: #383838; stroke-width: 1.5;\" width=\"200\" x=\"934\" y=\"64\"/><rect fill=\"#F8F8F8\" height=\"37.9375\" style=\"stroke: #383838; stroke-width: 1.5;\" width=\"200\" x=\"934\" y=\"64\"/><text fill=\"#000000\" font-family=\"sans-serif\" font-size=\"12\" font-style=\"italic\" lengthAdjust=\"spacingAndGlyphs\" textLength=\"137\" x=\"965.5\" y=\"80.1387\">«verificationCase def»</text><text fill=\"#000000\" font-family=\"sans-serif\" font-size=\"12\" lengthAdjust=\"spacingAndGlyphs\" textLength=\"101\" x=\"983.5\" y=\"94.1074\">VerificationCase</text></a><!--MD5=[7f149f147074ac12df2cb0a7728a5fb0]\n",
       "cluster E9--><a href=\"psysml:109e665d-9569-4e28-8454-db86a3b7365b\" target=\"_top\" title=\"psysml:109e665d-9569-4e28-8454-db86a3b7365b\" xlink:actuate=\"onRequest\" xlink:href=\"psysml:109e665d-9569-4e28-8454-db86a3b7365b\" xlink:show=\"new\" xlink:title=\"psysml:109e665d-9569-4e28-8454-db86a3b7365b\" xlink:type=\"simple\"><rect fill=\"#FFFFFF\" height=\"410.5\" id=\"E9\" style=\"stroke: #383838; stroke-width: 1.5;\" width=\"322\" x=\"344\" y=\"181.5\"/><rect fill=\"#F8F8F8\" height=\"37.9375\" style=\"stroke: #383838; stroke-width: 1.5;\" width=\"322\" x=\"344\" y=\"181.5\"/><text fill=\"#000000\" font-family=\"sans-serif\" font-size=\"12\" font-style=\"italic\" lengthAdjust=\"spacingAndGlyphs\" textLength=\"137\" x=\"436.5\" y=\"197.6387\">«verificationCase def»</text><text fill=\"#000000\" font-family=\"sans-serif\" font-size=\"12\" lengthAdjust=\"spacingAndGlyphs\" textLength=\"97\" x=\"456.5\" y=\"211.6074\">VerificationPlan</text></a><!--MD5=[917b9dd0c7eca3ee5f47219d1a84c0ad]\n",
       "cluster E11--><a href=\"psysml:d8eec309-4539-4ef6-b593-f8d5221313a5\" target=\"_top\" title=\"psysml:d8eec309-4539-4ef6-b593-f8d5221313a5\" xlink:actuate=\"onRequest\" xlink:href=\"psysml:d8eec309-4539-4ef6-b593-f8d5221313a5\" xlink:show=\"new\" xlink:title=\"psysml:d8eec309-4539-4ef6-b593-f8d5221313a5\" xlink:type=\"simple\"><rect fill=\"#FFFFFF\" height=\"239\" id=\"E11\" rx=\"10\" ry=\"10\" style=\"stroke: #383838; stroke-width: 1.5;\" width=\"174\" x=\"454\" y=\"315\"/><rect fill=\"#F8F8F8\" height=\"37.9375\" rx=\"10\" ry=\"10\" style=\"stroke: #F8F8F8; stroke-width: 1.5;\" width=\"174\" x=\"454\" y=\"315\"/><rect fill=\"#F8F8F8\" height=\"10\" style=\"stroke: #F8F8F8; stroke-width: 1.5;\" width=\"174\" x=\"454\" y=\"342.9375\"/><rect fill=\"none\" height=\"239\" id=\"E11\" rx=\"10\" ry=\"10\" style=\"stroke: #383838; stroke-width: 1.5;\" width=\"174\" x=\"454\" y=\"315\"/><text fill=\"#000000\" font-family=\"sans-serif\" font-size=\"12\" font-style=\"italic\" lengthAdjust=\"spacingAndGlyphs\" textLength=\"113\" x=\"484.5\" y=\"331.1387\">«verificationCase»</text><text fill=\"#000000\" font-family=\"sans-serif\" font-size=\"12\" lengthAdjust=\"spacingAndGlyphs\" textLength=\"99\" x=\"491.5\" y=\"345.1074\">verificationCase</text><line style=\"stroke: #383838; stroke-width: 1.0;\" x1=\"454\" x2=\"628\" y1=\"352.9375\" y2=\"352.9375\"/></a><!--MD5=[b4997ac47864f28c2f74865a473b2911]\n",
       "class E2--><a href=\"psysml:ee2cd088-4b38-485a-bdcf-f034eebaa933\" target=\"_top\" title=\"psysml:ee2cd088-4b38-485a-bdcf-f034eebaa933\" xlink:actuate=\"onRequest\" xlink:href=\"psysml:ee2cd088-4b38-485a-bdcf-f034eebaa933\" xlink:show=\"new\" xlink:title=\"psysml:ee2cd088-4b38-485a-bdcf-f034eebaa933\" xlink:type=\"simple\"><rect fill=\"#FFFFFF\" height=\"45.9375\" id=\"E2\" style=\"stroke: #383838; stroke-width: 1.5;\" width=\"66\" x=\"849\" y=\"158.5\"/><text fill=\"#000000\" font-family=\"sans-serif\" font-size=\"12\" font-style=\"italic\" lengthAdjust=\"spacingAndGlyphs\" textLength=\"64\" x=\"850\" y=\"174.6387\">«part def»</text><text fill=\"#000000\" font-family=\"sans-serif\" font-size=\"12\" lengthAdjust=\"spacingAndGlyphs\" textLength=\"8\" x=\"878\" y=\"188.6074\">V</text><line style=\"stroke: #383838; stroke-width: 1.5;\" x1=\"850\" x2=\"914\" y1=\"196.4375\" y2=\"196.4375\"/></a><!--MD5=[09b614a08d8cba4a07c9adeb5e0fee81]\n",
       "class E3--><a href=\"psysml:ea23779d-7b91-41e0-a4d1-5f0745e774d2\" target=\"_top\" title=\"psysml:ea23779d-7b91-41e0-a4d1-5f0745e774d2\" xlink:actuate=\"onRequest\" xlink:href=\"psysml:ea23779d-7b91-41e0-a4d1-5f0745e774d2\" xlink:show=\"new\" xlink:title=\"psysml:ea23779d-7b91-41e0-a4d1-5f0745e774d2\" xlink:type=\"simple\"><rect fill=\"#FFFFFF\" height=\"45.9375\" id=\"E3\" rx=\"10\" ry=\"10\" style=\"stroke: #383838; stroke-width: 1.5;\" width=\"42\" x=\"861\" y=\"41\"/><text fill=\"#000000\" font-family=\"sans-serif\" font-size=\"12\" font-style=\"italic\" lengthAdjust=\"spacingAndGlyphs\" textLength=\"40\" x=\"862\" y=\"57.1387\">«part»</text><text fill=\"#000000\" font-family=\"sans-serif\" font-size=\"12\" lengthAdjust=\"spacingAndGlyphs\" textLength=\"28\" x=\"868\" y=\"71.1074\">vv: V</text><line style=\"stroke: #383838; stroke-width: 1.5;\" x1=\"862\" x2=\"902\" y1=\"78.9375\" y2=\"78.9375\"/></a><!--MD5=[ebbe1d658d1005bcc118a6aa81145e00]\n",
       "class E4--><a href=\"psysml:971e85b9-9957-4674-90a7-be3bf98856c5\" target=\"_top\" title=\"psysml:971e85b9-9957-4674-90a7-be3bf98856c5\" xlink:actuate=\"onRequest\" xlink:href=\"psysml:971e85b9-9957-4674-90a7-be3bf98856c5\" xlink:show=\"new\" xlink:title=\"psysml:971e85b9-9957-4674-90a7-be3bf98856c5\" xlink:type=\"simple\"><rect fill=\"#FFFFFF\" height=\"66.7422\" id=\"E4\" style=\"stroke: #383838; stroke-width: 1.5;\" width=\"117\" x=\"696.5\" y=\"148\"/><text fill=\"#000000\" font-family=\"sans-serif\" font-size=\"12\" font-style=\"italic\" lengthAdjust=\"spacingAndGlyphs\" textLength=\"115\" x=\"697.5\" y=\"164.1387\">«requirement def»</text><text fill=\"#000000\" font-family=\"sans-serif\" font-size=\"12\" lengthAdjust=\"spacingAndGlyphs\" textLength=\"8\" x=\"751\" y=\"178.1074\">R</text><line style=\"stroke: #383838; stroke-width: 1.5;\" x1=\"697.5\" x2=\"812.5\" y1=\"185.9375\" y2=\"185.9375\"/><text fill=\"#000000\" font-family=\"sans-serif\" font-size=\"11\" lengthAdjust=\"spacingAndGlyphs\" textLength=\"12\" x=\"702.5\" y=\"200.1479\">...</text><line style=\"stroke: #383838; stroke-width: 1.0;\" x1=\"697.5\" x2=\"812.5\" y1=\"206.7422\" y2=\"206.7422\"/></a><!--MD5=[270fce915f116d4de14055a7c1d9a0f3]\n",
       "class E5--><a href=\"psysml:bbcd2223-85a4-4701-a24f-5592c5712336\" target=\"_top\" title=\"psysml:bbcd2223-85a4-4701-a24f-5592c5712336\" xlink:actuate=\"onRequest\" xlink:href=\"psysml:bbcd2223-85a4-4701-a24f-5592c5712336\" xlink:show=\"new\" xlink:title=\"psysml:bbcd2223-85a4-4701-a24f-5592c5712336\" xlink:type=\"simple\"><rect fill=\"#FFFFFF\" height=\"45.9375\" id=\"E5\" rx=\"10\" ry=\"10\" style=\"stroke: #383838; stroke-width: 1.5;\" width=\"93\" x=\"708.5\" y=\"41\"/><text fill=\"#000000\" font-family=\"sans-serif\" font-size=\"12\" font-style=\"italic\" lengthAdjust=\"spacingAndGlyphs\" textLength=\"91\" x=\"709.5\" y=\"57.1387\">«requirement»</text><text fill=\"#000000\" font-family=\"sans-serif\" font-size=\"12\" lengthAdjust=\"spacingAndGlyphs\" textLength=\"21\" x=\"744.5\" y=\"71.1074\">r: R</text><line style=\"stroke: #383838; stroke-width: 1.5;\" x1=\"709.5\" x2=\"800.5\" y1=\"78.9375\" y2=\"78.9375\"/></a><!--MD5=[0c48fb7552dae8cbbef69381101a84c8]\n",
       "class E15--><a href=\"psysml:1ba0f1fa-2142-46f9-b759-d2e88bd368a2\" target=\"_top\" title=\"psysml:1ba0f1fa-2142-46f9-b759-d2e88bd368a2\" xlink:actuate=\"onRequest\" xlink:href=\"psysml:1ba0f1fa-2142-46f9-b759-d2e88bd368a2\" xlink:show=\"new\" xlink:title=\"psysml:1ba0f1fa-2142-46f9-b759-d2e88bd368a2\" xlink:type=\"simple\"><rect fill=\"#FFFFFF\" height=\"45.9375\" id=\"E15\" rx=\"10\" ry=\"10\" style=\"stroke: #383838; stroke-width: 1.5;\" width=\"122\" x=\"74\" y=\"41\"/><text fill=\"#000000\" font-family=\"sans-serif\" font-size=\"12\" font-style=\"italic\" lengthAdjust=\"spacingAndGlyphs\" textLength=\"40\" x=\"115\" y=\"57.1387\">«part»</text><text fill=\"#000000\" font-family=\"sans-serif\" font-size=\"12\" lengthAdjust=\"spacingAndGlyphs\" textLength=\"116\" x=\"77\" y=\"71.1074\">verificationContext</text><line style=\"stroke: #383838; stroke-width: 1.5;\" x1=\"75\" x2=\"195\" y1=\"78.9375\" y2=\"78.9375\"/></a><!--MD5=[35f0587eaee8d5bb9a02e25b63afc23b]\n",
       "class E16--><a href=\"psysml:f139e62b-7bf9-43a0-a382-40038ed35c63\" target=\"_top\" title=\"psysml:f139e62b-7bf9-43a0-a382-40038ed35c63\" xlink:actuate=\"onRequest\" xlink:href=\"psysml:f139e62b-7bf9-43a0-a382-40038ed35c63\" xlink:show=\"new\" xlink:title=\"psysml:f139e62b-7bf9-43a0-a382-40038ed35c63\" xlink:type=\"simple\"><rect fill=\"#FFFFFF\" height=\"45.9375\" id=\"E16\" rx=\"10\" ry=\"10\" style=\"stroke: #383838; stroke-width: 1.5;\" width=\"206\" x=\"32\" y=\"158.5\"/><text fill=\"#000000\" font-family=\"sans-serif\" font-size=\"12\" font-style=\"italic\" lengthAdjust=\"spacingAndGlyphs\" textLength=\"113\" x=\"78.5\" y=\"174.6387\">«verificationCase»</text><text fill=\"#000000\" font-family=\"sans-serif\" font-size=\"12\" lengthAdjust=\"spacingAndGlyphs\" textLength=\"200\" x=\"35\" y=\"188.6074\">verificationPlan: VerificationPlan</text><line style=\"stroke: #383838; stroke-width: 1.5;\" x1=\"33\" x2=\"237\" y1=\"196.4375\" y2=\"196.4375\"/></a><!--MD5=[60e55a4a9b2f0dc0a36787c5a2095786]\n",
       "class E17--><a href=\"psysml:fe640fc2-093c-44fe-a9fd-0ceecb8f463c\" target=\"_top\" title=\"psysml:fe640fc2-093c-44fe-a9fd-0ceecb8f463c\" xlink:actuate=\"onRequest\" xlink:href=\"psysml:fe640fc2-093c-44fe-a9fd-0ceecb8f463c\" xlink:show=\"new\" xlink:title=\"psysml:fe640fc2-093c-44fe-a9fd-0ceecb8f463c\" xlink:type=\"simple\"><rect fill=\"#FFFFFF\" height=\"45.9375\" id=\"E17\" rx=\"10\" ry=\"10\" style=\"stroke: #383838; stroke-width: 1.5;\" width=\"93\" x=\"88.5\" y=\"292\"/><text fill=\"#000000\" font-family=\"sans-serif\" font-size=\"12\" font-style=\"italic\" lengthAdjust=\"spacingAndGlyphs\" textLength=\"91\" x=\"89.5\" y=\"308.1387\">«requirement»</text><text fill=\"#000000\" font-family=\"sans-serif\" font-size=\"12\" lengthAdjust=\"spacingAndGlyphs\" textLength=\"19\" x=\"125.5\" y=\"322.1074\">obj</text><line style=\"stroke: #383838; stroke-width: 1.5;\" x1=\"89.5\" x2=\"180.5\" y1=\"329.9375\" y2=\"329.9375\"/></a><text fill=\"#000000\" font-family=\"sans-serif\" font-size=\"14\" lengthAdjust=\"spacingAndGlyphs\" textLength=\"7\" x=\"1030.5\" y=\"42.6982\">v</text><rect fill=\"#383838\" height=\"12\" style=\"stroke: #F8F8F8; stroke-width: 1.5;\" width=\"12\" x=\"1028\" y=\"58\"/><text fill=\"#000000\" font-family=\"sans-serif\" font-size=\"14\" lengthAdjust=\"spacingAndGlyphs\" textLength=\"46\" x=\"1011\" y=\"392.9951\">verdict</text><rect fill=\"#383838\" height=\"12\" style=\"stroke: #F8F8F8; stroke-width: 1.5;\" width=\"12\" x=\"1028\" y=\"368\"/><text fill=\"#000000\" font-family=\"sans-serif\" font-size=\"14\" lengthAdjust=\"spacingAndGlyphs\" textLength=\"7\" x=\"358.5\" y=\"160.1982\">v</text><rect fill=\"#383838\" height=\"12\" style=\"stroke: #F8F8F8; stroke-width: 1.5;\" width=\"12\" x=\"356\" y=\"175.5\"/><text fill=\"#000000\" font-family=\"sans-serif\" font-size=\"14\" lengthAdjust=\"spacingAndGlyphs\" textLength=\"46\" x=\"643\" y=\"499.9951\">verdict</text><rect fill=\"#383838\" height=\"12\" style=\"stroke: #F8F8F8; stroke-width: 1.5;\" width=\"12\" x=\"660\" y=\"475\"/><text fill=\"#000000\" font-family=\"sans-serif\" font-size=\"14\" lengthAdjust=\"spacingAndGlyphs\" textLength=\"46\" x=\"518\" y=\"572.9951\">verdict</text><rect fill=\"#383838\" height=\"12\" style=\"stroke: #F8F8F8; stroke-width: 1.5;\" width=\"12\" x=\"535\" y=\"548\"/><text fill=\"#000000\" font-family=\"sans-serif\" font-size=\"14\" lengthAdjust=\"spacingAndGlyphs\" textLength=\"7\" x=\"537.5\" y=\"293.6982\">v</text><rect fill=\"#383838\" height=\"12\" style=\"stroke: #F8F8F8; stroke-width: 1.5;\" width=\"12\" x=\"535\" y=\"309\"/><!--MD5=[05d275557350bfb9b23a4ef7222b4c39]\n",
       "link E3 to E2--><a href=\"psysml:2b222a15-a90b-432a-993d-d339516ea993\" target=\"_top\" title=\"psysml:2b222a15-a90b-432a-993d-d339516ea993\" xlink:actuate=\"onRequest\" xlink:href=\"psysml:2b222a15-a90b-432a-993d-d339516ea993\" xlink:show=\"new\" xlink:title=\"psysml:2b222a15-a90b-432a-993d-d339516ea993\" xlink:type=\"simple\"><path d=\"M882,87.27 C882,101.65 882,120.82 882,138.04 \" fill=\"none\" id=\"E3-&gt;E2\" style=\"stroke: #383838; stroke-width: 1.0;\"/><polygon fill=\"#FFFFFF\" points=\"882,158.3,875,139.3,889,139.3,882,158.3\" style=\"stroke: #383838; stroke-width: 1.0;\"/><ellipse cx=\"877\" cy=\"133.6\" fill=\"#383838\" rx=\"2\" ry=\"2\" style=\"stroke: #383838; stroke-width: 1.0;\"/><ellipse cx=\"887\" cy=\"133.6\" fill=\"#383838\" rx=\"2\" ry=\"2\" style=\"stroke: #383838; stroke-width: 1.0;\"/></a><!--MD5=[1c62de2aa5b76f0fb657ff8443a1a700]\n",
       "link E5 to E4--><a href=\"psysml:4afeeb28-a204-4e17-a080-31f9a6d380ec\" target=\"_top\" title=\"psysml:4afeeb28-a204-4e17-a080-31f9a6d380ec\" xlink:actuate=\"onRequest\" xlink:href=\"psysml:4afeeb28-a204-4e17-a080-31f9a6d380ec\" xlink:show=\"new\" xlink:title=\"psysml:4afeeb28-a204-4e17-a080-31f9a6d380ec\" xlink:type=\"simple\"><path d=\"M755,87.27 C755,98.81 755,113.43 755,127.66 \" fill=\"none\" id=\"E5-&gt;E4\" style=\"stroke: #383838; stroke-width: 1.0;\"/><polygon fill=\"#FFFFFF\" points=\"755,147.81,748,128.81,762,128.81,755,147.81\" style=\"stroke: #383838; stroke-width: 1.0;\"/><ellipse cx=\"750\" cy=\"123.11\" fill=\"#383838\" rx=\"2\" ry=\"2\" style=\"stroke: #383838; stroke-width: 1.0;\"/><ellipse cx=\"760\" cy=\"123.11\" fill=\"#383838\" rx=\"2\" ry=\"2\" style=\"stroke: #383838; stroke-width: 1.0;\"/></a><!--MD5=[58e4cf537c4d67f6b3da95fd5b934e63]\n",
       "reverse link E15 to E16--><a href=\"psysml:4d9ca163-dfe0-49d5-81cb-3058dc3dad3f\" target=\"_top\" title=\"psysml:4d9ca163-dfe0-49d5-81cb-3058dc3dad3f\" xlink:actuate=\"onRequest\" xlink:href=\"psysml:4d9ca163-dfe0-49d5-81cb-3058dc3dad3f\" xlink:show=\"new\" xlink:title=\"psysml:4d9ca163-dfe0-49d5-81cb-3058dc3dad3f\" xlink:type=\"simple\"><path d=\"M135,100.49 C135,119.35 135,141.94 135,158.3 \" fill=\"none\" id=\"E15&lt;-E16\" style=\"stroke: #383838; stroke-width: 1.0;\"/><polygon fill=\"#383838\" points=\"135,87.27,131,93.27,135,99.27,139,93.27,135,87.27\" style=\"stroke: #383838; stroke-width: 1.0;\"/></a><!--MD5=[4de2d328c39b6d65fb95a84ef336270e]\n",
       "link E16 to E9--><a href=\"psysml:cd73bb42-520f-4e04-8240-7f040abbe442\" target=\"_top\" title=\"psysml:cd73bb42-520f-4e04-8240-7f040abbe442\" xlink:actuate=\"onRequest\" xlink:href=\"psysml:cd73bb42-520f-4e04-8240-7f040abbe442\" xlink:show=\"new\" xlink:title=\"psysml:cd73bb42-520f-4e04-8240-7f040abbe442\" xlink:type=\"simple\"><path d=\"M172.99,204.51 C218.18,230.69 292.58,273.79 333.25,297.35 \" fill=\"none\" id=\"E16-&gt;E9\" style=\"stroke: #383838; stroke-width: 1.0;\"/><polygon fill=\"#FFFFFF\" points=\"333.25,297.35,313.3006,293.8831,320.3182,281.7689,333.25,297.35\" style=\"stroke: #383838; stroke-width: 1.0;\"/><ellipse cx=\"309.3709\" cy=\"289.2953\" fill=\"#383838\" rx=\"2\" ry=\"2\" style=\"stroke: #383838; stroke-width: 1.0;\"/><ellipse cx=\"314.3835\" cy=\"280.6423\" fill=\"#383838\" rx=\"2\" ry=\"2\" style=\"stroke: #383838; stroke-width: 1.0;\"/></a><!--MD5=[450e3481f1c83a03a55fcf78b0bbbde6]\n",
       "link E16 to E17--><a href=\"psysml:e29f10bd-d5bc-4797-97ab-a37fb0e5db5b\" target=\"_top\" title=\"psysml:e29f10bd-d5bc-4797-97ab-a37fb0e5db5b\" xlink:actuate=\"onRequest\" xlink:href=\"psysml:e29f10bd-d5bc-4797-97ab-a37fb0e5db5b\" xlink:show=\"new\" xlink:title=\"psysml:e29f10bd-d5bc-4797-97ab-a37fb0e5db5b\" xlink:type=\"simple\"><path d=\"M135,204.51 C135,226.22 135,259.59 135,283.78 \" fill=\"none\" id=\"E16-&gt;E17\" style=\"stroke: #383838; stroke-width: 1.0;\"/><polygon fill=\"#383838\" points=\"135,291.92,138,283.92,132,283.92,135,291.92\" style=\"stroke: #383838; stroke-width: 1.0;\"/><text fill=\"#000000\" font-family=\"sans-serif\" font-size=\"13\" lengthAdjust=\"spacingAndGlyphs\" textLength=\"73\" x=\"136\" y=\"258.0669\">«objective»</text><text fill=\"#000000\" font-family=\"sans-serif\" font-size=\"13\" lengthAdjust=\"spacingAndGlyphs\" textLength=\"7\" x=\"127.0594\" y=\"280.7948\">*</text></a><!--MD5=[6a0a3e86eb6bde2759a2abbd81f44421]\n",
       "@startuml\r\n",
       "skinparam linetype polyline\r\n",
       "skinparam monochrome true\r\n",
       "skinparam classbackgroundcolor white\r\n",
       "skinparam shadowing false\r\n",
       "skinparam wrapWidth 300\r\n",
       "hide circle\r\n",
       "\r\n",
       "package \"VerificationTest\" as E1  [[psysml:7303dfcd-df1a-4034-bc74-eb93457ec7c0 ]]  {\r\n",
       "comp def \"V\" as E2  <<(T,blue) part def>> [[psysml:ee2cd088-4b38-485a-bdcf-f034eebaa933 ]] {\r\n",
       "}\r\n",
       "comp usage \"vv: V\" as E3  <<(T,blue) part>> [[psysml:ea23779d-7b91-41e0-a4d1-5f0745e774d2 ]] {\r\n",
       "}\r\n",
       "comp def \"R\" as E4  <<(T,blue) requirement def>> [[psysml:971e85b9-9957-4674-90a7-be3bf98856c5 ]] {\r\n",
       "...\r\n",
       "- -\r\n",
       "}\r\n",
       "comp usage \"r: R\" as E5  <<(T,blue) requirement>> [[psysml:bbcd2223-85a4-4701-a24f-5592c5712336 ]] {\r\n",
       "}\r\n",
       "rec def \"VerificationCase\" as E6  <<(T,blue) verificationCase def>> [[psysml:f44943ce-87bd-4d2b-91db-f66bd879bf72 ]] {\r\n",
       "portin \"v\" as E7  [[psysml:39e4c68a-7e48-4018-a595-005447bc25d1 ]] \r\n",
       "portout \"verdict\" as E8  [[psysml:e7480a5a-bc03-4bfb-926c-ff77790341ab ]] \r\n",
       "}\r\n",
       "\r\n",
       "rec def \"VerificationPlan\" as E9  <<(T,blue) verificationCase def>> [[psysml:109e665d-9569-4e28-8454-db86a3b7365b ]] {\r\n",
       "portin \"v\" as E10  [[psysml:bc04aa0f-1251-4bd1-9492-821de83ad0f4 ]] \r\n",
       "rec usage \"verificationCase\" as E11  <<(T,blue) verificationCase>> [[psysml:d8eec309-4539-4ef6-b593-f8d5221313a5 ]] {\r\n",
       "portout \"verdict\" as E12  [[psysml:d4b19012-2d8f-412c-81cb-04106ed54ab9 ]] \r\n",
       "portin \"v\" as E13  [[psysml:101691aa-2b16-4439-bb49-3b5a9750b72a ]] \r\n",
       "}\r\n",
       "\r\n",
       "portout \"verdict\" as E14  [[psysml:d1cc474d-a7ae-4245-8f3b-eac2c389ad3d ]] \r\n",
       "}\r\n",
       "\r\n",
       "comp usage \"verificationContext\" as E15  <<(T,blue) part>> [[psysml:1ba0f1fa-2142-46f9-b759-d2e88bd368a2 ]] {\r\n",
       "}\r\n",
       "comp usage \"verificationPlan: VerificationPlan\" as E16  <<(T,blue) verificationCase>> [[psysml:f139e62b-7bf9-43a0-a382-40038ed35c63 ]] {\r\n",
       "}\r\n",
       "comp usage \"obj\" as E17  <<(T,blue) requirement>> [[psysml:fe640fc2-093c-44fe-a9fd-0ceecb8f463c ]] {\r\n",
       "}\r\n",
       "}\r\n",
       "E3 - -:|> E2 [[psysml:2b222a15-a90b-432a-993d-d339516ea993 ]] \r\n",
       "E5 - -:|> E4 [[psysml:4afeeb28-a204-4e17-a080-31f9a6d380ec ]] \r\n",
       "E15 *- - E16 [[psysml:4d9ca163-dfe0-49d5-81cb-3058dc3dad3f ]] \r\n",
       "E16 - -:|> E9 [[psysml:cd73bb42-520f-4e04-8240-7f040abbe442 ]] \r\n",
       "E16 - ->> \"*\"E17 [[psysml:e29f10bd-d5bc-4797-97ab-a37fb0e5db5b ]] : <<objective>>\r\n",
       "@enduml\r\n",
       "\n",
       "PlantUML version 1.2020.13(Sat Jun 13 12:26:38 UTC 2020)\n",
       "(EPL source distribution)\n",
       "Java Runtime: OpenJDK Runtime Environment\n",
       "JVM: OpenJDK 64-Bit Server VM\n",
       "Default Encoding: UTF-8\n",
       "Language: en\n",
       "Country: null\n",
       "--></g></svg>"
      ]
     },
     "execution_count": 9,
     "metadata": {},
     "output_type": "execute_result"
    }
   ],
   "source": [
    "%viz --style=\"POLYLINE\" --view=\"Default\" \"VerificationTest\""
   ]
  },
  {
   "cell_type": "code",
   "execution_count": 10,
   "id": "bd23a917",
   "metadata": {
    "execution": {
     "iopub.execute_input": "2021-10-03T08:26:47.250758Z",
     "iopub.status.busy": "2021-10-03T08:26:47.250342Z",
     "iopub.status.idle": "2021-10-03T08:26:47.335448Z",
     "shell.execute_reply": "2021-10-03T08:26:47.335082Z"
    }
   },
   "outputs": [
    {
     "data": {
      "image/svg+xml": [
       "<?xml version=\"1.0\" encoding=\"UTF-8\" standalone=\"no\"?><svg xmlns=\"http://www.w3.org/2000/svg\" xmlns:xlink=\"http://www.w3.org/1999/xlink\" contentScriptType=\"application/ecmascript\" contentStyleType=\"text/css\" height=\"268px\" preserveAspectRatio=\"none\" style=\"width:746px;height:268px;\" version=\"1.1\" viewBox=\"0 0 746 268\" width=\"746px\" zoomAndPan=\"magnify\"><defs/><g><!--MD5=[fbc87193dbaf4d95561dea2c320d4a47]\n",
       "cluster E1--><a href=\"psysml:7303dfcd-df1a-4034-bc74-eb93457ec7c0\" target=\"_top\" title=\"psysml:7303dfcd-df1a-4034-bc74-eb93457ec7c0\" xlink:actuate=\"onRequest\" xlink:href=\"psysml:7303dfcd-df1a-4034-bc74-eb93457ec7c0\" xlink:show=\"new\" xlink:title=\"psysml:7303dfcd-df1a-4034-bc74-eb93457ec7c0\" xlink:type=\"simple\"><polygon fill=\"#FFFFFF\" points=\"16,6,128,6,135,28.2969,724,28.2969,724,256,16,256,16,6\" style=\"stroke: #000000; stroke-width: 1.5;\"/><line style=\"stroke: #000000; stroke-width: 1.5;\" x1=\"16\" x2=\"135\" y1=\"28.2969\" y2=\"28.2969\"/><text fill=\"#000000\" font-family=\"sans-serif\" font-size=\"14\" font-weight=\"bold\" lengthAdjust=\"spacingAndGlyphs\" textLength=\"106\" x=\"20\" y=\"20.9951\">VerificationTest</text></a><!--MD5=[b4997ac47864f28c2f74865a473b2911]\n",
       "class E2--><a href=\"psysml:ee2cd088-4b38-485a-bdcf-f034eebaa933\" target=\"_top\" title=\"psysml:ee2cd088-4b38-485a-bdcf-f034eebaa933\" xlink:actuate=\"onRequest\" xlink:href=\"psysml:ee2cd088-4b38-485a-bdcf-f034eebaa933\" xlink:show=\"new\" xlink:title=\"psysml:ee2cd088-4b38-485a-bdcf-f034eebaa933\" xlink:type=\"simple\"><rect fill=\"#FFFFFF\" height=\"45.9375\" id=\"E2\" style=\"stroke: #383838; stroke-width: 1.5;\" width=\"66\" x=\"342\" y=\"179\"/><text fill=\"#000000\" font-family=\"sans-serif\" font-size=\"12\" font-style=\"italic\" lengthAdjust=\"spacingAndGlyphs\" textLength=\"64\" x=\"343\" y=\"195.1387\">«part def»</text><text fill=\"#000000\" font-family=\"sans-serif\" font-size=\"12\" lengthAdjust=\"spacingAndGlyphs\" textLength=\"8\" x=\"371\" y=\"209.1074\">V</text><line style=\"stroke: #383838; stroke-width: 1.5;\" x1=\"343\" x2=\"407\" y1=\"216.9375\" y2=\"216.9375\"/></a><!--MD5=[09b614a08d8cba4a07c9adeb5e0fee81]\n",
       "class E3--><a href=\"psysml:ea23779d-7b91-41e0-a4d1-5f0745e774d2\" target=\"_top\" title=\"psysml:ea23779d-7b91-41e0-a4d1-5f0745e774d2\" xlink:actuate=\"onRequest\" xlink:href=\"psysml:ea23779d-7b91-41e0-a4d1-5f0745e774d2\" xlink:show=\"new\" xlink:title=\"psysml:ea23779d-7b91-41e0-a4d1-5f0745e774d2\" xlink:type=\"simple\"><rect fill=\"#FFFFFF\" height=\"45.9375\" id=\"E3\" rx=\"10\" ry=\"10\" style=\"stroke: #383838; stroke-width: 1.5;\" width=\"42\" x=\"364\" y=\"41\"/><text fill=\"#000000\" font-family=\"sans-serif\" font-size=\"12\" font-style=\"italic\" lengthAdjust=\"spacingAndGlyphs\" textLength=\"40\" x=\"365\" y=\"57.1387\">«part»</text><text fill=\"#000000\" font-family=\"sans-serif\" font-size=\"12\" lengthAdjust=\"spacingAndGlyphs\" textLength=\"28\" x=\"371\" y=\"71.1074\">vv: V</text><line style=\"stroke: #383838; stroke-width: 1.5;\" x1=\"365\" x2=\"405\" y1=\"78.9375\" y2=\"78.9375\"/></a><!--MD5=[ebbe1d658d1005bcc118a6aa81145e00]\n",
       "class E4--><a href=\"psysml:971e85b9-9957-4674-90a7-be3bf98856c5\" target=\"_top\" title=\"psysml:971e85b9-9957-4674-90a7-be3bf98856c5\" xlink:actuate=\"onRequest\" xlink:href=\"psysml:971e85b9-9957-4674-90a7-be3bf98856c5\" xlink:show=\"new\" xlink:title=\"psysml:971e85b9-9957-4674-90a7-be3bf98856c5\" xlink:type=\"simple\"><rect fill=\"#FFFFFF\" height=\"66.7422\" id=\"E4\" style=\"stroke: #383838; stroke-width: 1.5;\" width=\"117\" x=\"590.5\" y=\"168.5\"/><text fill=\"#000000\" font-family=\"sans-serif\" font-size=\"12\" font-style=\"italic\" lengthAdjust=\"spacingAndGlyphs\" textLength=\"115\" x=\"591.5\" y=\"184.6387\">«requirement def»</text><text fill=\"#000000\" font-family=\"sans-serif\" font-size=\"12\" lengthAdjust=\"spacingAndGlyphs\" textLength=\"8\" x=\"645\" y=\"198.6074\">R</text><line style=\"stroke: #383838; stroke-width: 1.5;\" x1=\"591.5\" x2=\"706.5\" y1=\"206.4375\" y2=\"206.4375\"/><text fill=\"#000000\" font-family=\"sans-serif\" font-size=\"11\" lengthAdjust=\"spacingAndGlyphs\" textLength=\"12\" x=\"596.5\" y=\"220.6479\">...</text><line style=\"stroke: #383838; stroke-width: 1.0;\" x1=\"591.5\" x2=\"706.5\" y1=\"227.2422\" y2=\"227.2422\"/></a><!--MD5=[270fce915f116d4de14055a7c1d9a0f3]\n",
       "class E5--><a href=\"psysml:bbcd2223-85a4-4701-a24f-5592c5712336\" target=\"_top\" title=\"psysml:bbcd2223-85a4-4701-a24f-5592c5712336\" xlink:actuate=\"onRequest\" xlink:href=\"psysml:bbcd2223-85a4-4701-a24f-5592c5712336\" xlink:show=\"new\" xlink:title=\"psysml:bbcd2223-85a4-4701-a24f-5592c5712336\" xlink:type=\"simple\"><rect fill=\"#FFFFFF\" height=\"45.9375\" id=\"E5\" rx=\"10\" ry=\"10\" style=\"stroke: #383838; stroke-width: 1.5;\" width=\"93\" x=\"615.5\" y=\"41\"/><text fill=\"#000000\" font-family=\"sans-serif\" font-size=\"12\" font-style=\"italic\" lengthAdjust=\"spacingAndGlyphs\" textLength=\"91\" x=\"616.5\" y=\"57.1387\">«requirement»</text><text fill=\"#000000\" font-family=\"sans-serif\" font-size=\"12\" lengthAdjust=\"spacingAndGlyphs\" textLength=\"21\" x=\"651.5\" y=\"71.1074\">r: R</text><line style=\"stroke: #383838; stroke-width: 1.5;\" x1=\"616.5\" x2=\"707.5\" y1=\"78.9375\" y2=\"78.9375\"/></a><!--MD5=[60a26617385b1d2d0262a64233df1f8d]\n",
       "class E6--><a href=\"psysml:f44943ce-87bd-4d2b-91db-f66bd879bf72\" target=\"_top\" title=\"psysml:f44943ce-87bd-4d2b-91db-f66bd879bf72\" xlink:actuate=\"onRequest\" xlink:href=\"psysml:f44943ce-87bd-4d2b-91db-f66bd879bf72\" xlink:show=\"new\" xlink:title=\"psysml:f44943ce-87bd-4d2b-91db-f66bd879bf72\" xlink:type=\"simple\"><rect fill=\"#FFFFFF\" height=\"45.9375\" id=\"E6\" style=\"stroke: #383838; stroke-width: 1.5;\" width=\"139\" x=\"441.5\" y=\"41\"/><text fill=\"#000000\" font-family=\"sans-serif\" font-size=\"12\" font-style=\"italic\" lengthAdjust=\"spacingAndGlyphs\" textLength=\"137\" x=\"442.5\" y=\"57.1387\">«verificationCase def»</text><text fill=\"#000000\" font-family=\"sans-serif\" font-size=\"12\" lengthAdjust=\"spacingAndGlyphs\" textLength=\"101\" x=\"460.5\" y=\"71.1074\">VerificationCase</text><line style=\"stroke: #383838; stroke-width: 1.5;\" x1=\"442.5\" x2=\"579.5\" y1=\"78.9375\" y2=\"78.9375\"/></a><!--MD5=[2156ba9850f5573cc1fc38a6a4b2f02b]\n",
       "class E7--><a href=\"psysml:c1b61795-7b30-4440-a267-41d24baf94c2\" target=\"_top\" title=\"psysml:c1b61795-7b30-4440-a267-41d24baf94c2\" xlink:actuate=\"onRequest\" xlink:href=\"psysml:c1b61795-7b30-4440-a267-41d24baf94c2\" xlink:show=\"new\" xlink:title=\"psysml:c1b61795-7b30-4440-a267-41d24baf94c2\" xlink:type=\"simple\"><rect fill=\"#FFFFFF\" height=\"75.5469\" id=\"E7\" rx=\"10\" ry=\"10\" style=\"stroke: #383838; stroke-width: 1.5;\" width=\"93\" x=\"462.5\" y=\"164\"/><text fill=\"#000000\" font-family=\"sans-serif\" font-size=\"12\" font-style=\"italic\" lengthAdjust=\"spacingAndGlyphs\" textLength=\"91\" x=\"463.5\" y=\"180.1387\">«requirement»</text><text fill=\"#000000\" font-family=\"sans-serif\" font-size=\"12\" lengthAdjust=\"spacingAndGlyphs\" textLength=\"19\" x=\"499.5\" y=\"194.1074\">obj</text><line style=\"stroke: #383838; stroke-width: 1.5;\" x1=\"463.5\" x2=\"554.5\" y1=\"201.9375\" y2=\"201.9375\"/><text fill=\"#000000\" font-family=\"sans-serif\" font-size=\"11\" font-weight=\"bold\" lengthAdjust=\"spacingAndGlyphs\" textLength=\"41\" x=\"468.5\" y=\"232.9526\">require</text><text fill=\"#000000\" font-family=\"sans-serif\" font-size=\"11\" lengthAdjust=\"spacingAndGlyphs\" textLength=\"15\" x=\"513.5\" y=\"232.9526\">: R</text><line style=\"stroke: #383838; stroke-width: 1.0;\" x1=\"463.5\" x2=\"470.5\" y1=\"216.3398\" y2=\"216.3398\"/><text fill=\"#000000\" font-family=\"sans-serif\" font-size=\"11\" lengthAdjust=\"spacingAndGlyphs\" textLength=\"77\" x=\"470.5\" y=\"219.6479\">requirements</text><line style=\"stroke: #383838; stroke-width: 1.0;\" x1=\"547.5\" x2=\"554.5\" y1=\"216.3398\" y2=\"216.3398\"/></a><!--MD5=[fd4143e9d270a159db93a4ea2a975926]\n",
       "class E9--><a href=\"psysml:109e665d-9569-4e28-8454-db86a3b7365b\" target=\"_top\" title=\"psysml:109e665d-9569-4e28-8454-db86a3b7365b\" xlink:actuate=\"onRequest\" xlink:href=\"psysml:109e665d-9569-4e28-8454-db86a3b7365b\" xlink:show=\"new\" xlink:title=\"psysml:109e665d-9569-4e28-8454-db86a3b7365b\" xlink:type=\"simple\"><rect fill=\"#FFFFFF\" height=\"45.9375\" id=\"E9\" style=\"stroke: #383838; stroke-width: 1.5;\" width=\"139\" x=\"189.5\" y=\"41\"/><text fill=\"#000000\" font-family=\"sans-serif\" font-size=\"12\" font-style=\"italic\" lengthAdjust=\"spacingAndGlyphs\" textLength=\"137\" x=\"190.5\" y=\"57.1387\">«verificationCase def»</text><text fill=\"#000000\" font-family=\"sans-serif\" font-size=\"12\" lengthAdjust=\"spacingAndGlyphs\" textLength=\"97\" x=\"210.5\" y=\"71.1074\">VerificationPlan</text><line style=\"stroke: #383838; stroke-width: 1.5;\" x1=\"190.5\" x2=\"327.5\" y1=\"78.9375\" y2=\"78.9375\"/></a><!--MD5=[96f4274e9e20536e775497830990834d]\n",
       "class E10--><a href=\"psysml:7031c3a4-5568-406f-9713-a580e51688a6\" target=\"_top\" title=\"psysml:7031c3a4-5568-406f-9713-a580e51688a6\" xlink:actuate=\"onRequest\" xlink:href=\"psysml:7031c3a4-5568-406f-9713-a580e51688a6\" xlink:show=\"new\" xlink:title=\"psysml:7031c3a4-5568-406f-9713-a580e51688a6\" xlink:type=\"simple\"><rect fill=\"#FFFFFF\" height=\"75.5469\" id=\"E10\" rx=\"10\" ry=\"10\" style=\"stroke: #383838; stroke-width: 1.5;\" width=\"93\" x=\"143.5\" y=\"164\"/><text fill=\"#000000\" font-family=\"sans-serif\" font-size=\"12\" font-style=\"italic\" lengthAdjust=\"spacingAndGlyphs\" textLength=\"91\" x=\"144.5\" y=\"180.1387\">«requirement»</text><text fill=\"#000000\" font-family=\"sans-serif\" font-size=\"12\" lengthAdjust=\"spacingAndGlyphs\" textLength=\"19\" x=\"180.5\" y=\"194.1074\">obj</text><line style=\"stroke: #383838; stroke-width: 1.5;\" x1=\"144.5\" x2=\"235.5\" y1=\"201.9375\" y2=\"201.9375\"/><text fill=\"#000000\" font-family=\"sans-serif\" font-size=\"11\" font-weight=\"bold\" lengthAdjust=\"spacingAndGlyphs\" textLength=\"41\" x=\"149.5\" y=\"232.9526\">require</text><text fill=\"#000000\" font-family=\"sans-serif\" font-size=\"11\" lengthAdjust=\"spacingAndGlyphs\" textLength=\"5\" x=\"194.5\" y=\"232.9526\">r</text><line style=\"stroke: #383838; stroke-width: 1.0;\" x1=\"144.5\" x2=\"151.5\" y1=\"216.3398\" y2=\"216.3398\"/><text fill=\"#000000\" font-family=\"sans-serif\" font-size=\"11\" lengthAdjust=\"spacingAndGlyphs\" textLength=\"77\" x=\"151.5\" y=\"219.6479\">requirements</text><line style=\"stroke: #383838; stroke-width: 1.0;\" x1=\"228.5\" x2=\"235.5\" y1=\"216.3398\" y2=\"216.3398\"/></a><!--MD5=[49a0ec8f00dab7302a31f22d0f0fe584]\n",
       "class E12--><a href=\"psysml:1ba0f1fa-2142-46f9-b759-d2e88bd368a2\" target=\"_top\" title=\"psysml:1ba0f1fa-2142-46f9-b759-d2e88bd368a2\" xlink:actuate=\"onRequest\" xlink:href=\"psysml:1ba0f1fa-2142-46f9-b759-d2e88bd368a2\" xlink:show=\"new\" xlink:title=\"psysml:1ba0f1fa-2142-46f9-b759-d2e88bd368a2\" xlink:type=\"simple\"><rect fill=\"#FFFFFF\" height=\"45.9375\" id=\"E12\" rx=\"10\" ry=\"10\" style=\"stroke: #383838; stroke-width: 1.5;\" width=\"122\" x=\"32\" y=\"41\"/><text fill=\"#000000\" font-family=\"sans-serif\" font-size=\"12\" font-style=\"italic\" lengthAdjust=\"spacingAndGlyphs\" textLength=\"40\" x=\"73\" y=\"57.1387\">«part»</text><text fill=\"#000000\" font-family=\"sans-serif\" font-size=\"12\" lengthAdjust=\"spacingAndGlyphs\" textLength=\"116\" x=\"35\" y=\"71.1074\">verificationContext</text><line style=\"stroke: #383838; stroke-width: 1.5;\" x1=\"33\" x2=\"153\" y1=\"78.9375\" y2=\"78.9375\"/></a><!--MD5=[05d275557350bfb9b23a4ef7222b4c39]\n",
       "link E3 to E2--><a href=\"psysml:2b222a15-a90b-432a-993d-d339516ea993\" target=\"_top\" title=\"psysml:2b222a15-a90b-432a-993d-d339516ea993\" xlink:actuate=\"onRequest\" xlink:href=\"psysml:2b222a15-a90b-432a-993d-d339516ea993\" xlink:show=\"new\" xlink:title=\"psysml:2b222a15-a90b-432a-993d-d339516ea993\" xlink:type=\"simple\"><path d=\"M382.88,87.05 C381.52,101.23 380,117 380,117 C380,117 378.76,137.84 377.51,158.75 \" fill=\"none\" id=\"E3-&gt;E2\" style=\"stroke: #383838; stroke-width: 1.0;\"/><polygon fill=\"#FFFFFF\" points=\"376.31,178.93,370.4484,159.5485,384.4238,160.3783,376.31,178.93\" style=\"stroke: #383838; stroke-width: 1.0;\"/><ellipse cx=\"372.7827\" cy=\"153.9771\" fill=\"#383838\" rx=\"2\" ry=\"2\" style=\"stroke: #383838; stroke-width: 1.0;\"/><ellipse cx=\"382.7651\" cy=\"154.5697\" fill=\"#383838\" rx=\"2\" ry=\"2\" style=\"stroke: #383838; stroke-width: 1.0;\"/></a><!--MD5=[1c62de2aa5b76f0fb657ff8443a1a700]\n",
       "link E5 to E4--><a href=\"psysml:4afeeb28-a204-4e17-a080-31f9a6d380ec\" target=\"_top\" title=\"psysml:4afeeb28-a204-4e17-a080-31f9a6d380ec\" xlink:actuate=\"onRequest\" xlink:href=\"psysml:4afeeb28-a204-4e17-a080-31f9a6d380ec\" xlink:show=\"new\" xlink:title=\"psysml:4afeeb28-a204-4e17-a080-31f9a6d380ec\" xlink:type=\"simple\"><path d=\"M659.88,87.15 C658.3,103.69 656.07,127.01 654.04,148.23 \" fill=\"none\" id=\"E5-&gt;E4\" style=\"stroke: #383838; stroke-width: 1.0;\"/><polygon fill=\"#FFFFFF\" points=\"652.11,168.44,646.9475,148.8607,660.8842,150.1913,652.11,168.44\" style=\"stroke: #383838; stroke-width: 1.0;\"/><ellipse cx=\"649.4803\" cy=\"143.3766\" fill=\"#383838\" rx=\"2\" ry=\"2\" style=\"stroke: #383838; stroke-width: 1.0;\"/><ellipse cx=\"659.435\" cy=\"144.327\" fill=\"#383838\" rx=\"2\" ry=\"2\" style=\"stroke: #383838; stroke-width: 1.0;\"/></a><!--MD5=[2351f337d6de0f557b50152ba70847b5]\n",
       "link E6 to E2--><a href=\"psysml:0a65a73b-aad1-46f6-97e3-b503c188383c\" target=\"_top\" title=\"psysml:0a65a73b-aad1-46f6-97e3-b503c188383c\" xlink:actuate=\"onRequest\" xlink:href=\"psysml:0a65a73b-aad1-46f6-97e3-b503c188383c\" xlink:show=\"new\" xlink:title=\"psysml:0a65a73b-aad1-46f6-97e3-b503c188383c\" xlink:type=\"simple\"><path d=\"M480.04,87.05 C460.15,101.23 438,117 438,117 C438,117 413.17,150.1 394.69,174.75 \" fill=\"none\" id=\"E6-&gt;E2\" style=\"stroke: #383838; stroke-width: 1.0; stroke-dasharray: 7.0,7.0;\"/><polygon fill=\"#383838\" points=\"391.55,178.93,400.15,174.13,394.55,174.93,393.75,169.33,391.55,178.93\" style=\"stroke: #383838; stroke-width: 1.0;\"/><text fill=\"#000000\" font-family=\"sans-serif\" font-size=\"13\" lengthAdjust=\"spacingAndGlyphs\" textLength=\"62\" x=\"439\" y=\"130.0669\">«subject»</text></a><!--MD5=[02c70b7c851c11e3980e4e90450dc5dd]\n",
       "link E6 to E7--><a href=\"psysml:ca392d64-6b44-4e33-bff2-bf36fcd3e380\" target=\"_top\" title=\"psysml:ca392d64-6b44-4e33-bff2-bf36fcd3e380\" xlink:actuate=\"onRequest\" xlink:href=\"psysml:ca392d64-6b44-4e33-bff2-bf36fcd3e380\" xlink:show=\"new\" xlink:title=\"psysml:ca392d64-6b44-4e33-bff2-bf36fcd3e380\" xlink:type=\"simple\"><path d=\"M510.67,87.15 C510.4,105.66 510.01,132.63 509.67,155.68 \" fill=\"none\" id=\"E6-&gt;E7\" style=\"stroke: #383838; stroke-width: 1.0;\"/><polygon fill=\"#383838\" points=\"509.54,163.97,512.6682,156.0192,506.6689,155.9228,509.54,163.97\" style=\"stroke: #383838; stroke-width: 1.0;\"/><text fill=\"#000000\" font-family=\"sans-serif\" font-size=\"13\" lengthAdjust=\"spacingAndGlyphs\" textLength=\"73\" x=\"511\" y=\"130.0669\">«objective»</text><text fill=\"#000000\" font-family=\"sans-serif\" font-size=\"13\" lengthAdjust=\"spacingAndGlyphs\" textLength=\"7\" x=\"502.0128\" y=\"152.979\">*</text></a><!--MD5=[5c3bb36fe832a92c7f0e1807dd65209d]\n",
       "link E9 to E2--><a href=\"psysml:e35a8663-5a9e-49b1-9953-8d2b3225b6ac\" target=\"_top\" title=\"psysml:e35a8663-5a9e-49b1-9953-8d2b3225b6ac\" xlink:actuate=\"onRequest\" xlink:href=\"psysml:e35a8663-5a9e-49b1-9953-8d2b3225b6ac\" xlink:show=\"new\" xlink:title=\"psysml:e35a8663-5a9e-49b1-9953-8d2b3225b6ac\" xlink:type=\"simple\"><path d=\"M274.45,87.21 C288.48,107.38 307,134 307,134 C307,134 329.48,156.15 348.59,174.98 \" fill=\"none\" id=\"E9-&gt;E2\" style=\"stroke: #383838; stroke-width: 1.0; stroke-dasharray: 7.0,7.0;\"/><polygon fill=\"#383838\" points=\"352.36,178.69,348.7318,169.5338,348.7889,175.1904,343.1324,175.2475,352.36,178.69\" style=\"stroke: #383838; stroke-width: 1.0;\"/><text fill=\"#000000\" font-family=\"sans-serif\" font-size=\"13\" lengthAdjust=\"spacingAndGlyphs\" textLength=\"62\" x=\"308\" y=\"130.0669\">«subject»</text></a><!--MD5=[35e5f1cbde42fa304a029880aa2bc7f2]\n",
       "link E9 to E10--><a href=\"psysml:a2e94b2d-09ed-4b49-b784-abde9df75390\" target=\"_top\" title=\"psysml:a2e94b2d-09ed-4b49-b784-abde9df75390\" xlink:actuate=\"onRequest\" xlink:href=\"psysml:a2e94b2d-09ed-4b49-b784-abde9df75390\" xlink:show=\"new\" xlink:title=\"psysml:a2e94b2d-09ed-4b49-b784-abde9df75390\" xlink:type=\"simple\"><path d=\"M228.47,87.05 C208.84,101.23 187,117 187,117 C187,117 187,134 187,134 C187,134 187.44,143.74 187.98,155.8 \" fill=\"none\" id=\"E9-&gt;E10\" style=\"stroke: #383838; stroke-width: 1.0;\"/><polygon fill=\"#383838\" points=\"188.34,163.97,190.9796,155.844,184.9856,156.112,188.34,163.97\" style=\"stroke: #383838; stroke-width: 1.0;\"/><text fill=\"#000000\" font-family=\"sans-serif\" font-size=\"13\" lengthAdjust=\"spacingAndGlyphs\" textLength=\"73\" x=\"188\" y=\"130.0669\">«objective»</text><text fill=\"#000000\" font-family=\"sans-serif\" font-size=\"13\" lengthAdjust=\"spacingAndGlyphs\" textLength=\"7\" x=\"180.4209\" y=\"152.979\">*</text></a><!--MD5=[1d16a2f9d0333e87812d88e51c630d34]\n",
       "@startuml\r\n",
       "skinparam linetype polyline\r\n",
       "skinparam monochrome true\r\n",
       "skinparam classbackgroundcolor white\r\n",
       "skinparam shadowing false\r\n",
       "skinparam wrapWidth 300\r\n",
       "hide circle\r\n",
       "\r\n",
       "package \"VerificationTest\" as E1  [[psysml:7303dfcd-df1a-4034-bc74-eb93457ec7c0 ]]  {\r\n",
       "comp def \"V\" as E2  <<(T,blue) part def>> [[psysml:ee2cd088-4b38-485a-bdcf-f034eebaa933 ]] {\r\n",
       "}\r\n",
       "comp usage \"vv: V\" as E3  <<(T,blue) part>> [[psysml:ea23779d-7b91-41e0-a4d1-5f0745e774d2 ]] {\r\n",
       "}\r\n",
       "comp def \"R\" as E4  <<(T,blue) requirement def>> [[psysml:971e85b9-9957-4674-90a7-be3bf98856c5 ]] {\r\n",
       "...\r\n",
       "- -\r\n",
       "}\r\n",
       "comp usage \"r: R\" as E5  <<(T,blue) requirement>> [[psysml:bbcd2223-85a4-4701-a24f-5592c5712336 ]] {\r\n",
       "}\r\n",
       "comp def \"VerificationCase\" as E6  <<(T,blue) verificationCase def>> [[psysml:f44943ce-87bd-4d2b-91db-f66bd879bf72 ]] {\r\n",
       "}\r\n",
       "comp usage \"obj\" as E7  <<(T,blue) requirement>> [[psysml:c1b61795-7b30-4440-a267-41d24baf94c2 ]] {\r\n",
       "- - requirements - -\r\n",
       "<b>require</b> : R\r\n",
       "}\r\n",
       "comp def \"VerificationPlan\" as E9  <<(T,blue) verificationCase def>> [[psysml:109e665d-9569-4e28-8454-db86a3b7365b ]] {\r\n",
       "}\r\n",
       "comp usage \"obj\" as E10  <<(T,blue) requirement>> [[psysml:7031c3a4-5568-406f-9713-a580e51688a6 ]] {\r\n",
       "- - requirements - -\r\n",
       "<b>require</b> r\r\n",
       "}\r\n",
       "comp usage \"verificationContext\" as E12  <<(T,blue) part>> [[psysml:1ba0f1fa-2142-46f9-b759-d2e88bd368a2 ]] {\r\n",
       "}\r\n",
       "}\r\n",
       "E3 - -:|> E2 [[psysml:2b222a15-a90b-432a-993d-d339516ea993 ]] \r\n",
       "E5 - -:|> E4 [[psysml:4afeeb28-a204-4e17-a080-31f9a6d380ec ]] \r\n",
       "E6 ..> E2 [[psysml:0a65a73b-aad1-46f6-97e3-b503c188383c ]] : <<subject>>\r\n",
       "E6 - ->> \"*\"E7 [[psysml:ca392d64-6b44-4e33-bff2-bf36fcd3e380 ]] : <<objective>>\r\n",
       "E9 ..> E2 [[psysml:e35a8663-5a9e-49b1-9953-8d2b3225b6ac ]] : <<subject>>\r\n",
       "E9 - ->> \"*\"E10 [[psysml:a2e94b2d-09ed-4b49-b784-abde9df75390 ]] : <<objective>>\r\n",
       "@enduml\r\n",
       "\n",
       "PlantUML version 1.2020.13(Sat Jun 13 12:26:38 UTC 2020)\n",
       "(EPL source distribution)\n",
       "Java Runtime: OpenJDK Runtime Environment\n",
       "JVM: OpenJDK 64-Bit Server VM\n",
       "Default Encoding: UTF-8\n",
       "Language: en\n",
       "Country: null\n",
       "--></g></svg>"
      ]
     },
     "execution_count": 10,
     "metadata": {},
     "output_type": "execute_result"
    }
   ],
   "source": [
    "%viz --style=\"POLYLINE\" --view=\"Tree\" \"VerificationTest\""
   ]
  },
  {
   "cell_type": "code",
   "execution_count": 11,
   "id": "deb14f28",
   "metadata": {
    "execution": {
     "iopub.execute_input": "2021-10-03T08:26:47.384782Z",
     "iopub.status.busy": "2021-10-03T08:26:47.384347Z",
     "iopub.status.idle": "2021-10-03T08:26:47.390756Z",
     "shell.execute_reply": "2021-10-03T08:26:47.391074Z"
    }
   },
   "outputs": [
    {
     "data": {
      "image/svg+xml": [
       "<?xml version=\"1.0\" encoding=\"UTF-8\" standalone=\"no\"?><svg xmlns=\"http://www.w3.org/2000/svg\" xmlns:xlink=\"http://www.w3.org/1999/xlink\" contentScriptType=\"application/ecmascript\" contentStyleType=\"text/css\" height=\"12px\" preserveAspectRatio=\"none\" style=\"width:12px;height:12px;\" version=\"1.1\" viewBox=\"0 0 12 12\" width=\"12px\" zoomAndPan=\"magnify\"><defs/><g><!--MD5=[896ac0e7a515d8dd7765a661cb4ee08b]\n",
       "@startuml\r\n",
       "skinparam linetype polyline\r\n",
       "skinparam monochrome true\r\n",
       "skinparam classbackgroundcolor white\r\n",
       "skinparam shadowing false\r\n",
       "skinparam wrapWidth 300\r\n",
       "hide circle\r\n",
       "\r\n",
       "@enduml\r\n",
       "\n",
       "PlantUML version 1.2020.13(Sat Jun 13 12:26:38 UTC 2020)\n",
       "(EPL source distribution)\n",
       "Java Runtime: OpenJDK Runtime Environment\n",
       "JVM: OpenJDK 64-Bit Server VM\n",
       "Default Encoding: UTF-8\n",
       "Language: en\n",
       "Country: null\n",
       "--></g></svg>"
      ]
     },
     "execution_count": 11,
     "metadata": {},
     "output_type": "execute_result"
    }
   ],
   "source": [
    "%viz --style=\"POLYLINE\" --view=\"State\" \"VerificationTest\""
   ]
  },
  {
   "cell_type": "code",
   "execution_count": 12,
   "id": "1f15ed10",
   "metadata": {
    "execution": {
     "iopub.execute_input": "2021-10-03T08:26:47.440853Z",
     "iopub.status.busy": "2021-10-03T08:26:47.440441Z",
     "iopub.status.idle": "2021-10-03T08:26:47.502543Z",
     "shell.execute_reply": "2021-10-03T08:26:47.502177Z"
    }
   },
   "outputs": [
    {
     "data": {
      "image/svg+xml": [
       "<?xml version=\"1.0\" encoding=\"UTF-8\" standalone=\"no\"?><svg xmlns=\"http://www.w3.org/2000/svg\" xmlns:xlink=\"http://www.w3.org/1999/xlink\" contentScriptType=\"application/ecmascript\" contentStyleType=\"text/css\" height=\"436px\" preserveAspectRatio=\"none\" style=\"width:1278px;height:436px;\" version=\"1.1\" viewBox=\"0 0 1278 436\" width=\"1278px\" zoomAndPan=\"magnify\"><defs/><g><!--MD5=[fbc87193dbaf4d95561dea2c320d4a47]\n",
       "cluster E1--><a href=\"psysml:7303dfcd-df1a-4034-bc74-eb93457ec7c0\" target=\"_top\" title=\"psysml:7303dfcd-df1a-4034-bc74-eb93457ec7c0\" xlink:actuate=\"onRequest\" xlink:href=\"psysml:7303dfcd-df1a-4034-bc74-eb93457ec7c0\" xlink:show=\"new\" xlink:title=\"psysml:7303dfcd-df1a-4034-bc74-eb93457ec7c0\" xlink:type=\"simple\"><polygon fill=\"#FFFFFF\" points=\"16,6,128,6,135,28.2969,1256,28.2969,1256,424.36,16,424.36,16,6\" style=\"stroke: #000000; stroke-width: 1.5;\"/><line style=\"stroke: #000000; stroke-width: 1.5;\" x1=\"16\" x2=\"135\" y1=\"28.2969\" y2=\"28.2969\"/><text fill=\"#000000\" font-family=\"sans-serif\" font-size=\"14\" font-weight=\"bold\" lengthAdjust=\"spacingAndGlyphs\" textLength=\"106\" x=\"20\" y=\"20.9951\">VerificationTest</text></a><!--MD5=[14e3b0961a2654348d326746436168a1]\n",
       "cluster E6--><a href=\"psysml:f44943ce-87bd-4d2b-91db-f66bd879bf72\" target=\"_top\" title=\"psysml:f44943ce-87bd-4d2b-91db-f66bd879bf72\" xlink:actuate=\"onRequest\" xlink:href=\"psysml:f44943ce-87bd-4d2b-91db-f66bd879bf72\" xlink:show=\"new\" xlink:title=\"psysml:f44943ce-87bd-4d2b-91db-f66bd879bf72\" xlink:type=\"simple\"><rect fill=\"#FFFFFF\" height=\"218.36\" id=\"E6\" style=\"stroke: #383838; stroke-width: 1.5;\" width=\"200\" x=\"1040\" y=\"107\"/><rect fill=\"#F8F8F8\" height=\"37.9375\" style=\"stroke: #383838; stroke-width: 1.5;\" width=\"200\" x=\"1040\" y=\"107\"/><text fill=\"#000000\" font-family=\"sans-serif\" font-size=\"12\" font-style=\"italic\" lengthAdjust=\"spacingAndGlyphs\" textLength=\"137\" x=\"1071.5\" y=\"123.1387\">«verificationCase def»</text><text fill=\"#000000\" font-family=\"sans-serif\" font-size=\"12\" lengthAdjust=\"spacingAndGlyphs\" textLength=\"101\" x=\"1089.5\" y=\"137.1074\">VerificationCase</text></a><!--MD5=[7f149f147074ac12df2cb0a7728a5fb0]\n",
       "cluster E9--><a href=\"psysml:109e665d-9569-4e28-8454-db86a3b7365b\" target=\"_top\" title=\"psysml:109e665d-9569-4e28-8454-db86a3b7365b\" xlink:actuate=\"onRequest\" xlink:href=\"psysml:109e665d-9569-4e28-8454-db86a3b7365b\" xlink:show=\"new\" xlink:title=\"psysml:109e665d-9569-4e28-8454-db86a3b7365b\" xlink:type=\"simple\"><rect fill=\"#FFFFFF\" height=\"293.36\" id=\"E9\" style=\"stroke: #383838; stroke-width: 1.5;\" width=\"322\" x=\"688\" y=\"107\"/><rect fill=\"#F8F8F8\" height=\"37.9375\" style=\"stroke: #383838; stroke-width: 1.5;\" width=\"322\" x=\"688\" y=\"107\"/><text fill=\"#000000\" font-family=\"sans-serif\" font-size=\"12\" font-style=\"italic\" lengthAdjust=\"spacingAndGlyphs\" textLength=\"137\" x=\"780.5\" y=\"123.1387\">«verificationCase def»</text><text fill=\"#000000\" font-family=\"sans-serif\" font-size=\"12\" lengthAdjust=\"spacingAndGlyphs\" textLength=\"97\" x=\"800.5\" y=\"137.1074\">VerificationPlan</text></a><!--MD5=[917b9dd0c7eca3ee5f47219d1a84c0ad]\n",
       "cluster E11--><a href=\"psysml:d8eec309-4539-4ef6-b593-f8d5221313a5\" target=\"_top\" title=\"psysml:d8eec309-4539-4ef6-b593-f8d5221313a5\" xlink:actuate=\"onRequest\" xlink:href=\"psysml:d8eec309-4539-4ef6-b593-f8d5221313a5\" xlink:show=\"new\" xlink:title=\"psysml:d8eec309-4539-4ef6-b593-f8d5221313a5\" xlink:type=\"simple\"><rect fill=\"#FFFFFF\" height=\"165.86\" id=\"E11\" rx=\"10\" ry=\"10\" style=\"stroke: #383838; stroke-width: 1.5;\" width=\"174\" x=\"798\" y=\"196.5\"/><rect fill=\"#F8F8F8\" height=\"37.9375\" rx=\"10\" ry=\"10\" style=\"stroke: #F8F8F8; stroke-width: 1.5;\" width=\"174\" x=\"798\" y=\"196.5\"/><rect fill=\"#F8F8F8\" height=\"10\" style=\"stroke: #F8F8F8; stroke-width: 1.5;\" width=\"174\" x=\"798\" y=\"224.4375\"/><rect fill=\"none\" height=\"165.86\" id=\"E11\" rx=\"10\" ry=\"10\" style=\"stroke: #383838; stroke-width: 1.5;\" width=\"174\" x=\"798\" y=\"196.5\"/><text fill=\"#000000\" font-family=\"sans-serif\" font-size=\"12\" font-style=\"italic\" lengthAdjust=\"spacingAndGlyphs\" textLength=\"113\" x=\"828.5\" y=\"212.6387\">«verificationCase»</text><text fill=\"#000000\" font-family=\"sans-serif\" font-size=\"12\" lengthAdjust=\"spacingAndGlyphs\" textLength=\"99\" x=\"835.5\" y=\"226.6074\">verificationCase</text><line style=\"stroke: #383838; stroke-width: 1.0;\" x1=\"798\" x2=\"972\" y1=\"234.4375\" y2=\"234.4375\"/></a><!--MD5=[ab3548ab6224ff035c4047a4d30b7567]\n",
       "cluster E15--><a href=\"psysml:1ba0f1fa-2142-46f9-b759-d2e88bd368a2\" target=\"_top\" title=\"psysml:1ba0f1fa-2142-46f9-b759-d2e88bd368a2\" xlink:actuate=\"onRequest\" xlink:href=\"psysml:1ba0f1fa-2142-46f9-b759-d2e88bd368a2\" xlink:show=\"new\" xlink:title=\"psysml:1ba0f1fa-2142-46f9-b759-d2e88bd368a2\" xlink:type=\"simple\"><rect fill=\"#FFFFFF\" height=\"186.5\" id=\"E15\" rx=\"10\" ry=\"10\" style=\"stroke: #383838; stroke-width: 1.5;\" width=\"238\" x=\"336\" y=\"49\"/><rect fill=\"#F8F8F8\" height=\"23.9688\" rx=\"10\" ry=\"10\" style=\"stroke: #F8F8F8; stroke-width: 1.5;\" width=\"238\" x=\"336\" y=\"49\"/><rect fill=\"#F8F8F8\" height=\"10\" style=\"stroke: #F8F8F8; stroke-width: 1.5;\" width=\"238\" x=\"336\" y=\"62.9688\"/><rect fill=\"none\" height=\"186.5\" id=\"E15\" rx=\"10\" ry=\"10\" style=\"stroke: #383838; stroke-width: 1.5;\" width=\"238\" x=\"336\" y=\"49\"/><text fill=\"#000000\" font-family=\"sans-serif\" font-size=\"12\" lengthAdjust=\"spacingAndGlyphs\" textLength=\"116\" x=\"397\" y=\"65.1387\">verificationContext</text><line style=\"stroke: #383838; stroke-width: 1.0;\" x1=\"336\" x2=\"574\" y1=\"72.9688\" y2=\"72.9688\"/></a><!--MD5=[ebbe1d658d1005bcc118a6aa81145e00]\n",
       "class E4--><a href=\"psysml:971e85b9-9957-4674-90a7-be3bf98856c5\" target=\"_top\" title=\"psysml:971e85b9-9957-4674-90a7-be3bf98856c5\" xlink:actuate=\"onRequest\" xlink:href=\"psysml:971e85b9-9957-4674-90a7-be3bf98856c5\" xlink:show=\"new\" xlink:title=\"psysml:971e85b9-9957-4674-90a7-be3bf98856c5\" xlink:type=\"simple\"><rect fill=\"#FFFFFF\" height=\"66.7422\" id=\"E4\" style=\"stroke: #383838; stroke-width: 1.5;\" width=\"117\" x=\"202.5\" y=\"163\"/><text fill=\"#000000\" font-family=\"sans-serif\" font-size=\"12\" font-style=\"italic\" lengthAdjust=\"spacingAndGlyphs\" textLength=\"115\" x=\"203.5\" y=\"179.1387\">«requirement def»</text><text fill=\"#000000\" font-family=\"sans-serif\" font-size=\"12\" lengthAdjust=\"spacingAndGlyphs\" textLength=\"8\" x=\"257\" y=\"193.1074\">R</text><line style=\"stroke: #383838; stroke-width: 1.5;\" x1=\"203.5\" x2=\"318.5\" y1=\"200.9375\" y2=\"200.9375\"/><text fill=\"#000000\" font-family=\"sans-serif\" font-size=\"11\" lengthAdjust=\"spacingAndGlyphs\" textLength=\"12\" x=\"208.5\" y=\"215.1479\">...</text><line style=\"stroke: #383838; stroke-width: 1.0;\" x1=\"203.5\" x2=\"318.5\" y1=\"221.7422\" y2=\"221.7422\"/></a><!--MD5=[270fce915f116d4de14055a7c1d9a0f3]\n",
       "class E5--><a href=\"psysml:bbcd2223-85a4-4701-a24f-5592c5712336\" target=\"_top\" title=\"psysml:bbcd2223-85a4-4701-a24f-5592c5712336\" xlink:actuate=\"onRequest\" xlink:href=\"psysml:bbcd2223-85a4-4701-a24f-5592c5712336\" xlink:show=\"new\" xlink:title=\"psysml:bbcd2223-85a4-4701-a24f-5592c5712336\" xlink:type=\"simple\"><rect fill=\"#FFFFFF\" height=\"45.9375\" id=\"E5\" rx=\"10\" ry=\"10\" style=\"stroke: #383838; stroke-width: 1.5;\" width=\"93\" x=\"223.5\" y=\"84\"/><text fill=\"#000000\" font-family=\"sans-serif\" font-size=\"12\" font-style=\"italic\" lengthAdjust=\"spacingAndGlyphs\" textLength=\"91\" x=\"224.5\" y=\"100.1387\">«requirement»</text><text fill=\"#000000\" font-family=\"sans-serif\" font-size=\"12\" lengthAdjust=\"spacingAndGlyphs\" textLength=\"21\" x=\"259.5\" y=\"114.1074\">r: R</text><line style=\"stroke: #383838; stroke-width: 1.5;\" x1=\"224.5\" x2=\"315.5\" y1=\"121.9375\" y2=\"121.9375\"/></a><g id=\"E1.E2\"><a href=\"psysml:ee2cd088-4b38-485a-bdcf-f034eebaa933\" target=\"_top\" title=\"psysml:ee2cd088-4b38-485a-bdcf-f034eebaa933\" xlink:actuate=\"onRequest\" xlink:href=\"psysml:ee2cd088-4b38-485a-bdcf-f034eebaa933\" xlink:show=\"new\" xlink:title=\"psysml:ee2cd088-4b38-485a-bdcf-f034eebaa933\" xlink:type=\"simple\"><rect fill=\"#FFFFFF\" height=\"42.9375\" id=\"E2\" style=\"stroke: #383838; stroke-width: 1.5;\" width=\"71\" x=\"117.5\" y=\"85.5\"/><rect fill=\"#F8F8F8\" height=\"37.9375\" style=\"stroke: #383838; stroke-width: 1.5;\" width=\"71\" x=\"117.5\" y=\"85.5\"/><text fill=\"#000000\" font-family=\"sans-serif\" font-size=\"12\" font-style=\"italic\" lengthAdjust=\"spacingAndGlyphs\" textLength=\"64\" x=\"121\" y=\"101.6387\">«part def»</text><text fill=\"#000000\" font-family=\"sans-serif\" font-size=\"12\" lengthAdjust=\"spacingAndGlyphs\" textLength=\"8\" x=\"149\" y=\"115.6074\">V</text></a></g><g id=\"E1.E3\"><a href=\"psysml:ea23779d-7b91-41e0-a4d1-5f0745e774d2\" target=\"_top\" title=\"psysml:ea23779d-7b91-41e0-a4d1-5f0745e774d2\" xlink:actuate=\"onRequest\" xlink:href=\"psysml:ea23779d-7b91-41e0-a4d1-5f0745e774d2\" xlink:show=\"new\" xlink:title=\"psysml:ea23779d-7b91-41e0-a4d1-5f0745e774d2\" xlink:type=\"simple\"><rect fill=\"#FFFFFF\" height=\"40\" id=\"E3\" rx=\"10\" ry=\"10\" style=\"stroke: #383838; stroke-width: 1.5;\" width=\"50\" x=\"32\" y=\"87\"/><rect fill=\"#F8F8F8\" height=\"23.9688\" rx=\"10\" ry=\"10\" style=\"stroke: #F8F8F8; stroke-width: 1.5;\" width=\"50\" x=\"32\" y=\"87\"/><rect fill=\"#F8F8F8\" height=\"10\" style=\"stroke: #F8F8F8; stroke-width: 1.5;\" width=\"50\" x=\"32\" y=\"100.9688\"/><rect fill=\"none\" height=\"40\" id=\"E3\" rx=\"10\" ry=\"10\" style=\"stroke: #383838; stroke-width: 1.5;\" width=\"50\" x=\"32\" y=\"87\"/><text fill=\"#000000\" font-family=\"sans-serif\" font-size=\"12\" lengthAdjust=\"spacingAndGlyphs\" textLength=\"28\" x=\"43\" y=\"103.1387\">vv: V</text></a></g><text fill=\"#000000\" font-family=\"sans-serif\" font-size=\"14\" lengthAdjust=\"spacingAndGlyphs\" textLength=\"7\" x=\"1136.5\" y=\"85.6982\">v</text><rect fill=\"#383838\" height=\"12\" style=\"stroke: #F8F8F8; stroke-width: 1.5;\" width=\"12\" x=\"1134\" y=\"101\"/><text fill=\"#000000\" font-family=\"sans-serif\" font-size=\"14\" lengthAdjust=\"spacingAndGlyphs\" textLength=\"46\" x=\"1117\" y=\"344.3551\">verdict</text><rect fill=\"#383838\" height=\"12\" style=\"stroke: #F8F8F8; stroke-width: 1.5;\" width=\"12\" x=\"1134\" y=\"319.36\"/><text fill=\"#000000\" font-family=\"sans-serif\" font-size=\"14\" lengthAdjust=\"spacingAndGlyphs\" textLength=\"7\" x=\"702.5\" y=\"85.6982\">v</text><rect fill=\"#383838\" height=\"12\" style=\"stroke: #F8F8F8; stroke-width: 1.5;\" width=\"12\" x=\"700\" y=\"101\"/><text fill=\"#000000\" font-family=\"sans-serif\" font-size=\"14\" lengthAdjust=\"spacingAndGlyphs\" textLength=\"46\" x=\"987\" y=\"344.3551\">verdict</text><rect fill=\"#383838\" height=\"12\" style=\"stroke: #F8F8F8; stroke-width: 1.5;\" width=\"12\" x=\"1004\" y=\"319.36\"/><text fill=\"#000000\" font-family=\"sans-serif\" font-size=\"14\" lengthAdjust=\"spacingAndGlyphs\" textLength=\"46\" x=\"862\" y=\"381.3551\">verdict</text><rect fill=\"#383838\" height=\"12\" style=\"stroke: #F8F8F8; stroke-width: 1.5;\" width=\"12\" x=\"879\" y=\"356.36\"/><text fill=\"#000000\" font-family=\"sans-serif\" font-size=\"14\" lengthAdjust=\"spacingAndGlyphs\" textLength=\"7\" x=\"881.5\" y=\"175.1982\">v</text><rect fill=\"#383838\" height=\"12\" style=\"stroke: #F8F8F8; stroke-width: 1.5;\" width=\"12\" x=\"879\" y=\"190.5\"/><!--MD5=[35f0587eaee8d5bb9a02e25b63afc23b]\n",
       "class E16--><a href=\"psysml:f139e62b-7bf9-43a0-a382-40038ed35c63\" target=\"_top\" title=\"psysml:f139e62b-7bf9-43a0-a382-40038ed35c63\" xlink:actuate=\"onRequest\" xlink:href=\"psysml:f139e62b-7bf9-43a0-a382-40038ed35c63\" xlink:show=\"new\" xlink:title=\"psysml:f139e62b-7bf9-43a0-a382-40038ed35c63\" xlink:type=\"simple\"><rect fill=\"#FFFFFF\" height=\"45.9375\" id=\"E16\" rx=\"10\" ry=\"10\" style=\"stroke: #383838; stroke-width: 1.5;\" width=\"206\" x=\"352\" y=\"84\"/><text fill=\"#000000\" font-family=\"sans-serif\" font-size=\"12\" font-style=\"italic\" lengthAdjust=\"spacingAndGlyphs\" textLength=\"113\" x=\"398.5\" y=\"100.1387\">«verificationCase»</text><text fill=\"#000000\" font-family=\"sans-serif\" font-size=\"12\" lengthAdjust=\"spacingAndGlyphs\" textLength=\"200\" x=\"355\" y=\"114.1074\">verificationPlan: VerificationPlan</text><line style=\"stroke: #383838; stroke-width: 1.5;\" x1=\"353\" x2=\"557\" y1=\"121.9375\" y2=\"121.9375\"/></a><!--MD5=[60e55a4a9b2f0dc0a36787c5a2095786]\n",
       "class E17--><a href=\"psysml:fe640fc2-093c-44fe-a9fd-0ceecb8f463c\" target=\"_top\" title=\"psysml:fe640fc2-093c-44fe-a9fd-0ceecb8f463c\" xlink:actuate=\"onRequest\" xlink:href=\"psysml:fe640fc2-093c-44fe-a9fd-0ceecb8f463c\" xlink:show=\"new\" xlink:title=\"psysml:fe640fc2-093c-44fe-a9fd-0ceecb8f463c\" xlink:type=\"simple\"><rect fill=\"#FFFFFF\" height=\"45.9375\" id=\"E17\" rx=\"10\" ry=\"10\" style=\"stroke: #383838; stroke-width: 1.5;\" width=\"93\" x=\"408.5\" y=\"173.5\"/><text fill=\"#000000\" font-family=\"sans-serif\" font-size=\"12\" font-style=\"italic\" lengthAdjust=\"spacingAndGlyphs\" textLength=\"91\" x=\"409.5\" y=\"189.6387\">«requirement»</text><text fill=\"#000000\" font-family=\"sans-serif\" font-size=\"12\" lengthAdjust=\"spacingAndGlyphs\" textLength=\"19\" x=\"445.5\" y=\"203.6074\">obj</text><line style=\"stroke: #383838; stroke-width: 1.5;\" x1=\"409.5\" x2=\"500.5\" y1=\"211.4375\" y2=\"211.4375\"/></a><!--MD5=[1c62de2aa5b76f0fb657ff8443a1a700]\n",
       "link E5 to E4--><a href=\"psysml:4afeeb28-a204-4e17-a080-31f9a6d380ec\" target=\"_top\" title=\"psysml:4afeeb28-a204-4e17-a080-31f9a6d380ec\" xlink:actuate=\"onRequest\" xlink:href=\"psysml:4afeeb28-a204-4e17-a080-31f9a6d380ec\" xlink:show=\"new\" xlink:title=\"psysml:4afeeb28-a204-4e17-a080-31f9a6d380ec\" xlink:type=\"simple\"><path d=\"M267.73,130.08 C267.32,134.03 266.88,138.3 266.43,142.7 \" fill=\"none\" id=\"E5-&gt;E4\" style=\"stroke: #383838; stroke-width: 1.0;\"/><polygon fill=\"#FFFFFF\" points=\"264.36,162.84,259.3369,143.2245,273.2637,144.6542,264.36,162.84\" style=\"stroke: #383838; stroke-width: 1.0;\"/><ellipse cx=\"261.9085\" cy=\"137.7585\" fill=\"#383838\" rx=\"2\" ry=\"2\" style=\"stroke: #383838; stroke-width: 1.0;\"/><ellipse cx=\"271.8562\" cy=\"138.7797\" fill=\"#383838\" rx=\"2\" ry=\"2\" style=\"stroke: #383838; stroke-width: 1.0;\"/></a><!--MD5=[4de2d328c39b6d65fb95a84ef336270e]\n",
       "link E16 to E9--><a href=\"psysml:cd73bb42-520f-4e04-8240-7f040abbe442\" target=\"_top\" title=\"psysml:cd73bb42-520f-4e04-8240-7f040abbe442\" xlink:actuate=\"onRequest\" xlink:href=\"psysml:cd73bb42-520f-4e04-8240-7f040abbe442\" xlink:show=\"new\" xlink:title=\"psysml:cd73bb42-520f-4e04-8240-7f040abbe442\" xlink:type=\"simple\"><path d=\"M518.34,130.08 C561.91,145.27 618.85,165.12 658.53,178.95 \" fill=\"none\" id=\"E16-&gt;E9\" style=\"stroke: #383838; stroke-width: 1.0;\"/><polygon fill=\"#FFFFFF\" points=\"658.53,178.95,638.2847,179.3067,642.8924,166.0867,658.53,178.95\" style=\"stroke: #383838; stroke-width: 1.0;\"/><ellipse cx=\"633.5605\" cy=\"175.5422\" fill=\"#383838\" rx=\"2\" ry=\"2\" style=\"stroke: #383838; stroke-width: 1.0;\"/><ellipse cx=\"636.8517\" cy=\"166.0993\" fill=\"#383838\" rx=\"2\" ry=\"2\" style=\"stroke: #383838; stroke-width: 1.0;\"/></a><!--MD5=[450e3481f1c83a03a55fcf78b0bbbde6]\n",
       "link E16 to E17--><a href=\"psysml:e29f10bd-d5bc-4797-97ab-a37fb0e5db5b\" target=\"_top\" title=\"psysml:e29f10bd-d5bc-4797-97ab-a37fb0e5db5b\" xlink:actuate=\"onRequest\" xlink:href=\"psysml:e29f10bd-d5bc-4797-97ab-a37fb0e5db5b\" xlink:show=\"new\" xlink:title=\"psysml:e29f10bd-d5bc-4797-97ab-a37fb0e5db5b\" xlink:type=\"simple\"><path d=\"M455,130.08 C455,140.75 455,153.73 455,165.3 \" fill=\"none\" id=\"E16-&gt;E17\" style=\"stroke: #383838; stroke-width: 1.0;\"/><polygon fill=\"#383838\" points=\"455,173.43,458,165.43,452,165.43,455,173.43\" style=\"stroke: #383838; stroke-width: 1.0;\"/><text fill=\"#000000\" font-family=\"sans-serif\" font-size=\"13\" lengthAdjust=\"spacingAndGlyphs\" textLength=\"73\" x=\"456\" y=\"151.0669\">«objective»</text><text fill=\"#000000\" font-family=\"sans-serif\" font-size=\"13\" lengthAdjust=\"spacingAndGlyphs\" textLength=\"7\" x=\"447.0594\" y=\"162.3075\">*</text></a><!--MD5=[842891612ee25671a0324d926bfd815d]\n",
       "@startuml\r\n",
       "skinparam ranksep 10\r\n",
       "skinparam rectangle {\r\n",
       " backgroundColor<<block>> LightGreen\r\n",
       "}\r\n",
       "skinparam linetype polyline\r\n",
       "skinparam monochrome true\r\n",
       "skinparam classbackgroundcolor white\r\n",
       "skinparam shadowing false\r\n",
       "skinparam wrapWidth 300\r\n",
       "hide circle\r\n",
       "\r\n",
       "package \"VerificationTest\" as E1  [[psysml:7303dfcd-df1a-4034-bc74-eb93457ec7c0 ]]  {\r\n",
       "rec def \"V\" as E2  <<(T,blue) part def>> [[psysml:ee2cd088-4b38-485a-bdcf-f034eebaa933 ]] {\r\n",
       "}\r\n",
       "rec usage \"vv: V\" as E3  [[psysml:ea23779d-7b91-41e0-a4d1-5f0745e774d2 ]] {\r\n",
       "}\r\n",
       "comp def \"R\" as E4  <<(T,blue) requirement def>> [[psysml:971e85b9-9957-4674-90a7-be3bf98856c5 ]] {\r\n",
       "...\r\n",
       "- -\r\n",
       "}\r\n",
       "comp usage \"r: R\" as E5  <<(T,blue) requirement>> [[psysml:bbcd2223-85a4-4701-a24f-5592c5712336 ]] {\r\n",
       "}\r\n",
       "rec def \"VerificationCase\" as E6  <<(T,blue) verificationCase def>> [[psysml:f44943ce-87bd-4d2b-91db-f66bd879bf72 ]] {\r\n",
       "portin \"v\" as E7  [[psysml:39e4c68a-7e48-4018-a595-005447bc25d1 ]] \r\n",
       "portout \"verdict\" as E8  [[psysml:e7480a5a-bc03-4bfb-926c-ff77790341ab ]] \r\n",
       "}\r\n",
       "\r\n",
       "rec def \"VerificationPlan\" as E9  <<(T,blue) verificationCase def>> [[psysml:109e665d-9569-4e28-8454-db86a3b7365b ]] {\r\n",
       "portin \"v\" as E10  [[psysml:bc04aa0f-1251-4bd1-9492-821de83ad0f4 ]] \r\n",
       "rec usage \"verificationCase\" as E11  <<(T,blue) verificationCase>> [[psysml:d8eec309-4539-4ef6-b593-f8d5221313a5 ]] {\r\n",
       "portout \"verdict\" as E12  [[psysml:d4b19012-2d8f-412c-81cb-04106ed54ab9 ]] \r\n",
       "portin \"v\" as E13  [[psysml:101691aa-2b16-4439-bb49-3b5a9750b72a ]] \r\n",
       "}\r\n",
       "\r\n",
       "portout \"verdict\" as E14  [[psysml:d1cc474d-a7ae-4245-8f3b-eac2c389ad3d ]] \r\n",
       "}\r\n",
       "\r\n",
       "rec usage \"verificationContext\" as E15  [[psysml:1ba0f1fa-2142-46f9-b759-d2e88bd368a2 ]] {\r\n",
       "comp usage \"verificationPlan: VerificationPlan\" as E16  <<(T,blue) verificationCase>> [[psysml:f139e62b-7bf9-43a0-a382-40038ed35c63 ]] {\r\n",
       "}\r\n",
       "comp usage \"obj\" as E17  <<(T,blue) requirement>> [[psysml:fe640fc2-093c-44fe-a9fd-0ceecb8f463c ]] {\r\n",
       "}\r\n",
       "}\r\n",
       "}\r\n",
       "E5 - -:|> E4 [[psysml:4afeeb28-a204-4e17-a080-31f9a6d380ec ]] \r\n",
       "E16 - -:|> E9 [[psysml:cd73bb42-520f-4e04-8240-7f040abbe442 ]] \r\n",
       "E16 - ->> \"*\"E17 [[psysml:e29f10bd-d5bc-4797-97ab-a37fb0e5db5b ]] : <<objective>>\r\n",
       "@enduml\r\n",
       "\n",
       "PlantUML version 1.2020.13(Sat Jun 13 12:26:38 UTC 2020)\n",
       "(EPL source distribution)\n",
       "Java Runtime: OpenJDK Runtime Environment\n",
       "JVM: OpenJDK 64-Bit Server VM\n",
       "Default Encoding: UTF-8\n",
       "Language: en\n",
       "Country: null\n",
       "--></g></svg>"
      ]
     },
     "execution_count": 12,
     "metadata": {},
     "output_type": "execute_result"
    }
   ],
   "source": [
    "%viz --style=\"POLYLINE\" --view=\"Interconnection\" \"VerificationTest\""
   ]
  },
  {
   "cell_type": "code",
   "execution_count": 13,
   "id": "bd73c5e7",
   "metadata": {
    "execution": {
     "iopub.execute_input": "2021-10-03T08:26:47.551991Z",
     "iopub.status.busy": "2021-10-03T08:26:47.551521Z",
     "iopub.status.idle": "2021-10-03T08:26:47.596828Z",
     "shell.execute_reply": "2021-10-03T08:26:47.596470Z"
    }
   },
   "outputs": [
    {
     "data": {
      "image/svg+xml": [
       "<?xml version=\"1.0\" encoding=\"UTF-8\" standalone=\"no\"?><svg xmlns=\"http://www.w3.org/2000/svg\" xmlns:xlink=\"http://www.w3.org/1999/xlink\" contentScriptType=\"application/ecmascript\" contentStyleType=\"text/css\" height=\"233px\" preserveAspectRatio=\"none\" style=\"width:835px;height:233px;\" version=\"1.1\" viewBox=\"0 0 835 233\" width=\"835px\" zoomAndPan=\"magnify\"><defs/><g><!--MD5=[fbc87193dbaf4d95561dea2c320d4a47]\n",
       "cluster E1--><a href=\"psysml:f44943ce-87bd-4d2b-91db-f66bd879bf72\" target=\"_top\" title=\"psysml:f44943ce-87bd-4d2b-91db-f66bd879bf72\" xlink:actuate=\"onRequest\" xlink:href=\"psysml:f44943ce-87bd-4d2b-91db-f66bd879bf72\" xlink:show=\"new\" xlink:title=\"psysml:f44943ce-87bd-4d2b-91db-f66bd879bf72\" xlink:type=\"simple\"><rect fill=\"#FFFFFF\" height=\"122\" id=\"E1\" style=\"stroke: #383838; stroke-width: 1.5;\" width=\"200\" x=\"7\" y=\"42.0986\"/><rect fill=\"#F8F8F8\" height=\"37.9375\" style=\"stroke: #383838; stroke-width: 1.5;\" width=\"200\" x=\"7\" y=\"42.0986\"/><text fill=\"#000000\" font-family=\"sans-serif\" font-size=\"12\" font-style=\"italic\" lengthAdjust=\"spacingAndGlyphs\" textLength=\"137\" x=\"38.5\" y=\"58.2373\">«verificationCase def»</text><text fill=\"#000000\" font-family=\"sans-serif\" font-size=\"12\" lengthAdjust=\"spacingAndGlyphs\" textLength=\"101\" x=\"56.5\" y=\"72.2061\">VerificationCase</text></a><!--MD5=[f6df4d0ebaf0b5dfb2ced0ae5af7c670]\n",
       "cluster E4--><a href=\"psysml:109e665d-9569-4e28-8454-db86a3b7365b\" target=\"_top\" title=\"psysml:109e665d-9569-4e28-8454-db86a3b7365b\" xlink:actuate=\"onRequest\" xlink:href=\"psysml:109e665d-9569-4e28-8454-db86a3b7365b\" xlink:show=\"new\" xlink:title=\"psysml:109e665d-9569-4e28-8454-db86a3b7365b\" xlink:type=\"simple\"><rect fill=\"#FFFFFF\" height=\"180\" id=\"E4\" style=\"stroke: #383838; stroke-width: 1.5;\" width=\"325\" x=\"297\" y=\"42.0986\"/><rect fill=\"#F8F8F8\" height=\"37.9375\" style=\"stroke: #383838; stroke-width: 1.5;\" width=\"325\" x=\"297\" y=\"42.0986\"/><text fill=\"#000000\" font-family=\"sans-serif\" font-size=\"12\" font-style=\"italic\" lengthAdjust=\"spacingAndGlyphs\" textLength=\"137\" x=\"391\" y=\"58.2373\">«verificationCase def»</text><text fill=\"#000000\" font-family=\"sans-serif\" font-size=\"12\" lengthAdjust=\"spacingAndGlyphs\" textLength=\"97\" x=\"411\" y=\"72.2061\">VerificationPlan</text></a><!--MD5=[14e3b0961a2654348d326746436168a1]\n",
       "cluster E6--><a href=\"psysml:d8eec309-4539-4ef6-b593-f8d5221313a5\" target=\"_top\" title=\"psysml:d8eec309-4539-4ef6-b593-f8d5221313a5\" xlink:actuate=\"onRequest\" xlink:href=\"psysml:d8eec309-4539-4ef6-b593-f8d5221313a5\" xlink:show=\"new\" xlink:title=\"psysml:d8eec309-4539-4ef6-b593-f8d5221313a5\" xlink:type=\"simple\"><rect fill=\"#FFFFFF\" height=\"110.5\" id=\"E6\" rx=\"10\" ry=\"10\" style=\"stroke: #383838; stroke-width: 1.5;\" width=\"174\" x=\"407\" y=\"81.5986\"/><rect fill=\"#F8F8F8\" height=\"37.9375\" rx=\"10\" ry=\"10\" style=\"stroke: #F8F8F8; stroke-width: 1.5;\" width=\"174\" x=\"407\" y=\"81.5986\"/><rect fill=\"#F8F8F8\" height=\"10\" style=\"stroke: #F8F8F8; stroke-width: 1.5;\" width=\"174\" x=\"407\" y=\"109.5361\"/><rect fill=\"none\" height=\"110.5\" id=\"E6\" rx=\"10\" ry=\"10\" style=\"stroke: #383838; stroke-width: 1.5;\" width=\"174\" x=\"407\" y=\"81.5986\"/><text fill=\"#000000\" font-family=\"sans-serif\" font-size=\"12\" font-style=\"italic\" lengthAdjust=\"spacingAndGlyphs\" textLength=\"113\" x=\"437.5\" y=\"97.7373\">«verificationCase»</text><text fill=\"#000000\" font-family=\"sans-serif\" font-size=\"12\" lengthAdjust=\"spacingAndGlyphs\" textLength=\"99\" x=\"444.5\" y=\"111.7061\">verificationCase</text><line style=\"stroke: #383838; stroke-width: 1.0;\" x1=\"407\" x2=\"581\" y1=\"119.5361\" y2=\"119.5361\"/></a><!--MD5=[a84b4591f868c1fa4a211716a82f2f0d]\n",
       "cluster E10--><a href=\"psysml:f139e62b-7bf9-43a0-a382-40038ed35c63\" target=\"_top\" title=\"psysml:f139e62b-7bf9-43a0-a382-40038ed35c63\" xlink:actuate=\"onRequest\" xlink:href=\"psysml:f139e62b-7bf9-43a0-a382-40038ed35c63\" xlink:show=\"new\" xlink:title=\"psysml:f139e62b-7bf9-43a0-a382-40038ed35c63\" xlink:type=\"simple\"><rect fill=\"#FFFFFF\" height=\"122\" id=\"E10\" rx=\"10\" ry=\"10\" style=\"stroke: #383838; stroke-width: 1.5;\" width=\"172\" x=\"651\" y=\"42.0986\"/><rect fill=\"#F8F8F8\" height=\"37.9375\" rx=\"10\" ry=\"10\" style=\"stroke: #F8F8F8; stroke-width: 1.5;\" width=\"172\" x=\"651\" y=\"42.0986\"/><rect fill=\"#F8F8F8\" height=\"10\" style=\"stroke: #F8F8F8; stroke-width: 1.5;\" width=\"172\" x=\"651\" y=\"70.0361\"/><rect fill=\"none\" height=\"122\" id=\"E10\" rx=\"10\" ry=\"10\" style=\"stroke: #383838; stroke-width: 1.5;\" width=\"172\" x=\"651\" y=\"42.0986\"/><text fill=\"#000000\" font-family=\"sans-serif\" font-size=\"12\" font-style=\"italic\" lengthAdjust=\"spacingAndGlyphs\" textLength=\"113\" x=\"680.5\" y=\"58.2373\">«verificationCase»</text><text fill=\"#000000\" font-family=\"sans-serif\" font-size=\"12\" lengthAdjust=\"spacingAndGlyphs\" textLength=\"95\" x=\"689.5\" y=\"72.2061\">verificationPlan</text><line style=\"stroke: #383838; stroke-width: 1.0;\" x1=\"651\" x2=\"823\" y1=\"80.0361\" y2=\"80.0361\"/></a><text fill=\"#000000\" font-family=\"sans-serif\" font-size=\"14\" lengthAdjust=\"spacingAndGlyphs\" textLength=\"7\" x=\"103.5\" y=\"20.7969\">v</text><rect fill=\"#383838\" height=\"12\" style=\"stroke: #F8F8F8; stroke-width: 1.5;\" width=\"12\" x=\"101\" y=\"36.0986\"/><text fill=\"#000000\" font-family=\"sans-serif\" font-size=\"14\" lengthAdjust=\"spacingAndGlyphs\" textLength=\"46\" x=\"84\" y=\"183.0938\">verdict</text><rect fill=\"#383838\" height=\"12\" style=\"stroke: #F8F8F8; stroke-width: 1.5;\" width=\"12\" x=\"101\" y=\"158.0986\"/><text fill=\"#000000\" font-family=\"sans-serif\" font-size=\"14\" lengthAdjust=\"spacingAndGlyphs\" textLength=\"7\" x=\"311.5\" y=\"20.7969\">v</text><rect fill=\"#383838\" height=\"12\" style=\"stroke: #F8F8F8; stroke-width: 1.5;\" width=\"12\" x=\"309\" y=\"36.0986\"/><text fill=\"#000000\" font-family=\"sans-serif\" font-size=\"14\" lengthAdjust=\"spacingAndGlyphs\" textLength=\"46\" x=\"599\" y=\"183.0938\">verdict</text><rect fill=\"#383838\" height=\"12\" style=\"stroke: #F8F8F8; stroke-width: 1.5;\" width=\"12\" x=\"616\" y=\"158.0986\"/><text fill=\"#000000\" font-family=\"sans-serif\" font-size=\"14\" lengthAdjust=\"spacingAndGlyphs\" textLength=\"46\" x=\"471\" y=\"211.0938\">verdict</text><rect fill=\"#383838\" height=\"12\" style=\"stroke: #F8F8F8; stroke-width: 1.5;\" width=\"12\" x=\"488\" y=\"186.0986\"/><text fill=\"#000000\" font-family=\"sans-serif\" font-size=\"14\" lengthAdjust=\"spacingAndGlyphs\" textLength=\"7\" x=\"490.5\" y=\"60.2969\">v</text><rect fill=\"#383838\" height=\"12\" style=\"stroke: #F8F8F8; stroke-width: 1.5;\" width=\"12\" x=\"488\" y=\"75.5986\"/><text fill=\"#000000\" font-family=\"sans-serif\" font-size=\"14\" lengthAdjust=\"spacingAndGlyphs\" textLength=\"7\" x=\"732.5\" y=\"20.7969\">v</text><rect fill=\"#383838\" height=\"12\" style=\"stroke: #F8F8F8; stroke-width: 1.5;\" width=\"12\" x=\"730\" y=\"36.0986\"/><text fill=\"#000000\" font-family=\"sans-serif\" font-size=\"14\" lengthAdjust=\"spacingAndGlyphs\" textLength=\"46\" x=\"646\" y=\"183.0938\">verdict</text><rect fill=\"#383838\" height=\"12\" style=\"stroke: #F8F8F8; stroke-width: 1.5;\" width=\"12\" x=\"663\" y=\"158.0986\"/><!--MD5=[f2aa6919dee910eb448ea8024cfd48ef]\n",
       "@startuml\r\n",
       "skinparam ranksep 8\r\n",
       "skinparam linetype polyline\r\n",
       "skinparam monochrome true\r\n",
       "skinparam classbackgroundcolor white\r\n",
       "skinparam shadowing false\r\n",
       "skinparam wrapWidth 300\r\n",
       "hide circle\r\n",
       "\r\n",
       "rec def \"VerificationCase\" as E1  <<(T,blue) verificationCase def>> [[psysml:f44943ce-87bd-4d2b-91db-f66bd879bf72 ]] {\r\n",
       "portin \"v\" as E2  [[psysml:39e4c68a-7e48-4018-a595-005447bc25d1 ]] \r\n",
       "portout \"verdict\" as E3  [[psysml:e7480a5a-bc03-4bfb-926c-ff77790341ab ]] \r\n",
       "}\r\n",
       "\r\n",
       "rec def \"VerificationPlan\" as E4  <<(T,blue) verificationCase def>> [[psysml:109e665d-9569-4e28-8454-db86a3b7365b ]] {\r\n",
       "portin \"v\" as E5  [[psysml:bc04aa0f-1251-4bd1-9492-821de83ad0f4 ]] \r\n",
       "rec usage \"verificationCase\" as E6  <<(T,blue) verificationCase>> [[psysml:d8eec309-4539-4ef6-b593-f8d5221313a5 ]] {\r\n",
       "portout \"verdict\" as E7  [[psysml:d4b19012-2d8f-412c-81cb-04106ed54ab9 ]] \r\n",
       "portin \"v\" as E8  [[psysml:101691aa-2b16-4439-bb49-3b5a9750b72a ]] \r\n",
       "}\r\n",
       "\r\n",
       "portout \"verdict\" as E9  [[psysml:d1cc474d-a7ae-4245-8f3b-eac2c389ad3d ]] \r\n",
       "}\r\n",
       "\r\n",
       "rec usage \"verificationPlan\" as E10  <<(T,blue) verificationCase>> [[psysml:f139e62b-7bf9-43a0-a382-40038ed35c63 ]] {\r\n",
       "portin \"v\" as E11  [[psysml:e60d74c1-8e27-4253-b6e4-c059af187aab ]] \r\n",
       "portout \"verdict\" as E12  [[psysml:d1cf56c3-055d-4e01-94eb-7c3e50de0a09 ]] \r\n",
       "}\r\n",
       "\r\n",
       "@enduml\r\n",
       "\n",
       "PlantUML version 1.2020.13(Sat Jun 13 12:26:38 UTC 2020)\n",
       "(EPL source distribution)\n",
       "Java Runtime: OpenJDK Runtime Environment\n",
       "JVM: OpenJDK 64-Bit Server VM\n",
       "Default Encoding: UTF-8\n",
       "Language: en\n",
       "Country: null\n",
       "--></g></svg>"
      ]
     },
     "execution_count": 13,
     "metadata": {},
     "output_type": "execute_result"
    }
   ],
   "source": [
    "%viz --style=\"POLYLINE\" --view=\"Action\" \"VerificationTest\""
   ]
  },
  {
   "cell_type": "code",
   "execution_count": 14,
   "id": "73e24e8b",
   "metadata": {
    "execution": {
     "iopub.execute_input": "2021-10-03T08:26:47.646263Z",
     "iopub.status.busy": "2021-10-03T08:26:47.645771Z",
     "iopub.status.idle": "2021-10-03T08:26:47.652436Z",
     "shell.execute_reply": "2021-10-03T08:26:47.652759Z"
    }
   },
   "outputs": [
    {
     "data": {
      "image/svg+xml": [
       "<?xml version=\"1.0\" encoding=\"UTF-8\" standalone=\"no\"?><svg xmlns=\"http://www.w3.org/2000/svg\" xmlns:xlink=\"http://www.w3.org/1999/xlink\" contentScriptType=\"application/ecmascript\" contentStyleType=\"text/css\" height=\"12px\" preserveAspectRatio=\"none\" style=\"width:12px;height:12px;\" version=\"1.1\" viewBox=\"0 0 12 12\" width=\"12px\" zoomAndPan=\"magnify\"><defs/><g><!--MD5=[dc938048236c351797870c36b62f92ad]\n",
       "@startuml\r\n",
       "skinparam roundcorner 20\r\n",
       "skinparam BoxPadding 20\r\n",
       "skinparam SequenceBoxBackgroundColor #white\r\n",
       "skinparam style strictuml\r\n",
       "skinparam maxMessageSize 100\r\n",
       "skinparam linetype polyline\r\n",
       "skinparam monochrome true\r\n",
       "skinparam classbackgroundcolor white\r\n",
       "skinparam shadowing false\r\n",
       "skinparam wrapWidth 300\r\n",
       "hide circle\r\n",
       "\r\n",
       "@enduml\r\n",
       "\n",
       "PlantUML version 1.2020.13(Sat Jun 13 12:26:38 UTC 2020)\n",
       "(EPL source distribution)\n",
       "Java Runtime: OpenJDK Runtime Environment\n",
       "JVM: OpenJDK 64-Bit Server VM\n",
       "Default Encoding: UTF-8\n",
       "Language: en\n",
       "Country: null\n",
       "--></g></svg>"
      ]
     },
     "execution_count": 14,
     "metadata": {},
     "output_type": "execute_result"
    }
   ],
   "source": [
    "%viz --style=\"POLYLINE\" --view=\"Sequence\" \"VerificationTest\""
   ]
  },
  {
   "cell_type": "code",
   "execution_count": 15,
   "id": "920e84f6",
   "metadata": {
    "execution": {
     "iopub.execute_input": "2021-10-03T08:26:47.702283Z",
     "iopub.status.busy": "2021-10-03T08:26:47.701872Z",
     "iopub.status.idle": "2021-10-03T08:26:47.766962Z",
     "shell.execute_reply": "2021-10-03T08:26:47.766617Z"
    }
   },
   "outputs": [
    {
     "data": {
      "image/svg+xml": [
       "<?xml version=\"1.0\" encoding=\"UTF-8\" standalone=\"no\"?><svg xmlns=\"http://www.w3.org/2000/svg\" xmlns:xlink=\"http://www.w3.org/1999/xlink\" contentScriptType=\"application/ecmascript\" contentStyleType=\"text/css\" height=\"628px\" preserveAspectRatio=\"none\" style=\"width:1172px;height:628px;\" version=\"1.1\" viewBox=\"0 0 1172 628\" width=\"1172px\" zoomAndPan=\"magnify\"><defs/><g><!--MD5=[fbc87193dbaf4d95561dea2c320d4a47]\n",
       "cluster E1--><a href=\"psysml:7303dfcd-df1a-4034-bc74-eb93457ec7c0\" target=\"_top\" title=\"psysml:7303dfcd-df1a-4034-bc74-eb93457ec7c0\" xlink:actuate=\"onRequest\" xlink:href=\"psysml:7303dfcd-df1a-4034-bc74-eb93457ec7c0\" xlink:show=\"new\" xlink:title=\"psysml:7303dfcd-df1a-4034-bc74-eb93457ec7c0\" xlink:type=\"simple\"><polygon fill=\"#FFFFFF\" points=\"16,6,128,6,135,28.2969,1150,28.2969,1150,616,16,616,16,6\" style=\"stroke: #000000; stroke-width: 1.5;\"/><line style=\"stroke: #000000; stroke-width: 1.5;\" x1=\"16\" x2=\"135\" y1=\"28.2969\" y2=\"28.2969\"/><text fill=\"#000000\" font-family=\"sans-serif\" font-size=\"14\" font-weight=\"bold\" lengthAdjust=\"spacingAndGlyphs\" textLength=\"106\" x=\"20\" y=\"20.9951\">VerificationTest</text></a><!--MD5=[14e3b0961a2654348d326746436168a1]\n",
       "cluster E6--><a href=\"psysml:f44943ce-87bd-4d2b-91db-f66bd879bf72\" target=\"_top\" title=\"psysml:f44943ce-87bd-4d2b-91db-f66bd879bf72\" xlink:actuate=\"onRequest\" xlink:href=\"psysml:f44943ce-87bd-4d2b-91db-f66bd879bf72\" xlink:show=\"new\" xlink:title=\"psysml:f44943ce-87bd-4d2b-91db-f66bd879bf72\" xlink:type=\"simple\"><rect fill=\"#FFFFFF\" height=\"310\" id=\"E6\" style=\"stroke: #383838; stroke-width: 1.5;\" width=\"200\" x=\"934\" y=\"64\"/><rect fill=\"#F8F8F8\" height=\"37.9375\" style=\"stroke: #383838; stroke-width: 1.5;\" width=\"200\" x=\"934\" y=\"64\"/><text fill=\"#000000\" font-family=\"sans-serif\" font-size=\"12\" font-style=\"italic\" lengthAdjust=\"spacingAndGlyphs\" textLength=\"137\" x=\"965.5\" y=\"80.1387\">«verificationCase def»</text><text fill=\"#000000\" font-family=\"sans-serif\" font-size=\"12\" lengthAdjust=\"spacingAndGlyphs\" textLength=\"101\" x=\"983.5\" y=\"94.1074\">VerificationCase</text></a><!--MD5=[7f149f147074ac12df2cb0a7728a5fb0]\n",
       "cluster E9--><a href=\"psysml:109e665d-9569-4e28-8454-db86a3b7365b\" target=\"_top\" title=\"psysml:109e665d-9569-4e28-8454-db86a3b7365b\" xlink:actuate=\"onRequest\" xlink:href=\"psysml:109e665d-9569-4e28-8454-db86a3b7365b\" xlink:show=\"new\" xlink:title=\"psysml:109e665d-9569-4e28-8454-db86a3b7365b\" xlink:type=\"simple\"><rect fill=\"#FFFFFF\" height=\"410.5\" id=\"E9\" style=\"stroke: #383838; stroke-width: 1.5;\" width=\"322\" x=\"344\" y=\"181.5\"/><rect fill=\"#F8F8F8\" height=\"37.9375\" style=\"stroke: #383838; stroke-width: 1.5;\" width=\"322\" x=\"344\" y=\"181.5\"/><text fill=\"#000000\" font-family=\"sans-serif\" font-size=\"12\" font-style=\"italic\" lengthAdjust=\"spacingAndGlyphs\" textLength=\"137\" x=\"436.5\" y=\"197.6387\">«verificationCase def»</text><text fill=\"#000000\" font-family=\"sans-serif\" font-size=\"12\" lengthAdjust=\"spacingAndGlyphs\" textLength=\"97\" x=\"456.5\" y=\"211.6074\">VerificationPlan</text></a><!--MD5=[917b9dd0c7eca3ee5f47219d1a84c0ad]\n",
       "cluster E11--><a href=\"psysml:d8eec309-4539-4ef6-b593-f8d5221313a5\" target=\"_top\" title=\"psysml:d8eec309-4539-4ef6-b593-f8d5221313a5\" xlink:actuate=\"onRequest\" xlink:href=\"psysml:d8eec309-4539-4ef6-b593-f8d5221313a5\" xlink:show=\"new\" xlink:title=\"psysml:d8eec309-4539-4ef6-b593-f8d5221313a5\" xlink:type=\"simple\"><rect fill=\"#FFFFFF\" height=\"239\" id=\"E11\" rx=\"10\" ry=\"10\" style=\"stroke: #383838; stroke-width: 1.5;\" width=\"174\" x=\"454\" y=\"315\"/><rect fill=\"#F8F8F8\" height=\"37.9375\" rx=\"10\" ry=\"10\" style=\"stroke: #F8F8F8; stroke-width: 1.5;\" width=\"174\" x=\"454\" y=\"315\"/><rect fill=\"#F8F8F8\" height=\"10\" style=\"stroke: #F8F8F8; stroke-width: 1.5;\" width=\"174\" x=\"454\" y=\"342.9375\"/><rect fill=\"none\" height=\"239\" id=\"E11\" rx=\"10\" ry=\"10\" style=\"stroke: #383838; stroke-width: 1.5;\" width=\"174\" x=\"454\" y=\"315\"/><text fill=\"#000000\" font-family=\"sans-serif\" font-size=\"12\" font-style=\"italic\" lengthAdjust=\"spacingAndGlyphs\" textLength=\"113\" x=\"484.5\" y=\"331.1387\">«verificationCase»</text><text fill=\"#000000\" font-family=\"sans-serif\" font-size=\"12\" lengthAdjust=\"spacingAndGlyphs\" textLength=\"99\" x=\"491.5\" y=\"345.1074\">verificationCase</text><line style=\"stroke: #383838; stroke-width: 1.0;\" x1=\"454\" x2=\"628\" y1=\"352.9375\" y2=\"352.9375\"/></a><!--MD5=[b4997ac47864f28c2f74865a473b2911]\n",
       "class E2--><a href=\"psysml:ee2cd088-4b38-485a-bdcf-f034eebaa933\" target=\"_top\" title=\"psysml:ee2cd088-4b38-485a-bdcf-f034eebaa933\" xlink:actuate=\"onRequest\" xlink:href=\"psysml:ee2cd088-4b38-485a-bdcf-f034eebaa933\" xlink:show=\"new\" xlink:title=\"psysml:ee2cd088-4b38-485a-bdcf-f034eebaa933\" xlink:type=\"simple\"><rect fill=\"#FFFFFF\" height=\"45.9375\" id=\"E2\" style=\"stroke: #383838; stroke-width: 1.5;\" width=\"66\" x=\"849\" y=\"158.5\"/><text fill=\"#000000\" font-family=\"sans-serif\" font-size=\"12\" font-style=\"italic\" lengthAdjust=\"spacingAndGlyphs\" textLength=\"64\" x=\"850\" y=\"174.6387\">«part def»</text><text fill=\"#000000\" font-family=\"sans-serif\" font-size=\"12\" lengthAdjust=\"spacingAndGlyphs\" textLength=\"8\" x=\"878\" y=\"188.6074\">V</text><line style=\"stroke: #383838; stroke-width: 1.5;\" x1=\"850\" x2=\"914\" y1=\"196.4375\" y2=\"196.4375\"/></a><!--MD5=[09b614a08d8cba4a07c9adeb5e0fee81]\n",
       "class E3--><a href=\"psysml:ea23779d-7b91-41e0-a4d1-5f0745e774d2\" target=\"_top\" title=\"psysml:ea23779d-7b91-41e0-a4d1-5f0745e774d2\" xlink:actuate=\"onRequest\" xlink:href=\"psysml:ea23779d-7b91-41e0-a4d1-5f0745e774d2\" xlink:show=\"new\" xlink:title=\"psysml:ea23779d-7b91-41e0-a4d1-5f0745e774d2\" xlink:type=\"simple\"><rect fill=\"#FFFFFF\" height=\"45.9375\" id=\"E3\" rx=\"10\" ry=\"10\" style=\"stroke: #383838; stroke-width: 1.5;\" width=\"42\" x=\"861\" y=\"41\"/><text fill=\"#000000\" font-family=\"sans-serif\" font-size=\"12\" font-style=\"italic\" lengthAdjust=\"spacingAndGlyphs\" textLength=\"40\" x=\"862\" y=\"57.1387\">«part»</text><text fill=\"#000000\" font-family=\"sans-serif\" font-size=\"12\" lengthAdjust=\"spacingAndGlyphs\" textLength=\"28\" x=\"868\" y=\"71.1074\">vv: V</text><line style=\"stroke: #383838; stroke-width: 1.5;\" x1=\"862\" x2=\"902\" y1=\"78.9375\" y2=\"78.9375\"/></a><!--MD5=[ebbe1d658d1005bcc118a6aa81145e00]\n",
       "class E4--><a href=\"psysml:971e85b9-9957-4674-90a7-be3bf98856c5\" target=\"_top\" title=\"psysml:971e85b9-9957-4674-90a7-be3bf98856c5\" xlink:actuate=\"onRequest\" xlink:href=\"psysml:971e85b9-9957-4674-90a7-be3bf98856c5\" xlink:show=\"new\" xlink:title=\"psysml:971e85b9-9957-4674-90a7-be3bf98856c5\" xlink:type=\"simple\"><rect fill=\"#FFFFFF\" height=\"66.7422\" id=\"E4\" style=\"stroke: #383838; stroke-width: 1.5;\" width=\"117\" x=\"696.5\" y=\"148\"/><text fill=\"#000000\" font-family=\"sans-serif\" font-size=\"12\" font-style=\"italic\" lengthAdjust=\"spacingAndGlyphs\" textLength=\"115\" x=\"697.5\" y=\"164.1387\">«requirement def»</text><text fill=\"#000000\" font-family=\"sans-serif\" font-size=\"12\" lengthAdjust=\"spacingAndGlyphs\" textLength=\"8\" x=\"751\" y=\"178.1074\">R</text><line style=\"stroke: #383838; stroke-width: 1.5;\" x1=\"697.5\" x2=\"812.5\" y1=\"185.9375\" y2=\"185.9375\"/><text fill=\"#000000\" font-family=\"sans-serif\" font-size=\"11\" lengthAdjust=\"spacingAndGlyphs\" textLength=\"12\" x=\"702.5\" y=\"200.1479\">...</text><line style=\"stroke: #383838; stroke-width: 1.0;\" x1=\"697.5\" x2=\"812.5\" y1=\"206.7422\" y2=\"206.7422\"/></a><!--MD5=[270fce915f116d4de14055a7c1d9a0f3]\n",
       "class E5--><a href=\"psysml:bbcd2223-85a4-4701-a24f-5592c5712336\" target=\"_top\" title=\"psysml:bbcd2223-85a4-4701-a24f-5592c5712336\" xlink:actuate=\"onRequest\" xlink:href=\"psysml:bbcd2223-85a4-4701-a24f-5592c5712336\" xlink:show=\"new\" xlink:title=\"psysml:bbcd2223-85a4-4701-a24f-5592c5712336\" xlink:type=\"simple\"><rect fill=\"#FFFFFF\" height=\"45.9375\" id=\"E5\" rx=\"10\" ry=\"10\" style=\"stroke: #383838; stroke-width: 1.5;\" width=\"93\" x=\"708.5\" y=\"41\"/><text fill=\"#000000\" font-family=\"sans-serif\" font-size=\"12\" font-style=\"italic\" lengthAdjust=\"spacingAndGlyphs\" textLength=\"91\" x=\"709.5\" y=\"57.1387\">«requirement»</text><text fill=\"#000000\" font-family=\"sans-serif\" font-size=\"12\" lengthAdjust=\"spacingAndGlyphs\" textLength=\"21\" x=\"744.5\" y=\"71.1074\">r: R</text><line style=\"stroke: #383838; stroke-width: 1.5;\" x1=\"709.5\" x2=\"800.5\" y1=\"78.9375\" y2=\"78.9375\"/></a><!--MD5=[0c48fb7552dae8cbbef69381101a84c8]\n",
       "class E15--><a href=\"psysml:1ba0f1fa-2142-46f9-b759-d2e88bd368a2\" target=\"_top\" title=\"psysml:1ba0f1fa-2142-46f9-b759-d2e88bd368a2\" xlink:actuate=\"onRequest\" xlink:href=\"psysml:1ba0f1fa-2142-46f9-b759-d2e88bd368a2\" xlink:show=\"new\" xlink:title=\"psysml:1ba0f1fa-2142-46f9-b759-d2e88bd368a2\" xlink:type=\"simple\"><rect fill=\"#FFFFFF\" height=\"45.9375\" id=\"E15\" rx=\"10\" ry=\"10\" style=\"stroke: #383838; stroke-width: 1.5;\" width=\"122\" x=\"74\" y=\"41\"/><text fill=\"#000000\" font-family=\"sans-serif\" font-size=\"12\" font-style=\"italic\" lengthAdjust=\"spacingAndGlyphs\" textLength=\"40\" x=\"115\" y=\"57.1387\">«part»</text><text fill=\"#000000\" font-family=\"sans-serif\" font-size=\"12\" lengthAdjust=\"spacingAndGlyphs\" textLength=\"116\" x=\"77\" y=\"71.1074\">verificationContext</text><line style=\"stroke: #383838; stroke-width: 1.5;\" x1=\"75\" x2=\"195\" y1=\"78.9375\" y2=\"78.9375\"/></a><!--MD5=[35f0587eaee8d5bb9a02e25b63afc23b]\n",
       "class E16--><a href=\"psysml:f139e62b-7bf9-43a0-a382-40038ed35c63\" target=\"_top\" title=\"psysml:f139e62b-7bf9-43a0-a382-40038ed35c63\" xlink:actuate=\"onRequest\" xlink:href=\"psysml:f139e62b-7bf9-43a0-a382-40038ed35c63\" xlink:show=\"new\" xlink:title=\"psysml:f139e62b-7bf9-43a0-a382-40038ed35c63\" xlink:type=\"simple\"><rect fill=\"#FFFFFF\" height=\"45.9375\" id=\"E16\" rx=\"10\" ry=\"10\" style=\"stroke: #383838; stroke-width: 1.5;\" width=\"206\" x=\"32\" y=\"158.5\"/><text fill=\"#000000\" font-family=\"sans-serif\" font-size=\"12\" font-style=\"italic\" lengthAdjust=\"spacingAndGlyphs\" textLength=\"113\" x=\"78.5\" y=\"174.6387\">«verificationCase»</text><text fill=\"#000000\" font-family=\"sans-serif\" font-size=\"12\" lengthAdjust=\"spacingAndGlyphs\" textLength=\"200\" x=\"35\" y=\"188.6074\">verificationPlan: VerificationPlan</text><line style=\"stroke: #383838; stroke-width: 1.5;\" x1=\"33\" x2=\"237\" y1=\"196.4375\" y2=\"196.4375\"/></a><!--MD5=[60e55a4a9b2f0dc0a36787c5a2095786]\n",
       "class E17--><a href=\"psysml:fe640fc2-093c-44fe-a9fd-0ceecb8f463c\" target=\"_top\" title=\"psysml:fe640fc2-093c-44fe-a9fd-0ceecb8f463c\" xlink:actuate=\"onRequest\" xlink:href=\"psysml:fe640fc2-093c-44fe-a9fd-0ceecb8f463c\" xlink:show=\"new\" xlink:title=\"psysml:fe640fc2-093c-44fe-a9fd-0ceecb8f463c\" xlink:type=\"simple\"><rect fill=\"#FFFFFF\" height=\"45.9375\" id=\"E17\" rx=\"10\" ry=\"10\" style=\"stroke: #383838; stroke-width: 1.5;\" width=\"93\" x=\"88.5\" y=\"292\"/><text fill=\"#000000\" font-family=\"sans-serif\" font-size=\"12\" font-style=\"italic\" lengthAdjust=\"spacingAndGlyphs\" textLength=\"91\" x=\"89.5\" y=\"308.1387\">«requirement»</text><text fill=\"#000000\" font-family=\"sans-serif\" font-size=\"12\" lengthAdjust=\"spacingAndGlyphs\" textLength=\"19\" x=\"125.5\" y=\"322.1074\">obj</text><line style=\"stroke: #383838; stroke-width: 1.5;\" x1=\"89.5\" x2=\"180.5\" y1=\"329.9375\" y2=\"329.9375\"/></a><text fill=\"#000000\" font-family=\"sans-serif\" font-size=\"14\" lengthAdjust=\"spacingAndGlyphs\" textLength=\"7\" x=\"1030.5\" y=\"42.6982\">v</text><rect fill=\"#383838\" height=\"12\" style=\"stroke: #F8F8F8; stroke-width: 1.5;\" width=\"12\" x=\"1028\" y=\"58\"/><text fill=\"#000000\" font-family=\"sans-serif\" font-size=\"14\" lengthAdjust=\"spacingAndGlyphs\" textLength=\"46\" x=\"1011\" y=\"392.9951\">verdict</text><rect fill=\"#383838\" height=\"12\" style=\"stroke: #F8F8F8; stroke-width: 1.5;\" width=\"12\" x=\"1028\" y=\"368\"/><text fill=\"#000000\" font-family=\"sans-serif\" font-size=\"14\" lengthAdjust=\"spacingAndGlyphs\" textLength=\"7\" x=\"358.5\" y=\"160.1982\">v</text><rect fill=\"#383838\" height=\"12\" style=\"stroke: #F8F8F8; stroke-width: 1.5;\" width=\"12\" x=\"356\" y=\"175.5\"/><text fill=\"#000000\" font-family=\"sans-serif\" font-size=\"14\" lengthAdjust=\"spacingAndGlyphs\" textLength=\"46\" x=\"643\" y=\"499.9951\">verdict</text><rect fill=\"#383838\" height=\"12\" style=\"stroke: #F8F8F8; stroke-width: 1.5;\" width=\"12\" x=\"660\" y=\"475\"/><text fill=\"#000000\" font-family=\"sans-serif\" font-size=\"14\" lengthAdjust=\"spacingAndGlyphs\" textLength=\"46\" x=\"518\" y=\"572.9951\">verdict</text><rect fill=\"#383838\" height=\"12\" style=\"stroke: #F8F8F8; stroke-width: 1.5;\" width=\"12\" x=\"535\" y=\"548\"/><text fill=\"#000000\" font-family=\"sans-serif\" font-size=\"14\" lengthAdjust=\"spacingAndGlyphs\" textLength=\"7\" x=\"537.5\" y=\"293.6982\">v</text><rect fill=\"#383838\" height=\"12\" style=\"stroke: #F8F8F8; stroke-width: 1.5;\" width=\"12\" x=\"535\" y=\"309\"/><!--MD5=[05d275557350bfb9b23a4ef7222b4c39]\n",
       "link E3 to E2--><a href=\"psysml:2b222a15-a90b-432a-993d-d339516ea993\" target=\"_top\" title=\"psysml:2b222a15-a90b-432a-993d-d339516ea993\" xlink:actuate=\"onRequest\" xlink:href=\"psysml:2b222a15-a90b-432a-993d-d339516ea993\" xlink:show=\"new\" xlink:title=\"psysml:2b222a15-a90b-432a-993d-d339516ea993\" xlink:type=\"simple\"><path d=\"M882,87.27 C882,101.65 882,120.82 882,138.04 \" fill=\"none\" id=\"E3-&gt;E2\" style=\"stroke: #383838; stroke-width: 1.0;\"/><polygon fill=\"#FFFFFF\" points=\"882,158.3,875,139.3,889,139.3,882,158.3\" style=\"stroke: #383838; stroke-width: 1.0;\"/><ellipse cx=\"877\" cy=\"133.6\" fill=\"#383838\" rx=\"2\" ry=\"2\" style=\"stroke: #383838; stroke-width: 1.0;\"/><ellipse cx=\"887\" cy=\"133.6\" fill=\"#383838\" rx=\"2\" ry=\"2\" style=\"stroke: #383838; stroke-width: 1.0;\"/></a><!--MD5=[1c62de2aa5b76f0fb657ff8443a1a700]\n",
       "link E5 to E4--><a href=\"psysml:4afeeb28-a204-4e17-a080-31f9a6d380ec\" target=\"_top\" title=\"psysml:4afeeb28-a204-4e17-a080-31f9a6d380ec\" xlink:actuate=\"onRequest\" xlink:href=\"psysml:4afeeb28-a204-4e17-a080-31f9a6d380ec\" xlink:show=\"new\" xlink:title=\"psysml:4afeeb28-a204-4e17-a080-31f9a6d380ec\" xlink:type=\"simple\"><path d=\"M755,87.27 C755,98.81 755,113.43 755,127.66 \" fill=\"none\" id=\"E5-&gt;E4\" style=\"stroke: #383838; stroke-width: 1.0;\"/><polygon fill=\"#FFFFFF\" points=\"755,147.81,748,128.81,762,128.81,755,147.81\" style=\"stroke: #383838; stroke-width: 1.0;\"/><ellipse cx=\"750\" cy=\"123.11\" fill=\"#383838\" rx=\"2\" ry=\"2\" style=\"stroke: #383838; stroke-width: 1.0;\"/><ellipse cx=\"760\" cy=\"123.11\" fill=\"#383838\" rx=\"2\" ry=\"2\" style=\"stroke: #383838; stroke-width: 1.0;\"/></a><!--MD5=[58e4cf537c4d67f6b3da95fd5b934e63]\n",
       "reverse link E15 to E16--><a href=\"psysml:4d9ca163-dfe0-49d5-81cb-3058dc3dad3f\" target=\"_top\" title=\"psysml:4d9ca163-dfe0-49d5-81cb-3058dc3dad3f\" xlink:actuate=\"onRequest\" xlink:href=\"psysml:4d9ca163-dfe0-49d5-81cb-3058dc3dad3f\" xlink:show=\"new\" xlink:title=\"psysml:4d9ca163-dfe0-49d5-81cb-3058dc3dad3f\" xlink:type=\"simple\"><path d=\"M135,100.49 C135,119.35 135,141.94 135,158.3 \" fill=\"none\" id=\"E15&lt;-E16\" style=\"stroke: #383838; stroke-width: 1.0;\"/><polygon fill=\"#383838\" points=\"135,87.27,131,93.27,135,99.27,139,93.27,135,87.27\" style=\"stroke: #383838; stroke-width: 1.0;\"/></a><!--MD5=[4de2d328c39b6d65fb95a84ef336270e]\n",
       "link E16 to E9--><a href=\"psysml:cd73bb42-520f-4e04-8240-7f040abbe442\" target=\"_top\" title=\"psysml:cd73bb42-520f-4e04-8240-7f040abbe442\" xlink:actuate=\"onRequest\" xlink:href=\"psysml:cd73bb42-520f-4e04-8240-7f040abbe442\" xlink:show=\"new\" xlink:title=\"psysml:cd73bb42-520f-4e04-8240-7f040abbe442\" xlink:type=\"simple\"><path d=\"M172.99,204.51 C218.18,230.69 292.58,273.79 333.25,297.35 \" fill=\"none\" id=\"E16-&gt;E9\" style=\"stroke: #383838; stroke-width: 1.0;\"/><polygon fill=\"#FFFFFF\" points=\"333.25,297.35,313.3006,293.8831,320.3182,281.7689,333.25,297.35\" style=\"stroke: #383838; stroke-width: 1.0;\"/><ellipse cx=\"309.3709\" cy=\"289.2953\" fill=\"#383838\" rx=\"2\" ry=\"2\" style=\"stroke: #383838; stroke-width: 1.0;\"/><ellipse cx=\"314.3835\" cy=\"280.6423\" fill=\"#383838\" rx=\"2\" ry=\"2\" style=\"stroke: #383838; stroke-width: 1.0;\"/></a><!--MD5=[450e3481f1c83a03a55fcf78b0bbbde6]\n",
       "link E16 to E17--><a href=\"psysml:e29f10bd-d5bc-4797-97ab-a37fb0e5db5b\" target=\"_top\" title=\"psysml:e29f10bd-d5bc-4797-97ab-a37fb0e5db5b\" xlink:actuate=\"onRequest\" xlink:href=\"psysml:e29f10bd-d5bc-4797-97ab-a37fb0e5db5b\" xlink:show=\"new\" xlink:title=\"psysml:e29f10bd-d5bc-4797-97ab-a37fb0e5db5b\" xlink:type=\"simple\"><path d=\"M135,204.51 C135,226.22 135,259.59 135,283.78 \" fill=\"none\" id=\"E16-&gt;E17\" style=\"stroke: #383838; stroke-width: 1.0;\"/><polygon fill=\"#383838\" points=\"135,291.92,138,283.92,132,283.92,135,291.92\" style=\"stroke: #383838; stroke-width: 1.0;\"/><text fill=\"#000000\" font-family=\"sans-serif\" font-size=\"13\" lengthAdjust=\"spacingAndGlyphs\" textLength=\"73\" x=\"136\" y=\"258.0669\">«objective»</text><text fill=\"#000000\" font-family=\"sans-serif\" font-size=\"13\" lengthAdjust=\"spacingAndGlyphs\" textLength=\"7\" x=\"127.0594\" y=\"280.7948\">*</text></a><!--MD5=[6a0a3e86eb6bde2759a2abbd81f44421]\n",
       "@startuml\r\n",
       "skinparam linetype polyline\r\n",
       "skinparam monochrome true\r\n",
       "skinparam classbackgroundcolor white\r\n",
       "skinparam shadowing false\r\n",
       "skinparam wrapWidth 300\r\n",
       "hide circle\r\n",
       "\r\n",
       "package \"VerificationTest\" as E1  [[psysml:7303dfcd-df1a-4034-bc74-eb93457ec7c0 ]]  {\r\n",
       "comp def \"V\" as E2  <<(T,blue) part def>> [[psysml:ee2cd088-4b38-485a-bdcf-f034eebaa933 ]] {\r\n",
       "}\r\n",
       "comp usage \"vv: V\" as E3  <<(T,blue) part>> [[psysml:ea23779d-7b91-41e0-a4d1-5f0745e774d2 ]] {\r\n",
       "}\r\n",
       "comp def \"R\" as E4  <<(T,blue) requirement def>> [[psysml:971e85b9-9957-4674-90a7-be3bf98856c5 ]] {\r\n",
       "...\r\n",
       "- -\r\n",
       "}\r\n",
       "comp usage \"r: R\" as E5  <<(T,blue) requirement>> [[psysml:bbcd2223-85a4-4701-a24f-5592c5712336 ]] {\r\n",
       "}\r\n",
       "rec def \"VerificationCase\" as E6  <<(T,blue) verificationCase def>> [[psysml:f44943ce-87bd-4d2b-91db-f66bd879bf72 ]] {\r\n",
       "portin \"v\" as E7  [[psysml:39e4c68a-7e48-4018-a595-005447bc25d1 ]] \r\n",
       "portout \"verdict\" as E8  [[psysml:e7480a5a-bc03-4bfb-926c-ff77790341ab ]] \r\n",
       "}\r\n",
       "\r\n",
       "rec def \"VerificationPlan\" as E9  <<(T,blue) verificationCase def>> [[psysml:109e665d-9569-4e28-8454-db86a3b7365b ]] {\r\n",
       "portin \"v\" as E10  [[psysml:bc04aa0f-1251-4bd1-9492-821de83ad0f4 ]] \r\n",
       "rec usage \"verificationCase\" as E11  <<(T,blue) verificationCase>> [[psysml:d8eec309-4539-4ef6-b593-f8d5221313a5 ]] {\r\n",
       "portout \"verdict\" as E12  [[psysml:d4b19012-2d8f-412c-81cb-04106ed54ab9 ]] \r\n",
       "portin \"v\" as E13  [[psysml:101691aa-2b16-4439-bb49-3b5a9750b72a ]] \r\n",
       "}\r\n",
       "\r\n",
       "portout \"verdict\" as E14  [[psysml:d1cc474d-a7ae-4245-8f3b-eac2c389ad3d ]] \r\n",
       "}\r\n",
       "\r\n",
       "comp usage \"verificationContext\" as E15  <<(T,blue) part>> [[psysml:1ba0f1fa-2142-46f9-b759-d2e88bd368a2 ]] {\r\n",
       "}\r\n",
       "comp usage \"verificationPlan: VerificationPlan\" as E16  <<(T,blue) verificationCase>> [[psysml:f139e62b-7bf9-43a0-a382-40038ed35c63 ]] {\r\n",
       "}\r\n",
       "comp usage \"obj\" as E17  <<(T,blue) requirement>> [[psysml:fe640fc2-093c-44fe-a9fd-0ceecb8f463c ]] {\r\n",
       "}\r\n",
       "}\r\n",
       "E3 - -:|> E2 [[psysml:2b222a15-a90b-432a-993d-d339516ea993 ]] \r\n",
       "E5 - -:|> E4 [[psysml:4afeeb28-a204-4e17-a080-31f9a6d380ec ]] \r\n",
       "E15 *- - E16 [[psysml:4d9ca163-dfe0-49d5-81cb-3058dc3dad3f ]] \r\n",
       "E16 - -:|> E9 [[psysml:cd73bb42-520f-4e04-8240-7f040abbe442 ]] \r\n",
       "E16 - ->> \"*\"E17 [[psysml:e29f10bd-d5bc-4797-97ab-a37fb0e5db5b ]] : <<objective>>\r\n",
       "@enduml\r\n",
       "\n",
       "PlantUML version 1.2020.13(Sat Jun 13 12:26:38 UTC 2020)\n",
       "(EPL source distribution)\n",
       "Java Runtime: OpenJDK Runtime Environment\n",
       "JVM: OpenJDK 64-Bit Server VM\n",
       "Default Encoding: UTF-8\n",
       "Language: en\n",
       "Country: null\n",
       "--></g></svg>"
      ]
     },
     "execution_count": 15,
     "metadata": {},
     "output_type": "execute_result"
    }
   ],
   "source": [
    "%viz --style=\"POLYLINE\" --view=\"MIXED\" \"VerificationTest\""
   ]
  },
  {
   "cell_type": "code",
   "execution_count": 16,
   "id": "e32a0f25",
   "metadata": {
    "execution": {
     "iopub.execute_input": "2021-10-03T08:26:47.816795Z",
     "iopub.status.busy": "2021-10-03T08:26:47.816361Z",
     "iopub.status.idle": "2021-10-03T08:26:47.881503Z",
     "shell.execute_reply": "2021-10-03T08:26:47.881130Z"
    }
   },
   "outputs": [
    {
     "data": {
      "image/svg+xml": [
       "<?xml version=\"1.0\" encoding=\"UTF-8\" standalone=\"no\"?><svg xmlns=\"http://www.w3.org/2000/svg\" xmlns:xlink=\"http://www.w3.org/1999/xlink\" contentScriptType=\"application/ecmascript\" contentStyleType=\"text/css\" height=\"577px\" preserveAspectRatio=\"none\" style=\"width:1131px;height:577px;\" version=\"1.1\" viewBox=\"0 0 1131 577\" width=\"1131px\" zoomAndPan=\"magnify\"><defs/><g><!--MD5=[fbc87193dbaf4d95561dea2c320d4a47]\n",
       "cluster E1--><a href=\"psysml:7303dfcd-df1a-4034-bc74-eb93457ec7c0\" target=\"_top\" title=\"psysml:7303dfcd-df1a-4034-bc74-eb93457ec7c0\" xlink:actuate=\"onRequest\" xlink:href=\"psysml:7303dfcd-df1a-4034-bc74-eb93457ec7c0\" xlink:show=\"new\" xlink:title=\"psysml:7303dfcd-df1a-4034-bc74-eb93457ec7c0\" xlink:type=\"simple\"><polygon fill=\"#FFFFFF\" points=\"16,6,128,6,135,28.2969,1109,28.2969,1109,565,16,565,16,6\" style=\"stroke: #000000; stroke-width: 1.5;\"/><line style=\"stroke: #000000; stroke-width: 1.5;\" x1=\"16\" x2=\"135\" y1=\"28.2969\" y2=\"28.2969\"/><text fill=\"#000000\" font-family=\"sans-serif\" font-size=\"14\" font-weight=\"bold\" lengthAdjust=\"spacingAndGlyphs\" textLength=\"106\" x=\"20\" y=\"20.9951\">VerificationTest</text></a><!--MD5=[14e3b0961a2654348d326746436168a1]\n",
       "cluster E6--><a href=\"psysml:f44943ce-87bd-4d2b-91db-f66bd879bf72\" target=\"_top\" title=\"psysml:f44943ce-87bd-4d2b-91db-f66bd879bf72\" xlink:actuate=\"onRequest\" xlink:href=\"psysml:f44943ce-87bd-4d2b-91db-f66bd879bf72\" xlink:show=\"new\" xlink:title=\"psysml:f44943ce-87bd-4d2b-91db-f66bd879bf72\" xlink:type=\"simple\"><rect fill=\"#FFFFFF\" height=\"68\" id=\"E6\" style=\"stroke: #383838; stroke-width: 1.5;\" width=\"667\" x=\"93\" y=\"41\"/><rect fill=\"#F8F8F8\" height=\"37.9375\" style=\"stroke: #383838; stroke-width: 1.5;\" width=\"667\" x=\"93\" y=\"41\"/><text fill=\"#000000\" font-family=\"sans-serif\" font-size=\"12\" font-style=\"italic\" lengthAdjust=\"spacingAndGlyphs\" textLength=\"137\" x=\"358\" y=\"57.1387\">«verificationCase def»</text><text fill=\"#000000\" font-family=\"sans-serif\" font-size=\"12\" lengthAdjust=\"spacingAndGlyphs\" textLength=\"101\" x=\"376\" y=\"71.1074\">VerificationCase</text></a><!--MD5=[7f149f147074ac12df2cb0a7728a5fb0]\n",
       "cluster E9--><a href=\"psysml:109e665d-9569-4e28-8454-db86a3b7365b\" target=\"_top\" title=\"psysml:109e665d-9569-4e28-8454-db86a3b7365b\" xlink:actuate=\"onRequest\" xlink:href=\"psysml:109e665d-9569-4e28-8454-db86a3b7365b\" xlink:show=\"new\" xlink:title=\"psysml:109e665d-9569-4e28-8454-db86a3b7365b\" xlink:type=\"simple\"><rect fill=\"#FFFFFF\" height=\"132\" id=\"E9\" style=\"stroke: #383838; stroke-width: 1.5;\" width=\"785\" x=\"300\" y=\"307\"/><rect fill=\"#F8F8F8\" height=\"37.9375\" style=\"stroke: #383838; stroke-width: 1.5;\" width=\"785\" x=\"300\" y=\"307\"/><text fill=\"#000000\" font-family=\"sans-serif\" font-size=\"12\" font-style=\"italic\" lengthAdjust=\"spacingAndGlyphs\" textLength=\"137\" x=\"624\" y=\"323.1387\">«verificationCase def»</text><text fill=\"#000000\" font-family=\"sans-serif\" font-size=\"12\" lengthAdjust=\"spacingAndGlyphs\" textLength=\"97\" x=\"644\" y=\"337.1074\">VerificationPlan</text></a><!--MD5=[917b9dd0c7eca3ee5f47219d1a84c0ad]\n",
       "cluster E11--><a href=\"psysml:d8eec309-4539-4ef6-b593-f8d5221313a5\" target=\"_top\" title=\"psysml:d8eec309-4539-4ef6-b593-f8d5221313a5\" xlink:actuate=\"onRequest\" xlink:href=\"psysml:d8eec309-4539-4ef6-b593-f8d5221313a5\" xlink:show=\"new\" xlink:title=\"psysml:d8eec309-4539-4ef6-b593-f8d5221313a5\" xlink:type=\"simple\"><rect fill=\"#FFFFFF\" height=\"68\" id=\"E11\" rx=\"10\" ry=\"10\" style=\"stroke: #383838; stroke-width: 1.5;\" width=\"407\" x=\"640\" y=\"345\"/><rect fill=\"#F8F8F8\" height=\"37.9375\" rx=\"10\" ry=\"10\" style=\"stroke: #F8F8F8; stroke-width: 1.5;\" width=\"407\" x=\"640\" y=\"345\"/><rect fill=\"#F8F8F8\" height=\"10\" style=\"stroke: #F8F8F8; stroke-width: 1.5;\" width=\"407\" x=\"640\" y=\"372.9375\"/><rect fill=\"none\" height=\"68\" id=\"E11\" rx=\"10\" ry=\"10\" style=\"stroke: #383838; stroke-width: 1.5;\" width=\"407\" x=\"640\" y=\"345\"/><text fill=\"#000000\" font-family=\"sans-serif\" font-size=\"12\" font-style=\"italic\" lengthAdjust=\"spacingAndGlyphs\" textLength=\"113\" x=\"787\" y=\"361.1387\">«verificationCase»</text><text fill=\"#000000\" font-family=\"sans-serif\" font-size=\"12\" lengthAdjust=\"spacingAndGlyphs\" textLength=\"99\" x=\"794\" y=\"375.1074\">verificationCase</text><line style=\"stroke: #383838; stroke-width: 1.0;\" x1=\"640\" x2=\"1047\" y1=\"382.9375\" y2=\"382.9375\"/></a><!--MD5=[b4997ac47864f28c2f74865a473b2911]\n",
       "class E2--><a href=\"psysml:ee2cd088-4b38-485a-bdcf-f034eebaa933\" target=\"_top\" title=\"psysml:ee2cd088-4b38-485a-bdcf-f034eebaa933\" xlink:actuate=\"onRequest\" xlink:href=\"psysml:ee2cd088-4b38-485a-bdcf-f034eebaa933\" xlink:show=\"new\" xlink:title=\"psysml:ee2cd088-4b38-485a-bdcf-f034eebaa933\" xlink:type=\"simple\"><rect fill=\"#FFFFFF\" height=\"45.9375\" id=\"E2\" style=\"stroke: #383838; stroke-width: 1.5;\" width=\"66\" x=\"285\" y=\"128\"/><text fill=\"#000000\" font-family=\"sans-serif\" font-size=\"12\" font-style=\"italic\" lengthAdjust=\"spacingAndGlyphs\" textLength=\"64\" x=\"286\" y=\"144.1387\">«part def»</text><text fill=\"#000000\" font-family=\"sans-serif\" font-size=\"12\" lengthAdjust=\"spacingAndGlyphs\" textLength=\"8\" x=\"314\" y=\"158.1074\">V</text><line style=\"stroke: #383838; stroke-width: 1.5;\" x1=\"286\" x2=\"350\" y1=\"165.9375\" y2=\"165.9375\"/></a><!--MD5=[09b614a08d8cba4a07c9adeb5e0fee81]\n",
       "class E3--><a href=\"psysml:ea23779d-7b91-41e0-a4d1-5f0745e774d2\" target=\"_top\" title=\"psysml:ea23779d-7b91-41e0-a4d1-5f0745e774d2\" xlink:actuate=\"onRequest\" xlink:href=\"psysml:ea23779d-7b91-41e0-a4d1-5f0745e774d2\" xlink:show=\"new\" xlink:title=\"psysml:ea23779d-7b91-41e0-a4d1-5f0745e774d2\" xlink:type=\"simple\"><rect fill=\"#FFFFFF\" height=\"45.9375\" id=\"E3\" rx=\"10\" ry=\"10\" style=\"stroke: #383838; stroke-width: 1.5;\" width=\"42\" x=\"72\" y=\"128\"/><text fill=\"#000000\" font-family=\"sans-serif\" font-size=\"12\" font-style=\"italic\" lengthAdjust=\"spacingAndGlyphs\" textLength=\"40\" x=\"73\" y=\"144.1387\">«part»</text><text fill=\"#000000\" font-family=\"sans-serif\" font-size=\"12\" lengthAdjust=\"spacingAndGlyphs\" textLength=\"28\" x=\"79\" y=\"158.1074\">vv: V</text><line style=\"stroke: #383838; stroke-width: 1.5;\" x1=\"73\" x2=\"113\" y1=\"165.9375\" y2=\"165.9375\"/></a><!--MD5=[ebbe1d658d1005bcc118a6aa81145e00]\n",
       "class E4--><a href=\"psysml:971e85b9-9957-4674-90a7-be3bf98856c5\" target=\"_top\" title=\"psysml:971e85b9-9957-4674-90a7-be3bf98856c5\" xlink:actuate=\"onRequest\" xlink:href=\"psysml:971e85b9-9957-4674-90a7-be3bf98856c5\" xlink:show=\"new\" xlink:title=\"psysml:971e85b9-9957-4674-90a7-be3bf98856c5\" xlink:type=\"simple\"><rect fill=\"#FFFFFF\" height=\"66.7422\" id=\"E4\" style=\"stroke: #383838; stroke-width: 1.5;\" width=\"117\" x=\"259.5\" y=\"209.5\"/><text fill=\"#000000\" font-family=\"sans-serif\" font-size=\"12\" font-style=\"italic\" lengthAdjust=\"spacingAndGlyphs\" textLength=\"115\" x=\"260.5\" y=\"225.6387\">«requirement def»</text><text fill=\"#000000\" font-family=\"sans-serif\" font-size=\"12\" lengthAdjust=\"spacingAndGlyphs\" textLength=\"8\" x=\"314\" y=\"239.6074\">R</text><line style=\"stroke: #383838; stroke-width: 1.5;\" x1=\"260.5\" x2=\"375.5\" y1=\"247.4375\" y2=\"247.4375\"/><text fill=\"#000000\" font-family=\"sans-serif\" font-size=\"11\" lengthAdjust=\"spacingAndGlyphs\" textLength=\"12\" x=\"265.5\" y=\"261.6479\">...</text><line style=\"stroke: #383838; stroke-width: 1.0;\" x1=\"260.5\" x2=\"375.5\" y1=\"268.2422\" y2=\"268.2422\"/></a><!--MD5=[270fce915f116d4de14055a7c1d9a0f3]\n",
       "class E5--><a href=\"psysml:bbcd2223-85a4-4701-a24f-5592c5712336\" target=\"_top\" title=\"psysml:bbcd2223-85a4-4701-a24f-5592c5712336\" xlink:actuate=\"onRequest\" xlink:href=\"psysml:bbcd2223-85a4-4701-a24f-5592c5712336\" xlink:show=\"new\" xlink:title=\"psysml:bbcd2223-85a4-4701-a24f-5592c5712336\" xlink:type=\"simple\"><rect fill=\"#FFFFFF\" height=\"45.9375\" id=\"E5\" rx=\"10\" ry=\"10\" style=\"stroke: #383838; stroke-width: 1.5;\" width=\"93\" x=\"46.5\" y=\"220\"/><text fill=\"#000000\" font-family=\"sans-serif\" font-size=\"12\" font-style=\"italic\" lengthAdjust=\"spacingAndGlyphs\" textLength=\"91\" x=\"47.5\" y=\"236.1387\">«requirement»</text><text fill=\"#000000\" font-family=\"sans-serif\" font-size=\"12\" lengthAdjust=\"spacingAndGlyphs\" textLength=\"21\" x=\"82.5\" y=\"250.1074\">r: R</text><line style=\"stroke: #383838; stroke-width: 1.5;\" x1=\"47.5\" x2=\"138.5\" y1=\"257.9375\" y2=\"257.9375\"/></a><!--MD5=[0c48fb7552dae8cbbef69381101a84c8]\n",
       "class E15--><a href=\"psysml:1ba0f1fa-2142-46f9-b759-d2e88bd368a2\" target=\"_top\" title=\"psysml:1ba0f1fa-2142-46f9-b759-d2e88bd368a2\" xlink:actuate=\"onRequest\" xlink:href=\"psysml:1ba0f1fa-2142-46f9-b759-d2e88bd368a2\" xlink:show=\"new\" xlink:title=\"psysml:1ba0f1fa-2142-46f9-b759-d2e88bd368a2\" xlink:type=\"simple\"><rect fill=\"#FFFFFF\" height=\"45.9375\" id=\"E15\" rx=\"10\" ry=\"10\" style=\"stroke: #383838; stroke-width: 1.5;\" width=\"122\" x=\"32\" y=\"497\"/><text fill=\"#000000\" font-family=\"sans-serif\" font-size=\"12\" font-style=\"italic\" lengthAdjust=\"spacingAndGlyphs\" textLength=\"40\" x=\"73\" y=\"513.1387\">«part»</text><text fill=\"#000000\" font-family=\"sans-serif\" font-size=\"12\" lengthAdjust=\"spacingAndGlyphs\" textLength=\"116\" x=\"35\" y=\"527.1074\">verificationContext</text><line style=\"stroke: #383838; stroke-width: 1.5;\" x1=\"33\" x2=\"153\" y1=\"534.9375\" y2=\"534.9375\"/></a><!--MD5=[35f0587eaee8d5bb9a02e25b63afc23b]\n",
       "class E16--><a href=\"psysml:f139e62b-7bf9-43a0-a382-40038ed35c63\" target=\"_top\" title=\"psysml:f139e62b-7bf9-43a0-a382-40038ed35c63\" xlink:actuate=\"onRequest\" xlink:href=\"psysml:f139e62b-7bf9-43a0-a382-40038ed35c63\" xlink:show=\"new\" xlink:title=\"psysml:f139e62b-7bf9-43a0-a382-40038ed35c63\" xlink:type=\"simple\"><rect fill=\"#FFFFFF\" height=\"45.9375\" id=\"E16\" rx=\"10\" ry=\"10\" style=\"stroke: #383838; stroke-width: 1.5;\" width=\"206\" x=\"215\" y=\"497\"/><text fill=\"#000000\" font-family=\"sans-serif\" font-size=\"12\" font-style=\"italic\" lengthAdjust=\"spacingAndGlyphs\" textLength=\"113\" x=\"261.5\" y=\"513.1387\">«verificationCase»</text><text fill=\"#000000\" font-family=\"sans-serif\" font-size=\"12\" lengthAdjust=\"spacingAndGlyphs\" textLength=\"200\" x=\"218\" y=\"527.1074\">verificationPlan: VerificationPlan</text><line style=\"stroke: #383838; stroke-width: 1.5;\" x1=\"216\" x2=\"420\" y1=\"534.9375\" y2=\"534.9375\"/></a><!--MD5=[60e55a4a9b2f0dc0a36787c5a2095786]\n",
       "class E17--><a href=\"psysml:fe640fc2-093c-44fe-a9fd-0ceecb8f463c\" target=\"_top\" title=\"psysml:fe640fc2-093c-44fe-a9fd-0ceecb8f463c\" xlink:actuate=\"onRequest\" xlink:href=\"psysml:fe640fc2-093c-44fe-a9fd-0ceecb8f463c\" xlink:show=\"new\" xlink:title=\"psysml:fe640fc2-093c-44fe-a9fd-0ceecb8f463c\" xlink:type=\"simple\"><rect fill=\"#FFFFFF\" height=\"45.9375\" id=\"E17\" rx=\"10\" ry=\"10\" style=\"stroke: #383838; stroke-width: 1.5;\" width=\"93\" x=\"593.5\" y=\"497\"/><text fill=\"#000000\" font-family=\"sans-serif\" font-size=\"12\" font-style=\"italic\" lengthAdjust=\"spacingAndGlyphs\" textLength=\"91\" x=\"594.5\" y=\"513.1387\">«requirement»</text><text fill=\"#000000\" font-family=\"sans-serif\" font-size=\"12\" lengthAdjust=\"spacingAndGlyphs\" textLength=\"19\" x=\"630.5\" y=\"527.1074\">obj</text><line style=\"stroke: #383838; stroke-width: 1.5;\" x1=\"594.5\" x2=\"685.5\" y1=\"534.9375\" y2=\"534.9375\"/></a><text fill=\"#000000\" font-family=\"sans-serif\" font-size=\"14\" lengthAdjust=\"spacingAndGlyphs\" textLength=\"7\" x=\"89.5\" y=\"53.6982\">v</text><rect fill=\"#383838\" height=\"12\" style=\"stroke: #F8F8F8; stroke-width: 1.5;\" width=\"12\" x=\"87\" y=\"69\"/><text fill=\"#000000\" font-family=\"sans-serif\" font-size=\"14\" lengthAdjust=\"spacingAndGlyphs\" textLength=\"46\" x=\"737\" y=\"53.6982\">verdict</text><rect fill=\"#383838\" height=\"12\" style=\"stroke: #F8F8F8; stroke-width: 1.5;\" width=\"12\" x=\"754\" y=\"69\"/><text fill=\"#000000\" font-family=\"sans-serif\" font-size=\"14\" lengthAdjust=\"spacingAndGlyphs\" textLength=\"7\" x=\"314.5\" y=\"457.9951\">v</text><rect fill=\"#383838\" height=\"12\" style=\"stroke: #F8F8F8; stroke-width: 1.5;\" width=\"12\" x=\"312\" y=\"433\"/><text fill=\"#000000\" font-family=\"sans-serif\" font-size=\"14\" lengthAdjust=\"spacingAndGlyphs\" textLength=\"46\" x=\"951\" y=\"285.6982\">verdict</text><rect fill=\"#383838\" height=\"12\" style=\"stroke: #F8F8F8; stroke-width: 1.5;\" width=\"12\" x=\"968\" y=\"301\"/><text fill=\"#000000\" font-family=\"sans-serif\" font-size=\"14\" lengthAdjust=\"spacingAndGlyphs\" textLength=\"46\" x=\"1024\" y=\"357.6982\">verdict</text><rect fill=\"#383838\" height=\"12\" style=\"stroke: #F8F8F8; stroke-width: 1.5;\" width=\"12\" x=\"1041\" y=\"373\"/><text fill=\"#000000\" font-family=\"sans-serif\" font-size=\"14\" lengthAdjust=\"spacingAndGlyphs\" textLength=\"7\" x=\"636.5\" y=\"357.6982\">v</text><rect fill=\"#383838\" height=\"12\" style=\"stroke: #F8F8F8; stroke-width: 1.5;\" width=\"12\" x=\"634\" y=\"373\"/><!--MD5=[05d275557350bfb9b23a4ef7222b4c39]\n",
       "link E3 to E2--><a href=\"psysml:2b222a15-a90b-432a-993d-d339516ea993\" target=\"_top\" title=\"psysml:2b222a15-a90b-432a-993d-d339516ea993\" xlink:actuate=\"onRequest\" xlink:href=\"psysml:2b222a15-a90b-432a-993d-d339516ea993\" xlink:show=\"new\" xlink:title=\"psysml:2b222a15-a90b-432a-993d-d339516ea993\" xlink:type=\"simple\"><path d=\"M114.18,151 C147.92,151 216.78,151 264.86,151 \" fill=\"none\" id=\"E3-&gt;E2\" style=\"stroke: #383838; stroke-width: 1.0;\"/><polygon fill=\"#FFFFFF\" points=\"284.97,151,265.97,158,265.97,144,284.97,151\" style=\"stroke: #383838; stroke-width: 1.0;\"/><ellipse cx=\"260.27\" cy=\"156\" fill=\"#383838\" rx=\"2\" ry=\"2\" style=\"stroke: #383838; stroke-width: 1.0;\"/><ellipse cx=\"260.27\" cy=\"146\" fill=\"#383838\" rx=\"2\" ry=\"2\" style=\"stroke: #383838; stroke-width: 1.0;\"/></a><!--MD5=[1c62de2aa5b76f0fb657ff8443a1a700]\n",
       "link E5 to E4--><a href=\"psysml:4afeeb28-a204-4e17-a080-31f9a6d380ec\" target=\"_top\" title=\"psysml:4afeeb28-a204-4e17-a080-31f9a6d380ec\" xlink:actuate=\"onRequest\" xlink:href=\"psysml:4afeeb28-a204-4e17-a080-31f9a6d380ec\" xlink:show=\"new\" xlink:title=\"psysml:4afeeb28-a204-4e17-a080-31f9a6d380ec\" xlink:type=\"simple\"><path d=\"M139.67,243 C168.37,243 206.14,243 239.44,243 \" fill=\"none\" id=\"E5-&gt;E4\" style=\"stroke: #383838; stroke-width: 1.0;\"/><polygon fill=\"#FFFFFF\" points=\"259.48,243,240.48,250,240.48,236,259.48,243\" style=\"stroke: #383838; stroke-width: 1.0;\"/><ellipse cx=\"234.78\" cy=\"248\" fill=\"#383838\" rx=\"2\" ry=\"2\" style=\"stroke: #383838; stroke-width: 1.0;\"/><ellipse cx=\"234.78\" cy=\"238\" fill=\"#383838\" rx=\"2\" ry=\"2\" style=\"stroke: #383838; stroke-width: 1.0;\"/></a><!--MD5=[58e4cf537c4d67f6b3da95fd5b934e63]\n",
       "reverse link E15 to E16--><a href=\"psysml:4d9ca163-dfe0-49d5-81cb-3058dc3dad3f\" target=\"_top\" title=\"psysml:4d9ca163-dfe0-49d5-81cb-3058dc3dad3f\" xlink:actuate=\"onRequest\" xlink:href=\"psysml:4d9ca163-dfe0-49d5-81cb-3058dc3dad3f\" xlink:show=\"new\" xlink:title=\"psysml:4d9ca163-dfe0-49d5-81cb-3058dc3dad3f\" xlink:type=\"simple\"><path d=\"M167.11,520 C182.33,520 198.64,520 214.69,520 \" fill=\"none\" id=\"E15&lt;-E16\" style=\"stroke: #383838; stroke-width: 1.0;\"/><polygon fill=\"#383838\" points=\"154.05,520,160.05,524,166.05,520,160.05,516,154.05,520\" style=\"stroke: #383838; stroke-width: 1.0;\"/></a><!--MD5=[4de2d328c39b6d65fb95a84ef336270e]\n",
       "link E16 to E9--><a href=\"psysml:cd73bb42-520f-4e04-8240-7f040abbe442\" target=\"_top\" title=\"psysml:cd73bb42-520f-4e04-8240-7f040abbe442\" xlink:actuate=\"onRequest\" xlink:href=\"psysml:cd73bb42-520f-4e04-8240-7f040abbe442\" xlink:show=\"new\" xlink:title=\"psysml:cd73bb42-520f-4e04-8240-7f040abbe442\" xlink:type=\"simple\"><path d=\"M405.18,496.98 C442.38,486.96 486.37,475.02 526,464 C532.23,462.27 533.72,461.56 540,460 C545.2,458.71 550.57,457.42 555.99,456.17 \" fill=\"none\" id=\"E16-&gt;E9\" style=\"stroke: #383838; stroke-width: 1.0;\"/><polygon fill=\"#FFFFFF\" points=\"555.99,456.17,539.0491,467.2608,535.9029,453.6189,555.99,456.17\" style=\"stroke: #383838; stroke-width: 1.0;\"/><ellipse cx=\"533.0454\" cy=\"466.5929\" fill=\"#383838\" rx=\"2\" ry=\"2\" style=\"stroke: #383838; stroke-width: 1.0;\"/><ellipse cx=\"530.7981\" cy=\"456.8487\" fill=\"#383838\" rx=\"2\" ry=\"2\" style=\"stroke: #383838; stroke-width: 1.0;\"/></a><!--MD5=[450e3481f1c83a03a55fcf78b0bbbde6]\n",
       "link E16 to E17--><a href=\"psysml:e29f10bd-d5bc-4797-97ab-a37fb0e5db5b\" target=\"_top\" title=\"psysml:e29f10bd-d5bc-4797-97ab-a37fb0e5db5b\" xlink:actuate=\"onRequest\" xlink:href=\"psysml:e29f10bd-d5bc-4797-97ab-a37fb0e5db5b\" xlink:show=\"new\" xlink:title=\"psysml:e29f10bd-d5bc-4797-97ab-a37fb0e5db5b\" xlink:type=\"simple\"><path d=\"M421.13,520 C475.72,520 540.69,520 585.39,520 \" fill=\"none\" id=\"E16-&gt;E17\" style=\"stroke: #383838; stroke-width: 1.0;\"/><polygon fill=\"#383838\" points=\"593.5,520,585.5,517,585.5,523,593.5,520\" style=\"stroke: #383838; stroke-width: 1.0;\"/><text fill=\"#000000\" font-family=\"sans-serif\" font-size=\"13\" lengthAdjust=\"spacingAndGlyphs\" textLength=\"73\" x=\"452\" y=\"516.0669\">«objective»</text><text fill=\"#000000\" font-family=\"sans-serif\" font-size=\"13\" lengthAdjust=\"spacingAndGlyphs\" textLength=\"7\" x=\"578.5313\" y=\"533.2778\">*</text></a><!--MD5=[0a5a6562ac791827a972ef4c164a9f5e]\n",
       "@startuml\r\n",
       "left to right direction\r\n",
       "skinparam monochrome true\r\n",
       "skinparam classbackgroundcolor white\r\n",
       "skinparam shadowing false\r\n",
       "skinparam wrapWidth 300\r\n",
       "hide circle\r\n",
       "\r\n",
       "package \"VerificationTest\" as E1  [[psysml:7303dfcd-df1a-4034-bc74-eb93457ec7c0 ]]  {\r\n",
       "comp def \"V\" as E2  <<(T,blue) part def>> [[psysml:ee2cd088-4b38-485a-bdcf-f034eebaa933 ]] {\r\n",
       "}\r\n",
       "comp usage \"vv: V\" as E3  <<(T,blue) part>> [[psysml:ea23779d-7b91-41e0-a4d1-5f0745e774d2 ]] {\r\n",
       "}\r\n",
       "comp def \"R\" as E4  <<(T,blue) requirement def>> [[psysml:971e85b9-9957-4674-90a7-be3bf98856c5 ]] {\r\n",
       "...\r\n",
       "- -\r\n",
       "}\r\n",
       "comp usage \"r: R\" as E5  <<(T,blue) requirement>> [[psysml:bbcd2223-85a4-4701-a24f-5592c5712336 ]] {\r\n",
       "}\r\n",
       "rec def \"VerificationCase\" as E6  <<(T,blue) verificationCase def>> [[psysml:f44943ce-87bd-4d2b-91db-f66bd879bf72 ]] {\r\n",
       "portin \"v\" as E7  [[psysml:39e4c68a-7e48-4018-a595-005447bc25d1 ]] \r\n",
       "portout \"verdict\" as E8  [[psysml:e7480a5a-bc03-4bfb-926c-ff77790341ab ]] \r\n",
       "}\r\n",
       "\r\n",
       "rec def \"VerificationPlan\" as E9  <<(T,blue) verificationCase def>> [[psysml:109e665d-9569-4e28-8454-db86a3b7365b ]] {\r\n",
       "portin \"v\" as E10  [[psysml:bc04aa0f-1251-4bd1-9492-821de83ad0f4 ]] \r\n",
       "rec usage \"verificationCase\" as E11  <<(T,blue) verificationCase>> [[psysml:d8eec309-4539-4ef6-b593-f8d5221313a5 ]] {\r\n",
       "portout \"verdict\" as E12  [[psysml:d4b19012-2d8f-412c-81cb-04106ed54ab9 ]] \r\n",
       "portin \"v\" as E13  [[psysml:101691aa-2b16-4439-bb49-3b5a9750b72a ]] \r\n",
       "}\r\n",
       "\r\n",
       "portout \"verdict\" as E14  [[psysml:d1cc474d-a7ae-4245-8f3b-eac2c389ad3d ]] \r\n",
       "}\r\n",
       "\r\n",
       "comp usage \"verificationContext\" as E15  <<(T,blue) part>> [[psysml:1ba0f1fa-2142-46f9-b759-d2e88bd368a2 ]] {\r\n",
       "}\r\n",
       "comp usage \"verificationPlan: VerificationPlan\" as E16  <<(T,blue) verificationCase>> [[psysml:f139e62b-7bf9-43a0-a382-40038ed35c63 ]] {\r\n",
       "}\r\n",
       "comp usage \"obj\" as E17  <<(T,blue) requirement>> [[psysml:fe640fc2-093c-44fe-a9fd-0ceecb8f463c ]] {\r\n",
       "}\r\n",
       "}\r\n",
       "E3 - -:|> E2 [[psysml:2b222a15-a90b-432a-993d-d339516ea993 ]] \r\n",
       "E5 - -:|> E4 [[psysml:4afeeb28-a204-4e17-a080-31f9a6d380ec ]] \r\n",
       "E15 *- - E16 [[psysml:4d9ca163-dfe0-49d5-81cb-3058dc3dad3f ]] \r\n",
       "E16 - -:|> E9 [[psysml:cd73bb42-520f-4e04-8240-7f040abbe442 ]] \r\n",
       "E16 - ->> \"*\"E17 [[psysml:e29f10bd-d5bc-4797-97ab-a37fb0e5db5b ]] : <<objective>>\r\n",
       "@enduml\r\n",
       "\n",
       "PlantUML version 1.2020.13(Sat Jun 13 12:26:38 UTC 2020)\n",
       "(EPL source distribution)\n",
       "Java Runtime: OpenJDK Runtime Environment\n",
       "JVM: OpenJDK 64-Bit Server VM\n",
       "Default Encoding: UTF-8\n",
       "Language: en\n",
       "Country: null\n",
       "--></g></svg>"
      ]
     },
     "execution_count": 16,
     "metadata": {},
     "output_type": "execute_result"
    }
   ],
   "source": [
    "%viz --style=\"LR\" --view=\"Default\" \"VerificationTest\""
   ]
  },
  {
   "cell_type": "code",
   "execution_count": 17,
   "id": "663adab3",
   "metadata": {
    "execution": {
     "iopub.execute_input": "2021-10-03T08:26:47.930598Z",
     "iopub.status.busy": "2021-10-03T08:26:47.930175Z",
     "iopub.status.idle": "2021-10-03T08:26:48.006911Z",
     "shell.execute_reply": "2021-10-03T08:26:48.006544Z"
    }
   },
   "outputs": [
    {
     "data": {
      "image/svg+xml": [
       "<?xml version=\"1.0\" encoding=\"UTF-8\" standalone=\"no\"?><svg xmlns=\"http://www.w3.org/2000/svg\" xmlns:xlink=\"http://www.w3.org/1999/xlink\" contentScriptType=\"application/ecmascript\" contentStyleType=\"text/css\" height=\"440px\" preserveAspectRatio=\"none\" style=\"width:461px;height:440px;\" version=\"1.1\" viewBox=\"0 0 461 440\" width=\"461px\" zoomAndPan=\"magnify\"><defs/><g><!--MD5=[fbc87193dbaf4d95561dea2c320d4a47]\n",
       "cluster E1--><a href=\"psysml:7303dfcd-df1a-4034-bc74-eb93457ec7c0\" target=\"_top\" title=\"psysml:7303dfcd-df1a-4034-bc74-eb93457ec7c0\" xlink:actuate=\"onRequest\" xlink:href=\"psysml:7303dfcd-df1a-4034-bc74-eb93457ec7c0\" xlink:show=\"new\" xlink:title=\"psysml:7303dfcd-df1a-4034-bc74-eb93457ec7c0\" xlink:type=\"simple\"><polygon fill=\"#FFFFFF\" points=\"16,6,128,6,135,28.2969,439,28.2969,439,428,16,428,16,6\" style=\"stroke: #000000; stroke-width: 1.5;\"/><line style=\"stroke: #000000; stroke-width: 1.5;\" x1=\"16\" x2=\"135\" y1=\"28.2969\" y2=\"28.2969\"/><text fill=\"#000000\" font-family=\"sans-serif\" font-size=\"14\" font-weight=\"bold\" lengthAdjust=\"spacingAndGlyphs\" textLength=\"106\" x=\"20\" y=\"20.9951\">VerificationTest</text></a><!--MD5=[b4997ac47864f28c2f74865a473b2911]\n",
       "class E2--><a href=\"psysml:ee2cd088-4b38-485a-bdcf-f034eebaa933\" target=\"_top\" title=\"psysml:ee2cd088-4b38-485a-bdcf-f034eebaa933\" xlink:actuate=\"onRequest\" xlink:href=\"psysml:ee2cd088-4b38-485a-bdcf-f034eebaa933\" xlink:show=\"new\" xlink:title=\"psysml:ee2cd088-4b38-485a-bdcf-f034eebaa933\" xlink:type=\"simple\"><rect fill=\"#FFFFFF\" height=\"45.9375\" id=\"E2\" style=\"stroke: #383838; stroke-width: 1.5;\" width=\"66\" x=\"331.5\" y=\"255\"/><text fill=\"#000000\" font-family=\"sans-serif\" font-size=\"12\" font-style=\"italic\" lengthAdjust=\"spacingAndGlyphs\" textLength=\"64\" x=\"332.5\" y=\"271.1387\">«part def»</text><text fill=\"#000000\" font-family=\"sans-serif\" font-size=\"12\" lengthAdjust=\"spacingAndGlyphs\" textLength=\"8\" x=\"360.5\" y=\"285.1074\">V</text><line style=\"stroke: #383838; stroke-width: 1.5;\" x1=\"332.5\" x2=\"396.5\" y1=\"292.9375\" y2=\"292.9375\"/></a><!--MD5=[09b614a08d8cba4a07c9adeb5e0fee81]\n",
       "class E3--><a href=\"psysml:ea23779d-7b91-41e0-a4d1-5f0745e774d2\" target=\"_top\" title=\"psysml:ea23779d-7b91-41e0-a4d1-5f0745e774d2\" xlink:actuate=\"onRequest\" xlink:href=\"psysml:ea23779d-7b91-41e0-a4d1-5f0745e774d2\" xlink:show=\"new\" xlink:title=\"psysml:ea23779d-7b91-41e0-a4d1-5f0745e774d2\" xlink:type=\"simple\"><rect fill=\"#FFFFFF\" height=\"45.9375\" id=\"E3\" rx=\"10\" ry=\"10\" style=\"stroke: #383838; stroke-width: 1.5;\" width=\"42\" x=\"80.5\" y=\"204\"/><text fill=\"#000000\" font-family=\"sans-serif\" font-size=\"12\" font-style=\"italic\" lengthAdjust=\"spacingAndGlyphs\" textLength=\"40\" x=\"81.5\" y=\"220.1387\">«part»</text><text fill=\"#000000\" font-family=\"sans-serif\" font-size=\"12\" lengthAdjust=\"spacingAndGlyphs\" textLength=\"28\" x=\"87.5\" y=\"234.1074\">vv: V</text><line style=\"stroke: #383838; stroke-width: 1.5;\" x1=\"81.5\" x2=\"121.5\" y1=\"241.9375\" y2=\"241.9375\"/></a><!--MD5=[ebbe1d658d1005bcc118a6aa81145e00]\n",
       "class E4--><a href=\"psysml:971e85b9-9957-4674-90a7-be3bf98856c5\" target=\"_top\" title=\"psysml:971e85b9-9957-4674-90a7-be3bf98856c5\" xlink:actuate=\"onRequest\" xlink:href=\"psysml:971e85b9-9957-4674-90a7-be3bf98856c5\" xlink:show=\"new\" xlink:title=\"psysml:971e85b9-9957-4674-90a7-be3bf98856c5\" xlink:type=\"simple\"><rect fill=\"#FFFFFF\" height=\"66.7422\" id=\"E4\" style=\"stroke: #383838; stroke-width: 1.5;\" width=\"117\" x=\"306\" y=\"41.5\"/><text fill=\"#000000\" font-family=\"sans-serif\" font-size=\"12\" font-style=\"italic\" lengthAdjust=\"spacingAndGlyphs\" textLength=\"115\" x=\"307\" y=\"57.6387\">«requirement def»</text><text fill=\"#000000\" font-family=\"sans-serif\" font-size=\"12\" lengthAdjust=\"spacingAndGlyphs\" textLength=\"8\" x=\"360.5\" y=\"71.6074\">R</text><line style=\"stroke: #383838; stroke-width: 1.5;\" x1=\"307\" x2=\"422\" y1=\"79.4375\" y2=\"79.4375\"/><text fill=\"#000000\" font-family=\"sans-serif\" font-size=\"11\" lengthAdjust=\"spacingAndGlyphs\" textLength=\"12\" x=\"312\" y=\"93.6479\">...</text><line style=\"stroke: #383838; stroke-width: 1.0;\" x1=\"307\" x2=\"422\" y1=\"100.2422\" y2=\"100.2422\"/></a><!--MD5=[270fce915f116d4de14055a7c1d9a0f3]\n",
       "class E5--><a href=\"psysml:bbcd2223-85a4-4701-a24f-5592c5712336\" target=\"_top\" title=\"psysml:bbcd2223-85a4-4701-a24f-5592c5712336\" xlink:actuate=\"onRequest\" xlink:href=\"psysml:bbcd2223-85a4-4701-a24f-5592c5712336\" xlink:show=\"new\" xlink:title=\"psysml:bbcd2223-85a4-4701-a24f-5592c5712336\" xlink:type=\"simple\"><rect fill=\"#FFFFFF\" height=\"45.9375\" id=\"E5\" rx=\"10\" ry=\"10\" style=\"stroke: #383838; stroke-width: 1.5;\" width=\"93\" x=\"55\" y=\"42\"/><text fill=\"#000000\" font-family=\"sans-serif\" font-size=\"12\" font-style=\"italic\" lengthAdjust=\"spacingAndGlyphs\" textLength=\"91\" x=\"56\" y=\"58.1387\">«requirement»</text><text fill=\"#000000\" font-family=\"sans-serif\" font-size=\"12\" lengthAdjust=\"spacingAndGlyphs\" textLength=\"21\" x=\"91\" y=\"72.1074\">r: R</text><line style=\"stroke: #383838; stroke-width: 1.5;\" x1=\"56\" x2=\"147\" y1=\"79.9375\" y2=\"79.9375\"/></a><!--MD5=[60a26617385b1d2d0262a64233df1f8d]\n",
       "class E6--><a href=\"psysml:f44943ce-87bd-4d2b-91db-f66bd879bf72\" target=\"_top\" title=\"psysml:f44943ce-87bd-4d2b-91db-f66bd879bf72\" xlink:actuate=\"onRequest\" xlink:href=\"psysml:f44943ce-87bd-4d2b-91db-f66bd879bf72\" xlink:show=\"new\" xlink:title=\"psysml:f44943ce-87bd-4d2b-91db-f66bd879bf72\" xlink:type=\"simple\"><rect fill=\"#FFFFFF\" height=\"45.9375\" id=\"E6\" style=\"stroke: #383838; stroke-width: 1.5;\" width=\"139\" x=\"32\" y=\"123\"/><text fill=\"#000000\" font-family=\"sans-serif\" font-size=\"12\" font-style=\"italic\" lengthAdjust=\"spacingAndGlyphs\" textLength=\"137\" x=\"33\" y=\"139.1387\">«verificationCase def»</text><text fill=\"#000000\" font-family=\"sans-serif\" font-size=\"12\" lengthAdjust=\"spacingAndGlyphs\" textLength=\"101\" x=\"51\" y=\"153.1074\">VerificationCase</text><line style=\"stroke: #383838; stroke-width: 1.5;\" x1=\"33\" x2=\"170\" y1=\"160.9375\" y2=\"160.9375\"/></a><!--MD5=[2156ba9850f5573cc1fc38a6a4b2f02b]\n",
       "class E7--><a href=\"psysml:c1b61795-7b30-4440-a267-41d24baf94c2\" target=\"_top\" title=\"psysml:c1b61795-7b30-4440-a267-41d24baf94c2\" xlink:actuate=\"onRequest\" xlink:href=\"psysml:c1b61795-7b30-4440-a267-41d24baf94c2\" xlink:show=\"new\" xlink:title=\"psysml:c1b61795-7b30-4440-a267-41d24baf94c2\" xlink:type=\"simple\"><rect fill=\"#FFFFFF\" height=\"75.5469\" id=\"E7\" rx=\"10\" ry=\"10\" style=\"stroke: #383838; stroke-width: 1.5;\" width=\"93\" x=\"318\" y=\"144\"/><text fill=\"#000000\" font-family=\"sans-serif\" font-size=\"12\" font-style=\"italic\" lengthAdjust=\"spacingAndGlyphs\" textLength=\"91\" x=\"319\" y=\"160.1387\">«requirement»</text><text fill=\"#000000\" font-family=\"sans-serif\" font-size=\"12\" lengthAdjust=\"spacingAndGlyphs\" textLength=\"19\" x=\"355\" y=\"174.1074\">obj</text><line style=\"stroke: #383838; stroke-width: 1.5;\" x1=\"319\" x2=\"410\" y1=\"181.9375\" y2=\"181.9375\"/><text fill=\"#000000\" font-family=\"sans-serif\" font-size=\"11\" font-weight=\"bold\" lengthAdjust=\"spacingAndGlyphs\" textLength=\"41\" x=\"324\" y=\"212.9526\">require</text><text fill=\"#000000\" font-family=\"sans-serif\" font-size=\"11\" lengthAdjust=\"spacingAndGlyphs\" textLength=\"15\" x=\"369\" y=\"212.9526\">: R</text><line style=\"stroke: #383838; stroke-width: 1.0;\" x1=\"319\" x2=\"326\" y1=\"196.3398\" y2=\"196.3398\"/><text fill=\"#000000\" font-family=\"sans-serif\" font-size=\"11\" lengthAdjust=\"spacingAndGlyphs\" textLength=\"77\" x=\"326\" y=\"199.6479\">requirements</text><line style=\"stroke: #383838; stroke-width: 1.0;\" x1=\"403\" x2=\"410\" y1=\"196.3398\" y2=\"196.3398\"/></a><!--MD5=[fd4143e9d270a159db93a4ea2a975926]\n",
       "class E9--><a href=\"psysml:109e665d-9569-4e28-8454-db86a3b7365b\" target=\"_top\" title=\"psysml:109e665d-9569-4e28-8454-db86a3b7365b\" xlink:actuate=\"onRequest\" xlink:href=\"psysml:109e665d-9569-4e28-8454-db86a3b7365b\" xlink:show=\"new\" xlink:title=\"psysml:109e665d-9569-4e28-8454-db86a3b7365b\" xlink:type=\"simple\"><rect fill=\"#FFFFFF\" height=\"45.9375\" id=\"E9\" style=\"stroke: #383838; stroke-width: 1.5;\" width=\"139\" x=\"32\" y=\"285\"/><text fill=\"#000000\" font-family=\"sans-serif\" font-size=\"12\" font-style=\"italic\" lengthAdjust=\"spacingAndGlyphs\" textLength=\"137\" x=\"33\" y=\"301.1387\">«verificationCase def»</text><text fill=\"#000000\" font-family=\"sans-serif\" font-size=\"12\" lengthAdjust=\"spacingAndGlyphs\" textLength=\"97\" x=\"53\" y=\"315.1074\">VerificationPlan</text><line style=\"stroke: #383838; stroke-width: 1.5;\" x1=\"33\" x2=\"170\" y1=\"322.9375\" y2=\"322.9375\"/></a><!--MD5=[96f4274e9e20536e775497830990834d]\n",
       "class E10--><a href=\"psysml:7031c3a4-5568-406f-9713-a580e51688a6\" target=\"_top\" title=\"psysml:7031c3a4-5568-406f-9713-a580e51688a6\" xlink:actuate=\"onRequest\" xlink:href=\"psysml:7031c3a4-5568-406f-9713-a580e51688a6\" xlink:show=\"new\" xlink:title=\"psysml:7031c3a4-5568-406f-9713-a580e51688a6\" xlink:type=\"simple\"><rect fill=\"#FFFFFF\" height=\"75.5469\" id=\"E10\" rx=\"10\" ry=\"10\" style=\"stroke: #383838; stroke-width: 1.5;\" width=\"93\" x=\"318\" y=\"336\"/><text fill=\"#000000\" font-family=\"sans-serif\" font-size=\"12\" font-style=\"italic\" lengthAdjust=\"spacingAndGlyphs\" textLength=\"91\" x=\"319\" y=\"352.1387\">«requirement»</text><text fill=\"#000000\" font-family=\"sans-serif\" font-size=\"12\" lengthAdjust=\"spacingAndGlyphs\" textLength=\"19\" x=\"355\" y=\"366.1074\">obj</text><line style=\"stroke: #383838; stroke-width: 1.5;\" x1=\"319\" x2=\"410\" y1=\"373.9375\" y2=\"373.9375\"/><text fill=\"#000000\" font-family=\"sans-serif\" font-size=\"11\" font-weight=\"bold\" lengthAdjust=\"spacingAndGlyphs\" textLength=\"41\" x=\"324\" y=\"404.9526\">require</text><text fill=\"#000000\" font-family=\"sans-serif\" font-size=\"11\" lengthAdjust=\"spacingAndGlyphs\" textLength=\"5\" x=\"369\" y=\"404.9526\">r</text><line style=\"stroke: #383838; stroke-width: 1.0;\" x1=\"319\" x2=\"326\" y1=\"388.3398\" y2=\"388.3398\"/><text fill=\"#000000\" font-family=\"sans-serif\" font-size=\"11\" lengthAdjust=\"spacingAndGlyphs\" textLength=\"77\" x=\"326\" y=\"391.6479\">requirements</text><line style=\"stroke: #383838; stroke-width: 1.0;\" x1=\"403\" x2=\"410\" y1=\"388.3398\" y2=\"388.3398\"/></a><!--MD5=[49a0ec8f00dab7302a31f22d0f0fe584]\n",
       "class E12--><a href=\"psysml:1ba0f1fa-2142-46f9-b759-d2e88bd368a2\" target=\"_top\" title=\"psysml:1ba0f1fa-2142-46f9-b759-d2e88bd368a2\" xlink:actuate=\"onRequest\" xlink:href=\"psysml:1ba0f1fa-2142-46f9-b759-d2e88bd368a2\" xlink:show=\"new\" xlink:title=\"psysml:1ba0f1fa-2142-46f9-b759-d2e88bd368a2\" xlink:type=\"simple\"><rect fill=\"#FFFFFF\" height=\"45.9375\" id=\"E12\" rx=\"10\" ry=\"10\" style=\"stroke: #383838; stroke-width: 1.5;\" width=\"122\" x=\"40.5\" y=\"366\"/><text fill=\"#000000\" font-family=\"sans-serif\" font-size=\"12\" font-style=\"italic\" lengthAdjust=\"spacingAndGlyphs\" textLength=\"40\" x=\"81.5\" y=\"382.1387\">«part»</text><text fill=\"#000000\" font-family=\"sans-serif\" font-size=\"12\" lengthAdjust=\"spacingAndGlyphs\" textLength=\"116\" x=\"43.5\" y=\"396.1074\">verificationContext</text><line style=\"stroke: #383838; stroke-width: 1.5;\" x1=\"41.5\" x2=\"161.5\" y1=\"403.9375\" y2=\"403.9375\"/></a><!--MD5=[05d275557350bfb9b23a4ef7222b4c39]\n",
       "link E3 to E2--><a href=\"psysml:2b222a15-a90b-432a-993d-d339516ea993\" target=\"_top\" title=\"psysml:2b222a15-a90b-432a-993d-d339516ea993\" xlink:actuate=\"onRequest\" xlink:href=\"psysml:2b222a15-a90b-432a-993d-d339516ea993\" xlink:show=\"new\" xlink:title=\"psysml:2b222a15-a90b-432a-993d-d339516ea993\" xlink:type=\"simple\"><path d=\"M122.55,238.01 C141.97,248.07 172.58,262.37 201,269 C237.17,277.44 279.03,279.58 311.21,279.67 \" fill=\"none\" id=\"E3-&gt;E2\" style=\"stroke: #383838; stroke-width: 1.0;\"/><polygon fill=\"#FFFFFF\" points=\"331.28,279.47,312.3509,286.6596,312.211,272.6603,331.28,279.47\" style=\"stroke: #383838; stroke-width: 1.0;\"/><ellipse cx=\"306.6312\" cy=\"284.7167\" fill=\"#383838\" rx=\"2\" ry=\"2\" style=\"stroke: #383838; stroke-width: 1.0;\"/><ellipse cx=\"306.5312\" cy=\"274.7172\" fill=\"#383838\" rx=\"2\" ry=\"2\" style=\"stroke: #383838; stroke-width: 1.0;\"/></a><!--MD5=[1c62de2aa5b76f0fb657ff8443a1a700]\n",
       "link E5 to E4--><a href=\"psysml:4afeeb28-a204-4e17-a080-31f9a6d380ec\" target=\"_top\" title=\"psysml:4afeeb28-a204-4e17-a080-31f9a6d380ec\" xlink:actuate=\"onRequest\" xlink:href=\"psysml:4afeeb28-a204-4e17-a080-31f9a6d380ec\" xlink:show=\"new\" xlink:title=\"psysml:4afeeb28-a204-4e17-a080-31f9a6d380ec\" xlink:type=\"simple\"><path d=\"M148.26,66.75 C186.21,68.21 241,70.31 285.81,72.02 \" fill=\"none\" id=\"E5-&gt;E4\" style=\"stroke: #383838; stroke-width: 1.0;\"/><polygon fill=\"#FFFFFF\" points=\"305.91,72.79,286.6586,79.0657,287.1886,65.0757,305.91,72.79\" style=\"stroke: #383838; stroke-width: 1.0;\"/><ellipse cx=\"281.0384\" cy=\"76.8513\" fill=\"#383838\" rx=\"2\" ry=\"2\" style=\"stroke: #383838; stroke-width: 1.0;\"/><ellipse cx=\"281.417\" cy=\"66.8585\" fill=\"#383838\" rx=\"2\" ry=\"2\" style=\"stroke: #383838; stroke-width: 1.0;\"/></a><!--MD5=[2351f337d6de0f557b50152ba70847b5]\n",
       "link E6 to E2--><a href=\"psysml:0a65a73b-aad1-46f6-97e3-b503c188383c\" target=\"_top\" title=\"psysml:0a65a73b-aad1-46f6-97e3-b503c188383c\" xlink:actuate=\"onRequest\" xlink:href=\"psysml:0a65a73b-aad1-46f6-97e3-b503c188383c\" xlink:show=\"new\" xlink:title=\"psysml:0a65a73b-aad1-46f6-97e3-b503c188383c\" xlink:type=\"simple\"><path d=\"M148.26,169.14 C199,194.81 279.86,235.7 326.69,259.38 \" fill=\"none\" id=\"E6-&gt;E2\" style=\"stroke: #383838; stroke-width: 1.0; stroke-dasharray: 7.0,7.0;\"/><polygon fill=\"#383838\" points=\"331.39,261.76,325.168,254.1254,326.9294,259.5011,321.5537,261.2625,331.39,261.76\" style=\"stroke: #383838; stroke-width: 1.0;\"/><text fill=\"#000000\" font-family=\"sans-serif\" font-size=\"13\" lengthAdjust=\"spacingAndGlyphs\" textLength=\"62\" x=\"207.5\" y=\"193.0669\">«subject»</text></a><!--MD5=[02c70b7c851c11e3980e4e90450dc5dd]\n",
       "link E6 to E7--><a href=\"psysml:ca392d64-6b44-4e33-bff2-bf36fcd3e380\" target=\"_top\" title=\"psysml:ca392d64-6b44-4e33-bff2-bf36fcd3e380\" xlink:actuate=\"onRequest\" xlink:href=\"psysml:ca392d64-6b44-4e33-bff2-bf36fcd3e380\" xlink:show=\"new\" xlink:title=\"psysml:ca392d64-6b44-4e33-bff2-bf36fcd3e380\" xlink:type=\"simple\"><path d=\"M171.07,155.46 C214.45,161.44 269.72,169.06 309.88,174.6 \" fill=\"none\" id=\"E6-&gt;E7\" style=\"stroke: #383838; stroke-width: 1.0;\"/><polygon fill=\"#383838\" points=\"317.96,175.72,310.4482,171.6491,309.6236,177.5922,317.96,175.72\" style=\"stroke: #383838; stroke-width: 1.0;\"/><text fill=\"#000000\" font-family=\"sans-serif\" font-size=\"13\" lengthAdjust=\"spacingAndGlyphs\" textLength=\"73\" x=\"202\" y=\"156.0669\">«objective»</text><text fill=\"#000000\" font-family=\"sans-serif\" font-size=\"13\" lengthAdjust=\"spacingAndGlyphs\" textLength=\"7\" x=\"302.9849\" y=\"188.028\">*</text></a><!--MD5=[5c3bb36fe832a92c7f0e1807dd65209d]\n",
       "link E9 to E2--><a href=\"psysml:e35a8663-5a9e-49b1-9953-8d2b3225b6ac\" target=\"_top\" title=\"psysml:e35a8663-5a9e-49b1-9953-8d2b3225b6ac\" xlink:actuate=\"onRequest\" xlink:href=\"psysml:e35a8663-5a9e-49b1-9953-8d2b3225b6ac\" xlink:show=\"new\" xlink:title=\"psysml:e35a8663-5a9e-49b1-9953-8d2b3225b6ac\" xlink:type=\"simple\"><path d=\"M171.2,307.99 C203.2,307.18 241.69,305.05 276,300 C292.71,297.54 310.86,293.25 326.28,289.11 \" fill=\"none\" id=\"E9-&gt;E2\" style=\"stroke: #383838; stroke-width: 1.0; stroke-dasharray: 7.0,7.0;\"/><polygon fill=\"#383838\" points=\"331.4,287.71,321.6613,286.2409,326.5792,289.0364,323.7836,293.9543,331.4,287.71\" style=\"stroke: #383838; stroke-width: 1.0;\"/><text fill=\"#000000\" font-family=\"sans-serif\" font-size=\"13\" lengthAdjust=\"spacingAndGlyphs\" textLength=\"62\" x=\"207.5\" y=\"296.0669\">«subject»</text></a><!--MD5=[35e5f1cbde42fa304a029880aa2bc7f2]\n",
       "link E9 to E10--><a href=\"psysml:a2e94b2d-09ed-4b49-b784-abde9df75390\" target=\"_top\" title=\"psysml:a2e94b2d-09ed-4b49-b784-abde9df75390\" xlink:actuate=\"onRequest\" xlink:href=\"psysml:a2e94b2d-09ed-4b49-b784-abde9df75390\" xlink:show=\"new\" xlink:title=\"psysml:a2e94b2d-09ed-4b49-b784-abde9df75390\" xlink:type=\"simple\"><path d=\"M171.07,325.34 C214.54,336.33 269.95,350.34 310.13,360.5 \" fill=\"none\" id=\"E9-&gt;E10\" style=\"stroke: #383838; stroke-width: 1.0;\"/><polygon fill=\"#383838\" points=\"317.96,362.48,310.937,357.6141,309.4692,363.4318,317.96,362.48\" style=\"stroke: #383838; stroke-width: 1.0;\"/><text fill=\"#000000\" font-family=\"sans-serif\" font-size=\"13\" lengthAdjust=\"spacingAndGlyphs\" textLength=\"73\" x=\"202\" y=\"330.0669\">«objective»</text><text fill=\"#000000\" font-family=\"sans-serif\" font-size=\"13\" lengthAdjust=\"spacingAndGlyphs\" textLength=\"7\" x=\"302.9849\" y=\"373.9529\">*</text></a><!--MD5=[7c85468154320bfe85e8e04122d214e5]\n",
       "@startuml\r\n",
       "left to right direction\r\n",
       "skinparam monochrome true\r\n",
       "skinparam classbackgroundcolor white\r\n",
       "skinparam shadowing false\r\n",
       "skinparam wrapWidth 300\r\n",
       "hide circle\r\n",
       "\r\n",
       "package \"VerificationTest\" as E1  [[psysml:7303dfcd-df1a-4034-bc74-eb93457ec7c0 ]]  {\r\n",
       "comp def \"V\" as E2  <<(T,blue) part def>> [[psysml:ee2cd088-4b38-485a-bdcf-f034eebaa933 ]] {\r\n",
       "}\r\n",
       "comp usage \"vv: V\" as E3  <<(T,blue) part>> [[psysml:ea23779d-7b91-41e0-a4d1-5f0745e774d2 ]] {\r\n",
       "}\r\n",
       "comp def \"R\" as E4  <<(T,blue) requirement def>> [[psysml:971e85b9-9957-4674-90a7-be3bf98856c5 ]] {\r\n",
       "...\r\n",
       "- -\r\n",
       "}\r\n",
       "comp usage \"r: R\" as E5  <<(T,blue) requirement>> [[psysml:bbcd2223-85a4-4701-a24f-5592c5712336 ]] {\r\n",
       "}\r\n",
       "comp def \"VerificationCase\" as E6  <<(T,blue) verificationCase def>> [[psysml:f44943ce-87bd-4d2b-91db-f66bd879bf72 ]] {\r\n",
       "}\r\n",
       "comp usage \"obj\" as E7  <<(T,blue) requirement>> [[psysml:c1b61795-7b30-4440-a267-41d24baf94c2 ]] {\r\n",
       "- - requirements - -\r\n",
       "<b>require</b> : R\r\n",
       "}\r\n",
       "comp def \"VerificationPlan\" as E9  <<(T,blue) verificationCase def>> [[psysml:109e665d-9569-4e28-8454-db86a3b7365b ]] {\r\n",
       "}\r\n",
       "comp usage \"obj\" as E10  <<(T,blue) requirement>> [[psysml:7031c3a4-5568-406f-9713-a580e51688a6 ]] {\r\n",
       "- - requirements - -\r\n",
       "<b>require</b> r\r\n",
       "}\r\n",
       "comp usage \"verificationContext\" as E12  <<(T,blue) part>> [[psysml:1ba0f1fa-2142-46f9-b759-d2e88bd368a2 ]] {\r\n",
       "}\r\n",
       "}\r\n",
       "E3 - -:|> E2 [[psysml:2b222a15-a90b-432a-993d-d339516ea993 ]] \r\n",
       "E5 - -:|> E4 [[psysml:4afeeb28-a204-4e17-a080-31f9a6d380ec ]] \r\n",
       "E6 ..> E2 [[psysml:0a65a73b-aad1-46f6-97e3-b503c188383c ]] : <<subject>>\r\n",
       "E6 - ->> \"*\"E7 [[psysml:ca392d64-6b44-4e33-bff2-bf36fcd3e380 ]] : <<objective>>\r\n",
       "E9 ..> E2 [[psysml:e35a8663-5a9e-49b1-9953-8d2b3225b6ac ]] : <<subject>>\r\n",
       "E9 - ->> \"*\"E10 [[psysml:a2e94b2d-09ed-4b49-b784-abde9df75390 ]] : <<objective>>\r\n",
       "@enduml\r\n",
       "\n",
       "PlantUML version 1.2020.13(Sat Jun 13 12:26:38 UTC 2020)\n",
       "(EPL source distribution)\n",
       "Java Runtime: OpenJDK Runtime Environment\n",
       "JVM: OpenJDK 64-Bit Server VM\n",
       "Default Encoding: UTF-8\n",
       "Language: en\n",
       "Country: null\n",
       "--></g></svg>"
      ]
     },
     "execution_count": 17,
     "metadata": {},
     "output_type": "execute_result"
    }
   ],
   "source": [
    "%viz --style=\"LR\" --view=\"Tree\" \"VerificationTest\""
   ]
  },
  {
   "cell_type": "code",
   "execution_count": 18,
   "id": "f4ba2ccd",
   "metadata": {
    "execution": {
     "iopub.execute_input": "2021-10-03T08:26:48.055964Z",
     "iopub.status.busy": "2021-10-03T08:26:48.055532Z",
     "iopub.status.idle": "2021-10-03T08:26:48.061405Z",
     "shell.execute_reply": "2021-10-03T08:26:48.061718Z"
    }
   },
   "outputs": [
    {
     "data": {
      "image/svg+xml": [
       "<?xml version=\"1.0\" encoding=\"UTF-8\" standalone=\"no\"?><svg xmlns=\"http://www.w3.org/2000/svg\" xmlns:xlink=\"http://www.w3.org/1999/xlink\" contentScriptType=\"application/ecmascript\" contentStyleType=\"text/css\" height=\"12px\" preserveAspectRatio=\"none\" style=\"width:12px;height:12px;\" version=\"1.1\" viewBox=\"0 0 12 12\" width=\"12px\" zoomAndPan=\"magnify\"><defs/><g><!--MD5=[19d285c9d72a204eba4e2cd117d745e8]\n",
       "@startuml\r\n",
       "left to right direction\r\n",
       "skinparam monochrome true\r\n",
       "skinparam classbackgroundcolor white\r\n",
       "skinparam shadowing false\r\n",
       "skinparam wrapWidth 300\r\n",
       "hide circle\r\n",
       "\r\n",
       "@enduml\r\n",
       "\n",
       "PlantUML version 1.2020.13(Sat Jun 13 12:26:38 UTC 2020)\n",
       "(EPL source distribution)\n",
       "Java Runtime: OpenJDK Runtime Environment\n",
       "JVM: OpenJDK 64-Bit Server VM\n",
       "Default Encoding: UTF-8\n",
       "Language: en\n",
       "Country: null\n",
       "--></g></svg>"
      ]
     },
     "execution_count": 18,
     "metadata": {},
     "output_type": "execute_result"
    }
   ],
   "source": [
    "%viz --style=\"LR\" --view=\"State\" \"VerificationTest\""
   ]
  },
  {
   "cell_type": "code",
   "execution_count": 19,
   "id": "baa76e37",
   "metadata": {
    "execution": {
     "iopub.execute_input": "2021-10-03T08:26:48.111464Z",
     "iopub.status.busy": "2021-10-03T08:26:48.111066Z",
     "iopub.status.idle": "2021-10-03T08:26:48.181487Z",
     "shell.execute_reply": "2021-10-03T08:26:48.181123Z"
    }
   },
   "outputs": [
    {
     "data": {
      "image/svg+xml": [
       "<?xml version=\"1.0\" encoding=\"UTF-8\" standalone=\"no\"?><svg xmlns=\"http://www.w3.org/2000/svg\" xmlns:xlink=\"http://www.w3.org/1999/xlink\" contentScriptType=\"application/ecmascript\" contentStyleType=\"text/css\" height=\"684px\" preserveAspectRatio=\"none\" style=\"width:846px;height:684px;\" version=\"1.1\" viewBox=\"0 0 846 684\" width=\"846px\" zoomAndPan=\"magnify\"><defs/><g><!--MD5=[fbc87193dbaf4d95561dea2c320d4a47]\n",
       "cluster E1--><a href=\"psysml:7303dfcd-df1a-4034-bc74-eb93457ec7c0\" target=\"_top\" title=\"psysml:7303dfcd-df1a-4034-bc74-eb93457ec7c0\" xlink:actuate=\"onRequest\" xlink:href=\"psysml:7303dfcd-df1a-4034-bc74-eb93457ec7c0\" xlink:show=\"new\" xlink:title=\"psysml:7303dfcd-df1a-4034-bc74-eb93457ec7c0\" xlink:type=\"simple\"><polygon fill=\"#FFFFFF\" points=\"16,6,128,6,135,28.2969,824.86,28.2969,824.86,672,16,672,16,6\" style=\"stroke: #000000; stroke-width: 1.5;\"/><line style=\"stroke: #000000; stroke-width: 1.5;\" x1=\"16\" x2=\"135\" y1=\"28.2969\" y2=\"28.2969\"/><text fill=\"#000000\" font-family=\"sans-serif\" font-size=\"14\" font-weight=\"bold\" lengthAdjust=\"spacingAndGlyphs\" textLength=\"106\" x=\"20\" y=\"20.9951\">VerificationTest</text></a><!--MD5=[14e3b0961a2654348d326746436168a1]\n",
       "cluster E6--><a href=\"psysml:f44943ce-87bd-4d2b-91db-f66bd879bf72\" target=\"_top\" title=\"psysml:f44943ce-87bd-4d2b-91db-f66bd879bf72\" xlink:actuate=\"onRequest\" xlink:href=\"psysml:f44943ce-87bd-4d2b-91db-f66bd879bf72\" xlink:show=\"new\" xlink:title=\"psysml:f44943ce-87bd-4d2b-91db-f66bd879bf72\" xlink:type=\"simple\"><rect fill=\"#FFFFFF\" height=\"68\" id=\"E6\" style=\"stroke: #383838; stroke-width: 1.5;\" width=\"566.86\" x=\"159\" y=\"41\"/><rect fill=\"#F8F8F8\" height=\"37.9375\" style=\"stroke: #383838; stroke-width: 1.5;\" width=\"566.86\" x=\"159\" y=\"41\"/><text fill=\"#000000\" font-family=\"sans-serif\" font-size=\"12\" font-style=\"italic\" lengthAdjust=\"spacingAndGlyphs\" textLength=\"137\" x=\"373.93\" y=\"57.1387\">«verificationCase def»</text><text fill=\"#000000\" font-family=\"sans-serif\" font-size=\"12\" lengthAdjust=\"spacingAndGlyphs\" textLength=\"101\" x=\"391.93\" y=\"71.1074\">VerificationCase</text></a><!--MD5=[7f149f147074ac12df2cb0a7728a5fb0]\n",
       "cluster E9--><a href=\"psysml:109e665d-9569-4e28-8454-db86a3b7365b\" target=\"_top\" title=\"psysml:109e665d-9569-4e28-8454-db86a3b7365b\" xlink:actuate=\"onRequest\" xlink:href=\"psysml:109e665d-9569-4e28-8454-db86a3b7365b\" xlink:show=\"new\" xlink:title=\"psysml:109e665d-9569-4e28-8454-db86a3b7365b\" xlink:type=\"simple\"><rect fill=\"#FFFFFF\" height=\"132\" id=\"E9\" style=\"stroke: #383838; stroke-width: 1.5;\" width=\"659.86\" x=\"141\" y=\"139\"/><rect fill=\"#F8F8F8\" height=\"37.9375\" style=\"stroke: #383838; stroke-width: 1.5;\" width=\"659.86\" x=\"141\" y=\"139\"/><text fill=\"#000000\" font-family=\"sans-serif\" font-size=\"12\" font-style=\"italic\" lengthAdjust=\"spacingAndGlyphs\" textLength=\"137\" x=\"402.43\" y=\"155.1387\">«verificationCase def»</text><text fill=\"#000000\" font-family=\"sans-serif\" font-size=\"12\" lengthAdjust=\"spacingAndGlyphs\" textLength=\"97\" x=\"422.43\" y=\"169.1074\">VerificationPlan</text></a><!--MD5=[917b9dd0c7eca3ee5f47219d1a84c0ad]\n",
       "cluster E11--><a href=\"psysml:d8eec309-4539-4ef6-b593-f8d5221313a5\" target=\"_top\" title=\"psysml:d8eec309-4539-4ef6-b593-f8d5221313a5\" xlink:actuate=\"onRequest\" xlink:href=\"psysml:d8eec309-4539-4ef6-b593-f8d5221313a5\" xlink:show=\"new\" xlink:title=\"psysml:d8eec309-4539-4ef6-b593-f8d5221313a5\" xlink:type=\"simple\"><rect fill=\"#FFFFFF\" height=\"68\" id=\"E11\" rx=\"10\" ry=\"10\" style=\"stroke: #383838; stroke-width: 1.5;\" width=\"309.86\" x=\"453\" y=\"177\"/><rect fill=\"#F8F8F8\" height=\"37.9375\" rx=\"10\" ry=\"10\" style=\"stroke: #F8F8F8; stroke-width: 1.5;\" width=\"309.86\" x=\"453\" y=\"177\"/><rect fill=\"#F8F8F8\" height=\"10\" style=\"stroke: #F8F8F8; stroke-width: 1.5;\" width=\"309.86\" x=\"453\" y=\"204.9375\"/><rect fill=\"none\" height=\"68\" id=\"E11\" rx=\"10\" ry=\"10\" style=\"stroke: #383838; stroke-width: 1.5;\" width=\"309.86\" x=\"453\" y=\"177\"/><text fill=\"#000000\" font-family=\"sans-serif\" font-size=\"12\" font-style=\"italic\" lengthAdjust=\"spacingAndGlyphs\" textLength=\"113\" x=\"551.43\" y=\"193.1387\">«verificationCase»</text><text fill=\"#000000\" font-family=\"sans-serif\" font-size=\"12\" lengthAdjust=\"spacingAndGlyphs\" textLength=\"99\" x=\"558.43\" y=\"207.1074\">verificationCase</text><line style=\"stroke: #383838; stroke-width: 1.0;\" x1=\"453\" x2=\"762.86\" y1=\"214.9375\" y2=\"214.9375\"/></a><!--MD5=[ab3548ab6224ff035c4047a4d30b7567]\n",
       "cluster E15--><a href=\"psysml:1ba0f1fa-2142-46f9-b759-d2e88bd368a2\" target=\"_top\" title=\"psysml:1ba0f1fa-2142-46f9-b759-d2e88bd368a2\" xlink:actuate=\"onRequest\" xlink:href=\"psysml:1ba0f1fa-2142-46f9-b759-d2e88bd368a2\" xlink:show=\"new\" xlink:title=\"psysml:1ba0f1fa-2142-46f9-b759-d2e88bd368a2\" xlink:type=\"simple\"><rect fill=\"#FFFFFF\" height=\"103\" id=\"E15\" rx=\"10\" ry=\"10\" style=\"stroke: #383838; stroke-width: 1.5;\" width=\"475.5\" x=\"40\" y=\"337\"/><rect fill=\"#F8F8F8\" height=\"23.9688\" rx=\"10\" ry=\"10\" style=\"stroke: #F8F8F8; stroke-width: 1.5;\" width=\"475.5\" x=\"40\" y=\"337\"/><rect fill=\"#F8F8F8\" height=\"10\" style=\"stroke: #F8F8F8; stroke-width: 1.5;\" width=\"475.5\" x=\"40\" y=\"350.9688\"/><rect fill=\"none\" height=\"103\" id=\"E15\" rx=\"10\" ry=\"10\" style=\"stroke: #383838; stroke-width: 1.5;\" width=\"475.5\" x=\"40\" y=\"337\"/><text fill=\"#000000\" font-family=\"sans-serif\" font-size=\"12\" lengthAdjust=\"spacingAndGlyphs\" textLength=\"116\" x=\"219.75\" y=\"353.1387\">verificationContext</text><line style=\"stroke: #383838; stroke-width: 1.0;\" x1=\"40\" x2=\"515.5\" y1=\"360.9688\" y2=\"360.9688\"/></a><!--MD5=[ebbe1d658d1005bcc118a6aa81145e00]\n",
       "class E4--><a href=\"psysml:971e85b9-9957-4674-90a7-be3bf98856c5\" target=\"_top\" title=\"psysml:971e85b9-9957-4674-90a7-be3bf98856c5\" xlink:actuate=\"onRequest\" xlink:href=\"psysml:971e85b9-9957-4674-90a7-be3bf98856c5\" xlink:show=\"new\" xlink:title=\"psysml:971e85b9-9957-4674-90a7-be3bf98856c5\" xlink:type=\"simple\"><rect fill=\"#FFFFFF\" height=\"66.7422\" id=\"E4\" style=\"stroke: #383838; stroke-width: 1.5;\" width=\"117\" x=\"394.5\" y=\"456.5\"/><text fill=\"#000000\" font-family=\"sans-serif\" font-size=\"12\" font-style=\"italic\" lengthAdjust=\"spacingAndGlyphs\" textLength=\"115\" x=\"395.5\" y=\"472.6387\">«requirement def»</text><text fill=\"#000000\" font-family=\"sans-serif\" font-size=\"12\" lengthAdjust=\"spacingAndGlyphs\" textLength=\"8\" x=\"449\" y=\"486.6074\">R</text><line style=\"stroke: #383838; stroke-width: 1.5;\" x1=\"395.5\" x2=\"510.5\" y1=\"494.4375\" y2=\"494.4375\"/><text fill=\"#000000\" font-family=\"sans-serif\" font-size=\"11\" lengthAdjust=\"spacingAndGlyphs\" textLength=\"12\" x=\"400.5\" y=\"508.6479\">...</text><line style=\"stroke: #383838; stroke-width: 1.0;\" x1=\"395.5\" x2=\"510.5\" y1=\"515.2422\" y2=\"515.2422\"/></a><!--MD5=[270fce915f116d4de14055a7c1d9a0f3]\n",
       "class E5--><a href=\"psysml:bbcd2223-85a4-4701-a24f-5592c5712336\" target=\"_top\" title=\"psysml:bbcd2223-85a4-4701-a24f-5592c5712336\" xlink:actuate=\"onRequest\" xlink:href=\"psysml:bbcd2223-85a4-4701-a24f-5592c5712336\" xlink:show=\"new\" xlink:title=\"psysml:bbcd2223-85a4-4701-a24f-5592c5712336\" xlink:type=\"simple\"><rect fill=\"#FFFFFF\" height=\"45.9375\" id=\"E5\" rx=\"10\" ry=\"10\" style=\"stroke: #383838; stroke-width: 1.5;\" width=\"93\" x=\"112.5\" y=\"456\"/><text fill=\"#000000\" font-family=\"sans-serif\" font-size=\"12\" font-style=\"italic\" lengthAdjust=\"spacingAndGlyphs\" textLength=\"91\" x=\"113.5\" y=\"472.1387\">«requirement»</text><text fill=\"#000000\" font-family=\"sans-serif\" font-size=\"12\" lengthAdjust=\"spacingAndGlyphs\" textLength=\"21\" x=\"148.5\" y=\"486.1074\">r: R</text><line style=\"stroke: #383838; stroke-width: 1.5;\" x1=\"113.5\" x2=\"204.5\" y1=\"493.9375\" y2=\"493.9375\"/></a><g id=\"E1.E2\"><a href=\"psysml:ee2cd088-4b38-485a-bdcf-f034eebaa933\" target=\"_top\" title=\"psysml:ee2cd088-4b38-485a-bdcf-f034eebaa933\" xlink:actuate=\"onRequest\" xlink:href=\"psysml:ee2cd088-4b38-485a-bdcf-f034eebaa933\" xlink:show=\"new\" xlink:title=\"psysml:ee2cd088-4b38-485a-bdcf-f034eebaa933\" xlink:type=\"simple\"><rect fill=\"#FFFFFF\" height=\"42.9375\" id=\"E2\" style=\"stroke: #383838; stroke-width: 1.5;\" width=\"71\" x=\"123.5\" y=\"537.5\"/><rect fill=\"#F8F8F8\" height=\"37.9375\" style=\"stroke: #383838; stroke-width: 1.5;\" width=\"71\" x=\"123.5\" y=\"537.5\"/><text fill=\"#000000\" font-family=\"sans-serif\" font-size=\"12\" font-style=\"italic\" lengthAdjust=\"spacingAndGlyphs\" textLength=\"64\" x=\"127\" y=\"553.6387\">«part def»</text><text fill=\"#000000\" font-family=\"sans-serif\" font-size=\"12\" lengthAdjust=\"spacingAndGlyphs\" textLength=\"8\" x=\"155\" y=\"567.6074\">V</text></a></g><g id=\"E1.E3\"><a href=\"psysml:ea23779d-7b91-41e0-a4d1-5f0745e774d2\" target=\"_top\" title=\"psysml:ea23779d-7b91-41e0-a4d1-5f0745e774d2\" xlink:actuate=\"onRequest\" xlink:href=\"psysml:ea23779d-7b91-41e0-a4d1-5f0745e774d2\" xlink:show=\"new\" xlink:title=\"psysml:ea23779d-7b91-41e0-a4d1-5f0745e774d2\" xlink:type=\"simple\"><rect fill=\"#FFFFFF\" height=\"40\" id=\"E3\" rx=\"10\" ry=\"10\" style=\"stroke: #383838; stroke-width: 1.5;\" width=\"50\" x=\"134\" y=\"616\"/><rect fill=\"#F8F8F8\" height=\"23.9688\" rx=\"10\" ry=\"10\" style=\"stroke: #F8F8F8; stroke-width: 1.5;\" width=\"50\" x=\"134\" y=\"616\"/><rect fill=\"#F8F8F8\" height=\"10\" style=\"stroke: #F8F8F8; stroke-width: 1.5;\" width=\"50\" x=\"134\" y=\"629.9688\"/><rect fill=\"none\" height=\"40\" id=\"E3\" rx=\"10\" ry=\"10\" style=\"stroke: #383838; stroke-width: 1.5;\" width=\"50\" x=\"134\" y=\"616\"/><text fill=\"#000000\" font-family=\"sans-serif\" font-size=\"12\" lengthAdjust=\"spacingAndGlyphs\" textLength=\"28\" x=\"145\" y=\"632.1387\">vv: V</text></a></g><text fill=\"#000000\" font-family=\"sans-serif\" font-size=\"14\" lengthAdjust=\"spacingAndGlyphs\" textLength=\"7\" x=\"155.5\" y=\"53.6982\">v</text><rect fill=\"#383838\" height=\"12\" style=\"stroke: #F8F8F8; stroke-width: 1.5;\" width=\"12\" x=\"153\" y=\"69\"/><text fill=\"#000000\" font-family=\"sans-serif\" font-size=\"14\" lengthAdjust=\"spacingAndGlyphs\" textLength=\"46\" x=\"702.86\" y=\"53.6982\">verdict</text><rect fill=\"#383838\" height=\"12\" style=\"stroke: #F8F8F8; stroke-width: 1.5;\" width=\"12\" x=\"719.86\" y=\"69\"/><text fill=\"#000000\" font-family=\"sans-serif\" font-size=\"14\" lengthAdjust=\"spacingAndGlyphs\" textLength=\"7\" x=\"155.5\" y=\"289.9951\">v</text><rect fill=\"#383838\" height=\"12\" style=\"stroke: #F8F8F8; stroke-width: 1.5;\" width=\"12\" x=\"153\" y=\"265\"/><text fill=\"#000000\" font-family=\"sans-serif\" font-size=\"14\" lengthAdjust=\"spacingAndGlyphs\" textLength=\"46\" x=\"702.86\" y=\"117.6982\">verdict</text><rect fill=\"#383838\" height=\"12\" style=\"stroke: #F8F8F8; stroke-width: 1.5;\" width=\"12\" x=\"719.86\" y=\"133\"/><text fill=\"#000000\" font-family=\"sans-serif\" font-size=\"14\" lengthAdjust=\"spacingAndGlyphs\" textLength=\"46\" x=\"739.86\" y=\"189.6982\">verdict</text><rect fill=\"#383838\" height=\"12\" style=\"stroke: #F8F8F8; stroke-width: 1.5;\" width=\"12\" x=\"756.86\" y=\"205\"/><text fill=\"#000000\" font-family=\"sans-serif\" font-size=\"14\" lengthAdjust=\"spacingAndGlyphs\" textLength=\"7\" x=\"449.5\" y=\"189.6982\">v</text><rect fill=\"#383838\" height=\"12\" style=\"stroke: #F8F8F8; stroke-width: 1.5;\" width=\"12\" x=\"447\" y=\"205\"/><!--MD5=[35f0587eaee8d5bb9a02e25b63afc23b]\n",
       "class E16--><a href=\"psysml:f139e62b-7bf9-43a0-a382-40038ed35c63\" target=\"_top\" title=\"psysml:f139e62b-7bf9-43a0-a382-40038ed35c63\" xlink:actuate=\"onRequest\" xlink:href=\"psysml:f139e62b-7bf9-43a0-a382-40038ed35c63\" xlink:show=\"new\" xlink:title=\"psysml:f139e62b-7bf9-43a0-a382-40038ed35c63\" xlink:type=\"simple\"><rect fill=\"#FFFFFF\" height=\"45.9375\" id=\"E16\" rx=\"10\" ry=\"10\" style=\"stroke: #383838; stroke-width: 1.5;\" width=\"206\" x=\"56\" y=\"372\"/><text fill=\"#000000\" font-family=\"sans-serif\" font-size=\"12\" font-style=\"italic\" lengthAdjust=\"spacingAndGlyphs\" textLength=\"113\" x=\"102.5\" y=\"388.1387\">«verificationCase»</text><text fill=\"#000000\" font-family=\"sans-serif\" font-size=\"12\" lengthAdjust=\"spacingAndGlyphs\" textLength=\"200\" x=\"59\" y=\"402.1074\">verificationPlan: VerificationPlan</text><line style=\"stroke: #383838; stroke-width: 1.5;\" x1=\"57\" x2=\"261\" y1=\"409.9375\" y2=\"409.9375\"/></a><!--MD5=[60e55a4a9b2f0dc0a36787c5a2095786]\n",
       "class E17--><a href=\"psysml:fe640fc2-093c-44fe-a9fd-0ceecb8f463c\" target=\"_top\" title=\"psysml:fe640fc2-093c-44fe-a9fd-0ceecb8f463c\" xlink:actuate=\"onRequest\" xlink:href=\"psysml:fe640fc2-093c-44fe-a9fd-0ceecb8f463c\" xlink:show=\"new\" xlink:title=\"psysml:fe640fc2-093c-44fe-a9fd-0ceecb8f463c\" xlink:type=\"simple\"><rect fill=\"#FFFFFF\" height=\"45.9375\" id=\"E17\" rx=\"10\" ry=\"10\" style=\"stroke: #383838; stroke-width: 1.5;\" width=\"93\" x=\"406.5\" y=\"372\"/><text fill=\"#000000\" font-family=\"sans-serif\" font-size=\"12\" font-style=\"italic\" lengthAdjust=\"spacingAndGlyphs\" textLength=\"91\" x=\"407.5\" y=\"388.1387\">«requirement»</text><text fill=\"#000000\" font-family=\"sans-serif\" font-size=\"12\" lengthAdjust=\"spacingAndGlyphs\" textLength=\"19\" x=\"443.5\" y=\"402.1074\">obj</text><line style=\"stroke: #383838; stroke-width: 1.5;\" x1=\"407.5\" x2=\"498.5\" y1=\"409.9375\" y2=\"409.9375\"/></a><!--MD5=[1c62de2aa5b76f0fb657ff8443a1a700]\n",
       "link E5 to E4--><a href=\"psysml:4afeeb28-a204-4e17-a080-31f9a6d380ec\" target=\"_top\" title=\"psysml:4afeeb28-a204-4e17-a080-31f9a6d380ec\" xlink:actuate=\"onRequest\" xlink:href=\"psysml:4afeeb28-a204-4e17-a080-31f9a6d380ec\" xlink:show=\"new\" xlink:title=\"psysml:4afeeb28-a204-4e17-a080-31f9a6d380ec\" xlink:type=\"simple\"><path d=\"M205.62,480.72 C250.68,482.42 320.46,485.04 374.27,487.07 \" fill=\"none\" id=\"E5-&gt;E4\" style=\"stroke: #383838; stroke-width: 1.0;\"/><polygon fill=\"#FFFFFF\" points=\"394.4,487.83,375.1486,494.1057,375.6786,480.1157,394.4,487.83\" style=\"stroke: #383838; stroke-width: 1.0;\"/><ellipse cx=\"369.5284\" cy=\"491.8913\" fill=\"#383838\" rx=\"2\" ry=\"2\" style=\"stroke: #383838; stroke-width: 1.0;\"/><ellipse cx=\"369.907\" cy=\"481.8985\" fill=\"#383838\" rx=\"2\" ry=\"2\" style=\"stroke: #383838; stroke-width: 1.0;\"/></a><!--MD5=[4de2d328c39b6d65fb95a84ef336270e]\n",
       "link E16 to E9--><a href=\"psysml:cd73bb42-520f-4e04-8240-7f040abbe442\" target=\"_top\" title=\"psysml:cd73bb42-520f-4e04-8240-7f040abbe442\" xlink:actuate=\"onRequest\" xlink:href=\"psysml:cd73bb42-520f-4e04-8240-7f040abbe442\" xlink:show=\"new\" xlink:title=\"psysml:cd73bb42-520f-4e04-8240-7f040abbe442\" xlink:type=\"simple\"><path d=\"M215.09,371.89 C251.9,356.42 301.38,335.57 345,317 C366.95,307.65 391.4,297.15 411.38,288.54 \" fill=\"none\" id=\"E16-&gt;E9\" style=\"stroke: #383838; stroke-width: 1.0;\"/><polygon fill=\"#FFFFFF\" points=\"411.38,288.54,396.7014,302.4877,391.1609,289.6307,411.38,288.54\" style=\"stroke: #383838; stroke-width: 1.0;\"/><ellipse cx=\"390.6753\" cy=\"302.9068\" fill=\"#383838\" rx=\"2\" ry=\"2\" style=\"stroke: #383838; stroke-width: 1.0;\"/><ellipse cx=\"386.7178\" cy=\"293.7232\" fill=\"#383838\" rx=\"2\" ry=\"2\" style=\"stroke: #383838; stroke-width: 1.0;\"/></a><!--MD5=[450e3481f1c83a03a55fcf78b0bbbde6]\n",
       "link E16 to E17--><a href=\"psysml:e29f10bd-d5bc-4797-97ab-a37fb0e5db5b\" target=\"_top\" title=\"psysml:e29f10bd-d5bc-4797-97ab-a37fb0e5db5b\" xlink:actuate=\"onRequest\" xlink:href=\"psysml:e29f10bd-d5bc-4797-97ab-a37fb0e5db5b\" xlink:show=\"new\" xlink:title=\"psysml:e29f10bd-d5bc-4797-97ab-a37fb0e5db5b\" xlink:type=\"simple\"><path d=\"M262.13,395 C307.84,395 359.89,395 397.91,395 \" fill=\"none\" id=\"E16-&gt;E17\" style=\"stroke: #383838; stroke-width: 1.0;\"/><polygon fill=\"#383838\" points=\"406.29,395,398.29,392,398.29,398,406.29,395\" style=\"stroke: #383838; stroke-width: 1.0;\"/><text fill=\"#000000\" font-family=\"sans-serif\" font-size=\"13\" lengthAdjust=\"spacingAndGlyphs\" textLength=\"73\" x=\"271\" y=\"391.0669\">«objective»</text><text fill=\"#000000\" font-family=\"sans-serif\" font-size=\"13\" lengthAdjust=\"spacingAndGlyphs\" textLength=\"7\" x=\"391.6016\" y=\"408.2303\">*</text></a><!--MD5=[6dcf4911f58d551bacc341e0e748a4e3]\n",
       "@startuml\r\n",
       "skinparam ranksep 10\r\n",
       "skinparam rectangle {\r\n",
       " backgroundColor<<block>> LightGreen\r\n",
       "}\r\n",
       "left to right direction\r\n",
       "skinparam monochrome true\r\n",
       "skinparam classbackgroundcolor white\r\n",
       "skinparam shadowing false\r\n",
       "skinparam wrapWidth 300\r\n",
       "hide circle\r\n",
       "\r\n",
       "package \"VerificationTest\" as E1  [[psysml:7303dfcd-df1a-4034-bc74-eb93457ec7c0 ]]  {\r\n",
       "rec def \"V\" as E2  <<(T,blue) part def>> [[psysml:ee2cd088-4b38-485a-bdcf-f034eebaa933 ]] {\r\n",
       "}\r\n",
       "rec usage \"vv: V\" as E3  [[psysml:ea23779d-7b91-41e0-a4d1-5f0745e774d2 ]] {\r\n",
       "}\r\n",
       "comp def \"R\" as E4  <<(T,blue) requirement def>> [[psysml:971e85b9-9957-4674-90a7-be3bf98856c5 ]] {\r\n",
       "...\r\n",
       "- -\r\n",
       "}\r\n",
       "comp usage \"r: R\" as E5  <<(T,blue) requirement>> [[psysml:bbcd2223-85a4-4701-a24f-5592c5712336 ]] {\r\n",
       "}\r\n",
       "rec def \"VerificationCase\" as E6  <<(T,blue) verificationCase def>> [[psysml:f44943ce-87bd-4d2b-91db-f66bd879bf72 ]] {\r\n",
       "portin \"v\" as E7  [[psysml:39e4c68a-7e48-4018-a595-005447bc25d1 ]] \r\n",
       "portout \"verdict\" as E8  [[psysml:e7480a5a-bc03-4bfb-926c-ff77790341ab ]] \r\n",
       "}\r\n",
       "\r\n",
       "rec def \"VerificationPlan\" as E9  <<(T,blue) verificationCase def>> [[psysml:109e665d-9569-4e28-8454-db86a3b7365b ]] {\r\n",
       "portin \"v\" as E10  [[psysml:bc04aa0f-1251-4bd1-9492-821de83ad0f4 ]] \r\n",
       "rec usage \"verificationCase\" as E11  <<(T,blue) verificationCase>> [[psysml:d8eec309-4539-4ef6-b593-f8d5221313a5 ]] {\r\n",
       "portout \"verdict\" as E12  [[psysml:d4b19012-2d8f-412c-81cb-04106ed54ab9 ]] \r\n",
       "portin \"v\" as E13  [[psysml:101691aa-2b16-4439-bb49-3b5a9750b72a ]] \r\n",
       "}\r\n",
       "\r\n",
       "portout \"verdict\" as E14  [[psysml:d1cc474d-a7ae-4245-8f3b-eac2c389ad3d ]] \r\n",
       "}\r\n",
       "\r\n",
       "rec usage \"verificationContext\" as E15  [[psysml:1ba0f1fa-2142-46f9-b759-d2e88bd368a2 ]] {\r\n",
       "comp usage \"verificationPlan: VerificationPlan\" as E16  <<(T,blue) verificationCase>> [[psysml:f139e62b-7bf9-43a0-a382-40038ed35c63 ]] {\r\n",
       "}\r\n",
       "comp usage \"obj\" as E17  <<(T,blue) requirement>> [[psysml:fe640fc2-093c-44fe-a9fd-0ceecb8f463c ]] {\r\n",
       "}\r\n",
       "}\r\n",
       "}\r\n",
       "E5 - -:|> E4 [[psysml:4afeeb28-a204-4e17-a080-31f9a6d380ec ]] \r\n",
       "E16 - -:|> E9 [[psysml:cd73bb42-520f-4e04-8240-7f040abbe442 ]] \r\n",
       "E16 - ->> \"*\"E17 [[psysml:e29f10bd-d5bc-4797-97ab-a37fb0e5db5b ]] : <<objective>>\r\n",
       "@enduml\r\n",
       "\n",
       "PlantUML version 1.2020.13(Sat Jun 13 12:26:38 UTC 2020)\n",
       "(EPL source distribution)\n",
       "Java Runtime: OpenJDK Runtime Environment\n",
       "JVM: OpenJDK 64-Bit Server VM\n",
       "Default Encoding: UTF-8\n",
       "Language: en\n",
       "Country: null\n",
       "--></g></svg>"
      ]
     },
     "execution_count": 19,
     "metadata": {},
     "output_type": "execute_result"
    }
   ],
   "source": [
    "%viz --style=\"LR\" --view=\"Interconnection\" \"VerificationTest\""
   ]
  },
  {
   "cell_type": "code",
   "execution_count": 20,
   "id": "6ee5c7e8",
   "metadata": {
    "execution": {
     "iopub.execute_input": "2021-10-03T08:26:48.230719Z",
     "iopub.status.busy": "2021-10-03T08:26:48.230316Z",
     "iopub.status.idle": "2021-10-03T08:26:48.275010Z",
     "shell.execute_reply": "2021-10-03T08:26:48.274658Z"
    }
   },
   "outputs": [
    {
     "data": {
      "image/svg+xml": [
       "<?xml version=\"1.0\" encoding=\"UTF-8\" standalone=\"no\"?><svg xmlns=\"http://www.w3.org/2000/svg\" xmlns:xlink=\"http://www.w3.org/1999/xlink\" contentScriptType=\"application/ecmascript\" contentStyleType=\"text/css\" height=\"358px\" preserveAspectRatio=\"none\" style=\"width:456px;height:358px;\" version=\"1.1\" viewBox=\"0 0 456 358\" width=\"456px\" zoomAndPan=\"magnify\"><defs/><g><!--MD5=[fbc87193dbaf4d95561dea2c320d4a47]\n",
       "cluster E1--><a href=\"psysml:f44943ce-87bd-4d2b-91db-f66bd879bf72\" target=\"_top\" title=\"psysml:f44943ce-87bd-4d2b-91db-f66bd879bf72\" xlink:actuate=\"onRequest\" xlink:href=\"psysml:f44943ce-87bd-4d2b-91db-f66bd879bf72\" xlink:show=\"new\" xlink:title=\"psysml:f44943ce-87bd-4d2b-91db-f66bd879bf72\" xlink:type=\"simple\"><rect fill=\"#FFFFFF\" height=\"68\" id=\"E1\" style=\"stroke: #383838; stroke-width: 1.5;\" width=\"362\" x=\"25\" y=\"279\"/><rect fill=\"#F8F8F8\" height=\"37.9375\" style=\"stroke: #383838; stroke-width: 1.5;\" width=\"362\" x=\"25\" y=\"279\"/><text fill=\"#000000\" font-family=\"sans-serif\" font-size=\"12\" font-style=\"italic\" lengthAdjust=\"spacingAndGlyphs\" textLength=\"137\" x=\"137.5\" y=\"295.1387\">«verificationCase def»</text><text fill=\"#000000\" font-family=\"sans-serif\" font-size=\"12\" lengthAdjust=\"spacingAndGlyphs\" textLength=\"101\" x=\"155.5\" y=\"309.1074\">VerificationCase</text></a><!--MD5=[f6df4d0ebaf0b5dfb2ced0ae5af7c670]\n",
       "cluster E4--><a href=\"psysml:109e665d-9569-4e28-8454-db86a3b7365b\" target=\"_top\" title=\"psysml:109e665d-9569-4e28-8454-db86a3b7365b\" xlink:actuate=\"onRequest\" xlink:href=\"psysml:109e665d-9569-4e28-8454-db86a3b7365b\" xlink:show=\"new\" xlink:title=\"psysml:109e665d-9569-4e28-8454-db86a3b7365b\" xlink:type=\"simple\"><rect fill=\"#FFFFFF\" height=\"135\" id=\"E4\" style=\"stroke: #383838; stroke-width: 1.5;\" width=\"438\" x=\"7\" y=\"102\"/><rect fill=\"#F8F8F8\" height=\"37.9375\" style=\"stroke: #383838; stroke-width: 1.5;\" width=\"438\" x=\"7\" y=\"102\"/><text fill=\"#000000\" font-family=\"sans-serif\" font-size=\"12\" font-style=\"italic\" lengthAdjust=\"spacingAndGlyphs\" textLength=\"137\" x=\"157.5\" y=\"118.1387\">«verificationCase def»</text><text fill=\"#000000\" font-family=\"sans-serif\" font-size=\"12\" lengthAdjust=\"spacingAndGlyphs\" textLength=\"97\" x=\"177.5\" y=\"132.1074\">VerificationPlan</text></a><!--MD5=[14e3b0961a2654348d326746436168a1]\n",
       "cluster E6--><a href=\"psysml:d8eec309-4539-4ef6-b593-f8d5221313a5\" target=\"_top\" title=\"psysml:d8eec309-4539-4ef6-b593-f8d5221313a5\" xlink:actuate=\"onRequest\" xlink:href=\"psysml:d8eec309-4539-4ef6-b593-f8d5221313a5\" xlink:show=\"new\" xlink:title=\"psysml:d8eec309-4539-4ef6-b593-f8d5221313a5\" xlink:type=\"simple\"><rect fill=\"#FFFFFF\" height=\"68\" id=\"E6\" rx=\"10\" ry=\"10\" style=\"stroke: #383838; stroke-width: 1.5;\" width=\"284\" x=\"131\" y=\"143\"/><rect fill=\"#F8F8F8\" height=\"37.9375\" rx=\"10\" ry=\"10\" style=\"stroke: #F8F8F8; stroke-width: 1.5;\" width=\"284\" x=\"131\" y=\"143\"/><rect fill=\"#F8F8F8\" height=\"10\" style=\"stroke: #F8F8F8; stroke-width: 1.5;\" width=\"284\" x=\"131\" y=\"170.9375\"/><rect fill=\"none\" height=\"68\" id=\"E6\" rx=\"10\" ry=\"10\" style=\"stroke: #383838; stroke-width: 1.5;\" width=\"284\" x=\"131\" y=\"143\"/><text fill=\"#000000\" font-family=\"sans-serif\" font-size=\"12\" font-style=\"italic\" lengthAdjust=\"spacingAndGlyphs\" textLength=\"113\" x=\"216.5\" y=\"159.1387\">«verificationCase»</text><text fill=\"#000000\" font-family=\"sans-serif\" font-size=\"12\" lengthAdjust=\"spacingAndGlyphs\" textLength=\"99\" x=\"223.5\" y=\"173.1074\">verificationCase</text><line style=\"stroke: #383838; stroke-width: 1.0;\" x1=\"131\" x2=\"415\" y1=\"180.9375\" y2=\"180.9375\"/></a><!--MD5=[a84b4591f868c1fa4a211716a82f2f0d]\n",
       "cluster E10--><a href=\"psysml:f139e62b-7bf9-43a0-a382-40038ed35c63\" target=\"_top\" title=\"psysml:f139e62b-7bf9-43a0-a382-40038ed35c63\" xlink:actuate=\"onRequest\" xlink:href=\"psysml:f139e62b-7bf9-43a0-a382-40038ed35c63\" xlink:show=\"new\" xlink:title=\"psysml:f139e62b-7bf9-43a0-a382-40038ed35c63\" xlink:type=\"simple\"><rect fill=\"#FFFFFF\" height=\"48\" id=\"E10\" rx=\"10\" ry=\"10\" style=\"stroke: #383838; stroke-width: 1.5;\" width=\"380\" x=\"25\" y=\"7\"/><rect fill=\"#F8F8F8\" height=\"37.9375\" rx=\"10\" ry=\"10\" style=\"stroke: #F8F8F8; stroke-width: 1.5;\" width=\"380\" x=\"25\" y=\"7\"/><rect fill=\"#F8F8F8\" height=\"10\" style=\"stroke: #F8F8F8; stroke-width: 1.5;\" width=\"380\" x=\"25\" y=\"34.9375\"/><rect fill=\"none\" height=\"48\" id=\"E10\" rx=\"10\" ry=\"10\" style=\"stroke: #383838; stroke-width: 1.5;\" width=\"380\" x=\"25\" y=\"7\"/><text fill=\"#000000\" font-family=\"sans-serif\" font-size=\"12\" font-style=\"italic\" lengthAdjust=\"spacingAndGlyphs\" textLength=\"113\" x=\"158.5\" y=\"23.1387\">«verificationCase»</text><text fill=\"#000000\" font-family=\"sans-serif\" font-size=\"12\" lengthAdjust=\"spacingAndGlyphs\" textLength=\"95\" x=\"167.5\" y=\"37.1074\">verificationPlan</text><line style=\"stroke: #383838; stroke-width: 1.0;\" x1=\"25\" x2=\"405\" y1=\"44.9375\" y2=\"44.9375\"/></a><text fill=\"#000000\" font-family=\"sans-serif\" font-size=\"14\" lengthAdjust=\"spacingAndGlyphs\" textLength=\"7\" x=\"21.5\" y=\"291.6982\">v</text><rect fill=\"#383838\" height=\"12\" style=\"stroke: #F8F8F8; stroke-width: 1.5;\" width=\"12\" x=\"19\" y=\"307\"/><text fill=\"#000000\" font-family=\"sans-serif\" font-size=\"14\" lengthAdjust=\"spacingAndGlyphs\" textLength=\"46\" x=\"364\" y=\"291.6982\">verdict</text><rect fill=\"#383838\" height=\"12\" style=\"stroke: #F8F8F8; stroke-width: 1.5;\" width=\"12\" x=\"381\" y=\"307\"/><text fill=\"#000000\" font-family=\"sans-serif\" font-size=\"14\" lengthAdjust=\"spacingAndGlyphs\" textLength=\"7\" x=\"21.5\" y=\"255.9951\">v</text><rect fill=\"#383838\" height=\"12\" style=\"stroke: #F8F8F8; stroke-width: 1.5;\" width=\"12\" x=\"19\" y=\"231\"/><text fill=\"#000000\" font-family=\"sans-serif\" font-size=\"14\" lengthAdjust=\"spacingAndGlyphs\" textLength=\"46\" x=\"364\" y=\"80.6982\">verdict</text><rect fill=\"#383838\" height=\"12\" style=\"stroke: #F8F8F8; stroke-width: 1.5;\" width=\"12\" x=\"381\" y=\"96\"/><text fill=\"#000000\" font-family=\"sans-serif\" font-size=\"14\" lengthAdjust=\"spacingAndGlyphs\" textLength=\"46\" x=\"392\" y=\"155.6982\">verdict</text><rect fill=\"#383838\" height=\"12\" style=\"stroke: #F8F8F8; stroke-width: 1.5;\" width=\"12\" x=\"409\" y=\"171\"/><text fill=\"#000000\" font-family=\"sans-serif\" font-size=\"14\" lengthAdjust=\"spacingAndGlyphs\" textLength=\"7\" x=\"127.5\" y=\"155.6982\">v</text><rect fill=\"#383838\" height=\"12\" style=\"stroke: #F8F8F8; stroke-width: 1.5;\" width=\"12\" x=\"125\" y=\"171\"/><text fill=\"#000000\" font-family=\"sans-serif\" font-size=\"14\" lengthAdjust=\"spacingAndGlyphs\" textLength=\"7\" x=\"21.5\" y=\"59.9951\">v</text><rect fill=\"#383838\" height=\"12\" style=\"stroke: #F8F8F8; stroke-width: 1.5;\" width=\"12\" x=\"19\" y=\"35\"/><text fill=\"#000000\" font-family=\"sans-serif\" font-size=\"14\" lengthAdjust=\"spacingAndGlyphs\" textLength=\"46\" x=\"364\" y=\"73.9951\">verdict</text><rect fill=\"#383838\" height=\"12\" style=\"stroke: #F8F8F8; stroke-width: 1.5;\" width=\"12\" x=\"381\" y=\"49\"/><!--MD5=[f08c4e97c6ad6f6d072978eedcdd0fba]\n",
       "@startuml\r\n",
       "skinparam ranksep 8\r\n",
       "left to right direction\r\n",
       "skinparam monochrome true\r\n",
       "skinparam classbackgroundcolor white\r\n",
       "skinparam shadowing false\r\n",
       "skinparam wrapWidth 300\r\n",
       "hide circle\r\n",
       "\r\n",
       "rec def \"VerificationCase\" as E1  <<(T,blue) verificationCase def>> [[psysml:f44943ce-87bd-4d2b-91db-f66bd879bf72 ]] {\r\n",
       "portin \"v\" as E2  [[psysml:39e4c68a-7e48-4018-a595-005447bc25d1 ]] \r\n",
       "portout \"verdict\" as E3  [[psysml:e7480a5a-bc03-4bfb-926c-ff77790341ab ]] \r\n",
       "}\r\n",
       "\r\n",
       "rec def \"VerificationPlan\" as E4  <<(T,blue) verificationCase def>> [[psysml:109e665d-9569-4e28-8454-db86a3b7365b ]] {\r\n",
       "portin \"v\" as E5  [[psysml:bc04aa0f-1251-4bd1-9492-821de83ad0f4 ]] \r\n",
       "rec usage \"verificationCase\" as E6  <<(T,blue) verificationCase>> [[psysml:d8eec309-4539-4ef6-b593-f8d5221313a5 ]] {\r\n",
       "portout \"verdict\" as E7  [[psysml:d4b19012-2d8f-412c-81cb-04106ed54ab9 ]] \r\n",
       "portin \"v\" as E8  [[psysml:101691aa-2b16-4439-bb49-3b5a9750b72a ]] \r\n",
       "}\r\n",
       "\r\n",
       "portout \"verdict\" as E9  [[psysml:d1cc474d-a7ae-4245-8f3b-eac2c389ad3d ]] \r\n",
       "}\r\n",
       "\r\n",
       "rec usage \"verificationPlan\" as E10  <<(T,blue) verificationCase>> [[psysml:f139e62b-7bf9-43a0-a382-40038ed35c63 ]] {\r\n",
       "portin \"v\" as E11  [[psysml:e60d74c1-8e27-4253-b6e4-c059af187aab ]] \r\n",
       "portout \"verdict\" as E12  [[psysml:d1cf56c3-055d-4e01-94eb-7c3e50de0a09 ]] \r\n",
       "}\r\n",
       "\r\n",
       "@enduml\r\n",
       "\n",
       "PlantUML version 1.2020.13(Sat Jun 13 12:26:38 UTC 2020)\n",
       "(EPL source distribution)\n",
       "Java Runtime: OpenJDK Runtime Environment\n",
       "JVM: OpenJDK 64-Bit Server VM\n",
       "Default Encoding: UTF-8\n",
       "Language: en\n",
       "Country: null\n",
       "--></g></svg>"
      ]
     },
     "execution_count": 20,
     "metadata": {},
     "output_type": "execute_result"
    }
   ],
   "source": [
    "%viz --style=\"LR\" --view=\"Action\" \"VerificationTest\""
   ]
  },
  {
   "cell_type": "code",
   "execution_count": 21,
   "id": "b0a4d68b",
   "metadata": {
    "execution": {
     "iopub.execute_input": "2021-10-03T08:26:48.324646Z",
     "iopub.status.busy": "2021-10-03T08:26:48.324229Z",
     "iopub.status.idle": "2021-10-03T08:26:48.330623Z",
     "shell.execute_reply": "2021-10-03T08:26:48.330917Z"
    }
   },
   "outputs": [
    {
     "data": {
      "image/svg+xml": [
       "<?xml version=\"1.0\" encoding=\"UTF-8\" standalone=\"no\"?><svg xmlns=\"http://www.w3.org/2000/svg\" xmlns:xlink=\"http://www.w3.org/1999/xlink\" contentScriptType=\"application/ecmascript\" contentStyleType=\"text/css\" height=\"12px\" preserveAspectRatio=\"none\" style=\"width:12px;height:12px;\" version=\"1.1\" viewBox=\"0 0 12 12\" width=\"12px\" zoomAndPan=\"magnify\"><defs/><g><!--MD5=[238c11ea2002f03115ad6b49a457d50e]\n",
       "@startuml\r\n",
       "skinparam roundcorner 20\r\n",
       "skinparam BoxPadding 20\r\n",
       "skinparam SequenceBoxBackgroundColor #white\r\n",
       "skinparam style strictuml\r\n",
       "skinparam maxMessageSize 100\r\n",
       "left to right direction\r\n",
       "skinparam monochrome true\r\n",
       "skinparam classbackgroundcolor white\r\n",
       "skinparam shadowing false\r\n",
       "skinparam wrapWidth 300\r\n",
       "hide circle\r\n",
       "\r\n",
       "@enduml\r\n",
       "\n",
       "PlantUML version 1.2020.13(Sat Jun 13 12:26:38 UTC 2020)\n",
       "(EPL source distribution)\n",
       "Java Runtime: OpenJDK Runtime Environment\n",
       "JVM: OpenJDK 64-Bit Server VM\n",
       "Default Encoding: UTF-8\n",
       "Language: en\n",
       "Country: null\n",
       "--></g></svg>"
      ]
     },
     "execution_count": 21,
     "metadata": {},
     "output_type": "execute_result"
    }
   ],
   "source": [
    "%viz --style=\"LR\" --view=\"Sequence\" \"VerificationTest\""
   ]
  },
  {
   "cell_type": "code",
   "execution_count": 22,
   "id": "cf8d126e",
   "metadata": {
    "execution": {
     "iopub.execute_input": "2021-10-03T08:26:48.380536Z",
     "iopub.status.busy": "2021-10-03T08:26:48.380105Z",
     "iopub.status.idle": "2021-10-03T08:26:48.445139Z",
     "shell.execute_reply": "2021-10-03T08:26:48.444761Z"
    }
   },
   "outputs": [
    {
     "data": {
      "image/svg+xml": [
       "<?xml version=\"1.0\" encoding=\"UTF-8\" standalone=\"no\"?><svg xmlns=\"http://www.w3.org/2000/svg\" xmlns:xlink=\"http://www.w3.org/1999/xlink\" contentScriptType=\"application/ecmascript\" contentStyleType=\"text/css\" height=\"577px\" preserveAspectRatio=\"none\" style=\"width:1131px;height:577px;\" version=\"1.1\" viewBox=\"0 0 1131 577\" width=\"1131px\" zoomAndPan=\"magnify\"><defs/><g><!--MD5=[fbc87193dbaf4d95561dea2c320d4a47]\n",
       "cluster E1--><a href=\"psysml:7303dfcd-df1a-4034-bc74-eb93457ec7c0\" target=\"_top\" title=\"psysml:7303dfcd-df1a-4034-bc74-eb93457ec7c0\" xlink:actuate=\"onRequest\" xlink:href=\"psysml:7303dfcd-df1a-4034-bc74-eb93457ec7c0\" xlink:show=\"new\" xlink:title=\"psysml:7303dfcd-df1a-4034-bc74-eb93457ec7c0\" xlink:type=\"simple\"><polygon fill=\"#FFFFFF\" points=\"16,6,128,6,135,28.2969,1109,28.2969,1109,565,16,565,16,6\" style=\"stroke: #000000; stroke-width: 1.5;\"/><line style=\"stroke: #000000; stroke-width: 1.5;\" x1=\"16\" x2=\"135\" y1=\"28.2969\" y2=\"28.2969\"/><text fill=\"#000000\" font-family=\"sans-serif\" font-size=\"14\" font-weight=\"bold\" lengthAdjust=\"spacingAndGlyphs\" textLength=\"106\" x=\"20\" y=\"20.9951\">VerificationTest</text></a><!--MD5=[14e3b0961a2654348d326746436168a1]\n",
       "cluster E6--><a href=\"psysml:f44943ce-87bd-4d2b-91db-f66bd879bf72\" target=\"_top\" title=\"psysml:f44943ce-87bd-4d2b-91db-f66bd879bf72\" xlink:actuate=\"onRequest\" xlink:href=\"psysml:f44943ce-87bd-4d2b-91db-f66bd879bf72\" xlink:show=\"new\" xlink:title=\"psysml:f44943ce-87bd-4d2b-91db-f66bd879bf72\" xlink:type=\"simple\"><rect fill=\"#FFFFFF\" height=\"68\" id=\"E6\" style=\"stroke: #383838; stroke-width: 1.5;\" width=\"667\" x=\"93\" y=\"41\"/><rect fill=\"#F8F8F8\" height=\"37.9375\" style=\"stroke: #383838; stroke-width: 1.5;\" width=\"667\" x=\"93\" y=\"41\"/><text fill=\"#000000\" font-family=\"sans-serif\" font-size=\"12\" font-style=\"italic\" lengthAdjust=\"spacingAndGlyphs\" textLength=\"137\" x=\"358\" y=\"57.1387\">«verificationCase def»</text><text fill=\"#000000\" font-family=\"sans-serif\" font-size=\"12\" lengthAdjust=\"spacingAndGlyphs\" textLength=\"101\" x=\"376\" y=\"71.1074\">VerificationCase</text></a><!--MD5=[7f149f147074ac12df2cb0a7728a5fb0]\n",
       "cluster E9--><a href=\"psysml:109e665d-9569-4e28-8454-db86a3b7365b\" target=\"_top\" title=\"psysml:109e665d-9569-4e28-8454-db86a3b7365b\" xlink:actuate=\"onRequest\" xlink:href=\"psysml:109e665d-9569-4e28-8454-db86a3b7365b\" xlink:show=\"new\" xlink:title=\"psysml:109e665d-9569-4e28-8454-db86a3b7365b\" xlink:type=\"simple\"><rect fill=\"#FFFFFF\" height=\"132\" id=\"E9\" style=\"stroke: #383838; stroke-width: 1.5;\" width=\"785\" x=\"300\" y=\"307\"/><rect fill=\"#F8F8F8\" height=\"37.9375\" style=\"stroke: #383838; stroke-width: 1.5;\" width=\"785\" x=\"300\" y=\"307\"/><text fill=\"#000000\" font-family=\"sans-serif\" font-size=\"12\" font-style=\"italic\" lengthAdjust=\"spacingAndGlyphs\" textLength=\"137\" x=\"624\" y=\"323.1387\">«verificationCase def»</text><text fill=\"#000000\" font-family=\"sans-serif\" font-size=\"12\" lengthAdjust=\"spacingAndGlyphs\" textLength=\"97\" x=\"644\" y=\"337.1074\">VerificationPlan</text></a><!--MD5=[917b9dd0c7eca3ee5f47219d1a84c0ad]\n",
       "cluster E11--><a href=\"psysml:d8eec309-4539-4ef6-b593-f8d5221313a5\" target=\"_top\" title=\"psysml:d8eec309-4539-4ef6-b593-f8d5221313a5\" xlink:actuate=\"onRequest\" xlink:href=\"psysml:d8eec309-4539-4ef6-b593-f8d5221313a5\" xlink:show=\"new\" xlink:title=\"psysml:d8eec309-4539-4ef6-b593-f8d5221313a5\" xlink:type=\"simple\"><rect fill=\"#FFFFFF\" height=\"68\" id=\"E11\" rx=\"10\" ry=\"10\" style=\"stroke: #383838; stroke-width: 1.5;\" width=\"407\" x=\"640\" y=\"345\"/><rect fill=\"#F8F8F8\" height=\"37.9375\" rx=\"10\" ry=\"10\" style=\"stroke: #F8F8F8; stroke-width: 1.5;\" width=\"407\" x=\"640\" y=\"345\"/><rect fill=\"#F8F8F8\" height=\"10\" style=\"stroke: #F8F8F8; stroke-width: 1.5;\" width=\"407\" x=\"640\" y=\"372.9375\"/><rect fill=\"none\" height=\"68\" id=\"E11\" rx=\"10\" ry=\"10\" style=\"stroke: #383838; stroke-width: 1.5;\" width=\"407\" x=\"640\" y=\"345\"/><text fill=\"#000000\" font-family=\"sans-serif\" font-size=\"12\" font-style=\"italic\" lengthAdjust=\"spacingAndGlyphs\" textLength=\"113\" x=\"787\" y=\"361.1387\">«verificationCase»</text><text fill=\"#000000\" font-family=\"sans-serif\" font-size=\"12\" lengthAdjust=\"spacingAndGlyphs\" textLength=\"99\" x=\"794\" y=\"375.1074\">verificationCase</text><line style=\"stroke: #383838; stroke-width: 1.0;\" x1=\"640\" x2=\"1047\" y1=\"382.9375\" y2=\"382.9375\"/></a><!--MD5=[b4997ac47864f28c2f74865a473b2911]\n",
       "class E2--><a href=\"psysml:ee2cd088-4b38-485a-bdcf-f034eebaa933\" target=\"_top\" title=\"psysml:ee2cd088-4b38-485a-bdcf-f034eebaa933\" xlink:actuate=\"onRequest\" xlink:href=\"psysml:ee2cd088-4b38-485a-bdcf-f034eebaa933\" xlink:show=\"new\" xlink:title=\"psysml:ee2cd088-4b38-485a-bdcf-f034eebaa933\" xlink:type=\"simple\"><rect fill=\"#FFFFFF\" height=\"45.9375\" id=\"E2\" style=\"stroke: #383838; stroke-width: 1.5;\" width=\"66\" x=\"285\" y=\"128\"/><text fill=\"#000000\" font-family=\"sans-serif\" font-size=\"12\" font-style=\"italic\" lengthAdjust=\"spacingAndGlyphs\" textLength=\"64\" x=\"286\" y=\"144.1387\">«part def»</text><text fill=\"#000000\" font-family=\"sans-serif\" font-size=\"12\" lengthAdjust=\"spacingAndGlyphs\" textLength=\"8\" x=\"314\" y=\"158.1074\">V</text><line style=\"stroke: #383838; stroke-width: 1.5;\" x1=\"286\" x2=\"350\" y1=\"165.9375\" y2=\"165.9375\"/></a><!--MD5=[09b614a08d8cba4a07c9adeb5e0fee81]\n",
       "class E3--><a href=\"psysml:ea23779d-7b91-41e0-a4d1-5f0745e774d2\" target=\"_top\" title=\"psysml:ea23779d-7b91-41e0-a4d1-5f0745e774d2\" xlink:actuate=\"onRequest\" xlink:href=\"psysml:ea23779d-7b91-41e0-a4d1-5f0745e774d2\" xlink:show=\"new\" xlink:title=\"psysml:ea23779d-7b91-41e0-a4d1-5f0745e774d2\" xlink:type=\"simple\"><rect fill=\"#FFFFFF\" height=\"45.9375\" id=\"E3\" rx=\"10\" ry=\"10\" style=\"stroke: #383838; stroke-width: 1.5;\" width=\"42\" x=\"72\" y=\"128\"/><text fill=\"#000000\" font-family=\"sans-serif\" font-size=\"12\" font-style=\"italic\" lengthAdjust=\"spacingAndGlyphs\" textLength=\"40\" x=\"73\" y=\"144.1387\">«part»</text><text fill=\"#000000\" font-family=\"sans-serif\" font-size=\"12\" lengthAdjust=\"spacingAndGlyphs\" textLength=\"28\" x=\"79\" y=\"158.1074\">vv: V</text><line style=\"stroke: #383838; stroke-width: 1.5;\" x1=\"73\" x2=\"113\" y1=\"165.9375\" y2=\"165.9375\"/></a><!--MD5=[ebbe1d658d1005bcc118a6aa81145e00]\n",
       "class E4--><a href=\"psysml:971e85b9-9957-4674-90a7-be3bf98856c5\" target=\"_top\" title=\"psysml:971e85b9-9957-4674-90a7-be3bf98856c5\" xlink:actuate=\"onRequest\" xlink:href=\"psysml:971e85b9-9957-4674-90a7-be3bf98856c5\" xlink:show=\"new\" xlink:title=\"psysml:971e85b9-9957-4674-90a7-be3bf98856c5\" xlink:type=\"simple\"><rect fill=\"#FFFFFF\" height=\"66.7422\" id=\"E4\" style=\"stroke: #383838; stroke-width: 1.5;\" width=\"117\" x=\"259.5\" y=\"209.5\"/><text fill=\"#000000\" font-family=\"sans-serif\" font-size=\"12\" font-style=\"italic\" lengthAdjust=\"spacingAndGlyphs\" textLength=\"115\" x=\"260.5\" y=\"225.6387\">«requirement def»</text><text fill=\"#000000\" font-family=\"sans-serif\" font-size=\"12\" lengthAdjust=\"spacingAndGlyphs\" textLength=\"8\" x=\"314\" y=\"239.6074\">R</text><line style=\"stroke: #383838; stroke-width: 1.5;\" x1=\"260.5\" x2=\"375.5\" y1=\"247.4375\" y2=\"247.4375\"/><text fill=\"#000000\" font-family=\"sans-serif\" font-size=\"11\" lengthAdjust=\"spacingAndGlyphs\" textLength=\"12\" x=\"265.5\" y=\"261.6479\">...</text><line style=\"stroke: #383838; stroke-width: 1.0;\" x1=\"260.5\" x2=\"375.5\" y1=\"268.2422\" y2=\"268.2422\"/></a><!--MD5=[270fce915f116d4de14055a7c1d9a0f3]\n",
       "class E5--><a href=\"psysml:bbcd2223-85a4-4701-a24f-5592c5712336\" target=\"_top\" title=\"psysml:bbcd2223-85a4-4701-a24f-5592c5712336\" xlink:actuate=\"onRequest\" xlink:href=\"psysml:bbcd2223-85a4-4701-a24f-5592c5712336\" xlink:show=\"new\" xlink:title=\"psysml:bbcd2223-85a4-4701-a24f-5592c5712336\" xlink:type=\"simple\"><rect fill=\"#FFFFFF\" height=\"45.9375\" id=\"E5\" rx=\"10\" ry=\"10\" style=\"stroke: #383838; stroke-width: 1.5;\" width=\"93\" x=\"46.5\" y=\"220\"/><text fill=\"#000000\" font-family=\"sans-serif\" font-size=\"12\" font-style=\"italic\" lengthAdjust=\"spacingAndGlyphs\" textLength=\"91\" x=\"47.5\" y=\"236.1387\">«requirement»</text><text fill=\"#000000\" font-family=\"sans-serif\" font-size=\"12\" lengthAdjust=\"spacingAndGlyphs\" textLength=\"21\" x=\"82.5\" y=\"250.1074\">r: R</text><line style=\"stroke: #383838; stroke-width: 1.5;\" x1=\"47.5\" x2=\"138.5\" y1=\"257.9375\" y2=\"257.9375\"/></a><!--MD5=[0c48fb7552dae8cbbef69381101a84c8]\n",
       "class E15--><a href=\"psysml:1ba0f1fa-2142-46f9-b759-d2e88bd368a2\" target=\"_top\" title=\"psysml:1ba0f1fa-2142-46f9-b759-d2e88bd368a2\" xlink:actuate=\"onRequest\" xlink:href=\"psysml:1ba0f1fa-2142-46f9-b759-d2e88bd368a2\" xlink:show=\"new\" xlink:title=\"psysml:1ba0f1fa-2142-46f9-b759-d2e88bd368a2\" xlink:type=\"simple\"><rect fill=\"#FFFFFF\" height=\"45.9375\" id=\"E15\" rx=\"10\" ry=\"10\" style=\"stroke: #383838; stroke-width: 1.5;\" width=\"122\" x=\"32\" y=\"497\"/><text fill=\"#000000\" font-family=\"sans-serif\" font-size=\"12\" font-style=\"italic\" lengthAdjust=\"spacingAndGlyphs\" textLength=\"40\" x=\"73\" y=\"513.1387\">«part»</text><text fill=\"#000000\" font-family=\"sans-serif\" font-size=\"12\" lengthAdjust=\"spacingAndGlyphs\" textLength=\"116\" x=\"35\" y=\"527.1074\">verificationContext</text><line style=\"stroke: #383838; stroke-width: 1.5;\" x1=\"33\" x2=\"153\" y1=\"534.9375\" y2=\"534.9375\"/></a><!--MD5=[35f0587eaee8d5bb9a02e25b63afc23b]\n",
       "class E16--><a href=\"psysml:f139e62b-7bf9-43a0-a382-40038ed35c63\" target=\"_top\" title=\"psysml:f139e62b-7bf9-43a0-a382-40038ed35c63\" xlink:actuate=\"onRequest\" xlink:href=\"psysml:f139e62b-7bf9-43a0-a382-40038ed35c63\" xlink:show=\"new\" xlink:title=\"psysml:f139e62b-7bf9-43a0-a382-40038ed35c63\" xlink:type=\"simple\"><rect fill=\"#FFFFFF\" height=\"45.9375\" id=\"E16\" rx=\"10\" ry=\"10\" style=\"stroke: #383838; stroke-width: 1.5;\" width=\"206\" x=\"215\" y=\"497\"/><text fill=\"#000000\" font-family=\"sans-serif\" font-size=\"12\" font-style=\"italic\" lengthAdjust=\"spacingAndGlyphs\" textLength=\"113\" x=\"261.5\" y=\"513.1387\">«verificationCase»</text><text fill=\"#000000\" font-family=\"sans-serif\" font-size=\"12\" lengthAdjust=\"spacingAndGlyphs\" textLength=\"200\" x=\"218\" y=\"527.1074\">verificationPlan: VerificationPlan</text><line style=\"stroke: #383838; stroke-width: 1.5;\" x1=\"216\" x2=\"420\" y1=\"534.9375\" y2=\"534.9375\"/></a><!--MD5=[60e55a4a9b2f0dc0a36787c5a2095786]\n",
       "class E17--><a href=\"psysml:fe640fc2-093c-44fe-a9fd-0ceecb8f463c\" target=\"_top\" title=\"psysml:fe640fc2-093c-44fe-a9fd-0ceecb8f463c\" xlink:actuate=\"onRequest\" xlink:href=\"psysml:fe640fc2-093c-44fe-a9fd-0ceecb8f463c\" xlink:show=\"new\" xlink:title=\"psysml:fe640fc2-093c-44fe-a9fd-0ceecb8f463c\" xlink:type=\"simple\"><rect fill=\"#FFFFFF\" height=\"45.9375\" id=\"E17\" rx=\"10\" ry=\"10\" style=\"stroke: #383838; stroke-width: 1.5;\" width=\"93\" x=\"593.5\" y=\"497\"/><text fill=\"#000000\" font-family=\"sans-serif\" font-size=\"12\" font-style=\"italic\" lengthAdjust=\"spacingAndGlyphs\" textLength=\"91\" x=\"594.5\" y=\"513.1387\">«requirement»</text><text fill=\"#000000\" font-family=\"sans-serif\" font-size=\"12\" lengthAdjust=\"spacingAndGlyphs\" textLength=\"19\" x=\"630.5\" y=\"527.1074\">obj</text><line style=\"stroke: #383838; stroke-width: 1.5;\" x1=\"594.5\" x2=\"685.5\" y1=\"534.9375\" y2=\"534.9375\"/></a><text fill=\"#000000\" font-family=\"sans-serif\" font-size=\"14\" lengthAdjust=\"spacingAndGlyphs\" textLength=\"7\" x=\"89.5\" y=\"53.6982\">v</text><rect fill=\"#383838\" height=\"12\" style=\"stroke: #F8F8F8; stroke-width: 1.5;\" width=\"12\" x=\"87\" y=\"69\"/><text fill=\"#000000\" font-family=\"sans-serif\" font-size=\"14\" lengthAdjust=\"spacingAndGlyphs\" textLength=\"46\" x=\"737\" y=\"53.6982\">verdict</text><rect fill=\"#383838\" height=\"12\" style=\"stroke: #F8F8F8; stroke-width: 1.5;\" width=\"12\" x=\"754\" y=\"69\"/><text fill=\"#000000\" font-family=\"sans-serif\" font-size=\"14\" lengthAdjust=\"spacingAndGlyphs\" textLength=\"7\" x=\"314.5\" y=\"457.9951\">v</text><rect fill=\"#383838\" height=\"12\" style=\"stroke: #F8F8F8; stroke-width: 1.5;\" width=\"12\" x=\"312\" y=\"433\"/><text fill=\"#000000\" font-family=\"sans-serif\" font-size=\"14\" lengthAdjust=\"spacingAndGlyphs\" textLength=\"46\" x=\"951\" y=\"285.6982\">verdict</text><rect fill=\"#383838\" height=\"12\" style=\"stroke: #F8F8F8; stroke-width: 1.5;\" width=\"12\" x=\"968\" y=\"301\"/><text fill=\"#000000\" font-family=\"sans-serif\" font-size=\"14\" lengthAdjust=\"spacingAndGlyphs\" textLength=\"46\" x=\"1024\" y=\"357.6982\">verdict</text><rect fill=\"#383838\" height=\"12\" style=\"stroke: #F8F8F8; stroke-width: 1.5;\" width=\"12\" x=\"1041\" y=\"373\"/><text fill=\"#000000\" font-family=\"sans-serif\" font-size=\"14\" lengthAdjust=\"spacingAndGlyphs\" textLength=\"7\" x=\"636.5\" y=\"357.6982\">v</text><rect fill=\"#383838\" height=\"12\" style=\"stroke: #F8F8F8; stroke-width: 1.5;\" width=\"12\" x=\"634\" y=\"373\"/><!--MD5=[05d275557350bfb9b23a4ef7222b4c39]\n",
       "link E3 to E2--><a href=\"psysml:2b222a15-a90b-432a-993d-d339516ea993\" target=\"_top\" title=\"psysml:2b222a15-a90b-432a-993d-d339516ea993\" xlink:actuate=\"onRequest\" xlink:href=\"psysml:2b222a15-a90b-432a-993d-d339516ea993\" xlink:show=\"new\" xlink:title=\"psysml:2b222a15-a90b-432a-993d-d339516ea993\" xlink:type=\"simple\"><path d=\"M114.18,151 C147.92,151 216.78,151 264.86,151 \" fill=\"none\" id=\"E3-&gt;E2\" style=\"stroke: #383838; stroke-width: 1.0;\"/><polygon fill=\"#FFFFFF\" points=\"284.97,151,265.97,158,265.97,144,284.97,151\" style=\"stroke: #383838; stroke-width: 1.0;\"/><ellipse cx=\"260.27\" cy=\"156\" fill=\"#383838\" rx=\"2\" ry=\"2\" style=\"stroke: #383838; stroke-width: 1.0;\"/><ellipse cx=\"260.27\" cy=\"146\" fill=\"#383838\" rx=\"2\" ry=\"2\" style=\"stroke: #383838; stroke-width: 1.0;\"/></a><!--MD5=[1c62de2aa5b76f0fb657ff8443a1a700]\n",
       "link E5 to E4--><a href=\"psysml:4afeeb28-a204-4e17-a080-31f9a6d380ec\" target=\"_top\" title=\"psysml:4afeeb28-a204-4e17-a080-31f9a6d380ec\" xlink:actuate=\"onRequest\" xlink:href=\"psysml:4afeeb28-a204-4e17-a080-31f9a6d380ec\" xlink:show=\"new\" xlink:title=\"psysml:4afeeb28-a204-4e17-a080-31f9a6d380ec\" xlink:type=\"simple\"><path d=\"M139.67,243 C168.37,243 206.14,243 239.44,243 \" fill=\"none\" id=\"E5-&gt;E4\" style=\"stroke: #383838; stroke-width: 1.0;\"/><polygon fill=\"#FFFFFF\" points=\"259.48,243,240.48,250,240.48,236,259.48,243\" style=\"stroke: #383838; stroke-width: 1.0;\"/><ellipse cx=\"234.78\" cy=\"248\" fill=\"#383838\" rx=\"2\" ry=\"2\" style=\"stroke: #383838; stroke-width: 1.0;\"/><ellipse cx=\"234.78\" cy=\"238\" fill=\"#383838\" rx=\"2\" ry=\"2\" style=\"stroke: #383838; stroke-width: 1.0;\"/></a><!--MD5=[58e4cf537c4d67f6b3da95fd5b934e63]\n",
       "reverse link E15 to E16--><a href=\"psysml:4d9ca163-dfe0-49d5-81cb-3058dc3dad3f\" target=\"_top\" title=\"psysml:4d9ca163-dfe0-49d5-81cb-3058dc3dad3f\" xlink:actuate=\"onRequest\" xlink:href=\"psysml:4d9ca163-dfe0-49d5-81cb-3058dc3dad3f\" xlink:show=\"new\" xlink:title=\"psysml:4d9ca163-dfe0-49d5-81cb-3058dc3dad3f\" xlink:type=\"simple\"><path d=\"M167.11,520 C182.33,520 198.64,520 214.69,520 \" fill=\"none\" id=\"E15&lt;-E16\" style=\"stroke: #383838; stroke-width: 1.0;\"/><polygon fill=\"#383838\" points=\"154.05,520,160.05,524,166.05,520,160.05,516,154.05,520\" style=\"stroke: #383838; stroke-width: 1.0;\"/></a><!--MD5=[4de2d328c39b6d65fb95a84ef336270e]\n",
       "link E16 to E9--><a href=\"psysml:cd73bb42-520f-4e04-8240-7f040abbe442\" target=\"_top\" title=\"psysml:cd73bb42-520f-4e04-8240-7f040abbe442\" xlink:actuate=\"onRequest\" xlink:href=\"psysml:cd73bb42-520f-4e04-8240-7f040abbe442\" xlink:show=\"new\" xlink:title=\"psysml:cd73bb42-520f-4e04-8240-7f040abbe442\" xlink:type=\"simple\"><path d=\"M405.18,496.98 C442.38,486.96 486.37,475.02 526,464 C532.23,462.27 533.72,461.56 540,460 C545.2,458.71 550.57,457.42 555.99,456.17 \" fill=\"none\" id=\"E16-&gt;E9\" style=\"stroke: #383838; stroke-width: 1.0;\"/><polygon fill=\"#FFFFFF\" points=\"555.99,456.17,539.0491,467.2608,535.9029,453.6189,555.99,456.17\" style=\"stroke: #383838; stroke-width: 1.0;\"/><ellipse cx=\"533.0454\" cy=\"466.5929\" fill=\"#383838\" rx=\"2\" ry=\"2\" style=\"stroke: #383838; stroke-width: 1.0;\"/><ellipse cx=\"530.7981\" cy=\"456.8487\" fill=\"#383838\" rx=\"2\" ry=\"2\" style=\"stroke: #383838; stroke-width: 1.0;\"/></a><!--MD5=[450e3481f1c83a03a55fcf78b0bbbde6]\n",
       "link E16 to E17--><a href=\"psysml:e29f10bd-d5bc-4797-97ab-a37fb0e5db5b\" target=\"_top\" title=\"psysml:e29f10bd-d5bc-4797-97ab-a37fb0e5db5b\" xlink:actuate=\"onRequest\" xlink:href=\"psysml:e29f10bd-d5bc-4797-97ab-a37fb0e5db5b\" xlink:show=\"new\" xlink:title=\"psysml:e29f10bd-d5bc-4797-97ab-a37fb0e5db5b\" xlink:type=\"simple\"><path d=\"M421.13,520 C475.72,520 540.69,520 585.39,520 \" fill=\"none\" id=\"E16-&gt;E17\" style=\"stroke: #383838; stroke-width: 1.0;\"/><polygon fill=\"#383838\" points=\"593.5,520,585.5,517,585.5,523,593.5,520\" style=\"stroke: #383838; stroke-width: 1.0;\"/><text fill=\"#000000\" font-family=\"sans-serif\" font-size=\"13\" lengthAdjust=\"spacingAndGlyphs\" textLength=\"73\" x=\"452\" y=\"516.0669\">«objective»</text><text fill=\"#000000\" font-family=\"sans-serif\" font-size=\"13\" lengthAdjust=\"spacingAndGlyphs\" textLength=\"7\" x=\"578.5313\" y=\"533.2778\">*</text></a><!--MD5=[0a5a6562ac791827a972ef4c164a9f5e]\n",
       "@startuml\r\n",
       "left to right direction\r\n",
       "skinparam monochrome true\r\n",
       "skinparam classbackgroundcolor white\r\n",
       "skinparam shadowing false\r\n",
       "skinparam wrapWidth 300\r\n",
       "hide circle\r\n",
       "\r\n",
       "package \"VerificationTest\" as E1  [[psysml:7303dfcd-df1a-4034-bc74-eb93457ec7c0 ]]  {\r\n",
       "comp def \"V\" as E2  <<(T,blue) part def>> [[psysml:ee2cd088-4b38-485a-bdcf-f034eebaa933 ]] {\r\n",
       "}\r\n",
       "comp usage \"vv: V\" as E3  <<(T,blue) part>> [[psysml:ea23779d-7b91-41e0-a4d1-5f0745e774d2 ]] {\r\n",
       "}\r\n",
       "comp def \"R\" as E4  <<(T,blue) requirement def>> [[psysml:971e85b9-9957-4674-90a7-be3bf98856c5 ]] {\r\n",
       "...\r\n",
       "- -\r\n",
       "}\r\n",
       "comp usage \"r: R\" as E5  <<(T,blue) requirement>> [[psysml:bbcd2223-85a4-4701-a24f-5592c5712336 ]] {\r\n",
       "}\r\n",
       "rec def \"VerificationCase\" as E6  <<(T,blue) verificationCase def>> [[psysml:f44943ce-87bd-4d2b-91db-f66bd879bf72 ]] {\r\n",
       "portin \"v\" as E7  [[psysml:39e4c68a-7e48-4018-a595-005447bc25d1 ]] \r\n",
       "portout \"verdict\" as E8  [[psysml:e7480a5a-bc03-4bfb-926c-ff77790341ab ]] \r\n",
       "}\r\n",
       "\r\n",
       "rec def \"VerificationPlan\" as E9  <<(T,blue) verificationCase def>> [[psysml:109e665d-9569-4e28-8454-db86a3b7365b ]] {\r\n",
       "portin \"v\" as E10  [[psysml:bc04aa0f-1251-4bd1-9492-821de83ad0f4 ]] \r\n",
       "rec usage \"verificationCase\" as E11  <<(T,blue) verificationCase>> [[psysml:d8eec309-4539-4ef6-b593-f8d5221313a5 ]] {\r\n",
       "portout \"verdict\" as E12  [[psysml:d4b19012-2d8f-412c-81cb-04106ed54ab9 ]] \r\n",
       "portin \"v\" as E13  [[psysml:101691aa-2b16-4439-bb49-3b5a9750b72a ]] \r\n",
       "}\r\n",
       "\r\n",
       "portout \"verdict\" as E14  [[psysml:d1cc474d-a7ae-4245-8f3b-eac2c389ad3d ]] \r\n",
       "}\r\n",
       "\r\n",
       "comp usage \"verificationContext\" as E15  <<(T,blue) part>> [[psysml:1ba0f1fa-2142-46f9-b759-d2e88bd368a2 ]] {\r\n",
       "}\r\n",
       "comp usage \"verificationPlan: VerificationPlan\" as E16  <<(T,blue) verificationCase>> [[psysml:f139e62b-7bf9-43a0-a382-40038ed35c63 ]] {\r\n",
       "}\r\n",
       "comp usage \"obj\" as E17  <<(T,blue) requirement>> [[psysml:fe640fc2-093c-44fe-a9fd-0ceecb8f463c ]] {\r\n",
       "}\r\n",
       "}\r\n",
       "E3 - -:|> E2 [[psysml:2b222a15-a90b-432a-993d-d339516ea993 ]] \r\n",
       "E5 - -:|> E4 [[psysml:4afeeb28-a204-4e17-a080-31f9a6d380ec ]] \r\n",
       "E15 *- - E16 [[psysml:4d9ca163-dfe0-49d5-81cb-3058dc3dad3f ]] \r\n",
       "E16 - -:|> E9 [[psysml:cd73bb42-520f-4e04-8240-7f040abbe442 ]] \r\n",
       "E16 - ->> \"*\"E17 [[psysml:e29f10bd-d5bc-4797-97ab-a37fb0e5db5b ]] : <<objective>>\r\n",
       "@enduml\r\n",
       "\n",
       "PlantUML version 1.2020.13(Sat Jun 13 12:26:38 UTC 2020)\n",
       "(EPL source distribution)\n",
       "Java Runtime: OpenJDK Runtime Environment\n",
       "JVM: OpenJDK 64-Bit Server VM\n",
       "Default Encoding: UTF-8\n",
       "Language: en\n",
       "Country: null\n",
       "--></g></svg>"
      ]
     },
     "execution_count": 22,
     "metadata": {},
     "output_type": "execute_result"
    }
   ],
   "source": [
    "%viz --style=\"LR\" --view=\"MIXED\" \"VerificationTest\""
   ]
  },
  {
   "cell_type": "code",
   "execution_count": 23,
   "id": "d05c5d59",
   "metadata": {
    "execution": {
     "iopub.execute_input": "2021-10-03T08:26:48.494228Z",
     "iopub.status.busy": "2021-10-03T08:26:48.493820Z",
     "iopub.status.idle": "2021-10-03T08:26:48.566256Z",
     "shell.execute_reply": "2021-10-03T08:26:48.564272Z"
    }
   },
   "outputs": [
    {
     "data": {
      "image/svg+xml": [
       "<?xml version=\"1.0\" encoding=\"UTF-8\" standalone=\"no\"?><svg xmlns=\"http://www.w3.org/2000/svg\" xmlns:xlink=\"http://www.w3.org/1999/xlink\" contentScriptType=\"application/ecmascript\" contentStyleType=\"text/css\" height=\"628px\" preserveAspectRatio=\"none\" style=\"width:1172px;height:628px;\" version=\"1.1\" viewBox=\"0 0 1172 628\" width=\"1172px\" zoomAndPan=\"magnify\"><defs><filter height=\"300%\" id=\"f16his8oovlovr\" width=\"300%\" x=\"-1\" y=\"-1\"><feGaussianBlur result=\"blurOut\" stdDeviation=\"2.0\"/><feColorMatrix in=\"blurOut\" result=\"blurOut2\" type=\"matrix\" values=\"0 0 0 0 0 0 0 0 0 0 0 0 0 0 0 0 0 0 .4 0\"/><feOffset dx=\"4.0\" dy=\"4.0\" in=\"blurOut2\" result=\"blurOut3\"/><feBlend in=\"SourceGraphic\" in2=\"blurOut3\" mode=\"normal\"/></filter></defs><g><!--MD5=[fbc87193dbaf4d95561dea2c320d4a47]\n",
       "cluster E1--><a href=\"psysml:7303dfcd-df1a-4034-bc74-eb93457ec7c0\" target=\"_top\" title=\"psysml:7303dfcd-df1a-4034-bc74-eb93457ec7c0\" xlink:actuate=\"onRequest\" xlink:href=\"psysml:7303dfcd-df1a-4034-bc74-eb93457ec7c0\" xlink:show=\"new\" xlink:title=\"psysml:7303dfcd-df1a-4034-bc74-eb93457ec7c0\" xlink:type=\"simple\"><polygon fill=\"#FFFFFF\" filter=\"url(#f16his8oovlovr)\" points=\"16,6,128,6,135,28.2969,1150,28.2969,1150,616,16,616,16,6\" style=\"stroke: #000000; stroke-width: 1.5;\"/><line style=\"stroke: #000000; stroke-width: 1.5;\" x1=\"16\" x2=\"135\" y1=\"28.2969\" y2=\"28.2969\"/><text fill=\"#000000\" font-family=\"sans-serif\" font-size=\"14\" font-weight=\"bold\" lengthAdjust=\"spacingAndGlyphs\" textLength=\"106\" x=\"20\" y=\"20.9951\">VerificationTest</text></a><!--MD5=[14e3b0961a2654348d326746436168a1]\n",
       "cluster E6--><a href=\"psysml:f44943ce-87bd-4d2b-91db-f66bd879bf72\" target=\"_top\" title=\"psysml:f44943ce-87bd-4d2b-91db-f66bd879bf72\" xlink:actuate=\"onRequest\" xlink:href=\"psysml:f44943ce-87bd-4d2b-91db-f66bd879bf72\" xlink:show=\"new\" xlink:title=\"psysml:f44943ce-87bd-4d2b-91db-f66bd879bf72\" xlink:type=\"simple\"><rect fill=\"#FFFFFF\" filter=\"url(#f16his8oovlovr)\" height=\"310\" id=\"E6\" style=\"stroke: #A80036; stroke-width: 1.5;\" width=\"200\" x=\"934\" y=\"64\"/><rect fill=\"#FEFECE\" height=\"37.9375\" style=\"stroke: #A80036; stroke-width: 1.5;\" width=\"200\" x=\"934\" y=\"64\"/><text fill=\"#000000\" font-family=\"sans-serif\" font-size=\"12\" font-style=\"italic\" lengthAdjust=\"spacingAndGlyphs\" textLength=\"137\" x=\"965.5\" y=\"80.1387\">«verificationCase def»</text><text fill=\"#000000\" font-family=\"sans-serif\" font-size=\"12\" lengthAdjust=\"spacingAndGlyphs\" textLength=\"101\" x=\"983.5\" y=\"94.1074\">VerificationCase</text></a><!--MD5=[7f149f147074ac12df2cb0a7728a5fb0]\n",
       "cluster E9--><a href=\"psysml:109e665d-9569-4e28-8454-db86a3b7365b\" target=\"_top\" title=\"psysml:109e665d-9569-4e28-8454-db86a3b7365b\" xlink:actuate=\"onRequest\" xlink:href=\"psysml:109e665d-9569-4e28-8454-db86a3b7365b\" xlink:show=\"new\" xlink:title=\"psysml:109e665d-9569-4e28-8454-db86a3b7365b\" xlink:type=\"simple\"><rect fill=\"#FFFFFF\" filter=\"url(#f16his8oovlovr)\" height=\"410.5\" id=\"E9\" style=\"stroke: #A80036; stroke-width: 1.5;\" width=\"322\" x=\"344\" y=\"181.5\"/><rect fill=\"#FEFECE\" height=\"37.9375\" style=\"stroke: #A80036; stroke-width: 1.5;\" width=\"322\" x=\"344\" y=\"181.5\"/><text fill=\"#000000\" font-family=\"sans-serif\" font-size=\"12\" font-style=\"italic\" lengthAdjust=\"spacingAndGlyphs\" textLength=\"137\" x=\"436.5\" y=\"197.6387\">«verificationCase def»</text><text fill=\"#000000\" font-family=\"sans-serif\" font-size=\"12\" lengthAdjust=\"spacingAndGlyphs\" textLength=\"97\" x=\"456.5\" y=\"211.6074\">VerificationPlan</text></a><!--MD5=[917b9dd0c7eca3ee5f47219d1a84c0ad]\n",
       "cluster E11--><a href=\"psysml:d8eec309-4539-4ef6-b593-f8d5221313a5\" target=\"_top\" title=\"psysml:d8eec309-4539-4ef6-b593-f8d5221313a5\" xlink:actuate=\"onRequest\" xlink:href=\"psysml:d8eec309-4539-4ef6-b593-f8d5221313a5\" xlink:show=\"new\" xlink:title=\"psysml:d8eec309-4539-4ef6-b593-f8d5221313a5\" xlink:type=\"simple\"><rect fill=\"#FFFFFF\" filter=\"url(#f16his8oovlovr)\" height=\"239\" id=\"E11\" rx=\"10\" ry=\"10\" style=\"stroke: #A80036; stroke-width: 1.5;\" width=\"174\" x=\"454\" y=\"315\"/><rect fill=\"#FEFECE\" height=\"37.9375\" rx=\"10\" ry=\"10\" style=\"stroke: #FEFECE; stroke-width: 1.5;\" width=\"174\" x=\"454\" y=\"315\"/><rect fill=\"#FEFECE\" height=\"10\" style=\"stroke: #FEFECE; stroke-width: 1.5;\" width=\"174\" x=\"454\" y=\"342.9375\"/><rect fill=\"none\" height=\"239\" id=\"E11\" rx=\"10\" ry=\"10\" style=\"stroke: #A80036; stroke-width: 1.5;\" width=\"174\" x=\"454\" y=\"315\"/><text fill=\"#000000\" font-family=\"sans-serif\" font-size=\"12\" font-style=\"italic\" lengthAdjust=\"spacingAndGlyphs\" textLength=\"113\" x=\"484.5\" y=\"331.1387\">«verificationCase»</text><text fill=\"#000000\" font-family=\"sans-serif\" font-size=\"12\" lengthAdjust=\"spacingAndGlyphs\" textLength=\"99\" x=\"491.5\" y=\"345.1074\">verificationCase</text><line style=\"stroke: #A80036; stroke-width: 1.0;\" x1=\"454\" x2=\"628\" y1=\"352.9375\" y2=\"352.9375\"/></a><!--MD5=[b4997ac47864f28c2f74865a473b2911]\n",
       "class E2--><a href=\"psysml:ee2cd088-4b38-485a-bdcf-f034eebaa933\" target=\"_top\" title=\"psysml:ee2cd088-4b38-485a-bdcf-f034eebaa933\" xlink:actuate=\"onRequest\" xlink:href=\"psysml:ee2cd088-4b38-485a-bdcf-f034eebaa933\" xlink:show=\"new\" xlink:title=\"psysml:ee2cd088-4b38-485a-bdcf-f034eebaa933\" xlink:type=\"simple\"><rect fill=\"#FEFECE\" filter=\"url(#f16his8oovlovr)\" height=\"45.9375\" id=\"E2\" style=\"stroke: #A80036; stroke-width: 1.5;\" width=\"66\" x=\"849\" y=\"158.5\"/><text fill=\"#000000\" font-family=\"sans-serif\" font-size=\"12\" font-style=\"italic\" lengthAdjust=\"spacingAndGlyphs\" textLength=\"64\" x=\"850\" y=\"174.6387\">«part def»</text><text fill=\"#000000\" font-family=\"sans-serif\" font-size=\"12\" lengthAdjust=\"spacingAndGlyphs\" textLength=\"8\" x=\"878\" y=\"188.6074\">V</text><line style=\"stroke: #A80036; stroke-width: 1.5;\" x1=\"850\" x2=\"914\" y1=\"196.4375\" y2=\"196.4375\"/></a><!--MD5=[09b614a08d8cba4a07c9adeb5e0fee81]\n",
       "class E3--><a href=\"psysml:ea23779d-7b91-41e0-a4d1-5f0745e774d2\" target=\"_top\" title=\"psysml:ea23779d-7b91-41e0-a4d1-5f0745e774d2\" xlink:actuate=\"onRequest\" xlink:href=\"psysml:ea23779d-7b91-41e0-a4d1-5f0745e774d2\" xlink:show=\"new\" xlink:title=\"psysml:ea23779d-7b91-41e0-a4d1-5f0745e774d2\" xlink:type=\"simple\"><rect fill=\"#FEFECE\" filter=\"url(#f16his8oovlovr)\" height=\"45.9375\" id=\"E3\" rx=\"10\" ry=\"10\" style=\"stroke: #A80036; stroke-width: 1.5;\" width=\"42\" x=\"861\" y=\"41\"/><text fill=\"#000000\" font-family=\"sans-serif\" font-size=\"12\" font-style=\"italic\" lengthAdjust=\"spacingAndGlyphs\" textLength=\"40\" x=\"862\" y=\"57.1387\">«part»</text><text fill=\"#000000\" font-family=\"sans-serif\" font-size=\"12\" lengthAdjust=\"spacingAndGlyphs\" textLength=\"28\" x=\"868\" y=\"71.1074\">vv: V</text><line style=\"stroke: #A80036; stroke-width: 1.5;\" x1=\"862\" x2=\"902\" y1=\"78.9375\" y2=\"78.9375\"/></a><!--MD5=[ebbe1d658d1005bcc118a6aa81145e00]\n",
       "class E4--><a href=\"psysml:971e85b9-9957-4674-90a7-be3bf98856c5\" target=\"_top\" title=\"psysml:971e85b9-9957-4674-90a7-be3bf98856c5\" xlink:actuate=\"onRequest\" xlink:href=\"psysml:971e85b9-9957-4674-90a7-be3bf98856c5\" xlink:show=\"new\" xlink:title=\"psysml:971e85b9-9957-4674-90a7-be3bf98856c5\" xlink:type=\"simple\"><rect fill=\"#FEFECE\" filter=\"url(#f16his8oovlovr)\" height=\"66.7422\" id=\"E4\" style=\"stroke: #A80036; stroke-width: 1.5;\" width=\"117\" x=\"696.5\" y=\"148\"/><text fill=\"#000000\" font-family=\"sans-serif\" font-size=\"12\" font-style=\"italic\" lengthAdjust=\"spacingAndGlyphs\" textLength=\"115\" x=\"697.5\" y=\"164.1387\">«requirement def»</text><text fill=\"#000000\" font-family=\"sans-serif\" font-size=\"12\" lengthAdjust=\"spacingAndGlyphs\" textLength=\"8\" x=\"751\" y=\"178.1074\">R</text><line style=\"stroke: #A80036; stroke-width: 1.5;\" x1=\"697.5\" x2=\"812.5\" y1=\"185.9375\" y2=\"185.9375\"/><text fill=\"#000000\" font-family=\"sans-serif\" font-size=\"11\" lengthAdjust=\"spacingAndGlyphs\" textLength=\"12\" x=\"702.5\" y=\"200.1479\">...</text><line style=\"stroke: #A80036; stroke-width: 1.0;\" x1=\"697.5\" x2=\"812.5\" y1=\"206.7422\" y2=\"206.7422\"/></a><!--MD5=[270fce915f116d4de14055a7c1d9a0f3]\n",
       "class E5--><a href=\"psysml:bbcd2223-85a4-4701-a24f-5592c5712336\" target=\"_top\" title=\"psysml:bbcd2223-85a4-4701-a24f-5592c5712336\" xlink:actuate=\"onRequest\" xlink:href=\"psysml:bbcd2223-85a4-4701-a24f-5592c5712336\" xlink:show=\"new\" xlink:title=\"psysml:bbcd2223-85a4-4701-a24f-5592c5712336\" xlink:type=\"simple\"><rect fill=\"#FEFECE\" filter=\"url(#f16his8oovlovr)\" height=\"45.9375\" id=\"E5\" rx=\"10\" ry=\"10\" style=\"stroke: #A80036; stroke-width: 1.5;\" width=\"93\" x=\"708.5\" y=\"41\"/><text fill=\"#000000\" font-family=\"sans-serif\" font-size=\"12\" font-style=\"italic\" lengthAdjust=\"spacingAndGlyphs\" textLength=\"91\" x=\"709.5\" y=\"57.1387\">«requirement»</text><text fill=\"#000000\" font-family=\"sans-serif\" font-size=\"12\" lengthAdjust=\"spacingAndGlyphs\" textLength=\"21\" x=\"744.5\" y=\"71.1074\">r: R</text><line style=\"stroke: #A80036; stroke-width: 1.5;\" x1=\"709.5\" x2=\"800.5\" y1=\"78.9375\" y2=\"78.9375\"/></a><!--MD5=[0c48fb7552dae8cbbef69381101a84c8]\n",
       "class E15--><a href=\"psysml:1ba0f1fa-2142-46f9-b759-d2e88bd368a2\" target=\"_top\" title=\"psysml:1ba0f1fa-2142-46f9-b759-d2e88bd368a2\" xlink:actuate=\"onRequest\" xlink:href=\"psysml:1ba0f1fa-2142-46f9-b759-d2e88bd368a2\" xlink:show=\"new\" xlink:title=\"psysml:1ba0f1fa-2142-46f9-b759-d2e88bd368a2\" xlink:type=\"simple\"><rect fill=\"#FEFECE\" filter=\"url(#f16his8oovlovr)\" height=\"45.9375\" id=\"E15\" rx=\"10\" ry=\"10\" style=\"stroke: #A80036; stroke-width: 1.5;\" width=\"122\" x=\"74\" y=\"41\"/><text fill=\"#000000\" font-family=\"sans-serif\" font-size=\"12\" font-style=\"italic\" lengthAdjust=\"spacingAndGlyphs\" textLength=\"40\" x=\"115\" y=\"57.1387\">«part»</text><text fill=\"#000000\" font-family=\"sans-serif\" font-size=\"12\" lengthAdjust=\"spacingAndGlyphs\" textLength=\"116\" x=\"77\" y=\"71.1074\">verificationContext</text><line style=\"stroke: #A80036; stroke-width: 1.5;\" x1=\"75\" x2=\"195\" y1=\"78.9375\" y2=\"78.9375\"/></a><!--MD5=[35f0587eaee8d5bb9a02e25b63afc23b]\n",
       "class E16--><a href=\"psysml:f139e62b-7bf9-43a0-a382-40038ed35c63\" target=\"_top\" title=\"psysml:f139e62b-7bf9-43a0-a382-40038ed35c63\" xlink:actuate=\"onRequest\" xlink:href=\"psysml:f139e62b-7bf9-43a0-a382-40038ed35c63\" xlink:show=\"new\" xlink:title=\"psysml:f139e62b-7bf9-43a0-a382-40038ed35c63\" xlink:type=\"simple\"><rect fill=\"#FEFECE\" filter=\"url(#f16his8oovlovr)\" height=\"45.9375\" id=\"E16\" rx=\"10\" ry=\"10\" style=\"stroke: #A80036; stroke-width: 1.5;\" width=\"206\" x=\"32\" y=\"158.5\"/><text fill=\"#000000\" font-family=\"sans-serif\" font-size=\"12\" font-style=\"italic\" lengthAdjust=\"spacingAndGlyphs\" textLength=\"113\" x=\"78.5\" y=\"174.6387\">«verificationCase»</text><text fill=\"#000000\" font-family=\"sans-serif\" font-size=\"12\" lengthAdjust=\"spacingAndGlyphs\" textLength=\"200\" x=\"35\" y=\"188.6074\">verificationPlan: VerificationPlan</text><line style=\"stroke: #A80036; stroke-width: 1.5;\" x1=\"33\" x2=\"237\" y1=\"196.4375\" y2=\"196.4375\"/></a><!--MD5=[60e55a4a9b2f0dc0a36787c5a2095786]\n",
       "class E17--><a href=\"psysml:fe640fc2-093c-44fe-a9fd-0ceecb8f463c\" target=\"_top\" title=\"psysml:fe640fc2-093c-44fe-a9fd-0ceecb8f463c\" xlink:actuate=\"onRequest\" xlink:href=\"psysml:fe640fc2-093c-44fe-a9fd-0ceecb8f463c\" xlink:show=\"new\" xlink:title=\"psysml:fe640fc2-093c-44fe-a9fd-0ceecb8f463c\" xlink:type=\"simple\"><rect fill=\"#FEFECE\" filter=\"url(#f16his8oovlovr)\" height=\"45.9375\" id=\"E17\" rx=\"10\" ry=\"10\" style=\"stroke: #A80036; stroke-width: 1.5;\" width=\"93\" x=\"88.5\" y=\"292\"/><text fill=\"#000000\" font-family=\"sans-serif\" font-size=\"12\" font-style=\"italic\" lengthAdjust=\"spacingAndGlyphs\" textLength=\"91\" x=\"89.5\" y=\"308.1387\">«requirement»</text><text fill=\"#000000\" font-family=\"sans-serif\" font-size=\"12\" lengthAdjust=\"spacingAndGlyphs\" textLength=\"19\" x=\"125.5\" y=\"322.1074\">obj</text><line style=\"stroke: #A80036; stroke-width: 1.5;\" x1=\"89.5\" x2=\"180.5\" y1=\"329.9375\" y2=\"329.9375\"/></a><text fill=\"#000000\" font-family=\"sans-serif\" font-size=\"14\" lengthAdjust=\"spacingAndGlyphs\" textLength=\"7\" x=\"1030.5\" y=\"42.6982\">v</text><rect fill=\"#A80036\" height=\"12\" style=\"stroke: #FEFECE; stroke-width: 1.5;\" width=\"12\" x=\"1028\" y=\"58\"/><text fill=\"#000000\" font-family=\"sans-serif\" font-size=\"14\" lengthAdjust=\"spacingAndGlyphs\" textLength=\"46\" x=\"1011\" y=\"392.9951\">verdict</text><rect fill=\"#A80036\" height=\"12\" style=\"stroke: #FEFECE; stroke-width: 1.5;\" width=\"12\" x=\"1028\" y=\"368\"/><text fill=\"#000000\" font-family=\"sans-serif\" font-size=\"14\" lengthAdjust=\"spacingAndGlyphs\" textLength=\"7\" x=\"358.5\" y=\"160.1982\">v</text><rect fill=\"#A80036\" height=\"12\" style=\"stroke: #FEFECE; stroke-width: 1.5;\" width=\"12\" x=\"356\" y=\"175.5\"/><text fill=\"#000000\" font-family=\"sans-serif\" font-size=\"14\" lengthAdjust=\"spacingAndGlyphs\" textLength=\"46\" x=\"643\" y=\"499.9951\">verdict</text><rect fill=\"#A80036\" height=\"12\" style=\"stroke: #FEFECE; stroke-width: 1.5;\" width=\"12\" x=\"660\" y=\"475\"/><text fill=\"#000000\" font-family=\"sans-serif\" font-size=\"14\" lengthAdjust=\"spacingAndGlyphs\" textLength=\"46\" x=\"518\" y=\"572.9951\">verdict</text><rect fill=\"#A80036\" height=\"12\" style=\"stroke: #FEFECE; stroke-width: 1.5;\" width=\"12\" x=\"535\" y=\"548\"/><text fill=\"#000000\" font-family=\"sans-serif\" font-size=\"14\" lengthAdjust=\"spacingAndGlyphs\" textLength=\"7\" x=\"537.5\" y=\"293.6982\">v</text><rect fill=\"#A80036\" height=\"12\" style=\"stroke: #FEFECE; stroke-width: 1.5;\" width=\"12\" x=\"535\" y=\"309\"/><!--MD5=[05d275557350bfb9b23a4ef7222b4c39]\n",
       "link E3 to E2--><a href=\"psysml:2b222a15-a90b-432a-993d-d339516ea993\" target=\"_top\" title=\"psysml:2b222a15-a90b-432a-993d-d339516ea993\" xlink:actuate=\"onRequest\" xlink:href=\"psysml:2b222a15-a90b-432a-993d-d339516ea993\" xlink:show=\"new\" xlink:title=\"psysml:2b222a15-a90b-432a-993d-d339516ea993\" xlink:type=\"simple\"><path d=\"M882,87.27 C882,101.65 882,120.82 882,138.04 \" fill=\"none\" id=\"E3-&gt;E2\" style=\"stroke: #A80036; stroke-width: 1.0;\"/><polygon fill=\"#FFFFFF\" points=\"882,158.3,875,139.3,889,139.3,882,158.3\" style=\"stroke: #A80036; stroke-width: 1.0;\"/><ellipse cx=\"877\" cy=\"133.6\" fill=\"#A80036\" rx=\"2\" ry=\"2\" style=\"stroke: #A80036; stroke-width: 1.0;\"/><ellipse cx=\"887\" cy=\"133.6\" fill=\"#A80036\" rx=\"2\" ry=\"2\" style=\"stroke: #A80036; stroke-width: 1.0;\"/></a><!--MD5=[1c62de2aa5b76f0fb657ff8443a1a700]\n",
       "link E5 to E4--><a href=\"psysml:4afeeb28-a204-4e17-a080-31f9a6d380ec\" target=\"_top\" title=\"psysml:4afeeb28-a204-4e17-a080-31f9a6d380ec\" xlink:actuate=\"onRequest\" xlink:href=\"psysml:4afeeb28-a204-4e17-a080-31f9a6d380ec\" xlink:show=\"new\" xlink:title=\"psysml:4afeeb28-a204-4e17-a080-31f9a6d380ec\" xlink:type=\"simple\"><path d=\"M755,87.27 C755,98.81 755,113.43 755,127.66 \" fill=\"none\" id=\"E5-&gt;E4\" style=\"stroke: #A80036; stroke-width: 1.0;\"/><polygon fill=\"#FFFFFF\" points=\"755,147.81,748,128.81,762,128.81,755,147.81\" style=\"stroke: #A80036; stroke-width: 1.0;\"/><ellipse cx=\"750\" cy=\"123.11\" fill=\"#A80036\" rx=\"2\" ry=\"2\" style=\"stroke: #A80036; stroke-width: 1.0;\"/><ellipse cx=\"760\" cy=\"123.11\" fill=\"#A80036\" rx=\"2\" ry=\"2\" style=\"stroke: #A80036; stroke-width: 1.0;\"/></a><!--MD5=[58e4cf537c4d67f6b3da95fd5b934e63]\n",
       "reverse link E15 to E16--><a href=\"psysml:4d9ca163-dfe0-49d5-81cb-3058dc3dad3f\" target=\"_top\" title=\"psysml:4d9ca163-dfe0-49d5-81cb-3058dc3dad3f\" xlink:actuate=\"onRequest\" xlink:href=\"psysml:4d9ca163-dfe0-49d5-81cb-3058dc3dad3f\" xlink:show=\"new\" xlink:title=\"psysml:4d9ca163-dfe0-49d5-81cb-3058dc3dad3f\" xlink:type=\"simple\"><path d=\"M135,100.49 C135,119.35 135,141.94 135,158.3 \" fill=\"none\" id=\"E15&lt;-E16\" style=\"stroke: #A80036; stroke-width: 1.0;\"/><polygon fill=\"#A80036\" points=\"135,87.27,131,93.27,135,99.27,139,93.27,135,87.27\" style=\"stroke: #A80036; stroke-width: 1.0;\"/></a><!--MD5=[4de2d328c39b6d65fb95a84ef336270e]\n",
       "link E16 to E9--><a href=\"psysml:cd73bb42-520f-4e04-8240-7f040abbe442\" target=\"_top\" title=\"psysml:cd73bb42-520f-4e04-8240-7f040abbe442\" xlink:actuate=\"onRequest\" xlink:href=\"psysml:cd73bb42-520f-4e04-8240-7f040abbe442\" xlink:show=\"new\" xlink:title=\"psysml:cd73bb42-520f-4e04-8240-7f040abbe442\" xlink:type=\"simple\"><path d=\"M172.99,204.51 C218.18,230.69 292.58,273.79 333.25,297.35 \" fill=\"none\" id=\"E16-&gt;E9\" style=\"stroke: #A80036; stroke-width: 1.0;\"/><polygon fill=\"#FFFFFF\" points=\"333.25,297.35,313.3006,293.8831,320.3182,281.7689,333.25,297.35\" style=\"stroke: #A80036; stroke-width: 1.0;\"/><ellipse cx=\"309.3709\" cy=\"289.2953\" fill=\"#A80036\" rx=\"2\" ry=\"2\" style=\"stroke: #A80036; stroke-width: 1.0;\"/><ellipse cx=\"314.3835\" cy=\"280.6423\" fill=\"#A80036\" rx=\"2\" ry=\"2\" style=\"stroke: #A80036; stroke-width: 1.0;\"/></a><!--MD5=[450e3481f1c83a03a55fcf78b0bbbde6]\n",
       "link E16 to E17--><a href=\"psysml:e29f10bd-d5bc-4797-97ab-a37fb0e5db5b\" target=\"_top\" title=\"psysml:e29f10bd-d5bc-4797-97ab-a37fb0e5db5b\" xlink:actuate=\"onRequest\" xlink:href=\"psysml:e29f10bd-d5bc-4797-97ab-a37fb0e5db5b\" xlink:show=\"new\" xlink:title=\"psysml:e29f10bd-d5bc-4797-97ab-a37fb0e5db5b\" xlink:type=\"simple\"><path d=\"M135,204.51 C135,226.22 135,259.59 135,283.78 \" fill=\"none\" id=\"E16-&gt;E17\" style=\"stroke: #A80036; stroke-width: 1.0;\"/><polygon fill=\"#A80036\" points=\"135,291.92,138,283.92,132,283.92,135,291.92\" style=\"stroke: #A80036; stroke-width: 1.0;\"/><text fill=\"#000000\" font-family=\"sans-serif\" font-size=\"13\" lengthAdjust=\"spacingAndGlyphs\" textLength=\"73\" x=\"136\" y=\"258.0669\">«objective»</text><text fill=\"#000000\" font-family=\"sans-serif\" font-size=\"13\" lengthAdjust=\"spacingAndGlyphs\" textLength=\"7\" x=\"127.0594\" y=\"280.7948\">*</text></a><!--MD5=[91f18010e199ce201a3f6a9f19f04c8d]\n",
       "@startuml\r\n",
       "skinparam wrapWidth 300\r\n",
       "hide circle\r\n",
       "\r\n",
       "package \"VerificationTest\" as E1  [[psysml:7303dfcd-df1a-4034-bc74-eb93457ec7c0 ]]  {\r\n",
       "comp def \"V\" as E2  <<(T,blue) part def>> [[psysml:ee2cd088-4b38-485a-bdcf-f034eebaa933 ]] {\r\n",
       "}\r\n",
       "comp usage \"vv: V\" as E3  <<(T,blue) part>> [[psysml:ea23779d-7b91-41e0-a4d1-5f0745e774d2 ]] {\r\n",
       "}\r\n",
       "comp def \"R\" as E4  <<(T,blue) requirement def>> [[psysml:971e85b9-9957-4674-90a7-be3bf98856c5 ]] {\r\n",
       "...\r\n",
       "- -\r\n",
       "}\r\n",
       "comp usage \"r: R\" as E5  <<(T,blue) requirement>> [[psysml:bbcd2223-85a4-4701-a24f-5592c5712336 ]] {\r\n",
       "}\r\n",
       "rec def \"VerificationCase\" as E6  <<(T,blue) verificationCase def>> [[psysml:f44943ce-87bd-4d2b-91db-f66bd879bf72 ]] {\r\n",
       "portin \"v\" as E7  [[psysml:39e4c68a-7e48-4018-a595-005447bc25d1 ]] \r\n",
       "portout \"verdict\" as E8  [[psysml:e7480a5a-bc03-4bfb-926c-ff77790341ab ]] \r\n",
       "}\r\n",
       "\r\n",
       "rec def \"VerificationPlan\" as E9  <<(T,blue) verificationCase def>> [[psysml:109e665d-9569-4e28-8454-db86a3b7365b ]] {\r\n",
       "portin \"v\" as E10  [[psysml:bc04aa0f-1251-4bd1-9492-821de83ad0f4 ]] \r\n",
       "rec usage \"verificationCase\" as E11  <<(T,blue) verificationCase>> [[psysml:d8eec309-4539-4ef6-b593-f8d5221313a5 ]] {\r\n",
       "portout \"verdict\" as E12  [[psysml:d4b19012-2d8f-412c-81cb-04106ed54ab9 ]] \r\n",
       "portin \"v\" as E13  [[psysml:101691aa-2b16-4439-bb49-3b5a9750b72a ]] \r\n",
       "}\r\n",
       "\r\n",
       "portout \"verdict\" as E14  [[psysml:d1cc474d-a7ae-4245-8f3b-eac2c389ad3d ]] \r\n",
       "}\r\n",
       "\r\n",
       "comp usage \"verificationContext\" as E15  <<(T,blue) part>> [[psysml:1ba0f1fa-2142-46f9-b759-d2e88bd368a2 ]] {\r\n",
       "}\r\n",
       "comp usage \"verificationPlan: VerificationPlan\" as E16  <<(T,blue) verificationCase>> [[psysml:f139e62b-7bf9-43a0-a382-40038ed35c63 ]] {\r\n",
       "}\r\n",
       "comp usage \"obj\" as E17  <<(T,blue) requirement>> [[psysml:fe640fc2-093c-44fe-a9fd-0ceecb8f463c ]] {\r\n",
       "}\r\n",
       "}\r\n",
       "E3 - -:|> E2 [[psysml:2b222a15-a90b-432a-993d-d339516ea993 ]] \r\n",
       "E5 - -:|> E4 [[psysml:4afeeb28-a204-4e17-a080-31f9a6d380ec ]] \r\n",
       "E15 *- - E16 [[psysml:4d9ca163-dfe0-49d5-81cb-3058dc3dad3f ]] \r\n",
       "E16 - -:|> E9 [[psysml:cd73bb42-520f-4e04-8240-7f040abbe442 ]] \r\n",
       "E16 - ->> \"*\"E17 [[psysml:e29f10bd-d5bc-4797-97ab-a37fb0e5db5b ]] : <<objective>>\r\n",
       "@enduml\r\n",
       "\n",
       "PlantUML version 1.2020.13(Sat Jun 13 12:26:38 UTC 2020)\n",
       "(EPL source distribution)\n",
       "Java Runtime: OpenJDK Runtime Environment\n",
       "JVM: OpenJDK 64-Bit Server VM\n",
       "Default Encoding: UTF-8\n",
       "Language: en\n",
       "Country: null\n",
       "--></g></svg>"
      ]
     },
     "execution_count": 23,
     "metadata": {},
     "output_type": "execute_result"
    }
   ],
   "source": [
    "%viz --style=\"STDCOLOR\" --view=\"Default\" \"VerificationTest\""
   ]
  },
  {
   "cell_type": "code",
   "execution_count": 24,
   "id": "5e92edcd",
   "metadata": {
    "execution": {
     "iopub.execute_input": "2021-10-03T08:26:48.614837Z",
     "iopub.status.busy": "2021-10-03T08:26:48.614429Z",
     "iopub.status.idle": "2021-10-03T08:26:48.673436Z",
     "shell.execute_reply": "2021-10-03T08:26:48.673240Z"
    }
   },
   "outputs": [
    {
     "data": {
      "image/svg+xml": [
       "<?xml version=\"1.0\" encoding=\"UTF-8\" standalone=\"no\"?><svg xmlns=\"http://www.w3.org/2000/svg\" xmlns:xlink=\"http://www.w3.org/1999/xlink\" contentScriptType=\"application/ecmascript\" contentStyleType=\"text/css\" height=\"268px\" preserveAspectRatio=\"none\" style=\"width:746px;height:268px;\" version=\"1.1\" viewBox=\"0 0 746 268\" width=\"746px\" zoomAndPan=\"magnify\"><defs><filter height=\"300%\" id=\"f1g38adjv8gtl8\" width=\"300%\" x=\"-1\" y=\"-1\"><feGaussianBlur result=\"blurOut\" stdDeviation=\"2.0\"/><feColorMatrix in=\"blurOut\" result=\"blurOut2\" type=\"matrix\" values=\"0 0 0 0 0 0 0 0 0 0 0 0 0 0 0 0 0 0 .4 0\"/><feOffset dx=\"4.0\" dy=\"4.0\" in=\"blurOut2\" result=\"blurOut3\"/><feBlend in=\"SourceGraphic\" in2=\"blurOut3\" mode=\"normal\"/></filter></defs><g><!--MD5=[fbc87193dbaf4d95561dea2c320d4a47]\n",
       "cluster E1--><a href=\"psysml:7303dfcd-df1a-4034-bc74-eb93457ec7c0\" target=\"_top\" title=\"psysml:7303dfcd-df1a-4034-bc74-eb93457ec7c0\" xlink:actuate=\"onRequest\" xlink:href=\"psysml:7303dfcd-df1a-4034-bc74-eb93457ec7c0\" xlink:show=\"new\" xlink:title=\"psysml:7303dfcd-df1a-4034-bc74-eb93457ec7c0\" xlink:type=\"simple\"><polygon fill=\"#FFFFFF\" filter=\"url(#f1g38adjv8gtl8)\" points=\"16,6,128,6,135,28.2969,724,28.2969,724,256,16,256,16,6\" style=\"stroke: #000000; stroke-width: 1.5;\"/><line style=\"stroke: #000000; stroke-width: 1.5;\" x1=\"16\" x2=\"135\" y1=\"28.2969\" y2=\"28.2969\"/><text fill=\"#000000\" font-family=\"sans-serif\" font-size=\"14\" font-weight=\"bold\" lengthAdjust=\"spacingAndGlyphs\" textLength=\"106\" x=\"20\" y=\"20.9951\">VerificationTest</text></a><!--MD5=[b4997ac47864f28c2f74865a473b2911]\n",
       "class E2--><a href=\"psysml:ee2cd088-4b38-485a-bdcf-f034eebaa933\" target=\"_top\" title=\"psysml:ee2cd088-4b38-485a-bdcf-f034eebaa933\" xlink:actuate=\"onRequest\" xlink:href=\"psysml:ee2cd088-4b38-485a-bdcf-f034eebaa933\" xlink:show=\"new\" xlink:title=\"psysml:ee2cd088-4b38-485a-bdcf-f034eebaa933\" xlink:type=\"simple\"><rect fill=\"#FEFECE\" filter=\"url(#f1g38adjv8gtl8)\" height=\"45.9375\" id=\"E2\" style=\"stroke: #A80036; stroke-width: 1.5;\" width=\"66\" x=\"342\" y=\"179\"/><text fill=\"#000000\" font-family=\"sans-serif\" font-size=\"12\" font-style=\"italic\" lengthAdjust=\"spacingAndGlyphs\" textLength=\"64\" x=\"343\" y=\"195.1387\">«part def»</text><text fill=\"#000000\" font-family=\"sans-serif\" font-size=\"12\" lengthAdjust=\"spacingAndGlyphs\" textLength=\"8\" x=\"371\" y=\"209.1074\">V</text><line style=\"stroke: #A80036; stroke-width: 1.5;\" x1=\"343\" x2=\"407\" y1=\"216.9375\" y2=\"216.9375\"/></a><!--MD5=[09b614a08d8cba4a07c9adeb5e0fee81]\n",
       "class E3--><a href=\"psysml:ea23779d-7b91-41e0-a4d1-5f0745e774d2\" target=\"_top\" title=\"psysml:ea23779d-7b91-41e0-a4d1-5f0745e774d2\" xlink:actuate=\"onRequest\" xlink:href=\"psysml:ea23779d-7b91-41e0-a4d1-5f0745e774d2\" xlink:show=\"new\" xlink:title=\"psysml:ea23779d-7b91-41e0-a4d1-5f0745e774d2\" xlink:type=\"simple\"><rect fill=\"#FEFECE\" filter=\"url(#f1g38adjv8gtl8)\" height=\"45.9375\" id=\"E3\" rx=\"10\" ry=\"10\" style=\"stroke: #A80036; stroke-width: 1.5;\" width=\"42\" x=\"364\" y=\"41\"/><text fill=\"#000000\" font-family=\"sans-serif\" font-size=\"12\" font-style=\"italic\" lengthAdjust=\"spacingAndGlyphs\" textLength=\"40\" x=\"365\" y=\"57.1387\">«part»</text><text fill=\"#000000\" font-family=\"sans-serif\" font-size=\"12\" lengthAdjust=\"spacingAndGlyphs\" textLength=\"28\" x=\"371\" y=\"71.1074\">vv: V</text><line style=\"stroke: #A80036; stroke-width: 1.5;\" x1=\"365\" x2=\"405\" y1=\"78.9375\" y2=\"78.9375\"/></a><!--MD5=[ebbe1d658d1005bcc118a6aa81145e00]\n",
       "class E4--><a href=\"psysml:971e85b9-9957-4674-90a7-be3bf98856c5\" target=\"_top\" title=\"psysml:971e85b9-9957-4674-90a7-be3bf98856c5\" xlink:actuate=\"onRequest\" xlink:href=\"psysml:971e85b9-9957-4674-90a7-be3bf98856c5\" xlink:show=\"new\" xlink:title=\"psysml:971e85b9-9957-4674-90a7-be3bf98856c5\" xlink:type=\"simple\"><rect fill=\"#FEFECE\" filter=\"url(#f1g38adjv8gtl8)\" height=\"66.7422\" id=\"E4\" style=\"stroke: #A80036; stroke-width: 1.5;\" width=\"117\" x=\"590.5\" y=\"168.5\"/><text fill=\"#000000\" font-family=\"sans-serif\" font-size=\"12\" font-style=\"italic\" lengthAdjust=\"spacingAndGlyphs\" textLength=\"115\" x=\"591.5\" y=\"184.6387\">«requirement def»</text><text fill=\"#000000\" font-family=\"sans-serif\" font-size=\"12\" lengthAdjust=\"spacingAndGlyphs\" textLength=\"8\" x=\"645\" y=\"198.6074\">R</text><line style=\"stroke: #A80036; stroke-width: 1.5;\" x1=\"591.5\" x2=\"706.5\" y1=\"206.4375\" y2=\"206.4375\"/><text fill=\"#000000\" font-family=\"sans-serif\" font-size=\"11\" lengthAdjust=\"spacingAndGlyphs\" textLength=\"12\" x=\"596.5\" y=\"220.6479\">...</text><line style=\"stroke: #A80036; stroke-width: 1.0;\" x1=\"591.5\" x2=\"706.5\" y1=\"227.2422\" y2=\"227.2422\"/></a><!--MD5=[270fce915f116d4de14055a7c1d9a0f3]\n",
       "class E5--><a href=\"psysml:bbcd2223-85a4-4701-a24f-5592c5712336\" target=\"_top\" title=\"psysml:bbcd2223-85a4-4701-a24f-5592c5712336\" xlink:actuate=\"onRequest\" xlink:href=\"psysml:bbcd2223-85a4-4701-a24f-5592c5712336\" xlink:show=\"new\" xlink:title=\"psysml:bbcd2223-85a4-4701-a24f-5592c5712336\" xlink:type=\"simple\"><rect fill=\"#FEFECE\" filter=\"url(#f1g38adjv8gtl8)\" height=\"45.9375\" id=\"E5\" rx=\"10\" ry=\"10\" style=\"stroke: #A80036; stroke-width: 1.5;\" width=\"93\" x=\"615.5\" y=\"41\"/><text fill=\"#000000\" font-family=\"sans-serif\" font-size=\"12\" font-style=\"italic\" lengthAdjust=\"spacingAndGlyphs\" textLength=\"91\" x=\"616.5\" y=\"57.1387\">«requirement»</text><text fill=\"#000000\" font-family=\"sans-serif\" font-size=\"12\" lengthAdjust=\"spacingAndGlyphs\" textLength=\"21\" x=\"651.5\" y=\"71.1074\">r: R</text><line style=\"stroke: #A80036; stroke-width: 1.5;\" x1=\"616.5\" x2=\"707.5\" y1=\"78.9375\" y2=\"78.9375\"/></a><!--MD5=[60a26617385b1d2d0262a64233df1f8d]\n",
       "class E6--><a href=\"psysml:f44943ce-87bd-4d2b-91db-f66bd879bf72\" target=\"_top\" title=\"psysml:f44943ce-87bd-4d2b-91db-f66bd879bf72\" xlink:actuate=\"onRequest\" xlink:href=\"psysml:f44943ce-87bd-4d2b-91db-f66bd879bf72\" xlink:show=\"new\" xlink:title=\"psysml:f44943ce-87bd-4d2b-91db-f66bd879bf72\" xlink:type=\"simple\"><rect fill=\"#FEFECE\" filter=\"url(#f1g38adjv8gtl8)\" height=\"45.9375\" id=\"E6\" style=\"stroke: #A80036; stroke-width: 1.5;\" width=\"139\" x=\"441.5\" y=\"41\"/><text fill=\"#000000\" font-family=\"sans-serif\" font-size=\"12\" font-style=\"italic\" lengthAdjust=\"spacingAndGlyphs\" textLength=\"137\" x=\"442.5\" y=\"57.1387\">«verificationCase def»</text><text fill=\"#000000\" font-family=\"sans-serif\" font-size=\"12\" lengthAdjust=\"spacingAndGlyphs\" textLength=\"101\" x=\"460.5\" y=\"71.1074\">VerificationCase</text><line style=\"stroke: #A80036; stroke-width: 1.5;\" x1=\"442.5\" x2=\"579.5\" y1=\"78.9375\" y2=\"78.9375\"/></a><!--MD5=[2156ba9850f5573cc1fc38a6a4b2f02b]\n",
       "class E7--><a href=\"psysml:c1b61795-7b30-4440-a267-41d24baf94c2\" target=\"_top\" title=\"psysml:c1b61795-7b30-4440-a267-41d24baf94c2\" xlink:actuate=\"onRequest\" xlink:href=\"psysml:c1b61795-7b30-4440-a267-41d24baf94c2\" xlink:show=\"new\" xlink:title=\"psysml:c1b61795-7b30-4440-a267-41d24baf94c2\" xlink:type=\"simple\"><rect fill=\"#FEFECE\" filter=\"url(#f1g38adjv8gtl8)\" height=\"75.5469\" id=\"E7\" rx=\"10\" ry=\"10\" style=\"stroke: #A80036; stroke-width: 1.5;\" width=\"93\" x=\"462.5\" y=\"164\"/><text fill=\"#000000\" font-family=\"sans-serif\" font-size=\"12\" font-style=\"italic\" lengthAdjust=\"spacingAndGlyphs\" textLength=\"91\" x=\"463.5\" y=\"180.1387\">«requirement»</text><text fill=\"#000000\" font-family=\"sans-serif\" font-size=\"12\" lengthAdjust=\"spacingAndGlyphs\" textLength=\"19\" x=\"499.5\" y=\"194.1074\">obj</text><line style=\"stroke: #A80036; stroke-width: 1.5;\" x1=\"463.5\" x2=\"554.5\" y1=\"201.9375\" y2=\"201.9375\"/><text fill=\"#000000\" font-family=\"sans-serif\" font-size=\"11\" font-weight=\"bold\" lengthAdjust=\"spacingAndGlyphs\" textLength=\"41\" x=\"468.5\" y=\"232.9526\">require</text><text fill=\"#000000\" font-family=\"sans-serif\" font-size=\"11\" lengthAdjust=\"spacingAndGlyphs\" textLength=\"15\" x=\"513.5\" y=\"232.9526\">: R</text><line style=\"stroke: #A80036; stroke-width: 1.0;\" x1=\"463.5\" x2=\"470.5\" y1=\"216.3398\" y2=\"216.3398\"/><text fill=\"#000000\" font-family=\"sans-serif\" font-size=\"11\" lengthAdjust=\"spacingAndGlyphs\" textLength=\"77\" x=\"470.5\" y=\"219.6479\">requirements</text><line style=\"stroke: #A80036; stroke-width: 1.0;\" x1=\"547.5\" x2=\"554.5\" y1=\"216.3398\" y2=\"216.3398\"/></a><!--MD5=[fd4143e9d270a159db93a4ea2a975926]\n",
       "class E9--><a href=\"psysml:109e665d-9569-4e28-8454-db86a3b7365b\" target=\"_top\" title=\"psysml:109e665d-9569-4e28-8454-db86a3b7365b\" xlink:actuate=\"onRequest\" xlink:href=\"psysml:109e665d-9569-4e28-8454-db86a3b7365b\" xlink:show=\"new\" xlink:title=\"psysml:109e665d-9569-4e28-8454-db86a3b7365b\" xlink:type=\"simple\"><rect fill=\"#FEFECE\" filter=\"url(#f1g38adjv8gtl8)\" height=\"45.9375\" id=\"E9\" style=\"stroke: #A80036; stroke-width: 1.5;\" width=\"139\" x=\"189.5\" y=\"41\"/><text fill=\"#000000\" font-family=\"sans-serif\" font-size=\"12\" font-style=\"italic\" lengthAdjust=\"spacingAndGlyphs\" textLength=\"137\" x=\"190.5\" y=\"57.1387\">«verificationCase def»</text><text fill=\"#000000\" font-family=\"sans-serif\" font-size=\"12\" lengthAdjust=\"spacingAndGlyphs\" textLength=\"97\" x=\"210.5\" y=\"71.1074\">VerificationPlan</text><line style=\"stroke: #A80036; stroke-width: 1.5;\" x1=\"190.5\" x2=\"327.5\" y1=\"78.9375\" y2=\"78.9375\"/></a><!--MD5=[96f4274e9e20536e775497830990834d]\n",
       "class E10--><a href=\"psysml:7031c3a4-5568-406f-9713-a580e51688a6\" target=\"_top\" title=\"psysml:7031c3a4-5568-406f-9713-a580e51688a6\" xlink:actuate=\"onRequest\" xlink:href=\"psysml:7031c3a4-5568-406f-9713-a580e51688a6\" xlink:show=\"new\" xlink:title=\"psysml:7031c3a4-5568-406f-9713-a580e51688a6\" xlink:type=\"simple\"><rect fill=\"#FEFECE\" filter=\"url(#f1g38adjv8gtl8)\" height=\"75.5469\" id=\"E10\" rx=\"10\" ry=\"10\" style=\"stroke: #A80036; stroke-width: 1.5;\" width=\"93\" x=\"143.5\" y=\"164\"/><text fill=\"#000000\" font-family=\"sans-serif\" font-size=\"12\" font-style=\"italic\" lengthAdjust=\"spacingAndGlyphs\" textLength=\"91\" x=\"144.5\" y=\"180.1387\">«requirement»</text><text fill=\"#000000\" font-family=\"sans-serif\" font-size=\"12\" lengthAdjust=\"spacingAndGlyphs\" textLength=\"19\" x=\"180.5\" y=\"194.1074\">obj</text><line style=\"stroke: #A80036; stroke-width: 1.5;\" x1=\"144.5\" x2=\"235.5\" y1=\"201.9375\" y2=\"201.9375\"/><text fill=\"#000000\" font-family=\"sans-serif\" font-size=\"11\" font-weight=\"bold\" lengthAdjust=\"spacingAndGlyphs\" textLength=\"41\" x=\"149.5\" y=\"232.9526\">require</text><text fill=\"#000000\" font-family=\"sans-serif\" font-size=\"11\" lengthAdjust=\"spacingAndGlyphs\" textLength=\"5\" x=\"194.5\" y=\"232.9526\">r</text><line style=\"stroke: #A80036; stroke-width: 1.0;\" x1=\"144.5\" x2=\"151.5\" y1=\"216.3398\" y2=\"216.3398\"/><text fill=\"#000000\" font-family=\"sans-serif\" font-size=\"11\" lengthAdjust=\"spacingAndGlyphs\" textLength=\"77\" x=\"151.5\" y=\"219.6479\">requirements</text><line style=\"stroke: #A80036; stroke-width: 1.0;\" x1=\"228.5\" x2=\"235.5\" y1=\"216.3398\" y2=\"216.3398\"/></a><!--MD5=[49a0ec8f00dab7302a31f22d0f0fe584]\n",
       "class E12--><a href=\"psysml:1ba0f1fa-2142-46f9-b759-d2e88bd368a2\" target=\"_top\" title=\"psysml:1ba0f1fa-2142-46f9-b759-d2e88bd368a2\" xlink:actuate=\"onRequest\" xlink:href=\"psysml:1ba0f1fa-2142-46f9-b759-d2e88bd368a2\" xlink:show=\"new\" xlink:title=\"psysml:1ba0f1fa-2142-46f9-b759-d2e88bd368a2\" xlink:type=\"simple\"><rect fill=\"#FEFECE\" filter=\"url(#f1g38adjv8gtl8)\" height=\"45.9375\" id=\"E12\" rx=\"10\" ry=\"10\" style=\"stroke: #A80036; stroke-width: 1.5;\" width=\"122\" x=\"32\" y=\"41\"/><text fill=\"#000000\" font-family=\"sans-serif\" font-size=\"12\" font-style=\"italic\" lengthAdjust=\"spacingAndGlyphs\" textLength=\"40\" x=\"73\" y=\"57.1387\">«part»</text><text fill=\"#000000\" font-family=\"sans-serif\" font-size=\"12\" lengthAdjust=\"spacingAndGlyphs\" textLength=\"116\" x=\"35\" y=\"71.1074\">verificationContext</text><line style=\"stroke: #A80036; stroke-width: 1.5;\" x1=\"33\" x2=\"153\" y1=\"78.9375\" y2=\"78.9375\"/></a><!--MD5=[05d275557350bfb9b23a4ef7222b4c39]\n",
       "link E3 to E2--><a href=\"psysml:2b222a15-a90b-432a-993d-d339516ea993\" target=\"_top\" title=\"psysml:2b222a15-a90b-432a-993d-d339516ea993\" xlink:actuate=\"onRequest\" xlink:href=\"psysml:2b222a15-a90b-432a-993d-d339516ea993\" xlink:show=\"new\" xlink:title=\"psysml:2b222a15-a90b-432a-993d-d339516ea993\" xlink:type=\"simple\"><path d=\"M382.68,87.25 C381.77,96.45 380.76,107.23 380,117 C378.94,130.6 377.99,145.45 377.21,158.84 \" fill=\"none\" id=\"E3-&gt;E2\" style=\"stroke: #A80036; stroke-width: 1.0;\"/><polygon fill=\"#FFFFFF\" points=\"376.1,178.88,370.1701,159.5193,384.1483,160.2998,376.1,178.88\" style=\"stroke: #A80036; stroke-width: 1.0;\"/><ellipse cx=\"372.4847\" cy=\"153.9397\" fill=\"#A80036\" rx=\"2\" ry=\"2\" style=\"stroke: #A80036; stroke-width: 1.0;\"/><ellipse cx=\"382.4692\" cy=\"154.4971\" fill=\"#A80036\" rx=\"2\" ry=\"2\" style=\"stroke: #A80036; stroke-width: 1.0;\"/></a><!--MD5=[1c62de2aa5b76f0fb657ff8443a1a700]\n",
       "link E5 to E4--><a href=\"psysml:4afeeb28-a204-4e17-a080-31f9a6d380ec\" target=\"_top\" title=\"psysml:4afeeb28-a204-4e17-a080-31f9a6d380ec\" xlink:actuate=\"onRequest\" xlink:href=\"psysml:4afeeb28-a204-4e17-a080-31f9a6d380ec\" xlink:show=\"new\" xlink:title=\"psysml:4afeeb28-a204-4e17-a080-31f9a6d380ec\" xlink:type=\"simple\"><path d=\"M659.88,87.15 C658.3,103.69 656.07,127.01 654.04,148.23 \" fill=\"none\" id=\"E5-&gt;E4\" style=\"stroke: #A80036; stroke-width: 1.0;\"/><polygon fill=\"#FFFFFF\" points=\"652.11,168.44,646.9475,148.8607,660.8842,150.1913,652.11,168.44\" style=\"stroke: #A80036; stroke-width: 1.0;\"/><ellipse cx=\"649.4803\" cy=\"143.3766\" fill=\"#A80036\" rx=\"2\" ry=\"2\" style=\"stroke: #A80036; stroke-width: 1.0;\"/><ellipse cx=\"659.435\" cy=\"144.327\" fill=\"#A80036\" rx=\"2\" ry=\"2\" style=\"stroke: #A80036; stroke-width: 1.0;\"/></a><!--MD5=[2351f337d6de0f557b50152ba70847b5]\n",
       "link E6 to E2--><a href=\"psysml:0a65a73b-aad1-46f6-97e3-b503c188383c\" target=\"_top\" title=\"psysml:0a65a73b-aad1-46f6-97e3-b503c188383c\" xlink:actuate=\"onRequest\" xlink:href=\"psysml:0a65a73b-aad1-46f6-97e3-b503c188383c\" xlink:show=\"new\" xlink:title=\"psysml:0a65a73b-aad1-46f6-97e3-b503c188383c\" xlink:type=\"simple\"><path d=\"M475.49,87.03 C462.98,95.62 449.25,106.02 438,117 C420.2,134.37 403.48,157.08 391.74,174.51 \" fill=\"none\" id=\"E6-&gt;E2\" style=\"stroke: #A80036; stroke-width: 1.0; stroke-dasharray: 7.0,7.0;\"/><polygon fill=\"#A80036\" points=\"388.87,178.82,397.1822,173.5372,391.6369,174.6554,390.5187,169.1101,388.87,178.82\" style=\"stroke: #A80036; stroke-width: 1.0;\"/><text fill=\"#000000\" font-family=\"sans-serif\" font-size=\"13\" lengthAdjust=\"spacingAndGlyphs\" textLength=\"62\" x=\"439\" y=\"130.0669\">«subject»</text></a><!--MD5=[02c70b7c851c11e3980e4e90450dc5dd]\n",
       "link E6 to E7--><a href=\"psysml:ca392d64-6b44-4e33-bff2-bf36fcd3e380\" target=\"_top\" title=\"psysml:ca392d64-6b44-4e33-bff2-bf36fcd3e380\" xlink:actuate=\"onRequest\" xlink:href=\"psysml:ca392d64-6b44-4e33-bff2-bf36fcd3e380\" xlink:show=\"new\" xlink:title=\"psysml:ca392d64-6b44-4e33-bff2-bf36fcd3e380\" xlink:type=\"simple\"><path d=\"M510.67,87.15 C510.4,105.66 510.01,132.63 509.67,155.68 \" fill=\"none\" id=\"E6-&gt;E7\" style=\"stroke: #A80036; stroke-width: 1.0;\"/><polygon fill=\"#A80036\" points=\"509.54,163.97,512.6682,156.0192,506.6689,155.9228,509.54,163.97\" style=\"stroke: #A80036; stroke-width: 1.0;\"/><text fill=\"#000000\" font-family=\"sans-serif\" font-size=\"13\" lengthAdjust=\"spacingAndGlyphs\" textLength=\"73\" x=\"511\" y=\"130.0669\">«objective»</text><text fill=\"#000000\" font-family=\"sans-serif\" font-size=\"13\" lengthAdjust=\"spacingAndGlyphs\" textLength=\"7\" x=\"502.0128\" y=\"152.979\">*</text></a><!--MD5=[5c3bb36fe832a92c7f0e1807dd65209d]\n",
       "link E9 to E2--><a href=\"psysml:e35a8663-5a9e-49b1-9953-8d2b3225b6ac\" target=\"_top\" title=\"psysml:e35a8663-5a9e-49b1-9953-8d2b3225b6ac\" xlink:actuate=\"onRequest\" xlink:href=\"psysml:e35a8663-5a9e-49b1-9953-8d2b3225b6ac\" xlink:show=\"new\" xlink:title=\"psysml:e35a8663-5a9e-49b1-9953-8d2b3225b6ac\" xlink:type=\"simple\"><path d=\"M272.53,87.26 C281.39,101.2 293.6,119.24 306,134 C318.17,148.48 333.08,163.26 345.92,175.25 \" fill=\"none\" id=\"E9-&gt;E2\" style=\"stroke: #A80036; stroke-width: 1.0; stroke-dasharray: 7.0,7.0;\"/><polygon fill=\"#A80036\" points=\"349.84,178.87,345.9545,169.82,346.1715,175.4727,340.5188,175.6896,349.84,178.87\" style=\"stroke: #A80036; stroke-width: 1.0;\"/><text fill=\"#000000\" font-family=\"sans-serif\" font-size=\"13\" lengthAdjust=\"spacingAndGlyphs\" textLength=\"62\" x=\"307\" y=\"130.0669\">«subject»</text></a><!--MD5=[35e5f1cbde42fa304a029880aa2bc7f2]\n",
       "link E9 to E10--><a href=\"psysml:a2e94b2d-09ed-4b49-b784-abde9df75390\" target=\"_top\" title=\"psysml:a2e94b2d-09ed-4b49-b784-abde9df75390\" xlink:actuate=\"onRequest\" xlink:href=\"psysml:a2e94b2d-09ed-4b49-b784-abde9df75390\" xlink:show=\"new\" xlink:title=\"psysml:a2e94b2d-09ed-4b49-b784-abde9df75390\" xlink:type=\"simple\"><path d=\"M214.66,87.18 C203.62,95 193.18,104.92 187,117 C181,128.73 179.61,142.63 180.32,155.71 \" fill=\"none\" id=\"E9-&gt;E10\" style=\"stroke: #A80036; stroke-width: 1.0;\"/><polygon fill=\"#A80036\" points=\"181.01,163.73,183.3133,155.5023,177.3354,156.0166,181.01,163.73\" style=\"stroke: #A80036; stroke-width: 1.0;\"/><text fill=\"#000000\" font-family=\"sans-serif\" font-size=\"13\" lengthAdjust=\"spacingAndGlyphs\" textLength=\"73\" x=\"188\" y=\"130.0669\">«objective»</text><text fill=\"#000000\" font-family=\"sans-serif\" font-size=\"13\" lengthAdjust=\"spacingAndGlyphs\" textLength=\"7\" x=\"171.8633\" y=\"152.9805\">*</text></a><!--MD5=[d11ec183d6d93487d8588cc7668de972]\n",
       "@startuml\r\n",
       "skinparam wrapWidth 300\r\n",
       "hide circle\r\n",
       "\r\n",
       "package \"VerificationTest\" as E1  [[psysml:7303dfcd-df1a-4034-bc74-eb93457ec7c0 ]]  {\r\n",
       "comp def \"V\" as E2  <<(T,blue) part def>> [[psysml:ee2cd088-4b38-485a-bdcf-f034eebaa933 ]] {\r\n",
       "}\r\n",
       "comp usage \"vv: V\" as E3  <<(T,blue) part>> [[psysml:ea23779d-7b91-41e0-a4d1-5f0745e774d2 ]] {\r\n",
       "}\r\n",
       "comp def \"R\" as E4  <<(T,blue) requirement def>> [[psysml:971e85b9-9957-4674-90a7-be3bf98856c5 ]] {\r\n",
       "...\r\n",
       "- -\r\n",
       "}\r\n",
       "comp usage \"r: R\" as E5  <<(T,blue) requirement>> [[psysml:bbcd2223-85a4-4701-a24f-5592c5712336 ]] {\r\n",
       "}\r\n",
       "comp def \"VerificationCase\" as E6  <<(T,blue) verificationCase def>> [[psysml:f44943ce-87bd-4d2b-91db-f66bd879bf72 ]] {\r\n",
       "}\r\n",
       "comp usage \"obj\" as E7  <<(T,blue) requirement>> [[psysml:c1b61795-7b30-4440-a267-41d24baf94c2 ]] {\r\n",
       "- - requirements - -\r\n",
       "<b>require</b> : R\r\n",
       "}\r\n",
       "comp def \"VerificationPlan\" as E9  <<(T,blue) verificationCase def>> [[psysml:109e665d-9569-4e28-8454-db86a3b7365b ]] {\r\n",
       "}\r\n",
       "comp usage \"obj\" as E10  <<(T,blue) requirement>> [[psysml:7031c3a4-5568-406f-9713-a580e51688a6 ]] {\r\n",
       "- - requirements - -\r\n",
       "<b>require</b> r\r\n",
       "}\r\n",
       "comp usage \"verificationContext\" as E12  <<(T,blue) part>> [[psysml:1ba0f1fa-2142-46f9-b759-d2e88bd368a2 ]] {\r\n",
       "}\r\n",
       "}\r\n",
       "E3 - -:|> E2 [[psysml:2b222a15-a90b-432a-993d-d339516ea993 ]] \r\n",
       "E5 - -:|> E4 [[psysml:4afeeb28-a204-4e17-a080-31f9a6d380ec ]] \r\n",
       "E6 ..> E2 [[psysml:0a65a73b-aad1-46f6-97e3-b503c188383c ]] : <<subject>>\r\n",
       "E6 - ->> \"*\"E7 [[psysml:ca392d64-6b44-4e33-bff2-bf36fcd3e380 ]] : <<objective>>\r\n",
       "E9 ..> E2 [[psysml:e35a8663-5a9e-49b1-9953-8d2b3225b6ac ]] : <<subject>>\r\n",
       "E9 - ->> \"*\"E10 [[psysml:a2e94b2d-09ed-4b49-b784-abde9df75390 ]] : <<objective>>\r\n",
       "@enduml\r\n",
       "\n",
       "PlantUML version 1.2020.13(Sat Jun 13 12:26:38 UTC 2020)\n",
       "(EPL source distribution)\n",
       "Java Runtime: OpenJDK Runtime Environment\n",
       "JVM: OpenJDK 64-Bit Server VM\n",
       "Default Encoding: UTF-8\n",
       "Language: en\n",
       "Country: null\n",
       "--></g></svg>"
      ]
     },
     "execution_count": 24,
     "metadata": {},
     "output_type": "execute_result"
    }
   ],
   "source": [
    "%viz --style=\"STDCOLOR\" --view=\"Tree\" \"VerificationTest\""
   ]
  },
  {
   "cell_type": "code",
   "execution_count": 25,
   "id": "e481e80b",
   "metadata": {
    "execution": {
     "iopub.execute_input": "2021-10-03T08:26:48.723144Z",
     "iopub.status.busy": "2021-10-03T08:26:48.722887Z",
     "iopub.status.idle": "2021-10-03T08:26:48.728474Z",
     "shell.execute_reply": "2021-10-03T08:26:48.728640Z"
    }
   },
   "outputs": [
    {
     "data": {
      "image/svg+xml": [
       "<?xml version=\"1.0\" encoding=\"UTF-8\" standalone=\"no\"?><svg xmlns=\"http://www.w3.org/2000/svg\" xmlns:xlink=\"http://www.w3.org/1999/xlink\" contentScriptType=\"application/ecmascript\" contentStyleType=\"text/css\" height=\"12px\" preserveAspectRatio=\"none\" style=\"width:12px;height:12px;\" version=\"1.1\" viewBox=\"0 0 12 12\" width=\"12px\" zoomAndPan=\"magnify\"><defs/><g><!--MD5=[aeeef50f102b80d730deb6443d14f702]\n",
       "@startuml\r\n",
       "skinparam wrapWidth 300\r\n",
       "hide circle\r\n",
       "\r\n",
       "@enduml\r\n",
       "\n",
       "PlantUML version 1.2020.13(Sat Jun 13 12:26:38 UTC 2020)\n",
       "(EPL source distribution)\n",
       "Java Runtime: OpenJDK Runtime Environment\n",
       "JVM: OpenJDK 64-Bit Server VM\n",
       "Default Encoding: UTF-8\n",
       "Language: en\n",
       "Country: null\n",
       "--></g></svg>"
      ]
     },
     "execution_count": 25,
     "metadata": {},
     "output_type": "execute_result"
    }
   ],
   "source": [
    "%viz --style=\"STDCOLOR\" --view=\"State\" \"VerificationTest\""
   ]
  },
  {
   "cell_type": "code",
   "execution_count": 26,
   "id": "9af357be",
   "metadata": {
    "execution": {
     "iopub.execute_input": "2021-10-03T08:26:48.779141Z",
     "iopub.status.busy": "2021-10-03T08:26:48.778732Z",
     "iopub.status.idle": "2021-10-03T08:26:48.845415Z",
     "shell.execute_reply": "2021-10-03T08:26:48.845051Z"
    }
   },
   "outputs": [
    {
     "data": {
      "image/svg+xml": [
       "<?xml version=\"1.0\" encoding=\"UTF-8\" standalone=\"no\"?><svg xmlns=\"http://www.w3.org/2000/svg\" xmlns:xlink=\"http://www.w3.org/1999/xlink\" contentScriptType=\"application/ecmascript\" contentStyleType=\"text/css\" height=\"436px\" preserveAspectRatio=\"none\" style=\"width:1278px;height:436px;\" version=\"1.1\" viewBox=\"0 0 1278 436\" width=\"1278px\" zoomAndPan=\"magnify\"><defs><filter height=\"300%\" id=\"f1b3bptkqidcwd\" width=\"300%\" x=\"-1\" y=\"-1\"><feGaussianBlur result=\"blurOut\" stdDeviation=\"2.0\"/><feColorMatrix in=\"blurOut\" result=\"blurOut2\" type=\"matrix\" values=\"0 0 0 0 0 0 0 0 0 0 0 0 0 0 0 0 0 0 .4 0\"/><feOffset dx=\"4.0\" dy=\"4.0\" in=\"blurOut2\" result=\"blurOut3\"/><feBlend in=\"SourceGraphic\" in2=\"blurOut3\" mode=\"normal\"/></filter></defs><g><!--MD5=[fbc87193dbaf4d95561dea2c320d4a47]\n",
       "cluster E1--><a href=\"psysml:7303dfcd-df1a-4034-bc74-eb93457ec7c0\" target=\"_top\" title=\"psysml:7303dfcd-df1a-4034-bc74-eb93457ec7c0\" xlink:actuate=\"onRequest\" xlink:href=\"psysml:7303dfcd-df1a-4034-bc74-eb93457ec7c0\" xlink:show=\"new\" xlink:title=\"psysml:7303dfcd-df1a-4034-bc74-eb93457ec7c0\" xlink:type=\"simple\"><polygon fill=\"#FFFFFF\" filter=\"url(#f1b3bptkqidcwd)\" points=\"16,6,128,6,135,28.2969,1256,28.2969,1256,424.36,16,424.36,16,6\" style=\"stroke: #000000; stroke-width: 1.5;\"/><line style=\"stroke: #000000; stroke-width: 1.5;\" x1=\"16\" x2=\"135\" y1=\"28.2969\" y2=\"28.2969\"/><text fill=\"#000000\" font-family=\"sans-serif\" font-size=\"14\" font-weight=\"bold\" lengthAdjust=\"spacingAndGlyphs\" textLength=\"106\" x=\"20\" y=\"20.9951\">VerificationTest</text></a><!--MD5=[14e3b0961a2654348d326746436168a1]\n",
       "cluster E6--><a href=\"psysml:f44943ce-87bd-4d2b-91db-f66bd879bf72\" target=\"_top\" title=\"psysml:f44943ce-87bd-4d2b-91db-f66bd879bf72\" xlink:actuate=\"onRequest\" xlink:href=\"psysml:f44943ce-87bd-4d2b-91db-f66bd879bf72\" xlink:show=\"new\" xlink:title=\"psysml:f44943ce-87bd-4d2b-91db-f66bd879bf72\" xlink:type=\"simple\"><rect fill=\"#FFFFFF\" filter=\"url(#f1b3bptkqidcwd)\" height=\"218.36\" id=\"E6\" style=\"stroke: #A80036; stroke-width: 1.5;\" width=\"200\" x=\"1040\" y=\"107\"/><rect fill=\"#FEFECE\" height=\"37.9375\" style=\"stroke: #A80036; stroke-width: 1.5;\" width=\"200\" x=\"1040\" y=\"107\"/><text fill=\"#000000\" font-family=\"sans-serif\" font-size=\"12\" font-style=\"italic\" lengthAdjust=\"spacingAndGlyphs\" textLength=\"137\" x=\"1071.5\" y=\"123.1387\">«verificationCase def»</text><text fill=\"#000000\" font-family=\"sans-serif\" font-size=\"12\" lengthAdjust=\"spacingAndGlyphs\" textLength=\"101\" x=\"1089.5\" y=\"137.1074\">VerificationCase</text></a><!--MD5=[7f149f147074ac12df2cb0a7728a5fb0]\n",
       "cluster E9--><a href=\"psysml:109e665d-9569-4e28-8454-db86a3b7365b\" target=\"_top\" title=\"psysml:109e665d-9569-4e28-8454-db86a3b7365b\" xlink:actuate=\"onRequest\" xlink:href=\"psysml:109e665d-9569-4e28-8454-db86a3b7365b\" xlink:show=\"new\" xlink:title=\"psysml:109e665d-9569-4e28-8454-db86a3b7365b\" xlink:type=\"simple\"><rect fill=\"#FFFFFF\" filter=\"url(#f1b3bptkqidcwd)\" height=\"293.36\" id=\"E9\" style=\"stroke: #A80036; stroke-width: 1.5;\" width=\"322\" x=\"688\" y=\"107\"/><rect fill=\"#FEFECE\" height=\"37.9375\" style=\"stroke: #A80036; stroke-width: 1.5;\" width=\"322\" x=\"688\" y=\"107\"/><text fill=\"#000000\" font-family=\"sans-serif\" font-size=\"12\" font-style=\"italic\" lengthAdjust=\"spacingAndGlyphs\" textLength=\"137\" x=\"780.5\" y=\"123.1387\">«verificationCase def»</text><text fill=\"#000000\" font-family=\"sans-serif\" font-size=\"12\" lengthAdjust=\"spacingAndGlyphs\" textLength=\"97\" x=\"800.5\" y=\"137.1074\">VerificationPlan</text></a><!--MD5=[917b9dd0c7eca3ee5f47219d1a84c0ad]\n",
       "cluster E11--><a href=\"psysml:d8eec309-4539-4ef6-b593-f8d5221313a5\" target=\"_top\" title=\"psysml:d8eec309-4539-4ef6-b593-f8d5221313a5\" xlink:actuate=\"onRequest\" xlink:href=\"psysml:d8eec309-4539-4ef6-b593-f8d5221313a5\" xlink:show=\"new\" xlink:title=\"psysml:d8eec309-4539-4ef6-b593-f8d5221313a5\" xlink:type=\"simple\"><rect fill=\"#FFFFFF\" filter=\"url(#f1b3bptkqidcwd)\" height=\"165.86\" id=\"E11\" rx=\"10\" ry=\"10\" style=\"stroke: #A80036; stroke-width: 1.5;\" width=\"174\" x=\"798\" y=\"196.5\"/><rect fill=\"#FEFECE\" height=\"37.9375\" rx=\"10\" ry=\"10\" style=\"stroke: #FEFECE; stroke-width: 1.5;\" width=\"174\" x=\"798\" y=\"196.5\"/><rect fill=\"#FEFECE\" height=\"10\" style=\"stroke: #FEFECE; stroke-width: 1.5;\" width=\"174\" x=\"798\" y=\"224.4375\"/><rect fill=\"none\" height=\"165.86\" id=\"E11\" rx=\"10\" ry=\"10\" style=\"stroke: #A80036; stroke-width: 1.5;\" width=\"174\" x=\"798\" y=\"196.5\"/><text fill=\"#000000\" font-family=\"sans-serif\" font-size=\"12\" font-style=\"italic\" lengthAdjust=\"spacingAndGlyphs\" textLength=\"113\" x=\"828.5\" y=\"212.6387\">«verificationCase»</text><text fill=\"#000000\" font-family=\"sans-serif\" font-size=\"12\" lengthAdjust=\"spacingAndGlyphs\" textLength=\"99\" x=\"835.5\" y=\"226.6074\">verificationCase</text><line style=\"stroke: #A80036; stroke-width: 1.0;\" x1=\"798\" x2=\"972\" y1=\"234.4375\" y2=\"234.4375\"/></a><!--MD5=[ab3548ab6224ff035c4047a4d30b7567]\n",
       "cluster E15--><a href=\"psysml:1ba0f1fa-2142-46f9-b759-d2e88bd368a2\" target=\"_top\" title=\"psysml:1ba0f1fa-2142-46f9-b759-d2e88bd368a2\" xlink:actuate=\"onRequest\" xlink:href=\"psysml:1ba0f1fa-2142-46f9-b759-d2e88bd368a2\" xlink:show=\"new\" xlink:title=\"psysml:1ba0f1fa-2142-46f9-b759-d2e88bd368a2\" xlink:type=\"simple\"><rect fill=\"#FFFFFF\" filter=\"url(#f1b3bptkqidcwd)\" height=\"186.5\" id=\"E15\" rx=\"10\" ry=\"10\" style=\"stroke: #A80036; stroke-width: 1.5;\" width=\"238\" x=\"336\" y=\"49\"/><rect fill=\"#FEFECE\" height=\"23.9688\" rx=\"10\" ry=\"10\" style=\"stroke: #FEFECE; stroke-width: 1.5;\" width=\"238\" x=\"336\" y=\"49\"/><rect fill=\"#FEFECE\" height=\"10\" style=\"stroke: #FEFECE; stroke-width: 1.5;\" width=\"238\" x=\"336\" y=\"62.9688\"/><rect fill=\"none\" height=\"186.5\" id=\"E15\" rx=\"10\" ry=\"10\" style=\"stroke: #A80036; stroke-width: 1.5;\" width=\"238\" x=\"336\" y=\"49\"/><text fill=\"#000000\" font-family=\"sans-serif\" font-size=\"12\" lengthAdjust=\"spacingAndGlyphs\" textLength=\"116\" x=\"397\" y=\"65.1387\">verificationContext</text><line style=\"stroke: #A80036; stroke-width: 1.0;\" x1=\"336\" x2=\"574\" y1=\"72.9688\" y2=\"72.9688\"/></a><!--MD5=[ebbe1d658d1005bcc118a6aa81145e00]\n",
       "class E4--><a href=\"psysml:971e85b9-9957-4674-90a7-be3bf98856c5\" target=\"_top\" title=\"psysml:971e85b9-9957-4674-90a7-be3bf98856c5\" xlink:actuate=\"onRequest\" xlink:href=\"psysml:971e85b9-9957-4674-90a7-be3bf98856c5\" xlink:show=\"new\" xlink:title=\"psysml:971e85b9-9957-4674-90a7-be3bf98856c5\" xlink:type=\"simple\"><rect fill=\"#FEFECE\" filter=\"url(#f1b3bptkqidcwd)\" height=\"66.7422\" id=\"E4\" style=\"stroke: #A80036; stroke-width: 1.5;\" width=\"117\" x=\"202.5\" y=\"163\"/><text fill=\"#000000\" font-family=\"sans-serif\" font-size=\"12\" font-style=\"italic\" lengthAdjust=\"spacingAndGlyphs\" textLength=\"115\" x=\"203.5\" y=\"179.1387\">«requirement def»</text><text fill=\"#000000\" font-family=\"sans-serif\" font-size=\"12\" lengthAdjust=\"spacingAndGlyphs\" textLength=\"8\" x=\"257\" y=\"193.1074\">R</text><line style=\"stroke: #A80036; stroke-width: 1.5;\" x1=\"203.5\" x2=\"318.5\" y1=\"200.9375\" y2=\"200.9375\"/><text fill=\"#000000\" font-family=\"sans-serif\" font-size=\"11\" lengthAdjust=\"spacingAndGlyphs\" textLength=\"12\" x=\"208.5\" y=\"215.1479\">...</text><line style=\"stroke: #A80036; stroke-width: 1.0;\" x1=\"203.5\" x2=\"318.5\" y1=\"221.7422\" y2=\"221.7422\"/></a><!--MD5=[270fce915f116d4de14055a7c1d9a0f3]\n",
       "class E5--><a href=\"psysml:bbcd2223-85a4-4701-a24f-5592c5712336\" target=\"_top\" title=\"psysml:bbcd2223-85a4-4701-a24f-5592c5712336\" xlink:actuate=\"onRequest\" xlink:href=\"psysml:bbcd2223-85a4-4701-a24f-5592c5712336\" xlink:show=\"new\" xlink:title=\"psysml:bbcd2223-85a4-4701-a24f-5592c5712336\" xlink:type=\"simple\"><rect fill=\"#FEFECE\" filter=\"url(#f1b3bptkqidcwd)\" height=\"45.9375\" id=\"E5\" rx=\"10\" ry=\"10\" style=\"stroke: #A80036; stroke-width: 1.5;\" width=\"93\" x=\"223.5\" y=\"84\"/><text fill=\"#000000\" font-family=\"sans-serif\" font-size=\"12\" font-style=\"italic\" lengthAdjust=\"spacingAndGlyphs\" textLength=\"91\" x=\"224.5\" y=\"100.1387\">«requirement»</text><text fill=\"#000000\" font-family=\"sans-serif\" font-size=\"12\" lengthAdjust=\"spacingAndGlyphs\" textLength=\"21\" x=\"259.5\" y=\"114.1074\">r: R</text><line style=\"stroke: #A80036; stroke-width: 1.5;\" x1=\"224.5\" x2=\"315.5\" y1=\"121.9375\" y2=\"121.9375\"/></a><g id=\"E1.E2\"><a href=\"psysml:ee2cd088-4b38-485a-bdcf-f034eebaa933\" target=\"_top\" title=\"psysml:ee2cd088-4b38-485a-bdcf-f034eebaa933\" xlink:actuate=\"onRequest\" xlink:href=\"psysml:ee2cd088-4b38-485a-bdcf-f034eebaa933\" xlink:show=\"new\" xlink:title=\"psysml:ee2cd088-4b38-485a-bdcf-f034eebaa933\" xlink:type=\"simple\"><rect fill=\"#FEFECE\" filter=\"url(#f1b3bptkqidcwd)\" height=\"42.9375\" id=\"E2\" style=\"stroke: #A80036; stroke-width: 1.5;\" width=\"71\" x=\"117.5\" y=\"85.5\"/><text fill=\"#000000\" font-family=\"sans-serif\" font-size=\"12\" font-style=\"italic\" lengthAdjust=\"spacingAndGlyphs\" textLength=\"64\" x=\"121\" y=\"101.6387\">«part def»</text><text fill=\"#000000\" font-family=\"sans-serif\" font-size=\"12\" lengthAdjust=\"spacingAndGlyphs\" textLength=\"8\" x=\"149\" y=\"115.6074\">V</text></a></g><g id=\"E1.E3\"><a href=\"psysml:ea23779d-7b91-41e0-a4d1-5f0745e774d2\" target=\"_top\" title=\"psysml:ea23779d-7b91-41e0-a4d1-5f0745e774d2\" xlink:actuate=\"onRequest\" xlink:href=\"psysml:ea23779d-7b91-41e0-a4d1-5f0745e774d2\" xlink:show=\"new\" xlink:title=\"psysml:ea23779d-7b91-41e0-a4d1-5f0745e774d2\" xlink:type=\"simple\"><rect fill=\"#FEFECE\" filter=\"url(#f1b3bptkqidcwd)\" height=\"40\" id=\"E3\" rx=\"10\" ry=\"10\" style=\"stroke: #A80036; stroke-width: 1.5;\" width=\"50\" x=\"32\" y=\"87\"/><text fill=\"#000000\" font-family=\"sans-serif\" font-size=\"12\" lengthAdjust=\"spacingAndGlyphs\" textLength=\"28\" x=\"43\" y=\"103.1387\">vv: V</text></a></g><text fill=\"#000000\" font-family=\"sans-serif\" font-size=\"14\" lengthAdjust=\"spacingAndGlyphs\" textLength=\"7\" x=\"1136.5\" y=\"85.6982\">v</text><rect fill=\"#A80036\" height=\"12\" style=\"stroke: #FEFECE; stroke-width: 1.5;\" width=\"12\" x=\"1134\" y=\"101\"/><text fill=\"#000000\" font-family=\"sans-serif\" font-size=\"14\" lengthAdjust=\"spacingAndGlyphs\" textLength=\"46\" x=\"1117\" y=\"344.3551\">verdict</text><rect fill=\"#A80036\" height=\"12\" style=\"stroke: #FEFECE; stroke-width: 1.5;\" width=\"12\" x=\"1134\" y=\"319.36\"/><text fill=\"#000000\" font-family=\"sans-serif\" font-size=\"14\" lengthAdjust=\"spacingAndGlyphs\" textLength=\"7\" x=\"702.5\" y=\"85.6982\">v</text><rect fill=\"#A80036\" height=\"12\" style=\"stroke: #FEFECE; stroke-width: 1.5;\" width=\"12\" x=\"700\" y=\"101\"/><text fill=\"#000000\" font-family=\"sans-serif\" font-size=\"14\" lengthAdjust=\"spacingAndGlyphs\" textLength=\"46\" x=\"987\" y=\"344.3551\">verdict</text><rect fill=\"#A80036\" height=\"12\" style=\"stroke: #FEFECE; stroke-width: 1.5;\" width=\"12\" x=\"1004\" y=\"319.36\"/><text fill=\"#000000\" font-family=\"sans-serif\" font-size=\"14\" lengthAdjust=\"spacingAndGlyphs\" textLength=\"46\" x=\"862\" y=\"381.3551\">verdict</text><rect fill=\"#A80036\" height=\"12\" style=\"stroke: #FEFECE; stroke-width: 1.5;\" width=\"12\" x=\"879\" y=\"356.36\"/><text fill=\"#000000\" font-family=\"sans-serif\" font-size=\"14\" lengthAdjust=\"spacingAndGlyphs\" textLength=\"7\" x=\"881.5\" y=\"175.1982\">v</text><rect fill=\"#A80036\" height=\"12\" style=\"stroke: #FEFECE; stroke-width: 1.5;\" width=\"12\" x=\"879\" y=\"190.5\"/><!--MD5=[35f0587eaee8d5bb9a02e25b63afc23b]\n",
       "class E16--><a href=\"psysml:f139e62b-7bf9-43a0-a382-40038ed35c63\" target=\"_top\" title=\"psysml:f139e62b-7bf9-43a0-a382-40038ed35c63\" xlink:actuate=\"onRequest\" xlink:href=\"psysml:f139e62b-7bf9-43a0-a382-40038ed35c63\" xlink:show=\"new\" xlink:title=\"psysml:f139e62b-7bf9-43a0-a382-40038ed35c63\" xlink:type=\"simple\"><rect fill=\"#FEFECE\" filter=\"url(#f1b3bptkqidcwd)\" height=\"45.9375\" id=\"E16\" rx=\"10\" ry=\"10\" style=\"stroke: #A80036; stroke-width: 1.5;\" width=\"206\" x=\"352\" y=\"84\"/><text fill=\"#000000\" font-family=\"sans-serif\" font-size=\"12\" font-style=\"italic\" lengthAdjust=\"spacingAndGlyphs\" textLength=\"113\" x=\"398.5\" y=\"100.1387\">«verificationCase»</text><text fill=\"#000000\" font-family=\"sans-serif\" font-size=\"12\" lengthAdjust=\"spacingAndGlyphs\" textLength=\"200\" x=\"355\" y=\"114.1074\">verificationPlan: VerificationPlan</text><line style=\"stroke: #A80036; stroke-width: 1.5;\" x1=\"353\" x2=\"557\" y1=\"121.9375\" y2=\"121.9375\"/></a><!--MD5=[60e55a4a9b2f0dc0a36787c5a2095786]\n",
       "class E17--><a href=\"psysml:fe640fc2-093c-44fe-a9fd-0ceecb8f463c\" target=\"_top\" title=\"psysml:fe640fc2-093c-44fe-a9fd-0ceecb8f463c\" xlink:actuate=\"onRequest\" xlink:href=\"psysml:fe640fc2-093c-44fe-a9fd-0ceecb8f463c\" xlink:show=\"new\" xlink:title=\"psysml:fe640fc2-093c-44fe-a9fd-0ceecb8f463c\" xlink:type=\"simple\"><rect fill=\"#FEFECE\" filter=\"url(#f1b3bptkqidcwd)\" height=\"45.9375\" id=\"E17\" rx=\"10\" ry=\"10\" style=\"stroke: #A80036; stroke-width: 1.5;\" width=\"93\" x=\"408.5\" y=\"173.5\"/><text fill=\"#000000\" font-family=\"sans-serif\" font-size=\"12\" font-style=\"italic\" lengthAdjust=\"spacingAndGlyphs\" textLength=\"91\" x=\"409.5\" y=\"189.6387\">«requirement»</text><text fill=\"#000000\" font-family=\"sans-serif\" font-size=\"12\" lengthAdjust=\"spacingAndGlyphs\" textLength=\"19\" x=\"445.5\" y=\"203.6074\">obj</text><line style=\"stroke: #A80036; stroke-width: 1.5;\" x1=\"409.5\" x2=\"500.5\" y1=\"211.4375\" y2=\"211.4375\"/></a><!--MD5=[1c62de2aa5b76f0fb657ff8443a1a700]\n",
       "link E5 to E4--><a href=\"psysml:4afeeb28-a204-4e17-a080-31f9a6d380ec\" target=\"_top\" title=\"psysml:4afeeb28-a204-4e17-a080-31f9a6d380ec\" xlink:actuate=\"onRequest\" xlink:href=\"psysml:4afeeb28-a204-4e17-a080-31f9a6d380ec\" xlink:show=\"new\" xlink:title=\"psysml:4afeeb28-a204-4e17-a080-31f9a6d380ec\" xlink:type=\"simple\"><path d=\"M267.73,130.08 C267.32,134.03 266.88,138.3 266.43,142.7 \" fill=\"none\" id=\"E5-&gt;E4\" style=\"stroke: #A80036; stroke-width: 1.0;\"/><polygon fill=\"#FFFFFF\" points=\"264.36,162.84,259.3369,143.2245,273.2637,144.6542,264.36,162.84\" style=\"stroke: #A80036; stroke-width: 1.0;\"/><ellipse cx=\"261.9085\" cy=\"137.7585\" fill=\"#A80036\" rx=\"2\" ry=\"2\" style=\"stroke: #A80036; stroke-width: 1.0;\"/><ellipse cx=\"271.8562\" cy=\"138.7797\" fill=\"#A80036\" rx=\"2\" ry=\"2\" style=\"stroke: #A80036; stroke-width: 1.0;\"/></a><!--MD5=[4de2d328c39b6d65fb95a84ef336270e]\n",
       "link E16 to E9--><a href=\"psysml:cd73bb42-520f-4e04-8240-7f040abbe442\" target=\"_top\" title=\"psysml:cd73bb42-520f-4e04-8240-7f040abbe442\" xlink:actuate=\"onRequest\" xlink:href=\"psysml:cd73bb42-520f-4e04-8240-7f040abbe442\" xlink:show=\"new\" xlink:title=\"psysml:cd73bb42-520f-4e04-8240-7f040abbe442\" xlink:type=\"simple\"><path d=\"M518.34,130.08 C561.91,145.27 618.85,165.12 658.53,178.95 \" fill=\"none\" id=\"E16-&gt;E9\" style=\"stroke: #A80036; stroke-width: 1.0;\"/><polygon fill=\"#FFFFFF\" points=\"658.53,178.95,638.2847,179.3067,642.8924,166.0867,658.53,178.95\" style=\"stroke: #A80036; stroke-width: 1.0;\"/><ellipse cx=\"633.5605\" cy=\"175.5422\" fill=\"#A80036\" rx=\"2\" ry=\"2\" style=\"stroke: #A80036; stroke-width: 1.0;\"/><ellipse cx=\"636.8517\" cy=\"166.0993\" fill=\"#A80036\" rx=\"2\" ry=\"2\" style=\"stroke: #A80036; stroke-width: 1.0;\"/></a><!--MD5=[450e3481f1c83a03a55fcf78b0bbbde6]\n",
       "link E16 to E17--><a href=\"psysml:e29f10bd-d5bc-4797-97ab-a37fb0e5db5b\" target=\"_top\" title=\"psysml:e29f10bd-d5bc-4797-97ab-a37fb0e5db5b\" xlink:actuate=\"onRequest\" xlink:href=\"psysml:e29f10bd-d5bc-4797-97ab-a37fb0e5db5b\" xlink:show=\"new\" xlink:title=\"psysml:e29f10bd-d5bc-4797-97ab-a37fb0e5db5b\" xlink:type=\"simple\"><path d=\"M455,130.08 C455,140.75 455,153.73 455,165.3 \" fill=\"none\" id=\"E16-&gt;E17\" style=\"stroke: #A80036; stroke-width: 1.0;\"/><polygon fill=\"#A80036\" points=\"455,173.43,458,165.43,452,165.43,455,173.43\" style=\"stroke: #A80036; stroke-width: 1.0;\"/><text fill=\"#000000\" font-family=\"sans-serif\" font-size=\"13\" lengthAdjust=\"spacingAndGlyphs\" textLength=\"73\" x=\"456\" y=\"151.0669\">«objective»</text><text fill=\"#000000\" font-family=\"sans-serif\" font-size=\"13\" lengthAdjust=\"spacingAndGlyphs\" textLength=\"7\" x=\"447.0594\" y=\"162.3075\">*</text></a><!--MD5=[7c3ac9891c0311d4f0146bc54a13684f]\n",
       "@startuml\r\n",
       "skinparam ranksep 10\r\n",
       "skinparam rectangle {\r\n",
       " backgroundColor<<block>> LightGreen\r\n",
       "}\r\n",
       "skinparam wrapWidth 300\r\n",
       "hide circle\r\n",
       "\r\n",
       "package \"VerificationTest\" as E1  [[psysml:7303dfcd-df1a-4034-bc74-eb93457ec7c0 ]]  {\r\n",
       "rec def \"V\" as E2  <<(T,blue) part def>> [[psysml:ee2cd088-4b38-485a-bdcf-f034eebaa933 ]] {\r\n",
       "}\r\n",
       "rec usage \"vv: V\" as E3  [[psysml:ea23779d-7b91-41e0-a4d1-5f0745e774d2 ]] {\r\n",
       "}\r\n",
       "comp def \"R\" as E4  <<(T,blue) requirement def>> [[psysml:971e85b9-9957-4674-90a7-be3bf98856c5 ]] {\r\n",
       "...\r\n",
       "- -\r\n",
       "}\r\n",
       "comp usage \"r: R\" as E5  <<(T,blue) requirement>> [[psysml:bbcd2223-85a4-4701-a24f-5592c5712336 ]] {\r\n",
       "}\r\n",
       "rec def \"VerificationCase\" as E6  <<(T,blue) verificationCase def>> [[psysml:f44943ce-87bd-4d2b-91db-f66bd879bf72 ]] {\r\n",
       "portin \"v\" as E7  [[psysml:39e4c68a-7e48-4018-a595-005447bc25d1 ]] \r\n",
       "portout \"verdict\" as E8  [[psysml:e7480a5a-bc03-4bfb-926c-ff77790341ab ]] \r\n",
       "}\r\n",
       "\r\n",
       "rec def \"VerificationPlan\" as E9  <<(T,blue) verificationCase def>> [[psysml:109e665d-9569-4e28-8454-db86a3b7365b ]] {\r\n",
       "portin \"v\" as E10  [[psysml:bc04aa0f-1251-4bd1-9492-821de83ad0f4 ]] \r\n",
       "rec usage \"verificationCase\" as E11  <<(T,blue) verificationCase>> [[psysml:d8eec309-4539-4ef6-b593-f8d5221313a5 ]] {\r\n",
       "portout \"verdict\" as E12  [[psysml:d4b19012-2d8f-412c-81cb-04106ed54ab9 ]] \r\n",
       "portin \"v\" as E13  [[psysml:101691aa-2b16-4439-bb49-3b5a9750b72a ]] \r\n",
       "}\r\n",
       "\r\n",
       "portout \"verdict\" as E14  [[psysml:d1cc474d-a7ae-4245-8f3b-eac2c389ad3d ]] \r\n",
       "}\r\n",
       "\r\n",
       "rec usage \"verificationContext\" as E15  [[psysml:1ba0f1fa-2142-46f9-b759-d2e88bd368a2 ]] {\r\n",
       "comp usage \"verificationPlan: VerificationPlan\" as E16  <<(T,blue) verificationCase>> [[psysml:f139e62b-7bf9-43a0-a382-40038ed35c63 ]] {\r\n",
       "}\r\n",
       "comp usage \"obj\" as E17  <<(T,blue) requirement>> [[psysml:fe640fc2-093c-44fe-a9fd-0ceecb8f463c ]] {\r\n",
       "}\r\n",
       "}\r\n",
       "}\r\n",
       "E5 - -:|> E4 [[psysml:4afeeb28-a204-4e17-a080-31f9a6d380ec ]] \r\n",
       "E16 - -:|> E9 [[psysml:cd73bb42-520f-4e04-8240-7f040abbe442 ]] \r\n",
       "E16 - ->> \"*\"E17 [[psysml:e29f10bd-d5bc-4797-97ab-a37fb0e5db5b ]] : <<objective>>\r\n",
       "@enduml\r\n",
       "\n",
       "PlantUML version 1.2020.13(Sat Jun 13 12:26:38 UTC 2020)\n",
       "(EPL source distribution)\n",
       "Java Runtime: OpenJDK Runtime Environment\n",
       "JVM: OpenJDK 64-Bit Server VM\n",
       "Default Encoding: UTF-8\n",
       "Language: en\n",
       "Country: null\n",
       "--></g></svg>"
      ]
     },
     "execution_count": 26,
     "metadata": {},
     "output_type": "execute_result"
    }
   ],
   "source": [
    "%viz --style=\"STDCOLOR\" --view=\"Interconnection\" \"VerificationTest\""
   ]
  },
  {
   "cell_type": "code",
   "execution_count": 27,
   "id": "fb1ae93c",
   "metadata": {
    "execution": {
     "iopub.execute_input": "2021-10-03T08:26:48.894604Z",
     "iopub.status.busy": "2021-10-03T08:26:48.894201Z",
     "iopub.status.idle": "2021-10-03T08:26:48.936095Z",
     "shell.execute_reply": "2021-10-03T08:26:48.935716Z"
    }
   },
   "outputs": [
    {
     "data": {
      "image/svg+xml": [
       "<?xml version=\"1.0\" encoding=\"UTF-8\" standalone=\"no\"?><svg xmlns=\"http://www.w3.org/2000/svg\" xmlns:xlink=\"http://www.w3.org/1999/xlink\" contentScriptType=\"application/ecmascript\" contentStyleType=\"text/css\" height=\"241px\" preserveAspectRatio=\"none\" style=\"width:842px;height:241px;\" version=\"1.1\" viewBox=\"0 0 842 241\" width=\"842px\" zoomAndPan=\"magnify\"><defs><filter height=\"300%\" id=\"ftxd2d2i2o6rl\" width=\"300%\" x=\"-1\" y=\"-1\"><feGaussianBlur result=\"blurOut\" stdDeviation=\"2.0\"/><feColorMatrix in=\"blurOut\" result=\"blurOut2\" type=\"matrix\" values=\"0 0 0 0 0 0 0 0 0 0 0 0 0 0 0 0 0 0 .4 0\"/><feOffset dx=\"4.0\" dy=\"4.0\" in=\"blurOut2\" result=\"blurOut3\"/><feBlend in=\"SourceGraphic\" in2=\"blurOut3\" mode=\"normal\"/></filter></defs><g><!--MD5=[fbc87193dbaf4d95561dea2c320d4a47]\n",
       "cluster E1--><a href=\"psysml:f44943ce-87bd-4d2b-91db-f66bd879bf72\" target=\"_top\" title=\"psysml:f44943ce-87bd-4d2b-91db-f66bd879bf72\" xlink:actuate=\"onRequest\" xlink:href=\"psysml:f44943ce-87bd-4d2b-91db-f66bd879bf72\" xlink:show=\"new\" xlink:title=\"psysml:f44943ce-87bd-4d2b-91db-f66bd879bf72\" xlink:type=\"simple\"><rect fill=\"#FFFFFF\" filter=\"url(#ftxd2d2i2o6rl)\" height=\"122\" id=\"E1\" style=\"stroke: #A80036; stroke-width: 1.5;\" width=\"200\" x=\"7\" y=\"42.0986\"/><rect fill=\"#FEFECE\" height=\"37.9375\" style=\"stroke: #A80036; stroke-width: 1.5;\" width=\"200\" x=\"7\" y=\"42.0986\"/><text fill=\"#000000\" font-family=\"sans-serif\" font-size=\"12\" font-style=\"italic\" lengthAdjust=\"spacingAndGlyphs\" textLength=\"137\" x=\"38.5\" y=\"58.2373\">«verificationCase def»</text><text fill=\"#000000\" font-family=\"sans-serif\" font-size=\"12\" lengthAdjust=\"spacingAndGlyphs\" textLength=\"101\" x=\"56.5\" y=\"72.2061\">VerificationCase</text></a><!--MD5=[f6df4d0ebaf0b5dfb2ced0ae5af7c670]\n",
       "cluster E4--><a href=\"psysml:109e665d-9569-4e28-8454-db86a3b7365b\" target=\"_top\" title=\"psysml:109e665d-9569-4e28-8454-db86a3b7365b\" xlink:actuate=\"onRequest\" xlink:href=\"psysml:109e665d-9569-4e28-8454-db86a3b7365b\" xlink:show=\"new\" xlink:title=\"psysml:109e665d-9569-4e28-8454-db86a3b7365b\" xlink:type=\"simple\"><rect fill=\"#FFFFFF\" filter=\"url(#ftxd2d2i2o6rl)\" height=\"180\" id=\"E4\" style=\"stroke: #A80036; stroke-width: 1.5;\" width=\"325\" x=\"297\" y=\"42.0986\"/><rect fill=\"#FEFECE\" height=\"37.9375\" style=\"stroke: #A80036; stroke-width: 1.5;\" width=\"325\" x=\"297\" y=\"42.0986\"/><text fill=\"#000000\" font-family=\"sans-serif\" font-size=\"12\" font-style=\"italic\" lengthAdjust=\"spacingAndGlyphs\" textLength=\"137\" x=\"391\" y=\"58.2373\">«verificationCase def»</text><text fill=\"#000000\" font-family=\"sans-serif\" font-size=\"12\" lengthAdjust=\"spacingAndGlyphs\" textLength=\"97\" x=\"411\" y=\"72.2061\">VerificationPlan</text></a><!--MD5=[14e3b0961a2654348d326746436168a1]\n",
       "cluster E6--><a href=\"psysml:d8eec309-4539-4ef6-b593-f8d5221313a5\" target=\"_top\" title=\"psysml:d8eec309-4539-4ef6-b593-f8d5221313a5\" xlink:actuate=\"onRequest\" xlink:href=\"psysml:d8eec309-4539-4ef6-b593-f8d5221313a5\" xlink:show=\"new\" xlink:title=\"psysml:d8eec309-4539-4ef6-b593-f8d5221313a5\" xlink:type=\"simple\"><rect fill=\"#FFFFFF\" filter=\"url(#ftxd2d2i2o6rl)\" height=\"110.5\" id=\"E6\" rx=\"10\" ry=\"10\" style=\"stroke: #A80036; stroke-width: 1.5;\" width=\"174\" x=\"407\" y=\"81.5986\"/><rect fill=\"#FEFECE\" height=\"37.9375\" rx=\"10\" ry=\"10\" style=\"stroke: #FEFECE; stroke-width: 1.5;\" width=\"174\" x=\"407\" y=\"81.5986\"/><rect fill=\"#FEFECE\" height=\"10\" style=\"stroke: #FEFECE; stroke-width: 1.5;\" width=\"174\" x=\"407\" y=\"109.5361\"/><rect fill=\"none\" height=\"110.5\" id=\"E6\" rx=\"10\" ry=\"10\" style=\"stroke: #A80036; stroke-width: 1.5;\" width=\"174\" x=\"407\" y=\"81.5986\"/><text fill=\"#000000\" font-family=\"sans-serif\" font-size=\"12\" font-style=\"italic\" lengthAdjust=\"spacingAndGlyphs\" textLength=\"113\" x=\"437.5\" y=\"97.7373\">«verificationCase»</text><text fill=\"#000000\" font-family=\"sans-serif\" font-size=\"12\" lengthAdjust=\"spacingAndGlyphs\" textLength=\"99\" x=\"444.5\" y=\"111.7061\">verificationCase</text><line style=\"stroke: #A80036; stroke-width: 1.0;\" x1=\"407\" x2=\"581\" y1=\"119.5361\" y2=\"119.5361\"/></a><!--MD5=[a84b4591f868c1fa4a211716a82f2f0d]\n",
       "cluster E10--><a href=\"psysml:f139e62b-7bf9-43a0-a382-40038ed35c63\" target=\"_top\" title=\"psysml:f139e62b-7bf9-43a0-a382-40038ed35c63\" xlink:actuate=\"onRequest\" xlink:href=\"psysml:f139e62b-7bf9-43a0-a382-40038ed35c63\" xlink:show=\"new\" xlink:title=\"psysml:f139e62b-7bf9-43a0-a382-40038ed35c63\" xlink:type=\"simple\"><rect fill=\"#FFFFFF\" filter=\"url(#ftxd2d2i2o6rl)\" height=\"122\" id=\"E10\" rx=\"10\" ry=\"10\" style=\"stroke: #A80036; stroke-width: 1.5;\" width=\"172\" x=\"651\" y=\"42.0986\"/><rect fill=\"#FEFECE\" height=\"37.9375\" rx=\"10\" ry=\"10\" style=\"stroke: #FEFECE; stroke-width: 1.5;\" width=\"172\" x=\"651\" y=\"42.0986\"/><rect fill=\"#FEFECE\" height=\"10\" style=\"stroke: #FEFECE; stroke-width: 1.5;\" width=\"172\" x=\"651\" y=\"70.0361\"/><rect fill=\"none\" height=\"122\" id=\"E10\" rx=\"10\" ry=\"10\" style=\"stroke: #A80036; stroke-width: 1.5;\" width=\"172\" x=\"651\" y=\"42.0986\"/><text fill=\"#000000\" font-family=\"sans-serif\" font-size=\"12\" font-style=\"italic\" lengthAdjust=\"spacingAndGlyphs\" textLength=\"113\" x=\"680.5\" y=\"58.2373\">«verificationCase»</text><text fill=\"#000000\" font-family=\"sans-serif\" font-size=\"12\" lengthAdjust=\"spacingAndGlyphs\" textLength=\"95\" x=\"689.5\" y=\"72.2061\">verificationPlan</text><line style=\"stroke: #A80036; stroke-width: 1.0;\" x1=\"651\" x2=\"823\" y1=\"80.0361\" y2=\"80.0361\"/></a><text fill=\"#000000\" font-family=\"sans-serif\" font-size=\"14\" lengthAdjust=\"spacingAndGlyphs\" textLength=\"7\" x=\"103.5\" y=\"20.7969\">v</text><rect fill=\"#A80036\" height=\"12\" style=\"stroke: #FEFECE; stroke-width: 1.5;\" width=\"12\" x=\"101\" y=\"36.0986\"/><text fill=\"#000000\" font-family=\"sans-serif\" font-size=\"14\" lengthAdjust=\"spacingAndGlyphs\" textLength=\"46\" x=\"84\" y=\"183.0938\">verdict</text><rect fill=\"#A80036\" height=\"12\" style=\"stroke: #FEFECE; stroke-width: 1.5;\" width=\"12\" x=\"101\" y=\"158.0986\"/><text fill=\"#000000\" font-family=\"sans-serif\" font-size=\"14\" lengthAdjust=\"spacingAndGlyphs\" textLength=\"7\" x=\"311.5\" y=\"20.7969\">v</text><rect fill=\"#A80036\" height=\"12\" style=\"stroke: #FEFECE; stroke-width: 1.5;\" width=\"12\" x=\"309\" y=\"36.0986\"/><text fill=\"#000000\" font-family=\"sans-serif\" font-size=\"14\" lengthAdjust=\"spacingAndGlyphs\" textLength=\"46\" x=\"599\" y=\"183.0938\">verdict</text><rect fill=\"#A80036\" height=\"12\" style=\"stroke: #FEFECE; stroke-width: 1.5;\" width=\"12\" x=\"616\" y=\"158.0986\"/><text fill=\"#000000\" font-family=\"sans-serif\" font-size=\"14\" lengthAdjust=\"spacingAndGlyphs\" textLength=\"46\" x=\"471\" y=\"211.0938\">verdict</text><rect fill=\"#A80036\" height=\"12\" style=\"stroke: #FEFECE; stroke-width: 1.5;\" width=\"12\" x=\"488\" y=\"186.0986\"/><text fill=\"#000000\" font-family=\"sans-serif\" font-size=\"14\" lengthAdjust=\"spacingAndGlyphs\" textLength=\"7\" x=\"490.5\" y=\"60.2969\">v</text><rect fill=\"#A80036\" height=\"12\" style=\"stroke: #FEFECE; stroke-width: 1.5;\" width=\"12\" x=\"488\" y=\"75.5986\"/><text fill=\"#000000\" font-family=\"sans-serif\" font-size=\"14\" lengthAdjust=\"spacingAndGlyphs\" textLength=\"7\" x=\"732.5\" y=\"20.7969\">v</text><rect fill=\"#A80036\" height=\"12\" style=\"stroke: #FEFECE; stroke-width: 1.5;\" width=\"12\" x=\"730\" y=\"36.0986\"/><text fill=\"#000000\" font-family=\"sans-serif\" font-size=\"14\" lengthAdjust=\"spacingAndGlyphs\" textLength=\"46\" x=\"646\" y=\"183.0938\">verdict</text><rect fill=\"#A80036\" height=\"12\" style=\"stroke: #FEFECE; stroke-width: 1.5;\" width=\"12\" x=\"663\" y=\"158.0986\"/><!--MD5=[ad26c44e07a853c9f4e5584d00eb7268]\n",
       "@startuml\r\n",
       "skinparam ranksep 8\r\n",
       "skinparam wrapWidth 300\r\n",
       "hide circle\r\n",
       "\r\n",
       "rec def \"VerificationCase\" as E1  <<(T,blue) verificationCase def>> [[psysml:f44943ce-87bd-4d2b-91db-f66bd879bf72 ]] {\r\n",
       "portin \"v\" as E2  [[psysml:39e4c68a-7e48-4018-a595-005447bc25d1 ]] \r\n",
       "portout \"verdict\" as E3  [[psysml:e7480a5a-bc03-4bfb-926c-ff77790341ab ]] \r\n",
       "}\r\n",
       "\r\n",
       "rec def \"VerificationPlan\" as E4  <<(T,blue) verificationCase def>> [[psysml:109e665d-9569-4e28-8454-db86a3b7365b ]] {\r\n",
       "portin \"v\" as E5  [[psysml:bc04aa0f-1251-4bd1-9492-821de83ad0f4 ]] \r\n",
       "rec usage \"verificationCase\" as E6  <<(T,blue) verificationCase>> [[psysml:d8eec309-4539-4ef6-b593-f8d5221313a5 ]] {\r\n",
       "portout \"verdict\" as E7  [[psysml:d4b19012-2d8f-412c-81cb-04106ed54ab9 ]] \r\n",
       "portin \"v\" as E8  [[psysml:101691aa-2b16-4439-bb49-3b5a9750b72a ]] \r\n",
       "}\r\n",
       "\r\n",
       "portout \"verdict\" as E9  [[psysml:d1cc474d-a7ae-4245-8f3b-eac2c389ad3d ]] \r\n",
       "}\r\n",
       "\r\n",
       "rec usage \"verificationPlan\" as E10  <<(T,blue) verificationCase>> [[psysml:f139e62b-7bf9-43a0-a382-40038ed35c63 ]] {\r\n",
       "portin \"v\" as E11  [[psysml:e60d74c1-8e27-4253-b6e4-c059af187aab ]] \r\n",
       "portout \"verdict\" as E12  [[psysml:d1cf56c3-055d-4e01-94eb-7c3e50de0a09 ]] \r\n",
       "}\r\n",
       "\r\n",
       "@enduml\r\n",
       "\n",
       "PlantUML version 1.2020.13(Sat Jun 13 12:26:38 UTC 2020)\n",
       "(EPL source distribution)\n",
       "Java Runtime: OpenJDK Runtime Environment\n",
       "JVM: OpenJDK 64-Bit Server VM\n",
       "Default Encoding: UTF-8\n",
       "Language: en\n",
       "Country: null\n",
       "--></g></svg>"
      ]
     },
     "execution_count": 27,
     "metadata": {},
     "output_type": "execute_result"
    }
   ],
   "source": [
    "%viz --style=\"STDCOLOR\" --view=\"Action\" \"VerificationTest\""
   ]
  },
  {
   "cell_type": "code",
   "execution_count": 28,
   "id": "62c44b63",
   "metadata": {
    "execution": {
     "iopub.execute_input": "2021-10-03T08:26:48.985303Z",
     "iopub.status.busy": "2021-10-03T08:26:48.984895Z",
     "iopub.status.idle": "2021-10-03T08:26:48.991248Z",
     "shell.execute_reply": "2021-10-03T08:26:48.990914Z"
    }
   },
   "outputs": [
    {
     "data": {
      "image/svg+xml": [
       "<?xml version=\"1.0\" encoding=\"UTF-8\" standalone=\"no\"?><svg xmlns=\"http://www.w3.org/2000/svg\" xmlns:xlink=\"http://www.w3.org/1999/xlink\" contentScriptType=\"application/ecmascript\" contentStyleType=\"text/css\" height=\"12px\" preserveAspectRatio=\"none\" style=\"width:12px;height:12px;\" version=\"1.1\" viewBox=\"0 0 12 12\" width=\"12px\" zoomAndPan=\"magnify\"><defs/><g><!--MD5=[6c4bca67b4d71758159a5a7f1f1e1fc2]\n",
       "@startuml\r\n",
       "skinparam roundcorner 20\r\n",
       "skinparam BoxPadding 20\r\n",
       "skinparam SequenceBoxBackgroundColor #white\r\n",
       "skinparam style strictuml\r\n",
       "skinparam maxMessageSize 100\r\n",
       "skinparam wrapWidth 300\r\n",
       "hide circle\r\n",
       "\r\n",
       "@enduml\r\n",
       "\n",
       "PlantUML version 1.2020.13(Sat Jun 13 12:26:38 UTC 2020)\n",
       "(EPL source distribution)\n",
       "Java Runtime: OpenJDK Runtime Environment\n",
       "JVM: OpenJDK 64-Bit Server VM\n",
       "Default Encoding: UTF-8\n",
       "Language: en\n",
       "Country: null\n",
       "--></g></svg>"
      ]
     },
     "execution_count": 28,
     "metadata": {},
     "output_type": "execute_result"
    }
   ],
   "source": [
    "%viz --style=\"STDCOLOR\" --view=\"Sequence\" \"VerificationTest\""
   ]
  },
  {
   "cell_type": "code",
   "execution_count": 29,
   "id": "517384e2",
   "metadata": {
    "execution": {
     "iopub.execute_input": "2021-10-03T08:26:49.040780Z",
     "iopub.status.busy": "2021-10-03T08:26:49.040383Z",
     "iopub.status.idle": "2021-10-03T08:26:49.103629Z",
     "shell.execute_reply": "2021-10-03T08:26:49.101682Z"
    }
   },
   "outputs": [
    {
     "data": {
      "image/svg+xml": [
       "<?xml version=\"1.0\" encoding=\"UTF-8\" standalone=\"no\"?><svg xmlns=\"http://www.w3.org/2000/svg\" xmlns:xlink=\"http://www.w3.org/1999/xlink\" contentScriptType=\"application/ecmascript\" contentStyleType=\"text/css\" height=\"628px\" preserveAspectRatio=\"none\" style=\"width:1172px;height:628px;\" version=\"1.1\" viewBox=\"0 0 1172 628\" width=\"1172px\" zoomAndPan=\"magnify\"><defs><filter height=\"300%\" id=\"f16his8oovlovr\" width=\"300%\" x=\"-1\" y=\"-1\"><feGaussianBlur result=\"blurOut\" stdDeviation=\"2.0\"/><feColorMatrix in=\"blurOut\" result=\"blurOut2\" type=\"matrix\" values=\"0 0 0 0 0 0 0 0 0 0 0 0 0 0 0 0 0 0 .4 0\"/><feOffset dx=\"4.0\" dy=\"4.0\" in=\"blurOut2\" result=\"blurOut3\"/><feBlend in=\"SourceGraphic\" in2=\"blurOut3\" mode=\"normal\"/></filter></defs><g><!--MD5=[fbc87193dbaf4d95561dea2c320d4a47]\n",
       "cluster E1--><a href=\"psysml:7303dfcd-df1a-4034-bc74-eb93457ec7c0\" target=\"_top\" title=\"psysml:7303dfcd-df1a-4034-bc74-eb93457ec7c0\" xlink:actuate=\"onRequest\" xlink:href=\"psysml:7303dfcd-df1a-4034-bc74-eb93457ec7c0\" xlink:show=\"new\" xlink:title=\"psysml:7303dfcd-df1a-4034-bc74-eb93457ec7c0\" xlink:type=\"simple\"><polygon fill=\"#FFFFFF\" filter=\"url(#f16his8oovlovr)\" points=\"16,6,128,6,135,28.2969,1150,28.2969,1150,616,16,616,16,6\" style=\"stroke: #000000; stroke-width: 1.5;\"/><line style=\"stroke: #000000; stroke-width: 1.5;\" x1=\"16\" x2=\"135\" y1=\"28.2969\" y2=\"28.2969\"/><text fill=\"#000000\" font-family=\"sans-serif\" font-size=\"14\" font-weight=\"bold\" lengthAdjust=\"spacingAndGlyphs\" textLength=\"106\" x=\"20\" y=\"20.9951\">VerificationTest</text></a><!--MD5=[14e3b0961a2654348d326746436168a1]\n",
       "cluster E6--><a href=\"psysml:f44943ce-87bd-4d2b-91db-f66bd879bf72\" target=\"_top\" title=\"psysml:f44943ce-87bd-4d2b-91db-f66bd879bf72\" xlink:actuate=\"onRequest\" xlink:href=\"psysml:f44943ce-87bd-4d2b-91db-f66bd879bf72\" xlink:show=\"new\" xlink:title=\"psysml:f44943ce-87bd-4d2b-91db-f66bd879bf72\" xlink:type=\"simple\"><rect fill=\"#FFFFFF\" filter=\"url(#f16his8oovlovr)\" height=\"310\" id=\"E6\" style=\"stroke: #A80036; stroke-width: 1.5;\" width=\"200\" x=\"934\" y=\"64\"/><rect fill=\"#FEFECE\" height=\"37.9375\" style=\"stroke: #A80036; stroke-width: 1.5;\" width=\"200\" x=\"934\" y=\"64\"/><text fill=\"#000000\" font-family=\"sans-serif\" font-size=\"12\" font-style=\"italic\" lengthAdjust=\"spacingAndGlyphs\" textLength=\"137\" x=\"965.5\" y=\"80.1387\">«verificationCase def»</text><text fill=\"#000000\" font-family=\"sans-serif\" font-size=\"12\" lengthAdjust=\"spacingAndGlyphs\" textLength=\"101\" x=\"983.5\" y=\"94.1074\">VerificationCase</text></a><!--MD5=[7f149f147074ac12df2cb0a7728a5fb0]\n",
       "cluster E9--><a href=\"psysml:109e665d-9569-4e28-8454-db86a3b7365b\" target=\"_top\" title=\"psysml:109e665d-9569-4e28-8454-db86a3b7365b\" xlink:actuate=\"onRequest\" xlink:href=\"psysml:109e665d-9569-4e28-8454-db86a3b7365b\" xlink:show=\"new\" xlink:title=\"psysml:109e665d-9569-4e28-8454-db86a3b7365b\" xlink:type=\"simple\"><rect fill=\"#FFFFFF\" filter=\"url(#f16his8oovlovr)\" height=\"410.5\" id=\"E9\" style=\"stroke: #A80036; stroke-width: 1.5;\" width=\"322\" x=\"344\" y=\"181.5\"/><rect fill=\"#FEFECE\" height=\"37.9375\" style=\"stroke: #A80036; stroke-width: 1.5;\" width=\"322\" x=\"344\" y=\"181.5\"/><text fill=\"#000000\" font-family=\"sans-serif\" font-size=\"12\" font-style=\"italic\" lengthAdjust=\"spacingAndGlyphs\" textLength=\"137\" x=\"436.5\" y=\"197.6387\">«verificationCase def»</text><text fill=\"#000000\" font-family=\"sans-serif\" font-size=\"12\" lengthAdjust=\"spacingAndGlyphs\" textLength=\"97\" x=\"456.5\" y=\"211.6074\">VerificationPlan</text></a><!--MD5=[917b9dd0c7eca3ee5f47219d1a84c0ad]\n",
       "cluster E11--><a href=\"psysml:d8eec309-4539-4ef6-b593-f8d5221313a5\" target=\"_top\" title=\"psysml:d8eec309-4539-4ef6-b593-f8d5221313a5\" xlink:actuate=\"onRequest\" xlink:href=\"psysml:d8eec309-4539-4ef6-b593-f8d5221313a5\" xlink:show=\"new\" xlink:title=\"psysml:d8eec309-4539-4ef6-b593-f8d5221313a5\" xlink:type=\"simple\"><rect fill=\"#FFFFFF\" filter=\"url(#f16his8oovlovr)\" height=\"239\" id=\"E11\" rx=\"10\" ry=\"10\" style=\"stroke: #A80036; stroke-width: 1.5;\" width=\"174\" x=\"454\" y=\"315\"/><rect fill=\"#FEFECE\" height=\"37.9375\" rx=\"10\" ry=\"10\" style=\"stroke: #FEFECE; stroke-width: 1.5;\" width=\"174\" x=\"454\" y=\"315\"/><rect fill=\"#FEFECE\" height=\"10\" style=\"stroke: #FEFECE; stroke-width: 1.5;\" width=\"174\" x=\"454\" y=\"342.9375\"/><rect fill=\"none\" height=\"239\" id=\"E11\" rx=\"10\" ry=\"10\" style=\"stroke: #A80036; stroke-width: 1.5;\" width=\"174\" x=\"454\" y=\"315\"/><text fill=\"#000000\" font-family=\"sans-serif\" font-size=\"12\" font-style=\"italic\" lengthAdjust=\"spacingAndGlyphs\" textLength=\"113\" x=\"484.5\" y=\"331.1387\">«verificationCase»</text><text fill=\"#000000\" font-family=\"sans-serif\" font-size=\"12\" lengthAdjust=\"spacingAndGlyphs\" textLength=\"99\" x=\"491.5\" y=\"345.1074\">verificationCase</text><line style=\"stroke: #A80036; stroke-width: 1.0;\" x1=\"454\" x2=\"628\" y1=\"352.9375\" y2=\"352.9375\"/></a><!--MD5=[b4997ac47864f28c2f74865a473b2911]\n",
       "class E2--><a href=\"psysml:ee2cd088-4b38-485a-bdcf-f034eebaa933\" target=\"_top\" title=\"psysml:ee2cd088-4b38-485a-bdcf-f034eebaa933\" xlink:actuate=\"onRequest\" xlink:href=\"psysml:ee2cd088-4b38-485a-bdcf-f034eebaa933\" xlink:show=\"new\" xlink:title=\"psysml:ee2cd088-4b38-485a-bdcf-f034eebaa933\" xlink:type=\"simple\"><rect fill=\"#FEFECE\" filter=\"url(#f16his8oovlovr)\" height=\"45.9375\" id=\"E2\" style=\"stroke: #A80036; stroke-width: 1.5;\" width=\"66\" x=\"849\" y=\"158.5\"/><text fill=\"#000000\" font-family=\"sans-serif\" font-size=\"12\" font-style=\"italic\" lengthAdjust=\"spacingAndGlyphs\" textLength=\"64\" x=\"850\" y=\"174.6387\">«part def»</text><text fill=\"#000000\" font-family=\"sans-serif\" font-size=\"12\" lengthAdjust=\"spacingAndGlyphs\" textLength=\"8\" x=\"878\" y=\"188.6074\">V</text><line style=\"stroke: #A80036; stroke-width: 1.5;\" x1=\"850\" x2=\"914\" y1=\"196.4375\" y2=\"196.4375\"/></a><!--MD5=[09b614a08d8cba4a07c9adeb5e0fee81]\n",
       "class E3--><a href=\"psysml:ea23779d-7b91-41e0-a4d1-5f0745e774d2\" target=\"_top\" title=\"psysml:ea23779d-7b91-41e0-a4d1-5f0745e774d2\" xlink:actuate=\"onRequest\" xlink:href=\"psysml:ea23779d-7b91-41e0-a4d1-5f0745e774d2\" xlink:show=\"new\" xlink:title=\"psysml:ea23779d-7b91-41e0-a4d1-5f0745e774d2\" xlink:type=\"simple\"><rect fill=\"#FEFECE\" filter=\"url(#f16his8oovlovr)\" height=\"45.9375\" id=\"E3\" rx=\"10\" ry=\"10\" style=\"stroke: #A80036; stroke-width: 1.5;\" width=\"42\" x=\"861\" y=\"41\"/><text fill=\"#000000\" font-family=\"sans-serif\" font-size=\"12\" font-style=\"italic\" lengthAdjust=\"spacingAndGlyphs\" textLength=\"40\" x=\"862\" y=\"57.1387\">«part»</text><text fill=\"#000000\" font-family=\"sans-serif\" font-size=\"12\" lengthAdjust=\"spacingAndGlyphs\" textLength=\"28\" x=\"868\" y=\"71.1074\">vv: V</text><line style=\"stroke: #A80036; stroke-width: 1.5;\" x1=\"862\" x2=\"902\" y1=\"78.9375\" y2=\"78.9375\"/></a><!--MD5=[ebbe1d658d1005bcc118a6aa81145e00]\n",
       "class E4--><a href=\"psysml:971e85b9-9957-4674-90a7-be3bf98856c5\" target=\"_top\" title=\"psysml:971e85b9-9957-4674-90a7-be3bf98856c5\" xlink:actuate=\"onRequest\" xlink:href=\"psysml:971e85b9-9957-4674-90a7-be3bf98856c5\" xlink:show=\"new\" xlink:title=\"psysml:971e85b9-9957-4674-90a7-be3bf98856c5\" xlink:type=\"simple\"><rect fill=\"#FEFECE\" filter=\"url(#f16his8oovlovr)\" height=\"66.7422\" id=\"E4\" style=\"stroke: #A80036; stroke-width: 1.5;\" width=\"117\" x=\"696.5\" y=\"148\"/><text fill=\"#000000\" font-family=\"sans-serif\" font-size=\"12\" font-style=\"italic\" lengthAdjust=\"spacingAndGlyphs\" textLength=\"115\" x=\"697.5\" y=\"164.1387\">«requirement def»</text><text fill=\"#000000\" font-family=\"sans-serif\" font-size=\"12\" lengthAdjust=\"spacingAndGlyphs\" textLength=\"8\" x=\"751\" y=\"178.1074\">R</text><line style=\"stroke: #A80036; stroke-width: 1.5;\" x1=\"697.5\" x2=\"812.5\" y1=\"185.9375\" y2=\"185.9375\"/><text fill=\"#000000\" font-family=\"sans-serif\" font-size=\"11\" lengthAdjust=\"spacingAndGlyphs\" textLength=\"12\" x=\"702.5\" y=\"200.1479\">...</text><line style=\"stroke: #A80036; stroke-width: 1.0;\" x1=\"697.5\" x2=\"812.5\" y1=\"206.7422\" y2=\"206.7422\"/></a><!--MD5=[270fce915f116d4de14055a7c1d9a0f3]\n",
       "class E5--><a href=\"psysml:bbcd2223-85a4-4701-a24f-5592c5712336\" target=\"_top\" title=\"psysml:bbcd2223-85a4-4701-a24f-5592c5712336\" xlink:actuate=\"onRequest\" xlink:href=\"psysml:bbcd2223-85a4-4701-a24f-5592c5712336\" xlink:show=\"new\" xlink:title=\"psysml:bbcd2223-85a4-4701-a24f-5592c5712336\" xlink:type=\"simple\"><rect fill=\"#FEFECE\" filter=\"url(#f16his8oovlovr)\" height=\"45.9375\" id=\"E5\" rx=\"10\" ry=\"10\" style=\"stroke: #A80036; stroke-width: 1.5;\" width=\"93\" x=\"708.5\" y=\"41\"/><text fill=\"#000000\" font-family=\"sans-serif\" font-size=\"12\" font-style=\"italic\" lengthAdjust=\"spacingAndGlyphs\" textLength=\"91\" x=\"709.5\" y=\"57.1387\">«requirement»</text><text fill=\"#000000\" font-family=\"sans-serif\" font-size=\"12\" lengthAdjust=\"spacingAndGlyphs\" textLength=\"21\" x=\"744.5\" y=\"71.1074\">r: R</text><line style=\"stroke: #A80036; stroke-width: 1.5;\" x1=\"709.5\" x2=\"800.5\" y1=\"78.9375\" y2=\"78.9375\"/></a><!--MD5=[0c48fb7552dae8cbbef69381101a84c8]\n",
       "class E15--><a href=\"psysml:1ba0f1fa-2142-46f9-b759-d2e88bd368a2\" target=\"_top\" title=\"psysml:1ba0f1fa-2142-46f9-b759-d2e88bd368a2\" xlink:actuate=\"onRequest\" xlink:href=\"psysml:1ba0f1fa-2142-46f9-b759-d2e88bd368a2\" xlink:show=\"new\" xlink:title=\"psysml:1ba0f1fa-2142-46f9-b759-d2e88bd368a2\" xlink:type=\"simple\"><rect fill=\"#FEFECE\" filter=\"url(#f16his8oovlovr)\" height=\"45.9375\" id=\"E15\" rx=\"10\" ry=\"10\" style=\"stroke: #A80036; stroke-width: 1.5;\" width=\"122\" x=\"74\" y=\"41\"/><text fill=\"#000000\" font-family=\"sans-serif\" font-size=\"12\" font-style=\"italic\" lengthAdjust=\"spacingAndGlyphs\" textLength=\"40\" x=\"115\" y=\"57.1387\">«part»</text><text fill=\"#000000\" font-family=\"sans-serif\" font-size=\"12\" lengthAdjust=\"spacingAndGlyphs\" textLength=\"116\" x=\"77\" y=\"71.1074\">verificationContext</text><line style=\"stroke: #A80036; stroke-width: 1.5;\" x1=\"75\" x2=\"195\" y1=\"78.9375\" y2=\"78.9375\"/></a><!--MD5=[35f0587eaee8d5bb9a02e25b63afc23b]\n",
       "class E16--><a href=\"psysml:f139e62b-7bf9-43a0-a382-40038ed35c63\" target=\"_top\" title=\"psysml:f139e62b-7bf9-43a0-a382-40038ed35c63\" xlink:actuate=\"onRequest\" xlink:href=\"psysml:f139e62b-7bf9-43a0-a382-40038ed35c63\" xlink:show=\"new\" xlink:title=\"psysml:f139e62b-7bf9-43a0-a382-40038ed35c63\" xlink:type=\"simple\"><rect fill=\"#FEFECE\" filter=\"url(#f16his8oovlovr)\" height=\"45.9375\" id=\"E16\" rx=\"10\" ry=\"10\" style=\"stroke: #A80036; stroke-width: 1.5;\" width=\"206\" x=\"32\" y=\"158.5\"/><text fill=\"#000000\" font-family=\"sans-serif\" font-size=\"12\" font-style=\"italic\" lengthAdjust=\"spacingAndGlyphs\" textLength=\"113\" x=\"78.5\" y=\"174.6387\">«verificationCase»</text><text fill=\"#000000\" font-family=\"sans-serif\" font-size=\"12\" lengthAdjust=\"spacingAndGlyphs\" textLength=\"200\" x=\"35\" y=\"188.6074\">verificationPlan: VerificationPlan</text><line style=\"stroke: #A80036; stroke-width: 1.5;\" x1=\"33\" x2=\"237\" y1=\"196.4375\" y2=\"196.4375\"/></a><!--MD5=[60e55a4a9b2f0dc0a36787c5a2095786]\n",
       "class E17--><a href=\"psysml:fe640fc2-093c-44fe-a9fd-0ceecb8f463c\" target=\"_top\" title=\"psysml:fe640fc2-093c-44fe-a9fd-0ceecb8f463c\" xlink:actuate=\"onRequest\" xlink:href=\"psysml:fe640fc2-093c-44fe-a9fd-0ceecb8f463c\" xlink:show=\"new\" xlink:title=\"psysml:fe640fc2-093c-44fe-a9fd-0ceecb8f463c\" xlink:type=\"simple\"><rect fill=\"#FEFECE\" filter=\"url(#f16his8oovlovr)\" height=\"45.9375\" id=\"E17\" rx=\"10\" ry=\"10\" style=\"stroke: #A80036; stroke-width: 1.5;\" width=\"93\" x=\"88.5\" y=\"292\"/><text fill=\"#000000\" font-family=\"sans-serif\" font-size=\"12\" font-style=\"italic\" lengthAdjust=\"spacingAndGlyphs\" textLength=\"91\" x=\"89.5\" y=\"308.1387\">«requirement»</text><text fill=\"#000000\" font-family=\"sans-serif\" font-size=\"12\" lengthAdjust=\"spacingAndGlyphs\" textLength=\"19\" x=\"125.5\" y=\"322.1074\">obj</text><line style=\"stroke: #A80036; stroke-width: 1.5;\" x1=\"89.5\" x2=\"180.5\" y1=\"329.9375\" y2=\"329.9375\"/></a><text fill=\"#000000\" font-family=\"sans-serif\" font-size=\"14\" lengthAdjust=\"spacingAndGlyphs\" textLength=\"7\" x=\"1030.5\" y=\"42.6982\">v</text><rect fill=\"#A80036\" height=\"12\" style=\"stroke: #FEFECE; stroke-width: 1.5;\" width=\"12\" x=\"1028\" y=\"58\"/><text fill=\"#000000\" font-family=\"sans-serif\" font-size=\"14\" lengthAdjust=\"spacingAndGlyphs\" textLength=\"46\" x=\"1011\" y=\"392.9951\">verdict</text><rect fill=\"#A80036\" height=\"12\" style=\"stroke: #FEFECE; stroke-width: 1.5;\" width=\"12\" x=\"1028\" y=\"368\"/><text fill=\"#000000\" font-family=\"sans-serif\" font-size=\"14\" lengthAdjust=\"spacingAndGlyphs\" textLength=\"7\" x=\"358.5\" y=\"160.1982\">v</text><rect fill=\"#A80036\" height=\"12\" style=\"stroke: #FEFECE; stroke-width: 1.5;\" width=\"12\" x=\"356\" y=\"175.5\"/><text fill=\"#000000\" font-family=\"sans-serif\" font-size=\"14\" lengthAdjust=\"spacingAndGlyphs\" textLength=\"46\" x=\"643\" y=\"499.9951\">verdict</text><rect fill=\"#A80036\" height=\"12\" style=\"stroke: #FEFECE; stroke-width: 1.5;\" width=\"12\" x=\"660\" y=\"475\"/><text fill=\"#000000\" font-family=\"sans-serif\" font-size=\"14\" lengthAdjust=\"spacingAndGlyphs\" textLength=\"46\" x=\"518\" y=\"572.9951\">verdict</text><rect fill=\"#A80036\" height=\"12\" style=\"stroke: #FEFECE; stroke-width: 1.5;\" width=\"12\" x=\"535\" y=\"548\"/><text fill=\"#000000\" font-family=\"sans-serif\" font-size=\"14\" lengthAdjust=\"spacingAndGlyphs\" textLength=\"7\" x=\"537.5\" y=\"293.6982\">v</text><rect fill=\"#A80036\" height=\"12\" style=\"stroke: #FEFECE; stroke-width: 1.5;\" width=\"12\" x=\"535\" y=\"309\"/><!--MD5=[05d275557350bfb9b23a4ef7222b4c39]\n",
       "link E3 to E2--><a href=\"psysml:2b222a15-a90b-432a-993d-d339516ea993\" target=\"_top\" title=\"psysml:2b222a15-a90b-432a-993d-d339516ea993\" xlink:actuate=\"onRequest\" xlink:href=\"psysml:2b222a15-a90b-432a-993d-d339516ea993\" xlink:show=\"new\" xlink:title=\"psysml:2b222a15-a90b-432a-993d-d339516ea993\" xlink:type=\"simple\"><path d=\"M882,87.27 C882,101.65 882,120.82 882,138.04 \" fill=\"none\" id=\"E3-&gt;E2\" style=\"stroke: #A80036; stroke-width: 1.0;\"/><polygon fill=\"#FFFFFF\" points=\"882,158.3,875,139.3,889,139.3,882,158.3\" style=\"stroke: #A80036; stroke-width: 1.0;\"/><ellipse cx=\"877\" cy=\"133.6\" fill=\"#A80036\" rx=\"2\" ry=\"2\" style=\"stroke: #A80036; stroke-width: 1.0;\"/><ellipse cx=\"887\" cy=\"133.6\" fill=\"#A80036\" rx=\"2\" ry=\"2\" style=\"stroke: #A80036; stroke-width: 1.0;\"/></a><!--MD5=[1c62de2aa5b76f0fb657ff8443a1a700]\n",
       "link E5 to E4--><a href=\"psysml:4afeeb28-a204-4e17-a080-31f9a6d380ec\" target=\"_top\" title=\"psysml:4afeeb28-a204-4e17-a080-31f9a6d380ec\" xlink:actuate=\"onRequest\" xlink:href=\"psysml:4afeeb28-a204-4e17-a080-31f9a6d380ec\" xlink:show=\"new\" xlink:title=\"psysml:4afeeb28-a204-4e17-a080-31f9a6d380ec\" xlink:type=\"simple\"><path d=\"M755,87.27 C755,98.81 755,113.43 755,127.66 \" fill=\"none\" id=\"E5-&gt;E4\" style=\"stroke: #A80036; stroke-width: 1.0;\"/><polygon fill=\"#FFFFFF\" points=\"755,147.81,748,128.81,762,128.81,755,147.81\" style=\"stroke: #A80036; stroke-width: 1.0;\"/><ellipse cx=\"750\" cy=\"123.11\" fill=\"#A80036\" rx=\"2\" ry=\"2\" style=\"stroke: #A80036; stroke-width: 1.0;\"/><ellipse cx=\"760\" cy=\"123.11\" fill=\"#A80036\" rx=\"2\" ry=\"2\" style=\"stroke: #A80036; stroke-width: 1.0;\"/></a><!--MD5=[58e4cf537c4d67f6b3da95fd5b934e63]\n",
       "reverse link E15 to E16--><a href=\"psysml:4d9ca163-dfe0-49d5-81cb-3058dc3dad3f\" target=\"_top\" title=\"psysml:4d9ca163-dfe0-49d5-81cb-3058dc3dad3f\" xlink:actuate=\"onRequest\" xlink:href=\"psysml:4d9ca163-dfe0-49d5-81cb-3058dc3dad3f\" xlink:show=\"new\" xlink:title=\"psysml:4d9ca163-dfe0-49d5-81cb-3058dc3dad3f\" xlink:type=\"simple\"><path d=\"M135,100.49 C135,119.35 135,141.94 135,158.3 \" fill=\"none\" id=\"E15&lt;-E16\" style=\"stroke: #A80036; stroke-width: 1.0;\"/><polygon fill=\"#A80036\" points=\"135,87.27,131,93.27,135,99.27,139,93.27,135,87.27\" style=\"stroke: #A80036; stroke-width: 1.0;\"/></a><!--MD5=[4de2d328c39b6d65fb95a84ef336270e]\n",
       "link E16 to E9--><a href=\"psysml:cd73bb42-520f-4e04-8240-7f040abbe442\" target=\"_top\" title=\"psysml:cd73bb42-520f-4e04-8240-7f040abbe442\" xlink:actuate=\"onRequest\" xlink:href=\"psysml:cd73bb42-520f-4e04-8240-7f040abbe442\" xlink:show=\"new\" xlink:title=\"psysml:cd73bb42-520f-4e04-8240-7f040abbe442\" xlink:type=\"simple\"><path d=\"M172.99,204.51 C218.18,230.69 292.58,273.79 333.25,297.35 \" fill=\"none\" id=\"E16-&gt;E9\" style=\"stroke: #A80036; stroke-width: 1.0;\"/><polygon fill=\"#FFFFFF\" points=\"333.25,297.35,313.3006,293.8831,320.3182,281.7689,333.25,297.35\" style=\"stroke: #A80036; stroke-width: 1.0;\"/><ellipse cx=\"309.3709\" cy=\"289.2953\" fill=\"#A80036\" rx=\"2\" ry=\"2\" style=\"stroke: #A80036; stroke-width: 1.0;\"/><ellipse cx=\"314.3835\" cy=\"280.6423\" fill=\"#A80036\" rx=\"2\" ry=\"2\" style=\"stroke: #A80036; stroke-width: 1.0;\"/></a><!--MD5=[450e3481f1c83a03a55fcf78b0bbbde6]\n",
       "link E16 to E17--><a href=\"psysml:e29f10bd-d5bc-4797-97ab-a37fb0e5db5b\" target=\"_top\" title=\"psysml:e29f10bd-d5bc-4797-97ab-a37fb0e5db5b\" xlink:actuate=\"onRequest\" xlink:href=\"psysml:e29f10bd-d5bc-4797-97ab-a37fb0e5db5b\" xlink:show=\"new\" xlink:title=\"psysml:e29f10bd-d5bc-4797-97ab-a37fb0e5db5b\" xlink:type=\"simple\"><path d=\"M135,204.51 C135,226.22 135,259.59 135,283.78 \" fill=\"none\" id=\"E16-&gt;E17\" style=\"stroke: #A80036; stroke-width: 1.0;\"/><polygon fill=\"#A80036\" points=\"135,291.92,138,283.92,132,283.92,135,291.92\" style=\"stroke: #A80036; stroke-width: 1.0;\"/><text fill=\"#000000\" font-family=\"sans-serif\" font-size=\"13\" lengthAdjust=\"spacingAndGlyphs\" textLength=\"73\" x=\"136\" y=\"258.0669\">«objective»</text><text fill=\"#000000\" font-family=\"sans-serif\" font-size=\"13\" lengthAdjust=\"spacingAndGlyphs\" textLength=\"7\" x=\"127.0594\" y=\"280.7948\">*</text></a><!--MD5=[91f18010e199ce201a3f6a9f19f04c8d]\n",
       "@startuml\r\n",
       "skinparam wrapWidth 300\r\n",
       "hide circle\r\n",
       "\r\n",
       "package \"VerificationTest\" as E1  [[psysml:7303dfcd-df1a-4034-bc74-eb93457ec7c0 ]]  {\r\n",
       "comp def \"V\" as E2  <<(T,blue) part def>> [[psysml:ee2cd088-4b38-485a-bdcf-f034eebaa933 ]] {\r\n",
       "}\r\n",
       "comp usage \"vv: V\" as E3  <<(T,blue) part>> [[psysml:ea23779d-7b91-41e0-a4d1-5f0745e774d2 ]] {\r\n",
       "}\r\n",
       "comp def \"R\" as E4  <<(T,blue) requirement def>> [[psysml:971e85b9-9957-4674-90a7-be3bf98856c5 ]] {\r\n",
       "...\r\n",
       "- -\r\n",
       "}\r\n",
       "comp usage \"r: R\" as E5  <<(T,blue) requirement>> [[psysml:bbcd2223-85a4-4701-a24f-5592c5712336 ]] {\r\n",
       "}\r\n",
       "rec def \"VerificationCase\" as E6  <<(T,blue) verificationCase def>> [[psysml:f44943ce-87bd-4d2b-91db-f66bd879bf72 ]] {\r\n",
       "portin \"v\" as E7  [[psysml:39e4c68a-7e48-4018-a595-005447bc25d1 ]] \r\n",
       "portout \"verdict\" as E8  [[psysml:e7480a5a-bc03-4bfb-926c-ff77790341ab ]] \r\n",
       "}\r\n",
       "\r\n",
       "rec def \"VerificationPlan\" as E9  <<(T,blue) verificationCase def>> [[psysml:109e665d-9569-4e28-8454-db86a3b7365b ]] {\r\n",
       "portin \"v\" as E10  [[psysml:bc04aa0f-1251-4bd1-9492-821de83ad0f4 ]] \r\n",
       "rec usage \"verificationCase\" as E11  <<(T,blue) verificationCase>> [[psysml:d8eec309-4539-4ef6-b593-f8d5221313a5 ]] {\r\n",
       "portout \"verdict\" as E12  [[psysml:d4b19012-2d8f-412c-81cb-04106ed54ab9 ]] \r\n",
       "portin \"v\" as E13  [[psysml:101691aa-2b16-4439-bb49-3b5a9750b72a ]] \r\n",
       "}\r\n",
       "\r\n",
       "portout \"verdict\" as E14  [[psysml:d1cc474d-a7ae-4245-8f3b-eac2c389ad3d ]] \r\n",
       "}\r\n",
       "\r\n",
       "comp usage \"verificationContext\" as E15  <<(T,blue) part>> [[psysml:1ba0f1fa-2142-46f9-b759-d2e88bd368a2 ]] {\r\n",
       "}\r\n",
       "comp usage \"verificationPlan: VerificationPlan\" as E16  <<(T,blue) verificationCase>> [[psysml:f139e62b-7bf9-43a0-a382-40038ed35c63 ]] {\r\n",
       "}\r\n",
       "comp usage \"obj\" as E17  <<(T,blue) requirement>> [[psysml:fe640fc2-093c-44fe-a9fd-0ceecb8f463c ]] {\r\n",
       "}\r\n",
       "}\r\n",
       "E3 - -:|> E2 [[psysml:2b222a15-a90b-432a-993d-d339516ea993 ]] \r\n",
       "E5 - -:|> E4 [[psysml:4afeeb28-a204-4e17-a080-31f9a6d380ec ]] \r\n",
       "E15 *- - E16 [[psysml:4d9ca163-dfe0-49d5-81cb-3058dc3dad3f ]] \r\n",
       "E16 - -:|> E9 [[psysml:cd73bb42-520f-4e04-8240-7f040abbe442 ]] \r\n",
       "E16 - ->> \"*\"E17 [[psysml:e29f10bd-d5bc-4797-97ab-a37fb0e5db5b ]] : <<objective>>\r\n",
       "@enduml\r\n",
       "\n",
       "PlantUML version 1.2020.13(Sat Jun 13 12:26:38 UTC 2020)\n",
       "(EPL source distribution)\n",
       "Java Runtime: OpenJDK Runtime Environment\n",
       "JVM: OpenJDK 64-Bit Server VM\n",
       "Default Encoding: UTF-8\n",
       "Language: en\n",
       "Country: null\n",
       "--></g></svg>"
      ]
     },
     "execution_count": 29,
     "metadata": {},
     "output_type": "execute_result"
    }
   ],
   "source": [
    "%viz --style=\"STDCOLOR\" --view=\"MIXED\" \"VerificationTest\""
   ]
  },
  {
   "cell_type": "code",
   "execution_count": 30,
   "id": "c7f04913",
   "metadata": {
    "execution": {
     "iopub.execute_input": "2021-10-03T08:26:49.152436Z",
     "iopub.status.busy": "2021-10-03T08:26:49.152034Z",
     "iopub.status.idle": "2021-10-03T08:26:49.237538Z",
     "shell.execute_reply": "2021-10-03T08:26:49.237184Z"
    }
   },
   "outputs": [
    {
     "data": {
      "image/svg+xml": [
       "<?xml version=\"1.0\" encoding=\"UTF-8\" standalone=\"no\"?><svg xmlns=\"http://www.w3.org/2000/svg\" xmlns:xlink=\"http://www.w3.org/1999/xlink\" contentScriptType=\"application/ecmascript\" contentStyleType=\"text/css\" height=\"628px\" preserveAspectRatio=\"none\" style=\"width:1198px;height:628px;\" version=\"1.1\" viewBox=\"0 0 1198 628\" width=\"1198px\" zoomAndPan=\"magnify\"><defs><filter height=\"300%\" id=\"f15uhlys00a99f\" width=\"300%\" x=\"-1\" y=\"-1\"><feGaussianBlur result=\"blurOut\" stdDeviation=\"2.0\"/><feColorMatrix in=\"blurOut\" result=\"blurOut2\" type=\"matrix\" values=\"0 0 0 0 0 0 0 0 0 0 0 0 0 0 0 0 0 0 .4 0\"/><feOffset dx=\"4.0\" dy=\"4.0\" in=\"blurOut2\" result=\"blurOut3\"/><feBlend in=\"SourceGraphic\" in2=\"blurOut3\" mode=\"normal\"/></filter></defs><g><!--MD5=[fbc87193dbaf4d95561dea2c320d4a47]\n",
       "cluster E1--><a href=\"psysml:7303dfcd-df1a-4034-bc74-eb93457ec7c0\" target=\"_top\" title=\"psysml:7303dfcd-df1a-4034-bc74-eb93457ec7c0\" xlink:actuate=\"onRequest\" xlink:href=\"psysml:7303dfcd-df1a-4034-bc74-eb93457ec7c0\" xlink:show=\"new\" xlink:title=\"psysml:7303dfcd-df1a-4034-bc74-eb93457ec7c0\" xlink:type=\"simple\"><polygon fill=\"#FFFFFF\" filter=\"url(#f15uhlys00a99f)\" points=\"16,6,128,6,135,28.2969,1176,28.2969,1176,616,16,616,16,6\" style=\"stroke: #000000; stroke-width: 1.5;\"/><line style=\"stroke: #000000; stroke-width: 1.5;\" x1=\"16\" x2=\"135\" y1=\"28.2969\" y2=\"28.2969\"/><text fill=\"#000000\" font-family=\"sans-serif\" font-size=\"14\" font-weight=\"bold\" lengthAdjust=\"spacingAndGlyphs\" textLength=\"106\" x=\"20\" y=\"20.9951\">VerificationTest</text></a><!--MD5=[14e3b0961a2654348d326746436168a1]\n",
       "cluster E6--><a href=\"psysml:f44943ce-87bd-4d2b-91db-f66bd879bf72\" target=\"_top\" title=\"psysml:f44943ce-87bd-4d2b-91db-f66bd879bf72\" xlink:actuate=\"onRequest\" xlink:href=\"psysml:f44943ce-87bd-4d2b-91db-f66bd879bf72\" xlink:show=\"new\" xlink:title=\"psysml:f44943ce-87bd-4d2b-91db-f66bd879bf72\" xlink:type=\"simple\"><rect fill=\"#FFFFFF\" filter=\"url(#f15uhlys00a99f)\" height=\"310\" id=\"E6\" style=\"stroke: #A80036; stroke-width: 1.5;\" width=\"200\" x=\"960\" y=\"64\"/><rect fill=\"#FEFECE\" height=\"37.9375\" style=\"stroke: #A80036; stroke-width: 1.5;\" width=\"200\" x=\"960\" y=\"64\"/><text fill=\"#000000\" font-family=\"sans-serif\" font-size=\"12\" font-style=\"italic\" lengthAdjust=\"spacingAndGlyphs\" textLength=\"137\" x=\"991.5\" y=\"80.1387\">«verificationCase def»</text><text fill=\"#000000\" font-family=\"sans-serif\" font-size=\"12\" lengthAdjust=\"spacingAndGlyphs\" textLength=\"101\" x=\"1009.5\" y=\"94.1074\">VerificationCase</text></a><!--MD5=[7f149f147074ac12df2cb0a7728a5fb0]\n",
       "cluster E9--><a href=\"psysml:109e665d-9569-4e28-8454-db86a3b7365b\" target=\"_top\" title=\"psysml:109e665d-9569-4e28-8454-db86a3b7365b\" xlink:actuate=\"onRequest\" xlink:href=\"psysml:109e665d-9569-4e28-8454-db86a3b7365b\" xlink:show=\"new\" xlink:title=\"psysml:109e665d-9569-4e28-8454-db86a3b7365b\" xlink:type=\"simple\"><rect fill=\"#FFFFFF\" filter=\"url(#f15uhlys00a99f)\" height=\"410.5\" id=\"E9\" style=\"stroke: #A80036; stroke-width: 1.5;\" width=\"322\" x=\"370\" y=\"181.5\"/><rect fill=\"#FEFECE\" height=\"37.9375\" style=\"stroke: #A80036; stroke-width: 1.5;\" width=\"322\" x=\"370\" y=\"181.5\"/><text fill=\"#000000\" font-family=\"sans-serif\" font-size=\"12\" font-style=\"italic\" lengthAdjust=\"spacingAndGlyphs\" textLength=\"137\" x=\"462.5\" y=\"197.6387\">«verificationCase def»</text><text fill=\"#000000\" font-family=\"sans-serif\" font-size=\"12\" lengthAdjust=\"spacingAndGlyphs\" textLength=\"97\" x=\"482.5\" y=\"211.6074\">VerificationPlan</text></a><!--MD5=[917b9dd0c7eca3ee5f47219d1a84c0ad]\n",
       "cluster E11--><a href=\"psysml:d8eec309-4539-4ef6-b593-f8d5221313a5\" target=\"_top\" title=\"psysml:d8eec309-4539-4ef6-b593-f8d5221313a5\" xlink:actuate=\"onRequest\" xlink:href=\"psysml:d8eec309-4539-4ef6-b593-f8d5221313a5\" xlink:show=\"new\" xlink:title=\"psysml:d8eec309-4539-4ef6-b593-f8d5221313a5\" xlink:type=\"simple\"><rect fill=\"#FFFFFF\" filter=\"url(#f15uhlys00a99f)\" height=\"239\" id=\"E11\" rx=\"10\" ry=\"10\" style=\"stroke: #A80036; stroke-width: 1.5;\" width=\"174\" x=\"480\" y=\"315\"/><rect fill=\"#FEFECE\" height=\"37.9375\" rx=\"10\" ry=\"10\" style=\"stroke: #FEFECE; stroke-width: 1.5;\" width=\"174\" x=\"480\" y=\"315\"/><rect fill=\"#FEFECE\" height=\"10\" style=\"stroke: #FEFECE; stroke-width: 1.5;\" width=\"174\" x=\"480\" y=\"342.9375\"/><rect fill=\"none\" height=\"239\" id=\"E11\" rx=\"10\" ry=\"10\" style=\"stroke: #A80036; stroke-width: 1.5;\" width=\"174\" x=\"480\" y=\"315\"/><text fill=\"#000000\" font-family=\"sans-serif\" font-size=\"12\" font-style=\"italic\" lengthAdjust=\"spacingAndGlyphs\" textLength=\"113\" x=\"510.5\" y=\"331.1387\">«verificationCase»</text><text fill=\"#000000\" font-family=\"sans-serif\" font-size=\"12\" lengthAdjust=\"spacingAndGlyphs\" textLength=\"99\" x=\"517.5\" y=\"345.1074\">verificationCase</text><line style=\"stroke: #A80036; stroke-width: 1.0;\" x1=\"480\" x2=\"654\" y1=\"352.9375\" y2=\"352.9375\"/></a><!--MD5=[b4997ac47864f28c2f74865a473b2911]\n",
       "class E2--><a href=\"psysml:ee2cd088-4b38-485a-bdcf-f034eebaa933\" target=\"_top\" title=\"psysml:ee2cd088-4b38-485a-bdcf-f034eebaa933\" xlink:actuate=\"onRequest\" xlink:href=\"psysml:ee2cd088-4b38-485a-bdcf-f034eebaa933\" xlink:show=\"new\" xlink:title=\"psysml:ee2cd088-4b38-485a-bdcf-f034eebaa933\" xlink:type=\"simple\"><rect fill=\"#FEFECE\" filter=\"url(#f15uhlys00a99f)\" height=\"40\" id=\"E2\" style=\"stroke: #A80036; stroke-width: 1.5;\" width=\"40\" x=\"901\" y=\"161.5\"/><ellipse cx=\"916\" cy=\"177.5\" fill=\"#008000\" rx=\"11\" ry=\"11\" style=\"stroke: #A80036; stroke-width: 1.0;\"/><path d=\"M912.875,182.5 L912.875,171.9063 L916.1094,171.9063 Q918.0156,171.9063 918.9219,172.6563 Q919.8438,173.4063 919.8438,174.5781 Q919.8438,175.2656 919.4531,175.9219 Q919.0781,176.5781 918.3594,176.875 Q919.2188,177.25 919.7344,177.9375 Q920.25,178.625 920.25,179.4375 Q920.25,180.8125 919.2188,181.6563 Q918.2031,182.5 916.0938,182.5 L912.875,182.5 Z M914.7969,176.1406 L915.9531,176.1406 Q917.0781,176.1406 917.4844,175.7656 Q917.9063,175.375 917.9063,174.75 Q917.9063,174.1719 917.4844,173.8125 Q917.0625,173.4531 916.125,173.4531 L914.7969,173.4531 L914.7969,176.1406 Z M914.7969,180.9219 L916.2969,180.9219 Q917.2031,180.9219 917.7344,180.5313 Q918.2656,180.1406 918.2656,179.3906 Q918.2656,178.625 917.7656,178.1563 Q917.2656,177.6719 916,177.6719 L914.7969,177.6719 L914.7969,180.9219 Z \"/><text fill=\"#000000\" font-family=\"sans-serif\" font-size=\"12\" lengthAdjust=\"spacingAndGlyphs\" textLength=\"8\" x=\"930\" y=\"181.6543\">V</text><line style=\"stroke: #A80036; stroke-width: 1.5;\" x1=\"902\" x2=\"940\" y1=\"193.5\" y2=\"193.5\"/></a><!--MD5=[09b614a08d8cba4a07c9adeb5e0fee81]\n",
       "class E3--><a href=\"psysml:ea23779d-7b91-41e0-a4d1-5f0745e774d2\" target=\"_top\" title=\"psysml:ea23779d-7b91-41e0-a4d1-5f0745e774d2\" xlink:actuate=\"onRequest\" xlink:href=\"psysml:ea23779d-7b91-41e0-a4d1-5f0745e774d2\" xlink:show=\"new\" xlink:title=\"psysml:ea23779d-7b91-41e0-a4d1-5f0745e774d2\" xlink:type=\"simple\"><rect fill=\"#FEFECE\" filter=\"url(#f15uhlys00a99f)\" height=\"45.9375\" id=\"E3\" rx=\"10\" ry=\"10\" style=\"stroke: #A80036; stroke-width: 1.5;\" width=\"68\" x=\"884\" y=\"41\"/><ellipse cx=\"899\" cy=\"59.9688\" fill=\"#32CD32\" rx=\"11\" ry=\"11\" style=\"stroke: #A80036; stroke-width: 1.0;\"/><path d=\"M895.8125,64.9688 L895.8125,54.375 L899.4219,54.375 Q900.6406,54.375 901.4375,54.8125 Q902.2344,55.2344 902.6094,55.9375 Q903,56.6406 903,57.4844 Q903,58.3281 902.625,59.0156 Q902.2656,59.7031 901.4688,60.125 Q900.6875,60.5313 899.5,60.5313 L897.7656,60.5313 L897.7656,64.9688 L895.8125,64.9688 Z M897.7656,58.9375 L899.375,58.9375 Q900.1875,58.9375 900.6094,58.5313 Q901.0313,58.125 901.0313,57.4844 Q901.0313,56.8594 900.6094,56.4531 Q900.1875,56.0469 899.3906,56.0469 L897.7656,56.0469 L897.7656,58.9375 Z \"/><text fill=\"#000000\" font-family=\"sans-serif\" font-size=\"12\" font-style=\"italic\" lengthAdjust=\"spacingAndGlyphs\" textLength=\"40\" x=\"911\" y=\"57.1387\">«part»</text><text fill=\"#000000\" font-family=\"sans-serif\" font-size=\"12\" lengthAdjust=\"spacingAndGlyphs\" textLength=\"28\" x=\"917\" y=\"71.1074\">vv: V</text><line style=\"stroke: #A80036; stroke-width: 1.5;\" x1=\"885\" x2=\"951\" y1=\"78.9375\" y2=\"78.9375\"/></a><!--MD5=[ebbe1d658d1005bcc118a6aa81145e00]\n",
       "class E4--><a href=\"psysml:971e85b9-9957-4674-90a7-be3bf98856c5\" target=\"_top\" title=\"psysml:971e85b9-9957-4674-90a7-be3bf98856c5\" xlink:actuate=\"onRequest\" xlink:href=\"psysml:971e85b9-9957-4674-90a7-be3bf98856c5\" xlink:show=\"new\" xlink:title=\"psysml:971e85b9-9957-4674-90a7-be3bf98856c5\" xlink:type=\"simple\"><rect fill=\"#FEFECE\" filter=\"url(#f15uhlys00a99f)\" height=\"66.7422\" id=\"E4\" style=\"stroke: #A80036; stroke-width: 1.5;\" width=\"143\" x=\"722.5\" y=\"148\"/><ellipse cx=\"737.5\" cy=\"166.9688\" fill=\"#A52A2A\" rx=\"11\" ry=\"11\" style=\"stroke: #A80036; stroke-width: 1.0;\"/><path d=\"M734.7188,171.9688 L734.7188,161.375 L737.4531,161.375 Q738.8438,161.375 739.6094,161.7656 Q740.3906,162.1406 740.9219,162.8438 Q741.4531,163.5469 741.75,164.5469 Q742.0469,165.5313 742.0469,166.75 Q742,168.3438 741.5,169.5313 Q741.0156,170.7031 739.9688,171.3438 Q738.9375,171.9688 737.25,171.9688 L734.7188,171.9688 Z M736.5781,170.4688 L737.2031,170.4688 Q738.2813,170.4688 738.9375,170.0156 Q739.5938,169.5625 739.875,168.7344 Q740.1719,167.8906 740.1563,166.7656 Q740.1563,165.5938 739.9063,164.7344 Q739.6563,163.8594 739.0469,163.3906 Q738.4375,162.9063 737.3906,162.9063 L736.5781,162.9063 L736.5781,170.4688 Z \"/><text fill=\"#000000\" font-family=\"sans-serif\" font-size=\"12\" font-style=\"italic\" lengthAdjust=\"spacingAndGlyphs\" textLength=\"115\" x=\"749.5\" y=\"164.1387\">«requirement def»</text><text fill=\"#000000\" font-family=\"sans-serif\" font-size=\"12\" lengthAdjust=\"spacingAndGlyphs\" textLength=\"8\" x=\"803\" y=\"178.1074\">R</text><line style=\"stroke: #A80036; stroke-width: 1.5;\" x1=\"723.5\" x2=\"864.5\" y1=\"185.9375\" y2=\"185.9375\"/><text fill=\"#000000\" font-family=\"sans-serif\" font-size=\"11\" lengthAdjust=\"spacingAndGlyphs\" textLength=\"12\" x=\"728.5\" y=\"200.1479\">...</text><line style=\"stroke: #A80036; stroke-width: 1.0;\" x1=\"723.5\" x2=\"864.5\" y1=\"206.7422\" y2=\"206.7422\"/></a><!--MD5=[270fce915f116d4de14055a7c1d9a0f3]\n",
       "class E5--><a href=\"psysml:bbcd2223-85a4-4701-a24f-5592c5712336\" target=\"_top\" title=\"psysml:bbcd2223-85a4-4701-a24f-5592c5712336\" xlink:actuate=\"onRequest\" xlink:href=\"psysml:bbcd2223-85a4-4701-a24f-5592c5712336\" xlink:show=\"new\" xlink:title=\"psysml:bbcd2223-85a4-4701-a24f-5592c5712336\" xlink:type=\"simple\"><rect fill=\"#FEFECE\" filter=\"url(#f15uhlys00a99f)\" height=\"45.9375\" id=\"E5\" rx=\"10\" ry=\"10\" style=\"stroke: #A80036; stroke-width: 1.5;\" width=\"119\" x=\"729.5\" y=\"41\"/><ellipse cx=\"744.5\" cy=\"59.9688\" fill=\"#FFA500\" rx=\"11\" ry=\"11\" style=\"stroke: #A80036; stroke-width: 1.0;\"/><path d=\"M744.25,65.4375 Q742.5,65.4375 741.5469,64.4063 Q740.6094,63.3594 740.6094,61.5156 L740.6094,54.625 L742.6719,54.625 L742.6719,54.7813 Q742.5781,54.875 742.5469,55.0156 Q742.5313,55.1406 742.5313,55.4063 L742.5313,61.5313 Q742.5313,62.625 742.9063,63.25 Q743.2813,63.875 744.2656,63.875 Q745.25,63.875 745.6406,63.25 Q746.0313,62.625 746.0313,61.4844 L746.0313,54.625 L747.9063,54.625 L747.9063,61.4688 Q747.9063,63.5 746.875,64.4688 Q745.8594,65.4375 744.25,65.4375 Z \"/><text fill=\"#000000\" font-family=\"sans-serif\" font-size=\"12\" font-style=\"italic\" lengthAdjust=\"spacingAndGlyphs\" textLength=\"91\" x=\"756.5\" y=\"57.1387\">«requirement»</text><text fill=\"#000000\" font-family=\"sans-serif\" font-size=\"12\" lengthAdjust=\"spacingAndGlyphs\" textLength=\"21\" x=\"791.5\" y=\"71.1074\">r: R</text><line style=\"stroke: #A80036; stroke-width: 1.5;\" x1=\"730.5\" x2=\"847.5\" y1=\"78.9375\" y2=\"78.9375\"/></a><!--MD5=[0c48fb7552dae8cbbef69381101a84c8]\n",
       "class E15--><a href=\"psysml:1ba0f1fa-2142-46f9-b759-d2e88bd368a2\" target=\"_top\" title=\"psysml:1ba0f1fa-2142-46f9-b759-d2e88bd368a2\" xlink:actuate=\"onRequest\" xlink:href=\"psysml:1ba0f1fa-2142-46f9-b759-d2e88bd368a2\" xlink:show=\"new\" xlink:title=\"psysml:1ba0f1fa-2142-46f9-b759-d2e88bd368a2\" xlink:type=\"simple\"><rect fill=\"#FEFECE\" filter=\"url(#f15uhlys00a99f)\" height=\"45.9375\" id=\"E15\" rx=\"10\" ry=\"10\" style=\"stroke: #A80036; stroke-width: 1.5;\" width=\"148\" x=\"74\" y=\"41\"/><ellipse cx=\"89\" cy=\"59.9688\" fill=\"#32CD32\" rx=\"11\" ry=\"11\" style=\"stroke: #A80036; stroke-width: 1.0;\"/><path d=\"M85.8125,64.9688 L85.8125,54.375 L89.4219,54.375 Q90.6406,54.375 91.4375,54.8125 Q92.2344,55.2344 92.6094,55.9375 Q93,56.6406 93,57.4844 Q93,58.3281 92.625,59.0156 Q92.2656,59.7031 91.4688,60.125 Q90.6875,60.5313 89.5,60.5313 L87.7656,60.5313 L87.7656,64.9688 L85.8125,64.9688 Z M87.7656,58.9375 L89.375,58.9375 Q90.1875,58.9375 90.6094,58.5313 Q91.0313,58.125 91.0313,57.4844 Q91.0313,56.8594 90.6094,56.4531 Q90.1875,56.0469 89.3906,56.0469 L87.7656,56.0469 L87.7656,58.9375 Z \"/><text fill=\"#000000\" font-family=\"sans-serif\" font-size=\"12\" font-style=\"italic\" lengthAdjust=\"spacingAndGlyphs\" textLength=\"40\" x=\"141\" y=\"57.1387\">«part»</text><text fill=\"#000000\" font-family=\"sans-serif\" font-size=\"12\" lengthAdjust=\"spacingAndGlyphs\" textLength=\"116\" x=\"103\" y=\"71.1074\">verificationContext</text><line style=\"stroke: #A80036; stroke-width: 1.5;\" x1=\"75\" x2=\"221\" y1=\"78.9375\" y2=\"78.9375\"/></a><!--MD5=[35f0587eaee8d5bb9a02e25b63afc23b]\n",
       "class E16--><a href=\"psysml:f139e62b-7bf9-43a0-a382-40038ed35c63\" target=\"_top\" title=\"psysml:f139e62b-7bf9-43a0-a382-40038ed35c63\" xlink:actuate=\"onRequest\" xlink:href=\"psysml:f139e62b-7bf9-43a0-a382-40038ed35c63\" xlink:show=\"new\" xlink:title=\"psysml:f139e62b-7bf9-43a0-a382-40038ed35c63\" xlink:type=\"simple\"><rect fill=\"#FEFECE\" filter=\"url(#f15uhlys00a99f)\" height=\"45.9375\" id=\"E16\" rx=\"10\" ry=\"10\" style=\"stroke: #A80036; stroke-width: 1.5;\" width=\"232\" x=\"32\" y=\"158.5\"/><ellipse cx=\"47\" cy=\"177.4688\" fill=\"#FFA500\" rx=\"11\" ry=\"11\" style=\"stroke: #A80036; stroke-width: 1.0;\"/><path d=\"M46.75,182.9375 Q45,182.9375 44.0469,181.9063 Q43.1094,180.8594 43.1094,179.0156 L43.1094,172.125 L45.1719,172.125 L45.1719,172.2813 Q45.0781,172.375 45.0469,172.5156 Q45.0313,172.6406 45.0313,172.9063 L45.0313,179.0313 Q45.0313,180.125 45.4063,180.75 Q45.7813,181.375 46.7656,181.375 Q47.75,181.375 48.1406,180.75 Q48.5313,180.125 48.5313,178.9844 L48.5313,172.125 L50.4063,172.125 L50.4063,178.9688 Q50.4063,181 49.375,181.9688 Q48.3594,182.9375 46.75,182.9375 Z \"/><text fill=\"#000000\" font-family=\"sans-serif\" font-size=\"12\" font-style=\"italic\" lengthAdjust=\"spacingAndGlyphs\" textLength=\"113\" x=\"104.5\" y=\"174.6387\">«verificationCase»</text><text fill=\"#000000\" font-family=\"sans-serif\" font-size=\"12\" lengthAdjust=\"spacingAndGlyphs\" textLength=\"200\" x=\"61\" y=\"188.6074\">verificationPlan: VerificationPlan</text><line style=\"stroke: #A80036; stroke-width: 1.5;\" x1=\"33\" x2=\"263\" y1=\"196.4375\" y2=\"196.4375\"/></a><!--MD5=[60e55a4a9b2f0dc0a36787c5a2095786]\n",
       "class E17--><a href=\"psysml:fe640fc2-093c-44fe-a9fd-0ceecb8f463c\" target=\"_top\" title=\"psysml:fe640fc2-093c-44fe-a9fd-0ceecb8f463c\" xlink:actuate=\"onRequest\" xlink:href=\"psysml:fe640fc2-093c-44fe-a9fd-0ceecb8f463c\" xlink:show=\"new\" xlink:title=\"psysml:fe640fc2-093c-44fe-a9fd-0ceecb8f463c\" xlink:type=\"simple\"><rect fill=\"#FEFECE\" filter=\"url(#f15uhlys00a99f)\" height=\"45.9375\" id=\"E17\" rx=\"10\" ry=\"10\" style=\"stroke: #A80036; stroke-width: 1.5;\" width=\"119\" x=\"88.5\" y=\"292\"/><ellipse cx=\"103.5\" cy=\"310.9688\" fill=\"#FFA500\" rx=\"11\" ry=\"11\" style=\"stroke: #A80036; stroke-width: 1.0;\"/><path d=\"M103.25,316.4375 Q101.5,316.4375 100.5469,315.4063 Q99.6094,314.3594 99.6094,312.5156 L99.6094,305.625 L101.6719,305.625 L101.6719,305.7813 Q101.5781,305.875 101.5469,306.0156 Q101.5313,306.1406 101.5313,306.4063 L101.5313,312.5313 Q101.5313,313.625 101.9063,314.25 Q102.2813,314.875 103.2656,314.875 Q104.25,314.875 104.6406,314.25 Q105.0313,313.625 105.0313,312.4844 L105.0313,305.625 L106.9063,305.625 L106.9063,312.4688 Q106.9063,314.5 105.875,315.4688 Q104.8594,316.4375 103.25,316.4375 Z \"/><text fill=\"#000000\" font-family=\"sans-serif\" font-size=\"12\" font-style=\"italic\" lengthAdjust=\"spacingAndGlyphs\" textLength=\"91\" x=\"115.5\" y=\"308.1387\">«requirement»</text><text fill=\"#000000\" font-family=\"sans-serif\" font-size=\"12\" lengthAdjust=\"spacingAndGlyphs\" textLength=\"19\" x=\"151.5\" y=\"322.1074\">obj</text><line style=\"stroke: #A80036; stroke-width: 1.5;\" x1=\"89.5\" x2=\"206.5\" y1=\"329.9375\" y2=\"329.9375\"/></a><text fill=\"#000000\" font-family=\"sans-serif\" font-size=\"14\" lengthAdjust=\"spacingAndGlyphs\" textLength=\"7\" x=\"1056.5\" y=\"42.6982\">v</text><rect fill=\"#A80036\" height=\"12\" style=\"stroke: #FEFECE; stroke-width: 1.5;\" width=\"12\" x=\"1054\" y=\"58\"/><text fill=\"#000000\" font-family=\"sans-serif\" font-size=\"14\" lengthAdjust=\"spacingAndGlyphs\" textLength=\"46\" x=\"1037\" y=\"392.9951\">verdict</text><rect fill=\"#A80036\" height=\"12\" style=\"stroke: #FEFECE; stroke-width: 1.5;\" width=\"12\" x=\"1054\" y=\"368\"/><text fill=\"#000000\" font-family=\"sans-serif\" font-size=\"14\" lengthAdjust=\"spacingAndGlyphs\" textLength=\"7\" x=\"384.5\" y=\"160.1982\">v</text><rect fill=\"#A80036\" height=\"12\" style=\"stroke: #FEFECE; stroke-width: 1.5;\" width=\"12\" x=\"382\" y=\"175.5\"/><text fill=\"#000000\" font-family=\"sans-serif\" font-size=\"14\" lengthAdjust=\"spacingAndGlyphs\" textLength=\"46\" x=\"669\" y=\"499.9951\">verdict</text><rect fill=\"#A80036\" height=\"12\" style=\"stroke: #FEFECE; stroke-width: 1.5;\" width=\"12\" x=\"686\" y=\"475\"/><text fill=\"#000000\" font-family=\"sans-serif\" font-size=\"14\" lengthAdjust=\"spacingAndGlyphs\" textLength=\"46\" x=\"544\" y=\"572.9951\">verdict</text><rect fill=\"#A80036\" height=\"12\" style=\"stroke: #FEFECE; stroke-width: 1.5;\" width=\"12\" x=\"561\" y=\"548\"/><text fill=\"#000000\" font-family=\"sans-serif\" font-size=\"14\" lengthAdjust=\"spacingAndGlyphs\" textLength=\"7\" x=\"563.5\" y=\"293.6982\">v</text><rect fill=\"#A80036\" height=\"12\" style=\"stroke: #FEFECE; stroke-width: 1.5;\" width=\"12\" x=\"561\" y=\"309\"/><!--MD5=[05d275557350bfb9b23a4ef7222b4c39]\n",
       "link E3 to E2--><a href=\"psysml:2b222a15-a90b-432a-993d-d339516ea993\" target=\"_top\" title=\"psysml:2b222a15-a90b-432a-993d-d339516ea993\" xlink:actuate=\"onRequest\" xlink:href=\"psysml:2b222a15-a90b-432a-993d-d339516ea993\" xlink:show=\"new\" xlink:title=\"psysml:2b222a15-a90b-432a-993d-d339516ea993\" xlink:type=\"simple\"><path d=\"M918.58,87.27 C918.98,102.56 919.51,123.26 919.98,141.27 \" fill=\"none\" id=\"E3-&gt;E2\" style=\"stroke: #A80036; stroke-width: 1.0;\"/><polygon fill=\"#FFFFFF\" points=\"920.5,161.36,913.0136,142.5464,927.0089,142.1862,920.5,161.36\" style=\"stroke: #A80036; stroke-width: 1.0;\"/><ellipse cx=\"914.8663\" cy=\"136.7968\" fill=\"#A80036\" rx=\"2\" ry=\"2\" style=\"stroke: #A80036; stroke-width: 1.0;\"/><ellipse cx=\"924.863\" cy=\"136.5396\" fill=\"#A80036\" rx=\"2\" ry=\"2\" style=\"stroke: #A80036; stroke-width: 1.0;\"/></a><!--MD5=[1c62de2aa5b76f0fb657ff8443a1a700]\n",
       "link E5 to E4--><a href=\"psysml:4afeeb28-a204-4e17-a080-31f9a6d380ec\" target=\"_top\" title=\"psysml:4afeeb28-a204-4e17-a080-31f9a6d380ec\" xlink:actuate=\"onRequest\" xlink:href=\"psysml:4afeeb28-a204-4e17-a080-31f9a6d380ec\" xlink:show=\"new\" xlink:title=\"psysml:4afeeb28-a204-4e17-a080-31f9a6d380ec\" xlink:type=\"simple\"><path d=\"M789.96,87.27 C790.46,98.81 791.1,113.43 791.71,127.66 \" fill=\"none\" id=\"E5-&gt;E4\" style=\"stroke: #A80036; stroke-width: 1.0;\"/><polygon fill=\"#FFFFFF\" points=\"792.58,147.81,784.7584,129.1332,798.7451,128.5229,792.58,147.81\" style=\"stroke: #A80036; stroke-width: 1.0;\"/><ellipse cx=\"786.508\" cy=\"123.3514\" fill=\"#A80036\" rx=\"2\" ry=\"2\" style=\"stroke: #A80036; stroke-width: 1.0;\"/><ellipse cx=\"796.4985\" cy=\"122.9155\" fill=\"#A80036\" rx=\"2\" ry=\"2\" style=\"stroke: #A80036; stroke-width: 1.0;\"/></a><!--MD5=[58e4cf537c4d67f6b3da95fd5b934e63]\n",
       "reverse link E15 to E16--><a href=\"psysml:4d9ca163-dfe0-49d5-81cb-3058dc3dad3f\" target=\"_top\" title=\"psysml:4d9ca163-dfe0-49d5-81cb-3058dc3dad3f\" xlink:actuate=\"onRequest\" xlink:href=\"psysml:4d9ca163-dfe0-49d5-81cb-3058dc3dad3f\" xlink:show=\"new\" xlink:title=\"psysml:4d9ca163-dfe0-49d5-81cb-3058dc3dad3f\" xlink:type=\"simple\"><path d=\"M148,100.49 C148,119.35 148,141.94 148,158.3 \" fill=\"none\" id=\"E15&lt;-E16\" style=\"stroke: #A80036; stroke-width: 1.0;\"/><polygon fill=\"#A80036\" points=\"148,87.27,144,93.27,148,99.27,152,93.27,148,87.27\" style=\"stroke: #A80036; stroke-width: 1.0;\"/></a><!--MD5=[4de2d328c39b6d65fb95a84ef336270e]\n",
       "link E16 to E9--><a href=\"psysml:cd73bb42-520f-4e04-8240-7f040abbe442\" target=\"_top\" title=\"psysml:cd73bb42-520f-4e04-8240-7f040abbe442\" xlink:actuate=\"onRequest\" xlink:href=\"psysml:cd73bb42-520f-4e04-8240-7f040abbe442\" xlink:show=\"new\" xlink:title=\"psysml:cd73bb42-520f-4e04-8240-7f040abbe442\" xlink:type=\"simple\"><path d=\"M188.17,204.51 C235.94,230.69 314.61,273.79 357.61,297.35 \" fill=\"none\" id=\"E16-&gt;E9\" style=\"stroke: #A80036; stroke-width: 1.0;\"/><polygon fill=\"#FFFFFF\" points=\"357.61,297.35,337.5836,294.3593,344.3108,282.0814,357.61,297.35\" style=\"stroke: #A80036; stroke-width: 1.0;\"/><ellipse cx=\"333.5458\" cy=\"289.8664\" fill=\"#A80036\" rx=\"2\" ry=\"2\" style=\"stroke: #A80036; stroke-width: 1.0;\"/><ellipse cx=\"338.3509\" cy=\"281.0965\" fill=\"#A80036\" rx=\"2\" ry=\"2\" style=\"stroke: #A80036; stroke-width: 1.0;\"/></a><!--MD5=[450e3481f1c83a03a55fcf78b0bbbde6]\n",
       "link E16 to E17--><a href=\"psysml:e29f10bd-d5bc-4797-97ab-a37fb0e5db5b\" target=\"_top\" title=\"psysml:e29f10bd-d5bc-4797-97ab-a37fb0e5db5b\" xlink:actuate=\"onRequest\" xlink:href=\"psysml:e29f10bd-d5bc-4797-97ab-a37fb0e5db5b\" xlink:show=\"new\" xlink:title=\"psysml:e29f10bd-d5bc-4797-97ab-a37fb0e5db5b\" xlink:type=\"simple\"><path d=\"M148,204.51 C148,226.22 148,259.59 148,283.78 \" fill=\"none\" id=\"E16-&gt;E17\" style=\"stroke: #A80036; stroke-width: 1.0;\"/><polygon fill=\"#A80036\" points=\"148,291.92,151,283.92,145,283.92,148,291.92\" style=\"stroke: #A80036; stroke-width: 1.0;\"/><text fill=\"#000000\" font-family=\"sans-serif\" font-size=\"13\" lengthAdjust=\"spacingAndGlyphs\" textLength=\"73\" x=\"149\" y=\"258.0669\">«objective»</text><text fill=\"#000000\" font-family=\"sans-serif\" font-size=\"13\" lengthAdjust=\"spacingAndGlyphs\" textLength=\"7\" x=\"140.0594\" y=\"280.7948\">*</text></a><!--MD5=[2e2c15406bbfaaf455e1ca60ef944858]\n",
       "@startuml\r\n",
       " \r\n",
       "package \"VerificationTest\" as E1  [[psysml:7303dfcd-df1a-4034-bc74-eb93457ec7c0 ]]  {\r\n",
       "comp def \"V\" as E2 << << (B,green) >> [[psysml:ee2cd088-4b38-485a-bdcf-f034eebaa933 ]] {\r\n",
       "}\r\n",
       "comp usage \"vv: V\" as E3 << << (P,limegreen) part>> [[psysml:ea23779d-7b91-41e0-a4d1-5f0745e774d2 ]] {\r\n",
       "}\r\n",
       "comp def \"R\" as E4 << <<(D,brown) requirement def>> [[psysml:971e85b9-9957-4674-90a7-be3bf98856c5 ]] {\r\n",
       "...\r\n",
       "- -\r\n",
       "}\r\n",
       "comp usage \"r: R\" as E5 << <<(U,orange) requirement>> [[psysml:bbcd2223-85a4-4701-a24f-5592c5712336 ]] {\r\n",
       "}\r\n",
       "rec def \"VerificationCase\" as E6 << <<(B,lemonchiffon) verificationCase def>> [[psysml:f44943ce-87bd-4d2b-91db-f66bd879bf72 ]] {\r\n",
       "portin \"v\" as E7  [[psysml:39e4c68a-7e48-4018-a595-005447bc25d1 ]] \r\n",
       "portout \"verdict\" as E8  [[psysml:e7480a5a-bc03-4bfb-926c-ff77790341ab ]] \r\n",
       "}\r\n",
       "\r\n",
       "rec def \"VerificationPlan\" as E9 << <<(B,lemonchiffon) verificationCase def>> [[psysml:109e665d-9569-4e28-8454-db86a3b7365b ]] {\r\n",
       "portin \"v\" as E10  [[psysml:bc04aa0f-1251-4bd1-9492-821de83ad0f4 ]] \r\n",
       "rec usage \"verificationCase\" as E11 << <<(U,orange) verificationCase>> [[psysml:d8eec309-4539-4ef6-b593-f8d5221313a5 ]] {\r\n",
       "portout \"verdict\" as E12  [[psysml:d4b19012-2d8f-412c-81cb-04106ed54ab9 ]] \r\n",
       "portin \"v\" as E13  [[psysml:101691aa-2b16-4439-bb49-3b5a9750b72a ]] \r\n",
       "}\r\n",
       "\r\n",
       "portout \"verdict\" as E14  [[psysml:d1cc474d-a7ae-4245-8f3b-eac2c389ad3d ]] \r\n",
       "}\r\n",
       "\r\n",
       "comp usage \"verificationContext\" as E15 << << (P,limegreen) part>> [[psysml:1ba0f1fa-2142-46f9-b759-d2e88bd368a2 ]] {\r\n",
       "}\r\n",
       "comp usage \"verificationPlan: VerificationPlan\" as E16 << <<(U,orange) verificationCase>> [[psysml:f139e62b-7bf9-43a0-a382-40038ed35c63 ]] {\r\n",
       "}\r\n",
       "comp usage \"obj\" as E17 << <<(U,orange) requirement>> [[psysml:fe640fc2-093c-44fe-a9fd-0ceecb8f463c ]] {\r\n",
       "}\r\n",
       "}\r\n",
       "E3 - -:|> E2 [[psysml:2b222a15-a90b-432a-993d-d339516ea993 ]] \r\n",
       "E5 - -:|> E4 [[psysml:4afeeb28-a204-4e17-a080-31f9a6d380ec ]] \r\n",
       "E15 *- - E16 [[psysml:4d9ca163-dfe0-49d5-81cb-3058dc3dad3f ]] \r\n",
       "E16 - -:|> E9 [[psysml:cd73bb42-520f-4e04-8240-7f040abbe442 ]] \r\n",
       "E16 - ->> \"*\"E17 [[psysml:e29f10bd-d5bc-4797-97ab-a37fb0e5db5b ]] : <<objective>>\r\n",
       "@enduml\r\n",
       "\n",
       "PlantUML version 1.2020.13(Sat Jun 13 12:26:38 UTC 2020)\n",
       "(EPL source distribution)\n",
       "Java Runtime: OpenJDK Runtime Environment\n",
       "JVM: OpenJDK 64-Bit Server VM\n",
       "Default Encoding: UTF-8\n",
       "Language: en\n",
       "Country: null\n",
       "--></g></svg>"
      ]
     },
     "execution_count": 30,
     "metadata": {},
     "output_type": "execute_result"
    }
   ],
   "source": [
    "%viz --style=\"PLANTUML\" --view=\"Default\" \"VerificationTest\""
   ]
  },
  {
   "cell_type": "code",
   "execution_count": 31,
   "id": "6fc736bf",
   "metadata": {
    "execution": {
     "iopub.execute_input": "2021-10-03T08:26:49.286697Z",
     "iopub.status.busy": "2021-10-03T08:26:49.286301Z",
     "iopub.status.idle": "2021-10-03T08:26:49.358373Z",
     "shell.execute_reply": "2021-10-03T08:26:49.358016Z"
    }
   },
   "outputs": [
    {
     "data": {
      "image/svg+xml": [
       "<?xml version=\"1.0\" encoding=\"UTF-8\" standalone=\"no\"?><svg xmlns=\"http://www.w3.org/2000/svg\" xmlns:xlink=\"http://www.w3.org/1999/xlink\" contentScriptType=\"application/ecmascript\" contentStyleType=\"text/css\" height=\"268px\" preserveAspectRatio=\"none\" style=\"width:877px;height:268px;\" version=\"1.1\" viewBox=\"0 0 877 268\" width=\"877px\" zoomAndPan=\"magnify\"><defs><filter height=\"300%\" id=\"f157gu95yuqrat\" width=\"300%\" x=\"-1\" y=\"-1\"><feGaussianBlur result=\"blurOut\" stdDeviation=\"2.0\"/><feColorMatrix in=\"blurOut\" result=\"blurOut2\" type=\"matrix\" values=\"0 0 0 0 0 0 0 0 0 0 0 0 0 0 0 0 0 0 .4 0\"/><feOffset dx=\"4.0\" dy=\"4.0\" in=\"blurOut2\" result=\"blurOut3\"/><feBlend in=\"SourceGraphic\" in2=\"blurOut3\" mode=\"normal\"/></filter></defs><g><!--MD5=[fbc87193dbaf4d95561dea2c320d4a47]\n",
       "cluster E1--><a href=\"psysml:7303dfcd-df1a-4034-bc74-eb93457ec7c0\" target=\"_top\" title=\"psysml:7303dfcd-df1a-4034-bc74-eb93457ec7c0\" xlink:actuate=\"onRequest\" xlink:href=\"psysml:7303dfcd-df1a-4034-bc74-eb93457ec7c0\" xlink:show=\"new\" xlink:title=\"psysml:7303dfcd-df1a-4034-bc74-eb93457ec7c0\" xlink:type=\"simple\"><polygon fill=\"#FFFFFF\" filter=\"url(#f157gu95yuqrat)\" points=\"16,6,128,6,135,28.2969,855,28.2969,855,256,16,256,16,6\" style=\"stroke: #000000; stroke-width: 1.5;\"/><line style=\"stroke: #000000; stroke-width: 1.5;\" x1=\"16\" x2=\"135\" y1=\"28.2969\" y2=\"28.2969\"/><text fill=\"#000000\" font-family=\"sans-serif\" font-size=\"14\" font-weight=\"bold\" lengthAdjust=\"spacingAndGlyphs\" textLength=\"106\" x=\"20\" y=\"20.9951\">VerificationTest</text></a><!--MD5=[b4997ac47864f28c2f74865a473b2911]\n",
       "class E2--><a href=\"psysml:ee2cd088-4b38-485a-bdcf-f034eebaa933\" target=\"_top\" title=\"psysml:ee2cd088-4b38-485a-bdcf-f034eebaa933\" xlink:actuate=\"onRequest\" xlink:href=\"psysml:ee2cd088-4b38-485a-bdcf-f034eebaa933\" xlink:show=\"new\" xlink:title=\"psysml:ee2cd088-4b38-485a-bdcf-f034eebaa933\" xlink:type=\"simple\"><rect fill=\"#FEFECE\" filter=\"url(#f157gu95yuqrat)\" height=\"40\" id=\"E2\" style=\"stroke: #A80036; stroke-width: 1.5;\" width=\"40\" x=\"432\" y=\"182\"/><ellipse cx=\"447\" cy=\"198\" fill=\"#008000\" rx=\"11\" ry=\"11\" style=\"stroke: #A80036; stroke-width: 1.0;\"/><path d=\"M443.875,203 L443.875,192.4063 L447.1094,192.4063 Q449.0156,192.4063 449.9219,193.1563 Q450.8438,193.9063 450.8438,195.0781 Q450.8438,195.7656 450.4531,196.4219 Q450.0781,197.0781 449.3594,197.375 Q450.2188,197.75 450.7344,198.4375 Q451.25,199.125 451.25,199.9375 Q451.25,201.3125 450.2188,202.1563 Q449.2031,203 447.0938,203 L443.875,203 Z M445.7969,196.6406 L446.9531,196.6406 Q448.0781,196.6406 448.4844,196.2656 Q448.9063,195.875 448.9063,195.25 Q448.9063,194.6719 448.4844,194.3125 Q448.0625,193.9531 447.125,193.9531 L445.7969,193.9531 L445.7969,196.6406 Z M445.7969,201.4219 L447.2969,201.4219 Q448.2031,201.4219 448.7344,201.0313 Q449.2656,200.6406 449.2656,199.8906 Q449.2656,199.125 448.7656,198.6563 Q448.2656,198.1719 447,198.1719 L445.7969,198.1719 L445.7969,201.4219 Z \"/><text fill=\"#000000\" font-family=\"sans-serif\" font-size=\"12\" lengthAdjust=\"spacingAndGlyphs\" textLength=\"8\" x=\"461\" y=\"202.1543\">V</text><line style=\"stroke: #A80036; stroke-width: 1.5;\" x1=\"433\" x2=\"471\" y1=\"214\" y2=\"214\"/></a><!--MD5=[09b614a08d8cba4a07c9adeb5e0fee81]\n",
       "class E3--><a href=\"psysml:ea23779d-7b91-41e0-a4d1-5f0745e774d2\" target=\"_top\" title=\"psysml:ea23779d-7b91-41e0-a4d1-5f0745e774d2\" xlink:actuate=\"onRequest\" xlink:href=\"psysml:ea23779d-7b91-41e0-a4d1-5f0745e774d2\" xlink:show=\"new\" xlink:title=\"psysml:ea23779d-7b91-41e0-a4d1-5f0745e774d2\" xlink:type=\"simple\"><rect fill=\"#FEFECE\" filter=\"url(#f157gu95yuqrat)\" height=\"45.9375\" id=\"E3\" rx=\"10\" ry=\"10\" style=\"stroke: #A80036; stroke-width: 1.5;\" width=\"68\" x=\"416\" y=\"41\"/><ellipse cx=\"431\" cy=\"59.9688\" fill=\"#32CD32\" rx=\"11\" ry=\"11\" style=\"stroke: #A80036; stroke-width: 1.0;\"/><path d=\"M427.8125,64.9688 L427.8125,54.375 L431.4219,54.375 Q432.6406,54.375 433.4375,54.8125 Q434.2344,55.2344 434.6094,55.9375 Q435,56.6406 435,57.4844 Q435,58.3281 434.625,59.0156 Q434.2656,59.7031 433.4688,60.125 Q432.6875,60.5313 431.5,60.5313 L429.7656,60.5313 L429.7656,64.9688 L427.8125,64.9688 Z M429.7656,58.9375 L431.375,58.9375 Q432.1875,58.9375 432.6094,58.5313 Q433.0313,58.125 433.0313,57.4844 Q433.0313,56.8594 432.6094,56.4531 Q432.1875,56.0469 431.3906,56.0469 L429.7656,56.0469 L429.7656,58.9375 Z \"/><text fill=\"#000000\" font-family=\"sans-serif\" font-size=\"12\" font-style=\"italic\" lengthAdjust=\"spacingAndGlyphs\" textLength=\"40\" x=\"443\" y=\"57.1387\">«part»</text><text fill=\"#000000\" font-family=\"sans-serif\" font-size=\"12\" lengthAdjust=\"spacingAndGlyphs\" textLength=\"28\" x=\"449\" y=\"71.1074\">vv: V</text><line style=\"stroke: #A80036; stroke-width: 1.5;\" x1=\"417\" x2=\"483\" y1=\"78.9375\" y2=\"78.9375\"/></a><!--MD5=[ebbe1d658d1005bcc118a6aa81145e00]\n",
       "class E4--><a href=\"psysml:971e85b9-9957-4674-90a7-be3bf98856c5\" target=\"_top\" title=\"psysml:971e85b9-9957-4674-90a7-be3bf98856c5\" xlink:actuate=\"onRequest\" xlink:href=\"psysml:971e85b9-9957-4674-90a7-be3bf98856c5\" xlink:show=\"new\" xlink:title=\"psysml:971e85b9-9957-4674-90a7-be3bf98856c5\" xlink:type=\"simple\"><rect fill=\"#FEFECE\" filter=\"url(#f157gu95yuqrat)\" height=\"66.7422\" id=\"E4\" style=\"stroke: #A80036; stroke-width: 1.5;\" width=\"143\" x=\"695.5\" y=\"168.5\"/><ellipse cx=\"710.5\" cy=\"187.4688\" fill=\"#A52A2A\" rx=\"11\" ry=\"11\" style=\"stroke: #A80036; stroke-width: 1.0;\"/><path d=\"M707.7188,192.4688 L707.7188,181.875 L710.4531,181.875 Q711.8438,181.875 712.6094,182.2656 Q713.3906,182.6406 713.9219,183.3438 Q714.4531,184.0469 714.75,185.0469 Q715.0469,186.0313 715.0469,187.25 Q715,188.8438 714.5,190.0313 Q714.0156,191.2031 712.9688,191.8438 Q711.9375,192.4688 710.25,192.4688 L707.7188,192.4688 Z M709.5781,190.9688 L710.2031,190.9688 Q711.2813,190.9688 711.9375,190.5156 Q712.5938,190.0625 712.875,189.2344 Q713.1719,188.3906 713.1563,187.2656 Q713.1563,186.0938 712.9063,185.2344 Q712.6563,184.3594 712.0469,183.8906 Q711.4375,183.4063 710.3906,183.4063 L709.5781,183.4063 L709.5781,190.9688 Z \"/><text fill=\"#000000\" font-family=\"sans-serif\" font-size=\"12\" font-style=\"italic\" lengthAdjust=\"spacingAndGlyphs\" textLength=\"115\" x=\"722.5\" y=\"184.6387\">«requirement def»</text><text fill=\"#000000\" font-family=\"sans-serif\" font-size=\"12\" lengthAdjust=\"spacingAndGlyphs\" textLength=\"8\" x=\"776\" y=\"198.6074\">R</text><line style=\"stroke: #A80036; stroke-width: 1.5;\" x1=\"696.5\" x2=\"837.5\" y1=\"206.4375\" y2=\"206.4375\"/><text fill=\"#000000\" font-family=\"sans-serif\" font-size=\"11\" lengthAdjust=\"spacingAndGlyphs\" textLength=\"12\" x=\"701.5\" y=\"220.6479\">...</text><line style=\"stroke: #A80036; stroke-width: 1.0;\" x1=\"696.5\" x2=\"837.5\" y1=\"227.2422\" y2=\"227.2422\"/></a><!--MD5=[270fce915f116d4de14055a7c1d9a0f3]\n",
       "class E5--><a href=\"psysml:bbcd2223-85a4-4701-a24f-5592c5712336\" target=\"_top\" title=\"psysml:bbcd2223-85a4-4701-a24f-5592c5712336\" xlink:actuate=\"onRequest\" xlink:href=\"psysml:bbcd2223-85a4-4701-a24f-5592c5712336\" xlink:show=\"new\" xlink:title=\"psysml:bbcd2223-85a4-4701-a24f-5592c5712336\" xlink:type=\"simple\"><rect fill=\"#FEFECE\" filter=\"url(#f157gu95yuqrat)\" height=\"45.9375\" id=\"E5\" rx=\"10\" ry=\"10\" style=\"stroke: #A80036; stroke-width: 1.5;\" width=\"119\" x=\"719.5\" y=\"41\"/><ellipse cx=\"734.5\" cy=\"59.9688\" fill=\"#FFA500\" rx=\"11\" ry=\"11\" style=\"stroke: #A80036; stroke-width: 1.0;\"/><path d=\"M734.25,65.4375 Q732.5,65.4375 731.5469,64.4063 Q730.6094,63.3594 730.6094,61.5156 L730.6094,54.625 L732.6719,54.625 L732.6719,54.7813 Q732.5781,54.875 732.5469,55.0156 Q732.5313,55.1406 732.5313,55.4063 L732.5313,61.5313 Q732.5313,62.625 732.9063,63.25 Q733.2813,63.875 734.2656,63.875 Q735.25,63.875 735.6406,63.25 Q736.0313,62.625 736.0313,61.4844 L736.0313,54.625 L737.9063,54.625 L737.9063,61.4688 Q737.9063,63.5 736.875,64.4688 Q735.8594,65.4375 734.25,65.4375 Z \"/><text fill=\"#000000\" font-family=\"sans-serif\" font-size=\"12\" font-style=\"italic\" lengthAdjust=\"spacingAndGlyphs\" textLength=\"91\" x=\"746.5\" y=\"57.1387\">«requirement»</text><text fill=\"#000000\" font-family=\"sans-serif\" font-size=\"12\" lengthAdjust=\"spacingAndGlyphs\" textLength=\"21\" x=\"781.5\" y=\"71.1074\">r: R</text><line style=\"stroke: #A80036; stroke-width: 1.5;\" x1=\"720.5\" x2=\"837.5\" y1=\"78.9375\" y2=\"78.9375\"/></a><!--MD5=[60a26617385b1d2d0262a64233df1f8d]\n",
       "class E6--><a href=\"psysml:f44943ce-87bd-4d2b-91db-f66bd879bf72\" target=\"_top\" title=\"psysml:f44943ce-87bd-4d2b-91db-f66bd879bf72\" xlink:actuate=\"onRequest\" xlink:href=\"psysml:f44943ce-87bd-4d2b-91db-f66bd879bf72\" xlink:show=\"new\" xlink:title=\"psysml:f44943ce-87bd-4d2b-91db-f66bd879bf72\" xlink:type=\"simple\"><rect fill=\"#FEFECE\" filter=\"url(#f157gu95yuqrat)\" height=\"45.9375\" id=\"E6\" style=\"stroke: #A80036; stroke-width: 1.5;\" width=\"165\" x=\"519.5\" y=\"41\"/><ellipse cx=\"534.5\" cy=\"59.9688\" fill=\"#FFFACD\" rx=\"11\" ry=\"11\" style=\"stroke: #A80036; stroke-width: 1.0;\"/><path d=\"M531.375,64.9688 L531.375,54.375 L534.6094,54.375 Q536.5156,54.375 537.4219,55.125 Q538.3438,55.875 538.3438,57.0469 Q538.3438,57.7344 537.9531,58.3906 Q537.5781,59.0469 536.8594,59.3438 Q537.7188,59.7188 538.2344,60.4063 Q538.75,61.0938 538.75,61.9063 Q538.75,63.2813 537.7188,64.125 Q536.7031,64.9688 534.5938,64.9688 L531.375,64.9688 Z M533.2969,58.6094 L534.4531,58.6094 Q535.5781,58.6094 535.9844,58.2344 Q536.4063,57.8438 536.4063,57.2188 Q536.4063,56.6406 535.9844,56.2813 Q535.5625,55.9219 534.625,55.9219 L533.2969,55.9219 L533.2969,58.6094 Z M533.2969,63.3906 L534.7969,63.3906 Q535.7031,63.3906 536.2344,63 Q536.7656,62.6094 536.7656,61.8594 Q536.7656,61.0938 536.2656,60.625 Q535.7656,60.1406 534.5,60.1406 L533.2969,60.1406 L533.2969,63.3906 Z \"/><text fill=\"#000000\" font-family=\"sans-serif\" font-size=\"12\" font-style=\"italic\" lengthAdjust=\"spacingAndGlyphs\" textLength=\"137\" x=\"546.5\" y=\"57.1387\">«verificationCase def»</text><text fill=\"#000000\" font-family=\"sans-serif\" font-size=\"12\" lengthAdjust=\"spacingAndGlyphs\" textLength=\"101\" x=\"564.5\" y=\"71.1074\">VerificationCase</text><line style=\"stroke: #A80036; stroke-width: 1.5;\" x1=\"520.5\" x2=\"683.5\" y1=\"78.9375\" y2=\"78.9375\"/></a><!--MD5=[2156ba9850f5573cc1fc38a6a4b2f02b]\n",
       "class E7--><a href=\"psysml:c1b61795-7b30-4440-a267-41d24baf94c2\" target=\"_top\" title=\"psysml:c1b61795-7b30-4440-a267-41d24baf94c2\" xlink:actuate=\"onRequest\" xlink:href=\"psysml:c1b61795-7b30-4440-a267-41d24baf94c2\" xlink:show=\"new\" xlink:title=\"psysml:c1b61795-7b30-4440-a267-41d24baf94c2\" xlink:type=\"simple\"><rect fill=\"#FEFECE\" filter=\"url(#f157gu95yuqrat)\" height=\"75.5469\" id=\"E7\" rx=\"10\" ry=\"10\" style=\"stroke: #A80036; stroke-width: 1.5;\" width=\"119\" x=\"541.5\" y=\"164\"/><ellipse cx=\"556.5\" cy=\"182.9688\" fill=\"#FFA500\" rx=\"11\" ry=\"11\" style=\"stroke: #A80036; stroke-width: 1.0;\"/><path d=\"M556.25,188.4375 Q554.5,188.4375 553.5469,187.4063 Q552.6094,186.3594 552.6094,184.5156 L552.6094,177.625 L554.6719,177.625 L554.6719,177.7813 Q554.5781,177.875 554.5469,178.0156 Q554.5313,178.1406 554.5313,178.4063 L554.5313,184.5313 Q554.5313,185.625 554.9063,186.25 Q555.2813,186.875 556.2656,186.875 Q557.25,186.875 557.6406,186.25 Q558.0313,185.625 558.0313,184.4844 L558.0313,177.625 L559.9063,177.625 L559.9063,184.4688 Q559.9063,186.5 558.875,187.4688 Q557.8594,188.4375 556.25,188.4375 Z \"/><text fill=\"#000000\" font-family=\"sans-serif\" font-size=\"12\" font-style=\"italic\" lengthAdjust=\"spacingAndGlyphs\" textLength=\"91\" x=\"568.5\" y=\"180.1387\">«requirement»</text><text fill=\"#000000\" font-family=\"sans-serif\" font-size=\"12\" lengthAdjust=\"spacingAndGlyphs\" textLength=\"19\" x=\"604.5\" y=\"194.1074\">obj</text><line style=\"stroke: #A80036; stroke-width: 1.5;\" x1=\"542.5\" x2=\"659.5\" y1=\"201.9375\" y2=\"201.9375\"/><text fill=\"#000000\" font-family=\"sans-serif\" font-size=\"11\" font-weight=\"bold\" lengthAdjust=\"spacingAndGlyphs\" textLength=\"41\" x=\"547.5\" y=\"232.9526\">require</text><text fill=\"#000000\" font-family=\"sans-serif\" font-size=\"11\" lengthAdjust=\"spacingAndGlyphs\" textLength=\"15\" x=\"592.5\" y=\"232.9526\">: R</text><line style=\"stroke: #A80036; stroke-width: 1.0;\" x1=\"542.5\" x2=\"562.5\" y1=\"216.3398\" y2=\"216.3398\"/><text fill=\"#000000\" font-family=\"sans-serif\" font-size=\"11\" lengthAdjust=\"spacingAndGlyphs\" textLength=\"77\" x=\"562.5\" y=\"219.6479\">requirements</text><line style=\"stroke: #A80036; stroke-width: 1.0;\" x1=\"639.5\" x2=\"659.5\" y1=\"216.3398\" y2=\"216.3398\"/></a><!--MD5=[fd4143e9d270a159db93a4ea2a975926]\n",
       "class E9--><a href=\"psysml:109e665d-9569-4e28-8454-db86a3b7365b\" target=\"_top\" title=\"psysml:109e665d-9569-4e28-8454-db86a3b7365b\" xlink:actuate=\"onRequest\" xlink:href=\"psysml:109e665d-9569-4e28-8454-db86a3b7365b\" xlink:show=\"new\" xlink:title=\"psysml:109e665d-9569-4e28-8454-db86a3b7365b\" xlink:type=\"simple\"><rect fill=\"#FEFECE\" filter=\"url(#f157gu95yuqrat)\" height=\"45.9375\" id=\"E9\" style=\"stroke: #A80036; stroke-width: 1.5;\" width=\"165\" x=\"215.5\" y=\"41\"/><ellipse cx=\"230.5\" cy=\"59.9688\" fill=\"#FFFACD\" rx=\"11\" ry=\"11\" style=\"stroke: #A80036; stroke-width: 1.0;\"/><path d=\"M227.375,64.9688 L227.375,54.375 L230.6094,54.375 Q232.5156,54.375 233.4219,55.125 Q234.3438,55.875 234.3438,57.0469 Q234.3438,57.7344 233.9531,58.3906 Q233.5781,59.0469 232.8594,59.3438 Q233.7188,59.7188 234.2344,60.4063 Q234.75,61.0938 234.75,61.9063 Q234.75,63.2813 233.7188,64.125 Q232.7031,64.9688 230.5938,64.9688 L227.375,64.9688 Z M229.2969,58.6094 L230.4531,58.6094 Q231.5781,58.6094 231.9844,58.2344 Q232.4063,57.8438 232.4063,57.2188 Q232.4063,56.6406 231.9844,56.2813 Q231.5625,55.9219 230.625,55.9219 L229.2969,55.9219 L229.2969,58.6094 Z M229.2969,63.3906 L230.7969,63.3906 Q231.7031,63.3906 232.2344,63 Q232.7656,62.6094 232.7656,61.8594 Q232.7656,61.0938 232.2656,60.625 Q231.7656,60.1406 230.5,60.1406 L229.2969,60.1406 L229.2969,63.3906 Z \"/><text fill=\"#000000\" font-family=\"sans-serif\" font-size=\"12\" font-style=\"italic\" lengthAdjust=\"spacingAndGlyphs\" textLength=\"137\" x=\"242.5\" y=\"57.1387\">«verificationCase def»</text><text fill=\"#000000\" font-family=\"sans-serif\" font-size=\"12\" lengthAdjust=\"spacingAndGlyphs\" textLength=\"97\" x=\"262.5\" y=\"71.1074\">VerificationPlan</text><line style=\"stroke: #A80036; stroke-width: 1.5;\" x1=\"216.5\" x2=\"379.5\" y1=\"78.9375\" y2=\"78.9375\"/></a><!--MD5=[96f4274e9e20536e775497830990834d]\n",
       "class E10--><a href=\"psysml:7031c3a4-5568-406f-9713-a580e51688a6\" target=\"_top\" title=\"psysml:7031c3a4-5568-406f-9713-a580e51688a6\" xlink:actuate=\"onRequest\" xlink:href=\"psysml:7031c3a4-5568-406f-9713-a580e51688a6\" xlink:show=\"new\" xlink:title=\"psysml:7031c3a4-5568-406f-9713-a580e51688a6\" xlink:type=\"simple\"><rect fill=\"#FEFECE\" filter=\"url(#f157gu95yuqrat)\" height=\"75.5469\" id=\"E10\" rx=\"10\" ry=\"10\" style=\"stroke: #A80036; stroke-width: 1.5;\" width=\"119\" x=\"207.5\" y=\"164\"/><ellipse cx=\"222.5\" cy=\"182.9688\" fill=\"#FFA500\" rx=\"11\" ry=\"11\" style=\"stroke: #A80036; stroke-width: 1.0;\"/><path d=\"M222.25,188.4375 Q220.5,188.4375 219.5469,187.4063 Q218.6094,186.3594 218.6094,184.5156 L218.6094,177.625 L220.6719,177.625 L220.6719,177.7813 Q220.5781,177.875 220.5469,178.0156 Q220.5313,178.1406 220.5313,178.4063 L220.5313,184.5313 Q220.5313,185.625 220.9063,186.25 Q221.2813,186.875 222.2656,186.875 Q223.25,186.875 223.6406,186.25 Q224.0313,185.625 224.0313,184.4844 L224.0313,177.625 L225.9063,177.625 L225.9063,184.4688 Q225.9063,186.5 224.875,187.4688 Q223.8594,188.4375 222.25,188.4375 Z \"/><text fill=\"#000000\" font-family=\"sans-serif\" font-size=\"12\" font-style=\"italic\" lengthAdjust=\"spacingAndGlyphs\" textLength=\"91\" x=\"234.5\" y=\"180.1387\">«requirement»</text><text fill=\"#000000\" font-family=\"sans-serif\" font-size=\"12\" lengthAdjust=\"spacingAndGlyphs\" textLength=\"19\" x=\"270.5\" y=\"194.1074\">obj</text><line style=\"stroke: #A80036; stroke-width: 1.5;\" x1=\"208.5\" x2=\"325.5\" y1=\"201.9375\" y2=\"201.9375\"/><text fill=\"#000000\" font-family=\"sans-serif\" font-size=\"11\" font-weight=\"bold\" lengthAdjust=\"spacingAndGlyphs\" textLength=\"41\" x=\"213.5\" y=\"232.9526\">require</text><text fill=\"#000000\" font-family=\"sans-serif\" font-size=\"11\" lengthAdjust=\"spacingAndGlyphs\" textLength=\"5\" x=\"258.5\" y=\"232.9526\">r</text><line style=\"stroke: #A80036; stroke-width: 1.0;\" x1=\"208.5\" x2=\"228.5\" y1=\"216.3398\" y2=\"216.3398\"/><text fill=\"#000000\" font-family=\"sans-serif\" font-size=\"11\" lengthAdjust=\"spacingAndGlyphs\" textLength=\"77\" x=\"228.5\" y=\"219.6479\">requirements</text><line style=\"stroke: #A80036; stroke-width: 1.0;\" x1=\"305.5\" x2=\"325.5\" y1=\"216.3398\" y2=\"216.3398\"/></a><!--MD5=[49a0ec8f00dab7302a31f22d0f0fe584]\n",
       "class E12--><a href=\"psysml:1ba0f1fa-2142-46f9-b759-d2e88bd368a2\" target=\"_top\" title=\"psysml:1ba0f1fa-2142-46f9-b759-d2e88bd368a2\" xlink:actuate=\"onRequest\" xlink:href=\"psysml:1ba0f1fa-2142-46f9-b759-d2e88bd368a2\" xlink:show=\"new\" xlink:title=\"psysml:1ba0f1fa-2142-46f9-b759-d2e88bd368a2\" xlink:type=\"simple\"><rect fill=\"#FEFECE\" filter=\"url(#f157gu95yuqrat)\" height=\"45.9375\" id=\"E12\" rx=\"10\" ry=\"10\" style=\"stroke: #A80036; stroke-width: 1.5;\" width=\"148\" x=\"32\" y=\"41\"/><ellipse cx=\"47\" cy=\"59.9688\" fill=\"#32CD32\" rx=\"11\" ry=\"11\" style=\"stroke: #A80036; stroke-width: 1.0;\"/><path d=\"M43.8125,64.9688 L43.8125,54.375 L47.4219,54.375 Q48.6406,54.375 49.4375,54.8125 Q50.2344,55.2344 50.6094,55.9375 Q51,56.6406 51,57.4844 Q51,58.3281 50.625,59.0156 Q50.2656,59.7031 49.4688,60.125 Q48.6875,60.5313 47.5,60.5313 L45.7656,60.5313 L45.7656,64.9688 L43.8125,64.9688 Z M45.7656,58.9375 L47.375,58.9375 Q48.1875,58.9375 48.6094,58.5313 Q49.0313,58.125 49.0313,57.4844 Q49.0313,56.8594 48.6094,56.4531 Q48.1875,56.0469 47.3906,56.0469 L45.7656,56.0469 L45.7656,58.9375 Z \"/><text fill=\"#000000\" font-family=\"sans-serif\" font-size=\"12\" font-style=\"italic\" lengthAdjust=\"spacingAndGlyphs\" textLength=\"40\" x=\"99\" y=\"57.1387\">«part»</text><text fill=\"#000000\" font-family=\"sans-serif\" font-size=\"12\" lengthAdjust=\"spacingAndGlyphs\" textLength=\"116\" x=\"61\" y=\"71.1074\">verificationContext</text><line style=\"stroke: #A80036; stroke-width: 1.5;\" x1=\"33\" x2=\"179\" y1=\"78.9375\" y2=\"78.9375\"/></a><!--MD5=[05d275557350bfb9b23a4ef7222b4c39]\n",
       "link E3 to E2--><a href=\"psysml:2b222a15-a90b-432a-993d-d339516ea993\" target=\"_top\" title=\"psysml:2b222a15-a90b-432a-993d-d339516ea993\" xlink:actuate=\"onRequest\" xlink:href=\"psysml:2b222a15-a90b-432a-993d-d339516ea993\" xlink:show=\"new\" xlink:title=\"psysml:2b222a15-a90b-432a-993d-d339516ea993\" xlink:type=\"simple\"><path d=\"M450.33,87.15 C450.62,107.32 451.07,137.57 451.42,161.81 \" fill=\"none\" id=\"E3-&gt;E2\" style=\"stroke: #A80036; stroke-width: 1.0;\"/><polygon fill=\"#FFFFFF\" points=\"451.72,181.93,444.4356,163.0372,458.434,162.8271,451.72,181.93\" style=\"stroke: #A80036; stroke-width: 1.0;\"/><ellipse cx=\"446.3498\" cy=\"157.3078\" fill=\"#A80036\" rx=\"2\" ry=\"2\" style=\"stroke: #A80036; stroke-width: 1.0;\"/><ellipse cx=\"456.3487\" cy=\"157.1577\" fill=\"#A80036\" rx=\"2\" ry=\"2\" style=\"stroke: #A80036; stroke-width: 1.0;\"/></a><!--MD5=[1c62de2aa5b76f0fb657ff8443a1a700]\n",
       "link E5 to E4--><a href=\"psysml:4afeeb28-a204-4e17-a080-31f9a6d380ec\" target=\"_top\" title=\"psysml:4afeeb28-a204-4e17-a080-31f9a6d380ec\" xlink:actuate=\"onRequest\" xlink:href=\"psysml:4afeeb28-a204-4e17-a080-31f9a6d380ec\" xlink:show=\"new\" xlink:title=\"psysml:4afeeb28-a204-4e17-a080-31f9a6d380ec\" xlink:type=\"simple\"><path d=\"M777.05,87.15 C775.59,103.69 773.53,127.01 771.66,148.23 \" fill=\"none\" id=\"E5-&gt;E4\" style=\"stroke: #A80036; stroke-width: 1.0;\"/><polygon fill=\"#FFFFFF\" points=\"769.87,168.44,764.5671,148.8983,778.5129,150.1288,769.87,168.44\" style=\"stroke: #A80036; stroke-width: 1.0;\"/><ellipse cx=\"767.0603\" cy=\"143.3961\" fill=\"#A80036\" rx=\"2\" ry=\"2\" style=\"stroke: #A80036; stroke-width: 1.0;\"/><ellipse cx=\"777.0216\" cy=\"144.2751\" fill=\"#A80036\" rx=\"2\" ry=\"2\" style=\"stroke: #A80036; stroke-width: 1.0;\"/></a><!--MD5=[2351f337d6de0f557b50152ba70847b5]\n",
       "link E6 to E2--><a href=\"psysml:0a65a73b-aad1-46f6-97e3-b503c188383c\" target=\"_top\" title=\"psysml:0a65a73b-aad1-46f6-97e3-b503c188383c\" xlink:actuate=\"onRequest\" xlink:href=\"psysml:0a65a73b-aad1-46f6-97e3-b503c188383c\" xlink:show=\"new\" xlink:title=\"psysml:0a65a73b-aad1-46f6-97e3-b503c188383c\" xlink:type=\"simple\"><path d=\"M567.81,87.15 C555.17,95.89 541.01,106.39 529,117 C507.5,136 485.65,160.43 470.74,178.04 \" fill=\"none\" id=\"E6-&gt;E2\" style=\"stroke: #A80036; stroke-width: 1.0; stroke-dasharray: 7.0,7.0;\"/><polygon fill=\"#A80036\" points=\"467.48,181.92,476.3304,177.5991,470.695,178.0906,470.2034,172.4552,467.48,181.92\" style=\"stroke: #A80036; stroke-width: 1.0;\"/><text fill=\"#000000\" font-family=\"sans-serif\" font-size=\"13\" lengthAdjust=\"spacingAndGlyphs\" textLength=\"62\" x=\"530\" y=\"130.0669\">«subject»</text></a><!--MD5=[02c70b7c851c11e3980e4e90450dc5dd]\n",
       "link E6 to E7--><a href=\"psysml:ca392d64-6b44-4e33-bff2-bf36fcd3e380\" target=\"_top\" title=\"psysml:ca392d64-6b44-4e33-bff2-bf36fcd3e380\" xlink:actuate=\"onRequest\" xlink:href=\"psysml:ca392d64-6b44-4e33-bff2-bf36fcd3e380\" xlink:show=\"new\" xlink:title=\"psysml:ca392d64-6b44-4e33-bff2-bf36fcd3e380\" xlink:type=\"simple\"><path d=\"M601.84,87.15 C601.7,105.66 601.5,132.63 601.33,155.68 \" fill=\"none\" id=\"E6-&gt;E7\" style=\"stroke: #A80036; stroke-width: 1.0;\"/><polygon fill=\"#A80036\" points=\"601.27,163.97,604.3413,155.9971,598.3415,155.9435,601.27,163.97\" style=\"stroke: #A80036; stroke-width: 1.0;\"/><text fill=\"#000000\" font-family=\"sans-serif\" font-size=\"13\" lengthAdjust=\"spacingAndGlyphs\" textLength=\"73\" x=\"602\" y=\"130.0669\">«objective»</text><text fill=\"#000000\" font-family=\"sans-serif\" font-size=\"13\" lengthAdjust=\"spacingAndGlyphs\" textLength=\"7\" x=\"593.6947\" y=\"152.979\">*</text></a><!--MD5=[5c3bb36fe832a92c7f0e1807dd65209d]\n",
       "link E9 to E2--><a href=\"psysml:e35a8663-5a9e-49b1-9953-8d2b3225b6ac\" target=\"_top\" title=\"psysml:e35a8663-5a9e-49b1-9953-8d2b3225b6ac\" xlink:actuate=\"onRequest\" xlink:href=\"psysml:e35a8663-5a9e-49b1-9953-8d2b3225b6ac\" xlink:show=\"new\" xlink:title=\"psysml:e35a8663-5a9e-49b1-9953-8d2b3225b6ac\" xlink:type=\"simple\"><path d=\"M323.09,87.15 C352.01,112.69 399.21,154.38 427.77,179.6 \" fill=\"none\" id=\"E9-&gt;E2\" style=\"stroke: #A80036; stroke-width: 1.0; stroke-dasharray: 7.0,7.0;\"/><polygon fill=\"#A80036\" points=\"431.84,183.2,427.7368,174.2466,428.0904,179.8924,422.4446,180.2459,431.84,183.2\" style=\"stroke: #A80036; stroke-width: 1.0;\"/><text fill=\"#000000\" font-family=\"sans-serif\" font-size=\"13\" lengthAdjust=\"spacingAndGlyphs\" textLength=\"62\" x=\"376\" y=\"130.0669\">«subject»</text></a><!--MD5=[35e5f1cbde42fa304a029880aa2bc7f2]\n",
       "link E9 to E10--><a href=\"psysml:a2e94b2d-09ed-4b49-b784-abde9df75390\" target=\"_top\" title=\"psysml:a2e94b2d-09ed-4b49-b784-abde9df75390\" xlink:actuate=\"onRequest\" xlink:href=\"psysml:a2e94b2d-09ed-4b49-b784-abde9df75390\" xlink:show=\"new\" xlink:title=\"psysml:a2e94b2d-09ed-4b49-b784-abde9df75390\" xlink:type=\"simple\"><path d=\"M279.48,87.11 C273.3,95.86 267.17,106.35 264,117 C260.34,129.28 259.55,143.01 260.08,155.76 \" fill=\"none\" id=\"E9-&gt;E10\" style=\"stroke: #A80036; stroke-width: 1.0;\"/><polygon fill=\"#A80036\" points=\"260.6,163.96,263.0797,155.7837,257.0921,156.1693,260.6,163.96\" style=\"stroke: #A80036; stroke-width: 1.0;\"/><text fill=\"#000000\" font-family=\"sans-serif\" font-size=\"13\" lengthAdjust=\"spacingAndGlyphs\" textLength=\"73\" x=\"265\" y=\"130.0669\">«objective»</text><text fill=\"#000000\" font-family=\"sans-serif\" font-size=\"13\" lengthAdjust=\"spacingAndGlyphs\" textLength=\"7\" x=\"251.8366\" y=\"152.9673\">*</text></a><!--MD5=[c3d7c93213c237cb32e2089d14ed96ae]\n",
       "@startuml\r\n",
       " \r\n",
       "package \"VerificationTest\" as E1  [[psysml:7303dfcd-df1a-4034-bc74-eb93457ec7c0 ]]  {\r\n",
       "comp def \"V\" as E2 << << (B,green) >> [[psysml:ee2cd088-4b38-485a-bdcf-f034eebaa933 ]] {\r\n",
       "}\r\n",
       "comp usage \"vv: V\" as E3 << << (P,limegreen) part>> [[psysml:ea23779d-7b91-41e0-a4d1-5f0745e774d2 ]] {\r\n",
       "}\r\n",
       "comp def \"R\" as E4 << <<(D,brown) requirement def>> [[psysml:971e85b9-9957-4674-90a7-be3bf98856c5 ]] {\r\n",
       "...\r\n",
       "- -\r\n",
       "}\r\n",
       "comp usage \"r: R\" as E5 << <<(U,orange) requirement>> [[psysml:bbcd2223-85a4-4701-a24f-5592c5712336 ]] {\r\n",
       "}\r\n",
       "comp def \"VerificationCase\" as E6 << <<(B,lemonchiffon) verificationCase def>> [[psysml:f44943ce-87bd-4d2b-91db-f66bd879bf72 ]] {\r\n",
       "}\r\n",
       "comp usage \"obj\" as E7 << <<(U,orange) requirement>> [[psysml:c1b61795-7b30-4440-a267-41d24baf94c2 ]] {\r\n",
       "- - requirements - -\r\n",
       "<b>require</b> : R\r\n",
       "}\r\n",
       "comp def \"VerificationPlan\" as E9 << <<(B,lemonchiffon) verificationCase def>> [[psysml:109e665d-9569-4e28-8454-db86a3b7365b ]] {\r\n",
       "}\r\n",
       "comp usage \"obj\" as E10 << <<(U,orange) requirement>> [[psysml:7031c3a4-5568-406f-9713-a580e51688a6 ]] {\r\n",
       "- - requirements - -\r\n",
       "<b>require</b> r\r\n",
       "}\r\n",
       "comp usage \"verificationContext\" as E12 << << (P,limegreen) part>> [[psysml:1ba0f1fa-2142-46f9-b759-d2e88bd368a2 ]] {\r\n",
       "}\r\n",
       "}\r\n",
       "E3 - -:|> E2 [[psysml:2b222a15-a90b-432a-993d-d339516ea993 ]] \r\n",
       "E5 - -:|> E4 [[psysml:4afeeb28-a204-4e17-a080-31f9a6d380ec ]] \r\n",
       "E6 ..> E2 [[psysml:0a65a73b-aad1-46f6-97e3-b503c188383c ]] : <<subject>>\r\n",
       "E6 - ->> \"*\"E7 [[psysml:ca392d64-6b44-4e33-bff2-bf36fcd3e380 ]] : <<objective>>\r\n",
       "E9 ..> E2 [[psysml:e35a8663-5a9e-49b1-9953-8d2b3225b6ac ]] : <<subject>>\r\n",
       "E9 - ->> \"*\"E10 [[psysml:a2e94b2d-09ed-4b49-b784-abde9df75390 ]] : <<objective>>\r\n",
       "@enduml\r\n",
       "\n",
       "PlantUML version 1.2020.13(Sat Jun 13 12:26:38 UTC 2020)\n",
       "(EPL source distribution)\n",
       "Java Runtime: OpenJDK Runtime Environment\n",
       "JVM: OpenJDK 64-Bit Server VM\n",
       "Default Encoding: UTF-8\n",
       "Language: en\n",
       "Country: null\n",
       "--></g></svg>"
      ]
     },
     "execution_count": 31,
     "metadata": {},
     "output_type": "execute_result"
    }
   ],
   "source": [
    "%viz --style=\"PLANTUML\" --view=\"Tree\" \"VerificationTest\""
   ]
  },
  {
   "cell_type": "code",
   "execution_count": 32,
   "id": "5cb604db",
   "metadata": {
    "execution": {
     "iopub.execute_input": "2021-10-03T08:26:49.407542Z",
     "iopub.status.busy": "2021-10-03T08:26:49.407140Z",
     "iopub.status.idle": "2021-10-03T08:26:49.490039Z",
     "shell.execute_reply": "2021-10-03T08:26:49.488448Z"
    }
   },
   "outputs": [
    {
     "data": {
      "image/svg+xml": [
       "<?xml version=\"1.0\" encoding=\"UTF-8\" standalone=\"no\"?><svg xmlns=\"http://www.w3.org/2000/svg\" xmlns:xlink=\"http://www.w3.org/1999/xlink\" contentScriptType=\"application/ecmascript\" contentStyleType=\"text/css\" height=\"300px\" preserveAspectRatio=\"none\" style=\"width:603px;height:300px;background:#000000;\" version=\"1.1\" viewBox=\"0 0 603 300\" width=\"603px\" zoomAndPan=\"magnify\"><defs/><g><rect fill=\"#02160D\" height=\"1\" style=\"stroke: #02160D; stroke-width: 1.0;\" width=\"1\" x=\"0\" y=\"0\"/><rect fill=\"#FFFFFF\" height=\"202.8012\" style=\"stroke: #FFFFFF; stroke-width: 1.0;\" width=\"602\" x=\"0\" y=\"0\"/><text fill=\"#000000\" font-family=\"sans-serif\" font-size=\"12\" font-weight=\"bold\" lengthAdjust=\"spacingAndGlyphs\" textLength=\"139\" x=\"5\" y=\"16.1387\">Welcome to PlantUML!</text><text fill=\"#000000\" font-family=\"sans-serif\" font-size=\"12\" lengthAdjust=\"spacingAndGlyphs\" textLength=\"0\" x=\"9\" y=\"30.1074\"/><text fill=\"#000000\" font-family=\"sans-serif\" font-size=\"12\" lengthAdjust=\"spacingAndGlyphs\" textLength=\"293\" x=\"5\" y=\"44.0762\">If you use this software, you accept its license.</text><text fill=\"#000000\" font-family=\"sans-serif\" font-size=\"12\" lengthAdjust=\"spacingAndGlyphs\" textLength=\"107\" x=\"5\" y=\"58.0449\">(details by typing</text><text fill=\"#000000\" font-family=\"monospace\" font-size=\"12\" lengthAdjust=\"spacingAndGlyphs\" textLength=\"42\" x=\"116\" y=\"58.595\">license</text><text fill=\"#000000\" font-family=\"sans-serif\" font-size=\"12\" lengthAdjust=\"spacingAndGlyphs\" textLength=\"56\" x=\"162\" y=\"58.0449\">keyword)</text><text fill=\"#000000\" font-family=\"sans-serif\" font-size=\"12\" lengthAdjust=\"spacingAndGlyphs\" textLength=\"0\" x=\"9\" y=\"72.0137\"/><text fill=\"#000000\" font-family=\"sans-serif\" font-size=\"12\" lengthAdjust=\"spacingAndGlyphs\" textLength=\"283\" x=\"5\" y=\"85.9824\">You can start with a simple UML Diagram like:</text><text fill=\"#000000\" font-family=\"sans-serif\" font-size=\"12\" lengthAdjust=\"spacingAndGlyphs\" textLength=\"0\" x=\"9\" y=\"99.9512\"/><text fill=\"#000000\" font-family=\"monospace\" font-size=\"12\" lengthAdjust=\"spacingAndGlyphs\" textLength=\"102\" x=\"5\" y=\"113.0893\">Bob-&gt;Alice: Hello</text><text fill=\"#000000\" font-family=\"sans-serif\" font-size=\"12\" lengthAdjust=\"spacingAndGlyphs\" textLength=\"0\" x=\"9\" y=\"126.508\"/><text fill=\"#000000\" font-family=\"sans-serif\" font-size=\"12\" lengthAdjust=\"spacingAndGlyphs\" textLength=\"14\" x=\"5\" y=\"140.4768\">Or</text><text fill=\"#000000\" font-family=\"sans-serif\" font-size=\"12\" lengthAdjust=\"spacingAndGlyphs\" textLength=\"0\" x=\"9\" y=\"154.4455\"/><text fill=\"#000000\" font-family=\"monospace\" font-size=\"12\" lengthAdjust=\"spacingAndGlyphs\" textLength=\"78\" x=\"5\" y=\"167.5837\">class Example</text><text fill=\"#000000\" font-family=\"sans-serif\" font-size=\"12\" lengthAdjust=\"spacingAndGlyphs\" textLength=\"0\" x=\"9\" y=\"181.0023\"/><text fill=\"#000000\" font-family=\"sans-serif\" font-size=\"12\" lengthAdjust=\"spacingAndGlyphs\" textLength=\"349\" x=\"5\" y=\"194.9711\">You will find more information about PlantUML syntax on</text><text fill=\"#000000\" font-family=\"sans-serif\" font-size=\"12\" lengthAdjust=\"spacingAndGlyphs\" text-decoration=\"underline\" textLength=\"129\" x=\"358\" y=\"194.9711\">https://plantuml.com</text><image height=\"71\" width=\"80\" x=\"516\" xlink:href=\"data:image/png;base64,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\" y=\"6\"/><rect fill=\"#000000\" height=\"96.4844\" style=\"stroke: #000000; stroke-width: 1.0;\" width=\"602\" x=\"0\" y=\"202.8012\"/><rect fill=\"#33FF02\" height=\"21.2969\" style=\"stroke: #33FF02; stroke-width: 1.0;\" width=\"145\" x=\"5\" y=\"207.8012\"/><text fill=\"#000000\" font-family=\"sans-serif\" font-size=\"14\" font-weight=\"bold\" lengthAdjust=\"spacingAndGlyphs\" textLength=\"143\" x=\"6\" y=\"222.8012\">[From string (line 2) ]</text><text fill=\"#33FF02\" font-family=\"sans-serif\" font-size=\"14\" font-weight=\"bold\" lengthAdjust=\"spacingAndGlyphs\" textLength=\"0\" x=\"9\" y=\"243.0981\"/><text fill=\"#33FF02\" font-family=\"sans-serif\" font-size=\"14\" font-weight=\"bold\" lengthAdjust=\"spacingAndGlyphs\" textLength=\"70\" x=\"5\" y=\"259.3949\">@startuml</text><text fill=\"#33FF02\" font-family=\"sans-serif\" font-size=\"14\" font-weight=\"bold\" lengthAdjust=\"spacingAndGlyphs\" textLength=\"0\" x=\"9\" y=\"275.6918\"/><text fill=\"#FF0000\" font-family=\"sans-serif\" font-size=\"14\" font-weight=\"bold\" lengthAdjust=\"spacingAndGlyphs\" textLength=\"124\" x=\"9\" y=\"291.9887\">Empty description</text><!--MD5=[f59edd8218d337f74d0c332fc6737304]\n",
       "@startuml\r\n",
       " \r\n",
       "@enduml\r\n",
       "\n",
       "PlantUML version 1.2020.13(Sat Jun 13 12:26:38 UTC 2020)\n",
       "(EPL source distribution)\n",
       "Java Runtime: OpenJDK Runtime Environment\n",
       "JVM: OpenJDK 64-Bit Server VM\n",
       "Default Encoding: UTF-8\n",
       "Language: en\n",
       "Country: null\n",
       "--></g></svg>"
      ]
     },
     "execution_count": 32,
     "metadata": {},
     "output_type": "execute_result"
    }
   ],
   "source": [
    "%viz --style=\"PLANTUML\" --view=\"State\" \"VerificationTest\""
   ]
  },
  {
   "cell_type": "code",
   "execution_count": 33,
   "id": "5c3b1ca8",
   "metadata": {
    "execution": {
     "iopub.execute_input": "2021-10-03T08:26:49.539297Z",
     "iopub.status.busy": "2021-10-03T08:26:49.538903Z",
     "iopub.status.idle": "2021-10-03T08:26:49.591518Z",
     "shell.execute_reply": "2021-10-03T08:26:49.589649Z"
    }
   },
   "outputs": [
    {
     "data": {
      "image/svg+xml": [
       "<?xml version=\"1.0\" encoding=\"UTF-8\" standalone=\"no\"?><svg xmlns=\"http://www.w3.org/2000/svg\" xmlns:xlink=\"http://www.w3.org/1999/xlink\" contentScriptType=\"application/ecmascript\" contentStyleType=\"text/css\" height=\"436px\" preserveAspectRatio=\"none\" style=\"width:1325px;height:436px;\" version=\"1.1\" viewBox=\"0 0 1325 436\" width=\"1325px\" zoomAndPan=\"magnify\"><defs><filter height=\"300%\" id=\"f7qm6l4e3yg9b\" width=\"300%\" x=\"-1\" y=\"-1\"><feGaussianBlur result=\"blurOut\" stdDeviation=\"2.0\"/><feColorMatrix in=\"blurOut\" result=\"blurOut2\" type=\"matrix\" values=\"0 0 0 0 0 0 0 0 0 0 0 0 0 0 0 0 0 0 .4 0\"/><feOffset dx=\"4.0\" dy=\"4.0\" in=\"blurOut2\" result=\"blurOut3\"/><feBlend in=\"SourceGraphic\" in2=\"blurOut3\" mode=\"normal\"/></filter></defs><g><!--MD5=[fbc87193dbaf4d95561dea2c320d4a47]\n",
       "cluster E1--><a href=\"psysml:7303dfcd-df1a-4034-bc74-eb93457ec7c0\" target=\"_top\" title=\"psysml:7303dfcd-df1a-4034-bc74-eb93457ec7c0\" xlink:actuate=\"onRequest\" xlink:href=\"psysml:7303dfcd-df1a-4034-bc74-eb93457ec7c0\" xlink:show=\"new\" xlink:title=\"psysml:7303dfcd-df1a-4034-bc74-eb93457ec7c0\" xlink:type=\"simple\"><polygon fill=\"#FFFFFF\" filter=\"url(#f7qm6l4e3yg9b)\" points=\"16,6,128,6,135,28.2969,1303,28.2969,1303,424.36,16,424.36,16,6\" style=\"stroke: #000000; stroke-width: 1.5;\"/><line style=\"stroke: #000000; stroke-width: 1.5;\" x1=\"16\" x2=\"135\" y1=\"28.2969\" y2=\"28.2969\"/><text fill=\"#000000\" font-family=\"sans-serif\" font-size=\"14\" font-weight=\"bold\" lengthAdjust=\"spacingAndGlyphs\" textLength=\"106\" x=\"20\" y=\"20.9951\">VerificationTest</text></a><!--MD5=[14e3b0961a2654348d326746436168a1]\n",
       "cluster E6--><a href=\"psysml:f44943ce-87bd-4d2b-91db-f66bd879bf72\" target=\"_top\" title=\"psysml:f44943ce-87bd-4d2b-91db-f66bd879bf72\" xlink:actuate=\"onRequest\" xlink:href=\"psysml:f44943ce-87bd-4d2b-91db-f66bd879bf72\" xlink:show=\"new\" xlink:title=\"psysml:f44943ce-87bd-4d2b-91db-f66bd879bf72\" xlink:type=\"simple\"><rect fill=\"#FFFFFF\" filter=\"url(#f7qm6l4e3yg9b)\" height=\"218.36\" id=\"E6\" style=\"stroke: #A80036; stroke-width: 1.5;\" width=\"200\" x=\"1087\" y=\"107\"/><rect fill=\"#FEFECE\" height=\"37.9375\" style=\"stroke: #A80036; stroke-width: 1.5;\" width=\"200\" x=\"1087\" y=\"107\"/><text fill=\"#000000\" font-family=\"sans-serif\" font-size=\"12\" font-style=\"italic\" lengthAdjust=\"spacingAndGlyphs\" textLength=\"137\" x=\"1118.5\" y=\"123.1387\">«verificationCase def»</text><text fill=\"#000000\" font-family=\"sans-serif\" font-size=\"12\" lengthAdjust=\"spacingAndGlyphs\" textLength=\"101\" x=\"1136.5\" y=\"137.1074\">VerificationCase</text></a><!--MD5=[7f149f147074ac12df2cb0a7728a5fb0]\n",
       "cluster E9--><a href=\"psysml:109e665d-9569-4e28-8454-db86a3b7365b\" target=\"_top\" title=\"psysml:109e665d-9569-4e28-8454-db86a3b7365b\" xlink:actuate=\"onRequest\" xlink:href=\"psysml:109e665d-9569-4e28-8454-db86a3b7365b\" xlink:show=\"new\" xlink:title=\"psysml:109e665d-9569-4e28-8454-db86a3b7365b\" xlink:type=\"simple\"><rect fill=\"#FFFFFF\" filter=\"url(#f7qm6l4e3yg9b)\" height=\"293.36\" id=\"E9\" style=\"stroke: #A80036; stroke-width: 1.5;\" width=\"322\" x=\"735\" y=\"107\"/><rect fill=\"#FEFECE\" height=\"37.9375\" style=\"stroke: #A80036; stroke-width: 1.5;\" width=\"322\" x=\"735\" y=\"107\"/><text fill=\"#000000\" font-family=\"sans-serif\" font-size=\"12\" font-style=\"italic\" lengthAdjust=\"spacingAndGlyphs\" textLength=\"137\" x=\"827.5\" y=\"123.1387\">«verificationCase def»</text><text fill=\"#000000\" font-family=\"sans-serif\" font-size=\"12\" lengthAdjust=\"spacingAndGlyphs\" textLength=\"97\" x=\"847.5\" y=\"137.1074\">VerificationPlan</text></a><!--MD5=[917b9dd0c7eca3ee5f47219d1a84c0ad]\n",
       "cluster E11--><a href=\"psysml:d8eec309-4539-4ef6-b593-f8d5221313a5\" target=\"_top\" title=\"psysml:d8eec309-4539-4ef6-b593-f8d5221313a5\" xlink:actuate=\"onRequest\" xlink:href=\"psysml:d8eec309-4539-4ef6-b593-f8d5221313a5\" xlink:show=\"new\" xlink:title=\"psysml:d8eec309-4539-4ef6-b593-f8d5221313a5\" xlink:type=\"simple\"><rect fill=\"#FFFFFF\" filter=\"url(#f7qm6l4e3yg9b)\" height=\"165.86\" id=\"E11\" rx=\"10\" ry=\"10\" style=\"stroke: #A80036; stroke-width: 1.5;\" width=\"174\" x=\"845\" y=\"196.5\"/><rect fill=\"#FEFECE\" height=\"37.9375\" rx=\"10\" ry=\"10\" style=\"stroke: #FEFECE; stroke-width: 1.5;\" width=\"174\" x=\"845\" y=\"196.5\"/><rect fill=\"#FEFECE\" height=\"10\" style=\"stroke: #FEFECE; stroke-width: 1.5;\" width=\"174\" x=\"845\" y=\"224.4375\"/><rect fill=\"none\" height=\"165.86\" id=\"E11\" rx=\"10\" ry=\"10\" style=\"stroke: #A80036; stroke-width: 1.5;\" width=\"174\" x=\"845\" y=\"196.5\"/><text fill=\"#000000\" font-family=\"sans-serif\" font-size=\"12\" font-style=\"italic\" lengthAdjust=\"spacingAndGlyphs\" textLength=\"113\" x=\"875.5\" y=\"212.6387\">«verificationCase»</text><text fill=\"#000000\" font-family=\"sans-serif\" font-size=\"12\" lengthAdjust=\"spacingAndGlyphs\" textLength=\"99\" x=\"882.5\" y=\"226.6074\">verificationCase</text><line style=\"stroke: #A80036; stroke-width: 1.0;\" x1=\"845\" x2=\"1019\" y1=\"234.4375\" y2=\"234.4375\"/></a><!--MD5=[ab3548ab6224ff035c4047a4d30b7567]\n",
       "cluster E15--><a href=\"psysml:1ba0f1fa-2142-46f9-b759-d2e88bd368a2\" target=\"_top\" title=\"psysml:1ba0f1fa-2142-46f9-b759-d2e88bd368a2\" xlink:actuate=\"onRequest\" xlink:href=\"psysml:1ba0f1fa-2142-46f9-b759-d2e88bd368a2\" xlink:show=\"new\" xlink:title=\"psysml:1ba0f1fa-2142-46f9-b759-d2e88bd368a2\" xlink:type=\"simple\"><rect fill=\"#FFFFFF\" filter=\"url(#f7qm6l4e3yg9b)\" height=\"186.5\" id=\"E15\" rx=\"10\" ry=\"10\" style=\"stroke: #A80036; stroke-width: 1.5;\" width=\"264\" x=\"357\" y=\"49\"/><rect fill=\"#FEFECE\" height=\"23.9688\" rx=\"10\" ry=\"10\" style=\"stroke: #FEFECE; stroke-width: 1.5;\" width=\"264\" x=\"357\" y=\"49\"/><rect fill=\"#FEFECE\" height=\"10\" style=\"stroke: #FEFECE; stroke-width: 1.5;\" width=\"264\" x=\"357\" y=\"62.9688\"/><rect fill=\"none\" height=\"186.5\" id=\"E15\" rx=\"10\" ry=\"10\" style=\"stroke: #A80036; stroke-width: 1.5;\" width=\"264\" x=\"357\" y=\"49\"/><text fill=\"#000000\" font-family=\"sans-serif\" font-size=\"12\" lengthAdjust=\"spacingAndGlyphs\" textLength=\"116\" x=\"431\" y=\"65.1387\">verificationContext</text><line style=\"stroke: #A80036; stroke-width: 1.0;\" x1=\"357\" x2=\"621\" y1=\"72.9688\" y2=\"72.9688\"/></a><!--MD5=[ebbe1d658d1005bcc118a6aa81145e00]\n",
       "class E4--><a href=\"psysml:971e85b9-9957-4674-90a7-be3bf98856c5\" target=\"_top\" title=\"psysml:971e85b9-9957-4674-90a7-be3bf98856c5\" xlink:actuate=\"onRequest\" xlink:href=\"psysml:971e85b9-9957-4674-90a7-be3bf98856c5\" xlink:show=\"new\" xlink:title=\"psysml:971e85b9-9957-4674-90a7-be3bf98856c5\" xlink:type=\"simple\"><rect fill=\"#FEFECE\" filter=\"url(#f7qm6l4e3yg9b)\" height=\"66.7422\" id=\"E4\" style=\"stroke: #A80036; stroke-width: 1.5;\" width=\"143\" x=\"197.5\" y=\"163\"/><ellipse cx=\"212.5\" cy=\"181.9688\" fill=\"#A52A2A\" rx=\"11\" ry=\"11\" style=\"stroke: #A80036; stroke-width: 1.0;\"/><path d=\"M209.7188,186.9688 L209.7188,176.375 L212.4531,176.375 Q213.8438,176.375 214.6094,176.7656 Q215.3906,177.1406 215.9219,177.8438 Q216.4531,178.5469 216.75,179.5469 Q217.0469,180.5313 217.0469,181.75 Q217,183.3438 216.5,184.5313 Q216.0156,185.7031 214.9688,186.3438 Q213.9375,186.9688 212.25,186.9688 L209.7188,186.9688 Z M211.5781,185.4688 L212.2031,185.4688 Q213.2813,185.4688 213.9375,185.0156 Q214.5938,184.5625 214.875,183.7344 Q215.1719,182.8906 215.1563,181.7656 Q215.1563,180.5938 214.9063,179.7344 Q214.6563,178.8594 214.0469,178.3906 Q213.4375,177.9063 212.3906,177.9063 L211.5781,177.9063 L211.5781,185.4688 Z \"/><text fill=\"#000000\" font-family=\"sans-serif\" font-size=\"12\" font-style=\"italic\" lengthAdjust=\"spacingAndGlyphs\" textLength=\"115\" x=\"224.5\" y=\"179.1387\">«requirement def»</text><text fill=\"#000000\" font-family=\"sans-serif\" font-size=\"12\" lengthAdjust=\"spacingAndGlyphs\" textLength=\"8\" x=\"278\" y=\"193.1074\">R</text><line style=\"stroke: #A80036; stroke-width: 1.5;\" x1=\"198.5\" x2=\"339.5\" y1=\"200.9375\" y2=\"200.9375\"/><text fill=\"#000000\" font-family=\"sans-serif\" font-size=\"11\" lengthAdjust=\"spacingAndGlyphs\" textLength=\"12\" x=\"203.5\" y=\"215.1479\">...</text><line style=\"stroke: #A80036; stroke-width: 1.0;\" x1=\"198.5\" x2=\"339.5\" y1=\"221.7422\" y2=\"221.7422\"/></a><!--MD5=[270fce915f116d4de14055a7c1d9a0f3]\n",
       "class E5--><a href=\"psysml:bbcd2223-85a4-4701-a24f-5592c5712336\" target=\"_top\" title=\"psysml:bbcd2223-85a4-4701-a24f-5592c5712336\" xlink:actuate=\"onRequest\" xlink:href=\"psysml:bbcd2223-85a4-4701-a24f-5592c5712336\" xlink:show=\"new\" xlink:title=\"psysml:bbcd2223-85a4-4701-a24f-5592c5712336\" xlink:type=\"simple\"><rect fill=\"#FEFECE\" filter=\"url(#f7qm6l4e3yg9b)\" height=\"45.9375\" id=\"E5\" rx=\"10\" ry=\"10\" style=\"stroke: #A80036; stroke-width: 1.5;\" width=\"119\" x=\"218.5\" y=\"84\"/><ellipse cx=\"233.5\" cy=\"102.9688\" fill=\"#FFA500\" rx=\"11\" ry=\"11\" style=\"stroke: #A80036; stroke-width: 1.0;\"/><path d=\"M233.25,108.4375 Q231.5,108.4375 230.5469,107.4063 Q229.6094,106.3594 229.6094,104.5156 L229.6094,97.625 L231.6719,97.625 L231.6719,97.7813 Q231.5781,97.875 231.5469,98.0156 Q231.5313,98.1406 231.5313,98.4063 L231.5313,104.5313 Q231.5313,105.625 231.9063,106.25 Q232.2813,106.875 233.2656,106.875 Q234.25,106.875 234.6406,106.25 Q235.0313,105.625 235.0313,104.4844 L235.0313,97.625 L236.9063,97.625 L236.9063,104.4688 Q236.9063,106.5 235.875,107.4688 Q234.8594,108.4375 233.25,108.4375 Z \"/><text fill=\"#000000\" font-family=\"sans-serif\" font-size=\"12\" font-style=\"italic\" lengthAdjust=\"spacingAndGlyphs\" textLength=\"91\" x=\"245.5\" y=\"100.1387\">«requirement»</text><text fill=\"#000000\" font-family=\"sans-serif\" font-size=\"12\" lengthAdjust=\"spacingAndGlyphs\" textLength=\"21\" x=\"280.5\" y=\"114.1074\">r: R</text><line style=\"stroke: #A80036; stroke-width: 1.5;\" x1=\"219.5\" x2=\"336.5\" y1=\"121.9375\" y2=\"121.9375\"/></a><g id=\"E1.E2\"><a href=\"psysml:ee2cd088-4b38-485a-bdcf-f034eebaa933\" target=\"_top\" title=\"psysml:ee2cd088-4b38-485a-bdcf-f034eebaa933\" xlink:actuate=\"onRequest\" xlink:href=\"psysml:ee2cd088-4b38-485a-bdcf-f034eebaa933\" xlink:show=\"new\" xlink:title=\"psysml:ee2cd088-4b38-485a-bdcf-f034eebaa933\" xlink:type=\"simple\"><rect fill=\"#FEFECE\" filter=\"url(#f7qm6l4e3yg9b)\" height=\"40\" id=\"E2\" style=\"stroke: #A80036; stroke-width: 1.5;\" width=\"50\" x=\"133\" y=\"87\"/><ellipse cx=\"152.5\" cy=\"103\" fill=\"#008000\" rx=\"11\" ry=\"11\" style=\"stroke: #A80036; stroke-width: 1.0;\"/><path d=\"M149.375,108 L149.375,97.4063 L152.6094,97.4063 Q154.5156,97.4063 155.4219,98.1563 Q156.3438,98.9063 156.3438,100.0781 Q156.3438,100.7656 155.9531,101.4219 Q155.5781,102.0781 154.8594,102.375 Q155.7188,102.75 156.2344,103.4375 Q156.75,104.125 156.75,104.9375 Q156.75,106.3125 155.7188,107.1563 Q154.7031,108 152.5938,108 L149.375,108 Z M151.2969,101.6406 L152.4531,101.6406 Q153.5781,101.6406 153.9844,101.2656 Q154.4063,100.875 154.4063,100.25 Q154.4063,99.6719 153.9844,99.3125 Q153.5625,98.9531 152.625,98.9531 L151.2969,98.9531 L151.2969,101.6406 Z M151.2969,106.4219 L152.7969,106.4219 Q153.7031,106.4219 154.2344,106.0313 Q154.7656,105.6406 154.7656,104.8906 Q154.7656,104.125 154.2656,103.6563 Q153.7656,103.1719 152.5,103.1719 L151.2969,103.1719 L151.2969,106.4219 Z \"/><text fill=\"#000000\" font-family=\"sans-serif\" font-size=\"12\" lengthAdjust=\"spacingAndGlyphs\" textLength=\"8\" x=\"167.5\" y=\"107.1543\">V</text></a></g><g id=\"E1.E3\"><a href=\"psysml:ea23779d-7b91-41e0-a4d1-5f0745e774d2\" target=\"_top\" title=\"psysml:ea23779d-7b91-41e0-a4d1-5f0745e774d2\" xlink:actuate=\"onRequest\" xlink:href=\"psysml:ea23779d-7b91-41e0-a4d1-5f0745e774d2\" xlink:show=\"new\" xlink:title=\"psysml:ea23779d-7b91-41e0-a4d1-5f0745e774d2\" xlink:type=\"simple\"><rect fill=\"#FEFECE\" filter=\"url(#f7qm6l4e3yg9b)\" height=\"40\" id=\"E3\" rx=\"10\" ry=\"10\" style=\"stroke: #A80036; stroke-width: 1.5;\" width=\"65\" x=\"32.5\" y=\"87\"/><ellipse cx=\"49.75\" cy=\"103\" fill=\"#B6DBBB\" rx=\"11\" ry=\"11\" style=\"stroke: #A80036; stroke-width: 1.0;\"/><path d=\"M49.5,108.4688 Q47.75,108.4688 46.7969,107.4375 Q45.8594,106.3906 45.8594,104.5469 L45.8594,97.6563 L47.9219,97.6563 L47.9219,97.8125 Q47.8281,97.9063 47.7969,98.0469 Q47.7813,98.1719 47.7813,98.4375 L47.7813,104.5625 Q47.7813,105.6563 48.1563,106.2813 Q48.5313,106.9063 49.5156,106.9063 Q50.5,106.9063 50.8906,106.2813 Q51.2813,105.6563 51.2813,104.5156 L51.2813,97.6563 L53.1563,97.6563 L53.1563,104.5 Q53.1563,106.5313 52.125,107.5 Q51.1094,108.4688 49.5,108.4688 Z \"/><text fill=\"#000000\" font-family=\"sans-serif\" font-size=\"12\" lengthAdjust=\"spacingAndGlyphs\" textLength=\"28\" x=\"64.25\" y=\"107.1543\">vv: V</text></a></g><text fill=\"#000000\" font-family=\"sans-serif\" font-size=\"14\" lengthAdjust=\"spacingAndGlyphs\" textLength=\"7\" x=\"1183.5\" y=\"85.6982\">v</text><rect fill=\"#A80036\" height=\"12\" style=\"stroke: #FEFECE; stroke-width: 1.5;\" width=\"12\" x=\"1181\" y=\"101\"/><text fill=\"#000000\" font-family=\"sans-serif\" font-size=\"14\" lengthAdjust=\"spacingAndGlyphs\" textLength=\"46\" x=\"1164\" y=\"344.3551\">verdict</text><rect fill=\"#A80036\" height=\"12\" style=\"stroke: #FEFECE; stroke-width: 1.5;\" width=\"12\" x=\"1181\" y=\"319.36\"/><text fill=\"#000000\" font-family=\"sans-serif\" font-size=\"14\" lengthAdjust=\"spacingAndGlyphs\" textLength=\"7\" x=\"749.5\" y=\"85.6982\">v</text><rect fill=\"#A80036\" height=\"12\" style=\"stroke: #FEFECE; stroke-width: 1.5;\" width=\"12\" x=\"747\" y=\"101\"/><text fill=\"#000000\" font-family=\"sans-serif\" font-size=\"14\" lengthAdjust=\"spacingAndGlyphs\" textLength=\"46\" x=\"1034\" y=\"344.3551\">verdict</text><rect fill=\"#A80036\" height=\"12\" style=\"stroke: #FEFECE; stroke-width: 1.5;\" width=\"12\" x=\"1051\" y=\"319.36\"/><text fill=\"#000000\" font-family=\"sans-serif\" font-size=\"14\" lengthAdjust=\"spacingAndGlyphs\" textLength=\"46\" x=\"909\" y=\"381.3551\">verdict</text><rect fill=\"#A80036\" height=\"12\" style=\"stroke: #FEFECE; stroke-width: 1.5;\" width=\"12\" x=\"926\" y=\"356.36\"/><text fill=\"#000000\" font-family=\"sans-serif\" font-size=\"14\" lengthAdjust=\"spacingAndGlyphs\" textLength=\"7\" x=\"928.5\" y=\"175.1982\">v</text><rect fill=\"#A80036\" height=\"12\" style=\"stroke: #FEFECE; stroke-width: 1.5;\" width=\"12\" x=\"926\" y=\"190.5\"/><!--MD5=[35f0587eaee8d5bb9a02e25b63afc23b]\n",
       "class E16--><a href=\"psysml:f139e62b-7bf9-43a0-a382-40038ed35c63\" target=\"_top\" title=\"psysml:f139e62b-7bf9-43a0-a382-40038ed35c63\" xlink:actuate=\"onRequest\" xlink:href=\"psysml:f139e62b-7bf9-43a0-a382-40038ed35c63\" xlink:show=\"new\" xlink:title=\"psysml:f139e62b-7bf9-43a0-a382-40038ed35c63\" xlink:type=\"simple\"><rect fill=\"#FEFECE\" filter=\"url(#f7qm6l4e3yg9b)\" height=\"45.9375\" id=\"E16\" rx=\"10\" ry=\"10\" style=\"stroke: #A80036; stroke-width: 1.5;\" width=\"232\" x=\"373\" y=\"84\"/><ellipse cx=\"388\" cy=\"102.9688\" fill=\"#FFA500\" rx=\"11\" ry=\"11\" style=\"stroke: #A80036; stroke-width: 1.0;\"/><path d=\"M387.75,108.4375 Q386,108.4375 385.0469,107.4063 Q384.1094,106.3594 384.1094,104.5156 L384.1094,97.625 L386.1719,97.625 L386.1719,97.7813 Q386.0781,97.875 386.0469,98.0156 Q386.0313,98.1406 386.0313,98.4063 L386.0313,104.5313 Q386.0313,105.625 386.4063,106.25 Q386.7813,106.875 387.7656,106.875 Q388.75,106.875 389.1406,106.25 Q389.5313,105.625 389.5313,104.4844 L389.5313,97.625 L391.4063,97.625 L391.4063,104.4688 Q391.4063,106.5 390.375,107.4688 Q389.3594,108.4375 387.75,108.4375 Z \"/><text fill=\"#000000\" font-family=\"sans-serif\" font-size=\"12\" font-style=\"italic\" lengthAdjust=\"spacingAndGlyphs\" textLength=\"113\" x=\"445.5\" y=\"100.1387\">«verificationCase»</text><text fill=\"#000000\" font-family=\"sans-serif\" font-size=\"12\" lengthAdjust=\"spacingAndGlyphs\" textLength=\"200\" x=\"402\" y=\"114.1074\">verificationPlan: VerificationPlan</text><line style=\"stroke: #A80036; stroke-width: 1.5;\" x1=\"374\" x2=\"604\" y1=\"121.9375\" y2=\"121.9375\"/></a><!--MD5=[60e55a4a9b2f0dc0a36787c5a2095786]\n",
       "class E17--><a href=\"psysml:fe640fc2-093c-44fe-a9fd-0ceecb8f463c\" target=\"_top\" title=\"psysml:fe640fc2-093c-44fe-a9fd-0ceecb8f463c\" xlink:actuate=\"onRequest\" xlink:href=\"psysml:fe640fc2-093c-44fe-a9fd-0ceecb8f463c\" xlink:show=\"new\" xlink:title=\"psysml:fe640fc2-093c-44fe-a9fd-0ceecb8f463c\" xlink:type=\"simple\"><rect fill=\"#FEFECE\" filter=\"url(#f7qm6l4e3yg9b)\" height=\"45.9375\" id=\"E17\" rx=\"10\" ry=\"10\" style=\"stroke: #A80036; stroke-width: 1.5;\" width=\"119\" x=\"429.5\" y=\"173.5\"/><ellipse cx=\"444.5\" cy=\"192.4688\" fill=\"#FFA500\" rx=\"11\" ry=\"11\" style=\"stroke: #A80036; stroke-width: 1.0;\"/><path d=\"M444.25,197.9375 Q442.5,197.9375 441.5469,196.9063 Q440.6094,195.8594 440.6094,194.0156 L440.6094,187.125 L442.6719,187.125 L442.6719,187.2813 Q442.5781,187.375 442.5469,187.5156 Q442.5313,187.6406 442.5313,187.9063 L442.5313,194.0313 Q442.5313,195.125 442.9063,195.75 Q443.2813,196.375 444.2656,196.375 Q445.25,196.375 445.6406,195.75 Q446.0313,195.125 446.0313,193.9844 L446.0313,187.125 L447.9063,187.125 L447.9063,193.9688 Q447.9063,196 446.875,196.9688 Q445.8594,197.9375 444.25,197.9375 Z \"/><text fill=\"#000000\" font-family=\"sans-serif\" font-size=\"12\" font-style=\"italic\" lengthAdjust=\"spacingAndGlyphs\" textLength=\"91\" x=\"456.5\" y=\"189.6387\">«requirement»</text><text fill=\"#000000\" font-family=\"sans-serif\" font-size=\"12\" lengthAdjust=\"spacingAndGlyphs\" textLength=\"19\" x=\"492.5\" y=\"203.6074\">obj</text><line style=\"stroke: #A80036; stroke-width: 1.5;\" x1=\"430.5\" x2=\"547.5\" y1=\"211.4375\" y2=\"211.4375\"/></a><!--MD5=[1c62de2aa5b76f0fb657ff8443a1a700]\n",
       "link E5 to E4--><a href=\"psysml:4afeeb28-a204-4e17-a080-31f9a6d380ec\" target=\"_top\" title=\"psysml:4afeeb28-a204-4e17-a080-31f9a6d380ec\" xlink:actuate=\"onRequest\" xlink:href=\"psysml:4afeeb28-a204-4e17-a080-31f9a6d380ec\" xlink:show=\"new\" xlink:title=\"psysml:4afeeb28-a204-4e17-a080-31f9a6d380ec\" xlink:type=\"simple\"><path d=\"M275.73,130.08 C275.32,134.03 274.88,138.3 274.43,142.7 \" fill=\"none\" id=\"E5-&gt;E4\" style=\"stroke: #A80036; stroke-width: 1.0;\"/><polygon fill=\"#FFFFFF\" points=\"272.36,162.84,267.3369,143.2245,281.2637,144.6542,272.36,162.84\" style=\"stroke: #A80036; stroke-width: 1.0;\"/><ellipse cx=\"269.9085\" cy=\"137.7585\" fill=\"#A80036\" rx=\"2\" ry=\"2\" style=\"stroke: #A80036; stroke-width: 1.0;\"/><ellipse cx=\"279.8562\" cy=\"138.7797\" fill=\"#A80036\" rx=\"2\" ry=\"2\" style=\"stroke: #A80036; stroke-width: 1.0;\"/></a><!--MD5=[4de2d328c39b6d65fb95a84ef336270e]\n",
       "link E16 to E9--><a href=\"psysml:cd73bb42-520f-4e04-8240-7f040abbe442\" target=\"_top\" title=\"psysml:cd73bb42-520f-4e04-8240-7f040abbe442\" xlink:actuate=\"onRequest\" xlink:href=\"psysml:cd73bb42-520f-4e04-8240-7f040abbe442\" xlink:show=\"new\" xlink:title=\"psysml:cd73bb42-520f-4e04-8240-7f040abbe442\" xlink:type=\"simple\"><path d=\"M555.62,130.08 C601.44,145.27 661.33,165.12 703.07,178.95 \" fill=\"none\" id=\"E16-&gt;E9\" style=\"stroke: #A80036; stroke-width: 1.0;\"/><polygon fill=\"#FFFFFF\" points=\"703.07,178.95,682.8326,179.6188,687.2359,166.3293,703.07,178.95\" style=\"stroke: #A80036; stroke-width: 1.0;\"/><ellipse cx=\"678.0509\" cy=\"175.9276\" fill=\"#A80036\" rx=\"2\" ry=\"2\" style=\"stroke: #A80036; stroke-width: 1.0;\"/><ellipse cx=\"681.1961\" cy=\"166.4351\" fill=\"#A80036\" rx=\"2\" ry=\"2\" style=\"stroke: #A80036; stroke-width: 1.0;\"/></a><!--MD5=[450e3481f1c83a03a55fcf78b0bbbde6]\n",
       "link E16 to E17--><a href=\"psysml:e29f10bd-d5bc-4797-97ab-a37fb0e5db5b\" target=\"_top\" title=\"psysml:e29f10bd-d5bc-4797-97ab-a37fb0e5db5b\" xlink:actuate=\"onRequest\" xlink:href=\"psysml:e29f10bd-d5bc-4797-97ab-a37fb0e5db5b\" xlink:show=\"new\" xlink:title=\"psysml:e29f10bd-d5bc-4797-97ab-a37fb0e5db5b\" xlink:type=\"simple\"><path d=\"M489,130.08 C489,140.75 489,153.73 489,165.3 \" fill=\"none\" id=\"E16-&gt;E17\" style=\"stroke: #A80036; stroke-width: 1.0;\"/><polygon fill=\"#A80036\" points=\"489,173.43,492,165.43,486,165.43,489,173.43\" style=\"stroke: #A80036; stroke-width: 1.0;\"/><text fill=\"#000000\" font-family=\"sans-serif\" font-size=\"13\" lengthAdjust=\"spacingAndGlyphs\" textLength=\"73\" x=\"490\" y=\"151.0669\">«objective»</text><text fill=\"#000000\" font-family=\"sans-serif\" font-size=\"13\" lengthAdjust=\"spacingAndGlyphs\" textLength=\"7\" x=\"481.0594\" y=\"162.3075\">*</text></a><!--MD5=[77c38dc5e57f087203fe0daf3073f8c5]\n",
       "@startuml\r\n",
       "skinparam ranksep 10\r\n",
       "skinparam rectangle {\r\n",
       " backgroundColor<<block>> LightGreen\r\n",
       "}\r\n",
       " \r\n",
       "package \"VerificationTest\" as E1  [[psysml:7303dfcd-df1a-4034-bc74-eb93457ec7c0 ]]  {\r\n",
       "rec def \"V\" as E2 << << (B,green) >> [[psysml:ee2cd088-4b38-485a-bdcf-f034eebaa933 ]] {\r\n",
       "}\r\n",
       "rec usage \"vv: V\" as E3  [[psysml:ea23779d-7b91-41e0-a4d1-5f0745e774d2 ]] {\r\n",
       "}\r\n",
       "comp def \"R\" as E4 << <<(D,brown) requirement def>> [[psysml:971e85b9-9957-4674-90a7-be3bf98856c5 ]] {\r\n",
       "...\r\n",
       "- -\r\n",
       "}\r\n",
       "comp usage \"r: R\" as E5 << <<(U,orange) requirement>> [[psysml:bbcd2223-85a4-4701-a24f-5592c5712336 ]] {\r\n",
       "}\r\n",
       "rec def \"VerificationCase\" as E6 << <<(B,lemonchiffon) verificationCase def>> [[psysml:f44943ce-87bd-4d2b-91db-f66bd879bf72 ]] {\r\n",
       "portin \"v\" as E7  [[psysml:39e4c68a-7e48-4018-a595-005447bc25d1 ]] \r\n",
       "portout \"verdict\" as E8  [[psysml:e7480a5a-bc03-4bfb-926c-ff77790341ab ]] \r\n",
       "}\r\n",
       "\r\n",
       "rec def \"VerificationPlan\" as E9 << <<(B,lemonchiffon) verificationCase def>> [[psysml:109e665d-9569-4e28-8454-db86a3b7365b ]] {\r\n",
       "portin \"v\" as E10  [[psysml:bc04aa0f-1251-4bd1-9492-821de83ad0f4 ]] \r\n",
       "rec usage \"verificationCase\" as E11 << <<(U,orange) verificationCase>> [[psysml:d8eec309-4539-4ef6-b593-f8d5221313a5 ]] {\r\n",
       "portout \"verdict\" as E12  [[psysml:d4b19012-2d8f-412c-81cb-04106ed54ab9 ]] \r\n",
       "portin \"v\" as E13  [[psysml:101691aa-2b16-4439-bb49-3b5a9750b72a ]] \r\n",
       "}\r\n",
       "\r\n",
       "portout \"verdict\" as E14  [[psysml:d1cc474d-a7ae-4245-8f3b-eac2c389ad3d ]] \r\n",
       "}\r\n",
       "\r\n",
       "rec usage \"verificationContext\" as E15  [[psysml:1ba0f1fa-2142-46f9-b759-d2e88bd368a2 ]] {\r\n",
       "comp usage \"verificationPlan: VerificationPlan\" as E16 << <<(U,orange) verificationCase>> [[psysml:f139e62b-7bf9-43a0-a382-40038ed35c63 ]] {\r\n",
       "}\r\n",
       "comp usage \"obj\" as E17 << <<(U,orange) requirement>> [[psysml:fe640fc2-093c-44fe-a9fd-0ceecb8f463c ]] {\r\n",
       "}\r\n",
       "}\r\n",
       "}\r\n",
       "E5 - -:|> E4 [[psysml:4afeeb28-a204-4e17-a080-31f9a6d380ec ]] \r\n",
       "E16 - -:|> E9 [[psysml:cd73bb42-520f-4e04-8240-7f040abbe442 ]] \r\n",
       "E16 - ->> \"*\"E17 [[psysml:e29f10bd-d5bc-4797-97ab-a37fb0e5db5b ]] : <<objective>>\r\n",
       "@enduml\r\n",
       "\n",
       "PlantUML version 1.2020.13(Sat Jun 13 12:26:38 UTC 2020)\n",
       "(EPL source distribution)\n",
       "Java Runtime: OpenJDK Runtime Environment\n",
       "JVM: OpenJDK 64-Bit Server VM\n",
       "Default Encoding: UTF-8\n",
       "Language: en\n",
       "Country: null\n",
       "--></g></svg>"
      ]
     },
     "execution_count": 33,
     "metadata": {},
     "output_type": "execute_result"
    }
   ],
   "source": [
    "%viz --style=\"PLANTUML\" --view=\"Interconnection\" \"VerificationTest\""
   ]
  },
  {
   "cell_type": "code",
   "execution_count": 34,
   "id": "52bb83e3",
   "metadata": {
    "execution": {
     "iopub.execute_input": "2021-10-03T08:26:49.640698Z",
     "iopub.status.busy": "2021-10-03T08:26:49.640279Z",
     "iopub.status.idle": "2021-10-03T08:26:49.681792Z",
     "shell.execute_reply": "2021-10-03T08:26:49.681420Z"
    }
   },
   "outputs": [
    {
     "data": {
      "image/svg+xml": [
       "<?xml version=\"1.0\" encoding=\"UTF-8\" standalone=\"no\"?><svg xmlns=\"http://www.w3.org/2000/svg\" xmlns:xlink=\"http://www.w3.org/1999/xlink\" contentScriptType=\"application/ecmascript\" contentStyleType=\"text/css\" height=\"241px\" preserveAspectRatio=\"none\" style=\"width:842px;height:241px;\" version=\"1.1\" viewBox=\"0 0 842 241\" width=\"842px\" zoomAndPan=\"magnify\"><defs><filter height=\"300%\" id=\"f1ju7mz6jes6gk\" width=\"300%\" x=\"-1\" y=\"-1\"><feGaussianBlur result=\"blurOut\" stdDeviation=\"2.0\"/><feColorMatrix in=\"blurOut\" result=\"blurOut2\" type=\"matrix\" values=\"0 0 0 0 0 0 0 0 0 0 0 0 0 0 0 0 0 0 .4 0\"/><feOffset dx=\"4.0\" dy=\"4.0\" in=\"blurOut2\" result=\"blurOut3\"/><feBlend in=\"SourceGraphic\" in2=\"blurOut3\" mode=\"normal\"/></filter></defs><g><!--MD5=[fbc87193dbaf4d95561dea2c320d4a47]\n",
       "cluster E1--><a href=\"psysml:f44943ce-87bd-4d2b-91db-f66bd879bf72\" target=\"_top\" title=\"psysml:f44943ce-87bd-4d2b-91db-f66bd879bf72\" xlink:actuate=\"onRequest\" xlink:href=\"psysml:f44943ce-87bd-4d2b-91db-f66bd879bf72\" xlink:show=\"new\" xlink:title=\"psysml:f44943ce-87bd-4d2b-91db-f66bd879bf72\" xlink:type=\"simple\"><rect fill=\"#FFFFFF\" filter=\"url(#f1ju7mz6jes6gk)\" height=\"122\" id=\"E1\" style=\"stroke: #A80036; stroke-width: 1.5;\" width=\"200\" x=\"7\" y=\"42.0986\"/><rect fill=\"#FEFECE\" height=\"37.9375\" style=\"stroke: #A80036; stroke-width: 1.5;\" width=\"200\" x=\"7\" y=\"42.0986\"/><text fill=\"#000000\" font-family=\"sans-serif\" font-size=\"12\" font-style=\"italic\" lengthAdjust=\"spacingAndGlyphs\" textLength=\"137\" x=\"38.5\" y=\"58.2373\">«verificationCase def»</text><text fill=\"#000000\" font-family=\"sans-serif\" font-size=\"12\" lengthAdjust=\"spacingAndGlyphs\" textLength=\"101\" x=\"56.5\" y=\"72.2061\">VerificationCase</text></a><!--MD5=[f6df4d0ebaf0b5dfb2ced0ae5af7c670]\n",
       "cluster E4--><a href=\"psysml:109e665d-9569-4e28-8454-db86a3b7365b\" target=\"_top\" title=\"psysml:109e665d-9569-4e28-8454-db86a3b7365b\" xlink:actuate=\"onRequest\" xlink:href=\"psysml:109e665d-9569-4e28-8454-db86a3b7365b\" xlink:show=\"new\" xlink:title=\"psysml:109e665d-9569-4e28-8454-db86a3b7365b\" xlink:type=\"simple\"><rect fill=\"#FFFFFF\" filter=\"url(#f1ju7mz6jes6gk)\" height=\"180\" id=\"E4\" style=\"stroke: #A80036; stroke-width: 1.5;\" width=\"325\" x=\"297\" y=\"42.0986\"/><rect fill=\"#FEFECE\" height=\"37.9375\" style=\"stroke: #A80036; stroke-width: 1.5;\" width=\"325\" x=\"297\" y=\"42.0986\"/><text fill=\"#000000\" font-family=\"sans-serif\" font-size=\"12\" font-style=\"italic\" lengthAdjust=\"spacingAndGlyphs\" textLength=\"137\" x=\"391\" y=\"58.2373\">«verificationCase def»</text><text fill=\"#000000\" font-family=\"sans-serif\" font-size=\"12\" lengthAdjust=\"spacingAndGlyphs\" textLength=\"97\" x=\"411\" y=\"72.2061\">VerificationPlan</text></a><!--MD5=[14e3b0961a2654348d326746436168a1]\n",
       "cluster E6--><a href=\"psysml:d8eec309-4539-4ef6-b593-f8d5221313a5\" target=\"_top\" title=\"psysml:d8eec309-4539-4ef6-b593-f8d5221313a5\" xlink:actuate=\"onRequest\" xlink:href=\"psysml:d8eec309-4539-4ef6-b593-f8d5221313a5\" xlink:show=\"new\" xlink:title=\"psysml:d8eec309-4539-4ef6-b593-f8d5221313a5\" xlink:type=\"simple\"><rect fill=\"#FFFFFF\" filter=\"url(#f1ju7mz6jes6gk)\" height=\"110.5\" id=\"E6\" rx=\"10\" ry=\"10\" style=\"stroke: #A80036; stroke-width: 1.5;\" width=\"174\" x=\"407\" y=\"81.5986\"/><rect fill=\"#FEFECE\" height=\"37.9375\" rx=\"10\" ry=\"10\" style=\"stroke: #FEFECE; stroke-width: 1.5;\" width=\"174\" x=\"407\" y=\"81.5986\"/><rect fill=\"#FEFECE\" height=\"10\" style=\"stroke: #FEFECE; stroke-width: 1.5;\" width=\"174\" x=\"407\" y=\"109.5361\"/><rect fill=\"none\" height=\"110.5\" id=\"E6\" rx=\"10\" ry=\"10\" style=\"stroke: #A80036; stroke-width: 1.5;\" width=\"174\" x=\"407\" y=\"81.5986\"/><text fill=\"#000000\" font-family=\"sans-serif\" font-size=\"12\" font-style=\"italic\" lengthAdjust=\"spacingAndGlyphs\" textLength=\"113\" x=\"437.5\" y=\"97.7373\">«verificationCase»</text><text fill=\"#000000\" font-family=\"sans-serif\" font-size=\"12\" lengthAdjust=\"spacingAndGlyphs\" textLength=\"99\" x=\"444.5\" y=\"111.7061\">verificationCase</text><line style=\"stroke: #A80036; stroke-width: 1.0;\" x1=\"407\" x2=\"581\" y1=\"119.5361\" y2=\"119.5361\"/></a><!--MD5=[a84b4591f868c1fa4a211716a82f2f0d]\n",
       "cluster E10--><a href=\"psysml:f139e62b-7bf9-43a0-a382-40038ed35c63\" target=\"_top\" title=\"psysml:f139e62b-7bf9-43a0-a382-40038ed35c63\" xlink:actuate=\"onRequest\" xlink:href=\"psysml:f139e62b-7bf9-43a0-a382-40038ed35c63\" xlink:show=\"new\" xlink:title=\"psysml:f139e62b-7bf9-43a0-a382-40038ed35c63\" xlink:type=\"simple\"><rect fill=\"#FFFFFF\" filter=\"url(#f1ju7mz6jes6gk)\" height=\"122\" id=\"E10\" rx=\"10\" ry=\"10\" style=\"stroke: #A80036; stroke-width: 1.5;\" width=\"172\" x=\"651\" y=\"42.0986\"/><rect fill=\"#FEFECE\" height=\"37.9375\" rx=\"10\" ry=\"10\" style=\"stroke: #FEFECE; stroke-width: 1.5;\" width=\"172\" x=\"651\" y=\"42.0986\"/><rect fill=\"#FEFECE\" height=\"10\" style=\"stroke: #FEFECE; stroke-width: 1.5;\" width=\"172\" x=\"651\" y=\"70.0361\"/><rect fill=\"none\" height=\"122\" id=\"E10\" rx=\"10\" ry=\"10\" style=\"stroke: #A80036; stroke-width: 1.5;\" width=\"172\" x=\"651\" y=\"42.0986\"/><text fill=\"#000000\" font-family=\"sans-serif\" font-size=\"12\" font-style=\"italic\" lengthAdjust=\"spacingAndGlyphs\" textLength=\"113\" x=\"680.5\" y=\"58.2373\">«verificationCase»</text><text fill=\"#000000\" font-family=\"sans-serif\" font-size=\"12\" lengthAdjust=\"spacingAndGlyphs\" textLength=\"95\" x=\"689.5\" y=\"72.2061\">verificationPlan</text><line style=\"stroke: #A80036; stroke-width: 1.0;\" x1=\"651\" x2=\"823\" y1=\"80.0361\" y2=\"80.0361\"/></a><text fill=\"#000000\" font-family=\"sans-serif\" font-size=\"14\" lengthAdjust=\"spacingAndGlyphs\" textLength=\"7\" x=\"103.5\" y=\"20.7969\">v</text><rect fill=\"#A80036\" height=\"12\" style=\"stroke: #FEFECE; stroke-width: 1.5;\" width=\"12\" x=\"101\" y=\"36.0986\"/><text fill=\"#000000\" font-family=\"sans-serif\" font-size=\"14\" lengthAdjust=\"spacingAndGlyphs\" textLength=\"46\" x=\"84\" y=\"183.0938\">verdict</text><rect fill=\"#A80036\" height=\"12\" style=\"stroke: #FEFECE; stroke-width: 1.5;\" width=\"12\" x=\"101\" y=\"158.0986\"/><text fill=\"#000000\" font-family=\"sans-serif\" font-size=\"14\" lengthAdjust=\"spacingAndGlyphs\" textLength=\"7\" x=\"311.5\" y=\"20.7969\">v</text><rect fill=\"#A80036\" height=\"12\" style=\"stroke: #FEFECE; stroke-width: 1.5;\" width=\"12\" x=\"309\" y=\"36.0986\"/><text fill=\"#000000\" font-family=\"sans-serif\" font-size=\"14\" lengthAdjust=\"spacingAndGlyphs\" textLength=\"46\" x=\"599\" y=\"183.0938\">verdict</text><rect fill=\"#A80036\" height=\"12\" style=\"stroke: #FEFECE; stroke-width: 1.5;\" width=\"12\" x=\"616\" y=\"158.0986\"/><text fill=\"#000000\" font-family=\"sans-serif\" font-size=\"14\" lengthAdjust=\"spacingAndGlyphs\" textLength=\"46\" x=\"471\" y=\"211.0938\">verdict</text><rect fill=\"#A80036\" height=\"12\" style=\"stroke: #FEFECE; stroke-width: 1.5;\" width=\"12\" x=\"488\" y=\"186.0986\"/><text fill=\"#000000\" font-family=\"sans-serif\" font-size=\"14\" lengthAdjust=\"spacingAndGlyphs\" textLength=\"7\" x=\"490.5\" y=\"60.2969\">v</text><rect fill=\"#A80036\" height=\"12\" style=\"stroke: #FEFECE; stroke-width: 1.5;\" width=\"12\" x=\"488\" y=\"75.5986\"/><text fill=\"#000000\" font-family=\"sans-serif\" font-size=\"14\" lengthAdjust=\"spacingAndGlyphs\" textLength=\"7\" x=\"732.5\" y=\"20.7969\">v</text><rect fill=\"#A80036\" height=\"12\" style=\"stroke: #FEFECE; stroke-width: 1.5;\" width=\"12\" x=\"730\" y=\"36.0986\"/><text fill=\"#000000\" font-family=\"sans-serif\" font-size=\"14\" lengthAdjust=\"spacingAndGlyphs\" textLength=\"46\" x=\"646\" y=\"183.0938\">verdict</text><rect fill=\"#A80036\" height=\"12\" style=\"stroke: #FEFECE; stroke-width: 1.5;\" width=\"12\" x=\"663\" y=\"158.0986\"/><!--MD5=[848336e24959fb53fe5beb1fd1f7edac]\n",
       "@startuml\r\n",
       "skinparam ranksep 8\r\n",
       " \r\n",
       "rec def \"VerificationCase\" as E1 << <<(B,lemonchiffon) verificationCase def>> [[psysml:f44943ce-87bd-4d2b-91db-f66bd879bf72 ]] {\r\n",
       "portin \"v\" as E2  [[psysml:39e4c68a-7e48-4018-a595-005447bc25d1 ]] \r\n",
       "portout \"verdict\" as E3  [[psysml:e7480a5a-bc03-4bfb-926c-ff77790341ab ]] \r\n",
       "}\r\n",
       "\r\n",
       "rec def \"VerificationPlan\" as E4 << <<(B,lemonchiffon) verificationCase def>> [[psysml:109e665d-9569-4e28-8454-db86a3b7365b ]] {\r\n",
       "portin \"v\" as E5  [[psysml:bc04aa0f-1251-4bd1-9492-821de83ad0f4 ]] \r\n",
       "rec usage \"verificationCase\" as E6 << <<(U,orange) verificationCase>> [[psysml:d8eec309-4539-4ef6-b593-f8d5221313a5 ]] {\r\n",
       "portout \"verdict\" as E7  [[psysml:d4b19012-2d8f-412c-81cb-04106ed54ab9 ]] \r\n",
       "portin \"v\" as E8  [[psysml:101691aa-2b16-4439-bb49-3b5a9750b72a ]] \r\n",
       "}\r\n",
       "\r\n",
       "portout \"verdict\" as E9  [[psysml:d1cc474d-a7ae-4245-8f3b-eac2c389ad3d ]] \r\n",
       "}\r\n",
       "\r\n",
       "rec usage \"verificationPlan\" as E10 << <<(U,orange) verificationCase>> [[psysml:f139e62b-7bf9-43a0-a382-40038ed35c63 ]] {\r\n",
       "portin \"v\" as E11  [[psysml:e60d74c1-8e27-4253-b6e4-c059af187aab ]] \r\n",
       "portout \"verdict\" as E12  [[psysml:d1cf56c3-055d-4e01-94eb-7c3e50de0a09 ]] \r\n",
       "}\r\n",
       "\r\n",
       "@enduml\r\n",
       "\n",
       "PlantUML version 1.2020.13(Sat Jun 13 12:26:38 UTC 2020)\n",
       "(EPL source distribution)\n",
       "Java Runtime: OpenJDK Runtime Environment\n",
       "JVM: OpenJDK 64-Bit Server VM\n",
       "Default Encoding: UTF-8\n",
       "Language: en\n",
       "Country: null\n",
       "--></g></svg>"
      ]
     },
     "execution_count": 34,
     "metadata": {},
     "output_type": "execute_result"
    }
   ],
   "source": [
    "%viz --style=\"PLANTUML\" --view=\"Action\" \"VerificationTest\""
   ]
  },
  {
   "cell_type": "code",
   "execution_count": 35,
   "id": "6d8ff378",
   "metadata": {
    "execution": {
     "iopub.execute_input": "2021-10-03T08:26:49.730981Z",
     "iopub.status.busy": "2021-10-03T08:26:49.730572Z",
     "iopub.status.idle": "2021-10-03T08:26:49.736185Z",
     "shell.execute_reply": "2021-10-03T08:26:49.736502Z"
    }
   },
   "outputs": [
    {
     "data": {
      "image/svg+xml": [
       "<?xml version=\"1.0\" encoding=\"UTF-8\" standalone=\"no\"?><svg xmlns=\"http://www.w3.org/2000/svg\" xmlns:xlink=\"http://www.w3.org/1999/xlink\" contentScriptType=\"application/ecmascript\" contentStyleType=\"text/css\" height=\"12px\" preserveAspectRatio=\"none\" style=\"width:12px;height:12px;\" version=\"1.1\" viewBox=\"0 0 12 12\" width=\"12px\" zoomAndPan=\"magnify\"><defs/><g><!--MD5=[ca4faa0b02def275ea33c14ea7a1a98d]\n",
       "@startuml\r\n",
       "skinparam roundcorner 20\r\n",
       "skinparam BoxPadding 20\r\n",
       "skinparam SequenceBoxBackgroundColor #white\r\n",
       "skinparam style strictuml\r\n",
       "skinparam maxMessageSize 100\r\n",
       " \r\n",
       "@enduml\r\n",
       "\n",
       "PlantUML version 1.2020.13(Sat Jun 13 12:26:38 UTC 2020)\n",
       "(EPL source distribution)\n",
       "Java Runtime: OpenJDK Runtime Environment\n",
       "JVM: OpenJDK 64-Bit Server VM\n",
       "Default Encoding: UTF-8\n",
       "Language: en\n",
       "Country: null\n",
       "--></g></svg>"
      ]
     },
     "execution_count": 35,
     "metadata": {},
     "output_type": "execute_result"
    }
   ],
   "source": [
    "%viz --style=\"PLANTUML\" --view=\"Sequence\" \"VerificationTest\""
   ]
  },
  {
   "cell_type": "code",
   "execution_count": 36,
   "id": "77f8e35d",
   "metadata": {
    "execution": {
     "iopub.execute_input": "2021-10-03T08:26:49.786215Z",
     "iopub.status.busy": "2021-10-03T08:26:49.785809Z",
     "iopub.status.idle": "2021-10-03T08:26:49.855050Z",
     "shell.execute_reply": "2021-10-03T08:26:49.854707Z"
    }
   },
   "outputs": [
    {
     "data": {
      "image/svg+xml": [
       "<?xml version=\"1.0\" encoding=\"UTF-8\" standalone=\"no\"?><svg xmlns=\"http://www.w3.org/2000/svg\" xmlns:xlink=\"http://www.w3.org/1999/xlink\" contentScriptType=\"application/ecmascript\" contentStyleType=\"text/css\" height=\"628px\" preserveAspectRatio=\"none\" style=\"width:1198px;height:628px;\" version=\"1.1\" viewBox=\"0 0 1198 628\" width=\"1198px\" zoomAndPan=\"magnify\"><defs><filter height=\"300%\" id=\"f15uhlys00a99f\" width=\"300%\" x=\"-1\" y=\"-1\"><feGaussianBlur result=\"blurOut\" stdDeviation=\"2.0\"/><feColorMatrix in=\"blurOut\" result=\"blurOut2\" type=\"matrix\" values=\"0 0 0 0 0 0 0 0 0 0 0 0 0 0 0 0 0 0 .4 0\"/><feOffset dx=\"4.0\" dy=\"4.0\" in=\"blurOut2\" result=\"blurOut3\"/><feBlend in=\"SourceGraphic\" in2=\"blurOut3\" mode=\"normal\"/></filter></defs><g><!--MD5=[fbc87193dbaf4d95561dea2c320d4a47]\n",
       "cluster E1--><a href=\"psysml:7303dfcd-df1a-4034-bc74-eb93457ec7c0\" target=\"_top\" title=\"psysml:7303dfcd-df1a-4034-bc74-eb93457ec7c0\" xlink:actuate=\"onRequest\" xlink:href=\"psysml:7303dfcd-df1a-4034-bc74-eb93457ec7c0\" xlink:show=\"new\" xlink:title=\"psysml:7303dfcd-df1a-4034-bc74-eb93457ec7c0\" xlink:type=\"simple\"><polygon fill=\"#FFFFFF\" filter=\"url(#f15uhlys00a99f)\" points=\"16,6,128,6,135,28.2969,1176,28.2969,1176,616,16,616,16,6\" style=\"stroke: #000000; stroke-width: 1.5;\"/><line style=\"stroke: #000000; stroke-width: 1.5;\" x1=\"16\" x2=\"135\" y1=\"28.2969\" y2=\"28.2969\"/><text fill=\"#000000\" font-family=\"sans-serif\" font-size=\"14\" font-weight=\"bold\" lengthAdjust=\"spacingAndGlyphs\" textLength=\"106\" x=\"20\" y=\"20.9951\">VerificationTest</text></a><!--MD5=[14e3b0961a2654348d326746436168a1]\n",
       "cluster E6--><a href=\"psysml:f44943ce-87bd-4d2b-91db-f66bd879bf72\" target=\"_top\" title=\"psysml:f44943ce-87bd-4d2b-91db-f66bd879bf72\" xlink:actuate=\"onRequest\" xlink:href=\"psysml:f44943ce-87bd-4d2b-91db-f66bd879bf72\" xlink:show=\"new\" xlink:title=\"psysml:f44943ce-87bd-4d2b-91db-f66bd879bf72\" xlink:type=\"simple\"><rect fill=\"#FFFFFF\" filter=\"url(#f15uhlys00a99f)\" height=\"310\" id=\"E6\" style=\"stroke: #A80036; stroke-width: 1.5;\" width=\"200\" x=\"960\" y=\"64\"/><rect fill=\"#FEFECE\" height=\"37.9375\" style=\"stroke: #A80036; stroke-width: 1.5;\" width=\"200\" x=\"960\" y=\"64\"/><text fill=\"#000000\" font-family=\"sans-serif\" font-size=\"12\" font-style=\"italic\" lengthAdjust=\"spacingAndGlyphs\" textLength=\"137\" x=\"991.5\" y=\"80.1387\">«verificationCase def»</text><text fill=\"#000000\" font-family=\"sans-serif\" font-size=\"12\" lengthAdjust=\"spacingAndGlyphs\" textLength=\"101\" x=\"1009.5\" y=\"94.1074\">VerificationCase</text></a><!--MD5=[7f149f147074ac12df2cb0a7728a5fb0]\n",
       "cluster E9--><a href=\"psysml:109e665d-9569-4e28-8454-db86a3b7365b\" target=\"_top\" title=\"psysml:109e665d-9569-4e28-8454-db86a3b7365b\" xlink:actuate=\"onRequest\" xlink:href=\"psysml:109e665d-9569-4e28-8454-db86a3b7365b\" xlink:show=\"new\" xlink:title=\"psysml:109e665d-9569-4e28-8454-db86a3b7365b\" xlink:type=\"simple\"><rect fill=\"#FFFFFF\" filter=\"url(#f15uhlys00a99f)\" height=\"410.5\" id=\"E9\" style=\"stroke: #A80036; stroke-width: 1.5;\" width=\"322\" x=\"370\" y=\"181.5\"/><rect fill=\"#FEFECE\" height=\"37.9375\" style=\"stroke: #A80036; stroke-width: 1.5;\" width=\"322\" x=\"370\" y=\"181.5\"/><text fill=\"#000000\" font-family=\"sans-serif\" font-size=\"12\" font-style=\"italic\" lengthAdjust=\"spacingAndGlyphs\" textLength=\"137\" x=\"462.5\" y=\"197.6387\">«verificationCase def»</text><text fill=\"#000000\" font-family=\"sans-serif\" font-size=\"12\" lengthAdjust=\"spacingAndGlyphs\" textLength=\"97\" x=\"482.5\" y=\"211.6074\">VerificationPlan</text></a><!--MD5=[917b9dd0c7eca3ee5f47219d1a84c0ad]\n",
       "cluster E11--><a href=\"psysml:d8eec309-4539-4ef6-b593-f8d5221313a5\" target=\"_top\" title=\"psysml:d8eec309-4539-4ef6-b593-f8d5221313a5\" xlink:actuate=\"onRequest\" xlink:href=\"psysml:d8eec309-4539-4ef6-b593-f8d5221313a5\" xlink:show=\"new\" xlink:title=\"psysml:d8eec309-4539-4ef6-b593-f8d5221313a5\" xlink:type=\"simple\"><rect fill=\"#FFFFFF\" filter=\"url(#f15uhlys00a99f)\" height=\"239\" id=\"E11\" rx=\"10\" ry=\"10\" style=\"stroke: #A80036; stroke-width: 1.5;\" width=\"174\" x=\"480\" y=\"315\"/><rect fill=\"#FEFECE\" height=\"37.9375\" rx=\"10\" ry=\"10\" style=\"stroke: #FEFECE; stroke-width: 1.5;\" width=\"174\" x=\"480\" y=\"315\"/><rect fill=\"#FEFECE\" height=\"10\" style=\"stroke: #FEFECE; stroke-width: 1.5;\" width=\"174\" x=\"480\" y=\"342.9375\"/><rect fill=\"none\" height=\"239\" id=\"E11\" rx=\"10\" ry=\"10\" style=\"stroke: #A80036; stroke-width: 1.5;\" width=\"174\" x=\"480\" y=\"315\"/><text fill=\"#000000\" font-family=\"sans-serif\" font-size=\"12\" font-style=\"italic\" lengthAdjust=\"spacingAndGlyphs\" textLength=\"113\" x=\"510.5\" y=\"331.1387\">«verificationCase»</text><text fill=\"#000000\" font-family=\"sans-serif\" font-size=\"12\" lengthAdjust=\"spacingAndGlyphs\" textLength=\"99\" x=\"517.5\" y=\"345.1074\">verificationCase</text><line style=\"stroke: #A80036; stroke-width: 1.0;\" x1=\"480\" x2=\"654\" y1=\"352.9375\" y2=\"352.9375\"/></a><!--MD5=[b4997ac47864f28c2f74865a473b2911]\n",
       "class E2--><a href=\"psysml:ee2cd088-4b38-485a-bdcf-f034eebaa933\" target=\"_top\" title=\"psysml:ee2cd088-4b38-485a-bdcf-f034eebaa933\" xlink:actuate=\"onRequest\" xlink:href=\"psysml:ee2cd088-4b38-485a-bdcf-f034eebaa933\" xlink:show=\"new\" xlink:title=\"psysml:ee2cd088-4b38-485a-bdcf-f034eebaa933\" xlink:type=\"simple\"><rect fill=\"#FEFECE\" filter=\"url(#f15uhlys00a99f)\" height=\"40\" id=\"E2\" style=\"stroke: #A80036; stroke-width: 1.5;\" width=\"40\" x=\"901\" y=\"161.5\"/><ellipse cx=\"916\" cy=\"177.5\" fill=\"#008000\" rx=\"11\" ry=\"11\" style=\"stroke: #A80036; stroke-width: 1.0;\"/><path d=\"M912.875,182.5 L912.875,171.9063 L916.1094,171.9063 Q918.0156,171.9063 918.9219,172.6563 Q919.8438,173.4063 919.8438,174.5781 Q919.8438,175.2656 919.4531,175.9219 Q919.0781,176.5781 918.3594,176.875 Q919.2188,177.25 919.7344,177.9375 Q920.25,178.625 920.25,179.4375 Q920.25,180.8125 919.2188,181.6563 Q918.2031,182.5 916.0938,182.5 L912.875,182.5 Z M914.7969,176.1406 L915.9531,176.1406 Q917.0781,176.1406 917.4844,175.7656 Q917.9063,175.375 917.9063,174.75 Q917.9063,174.1719 917.4844,173.8125 Q917.0625,173.4531 916.125,173.4531 L914.7969,173.4531 L914.7969,176.1406 Z M914.7969,180.9219 L916.2969,180.9219 Q917.2031,180.9219 917.7344,180.5313 Q918.2656,180.1406 918.2656,179.3906 Q918.2656,178.625 917.7656,178.1563 Q917.2656,177.6719 916,177.6719 L914.7969,177.6719 L914.7969,180.9219 Z \"/><text fill=\"#000000\" font-family=\"sans-serif\" font-size=\"12\" lengthAdjust=\"spacingAndGlyphs\" textLength=\"8\" x=\"930\" y=\"181.6543\">V</text><line style=\"stroke: #A80036; stroke-width: 1.5;\" x1=\"902\" x2=\"940\" y1=\"193.5\" y2=\"193.5\"/></a><!--MD5=[09b614a08d8cba4a07c9adeb5e0fee81]\n",
       "class E3--><a href=\"psysml:ea23779d-7b91-41e0-a4d1-5f0745e774d2\" target=\"_top\" title=\"psysml:ea23779d-7b91-41e0-a4d1-5f0745e774d2\" xlink:actuate=\"onRequest\" xlink:href=\"psysml:ea23779d-7b91-41e0-a4d1-5f0745e774d2\" xlink:show=\"new\" xlink:title=\"psysml:ea23779d-7b91-41e0-a4d1-5f0745e774d2\" xlink:type=\"simple\"><rect fill=\"#FEFECE\" filter=\"url(#f15uhlys00a99f)\" height=\"45.9375\" id=\"E3\" rx=\"10\" ry=\"10\" style=\"stroke: #A80036; stroke-width: 1.5;\" width=\"68\" x=\"884\" y=\"41\"/><ellipse cx=\"899\" cy=\"59.9688\" fill=\"#32CD32\" rx=\"11\" ry=\"11\" style=\"stroke: #A80036; stroke-width: 1.0;\"/><path d=\"M895.8125,64.9688 L895.8125,54.375 L899.4219,54.375 Q900.6406,54.375 901.4375,54.8125 Q902.2344,55.2344 902.6094,55.9375 Q903,56.6406 903,57.4844 Q903,58.3281 902.625,59.0156 Q902.2656,59.7031 901.4688,60.125 Q900.6875,60.5313 899.5,60.5313 L897.7656,60.5313 L897.7656,64.9688 L895.8125,64.9688 Z M897.7656,58.9375 L899.375,58.9375 Q900.1875,58.9375 900.6094,58.5313 Q901.0313,58.125 901.0313,57.4844 Q901.0313,56.8594 900.6094,56.4531 Q900.1875,56.0469 899.3906,56.0469 L897.7656,56.0469 L897.7656,58.9375 Z \"/><text fill=\"#000000\" font-family=\"sans-serif\" font-size=\"12\" font-style=\"italic\" lengthAdjust=\"spacingAndGlyphs\" textLength=\"40\" x=\"911\" y=\"57.1387\">«part»</text><text fill=\"#000000\" font-family=\"sans-serif\" font-size=\"12\" lengthAdjust=\"spacingAndGlyphs\" textLength=\"28\" x=\"917\" y=\"71.1074\">vv: V</text><line style=\"stroke: #A80036; stroke-width: 1.5;\" x1=\"885\" x2=\"951\" y1=\"78.9375\" y2=\"78.9375\"/></a><!--MD5=[ebbe1d658d1005bcc118a6aa81145e00]\n",
       "class E4--><a href=\"psysml:971e85b9-9957-4674-90a7-be3bf98856c5\" target=\"_top\" title=\"psysml:971e85b9-9957-4674-90a7-be3bf98856c5\" xlink:actuate=\"onRequest\" xlink:href=\"psysml:971e85b9-9957-4674-90a7-be3bf98856c5\" xlink:show=\"new\" xlink:title=\"psysml:971e85b9-9957-4674-90a7-be3bf98856c5\" xlink:type=\"simple\"><rect fill=\"#FEFECE\" filter=\"url(#f15uhlys00a99f)\" height=\"66.7422\" id=\"E4\" style=\"stroke: #A80036; stroke-width: 1.5;\" width=\"143\" x=\"722.5\" y=\"148\"/><ellipse cx=\"737.5\" cy=\"166.9688\" fill=\"#A52A2A\" rx=\"11\" ry=\"11\" style=\"stroke: #A80036; stroke-width: 1.0;\"/><path d=\"M734.7188,171.9688 L734.7188,161.375 L737.4531,161.375 Q738.8438,161.375 739.6094,161.7656 Q740.3906,162.1406 740.9219,162.8438 Q741.4531,163.5469 741.75,164.5469 Q742.0469,165.5313 742.0469,166.75 Q742,168.3438 741.5,169.5313 Q741.0156,170.7031 739.9688,171.3438 Q738.9375,171.9688 737.25,171.9688 L734.7188,171.9688 Z M736.5781,170.4688 L737.2031,170.4688 Q738.2813,170.4688 738.9375,170.0156 Q739.5938,169.5625 739.875,168.7344 Q740.1719,167.8906 740.1563,166.7656 Q740.1563,165.5938 739.9063,164.7344 Q739.6563,163.8594 739.0469,163.3906 Q738.4375,162.9063 737.3906,162.9063 L736.5781,162.9063 L736.5781,170.4688 Z \"/><text fill=\"#000000\" font-family=\"sans-serif\" font-size=\"12\" font-style=\"italic\" lengthAdjust=\"spacingAndGlyphs\" textLength=\"115\" x=\"749.5\" y=\"164.1387\">«requirement def»</text><text fill=\"#000000\" font-family=\"sans-serif\" font-size=\"12\" lengthAdjust=\"spacingAndGlyphs\" textLength=\"8\" x=\"803\" y=\"178.1074\">R</text><line style=\"stroke: #A80036; stroke-width: 1.5;\" x1=\"723.5\" x2=\"864.5\" y1=\"185.9375\" y2=\"185.9375\"/><text fill=\"#000000\" font-family=\"sans-serif\" font-size=\"11\" lengthAdjust=\"spacingAndGlyphs\" textLength=\"12\" x=\"728.5\" y=\"200.1479\">...</text><line style=\"stroke: #A80036; stroke-width: 1.0;\" x1=\"723.5\" x2=\"864.5\" y1=\"206.7422\" y2=\"206.7422\"/></a><!--MD5=[270fce915f116d4de14055a7c1d9a0f3]\n",
       "class E5--><a href=\"psysml:bbcd2223-85a4-4701-a24f-5592c5712336\" target=\"_top\" title=\"psysml:bbcd2223-85a4-4701-a24f-5592c5712336\" xlink:actuate=\"onRequest\" xlink:href=\"psysml:bbcd2223-85a4-4701-a24f-5592c5712336\" xlink:show=\"new\" xlink:title=\"psysml:bbcd2223-85a4-4701-a24f-5592c5712336\" xlink:type=\"simple\"><rect fill=\"#FEFECE\" filter=\"url(#f15uhlys00a99f)\" height=\"45.9375\" id=\"E5\" rx=\"10\" ry=\"10\" style=\"stroke: #A80036; stroke-width: 1.5;\" width=\"119\" x=\"729.5\" y=\"41\"/><ellipse cx=\"744.5\" cy=\"59.9688\" fill=\"#FFA500\" rx=\"11\" ry=\"11\" style=\"stroke: #A80036; stroke-width: 1.0;\"/><path d=\"M744.25,65.4375 Q742.5,65.4375 741.5469,64.4063 Q740.6094,63.3594 740.6094,61.5156 L740.6094,54.625 L742.6719,54.625 L742.6719,54.7813 Q742.5781,54.875 742.5469,55.0156 Q742.5313,55.1406 742.5313,55.4063 L742.5313,61.5313 Q742.5313,62.625 742.9063,63.25 Q743.2813,63.875 744.2656,63.875 Q745.25,63.875 745.6406,63.25 Q746.0313,62.625 746.0313,61.4844 L746.0313,54.625 L747.9063,54.625 L747.9063,61.4688 Q747.9063,63.5 746.875,64.4688 Q745.8594,65.4375 744.25,65.4375 Z \"/><text fill=\"#000000\" font-family=\"sans-serif\" font-size=\"12\" font-style=\"italic\" lengthAdjust=\"spacingAndGlyphs\" textLength=\"91\" x=\"756.5\" y=\"57.1387\">«requirement»</text><text fill=\"#000000\" font-family=\"sans-serif\" font-size=\"12\" lengthAdjust=\"spacingAndGlyphs\" textLength=\"21\" x=\"791.5\" y=\"71.1074\">r: R</text><line style=\"stroke: #A80036; stroke-width: 1.5;\" x1=\"730.5\" x2=\"847.5\" y1=\"78.9375\" y2=\"78.9375\"/></a><!--MD5=[0c48fb7552dae8cbbef69381101a84c8]\n",
       "class E15--><a href=\"psysml:1ba0f1fa-2142-46f9-b759-d2e88bd368a2\" target=\"_top\" title=\"psysml:1ba0f1fa-2142-46f9-b759-d2e88bd368a2\" xlink:actuate=\"onRequest\" xlink:href=\"psysml:1ba0f1fa-2142-46f9-b759-d2e88bd368a2\" xlink:show=\"new\" xlink:title=\"psysml:1ba0f1fa-2142-46f9-b759-d2e88bd368a2\" xlink:type=\"simple\"><rect fill=\"#FEFECE\" filter=\"url(#f15uhlys00a99f)\" height=\"45.9375\" id=\"E15\" rx=\"10\" ry=\"10\" style=\"stroke: #A80036; stroke-width: 1.5;\" width=\"148\" x=\"74\" y=\"41\"/><ellipse cx=\"89\" cy=\"59.9688\" fill=\"#32CD32\" rx=\"11\" ry=\"11\" style=\"stroke: #A80036; stroke-width: 1.0;\"/><path d=\"M85.8125,64.9688 L85.8125,54.375 L89.4219,54.375 Q90.6406,54.375 91.4375,54.8125 Q92.2344,55.2344 92.6094,55.9375 Q93,56.6406 93,57.4844 Q93,58.3281 92.625,59.0156 Q92.2656,59.7031 91.4688,60.125 Q90.6875,60.5313 89.5,60.5313 L87.7656,60.5313 L87.7656,64.9688 L85.8125,64.9688 Z M87.7656,58.9375 L89.375,58.9375 Q90.1875,58.9375 90.6094,58.5313 Q91.0313,58.125 91.0313,57.4844 Q91.0313,56.8594 90.6094,56.4531 Q90.1875,56.0469 89.3906,56.0469 L87.7656,56.0469 L87.7656,58.9375 Z \"/><text fill=\"#000000\" font-family=\"sans-serif\" font-size=\"12\" font-style=\"italic\" lengthAdjust=\"spacingAndGlyphs\" textLength=\"40\" x=\"141\" y=\"57.1387\">«part»</text><text fill=\"#000000\" font-family=\"sans-serif\" font-size=\"12\" lengthAdjust=\"spacingAndGlyphs\" textLength=\"116\" x=\"103\" y=\"71.1074\">verificationContext</text><line style=\"stroke: #A80036; stroke-width: 1.5;\" x1=\"75\" x2=\"221\" y1=\"78.9375\" y2=\"78.9375\"/></a><!--MD5=[35f0587eaee8d5bb9a02e25b63afc23b]\n",
       "class E16--><a href=\"psysml:f139e62b-7bf9-43a0-a382-40038ed35c63\" target=\"_top\" title=\"psysml:f139e62b-7bf9-43a0-a382-40038ed35c63\" xlink:actuate=\"onRequest\" xlink:href=\"psysml:f139e62b-7bf9-43a0-a382-40038ed35c63\" xlink:show=\"new\" xlink:title=\"psysml:f139e62b-7bf9-43a0-a382-40038ed35c63\" xlink:type=\"simple\"><rect fill=\"#FEFECE\" filter=\"url(#f15uhlys00a99f)\" height=\"45.9375\" id=\"E16\" rx=\"10\" ry=\"10\" style=\"stroke: #A80036; stroke-width: 1.5;\" width=\"232\" x=\"32\" y=\"158.5\"/><ellipse cx=\"47\" cy=\"177.4688\" fill=\"#FFA500\" rx=\"11\" ry=\"11\" style=\"stroke: #A80036; stroke-width: 1.0;\"/><path d=\"M46.75,182.9375 Q45,182.9375 44.0469,181.9063 Q43.1094,180.8594 43.1094,179.0156 L43.1094,172.125 L45.1719,172.125 L45.1719,172.2813 Q45.0781,172.375 45.0469,172.5156 Q45.0313,172.6406 45.0313,172.9063 L45.0313,179.0313 Q45.0313,180.125 45.4063,180.75 Q45.7813,181.375 46.7656,181.375 Q47.75,181.375 48.1406,180.75 Q48.5313,180.125 48.5313,178.9844 L48.5313,172.125 L50.4063,172.125 L50.4063,178.9688 Q50.4063,181 49.375,181.9688 Q48.3594,182.9375 46.75,182.9375 Z \"/><text fill=\"#000000\" font-family=\"sans-serif\" font-size=\"12\" font-style=\"italic\" lengthAdjust=\"spacingAndGlyphs\" textLength=\"113\" x=\"104.5\" y=\"174.6387\">«verificationCase»</text><text fill=\"#000000\" font-family=\"sans-serif\" font-size=\"12\" lengthAdjust=\"spacingAndGlyphs\" textLength=\"200\" x=\"61\" y=\"188.6074\">verificationPlan: VerificationPlan</text><line style=\"stroke: #A80036; stroke-width: 1.5;\" x1=\"33\" x2=\"263\" y1=\"196.4375\" y2=\"196.4375\"/></a><!--MD5=[60e55a4a9b2f0dc0a36787c5a2095786]\n",
       "class E17--><a href=\"psysml:fe640fc2-093c-44fe-a9fd-0ceecb8f463c\" target=\"_top\" title=\"psysml:fe640fc2-093c-44fe-a9fd-0ceecb8f463c\" xlink:actuate=\"onRequest\" xlink:href=\"psysml:fe640fc2-093c-44fe-a9fd-0ceecb8f463c\" xlink:show=\"new\" xlink:title=\"psysml:fe640fc2-093c-44fe-a9fd-0ceecb8f463c\" xlink:type=\"simple\"><rect fill=\"#FEFECE\" filter=\"url(#f15uhlys00a99f)\" height=\"45.9375\" id=\"E17\" rx=\"10\" ry=\"10\" style=\"stroke: #A80036; stroke-width: 1.5;\" width=\"119\" x=\"88.5\" y=\"292\"/><ellipse cx=\"103.5\" cy=\"310.9688\" fill=\"#FFA500\" rx=\"11\" ry=\"11\" style=\"stroke: #A80036; stroke-width: 1.0;\"/><path d=\"M103.25,316.4375 Q101.5,316.4375 100.5469,315.4063 Q99.6094,314.3594 99.6094,312.5156 L99.6094,305.625 L101.6719,305.625 L101.6719,305.7813 Q101.5781,305.875 101.5469,306.0156 Q101.5313,306.1406 101.5313,306.4063 L101.5313,312.5313 Q101.5313,313.625 101.9063,314.25 Q102.2813,314.875 103.2656,314.875 Q104.25,314.875 104.6406,314.25 Q105.0313,313.625 105.0313,312.4844 L105.0313,305.625 L106.9063,305.625 L106.9063,312.4688 Q106.9063,314.5 105.875,315.4688 Q104.8594,316.4375 103.25,316.4375 Z \"/><text fill=\"#000000\" font-family=\"sans-serif\" font-size=\"12\" font-style=\"italic\" lengthAdjust=\"spacingAndGlyphs\" textLength=\"91\" x=\"115.5\" y=\"308.1387\">«requirement»</text><text fill=\"#000000\" font-family=\"sans-serif\" font-size=\"12\" lengthAdjust=\"spacingAndGlyphs\" textLength=\"19\" x=\"151.5\" y=\"322.1074\">obj</text><line style=\"stroke: #A80036; stroke-width: 1.5;\" x1=\"89.5\" x2=\"206.5\" y1=\"329.9375\" y2=\"329.9375\"/></a><text fill=\"#000000\" font-family=\"sans-serif\" font-size=\"14\" lengthAdjust=\"spacingAndGlyphs\" textLength=\"7\" x=\"1056.5\" y=\"42.6982\">v</text><rect fill=\"#A80036\" height=\"12\" style=\"stroke: #FEFECE; stroke-width: 1.5;\" width=\"12\" x=\"1054\" y=\"58\"/><text fill=\"#000000\" font-family=\"sans-serif\" font-size=\"14\" lengthAdjust=\"spacingAndGlyphs\" textLength=\"46\" x=\"1037\" y=\"392.9951\">verdict</text><rect fill=\"#A80036\" height=\"12\" style=\"stroke: #FEFECE; stroke-width: 1.5;\" width=\"12\" x=\"1054\" y=\"368\"/><text fill=\"#000000\" font-family=\"sans-serif\" font-size=\"14\" lengthAdjust=\"spacingAndGlyphs\" textLength=\"7\" x=\"384.5\" y=\"160.1982\">v</text><rect fill=\"#A80036\" height=\"12\" style=\"stroke: #FEFECE; stroke-width: 1.5;\" width=\"12\" x=\"382\" y=\"175.5\"/><text fill=\"#000000\" font-family=\"sans-serif\" font-size=\"14\" lengthAdjust=\"spacingAndGlyphs\" textLength=\"46\" x=\"669\" y=\"499.9951\">verdict</text><rect fill=\"#A80036\" height=\"12\" style=\"stroke: #FEFECE; stroke-width: 1.5;\" width=\"12\" x=\"686\" y=\"475\"/><text fill=\"#000000\" font-family=\"sans-serif\" font-size=\"14\" lengthAdjust=\"spacingAndGlyphs\" textLength=\"46\" x=\"544\" y=\"572.9951\">verdict</text><rect fill=\"#A80036\" height=\"12\" style=\"stroke: #FEFECE; stroke-width: 1.5;\" width=\"12\" x=\"561\" y=\"548\"/><text fill=\"#000000\" font-family=\"sans-serif\" font-size=\"14\" lengthAdjust=\"spacingAndGlyphs\" textLength=\"7\" x=\"563.5\" y=\"293.6982\">v</text><rect fill=\"#A80036\" height=\"12\" style=\"stroke: #FEFECE; stroke-width: 1.5;\" width=\"12\" x=\"561\" y=\"309\"/><!--MD5=[05d275557350bfb9b23a4ef7222b4c39]\n",
       "link E3 to E2--><a href=\"psysml:2b222a15-a90b-432a-993d-d339516ea993\" target=\"_top\" title=\"psysml:2b222a15-a90b-432a-993d-d339516ea993\" xlink:actuate=\"onRequest\" xlink:href=\"psysml:2b222a15-a90b-432a-993d-d339516ea993\" xlink:show=\"new\" xlink:title=\"psysml:2b222a15-a90b-432a-993d-d339516ea993\" xlink:type=\"simple\"><path d=\"M918.58,87.27 C918.98,102.56 919.51,123.26 919.98,141.27 \" fill=\"none\" id=\"E3-&gt;E2\" style=\"stroke: #A80036; stroke-width: 1.0;\"/><polygon fill=\"#FFFFFF\" points=\"920.5,161.36,913.0136,142.5464,927.0089,142.1862,920.5,161.36\" style=\"stroke: #A80036; stroke-width: 1.0;\"/><ellipse cx=\"914.8663\" cy=\"136.7968\" fill=\"#A80036\" rx=\"2\" ry=\"2\" style=\"stroke: #A80036; stroke-width: 1.0;\"/><ellipse cx=\"924.863\" cy=\"136.5396\" fill=\"#A80036\" rx=\"2\" ry=\"2\" style=\"stroke: #A80036; stroke-width: 1.0;\"/></a><!--MD5=[1c62de2aa5b76f0fb657ff8443a1a700]\n",
       "link E5 to E4--><a href=\"psysml:4afeeb28-a204-4e17-a080-31f9a6d380ec\" target=\"_top\" title=\"psysml:4afeeb28-a204-4e17-a080-31f9a6d380ec\" xlink:actuate=\"onRequest\" xlink:href=\"psysml:4afeeb28-a204-4e17-a080-31f9a6d380ec\" xlink:show=\"new\" xlink:title=\"psysml:4afeeb28-a204-4e17-a080-31f9a6d380ec\" xlink:type=\"simple\"><path d=\"M789.96,87.27 C790.46,98.81 791.1,113.43 791.71,127.66 \" fill=\"none\" id=\"E5-&gt;E4\" style=\"stroke: #A80036; stroke-width: 1.0;\"/><polygon fill=\"#FFFFFF\" points=\"792.58,147.81,784.7584,129.1332,798.7451,128.5229,792.58,147.81\" style=\"stroke: #A80036; stroke-width: 1.0;\"/><ellipse cx=\"786.508\" cy=\"123.3514\" fill=\"#A80036\" rx=\"2\" ry=\"2\" style=\"stroke: #A80036; stroke-width: 1.0;\"/><ellipse cx=\"796.4985\" cy=\"122.9155\" fill=\"#A80036\" rx=\"2\" ry=\"2\" style=\"stroke: #A80036; stroke-width: 1.0;\"/></a><!--MD5=[58e4cf537c4d67f6b3da95fd5b934e63]\n",
       "reverse link E15 to E16--><a href=\"psysml:4d9ca163-dfe0-49d5-81cb-3058dc3dad3f\" target=\"_top\" title=\"psysml:4d9ca163-dfe0-49d5-81cb-3058dc3dad3f\" xlink:actuate=\"onRequest\" xlink:href=\"psysml:4d9ca163-dfe0-49d5-81cb-3058dc3dad3f\" xlink:show=\"new\" xlink:title=\"psysml:4d9ca163-dfe0-49d5-81cb-3058dc3dad3f\" xlink:type=\"simple\"><path d=\"M148,100.49 C148,119.35 148,141.94 148,158.3 \" fill=\"none\" id=\"E15&lt;-E16\" style=\"stroke: #A80036; stroke-width: 1.0;\"/><polygon fill=\"#A80036\" points=\"148,87.27,144,93.27,148,99.27,152,93.27,148,87.27\" style=\"stroke: #A80036; stroke-width: 1.0;\"/></a><!--MD5=[4de2d328c39b6d65fb95a84ef336270e]\n",
       "link E16 to E9--><a href=\"psysml:cd73bb42-520f-4e04-8240-7f040abbe442\" target=\"_top\" title=\"psysml:cd73bb42-520f-4e04-8240-7f040abbe442\" xlink:actuate=\"onRequest\" xlink:href=\"psysml:cd73bb42-520f-4e04-8240-7f040abbe442\" xlink:show=\"new\" xlink:title=\"psysml:cd73bb42-520f-4e04-8240-7f040abbe442\" xlink:type=\"simple\"><path d=\"M188.17,204.51 C235.94,230.69 314.61,273.79 357.61,297.35 \" fill=\"none\" id=\"E16-&gt;E9\" style=\"stroke: #A80036; stroke-width: 1.0;\"/><polygon fill=\"#FFFFFF\" points=\"357.61,297.35,337.5836,294.3593,344.3108,282.0814,357.61,297.35\" style=\"stroke: #A80036; stroke-width: 1.0;\"/><ellipse cx=\"333.5458\" cy=\"289.8664\" fill=\"#A80036\" rx=\"2\" ry=\"2\" style=\"stroke: #A80036; stroke-width: 1.0;\"/><ellipse cx=\"338.3509\" cy=\"281.0965\" fill=\"#A80036\" rx=\"2\" ry=\"2\" style=\"stroke: #A80036; stroke-width: 1.0;\"/></a><!--MD5=[450e3481f1c83a03a55fcf78b0bbbde6]\n",
       "link E16 to E17--><a href=\"psysml:e29f10bd-d5bc-4797-97ab-a37fb0e5db5b\" target=\"_top\" title=\"psysml:e29f10bd-d5bc-4797-97ab-a37fb0e5db5b\" xlink:actuate=\"onRequest\" xlink:href=\"psysml:e29f10bd-d5bc-4797-97ab-a37fb0e5db5b\" xlink:show=\"new\" xlink:title=\"psysml:e29f10bd-d5bc-4797-97ab-a37fb0e5db5b\" xlink:type=\"simple\"><path d=\"M148,204.51 C148,226.22 148,259.59 148,283.78 \" fill=\"none\" id=\"E16-&gt;E17\" style=\"stroke: #A80036; stroke-width: 1.0;\"/><polygon fill=\"#A80036\" points=\"148,291.92,151,283.92,145,283.92,148,291.92\" style=\"stroke: #A80036; stroke-width: 1.0;\"/><text fill=\"#000000\" font-family=\"sans-serif\" font-size=\"13\" lengthAdjust=\"spacingAndGlyphs\" textLength=\"73\" x=\"149\" y=\"258.0669\">«objective»</text><text fill=\"#000000\" font-family=\"sans-serif\" font-size=\"13\" lengthAdjust=\"spacingAndGlyphs\" textLength=\"7\" x=\"140.0594\" y=\"280.7948\">*</text></a><!--MD5=[2e2c15406bbfaaf455e1ca60ef944858]\n",
       "@startuml\r\n",
       " \r\n",
       "package \"VerificationTest\" as E1  [[psysml:7303dfcd-df1a-4034-bc74-eb93457ec7c0 ]]  {\r\n",
       "comp def \"V\" as E2 << << (B,green) >> [[psysml:ee2cd088-4b38-485a-bdcf-f034eebaa933 ]] {\r\n",
       "}\r\n",
       "comp usage \"vv: V\" as E3 << << (P,limegreen) part>> [[psysml:ea23779d-7b91-41e0-a4d1-5f0745e774d2 ]] {\r\n",
       "}\r\n",
       "comp def \"R\" as E4 << <<(D,brown) requirement def>> [[psysml:971e85b9-9957-4674-90a7-be3bf98856c5 ]] {\r\n",
       "...\r\n",
       "- -\r\n",
       "}\r\n",
       "comp usage \"r: R\" as E5 << <<(U,orange) requirement>> [[psysml:bbcd2223-85a4-4701-a24f-5592c5712336 ]] {\r\n",
       "}\r\n",
       "rec def \"VerificationCase\" as E6 << <<(B,lemonchiffon) verificationCase def>> [[psysml:f44943ce-87bd-4d2b-91db-f66bd879bf72 ]] {\r\n",
       "portin \"v\" as E7  [[psysml:39e4c68a-7e48-4018-a595-005447bc25d1 ]] \r\n",
       "portout \"verdict\" as E8  [[psysml:e7480a5a-bc03-4bfb-926c-ff77790341ab ]] \r\n",
       "}\r\n",
       "\r\n",
       "rec def \"VerificationPlan\" as E9 << <<(B,lemonchiffon) verificationCase def>> [[psysml:109e665d-9569-4e28-8454-db86a3b7365b ]] {\r\n",
       "portin \"v\" as E10  [[psysml:bc04aa0f-1251-4bd1-9492-821de83ad0f4 ]] \r\n",
       "rec usage \"verificationCase\" as E11 << <<(U,orange) verificationCase>> [[psysml:d8eec309-4539-4ef6-b593-f8d5221313a5 ]] {\r\n",
       "portout \"verdict\" as E12  [[psysml:d4b19012-2d8f-412c-81cb-04106ed54ab9 ]] \r\n",
       "portin \"v\" as E13  [[psysml:101691aa-2b16-4439-bb49-3b5a9750b72a ]] \r\n",
       "}\r\n",
       "\r\n",
       "portout \"verdict\" as E14  [[psysml:d1cc474d-a7ae-4245-8f3b-eac2c389ad3d ]] \r\n",
       "}\r\n",
       "\r\n",
       "comp usage \"verificationContext\" as E15 << << (P,limegreen) part>> [[psysml:1ba0f1fa-2142-46f9-b759-d2e88bd368a2 ]] {\r\n",
       "}\r\n",
       "comp usage \"verificationPlan: VerificationPlan\" as E16 << <<(U,orange) verificationCase>> [[psysml:f139e62b-7bf9-43a0-a382-40038ed35c63 ]] {\r\n",
       "}\r\n",
       "comp usage \"obj\" as E17 << <<(U,orange) requirement>> [[psysml:fe640fc2-093c-44fe-a9fd-0ceecb8f463c ]] {\r\n",
       "}\r\n",
       "}\r\n",
       "E3 - -:|> E2 [[psysml:2b222a15-a90b-432a-993d-d339516ea993 ]] \r\n",
       "E5 - -:|> E4 [[psysml:4afeeb28-a204-4e17-a080-31f9a6d380ec ]] \r\n",
       "E15 *- - E16 [[psysml:4d9ca163-dfe0-49d5-81cb-3058dc3dad3f ]] \r\n",
       "E16 - -:|> E9 [[psysml:cd73bb42-520f-4e04-8240-7f040abbe442 ]] \r\n",
       "E16 - ->> \"*\"E17 [[psysml:e29f10bd-d5bc-4797-97ab-a37fb0e5db5b ]] : <<objective>>\r\n",
       "@enduml\r\n",
       "\n",
       "PlantUML version 1.2020.13(Sat Jun 13 12:26:38 UTC 2020)\n",
       "(EPL source distribution)\n",
       "Java Runtime: OpenJDK Runtime Environment\n",
       "JVM: OpenJDK 64-Bit Server VM\n",
       "Default Encoding: UTF-8\n",
       "Language: en\n",
       "Country: null\n",
       "--></g></svg>"
      ]
     },
     "execution_count": 36,
     "metadata": {},
     "output_type": "execute_result"
    }
   ],
   "source": [
    "%viz --style=\"PLANTUML\" --view=\"MIXED\" \"VerificationTest\""
   ]
  },
  {
   "cell_type": "code",
   "execution_count": 37,
   "id": "01ec2261",
   "metadata": {
    "execution": {
     "iopub.execute_input": "2021-10-03T08:26:49.903964Z",
     "iopub.status.busy": "2021-10-03T08:26:49.903550Z",
     "iopub.status.idle": "2021-10-03T08:26:49.963671Z",
     "shell.execute_reply": "2021-10-03T08:26:49.963311Z"
    }
   },
   "outputs": [
    {
     "data": {
      "image/svg+xml": [
       "<?xml version=\"1.0\" encoding=\"UTF-8\" standalone=\"no\"?><svg xmlns=\"http://www.w3.org/2000/svg\" xmlns:xlink=\"http://www.w3.org/1999/xlink\" contentScriptType=\"application/ecmascript\" contentStyleType=\"text/css\" height=\"628px\" preserveAspectRatio=\"none\" style=\"width:1172px;height:628px;\" version=\"1.1\" viewBox=\"0 0 1172 628\" width=\"1172px\" zoomAndPan=\"magnify\"><defs/><g><!--MD5=[fbc87193dbaf4d95561dea2c320d4a47]\n",
       "cluster E1--><a href=\"psysml:7303dfcd-df1a-4034-bc74-eb93457ec7c0\" target=\"_top\" title=\"psysml:7303dfcd-df1a-4034-bc74-eb93457ec7c0\" xlink:actuate=\"onRequest\" xlink:href=\"psysml:7303dfcd-df1a-4034-bc74-eb93457ec7c0\" xlink:show=\"new\" xlink:title=\"psysml:7303dfcd-df1a-4034-bc74-eb93457ec7c0\" xlink:type=\"simple\"><polygon fill=\"#FFFFFF\" points=\"16,6,128,6,135,28.2969,1150,28.2969,1150,616,16,616,16,6\" style=\"stroke: #000000; stroke-width: 1.5;\"/><line style=\"stroke: #000000; stroke-width: 1.5;\" x1=\"16\" x2=\"135\" y1=\"28.2969\" y2=\"28.2969\"/><text fill=\"#000000\" font-family=\"sans-serif\" font-size=\"14\" font-weight=\"bold\" lengthAdjust=\"spacingAndGlyphs\" textLength=\"106\" x=\"20\" y=\"20.9951\">VerificationTest</text></a><!--MD5=[14e3b0961a2654348d326746436168a1]\n",
       "cluster E6--><a href=\"psysml:f44943ce-87bd-4d2b-91db-f66bd879bf72\" target=\"_top\" title=\"psysml:f44943ce-87bd-4d2b-91db-f66bd879bf72\" xlink:actuate=\"onRequest\" xlink:href=\"psysml:f44943ce-87bd-4d2b-91db-f66bd879bf72\" xlink:show=\"new\" xlink:title=\"psysml:f44943ce-87bd-4d2b-91db-f66bd879bf72\" xlink:type=\"simple\"><rect fill=\"#FFFFFF\" height=\"310\" id=\"E6\" style=\"stroke: #383838; stroke-width: 1.5;\" width=\"200\" x=\"934\" y=\"64\"/><rect fill=\"#F8F8F8\" height=\"37.9375\" style=\"stroke: #383838; stroke-width: 1.5;\" width=\"200\" x=\"934\" y=\"64\"/><text fill=\"#000000\" font-family=\"sans-serif\" font-size=\"12\" font-style=\"italic\" lengthAdjust=\"spacingAndGlyphs\" textLength=\"137\" x=\"965.5\" y=\"80.1387\">«verificationCase def»</text><text fill=\"#000000\" font-family=\"sans-serif\" font-size=\"12\" lengthAdjust=\"spacingAndGlyphs\" textLength=\"101\" x=\"983.5\" y=\"94.1074\">VerificationCase</text></a><!--MD5=[7f149f147074ac12df2cb0a7728a5fb0]\n",
       "cluster E9--><a href=\"psysml:109e665d-9569-4e28-8454-db86a3b7365b\" target=\"_top\" title=\"psysml:109e665d-9569-4e28-8454-db86a3b7365b\" xlink:actuate=\"onRequest\" xlink:href=\"psysml:109e665d-9569-4e28-8454-db86a3b7365b\" xlink:show=\"new\" xlink:title=\"psysml:109e665d-9569-4e28-8454-db86a3b7365b\" xlink:type=\"simple\"><rect fill=\"#FFFFFF\" height=\"410.5\" id=\"E9\" style=\"stroke: #383838; stroke-width: 1.5;\" width=\"322\" x=\"344\" y=\"181.5\"/><rect fill=\"#F8F8F8\" height=\"37.9375\" style=\"stroke: #383838; stroke-width: 1.5;\" width=\"322\" x=\"344\" y=\"181.5\"/><text fill=\"#000000\" font-family=\"sans-serif\" font-size=\"12\" font-style=\"italic\" lengthAdjust=\"spacingAndGlyphs\" textLength=\"137\" x=\"436.5\" y=\"197.6387\">«verificationCase def»</text><text fill=\"#000000\" font-family=\"sans-serif\" font-size=\"12\" lengthAdjust=\"spacingAndGlyphs\" textLength=\"97\" x=\"456.5\" y=\"211.6074\">VerificationPlan</text></a><!--MD5=[917b9dd0c7eca3ee5f47219d1a84c0ad]\n",
       "cluster E11--><a href=\"psysml:d8eec309-4539-4ef6-b593-f8d5221313a5\" target=\"_top\" title=\"psysml:d8eec309-4539-4ef6-b593-f8d5221313a5\" xlink:actuate=\"onRequest\" xlink:href=\"psysml:d8eec309-4539-4ef6-b593-f8d5221313a5\" xlink:show=\"new\" xlink:title=\"psysml:d8eec309-4539-4ef6-b593-f8d5221313a5\" xlink:type=\"simple\"><rect fill=\"#FFFFFF\" height=\"239\" id=\"E11\" rx=\"10\" ry=\"10\" style=\"stroke: #383838; stroke-width: 1.5;\" width=\"174\" x=\"454\" y=\"315\"/><rect fill=\"#F8F8F8\" height=\"37.9375\" rx=\"10\" ry=\"10\" style=\"stroke: #F8F8F8; stroke-width: 1.5;\" width=\"174\" x=\"454\" y=\"315\"/><rect fill=\"#F8F8F8\" height=\"10\" style=\"stroke: #F8F8F8; stroke-width: 1.5;\" width=\"174\" x=\"454\" y=\"342.9375\"/><rect fill=\"none\" height=\"239\" id=\"E11\" rx=\"10\" ry=\"10\" style=\"stroke: #383838; stroke-width: 1.5;\" width=\"174\" x=\"454\" y=\"315\"/><text fill=\"#000000\" font-family=\"sans-serif\" font-size=\"12\" font-style=\"italic\" lengthAdjust=\"spacingAndGlyphs\" textLength=\"113\" x=\"484.5\" y=\"331.1387\">«verificationCase»</text><text fill=\"#000000\" font-family=\"sans-serif\" font-size=\"12\" lengthAdjust=\"spacingAndGlyphs\" textLength=\"99\" x=\"491.5\" y=\"345.1074\">verificationCase</text><line style=\"stroke: #383838; stroke-width: 1.0;\" x1=\"454\" x2=\"628\" y1=\"352.9375\" y2=\"352.9375\"/></a><!--MD5=[b4997ac47864f28c2f74865a473b2911]\n",
       "class E2--><a href=\"psysml:ee2cd088-4b38-485a-bdcf-f034eebaa933\" target=\"_top\" title=\"psysml:ee2cd088-4b38-485a-bdcf-f034eebaa933\" xlink:actuate=\"onRequest\" xlink:href=\"psysml:ee2cd088-4b38-485a-bdcf-f034eebaa933\" xlink:show=\"new\" xlink:title=\"psysml:ee2cd088-4b38-485a-bdcf-f034eebaa933\" xlink:type=\"simple\"><rect fill=\"#FFFFFF\" height=\"45.9375\" id=\"E2\" style=\"stroke: #383838; stroke-width: 1.5;\" width=\"66\" x=\"849\" y=\"158.5\"/><text fill=\"#000000\" font-family=\"sans-serif\" font-size=\"12\" font-style=\"italic\" lengthAdjust=\"spacingAndGlyphs\" textLength=\"64\" x=\"850\" y=\"174.6387\">«part def»</text><text fill=\"#000000\" font-family=\"sans-serif\" font-size=\"12\" lengthAdjust=\"spacingAndGlyphs\" textLength=\"8\" x=\"878\" y=\"188.6074\">V</text><line style=\"stroke: #383838; stroke-width: 1.5;\" x1=\"850\" x2=\"914\" y1=\"196.4375\" y2=\"196.4375\"/></a><!--MD5=[09b614a08d8cba4a07c9adeb5e0fee81]\n",
       "class E3--><a href=\"psysml:ea23779d-7b91-41e0-a4d1-5f0745e774d2\" target=\"_top\" title=\"psysml:ea23779d-7b91-41e0-a4d1-5f0745e774d2\" xlink:actuate=\"onRequest\" xlink:href=\"psysml:ea23779d-7b91-41e0-a4d1-5f0745e774d2\" xlink:show=\"new\" xlink:title=\"psysml:ea23779d-7b91-41e0-a4d1-5f0745e774d2\" xlink:type=\"simple\"><rect fill=\"#FFFFFF\" height=\"45.9375\" id=\"E3\" rx=\"10\" ry=\"10\" style=\"stroke: #383838; stroke-width: 1.5;\" width=\"42\" x=\"861\" y=\"41\"/><text fill=\"#000000\" font-family=\"sans-serif\" font-size=\"12\" font-style=\"italic\" lengthAdjust=\"spacingAndGlyphs\" textLength=\"40\" x=\"862\" y=\"57.1387\">«part»</text><text fill=\"#000000\" font-family=\"sans-serif\" font-size=\"12\" lengthAdjust=\"spacingAndGlyphs\" textLength=\"28\" x=\"868\" y=\"71.1074\">vv: V</text><line style=\"stroke: #383838; stroke-width: 1.5;\" x1=\"862\" x2=\"902\" y1=\"78.9375\" y2=\"78.9375\"/></a><!--MD5=[ebbe1d658d1005bcc118a6aa81145e00]\n",
       "class E4--><a href=\"psysml:971e85b9-9957-4674-90a7-be3bf98856c5\" target=\"_top\" title=\"psysml:971e85b9-9957-4674-90a7-be3bf98856c5\" xlink:actuate=\"onRequest\" xlink:href=\"psysml:971e85b9-9957-4674-90a7-be3bf98856c5\" xlink:show=\"new\" xlink:title=\"psysml:971e85b9-9957-4674-90a7-be3bf98856c5\" xlink:type=\"simple\"><rect fill=\"#FFFFFF\" height=\"66.7422\" id=\"E4\" style=\"stroke: #383838; stroke-width: 1.5;\" width=\"117\" x=\"696.5\" y=\"148\"/><text fill=\"#000000\" font-family=\"sans-serif\" font-size=\"12\" font-style=\"italic\" lengthAdjust=\"spacingAndGlyphs\" textLength=\"115\" x=\"697.5\" y=\"164.1387\">«requirement def»</text><text fill=\"#000000\" font-family=\"sans-serif\" font-size=\"12\" lengthAdjust=\"spacingAndGlyphs\" textLength=\"8\" x=\"751\" y=\"178.1074\">R</text><line style=\"stroke: #383838; stroke-width: 1.5;\" x1=\"697.5\" x2=\"812.5\" y1=\"185.9375\" y2=\"185.9375\"/><text fill=\"#000000\" font-family=\"sans-serif\" font-size=\"11\" lengthAdjust=\"spacingAndGlyphs\" textLength=\"12\" x=\"702.5\" y=\"200.1479\">...</text><line style=\"stroke: #383838; stroke-width: 1.0;\" x1=\"697.5\" x2=\"812.5\" y1=\"206.7422\" y2=\"206.7422\"/></a><!--MD5=[270fce915f116d4de14055a7c1d9a0f3]\n",
       "class E5--><a href=\"psysml:bbcd2223-85a4-4701-a24f-5592c5712336\" target=\"_top\" title=\"psysml:bbcd2223-85a4-4701-a24f-5592c5712336\" xlink:actuate=\"onRequest\" xlink:href=\"psysml:bbcd2223-85a4-4701-a24f-5592c5712336\" xlink:show=\"new\" xlink:title=\"psysml:bbcd2223-85a4-4701-a24f-5592c5712336\" xlink:type=\"simple\"><rect fill=\"#FFFFFF\" height=\"45.9375\" id=\"E5\" rx=\"10\" ry=\"10\" style=\"stroke: #383838; stroke-width: 1.5;\" width=\"93\" x=\"708.5\" y=\"41\"/><text fill=\"#000000\" font-family=\"sans-serif\" font-size=\"12\" font-style=\"italic\" lengthAdjust=\"spacingAndGlyphs\" textLength=\"91\" x=\"709.5\" y=\"57.1387\">«requirement»</text><text fill=\"#000000\" font-family=\"sans-serif\" font-size=\"12\" lengthAdjust=\"spacingAndGlyphs\" textLength=\"21\" x=\"744.5\" y=\"71.1074\">r: R</text><line style=\"stroke: #383838; stroke-width: 1.5;\" x1=\"709.5\" x2=\"800.5\" y1=\"78.9375\" y2=\"78.9375\"/></a><!--MD5=[0c48fb7552dae8cbbef69381101a84c8]\n",
       "class E15--><a href=\"psysml:1ba0f1fa-2142-46f9-b759-d2e88bd368a2\" target=\"_top\" title=\"psysml:1ba0f1fa-2142-46f9-b759-d2e88bd368a2\" xlink:actuate=\"onRequest\" xlink:href=\"psysml:1ba0f1fa-2142-46f9-b759-d2e88bd368a2\" xlink:show=\"new\" xlink:title=\"psysml:1ba0f1fa-2142-46f9-b759-d2e88bd368a2\" xlink:type=\"simple\"><rect fill=\"#FFFFFF\" height=\"45.9375\" id=\"E15\" rx=\"10\" ry=\"10\" style=\"stroke: #383838; stroke-width: 1.5;\" width=\"122\" x=\"74\" y=\"41\"/><text fill=\"#000000\" font-family=\"sans-serif\" font-size=\"12\" font-style=\"italic\" lengthAdjust=\"spacingAndGlyphs\" textLength=\"40\" x=\"115\" y=\"57.1387\">«part»</text><text fill=\"#000000\" font-family=\"sans-serif\" font-size=\"12\" lengthAdjust=\"spacingAndGlyphs\" textLength=\"116\" x=\"77\" y=\"71.1074\">verificationContext</text><line style=\"stroke: #383838; stroke-width: 1.5;\" x1=\"75\" x2=\"195\" y1=\"78.9375\" y2=\"78.9375\"/></a><!--MD5=[35f0587eaee8d5bb9a02e25b63afc23b]\n",
       "class E16--><a href=\"psysml:f139e62b-7bf9-43a0-a382-40038ed35c63\" target=\"_top\" title=\"psysml:f139e62b-7bf9-43a0-a382-40038ed35c63\" xlink:actuate=\"onRequest\" xlink:href=\"psysml:f139e62b-7bf9-43a0-a382-40038ed35c63\" xlink:show=\"new\" xlink:title=\"psysml:f139e62b-7bf9-43a0-a382-40038ed35c63\" xlink:type=\"simple\"><rect fill=\"#FFFFFF\" height=\"45.9375\" id=\"E16\" rx=\"10\" ry=\"10\" style=\"stroke: #383838; stroke-width: 1.5;\" width=\"206\" x=\"32\" y=\"158.5\"/><text fill=\"#000000\" font-family=\"sans-serif\" font-size=\"12\" font-style=\"italic\" lengthAdjust=\"spacingAndGlyphs\" textLength=\"113\" x=\"78.5\" y=\"174.6387\">«verificationCase»</text><text fill=\"#000000\" font-family=\"sans-serif\" font-size=\"12\" lengthAdjust=\"spacingAndGlyphs\" textLength=\"200\" x=\"35\" y=\"188.6074\">verificationPlan: VerificationPlan</text><line style=\"stroke: #383838; stroke-width: 1.5;\" x1=\"33\" x2=\"237\" y1=\"196.4375\" y2=\"196.4375\"/></a><!--MD5=[60e55a4a9b2f0dc0a36787c5a2095786]\n",
       "class E17--><a href=\"psysml:fe640fc2-093c-44fe-a9fd-0ceecb8f463c\" target=\"_top\" title=\"psysml:fe640fc2-093c-44fe-a9fd-0ceecb8f463c\" xlink:actuate=\"onRequest\" xlink:href=\"psysml:fe640fc2-093c-44fe-a9fd-0ceecb8f463c\" xlink:show=\"new\" xlink:title=\"psysml:fe640fc2-093c-44fe-a9fd-0ceecb8f463c\" xlink:type=\"simple\"><rect fill=\"#FFFFFF\" height=\"45.9375\" id=\"E17\" rx=\"10\" ry=\"10\" style=\"stroke: #383838; stroke-width: 1.5;\" width=\"93\" x=\"88.5\" y=\"292\"/><text fill=\"#000000\" font-family=\"sans-serif\" font-size=\"12\" font-style=\"italic\" lengthAdjust=\"spacingAndGlyphs\" textLength=\"91\" x=\"89.5\" y=\"308.1387\">«requirement»</text><text fill=\"#000000\" font-family=\"sans-serif\" font-size=\"12\" lengthAdjust=\"spacingAndGlyphs\" textLength=\"19\" x=\"125.5\" y=\"322.1074\">obj</text><line style=\"stroke: #383838; stroke-width: 1.5;\" x1=\"89.5\" x2=\"180.5\" y1=\"329.9375\" y2=\"329.9375\"/></a><text fill=\"#000000\" font-family=\"sans-serif\" font-size=\"14\" lengthAdjust=\"spacingAndGlyphs\" textLength=\"7\" x=\"1030.5\" y=\"42.6982\">v</text><rect fill=\"#383838\" height=\"12\" style=\"stroke: #F8F8F8; stroke-width: 1.5;\" width=\"12\" x=\"1028\" y=\"58\"/><text fill=\"#000000\" font-family=\"sans-serif\" font-size=\"14\" lengthAdjust=\"spacingAndGlyphs\" textLength=\"46\" x=\"1011\" y=\"392.9951\">verdict</text><rect fill=\"#383838\" height=\"12\" style=\"stroke: #F8F8F8; stroke-width: 1.5;\" width=\"12\" x=\"1028\" y=\"368\"/><text fill=\"#000000\" font-family=\"sans-serif\" font-size=\"14\" lengthAdjust=\"spacingAndGlyphs\" textLength=\"7\" x=\"358.5\" y=\"160.1982\">v</text><rect fill=\"#383838\" height=\"12\" style=\"stroke: #F8F8F8; stroke-width: 1.5;\" width=\"12\" x=\"356\" y=\"175.5\"/><text fill=\"#000000\" font-family=\"sans-serif\" font-size=\"14\" lengthAdjust=\"spacingAndGlyphs\" textLength=\"46\" x=\"643\" y=\"499.9951\">verdict</text><rect fill=\"#383838\" height=\"12\" style=\"stroke: #F8F8F8; stroke-width: 1.5;\" width=\"12\" x=\"660\" y=\"475\"/><text fill=\"#000000\" font-family=\"sans-serif\" font-size=\"14\" lengthAdjust=\"spacingAndGlyphs\" textLength=\"46\" x=\"518\" y=\"572.9951\">verdict</text><rect fill=\"#383838\" height=\"12\" style=\"stroke: #F8F8F8; stroke-width: 1.5;\" width=\"12\" x=\"535\" y=\"548\"/><text fill=\"#000000\" font-family=\"sans-serif\" font-size=\"14\" lengthAdjust=\"spacingAndGlyphs\" textLength=\"7\" x=\"537.5\" y=\"293.6982\">v</text><rect fill=\"#383838\" height=\"12\" style=\"stroke: #F8F8F8; stroke-width: 1.5;\" width=\"12\" x=\"535\" y=\"309\"/><!--MD5=[05d275557350bfb9b23a4ef7222b4c39]\n",
       "link E3 to E2--><a href=\"psysml:2b222a15-a90b-432a-993d-d339516ea993\" target=\"_top\" title=\"psysml:2b222a15-a90b-432a-993d-d339516ea993\" xlink:actuate=\"onRequest\" xlink:href=\"psysml:2b222a15-a90b-432a-993d-d339516ea993\" xlink:show=\"new\" xlink:title=\"psysml:2b222a15-a90b-432a-993d-d339516ea993\" xlink:type=\"simple\"><path d=\"M882,87.27 C882,101.65 882,120.82 882,138.04 \" fill=\"none\" id=\"E3-&gt;E2\" style=\"stroke: #383838; stroke-width: 1.0;\"/><polygon fill=\"#FFFFFF\" points=\"882,158.3,875,139.3,889,139.3,882,158.3\" style=\"stroke: #383838; stroke-width: 1.0;\"/><ellipse cx=\"877\" cy=\"133.6\" fill=\"#383838\" rx=\"2\" ry=\"2\" style=\"stroke: #383838; stroke-width: 1.0;\"/><ellipse cx=\"887\" cy=\"133.6\" fill=\"#383838\" rx=\"2\" ry=\"2\" style=\"stroke: #383838; stroke-width: 1.0;\"/></a><!--MD5=[1c62de2aa5b76f0fb657ff8443a1a700]\n",
       "link E5 to E4--><a href=\"psysml:4afeeb28-a204-4e17-a080-31f9a6d380ec\" target=\"_top\" title=\"psysml:4afeeb28-a204-4e17-a080-31f9a6d380ec\" xlink:actuate=\"onRequest\" xlink:href=\"psysml:4afeeb28-a204-4e17-a080-31f9a6d380ec\" xlink:show=\"new\" xlink:title=\"psysml:4afeeb28-a204-4e17-a080-31f9a6d380ec\" xlink:type=\"simple\"><path d=\"M755,87.27 C755,98.81 755,113.43 755,127.66 \" fill=\"none\" id=\"E5-&gt;E4\" style=\"stroke: #383838; stroke-width: 1.0;\"/><polygon fill=\"#FFFFFF\" points=\"755,147.81,748,128.81,762,128.81,755,147.81\" style=\"stroke: #383838; stroke-width: 1.0;\"/><ellipse cx=\"750\" cy=\"123.11\" fill=\"#383838\" rx=\"2\" ry=\"2\" style=\"stroke: #383838; stroke-width: 1.0;\"/><ellipse cx=\"760\" cy=\"123.11\" fill=\"#383838\" rx=\"2\" ry=\"2\" style=\"stroke: #383838; stroke-width: 1.0;\"/></a><!--MD5=[58e4cf537c4d67f6b3da95fd5b934e63]\n",
       "reverse link E15 to E16--><a href=\"psysml:4d9ca163-dfe0-49d5-81cb-3058dc3dad3f\" target=\"_top\" title=\"psysml:4d9ca163-dfe0-49d5-81cb-3058dc3dad3f\" xlink:actuate=\"onRequest\" xlink:href=\"psysml:4d9ca163-dfe0-49d5-81cb-3058dc3dad3f\" xlink:show=\"new\" xlink:title=\"psysml:4d9ca163-dfe0-49d5-81cb-3058dc3dad3f\" xlink:type=\"simple\"><path d=\"M135,100.49 C135,119.35 135,141.94 135,158.3 \" fill=\"none\" id=\"E15&lt;-E16\" style=\"stroke: #383838; stroke-width: 1.0;\"/><polygon fill=\"#383838\" points=\"135,87.27,131,93.27,135,99.27,139,93.27,135,87.27\" style=\"stroke: #383838; stroke-width: 1.0;\"/></a><!--MD5=[4de2d328c39b6d65fb95a84ef336270e]\n",
       "link E16 to E9--><a href=\"psysml:cd73bb42-520f-4e04-8240-7f040abbe442\" target=\"_top\" title=\"psysml:cd73bb42-520f-4e04-8240-7f040abbe442\" xlink:actuate=\"onRequest\" xlink:href=\"psysml:cd73bb42-520f-4e04-8240-7f040abbe442\" xlink:show=\"new\" xlink:title=\"psysml:cd73bb42-520f-4e04-8240-7f040abbe442\" xlink:type=\"simple\"><path d=\"M172.99,204.51 C218.18,230.69 292.58,273.79 333.25,297.35 \" fill=\"none\" id=\"E16-&gt;E9\" style=\"stroke: #383838; stroke-width: 1.0;\"/><polygon fill=\"#FFFFFF\" points=\"333.25,297.35,313.3006,293.8831,320.3182,281.7689,333.25,297.35\" style=\"stroke: #383838; stroke-width: 1.0;\"/><ellipse cx=\"309.3709\" cy=\"289.2953\" fill=\"#383838\" rx=\"2\" ry=\"2\" style=\"stroke: #383838; stroke-width: 1.0;\"/><ellipse cx=\"314.3835\" cy=\"280.6423\" fill=\"#383838\" rx=\"2\" ry=\"2\" style=\"stroke: #383838; stroke-width: 1.0;\"/></a><!--MD5=[450e3481f1c83a03a55fcf78b0bbbde6]\n",
       "link E16 to E17--><a href=\"psysml:e29f10bd-d5bc-4797-97ab-a37fb0e5db5b\" target=\"_top\" title=\"psysml:e29f10bd-d5bc-4797-97ab-a37fb0e5db5b\" xlink:actuate=\"onRequest\" xlink:href=\"psysml:e29f10bd-d5bc-4797-97ab-a37fb0e5db5b\" xlink:show=\"new\" xlink:title=\"psysml:e29f10bd-d5bc-4797-97ab-a37fb0e5db5b\" xlink:type=\"simple\"><path d=\"M135,204.51 C135,226.22 135,259.59 135,283.78 \" fill=\"none\" id=\"E16-&gt;E17\" style=\"stroke: #383838; stroke-width: 1.0;\"/><polygon fill=\"#383838\" points=\"135,291.92,138,283.92,132,283.92,135,291.92\" style=\"stroke: #383838; stroke-width: 1.0;\"/><text fill=\"#000000\" font-family=\"sans-serif\" font-size=\"13\" lengthAdjust=\"spacingAndGlyphs\" textLength=\"73\" x=\"136\" y=\"258.0669\">«objective»</text><text fill=\"#000000\" font-family=\"sans-serif\" font-size=\"13\" lengthAdjust=\"spacingAndGlyphs\" textLength=\"7\" x=\"127.0594\" y=\"280.7948\">*</text></a><!--MD5=[0e9d1bced900f3187a30d68f1971bd8d]\n",
       "@startuml\r\n",
       "skinparam monochrome true\r\n",
       "skinparam classbackgroundcolor white\r\n",
       "skinparam shadowing false\r\n",
       "skinparam wrapWidth 300\r\n",
       "hide circle\r\n",
       "\r\n",
       "package \"VerificationTest\" as E1  [[psysml:7303dfcd-df1a-4034-bc74-eb93457ec7c0 ]]  {\r\n",
       "comp def \"V\" as E2  <<(T,blue) part def>> [[psysml:ee2cd088-4b38-485a-bdcf-f034eebaa933 ]] {\r\n",
       "}\r\n",
       "comp usage \"vv: V\" as E3  <<(T,blue) part>> [[psysml:ea23779d-7b91-41e0-a4d1-5f0745e774d2 ]] {\r\n",
       "}\r\n",
       "comp def \"R\" as E4  <<(T,blue) requirement def>> [[psysml:971e85b9-9957-4674-90a7-be3bf98856c5 ]] {\r\n",
       "...\r\n",
       "- -\r\n",
       "}\r\n",
       "comp usage \"r: R\" as E5  <<(T,blue) requirement>> [[psysml:bbcd2223-85a4-4701-a24f-5592c5712336 ]] {\r\n",
       "}\r\n",
       "rec def \"VerificationCase\" as E6  <<(T,blue) verificationCase def>> [[psysml:f44943ce-87bd-4d2b-91db-f66bd879bf72 ]] {\r\n",
       "portin \"v\" as E7  [[psysml:39e4c68a-7e48-4018-a595-005447bc25d1 ]] \r\n",
       "portout \"verdict\" as E8  [[psysml:e7480a5a-bc03-4bfb-926c-ff77790341ab ]] \r\n",
       "}\r\n",
       "\r\n",
       "rec def \"VerificationPlan\" as E9  <<(T,blue) verificationCase def>> [[psysml:109e665d-9569-4e28-8454-db86a3b7365b ]] {\r\n",
       "portin \"v\" as E10  [[psysml:bc04aa0f-1251-4bd1-9492-821de83ad0f4 ]] \r\n",
       "rec usage \"verificationCase\" as E11  <<(T,blue) verificationCase>> [[psysml:d8eec309-4539-4ef6-b593-f8d5221313a5 ]] {\r\n",
       "portout \"verdict\" as E12  [[psysml:d4b19012-2d8f-412c-81cb-04106ed54ab9 ]] \r\n",
       "portin \"v\" as E13  [[psysml:101691aa-2b16-4439-bb49-3b5a9750b72a ]] \r\n",
       "}\r\n",
       "\r\n",
       "portout \"verdict\" as E14  [[psysml:d1cc474d-a7ae-4245-8f3b-eac2c389ad3d ]] \r\n",
       "}\r\n",
       "\r\n",
       "comp usage \"verificationContext\" as E15  <<(T,blue) part>> [[psysml:1ba0f1fa-2142-46f9-b759-d2e88bd368a2 ]] {\r\n",
       "}\r\n",
       "comp usage \"verificationPlan: VerificationPlan\" as E16  <<(T,blue) verificationCase>> [[psysml:f139e62b-7bf9-43a0-a382-40038ed35c63 ]] {\r\n",
       "}\r\n",
       "comp usage \"obj\" as E17  <<(T,blue) requirement>> [[psysml:fe640fc2-093c-44fe-a9fd-0ceecb8f463c ]] {\r\n",
       "}\r\n",
       "}\r\n",
       "E3 - -:|> E2 [[psysml:2b222a15-a90b-432a-993d-d339516ea993 ]] \r\n",
       "E5 - -:|> E4 [[psysml:4afeeb28-a204-4e17-a080-31f9a6d380ec ]] \r\n",
       "E15 *- - E16 [[psysml:4d9ca163-dfe0-49d5-81cb-3058dc3dad3f ]] \r\n",
       "E16 - -:|> E9 [[psysml:cd73bb42-520f-4e04-8240-7f040abbe442 ]] \r\n",
       "E16 - ->> \"*\"E17 [[psysml:e29f10bd-d5bc-4797-97ab-a37fb0e5db5b ]] : <<objective>>\r\n",
       "@enduml\r\n",
       "\n",
       "PlantUML version 1.2020.13(Sat Jun 13 12:26:38 UTC 2020)\n",
       "(EPL source distribution)\n",
       "Java Runtime: OpenJDK Runtime Environment\n",
       "JVM: OpenJDK 64-Bit Server VM\n",
       "Default Encoding: UTF-8\n",
       "Language: en\n",
       "Country: null\n",
       "--></g></svg>"
      ]
     },
     "execution_count": 37,
     "metadata": {},
     "output_type": "execute_result"
    }
   ],
   "source": [
    "%viz --style=\"DEFAULT\" --view=\"Default\" \"VerificationTest\""
   ]
  },
  {
   "cell_type": "code",
   "execution_count": 38,
   "id": "8cedcc39",
   "metadata": {
    "execution": {
     "iopub.execute_input": "2021-10-03T08:26:50.012955Z",
     "iopub.status.busy": "2021-10-03T08:26:50.012534Z",
     "iopub.status.idle": "2021-10-03T08:26:50.090476Z",
     "shell.execute_reply": "2021-10-03T08:26:50.090122Z"
    }
   },
   "outputs": [
    {
     "data": {
      "image/svg+xml": [
       "<?xml version=\"1.0\" encoding=\"UTF-8\" standalone=\"no\"?><svg xmlns=\"http://www.w3.org/2000/svg\" xmlns:xlink=\"http://www.w3.org/1999/xlink\" contentScriptType=\"application/ecmascript\" contentStyleType=\"text/css\" height=\"268px\" preserveAspectRatio=\"none\" style=\"width:746px;height:268px;\" version=\"1.1\" viewBox=\"0 0 746 268\" width=\"746px\" zoomAndPan=\"magnify\"><defs/><g><!--MD5=[fbc87193dbaf4d95561dea2c320d4a47]\n",
       "cluster E1--><a href=\"psysml:7303dfcd-df1a-4034-bc74-eb93457ec7c0\" target=\"_top\" title=\"psysml:7303dfcd-df1a-4034-bc74-eb93457ec7c0\" xlink:actuate=\"onRequest\" xlink:href=\"psysml:7303dfcd-df1a-4034-bc74-eb93457ec7c0\" xlink:show=\"new\" xlink:title=\"psysml:7303dfcd-df1a-4034-bc74-eb93457ec7c0\" xlink:type=\"simple\"><polygon fill=\"#FFFFFF\" points=\"16,6,128,6,135,28.2969,724,28.2969,724,256,16,256,16,6\" style=\"stroke: #000000; stroke-width: 1.5;\"/><line style=\"stroke: #000000; stroke-width: 1.5;\" x1=\"16\" x2=\"135\" y1=\"28.2969\" y2=\"28.2969\"/><text fill=\"#000000\" font-family=\"sans-serif\" font-size=\"14\" font-weight=\"bold\" lengthAdjust=\"spacingAndGlyphs\" textLength=\"106\" x=\"20\" y=\"20.9951\">VerificationTest</text></a><!--MD5=[b4997ac47864f28c2f74865a473b2911]\n",
       "class E2--><a href=\"psysml:ee2cd088-4b38-485a-bdcf-f034eebaa933\" target=\"_top\" title=\"psysml:ee2cd088-4b38-485a-bdcf-f034eebaa933\" xlink:actuate=\"onRequest\" xlink:href=\"psysml:ee2cd088-4b38-485a-bdcf-f034eebaa933\" xlink:show=\"new\" xlink:title=\"psysml:ee2cd088-4b38-485a-bdcf-f034eebaa933\" xlink:type=\"simple\"><rect fill=\"#FFFFFF\" height=\"45.9375\" id=\"E2\" style=\"stroke: #383838; stroke-width: 1.5;\" width=\"66\" x=\"342\" y=\"179\"/><text fill=\"#000000\" font-family=\"sans-serif\" font-size=\"12\" font-style=\"italic\" lengthAdjust=\"spacingAndGlyphs\" textLength=\"64\" x=\"343\" y=\"195.1387\">«part def»</text><text fill=\"#000000\" font-family=\"sans-serif\" font-size=\"12\" lengthAdjust=\"spacingAndGlyphs\" textLength=\"8\" x=\"371\" y=\"209.1074\">V</text><line style=\"stroke: #383838; stroke-width: 1.5;\" x1=\"343\" x2=\"407\" y1=\"216.9375\" y2=\"216.9375\"/></a><!--MD5=[09b614a08d8cba4a07c9adeb5e0fee81]\n",
       "class E3--><a href=\"psysml:ea23779d-7b91-41e0-a4d1-5f0745e774d2\" target=\"_top\" title=\"psysml:ea23779d-7b91-41e0-a4d1-5f0745e774d2\" xlink:actuate=\"onRequest\" xlink:href=\"psysml:ea23779d-7b91-41e0-a4d1-5f0745e774d2\" xlink:show=\"new\" xlink:title=\"psysml:ea23779d-7b91-41e0-a4d1-5f0745e774d2\" xlink:type=\"simple\"><rect fill=\"#FFFFFF\" height=\"45.9375\" id=\"E3\" rx=\"10\" ry=\"10\" style=\"stroke: #383838; stroke-width: 1.5;\" width=\"42\" x=\"364\" y=\"41\"/><text fill=\"#000000\" font-family=\"sans-serif\" font-size=\"12\" font-style=\"italic\" lengthAdjust=\"spacingAndGlyphs\" textLength=\"40\" x=\"365\" y=\"57.1387\">«part»</text><text fill=\"#000000\" font-family=\"sans-serif\" font-size=\"12\" lengthAdjust=\"spacingAndGlyphs\" textLength=\"28\" x=\"371\" y=\"71.1074\">vv: V</text><line style=\"stroke: #383838; stroke-width: 1.5;\" x1=\"365\" x2=\"405\" y1=\"78.9375\" y2=\"78.9375\"/></a><!--MD5=[ebbe1d658d1005bcc118a6aa81145e00]\n",
       "class E4--><a href=\"psysml:971e85b9-9957-4674-90a7-be3bf98856c5\" target=\"_top\" title=\"psysml:971e85b9-9957-4674-90a7-be3bf98856c5\" xlink:actuate=\"onRequest\" xlink:href=\"psysml:971e85b9-9957-4674-90a7-be3bf98856c5\" xlink:show=\"new\" xlink:title=\"psysml:971e85b9-9957-4674-90a7-be3bf98856c5\" xlink:type=\"simple\"><rect fill=\"#FFFFFF\" height=\"66.7422\" id=\"E4\" style=\"stroke: #383838; stroke-width: 1.5;\" width=\"117\" x=\"590.5\" y=\"168.5\"/><text fill=\"#000000\" font-family=\"sans-serif\" font-size=\"12\" font-style=\"italic\" lengthAdjust=\"spacingAndGlyphs\" textLength=\"115\" x=\"591.5\" y=\"184.6387\">«requirement def»</text><text fill=\"#000000\" font-family=\"sans-serif\" font-size=\"12\" lengthAdjust=\"spacingAndGlyphs\" textLength=\"8\" x=\"645\" y=\"198.6074\">R</text><line style=\"stroke: #383838; stroke-width: 1.5;\" x1=\"591.5\" x2=\"706.5\" y1=\"206.4375\" y2=\"206.4375\"/><text fill=\"#000000\" font-family=\"sans-serif\" font-size=\"11\" lengthAdjust=\"spacingAndGlyphs\" textLength=\"12\" x=\"596.5\" y=\"220.6479\">...</text><line style=\"stroke: #383838; stroke-width: 1.0;\" x1=\"591.5\" x2=\"706.5\" y1=\"227.2422\" y2=\"227.2422\"/></a><!--MD5=[270fce915f116d4de14055a7c1d9a0f3]\n",
       "class E5--><a href=\"psysml:bbcd2223-85a4-4701-a24f-5592c5712336\" target=\"_top\" title=\"psysml:bbcd2223-85a4-4701-a24f-5592c5712336\" xlink:actuate=\"onRequest\" xlink:href=\"psysml:bbcd2223-85a4-4701-a24f-5592c5712336\" xlink:show=\"new\" xlink:title=\"psysml:bbcd2223-85a4-4701-a24f-5592c5712336\" xlink:type=\"simple\"><rect fill=\"#FFFFFF\" height=\"45.9375\" id=\"E5\" rx=\"10\" ry=\"10\" style=\"stroke: #383838; stroke-width: 1.5;\" width=\"93\" x=\"615.5\" y=\"41\"/><text fill=\"#000000\" font-family=\"sans-serif\" font-size=\"12\" font-style=\"italic\" lengthAdjust=\"spacingAndGlyphs\" textLength=\"91\" x=\"616.5\" y=\"57.1387\">«requirement»</text><text fill=\"#000000\" font-family=\"sans-serif\" font-size=\"12\" lengthAdjust=\"spacingAndGlyphs\" textLength=\"21\" x=\"651.5\" y=\"71.1074\">r: R</text><line style=\"stroke: #383838; stroke-width: 1.5;\" x1=\"616.5\" x2=\"707.5\" y1=\"78.9375\" y2=\"78.9375\"/></a><!--MD5=[60a26617385b1d2d0262a64233df1f8d]\n",
       "class E6--><a href=\"psysml:f44943ce-87bd-4d2b-91db-f66bd879bf72\" target=\"_top\" title=\"psysml:f44943ce-87bd-4d2b-91db-f66bd879bf72\" xlink:actuate=\"onRequest\" xlink:href=\"psysml:f44943ce-87bd-4d2b-91db-f66bd879bf72\" xlink:show=\"new\" xlink:title=\"psysml:f44943ce-87bd-4d2b-91db-f66bd879bf72\" xlink:type=\"simple\"><rect fill=\"#FFFFFF\" height=\"45.9375\" id=\"E6\" style=\"stroke: #383838; stroke-width: 1.5;\" width=\"139\" x=\"441.5\" y=\"41\"/><text fill=\"#000000\" font-family=\"sans-serif\" font-size=\"12\" font-style=\"italic\" lengthAdjust=\"spacingAndGlyphs\" textLength=\"137\" x=\"442.5\" y=\"57.1387\">«verificationCase def»</text><text fill=\"#000000\" font-family=\"sans-serif\" font-size=\"12\" lengthAdjust=\"spacingAndGlyphs\" textLength=\"101\" x=\"460.5\" y=\"71.1074\">VerificationCase</text><line style=\"stroke: #383838; stroke-width: 1.5;\" x1=\"442.5\" x2=\"579.5\" y1=\"78.9375\" y2=\"78.9375\"/></a><!--MD5=[2156ba9850f5573cc1fc38a6a4b2f02b]\n",
       "class E7--><a href=\"psysml:c1b61795-7b30-4440-a267-41d24baf94c2\" target=\"_top\" title=\"psysml:c1b61795-7b30-4440-a267-41d24baf94c2\" xlink:actuate=\"onRequest\" xlink:href=\"psysml:c1b61795-7b30-4440-a267-41d24baf94c2\" xlink:show=\"new\" xlink:title=\"psysml:c1b61795-7b30-4440-a267-41d24baf94c2\" xlink:type=\"simple\"><rect fill=\"#FFFFFF\" height=\"75.5469\" id=\"E7\" rx=\"10\" ry=\"10\" style=\"stroke: #383838; stroke-width: 1.5;\" width=\"93\" x=\"462.5\" y=\"164\"/><text fill=\"#000000\" font-family=\"sans-serif\" font-size=\"12\" font-style=\"italic\" lengthAdjust=\"spacingAndGlyphs\" textLength=\"91\" x=\"463.5\" y=\"180.1387\">«requirement»</text><text fill=\"#000000\" font-family=\"sans-serif\" font-size=\"12\" lengthAdjust=\"spacingAndGlyphs\" textLength=\"19\" x=\"499.5\" y=\"194.1074\">obj</text><line style=\"stroke: #383838; stroke-width: 1.5;\" x1=\"463.5\" x2=\"554.5\" y1=\"201.9375\" y2=\"201.9375\"/><text fill=\"#000000\" font-family=\"sans-serif\" font-size=\"11\" font-weight=\"bold\" lengthAdjust=\"spacingAndGlyphs\" textLength=\"41\" x=\"468.5\" y=\"232.9526\">require</text><text fill=\"#000000\" font-family=\"sans-serif\" font-size=\"11\" lengthAdjust=\"spacingAndGlyphs\" textLength=\"15\" x=\"513.5\" y=\"232.9526\">: R</text><line style=\"stroke: #383838; stroke-width: 1.0;\" x1=\"463.5\" x2=\"470.5\" y1=\"216.3398\" y2=\"216.3398\"/><text fill=\"#000000\" font-family=\"sans-serif\" font-size=\"11\" lengthAdjust=\"spacingAndGlyphs\" textLength=\"77\" x=\"470.5\" y=\"219.6479\">requirements</text><line style=\"stroke: #383838; stroke-width: 1.0;\" x1=\"547.5\" x2=\"554.5\" y1=\"216.3398\" y2=\"216.3398\"/></a><!--MD5=[fd4143e9d270a159db93a4ea2a975926]\n",
       "class E9--><a href=\"psysml:109e665d-9569-4e28-8454-db86a3b7365b\" target=\"_top\" title=\"psysml:109e665d-9569-4e28-8454-db86a3b7365b\" xlink:actuate=\"onRequest\" xlink:href=\"psysml:109e665d-9569-4e28-8454-db86a3b7365b\" xlink:show=\"new\" xlink:title=\"psysml:109e665d-9569-4e28-8454-db86a3b7365b\" xlink:type=\"simple\"><rect fill=\"#FFFFFF\" height=\"45.9375\" id=\"E9\" style=\"stroke: #383838; stroke-width: 1.5;\" width=\"139\" x=\"189.5\" y=\"41\"/><text fill=\"#000000\" font-family=\"sans-serif\" font-size=\"12\" font-style=\"italic\" lengthAdjust=\"spacingAndGlyphs\" textLength=\"137\" x=\"190.5\" y=\"57.1387\">«verificationCase def»</text><text fill=\"#000000\" font-family=\"sans-serif\" font-size=\"12\" lengthAdjust=\"spacingAndGlyphs\" textLength=\"97\" x=\"210.5\" y=\"71.1074\">VerificationPlan</text><line style=\"stroke: #383838; stroke-width: 1.5;\" x1=\"190.5\" x2=\"327.5\" y1=\"78.9375\" y2=\"78.9375\"/></a><!--MD5=[96f4274e9e20536e775497830990834d]\n",
       "class E10--><a href=\"psysml:7031c3a4-5568-406f-9713-a580e51688a6\" target=\"_top\" title=\"psysml:7031c3a4-5568-406f-9713-a580e51688a6\" xlink:actuate=\"onRequest\" xlink:href=\"psysml:7031c3a4-5568-406f-9713-a580e51688a6\" xlink:show=\"new\" xlink:title=\"psysml:7031c3a4-5568-406f-9713-a580e51688a6\" xlink:type=\"simple\"><rect fill=\"#FFFFFF\" height=\"75.5469\" id=\"E10\" rx=\"10\" ry=\"10\" style=\"stroke: #383838; stroke-width: 1.5;\" width=\"93\" x=\"143.5\" y=\"164\"/><text fill=\"#000000\" font-family=\"sans-serif\" font-size=\"12\" font-style=\"italic\" lengthAdjust=\"spacingAndGlyphs\" textLength=\"91\" x=\"144.5\" y=\"180.1387\">«requirement»</text><text fill=\"#000000\" font-family=\"sans-serif\" font-size=\"12\" lengthAdjust=\"spacingAndGlyphs\" textLength=\"19\" x=\"180.5\" y=\"194.1074\">obj</text><line style=\"stroke: #383838; stroke-width: 1.5;\" x1=\"144.5\" x2=\"235.5\" y1=\"201.9375\" y2=\"201.9375\"/><text fill=\"#000000\" font-family=\"sans-serif\" font-size=\"11\" font-weight=\"bold\" lengthAdjust=\"spacingAndGlyphs\" textLength=\"41\" x=\"149.5\" y=\"232.9526\">require</text><text fill=\"#000000\" font-family=\"sans-serif\" font-size=\"11\" lengthAdjust=\"spacingAndGlyphs\" textLength=\"5\" x=\"194.5\" y=\"232.9526\">r</text><line style=\"stroke: #383838; stroke-width: 1.0;\" x1=\"144.5\" x2=\"151.5\" y1=\"216.3398\" y2=\"216.3398\"/><text fill=\"#000000\" font-family=\"sans-serif\" font-size=\"11\" lengthAdjust=\"spacingAndGlyphs\" textLength=\"77\" x=\"151.5\" y=\"219.6479\">requirements</text><line style=\"stroke: #383838; stroke-width: 1.0;\" x1=\"228.5\" x2=\"235.5\" y1=\"216.3398\" y2=\"216.3398\"/></a><!--MD5=[49a0ec8f00dab7302a31f22d0f0fe584]\n",
       "class E12--><a href=\"psysml:1ba0f1fa-2142-46f9-b759-d2e88bd368a2\" target=\"_top\" title=\"psysml:1ba0f1fa-2142-46f9-b759-d2e88bd368a2\" xlink:actuate=\"onRequest\" xlink:href=\"psysml:1ba0f1fa-2142-46f9-b759-d2e88bd368a2\" xlink:show=\"new\" xlink:title=\"psysml:1ba0f1fa-2142-46f9-b759-d2e88bd368a2\" xlink:type=\"simple\"><rect fill=\"#FFFFFF\" height=\"45.9375\" id=\"E12\" rx=\"10\" ry=\"10\" style=\"stroke: #383838; stroke-width: 1.5;\" width=\"122\" x=\"32\" y=\"41\"/><text fill=\"#000000\" font-family=\"sans-serif\" font-size=\"12\" font-style=\"italic\" lengthAdjust=\"spacingAndGlyphs\" textLength=\"40\" x=\"73\" y=\"57.1387\">«part»</text><text fill=\"#000000\" font-family=\"sans-serif\" font-size=\"12\" lengthAdjust=\"spacingAndGlyphs\" textLength=\"116\" x=\"35\" y=\"71.1074\">verificationContext</text><line style=\"stroke: #383838; stroke-width: 1.5;\" x1=\"33\" x2=\"153\" y1=\"78.9375\" y2=\"78.9375\"/></a><!--MD5=[05d275557350bfb9b23a4ef7222b4c39]\n",
       "link E3 to E2--><a href=\"psysml:2b222a15-a90b-432a-993d-d339516ea993\" target=\"_top\" title=\"psysml:2b222a15-a90b-432a-993d-d339516ea993\" xlink:actuate=\"onRequest\" xlink:href=\"psysml:2b222a15-a90b-432a-993d-d339516ea993\" xlink:show=\"new\" xlink:title=\"psysml:2b222a15-a90b-432a-993d-d339516ea993\" xlink:type=\"simple\"><path d=\"M382.68,87.25 C381.77,96.45 380.76,107.23 380,117 C378.94,130.6 377.99,145.45 377.21,158.84 \" fill=\"none\" id=\"E3-&gt;E2\" style=\"stroke: #383838; stroke-width: 1.0;\"/><polygon fill=\"#FFFFFF\" points=\"376.1,178.88,370.1701,159.5193,384.1483,160.2998,376.1,178.88\" style=\"stroke: #383838; stroke-width: 1.0;\"/><ellipse cx=\"372.4847\" cy=\"153.9397\" fill=\"#383838\" rx=\"2\" ry=\"2\" style=\"stroke: #383838; stroke-width: 1.0;\"/><ellipse cx=\"382.4692\" cy=\"154.4971\" fill=\"#383838\" rx=\"2\" ry=\"2\" style=\"stroke: #383838; stroke-width: 1.0;\"/></a><!--MD5=[1c62de2aa5b76f0fb657ff8443a1a700]\n",
       "link E5 to E4--><a href=\"psysml:4afeeb28-a204-4e17-a080-31f9a6d380ec\" target=\"_top\" title=\"psysml:4afeeb28-a204-4e17-a080-31f9a6d380ec\" xlink:actuate=\"onRequest\" xlink:href=\"psysml:4afeeb28-a204-4e17-a080-31f9a6d380ec\" xlink:show=\"new\" xlink:title=\"psysml:4afeeb28-a204-4e17-a080-31f9a6d380ec\" xlink:type=\"simple\"><path d=\"M659.88,87.15 C658.3,103.69 656.07,127.01 654.04,148.23 \" fill=\"none\" id=\"E5-&gt;E4\" style=\"stroke: #383838; stroke-width: 1.0;\"/><polygon fill=\"#FFFFFF\" points=\"652.11,168.44,646.9475,148.8607,660.8842,150.1913,652.11,168.44\" style=\"stroke: #383838; stroke-width: 1.0;\"/><ellipse cx=\"649.4803\" cy=\"143.3766\" fill=\"#383838\" rx=\"2\" ry=\"2\" style=\"stroke: #383838; stroke-width: 1.0;\"/><ellipse cx=\"659.435\" cy=\"144.327\" fill=\"#383838\" rx=\"2\" ry=\"2\" style=\"stroke: #383838; stroke-width: 1.0;\"/></a><!--MD5=[2351f337d6de0f557b50152ba70847b5]\n",
       "link E6 to E2--><a href=\"psysml:0a65a73b-aad1-46f6-97e3-b503c188383c\" target=\"_top\" title=\"psysml:0a65a73b-aad1-46f6-97e3-b503c188383c\" xlink:actuate=\"onRequest\" xlink:href=\"psysml:0a65a73b-aad1-46f6-97e3-b503c188383c\" xlink:show=\"new\" xlink:title=\"psysml:0a65a73b-aad1-46f6-97e3-b503c188383c\" xlink:type=\"simple\"><path d=\"M475.49,87.03 C462.98,95.62 449.25,106.02 438,117 C420.2,134.37 403.48,157.08 391.74,174.51 \" fill=\"none\" id=\"E6-&gt;E2\" style=\"stroke: #383838; stroke-width: 1.0; stroke-dasharray: 7.0,7.0;\"/><polygon fill=\"#383838\" points=\"388.87,178.82,397.1822,173.5372,391.6369,174.6554,390.5187,169.1101,388.87,178.82\" style=\"stroke: #383838; stroke-width: 1.0;\"/><text fill=\"#000000\" font-family=\"sans-serif\" font-size=\"13\" lengthAdjust=\"spacingAndGlyphs\" textLength=\"62\" x=\"439\" y=\"130.0669\">«subject»</text></a><!--MD5=[02c70b7c851c11e3980e4e90450dc5dd]\n",
       "link E6 to E7--><a href=\"psysml:ca392d64-6b44-4e33-bff2-bf36fcd3e380\" target=\"_top\" title=\"psysml:ca392d64-6b44-4e33-bff2-bf36fcd3e380\" xlink:actuate=\"onRequest\" xlink:href=\"psysml:ca392d64-6b44-4e33-bff2-bf36fcd3e380\" xlink:show=\"new\" xlink:title=\"psysml:ca392d64-6b44-4e33-bff2-bf36fcd3e380\" xlink:type=\"simple\"><path d=\"M510.67,87.15 C510.4,105.66 510.01,132.63 509.67,155.68 \" fill=\"none\" id=\"E6-&gt;E7\" style=\"stroke: #383838; stroke-width: 1.0;\"/><polygon fill=\"#383838\" points=\"509.54,163.97,512.6682,156.0192,506.6689,155.9228,509.54,163.97\" style=\"stroke: #383838; stroke-width: 1.0;\"/><text fill=\"#000000\" font-family=\"sans-serif\" font-size=\"13\" lengthAdjust=\"spacingAndGlyphs\" textLength=\"73\" x=\"511\" y=\"130.0669\">«objective»</text><text fill=\"#000000\" font-family=\"sans-serif\" font-size=\"13\" lengthAdjust=\"spacingAndGlyphs\" textLength=\"7\" x=\"502.0128\" y=\"152.979\">*</text></a><!--MD5=[5c3bb36fe832a92c7f0e1807dd65209d]\n",
       "link E9 to E2--><a href=\"psysml:e35a8663-5a9e-49b1-9953-8d2b3225b6ac\" target=\"_top\" title=\"psysml:e35a8663-5a9e-49b1-9953-8d2b3225b6ac\" xlink:actuate=\"onRequest\" xlink:href=\"psysml:e35a8663-5a9e-49b1-9953-8d2b3225b6ac\" xlink:show=\"new\" xlink:title=\"psysml:e35a8663-5a9e-49b1-9953-8d2b3225b6ac\" xlink:type=\"simple\"><path d=\"M272.53,87.26 C281.39,101.2 293.6,119.24 306,134 C318.17,148.48 333.08,163.26 345.92,175.25 \" fill=\"none\" id=\"E9-&gt;E2\" style=\"stroke: #383838; stroke-width: 1.0; stroke-dasharray: 7.0,7.0;\"/><polygon fill=\"#383838\" points=\"349.84,178.87,345.9545,169.82,346.1715,175.4727,340.5188,175.6896,349.84,178.87\" style=\"stroke: #383838; stroke-width: 1.0;\"/><text fill=\"#000000\" font-family=\"sans-serif\" font-size=\"13\" lengthAdjust=\"spacingAndGlyphs\" textLength=\"62\" x=\"307\" y=\"130.0669\">«subject»</text></a><!--MD5=[35e5f1cbde42fa304a029880aa2bc7f2]\n",
       "link E9 to E10--><a href=\"psysml:a2e94b2d-09ed-4b49-b784-abde9df75390\" target=\"_top\" title=\"psysml:a2e94b2d-09ed-4b49-b784-abde9df75390\" xlink:actuate=\"onRequest\" xlink:href=\"psysml:a2e94b2d-09ed-4b49-b784-abde9df75390\" xlink:show=\"new\" xlink:title=\"psysml:a2e94b2d-09ed-4b49-b784-abde9df75390\" xlink:type=\"simple\"><path d=\"M214.66,87.18 C203.62,95 193.18,104.92 187,117 C181,128.73 179.61,142.63 180.32,155.71 \" fill=\"none\" id=\"E9-&gt;E10\" style=\"stroke: #383838; stroke-width: 1.0;\"/><polygon fill=\"#383838\" points=\"181.01,163.73,183.3133,155.5023,177.3354,156.0166,181.01,163.73\" style=\"stroke: #383838; stroke-width: 1.0;\"/><text fill=\"#000000\" font-family=\"sans-serif\" font-size=\"13\" lengthAdjust=\"spacingAndGlyphs\" textLength=\"73\" x=\"188\" y=\"130.0669\">«objective»</text><text fill=\"#000000\" font-family=\"sans-serif\" font-size=\"13\" lengthAdjust=\"spacingAndGlyphs\" textLength=\"7\" x=\"171.8633\" y=\"152.9805\">*</text></a><!--MD5=[eeeb7627b924a1e43edfca082422ff8d]\n",
       "@startuml\r\n",
       "skinparam monochrome true\r\n",
       "skinparam classbackgroundcolor white\r\n",
       "skinparam shadowing false\r\n",
       "skinparam wrapWidth 300\r\n",
       "hide circle\r\n",
       "\r\n",
       "package \"VerificationTest\" as E1  [[psysml:7303dfcd-df1a-4034-bc74-eb93457ec7c0 ]]  {\r\n",
       "comp def \"V\" as E2  <<(T,blue) part def>> [[psysml:ee2cd088-4b38-485a-bdcf-f034eebaa933 ]] {\r\n",
       "}\r\n",
       "comp usage \"vv: V\" as E3  <<(T,blue) part>> [[psysml:ea23779d-7b91-41e0-a4d1-5f0745e774d2 ]] {\r\n",
       "}\r\n",
       "comp def \"R\" as E4  <<(T,blue) requirement def>> [[psysml:971e85b9-9957-4674-90a7-be3bf98856c5 ]] {\r\n",
       "...\r\n",
       "- -\r\n",
       "}\r\n",
       "comp usage \"r: R\" as E5  <<(T,blue) requirement>> [[psysml:bbcd2223-85a4-4701-a24f-5592c5712336 ]] {\r\n",
       "}\r\n",
       "comp def \"VerificationCase\" as E6  <<(T,blue) verificationCase def>> [[psysml:f44943ce-87bd-4d2b-91db-f66bd879bf72 ]] {\r\n",
       "}\r\n",
       "comp usage \"obj\" as E7  <<(T,blue) requirement>> [[psysml:c1b61795-7b30-4440-a267-41d24baf94c2 ]] {\r\n",
       "- - requirements - -\r\n",
       "<b>require</b> : R\r\n",
       "}\r\n",
       "comp def \"VerificationPlan\" as E9  <<(T,blue) verificationCase def>> [[psysml:109e665d-9569-4e28-8454-db86a3b7365b ]] {\r\n",
       "}\r\n",
       "comp usage \"obj\" as E10  <<(T,blue) requirement>> [[psysml:7031c3a4-5568-406f-9713-a580e51688a6 ]] {\r\n",
       "- - requirements - -\r\n",
       "<b>require</b> r\r\n",
       "}\r\n",
       "comp usage \"verificationContext\" as E12  <<(T,blue) part>> [[psysml:1ba0f1fa-2142-46f9-b759-d2e88bd368a2 ]] {\r\n",
       "}\r\n",
       "}\r\n",
       "E3 - -:|> E2 [[psysml:2b222a15-a90b-432a-993d-d339516ea993 ]] \r\n",
       "E5 - -:|> E4 [[psysml:4afeeb28-a204-4e17-a080-31f9a6d380ec ]] \r\n",
       "E6 ..> E2 [[psysml:0a65a73b-aad1-46f6-97e3-b503c188383c ]] : <<subject>>\r\n",
       "E6 - ->> \"*\"E7 [[psysml:ca392d64-6b44-4e33-bff2-bf36fcd3e380 ]] : <<objective>>\r\n",
       "E9 ..> E2 [[psysml:e35a8663-5a9e-49b1-9953-8d2b3225b6ac ]] : <<subject>>\r\n",
       "E9 - ->> \"*\"E10 [[psysml:a2e94b2d-09ed-4b49-b784-abde9df75390 ]] : <<objective>>\r\n",
       "@enduml\r\n",
       "\n",
       "PlantUML version 1.2020.13(Sat Jun 13 12:26:38 UTC 2020)\n",
       "(EPL source distribution)\n",
       "Java Runtime: OpenJDK Runtime Environment\n",
       "JVM: OpenJDK 64-Bit Server VM\n",
       "Default Encoding: UTF-8\n",
       "Language: en\n",
       "Country: null\n",
       "--></g></svg>"
      ]
     },
     "execution_count": 38,
     "metadata": {},
     "output_type": "execute_result"
    }
   ],
   "source": [
    "%viz --style=\"DEFAULT\" --view=\"Tree\" \"VerificationTest\""
   ]
  },
  {
   "cell_type": "code",
   "execution_count": 39,
   "id": "b936be16",
   "metadata": {
    "execution": {
     "iopub.execute_input": "2021-10-03T08:26:50.139610Z",
     "iopub.status.busy": "2021-10-03T08:26:50.139207Z",
     "iopub.status.idle": "2021-10-03T08:26:50.145161Z",
     "shell.execute_reply": "2021-10-03T08:26:50.145479Z"
    }
   },
   "outputs": [
    {
     "data": {
      "image/svg+xml": [
       "<?xml version=\"1.0\" encoding=\"UTF-8\" standalone=\"no\"?><svg xmlns=\"http://www.w3.org/2000/svg\" xmlns:xlink=\"http://www.w3.org/1999/xlink\" contentScriptType=\"application/ecmascript\" contentStyleType=\"text/css\" height=\"12px\" preserveAspectRatio=\"none\" style=\"width:12px;height:12px;\" version=\"1.1\" viewBox=\"0 0 12 12\" width=\"12px\" zoomAndPan=\"magnify\"><defs/><g><!--MD5=[c5f280e076d0d61ccf4b0f27871bda1d]\n",
       "@startuml\r\n",
       "skinparam monochrome true\r\n",
       "skinparam classbackgroundcolor white\r\n",
       "skinparam shadowing false\r\n",
       "skinparam wrapWidth 300\r\n",
       "hide circle\r\n",
       "\r\n",
       "@enduml\r\n",
       "\n",
       "PlantUML version 1.2020.13(Sat Jun 13 12:26:38 UTC 2020)\n",
       "(EPL source distribution)\n",
       "Java Runtime: OpenJDK Runtime Environment\n",
       "JVM: OpenJDK 64-Bit Server VM\n",
       "Default Encoding: UTF-8\n",
       "Language: en\n",
       "Country: null\n",
       "--></g></svg>"
      ]
     },
     "execution_count": 39,
     "metadata": {},
     "output_type": "execute_result"
    }
   ],
   "source": [
    "%viz --style=\"DEFAULT\" --view=\"State\" \"VerificationTest\""
   ]
  },
  {
   "cell_type": "code",
   "execution_count": 40,
   "id": "033fe11a",
   "metadata": {
    "execution": {
     "iopub.execute_input": "2021-10-03T08:26:50.195348Z",
     "iopub.status.busy": "2021-10-03T08:26:50.194932Z",
     "iopub.status.idle": "2021-10-03T08:26:50.254854Z",
     "shell.execute_reply": "2021-10-03T08:26:50.255147Z"
    }
   },
   "outputs": [
    {
     "data": {
      "image/svg+xml": [
       "<?xml version=\"1.0\" encoding=\"UTF-8\" standalone=\"no\"?><svg xmlns=\"http://www.w3.org/2000/svg\" xmlns:xlink=\"http://www.w3.org/1999/xlink\" contentScriptType=\"application/ecmascript\" contentStyleType=\"text/css\" height=\"436px\" preserveAspectRatio=\"none\" style=\"width:1278px;height:436px;\" version=\"1.1\" viewBox=\"0 0 1278 436\" width=\"1278px\" zoomAndPan=\"magnify\"><defs/><g><!--MD5=[fbc87193dbaf4d95561dea2c320d4a47]\n",
       "cluster E1--><a href=\"psysml:7303dfcd-df1a-4034-bc74-eb93457ec7c0\" target=\"_top\" title=\"psysml:7303dfcd-df1a-4034-bc74-eb93457ec7c0\" xlink:actuate=\"onRequest\" xlink:href=\"psysml:7303dfcd-df1a-4034-bc74-eb93457ec7c0\" xlink:show=\"new\" xlink:title=\"psysml:7303dfcd-df1a-4034-bc74-eb93457ec7c0\" xlink:type=\"simple\"><polygon fill=\"#FFFFFF\" points=\"16,6,128,6,135,28.2969,1256,28.2969,1256,424.36,16,424.36,16,6\" style=\"stroke: #000000; stroke-width: 1.5;\"/><line style=\"stroke: #000000; stroke-width: 1.5;\" x1=\"16\" x2=\"135\" y1=\"28.2969\" y2=\"28.2969\"/><text fill=\"#000000\" font-family=\"sans-serif\" font-size=\"14\" font-weight=\"bold\" lengthAdjust=\"spacingAndGlyphs\" textLength=\"106\" x=\"20\" y=\"20.9951\">VerificationTest</text></a><!--MD5=[14e3b0961a2654348d326746436168a1]\n",
       "cluster E6--><a href=\"psysml:f44943ce-87bd-4d2b-91db-f66bd879bf72\" target=\"_top\" title=\"psysml:f44943ce-87bd-4d2b-91db-f66bd879bf72\" xlink:actuate=\"onRequest\" xlink:href=\"psysml:f44943ce-87bd-4d2b-91db-f66bd879bf72\" xlink:show=\"new\" xlink:title=\"psysml:f44943ce-87bd-4d2b-91db-f66bd879bf72\" xlink:type=\"simple\"><rect fill=\"#FFFFFF\" height=\"218.36\" id=\"E6\" style=\"stroke: #383838; stroke-width: 1.5;\" width=\"200\" x=\"1040\" y=\"107\"/><rect fill=\"#F8F8F8\" height=\"37.9375\" style=\"stroke: #383838; stroke-width: 1.5;\" width=\"200\" x=\"1040\" y=\"107\"/><text fill=\"#000000\" font-family=\"sans-serif\" font-size=\"12\" font-style=\"italic\" lengthAdjust=\"spacingAndGlyphs\" textLength=\"137\" x=\"1071.5\" y=\"123.1387\">«verificationCase def»</text><text fill=\"#000000\" font-family=\"sans-serif\" font-size=\"12\" lengthAdjust=\"spacingAndGlyphs\" textLength=\"101\" x=\"1089.5\" y=\"137.1074\">VerificationCase</text></a><!--MD5=[7f149f147074ac12df2cb0a7728a5fb0]\n",
       "cluster E9--><a href=\"psysml:109e665d-9569-4e28-8454-db86a3b7365b\" target=\"_top\" title=\"psysml:109e665d-9569-4e28-8454-db86a3b7365b\" xlink:actuate=\"onRequest\" xlink:href=\"psysml:109e665d-9569-4e28-8454-db86a3b7365b\" xlink:show=\"new\" xlink:title=\"psysml:109e665d-9569-4e28-8454-db86a3b7365b\" xlink:type=\"simple\"><rect fill=\"#FFFFFF\" height=\"293.36\" id=\"E9\" style=\"stroke: #383838; stroke-width: 1.5;\" width=\"322\" x=\"688\" y=\"107\"/><rect fill=\"#F8F8F8\" height=\"37.9375\" style=\"stroke: #383838; stroke-width: 1.5;\" width=\"322\" x=\"688\" y=\"107\"/><text fill=\"#000000\" font-family=\"sans-serif\" font-size=\"12\" font-style=\"italic\" lengthAdjust=\"spacingAndGlyphs\" textLength=\"137\" x=\"780.5\" y=\"123.1387\">«verificationCase def»</text><text fill=\"#000000\" font-family=\"sans-serif\" font-size=\"12\" lengthAdjust=\"spacingAndGlyphs\" textLength=\"97\" x=\"800.5\" y=\"137.1074\">VerificationPlan</text></a><!--MD5=[917b9dd0c7eca3ee5f47219d1a84c0ad]\n",
       "cluster E11--><a href=\"psysml:d8eec309-4539-4ef6-b593-f8d5221313a5\" target=\"_top\" title=\"psysml:d8eec309-4539-4ef6-b593-f8d5221313a5\" xlink:actuate=\"onRequest\" xlink:href=\"psysml:d8eec309-4539-4ef6-b593-f8d5221313a5\" xlink:show=\"new\" xlink:title=\"psysml:d8eec309-4539-4ef6-b593-f8d5221313a5\" xlink:type=\"simple\"><rect fill=\"#FFFFFF\" height=\"165.86\" id=\"E11\" rx=\"10\" ry=\"10\" style=\"stroke: #383838; stroke-width: 1.5;\" width=\"174\" x=\"798\" y=\"196.5\"/><rect fill=\"#F8F8F8\" height=\"37.9375\" rx=\"10\" ry=\"10\" style=\"stroke: #F8F8F8; stroke-width: 1.5;\" width=\"174\" x=\"798\" y=\"196.5\"/><rect fill=\"#F8F8F8\" height=\"10\" style=\"stroke: #F8F8F8; stroke-width: 1.5;\" width=\"174\" x=\"798\" y=\"224.4375\"/><rect fill=\"none\" height=\"165.86\" id=\"E11\" rx=\"10\" ry=\"10\" style=\"stroke: #383838; stroke-width: 1.5;\" width=\"174\" x=\"798\" y=\"196.5\"/><text fill=\"#000000\" font-family=\"sans-serif\" font-size=\"12\" font-style=\"italic\" lengthAdjust=\"spacingAndGlyphs\" textLength=\"113\" x=\"828.5\" y=\"212.6387\">«verificationCase»</text><text fill=\"#000000\" font-family=\"sans-serif\" font-size=\"12\" lengthAdjust=\"spacingAndGlyphs\" textLength=\"99\" x=\"835.5\" y=\"226.6074\">verificationCase</text><line style=\"stroke: #383838; stroke-width: 1.0;\" x1=\"798\" x2=\"972\" y1=\"234.4375\" y2=\"234.4375\"/></a><!--MD5=[ab3548ab6224ff035c4047a4d30b7567]\n",
       "cluster E15--><a href=\"psysml:1ba0f1fa-2142-46f9-b759-d2e88bd368a2\" target=\"_top\" title=\"psysml:1ba0f1fa-2142-46f9-b759-d2e88bd368a2\" xlink:actuate=\"onRequest\" xlink:href=\"psysml:1ba0f1fa-2142-46f9-b759-d2e88bd368a2\" xlink:show=\"new\" xlink:title=\"psysml:1ba0f1fa-2142-46f9-b759-d2e88bd368a2\" xlink:type=\"simple\"><rect fill=\"#FFFFFF\" height=\"186.5\" id=\"E15\" rx=\"10\" ry=\"10\" style=\"stroke: #383838; stroke-width: 1.5;\" width=\"238\" x=\"336\" y=\"49\"/><rect fill=\"#F8F8F8\" height=\"23.9688\" rx=\"10\" ry=\"10\" style=\"stroke: #F8F8F8; stroke-width: 1.5;\" width=\"238\" x=\"336\" y=\"49\"/><rect fill=\"#F8F8F8\" height=\"10\" style=\"stroke: #F8F8F8; stroke-width: 1.5;\" width=\"238\" x=\"336\" y=\"62.9688\"/><rect fill=\"none\" height=\"186.5\" id=\"E15\" rx=\"10\" ry=\"10\" style=\"stroke: #383838; stroke-width: 1.5;\" width=\"238\" x=\"336\" y=\"49\"/><text fill=\"#000000\" font-family=\"sans-serif\" font-size=\"12\" lengthAdjust=\"spacingAndGlyphs\" textLength=\"116\" x=\"397\" y=\"65.1387\">verificationContext</text><line style=\"stroke: #383838; stroke-width: 1.0;\" x1=\"336\" x2=\"574\" y1=\"72.9688\" y2=\"72.9688\"/></a><!--MD5=[ebbe1d658d1005bcc118a6aa81145e00]\n",
       "class E4--><a href=\"psysml:971e85b9-9957-4674-90a7-be3bf98856c5\" target=\"_top\" title=\"psysml:971e85b9-9957-4674-90a7-be3bf98856c5\" xlink:actuate=\"onRequest\" xlink:href=\"psysml:971e85b9-9957-4674-90a7-be3bf98856c5\" xlink:show=\"new\" xlink:title=\"psysml:971e85b9-9957-4674-90a7-be3bf98856c5\" xlink:type=\"simple\"><rect fill=\"#FFFFFF\" height=\"66.7422\" id=\"E4\" style=\"stroke: #383838; stroke-width: 1.5;\" width=\"117\" x=\"202.5\" y=\"163\"/><text fill=\"#000000\" font-family=\"sans-serif\" font-size=\"12\" font-style=\"italic\" lengthAdjust=\"spacingAndGlyphs\" textLength=\"115\" x=\"203.5\" y=\"179.1387\">«requirement def»</text><text fill=\"#000000\" font-family=\"sans-serif\" font-size=\"12\" lengthAdjust=\"spacingAndGlyphs\" textLength=\"8\" x=\"257\" y=\"193.1074\">R</text><line style=\"stroke: #383838; stroke-width: 1.5;\" x1=\"203.5\" x2=\"318.5\" y1=\"200.9375\" y2=\"200.9375\"/><text fill=\"#000000\" font-family=\"sans-serif\" font-size=\"11\" lengthAdjust=\"spacingAndGlyphs\" textLength=\"12\" x=\"208.5\" y=\"215.1479\">...</text><line style=\"stroke: #383838; stroke-width: 1.0;\" x1=\"203.5\" x2=\"318.5\" y1=\"221.7422\" y2=\"221.7422\"/></a><!--MD5=[270fce915f116d4de14055a7c1d9a0f3]\n",
       "class E5--><a href=\"psysml:bbcd2223-85a4-4701-a24f-5592c5712336\" target=\"_top\" title=\"psysml:bbcd2223-85a4-4701-a24f-5592c5712336\" xlink:actuate=\"onRequest\" xlink:href=\"psysml:bbcd2223-85a4-4701-a24f-5592c5712336\" xlink:show=\"new\" xlink:title=\"psysml:bbcd2223-85a4-4701-a24f-5592c5712336\" xlink:type=\"simple\"><rect fill=\"#FFFFFF\" height=\"45.9375\" id=\"E5\" rx=\"10\" ry=\"10\" style=\"stroke: #383838; stroke-width: 1.5;\" width=\"93\" x=\"223.5\" y=\"84\"/><text fill=\"#000000\" font-family=\"sans-serif\" font-size=\"12\" font-style=\"italic\" lengthAdjust=\"spacingAndGlyphs\" textLength=\"91\" x=\"224.5\" y=\"100.1387\">«requirement»</text><text fill=\"#000000\" font-family=\"sans-serif\" font-size=\"12\" lengthAdjust=\"spacingAndGlyphs\" textLength=\"21\" x=\"259.5\" y=\"114.1074\">r: R</text><line style=\"stroke: #383838; stroke-width: 1.5;\" x1=\"224.5\" x2=\"315.5\" y1=\"121.9375\" y2=\"121.9375\"/></a><g id=\"E1.E2\"><a href=\"psysml:ee2cd088-4b38-485a-bdcf-f034eebaa933\" target=\"_top\" title=\"psysml:ee2cd088-4b38-485a-bdcf-f034eebaa933\" xlink:actuate=\"onRequest\" xlink:href=\"psysml:ee2cd088-4b38-485a-bdcf-f034eebaa933\" xlink:show=\"new\" xlink:title=\"psysml:ee2cd088-4b38-485a-bdcf-f034eebaa933\" xlink:type=\"simple\"><rect fill=\"#FFFFFF\" height=\"42.9375\" id=\"E2\" style=\"stroke: #383838; stroke-width: 1.5;\" width=\"71\" x=\"117.5\" y=\"85.5\"/><rect fill=\"#F8F8F8\" height=\"37.9375\" style=\"stroke: #383838; stroke-width: 1.5;\" width=\"71\" x=\"117.5\" y=\"85.5\"/><text fill=\"#000000\" font-family=\"sans-serif\" font-size=\"12\" font-style=\"italic\" lengthAdjust=\"spacingAndGlyphs\" textLength=\"64\" x=\"121\" y=\"101.6387\">«part def»</text><text fill=\"#000000\" font-family=\"sans-serif\" font-size=\"12\" lengthAdjust=\"spacingAndGlyphs\" textLength=\"8\" x=\"149\" y=\"115.6074\">V</text></a></g><g id=\"E1.E3\"><a href=\"psysml:ea23779d-7b91-41e0-a4d1-5f0745e774d2\" target=\"_top\" title=\"psysml:ea23779d-7b91-41e0-a4d1-5f0745e774d2\" xlink:actuate=\"onRequest\" xlink:href=\"psysml:ea23779d-7b91-41e0-a4d1-5f0745e774d2\" xlink:show=\"new\" xlink:title=\"psysml:ea23779d-7b91-41e0-a4d1-5f0745e774d2\" xlink:type=\"simple\"><rect fill=\"#FFFFFF\" height=\"40\" id=\"E3\" rx=\"10\" ry=\"10\" style=\"stroke: #383838; stroke-width: 1.5;\" width=\"50\" x=\"32\" y=\"87\"/><rect fill=\"#F8F8F8\" height=\"23.9688\" rx=\"10\" ry=\"10\" style=\"stroke: #F8F8F8; stroke-width: 1.5;\" width=\"50\" x=\"32\" y=\"87\"/><rect fill=\"#F8F8F8\" height=\"10\" style=\"stroke: #F8F8F8; stroke-width: 1.5;\" width=\"50\" x=\"32\" y=\"100.9688\"/><rect fill=\"none\" height=\"40\" id=\"E3\" rx=\"10\" ry=\"10\" style=\"stroke: #383838; stroke-width: 1.5;\" width=\"50\" x=\"32\" y=\"87\"/><text fill=\"#000000\" font-family=\"sans-serif\" font-size=\"12\" lengthAdjust=\"spacingAndGlyphs\" textLength=\"28\" x=\"43\" y=\"103.1387\">vv: V</text></a></g><text fill=\"#000000\" font-family=\"sans-serif\" font-size=\"14\" lengthAdjust=\"spacingAndGlyphs\" textLength=\"7\" x=\"1136.5\" y=\"85.6982\">v</text><rect fill=\"#383838\" height=\"12\" style=\"stroke: #F8F8F8; stroke-width: 1.5;\" width=\"12\" x=\"1134\" y=\"101\"/><text fill=\"#000000\" font-family=\"sans-serif\" font-size=\"14\" lengthAdjust=\"spacingAndGlyphs\" textLength=\"46\" x=\"1117\" y=\"344.3551\">verdict</text><rect fill=\"#383838\" height=\"12\" style=\"stroke: #F8F8F8; stroke-width: 1.5;\" width=\"12\" x=\"1134\" y=\"319.36\"/><text fill=\"#000000\" font-family=\"sans-serif\" font-size=\"14\" lengthAdjust=\"spacingAndGlyphs\" textLength=\"7\" x=\"702.5\" y=\"85.6982\">v</text><rect fill=\"#383838\" height=\"12\" style=\"stroke: #F8F8F8; stroke-width: 1.5;\" width=\"12\" x=\"700\" y=\"101\"/><text fill=\"#000000\" font-family=\"sans-serif\" font-size=\"14\" lengthAdjust=\"spacingAndGlyphs\" textLength=\"46\" x=\"987\" y=\"344.3551\">verdict</text><rect fill=\"#383838\" height=\"12\" style=\"stroke: #F8F8F8; stroke-width: 1.5;\" width=\"12\" x=\"1004\" y=\"319.36\"/><text fill=\"#000000\" font-family=\"sans-serif\" font-size=\"14\" lengthAdjust=\"spacingAndGlyphs\" textLength=\"46\" x=\"862\" y=\"381.3551\">verdict</text><rect fill=\"#383838\" height=\"12\" style=\"stroke: #F8F8F8; stroke-width: 1.5;\" width=\"12\" x=\"879\" y=\"356.36\"/><text fill=\"#000000\" font-family=\"sans-serif\" font-size=\"14\" lengthAdjust=\"spacingAndGlyphs\" textLength=\"7\" x=\"881.5\" y=\"175.1982\">v</text><rect fill=\"#383838\" height=\"12\" style=\"stroke: #F8F8F8; stroke-width: 1.5;\" width=\"12\" x=\"879\" y=\"190.5\"/><!--MD5=[35f0587eaee8d5bb9a02e25b63afc23b]\n",
       "class E16--><a href=\"psysml:f139e62b-7bf9-43a0-a382-40038ed35c63\" target=\"_top\" title=\"psysml:f139e62b-7bf9-43a0-a382-40038ed35c63\" xlink:actuate=\"onRequest\" xlink:href=\"psysml:f139e62b-7bf9-43a0-a382-40038ed35c63\" xlink:show=\"new\" xlink:title=\"psysml:f139e62b-7bf9-43a0-a382-40038ed35c63\" xlink:type=\"simple\"><rect fill=\"#FFFFFF\" height=\"45.9375\" id=\"E16\" rx=\"10\" ry=\"10\" style=\"stroke: #383838; stroke-width: 1.5;\" width=\"206\" x=\"352\" y=\"84\"/><text fill=\"#000000\" font-family=\"sans-serif\" font-size=\"12\" font-style=\"italic\" lengthAdjust=\"spacingAndGlyphs\" textLength=\"113\" x=\"398.5\" y=\"100.1387\">«verificationCase»</text><text fill=\"#000000\" font-family=\"sans-serif\" font-size=\"12\" lengthAdjust=\"spacingAndGlyphs\" textLength=\"200\" x=\"355\" y=\"114.1074\">verificationPlan: VerificationPlan</text><line style=\"stroke: #383838; stroke-width: 1.5;\" x1=\"353\" x2=\"557\" y1=\"121.9375\" y2=\"121.9375\"/></a><!--MD5=[60e55a4a9b2f0dc0a36787c5a2095786]\n",
       "class E17--><a href=\"psysml:fe640fc2-093c-44fe-a9fd-0ceecb8f463c\" target=\"_top\" title=\"psysml:fe640fc2-093c-44fe-a9fd-0ceecb8f463c\" xlink:actuate=\"onRequest\" xlink:href=\"psysml:fe640fc2-093c-44fe-a9fd-0ceecb8f463c\" xlink:show=\"new\" xlink:title=\"psysml:fe640fc2-093c-44fe-a9fd-0ceecb8f463c\" xlink:type=\"simple\"><rect fill=\"#FFFFFF\" height=\"45.9375\" id=\"E17\" rx=\"10\" ry=\"10\" style=\"stroke: #383838; stroke-width: 1.5;\" width=\"93\" x=\"408.5\" y=\"173.5\"/><text fill=\"#000000\" font-family=\"sans-serif\" font-size=\"12\" font-style=\"italic\" lengthAdjust=\"spacingAndGlyphs\" textLength=\"91\" x=\"409.5\" y=\"189.6387\">«requirement»</text><text fill=\"#000000\" font-family=\"sans-serif\" font-size=\"12\" lengthAdjust=\"spacingAndGlyphs\" textLength=\"19\" x=\"445.5\" y=\"203.6074\">obj</text><line style=\"stroke: #383838; stroke-width: 1.5;\" x1=\"409.5\" x2=\"500.5\" y1=\"211.4375\" y2=\"211.4375\"/></a><!--MD5=[1c62de2aa5b76f0fb657ff8443a1a700]\n",
       "link E5 to E4--><a href=\"psysml:4afeeb28-a204-4e17-a080-31f9a6d380ec\" target=\"_top\" title=\"psysml:4afeeb28-a204-4e17-a080-31f9a6d380ec\" xlink:actuate=\"onRequest\" xlink:href=\"psysml:4afeeb28-a204-4e17-a080-31f9a6d380ec\" xlink:show=\"new\" xlink:title=\"psysml:4afeeb28-a204-4e17-a080-31f9a6d380ec\" xlink:type=\"simple\"><path d=\"M267.73,130.08 C267.32,134.03 266.88,138.3 266.43,142.7 \" fill=\"none\" id=\"E5-&gt;E4\" style=\"stroke: #383838; stroke-width: 1.0;\"/><polygon fill=\"#FFFFFF\" points=\"264.36,162.84,259.3369,143.2245,273.2637,144.6542,264.36,162.84\" style=\"stroke: #383838; stroke-width: 1.0;\"/><ellipse cx=\"261.9085\" cy=\"137.7585\" fill=\"#383838\" rx=\"2\" ry=\"2\" style=\"stroke: #383838; stroke-width: 1.0;\"/><ellipse cx=\"271.8562\" cy=\"138.7797\" fill=\"#383838\" rx=\"2\" ry=\"2\" style=\"stroke: #383838; stroke-width: 1.0;\"/></a><!--MD5=[4de2d328c39b6d65fb95a84ef336270e]\n",
       "link E16 to E9--><a href=\"psysml:cd73bb42-520f-4e04-8240-7f040abbe442\" target=\"_top\" title=\"psysml:cd73bb42-520f-4e04-8240-7f040abbe442\" xlink:actuate=\"onRequest\" xlink:href=\"psysml:cd73bb42-520f-4e04-8240-7f040abbe442\" xlink:show=\"new\" xlink:title=\"psysml:cd73bb42-520f-4e04-8240-7f040abbe442\" xlink:type=\"simple\"><path d=\"M518.34,130.08 C561.91,145.27 618.85,165.12 658.53,178.95 \" fill=\"none\" id=\"E16-&gt;E9\" style=\"stroke: #383838; stroke-width: 1.0;\"/><polygon fill=\"#FFFFFF\" points=\"658.53,178.95,638.2847,179.3067,642.8924,166.0867,658.53,178.95\" style=\"stroke: #383838; stroke-width: 1.0;\"/><ellipse cx=\"633.5605\" cy=\"175.5422\" fill=\"#383838\" rx=\"2\" ry=\"2\" style=\"stroke: #383838; stroke-width: 1.0;\"/><ellipse cx=\"636.8517\" cy=\"166.0993\" fill=\"#383838\" rx=\"2\" ry=\"2\" style=\"stroke: #383838; stroke-width: 1.0;\"/></a><!--MD5=[450e3481f1c83a03a55fcf78b0bbbde6]\n",
       "link E16 to E17--><a href=\"psysml:e29f10bd-d5bc-4797-97ab-a37fb0e5db5b\" target=\"_top\" title=\"psysml:e29f10bd-d5bc-4797-97ab-a37fb0e5db5b\" xlink:actuate=\"onRequest\" xlink:href=\"psysml:e29f10bd-d5bc-4797-97ab-a37fb0e5db5b\" xlink:show=\"new\" xlink:title=\"psysml:e29f10bd-d5bc-4797-97ab-a37fb0e5db5b\" xlink:type=\"simple\"><path d=\"M455,130.08 C455,140.75 455,153.73 455,165.3 \" fill=\"none\" id=\"E16-&gt;E17\" style=\"stroke: #383838; stroke-width: 1.0;\"/><polygon fill=\"#383838\" points=\"455,173.43,458,165.43,452,165.43,455,173.43\" style=\"stroke: #383838; stroke-width: 1.0;\"/><text fill=\"#000000\" font-family=\"sans-serif\" font-size=\"13\" lengthAdjust=\"spacingAndGlyphs\" textLength=\"73\" x=\"456\" y=\"151.0669\">«objective»</text><text fill=\"#000000\" font-family=\"sans-serif\" font-size=\"13\" lengthAdjust=\"spacingAndGlyphs\" textLength=\"7\" x=\"447.0594\" y=\"162.3075\">*</text></a><!--MD5=[722128657d7a68236293110cdc3d41ad]\n",
       "@startuml\r\n",
       "skinparam ranksep 10\r\n",
       "skinparam rectangle {\r\n",
       " backgroundColor<<block>> LightGreen\r\n",
       "}\r\n",
       "skinparam monochrome true\r\n",
       "skinparam classbackgroundcolor white\r\n",
       "skinparam shadowing false\r\n",
       "skinparam wrapWidth 300\r\n",
       "hide circle\r\n",
       "\r\n",
       "package \"VerificationTest\" as E1  [[psysml:7303dfcd-df1a-4034-bc74-eb93457ec7c0 ]]  {\r\n",
       "rec def \"V\" as E2  <<(T,blue) part def>> [[psysml:ee2cd088-4b38-485a-bdcf-f034eebaa933 ]] {\r\n",
       "}\r\n",
       "rec usage \"vv: V\" as E3  [[psysml:ea23779d-7b91-41e0-a4d1-5f0745e774d2 ]] {\r\n",
       "}\r\n",
       "comp def \"R\" as E4  <<(T,blue) requirement def>> [[psysml:971e85b9-9957-4674-90a7-be3bf98856c5 ]] {\r\n",
       "...\r\n",
       "- -\r\n",
       "}\r\n",
       "comp usage \"r: R\" as E5  <<(T,blue) requirement>> [[psysml:bbcd2223-85a4-4701-a24f-5592c5712336 ]] {\r\n",
       "}\r\n",
       "rec def \"VerificationCase\" as E6  <<(T,blue) verificationCase def>> [[psysml:f44943ce-87bd-4d2b-91db-f66bd879bf72 ]] {\r\n",
       "portin \"v\" as E7  [[psysml:39e4c68a-7e48-4018-a595-005447bc25d1 ]] \r\n",
       "portout \"verdict\" as E8  [[psysml:e7480a5a-bc03-4bfb-926c-ff77790341ab ]] \r\n",
       "}\r\n",
       "\r\n",
       "rec def \"VerificationPlan\" as E9  <<(T,blue) verificationCase def>> [[psysml:109e665d-9569-4e28-8454-db86a3b7365b ]] {\r\n",
       "portin \"v\" as E10  [[psysml:bc04aa0f-1251-4bd1-9492-821de83ad0f4 ]] \r\n",
       "rec usage \"verificationCase\" as E11  <<(T,blue) verificationCase>> [[psysml:d8eec309-4539-4ef6-b593-f8d5221313a5 ]] {\r\n",
       "portout \"verdict\" as E12  [[psysml:d4b19012-2d8f-412c-81cb-04106ed54ab9 ]] \r\n",
       "portin \"v\" as E13  [[psysml:101691aa-2b16-4439-bb49-3b5a9750b72a ]] \r\n",
       "}\r\n",
       "\r\n",
       "portout \"verdict\" as E14  [[psysml:d1cc474d-a7ae-4245-8f3b-eac2c389ad3d ]] \r\n",
       "}\r\n",
       "\r\n",
       "rec usage \"verificationContext\" as E15  [[psysml:1ba0f1fa-2142-46f9-b759-d2e88bd368a2 ]] {\r\n",
       "comp usage \"verificationPlan: VerificationPlan\" as E16  <<(T,blue) verificationCase>> [[psysml:f139e62b-7bf9-43a0-a382-40038ed35c63 ]] {\r\n",
       "}\r\n",
       "comp usage \"obj\" as E17  <<(T,blue) requirement>> [[psysml:fe640fc2-093c-44fe-a9fd-0ceecb8f463c ]] {\r\n",
       "}\r\n",
       "}\r\n",
       "}\r\n",
       "E5 - -:|> E4 [[psysml:4afeeb28-a204-4e17-a080-31f9a6d380ec ]] \r\n",
       "E16 - -:|> E9 [[psysml:cd73bb42-520f-4e04-8240-7f040abbe442 ]] \r\n",
       "E16 - ->> \"*\"E17 [[psysml:e29f10bd-d5bc-4797-97ab-a37fb0e5db5b ]] : <<objective>>\r\n",
       "@enduml\r\n",
       "\n",
       "PlantUML version 1.2020.13(Sat Jun 13 12:26:38 UTC 2020)\n",
       "(EPL source distribution)\n",
       "Java Runtime: OpenJDK Runtime Environment\n",
       "JVM: OpenJDK 64-Bit Server VM\n",
       "Default Encoding: UTF-8\n",
       "Language: en\n",
       "Country: null\n",
       "--></g></svg>"
      ]
     },
     "execution_count": 40,
     "metadata": {},
     "output_type": "execute_result"
    }
   ],
   "source": [
    "%viz --style=\"DEFAULT\" --view=\"Interconnection\" \"VerificationTest\""
   ]
  },
  {
   "cell_type": "code",
   "execution_count": 41,
   "id": "9970ddb6",
   "metadata": {
    "execution": {
     "iopub.execute_input": "2021-10-03T08:26:50.304792Z",
     "iopub.status.busy": "2021-10-03T08:26:50.304349Z",
     "iopub.status.idle": "2021-10-03T08:26:50.347733Z",
     "shell.execute_reply": "2021-10-03T08:26:50.347347Z"
    }
   },
   "outputs": [
    {
     "data": {
      "image/svg+xml": [
       "<?xml version=\"1.0\" encoding=\"UTF-8\" standalone=\"no\"?><svg xmlns=\"http://www.w3.org/2000/svg\" xmlns:xlink=\"http://www.w3.org/1999/xlink\" contentScriptType=\"application/ecmascript\" contentStyleType=\"text/css\" height=\"233px\" preserveAspectRatio=\"none\" style=\"width:835px;height:233px;\" version=\"1.1\" viewBox=\"0 0 835 233\" width=\"835px\" zoomAndPan=\"magnify\"><defs/><g><!--MD5=[fbc87193dbaf4d95561dea2c320d4a47]\n",
       "cluster E1--><a href=\"psysml:f44943ce-87bd-4d2b-91db-f66bd879bf72\" target=\"_top\" title=\"psysml:f44943ce-87bd-4d2b-91db-f66bd879bf72\" xlink:actuate=\"onRequest\" xlink:href=\"psysml:f44943ce-87bd-4d2b-91db-f66bd879bf72\" xlink:show=\"new\" xlink:title=\"psysml:f44943ce-87bd-4d2b-91db-f66bd879bf72\" xlink:type=\"simple\"><rect fill=\"#FFFFFF\" height=\"122\" id=\"E1\" style=\"stroke: #383838; stroke-width: 1.5;\" width=\"200\" x=\"7\" y=\"42.0986\"/><rect fill=\"#F8F8F8\" height=\"37.9375\" style=\"stroke: #383838; stroke-width: 1.5;\" width=\"200\" x=\"7\" y=\"42.0986\"/><text fill=\"#000000\" font-family=\"sans-serif\" font-size=\"12\" font-style=\"italic\" lengthAdjust=\"spacingAndGlyphs\" textLength=\"137\" x=\"38.5\" y=\"58.2373\">«verificationCase def»</text><text fill=\"#000000\" font-family=\"sans-serif\" font-size=\"12\" lengthAdjust=\"spacingAndGlyphs\" textLength=\"101\" x=\"56.5\" y=\"72.2061\">VerificationCase</text></a><!--MD5=[f6df4d0ebaf0b5dfb2ced0ae5af7c670]\n",
       "cluster E4--><a href=\"psysml:109e665d-9569-4e28-8454-db86a3b7365b\" target=\"_top\" title=\"psysml:109e665d-9569-4e28-8454-db86a3b7365b\" xlink:actuate=\"onRequest\" xlink:href=\"psysml:109e665d-9569-4e28-8454-db86a3b7365b\" xlink:show=\"new\" xlink:title=\"psysml:109e665d-9569-4e28-8454-db86a3b7365b\" xlink:type=\"simple\"><rect fill=\"#FFFFFF\" height=\"180\" id=\"E4\" style=\"stroke: #383838; stroke-width: 1.5;\" width=\"325\" x=\"297\" y=\"42.0986\"/><rect fill=\"#F8F8F8\" height=\"37.9375\" style=\"stroke: #383838; stroke-width: 1.5;\" width=\"325\" x=\"297\" y=\"42.0986\"/><text fill=\"#000000\" font-family=\"sans-serif\" font-size=\"12\" font-style=\"italic\" lengthAdjust=\"spacingAndGlyphs\" textLength=\"137\" x=\"391\" y=\"58.2373\">«verificationCase def»</text><text fill=\"#000000\" font-family=\"sans-serif\" font-size=\"12\" lengthAdjust=\"spacingAndGlyphs\" textLength=\"97\" x=\"411\" y=\"72.2061\">VerificationPlan</text></a><!--MD5=[14e3b0961a2654348d326746436168a1]\n",
       "cluster E6--><a href=\"psysml:d8eec309-4539-4ef6-b593-f8d5221313a5\" target=\"_top\" title=\"psysml:d8eec309-4539-4ef6-b593-f8d5221313a5\" xlink:actuate=\"onRequest\" xlink:href=\"psysml:d8eec309-4539-4ef6-b593-f8d5221313a5\" xlink:show=\"new\" xlink:title=\"psysml:d8eec309-4539-4ef6-b593-f8d5221313a5\" xlink:type=\"simple\"><rect fill=\"#FFFFFF\" height=\"110.5\" id=\"E6\" rx=\"10\" ry=\"10\" style=\"stroke: #383838; stroke-width: 1.5;\" width=\"174\" x=\"407\" y=\"81.5986\"/><rect fill=\"#F8F8F8\" height=\"37.9375\" rx=\"10\" ry=\"10\" style=\"stroke: #F8F8F8; stroke-width: 1.5;\" width=\"174\" x=\"407\" y=\"81.5986\"/><rect fill=\"#F8F8F8\" height=\"10\" style=\"stroke: #F8F8F8; stroke-width: 1.5;\" width=\"174\" x=\"407\" y=\"109.5361\"/><rect fill=\"none\" height=\"110.5\" id=\"E6\" rx=\"10\" ry=\"10\" style=\"stroke: #383838; stroke-width: 1.5;\" width=\"174\" x=\"407\" y=\"81.5986\"/><text fill=\"#000000\" font-family=\"sans-serif\" font-size=\"12\" font-style=\"italic\" lengthAdjust=\"spacingAndGlyphs\" textLength=\"113\" x=\"437.5\" y=\"97.7373\">«verificationCase»</text><text fill=\"#000000\" font-family=\"sans-serif\" font-size=\"12\" lengthAdjust=\"spacingAndGlyphs\" textLength=\"99\" x=\"444.5\" y=\"111.7061\">verificationCase</text><line style=\"stroke: #383838; stroke-width: 1.0;\" x1=\"407\" x2=\"581\" y1=\"119.5361\" y2=\"119.5361\"/></a><!--MD5=[a84b4591f868c1fa4a211716a82f2f0d]\n",
       "cluster E10--><a href=\"psysml:f139e62b-7bf9-43a0-a382-40038ed35c63\" target=\"_top\" title=\"psysml:f139e62b-7bf9-43a0-a382-40038ed35c63\" xlink:actuate=\"onRequest\" xlink:href=\"psysml:f139e62b-7bf9-43a0-a382-40038ed35c63\" xlink:show=\"new\" xlink:title=\"psysml:f139e62b-7bf9-43a0-a382-40038ed35c63\" xlink:type=\"simple\"><rect fill=\"#FFFFFF\" height=\"122\" id=\"E10\" rx=\"10\" ry=\"10\" style=\"stroke: #383838; stroke-width: 1.5;\" width=\"172\" x=\"651\" y=\"42.0986\"/><rect fill=\"#F8F8F8\" height=\"37.9375\" rx=\"10\" ry=\"10\" style=\"stroke: #F8F8F8; stroke-width: 1.5;\" width=\"172\" x=\"651\" y=\"42.0986\"/><rect fill=\"#F8F8F8\" height=\"10\" style=\"stroke: #F8F8F8; stroke-width: 1.5;\" width=\"172\" x=\"651\" y=\"70.0361\"/><rect fill=\"none\" height=\"122\" id=\"E10\" rx=\"10\" ry=\"10\" style=\"stroke: #383838; stroke-width: 1.5;\" width=\"172\" x=\"651\" y=\"42.0986\"/><text fill=\"#000000\" font-family=\"sans-serif\" font-size=\"12\" font-style=\"italic\" lengthAdjust=\"spacingAndGlyphs\" textLength=\"113\" x=\"680.5\" y=\"58.2373\">«verificationCase»</text><text fill=\"#000000\" font-family=\"sans-serif\" font-size=\"12\" lengthAdjust=\"spacingAndGlyphs\" textLength=\"95\" x=\"689.5\" y=\"72.2061\">verificationPlan</text><line style=\"stroke: #383838; stroke-width: 1.0;\" x1=\"651\" x2=\"823\" y1=\"80.0361\" y2=\"80.0361\"/></a><text fill=\"#000000\" font-family=\"sans-serif\" font-size=\"14\" lengthAdjust=\"spacingAndGlyphs\" textLength=\"7\" x=\"103.5\" y=\"20.7969\">v</text><rect fill=\"#383838\" height=\"12\" style=\"stroke: #F8F8F8; stroke-width: 1.5;\" width=\"12\" x=\"101\" y=\"36.0986\"/><text fill=\"#000000\" font-family=\"sans-serif\" font-size=\"14\" lengthAdjust=\"spacingAndGlyphs\" textLength=\"46\" x=\"84\" y=\"183.0938\">verdict</text><rect fill=\"#383838\" height=\"12\" style=\"stroke: #F8F8F8; stroke-width: 1.5;\" width=\"12\" x=\"101\" y=\"158.0986\"/><text fill=\"#000000\" font-family=\"sans-serif\" font-size=\"14\" lengthAdjust=\"spacingAndGlyphs\" textLength=\"7\" x=\"311.5\" y=\"20.7969\">v</text><rect fill=\"#383838\" height=\"12\" style=\"stroke: #F8F8F8; stroke-width: 1.5;\" width=\"12\" x=\"309\" y=\"36.0986\"/><text fill=\"#000000\" font-family=\"sans-serif\" font-size=\"14\" lengthAdjust=\"spacingAndGlyphs\" textLength=\"46\" x=\"599\" y=\"183.0938\">verdict</text><rect fill=\"#383838\" height=\"12\" style=\"stroke: #F8F8F8; stroke-width: 1.5;\" width=\"12\" x=\"616\" y=\"158.0986\"/><text fill=\"#000000\" font-family=\"sans-serif\" font-size=\"14\" lengthAdjust=\"spacingAndGlyphs\" textLength=\"46\" x=\"471\" y=\"211.0938\">verdict</text><rect fill=\"#383838\" height=\"12\" style=\"stroke: #F8F8F8; stroke-width: 1.5;\" width=\"12\" x=\"488\" y=\"186.0986\"/><text fill=\"#000000\" font-family=\"sans-serif\" font-size=\"14\" lengthAdjust=\"spacingAndGlyphs\" textLength=\"7\" x=\"490.5\" y=\"60.2969\">v</text><rect fill=\"#383838\" height=\"12\" style=\"stroke: #F8F8F8; stroke-width: 1.5;\" width=\"12\" x=\"488\" y=\"75.5986\"/><text fill=\"#000000\" font-family=\"sans-serif\" font-size=\"14\" lengthAdjust=\"spacingAndGlyphs\" textLength=\"7\" x=\"732.5\" y=\"20.7969\">v</text><rect fill=\"#383838\" height=\"12\" style=\"stroke: #F8F8F8; stroke-width: 1.5;\" width=\"12\" x=\"730\" y=\"36.0986\"/><text fill=\"#000000\" font-family=\"sans-serif\" font-size=\"14\" lengthAdjust=\"spacingAndGlyphs\" textLength=\"46\" x=\"646\" y=\"183.0938\">verdict</text><rect fill=\"#383838\" height=\"12\" style=\"stroke: #F8F8F8; stroke-width: 1.5;\" width=\"12\" x=\"663\" y=\"158.0986\"/><!--MD5=[3f6cd733598f15cdf4388a0c3be08aed]\n",
       "@startuml\r\n",
       "skinparam ranksep 8\r\n",
       "skinparam monochrome true\r\n",
       "skinparam classbackgroundcolor white\r\n",
       "skinparam shadowing false\r\n",
       "skinparam wrapWidth 300\r\n",
       "hide circle\r\n",
       "\r\n",
       "rec def \"VerificationCase\" as E1  <<(T,blue) verificationCase def>> [[psysml:f44943ce-87bd-4d2b-91db-f66bd879bf72 ]] {\r\n",
       "portin \"v\" as E2  [[psysml:39e4c68a-7e48-4018-a595-005447bc25d1 ]] \r\n",
       "portout \"verdict\" as E3  [[psysml:e7480a5a-bc03-4bfb-926c-ff77790341ab ]] \r\n",
       "}\r\n",
       "\r\n",
       "rec def \"VerificationPlan\" as E4  <<(T,blue) verificationCase def>> [[psysml:109e665d-9569-4e28-8454-db86a3b7365b ]] {\r\n",
       "portin \"v\" as E5  [[psysml:bc04aa0f-1251-4bd1-9492-821de83ad0f4 ]] \r\n",
       "rec usage \"verificationCase\" as E6  <<(T,blue) verificationCase>> [[psysml:d8eec309-4539-4ef6-b593-f8d5221313a5 ]] {\r\n",
       "portout \"verdict\" as E7  [[psysml:d4b19012-2d8f-412c-81cb-04106ed54ab9 ]] \r\n",
       "portin \"v\" as E8  [[psysml:101691aa-2b16-4439-bb49-3b5a9750b72a ]] \r\n",
       "}\r\n",
       "\r\n",
       "portout \"verdict\" as E9  [[psysml:d1cc474d-a7ae-4245-8f3b-eac2c389ad3d ]] \r\n",
       "}\r\n",
       "\r\n",
       "rec usage \"verificationPlan\" as E10  <<(T,blue) verificationCase>> [[psysml:f139e62b-7bf9-43a0-a382-40038ed35c63 ]] {\r\n",
       "portin \"v\" as E11  [[psysml:e60d74c1-8e27-4253-b6e4-c059af187aab ]] \r\n",
       "portout \"verdict\" as E12  [[psysml:d1cf56c3-055d-4e01-94eb-7c3e50de0a09 ]] \r\n",
       "}\r\n",
       "\r\n",
       "@enduml\r\n",
       "\n",
       "PlantUML version 1.2020.13(Sat Jun 13 12:26:38 UTC 2020)\n",
       "(EPL source distribution)\n",
       "Java Runtime: OpenJDK Runtime Environment\n",
       "JVM: OpenJDK 64-Bit Server VM\n",
       "Default Encoding: UTF-8\n",
       "Language: en\n",
       "Country: null\n",
       "--></g></svg>"
      ]
     },
     "execution_count": 41,
     "metadata": {},
     "output_type": "execute_result"
    }
   ],
   "source": [
    "%viz --style=\"DEFAULT\" --view=\"Action\" \"VerificationTest\""
   ]
  },
  {
   "cell_type": "code",
   "execution_count": 42,
   "id": "0ace3804",
   "metadata": {
    "execution": {
     "iopub.execute_input": "2021-10-03T08:26:50.396730Z",
     "iopub.status.busy": "2021-10-03T08:26:50.396325Z",
     "iopub.status.idle": "2021-10-03T08:26:50.402713Z",
     "shell.execute_reply": "2021-10-03T08:26:50.403031Z"
    }
   },
   "outputs": [
    {
     "data": {
      "image/svg+xml": [
       "<?xml version=\"1.0\" encoding=\"UTF-8\" standalone=\"no\"?><svg xmlns=\"http://www.w3.org/2000/svg\" xmlns:xlink=\"http://www.w3.org/1999/xlink\" contentScriptType=\"application/ecmascript\" contentStyleType=\"text/css\" height=\"12px\" preserveAspectRatio=\"none\" style=\"width:12px;height:12px;\" version=\"1.1\" viewBox=\"0 0 12 12\" width=\"12px\" zoomAndPan=\"magnify\"><defs/><g><!--MD5=[0b72472770326784bf6c2b53246e1e64]\n",
       "@startuml\r\n",
       "skinparam roundcorner 20\r\n",
       "skinparam BoxPadding 20\r\n",
       "skinparam SequenceBoxBackgroundColor #white\r\n",
       "skinparam style strictuml\r\n",
       "skinparam maxMessageSize 100\r\n",
       "skinparam monochrome true\r\n",
       "skinparam classbackgroundcolor white\r\n",
       "skinparam shadowing false\r\n",
       "skinparam wrapWidth 300\r\n",
       "hide circle\r\n",
       "\r\n",
       "@enduml\r\n",
       "\n",
       "PlantUML version 1.2020.13(Sat Jun 13 12:26:38 UTC 2020)\n",
       "(EPL source distribution)\n",
       "Java Runtime: OpenJDK Runtime Environment\n",
       "JVM: OpenJDK 64-Bit Server VM\n",
       "Default Encoding: UTF-8\n",
       "Language: en\n",
       "Country: null\n",
       "--></g></svg>"
      ]
     },
     "execution_count": 42,
     "metadata": {},
     "output_type": "execute_result"
    }
   ],
   "source": [
    "%viz --style=\"DEFAULT\" --view=\"Sequence\" \"VerificationTest\""
   ]
  },
  {
   "cell_type": "code",
   "execution_count": 43,
   "id": "5fc30daf",
   "metadata": {
    "execution": {
     "iopub.execute_input": "2021-10-03T08:26:50.452534Z",
     "iopub.status.busy": "2021-10-03T08:26:50.452129Z",
     "iopub.status.idle": "2021-10-03T08:26:50.527102Z",
     "shell.execute_reply": "2021-10-03T08:26:50.525185Z"
    }
   },
   "outputs": [
    {
     "data": {
      "image/svg+xml": [
       "<?xml version=\"1.0\" encoding=\"UTF-8\" standalone=\"no\"?><svg xmlns=\"http://www.w3.org/2000/svg\" xmlns:xlink=\"http://www.w3.org/1999/xlink\" contentScriptType=\"application/ecmascript\" contentStyleType=\"text/css\" height=\"628px\" preserveAspectRatio=\"none\" style=\"width:1172px;height:628px;\" version=\"1.1\" viewBox=\"0 0 1172 628\" width=\"1172px\" zoomAndPan=\"magnify\"><defs/><g><!--MD5=[fbc87193dbaf4d95561dea2c320d4a47]\n",
       "cluster E1--><a href=\"psysml:7303dfcd-df1a-4034-bc74-eb93457ec7c0\" target=\"_top\" title=\"psysml:7303dfcd-df1a-4034-bc74-eb93457ec7c0\" xlink:actuate=\"onRequest\" xlink:href=\"psysml:7303dfcd-df1a-4034-bc74-eb93457ec7c0\" xlink:show=\"new\" xlink:title=\"psysml:7303dfcd-df1a-4034-bc74-eb93457ec7c0\" xlink:type=\"simple\"><polygon fill=\"#FFFFFF\" points=\"16,6,128,6,135,28.2969,1150,28.2969,1150,616,16,616,16,6\" style=\"stroke: #000000; stroke-width: 1.5;\"/><line style=\"stroke: #000000; stroke-width: 1.5;\" x1=\"16\" x2=\"135\" y1=\"28.2969\" y2=\"28.2969\"/><text fill=\"#000000\" font-family=\"sans-serif\" font-size=\"14\" font-weight=\"bold\" lengthAdjust=\"spacingAndGlyphs\" textLength=\"106\" x=\"20\" y=\"20.9951\">VerificationTest</text></a><!--MD5=[14e3b0961a2654348d326746436168a1]\n",
       "cluster E6--><a href=\"psysml:f44943ce-87bd-4d2b-91db-f66bd879bf72\" target=\"_top\" title=\"psysml:f44943ce-87bd-4d2b-91db-f66bd879bf72\" xlink:actuate=\"onRequest\" xlink:href=\"psysml:f44943ce-87bd-4d2b-91db-f66bd879bf72\" xlink:show=\"new\" xlink:title=\"psysml:f44943ce-87bd-4d2b-91db-f66bd879bf72\" xlink:type=\"simple\"><rect fill=\"#FFFFFF\" height=\"310\" id=\"E6\" style=\"stroke: #383838; stroke-width: 1.5;\" width=\"200\" x=\"934\" y=\"64\"/><rect fill=\"#F8F8F8\" height=\"37.9375\" style=\"stroke: #383838; stroke-width: 1.5;\" width=\"200\" x=\"934\" y=\"64\"/><text fill=\"#000000\" font-family=\"sans-serif\" font-size=\"12\" font-style=\"italic\" lengthAdjust=\"spacingAndGlyphs\" textLength=\"137\" x=\"965.5\" y=\"80.1387\">«verificationCase def»</text><text fill=\"#000000\" font-family=\"sans-serif\" font-size=\"12\" lengthAdjust=\"spacingAndGlyphs\" textLength=\"101\" x=\"983.5\" y=\"94.1074\">VerificationCase</text></a><!--MD5=[7f149f147074ac12df2cb0a7728a5fb0]\n",
       "cluster E9--><a href=\"psysml:109e665d-9569-4e28-8454-db86a3b7365b\" target=\"_top\" title=\"psysml:109e665d-9569-4e28-8454-db86a3b7365b\" xlink:actuate=\"onRequest\" xlink:href=\"psysml:109e665d-9569-4e28-8454-db86a3b7365b\" xlink:show=\"new\" xlink:title=\"psysml:109e665d-9569-4e28-8454-db86a3b7365b\" xlink:type=\"simple\"><rect fill=\"#FFFFFF\" height=\"410.5\" id=\"E9\" style=\"stroke: #383838; stroke-width: 1.5;\" width=\"322\" x=\"344\" y=\"181.5\"/><rect fill=\"#F8F8F8\" height=\"37.9375\" style=\"stroke: #383838; stroke-width: 1.5;\" width=\"322\" x=\"344\" y=\"181.5\"/><text fill=\"#000000\" font-family=\"sans-serif\" font-size=\"12\" font-style=\"italic\" lengthAdjust=\"spacingAndGlyphs\" textLength=\"137\" x=\"436.5\" y=\"197.6387\">«verificationCase def»</text><text fill=\"#000000\" font-family=\"sans-serif\" font-size=\"12\" lengthAdjust=\"spacingAndGlyphs\" textLength=\"97\" x=\"456.5\" y=\"211.6074\">VerificationPlan</text></a><!--MD5=[917b9dd0c7eca3ee5f47219d1a84c0ad]\n",
       "cluster E11--><a href=\"psysml:d8eec309-4539-4ef6-b593-f8d5221313a5\" target=\"_top\" title=\"psysml:d8eec309-4539-4ef6-b593-f8d5221313a5\" xlink:actuate=\"onRequest\" xlink:href=\"psysml:d8eec309-4539-4ef6-b593-f8d5221313a5\" xlink:show=\"new\" xlink:title=\"psysml:d8eec309-4539-4ef6-b593-f8d5221313a5\" xlink:type=\"simple\"><rect fill=\"#FFFFFF\" height=\"239\" id=\"E11\" rx=\"10\" ry=\"10\" style=\"stroke: #383838; stroke-width: 1.5;\" width=\"174\" x=\"454\" y=\"315\"/><rect fill=\"#F8F8F8\" height=\"37.9375\" rx=\"10\" ry=\"10\" style=\"stroke: #F8F8F8; stroke-width: 1.5;\" width=\"174\" x=\"454\" y=\"315\"/><rect fill=\"#F8F8F8\" height=\"10\" style=\"stroke: #F8F8F8; stroke-width: 1.5;\" width=\"174\" x=\"454\" y=\"342.9375\"/><rect fill=\"none\" height=\"239\" id=\"E11\" rx=\"10\" ry=\"10\" style=\"stroke: #383838; stroke-width: 1.5;\" width=\"174\" x=\"454\" y=\"315\"/><text fill=\"#000000\" font-family=\"sans-serif\" font-size=\"12\" font-style=\"italic\" lengthAdjust=\"spacingAndGlyphs\" textLength=\"113\" x=\"484.5\" y=\"331.1387\">«verificationCase»</text><text fill=\"#000000\" font-family=\"sans-serif\" font-size=\"12\" lengthAdjust=\"spacingAndGlyphs\" textLength=\"99\" x=\"491.5\" y=\"345.1074\">verificationCase</text><line style=\"stroke: #383838; stroke-width: 1.0;\" x1=\"454\" x2=\"628\" y1=\"352.9375\" y2=\"352.9375\"/></a><!--MD5=[b4997ac47864f28c2f74865a473b2911]\n",
       "class E2--><a href=\"psysml:ee2cd088-4b38-485a-bdcf-f034eebaa933\" target=\"_top\" title=\"psysml:ee2cd088-4b38-485a-bdcf-f034eebaa933\" xlink:actuate=\"onRequest\" xlink:href=\"psysml:ee2cd088-4b38-485a-bdcf-f034eebaa933\" xlink:show=\"new\" xlink:title=\"psysml:ee2cd088-4b38-485a-bdcf-f034eebaa933\" xlink:type=\"simple\"><rect fill=\"#FFFFFF\" height=\"45.9375\" id=\"E2\" style=\"stroke: #383838; stroke-width: 1.5;\" width=\"66\" x=\"849\" y=\"158.5\"/><text fill=\"#000000\" font-family=\"sans-serif\" font-size=\"12\" font-style=\"italic\" lengthAdjust=\"spacingAndGlyphs\" textLength=\"64\" x=\"850\" y=\"174.6387\">«part def»</text><text fill=\"#000000\" font-family=\"sans-serif\" font-size=\"12\" lengthAdjust=\"spacingAndGlyphs\" textLength=\"8\" x=\"878\" y=\"188.6074\">V</text><line style=\"stroke: #383838; stroke-width: 1.5;\" x1=\"850\" x2=\"914\" y1=\"196.4375\" y2=\"196.4375\"/></a><!--MD5=[09b614a08d8cba4a07c9adeb5e0fee81]\n",
       "class E3--><a href=\"psysml:ea23779d-7b91-41e0-a4d1-5f0745e774d2\" target=\"_top\" title=\"psysml:ea23779d-7b91-41e0-a4d1-5f0745e774d2\" xlink:actuate=\"onRequest\" xlink:href=\"psysml:ea23779d-7b91-41e0-a4d1-5f0745e774d2\" xlink:show=\"new\" xlink:title=\"psysml:ea23779d-7b91-41e0-a4d1-5f0745e774d2\" xlink:type=\"simple\"><rect fill=\"#FFFFFF\" height=\"45.9375\" id=\"E3\" rx=\"10\" ry=\"10\" style=\"stroke: #383838; stroke-width: 1.5;\" width=\"42\" x=\"861\" y=\"41\"/><text fill=\"#000000\" font-family=\"sans-serif\" font-size=\"12\" font-style=\"italic\" lengthAdjust=\"spacingAndGlyphs\" textLength=\"40\" x=\"862\" y=\"57.1387\">«part»</text><text fill=\"#000000\" font-family=\"sans-serif\" font-size=\"12\" lengthAdjust=\"spacingAndGlyphs\" textLength=\"28\" x=\"868\" y=\"71.1074\">vv: V</text><line style=\"stroke: #383838; stroke-width: 1.5;\" x1=\"862\" x2=\"902\" y1=\"78.9375\" y2=\"78.9375\"/></a><!--MD5=[ebbe1d658d1005bcc118a6aa81145e00]\n",
       "class E4--><a href=\"psysml:971e85b9-9957-4674-90a7-be3bf98856c5\" target=\"_top\" title=\"psysml:971e85b9-9957-4674-90a7-be3bf98856c5\" xlink:actuate=\"onRequest\" xlink:href=\"psysml:971e85b9-9957-4674-90a7-be3bf98856c5\" xlink:show=\"new\" xlink:title=\"psysml:971e85b9-9957-4674-90a7-be3bf98856c5\" xlink:type=\"simple\"><rect fill=\"#FFFFFF\" height=\"66.7422\" id=\"E4\" style=\"stroke: #383838; stroke-width: 1.5;\" width=\"117\" x=\"696.5\" y=\"148\"/><text fill=\"#000000\" font-family=\"sans-serif\" font-size=\"12\" font-style=\"italic\" lengthAdjust=\"spacingAndGlyphs\" textLength=\"115\" x=\"697.5\" y=\"164.1387\">«requirement def»</text><text fill=\"#000000\" font-family=\"sans-serif\" font-size=\"12\" lengthAdjust=\"spacingAndGlyphs\" textLength=\"8\" x=\"751\" y=\"178.1074\">R</text><line style=\"stroke: #383838; stroke-width: 1.5;\" x1=\"697.5\" x2=\"812.5\" y1=\"185.9375\" y2=\"185.9375\"/><text fill=\"#000000\" font-family=\"sans-serif\" font-size=\"11\" lengthAdjust=\"spacingAndGlyphs\" textLength=\"12\" x=\"702.5\" y=\"200.1479\">...</text><line style=\"stroke: #383838; stroke-width: 1.0;\" x1=\"697.5\" x2=\"812.5\" y1=\"206.7422\" y2=\"206.7422\"/></a><!--MD5=[270fce915f116d4de14055a7c1d9a0f3]\n",
       "class E5--><a href=\"psysml:bbcd2223-85a4-4701-a24f-5592c5712336\" target=\"_top\" title=\"psysml:bbcd2223-85a4-4701-a24f-5592c5712336\" xlink:actuate=\"onRequest\" xlink:href=\"psysml:bbcd2223-85a4-4701-a24f-5592c5712336\" xlink:show=\"new\" xlink:title=\"psysml:bbcd2223-85a4-4701-a24f-5592c5712336\" xlink:type=\"simple\"><rect fill=\"#FFFFFF\" height=\"45.9375\" id=\"E5\" rx=\"10\" ry=\"10\" style=\"stroke: #383838; stroke-width: 1.5;\" width=\"93\" x=\"708.5\" y=\"41\"/><text fill=\"#000000\" font-family=\"sans-serif\" font-size=\"12\" font-style=\"italic\" lengthAdjust=\"spacingAndGlyphs\" textLength=\"91\" x=\"709.5\" y=\"57.1387\">«requirement»</text><text fill=\"#000000\" font-family=\"sans-serif\" font-size=\"12\" lengthAdjust=\"spacingAndGlyphs\" textLength=\"21\" x=\"744.5\" y=\"71.1074\">r: R</text><line style=\"stroke: #383838; stroke-width: 1.5;\" x1=\"709.5\" x2=\"800.5\" y1=\"78.9375\" y2=\"78.9375\"/></a><!--MD5=[0c48fb7552dae8cbbef69381101a84c8]\n",
       "class E15--><a href=\"psysml:1ba0f1fa-2142-46f9-b759-d2e88bd368a2\" target=\"_top\" title=\"psysml:1ba0f1fa-2142-46f9-b759-d2e88bd368a2\" xlink:actuate=\"onRequest\" xlink:href=\"psysml:1ba0f1fa-2142-46f9-b759-d2e88bd368a2\" xlink:show=\"new\" xlink:title=\"psysml:1ba0f1fa-2142-46f9-b759-d2e88bd368a2\" xlink:type=\"simple\"><rect fill=\"#FFFFFF\" height=\"45.9375\" id=\"E15\" rx=\"10\" ry=\"10\" style=\"stroke: #383838; stroke-width: 1.5;\" width=\"122\" x=\"74\" y=\"41\"/><text fill=\"#000000\" font-family=\"sans-serif\" font-size=\"12\" font-style=\"italic\" lengthAdjust=\"spacingAndGlyphs\" textLength=\"40\" x=\"115\" y=\"57.1387\">«part»</text><text fill=\"#000000\" font-family=\"sans-serif\" font-size=\"12\" lengthAdjust=\"spacingAndGlyphs\" textLength=\"116\" x=\"77\" y=\"71.1074\">verificationContext</text><line style=\"stroke: #383838; stroke-width: 1.5;\" x1=\"75\" x2=\"195\" y1=\"78.9375\" y2=\"78.9375\"/></a><!--MD5=[35f0587eaee8d5bb9a02e25b63afc23b]\n",
       "class E16--><a href=\"psysml:f139e62b-7bf9-43a0-a382-40038ed35c63\" target=\"_top\" title=\"psysml:f139e62b-7bf9-43a0-a382-40038ed35c63\" xlink:actuate=\"onRequest\" xlink:href=\"psysml:f139e62b-7bf9-43a0-a382-40038ed35c63\" xlink:show=\"new\" xlink:title=\"psysml:f139e62b-7bf9-43a0-a382-40038ed35c63\" xlink:type=\"simple\"><rect fill=\"#FFFFFF\" height=\"45.9375\" id=\"E16\" rx=\"10\" ry=\"10\" style=\"stroke: #383838; stroke-width: 1.5;\" width=\"206\" x=\"32\" y=\"158.5\"/><text fill=\"#000000\" font-family=\"sans-serif\" font-size=\"12\" font-style=\"italic\" lengthAdjust=\"spacingAndGlyphs\" textLength=\"113\" x=\"78.5\" y=\"174.6387\">«verificationCase»</text><text fill=\"#000000\" font-family=\"sans-serif\" font-size=\"12\" lengthAdjust=\"spacingAndGlyphs\" textLength=\"200\" x=\"35\" y=\"188.6074\">verificationPlan: VerificationPlan</text><line style=\"stroke: #383838; stroke-width: 1.5;\" x1=\"33\" x2=\"237\" y1=\"196.4375\" y2=\"196.4375\"/></a><!--MD5=[60e55a4a9b2f0dc0a36787c5a2095786]\n",
       "class E17--><a href=\"psysml:fe640fc2-093c-44fe-a9fd-0ceecb8f463c\" target=\"_top\" title=\"psysml:fe640fc2-093c-44fe-a9fd-0ceecb8f463c\" xlink:actuate=\"onRequest\" xlink:href=\"psysml:fe640fc2-093c-44fe-a9fd-0ceecb8f463c\" xlink:show=\"new\" xlink:title=\"psysml:fe640fc2-093c-44fe-a9fd-0ceecb8f463c\" xlink:type=\"simple\"><rect fill=\"#FFFFFF\" height=\"45.9375\" id=\"E17\" rx=\"10\" ry=\"10\" style=\"stroke: #383838; stroke-width: 1.5;\" width=\"93\" x=\"88.5\" y=\"292\"/><text fill=\"#000000\" font-family=\"sans-serif\" font-size=\"12\" font-style=\"italic\" lengthAdjust=\"spacingAndGlyphs\" textLength=\"91\" x=\"89.5\" y=\"308.1387\">«requirement»</text><text fill=\"#000000\" font-family=\"sans-serif\" font-size=\"12\" lengthAdjust=\"spacingAndGlyphs\" textLength=\"19\" x=\"125.5\" y=\"322.1074\">obj</text><line style=\"stroke: #383838; stroke-width: 1.5;\" x1=\"89.5\" x2=\"180.5\" y1=\"329.9375\" y2=\"329.9375\"/></a><text fill=\"#000000\" font-family=\"sans-serif\" font-size=\"14\" lengthAdjust=\"spacingAndGlyphs\" textLength=\"7\" x=\"1030.5\" y=\"42.6982\">v</text><rect fill=\"#383838\" height=\"12\" style=\"stroke: #F8F8F8; stroke-width: 1.5;\" width=\"12\" x=\"1028\" y=\"58\"/><text fill=\"#000000\" font-family=\"sans-serif\" font-size=\"14\" lengthAdjust=\"spacingAndGlyphs\" textLength=\"46\" x=\"1011\" y=\"392.9951\">verdict</text><rect fill=\"#383838\" height=\"12\" style=\"stroke: #F8F8F8; stroke-width: 1.5;\" width=\"12\" x=\"1028\" y=\"368\"/><text fill=\"#000000\" font-family=\"sans-serif\" font-size=\"14\" lengthAdjust=\"spacingAndGlyphs\" textLength=\"7\" x=\"358.5\" y=\"160.1982\">v</text><rect fill=\"#383838\" height=\"12\" style=\"stroke: #F8F8F8; stroke-width: 1.5;\" width=\"12\" x=\"356\" y=\"175.5\"/><text fill=\"#000000\" font-family=\"sans-serif\" font-size=\"14\" lengthAdjust=\"spacingAndGlyphs\" textLength=\"46\" x=\"643\" y=\"499.9951\">verdict</text><rect fill=\"#383838\" height=\"12\" style=\"stroke: #F8F8F8; stroke-width: 1.5;\" width=\"12\" x=\"660\" y=\"475\"/><text fill=\"#000000\" font-family=\"sans-serif\" font-size=\"14\" lengthAdjust=\"spacingAndGlyphs\" textLength=\"46\" x=\"518\" y=\"572.9951\">verdict</text><rect fill=\"#383838\" height=\"12\" style=\"stroke: #F8F8F8; stroke-width: 1.5;\" width=\"12\" x=\"535\" y=\"548\"/><text fill=\"#000000\" font-family=\"sans-serif\" font-size=\"14\" lengthAdjust=\"spacingAndGlyphs\" textLength=\"7\" x=\"537.5\" y=\"293.6982\">v</text><rect fill=\"#383838\" height=\"12\" style=\"stroke: #F8F8F8; stroke-width: 1.5;\" width=\"12\" x=\"535\" y=\"309\"/><!--MD5=[05d275557350bfb9b23a4ef7222b4c39]\n",
       "link E3 to E2--><a href=\"psysml:2b222a15-a90b-432a-993d-d339516ea993\" target=\"_top\" title=\"psysml:2b222a15-a90b-432a-993d-d339516ea993\" xlink:actuate=\"onRequest\" xlink:href=\"psysml:2b222a15-a90b-432a-993d-d339516ea993\" xlink:show=\"new\" xlink:title=\"psysml:2b222a15-a90b-432a-993d-d339516ea993\" xlink:type=\"simple\"><path d=\"M882,87.27 C882,101.65 882,120.82 882,138.04 \" fill=\"none\" id=\"E3-&gt;E2\" style=\"stroke: #383838; stroke-width: 1.0;\"/><polygon fill=\"#FFFFFF\" points=\"882,158.3,875,139.3,889,139.3,882,158.3\" style=\"stroke: #383838; stroke-width: 1.0;\"/><ellipse cx=\"877\" cy=\"133.6\" fill=\"#383838\" rx=\"2\" ry=\"2\" style=\"stroke: #383838; stroke-width: 1.0;\"/><ellipse cx=\"887\" cy=\"133.6\" fill=\"#383838\" rx=\"2\" ry=\"2\" style=\"stroke: #383838; stroke-width: 1.0;\"/></a><!--MD5=[1c62de2aa5b76f0fb657ff8443a1a700]\n",
       "link E5 to E4--><a href=\"psysml:4afeeb28-a204-4e17-a080-31f9a6d380ec\" target=\"_top\" title=\"psysml:4afeeb28-a204-4e17-a080-31f9a6d380ec\" xlink:actuate=\"onRequest\" xlink:href=\"psysml:4afeeb28-a204-4e17-a080-31f9a6d380ec\" xlink:show=\"new\" xlink:title=\"psysml:4afeeb28-a204-4e17-a080-31f9a6d380ec\" xlink:type=\"simple\"><path d=\"M755,87.27 C755,98.81 755,113.43 755,127.66 \" fill=\"none\" id=\"E5-&gt;E4\" style=\"stroke: #383838; stroke-width: 1.0;\"/><polygon fill=\"#FFFFFF\" points=\"755,147.81,748,128.81,762,128.81,755,147.81\" style=\"stroke: #383838; stroke-width: 1.0;\"/><ellipse cx=\"750\" cy=\"123.11\" fill=\"#383838\" rx=\"2\" ry=\"2\" style=\"stroke: #383838; stroke-width: 1.0;\"/><ellipse cx=\"760\" cy=\"123.11\" fill=\"#383838\" rx=\"2\" ry=\"2\" style=\"stroke: #383838; stroke-width: 1.0;\"/></a><!--MD5=[58e4cf537c4d67f6b3da95fd5b934e63]\n",
       "reverse link E15 to E16--><a href=\"psysml:4d9ca163-dfe0-49d5-81cb-3058dc3dad3f\" target=\"_top\" title=\"psysml:4d9ca163-dfe0-49d5-81cb-3058dc3dad3f\" xlink:actuate=\"onRequest\" xlink:href=\"psysml:4d9ca163-dfe0-49d5-81cb-3058dc3dad3f\" xlink:show=\"new\" xlink:title=\"psysml:4d9ca163-dfe0-49d5-81cb-3058dc3dad3f\" xlink:type=\"simple\"><path d=\"M135,100.49 C135,119.35 135,141.94 135,158.3 \" fill=\"none\" id=\"E15&lt;-E16\" style=\"stroke: #383838; stroke-width: 1.0;\"/><polygon fill=\"#383838\" points=\"135,87.27,131,93.27,135,99.27,139,93.27,135,87.27\" style=\"stroke: #383838; stroke-width: 1.0;\"/></a><!--MD5=[4de2d328c39b6d65fb95a84ef336270e]\n",
       "link E16 to E9--><a href=\"psysml:cd73bb42-520f-4e04-8240-7f040abbe442\" target=\"_top\" title=\"psysml:cd73bb42-520f-4e04-8240-7f040abbe442\" xlink:actuate=\"onRequest\" xlink:href=\"psysml:cd73bb42-520f-4e04-8240-7f040abbe442\" xlink:show=\"new\" xlink:title=\"psysml:cd73bb42-520f-4e04-8240-7f040abbe442\" xlink:type=\"simple\"><path d=\"M172.99,204.51 C218.18,230.69 292.58,273.79 333.25,297.35 \" fill=\"none\" id=\"E16-&gt;E9\" style=\"stroke: #383838; stroke-width: 1.0;\"/><polygon fill=\"#FFFFFF\" points=\"333.25,297.35,313.3006,293.8831,320.3182,281.7689,333.25,297.35\" style=\"stroke: #383838; stroke-width: 1.0;\"/><ellipse cx=\"309.3709\" cy=\"289.2953\" fill=\"#383838\" rx=\"2\" ry=\"2\" style=\"stroke: #383838; stroke-width: 1.0;\"/><ellipse cx=\"314.3835\" cy=\"280.6423\" fill=\"#383838\" rx=\"2\" ry=\"2\" style=\"stroke: #383838; stroke-width: 1.0;\"/></a><!--MD5=[450e3481f1c83a03a55fcf78b0bbbde6]\n",
       "link E16 to E17--><a href=\"psysml:e29f10bd-d5bc-4797-97ab-a37fb0e5db5b\" target=\"_top\" title=\"psysml:e29f10bd-d5bc-4797-97ab-a37fb0e5db5b\" xlink:actuate=\"onRequest\" xlink:href=\"psysml:e29f10bd-d5bc-4797-97ab-a37fb0e5db5b\" xlink:show=\"new\" xlink:title=\"psysml:e29f10bd-d5bc-4797-97ab-a37fb0e5db5b\" xlink:type=\"simple\"><path d=\"M135,204.51 C135,226.22 135,259.59 135,283.78 \" fill=\"none\" id=\"E16-&gt;E17\" style=\"stroke: #383838; stroke-width: 1.0;\"/><polygon fill=\"#383838\" points=\"135,291.92,138,283.92,132,283.92,135,291.92\" style=\"stroke: #383838; stroke-width: 1.0;\"/><text fill=\"#000000\" font-family=\"sans-serif\" font-size=\"13\" lengthAdjust=\"spacingAndGlyphs\" textLength=\"73\" x=\"136\" y=\"258.0669\">«objective»</text><text fill=\"#000000\" font-family=\"sans-serif\" font-size=\"13\" lengthAdjust=\"spacingAndGlyphs\" textLength=\"7\" x=\"127.0594\" y=\"280.7948\">*</text></a><!--MD5=[0e9d1bced900f3187a30d68f1971bd8d]\n",
       "@startuml\r\n",
       "skinparam monochrome true\r\n",
       "skinparam classbackgroundcolor white\r\n",
       "skinparam shadowing false\r\n",
       "skinparam wrapWidth 300\r\n",
       "hide circle\r\n",
       "\r\n",
       "package \"VerificationTest\" as E1  [[psysml:7303dfcd-df1a-4034-bc74-eb93457ec7c0 ]]  {\r\n",
       "comp def \"V\" as E2  <<(T,blue) part def>> [[psysml:ee2cd088-4b38-485a-bdcf-f034eebaa933 ]] {\r\n",
       "}\r\n",
       "comp usage \"vv: V\" as E3  <<(T,blue) part>> [[psysml:ea23779d-7b91-41e0-a4d1-5f0745e774d2 ]] {\r\n",
       "}\r\n",
       "comp def \"R\" as E4  <<(T,blue) requirement def>> [[psysml:971e85b9-9957-4674-90a7-be3bf98856c5 ]] {\r\n",
       "...\r\n",
       "- -\r\n",
       "}\r\n",
       "comp usage \"r: R\" as E5  <<(T,blue) requirement>> [[psysml:bbcd2223-85a4-4701-a24f-5592c5712336 ]] {\r\n",
       "}\r\n",
       "rec def \"VerificationCase\" as E6  <<(T,blue) verificationCase def>> [[psysml:f44943ce-87bd-4d2b-91db-f66bd879bf72 ]] {\r\n",
       "portin \"v\" as E7  [[psysml:39e4c68a-7e48-4018-a595-005447bc25d1 ]] \r\n",
       "portout \"verdict\" as E8  [[psysml:e7480a5a-bc03-4bfb-926c-ff77790341ab ]] \r\n",
       "}\r\n",
       "\r\n",
       "rec def \"VerificationPlan\" as E9  <<(T,blue) verificationCase def>> [[psysml:109e665d-9569-4e28-8454-db86a3b7365b ]] {\r\n",
       "portin \"v\" as E10  [[psysml:bc04aa0f-1251-4bd1-9492-821de83ad0f4 ]] \r\n",
       "rec usage \"verificationCase\" as E11  <<(T,blue) verificationCase>> [[psysml:d8eec309-4539-4ef6-b593-f8d5221313a5 ]] {\r\n",
       "portout \"verdict\" as E12  [[psysml:d4b19012-2d8f-412c-81cb-04106ed54ab9 ]] \r\n",
       "portin \"v\" as E13  [[psysml:101691aa-2b16-4439-bb49-3b5a9750b72a ]] \r\n",
       "}\r\n",
       "\r\n",
       "portout \"verdict\" as E14  [[psysml:d1cc474d-a7ae-4245-8f3b-eac2c389ad3d ]] \r\n",
       "}\r\n",
       "\r\n",
       "comp usage \"verificationContext\" as E15  <<(T,blue) part>> [[psysml:1ba0f1fa-2142-46f9-b759-d2e88bd368a2 ]] {\r\n",
       "}\r\n",
       "comp usage \"verificationPlan: VerificationPlan\" as E16  <<(T,blue) verificationCase>> [[psysml:f139e62b-7bf9-43a0-a382-40038ed35c63 ]] {\r\n",
       "}\r\n",
       "comp usage \"obj\" as E17  <<(T,blue) requirement>> [[psysml:fe640fc2-093c-44fe-a9fd-0ceecb8f463c ]] {\r\n",
       "}\r\n",
       "}\r\n",
       "E3 - -:|> E2 [[psysml:2b222a15-a90b-432a-993d-d339516ea993 ]] \r\n",
       "E5 - -:|> E4 [[psysml:4afeeb28-a204-4e17-a080-31f9a6d380ec ]] \r\n",
       "E15 *- - E16 [[psysml:4d9ca163-dfe0-49d5-81cb-3058dc3dad3f ]] \r\n",
       "E16 - -:|> E9 [[psysml:cd73bb42-520f-4e04-8240-7f040abbe442 ]] \r\n",
       "E16 - ->> \"*\"E17 [[psysml:e29f10bd-d5bc-4797-97ab-a37fb0e5db5b ]] : <<objective>>\r\n",
       "@enduml\r\n",
       "\n",
       "PlantUML version 1.2020.13(Sat Jun 13 12:26:38 UTC 2020)\n",
       "(EPL source distribution)\n",
       "Java Runtime: OpenJDK Runtime Environment\n",
       "JVM: OpenJDK 64-Bit Server VM\n",
       "Default Encoding: UTF-8\n",
       "Language: en\n",
       "Country: null\n",
       "--></g></svg>"
      ]
     },
     "execution_count": 43,
     "metadata": {},
     "output_type": "execute_result"
    }
   ],
   "source": [
    "%viz --style=\"DEFAULT\" --view=\"MIXED\" \"VerificationTest\""
   ]
  },
  {
   "cell_type": "code",
   "execution_count": 44,
   "id": "ef5da3bb",
   "metadata": {
    "execution": {
     "iopub.execute_input": "2021-10-03T08:26:50.575561Z",
     "iopub.status.busy": "2021-10-03T08:26:50.575137Z",
     "iopub.status.idle": "2021-10-03T08:26:50.630005Z",
     "shell.execute_reply": "2021-10-03T08:26:50.628072Z"
    }
   },
   "outputs": [
    {
     "data": {
      "image/svg+xml": [
       "<?xml version=\"1.0\" encoding=\"UTF-8\" standalone=\"no\"?><svg xmlns=\"http://www.w3.org/2000/svg\" xmlns:xlink=\"http://www.w3.org/1999/xlink\" contentScriptType=\"application/ecmascript\" contentStyleType=\"text/css\" height=\"628px\" preserveAspectRatio=\"none\" style=\"width:1172px;height:628px;\" version=\"1.1\" viewBox=\"0 0 1172 628\" width=\"1172px\" zoomAndPan=\"magnify\"><defs/><g><!--MD5=[fbc87193dbaf4d95561dea2c320d4a47]\n",
       "cluster E1--><a href=\"psysml:7303dfcd-df1a-4034-bc74-eb93457ec7c0\" target=\"_top\" title=\"psysml:7303dfcd-df1a-4034-bc74-eb93457ec7c0\" xlink:actuate=\"onRequest\" xlink:href=\"psysml:7303dfcd-df1a-4034-bc74-eb93457ec7c0\" xlink:show=\"new\" xlink:title=\"psysml:7303dfcd-df1a-4034-bc74-eb93457ec7c0\" xlink:type=\"simple\"><polygon fill=\"#FFFFFF\" points=\"16,6,128,6,135,28.2969,1150,28.2969,1150,616,16,616,16,6\" style=\"stroke: #000000; stroke-width: 1.5;\"/><line style=\"stroke: #000000; stroke-width: 1.5;\" x1=\"16\" x2=\"135\" y1=\"28.2969\" y2=\"28.2969\"/><text fill=\"#000000\" font-family=\"sans-serif\" font-size=\"14\" font-weight=\"bold\" lengthAdjust=\"spacingAndGlyphs\" textLength=\"106\" x=\"20\" y=\"20.9951\">VerificationTest</text></a><!--MD5=[14e3b0961a2654348d326746436168a1]\n",
       "cluster E6--><a href=\"psysml:f44943ce-87bd-4d2b-91db-f66bd879bf72\" target=\"_top\" title=\"psysml:f44943ce-87bd-4d2b-91db-f66bd879bf72\" xlink:actuate=\"onRequest\" xlink:href=\"psysml:f44943ce-87bd-4d2b-91db-f66bd879bf72\" xlink:show=\"new\" xlink:title=\"psysml:f44943ce-87bd-4d2b-91db-f66bd879bf72\" xlink:type=\"simple\"><rect fill=\"#FFFFFF\" height=\"310\" id=\"E6\" style=\"stroke: #383838; stroke-width: 1.5;\" width=\"200\" x=\"934\" y=\"64\"/><rect fill=\"#F8F8F8\" height=\"37.9375\" style=\"stroke: #383838; stroke-width: 1.5;\" width=\"200\" x=\"934\" y=\"64\"/><text fill=\"#000000\" font-family=\"sans-serif\" font-size=\"12\" font-style=\"italic\" lengthAdjust=\"spacingAndGlyphs\" textLength=\"137\" x=\"965.5\" y=\"80.1387\">«verificationCase def»</text><text fill=\"#000000\" font-family=\"sans-serif\" font-size=\"12\" lengthAdjust=\"spacingAndGlyphs\" textLength=\"101\" x=\"983.5\" y=\"94.1074\">VerificationCase</text></a><!--MD5=[7f149f147074ac12df2cb0a7728a5fb0]\n",
       "cluster E9--><a href=\"psysml:109e665d-9569-4e28-8454-db86a3b7365b\" target=\"_top\" title=\"psysml:109e665d-9569-4e28-8454-db86a3b7365b\" xlink:actuate=\"onRequest\" xlink:href=\"psysml:109e665d-9569-4e28-8454-db86a3b7365b\" xlink:show=\"new\" xlink:title=\"psysml:109e665d-9569-4e28-8454-db86a3b7365b\" xlink:type=\"simple\"><rect fill=\"#FFFFFF\" height=\"410.5\" id=\"E9\" style=\"stroke: #383838; stroke-width: 1.5;\" width=\"322\" x=\"344\" y=\"181.5\"/><rect fill=\"#F8F8F8\" height=\"37.9375\" style=\"stroke: #383838; stroke-width: 1.5;\" width=\"322\" x=\"344\" y=\"181.5\"/><text fill=\"#000000\" font-family=\"sans-serif\" font-size=\"12\" font-style=\"italic\" lengthAdjust=\"spacingAndGlyphs\" textLength=\"137\" x=\"436.5\" y=\"197.6387\">«verificationCase def»</text><text fill=\"#000000\" font-family=\"sans-serif\" font-size=\"12\" lengthAdjust=\"spacingAndGlyphs\" textLength=\"97\" x=\"456.5\" y=\"211.6074\">VerificationPlan</text></a><!--MD5=[917b9dd0c7eca3ee5f47219d1a84c0ad]\n",
       "cluster E11--><a href=\"psysml:d8eec309-4539-4ef6-b593-f8d5221313a5\" target=\"_top\" title=\"psysml:d8eec309-4539-4ef6-b593-f8d5221313a5\" xlink:actuate=\"onRequest\" xlink:href=\"psysml:d8eec309-4539-4ef6-b593-f8d5221313a5\" xlink:show=\"new\" xlink:title=\"psysml:d8eec309-4539-4ef6-b593-f8d5221313a5\" xlink:type=\"simple\"><rect fill=\"#FFFFFF\" height=\"239\" id=\"E11\" rx=\"10\" ry=\"10\" style=\"stroke: #383838; stroke-width: 1.5;\" width=\"174\" x=\"454\" y=\"315\"/><rect fill=\"#F8F8F8\" height=\"37.9375\" rx=\"10\" ry=\"10\" style=\"stroke: #F8F8F8; stroke-width: 1.5;\" width=\"174\" x=\"454\" y=\"315\"/><rect fill=\"#F8F8F8\" height=\"10\" style=\"stroke: #F8F8F8; stroke-width: 1.5;\" width=\"174\" x=\"454\" y=\"342.9375\"/><rect fill=\"none\" height=\"239\" id=\"E11\" rx=\"10\" ry=\"10\" style=\"stroke: #383838; stroke-width: 1.5;\" width=\"174\" x=\"454\" y=\"315\"/><text fill=\"#000000\" font-family=\"sans-serif\" font-size=\"12\" font-style=\"italic\" lengthAdjust=\"spacingAndGlyphs\" textLength=\"113\" x=\"484.5\" y=\"331.1387\">«verificationCase»</text><text fill=\"#000000\" font-family=\"sans-serif\" font-size=\"12\" lengthAdjust=\"spacingAndGlyphs\" textLength=\"99\" x=\"491.5\" y=\"345.1074\">verificationCase</text><line style=\"stroke: #383838; stroke-width: 1.0;\" x1=\"454\" x2=\"628\" y1=\"352.9375\" y2=\"352.9375\"/></a><!--MD5=[b4997ac47864f28c2f74865a473b2911]\n",
       "class E2--><a href=\"psysml:ee2cd088-4b38-485a-bdcf-f034eebaa933\" target=\"_top\" title=\"psysml:ee2cd088-4b38-485a-bdcf-f034eebaa933\" xlink:actuate=\"onRequest\" xlink:href=\"psysml:ee2cd088-4b38-485a-bdcf-f034eebaa933\" xlink:show=\"new\" xlink:title=\"psysml:ee2cd088-4b38-485a-bdcf-f034eebaa933\" xlink:type=\"simple\"><rect fill=\"#FFFFFF\" height=\"45.9375\" id=\"E2\" style=\"stroke: #383838; stroke-width: 1.5;\" width=\"66\" x=\"849\" y=\"158.5\"/><text fill=\"#000000\" font-family=\"sans-serif\" font-size=\"12\" font-style=\"italic\" lengthAdjust=\"spacingAndGlyphs\" textLength=\"64\" x=\"850\" y=\"174.6387\">«part def»</text><text fill=\"#000000\" font-family=\"sans-serif\" font-size=\"12\" lengthAdjust=\"spacingAndGlyphs\" textLength=\"8\" x=\"878\" y=\"188.6074\">V</text><line style=\"stroke: #383838; stroke-width: 1.5;\" x1=\"850\" x2=\"914\" y1=\"196.4375\" y2=\"196.4375\"/></a><!--MD5=[09b614a08d8cba4a07c9adeb5e0fee81]\n",
       "class E3--><a href=\"psysml:ea23779d-7b91-41e0-a4d1-5f0745e774d2\" target=\"_top\" title=\"psysml:ea23779d-7b91-41e0-a4d1-5f0745e774d2\" xlink:actuate=\"onRequest\" xlink:href=\"psysml:ea23779d-7b91-41e0-a4d1-5f0745e774d2\" xlink:show=\"new\" xlink:title=\"psysml:ea23779d-7b91-41e0-a4d1-5f0745e774d2\" xlink:type=\"simple\"><rect fill=\"#FFFFFF\" height=\"45.9375\" id=\"E3\" rx=\"10\" ry=\"10\" style=\"stroke: #383838; stroke-width: 1.5;\" width=\"42\" x=\"861\" y=\"41\"/><text fill=\"#000000\" font-family=\"sans-serif\" font-size=\"12\" font-style=\"italic\" lengthAdjust=\"spacingAndGlyphs\" textLength=\"40\" x=\"862\" y=\"57.1387\">«part»</text><text fill=\"#000000\" font-family=\"sans-serif\" font-size=\"12\" lengthAdjust=\"spacingAndGlyphs\" textLength=\"28\" x=\"868\" y=\"71.1074\">vv: V</text><line style=\"stroke: #383838; stroke-width: 1.5;\" x1=\"862\" x2=\"902\" y1=\"78.9375\" y2=\"78.9375\"/></a><!--MD5=[ebbe1d658d1005bcc118a6aa81145e00]\n",
       "class E4--><a href=\"psysml:971e85b9-9957-4674-90a7-be3bf98856c5\" target=\"_top\" title=\"psysml:971e85b9-9957-4674-90a7-be3bf98856c5\" xlink:actuate=\"onRequest\" xlink:href=\"psysml:971e85b9-9957-4674-90a7-be3bf98856c5\" xlink:show=\"new\" xlink:title=\"psysml:971e85b9-9957-4674-90a7-be3bf98856c5\" xlink:type=\"simple\"><rect fill=\"#FFFFFF\" height=\"66.7422\" id=\"E4\" style=\"stroke: #383838; stroke-width: 1.5;\" width=\"117\" x=\"696.5\" y=\"148\"/><text fill=\"#000000\" font-family=\"sans-serif\" font-size=\"12\" font-style=\"italic\" lengthAdjust=\"spacingAndGlyphs\" textLength=\"115\" x=\"697.5\" y=\"164.1387\">«requirement def»</text><text fill=\"#000000\" font-family=\"sans-serif\" font-size=\"12\" lengthAdjust=\"spacingAndGlyphs\" textLength=\"8\" x=\"751\" y=\"178.1074\">R</text><line style=\"stroke: #383838; stroke-width: 1.5;\" x1=\"697.5\" x2=\"812.5\" y1=\"185.9375\" y2=\"185.9375\"/><text fill=\"#000000\" font-family=\"sans-serif\" font-size=\"11\" lengthAdjust=\"spacingAndGlyphs\" textLength=\"12\" x=\"702.5\" y=\"200.1479\">...</text><line style=\"stroke: #383838; stroke-width: 1.0;\" x1=\"697.5\" x2=\"812.5\" y1=\"206.7422\" y2=\"206.7422\"/></a><!--MD5=[270fce915f116d4de14055a7c1d9a0f3]\n",
       "class E5--><a href=\"psysml:bbcd2223-85a4-4701-a24f-5592c5712336\" target=\"_top\" title=\"psysml:bbcd2223-85a4-4701-a24f-5592c5712336\" xlink:actuate=\"onRequest\" xlink:href=\"psysml:bbcd2223-85a4-4701-a24f-5592c5712336\" xlink:show=\"new\" xlink:title=\"psysml:bbcd2223-85a4-4701-a24f-5592c5712336\" xlink:type=\"simple\"><rect fill=\"#FFFFFF\" height=\"45.9375\" id=\"E5\" rx=\"10\" ry=\"10\" style=\"stroke: #383838; stroke-width: 1.5;\" width=\"93\" x=\"708.5\" y=\"41\"/><text fill=\"#000000\" font-family=\"sans-serif\" font-size=\"12\" font-style=\"italic\" lengthAdjust=\"spacingAndGlyphs\" textLength=\"91\" x=\"709.5\" y=\"57.1387\">«requirement»</text><text fill=\"#000000\" font-family=\"sans-serif\" font-size=\"12\" lengthAdjust=\"spacingAndGlyphs\" textLength=\"21\" x=\"744.5\" y=\"71.1074\">r: R</text><line style=\"stroke: #383838; stroke-width: 1.5;\" x1=\"709.5\" x2=\"800.5\" y1=\"78.9375\" y2=\"78.9375\"/></a><!--MD5=[0c48fb7552dae8cbbef69381101a84c8]\n",
       "class E15--><a href=\"psysml:1ba0f1fa-2142-46f9-b759-d2e88bd368a2\" target=\"_top\" title=\"psysml:1ba0f1fa-2142-46f9-b759-d2e88bd368a2\" xlink:actuate=\"onRequest\" xlink:href=\"psysml:1ba0f1fa-2142-46f9-b759-d2e88bd368a2\" xlink:show=\"new\" xlink:title=\"psysml:1ba0f1fa-2142-46f9-b759-d2e88bd368a2\" xlink:type=\"simple\"><rect fill=\"#FFFFFF\" height=\"45.9375\" id=\"E15\" rx=\"10\" ry=\"10\" style=\"stroke: #383838; stroke-width: 1.5;\" width=\"122\" x=\"74\" y=\"41\"/><text fill=\"#000000\" font-family=\"sans-serif\" font-size=\"12\" font-style=\"italic\" lengthAdjust=\"spacingAndGlyphs\" textLength=\"40\" x=\"115\" y=\"57.1387\">«part»</text><text fill=\"#000000\" font-family=\"sans-serif\" font-size=\"12\" lengthAdjust=\"spacingAndGlyphs\" textLength=\"116\" x=\"77\" y=\"71.1074\">verificationContext</text><line style=\"stroke: #383838; stroke-width: 1.5;\" x1=\"75\" x2=\"195\" y1=\"78.9375\" y2=\"78.9375\"/></a><!--MD5=[35f0587eaee8d5bb9a02e25b63afc23b]\n",
       "class E16--><a href=\"psysml:f139e62b-7bf9-43a0-a382-40038ed35c63\" target=\"_top\" title=\"psysml:f139e62b-7bf9-43a0-a382-40038ed35c63\" xlink:actuate=\"onRequest\" xlink:href=\"psysml:f139e62b-7bf9-43a0-a382-40038ed35c63\" xlink:show=\"new\" xlink:title=\"psysml:f139e62b-7bf9-43a0-a382-40038ed35c63\" xlink:type=\"simple\"><rect fill=\"#FFFFFF\" height=\"45.9375\" id=\"E16\" rx=\"10\" ry=\"10\" style=\"stroke: #383838; stroke-width: 1.5;\" width=\"206\" x=\"32\" y=\"158.5\"/><text fill=\"#000000\" font-family=\"sans-serif\" font-size=\"12\" font-style=\"italic\" lengthAdjust=\"spacingAndGlyphs\" textLength=\"113\" x=\"78.5\" y=\"174.6387\">«verificationCase»</text><text fill=\"#000000\" font-family=\"sans-serif\" font-size=\"12\" lengthAdjust=\"spacingAndGlyphs\" textLength=\"200\" x=\"35\" y=\"188.6074\">verificationPlan: VerificationPlan</text><line style=\"stroke: #383838; stroke-width: 1.5;\" x1=\"33\" x2=\"237\" y1=\"196.4375\" y2=\"196.4375\"/></a><!--MD5=[60e55a4a9b2f0dc0a36787c5a2095786]\n",
       "class E17--><a href=\"psysml:fe640fc2-093c-44fe-a9fd-0ceecb8f463c\" target=\"_top\" title=\"psysml:fe640fc2-093c-44fe-a9fd-0ceecb8f463c\" xlink:actuate=\"onRequest\" xlink:href=\"psysml:fe640fc2-093c-44fe-a9fd-0ceecb8f463c\" xlink:show=\"new\" xlink:title=\"psysml:fe640fc2-093c-44fe-a9fd-0ceecb8f463c\" xlink:type=\"simple\"><rect fill=\"#FFFFFF\" height=\"45.9375\" id=\"E17\" rx=\"10\" ry=\"10\" style=\"stroke: #383838; stroke-width: 1.5;\" width=\"93\" x=\"88.5\" y=\"292\"/><text fill=\"#000000\" font-family=\"sans-serif\" font-size=\"12\" font-style=\"italic\" lengthAdjust=\"spacingAndGlyphs\" textLength=\"91\" x=\"89.5\" y=\"308.1387\">«requirement»</text><text fill=\"#000000\" font-family=\"sans-serif\" font-size=\"12\" lengthAdjust=\"spacingAndGlyphs\" textLength=\"19\" x=\"125.5\" y=\"322.1074\">obj</text><line style=\"stroke: #383838; stroke-width: 1.5;\" x1=\"89.5\" x2=\"180.5\" y1=\"329.9375\" y2=\"329.9375\"/></a><text fill=\"#000000\" font-family=\"sans-serif\" font-size=\"14\" lengthAdjust=\"spacingAndGlyphs\" textLength=\"7\" x=\"1030.5\" y=\"42.6982\">v</text><rect fill=\"#383838\" height=\"12\" style=\"stroke: #F8F8F8; stroke-width: 1.5;\" width=\"12\" x=\"1028\" y=\"58\"/><text fill=\"#000000\" font-family=\"sans-serif\" font-size=\"14\" lengthAdjust=\"spacingAndGlyphs\" textLength=\"46\" x=\"1011\" y=\"392.9951\">verdict</text><rect fill=\"#383838\" height=\"12\" style=\"stroke: #F8F8F8; stroke-width: 1.5;\" width=\"12\" x=\"1028\" y=\"368\"/><text fill=\"#000000\" font-family=\"sans-serif\" font-size=\"14\" lengthAdjust=\"spacingAndGlyphs\" textLength=\"7\" x=\"358.5\" y=\"160.1982\">v</text><rect fill=\"#383838\" height=\"12\" style=\"stroke: #F8F8F8; stroke-width: 1.5;\" width=\"12\" x=\"356\" y=\"175.5\"/><text fill=\"#000000\" font-family=\"sans-serif\" font-size=\"14\" lengthAdjust=\"spacingAndGlyphs\" textLength=\"46\" x=\"643\" y=\"499.9951\">verdict</text><rect fill=\"#383838\" height=\"12\" style=\"stroke: #F8F8F8; stroke-width: 1.5;\" width=\"12\" x=\"660\" y=\"475\"/><text fill=\"#000000\" font-family=\"sans-serif\" font-size=\"14\" lengthAdjust=\"spacingAndGlyphs\" textLength=\"46\" x=\"518\" y=\"572.9951\">verdict</text><rect fill=\"#383838\" height=\"12\" style=\"stroke: #F8F8F8; stroke-width: 1.5;\" width=\"12\" x=\"535\" y=\"548\"/><text fill=\"#000000\" font-family=\"sans-serif\" font-size=\"14\" lengthAdjust=\"spacingAndGlyphs\" textLength=\"7\" x=\"537.5\" y=\"293.6982\">v</text><rect fill=\"#383838\" height=\"12\" style=\"stroke: #F8F8F8; stroke-width: 1.5;\" width=\"12\" x=\"535\" y=\"309\"/><!--MD5=[05d275557350bfb9b23a4ef7222b4c39]\n",
       "link E3 to E2--><a href=\"psysml:2b222a15-a90b-432a-993d-d339516ea993\" target=\"_top\" title=\"psysml:2b222a15-a90b-432a-993d-d339516ea993\" xlink:actuate=\"onRequest\" xlink:href=\"psysml:2b222a15-a90b-432a-993d-d339516ea993\" xlink:show=\"new\" xlink:title=\"psysml:2b222a15-a90b-432a-993d-d339516ea993\" xlink:type=\"simple\"><path d=\"M882,87.27 C882,101.65 882,120.82 882,138.04 \" fill=\"none\" id=\"E3-&gt;E2\" style=\"stroke: #383838; stroke-width: 1.0;\"/><polygon fill=\"#FFFFFF\" points=\"882,158.3,875,139.3,889,139.3,882,158.3\" style=\"stroke: #383838; stroke-width: 1.0;\"/><ellipse cx=\"877\" cy=\"133.6\" fill=\"#383838\" rx=\"2\" ry=\"2\" style=\"stroke: #383838; stroke-width: 1.0;\"/><ellipse cx=\"887\" cy=\"133.6\" fill=\"#383838\" rx=\"2\" ry=\"2\" style=\"stroke: #383838; stroke-width: 1.0;\"/></a><!--MD5=[1c62de2aa5b76f0fb657ff8443a1a700]\n",
       "link E5 to E4--><a href=\"psysml:4afeeb28-a204-4e17-a080-31f9a6d380ec\" target=\"_top\" title=\"psysml:4afeeb28-a204-4e17-a080-31f9a6d380ec\" xlink:actuate=\"onRequest\" xlink:href=\"psysml:4afeeb28-a204-4e17-a080-31f9a6d380ec\" xlink:show=\"new\" xlink:title=\"psysml:4afeeb28-a204-4e17-a080-31f9a6d380ec\" xlink:type=\"simple\"><path d=\"M755,87.27 C755,98.81 755,113.43 755,127.66 \" fill=\"none\" id=\"E5-&gt;E4\" style=\"stroke: #383838; stroke-width: 1.0;\"/><polygon fill=\"#FFFFFF\" points=\"755,147.81,748,128.81,762,128.81,755,147.81\" style=\"stroke: #383838; stroke-width: 1.0;\"/><ellipse cx=\"750\" cy=\"123.11\" fill=\"#383838\" rx=\"2\" ry=\"2\" style=\"stroke: #383838; stroke-width: 1.0;\"/><ellipse cx=\"760\" cy=\"123.11\" fill=\"#383838\" rx=\"2\" ry=\"2\" style=\"stroke: #383838; stroke-width: 1.0;\"/></a><!--MD5=[58e4cf537c4d67f6b3da95fd5b934e63]\n",
       "reverse link E15 to E16--><a href=\"psysml:4d9ca163-dfe0-49d5-81cb-3058dc3dad3f\" target=\"_top\" title=\"psysml:4d9ca163-dfe0-49d5-81cb-3058dc3dad3f\" xlink:actuate=\"onRequest\" xlink:href=\"psysml:4d9ca163-dfe0-49d5-81cb-3058dc3dad3f\" xlink:show=\"new\" xlink:title=\"psysml:4d9ca163-dfe0-49d5-81cb-3058dc3dad3f\" xlink:type=\"simple\"><path d=\"M135,100.49 C135,119.35 135,141.94 135,158.3 \" fill=\"none\" id=\"E15&lt;-E16\" style=\"stroke: #383838; stroke-width: 1.0;\"/><polygon fill=\"#383838\" points=\"135,87.27,131,93.27,135,99.27,139,93.27,135,87.27\" style=\"stroke: #383838; stroke-width: 1.0;\"/></a><!--MD5=[4de2d328c39b6d65fb95a84ef336270e]\n",
       "link E16 to E9--><a href=\"psysml:cd73bb42-520f-4e04-8240-7f040abbe442\" target=\"_top\" title=\"psysml:cd73bb42-520f-4e04-8240-7f040abbe442\" xlink:actuate=\"onRequest\" xlink:href=\"psysml:cd73bb42-520f-4e04-8240-7f040abbe442\" xlink:show=\"new\" xlink:title=\"psysml:cd73bb42-520f-4e04-8240-7f040abbe442\" xlink:type=\"simple\"><path d=\"M172.99,204.51 C218.18,230.69 292.58,273.79 333.25,297.35 \" fill=\"none\" id=\"E16-&gt;E9\" style=\"stroke: #383838; stroke-width: 1.0;\"/><polygon fill=\"#FFFFFF\" points=\"333.25,297.35,313.3006,293.8831,320.3182,281.7689,333.25,297.35\" style=\"stroke: #383838; stroke-width: 1.0;\"/><ellipse cx=\"309.3709\" cy=\"289.2953\" fill=\"#383838\" rx=\"2\" ry=\"2\" style=\"stroke: #383838; stroke-width: 1.0;\"/><ellipse cx=\"314.3835\" cy=\"280.6423\" fill=\"#383838\" rx=\"2\" ry=\"2\" style=\"stroke: #383838; stroke-width: 1.0;\"/></a><!--MD5=[450e3481f1c83a03a55fcf78b0bbbde6]\n",
       "link E16 to E17--><a href=\"psysml:e29f10bd-d5bc-4797-97ab-a37fb0e5db5b\" target=\"_top\" title=\"psysml:e29f10bd-d5bc-4797-97ab-a37fb0e5db5b\" xlink:actuate=\"onRequest\" xlink:href=\"psysml:e29f10bd-d5bc-4797-97ab-a37fb0e5db5b\" xlink:show=\"new\" xlink:title=\"psysml:e29f10bd-d5bc-4797-97ab-a37fb0e5db5b\" xlink:type=\"simple\"><path d=\"M135,204.51 C135,226.22 135,259.59 135,283.78 \" fill=\"none\" id=\"E16-&gt;E17\" style=\"stroke: #383838; stroke-width: 1.0;\"/><polygon fill=\"#383838\" points=\"135,291.92,138,283.92,132,283.92,135,291.92\" style=\"stroke: #383838; stroke-width: 1.0;\"/><text fill=\"#000000\" font-family=\"sans-serif\" font-size=\"13\" lengthAdjust=\"spacingAndGlyphs\" textLength=\"73\" x=\"136\" y=\"258.0669\">«objective»</text><text fill=\"#000000\" font-family=\"sans-serif\" font-size=\"13\" lengthAdjust=\"spacingAndGlyphs\" textLength=\"7\" x=\"127.0594\" y=\"280.7948\">*</text></a><!--MD5=[64e81a4a82f7a97cb2d37c6b1458463f]\n",
       "@startuml\r\n",
       "top to bottom direction\r\n",
       "skinparam monochrome true\r\n",
       "skinparam classbackgroundcolor white\r\n",
       "skinparam shadowing false\r\n",
       "skinparam wrapWidth 300\r\n",
       "hide circle\r\n",
       "\r\n",
       "package \"VerificationTest\" as E1  [[psysml:7303dfcd-df1a-4034-bc74-eb93457ec7c0 ]]  {\r\n",
       "comp def \"V\" as E2  <<(T,blue) part def>> [[psysml:ee2cd088-4b38-485a-bdcf-f034eebaa933 ]] {\r\n",
       "}\r\n",
       "comp usage \"vv: V\" as E3  <<(T,blue) part>> [[psysml:ea23779d-7b91-41e0-a4d1-5f0745e774d2 ]] {\r\n",
       "}\r\n",
       "comp def \"R\" as E4  <<(T,blue) requirement def>> [[psysml:971e85b9-9957-4674-90a7-be3bf98856c5 ]] {\r\n",
       "...\r\n",
       "- -\r\n",
       "}\r\n",
       "comp usage \"r: R\" as E5  <<(T,blue) requirement>> [[psysml:bbcd2223-85a4-4701-a24f-5592c5712336 ]] {\r\n",
       "}\r\n",
       "rec def \"VerificationCase\" as E6  <<(T,blue) verificationCase def>> [[psysml:f44943ce-87bd-4d2b-91db-f66bd879bf72 ]] {\r\n",
       "portin \"v\" as E7  [[psysml:39e4c68a-7e48-4018-a595-005447bc25d1 ]] \r\n",
       "portout \"verdict\" as E8  [[psysml:e7480a5a-bc03-4bfb-926c-ff77790341ab ]] \r\n",
       "}\r\n",
       "\r\n",
       "rec def \"VerificationPlan\" as E9  <<(T,blue) verificationCase def>> [[psysml:109e665d-9569-4e28-8454-db86a3b7365b ]] {\r\n",
       "portin \"v\" as E10  [[psysml:bc04aa0f-1251-4bd1-9492-821de83ad0f4 ]] \r\n",
       "rec usage \"verificationCase\" as E11  <<(T,blue) verificationCase>> [[psysml:d8eec309-4539-4ef6-b593-f8d5221313a5 ]] {\r\n",
       "portout \"verdict\" as E12  [[psysml:d4b19012-2d8f-412c-81cb-04106ed54ab9 ]] \r\n",
       "portin \"v\" as E13  [[psysml:101691aa-2b16-4439-bb49-3b5a9750b72a ]] \r\n",
       "}\r\n",
       "\r\n",
       "portout \"verdict\" as E14  [[psysml:d1cc474d-a7ae-4245-8f3b-eac2c389ad3d ]] \r\n",
       "}\r\n",
       "\r\n",
       "comp usage \"verificationContext\" as E15  <<(T,blue) part>> [[psysml:1ba0f1fa-2142-46f9-b759-d2e88bd368a2 ]] {\r\n",
       "}\r\n",
       "comp usage \"verificationPlan: VerificationPlan\" as E16  <<(T,blue) verificationCase>> [[psysml:f139e62b-7bf9-43a0-a382-40038ed35c63 ]] {\r\n",
       "}\r\n",
       "comp usage \"obj\" as E17  <<(T,blue) requirement>> [[psysml:fe640fc2-093c-44fe-a9fd-0ceecb8f463c ]] {\r\n",
       "}\r\n",
       "}\r\n",
       "E3 - -:|> E2 [[psysml:2b222a15-a90b-432a-993d-d339516ea993 ]] \r\n",
       "E5 - -:|> E4 [[psysml:4afeeb28-a204-4e17-a080-31f9a6d380ec ]] \r\n",
       "E15 *- - E16 [[psysml:4d9ca163-dfe0-49d5-81cb-3058dc3dad3f ]] \r\n",
       "E16 - -:|> E9 [[psysml:cd73bb42-520f-4e04-8240-7f040abbe442 ]] \r\n",
       "E16 - ->> \"*\"E17 [[psysml:e29f10bd-d5bc-4797-97ab-a37fb0e5db5b ]] : <<objective>>\r\n",
       "@enduml\r\n",
       "\n",
       "PlantUML version 1.2020.13(Sat Jun 13 12:26:38 UTC 2020)\n",
       "(EPL source distribution)\n",
       "Java Runtime: OpenJDK Runtime Environment\n",
       "JVM: OpenJDK 64-Bit Server VM\n",
       "Default Encoding: UTF-8\n",
       "Language: en\n",
       "Country: null\n",
       "--></g></svg>"
      ]
     },
     "execution_count": 44,
     "metadata": {},
     "output_type": "execute_result"
    }
   ],
   "source": [
    "%viz --style=\"TB\" --view=\"Default\" \"VerificationTest\""
   ]
  },
  {
   "cell_type": "code",
   "execution_count": 45,
   "id": "7eab2fd9",
   "metadata": {
    "execution": {
     "iopub.execute_input": "2021-10-03T08:26:50.678641Z",
     "iopub.status.busy": "2021-10-03T08:26:50.678242Z",
     "iopub.status.idle": "2021-10-03T08:26:50.718552Z",
     "shell.execute_reply": "2021-10-03T08:26:50.716760Z"
    }
   },
   "outputs": [
    {
     "data": {
      "image/svg+xml": [
       "<?xml version=\"1.0\" encoding=\"UTF-8\" standalone=\"no\"?><svg xmlns=\"http://www.w3.org/2000/svg\" xmlns:xlink=\"http://www.w3.org/1999/xlink\" contentScriptType=\"application/ecmascript\" contentStyleType=\"text/css\" height=\"268px\" preserveAspectRatio=\"none\" style=\"width:746px;height:268px;\" version=\"1.1\" viewBox=\"0 0 746 268\" width=\"746px\" zoomAndPan=\"magnify\"><defs/><g><!--MD5=[fbc87193dbaf4d95561dea2c320d4a47]\n",
       "cluster E1--><a href=\"psysml:7303dfcd-df1a-4034-bc74-eb93457ec7c0\" target=\"_top\" title=\"psysml:7303dfcd-df1a-4034-bc74-eb93457ec7c0\" xlink:actuate=\"onRequest\" xlink:href=\"psysml:7303dfcd-df1a-4034-bc74-eb93457ec7c0\" xlink:show=\"new\" xlink:title=\"psysml:7303dfcd-df1a-4034-bc74-eb93457ec7c0\" xlink:type=\"simple\"><polygon fill=\"#FFFFFF\" points=\"16,6,128,6,135,28.2969,724,28.2969,724,256,16,256,16,6\" style=\"stroke: #000000; stroke-width: 1.5;\"/><line style=\"stroke: #000000; stroke-width: 1.5;\" x1=\"16\" x2=\"135\" y1=\"28.2969\" y2=\"28.2969\"/><text fill=\"#000000\" font-family=\"sans-serif\" font-size=\"14\" font-weight=\"bold\" lengthAdjust=\"spacingAndGlyphs\" textLength=\"106\" x=\"20\" y=\"20.9951\">VerificationTest</text></a><!--MD5=[b4997ac47864f28c2f74865a473b2911]\n",
       "class E2--><a href=\"psysml:ee2cd088-4b38-485a-bdcf-f034eebaa933\" target=\"_top\" title=\"psysml:ee2cd088-4b38-485a-bdcf-f034eebaa933\" xlink:actuate=\"onRequest\" xlink:href=\"psysml:ee2cd088-4b38-485a-bdcf-f034eebaa933\" xlink:show=\"new\" xlink:title=\"psysml:ee2cd088-4b38-485a-bdcf-f034eebaa933\" xlink:type=\"simple\"><rect fill=\"#FFFFFF\" height=\"45.9375\" id=\"E2\" style=\"stroke: #383838; stroke-width: 1.5;\" width=\"66\" x=\"342\" y=\"179\"/><text fill=\"#000000\" font-family=\"sans-serif\" font-size=\"12\" font-style=\"italic\" lengthAdjust=\"spacingAndGlyphs\" textLength=\"64\" x=\"343\" y=\"195.1387\">«part def»</text><text fill=\"#000000\" font-family=\"sans-serif\" font-size=\"12\" lengthAdjust=\"spacingAndGlyphs\" textLength=\"8\" x=\"371\" y=\"209.1074\">V</text><line style=\"stroke: #383838; stroke-width: 1.5;\" x1=\"343\" x2=\"407\" y1=\"216.9375\" y2=\"216.9375\"/></a><!--MD5=[09b614a08d8cba4a07c9adeb5e0fee81]\n",
       "class E3--><a href=\"psysml:ea23779d-7b91-41e0-a4d1-5f0745e774d2\" target=\"_top\" title=\"psysml:ea23779d-7b91-41e0-a4d1-5f0745e774d2\" xlink:actuate=\"onRequest\" xlink:href=\"psysml:ea23779d-7b91-41e0-a4d1-5f0745e774d2\" xlink:show=\"new\" xlink:title=\"psysml:ea23779d-7b91-41e0-a4d1-5f0745e774d2\" xlink:type=\"simple\"><rect fill=\"#FFFFFF\" height=\"45.9375\" id=\"E3\" rx=\"10\" ry=\"10\" style=\"stroke: #383838; stroke-width: 1.5;\" width=\"42\" x=\"364\" y=\"41\"/><text fill=\"#000000\" font-family=\"sans-serif\" font-size=\"12\" font-style=\"italic\" lengthAdjust=\"spacingAndGlyphs\" textLength=\"40\" x=\"365\" y=\"57.1387\">«part»</text><text fill=\"#000000\" font-family=\"sans-serif\" font-size=\"12\" lengthAdjust=\"spacingAndGlyphs\" textLength=\"28\" x=\"371\" y=\"71.1074\">vv: V</text><line style=\"stroke: #383838; stroke-width: 1.5;\" x1=\"365\" x2=\"405\" y1=\"78.9375\" y2=\"78.9375\"/></a><!--MD5=[ebbe1d658d1005bcc118a6aa81145e00]\n",
       "class E4--><a href=\"psysml:971e85b9-9957-4674-90a7-be3bf98856c5\" target=\"_top\" title=\"psysml:971e85b9-9957-4674-90a7-be3bf98856c5\" xlink:actuate=\"onRequest\" xlink:href=\"psysml:971e85b9-9957-4674-90a7-be3bf98856c5\" xlink:show=\"new\" xlink:title=\"psysml:971e85b9-9957-4674-90a7-be3bf98856c5\" xlink:type=\"simple\"><rect fill=\"#FFFFFF\" height=\"66.7422\" id=\"E4\" style=\"stroke: #383838; stroke-width: 1.5;\" width=\"117\" x=\"590.5\" y=\"168.5\"/><text fill=\"#000000\" font-family=\"sans-serif\" font-size=\"12\" font-style=\"italic\" lengthAdjust=\"spacingAndGlyphs\" textLength=\"115\" x=\"591.5\" y=\"184.6387\">«requirement def»</text><text fill=\"#000000\" font-family=\"sans-serif\" font-size=\"12\" lengthAdjust=\"spacingAndGlyphs\" textLength=\"8\" x=\"645\" y=\"198.6074\">R</text><line style=\"stroke: #383838; stroke-width: 1.5;\" x1=\"591.5\" x2=\"706.5\" y1=\"206.4375\" y2=\"206.4375\"/><text fill=\"#000000\" font-family=\"sans-serif\" font-size=\"11\" lengthAdjust=\"spacingAndGlyphs\" textLength=\"12\" x=\"596.5\" y=\"220.6479\">...</text><line style=\"stroke: #383838; stroke-width: 1.0;\" x1=\"591.5\" x2=\"706.5\" y1=\"227.2422\" y2=\"227.2422\"/></a><!--MD5=[270fce915f116d4de14055a7c1d9a0f3]\n",
       "class E5--><a href=\"psysml:bbcd2223-85a4-4701-a24f-5592c5712336\" target=\"_top\" title=\"psysml:bbcd2223-85a4-4701-a24f-5592c5712336\" xlink:actuate=\"onRequest\" xlink:href=\"psysml:bbcd2223-85a4-4701-a24f-5592c5712336\" xlink:show=\"new\" xlink:title=\"psysml:bbcd2223-85a4-4701-a24f-5592c5712336\" xlink:type=\"simple\"><rect fill=\"#FFFFFF\" height=\"45.9375\" id=\"E5\" rx=\"10\" ry=\"10\" style=\"stroke: #383838; stroke-width: 1.5;\" width=\"93\" x=\"615.5\" y=\"41\"/><text fill=\"#000000\" font-family=\"sans-serif\" font-size=\"12\" font-style=\"italic\" lengthAdjust=\"spacingAndGlyphs\" textLength=\"91\" x=\"616.5\" y=\"57.1387\">«requirement»</text><text fill=\"#000000\" font-family=\"sans-serif\" font-size=\"12\" lengthAdjust=\"spacingAndGlyphs\" textLength=\"21\" x=\"651.5\" y=\"71.1074\">r: R</text><line style=\"stroke: #383838; stroke-width: 1.5;\" x1=\"616.5\" x2=\"707.5\" y1=\"78.9375\" y2=\"78.9375\"/></a><!--MD5=[60a26617385b1d2d0262a64233df1f8d]\n",
       "class E6--><a href=\"psysml:f44943ce-87bd-4d2b-91db-f66bd879bf72\" target=\"_top\" title=\"psysml:f44943ce-87bd-4d2b-91db-f66bd879bf72\" xlink:actuate=\"onRequest\" xlink:href=\"psysml:f44943ce-87bd-4d2b-91db-f66bd879bf72\" xlink:show=\"new\" xlink:title=\"psysml:f44943ce-87bd-4d2b-91db-f66bd879bf72\" xlink:type=\"simple\"><rect fill=\"#FFFFFF\" height=\"45.9375\" id=\"E6\" style=\"stroke: #383838; stroke-width: 1.5;\" width=\"139\" x=\"441.5\" y=\"41\"/><text fill=\"#000000\" font-family=\"sans-serif\" font-size=\"12\" font-style=\"italic\" lengthAdjust=\"spacingAndGlyphs\" textLength=\"137\" x=\"442.5\" y=\"57.1387\">«verificationCase def»</text><text fill=\"#000000\" font-family=\"sans-serif\" font-size=\"12\" lengthAdjust=\"spacingAndGlyphs\" textLength=\"101\" x=\"460.5\" y=\"71.1074\">VerificationCase</text><line style=\"stroke: #383838; stroke-width: 1.5;\" x1=\"442.5\" x2=\"579.5\" y1=\"78.9375\" y2=\"78.9375\"/></a><!--MD5=[2156ba9850f5573cc1fc38a6a4b2f02b]\n",
       "class E7--><a href=\"psysml:c1b61795-7b30-4440-a267-41d24baf94c2\" target=\"_top\" title=\"psysml:c1b61795-7b30-4440-a267-41d24baf94c2\" xlink:actuate=\"onRequest\" xlink:href=\"psysml:c1b61795-7b30-4440-a267-41d24baf94c2\" xlink:show=\"new\" xlink:title=\"psysml:c1b61795-7b30-4440-a267-41d24baf94c2\" xlink:type=\"simple\"><rect fill=\"#FFFFFF\" height=\"75.5469\" id=\"E7\" rx=\"10\" ry=\"10\" style=\"stroke: #383838; stroke-width: 1.5;\" width=\"93\" x=\"462.5\" y=\"164\"/><text fill=\"#000000\" font-family=\"sans-serif\" font-size=\"12\" font-style=\"italic\" lengthAdjust=\"spacingAndGlyphs\" textLength=\"91\" x=\"463.5\" y=\"180.1387\">«requirement»</text><text fill=\"#000000\" font-family=\"sans-serif\" font-size=\"12\" lengthAdjust=\"spacingAndGlyphs\" textLength=\"19\" x=\"499.5\" y=\"194.1074\">obj</text><line style=\"stroke: #383838; stroke-width: 1.5;\" x1=\"463.5\" x2=\"554.5\" y1=\"201.9375\" y2=\"201.9375\"/><text fill=\"#000000\" font-family=\"sans-serif\" font-size=\"11\" font-weight=\"bold\" lengthAdjust=\"spacingAndGlyphs\" textLength=\"41\" x=\"468.5\" y=\"232.9526\">require</text><text fill=\"#000000\" font-family=\"sans-serif\" font-size=\"11\" lengthAdjust=\"spacingAndGlyphs\" textLength=\"15\" x=\"513.5\" y=\"232.9526\">: R</text><line style=\"stroke: #383838; stroke-width: 1.0;\" x1=\"463.5\" x2=\"470.5\" y1=\"216.3398\" y2=\"216.3398\"/><text fill=\"#000000\" font-family=\"sans-serif\" font-size=\"11\" lengthAdjust=\"spacingAndGlyphs\" textLength=\"77\" x=\"470.5\" y=\"219.6479\">requirements</text><line style=\"stroke: #383838; stroke-width: 1.0;\" x1=\"547.5\" x2=\"554.5\" y1=\"216.3398\" y2=\"216.3398\"/></a><!--MD5=[fd4143e9d270a159db93a4ea2a975926]\n",
       "class E9--><a href=\"psysml:109e665d-9569-4e28-8454-db86a3b7365b\" target=\"_top\" title=\"psysml:109e665d-9569-4e28-8454-db86a3b7365b\" xlink:actuate=\"onRequest\" xlink:href=\"psysml:109e665d-9569-4e28-8454-db86a3b7365b\" xlink:show=\"new\" xlink:title=\"psysml:109e665d-9569-4e28-8454-db86a3b7365b\" xlink:type=\"simple\"><rect fill=\"#FFFFFF\" height=\"45.9375\" id=\"E9\" style=\"stroke: #383838; stroke-width: 1.5;\" width=\"139\" x=\"189.5\" y=\"41\"/><text fill=\"#000000\" font-family=\"sans-serif\" font-size=\"12\" font-style=\"italic\" lengthAdjust=\"spacingAndGlyphs\" textLength=\"137\" x=\"190.5\" y=\"57.1387\">«verificationCase def»</text><text fill=\"#000000\" font-family=\"sans-serif\" font-size=\"12\" lengthAdjust=\"spacingAndGlyphs\" textLength=\"97\" x=\"210.5\" y=\"71.1074\">VerificationPlan</text><line style=\"stroke: #383838; stroke-width: 1.5;\" x1=\"190.5\" x2=\"327.5\" y1=\"78.9375\" y2=\"78.9375\"/></a><!--MD5=[96f4274e9e20536e775497830990834d]\n",
       "class E10--><a href=\"psysml:7031c3a4-5568-406f-9713-a580e51688a6\" target=\"_top\" title=\"psysml:7031c3a4-5568-406f-9713-a580e51688a6\" xlink:actuate=\"onRequest\" xlink:href=\"psysml:7031c3a4-5568-406f-9713-a580e51688a6\" xlink:show=\"new\" xlink:title=\"psysml:7031c3a4-5568-406f-9713-a580e51688a6\" xlink:type=\"simple\"><rect fill=\"#FFFFFF\" height=\"75.5469\" id=\"E10\" rx=\"10\" ry=\"10\" style=\"stroke: #383838; stroke-width: 1.5;\" width=\"93\" x=\"143.5\" y=\"164\"/><text fill=\"#000000\" font-family=\"sans-serif\" font-size=\"12\" font-style=\"italic\" lengthAdjust=\"spacingAndGlyphs\" textLength=\"91\" x=\"144.5\" y=\"180.1387\">«requirement»</text><text fill=\"#000000\" font-family=\"sans-serif\" font-size=\"12\" lengthAdjust=\"spacingAndGlyphs\" textLength=\"19\" x=\"180.5\" y=\"194.1074\">obj</text><line style=\"stroke: #383838; stroke-width: 1.5;\" x1=\"144.5\" x2=\"235.5\" y1=\"201.9375\" y2=\"201.9375\"/><text fill=\"#000000\" font-family=\"sans-serif\" font-size=\"11\" font-weight=\"bold\" lengthAdjust=\"spacingAndGlyphs\" textLength=\"41\" x=\"149.5\" y=\"232.9526\">require</text><text fill=\"#000000\" font-family=\"sans-serif\" font-size=\"11\" lengthAdjust=\"spacingAndGlyphs\" textLength=\"5\" x=\"194.5\" y=\"232.9526\">r</text><line style=\"stroke: #383838; stroke-width: 1.0;\" x1=\"144.5\" x2=\"151.5\" y1=\"216.3398\" y2=\"216.3398\"/><text fill=\"#000000\" font-family=\"sans-serif\" font-size=\"11\" lengthAdjust=\"spacingAndGlyphs\" textLength=\"77\" x=\"151.5\" y=\"219.6479\">requirements</text><line style=\"stroke: #383838; stroke-width: 1.0;\" x1=\"228.5\" x2=\"235.5\" y1=\"216.3398\" y2=\"216.3398\"/></a><!--MD5=[49a0ec8f00dab7302a31f22d0f0fe584]\n",
       "class E12--><a href=\"psysml:1ba0f1fa-2142-46f9-b759-d2e88bd368a2\" target=\"_top\" title=\"psysml:1ba0f1fa-2142-46f9-b759-d2e88bd368a2\" xlink:actuate=\"onRequest\" xlink:href=\"psysml:1ba0f1fa-2142-46f9-b759-d2e88bd368a2\" xlink:show=\"new\" xlink:title=\"psysml:1ba0f1fa-2142-46f9-b759-d2e88bd368a2\" xlink:type=\"simple\"><rect fill=\"#FFFFFF\" height=\"45.9375\" id=\"E12\" rx=\"10\" ry=\"10\" style=\"stroke: #383838; stroke-width: 1.5;\" width=\"122\" x=\"32\" y=\"41\"/><text fill=\"#000000\" font-family=\"sans-serif\" font-size=\"12\" font-style=\"italic\" lengthAdjust=\"spacingAndGlyphs\" textLength=\"40\" x=\"73\" y=\"57.1387\">«part»</text><text fill=\"#000000\" font-family=\"sans-serif\" font-size=\"12\" lengthAdjust=\"spacingAndGlyphs\" textLength=\"116\" x=\"35\" y=\"71.1074\">verificationContext</text><line style=\"stroke: #383838; stroke-width: 1.5;\" x1=\"33\" x2=\"153\" y1=\"78.9375\" y2=\"78.9375\"/></a><!--MD5=[05d275557350bfb9b23a4ef7222b4c39]\n",
       "link E3 to E2--><a href=\"psysml:2b222a15-a90b-432a-993d-d339516ea993\" target=\"_top\" title=\"psysml:2b222a15-a90b-432a-993d-d339516ea993\" xlink:actuate=\"onRequest\" xlink:href=\"psysml:2b222a15-a90b-432a-993d-d339516ea993\" xlink:show=\"new\" xlink:title=\"psysml:2b222a15-a90b-432a-993d-d339516ea993\" xlink:type=\"simple\"><path d=\"M382.68,87.25 C381.77,96.45 380.76,107.23 380,117 C378.94,130.6 377.99,145.45 377.21,158.84 \" fill=\"none\" id=\"E3-&gt;E2\" style=\"stroke: #383838; stroke-width: 1.0;\"/><polygon fill=\"#FFFFFF\" points=\"376.1,178.88,370.1701,159.5193,384.1483,160.2998,376.1,178.88\" style=\"stroke: #383838; stroke-width: 1.0;\"/><ellipse cx=\"372.4847\" cy=\"153.9397\" fill=\"#383838\" rx=\"2\" ry=\"2\" style=\"stroke: #383838; stroke-width: 1.0;\"/><ellipse cx=\"382.4692\" cy=\"154.4971\" fill=\"#383838\" rx=\"2\" ry=\"2\" style=\"stroke: #383838; stroke-width: 1.0;\"/></a><!--MD5=[1c62de2aa5b76f0fb657ff8443a1a700]\n",
       "link E5 to E4--><a href=\"psysml:4afeeb28-a204-4e17-a080-31f9a6d380ec\" target=\"_top\" title=\"psysml:4afeeb28-a204-4e17-a080-31f9a6d380ec\" xlink:actuate=\"onRequest\" xlink:href=\"psysml:4afeeb28-a204-4e17-a080-31f9a6d380ec\" xlink:show=\"new\" xlink:title=\"psysml:4afeeb28-a204-4e17-a080-31f9a6d380ec\" xlink:type=\"simple\"><path d=\"M659.88,87.15 C658.3,103.69 656.07,127.01 654.04,148.23 \" fill=\"none\" id=\"E5-&gt;E4\" style=\"stroke: #383838; stroke-width: 1.0;\"/><polygon fill=\"#FFFFFF\" points=\"652.11,168.44,646.9475,148.8607,660.8842,150.1913,652.11,168.44\" style=\"stroke: #383838; stroke-width: 1.0;\"/><ellipse cx=\"649.4803\" cy=\"143.3766\" fill=\"#383838\" rx=\"2\" ry=\"2\" style=\"stroke: #383838; stroke-width: 1.0;\"/><ellipse cx=\"659.435\" cy=\"144.327\" fill=\"#383838\" rx=\"2\" ry=\"2\" style=\"stroke: #383838; stroke-width: 1.0;\"/></a><!--MD5=[2351f337d6de0f557b50152ba70847b5]\n",
       "link E6 to E2--><a href=\"psysml:0a65a73b-aad1-46f6-97e3-b503c188383c\" target=\"_top\" title=\"psysml:0a65a73b-aad1-46f6-97e3-b503c188383c\" xlink:actuate=\"onRequest\" xlink:href=\"psysml:0a65a73b-aad1-46f6-97e3-b503c188383c\" xlink:show=\"new\" xlink:title=\"psysml:0a65a73b-aad1-46f6-97e3-b503c188383c\" xlink:type=\"simple\"><path d=\"M475.49,87.03 C462.98,95.62 449.25,106.02 438,117 C420.2,134.37 403.48,157.08 391.74,174.51 \" fill=\"none\" id=\"E6-&gt;E2\" style=\"stroke: #383838; stroke-width: 1.0; stroke-dasharray: 7.0,7.0;\"/><polygon fill=\"#383838\" points=\"388.87,178.82,397.1822,173.5372,391.6369,174.6554,390.5187,169.1101,388.87,178.82\" style=\"stroke: #383838; stroke-width: 1.0;\"/><text fill=\"#000000\" font-family=\"sans-serif\" font-size=\"13\" lengthAdjust=\"spacingAndGlyphs\" textLength=\"62\" x=\"439\" y=\"130.0669\">«subject»</text></a><!--MD5=[02c70b7c851c11e3980e4e90450dc5dd]\n",
       "link E6 to E7--><a href=\"psysml:ca392d64-6b44-4e33-bff2-bf36fcd3e380\" target=\"_top\" title=\"psysml:ca392d64-6b44-4e33-bff2-bf36fcd3e380\" xlink:actuate=\"onRequest\" xlink:href=\"psysml:ca392d64-6b44-4e33-bff2-bf36fcd3e380\" xlink:show=\"new\" xlink:title=\"psysml:ca392d64-6b44-4e33-bff2-bf36fcd3e380\" xlink:type=\"simple\"><path d=\"M510.67,87.15 C510.4,105.66 510.01,132.63 509.67,155.68 \" fill=\"none\" id=\"E6-&gt;E7\" style=\"stroke: #383838; stroke-width: 1.0;\"/><polygon fill=\"#383838\" points=\"509.54,163.97,512.6682,156.0192,506.6689,155.9228,509.54,163.97\" style=\"stroke: #383838; stroke-width: 1.0;\"/><text fill=\"#000000\" font-family=\"sans-serif\" font-size=\"13\" lengthAdjust=\"spacingAndGlyphs\" textLength=\"73\" x=\"511\" y=\"130.0669\">«objective»</text><text fill=\"#000000\" font-family=\"sans-serif\" font-size=\"13\" lengthAdjust=\"spacingAndGlyphs\" textLength=\"7\" x=\"502.0128\" y=\"152.979\">*</text></a><!--MD5=[5c3bb36fe832a92c7f0e1807dd65209d]\n",
       "link E9 to E2--><a href=\"psysml:e35a8663-5a9e-49b1-9953-8d2b3225b6ac\" target=\"_top\" title=\"psysml:e35a8663-5a9e-49b1-9953-8d2b3225b6ac\" xlink:actuate=\"onRequest\" xlink:href=\"psysml:e35a8663-5a9e-49b1-9953-8d2b3225b6ac\" xlink:show=\"new\" xlink:title=\"psysml:e35a8663-5a9e-49b1-9953-8d2b3225b6ac\" xlink:type=\"simple\"><path d=\"M272.53,87.26 C281.39,101.2 293.6,119.24 306,134 C318.17,148.48 333.08,163.26 345.92,175.25 \" fill=\"none\" id=\"E9-&gt;E2\" style=\"stroke: #383838; stroke-width: 1.0; stroke-dasharray: 7.0,7.0;\"/><polygon fill=\"#383838\" points=\"349.84,178.87,345.9545,169.82,346.1715,175.4727,340.5188,175.6896,349.84,178.87\" style=\"stroke: #383838; stroke-width: 1.0;\"/><text fill=\"#000000\" font-family=\"sans-serif\" font-size=\"13\" lengthAdjust=\"spacingAndGlyphs\" textLength=\"62\" x=\"307\" y=\"130.0669\">«subject»</text></a><!--MD5=[35e5f1cbde42fa304a029880aa2bc7f2]\n",
       "link E9 to E10--><a href=\"psysml:a2e94b2d-09ed-4b49-b784-abde9df75390\" target=\"_top\" title=\"psysml:a2e94b2d-09ed-4b49-b784-abde9df75390\" xlink:actuate=\"onRequest\" xlink:href=\"psysml:a2e94b2d-09ed-4b49-b784-abde9df75390\" xlink:show=\"new\" xlink:title=\"psysml:a2e94b2d-09ed-4b49-b784-abde9df75390\" xlink:type=\"simple\"><path d=\"M214.66,87.18 C203.62,95 193.18,104.92 187,117 C181,128.73 179.61,142.63 180.32,155.71 \" fill=\"none\" id=\"E9-&gt;E10\" style=\"stroke: #383838; stroke-width: 1.0;\"/><polygon fill=\"#383838\" points=\"181.01,163.73,183.3133,155.5023,177.3354,156.0166,181.01,163.73\" style=\"stroke: #383838; stroke-width: 1.0;\"/><text fill=\"#000000\" font-family=\"sans-serif\" font-size=\"13\" lengthAdjust=\"spacingAndGlyphs\" textLength=\"73\" x=\"188\" y=\"130.0669\">«objective»</text><text fill=\"#000000\" font-family=\"sans-serif\" font-size=\"13\" lengthAdjust=\"spacingAndGlyphs\" textLength=\"7\" x=\"171.8633\" y=\"152.9805\">*</text></a><!--MD5=[e78db441fc7f7709053afe0dc9108d24]\n",
       "@startuml\r\n",
       "top to bottom direction\r\n",
       "skinparam monochrome true\r\n",
       "skinparam classbackgroundcolor white\r\n",
       "skinparam shadowing false\r\n",
       "skinparam wrapWidth 300\r\n",
       "hide circle\r\n",
       "\r\n",
       "package \"VerificationTest\" as E1  [[psysml:7303dfcd-df1a-4034-bc74-eb93457ec7c0 ]]  {\r\n",
       "comp def \"V\" as E2  <<(T,blue) part def>> [[psysml:ee2cd088-4b38-485a-bdcf-f034eebaa933 ]] {\r\n",
       "}\r\n",
       "comp usage \"vv: V\" as E3  <<(T,blue) part>> [[psysml:ea23779d-7b91-41e0-a4d1-5f0745e774d2 ]] {\r\n",
       "}\r\n",
       "comp def \"R\" as E4  <<(T,blue) requirement def>> [[psysml:971e85b9-9957-4674-90a7-be3bf98856c5 ]] {\r\n",
       "...\r\n",
       "- -\r\n",
       "}\r\n",
       "comp usage \"r: R\" as E5  <<(T,blue) requirement>> [[psysml:bbcd2223-85a4-4701-a24f-5592c5712336 ]] {\r\n",
       "}\r\n",
       "comp def \"VerificationCase\" as E6  <<(T,blue) verificationCase def>> [[psysml:f44943ce-87bd-4d2b-91db-f66bd879bf72 ]] {\r\n",
       "}\r\n",
       "comp usage \"obj\" as E7  <<(T,blue) requirement>> [[psysml:c1b61795-7b30-4440-a267-41d24baf94c2 ]] {\r\n",
       "- - requirements - -\r\n",
       "<b>require</b> : R\r\n",
       "}\r\n",
       "comp def \"VerificationPlan\" as E9  <<(T,blue) verificationCase def>> [[psysml:109e665d-9569-4e28-8454-db86a3b7365b ]] {\r\n",
       "}\r\n",
       "comp usage \"obj\" as E10  <<(T,blue) requirement>> [[psysml:7031c3a4-5568-406f-9713-a580e51688a6 ]] {\r\n",
       "- - requirements - -\r\n",
       "<b>require</b> r\r\n",
       "}\r\n",
       "comp usage \"verificationContext\" as E12  <<(T,blue) part>> [[psysml:1ba0f1fa-2142-46f9-b759-d2e88bd368a2 ]] {\r\n",
       "}\r\n",
       "}\r\n",
       "E3 - -:|> E2 [[psysml:2b222a15-a90b-432a-993d-d339516ea993 ]] \r\n",
       "E5 - -:|> E4 [[psysml:4afeeb28-a204-4e17-a080-31f9a6d380ec ]] \r\n",
       "E6 ..> E2 [[psysml:0a65a73b-aad1-46f6-97e3-b503c188383c ]] : <<subject>>\r\n",
       "E6 - ->> \"*\"E7 [[psysml:ca392d64-6b44-4e33-bff2-bf36fcd3e380 ]] : <<objective>>\r\n",
       "E9 ..> E2 [[psysml:e35a8663-5a9e-49b1-9953-8d2b3225b6ac ]] : <<subject>>\r\n",
       "E9 - ->> \"*\"E10 [[psysml:a2e94b2d-09ed-4b49-b784-abde9df75390 ]] : <<objective>>\r\n",
       "@enduml\r\n",
       "\n",
       "PlantUML version 1.2020.13(Sat Jun 13 12:26:38 UTC 2020)\n",
       "(EPL source distribution)\n",
       "Java Runtime: OpenJDK Runtime Environment\n",
       "JVM: OpenJDK 64-Bit Server VM\n",
       "Default Encoding: UTF-8\n",
       "Language: en\n",
       "Country: null\n",
       "--></g></svg>"
      ]
     },
     "execution_count": 45,
     "metadata": {},
     "output_type": "execute_result"
    }
   ],
   "source": [
    "%viz --style=\"TB\" --view=\"Tree\" \"VerificationTest\""
   ]
  },
  {
   "cell_type": "code",
   "execution_count": 46,
   "id": "01fb68ff",
   "metadata": {
    "execution": {
     "iopub.execute_input": "2021-10-03T08:26:50.767499Z",
     "iopub.status.busy": "2021-10-03T08:26:50.767082Z",
     "iopub.status.idle": "2021-10-03T08:26:50.770482Z",
     "shell.execute_reply": "2021-10-03T08:26:50.770767Z"
    }
   },
   "outputs": [
    {
     "data": {
      "image/svg+xml": [
       "<?xml version=\"1.0\" encoding=\"UTF-8\" standalone=\"no\"?><svg xmlns=\"http://www.w3.org/2000/svg\" xmlns:xlink=\"http://www.w3.org/1999/xlink\" contentScriptType=\"application/ecmascript\" contentStyleType=\"text/css\" height=\"12px\" preserveAspectRatio=\"none\" style=\"width:12px;height:12px;\" version=\"1.1\" viewBox=\"0 0 12 12\" width=\"12px\" zoomAndPan=\"magnify\"><defs/><g><!--MD5=[f4ee21bc66e489b5061b7c3e9601fdef]\n",
       "@startuml\r\n",
       "top to bottom direction\r\n",
       "skinparam monochrome true\r\n",
       "skinparam classbackgroundcolor white\r\n",
       "skinparam shadowing false\r\n",
       "skinparam wrapWidth 300\r\n",
       "hide circle\r\n",
       "\r\n",
       "@enduml\r\n",
       "\n",
       "PlantUML version 1.2020.13(Sat Jun 13 12:26:38 UTC 2020)\n",
       "(EPL source distribution)\n",
       "Java Runtime: OpenJDK Runtime Environment\n",
       "JVM: OpenJDK 64-Bit Server VM\n",
       "Default Encoding: UTF-8\n",
       "Language: en\n",
       "Country: null\n",
       "--></g></svg>"
      ]
     },
     "execution_count": 46,
     "metadata": {},
     "output_type": "execute_result"
    }
   ],
   "source": [
    "%viz --style=\"TB\" --view=\"State\" \"VerificationTest\""
   ]
  },
  {
   "cell_type": "code",
   "execution_count": 47,
   "id": "1ab2c264",
   "metadata": {
    "execution": {
     "iopub.execute_input": "2021-10-03T08:26:50.820429Z",
     "iopub.status.busy": "2021-10-03T08:26:50.820029Z",
     "iopub.status.idle": "2021-10-03T08:26:50.867875Z",
     "shell.execute_reply": "2021-10-03T08:26:50.867510Z"
    }
   },
   "outputs": [
    {
     "data": {
      "image/svg+xml": [
       "<?xml version=\"1.0\" encoding=\"UTF-8\" standalone=\"no\"?><svg xmlns=\"http://www.w3.org/2000/svg\" xmlns:xlink=\"http://www.w3.org/1999/xlink\" contentScriptType=\"application/ecmascript\" contentStyleType=\"text/css\" height=\"436px\" preserveAspectRatio=\"none\" style=\"width:1278px;height:436px;\" version=\"1.1\" viewBox=\"0 0 1278 436\" width=\"1278px\" zoomAndPan=\"magnify\"><defs/><g><!--MD5=[fbc87193dbaf4d95561dea2c320d4a47]\n",
       "cluster E1--><a href=\"psysml:7303dfcd-df1a-4034-bc74-eb93457ec7c0\" target=\"_top\" title=\"psysml:7303dfcd-df1a-4034-bc74-eb93457ec7c0\" xlink:actuate=\"onRequest\" xlink:href=\"psysml:7303dfcd-df1a-4034-bc74-eb93457ec7c0\" xlink:show=\"new\" xlink:title=\"psysml:7303dfcd-df1a-4034-bc74-eb93457ec7c0\" xlink:type=\"simple\"><polygon fill=\"#FFFFFF\" points=\"16,6,128,6,135,28.2969,1256,28.2969,1256,424.36,16,424.36,16,6\" style=\"stroke: #000000; stroke-width: 1.5;\"/><line style=\"stroke: #000000; stroke-width: 1.5;\" x1=\"16\" x2=\"135\" y1=\"28.2969\" y2=\"28.2969\"/><text fill=\"#000000\" font-family=\"sans-serif\" font-size=\"14\" font-weight=\"bold\" lengthAdjust=\"spacingAndGlyphs\" textLength=\"106\" x=\"20\" y=\"20.9951\">VerificationTest</text></a><!--MD5=[14e3b0961a2654348d326746436168a1]\n",
       "cluster E6--><a href=\"psysml:f44943ce-87bd-4d2b-91db-f66bd879bf72\" target=\"_top\" title=\"psysml:f44943ce-87bd-4d2b-91db-f66bd879bf72\" xlink:actuate=\"onRequest\" xlink:href=\"psysml:f44943ce-87bd-4d2b-91db-f66bd879bf72\" xlink:show=\"new\" xlink:title=\"psysml:f44943ce-87bd-4d2b-91db-f66bd879bf72\" xlink:type=\"simple\"><rect fill=\"#FFFFFF\" height=\"218.36\" id=\"E6\" style=\"stroke: #383838; stroke-width: 1.5;\" width=\"200\" x=\"1040\" y=\"107\"/><rect fill=\"#F8F8F8\" height=\"37.9375\" style=\"stroke: #383838; stroke-width: 1.5;\" width=\"200\" x=\"1040\" y=\"107\"/><text fill=\"#000000\" font-family=\"sans-serif\" font-size=\"12\" font-style=\"italic\" lengthAdjust=\"spacingAndGlyphs\" textLength=\"137\" x=\"1071.5\" y=\"123.1387\">«verificationCase def»</text><text fill=\"#000000\" font-family=\"sans-serif\" font-size=\"12\" lengthAdjust=\"spacingAndGlyphs\" textLength=\"101\" x=\"1089.5\" y=\"137.1074\">VerificationCase</text></a><!--MD5=[7f149f147074ac12df2cb0a7728a5fb0]\n",
       "cluster E9--><a href=\"psysml:109e665d-9569-4e28-8454-db86a3b7365b\" target=\"_top\" title=\"psysml:109e665d-9569-4e28-8454-db86a3b7365b\" xlink:actuate=\"onRequest\" xlink:href=\"psysml:109e665d-9569-4e28-8454-db86a3b7365b\" xlink:show=\"new\" xlink:title=\"psysml:109e665d-9569-4e28-8454-db86a3b7365b\" xlink:type=\"simple\"><rect fill=\"#FFFFFF\" height=\"293.36\" id=\"E9\" style=\"stroke: #383838; stroke-width: 1.5;\" width=\"322\" x=\"688\" y=\"107\"/><rect fill=\"#F8F8F8\" height=\"37.9375\" style=\"stroke: #383838; stroke-width: 1.5;\" width=\"322\" x=\"688\" y=\"107\"/><text fill=\"#000000\" font-family=\"sans-serif\" font-size=\"12\" font-style=\"italic\" lengthAdjust=\"spacingAndGlyphs\" textLength=\"137\" x=\"780.5\" y=\"123.1387\">«verificationCase def»</text><text fill=\"#000000\" font-family=\"sans-serif\" font-size=\"12\" lengthAdjust=\"spacingAndGlyphs\" textLength=\"97\" x=\"800.5\" y=\"137.1074\">VerificationPlan</text></a><!--MD5=[917b9dd0c7eca3ee5f47219d1a84c0ad]\n",
       "cluster E11--><a href=\"psysml:d8eec309-4539-4ef6-b593-f8d5221313a5\" target=\"_top\" title=\"psysml:d8eec309-4539-4ef6-b593-f8d5221313a5\" xlink:actuate=\"onRequest\" xlink:href=\"psysml:d8eec309-4539-4ef6-b593-f8d5221313a5\" xlink:show=\"new\" xlink:title=\"psysml:d8eec309-4539-4ef6-b593-f8d5221313a5\" xlink:type=\"simple\"><rect fill=\"#FFFFFF\" height=\"165.86\" id=\"E11\" rx=\"10\" ry=\"10\" style=\"stroke: #383838; stroke-width: 1.5;\" width=\"174\" x=\"798\" y=\"196.5\"/><rect fill=\"#F8F8F8\" height=\"37.9375\" rx=\"10\" ry=\"10\" style=\"stroke: #F8F8F8; stroke-width: 1.5;\" width=\"174\" x=\"798\" y=\"196.5\"/><rect fill=\"#F8F8F8\" height=\"10\" style=\"stroke: #F8F8F8; stroke-width: 1.5;\" width=\"174\" x=\"798\" y=\"224.4375\"/><rect fill=\"none\" height=\"165.86\" id=\"E11\" rx=\"10\" ry=\"10\" style=\"stroke: #383838; stroke-width: 1.5;\" width=\"174\" x=\"798\" y=\"196.5\"/><text fill=\"#000000\" font-family=\"sans-serif\" font-size=\"12\" font-style=\"italic\" lengthAdjust=\"spacingAndGlyphs\" textLength=\"113\" x=\"828.5\" y=\"212.6387\">«verificationCase»</text><text fill=\"#000000\" font-family=\"sans-serif\" font-size=\"12\" lengthAdjust=\"spacingAndGlyphs\" textLength=\"99\" x=\"835.5\" y=\"226.6074\">verificationCase</text><line style=\"stroke: #383838; stroke-width: 1.0;\" x1=\"798\" x2=\"972\" y1=\"234.4375\" y2=\"234.4375\"/></a><!--MD5=[ab3548ab6224ff035c4047a4d30b7567]\n",
       "cluster E15--><a href=\"psysml:1ba0f1fa-2142-46f9-b759-d2e88bd368a2\" target=\"_top\" title=\"psysml:1ba0f1fa-2142-46f9-b759-d2e88bd368a2\" xlink:actuate=\"onRequest\" xlink:href=\"psysml:1ba0f1fa-2142-46f9-b759-d2e88bd368a2\" xlink:show=\"new\" xlink:title=\"psysml:1ba0f1fa-2142-46f9-b759-d2e88bd368a2\" xlink:type=\"simple\"><rect fill=\"#FFFFFF\" height=\"186.5\" id=\"E15\" rx=\"10\" ry=\"10\" style=\"stroke: #383838; stroke-width: 1.5;\" width=\"238\" x=\"336\" y=\"49\"/><rect fill=\"#F8F8F8\" height=\"23.9688\" rx=\"10\" ry=\"10\" style=\"stroke: #F8F8F8; stroke-width: 1.5;\" width=\"238\" x=\"336\" y=\"49\"/><rect fill=\"#F8F8F8\" height=\"10\" style=\"stroke: #F8F8F8; stroke-width: 1.5;\" width=\"238\" x=\"336\" y=\"62.9688\"/><rect fill=\"none\" height=\"186.5\" id=\"E15\" rx=\"10\" ry=\"10\" style=\"stroke: #383838; stroke-width: 1.5;\" width=\"238\" x=\"336\" y=\"49\"/><text fill=\"#000000\" font-family=\"sans-serif\" font-size=\"12\" lengthAdjust=\"spacingAndGlyphs\" textLength=\"116\" x=\"397\" y=\"65.1387\">verificationContext</text><line style=\"stroke: #383838; stroke-width: 1.0;\" x1=\"336\" x2=\"574\" y1=\"72.9688\" y2=\"72.9688\"/></a><!--MD5=[ebbe1d658d1005bcc118a6aa81145e00]\n",
       "class E4--><a href=\"psysml:971e85b9-9957-4674-90a7-be3bf98856c5\" target=\"_top\" title=\"psysml:971e85b9-9957-4674-90a7-be3bf98856c5\" xlink:actuate=\"onRequest\" xlink:href=\"psysml:971e85b9-9957-4674-90a7-be3bf98856c5\" xlink:show=\"new\" xlink:title=\"psysml:971e85b9-9957-4674-90a7-be3bf98856c5\" xlink:type=\"simple\"><rect fill=\"#FFFFFF\" height=\"66.7422\" id=\"E4\" style=\"stroke: #383838; stroke-width: 1.5;\" width=\"117\" x=\"202.5\" y=\"163\"/><text fill=\"#000000\" font-family=\"sans-serif\" font-size=\"12\" font-style=\"italic\" lengthAdjust=\"spacingAndGlyphs\" textLength=\"115\" x=\"203.5\" y=\"179.1387\">«requirement def»</text><text fill=\"#000000\" font-family=\"sans-serif\" font-size=\"12\" lengthAdjust=\"spacingAndGlyphs\" textLength=\"8\" x=\"257\" y=\"193.1074\">R</text><line style=\"stroke: #383838; stroke-width: 1.5;\" x1=\"203.5\" x2=\"318.5\" y1=\"200.9375\" y2=\"200.9375\"/><text fill=\"#000000\" font-family=\"sans-serif\" font-size=\"11\" lengthAdjust=\"spacingAndGlyphs\" textLength=\"12\" x=\"208.5\" y=\"215.1479\">...</text><line style=\"stroke: #383838; stroke-width: 1.0;\" x1=\"203.5\" x2=\"318.5\" y1=\"221.7422\" y2=\"221.7422\"/></a><!--MD5=[270fce915f116d4de14055a7c1d9a0f3]\n",
       "class E5--><a href=\"psysml:bbcd2223-85a4-4701-a24f-5592c5712336\" target=\"_top\" title=\"psysml:bbcd2223-85a4-4701-a24f-5592c5712336\" xlink:actuate=\"onRequest\" xlink:href=\"psysml:bbcd2223-85a4-4701-a24f-5592c5712336\" xlink:show=\"new\" xlink:title=\"psysml:bbcd2223-85a4-4701-a24f-5592c5712336\" xlink:type=\"simple\"><rect fill=\"#FFFFFF\" height=\"45.9375\" id=\"E5\" rx=\"10\" ry=\"10\" style=\"stroke: #383838; stroke-width: 1.5;\" width=\"93\" x=\"223.5\" y=\"84\"/><text fill=\"#000000\" font-family=\"sans-serif\" font-size=\"12\" font-style=\"italic\" lengthAdjust=\"spacingAndGlyphs\" textLength=\"91\" x=\"224.5\" y=\"100.1387\">«requirement»</text><text fill=\"#000000\" font-family=\"sans-serif\" font-size=\"12\" lengthAdjust=\"spacingAndGlyphs\" textLength=\"21\" x=\"259.5\" y=\"114.1074\">r: R</text><line style=\"stroke: #383838; stroke-width: 1.5;\" x1=\"224.5\" x2=\"315.5\" y1=\"121.9375\" y2=\"121.9375\"/></a><g id=\"E1.E2\"><a href=\"psysml:ee2cd088-4b38-485a-bdcf-f034eebaa933\" target=\"_top\" title=\"psysml:ee2cd088-4b38-485a-bdcf-f034eebaa933\" xlink:actuate=\"onRequest\" xlink:href=\"psysml:ee2cd088-4b38-485a-bdcf-f034eebaa933\" xlink:show=\"new\" xlink:title=\"psysml:ee2cd088-4b38-485a-bdcf-f034eebaa933\" xlink:type=\"simple\"><rect fill=\"#FFFFFF\" height=\"42.9375\" id=\"E2\" style=\"stroke: #383838; stroke-width: 1.5;\" width=\"71\" x=\"117.5\" y=\"85.5\"/><rect fill=\"#F8F8F8\" height=\"37.9375\" style=\"stroke: #383838; stroke-width: 1.5;\" width=\"71\" x=\"117.5\" y=\"85.5\"/><text fill=\"#000000\" font-family=\"sans-serif\" font-size=\"12\" font-style=\"italic\" lengthAdjust=\"spacingAndGlyphs\" textLength=\"64\" x=\"121\" y=\"101.6387\">«part def»</text><text fill=\"#000000\" font-family=\"sans-serif\" font-size=\"12\" lengthAdjust=\"spacingAndGlyphs\" textLength=\"8\" x=\"149\" y=\"115.6074\">V</text></a></g><g id=\"E1.E3\"><a href=\"psysml:ea23779d-7b91-41e0-a4d1-5f0745e774d2\" target=\"_top\" title=\"psysml:ea23779d-7b91-41e0-a4d1-5f0745e774d2\" xlink:actuate=\"onRequest\" xlink:href=\"psysml:ea23779d-7b91-41e0-a4d1-5f0745e774d2\" xlink:show=\"new\" xlink:title=\"psysml:ea23779d-7b91-41e0-a4d1-5f0745e774d2\" xlink:type=\"simple\"><rect fill=\"#FFFFFF\" height=\"40\" id=\"E3\" rx=\"10\" ry=\"10\" style=\"stroke: #383838; stroke-width: 1.5;\" width=\"50\" x=\"32\" y=\"87\"/><rect fill=\"#F8F8F8\" height=\"23.9688\" rx=\"10\" ry=\"10\" style=\"stroke: #F8F8F8; stroke-width: 1.5;\" width=\"50\" x=\"32\" y=\"87\"/><rect fill=\"#F8F8F8\" height=\"10\" style=\"stroke: #F8F8F8; stroke-width: 1.5;\" width=\"50\" x=\"32\" y=\"100.9688\"/><rect fill=\"none\" height=\"40\" id=\"E3\" rx=\"10\" ry=\"10\" style=\"stroke: #383838; stroke-width: 1.5;\" width=\"50\" x=\"32\" y=\"87\"/><text fill=\"#000000\" font-family=\"sans-serif\" font-size=\"12\" lengthAdjust=\"spacingAndGlyphs\" textLength=\"28\" x=\"43\" y=\"103.1387\">vv: V</text></a></g><text fill=\"#000000\" font-family=\"sans-serif\" font-size=\"14\" lengthAdjust=\"spacingAndGlyphs\" textLength=\"7\" x=\"1136.5\" y=\"85.6982\">v</text><rect fill=\"#383838\" height=\"12\" style=\"stroke: #F8F8F8; stroke-width: 1.5;\" width=\"12\" x=\"1134\" y=\"101\"/><text fill=\"#000000\" font-family=\"sans-serif\" font-size=\"14\" lengthAdjust=\"spacingAndGlyphs\" textLength=\"46\" x=\"1117\" y=\"344.3551\">verdict</text><rect fill=\"#383838\" height=\"12\" style=\"stroke: #F8F8F8; stroke-width: 1.5;\" width=\"12\" x=\"1134\" y=\"319.36\"/><text fill=\"#000000\" font-family=\"sans-serif\" font-size=\"14\" lengthAdjust=\"spacingAndGlyphs\" textLength=\"7\" x=\"702.5\" y=\"85.6982\">v</text><rect fill=\"#383838\" height=\"12\" style=\"stroke: #F8F8F8; stroke-width: 1.5;\" width=\"12\" x=\"700\" y=\"101\"/><text fill=\"#000000\" font-family=\"sans-serif\" font-size=\"14\" lengthAdjust=\"spacingAndGlyphs\" textLength=\"46\" x=\"987\" y=\"344.3551\">verdict</text><rect fill=\"#383838\" height=\"12\" style=\"stroke: #F8F8F8; stroke-width: 1.5;\" width=\"12\" x=\"1004\" y=\"319.36\"/><text fill=\"#000000\" font-family=\"sans-serif\" font-size=\"14\" lengthAdjust=\"spacingAndGlyphs\" textLength=\"46\" x=\"862\" y=\"381.3551\">verdict</text><rect fill=\"#383838\" height=\"12\" style=\"stroke: #F8F8F8; stroke-width: 1.5;\" width=\"12\" x=\"879\" y=\"356.36\"/><text fill=\"#000000\" font-family=\"sans-serif\" font-size=\"14\" lengthAdjust=\"spacingAndGlyphs\" textLength=\"7\" x=\"881.5\" y=\"175.1982\">v</text><rect fill=\"#383838\" height=\"12\" style=\"stroke: #F8F8F8; stroke-width: 1.5;\" width=\"12\" x=\"879\" y=\"190.5\"/><!--MD5=[35f0587eaee8d5bb9a02e25b63afc23b]\n",
       "class E16--><a href=\"psysml:f139e62b-7bf9-43a0-a382-40038ed35c63\" target=\"_top\" title=\"psysml:f139e62b-7bf9-43a0-a382-40038ed35c63\" xlink:actuate=\"onRequest\" xlink:href=\"psysml:f139e62b-7bf9-43a0-a382-40038ed35c63\" xlink:show=\"new\" xlink:title=\"psysml:f139e62b-7bf9-43a0-a382-40038ed35c63\" xlink:type=\"simple\"><rect fill=\"#FFFFFF\" height=\"45.9375\" id=\"E16\" rx=\"10\" ry=\"10\" style=\"stroke: #383838; stroke-width: 1.5;\" width=\"206\" x=\"352\" y=\"84\"/><text fill=\"#000000\" font-family=\"sans-serif\" font-size=\"12\" font-style=\"italic\" lengthAdjust=\"spacingAndGlyphs\" textLength=\"113\" x=\"398.5\" y=\"100.1387\">«verificationCase»</text><text fill=\"#000000\" font-family=\"sans-serif\" font-size=\"12\" lengthAdjust=\"spacingAndGlyphs\" textLength=\"200\" x=\"355\" y=\"114.1074\">verificationPlan: VerificationPlan</text><line style=\"stroke: #383838; stroke-width: 1.5;\" x1=\"353\" x2=\"557\" y1=\"121.9375\" y2=\"121.9375\"/></a><!--MD5=[60e55a4a9b2f0dc0a36787c5a2095786]\n",
       "class E17--><a href=\"psysml:fe640fc2-093c-44fe-a9fd-0ceecb8f463c\" target=\"_top\" title=\"psysml:fe640fc2-093c-44fe-a9fd-0ceecb8f463c\" xlink:actuate=\"onRequest\" xlink:href=\"psysml:fe640fc2-093c-44fe-a9fd-0ceecb8f463c\" xlink:show=\"new\" xlink:title=\"psysml:fe640fc2-093c-44fe-a9fd-0ceecb8f463c\" xlink:type=\"simple\"><rect fill=\"#FFFFFF\" height=\"45.9375\" id=\"E17\" rx=\"10\" ry=\"10\" style=\"stroke: #383838; stroke-width: 1.5;\" width=\"93\" x=\"408.5\" y=\"173.5\"/><text fill=\"#000000\" font-family=\"sans-serif\" font-size=\"12\" font-style=\"italic\" lengthAdjust=\"spacingAndGlyphs\" textLength=\"91\" x=\"409.5\" y=\"189.6387\">«requirement»</text><text fill=\"#000000\" font-family=\"sans-serif\" font-size=\"12\" lengthAdjust=\"spacingAndGlyphs\" textLength=\"19\" x=\"445.5\" y=\"203.6074\">obj</text><line style=\"stroke: #383838; stroke-width: 1.5;\" x1=\"409.5\" x2=\"500.5\" y1=\"211.4375\" y2=\"211.4375\"/></a><!--MD5=[1c62de2aa5b76f0fb657ff8443a1a700]\n",
       "link E5 to E4--><a href=\"psysml:4afeeb28-a204-4e17-a080-31f9a6d380ec\" target=\"_top\" title=\"psysml:4afeeb28-a204-4e17-a080-31f9a6d380ec\" xlink:actuate=\"onRequest\" xlink:href=\"psysml:4afeeb28-a204-4e17-a080-31f9a6d380ec\" xlink:show=\"new\" xlink:title=\"psysml:4afeeb28-a204-4e17-a080-31f9a6d380ec\" xlink:type=\"simple\"><path d=\"M267.73,130.08 C267.32,134.03 266.88,138.3 266.43,142.7 \" fill=\"none\" id=\"E5-&gt;E4\" style=\"stroke: #383838; stroke-width: 1.0;\"/><polygon fill=\"#FFFFFF\" points=\"264.36,162.84,259.3369,143.2245,273.2637,144.6542,264.36,162.84\" style=\"stroke: #383838; stroke-width: 1.0;\"/><ellipse cx=\"261.9085\" cy=\"137.7585\" fill=\"#383838\" rx=\"2\" ry=\"2\" style=\"stroke: #383838; stroke-width: 1.0;\"/><ellipse cx=\"271.8562\" cy=\"138.7797\" fill=\"#383838\" rx=\"2\" ry=\"2\" style=\"stroke: #383838; stroke-width: 1.0;\"/></a><!--MD5=[4de2d328c39b6d65fb95a84ef336270e]\n",
       "link E16 to E9--><a href=\"psysml:cd73bb42-520f-4e04-8240-7f040abbe442\" target=\"_top\" title=\"psysml:cd73bb42-520f-4e04-8240-7f040abbe442\" xlink:actuate=\"onRequest\" xlink:href=\"psysml:cd73bb42-520f-4e04-8240-7f040abbe442\" xlink:show=\"new\" xlink:title=\"psysml:cd73bb42-520f-4e04-8240-7f040abbe442\" xlink:type=\"simple\"><path d=\"M518.34,130.08 C561.91,145.27 618.85,165.12 658.53,178.95 \" fill=\"none\" id=\"E16-&gt;E9\" style=\"stroke: #383838; stroke-width: 1.0;\"/><polygon fill=\"#FFFFFF\" points=\"658.53,178.95,638.2847,179.3067,642.8924,166.0867,658.53,178.95\" style=\"stroke: #383838; stroke-width: 1.0;\"/><ellipse cx=\"633.5605\" cy=\"175.5422\" fill=\"#383838\" rx=\"2\" ry=\"2\" style=\"stroke: #383838; stroke-width: 1.0;\"/><ellipse cx=\"636.8517\" cy=\"166.0993\" fill=\"#383838\" rx=\"2\" ry=\"2\" style=\"stroke: #383838; stroke-width: 1.0;\"/></a><!--MD5=[450e3481f1c83a03a55fcf78b0bbbde6]\n",
       "link E16 to E17--><a href=\"psysml:e29f10bd-d5bc-4797-97ab-a37fb0e5db5b\" target=\"_top\" title=\"psysml:e29f10bd-d5bc-4797-97ab-a37fb0e5db5b\" xlink:actuate=\"onRequest\" xlink:href=\"psysml:e29f10bd-d5bc-4797-97ab-a37fb0e5db5b\" xlink:show=\"new\" xlink:title=\"psysml:e29f10bd-d5bc-4797-97ab-a37fb0e5db5b\" xlink:type=\"simple\"><path d=\"M455,130.08 C455,140.75 455,153.73 455,165.3 \" fill=\"none\" id=\"E16-&gt;E17\" style=\"stroke: #383838; stroke-width: 1.0;\"/><polygon fill=\"#383838\" points=\"455,173.43,458,165.43,452,165.43,455,173.43\" style=\"stroke: #383838; stroke-width: 1.0;\"/><text fill=\"#000000\" font-family=\"sans-serif\" font-size=\"13\" lengthAdjust=\"spacingAndGlyphs\" textLength=\"73\" x=\"456\" y=\"151.0669\">«objective»</text><text fill=\"#000000\" font-family=\"sans-serif\" font-size=\"13\" lengthAdjust=\"spacingAndGlyphs\" textLength=\"7\" x=\"447.0594\" y=\"162.3075\">*</text></a><!--MD5=[b7518c6d599580707ba7749f954c6543]\n",
       "@startuml\r\n",
       "skinparam ranksep 10\r\n",
       "skinparam rectangle {\r\n",
       " backgroundColor<<block>> LightGreen\r\n",
       "}\r\n",
       "top to bottom direction\r\n",
       "skinparam monochrome true\r\n",
       "skinparam classbackgroundcolor white\r\n",
       "skinparam shadowing false\r\n",
       "skinparam wrapWidth 300\r\n",
       "hide circle\r\n",
       "\r\n",
       "package \"VerificationTest\" as E1  [[psysml:7303dfcd-df1a-4034-bc74-eb93457ec7c0 ]]  {\r\n",
       "rec def \"V\" as E2  <<(T,blue) part def>> [[psysml:ee2cd088-4b38-485a-bdcf-f034eebaa933 ]] {\r\n",
       "}\r\n",
       "rec usage \"vv: V\" as E3  [[psysml:ea23779d-7b91-41e0-a4d1-5f0745e774d2 ]] {\r\n",
       "}\r\n",
       "comp def \"R\" as E4  <<(T,blue) requirement def>> [[psysml:971e85b9-9957-4674-90a7-be3bf98856c5 ]] {\r\n",
       "...\r\n",
       "- -\r\n",
       "}\r\n",
       "comp usage \"r: R\" as E5  <<(T,blue) requirement>> [[psysml:bbcd2223-85a4-4701-a24f-5592c5712336 ]] {\r\n",
       "}\r\n",
       "rec def \"VerificationCase\" as E6  <<(T,blue) verificationCase def>> [[psysml:f44943ce-87bd-4d2b-91db-f66bd879bf72 ]] {\r\n",
       "portin \"v\" as E7  [[psysml:39e4c68a-7e48-4018-a595-005447bc25d1 ]] \r\n",
       "portout \"verdict\" as E8  [[psysml:e7480a5a-bc03-4bfb-926c-ff77790341ab ]] \r\n",
       "}\r\n",
       "\r\n",
       "rec def \"VerificationPlan\" as E9  <<(T,blue) verificationCase def>> [[psysml:109e665d-9569-4e28-8454-db86a3b7365b ]] {\r\n",
       "portin \"v\" as E10  [[psysml:bc04aa0f-1251-4bd1-9492-821de83ad0f4 ]] \r\n",
       "rec usage \"verificationCase\" as E11  <<(T,blue) verificationCase>> [[psysml:d8eec309-4539-4ef6-b593-f8d5221313a5 ]] {\r\n",
       "portout \"verdict\" as E12  [[psysml:d4b19012-2d8f-412c-81cb-04106ed54ab9 ]] \r\n",
       "portin \"v\" as E13  [[psysml:101691aa-2b16-4439-bb49-3b5a9750b72a ]] \r\n",
       "}\r\n",
       "\r\n",
       "portout \"verdict\" as E14  [[psysml:d1cc474d-a7ae-4245-8f3b-eac2c389ad3d ]] \r\n",
       "}\r\n",
       "\r\n",
       "rec usage \"verificationContext\" as E15  [[psysml:1ba0f1fa-2142-46f9-b759-d2e88bd368a2 ]] {\r\n",
       "comp usage \"verificationPlan: VerificationPlan\" as E16  <<(T,blue) verificationCase>> [[psysml:f139e62b-7bf9-43a0-a382-40038ed35c63 ]] {\r\n",
       "}\r\n",
       "comp usage \"obj\" as E17  <<(T,blue) requirement>> [[psysml:fe640fc2-093c-44fe-a9fd-0ceecb8f463c ]] {\r\n",
       "}\r\n",
       "}\r\n",
       "}\r\n",
       "E5 - -:|> E4 [[psysml:4afeeb28-a204-4e17-a080-31f9a6d380ec ]] \r\n",
       "E16 - -:|> E9 [[psysml:cd73bb42-520f-4e04-8240-7f040abbe442 ]] \r\n",
       "E16 - ->> \"*\"E17 [[psysml:e29f10bd-d5bc-4797-97ab-a37fb0e5db5b ]] : <<objective>>\r\n",
       "@enduml\r\n",
       "\n",
       "PlantUML version 1.2020.13(Sat Jun 13 12:26:38 UTC 2020)\n",
       "(EPL source distribution)\n",
       "Java Runtime: OpenJDK Runtime Environment\n",
       "JVM: OpenJDK 64-Bit Server VM\n",
       "Default Encoding: UTF-8\n",
       "Language: en\n",
       "Country: null\n",
       "--></g></svg>"
      ]
     },
     "execution_count": 47,
     "metadata": {},
     "output_type": "execute_result"
    }
   ],
   "source": [
    "%viz --style=\"TB\" --view=\"Interconnection\" \"VerificationTest\""
   ]
  },
  {
   "cell_type": "code",
   "execution_count": 48,
   "id": "bf857a55",
   "metadata": {
    "execution": {
     "iopub.execute_input": "2021-10-03T08:26:50.917170Z",
     "iopub.status.busy": "2021-10-03T08:26:50.916766Z",
     "iopub.status.idle": "2021-10-03T08:26:50.960100Z",
     "shell.execute_reply": "2021-10-03T08:26:50.959721Z"
    }
   },
   "outputs": [
    {
     "data": {
      "image/svg+xml": [
       "<?xml version=\"1.0\" encoding=\"UTF-8\" standalone=\"no\"?><svg xmlns=\"http://www.w3.org/2000/svg\" xmlns:xlink=\"http://www.w3.org/1999/xlink\" contentScriptType=\"application/ecmascript\" contentStyleType=\"text/css\" height=\"233px\" preserveAspectRatio=\"none\" style=\"width:835px;height:233px;\" version=\"1.1\" viewBox=\"0 0 835 233\" width=\"835px\" zoomAndPan=\"magnify\"><defs/><g><!--MD5=[fbc87193dbaf4d95561dea2c320d4a47]\n",
       "cluster E1--><a href=\"psysml:f44943ce-87bd-4d2b-91db-f66bd879bf72\" target=\"_top\" title=\"psysml:f44943ce-87bd-4d2b-91db-f66bd879bf72\" xlink:actuate=\"onRequest\" xlink:href=\"psysml:f44943ce-87bd-4d2b-91db-f66bd879bf72\" xlink:show=\"new\" xlink:title=\"psysml:f44943ce-87bd-4d2b-91db-f66bd879bf72\" xlink:type=\"simple\"><rect fill=\"#FFFFFF\" height=\"122\" id=\"E1\" style=\"stroke: #383838; stroke-width: 1.5;\" width=\"200\" x=\"7\" y=\"42.0986\"/><rect fill=\"#F8F8F8\" height=\"37.9375\" style=\"stroke: #383838; stroke-width: 1.5;\" width=\"200\" x=\"7\" y=\"42.0986\"/><text fill=\"#000000\" font-family=\"sans-serif\" font-size=\"12\" font-style=\"italic\" lengthAdjust=\"spacingAndGlyphs\" textLength=\"137\" x=\"38.5\" y=\"58.2373\">«verificationCase def»</text><text fill=\"#000000\" font-family=\"sans-serif\" font-size=\"12\" lengthAdjust=\"spacingAndGlyphs\" textLength=\"101\" x=\"56.5\" y=\"72.2061\">VerificationCase</text></a><!--MD5=[f6df4d0ebaf0b5dfb2ced0ae5af7c670]\n",
       "cluster E4--><a href=\"psysml:109e665d-9569-4e28-8454-db86a3b7365b\" target=\"_top\" title=\"psysml:109e665d-9569-4e28-8454-db86a3b7365b\" xlink:actuate=\"onRequest\" xlink:href=\"psysml:109e665d-9569-4e28-8454-db86a3b7365b\" xlink:show=\"new\" xlink:title=\"psysml:109e665d-9569-4e28-8454-db86a3b7365b\" xlink:type=\"simple\"><rect fill=\"#FFFFFF\" height=\"180\" id=\"E4\" style=\"stroke: #383838; stroke-width: 1.5;\" width=\"325\" x=\"297\" y=\"42.0986\"/><rect fill=\"#F8F8F8\" height=\"37.9375\" style=\"stroke: #383838; stroke-width: 1.5;\" width=\"325\" x=\"297\" y=\"42.0986\"/><text fill=\"#000000\" font-family=\"sans-serif\" font-size=\"12\" font-style=\"italic\" lengthAdjust=\"spacingAndGlyphs\" textLength=\"137\" x=\"391\" y=\"58.2373\">«verificationCase def»</text><text fill=\"#000000\" font-family=\"sans-serif\" font-size=\"12\" lengthAdjust=\"spacingAndGlyphs\" textLength=\"97\" x=\"411\" y=\"72.2061\">VerificationPlan</text></a><!--MD5=[14e3b0961a2654348d326746436168a1]\n",
       "cluster E6--><a href=\"psysml:d8eec309-4539-4ef6-b593-f8d5221313a5\" target=\"_top\" title=\"psysml:d8eec309-4539-4ef6-b593-f8d5221313a5\" xlink:actuate=\"onRequest\" xlink:href=\"psysml:d8eec309-4539-4ef6-b593-f8d5221313a5\" xlink:show=\"new\" xlink:title=\"psysml:d8eec309-4539-4ef6-b593-f8d5221313a5\" xlink:type=\"simple\"><rect fill=\"#FFFFFF\" height=\"110.5\" id=\"E6\" rx=\"10\" ry=\"10\" style=\"stroke: #383838; stroke-width: 1.5;\" width=\"174\" x=\"407\" y=\"81.5986\"/><rect fill=\"#F8F8F8\" height=\"37.9375\" rx=\"10\" ry=\"10\" style=\"stroke: #F8F8F8; stroke-width: 1.5;\" width=\"174\" x=\"407\" y=\"81.5986\"/><rect fill=\"#F8F8F8\" height=\"10\" style=\"stroke: #F8F8F8; stroke-width: 1.5;\" width=\"174\" x=\"407\" y=\"109.5361\"/><rect fill=\"none\" height=\"110.5\" id=\"E6\" rx=\"10\" ry=\"10\" style=\"stroke: #383838; stroke-width: 1.5;\" width=\"174\" x=\"407\" y=\"81.5986\"/><text fill=\"#000000\" font-family=\"sans-serif\" font-size=\"12\" font-style=\"italic\" lengthAdjust=\"spacingAndGlyphs\" textLength=\"113\" x=\"437.5\" y=\"97.7373\">«verificationCase»</text><text fill=\"#000000\" font-family=\"sans-serif\" font-size=\"12\" lengthAdjust=\"spacingAndGlyphs\" textLength=\"99\" x=\"444.5\" y=\"111.7061\">verificationCase</text><line style=\"stroke: #383838; stroke-width: 1.0;\" x1=\"407\" x2=\"581\" y1=\"119.5361\" y2=\"119.5361\"/></a><!--MD5=[a84b4591f868c1fa4a211716a82f2f0d]\n",
       "cluster E10--><a href=\"psysml:f139e62b-7bf9-43a0-a382-40038ed35c63\" target=\"_top\" title=\"psysml:f139e62b-7bf9-43a0-a382-40038ed35c63\" xlink:actuate=\"onRequest\" xlink:href=\"psysml:f139e62b-7bf9-43a0-a382-40038ed35c63\" xlink:show=\"new\" xlink:title=\"psysml:f139e62b-7bf9-43a0-a382-40038ed35c63\" xlink:type=\"simple\"><rect fill=\"#FFFFFF\" height=\"122\" id=\"E10\" rx=\"10\" ry=\"10\" style=\"stroke: #383838; stroke-width: 1.5;\" width=\"172\" x=\"651\" y=\"42.0986\"/><rect fill=\"#F8F8F8\" height=\"37.9375\" rx=\"10\" ry=\"10\" style=\"stroke: #F8F8F8; stroke-width: 1.5;\" width=\"172\" x=\"651\" y=\"42.0986\"/><rect fill=\"#F8F8F8\" height=\"10\" style=\"stroke: #F8F8F8; stroke-width: 1.5;\" width=\"172\" x=\"651\" y=\"70.0361\"/><rect fill=\"none\" height=\"122\" id=\"E10\" rx=\"10\" ry=\"10\" style=\"stroke: #383838; stroke-width: 1.5;\" width=\"172\" x=\"651\" y=\"42.0986\"/><text fill=\"#000000\" font-family=\"sans-serif\" font-size=\"12\" font-style=\"italic\" lengthAdjust=\"spacingAndGlyphs\" textLength=\"113\" x=\"680.5\" y=\"58.2373\">«verificationCase»</text><text fill=\"#000000\" font-family=\"sans-serif\" font-size=\"12\" lengthAdjust=\"spacingAndGlyphs\" textLength=\"95\" x=\"689.5\" y=\"72.2061\">verificationPlan</text><line style=\"stroke: #383838; stroke-width: 1.0;\" x1=\"651\" x2=\"823\" y1=\"80.0361\" y2=\"80.0361\"/></a><text fill=\"#000000\" font-family=\"sans-serif\" font-size=\"14\" lengthAdjust=\"spacingAndGlyphs\" textLength=\"7\" x=\"103.5\" y=\"20.7969\">v</text><rect fill=\"#383838\" height=\"12\" style=\"stroke: #F8F8F8; stroke-width: 1.5;\" width=\"12\" x=\"101\" y=\"36.0986\"/><text fill=\"#000000\" font-family=\"sans-serif\" font-size=\"14\" lengthAdjust=\"spacingAndGlyphs\" textLength=\"46\" x=\"84\" y=\"183.0938\">verdict</text><rect fill=\"#383838\" height=\"12\" style=\"stroke: #F8F8F8; stroke-width: 1.5;\" width=\"12\" x=\"101\" y=\"158.0986\"/><text fill=\"#000000\" font-family=\"sans-serif\" font-size=\"14\" lengthAdjust=\"spacingAndGlyphs\" textLength=\"7\" x=\"311.5\" y=\"20.7969\">v</text><rect fill=\"#383838\" height=\"12\" style=\"stroke: #F8F8F8; stroke-width: 1.5;\" width=\"12\" x=\"309\" y=\"36.0986\"/><text fill=\"#000000\" font-family=\"sans-serif\" font-size=\"14\" lengthAdjust=\"spacingAndGlyphs\" textLength=\"46\" x=\"599\" y=\"183.0938\">verdict</text><rect fill=\"#383838\" height=\"12\" style=\"stroke: #F8F8F8; stroke-width: 1.5;\" width=\"12\" x=\"616\" y=\"158.0986\"/><text fill=\"#000000\" font-family=\"sans-serif\" font-size=\"14\" lengthAdjust=\"spacingAndGlyphs\" textLength=\"46\" x=\"471\" y=\"211.0938\">verdict</text><rect fill=\"#383838\" height=\"12\" style=\"stroke: #F8F8F8; stroke-width: 1.5;\" width=\"12\" x=\"488\" y=\"186.0986\"/><text fill=\"#000000\" font-family=\"sans-serif\" font-size=\"14\" lengthAdjust=\"spacingAndGlyphs\" textLength=\"7\" x=\"490.5\" y=\"60.2969\">v</text><rect fill=\"#383838\" height=\"12\" style=\"stroke: #F8F8F8; stroke-width: 1.5;\" width=\"12\" x=\"488\" y=\"75.5986\"/><text fill=\"#000000\" font-family=\"sans-serif\" font-size=\"14\" lengthAdjust=\"spacingAndGlyphs\" textLength=\"7\" x=\"732.5\" y=\"20.7969\">v</text><rect fill=\"#383838\" height=\"12\" style=\"stroke: #F8F8F8; stroke-width: 1.5;\" width=\"12\" x=\"730\" y=\"36.0986\"/><text fill=\"#000000\" font-family=\"sans-serif\" font-size=\"14\" lengthAdjust=\"spacingAndGlyphs\" textLength=\"46\" x=\"646\" y=\"183.0938\">verdict</text><rect fill=\"#383838\" height=\"12\" style=\"stroke: #F8F8F8; stroke-width: 1.5;\" width=\"12\" x=\"663\" y=\"158.0986\"/><!--MD5=[22ecb551e190ffa727526ead420a5d9e]\n",
       "@startuml\r\n",
       "skinparam ranksep 8\r\n",
       "top to bottom direction\r\n",
       "skinparam monochrome true\r\n",
       "skinparam classbackgroundcolor white\r\n",
       "skinparam shadowing false\r\n",
       "skinparam wrapWidth 300\r\n",
       "hide circle\r\n",
       "\r\n",
       "rec def \"VerificationCase\" as E1  <<(T,blue) verificationCase def>> [[psysml:f44943ce-87bd-4d2b-91db-f66bd879bf72 ]] {\r\n",
       "portin \"v\" as E2  [[psysml:39e4c68a-7e48-4018-a595-005447bc25d1 ]] \r\n",
       "portout \"verdict\" as E3  [[psysml:e7480a5a-bc03-4bfb-926c-ff77790341ab ]] \r\n",
       "}\r\n",
       "\r\n",
       "rec def \"VerificationPlan\" as E4  <<(T,blue) verificationCase def>> [[psysml:109e665d-9569-4e28-8454-db86a3b7365b ]] {\r\n",
       "portin \"v\" as E5  [[psysml:bc04aa0f-1251-4bd1-9492-821de83ad0f4 ]] \r\n",
       "rec usage \"verificationCase\" as E6  <<(T,blue) verificationCase>> [[psysml:d8eec309-4539-4ef6-b593-f8d5221313a5 ]] {\r\n",
       "portout \"verdict\" as E7  [[psysml:d4b19012-2d8f-412c-81cb-04106ed54ab9 ]] \r\n",
       "portin \"v\" as E8  [[psysml:101691aa-2b16-4439-bb49-3b5a9750b72a ]] \r\n",
       "}\r\n",
       "\r\n",
       "portout \"verdict\" as E9  [[psysml:d1cc474d-a7ae-4245-8f3b-eac2c389ad3d ]] \r\n",
       "}\r\n",
       "\r\n",
       "rec usage \"verificationPlan\" as E10  <<(T,blue) verificationCase>> [[psysml:f139e62b-7bf9-43a0-a382-40038ed35c63 ]] {\r\n",
       "portin \"v\" as E11  [[psysml:e60d74c1-8e27-4253-b6e4-c059af187aab ]] \r\n",
       "portout \"verdict\" as E12  [[psysml:d1cf56c3-055d-4e01-94eb-7c3e50de0a09 ]] \r\n",
       "}\r\n",
       "\r\n",
       "@enduml\r\n",
       "\n",
       "PlantUML version 1.2020.13(Sat Jun 13 12:26:38 UTC 2020)\n",
       "(EPL source distribution)\n",
       "Java Runtime: OpenJDK Runtime Environment\n",
       "JVM: OpenJDK 64-Bit Server VM\n",
       "Default Encoding: UTF-8\n",
       "Language: en\n",
       "Country: null\n",
       "--></g></svg>"
      ]
     },
     "execution_count": 48,
     "metadata": {},
     "output_type": "execute_result"
    }
   ],
   "source": [
    "%viz --style=\"TB\" --view=\"Action\" \"VerificationTest\""
   ]
  },
  {
   "cell_type": "code",
   "execution_count": 49,
   "id": "db3612b5",
   "metadata": {
    "execution": {
     "iopub.execute_input": "2021-10-03T08:26:51.009248Z",
     "iopub.status.busy": "2021-10-03T08:26:51.008831Z",
     "iopub.status.idle": "2021-10-03T08:26:51.014557Z",
     "shell.execute_reply": "2021-10-03T08:26:51.014844Z"
    }
   },
   "outputs": [
    {
     "data": {
      "image/svg+xml": [
       "<?xml version=\"1.0\" encoding=\"UTF-8\" standalone=\"no\"?><svg xmlns=\"http://www.w3.org/2000/svg\" xmlns:xlink=\"http://www.w3.org/1999/xlink\" contentScriptType=\"application/ecmascript\" contentStyleType=\"text/css\" height=\"12px\" preserveAspectRatio=\"none\" style=\"width:12px;height:12px;\" version=\"1.1\" viewBox=\"0 0 12 12\" width=\"12px\" zoomAndPan=\"magnify\"><defs/><g><!--MD5=[e1ab0c84c44d2fef8bf5f140f2689906]\n",
       "@startuml\r\n",
       "skinparam roundcorner 20\r\n",
       "skinparam BoxPadding 20\r\n",
       "skinparam SequenceBoxBackgroundColor #white\r\n",
       "skinparam style strictuml\r\n",
       "skinparam maxMessageSize 100\r\n",
       "top to bottom direction\r\n",
       "skinparam monochrome true\r\n",
       "skinparam classbackgroundcolor white\r\n",
       "skinparam shadowing false\r\n",
       "skinparam wrapWidth 300\r\n",
       "hide circle\r\n",
       "\r\n",
       "@enduml\r\n",
       "\n",
       "PlantUML version 1.2020.13(Sat Jun 13 12:26:38 UTC 2020)\n",
       "(EPL source distribution)\n",
       "Java Runtime: OpenJDK Runtime Environment\n",
       "JVM: OpenJDK 64-Bit Server VM\n",
       "Default Encoding: UTF-8\n",
       "Language: en\n",
       "Country: null\n",
       "--></g></svg>"
      ]
     },
     "execution_count": 49,
     "metadata": {},
     "output_type": "execute_result"
    }
   ],
   "source": [
    "%viz --style=\"TB\" --view=\"Sequence\" \"VerificationTest\""
   ]
  },
  {
   "cell_type": "code",
   "execution_count": 50,
   "id": "cd66f867",
   "metadata": {
    "execution": {
     "iopub.execute_input": "2021-10-03T08:26:51.064461Z",
     "iopub.status.busy": "2021-10-03T08:26:51.064068Z",
     "iopub.status.idle": "2021-10-03T08:26:51.125734Z",
     "shell.execute_reply": "2021-10-03T08:26:51.125377Z"
    }
   },
   "outputs": [
    {
     "data": {
      "image/svg+xml": [
       "<?xml version=\"1.0\" encoding=\"UTF-8\" standalone=\"no\"?><svg xmlns=\"http://www.w3.org/2000/svg\" xmlns:xlink=\"http://www.w3.org/1999/xlink\" contentScriptType=\"application/ecmascript\" contentStyleType=\"text/css\" height=\"628px\" preserveAspectRatio=\"none\" style=\"width:1172px;height:628px;\" version=\"1.1\" viewBox=\"0 0 1172 628\" width=\"1172px\" zoomAndPan=\"magnify\"><defs/><g><!--MD5=[fbc87193dbaf4d95561dea2c320d4a47]\n",
       "cluster E1--><a href=\"psysml:7303dfcd-df1a-4034-bc74-eb93457ec7c0\" target=\"_top\" title=\"psysml:7303dfcd-df1a-4034-bc74-eb93457ec7c0\" xlink:actuate=\"onRequest\" xlink:href=\"psysml:7303dfcd-df1a-4034-bc74-eb93457ec7c0\" xlink:show=\"new\" xlink:title=\"psysml:7303dfcd-df1a-4034-bc74-eb93457ec7c0\" xlink:type=\"simple\"><polygon fill=\"#FFFFFF\" points=\"16,6,128,6,135,28.2969,1150,28.2969,1150,616,16,616,16,6\" style=\"stroke: #000000; stroke-width: 1.5;\"/><line style=\"stroke: #000000; stroke-width: 1.5;\" x1=\"16\" x2=\"135\" y1=\"28.2969\" y2=\"28.2969\"/><text fill=\"#000000\" font-family=\"sans-serif\" font-size=\"14\" font-weight=\"bold\" lengthAdjust=\"spacingAndGlyphs\" textLength=\"106\" x=\"20\" y=\"20.9951\">VerificationTest</text></a><!--MD5=[14e3b0961a2654348d326746436168a1]\n",
       "cluster E6--><a href=\"psysml:f44943ce-87bd-4d2b-91db-f66bd879bf72\" target=\"_top\" title=\"psysml:f44943ce-87bd-4d2b-91db-f66bd879bf72\" xlink:actuate=\"onRequest\" xlink:href=\"psysml:f44943ce-87bd-4d2b-91db-f66bd879bf72\" xlink:show=\"new\" xlink:title=\"psysml:f44943ce-87bd-4d2b-91db-f66bd879bf72\" xlink:type=\"simple\"><rect fill=\"#FFFFFF\" height=\"310\" id=\"E6\" style=\"stroke: #383838; stroke-width: 1.5;\" width=\"200\" x=\"934\" y=\"64\"/><rect fill=\"#F8F8F8\" height=\"37.9375\" style=\"stroke: #383838; stroke-width: 1.5;\" width=\"200\" x=\"934\" y=\"64\"/><text fill=\"#000000\" font-family=\"sans-serif\" font-size=\"12\" font-style=\"italic\" lengthAdjust=\"spacingAndGlyphs\" textLength=\"137\" x=\"965.5\" y=\"80.1387\">«verificationCase def»</text><text fill=\"#000000\" font-family=\"sans-serif\" font-size=\"12\" lengthAdjust=\"spacingAndGlyphs\" textLength=\"101\" x=\"983.5\" y=\"94.1074\">VerificationCase</text></a><!--MD5=[7f149f147074ac12df2cb0a7728a5fb0]\n",
       "cluster E9--><a href=\"psysml:109e665d-9569-4e28-8454-db86a3b7365b\" target=\"_top\" title=\"psysml:109e665d-9569-4e28-8454-db86a3b7365b\" xlink:actuate=\"onRequest\" xlink:href=\"psysml:109e665d-9569-4e28-8454-db86a3b7365b\" xlink:show=\"new\" xlink:title=\"psysml:109e665d-9569-4e28-8454-db86a3b7365b\" xlink:type=\"simple\"><rect fill=\"#FFFFFF\" height=\"410.5\" id=\"E9\" style=\"stroke: #383838; stroke-width: 1.5;\" width=\"322\" x=\"344\" y=\"181.5\"/><rect fill=\"#F8F8F8\" height=\"37.9375\" style=\"stroke: #383838; stroke-width: 1.5;\" width=\"322\" x=\"344\" y=\"181.5\"/><text fill=\"#000000\" font-family=\"sans-serif\" font-size=\"12\" font-style=\"italic\" lengthAdjust=\"spacingAndGlyphs\" textLength=\"137\" x=\"436.5\" y=\"197.6387\">«verificationCase def»</text><text fill=\"#000000\" font-family=\"sans-serif\" font-size=\"12\" lengthAdjust=\"spacingAndGlyphs\" textLength=\"97\" x=\"456.5\" y=\"211.6074\">VerificationPlan</text></a><!--MD5=[917b9dd0c7eca3ee5f47219d1a84c0ad]\n",
       "cluster E11--><a href=\"psysml:d8eec309-4539-4ef6-b593-f8d5221313a5\" target=\"_top\" title=\"psysml:d8eec309-4539-4ef6-b593-f8d5221313a5\" xlink:actuate=\"onRequest\" xlink:href=\"psysml:d8eec309-4539-4ef6-b593-f8d5221313a5\" xlink:show=\"new\" xlink:title=\"psysml:d8eec309-4539-4ef6-b593-f8d5221313a5\" xlink:type=\"simple\"><rect fill=\"#FFFFFF\" height=\"239\" id=\"E11\" rx=\"10\" ry=\"10\" style=\"stroke: #383838; stroke-width: 1.5;\" width=\"174\" x=\"454\" y=\"315\"/><rect fill=\"#F8F8F8\" height=\"37.9375\" rx=\"10\" ry=\"10\" style=\"stroke: #F8F8F8; stroke-width: 1.5;\" width=\"174\" x=\"454\" y=\"315\"/><rect fill=\"#F8F8F8\" height=\"10\" style=\"stroke: #F8F8F8; stroke-width: 1.5;\" width=\"174\" x=\"454\" y=\"342.9375\"/><rect fill=\"none\" height=\"239\" id=\"E11\" rx=\"10\" ry=\"10\" style=\"stroke: #383838; stroke-width: 1.5;\" width=\"174\" x=\"454\" y=\"315\"/><text fill=\"#000000\" font-family=\"sans-serif\" font-size=\"12\" font-style=\"italic\" lengthAdjust=\"spacingAndGlyphs\" textLength=\"113\" x=\"484.5\" y=\"331.1387\">«verificationCase»</text><text fill=\"#000000\" font-family=\"sans-serif\" font-size=\"12\" lengthAdjust=\"spacingAndGlyphs\" textLength=\"99\" x=\"491.5\" y=\"345.1074\">verificationCase</text><line style=\"stroke: #383838; stroke-width: 1.0;\" x1=\"454\" x2=\"628\" y1=\"352.9375\" y2=\"352.9375\"/></a><!--MD5=[b4997ac47864f28c2f74865a473b2911]\n",
       "class E2--><a href=\"psysml:ee2cd088-4b38-485a-bdcf-f034eebaa933\" target=\"_top\" title=\"psysml:ee2cd088-4b38-485a-bdcf-f034eebaa933\" xlink:actuate=\"onRequest\" xlink:href=\"psysml:ee2cd088-4b38-485a-bdcf-f034eebaa933\" xlink:show=\"new\" xlink:title=\"psysml:ee2cd088-4b38-485a-bdcf-f034eebaa933\" xlink:type=\"simple\"><rect fill=\"#FFFFFF\" height=\"45.9375\" id=\"E2\" style=\"stroke: #383838; stroke-width: 1.5;\" width=\"66\" x=\"849\" y=\"158.5\"/><text fill=\"#000000\" font-family=\"sans-serif\" font-size=\"12\" font-style=\"italic\" lengthAdjust=\"spacingAndGlyphs\" textLength=\"64\" x=\"850\" y=\"174.6387\">«part def»</text><text fill=\"#000000\" font-family=\"sans-serif\" font-size=\"12\" lengthAdjust=\"spacingAndGlyphs\" textLength=\"8\" x=\"878\" y=\"188.6074\">V</text><line style=\"stroke: #383838; stroke-width: 1.5;\" x1=\"850\" x2=\"914\" y1=\"196.4375\" y2=\"196.4375\"/></a><!--MD5=[09b614a08d8cba4a07c9adeb5e0fee81]\n",
       "class E3--><a href=\"psysml:ea23779d-7b91-41e0-a4d1-5f0745e774d2\" target=\"_top\" title=\"psysml:ea23779d-7b91-41e0-a4d1-5f0745e774d2\" xlink:actuate=\"onRequest\" xlink:href=\"psysml:ea23779d-7b91-41e0-a4d1-5f0745e774d2\" xlink:show=\"new\" xlink:title=\"psysml:ea23779d-7b91-41e0-a4d1-5f0745e774d2\" xlink:type=\"simple\"><rect fill=\"#FFFFFF\" height=\"45.9375\" id=\"E3\" rx=\"10\" ry=\"10\" style=\"stroke: #383838; stroke-width: 1.5;\" width=\"42\" x=\"861\" y=\"41\"/><text fill=\"#000000\" font-family=\"sans-serif\" font-size=\"12\" font-style=\"italic\" lengthAdjust=\"spacingAndGlyphs\" textLength=\"40\" x=\"862\" y=\"57.1387\">«part»</text><text fill=\"#000000\" font-family=\"sans-serif\" font-size=\"12\" lengthAdjust=\"spacingAndGlyphs\" textLength=\"28\" x=\"868\" y=\"71.1074\">vv: V</text><line style=\"stroke: #383838; stroke-width: 1.5;\" x1=\"862\" x2=\"902\" y1=\"78.9375\" y2=\"78.9375\"/></a><!--MD5=[ebbe1d658d1005bcc118a6aa81145e00]\n",
       "class E4--><a href=\"psysml:971e85b9-9957-4674-90a7-be3bf98856c5\" target=\"_top\" title=\"psysml:971e85b9-9957-4674-90a7-be3bf98856c5\" xlink:actuate=\"onRequest\" xlink:href=\"psysml:971e85b9-9957-4674-90a7-be3bf98856c5\" xlink:show=\"new\" xlink:title=\"psysml:971e85b9-9957-4674-90a7-be3bf98856c5\" xlink:type=\"simple\"><rect fill=\"#FFFFFF\" height=\"66.7422\" id=\"E4\" style=\"stroke: #383838; stroke-width: 1.5;\" width=\"117\" x=\"696.5\" y=\"148\"/><text fill=\"#000000\" font-family=\"sans-serif\" font-size=\"12\" font-style=\"italic\" lengthAdjust=\"spacingAndGlyphs\" textLength=\"115\" x=\"697.5\" y=\"164.1387\">«requirement def»</text><text fill=\"#000000\" font-family=\"sans-serif\" font-size=\"12\" lengthAdjust=\"spacingAndGlyphs\" textLength=\"8\" x=\"751\" y=\"178.1074\">R</text><line style=\"stroke: #383838; stroke-width: 1.5;\" x1=\"697.5\" x2=\"812.5\" y1=\"185.9375\" y2=\"185.9375\"/><text fill=\"#000000\" font-family=\"sans-serif\" font-size=\"11\" lengthAdjust=\"spacingAndGlyphs\" textLength=\"12\" x=\"702.5\" y=\"200.1479\">...</text><line style=\"stroke: #383838; stroke-width: 1.0;\" x1=\"697.5\" x2=\"812.5\" y1=\"206.7422\" y2=\"206.7422\"/></a><!--MD5=[270fce915f116d4de14055a7c1d9a0f3]\n",
       "class E5--><a href=\"psysml:bbcd2223-85a4-4701-a24f-5592c5712336\" target=\"_top\" title=\"psysml:bbcd2223-85a4-4701-a24f-5592c5712336\" xlink:actuate=\"onRequest\" xlink:href=\"psysml:bbcd2223-85a4-4701-a24f-5592c5712336\" xlink:show=\"new\" xlink:title=\"psysml:bbcd2223-85a4-4701-a24f-5592c5712336\" xlink:type=\"simple\"><rect fill=\"#FFFFFF\" height=\"45.9375\" id=\"E5\" rx=\"10\" ry=\"10\" style=\"stroke: #383838; stroke-width: 1.5;\" width=\"93\" x=\"708.5\" y=\"41\"/><text fill=\"#000000\" font-family=\"sans-serif\" font-size=\"12\" font-style=\"italic\" lengthAdjust=\"spacingAndGlyphs\" textLength=\"91\" x=\"709.5\" y=\"57.1387\">«requirement»</text><text fill=\"#000000\" font-family=\"sans-serif\" font-size=\"12\" lengthAdjust=\"spacingAndGlyphs\" textLength=\"21\" x=\"744.5\" y=\"71.1074\">r: R</text><line style=\"stroke: #383838; stroke-width: 1.5;\" x1=\"709.5\" x2=\"800.5\" y1=\"78.9375\" y2=\"78.9375\"/></a><!--MD5=[0c48fb7552dae8cbbef69381101a84c8]\n",
       "class E15--><a href=\"psysml:1ba0f1fa-2142-46f9-b759-d2e88bd368a2\" target=\"_top\" title=\"psysml:1ba0f1fa-2142-46f9-b759-d2e88bd368a2\" xlink:actuate=\"onRequest\" xlink:href=\"psysml:1ba0f1fa-2142-46f9-b759-d2e88bd368a2\" xlink:show=\"new\" xlink:title=\"psysml:1ba0f1fa-2142-46f9-b759-d2e88bd368a2\" xlink:type=\"simple\"><rect fill=\"#FFFFFF\" height=\"45.9375\" id=\"E15\" rx=\"10\" ry=\"10\" style=\"stroke: #383838; stroke-width: 1.5;\" width=\"122\" x=\"74\" y=\"41\"/><text fill=\"#000000\" font-family=\"sans-serif\" font-size=\"12\" font-style=\"italic\" lengthAdjust=\"spacingAndGlyphs\" textLength=\"40\" x=\"115\" y=\"57.1387\">«part»</text><text fill=\"#000000\" font-family=\"sans-serif\" font-size=\"12\" lengthAdjust=\"spacingAndGlyphs\" textLength=\"116\" x=\"77\" y=\"71.1074\">verificationContext</text><line style=\"stroke: #383838; stroke-width: 1.5;\" x1=\"75\" x2=\"195\" y1=\"78.9375\" y2=\"78.9375\"/></a><!--MD5=[35f0587eaee8d5bb9a02e25b63afc23b]\n",
       "class E16--><a href=\"psysml:f139e62b-7bf9-43a0-a382-40038ed35c63\" target=\"_top\" title=\"psysml:f139e62b-7bf9-43a0-a382-40038ed35c63\" xlink:actuate=\"onRequest\" xlink:href=\"psysml:f139e62b-7bf9-43a0-a382-40038ed35c63\" xlink:show=\"new\" xlink:title=\"psysml:f139e62b-7bf9-43a0-a382-40038ed35c63\" xlink:type=\"simple\"><rect fill=\"#FFFFFF\" height=\"45.9375\" id=\"E16\" rx=\"10\" ry=\"10\" style=\"stroke: #383838; stroke-width: 1.5;\" width=\"206\" x=\"32\" y=\"158.5\"/><text fill=\"#000000\" font-family=\"sans-serif\" font-size=\"12\" font-style=\"italic\" lengthAdjust=\"spacingAndGlyphs\" textLength=\"113\" x=\"78.5\" y=\"174.6387\">«verificationCase»</text><text fill=\"#000000\" font-family=\"sans-serif\" font-size=\"12\" lengthAdjust=\"spacingAndGlyphs\" textLength=\"200\" x=\"35\" y=\"188.6074\">verificationPlan: VerificationPlan</text><line style=\"stroke: #383838; stroke-width: 1.5;\" x1=\"33\" x2=\"237\" y1=\"196.4375\" y2=\"196.4375\"/></a><!--MD5=[60e55a4a9b2f0dc0a36787c5a2095786]\n",
       "class E17--><a href=\"psysml:fe640fc2-093c-44fe-a9fd-0ceecb8f463c\" target=\"_top\" title=\"psysml:fe640fc2-093c-44fe-a9fd-0ceecb8f463c\" xlink:actuate=\"onRequest\" xlink:href=\"psysml:fe640fc2-093c-44fe-a9fd-0ceecb8f463c\" xlink:show=\"new\" xlink:title=\"psysml:fe640fc2-093c-44fe-a9fd-0ceecb8f463c\" xlink:type=\"simple\"><rect fill=\"#FFFFFF\" height=\"45.9375\" id=\"E17\" rx=\"10\" ry=\"10\" style=\"stroke: #383838; stroke-width: 1.5;\" width=\"93\" x=\"88.5\" y=\"292\"/><text fill=\"#000000\" font-family=\"sans-serif\" font-size=\"12\" font-style=\"italic\" lengthAdjust=\"spacingAndGlyphs\" textLength=\"91\" x=\"89.5\" y=\"308.1387\">«requirement»</text><text fill=\"#000000\" font-family=\"sans-serif\" font-size=\"12\" lengthAdjust=\"spacingAndGlyphs\" textLength=\"19\" x=\"125.5\" y=\"322.1074\">obj</text><line style=\"stroke: #383838; stroke-width: 1.5;\" x1=\"89.5\" x2=\"180.5\" y1=\"329.9375\" y2=\"329.9375\"/></a><text fill=\"#000000\" font-family=\"sans-serif\" font-size=\"14\" lengthAdjust=\"spacingAndGlyphs\" textLength=\"7\" x=\"1030.5\" y=\"42.6982\">v</text><rect fill=\"#383838\" height=\"12\" style=\"stroke: #F8F8F8; stroke-width: 1.5;\" width=\"12\" x=\"1028\" y=\"58\"/><text fill=\"#000000\" font-family=\"sans-serif\" font-size=\"14\" lengthAdjust=\"spacingAndGlyphs\" textLength=\"46\" x=\"1011\" y=\"392.9951\">verdict</text><rect fill=\"#383838\" height=\"12\" style=\"stroke: #F8F8F8; stroke-width: 1.5;\" width=\"12\" x=\"1028\" y=\"368\"/><text fill=\"#000000\" font-family=\"sans-serif\" font-size=\"14\" lengthAdjust=\"spacingAndGlyphs\" textLength=\"7\" x=\"358.5\" y=\"160.1982\">v</text><rect fill=\"#383838\" height=\"12\" style=\"stroke: #F8F8F8; stroke-width: 1.5;\" width=\"12\" x=\"356\" y=\"175.5\"/><text fill=\"#000000\" font-family=\"sans-serif\" font-size=\"14\" lengthAdjust=\"spacingAndGlyphs\" textLength=\"46\" x=\"643\" y=\"499.9951\">verdict</text><rect fill=\"#383838\" height=\"12\" style=\"stroke: #F8F8F8; stroke-width: 1.5;\" width=\"12\" x=\"660\" y=\"475\"/><text fill=\"#000000\" font-family=\"sans-serif\" font-size=\"14\" lengthAdjust=\"spacingAndGlyphs\" textLength=\"46\" x=\"518\" y=\"572.9951\">verdict</text><rect fill=\"#383838\" height=\"12\" style=\"stroke: #F8F8F8; stroke-width: 1.5;\" width=\"12\" x=\"535\" y=\"548\"/><text fill=\"#000000\" font-family=\"sans-serif\" font-size=\"14\" lengthAdjust=\"spacingAndGlyphs\" textLength=\"7\" x=\"537.5\" y=\"293.6982\">v</text><rect fill=\"#383838\" height=\"12\" style=\"stroke: #F8F8F8; stroke-width: 1.5;\" width=\"12\" x=\"535\" y=\"309\"/><!--MD5=[05d275557350bfb9b23a4ef7222b4c39]\n",
       "link E3 to E2--><a href=\"psysml:2b222a15-a90b-432a-993d-d339516ea993\" target=\"_top\" title=\"psysml:2b222a15-a90b-432a-993d-d339516ea993\" xlink:actuate=\"onRequest\" xlink:href=\"psysml:2b222a15-a90b-432a-993d-d339516ea993\" xlink:show=\"new\" xlink:title=\"psysml:2b222a15-a90b-432a-993d-d339516ea993\" xlink:type=\"simple\"><path d=\"M882,87.27 C882,101.65 882,120.82 882,138.04 \" fill=\"none\" id=\"E3-&gt;E2\" style=\"stroke: #383838; stroke-width: 1.0;\"/><polygon fill=\"#FFFFFF\" points=\"882,158.3,875,139.3,889,139.3,882,158.3\" style=\"stroke: #383838; stroke-width: 1.0;\"/><ellipse cx=\"877\" cy=\"133.6\" fill=\"#383838\" rx=\"2\" ry=\"2\" style=\"stroke: #383838; stroke-width: 1.0;\"/><ellipse cx=\"887\" cy=\"133.6\" fill=\"#383838\" rx=\"2\" ry=\"2\" style=\"stroke: #383838; stroke-width: 1.0;\"/></a><!--MD5=[1c62de2aa5b76f0fb657ff8443a1a700]\n",
       "link E5 to E4--><a href=\"psysml:4afeeb28-a204-4e17-a080-31f9a6d380ec\" target=\"_top\" title=\"psysml:4afeeb28-a204-4e17-a080-31f9a6d380ec\" xlink:actuate=\"onRequest\" xlink:href=\"psysml:4afeeb28-a204-4e17-a080-31f9a6d380ec\" xlink:show=\"new\" xlink:title=\"psysml:4afeeb28-a204-4e17-a080-31f9a6d380ec\" xlink:type=\"simple\"><path d=\"M755,87.27 C755,98.81 755,113.43 755,127.66 \" fill=\"none\" id=\"E5-&gt;E4\" style=\"stroke: #383838; stroke-width: 1.0;\"/><polygon fill=\"#FFFFFF\" points=\"755,147.81,748,128.81,762,128.81,755,147.81\" style=\"stroke: #383838; stroke-width: 1.0;\"/><ellipse cx=\"750\" cy=\"123.11\" fill=\"#383838\" rx=\"2\" ry=\"2\" style=\"stroke: #383838; stroke-width: 1.0;\"/><ellipse cx=\"760\" cy=\"123.11\" fill=\"#383838\" rx=\"2\" ry=\"2\" style=\"stroke: #383838; stroke-width: 1.0;\"/></a><!--MD5=[58e4cf537c4d67f6b3da95fd5b934e63]\n",
       "reverse link E15 to E16--><a href=\"psysml:4d9ca163-dfe0-49d5-81cb-3058dc3dad3f\" target=\"_top\" title=\"psysml:4d9ca163-dfe0-49d5-81cb-3058dc3dad3f\" xlink:actuate=\"onRequest\" xlink:href=\"psysml:4d9ca163-dfe0-49d5-81cb-3058dc3dad3f\" xlink:show=\"new\" xlink:title=\"psysml:4d9ca163-dfe0-49d5-81cb-3058dc3dad3f\" xlink:type=\"simple\"><path d=\"M135,100.49 C135,119.35 135,141.94 135,158.3 \" fill=\"none\" id=\"E15&lt;-E16\" style=\"stroke: #383838; stroke-width: 1.0;\"/><polygon fill=\"#383838\" points=\"135,87.27,131,93.27,135,99.27,139,93.27,135,87.27\" style=\"stroke: #383838; stroke-width: 1.0;\"/></a><!--MD5=[4de2d328c39b6d65fb95a84ef336270e]\n",
       "link E16 to E9--><a href=\"psysml:cd73bb42-520f-4e04-8240-7f040abbe442\" target=\"_top\" title=\"psysml:cd73bb42-520f-4e04-8240-7f040abbe442\" xlink:actuate=\"onRequest\" xlink:href=\"psysml:cd73bb42-520f-4e04-8240-7f040abbe442\" xlink:show=\"new\" xlink:title=\"psysml:cd73bb42-520f-4e04-8240-7f040abbe442\" xlink:type=\"simple\"><path d=\"M172.99,204.51 C218.18,230.69 292.58,273.79 333.25,297.35 \" fill=\"none\" id=\"E16-&gt;E9\" style=\"stroke: #383838; stroke-width: 1.0;\"/><polygon fill=\"#FFFFFF\" points=\"333.25,297.35,313.3006,293.8831,320.3182,281.7689,333.25,297.35\" style=\"stroke: #383838; stroke-width: 1.0;\"/><ellipse cx=\"309.3709\" cy=\"289.2953\" fill=\"#383838\" rx=\"2\" ry=\"2\" style=\"stroke: #383838; stroke-width: 1.0;\"/><ellipse cx=\"314.3835\" cy=\"280.6423\" fill=\"#383838\" rx=\"2\" ry=\"2\" style=\"stroke: #383838; stroke-width: 1.0;\"/></a><!--MD5=[450e3481f1c83a03a55fcf78b0bbbde6]\n",
       "link E16 to E17--><a href=\"psysml:e29f10bd-d5bc-4797-97ab-a37fb0e5db5b\" target=\"_top\" title=\"psysml:e29f10bd-d5bc-4797-97ab-a37fb0e5db5b\" xlink:actuate=\"onRequest\" xlink:href=\"psysml:e29f10bd-d5bc-4797-97ab-a37fb0e5db5b\" xlink:show=\"new\" xlink:title=\"psysml:e29f10bd-d5bc-4797-97ab-a37fb0e5db5b\" xlink:type=\"simple\"><path d=\"M135,204.51 C135,226.22 135,259.59 135,283.78 \" fill=\"none\" id=\"E16-&gt;E17\" style=\"stroke: #383838; stroke-width: 1.0;\"/><polygon fill=\"#383838\" points=\"135,291.92,138,283.92,132,283.92,135,291.92\" style=\"stroke: #383838; stroke-width: 1.0;\"/><text fill=\"#000000\" font-family=\"sans-serif\" font-size=\"13\" lengthAdjust=\"spacingAndGlyphs\" textLength=\"73\" x=\"136\" y=\"258.0669\">«objective»</text><text fill=\"#000000\" font-family=\"sans-serif\" font-size=\"13\" lengthAdjust=\"spacingAndGlyphs\" textLength=\"7\" x=\"127.0594\" y=\"280.7948\">*</text></a><!--MD5=[64e81a4a82f7a97cb2d37c6b1458463f]\n",
       "@startuml\r\n",
       "top to bottom direction\r\n",
       "skinparam monochrome true\r\n",
       "skinparam classbackgroundcolor white\r\n",
       "skinparam shadowing false\r\n",
       "skinparam wrapWidth 300\r\n",
       "hide circle\r\n",
       "\r\n",
       "package \"VerificationTest\" as E1  [[psysml:7303dfcd-df1a-4034-bc74-eb93457ec7c0 ]]  {\r\n",
       "comp def \"V\" as E2  <<(T,blue) part def>> [[psysml:ee2cd088-4b38-485a-bdcf-f034eebaa933 ]] {\r\n",
       "}\r\n",
       "comp usage \"vv: V\" as E3  <<(T,blue) part>> [[psysml:ea23779d-7b91-41e0-a4d1-5f0745e774d2 ]] {\r\n",
       "}\r\n",
       "comp def \"R\" as E4  <<(T,blue) requirement def>> [[psysml:971e85b9-9957-4674-90a7-be3bf98856c5 ]] {\r\n",
       "...\r\n",
       "- -\r\n",
       "}\r\n",
       "comp usage \"r: R\" as E5  <<(T,blue) requirement>> [[psysml:bbcd2223-85a4-4701-a24f-5592c5712336 ]] {\r\n",
       "}\r\n",
       "rec def \"VerificationCase\" as E6  <<(T,blue) verificationCase def>> [[psysml:f44943ce-87bd-4d2b-91db-f66bd879bf72 ]] {\r\n",
       "portin \"v\" as E7  [[psysml:39e4c68a-7e48-4018-a595-005447bc25d1 ]] \r\n",
       "portout \"verdict\" as E8  [[psysml:e7480a5a-bc03-4bfb-926c-ff77790341ab ]] \r\n",
       "}\r\n",
       "\r\n",
       "rec def \"VerificationPlan\" as E9  <<(T,blue) verificationCase def>> [[psysml:109e665d-9569-4e28-8454-db86a3b7365b ]] {\r\n",
       "portin \"v\" as E10  [[psysml:bc04aa0f-1251-4bd1-9492-821de83ad0f4 ]] \r\n",
       "rec usage \"verificationCase\" as E11  <<(T,blue) verificationCase>> [[psysml:d8eec309-4539-4ef6-b593-f8d5221313a5 ]] {\r\n",
       "portout \"verdict\" as E12  [[psysml:d4b19012-2d8f-412c-81cb-04106ed54ab9 ]] \r\n",
       "portin \"v\" as E13  [[psysml:101691aa-2b16-4439-bb49-3b5a9750b72a ]] \r\n",
       "}\r\n",
       "\r\n",
       "portout \"verdict\" as E14  [[psysml:d1cc474d-a7ae-4245-8f3b-eac2c389ad3d ]] \r\n",
       "}\r\n",
       "\r\n",
       "comp usage \"verificationContext\" as E15  <<(T,blue) part>> [[psysml:1ba0f1fa-2142-46f9-b759-d2e88bd368a2 ]] {\r\n",
       "}\r\n",
       "comp usage \"verificationPlan: VerificationPlan\" as E16  <<(T,blue) verificationCase>> [[psysml:f139e62b-7bf9-43a0-a382-40038ed35c63 ]] {\r\n",
       "}\r\n",
       "comp usage \"obj\" as E17  <<(T,blue) requirement>> [[psysml:fe640fc2-093c-44fe-a9fd-0ceecb8f463c ]] {\r\n",
       "}\r\n",
       "}\r\n",
       "E3 - -:|> E2 [[psysml:2b222a15-a90b-432a-993d-d339516ea993 ]] \r\n",
       "E5 - -:|> E4 [[psysml:4afeeb28-a204-4e17-a080-31f9a6d380ec ]] \r\n",
       "E15 *- - E16 [[psysml:4d9ca163-dfe0-49d5-81cb-3058dc3dad3f ]] \r\n",
       "E16 - -:|> E9 [[psysml:cd73bb42-520f-4e04-8240-7f040abbe442 ]] \r\n",
       "E16 - ->> \"*\"E17 [[psysml:e29f10bd-d5bc-4797-97ab-a37fb0e5db5b ]] : <<objective>>\r\n",
       "@enduml\r\n",
       "\n",
       "PlantUML version 1.2020.13(Sat Jun 13 12:26:38 UTC 2020)\n",
       "(EPL source distribution)\n",
       "Java Runtime: OpenJDK Runtime Environment\n",
       "JVM: OpenJDK 64-Bit Server VM\n",
       "Default Encoding: UTF-8\n",
       "Language: en\n",
       "Country: null\n",
       "--></g></svg>"
      ]
     },
     "execution_count": 50,
     "metadata": {},
     "output_type": "execute_result"
    }
   ],
   "source": [
    "%viz --style=\"TB\" --view=\"MIXED\" \"VerificationTest\""
   ]
  },
  {
   "cell_type": "code",
   "execution_count": 51,
   "id": "19a6d2ff",
   "metadata": {
    "execution": {
     "iopub.execute_input": "2021-10-03T08:26:51.174740Z",
     "iopub.status.busy": "2021-10-03T08:26:51.174342Z",
     "iopub.status.idle": "2021-10-03T08:26:51.234861Z",
     "shell.execute_reply": "2021-10-03T08:26:51.234488Z"
    }
   },
   "outputs": [
    {
     "data": {
      "image/svg+xml": [
       "<?xml version=\"1.0\" encoding=\"UTF-8\" standalone=\"no\"?><svg xmlns=\"http://www.w3.org/2000/svg\" xmlns:xlink=\"http://www.w3.org/1999/xlink\" contentScriptType=\"application/ecmascript\" contentStyleType=\"text/css\" height=\"628px\" preserveAspectRatio=\"none\" style=\"width:1172px;height:628px;\" version=\"1.1\" viewBox=\"0 0 1172 628\" width=\"1172px\" zoomAndPan=\"magnify\"><defs/><g><!--MD5=[fbc87193dbaf4d95561dea2c320d4a47]\n",
       "cluster E1--><a href=\"psysml:7303dfcd-df1a-4034-bc74-eb93457ec7c0\" target=\"_top\" title=\"psysml:7303dfcd-df1a-4034-bc74-eb93457ec7c0\" xlink:actuate=\"onRequest\" xlink:href=\"psysml:7303dfcd-df1a-4034-bc74-eb93457ec7c0\" xlink:show=\"new\" xlink:title=\"psysml:7303dfcd-df1a-4034-bc74-eb93457ec7c0\" xlink:type=\"simple\"><polygon fill=\"#FFFFFF\" points=\"16,6,128,6,135,28.2969,1150,28.2969,1150,616,16,616,16,6\" style=\"stroke: #000000; stroke-width: 1.5;\"/><line style=\"stroke: #000000; stroke-width: 1.5;\" x1=\"16\" x2=\"135\" y1=\"28.2969\" y2=\"28.2969\"/><text fill=\"#000000\" font-family=\"sans-serif\" font-size=\"14\" font-weight=\"bold\" lengthAdjust=\"spacingAndGlyphs\" textLength=\"106\" x=\"20\" y=\"20.9951\">VerificationTest</text></a><!--MD5=[14e3b0961a2654348d326746436168a1]\n",
       "cluster E6--><a href=\"psysml:f44943ce-87bd-4d2b-91db-f66bd879bf72\" target=\"_top\" title=\"psysml:f44943ce-87bd-4d2b-91db-f66bd879bf72\" xlink:actuate=\"onRequest\" xlink:href=\"psysml:f44943ce-87bd-4d2b-91db-f66bd879bf72\" xlink:show=\"new\" xlink:title=\"psysml:f44943ce-87bd-4d2b-91db-f66bd879bf72\" xlink:type=\"simple\"><rect fill=\"#FFFFFF\" height=\"310\" id=\"E6\" style=\"stroke: #383838; stroke-width: 1.5;\" width=\"200\" x=\"934\" y=\"64\"/><rect fill=\"#F8F8F8\" height=\"37.9375\" style=\"stroke: #383838; stroke-width: 1.5;\" width=\"200\" x=\"934\" y=\"64\"/><text fill=\"#000000\" font-family=\"sans-serif\" font-size=\"12\" font-style=\"italic\" lengthAdjust=\"spacingAndGlyphs\" textLength=\"137\" x=\"965.5\" y=\"80.1387\">«verificationCase def»</text><text fill=\"#000000\" font-family=\"sans-serif\" font-size=\"12\" lengthAdjust=\"spacingAndGlyphs\" textLength=\"101\" x=\"983.5\" y=\"94.1074\">VerificationCase</text></a><!--MD5=[7f149f147074ac12df2cb0a7728a5fb0]\n",
       "cluster E9--><a href=\"psysml:109e665d-9569-4e28-8454-db86a3b7365b\" target=\"_top\" title=\"psysml:109e665d-9569-4e28-8454-db86a3b7365b\" xlink:actuate=\"onRequest\" xlink:href=\"psysml:109e665d-9569-4e28-8454-db86a3b7365b\" xlink:show=\"new\" xlink:title=\"psysml:109e665d-9569-4e28-8454-db86a3b7365b\" xlink:type=\"simple\"><rect fill=\"#FFFFFF\" height=\"410.5\" id=\"E9\" style=\"stroke: #383838; stroke-width: 1.5;\" width=\"322\" x=\"344\" y=\"181.5\"/><rect fill=\"#F8F8F8\" height=\"37.9375\" style=\"stroke: #383838; stroke-width: 1.5;\" width=\"322\" x=\"344\" y=\"181.5\"/><text fill=\"#000000\" font-family=\"sans-serif\" font-size=\"12\" font-style=\"italic\" lengthAdjust=\"spacingAndGlyphs\" textLength=\"137\" x=\"436.5\" y=\"197.6387\">«verificationCase def»</text><text fill=\"#000000\" font-family=\"sans-serif\" font-size=\"12\" lengthAdjust=\"spacingAndGlyphs\" textLength=\"97\" x=\"456.5\" y=\"211.6074\">VerificationPlan</text></a><!--MD5=[917b9dd0c7eca3ee5f47219d1a84c0ad]\n",
       "cluster E11--><a href=\"psysml:d8eec309-4539-4ef6-b593-f8d5221313a5\" target=\"_top\" title=\"psysml:d8eec309-4539-4ef6-b593-f8d5221313a5\" xlink:actuate=\"onRequest\" xlink:href=\"psysml:d8eec309-4539-4ef6-b593-f8d5221313a5\" xlink:show=\"new\" xlink:title=\"psysml:d8eec309-4539-4ef6-b593-f8d5221313a5\" xlink:type=\"simple\"><rect fill=\"#FFFFFF\" height=\"239\" id=\"E11\" rx=\"10\" ry=\"10\" style=\"stroke: #383838; stroke-width: 1.5;\" width=\"174\" x=\"454\" y=\"315\"/><rect fill=\"#F8F8F8\" height=\"37.9375\" rx=\"10\" ry=\"10\" style=\"stroke: #F8F8F8; stroke-width: 1.5;\" width=\"174\" x=\"454\" y=\"315\"/><rect fill=\"#F8F8F8\" height=\"10\" style=\"stroke: #F8F8F8; stroke-width: 1.5;\" width=\"174\" x=\"454\" y=\"342.9375\"/><rect fill=\"none\" height=\"239\" id=\"E11\" rx=\"10\" ry=\"10\" style=\"stroke: #383838; stroke-width: 1.5;\" width=\"174\" x=\"454\" y=\"315\"/><text fill=\"#000000\" font-family=\"sans-serif\" font-size=\"12\" font-style=\"italic\" lengthAdjust=\"spacingAndGlyphs\" textLength=\"113\" x=\"484.5\" y=\"331.1387\">«verificationCase»</text><text fill=\"#000000\" font-family=\"sans-serif\" font-size=\"12\" lengthAdjust=\"spacingAndGlyphs\" textLength=\"99\" x=\"491.5\" y=\"345.1074\">verificationCase</text><line style=\"stroke: #383838; stroke-width: 1.0;\" x1=\"454\" x2=\"628\" y1=\"352.9375\" y2=\"352.9375\"/></a><!--MD5=[b4997ac47864f28c2f74865a473b2911]\n",
       "class E2--><a href=\"psysml:ee2cd088-4b38-485a-bdcf-f034eebaa933\" target=\"_top\" title=\"psysml:ee2cd088-4b38-485a-bdcf-f034eebaa933\" xlink:actuate=\"onRequest\" xlink:href=\"psysml:ee2cd088-4b38-485a-bdcf-f034eebaa933\" xlink:show=\"new\" xlink:title=\"psysml:ee2cd088-4b38-485a-bdcf-f034eebaa933\" xlink:type=\"simple\"><rect fill=\"#FFFFFF\" height=\"45.9375\" id=\"E2\" style=\"stroke: #383838; stroke-width: 1.5;\" width=\"66\" x=\"849\" y=\"158.5\"/><text fill=\"#000000\" font-family=\"sans-serif\" font-size=\"12\" font-style=\"italic\" lengthAdjust=\"spacingAndGlyphs\" textLength=\"64\" x=\"850\" y=\"174.6387\">«part def»</text><text fill=\"#000000\" font-family=\"sans-serif\" font-size=\"12\" lengthAdjust=\"spacingAndGlyphs\" textLength=\"8\" x=\"878\" y=\"188.6074\">V</text><line style=\"stroke: #383838; stroke-width: 1.5;\" x1=\"850\" x2=\"914\" y1=\"196.4375\" y2=\"196.4375\"/></a><!--MD5=[09b614a08d8cba4a07c9adeb5e0fee81]\n",
       "class E3--><a href=\"psysml:ea23779d-7b91-41e0-a4d1-5f0745e774d2\" target=\"_top\" title=\"psysml:ea23779d-7b91-41e0-a4d1-5f0745e774d2\" xlink:actuate=\"onRequest\" xlink:href=\"psysml:ea23779d-7b91-41e0-a4d1-5f0745e774d2\" xlink:show=\"new\" xlink:title=\"psysml:ea23779d-7b91-41e0-a4d1-5f0745e774d2\" xlink:type=\"simple\"><rect fill=\"#FFFFFF\" height=\"45.9375\" id=\"E3\" rx=\"10\" ry=\"10\" style=\"stroke: #383838; stroke-width: 1.5;\" width=\"42\" x=\"861\" y=\"41\"/><text fill=\"#000000\" font-family=\"sans-serif\" font-size=\"12\" font-style=\"italic\" lengthAdjust=\"spacingAndGlyphs\" textLength=\"40\" x=\"862\" y=\"57.1387\">«part»</text><text fill=\"#000000\" font-family=\"sans-serif\" font-size=\"12\" lengthAdjust=\"spacingAndGlyphs\" textLength=\"28\" x=\"868\" y=\"71.1074\">vv: V</text><line style=\"stroke: #383838; stroke-width: 1.5;\" x1=\"862\" x2=\"902\" y1=\"78.9375\" y2=\"78.9375\"/></a><!--MD5=[ebbe1d658d1005bcc118a6aa81145e00]\n",
       "class E4--><a href=\"psysml:971e85b9-9957-4674-90a7-be3bf98856c5\" target=\"_top\" title=\"psysml:971e85b9-9957-4674-90a7-be3bf98856c5\" xlink:actuate=\"onRequest\" xlink:href=\"psysml:971e85b9-9957-4674-90a7-be3bf98856c5\" xlink:show=\"new\" xlink:title=\"psysml:971e85b9-9957-4674-90a7-be3bf98856c5\" xlink:type=\"simple\"><rect fill=\"#FFFFFF\" height=\"66.7422\" id=\"E4\" style=\"stroke: #383838; stroke-width: 1.5;\" width=\"117\" x=\"696.5\" y=\"148\"/><text fill=\"#000000\" font-family=\"sans-serif\" font-size=\"12\" font-style=\"italic\" lengthAdjust=\"spacingAndGlyphs\" textLength=\"115\" x=\"697.5\" y=\"164.1387\">«requirement def»</text><text fill=\"#000000\" font-family=\"sans-serif\" font-size=\"12\" lengthAdjust=\"spacingAndGlyphs\" textLength=\"8\" x=\"751\" y=\"178.1074\">R</text><line style=\"stroke: #383838; stroke-width: 1.5;\" x1=\"697.5\" x2=\"812.5\" y1=\"185.9375\" y2=\"185.9375\"/><text fill=\"#000000\" font-family=\"sans-serif\" font-size=\"11\" lengthAdjust=\"spacingAndGlyphs\" textLength=\"12\" x=\"702.5\" y=\"200.1479\">...</text><line style=\"stroke: #383838; stroke-width: 1.0;\" x1=\"697.5\" x2=\"812.5\" y1=\"206.7422\" y2=\"206.7422\"/></a><!--MD5=[270fce915f116d4de14055a7c1d9a0f3]\n",
       "class E5--><a href=\"psysml:bbcd2223-85a4-4701-a24f-5592c5712336\" target=\"_top\" title=\"psysml:bbcd2223-85a4-4701-a24f-5592c5712336\" xlink:actuate=\"onRequest\" xlink:href=\"psysml:bbcd2223-85a4-4701-a24f-5592c5712336\" xlink:show=\"new\" xlink:title=\"psysml:bbcd2223-85a4-4701-a24f-5592c5712336\" xlink:type=\"simple\"><rect fill=\"#FFFFFF\" height=\"45.9375\" id=\"E5\" rx=\"10\" ry=\"10\" style=\"stroke: #383838; stroke-width: 1.5;\" width=\"93\" x=\"708.5\" y=\"41\"/><text fill=\"#000000\" font-family=\"sans-serif\" font-size=\"12\" font-style=\"italic\" lengthAdjust=\"spacingAndGlyphs\" textLength=\"91\" x=\"709.5\" y=\"57.1387\">«requirement»</text><text fill=\"#000000\" font-family=\"sans-serif\" font-size=\"12\" lengthAdjust=\"spacingAndGlyphs\" textLength=\"21\" x=\"744.5\" y=\"71.1074\">r: R</text><line style=\"stroke: #383838; stroke-width: 1.5;\" x1=\"709.5\" x2=\"800.5\" y1=\"78.9375\" y2=\"78.9375\"/></a><!--MD5=[0c48fb7552dae8cbbef69381101a84c8]\n",
       "class E15--><a href=\"psysml:1ba0f1fa-2142-46f9-b759-d2e88bd368a2\" target=\"_top\" title=\"psysml:1ba0f1fa-2142-46f9-b759-d2e88bd368a2\" xlink:actuate=\"onRequest\" xlink:href=\"psysml:1ba0f1fa-2142-46f9-b759-d2e88bd368a2\" xlink:show=\"new\" xlink:title=\"psysml:1ba0f1fa-2142-46f9-b759-d2e88bd368a2\" xlink:type=\"simple\"><rect fill=\"#FFFFFF\" height=\"45.9375\" id=\"E15\" rx=\"10\" ry=\"10\" style=\"stroke: #383838; stroke-width: 1.5;\" width=\"122\" x=\"74\" y=\"41\"/><text fill=\"#000000\" font-family=\"sans-serif\" font-size=\"12\" font-style=\"italic\" lengthAdjust=\"spacingAndGlyphs\" textLength=\"40\" x=\"115\" y=\"57.1387\">«part»</text><text fill=\"#000000\" font-family=\"sans-serif\" font-size=\"12\" lengthAdjust=\"spacingAndGlyphs\" textLength=\"116\" x=\"77\" y=\"71.1074\">verificationContext</text><line style=\"stroke: #383838; stroke-width: 1.5;\" x1=\"75\" x2=\"195\" y1=\"78.9375\" y2=\"78.9375\"/></a><!--MD5=[35f0587eaee8d5bb9a02e25b63afc23b]\n",
       "class E16--><a href=\"psysml:f139e62b-7bf9-43a0-a382-40038ed35c63\" target=\"_top\" title=\"psysml:f139e62b-7bf9-43a0-a382-40038ed35c63\" xlink:actuate=\"onRequest\" xlink:href=\"psysml:f139e62b-7bf9-43a0-a382-40038ed35c63\" xlink:show=\"new\" xlink:title=\"psysml:f139e62b-7bf9-43a0-a382-40038ed35c63\" xlink:type=\"simple\"><rect fill=\"#FFFFFF\" height=\"45.9375\" id=\"E16\" rx=\"10\" ry=\"10\" style=\"stroke: #383838; stroke-width: 1.5;\" width=\"206\" x=\"32\" y=\"158.5\"/><text fill=\"#000000\" font-family=\"sans-serif\" font-size=\"12\" font-style=\"italic\" lengthAdjust=\"spacingAndGlyphs\" textLength=\"113\" x=\"78.5\" y=\"174.6387\">«verificationCase»</text><text fill=\"#000000\" font-family=\"sans-serif\" font-size=\"12\" lengthAdjust=\"spacingAndGlyphs\" textLength=\"200\" x=\"35\" y=\"188.6074\">verificationPlan: VerificationPlan</text><line style=\"stroke: #383838; stroke-width: 1.5;\" x1=\"33\" x2=\"237\" y1=\"196.4375\" y2=\"196.4375\"/></a><!--MD5=[60e55a4a9b2f0dc0a36787c5a2095786]\n",
       "class E17--><a href=\"psysml:fe640fc2-093c-44fe-a9fd-0ceecb8f463c\" target=\"_top\" title=\"psysml:fe640fc2-093c-44fe-a9fd-0ceecb8f463c\" xlink:actuate=\"onRequest\" xlink:href=\"psysml:fe640fc2-093c-44fe-a9fd-0ceecb8f463c\" xlink:show=\"new\" xlink:title=\"psysml:fe640fc2-093c-44fe-a9fd-0ceecb8f463c\" xlink:type=\"simple\"><rect fill=\"#FFFFFF\" height=\"45.9375\" id=\"E17\" rx=\"10\" ry=\"10\" style=\"stroke: #383838; stroke-width: 1.5;\" width=\"93\" x=\"88.5\" y=\"292\"/><text fill=\"#000000\" font-family=\"sans-serif\" font-size=\"12\" font-style=\"italic\" lengthAdjust=\"spacingAndGlyphs\" textLength=\"91\" x=\"89.5\" y=\"308.1387\">«requirement»</text><text fill=\"#000000\" font-family=\"sans-serif\" font-size=\"12\" lengthAdjust=\"spacingAndGlyphs\" textLength=\"19\" x=\"125.5\" y=\"322.1074\">obj</text><line style=\"stroke: #383838; stroke-width: 1.5;\" x1=\"89.5\" x2=\"180.5\" y1=\"329.9375\" y2=\"329.9375\"/></a><text fill=\"#000000\" font-family=\"sans-serif\" font-size=\"14\" lengthAdjust=\"spacingAndGlyphs\" textLength=\"7\" x=\"1030.5\" y=\"42.6982\">v</text><rect fill=\"#383838\" height=\"12\" style=\"stroke: #F8F8F8; stroke-width: 1.5;\" width=\"12\" x=\"1028\" y=\"58\"/><text fill=\"#000000\" font-family=\"sans-serif\" font-size=\"14\" lengthAdjust=\"spacingAndGlyphs\" textLength=\"46\" x=\"1011\" y=\"392.9951\">verdict</text><rect fill=\"#383838\" height=\"12\" style=\"stroke: #F8F8F8; stroke-width: 1.5;\" width=\"12\" x=\"1028\" y=\"368\"/><text fill=\"#000000\" font-family=\"sans-serif\" font-size=\"14\" lengthAdjust=\"spacingAndGlyphs\" textLength=\"7\" x=\"358.5\" y=\"160.1982\">v</text><rect fill=\"#383838\" height=\"12\" style=\"stroke: #F8F8F8; stroke-width: 1.5;\" width=\"12\" x=\"356\" y=\"175.5\"/><text fill=\"#000000\" font-family=\"sans-serif\" font-size=\"14\" lengthAdjust=\"spacingAndGlyphs\" textLength=\"46\" x=\"643\" y=\"499.9951\">verdict</text><rect fill=\"#383838\" height=\"12\" style=\"stroke: #F8F8F8; stroke-width: 1.5;\" width=\"12\" x=\"660\" y=\"475\"/><text fill=\"#000000\" font-family=\"sans-serif\" font-size=\"14\" lengthAdjust=\"spacingAndGlyphs\" textLength=\"46\" x=\"518\" y=\"572.9951\">verdict</text><rect fill=\"#383838\" height=\"12\" style=\"stroke: #F8F8F8; stroke-width: 1.5;\" width=\"12\" x=\"535\" y=\"548\"/><text fill=\"#000000\" font-family=\"sans-serif\" font-size=\"14\" lengthAdjust=\"spacingAndGlyphs\" textLength=\"7\" x=\"537.5\" y=\"293.6982\">v</text><rect fill=\"#383838\" height=\"12\" style=\"stroke: #F8F8F8; stroke-width: 1.5;\" width=\"12\" x=\"535\" y=\"309\"/><!--MD5=[05d275557350bfb9b23a4ef7222b4c39]\n",
       "link E3 to E2--><a href=\"psysml:2b222a15-a90b-432a-993d-d339516ea993\" target=\"_top\" title=\"psysml:2b222a15-a90b-432a-993d-d339516ea993\" xlink:actuate=\"onRequest\" xlink:href=\"psysml:2b222a15-a90b-432a-993d-d339516ea993\" xlink:show=\"new\" xlink:title=\"psysml:2b222a15-a90b-432a-993d-d339516ea993\" xlink:type=\"simple\"><path d=\"M882,87.21 C882,87.21 882,138.33 882,138.33 \" fill=\"none\" id=\"E3-&gt;E2\" style=\"stroke: #383838; stroke-width: 1.0;\"/><polygon fill=\"#FFFFFF\" points=\"882,158.33,875,139.33,889,139.33,882,158.33\" style=\"stroke: #383838; stroke-width: 1.0;\"/><ellipse cx=\"877\" cy=\"133.63\" fill=\"#383838\" rx=\"2\" ry=\"2\" style=\"stroke: #383838; stroke-width: 1.0;\"/><ellipse cx=\"887\" cy=\"133.63\" fill=\"#383838\" rx=\"2\" ry=\"2\" style=\"stroke: #383838; stroke-width: 1.0;\"/></a><!--MD5=[1c62de2aa5b76f0fb657ff8443a1a700]\n",
       "link E5 to E4--><a href=\"psysml:4afeeb28-a204-4e17-a080-31f9a6d380ec\" target=\"_top\" title=\"psysml:4afeeb28-a204-4e17-a080-31f9a6d380ec\" xlink:actuate=\"onRequest\" xlink:href=\"psysml:4afeeb28-a204-4e17-a080-31f9a6d380ec\" xlink:show=\"new\" xlink:title=\"psysml:4afeeb28-a204-4e17-a080-31f9a6d380ec\" xlink:type=\"simple\"><path d=\"M755,87.21 C755,87.21 755,127.65 755,127.65 \" fill=\"none\" id=\"E5-&gt;E4\" style=\"stroke: #383838; stroke-width: 1.0;\"/><polygon fill=\"#FFFFFF\" points=\"755,147.65,748,128.65,762,128.65,755,147.65\" style=\"stroke: #383838; stroke-width: 1.0;\"/><ellipse cx=\"750\" cy=\"122.95\" fill=\"#383838\" rx=\"2\" ry=\"2\" style=\"stroke: #383838; stroke-width: 1.0;\"/><ellipse cx=\"760\" cy=\"122.95\" fill=\"#383838\" rx=\"2\" ry=\"2\" style=\"stroke: #383838; stroke-width: 1.0;\"/></a><!--MD5=[58e4cf537c4d67f6b3da95fd5b934e63]\n",
       "reverse link E15 to E16--><a href=\"psysml:4d9ca163-dfe0-49d5-81cb-3058dc3dad3f\" target=\"_top\" title=\"psysml:4d9ca163-dfe0-49d5-81cb-3058dc3dad3f\" xlink:actuate=\"onRequest\" xlink:href=\"psysml:4d9ca163-dfe0-49d5-81cb-3058dc3dad3f\" xlink:show=\"new\" xlink:title=\"psysml:4d9ca163-dfe0-49d5-81cb-3058dc3dad3f\" xlink:type=\"simple\"><path d=\"M135,100.21 C135,100.21 135,158.33 135,158.33 \" fill=\"none\" id=\"E15&lt;-E16\" style=\"stroke: #383838; stroke-width: 1.0;\"/><polygon fill=\"#383838\" points=\"135,87.21,131,93.21,135,99.21,139,93.21,135,87.21\" style=\"stroke: #383838; stroke-width: 1.0;\"/></a><!--MD5=[4de2d328c39b6d65fb95a84ef336270e]\n",
       "link E16 to E9--><a href=\"psysml:cd73bb42-520f-4e04-8240-7f040abbe442\" target=\"_top\" title=\"psysml:cd73bb42-520f-4e04-8240-7f040abbe442\" xlink:actuate=\"onRequest\" xlink:href=\"psysml:cd73bb42-520f-4e04-8240-7f040abbe442\" xlink:show=\"new\" xlink:title=\"psysml:cd73bb42-520f-4e04-8240-7f040abbe442\" xlink:type=\"simple\"><path d=\"M209.75,204.75 C209.75,243 209.75,315 209.75,315 C209.75,315 242.65,315 277.86,315 \" fill=\"none\" id=\"E16-&gt;E9\" style=\"stroke: #383838; stroke-width: 1.0;\"/><polygon fill=\"#FFFFFF\" points=\"277.86,315,258.86,322,258.86,308,277.86,315\" style=\"stroke: #383838; stroke-width: 1.0;\"/><ellipse cx=\"253.16\" cy=\"320\" fill=\"#383838\" rx=\"2\" ry=\"2\" style=\"stroke: #383838; stroke-width: 1.0;\"/><ellipse cx=\"253.16\" cy=\"310\" fill=\"#383838\" rx=\"2\" ry=\"2\" style=\"stroke: #383838; stroke-width: 1.0;\"/></a><!--MD5=[450e3481f1c83a03a55fcf78b0bbbde6]\n",
       "link E16 to E17--><a href=\"psysml:e29f10bd-d5bc-4797-97ab-a37fb0e5db5b\" target=\"_top\" title=\"psysml:e29f10bd-d5bc-4797-97ab-a37fb0e5db5b\" xlink:actuate=\"onRequest\" xlink:href=\"psysml:e29f10bd-d5bc-4797-97ab-a37fb0e5db5b\" xlink:show=\"new\" xlink:title=\"psysml:e29f10bd-d5bc-4797-97ab-a37fb0e5db5b\" xlink:type=\"simple\"><path d=\"M135,204.75 C135,204.75 135,283.56 135,283.56 \" fill=\"none\" id=\"E16-&gt;E17\" style=\"stroke: #383838; stroke-width: 1.0;\"/><polygon fill=\"#383838\" points=\"135,291.56,138,283.56,132,283.56,135,291.56\" style=\"stroke: #383838; stroke-width: 1.0;\"/><text fill=\"#000000\" font-family=\"sans-serif\" font-size=\"13\" lengthAdjust=\"spacingAndGlyphs\" textLength=\"73\" x=\"136\" y=\"258.0669\">«objective»</text><text fill=\"#000000\" font-family=\"sans-serif\" font-size=\"13\" lengthAdjust=\"spacingAndGlyphs\" textLength=\"7\" x=\"127.1469\" y=\"281.1091\">*</text></a><!--MD5=[dce91e314c006be3aa287e13ed637ceb]\n",
       "@startuml\r\n",
       "skinparam linetype ortho\r\n",
       "skinparam monochrome true\r\n",
       "skinparam classbackgroundcolor white\r\n",
       "skinparam shadowing false\r\n",
       "skinparam wrapWidth 300\r\n",
       "hide circle\r\n",
       "\r\n",
       "package \"VerificationTest\" as E1  [[psysml:7303dfcd-df1a-4034-bc74-eb93457ec7c0 ]]  {\r\n",
       "comp def \"V\" as E2  <<(T,blue) part def>> [[psysml:ee2cd088-4b38-485a-bdcf-f034eebaa933 ]] {\r\n",
       "}\r\n",
       "comp usage \"vv: V\" as E3  <<(T,blue) part>> [[psysml:ea23779d-7b91-41e0-a4d1-5f0745e774d2 ]] {\r\n",
       "}\r\n",
       "comp def \"R\" as E4  <<(T,blue) requirement def>> [[psysml:971e85b9-9957-4674-90a7-be3bf98856c5 ]] {\r\n",
       "...\r\n",
       "- -\r\n",
       "}\r\n",
       "comp usage \"r: R\" as E5  <<(T,blue) requirement>> [[psysml:bbcd2223-85a4-4701-a24f-5592c5712336 ]] {\r\n",
       "}\r\n",
       "rec def \"VerificationCase\" as E6  <<(T,blue) verificationCase def>> [[psysml:f44943ce-87bd-4d2b-91db-f66bd879bf72 ]] {\r\n",
       "portin \"v\" as E7  [[psysml:39e4c68a-7e48-4018-a595-005447bc25d1 ]] \r\n",
       "portout \"verdict\" as E8  [[psysml:e7480a5a-bc03-4bfb-926c-ff77790341ab ]] \r\n",
       "}\r\n",
       "\r\n",
       "rec def \"VerificationPlan\" as E9  <<(T,blue) verificationCase def>> [[psysml:109e665d-9569-4e28-8454-db86a3b7365b ]] {\r\n",
       "portin \"v\" as E10  [[psysml:bc04aa0f-1251-4bd1-9492-821de83ad0f4 ]] \r\n",
       "rec usage \"verificationCase\" as E11  <<(T,blue) verificationCase>> [[psysml:d8eec309-4539-4ef6-b593-f8d5221313a5 ]] {\r\n",
       "portout \"verdict\" as E12  [[psysml:d4b19012-2d8f-412c-81cb-04106ed54ab9 ]] \r\n",
       "portin \"v\" as E13  [[psysml:101691aa-2b16-4439-bb49-3b5a9750b72a ]] \r\n",
       "}\r\n",
       "\r\n",
       "portout \"verdict\" as E14  [[psysml:d1cc474d-a7ae-4245-8f3b-eac2c389ad3d ]] \r\n",
       "}\r\n",
       "\r\n",
       "comp usage \"verificationContext\" as E15  <<(T,blue) part>> [[psysml:1ba0f1fa-2142-46f9-b759-d2e88bd368a2 ]] {\r\n",
       "}\r\n",
       "comp usage \"verificationPlan: VerificationPlan\" as E16  <<(T,blue) verificationCase>> [[psysml:f139e62b-7bf9-43a0-a382-40038ed35c63 ]] {\r\n",
       "}\r\n",
       "comp usage \"obj\" as E17  <<(T,blue) requirement>> [[psysml:fe640fc2-093c-44fe-a9fd-0ceecb8f463c ]] {\r\n",
       "}\r\n",
       "}\r\n",
       "E3 - -:|> E2 [[psysml:2b222a15-a90b-432a-993d-d339516ea993 ]] \r\n",
       "E5 - -:|> E4 [[psysml:4afeeb28-a204-4e17-a080-31f9a6d380ec ]] \r\n",
       "E15 *- - E16 [[psysml:4d9ca163-dfe0-49d5-81cb-3058dc3dad3f ]] \r\n",
       "E16 - -:|> E9 [[psysml:cd73bb42-520f-4e04-8240-7f040abbe442 ]] \r\n",
       "E16 - ->> \"*\"E17 [[psysml:e29f10bd-d5bc-4797-97ab-a37fb0e5db5b ]] : <<objective>>\r\n",
       "@enduml\r\n",
       "\n",
       "PlantUML version 1.2020.13(Sat Jun 13 12:26:38 UTC 2020)\n",
       "(EPL source distribution)\n",
       "Java Runtime: OpenJDK Runtime Environment\n",
       "JVM: OpenJDK 64-Bit Server VM\n",
       "Default Encoding: UTF-8\n",
       "Language: en\n",
       "Country: null\n",
       "--></g></svg>"
      ]
     },
     "execution_count": 51,
     "metadata": {},
     "output_type": "execute_result"
    }
   ],
   "source": [
    "%viz --style=\"ORTHOLINE\" --view=\"Default\" \"VerificationTest\""
   ]
  },
  {
   "cell_type": "code",
   "execution_count": 52,
   "id": "5adb2ebd",
   "metadata": {
    "execution": {
     "iopub.execute_input": "2021-10-03T08:26:51.283732Z",
     "iopub.status.busy": "2021-10-03T08:26:51.283341Z",
     "iopub.status.idle": "2021-10-03T08:26:51.339058Z",
     "shell.execute_reply": "2021-10-03T08:26:51.337201Z"
    }
   },
   "outputs": [
    {
     "data": {
      "image/svg+xml": [
       "<?xml version=\"1.0\" encoding=\"UTF-8\" standalone=\"no\"?><svg xmlns=\"http://www.w3.org/2000/svg\" xmlns:xlink=\"http://www.w3.org/1999/xlink\" contentScriptType=\"application/ecmascript\" contentStyleType=\"text/css\" height=\"268px\" preserveAspectRatio=\"none\" style=\"width:746px;height:268px;\" version=\"1.1\" viewBox=\"0 0 746 268\" width=\"746px\" zoomAndPan=\"magnify\"><defs/><g><!--MD5=[fbc87193dbaf4d95561dea2c320d4a47]\n",
       "cluster E1--><a href=\"psysml:7303dfcd-df1a-4034-bc74-eb93457ec7c0\" target=\"_top\" title=\"psysml:7303dfcd-df1a-4034-bc74-eb93457ec7c0\" xlink:actuate=\"onRequest\" xlink:href=\"psysml:7303dfcd-df1a-4034-bc74-eb93457ec7c0\" xlink:show=\"new\" xlink:title=\"psysml:7303dfcd-df1a-4034-bc74-eb93457ec7c0\" xlink:type=\"simple\"><polygon fill=\"#FFFFFF\" points=\"16,6,128,6,135,28.2969,724,28.2969,724,256,16,256,16,6\" style=\"stroke: #000000; stroke-width: 1.5;\"/><line style=\"stroke: #000000; stroke-width: 1.5;\" x1=\"16\" x2=\"135\" y1=\"28.2969\" y2=\"28.2969\"/><text fill=\"#000000\" font-family=\"sans-serif\" font-size=\"14\" font-weight=\"bold\" lengthAdjust=\"spacingAndGlyphs\" textLength=\"106\" x=\"20\" y=\"20.9951\">VerificationTest</text></a><!--MD5=[b4997ac47864f28c2f74865a473b2911]\n",
       "class E2--><a href=\"psysml:ee2cd088-4b38-485a-bdcf-f034eebaa933\" target=\"_top\" title=\"psysml:ee2cd088-4b38-485a-bdcf-f034eebaa933\" xlink:actuate=\"onRequest\" xlink:href=\"psysml:ee2cd088-4b38-485a-bdcf-f034eebaa933\" xlink:show=\"new\" xlink:title=\"psysml:ee2cd088-4b38-485a-bdcf-f034eebaa933\" xlink:type=\"simple\"><rect fill=\"#FFFFFF\" height=\"45.9375\" id=\"E2\" style=\"stroke: #383838; stroke-width: 1.5;\" width=\"66\" x=\"342\" y=\"179\"/><text fill=\"#000000\" font-family=\"sans-serif\" font-size=\"12\" font-style=\"italic\" lengthAdjust=\"spacingAndGlyphs\" textLength=\"64\" x=\"343\" y=\"195.1387\">«part def»</text><text fill=\"#000000\" font-family=\"sans-serif\" font-size=\"12\" lengthAdjust=\"spacingAndGlyphs\" textLength=\"8\" x=\"371\" y=\"209.1074\">V</text><line style=\"stroke: #383838; stroke-width: 1.5;\" x1=\"343\" x2=\"407\" y1=\"216.9375\" y2=\"216.9375\"/></a><!--MD5=[09b614a08d8cba4a07c9adeb5e0fee81]\n",
       "class E3--><a href=\"psysml:ea23779d-7b91-41e0-a4d1-5f0745e774d2\" target=\"_top\" title=\"psysml:ea23779d-7b91-41e0-a4d1-5f0745e774d2\" xlink:actuate=\"onRequest\" xlink:href=\"psysml:ea23779d-7b91-41e0-a4d1-5f0745e774d2\" xlink:show=\"new\" xlink:title=\"psysml:ea23779d-7b91-41e0-a4d1-5f0745e774d2\" xlink:type=\"simple\"><rect fill=\"#FFFFFF\" height=\"45.9375\" id=\"E3\" rx=\"10\" ry=\"10\" style=\"stroke: #383838; stroke-width: 1.5;\" width=\"42\" x=\"364\" y=\"41\"/><text fill=\"#000000\" font-family=\"sans-serif\" font-size=\"12\" font-style=\"italic\" lengthAdjust=\"spacingAndGlyphs\" textLength=\"40\" x=\"365\" y=\"57.1387\">«part»</text><text fill=\"#000000\" font-family=\"sans-serif\" font-size=\"12\" lengthAdjust=\"spacingAndGlyphs\" textLength=\"28\" x=\"371\" y=\"71.1074\">vv: V</text><line style=\"stroke: #383838; stroke-width: 1.5;\" x1=\"365\" x2=\"405\" y1=\"78.9375\" y2=\"78.9375\"/></a><!--MD5=[ebbe1d658d1005bcc118a6aa81145e00]\n",
       "class E4--><a href=\"psysml:971e85b9-9957-4674-90a7-be3bf98856c5\" target=\"_top\" title=\"psysml:971e85b9-9957-4674-90a7-be3bf98856c5\" xlink:actuate=\"onRequest\" xlink:href=\"psysml:971e85b9-9957-4674-90a7-be3bf98856c5\" xlink:show=\"new\" xlink:title=\"psysml:971e85b9-9957-4674-90a7-be3bf98856c5\" xlink:type=\"simple\"><rect fill=\"#FFFFFF\" height=\"66.7422\" id=\"E4\" style=\"stroke: #383838; stroke-width: 1.5;\" width=\"117\" x=\"590.5\" y=\"168.5\"/><text fill=\"#000000\" font-family=\"sans-serif\" font-size=\"12\" font-style=\"italic\" lengthAdjust=\"spacingAndGlyphs\" textLength=\"115\" x=\"591.5\" y=\"184.6387\">«requirement def»</text><text fill=\"#000000\" font-family=\"sans-serif\" font-size=\"12\" lengthAdjust=\"spacingAndGlyphs\" textLength=\"8\" x=\"645\" y=\"198.6074\">R</text><line style=\"stroke: #383838; stroke-width: 1.5;\" x1=\"591.5\" x2=\"706.5\" y1=\"206.4375\" y2=\"206.4375\"/><text fill=\"#000000\" font-family=\"sans-serif\" font-size=\"11\" lengthAdjust=\"spacingAndGlyphs\" textLength=\"12\" x=\"596.5\" y=\"220.6479\">...</text><line style=\"stroke: #383838; stroke-width: 1.0;\" x1=\"591.5\" x2=\"706.5\" y1=\"227.2422\" y2=\"227.2422\"/></a><!--MD5=[270fce915f116d4de14055a7c1d9a0f3]\n",
       "class E5--><a href=\"psysml:bbcd2223-85a4-4701-a24f-5592c5712336\" target=\"_top\" title=\"psysml:bbcd2223-85a4-4701-a24f-5592c5712336\" xlink:actuate=\"onRequest\" xlink:href=\"psysml:bbcd2223-85a4-4701-a24f-5592c5712336\" xlink:show=\"new\" xlink:title=\"psysml:bbcd2223-85a4-4701-a24f-5592c5712336\" xlink:type=\"simple\"><rect fill=\"#FFFFFF\" height=\"45.9375\" id=\"E5\" rx=\"10\" ry=\"10\" style=\"stroke: #383838; stroke-width: 1.5;\" width=\"93\" x=\"615.5\" y=\"41\"/><text fill=\"#000000\" font-family=\"sans-serif\" font-size=\"12\" font-style=\"italic\" lengthAdjust=\"spacingAndGlyphs\" textLength=\"91\" x=\"616.5\" y=\"57.1387\">«requirement»</text><text fill=\"#000000\" font-family=\"sans-serif\" font-size=\"12\" lengthAdjust=\"spacingAndGlyphs\" textLength=\"21\" x=\"651.5\" y=\"71.1074\">r: R</text><line style=\"stroke: #383838; stroke-width: 1.5;\" x1=\"616.5\" x2=\"707.5\" y1=\"78.9375\" y2=\"78.9375\"/></a><!--MD5=[60a26617385b1d2d0262a64233df1f8d]\n",
       "class E6--><a href=\"psysml:f44943ce-87bd-4d2b-91db-f66bd879bf72\" target=\"_top\" title=\"psysml:f44943ce-87bd-4d2b-91db-f66bd879bf72\" xlink:actuate=\"onRequest\" xlink:href=\"psysml:f44943ce-87bd-4d2b-91db-f66bd879bf72\" xlink:show=\"new\" xlink:title=\"psysml:f44943ce-87bd-4d2b-91db-f66bd879bf72\" xlink:type=\"simple\"><rect fill=\"#FFFFFF\" height=\"45.9375\" id=\"E6\" style=\"stroke: #383838; stroke-width: 1.5;\" width=\"139\" x=\"441.5\" y=\"41\"/><text fill=\"#000000\" font-family=\"sans-serif\" font-size=\"12\" font-style=\"italic\" lengthAdjust=\"spacingAndGlyphs\" textLength=\"137\" x=\"442.5\" y=\"57.1387\">«verificationCase def»</text><text fill=\"#000000\" font-family=\"sans-serif\" font-size=\"12\" lengthAdjust=\"spacingAndGlyphs\" textLength=\"101\" x=\"460.5\" y=\"71.1074\">VerificationCase</text><line style=\"stroke: #383838; stroke-width: 1.5;\" x1=\"442.5\" x2=\"579.5\" y1=\"78.9375\" y2=\"78.9375\"/></a><!--MD5=[2156ba9850f5573cc1fc38a6a4b2f02b]\n",
       "class E7--><a href=\"psysml:c1b61795-7b30-4440-a267-41d24baf94c2\" target=\"_top\" title=\"psysml:c1b61795-7b30-4440-a267-41d24baf94c2\" xlink:actuate=\"onRequest\" xlink:href=\"psysml:c1b61795-7b30-4440-a267-41d24baf94c2\" xlink:show=\"new\" xlink:title=\"psysml:c1b61795-7b30-4440-a267-41d24baf94c2\" xlink:type=\"simple\"><rect fill=\"#FFFFFF\" height=\"75.5469\" id=\"E7\" rx=\"10\" ry=\"10\" style=\"stroke: #383838; stroke-width: 1.5;\" width=\"93\" x=\"462.5\" y=\"164\"/><text fill=\"#000000\" font-family=\"sans-serif\" font-size=\"12\" font-style=\"italic\" lengthAdjust=\"spacingAndGlyphs\" textLength=\"91\" x=\"463.5\" y=\"180.1387\">«requirement»</text><text fill=\"#000000\" font-family=\"sans-serif\" font-size=\"12\" lengthAdjust=\"spacingAndGlyphs\" textLength=\"19\" x=\"499.5\" y=\"194.1074\">obj</text><line style=\"stroke: #383838; stroke-width: 1.5;\" x1=\"463.5\" x2=\"554.5\" y1=\"201.9375\" y2=\"201.9375\"/><text fill=\"#000000\" font-family=\"sans-serif\" font-size=\"11\" font-weight=\"bold\" lengthAdjust=\"spacingAndGlyphs\" textLength=\"41\" x=\"468.5\" y=\"232.9526\">require</text><text fill=\"#000000\" font-family=\"sans-serif\" font-size=\"11\" lengthAdjust=\"spacingAndGlyphs\" textLength=\"15\" x=\"513.5\" y=\"232.9526\">: R</text><line style=\"stroke: #383838; stroke-width: 1.0;\" x1=\"463.5\" x2=\"470.5\" y1=\"216.3398\" y2=\"216.3398\"/><text fill=\"#000000\" font-family=\"sans-serif\" font-size=\"11\" lengthAdjust=\"spacingAndGlyphs\" textLength=\"77\" x=\"470.5\" y=\"219.6479\">requirements</text><line style=\"stroke: #383838; stroke-width: 1.0;\" x1=\"547.5\" x2=\"554.5\" y1=\"216.3398\" y2=\"216.3398\"/></a><!--MD5=[fd4143e9d270a159db93a4ea2a975926]\n",
       "class E9--><a href=\"psysml:109e665d-9569-4e28-8454-db86a3b7365b\" target=\"_top\" title=\"psysml:109e665d-9569-4e28-8454-db86a3b7365b\" xlink:actuate=\"onRequest\" xlink:href=\"psysml:109e665d-9569-4e28-8454-db86a3b7365b\" xlink:show=\"new\" xlink:title=\"psysml:109e665d-9569-4e28-8454-db86a3b7365b\" xlink:type=\"simple\"><rect fill=\"#FFFFFF\" height=\"45.9375\" id=\"E9\" style=\"stroke: #383838; stroke-width: 1.5;\" width=\"139\" x=\"189.5\" y=\"41\"/><text fill=\"#000000\" font-family=\"sans-serif\" font-size=\"12\" font-style=\"italic\" lengthAdjust=\"spacingAndGlyphs\" textLength=\"137\" x=\"190.5\" y=\"57.1387\">«verificationCase def»</text><text fill=\"#000000\" font-family=\"sans-serif\" font-size=\"12\" lengthAdjust=\"spacingAndGlyphs\" textLength=\"97\" x=\"210.5\" y=\"71.1074\">VerificationPlan</text><line style=\"stroke: #383838; stroke-width: 1.5;\" x1=\"190.5\" x2=\"327.5\" y1=\"78.9375\" y2=\"78.9375\"/></a><!--MD5=[96f4274e9e20536e775497830990834d]\n",
       "class E10--><a href=\"psysml:7031c3a4-5568-406f-9713-a580e51688a6\" target=\"_top\" title=\"psysml:7031c3a4-5568-406f-9713-a580e51688a6\" xlink:actuate=\"onRequest\" xlink:href=\"psysml:7031c3a4-5568-406f-9713-a580e51688a6\" xlink:show=\"new\" xlink:title=\"psysml:7031c3a4-5568-406f-9713-a580e51688a6\" xlink:type=\"simple\"><rect fill=\"#FFFFFF\" height=\"75.5469\" id=\"E10\" rx=\"10\" ry=\"10\" style=\"stroke: #383838; stroke-width: 1.5;\" width=\"93\" x=\"143.5\" y=\"164\"/><text fill=\"#000000\" font-family=\"sans-serif\" font-size=\"12\" font-style=\"italic\" lengthAdjust=\"spacingAndGlyphs\" textLength=\"91\" x=\"144.5\" y=\"180.1387\">«requirement»</text><text fill=\"#000000\" font-family=\"sans-serif\" font-size=\"12\" lengthAdjust=\"spacingAndGlyphs\" textLength=\"19\" x=\"180.5\" y=\"194.1074\">obj</text><line style=\"stroke: #383838; stroke-width: 1.5;\" x1=\"144.5\" x2=\"235.5\" y1=\"201.9375\" y2=\"201.9375\"/><text fill=\"#000000\" font-family=\"sans-serif\" font-size=\"11\" font-weight=\"bold\" lengthAdjust=\"spacingAndGlyphs\" textLength=\"41\" x=\"149.5\" y=\"232.9526\">require</text><text fill=\"#000000\" font-family=\"sans-serif\" font-size=\"11\" lengthAdjust=\"spacingAndGlyphs\" textLength=\"5\" x=\"194.5\" y=\"232.9526\">r</text><line style=\"stroke: #383838; stroke-width: 1.0;\" x1=\"144.5\" x2=\"151.5\" y1=\"216.3398\" y2=\"216.3398\"/><text fill=\"#000000\" font-family=\"sans-serif\" font-size=\"11\" lengthAdjust=\"spacingAndGlyphs\" textLength=\"77\" x=\"151.5\" y=\"219.6479\">requirements</text><line style=\"stroke: #383838; stroke-width: 1.0;\" x1=\"228.5\" x2=\"235.5\" y1=\"216.3398\" y2=\"216.3398\"/></a><!--MD5=[49a0ec8f00dab7302a31f22d0f0fe584]\n",
       "class E12--><a href=\"psysml:1ba0f1fa-2142-46f9-b759-d2e88bd368a2\" target=\"_top\" title=\"psysml:1ba0f1fa-2142-46f9-b759-d2e88bd368a2\" xlink:actuate=\"onRequest\" xlink:href=\"psysml:1ba0f1fa-2142-46f9-b759-d2e88bd368a2\" xlink:show=\"new\" xlink:title=\"psysml:1ba0f1fa-2142-46f9-b759-d2e88bd368a2\" xlink:type=\"simple\"><rect fill=\"#FFFFFF\" height=\"45.9375\" id=\"E12\" rx=\"10\" ry=\"10\" style=\"stroke: #383838; stroke-width: 1.5;\" width=\"122\" x=\"32\" y=\"41\"/><text fill=\"#000000\" font-family=\"sans-serif\" font-size=\"12\" font-style=\"italic\" lengthAdjust=\"spacingAndGlyphs\" textLength=\"40\" x=\"73\" y=\"57.1387\">«part»</text><text fill=\"#000000\" font-family=\"sans-serif\" font-size=\"12\" lengthAdjust=\"spacingAndGlyphs\" textLength=\"116\" x=\"35\" y=\"71.1074\">verificationContext</text><line style=\"stroke: #383838; stroke-width: 1.5;\" x1=\"33\" x2=\"153\" y1=\"78.9375\" y2=\"78.9375\"/></a><!--MD5=[05d275557350bfb9b23a4ef7222b4c39]\n",
       "link E3 to E2--><a href=\"psysml:2b222a15-a90b-432a-993d-d339516ea993\" target=\"_top\" title=\"psysml:2b222a15-a90b-432a-993d-d339516ea993\" xlink:actuate=\"onRequest\" xlink:href=\"psysml:2b222a15-a90b-432a-993d-d339516ea993\" xlink:show=\"new\" xlink:title=\"psysml:2b222a15-a90b-432a-993d-d339516ea993\" xlink:type=\"simple\"><path d=\"M385,87.1 C385,87.1 385,158.83 385,158.83 \" fill=\"none\" id=\"E3-&gt;E2\" style=\"stroke: #383838; stroke-width: 1.0;\"/><polygon fill=\"#FFFFFF\" points=\"385,178.83,378,159.83,392,159.83,385,178.83\" style=\"stroke: #383838; stroke-width: 1.0;\"/><ellipse cx=\"380\" cy=\"154.13\" fill=\"#383838\" rx=\"2\" ry=\"2\" style=\"stroke: #383838; stroke-width: 1.0;\"/><ellipse cx=\"390\" cy=\"154.13\" fill=\"#383838\" rx=\"2\" ry=\"2\" style=\"stroke: #383838; stroke-width: 1.0;\"/></a><!--MD5=[1c62de2aa5b76f0fb657ff8443a1a700]\n",
       "link E5 to E4--><a href=\"psysml:4afeeb28-a204-4e17-a080-31f9a6d380ec\" target=\"_top\" title=\"psysml:4afeeb28-a204-4e17-a080-31f9a6d380ec\" xlink:actuate=\"onRequest\" xlink:href=\"psysml:4afeeb28-a204-4e17-a080-31f9a6d380ec\" xlink:show=\"new\" xlink:title=\"psysml:4afeeb28-a204-4e17-a080-31f9a6d380ec\" xlink:type=\"simple\"><path d=\"M661.5,87.1 C661.5,87.1 661.5,148.48 661.5,148.48 \" fill=\"none\" id=\"E5-&gt;E4\" style=\"stroke: #383838; stroke-width: 1.0;\"/><polygon fill=\"#FFFFFF\" points=\"661.5,168.48,654.5,149.48,668.5,149.48,661.5,168.48\" style=\"stroke: #383838; stroke-width: 1.0;\"/><ellipse cx=\"656.5\" cy=\"143.78\" fill=\"#383838\" rx=\"2\" ry=\"2\" style=\"stroke: #383838; stroke-width: 1.0;\"/><ellipse cx=\"666.5\" cy=\"143.78\" fill=\"#383838\" rx=\"2\" ry=\"2\" style=\"stroke: #383838; stroke-width: 1.0;\"/></a><!--MD5=[2351f337d6de0f557b50152ba70847b5]\n",
       "link E6 to E2--><a href=\"psysml:0a65a73b-aad1-46f6-97e3-b503c188383c\" target=\"_top\" title=\"psysml:0a65a73b-aad1-46f6-97e3-b503c188383c\" xlink:actuate=\"onRequest\" xlink:href=\"psysml:0a65a73b-aad1-46f6-97e3-b503c188383c\" xlink:show=\"new\" xlink:title=\"psysml:0a65a73b-aad1-46f6-97e3-b503c188383c\" xlink:type=\"simple\"><path d=\"M452,87.1 C452,126.38 452,202 452,202 C452,202 413.1,202 413.1,202 \" fill=\"none\" id=\"E6-&gt;E2\" style=\"stroke: #383838; stroke-width: 1.0; stroke-dasharray: 7.0,7.0;\"/><polygon fill=\"#383838\" points=\"408.1,202,417.1,206,413.1,202,417.1,198,408.1,202\" style=\"stroke: #383838; stroke-width: 1.0;\"/><text fill=\"#000000\" font-family=\"sans-serif\" font-size=\"13\" lengthAdjust=\"spacingAndGlyphs\" textLength=\"62\" x=\"417\" y=\"130.0669\">«subject»</text></a><!--MD5=[02c70b7c851c11e3980e4e90450dc5dd]\n",
       "link E6 to E7--><a href=\"psysml:ca392d64-6b44-4e33-bff2-bf36fcd3e380\" target=\"_top\" title=\"psysml:ca392d64-6b44-4e33-bff2-bf36fcd3e380\" xlink:actuate=\"onRequest\" xlink:href=\"psysml:ca392d64-6b44-4e33-bff2-bf36fcd3e380\" xlink:show=\"new\" xlink:title=\"psysml:ca392d64-6b44-4e33-bff2-bf36fcd3e380\" xlink:type=\"simple\"><path d=\"M509,87.1 C509,87.1 509,155.96 509,155.96 \" fill=\"none\" id=\"E6-&gt;E7\" style=\"stroke: #383838; stroke-width: 1.0;\"/><polygon fill=\"#383838\" points=\"509,163.96,512,155.96,506,155.96,509,163.96\" style=\"stroke: #383838; stroke-width: 1.0;\"/><text fill=\"#000000\" font-family=\"sans-serif\" font-size=\"13\" lengthAdjust=\"spacingAndGlyphs\" textLength=\"73\" x=\"521\" y=\"130.0669\">«objective»</text><text fill=\"#000000\" font-family=\"sans-serif\" font-size=\"13\" lengthAdjust=\"spacingAndGlyphs\" textLength=\"7\" x=\"501.3766\" y=\"152.9673\">*</text></a><!--MD5=[5c3bb36fe832a92c7f0e1807dd65209d]\n",
       "link E9 to E2--><a href=\"psysml:e35a8663-5a9e-49b1-9953-8d2b3225b6ac\" target=\"_top\" title=\"psysml:e35a8663-5a9e-49b1-9953-8d2b3225b6ac\" xlink:actuate=\"onRequest\" xlink:href=\"psysml:e35a8663-5a9e-49b1-9953-8d2b3225b6ac\" xlink:show=\"new\" xlink:title=\"psysml:e35a8663-5a9e-49b1-9953-8d2b3225b6ac\" xlink:type=\"simple\"><path d=\"M328.79,64 C342.64,64 353,64 353,64 C353,64 353,173.9 353,173.9 \" fill=\"none\" id=\"E9-&gt;E2\" style=\"stroke: #383838; stroke-width: 1.0; stroke-dasharray: 7.0,7.0;\"/><polygon fill=\"#383838\" points=\"353,178.9,357,169.9,353,173.9,349,169.9,353,178.9\" style=\"stroke: #383838; stroke-width: 1.0;\"/><text fill=\"#000000\" font-family=\"sans-serif\" font-size=\"13\" lengthAdjust=\"spacingAndGlyphs\" textLength=\"62\" x=\"306\" y=\"130.0669\">«subject»</text></a><!--MD5=[35e5f1cbde42fa304a029880aa2bc7f2]\n",
       "link E9 to E10--><a href=\"psysml:a2e94b2d-09ed-4b49-b784-abde9df75390\" target=\"_top\" title=\"psysml:a2e94b2d-09ed-4b49-b784-abde9df75390\" xlink:actuate=\"onRequest\" xlink:href=\"psysml:a2e94b2d-09ed-4b49-b784-abde9df75390\" xlink:show=\"new\" xlink:title=\"psysml:a2e94b2d-09ed-4b49-b784-abde9df75390\" xlink:type=\"simple\"><path d=\"M213,87.1 C213,87.1 213,155.96 213,155.96 \" fill=\"none\" id=\"E9-&gt;E10\" style=\"stroke: #383838; stroke-width: 1.0;\"/><polygon fill=\"#383838\" points=\"213,163.96,216,155.96,210,155.96,213,163.96\" style=\"stroke: #383838; stroke-width: 1.0;\"/><text fill=\"#000000\" font-family=\"sans-serif\" font-size=\"13\" lengthAdjust=\"spacingAndGlyphs\" textLength=\"73\" x=\"191\" y=\"130.0669\">«objective»</text><text fill=\"#000000\" font-family=\"sans-serif\" font-size=\"13\" lengthAdjust=\"spacingAndGlyphs\" textLength=\"7\" x=\"209.4734\" y=\"152.9673\">*</text></a><!--MD5=[f28be01b09c74f3a4d1c5f38d9800042]\n",
       "@startuml\r\n",
       "skinparam linetype ortho\r\n",
       "skinparam monochrome true\r\n",
       "skinparam classbackgroundcolor white\r\n",
       "skinparam shadowing false\r\n",
       "skinparam wrapWidth 300\r\n",
       "hide circle\r\n",
       "\r\n",
       "package \"VerificationTest\" as E1  [[psysml:7303dfcd-df1a-4034-bc74-eb93457ec7c0 ]]  {\r\n",
       "comp def \"V\" as E2  <<(T,blue) part def>> [[psysml:ee2cd088-4b38-485a-bdcf-f034eebaa933 ]] {\r\n",
       "}\r\n",
       "comp usage \"vv: V\" as E3  <<(T,blue) part>> [[psysml:ea23779d-7b91-41e0-a4d1-5f0745e774d2 ]] {\r\n",
       "}\r\n",
       "comp def \"R\" as E4  <<(T,blue) requirement def>> [[psysml:971e85b9-9957-4674-90a7-be3bf98856c5 ]] {\r\n",
       "...\r\n",
       "- -\r\n",
       "}\r\n",
       "comp usage \"r: R\" as E5  <<(T,blue) requirement>> [[psysml:bbcd2223-85a4-4701-a24f-5592c5712336 ]] {\r\n",
       "}\r\n",
       "comp def \"VerificationCase\" as E6  <<(T,blue) verificationCase def>> [[psysml:f44943ce-87bd-4d2b-91db-f66bd879bf72 ]] {\r\n",
       "}\r\n",
       "comp usage \"obj\" as E7  <<(T,blue) requirement>> [[psysml:c1b61795-7b30-4440-a267-41d24baf94c2 ]] {\r\n",
       "- - requirements - -\r\n",
       "<b>require</b> : R\r\n",
       "}\r\n",
       "comp def \"VerificationPlan\" as E9  <<(T,blue) verificationCase def>> [[psysml:109e665d-9569-4e28-8454-db86a3b7365b ]] {\r\n",
       "}\r\n",
       "comp usage \"obj\" as E10  <<(T,blue) requirement>> [[psysml:7031c3a4-5568-406f-9713-a580e51688a6 ]] {\r\n",
       "- - requirements - -\r\n",
       "<b>require</b> r\r\n",
       "}\r\n",
       "comp usage \"verificationContext\" as E12  <<(T,blue) part>> [[psysml:1ba0f1fa-2142-46f9-b759-d2e88bd368a2 ]] {\r\n",
       "}\r\n",
       "}\r\n",
       "E3 - -:|> E2 [[psysml:2b222a15-a90b-432a-993d-d339516ea993 ]] \r\n",
       "E5 - -:|> E4 [[psysml:4afeeb28-a204-4e17-a080-31f9a6d380ec ]] \r\n",
       "E6 ..> E2 [[psysml:0a65a73b-aad1-46f6-97e3-b503c188383c ]] : <<subject>>\r\n",
       "E6 - ->> \"*\"E7 [[psysml:ca392d64-6b44-4e33-bff2-bf36fcd3e380 ]] : <<objective>>\r\n",
       "E9 ..> E2 [[psysml:e35a8663-5a9e-49b1-9953-8d2b3225b6ac ]] : <<subject>>\r\n",
       "E9 - ->> \"*\"E10 [[psysml:a2e94b2d-09ed-4b49-b784-abde9df75390 ]] : <<objective>>\r\n",
       "@enduml\r\n",
       "\n",
       "PlantUML version 1.2020.13(Sat Jun 13 12:26:38 UTC 2020)\n",
       "(EPL source distribution)\n",
       "Java Runtime: OpenJDK Runtime Environment\n",
       "JVM: OpenJDK 64-Bit Server VM\n",
       "Default Encoding: UTF-8\n",
       "Language: en\n",
       "Country: null\n",
       "--></g></svg>"
      ]
     },
     "execution_count": 52,
     "metadata": {},
     "output_type": "execute_result"
    }
   ],
   "source": [
    "%viz --style=\"ORTHOLINE\" --view=\"Tree\" \"VerificationTest\""
   ]
  },
  {
   "cell_type": "code",
   "execution_count": 53,
   "id": "68892080",
   "metadata": {
    "execution": {
     "iopub.execute_input": "2021-10-03T08:26:51.387894Z",
     "iopub.status.busy": "2021-10-03T08:26:51.387455Z",
     "iopub.status.idle": "2021-10-03T08:26:51.392573Z",
     "shell.execute_reply": "2021-10-03T08:26:51.392227Z"
    }
   },
   "outputs": [
    {
     "data": {
      "image/svg+xml": [
       "<?xml version=\"1.0\" encoding=\"UTF-8\" standalone=\"no\"?><svg xmlns=\"http://www.w3.org/2000/svg\" xmlns:xlink=\"http://www.w3.org/1999/xlink\" contentScriptType=\"application/ecmascript\" contentStyleType=\"text/css\" height=\"12px\" preserveAspectRatio=\"none\" style=\"width:12px;height:12px;\" version=\"1.1\" viewBox=\"0 0 12 12\" width=\"12px\" zoomAndPan=\"magnify\"><defs/><g><!--MD5=[97d6f38768b311333d388e66b2b27985]\n",
       "@startuml\r\n",
       "skinparam linetype ortho\r\n",
       "skinparam monochrome true\r\n",
       "skinparam classbackgroundcolor white\r\n",
       "skinparam shadowing false\r\n",
       "skinparam wrapWidth 300\r\n",
       "hide circle\r\n",
       "\r\n",
       "@enduml\r\n",
       "\n",
       "PlantUML version 1.2020.13(Sat Jun 13 12:26:38 UTC 2020)\n",
       "(EPL source distribution)\n",
       "Java Runtime: OpenJDK Runtime Environment\n",
       "JVM: OpenJDK 64-Bit Server VM\n",
       "Default Encoding: UTF-8\n",
       "Language: en\n",
       "Country: null\n",
       "--></g></svg>"
      ]
     },
     "execution_count": 53,
     "metadata": {},
     "output_type": "execute_result"
    }
   ],
   "source": [
    "%viz --style=\"ORTHOLINE\" --view=\"State\" \"VerificationTest\""
   ]
  },
  {
   "cell_type": "code",
   "execution_count": 54,
   "id": "8030a04f",
   "metadata": {
    "execution": {
     "iopub.execute_input": "2021-10-03T08:26:51.441777Z",
     "iopub.status.busy": "2021-10-03T08:26:51.441387Z",
     "iopub.status.idle": "2021-10-03T08:26:51.492197Z",
     "shell.execute_reply": "2021-10-03T08:26:51.490005Z"
    }
   },
   "outputs": [
    {
     "data": {
      "image/svg+xml": [
       "<?xml version=\"1.0\" encoding=\"UTF-8\" standalone=\"no\"?><svg xmlns=\"http://www.w3.org/2000/svg\" xmlns:xlink=\"http://www.w3.org/1999/xlink\" contentScriptType=\"application/ecmascript\" contentStyleType=\"text/css\" height=\"436px\" preserveAspectRatio=\"none\" style=\"width:1278px;height:436px;\" version=\"1.1\" viewBox=\"0 0 1278 436\" width=\"1278px\" zoomAndPan=\"magnify\"><defs/><g><!--MD5=[fbc87193dbaf4d95561dea2c320d4a47]\n",
       "cluster E1--><a href=\"psysml:7303dfcd-df1a-4034-bc74-eb93457ec7c0\" target=\"_top\" title=\"psysml:7303dfcd-df1a-4034-bc74-eb93457ec7c0\" xlink:actuate=\"onRequest\" xlink:href=\"psysml:7303dfcd-df1a-4034-bc74-eb93457ec7c0\" xlink:show=\"new\" xlink:title=\"psysml:7303dfcd-df1a-4034-bc74-eb93457ec7c0\" xlink:type=\"simple\"><polygon fill=\"#FFFFFF\" points=\"16,6,128,6,135,28.2969,1256,28.2969,1256,424.36,16,424.36,16,6\" style=\"stroke: #000000; stroke-width: 1.5;\"/><line style=\"stroke: #000000; stroke-width: 1.5;\" x1=\"16\" x2=\"135\" y1=\"28.2969\" y2=\"28.2969\"/><text fill=\"#000000\" font-family=\"sans-serif\" font-size=\"14\" font-weight=\"bold\" lengthAdjust=\"spacingAndGlyphs\" textLength=\"106\" x=\"20\" y=\"20.9951\">VerificationTest</text></a><!--MD5=[14e3b0961a2654348d326746436168a1]\n",
       "cluster E6--><a href=\"psysml:f44943ce-87bd-4d2b-91db-f66bd879bf72\" target=\"_top\" title=\"psysml:f44943ce-87bd-4d2b-91db-f66bd879bf72\" xlink:actuate=\"onRequest\" xlink:href=\"psysml:f44943ce-87bd-4d2b-91db-f66bd879bf72\" xlink:show=\"new\" xlink:title=\"psysml:f44943ce-87bd-4d2b-91db-f66bd879bf72\" xlink:type=\"simple\"><rect fill=\"#FFFFFF\" height=\"218.36\" id=\"E6\" style=\"stroke: #383838; stroke-width: 1.5;\" width=\"200\" x=\"1040\" y=\"107\"/><rect fill=\"#F8F8F8\" height=\"37.9375\" style=\"stroke: #383838; stroke-width: 1.5;\" width=\"200\" x=\"1040\" y=\"107\"/><text fill=\"#000000\" font-family=\"sans-serif\" font-size=\"12\" font-style=\"italic\" lengthAdjust=\"spacingAndGlyphs\" textLength=\"137\" x=\"1071.5\" y=\"123.1387\">«verificationCase def»</text><text fill=\"#000000\" font-family=\"sans-serif\" font-size=\"12\" lengthAdjust=\"spacingAndGlyphs\" textLength=\"101\" x=\"1089.5\" y=\"137.1074\">VerificationCase</text></a><!--MD5=[7f149f147074ac12df2cb0a7728a5fb0]\n",
       "cluster E9--><a href=\"psysml:109e665d-9569-4e28-8454-db86a3b7365b\" target=\"_top\" title=\"psysml:109e665d-9569-4e28-8454-db86a3b7365b\" xlink:actuate=\"onRequest\" xlink:href=\"psysml:109e665d-9569-4e28-8454-db86a3b7365b\" xlink:show=\"new\" xlink:title=\"psysml:109e665d-9569-4e28-8454-db86a3b7365b\" xlink:type=\"simple\"><rect fill=\"#FFFFFF\" height=\"293.36\" id=\"E9\" style=\"stroke: #383838; stroke-width: 1.5;\" width=\"322\" x=\"688\" y=\"107\"/><rect fill=\"#F8F8F8\" height=\"37.9375\" style=\"stroke: #383838; stroke-width: 1.5;\" width=\"322\" x=\"688\" y=\"107\"/><text fill=\"#000000\" font-family=\"sans-serif\" font-size=\"12\" font-style=\"italic\" lengthAdjust=\"spacingAndGlyphs\" textLength=\"137\" x=\"780.5\" y=\"123.1387\">«verificationCase def»</text><text fill=\"#000000\" font-family=\"sans-serif\" font-size=\"12\" lengthAdjust=\"spacingAndGlyphs\" textLength=\"97\" x=\"800.5\" y=\"137.1074\">VerificationPlan</text></a><!--MD5=[917b9dd0c7eca3ee5f47219d1a84c0ad]\n",
       "cluster E11--><a href=\"psysml:d8eec309-4539-4ef6-b593-f8d5221313a5\" target=\"_top\" title=\"psysml:d8eec309-4539-4ef6-b593-f8d5221313a5\" xlink:actuate=\"onRequest\" xlink:href=\"psysml:d8eec309-4539-4ef6-b593-f8d5221313a5\" xlink:show=\"new\" xlink:title=\"psysml:d8eec309-4539-4ef6-b593-f8d5221313a5\" xlink:type=\"simple\"><rect fill=\"#FFFFFF\" height=\"165.86\" id=\"E11\" rx=\"10\" ry=\"10\" style=\"stroke: #383838; stroke-width: 1.5;\" width=\"174\" x=\"798\" y=\"196.5\"/><rect fill=\"#F8F8F8\" height=\"37.9375\" rx=\"10\" ry=\"10\" style=\"stroke: #F8F8F8; stroke-width: 1.5;\" width=\"174\" x=\"798\" y=\"196.5\"/><rect fill=\"#F8F8F8\" height=\"10\" style=\"stroke: #F8F8F8; stroke-width: 1.5;\" width=\"174\" x=\"798\" y=\"224.4375\"/><rect fill=\"none\" height=\"165.86\" id=\"E11\" rx=\"10\" ry=\"10\" style=\"stroke: #383838; stroke-width: 1.5;\" width=\"174\" x=\"798\" y=\"196.5\"/><text fill=\"#000000\" font-family=\"sans-serif\" font-size=\"12\" font-style=\"italic\" lengthAdjust=\"spacingAndGlyphs\" textLength=\"113\" x=\"828.5\" y=\"212.6387\">«verificationCase»</text><text fill=\"#000000\" font-family=\"sans-serif\" font-size=\"12\" lengthAdjust=\"spacingAndGlyphs\" textLength=\"99\" x=\"835.5\" y=\"226.6074\">verificationCase</text><line style=\"stroke: #383838; stroke-width: 1.0;\" x1=\"798\" x2=\"972\" y1=\"234.4375\" y2=\"234.4375\"/></a><!--MD5=[ab3548ab6224ff035c4047a4d30b7567]\n",
       "cluster E15--><a href=\"psysml:1ba0f1fa-2142-46f9-b759-d2e88bd368a2\" target=\"_top\" title=\"psysml:1ba0f1fa-2142-46f9-b759-d2e88bd368a2\" xlink:actuate=\"onRequest\" xlink:href=\"psysml:1ba0f1fa-2142-46f9-b759-d2e88bd368a2\" xlink:show=\"new\" xlink:title=\"psysml:1ba0f1fa-2142-46f9-b759-d2e88bd368a2\" xlink:type=\"simple\"><rect fill=\"#FFFFFF\" height=\"186.5\" id=\"E15\" rx=\"10\" ry=\"10\" style=\"stroke: #383838; stroke-width: 1.5;\" width=\"238\" x=\"336\" y=\"49\"/><rect fill=\"#F8F8F8\" height=\"23.9688\" rx=\"10\" ry=\"10\" style=\"stroke: #F8F8F8; stroke-width: 1.5;\" width=\"238\" x=\"336\" y=\"49\"/><rect fill=\"#F8F8F8\" height=\"10\" style=\"stroke: #F8F8F8; stroke-width: 1.5;\" width=\"238\" x=\"336\" y=\"62.9688\"/><rect fill=\"none\" height=\"186.5\" id=\"E15\" rx=\"10\" ry=\"10\" style=\"stroke: #383838; stroke-width: 1.5;\" width=\"238\" x=\"336\" y=\"49\"/><text fill=\"#000000\" font-family=\"sans-serif\" font-size=\"12\" lengthAdjust=\"spacingAndGlyphs\" textLength=\"116\" x=\"397\" y=\"65.1387\">verificationContext</text><line style=\"stroke: #383838; stroke-width: 1.0;\" x1=\"336\" x2=\"574\" y1=\"72.9688\" y2=\"72.9688\"/></a><!--MD5=[ebbe1d658d1005bcc118a6aa81145e00]\n",
       "class E4--><a href=\"psysml:971e85b9-9957-4674-90a7-be3bf98856c5\" target=\"_top\" title=\"psysml:971e85b9-9957-4674-90a7-be3bf98856c5\" xlink:actuate=\"onRequest\" xlink:href=\"psysml:971e85b9-9957-4674-90a7-be3bf98856c5\" xlink:show=\"new\" xlink:title=\"psysml:971e85b9-9957-4674-90a7-be3bf98856c5\" xlink:type=\"simple\"><rect fill=\"#FFFFFF\" height=\"66.7422\" id=\"E4\" style=\"stroke: #383838; stroke-width: 1.5;\" width=\"117\" x=\"202.5\" y=\"163\"/><text fill=\"#000000\" font-family=\"sans-serif\" font-size=\"12\" font-style=\"italic\" lengthAdjust=\"spacingAndGlyphs\" textLength=\"115\" x=\"203.5\" y=\"179.1387\">«requirement def»</text><text fill=\"#000000\" font-family=\"sans-serif\" font-size=\"12\" lengthAdjust=\"spacingAndGlyphs\" textLength=\"8\" x=\"257\" y=\"193.1074\">R</text><line style=\"stroke: #383838; stroke-width: 1.5;\" x1=\"203.5\" x2=\"318.5\" y1=\"200.9375\" y2=\"200.9375\"/><text fill=\"#000000\" font-family=\"sans-serif\" font-size=\"11\" lengthAdjust=\"spacingAndGlyphs\" textLength=\"12\" x=\"208.5\" y=\"215.1479\">...</text><line style=\"stroke: #383838; stroke-width: 1.0;\" x1=\"203.5\" x2=\"318.5\" y1=\"221.7422\" y2=\"221.7422\"/></a><!--MD5=[270fce915f116d4de14055a7c1d9a0f3]\n",
       "class E5--><a href=\"psysml:bbcd2223-85a4-4701-a24f-5592c5712336\" target=\"_top\" title=\"psysml:bbcd2223-85a4-4701-a24f-5592c5712336\" xlink:actuate=\"onRequest\" xlink:href=\"psysml:bbcd2223-85a4-4701-a24f-5592c5712336\" xlink:show=\"new\" xlink:title=\"psysml:bbcd2223-85a4-4701-a24f-5592c5712336\" xlink:type=\"simple\"><rect fill=\"#FFFFFF\" height=\"45.9375\" id=\"E5\" rx=\"10\" ry=\"10\" style=\"stroke: #383838; stroke-width: 1.5;\" width=\"93\" x=\"223.5\" y=\"84\"/><text fill=\"#000000\" font-family=\"sans-serif\" font-size=\"12\" font-style=\"italic\" lengthAdjust=\"spacingAndGlyphs\" textLength=\"91\" x=\"224.5\" y=\"100.1387\">«requirement»</text><text fill=\"#000000\" font-family=\"sans-serif\" font-size=\"12\" lengthAdjust=\"spacingAndGlyphs\" textLength=\"21\" x=\"259.5\" y=\"114.1074\">r: R</text><line style=\"stroke: #383838; stroke-width: 1.5;\" x1=\"224.5\" x2=\"315.5\" y1=\"121.9375\" y2=\"121.9375\"/></a><g id=\"E1.E2\"><a href=\"psysml:ee2cd088-4b38-485a-bdcf-f034eebaa933\" target=\"_top\" title=\"psysml:ee2cd088-4b38-485a-bdcf-f034eebaa933\" xlink:actuate=\"onRequest\" xlink:href=\"psysml:ee2cd088-4b38-485a-bdcf-f034eebaa933\" xlink:show=\"new\" xlink:title=\"psysml:ee2cd088-4b38-485a-bdcf-f034eebaa933\" xlink:type=\"simple\"><rect fill=\"#FFFFFF\" height=\"42.9375\" id=\"E2\" style=\"stroke: #383838; stroke-width: 1.5;\" width=\"71\" x=\"117.5\" y=\"85.5\"/><rect fill=\"#F8F8F8\" height=\"37.9375\" style=\"stroke: #383838; stroke-width: 1.5;\" width=\"71\" x=\"117.5\" y=\"85.5\"/><text fill=\"#000000\" font-family=\"sans-serif\" font-size=\"12\" font-style=\"italic\" lengthAdjust=\"spacingAndGlyphs\" textLength=\"64\" x=\"121\" y=\"101.6387\">«part def»</text><text fill=\"#000000\" font-family=\"sans-serif\" font-size=\"12\" lengthAdjust=\"spacingAndGlyphs\" textLength=\"8\" x=\"149\" y=\"115.6074\">V</text></a></g><g id=\"E1.E3\"><a href=\"psysml:ea23779d-7b91-41e0-a4d1-5f0745e774d2\" target=\"_top\" title=\"psysml:ea23779d-7b91-41e0-a4d1-5f0745e774d2\" xlink:actuate=\"onRequest\" xlink:href=\"psysml:ea23779d-7b91-41e0-a4d1-5f0745e774d2\" xlink:show=\"new\" xlink:title=\"psysml:ea23779d-7b91-41e0-a4d1-5f0745e774d2\" xlink:type=\"simple\"><rect fill=\"#FFFFFF\" height=\"40\" id=\"E3\" rx=\"10\" ry=\"10\" style=\"stroke: #383838; stroke-width: 1.5;\" width=\"50\" x=\"32\" y=\"87\"/><rect fill=\"#F8F8F8\" height=\"23.9688\" rx=\"10\" ry=\"10\" style=\"stroke: #F8F8F8; stroke-width: 1.5;\" width=\"50\" x=\"32\" y=\"87\"/><rect fill=\"#F8F8F8\" height=\"10\" style=\"stroke: #F8F8F8; stroke-width: 1.5;\" width=\"50\" x=\"32\" y=\"100.9688\"/><rect fill=\"none\" height=\"40\" id=\"E3\" rx=\"10\" ry=\"10\" style=\"stroke: #383838; stroke-width: 1.5;\" width=\"50\" x=\"32\" y=\"87\"/><text fill=\"#000000\" font-family=\"sans-serif\" font-size=\"12\" lengthAdjust=\"spacingAndGlyphs\" textLength=\"28\" x=\"43\" y=\"103.1387\">vv: V</text></a></g><text fill=\"#000000\" font-family=\"sans-serif\" font-size=\"14\" lengthAdjust=\"spacingAndGlyphs\" textLength=\"7\" x=\"1136.5\" y=\"85.6982\">v</text><rect fill=\"#383838\" height=\"12\" style=\"stroke: #F8F8F8; stroke-width: 1.5;\" width=\"12\" x=\"1134\" y=\"101\"/><text fill=\"#000000\" font-family=\"sans-serif\" font-size=\"14\" lengthAdjust=\"spacingAndGlyphs\" textLength=\"46\" x=\"1117\" y=\"344.3551\">verdict</text><rect fill=\"#383838\" height=\"12\" style=\"stroke: #F8F8F8; stroke-width: 1.5;\" width=\"12\" x=\"1134\" y=\"319.36\"/><text fill=\"#000000\" font-family=\"sans-serif\" font-size=\"14\" lengthAdjust=\"spacingAndGlyphs\" textLength=\"7\" x=\"702.5\" y=\"85.6982\">v</text><rect fill=\"#383838\" height=\"12\" style=\"stroke: #F8F8F8; stroke-width: 1.5;\" width=\"12\" x=\"700\" y=\"101\"/><text fill=\"#000000\" font-family=\"sans-serif\" font-size=\"14\" lengthAdjust=\"spacingAndGlyphs\" textLength=\"46\" x=\"987\" y=\"344.3551\">verdict</text><rect fill=\"#383838\" height=\"12\" style=\"stroke: #F8F8F8; stroke-width: 1.5;\" width=\"12\" x=\"1004\" y=\"319.36\"/><text fill=\"#000000\" font-family=\"sans-serif\" font-size=\"14\" lengthAdjust=\"spacingAndGlyphs\" textLength=\"46\" x=\"862\" y=\"381.3551\">verdict</text><rect fill=\"#383838\" height=\"12\" style=\"stroke: #F8F8F8; stroke-width: 1.5;\" width=\"12\" x=\"879\" y=\"356.36\"/><text fill=\"#000000\" font-family=\"sans-serif\" font-size=\"14\" lengthAdjust=\"spacingAndGlyphs\" textLength=\"7\" x=\"881.5\" y=\"175.1982\">v</text><rect fill=\"#383838\" height=\"12\" style=\"stroke: #F8F8F8; stroke-width: 1.5;\" width=\"12\" x=\"879\" y=\"190.5\"/><!--MD5=[35f0587eaee8d5bb9a02e25b63afc23b]\n",
       "class E16--><a href=\"psysml:f139e62b-7bf9-43a0-a382-40038ed35c63\" target=\"_top\" title=\"psysml:f139e62b-7bf9-43a0-a382-40038ed35c63\" xlink:actuate=\"onRequest\" xlink:href=\"psysml:f139e62b-7bf9-43a0-a382-40038ed35c63\" xlink:show=\"new\" xlink:title=\"psysml:f139e62b-7bf9-43a0-a382-40038ed35c63\" xlink:type=\"simple\"><rect fill=\"#FFFFFF\" height=\"45.9375\" id=\"E16\" rx=\"10\" ry=\"10\" style=\"stroke: #383838; stroke-width: 1.5;\" width=\"206\" x=\"352\" y=\"84\"/><text fill=\"#000000\" font-family=\"sans-serif\" font-size=\"12\" font-style=\"italic\" lengthAdjust=\"spacingAndGlyphs\" textLength=\"113\" x=\"398.5\" y=\"100.1387\">«verificationCase»</text><text fill=\"#000000\" font-family=\"sans-serif\" font-size=\"12\" lengthAdjust=\"spacingAndGlyphs\" textLength=\"200\" x=\"355\" y=\"114.1074\">verificationPlan: VerificationPlan</text><line style=\"stroke: #383838; stroke-width: 1.5;\" x1=\"353\" x2=\"557\" y1=\"121.9375\" y2=\"121.9375\"/></a><!--MD5=[60e55a4a9b2f0dc0a36787c5a2095786]\n",
       "class E17--><a href=\"psysml:fe640fc2-093c-44fe-a9fd-0ceecb8f463c\" target=\"_top\" title=\"psysml:fe640fc2-093c-44fe-a9fd-0ceecb8f463c\" xlink:actuate=\"onRequest\" xlink:href=\"psysml:fe640fc2-093c-44fe-a9fd-0ceecb8f463c\" xlink:show=\"new\" xlink:title=\"psysml:fe640fc2-093c-44fe-a9fd-0ceecb8f463c\" xlink:type=\"simple\"><rect fill=\"#FFFFFF\" height=\"45.9375\" id=\"E17\" rx=\"10\" ry=\"10\" style=\"stroke: #383838; stroke-width: 1.5;\" width=\"93\" x=\"408.5\" y=\"173.5\"/><text fill=\"#000000\" font-family=\"sans-serif\" font-size=\"12\" font-style=\"italic\" lengthAdjust=\"spacingAndGlyphs\" textLength=\"91\" x=\"409.5\" y=\"189.6387\">«requirement»</text><text fill=\"#000000\" font-family=\"sans-serif\" font-size=\"12\" lengthAdjust=\"spacingAndGlyphs\" textLength=\"19\" x=\"445.5\" y=\"203.6074\">obj</text><line style=\"stroke: #383838; stroke-width: 1.5;\" x1=\"409.5\" x2=\"500.5\" y1=\"211.4375\" y2=\"211.4375\"/></a><!--MD5=[1c62de2aa5b76f0fb657ff8443a1a700]\n",
       "link E5 to E4--><a href=\"psysml:4afeeb28-a204-4e17-a080-31f9a6d380ec\" target=\"_top\" title=\"psysml:4afeeb28-a204-4e17-a080-31f9a6d380ec\" xlink:actuate=\"onRequest\" xlink:href=\"psysml:4afeeb28-a204-4e17-a080-31f9a6d380ec\" xlink:show=\"new\" xlink:title=\"psysml:4afeeb28-a204-4e17-a080-31f9a6d380ec\" xlink:type=\"simple\"><path d=\"M270,130.05 C270,130.05 270,142.73 270,142.73 \" fill=\"none\" id=\"E5-&gt;E4\" style=\"stroke: #383838; stroke-width: 1.0;\"/><polygon fill=\"#FFFFFF\" points=\"270,162.73,263,143.73,277,143.73,270,162.73\" style=\"stroke: #383838; stroke-width: 1.0;\"/><ellipse cx=\"265\" cy=\"138.03\" fill=\"#383838\" rx=\"2\" ry=\"2\" style=\"stroke: #383838; stroke-width: 1.0;\"/><ellipse cx=\"275\" cy=\"138.03\" fill=\"#383838\" rx=\"2\" ry=\"2\" style=\"stroke: #383838; stroke-width: 1.0;\"/></a><!--MD5=[4de2d328c39b6d65fb95a84ef336270e]\n",
       "link E16 to E9--><a href=\"psysml:cd73bb42-520f-4e04-8240-7f040abbe442\" target=\"_top\" title=\"psysml:cd73bb42-520f-4e04-8240-7f040abbe442\" xlink:actuate=\"onRequest\" xlink:href=\"psysml:cd73bb42-520f-4e04-8240-7f040abbe442\" xlink:show=\"new\" xlink:title=\"psysml:cd73bb42-520f-4e04-8240-7f040abbe442\" xlink:type=\"simple\"><path d=\"M529.75,130.27 C529.75,157.04 529.75,197.36 529.75,197.36 C529.75,197.36 576.43,197.36 621.75,197.36 \" fill=\"none\" id=\"E16-&gt;E9\" style=\"stroke: #383838; stroke-width: 1.0;\"/><polygon fill=\"#FFFFFF\" points=\"621.75,197.36,602.75,204.36,602.75,190.36,621.75,197.36\" style=\"stroke: #383838; stroke-width: 1.0;\"/><ellipse cx=\"597.05\" cy=\"202.36\" fill=\"#383838\" rx=\"2\" ry=\"2\" style=\"stroke: #383838; stroke-width: 1.0;\"/><ellipse cx=\"597.05\" cy=\"192.36\" fill=\"#383838\" rx=\"2\" ry=\"2\" style=\"stroke: #383838; stroke-width: 1.0;\"/></a><!--MD5=[450e3481f1c83a03a55fcf78b0bbbde6]\n",
       "link E16 to E17--><a href=\"psysml:e29f10bd-d5bc-4797-97ab-a37fb0e5db5b\" target=\"_top\" title=\"psysml:e29f10bd-d5bc-4797-97ab-a37fb0e5db5b\" xlink:actuate=\"onRequest\" xlink:href=\"psysml:e29f10bd-d5bc-4797-97ab-a37fb0e5db5b\" xlink:show=\"new\" xlink:title=\"psysml:e29f10bd-d5bc-4797-97ab-a37fb0e5db5b\" xlink:type=\"simple\"><path d=\"M455,130.05 C455,130.05 455,165.22 455,165.22 \" fill=\"none\" id=\"E16-&gt;E17\" style=\"stroke: #383838; stroke-width: 1.0;\"/><polygon fill=\"#383838\" points=\"455,173.22,458,165.22,452,165.22,455,173.22\" style=\"stroke: #383838; stroke-width: 1.0;\"/><text fill=\"#000000\" font-family=\"sans-serif\" font-size=\"13\" lengthAdjust=\"spacingAndGlyphs\" textLength=\"73\" x=\"456\" y=\"151.0669\">«objective»</text><text fill=\"#000000\" font-family=\"sans-serif\" font-size=\"13\" lengthAdjust=\"spacingAndGlyphs\" textLength=\"7\" x=\"447.1031\" y=\"162.4245\">*</text></a><!--MD5=[6047b4e99de8eb37ef7d0808ed6d77ff]\n",
       "@startuml\r\n",
       "skinparam ranksep 10\r\n",
       "skinparam rectangle {\r\n",
       " backgroundColor<<block>> LightGreen\r\n",
       "}\r\n",
       "skinparam linetype ortho\r\n",
       "skinparam monochrome true\r\n",
       "skinparam classbackgroundcolor white\r\n",
       "skinparam shadowing false\r\n",
       "skinparam wrapWidth 300\r\n",
       "hide circle\r\n",
       "\r\n",
       "package \"VerificationTest\" as E1  [[psysml:7303dfcd-df1a-4034-bc74-eb93457ec7c0 ]]  {\r\n",
       "rec def \"V\" as E2  <<(T,blue) part def>> [[psysml:ee2cd088-4b38-485a-bdcf-f034eebaa933 ]] {\r\n",
       "}\r\n",
       "rec usage \"vv: V\" as E3  [[psysml:ea23779d-7b91-41e0-a4d1-5f0745e774d2 ]] {\r\n",
       "}\r\n",
       "comp def \"R\" as E4  <<(T,blue) requirement def>> [[psysml:971e85b9-9957-4674-90a7-be3bf98856c5 ]] {\r\n",
       "...\r\n",
       "- -\r\n",
       "}\r\n",
       "comp usage \"r: R\" as E5  <<(T,blue) requirement>> [[psysml:bbcd2223-85a4-4701-a24f-5592c5712336 ]] {\r\n",
       "}\r\n",
       "rec def \"VerificationCase\" as E6  <<(T,blue) verificationCase def>> [[psysml:f44943ce-87bd-4d2b-91db-f66bd879bf72 ]] {\r\n",
       "portin \"v\" as E7  [[psysml:39e4c68a-7e48-4018-a595-005447bc25d1 ]] \r\n",
       "portout \"verdict\" as E8  [[psysml:e7480a5a-bc03-4bfb-926c-ff77790341ab ]] \r\n",
       "}\r\n",
       "\r\n",
       "rec def \"VerificationPlan\" as E9  <<(T,blue) verificationCase def>> [[psysml:109e665d-9569-4e28-8454-db86a3b7365b ]] {\r\n",
       "portin \"v\" as E10  [[psysml:bc04aa0f-1251-4bd1-9492-821de83ad0f4 ]] \r\n",
       "rec usage \"verificationCase\" as E11  <<(T,blue) verificationCase>> [[psysml:d8eec309-4539-4ef6-b593-f8d5221313a5 ]] {\r\n",
       "portout \"verdict\" as E12  [[psysml:d4b19012-2d8f-412c-81cb-04106ed54ab9 ]] \r\n",
       "portin \"v\" as E13  [[psysml:101691aa-2b16-4439-bb49-3b5a9750b72a ]] \r\n",
       "}\r\n",
       "\r\n",
       "portout \"verdict\" as E14  [[psysml:d1cc474d-a7ae-4245-8f3b-eac2c389ad3d ]] \r\n",
       "}\r\n",
       "\r\n",
       "rec usage \"verificationContext\" as E15  [[psysml:1ba0f1fa-2142-46f9-b759-d2e88bd368a2 ]] {\r\n",
       "comp usage \"verificationPlan: VerificationPlan\" as E16  <<(T,blue) verificationCase>> [[psysml:f139e62b-7bf9-43a0-a382-40038ed35c63 ]] {\r\n",
       "}\r\n",
       "comp usage \"obj\" as E17  <<(T,blue) requirement>> [[psysml:fe640fc2-093c-44fe-a9fd-0ceecb8f463c ]] {\r\n",
       "}\r\n",
       "}\r\n",
       "}\r\n",
       "E5 - -:|> E4 [[psysml:4afeeb28-a204-4e17-a080-31f9a6d380ec ]] \r\n",
       "E16 - -:|> E9 [[psysml:cd73bb42-520f-4e04-8240-7f040abbe442 ]] \r\n",
       "E16 - ->> \"*\"E17 [[psysml:e29f10bd-d5bc-4797-97ab-a37fb0e5db5b ]] : <<objective>>\r\n",
       "@enduml\r\n",
       "\n",
       "PlantUML version 1.2020.13(Sat Jun 13 12:26:38 UTC 2020)\n",
       "(EPL source distribution)\n",
       "Java Runtime: OpenJDK Runtime Environment\n",
       "JVM: OpenJDK 64-Bit Server VM\n",
       "Default Encoding: UTF-8\n",
       "Language: en\n",
       "Country: null\n",
       "--></g></svg>"
      ]
     },
     "execution_count": 54,
     "metadata": {},
     "output_type": "execute_result"
    }
   ],
   "source": [
    "%viz --style=\"ORTHOLINE\" --view=\"Interconnection\" \"VerificationTest\""
   ]
  },
  {
   "cell_type": "code",
   "execution_count": 55,
   "id": "47e6b13e",
   "metadata": {
    "execution": {
     "iopub.execute_input": "2021-10-03T08:26:51.540684Z",
     "iopub.status.busy": "2021-10-03T08:26:51.540267Z",
     "iopub.status.idle": "2021-10-03T08:26:51.576579Z",
     "shell.execute_reply": "2021-10-03T08:26:51.574868Z"
    }
   },
   "outputs": [
    {
     "data": {
      "image/svg+xml": [
       "<?xml version=\"1.0\" encoding=\"UTF-8\" standalone=\"no\"?><svg xmlns=\"http://www.w3.org/2000/svg\" xmlns:xlink=\"http://www.w3.org/1999/xlink\" contentScriptType=\"application/ecmascript\" contentStyleType=\"text/css\" height=\"233px\" preserveAspectRatio=\"none\" style=\"width:835px;height:233px;\" version=\"1.1\" viewBox=\"0 0 835 233\" width=\"835px\" zoomAndPan=\"magnify\"><defs/><g><!--MD5=[fbc87193dbaf4d95561dea2c320d4a47]\n",
       "cluster E1--><a href=\"psysml:f44943ce-87bd-4d2b-91db-f66bd879bf72\" target=\"_top\" title=\"psysml:f44943ce-87bd-4d2b-91db-f66bd879bf72\" xlink:actuate=\"onRequest\" xlink:href=\"psysml:f44943ce-87bd-4d2b-91db-f66bd879bf72\" xlink:show=\"new\" xlink:title=\"psysml:f44943ce-87bd-4d2b-91db-f66bd879bf72\" xlink:type=\"simple\"><rect fill=\"#FFFFFF\" height=\"122\" id=\"E1\" style=\"stroke: #383838; stroke-width: 1.5;\" width=\"200\" x=\"7\" y=\"42.0986\"/><rect fill=\"#F8F8F8\" height=\"37.9375\" style=\"stroke: #383838; stroke-width: 1.5;\" width=\"200\" x=\"7\" y=\"42.0986\"/><text fill=\"#000000\" font-family=\"sans-serif\" font-size=\"12\" font-style=\"italic\" lengthAdjust=\"spacingAndGlyphs\" textLength=\"137\" x=\"38.5\" y=\"58.2373\">«verificationCase def»</text><text fill=\"#000000\" font-family=\"sans-serif\" font-size=\"12\" lengthAdjust=\"spacingAndGlyphs\" textLength=\"101\" x=\"56.5\" y=\"72.2061\">VerificationCase</text></a><!--MD5=[f6df4d0ebaf0b5dfb2ced0ae5af7c670]\n",
       "cluster E4--><a href=\"psysml:109e665d-9569-4e28-8454-db86a3b7365b\" target=\"_top\" title=\"psysml:109e665d-9569-4e28-8454-db86a3b7365b\" xlink:actuate=\"onRequest\" xlink:href=\"psysml:109e665d-9569-4e28-8454-db86a3b7365b\" xlink:show=\"new\" xlink:title=\"psysml:109e665d-9569-4e28-8454-db86a3b7365b\" xlink:type=\"simple\"><rect fill=\"#FFFFFF\" height=\"180\" id=\"E4\" style=\"stroke: #383838; stroke-width: 1.5;\" width=\"325\" x=\"297\" y=\"42.0986\"/><rect fill=\"#F8F8F8\" height=\"37.9375\" style=\"stroke: #383838; stroke-width: 1.5;\" width=\"325\" x=\"297\" y=\"42.0986\"/><text fill=\"#000000\" font-family=\"sans-serif\" font-size=\"12\" font-style=\"italic\" lengthAdjust=\"spacingAndGlyphs\" textLength=\"137\" x=\"391\" y=\"58.2373\">«verificationCase def»</text><text fill=\"#000000\" font-family=\"sans-serif\" font-size=\"12\" lengthAdjust=\"spacingAndGlyphs\" textLength=\"97\" x=\"411\" y=\"72.2061\">VerificationPlan</text></a><!--MD5=[14e3b0961a2654348d326746436168a1]\n",
       "cluster E6--><a href=\"psysml:d8eec309-4539-4ef6-b593-f8d5221313a5\" target=\"_top\" title=\"psysml:d8eec309-4539-4ef6-b593-f8d5221313a5\" xlink:actuate=\"onRequest\" xlink:href=\"psysml:d8eec309-4539-4ef6-b593-f8d5221313a5\" xlink:show=\"new\" xlink:title=\"psysml:d8eec309-4539-4ef6-b593-f8d5221313a5\" xlink:type=\"simple\"><rect fill=\"#FFFFFF\" height=\"110.5\" id=\"E6\" rx=\"10\" ry=\"10\" style=\"stroke: #383838; stroke-width: 1.5;\" width=\"174\" x=\"407\" y=\"81.5986\"/><rect fill=\"#F8F8F8\" height=\"37.9375\" rx=\"10\" ry=\"10\" style=\"stroke: #F8F8F8; stroke-width: 1.5;\" width=\"174\" x=\"407\" y=\"81.5986\"/><rect fill=\"#F8F8F8\" height=\"10\" style=\"stroke: #F8F8F8; stroke-width: 1.5;\" width=\"174\" x=\"407\" y=\"109.5361\"/><rect fill=\"none\" height=\"110.5\" id=\"E6\" rx=\"10\" ry=\"10\" style=\"stroke: #383838; stroke-width: 1.5;\" width=\"174\" x=\"407\" y=\"81.5986\"/><text fill=\"#000000\" font-family=\"sans-serif\" font-size=\"12\" font-style=\"italic\" lengthAdjust=\"spacingAndGlyphs\" textLength=\"113\" x=\"437.5\" y=\"97.7373\">«verificationCase»</text><text fill=\"#000000\" font-family=\"sans-serif\" font-size=\"12\" lengthAdjust=\"spacingAndGlyphs\" textLength=\"99\" x=\"444.5\" y=\"111.7061\">verificationCase</text><line style=\"stroke: #383838; stroke-width: 1.0;\" x1=\"407\" x2=\"581\" y1=\"119.5361\" y2=\"119.5361\"/></a><!--MD5=[a84b4591f868c1fa4a211716a82f2f0d]\n",
       "cluster E10--><a href=\"psysml:f139e62b-7bf9-43a0-a382-40038ed35c63\" target=\"_top\" title=\"psysml:f139e62b-7bf9-43a0-a382-40038ed35c63\" xlink:actuate=\"onRequest\" xlink:href=\"psysml:f139e62b-7bf9-43a0-a382-40038ed35c63\" xlink:show=\"new\" xlink:title=\"psysml:f139e62b-7bf9-43a0-a382-40038ed35c63\" xlink:type=\"simple\"><rect fill=\"#FFFFFF\" height=\"122\" id=\"E10\" rx=\"10\" ry=\"10\" style=\"stroke: #383838; stroke-width: 1.5;\" width=\"172\" x=\"651\" y=\"42.0986\"/><rect fill=\"#F8F8F8\" height=\"37.9375\" rx=\"10\" ry=\"10\" style=\"stroke: #F8F8F8; stroke-width: 1.5;\" width=\"172\" x=\"651\" y=\"42.0986\"/><rect fill=\"#F8F8F8\" height=\"10\" style=\"stroke: #F8F8F8; stroke-width: 1.5;\" width=\"172\" x=\"651\" y=\"70.0361\"/><rect fill=\"none\" height=\"122\" id=\"E10\" rx=\"10\" ry=\"10\" style=\"stroke: #383838; stroke-width: 1.5;\" width=\"172\" x=\"651\" y=\"42.0986\"/><text fill=\"#000000\" font-family=\"sans-serif\" font-size=\"12\" font-style=\"italic\" lengthAdjust=\"spacingAndGlyphs\" textLength=\"113\" x=\"680.5\" y=\"58.2373\">«verificationCase»</text><text fill=\"#000000\" font-family=\"sans-serif\" font-size=\"12\" lengthAdjust=\"spacingAndGlyphs\" textLength=\"95\" x=\"689.5\" y=\"72.2061\">verificationPlan</text><line style=\"stroke: #383838; stroke-width: 1.0;\" x1=\"651\" x2=\"823\" y1=\"80.0361\" y2=\"80.0361\"/></a><text fill=\"#000000\" font-family=\"sans-serif\" font-size=\"14\" lengthAdjust=\"spacingAndGlyphs\" textLength=\"7\" x=\"103.5\" y=\"20.7969\">v</text><rect fill=\"#383838\" height=\"12\" style=\"stroke: #F8F8F8; stroke-width: 1.5;\" width=\"12\" x=\"101\" y=\"36.0986\"/><text fill=\"#000000\" font-family=\"sans-serif\" font-size=\"14\" lengthAdjust=\"spacingAndGlyphs\" textLength=\"46\" x=\"84\" y=\"183.0938\">verdict</text><rect fill=\"#383838\" height=\"12\" style=\"stroke: #F8F8F8; stroke-width: 1.5;\" width=\"12\" x=\"101\" y=\"158.0986\"/><text fill=\"#000000\" font-family=\"sans-serif\" font-size=\"14\" lengthAdjust=\"spacingAndGlyphs\" textLength=\"7\" x=\"311.5\" y=\"20.7969\">v</text><rect fill=\"#383838\" height=\"12\" style=\"stroke: #F8F8F8; stroke-width: 1.5;\" width=\"12\" x=\"309\" y=\"36.0986\"/><text fill=\"#000000\" font-family=\"sans-serif\" font-size=\"14\" lengthAdjust=\"spacingAndGlyphs\" textLength=\"46\" x=\"599\" y=\"183.0938\">verdict</text><rect fill=\"#383838\" height=\"12\" style=\"stroke: #F8F8F8; stroke-width: 1.5;\" width=\"12\" x=\"616\" y=\"158.0986\"/><text fill=\"#000000\" font-family=\"sans-serif\" font-size=\"14\" lengthAdjust=\"spacingAndGlyphs\" textLength=\"46\" x=\"471\" y=\"211.0938\">verdict</text><rect fill=\"#383838\" height=\"12\" style=\"stroke: #F8F8F8; stroke-width: 1.5;\" width=\"12\" x=\"488\" y=\"186.0986\"/><text fill=\"#000000\" font-family=\"sans-serif\" font-size=\"14\" lengthAdjust=\"spacingAndGlyphs\" textLength=\"7\" x=\"490.5\" y=\"60.2969\">v</text><rect fill=\"#383838\" height=\"12\" style=\"stroke: #F8F8F8; stroke-width: 1.5;\" width=\"12\" x=\"488\" y=\"75.5986\"/><text fill=\"#000000\" font-family=\"sans-serif\" font-size=\"14\" lengthAdjust=\"spacingAndGlyphs\" textLength=\"7\" x=\"732.5\" y=\"20.7969\">v</text><rect fill=\"#383838\" height=\"12\" style=\"stroke: #F8F8F8; stroke-width: 1.5;\" width=\"12\" x=\"730\" y=\"36.0986\"/><text fill=\"#000000\" font-family=\"sans-serif\" font-size=\"14\" lengthAdjust=\"spacingAndGlyphs\" textLength=\"46\" x=\"646\" y=\"183.0938\">verdict</text><rect fill=\"#383838\" height=\"12\" style=\"stroke: #F8F8F8; stroke-width: 1.5;\" width=\"12\" x=\"663\" y=\"158.0986\"/><!--MD5=[b173a70db208be58b969a87b55ad788e]\n",
       "@startuml\r\n",
       "skinparam ranksep 8\r\n",
       "skinparam linetype ortho\r\n",
       "skinparam monochrome true\r\n",
       "skinparam classbackgroundcolor white\r\n",
       "skinparam shadowing false\r\n",
       "skinparam wrapWidth 300\r\n",
       "hide circle\r\n",
       "\r\n",
       "rec def \"VerificationCase\" as E1  <<(T,blue) verificationCase def>> [[psysml:f44943ce-87bd-4d2b-91db-f66bd879bf72 ]] {\r\n",
       "portin \"v\" as E2  [[psysml:39e4c68a-7e48-4018-a595-005447bc25d1 ]] \r\n",
       "portout \"verdict\" as E3  [[psysml:e7480a5a-bc03-4bfb-926c-ff77790341ab ]] \r\n",
       "}\r\n",
       "\r\n",
       "rec def \"VerificationPlan\" as E4  <<(T,blue) verificationCase def>> [[psysml:109e665d-9569-4e28-8454-db86a3b7365b ]] {\r\n",
       "portin \"v\" as E5  [[psysml:bc04aa0f-1251-4bd1-9492-821de83ad0f4 ]] \r\n",
       "rec usage \"verificationCase\" as E6  <<(T,blue) verificationCase>> [[psysml:d8eec309-4539-4ef6-b593-f8d5221313a5 ]] {\r\n",
       "portout \"verdict\" as E7  [[psysml:d4b19012-2d8f-412c-81cb-04106ed54ab9 ]] \r\n",
       "portin \"v\" as E8  [[psysml:101691aa-2b16-4439-bb49-3b5a9750b72a ]] \r\n",
       "}\r\n",
       "\r\n",
       "portout \"verdict\" as E9  [[psysml:d1cc474d-a7ae-4245-8f3b-eac2c389ad3d ]] \r\n",
       "}\r\n",
       "\r\n",
       "rec usage \"verificationPlan\" as E10  <<(T,blue) verificationCase>> [[psysml:f139e62b-7bf9-43a0-a382-40038ed35c63 ]] {\r\n",
       "portin \"v\" as E11  [[psysml:e60d74c1-8e27-4253-b6e4-c059af187aab ]] \r\n",
       "portout \"verdict\" as E12  [[psysml:d1cf56c3-055d-4e01-94eb-7c3e50de0a09 ]] \r\n",
       "}\r\n",
       "\r\n",
       "@enduml\r\n",
       "\n",
       "PlantUML version 1.2020.13(Sat Jun 13 12:26:38 UTC 2020)\n",
       "(EPL source distribution)\n",
       "Java Runtime: OpenJDK Runtime Environment\n",
       "JVM: OpenJDK 64-Bit Server VM\n",
       "Default Encoding: UTF-8\n",
       "Language: en\n",
       "Country: null\n",
       "--></g></svg>"
      ]
     },
     "execution_count": 55,
     "metadata": {},
     "output_type": "execute_result"
    }
   ],
   "source": [
    "%viz --style=\"ORTHOLINE\" --view=\"Action\" \"VerificationTest\""
   ]
  },
  {
   "cell_type": "code",
   "execution_count": 56,
   "id": "6ec725cc",
   "metadata": {
    "execution": {
     "iopub.execute_input": "2021-10-03T08:26:51.625606Z",
     "iopub.status.busy": "2021-10-03T08:26:51.625199Z",
     "iopub.status.idle": "2021-10-03T08:26:51.629140Z",
     "shell.execute_reply": "2021-10-03T08:26:51.628781Z"
    }
   },
   "outputs": [
    {
     "data": {
      "image/svg+xml": [
       "<?xml version=\"1.0\" encoding=\"UTF-8\" standalone=\"no\"?><svg xmlns=\"http://www.w3.org/2000/svg\" xmlns:xlink=\"http://www.w3.org/1999/xlink\" contentScriptType=\"application/ecmascript\" contentStyleType=\"text/css\" height=\"12px\" preserveAspectRatio=\"none\" style=\"width:12px;height:12px;\" version=\"1.1\" viewBox=\"0 0 12 12\" width=\"12px\" zoomAndPan=\"magnify\"><defs/><g><!--MD5=[30fc1de5121c5abddedd55b44417fde8]\n",
       "@startuml\r\n",
       "skinparam roundcorner 20\r\n",
       "skinparam BoxPadding 20\r\n",
       "skinparam SequenceBoxBackgroundColor #white\r\n",
       "skinparam style strictuml\r\n",
       "skinparam maxMessageSize 100\r\n",
       "skinparam linetype ortho\r\n",
       "skinparam monochrome true\r\n",
       "skinparam classbackgroundcolor white\r\n",
       "skinparam shadowing false\r\n",
       "skinparam wrapWidth 300\r\n",
       "hide circle\r\n",
       "\r\n",
       "@enduml\r\n",
       "\n",
       "PlantUML version 1.2020.13(Sat Jun 13 12:26:38 UTC 2020)\n",
       "(EPL source distribution)\n",
       "Java Runtime: OpenJDK Runtime Environment\n",
       "JVM: OpenJDK 64-Bit Server VM\n",
       "Default Encoding: UTF-8\n",
       "Language: en\n",
       "Country: null\n",
       "--></g></svg>"
      ]
     },
     "execution_count": 56,
     "metadata": {},
     "output_type": "execute_result"
    }
   ],
   "source": [
    "%viz --style=\"ORTHOLINE\" --view=\"Sequence\" \"VerificationTest\""
   ]
  },
  {
   "cell_type": "code",
   "execution_count": 57,
   "id": "1c736af3",
   "metadata": {
    "execution": {
     "iopub.execute_input": "2021-10-03T08:26:51.678431Z",
     "iopub.status.busy": "2021-10-03T08:26:51.678026Z",
     "iopub.status.idle": "2021-10-03T08:26:51.731097Z",
     "shell.execute_reply": "2021-10-03T08:26:51.730738Z"
    }
   },
   "outputs": [
    {
     "data": {
      "image/svg+xml": [
       "<?xml version=\"1.0\" encoding=\"UTF-8\" standalone=\"no\"?><svg xmlns=\"http://www.w3.org/2000/svg\" xmlns:xlink=\"http://www.w3.org/1999/xlink\" contentScriptType=\"application/ecmascript\" contentStyleType=\"text/css\" height=\"628px\" preserveAspectRatio=\"none\" style=\"width:1172px;height:628px;\" version=\"1.1\" viewBox=\"0 0 1172 628\" width=\"1172px\" zoomAndPan=\"magnify\"><defs/><g><!--MD5=[fbc87193dbaf4d95561dea2c320d4a47]\n",
       "cluster E1--><a href=\"psysml:7303dfcd-df1a-4034-bc74-eb93457ec7c0\" target=\"_top\" title=\"psysml:7303dfcd-df1a-4034-bc74-eb93457ec7c0\" xlink:actuate=\"onRequest\" xlink:href=\"psysml:7303dfcd-df1a-4034-bc74-eb93457ec7c0\" xlink:show=\"new\" xlink:title=\"psysml:7303dfcd-df1a-4034-bc74-eb93457ec7c0\" xlink:type=\"simple\"><polygon fill=\"#FFFFFF\" points=\"16,6,128,6,135,28.2969,1150,28.2969,1150,616,16,616,16,6\" style=\"stroke: #000000; stroke-width: 1.5;\"/><line style=\"stroke: #000000; stroke-width: 1.5;\" x1=\"16\" x2=\"135\" y1=\"28.2969\" y2=\"28.2969\"/><text fill=\"#000000\" font-family=\"sans-serif\" font-size=\"14\" font-weight=\"bold\" lengthAdjust=\"spacingAndGlyphs\" textLength=\"106\" x=\"20\" y=\"20.9951\">VerificationTest</text></a><!--MD5=[14e3b0961a2654348d326746436168a1]\n",
       "cluster E6--><a href=\"psysml:f44943ce-87bd-4d2b-91db-f66bd879bf72\" target=\"_top\" title=\"psysml:f44943ce-87bd-4d2b-91db-f66bd879bf72\" xlink:actuate=\"onRequest\" xlink:href=\"psysml:f44943ce-87bd-4d2b-91db-f66bd879bf72\" xlink:show=\"new\" xlink:title=\"psysml:f44943ce-87bd-4d2b-91db-f66bd879bf72\" xlink:type=\"simple\"><rect fill=\"#FFFFFF\" height=\"310\" id=\"E6\" style=\"stroke: #383838; stroke-width: 1.5;\" width=\"200\" x=\"934\" y=\"64\"/><rect fill=\"#F8F8F8\" height=\"37.9375\" style=\"stroke: #383838; stroke-width: 1.5;\" width=\"200\" x=\"934\" y=\"64\"/><text fill=\"#000000\" font-family=\"sans-serif\" font-size=\"12\" font-style=\"italic\" lengthAdjust=\"spacingAndGlyphs\" textLength=\"137\" x=\"965.5\" y=\"80.1387\">«verificationCase def»</text><text fill=\"#000000\" font-family=\"sans-serif\" font-size=\"12\" lengthAdjust=\"spacingAndGlyphs\" textLength=\"101\" x=\"983.5\" y=\"94.1074\">VerificationCase</text></a><!--MD5=[7f149f147074ac12df2cb0a7728a5fb0]\n",
       "cluster E9--><a href=\"psysml:109e665d-9569-4e28-8454-db86a3b7365b\" target=\"_top\" title=\"psysml:109e665d-9569-4e28-8454-db86a3b7365b\" xlink:actuate=\"onRequest\" xlink:href=\"psysml:109e665d-9569-4e28-8454-db86a3b7365b\" xlink:show=\"new\" xlink:title=\"psysml:109e665d-9569-4e28-8454-db86a3b7365b\" xlink:type=\"simple\"><rect fill=\"#FFFFFF\" height=\"410.5\" id=\"E9\" style=\"stroke: #383838; stroke-width: 1.5;\" width=\"322\" x=\"344\" y=\"181.5\"/><rect fill=\"#F8F8F8\" height=\"37.9375\" style=\"stroke: #383838; stroke-width: 1.5;\" width=\"322\" x=\"344\" y=\"181.5\"/><text fill=\"#000000\" font-family=\"sans-serif\" font-size=\"12\" font-style=\"italic\" lengthAdjust=\"spacingAndGlyphs\" textLength=\"137\" x=\"436.5\" y=\"197.6387\">«verificationCase def»</text><text fill=\"#000000\" font-family=\"sans-serif\" font-size=\"12\" lengthAdjust=\"spacingAndGlyphs\" textLength=\"97\" x=\"456.5\" y=\"211.6074\">VerificationPlan</text></a><!--MD5=[917b9dd0c7eca3ee5f47219d1a84c0ad]\n",
       "cluster E11--><a href=\"psysml:d8eec309-4539-4ef6-b593-f8d5221313a5\" target=\"_top\" title=\"psysml:d8eec309-4539-4ef6-b593-f8d5221313a5\" xlink:actuate=\"onRequest\" xlink:href=\"psysml:d8eec309-4539-4ef6-b593-f8d5221313a5\" xlink:show=\"new\" xlink:title=\"psysml:d8eec309-4539-4ef6-b593-f8d5221313a5\" xlink:type=\"simple\"><rect fill=\"#FFFFFF\" height=\"239\" id=\"E11\" rx=\"10\" ry=\"10\" style=\"stroke: #383838; stroke-width: 1.5;\" width=\"174\" x=\"454\" y=\"315\"/><rect fill=\"#F8F8F8\" height=\"37.9375\" rx=\"10\" ry=\"10\" style=\"stroke: #F8F8F8; stroke-width: 1.5;\" width=\"174\" x=\"454\" y=\"315\"/><rect fill=\"#F8F8F8\" height=\"10\" style=\"stroke: #F8F8F8; stroke-width: 1.5;\" width=\"174\" x=\"454\" y=\"342.9375\"/><rect fill=\"none\" height=\"239\" id=\"E11\" rx=\"10\" ry=\"10\" style=\"stroke: #383838; stroke-width: 1.5;\" width=\"174\" x=\"454\" y=\"315\"/><text fill=\"#000000\" font-family=\"sans-serif\" font-size=\"12\" font-style=\"italic\" lengthAdjust=\"spacingAndGlyphs\" textLength=\"113\" x=\"484.5\" y=\"331.1387\">«verificationCase»</text><text fill=\"#000000\" font-family=\"sans-serif\" font-size=\"12\" lengthAdjust=\"spacingAndGlyphs\" textLength=\"99\" x=\"491.5\" y=\"345.1074\">verificationCase</text><line style=\"stroke: #383838; stroke-width: 1.0;\" x1=\"454\" x2=\"628\" y1=\"352.9375\" y2=\"352.9375\"/></a><!--MD5=[b4997ac47864f28c2f74865a473b2911]\n",
       "class E2--><a href=\"psysml:ee2cd088-4b38-485a-bdcf-f034eebaa933\" target=\"_top\" title=\"psysml:ee2cd088-4b38-485a-bdcf-f034eebaa933\" xlink:actuate=\"onRequest\" xlink:href=\"psysml:ee2cd088-4b38-485a-bdcf-f034eebaa933\" xlink:show=\"new\" xlink:title=\"psysml:ee2cd088-4b38-485a-bdcf-f034eebaa933\" xlink:type=\"simple\"><rect fill=\"#FFFFFF\" height=\"45.9375\" id=\"E2\" style=\"stroke: #383838; stroke-width: 1.5;\" width=\"66\" x=\"849\" y=\"158.5\"/><text fill=\"#000000\" font-family=\"sans-serif\" font-size=\"12\" font-style=\"italic\" lengthAdjust=\"spacingAndGlyphs\" textLength=\"64\" x=\"850\" y=\"174.6387\">«part def»</text><text fill=\"#000000\" font-family=\"sans-serif\" font-size=\"12\" lengthAdjust=\"spacingAndGlyphs\" textLength=\"8\" x=\"878\" y=\"188.6074\">V</text><line style=\"stroke: #383838; stroke-width: 1.5;\" x1=\"850\" x2=\"914\" y1=\"196.4375\" y2=\"196.4375\"/></a><!--MD5=[09b614a08d8cba4a07c9adeb5e0fee81]\n",
       "class E3--><a href=\"psysml:ea23779d-7b91-41e0-a4d1-5f0745e774d2\" target=\"_top\" title=\"psysml:ea23779d-7b91-41e0-a4d1-5f0745e774d2\" xlink:actuate=\"onRequest\" xlink:href=\"psysml:ea23779d-7b91-41e0-a4d1-5f0745e774d2\" xlink:show=\"new\" xlink:title=\"psysml:ea23779d-7b91-41e0-a4d1-5f0745e774d2\" xlink:type=\"simple\"><rect fill=\"#FFFFFF\" height=\"45.9375\" id=\"E3\" rx=\"10\" ry=\"10\" style=\"stroke: #383838; stroke-width: 1.5;\" width=\"42\" x=\"861\" y=\"41\"/><text fill=\"#000000\" font-family=\"sans-serif\" font-size=\"12\" font-style=\"italic\" lengthAdjust=\"spacingAndGlyphs\" textLength=\"40\" x=\"862\" y=\"57.1387\">«part»</text><text fill=\"#000000\" font-family=\"sans-serif\" font-size=\"12\" lengthAdjust=\"spacingAndGlyphs\" textLength=\"28\" x=\"868\" y=\"71.1074\">vv: V</text><line style=\"stroke: #383838; stroke-width: 1.5;\" x1=\"862\" x2=\"902\" y1=\"78.9375\" y2=\"78.9375\"/></a><!--MD5=[ebbe1d658d1005bcc118a6aa81145e00]\n",
       "class E4--><a href=\"psysml:971e85b9-9957-4674-90a7-be3bf98856c5\" target=\"_top\" title=\"psysml:971e85b9-9957-4674-90a7-be3bf98856c5\" xlink:actuate=\"onRequest\" xlink:href=\"psysml:971e85b9-9957-4674-90a7-be3bf98856c5\" xlink:show=\"new\" xlink:title=\"psysml:971e85b9-9957-4674-90a7-be3bf98856c5\" xlink:type=\"simple\"><rect fill=\"#FFFFFF\" height=\"66.7422\" id=\"E4\" style=\"stroke: #383838; stroke-width: 1.5;\" width=\"117\" x=\"696.5\" y=\"148\"/><text fill=\"#000000\" font-family=\"sans-serif\" font-size=\"12\" font-style=\"italic\" lengthAdjust=\"spacingAndGlyphs\" textLength=\"115\" x=\"697.5\" y=\"164.1387\">«requirement def»</text><text fill=\"#000000\" font-family=\"sans-serif\" font-size=\"12\" lengthAdjust=\"spacingAndGlyphs\" textLength=\"8\" x=\"751\" y=\"178.1074\">R</text><line style=\"stroke: #383838; stroke-width: 1.5;\" x1=\"697.5\" x2=\"812.5\" y1=\"185.9375\" y2=\"185.9375\"/><text fill=\"#000000\" font-family=\"sans-serif\" font-size=\"11\" lengthAdjust=\"spacingAndGlyphs\" textLength=\"12\" x=\"702.5\" y=\"200.1479\">...</text><line style=\"stroke: #383838; stroke-width: 1.0;\" x1=\"697.5\" x2=\"812.5\" y1=\"206.7422\" y2=\"206.7422\"/></a><!--MD5=[270fce915f116d4de14055a7c1d9a0f3]\n",
       "class E5--><a href=\"psysml:bbcd2223-85a4-4701-a24f-5592c5712336\" target=\"_top\" title=\"psysml:bbcd2223-85a4-4701-a24f-5592c5712336\" xlink:actuate=\"onRequest\" xlink:href=\"psysml:bbcd2223-85a4-4701-a24f-5592c5712336\" xlink:show=\"new\" xlink:title=\"psysml:bbcd2223-85a4-4701-a24f-5592c5712336\" xlink:type=\"simple\"><rect fill=\"#FFFFFF\" height=\"45.9375\" id=\"E5\" rx=\"10\" ry=\"10\" style=\"stroke: #383838; stroke-width: 1.5;\" width=\"93\" x=\"708.5\" y=\"41\"/><text fill=\"#000000\" font-family=\"sans-serif\" font-size=\"12\" font-style=\"italic\" lengthAdjust=\"spacingAndGlyphs\" textLength=\"91\" x=\"709.5\" y=\"57.1387\">«requirement»</text><text fill=\"#000000\" font-family=\"sans-serif\" font-size=\"12\" lengthAdjust=\"spacingAndGlyphs\" textLength=\"21\" x=\"744.5\" y=\"71.1074\">r: R</text><line style=\"stroke: #383838; stroke-width: 1.5;\" x1=\"709.5\" x2=\"800.5\" y1=\"78.9375\" y2=\"78.9375\"/></a><!--MD5=[0c48fb7552dae8cbbef69381101a84c8]\n",
       "class E15--><a href=\"psysml:1ba0f1fa-2142-46f9-b759-d2e88bd368a2\" target=\"_top\" title=\"psysml:1ba0f1fa-2142-46f9-b759-d2e88bd368a2\" xlink:actuate=\"onRequest\" xlink:href=\"psysml:1ba0f1fa-2142-46f9-b759-d2e88bd368a2\" xlink:show=\"new\" xlink:title=\"psysml:1ba0f1fa-2142-46f9-b759-d2e88bd368a2\" xlink:type=\"simple\"><rect fill=\"#FFFFFF\" height=\"45.9375\" id=\"E15\" rx=\"10\" ry=\"10\" style=\"stroke: #383838; stroke-width: 1.5;\" width=\"122\" x=\"74\" y=\"41\"/><text fill=\"#000000\" font-family=\"sans-serif\" font-size=\"12\" font-style=\"italic\" lengthAdjust=\"spacingAndGlyphs\" textLength=\"40\" x=\"115\" y=\"57.1387\">«part»</text><text fill=\"#000000\" font-family=\"sans-serif\" font-size=\"12\" lengthAdjust=\"spacingAndGlyphs\" textLength=\"116\" x=\"77\" y=\"71.1074\">verificationContext</text><line style=\"stroke: #383838; stroke-width: 1.5;\" x1=\"75\" x2=\"195\" y1=\"78.9375\" y2=\"78.9375\"/></a><!--MD5=[35f0587eaee8d5bb9a02e25b63afc23b]\n",
       "class E16--><a href=\"psysml:f139e62b-7bf9-43a0-a382-40038ed35c63\" target=\"_top\" title=\"psysml:f139e62b-7bf9-43a0-a382-40038ed35c63\" xlink:actuate=\"onRequest\" xlink:href=\"psysml:f139e62b-7bf9-43a0-a382-40038ed35c63\" xlink:show=\"new\" xlink:title=\"psysml:f139e62b-7bf9-43a0-a382-40038ed35c63\" xlink:type=\"simple\"><rect fill=\"#FFFFFF\" height=\"45.9375\" id=\"E16\" rx=\"10\" ry=\"10\" style=\"stroke: #383838; stroke-width: 1.5;\" width=\"206\" x=\"32\" y=\"158.5\"/><text fill=\"#000000\" font-family=\"sans-serif\" font-size=\"12\" font-style=\"italic\" lengthAdjust=\"spacingAndGlyphs\" textLength=\"113\" x=\"78.5\" y=\"174.6387\">«verificationCase»</text><text fill=\"#000000\" font-family=\"sans-serif\" font-size=\"12\" lengthAdjust=\"spacingAndGlyphs\" textLength=\"200\" x=\"35\" y=\"188.6074\">verificationPlan: VerificationPlan</text><line style=\"stroke: #383838; stroke-width: 1.5;\" x1=\"33\" x2=\"237\" y1=\"196.4375\" y2=\"196.4375\"/></a><!--MD5=[60e55a4a9b2f0dc0a36787c5a2095786]\n",
       "class E17--><a href=\"psysml:fe640fc2-093c-44fe-a9fd-0ceecb8f463c\" target=\"_top\" title=\"psysml:fe640fc2-093c-44fe-a9fd-0ceecb8f463c\" xlink:actuate=\"onRequest\" xlink:href=\"psysml:fe640fc2-093c-44fe-a9fd-0ceecb8f463c\" xlink:show=\"new\" xlink:title=\"psysml:fe640fc2-093c-44fe-a9fd-0ceecb8f463c\" xlink:type=\"simple\"><rect fill=\"#FFFFFF\" height=\"45.9375\" id=\"E17\" rx=\"10\" ry=\"10\" style=\"stroke: #383838; stroke-width: 1.5;\" width=\"93\" x=\"88.5\" y=\"292\"/><text fill=\"#000000\" font-family=\"sans-serif\" font-size=\"12\" font-style=\"italic\" lengthAdjust=\"spacingAndGlyphs\" textLength=\"91\" x=\"89.5\" y=\"308.1387\">«requirement»</text><text fill=\"#000000\" font-family=\"sans-serif\" font-size=\"12\" lengthAdjust=\"spacingAndGlyphs\" textLength=\"19\" x=\"125.5\" y=\"322.1074\">obj</text><line style=\"stroke: #383838; stroke-width: 1.5;\" x1=\"89.5\" x2=\"180.5\" y1=\"329.9375\" y2=\"329.9375\"/></a><text fill=\"#000000\" font-family=\"sans-serif\" font-size=\"14\" lengthAdjust=\"spacingAndGlyphs\" textLength=\"7\" x=\"1030.5\" y=\"42.6982\">v</text><rect fill=\"#383838\" height=\"12\" style=\"stroke: #F8F8F8; stroke-width: 1.5;\" width=\"12\" x=\"1028\" y=\"58\"/><text fill=\"#000000\" font-family=\"sans-serif\" font-size=\"14\" lengthAdjust=\"spacingAndGlyphs\" textLength=\"46\" x=\"1011\" y=\"392.9951\">verdict</text><rect fill=\"#383838\" height=\"12\" style=\"stroke: #F8F8F8; stroke-width: 1.5;\" width=\"12\" x=\"1028\" y=\"368\"/><text fill=\"#000000\" font-family=\"sans-serif\" font-size=\"14\" lengthAdjust=\"spacingAndGlyphs\" textLength=\"7\" x=\"358.5\" y=\"160.1982\">v</text><rect fill=\"#383838\" height=\"12\" style=\"stroke: #F8F8F8; stroke-width: 1.5;\" width=\"12\" x=\"356\" y=\"175.5\"/><text fill=\"#000000\" font-family=\"sans-serif\" font-size=\"14\" lengthAdjust=\"spacingAndGlyphs\" textLength=\"46\" x=\"643\" y=\"499.9951\">verdict</text><rect fill=\"#383838\" height=\"12\" style=\"stroke: #F8F8F8; stroke-width: 1.5;\" width=\"12\" x=\"660\" y=\"475\"/><text fill=\"#000000\" font-family=\"sans-serif\" font-size=\"14\" lengthAdjust=\"spacingAndGlyphs\" textLength=\"46\" x=\"518\" y=\"572.9951\">verdict</text><rect fill=\"#383838\" height=\"12\" style=\"stroke: #F8F8F8; stroke-width: 1.5;\" width=\"12\" x=\"535\" y=\"548\"/><text fill=\"#000000\" font-family=\"sans-serif\" font-size=\"14\" lengthAdjust=\"spacingAndGlyphs\" textLength=\"7\" x=\"537.5\" y=\"293.6982\">v</text><rect fill=\"#383838\" height=\"12\" style=\"stroke: #F8F8F8; stroke-width: 1.5;\" width=\"12\" x=\"535\" y=\"309\"/><!--MD5=[05d275557350bfb9b23a4ef7222b4c39]\n",
       "link E3 to E2--><a href=\"psysml:2b222a15-a90b-432a-993d-d339516ea993\" target=\"_top\" title=\"psysml:2b222a15-a90b-432a-993d-d339516ea993\" xlink:actuate=\"onRequest\" xlink:href=\"psysml:2b222a15-a90b-432a-993d-d339516ea993\" xlink:show=\"new\" xlink:title=\"psysml:2b222a15-a90b-432a-993d-d339516ea993\" xlink:type=\"simple\"><path d=\"M882,87.21 C882,87.21 882,138.33 882,138.33 \" fill=\"none\" id=\"E3-&gt;E2\" style=\"stroke: #383838; stroke-width: 1.0;\"/><polygon fill=\"#FFFFFF\" points=\"882,158.33,875,139.33,889,139.33,882,158.33\" style=\"stroke: #383838; stroke-width: 1.0;\"/><ellipse cx=\"877\" cy=\"133.63\" fill=\"#383838\" rx=\"2\" ry=\"2\" style=\"stroke: #383838; stroke-width: 1.0;\"/><ellipse cx=\"887\" cy=\"133.63\" fill=\"#383838\" rx=\"2\" ry=\"2\" style=\"stroke: #383838; stroke-width: 1.0;\"/></a><!--MD5=[1c62de2aa5b76f0fb657ff8443a1a700]\n",
       "link E5 to E4--><a href=\"psysml:4afeeb28-a204-4e17-a080-31f9a6d380ec\" target=\"_top\" title=\"psysml:4afeeb28-a204-4e17-a080-31f9a6d380ec\" xlink:actuate=\"onRequest\" xlink:href=\"psysml:4afeeb28-a204-4e17-a080-31f9a6d380ec\" xlink:show=\"new\" xlink:title=\"psysml:4afeeb28-a204-4e17-a080-31f9a6d380ec\" xlink:type=\"simple\"><path d=\"M755,87.21 C755,87.21 755,127.65 755,127.65 \" fill=\"none\" id=\"E5-&gt;E4\" style=\"stroke: #383838; stroke-width: 1.0;\"/><polygon fill=\"#FFFFFF\" points=\"755,147.65,748,128.65,762,128.65,755,147.65\" style=\"stroke: #383838; stroke-width: 1.0;\"/><ellipse cx=\"750\" cy=\"122.95\" fill=\"#383838\" rx=\"2\" ry=\"2\" style=\"stroke: #383838; stroke-width: 1.0;\"/><ellipse cx=\"760\" cy=\"122.95\" fill=\"#383838\" rx=\"2\" ry=\"2\" style=\"stroke: #383838; stroke-width: 1.0;\"/></a><!--MD5=[58e4cf537c4d67f6b3da95fd5b934e63]\n",
       "reverse link E15 to E16--><a href=\"psysml:4d9ca163-dfe0-49d5-81cb-3058dc3dad3f\" target=\"_top\" title=\"psysml:4d9ca163-dfe0-49d5-81cb-3058dc3dad3f\" xlink:actuate=\"onRequest\" xlink:href=\"psysml:4d9ca163-dfe0-49d5-81cb-3058dc3dad3f\" xlink:show=\"new\" xlink:title=\"psysml:4d9ca163-dfe0-49d5-81cb-3058dc3dad3f\" xlink:type=\"simple\"><path d=\"M135,100.21 C135,100.21 135,158.33 135,158.33 \" fill=\"none\" id=\"E15&lt;-E16\" style=\"stroke: #383838; stroke-width: 1.0;\"/><polygon fill=\"#383838\" points=\"135,87.21,131,93.21,135,99.21,139,93.21,135,87.21\" style=\"stroke: #383838; stroke-width: 1.0;\"/></a><!--MD5=[4de2d328c39b6d65fb95a84ef336270e]\n",
       "link E16 to E9--><a href=\"psysml:cd73bb42-520f-4e04-8240-7f040abbe442\" target=\"_top\" title=\"psysml:cd73bb42-520f-4e04-8240-7f040abbe442\" xlink:actuate=\"onRequest\" xlink:href=\"psysml:cd73bb42-520f-4e04-8240-7f040abbe442\" xlink:show=\"new\" xlink:title=\"psysml:cd73bb42-520f-4e04-8240-7f040abbe442\" xlink:type=\"simple\"><path d=\"M209.75,204.75 C209.75,243 209.75,315 209.75,315 C209.75,315 242.65,315 277.86,315 \" fill=\"none\" id=\"E16-&gt;E9\" style=\"stroke: #383838; stroke-width: 1.0;\"/><polygon fill=\"#FFFFFF\" points=\"277.86,315,258.86,322,258.86,308,277.86,315\" style=\"stroke: #383838; stroke-width: 1.0;\"/><ellipse cx=\"253.16\" cy=\"320\" fill=\"#383838\" rx=\"2\" ry=\"2\" style=\"stroke: #383838; stroke-width: 1.0;\"/><ellipse cx=\"253.16\" cy=\"310\" fill=\"#383838\" rx=\"2\" ry=\"2\" style=\"stroke: #383838; stroke-width: 1.0;\"/></a><!--MD5=[450e3481f1c83a03a55fcf78b0bbbde6]\n",
       "link E16 to E17--><a href=\"psysml:e29f10bd-d5bc-4797-97ab-a37fb0e5db5b\" target=\"_top\" title=\"psysml:e29f10bd-d5bc-4797-97ab-a37fb0e5db5b\" xlink:actuate=\"onRequest\" xlink:href=\"psysml:e29f10bd-d5bc-4797-97ab-a37fb0e5db5b\" xlink:show=\"new\" xlink:title=\"psysml:e29f10bd-d5bc-4797-97ab-a37fb0e5db5b\" xlink:type=\"simple\"><path d=\"M135,204.75 C135,204.75 135,283.56 135,283.56 \" fill=\"none\" id=\"E16-&gt;E17\" style=\"stroke: #383838; stroke-width: 1.0;\"/><polygon fill=\"#383838\" points=\"135,291.56,138,283.56,132,283.56,135,291.56\" style=\"stroke: #383838; stroke-width: 1.0;\"/><text fill=\"#000000\" font-family=\"sans-serif\" font-size=\"13\" lengthAdjust=\"spacingAndGlyphs\" textLength=\"73\" x=\"136\" y=\"258.0669\">«objective»</text><text fill=\"#000000\" font-family=\"sans-serif\" font-size=\"13\" lengthAdjust=\"spacingAndGlyphs\" textLength=\"7\" x=\"127.1469\" y=\"281.1091\">*</text></a><!--MD5=[dce91e314c006be3aa287e13ed637ceb]\n",
       "@startuml\r\n",
       "skinparam linetype ortho\r\n",
       "skinparam monochrome true\r\n",
       "skinparam classbackgroundcolor white\r\n",
       "skinparam shadowing false\r\n",
       "skinparam wrapWidth 300\r\n",
       "hide circle\r\n",
       "\r\n",
       "package \"VerificationTest\" as E1  [[psysml:7303dfcd-df1a-4034-bc74-eb93457ec7c0 ]]  {\r\n",
       "comp def \"V\" as E2  <<(T,blue) part def>> [[psysml:ee2cd088-4b38-485a-bdcf-f034eebaa933 ]] {\r\n",
       "}\r\n",
       "comp usage \"vv: V\" as E3  <<(T,blue) part>> [[psysml:ea23779d-7b91-41e0-a4d1-5f0745e774d2 ]] {\r\n",
       "}\r\n",
       "comp def \"R\" as E4  <<(T,blue) requirement def>> [[psysml:971e85b9-9957-4674-90a7-be3bf98856c5 ]] {\r\n",
       "...\r\n",
       "- -\r\n",
       "}\r\n",
       "comp usage \"r: R\" as E5  <<(T,blue) requirement>> [[psysml:bbcd2223-85a4-4701-a24f-5592c5712336 ]] {\r\n",
       "}\r\n",
       "rec def \"VerificationCase\" as E6  <<(T,blue) verificationCase def>> [[psysml:f44943ce-87bd-4d2b-91db-f66bd879bf72 ]] {\r\n",
       "portin \"v\" as E7  [[psysml:39e4c68a-7e48-4018-a595-005447bc25d1 ]] \r\n",
       "portout \"verdict\" as E8  [[psysml:e7480a5a-bc03-4bfb-926c-ff77790341ab ]] \r\n",
       "}\r\n",
       "\r\n",
       "rec def \"VerificationPlan\" as E9  <<(T,blue) verificationCase def>> [[psysml:109e665d-9569-4e28-8454-db86a3b7365b ]] {\r\n",
       "portin \"v\" as E10  [[psysml:bc04aa0f-1251-4bd1-9492-821de83ad0f4 ]] \r\n",
       "rec usage \"verificationCase\" as E11  <<(T,blue) verificationCase>> [[psysml:d8eec309-4539-4ef6-b593-f8d5221313a5 ]] {\r\n",
       "portout \"verdict\" as E12  [[psysml:d4b19012-2d8f-412c-81cb-04106ed54ab9 ]] \r\n",
       "portin \"v\" as E13  [[psysml:101691aa-2b16-4439-bb49-3b5a9750b72a ]] \r\n",
       "}\r\n",
       "\r\n",
       "portout \"verdict\" as E14  [[psysml:d1cc474d-a7ae-4245-8f3b-eac2c389ad3d ]] \r\n",
       "}\r\n",
       "\r\n",
       "comp usage \"verificationContext\" as E15  <<(T,blue) part>> [[psysml:1ba0f1fa-2142-46f9-b759-d2e88bd368a2 ]] {\r\n",
       "}\r\n",
       "comp usage \"verificationPlan: VerificationPlan\" as E16  <<(T,blue) verificationCase>> [[psysml:f139e62b-7bf9-43a0-a382-40038ed35c63 ]] {\r\n",
       "}\r\n",
       "comp usage \"obj\" as E17  <<(T,blue) requirement>> [[psysml:fe640fc2-093c-44fe-a9fd-0ceecb8f463c ]] {\r\n",
       "}\r\n",
       "}\r\n",
       "E3 - -:|> E2 [[psysml:2b222a15-a90b-432a-993d-d339516ea993 ]] \r\n",
       "E5 - -:|> E4 [[psysml:4afeeb28-a204-4e17-a080-31f9a6d380ec ]] \r\n",
       "E15 *- - E16 [[psysml:4d9ca163-dfe0-49d5-81cb-3058dc3dad3f ]] \r\n",
       "E16 - -:|> E9 [[psysml:cd73bb42-520f-4e04-8240-7f040abbe442 ]] \r\n",
       "E16 - ->> \"*\"E17 [[psysml:e29f10bd-d5bc-4797-97ab-a37fb0e5db5b ]] : <<objective>>\r\n",
       "@enduml\r\n",
       "\n",
       "PlantUML version 1.2020.13(Sat Jun 13 12:26:38 UTC 2020)\n",
       "(EPL source distribution)\n",
       "Java Runtime: OpenJDK Runtime Environment\n",
       "JVM: OpenJDK 64-Bit Server VM\n",
       "Default Encoding: UTF-8\n",
       "Language: en\n",
       "Country: null\n",
       "--></g></svg>"
      ]
     },
     "execution_count": 57,
     "metadata": {},
     "output_type": "execute_result"
    }
   ],
   "source": [
    "%viz --style=\"ORTHOLINE\" --view=\"MIXED\" \"VerificationTest\""
   ]
  }
 ],
 "metadata": {
  "kernelspec": {
   "display_name": "SysML",
   "language": "sysml",
   "name": "sysml"
  },
  "language_info": {
   "codemirror_mode": "sysml",
   "file_extension": ".sysml",
   "mimetype": "text/x-sysml",
   "name": "SysML",
   "pygments_lexer": "java",
   "version": "1.0.0"
  }
 },
 "nbformat": 4,
 "nbformat_minor": 5
}
